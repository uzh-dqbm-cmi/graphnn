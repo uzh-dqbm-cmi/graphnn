{
 "cells": [
  {
   "cell_type": "code",
   "execution_count": 1,
   "metadata": {},
   "outputs": [],
   "source": [
    "%load_ext autoreload\n",
    "%autoreload 2"
   ]
  },
  {
   "cell_type": "code",
   "execution_count": 2,
   "metadata": {},
   "outputs": [
    {
     "data": {
      "text/plain": [
       "'/cluster/home/skyriakos/pyg_env/bin/python'"
      ]
     },
     "execution_count": 2,
     "metadata": {},
     "output_type": "execute_result"
    }
   ],
   "source": [
    "import sys\n",
    "sys.executable"
   ]
  },
  {
   "cell_type": "code",
   "execution_count": 3,
   "metadata": {},
   "outputs": [
    {
     "name": "stdout",
     "output_type": "stream",
     "text": [
      "/cluster/home/skyriakos/pyg_env/bin/python\r\n"
     ]
    }
   ],
   "source": [
    "!which python"
   ]
  },
  {
   "cell_type": "code",
   "execution_count": 4,
   "metadata": {},
   "outputs": [],
   "source": [
    "import os\n",
    "import sys\n",
    "import numpy as np\n",
    "import pandas as pd\n",
    "import datetime\n",
    "import seaborn as sns\n",
    "import ogb\n",
    "from tqdm import tqdm\n",
    "import hiplot as hip\n",
    "from copy import deepcopy\n",
    "import datetime"
   ]
  },
  {
   "cell_type": "code",
   "execution_count": 5,
   "metadata": {},
   "outputs": [
    {
     "name": "stdout",
     "output_type": "stream",
     "text": [
      "torch.__version__='1.11.0+cu115'\n",
      "torch.__file__='/usr/local/lib/python3.8/dist-packages/torch/__init__.py'\n",
      "torch.cuda.device_count()=5\n",
      "torch.cuda.is_available()=True\n",
      "torch.version.cuda='11.5'\n"
     ]
    }
   ],
   "source": [
    "import torch\n",
    "\n",
    "print(f\"{torch.__version__=}\")\n",
    "print(f\"{torch.__file__=}\")\n",
    "print(f\"{torch.cuda.device_count()=}\")\n",
    "print(f\"{torch.cuda.is_available()=}\")\n",
    "print(f\"{torch.version.cuda=}\")"
   ]
  },
  {
   "cell_type": "code",
   "execution_count": 6,
   "metadata": {},
   "outputs": [],
   "source": [
    "import torch\n",
    "from torch_geometric.data import Data\n",
    "from torch_geometric.loader import DataLoader\n",
    "from torch.utils.data import Subset, TensorDataset"
   ]
  },
  {
   "cell_type": "code",
   "execution_count": 7,
   "metadata": {},
   "outputs": [
    {
     "name": "stdout",
     "output_type": "stream",
     "text": [
      "/cluster/work/medinfmk/lm1-homes/skyriakos-lm1-home/data_to_migrate/chemprop_run/git/notebooks\n",
      "/cluster/work/medinfmk/lm1-homes/skyriakos-lm1-home/data_to_migrate/chemprop_run/git\n"
     ]
    }
   ],
   "source": [
    "cwd = os.getcwd()\n",
    "print(cwd)\n",
    "cwd_parent = os.path.abspath(os.path.join(cwd, os.pardir))\n",
    "print(cwd_parent)\n",
    "\n",
    "sys.path.append(cwd_parent)"
   ]
  },
  {
   "cell_type": "code",
   "execution_count": 8,
   "metadata": {},
   "outputs": [],
   "source": [
    "import deepadr\n",
    "from deepadr.dataset import *\n",
    "from deepadr.utilities import *\n",
    "from deepadr.run_workflow import *\n",
    "from deepadr.chemfeatures import *\n",
    "from deepadr.hyphelperv2 import *\n",
    "from deepadr.model_gnn_ogb import GNN, DeepAdr_SiameseTrf, ExpressionNN\n",
    "# from ogb.graphproppred import Evaluator"
   ]
  },
  {
   "cell_type": "code",
   "execution_count": 9,
   "metadata": {},
   "outputs": [],
   "source": [
    "from rdkit.Chem.Draw import IPythonConsole\n",
    "from rdkit.Chem import Draw"
   ]
  },
  {
   "cell_type": "code",
   "execution_count": 10,
   "metadata": {},
   "outputs": [],
   "source": [
    "rawdata_dir = '../data/raw/'\n",
    "processed_dir = '../data/processed/'\n",
    "up_dir = '..'"
   ]
  },
  {
   "cell_type": "code",
   "execution_count": 11,
   "metadata": {},
   "outputs": [
    {
     "name": "stdout",
     "output_type": "stream",
     "text": [
      "number of GPUs available: 5\n",
      "cuda:0, name:NVIDIA GeForce GTX 1080 Ti\n",
      "total memory available: 10.91656494140625 GB\n",
      "total memory allocated on device: 0.0 GB\n",
      "max memory allocated on device: 0.0 GB\n",
      "total memory cached on device: 0.0 GB\n",
      "max memory cached  on device: 0.0 GB\n",
      "\n",
      "cuda:1, name:NVIDIA GeForce GTX 1080 Ti\n",
      "total memory available: 10.91656494140625 GB\n",
      "total memory allocated on device: 0.0 GB\n",
      "max memory allocated on device: 0.0 GB\n",
      "total memory cached on device: 0.0 GB\n",
      "max memory cached  on device: 0.0 GB\n",
      "\n",
      "cuda:2, name:NVIDIA GeForce GTX 1080 Ti\n",
      "total memory available: 10.91656494140625 GB\n",
      "total memory allocated on device: 0.0 GB\n",
      "max memory allocated on device: 0.0 GB\n",
      "total memory cached on device: 0.0 GB\n",
      "max memory cached  on device: 0.0 GB\n",
      "\n",
      "cuda:3, name:NVIDIA GeForce GTX 1080 Ti\n",
      "total memory available: 10.91656494140625 GB\n",
      "total memory allocated on device: 0.0 GB\n",
      "max memory allocated on device: 0.0 GB\n",
      "total memory cached on device: 0.0 GB\n",
      "max memory cached  on device: 0.0 GB\n",
      "\n",
      "cuda:4, name:NVIDIA GeForce GTX 1080 Ti\n",
      "total memory available: 10.91656494140625 GB\n",
      "total memory allocated on device: 0.0 GB\n",
      "max memory allocated on device: 0.0 GB\n",
      "total memory cached on device: 0.0 GB\n",
      "max memory cached  on device: 0.0 GB\n",
      "\n"
     ]
    }
   ],
   "source": [
    "report_available_cuda_devices()"
   ]
  },
  {
   "cell_type": "code",
   "execution_count": 12,
   "metadata": {},
   "outputs": [
    {
     "data": {
      "text/plain": [
       "5"
      ]
     },
     "execution_count": 12,
     "metadata": {},
     "output_type": "execute_result"
    }
   ],
   "source": [
    "n_gpu = torch.cuda.device_count()\n",
    "# n_gpu = 1\n",
    "n_gpu"
   ]
  },
  {
   "cell_type": "code",
   "execution_count": 13,
   "metadata": {},
   "outputs": [],
   "source": [
    "device_cpu = get_device(to_gpu=False)\n",
    "# device_gpu = get_device(True, index=0)\n",
    "\n",
    "# fdtype = torch.float32"
   ]
  },
  {
   "cell_type": "code",
   "execution_count": 14,
   "metadata": {},
   "outputs": [
    {
     "name": "stdout",
     "output_type": "stream",
     "text": [
      "torch: 1.11.0+cu115\n",
      "CUDA: 11.5\n",
      "3.8.10 (default, Jun 22 2022, 20:18:18) \n",
      "[GCC 9.4.0]\n"
     ]
    }
   ],
   "source": [
    "print(\"torch:\", torch.__version__)\n",
    "print(\"CUDA:\", torch.version.cuda)\n",
    "print(sys.version)"
   ]
  },
  {
   "cell_type": "markdown",
   "metadata": {},
   "source": [
    "### Preparing dataset "
   ]
  },
  {
   "cell_type": "code",
   "execution_count": 15,
   "metadata": {},
   "outputs": [],
   "source": [
    "# options: \n",
    "# 'total_thresh' + 4,3,2\n",
    "# 'loewe_thresh', 'hsa_thresh', 'bliss_thresh', 'zip_thresh' + 1\n",
    "\n",
    "score = 'loewe_thresh'\n",
    "score_val = 1"
   ]
  },
  {
   "cell_type": "code",
   "execution_count": 16,
   "metadata": {},
   "outputs": [],
   "source": [
    "DSdataset_name = f'DrugComb_{score}_{score_val}'\n",
    "\n",
    "data_fname = 'data_v3' # v2 for baseline models, v3 for additive samples"
   ]
  },
  {
   "cell_type": "code",
   "execution_count": 17,
   "metadata": {},
   "outputs": [
    {
     "name": "stdout",
     "output_type": "stream",
     "text": [
      "path_current_dir /cluster/work/medinfmk/lm1-homes/skyriakos-lm1-home/data_to_migrate/chemprop_run/git/deepadr\n",
      "path_current_dir /cluster/work/medinfmk/lm1-homes/skyriakos-lm1-home/data_to_migrate/chemprop_run/git/deepadr\n",
      "path_current_dir /cluster/work/medinfmk/lm1-homes/skyriakos-lm1-home/data_to_migrate/chemprop_run/git/deepadr\n",
      "path_current_dir /cluster/work/medinfmk/lm1-homes/skyriakos-lm1-home/data_to_migrate/chemprop_run/git/deepadr\n",
      "/cluster/work/medinfmk/lm1-homes/skyriakos-lm1-home/data_to_migrate/chemprop_run/git/data/processed/DrugComb_zip_thresh_1/data_v3\n"
     ]
    }
   ],
   "source": [
    "targetdata_dir = create_directory(os.path.join(processed_dir, DSdataset_name, data_fname))\n",
    "targetdata_dir_raw = create_directory(os.path.join(targetdata_dir, \"raw\"))\n",
    "targetdata_dir_processed = create_directory(os.path.join(targetdata_dir, \"processed\"))\n",
    "targetdata_dir_exp = create_directory(os.path.join(targetdata_dir, \"experiments\"))\n",
    "# # ReaderWriter.dump_data(dpartitions, os.path.join(targetdata_dir, 'data_partitions.pkl'))\n",
    "print(targetdata_dir)"
   ]
  },
  {
   "cell_type": "code",
   "execution_count": 18,
   "metadata": {},
   "outputs": [
    {
     "name": "stdout",
     "output_type": "stream",
     "text": [
      "CPU times: user 68.6 ms, sys: 8.53 s, total: 8.6 s\n",
      "Wall time: 2min 21s\n"
     ]
    }
   ],
   "source": [
    "%%time\n",
    "\n",
    "# Make sure to first run the \"DDoS_Dataset_Generation\" notebook first\n",
    "\n",
    "dataset = MoleculeDataset(root=targetdata_dir)"
   ]
  },
  {
   "cell_type": "code",
   "execution_count": 19,
   "metadata": {},
   "outputs": [],
   "source": [
    "# print()\n",
    "# print(f'Dataset: {dataset}:')\n",
    "# print('====================')\n",
    "# print(f'Number of graphs: {len(dataset)}')\n",
    "# print(f'Number of features: {dataset.num_features}')\n",
    "# print(f'Number of classes: {dataset.num_classes}')"
   ]
  },
  {
   "cell_type": "code",
   "execution_count": 20,
   "metadata": {},
   "outputs": [],
   "source": [
    "# data0 = dataset[0]  # Get the first graph object.\n",
    "# data0"
   ]
  },
  {
   "cell_type": "code",
   "execution_count": 21,
   "metadata": {},
   "outputs": [],
   "source": [
    "used_dataset = dataset\n",
    "\n",
    "# If you want to use a smaller subset of the dataset for testing\n",
    "# smaller_dataset_len = int(len(dataset)/1)\n",
    "# used_dataset = dataset[:smaller_dataset_len]"
   ]
  },
  {
   "cell_type": "code",
   "execution_count": 22,
   "metadata": {},
   "outputs": [
    {
     "data": {
      "text/plain": [
       "deepadr.dataset.MoleculeDataset"
      ]
     },
     "execution_count": 22,
     "metadata": {},
     "output_type": "execute_result"
    }
   ],
   "source": [
    "type(used_dataset)"
   ]
  },
  {
   "cell_type": "code",
   "execution_count": 23,
   "metadata": {},
   "outputs": [
    {
     "data": {
      "text/plain": [
       "tensor([0, 0, 0,  ..., 0, 0, 0], dtype=torch.int32)"
      ]
     },
     "execution_count": 23,
     "metadata": {},
     "output_type": "execute_result"
    }
   ],
   "source": [
    "dataset.data.y"
   ]
  },
  {
   "cell_type": "code",
   "execution_count": 24,
   "metadata": {},
   "outputs": [
    {
     "name": "stdout",
     "output_type": "stream",
     "text": [
      "fold_num: 0\n",
      "train data\n",
      "class: 0 norm count: 0.8809858498107979\n",
      "class: 1 norm count: 0.11901415018920215\n",
      "validation data\n",
      "class: 0 norm count: 0.8809845010042869\n",
      "class: 1 norm count: 0.11901549899571304\n",
      "test data\n",
      "class: 0 norm count: 0.8809837874136608\n",
      "class: 1 norm count: 0.11901621258633922\n",
      "\n",
      "-------------------------\n",
      "fold_num: 1\n",
      "train data\n",
      "class: 0 norm count: 0.8809858498107979\n",
      "class: 1 norm count: 0.11901415018920215\n",
      "validation data\n",
      "class: 0 norm count: 0.8809845010042869\n",
      "class: 1 norm count: 0.11901549899571304\n",
      "test data\n",
      "class: 0 norm count: 0.8809837874136608\n",
      "class: 1 norm count: 0.11901621258633922\n",
      "\n",
      "-------------------------\n",
      "fold_num: 2\n",
      "train data\n",
      "class: 0 norm count: 0.8809829152357191\n",
      "class: 1 norm count: 0.11901708476428088\n",
      "validation data\n",
      "class: 0 norm count: 0.8809845010042869\n",
      "class: 1 norm count: 0.11901549899571304\n",
      "test data\n",
      "class: 0 norm count: 0.8809943519084793\n",
      "class: 1 norm count: 0.11900564809152067\n",
      "\n",
      "-------------------------\n",
      "fold_num: 3\n",
      "train data\n",
      "class: 0 norm count: 0.8809862462484469\n",
      "class: 1 norm count: 0.11901375375155308\n",
      "validation data\n",
      "class: 0 norm count: 0.8809845010042869\n",
      "class: 1 norm count: 0.11901549899571304\n",
      "test data\n",
      "class: 0 norm count: 0.8809823602067369\n",
      "class: 1 norm count: 0.11901763979326306\n",
      "\n",
      "-------------------------\n",
      "fold_num: 4\n",
      "train data\n",
      "class: 0 norm count: 0.8809862462484469\n",
      "class: 1 norm count: 0.11901375375155308\n",
      "validation data\n",
      "class: 0 norm count: 0.8809845010042869\n",
      "class: 1 norm count: 0.11901549899571304\n",
      "test data\n",
      "class: 0 norm count: 0.8809823602067369\n",
      "class: 1 norm count: 0.11901763979326306\n",
      "\n",
      "-------------------------\n"
     ]
    }
   ],
   "source": [
    "fold_partitions = get_stratified_partitions(dataset.data.y,\n",
    "                                            num_folds=5,\n",
    "                                            valid_set_portion=0.1,\n",
    "                                            random_state=42)"
   ]
  },
  {
   "cell_type": "code",
   "execution_count": 25,
   "metadata": {},
   "outputs": [
    {
     "name": "stdout",
     "output_type": "stream",
     "text": [
      "Number of training graphs: 300208\n",
      "Number of validation graphs: 33357\n",
      "Number of testing graphs: 83392\n"
     ]
    }
   ],
   "source": [
    "print(\"Number of training graphs: \"+ str(len(fold_partitions[0]['train'])))\n",
    "print(\"Number of validation graphs: \"+ str(len(fold_partitions[0]['validation'])))\n",
    "print(\"Number of testing graphs: \"+ str(len(fold_partitions[0]['test'])))"
   ]
  },
  {
   "cell_type": "code",
   "execution_count": 26,
   "metadata": {},
   "outputs": [],
   "source": [
    "# print(dataset.num_classes)"
   ]
  },
  {
   "cell_type": "code",
   "execution_count": 27,
   "metadata": {},
   "outputs": [],
   "source": [
    "# training params total_thresh 4\n",
    "tp = {\n",
    "    \"batch_size\" : 300,\n",
    "    \"num_epochs\" : 100,\n",
    "    \n",
    "    \"emb_dim\" : 100,\n",
    "    \"gnn_type\" : \"gatv2\",\n",
    "    \"num_layer\" : 5,\n",
    "    \"graph_pooling\" : \"mean\", #attention\n",
    "    \n",
    "    \"input_embed_dim\" : None,\n",
    "    \"gene_embed_dim\": 1,\n",
    "    \"num_attn_heads\" : 2,\n",
    "    \"num_transformer_units\" : 1,\n",
    "    \"p_dropout\" : 0.3,\n",
    "#     \"nonlin_func\" : nn.ReLU(),\n",
    "    \"mlp_embed_factor\" : 2,\n",
    "    \"pooling_mode\" : 'attn',\n",
    "    \"dist_opt\" : 'cosine',\n",
    "\n",
    "    \"base_lr\" : 3e-4, #3e-4\n",
    "    \"max_lr_mul\": 10,\n",
    "    \"l2_reg\" : 1e-7,\n",
    "    \"loss_w\" : 1.,\n",
    "    \"margin_v\" : 1.,\n",
    "\n",
    "    \"expression_dim\" : 64,\n",
    "    \"expression_input_size\" : 908,\n",
    "    \"exp_H1\" : 4096,\n",
    "    \"exp_H2\" : 1024\n",
    "}"
   ]
  },
  {
   "cell_type": "code",
   "execution_count": 28,
   "metadata": {},
   "outputs": [],
   "source": [
    "# tp = {\n",
    "#     \"batch_size\" : 32,\n",
    "#     \"num_epochs\" : 5,\n",
    "    \n",
    "#     \"emb_dim\" : 100,\n",
    "#     \"gnn_type\" : \"gatv2\",\n",
    "#     \"num_layer\" : 5,\n",
    "#     \"graph_pooling\" : \"mean\", #attention\n",
    "    \n",
    "#     \"input_embed_dim\" : None,\n",
    "#     \"gene_embed_dim\": 20,\n",
    "#     \"num_attn_heads\" : 2,\n",
    "#     \"num_transformer_units\" : 1,\n",
    "#     \"p_dropout\" : 0.3,\n",
    "# #     \"nonlin_func\" : nn.ReLU(),\n",
    "#     \"mlp_embed_factor\" : 2,\n",
    "#     \"pooling_mode\" : 'attn',\n",
    "#     \"dist_opt\" : 'cosine',\n",
    "\n",
    "#     \"base_lr\" : 3e-4, #3e-4\n",
    "#     \"max_lr_mul\": 10,\n",
    "#     \"l2_reg\" : 1e-7,\n",
    "#     \"loss_w\" : 1.,\n",
    "#     \"margin_v\" : 1.,\n",
    "\n",
    "#     \"expression_dim\" : 64,\n",
    "#     \"expression_input_size\" : 908,\n",
    "#     \"exp_H1\" : 4096,\n",
    "#     \"exp_H2\" : 1024\n",
    "# }"
   ]
  },
  {
   "cell_type": "code",
   "execution_count": 29,
   "metadata": {},
   "outputs": [],
   "source": [
    "# # training params total_thresh 3\n",
    "# tp = {\n",
    "#     \"batch_size\" : 300,\n",
    "#     \"num_epochs\" : 200,\n",
    "    \n",
    "#     \"emb_dim\" : 300,\n",
    "#     \"gnn_type\" : \"gatv2\",\n",
    "#     \"num_layer\" : 5,\n",
    "#     \"graph_pooling\" : \"mean\", #attention\n",
    "    \n",
    "#     \"input_embed_dim\" : None,\n",
    "#     \"gene_embed_dim\": 1,\n",
    "#     \"num_attn_heads\" : 2,\n",
    "#     \"num_transformer_units\" : 1,\n",
    "#     \"p_dropout\" : 0.3,\n",
    "# #     \"nonlin_func\" : nn.ReLU(),\n",
    "#     \"mlp_embed_factor\" : 2,\n",
    "#     \"pooling_mode\" : 'attn',\n",
    "#     \"dist_opt\" : 'cosine',\n",
    "\n",
    "#     \"base_lr\" : 3e-5, #3e-4\n",
    "#     \"max_lr_mul\": 10,\n",
    "#     \"l2_reg\" : 1e-8,\n",
    "#     \"loss_w\" : 0.3,\n",
    "#     \"margin_v\" : 1.,\n",
    "\n",
    "#     \"expression_dim\" : 64,\n",
    "#     \"expression_input_size\" : 908,\n",
    "#     \"exp_H1\" : 500,\n",
    "#     \"exp_H2\" : 400\n",
    "# }"
   ]
  },
  {
   "cell_type": "code",
   "execution_count": 30,
   "metadata": {},
   "outputs": [],
   "source": [
    "def spawn_q_process(q_process):\n",
    "    print(\">>> spawning hyperparam search process\")\n",
    "    q_process.start()\n",
    "    \n",
    "def join_q_process(q_process):\n",
    "    q_process.join()\n",
    "    print(\"<<< joined hyperparam search process\")\n",
    "    \n",
    "def create_q_process(queue, used_dataset, gpu_num, tphp, exp_dir, partition):\n",
    "#     fold_gpu_map = {0:gpu_num}\n",
    "    return mp.Process(target=deepadr.hyphelperv2.run_exp, args=(queue, used_dataset, gpu_num, tphp, exp_dir, partition))"
   ]
  },
  {
   "cell_type": "code",
   "execution_count": 31,
   "metadata": {},
   "outputs": [
    {
     "data": {
      "text/plain": [
       "5"
      ]
     },
     "execution_count": 31,
     "metadata": {},
     "output_type": "execute_result"
    }
   ],
   "source": [
    "n_gpu"
   ]
  },
  {
   "cell_type": "code",
   "execution_count": 32,
   "metadata": {},
   "outputs": [
    {
     "data": {
      "text/plain": [
       "range(0, 5)"
      ]
     },
     "execution_count": 32,
     "metadata": {},
     "output_type": "execute_result"
    }
   ],
   "source": [
    "range(min(n_gpu, len(fold_partitions)))"
   ]
  },
  {
   "cell_type": "code",
   "execution_count": null,
   "metadata": {},
   "outputs": [],
   "source": []
  },
  {
   "cell_type": "code",
   "execution_count": 33,
   "metadata": {
    "scrolled": false
   },
   "outputs": [
    {
     "name": "stdout",
     "output_type": "stream",
     "text": [
      "Start: 2022-09-13_12-06-11\n",
      "path_current_dir /cluster/work/medinfmk/lm1-homes/skyriakos-lm1-home/data_to_migrate/chemprop_run/git/deepadr\n",
      "path_current_dir /cluster/work/medinfmk/lm1-homes/skyriakos-lm1-home/data_to_migrate/chemprop_run/git/deepadr\n",
      "path_current_dir /cluster/work/medinfmk/lm1-homes/skyriakos-lm1-home/data_to_migrate/chemprop_run/git/deepadr\n",
      ">>> spawning hyperparam search process\n",
      "path_current_dir /cluster/work/medinfmk/lm1-homes/skyriakos-lm1-home/data_to_migrate/chemprop_run/git/deepadr\n",
      "path_current_dir /cluster/work/medinfmk/lm1-homes/skyriakos-lm1-home/data_to_migrate/chemprop_run/git/deepadr\n",
      "path_current_dir /cluster/work/medinfmk/lm1-homes/skyriakos-lm1-home/data_to_migrate/chemprop_run/git/deepadr\n",
      ">>> spawning hyperparam search process\n",
      "gpu: cuda:0\n",
      "Dropout(p=0.3, inplace=False) Dropout(p=0.3, inplace=False)\n",
      "=====Epoch 0\n",
      "Training...\n"
     ]
    },
    {
     "name": "stderr",
     "output_type": "stream",
     "text": [
      "\r",
      "Iteration:   0%|          | 0/1001 [00:00<?, ?it/s]"
     ]
    },
    {
     "name": "stdout",
     "output_type": "stream",
     "text": [
      "path_current_dir /cluster/work/medinfmk/lm1-homes/skyriakos-lm1-home/data_to_migrate/chemprop_run/git/deepadr\n",
      "path_current_dir /cluster/work/medinfmk/lm1-homes/skyriakos-lm1-home/data_to_migrate/chemprop_run/git/deepadr\n",
      "path_current_dir /cluster/work/medinfmk/lm1-homes/skyriakos-lm1-home/data_to_migrate/chemprop_run/git/deepadr\n",
      ">>> spawning hyperparam search process\n",
      "gpu: cuda:1\n",
      "Dropout(p=0.3, inplace=False) Dropout(p=0.3, inplace=False)\n",
      "=====Epoch 0\n",
      "Training...\n"
     ]
    },
    {
     "name": "stderr",
     "output_type": "stream",
     "text": [
      "\r",
      "Iteration:   0%|          | 0/1001 [00:00<?, ?it/s]\r",
      "Iteration:   0%|          | 1/1001 [00:04<1:19:43,  4.78s/it]"
     ]
    },
    {
     "name": "stdout",
     "output_type": "stream",
     "text": [
      "path_current_dir /cluster/work/medinfmk/lm1-homes/skyriakos-lm1-home/data_to_migrate/chemprop_run/git/deepadr\n",
      "path_current_dir /cluster/work/medinfmk/lm1-homes/skyriakos-lm1-home/data_to_migrate/chemprop_run/git/deepadr\n",
      "path_current_dir /cluster/work/medinfmk/lm1-homes/skyriakos-lm1-home/data_to_migrate/chemprop_run/git/deepadr\n",
      ">>> spawning hyperparam search process\n"
     ]
    },
    {
     "name": "stderr",
     "output_type": "stream",
     "text": [
      "Iteration:   0%|          | 0/1001 [00:00<?, ?it/s]9.18it/s] "
     ]
    },
    {
     "name": "stdout",
     "output_type": "stream",
     "text": [
      "gpu: cuda:2\n",
      "Dropout(p=0.3, inplace=False) Dropout(p=0.3, inplace=False)\n",
      "=====Epoch 0\n",
      "Training...\n"
     ]
    },
    {
     "name": "stderr",
     "output_type": "stream",
     "text": [
      "Iteration:   1%|          | 11/1001 [00:06<03:03,  5.38it/s]"
     ]
    },
    {
     "name": "stdout",
     "output_type": "stream",
     "text": [
      "path_current_dir /cluster/work/medinfmk/lm1-homes/skyriakos-lm1-home/data_to_migrate/chemprop_run/git/deepadr\n",
      "path_current_dir /cluster/work/medinfmk/lm1-homes/skyriakos-lm1-home/data_to_migrate/chemprop_run/git/deepadr\n",
      "path_current_dir /cluster/work/medinfmk/lm1-homes/skyriakos-lm1-home/data_to_migrate/chemprop_run/git/deepadr\n",
      ">>> spawning hyperparam search process\n"
     ]
    },
    {
     "name": "stderr",
     "output_type": "stream",
     "text": [
      "Iteration:   1%|          | 9/1001 [00:05<03:59,  4.14it/s]]"
     ]
    },
    {
     "name": "stdout",
     "output_type": "stream",
     "text": [
      "gpu: cuda:3\n",
      "Dropout(p=0.3, inplace=False) Dropout(p=0.3, inplace=False)\n",
      "=====Epoch 0\n",
      "Training...\n"
     ]
    },
    {
     "name": "stderr",
     "output_type": "stream",
     "text": [
      "Iteration:   1%|▏         | 13/1001 [00:06<02:38,  6.22it/s]]"
     ]
    },
    {
     "name": "stdout",
     "output_type": "stream",
     "text": [
      "gpu: cuda:4\n",
      "Dropout(p=0.3, inplace=False) Dropout(p=0.3, inplace=False)\n",
      "=====Epoch 0\n",
      "Training...\n"
     ]
    },
    {
     "name": "stderr",
     "output_type": "stream",
     "text": [
      "Iteration:  91%|█████████ | 913/1001 [02:02<00:10,  8.23it/s]]\n",
      "Iteration:  91%|█████████▏| 914/1001 [02:02<00:10,  8.17it/s]"
     ]
    },
    {
     "name": "stdout",
     "output_type": "stream",
     "text": [
      "Evaluating...\n"
     ]
    },
    {
     "name": "stderr",
     "output_type": "stream",
     "text": [
      "Iteration: 100%|██████████| 1001/1001 [02:08<00:00,  7.78it/s]\n",
      "Iteration:   2%|▏         | 21/1001 [00:01<00:50, 19.42it/s]]"
     ]
    },
    {
     "name": "stdout",
     "output_type": "stream",
     "text": [
      "Evaluating...\n"
     ]
    },
    {
     "name": "stderr",
     "output_type": "stream",
     "text": [
      "Iteration: 100%|██████████| 1001/1001 [02:13<00:00,  7.48it/s]\n",
      "Iteration:   0%|          | 2/1001 [00:00<01:07, 14.70it/s]s]"
     ]
    },
    {
     "name": "stdout",
     "output_type": "stream",
     "text": [
      "Evaluating...\n"
     ]
    },
    {
     "name": "stderr",
     "output_type": "stream",
     "text": [
      "Iteration: 100%|██████████| 1001/1001 [02:10<00:00,  7.69it/s]\n",
      "Iteration:  25%|██▍       | 248/1001 [00:12<00:39, 19.00it/s]"
     ]
    },
    {
     "name": "stdout",
     "output_type": "stream",
     "text": [
      "Evaluating...\n"
     ]
    },
    {
     "name": "stderr",
     "output_type": "stream",
     "text": [
      "Iteration: 100%|██████████| 1001/1001 [02:13<00:00,  7.51it/s]\n",
      "Iteration:  23%|██▎       | 229/1001 [00:11<00:36, 20.98it/s]"
     ]
    },
    {
     "name": "stdout",
     "output_type": "stream",
     "text": [
      "Evaluating...\n"
     ]
    },
    {
     "name": "stderr",
     "output_type": "stream",
     "text": [
      "Iteration:  63%|██████▎   | 627/1001 [00:31<00:19, 19.46it/s]]\n",
      "Iteration:  83%|████████▎ | 826/1001 [00:42<00:08, 19.64it/s]\n",
      "Iteration:  62%|██████▎   | 70/112 [00:07<00:04,  9.72it/s]]]]\n",
      "Iteration:  27%|██▋       | 30/112 [00:02<00:06, 12.11it/s]s]]\n",
      "Iteration:  29%|██▊       | 32/112 [00:02<00:06, 12.06it/s]s]"
     ]
    },
    {
     "name": "stdout",
     "output_type": "stream",
     "text": [
      "{'Train':  best_epoch_indx:0\n",
      " auc:0.8393513557425248 \n",
      " apur:0.3502999891472994 \n",
      " f1:0.43120060164885843 \n",
      " precision:0.28881264434454507 \n",
      " recall:0.8505135884015785 \n",
      ", 'Validation':  best_epoch_indx:0\n",
      " auc:0.8397646828705336 \n",
      " apur:0.3625278483035167 \n",
      " f1:0.42956889372878104 \n",
      " precision:0.2880336740829826 \n",
      " recall:0.8445843828715365 \n",
      "}\n",
      "=====Epoch 1\n",
      "Training...\n"
     ]
    },
    {
     "name": "stderr",
     "output_type": "stream",
     "text": [
      "Iteration:  87%|████████▋ | 870/1001 [00:44<00:06, 19.48it/s]\n",
      "Iteration:  59%|█████▉    | 66/112 [00:05<00:03, 12.04it/s]s]\n",
      "Iteration:  23%|██▎       | 26/112 [00:02<00:06, 12.33it/s]]]"
     ]
    },
    {
     "name": "stdout",
     "output_type": "stream",
     "text": [
      "{'Train':  best_epoch_indx:0\n",
      " auc:0.8385444472434206 \n",
      " apur:0.35680232500636855 \n",
      " f1:0.42850655656389947 \n",
      " precision:0.28552276324364584 \n",
      " recall:0.8583503596518235 \n",
      ", 'Validation':  best_epoch_indx:0\n",
      " auc:0.8381568547719699 \n",
      " apur:0.3552656427318469 \n",
      " f1:0.42710292089758056 \n",
      " precision:0.2842957276368491 \n",
      " recall:0.8581863979848866 \n",
      "}\n",
      "=====Epoch 1\n",
      "Training...\n"
     ]
    },
    {
     "name": "stderr",
     "output_type": "stream",
     "text": [
      "Iteration:   7%|▋         | 67/1001 [00:05<01:18, 11.86it/s]s]\n",
      "Iteration:   7%|▋         | 69/1001 [00:05<01:20, 11.57it/s]"
     ]
    },
    {
     "name": "stdout",
     "output_type": "stream",
     "text": [
      "{'Train':  best_epoch_indx:0\n",
      " auc:0.8383957596794653 \n",
      " apur:0.35514669746003485 \n",
      " f1:0.43066014977659367 \n",
      " precision:0.2870445457341797 \n",
      " recall:0.8618807724601175 \n",
      ", 'Validation':  best_epoch_indx:0\n",
      " auc:0.837065953613547 \n",
      " apur:0.35729254788549764 \n",
      " f1:0.4298383546134977 \n",
      " precision:0.286444798390477 \n",
      " recall:0.8607052896725441 \n",
      "}\n",
      "=====Epoch 1\n",
      "Training...\n"
     ]
    },
    {
     "name": "stderr",
     "output_type": "stream",
     "text": [
      "Iteration:  10%|█         | 101/1001 [00:09<01:28, 10.18it/s]\n",
      "Iteration:  12%|█▏        | 123/1001 [00:12<01:27, 10.07it/s]\n",
      "Iteration:   4%|▍         | 41/1001 [00:03<01:22, 11.64it/s]]"
     ]
    },
    {
     "name": "stdout",
     "output_type": "stream",
     "text": [
      "{'Train':  best_epoch_indx:0\n",
      " auc:0.8449877641564126 \n",
      " apur:0.36573845714275427 \n",
      " f1:0.44205566830965487 \n",
      " precision:0.2982754741712396 \n",
      " recall:0.8534523776204204 \n",
      ", 'Validation':  best_epoch_indx:0\n",
      " auc:0.8460864350049744 \n",
      " apur:0.36506717955908974 \n",
      " f1:0.4408525060288079 \n",
      " precision:0.2973709663237492 \n",
      " recall:0.851889168765743 \n",
      "}\n",
      "=====Epoch 1\n",
      "Training...\n"
     ]
    },
    {
     "name": "stderr",
     "output_type": "stream",
     "text": [
      "Iteration:  14%|█▍        | 141/1001 [00:12<01:14, 11.52it/s]\n",
      "Iteration:  14%|█▍        | 143/1001 [00:12<01:14, 11.52it/s]"
     ]
    },
    {
     "name": "stdout",
     "output_type": "stream",
     "text": [
      "{'Train':  best_epoch_indx:0\n",
      " auc:0.8386306100053746 \n",
      " apur:0.3554997664454535 \n",
      " f1:0.42737465268566477 \n",
      " precision:0.28470045482871836 \n",
      " recall:0.8566990399955219 \n",
      ", 'Validation':  best_epoch_indx:0\n",
      " auc:0.8390833169690088 \n",
      " apur:0.3655423736963419 \n",
      " f1:0.42880606443461783 \n",
      " precision:0.2861720067453626 \n",
      " recall:0.854911838790932 \n",
      "}\n",
      "=====Epoch 1\n",
      "Training...\n"
     ]
    },
    {
     "name": "stderr",
     "output_type": "stream",
     "text": [
      "Iteration: 100%|██████████| 1001/1001 [01:26<00:00, 11.58it/s]\n",
      "Iteration:  89%|████████▉ | 894/1001 [01:23<00:08, 12.15it/s]"
     ]
    },
    {
     "name": "stdout",
     "output_type": "stream",
     "text": [
      "Evaluating...\n"
     ]
    },
    {
     "name": "stderr",
     "output_type": "stream",
     "text": [
      "Iteration: 100%|██████████| 1001/1001 [01:23<00:00, 12.02it/s]\n",
      "Iteration:   0%|          | 0/1001 [00:00<?, ?it/s]"
     ]
    },
    {
     "name": "stdout",
     "output_type": "stream",
     "text": [
      "Evaluating...\n"
     ]
    },
    {
     "name": "stderr",
     "output_type": "stream",
     "text": [
      "Iteration: 100%|██████████| 1001/1001 [01:32<00:00, 10.82it/s]\n",
      "Iteration:  84%|████████▍ | 839/1001 [01:14<00:13, 12.04it/s]"
     ]
    },
    {
     "name": "stdout",
     "output_type": "stream",
     "text": [
      "Evaluating...\n"
     ]
    },
    {
     "name": "stderr",
     "output_type": "stream",
     "text": [
      "Iteration: 100%|██████████| 1001/1001 [01:32<00:00, 10.86it/s]\n",
      "Iteration:  18%|█▊        | 178/1001 [00:08<00:41, 19.99it/s]"
     ]
    },
    {
     "name": "stdout",
     "output_type": "stream",
     "text": [
      "Evaluating...\n"
     ]
    },
    {
     "name": "stderr",
     "output_type": "stream",
     "text": [
      "Iteration: 100%|██████████| 1001/1001 [01:28<00:00, 11.29it/s]\n",
      "Iteration:   0%|          | 2/1001 [00:00<01:15, 13.31it/s]s]"
     ]
    },
    {
     "name": "stdout",
     "output_type": "stream",
     "text": [
      "Evaluating...\n"
     ]
    },
    {
     "name": "stderr",
     "output_type": "stream",
     "text": [
      "Iteration:  60%|█████▉    | 600/1001 [00:29<00:24, 16.37it/s]]\n",
      "Iteration:  72%|███████▏  | 717/1001 [00:35<00:14, 20.12it/s]]\n",
      "Iteration:   0%|          | 0/1001 [00:00<?, ?it/s]\n",
      "Iteration:  82%|████████▏ | 819/1001 [00:41<00:09, 18.66it/s]]"
     ]
    },
    {
     "name": "stdout",
     "output_type": "stream",
     "text": [
      "{'Train':  best_epoch_indx:1\n",
      " auc:0.8540312519384512 \n",
      " apur:0.38259503822458796 \n",
      " f1:0.4444602515222216 \n",
      " precision:0.29795431786753135 \n",
      " recall:0.8744157407148255 \n",
      ", 'Validation':  best_epoch_indx:1\n",
      " auc:0.8528101623783851 \n",
      " apur:0.38604594193206754 \n",
      " f1:0.4427196921103271 \n",
      " precision:0.2969879518072289 \n",
      " recall:0.8692695214105793 \n",
      "}\n",
      "=====Epoch 2\n",
      "Training...\n"
     ]
    },
    {
     "name": "stderr",
     "output_type": "stream",
     "text": [
      "Iteration:  87%|████████▋ | 869/1001 [00:43<00:06, 20.13it/s]\n",
      "Iteration:   6%|▌         | 59/1001 [00:05<01:31, 10.34it/s]]\n",
      "Iteration:   6%|▌         | 61/1001 [00:05<01:33, 10.05it/s]]"
     ]
    },
    {
     "name": "stdout",
     "output_type": "stream",
     "text": [
      "{'Train':  best_epoch_indx:1\n",
      " auc:0.8556122178696276 \n",
      " apur:0.3857284621220408 \n",
      " f1:0.4533283968900407 \n",
      " precision:0.30820579943616594 \n",
      " recall:0.856731038343129 \n",
      ", 'Validation':  best_epoch_indx:1\n",
      " auc:0.8542371886196188 \n",
      " apur:0.3898219976631554 \n",
      " f1:0.454181138124499 \n",
      " precision:0.3090347209598255 \n",
      " recall:0.8564231738035264 \n",
      "}\n",
      "=====Epoch 2\n",
      "Training...\n"
     ]
    },
    {
     "name": "stderr",
     "output_type": "stream",
     "text": [
      "Iteration:   9%|▊         | 87/1001 [00:08<01:30, 10.06it/s]]\n",
      "Iteration:   3%|▎         | 31/1001 [00:02<01:29, 10.87it/s]]"
     ]
    },
    {
     "name": "stdout",
     "output_type": "stream",
     "text": [
      "{'Train':  best_epoch_indx:1\n",
      " auc:0.8535948361632737 \n",
      " apur:0.38654873849936683 \n",
      " f1:0.44573620964239175 \n",
      " precision:0.3006220034957182 \n",
      " recall:0.8616809874331776 \n",
      ", 'Validation':  best_epoch_indx:1\n",
      " auc:0.8526105676193462 \n",
      " apur:0.3868289915784746 \n",
      " f1:0.4446612043178568 \n",
      " precision:0.29970196353436185 \n",
      " recall:0.8612090680100756 \n",
      "}\n",
      "=====Epoch 2\n",
      "Training...\n"
     ]
    },
    {
     "name": "stderr",
     "output_type": "stream",
     "text": [
      "Iteration:  96%|█████████▌| 958/1001 [00:47<00:02, 17.88it/s]]\n",
      "Iteration:  12%|█▏        | 125/1001 [00:10<01:14, 11.73it/s]]\n",
      "Iteration:  32%|███▏      | 36/112 [00:01<00:03, 20.90it/s]s]\n",
      "Iteration:  20%|██        | 203/1001 [00:18<01:07, 11.77it/s]"
     ]
    },
    {
     "name": "stdout",
     "output_type": "stream",
     "text": [
      "{'Train':  best_epoch_indx:1\n",
      " auc:0.854641125658709 \n",
      " apur:0.38967916396608276 \n",
      " f1:0.4520590223685371 \n",
      " precision:0.306501918190424 \n",
      " recall:0.8608973103081531 \n",
      ", 'Validation':  best_epoch_indx:1\n",
      " auc:0.8555103959246532 \n",
      " apur:0.39244486017868585 \n",
      " f1:0.45087928070871347 \n",
      " precision:0.3056651129437074 \n",
      " recall:0.8589420654911839 \n",
      "}\n",
      "=====Epoch 2\n",
      "Training...\n"
     ]
    },
    {
     "name": "stderr",
     "output_type": "stream",
     "text": [
      "Iteration:   5%|▍         | 47/1001 [00:03<01:18, 12.16it/s]]\n",
      "Iteration:  25%|██▌       | 253/1001 [00:22<01:02, 11.92it/s]"
     ]
    },
    {
     "name": "stdout",
     "output_type": "stream",
     "text": [
      "{'Train':  best_epoch_indx:1\n",
      " auc:0.855968540961124 \n",
      " apur:0.3867842143370877 \n",
      " f1:0.44616044003143074 \n",
      " precision:0.2995271482145769 \n",
      " recall:0.8740518906210641 \n",
      ", 'Validation':  best_epoch_indx:1\n",
      " auc:0.8547236140588562 \n",
      " apur:0.38713851773746005 \n",
      " f1:0.4447882421195127 \n",
      " precision:0.29888243957376764 \n",
      " recall:0.8690176322418136 \n",
      "}\n",
      "=====Epoch 2\n",
      "Training...\n"
     ]
    },
    {
     "name": "stderr",
     "output_type": "stream",
     "text": [
      "Iteration: 100%|██████████| 1001/1001 [01:25<00:00, 11.77it/s]\n",
      "Iteration:   0%|          | 2/1001 [00:00<01:01, 16.18it/s]s]"
     ]
    },
    {
     "name": "stdout",
     "output_type": "stream",
     "text": [
      "Evaluating...\n"
     ]
    },
    {
     "name": "stderr",
     "output_type": "stream",
     "text": [
      "Iteration: 100%|██████████| 1001/1001 [01:26<00:00, 11.19it/s]"
     ]
    },
    {
     "name": "stdout",
     "output_type": "stream",
     "text": [
      "Evaluating...\n"
     ]
    },
    {
     "name": "stderr",
     "output_type": "stream",
     "text": [
      "Iteration: 100%|██████████| 1001/1001 [01:26<00:00, 11.62it/s]\n",
      "Iteration: 100%|██████████| 1001/1001 [01:23<00:00, 11.93it/s]\n",
      "Iteration:   0%|          | 2/1001 [00:00<01:14, 13.48it/s]]]"
     ]
    },
    {
     "name": "stdout",
     "output_type": "stream",
     "text": [
      "Evaluating...\n"
     ]
    },
    {
     "name": "stderr",
     "output_type": "stream",
     "text": [
      "Iteration: 100%|██████████| 1001/1001 [01:23<00:00, 11.98it/s]\n",
      "Iteration:  84%|████████▎ | 838/1001 [01:19<00:16,  9.95it/s]"
     ]
    },
    {
     "name": "stdout",
     "output_type": "stream",
     "text": [
      "Evaluating...\n"
     ]
    },
    {
     "name": "stderr",
     "output_type": "stream",
     "text": [
      "Iteration: 100%|██████████| 1001/1001 [01:33<00:00, 10.69it/s]\n",
      "Iteration:  25%|██▌       | 252/1001 [00:14<00:38, 19.43it/s]"
     ]
    },
    {
     "name": "stdout",
     "output_type": "stream",
     "text": [
      "Evaluating...\n"
     ]
    },
    {
     "name": "stderr",
     "output_type": "stream",
     "text": [
      "Iteration:  43%|████▎     | 428/1001 [00:23<00:30, 19.00it/s]]\n",
      "Iteration:  55%|█████▍    | 549/1001 [00:29<00:22, 19.98it/s]]\n",
      "Iteration:  55%|█████▌    | 551/1001 [00:29<00:22, 19.98it/s]"
     ]
    },
    {
     "name": "stdout",
     "output_type": "stream",
     "text": [
      "{'Train':  best_epoch_indx:2\n",
      " auc:0.8601214251777392 \n",
      " apur:0.3997924956377981 \n",
      " f1:0.4423447288099062 \n",
      " precision:0.2942738205365402 \n",
      " recall:0.8903411794340732 \n",
      ", 'Validation':  best_epoch_indx:2\n",
      " auc:0.859438146667605 \n",
      " apur:0.4052715634440983 \n",
      " f1:0.4420048930430964 \n",
      " precision:0.2942945451507811 \n",
      " recall:0.8874055415617128 \n",
      "}\n",
      "=====Epoch 3\n",
      "Training...\n"
     ]
    },
    {
     "name": "stderr",
     "output_type": "stream",
     "text": [
      "Iteration:  98%|█████████▊| 982/1001 [00:53<00:00, 19.26it/s]\n",
      "Iteration:  90%|████████▉ | 897/1001 [00:47<00:05, 20.34it/s]]\n",
      "Iteration:  94%|█████████▍| 943/1001 [00:49<00:02, 19.90it/s]"
     ]
    },
    {
     "name": "stdout",
     "output_type": "stream",
     "text": [
      "{'Train':  best_epoch_indx:2\n",
      " auc:0.8574124562435335 \n",
      " apur:0.3904942523274159 \n",
      " f1:0.4559350135136158 \n",
      " precision:0.31249805415166204 \n",
      " recall:0.8427651833193395 \n",
      ", 'Validation':  best_epoch_indx:2\n",
      " auc:0.8575870265635201 \n",
      " apur:0.39939440313866337 \n",
      " f1:0.4561043929767029 \n",
      " precision:0.31292772100871846 \n",
      " recall:0.8408060453400503 \n",
      "}\n",
      "=====Epoch 3\n",
      "Training...\n"
     ]
    },
    {
     "name": "stderr",
     "output_type": "stream",
     "text": [
      "\n",
      "Iteration:  77%|███████▋  | 769/1001 [00:40<00:11, 19.51it/s]]\n",
      "Iteration:  12%|█▏        | 119/1001 [00:10<01:20, 10.96it/s]"
     ]
    },
    {
     "name": "stdout",
     "output_type": "stream",
     "text": [
      "{'Train':  best_epoch_indx:2\n",
      " auc:0.865636720471237 \n",
      " apur:0.4168740230778972 \n",
      " f1:0.44235274604523883 \n",
      " precision:0.29369551252638343 \n",
      " recall:0.895742953902992 \n",
      ", 'Validation':  best_epoch_indx:2\n",
      " auc:0.8633243215976769 \n",
      " apur:0.4110246474764251 \n",
      " f1:0.4397736459175425 \n",
      " precision:0.29196598133927837 \n",
      " recall:0.8906801007556675 \n",
      "}\n",
      "=====Epoch 3\n",
      "Training...\n"
     ]
    },
    {
     "name": "stderr",
     "output_type": "stream",
     "text": [
      "Iteration:   1%|          | 7/1001 [00:00<01:38, 10.12it/s]s]\n",
      "Iteration:  90%|████████▉ | 898/1001 [00:46<00:05, 19.74it/s]\n",
      "Iteration:  12%|█▏        | 122/1001 [00:11<01:16, 11.46it/s]"
     ]
    },
    {
     "name": "stdout",
     "output_type": "stream",
     "text": [
      "{'Train':  best_epoch_indx:2\n",
      " auc:0.8641278893670521 \n",
      " apur:0.4108803303806146 \n",
      " f1:0.4364040404040404 \n",
      " precision:0.28733450975871455 \n",
      " recall:0.906910352934591 \n",
      ", 'Validation':  best_epoch_indx:2\n",
      " auc:0.8655163925103022 \n",
      " apur:0.4215661415723696 \n",
      " f1:0.4338368580060423 \n",
      " precision:0.28537360890302066 \n",
      " recall:0.9042821158690176 \n",
      "}\n",
      "=====Epoch 3\n",
      "Training...\n"
     ]
    },
    {
     "name": "stderr",
     "output_type": "stream",
     "text": [
      "Iteration:  15%|█▍        | 147/1001 [00:14<01:20, 10.59it/s]]\n",
      "Iteration:  27%|██▋       | 274/1001 [00:24<01:02, 11.66it/s]\n",
      "Iteration:  21%|██        | 211/1001 [00:19<01:07, 11.68it/s]"
     ]
    },
    {
     "name": "stdout",
     "output_type": "stream",
     "text": [
      "{'Train':  best_epoch_indx:2\n",
      " auc:0.8634742357065405 \n",
      " apur:0.4135225924501268 \n",
      " f1:0.45771917373277055 \n",
      " precision:0.31219044901453236 \n",
      " recall:0.8573987517142937 \n",
      ", 'Validation':  best_epoch_indx:2\n",
      " auc:0.8615831946115757 \n",
      " apur:0.40965741317588195 \n",
      " f1:0.4594722278463927 \n",
      " precision:0.31381948925970315 \n",
      " recall:0.8574307304785894 \n",
      "}\n",
      "=====Epoch 3\n",
      "Training...\n"
     ]
    },
    {
     "name": "stderr",
     "output_type": "stream",
     "text": [
      "Iteration: 100%|██████████| 1001/1001 [01:28<00:00, 11.31it/s]\n",
      "Iteration:  83%|████████▎ | 835/1001 [01:17<00:16, 10.15it/s]"
     ]
    },
    {
     "name": "stdout",
     "output_type": "stream",
     "text": [
      "Evaluating...\n"
     ]
    },
    {
     "name": "stderr",
     "output_type": "stream",
     "text": [
      "Iteration: 100%|██████████| 1001/1001 [01:24<00:00, 11.84it/s]\n",
      "Iteration:   0%|          | 2/1001 [00:00<01:06, 15.01it/s]s]"
     ]
    },
    {
     "name": "stdout",
     "output_type": "stream",
     "text": [
      "Evaluating...\n"
     ]
    },
    {
     "name": "stderr",
     "output_type": "stream",
     "text": [
      "Iteration: 100%|██████████| 1001/1001 [01:32<00:00, 10.78it/s]\n",
      "Iteration:  95%|█████████▌| 954/1001 [01:26<00:03, 12.24it/s]"
     ]
    },
    {
     "name": "stdout",
     "output_type": "stream",
     "text": [
      "Evaluating...\n"
     ]
    },
    {
     "name": "stderr",
     "output_type": "stream",
     "text": [
      "Iteration: 100%|██████████| 1001/1001 [01:30<00:00, 11.06it/s]\n",
      "Iteration:   0%|          | 2/1001 [00:00<01:01, 16.24it/s]s]"
     ]
    },
    {
     "name": "stdout",
     "output_type": "stream",
     "text": [
      "Evaluating...\n"
     ]
    },
    {
     "name": "stderr",
     "output_type": "stream",
     "text": [
      "Iteration: 100%|██████████| 1001/1001 [01:28<00:00, 11.26it/s]\n",
      "Iteration:   0%|          | 2/1001 [00:00<01:06, 14.95it/s]s]"
     ]
    },
    {
     "name": "stdout",
     "output_type": "stream",
     "text": [
      "Evaluating...\n"
     ]
    },
    {
     "name": "stderr",
     "output_type": "stream",
     "text": [
      "Iteration:  48%|████▊     | 485/1001 [00:24<00:29, 17.75it/s]]\n",
      "Iteration:  84%|████████▍ | 844/1001 [00:41<00:07, 20.69it/s]\n",
      "Iteration:  91%|█████████ | 102/112 [00:05<00:00, 19.56it/s]]\n",
      "Iteration:  95%|█████████▍| 950/1001 [00:46<00:02, 19.23it/s]"
     ]
    },
    {
     "name": "stdout",
     "output_type": "stream",
     "text": [
      "{'Train':  best_epoch_indx:3\n",
      " auc:0.8621679088917198 \n",
      " apur:0.4126479547649372 \n",
      " f1:0.45842984871920633 \n",
      " precision:0.3138131933971035 \n",
      " recall:0.8502616921828207 \n",
      ", 'Validation':  best_epoch_indx:3\n",
      " auc:0.8610317161609269 \n",
      " apur:0.41254328906496596 \n",
      " f1:0.45848080588075146 \n",
      " precision:0.3141204999067338 \n",
      " recall:0.8483627204030226 \n",
      "}\n",
      "=====Epoch 4\n",
      "Training...\n"
     ]
    },
    {
     "name": "stderr",
     "output_type": "stream",
     "text": [
      "Iteration:   1%|          | 9/1001 [00:00<01:41,  9.80it/s]s]\n",
      "Iteration:   0%|          | 0/1001 [00:00<?, ?it/s]"
     ]
    },
    {
     "name": "stdout",
     "output_type": "stream",
     "text": [
      "{'Train':  best_epoch_indx:3\n",
      " auc:0.866068983194179 \n",
      " apur:0.42571605598565443 \n",
      " f1:0.4617527032259986 \n",
      " precision:0.31457880958662254 \n",
      " recall:0.8677022110271481 \n",
      ", 'Validation':  best_epoch_indx:3\n",
      " auc:0.8644653143034596 \n",
      " apur:0.431737602576026 \n",
      " f1:0.4633147613613479 \n",
      " precision:0.31582319026265215 \n",
      " recall:0.8692695214105793 \n",
      "}\n",
      "=====Epoch 4\n",
      "Training...\n"
     ]
    },
    {
     "name": "stderr",
     "output_type": "stream",
     "text": [
      "Iteration:   6%|▌         | 59/1001 [00:05<01:29, 10.47it/s]]]\n",
      "Iteration:  73%|███████▎  | 82/112 [00:04<00:01, 17.80it/s]s]]\n",
      "Iteration:  36%|███▌      | 40/112 [00:02<00:03, 19.51it/s]s]\n",
      "Iteration:  12%|█▏        | 119/1001 [00:11<02:17,  6.41it/s]"
     ]
    },
    {
     "name": "stdout",
     "output_type": "stream",
     "text": [
      "{'Train':  best_epoch_indx:3\n",
      " auc:0.8718795392775553 \n",
      " apur:0.4506790596645998 \n",
      " f1:0.44931073892737716 \n",
      " precision:0.30036692228604844 \n",
      " recall:0.891264798902852 \n",
      ", 'Validation':  best_epoch_indx:3\n",
      " auc:0.8667322911080045 \n",
      " apur:0.43273090210163834 \n",
      " f1:0.4451358902717805 \n",
      " precision:0.29758872474104264 \n",
      " recall:0.8828715365239295 \n",
      "}\n",
      "=====Epoch 4\n",
      "Training...\n"
     ]
    },
    {
     "name": "stderr",
     "output_type": "stream",
     "text": [
      "Iteration:   4%|▍         | 45/1001 [00:03<01:18, 12.17it/s]]\n",
      "Iteration:  91%|█████████▏| 915/1001 [00:46<00:04, 19.70it/s]"
     ]
    },
    {
     "name": "stdout",
     "output_type": "stream",
     "text": [
      "{'Train':  best_epoch_indx:3\n",
      " auc:0.8716143945820759 \n",
      " apur:0.4340354447890324 \n",
      " f1:0.4664771701858871 \n",
      " precision:0.3189244768906483 \n",
      " recall:0.8681183352458787 \n",
      ", 'Validation':  best_epoch_indx:3\n",
      " auc:0.8709085367259586 \n",
      " apur:0.43249885395334825 \n",
      " f1:0.46608907540273453 \n",
      " precision:0.3186782673084043 \n",
      " recall:0.8672544080604534 \n",
      "}\n",
      "=====Epoch 4\n",
      "Training...\n"
     ]
    },
    {
     "name": "stderr",
     "output_type": "stream",
     "text": [
      "Iteration:  23%|██▎       | 229/1001 [00:23<01:04, 11.93it/s]]\n",
      "Iteration:  29%|██▉       | 289/1001 [00:27<01:12,  9.80it/s]\n",
      "Iteration:  29%|██▉       | 290/1001 [00:27<01:12,  9.77it/s]"
     ]
    },
    {
     "name": "stdout",
     "output_type": "stream",
     "text": [
      "{'Train':  best_epoch_indx:3\n",
      " auc:0.8702564244075905 \n",
      " apur:0.43602825130456674 \n",
      " f1:0.45789759310051475 \n",
      " precision:0.31023859921096303 \n",
      " recall:0.8737720059335554 \n",
      ", 'Validation':  best_epoch_indx:3\n",
      " auc:0.8665911879162457 \n",
      " apur:0.43211951426213724 \n",
      " f1:0.4569079819676479 \n",
      " precision:0.3100593845600144 \n",
      " recall:0.8680100755667506 \n",
      "}\n",
      "=====Epoch 4\n",
      "Training...\n"
     ]
    },
    {
     "name": "stderr",
     "output_type": "stream",
     "text": [
      "Iteration: 100%|██████████| 1001/1001 [01:28<00:00, 11.33it/s]\n",
      "Iteration:  74%|███████▍  | 739/1001 [01:12<00:26, 10.03it/s]"
     ]
    },
    {
     "name": "stdout",
     "output_type": "stream",
     "text": [
      "Evaluating...\n"
     ]
    },
    {
     "name": "stderr",
     "output_type": "stream",
     "text": [
      "Iteration:  69%|██████▊   | 687/1001 [01:01<00:30, 10.45it/s]]"
     ]
    },
    {
     "name": "stdout",
     "output_type": "stream",
     "text": [
      "Evaluating...\n"
     ]
    },
    {
     "name": "stderr",
     "output_type": "stream",
     "text": [
      "Iteration: 100%|██████████| 1001/1001 [01:29<00:00, 11.18it/s]\n",
      "Iteration: 100%|██████████| 1001/1001 [01:27<00:00, 11.44it/s]\n",
      "Iteration:  23%|██▎       | 228/1001 [00:11<00:48, 15.79it/s]"
     ]
    },
    {
     "name": "stdout",
     "output_type": "stream",
     "text": [
      "Evaluating...\n"
     ]
    },
    {
     "name": "stderr",
     "output_type": "stream",
     "text": [
      "Iteration: 100%|██████████| 1001/1001 [01:34<00:00, 10.54it/s]\n",
      "Iteration:  92%|█████████▏| 923/1001 [01:22<00:06, 11.91it/s]"
     ]
    },
    {
     "name": "stdout",
     "output_type": "stream",
     "text": [
      "Evaluating...\n"
     ]
    },
    {
     "name": "stderr",
     "output_type": "stream",
     "text": [
      "Iteration: 100%|██████████| 1001/1001 [01:28<00:00, 11.30it/s]\n",
      "Iteration:  55%|█████▌    | 555/1001 [00:27<00:21, 20.53it/s]"
     ]
    },
    {
     "name": "stdout",
     "output_type": "stream",
     "text": [
      "Evaluating...\n"
     ]
    },
    {
     "name": "stderr",
     "output_type": "stream",
     "text": [
      "Iteration:  63%|██████▎   | 626/1001 [00:31<00:19, 19.17it/s]]\n",
      "Iteration:  54%|█████▍    | 544/1001 [00:26<00:24, 18.43it/s]\n",
      "Iteration:  63%|██████▎   | 628/1001 [00:30<00:18, 19.65it/s]\n",
      "Iteration:  75%|███████▍  | 748/1001 [00:37<00:13, 18.83it/s]"
     ]
    },
    {
     "name": "stdout",
     "output_type": "stream",
     "text": [
      "{'Train':  best_epoch_indx:4\n",
      " auc:0.8695918952516446 \n",
      " apur:0.44225509475259706 \n",
      " f1:0.4546821258589458 \n",
      " precision:0.30806228820717685 \n",
      " recall:0.8676182479708928 \n",
      ", 'Validation':  best_epoch_indx:4\n",
      " auc:0.8688852033563395 \n",
      " apur:0.44149761389669706 \n",
      " f1:0.45399668325041465 \n",
      " precision:0.3081494822152184 \n",
      " recall:0.8619647355163728 \n",
      "}\n",
      "=====Epoch 5\n",
      "Training...\n"
     ]
    },
    {
     "name": "stderr",
     "output_type": "stream",
     "text": [
      "Iteration:  78%|███████▊  | 782/1001 [00:39<00:11, 19.46it/s]]\n",
      "Iteration:  66%|██████▋   | 664/1001 [00:32<00:17, 19.73it/s]"
     ]
    },
    {
     "name": "stdout",
     "output_type": "stream",
     "text": [
      "{'Train':  best_epoch_indx:4\n",
      " auc:0.8736322522227191 \n",
      " apur:0.4467352659792991 \n",
      " f1:0.46570021923336596 \n",
      " precision:0.3194268112473203 \n",
      " recall:0.8591060483080971 \n",
      ", 'Validation':  best_epoch_indx:4\n",
      " auc:0.8703052267238234 \n",
      " apur:0.4403458923828669 \n",
      " f1:0.46436152002738795 \n",
      " precision:0.31885284438175837 \n",
      " recall:0.8541561712846347 \n",
      "}\n",
      "=====Epoch 5\n",
      "Training...\n"
     ]
    },
    {
     "name": "stderr",
     "output_type": "stream",
     "text": [
      "Iteration:  71%|███████   | 706/1001 [00:34<00:14, 20.66it/s]\n",
      "Iteration:  11%|█▏        | 113/1001 [00:09<01:14, 12.00it/s]\n",
      "Iteration:   9%|▉         | 93/1001 [00:07<01:16, 11.95it/s]]"
     ]
    },
    {
     "name": "stdout",
     "output_type": "stream",
     "text": [
      "{'Train':  best_epoch_indx:4\n",
      " auc:0.8730307361341447 \n",
      " apur:0.4417272980118421 \n",
      " f1:0.45546374147986285 \n",
      " precision:0.30713456227494074 \n",
      " recall:0.8808810769962775 \n",
      ", 'Validation':  best_epoch_indx:4\n",
      " auc:0.8669151158272747 \n",
      " apur:0.41936268472471155 \n",
      " f1:0.4527687296416938 \n",
      " precision:0.3053602811950791 \n",
      " recall:0.8753148614609572 \n",
      "}\n",
      "=====Epoch 5\n",
      "Training...\n"
     ]
    },
    {
     "name": "stderr",
     "output_type": "stream",
     "text": [
      "Iteration:  18%|█▊        | 185/1001 [00:15<01:06, 12.18it/s]]\n",
      "Iteration:  22%|██▏       | 219/1001 [00:18<01:17, 10.12it/s]]\n",
      "Iteration:   8%|▊         | 9/112 [00:00<00:05, 20.30it/s]/s]\n",
      "Iteration:  22%|██▏       | 225/1001 [00:19<01:17, 10.06it/s]"
     ]
    },
    {
     "name": "stdout",
     "output_type": "stream",
     "text": [
      "{'Train':  best_epoch_indx:4\n",
      " auc:0.8709800091324867 \n",
      " apur:0.4439529287783036 \n",
      " f1:0.4677238184508362 \n",
      " precision:0.3233611825192802 \n",
      " recall:0.8449438831201544 \n",
      ", 'Validation':  best_epoch_indx:4\n",
      " auc:0.8689111577036025 \n",
      " apur:0.4376555506104115 \n",
      " f1:0.4678648856563395 \n",
      " precision:0.3238454835898925 \n",
      " recall:0.8425692695214105 \n",
      "}\n",
      "=====Epoch 5\n",
      "Training...\n"
     ]
    },
    {
     "name": "stderr",
     "output_type": "stream",
     "text": [
      "Iteration:   5%|▌         | 52/1001 [00:05<01:33, 10.19it/s]]\n",
      "Iteration:  28%|██▊       | 285/1001 [00:24<01:03, 11.27it/s]"
     ]
    },
    {
     "name": "stdout",
     "output_type": "stream",
     "text": [
      "{'Train':  best_epoch_indx:4\n",
      " auc:0.871068471022546 \n",
      " apur:0.4516388786167702 \n",
      " f1:0.45903731113629714 \n",
      " precision:0.31362433591105826 \n",
      " recall:0.8558593859329956 \n",
      ", 'Validation':  best_epoch_indx:4\n",
      " auc:0.8690980795754458 \n",
      " apur:0.4481839631829464 \n",
      " f1:0.458878568038511 \n",
      " precision:0.3139437795713888 \n",
      " recall:0.8523929471032745 \n",
      "}\n",
      "=====Epoch 5\n",
      "Training...\n"
     ]
    },
    {
     "name": "stderr",
     "output_type": "stream",
     "text": [
      "Iteration: 100%|██████████| 1001/1001 [01:22<00:00, 12.07it/s]\n",
      "Iteration:  64%|██████▍   | 643/1001 [00:56<00:29, 12.13it/s]"
     ]
    },
    {
     "name": "stdout",
     "output_type": "stream",
     "text": [
      "Evaluating...\n"
     ]
    },
    {
     "name": "stderr",
     "output_type": "stream",
     "text": [
      "Iteration: 100%|██████████| 1001/1001 [01:26<00:00, 11.63it/s]\n",
      "Iteration:   0%|          | 2/1001 [00:00<01:02, 16.04it/s]s]"
     ]
    },
    {
     "name": "stdout",
     "output_type": "stream",
     "text": [
      "Evaluating...\n"
     ]
    },
    {
     "name": "stderr",
     "output_type": "stream",
     "text": [
      "Iteration: 100%|██████████| 1001/1001 [01:28<00:00, 11.37it/s]\n",
      "Iteration:   0%|          | 0/1001 [00:00<?, ?it/s]"
     ]
    },
    {
     "name": "stdout",
     "output_type": "stream",
     "text": [
      "Evaluating...\n"
     ]
    },
    {
     "name": "stderr",
     "output_type": "stream",
     "text": [
      "Iteration: 100%|██████████| 1001/1001 [01:30<00:00, 11.06it/s]\n",
      "Iteration:  55%|█████▍    | 547/1001 [00:28<00:22, 20.10it/s]"
     ]
    },
    {
     "name": "stdout",
     "output_type": "stream",
     "text": [
      "Evaluating...\n"
     ]
    },
    {
     "name": "stderr",
     "output_type": "stream",
     "text": [
      "Iteration: 100%|██████████| 1001/1001 [01:29<00:00, 11.24it/s]\n",
      "Iteration:  62%|██████▏   | 618/1001 [00:32<00:19, 20.04it/s]"
     ]
    },
    {
     "name": "stdout",
     "output_type": "stream",
     "text": [
      "Evaluating...\n"
     ]
    },
    {
     "name": "stderr",
     "output_type": "stream",
     "text": [
      "Iteration:  95%|█████████▌| 953/1001 [00:49<00:02, 17.49it/s]]\n",
      "Iteration:  57%|█████▋    | 567/1001 [00:30<00:23, 18.48it/s]]\n",
      "Iteration:  58%|█████▊    | 584/1001 [00:31<00:20, 19.86it/s]\n",
      "Iteration:  18%|█▊        | 20/112 [00:00<00:04, 19.99it/s]s]"
     ]
    },
    {
     "name": "stdout",
     "output_type": "stream",
     "text": [
      "{'Train':  best_epoch_indx:5\n",
      " auc:0.8794205724976986 \n",
      " apur:0.46977630343889154 \n",
      " f1:0.47545496134670107 \n",
      " precision:0.3288286838915881 \n",
      " recall:0.858074447243213 \n",
      ", 'Validation':  best_epoch_indx:5\n",
      " auc:0.8763340538778993 \n",
      " apur:0.46009287845917596 \n",
      " f1:0.47877424796176554 \n",
      " precision:0.3320335348021057 \n",
      " recall:0.8579345088161209 \n",
      "}\n",
      "=====Epoch 6\n",
      "Training...\n"
     ]
    },
    {
     "name": "stderr",
     "output_type": "stream",
     "text": [
      "Iteration:  68%|██████▊   | 684/1001 [00:36<00:15, 20.01it/s]\n",
      "Iteration:   0%|          | 0/1001 [00:00<?, ?it/s]"
     ]
    },
    {
     "name": "stdout",
     "output_type": "stream",
     "text": [
      "{'Train':  best_epoch_indx:5\n",
      " auc:0.8811361895517985 \n",
      " apur:0.4754957687321713 \n",
      " f1:0.4541898812538691 \n",
      " precision:0.3033366847392011 \n",
      " recall:0.9035237482157351 \n",
      ", 'Validation':  best_epoch_indx:5\n",
      " auc:0.878188028274467 \n",
      " apur:0.46627543997251447 \n",
      " f1:0.4535031847133758 \n",
      " precision:0.3034953111679454 \n",
      " recall:0.8967254408060453 \n",
      "}\n",
      "=====Epoch 6\n",
      "Training...\n"
     ]
    },
    {
     "name": "stderr",
     "output_type": "stream",
     "text": [
      "Iteration:  70%|██████▉   | 698/1001 [00:35<00:14, 20.48it/s]]\n",
      "Iteration:  10%|█         | 102/1001 [00:08<01:15, 11.83it/s]\n",
      "Iteration:  10%|█         | 104/1001 [00:08<01:16, 11.80it/s]"
     ]
    },
    {
     "name": "stdout",
     "output_type": "stream",
     "text": [
      "{'Train':  best_epoch_indx:5\n",
      " auc:0.882288587944518 \n",
      " apur:0.47628347961760237 \n",
      " f1:0.47063567542891926 \n",
      " precision:0.3231667816019894 \n",
      " recall:0.8656553499958017 \n",
      ", 'Validation':  best_epoch_indx:5\n",
      " auc:0.8798092064046895 \n",
      " apur:0.46981764636929435 \n",
      " f1:0.47000550357732523 \n",
      " precision:0.3233011546469809 \n",
      " recall:0.8604534005037784 \n",
      "}\n",
      "=====Epoch 6\n",
      "Training...\n"
     ]
    },
    {
     "name": "stderr",
     "output_type": "stream",
     "text": [
      "Iteration:  22%|██▏       | 222/1001 [00:18<01:06, 11.68it/s]]\n",
      "Iteration:  24%|██▍       | 27/112 [00:01<00:04, 20.65it/s]s]\n",
      "Iteration:  17%|█▋        | 168/1001 [00:15<01:24,  9.81it/s]\n",
      "Iteration:   0%|          | 1/1001 [00:00<02:17,  7.25it/s]s]"
     ]
    },
    {
     "name": "stdout",
     "output_type": "stream",
     "text": [
      "{'Train':  best_epoch_indx:5\n",
      " auc:0.8780585445302889 \n",
      " apur:0.4635590449340001 \n",
      " f1:0.46965888689407537 \n",
      " precision:0.32299350608410565 \n",
      " recall:0.8603095524643847 \n",
      ", 'Validation':  best_epoch_indx:5\n",
      " auc:0.874958640616205 \n",
      " apur:0.4565492591709378 \n",
      " f1:0.46855648823448465 \n",
      " precision:0.32232109049602425 \n",
      " recall:0.8576826196473551 \n",
      "}\n",
      "=====Epoch 6\n",
      "Training...\n"
     ]
    },
    {
     "name": "stderr",
     "output_type": "stream",
     "text": [
      "Iteration:  18%|█▊        | 181/1001 [00:17<01:14, 11.00it/s]\n",
      "Iteration:  18%|█▊        | 183/1001 [00:17<01:15, 10.80it/s]"
     ]
    },
    {
     "name": "stdout",
     "output_type": "stream",
     "text": [
      "{'Train':  best_epoch_indx:5\n",
      " auc:0.8840485205122712 \n",
      " apur:0.48405274232260787 \n",
      " f1:0.4426275877860539 \n",
      " precision:0.2914408861534095 \n",
      " recall:0.9197570600912424 \n",
      ", 'Validation':  best_epoch_indx:5\n",
      " auc:0.8790362160001695 \n",
      " apur:0.4721426355010275 \n",
      " f1:0.44091517585493495 \n",
      " precision:0.2906771501925546 \n",
      " recall:0.9125944584382871 \n",
      "}\n",
      "=====Epoch 6\n",
      "Training...\n"
     ]
    },
    {
     "name": "stderr",
     "output_type": "stream",
     "text": [
      "Iteration: 100%|██████████| 1001/1001 [01:25<00:00, 11.68it/s]\n",
      "Iteration:  61%|██████▏   | 614/1001 [00:56<00:35, 10.84it/s]"
     ]
    },
    {
     "name": "stdout",
     "output_type": "stream",
     "text": [
      "Evaluating...\n"
     ]
    },
    {
     "name": "stderr",
     "output_type": "stream",
     "text": [
      "Iteration: 100%|██████████| 1001/1001 [01:24<00:00, 11.84it/s]\n",
      "Iteration:  65%|██████▌   | 654/1001 [00:59<00:33, 10.41it/s]"
     ]
    },
    {
     "name": "stdout",
     "output_type": "stream",
     "text": [
      "Evaluating...\n"
     ]
    },
    {
     "name": "stderr",
     "output_type": "stream",
     "text": [
      "Iteration: 100%|██████████| 1001/1001 [01:33<00:00, 10.70it/s]\n",
      "Iteration:   0%|          | 0/1001 [00:00<?, ?it/s]"
     ]
    },
    {
     "name": "stdout",
     "output_type": "stream",
     "text": [
      "Evaluating...\n"
     ]
    },
    {
     "name": "stderr",
     "output_type": "stream",
     "text": [
      "Iteration: 100%|██████████| 1001/1001 [01:25<00:00, 11.72it/s]\n",
      "Iteration:  55%|█████▌    | 551/1001 [00:27<00:22, 20.40it/s]"
     ]
    },
    {
     "name": "stdout",
     "output_type": "stream",
     "text": [
      "Evaluating...\n"
     ]
    },
    {
     "name": "stderr",
     "output_type": "stream",
     "text": [
      "Iteration: 100%|██████████| 1001/1001 [01:31<00:00, 10.98it/s]\n",
      "Iteration:  28%|██▊       | 279/1001 [00:13<00:38, 18.87it/s]"
     ]
    },
    {
     "name": "stdout",
     "output_type": "stream",
     "text": [
      "Evaluating...\n"
     ]
    },
    {
     "name": "stderr",
     "output_type": "stream",
     "text": [
      "Iteration:  94%|█████████▍| 943/1001 [00:47<00:02, 20.11it/s]]\n",
      "Iteration:  71%|███████▏  | 715/1001 [00:35<00:14, 20.11it/s]]\n",
      "Iteration:  44%|████▍     | 439/1001 [00:22<00:27, 20.29it/s]\n",
      "Iteration:   0%|          | 0/1001 [00:00<?, ?it/s]"
     ]
    },
    {
     "name": "stdout",
     "output_type": "stream",
     "text": [
      "{'Train':  best_epoch_indx:6\n",
      " auc:0.890877019597635 \n",
      " apur:0.5147773040084653 \n",
      " f1:0.46888503805742604 \n",
      " precision:0.31734908993734967 \n",
      " recall:0.8973971452560873 \n",
      ", 'Validation':  best_epoch_indx:6\n",
      " auc:0.885456728368813 \n",
      " apur:0.4964563504458399 \n",
      " f1:0.4668080031800715 \n",
      " precision:0.31670262495505214 \n",
      " recall:0.8874055415617128 \n",
      "}\n",
      "=====Epoch 7\n",
      "Training...\n"
     ]
    },
    {
     "name": "stderr",
     "output_type": "stream",
     "text": [
      "Iteration:  55%|█████▍    | 548/1001 [00:27<00:22, 19.90it/s]\n",
      "Iteration:  84%|████████▎ | 836/1001 [00:41<00:08, 19.56it/s]"
     ]
    },
    {
     "name": "stdout",
     "output_type": "stream",
     "text": [
      "{'Train':  best_epoch_indx:6\n",
      " auc:0.8889730381600591 \n",
      " apur:0.4998574568599937 \n",
      " f1:0.46302236958253495 \n",
      " precision:0.31134424584025017 \n",
      " recall:0.902880013434465 \n",
      ", 'Validation':  best_epoch_indx:6\n",
      " auc:0.8831766158188318 \n",
      " apur:0.48737988329485904 \n",
      " f1:0.46032362459546927 \n",
      " precision:0.3097560975609756 \n",
      " recall:0.8957178841309824 \n",
      "}\n",
      "=====Epoch 7\n",
      "Training...\n"
     ]
    },
    {
     "name": "stderr",
     "output_type": "stream",
     "text": [
      "Iteration:  76%|███████▋  | 765/1001 [00:38<00:12, 19.09it/s]]\n",
      "Iteration:  18%|█▊        | 177/1001 [00:16<01:09, 11.86it/s]\n",
      "Iteration:   0%|          | 1/1001 [00:00<02:18,  7.24it/s]s]"
     ]
    },
    {
     "name": "stdout",
     "output_type": "stream",
     "text": [
      "{'Train':  best_epoch_indx:6\n",
      " auc:0.8934481793194186 \n",
      " apur:0.5128935978381907 \n",
      " f1:0.4606093256021663 \n",
      " precision:0.30841520717642035 \n",
      " recall:0.9093453497159171 \n",
      ", 'Validation':  best_epoch_indx:6\n",
      " auc:0.8855756529365484 \n",
      " apur:0.4899791366518905 \n",
      " f1:0.4559367427624027 \n",
      " precision:0.3052424863387978 \n",
      " recall:0.9005037783375315 \n",
      "}\n",
      "=====Epoch 7\n",
      "Training...\n"
     ]
    },
    {
     "name": "stderr",
     "output_type": "stream",
     "text": [
      "Iteration:  94%|█████████▍| 941/1001 [00:48<00:03, 17.03it/s]]\n",
      "Iteration:  34%|███▍      | 345/1001 [00:32<00:54, 12.10it/s]]\n",
      "Iteration:   0%|          | 1/1001 [00:00<02:03,  8.08it/s]s]"
     ]
    },
    {
     "name": "stdout",
     "output_type": "stream",
     "text": [
      "{'Train':  best_epoch_indx:6\n",
      " auc:0.8906497392327235 \n",
      " apur:0.5147070061128255 \n",
      " f1:0.4774778234322799 \n",
      " precision:0.3290253609382277 \n",
      " recall:0.8700215511209382 \n",
      ", 'Validation':  best_epoch_indx:6\n",
      " auc:0.8853164994648415 \n",
      " apur:0.5031668549666679 \n",
      " f1:0.47717353654312433 \n",
      " precision:0.3290969899665552 \n",
      " recall:0.8675062972292191 \n",
      "}\n",
      "=====Epoch 7\n",
      "Training...\n"
     ]
    },
    {
     "name": "stderr",
     "output_type": "stream",
     "text": [
      "Iteration:  11%|█         | 106/1001 [00:09<01:13, 12.25it/s]\n",
      "Iteration:  36%|███▌      | 356/1001 [00:33<01:06,  9.70it/s]\n",
      "Iteration:   8%|▊         | 83/1001 [00:06<01:15, 12.21it/s]]"
     ]
    },
    {
     "name": "stdout",
     "output_type": "stream",
     "text": [
      "{'Train':  best_epoch_indx:6\n",
      " auc:0.8910032902726593 \n",
      " apur:0.5138579705224656 \n",
      " f1:0.47611156722882125 \n",
      " precision:0.32571057567450584 \n",
      " recall:0.8845755548713929 \n",
      ", 'Validation':  best_epoch_indx:6\n",
      " auc:0.8849501728818385 \n",
      " apur:0.49159811036812484 \n",
      " f1:0.4735342019543974 \n",
      " precision:0.3240757941668215 \n",
      " recall:0.8788413098236776 \n",
      "}\n",
      "=====Epoch 7\n",
      "Training...\n"
     ]
    },
    {
     "name": "stderr",
     "output_type": "stream",
     "text": [
      "Iteration: 100%|██████████| 1001/1001 [01:28<00:00, 11.31it/s]\n",
      "Iteration:   0%|          | 0/1001 [00:00<?, ?it/s]"
     ]
    },
    {
     "name": "stdout",
     "output_type": "stream",
     "text": [
      "Evaluating...\n"
     ]
    },
    {
     "name": "stderr",
     "output_type": "stream",
     "text": [
      "Iteration: 100%|██████████| 1001/1001 [01:29<00:00, 11.17it/s]\n",
      "Iteration:  80%|████████  | 802/1001 [01:12<00:17, 11.66it/s]"
     ]
    },
    {
     "name": "stdout",
     "output_type": "stream",
     "text": [
      "Evaluating...\n"
     ]
    },
    {
     "name": "stderr",
     "output_type": "stream",
     "text": [
      "Iteration: 100%|██████████| 1001/1001 [01:29<00:00, 11.14it/s]\n",
      "Iteration:  48%|████▊     | 482/1001 [00:23<00:25, 20.05it/s]"
     ]
    },
    {
     "name": "stdout",
     "output_type": "stream",
     "text": [
      "Evaluating...\n"
     ]
    },
    {
     "name": "stderr",
     "output_type": "stream",
     "text": [
      "Iteration:  68%|██████▊   | 678/1001 [00:33<00:15, 20.38it/s]"
     ]
    },
    {
     "name": "stdout",
     "output_type": "stream",
     "text": [
      "Evaluating...\n"
     ]
    },
    {
     "name": "stderr",
     "output_type": "stream",
     "text": [
      "Iteration: 100%|██████████| 1001/1001 [01:29<00:00, 11.14it/s]\n",
      "Iteration: 100%|██████████| 1001/1001 [01:26<00:00, 11.63it/s]\n",
      "Iteration:  60%|██████    | 603/1001 [00:29<00:20, 19.57it/s]"
     ]
    },
    {
     "name": "stdout",
     "output_type": "stream",
     "text": [
      "Evaluating...\n"
     ]
    },
    {
     "name": "stderr",
     "output_type": "stream",
     "text": [
      "Iteration:  58%|█████▊    | 583/1001 [00:28<00:20, 20.72it/s]]\n",
      "Iteration:  44%|████▍     | 440/1001 [00:21<00:28, 19.45it/s]]\n",
      "Iteration:  44%|████▍     | 442/1001 [00:22<00:28, 19.29it/s]"
     ]
    },
    {
     "name": "stdout",
     "output_type": "stream",
     "text": [
      "{'Train':  best_epoch_indx:7\n",
      " auc:0.8968923902877128 \n",
      " apur:0.5375479696283025 \n",
      " f1:0.47574362737467846 \n",
      " precision:0.3235635139086335 \n",
      " recall:0.898180800447803 \n",
      ", 'Validation':  best_epoch_indx:7\n",
      " auc:0.8907420594740267 \n",
      " apur:0.5195824944022214 \n",
      " f1:0.4747039827771798 \n",
      " precision:0.32384798971911144 \n",
      " recall:0.8886649874055416 \n",
      "}\n",
      "=====Epoch 8\n",
      "Training...\n"
     ]
    },
    {
     "name": "stderr",
     "output_type": "stream",
     "text": [
      "Iteration:  72%|███████▏  | 718/1001 [00:35<00:13, 20.88it/s]\n",
      "Iteration:  82%|████████▏ | 824/1001 [00:40<00:09, 18.02it/s]\n",
      "Iteration:   6%|▋         | 64/1001 [00:06<01:34,  9.89it/s]]"
     ]
    },
    {
     "name": "stdout",
     "output_type": "stream",
     "text": [
      "{'Train':  best_epoch_indx:7\n",
      " auc:0.8981993878498087 \n",
      " apur:0.5423337364074017 \n",
      " f1:0.4661367611301491 \n",
      " precision:0.31243269001667856 \n",
      " recall:0.9175179825911725 \n",
      ", 'Validation':  best_epoch_indx:7\n",
      " auc:0.890083163625788 \n",
      " apur:0.5184102582278868 \n",
      " f1:0.46195303477479793 \n",
      " precision:0.30991735537190085 \n",
      " recall:0.906801007556675 \n",
      "}\n",
      "=====Epoch 8\n",
      "Training...\n"
     ]
    },
    {
     "name": "stderr",
     "output_type": "stream",
     "text": [
      "Iteration:  87%|████████▋ | 868/1001 [00:42<00:06, 20.40it/s]]\n",
      "Iteration:  20%|██        | 201/1001 [00:17<01:07, 11.79it/s]\n",
      "Iteration:  91%|█████████ | 910/1001 [00:45<00:04, 20.13it/s]"
     ]
    },
    {
     "name": "stdout",
     "output_type": "stream",
     "text": [
      "{'Train':  best_epoch_indx:7\n",
      " auc:0.8961128685582986 \n",
      " apur:0.5281307347641028 \n",
      " f1:0.47397404445498537 \n",
      " precision:0.32234812589471135 \n",
      " recall:0.8949312883092166 \n",
      ", 'Validation':  best_epoch_indx:7\n",
      " auc:0.887134628062118 \n",
      " apur:0.4980371554704732 \n",
      " f1:0.4696626216828911 \n",
      " precision:0.3193688792165397 \n",
      " recall:0.8871536523929471 \n",
      "}\n",
      "=====Epoch 8\n",
      "Training...\n"
     ]
    },
    {
     "name": "stderr",
     "output_type": "stream",
     "text": [
      "Iteration:  97%|█████████▋| 973/1001 [00:48<00:01, 19.01it/s]]\n",
      "Iteration:  28%|██▊       | 285/1001 [00:24<01:00, 11.90it/s]]\n",
      "Iteration:  11%|█         | 107/1001 [00:09<01:16, 11.65it/s]\n",
      "Iteration:  31%|███       | 311/1001 [00:26<00:58, 11.88it/s]"
     ]
    },
    {
     "name": "stdout",
     "output_type": "stream",
     "text": [
      "{'Train':  best_epoch_indx:7\n",
      " auc:0.9011694374975587 \n",
      " apur:0.541223949847709 \n",
      " f1:0.48265088472977435 \n",
      " precision:0.3298329894579086 \n",
      " recall:0.8993254779031039 \n",
      ", 'Validation':  best_epoch_indx:7\n",
      " auc:0.8929405975448456 \n",
      " apur:0.5148331945676454 \n",
      " f1:0.47751475276402355 \n",
      " precision:0.32674278288313374 \n",
      " recall:0.8866498740554156 \n",
      "}\n",
      "=====Epoch 8\n",
      "Training...\n"
     ]
    },
    {
     "name": "stderr",
     "output_type": "stream",
     "text": [
      "Iteration:  15%|█▍        | 147/1001 [00:12<01:16, 11.21it/s]\n",
      "Iteration:   4%|▎         | 37/1001 [00:03<01:33, 10.30it/s]]"
     ]
    },
    {
     "name": "stdout",
     "output_type": "stream",
     "text": [
      "{'Train':  best_epoch_indx:7\n",
      " auc:0.8998932408389788 \n",
      " apur:0.5412633900633219 \n",
      " f1:0.48070096607503926 \n",
      " precision:0.328156153822558 \n",
      " recall:0.8982619160905707 \n",
      ", 'Validation':  best_epoch_indx:7\n",
      " auc:0.892856520202605 \n",
      " apur:0.515978879924463 \n",
      " f1:0.4755291896993394 \n",
      " precision:0.3246502209131075 \n",
      " recall:0.8884130982367758 \n",
      "}\n",
      "=====Epoch 8\n",
      "Training...\n"
     ]
    },
    {
     "name": "stderr",
     "output_type": "stream",
     "text": [
      "Iteration: 100%|██████████| 1001/1001 [01:25<00:00, 11.66it/s]\n",
      "Iteration:  89%|████████▉ | 893/1001 [01:19<00:09, 11.83it/s]"
     ]
    },
    {
     "name": "stdout",
     "output_type": "stream",
     "text": [
      "Evaluating...\n"
     ]
    },
    {
     "name": "stderr",
     "output_type": "stream",
     "text": [
      "Iteration: 100%|██████████| 1001/1001 [01:28<00:00, 11.28it/s]\n",
      "Iteration:   0%|          | 2/1001 [00:00<01:00, 16.63it/s]s]"
     ]
    },
    {
     "name": "stdout",
     "output_type": "stream",
     "text": [
      "Evaluating...\n"
     ]
    },
    {
     "name": "stderr",
     "output_type": "stream",
     "text": [
      "Iteration: 100%|██████████| 1001/1001 [01:28<00:00, 11.28it/s]\n",
      "Iteration:   0%|          | 0/1001 [00:00<?, ?it/s]"
     ]
    },
    {
     "name": "stdout",
     "output_type": "stream",
     "text": [
      "Evaluating...\n"
     ]
    },
    {
     "name": "stderr",
     "output_type": "stream",
     "text": [
      "Iteration: 100%|██████████| 1001/1001 [01:30<00:00, 11.07it/s]\n",
      "Iteration:   0%|          | 0/1001 [00:00<?, ?it/s]"
     ]
    },
    {
     "name": "stdout",
     "output_type": "stream",
     "text": [
      "Evaluating...\n"
     ]
    },
    {
     "name": "stderr",
     "output_type": "stream",
     "text": [
      "Iteration: 100%|██████████| 1001/1001 [01:28<00:00, 11.37it/s]\n",
      "Iteration:   0%|          | 2/1001 [00:00<01:05, 15.31it/s]s]"
     ]
    },
    {
     "name": "stdout",
     "output_type": "stream",
     "text": [
      "Evaluating...\n"
     ]
    },
    {
     "name": "stderr",
     "output_type": "stream",
     "text": [
      "Iteration:  29%|██▉       | 294/1001 [00:15<00:34, 20.35it/s]]\n",
      "Iteration:  91%|█████████▏| 915/1001 [00:49<00:04, 19.77it/s]\n",
      "Iteration:   0%|          | 1/1001 [00:00<02:08,  7.77it/s]s]"
     ]
    },
    {
     "name": "stdout",
     "output_type": "stream",
     "text": [
      "{'Train':  best_epoch_indx:8\n",
      " auc:0.9080393323960663 \n",
      " apur:0.575208937186241 \n",
      " f1:0.4929804620299828 \n",
      " precision:0.33970871525646185 \n",
      " recall:0.8982647635040583 \n",
      ", 'Validation':  best_epoch_indx:8\n",
      " auc:0.899913569795037 \n",
      " apur:0.5408889335766957 \n",
      " f1:0.4885984427141268 \n",
      " precision:0.33743038217783755 \n",
      " recall:0.8851385390428211 \n",
      "}\n",
      "=====Epoch 9\n",
      "Training...\n"
     ]
    },
    {
     "name": "stderr",
     "output_type": "stream",
     "text": [
      "Iteration:  51%|█████     | 509/1001 [00:26<00:24, 19.89it/s]]\n",
      "Iteration:  62%|██████▏   | 625/1001 [00:32<00:18, 20.11it/s]\n",
      "Iteration:  67%|██████▋   | 672/1001 [00:34<00:16, 20.46it/s]"
     ]
    },
    {
     "name": "stdout",
     "output_type": "stream",
     "text": [
      "{'Train':  best_epoch_indx:8\n",
      " auc:0.9066372908854348 \n",
      " apur:0.5715328135062637 \n",
      " f1:0.4814509116099459 \n",
      " precision:0.326764367528635 \n",
      " recall:0.9142433317473201 \n",
      ", 'Validation':  best_epoch_indx:8\n",
      " auc:0.8974247553215626 \n",
      " apur:0.5477706170765422 \n",
      " f1:0.4742226946585172 \n",
      " precision:0.32205378090597364 \n",
      " recall:0.898992443324937 \n",
      "}\n",
      "=====Epoch 9\n",
      "Training...\n"
     ]
    },
    {
     "name": "stderr",
     "output_type": "stream",
     "text": [
      "Iteration:  23%|██▎       | 232/1001 [00:22<01:19,  9.66it/s]]\n",
      "Iteration:  94%|█████████▍| 939/1001 [00:48<00:03, 19.83it/s]\n",
      "Iteration:  16%|█▌        | 158/1001 [00:15<01:37,  8.69it/s]"
     ]
    },
    {
     "name": "stdout",
     "output_type": "stream",
     "text": [
      "{'Train':  best_epoch_indx:8\n",
      " auc:0.9079675008575212 \n",
      " apur:0.5795336524498379 \n",
      " f1:0.4931377335534218 \n",
      " precision:0.34098167398992607 \n",
      " recall:0.8905091102465784 \n",
      ", 'Validation':  best_epoch_indx:8\n",
      " auc:0.8963571385040714 \n",
      " apur:0.5367148792118928 \n",
      " f1:0.48681005081088596 \n",
      " precision:0.3363470231797634 \n",
      " recall:0.8808564231738035 \n",
      "}\n",
      "=====Epoch 9\n",
      "Training...\n"
     ]
    },
    {
     "name": "stderr",
     "output_type": "stream",
     "text": [
      "Iteration:  32%|███▏      | 320/1001 [00:31<01:17,  8.75it/s]]\n",
      "Iteration:  40%|████      | 45/112 [00:02<00:03, 21.28it/s]]]\n",
      "Iteration:   9%|▉         | 90/1001 [00:08<01:30, 10.04it/s]]\n",
      "Iteration:   9%|▉         | 92/1001 [00:09<01:30, 10.03it/s]]"
     ]
    },
    {
     "name": "stdout",
     "output_type": "stream",
     "text": [
      "{'Train':  best_epoch_indx:8\n",
      " auc:0.9102896567140655 \n",
      " apur:0.5885584480497716 \n",
      " f1:0.5003141196795979 \n",
      " precision:0.3477202519348113 \n",
      " recall:0.8915726720591116 \n",
      ", 'Validation':  best_epoch_indx:8\n",
      " auc:0.9000451929643148 \n",
      " apur:0.5528133359943577 \n",
      " f1:0.4922096317280454 \n",
      " precision:0.34236453201970446 \n",
      " recall:0.8753148614609572 \n",
      "}\n",
      "=====Epoch 9\n",
      "Training...\n"
     ]
    },
    {
     "name": "stderr",
     "output_type": "stream",
     "text": [
      "Iteration:  11%|█         | 112/1001 [00:11<01:27, 10.16it/s]\n",
      "Iteration:  40%|███▉      | 398/1001 [00:39<00:58, 10.24it/s]"
     ]
    },
    {
     "name": "stdout",
     "output_type": "stream",
     "text": [
      "{'Train':  best_epoch_indx:8\n",
      " auc:0.907876783924128 \n",
      " apur:0.5747974365544471 \n",
      " f1:0.49121684415802064 \n",
      " precision:0.3374535559160605 \n",
      " recall:0.9024042094657001 \n",
      ", 'Validation':  best_epoch_indx:8\n",
      " auc:0.8979804637822427 \n",
      " apur:0.5396496752287655 \n",
      " f1:0.4853769051215158 \n",
      " precision:0.3336164590411476 \n",
      " recall:0.8904282115869018 \n",
      "}\n",
      "=====Epoch 9\n",
      "Training...\n"
     ]
    },
    {
     "name": "stderr",
     "output_type": "stream",
     "text": [
      "Iteration: 100%|██████████| 1001/1001 [01:33<00:00, 10.69it/s]\n",
      "Iteration:  65%|██████▍   | 646/1001 [00:56<00:28, 12.38it/s]"
     ]
    },
    {
     "name": "stdout",
     "output_type": "stream",
     "text": [
      "Evaluating...\n"
     ]
    },
    {
     "name": "stderr",
     "output_type": "stream",
     "text": [
      "Iteration: 100%|██████████| 1001/1001 [01:30<00:00, 11.03it/s]\n",
      "Iteration:  72%|███████▏  | 725/1001 [01:04<00:23, 11.74it/s]"
     ]
    },
    {
     "name": "stdout",
     "output_type": "stream",
     "text": [
      "Evaluating...\n"
     ]
    },
    {
     "name": "stderr",
     "output_type": "stream",
     "text": [
      "Iteration: 100%|██████████| 1001/1001 [01:31<00:00, 10.92it/s]\n",
      "Iteration:   0%|          | 2/1001 [00:00<01:14, 13.44it/s]s]"
     ]
    },
    {
     "name": "stdout",
     "output_type": "stream",
     "text": [
      "Evaluating...\n"
     ]
    },
    {
     "name": "stderr",
     "output_type": "stream",
     "text": [
      "Iteration: 100%|██████████| 1001/1001 [01:26<00:00, 11.58it/s]\n",
      "Iteration:   0%|          | 0/1001 [00:00<?, ?it/s]"
     ]
    },
    {
     "name": "stdout",
     "output_type": "stream",
     "text": [
      "Evaluating...\n"
     ]
    },
    {
     "name": "stderr",
     "output_type": "stream",
     "text": [
      "Iteration: 100%|██████████| 1001/1001 [01:28<00:00, 11.28it/s]\n",
      "Iteration:   0%|          | 0/1001 [00:00<?, ?it/s]"
     ]
    },
    {
     "name": "stdout",
     "output_type": "stream",
     "text": [
      "Evaluating...\n"
     ]
    },
    {
     "name": "stderr",
     "output_type": "stream",
     "text": [
      "Iteration:  50%|████▉     | 499/1001 [00:25<00:25, 20.05it/s]]\n",
      "Iteration:  56%|█████▌    | 557/1001 [00:27<00:21, 20.47it/s]\n",
      "Iteration:   0%|          | 0/1001 [00:00<?, ?it/s]"
     ]
    },
    {
     "name": "stdout",
     "output_type": "stream",
     "text": [
      "{'Train':  best_epoch_indx:9\n",
      " auc:0.9141482200661613 \n",
      " apur:0.6026251439608853 \n",
      " f1:0.5047085131176972 \n",
      " precision:0.35114052194491313 \n",
      " recall:0.8970053176602295 \n",
      ", 'Validation':  best_epoch_indx:9\n",
      " auc:0.9040436324463283 \n",
      " apur:0.5619540278331348 \n",
      " f1:0.49847246891651864 \n",
      " precision:0.34715487382483917 \n",
      " recall:0.8836272040302267 \n",
      "}\n",
      "=====Epoch 10\n",
      "Training...\n"
     ]
    },
    {
     "name": "stderr",
     "output_type": "stream",
     "text": [
      "Iteration:  72%|███████▏  | 719/1001 [00:36<00:13, 20.42it/s]]\n",
      "Iteration:  12%|█▏        | 119/1001 [00:10<01:29,  9.85it/s]\n",
      "Iteration:  78%|███████▊  | 780/1001 [00:38<00:11, 19.47it/s]"
     ]
    },
    {
     "name": "stdout",
     "output_type": "stream",
     "text": [
      "{'Train':  best_epoch_indx:9\n",
      " auc:0.912904258514968 \n",
      " apur:0.5972721566039221 \n",
      " f1:0.48844864824607137 \n",
      " precision:0.3327751900224272 \n",
      " recall:0.9177978672786812 \n",
      ", 'Validation':  best_epoch_indx:9\n",
      " auc:0.9012549415474327 \n",
      " apur:0.5641051317143647 \n",
      " f1:0.4805910006715916 \n",
      " precision:0.32765567765567766 \n",
      " recall:0.9012594458438287 \n",
      "}\n",
      "=====Epoch 10\n",
      "Training...\n"
     ]
    },
    {
     "name": "stderr",
     "output_type": "stream",
     "text": [
      "Iteration:  21%|██        | 208/1001 [00:21<01:25,  9.32it/s]]\n",
      "Iteration:  56%|█████▋    | 63/112 [00:03<00:02, 21.44it/s]s]]\n",
      "Iteration:  16%|█▌        | 160/1001 [00:16<02:57,  4.74it/s]]\n",
      "Iteration:   0%|          | 0/1001 [00:00<?, ?it/s]"
     ]
    },
    {
     "name": "stdout",
     "output_type": "stream",
     "text": [
      "{'Train':  best_epoch_indx:9\n",
      " auc:0.9152942288039353 \n",
      " apur:0.6055354072879833 \n",
      " f1:0.5117245712536551 \n",
      " precision:0.35926118626430803 \n",
      " recall:0.8889977329340312 \n",
      ", 'Validation':  best_epoch_indx:9\n",
      " auc:0.9014884835298324 \n",
      " apur:0.5644663717900666 \n",
      " f1:0.5045110593713621 \n",
      " precision:0.3547165950480868 \n",
      " recall:0.8732997481108312 \n",
      "}\n",
      "=====Epoch 10\n",
      "Training...\n"
     ]
    },
    {
     "name": "stderr",
     "output_type": "stream",
     "text": [
      "Iteration:  18%|█▊        | 182/1001 [00:18<01:13, 11.07it/s]\n",
      "Iteration:   3%|▎         | 33/1001 [00:03<01:26, 11.22it/s]]\n",
      "Iteration:  20%|█▉        | 196/1001 [00:19<01:12, 11.14it/s]"
     ]
    },
    {
     "name": "stdout",
     "output_type": "stream",
     "text": [
      "{'Train':  best_epoch_indx:9\n",
      " auc:0.9167329105931648 \n",
      " apur:0.6131028451253471 \n",
      " f1:0.5137751901828651 \n",
      " precision:0.36045133991537376 \n",
      " recall:0.8940916342466904 \n",
      ", 'Validation':  best_epoch_indx:9\n",
      " auc:0.9061541031654445 \n",
      " apur:0.5772827305774638 \n",
      " f1:0.5058926233085989 \n",
      " precision:0.35566693944353517 \n",
      " recall:0.8758186397984886 \n",
      "}\n",
      "=====Epoch 10\n",
      "Training...\n"
     ]
    },
    {
     "name": "stderr",
     "output_type": "stream",
     "text": [
      "Iteration:   8%|▊         | 83/1001 [00:07<01:34,  9.67it/s]]\n",
      "Iteration:   8%|▊         | 84/1001 [00:07<01:34,  9.72it/s]]"
     ]
    },
    {
     "name": "stdout",
     "output_type": "stream",
     "text": [
      "{'Train':  best_epoch_indx:9\n",
      " auc:0.9138421943314224 \n",
      " apur:0.6015514463705802 \n",
      " f1:0.5058901348116417 \n",
      " precision:0.35197177388426854 \n",
      " recall:0.8990455932155952 \n",
      ", 'Validation':  best_epoch_indx:9\n",
      " auc:0.9035429398304 \n",
      " apur:0.564382536251474 \n",
      " f1:0.4991494187694924 \n",
      " precision:0.3473071611757743 \n",
      " recall:0.8869017632241813 \n",
      "}\n",
      "=====Epoch 10\n",
      "Training...\n"
     ]
    },
    {
     "name": "stderr",
     "output_type": "stream",
     "text": [
      "Iteration:  67%|██████▋   | 675/1001 [00:57<00:26, 12.08it/s]]\n",
      "Iteration:  68%|██████▊   | 677/1001 [00:57<00:26, 12.05it/s]"
     ]
    },
    {
     "name": "stdout",
     "output_type": "stream",
     "text": [
      "Evaluating...\n"
     ]
    },
    {
     "name": "stderr",
     "output_type": "stream",
     "text": [
      "Iteration: 100%|██████████| 1001/1001 [01:32<00:00, 10.81it/s]\n",
      "Iteration:  80%|████████  | 803/1001 [01:08<00:16, 12.28it/s]"
     ]
    },
    {
     "name": "stdout",
     "output_type": "stream",
     "text": [
      "Evaluating...\n"
     ]
    },
    {
     "name": "stderr",
     "output_type": "stream",
     "text": [
      "Iteration: 100%|██████████| 1001/1001 [01:32<00:00, 10.77it/s]\n",
      "Iteration: 100%|██████████| 1001/1001 [01:25<00:00, 11.73it/s]\n",
      "Iteration:   0%|          | 0/1001 [00:00<?, ?it/s]"
     ]
    },
    {
     "name": "stdout",
     "output_type": "stream",
     "text": [
      "Evaluating...\n",
      "Evaluating...\n"
     ]
    },
    {
     "name": "stderr",
     "output_type": "stream",
     "text": [
      "\r",
      "Iteration:  55%|█████▌    | 552/1001 [00:27<00:23, 18.73it/s]\r",
      "Iteration:  33%|███▎      | 335/1001 [00:16<00:37, 17.62it/s]\r",
      "Iteration:   0%|          | 4/1001 [00:00<01:06, 14.99it/s]\r",
      "Iteration: 100%|██████████| 1001/1001 [01:30<00:00, 11.70it/s]\r",
      "Iteration: 100%|██████████| 1001/1001 [01:30<00:00, 11.11it/s]\r",
      "Iteration:   0%|          | 2/1001 [00:00<01:04, 15.45it/s]\n",
      "\r",
      "Iteration:   0%|          | 0/1001 [00:00<?, ?it/s]\r",
      "Iteration:  55%|█████▌    | 554/1001 [00:27<00:24, 18.36it/s]\r",
      "Iteration:  34%|███▎      | 337/1001 [00:17<00:37, 17.51it/s]\r",
      "Iteration:   1%|          | 6/1001 [00:00<01:02, 15.97it/s]\r",
      "Iteration:   0%|          | 4/1001 [00:00<00:57, 17.32it/s]\r",
      "Iteration:   0%|          | 2/1001 [00:00<01:07, 14.71it/s]"
     ]
    },
    {
     "name": "stdout",
     "output_type": "stream",
     "text": [
      "Evaluating...\n"
     ]
    },
    {
     "name": "stderr",
     "output_type": "stream",
     "text": [
      "Iteration:  52%|█████▏    | 523/1001 [00:25<00:23, 20.67it/s]]\n",
      "Iteration:  62%|██████▏   | 622/1001 [00:30<00:18, 20.35it/s]\n",
      "Iteration:  59%|█████▉    | 594/1001 [00:31<00:23, 17.14it/s]"
     ]
    },
    {
     "name": "stdout",
     "output_type": "stream",
     "text": [
      "{'Train':  best_epoch_indx:10\n",
      " auc:0.9133925313425616 \n",
      " apur:0.5999626943646053 \n",
      " f1:0.5094360799781936 \n",
      " precision:0.3569727203271763 \n",
      " recall:0.8892247411139099 \n",
      ", 'Validation':  best_epoch_indx:10\n",
      " auc:0.9025265374200744 \n",
      " apur:0.5581770926773288 \n",
      " f1:0.50275442157147 \n",
      " precision:0.35294117647058826 \n",
      " recall:0.873551637279597 \n",
      "}\n",
      "=====Epoch 11\n",
      "Training...\n"
     ]
    },
    {
     "name": "stderr",
     "output_type": "stream",
     "text": [
      "Iteration:  72%|███████▏  | 716/1001 [00:38<00:16, 17.06it/s]]\n",
      "Iteration:  14%|█▍        | 145/1001 [00:13<01:18, 10.95it/s]\n",
      "Iteration:  90%|████████▉ | 898/1001 [00:44<00:04, 20.76it/s]"
     ]
    },
    {
     "name": "stdout",
     "output_type": "stream",
     "text": [
      "{'Train':  best_epoch_indx:10\n",
      " auc:0.9132005682352416 \n",
      " apur:0.5978000110096687 \n",
      " f1:0.49828501115127277 \n",
      " precision:0.3435382445573218 \n",
      " recall:0.9067144336533348 \n",
      ", 'Validation':  best_epoch_indx:10\n",
      " auc:0.9019298702908353 \n",
      " apur:0.5689046753500152 \n",
      " f1:0.4908018049288441 \n",
      " precision:0.33876377575467176 \n",
      " recall:0.8904282115869018 \n",
      "}\n",
      "=====Epoch 11\n",
      "Training...\n"
     ]
    },
    {
     "name": "stderr",
     "output_type": "stream",
     "text": [
      "Iteration:   8%|▊         | 81/1001 [00:06<01:20, 11.45it/s]]]\n",
      "Iteration:  97%|█████████▋| 970/1001 [00:52<00:01, 16.43it/s]\n",
      "Iteration:  94%|█████████▍| 105/112 [00:04<00:00, 21.52it/s]]]\n",
      "Iteration:  86%|████████▌ | 96/112 [00:04<00:00, 20.61it/s]s]"
     ]
    },
    {
     "name": "stdout",
     "output_type": "stream",
     "text": [
      "{'Train':  best_epoch_indx:10\n",
      " auc:0.9172839253173851 \n",
      " apur:0.6128357487983632 \n",
      " f1:0.5015807740768511 \n",
      " precision:0.34648326534099405 \n",
      " recall:0.9080578801533769 \n",
      ", 'Validation':  best_epoch_indx:10\n",
      " auc:0.9058438038581633 \n",
      " apur:0.5779764720750321 \n",
      " f1:0.4942657342657343 \n",
      " precision:0.3421103581800581 \n",
      " recall:0.890176322418136 \n",
      "}\n",
      "=====Epoch 11\n",
      "Training...\n"
     ]
    },
    {
     "name": "stderr",
     "output_type": "stream",
     "text": [
      "\n",
      "Iteration:   1%|▏         | 13/1001 [00:01<01:24, 11.67it/s]]\n",
      "Iteration:  38%|███▊      | 42/112 [00:02<00:03, 20.64it/s]]]"
     ]
    },
    {
     "name": "stdout",
     "output_type": "stream",
     "text": [
      "{'Train':  best_epoch_indx:10\n",
      " auc:0.9152247072754118 \n",
      " apur:0.6083539345798663 \n",
      " f1:0.5250946969696969 \n",
      " precision:0.37619180306022315 \n",
      " recall:0.8690979316521593 \n",
      ", 'Validation':  best_epoch_indx:10\n",
      " auc:0.9052185638040227 \n",
      " apur:0.5773931522593909 \n",
      " f1:0.5184224578533833 \n",
      " precision:0.37181310865521394 \n",
      " recall:0.8559193954659949 \n",
      "}\n",
      "=====Epoch 11\n",
      "Training...\n"
     ]
    },
    {
     "name": "stderr",
     "output_type": "stream",
     "text": [
      "Iteration:   6%|▌         | 59/1001 [00:05<01:18, 11.96it/s]]\n",
      "Iteration:  34%|███▍      | 343/1001 [00:30<00:56, 11.61it/s]"
     ]
    },
    {
     "name": "stdout",
     "output_type": "stream",
     "text": [
      "{'Train':  best_epoch_indx:10\n",
      " auc:0.9147208966956495 \n",
      " apur:0.6043975215242626 \n",
      " f1:0.508814390580943 \n",
      " precision:0.3560091209872127 \n",
      " recall:0.8914327297153573 \n",
      ", 'Validation':  best_epoch_indx:10\n",
      " auc:0.9007024773801606 \n",
      " apur:0.5626586027265541 \n",
      " f1:0.49662113587347234 \n",
      " precision:0.34748490945674043 \n",
      " recall:0.8700251889168765 \n",
      "}\n",
      "=====Epoch 11\n",
      "Training...\n"
     ]
    },
    {
     "name": "stderr",
     "output_type": "stream",
     "text": [
      "Iteration: 100%|██████████| 1001/1001 [01:28<00:00, 11.35it/s]\n",
      "Iteration:  87%|████████▋ | 867/1001 [01:15<00:11, 11.27it/s]"
     ]
    },
    {
     "name": "stdout",
     "output_type": "stream",
     "text": [
      "Evaluating...\n"
     ]
    },
    {
     "name": "stderr",
     "output_type": "stream",
     "text": [
      "Iteration:  73%|███████▎  | 730/1001 [01:10<00:27,  9.96it/s]"
     ]
    },
    {
     "name": "stdout",
     "output_type": "stream",
     "text": [
      "Evaluating...\n"
     ]
    },
    {
     "name": "stderr",
     "output_type": "stream",
     "text": [
      "Iteration: 100%|██████████| 1001/1001 [01:27<00:00, 11.40it/s]\n",
      "Iteration: 100%|██████████| 1001/1001 [01:23<00:00, 11.96it/s]\n",
      "Iteration:  18%|█▊        | 178/1001 [00:08<00:39, 20.62it/s]"
     ]
    },
    {
     "name": "stdout",
     "output_type": "stream",
     "text": [
      "Evaluating...\n"
     ]
    },
    {
     "name": "stderr",
     "output_type": "stream",
     "text": [
      "Iteration: 100%|██████████| 1001/1001 [01:24<00:00, 11.89it/s]\n",
      "Iteration:   3%|▎         | 33/1001 [00:01<00:46, 20.62it/s]"
     ]
    },
    {
     "name": "stdout",
     "output_type": "stream",
     "text": [
      "Evaluating...\n"
     ]
    },
    {
     "name": "stderr",
     "output_type": "stream",
     "text": [
      "Iteration: 100%|██████████| 1001/1001 [01:33<00:00, 10.71it/s]\n",
      "Iteration:   0%|          | 2/1001 [00:00<01:05, 15.36it/s]s]"
     ]
    },
    {
     "name": "stdout",
     "output_type": "stream",
     "text": [
      "Evaluating...\n"
     ]
    },
    {
     "name": "stderr",
     "output_type": "stream",
     "text": [
      "Iteration:  59%|█████▉    | 589/1001 [00:30<00:21, 19.35it/s]]\n",
      "Iteration:  42%|████▏     | 425/1001 [00:23<00:28, 20.27it/s]\n",
      "Iteration:  43%|████▎     | 428/1001 [00:23<00:28, 20.17it/s]"
     ]
    },
    {
     "name": "stdout",
     "output_type": "stream",
     "text": [
      "{'Train':  best_epoch_indx:11\n",
      " auc:0.9155281650022773 \n",
      " apur:0.6109721538207973 \n",
      " f1:0.4910908693653986 \n",
      " precision:0.3359931545686038 \n",
      " recall:0.9121466554715925 \n",
      ", 'Validation':  best_epoch_indx:11\n",
      " auc:0.9052489924476106 \n",
      " apur:0.5688349276713102 \n",
      " f1:0.48545405111473633 \n",
      " precision:0.3324334388382052 \n",
      " recall:0.8994962216624686 \n",
      "}\n",
      "=====Epoch 12\n",
      "Training...\n"
     ]
    },
    {
     "name": "stderr",
     "output_type": "stream",
     "text": [
      "Iteration:  85%|████████▌ | 851/1001 [00:43<00:07, 19.32it/s]]\n",
      "Iteration:  13%|█▎        | 132/1001 [00:12<01:27,  9.98it/s]\n",
      "Iteration:   0%|          | 0/1001 [00:00<?, ?it/s]"
     ]
    },
    {
     "name": "stdout",
     "output_type": "stream",
     "text": [
      "{'Train':  best_epoch_indx:11\n",
      " auc:0.9147889146040844 \n",
      " apur:0.6069333738215885 \n",
      " f1:0.48664017842636226 \n",
      " precision:0.3305376365661085 \n",
      " recall:0.9221360799350667 \n",
      ", 'Validation':  best_epoch_indx:11\n",
      " auc:0.9032082461795552 \n",
      " apur:0.5735914423737654 \n",
      " f1:0.48025086736055517 \n",
      " precision:0.3266473044109639 \n",
      " recall:0.9065491183879093 \n",
      "}\n",
      "=====Epoch 12\n",
      "Training...\n"
     ]
    },
    {
     "name": "stderr",
     "output_type": "stream",
     "text": [
      "Iteration:   3%|▎         | 35/1001 [00:03<01:25, 11.23it/s]]]\n",
      "Iteration:   5%|▍         | 47/1001 [00:04<01:24, 11.28it/s]]\n",
      "Iteration:  23%|██▎       | 226/1001 [00:21<01:17, 10.04it/s]\n",
      "Iteration:  88%|████████▊ | 99/112 [00:04<00:00, 20.25it/s]s]"
     ]
    },
    {
     "name": "stdout",
     "output_type": "stream",
     "text": [
      "{'Train':  best_epoch_indx:11\n",
      " auc:0.9184849696356437 \n",
      " apur:0.6257549208468126 \n",
      " f1:0.5269031286598629 \n",
      " precision:0.3757621314624572 \n",
      " recall:0.881440846371295 \n",
      ", 'Validation':  best_epoch_indx:11\n",
      " auc:0.9070335766796246 \n",
      " apur:0.5898905245438981 \n",
      " f1:0.5152108433734941 \n",
      " precision:0.3674543501611171 \n",
      " recall:0.861712846347607 \n",
      "}\n",
      "=====Epoch 12\n",
      "Training...\n"
     ]
    },
    {
     "name": "stderr",
     "output_type": "stream",
     "text": [
      "Iteration:  11%|█▏        | 113/1001 [00:09<01:16, 11.65it/s]\n",
      "Iteration:  11%|█▏        | 115/1001 [00:10<01:16, 11.53it/s]"
     ]
    },
    {
     "name": "stdout",
     "output_type": "stream",
     "text": [
      "{'Train':  best_epoch_indx:11\n",
      " auc:0.9152483680504635 \n",
      " apur:0.609157263184685 \n",
      " f1:0.5145590918305291 \n",
      " precision:0.3622197360610073 \n",
      " recall:0.8880461249965015 \n",
      ", 'Validation':  best_epoch_indx:11\n",
      " auc:0.9035973728166269 \n",
      " apur:0.5657287633021865 \n",
      " f1:0.5064689635121383 \n",
      " precision:0.3559460563955864 \n",
      " recall:0.8775818639798488 \n",
      "}\n",
      "=====Epoch 12\n",
      "Training...\n"
     ]
    },
    {
     "name": "stderr",
     "output_type": "stream",
     "text": [
      "Iteration:  21%|██▏       | 215/1001 [00:18<01:06, 11.91it/s]]\n",
      "Iteration:  17%|█▋        | 171/1001 [00:14<01:12, 11.51it/s]\n",
      "Iteration:  28%|██▊       | 285/1001 [00:24<01:01, 11.63it/s]"
     ]
    },
    {
     "name": "stdout",
     "output_type": "stream",
     "text": [
      "{'Train':  best_epoch_indx:11\n",
      " auc:0.9148722414627757 \n",
      " apur:0.609075002699172 \n",
      " f1:0.5194324082955711 \n",
      " precision:0.3686255178808258 \n",
      " recall:0.8790618265274707 \n",
      ", 'Validation':  best_epoch_indx:11\n",
      " auc:0.9018445415170556 \n",
      " apur:0.5687024125668235 \n",
      " f1:0.5110862262038074 \n",
      " precision:0.36318302387267903 \n",
      " recall:0.8622166246851385 \n",
      "}\n",
      "=====Epoch 12\n",
      "Training...\n"
     ]
    },
    {
     "name": "stderr",
     "output_type": "stream",
     "text": [
      "Iteration: 100%|██████████| 1001/1001 [01:29<00:00, 11.23it/s]\n",
      "Iteration:  54%|█████▍    | 542/1001 [00:51<00:43, 10.58it/s]"
     ]
    },
    {
     "name": "stdout",
     "output_type": "stream",
     "text": [
      "Evaluating...\n"
     ]
    },
    {
     "name": "stderr",
     "output_type": "stream",
     "text": [
      "Iteration: 100%|██████████| 1001/1001 [01:30<00:00, 11.11it/s]\n",
      "Iteration:  97%|█████████▋| 972/1001 [01:21<00:02, 12.13it/s]"
     ]
    },
    {
     "name": "stdout",
     "output_type": "stream",
     "text": [
      "Evaluating...\n"
     ]
    },
    {
     "name": "stderr",
     "output_type": "stream",
     "text": [
      "Iteration: 100%|██████████| 1001/1001 [01:23<00:00, 11.93it/s]\n",
      "Iteration:   0%|          | 2/1001 [00:00<01:14, 13.46it/s]]]"
     ]
    },
    {
     "name": "stdout",
     "output_type": "stream",
     "text": [
      "Evaluating...\n"
     ]
    },
    {
     "name": "stderr",
     "output_type": "stream",
     "text": [
      "Iteration: 100%|██████████| 1001/1001 [01:27<00:00, 11.46it/s]\n",
      "Iteration:  10%|▉         | 96/1001 [00:04<00:42, 21.23it/s]]"
     ]
    },
    {
     "name": "stdout",
     "output_type": "stream",
     "text": [
      "Evaluating...\n"
     ]
    },
    {
     "name": "stderr",
     "output_type": "stream",
     "text": [
      "Iteration: 100%|██████████| 1001/1001 [01:33<00:00, 10.73it/s]\n",
      "Iteration:  52%|█████▏    | 525/1001 [00:27<00:26, 17.63it/s]"
     ]
    },
    {
     "name": "stdout",
     "output_type": "stream",
     "text": [
      "Evaluating...\n"
     ]
    },
    {
     "name": "stderr",
     "output_type": "stream",
     "text": [
      "Iteration:  17%|█▋        | 173/1001 [00:09<00:41, 20.00it/s]]\n",
      "Iteration:  85%|████████▍ | 848/1001 [00:40<00:07, 20.91it/s]\n",
      "Iteration:  85%|████████▌ | 851/1001 [00:41<00:07, 20.96it/s]"
     ]
    },
    {
     "name": "stdout",
     "output_type": "stream",
     "text": [
      "{'Train':  best_epoch_indx:12\n",
      " auc:0.9124922816771355 \n",
      " apur:0.5982988266175663 \n",
      " f1:0.4892573651444492 \n",
      " precision:0.3343391733637138 \n",
      " recall:0.9116988525048978 \n",
      ", 'Validation':  best_epoch_indx:12\n",
      " auc:0.901051331064585 \n",
      " apur:0.5587404253758095 \n",
      " f1:0.4827586206896551 \n",
      " precision:0.33042185467385243 \n",
      " recall:0.8957178841309824 \n",
      "}\n",
      "=====Epoch 13\n",
      "Training...\n"
     ]
    },
    {
     "name": "stderr",
     "output_type": "stream",
     "text": [
      "Iteration:  49%|████▉     | 493/1001 [00:25<00:25, 19.96it/s]]\n",
      "Iteration:  51%|█████     | 507/1001 [00:26<00:25, 19.25it/s]\n",
      "Iteration:  84%|████████▍ | 94/112 [00:04<00:01, 17.24it/s]s]]\n",
      "Iteration:  19%|█▊        | 187/1001 [00:15<01:07, 11.98it/s]"
     ]
    },
    {
     "name": "stdout",
     "output_type": "stream",
     "text": [
      "{'Train':  best_epoch_indx:12\n",
      " auc:0.9141385326680374 \n",
      " apur:0.6090320649271079 \n",
      " f1:0.5022924653782959 \n",
      " precision:0.3485952585223879 \n",
      " recall:0.8984018584343251 \n",
      ", 'Validation':  best_epoch_indx:12\n",
      " auc:0.9020641977522403 \n",
      " apur:0.5765116373558741 \n",
      " f1:0.49052616750017614 \n",
      " precision:0.3404713014569277 \n",
      " recall:0.8770780856423174 \n",
      "}\n",
      "=====Epoch 13\n",
      "Training...\n"
     ]
    },
    {
     "name": "stderr",
     "output_type": "stream",
     "text": [
      "Iteration:  63%|██████▎   | 629/1001 [00:32<00:18, 20.39it/s]\n",
      "Iteration:  20%|██        | 201/1001 [00:16<01:06, 12.10it/s]"
     ]
    },
    {
     "name": "stdout",
     "output_type": "stream",
     "text": [
      "{'Train':  best_epoch_indx:12\n",
      " auc:0.9112878304985331 \n",
      " apur:0.598274017184415 \n",
      " f1:0.47598278418332823 \n",
      " precision:0.32037630918585835 \n",
      " recall:0.9254946961851717 \n",
      ", 'Validation':  best_epoch_indx:12\n",
      " auc:0.9001620260985191 \n",
      " apur:0.5674597299542588 \n",
      " f1:0.4704430297518513 \n",
      " precision:0.3169642857142857 \n",
      " recall:0.9120906801007557 \n",
      "}\n",
      "=====Epoch 13\n",
      "Training...\n"
     ]
    },
    {
     "name": "stderr",
     "output_type": "stream",
     "text": [
      "\n",
      "Iteration:  28%|██▊       | 277/1001 [00:23<01:02, 11.65it/s]\n",
      "Iteration:  76%|███████▌  | 759/1001 [00:39<00:12, 19.61it/s]"
     ]
    },
    {
     "name": "stdout",
     "output_type": "stream",
     "text": [
      "{'Train':  best_epoch_indx:12\n",
      " auc:0.915836329024396 \n",
      " apur:0.6134709851181945 \n",
      " f1:0.5195569771170623 \n",
      " precision:0.3678425893584818 \n",
      " recall:0.8842676817151334 \n",
      ", 'Validation':  best_epoch_indx:12\n",
      " auc:0.9053305154980795 \n",
      " apur:0.576439877706021 \n",
      " f1:0.5132232017186459 \n",
      " precision:0.36352188057508655 \n",
      " recall:0.872544080604534 \n",
      "}\n",
      "=====Epoch 13\n",
      "Training...\n"
     ]
    },
    {
     "name": "stderr",
     "output_type": "stream",
     "text": [
      "Iteration:  26%|██▋       | 263/1001 [00:22<01:00, 12.21it/s]]\n",
      "Iteration:  22%|██▏       | 222/1001 [00:20<01:19,  9.79it/s]\n",
      "Iteration:   0%|          | 1/1001 [00:00<01:47,  9.27it/s]s]"
     ]
    },
    {
     "name": "stdout",
     "output_type": "stream",
     "text": [
      "{'Train':  best_epoch_indx:12\n",
      " auc:0.9152579394814508 \n",
      " apur:0.6107339190504832 \n",
      " f1:0.5115977005043176 \n",
      " precision:0.358496078387307 \n",
      " recall:0.8929441070279045 \n",
      ", 'Validation':  best_epoch_indx:12\n",
      " auc:0.9000421072427115 \n",
      " apur:0.5679329393191817 \n",
      " f1:0.5019104606733472 \n",
      " precision:0.3515806484193516 \n",
      " recall:0.8768261964735516 \n",
      "}\n",
      "=====Epoch 13\n",
      "Training...\n"
     ]
    },
    {
     "name": "stderr",
     "output_type": "stream",
     "text": [
      "Iteration: 100%|██████████| 1001/1001 [01:26<00:00, 11.59it/s]\n",
      "Iteration:  79%|███████▊  | 788/1001 [01:09<00:20, 10.40it/s]"
     ]
    },
    {
     "name": "stdout",
     "output_type": "stream",
     "text": [
      "Evaluating...\n"
     ]
    },
    {
     "name": "stderr",
     "output_type": "stream",
     "text": [
      "Iteration: 100%|██████████| 1001/1001 [01:24<00:00, 11.86it/s]\n",
      "Iteration:   0%|          | 2/1001 [00:00<01:00, 16.45it/s]s]"
     ]
    },
    {
     "name": "stdout",
     "output_type": "stream",
     "text": [
      "Evaluating...\n"
     ]
    },
    {
     "name": "stderr",
     "output_type": "stream",
     "text": [
      "Iteration: 100%|██████████| 1001/1001 [01:28<00:00, 11.34it/s]\n",
      "Iteration:  38%|███▊      | 383/1001 [00:18<00:30, 19.98it/s]"
     ]
    },
    {
     "name": "stdout",
     "output_type": "stream",
     "text": [
      "Evaluating...\n"
     ]
    },
    {
     "name": "stderr",
     "output_type": "stream",
     "text": [
      "Iteration: 100%|██████████| 1001/1001 [01:32<00:00, 10.77it/s]\n",
      "Iteration:  34%|███▍      | 338/1001 [00:16<00:35, 18.49it/s]"
     ]
    },
    {
     "name": "stdout",
     "output_type": "stream",
     "text": [
      "Evaluating...\n"
     ]
    },
    {
     "name": "stderr",
     "output_type": "stream",
     "text": [
      "Iteration: 100%|██████████| 1001/1001 [01:25<00:00, 11.77it/s]\n",
      "Iteration:   0%|          | 0/1001 [00:00<?, ?it/s]"
     ]
    },
    {
     "name": "stdout",
     "output_type": "stream",
     "text": [
      "Evaluating...\n"
     ]
    },
    {
     "name": "stderr",
     "output_type": "stream",
     "text": [
      "Iteration:  66%|██████▋   | 665/1001 [00:33<00:16, 20.03it/s]]\n",
      "Iteration:  31%|███       | 311/1001 [00:15<00:33, 20.60it/s]\n",
      "Iteration:  76%|███████▋  | 764/1001 [00:39<00:13, 17.04it/s]"
     ]
    },
    {
     "name": "stdout",
     "output_type": "stream",
     "text": [
      "{'Train':  best_epoch_indx:13\n",
      " auc:0.9092987408318329 \n",
      " apur:0.5851180902037831 \n",
      " f1:0.47874759617142315 \n",
      " precision:0.32402925834644813 \n",
      " recall:0.9162328575426812 \n",
      ", 'Validation':  best_epoch_indx:13\n",
      " auc:0.898425634837934 \n",
      " apur:0.5439504435378195 \n",
      " f1:0.4723631332762369 \n",
      " precision:0.3198322776340441 \n",
      " recall:0.9030226700251889 \n",
      "}\n",
      "=====Epoch 14\n",
      "Training...\n"
     ]
    },
    {
     "name": "stderr",
     "output_type": "stream",
     "text": [
      "Iteration:  71%|███████   | 711/1001 [00:35<00:14, 20.01it/s]]\n",
      "Iteration:  82%|████████▏ | 822/1001 [00:40<00:08, 20.27it/s]]\n",
      "Iteration:  56%|█████▌    | 558/1001 [00:28<00:26, 16.72it/s]"
     ]
    },
    {
     "name": "stdout",
     "output_type": "stream",
     "text": [
      "{'Train':  best_epoch_indx:13\n",
      " auc:0.9120846504570426 \n",
      " apur:0.5994153160659387 \n",
      " f1:0.4932373356851236 \n",
      " precision:0.3385941838374982 \n",
      " recall:0.9078899493408715 \n",
      ", 'Validation':  best_epoch_indx:13\n",
      " auc:0.900961579423174 \n",
      " apur:0.5650065276598716 \n",
      " f1:0.4862007414526981 \n",
      " precision:0.33418271045677617 \n",
      " recall:0.8919395465994963 \n",
      "}\n",
      "=====Epoch 14\n",
      "Training...\n"
     ]
    },
    {
     "name": "stderr",
     "output_type": "stream",
     "text": [
      "Iteration:  60%|██████    | 602/1001 [00:30<00:19, 19.95it/s]\n",
      "Iteration:  20%|██        | 201/1001 [00:20<01:32,  8.68it/s]\n",
      "Iteration:  71%|███████▏  | 714/1001 [00:36<00:14, 19.79it/s]"
     ]
    },
    {
     "name": "stdout",
     "output_type": "stream",
     "text": [
      "{'Train':  best_epoch_indx:13\n",
      " auc:0.9079619419803513 \n",
      " apur:0.589100851380983 \n",
      " f1:0.48249382807030466 \n",
      " precision:0.3274713402556869 \n",
      " recall:0.9162305130286322 \n",
      ", 'Validation':  best_epoch_indx:13\n",
      " auc:0.8981106512338299 \n",
      " apur:0.5645566558493453 \n",
      " f1:0.4762475847824638 \n",
      " precision:0.32376121025455207 \n",
      " recall:0.9002518891687658 \n",
      "}\n",
      "=====Epoch 14\n",
      "Training...\n"
     ]
    },
    {
     "name": "stderr",
     "output_type": "stream",
     "text": [
      "Iteration:   4%|▍         | 39/1001 [00:03<01:18, 12.27it/s]]]\n",
      "Iteration:  19%|█▉        | 189/1001 [00:16<01:07, 12.03it/s]\n",
      "Iteration:  28%|██▊       | 279/1001 [00:29<01:21,  8.86it/s]"
     ]
    },
    {
     "name": "stdout",
     "output_type": "stream",
     "text": [
      "{'Train':  best_epoch_indx:13\n",
      " auc:0.9131368127994909 \n",
      " apur:0.6082554258719427 \n",
      " f1:0.5083115592388953 \n",
      " precision:0.35614407493513933 \n",
      " recall:0.8875143440902348 \n",
      ", 'Validation':  best_epoch_indx:13\n",
      " auc:0.9024366186354099 \n",
      " apur:0.5717650822186146 \n",
      " f1:0.5016644955854682 \n",
      " precision:0.3519496344435418 \n",
      " recall:0.8730478589420655 \n",
      "}\n",
      "=====Epoch 14\n",
      "Training...\n"
     ]
    },
    {
     "name": "stderr",
     "output_type": "stream",
     "text": [
      "Iteration:  20%|█▉        | 199/1001 [00:16<01:06, 11.99it/s]]\n",
      "Iteration:  16%|█▋        | 165/1001 [00:13<01:08, 12.22it/s]\n",
      "Iteration:  17%|█▋        | 167/1001 [00:13<01:08, 12.22it/s]"
     ]
    },
    {
     "name": "stdout",
     "output_type": "stream",
     "text": [
      "{'Train':  best_epoch_indx:13\n",
      " auc:0.9134600125221717 \n",
      " apur:0.6100945024239707 \n",
      " f1:0.5072316610033979 \n",
      " precision:0.35503548004387436 \n",
      " recall:0.8878222172464945 \n",
      ", 'Validation':  best_epoch_indx:13\n",
      " auc:0.8987877142680081 \n",
      " apur:0.5652322422776518 \n",
      " f1:0.49841589861751157 \n",
      " precision:0.3489614841701956 \n",
      " recall:0.8717884130982367 \n",
      "}\n",
      "=====Epoch 14\n",
      "Training...\n"
     ]
    },
    {
     "name": "stderr",
     "output_type": "stream",
     "text": [
      "Iteration: 100%|██████████| 1001/1001 [01:35<00:00, 10.48it/s]\n",
      "Iteration:   0%|          | 2/1001 [00:00<01:07, 14.77it/s]s]"
     ]
    },
    {
     "name": "stdout",
     "output_type": "stream",
     "text": [
      "Evaluating...\n"
     ]
    },
    {
     "name": "stderr",
     "output_type": "stream",
     "text": [
      "Iteration: 100%|██████████| 1001/1001 [01:24<00:00, 11.91it/s]\n",
      "Iteration:  97%|█████████▋| 969/1001 [01:32<00:03, 10.09it/s]"
     ]
    },
    {
     "name": "stdout",
     "output_type": "stream",
     "text": [
      "Evaluating...\n"
     ]
    },
    {
     "name": "stderr",
     "output_type": "stream",
     "text": [
      "Iteration: 100%|██████████| 1001/1001 [01:35<00:00, 10.50it/s]\n",
      "Iteration:  95%|█████████▍| 949/1001 [01:18<00:04, 11.40it/s]"
     ]
    },
    {
     "name": "stdout",
     "output_type": "stream",
     "text": [
      "Evaluating...\n"
     ]
    },
    {
     "name": "stderr",
     "output_type": "stream",
     "text": [
      "Iteration: 100%|██████████| 1001/1001 [01:23<00:00, 12.01it/s]\n",
      "Iteration:  16%|█▋        | 164/1001 [00:08<00:43, 19.33it/s]"
     ]
    },
    {
     "name": "stdout",
     "output_type": "stream",
     "text": [
      "Evaluating...\n"
     ]
    },
    {
     "name": "stderr",
     "output_type": "stream",
     "text": [
      "Iteration: 100%|██████████| 1001/1001 [01:27<00:00, 11.39it/s]\n",
      "Iteration:   0%|          | 0/1001 [00:00<?, ?it/s]"
     ]
    },
    {
     "name": "stdout",
     "output_type": "stream",
     "text": [
      "Evaluating...\n"
     ]
    },
    {
     "name": "stderr",
     "output_type": "stream",
     "text": [
      "Iteration:  81%|████████  | 810/1001 [00:40<00:09, 20.21it/s]]\n",
      "Iteration:  96%|█████████▌| 960/1001 [00:49<00:02, 19.98it/s]\n",
      "Iteration:  77%|███████▋  | 767/1001 [00:41<00:12, 19.41it/s]"
     ]
    },
    {
     "name": "stdout",
     "output_type": "stream",
     "text": [
      "{'Train':  best_epoch_indx:14\n",
      " auc:0.8991055575790302 \n",
      " apur:0.566927925455802 \n",
      " f1:0.4868280246758152 \n",
      " precision:0.33861292935484577 \n",
      " recall:0.8657990484186958 \n",
      ", 'Validation':  best_epoch_indx:14\n",
      " auc:0.888960980964612 \n",
      " apur:0.5327261346170209 \n",
      " f1:0.4811688772253351 \n",
      " precision:0.33488004738868593 \n",
      " recall:0.8544080604534005 \n",
      "}\n",
      "=====Epoch 15\n",
      "Training...\n"
     ]
    },
    {
     "name": "stderr",
     "output_type": "stream",
     "text": [
      "Iteration:  85%|████████▌ | 855/1001 [00:46<00:07, 19.86it/s]]\n",
      "Iteration:  89%|████████▉ | 892/1001 [00:48<00:05, 19.60it/s]\n",
      "Iteration:  97%|█████████▋| 970/1001 [00:52<00:01, 19.78it/s]\n",
      "Iteration:  12%|█▏        | 121/1001 [00:10<01:17, 11.43it/s]"
     ]
    },
    {
     "name": "stdout",
     "output_type": "stream",
     "text": [
      "{'Train':  best_epoch_indx:14\n",
      " auc:0.9101419027704856 \n",
      " apur:0.597432945827998 \n",
      " f1:0.5088099118603386 \n",
      " precision:0.3581702778602251 \n",
      " recall:0.8781382070586918 \n",
      ", 'Validation':  best_epoch_indx:14\n",
      " auc:0.8997098007403846 \n",
      " apur:0.5681486924323325 \n",
      " f1:0.5004396248534583 \n",
      " precision:0.3528621616036371 \n",
      " recall:0.8602015113350125 \n",
      "}\n",
      "=====Epoch 15\n",
      "Training...\n"
     ]
    },
    {
     "name": "stderr",
     "output_type": "stream",
     "text": [
      "Iteration:  70%|███████   | 702/1001 [00:35<00:14, 20.07it/s]]\n",
      "Iteration:   0%|          | 1/1001 [00:00<02:01,  8.23it/s]s]"
     ]
    },
    {
     "name": "stdout",
     "output_type": "stream",
     "text": [
      "{'Train':  best_epoch_indx:14\n",
      " auc:0.9063432520369061 \n",
      " apur:0.58985309039106 \n",
      " f1:0.4749815476581969 \n",
      " precision:0.321412323212343 \n",
      " recall:0.909569257465924 \n",
      ", 'Validation':  best_epoch_indx:14\n",
      " auc:0.8951043998190051 \n",
      " apur:0.5514484975783936 \n",
      " f1:0.4676406425596615 \n",
      " precision:0.31702070449045444 \n",
      " recall:0.8909319899244332 \n",
      "}\n",
      "=====Epoch 15\n",
      "Training...\n"
     ]
    },
    {
     "name": "stderr",
     "output_type": "stream",
     "text": [
      "Iteration:   2%|▏         | 23/1001 [00:02<01:35, 10.22it/s]]\n",
      "Iteration:  23%|██▎       | 233/1001 [00:19<01:03, 12.04it/s]\n",
      "Iteration:  86%|████████▌ | 862/1001 [00:43<00:06, 20.62it/s]"
     ]
    },
    {
     "name": "stdout",
     "output_type": "stream",
     "text": [
      "{'Train':  best_epoch_indx:14\n",
      " auc:0.9120410510198291 \n",
      " apur:0.6001029272370388 \n",
      " f1:0.49359349247700574 \n",
      " precision:0.3387120311881085 \n",
      " recall:0.9094573035909206 \n",
      ", 'Validation':  best_epoch_indx:14\n",
      " auc:0.9018136885867473 \n",
      " apur:0.568911560289295 \n",
      " f1:0.48683488754799775 \n",
      " precision:0.334463915583192 \n",
      " recall:0.8942065491183879 \n",
      "}\n",
      "=====Epoch 15\n",
      "Training...\n"
     ]
    },
    {
     "name": "stderr",
     "output_type": "stream",
     "text": [
      "Iteration:  17%|█▋        | 175/1001 [00:16<01:20, 10.25it/s]]\n",
      "Iteration:  17%|█▋        | 169/1001 [00:14<01:13, 11.36it/s]\n",
      "Iteration:  41%|████▏     | 413/1001 [00:34<00:48, 12.08it/s]"
     ]
    },
    {
     "name": "stdout",
     "output_type": "stream",
     "text": [
      "{'Train':  best_epoch_indx:14\n",
      " auc:0.9102806773362587 \n",
      " apur:0.5869461094727496 \n",
      " f1:0.5090103301072116 \n",
      " precision:0.3590020570220297 \n",
      " recall:0.8743597637773237 \n",
      ", 'Validation':  best_epoch_indx:14\n",
      " auc:0.896380941417661 \n",
      " apur:0.5479845963388277 \n",
      " f1:0.4958327240824682 \n",
      " precision:0.3492995467655542 \n",
      " recall:0.8541561712846347 \n",
      "}\n",
      "=====Epoch 15\n",
      "Training...\n"
     ]
    },
    {
     "name": "stderr",
     "output_type": "stream",
     "text": [
      "Iteration:  74%|███████▍  | 739/1001 [01:06<00:22, 11.87it/s]]"
     ]
    },
    {
     "name": "stdout",
     "output_type": "stream",
     "text": [
      "Evaluating...\n"
     ]
    },
    {
     "name": "stderr",
     "output_type": "stream",
     "text": [
      "Iteration: 100%|██████████| 1001/1001 [01:26<00:00, 11.57it/s]\n",
      "Iteration: 100%|██████████| 1001/1001 [01:26<00:00, 11.56it/s]\n",
      "Iteration:  92%|█████████▏| 924/1001 [01:24<00:07, 10.58it/s]"
     ]
    },
    {
     "name": "stdout",
     "output_type": "stream",
     "text": [
      "Evaluating...\n"
     ]
    },
    {
     "name": "stderr",
     "output_type": "stream",
     "text": [
      "Iteration: 100%|██████████| 1001/1001 [01:32<00:00, 10.83it/s]\n",
      "Iteration:  38%|███▊      | 385/1001 [00:17<00:29, 20.54it/s]"
     ]
    },
    {
     "name": "stdout",
     "output_type": "stream",
     "text": [
      "Evaluating...\n"
     ]
    },
    {
     "name": "stderr",
     "output_type": "stream",
     "text": [
      "Iteration: 100%|██████████| 1001/1001 [01:28<00:00, 11.29it/s]\n",
      "Iteration:  24%|██▎       | 236/1001 [00:11<00:37, 20.46it/s]"
     ]
    },
    {
     "name": "stdout",
     "output_type": "stream",
     "text": [
      "Evaluating...\n"
     ]
    },
    {
     "name": "stderr",
     "output_type": "stream",
     "text": [
      "Iteration: 100%|██████████| 1001/1001 [01:21<00:00, 12.28it/s]\n",
      "Iteration:   0%|          | 2/1001 [00:00<00:57, 17.34it/s]s]"
     ]
    },
    {
     "name": "stdout",
     "output_type": "stream",
     "text": [
      "Evaluating...\n"
     ]
    },
    {
     "name": "stderr",
     "output_type": "stream",
     "text": [
      "Iteration:  63%|██████▎   | 627/1001 [00:32<00:18, 20.10it/s]]\n",
      "Iteration:  74%|███████▍  | 740/1001 [00:38<00:13, 19.71it/s]\n",
      "Iteration:  54%|█████▍    | 543/1001 [00:26<00:22, 20.35it/s]"
     ]
    },
    {
     "name": "stdout",
     "output_type": "stream",
     "text": [
      "{'Train':  best_epoch_indx:15\n",
      " auc:0.9146254068802666 \n",
      " apur:0.61204233902645 \n",
      " f1:0.5084169982695512 \n",
      " precision:0.3554995483489645 \n",
      " recall:0.892191435768262 \n",
      ", 'Validation':  best_epoch_indx:15\n",
      " auc:0.9039816994423159 \n",
      " apur:0.571555948848753 \n",
      " f1:0.5011871357651629 \n",
      " precision:0.3507906133548192 \n",
      " recall:0.8773299748110831 \n",
      "}\n",
      "=====Epoch 16\n",
      "Training...\n"
     ]
    },
    {
     "name": "stderr",
     "output_type": "stream",
     "text": [
      "Iteration:   9%|▉         | 89/1001 [00:07<01:16, 11.86it/s]]]\n",
      "Iteration:  82%|████████▏ | 824/1001 [00:41<00:09, 19.33it/s]]\n",
      "Iteration:   0%|          | 0/1001 [00:00<?, ?it/s]"
     ]
    },
    {
     "name": "stdout",
     "output_type": "stream",
     "text": [
      "{'Train':  best_epoch_indx:15\n",
      " auc:0.913416734892424 \n",
      " apur:0.607872865567675 \n",
      " f1:0.4869817424608635 \n",
      " precision:0.3316014422297845 \n",
      " recall:0.9163704553723866 \n",
      ", 'Validation':  best_epoch_indx:15\n",
      " auc:0.9017894228149169 \n",
      " apur:0.5803360685206166 \n",
      " f1:0.47688597078922684 \n",
      " precision:0.32484483388097846 \n",
      " recall:0.8964735516372796 \n",
      "}\n",
      "=====Epoch 16\n",
      "Training...\n"
     ]
    },
    {
     "name": "stderr",
     "output_type": "stream",
     "text": [
      "Iteration:   1%|          | 7/1001 [00:00<01:29, 11.10it/s]s]\n",
      "Iteration:  86%|████████▌ | 859/1001 [00:42<00:07, 20.11it/s]\n",
      "Iteration:  95%|█████████▌| 952/1001 [00:47<00:02, 19.33it/s]\n",
      "Iteration:  86%|████████▌ | 96/112 [00:04<00:00, 19.40it/s]"
     ]
    },
    {
     "name": "stdout",
     "output_type": "stream",
     "text": [
      "{'Train':  best_epoch_indx:15\n",
      " auc:0.9216803128865293 \n",
      " apur:0.6471979380151169 \n",
      " f1:0.5125834127740705 \n",
      " precision:0.35786624663065303 \n",
      " recall:0.9029639788407177 \n",
      ", 'Validation':  best_epoch_indx:15\n",
      " auc:0.9081431807395429 \n",
      " apur:0.6072403504521126 \n",
      " f1:0.4994983517271034 \n",
      " precision:0.3490584935897436 \n",
      " recall:0.8778337531486146 \n",
      "}\n",
      "=====Epoch 16\n",
      "Training...\n"
     ]
    },
    {
     "name": "stderr",
     "output_type": "stream",
     "text": [
      "Iteration:  98%|█████████▊| 976/1001 [00:48<00:01, 20.20it/s]\n",
      "Iteration:   0%|          | 0/1001 [00:00<?, ?it/s]"
     ]
    },
    {
     "name": "stdout",
     "output_type": "stream",
     "text": [
      "{'Train':  best_epoch_indx:15\n",
      " auc:0.9151016587049379 \n",
      " apur:0.6072453424606702 \n",
      " f1:0.5221543512862606 \n",
      " precision:0.3717693129227483 \n",
      " recall:0.8768507374961516 \n",
      ", 'Validation':  best_epoch_indx:15\n",
      " auc:0.9043731489420389 \n",
      " apur:0.580083627411438 \n",
      " f1:0.5156062424969988 \n",
      " precision:0.36717247275058773 \n",
      " recall:0.8654911838790932 \n",
      "}\n",
      "=====Epoch 16\n",
      "Training...\n"
     ]
    },
    {
     "name": "stderr",
     "output_type": "stream",
     "text": [
      "Iteration:  28%|██▊       | 285/1001 [00:25<01:14,  9.61it/s]]\n",
      "Iteration:  18%|█▊        | 184/1001 [00:17<01:22,  9.91it/s]\n",
      "Iteration:  11%|█         | 110/1001 [00:10<01:24, 10.51it/s]"
     ]
    },
    {
     "name": "stdout",
     "output_type": "stream",
     "text": [
      "{'Train':  best_epoch_indx:15\n",
      " auc:0.9197131986254167 \n",
      " apur:0.6331595711216137 \n",
      " f1:0.5035498964128587 \n",
      " precision:0.3483488641731438 \n",
      " recall:0.9081698340283804 \n",
      ", 'Validation':  best_epoch_indx:15\n",
      " auc:0.9061621303273375 \n",
      " apur:0.60195310343296 \n",
      " f1:0.4901851594041487 \n",
      " precision:0.3386879569065025 \n",
      " recall:0.8869017632241813 \n",
      "}\n",
      "=====Epoch 16\n",
      "Training...\n"
     ]
    },
    {
     "name": "stderr",
     "output_type": "stream",
     "text": [
      "Iteration: 100%|██████████| 1001/1001 [01:29<00:00, 11.15it/s]\n",
      "Iteration:   0%|          | 2/1001 [00:00<00:59, 16.79it/s]s]"
     ]
    },
    {
     "name": "stdout",
     "output_type": "stream",
     "text": [
      "Evaluating...\n"
     ]
    },
    {
     "name": "stderr",
     "output_type": "stream",
     "text": [
      "Iteration: 100%|██████████| 1001/1001 [01:28<00:00, 11.34it/s]\n",
      "Iteration:  87%|████████▋ | 875/1001 [01:20<00:10, 12.04it/s]"
     ]
    },
    {
     "name": "stdout",
     "output_type": "stream",
     "text": [
      "Evaluating...\n"
     ]
    },
    {
     "name": "stderr",
     "output_type": "stream",
     "text": [
      "Iteration: 100%|██████████| 1001/1001 [01:29<00:00, 11.20it/s]\n",
      "Iteration:  96%|█████████▋| 965/1001 [01:28<00:03, 11.47it/s]"
     ]
    },
    {
     "name": "stdout",
     "output_type": "stream",
     "text": [
      "Evaluating...\n"
     ]
    },
    {
     "name": "stderr",
     "output_type": "stream",
     "text": [
      "Iteration: 100%|██████████| 1001/1001 [01:31<00:00, 10.91it/s]\n",
      "Iteration:  51%|█████     | 506/1001 [00:24<00:24, 20.51it/s]"
     ]
    },
    {
     "name": "stdout",
     "output_type": "stream",
     "text": [
      "Evaluating...\n"
     ]
    },
    {
     "name": "stderr",
     "output_type": "stream",
     "text": [
      "Iteration: 100%|██████████| 1001/1001 [01:25<00:00, 11.64it/s]\n",
      "Iteration:   7%|▋         | 74/1001 [00:03<00:44, 20.97it/s]]"
     ]
    },
    {
     "name": "stdout",
     "output_type": "stream",
     "text": [
      "Evaluating...\n"
     ]
    },
    {
     "name": "stderr",
     "output_type": "stream",
     "text": [
      "Iteration:  62%|██████▏   | 625/1001 [00:30<00:18, 20.69it/s]]\n",
      "Iteration:  75%|███████▍  | 749/1001 [00:36<00:12, 20.55it/s]\n",
      "Iteration:  88%|████████▊ | 884/1001 [00:44<00:05, 20.28it/s]"
     ]
    },
    {
     "name": "stdout",
     "output_type": "stream",
     "text": [
      "{'Train':  best_epoch_indx:16\n",
      " auc:0.9184783036526925 \n",
      " apur:0.6302234419388983 \n",
      " f1:0.5158166193744492 \n",
      " precision:0.3626618467869363 \n",
      " recall:0.8928911279037224 \n",
      ", 'Validation':  best_epoch_indx:16\n",
      " auc:0.9051879123027633 \n",
      " apur:0.5873330007185538 \n",
      " f1:0.5060731689577425 \n",
      " precision:0.35576234788833216 \n",
      " recall:0.8763224181360202 \n",
      "}\n",
      "=====Epoch 17\n",
      "Training...\n"
     ]
    },
    {
     "name": "stderr",
     "output_type": "stream",
     "text": [
      "Iteration:  92%|█████████▏| 922/1001 [00:44<00:03, 20.13it/s]]\n",
      "Iteration:  17%|█▋        | 174/1001 [00:14<01:07, 12.25it/s]]\n",
      "Iteration:  88%|████████▊ | 881/1001 [00:44<00:06, 18.73it/s]"
     ]
    },
    {
     "name": "stdout",
     "output_type": "stream",
     "text": [
      "{'Train':  best_epoch_indx:16\n",
      " auc:0.9209033180459497 \n",
      " apur:0.6319974469351117 \n",
      " f1:0.5172988542947764 \n",
      " precision:0.3638277773351695 \n",
      " recall:0.8947073805592096 \n",
      ", 'Validation':  best_epoch_indx:16\n",
      " auc:0.9061353016922868 \n",
      " apur:0.5915146240177213 \n",
      " f1:0.5061015710632079 \n",
      " precision:0.35645908389089037 \n",
      " recall:0.8722921914357683 \n",
      "}\n",
      "=====Epoch 17\n",
      "Training...\n"
     ]
    },
    {
     "name": "stderr",
     "output_type": "stream",
     "text": [
      "Iteration:  18%|█▊        | 176/1001 [00:15<01:07, 12.23it/s]\n",
      "Iteration:  71%|███████▏  | 80/112 [00:03<00:01, 20.35it/s]]]]\n",
      "Iteration:  24%|██▍       | 240/1001 [00:20<01:13, 10.37it/s]\n",
      "Iteration: 100%|██████████| 1001/1001 [00:50<00:00, 19.85it/s]"
     ]
    },
    {
     "name": "stdout",
     "output_type": "stream",
     "text": [
      "{'Train':  best_epoch_indx:16\n",
      " auc:0.9245946974368642 \n",
      " apur:0.6548452909042718 \n",
      " f1:0.5366712666254646 \n",
      " precision:0.3847040831189008 \n",
      " recall:0.8870945170589717 \n",
      ", 'Validation':  best_epoch_indx:16\n",
      " auc:0.9114176199332129 \n",
      " apur:0.6178974737116986 \n",
      " f1:0.5219378427787934 \n",
      " precision:0.3740991482856519 \n",
      " recall:0.8629722921914358 \n",
      "}\n",
      "=====Epoch 17\n",
      "Training...\n"
     ]
    },
    {
     "name": "stderr",
     "output_type": "stream",
     "text": [
      "Iteration:   2%|▏         | 20/1001 [00:02<01:50,  8.91it/s]]\n",
      "Iteration:   3%|▎         | 34/1001 [00:03<01:39,  9.75it/s]]\n",
      "Iteration:   0%|          | 0/1001 [00:00<?, ?it/s]"
     ]
    },
    {
     "name": "stdout",
     "output_type": "stream",
     "text": [
      "{'Train':  best_epoch_indx:16\n",
      " auc:0.92448594343075 \n",
      " apur:0.6537232724991777 \n",
      " f1:0.531373629125144 \n",
      " precision:0.378581197597669 \n",
      " recall:0.8909569257465924 \n",
      ", 'Validation':  best_epoch_indx:16\n",
      " auc:0.91156951029341 \n",
      " apur:0.6160846792711493 \n",
      " f1:0.5229102400120382 \n",
      " precision:0.37281407574294606 \n",
      " recall:0.8753148614609572 \n",
      "}\n",
      "=====Epoch 17\n",
      "Training...\n"
     ]
    },
    {
     "name": "stderr",
     "output_type": "stream",
     "text": [
      "Iteration:   5%|▍         | 49/1001 [00:04<01:23, 11.41it/s]]\n",
      "Iteration:  34%|███▎      | 336/1001 [00:29<00:58, 11.34it/s]"
     ]
    },
    {
     "name": "stdout",
     "output_type": "stream",
     "text": [
      "{'Train':  best_epoch_indx:16\n",
      " auc:0.9261656643214833 \n",
      " apur:0.664468564537789 \n",
      " f1:0.5212784885883894 \n",
      " precision:0.3665616433681768 \n",
      " recall:0.901984382434437 \n",
      ", 'Validation':  best_epoch_indx:16\n",
      " auc:0.9108436842864511 \n",
      " apur:0.6238658338499622 \n",
      " f1:0.5087948829771769 \n",
      " precision:0.35758071107478545 \n",
      " recall:0.8816120906801007 \n",
      "}\n",
      "=====Epoch 17\n",
      "Training...\n"
     ]
    },
    {
     "name": "stderr",
     "output_type": "stream",
     "text": [
      "Iteration: 100%|██████████| 1001/1001 [01:34<00:00, 10.65it/s]\n",
      "Iteration:  87%|████████▋ | 875/1001 [01:19<00:12, 10.29it/s]"
     ]
    },
    {
     "name": "stdout",
     "output_type": "stream",
     "text": [
      "Evaluating...\n"
     ]
    },
    {
     "name": "stderr",
     "output_type": "stream",
     "text": [
      "Iteration: 100%|██████████| 1001/1001 [01:31<00:00, 10.96it/s]\n",
      "Iteration:  93%|█████████▎| 927/1001 [01:17<00:06, 12.03it/s]"
     ]
    },
    {
     "name": "stdout",
     "output_type": "stream",
     "text": [
      "Evaluating...\n"
     ]
    },
    {
     "name": "stderr",
     "output_type": "stream",
     "text": [
      "Iteration: 100%|██████████| 1001/1001 [01:26<00:00, 11.60it/s]\n",
      "Iteration:   0%|          | 0/1001 [00:00<?, ?it/s]"
     ]
    },
    {
     "name": "stdout",
     "output_type": "stream",
     "text": [
      "Evaluating...\n"
     ]
    },
    {
     "name": "stderr",
     "output_type": "stream",
     "text": [
      "Iteration: 100%|██████████| 1001/1001 [01:23<00:00, 12.01it/s]\n",
      "Iteration:  96%|█████████▌| 959/1001 [01:27<00:04,  9.73it/s]"
     ]
    },
    {
     "name": "stdout",
     "output_type": "stream",
     "text": [
      "Evaluating...\n"
     ]
    },
    {
     "name": "stderr",
     "output_type": "stream",
     "text": [
      "Iteration: 100%|██████████| 1001/1001 [01:32<00:00, 10.87it/s]\n",
      "Iteration:   0%|          | 0/1001 [00:00<?, ?it/s]"
     ]
    },
    {
     "name": "stdout",
     "output_type": "stream",
     "text": [
      "Evaluating...\n"
     ]
    },
    {
     "name": "stderr",
     "output_type": "stream",
     "text": [
      "Iteration:  74%|███████▍  | 740/1001 [00:39<00:13, 19.47it/s]]\n",
      "Iteration:  85%|████████▌ | 855/1001 [00:46<00:08, 17.09it/s]"
     ]
    },
    {
     "name": "stdout",
     "output_type": "stream",
     "text": [
      "{'Train':  best_epoch_indx:17\n",
      " auc:0.9243155498507785 \n",
      " apur:0.6507974405657856 \n",
      " f1:0.5033891821589778 \n",
      " precision:0.34637818488102756 \n",
      " recall:0.9207668625804646 \n",
      ", 'Validation':  best_epoch_indx:17\n",
      " auc:0.9105934536930472 \n",
      " apur:0.6047830476307007 \n",
      " f1:0.4959602237414544 \n",
      " precision:0.34164208923984396 \n",
      " recall:0.9045340050377834 \n",
      "}\n",
      "=====Epoch 18\n",
      "Training...\n"
     ]
    },
    {
     "name": "stderr",
     "output_type": "stream",
     "text": [
      "\n",
      "Iteration:  96%|█████████▌| 959/1001 [00:49<00:02, 20.44it/s]]\n",
      "Iteration:  88%|████████▊ | 884/1001 [00:45<00:05, 20.32it/s]\n",
      "Iteration:  83%|████████▎ | 93/112 [00:04<00:00, 20.93it/s]s]]\n",
      "Iteration:  18%|█▊        | 181/1001 [00:15<01:10, 11.57it/s]\n",
      "Iteration:  93%|█████████▎| 104/112 [00:05<00:00, 20.68it/s]]"
     ]
    },
    {
     "name": "stdout",
     "output_type": "stream",
     "text": [
      "{'Train':  best_epoch_indx:17\n",
      " auc:0.9345875044173271 \n",
      " apur:0.6934602055456033 \n",
      " f1:0.540567106490737 \n",
      " precision:0.3848124384776859 \n",
      " recall:0.9081418455596294 \n",
      ", 'Validation':  best_epoch_indx:17\n",
      " auc:0.9187486258895986 \n",
      " apur:0.6472236932783351 \n",
      " f1:0.5239520958083832 \n",
      " precision:0.37273695420660274 \n",
      " recall:0.8816120906801007 \n",
      "}\n",
      "=====Epoch 18\n",
      "Training...\n"
     ]
    },
    {
     "name": "stderr",
     "output_type": "stream",
     "text": [
      "Iteration: 100%|██████████| 1001/1001 [00:51<00:00, 19.31it/s]\n",
      "Iteration:  19%|█▉        | 193/1001 [00:16<01:09, 11.59it/s]"
     ]
    },
    {
     "name": "stdout",
     "output_type": "stream",
     "text": [
      "{'Train':  best_epoch_indx:17\n",
      " auc:0.9313438741247824 \n",
      " apur:0.6778013653521837 \n",
      " f1:0.5276531775089106 \n",
      " precision:0.3709431818181818 \n",
      " recall:0.9136275854348008 \n",
      ", 'Validation':  best_epoch_indx:17\n",
      " auc:0.9149925955538694 \n",
      " apur:0.6284083442242858 \n",
      " f1:0.5164072206387488 \n",
      " precision:0.3637393184392052 \n",
      " recall:0.8899244332493703 \n",
      "}\n",
      "=====Epoch 18\n",
      "Training...\n"
     ]
    },
    {
     "name": "stderr",
     "output_type": "stream",
     "text": [
      "Iteration:  83%|████████▎ | 93/112 [00:04<00:00, 19.71it/s]]]\n",
      "Iteration:   4%|▍         | 40/1001 [00:03<01:46,  9.04it/s]]\n",
      "Iteration:   0%|          | 0/1001 [00:00<?, ?it/s]"
     ]
    },
    {
     "name": "stdout",
     "output_type": "stream",
     "text": [
      "{'Train':  best_epoch_indx:17\n",
      " auc:0.9322646354741492 \n",
      " apur:0.6838000153563917 \n",
      " f1:0.5432851449030601 \n",
      " precision:0.38900779974605476 \n",
      " recall:0.9003610512468863 \n",
      ", 'Validation':  best_epoch_indx:17\n",
      " auc:0.912600355595129 \n",
      " apur:0.6302260993266888 \n",
      " f1:0.5221711962659038 \n",
      " precision:0.3723826908622356 \n",
      " recall:0.873551637279597 \n",
      "}\n",
      "=====Epoch 18\n",
      "Training...\n"
     ]
    },
    {
     "name": "stderr",
     "output_type": "stream",
     "text": [
      "Iteration:   8%|▊         | 83/1001 [00:08<01:31, 10.04it/s]]\n",
      "Iteration:   0%|          | 1/1001 [00:00<02:04,  8.04it/s]]]"
     ]
    },
    {
     "name": "stdout",
     "output_type": "stream",
     "text": [
      "{'Train':  best_epoch_indx:17\n",
      " auc:0.9341255618202542 \n",
      " apur:0.6891133254740549 \n",
      " f1:0.5446199973049454 \n",
      " precision:0.3895213656679557 \n",
      " recall:0.9049511601220297 \n",
      ", 'Validation':  best_epoch_indx:17\n",
      " auc:0.9192321241790374 \n",
      " apur:0.6406506225608346 \n",
      " f1:0.528931862819157 \n",
      " precision:0.377751402675874 \n",
      " recall:0.8818639798488666 \n",
      "}\n",
      "=====Epoch 18\n",
      "Training...\n"
     ]
    },
    {
     "name": "stderr",
     "output_type": "stream",
     "text": [
      "Iteration: 100%|██████████| 1001/1001 [01:30<00:00, 11.02it/s]\n",
      "Iteration:  85%|████████▌ | 852/1001 [01:14<00:13, 11.19it/s]"
     ]
    },
    {
     "name": "stdout",
     "output_type": "stream",
     "text": [
      "Evaluating...\n"
     ]
    },
    {
     "name": "stderr",
     "output_type": "stream",
     "text": [
      "Iteration: 100%|██████████| 1001/1001 [01:25<00:00, 11.69it/s]\n",
      "Iteration:  95%|█████████▍| 949/1001 [01:20<00:04, 12.12it/s]"
     ]
    },
    {
     "name": "stdout",
     "output_type": "stream",
     "text": [
      "Evaluating...\n"
     ]
    },
    {
     "name": "stderr",
     "output_type": "stream",
     "text": [
      "Iteration: 100%|██████████| 1001/1001 [01:27<00:00, 11.39it/s]\n",
      "Iteration:  25%|██▍       | 250/1001 [00:13<00:39, 19.09it/s]"
     ]
    },
    {
     "name": "stdout",
     "output_type": "stream",
     "text": [
      "Evaluating...\n"
     ]
    },
    {
     "name": "stderr",
     "output_type": "stream",
     "text": [
      "Iteration: 100%|██████████| 1001/1001 [01:25<00:00, 11.74it/s]\n",
      "Iteration:   8%|▊         | 79/1001 [00:04<00:46, 19.99it/s]]"
     ]
    },
    {
     "name": "stdout",
     "output_type": "stream",
     "text": [
      "Evaluating...\n"
     ]
    },
    {
     "name": "stderr",
     "output_type": "stream",
     "text": [
      "Iteration:   7%|▋         | 70/1001 [00:03<00:46, 20.22it/s]s]\n",
      "Iteration:   9%|▉         | 95/1001 [00:04<00:45, 19.81it/s]"
     ]
    },
    {
     "name": "stdout",
     "output_type": "stream",
     "text": [
      "Evaluating...\n"
     ]
    },
    {
     "name": "stderr",
     "output_type": "stream",
     "text": [
      "Iteration:  85%|████████▍ | 848/1001 [00:42<00:07, 20.53it/s]]\n",
      "Iteration:  95%|█████████▍| 946/1001 [00:47<00:02, 20.48it/s]\n",
      "Iteration:   0%|          | 0/1001 [00:00<?, ?it/s]"
     ]
    },
    {
     "name": "stdout",
     "output_type": "stream",
     "text": [
      "{'Train':  best_epoch_indx:18\n",
      " auc:0.9364803823070484 \n",
      " apur:0.7005258484964523 \n",
      " f1:0.5573431734317343 \n",
      " precision:0.4040027692114041 \n",
      " recall:0.8982927511894766 \n",
      ", 'Validation':  best_epoch_indx:18\n",
      " auc:0.9200974805168824 \n",
      " apur:0.6429151333839579 \n",
      " f1:0.5396676807863328 \n",
      " precision:0.3908916261724489 \n",
      " recall:0.8712846347607053 \n",
      "}\n",
      "=====Epoch 19\n",
      "Training...\n"
     ]
    },
    {
     "name": "stderr",
     "output_type": "stream",
     "text": [
      "Iteration:  91%|█████████ | 910/1001 [00:46<00:04, 19.48it/s]]\n",
      "Iteration:  33%|███▎      | 37/112 [00:01<00:03, 20.43it/s]]]]\n",
      "Iteration:  45%|████▍     | 50/112 [00:02<00:03, 19.64it/s]s]\n",
      "Iteration:   9%|▉         | 95/1001 [00:08<01:16, 11.83it/s]s]\n",
      "Iteration:   0%|          | 1/1001 [00:00<02:18,  7.24it/s]"
     ]
    },
    {
     "name": "stdout",
     "output_type": "stream",
     "text": [
      "{'Train':  best_epoch_indx:18\n",
      " auc:0.9427159559263398 \n",
      " apur:0.7272461358216654 \n",
      " f1:0.568972654013827 \n",
      " precision:0.41510743291867996 \n",
      " recall:0.9040835175907526 \n",
      ", 'Validation':  best_epoch_indx:18\n",
      " auc:0.9240030226357394 \n",
      " apur:0.6723904374167733 \n",
      " f1:0.5468675654242665 \n",
      " precision:0.3990740740740741 \n",
      " recall:0.8685138539042822 \n",
      "}\n",
      "=====Epoch 19\n",
      "Training...\n"
     ]
    },
    {
     "name": "stderr",
     "output_type": "stream",
     "text": [
      "Iteration:  11%|█         | 109/1001 [00:09<01:13, 12.13it/s]\n",
      "Iteration:  96%|█████████▋| 108/112 [00:05<00:00, 20.35it/s]]\n",
      "Iteration:  99%|█████████▉| 111/112 [00:05<00:00, 20.12it/s]]"
     ]
    },
    {
     "name": "stdout",
     "output_type": "stream",
     "text": [
      "{'Train':  best_epoch_indx:18\n",
      " auc:0.9390057628177684 \n",
      " apur:0.7091702450278857 \n",
      " f1:0.5573239630701392 \n",
      " precision:0.4025229215132553 \n",
      " recall:0.9055948949032998 \n",
      ", 'Validation':  best_epoch_indx:18\n",
      " auc:0.9204038712434661 \n",
      " apur:0.6588836700023379 \n",
      " f1:0.5380371435231953 \n",
      " precision:0.38903247555905157 \n",
      " recall:0.8720403022670025 \n",
      "}\n",
      "=====Epoch 19\n",
      "Training...\n"
     ]
    },
    {
     "name": "stderr",
     "output_type": "stream",
     "text": [
      "Iteration:   3%|▎         | 29/1001 [00:02<01:22, 11.75it/s]]\n",
      "Iteration:   1%|          | 6/1001 [00:00<01:43,  9.63it/s]s]"
     ]
    },
    {
     "name": "stdout",
     "output_type": "stream",
     "text": [
      "{'Train':  best_epoch_indx:18\n",
      " auc:0.939326163792501 \n",
      " apur:0.7114735521278834 \n",
      " f1:0.5641700902419327 \n",
      " precision:0.4109890390985714 \n",
      " recall:0.8993814548406057 \n",
      ", 'Validation':  best_epoch_indx:18\n",
      " auc:0.9189162062870033 \n",
      " apur:0.6622070156724498 \n",
      " f1:0.540983606557377 \n",
      " precision:0.3936682725395733 \n",
      " recall:0.8644836272040303 \n",
      "}\n",
      "=====Epoch 19\n",
      "Training...\n"
     ]
    },
    {
     "name": "stderr",
     "output_type": "stream",
     "text": [
      "Iteration:   8%|▊         | 81/1001 [00:06<01:16, 11.97it/s]]"
     ]
    },
    {
     "name": "stdout",
     "output_type": "stream",
     "text": [
      "{'Train':  best_epoch_indx:18\n",
      " auc:0.9396660935041404 \n",
      " apur:0.7114821389253598 \n",
      " f1:0.538721859826377 \n",
      " precision:0.3804861151203741 \n",
      " recall:0.9222760222788211 \n",
      ", 'Validation':  best_epoch_indx:18\n",
      " auc:0.9218798833151519 \n",
      " apur:0.6559438026930935 \n",
      " f1:0.5252941176470588 \n",
      " precision:0.37092419522326064 \n",
      " recall:0.8997481108312343 \n",
      "}\n",
      "=====Epoch 19\n",
      "Training...\n"
     ]
    },
    {
     "name": "stderr",
     "output_type": "stream",
     "text": [
      "\n",
      "Iteration: 100%|██████████| 1001/1001 [01:25<00:00, 11.75it/s]\n",
      "Iteration:   0%|          | 0/1001 [00:00<?, ?it/s]"
     ]
    },
    {
     "name": "stdout",
     "output_type": "stream",
     "text": [
      "Evaluating...\n"
     ]
    },
    {
     "name": "stderr",
     "output_type": "stream",
     "text": [
      "Iteration: 100%|██████████| 1001/1001 [01:27<00:00, 11.40it/s]\n",
      "Iteration:   0%|          | 2/1001 [00:00<01:05, 15.24it/s]s]"
     ]
    },
    {
     "name": "stdout",
     "output_type": "stream",
     "text": [
      "Evaluating...\n"
     ]
    },
    {
     "name": "stderr",
     "output_type": "stream",
     "text": [
      "Iteration: 100%|██████████| 1001/1001 [01:26<00:00, 11.59it/s]\n",
      "Iteration:   0%|          | 2/1001 [00:00<01:04, 15.45it/s]s]"
     ]
    },
    {
     "name": "stdout",
     "output_type": "stream",
     "text": [
      "Evaluating...\n"
     ]
    },
    {
     "name": "stderr",
     "output_type": "stream",
     "text": [
      "Iteration: 100%|██████████| 1001/1001 [01:32<00:00, 10.86it/s]\n",
      "Iteration:  91%|█████████ | 907/1001 [01:27<00:09, 10.18it/s]"
     ]
    },
    {
     "name": "stdout",
     "output_type": "stream",
     "text": [
      "Evaluating...\n"
     ]
    },
    {
     "name": "stderr",
     "output_type": "stream",
     "text": [
      "Iteration: 100%|██████████| 1001/1001 [01:35<00:00, 10.48it/s]\n",
      "Iteration:  55%|█████▌    | 554/1001 [00:26<00:21, 20.72it/s]"
     ]
    },
    {
     "name": "stdout",
     "output_type": "stream",
     "text": [
      "Evaluating...\n"
     ]
    },
    {
     "name": "stderr",
     "output_type": "stream",
     "text": [
      "Iteration:  81%|████████  | 808/1001 [00:41<00:09, 20.19it/s]]\n",
      "Iteration:  82%|████████▏ | 818/1001 [00:41<00:09, 19.12it/s]\n",
      "Iteration:   0%|          | 0/1001 [00:00<?, ?it/s]"
     ]
    },
    {
     "name": "stdout",
     "output_type": "stream",
     "text": [
      "{'Train':  best_epoch_indx:19\n",
      " auc:0.9415650838577052 \n",
      " apur:0.7192887752524176 \n",
      " f1:0.5665585692682884 \n",
      " precision:0.4119329376024812 \n",
      " recall:0.9070249090400224 \n",
      ", 'Validation':  best_epoch_indx:19\n",
      " auc:0.9231520963321143 \n",
      " apur:0.6559504051151065 \n",
      " f1:0.5451837918332157 \n",
      " precision:0.39572192513368987 \n",
      " recall:0.8760705289672545 \n",
      "}\n",
      "=====Epoch 20\n",
      "Training...\n"
     ]
    },
    {
     "name": "stderr",
     "output_type": "stream",
     "text": [
      "Iteration:  75%|███████▌  | 751/1001 [00:39<00:12, 20.40it/s]]\n",
      "Iteration:   7%|▋         | 75/1001 [00:06<01:23, 11.14it/s]]\n",
      "Iteration: 100%|██████████| 112/112 [00:05<00:00, 20.70it/s]]]\n",
      "Iteration:  87%|████████▋ | 867/1001 [00:44<00:06, 20.37it/s]"
     ]
    },
    {
     "name": "stdout",
     "output_type": "stream",
     "text": [
      "{'Train':  best_epoch_indx:19\n",
      " auc:0.9487983954467383 \n",
      " apur:0.7467936398839893 \n",
      " f1:0.578270533446232 \n",
      " precision:0.42217986528777673 \n",
      " recall:0.9174899941224216 \n",
      ", 'Validation':  best_epoch_indx:19\n",
      " auc:0.9292653951150799 \n",
      " apur:0.6847372723464631 \n",
      " f1:0.5546763728438044 \n",
      " precision:0.4043608675588371 \n",
      " recall:0.8828715365239295 \n",
      "}\n",
      "=====Epoch 20\n",
      "Training...\n"
     ]
    },
    {
     "name": "stderr",
     "output_type": "stream",
     "text": [
      "Iteration:   0%|          | 3/1001 [00:00<01:50,  9.05it/s]s]\n",
      "Iteration:   0%|          | 1/1001 [00:00<02:16,  7.32it/s]s]"
     ]
    },
    {
     "name": "stdout",
     "output_type": "stream",
     "text": [
      "{'Train':  best_epoch_indx:19\n",
      " auc:0.9455742105085551 \n",
      " apur:0.734928677402338 \n",
      " f1:0.58182276838805 \n",
      " precision:0.4290060717180172 \n",
      " recall:0.9037476559657421 \n",
      ", 'Validation':  best_epoch_indx:19\n",
      " auc:0.9223058243252407 \n",
      " apur:0.6773085206048081 \n",
      " f1:0.5511468812877264 \n",
      " precision:0.4049674748669426 \n",
      " recall:0.8624685138539043 \n",
      "}\n",
      "=====Epoch 20\n",
      "Training...\n"
     ]
    },
    {
     "name": "stderr",
     "output_type": "stream",
     "text": [
      "Iteration:   0%|          | 2/1001 [00:00<01:56,  8.54it/s]s]\n",
      "Iteration:   8%|▊         | 76/1001 [00:07<01:30, 10.25it/s]]]\n",
      "Iteration:   8%|▊         | 78/1001 [00:07<01:30, 10.25it/s]]"
     ]
    },
    {
     "name": "stdout",
     "output_type": "stream",
     "text": [
      "{'Train':  best_epoch_indx:19\n",
      " auc:0.9444528876562107 \n",
      " apur:0.7287082833140576 \n",
      " f1:0.5677678376609209 \n",
      " precision:0.4125256829769424 \n",
      " recall:0.9103529345909486 \n",
      ", 'Validation':  best_epoch_indx:19\n",
      " auc:0.9247192571913814 \n",
      " apur:0.6725586755565544 \n",
      " f1:0.5492170902510033 \n",
      " precision:0.39935919441583706 \n",
      " recall:0.8790931989924433 \n",
      "}\n",
      "=====Epoch 20\n",
      "Training...\n"
     ]
    },
    {
     "name": "stderr",
     "output_type": "stream",
     "text": [
      "Iteration:  24%|██▍       | 238/1001 [00:20<01:02, 12.17it/s]\n",
      "Iteration:   7%|▋         | 70/1001 [00:06<01:34,  9.82it/s]]\n",
      "Iteration:   0%|          | 1/1001 [00:00<01:47,  9.28it/s]s]"
     ]
    },
    {
     "name": "stdout",
     "output_type": "stream",
     "text": [
      "{'Train':  best_epoch_indx:19\n",
      " auc:0.9460221553874069 \n",
      " apur:0.7389269181107545 \n",
      " f1:0.5818607372732592 \n",
      " precision:0.4288709591804236 \n",
      " recall:0.9045313330907666 \n",
      ", 'Validation':  best_epoch_indx:19\n",
      " auc:0.9282428598330675 \n",
      " apur:0.6862164002784694 \n",
      " f1:0.5596960633740199 \n",
      " precision:0.4120937983573384 \n",
      " recall:0.8720403022670025 \n",
      "}\n",
      "=====Epoch 20\n",
      "Training...\n"
     ]
    },
    {
     "name": "stderr",
     "output_type": "stream",
     "text": [
      "Iteration: 100%|██████████| 1001/1001 [01:24<00:00, 11.86it/s]\n",
      "Iteration:   0%|          | 0/1001 [00:00<?, ?it/s]"
     ]
    },
    {
     "name": "stdout",
     "output_type": "stream",
     "text": [
      "Evaluating...\n"
     ]
    },
    {
     "name": "stderr",
     "output_type": "stream",
     "text": [
      "Iteration: 100%|██████████| 1001/1001 [01:32<00:00, 10.83it/s]\n",
      "Iteration:  99%|█████████▉| 989/1001 [01:25<00:00, 12.10it/s]"
     ]
    },
    {
     "name": "stdout",
     "output_type": "stream",
     "text": [
      "Evaluating...\n"
     ]
    },
    {
     "name": "stderr",
     "output_type": "stream",
     "text": [
      "Iteration: 100%|██████████| 1001/1001 [01:26<00:00, 11.62it/s]\n",
      "Iteration:  91%|█████████▏| 915/1001 [01:19<00:08, 10.12it/s]"
     ]
    },
    {
     "name": "stdout",
     "output_type": "stream",
     "text": [
      "Evaluating...\n"
     ]
    },
    {
     "name": "stderr",
     "output_type": "stream",
     "text": [
      "Iteration: 100%|██████████| 1001/1001 [01:35<00:00, 10.49it/s]\n",
      "Iteration:   5%|▍         | 47/1001 [00:02<00:46, 20.72it/s]"
     ]
    },
    {
     "name": "stdout",
     "output_type": "stream",
     "text": [
      "Evaluating...\n"
     ]
    },
    {
     "name": "stderr",
     "output_type": "stream",
     "text": [
      "Iteration:  13%|█▎        | 129/1001 [00:06<00:42, 20.53it/s]]"
     ]
    },
    {
     "name": "stdout",
     "output_type": "stream",
     "text": [
      "Evaluating...\n"
     ]
    },
    {
     "name": "stderr",
     "output_type": "stream",
     "text": [
      "Iteration: 100%|██████████| 1001/1001 [01:27<00:00, 11.39it/s]\n",
      "Iteration:  43%|████▎     | 430/1001 [00:23<00:28, 20.22it/s]]\n",
      "Iteration:  67%|██████▋   | 675/1001 [00:35<00:15, 20.45it/s]\n",
      "Iteration:  76%|███████▌  | 757/1001 [00:38<00:12, 19.92it/s]"
     ]
    },
    {
     "name": "stdout",
     "output_type": "stream",
     "text": [
      "{'Train':  best_epoch_indx:20\n",
      " auc:0.9435579943326141 \n",
      " apur:0.7264020442432957 \n",
      " f1:0.5761970246280785 \n",
      " precision:0.42308801930339907 \n",
      " recall:0.9029666946543521 \n",
      ", 'Validation':  best_epoch_indx:20\n",
      " auc:0.9250848766298503 \n",
      " apur:0.6682930043896059 \n",
      " f1:0.5537474949899799 \n",
      " precision:0.406114050558495 \n",
      " recall:0.8700251889168765 \n",
      "}\n",
      "=====Epoch 21\n",
      "Training...\n"
     ]
    },
    {
     "name": "stderr",
     "output_type": "stream",
     "text": [
      "Iteration:  18%|█▊        | 180/1001 [00:15<01:15, 10.83it/s]]\n",
      "Iteration:  84%|████████▍ | 840/1001 [00:45<00:08, 19.15it/s]]\n",
      "Iteration:  88%|████████▊ | 884/1001 [00:47<00:05, 20.30it/s]\n",
      "Iteration:  88%|████████▊ | 98/112 [00:04<00:00, 20.21it/s]s]\n",
      "Iteration:  94%|█████████▍| 941/1001 [00:50<00:02, 20.51it/s]"
     ]
    },
    {
     "name": "stdout",
     "output_type": "stream",
     "text": [
      "{'Train':  best_epoch_indx:20\n",
      " auc:0.948102926444577 \n",
      " apur:0.743179652216097 \n",
      " f1:0.5700556442220592 \n",
      " precision:0.4120295313396353 \n",
      " recall:0.9247110190601472 \n",
      ", 'Validation':  best_epoch_indx:20\n",
      " auc:0.9271119257225666 \n",
      " apur:0.6787704698426081 \n",
      " f1:0.5426057425131213 \n",
      " precision:0.3911640329401291 \n",
      " recall:0.8853904282115869 \n",
      "}\n",
      "=====Epoch 21\n",
      "Training...\n"
     ]
    },
    {
     "name": "stderr",
     "output_type": "stream",
     "text": [
      "Iteration:   1%|          | 9/1001 [00:00<01:36, 10.31it/s]s]\n"
     ]
    },
    {
     "name": "stdout",
     "output_type": "stream",
     "text": [
      "{'Train':  best_epoch_indx:20\n",
      " auc:0.9442127658883274 \n",
      " apur:0.7249197955573715 \n",
      " f1:0.578401147158989 \n",
      " precision:0.42542616445399534 \n",
      " recall:0.9031598981219737 \n",
      ", 'Validation':  best_epoch_indx:20\n",
      " auc:0.9238382493878485 \n",
      " apur:0.6699891889042405 \n",
      " f1:0.5567226890756303 \n",
      " precision:0.4098263145372353 \n",
      " recall:0.8677581863979849 \n",
      "}\n",
      "=====Epoch 21\n",
      "Training...\n"
     ]
    },
    {
     "name": "stderr",
     "output_type": "stream",
     "text": [
      "Iteration: 100%|█████████▉| 998/1001 [00:53<00:00, 19.57it/s]\n",
      "Iteration:   3%|▎         | 31/1001 [00:02<01:32, 10.53it/s]"
     ]
    },
    {
     "name": "stdout",
     "output_type": "stream",
     "text": [
      "{'Train':  best_epoch_indx:20\n",
      " auc:0.9435836620370578 \n",
      " apur:0.7240897944904361 \n",
      " f1:0.5829102908115165 \n",
      " precision:0.4310767869353606 \n",
      " recall:0.8998572588093705 \n",
      ", 'Validation':  best_epoch_indx:20\n",
      " auc:0.9190559851899078 \n",
      " apur:0.6628806941574044 \n",
      " f1:0.5481757139390018 \n",
      " precision:0.40376593969729474 \n",
      " recall:0.8534005037783375 \n",
      "}\n",
      "=====Epoch 21\n",
      "Training...\n"
     ]
    },
    {
     "name": "stderr",
     "output_type": "stream",
     "text": [
      "Iteration:   6%|▌         | 59/1001 [00:05<01:30, 10.40it/s]]]\n",
      "Iteration:   9%|▉         | 95/1001 [00:08<01:14, 12.13it/s]]\n",
      "Iteration:   0%|          | 0/1001 [00:00<?, ?it/s]"
     ]
    },
    {
     "name": "stdout",
     "output_type": "stream",
     "text": [
      "{'Train':  best_epoch_indx:20\n",
      " auc:0.9458272222319298 \n",
      " apur:0.7363943495336643 \n",
      " f1:0.5859734879114689 \n",
      " precision:0.4338122528049076 \n",
      " recall:0.9025441518094545 \n",
      ", 'Validation':  best_epoch_indx:20\n",
      " auc:0.9266277417172162 \n",
      " apur:0.6800464343666566 \n",
      " f1:0.5672206680928089 \n",
      " precision:0.4211876832844575 \n",
      " recall:0.8682619647355164 \n",
      "}\n",
      "=====Epoch 21\n",
      "Training...\n"
     ]
    },
    {
     "name": "stderr",
     "output_type": "stream",
     "text": [
      "Iteration: 100%|██████████| 1001/1001 [01:26<00:00, 11.55it/s]\n",
      "Iteration:  62%|██████▏   | 623/1001 [00:53<00:31, 12.12it/s]"
     ]
    },
    {
     "name": "stdout",
     "output_type": "stream",
     "text": [
      "Evaluating...\n"
     ]
    },
    {
     "name": "stderr",
     "output_type": "stream",
     "text": [
      "Iteration: 100%|██████████| 1001/1001 [01:23<00:00, 11.95it/s]\n",
      "Iteration:  44%|████▍     | 444/1001 [00:21<00:27, 20.43it/s]"
     ]
    },
    {
     "name": "stdout",
     "output_type": "stream",
     "text": [
      "Evaluating...\n"
     ]
    },
    {
     "name": "stderr",
     "output_type": "stream",
     "text": [
      "Iteration:   2%|▏         | 21/1001 [00:01<00:48, 20.38it/s]s]\n",
      "Iteration:  96%|█████████▌| 957/1001 [01:27<00:03, 12.00it/s]"
     ]
    },
    {
     "name": "stdout",
     "output_type": "stream",
     "text": [
      "Evaluating...\n"
     ]
    },
    {
     "name": "stderr",
     "output_type": "stream",
     "text": [
      "Iteration: 100%|██████████| 1001/1001 [01:31<00:00, 10.93it/s]\n",
      "Iteration:   0%|          | 2/1001 [00:00<01:03, 15.85it/s]s]"
     ]
    },
    {
     "name": "stdout",
     "output_type": "stream",
     "text": [
      "Evaluating...\n"
     ]
    },
    {
     "name": "stderr",
     "output_type": "stream",
     "text": [
      "Iteration: 100%|██████████| 1001/1001 [01:26<00:00, 11.53it/s]\n",
      "Iteration:   0%|          | 2/1001 [00:00<01:01, 16.21it/s]s]"
     ]
    },
    {
     "name": "stdout",
     "output_type": "stream",
     "text": [
      "Evaluating...\n"
     ]
    },
    {
     "name": "stderr",
     "output_type": "stream",
     "text": [
      "Iteration:  60%|█████▉    | 597/1001 [00:30<00:24, 16.38it/s]]\n",
      "Iteration:  71%|███████   | 709/1001 [00:36<00:15, 18.85it/s]\n",
      "Iteration:  58%|█████▊    | 582/1001 [00:31<00:21, 19.57it/s]"
     ]
    },
    {
     "name": "stdout",
     "output_type": "stream",
     "text": [
      "{'Train':  best_epoch_indx:21\n",
      " auc:0.9400046297847028 \n",
      " apur:0.7109169516144938 \n",
      " f1:0.5567304651103151 \n",
      " precision:0.40077289453927856 \n",
      " recall:0.9113909879652953 \n",
      ", 'Validation':  best_epoch_indx:21\n",
      " auc:0.9209921083527144 \n",
      " apur:0.6500621772265877 \n",
      " f1:0.5402077722200848 \n",
      " precision:0.3889196675900277 \n",
      " recall:0.8841309823677582 \n",
      "}\n",
      "=====Epoch 22\n",
      "Training...\n"
     ]
    },
    {
     "name": "stderr",
     "output_type": "stream",
     "text": [
      "Iteration:  19%|█▉        | 193/1001 [00:17<01:09, 11.70it/s]]\n",
      "Iteration:  87%|████████▋ | 872/1001 [00:42<00:06, 19.58it/s]\n",
      "Iteration:  26%|██▌       | 259/1001 [00:22<01:02, 11.84it/s]]\n",
      "Iteration:   0%|          | 1/1001 [00:00<01:53,  8.82it/s]s]"
     ]
    },
    {
     "name": "stdout",
     "output_type": "stream",
     "text": [
      "{'Train':  best_epoch_indx:21\n",
      " auc:0.9427338681482683 \n",
      " apur:0.7222814233614687 \n",
      " f1:0.5751696862807975 \n",
      " precision:0.42183519082273935 \n",
      " recall:0.9036357020907386 \n",
      ", 'Validation':  best_epoch_indx:21\n",
      " auc:0.9212812747527372 \n",
      " apur:0.6641278021391114 \n",
      " f1:0.5502113743319773 \n",
      " precision:0.4025913388584102 \n",
      " recall:0.8687657430730479 \n",
      "}\n",
      "=====Epoch 22\n",
      "Training...\n"
     ]
    },
    {
     "name": "stderr",
     "output_type": "stream",
     "text": [
      "Iteration:  96%|█████████▋| 965/1001 [00:48<00:02, 17.58it/s]\n",
      "Iteration:  27%|██▋       | 271/1001 [00:23<01:01, 11.89it/s]\n",
      "Iteration:   0%|          | 0/1001 [00:00<?, ?it/s]"
     ]
    },
    {
     "name": "stdout",
     "output_type": "stream",
     "text": [
      "{'Train':  best_epoch_indx:21\n",
      " auc:0.9419387610853931 \n",
      " apur:0.7179739858984391 \n",
      " f1:0.5465328844515398 \n",
      " precision:0.3879103846695787 \n",
      " recall:0.9246270536538946 \n",
      ", 'Validation':  best_epoch_indx:21\n",
      " auc:0.9217661659026218 \n",
      " apur:0.6616274167182856 \n",
      " f1:0.5276848755109625 \n",
      " precision:0.3742751713231418 \n",
      " recall:0.8942065491183879 \n",
      "}\n",
      "=====Epoch 22\n",
      "Training...\n"
     ]
    },
    {
     "name": "stderr",
     "output_type": "stream",
     "text": [
      "Iteration:  83%|████████▎ | 93/112 [00:04<00:00, 20.89it/s]]]]\n",
      "Iteration:  33%|███▎      | 331/1001 [00:28<00:56, 11.86it/s]\n",
      "Iteration:  24%|██▍       | 27/112 [00:01<00:04, 20.70it/s]s]"
     ]
    },
    {
     "name": "stdout",
     "output_type": "stream",
     "text": [
      "{'Train':  best_epoch_indx:21\n",
      " auc:0.9473031462141651 \n",
      " apur:0.7398126516912947 \n",
      " f1:0.5859627922915295 \n",
      " precision:0.43225300018626434 \n",
      " recall:0.9093173612471662 \n",
      ", 'Validation':  best_epoch_indx:21\n",
      " auc:0.9269306224354763 \n",
      " apur:0.67910762264696 \n",
      " f1:0.5620372630379953 \n",
      " precision:0.41509433962264153 \n",
      " recall:0.8700251889168765 \n",
      "}\n",
      "=====Epoch 22\n",
      "Training...\n"
     ]
    },
    {
     "name": "stderr",
     "output_type": "stream",
     "text": [
      "Iteration:  13%|█▎        | 131/1001 [00:10<01:10, 12.40it/s]\n",
      "Iteration:   5%|▌         | 55/1001 [00:04<01:18, 12.07it/s]]"
     ]
    },
    {
     "name": "stdout",
     "output_type": "stream",
     "text": [
      "{'Train':  best_epoch_indx:21\n",
      " auc:0.9439438267601322 \n",
      " apur:0.7284790169716004 \n",
      " f1:0.5693110792974615 \n",
      " precision:0.4136780544737209 \n",
      " recall:0.9126759774972711 \n",
      ", 'Validation':  best_epoch_indx:21\n",
      " auc:0.9242981761928177 \n",
      " apur:0.669687883208202 \n",
      " f1:0.547945205479452 \n",
      " precision:0.3985341273476867 \n",
      " recall:0.8765743073047859 \n",
      "}\n",
      "=====Epoch 22\n",
      "Training...\n"
     ]
    },
    {
     "name": "stderr",
     "output_type": "stream",
     "text": [
      "Iteration: 100%|██████████| 1001/1001 [01:28<00:00, 11.30it/s]\n",
      "Iteration:  66%|██████▌   | 657/1001 [00:55<00:28, 12.23it/s]"
     ]
    },
    {
     "name": "stdout",
     "output_type": "stream",
     "text": [
      "Evaluating...\n"
     ]
    },
    {
     "name": "stderr",
     "output_type": "stream",
     "text": [
      "Iteration: 100%|██████████| 1001/1001 [01:28<00:00, 11.30it/s]\n",
      "Iteration:  50%|████▉     | 496/1001 [00:23<00:25, 19.88it/s]"
     ]
    },
    {
     "name": "stdout",
     "output_type": "stream",
     "text": [
      "Evaluating...\n"
     ]
    },
    {
     "name": "stderr",
     "output_type": "stream",
     "text": [
      "Iteration: 100%|██████████| 1001/1001 [01:31<00:00, 10.90it/s]\n",
      "Iteration:  93%|█████████▎| 931/1001 [01:25<00:05, 11.82it/s]"
     ]
    },
    {
     "name": "stdout",
     "output_type": "stream",
     "text": [
      "Evaluating...\n"
     ]
    },
    {
     "name": "stderr",
     "output_type": "stream",
     "text": [
      "Iteration: 100%|██████████| 1001/1001 [01:24<00:00, 11.91it/s]\n",
      "Iteration:   0%|          | 0/1001 [00:00<?, ?it/s]"
     ]
    },
    {
     "name": "stdout",
     "output_type": "stream",
     "text": [
      "Evaluating...\n"
     ]
    },
    {
     "name": "stderr",
     "output_type": "stream",
     "text": [
      "Iteration: 100%|██████████| 1001/1001 [01:31<00:00, 10.92it/s]\n",
      "Iteration:   0%|          | 2/1001 [00:00<01:05, 15.35it/s]s]"
     ]
    },
    {
     "name": "stdout",
     "output_type": "stream",
     "text": [
      "Evaluating...\n"
     ]
    },
    {
     "name": "stderr",
     "output_type": "stream",
     "text": [
      "Iteration:  45%|████▍     | 448/1001 [00:22<00:28, 19.39it/s]]\n",
      "Iteration:  50%|█████     | 501/1001 [00:24<00:24, 20.52it/s]\n",
      "Iteration:  50%|█████     | 504/1001 [00:24<00:25, 19.34it/s]"
     ]
    },
    {
     "name": "stdout",
     "output_type": "stream",
     "text": [
      "{'Train':  best_epoch_indx:22\n",
      " auc:0.9376700266122223 \n",
      " apur:0.7110112608999081 \n",
      " f1:0.5689412481956659 \n",
      " precision:0.4185497381508304 \n",
      " recall:0.888021270640918 \n",
      ", 'Validation':  best_epoch_indx:22\n",
      " auc:0.9203286610651105 \n",
      " apur:0.6540574157907707 \n",
      " f1:0.5505103270915375 \n",
      " precision:0.4042251858845745 \n",
      " recall:0.8627204030226701 \n",
      "}\n",
      "=====Epoch 23\n",
      "Training...\n"
     ]
    },
    {
     "name": "stderr",
     "output_type": "stream",
     "text": [
      "Iteration:  96%|█████████▌| 962/1001 [00:47<00:02, 18.72it/s]]\n",
      "Iteration:  38%|███▊      | 42/112 [00:02<00:03, 20.87it/s]s]]\n",
      "Iteration:  43%|████▎     | 48/112 [00:02<00:03, 20.98it/s]s]\n",
      "Iteration:  23%|██▎       | 26/112 [00:01<00:04, 18.88it/s]s]]\n",
      "Iteration:   0%|          | 0/1001 [00:00<?, ?it/s]"
     ]
    },
    {
     "name": "stdout",
     "output_type": "stream",
     "text": [
      "{'Train':  best_epoch_indx:22\n",
      " auc:0.9407893830416862 \n",
      " apur:0.7065377465881941 \n",
      " f1:0.545809192419271 \n",
      " precision:0.3872651356993737 \n",
      " recall:0.9241512496851297 \n",
      ", 'Validation':  best_epoch_indx:22\n",
      " auc:0.9195650521114094 \n",
      " apur:0.6448070820934904 \n",
      " f1:0.5257151326515489 \n",
      " precision:0.372427551448971 \n",
      " recall:0.8934508816120906 \n",
      "}\n",
      "=====Epoch 23\n",
      "Training...\n"
     ]
    },
    {
     "name": "stderr",
     "output_type": "stream",
     "text": [
      "Iteration:  54%|█████▎    | 60/112 [00:03<00:02, 20.06it/s]s]\n",
      "Iteration:   8%|▊         | 9/112 [00:00<00:05, 20.29it/s]]s]\n",
      "Iteration:   2%|▏         | 25/1001 [00:02<01:23, 11.71it/s]"
     ]
    },
    {
     "name": "stdout",
     "output_type": "stream",
     "text": [
      "{'Train':  best_epoch_indx:22\n",
      " auc:0.9410576676248745 \n",
      " apur:0.7174571624976447 \n",
      " f1:0.5649835882394022 \n",
      " precision:0.4105400707915202 \n",
      " recall:0.9057068487783033 \n",
      ", 'Validation':  best_epoch_indx:22\n",
      " auc:0.9194003088635896 \n",
      " apur:0.6638666305656504 \n",
      " f1:0.5358197358197359 \n",
      " precision:0.38741573033707866 \n",
      " recall:0.8685138539042822 \n",
      "}\n",
      "=====Epoch 23\n",
      "Training...\n"
     ]
    },
    {
     "name": "stderr",
     "output_type": "stream",
     "text": [
      "Iteration:  34%|███▍      | 343/1001 [00:30<01:04, 10.14it/s]\n",
      "Iteration:   0%|          | 1/1001 [00:00<02:07,  7.84it/s]]"
     ]
    },
    {
     "name": "stdout",
     "output_type": "stream",
     "text": [
      "{'Train':  best_epoch_indx:22\n",
      " auc:0.9413580540086692 \n",
      " apur:0.7137151038394122 \n",
      " f1:0.56496409935839 \n",
      " precision:0.40951541850220263 \n",
      " recall:0.9106328192784573 \n",
      ", 'Validation':  best_epoch_indx:22\n",
      " auc:0.9222082640938835 \n",
      " apur:0.6559155492394116 \n",
      " f1:0.5402710702601651 \n",
      " precision:0.3910690121786198 \n",
      " recall:0.873551637279597 \n",
      "}\n",
      "=====Epoch 23\n",
      "Training...\n"
     ]
    },
    {
     "name": "stderr",
     "output_type": "stream",
     "text": [
      "Iteration:   3%|▎         | 33/1001 [00:02<01:18, 12.26it/s]]\n",
      "Iteration:   0%|          | 0/1001 [00:00<?, ?it/s]"
     ]
    },
    {
     "name": "stdout",
     "output_type": "stream",
     "text": [
      "{'Train':  best_epoch_indx:22\n",
      " auc:0.9445947362321329 \n",
      " apur:0.728727458497348 \n",
      " f1:0.5653266982868103 \n",
      " precision:0.4088727818045489 \n",
      " recall:0.9157267205911165 \n",
      ", 'Validation':  best_epoch_indx:22\n",
      " auc:0.9238295536529416 \n",
      " apur:0.6608081994233095 \n",
      " f1:0.5414338919925512 \n",
      " precision:0.39123121776183 \n",
      " recall:0.8788413098236776 \n",
      "}\n",
      "=====Epoch 23\n",
      "Training...\n"
     ]
    },
    {
     "name": "stderr",
     "output_type": "stream",
     "text": [
      "Iteration: 100%|██████████| 1001/1001 [01:33<00:00, 10.73it/s]\n",
      "Iteration:  69%|██████▉   | 693/1001 [01:05<00:26, 11.52it/s]"
     ]
    },
    {
     "name": "stdout",
     "output_type": "stream",
     "text": [
      "Evaluating...\n"
     ]
    },
    {
     "name": "stderr",
     "output_type": "stream",
     "text": [
      "Iteration: 100%|██████████| 1001/1001 [01:25<00:00, 11.70it/s]\n",
      "Iteration:   0%|          | 2/1001 [00:00<01:01, 16.20it/s]s]"
     ]
    },
    {
     "name": "stdout",
     "output_type": "stream",
     "text": [
      "Evaluating...\n"
     ]
    },
    {
     "name": "stderr",
     "output_type": "stream",
     "text": [
      "Iteration: 100%|██████████| 1001/1001 [01:25<00:00, 11.71it/s]\n",
      "Iteration:  95%|█████████▍| 947/1001 [01:27<00:05, 10.44it/s]"
     ]
    },
    {
     "name": "stdout",
     "output_type": "stream",
     "text": [
      "Evaluating...\n"
     ]
    },
    {
     "name": "stderr",
     "output_type": "stream",
     "text": [
      "Iteration: 100%|██████████| 1001/1001 [01:33<00:00, 10.76it/s]\n",
      "Iteration:  96%|█████████▌| 959/1001 [01:28<00:04, 10.36it/s]"
     ]
    },
    {
     "name": "stdout",
     "output_type": "stream",
     "text": [
      "Evaluating...\n"
     ]
    },
    {
     "name": "stderr",
     "output_type": "stream",
     "text": [
      "Iteration: 100%|██████████| 1001/1001 [01:32<00:00, 10.85it/s]\n",
      "Iteration:  63%|██████▎   | 628/1001 [00:31<00:18, 20.65it/s]"
     ]
    },
    {
     "name": "stdout",
     "output_type": "stream",
     "text": [
      "Evaluating...\n"
     ]
    },
    {
     "name": "stderr",
     "output_type": "stream",
     "text": [
      "Iteration:  69%|██████▊   | 687/1001 [00:35<00:16, 19.42it/s]]\n",
      "Iteration:  79%|███████▉  | 795/1001 [00:40<00:10, 20.24it/s]\n",
      "Iteration:  59%|█████▉    | 594/1001 [00:31<00:22, 18.17it/s]"
     ]
    },
    {
     "name": "stdout",
     "output_type": "stream",
     "text": [
      "{'Train':  best_epoch_indx:23\n",
      " auc:0.9334786260339939 \n",
      " apur:0.6890344443883918 \n",
      " f1:0.5416952786105482 \n",
      " precision:0.3864896515462932 \n",
      " recall:0.9052057094878253 \n",
      ", 'Validation':  best_epoch_indx:23\n",
      " auc:0.9169747688258804 \n",
      " apur:0.6337459896841227 \n",
      " f1:0.5248376868488599 \n",
      " precision:0.37473048727899955 \n",
      " recall:0.8755667506297229 \n",
      "}\n",
      "=====Epoch 24\n",
      "Training...\n"
     ]
    },
    {
     "name": "stderr",
     "output_type": "stream",
     "text": [
      "Iteration:  15%|█▍        | 149/1001 [00:12<01:11, 11.99it/s]]\n",
      "Iteration:  87%|████████▋ | 874/1001 [00:44<00:06, 20.02it/s]]\n",
      "Iteration:  13%|█▎        | 15/112 [00:00<00:04, 20.90it/s]s]\n",
      "Iteration:  22%|██▏       | 217/1001 [00:18<01:05, 11.98it/s]"
     ]
    },
    {
     "name": "stdout",
     "output_type": "stream",
     "text": [
      "{'Train':  best_epoch_indx:23\n",
      " auc:0.9392375517198802 \n",
      " apur:0.7140980310296008 \n",
      " f1:0.5625965996908809 \n",
      " precision:0.4099151555481617 \n",
      " recall:0.8965266310280164 \n",
      ", 'Validation':  best_epoch_indx:23\n",
      " auc:0.9204925557394893 \n",
      " apur:0.6633616601660041 \n",
      " f1:0.5453538071869559 \n",
      " precision:0.3976223453370268 \n",
      " recall:0.8677581863979849 \n",
      "}\n",
      "=====Epoch 24\n",
      "Training...\n"
     ]
    },
    {
     "name": "stderr",
     "output_type": "stream",
     "text": [
      "Iteration:   5%|▌         | 52/1001 [00:04<01:24, 11.25it/s]]]\n",
      "Iteration:   0%|          | 0/1001 [00:00<?, ?it/s]"
     ]
    },
    {
     "name": "stdout",
     "output_type": "stream",
     "text": [
      "{'Train':  best_epoch_indx:23\n",
      " auc:0.937782704170165 \n",
      " apur:0.7048674335330971 \n",
      " f1:0.5744167920390074 \n",
      " precision:0.42474768459569223 \n",
      " recall:0.8869545747152173 \n",
      ", 'Validation':  best_epoch_indx:23\n",
      " auc:0.9220994024071543 \n",
      " apur:0.654720187173679 \n",
      " f1:0.5600719718655435 \n",
      " precision:0.414678454644544 \n",
      " recall:0.8624685138539043 \n",
      "}\n",
      "=====Epoch 24\n",
      "Training...\n"
     ]
    },
    {
     "name": "stderr",
     "output_type": "stream",
     "text": [
      "Iteration:   5%|▌         | 54/1001 [00:05<01:23, 11.27it/s]]\n",
      "Iteration:  54%|█████▎    | 60/112 [00:03<00:02, 19.83it/s]s]]\n",
      "Iteration:  12%|█▏        | 122/1001 [00:10<01:15, 11.57it/s]\n",
      "Iteration:   0%|          | 1/1001 [00:00<02:03,  8.10it/s]s]"
     ]
    },
    {
     "name": "stdout",
     "output_type": "stream",
     "text": [
      "{'Train':  best_epoch_indx:23\n",
      " auc:0.9379405785504894 \n",
      " apur:0.7012226570197979 \n",
      " f1:0.5848970337124781 \n",
      " precision:0.438705523361608 \n",
      " recall:0.877214587589913 \n",
      ", 'Validation':  best_epoch_indx:23\n",
      " auc:0.9138330670898449 \n",
      " apur:0.6391248053526994 \n",
      " f1:0.5538073201514514 \n",
      " precision:0.41579279848389133 \n",
      " recall:0.8289672544080604 \n",
      "}\n",
      "=====Epoch 24\n",
      "Training...\n"
     ]
    },
    {
     "name": "stderr",
     "output_type": "stream",
     "text": [
      "Iteration:   3%|▎         | 31/1001 [00:02<01:26, 11.19it/s]]\n",
      "Iteration:   9%|▉         | 93/1001 [00:09<01:28, 10.24it/s]"
     ]
    },
    {
     "name": "stdout",
     "output_type": "stream",
     "text": [
      "{'Train':  best_epoch_indx:23\n",
      " auc:0.9414622635924694 \n",
      " apur:0.7149769612935972 \n",
      " f1:0.5538811439161017 \n",
      " precision:0.39617525847733354 \n",
      " recall:0.9201768871225056 \n",
      ", 'Validation':  best_epoch_indx:23\n",
      " auc:0.9234510727554011 \n",
      " apur:0.6553221892628815 \n",
      " f1:0.535671100362757 \n",
      " precision:0.38263873893327577 \n",
      " recall:0.8926952141057934 \n",
      "}\n",
      "=====Epoch 24\n",
      "Training...\n"
     ]
    },
    {
     "name": "stderr",
     "output_type": "stream",
     "text": [
      "Iteration: 100%|██████████| 1001/1001 [01:26<00:00, 11.63it/s]\n",
      "Iteration:   0%|          | 0/1001 [00:00<?, ?it/s]"
     ]
    },
    {
     "name": "stdout",
     "output_type": "stream",
     "text": [
      "Evaluating...\n"
     ]
    },
    {
     "name": "stderr",
     "output_type": "stream",
     "text": [
      "Iteration: 100%|██████████| 1001/1001 [01:24<00:00, 11.87it/s]\n",
      "Iteration:  35%|███▍      | 349/1001 [00:16<00:31, 20.96it/s]"
     ]
    },
    {
     "name": "stdout",
     "output_type": "stream",
     "text": [
      "Evaluating...\n"
     ]
    },
    {
     "name": "stderr",
     "output_type": "stream",
     "text": [
      "Iteration: 100%|██████████| 1001/1001 [01:28<00:00, 11.31it/s]\n",
      "Iteration:  88%|████████▊ | 881/1001 [01:22<00:11, 10.37it/s]"
     ]
    },
    {
     "name": "stdout",
     "output_type": "stream",
     "text": [
      "Evaluating...\n"
     ]
    },
    {
     "name": "stderr",
     "output_type": "stream",
     "text": [
      "Iteration: 100%|██████████| 1001/1001 [01:27<00:00, 11.45it/s]\n",
      "Iteration:   0%|          | 0/1001 [00:00<?, ?it/s]"
     ]
    },
    {
     "name": "stdout",
     "output_type": "stream",
     "text": [
      "Evaluating...\n"
     ]
    },
    {
     "name": "stderr",
     "output_type": "stream",
     "text": [
      "Iteration: 100%|██████████| 1001/1001 [01:33<00:00, 10.75it/s]\n",
      "Iteration:   0%|          | 0/1001 [00:00<?, ?it/s]"
     ]
    },
    {
     "name": "stdout",
     "output_type": "stream",
     "text": [
      "Evaluating...\n"
     ]
    },
    {
     "name": "stderr",
     "output_type": "stream",
     "text": [
      "Iteration:  30%|███       | 304/1001 [00:15<00:34, 20.14it/s]]\n",
      "Iteration:  83%|████████▎ | 828/1001 [00:40<00:08, 19.40it/s]\n",
      "Iteration:  49%|████▊     | 486/1001 [00:23<00:25, 19.89it/s]"
     ]
    },
    {
     "name": "stdout",
     "output_type": "stream",
     "text": [
      "{'Train':  best_epoch_indx:24\n",
      " auc:0.9304080891396167 \n",
      " apur:0.6796907870408309 \n",
      " f1:0.5357220123483499 \n",
      " precision:0.3811931602879879 \n",
      " recall:0.9009515813042261 \n",
      ", 'Validation':  best_epoch_indx:24\n",
      " auc:0.9150960786564151 \n",
      " apur:0.6301634950114643 \n",
      " f1:0.5228308796054106 \n",
      " precision:0.3716927000318776 \n",
      " recall:0.8811083123425693 \n",
      "}\n",
      "=====Epoch 25\n",
      "Training...\n"
     ]
    },
    {
     "name": "stderr",
     "output_type": "stream",
     "text": [
      "Iteration:  89%|████████▊ | 886/1001 [00:43<00:05, 20.44it/s]]\n",
      "Iteration:  78%|███████▊  | 776/1001 [00:38<00:11, 19.90it/s]]\n",
      "Iteration:  20%|█▉        | 197/1001 [00:17<01:15, 10.68it/s]"
     ]
    },
    {
     "name": "stdout",
     "output_type": "stream",
     "text": [
      "{'Train':  best_epoch_indx:24\n",
      " auc:0.9329970252929569 \n",
      " apur:0.6816855870270296 \n",
      " f1:0.528997360195637 \n",
      " precision:0.3721756964621432 \n",
      " recall:0.9142153432785692 \n",
      ", 'Validation':  best_epoch_indx:24\n",
      " auc:0.9119910027215208 \n",
      " apur:0.6256460581506785 \n",
      " f1:0.5111127304525249 \n",
      " precision:0.35958166717932943 \n",
      " recall:0.8833753148614609 \n",
      "}\n",
      "=====Epoch 25\n",
      "Training...\n"
     ]
    },
    {
     "name": "stderr",
     "output_type": "stream",
     "text": [
      "Iteration:   3%|▎         | 28/1001 [00:02<01:21, 11.95it/s]]\n",
      "Iteration:  10%|▉         | 96/1001 [00:08<01:15, 12.02it/s]]]\n",
      "Iteration:  10%|▉         | 98/1001 [00:08<01:15, 11.97it/s]]"
     ]
    },
    {
     "name": "stdout",
     "output_type": "stream",
     "text": [
      "{'Train':  best_epoch_indx:24\n",
      " auc:0.9370440520444476 \n",
      " apur:0.7006700478506309 \n",
      " f1:0.5652922023489134 \n",
      " precision:0.4127835051546392 \n",
      " recall:0.8965266310280164 \n",
      ", 'Validation':  best_epoch_indx:24\n",
      " auc:0.9196859309694936 \n",
      " apur:0.6457592243841912 \n",
      " f1:0.5454401268834258 \n",
      " precision:0.3980324074074074 \n",
      " recall:0.8662468513853905 \n",
      "}\n",
      "=====Epoch 25\n",
      "Training...\n"
     ]
    },
    {
     "name": "stderr",
     "output_type": "stream",
     "text": [
      "Iteration:  98%|█████████▊| 980/1001 [00:48<00:01, 20.28it/s]\n",
      "Iteration:  35%|███▍      | 347/1001 [00:31<00:55, 11.84it/s]]\n",
      "Iteration:   9%|▊         | 87/1001 [00:07<01:18, 11.67it/s]]\n",
      "Iteration:  38%|███▊      | 43/112 [00:02<00:03, 19.71it/s]s]"
     ]
    },
    {
     "name": "stdout",
     "output_type": "stream",
     "text": [
      "{'Train':  best_epoch_indx:24\n",
      " auc:0.9365151139551438 \n",
      " apur:0.6877811032614974 \n",
      " f1:0.5393256577593798 \n",
      " precision:0.38197990254365716 \n",
      " recall:0.9170981555599094 \n",
      ", 'Validation':  best_epoch_indx:24\n",
      " auc:0.9189894021748681 \n",
      " apur:0.6341740927011729 \n",
      " f1:0.5227171821814415 \n",
      " precision:0.37007544006705784 \n",
      " recall:0.8896725440806046 \n",
      "}\n",
      "=====Epoch 25\n",
      "Training...\n"
     ]
    },
    {
     "name": "stderr",
     "output_type": "stream",
     "text": [
      "Iteration:  13%|█▎        | 129/1001 [00:11<01:16, 11.42it/s]\n",
      "Iteration:  13%|█▎        | 131/1001 [00:11<01:17, 11.21it/s]"
     ]
    },
    {
     "name": "stdout",
     "output_type": "stream",
     "text": [
      "{'Train':  best_epoch_indx:24\n",
      " auc:0.9332594357994541 \n",
      " apur:0.6851561837978772 \n",
      " f1:0.5268633914931253 \n",
      " precision:0.36961451247165533 \n",
      " recall:0.9169862016849059 \n",
      ", 'Validation':  best_epoch_indx:24\n",
      " auc:0.9122994763101867 \n",
      " apur:0.6286557087511166 \n",
      " f1:0.5087731966206946 \n",
      " precision:0.3566150420083004 \n",
      " recall:0.8874055415617128 \n",
      "}\n",
      "=====Epoch 25\n",
      "Training...\n"
     ]
    },
    {
     "name": "stderr",
     "output_type": "stream",
     "text": [
      "Iteration: 100%|██████████| 1001/1001 [01:27<00:00, 11.45it/s]\n",
      "Iteration:   0%|          | 0/1001 [00:00<?, ?it/s]"
     ]
    },
    {
     "name": "stdout",
     "output_type": "stream",
     "text": [
      "Evaluating...\n"
     ]
    },
    {
     "name": "stderr",
     "output_type": "stream",
     "text": [
      "Iteration: 100%|██████████| 1001/1001 [01:34<00:00, 10.55it/s]\n",
      "Iteration:  52%|█████▏    | 516/1001 [00:25<00:24, 20.05it/s]"
     ]
    },
    {
     "name": "stdout",
     "output_type": "stream",
     "text": [
      "Evaluating...\n",
      "Evaluating...\n"
     ]
    },
    {
     "name": "stderr",
     "output_type": "stream",
     "text": [
      "Iteration: 100%|██████████| 1001/1001 [01:26<00:00, 11.51it/s]\n",
      "Iteration: 100%|██████████| 1001/1001 [01:29<00:00, 11.13it/s]\n",
      "Iteration:  97%|█████████▋| 973/1001 [01:26<00:02, 10.06it/s]"
     ]
    },
    {
     "name": "stdout",
     "output_type": "stream",
     "text": [
      "Evaluating...\n"
     ]
    },
    {
     "name": "stderr",
     "output_type": "stream",
     "text": [
      "Iteration:   5%|▍         | 50/1001 [00:02<00:44, 21.15it/s]s]\n",
      "Iteration:  26%|██▌       | 262/1001 [00:12<00:35, 20.57it/s]"
     ]
    },
    {
     "name": "stdout",
     "output_type": "stream",
     "text": [
      "Evaluating...\n"
     ]
    },
    {
     "name": "stderr",
     "output_type": "stream",
     "text": [
      "Iteration:  58%|█████▊    | 585/1001 [00:28<00:20, 20.43it/s]]\n",
      "Iteration:  44%|████▎     | 437/1001 [00:21<00:28, 20.06it/s]"
     ]
    },
    {
     "name": "stdout",
     "output_type": "stream",
     "text": [
      "{'Train':  best_epoch_indx:25\n",
      " auc:0.9362328224732847 \n",
      " apur:0.6975950072600798 \n",
      " f1:0.5682220167176936 \n",
      " precision:0.41830030800142765 \n",
      " recall:0.8856423173803526 \n",
      ", 'Validation':  best_epoch_indx:25\n",
      " auc:0.91764069754794 \n",
      " apur:0.6438034292663187 \n",
      " f1:0.545352021910746 \n",
      " precision:0.40087636191378495 \n",
      " recall:0.8526448362720404 \n",
      "}\n",
      "=====Epoch 26\n",
      "Training...\n"
     ]
    },
    {
     "name": "stderr",
     "output_type": "stream",
     "text": [
      "Iteration:  70%|███████   | 702/1001 [00:34<00:14, 20.92it/s]\n",
      "Iteration:  77%|███████▋  | 775/1001 [00:38<00:11, 19.68it/s]]\n",
      "Iteration:  78%|███████▊  | 779/1001 [00:38<00:11, 19.63it/s]\n",
      "Iteration:  95%|█████████▌| 955/1001 [00:46<00:02, 20.77it/s]\n",
      "Iteration:   0%|          | 0/1001 [00:00<?, ?it/s]"
     ]
    },
    {
     "name": "stdout",
     "output_type": "stream",
     "text": [
      "{'Train':  best_epoch_indx:25\n",
      " auc:0.9413442350501928 \n",
      " apur:0.7195335186760645 \n",
      " f1:0.5748489012222612 \n",
      " precision:0.4232234005977097 \n",
      " recall:0.8957709423717428 \n",
      ", 'Validation':  best_epoch_indx:25\n",
      " auc:0.9194018602958399 \n",
      " apur:0.6525215265803211 \n",
      " f1:0.5520361990950227 \n",
      " precision:0.4063763978110873 \n",
      " recall:0.8604534005037784 \n",
      "}\n",
      "=====Epoch 26\n",
      "Training...\n",
      "{'Train':  best_epoch_indx:25\n",
      " auc:0.9398869771068719 \n",
      " apur:0.715162377499488 \n",
      " f1:0.5661775655906444 \n",
      " precision:0.4120572259199755 \n",
      " recall:0.9044753561532649 \n",
      ", 'Validation':  best_epoch_indx:25\n",
      " auc:0.9214899123903637 \n",
      " apur:0.6639089558812095 \n",
      " f1:0.5444828670229487 \n",
      " precision:0.39570482065341556 \n",
      " recall:0.872544080604534 \n",
      "}\n",
      "=====Epoch 26\n",
      "Training...\n"
     ]
    },
    {
     "name": "stderr",
     "output_type": "stream",
     "text": [
      "Iteration:  89%|████████▉ | 890/1001 [00:44<00:05, 20.18it/s]\n",
      "Iteration:  98%|█████████▊| 980/1001 [00:49<00:01, 20.04it/s]]\n",
      "Iteration:  10%|▉         | 97/1001 [00:08<01:15, 11.91it/s]]]\n",
      "Iteration:  12%|█▏        | 121/1001 [00:10<01:13, 12.02it/s]\n",
      "Iteration:  12%|█▏        | 123/1001 [00:10<01:12, 12.04it/s]"
     ]
    },
    {
     "name": "stdout",
     "output_type": "stream",
     "text": [
      "{'Train':  best_epoch_indx:25\n",
      " auc:0.9403137881859945 \n",
      " apur:0.7118615948351228 \n",
      " f1:0.5587955870143876 \n",
      " precision:0.4024757113971495 \n",
      " recall:0.9136555739035518 \n",
      ", 'Validation':  best_epoch_indx:25\n",
      " auc:0.9207360663169574 \n",
      " apur:0.6547069234575495 \n",
      " f1:0.5376807136265764 \n",
      " precision:0.3869825105158291 \n",
      " recall:0.8806045340050378 \n",
      "}\n",
      "=====Epoch 26\n",
      "Training...\n"
     ]
    },
    {
     "name": "stderr",
     "output_type": "stream",
     "text": [
      "Iteration:  17%|█▋        | 167/1001 [00:13<01:08, 12.13it/s]\n",
      "Iteration:   0%|          | 1/1001 [00:00<02:01,  8.24it/s]s]"
     ]
    },
    {
     "name": "stdout",
     "output_type": "stream",
     "text": [
      "{'Train':  best_epoch_indx:25\n",
      " auc:0.9368387773267771 \n",
      " apur:0.7089562103927354 \n",
      " f1:0.528637133865892 \n",
      " precision:0.3713903470482194 \n",
      " recall:0.9168182708724005 \n",
      ", 'Validation':  best_epoch_indx:25\n",
      " auc:0.9166271622872706 \n",
      " apur:0.6578612804265729 \n",
      " f1:0.510551889187033 \n",
      " precision:0.3584886444648131 \n",
      " recall:0.8866498740554156 \n",
      "}\n",
      "=====Epoch 26\n",
      "Training...\n"
     ]
    },
    {
     "name": "stderr",
     "output_type": "stream",
     "text": [
      "Iteration: 100%|██████████| 1001/1001 [01:33<00:00, 10.76it/s]\n",
      "Iteration:  60%|█████▉    | 597/1001 [00:56<00:40,  9.97it/s]"
     ]
    },
    {
     "name": "stdout",
     "output_type": "stream",
     "text": [
      "Evaluating...\n"
     ]
    },
    {
     "name": "stderr",
     "output_type": "stream",
     "text": [
      "Iteration: 100%|██████████| 1001/1001 [01:25<00:00, 11.67it/s]\n",
      "Iteration:  77%|███████▋  | 768/1001 [01:12<00:19, 12.10it/s]"
     ]
    },
    {
     "name": "stdout",
     "output_type": "stream",
     "text": [
      "Evaluating...\n"
     ]
    },
    {
     "name": "stderr",
     "output_type": "stream",
     "text": [
      "Iteration: 100%|██████████| 1001/1001 [01:27<00:00, 11.46it/s]\n",
      "Iteration:  78%|███████▊  | 784/1001 [01:13<00:18, 11.68it/s]"
     ]
    },
    {
     "name": "stdout",
     "output_type": "stream",
     "text": [
      "Evaluating...\n"
     ]
    },
    {
     "name": "stderr",
     "output_type": "stream",
     "text": [
      "Iteration: 100%|██████████| 1001/1001 [01:23<00:00, 12.03it/s]\n",
      "Iteration:  16%|█▌        | 161/1001 [00:07<00:40, 20.55it/s]"
     ]
    },
    {
     "name": "stdout",
     "output_type": "stream",
     "text": [
      "Evaluating...\n"
     ]
    },
    {
     "name": "stderr",
     "output_type": "stream",
     "text": [
      "Iteration: 100%|██████████| 1001/1001 [01:33<00:00, 10.68it/s]\n",
      "Iteration:  74%|███████▍  | 745/1001 [00:37<00:12, 20.71it/s]"
     ]
    },
    {
     "name": "stdout",
     "output_type": "stream",
     "text": [
      "Evaluating...\n"
     ]
    },
    {
     "name": "stderr",
     "output_type": "stream",
     "text": [
      "Iteration:  68%|██████▊   | 683/1001 [00:36<00:15, 20.25it/s]]\n",
      "Iteration:  84%|████████▍ | 843/1001 [00:43<00:08, 19.67it/s]\n",
      "Iteration:  84%|████████▍ | 845/1001 [00:43<00:08, 19.36it/s]"
     ]
    },
    {
     "name": "stdout",
     "output_type": "stream",
     "text": [
      "{'Train':  best_epoch_indx:26\n",
      " auc:0.9426386474547708 \n",
      " apur:0.7264730969022006 \n",
      " f1:0.5637814397224632 \n",
      " precision:0.4084705290938796 \n",
      " recall:0.9096557514693535 \n",
      ", 'Validation':  best_epoch_indx:26\n",
      " auc:0.922283264271741 \n",
      " apur:0.6655899502244342 \n",
      " f1:0.5396850027154939 \n",
      " precision:0.3899540307209328 \n",
      " recall:0.8760705289672545 \n",
      "}\n",
      "=====Epoch 27\n",
      "Training...\n"
     ]
    },
    {
     "name": "stderr",
     "output_type": "stream",
     "text": [
      "Iteration: 100%|█████████▉| 1000/1001 [00:52<00:00, 20.27it/s]\n",
      "Iteration:  66%|██████▌   | 660/1001 [00:34<00:16, 20.63it/s]]\n",
      "Iteration:  57%|█████▋    | 64/112 [00:03<00:02, 20.52it/s]s]]\n",
      "Iteration:   0%|          | 0/1001 [00:00<?, ?it/s]"
     ]
    },
    {
     "name": "stdout",
     "output_type": "stream",
     "text": [
      "{'Train':  best_epoch_indx:26\n",
      " auc:0.9453923173232179 \n",
      " apur:0.736050946785724 \n",
      " f1:0.5822837307848352 \n",
      " precision:0.42949485276514243 \n",
      " recall:0.9038036329032438 \n",
      ", 'Validation':  best_epoch_indx:26\n",
      " auc:0.9260962904569175 \n",
      " apur:0.6751640807069396 \n",
      " f1:0.5578308377175233 \n",
      " precision:0.4109719737626714 \n",
      " recall:0.8680100755667506 \n",
      "}\n",
      "=====Epoch 27\n",
      "Training...\n"
     ]
    },
    {
     "name": "stderr",
     "output_type": "stream",
     "text": [
      "Iteration:  20%|██        | 205/1001 [00:17<01:06, 12.00it/s]\n",
      "Iteration:  22%|██▏       | 219/1001 [00:18<01:12, 10.84it/s]\n",
      "Iteration:   0%|          | 1/1001 [00:00<02:10,  7.67it/s]s]"
     ]
    },
    {
     "name": "stdout",
     "output_type": "stream",
     "text": [
      "{'Train':  best_epoch_indx:26\n",
      " auc:0.9450923271098436 \n",
      " apur:0.7354880428129236 \n",
      " f1:0.5650707441104231 \n",
      " precision:0.40887870937058035 \n",
      " recall:0.9143552856223236 \n",
      ", 'Validation':  best_epoch_indx:26\n",
      " auc:0.924321781963083 \n",
      " apur:0.6755378268626822 \n",
      " f1:0.5485436893203883 \n",
      " precision:0.39797773233356054 \n",
      " recall:0.882367758186398 \n",
      "}\n",
      "=====Epoch 27\n",
      "Training...\n"
     ]
    },
    {
     "name": "stderr",
     "output_type": "stream",
     "text": [
      "Iteration:   8%|▊         | 85/1001 [00:07<01:17, 11.89it/s]]\n",
      "Iteration:   0%|          | 0/1001 [00:00<?, ?it/s]"
     ]
    },
    {
     "name": "stdout",
     "output_type": "stream",
     "text": [
      "{'Train':  best_epoch_indx:26\n",
      " auc:0.9507950885532801 \n",
      " apur:0.7579159896120635 \n",
      " f1:0.6023730298539459 \n",
      " precision:0.4515651201788709 \n",
      " recall:0.9044193792157631 \n",
      ", 'Validation':  best_epoch_indx:26\n",
      " auc:0.9302570260380904 \n",
      " apur:0.6955976231532772 \n",
      " f1:0.5770138186720594 \n",
      " precision:0.43352747531020513 \n",
      " recall:0.8624685138539043 \n",
      "}\n",
      "=====Epoch 27\n",
      "Training...\n"
     ]
    },
    {
     "name": "stderr",
     "output_type": "stream",
     "text": [
      "Iteration:  36%|███▋      | 365/1001 [00:31<00:56, 11.27it/s]]\n",
      "Iteration:  17%|█▋        | 175/1001 [00:14<01:08, 12.00it/s]\n",
      "Iteration:   0%|          | 1/1001 [00:00<01:52,  8.88it/s]s]"
     ]
    },
    {
     "name": "stdout",
     "output_type": "stream",
     "text": [
      "{'Train':  best_epoch_indx:26\n",
      " auc:0.9483038844491292 \n",
      " apur:0.7480393582970064 \n",
      " f1:0.5669650512741365 \n",
      " precision:0.40868243117961905 \n",
      " recall:0.9253547538414173 \n",
      ", 'Validation':  best_epoch_indx:26\n",
      " auc:0.9242046445424428 \n",
      " apur:0.6797386863001804 \n",
      " f1:0.5403003371130861 \n",
      " precision:0.38824047566615283 \n",
      " recall:0.8881612090680101 \n",
      "}\n",
      "=====Epoch 27\n",
      "Training...\n"
     ]
    },
    {
     "name": "stderr",
     "output_type": "stream",
     "text": [
      "Iteration: 100%|██████████| 1001/1001 [01:33<00:00, 10.67it/s]\n",
      "Iteration:  78%|███████▊  | 784/1001 [01:11<00:20, 10.57it/s]"
     ]
    },
    {
     "name": "stdout",
     "output_type": "stream",
     "text": [
      "Evaluating...\n"
     ]
    },
    {
     "name": "stderr",
     "output_type": "stream",
     "text": [
      "Iteration: 100%|██████████| 1001/1001 [01:24<00:00, 11.81it/s]\n",
      "Iteration:   0%|          | 0/1001 [00:00<?, ?it/s]"
     ]
    },
    {
     "name": "stdout",
     "output_type": "stream",
     "text": [
      "Evaluating...\n"
     ]
    },
    {
     "name": "stderr",
     "output_type": "stream",
     "text": [
      "Iteration: 100%|██████████| 1001/1001 [01:29<00:00, 11.24it/s]\n",
      "Iteration:   3%|▎         | 31/1001 [00:01<00:46, 21.07it/s]]"
     ]
    },
    {
     "name": "stdout",
     "output_type": "stream",
     "text": [
      "Evaluating...\n"
     ]
    },
    {
     "name": "stderr",
     "output_type": "stream",
     "text": [
      "Iteration: 100%|██████████| 1001/1001 [01:30<00:00, 11.09it/s]\n",
      "Iteration:   0%|          | 2/1001 [00:00<01:13, 13.50it/s]s]"
     ]
    },
    {
     "name": "stdout",
     "output_type": "stream",
     "text": [
      "Evaluating...\n"
     ]
    },
    {
     "name": "stderr",
     "output_type": "stream",
     "text": [
      "Iteration: 100%|██████████| 1001/1001 [01:27<00:00, 11.41it/s]\n",
      "Iteration:  44%|████▍     | 442/1001 [00:22<00:28, 19.73it/s]"
     ]
    },
    {
     "name": "stdout",
     "output_type": "stream",
     "text": [
      "Evaluating...\n"
     ]
    },
    {
     "name": "stderr",
     "output_type": "stream",
     "text": [
      "Iteration:  65%|██████▌   | 655/1001 [00:31<00:17, 19.76it/s]]\n",
      "Iteration:  76%|███████▌  | 760/1001 [00:37<00:14, 16.66it/s]\n",
      "Iteration:   0%|          | 0/1001 [00:00<?, ?it/s]"
     ]
    },
    {
     "name": "stdout",
     "output_type": "stream",
     "text": [
      "{'Train':  best_epoch_indx:27\n",
      " auc:0.9478585289365704 \n",
      " apur:0.7460633485348994 \n",
      " f1:0.6011851963689206 \n",
      " precision:0.45349068959626443 \n",
      " recall:0.8915477190036384 \n",
      ", 'Validation':  best_epoch_indx:27\n",
      " auc:0.9266941747319002 \n",
      " apur:0.6810128393260761 \n",
      " f1:0.5764675811536168 \n",
      " precision:0.4355607055491181 \n",
      " recall:0.8521410579345088 \n",
      "}\n",
      "=====Epoch 28\n",
      "Training...\n"
     ]
    },
    {
     "name": "stderr",
     "output_type": "stream",
     "text": [
      "Iteration:   5%|▌         | 54/1001 [00:04<01:19, 11.88it/s]]]\n",
      "Iteration:  63%|██████▎   | 628/1001 [00:30<00:17, 21.15it/s]\n",
      "Iteration:  12%|█▏        | 124/1001 [00:10<01:15, 11.61it/s]\n",
      "Iteration:  13%|█▎        | 126/1001 [00:10<01:15, 11.63it/s]"
     ]
    },
    {
     "name": "stdout",
     "output_type": "stream",
     "text": [
      "{'Train':  best_epoch_indx:27\n",
      " auc:0.9531692939408529 \n",
      " apur:0.7677064998403974 \n",
      " f1:0.6024341521160106 \n",
      " precision:0.4498680921007196 \n",
      " recall:0.911584427215987 \n",
      ", 'Validation':  best_epoch_indx:27\n",
      " auc:0.9289489415074899 \n",
      " apur:0.7010799762024498 \n",
      " f1:0.5729990838677439 \n",
      " precision:0.4280204056239891 \n",
      " recall:0.8664987405541562 \n",
      "}\n",
      "=====Epoch 28\n",
      "Training...\n"
     ]
    },
    {
     "name": "stderr",
     "output_type": "stream",
     "text": [
      "Iteration:  98%|█████████▊| 983/1001 [00:49<00:00, 19.81it/s]\n",
      "Iteration:  76%|███████▌  | 756/1001 [00:37<00:12, 19.87it/s]"
     ]
    },
    {
     "name": "stdout",
     "output_type": "stream",
     "text": [
      "{'Train':  best_epoch_indx:27\n",
      " auc:0.9527629102441977 \n",
      " apur:0.7644350532653463 \n",
      " f1:0.5928456809043867 \n",
      " precision:0.4372647844993816 \n",
      " recall:0.9202888409975091 \n",
      ", 'Validation':  best_epoch_indx:27\n",
      " auc:0.9317591638860173 \n",
      " apur:0.7001081356800284 \n",
      " f1:0.5665180381029591 \n",
      " precision:0.4176927674835625 \n",
      " recall:0.8801007556675063 \n",
      "}\n",
      "=====Epoch 28\n",
      "Training...\n"
     ]
    },
    {
     "name": "stderr",
     "output_type": "stream",
     "text": [
      "Iteration:  17%|█▋        | 170/1001 [00:14<01:10, 11.78it/s]]\n",
      "Iteration:   9%|▉         | 95/1001 [00:09<01:31,  9.94it/s]]\n",
      "Iteration:  24%|██▍       | 240/1001 [00:20<01:05, 11.60it/s]"
     ]
    },
    {
     "name": "stdout",
     "output_type": "stream",
     "text": [
      "{'Train':  best_epoch_indx:27\n",
      " auc:0.9562559292948801 \n",
      " apur:0.7773965498861704 \n",
      " f1:0.611265090496475 \n",
      " precision:0.4577442226524955 \n",
      " recall:0.9197290716224915 \n",
      ", 'Validation':  best_epoch_indx:27\n",
      " auc:0.9325138756757623 \n",
      " apur:0.7098469528092999 \n",
      " f1:0.5798165137614678 \n",
      " precision:0.43341645885286784 \n",
      " recall:0.8755667506297229 \n",
      "}\n",
      "=====Epoch 28\n",
      "Training...\n"
     ]
    },
    {
     "name": "stderr",
     "output_type": "stream",
     "text": [
      "Iteration:  14%|█▍        | 138/1001 [00:14<01:39,  8.72it/s]]\n",
      "Iteration:  22%|██▏       | 225/1001 [00:20<01:03, 12.14it/s]\n",
      "Iteration:  11%|█▏        | 115/1001 [00:11<01:27, 10.08it/s]"
     ]
    },
    {
     "name": "stdout",
     "output_type": "stream",
     "text": [
      "{'Train':  best_epoch_indx:27\n",
      " auc:0.9530249734085499 \n",
      " apur:0.7617443886022759 \n",
      " f1:0.6132163931010314 \n",
      " precision:0.46343698104563935 \n",
      " recall:0.9060427104033139 \n",
      ", 'Validation':  best_epoch_indx:27\n",
      " auc:0.9265208128922134 \n",
      " apur:0.6891722657434127 \n",
      " f1:0.5720084566596194 \n",
      " precision:0.4305537873965627 \n",
      " recall:0.851889168765743 \n",
      "}\n",
      "=====Epoch 28\n",
      "Training...\n"
     ]
    },
    {
     "name": "stderr",
     "output_type": "stream",
     "text": [
      "Iteration: 100%|██████████| 1001/1001 [01:28<00:00, 11.25it/s]\n",
      "Iteration:   0%|          | 2/1001 [00:00<01:10, 14.16it/s]s]"
     ]
    },
    {
     "name": "stdout",
     "output_type": "stream",
     "text": [
      "Evaluating...\n"
     ]
    },
    {
     "name": "stderr",
     "output_type": "stream",
     "text": [
      "Iteration: 100%|██████████| 1001/1001 [01:29<00:00, 11.12it/s]\n",
      "Iteration:   0%|          | 1/1001 [00:00<01:40,  9.93it/s]s]"
     ]
    },
    {
     "name": "stdout",
     "output_type": "stream",
     "text": [
      "Evaluating...\n"
     ]
    },
    {
     "name": "stderr",
     "output_type": "stream",
     "text": [
      "Iteration: 100%|██████████| 1001/1001 [01:39<00:00, 10.07it/s]\n",
      "Iteration:  44%|████▍     | 438/1001 [00:21<00:27, 20.67it/s]"
     ]
    },
    {
     "name": "stdout",
     "output_type": "stream",
     "text": [
      "Evaluating...\n"
     ]
    },
    {
     "name": "stderr",
     "output_type": "stream",
     "text": [
      "Iteration: 100%|██████████| 1001/1001 [01:32<00:00, 10.77it/s]\n",
      "Iteration:   6%|▋         | 65/1001 [00:03<00:46, 20.23it/s]"
     ]
    },
    {
     "name": "stdout",
     "output_type": "stream",
     "text": [
      "Evaluating...\n"
     ]
    },
    {
     "name": "stderr",
     "output_type": "stream",
     "text": [
      "Iteration: 100%|██████████| 1001/1001 [01:33<00:00, 10.67it/s]\n",
      "Iteration:  25%|██▌       | 251/1001 [00:12<00:36, 20.70it/s]"
     ]
    },
    {
     "name": "stdout",
     "output_type": "stream",
     "text": [
      "Evaluating...\n"
     ]
    },
    {
     "name": "stderr",
     "output_type": "stream",
     "text": [
      "Iteration:  31%|███▏      | 314/1001 [00:15<00:33, 20.56it/s]]\n",
      "Iteration:  92%|█████████▏| 924/1001 [00:45<00:03, 19.66it/s]\n",
      "Iteration:  68%|██████▊   | 685/1001 [00:33<00:15, 20.00it/s]"
     ]
    },
    {
     "name": "stdout",
     "output_type": "stream",
     "text": [
      "{'Train':  best_epoch_indx:28\n",
      " auc:0.9535717652402061 \n",
      " apur:0.7682461359065804 \n",
      " f1:0.6074968008294491 \n",
      " precision:0.4559015267282592 \n",
      " recall:0.9101315421214665 \n",
      ", 'Validation':  best_epoch_indx:28\n",
      " auc:0.9308659974822227 \n",
      " apur:0.7000157730882235 \n",
      " f1:0.5819533626225076 \n",
      " precision:0.43783371472158655 \n",
      " recall:0.8675062972292191 \n",
      "}\n",
      "=====Epoch 29\n",
      "Training...\n"
     ]
    },
    {
     "name": "stderr",
     "output_type": "stream",
     "text": [
      "Iteration:  86%|████████▌ | 862/1001 [00:42<00:07, 19.18it/s]]\n",
      "Iteration:  92%|█████████▏| 916/1001 [00:45<00:04, 17.64it/s]"
     ]
    },
    {
     "name": "stdout",
     "output_type": "stream",
     "text": [
      "{'Train':  best_epoch_indx:28\n",
      " auc:0.9583762478213483 \n",
      " apur:0.7878775073623467 \n",
      " f1:0.5990544373902472 \n",
      " precision:0.4416193106378459 \n",
      " recall:0.9309244591228414 \n",
      ", 'Validation':  best_epoch_indx:28\n",
      " auc:0.9347710167426969 \n",
      " apur:0.7167077888774982 \n",
      " f1:0.5696018128844286 \n",
      " precision:0.4196279513474839 \n",
      " recall:0.8863979848866499 \n",
      "}\n",
      "=====Epoch 29\n",
      "Training...\n"
     ]
    },
    {
     "name": "stderr",
     "output_type": "stream",
     "text": [
      "\n",
      "Iteration:   4%|▍         | 40/1001 [00:03<01:26, 11.09it/s]]]\n",
      "Iteration:  82%|████████▏ | 818/1001 [00:40<00:09, 20.26it/s]]\n",
      "Iteration:  88%|████████▊ | 876/1001 [00:43<00:06, 20.06it/s]\n",
      "Iteration:   0%|          | 1/1001 [00:00<01:58,  8.43it/s]s]"
     ]
    },
    {
     "name": "stdout",
     "output_type": "stream",
     "text": [
      "{'Train':  best_epoch_indx:28\n",
      " auc:0.9591262179979504 \n",
      " apur:0.7882892796134932 \n",
      " f1:0.6197087515905557 \n",
      " precision:0.46718585680584374 \n",
      " recall:0.9200929217162529 \n",
      ", 'Validation':  best_epoch_indx:28\n",
      " auc:0.9316531864918421 \n",
      " apur:0.7098206197155446 \n",
      " f1:0.5837938950769493 \n",
      " precision:0.4406366320112951 \n",
      " recall:0.864735516372796 \n",
      "}\n",
      "=====Epoch 29\n",
      "Training...\n"
     ]
    },
    {
     "name": "stderr",
     "output_type": "stream",
     "text": [
      "Iteration:  29%|██▉       | 288/1001 [00:24<00:58, 12.10it/s]"
     ]
    },
    {
     "name": "stdout",
     "output_type": "stream",
     "text": [
      "{'Train':  best_epoch_indx:28\n",
      " auc:0.9603759336452837 \n",
      " apur:0.7944845881319254 \n",
      " f1:0.6335306254904051 \n",
      " precision:0.48443009096026785 \n",
      " recall:0.9152229281536007 \n",
      ", 'Validation':  best_epoch_indx:28\n",
      " auc:0.9353491652565918 \n",
      " apur:0.7208691673101221 \n",
      " f1:0.5980656966106126 \n",
      " precision:0.4571733049154123 \n",
      " recall:0.8644836272040303 \n",
      "}\n",
      "=====Epoch 29\n",
      "Training...\n"
     ]
    },
    {
     "name": "stderr",
     "output_type": "stream",
     "text": [
      "\n",
      "Iteration:  36%|███▌      | 358/1001 [00:30<00:52, 12.15it/s]]\n",
      "Iteration:  43%|████▎     | 426/1001 [00:35<00:48, 11.85it/s]\n",
      "Iteration:   0%|          | 1/1001 [00:00<01:50,  9.08it/s]s]"
     ]
    },
    {
     "name": "stdout",
     "output_type": "stream",
     "text": [
      "{'Train':  best_epoch_indx:28\n",
      " auc:0.9578165413936337 \n",
      " apur:0.7873015682381811 \n",
      " f1:0.6073129908587613 \n",
      " precision:0.45225931049596624 \n",
      " recall:0.9241512496851297 \n",
      ", 'Validation':  best_epoch_indx:28\n",
      " auc:0.930655409839972 \n",
      " apur:0.7155075250437692 \n",
      " f1:0.5696015740285293 \n",
      " precision:0.42221682061254256 \n",
      " recall:0.8750629722921914 \n",
      "}\n",
      "=====Epoch 29\n",
      "Training...\n"
     ]
    },
    {
     "name": "stderr",
     "output_type": "stream",
     "text": [
      "Iteration: 100%|██████████| 1001/1001 [01:27<00:00, 11.44it/s]\n",
      "Iteration:  75%|███████▌  | 755/1001 [01:03<00:21, 11.58it/s]"
     ]
    },
    {
     "name": "stdout",
     "output_type": "stream",
     "text": [
      "Evaluating...\n"
     ]
    },
    {
     "name": "stderr",
     "output_type": "stream",
     "text": [
      "Iteration: 100%|██████████| 1001/1001 [01:31<00:00, 10.93it/s]\n",
      "Iteration:   0%|          | 0/1001 [00:00<?, ?it/s]"
     ]
    },
    {
     "name": "stdout",
     "output_type": "stream",
     "text": [
      "Evaluating...\n"
     ]
    },
    {
     "name": "stderr",
     "output_type": "stream",
     "text": [
      "Iteration: 100%|██████████| 1001/1001 [01:23<00:00, 11.96it/s]\n",
      "Iteration: 100%|██████████| 1001/1001 [01:26<00:00, 11.57it/s]\n",
      "Iteration:   0%|          | 0/1001 [00:00<?, ?it/s]"
     ]
    },
    {
     "name": "stdout",
     "output_type": "stream",
     "text": [
      "Evaluating...\n",
      "Evaluating...\n"
     ]
    },
    {
     "name": "stderr",
     "output_type": "stream",
     "text": [
      "Iteration: 100%|██████████| 1001/1001 [01:30<00:00, 11.11it/s]\n",
      "Iteration:  46%|████▌     | 457/1001 [00:22<00:26, 20.41it/s]"
     ]
    },
    {
     "name": "stdout",
     "output_type": "stream",
     "text": [
      "Evaluating...\n"
     ]
    },
    {
     "name": "stderr",
     "output_type": "stream",
     "text": [
      "Iteration:  34%|███▍      | 340/1001 [00:17<00:32, 20.27it/s]]\n",
      "Iteration:  80%|████████  | 803/1001 [00:41<00:10, 19.20it/s]\n",
      "Iteration:   0%|          | 1/1001 [00:00<02:18,  7.22it/s]s]"
     ]
    },
    {
     "name": "stdout",
     "output_type": "stream",
     "text": [
      "{'Train':  best_epoch_indx:29\n",
      " auc:0.959778631026568 \n",
      " apur:0.7916094825188711 \n",
      " f1:0.6265205186472397 \n",
      " precision:0.4754651904237436 \n",
      " recall:0.9182479708928072 \n",
      ", 'Validation':  best_epoch_indx:29\n",
      " auc:0.9352799636639137 \n",
      " apur:0.7163553800624489 \n",
      " f1:0.590909090909091 \n",
      " precision:0.4488621501438661 \n",
      " recall:0.8644836272040303 \n",
      "}\n",
      "=====Epoch 30\n",
      "Training...\n"
     ]
    },
    {
     "name": "stderr",
     "output_type": "stream",
     "text": [
      "Iteration:  94%|█████████▍| 940/1001 [00:48<00:02, 20.48it/s]]\n",
      "Iteration: 100%|██████████| 112/112 [00:05<00:00, 21.02it/s]]]\n",
      "Iteration:  67%|██████▋   | 668/1001 [00:35<00:16, 19.70it/s]\n",
      "Iteration:   8%|▊         | 9/112 [00:00<00:05, 19.97it/s]/s]"
     ]
    },
    {
     "name": "stdout",
     "output_type": "stream",
     "text": [
      "{'Train':  best_epoch_indx:29\n",
      " auc:0.9616161016585547 \n",
      " apur:0.7985527181457401 \n",
      " f1:0.6187748726150184 \n",
      " precision:0.4633035826174132 \n",
      " recall:0.9312883092166028 \n",
      ", 'Validation':  best_epoch_indx:29\n",
      " auc:0.9371492252395913 \n",
      " apur:0.7239128957254204 \n",
      " f1:0.5887678122380553 \n",
      " precision:0.44120603015075377 \n",
      " recall:0.8846347607052897 \n",
      "}\n",
      "=====Epoch 30\n",
      "Training...\n"
     ]
    },
    {
     "name": "stderr",
     "output_type": "stream",
     "text": [
      "Iteration:   1%|          | 9/1001 [00:00<01:25, 11.58it/s]s]\n",
      "Iteration:  77%|███████▋  | 770/1001 [00:41<00:11, 19.69it/s]\n",
      "Iteration:   0%|          | 0/1001 [00:00<?, ?it/s]"
     ]
    },
    {
     "name": "stdout",
     "output_type": "stream",
     "text": [
      "{'Train':  best_epoch_indx:29\n",
      " auc:0.9661520869539075 \n",
      " apur:0.818500750629622 \n",
      " f1:0.6537781072399309 \n",
      " precision:0.5053479204229441 \n",
      " recall:0.925662626997677 \n",
      ", 'Validation':  best_epoch_indx:29\n",
      " auc:0.9404026600977369 \n",
      " apur:0.7402732923215152 \n",
      " f1:0.6098511693834161 \n",
      " precision:0.47034708936867997 \n",
      " recall:0.8670025188916877 \n",
      "}\n",
      "=====Epoch 30\n",
      "Training...\n"
     ]
    },
    {
     "name": "stderr",
     "output_type": "stream",
     "text": [
      "Iteration:   2%|▏         | 23/1001 [00:02<01:28, 11.02it/s]]\n",
      "Iteration:  23%|██▎       | 232/1001 [00:20<01:05, 11.71it/s]"
     ]
    },
    {
     "name": "stdout",
     "output_type": "stream",
     "text": [
      "{'Train':  best_epoch_indx:29\n",
      " auc:0.9633090022623231 \n",
      " apur:0.8044290848554421 \n",
      " f1:0.626075185425421 \n",
      " precision:0.47135092288529046 \n",
      " recall:0.9320160094041255 \n",
      ", 'Validation':  best_epoch_indx:29\n",
      " auc:0.936292084635515 \n",
      " apur:0.7281847473743949 \n",
      " f1:0.589739248222147 \n",
      " precision:0.4441469013006886 \n",
      " recall:0.8773299748110831 \n",
      "}\n",
      "=====Epoch 30\n",
      "Training...\n"
     ]
    },
    {
     "name": "stderr",
     "output_type": "stream",
     "text": [
      "Iteration:  21%|██        | 210/1001 [00:19<01:16, 10.39it/s]]\n",
      "Iteration:  21%|██        | 207/1001 [00:19<01:15, 10.53it/s]\n",
      "Iteration:  21%|██        | 211/1001 [00:17<01:07, 11.64it/s]"
     ]
    },
    {
     "name": "stdout",
     "output_type": "stream",
     "text": [
      "{'Train':  best_epoch_indx:29\n",
      " auc:0.9630835620087516 \n",
      " apur:0.805115723212324 \n",
      " f1:0.6368394166915655 \n",
      " precision:0.485666823474068 \n",
      " recall:0.9246550421226455 \n",
      ", 'Validation':  best_epoch_indx:29\n",
      " auc:0.9335182223432129 \n",
      " apur:0.7242242241707069 \n",
      " f1:0.5890317052270779 \n",
      " precision:0.44636363636363635 \n",
      " recall:0.8657430730478589 \n",
      "}\n",
      "=====Epoch 30\n",
      "Training...\n"
     ]
    },
    {
     "name": "stderr",
     "output_type": "stream",
     "text": [
      "Iteration: 100%|██████████| 1001/1001 [01:33<00:00, 10.66it/s]\n",
      "Iteration:  84%|████████▍ | 843/1001 [01:21<00:15, 10.01it/s]"
     ]
    },
    {
     "name": "stdout",
     "output_type": "stream",
     "text": [
      "Evaluating...\n"
     ]
    },
    {
     "name": "stderr",
     "output_type": "stream",
     "text": [
      "Iteration: 100%|██████████| 1001/1001 [01:29<00:00, 11.19it/s]\n",
      "Iteration:  99%|█████████▉| 991/1001 [01:27<00:00, 10.19it/s]"
     ]
    },
    {
     "name": "stdout",
     "output_type": "stream",
     "text": [
      "Evaluating...\n"
     ]
    },
    {
     "name": "stderr",
     "output_type": "stream",
     "text": [
      "Iteration: 100%|██████████| 1001/1001 [01:35<00:00, 10.48it/s]\n",
      "Iteration:   0%|          | 0/1001 [00:00<?, ?it/s]"
     ]
    },
    {
     "name": "stdout",
     "output_type": "stream",
     "text": [
      "Evaluating...\n"
     ]
    },
    {
     "name": "stderr",
     "output_type": "stream",
     "text": [
      "Iteration: 100%|██████████| 1001/1001 [01:28<00:00, 11.34it/s]\n",
      "Iteration:   2%|▏         | 19/1001 [00:00<00:49, 20.03it/s]]"
     ]
    },
    {
     "name": "stdout",
     "output_type": "stream",
     "text": [
      "Evaluating...\n"
     ]
    },
    {
     "name": "stderr",
     "output_type": "stream",
     "text": [
      "Iteration: 100%|██████████| 1001/1001 [01:28<00:00, 11.37it/s]\n",
      "Iteration:  36%|███▌      | 359/1001 [00:18<00:38, 16.53it/s]"
     ]
    },
    {
     "name": "stdout",
     "output_type": "stream",
     "text": [
      "Evaluating...\n"
     ]
    },
    {
     "name": "stderr",
     "output_type": "stream",
     "text": [
      "Iteration:  76%|███████▌  | 756/1001 [00:37<00:12, 20.28it/s]]\n",
      "Iteration:  88%|████████▊ | 879/1001 [00:45<00:06, 19.71it/s]\n",
      "Iteration:  88%|████████▊ | 881/1001 [00:45<00:06, 19.71it/s]"
     ]
    },
    {
     "name": "stdout",
     "output_type": "stream",
     "text": [
      "{'Train':  best_epoch_indx:30\n",
      " auc:0.9591463611288767 \n",
      " apur:0.7885163664162649 \n",
      " f1:0.6228426203391116 \n",
      " precision:0.47101345342933365 \n",
      " recall:0.9191155891407781 \n",
      ", 'Validation':  best_epoch_indx:30\n",
      " auc:0.9339721791340249 \n",
      " apur:0.7118632382336112 \n",
      " f1:0.5880840120017146 \n",
      " precision:0.4457439896036387 \n",
      " recall:0.8639798488664987 \n",
      "}\n",
      "=====Epoch 31\n",
      "Training...\n"
     ]
    },
    {
     "name": "stderr",
     "output_type": "stream",
     "text": [
      "Iteration:   7%|▋         | 67/1001 [00:06<01:24, 11.06it/s]]]\n",
      "Iteration:  71%|███████   | 709/1001 [00:35<00:14, 20.45it/s]\n",
      "Iteration:  38%|███▊      | 42/112 [00:02<00:03, 21.11it/s]]]\n",
      "Iteration:  80%|███████▉  | 798/1001 [00:39<00:09, 20.62it/s]\n",
      "Iteration:  13%|█▎        | 135/1001 [00:12<01:12, 11.87it/s]"
     ]
    },
    {
     "name": "stdout",
     "output_type": "stream",
     "text": [
      "{'Train':  best_epoch_indx:30\n",
      " auc:0.9619797243883372 \n",
      " apur:0.8016358157335347 \n",
      " f1:0.61904806233302 \n",
      " precision:0.4637766061316149 \n",
      " recall:0.9306165859665818 \n",
      ", 'Validation':  best_epoch_indx:30\n",
      " auc:0.937631184953953 \n",
      " apur:0.729531040565489 \n",
      " f1:0.5849954101643996 \n",
      " precision:0.43741420192187697 \n",
      " recall:0.8828715365239295 \n",
      "}\n",
      "=====Epoch 31\n",
      "Training...\n"
     ]
    },
    {
     "name": "stderr",
     "output_type": "stream",
     "text": [
      "Iteration:  83%|████████▎ | 826/1001 [00:40<00:08, 19.99it/s]\n",
      "Iteration:  99%|█████████▉| 111/112 [00:05<00:00, 21.83it/s]]"
     ]
    },
    {
     "name": "stdout",
     "output_type": "stream",
     "text": [
      "{'Train':  best_epoch_indx:30\n",
      " auc:0.9641669791158864 \n",
      " apur:0.8076029864820601 \n",
      " f1:0.6496427757464055 \n",
      " precision:0.502853285880837 \n",
      " recall:0.9174620056536706 \n",
      ", 'Validation':  best_epoch_indx:30\n",
      " auc:0.9342674098341432 \n",
      " apur:0.7251965040130641 \n",
      " f1:0.6051171944891752 \n",
      " precision:0.4692008879023307 \n",
      " recall:0.851889168765743 \n",
      "}\n",
      "=====Epoch 31\n",
      "Training...\n"
     ]
    },
    {
     "name": "stderr",
     "output_type": "stream",
     "text": [
      "Iteration:  16%|█▌        | 157/1001 [00:13<01:12, 11.69it/s]\n",
      "Iteration:  84%|████████▍ | 839/1001 [00:41<00:08, 20.07it/s]"
     ]
    },
    {
     "name": "stdout",
     "output_type": "stream",
     "text": [
      "{'Train':  best_epoch_indx:30\n",
      " auc:0.9639550839068218 \n",
      " apur:0.8079255403384223 \n",
      " f1:0.6459495768653716 \n",
      " precision:0.4971621784808598 \n",
      " recall:0.9218282067788072 \n",
      ", 'Validation':  best_epoch_indx:30\n",
      " auc:0.9379273456562769 \n",
      " apur:0.7289053642193506 \n",
      " f1:0.6014441704825643 \n",
      " precision:0.46236122393717843 \n",
      " recall:0.8602015113350125 \n",
      "}\n",
      "=====Epoch 31\n",
      "Training...\n"
     ]
    },
    {
     "name": "stderr",
     "output_type": "stream",
     "text": [
      "Iteration:  14%|█▍        | 142/1001 [00:12<01:14, 11.47it/s]]\n",
      "Iteration:  21%|██        | 210/1001 [00:17<01:07, 11.76it/s]\n",
      "Iteration:  21%|██        | 212/1001 [00:18<01:06, 11.79it/s]"
     ]
    },
    {
     "name": "stdout",
     "output_type": "stream",
     "text": [
      "{'Train':  best_epoch_indx:30\n",
      " auc:0.9631621179626201 \n",
      " apur:0.8059751344990363 \n",
      " f1:0.6380025865230566 \n",
      " precision:0.486896958090889 \n",
      " recall:0.9251028576226594 \n",
      ", 'Validation':  best_epoch_indx:30\n",
      " auc:0.9325169956831612 \n",
      " apur:0.7246374482527991 \n",
      " f1:0.588811549368394 \n",
      " precision:0.44685013695056736 \n",
      " recall:0.8629722921914358 \n",
      "}\n",
      "=====Epoch 31\n",
      "Training...\n"
     ]
    },
    {
     "name": "stderr",
     "output_type": "stream",
     "text": [
      "Iteration: 100%|██████████| 1001/1001 [01:25<00:00, 11.64it/s]\n",
      "Iteration:  58%|█████▊    | 579/1001 [00:55<00:39, 10.59it/s]"
     ]
    },
    {
     "name": "stdout",
     "output_type": "stream",
     "text": [
      "Evaluating...\n"
     ]
    },
    {
     "name": "stderr",
     "output_type": "stream",
     "text": [
      "Iteration: 100%|██████████| 1001/1001 [01:24<00:00, 11.84it/s]\n",
      "Iteration:  89%|████████▉ | 889/1001 [01:23<00:09, 12.02it/s]"
     ]
    },
    {
     "name": "stdout",
     "output_type": "stream",
     "text": [
      "Evaluating...\n"
     ]
    },
    {
     "name": "stderr",
     "output_type": "stream",
     "text": [
      "Iteration: 100%|██████████| 1001/1001 [01:29<00:00, 11.13it/s]\n",
      "Iteration:  77%|███████▋  | 773/1001 [01:13<00:20, 11.13it/s]"
     ]
    },
    {
     "name": "stdout",
     "output_type": "stream",
     "text": [
      "Evaluating...\n"
     ]
    },
    {
     "name": "stderr",
     "output_type": "stream",
     "text": [
      "Iteration: 100%|██████████| 1001/1001 [01:32<00:00, 10.81it/s]\n",
      "Iteration:   0%|          | 0/1001 [00:00<?, ?it/s]"
     ]
    },
    {
     "name": "stdout",
     "output_type": "stream",
     "text": [
      "Evaluating...\n"
     ]
    },
    {
     "name": "stderr",
     "output_type": "stream",
     "text": [
      "Iteration: 100%|██████████| 1001/1001 [01:33<00:00, 10.69it/s]\n",
      "Iteration:  36%|███▌      | 358/1001 [00:17<00:31, 20.64it/s]"
     ]
    },
    {
     "name": "stdout",
     "output_type": "stream",
     "text": [
      "Evaluating...\n"
     ]
    },
    {
     "name": "stderr",
     "output_type": "stream",
     "text": [
      "Iteration:  66%|██████▌   | 657/1001 [00:34<00:16, 20.53it/s]]\n",
      "Iteration:  39%|███▉      | 393/1001 [00:19<00:29, 20.46it/s]\n",
      "Iteration:   0%|          | 1/1001 [00:00<01:57,  8.52it/s]s]"
     ]
    },
    {
     "name": "stdout",
     "output_type": "stream",
     "text": [
      "{'Train':  best_epoch_indx:31\n",
      " auc:0.9556573609345486 \n",
      " apur:0.7732963474426536 \n",
      " f1:0.6334036120614208 \n",
      " precision:0.4912683965320416 \n",
      " recall:0.8912678421494542 \n",
      ", 'Validation':  best_epoch_indx:31\n",
      " auc:0.9306590398485801 \n",
      " apur:0.7034090875203745 \n",
      " f1:0.5950040580755703 \n",
      " precision:0.4634077819918528 \n",
      " recall:0.8309823677581863 \n",
      "}\n",
      "=====Epoch 32\n",
      "Training...\n"
     ]
    },
    {
     "name": "stderr",
     "output_type": "stream",
     "text": [
      "Iteration:   5%|▌         | 53/1001 [00:04<01:17, 12.23it/s]]]\n",
      "Iteration:  96%|█████████▌| 963/1001 [00:50<00:01, 20.64it/s]\n",
      "Iteration:  12%|█▏        | 123/1001 [00:10<01:14, 11.75it/s]"
     ]
    },
    {
     "name": "stdout",
     "output_type": "stream",
     "text": [
      "{'Train':  best_epoch_indx:31\n",
      " auc:0.9593028490546832 \n",
      " apur:0.789886994847983 \n",
      " f1:0.6293494996150885 \n",
      " precision:0.4795500872549163 \n",
      " recall:0.9152509166223516 \n",
      ", 'Validation':  best_epoch_indx:31\n",
      " auc:0.9336790870104063 \n",
      " apur:0.7164642317899668 \n",
      " f1:0.5958076019831261 \n",
      " precision:0.45502856383685397 \n",
      " recall:0.8627204030226701 \n",
      "}\n",
      "=====Epoch 32\n",
      "Training...\n"
     ]
    },
    {
     "name": "stderr",
     "output_type": "stream",
     "text": [
      "Iteration:   5%|▍         | 47/1001 [00:04<01:18, 12.10it/s]]]\n",
      "Iteration:   5%|▍         | 49/1001 [00:04<01:18, 12.08it/s]]\n",
      "Iteration:  24%|██▍       | 239/1001 [00:20<01:03, 11.95it/s]"
     ]
    },
    {
     "name": "stdout",
     "output_type": "stream",
     "text": [
      "{'Train':  best_epoch_indx:31\n",
      " auc:0.9632025762048757 \n",
      " apur:0.8028004374354575 \n",
      " f1:0.6206954071987248 \n",
      " precision:0.4639715152606714 \n",
      " recall:0.9373058299980408 \n",
      ", 'Validation':  best_epoch_indx:31\n",
      " auc:0.9347597667160183 \n",
      " apur:0.7223301996708746 \n",
      " f1:0.5821541534875978 \n",
      " precision:0.4347339632023869 \n",
      " recall:0.8808564231738035 \n",
      "}\n",
      "=====Epoch 32\n",
      "Training...\n"
     ]
    },
    {
     "name": "stderr",
     "output_type": "stream",
     "text": [
      "\n",
      "\r",
      "Iteration:   0%|          | 0/1001 [00:00<?, ?it/s]\r",
      "Iteration:  80%|███████▉  | 796/1001 [00:40<00:10, 20.41it/s]\r",
      "Iteration:  11%|█▏        | 115/1001 [00:10<01:14, 11.97it/s]\r",
      "Iteration:   0%|          | 1/1001 [00:00<01:50,  9.01it/s]\r",
      "Iteration:  24%|██▍       | 241/1001 [00:20<01:03, 11.98it/s]\r",
      "Iteration:  80%|███████▉  | 799/1001 [00:40<00:09, 20.40it/s]"
     ]
    },
    {
     "name": "stdout",
     "output_type": "stream",
     "text": [
      "{'Train':  best_epoch_indx:31\n",
      " auc:0.9650687502955679 \n",
      " apur:0.8117685919421617 \n",
      " f1:0.644395211442786 \n",
      " precision:0.493547474807615 \n",
      " recall:0.9280416468415013 \n",
      ", 'Validation':  best_epoch_indx:31\n",
      " auc:0.9381728319527158 \n",
      " apur:0.7332192027097864 \n",
      " f1:0.6013231197771587 \n",
      " precision:0.45943069965416333 \n",
      " recall:0.8700251889168765 \n",
      "}\n",
      "=====Epoch 32\n",
      "Training...\n"
     ]
    },
    {
     "name": "stderr",
     "output_type": "stream",
     "text": [
      "\n",
      "Iteration:  39%|███▉      | 389/1001 [00:32<00:50, 12.02it/s]]\n",
      "Iteration:  32%|███▏      | 321/1001 [00:28<01:00, 11.17it/s]\n",
      "Iteration:  46%|████▌     | 457/1001 [00:38<00:45, 11.93it/s]"
     ]
    },
    {
     "name": "stdout",
     "output_type": "stream",
     "text": [
      "{'Train':  best_epoch_indx:31\n",
      " auc:0.9596126153585814 \n",
      " apur:0.7867284787795175 \n",
      " f1:0.6313542129567016 \n",
      " precision:0.48206830419709373 \n",
      " recall:0.9145791933723306 \n",
      ", 'Validation':  best_epoch_indx:31\n",
      " auc:0.930268944637783 \n",
      " apur:0.7074899490577127 \n",
      " f1:0.5859232966842697 \n",
      " precision:0.44637910565888406 \n",
      " recall:0.8523929471032745 \n",
      "}\n",
      "=====Epoch 32\n",
      "Training...\n"
     ]
    },
    {
     "name": "stderr",
     "output_type": "stream",
     "text": [
      "Iteration: 100%|██████████| 1001/1001 [01:26<00:00, 11.61it/s]\n",
      "Iteration:  84%|████████▎ | 836/1001 [01:15<00:15, 10.34it/s]"
     ]
    },
    {
     "name": "stdout",
     "output_type": "stream",
     "text": [
      "Evaluating...\n"
     ]
    },
    {
     "name": "stderr",
     "output_type": "stream",
     "text": [
      "Iteration: 100%|██████████| 1001/1001 [01:31<00:00, 10.89it/s]\n",
      "Iteration:  33%|███▎      | 334/1001 [00:16<00:32, 20.45it/s]"
     ]
    },
    {
     "name": "stdout",
     "output_type": "stream",
     "text": [
      "Evaluating...\n"
     ]
    },
    {
     "name": "stderr",
     "output_type": "stream",
     "text": [
      "Iteration: 100%|██████████| 1001/1001 [01:28<00:00, 11.33it/s]\n",
      "Iteration:  14%|█▍        | 139/1001 [00:06<00:41, 20.61it/s]"
     ]
    },
    {
     "name": "stdout",
     "output_type": "stream",
     "text": [
      "Evaluating...\n"
     ]
    },
    {
     "name": "stderr",
     "output_type": "stream",
     "text": [
      "Iteration: 100%|██████████| 1001/1001 [01:28<00:00, 11.25it/s]\n",
      "Iteration:  15%|█▍        | 147/1001 [00:07<00:45, 18.96it/s]"
     ]
    },
    {
     "name": "stdout",
     "output_type": "stream",
     "text": [
      "Evaluating...\n"
     ]
    },
    {
     "name": "stderr",
     "output_type": "stream",
     "text": [
      "Iteration: 100%|██████████| 1001/1001 [01:29<00:00, 11.15it/s]\n",
      "Iteration:   0%|          | 2/1001 [00:00<01:12, 13.80it/s]s]"
     ]
    },
    {
     "name": "stdout",
     "output_type": "stream",
     "text": [
      "Evaluating...\n"
     ]
    },
    {
     "name": "stderr",
     "output_type": "stream",
     "text": [
      "Iteration:  22%|██▏       | 222/1001 [00:12<00:46, 16.93it/s]]\n",
      "Iteration:  71%|███████▏  | 715/1001 [00:37<00:14, 20.31it/s]\n",
      "Iteration:  86%|████████▌ | 858/1001 [00:44<00:07, 20.05it/s]"
     ]
    },
    {
     "name": "stdout",
     "output_type": "stream",
     "text": [
      "{'Train':  best_epoch_indx:32\n",
      " auc:0.9545668786816988 \n",
      " apur:0.7710764983329847 \n",
      " f1:0.6160056993588221 \n",
      " precision:0.4662448774174995 \n",
      " recall:0.9075006996921354 \n",
      ", 'Validation':  best_epoch_indx:32\n",
      " auc:0.9314042201871506 \n",
      " apur:0.7010841504304162 \n",
      " f1:0.5871056241426612 \n",
      " precision:0.44502209513906943 \n",
      " recall:0.8624685138539043 \n",
      "}\n",
      "=====Epoch 33\n",
      "Training...\n"
     ]
    },
    {
     "name": "stderr",
     "output_type": "stream",
     "text": [
      "Iteration:  91%|█████████ | 908/1001 [00:47<00:04, 20.14it/s]]\n",
      "Iteration:  62%|██████▏   | 622/1001 [00:34<00:18, 20.20it/s]]\n",
      "Iteration:   0%|          | 1/1001 [00:00<01:58,  8.47it/s]s]"
     ]
    },
    {
     "name": "stdout",
     "output_type": "stream",
     "text": [
      "{'Train':  best_epoch_indx:32\n",
      " auc:0.9574486489802742 \n",
      " apur:0.7844156511874283 \n",
      " f1:0.6134827264239029 \n",
      " precision:0.4602990009948018 \n",
      " recall:0.9194771754037336 \n",
      ", 'Validation':  best_epoch_indx:32\n",
      " auc:0.9341543309945564 \n",
      " apur:0.7189998144769143 \n",
      " f1:0.5844625873242993 \n",
      " precision:0.43888256857540137 \n",
      " recall:0.87455919395466 \n",
      "}\n",
      "=====Epoch 33\n",
      "Training...\n"
     ]
    },
    {
     "name": "stderr",
     "output_type": "stream",
     "text": [
      "Iteration:  19%|█▉        | 192/1001 [00:16<01:08, 11.90it/s]\n",
      "Iteration:   1%|▏         | 15/1001 [00:01<01:27, 11.31it/s]]\n",
      "Iteration:  26%|██▌       | 258/1001 [00:21<01:02, 11.97it/s]\n",
      "Iteration:  71%|███████   | 712/1001 [00:40<00:14, 20.10it/s]"
     ]
    },
    {
     "name": "stdout",
     "output_type": "stream",
     "text": [
      "{'Train':  best_epoch_indx:32\n",
      " auc:0.9588506138994631 \n",
      " apur:0.7839779509235987 \n",
      " f1:0.6131748298436601 \n",
      " precision:0.4584887606950203 \n",
      " recall:0.9253827423101683 \n",
      ", 'Validation':  best_epoch_indx:32\n",
      " auc:0.9335043751675182 \n",
      " apur:0.7034377111770456 \n",
      " f1:0.5785702382936178 \n",
      " precision:0.43227091633466136 \n",
      " recall:0.87455919395466 \n",
      "}\n",
      "=====Epoch 33\n",
      "Training...\n"
     ]
    },
    {
     "name": "stderr",
     "output_type": "stream",
     "text": [
      "Iteration:   8%|▊         | 79/1001 [00:07<01:20, 11.42it/s]]\n",
      "Iteration:   8%|▊         | 81/1001 [00:07<01:20, 11.45it/s]]"
     ]
    },
    {
     "name": "stdout",
     "output_type": "stream",
     "text": [
      "{'Train':  best_epoch_indx:32\n",
      " auc:0.958514148836804 \n",
      " apur:0.7831339725970726 \n",
      " f1:0.6368821666699448 \n",
      " precision:0.4909410676652971 \n",
      " recall:0.9062946066220717 \n",
      ", 'Validation':  best_epoch_indx:32\n",
      " auc:0.9301051356778933 \n",
      " apur:0.7060211469047535 \n",
      " f1:0.5930459464254036 \n",
      " precision:0.4576944140197152 \n",
      " recall:0.8420654911838791 \n",
      "}\n",
      "=====Epoch 33\n",
      "Training...\n"
     ]
    },
    {
     "name": "stderr",
     "output_type": "stream",
     "text": [
      "Iteration:  27%|██▋       | 271/1001 [00:23<01:03, 11.45it/s]]\n",
      "Iteration:  34%|███▎      | 337/1001 [00:28<00:54, 12.25it/s]\n",
      "Iteration:  34%|███▍      | 339/1001 [00:28<00:54, 12.22it/s]"
     ]
    },
    {
     "name": "stdout",
     "output_type": "stream",
     "text": [
      "{'Train':  best_epoch_indx:32\n",
      " auc:0.9601298335919202 \n",
      " apur:0.7943957823329374 \n",
      " f1:0.6298663232651335 \n",
      " precision:0.47961304296920737 \n",
      " recall:0.9172101094349128 \n",
      ", 'Validation':  best_epoch_indx:32\n",
      " auc:0.9315649348539885 \n",
      " apur:0.7126412379063821 \n",
      " f1:0.5816631130063966 \n",
      " precision:0.4397163120567376 \n",
      " recall:0.8589420654911839 \n",
      "}\n",
      "=====Epoch 33\n",
      "Training...\n"
     ]
    },
    {
     "name": "stderr",
     "output_type": "stream",
     "text": [
      "Iteration: 100%|██████████| 1001/1001 [01:24<00:00, 11.91it/s]\n",
      "Iteration:  82%|████████▏ | 819/1001 [01:08<00:14, 12.23it/s]"
     ]
    },
    {
     "name": "stdout",
     "output_type": "stream",
     "text": [
      "Evaluating...\n"
     ]
    },
    {
     "name": "stderr",
     "output_type": "stream",
     "text": [
      "Iteration: 100%|██████████| 1001/1001 [01:24<00:00, 11.86it/s]\n",
      "Iteration:  35%|███▍      | 347/1001 [00:16<00:30, 21.16it/s]"
     ]
    },
    {
     "name": "stdout",
     "output_type": "stream",
     "text": [
      "Evaluating...\n"
     ]
    },
    {
     "name": "stderr",
     "output_type": "stream",
     "text": [
      "Iteration: 100%|██████████| 1001/1001 [01:26<00:00, 11.60it/s]\n",
      "Iteration:  51%|█████     | 512/1001 [00:24<00:24, 20.26it/s]"
     ]
    },
    {
     "name": "stdout",
     "output_type": "stream",
     "text": [
      "Evaluating...\n"
     ]
    },
    {
     "name": "stderr",
     "output_type": "stream",
     "text": [
      "Iteration: 100%|██████████| 1001/1001 [01:32<00:00, 10.86it/s]\n",
      "Iteration:  27%|██▋       | 274/1001 [00:15<00:36, 20.16it/s]"
     ]
    },
    {
     "name": "stdout",
     "output_type": "stream",
     "text": [
      "Evaluating...\n"
     ]
    },
    {
     "name": "stderr",
     "output_type": "stream",
     "text": [
      "Iteration:  65%|██████▌   | 655/1001 [00:34<00:16, 20.37it/s]]\n",
      "Iteration: 100%|██████████| 1001/1001 [01:33<00:00, 10.72it/s]\n",
      "Iteration:  46%|████▋     | 463/1001 [00:23<00:30, 17.75it/s]"
     ]
    },
    {
     "name": "stdout",
     "output_type": "stream",
     "text": [
      "Evaluating...\n"
     ]
    },
    {
     "name": "stderr",
     "output_type": "stream",
     "text": [
      "Iteration:  50%|█████     | 501/1001 [00:25<00:28, 17.82it/s]\n",
      "Iteration:  64%|██████▍   | 644/1001 [00:32<00:17, 20.11it/s]"
     ]
    },
    {
     "name": "stdout",
     "output_type": "stream",
     "text": [
      "{'Train':  best_epoch_indx:33\n",
      " auc:0.9493538237214473 \n",
      " apur:0.7518619613866574 \n",
      " f1:0.5833489009278287 \n",
      " precision:0.4275784724123991 \n",
      " recall:0.9176602294990205 \n",
      ", 'Validation':  best_epoch_indx:33\n",
      " auc:0.9268785508834207 \n",
      " apur:0.6900678626751973 \n",
      " f1:0.5529851339534144 \n",
      " precision:0.40399581832965503 \n",
      " recall:0.8760705289672545 \n",
      "}\n",
      "=====Epoch 34\n",
      "Training...\n"
     ]
    },
    {
     "name": "stderr",
     "output_type": "stream",
     "text": [
      "Iteration:  74%|███████▍  | 741/1001 [00:39<00:15, 17.02it/s]]\n",
      "Iteration:  84%|████████▍ | 839/1001 [00:45<00:08, 18.62it/s]]\n",
      "Iteration:   0%|          | 0/1001 [00:00<?, ?it/s]"
     ]
    },
    {
     "name": "stdout",
     "output_type": "stream",
     "text": [
      "{'Train':  best_epoch_indx:33\n",
      " auc:0.9543480175626201 \n",
      " apur:0.7687786546980016 \n",
      " f1:0.6234676345103187 \n",
      " precision:0.4758431684568802 \n",
      " recall:0.9038875983094965 \n",
      ", 'Validation':  best_epoch_indx:33\n",
      " auc:0.931760899604419 \n",
      " apur:0.7066829009473179 \n",
      " f1:0.5916253155741272 \n",
      " precision:0.45204203804709325 \n",
      " recall:0.8559193954659949 \n",
      "}\n",
      "=====Epoch 34\n",
      "Training...\n"
     ]
    },
    {
     "name": "stderr",
     "output_type": "stream",
     "text": [
      "Iteration:   0%|          | 4/1001 [00:00<01:45,  9.41it/s]s]\n",
      "Iteration:  57%|█████▋    | 567/1001 [00:28<00:20, 20.68it/s]\n",
      "Iteration:   6%|▌         | 60/1001 [00:06<01:37,  9.64it/s]]"
     ]
    },
    {
     "name": "stdout",
     "output_type": "stream",
     "text": [
      "{'Train':  best_epoch_indx:33\n",
      " auc:0.9542197714209018 \n",
      " apur:0.7697430727426912 \n",
      " f1:0.6132983046362623 \n",
      " precision:0.46296851146399576 \n",
      " recall:0.9081978224971312 \n",
      ", 'Validation':  best_epoch_indx:33\n",
      " auc:0.9303736277431744 \n",
      " apur:0.7006043830306903 \n",
      " f1:0.5781950435591644 \n",
      " precision:0.4352476760473704 \n",
      " recall:0.8609571788413098 \n",
      "}\n",
      "=====Epoch 34\n",
      "Training...\n"
     ]
    },
    {
     "name": "stderr",
     "output_type": "stream",
     "text": [
      "Iteration:  36%|███▌      | 359/1001 [00:30<00:56, 11.40it/s]]\n",
      "Iteration:  77%|███████▋  | 767/1001 [00:38<00:13, 17.51it/s]\n",
      "Iteration:  12%|█▏        | 125/1001 [00:10<01:13, 11.90it/s]"
     ]
    },
    {
     "name": "stdout",
     "output_type": "stream",
     "text": [
      "{'Train':  best_epoch_indx:33\n",
      " auc:0.9595465442053563 \n",
      " apur:0.7884094391974005 \n",
      " f1:0.6127828898284009 \n",
      " precision:0.4566846975479832 \n",
      " recall:0.931008424529094 \n",
      ", 'Validation':  best_epoch_indx:33\n",
      " auc:0.9318276197626411 \n",
      " apur:0.7067446432368476 \n",
      " f1:0.5762964188239187 \n",
      " precision:0.429011205516562 \n",
      " recall:0.8775818639798488 \n",
      "}\n",
      "=====Epoch 34\n",
      "Training...\n"
     ]
    },
    {
     "name": "stderr",
     "output_type": "stream",
     "text": [
      "Iteration:  14%|█▍        | 145/1001 [00:14<01:24, 10.16it/s]]\n",
      "Iteration:  34%|███▎      | 336/1001 [00:30<01:04, 10.33it/s]\n",
      "Iteration:  39%|███▊      | 386/1001 [00:36<01:00, 10.17it/s]"
     ]
    },
    {
     "name": "stdout",
     "output_type": "stream",
     "text": [
      "{'Train':  best_epoch_indx:33\n",
      " auc:0.9584338067170403 \n",
      " apur:0.7879562400578912 \n",
      " f1:0.6200407062053296 \n",
      " precision:0.4684719480445169 \n",
      " recall:0.9165943631223936 \n",
      ", 'Validation':  best_epoch_indx:33\n",
      " auc:0.9298782922828076 \n",
      " apur:0.7088348929293413 \n",
      " f1:0.5790453622207177 \n",
      " precision:0.4360183533010451 \n",
      " recall:0.861712846347607 \n",
      "}\n",
      "=====Epoch 34\n",
      "Training...\n"
     ]
    },
    {
     "name": "stderr",
     "output_type": "stream",
     "text": [
      "Iteration: 100%|██████████| 1001/1001 [01:26<00:00, 11.59it/s]\n",
      "Iteration:  37%|███▋      | 371/1001 [00:30<00:52, 11.90it/s]"
     ]
    },
    {
     "name": "stdout",
     "output_type": "stream",
     "text": [
      "Evaluating...\n"
     ]
    },
    {
     "name": "stderr",
     "output_type": "stream",
     "text": [
      "Iteration: 100%|██████████| 1001/1001 [01:37<00:00, 10.31it/s]\n",
      "Iteration:  62%|██████▏   | 619/1001 [00:30<00:18, 20.50it/s]"
     ]
    },
    {
     "name": "stdout",
     "output_type": "stream",
     "text": [
      "Evaluating...\n"
     ]
    },
    {
     "name": "stderr",
     "output_type": "stream",
     "text": [
      "Iteration: 100%|██████████| 1001/1001 [01:33<00:00, 10.73it/s]\n",
      "Iteration:   0%|          | 0/1001 [00:00<?, ?it/s]"
     ]
    },
    {
     "name": "stdout",
     "output_type": "stream",
     "text": [
      "Evaluating...\n"
     ]
    },
    {
     "name": "stderr",
     "output_type": "stream",
     "text": [
      "Iteration: 100%|██████████| 1001/1001 [01:33<00:00, 10.72it/s]\n",
      "Iteration:  22%|██▏       | 224/1001 [00:10<00:36, 21.07it/s]"
     ]
    },
    {
     "name": "stdout",
     "output_type": "stream",
     "text": [
      "Evaluating...\n"
     ]
    },
    {
     "name": "stderr",
     "output_type": "stream",
     "text": [
      "Iteration:  98%|█████████▊| 977/1001 [01:22<00:01, 12.28it/s]]\n",
      "Iteration:  44%|████▍     | 443/1001 [00:21<00:27, 20.55it/s]]\n",
      "Iteration:   0%|          | 0/1001 [00:00<?, ?it/s]"
     ]
    },
    {
     "name": "stdout",
     "output_type": "stream",
     "text": [
      "Evaluating...\n"
     ]
    },
    {
     "name": "stderr",
     "output_type": "stream",
     "text": [
      "Iteration:  55%|█████▌    | 551/1001 [00:27<00:26, 17.23it/s]\n",
      "Iteration:  52%|█████▏    | 524/1001 [00:24<00:22, 20.89it/s]"
     ]
    },
    {
     "name": "stdout",
     "output_type": "stream",
     "text": [
      "{'Train':  best_epoch_indx:34\n",
      " auc:0.9495382833507287 \n",
      " apur:0.7501292906740543 \n",
      " f1:0.5726105168414858 \n",
      " precision:0.4144679145055 \n",
      " recall:0.9258886090120347 \n",
      ", 'Validation':  best_epoch_indx:34\n",
      " auc:0.9274231807464001 \n",
      " apur:0.6796191155597602 \n",
      " f1:0.5436158715454686 \n",
      " precision:0.39191896705253787 \n",
      " recall:0.8869017632241813 \n",
      "}\n",
      "=====Epoch 35\n",
      "Training...\n"
     ]
    },
    {
     "name": "stderr",
     "output_type": "stream",
     "text": [
      "Iteration:  59%|█████▉    | 593/1001 [00:29<00:19, 20.90it/s]]\n",
      "Iteration:  60%|██████    | 602/1001 [00:29<00:19, 20.99it/s]\n",
      "Iteration:  92%|█████████▏| 922/1001 [00:45<00:04, 17.20it/s]\n",
      "Iteration:  96%|█████████▋| 108/112 [00:05<00:00, 20.45it/s]"
     ]
    },
    {
     "name": "stdout",
     "output_type": "stream",
     "text": [
      "{'Train':  best_epoch_indx:34\n",
      " auc:0.951042878833618 \n",
      " apur:0.7539218109734698 \n",
      " f1:0.5951844448482645 \n",
      " precision:0.4406371500450687 \n",
      " recall:0.916706316997397 \n",
      ", 'Validation':  best_epoch_indx:34\n",
      " auc:0.9299234252469801 \n",
      " apur:0.6942237655865658 \n",
      " f1:0.5666639417967793 \n",
      " precision:0.41946024446327 \n",
      " recall:0.8730478589420655 \n",
      "}\n",
      "=====Epoch 35\n",
      "Training...\n"
     ]
    },
    {
     "name": "stderr",
     "output_type": "stream",
     "text": [
      "Iteration:  93%|█████████▎| 930/1001 [00:46<00:03, 17.82it/s]\n",
      "Iteration:  72%|███████▏  | 721/1001 [00:35<00:13, 21.17it/s]"
     ]
    },
    {
     "name": "stdout",
     "output_type": "stream",
     "text": [
      "{'Train':  best_epoch_indx:34\n",
      " auc:0.9535035481140995 \n",
      " apur:0.7698975273738358 \n",
      " f1:0.5780594390375542 \n",
      " precision:0.4195084970623539 \n",
      " recall:0.9292731394665398 \n",
      ", 'Validation':  best_epoch_indx:34\n",
      " auc:0.9298036992487726 \n",
      " apur:0.6994042659152706 \n",
      " f1:0.5510840742473873 \n",
      " precision:0.399118843199277 \n",
      " recall:0.8899244332493703 \n",
      "}\n",
      "=====Epoch 35\n",
      "Training...\n"
     ]
    },
    {
     "name": "stderr",
     "output_type": "stream",
     "text": [
      "Iteration:  84%|████████▍ | 841/1001 [00:41<00:08, 18.25it/s]]\n",
      "Iteration:  13%|█▎        | 131/1001 [00:11<01:13, 11.81it/s]\n",
      "Iteration:   0%|          | 1/1001 [00:00<01:57,  8.50it/s]s]"
     ]
    },
    {
     "name": "stdout",
     "output_type": "stream",
     "text": [
      "{'Train':  best_epoch_indx:34\n",
      " auc:0.9511577586947204 \n",
      " apur:0.7568711861706263 \n",
      " f1:0.5784525506589822 \n",
      " precision:0.420675706617142 \n",
      " recall:0.9256066500601752 \n",
      ", 'Validation':  best_epoch_indx:34\n",
      " auc:0.9241996131019398 \n",
      " apur:0.6844224480482912 \n",
      " f1:0.5454545454545454 \n",
      " precision:0.39621350364963503 \n",
      " recall:0.8750629722921914 \n",
      "}\n",
      "=====Epoch 35\n",
      "Training...\n"
     ]
    },
    {
     "name": "stderr",
     "output_type": "stream",
     "text": [
      "Iteration:  54%|█████▍    | 540/1001 [00:48<00:39, 11.54it/s]]\n",
      "Iteration:  13%|█▎        | 131/1001 [00:10<01:11, 12.13it/s]\n",
      "Iteration:  25%|██▌       | 254/1001 [00:22<01:01, 12.10it/s]"
     ]
    },
    {
     "name": "stdout",
     "output_type": "stream",
     "text": [
      "{'Train':  best_epoch_indx:34\n",
      " auc:0.9525113246497288 \n",
      " apur:0.7580925811352623 \n",
      " f1:0.6031467562925893 \n",
      " precision:0.45004340457194825 \n",
      " recall:0.9141313778723166 \n",
      ", 'Validation':  best_epoch_indx:34\n",
      " auc:0.9250190179022424 \n",
      " apur:0.6825355794034358 \n",
      " f1:0.5607491990470713 \n",
      " precision:0.4160672924539803 \n",
      " recall:0.8596977329974811 \n",
      "}\n",
      "=====Epoch 35\n",
      "Training...\n"
     ]
    },
    {
     "name": "stderr",
     "output_type": "stream",
     "text": [
      "Iteration: 100%|██████████| 1001/1001 [01:31<00:00, 10.89it/s]\n",
      "Iteration:  57%|█████▋    | 568/1001 [00:48<00:46,  9.38it/s]"
     ]
    },
    {
     "name": "stdout",
     "output_type": "stream",
     "text": [
      "Evaluating...\n"
     ]
    },
    {
     "name": "stderr",
     "output_type": "stream",
     "text": [
      "Iteration: 100%|██████████| 1001/1001 [01:25<00:00, 11.67it/s]\n",
      "Iteration:  53%|█████▎    | 534/1001 [00:25<00:22, 20.70it/s]"
     ]
    },
    {
     "name": "stdout",
     "output_type": "stream",
     "text": [
      "Evaluating...\n"
     ]
    },
    {
     "name": "stderr",
     "output_type": "stream",
     "text": [
      "Iteration: 100%|██████████| 1001/1001 [01:30<00:00, 11.02it/s]\n",
      "Iteration:  86%|████████▌ | 860/1001 [01:19<00:14,  9.79it/s]"
     ]
    },
    {
     "name": "stdout",
     "output_type": "stream",
     "text": [
      "Evaluating...\n"
     ]
    },
    {
     "name": "stderr",
     "output_type": "stream",
     "text": [
      "Iteration: 100%|██████████| 1001/1001 [01:31<00:00, 10.88it/s]\n",
      "Iteration:   0%|          | 0/1001 [00:00<?, ?it/s]"
     ]
    },
    {
     "name": "stdout",
     "output_type": "stream",
     "text": [
      "Evaluating...\n"
     ]
    },
    {
     "name": "stderr",
     "output_type": "stream",
     "text": [
      "Iteration: 100%|██████████| 1001/1001 [01:27<00:00, 11.50it/s]\n",
      "Iteration:  12%|█▏        | 122/1001 [00:06<00:46, 19.09it/s]"
     ]
    },
    {
     "name": "stdout",
     "output_type": "stream",
     "text": [
      "Evaluating...\n"
     ]
    },
    {
     "name": "stderr",
     "output_type": "stream",
     "text": [
      "Iteration:  44%|████▍     | 439/1001 [00:22<00:34, 16.24it/s]]\n",
      "Iteration:  31%|███       | 311/1001 [00:15<00:34, 19.96it/s]\n",
      "Iteration:  65%|██████▌   | 652/1001 [00:33<00:31, 11.20it/s]"
     ]
    },
    {
     "name": "stdout",
     "output_type": "stream",
     "text": [
      "{'Train':  best_epoch_indx:35\n",
      " auc:0.9557626427235685 \n",
      " apur:0.778243649113286 \n",
      " f1:0.6053943664563133 \n",
      " precision:0.4509016663012497 \n",
      " recall:0.9209347886929751 \n",
      ", 'Validation':  best_epoch_indx:35\n",
      " auc:0.9321341219180607 \n",
      " apur:0.706039271092521 \n",
      " f1:0.5744715984147952 \n",
      " precision:0.42729059199213953 \n",
      " recall:0.8763224181360202 \n",
      "}\n",
      "=====Epoch 36\n",
      "Training...\n"
     ]
    },
    {
     "name": "stderr",
     "output_type": "stream",
     "text": [
      "Iteration:  58%|█████▊    | 579/1001 [00:29<00:21, 19.31it/s]]\n",
      "Iteration:  77%|███████▋  | 771/1001 [00:40<00:11, 19.31it/s]]\n",
      "Iteration:   0%|          | 1/1001 [00:00<02:21,  7.06it/s]s]"
     ]
    },
    {
     "name": "stdout",
     "output_type": "stream",
     "text": [
      "{'Train':  best_epoch_indx:35\n",
      " auc:0.9570082945850509 \n",
      " apur:0.7834573488347345 \n",
      " f1:0.6290870714444778 \n",
      " precision:0.4809041655564437 \n",
      " recall:0.9092613843096644 \n",
      ", 'Validation':  best_epoch_indx:35\n",
      " auc:0.933748704318356 \n",
      " apur:0.712942673917428 \n",
      " f1:0.5924511930585683 \n",
      " precision:0.4518861681005956 \n",
      " recall:0.8599496221662468 \n",
      "}\n",
      "=====Epoch 36\n",
      "Training...\n"
     ]
    },
    {
     "name": "stderr",
     "output_type": "stream",
     "text": [
      "Iteration:  67%|██████▋   | 674/1001 [00:35<00:17, 18.78it/s]\n",
      "Iteration:  89%|████████▉ | 892/1001 [00:46<00:05, 20.53it/s]\n",
      "Iteration:  79%|███████▉  | 794/1001 [00:41<00:10, 20.50it/s]"
     ]
    },
    {
     "name": "stdout",
     "output_type": "stream",
     "text": [
      "{'Train':  best_epoch_indx:35\n",
      " auc:0.9550008442574289 \n",
      " apur:0.7756035682428546 \n",
      " f1:0.6141091376070555 \n",
      " precision:0.46339099951549007 \n",
      " recall:0.9101290268409415 \n",
      ", 'Validation':  best_epoch_indx:35\n",
      " auc:0.9312474312439084 \n",
      " apur:0.7147395522890705 \n",
      " f1:0.5820132856412877 \n",
      " precision:0.4396551724137931 \n",
      " recall:0.8607052896725441 \n",
      "}\n",
      "=====Epoch 36\n",
      "Training...\n"
     ]
    },
    {
     "name": "stderr",
     "output_type": "stream",
     "text": [
      "Iteration:  95%|█████████▌| 953/1001 [00:49<00:02, 19.95it/s]]\n",
      "Iteration:  15%|█▌        | 153/1001 [00:13<01:09, 12.28it/s]]\n",
      "Iteration:  16%|█▌        | 161/1001 [00:13<01:08, 12.33it/s]\n",
      "Iteration:  20%|█▉        | 196/1001 [00:20<01:17, 10.45it/s]"
     ]
    },
    {
     "name": "stdout",
     "output_type": "stream",
     "text": [
      "{'Train':  best_epoch_indx:35\n",
      " auc:0.9559773439858456 \n",
      " apur:0.7778561919988276 \n",
      " f1:0.6036481809585885 \n",
      " precision:0.44914073385973063 \n",
      " recall:0.9202048755912564 \n",
      ", 'Validation':  best_epoch_indx:35\n",
      " auc:0.9304789965644776 \n",
      " apur:0.7106674756487366 \n",
      " f1:0.5704167352989622 \n",
      " precision:0.42376407244248654 \n",
      " recall:0.8722921914357683 \n",
      "}\n",
      "=====Epoch 36\n",
      "Training...\n"
     ]
    },
    {
     "name": "stderr",
     "output_type": "stream",
     "text": [
      "Iteration:  22%|██▏       | 221/1001 [00:18<01:04, 12.04it/s]\n",
      "Iteration:   0%|          | 0/1001 [00:00<?, ?it/s]"
     ]
    },
    {
     "name": "stdout",
     "output_type": "stream",
     "text": [
      "{'Train':  best_epoch_indx:35\n",
      " auc:0.9554356359614029 \n",
      " apur:0.7786081391146291 \n",
      " f1:0.6248366772161087 \n",
      " precision:0.4775571796313282 \n",
      " recall:0.9034677712782334 \n",
      ", 'Validation':  best_epoch_indx:35\n",
      " auc:0.9291674448827979 \n",
      " apur:0.7028467864760497 \n",
      " f1:0.5847538288483171 \n",
      " precision:0.4453670752603137 \n",
      " recall:0.8511335012594459 \n",
      "}\n",
      "=====Epoch 36\n",
      "Training...\n"
     ]
    },
    {
     "name": "stderr",
     "output_type": "stream",
     "text": [
      "Iteration:  49%|████▉     | 488/1001 [00:44<00:51, 10.03it/s]]\n",
      "Iteration:  49%|████▉     | 490/1001 [00:44<00:50, 10.11it/s]"
     ]
    },
    {
     "name": "stdout",
     "output_type": "stream",
     "text": [
      "Evaluating...\n"
     ]
    },
    {
     "name": "stderr",
     "output_type": "stream",
     "text": [
      "Iteration: 100%|██████████| 1001/1001 [01:24<00:00, 11.88it/s]\n",
      "Iteration:  85%|████████▍ | 847/1001 [01:10<00:13, 11.76it/s]"
     ]
    },
    {
     "name": "stdout",
     "output_type": "stream",
     "text": [
      "Evaluating...\n"
     ]
    },
    {
     "name": "stderr",
     "output_type": "stream",
     "text": [
      "Iteration: 100%|██████████| 1001/1001 [01:30<00:00, 11.02it/s]\n",
      "Iteration:  85%|████████▌ | 853/1001 [01:11<00:12, 11.91it/s]"
     ]
    },
    {
     "name": "stdout",
     "output_type": "stream",
     "text": [
      "Evaluating...\n"
     ]
    },
    {
     "name": "stderr",
     "output_type": "stream",
     "text": [
      "Iteration: 100%|██████████| 1001/1001 [01:23<00:00, 11.99it/s]\n",
      "Iteration:  86%|████████▌ | 862/1001 [01:18<00:12, 11.04it/s]"
     ]
    },
    {
     "name": "stdout",
     "output_type": "stream",
     "text": [
      "Evaluating...\n"
     ]
    },
    {
     "name": "stderr",
     "output_type": "stream",
     "text": [
      "Iteration: 100%|██████████| 1001/1001 [01:30<00:00, 11.07it/s]\n",
      "Iteration:  95%|█████████▍| 947/1001 [00:46<00:02, 19.02it/s]"
     ]
    },
    {
     "name": "stdout",
     "output_type": "stream",
     "text": [
      "Evaluating...\n"
     ]
    },
    {
     "name": "stderr",
     "output_type": "stream",
     "text": [
      "Iteration:  34%|███▍      | 339/1001 [00:17<00:33, 19.68it/s]]\n",
      "Iteration:  46%|████▌     | 456/1001 [00:22<00:27, 20.18it/s]\n",
      "Iteration:  46%|████▌     | 459/1001 [00:23<00:27, 19.93it/s]"
     ]
    },
    {
     "name": "stdout",
     "output_type": "stream",
     "text": [
      "{'Train':  best_epoch_indx:36\n",
      " auc:0.9539572107138251 \n",
      " apur:0.7611201235564943 \n",
      " f1:0.6366191507580719 \n",
      " precision:0.4973164397576139 \n",
      " recall:0.884326896165687 \n",
      ", 'Validation':  best_epoch_indx:36\n",
      " auc:0.9311585024615914 \n",
      " apur:0.6982255426356447 \n",
      " f1:0.6041950422228275 \n",
      " precision:0.4723839273037058 \n",
      " recall:0.8380352644836272 \n",
      "}\n",
      "=====Epoch 37\n",
      "Training...\n"
     ]
    },
    {
     "name": "stderr",
     "output_type": "stream",
     "text": [
      "Iteration:  17%|█▋        | 167/1001 [00:14<01:09, 11.92it/s]]\n",
      "Iteration:  74%|███████▍  | 745/1001 [00:37<00:12, 20.10it/s]\n",
      "Iteration:  93%|█████████▎| 104/112 [00:05<00:00, 16.78it/s]]\n",
      "Iteration:  61%|██████▏   | 614/1001 [00:31<00:21, 18.34it/s]"
     ]
    },
    {
     "name": "stdout",
     "output_type": "stream",
     "text": [
      "{'Train':  best_epoch_indx:36\n",
      " auc:0.9635955099173068 \n",
      " apur:0.8095409469438334 \n",
      " f1:0.626128962529252 \n",
      " precision:0.47133316353963267 \n",
      " recall:0.9323238825603851 \n",
      ", 'Validation':  best_epoch_indx:36\n",
      " auc:0.937274145535831 \n",
      " apur:0.72789520506397 \n",
      " f1:0.585431352802954 \n",
      " precision:0.438963000251699 \n",
      " recall:0.8785894206549119 \n",
      "}\n",
      "=====Epoch 37\n",
      "Training...\n"
     ]
    },
    {
     "name": "stderr",
     "output_type": "stream",
     "text": [
      "Iteration:  63%|██████▎   | 626/1001 [00:32<00:21, 17.65it/s]\n",
      "Iteration:   1%|          | 9/1001 [00:00<01:32, 10.71it/s]s]"
     ]
    },
    {
     "name": "stdout",
     "output_type": "stream",
     "text": [
      "{'Train':  best_epoch_indx:36\n",
      " auc:0.9560014753504135 \n",
      " apur:0.7753050661983414 \n",
      " f1:0.5839454354669464 \n",
      " precision:0.4246416807620404 \n",
      " recall:0.9345349715917042 \n",
      ", 'Validation':  best_epoch_indx:36\n",
      " auc:0.9322808994089901 \n",
      " apur:0.7040940385354623 \n",
      " f1:0.5575443554718166 \n",
      " precision:0.4049954379562044 \n",
      " recall:0.8944584382871537 \n",
      "}\n",
      "=====Epoch 37\n",
      "Training...\n"
     ]
    },
    {
     "name": "stderr",
     "output_type": "stream",
     "text": [
      "Iteration:  35%|███▌      | 355/1001 [00:30<00:55, 11.59it/s]]\n",
      "Iteration:  15%|█▌        | 155/1001 [00:14<01:21, 10.40it/s]\n",
      "Iteration:  19%|█▊        | 187/1001 [00:15<01:06, 12.23it/s]"
     ]
    },
    {
     "name": "stdout",
     "output_type": "stream",
     "text": [
      "{'Train':  best_epoch_indx:36\n",
      " auc:0.9623843366613075 \n",
      " apur:0.7993858833239301 \n",
      " f1:0.6221351250466591 \n",
      " precision:0.4666601335554591 \n",
      " recall:0.9329676173416552 \n",
      ", 'Validation':  best_epoch_indx:36\n",
      " auc:0.9348067982561217 \n",
      " apur:0.7193751085355454 \n",
      " f1:0.5833681571249478 \n",
      " precision:0.4365228267667292 \n",
      " recall:0.8790931989924433 \n",
      "}\n",
      "=====Epoch 37\n",
      "Training...\n"
     ]
    },
    {
     "name": "stderr",
     "output_type": "stream",
     "text": [
      "Iteration:  10%|▉         | 99/1001 [00:08<01:13, 12.19it/s]]]\n",
      "Iteration:  36%|███▌      | 357/1001 [00:29<00:52, 12.28it/s]\n",
      "Iteration:  17%|█▋        | 169/1001 [00:14<01:10, 11.76it/s]"
     ]
    },
    {
     "name": "stdout",
     "output_type": "stream",
     "text": [
      "{'Train':  best_epoch_indx:36\n",
      " auc:0.959147416210774 \n",
      " apur:0.7930525151432329 \n",
      " f1:0.6239059263713503 \n",
      " precision:0.4733922363847045 \n",
      " recall:0.9147471241848358 \n",
      ", 'Validation':  best_epoch_indx:36\n",
      " auc:0.9318773813092185 \n",
      " apur:0.7179742011822483 \n",
      " f1:0.5846048930184979 \n",
      " precision:0.4418245071511403 \n",
      " recall:0.863727959697733 \n",
      "}\n",
      "=====Epoch 37\n",
      "Training...\n"
     ]
    },
    {
     "name": "stderr",
     "output_type": "stream",
     "text": [
      "Iteration: 100%|██████████| 1001/1001 [01:28<00:00, 11.30it/s]\n",
      "Iteration:  63%|██████▎   | 633/1001 [00:52<00:31, 11.81it/s]"
     ]
    },
    {
     "name": "stdout",
     "output_type": "stream",
     "text": [
      "Evaluating...\n"
     ]
    },
    {
     "name": "stderr",
     "output_type": "stream",
     "text": [
      "Iteration: 100%|██████████| 1001/1001 [01:25<00:00, 11.72it/s]\n",
      "Iteration:  97%|█████████▋| 973/1001 [01:24<00:02, 11.87it/s]"
     ]
    },
    {
     "name": "stdout",
     "output_type": "stream",
     "text": [
      "Evaluating...\n"
     ]
    },
    {
     "name": "stderr",
     "output_type": "stream",
     "text": [
      "Iteration: 100%|██████████| 1001/1001 [01:27<00:00, 11.48it/s]\n",
      "Iteration:   0%|          | 2/1001 [00:00<00:59, 16.79it/s]s]"
     ]
    },
    {
     "name": "stdout",
     "output_type": "stream",
     "text": [
      "Evaluating...\n"
     ]
    },
    {
     "name": "stderr",
     "output_type": "stream",
     "text": [
      "Iteration: 100%|██████████| 1001/1001 [01:25<00:00, 11.70it/s]\n",
      "Iteration:  27%|██▋       | 273/1001 [00:13<00:34, 21.00it/s]"
     ]
    },
    {
     "name": "stdout",
     "output_type": "stream",
     "text": [
      "Evaluating...\n"
     ]
    },
    {
     "name": "stderr",
     "output_type": "stream",
     "text": [
      "Iteration: 100%|██████████| 1001/1001 [01:28<00:00, 11.30it/s]\n",
      "Iteration:  60%|█████▉    | 599/1001 [00:32<00:22, 17.51it/s]"
     ]
    },
    {
     "name": "stdout",
     "output_type": "stream",
     "text": [
      "Evaluating...\n"
     ]
    },
    {
     "name": "stderr",
     "output_type": "stream",
     "text": [
      "Iteration:  62%|██████▏   | 617/1001 [00:33<00:21, 17.61it/s]\n",
      "Iteration:  72%|███████▏  | 717/1001 [00:39<00:16, 17.41it/s]\n",
      "Iteration:  75%|███████▌  | 751/1001 [00:37<00:13, 18.78it/s]"
     ]
    },
    {
     "name": "stdout",
     "output_type": "stream",
     "text": [
      "{'Train':  best_epoch_indx:37\n",
      " auc:0.9636859267930452 \n",
      " apur:0.8069133999286897 \n",
      " f1:0.6547296619520513 \n",
      " precision:0.5102407754846779 \n",
      " recall:0.9133781136300028 \n",
      ", 'Validation':  best_epoch_indx:37\n",
      " auc:0.9370718079131445 \n",
      " apur:0.7282709214065735 \n",
      " f1:0.6123514584083544 \n",
      " precision:0.4764639955169515 \n",
      " recall:0.8566750629722922 \n",
      "}\n",
      "=====Epoch 38\n",
      "Training...\n"
     ]
    },
    {
     "name": "stderr",
     "output_type": "stream",
     "text": [
      "Iteration:  43%|████▎     | 433/1001 [00:22<00:29, 19.13it/s]]\n",
      "Iteration:  46%|████▋     | 463/1001 [00:23<00:27, 19.23it/s]\n",
      "Iteration:  54%|█████▍    | 539/1001 [00:27<00:21, 21.29it/s]\n",
      "Iteration:  23%|██▎       | 235/1001 [00:20<01:02, 12.29it/s]"
     ]
    },
    {
     "name": "stdout",
     "output_type": "stream",
     "text": [
      "{'Train':  best_epoch_indx:37\n",
      " auc:0.9633512992571441 \n",
      " apur:0.8074870815414035 \n",
      " f1:0.6219043810622052 \n",
      " precision:0.4656834071474332 \n",
      " recall:0.9358504296229954 \n",
      ", 'Validation':  best_epoch_indx:37\n",
      " auc:0.9367237770878143 \n",
      " apur:0.7297338413756165 \n",
      " f1:0.58249832999332 \n",
      " precision:0.43567324506620037 \n",
      " recall:0.8785894206549119 \n",
      "}\n",
      "=====Epoch 38\n",
      "Training...\n"
     ]
    },
    {
     "name": "stderr",
     "output_type": "stream",
     "text": [
      "Iteration:  92%|█████████▏| 918/1001 [00:46<00:04, 18.63it/s]\n",
      "Iteration:   0%|          | 1/1001 [00:00<02:19,  7.16it/s]s]"
     ]
    },
    {
     "name": "stdout",
     "output_type": "stream",
     "text": [
      "{'Train':  best_epoch_indx:37\n",
      " auc:0.9685287728908806 \n",
      " apur:0.825185545397965 \n",
      " f1:0.6616993724474549 \n",
      " precision:0.5136635684570298 \n",
      " recall:0.9296090010915503 \n",
      ", 'Validation':  best_epoch_indx:37\n",
      " auc:0.9397368899474818 \n",
      " apur:0.736725667169037 \n",
      " f1:0.6106352605281942 \n",
      " precision:0.47278253661232383 \n",
      " recall:0.8619647355163728 \n",
      "}\n",
      "=====Epoch 38\n",
      "Training...\n"
     ]
    },
    {
     "name": "stderr",
     "output_type": "stream",
     "text": [
      "Iteration:  71%|███████   | 711/1001 [00:36<00:14, 19.51it/s]]\n",
      "Iteration:  13%|█▎        | 133/1001 [00:12<01:14, 11.70it/s]\n",
      "Iteration:  83%|████████▎ | 828/1001 [00:42<00:08, 21.38it/s]"
     ]
    },
    {
     "name": "stdout",
     "output_type": "stream",
     "text": [
      "{'Train':  best_epoch_indx:37\n",
      " auc:0.968690134787105 \n",
      " apur:0.8263467595932075 \n",
      " f1:0.6432721756304205 \n",
      " precision:0.4879852928403926 \n",
      " recall:0.943519270060735 \n",
      ", 'Validation':  best_epoch_indx:37\n",
      " auc:0.9391228699199486 \n",
      " apur:0.7405170047139386 \n",
      " f1:0.5953599454111226 \n",
      " precision:0.4500902759865876 \n",
      " recall:0.8790931989924433 \n",
      "}\n",
      "=====Epoch 38\n",
      "Training...\n"
     ]
    },
    {
     "name": "stderr",
     "output_type": "stream",
     "text": [
      "Iteration:  26%|██▋       | 265/1001 [00:23<01:02, 11.82it/s]]\n",
      "Iteration:  33%|███▎      | 333/1001 [00:29<00:56, 11.77it/s]\n",
      "Iteration:  21%|██        | 209/1001 [00:17<01:12, 10.96it/s]"
     ]
    },
    {
     "name": "stdout",
     "output_type": "stream",
     "text": [
      "{'Train':  best_epoch_indx:37\n",
      " auc:0.9644126594963773 \n",
      " apur:0.810831318815643 \n",
      " f1:0.6235391620959706 \n",
      " precision:0.46721929163526754 \n",
      " recall:0.9370539337792829 \n",
      ", 'Validation':  best_epoch_indx:37\n",
      " auc:0.9333765534358268 \n",
      " apur:0.7215017682819906 \n",
      " f1:0.576085148844171 \n",
      " precision:0.4299900695134062 \n",
      " recall:0.872544080604534 \n",
      "}\n",
      "=====Epoch 38\n",
      "Training...\n"
     ]
    },
    {
     "name": "stderr",
     "output_type": "stream",
     "text": [
      "Iteration: 100%|██████████| 1001/1001 [01:35<00:00, 10.46it/s]\n",
      "Iteration:  68%|██████▊   | 684/1001 [01:00<00:24, 12.73it/s]"
     ]
    },
    {
     "name": "stdout",
     "output_type": "stream",
     "text": [
      "Evaluating...\n"
     ]
    },
    {
     "name": "stderr",
     "output_type": "stream",
     "text": [
      "Iteration: 100%|██████████| 1001/1001 [01:23<00:00, 12.01it/s]\n",
      "Iteration:  18%|█▊        | 185/1001 [00:08<00:38, 21.38it/s]"
     ]
    },
    {
     "name": "stdout",
     "output_type": "stream",
     "text": [
      "Evaluating...\n"
     ]
    },
    {
     "name": "stderr",
     "output_type": "stream",
     "text": [
      "Iteration: 100%|██████████| 1001/1001 [01:28<00:00, 11.35it/s]\n",
      "Iteration:  32%|███▏      | 325/1001 [00:15<00:32, 21.10it/s]"
     ]
    },
    {
     "name": "stdout",
     "output_type": "stream",
     "text": [
      "Evaluating...\n"
     ]
    },
    {
     "name": "stderr",
     "output_type": "stream",
     "text": [
      "Iteration: 100%|██████████| 1001/1001 [01:29<00:00, 11.21it/s]\n",
      "Iteration:  82%|████████▏ | 821/1001 [01:12<00:14, 12.39it/s]"
     ]
    },
    {
     "name": "stdout",
     "output_type": "stream",
     "text": [
      "Evaluating...\n"
     ]
    },
    {
     "name": "stderr",
     "output_type": "stream",
     "text": [
      "Iteration:  75%|███████▍  | 747/1001 [00:36<00:12, 20.30it/s]]"
     ]
    },
    {
     "name": "stdout",
     "output_type": "stream",
     "text": [
      "Evaluating...\n"
     ]
    },
    {
     "name": "stderr",
     "output_type": "stream",
     "text": [
      "Iteration: 100%|██████████| 1001/1001 [01:28<00:00, 11.32it/s]\n",
      "Iteration:  89%|████████▊ | 886/1001 [00:45<00:05, 19.40it/s]]\n",
      "Iteration:  26%|██▌       | 259/1001 [00:14<00:41, 17.96it/s]]\n",
      "Iteration:   0%|          | 1/1001 [00:00<02:01,  8.26it/s]s]"
     ]
    },
    {
     "name": "stdout",
     "output_type": "stream",
     "text": [
      "{'Train':  best_epoch_indx:38\n",
      " auc:0.96666437869013 \n",
      " apur:0.8202122643820671 \n",
      " f1:0.6489632877889658 \n",
      " precision:0.49840236420095707 \n",
      " recall:0.9298628603414497 \n",
      ", 'Validation':  best_epoch_indx:38\n",
      " auc:0.9395581238092651 \n",
      " apur:0.7386566965358337 \n",
      " f1:0.6073657378922388 \n",
      " precision:0.4664506547860132 \n",
      " recall:0.8702770780856424 \n",
      "}\n",
      "=====Epoch 39\n",
      "Training...\n"
     ]
    },
    {
     "name": "stderr",
     "output_type": "stream",
     "text": [
      "Iteration:  67%|██████▋   | 674/1001 [00:33<00:16, 19.76it/s]\n",
      "Iteration:   9%|▉         | 91/1001 [00:07<01:16, 11.94it/s]]]\n",
      "Iteration:  42%|████▏     | 417/1001 [00:22<00:30, 19.37it/s]"
     ]
    },
    {
     "name": "stdout",
     "output_type": "stream",
     "text": [
      "{'Train':  best_epoch_indx:38\n",
      " auc:0.969010209528399 \n",
      " apur:0.8312229083406897 \n",
      " f1:0.6407606527479626 \n",
      " precision:0.4849674330328258 \n",
      " recall:0.9440230624982507 \n",
      ", 'Validation':  best_epoch_indx:38\n",
      " auc:0.9410617230892291 \n",
      " apur:0.749121606522898 \n",
      " f1:0.5975237449118046 \n",
      " precision:0.4503963180772181 \n",
      " recall:0.8874055415617128 \n",
      "}\n",
      "=====Epoch 39\n",
      "Training...\n"
     ]
    },
    {
     "name": "stderr",
     "output_type": "stream",
     "text": [
      "Iteration:   1%|▏         | 13/1001 [00:01<01:23, 11.85it/s]]\n",
      "Iteration:  87%|████████▋ | 870/1001 [00:45<00:07, 17.11it/s]\n",
      "Iteration:  17%|█▋        | 175/1001 [00:14<01:09, 11.85it/s]"
     ]
    },
    {
     "name": "stdout",
     "output_type": "stream",
     "text": [
      "{'Train':  best_epoch_indx:38\n",
      " auc:0.9732000425579652 \n",
      " apur:0.8472007369747401 \n",
      " f1:0.6912918898716831 \n",
      " precision:0.5494512748576615 \n",
      " recall:0.9318480785916202 \n",
      ", 'Validation':  best_epoch_indx:38\n",
      " auc:0.9424311663367659 \n",
      " apur:0.7529730793128075 \n",
      " f1:0.6272836872855421 \n",
      " precision:0.4964039336562454 \n",
      " recall:0.851889168765743 \n",
      "}\n",
      "=====Epoch 39\n",
      "Training...\n"
     ]
    },
    {
     "name": "stderr",
     "output_type": "stream",
     "text": [
      "Iteration:  75%|███████▌  | 754/1001 [00:39<00:11, 20.59it/s]]\n",
      "Iteration:  36%|███▋      | 363/1001 [00:30<00:53, 11.82it/s]\n",
      "Iteration:   0%|          | 0/1001 [00:00<?, ?it/s]"
     ]
    },
    {
     "name": "stdout",
     "output_type": "stream",
     "text": [
      "{'Train':  best_epoch_indx:38\n",
      " auc:0.972466585332336 \n",
      " apur:0.8451455810849515 \n",
      " f1:0.6758012076172782 \n",
      " precision:0.5285978296924608 \n",
      " recall:0.9366341067480198 \n",
      ", 'Validation':  best_epoch_indx:38\n",
      " auc:0.9412669707188163 \n",
      " apur:0.7549941635181232 \n",
      " f1:0.6248636859323882 \n",
      " precision:0.4887688370770543 \n",
      " recall:0.8659949622166246 \n",
      "}\n",
      "=====Epoch 39\n",
      "Training...\n"
     ]
    },
    {
     "name": "stderr",
     "output_type": "stream",
     "text": [
      "Iteration:   9%|▉         | 95/1001 [00:09<01:31,  9.94it/s]]]\n",
      "Iteration:  55%|█████▍    | 547/1001 [00:45<00:38, 11.88it/s]\n",
      "Iteration:  15%|█▌        | 154/1001 [00:15<01:24, 10.05it/s]"
     ]
    },
    {
     "name": "stdout",
     "output_type": "stream",
     "text": [
      "{'Train':  best_epoch_indx:38\n",
      " auc:0.9711153041373286 \n",
      " apur:0.8400131991785618 \n",
      " f1:0.6735117510657472 \n",
      " precision:0.5276543758329632 \n",
      " recall:0.9308125052478379 \n",
      ", 'Validation':  best_epoch_indx:38\n",
      " auc:0.938010368710303 \n",
      " apur:0.7468493101135163 \n",
      " f1:0.6138524219103667 \n",
      " precision:0.4791519434628975 \n",
      " recall:0.853904282115869 \n",
      "}\n",
      "=====Epoch 39\n",
      "Training...\n"
     ]
    },
    {
     "name": "stderr",
     "output_type": "stream",
     "text": [
      "Iteration: 100%|██████████| 1001/1001 [01:25<00:00, 11.74it/s]\n",
      "Iteration:  57%|█████▋    | 571/1001 [00:54<00:38, 11.24it/s]"
     ]
    },
    {
     "name": "stdout",
     "output_type": "stream",
     "text": [
      "Evaluating...\n"
     ]
    },
    {
     "name": "stderr",
     "output_type": "stream",
     "text": [
      "Iteration: 100%|██████████| 1001/1001 [01:28<00:00, 11.30it/s]\n",
      "Iteration:  24%|██▍       | 241/1001 [00:11<00:34, 22.18it/s]"
     ]
    },
    {
     "name": "stdout",
     "output_type": "stream",
     "text": [
      "Evaluating...\n"
     ]
    },
    {
     "name": "stderr",
     "output_type": "stream",
     "text": [
      "Iteration: 100%|██████████| 1001/1001 [01:32<00:00, 10.82it/s]\n",
      "Iteration:  21%|██▏       | 214/1001 [00:10<00:39, 19.76it/s]"
     ]
    },
    {
     "name": "stdout",
     "output_type": "stream",
     "text": [
      "Evaluating...\n"
     ]
    },
    {
     "name": "stderr",
     "output_type": "stream",
     "text": [
      "Iteration: 100%|██████████| 1001/1001 [01:34<00:00, 10.55it/s]\n",
      "Iteration:   0%|          | 2/1001 [00:00<01:01, 16.22it/s]s]"
     ]
    },
    {
     "name": "stdout",
     "output_type": "stream",
     "text": [
      "Evaluating...\n"
     ]
    },
    {
     "name": "stderr",
     "output_type": "stream",
     "text": [
      "Iteration: 100%|██████████| 1001/1001 [01:21<00:00, 12.27it/s]\n",
      "Iteration:  89%|████████▉ | 892/1001 [00:42<00:05, 21.53it/s]"
     ]
    },
    {
     "name": "stdout",
     "output_type": "stream",
     "text": [
      "Evaluating...\n"
     ]
    },
    {
     "name": "stderr",
     "output_type": "stream",
     "text": [
      "Iteration:  76%|███████▋  | 765/1001 [00:38<00:12, 19.58it/s]]\n",
      "Iteration:  65%|██████▌   | 651/1001 [00:33<00:20, 16.78it/s]\n",
      "Iteration:  32%|███▏      | 323/1001 [00:15<00:33, 20.06it/s]"
     ]
    },
    {
     "name": "stdout",
     "output_type": "stream",
     "text": [
      "{'Train':  best_epoch_indx:39\n",
      " auc:0.971512481498261 \n",
      " apur:0.8409133113668622 \n",
      " f1:0.6788009876140143 \n",
      " precision:0.5341018560143858 \n",
      " recall:0.9310383431290232 \n",
      ", 'Validation':  best_epoch_indx:39\n",
      " auc:0.9433875300332855 \n",
      " apur:0.7528091176629677 \n",
      " f1:0.6290812103375333 \n",
      " precision:0.4954367666232073 \n",
      " recall:0.8614609571788413 \n",
      "}\n",
      "=====Epoch 40\n",
      "Training...\n"
     ]
    },
    {
     "name": "stderr",
     "output_type": "stream",
     "text": [
      "Iteration:  83%|████████▎ | 828/1001 [00:42<00:08, 19.99it/s]]\n",
      "Iteration:  17%|█▋        | 166/1001 [00:14<01:09, 11.98it/s]\n",
      "Iteration:  94%|█████████▍| 943/1001 [00:48<00:02, 20.49it/s]"
     ]
    },
    {
     "name": "stdout",
     "output_type": "stream",
     "text": [
      "{'Train':  best_epoch_indx:39\n",
      " auc:0.9731790290890776 \n",
      " apur:0.8488272779347623 \n",
      " f1:0.6698857426726279 \n",
      " precision:0.5192772754578642 \n",
      " recall:0.9435472585294858 \n",
      ", 'Validation':  best_epoch_indx:39\n",
      " auc:0.9437073822203637 \n",
      " apur:0.7604733565495114 \n",
      " f1:0.6211567596470903 \n",
      " precision:0.48062336229485586 \n",
      " recall:0.8778337531486146 \n",
      "}\n",
      "=====Epoch 40\n",
      "Training...\n"
     ]
    },
    {
     "name": "stderr",
     "output_type": "stream",
     "text": [
      "Iteration:  70%|███████   | 705/1001 [00:33<00:14, 21.05it/s]]\n",
      "Iteration:  30%|██▉       | 300/1001 [00:25<00:58, 11.92it/s]\n",
      "Iteration:  13%|█▎        | 130/1001 [00:11<01:13, 11.89it/s]"
     ]
    },
    {
     "name": "stdout",
     "output_type": "stream",
     "text": [
      "{'Train':  best_epoch_indx:39\n",
      " auc:0.9768404835235712 \n",
      " apur:0.864830207029389 \n",
      " f1:0.6938549547887064 \n",
      " precision:0.5474576545386892 \n",
      " recall:0.9471297825295978 \n",
      ", 'Validation':  best_epoch_indx:39\n",
      " auc:0.9453675733002453 \n",
      " apur:0.7640775998652823 \n",
      " f1:0.6297584187408493 \n",
      " precision:0.4945386605346364 \n",
      " recall:0.8667506297229219 \n",
      "}\n",
      "=====Epoch 40\n",
      "Training...\n"
     ]
    },
    {
     "name": "stderr",
     "output_type": "stream",
     "text": [
      "Iteration:  12%|█▏        | 117/1001 [00:10<01:28,  9.95it/s]]\n",
      "Iteration:   3%|▎         | 3/112 [00:00<00:05, 21.35it/s]/s]\n",
      "Iteration:  17%|█▋        | 172/1001 [00:16<01:24,  9.83it/s]\n",
      "Iteration:  32%|███▏      | 322/1001 [00:27<00:59, 11.48it/s]"
     ]
    },
    {
     "name": "stdout",
     "output_type": "stream",
     "text": [
      "{'Train':  best_epoch_indx:39\n",
      " auc:0.9748414919732088 \n",
      " apur:0.857565275557463 \n",
      " f1:0.6750948671859397 \n",
      " precision:0.5247861390135226 \n",
      " recall:0.9460662207170646 \n",
      ", 'Validation':  best_epoch_indx:39\n",
      " auc:0.9415720114421986 \n",
      " apur:0.7596663989199355 \n",
      " f1:0.6169794459338694 \n",
      " precision:0.4781163434903047 \n",
      " recall:0.8695214105793451 \n",
      "}\n",
      "=====Epoch 40\n",
      "Training...\n"
     ]
    },
    {
     "name": "stderr",
     "output_type": "stream",
     "text": [
      "Iteration:  18%|█▊        | 177/1001 [00:16<01:22,  9.94it/s]"
     ]
    },
    {
     "name": "stdout",
     "output_type": "stream",
     "text": [
      "{'Train':  best_epoch_indx:39\n",
      " auc:0.9759321144345157 \n",
      " apur:0.860172719798326 \n",
      " f1:0.680681624424541 \n",
      " precision:0.530418607559321 \n",
      " recall:0.9497327101234292 \n",
      ", 'Validation':  best_epoch_indx:39\n",
      " auc:0.9431148422437686 \n",
      " apur:0.7638220706110462 \n",
      " f1:0.6238069511975509 \n",
      " precision:0.4854260089686099 \n",
      " recall:0.872544080604534 \n",
      "}\n",
      "=====Epoch 40\n",
      "Training...\n"
     ]
    },
    {
     "name": "stderr",
     "output_type": "stream",
     "text": [
      "\n",
      "Iteration: 100%|██████████| 1001/1001 [01:24<00:00, 11.79it/s]\n",
      "Iteration:  80%|███████▉  | 799/1001 [01:10<00:20, 10.02it/s]"
     ]
    },
    {
     "name": "stdout",
     "output_type": "stream",
     "text": [
      "Evaluating...\n"
     ]
    },
    {
     "name": "stderr",
     "output_type": "stream",
     "text": [
      "Iteration: 100%|██████████| 1001/1001 [01:29<00:00, 11.18it/s]\n",
      "Iteration:  67%|██████▋   | 666/1001 [01:02<00:33, 10.13it/s]"
     ]
    },
    {
     "name": "stdout",
     "output_type": "stream",
     "text": [
      "Evaluating...\n"
     ]
    },
    {
     "name": "stderr",
     "output_type": "stream",
     "text": [
      "Iteration: 100%|██████████| 1001/1001 [01:36<00:00, 10.37it/s]\n",
      "Iteration:  37%|███▋      | 375/1001 [00:18<00:30, 20.54it/s]"
     ]
    },
    {
     "name": "stdout",
     "output_type": "stream",
     "text": [
      "Evaluating...\n"
     ]
    },
    {
     "name": "stderr",
     "output_type": "stream",
     "text": [
      "Iteration:  29%|██▉       | 294/1001 [00:14<00:35, 20.20it/s]]\n",
      "Iteration: 100%|██████████| 1001/1001 [01:34<00:00, 10.55it/s]\n",
      "Iteration: 100%|██████████| 1001/1001 [01:35<00:00, 10.48it/s]\n",
      "Iteration:   0%|          | 0/1001 [00:00<?, ?it/s]"
     ]
    },
    {
     "name": "stdout",
     "output_type": "stream",
     "text": [
      "Evaluating...\n",
      "Evaluating...\n"
     ]
    },
    {
     "name": "stderr",
     "output_type": "stream",
     "text": [
      "Iteration:  41%|████      | 409/1001 [00:20<00:29, 20.38it/s]\n",
      "Iteration:   0%|          | 0/1001 [00:00<?, ?it/s]"
     ]
    },
    {
     "name": "stdout",
     "output_type": "stream",
     "text": [
      "{'Train':  best_epoch_indx:40\n",
      " auc:0.9713080397733562 \n",
      " apur:0.8401401872080378 \n",
      " f1:0.6765485243205376 \n",
      " precision:0.5308362674653878 \n",
      " recall:0.9325216904561993 \n",
      ", 'Validation':  best_epoch_indx:40\n",
      " auc:0.9425486551868109 \n",
      " apur:0.750831382006425 \n",
      " f1:0.6240539801221847 \n",
      " precision:0.4890667428898099 \n",
      " recall:0.8619647355163728 \n",
      "}\n",
      "=====Epoch 41\n",
      "Training...\n"
     ]
    },
    {
     "name": "stderr",
     "output_type": "stream",
     "text": [
      "Iteration:  36%|███▋      | 364/1001 [00:18<00:32, 19.78it/s]]\n",
      "Iteration:  48%|████▊     | 479/1001 [00:23<00:25, 20.15it/s]\n",
      "Iteration:  48%|████▊     | 477/1001 [00:24<00:26, 19.91it/s]"
     ]
    },
    {
     "name": "stdout",
     "output_type": "stream",
     "text": [
      "{'Train':  best_epoch_indx:40\n",
      " auc:0.9718567350584288 \n",
      " apur:0.8398096409576206 \n",
      " f1:0.664564819011212 \n",
      " precision:0.5127947817360763 \n",
      " recall:0.9439390970919981 \n",
      ", 'Validation':  best_epoch_indx:40\n",
      " auc:0.9411451575728024 \n",
      " apur:0.7490313453547898 \n",
      " f1:0.6147286133072755 \n",
      " precision:0.474818169342665 \n",
      " recall:0.871536523929471 \n",
      "}\n",
      "=====Epoch 41\n",
      "Training...\n"
     ]
    },
    {
     "name": "stderr",
     "output_type": "stream",
     "text": [
      "Iteration:  71%|███████   | 712/1001 [00:35<00:14, 19.27it/s]]\n",
      "Iteration:  21%|██        | 209/1001 [00:17<01:09, 11.44it/s]\n",
      "Iteration:  21%|██        | 211/1001 [00:17<01:09, 11.30it/s]"
     ]
    },
    {
     "name": "stdout",
     "output_type": "stream",
     "text": [
      "{'Train':  best_epoch_indx:40\n",
      " auc:0.9758735646300899 \n",
      " apur:0.8583316310781408 \n",
      " f1:0.6872656519183608 \n",
      " precision:0.5386741648000762 \n",
      " recall:0.9490609868734081 \n",
      ", 'Validation':  best_epoch_indx:40\n",
      " auc:0.9442743835649666 \n",
      " apur:0.7552228578601934 \n",
      " f1:0.6251132451531074 \n",
      " precision:0.48811544991511036 \n",
      " recall:0.8690176322418136 \n",
      "}\n",
      "=====Epoch 41\n",
      "Training...\n"
     ]
    },
    {
     "name": "stderr",
     "output_type": "stream",
     "text": [
      "Iteration:  35%|███▍      | 347/1001 [00:28<00:52, 12.57it/s]]\n",
      "Iteration:   2%|▏         | 2/112 [00:00<00:05, 19.78it/s]/s]\n",
      "Iteration:  91%|█████████ | 102/112 [00:05<00:00, 17.54it/s]]\n",
      "Iteration:   0%|          | 1/1001 [00:00<01:54,  8.76it/s]s]"
     ]
    },
    {
     "name": "stdout",
     "output_type": "stream",
     "text": [
      "{'Train':  best_epoch_indx:40\n",
      " auc:0.9753054690019393 \n",
      " apur:0.856179373874731 \n",
      " f1:0.6937270135129552 \n",
      " precision:0.5498059508408797 \n",
      " recall:0.939712838310616 \n",
      ", 'Validation':  best_epoch_indx:40\n",
      " auc:0.9416885702900382 \n",
      " apur:0.7569228675396332 \n",
      " f1:0.6355576294913672 \n",
      " precision:0.5048183839881394 \n",
      " recall:0.8576826196473551 \n",
      "}\n",
      "=====Epoch 41\n",
      "Training...\n"
     ]
    },
    {
     "name": "stderr",
     "output_type": "stream",
     "text": [
      "Iteration:  21%|██        | 211/1001 [00:17<01:05, 12.12it/s]\n",
      "Iteration:  63%|██████▎   | 626/1001 [00:54<00:33, 11.16it/s]"
     ]
    },
    {
     "name": "stdout",
     "output_type": "stream",
     "text": [
      "{'Train':  best_epoch_indx:40\n",
      " auc:0.975202001809227 \n",
      " apur:0.8574524559659906 \n",
      " f1:0.6844038559107052 \n",
      " precision:0.5368268572611069 \n",
      " recall:0.9438831201544964 \n",
      ", 'Validation':  best_epoch_indx:40\n",
      " auc:0.9410394587507166 \n",
      " apur:0.7553087991915737 \n",
      " f1:0.6220893358702546 \n",
      " precision:0.48577897268996745 \n",
      " recall:0.864735516372796 \n",
      "}\n",
      "=====Epoch 41\n",
      "Training...\n"
     ]
    },
    {
     "name": "stderr",
     "output_type": "stream",
     "text": [
      "Iteration: 100%|██████████| 1001/1001 [01:30<00:00, 11.03it/s]\n",
      "Iteration:  62%|██████▏   | 619/1001 [00:53<00:36, 10.43it/s]"
     ]
    },
    {
     "name": "stdout",
     "output_type": "stream",
     "text": [
      "Evaluating...\n"
     ]
    },
    {
     "name": "stderr",
     "output_type": "stream",
     "text": [
      "Iteration: 100%|██████████| 1001/1001 [01:28<00:00, 11.32it/s]\n",
      "Iteration:  36%|███▌      | 362/1001 [00:17<00:30, 21.11it/s]"
     ]
    },
    {
     "name": "stdout",
     "output_type": "stream",
     "text": [
      "Evaluating...\n"
     ]
    },
    {
     "name": "stderr",
     "output_type": "stream",
     "text": [
      "Iteration: 100%|██████████| 1001/1001 [01:25<00:00, 11.66it/s]\n",
      "Iteration:   0%|          | 2/1001 [00:00<01:09, 14.28it/s]s]"
     ]
    },
    {
     "name": "stdout",
     "output_type": "stream",
     "text": [
      "Evaluating...\n"
     ]
    },
    {
     "name": "stderr",
     "output_type": "stream",
     "text": [
      "Iteration: 100%|█████████▉| 1000/1001 [01:28<00:00, 10.16it/s]\n",
      "Iteration: 100%|██████████| 1001/1001 [01:28<00:00, 11.25it/s]\n",
      "Iteration:  41%|████▏     | 413/1001 [00:20<00:29, 19.98it/s]"
     ]
    },
    {
     "name": "stdout",
     "output_type": "stream",
     "text": [
      "Evaluating...\n"
     ]
    },
    {
     "name": "stderr",
     "output_type": "stream",
     "text": [
      "Iteration:  51%|█████     | 57/112 [00:02<00:02, 21.03it/s]/s]\n",
      "Iteration:  54%|█████▎    | 60/112 [00:02<00:02, 20.64it/s]]]"
     ]
    },
    {
     "name": "stdout",
     "output_type": "stream",
     "text": [
      "Evaluating...\n"
     ]
    },
    {
     "name": "stderr",
     "output_type": "stream",
     "text": [
      "Iteration:  52%|█████▏    | 522/1001 [00:25<00:23, 20.42it/s]\n",
      "Iteration:  52%|█████▏    | 525/1001 [00:25<00:23, 20.43it/s]"
     ]
    },
    {
     "name": "stdout",
     "output_type": "stream",
     "text": [
      "{'Train':  best_epoch_indx:41\n",
      " auc:0.9678024619345007 \n",
      " apur:0.8243098321353419 \n",
      " f1:0.6557493489069529 \n",
      " precision:0.506353027209848 \n",
      " recall:0.9301987125664708 \n",
      ", 'Validation':  best_epoch_indx:41\n",
      " auc:0.9386695688449777 \n",
      " apur:0.7378492600531478 \n",
      " f1:0.609490022172949 \n",
      " precision:0.470362765229295 \n",
      " recall:0.8654911838790932 \n",
      "}\n",
      "=====Epoch 42\n",
      "Training...\n"
     ]
    },
    {
     "name": "stderr",
     "output_type": "stream",
     "text": [
      "Iteration:  78%|███████▊  | 777/1001 [00:38<00:10, 20.74it/s]]\n",
      "Iteration:  48%|████▊     | 478/1001 [00:24<00:26, 19.76it/s]\n",
      "Iteration:  43%|████▎     | 432/1001 [00:21<00:27, 20.57it/s]"
     ]
    },
    {
     "name": "stdout",
     "output_type": "stream",
     "text": [
      "{'Train':  best_epoch_indx:41\n",
      " auc:0.9704489603202416 \n",
      " apur:0.8352360358802049 \n",
      " f1:0.6526010723083612 \n",
      " precision:0.4982887321865872 \n",
      " recall:0.9453665089982927 \n",
      ", 'Validation':  best_epoch_indx:41\n",
      " auc:0.9408907569695093 \n",
      " apur:0.7460730279588699 \n",
      " f1:0.6041233541233542 \n",
      " precision:0.46039081066807497 \n",
      " recall:0.8783375314861461 \n",
      "}\n",
      "=====Epoch 42\n",
      "Training...\n"
     ]
    },
    {
     "name": "stderr",
     "output_type": "stream",
     "text": [
      "Iteration:  29%|██▊       | 287/1001 [00:27<01:11,  9.96it/s]]\n",
      "Iteration:  16%|█▌        | 159/1001 [00:14<01:17, 10.89it/s]"
     ]
    },
    {
     "name": "stdout",
     "output_type": "stream",
     "text": [
      "{'Train':  best_epoch_indx:41\n",
      " auc:0.9741997426068325 \n",
      " apur:0.8520203797317252 \n",
      " f1:0.6713960621351539 \n",
      " precision:0.5192604949419201 \n",
      " recall:0.9496207562484257 \n",
      ", 'Validation':  best_epoch_indx:41\n",
      " auc:0.9424048091314045 \n",
      " apur:0.7537943937942806 \n",
      " f1:0.6115877930119417 \n",
      " precision:0.4713019768234492 \n",
      " recall:0.8707808564231738 \n",
      "}\n",
      "=====Epoch 42\n",
      "Training...\n"
     ]
    },
    {
     "name": "stderr",
     "output_type": "stream",
     "text": [
      "\n",
      "Iteration: 100%|█████████▉| 997/1001 [00:51<00:00, 20.07it/s]]\n",
      "Iteration:  18%|█▊        | 185/1001 [00:17<01:23,  9.78it/s]]\n",
      "Iteration:  57%|█████▋    | 566/1001 [00:53<00:36, 11.84it/s]\n",
      "Iteration:  57%|█████▋    | 568/1001 [00:54<00:36, 11.84it/s]"
     ]
    },
    {
     "name": "stdout",
     "output_type": "stream",
     "text": [
      "{'Train':  best_epoch_indx:41\n",
      " auc:0.9753818898851544 \n",
      " apur:0.8589615197013407 \n",
      " f1:0.664901281202539 \n",
      " precision:0.5097705524952603 \n",
      " recall:0.9557502309048672 \n",
      ", 'Validation':  best_epoch_indx:41\n",
      " auc:0.9413651352373208 \n",
      " apur:0.759226693120823 \n",
      " f1:0.6101133391455973 \n",
      " precision:0.46653333333333336 \n",
      " recall:0.881360201511335 \n",
      "}\n",
      "=====Epoch 42\n",
      "Training...\n"
     ]
    },
    {
     "name": "stderr",
     "output_type": "stream",
     "text": [
      "Iteration:  60%|█████▉    | 598/1001 [00:56<00:34, 11.82it/s]\n",
      "Iteration:  43%|████▎     | 427/1001 [00:38<00:48, 11.78it/s]"
     ]
    },
    {
     "name": "stdout",
     "output_type": "stream",
     "text": [
      "{'Train':  best_epoch_indx:41\n",
      " auc:0.971441332828341 \n",
      " apur:0.8423801778876538 \n",
      " f1:0.6530399133663366 \n",
      " precision:0.4988551591698058 \n",
      " recall:0.9451705897170366 \n",
      ", 'Validation':  best_epoch_indx:41\n",
      " auc:0.9375284732818081 \n",
      " apur:0.7448425765122256 \n",
      " f1:0.5948038540949759 \n",
      " precision:0.45165926313038934 \n",
      " recall:0.8707808564231738 \n",
      "}\n",
      "=====Epoch 42\n",
      "Training...\n"
     ]
    },
    {
     "name": "stderr",
     "output_type": "stream",
     "text": [
      "Iteration: 100%|██████████| 1001/1001 [01:33<00:00, 10.67it/s]\n",
      "Iteration:   0%|          | 2/1001 [00:00<01:04, 15.40it/s]s]"
     ]
    },
    {
     "name": "stdout",
     "output_type": "stream",
     "text": [
      "Evaluating...\n"
     ]
    },
    {
     "name": "stderr",
     "output_type": "stream",
     "text": [
      "Iteration: 100%|██████████| 1001/1001 [01:26<00:00, 11.61it/s]\n",
      "Iteration:  23%|██▎       | 230/1001 [00:11<00:37, 20.58it/s]"
     ]
    },
    {
     "name": "stdout",
     "output_type": "stream",
     "text": [
      "Evaluating...\n"
     ]
    },
    {
     "name": "stderr",
     "output_type": "stream",
     "text": [
      "Iteration: 100%|██████████| 1001/1001 [01:38<00:00, 10.20it/s]\n",
      "Iteration:  82%|████████▏ | 825/1001 [01:15<00:14, 11.97it/s]"
     ]
    },
    {
     "name": "stdout",
     "output_type": "stream",
     "text": [
      "Evaluating...\n"
     ]
    },
    {
     "name": "stderr",
     "output_type": "stream",
     "text": [
      "Iteration: 100%|██████████| 1001/1001 [01:26<00:00, 11.60it/s]\n",
      "Iteration:  74%|███████▍  | 740/1001 [00:35<00:12, 21.11it/s]"
     ]
    },
    {
     "name": "stdout",
     "output_type": "stream",
     "text": [
      "Evaluating...\n"
     ]
    },
    {
     "name": "stderr",
     "output_type": "stream",
     "text": [
      "Iteration:   8%|▊         | 84/1001 [00:04<00:45, 20.33it/s]]]\n",
      "Iteration: 100%|██████████| 1001/1001 [01:30<00:00, 11.11it/s]\n",
      "Iteration:   0%|          | 2/1001 [00:00<00:59, 16.82it/s]s]"
     ]
    },
    {
     "name": "stdout",
     "output_type": "stream",
     "text": [
      "Evaluating...\n"
     ]
    },
    {
     "name": "stderr",
     "output_type": "stream",
     "text": [
      "Iteration:  20%|█▉        | 197/1001 [00:09<00:39, 20.20it/s]\n",
      "Iteration:  94%|█████████▍| 940/1001 [00:45<00:02, 20.55it/s]"
     ]
    },
    {
     "name": "stdout",
     "output_type": "stream",
     "text": [
      "{'Train':  best_epoch_indx:42\n",
      " auc:0.9643773752393068 \n",
      " apur:0.8121367428839883 \n",
      " f1:0.6263299865128128 \n",
      " precision:0.4706776654748163 \n",
      " recall:0.935796249650154 \n",
      ", 'Validation':  best_epoch_indx:42\n",
      " auc:0.9359925767823964 \n",
      " apur:0.7258132016817398 \n",
      " f1:0.5891172506738545 \n",
      " precision:0.4425461908377626 \n",
      " recall:0.8808564231738035 \n",
      "}\n",
      "=====Epoch 43\n",
      "Training...\n"
     ]
    },
    {
     "name": "stderr",
     "output_type": "stream",
     "text": [
      "Iteration:  18%|█▊        | 180/1001 [00:09<00:40, 20.21it/s]]\n",
      "Iteration:  13%|█▎        | 129/1001 [00:11<01:15, 11.59it/s]\n",
      "Iteration:  29%|██▉       | 293/1001 [00:14<00:35, 20.19it/s]"
     ]
    },
    {
     "name": "stdout",
     "output_type": "stream",
     "text": [
      "{'Train':  best_epoch_indx:42\n",
      " auc:0.9688958955549756 \n",
      " apur:0.8285947997056866 \n",
      " f1:0.6504749192347126 \n",
      " precision:0.49699218114903115 \n",
      " recall:0.9411122617481598 \n",
      ", 'Validation':  best_epoch_indx:42\n",
      " auc:0.9390507583203699 \n",
      " apur:0.737318240499175 \n",
      " f1:0.6033868866695614 \n",
      " precision:0.46043737574552684 \n",
      " recall:0.8750629722921914 \n",
      "}\n",
      "=====Epoch 43\n",
      "Training...\n"
     ]
    },
    {
     "name": "stderr",
     "output_type": "stream",
     "text": [
      "Iteration:  77%|███████▋  | 767/1001 [00:38<00:11, 20.62it/s]]\n",
      "Iteration: 100%|██████████| 1001/1001 [00:50<00:00, 19.99it/s]"
     ]
    },
    {
     "name": "stdout",
     "output_type": "stream",
     "text": [
      "{'Train':  best_epoch_indx:42\n",
      " auc:0.972136424446788 \n",
      " apur:0.842125879315329 \n",
      " f1:0.6905187835420393 \n",
      " precision:0.5494298151243814 \n",
      " recall:0.9291052086540346 \n",
      ", 'Validation':  best_epoch_indx:42\n",
      " auc:0.9406299063509207 \n",
      " apur:0.73876578174049 \n",
      " f1:0.6292759803467137 \n",
      " precision:0.49787296464720554 \n",
      " recall:0.854911838790932 \n",
      "}\n",
      "=====Epoch 43\n",
      "Training...\n"
     ]
    },
    {
     "name": "stderr",
     "output_type": "stream",
     "text": [
      "\n",
      "Iteration:   3%|▎         | 27/1001 [00:02<01:19, 12.24it/s]]\n",
      "Iteration:  42%|████▏     | 421/1001 [00:37<00:49, 11.69it/s]]\n",
      "Iteration:   0%|          | 1/1001 [00:00<01:55,  8.68it/s]s]\n",
      "Iteration:   0%|          | 0/112 [00:00<?, ?it/s]"
     ]
    },
    {
     "name": "stdout",
     "output_type": "stream",
     "text": [
      "{'Train':  best_epoch_indx:42\n",
      " auc:0.9730244039307967 \n",
      " apur:0.8470379192294769 \n",
      " f1:0.6716139893018299 \n",
      " precision:0.5213572113451487 \n",
      " recall:0.9435472585294858 \n",
      ", 'Validation':  best_epoch_indx:42\n",
      " auc:0.9406894564921399 \n",
      " apur:0.7515097514201341 \n",
      " f1:0.6149456037096486 \n",
      " precision:0.47598012147984536 \n",
      " recall:0.8685138539042822 \n",
      "}\n",
      "=====Epoch 43\n",
      "Training...\n"
     ]
    },
    {
     "name": "stderr",
     "output_type": "stream",
     "text": [
      "Iteration:  16%|█▋        | 163/1001 [00:14<01:22, 10.14it/s]\n",
      "Iteration:  16%|█▋        | 165/1001 [00:14<01:21, 10.26it/s]"
     ]
    },
    {
     "name": "stdout",
     "output_type": "stream",
     "text": [
      "{'Train':  best_epoch_indx:42\n",
      " auc:0.9691151727432044 \n",
      " apur:0.8316421146784666 \n",
      " f1:0.6510512725931391 \n",
      " precision:0.4983726909301669 \n",
      " recall:0.938593299560581 \n",
      ", 'Validation':  best_epoch_indx:42\n",
      " auc:0.9361673271968045 \n",
      " apur:0.7357962903285713 \n",
      " f1:0.5992008339124393 \n",
      " precision:0.4573057544417926 \n",
      " recall:0.8687657430730479 \n",
      "}\n",
      "=====Epoch 43\n",
      "Training...\n"
     ]
    },
    {
     "name": "stderr",
     "output_type": "stream",
     "text": [
      "Iteration: 100%|██████████| 1001/1001 [01:28<00:00, 11.35it/s]\n",
      "Iteration:  38%|███▊      | 381/1001 [00:33<00:51, 12.02it/s]"
     ]
    },
    {
     "name": "stdout",
     "output_type": "stream",
     "text": [
      "Evaluating...\n"
     ]
    },
    {
     "name": "stderr",
     "output_type": "stream",
     "text": [
      "Iteration: 100%|██████████| 1001/1001 [01:29<00:00, 11.15it/s]\n"
     ]
    },
    {
     "name": "stdout",
     "output_type": "stream",
     "text": [
      "Evaluating...\n"
     ]
    },
    {
     "name": "stderr",
     "output_type": "stream",
     "text": [
      "Iteration: 100%|██████████| 1001/1001 [01:31<00:00, 10.90it/s]\n",
      "Iteration:   0%|          | 2/1001 [00:00<01:03, 15.68it/s]s]"
     ]
    },
    {
     "name": "stdout",
     "output_type": "stream",
     "text": [
      "Evaluating...\n"
     ]
    },
    {
     "name": "stderr",
     "output_type": "stream",
     "text": [
      "Iteration: 100%|██████████| 1001/1001 [01:25<00:00, 11.67it/s]\n",
      "Iteration:  91%|█████████ | 907/1001 [01:19<00:07, 11.83it/s]"
     ]
    },
    {
     "name": "stdout",
     "output_type": "stream",
     "text": [
      "Evaluating...\n"
     ]
    },
    {
     "name": "stderr",
     "output_type": "stream",
     "text": [
      "Iteration:  16%|█▌        | 156/1001 [00:07<00:39, 21.19it/s]]\n",
      "Iteration: 100%|██████████| 1001/1001 [01:27<00:00, 11.40it/s]\n",
      "Iteration:  51%|█████     | 57/112 [00:02<00:02, 21.03it/s]s]"
     ]
    },
    {
     "name": "stdout",
     "output_type": "stream",
     "text": [
      "Evaluating...\n"
     ]
    },
    {
     "name": "stderr",
     "output_type": "stream",
     "text": [
      "Iteration:  90%|████████▉ | 899/1001 [00:44<00:04, 20.58it/s]\n",
      "Iteration:   6%|▌         | 60/1001 [00:02<00:45, 20.81it/s]"
     ]
    },
    {
     "name": "stdout",
     "output_type": "stream",
     "text": [
      "{'Train':  best_epoch_indx:43\n",
      " auc:0.9618656575395939 \n",
      " apur:0.7963693660390061 \n",
      " f1:0.656613966145754 \n",
      " precision:0.5152427849755382 \n",
      " recall:0.9048978449482228 \n",
      ", 'Validation':  best_epoch_indx:43\n",
      " auc:0.9324317654810439 \n",
      " apur:0.7089184519215522 \n",
      " f1:0.6069242714899058 \n",
      " precision:0.476135875017916 \n",
      " recall:0.8367758186397984 \n",
      "}\n",
      "=====Epoch 44\n",
      "Training...\n"
     ]
    },
    {
     "name": "stderr",
     "output_type": "stream",
     "text": [
      "Iteration:  37%|███▋      | 375/1001 [00:18<00:30, 20.46it/s]]\n",
      "Iteration:  33%|███▎      | 329/1001 [00:16<00:33, 20.36it/s]\n",
      "Iteration:   0%|          | 1/1001 [00:00<01:55,  8.66it/s]s]"
     ]
    },
    {
     "name": "stdout",
     "output_type": "stream",
     "text": [
      "{'Train':  best_epoch_indx:43\n",
      " auc:0.9636294846674409 \n",
      " apur:0.8002628932237021 \n",
      " f1:0.6092963921230415 \n",
      " precision:0.44865909000701215 \n",
      " recall:0.9491169638109099 \n",
      ", 'Validation':  best_epoch_indx:43\n",
      " auc:0.9343212171046006 \n",
      " apur:0.7100095453023632 \n",
      " f1:0.5705763804917372 \n",
      " precision:0.419561351511559 \n",
      " recall:0.8914357682619647 \n",
      "}\n",
      "=====Epoch 44\n",
      "Training...\n"
     ]
    },
    {
     "name": "stderr",
     "output_type": "stream",
     "text": [
      "Iteration:  82%|████████▏ | 825/1001 [00:41<00:08, 20.26it/s]]\n",
      "Iteration:  46%|████▌     | 460/1001 [00:41<00:46, 11.71it/s]]\n",
      "Iteration:  94%|█████████▎| 937/1001 [00:46<00:03, 21.12it/s]\n",
      "Iteration:   0%|          | 1/1001 [00:00<01:52,  8.85it/s]s]"
     ]
    },
    {
     "name": "stdout",
     "output_type": "stream",
     "text": [
      "{'Train':  best_epoch_indx:43\n",
      " auc:0.96739439426274 \n",
      " apur:0.8240130551041669 \n",
      " f1:0.6674515376027605 \n",
      " precision:0.5235903886880782 \n",
      " recall:0.9203168294662599 \n",
      ", 'Validation':  best_epoch_indx:43\n",
      " auc:0.9364406878450597 \n",
      " apur:0.7304734899225693 \n",
      " f1:0.6073926073926075 \n",
      " precision:0.47493253799176255 \n",
      " recall:0.8423173803526448 \n",
      "}\n",
      "=====Epoch 44\n",
      "Training...\n"
     ]
    },
    {
     "name": "stderr",
     "output_type": "stream",
     "text": [
      "Iteration:   3%|▎         | 35/1001 [00:02<01:21, 11.92it/s]]\n",
      "Iteration:  38%|███▊      | 380/1001 [00:33<00:52, 11.73it/s]"
     ]
    },
    {
     "name": "stdout",
     "output_type": "stream",
     "text": [
      "{'Train':  best_epoch_indx:43\n",
      " auc:0.9666293687833194 \n",
      " apur:0.8152418171583541 \n",
      " f1:0.633415755478879 \n",
      " precision:0.47690913724268763 \n",
      " recall:0.9428195583419631 \n",
      ", 'Validation':  best_epoch_indx:43\n",
      " auc:0.9374893660462108 \n",
      " apur:0.7327326976939863 \n",
      " f1:0.5915373526668363 \n",
      " precision:0.44586475776556306 \n",
      " recall:0.8785894206549119 \n",
      "}\n",
      "=====Epoch 44\n",
      "Training...\n"
     ]
    },
    {
     "name": "stderr",
     "output_type": "stream",
     "text": [
      "Iteration:  56%|█████▌    | 556/1001 [00:49<00:36, 12.15it/s]]\n",
      "Iteration:  48%|████▊     | 478/1001 [00:41<00:42, 12.20it/s]\n",
      "Iteration:   9%|▉         | 94/1001 [00:08<01:20, 11.33it/s]]"
     ]
    },
    {
     "name": "stdout",
     "output_type": "stream",
     "text": [
      "{'Train':  best_epoch_indx:43\n",
      " auc:0.9647975972159218 \n",
      " apur:0.8156183563114994 \n",
      " f1:0.651204388266158 \n",
      " precision:0.5048456928031062 \n",
      " recall:0.9170701670911584 \n",
      ", 'Validation':  best_epoch_indx:43\n",
      " auc:0.9322816322678708 \n",
      " apur:0.7286378857674256 \n",
      " f1:0.5988408381631743 \n",
      " precision:0.4634920634920635 \n",
      " recall:0.8458438287153652 \n",
      "}\n",
      "=====Epoch 44\n",
      "Training...\n"
     ]
    },
    {
     "name": "stderr",
     "output_type": "stream",
     "text": [
      "Iteration: 100%|██████████| 1001/1001 [01:26<00:00, 11.57it/s]\n",
      "Iteration:  43%|████▎     | 434/1001 [00:39<00:57,  9.92it/s]"
     ]
    },
    {
     "name": "stdout",
     "output_type": "stream",
     "text": [
      "Evaluating...\n"
     ]
    },
    {
     "name": "stderr",
     "output_type": "stream",
     "text": [
      "Iteration: 100%|██████████| 1001/1001 [01:29<00:00, 11.20it/s]\n",
      "Iteration:  71%|███████   | 707/1001 [00:58<00:26, 11.19it/s]"
     ]
    },
    {
     "name": "stdout",
     "output_type": "stream",
     "text": [
      "Evaluating...\n"
     ]
    },
    {
     "name": "stderr",
     "output_type": "stream",
     "text": [
      "Iteration: 100%|██████████| 1001/1001 [01:23<00:00, 11.97it/s]\n",
      "Iteration:  85%|████████▌ | 853/1001 [01:12<00:12, 12.26it/s]"
     ]
    },
    {
     "name": "stdout",
     "output_type": "stream",
     "text": [
      "Evaluating...\n"
     ]
    },
    {
     "name": "stderr",
     "output_type": "stream",
     "text": [
      "Iteration: 100%|██████████| 1001/1001 [01:29<00:00, 11.18it/s]\n",
      "Iteration:  96%|█████████▌| 961/1001 [01:21<00:03, 11.95it/s]"
     ]
    },
    {
     "name": "stdout",
     "output_type": "stream",
     "text": [
      "Evaluating...\n"
     ]
    },
    {
     "name": "stderr",
     "output_type": "stream",
     "text": [
      "Iteration:  98%|█████████▊| 985/1001 [01:23<00:01, 12.21it/s]\n",
      "Iteration: 100%|██████████| 1001/1001 [01:24<00:00, 11.80it/s]\n",
      "Iteration:  77%|███████▋  | 767/1001 [00:37<00:11, 20.48it/s]"
     ]
    },
    {
     "name": "stdout",
     "output_type": "stream",
     "text": [
      "Evaluating...\n"
     ]
    },
    {
     "name": "stderr",
     "output_type": "stream",
     "text": [
      "Iteration:  34%|███▍      | 343/1001 [00:16<00:31, 20.86it/s]"
     ]
    },
    {
     "name": "stdout",
     "output_type": "stream",
     "text": [
      "{'Train':  best_epoch_indx:44\n",
      " auc:0.9432581371817799 \n",
      " apur:0.7226066981133316 \n",
      " f1:0.5871634083364072 \n",
      " precision:0.43784898913491954 \n",
      " recall:0.8910159529806885 \n",
      ", 'Validation':  best_epoch_indx:44\n",
      " auc:0.9208575108906686 \n",
      " apur:0.6601847458746959 \n",
      " f1:0.5623962827746432 \n",
      " precision:0.41932689928235584 \n",
      " recall:0.8536523929471033 \n",
      "}\n",
      "=====Epoch 45\n",
      "Training...\n"
     ]
    },
    {
     "name": "stderr",
     "output_type": "stream",
     "text": [
      "\n",
      "Iteration:  39%|███▉      | 391/1001 [00:19<00:30, 19.94it/s]]\n",
      "Iteration:  69%|██████▉   | 692/1001 [00:34<00:16, 18.94it/s]\n",
      "Iteration:  20%|██        | 203/1001 [00:17<01:07, 11.84it/s]"
     ]
    },
    {
     "name": "stdout",
     "output_type": "stream",
     "text": [
      "{'Train':  best_epoch_indx:44\n",
      " auc:0.9578308167691294 \n",
      " apur:0.788370892656796 \n",
      " f1:0.6132115052911287 \n",
      " precision:0.45976288342700555 \n",
      " recall:0.9204007948725125 \n",
      ", 'Validation':  best_epoch_indx:44\n",
      " auc:0.9325112185266041 \n",
      " apur:0.7166068450369378 \n",
      " f1:0.5790619765494137 \n",
      " precision:0.43375156838143036 \n",
      " recall:0.8707808564231738 \n",
      "}\n",
      "=====Epoch 45\n",
      "Training...\n"
     ]
    },
    {
     "name": "stderr",
     "output_type": "stream",
     "text": [
      "Iteration:  84%|████████▎ | 838/1001 [00:43<00:08, 20.32it/s]]\n",
      "Iteration:  49%|████▊     | 487/1001 [00:41<00:43, 11.89it/s]\n",
      "Iteration:  49%|████▉     | 489/1001 [00:41<00:43, 11.88it/s]"
     ]
    },
    {
     "name": "stdout",
     "output_type": "stream",
     "text": [
      "{'Train':  best_epoch_indx:44\n",
      " auc:0.9646184538984457 \n",
      " apur:0.8116998679581526 \n",
      " f1:0.6665574475492254 \n",
      " precision:0.5255433203087158 \n",
      " recall:0.9109966693722187 \n",
      ", 'Validation':  best_epoch_indx:44\n",
      " auc:0.9351886434473544 \n",
      " apur:0.7244241656041472 \n",
      " f1:0.6153139919206757 \n",
      " precision:0.48410863912164115 \n",
      " recall:0.844080604534005 \n",
      "}\n",
      "=====Epoch 45\n",
      "Training...\n"
     ]
    },
    {
     "name": "stderr",
     "output_type": "stream",
     "text": [
      "Iteration:  54%|█████▍    | 545/1001 [00:46<00:38, 11.96it/s]]\n",
      "Iteration:   9%|▊         | 87/1001 [00:08<01:21, 11.19it/s]]]\n",
      "Iteration:  40%|████      | 45/112 [00:02<00:03, 20.31it/s]s]\n",
      "Iteration:  11%|█▏        | 113/1001 [00:10<01:20, 10.97it/s]"
     ]
    },
    {
     "name": "stdout",
     "output_type": "stream",
     "text": [
      "{'Train':  best_epoch_indx:44\n",
      " auc:0.961792878225947 \n",
      " apur:0.7970675428733305 \n",
      " f1:0.6392632917042687 \n",
      " precision:0.48926088764779274 \n",
      " recall:0.9219121721850597 \n",
      ", 'Validation':  best_epoch_indx:44\n",
      " auc:0.9320083230483088 \n",
      " apur:0.7115576215989591 \n",
      " f1:0.5908814589665654 \n",
      " precision:0.45089463220675946 \n",
      " recall:0.856926952141058 \n",
      "}\n",
      "=====Epoch 45\n",
      "Training...\n"
     ]
    },
    {
     "name": "stderr",
     "output_type": "stream",
     "text": [
      "Iteration:  42%|████▏     | 417/1001 [00:37<00:48, 11.95it/s]\n",
      "Iteration:   0%|          | 1/1001 [00:00<01:54,  8.71it/s]s]"
     ]
    },
    {
     "name": "stdout",
     "output_type": "stream",
     "text": [
      "{'Train':  best_epoch_indx:44\n",
      " auc:0.9609148579739885 \n",
      " apur:0.7990930330085241 \n",
      " f1:0.6476049757402712 \n",
      " precision:0.503344351847541 \n",
      " recall:0.907777995465868 \n",
      ", 'Validation':  best_epoch_indx:44\n",
      " auc:0.930562405333704 \n",
      " apur:0.7108069508394167 \n",
      " f1:0.597975091837649 \n",
      " precision:0.46405228758169936 \n",
      " recall:0.8405541561712846 \n",
      "}\n",
      "=====Epoch 45\n",
      "Training...\n"
     ]
    },
    {
     "name": "stderr",
     "output_type": "stream",
     "text": [
      "Iteration: 100%|██████████| 1001/1001 [01:24<00:00, 11.87it/s]\n",
      "Iteration:   0%|          | 2/1001 [00:00<00:56, 17.55it/s]s]"
     ]
    },
    {
     "name": "stdout",
     "output_type": "stream",
     "text": [
      "Evaluating...\n"
     ]
    },
    {
     "name": "stderr",
     "output_type": "stream",
     "text": [
      "Iteration:  52%|█████▏    | 517/1001 [00:48<00:46, 10.31it/s]]\n",
      "Iteration:   0%|          | 0/1001 [00:00<?, ?it/s]"
     ]
    },
    {
     "name": "stdout",
     "output_type": "stream",
     "text": [
      "Evaluating...\n"
     ]
    },
    {
     "name": "stderr",
     "output_type": "stream",
     "text": [
      "Iteration: 100%|██████████| 1001/1001 [01:32<00:00, 10.85it/s]\n",
      "Iteration:  61%|██████    | 608/1001 [00:30<00:20, 19.51it/s]"
     ]
    },
    {
     "name": "stdout",
     "output_type": "stream",
     "text": [
      "Evaluating...\n"
     ]
    },
    {
     "name": "stderr",
     "output_type": "stream",
     "text": [
      "Iteration:   3%|▎         | 32/1001 [00:01<00:48, 19.85it/s]]\n",
      "Iteration: 100%|██████████| 1001/1001 [01:25<00:00, 11.66it/s]\n",
      "Iteration:   9%|▉         | 89/1001 [00:04<00:42, 21.34it/s]]"
     ]
    },
    {
     "name": "stdout",
     "output_type": "stream",
     "text": [
      "Evaluating...\n"
     ]
    },
    {
     "name": "stderr",
     "output_type": "stream",
     "text": [
      "Iteration:  75%|███████▌  | 754/1001 [00:37<00:12, 19.52it/s]\n",
      "Iteration:   7%|▋         | 67/1001 [00:03<00:47, 19.57it/s]"
     ]
    },
    {
     "name": "stdout",
     "output_type": "stream",
     "text": [
      "{'Train':  best_epoch_indx:45\n",
      " auc:0.9517728257250029 \n",
      " apur:0.7531711024018776 \n",
      " f1:0.6199562150328387 \n",
      " precision:0.4751733910060407 \n",
      " recall:0.8916316820598936 \n",
      ", 'Validation':  best_epoch_indx:45\n",
      " auc:0.9246182083803228 \n",
      " apur:0.6723942915531038 \n",
      " f1:0.5778942769768457 \n",
      " precision:0.44240802675585283 \n",
      " recall:0.8329974811083123 \n",
      "}\n",
      "=====Epoch 46\n",
      "Training...\n"
     ]
    },
    {
     "name": "stderr",
     "output_type": "stream",
     "text": [
      "Iteration: 100%|██████████| 1001/1001 [01:30<00:00, 11.08it/s]\n",
      "Iteration:  24%|██▍       | 239/1001 [00:12<00:43, 17.48it/s]"
     ]
    },
    {
     "name": "stdout",
     "output_type": "stream",
     "text": [
      "Evaluating...\n"
     ]
    },
    {
     "name": "stderr",
     "output_type": "stream",
     "text": [
      "Iteration:  20%|█▉        | 196/1001 [00:10<00:40, 20.06it/s]]\n",
      "Iteration:  32%|███▏      | 319/1001 [00:16<00:34, 19.98it/s]\n",
      "Iteration:  50%|████▉     | 499/1001 [00:24<00:24, 20.19it/s]"
     ]
    },
    {
     "name": "stdout",
     "output_type": "stream",
     "text": [
      "{'Train':  best_epoch_indx:45\n",
      " auc:0.9644599110435709 \n",
      " apur:0.8134292976464633 \n",
      " f1:0.6443688549498593 \n",
      " precision:0.4958511858065295 \n",
      " recall:0.9198970024349968 \n",
      ", 'Validation':  best_epoch_indx:45\n",
      " auc:0.9391602242942461 \n",
      " apur:0.7402544584088954 \n",
      " f1:0.6087570621468927 \n",
      " precision:0.46860559934764884 \n",
      " recall:0.8685138539042822 \n",
      "}\n",
      "=====Epoch 46\n",
      "Training...\n"
     ]
    },
    {
     "name": "stderr",
     "output_type": "stream",
     "text": [
      "Iteration:  80%|████████  | 804/1001 [00:41<00:09, 20.72it/s]]\n",
      "Iteration:  68%|██████▊   | 76/112 [00:03<00:01, 21.04it/s]s]]\n",
      "Iteration:  92%|█████████▏| 919/1001 [00:46<00:03, 21.13it/s]\n",
      "Iteration:  35%|███▌      | 351/1001 [00:29<00:55, 11.75it/s]"
     ]
    },
    {
     "name": "stdout",
     "output_type": "stream",
     "text": [
      "{'Train':  best_epoch_indx:45\n",
      " auc:0.9678313105251695 \n",
      " apur:0.8263937077361346 \n",
      " f1:0.6645635115991682 \n",
      " precision:0.5183530813115165 \n",
      " recall:0.925662626997677 \n",
      ", 'Validation':  best_epoch_indx:45\n",
      " auc:0.9394674035941286 \n",
      " apur:0.7374006511494773 \n",
      " f1:0.6105907780979827 \n",
      " precision:0.4751892346509672 \n",
      " recall:0.853904282115869 \n",
      "}\n",
      "=====Epoch 46\n",
      "Training...\n"
     ]
    },
    {
     "name": "stderr",
     "output_type": "stream",
     "text": [
      "Iteration:   4%|▍         | 43/1001 [00:03<01:19, 12.00it/s]]\n",
      "Iteration:  39%|███▉      | 395/1001 [00:33<00:50, 11.99it/s]]"
     ]
    },
    {
     "name": "stdout",
     "output_type": "stream",
     "text": [
      "{'Train':  best_epoch_indx:45\n",
      " auc:0.9666829239175498 \n",
      " apur:0.8237627308081177 \n",
      " f1:0.6427084136654585 \n",
      " precision:0.4901848339141559 \n",
      " recall:0.933023594279157 \n",
      ", 'Validation':  best_epoch_indx:45\n",
      " auc:0.9365464723816346 \n",
      " apur:0.7381609143652458 \n",
      " f1:0.5982935447729036 \n",
      " precision:0.45473601467312985 \n",
      " recall:0.8743073047858942 \n",
      "}\n",
      "=====Epoch 46\n",
      "Training...\n"
     ]
    },
    {
     "name": "stderr",
     "output_type": "stream",
     "text": [
      "Iteration:   7%|▋         | 75/1001 [00:06<01:15, 12.29it/s]]]\n",
      "Iteration:  10%|▉         | 97/1001 [00:08<01:13, 12.30it/s]]\n",
      "Iteration:  72%|███████▏  | 720/1001 [01:03<00:23, 11.87it/s]"
     ]
    },
    {
     "name": "stdout",
     "output_type": "stream",
     "text": [
      "{'Train':  best_epoch_indx:45\n",
      " auc:0.9640308631366407 \n",
      " apur:0.8110517130109842 \n",
      " f1:0.6547443719755943 \n",
      " precision:0.5098932650895699 \n",
      " recall:0.9145512049035798 \n",
      ", 'Validation':  best_epoch_indx:45\n",
      " auc:0.9322919137208239 \n",
      " apur:0.7207551028824152 \n",
      " f1:0.6016347794844157 \n",
      " precision:0.46754153287728606 \n",
      " recall:0.8435768261964736 \n",
      "}\n",
      "=====Epoch 46\n",
      "Training...\n"
     ]
    },
    {
     "name": "stderr",
     "output_type": "stream",
     "text": [
      "Iteration: 100%|██████████| 1001/1001 [01:28<00:00, 11.33it/s]\n",
      "Iteration:  40%|███▉      | 399/1001 [00:33<00:49, 12.06it/s]"
     ]
    },
    {
     "name": "stdout",
     "output_type": "stream",
     "text": [
      "Evaluating...\n"
     ]
    },
    {
     "name": "stderr",
     "output_type": "stream",
     "text": [
      "Iteration: 100%|██████████| 1001/1001 [01:32<00:00, 10.81it/s]\n",
      "Iteration:  70%|██████▉   | 700/1001 [00:59<00:24, 12.20it/s]"
     ]
    },
    {
     "name": "stdout",
     "output_type": "stream",
     "text": [
      "Evaluating...\n"
     ]
    },
    {
     "name": "stderr",
     "output_type": "stream",
     "text": [
      "Iteration: 100%|██████████| 1001/1001 [01:25<00:00, 11.76it/s]\n",
      "Iteration:  46%|████▌     | 458/1001 [00:22<00:28, 19.01it/s]"
     ]
    },
    {
     "name": "stdout",
     "output_type": "stream",
     "text": [
      "Evaluating...\n"
     ]
    },
    {
     "name": "stderr",
     "output_type": "stream",
     "text": [
      "Iteration:   9%|▉         | 90/1001 [00:04<00:42, 21.33it/s]]]\n",
      "Iteration: 100%|██████████| 1001/1001 [01:25<00:00, 11.64it/s]\n",
      "Iteration:  85%|████████▍ | 847/1001 [01:17<00:14, 10.46it/s]"
     ]
    },
    {
     "name": "stdout",
     "output_type": "stream",
     "text": [
      "Evaluating...\n"
     ]
    },
    {
     "name": "stderr",
     "output_type": "stream",
     "text": [
      "Iteration:  66%|██████▌   | 660/1001 [00:32<00:16, 20.52it/s]\n",
      "Iteration:  21%|██        | 210/1001 [00:10<00:37, 20.87it/s]"
     ]
    },
    {
     "name": "stdout",
     "output_type": "stream",
     "text": [
      "{'Train':  best_epoch_indx:46\n",
      " auc:0.9636089319010277 \n",
      " apur:0.8080358762329091 \n",
      " f1:0.6470373908162561 \n",
      " precision:0.49914158525653685 \n",
      " recall:0.9194794290512175 \n",
      ", 'Validation':  best_epoch_indx:46\n",
      " auc:0.9374880803288762 \n",
      " apur:0.7273634519301906 \n",
      " f1:0.6064687638458129 \n",
      " precision:0.4678058783321941 \n",
      " recall:0.8619647355163728 \n",
      "}\n",
      "=====Epoch 47\n",
      "Training...\n"
     ]
    },
    {
     "name": "stderr",
     "output_type": "stream",
     "text": [
      "Iteration: 100%|██████████| 1001/1001 [01:33<00:00, 10.73it/s]\n",
      "Iteration:  12%|█▏        | 119/1001 [00:10<01:20, 10.89it/s]"
     ]
    },
    {
     "name": "stdout",
     "output_type": "stream",
     "text": [
      "Evaluating...\n"
     ]
    },
    {
     "name": "stderr",
     "output_type": "stream",
     "text": [
      "Iteration:  19%|█▊        | 187/1001 [00:09<00:43, 18.60it/s]]\n",
      "Iteration:  27%|██▋       | 271/1001 [00:25<01:17,  9.44it/s]\n",
      "Iteration:  31%|███       | 308/1001 [00:15<00:33, 20.69it/s]"
     ]
    },
    {
     "name": "stdout",
     "output_type": "stream",
     "text": [
      "{'Train':  best_epoch_indx:46\n",
      " auc:0.9701024888877059 \n",
      " apur:0.8349375881250897 \n",
      " f1:0.6534609219410308 \n",
      " precision:0.5004315090914502 \n",
      " recall:0.9413081810294159 \n",
      ", 'Validation':  best_epoch_indx:46\n",
      " auc:0.9422164772562175 \n",
      " apur:0.7489939654593393 \n",
      " f1:0.610437532946758 \n",
      " precision:0.4686994063680518 \n",
      " recall:0.8750629722921914 \n",
      "}\n",
      "=====Epoch 47\n",
      "Training...\n"
     ]
    },
    {
     "name": "stderr",
     "output_type": "stream",
     "text": [
      "Iteration:  60%|██████    | 604/1001 [00:30<00:22, 17.98it/s]]\n",
      "Iteration:  71%|███████   | 712/1001 [00:35<00:14, 20.40it/s]]"
     ]
    },
    {
     "name": "stdout",
     "output_type": "stream",
     "text": [
      "{'Train':  best_epoch_indx:46\n",
      " auc:0.9688124572077393 \n",
      " apur:0.8292413329337064 \n",
      " f1:0.6583575108058499 \n",
      " precision:0.5084520996875238 \n",
      " recall:0.9336113521229253 \n",
      ", 'Validation':  best_epoch_indx:46\n",
      " auc:0.9404569516550567 \n",
      " apur:0.7329578689530948 \n",
      " f1:0.6088652482269504 \n",
      " precision:0.4697674418604651 \n",
      " recall:0.8649874055415617 \n",
      "}\n",
      "=====Epoch 47\n",
      "Training...\n"
     ]
    },
    {
     "name": "stderr",
     "output_type": "stream",
     "text": [
      "\n",
      "Iteration:  74%|███████▎  | 736/1001 [00:37<00:13, 20.28it/s]\n",
      "Iteration:  34%|███▎      | 337/1001 [00:28<00:54, 12.26it/s]\n",
      "Iteration:  34%|███▍      | 339/1001 [00:28<00:54, 12.21it/s]"
     ]
    },
    {
     "name": "stdout",
     "output_type": "stream",
     "text": [
      "{'Train':  best_epoch_indx:46\n",
      " auc:0.9735383030184638 \n",
      " apur:0.851974801532672 \n",
      " f1:0.6510725717834791 \n",
      " precision:0.494283724574181 \n",
      " recall:0.953539141873548 \n",
      ", 'Validation':  best_epoch_indx:46\n",
      " auc:0.9406742807418658 \n",
      " apur:0.7547434270652866 \n",
      " f1:0.5992502981768615 \n",
      " precision:0.45275489186405765 \n",
      " recall:0.8858942065491184 \n",
      "}\n",
      "=====Epoch 47\n",
      "Training...\n"
     ]
    },
    {
     "name": "stderr",
     "output_type": "stream",
     "text": [
      "Iteration:  20%|█▉        | 199/1001 [00:16<01:15, 10.67it/s]]\n",
      "Iteration:  17%|█▋        | 169/1001 [00:14<01:15, 11.06it/s]\n",
      "Iteration:  75%|███████▌  | 755/1001 [01:08<00:22, 10.76it/s]"
     ]
    },
    {
     "name": "stdout",
     "output_type": "stream",
     "text": [
      "{'Train':  best_epoch_indx:46\n",
      " auc:0.9710356875002972 \n",
      " apur:0.83952175821541 \n",
      " f1:0.6651291329502753 \n",
      " precision:0.5157480921914745 \n",
      " recall:0.9363262335917601 \n",
      ", 'Validation':  best_epoch_indx:46\n",
      " auc:0.9378684855166943 \n",
      " apur:0.7442698793878146 \n",
      " f1:0.6086187063091761 \n",
      " precision:0.469103805756377 \n",
      " recall:0.8662468513853905 \n",
      "}\n",
      "=====Epoch 47\n",
      "Training...\n"
     ]
    },
    {
     "name": "stderr",
     "output_type": "stream",
     "text": [
      "Iteration: 100%|██████████| 1001/1001 [01:32<00:00, 10.82it/s]\n",
      "Iteration:  42%|████▏     | 425/1001 [00:38<00:58,  9.91it/s]"
     ]
    },
    {
     "name": "stdout",
     "output_type": "stream",
     "text": [
      "Evaluating...\n"
     ]
    },
    {
     "name": "stderr",
     "output_type": "stream",
     "text": [
      "Iteration: 100%|██████████| 1001/1001 [01:26<00:00, 11.64it/s]\n",
      "Iteration:  65%|██████▍   | 646/1001 [00:57<00:30, 11.55it/s]"
     ]
    },
    {
     "name": "stdout",
     "output_type": "stream",
     "text": [
      "Evaluating...\n"
     ]
    },
    {
     "name": "stderr",
     "output_type": "stream",
     "text": [
      "Iteration: 100%|██████████| 1001/1001 [01:23<00:00, 11.96it/s]\n",
      "Iteration:  39%|███▉      | 388/1001 [00:18<00:29, 20.98it/s]"
     ]
    },
    {
     "name": "stdout",
     "output_type": "stream",
     "text": [
      "Evaluating...\n"
     ]
    },
    {
     "name": "stderr",
     "output_type": "stream",
     "text": [
      "Iteration: 100%|██████████| 1001/1001 [01:29<00:00, 11.24it/s]\n",
      "Iteration:   0%|          | 0/1001 [00:00<?, ?it/s]"
     ]
    },
    {
     "name": "stdout",
     "output_type": "stream",
     "text": [
      "Evaluating...\n"
     ]
    },
    {
     "name": "stderr",
     "output_type": "stream",
     "text": [
      "Iteration:  92%|█████████▏| 925/1001 [01:17<00:06, 12.01it/s]]\n",
      "Iteration:  46%|████▌     | 457/1001 [00:22<00:26, 20.63it/s]\n",
      "Iteration:  84%|████████▍ | 845/1001 [00:41<00:07, 20.51it/s]"
     ]
    },
    {
     "name": "stdout",
     "output_type": "stream",
     "text": [
      "{'Train':  best_epoch_indx:47\n",
      " auc:0.9685562777152799 \n",
      " apur:0.8266823301081989 \n",
      " f1:0.6589446589446589 \n",
      " precision:0.5098039215686274 \n",
      " recall:0.9314301707248811 \n",
      ", 'Validation':  best_epoch_indx:47\n",
      " auc:0.9388318263726169 \n",
      " apur:0.7356275517875586 \n",
      " f1:0.6056838365896982 \n",
      " precision:0.46776406035665297 \n",
      " recall:0.8589420654911839 \n",
      "}\n",
      "=====Epoch 48\n",
      "Training...\n"
     ]
    },
    {
     "name": "stderr",
     "output_type": "stream",
     "text": [
      "Iteration: 100%|██████████| 1001/1001 [01:24<00:00, 11.88it/s]\n",
      "Iteration:   0%|          | 4/1001 [00:00<01:45,  9.49it/s]s]"
     ]
    },
    {
     "name": "stdout",
     "output_type": "stream",
     "text": [
      "Evaluating...\n"
     ]
    },
    {
     "name": "stderr",
     "output_type": "stream",
     "text": [
      "Iteration:  42%|████▏     | 423/1001 [00:21<00:29, 19.81it/s]]\n",
      "Iteration:  20%|██        | 202/1001 [00:17<01:12, 10.99it/s]\n",
      "Iteration:  53%|█████▎    | 535/1001 [00:26<00:23, 19.74it/s]"
     ]
    },
    {
     "name": "stdout",
     "output_type": "stream",
     "text": [
      "{'Train':  best_epoch_indx:47\n",
      " auc:0.9736744828190675 \n",
      " apur:0.8522587156203894 \n",
      " f1:0.6797780630034261 \n",
      " precision:0.5319845613591065 \n",
      " recall:0.941280192560665 \n",
      ", 'Validation':  best_epoch_indx:47\n",
      " auc:0.9436464092186276 \n",
      " apur:0.7590520543071678 \n",
      " f1:0.6266871999275297 \n",
      " precision:0.48931956429480833 \n",
      " recall:0.8712846347607053 \n",
      "}\n",
      "=====Epoch 48\n",
      "Training...\n"
     ]
    },
    {
     "name": "stderr",
     "output_type": "stream",
     "text": [
      "Iteration:  82%|████████▏ | 817/1001 [00:41<00:09, 20.07it/s]]\n",
      "Iteration:  40%|████      | 401/1001 [00:37<01:10,  8.54it/s]\n",
      "Iteration:  93%|█████████▎| 928/1001 [00:46<00:03, 19.96it/s]"
     ]
    },
    {
     "name": "stdout",
     "output_type": "stream",
     "text": [
      "{'Train':  best_epoch_indx:47\n",
      " auc:0.9742513269272927 \n",
      " apur:0.8531637683342884 \n",
      " f1:0.6979703945989013 \n",
      " precision:0.5579878978863206 \n",
      " recall:0.9317081362478659 \n",
      ", 'Validation':  best_epoch_indx:47\n",
      " auc:0.9437485980323896 \n",
      " apur:0.7576999265079865 \n",
      " f1:0.6366541353383459 \n",
      " precision:0.5077961019490255 \n",
      " recall:0.8531486146095718 \n",
      "}\n",
      "=====Epoch 48\n",
      "Training...\n"
     ]
    },
    {
     "name": "stderr",
     "output_type": "stream",
     "text": [
      "Iteration:   9%|▉         | 91/1001 [00:07<01:14, 12.15it/s]]]\n",
      "Iteration:  39%|███▊      | 386/1001 [00:32<00:52, 11.67it/s]\n",
      "Iteration:   0%|          | 1/1001 [00:00<02:03,  8.07it/s]s]"
     ]
    },
    {
     "name": "stdout",
     "output_type": "stream",
     "text": [
      "{'Train':  best_epoch_indx:47\n",
      " auc:0.9751348330399422 \n",
      " apur:0.8574365137237454 \n",
      " f1:0.6790189095651302 \n",
      " precision:0.5291763087122396 \n",
      " recall:0.9472417364046013 \n",
      ", 'Validation':  best_epoch_indx:47\n",
      " auc:0.9411602090370671 \n",
      " apur:0.7548947687378942 \n",
      " f1:0.6224986479177934 \n",
      " precision:0.4846996069623807 \n",
      " recall:0.8697732997481108 \n",
      "}\n",
      "=====Epoch 48\n",
      "Training...\n"
     ]
    },
    {
     "name": "stderr",
     "output_type": "stream",
     "text": [
      "Iteration:  45%|████▍     | 450/1001 [00:38<00:45, 12.15it/s]]\n",
      "Iteration:  11%|█▏        | 115/1001 [00:10<01:28, 10.06it/s]\n",
      "Iteration:  29%|██▉       | 291/1001 [00:24<00:59, 11.86it/s]"
     ]
    },
    {
     "name": "stdout",
     "output_type": "stream",
     "text": [
      "{'Train':  best_epoch_indx:47\n",
      " auc:0.9740301168159237 \n",
      " apur:0.8517204628130742 \n",
      " f1:0.6953888564029739 \n",
      " precision:0.5546061726544412 \n",
      " recall:0.9319600324666237 \n",
      ", 'Validation':  best_epoch_indx:47\n",
      " auc:0.9382203649225798 \n",
      " apur:0.746468502582515 \n",
      " f1:0.6316280806572069 \n",
      " precision:0.501779887273806 \n",
      " recall:0.8521410579345088 \n",
      "}\n",
      "=====Epoch 48\n",
      "Training...\n"
     ]
    },
    {
     "name": "stderr",
     "output_type": "stream",
     "text": [
      "Iteration: 100%|██████████| 1001/1001 [01:29<00:00, 11.14it/s]\n",
      "Iteration:  62%|██████▏   | 621/1001 [00:52<00:37, 10.27it/s]"
     ]
    },
    {
     "name": "stdout",
     "output_type": "stream",
     "text": [
      "Evaluating...\n"
     ]
    },
    {
     "name": "stderr",
     "output_type": "stream",
     "text": [
      "Iteration: 100%|██████████| 1001/1001 [01:24<00:00, 11.89it/s]\n",
      "Iteration:  74%|███████▍  | 743/1001 [01:04<00:25,  9.97it/s]"
     ]
    },
    {
     "name": "stdout",
     "output_type": "stream",
     "text": [
      "Evaluating...\n"
     ]
    },
    {
     "name": "stderr",
     "output_type": "stream",
     "text": [
      "Iteration: 100%|██████████| 1001/1001 [01:29<00:00, 11.20it/s]\n",
      "Iteration:   0%|          | 0/1001 [00:00<?, ?it/s]"
     ]
    },
    {
     "name": "stdout",
     "output_type": "stream",
     "text": [
      "Evaluating...\n"
     ]
    },
    {
     "name": "stderr",
     "output_type": "stream",
     "text": [
      "Iteration:  87%|████████▋ | 870/1001 [01:19<00:11, 11.60it/s]]\n",
      "Iteration: 100%|██████████| 1001/1001 [01:34<00:00, 10.64it/s]\n",
      "Iteration:  88%|████████▊ | 881/1001 [00:43<00:06, 19.98it/s]"
     ]
    },
    {
     "name": "stdout",
     "output_type": "stream",
     "text": [
      "Evaluating...\n"
     ]
    },
    {
     "name": "stderr",
     "output_type": "stream",
     "text": [
      "Iteration:  40%|████      | 402/1001 [00:19<00:34, 17.33it/s]\n",
      "Iteration:   3%|▎         | 31/1001 [00:01<00:48, 20.05it/s]"
     ]
    },
    {
     "name": "stdout",
     "output_type": "stream",
     "text": [
      "{'Train':  best_epoch_indx:48\n",
      " auc:0.9742081973377001 \n",
      " apur:0.8533202993223357 \n",
      " f1:0.6911477846239589 \n",
      " precision:0.5474567126109776 \n",
      " recall:0.9371116708648195 \n",
      ", 'Validation':  best_epoch_indx:48\n",
      " auc:0.9437843452600188 \n",
      " apur:0.7580440607429071 \n",
      " f1:0.6338736724427054 \n",
      " precision:0.502956830277942 \n",
      " recall:0.856926952141058 \n",
      "}\n",
      "=====Epoch 49\n",
      "Training...\n"
     ]
    },
    {
     "name": "stderr",
     "output_type": "stream",
     "text": [
      "Iteration: 100%|██████████| 1001/1001 [01:30<00:00, 11.00it/s]\n",
      "Iteration:   0%|          | 0/1001 [00:00<?, ?it/s]"
     ]
    },
    {
     "name": "stdout",
     "output_type": "stream",
     "text": [
      "Evaluating...\n"
     ]
    },
    {
     "name": "stderr",
     "output_type": "stream",
     "text": [
      "Iteration:  53%|█████▎    | 533/1001 [00:26<00:27, 17.03it/s]\n",
      "Iteration:  63%|██████▎   | 635/1001 [00:32<00:21, 17.31it/s]\n",
      "Iteration:  13%|█▎        | 134/1001 [00:06<00:43, 19.89it/s]"
     ]
    },
    {
     "name": "stdout",
     "output_type": "stream",
     "text": [
      "{'Train':  best_epoch_indx:48\n",
      " auc:0.9778748419489647 \n",
      " apur:0.869673444729516 \n",
      " f1:0.6893466268535858 \n",
      " precision:0.5399422826879777 \n",
      " recall:0.9530633379047833 \n",
      ", 'Validation':  best_epoch_indx:48\n",
      " auc:0.9461665951950686 \n",
      " apur:0.7711236521504796 \n",
      " f1:0.6330150068212824 \n",
      " precision:0.49537366548042705 \n",
      " recall:0.8765743073047859 \n",
      "}\n",
      "=====Epoch 49\n",
      "Training...\n"
     ]
    },
    {
     "name": "stderr",
     "output_type": "stream",
     "text": [
      "Iteration:  70%|██████▉   | 700/1001 [00:34<00:14, 20.34it/s]]\n",
      "Iteration:  82%|████████▏ | 824/1001 [00:40<00:09, 18.89it/s]\n",
      "Iteration:  45%|████▌     | 453/1001 [00:39<00:54, 10.01it/s]"
     ]
    },
    {
     "name": "stdout",
     "output_type": "stream",
     "text": [
      "{'Train':  best_epoch_indx:48\n",
      " auc:0.979550697760738 \n",
      " apur:0.8783401507190651 \n",
      " f1:0.7192945085843309 \n",
      " precision:0.5805752798170658 \n",
      " recall:0.9451146127795348 \n",
      ", 'Validation':  best_epoch_indx:48\n",
      " auc:0.9468240724685147 \n",
      " apur:0.7701347166451834 \n",
      " f1:0.6484888931261322 \n",
      " precision:0.5217057830955668 \n",
      " recall:0.8566750629722922 \n",
      "}\n",
      "=====Epoch 49\n",
      "Training...\n"
     ]
    },
    {
     "name": "stderr",
     "output_type": "stream",
     "text": [
      "Iteration:  37%|███▋      | 368/1001 [00:37<01:04,  9.82it/s]]\n",
      "Iteration:  43%|████▎     | 426/1001 [00:43<00:59,  9.65it/s]]\n",
      "Iteration:  65%|██████▌   | 655/1001 [00:56<00:28, 12.33it/s]"
     ]
    },
    {
     "name": "stdout",
     "output_type": "stream",
     "text": [
      "{'Train':  best_epoch_indx:48\n",
      " auc:0.9804721003421137 \n",
      " apur:0.8816441910435142 \n",
      " f1:0.7225754235753916 \n",
      " precision:0.5831814900127205 \n",
      " recall:0.949536790842173 \n",
      ", 'Validation':  best_epoch_indx:48\n",
      " auc:0.9455083764912927 \n",
      " apur:0.7705043736713053 \n",
      " f1:0.6514906181541099 \n",
      " precision:0.5238168172767652 \n",
      " recall:0.8614609571788413 \n",
      "}\n",
      "=====Epoch 49\n",
      "Training...\n"
     ]
    },
    {
     "name": "stderr",
     "output_type": "stream",
     "text": [
      "Iteration:  44%|████▍     | 445/1001 [00:45<00:56,  9.86it/s]\n",
      "Iteration:  50%|█████     | 503/1001 [00:51<00:49, 10.03it/s]\n",
      "Iteration:  25%|██▌       | 253/1001 [00:24<01:12, 10.30it/s]"
     ]
    },
    {
     "name": "stdout",
     "output_type": "stream",
     "text": [
      "{'Train':  best_epoch_indx:48\n",
      " auc:0.9787373708603843 \n",
      " apur:0.8749200194652769 \n",
      " f1:0.6979890535637414 \n",
      " precision:0.5506412018694309 \n",
      " recall:0.9530073609672814 \n",
      ", 'Validation':  best_epoch_indx:48\n",
      " auc:0.9418748535889384 \n",
      " apur:0.7629440187063887 \n",
      " f1:0.6269884805266045 \n",
      " precision:0.49210677382319173 \n",
      " recall:0.863727959697733 \n",
      "}\n",
      "=====Epoch 49\n",
      "Training...\n"
     ]
    },
    {
     "name": "stderr",
     "output_type": "stream",
     "text": [
      "Iteration: 100%|██████████| 1001/1001 [01:26<00:00, 11.58it/s]\n",
      "Iteration:  76%|███████▌  | 757/1001 [01:13<00:20, 11.83it/s]"
     ]
    },
    {
     "name": "stdout",
     "output_type": "stream",
     "text": [
      "Evaluating...\n"
     ]
    },
    {
     "name": "stderr",
     "output_type": "stream",
     "text": [
      "Iteration: 100%|██████████| 1001/1001 [01:35<00:00, 10.50it/s]\n",
      "Iteration:  57%|█████▋    | 574/1001 [00:52<00:35, 11.98it/s]"
     ]
    },
    {
     "name": "stdout",
     "output_type": "stream",
     "text": [
      "Evaluating...\n"
     ]
    },
    {
     "name": "stderr",
     "output_type": "stream",
     "text": [
      "Iteration: 100%|██████████| 1001/1001 [01:32<00:00, 10.82it/s]\n",
      "Iteration:   0%|          | 2/1001 [00:00<01:10, 14.20it/s]s]"
     ]
    },
    {
     "name": "stdout",
     "output_type": "stream",
     "text": [
      "Evaluating...\n"
     ]
    },
    {
     "name": "stderr",
     "output_type": "stream",
     "text": [
      "Iteration:  92%|█████████▏| 922/1001 [01:21<00:06, 11.83it/s]]\n",
      "Iteration:  91%|█████████ | 908/1001 [01:19<00:09,  9.66it/s]\n",
      "Iteration:   0%|          | 0/1001 [00:00<?, ?it/s]"
     ]
    },
    {
     "name": "stdout",
     "output_type": "stream",
     "text": [
      "{'Train':  best_epoch_indx:49\n",
      " auc:0.9776969045110289 \n",
      " apur:0.8686728127193335 \n",
      " f1:0.7111782541174978 \n",
      " precision:0.5711982622566905 \n",
      " recall:0.9420375034984607 \n",
      ", 'Validation':  best_epoch_indx:49\n",
      " auc:0.9455721609282672 \n",
      " apur:0.7658167489973974 \n",
      " f1:0.6455599923939912 \n",
      " precision:0.5184789248625534 \n",
      " recall:0.8551637279596978 \n",
      "}\n",
      "=====Epoch 50\n",
      "Training...\n"
     ]
    },
    {
     "name": "stderr",
     "output_type": "stream",
     "text": [
      "Iteration: 100%|██████████| 1001/1001 [01:29<00:00, 11.22it/s]\n",
      "Iteration:  93%|█████████▎| 931/1001 [01:21<00:06, 10.18it/s]"
     ]
    },
    {
     "name": "stdout",
     "output_type": "stream",
     "text": [
      "Evaluating...\n"
     ]
    },
    {
     "name": "stderr",
     "output_type": "stream",
     "text": [
      "Iteration: 100%|██████████| 1001/1001 [01:29<00:00, 11.17it/s]\n",
      "Iteration:  12%|█▏        | 123/1001 [00:10<01:14, 11.71it/s]"
     ]
    },
    {
     "name": "stdout",
     "output_type": "stream",
     "text": [
      "Evaluating...\n"
     ]
    },
    {
     "name": "stderr",
     "output_type": "stream",
     "text": [
      "Iteration:  11%|█         | 112/1001 [00:05<00:42, 20.91it/s]]\n",
      "Iteration:  24%|██▍       | 242/1001 [00:12<00:36, 20.88it/s]\n",
      "Iteration:  42%|████▏     | 420/1001 [00:20<00:27, 20.86it/s]"
     ]
    },
    {
     "name": "stdout",
     "output_type": "stream",
     "text": [
      "{'Train':  best_epoch_indx:49\n",
      " auc:0.9802051565871014 \n",
      " apur:0.8801351457158492 \n",
      " f1:0.6947226035694097 \n",
      " precision:0.543317281124181 \n",
      " recall:0.9631111981863473 \n",
      ", 'Validation':  best_epoch_indx:49\n",
      " auc:0.9477255574634649 \n",
      " apur:0.7761899117563348 \n",
      " f1:0.6355427126602854 \n",
      " precision:0.4953547297297297 \n",
      " recall:0.8863979848866499 \n",
      "}\n",
      "=====Epoch 50\n",
      "Training...\n"
     ]
    },
    {
     "name": "stderr",
     "output_type": "stream",
     "text": [
      "Iteration:  42%|████▏     | 425/1001 [00:39<00:47, 12.16it/s]]\n",
      "Iteration:  27%|██▋       | 267/1001 [00:22<01:01, 12.03it/s]\n",
      "Iteration:  87%|████████▋ | 868/1001 [00:43<00:07, 16.80it/s]"
     ]
    },
    {
     "name": "stdout",
     "output_type": "stream",
     "text": [
      "{'Train':  best_epoch_indx:49\n",
      " auc:0.9821966115386958 \n",
      " apur:0.8895359715486577 \n",
      " f1:0.7227935598078059 \n",
      " precision:0.579602872834812 \n",
      " recall:0.9599485012174984 \n",
      ", 'Validation':  best_epoch_indx:49\n",
      " auc:0.9482357343875987 \n",
      " apur:0.7764616885297932 \n",
      " f1:0.6484404359263435 \n",
      " precision:0.517081210668265 \n",
      " recall:0.8692695214105793 \n",
      "}\n",
      "=====Epoch 50\n",
      "Training...\n"
     ]
    },
    {
     "name": "stderr",
     "output_type": "stream",
     "text": [
      "Iteration:  38%|███▊      | 379/1001 [00:32<00:50, 12.24it/s]]\n",
      "Iteration:  65%|██████▌   | 655/1001 [01:00<00:28, 11.97it/s]]\n",
      "Iteration:  18%|█▊        | 179/1001 [00:15<01:09, 11.86it/s]"
     ]
    },
    {
     "name": "stdout",
     "output_type": "stream",
     "text": [
      "{'Train':  best_epoch_indx:49\n",
      " auc:0.9832854149651767 \n",
      " apur:0.8950074739734799 \n",
      " f1:0.7264961782833461 \n",
      " precision:0.583738235194183 \n",
      " recall:0.9616837862800526 \n",
      ", 'Validation':  best_epoch_indx:49\n",
      " auc:0.946765820901804 \n",
      " apur:0.7779879244700465 \n",
      " f1:0.6521945208076596 \n",
      " precision:0.5228758169934641 \n",
      " recall:0.8664987405541562 \n",
      "}\n",
      "=====Epoch 50\n",
      "Training...\n"
     ]
    },
    {
     "name": "stderr",
     "output_type": "stream",
     "text": [
      "Iteration:  68%|██████▊   | 683/1001 [01:02<00:26, 12.15it/s]\n",
      "Iteration:  54%|█████▍    | 543/1001 [00:45<00:40, 11.19it/s]\n",
      "Iteration:  28%|██▊       | 277/1001 [00:23<01:00, 11.98it/s]"
     ]
    },
    {
     "name": "stdout",
     "output_type": "stream",
     "text": [
      "{'Train':  best_epoch_indx:49\n",
      " auc:0.9811338254125257 \n",
      " apur:0.8865110338659035 \n",
      " f1:0.7148568318821165 \n",
      " precision:0.570900824097755 \n",
      " recall:0.9558901732486216 \n",
      ", 'Validation':  best_epoch_indx:49\n",
      " auc:0.9438428325415743 \n",
      " apur:0.7707923185576457 \n",
      " f1:0.6381904850920646 \n",
      " precision:0.507356219349086 \n",
      " recall:0.8599496221662468 \n",
      "}\n",
      "=====Epoch 50\n",
      "Training...\n"
     ]
    },
    {
     "name": "stderr",
     "output_type": "stream",
     "text": [
      "Iteration: 100%|██████████| 1001/1001 [01:29<00:00, 11.17it/s]\n",
      "Iteration:  33%|███▎      | 327/1001 [00:29<00:57, 11.78it/s]"
     ]
    },
    {
     "name": "stdout",
     "output_type": "stream",
     "text": [
      "Evaluating...\n"
     ]
    },
    {
     "name": "stderr",
     "output_type": "stream",
     "text": [
      "Iteration: 100%|██████████| 1001/1001 [01:30<00:00, 11.10it/s]\n",
      "Iteration:  50%|████▉     | 498/1001 [00:44<00:39, 12.58it/s]"
     ]
    },
    {
     "name": "stdout",
     "output_type": "stream",
     "text": [
      "Evaluating...\n"
     ]
    },
    {
     "name": "stderr",
     "output_type": "stream",
     "text": [
      "Iteration: 100%|██████████| 1001/1001 [01:26<00:00, 11.61it/s]\n",
      "Iteration:  71%|███████   | 712/1001 [01:03<00:24, 11.90it/s]"
     ]
    },
    {
     "name": "stdout",
     "output_type": "stream",
     "text": [
      "Evaluating...\n"
     ]
    },
    {
     "name": "stderr",
     "output_type": "stream",
     "text": [
      "Iteration:  22%|██▏       | 224/1001 [00:10<00:38, 20.36it/s]]\n",
      "Iteration: 100%|██████████| 1001/1001 [01:25<00:00, 11.69it/s]\n",
      "Iteration:  30%|███       | 302/1001 [00:14<00:33, 20.73it/s]"
     ]
    },
    {
     "name": "stdout",
     "output_type": "stream",
     "text": [
      "Evaluating...\n"
     ]
    },
    {
     "name": "stderr",
     "output_type": "stream",
     "text": [
      "Iteration:  90%|█████████ | 904/1001 [01:19<00:08, 11.96it/s]\n",
      "Iteration:  69%|██████▉   | 689/1001 [00:35<00:17, 17.61it/s]"
     ]
    },
    {
     "name": "stdout",
     "output_type": "stream",
     "text": [
      "{'Train':  best_epoch_indx:50\n",
      " auc:0.9781337715192007 \n",
      " apur:0.8703379389770403 \n",
      " f1:0.7117224501851246 \n",
      " precision:0.5711093429940242 \n",
      " recall:0.9441925552756787 \n",
      ", 'Validation':  best_epoch_indx:50\n",
      " auc:0.9456036181457231 \n",
      " apur:0.7657371245672813 \n",
      " f1:0.6458155625059235 \n",
      " precision:0.5177024768272299 \n",
      " recall:0.8581863979848866 \n",
      "}\n",
      "=====Epoch 51\n",
      "Training...\n"
     ]
    },
    {
     "name": "stderr",
     "output_type": "stream",
     "text": [
      "Iteration: 100%|██████████| 1001/1001 [01:27<00:00, 11.38it/s]\n",
      "Iteration:  51%|█████     | 512/1001 [00:24<00:23, 20.57it/s]"
     ]
    },
    {
     "name": "stdout",
     "output_type": "stream",
     "text": [
      "Evaluating...\n"
     ]
    },
    {
     "name": "stderr",
     "output_type": "stream",
     "text": [
      "Iteration:  46%|████▌     | 456/1001 [00:22<00:27, 19.97it/s]]\n",
      "Iteration:  88%|████████▊ | 880/1001 [00:43<00:06, 19.81it/s]\n",
      "Iteration:   0%|          | 0/1001 [00:00<?, ?it/s]"
     ]
    },
    {
     "name": "stdout",
     "output_type": "stream",
     "text": [
      "{'Train':  best_epoch_indx:50\n",
      " auc:0.9802654983627085 \n",
      " apur:0.8807354606258142 \n",
      " f1:0.7062372167014441 \n",
      " precision:0.5596869525353243 \n",
      " recall:0.9567578157798987 \n",
      ", 'Validation':  best_epoch_indx:50\n",
      " auc:0.946865301137714 \n",
      " apur:0.7742882882476274 \n",
      " f1:0.6401335930976899 \n",
      " precision:0.5066823322073726 \n",
      " recall:0.8690176322418136 \n",
      "}\n",
      "=====Epoch 51\n",
      "Training...\n"
     ]
    },
    {
     "name": "stderr",
     "output_type": "stream",
     "text": [
      "Iteration:  43%|████▎     | 429/1001 [00:36<00:47, 11.98it/s]]\n",
      "Iteration:  49%|████▉     | 495/1001 [00:42<00:42, 12.00it/s]\n",
      "Iteration:  50%|████▉     | 497/1001 [00:42<00:41, 12.01it/s]"
     ]
    },
    {
     "name": "stdout",
     "output_type": "stream",
     "text": [
      "{'Train':  best_epoch_indx:50\n",
      " auc:0.9823249765742613 \n",
      " apur:0.8903168732605901 \n",
      " f1:0.7345812722942462 \n",
      " precision:0.5972592177204542 \n",
      " recall:0.9539029919673094 \n",
      ", 'Validation':  best_epoch_indx:50\n",
      " auc:0.9474085681403187 \n",
      " apur:0.771505492577382 \n",
      " f1:0.6557662538699691 \n",
      " precision:0.5323594093622369 \n",
      " recall:0.8536523929471033 \n",
      "}\n",
      "=====Epoch 51\n",
      "Training...\n"
     ]
    },
    {
     "name": "stderr",
     "output_type": "stream",
     "text": [
      "Iteration:  62%|██████▏   | 625/1001 [00:52<00:31, 12.05it/s]]\n",
      "Iteration:  20%|██        | 203/1001 [00:17<01:06, 12.05it/s]\n",
      "Iteration:  70%|██████▉   | 699/1001 [00:59<00:27, 10.80it/s]"
     ]
    },
    {
     "name": "stdout",
     "output_type": "stream",
     "text": [
      "{'Train':  best_epoch_indx:50\n",
      " auc:0.9822844820858161 \n",
      " apur:0.8891936606884416 \n",
      " f1:0.7250810329851917 \n",
      " precision:0.5832949878146463 \n",
      " recall:0.9579333314674354 \n",
      ", 'Validation':  best_epoch_indx:50\n",
      " auc:0.9447167431854194 \n",
      " apur:0.7697395607343831 \n",
      " f1:0.6500190621425849 \n",
      " precision:0.5228457528365532 \n",
      " recall:0.8589420654911839 \n",
      "}\n",
      "=====Epoch 51\n",
      "Training...\n"
     ]
    },
    {
     "name": "stderr",
     "output_type": "stream",
     "text": [
      "Iteration:  76%|███████▌  | 761/1001 [01:04<00:19, 12.20it/s]]\n",
      "Iteration:  83%|████████▎ | 829/1001 [01:10<00:14, 12.11it/s]\n",
      "Iteration:  51%|█████     | 510/1001 [00:44<00:40, 11.99it/s]"
     ]
    },
    {
     "name": "stdout",
     "output_type": "stream",
     "text": [
      "{'Train':  best_epoch_indx:50\n",
      " auc:0.9808054262962403 \n",
      " apur:0.8838000249792777 \n",
      " f1:0.7248940010466395 \n",
      " precision:0.5860907709311964 \n",
      " recall:0.9498446639984326 \n",
      ", 'Validation':  best_epoch_indx:50\n",
      " auc:0.9424432306510898 \n",
      " apur:0.7640263374916821 \n",
      " f1:0.6455562996269014 \n",
      " precision:0.5204380687953108 \n",
      " recall:0.8498740554156171 \n",
      "}\n",
      "=====Epoch 51\n",
      "Training...\n"
     ]
    },
    {
     "name": "stderr",
     "output_type": "stream",
     "text": [
      "Iteration: 100%|██████████| 1001/1001 [01:24<00:00, 11.84it/s]\n",
      "Iteration:  25%|██▌       | 253/1001 [00:25<01:13, 10.18it/s]"
     ]
    },
    {
     "name": "stdout",
     "output_type": "stream",
     "text": [
      "Evaluating...\n"
     ]
    },
    {
     "name": "stderr",
     "output_type": "stream",
     "text": [
      "Iteration: 100%|██████████| 1001/1001 [01:25<00:00, 11.72it/s]\n",
      "Iteration:   0%|          | 2/1001 [00:00<01:03, 15.73it/s]s]"
     ]
    },
    {
     "name": "stdout",
     "output_type": "stream",
     "text": [
      "Evaluating...\n"
     ]
    },
    {
     "name": "stderr",
     "output_type": "stream",
     "text": [
      "Iteration: 100%|██████████| 1001/1001 [01:24<00:00, 11.82it/s]\n",
      "Iteration:  59%|█████▉    | 592/1001 [00:56<00:41,  9.90it/s]"
     ]
    },
    {
     "name": "stdout",
     "output_type": "stream",
     "text": [
      "Evaluating...\n"
     ]
    },
    {
     "name": "stderr",
     "output_type": "stream",
     "text": [
      "Iteration:  83%|████████▎ | 831/1001 [01:15<00:13, 12.62it/s]]\n",
      "Iteration:  90%|█████████ | 905/1001 [01:21<00:07, 12.54it/s]\n",
      "Iteration:   0%|          | 1/1001 [00:00<02:02,  8.14it/s]s]"
     ]
    },
    {
     "name": "stdout",
     "output_type": "stream",
     "text": [
      "{'Train':  best_epoch_indx:51\n",
      " auc:0.9746448948190963 \n",
      " apur:0.8537989925940911 \n",
      " f1:0.6846440119577817 \n",
      " precision:0.5376581065542353 \n",
      " recall:0.9422334172963895 \n",
      ", 'Validation':  best_epoch_indx:51\n",
      " auc:0.9413891267227861 \n",
      " apur:0.7491170617153842 \n",
      " f1:0.6252278527160043 \n",
      " precision:0.4898600399885747 \n",
      " recall:0.8639798488664987 \n",
      "}\n",
      "=====Epoch 52\n",
      "Training...\n"
     ]
    },
    {
     "name": "stderr",
     "output_type": "stream",
     "text": [
      "Iteration:  86%|████████▌ | 860/1001 [01:17<00:11, 11.85it/s]]\n",
      "Iteration:   0%|          | 2/1001 [00:00<01:01, 16.12it/s]s]"
     ]
    },
    {
     "name": "stdout",
     "output_type": "stream",
     "text": [
      "Evaluating...\n"
     ]
    },
    {
     "name": "stderr",
     "output_type": "stream",
     "text": [
      "Iteration: 100%|██████████| 1001/1001 [01:29<00:00, 11.17it/s]\n",
      "Iteration:  67%|██████▋   | 670/1001 [00:33<00:15, 21.02it/s]"
     ]
    },
    {
     "name": "stdout",
     "output_type": "stream",
     "text": [
      "Evaluating...\n"
     ]
    },
    {
     "name": "stderr",
     "output_type": "stream",
     "text": [
      "Iteration:   9%|▉         | 89/1001 [00:04<00:43, 21.00it/s]]]\n",
      "Iteration:  21%|██        | 208/1001 [00:09<00:41, 19.02it/s]\n",
      "Iteration:  88%|████████▊ | 880/1001 [00:43<00:05, 21.25it/s]"
     ]
    },
    {
     "name": "stdout",
     "output_type": "stream",
     "text": [
      "{'Train':  best_epoch_indx:51\n",
      " auc:0.9775370387085941 \n",
      " apur:0.8663329790411604 \n",
      " f1:0.674302525128708 \n",
      " precision:0.5189898258008031 \n",
      " recall:0.962271544123821 \n",
      ", 'Validation':  best_epoch_indx:51\n",
      " auc:0.943886688359861 \n",
      " apur:0.7650153799925508 \n",
      " f1:0.6191863030623952 \n",
      " precision:0.4765656840103247 \n",
      " recall:0.8836272040302267 \n",
      "}\n",
      "=====Epoch 52\n",
      "Training...\n"
     ]
    },
    {
     "name": "stderr",
     "output_type": "stream",
     "text": [
      "Iteration:  61%|██████▏   | 614/1001 [00:30<00:18, 20.87it/s]]\n",
      "Iteration:  47%|████▋     | 469/1001 [00:43<00:51, 10.24it/s]\n",
      "Iteration:  17%|█▋        | 167/1001 [00:14<01:10, 11.91it/s]"
     ]
    },
    {
     "name": "stdout",
     "output_type": "stream",
     "text": [
      "{'Train':  best_epoch_indx:51\n",
      " auc:0.9803493428644482 \n",
      " apur:0.8811954167838818 \n",
      " f1:0.7181282356786621 \n",
      " precision:0.5760928407091622 \n",
      " recall:0.953119314842285 \n",
      ", 'Validation':  best_epoch_indx:51\n",
      " auc:0.9474919040522297 \n",
      " apur:0.7700821926812401 \n",
      " f1:0.6488427019367028 \n",
      " precision:0.5191232048374905 \n",
      " recall:0.8649874055415617 \n",
      "}\n",
      "=====Epoch 52\n",
      "Training...\n"
     ]
    },
    {
     "name": "stderr",
     "output_type": "stream",
     "text": [
      "Iteration:  63%|██████▎   | 629/1001 [00:58<00:36, 10.32it/s]]\n",
      "Iteration:  24%|██▎       | 237/1001 [00:21<01:01, 12.46it/s]\n",
      "Iteration:  69%|██████▉   | 693/1001 [01:04<00:28, 10.74it/s]"
     ]
    },
    {
     "name": "stdout",
     "output_type": "stream",
     "text": [
      "{'Train':  best_epoch_indx:51\n",
      " auc:0.9807670262428342 \n",
      " apur:0.8813221983002776 \n",
      " f1:0.718880618228909 \n",
      " precision:0.5761830824275974 \n",
      " recall:0.9555263231548602 \n",
      ", 'Validation':  best_epoch_indx:51\n",
      " auc:0.9435983705332786 \n",
      " apur:0.7667030717219846 \n",
      " f1:0.6468752954523967 \n",
      " precision:0.5177841683063418 \n",
      " recall:0.861712846347607 \n",
      "}\n",
      "=====Epoch 52\n",
      "Training...\n"
     ]
    },
    {
     "name": "stderr",
     "output_type": "stream",
     "text": [
      "Iteration:  75%|███████▍  | 749/1001 [01:09<00:24, 10.14it/s]]\n",
      "Iteration:  52%|█████▏    | 517/1001 [00:46<00:40, 12.09it/s]\n",
      "Iteration:   0%|          | 0/1001 [00:00<?, ?it/s]"
     ]
    },
    {
     "name": "stdout",
     "output_type": "stream",
     "text": [
      "{'Train':  best_epoch_indx:51\n",
      " auc:0.9787972440597537 \n",
      " apur:0.8740700864904948 \n",
      " f1:0.712610309972337 \n",
      " precision:0.5708243461849555 \n",
      " recall:0.9481093789358784 \n",
      ", 'Validation':  best_epoch_indx:51\n",
      " auc:0.939829363023918 \n",
      " apur:0.7543712953895046 \n",
      " f1:0.636595744680851 \n",
      " precision:0.5096139288417866 \n",
      " recall:0.8478589420654912 \n",
      "}\n",
      "=====Epoch 52\n",
      "Training...\n"
     ]
    },
    {
     "name": "stderr",
     "output_type": "stream",
     "text": [
      "Iteration: 100%|██████████| 1001/1001 [01:34<00:00, 10.65it/s]\n",
      "Iteration:  60%|█████▉    | 599/1001 [00:50<00:31, 12.58it/s]"
     ]
    },
    {
     "name": "stdout",
     "output_type": "stream",
     "text": [
      "Evaluating...\n"
     ]
    },
    {
     "name": "stderr",
     "output_type": "stream",
     "text": [
      "Iteration: 100%|██████████| 1001/1001 [01:27<00:00, 11.49it/s]\n",
      "Iteration:  46%|████▌     | 459/1001 [00:40<00:49, 10.86it/s]"
     ]
    },
    {
     "name": "stdout",
     "output_type": "stream",
     "text": [
      "Evaluating...\n"
     ]
    },
    {
     "name": "stderr",
     "output_type": "stream",
     "text": [
      "Iteration: 100%|██████████| 1001/1001 [01:24<00:00, 11.79it/s]\n",
      "Iteration:   0%|          | 0/1001 [00:00<?, ?it/s]"
     ]
    },
    {
     "name": "stdout",
     "output_type": "stream",
     "text": [
      "Evaluating...\n"
     ]
    },
    {
     "name": "stderr",
     "output_type": "stream",
     "text": [
      "Iteration:  58%|█████▊    | 585/1001 [00:27<00:19, 21.19it/s]]\n",
      "Iteration:  70%|███████   | 704/1001 [00:33<00:13, 21.34it/s]\n",
      "Iteration:  97%|█████████▋| 971/1001 [01:25<00:02, 10.34it/s]"
     ]
    },
    {
     "name": "stdout",
     "output_type": "stream",
     "text": [
      "{'Train':  best_epoch_indx:52\n",
      " auc:0.9740675557766134 \n",
      " apur:0.8514078974837462 \n",
      " f1:0.6818421265904855 \n",
      " precision:0.5343272681083484 \n",
      " recall:0.9418695773859502 \n",
      ", 'Validation':  best_epoch_indx:52\n",
      " auc:0.9427578585400646 \n",
      " apur:0.749929448490251 \n",
      " f1:0.6310483870967742 \n",
      " precision:0.4959665802362432 \n",
      " recall:0.8672544080604534 \n",
      "}\n",
      "=====Epoch 53\n",
      "Training...\n"
     ]
    },
    {
     "name": "stderr",
     "output_type": "stream",
     "text": [
      "Iteration: 100%|██████████| 1001/1001 [01:28<00:00, 11.34it/s]\n",
      "Iteration:   0%|          | 2/1001 [00:00<01:07, 14.71it/s]s]"
     ]
    },
    {
     "name": "stdout",
     "output_type": "stream",
     "text": [
      "Evaluating...\n"
     ]
    },
    {
     "name": "stderr",
     "output_type": "stream",
     "text": [
      "Iteration: 100%|██████████| 1001/1001 [01:30<00:00, 11.09it/s]\n",
      "Iteration:  78%|███████▊  | 785/1001 [00:37<00:10, 19.95it/s]"
     ]
    },
    {
     "name": "stdout",
     "output_type": "stream",
     "text": [
      "Evaluating...\n"
     ]
    },
    {
     "name": "stderr",
     "output_type": "stream",
     "text": [
      "Iteration:   2%|▏         | 17/1001 [00:00<00:46, 21.31it/s]]\n",
      "Iteration:  92%|█████████▏| 918/1001 [00:44<00:04, 19.58it/s]\n",
      "Iteration:  15%|█▍        | 149/1001 [00:06<00:39, 21.78it/s]"
     ]
    },
    {
     "name": "stdout",
     "output_type": "stream",
     "text": [
      "{'Train':  best_epoch_indx:52\n",
      " auc:0.9765794617919897 \n",
      " apur:0.8645017826210945 \n",
      " f1:0.6801029159519726 \n",
      " precision:0.5282817171983206 \n",
      " recall:0.9543787959360743 \n",
      ", 'Validation':  best_epoch_indx:52\n",
      " auc:0.9442988121943262 \n",
      " apur:0.768234100976108 \n",
      " f1:0.626233626413063 \n",
      " precision:0.4863433667781494 \n",
      " recall:0.8790931989924433 \n",
      "}\n",
      "=====Epoch 53\n",
      "Training...\n"
     ]
    },
    {
     "name": "stderr",
     "output_type": "stream",
     "text": [
      "Iteration:  31%|███▏      | 313/1001 [00:29<01:08, 10.03it/s]]\n",
      "Iteration:  14%|█▍        | 141/1001 [00:12<01:18, 10.97it/s]\n",
      "Iteration:  37%|███▋      | 370/1001 [00:35<01:04,  9.74it/s]"
     ]
    },
    {
     "name": "stdout",
     "output_type": "stream",
     "text": [
      "{'Train':  best_epoch_indx:52\n",
      " auc:0.9794912889870013 \n",
      " apur:0.8777933991675024 \n",
      " f1:0.7053702516594635 \n",
      " precision:0.5592975782518159 \n",
      " recall:0.9547146575610849 \n",
      ", 'Validation':  best_epoch_indx:52\n",
      " auc:0.9453320317873897 \n",
      " apur:0.7600325383000471 \n",
      " f1:0.6352160692895973 \n",
      " precision:0.5007990701728897 \n",
      " recall:0.8682619647355164 \n",
      "}\n",
      "=====Epoch 53\n",
      "Training...\n"
     ]
    },
    {
     "name": "stderr",
     "output_type": "stream",
     "text": [
      "Iteration:  27%|██▋       | 271/1001 [00:22<01:02, 11.73it/s]]\n",
      "Iteration:  66%|██████▌   | 660/1001 [01:03<00:34,  9.96it/s]]\n",
      "Iteration:  44%|████▍     | 445/1001 [00:40<00:46, 11.97it/s]"
     ]
    },
    {
     "name": "stdout",
     "output_type": "stream",
     "text": [
      "{'Train':  best_epoch_indx:52\n",
      " auc:0.9791691964267881 \n",
      " apur:0.8765261466842174 \n",
      " f1:0.7145238547403514 \n",
      " precision:0.5734170998933161 \n",
      " recall:0.947745528842117 \n",
      ", 'Validation':  best_epoch_indx:52\n",
      " auc:0.9423662118970169 \n",
      " apur:0.7636098303712605 \n",
      " f1:0.6384352449677174 \n",
      " precision:0.512343797622676 \n",
      " recall:0.8468513853904283 \n",
      "}\n",
      "=====Epoch 53\n",
      "Training...\n"
     ]
    },
    {
     "name": "stderr",
     "output_type": "stream",
     "text": [
      "Iteration:  68%|██████▊   | 680/1001 [01:05<00:32,  9.86it/s]\n",
      "Iteration:  53%|█████▎    | 535/1001 [00:48<00:39, 11.68it/s]\n",
      "Iteration:  73%|███████▎  | 735/1001 [01:11<00:27,  9.77it/s]"
     ]
    },
    {
     "name": "stdout",
     "output_type": "stream",
     "text": [
      "{'Train':  best_epoch_indx:52\n",
      " auc:0.9773596103657959 \n",
      " apur:0.8688092633199332 \n",
      " f1:0.7077929615364323 \n",
      " precision:0.5680771054949523 \n",
      " recall:0.9386492764980828 \n",
      ", 'Validation':  best_epoch_indx:52\n",
      " auc:0.9393945634213934 \n",
      " apur:0.7556095003339542 \n",
      " f1:0.6302426180176792 \n",
      " precision:0.5028511404561825 \n",
      " recall:0.844080604534005 \n",
      "}\n",
      "=====Epoch 53\n",
      "Training...\n"
     ]
    },
    {
     "name": "stderr",
     "output_type": "stream",
     "text": [
      "Iteration:  28%|██▊       | 279/1001 [00:26<01:09, 10.44it/s]]\n",
      "Iteration:   0%|          | 0/1001 [00:00<?, ?it/s]"
     ]
    },
    {
     "name": "stdout",
     "output_type": "stream",
     "text": [
      "Evaluating...\n"
     ]
    },
    {
     "name": "stderr",
     "output_type": "stream",
     "text": [
      "Iteration: 100%|██████████| 1001/1001 [01:26<00:00, 11.53it/s]\n",
      "Iteration:   0%|          | 1/1001 [00:00<01:41,  9.81it/s]s]"
     ]
    },
    {
     "name": "stdout",
     "output_type": "stream",
     "text": [
      "Evaluating...\n"
     ]
    },
    {
     "name": "stderr",
     "output_type": "stream",
     "text": [
      "Iteration: 100%|██████████| 1001/1001 [01:25<00:00, 11.76it/s]\n",
      "Iteration:  48%|████▊     | 477/1001 [00:22<00:24, 21.31it/s]"
     ]
    },
    {
     "name": "stdout",
     "output_type": "stream",
     "text": [
      "Evaluating...\n"
     ]
    },
    {
     "name": "stderr",
     "output_type": "stream",
     "text": [
      "Iteration:  75%|███████▌  | 754/1001 [00:38<00:14, 17.13it/s]]\n",
      "Iteration:  93%|█████████▎| 927/1001 [01:23<00:06, 12.24it/s]\n",
      "Iteration:  93%|█████████▎| 929/1001 [01:23<00:05, 12.15it/s]"
     ]
    },
    {
     "name": "stdout",
     "output_type": "stream",
     "text": [
      "{'Train':  best_epoch_indx:53\n",
      " auc:0.9714546090042865 \n",
      " apur:0.8368176063966787 \n",
      " f1:0.7079555584545474 \n",
      " precision:0.5788004835039818 \n",
      " recall:0.91130702490904 \n",
      ", 'Validation':  best_epoch_indx:53\n",
      " auc:0.9389315380376473 \n",
      " apur:0.7327145179107912 \n",
      " f1:0.6422198254730855 \n",
      " precision:0.5257665756943329 \n",
      " recall:0.8249370277078085 \n",
      "}\n",
      "=====Epoch 54\n",
      "Training...\n"
     ]
    },
    {
     "name": "stderr",
     "output_type": "stream",
     "text": [
      "Iteration: 100%|██████████| 1001/1001 [01:32<00:00, 10.80it/s]\n",
      "Iteration:  89%|████████▉ | 894/1001 [00:46<00:05, 20.16it/s]"
     ]
    },
    {
     "name": "stdout",
     "output_type": "stream",
     "text": [
      "Evaluating...\n"
     ]
    },
    {
     "name": "stderr",
     "output_type": "stream",
     "text": [
      "Iteration: 100%|██████████| 1001/1001 [01:29<00:00, 11.18it/s]\n",
      "Iteration:   9%|▊         | 86/1001 [00:04<00:45, 20.22it/s]"
     ]
    },
    {
     "name": "stdout",
     "output_type": "stream",
     "text": [
      "Evaluating...\n"
     ]
    },
    {
     "name": "stderr",
     "output_type": "stream",
     "text": [
      "Iteration:  19%|█▊        | 187/1001 [00:09<00:39, 20.54it/s]]\n",
      "Iteration:  22%|██▏       | 218/1001 [00:10<00:37, 21.10it/s]]"
     ]
    },
    {
     "name": "stdout",
     "output_type": "stream",
     "text": [
      "{'Train':  best_epoch_indx:53\n",
      " auc:0.9719036574913592 \n",
      " apur:0.842723718426564 \n",
      " f1:0.6935968063031274 \n",
      " precision:0.5560735035805973 \n",
      " recall:0.9214923451537966 \n",
      ", 'Validation':  best_epoch_indx:53\n",
      " auc:0.9410948774535667 \n",
      " apur:0.7542391462267735 \n",
      " f1:0.6361734499809814 \n",
      " precision:0.5109990834097159 \n",
      " recall:0.8425692695214105 \n",
      "}\n",
      "=====Epoch 54\n",
      "Training...\n"
     ]
    },
    {
     "name": "stderr",
     "output_type": "stream",
     "text": [
      "\n",
      "Iteration:  22%|██▏       | 224/1001 [00:10<00:36, 21.06it/s]\n",
      "Iteration:  34%|███▍      | 344/1001 [00:16<00:31, 21.13it/s]\n",
      "Iteration:  41%|████      | 409/1001 [00:20<00:34, 17.34it/s]"
     ]
    },
    {
     "name": "stdout",
     "output_type": "stream",
     "text": [
      "{'Train':  best_epoch_indx:53\n",
      " auc:0.9752492678551827 \n",
      " apur:0.855442326154888 \n",
      " f1:0.6939099262433558 \n",
      " precision:0.5490244021712554 \n",
      " recall:0.9426796159982087 \n",
      ", 'Validation':  best_epoch_indx:53\n",
      " auc:0.9414204682256817 \n",
      " apur:0.7439718171659256 \n",
      " f1:0.6280121872403288 \n",
      " precision:0.49570033522810086 \n",
      " recall:0.8566750629722922 \n",
      "}\n",
      "=====Epoch 54\n",
      "Training...\n"
     ]
    },
    {
     "name": "stderr",
     "output_type": "stream",
     "text": [
      "Iteration:  44%|████▍     | 440/1001 [00:39<00:47, 11.85it/s]]\n",
      "Iteration:  64%|██████▍   | 641/1001 [00:57<00:35, 10.12it/s]\n",
      "Iteration:  68%|██████▊   | 685/1001 [01:01<00:31, 10.04it/s]\n",
      "Iteration:  86%|████████▌ | 96/112 [00:04<00:00, 20.52it/s]s]"
     ]
    },
    {
     "name": "stdout",
     "output_type": "stream",
     "text": [
      "{'Train':  best_epoch_indx:53\n",
      " auc:0.9732749768089425 \n",
      " apur:0.8374384563197306 \n",
      " f1:0.7006930116912661 \n",
      " precision:0.5632803728778961 \n",
      " recall:0.926782165747712 \n",
      ", 'Validation':  best_epoch_indx:53\n",
      " auc:0.9373269928040113 \n",
      " apur:0.7329290148801225 \n",
      " f1:0.6306753147653569 \n",
      " precision:0.5075222597482346 \n",
      " recall:0.8327455919395466 \n",
      "}\n",
      "=====Epoch 54\n",
      "Training...\n"
     ]
    },
    {
     "name": "stderr",
     "output_type": "stream",
     "text": [
      "Iteration:   1%|          | 12/1001 [00:01<01:30, 10.95it/s]]"
     ]
    },
    {
     "name": "stdout",
     "output_type": "stream",
     "text": [
      "{'Train':  best_epoch_indx:53\n",
      " auc:0.9748607411555869 \n",
      " apur:0.8580997971889598 \n",
      " f1:0.7037181830668934 \n",
      " precision:0.5652476491156602 \n",
      " recall:0.9320439978728764 \n",
      ", 'Validation':  best_epoch_indx:53\n",
      " auc:0.9395163508530606 \n",
      " apur:0.7510279996940668 \n",
      " f1:0.6315988647114475 \n",
      " precision:0.5057575757575757 \n",
      " recall:0.8408060453400503 \n",
      "}\n",
      "=====Epoch 54\n",
      "Training...\n"
     ]
    },
    {
     "name": "stderr",
     "output_type": "stream",
     "text": [
      "\n",
      "Iteration: 100%|██████████| 1001/1001 [01:33<00:00, 10.72it/s]\n",
      "Iteration:  74%|███████▍  | 744/1001 [01:10<00:24, 10.28it/s]"
     ]
    },
    {
     "name": "stdout",
     "output_type": "stream",
     "text": [
      "Evaluating...\n"
     ]
    },
    {
     "name": "stderr",
     "output_type": "stream",
     "text": [
      "Iteration: 100%|██████████| 1001/1001 [01:26<00:00, 11.53it/s]\n",
      "Iteration:  48%|████▊     | 483/1001 [00:40<00:49, 10.52it/s]"
     ]
    },
    {
     "name": "stdout",
     "output_type": "stream",
     "text": [
      "Evaluating...\n"
     ]
    },
    {
     "name": "stderr",
     "output_type": "stream",
     "text": [
      "Iteration: 100%|██████████| 1001/1001 [01:36<00:00, 10.40it/s]\n",
      "Iteration:   0%|          | 2/1001 [00:00<01:16, 13.12it/s]s]"
     ]
    },
    {
     "name": "stdout",
     "output_type": "stream",
     "text": [
      "Evaluating...\n"
     ]
    },
    {
     "name": "stderr",
     "output_type": "stream",
     "text": [
      "Iteration:  84%|████████▍ | 841/1001 [00:40<00:07, 21.60it/s]]\n",
      "Iteration: 100%|██████████| 1001/1001 [01:24<00:00, 11.81it/s]\n",
      "Iteration:  53%|█████▎    | 59/112 [00:02<00:02, 20.44it/s]"
     ]
    },
    {
     "name": "stdout",
     "output_type": "stream",
     "text": [
      "Evaluating...\n"
     ]
    },
    {
     "name": "stderr",
     "output_type": "stream",
     "text": [
      "Iteration: 100%|██████████| 1001/1001 [01:26<00:00, 11.58it/s]\n",
      "Iteration:   0%|          | 0/1001 [00:00<?, ?it/s]\n",
      "Iteration:   6%|▌         | 59/1001 [00:02<00:45, 20.51it/s]]"
     ]
    },
    {
     "name": "stdout",
     "output_type": "stream",
     "text": [
      "{'Train':  best_epoch_indx:54\n",
      " auc:0.9667670733968512 \n",
      " apur:0.8178989337493766 \n",
      " f1:0.6638105294916277 \n",
      " precision:0.5180598069225335 \n",
      " recall:0.9236775818639799 \n",
      ", 'Validation':  best_epoch_indx:54\n",
      " auc:0.9377230066002729 \n",
      " apur:0.7259668134768337 \n",
      " f1:0.6159006436406491 \n",
      " precision:0.48109332955672 \n",
      " recall:0.8556675062972292 \n",
      "}\n",
      "=====Epoch 55\n",
      "Training...\n",
      "Evaluating...\n"
     ]
    },
    {
     "name": "stderr",
     "output_type": "stream",
     "text": [
      "Iteration:  15%|█▍        | 148/1001 [00:07<00:41, 20.51it/s]]\n",
      "Iteration:  26%|██▌       | 262/1001 [00:12<00:36, 20.52it/s]"
     ]
    },
    {
     "name": "stdout",
     "output_type": "stream",
     "text": [
      "{'Train':  best_epoch_indx:54\n",
      " auc:0.9657770491449236 \n",
      " apur:0.8184824953889528 \n",
      " f1:0.6727486206502427 \n",
      " precision:0.5349847964040191 \n",
      " recall:0.9060706988720647 \n",
      ", 'Validation':  best_epoch_indx:54\n",
      " auc:0.936210655870984 \n",
      " apur:0.7325870401630357 \n",
      " f1:0.6247893652873994 \n",
      " precision:0.4971692491060787 \n",
      " recall:0.8405541561712846 \n",
      "}\n",
      "=====Epoch 55\n",
      "Training...\n"
     ]
    },
    {
     "name": "stderr",
     "output_type": "stream",
     "text": [
      "\n",
      "Iteration:  47%|████▋     | 471/1001 [00:23<00:26, 20.29it/s]]\n",
      "Iteration:  58%|█████▊    | 582/1001 [00:28<00:21, 19.68it/s]\n",
      "Iteration:  31%|███       | 307/1001 [00:25<00:58, 11.83it/s]"
     ]
    },
    {
     "name": "stdout",
     "output_type": "stream",
     "text": [
      "{'Train':  best_epoch_indx:54\n",
      " auc:0.9720274384204162 \n",
      " apur:0.843924918563492 \n",
      " f1:0.6705649909194324 \n",
      " precision:0.5210514073040242 \n",
      " recall:0.9404125500293878 \n",
      ", 'Validation':  best_epoch_indx:54\n",
      " auc:0.9419778309759991 \n",
      " apur:0.7452984065009683 \n",
      " f1:0.6166904932094354 \n",
      " precision:0.4778454721683744 \n",
      " recall:0.8692695214105793 \n",
      "}\n",
      "=====Epoch 55\n",
      "Training...\n"
     ]
    },
    {
     "name": "stderr",
     "output_type": "stream",
     "text": [
      "Iteration:  28%|██▊       | 279/1001 [00:23<01:01, 11.81it/s]]\n",
      "Iteration:  31%|███       | 309/1001 [00:25<01:06, 10.40it/s]]\n",
      "Iteration:  56%|█████▋    | 63/112 [00:03<00:02, 20.41it/s]s]\n",
      "Iteration:  50%|█████     | 501/1001 [00:44<00:49, 10.14it/s]"
     ]
    },
    {
     "name": "stdout",
     "output_type": "stream",
     "text": [
      "{'Train':  best_epoch_indx:54\n",
      " auc:0.9698888027975071 \n",
      " apur:0.8342613650431184 \n",
      " f1:0.6568658116984674 \n",
      " precision:0.5046939541870071 \n",
      " recall:0.9404125500293878 \n",
      ", 'Validation':  best_epoch_indx:54\n",
      " auc:0.9347669581616437 \n",
      " apur:0.7295818048157385 \n",
      " f1:0.6031857167862769 \n",
      " precision:0.46217811158798283 \n",
      " recall:0.8680100755667506 \n",
      "}\n",
      "=====Epoch 55\n",
      "Training...\n"
     ]
    },
    {
     "name": "stderr",
     "output_type": "stream",
     "text": [
      "Iteration:  68%|██████▊   | 685/1001 [00:57<00:26, 12.14it/s]\n",
      "Iteration:   3%|▎         | 31/1001 [00:02<01:20, 12.09it/s]"
     ]
    },
    {
     "name": "stdout",
     "output_type": "stream",
     "text": [
      "{'Train':  best_epoch_indx:54\n",
      " auc:0.9704070104938384 \n",
      " apur:0.8386506378982382 \n",
      " f1:0.6556105546244688 \n",
      " precision:0.502877472010045 \n",
      " recall:0.9415880657169247 \n",
      ", 'Validation':  best_epoch_indx:54\n",
      " auc:0.9359746538827507 \n",
      " apur:0.7322872738880165 \n",
      " f1:0.5982772122161315 \n",
      " precision:0.4569985378173601 \n",
      " recall:0.8659949622166246 \n",
      "}\n",
      "=====Epoch 55\n",
      "Training...\n"
     ]
    },
    {
     "name": "stderr",
     "output_type": "stream",
     "text": [
      "Iteration: 100%|██████████| 1001/1001 [01:27<00:00, 11.46it/s]\n",
      "Iteration:  35%|███▌      | 353/1001 [00:29<01:04, 10.07it/s]"
     ]
    },
    {
     "name": "stdout",
     "output_type": "stream",
     "text": [
      "Evaluating...\n"
     ]
    },
    {
     "name": "stderr",
     "output_type": "stream",
     "text": [
      "Iteration: 100%|██████████| 1001/1001 [01:28<00:00, 11.25it/s]\n",
      "Iteration:  48%|████▊     | 483/1001 [00:44<00:50, 10.27it/s]"
     ]
    },
    {
     "name": "stdout",
     "output_type": "stream",
     "text": [
      "Evaluating...\n"
     ]
    },
    {
     "name": "stderr",
     "output_type": "stream",
     "text": [
      "Iteration: 100%|██████████| 1001/1001 [01:26<00:00, 11.56it/s]\n",
      "Iteration:   0%|          | 2/1001 [00:00<01:04, 15.60it/s]s]"
     ]
    },
    {
     "name": "stdout",
     "output_type": "stream",
     "text": [
      "Evaluating...\n"
     ]
    },
    {
     "name": "stderr",
     "output_type": "stream",
     "text": [
      "Iteration:  94%|█████████▎| 938/1001 [01:22<00:05, 10.79it/s]]\n",
      "Iteration: 100%|██████████| 1001/1001 [01:27<00:00, 11.42it/s]\n",
      "Iteration:  90%|█████████ | 901/1001 [00:46<00:05, 19.98it/s]"
     ]
    },
    {
     "name": "stdout",
     "output_type": "stream",
     "text": [
      "Evaluating...\n"
     ]
    },
    {
     "name": "stderr",
     "output_type": "stream",
     "text": [
      "Iteration:  60%|█████▉    | 597/1001 [00:33<00:21, 18.84it/s]\n",
      "Iteration:  91%|█████████ | 909/1001 [00:46<00:04, 19.35it/s]"
     ]
    },
    {
     "name": "stdout",
     "output_type": "stream",
     "text": [
      "{'Train':  best_epoch_indx:55\n",
      " auc:0.9677425951199206 \n",
      " apur:0.8256624591435081 \n",
      " f1:0.6723714379299051 \n",
      " precision:0.53003259852177 \n",
      " recall:0.9192275398824518 \n",
      ", 'Validation':  best_epoch_indx:55\n",
      " auc:0.9371707181477031 \n",
      " apur:0.7252263132290033 \n",
      " f1:0.6172046955245781 \n",
      " precision:0.48528987597346407 \n",
      " recall:0.8476070528967254 \n",
      "}\n",
      "=====Epoch 56\n",
      "Training...\n",
      "Evaluating...\n"
     ]
    },
    {
     "name": "stderr",
     "output_type": "stream",
     "text": [
      "Iteration: 100%|██████████| 1001/1001 [01:30<00:00, 11.03it/s]\n",
      "Iteration:  12%|█▏        | 116/1001 [00:07<00:46, 19.17it/s]]\n",
      "Iteration:  86%|████████▋ | 864/1001 [00:45<00:06, 20.53it/s]\n",
      "Iteration:   0%|          | 0/1001 [00:00<?, ?it/s]"
     ]
    },
    {
     "name": "stdout",
     "output_type": "stream",
     "text": [
      "{'Train':  best_epoch_indx:55\n",
      " auc:0.9722407837193702 \n",
      " apur:0.8460556721414689 \n",
      " f1:0.6658443442307502 \n",
      " precision:0.5142203932327389 \n",
      " recall:0.9442749587170086 \n",
      ", 'Validation':  best_epoch_indx:55\n",
      " auc:0.9419912152934534 \n",
      " apur:0.7498260707644204 \n",
      " f1:0.6181140778852123 \n",
      " precision:0.47706422018348627 \n",
      " recall:0.8775818639798488 \n",
      "}\n",
      "=====Epoch 56\n",
      "Training...\n"
     ]
    },
    {
     "name": "stderr",
     "output_type": "stream",
     "text": [
      "Iteration:  41%|████      | 407/1001 [00:22<00:29, 20.18it/s]]\n",
      "Iteration:  29%|██▉       | 290/1001 [00:27<01:13,  9.68it/s]\n",
      "Iteration:  52%|█████▏    | 519/1001 [00:28<00:24, 19.63it/s]"
     ]
    },
    {
     "name": "stdout",
     "output_type": "stream",
     "text": [
      "{'Train':  best_epoch_indx:55\n",
      " auc:0.9750888181483022 \n",
      " apur:0.8565631336650483 \n",
      " f1:0.6984649694140205 \n",
      " precision:0.556400464884609 \n",
      " recall:0.9379495647793109 \n",
      ", 'Validation':  best_epoch_indx:55\n",
      " auc:0.9427863800362727 \n",
      " apur:0.7466487282500165 \n",
      " f1:0.6313634248487668 \n",
      " precision:0.5006642066420665 \n",
      " recall:0.8544080604534005 \n",
      "}\n",
      "=====Epoch 56\n",
      "Training...\n"
     ]
    },
    {
     "name": "stderr",
     "output_type": "stream",
     "text": [
      "Iteration:  58%|█████▊    | 585/1001 [00:53<00:34, 11.96it/s]]\n",
      "Iteration:  60%|██████    | 605/1001 [00:55<00:32, 12.11it/s]\n",
      "Iteration:  70%|██████▉   | 78/112 [00:03<00:01, 20.76it/s]s]\n",
      "Iteration:  38%|███▊      | 385/1001 [00:31<00:51, 12.07it/s]"
     ]
    },
    {
     "name": "stdout",
     "output_type": "stream",
     "text": [
      "{'Train':  best_epoch_indx:55\n",
      " auc:0.9736776958663262 \n",
      " apur:0.8515529190367307 \n",
      " f1:0.6937745665342551 \n",
      " precision:0.5528213478665426 \n",
      " recall:0.9312043438103501 \n",
      ", 'Validation':  best_epoch_indx:55\n",
      " auc:0.9382602993029955 \n",
      " apur:0.7449452801178806 \n",
      " f1:0.6279525721221174 \n",
      " precision:0.49888740542946153 \n",
      " recall:0.847103274559194 \n",
      "}\n",
      "=====Epoch 56\n",
      "Training...\n"
     ]
    },
    {
     "name": "stderr",
     "output_type": "stream",
     "text": [
      "Iteration:  66%|██████▋   | 665/1001 [01:00<00:33, 10.04it/s]\n",
      "Iteration:  67%|██████▋   | 667/1001 [01:01<00:33, 10.04it/s]"
     ]
    },
    {
     "name": "stdout",
     "output_type": "stream",
     "text": [
      "{'Train':  best_epoch_indx:55\n",
      " auc:0.9760214319360465 \n",
      " apur:0.8611102298416887 \n",
      " f1:0.6947781217750257 \n",
      " precision:0.5502934397018195 \n",
      " recall:0.9421478350919421 \n",
      ", 'Validation':  best_epoch_indx:55\n",
      " auc:0.9409424470920886 \n",
      " apur:0.7491004970245527 \n",
      " f1:0.628767504405082 \n",
      " precision:0.49757815940114486 \n",
      " recall:0.853904282115869 \n",
      "}\n",
      "=====Epoch 56\n",
      "Training...\n"
     ]
    },
    {
     "name": "stderr",
     "output_type": "stream",
     "text": [
      "Iteration: 100%|██████████| 1001/1001 [01:34<00:00, 10.64it/s]\n",
      "Iteration:  39%|███▉      | 391/1001 [00:35<00:57, 10.59it/s]"
     ]
    },
    {
     "name": "stdout",
     "output_type": "stream",
     "text": [
      "Evaluating...\n"
     ]
    },
    {
     "name": "stderr",
     "output_type": "stream",
     "text": [
      "Iteration: 100%|██████████| 1001/1001 [01:24<00:00, 11.91it/s]\n",
      "Iteration:   6%|▋         | 64/1001 [00:03<00:43, 21.61it/s]]"
     ]
    },
    {
     "name": "stdout",
     "output_type": "stream",
     "text": [
      "Evaluating...\n"
     ]
    },
    {
     "name": "stderr",
     "output_type": "stream",
     "text": [
      "Iteration: 100%|██████████| 1001/1001 [01:28<00:00, 11.32it/s]\n",
      "Iteration:  64%|██████▎   | 637/1001 [00:55<00:35, 10.28it/s]"
     ]
    },
    {
     "name": "stdout",
     "output_type": "stream",
     "text": [
      "Evaluating...\n"
     ]
    },
    {
     "name": "stderr",
     "output_type": "stream",
     "text": [
      "Iteration: 100%|█████████▉| 998/1001 [01:28<00:00, 12.28it/s]]\n",
      "Iteration:  97%|█████████▋| 974/1001 [01:27<00:02, 11.84it/s]]\n",
      "Iteration: 100%|██████████| 1001/1001 [01:29<00:00, 11.22it/s]\n",
      "Iteration:   5%|▌         | 6/112 [00:00<00:05, 20.42it/s]"
     ]
    },
    {
     "name": "stdout",
     "output_type": "stream",
     "text": [
      "Evaluating...\n"
     ]
    },
    {
     "name": "stderr",
     "output_type": "stream",
     "text": [
      "Iteration: 100%|██████████| 1001/1001 [01:29<00:00, 11.16it/s]\n",
      "Iteration:  46%|████▌     | 51/112 [00:02<00:02, 20.67it/s]]]"
     ]
    },
    {
     "name": "stdout",
     "output_type": "stream",
     "text": [
      "Evaluating...\n"
     ]
    },
    {
     "name": "stderr",
     "output_type": "stream",
     "text": [
      "Iteration:   9%|▉         | 91/1001 [00:04<00:45, 20.19it/s]]\n",
      "Iteration:   9%|▉         | 94/1001 [00:04<00:44, 20.24it/s]]"
     ]
    },
    {
     "name": "stdout",
     "output_type": "stream",
     "text": [
      "{'Train':  best_epoch_indx:56\n",
      " auc:0.9733543683586754 \n",
      " apur:0.852998340696938 \n",
      " f1:0.6704301502743102 \n",
      " precision:0.5197959529643842 \n",
      " recall:0.9439950740294999 \n",
      ", 'Validation':  best_epoch_indx:56\n",
      " auc:0.9431707238048593 \n",
      " apur:0.7596767385844813 \n",
      " f1:0.6195130620223921 \n",
      " precision:0.4785831960461285 \n",
      " recall:0.8780856423173804 \n",
      "}\n",
      "=====Epoch 57\n",
      "Training...\n",
      "{'Train':  best_epoch_indx:56\n",
      " auc:0.9711949944622682 \n",
      " apur:0.8357273289165678 \n",
      " f1:0.6924873737373737 \n",
      " precision:0.5548305513404148 \n",
      " recall:0.920990764063812 \n",
      ", 'Validation':  best_epoch_indx:56\n",
      " auc:0.9427789571615269 \n",
      " apur:0.749229925327383 \n",
      " f1:0.6415702636070547 \n",
      " precision:0.5144464720194647 \n",
      " recall:0.8521410579345088 \n",
      "}\n",
      "=====Epoch 57\n",
      "Training...\n"
     ]
    },
    {
     "name": "stderr",
     "output_type": "stream",
     "text": [
      "Iteration:   0%|          | 1/1001 [00:00<01:54,  8.71it/s]\n",
      "Iteration:  45%|████▌     | 452/1001 [00:21<00:26, 21.05it/s]]\n",
      "Iteration:  60%|█████▉    | 596/1001 [00:28<00:19, 21.28it/s]\n",
      "Iteration:   0%|          | 1/1001 [00:00<01:50,  9.06it/s]s]"
     ]
    },
    {
     "name": "stdout",
     "output_type": "stream",
     "text": [
      "{'Train':  best_epoch_indx:56\n",
      " auc:0.9755522706496105 \n",
      " apur:0.8597195294686156 \n",
      " f1:0.7039206185349822 \n",
      " precision:0.564361118148805 \n",
      " recall:0.9351787063729743 \n",
      ", 'Validation':  best_epoch_indx:56\n",
      " auc:0.9414992441267789 \n",
      " apur:0.7455548754986526 \n",
      " f1:0.637194834574418 \n",
      " precision:0.5091128181955114 \n",
      " recall:0.8513853904282116 \n",
      "}\n",
      "=====Epoch 57\n",
      "Training...\n"
     ]
    },
    {
     "name": "stderr",
     "output_type": "stream",
     "text": [
      "Iteration:  25%|██▌       | 251/1001 [00:22<01:13, 10.25it/s]]\n",
      "Iteration:  52%|█████▏    | 524/1001 [00:47<00:52,  9.12it/s]]\n",
      "Iteration:  61%|██████    | 611/1001 [00:50<00:32, 11.97it/s]\n",
      "Iteration:  57%|█████▋    | 64/112 [00:03<00:02, 20.12it/s]"
     ]
    },
    {
     "name": "stdout",
     "output_type": "stream",
     "text": [
      "{'Train':  best_epoch_indx:56\n",
      " auc:0.9771889493762055 \n",
      " apur:0.8677037157747909 \n",
      " f1:0.7122586401002614 \n",
      " precision:0.5739152759948652 \n",
      " recall:0.9384813456855775 \n",
      ", 'Validation':  best_epoch_indx:56\n",
      " auc:0.9403904886403017 \n",
      " apur:0.7535201186953029 \n",
      " f1:0.6355441692760223 \n",
      " precision:0.509818846095296 \n",
      " recall:0.8435768261964736 \n",
      "}\n",
      "=====Epoch 57\n",
      "Training...\n"
     ]
    },
    {
     "name": "stderr",
     "output_type": "stream",
     "text": [
      "Iteration:  60%|██████    | 602/1001 [00:54<00:37, 10.58it/s]\n",
      "Iteration:   0%|          | 0/1001 [00:00<?, ?it/s]1.68it/s]"
     ]
    },
    {
     "name": "stdout",
     "output_type": "stream",
     "text": [
      "{'Train':  best_epoch_indx:56\n",
      " auc:0.9755543285217343 \n",
      " apur:0.8594076801283711 \n",
      " f1:0.7032173894745702 \n",
      " precision:0.563396665374176 \n",
      " recall:0.9353466371854796 \n",
      ", 'Validation':  best_epoch_indx:56\n",
      " auc:0.9390327239918883 \n",
      " apur:0.7487380788681952 \n",
      " f1:0.6315988289734631 \n",
      " precision:0.5052122677141562 \n",
      " recall:0.8423173803526448 \n",
      "}\n",
      "=====Epoch 57\n",
      "Training...\n"
     ]
    },
    {
     "name": "stderr",
     "output_type": "stream",
     "text": [
      "Iteration: 100%|██████████| 1001/1001 [01:22<00:00, 12.11it/s]\n",
      "Iteration:  34%|███▍      | 345/1001 [00:31<00:58, 11.18it/s]"
     ]
    },
    {
     "name": "stdout",
     "output_type": "stream",
     "text": [
      "Evaluating...\n"
     ]
    },
    {
     "name": "stderr",
     "output_type": "stream",
     "text": [
      "Iteration: 100%|██████████| 1001/1001 [01:32<00:00, 10.77it/s]\n",
      "Iteration:  22%|██▏       | 218/1001 [00:10<00:37, 20.79it/s]"
     ]
    },
    {
     "name": "stdout",
     "output_type": "stream",
     "text": [
      "Evaluating...\n"
     ]
    },
    {
     "name": "stderr",
     "output_type": "stream",
     "text": [
      "Iteration: 100%|██████████| 1001/1001 [01:33<00:00, 10.66it/s]\n",
      "Iteration:  73%|███████▎  | 729/1001 [01:04<00:22, 12.14it/s]"
     ]
    },
    {
     "name": "stdout",
     "output_type": "stream",
     "text": [
      "Evaluating...\n"
     ]
    },
    {
     "name": "stderr",
     "output_type": "stream",
     "text": [
      "Iteration:  95%|█████████▌| 951/1001 [01:22<00:04, 12.23it/s]]\n",
      "Iteration: 100%|██████████| 1001/1001 [01:27<00:00, 11.50it/s]\n",
      "Iteration:  77%|███████▋  | 86/112 [00:04<00:01, 20.26it/s]"
     ]
    },
    {
     "name": "stdout",
     "output_type": "stream",
     "text": [
      "Evaluating...\n"
     ]
    },
    {
     "name": "stderr",
     "output_type": "stream",
     "text": [
      "Iteration:   3%|▎         | 30/1001 [00:01<00:46, 20.66it/s]]\n",
      "Iteration:  49%|████▉     | 494/1001 [00:24<00:24, 20.61it/s]"
     ]
    },
    {
     "name": "stdout",
     "output_type": "stream",
     "text": [
      "{'Train':  best_epoch_indx:57\n",
      " auc:0.9774708395987797 \n",
      " apur:0.8692276718506101 \n",
      " f1:0.6838517983156162 \n",
      " precision:0.5331340386902899 \n",
      " recall:0.9533712110610428 \n",
      ", 'Validation':  best_epoch_indx:57\n",
      " auc:0.9446484158805292 \n",
      " apur:0.7630333489699352 \n",
      " f1:0.6270163107146075 \n",
      " precision:0.4881436789673074 \n",
      " recall:0.8763224181360202 \n",
      "}\n",
      "=====Epoch 58\n",
      "Training...\n"
     ]
    },
    {
     "name": "stderr",
     "output_type": "stream",
     "text": [
      "Iteration: 100%|██████████| 1001/1001 [01:26<00:00, 11.55it/s]\n",
      "Iteration:   2%|▏         | 25/1001 [00:02<01:37,  9.98it/s]]]"
     ]
    },
    {
     "name": "stdout",
     "output_type": "stream",
     "text": [
      "Evaluating...\n"
     ]
    },
    {
     "name": "stderr",
     "output_type": "stream",
     "text": [
      "Iteration:   4%|▍         | 43/1001 [00:02<00:54, 17.49it/s]]\n",
      "Iteration:  14%|█▍        | 141/1001 [00:08<00:49, 17.28it/s]\n",
      "Iteration:  71%|███████   | 712/1001 [00:34<00:13, 20.65it/s]"
     ]
    },
    {
     "name": "stdout",
     "output_type": "stream",
     "text": [
      "{'Train':  best_epoch_indx:57\n",
      " auc:0.977689380093673 \n",
      " apur:0.8688911871249323 \n",
      " f1:0.6996675133717447 \n",
      " precision:0.5543556515478761 \n",
      " recall:0.9482227819759306 \n",
      ", 'Validation':  best_epoch_indx:57\n",
      " auc:0.9455836166697195 \n",
      " apur:0.7636727848310267 \n",
      " f1:0.6385351798494285 \n",
      " precision:0.5059655324790102 \n",
      " recall:0.8652392947103275 \n",
      "}\n",
      "=====Epoch 58\n",
      "Training...\n"
     ]
    },
    {
     "name": "stderr",
     "output_type": "stream",
     "text": [
      "Iteration:  58%|█████▊    | 580/1001 [00:28<00:20, 20.66it/s]]\n",
      "Iteration:  33%|███▎      | 331/1001 [00:32<00:56, 11.85it/s]\n",
      "Iteration:  70%|██████▉   | 696/1001 [00:34<00:15, 20.29it/s]"
     ]
    },
    {
     "name": "stdout",
     "output_type": "stream",
     "text": [
      "{'Train':  best_epoch_indx:57\n",
      " auc:0.9782580661839918 \n",
      " apur:0.8700199487745588 \n",
      " f1:0.7114469751189324 \n",
      " precision:0.5701128485400536 \n",
      " recall:0.9459542668420611 \n",
      ", 'Validation':  best_epoch_indx:57\n",
      " auc:0.9437385565800056 \n",
      " apur:0.7507719126616068 \n",
      " f1:0.6367048226684181 \n",
      " precision:0.5073265550239234 \n",
      " recall:0.8546599496221663 \n",
      "}\n",
      "=====Epoch 58\n",
      "Training...\n"
     ]
    },
    {
     "name": "stderr",
     "output_type": "stream",
     "text": [
      "Iteration:  91%|█████████ | 909/1001 [00:47<00:04, 20.59it/s]]\n",
      "Iteration:  59%|█████▊    | 587/1001 [00:55<00:34, 11.89it/s]]\n",
      "Iteration:  59%|█████▉    | 589/1001 [00:55<00:34, 11.86it/s]"
     ]
    },
    {
     "name": "stdout",
     "output_type": "stream",
     "text": [
      "{'Train':  best_epoch_indx:57\n",
      " auc:0.9795634872701481 \n",
      " apur:0.8786422365085048 \n",
      " f1:0.7107356800100363 \n",
      " precision:0.5672518523463054 \n",
      " recall:0.9513840297797308 \n",
      ", 'Validation':  best_epoch_indx:57\n",
      " auc:0.9413693309615563 \n",
      " apur:0.7567025839058994 \n",
      " f1:0.6336005966809622 \n",
      " precision:0.5029603315571344 \n",
      " recall:0.8559193954659949 \n",
      "}\n",
      "=====Epoch 58\n",
      "Training...\n"
     ]
    },
    {
     "name": "stderr",
     "output_type": "stream",
     "text": [
      "Iteration:   1%|▏         | 13/1001 [00:01<01:30, 10.91it/s]]\n",
      "Iteration:   7%|▋         | 75/1001 [00:06<01:24, 10.96it/s]]\n",
      "Iteration:   8%|▊         | 77/1001 [00:07<01:24, 10.95it/s]]"
     ]
    },
    {
     "name": "stdout",
     "output_type": "stream",
     "text": [
      "{'Train':  best_epoch_indx:57\n",
      " auc:0.981262312579186 \n",
      " apur:0.8865375548343488 \n",
      " f1:0.7269318534866033 \n",
      " precision:0.5888672892005415 \n",
      " recall:0.9495647793109239 \n",
      ", 'Validation':  best_epoch_indx:57\n",
      " auc:0.9436636678309838 \n",
      " apur:0.768366173140715 \n",
      " f1:0.6473467037712312 \n",
      " precision:0.5228646721438537 \n",
      " recall:0.8496221662468514 \n",
      "}\n",
      "=====Epoch 58\n",
      "Training...\n"
     ]
    },
    {
     "name": "stderr",
     "output_type": "stream",
     "text": [
      "Iteration: 100%|██████████| 1001/1001 [01:33<00:00, 10.74it/s]\n",
      "Iteration:   0%|          | 2/1001 [00:00<01:04, 15.58it/s]s]"
     ]
    },
    {
     "name": "stdout",
     "output_type": "stream",
     "text": [
      "Evaluating...\n"
     ]
    },
    {
     "name": "stderr",
     "output_type": "stream",
     "text": [
      "Iteration: 100%|██████████| 1001/1001 [01:29<00:00, 11.19it/s]\n",
      "Iteration:  48%|████▊     | 482/1001 [00:44<00:44, 11.60it/s]"
     ]
    },
    {
     "name": "stdout",
     "output_type": "stream",
     "text": [
      "Evaluating...\n"
     ]
    },
    {
     "name": "stderr",
     "output_type": "stream",
     "text": [
      "Iteration: 100%|██████████| 1001/1001 [01:24<00:00, 11.83it/s]\n",
      "Iteration:  60%|█████▉    | 599/1001 [00:54<00:39, 10.06it/s]"
     ]
    },
    {
     "name": "stdout",
     "output_type": "stream",
     "text": [
      "Evaluating...\n"
     ]
    },
    {
     "name": "stderr",
     "output_type": "stream",
     "text": [
      "Iteration:  98%|█████████▊| 983/1001 [01:31<00:01, 10.04it/s]]\n",
      "Iteration: 100%|██████████| 1001/1001 [01:33<00:00, 10.75it/s]\n",
      "Iteration:   0%|          | 2/1001 [00:00<01:11, 14.06it/s]s]"
     ]
    },
    {
     "name": "stdout",
     "output_type": "stream",
     "text": [
      "Evaluating...\n"
     ]
    },
    {
     "name": "stderr",
     "output_type": "stream",
     "text": [
      "Iteration:  69%|██████▉   | 695/1001 [00:35<00:14, 20.82it/s]]\n",
      "Iteration:   0%|          | 0/1001 [00:00<?, ?it/s]"
     ]
    },
    {
     "name": "stdout",
     "output_type": "stream",
     "text": [
      "{'Train':  best_epoch_indx:58\n",
      " auc:0.9820531061892156 \n",
      " apur:0.8892825255148598 \n",
      " f1:0.7179422835633625 \n",
      " precision:0.5730500242025671 \n",
      " recall:0.9609001091550281 \n",
      ", 'Validation':  best_epoch_indx:58\n",
      " auc:0.9482572872958528 \n",
      " apur:0.778845466245726 \n",
      " f1:0.6508786768160888 \n",
      " precision:0.5191125768250637 \n",
      " recall:0.8722921914357683 \n",
      "}\n",
      "=====Epoch 59\n",
      "Training...\n"
     ]
    },
    {
     "name": "stderr",
     "output_type": "stream",
     "text": [
      "Iteration:   7%|▋         | 68/1001 [00:03<00:54, 17.27it/s]]\n",
      "Iteration:   7%|▋         | 74/1001 [00:04<00:53, 17.28it/s]s]\n",
      "Iteration:   0%|          | 5/1001 [00:00<01:29, 11.16it/s]s]"
     ]
    },
    {
     "name": "stdout",
     "output_type": "stream",
     "text": [
      "Evaluating...\n"
     ]
    },
    {
     "name": "stderr",
     "output_type": "stream",
     "text": [
      "Iteration:  81%|████████  | 813/1001 [00:41<00:09, 20.30it/s]\n",
      "Iteration:  82%|████████▏ | 816/1001 [00:41<00:09, 20.23it/s]"
     ]
    },
    {
     "name": "stdout",
     "output_type": "stream",
     "text": [
      "{'Train':  best_epoch_indx:58\n",
      " auc:0.9803022944844811 \n",
      " apur:0.8801113754893655 \n",
      " f1:0.7225565912117177 \n",
      " precision:0.5832831713818901 \n",
      " recall:0.9492023509655751 \n",
      ", 'Validation':  best_epoch_indx:58\n",
      " auc:0.9474223896016667 \n",
      " apur:0.7703965371607031 \n",
      " f1:0.6555395683453238 \n",
      " precision:0.5293570875290472 \n",
      " recall:0.8607052896725441 \n",
      "}\n",
      "=====Epoch 59\n",
      "Training...\n"
     ]
    },
    {
     "name": "stderr",
     "output_type": "stream",
     "text": [
      "Iteration:  37%|███▋      | 370/1001 [00:21<00:31, 19.79it/s]]\n",
      "Iteration:  26%|██▌       | 262/1001 [00:23<01:01, 12.05it/s]\n",
      "Iteration:  47%|████▋     | 474/1001 [00:27<00:30, 17.52it/s]"
     ]
    },
    {
     "name": "stdout",
     "output_type": "stream",
     "text": [
      "{'Train':  best_epoch_indx:58\n",
      " auc:0.9837200142204449 \n",
      " apur:0.8987413473175931 \n",
      " f1:0.7311279122935741 \n",
      " precision:0.5895527507202634 \n",
      " recall:0.9621875787175683 \n",
      ", 'Validation':  best_epoch_indx:58\n",
      " auc:0.9479313493800572 \n",
      " apur:0.7740403188786721 \n",
      " f1:0.6442814145974417 \n",
      " precision:0.5141098769138397 \n",
      " recall:0.8627204030226701 \n",
      "}\n",
      "=====Epoch 59\n",
      "Training...\n"
     ]
    },
    {
     "name": "stderr",
     "output_type": "stream",
     "text": [
      "Iteration:  33%|███▎      | 329/1001 [00:29<00:55, 12.08it/s]]\n",
      "Iteration:  57%|█████▋    | 571/1001 [00:48<00:35, 11.97it/s]\n",
      "Iteration:  88%|████████▊ | 99/112 [00:04<00:00, 19.72it/s]s]\n",
      "Iteration:  40%|████      | 401/1001 [00:35<00:49, 12.18it/s]"
     ]
    },
    {
     "name": "stdout",
     "output_type": "stream",
     "text": [
      "{'Train':  best_epoch_indx:58\n",
      " auc:0.9833941108613117 \n",
      " apur:0.8966882367636536 \n",
      " f1:0.7483622350674373 \n",
      " precision:0.6168324379265282 \n",
      " recall:0.9511881104984746 \n",
      ", 'Validation':  best_epoch_indx:58\n",
      " auc:0.9441781047652199 \n",
      " apur:0.772215794686871 \n",
      " f1:0.6576771653543307 \n",
      " precision:0.5397415185783522 \n",
      " recall:0.8415617128463476 \n",
      "}\n",
      "=====Epoch 59\n",
      "Training...\n"
     ]
    },
    {
     "name": "stderr",
     "output_type": "stream",
     "text": [
      "Iteration:  64%|██████▍   | 639/1001 [00:53<00:30, 11.69it/s]\n",
      "Iteration:  64%|██████▍   | 641/1001 [00:54<00:30, 11.72it/s]"
     ]
    },
    {
     "name": "stdout",
     "output_type": "stream",
     "text": [
      "{'Train':  best_epoch_indx:58\n",
      " auc:0.9843935468471933 \n",
      " apur:0.9018026079075304 \n",
      " f1:0.7288862656646887 \n",
      " precision:0.58458157227388 \n",
      " recall:0.9677852724677433 \n",
      ", 'Validation':  best_epoch_indx:58\n",
      " auc:0.9460333948791936 \n",
      " apur:0.7780345554771324 \n",
      " f1:0.6453007518796993 \n",
      " precision:0.5146926536731634 \n",
      " recall:0.864735516372796 \n",
      "}\n",
      "=====Epoch 59\n",
      "Training...\n"
     ]
    },
    {
     "name": "stderr",
     "output_type": "stream",
     "text": [
      "Iteration: 100%|██████████| 1001/1001 [01:30<00:00, 11.01it/s]\n",
      "Iteration:  99%|█████████▉| 989/1001 [01:25<00:01, 10.21it/s]"
     ]
    },
    {
     "name": "stdout",
     "output_type": "stream",
     "text": [
      "Evaluating...\n"
     ]
    },
    {
     "name": "stderr",
     "output_type": "stream",
     "text": [
      "Iteration: 100%|██████████| 1001/1001 [01:26<00:00, 11.58it/s]\n",
      "Iteration:   3%|▎         | 27/1001 [00:01<00:47, 20.67it/s]"
     ]
    },
    {
     "name": "stdout",
     "output_type": "stream",
     "text": [
      "Evaluating...\n"
     ]
    },
    {
     "name": "stderr",
     "output_type": "stream",
     "text": [
      "Iteration: 100%|██████████| 1001/1001 [01:30<00:00, 11.04it/s]\n",
      "Iteration:  44%|████▍     | 444/1001 [00:21<00:27, 20.52it/s]"
     ]
    },
    {
     "name": "stdout",
     "output_type": "stream",
     "text": [
      "Evaluating...\n"
     ]
    },
    {
     "name": "stderr",
     "output_type": "stream",
     "text": [
      "Iteration:  62%|██████▏   | 616/1001 [00:30<00:19, 20.21it/s]]\n",
      "Iteration:   3%|▎         | 3/112 [00:00<00:04, 21.86it/s]/s]\n",
      "Iteration: 100%|██████████| 1001/1001 [01:25<00:00, 11.66it/s]\n",
      "Iteration:  94%|█████████▍| 941/1001 [01:25<00:05, 11.91it/s]"
     ]
    },
    {
     "name": "stdout",
     "output_type": "stream",
     "text": [
      "Evaluating...\n"
     ]
    },
    {
     "name": "stderr",
     "output_type": "stream",
     "text": [
      "Iteration: 100%|██████████| 1001/1001 [01:30<00:00, 11.09it/s]\n",
      "Iteration:   0%|          | 0/1001 [00:00<?, ?it/s]"
     ]
    },
    {
     "name": "stdout",
     "output_type": "stream",
     "text": [
      "Evaluating...\n"
     ]
    },
    {
     "name": "stderr",
     "output_type": "stream",
     "text": [
      "Iteration:  10%|█         | 104/1001 [00:06<00:51, 17.30it/s]"
     ]
    },
    {
     "name": "stdout",
     "output_type": "stream",
     "text": [
      "{'Train':  best_epoch_indx:59\n",
      " auc:0.9834785139156302 \n",
      " apur:0.8964442006097265 \n",
      " f1:0.7477918449506672 \n",
      " precision:0.615986807531305 \n",
      " recall:0.9513574027427931 \n",
      ", 'Validation':  best_epoch_indx:59\n",
      " auc:0.9497227993426385 \n",
      " apur:0.7829344231455497 \n",
      " f1:0.672712776559697 \n",
      " precision:0.5565633245382586 \n",
      " recall:0.8501259445843828 \n",
      "}\n",
      "=====Epoch 60\n",
      "Training...\n"
     ]
    },
    {
     "name": "stderr",
     "output_type": "stream",
     "text": [
      "\n",
      "Iteration:  11%|█         | 112/1001 [00:06<00:51, 17.38it/s]"
     ]
    },
    {
     "name": "stdout",
     "output_type": "stream",
     "text": [
      "{'Train':  best_epoch_indx:59\n",
      " auc:0.9844868243457923 \n",
      " apur:0.9019655512265523 \n",
      " f1:0.7384707890865752 \n",
      " precision:0.5990523308480246 \n",
      " recall:0.9624674634050772 \n",
      ", 'Validation':  best_epoch_indx:59\n",
      " auc:0.9490370277163801 \n",
      " apur:0.7847498949733754 \n",
      " f1:0.665312439543432 \n",
      " precision:0.5400439698492462 \n",
      " recall:0.8662468513853905 \n",
      "}\n",
      "=====Epoch 60\n",
      "Training...\n"
     ]
    },
    {
     "name": "stderr",
     "output_type": "stream",
     "text": [
      "\n",
      "Iteration:  38%|███▊      | 380/1001 [00:20<00:30, 20.43it/s]]\n",
      "Iteration:  44%|████▍     | 442/1001 [00:22<00:27, 20.30it/s]\n",
      "Iteration:   0%|          | 0/1001 [00:00<?, ?it/s]"
     ]
    },
    {
     "name": "stdout",
     "output_type": "stream",
     "text": [
      "{'Train':  best_epoch_indx:59\n",
      " auc:0.9863910556071105 \n",
      " apur:0.9118991303651707 \n",
      " f1:0.7598864753238435 \n",
      " precision:0.6275536261491318 \n",
      " recall:0.962943267373842 \n",
      ", 'Validation':  best_epoch_indx:59\n",
      " auc:0.9487203383939453 \n",
      " apur:0.7798454722852775 \n",
      " f1:0.6639126586013574 \n",
      " precision:0.5446183637243828 \n",
      " recall:0.8501259445843828 \n",
      "}\n",
      "=====Epoch 60\n",
      "Training...\n"
     ]
    },
    {
     "name": "stderr",
     "output_type": "stream",
     "text": [
      "Iteration:  56%|█████▌    | 557/1001 [00:47<00:36, 12.12it/s]]\n",
      "Iteration:  61%|██████    | 68/112 [00:03<00:02, 17.92it/s]s]]\n",
      "Iteration:  65%|██████▍   | 649/1001 [00:55<00:34, 10.12it/s]\n",
      "Iteration:   0%|          | 1/1001 [00:00<02:16,  7.33it/s]s]"
     ]
    },
    {
     "name": "stdout",
     "output_type": "stream",
     "text": [
      "{'Train':  best_epoch_indx:59\n",
      " auc:0.9860370138182933 \n",
      " apur:0.9106068664457347 \n",
      " f1:0.7633120281495669 \n",
      " precision:0.633818444070492 \n",
      " recall:0.9593047664362283 \n",
      ", 'Validation':  best_epoch_indx:59\n",
      " auc:0.9451135969836729 \n",
      " apur:0.7763394312406887 \n",
      " f1:0.6669345925851502 \n",
      " precision:0.5547384255390272 \n",
      " recall:0.8360201511335013 \n",
      "}\n",
      "=====Epoch 60\n",
      "Training...\n"
     ]
    },
    {
     "name": "stderr",
     "output_type": "stream",
     "text": [
      "Iteration:  68%|██████▊   | 683/1001 [00:58<00:30, 10.54it/s]\n",
      "Iteration:  45%|████▍     | 447/1001 [00:37<00:47, 11.70it/s]"
     ]
    },
    {
     "name": "stdout",
     "output_type": "stream",
     "text": [
      "{'Train':  best_epoch_indx:59\n",
      " auc:0.986830166665302 \n",
      " apur:0.9146334677336231 \n",
      " f1:0.7607997970729985 \n",
      " precision:0.6277664531158998 \n",
      " recall:0.965378264155168 \n",
      ", 'Validation':  best_epoch_indx:59\n",
      " auc:0.9476756973452252 \n",
      " apur:0.7872608746446377 \n",
      " f1:0.6687740788303863 \n",
      " precision:0.5501381439947993 \n",
      " recall:0.8526448362720404 \n",
      "}\n",
      "=====Epoch 60\n",
      "Training...\n"
     ]
    },
    {
     "name": "stderr",
     "output_type": "stream",
     "text": [
      "Iteration: 100%|██████████| 1001/1001 [01:29<00:00, 11.19it/s]\n",
      "Iteration:  40%|███▉      | 399/1001 [00:33<00:50, 12.00it/s]"
     ]
    },
    {
     "name": "stdout",
     "output_type": "stream",
     "text": [
      "Evaluating...\n"
     ]
    },
    {
     "name": "stderr",
     "output_type": "stream",
     "text": [
      "Iteration: 100%|██████████| 1001/1001 [01:32<00:00, 10.79it/s]\n",
      "Iteration:   0%|          | 0/1001 [00:00<?, ?it/s]"
     ]
    },
    {
     "name": "stdout",
     "output_type": "stream",
     "text": [
      "Evaluating...\n"
     ]
    },
    {
     "name": "stderr",
     "output_type": "stream",
     "text": [
      "Iteration: 100%|██████████| 1001/1001 [01:23<00:00, 11.95it/s]\n",
      "Iteration:   0%|          | 0/1001 [00:00<?, ?it/s]"
     ]
    },
    {
     "name": "stdout",
     "output_type": "stream",
     "text": [
      "Evaluating...\n"
     ]
    },
    {
     "name": "stderr",
     "output_type": "stream",
     "text": [
      "Iteration: 100%|██████████| 1001/1001 [01:26<00:00, 11.61it/s]\n",
      "Iteration:  95%|█████████▌| 955/1001 [00:48<00:02, 20.13it/s]"
     ]
    },
    {
     "name": "stdout",
     "output_type": "stream",
     "text": [
      "Evaluating...\n"
     ]
    },
    {
     "name": "stderr",
     "output_type": "stream",
     "text": [
      "Iteration:  78%|███████▊  | 781/1001 [00:37<00:10, 21.31it/s]\n",
      "Iteration: 100%|██████████| 1001/1001 [01:26<00:00, 11.53it/s]\n",
      "Iteration:  57%|█████▋    | 64/112 [00:03<00:02, 20.29it/s]"
     ]
    },
    {
     "name": "stdout",
     "output_type": "stream",
     "text": [
      "Evaluating...\n"
     ]
    },
    {
     "name": "stderr",
     "output_type": "stream",
     "text": [
      "Iteration:  71%|███████   | 79/112 [00:03<00:01, 20.42it/s]]]\n",
      "Iteration:  29%|██▊       | 32/112 [00:01<00:03, 20.58it/s]s]\n",
      "Iteration:   0%|          | 0/1001 [00:00<?, ?it/s]"
     ]
    },
    {
     "name": "stdout",
     "output_type": "stream",
     "text": [
      "{'Train':  best_epoch_indx:60\n",
      " auc:0.9833801082257452 \n",
      " apur:0.8959008934023764 \n",
      " f1:0.7354257202639626 \n",
      " precision:0.5963456016705821 \n",
      " recall:0.9591099916036944 \n",
      ", 'Validation':  best_epoch_indx:60\n",
      " auc:0.9493846685407855 \n",
      " apur:0.7793287801088831 \n",
      " f1:0.6616512345679012 \n",
      " precision:0.5361050328227571 \n",
      " recall:0.8639798488664987 \n",
      "}\n",
      "=====Epoch 61\n",
      "Training...\n"
     ]
    },
    {
     "name": "stderr",
     "output_type": "stream",
     "text": [
      "Iteration:   4%|▍         | 38/1001 [00:03<01:36,  9.95it/s]]\n",
      "Iteration:   0%|          | 1/1001 [00:00<01:53,  8.83it/s]]]"
     ]
    },
    {
     "name": "stdout",
     "output_type": "stream",
     "text": [
      "{'Train':  best_epoch_indx:60\n",
      " auc:0.9821339332106244 \n",
      " apur:0.8859978913596573 \n",
      " f1:0.7305259778479319 \n",
      " precision:0.5913784739067156 \n",
      " recall:0.9553024154048532 \n",
      ", 'Validation':  best_epoch_indx:60\n",
      " auc:0.94701078433986 \n",
      " apur:0.7705444457184445 \n",
      " f1:0.6576081719186663 \n",
      " precision:0.5325425316060559 \n",
      " recall:0.8594458438287154 \n",
      "}\n",
      "=====Epoch 61\n",
      "Training...\n"
     ]
    },
    {
     "name": "stderr",
     "output_type": "stream",
     "text": [
      "Iteration:  28%|██▊       | 278/1001 [00:13<00:37, 19.48it/s]]\n",
      "Iteration:  12%|█▏        | 117/1001 [00:09<01:10, 12.49it/s]\n",
      "Iteration:  12%|█▏        | 119/1001 [00:09<01:10, 12.43it/s]"
     ]
    },
    {
     "name": "stdout",
     "output_type": "stream",
     "text": [
      "{'Train':  best_epoch_indx:60\n",
      " auc:0.9860321536032902 \n",
      " apur:0.9097292403905015 \n",
      " f1:0.7553733682606837 \n",
      " precision:0.6207933991496721 \n",
      " recall:0.9644546446863892 \n",
      ", 'Validation':  best_epoch_indx:60\n",
      " auc:0.9484087319407072 \n",
      " apur:0.7765254227922609 \n",
      " f1:0.6589629054185279 \n",
      " precision:0.536188369152971 \n",
      " recall:0.8546599496221663 \n",
      "}\n",
      "=====Epoch 61\n",
      "Training...\n"
     ]
    },
    {
     "name": "stderr",
     "output_type": "stream",
     "text": [
      "Iteration:  51%|█████     | 513/1001 [00:46<00:40, 12.11it/s]]\n",
      "Iteration:  54%|█████▎    | 60/112 [00:02<00:02, 21.19it/s]s]]\n",
      "Iteration:  48%|████▊     | 54/112 [00:02<00:02, 20.84it/s]s]\n",
      "Iteration:   0%|          | 1/1001 [00:00<01:46,  9.38it/s]s]"
     ]
    },
    {
     "name": "stdout",
     "output_type": "stream",
     "text": [
      "{'Train':  best_epoch_indx:60\n",
      " auc:0.9856923353901568 \n",
      " apur:0.9078497679156914 \n",
      " f1:0.7680320670164614 \n",
      " precision:0.6424790430441745 \n",
      " recall:0.9545747152173305 \n",
      ", 'Validation':  best_epoch_indx:60\n",
      " auc:0.9448457134912635 \n",
      " apur:0.7739424669522187 \n",
      " f1:0.6686276498630692 \n",
      " precision:0.5596875530650365 \n",
      " recall:0.8302267002518892 \n",
      "}\n",
      "=====Epoch 61\n",
      "Training...\n"
     ]
    },
    {
     "name": "stderr",
     "output_type": "stream",
     "text": [
      "Iteration:  61%|██████    | 607/1001 [00:51<00:37, 10.50it/s]\n",
      "Iteration:  61%|██████    | 611/1001 [00:55<00:35, 10.97it/s]"
     ]
    },
    {
     "name": "stdout",
     "output_type": "stream",
     "text": [
      "{'Train':  best_epoch_indx:60\n",
      " auc:0.9868845085019804 \n",
      " apur:0.915634745689919 \n",
      " f1:0.758905614767608 \n",
      " precision:0.6246992637615094 \n",
      " recall:0.9665537798427049 \n",
      ", 'Validation':  best_epoch_indx:60\n",
      " auc:0.9469067869503806 \n",
      " apur:0.7803291772731833 \n",
      " f1:0.6652859960552269 \n",
      " precision:0.546677471636953 \n",
      " recall:0.8496221662468514 \n",
      "}\n",
      "=====Epoch 61\n",
      "Training...\n"
     ]
    },
    {
     "name": "stderr",
     "output_type": "stream",
     "text": [
      "Iteration: 100%|██████████| 1001/1001 [01:29<00:00, 11.22it/s]\n",
      "Iteration:   0%|          | 2/1001 [00:00<01:11, 14.07it/s]s]"
     ]
    },
    {
     "name": "stdout",
     "output_type": "stream",
     "text": [
      "Evaluating...\n"
     ]
    },
    {
     "name": "stderr",
     "output_type": "stream",
     "text": [
      "Iteration: 100%|██████████| 1001/1001 [01:29<00:00, 11.19it/s]\n",
      "Iteration:   0%|          | 0/1001 [00:00<?, ?it/s]"
     ]
    },
    {
     "name": "stdout",
     "output_type": "stream",
     "text": [
      "Evaluating...\n"
     ]
    },
    {
     "name": "stderr",
     "output_type": "stream",
     "text": [
      "Iteration: 100%|██████████| 1001/1001 [01:31<00:00, 10.92it/s]\n",
      "Iteration:  57%|█████▋    | 568/1001 [00:49<00:36, 11.77it/s]"
     ]
    },
    {
     "name": "stdout",
     "output_type": "stream",
     "text": [
      "Evaluating...\n"
     ]
    },
    {
     "name": "stderr",
     "output_type": "stream",
     "text": [
      "Iteration: 100%|██████████| 1001/1001 [01:26<00:00, 11.54it/s]\n",
      "Iteration:   0%|          | 0/1001 [00:00<?, ?it/s]"
     ]
    },
    {
     "name": "stdout",
     "output_type": "stream",
     "text": [
      "Evaluating...\n"
     ]
    },
    {
     "name": "stderr",
     "output_type": "stream",
     "text": [
      "Iteration: 100%|██████████| 1001/1001 [01:25<00:00, 11.73it/s]\n",
      "Iteration:   0%|          | 0/1001 [00:00<?, ?it/s]"
     ]
    },
    {
     "name": "stdout",
     "output_type": "stream",
     "text": [
      "Evaluating...\n"
     ]
    },
    {
     "name": "stderr",
     "output_type": "stream",
     "text": [
      "Iteration:   4%|▍         | 38/1001 [00:01<00:45, 21.12it/s]]\n",
      "Iteration:  13%|█▎        | 132/1001 [00:07<00:41, 20.75it/s]]\n",
      "Iteration:   0%|          | 0/1001 [00:00<?, ?it/s]"
     ]
    },
    {
     "name": "stdout",
     "output_type": "stream",
     "text": [
      "{'Train':  best_epoch_indx:61\n",
      " auc:0.9813475748354019 \n",
      " apur:0.8845308627901305 \n",
      " f1:0.7343157438509048 \n",
      " precision:0.5990983026874116 \n",
      " recall:0.9483627204030227 \n",
      ", 'Validation':  best_epoch_indx:61\n",
      " auc:0.9465213503220594 \n",
      " apur:0.7692810700005525 \n",
      " f1:0.656484093783442 \n",
      " precision:0.5347915676018387 \n",
      " recall:0.8498740554156171 \n",
      "}\n",
      "=====Epoch 62\n",
      "Training...\n"
     ]
    },
    {
     "name": "stderr",
     "output_type": "stream",
     "text": [
      "Iteration:  14%|█▍        | 141/1001 [00:08<00:41, 20.88it/s]\n",
      "Iteration:   6%|▌         | 56/1001 [00:06<01:47,  8.79it/s]]\n",
      "Iteration:  98%|█████████▊| 977/1001 [00:49<00:01, 20.94it/s]"
     ]
    },
    {
     "name": "stdout",
     "output_type": "stream",
     "text": [
      "{'Train':  best_epoch_indx:61\n",
      " auc:0.9811143501103802 \n",
      " apur:0.8826958874390033 \n",
      " f1:0.7109194389442366 \n",
      " precision:0.5645788052427057 \n",
      " recall:0.9596686165299897 \n",
      ", 'Validation':  best_epoch_indx:61\n",
      " auc:0.9461002693234958 \n",
      " apur:0.7742028499223921 \n",
      " f1:0.6453668134545114 \n",
      " precision:0.5137997911382963 \n",
      " recall:0.8675062972292191 \n",
      "}\n",
      "=====Epoch 62\n",
      "Training...\n"
     ]
    },
    {
     "name": "stderr",
     "output_type": "stream",
     "text": [
      "Iteration:   9%|▉         | 90/1001 [00:09<01:29, 10.17it/s]]]\n",
      "Iteration:  11%|█         | 109/1001 [00:09<01:15, 11.75it/s]\n",
      "Iteration:   0%|          | 0/1001 [00:00<?, ?it/s]"
     ]
    },
    {
     "name": "stdout",
     "output_type": "stream",
     "text": [
      "{'Train':  best_epoch_indx:61\n",
      " auc:0.983110231119564 \n",
      " apur:0.8942747577553887 \n",
      " f1:0.7338127956505919 \n",
      " precision:0.5940667833440191 \n",
      " recall:0.9595286741862352 \n",
      ", 'Validation':  best_epoch_indx:61\n",
      " auc:0.9456306953527917 \n",
      " apur:0.7674479711316947 \n",
      " f1:0.6478227654698243 \n",
      " precision:0.5216856351891725 \n",
      " recall:0.8544080604534005 \n",
      "}\n",
      "=====Epoch 62\n",
      "Training...\n"
     ]
    },
    {
     "name": "stderr",
     "output_type": "stream",
     "text": [
      "Iteration:  35%|███▍      | 347/1001 [00:28<00:51, 12.78it/s]]\n",
      "Iteration:  21%|██        | 23/112 [00:01<00:04, 19.89it/s]s]\n",
      "Iteration:  42%|████▏     | 417/1001 [00:34<00:47, 12.24it/s]\n",
      "Iteration:   0%|          | 1/1001 [00:00<01:59,  8.36it/s]s]"
     ]
    },
    {
     "name": "stdout",
     "output_type": "stream",
     "text": [
      "{'Train':  best_epoch_indx:61\n",
      " auc:0.9831653246883638 \n",
      " apur:0.8945369361164509 \n",
      " f1:0.7397700500504848 \n",
      " precision:0.6042960019865905 \n",
      " recall:0.953539141873548 \n",
      ", 'Validation':  best_epoch_indx:61\n",
      " auc:0.9427255784635147 \n",
      " apur:0.7655733803072537 \n",
      " f1:0.6494031574894108 \n",
      " precision:0.5255531318167653 \n",
      " recall:0.8496221662468514 \n",
      "}\n",
      "=====Epoch 62\n",
      "Training...\n"
     ]
    },
    {
     "name": "stderr",
     "output_type": "stream",
     "text": [
      "Iteration:   1%|          | 11/1001 [00:01<01:31, 10.81it/s]]\n"
     ]
    },
    {
     "name": "stdout",
     "output_type": "stream",
     "text": [
      "{'Train':  best_epoch_indx:61\n",
      " auc:0.9849162339536085 \n",
      " apur:0.9049947963904311 \n",
      " f1:0.7172713868869024 \n",
      " precision:0.5678115511443403 \n",
      " recall:0.9735229085616726 \n",
      ", 'Validation':  best_epoch_indx:61\n",
      " auc:0.9451067055387588 \n",
      " apur:0.7753015479692867 \n",
      " f1:0.6371094110056227 \n",
      " precision:0.502398604448321 \n",
      " recall:0.8705289672544081 \n",
      "}\n",
      "=====Epoch 62\n",
      "Training...\n"
     ]
    },
    {
     "name": "stderr",
     "output_type": "stream",
     "text": [
      "Iteration: 100%|██████████| 1001/1001 [01:33<00:00, 10.70it/s]\n",
      "Iteration:  45%|████▌     | 454/1001 [00:42<00:44, 12.20it/s]"
     ]
    },
    {
     "name": "stdout",
     "output_type": "stream",
     "text": [
      "Evaluating...\n"
     ]
    },
    {
     "name": "stderr",
     "output_type": "stream",
     "text": [
      "Iteration: 100%|██████████| 1001/1001 [01:23<00:00, 11.92it/s]\n",
      "Iteration:  99%|█████████▉| 993/1001 [01:33<00:00, 10.16it/s]"
     ]
    },
    {
     "name": "stdout",
     "output_type": "stream",
     "text": [
      "Evaluating...\n"
     ]
    },
    {
     "name": "stderr",
     "output_type": "stream",
     "text": [
      "Iteration: 100%|██████████| 1001/1001 [01:34<00:00, 10.63it/s]\n",
      "Iteration:  53%|█████▎    | 532/1001 [00:49<00:44, 10.55it/s]"
     ]
    },
    {
     "name": "stdout",
     "output_type": "stream",
     "text": [
      "Evaluating...\n"
     ]
    },
    {
     "name": "stderr",
     "output_type": "stream",
     "text": [
      "Iteration: 100%|██████████| 1001/1001 [01:22<00:00, 12.12it/s]\n",
      "Iteration:   0%|          | 2/1001 [00:00<01:08, 14.65it/s]s]"
     ]
    },
    {
     "name": "stdout",
     "output_type": "stream",
     "text": [
      "Evaluating...\n"
     ]
    },
    {
     "name": "stderr",
     "output_type": "stream",
     "text": [
      "Iteration: 100%|██████████| 1001/1001 [01:28<00:00, 11.25it/s]\n",
      "Iteration:  94%|█████████▍| 943/1001 [00:46<00:02, 20.43it/s]"
     ]
    },
    {
     "name": "stdout",
     "output_type": "stream",
     "text": [
      "Evaluating...\n"
     ]
    },
    {
     "name": "stderr",
     "output_type": "stream",
     "text": [
      "Iteration:  11%|█         | 110/1001 [00:05<00:43, 20.48it/s]]\n",
      "Iteration:  22%|██▏       | 221/1001 [00:10<00:41, 19.00it/s]]\n",
      "Iteration:  27%|██▋       | 30/112 [00:01<00:03, 21.09it/s]s]\n",
      "Iteration:  25%|██▌       | 252/1001 [00:12<00:36, 20.33it/s]\n",
      "Iteration:   0%|          | 0/1001 [00:00<?, ?it/s]"
     ]
    },
    {
     "name": "stdout",
     "output_type": "stream",
     "text": [
      "{'Train':  best_epoch_indx:62\n",
      " auc:0.9789091735506521 \n",
      " apur:0.8738911483983691 \n",
      " f1:0.716410951936933 \n",
      " precision:0.5764417010537803 \n",
      " recall:0.9461516932549678 \n",
      ", 'Validation':  best_epoch_indx:62\n",
      " auc:0.9446256758266026 \n",
      " apur:0.7582977676585558 \n",
      " f1:0.6508558860093717 \n",
      " precision:0.5245876368120858 \n",
      " recall:0.8571788413098237 \n",
      "}\n",
      "=====Epoch 63\n",
      "Training...\n"
     ]
    },
    {
     "name": "stderr",
     "output_type": "stream",
     "text": [
      "Iteration:  36%|███▋      | 364/1001 [00:18<00:30, 20.62it/s]\n",
      "Iteration:  50%|████▉     | 497/1001 [00:25<00:30, 16.59it/s]"
     ]
    },
    {
     "name": "stdout",
     "output_type": "stream",
     "text": [
      "{'Train':  best_epoch_indx:62\n",
      " auc:0.9822587275152741 \n",
      " apur:0.8908283105764098 \n",
      " f1:0.7272437362473824 \n",
      " precision:0.5862985054161525 \n",
      " recall:0.9574015505611688 \n",
      ", 'Validation':  best_epoch_indx:62\n",
      " auc:0.9462370953622548 \n",
      " apur:0.7671532624233048 \n",
      " f1:0.6444717677102053 \n",
      " precision:0.5159775859457822 \n",
      " recall:0.8581863979848866 \n",
      "}\n",
      "=====Epoch 63\n",
      "Training...\n"
     ]
    },
    {
     "name": "stderr",
     "output_type": "stream",
     "text": [
      "Iteration:  52%|█████▏    | 521/1001 [00:26<00:24, 19.65it/s]\n",
      "Iteration:   8%|▊         | 78/1001 [00:07<01:30, 10.22it/s]]"
     ]
    },
    {
     "name": "stdout",
     "output_type": "stream",
     "text": [
      "{'Train':  best_epoch_indx:62\n",
      " auc:0.9784651440787279 \n",
      " apur:0.8725260896759023 \n",
      " f1:0.7034547055472109 \n",
      " precision:0.5583988422195179 \n",
      " recall:0.9503204679671975 \n",
      ", 'Validation':  best_epoch_indx:62\n",
      " auc:0.9433178270108469 \n",
      " apur:0.7652530363620272 \n",
      " f1:0.6401564537157758 \n",
      " precision:0.5078309692671394 \n",
      " recall:0.8657430730478589 \n",
      "}\n",
      "=====Epoch 63\n",
      "Training...\n"
     ]
    },
    {
     "name": "stderr",
     "output_type": "stream",
     "text": [
      "Iteration:  37%|███▋      | 367/1001 [00:32<00:56, 11.27it/s]]\n",
      "Iteration:  45%|████▍     | 449/1001 [00:40<00:46, 11.94it/s]]\n",
      "Iteration:  45%|████▌     | 451/1001 [00:40<00:46, 11.94it/s]"
     ]
    },
    {
     "name": "stdout",
     "output_type": "stream",
     "text": [
      "{'Train':  best_epoch_indx:62\n",
      " auc:0.9812816376380309 \n",
      " apur:0.8865885165011226 \n",
      " f1:0.7281597021631684 \n",
      " precision:0.5893497272491125 \n",
      " recall:0.9525035685297657 \n",
      ", 'Validation':  best_epoch_indx:62\n",
      " auc:0.941466038333748 \n",
      " apur:0.7652244320966677 \n",
      " f1:0.6433700335088559 \n",
      " precision:0.518918918918919 \n",
      " recall:0.8463476070528967 \n",
      "}\n",
      "=====Epoch 63\n",
      "Training...\n"
     ]
    },
    {
     "name": "stderr",
     "output_type": "stream",
     "text": [
      "Iteration:  42%|████▏     | 422/1001 [00:35<00:49, 11.60it/s]\n",
      "Iteration:  48%|████▊     | 476/1001 [00:41<00:44, 11.91it/s]\n",
      "Iteration:  52%|█████▏    | 518/1001 [00:43<00:40, 11.89it/s]"
     ]
    },
    {
     "name": "stdout",
     "output_type": "stream",
     "text": [
      "{'Train':  best_epoch_indx:62\n",
      " auc:0.9812978293797617 \n",
      " apur:0.8848060905212239 \n",
      " f1:0.7304548493540665 \n",
      " precision:0.5941408648364178 \n",
      " recall:0.9479414481233732 \n",
      ", 'Validation':  best_epoch_indx:62\n",
      " auc:0.9415288499112726 \n",
      " apur:0.7558476379448806 \n",
      " f1:0.64728532922603 \n",
      " precision:0.5238392022436896 \n",
      " recall:0.8468513853904283 \n",
      "}\n",
      "=====Epoch 63\n",
      "Training...\n"
     ]
    },
    {
     "name": "stderr",
     "output_type": "stream",
     "text": [
      "Iteration: 100%|██████████| 1001/1001 [01:26<00:00, 11.54it/s]\n",
      "Iteration:  43%|████▎     | 429/1001 [00:38<00:55, 10.27it/s]"
     ]
    },
    {
     "name": "stdout",
     "output_type": "stream",
     "text": [
      "Evaluating...\n"
     ]
    },
    {
     "name": "stderr",
     "output_type": "stream",
     "text": [
      "Iteration: 100%|██████████| 1001/1001 [01:25<00:00, 11.66it/s]\n",
      "Iteration:  95%|█████████▍| 946/1001 [01:24<00:05, 10.53it/s]"
     ]
    },
    {
     "name": "stdout",
     "output_type": "stream",
     "text": [
      "Evaluating...\n"
     ]
    },
    {
     "name": "stderr",
     "output_type": "stream",
     "text": [
      "Iteration: 100%|██████████| 1001/1001 [01:29<00:00, 11.15it/s]\n",
      "Iteration:  53%|█████▎    | 531/1001 [00:47<00:46, 10.21it/s]"
     ]
    },
    {
     "name": "stdout",
     "output_type": "stream",
     "text": [
      "Evaluating...\n"
     ]
    },
    {
     "name": "stderr",
     "output_type": "stream",
     "text": [
      "Iteration: 100%|██████████| 1001/1001 [01:27<00:00, 11.44it/s]\n",
      "Iteration:   0%|          | 2/1001 [00:00<01:01, 16.16it/s]s]"
     ]
    },
    {
     "name": "stdout",
     "output_type": "stream",
     "text": [
      "Evaluating...\n"
     ]
    },
    {
     "name": "stderr",
     "output_type": "stream",
     "text": [
      "Iteration: 100%|██████████| 1001/1001 [01:28<00:00, 11.33it/s]\n",
      "Iteration:  84%|████████▎ | 837/1001 [00:40<00:08, 20.27it/s]"
     ]
    },
    {
     "name": "stdout",
     "output_type": "stream",
     "text": [
      "Evaluating...\n"
     ]
    },
    {
     "name": "stderr",
     "output_type": "stream",
     "text": [
      "Iteration:  22%|██▏       | 220/1001 [00:10<00:38, 20.04it/s]\n",
      "Iteration:  72%|███████▏  | 81/112 [00:03<00:01, 20.27it/s]s]]\n",
      "Iteration:  32%|███▏      | 36/112 [00:01<00:03, 21.05it/s]s]\n",
      "Iteration:  35%|███▍      | 39/112 [00:01<00:03, 20.98it/s]s]"
     ]
    },
    {
     "name": "stdout",
     "output_type": "stream",
     "text": [
      "{'Train':  best_epoch_indx:63\n",
      " auc:0.9755730980423597 \n",
      " apur:0.8582474087083711 \n",
      " f1:0.7077906902632305 \n",
      " precision:0.5703841939460348 \n",
      " recall:0.9324097397145256 \n",
      ", 'Validation':  best_epoch_indx:63\n",
      " auc:0.9423677333291962 \n",
      " apur:0.7505954484406454 \n",
      " f1:0.6421877988143048 \n",
      " precision:0.5175709001233045 \n",
      " recall:0.8458438287153652 \n",
      "}\n",
      "=====Epoch 64\n",
      "Training...\n"
     ]
    },
    {
     "name": "stderr",
     "output_type": "stream",
     "text": [
      "Iteration:   4%|▍         | 43/1001 [00:03<01:19, 12.06it/s]]]\n",
      "Iteration:   3%|▎         | 3/112 [00:00<00:05, 21.04it/s]s]]"
     ]
    },
    {
     "name": "stdout",
     "output_type": "stream",
     "text": [
      "{'Train':  best_epoch_indx:63\n",
      " auc:0.9763396454420609 \n",
      " apur:0.8609500682156788 \n",
      " f1:0.7272164355691192 \n",
      " precision:0.6010711217532764 \n",
      " recall:0.9203728064037616 \n",
      ", 'Validation':  best_epoch_indx:63\n",
      " auc:0.9405786962294795 \n",
      " apur:0.7461948197506816 \n",
      " f1:0.645218945487042 \n",
      " precision:0.5325356498934601 \n",
      " recall:0.8183879093198992 \n",
      "}\n",
      "=====Epoch 64\n",
      "Training...\n"
     ]
    },
    {
     "name": "stderr",
     "output_type": "stream",
     "text": [
      "\n",
      "Iteration:   6%|▌         | 59/1001 [00:05<01:19, 11.82it/s]]\n",
      "Iteration:  11%|█▏        | 113/1001 [00:09<01:13, 12.07it/s]"
     ]
    },
    {
     "name": "stdout",
     "output_type": "stream",
     "text": [
      "{'Train':  best_epoch_indx:63\n",
      " auc:0.9779946538236168 \n",
      " apur:0.870300115123894 \n",
      " f1:0.7000412286126573 \n",
      " precision:0.5540617708962164 \n",
      " recall:0.9504604103109519 \n",
      ", 'Validation':  best_epoch_indx:63\n",
      " auc:0.9444098081718308 \n",
      " apur:0.7690067463569701 \n",
      " f1:0.6373932417378388 \n",
      " precision:0.5047044986768597 \n",
      " recall:0.864735516372796 \n",
      "}\n",
      "=====Epoch 64\n",
      "Training...\n"
     ]
    },
    {
     "name": "stderr",
     "output_type": "stream",
     "text": [
      "Iteration:  42%|████▏     | 417/1001 [00:35<00:49, 11.91it/s]]\n",
      "Iteration:  48%|████▊     | 483/1001 [00:40<00:42, 12.06it/s]\n",
      "Iteration:  97%|█████████▋| 969/1001 [00:47<00:01, 20.90it/s]"
     ]
    },
    {
     "name": "stdout",
     "output_type": "stream",
     "text": [
      "{'Train':  best_epoch_indx:63\n",
      " auc:0.9773712466093263 \n",
      " apur:0.8655378918418872 \n",
      " f1:0.713990366170766 \n",
      " precision:0.5765054124287952 \n",
      " recall:0.9375857146855495 \n",
      ", 'Validation':  best_epoch_indx:63\n",
      " auc:0.937533273293191 \n",
      " apur:0.74640264482012 \n",
      " f1:0.6308584466204012 \n",
      " precision:0.5066422354557948 \n",
      " recall:0.8357682619647355 \n",
      "}\n",
      "=====Epoch 64\n",
      "Training...\n"
     ]
    },
    {
     "name": "stderr",
     "output_type": "stream",
     "text": [
      "Iteration:   4%|▍         | 43/1001 [00:03<01:33, 10.28it/s]]]\n",
      "Iteration:  47%|████▋     | 474/1001 [00:40<00:58,  9.04it/s]\n",
      "Iteration:   9%|▉         | 94/1001 [00:09<01:29, 10.12it/s]"
     ]
    },
    {
     "name": "stdout",
     "output_type": "stream",
     "text": [
      "{'Train':  best_epoch_indx:63\n",
      " auc:0.9782495696792904 \n",
      " apur:0.8714212367047075 \n",
      " f1:0.7162794655773977 \n",
      " precision:0.5777038041146897 \n",
      " recall:0.9423157659044473 \n",
      ", 'Validation':  best_epoch_indx:63\n",
      " auc:0.9396744512279843 \n",
      " apur:0.7513613903462601 \n",
      " f1:0.6391440204526085 \n",
      " precision:0.512061902594447 \n",
      " recall:0.8501259445843828 \n",
      "}\n",
      "=====Epoch 64\n",
      "Training...\n"
     ]
    },
    {
     "name": "stderr",
     "output_type": "stream",
     "text": [
      "Iteration: 100%|██████████| 1001/1001 [01:23<00:00, 12.01it/s]\n",
      "Iteration:  99%|█████████▉| 995/1001 [01:27<00:00, 10.21it/s]"
     ]
    },
    {
     "name": "stdout",
     "output_type": "stream",
     "text": [
      "Evaluating...\n"
     ]
    },
    {
     "name": "stderr",
     "output_type": "stream",
     "text": [
      "Iteration: 100%|██████████| 1001/1001 [01:27<00:00, 11.39it/s]\n",
      "Iteration:  83%|████████▎ | 830/1001 [01:18<00:16, 10.26it/s]"
     ]
    },
    {
     "name": "stdout",
     "output_type": "stream",
     "text": [
      "Evaluating...\n"
     ]
    },
    {
     "name": "stderr",
     "output_type": "stream",
     "text": [
      "Iteration: 100%|██████████| 1001/1001 [01:33<00:00, 10.75it/s]\n",
      "Iteration:   0%|          | 0/1001 [00:00<?, ?it/s]"
     ]
    },
    {
     "name": "stdout",
     "output_type": "stream",
     "text": [
      "Evaluating...\n"
     ]
    },
    {
     "name": "stderr",
     "output_type": "stream",
     "text": [
      "Iteration: 100%|██████████| 1001/1001 [01:28<00:00, 11.25it/s]\n",
      "Iteration:  89%|████████▊ | 888/1001 [01:19<00:09, 12.04it/s]"
     ]
    },
    {
     "name": "stdout",
     "output_type": "stream",
     "text": [
      "Evaluating...\n"
     ]
    },
    {
     "name": "stderr",
     "output_type": "stream",
     "text": [
      "Iteration: 100%|██████████| 1001/1001 [01:29<00:00, 11.24it/s]\n",
      "Iteration:   0%|          | 0/1001 [00:00<?, ?it/s]"
     ]
    },
    {
     "name": "stdout",
     "output_type": "stream",
     "text": [
      "Evaluating...\n"
     ]
    },
    {
     "name": "stderr",
     "output_type": "stream",
     "text": [
      "\n",
      "Iteration:  20%|█▉        | 197/1001 [00:11<01:01, 13.12it/s]\n",
      "Iteration:  75%|███████▌  | 84/112 [00:04<00:01, 20.61it/s]s]\n",
      "Iteration:  84%|████████▎ | 838/1001 [00:42<00:07, 20.46it/s]"
     ]
    },
    {
     "name": "stdout",
     "output_type": "stream",
     "text": [
      "{'Train':  best_epoch_indx:64\n",
      " auc:0.9749444569959379 \n",
      " apur:0.8510389901384922 \n",
      " f1:0.7055862790918992 \n",
      " precision:0.5670099588729139 \n",
      " recall:0.9338072714041815 \n",
      ", 'Validation':  best_epoch_indx:64\n",
      " auc:0.9407072165342564 \n",
      " apur:0.7386665700835489 \n",
      " f1:0.6358633776091083 \n",
      " precision:0.5100456621004567 \n",
      " recall:0.844080604534005 \n",
      "}\n",
      "=====Epoch 65\n",
      "Training...\n"
     ]
    },
    {
     "name": "stderr",
     "output_type": "stream",
     "text": [
      "Iteration:   2%|▏         | 19/1001 [00:01<01:19, 12.31it/s]]\n",
      "Iteration:  15%|█▌        | 155/1001 [00:07<00:39, 21.19it/s]"
     ]
    },
    {
     "name": "stdout",
     "output_type": "stream",
     "text": [
      "{'Train':  best_epoch_indx:64\n",
      " auc:0.9729488346699298 \n",
      " apur:0.8467548345539359 \n",
      " f1:0.668545938300545 \n",
      " precision:0.5169718385266089 \n",
      " recall:0.9458718164007837 \n",
      ", 'Validation':  best_epoch_indx:64\n",
      " auc:0.9405504747339829 \n",
      " apur:0.7420862852606847 \n",
      " f1:0.6135719347980156 \n",
      " precision:0.47321672588138836 \n",
      " recall:0.8722921914357683 \n",
      "}\n",
      "=====Epoch 65\n",
      "Training...\n"
     ]
    },
    {
     "name": "stderr",
     "output_type": "stream",
     "text": [
      "Iteration:  48%|████▊     | 485/1001 [00:25<00:25, 20.08it/s]]\n",
      "Iteration:  41%|████      | 407/1001 [00:21<00:29, 20.21it/s]\n",
      "Iteration:  41%|████      | 410/1001 [00:21<00:29, 20.18it/s]"
     ]
    },
    {
     "name": "stdout",
     "output_type": "stream",
     "text": [
      "{'Train':  best_epoch_indx:64\n",
      " auc:0.9731360295181495 \n",
      " apur:0.8500866746326446 \n",
      " f1:0.6949686522016726 \n",
      " precision:0.5550558416371296 \n",
      " recall:0.9291891740602871 \n",
      ", 'Validation':  best_epoch_indx:64\n",
      " auc:0.9408503040164353 \n",
      " apur:0.7533155918460988 \n",
      " f1:0.6333364599943719 \n",
      " precision:0.5045583619787775 \n",
      " recall:0.8503778337531486 \n",
      "}\n",
      "=====Epoch 65\n",
      "Training...\n"
     ]
    },
    {
     "name": "stderr",
     "output_type": "stream",
     "text": [
      "Iteration:  42%|████▏     | 420/1001 [00:38<00:59,  9.84it/s]]\n",
      "Iteration:  97%|█████████▋| 968/1001 [00:49<00:01, 20.57it/s]\n",
      "Iteration:  31%|███▏      | 313/1001 [00:27<01:05, 10.54it/s]"
     ]
    },
    {
     "name": "stdout",
     "output_type": "stream",
     "text": [
      "{'Train':  best_epoch_indx:64\n",
      " auc:0.9756440413851624 \n",
      " apur:0.8626189515397952 \n",
      " f1:0.665607051963375 \n",
      " precision:0.5107446426433616 \n",
      " recall:0.9552464384673515 \n",
      ", 'Validation':  best_epoch_indx:64\n",
      " auc:0.9384884198439671 \n",
      " apur:0.7490374939804826 \n",
      " f1:0.6039181541140618 \n",
      " precision:0.4614770459081836 \n",
      " recall:0.873551637279597 \n",
      "}\n",
      "=====Epoch 65\n",
      "Training...\n"
     ]
    },
    {
     "name": "stderr",
     "output_type": "stream",
     "text": [
      "Iteration:  35%|███▌      | 353/1001 [00:31<01:02, 10.44it/s]]\n",
      "Iteration:  11%|█▏        | 113/1001 [00:09<01:10, 12.51it/s]\n",
      "Iteration:  11%|█▏        | 115/1001 [00:09<01:11, 12.44it/s]"
     ]
    },
    {
     "name": "stdout",
     "output_type": "stream",
     "text": [
      "{'Train':  best_epoch_indx:64\n",
      " auc:0.9760741750227611 \n",
      " apur:0.8610955105874556 \n",
      " f1:0.7353966575946378 \n",
      " precision:0.6146947677151291 \n",
      " recall:0.9150829858098464 \n",
      ", 'Validation':  best_epoch_indx:64\n",
      " auc:0.9382660636023793 \n",
      " apur:0.7468170147934681 \n",
      " f1:0.6523151909017059 \n",
      " precision:0.5464443688329363 \n",
      " recall:0.8090680100755667 \n",
      "}\n",
      "=====Epoch 65\n",
      "Training...\n"
     ]
    },
    {
     "name": "stderr",
     "output_type": "stream",
     "text": [
      "Iteration:  97%|█████████▋| 968/1001 [01:29<00:03, 10.57it/s]]\n",
      "Iteration:  55%|█████▌    | 555/1001 [00:47<00:45,  9.85it/s]"
     ]
    },
    {
     "name": "stdout",
     "output_type": "stream",
     "text": [
      "Evaluating...\n"
     ]
    },
    {
     "name": "stderr",
     "output_type": "stream",
     "text": [
      "Iteration:  59%|█████▊    | 587/1001 [00:50<00:40, 10.28it/s]]\n",
      "Iteration:  59%|█████▉    | 589/1001 [00:50<00:39, 10.34it/s]"
     ]
    },
    {
     "name": "stdout",
     "output_type": "stream",
     "text": [
      "Evaluating...\n"
     ]
    },
    {
     "name": "stderr",
     "output_type": "stream",
     "text": [
      "Iteration: 100%|██████████| 1001/1001 [01:30<00:00, 11.08it/s]\n",
      "Iteration:   0%|          | 2/1001 [00:00<01:04, 15.59it/s]s]"
     ]
    },
    {
     "name": "stdout",
     "output_type": "stream",
     "text": [
      "Evaluating...\n"
     ]
    },
    {
     "name": "stderr",
     "output_type": "stream",
     "text": [
      "Iteration: 100%|██████████| 1001/1001 [01:28<00:00, 11.32it/s]\n",
      "Iteration:   0%|          | 2/1001 [00:00<01:00, 16.41it/s]s]"
     ]
    },
    {
     "name": "stdout",
     "output_type": "stream",
     "text": [
      "Evaluating...\n"
     ]
    },
    {
     "name": "stderr",
     "output_type": "stream",
     "text": [
      "Iteration: 100%|██████████| 1001/1001 [01:25<00:00, 11.73it/s]\n",
      "Iteration:   0%|          | 0/1001 [00:00<?, ?it/s]"
     ]
    },
    {
     "name": "stdout",
     "output_type": "stream",
     "text": [
      "Evaluating...\n"
     ]
    },
    {
     "name": "stderr",
     "output_type": "stream",
     "text": [
      "Iteration:  73%|███████▎  | 735/1001 [00:35<00:12, 20.78it/s]]\n",
      "Iteration:  74%|███████▍  | 83/112 [00:03<00:01, 21.06it/s]s]]\n",
      "Iteration:  85%|████████▌ | 852/1001 [00:41<00:06, 21.61it/s]\n",
      "Iteration:  19%|█▊        | 186/1001 [00:09<00:40, 20.14it/s]"
     ]
    },
    {
     "name": "stdout",
     "output_type": "stream",
     "text": [
      "{'Train':  best_epoch_indx:65\n",
      " auc:0.9780326105387472 \n",
      " apur:0.8731061628351352 \n",
      " f1:0.7147969966334258 \n",
      " precision:0.5759344194961665 \n",
      " recall:0.9418959388731842 \n",
      ", 'Validation':  best_epoch_indx:65\n",
      " auc:0.9435471818404597 \n",
      " apur:0.7553158170120233 \n",
      " f1:0.6425519794930219 \n",
      " precision:0.5156178576870334 \n",
      " recall:0.8523929471032745 \n",
      "}\n",
      "=====Epoch 66\n",
      "Training...\n"
     ]
    },
    {
     "name": "stderr",
     "output_type": "stream",
     "text": [
      "Iteration:  27%|██▋       | 272/1001 [00:13<00:38, 18.94it/s]\n",
      "Iteration:  27%|██▋       | 275/1001 [00:13<00:37, 19.33it/s]"
     ]
    },
    {
     "name": "stdout",
     "output_type": "stream",
     "text": [
      "{'Train':  best_epoch_indx:65\n",
      " auc:0.970114524236433 \n",
      " apur:0.833685140112002 \n",
      " f1:0.6711684018504147 \n",
      " precision:0.5244365343119497 \n",
      " recall:0.9319059613769941 \n",
      ", 'Validation':  best_epoch_indx:65\n",
      " auc:0.9377117137163498 \n",
      " apur:0.7290009202050012 \n",
      " f1:0.6179335457441967 \n",
      " precision:0.48382038488952245 \n",
      " recall:0.854911838790932 \n",
      "}\n",
      "=====Epoch 66\n",
      "Training...\n"
     ]
    },
    {
     "name": "stderr",
     "output_type": "stream",
     "text": [
      "Iteration:  52%|█████▏    | 520/1001 [00:25<00:23, 20.53it/s]]\n",
      "Iteration:  49%|████▉     | 494/1001 [00:24<00:24, 20.81it/s]\n",
      "Iteration:  50%|████▉     | 497/1001 [00:24<00:24, 20.71it/s]"
     ]
    },
    {
     "name": "stdout",
     "output_type": "stream",
     "text": [
      "{'Train':  best_epoch_indx:65\n",
      " auc:0.9744537857934291 \n",
      " apur:0.8529750830934985 \n",
      " f1:0.6905891432981734 \n",
      " precision:0.5460729746444032 \n",
      " recall:0.9391250804668476 \n",
      ", 'Validation':  best_epoch_indx:65\n",
      " auc:0.9421786428807817 \n",
      " apur:0.7541440422797847 \n",
      " f1:0.6331054867910585 \n",
      " precision:0.4998541423570595 \n",
      " recall:0.8632241813602015 \n",
      "}\n",
      "=====Epoch 66\n",
      "Training...\n"
     ]
    },
    {
     "name": "stderr",
     "output_type": "stream",
     "text": [
      "Iteration:  24%|██▎       | 237/1001 [00:20<01:02, 12.18it/s]]\n",
      "Iteration:  30%|██▉       | 300/1001 [00:26<01:19,  8.84it/s]]\n",
      "Iteration:  39%|███▉      | 390/1001 [00:37<00:52, 11.60it/s]"
     ]
    },
    {
     "name": "stdout",
     "output_type": "stream",
     "text": [
      "{'Train':  best_epoch_indx:65\n",
      " auc:0.9767177433414337 \n",
      " apur:0.8644396677083854 \n",
      " f1:0.697030315528975 \n",
      " precision:0.5518113989975674 \n",
      " recall:0.9459822553108119 \n",
      ", 'Validation':  best_epoch_indx:65\n",
      " auc:0.9380381016332124 \n",
      " apur:0.7478292843082803 \n",
      " f1:0.6231165012862918 \n",
      " precision:0.4904541509979751 \n",
      " recall:0.8541561712846347 \n",
      "}\n",
      "=====Epoch 66\n",
      "Training...\n"
     ]
    },
    {
     "name": "stderr",
     "output_type": "stream",
     "text": [
      "Iteration:   1%|          | 12/1001 [00:01<01:30, 10.88it/s]]\n",
      "Iteration:  36%|███▌      | 360/1001 [00:33<01:10,  9.06it/s]\n",
      "Iteration:   7%|▋         | 70/1001 [00:06<01:30, 10.29it/s]]"
     ]
    },
    {
     "name": "stdout",
     "output_type": "stream",
     "text": [
      "{'Train':  best_epoch_indx:65\n",
      " auc:0.9788954706437398 \n",
      " apur:0.8772365084927589 \n",
      " f1:0.686292179833784 \n",
      " precision:0.5342916387334155 \n",
      " recall:0.9591648240924739 \n",
      ", 'Validation':  best_epoch_indx:65\n",
      " auc:0.9408637954770006 \n",
      " apur:0.7563044424468368 \n",
      " f1:0.6178657826359645 \n",
      " precision:0.47948824920038935 \n",
      " recall:0.8685138539042822 \n",
      "}\n",
      "=====Epoch 66\n",
      "Training...\n"
     ]
    },
    {
     "name": "stderr",
     "output_type": "stream",
     "text": [
      "Iteration: 100%|██████████| 1001/1001 [01:30<00:00, 11.10it/s]\n",
      "Iteration:  90%|█████████ | 902/1001 [01:25<00:09, 10.17it/s]"
     ]
    },
    {
     "name": "stdout",
     "output_type": "stream",
     "text": [
      "Evaluating...\n"
     ]
    },
    {
     "name": "stderr",
     "output_type": "stream",
     "text": [
      "Iteration: 100%|██████████| 1001/1001 [01:35<00:00, 10.46it/s]\n",
      "Iteration:  58%|█████▊    | 581/1001 [00:58<00:39, 10.75it/s]"
     ]
    },
    {
     "name": "stdout",
     "output_type": "stream",
     "text": [
      "Evaluating...\n"
     ]
    },
    {
     "name": "stderr",
     "output_type": "stream",
     "text": [
      "Iteration: 100%|██████████| 1001/1001 [01:34<00:00, 10.63it/s]\n",
      "Iteration:  19%|█▉        | 193/1001 [00:09<00:39, 20.20it/s]"
     ]
    },
    {
     "name": "stdout",
     "output_type": "stream",
     "text": [
      "Evaluating...\n"
     ]
    },
    {
     "name": "stderr",
     "output_type": "stream",
     "text": [
      "Iteration: 100%|██████████| 1001/1001 [01:33<00:00, 10.70it/s]\n",
      "Iteration:   0%|          | 2/1001 [00:00<01:16, 13.01it/s]s]"
     ]
    },
    {
     "name": "stdout",
     "output_type": "stream",
     "text": [
      "Evaluating...\n"
     ]
    },
    {
     "name": "stderr",
     "output_type": "stream",
     "text": [
      "Iteration:  99%|█████████▊| 988/1001 [01:32<00:01, 11.98it/s]]\n",
      "Iteration: 100%|██████████| 1001/1001 [01:33<00:00, 10.72it/s]\n",
      "Iteration:  66%|██████▋   | 665/1001 [00:32<00:17, 19.33it/s]"
     ]
    },
    {
     "name": "stdout",
     "output_type": "stream",
     "text": [
      "Evaluating...\n"
     ]
    },
    {
     "name": "stderr",
     "output_type": "stream",
     "text": [
      "Iteration:  75%|███████▌  | 751/1001 [00:37<00:12, 19.76it/s]\n",
      "Iteration:  75%|███████▌  | 755/1001 [00:37<00:12, 19.76it/s]"
     ]
    },
    {
     "name": "stdout",
     "output_type": "stream",
     "text": [
      "{'Train':  best_epoch_indx:66\n",
      " auc:0.9809799438175936 \n",
      " apur:0.8851664602419327 \n",
      " f1:0.7292518177515811 \n",
      " precision:0.5922121482102615 \n",
      " recall:0.9488090906546502 \n",
      ", 'Validation':  best_epoch_indx:66\n",
      " auc:0.9458077857727492 \n",
      " apur:0.7688316898018618 \n",
      " f1:0.6493855606758833 \n",
      " precision:0.5246664598200435 \n",
      " recall:0.851889168765743 \n",
      "}\n",
      "=====Epoch 67\n",
      "Training...\n"
     ]
    },
    {
     "name": "stderr",
     "output_type": "stream",
     "text": [
      "Iteration:  34%|███▍      | 339/1001 [00:16<00:32, 20.21it/s]]\n",
      "Iteration:  13%|█▎        | 127/1001 [00:11<01:12, 12.12it/s]\n",
      "Iteration:   0%|          | 0/1001 [00:00<?, ?it/s]"
     ]
    },
    {
     "name": "stdout",
     "output_type": "stream",
     "text": [
      "{'Train':  best_epoch_indx:66\n",
      " auc:0.9782656654669282 \n",
      " apur:0.8712908054144703 \n",
      " f1:0.7239890491597502 \n",
      " precision:0.5901769489970538 \n",
      " recall:0.936272040302267 \n",
      ", 'Validation':  best_epoch_indx:66\n",
      " auc:0.9443730366560583 \n",
      " apur:0.7573911290136317 \n",
      " f1:0.6544074722708698 \n",
      " precision:0.5331325301204819 \n",
      " recall:0.847103274559194 \n",
      "}\n",
      "=====Epoch 67\n",
      "Training...\n"
     ]
    },
    {
     "name": "stderr",
     "output_type": "stream",
     "text": [
      "Iteration:   4%|▎         | 37/1001 [00:03<01:23, 11.61it/s]]]\n",
      "Iteration:  23%|██▎       | 227/1001 [00:20<01:11, 10.82it/s]\n",
      "Iteration:  50%|█████     | 503/1001 [00:24<00:24, 20.34it/s]"
     ]
    },
    {
     "name": "stdout",
     "output_type": "stream",
     "text": [
      "{'Train':  best_epoch_indx:66\n",
      " auc:0.9778962524185347 \n",
      " apur:0.869929440524851 \n",
      " f1:0.6855859739166174 \n",
      " precision:0.534078840507278 \n",
      " recall:0.9570936774049091 \n",
      ", 'Validation':  best_epoch_indx:66\n",
      " auc:0.94454056562477 \n",
      " apur:0.7666207782895273 \n",
      " f1:0.6242691373572007 \n",
      " precision:0.4855183993283895 \n",
      " recall:0.8740554156171285 \n",
      "}\n",
      "=====Epoch 67\n",
      "Training...\n"
     ]
    },
    {
     "name": "stderr",
     "output_type": "stream",
     "text": [
      "Iteration:  47%|████▋     | 469/1001 [00:40<00:44, 11.99it/s]]\n",
      "Iteration:  31%|███       | 309/1001 [00:26<01:03, 10.93it/s]]\n",
      "Iteration:  31%|███       | 311/1001 [00:26<01:02, 10.96it/s]"
     ]
    },
    {
     "name": "stdout",
     "output_type": "stream",
     "text": [
      "{'Train':  best_epoch_indx:66\n",
      " auc:0.9804282098802605 \n",
      " apur:0.8814472003720231 \n",
      " f1:0.7238253851327547 \n",
      " precision:0.5850880220918191 \n",
      " recall:0.9488090906546502 \n",
      ", 'Validation':  best_epoch_indx:66\n",
      " auc:0.9414027038978408 \n",
      " apur:0.7602905813724239 \n",
      " f1:0.644239016487182 \n",
      " precision:0.5181664878123563 \n",
      " recall:0.8513853904282116 \n",
      "}\n",
      "=====Epoch 67\n",
      "Training...\n"
     ]
    },
    {
     "name": "stderr",
     "output_type": "stream",
     "text": [
      "Iteration:  40%|████      | 401/1001 [00:35<00:49, 12.14it/s]\n",
      "Iteration:  61%|██████    | 613/1001 [00:52<00:32, 12.06it/s]\n",
      "Iteration:  61%|██████▏   | 615/1001 [00:52<00:32, 12.03it/s]"
     ]
    },
    {
     "name": "stdout",
     "output_type": "stream",
     "text": [
      "{'Train':  best_epoch_indx:66\n",
      " auc:0.9828032055728025 \n",
      " apur:0.8950511941978675 \n",
      " f1:0.7416285192994724 \n",
      " precision:0.6082398480341207 \n",
      " recall:0.9499566178734361 \n",
      ", 'Validation':  best_epoch_indx:66\n",
      " auc:0.944227347739139 \n",
      " apur:0.7731143018048325 \n",
      " f1:0.6598646129696852 \n",
      " precision:0.5404145910332637 \n",
      " recall:0.847103274559194 \n",
      "}\n",
      "=====Epoch 67\n",
      "Training...\n"
     ]
    },
    {
     "name": "stderr",
     "output_type": "stream",
     "text": [
      "Iteration: 100%|██████████| 1001/1001 [01:27<00:00, 11.41it/s]\n",
      "Iteration:  77%|███████▋  | 767/1001 [01:07<00:19, 12.31it/s]"
     ]
    },
    {
     "name": "stdout",
     "output_type": "stream",
     "text": [
      "Evaluating...\n"
     ]
    },
    {
     "name": "stderr",
     "output_type": "stream",
     "text": [
      "Iteration: 100%|██████████| 1001/1001 [01:25<00:00, 11.66it/s]\n",
      "Iteration:   0%|          | 0/1001 [00:00<?, ?it/s]"
     ]
    },
    {
     "name": "stdout",
     "output_type": "stream",
     "text": [
      "Evaluating...\n"
     ]
    },
    {
     "name": "stderr",
     "output_type": "stream",
     "text": [
      "Iteration: 100%|██████████| 1001/1001 [01:27<00:00, 11.49it/s]\n",
      "Iteration:  68%|██████▊   | 681/1001 [01:00<00:28, 11.34it/s]"
     ]
    },
    {
     "name": "stdout",
     "output_type": "stream",
     "text": [
      "Evaluating...\n"
     ]
    },
    {
     "name": "stderr",
     "output_type": "stream",
     "text": [
      "Iteration: 100%|██████████| 1001/1001 [01:28<00:00, 11.29it/s]"
     ]
    },
    {
     "name": "stdout",
     "output_type": "stream",
     "text": [
      "Evaluating...\n"
     ]
    },
    {
     "name": "stderr",
     "output_type": "stream",
     "text": [
      "Iteration:  54%|█████▎    | 538/1001 [00:27<00:22, 20.52it/s]\n",
      "Iteration: 100%|██████████| 1001/1001 [01:25<00:00, 11.67it/s]\n",
      "Iteration:  62%|██████▏   | 616/1001 [00:31<00:17, 21.51it/s]"
     ]
    },
    {
     "name": "stdout",
     "output_type": "stream",
     "text": [
      "Evaluating...\n"
     ]
    },
    {
     "name": "stderr",
     "output_type": "stream",
     "text": [
      "Iteration:  65%|██████▍   | 646/1001 [00:32<00:16, 21.46it/s]\n",
      "Iteration:  99%|█████████▉| 990/1001 [00:48<00:00, 20.17it/s]\n",
      "Iteration:  14%|█▍        | 143/1001 [00:07<00:42, 20.22it/s]"
     ]
    },
    {
     "name": "stdout",
     "output_type": "stream",
     "text": [
      "{'Train':  best_epoch_indx:67\n",
      " auc:0.984602072432244 \n",
      " apur:0.9019547982678483 \n",
      " f1:0.7563032650802435 \n",
      " precision:0.6255103348528954 \n",
      " recall:0.956254023342383 \n",
      ", 'Validation':  best_epoch_indx:67\n",
      " auc:0.9476073143259169 \n",
      " apur:0.772607081671598 \n",
      " f1:0.6664034741413343 \n",
      " precision:0.5478740668614086 \n",
      " recall:0.8503778337531486 \n",
      "}\n",
      "=====Epoch 68\n",
      "Training...\n"
     ]
    },
    {
     "name": "stderr",
     "output_type": "stream",
     "text": [
      "Iteration:  20%|██        | 203/1001 [00:10<00:40, 19.86it/s]]\n",
      "Iteration:  28%|██▊       | 285/1001 [00:15<00:41, 17.14it/s]\n",
      "Iteration:  35%|███▍      | 350/1001 [00:19<00:32, 20.13it/s]"
     ]
    },
    {
     "name": "stdout",
     "output_type": "stream",
     "text": [
      "{'Train':  best_epoch_indx:67\n",
      " auc:0.9807077735361057 \n",
      " apur:0.883065678078659 \n",
      " f1:0.7382383919950848 \n",
      " precision:0.6071209441657343 \n",
      " recall:0.941589700531766 \n",
      ", 'Validation':  best_epoch_indx:67\n",
      " auc:0.9470816959365933 \n",
      " apur:0.7734050589255558 \n",
      " f1:0.6635042988437592 \n",
      " precision:0.5459424296633599 \n",
      " recall:0.8455919395465995 \n",
      "}\n",
      "=====Epoch 68\n",
      "Training...\n"
     ]
    },
    {
     "name": "stderr",
     "output_type": "stream",
     "text": [
      "Iteration:  39%|███▉      | 393/1001 [00:21<00:29, 20.79it/s]]\n",
      "Iteration:  20%|█▉        | 200/1001 [00:19<01:07, 11.92it/s]\n",
      "Iteration:   0%|          | 1/1001 [00:00<02:03,  8.10it/s]s]"
     ]
    },
    {
     "name": "stdout",
     "output_type": "stream",
     "text": [
      "{'Train':  best_epoch_indx:67\n",
      " auc:0.981906698549393 \n",
      " apur:0.8875731899858783 \n",
      " f1:0.7189109947643978 \n",
      " precision:0.5743253417209014 \n",
      " recall:0.9607881552800246 \n",
      ", 'Validation':  best_epoch_indx:67\n",
      " auc:0.9466199348415599 \n",
      " apur:0.7748297289477583 \n",
      " f1:0.6491642270280479 \n",
      " precision:0.5192627285088381 \n",
      " recall:0.8657430730478589 \n",
      "}\n",
      "=====Epoch 68\n",
      "Training...\n"
     ]
    },
    {
     "name": "stderr",
     "output_type": "stream",
     "text": [
      "Iteration:  38%|███▊      | 379/1001 [00:34<00:52, 11.78it/s]]\n",
      "Iteration:  56%|█████▋    | 63/112 [00:02<00:02, 20.22it/s]s]]\n",
      "Iteration:  54%|█████▍    | 542/1001 [00:48<00:38, 11.93it/s]\n",
      "Iteration:  51%|█████     | 57/112 [00:02<00:02, 19.93it/s]s]"
     ]
    },
    {
     "name": "stdout",
     "output_type": "stream",
     "text": [
      "{'Train':  best_epoch_indx:67\n",
      " auc:0.9843842220315437 \n",
      " apur:0.9005057989133622 \n",
      " f1:0.7541251573855228 \n",
      " precision:0.6228449455421159 \n",
      " recall:0.9555263231548602 \n",
      ", 'Validation':  best_epoch_indx:67\n",
      " auc:0.942736614203971 \n",
      " apur:0.7634790372547319 \n",
      " f1:0.6585534777876719 \n",
      " precision:0.5422845038292325 \n",
      " recall:0.8382871536523929 \n",
      "}\n",
      "=====Epoch 68\n",
      "Training...\n"
     ]
    },
    {
     "name": "stderr",
     "output_type": "stream",
     "text": [
      "Iteration:  48%|████▊     | 483/1001 [00:43<00:42, 12.11it/s]\n",
      "Iteration:  37%|███▋      | 370/1001 [00:32<01:01, 10.22it/s]"
     ]
    },
    {
     "name": "stdout",
     "output_type": "stream",
     "text": [
      "{'Train':  best_epoch_indx:67\n",
      " auc:0.9843592453399873 \n",
      " apur:0.9026687843668239 \n",
      " f1:0.753651390347725 \n",
      " precision:0.6228891000804152 \n",
      " recall:0.9539029919673094 \n",
      ", 'Validation':  best_epoch_indx:67\n",
      " auc:0.9445402270525385 \n",
      " apur:0.770785395834346 \n",
      " f1:0.663612826130253 \n",
      " precision:0.5487483530961792 \n",
      " recall:0.839294710327456 \n",
      "}\n",
      "=====Epoch 68\n",
      "Training...\n"
     ]
    },
    {
     "name": "stderr",
     "output_type": "stream",
     "text": [
      "Iteration: 100%|██████████| 1001/1001 [01:27<00:00, 11.50it/s]\n",
      "Iteration:   0%|          | 0/1001 [00:00<?, ?it/s]"
     ]
    },
    {
     "name": "stdout",
     "output_type": "stream",
     "text": [
      "Evaluating...\n"
     ]
    },
    {
     "name": "stderr",
     "output_type": "stream",
     "text": [
      "Iteration: 100%|██████████| 1001/1001 [01:28<00:00, 11.26it/s]\n",
      "Iteration:   0%|          | 0/1001 [00:00<?, ?it/s]"
     ]
    },
    {
     "name": "stdout",
     "output_type": "stream",
     "text": [
      "Evaluating...\n"
     ]
    },
    {
     "name": "stderr",
     "output_type": "stream",
     "text": [
      "Iteration: 100%|██████████| 1001/1001 [01:31<00:00, 10.96it/s]\n",
      "Iteration:   0%|          | 0/1001 [00:00<?, ?it/s]"
     ]
    },
    {
     "name": "stdout",
     "output_type": "stream",
     "text": [
      "Evaluating...\n"
     ]
    },
    {
     "name": "stderr",
     "output_type": "stream",
     "text": [
      "Iteration: 100%|██████████| 1001/1001 [01:23<00:00, 11.95it/s]\n",
      "Iteration:  95%|█████████▍| 950/1001 [00:45<00:02, 20.68it/s]"
     ]
    },
    {
     "name": "stdout",
     "output_type": "stream",
     "text": [
      "Evaluating...\n"
     ]
    },
    {
     "name": "stderr",
     "output_type": "stream",
     "text": [
      "Iteration:  56%|█████▌    | 557/1001 [00:26<00:22, 19.91it/s]]\n",
      "Iteration: 100%|██████████| 1001/1001 [01:26<00:00, 11.56it/s]\n",
      "Iteration:  20%|█▉        | 22/112 [00:01<00:04, 20.71it/s]s]"
     ]
    },
    {
     "name": "stdout",
     "output_type": "stream",
     "text": [
      "Evaluating...\n"
     ]
    },
    {
     "name": "stderr",
     "output_type": "stream",
     "text": [
      "Iteration:  21%|██        | 207/1001 [00:10<00:46, 17.10it/s]\n",
      "Iteration:  68%|██████▊   | 679/1001 [00:32<00:15, 20.47it/s]"
     ]
    },
    {
     "name": "stdout",
     "output_type": "stream",
     "text": [
      "{'Train':  best_epoch_indx:68\n",
      " auc:0.9870175854381025 \n",
      " apur:0.9161988518472824 \n",
      " f1:0.7664643990424763 \n",
      " precision:0.6363938912102948 \n",
      " recall:0.9633630944051051 \n",
      ", 'Validation':  best_epoch_indx:68\n",
      " auc:0.9494500429815306 \n",
      " apur:0.7805828395006065 \n",
      " f1:0.6695210594443891 \n",
      " precision:0.5535978923102256 \n",
      " recall:0.8468513853904283 \n",
      "}\n",
      "=====Epoch 69\n",
      "Training...\n"
     ]
    },
    {
     "name": "stderr",
     "output_type": "stream",
     "text": [
      "Iteration:   6%|▌         | 59/1001 [00:05<01:33, 10.11it/s]]]\n",
      "Iteration:  12%|█▏        | 125/1001 [00:10<01:15, 11.59it/s]\n",
      "Iteration:  42%|████▏     | 422/1001 [00:21<00:28, 20.36it/s]"
     ]
    },
    {
     "name": "stdout",
     "output_type": "stream",
     "text": [
      "{'Train':  best_epoch_indx:68\n",
      " auc:0.9833418341169773 \n",
      " apur:0.8965749491471816 \n",
      " f1:0.7477339559677082 \n",
      " precision:0.6164490529718343 \n",
      " recall:0.950069969213546 \n",
      ", 'Validation':  best_epoch_indx:68\n",
      " auc:0.9477769647282306 \n",
      " apur:0.7780705139521165 \n",
      " f1:0.6691954481932522 \n",
      " precision:0.5542328042328042 \n",
      " recall:0.8443324937027707 \n",
      "}\n",
      "=====Epoch 69\n",
      "Training...\n"
     ]
    },
    {
     "name": "stderr",
     "output_type": "stream",
     "text": [
      "Iteration:  47%|████▋     | 469/1001 [00:23<00:25, 20.66it/s]]\n",
      "Iteration:  69%|██████▉   | 693/1001 [00:35<00:15, 19.33it/s]\n",
      "Iteration:  14%|█▍        | 143/1001 [00:13<03:43,  3.83it/s]"
     ]
    },
    {
     "name": "stdout",
     "output_type": "stream",
     "text": [
      "{'Train':  best_epoch_indx:68\n",
      " auc:0.9850302876439951 \n",
      " apur:0.9048487016919985 \n",
      " f1:0.7563813315638133 \n",
      " precision:0.6252582691850579 \n",
      " recall:0.9570936774049091 \n",
      ", 'Validation':  best_epoch_indx:68\n",
      " auc:0.9483605946836959 \n",
      " apur:0.78566438446224 \n",
      " f1:0.6788306451612903 \n",
      " precision:0.5658823529411765 \n",
      " recall:0.8481108312342569 \n",
      "}\n",
      "=====Epoch 69\n",
      "Training...\n"
     ]
    },
    {
     "name": "stderr",
     "output_type": "stream",
     "text": [
      "Iteration:  35%|███▌      | 351/1001 [00:31<00:54, 11.91it/s]]\n",
      "Iteration: 100%|██████████| 112/112 [00:05<00:00, 20.80it/s]]]\n",
      "Iteration:  27%|██▋       | 269/1001 [00:23<01:00, 12.19it/s]\n",
      "Iteration:  27%|██▋       | 271/1001 [00:23<01:00, 12.13it/s]"
     ]
    },
    {
     "name": "stdout",
     "output_type": "stream",
     "text": [
      "{'Train':  best_epoch_indx:68\n",
      " auc:0.9864205377698326 \n",
      " apur:0.9134586386230351 \n",
      " f1:0.7526274475600717 \n",
      " precision:0.6164300383962854 \n",
      " recall:0.96607797587394 \n",
      ", 'Validation':  best_epoch_indx:68\n",
      " auc:0.9453285903506572 \n",
      " apur:0.7797558458239398 \n",
      " f1:0.6568388167529045 \n",
      " precision:0.5362665391359795 \n",
      " recall:0.8473551637279597 \n",
      "}\n",
      "=====Epoch 69\n",
      "Training...\n"
     ]
    },
    {
     "name": "stderr",
     "output_type": "stream",
     "text": [
      "Iteration:  33%|███▎      | 335/1001 [00:28<00:55, 11.91it/s]\n",
      "Iteration:   0%|          | 1/1001 [00:00<02:15,  7.41it/s]s]"
     ]
    },
    {
     "name": "stdout",
     "output_type": "stream",
     "text": [
      "{'Train':  best_epoch_indx:68\n",
      " auc:0.9881414910165198 \n",
      " apur:0.9223608746188834 \n",
      " f1:0.7740852635112453 \n",
      " precision:0.6448425644562927 \n",
      " recall:0.9681211340927538 \n",
      ", 'Validation':  best_epoch_indx:68\n",
      " auc:0.9478312477141018 \n",
      " apur:0.7872971698184761 \n",
      " f1:0.6731059462722607 \n",
      " precision:0.5603953761099012 \n",
      " recall:0.8425692695214105 \n",
      "}\n",
      "=====Epoch 69\n",
      "Training...\n"
     ]
    },
    {
     "name": "stderr",
     "output_type": "stream",
     "text": [
      "Iteration: 100%|██████████| 1001/1001 [01:33<00:00, 10.71it/s]\n",
      "Iteration:  96%|█████████▌| 961/1001 [01:22<00:03, 12.00it/s]"
     ]
    },
    {
     "name": "stdout",
     "output_type": "stream",
     "text": [
      "Evaluating...\n"
     ]
    },
    {
     "name": "stderr",
     "output_type": "stream",
     "text": [
      "Iteration: 100%|██████████| 1001/1001 [01:25<00:00, 11.65it/s]\n",
      "Iteration:   7%|▋         | 74/1001 [00:03<00:44, 20.87it/s]]"
     ]
    },
    {
     "name": "stdout",
     "output_type": "stream",
     "text": [
      "Evaluating...\n"
     ]
    },
    {
     "name": "stderr",
     "output_type": "stream",
     "text": [
      "Iteration: 100%|██████████| 1001/1001 [01:24<00:00, 11.86it/s]\n",
      "Iteration:  24%|██▍       | 244/1001 [00:12<00:37, 20.37it/s]"
     ]
    },
    {
     "name": "stdout",
     "output_type": "stream",
     "text": [
      "Evaluating...\n"
     ]
    },
    {
     "name": "stderr",
     "output_type": "stream",
     "text": [
      "Iteration: 100%|██████████| 1001/1001 [01:26<00:00, 11.51it/s]\n",
      "Iteration:   0%|          | 0/1001 [00:00<?, ?it/s]"
     ]
    },
    {
     "name": "stdout",
     "output_type": "stream",
     "text": [
      "Evaluating...\n"
     ]
    },
    {
     "name": "stderr",
     "output_type": "stream",
     "text": [
      "Iteration: 100%|██████████| 1001/1001 [01:29<00:00, 11.18it/s]\n",
      "Iteration:  95%|█████████▌| 955/1001 [00:49<00:02, 18.92it/s]"
     ]
    },
    {
     "name": "stdout",
     "output_type": "stream",
     "text": [
      "Evaluating...\n"
     ]
    },
    {
     "name": "stderr",
     "output_type": "stream",
     "text": [
      "Iteration:  10%|▉         | 96/1001 [00:04<00:44, 20.30it/s]]]\n",
      "Iteration:  27%|██▋       | 270/1001 [00:13<00:36, 19.78it/s]\n",
      "Iteration:  21%|██        | 211/1001 [00:10<00:40, 19.29it/s]\n",
      "Iteration:  21%|██▏       | 213/1001 [00:10<00:41, 19.02it/s]"
     ]
    },
    {
     "name": "stdout",
     "output_type": "stream",
     "text": [
      "{'Train':  best_epoch_indx:69\n",
      " auc:0.9893865024267594 \n",
      " apur:0.9292099280785883 \n",
      " f1:0.7823020415521204 \n",
      " precision:0.6547042072906255 \n",
      " recall:0.9716756696241149 \n",
      ", 'Validation':  best_epoch_indx:69\n",
      " auc:0.9513090488186015 \n",
      " apur:0.7896957159390511 \n",
      " f1:0.6744791666666667 \n",
      " precision:0.5598603259062188 \n",
      " recall:0.8481108312342569 \n",
      "}\n",
      "=====Epoch 70\n",
      "Training...\n"
     ]
    },
    {
     "name": "stderr",
     "output_type": "stream",
     "text": [
      "Iteration:  23%|██▎       | 227/1001 [00:11<00:41, 18.85it/s]\n",
      "Iteration:   0%|          | 1/1001 [00:00<02:25,  6.89it/s]s]"
     ]
    },
    {
     "name": "stdout",
     "output_type": "stream",
     "text": [
      "{'Train':  best_epoch_indx:69\n",
      " auc:0.986525474154142 \n",
      " apur:0.9127514805564191 \n",
      " f1:0.7664202604015454 \n",
      " precision:0.63759661117717 \n",
      " recall:0.9604813881891967 \n",
      ", 'Validation':  best_epoch_indx:69\n",
      " auc:0.9504671139648703 \n",
      " apur:0.7871026229660606 \n",
      " f1:0.6813675905320655 \n",
      " precision:0.5693035835023664 \n",
      " recall:0.8483627204030226 \n",
      "}\n",
      "=====Epoch 70\n",
      "Training...\n"
     ]
    },
    {
     "name": "stderr",
     "output_type": "stream",
     "text": [
      "Iteration:  35%|███▍      | 348/1001 [00:17<00:33, 19.70it/s]]\n",
      "Iteration:  13%|█▎        | 128/1001 [00:11<01:21, 10.76it/s]\n",
      "Iteration:  13%|█▎        | 130/1001 [00:11<01:22, 10.59it/s]"
     ]
    },
    {
     "name": "stdout",
     "output_type": "stream",
     "text": [
      "{'Train':  best_epoch_indx:69\n",
      " auc:0.9878824088041971 \n",
      " apur:0.920399299457356 \n",
      " f1:0.7673661119851101 \n",
      " precision:0.6350650065098198 \n",
      " recall:0.9692966497802905 \n",
      ", 'Validation':  best_epoch_indx:69\n",
      " auc:0.9508307491129193 \n",
      " apur:0.7986890259525061 \n",
      " f1:0.6812043613083927 \n",
      " precision:0.5649576903932305 \n",
      " recall:0.8576826196473551 \n",
      "}\n",
      "=====Epoch 70\n",
      "Training...\n"
     ]
    },
    {
     "name": "stderr",
     "output_type": "stream",
     "text": [
      "Iteration:  22%|██▏       | 223/1001 [00:21<01:16, 10.16it/s]]\n",
      "Iteration:  45%|████▍     | 448/1001 [00:38<00:51, 10.67it/s]]\n",
      "Iteration:  45%|████▍     | 450/1001 [00:38<00:53, 10.36it/s]"
     ]
    },
    {
     "name": "stdout",
     "output_type": "stream",
     "text": [
      "{'Train':  best_epoch_indx:69\n",
      " auc:0.9889582110729886 \n",
      " apur:0.9269120769178982 \n",
      " f1:0.7687826192499091 \n",
      " precision:0.6345537340619308 \n",
      " recall:0.9750342858742198 \n",
      ", 'Validation':  best_epoch_indx:69\n",
      " auc:0.9475902271425387 \n",
      " apur:0.7901648286996331 \n",
      " f1:0.6664699518048588 \n",
      " precision:0.5467161529772471 \n",
      " recall:0.8534005037783375 \n",
      "}\n",
      "=====Epoch 70\n",
      "Training...\n"
     ]
    },
    {
     "name": "stderr",
     "output_type": "stream",
     "text": [
      "Iteration:  47%|████▋     | 472/1001 [00:40<00:44, 11.79it/s]\n",
      "Iteration:  54%|█████▍    | 540/1001 [00:46<00:38, 12.03it/s]\n",
      "Iteration:   0%|          | 0/1001 [00:00<?, ?it/s]"
     ]
    },
    {
     "name": "stdout",
     "output_type": "stream",
     "text": [
      "{'Train':  best_epoch_indx:69\n",
      " auc:0.9896892489784566 \n",
      " apur:0.9309727125876147 \n",
      " f1:0.7814918121288466 \n",
      " precision:0.6532538593159468 \n",
      " recall:0.9723753813428867 \n",
      ", 'Validation':  best_epoch_indx:69\n",
      " auc:0.9490536691844156 \n",
      " apur:0.79554835176312 \n",
      " f1:0.6798267700674792 \n",
      " precision:0.5663701963416681 \n",
      " recall:0.8501259445843828 \n",
      "}\n",
      "=====Epoch 70\n",
      "Training...\n"
     ]
    },
    {
     "name": "stderr",
     "output_type": "stream",
     "text": [
      "Iteration: 100%|██████████| 1001/1001 [01:25<00:00, 11.68it/s]\n",
      "Iteration:  48%|████▊     | 479/1001 [00:39<00:42, 12.14it/s]"
     ]
    },
    {
     "name": "stdout",
     "output_type": "stream",
     "text": [
      "Evaluating...\n"
     ]
    },
    {
     "name": "stderr",
     "output_type": "stream",
     "text": [
      "Iteration: 100%|██████████| 1001/1001 [01:32<00:00, 10.80it/s]\n",
      "Iteration:  55%|█████▌    | 555/1001 [00:45<00:37, 12.01it/s]"
     ]
    },
    {
     "name": "stdout",
     "output_type": "stream",
     "text": [
      "Evaluating...\n"
     ]
    },
    {
     "name": "stderr",
     "output_type": "stream",
     "text": [
      "Iteration: 100%|██████████| 1001/1001 [01:28<00:00, 11.25it/s]\n",
      "Iteration:  68%|██████▊   | 682/1001 [01:01<00:28, 11.26it/s]"
     ]
    },
    {
     "name": "stdout",
     "output_type": "stream",
     "text": [
      "Evaluating...\n"
     ]
    },
    {
     "name": "stderr",
     "output_type": "stream",
     "text": [
      "Iteration: 100%|██████████| 1001/1001 [01:31<00:00, 10.90it/s]\n",
      "Iteration: 100%|█████████▉| 997/1001 [01:24<00:00, 12.28it/s]"
     ]
    },
    {
     "name": "stdout",
     "output_type": "stream",
     "text": [
      "Evaluating...\n"
     ]
    },
    {
     "name": "stderr",
     "output_type": "stream",
     "text": [
      "Iteration: 100%|██████████| 1001/1001 [01:24<00:00, 11.84it/s]\n",
      "Iteration:   0%|          | 2/1001 [00:00<01:00, 16.59it/s]s]"
     ]
    },
    {
     "name": "stdout",
     "output_type": "stream",
     "text": [
      "Evaluating...\n"
     ]
    },
    {
     "name": "stderr",
     "output_type": "stream",
     "text": [
      "Iteration:  95%|█████████▌| 951/1001 [00:48<00:02, 20.08it/s]]\n",
      "Iteration:  82%|████████▏ | 821/1001 [00:44<00:09, 19.60it/s]]\n",
      "Iteration:  28%|██▊       | 283/1001 [00:14<00:34, 20.92it/s]\n",
      "Iteration:  29%|██▊       | 286/1001 [00:14<00:34, 20.96it/s]"
     ]
    },
    {
     "name": "stdout",
     "output_type": "stream",
     "text": [
      "{'Train':  best_epoch_indx:70\n",
      " auc:0.9853402967525146 \n",
      " apur:0.9064116304269021 \n",
      " f1:0.771668793292016 \n",
      " precision:0.6507128309572301 \n",
      " recall:0.9478589420654912 \n",
      ", 'Validation':  best_epoch_indx:70\n",
      " auc:0.9488587501507504 \n",
      " apur:0.7815759893385426 \n",
      " f1:0.6868644947084457 \n",
      " precision:0.5839802399435426 \n",
      " recall:0.8337531486146096 \n",
      "}\n",
      "=====Epoch 71\n",
      "Training...\n"
     ]
    },
    {
     "name": "stderr",
     "output_type": "stream",
     "text": [
      "Iteration:  38%|███▊      | 385/1001 [00:19<00:30, 20.09it/s]\n",
      "Iteration:  94%|█████████▍| 939/1001 [00:50<00:03, 19.85it/s]"
     ]
    },
    {
     "name": "stdout",
     "output_type": "stream",
     "text": [
      "{'Train':  best_epoch_indx:70\n",
      " auc:0.9885296580706511 \n",
      " apur:0.9240721615722913 \n",
      " f1:0.770147798533094 \n",
      " precision:0.6373856113260834 \n",
      " recall:0.9727672199053989 \n",
      ", 'Validation':  best_epoch_indx:70\n",
      " auc:0.9500550587019965 \n",
      " apur:0.7845787777753019 \n",
      " f1:0.6677862293786427 \n",
      " precision:0.5493255322606858 \n",
      " recall:0.8513853904282116 \n",
      "}\n",
      "=====Epoch 71\n",
      "Training...\n"
     ]
    },
    {
     "name": "stderr",
     "output_type": "stream",
     "text": [
      "Iteration:  50%|█████     | 504/1001 [00:25<00:25, 19.69it/s]]\n",
      "Iteration:  62%|██████▏   | 618/1001 [00:31<00:19, 20.13it/s]\n",
      "Iteration:  62%|██████▏   | 621/1001 [00:31<00:19, 19.92it/s]"
     ]
    },
    {
     "name": "stdout",
     "output_type": "stream",
     "text": [
      "{'Train':  best_epoch_indx:70\n",
      " auc:0.9860769671652085 \n",
      " apur:0.910119604479794 \n",
      " f1:0.7511519231397666 \n",
      " precision:0.6148839034133466 \n",
      " recall:0.9650144140614068 \n",
      ", 'Validation':  best_epoch_indx:70\n",
      " auc:0.9486211710159198 \n",
      " apur:0.7878202272657482 \n",
      " f1:0.6679089839152609 \n",
      " precision:0.546900096370061 \n",
      " recall:0.8576826196473551 \n",
      "}\n",
      "=====Epoch 71\n",
      "Training...\n"
     ]
    },
    {
     "name": "stderr",
     "output_type": "stream",
     "text": [
      "Iteration:  35%|███▍      | 346/1001 [00:32<01:06,  9.87it/s]]\n",
      "Iteration:  27%|██▋       | 269/1001 [00:22<01:01, 11.98it/s]\n",
      "Iteration:  91%|█████████ | 102/112 [00:04<00:00, 21.44it/s]]\n",
      "Iteration:  40%|████      | 405/1001 [00:38<00:59,  9.94it/s]"
     ]
    },
    {
     "name": "stdout",
     "output_type": "stream",
     "text": [
      "{'Train':  best_epoch_indx:70\n",
      " auc:0.9886936585113938 \n",
      " apur:0.9248809961665206 \n",
      " f1:0.7748194844969037 \n",
      " precision:0.644993207659527 \n",
      " recall:0.970080326905315 \n",
      ", 'Validation':  best_epoch_indx:70\n",
      " auc:0.9474756654422923 \n",
      " apur:0.7880701244871624 \n",
      " f1:0.6719888234707115 \n",
      " precision:0.5564369525698232 \n",
      " recall:0.8481108312342569 \n",
      "}\n",
      "=====Epoch 71\n",
      "Training...\n"
     ]
    },
    {
     "name": "stderr",
     "output_type": "stream",
     "text": [
      "Iteration:  33%|███▎      | 333/1001 [00:27<00:55, 12.12it/s]\n",
      "Iteration:   1%|          | 7/1001 [00:00<01:30, 10.93it/s]s]"
     ]
    },
    {
     "name": "stdout",
     "output_type": "stream",
     "text": [
      "{'Train':  best_epoch_indx:70\n",
      " auc:0.990273832074655 \n",
      " apur:0.9344587564041074 \n",
      " f1:0.7806029948295543 \n",
      " precision:0.6503496503496503 \n",
      " recall:0.976097847686753 \n",
      ", 'Validation':  best_epoch_indx:70\n",
      " auc:0.9491770980485467 \n",
      " apur:0.7946319010507146 \n",
      " f1:0.6791733547351525 \n",
      " precision:0.5643547849283095 \n",
      " recall:0.8526448362720404 \n",
      "}\n",
      "=====Epoch 71\n",
      "Training...\n"
     ]
    },
    {
     "name": "stderr",
     "output_type": "stream",
     "text": [
      "Iteration: 100%|██████████| 1001/1001 [01:27<00:00, 11.50it/s]\n",
      "Iteration:   0%|          | 0/1001 [00:00<?, ?it/s]"
     ]
    },
    {
     "name": "stdout",
     "output_type": "stream",
     "text": [
      "Evaluating...\n"
     ]
    },
    {
     "name": "stderr",
     "output_type": "stream",
     "text": [
      "Iteration: 100%|██████████| 1001/1001 [01:30<00:00, 11.06it/s]\n",
      "Iteration:  62%|██████▏   | 617/1001 [00:52<00:33, 11.54it/s]"
     ]
    },
    {
     "name": "stdout",
     "output_type": "stream",
     "text": [
      "Evaluating...\n"
     ]
    },
    {
     "name": "stderr",
     "output_type": "stream",
     "text": [
      "Iteration: 100%|██████████| 1001/1001 [01:25<00:00, 11.65it/s]\n",
      "Iteration:  33%|███▎      | 326/1001 [00:15<00:33, 20.22it/s]"
     ]
    },
    {
     "name": "stdout",
     "output_type": "stream",
     "text": [
      "Evaluating...\n"
     ]
    },
    {
     "name": "stderr",
     "output_type": "stream",
     "text": [
      "Iteration: 100%|██████████| 1001/1001 [01:23<00:00, 12.03it/s]\n",
      "Iteration:  65%|██████▌   | 653/1001 [00:31<00:17, 20.39it/s]"
     ]
    },
    {
     "name": "stdout",
     "output_type": "stream",
     "text": [
      "Evaluating...\n"
     ]
    },
    {
     "name": "stderr",
     "output_type": "stream",
     "text": [
      "Iteration: 100%|██████████| 1001/1001 [01:28<00:00, 11.31it/s]\n",
      "Iteration:  61%|██████▏   | 615/1001 [00:30<00:18, 20.60it/s]"
     ]
    },
    {
     "name": "stdout",
     "output_type": "stream",
     "text": [
      "Evaluating...\n"
     ]
    },
    {
     "name": "stderr",
     "output_type": "stream",
     "text": [
      "Iteration:  89%|████████▊ | 887/1001 [00:42<00:05, 20.81it/s]]\n",
      "Iteration:  35%|███▍      | 349/1001 [00:17<00:36, 17.80it/s]]\n",
      "Iteration:   0%|          | 0/1001 [00:00<?, ?it/s]"
     ]
    },
    {
     "name": "stdout",
     "output_type": "stream",
     "text": [
      "{'Train':  best_epoch_indx:71\n",
      " auc:0.9859790518430309 \n",
      " apur:0.9098225074366358 \n",
      " f1:0.7614783131724921 \n",
      " precision:0.6324378330373002 \n",
      " recall:0.9566750629722922 \n",
      ", 'Validation':  best_epoch_indx:71\n",
      " auc:0.9485077064611325 \n",
      " apur:0.7809365656923473 \n",
      " f1:0.6764617087652209 \n",
      " precision:0.5632646220881515 \n",
      " recall:0.8465994962216624 \n",
      "}\n",
      "=====Epoch 72\n",
      "Training...\n"
     ]
    },
    {
     "name": "stderr",
     "output_type": "stream",
     "text": [
      "Iteration:  27%|██▋       | 273/1001 [00:13<00:36, 19.87it/s]\n",
      "Iteration: 100%|██████████| 1001/1001 [00:49<00:00, 20.30it/s]\n",
      "Iteration:   9%|▉         | 93/1001 [00:08<01:16, 11.83it/s]]"
     ]
    },
    {
     "name": "stdout",
     "output_type": "stream",
     "text": [
      "{'Train':  best_epoch_indx:71\n",
      " auc:0.985928944431579 \n",
      " apur:0.9102639860750682 \n",
      " f1:0.762715447697255 \n",
      " precision:0.6330205755236231 \n",
      " recall:0.9592487894987265 \n",
      ", 'Validation':  best_epoch_indx:71\n",
      " auc:0.9475167955398295 \n",
      " apur:0.7736097665477359 \n",
      " f1:0.6691316078744878 \n",
      " precision:0.5545800894484015 \n",
      " recall:0.8433249370277078 \n",
      "}\n",
      "=====Epoch 72\n",
      "Training...\n"
     ]
    },
    {
     "name": "stderr",
     "output_type": "stream",
     "text": [
      "Iteration:  12%|█▏        | 119/1001 [00:10<01:19, 11.14it/s]\n",
      "Iteration:  68%|██████▊   | 677/1001 [00:33<00:15, 20.26it/s]\n",
      "Iteration:  68%|██████▊   | 680/1001 [00:33<00:15, 20.16it/s]"
     ]
    },
    {
     "name": "stdout",
     "output_type": "stream",
     "text": [
      "{'Train':  best_epoch_indx:71\n",
      " auc:0.9841131919922435 \n",
      " apur:0.899996792312905 \n",
      " f1:0.7350757826602438 \n",
      " precision:0.594362110063219 \n",
      " recall:0.9630832097175963 \n",
      ", 'Validation':  best_epoch_indx:71\n",
      " auc:0.9461885766757677 \n",
      " apur:0.7815673046697279 \n",
      " f1:0.6513541965738348 \n",
      " precision:0.5252353758296033 \n",
      " recall:0.8571788413098237 \n",
      "}\n",
      "=====Epoch 72\n",
      "Training...\n"
     ]
    },
    {
     "name": "stderr",
     "output_type": "stream",
     "text": [
      "Iteration:  18%|█▊        | 185/1001 [00:18<04:27,  3.05it/s]]\n",
      "Iteration:  36%|███▋      | 363/1001 [00:32<00:58, 10.97it/s]]\n",
      "Iteration:  44%|████▍     | 438/1001 [00:40<00:47, 11.80it/s]"
     ]
    },
    {
     "name": "stdout",
     "output_type": "stream",
     "text": [
      "{'Train':  best_epoch_indx:71\n",
      " auc:0.986101688029675 \n",
      " apur:0.9103905068220669 \n",
      " f1:0.7751339910558837 \n",
      " precision:0.6530968360498561 \n",
      " recall:0.9532592571860393 \n",
      ", 'Validation':  best_epoch_indx:71\n",
      " auc:0.9421307327671661 \n",
      " apur:0.7653273942563935 \n",
      " f1:0.6679595794631009 \n",
      " precision:0.5615239402780161 \n",
      " recall:0.8241813602015113 \n",
      "}\n",
      "=====Epoch 72\n",
      "Training...\n"
     ]
    },
    {
     "name": "stderr",
     "output_type": "stream",
     "text": [
      "Iteration:  25%|██▍       | 250/1001 [00:24<01:15,  9.92it/s]\n",
      "Iteration:  31%|███       | 312/1001 [00:30<01:10,  9.77it/s]\n",
      "Iteration:   6%|▋         | 65/1001 [00:06<01:33, 10.06it/s]]"
     ]
    },
    {
     "name": "stdout",
     "output_type": "stream",
     "text": [
      "{'Train':  best_epoch_indx:71\n",
      " auc:0.9888552540092985 \n",
      " apur:0.9262387150449694 \n",
      " f1:0.7794853305692009 \n",
      " precision:0.652346917608011 \n",
      " recall:0.9681771110302555 \n",
      ", 'Validation':  best_epoch_indx:71\n",
      " auc:0.9466424520378147 \n",
      " apur:0.7830487191783582 \n",
      " f1:0.6724590826429582 \n",
      " precision:0.5614035087719298 \n",
      " recall:0.8382871536523929 \n",
      "}\n",
      "=====Epoch 72\n",
      "Training...\n"
     ]
    },
    {
     "name": "stderr",
     "output_type": "stream",
     "text": [
      "Iteration: 100%|██████████| 1001/1001 [01:28<00:00, 11.29it/s]\n",
      "Iteration:   0%|          | 2/1001 [00:00<01:10, 14.27it/s]s]"
     ]
    },
    {
     "name": "stdout",
     "output_type": "stream",
     "text": [
      "Evaluating...\n"
     ]
    },
    {
     "name": "stderr",
     "output_type": "stream",
     "text": [
      "Iteration: 100%|██████████| 1001/1001 [01:24<00:00, 11.80it/s]\n",
      "Iteration:   9%|▉         | 88/1001 [00:04<00:44, 20.58it/s]]"
     ]
    },
    {
     "name": "stdout",
     "output_type": "stream",
     "text": [
      "Evaluating...\n"
     ]
    },
    {
     "name": "stderr",
     "output_type": "stream",
     "text": [
      "Iteration: 100%|██████████| 1001/1001 [01:33<00:00, 10.72it/s]\n",
      "Iteration:   0%|          | 2/1001 [00:00<01:02, 15.89it/s]s]"
     ]
    },
    {
     "name": "stdout",
     "output_type": "stream",
     "text": [
      "Evaluating...\n"
     ]
    },
    {
     "name": "stderr",
     "output_type": "stream",
     "text": [
      "Iteration: 100%|██████████| 1001/1001 [01:27<00:00, 11.49it/s]\n",
      "Iteration:   0%|          | 2/1001 [00:00<01:10, 14.23it/s]s]"
     ]
    },
    {
     "name": "stdout",
     "output_type": "stream",
     "text": [
      "Evaluating...\n"
     ]
    },
    {
     "name": "stderr",
     "output_type": "stream",
     "text": [
      "Iteration: 100%|██████████| 1001/1001 [01:35<00:00, 10.44it/s]\n",
      "Iteration:   0%|          | 2/1001 [00:00<01:08, 14.49it/s]s]"
     ]
    },
    {
     "name": "stdout",
     "output_type": "stream",
     "text": [
      "Evaluating...\n"
     ]
    },
    {
     "name": "stderr",
     "output_type": "stream",
     "text": [
      "Iteration:  64%|██████▍   | 642/1001 [00:31<00:17, 20.77it/s]]\n",
      "Iteration:  22%|██▏       | 220/1001 [00:10<00:37, 20.59it/s]]\n",
      "Iteration:  35%|███▍      | 39/112 [00:01<00:03, 20.79it/s]s]\n",
      "Iteration:   0%|          | 1/1001 [00:00<01:59,  8.34it/s]s]"
     ]
    },
    {
     "name": "stdout",
     "output_type": "stream",
     "text": [
      "{'Train':  best_epoch_indx:72\n",
      " auc:0.9820926388228547 \n",
      " apur:0.8895583729305451 \n",
      " f1:0.7430715555262986 \n",
      " precision:0.6110870506712863 \n",
      " recall:0.9477749790092359 \n",
      ", 'Validation':  best_epoch_indx:72\n",
      " auc:0.9469294155754711 \n",
      " apur:0.7673168255129201 \n",
      " f1:0.6642176330420969 \n",
      " precision:0.548180924287119 \n",
      " recall:0.8425692695214105 \n",
      "}\n",
      "=====Epoch 73\n",
      "Training...\n"
     ]
    },
    {
     "name": "stderr",
     "output_type": "stream",
     "text": [
      "Iteration:  83%|████████▎ | 831/1001 [00:40<00:08, 20.74it/s]\n",
      "Iteration:  83%|████████▎ | 834/1001 [00:40<00:08, 20.76it/s]"
     ]
    },
    {
     "name": "stdout",
     "output_type": "stream",
     "text": [
      "{'Train':  best_epoch_indx:72\n",
      " auc:0.9849124678100861 \n",
      " apur:0.904521450639546 \n",
      " f1:0.7601912851553356 \n",
      " precision:0.6316783994071878 \n",
      " recall:0.9543508074673235 \n",
      ", 'Validation':  best_epoch_indx:72\n",
      " auc:0.946137666555038 \n",
      " apur:0.7721438212265246 \n",
      " f1:0.6649361022364217 \n",
      " precision:0.5507773734700628 \n",
      " recall:0.8387909319899244 \n",
      "}\n",
      "=====Epoch 73\n",
      "Training...\n"
     ]
    },
    {
     "name": "stderr",
     "output_type": "stream",
     "text": [
      "Iteration:  55%|█████▍    | 550/1001 [00:26<00:23, 19.17it/s]]\n",
      "Iteration:  17%|█▋        | 174/1001 [00:16<01:10, 11.81it/s]\n",
      "Iteration:   0%|          | 1/1001 [00:00<01:55,  8.66it/s]s]"
     ]
    },
    {
     "name": "stdout",
     "output_type": "stream",
     "text": [
      "{'Train':  best_epoch_indx:72\n",
      " auc:0.9835115780150967 \n",
      " apur:0.8968639891487125 \n",
      " f1:0.7358966379430607 \n",
      " precision:0.5967489296529639 \n",
      " recall:0.9596686165299897 \n",
      ", 'Validation':  best_epoch_indx:72\n",
      " auc:0.9465257217609975 \n",
      " apur:0.7786222910950723 \n",
      " f1:0.6587416642505075 \n",
      " precision:0.5344205739375882 \n",
      " recall:0.8584382871536524 \n",
      "}\n",
      "=====Epoch 73\n",
      "Training...\n"
     ]
    },
    {
     "name": "stderr",
     "output_type": "stream",
     "text": [
      "Iteration:  99%|█████████▉| 990/1001 [00:49<00:00, 20.54it/s]]\n",
      "Iteration:  42%|████▏     | 422/1001 [00:38<00:56, 10.17it/s]]\n",
      "Iteration:  45%|████▍     | 447/1001 [00:40<00:54, 10.13it/s]\n",
      "Iteration:  28%|██▊       | 283/1001 [00:24<01:10, 10.19it/s]"
     ]
    },
    {
     "name": "stdout",
     "output_type": "stream",
     "text": [
      "{'Train':  best_epoch_indx:72\n",
      " auc:0.9853624150935735 \n",
      " apur:0.905599026656394 \n",
      " f1:0.7449814126394053 \n",
      " precision:0.6056661293713645 \n",
      " recall:0.9675333762489854 \n",
      ", 'Validation':  best_epoch_indx:72\n",
      " auc:0.9424462220867553 \n",
      " apur:0.7651479883479317 \n",
      " f1:0.650212109525646 \n",
      " precision:0.5267104029990628 \n",
      " recall:0.8493702770780857 \n",
      "}\n",
      "=====Epoch 73\n",
      "Training...\n"
     ]
    },
    {
     "name": "stderr",
     "output_type": "stream",
     "text": [
      "Iteration:  55%|█████▌    | 553/1001 [00:47<00:37, 12.01it/s]\n",
      "Iteration:   4%|▍         | 39/1001 [00:03<01:23, 11.57it/s]]"
     ]
    },
    {
     "name": "stdout",
     "output_type": "stream",
     "text": [
      "{'Train':  best_epoch_indx:72\n",
      " auc:0.9844232229588399 \n",
      " apur:0.9022095181269747 \n",
      " f1:0.7405842861299395 \n",
      " precision:0.6021237821546226 \n",
      " recall:0.9617397632175544 \n",
      ", 'Validation':  best_epoch_indx:72\n",
      " auc:0.9440525287531396 \n",
      " apur:0.7721644114574873 \n",
      " f1:0.646794688067259 \n",
      " precision:0.5210096967831307 \n",
      " recall:0.8526448362720404 \n",
      "}\n",
      "=====Epoch 73\n",
      "Training...\n"
     ]
    },
    {
     "name": "stderr",
     "output_type": "stream",
     "text": [
      "Iteration: 100%|██████████| 1001/1001 [01:25<00:00, 11.77it/s]\n",
      "Iteration:  42%|████▏     | 419/1001 [00:37<00:55, 10.51it/s]"
     ]
    },
    {
     "name": "stdout",
     "output_type": "stream",
     "text": [
      "Evaluating...\n"
     ]
    },
    {
     "name": "stderr",
     "output_type": "stream",
     "text": [
      "Iteration: 100%|██████████| 1001/1001 [01:33<00:00, 10.68it/s]\n",
      "Iteration:  55%|█████▌    | 551/1001 [00:49<00:42, 10.47it/s]"
     ]
    },
    {
     "name": "stdout",
     "output_type": "stream",
     "text": [
      "Evaluating...\n"
     ]
    },
    {
     "name": "stderr",
     "output_type": "stream",
     "text": [
      "Iteration: 100%|██████████| 1001/1001 [01:30<00:00, 11.03it/s]\n",
      "Iteration:  29%|██▉       | 289/1001 [00:13<00:33, 21.47it/s]"
     ]
    },
    {
     "name": "stdout",
     "output_type": "stream",
     "text": [
      "Evaluating...\n"
     ]
    },
    {
     "name": "stderr",
     "output_type": "stream",
     "text": [
      "Iteration:  78%|███████▊  | 778/1001 [00:38<00:11, 18.86it/s]]\n",
      "Iteration:  78%|███████▊  | 780/1001 [00:38<00:11, 18.56it/s]"
     ]
    },
    {
     "name": "stdout",
     "output_type": "stream",
     "text": [
      "Evaluating...\n"
     ]
    },
    {
     "name": "stderr",
     "output_type": "stream",
     "text": [
      "Iteration: 100%|██████████| 1001/1001 [01:32<00:00, 10.83it/s]\n",
      "Iteration:   0%|          | 0/1001 [00:00<?, ?it/s]"
     ]
    },
    {
     "name": "stdout",
     "output_type": "stream",
     "text": [
      "Evaluating...\n"
     ]
    },
    {
     "name": "stderr",
     "output_type": "stream",
     "text": [
      "Iteration:  83%|████████▎ | 835/1001 [00:40<00:08, 20.56it/s]\n",
      "Iteration:  67%|██████▋   | 672/1001 [00:33<00:15, 20.69it/s]\n",
      "Iteration:  14%|█▍        | 143/1001 [00:07<00:42, 20.42it/s]"
     ]
    },
    {
     "name": "stdout",
     "output_type": "stream",
     "text": [
      "{'Train':  best_epoch_indx:73\n",
      " auc:0.979874593985886 \n",
      " apur:0.8772855430869297 \n",
      " f1:0.7175487230297345 \n",
      " precision:0.5755203489846643 \n",
      " recall:0.9526448362720403 \n",
      ", 'Validation':  best_epoch_indx:73\n",
      " auc:0.9434758416712815 \n",
      " apur:0.7540165112120654 \n",
      " f1:0.6497142857142857 \n",
      " precision:0.5223583460949464 \n",
      " recall:0.8591939546599496 \n",
      "}\n",
      "=====Epoch 74\n",
      "Training...\n"
     ]
    },
    {
     "name": "stderr",
     "output_type": "stream",
     "text": [
      "Iteration:   5%|▌         | 51/1001 [00:04<01:24, 11.25it/s]]]\n",
      "Iteration:  88%|████████▊ | 878/1001 [00:43<00:06, 19.73it/s]"
     ]
    },
    {
     "name": "stdout",
     "output_type": "stream",
     "text": [
      "{'Train':  best_epoch_indx:73\n",
      " auc:0.9838388003909478 \n",
      " apur:0.8981608970406898 \n",
      " f1:0.7550812106150706 \n",
      " precision:0.6254709871891485 \n",
      " recall:0.952447591592264 \n",
      ", 'Validation':  best_epoch_indx:73\n",
      " auc:0.9448122762691123 \n",
      " apur:0.7625598913461966 \n",
      " f1:0.6584378394391232 \n",
      " precision:0.5414974825401981 \n",
      " recall:0.8397984886649874 \n",
      "}\n",
      "=====Epoch 74\n",
      "Training...\n"
     ]
    },
    {
     "name": "stderr",
     "output_type": "stream",
     "text": [
      "\n",
      "Iteration:  51%|█████▏    | 514/1001 [00:27<00:24, 20.02it/s]]\n",
      "Iteration:  63%|██████▎   | 631/1001 [00:33<00:18, 20.38it/s]\n",
      "Iteration:   0%|          | 0/1001 [00:00<?, ?it/s]"
     ]
    },
    {
     "name": "stdout",
     "output_type": "stream",
     "text": [
      "{'Train':  best_epoch_indx:73\n",
      " auc:0.9794994230828199 \n",
      " apur:0.8780187283419143 \n",
      " f1:0.7237136465324385 \n",
      " precision:0.5876989187206316 \n",
      " recall:0.9416440426544264 \n",
      ", 'Validation':  best_epoch_indx:73\n",
      " auc:0.9436655878355369 \n",
      " apur:0.7670513778660226 \n",
      " f1:0.65047128558935 \n",
      " precision:0.5295048251858883 \n",
      " recall:0.8430730478589421 \n",
      "}\n",
      "=====Epoch 74\n",
      "Training...\n"
     ]
    },
    {
     "name": "stderr",
     "output_type": "stream",
     "text": [
      "Iteration:  38%|███▊      | 381/1001 [00:34<00:59, 10.35it/s]]\n",
      "Iteration:  27%|██▋       | 267/1001 [00:22<01:01, 11.98it/s]]\n",
      "Iteration:  59%|█████▉    | 589/1001 [00:50<00:34, 11.78it/s]\n",
      "Iteration:  59%|█████▉    | 591/1001 [00:50<00:34, 11.79it/s]"
     ]
    },
    {
     "name": "stdout",
     "output_type": "stream",
     "text": [
      "{'Train':  best_epoch_indx:73\n",
      " auc:0.9831582120368209 \n",
      " apur:0.895890854503624 \n",
      " f1:0.7358439912803496 \n",
      " precision:0.5969613548454542 \n",
      " recall:0.9589409163424669 \n",
      ", 'Validation':  best_epoch_indx:73\n",
      " auc:0.9409532299748025 \n",
      " apur:0.7608601047028999 \n",
      " f1:0.6432131901840491 \n",
      " precision:0.5191891055400805 \n",
      " recall:0.845088161209068 \n",
      "}\n",
      "=====Epoch 74\n",
      "Training...\n"
     ]
    },
    {
     "name": "stderr",
     "output_type": "stream",
     "text": [
      "Iteration:  62%|██████▏   | 625/1001 [00:53<00:31, 12.00it/s]\n",
      "Iteration:  63%|██████▎   | 627/1001 [00:53<00:31, 12.00it/s]"
     ]
    },
    {
     "name": "stdout",
     "output_type": "stream",
     "text": [
      "{'Train':  best_epoch_indx:73\n",
      " auc:0.9834558663156027 \n",
      " apur:0.8986580811308117 \n",
      " f1:0.7355019087047691 \n",
      " precision:0.5971955436035343 \n",
      " recall:0.9571776428111618 \n",
      ", 'Validation':  best_epoch_indx:73\n",
      " auc:0.9436883450323612 \n",
      " apur:0.7717456104307391 \n",
      " f1:0.6509963242406656 \n",
      " precision:0.5284233668341709 \n",
      " recall:0.8476070528967254 \n",
      "}\n",
      "=====Epoch 74\n",
      "Training...\n"
     ]
    },
    {
     "name": "stderr",
     "output_type": "stream",
     "text": [
      "Iteration: 100%|██████████| 1001/1001 [01:24<00:00, 11.90it/s]\n",
      "Iteration:  34%|███▍      | 338/1001 [00:30<00:54, 12.09it/s]"
     ]
    },
    {
     "name": "stdout",
     "output_type": "stream",
     "text": [
      "Evaluating...\n"
     ]
    },
    {
     "name": "stderr",
     "output_type": "stream",
     "text": [
      "Iteration: 100%|██████████| 1001/1001 [01:30<00:00, 11.03it/s]\n",
      "Iteration:  59%|█████▊    | 587/1001 [00:50<00:39, 10.35it/s]"
     ]
    },
    {
     "name": "stdout",
     "output_type": "stream",
     "text": [
      "Evaluating...\n"
     ]
    },
    {
     "name": "stderr",
     "output_type": "stream",
     "text": [
      "Iteration: 100%|██████████| 1001/1001 [01:23<00:00, 11.92it/s]\n",
      "Iteration:   0%|          | 0/1001 [00:00<?, ?it/s]"
     ]
    },
    {
     "name": "stdout",
     "output_type": "stream",
     "text": [
      "Evaluating...\n"
     ]
    },
    {
     "name": "stderr",
     "output_type": "stream",
     "text": [
      "Iteration:  58%|█████▊    | 582/1001 [00:28<00:20, 20.42it/s]]\n",
      "Iteration: 100%|██████████| 1001/1001 [01:28<00:00, 11.25it/s]\n",
      "Iteration:  77%|███████▋  | 775/1001 [00:38<00:10, 21.28it/s]"
     ]
    },
    {
     "name": "stdout",
     "output_type": "stream",
     "text": [
      "Evaluating...\n"
     ]
    },
    {
     "name": "stderr",
     "output_type": "stream",
     "text": [
      "Iteration: 100%|██████████| 1001/1001 [01:27<00:00, 11.49it/s]\n",
      "Iteration:  80%|████████  | 802/1001 [00:39<00:09, 20.68it/s]"
     ]
    },
    {
     "name": "stdout",
     "output_type": "stream",
     "text": [
      "Evaluating...\n"
     ]
    },
    {
     "name": "stderr",
     "output_type": "stream",
     "text": [
      "Iteration:  85%|████████▌ | 853/1001 [00:42<00:07, 19.93it/s]\n",
      "Iteration:   0%|          | 1/1001 [00:00<01:50,  9.03it/s]s]"
     ]
    },
    {
     "name": "stdout",
     "output_type": "stream",
     "text": [
      "{'Train':  best_epoch_indx:74\n",
      " auc:0.9757087071873608 \n",
      " apur:0.8592844337323647 \n",
      " f1:0.7034118534663425 \n",
      " precision:0.5621922213661183 \n",
      " recall:0.9393786733837112 \n",
      ", 'Validation':  best_epoch_indx:74\n",
      " auc:0.9420931855352684 \n",
      " apur:0.746266977409439 \n",
      " f1:0.6395612708018155 \n",
      " precision:0.511958825310324 \n",
      " recall:0.851889168765743 \n",
      "}\n",
      "=====Epoch 75\n",
      "Training...\n"
     ]
    },
    {
     "name": "stderr",
     "output_type": "stream",
     "text": [
      "Iteration:  26%|██▋       | 265/1001 [00:13<00:36, 20.23it/s]]\n",
      "Iteration:  38%|███▊      | 379/1001 [00:19<00:30, 20.26it/s]]\n",
      "Iteration:  37%|███▋      | 368/1001 [00:18<00:31, 20.17it/s]"
     ]
    },
    {
     "name": "stdout",
     "output_type": "stream",
     "text": [
      "{'Train':  best_epoch_indx:74\n",
      " auc:0.9808958265002441 \n",
      " apur:0.8847945811113407 \n",
      " f1:0.7611692563050395 \n",
      " precision:0.6470691986595332 \n",
      " recall:0.9241232612163789 \n",
      ", 'Validation':  best_epoch_indx:74\n",
      " auc:0.9427150012955745 \n",
      " apur:0.7564013881174985 \n",
      " f1:0.6674976628233095 \n",
      " precision:0.567968888103235 \n",
      " recall:0.8093198992443325 \n",
      "}\n",
      "=====Epoch 75\n",
      "Training...\n"
     ]
    },
    {
     "name": "stderr",
     "output_type": "stream",
     "text": [
      "Iteration:  42%|████▏     | 424/1001 [00:21<00:28, 20.46it/s]\n",
      "Iteration:  53%|█████▎    | 527/1001 [00:26<00:26, 17.60it/s]\n",
      "Iteration:   0%|          | 1/1001 [00:00<01:50,  9.04it/s]s]"
     ]
    },
    {
     "name": "stdout",
     "output_type": "stream",
     "text": [
      "{'Train':  best_epoch_indx:74\n",
      " auc:0.9748499383453654 \n",
      " apur:0.8538415503626547 \n",
      " f1:0.6893766209802253 \n",
      " precision:0.543901649951472 \n",
      " recall:0.9410842732794089 \n",
      ", 'Validation':  best_epoch_indx:74\n",
      " auc:0.9398569330892983 \n",
      " apur:0.7481723058031123 \n",
      " f1:0.6267858788828463 \n",
      " precision:0.4942578863206861 \n",
      " recall:0.8564231738035264 \n",
      "}\n",
      "=====Epoch 75\n",
      "Training...\n"
     ]
    },
    {
     "name": "stderr",
     "output_type": "stream",
     "text": [
      "Iteration:  39%|███▉      | 393/1001 [00:34<00:49, 12.17it/s]]\n",
      "Iteration:  32%|███▏      | 319/1001 [00:29<01:29,  7.60it/s]]\n",
      "Iteration:  64%|██████▎   | 637/1001 [00:55<00:32, 11.12it/s]\n",
      "Iteration:   0%|          | 0/1001 [00:00<?, ?it/s]"
     ]
    },
    {
     "name": "stdout",
     "output_type": "stream",
     "text": [
      "{'Train':  best_epoch_indx:74\n",
      " auc:0.981343671094384 \n",
      " apur:0.8878672143340789 \n",
      " f1:0.7293784279841574 \n",
      " precision:0.591542184616456 \n",
      " recall:0.9509642027484676 \n",
      ", 'Validation':  best_epoch_indx:74\n",
      " auc:0.9425669895160037 \n",
      " apur:0.7652981122959462 \n",
      " f1:0.6441458733205374 \n",
      " precision:0.5203100775193799 \n",
      " recall:0.8453400503778338 \n",
      "}\n",
      "=====Epoch 75\n",
      "Training...\n"
     ]
    },
    {
     "name": "stderr",
     "output_type": "stream",
     "text": [
      "Iteration:  39%|███▉      | 393/1001 [00:36<00:56, 10.83it/s]\n",
      "Iteration:   0%|          | 1/1001 [00:00<02:19,  7.17it/s]s]"
     ]
    },
    {
     "name": "stdout",
     "output_type": "stream",
     "text": [
      "{'Train':  best_epoch_indx:74\n",
      " auc:0.978186798305777 \n",
      " apur:0.8718901405418354 \n",
      " f1:0.7143008094000295 \n",
      " precision:0.5737663175406135 \n",
      " recall:0.9460102437795628 \n",
      ", 'Validation':  best_epoch_indx:74\n",
      " auc:0.9372242768461422 \n",
      " apur:0.7485801907766121 \n",
      " f1:0.6281255875164504 \n",
      " precision:0.5010497900419916 \n",
      " recall:0.8415617128463476 \n",
      "}\n",
      "=====Epoch 75\n",
      "Training...\n"
     ]
    },
    {
     "name": "stderr",
     "output_type": "stream",
     "text": [
      "Iteration: 100%|██████████| 1001/1001 [01:31<00:00, 10.99it/s]\n",
      "Iteration:  37%|███▋      | 369/1001 [00:35<01:12,  8.68it/s]"
     ]
    },
    {
     "name": "stdout",
     "output_type": "stream",
     "text": [
      "Evaluating...\n"
     ]
    },
    {
     "name": "stderr",
     "output_type": "stream",
     "text": [
      "Iteration: 100%|██████████| 1001/1001 [01:25<00:00, 11.66it/s]\n",
      "Iteration:  48%|████▊     | 479/1001 [00:41<00:45, 11.39it/s]"
     ]
    },
    {
     "name": "stdout",
     "output_type": "stream",
     "text": [
      "Evaluating...\n"
     ]
    },
    {
     "name": "stderr",
     "output_type": "stream",
     "text": [
      "Iteration: 100%|██████████| 1001/1001 [01:34<00:00, 10.58it/s]\n",
      "Iteration:  67%|██████▋   | 669/1001 [00:58<00:27, 11.99it/s]"
     ]
    },
    {
     "name": "stdout",
     "output_type": "stream",
     "text": [
      "Evaluating...\n"
     ]
    },
    {
     "name": "stderr",
     "output_type": "stream",
     "text": [
      "Iteration:  86%|████████▌ | 860/1001 [00:41<00:06, 20.75it/s]]\n",
      "Iteration: 100%|██████████| 1001/1001 [01:26<00:00, 11.63it/s]\n",
      "Iteration:   0%|          | 0/1001 [00:00<?, ?it/s]"
     ]
    },
    {
     "name": "stdout",
     "output_type": "stream",
     "text": [
      "Evaluating...\n"
     ]
    },
    {
     "name": "stderr",
     "output_type": "stream",
     "text": [
      "Iteration:  98%|█████████▊| 977/1001 [00:46<00:01, 20.46it/s]\n",
      "Iteration:   5%|▌         | 52/1001 [00:02<00:49, 19.04it/s]]"
     ]
    },
    {
     "name": "stdout",
     "output_type": "stream",
     "text": [
      "{'Train':  best_epoch_indx:75\n",
      " auc:0.9700855509782162 \n",
      " apur:0.8344443358595425 \n",
      " f1:0.6925518925518926 \n",
      " precision:0.5579334530835686 \n",
      " recall:0.9127903722362161 \n",
      ", 'Validation':  best_epoch_indx:75\n",
      " auc:0.9359478252476999 \n",
      " apur:0.7252528193198797 \n",
      " f1:0.6302263137706177 \n",
      " precision:0.5088262620006194 \n",
      " recall:0.8277078085642318 \n",
      "}\n",
      "=====Epoch 76\n",
      "Training...\n"
     ]
    },
    {
     "name": "stderr",
     "output_type": "stream",
     "text": [
      "Iteration: 100%|██████████| 1001/1001 [01:34<00:00, 10.55it/s]\n",
      "Iteration:   2%|▏         | 23/1001 [00:02<01:35, 10.21it/s]]"
     ]
    },
    {
     "name": "stdout",
     "output_type": "stream",
     "text": [
      "Evaluating...\n"
     ]
    },
    {
     "name": "stderr",
     "output_type": "stream",
     "text": [
      "Iteration:   3%|▎         | 34/1001 [00:01<00:47, 20.43it/s]]\n",
      "Iteration:  23%|██▎       | 235/1001 [00:11<00:37, 20.57it/s]\n",
      "Iteration:  10%|▉         | 97/1001 [00:09<01:29, 10.09it/s]]"
     ]
    },
    {
     "name": "stdout",
     "output_type": "stream",
     "text": [
      "{'Train':  best_epoch_indx:75\n",
      " auc:0.9802374070325253 \n",
      " apur:0.8814063621139395 \n",
      " f1:0.7272962066182406 \n",
      " precision:0.5908105461920414 \n",
      " recall:0.9457863360295559 \n",
      ", 'Validation':  best_epoch_indx:75\n",
      " auc:0.9432160196265609 \n",
      " apur:0.7531909210946265 \n",
      " f1:0.6468538238141336 \n",
      " precision:0.525314465408805 \n",
      " recall:0.8415617128463476 \n",
      "}\n",
      "=====Epoch 76\n",
      "Training...\n"
     ]
    },
    {
     "name": "stderr",
     "output_type": "stream",
     "text": [
      "Iteration:  24%|██▍       | 243/1001 [00:21<01:03, 12.02it/s]]\n",
      "Iteration:  60%|█████▉    | 600/1001 [00:29<00:19, 20.66it/s]\n",
      "Iteration:  31%|███       | 311/1001 [00:27<00:57, 12.02it/s]"
     ]
    },
    {
     "name": "stdout",
     "output_type": "stream",
     "text": [
      "{'Train':  best_epoch_indx:75\n",
      " auc:0.9771962859272336 \n",
      " apur:0.8690218787599361 \n",
      " f1:0.7153542045090288 \n",
      " precision:0.5785416774684157 \n",
      " recall:0.9369139914355286 \n",
      ", 'Validation':  best_epoch_indx:75\n",
      " auc:0.944516389853153 \n",
      " apur:0.7650548920625564 \n",
      " f1:0.6502500961908425 \n",
      " precision:0.5259881730469965 \n",
      " recall:0.8513853904282116 \n",
      "}\n",
      "=====Epoch 76\n",
      "Training...\n"
     ]
    },
    {
     "name": "stderr",
     "output_type": "stream",
     "text": [
      "Iteration:  57%|█████▋    | 575/1001 [00:49<00:35, 11.92it/s]]\n",
      "Iteration:  63%|██████▎   | 631/1001 [00:54<00:31, 11.83it/s]]\n",
      "Iteration:  33%|███▎      | 335/1001 [00:27<00:54, 12.28it/s]\n",
      "Iteration:  49%|████▉     | 494/1001 [00:45<00:45, 11.15it/s]"
     ]
    },
    {
     "name": "stdout",
     "output_type": "stream",
     "text": [
      "{'Train':  best_epoch_indx:75\n",
      " auc:0.9805107786092322 \n",
      " apur:0.8836704109417398 \n",
      " f1:0.7231413322538377 \n",
      " precision:0.5837604485569812 \n",
      " recall:0.9499566178734361 \n",
      ", 'Validation':  best_epoch_indx:75\n",
      " auc:0.9396248739675583 \n",
      " apur:0.754205111676145 \n",
      " f1:0.6354009077155824 \n",
      " precision:0.508628519527702 \n",
      " recall:0.8463476070528967 \n",
      "}\n",
      "=====Epoch 76\n",
      "Training...\n"
     ]
    },
    {
     "name": "stderr",
     "output_type": "stream",
     "text": [
      "Iteration:   6%|▌         | 61/1001 [00:05<01:32, 10.12it/s]]\n",
      "Iteration:   0%|          | 1/1001 [00:00<02:08,  7.77it/s]s]"
     ]
    },
    {
     "name": "stdout",
     "output_type": "stream",
     "text": [
      "{'Train':  best_epoch_indx:75\n",
      " auc:0.9838498648176242 \n",
      " apur:0.9011349529376517 \n",
      " f1:0.7373048029490473 \n",
      " precision:0.5984507484559825 \n",
      " recall:0.9600604550925019 \n",
      ", 'Validation':  best_epoch_indx:75\n",
      " auc:0.9450556754177446 \n",
      " apur:0.7738320684959347 \n",
      " f1:0.6539872562270709 \n",
      " precision:0.5302128991859737 \n",
      " recall:0.8531486146095718 \n",
      "}\n",
      "=====Epoch 76\n",
      "Training...\n"
     ]
    },
    {
     "name": "stderr",
     "output_type": "stream",
     "text": [
      "Iteration: 100%|██████████| 1001/1001 [01:25<00:00, 11.75it/s]\n",
      "Iteration:  85%|████████▌ | 854/1001 [01:15<00:12, 12.00it/s]"
     ]
    },
    {
     "name": "stdout",
     "output_type": "stream",
     "text": [
      "Evaluating...\n"
     ]
    },
    {
     "name": "stderr",
     "output_type": "stream",
     "text": [
      "Iteration: 100%|██████████| 1001/1001 [01:28<00:00, 11.36it/s]\n",
      "Iteration:  44%|████▍     | 441/1001 [00:36<00:52, 10.73it/s]"
     ]
    },
    {
     "name": "stdout",
     "output_type": "stream",
     "text": [
      "Evaluating...\n"
     ]
    },
    {
     "name": "stderr",
     "output_type": "stream",
     "text": [
      "Iteration: 100%|██████████| 1001/1001 [01:28<00:00, 11.37it/s]\n",
      "Iteration:  65%|██████▌   | 655/1001 [00:54<00:28, 11.94it/s]"
     ]
    },
    {
     "name": "stdout",
     "output_type": "stream",
     "text": [
      "Evaluating...\n"
     ]
    },
    {
     "name": "stderr",
     "output_type": "stream",
     "text": [
      "Iteration:  79%|███████▊  | 788/1001 [00:39<00:10, 19.76it/s]]\n",
      "Iteration:  49%|████▉     | 493/1001 [00:27<00:29, 17.13it/s]\n",
      "Iteration:  99%|█████████▉| 992/1001 [01:27<00:00, 11.75it/s]"
     ]
    },
    {
     "name": "stdout",
     "output_type": "stream",
     "text": [
      "{'Train':  best_epoch_indx:76\n",
      " auc:0.9797057830959913 \n",
      " apur:0.8798685601218222 \n",
      " f1:0.7347265646426417 \n",
      " precision:0.6041858367162832 \n",
      " recall:0.9372236216064932 \n",
      ", 'Validation':  best_epoch_indx:76\n",
      " auc:0.9431787338238545 \n",
      " apur:0.7612263644451407 \n",
      " f1:0.6620471193823005 \n",
      " precision:0.5453359425962165 \n",
      " recall:0.8423173803526448 \n",
      "}\n",
      "=====Epoch 77\n",
      "Training...\n"
     ]
    },
    {
     "name": "stderr",
     "output_type": "stream",
     "text": [
      "Iteration: 100%|██████████| 1001/1001 [01:28<00:00, 11.28it/s]\n",
      "Iteration:   1%|          | 11/1001 [00:00<01:24, 11.75it/s]]"
     ]
    },
    {
     "name": "stdout",
     "output_type": "stream",
     "text": [
      "Evaluating...\n"
     ]
    },
    {
     "name": "stderr",
     "output_type": "stream",
     "text": [
      "Iteration: 100%|██████████| 1001/1001 [01:26<00:00, 11.56it/s]\n",
      "Iteration:  58%|█████▊    | 577/1001 [00:32<00:21, 20.04it/s]"
     ]
    },
    {
     "name": "stdout",
     "output_type": "stream",
     "text": [
      "Evaluating...\n"
     ]
    },
    {
     "name": "stderr",
     "output_type": "stream",
     "text": [
      "Iteration:   8%|▊         | 83/1001 [00:07<01:15, 12.09it/s]]]\n",
      "Iteration:  16%|█▋        | 164/1001 [00:08<00:43, 19.08it/s]\n",
      "Iteration:  15%|█▌        | 151/1001 [00:12<01:17, 10.96it/s]"
     ]
    },
    {
     "name": "stdout",
     "output_type": "stream",
     "text": [
      "{'Train':  best_epoch_indx:76\n",
      " auc:0.9830033781980191 \n",
      " apur:0.89536040724105 \n",
      " f1:0.756087190045654 \n",
      " precision:0.629858871343612 \n",
      " recall:0.9455904167482997 \n",
      ", 'Validation':  best_epoch_indx:76\n",
      " auc:0.9443530694658504 \n",
      " apur:0.7617432113649284 \n",
      " f1:0.6589802206540106 \n",
      " precision:0.5442456082745034 \n",
      " recall:0.8350125944584383 \n",
      "}\n",
      "=====Epoch 77\n",
      "Training...\n"
     ]
    },
    {
     "name": "stderr",
     "output_type": "stream",
     "text": [
      "Iteration:  53%|█████▎    | 529/1001 [00:27<00:23, 20.25it/s]]\n",
      "Iteration:  56%|█████▌    | 563/1001 [00:29<00:21, 19.93it/s]\n",
      "Iteration:   0%|          | 1/1001 [00:00<01:55,  8.66it/s]s]"
     ]
    },
    {
     "name": "stdout",
     "output_type": "stream",
     "text": [
      "{'Train':  best_epoch_indx:76\n",
      " auc:0.9819071177732246 \n",
      " apur:0.8909262770691999 \n",
      " f1:0.7300702897308418 \n",
      " precision:0.5914686018854494 \n",
      " recall:0.9535111534047972 \n",
      ", 'Validation':  best_epoch_indx:76\n",
      " auc:0.9473140507733203 \n",
      " apur:0.7792076672420306 \n",
      " f1:0.6572887561422103 \n",
      " precision:0.5322203151817756 \n",
      " recall:0.8591939546599496 \n",
      "}\n",
      "=====Epoch 77\n",
      "Training...\n"
     ]
    },
    {
     "name": "stderr",
     "output_type": "stream",
     "text": [
      "Iteration:  96%|█████████▋| 965/1001 [00:49<00:01, 19.50it/s]]\n",
      "Iteration:  76%|███████▌  | 85/112 [00:04<00:01, 19.87it/s]s]]\n",
      "Iteration:  27%|██▋       | 30/112 [00:01<00:03, 20.85it/s]s]\n",
      "Iteration:  64%|██████▍   | 642/1001 [01:00<00:34, 10.34it/s]"
     ]
    },
    {
     "name": "stdout",
     "output_type": "stream",
     "text": [
      "{'Train':  best_epoch_indx:76\n",
      " auc:0.9844357345861001 \n",
      " apur:0.9020525375982933 \n",
      " f1:0.7481294578977837 \n",
      " precision:0.6134857224750099 \n",
      " recall:0.9584931008424529 \n",
      ", 'Validation':  best_epoch_indx:76\n",
      " auc:0.9427093569964753 \n",
      " apur:0.7670123744728213 \n",
      " f1:0.6527074405921308 \n",
      " precision:0.5320736741822801 \n",
      " recall:0.844080604534005 \n",
      "}\n",
      "=====Epoch 77\n",
      "Training...\n"
     ]
    },
    {
     "name": "stderr",
     "output_type": "stream",
     "text": [
      "Iteration:   4%|▍         | 45/1001 [00:04<01:25, 11.19it/s]]\n",
      "Iteration:  60%|██████    | 603/1001 [00:51<00:38, 10.34it/s]"
     ]
    },
    {
     "name": "stdout",
     "output_type": "stream",
     "text": [
      "{'Train':  best_epoch_indx:76\n",
      " auc:0.9863157154361203 \n",
      " apur:0.9134368597819333 \n",
      " f1:0.7675504923211345 \n",
      " precision:0.6398715027455082 \n",
      " recall:0.9588849394049651 \n",
      ", 'Validation':  best_epoch_indx:76\n",
      " auc:0.9463674285284731 \n",
      " apur:0.7825634004420078 \n",
      " f1:0.6744115567229013 \n",
      " precision:0.5629954461123292 \n",
      " recall:0.8408060453400503 \n",
      "}\n",
      "=====Epoch 77\n",
      "Training...\n"
     ]
    },
    {
     "name": "stderr",
     "output_type": "stream",
     "text": [
      "Iteration: 100%|██████████| 1001/1001 [01:35<00:00, 10.50it/s]\n",
      "Iteration:   0%|          | 0/1001 [00:00<?, ?it/s]"
     ]
    },
    {
     "name": "stdout",
     "output_type": "stream",
     "text": [
      "Evaluating...\n"
     ]
    },
    {
     "name": "stderr",
     "output_type": "stream",
     "text": [
      "Iteration: 100%|██████████| 1001/1001 [01:27<00:00, 11.39it/s]\n",
      "Iteration:  11%|█▏        | 113/1001 [00:05<00:41, 21.52it/s]"
     ]
    },
    {
     "name": "stdout",
     "output_type": "stream",
     "text": [
      "Evaluating...\n"
     ]
    },
    {
     "name": "stderr",
     "output_type": "stream",
     "text": [
      "Iteration: 100%|██████████| 1001/1001 [01:26<00:00, 11.54it/s]\n",
      "Iteration:  42%|████▏     | 419/1001 [00:20<00:28, 20.67it/s]"
     ]
    },
    {
     "name": "stdout",
     "output_type": "stream",
     "text": [
      "Evaluating...\n"
     ]
    },
    {
     "name": "stderr",
     "output_type": "stream",
     "text": [
      "Iteration:  90%|█████████ | 903/1001 [00:45<00:04, 20.83it/s]]\n",
      "Iteration:  63%|██████▎   | 633/1001 [00:30<00:17, 20.97it/s]]\n",
      "Iteration:   0%|          | 1/1001 [00:00<01:56,  8.60it/s]s]"
     ]
    },
    {
     "name": "stdout",
     "output_type": "stream",
     "text": [
      "{'Train':  best_epoch_indx:77\n",
      " auc:0.9838631144538321 \n",
      " apur:0.8993857400932986 \n",
      " f1:0.7526123157557195 \n",
      " precision:0.622077613468112 \n",
      " recall:0.9524769101595298 \n",
      ", 'Validation':  best_epoch_indx:77\n",
      " auc:0.9480740082897909 \n",
      " apur:0.7757993052782971 \n",
      " f1:0.6696508504923904 \n",
      " precision:0.5533453887884268 \n",
      " recall:0.8478589420654912 \n",
      "}\n",
      "=====Epoch 78\n",
      "Training...\n"
     ]
    },
    {
     "name": "stderr",
     "output_type": "stream",
     "text": [
      "\r",
      "Iteration: 100%|█████████▉| 1000/1001 [01:31<00:00, 11.52it/s]\r",
      "Iteration:  96%|█████████▌| 960/1001 [01:27<00:03, 12.10it/s]\r",
      "Iteration:  64%|██████▍   | 639/1001 [00:30<00:17, 21.02it/s]\r",
      "Iteration:   0%|          | 3/1001 [00:00<01:37, 10.21it/s]\r",
      "Iteration: 100%|██████████| 1001/1001 [01:31<00:00, 10.97it/s]\n",
      "\r",
      "Iteration:   0%|          | 0/1001 [00:00<?, ?it/s]\r",
      "Iteration:  64%|██████▍   | 642/1001 [00:30<00:17, 21.05it/s]\r",
      "Iteration:  96%|█████████▌| 962/1001 [01:27<00:03, 12.14it/s]"
     ]
    },
    {
     "name": "stdout",
     "output_type": "stream",
     "text": [
      "Evaluating...\n"
     ]
    },
    {
     "name": "stderr",
     "output_type": "stream",
     "text": [
      "Iteration:  67%|██████▋   | 669/1001 [00:32<00:15, 21.31it/s]\n",
      "Iteration: 100%|██████████| 1001/1001 [01:30<00:00, 11.07it/s]\n",
      "Iteration:   0%|          | 0/1001 [00:00<?, ?it/s]"
     ]
    },
    {
     "name": "stdout",
     "output_type": "stream",
     "text": [
      "Evaluating...\n"
     ]
    },
    {
     "name": "stderr",
     "output_type": "stream",
     "text": [
      "Iteration:  14%|█▍        | 143/1001 [00:07<00:43, 19.90it/s]\n",
      "Iteration:   8%|▊         | 78/1001 [00:03<00:46, 19.94it/s]]"
     ]
    },
    {
     "name": "stdout",
     "output_type": "stream",
     "text": [
      "{'Train':  best_epoch_indx:77\n",
      " auc:0.9878075361580793 \n",
      " apur:0.9198920547382918 \n",
      " f1:0.7908226492014409 \n",
      " precision:0.6745366894535109 \n",
      " recall:0.955554311623611 \n",
      ", 'Validation':  best_epoch_indx:77\n",
      " auc:0.948795912858879 \n",
      " apur:0.7767686882071341 \n",
      " f1:0.6807104502271788 \n",
      " precision:0.5768288414420721 \n",
      " recall:0.8302267002518892 \n",
      "}\n",
      "=====Epoch 78\n",
      "Training...\n"
     ]
    },
    {
     "name": "stderr",
     "output_type": "stream",
     "text": [
      "Iteration:  13%|█▎        | 135/1001 [00:12<01:17, 11.17it/s]]\n",
      "Iteration:  19%|█▉        | 195/1001 [00:18<01:17, 10.36it/s]\n",
      "Iteration:  45%|████▌     | 451/1001 [00:22<00:28, 19.63it/s]"
     ]
    },
    {
     "name": "stdout",
     "output_type": "stream",
     "text": [
      "{'Train':  best_epoch_indx:77\n",
      " auc:0.9851144470795031 \n",
      " apur:0.9058492860221493 \n",
      " f1:0.7600084539316343 \n",
      " precision:0.6306442680450434 \n",
      " recall:0.9561420694673795 \n",
      ", 'Validation':  best_epoch_indx:77\n",
      " auc:0.9489553803799019 \n",
      " apur:0.7854893261482796 \n",
      " f1:0.6800360974631506 \n",
      " precision:0.5648842245543895 \n",
      " recall:0.8541561712846347 \n",
      "}\n",
      "=====Epoch 78\n",
      "Training...\n"
     ]
    },
    {
     "name": "stderr",
     "output_type": "stream",
     "text": [
      "Iteration:  96%|█████████▌| 959/1001 [00:48<00:02, 19.28it/s]]\n",
      "Iteration:  34%|███▍      | 339/1001 [00:30<00:55, 11.89it/s]]\n",
      "Iteration:  64%|██████▍   | 643/1001 [00:57<00:35, 10.13it/s]\n",
      "Iteration:  35%|███▌      | 355/1001 [00:31<00:53, 12.02it/s]"
     ]
    },
    {
     "name": "stdout",
     "output_type": "stream",
     "text": [
      "{'Train':  best_epoch_indx:77\n",
      " auc:0.9858802687526383 \n",
      " apur:0.9110046439693764 \n",
      " f1:0.7582777065558551 \n",
      " precision:0.6265363893708337 \n",
      " recall:0.9601724089675054 \n",
      ", 'Validation':  best_epoch_indx:77\n",
      " auc:0.9435873562214447 \n",
      " apur:0.7743247567411097 \n",
      " f1:0.6611946202531646 \n",
      " precision:0.5442852491045262 \n",
      " recall:0.8420654911838791 \n",
      "}\n",
      "=====Epoch 78\n",
      "Training...\n"
     ]
    },
    {
     "name": "stderr",
     "output_type": "stream",
     "text": [
      "Iteration:   5%|▍         | 47/1001 [00:04<01:29, 10.64it/s]]\n",
      "Iteration:  57%|█████▋    | 566/1001 [00:54<00:35, 12.11it/s]"
     ]
    },
    {
     "name": "stdout",
     "output_type": "stream",
     "text": [
      "{'Train':  best_epoch_indx:77\n",
      " auc:0.9879991499922391 \n",
      " apur:0.9221393983584119 \n",
      " f1:0.7727568051977147 \n",
      " precision:0.6442165816850638 \n",
      " recall:0.965378264155168 \n",
      ", 'Validation':  best_epoch_indx:77\n",
      " auc:0.9475825299814283 \n",
      " apur:0.7853698765102161 \n",
      " f1:0.6733810051364689 \n",
      " precision:0.5610001678133915 \n",
      " recall:0.8420654911838791 \n",
      "}\n",
      "=====Epoch 78\n",
      "Training...\n"
     ]
    },
    {
     "name": "stderr",
     "output_type": "stream",
     "text": [
      "Iteration: 100%|██████████| 1001/1001 [01:28<00:00, 11.30it/s]\n",
      "Iteration:   0%|          | 0/1001 [00:00<?, ?it/s]"
     ]
    },
    {
     "name": "stdout",
     "output_type": "stream",
     "text": [
      "Evaluating...\n"
     ]
    },
    {
     "name": "stderr",
     "output_type": "stream",
     "text": [
      "Iteration: 100%|██████████| 1001/1001 [01:33<00:00, 10.66it/s]\n",
      "Iteration:  46%|████▌     | 456/1001 [00:43<00:53, 10.16it/s]"
     ]
    },
    {
     "name": "stdout",
     "output_type": "stream",
     "text": [
      "Evaluating...\n"
     ]
    },
    {
     "name": "stderr",
     "output_type": "stream",
     "text": [
      "Iteration: 100%|██████████| 1001/1001 [01:25<00:00, 11.64it/s]\n",
      "Iteration:  48%|████▊     | 479/1001 [00:23<00:26, 19.47it/s]"
     ]
    },
    {
     "name": "stdout",
     "output_type": "stream",
     "text": [
      "Evaluating...\n"
     ]
    },
    {
     "name": "stderr",
     "output_type": "stream",
     "text": [
      "Iteration:  86%|████████▌ | 863/1001 [01:17<00:11, 11.83it/s]]\n",
      "Iteration:  99%|█████████▉| 992/1001 [01:28<00:00, 12.40it/s]\n",
      "Iteration:  93%|█████████▎| 931/1001 [01:23<00:05, 11.74it/s]"
     ]
    },
    {
     "name": "stdout",
     "output_type": "stream",
     "text": [
      "{'Train':  best_epoch_indx:78\n",
      " auc:0.9859063266024315 \n",
      " apur:0.9091166167994292 \n",
      " f1:0.7681169196177628 \n",
      " precision:0.6419015407741451 \n",
      " recall:0.9561153092639239 \n",
      ", 'Validation':  best_epoch_indx:78\n",
      " auc:0.9494958488044414 \n",
      " apur:0.7835388818375938 \n",
      " f1:0.6811477066073954 \n",
      " precision:0.5686572199730094 \n",
      " recall:0.8491183879093199 \n",
      "}\n",
      "=====Epoch 79\n",
      "Training...\n"
     ]
    },
    {
     "name": "stderr",
     "output_type": "stream",
     "text": [
      "Iteration:  70%|███████   | 701/1001 [00:34<00:15, 19.12it/s]]"
     ]
    },
    {
     "name": "stdout",
     "output_type": "stream",
     "text": [
      "Evaluating...\n"
     ]
    },
    {
     "name": "stderr",
     "output_type": "stream",
     "text": [
      "Iteration: 100%|██████████| 1001/1001 [01:28<00:00, 11.27it/s]\n",
      "Iteration: 100%|██████████| 1001/1001 [01:30<00:00, 11.04it/s]\n",
      "Iteration:   8%|▊         | 79/1001 [00:06<01:30, 10.16it/s]"
     ]
    },
    {
     "name": "stdout",
     "output_type": "stream",
     "text": [
      "Evaluating...\n"
     ]
    },
    {
     "name": "stderr",
     "output_type": "stream",
     "text": [
      "Iteration:  13%|█▎        | 131/1001 [00:06<00:41, 20.97it/s]\n",
      "Iteration:  95%|█████████▍| 948/1001 [00:46<00:02, 19.56it/s]\n",
      "Iteration:   0%|          | 0/1001 [00:00<?, ?it/s]"
     ]
    },
    {
     "name": "stdout",
     "output_type": "stream",
     "text": [
      "{'Train':  best_epoch_indx:78\n",
      " auc:0.9900776750592791 \n",
      " apur:0.9332532537105502 \n",
      " f1:0.7930518256099652 \n",
      " precision:0.6701560568603214 \n",
      " recall:0.9711438887178483 \n",
      ", 'Validation':  best_epoch_indx:78\n",
      " auc:0.9504610968077439 \n",
      " apur:0.7903854373976292 \n",
      " f1:0.6835881753312946 \n",
      " precision:0.5741438356164383 \n",
      " recall:0.8445843828715365 \n",
      "}\n",
      "=====Epoch 79\n",
      "Training...\n"
     ]
    },
    {
     "name": "stderr",
     "output_type": "stream",
     "text": [
      "Iteration:  35%|███▍      | 348/1001 [00:17<00:31, 21.00it/s]]\n",
      "Iteration:  12%|█▏        | 125/1001 [00:10<01:12, 12.16it/s]\n",
      "Iteration:  13%|█▎        | 127/1001 [00:10<01:11, 12.19it/s]"
     ]
    },
    {
     "name": "stdout",
     "output_type": "stream",
     "text": [
      "{'Train':  best_epoch_indx:78\n",
      " auc:0.9872057850852685 \n",
      " apur:0.9157201845735105 \n",
      " f1:0.7688618212644447 \n",
      " precision:0.639152124325427 \n",
      " recall:0.9646225754988944 \n",
      ", 'Validation':  best_epoch_indx:78\n",
      " auc:0.949625809112633 \n",
      " apur:0.7854182025131261 \n",
      " f1:0.6803978699889481 \n",
      " precision:0.565936820992813 \n",
      " recall:0.8528967254408061 \n",
      "}\n",
      "=====Epoch 79\n",
      "Training...\n"
     ]
    },
    {
     "name": "stderr",
     "output_type": "stream",
     "text": [
      "Iteration:  34%|███▍      | 341/1001 [00:29<00:54, 12.01it/s]]\n",
      "Iteration:  67%|██████▋   | 666/1001 [00:57<00:29, 11.46it/s]]"
     ]
    },
    {
     "name": "stdout",
     "output_type": "stream",
     "text": [
      "{'Train':  best_epoch_indx:78\n",
      " auc:0.989400701357254 \n",
      " apur:0.9287949993295403 \n",
      " f1:0.7816014242895455 \n",
      " precision:0.6541675311692476 \n",
      " recall:0.9706960732178342 \n",
      ", 'Validation':  best_epoch_indx:78\n",
      " auc:0.9459997176564732 \n",
      " apur:0.7829771995495735 \n",
      " f1:0.6722553277446722 \n",
      " precision:0.5611195413926825 \n",
      " recall:0.8382871536523929 \n",
      "}\n",
      "=====Epoch 79\n",
      "Training...\n"
     ]
    },
    {
     "name": "stderr",
     "output_type": "stream",
     "text": [
      "\n",
      "Iteration:  69%|██████▉   | 692/1001 [01:00<00:26, 11.72it/s]\n",
      "Iteration:  76%|███████▌  | 758/1001 [01:05<00:21, 11.52it/s]\n",
      "Iteration:   9%|▉         | 95/1001 [00:07<01:14, 12.18it/s]]"
     ]
    },
    {
     "name": "stdout",
     "output_type": "stream",
     "text": [
      "{'Train':  best_epoch_indx:78\n",
      " auc:0.9903844739852253 \n",
      " apur:0.9355826235377316 \n",
      " f1:0.7915996853302324 \n",
      " precision:0.6678465622715556 \n",
      " recall:0.971647681155364 \n",
      ", 'Validation':  best_epoch_indx:78\n",
      " auc:0.9480408710683514 \n",
      " apur:0.7907681834376019 \n",
      " f1:0.6884841000308737 \n",
      " precision:0.5820428049417087 \n",
      " recall:0.8425692695214105 \n",
      "}\n",
      "=====Epoch 79\n",
      "Training...\n"
     ]
    },
    {
     "name": "stderr",
     "output_type": "stream",
     "text": [
      "Iteration: 100%|██████████| 1001/1001 [01:29<00:00, 11.24it/s]\n",
      "Iteration:  89%|████████▉ | 895/1001 [01:16<00:08, 12.12it/s]"
     ]
    },
    {
     "name": "stdout",
     "output_type": "stream",
     "text": [
      "Evaluating...\n"
     ]
    },
    {
     "name": "stderr",
     "output_type": "stream",
     "text": [
      "Iteration: 100%|██████████| 1001/1001 [01:25<00:00, 11.75it/s]\n",
      "Iteration:  49%|████▉     | 489/1001 [00:40<00:43, 11.71it/s]"
     ]
    },
    {
     "name": "stdout",
     "output_type": "stream",
     "text": [
      "Evaluating...\n"
     ]
    },
    {
     "name": "stderr",
     "output_type": "stream",
     "text": [
      "Iteration: 100%|██████████| 1001/1001 [01:29<00:00, 11.22it/s]\n",
      "Iteration:  65%|██████▌   | 653/1001 [00:54<00:28, 12.18it/s]"
     ]
    },
    {
     "name": "stdout",
     "output_type": "stream",
     "text": [
      "Evaluating...\n"
     ]
    },
    {
     "name": "stderr",
     "output_type": "stream",
     "text": [
      "Iteration:  56%|█████▌    | 559/1001 [00:29<00:21, 20.25it/s]]\n",
      "Iteration: 100%|██████████| 1001/1001 [01:26<00:00, 11.63it/s]\n",
      "Iteration:  93%|█████████▎| 930/1001 [00:46<00:03, 20.49it/s]"
     ]
    },
    {
     "name": "stdout",
     "output_type": "stream",
     "text": [
      "Evaluating...\n"
     ]
    },
    {
     "name": "stderr",
     "output_type": "stream",
     "text": [
      "Iteration:  68%|██████▊   | 676/1001 [00:35<00:16, 20.15it/s]]\n",
      "Iteration:   8%|▊         | 76/1001 [00:03<00:47, 19.55it/s]]"
     ]
    },
    {
     "name": "stdout",
     "output_type": "stream",
     "text": [
      "{'Train':  best_epoch_indx:79\n",
      " auc:0.9886915724209172 \n",
      " apur:0.9247193564521405 \n",
      " f1:0.7946976895089338 \n",
      " precision:0.6780827335284347 \n",
      " recall:0.959753708368318 \n",
      ", 'Validation':  best_epoch_indx:79\n",
      " auc:0.9507186088469867 \n",
      " apur:0.791723351614877 \n",
      " f1:0.6937526382439847 \n",
      " precision:0.59698510715583 \n",
      " recall:0.8279596977329975 \n",
      "}\n",
      "=====Epoch 80\n",
      "Training...\n"
     ]
    },
    {
     "name": "stderr",
     "output_type": "stream",
     "text": [
      "Iteration:  72%|███████▏  | 720/1001 [00:37<00:15, 18.14it/s]\n",
      "Iteration:  84%|████████▎ | 836/1001 [00:43<00:08, 20.05it/s]\n",
      "Iteration:  84%|████████▍ | 839/1001 [00:43<00:08, 19.84it/s]"
     ]
    },
    {
     "name": "stdout",
     "output_type": "stream",
     "text": [
      "{'Train':  best_epoch_indx:79\n",
      " auc:0.9913068376929733 \n",
      " apur:0.9405978364587131 \n",
      " f1:0.8064935064935065 \n",
      " precision:0.6884836966205381 \n",
      " recall:0.9733269892804165 \n",
      ", 'Validation':  best_epoch_indx:79\n",
      " auc:0.9512376872208012 \n",
      " apur:0.7919115107404273 \n",
      " f1:0.6883210923761249 \n",
      " precision:0.5839915745129015 \n",
      " recall:0.8380352644836272 \n",
      "}\n",
      "=====Epoch 80\n",
      "Training...\n"
     ]
    },
    {
     "name": "stderr",
     "output_type": "stream",
     "text": [
      "Iteration: 100%|██████████| 1001/1001 [01:32<00:00, 10.84it/s]\n",
      "Iteration:   2%|▏         | 24/1001 [00:02<01:34, 10.31it/s]]"
     ]
    },
    {
     "name": "stdout",
     "output_type": "stream",
     "text": [
      "Evaluating...\n"
     ]
    },
    {
     "name": "stderr",
     "output_type": "stream",
     "text": [
      "Iteration:  15%|█▍        | 147/1001 [00:08<00:43, 19.57it/s]]\n",
      "Iteration:  26%|██▋       | 263/1001 [00:14<00:37, 19.84it/s]\n",
      "Iteration:  29%|██▉       | 295/1001 [00:24<00:57, 12.24it/s]"
     ]
    },
    {
     "name": "stdout",
     "output_type": "stream",
     "text": [
      "{'Train':  best_epoch_indx:79\n",
      " auc:0.9897259709217588 \n",
      " apur:0.9311268905744946 \n",
      " f1:0.776760319885787 \n",
      " precision:0.645694259012016 \n",
      " recall:0.9745864703742059 \n",
      ", 'Validation':  best_epoch_indx:79\n",
      " auc:0.9521108864343878 \n",
      " apur:0.8008605782492149 \n",
      " f1:0.6866633115249119 \n",
      " precision:0.5718357082984074 \n",
      " recall:0.8591939546599496 \n",
      "}\n",
      "=====Epoch 80\n",
      "Training...\n"
     ]
    },
    {
     "name": "stderr",
     "output_type": "stream",
     "text": [
      "Iteration:  75%|███████▌  | 754/1001 [00:40<00:12, 19.35it/s]]\n",
      "Iteration:  57%|█████▋    | 568/1001 [00:48<00:36, 11.87it/s]\n",
      "Iteration:   0%|          | 1/1001 [00:00<01:58,  8.42it/s]s]"
     ]
    },
    {
     "name": "stdout",
     "output_type": "stream",
     "text": [
      "{'Train':  best_epoch_indx:79\n",
      " auc:0.9908638952084587 \n",
      " apur:0.9376037793314522 \n",
      " f1:0.7987369387989436 \n",
      " precision:0.677186970658671 \n",
      " recall:0.9734669316241709 \n",
      ", 'Validation':  best_epoch_indx:79\n",
      " auc:0.9464232029464528 \n",
      " apur:0.7871864013167031 \n",
      " f1:0.6823844332338104 \n",
      " precision:0.5770503221312903 \n",
      " recall:0.8347607052896725 \n",
      "}\n",
      "=====Epoch 80\n",
      "Training...\n"
     ]
    },
    {
     "name": "stderr",
     "output_type": "stream",
     "text": [
      "Iteration:  43%|████▎     | 435/1001 [00:40<00:47, 12.03it/s]]\n",
      "Iteration:  50%|█████     | 505/1001 [00:46<00:42, 11.58it/s]\n",
      "Iteration:  51%|█████     | 507/1001 [00:46<00:45, 10.91it/s]"
     ]
    },
    {
     "name": "stdout",
     "output_type": "stream",
     "text": [
      "{'Train':  best_epoch_indx:79\n",
      " auc:0.99210917978354 \n",
      " apur:0.9453634413264141 \n",
      " f1:0.8071091196748004 \n",
      " precision:0.6870281535073922 \n",
      " recall:0.9780570404993143 \n",
      ", 'Validation':  best_epoch_indx:79\n",
      " auc:0.9495696404080043 \n",
      " apur:0.7982526023995976 \n",
      " f1:0.6914196567862714 \n",
      " precision:0.5888396811337466 \n",
      " recall:0.83727959697733 \n",
      "}\n",
      "=====Epoch 80\n",
      "Training...\n"
     ]
    },
    {
     "name": "stderr",
     "output_type": "stream",
     "text": [
      "Iteration: 100%|██████████| 1001/1001 [01:33<00:00, 10.75it/s]\n",
      "Iteration: 100%|█████████▉| 996/1001 [01:25<00:00, 11.94it/s]"
     ]
    },
    {
     "name": "stdout",
     "output_type": "stream",
     "text": [
      "Evaluating...\n"
     ]
    },
    {
     "name": "stderr",
     "output_type": "stream",
     "text": [
      "Iteration: 100%|██████████| 1001/1001 [01:25<00:00, 11.70it/s]\n",
      "Iteration:  23%|██▎       | 230/1001 [00:22<01:04, 11.89it/s]"
     ]
    },
    {
     "name": "stdout",
     "output_type": "stream",
     "text": [
      "Evaluating...\n"
     ]
    },
    {
     "name": "stderr",
     "output_type": "stream",
     "text": [
      "Iteration: 100%|██████████| 1001/1001 [01:29<00:00, 11.12it/s]\n",
      "Iteration:  70%|███████   | 703/1001 [00:58<00:24, 12.30it/s]"
     ]
    },
    {
     "name": "stdout",
     "output_type": "stream",
     "text": [
      "Evaluating...\n"
     ]
    },
    {
     "name": "stderr",
     "output_type": "stream",
     "text": [
      "Iteration: 100%|██████████| 1001/1001 [01:23<00:00, 11.93it/s]\n",
      "Iteration:  96%|█████████▋| 964/1001 [00:47<00:01, 19.34it/s]"
     ]
    },
    {
     "name": "stdout",
     "output_type": "stream",
     "text": [
      "Evaluating...\n"
     ]
    },
    {
     "name": "stderr",
     "output_type": "stream",
     "text": [
      "Iteration:  84%|████████▍ | 840/1001 [01:13<00:13, 11.95it/s]]\n",
      "Iteration:  11%|█         | 110/1001 [00:05<00:43, 20.32it/s]\n",
      "Iteration:  20%|██        | 204/1001 [00:10<00:37, 21.04it/s]\n",
      "Iteration:  21%|██        | 207/1001 [00:10<00:38, 20.80it/s]"
     ]
    },
    {
     "name": "stdout",
     "output_type": "stream",
     "text": [
      "{'Train':  best_epoch_indx:80\n",
      " auc:0.9909283656667028 \n",
      " apur:0.9375333506512724 \n",
      " f1:0.8035031368788345 \n",
      " precision:0.6841918854039589 \n",
      " recall:0.973215035405413 \n",
      ", 'Validation':  best_epoch_indx:80\n",
      " auc:0.9499277426857898 \n",
      " apur:0.7878061413218361 \n",
      " f1:0.6838736320462523 \n",
      " precision:0.5794261721483555 \n",
      " recall:0.834256926952141 \n",
      "}\n",
      "=====Epoch 81\n",
      "Training...\n"
     ]
    },
    {
     "name": "stderr",
     "output_type": "stream",
     "text": [
      "Iteration:  72%|███████▏  | 725/1001 [00:36<00:14, 18.62it/s]\n",
      "Iteration:   1%|▏         | 14/1001 [00:01<01:38,  9.99it/s]]"
     ]
    },
    {
     "name": "stdout",
     "output_type": "stream",
     "text": [
      "{'Train':  best_epoch_indx:80\n",
      " auc:0.9882407603010477 \n",
      " apur:0.9221925041341741 \n",
      " f1:0.7841471884143772 \n",
      " precision:0.6609408287430666 \n",
      " recall:0.9638119227539882 \n",
      ", 'Validation':  best_epoch_indx:80\n",
      " auc:0.9495900575992795 \n",
      " apur:0.7866856156782741 \n",
      " f1:0.6883357333881918 \n",
      " precision:0.5817107093184979 \n",
      " recall:0.8428211586901764 \n",
      "}\n",
      "=====Epoch 81\n",
      "Training...\n"
     ]
    },
    {
     "name": "stderr",
     "output_type": "stream",
     "text": [
      "Iteration: 100%|██████████| 1001/1001 [01:27<00:00, 11.42it/s]\n",
      "Iteration:   9%|▊         | 86/1001 [00:08<01:33,  9.80it/s]]"
     ]
    },
    {
     "name": "stdout",
     "output_type": "stream",
     "text": [
      "Evaluating...\n"
     ]
    },
    {
     "name": "stderr",
     "output_type": "stream",
     "text": [
      "Iteration:  16%|█▋        | 163/1001 [00:08<00:48, 17.38it/s]]\n",
      "Iteration:  26%|██▌       | 257/1001 [00:13<00:42, 17.42it/s]\n",
      "Iteration:  24%|██▍       | 243/1001 [00:22<01:03, 12.01it/s]"
     ]
    },
    {
     "name": "stdout",
     "output_type": "stream",
     "text": [
      "{'Train':  best_epoch_indx:80\n",
      " auc:0.9890157755912006 \n",
      " apur:0.926233461320001 \n",
      " f1:0.7770447073558027 \n",
      " precision:0.6470380095722293 \n",
      " recall:0.9724313582803885 \n",
      ", 'Validation':  best_epoch_indx:80\n",
      " auc:0.9507133674059857 \n",
      " apur:0.7959149446039011 \n",
      " f1:0.6845921450151057 \n",
      " precision:0.5703020134228188 \n",
      " recall:0.8561712846347607 \n",
      "}\n",
      "=====Epoch 81\n",
      "Training...\n"
     ]
    },
    {
     "name": "stderr",
     "output_type": "stream",
     "text": [
      "Iteration:  22%|██▏       | 219/1001 [00:18<01:06, 11.78it/s]]\n",
      "Iteration:  49%|████▉     | 494/1001 [00:45<00:48, 10.54it/s]\n",
      "Iteration:   0%|          | 1/1001 [00:00<01:51,  8.94it/s]s]"
     ]
    },
    {
     "name": "stdout",
     "output_type": "stream",
     "text": [
      "{'Train':  best_epoch_indx:80\n",
      " auc:0.9911886671756456 \n",
      " apur:0.9393347894613311 \n",
      " f1:0.8006855460213024 \n",
      " precision:0.6796656837665254 \n",
      " recall:0.9741386548741918 \n",
      ", 'Validation':  best_epoch_indx:80\n",
      " auc:0.9467228779428248 \n",
      " apur:0.7881340897822435 \n",
      " f1:0.6802145657107489 \n",
      " precision:0.5759958071278826 \n",
      " recall:0.8304785894206549 \n",
      "}\n",
      "=====Epoch 81\n",
      "Training...\n"
     ]
    },
    {
     "name": "stderr",
     "output_type": "stream",
     "text": [
      "Iteration:  71%|███████   | 707/1001 [01:03<00:24, 12.06it/s]]\n",
      "Iteration:  26%|██▋       | 265/1001 [00:22<01:00, 12.10it/s]\n",
      "Iteration:  78%|███████▊  | 777/1001 [01:09<00:18, 12.09it/s]"
     ]
    },
    {
     "name": "stdout",
     "output_type": "stream",
     "text": [
      "{'Train':  best_epoch_indx:80\n",
      " auc:0.9923178348821474 \n",
      " apur:0.9465065130314836 \n",
      " f1:0.796689905344896 \n",
      " precision:0.6695118698319552 \n",
      " recall:0.9835147919057349 \n",
      ", 'Validation':  best_epoch_indx:80\n",
      " auc:0.9497613665769551 \n",
      " apur:0.7970740640022853 \n",
      " f1:0.6897676314716673 \n",
      " precision:0.5792536802464909 \n",
      " recall:0.8523929471032745 \n",
      "}\n",
      "=====Epoch 81\n",
      "Training...\n"
     ]
    },
    {
     "name": "stderr",
     "output_type": "stream",
     "text": [
      "Iteration: 100%|██████████| 1001/1001 [01:27<00:00, 11.43it/s]\n",
      "Iteration:  96%|█████████▌| 957/1001 [01:26<00:04, 10.61it/s]"
     ]
    },
    {
     "name": "stdout",
     "output_type": "stream",
     "text": [
      "Evaluating...\n"
     ]
    },
    {
     "name": "stderr",
     "output_type": "stream",
     "text": [
      "Iteration: 100%|██████████| 1001/1001 [01:30<00:00, 11.07it/s]\n",
      "Iteration:  52%|█████▏    | 523/1001 [00:45<00:39, 12.17it/s]"
     ]
    },
    {
     "name": "stdout",
     "output_type": "stream",
     "text": [
      "Evaluating...\n"
     ]
    },
    {
     "name": "stderr",
     "output_type": "stream",
     "text": [
      "Iteration: 100%|██████████| 1001/1001 [01:24<00:00, 11.82it/s]\n",
      "Iteration:  69%|██████▉   | 694/1001 [01:00<00:25, 12.15it/s]"
     ]
    },
    {
     "name": "stdout",
     "output_type": "stream",
     "text": [
      "Evaluating...\n"
     ]
    },
    {
     "name": "stderr",
     "output_type": "stream",
     "text": [
      "Iteration: 100%|██████████| 1001/1001 [01:26<00:00, 11.57it/s]\n",
      "Iteration:   0%|          | 2/1001 [00:00<01:02, 16.02it/s]s]"
     ]
    },
    {
     "name": "stdout",
     "output_type": "stream",
     "text": [
      "Evaluating...\n"
     ]
    },
    {
     "name": "stderr",
     "output_type": "stream",
     "text": [
      "Iteration:  73%|███████▎  | 731/1001 [01:11<00:27,  9.99it/s]]\n",
      "Iteration:  20%|█▉        | 199/1001 [00:09<00:39, 20.54it/s]\n",
      "Iteration:  62%|██████▏   | 69/112 [00:03<00:02, 20.69it/s]s]\n",
      "Iteration:  64%|██████▍   | 72/112 [00:03<00:01, 20.70it/s]s]"
     ]
    },
    {
     "name": "stdout",
     "output_type": "stream",
     "text": [
      "{'Train':  best_epoch_indx:81\n",
      " auc:0.9896371773776572 \n",
      " apur:0.9299688738712578 \n",
      " f1:0.7934175996699632 \n",
      " precision:0.6717506888656033 \n",
      " recall:0.9689048112177783 \n",
      ", 'Validation':  best_epoch_indx:81\n",
      " auc:0.9484559691955842 \n",
      " apur:0.782397369019866 \n",
      " f1:0.6766209858866844 \n",
      " precision:0.5695592286501377 \n",
      " recall:0.8332493702770781 \n",
      "}\n",
      "=====Epoch 82\n",
      "Training...\n"
     ]
    },
    {
     "name": "stderr",
     "output_type": "stream",
     "text": [
      "Iteration:   2%|▏         | 25/1001 [00:02<01:27, 11.15it/s]]\n",
      "Iteration:  86%|████████▌ | 857/1001 [00:41<00:06, 20.85it/s]"
     ]
    },
    {
     "name": "stdout",
     "output_type": "stream",
     "text": [
      "{'Train':  best_epoch_indx:81\n",
      " auc:0.9865218120265802 \n",
      " apur:0.9123068714214561 \n",
      " f1:0.7759690538041814 \n",
      " precision:0.6524235545466684 \n",
      " recall:0.9572348166806605 \n",
      ", 'Validation':  best_epoch_indx:81\n",
      " auc:0.9468260696161078 \n",
      " apur:0.7791148680757815 \n",
      " f1:0.6799835255354201 \n",
      " precision:0.5750609543712992 \n",
      " recall:0.8317380352644836 \n",
      "}\n",
      "=====Epoch 82\n",
      "Training...\n"
     ]
    },
    {
     "name": "stderr",
     "output_type": "stream",
     "text": [
      "Iteration:  11%|█         | 109/1001 [00:09<01:13, 12.05it/s]]\n",
      "Iteration:  96%|█████████▌| 960/1001 [01:34<00:04, 10.11it/s]\n",
      "Iteration:   0%|          | 1/1001 [00:00<01:52,  8.89it/s]s]"
     ]
    },
    {
     "name": "stdout",
     "output_type": "stream",
     "text": [
      "{'Train':  best_epoch_indx:81\n",
      " auc:0.9864942815520078 \n",
      " apur:0.912292908490195 \n",
      " f1:0.7644146444350702 \n",
      " precision:0.633451695398598 \n",
      " recall:0.9636429790926139 \n",
      ", 'Validation':  best_epoch_indx:81\n",
      " auc:0.9477772175859732 \n",
      " apur:0.7831039325030589 \n",
      " f1:0.6740991439378857 \n",
      " precision:0.5572745227123107 \n",
      " recall:0.8528967254408061 \n",
      "}\n",
      "=====Epoch 82\n",
      "Training...\n"
     ]
    },
    {
     "name": "stderr",
     "output_type": "stream",
     "text": [
      "Iteration: 100%|██████████| 1001/1001 [01:38<00:00, 10.13it/s]\n",
      "Iteration:  22%|██▏       | 223/1001 [00:19<01:13, 10.58it/s]"
     ]
    },
    {
     "name": "stdout",
     "output_type": "stream",
     "text": [
      "Evaluating...\n"
     ]
    },
    {
     "name": "stderr",
     "output_type": "stream",
     "text": [
      "Iteration:  41%|████      | 411/1001 [00:37<00:56, 10.38it/s]]\n",
      "Iteration:  32%|███▏      | 317/1001 [00:28<00:55, 12.22it/s]\n",
      "Iteration:  32%|███▏      | 319/1001 [00:28<00:55, 12.20it/s]"
     ]
    },
    {
     "name": "stdout",
     "output_type": "stream",
     "text": [
      "{'Train':  best_epoch_indx:81\n",
      " auc:0.9884669129074466 \n",
      " apur:0.9228602887019979 \n",
      " f1:0.771468574984443 \n",
      " precision:0.6397176713414297 \n",
      " recall:0.9715637157491114 \n",
      ", 'Validation':  best_epoch_indx:81\n",
      " auc:0.944699386001401 \n",
      " apur:0.7773474605590134 \n",
      " f1:0.6679936305732485 \n",
      " precision:0.5521553142481079 \n",
      " recall:0.8453400503778338 \n",
      "}\n",
      "=====Epoch 82\n",
      "Training...\n"
     ]
    },
    {
     "name": "stderr",
     "output_type": "stream",
     "text": [
      "Iteration:  33%|███▎      | 329/1001 [00:28<01:00, 11.20it/s]]\n",
      "Iteration:  92%|█████████▏| 921/1001 [01:20<00:06, 11.73it/s]\n",
      "Iteration:   0%|          | 1/1001 [00:00<02:11,  7.61it/s]s]"
     ]
    },
    {
     "name": "stdout",
     "output_type": "stream",
     "text": [
      "{'Train':  best_epoch_indx:81\n",
      " auc:0.9910147397941055 \n",
      " apur:0.9384404946469362 \n",
      " f1:0.7916496760454896 \n",
      " precision:0.6649224621824755 \n",
      " recall:0.9780570404993143 \n",
      ", 'Validation':  best_epoch_indx:81\n",
      " auc:0.9486907583237982 \n",
      " apur:0.7931982409492961 \n",
      " f1:0.6834561834561834 \n",
      " precision:0.5757157640565712 \n",
      " recall:0.8408060453400503 \n",
      "}\n",
      "=====Epoch 82\n",
      "Training...\n"
     ]
    },
    {
     "name": "stderr",
     "output_type": "stream",
     "text": [
      "Iteration: 100%|██████████| 1001/1001 [01:26<00:00, 11.56it/s]\n",
      "Iteration:   7%|▋         | 67/1001 [00:06<01:30, 10.27it/s]]"
     ]
    },
    {
     "name": "stdout",
     "output_type": "stream",
     "text": [
      "Evaluating...\n"
     ]
    },
    {
     "name": "stderr",
     "output_type": "stream",
     "text": [
      "Iteration: 100%|██████████| 1001/1001 [01:30<00:00, 11.01it/s]\n",
      "Iteration:  14%|█▍        | 143/1001 [00:13<01:21, 10.52it/s]"
     ]
    },
    {
     "name": "stdout",
     "output_type": "stream",
     "text": [
      "Evaluating...\n"
     ]
    },
    {
     "name": "stderr",
     "output_type": "stream",
     "text": [
      "Iteration: 100%|██████████| 1001/1001 [01:24<00:00, 11.85it/s]\n",
      "Iteration:  18%|█▊        | 176/1001 [00:08<00:42, 19.43it/s]"
     ]
    },
    {
     "name": "stdout",
     "output_type": "stream",
     "text": [
      "Evaluating...\n"
     ]
    },
    {
     "name": "stderr",
     "output_type": "stream",
     "text": [
      "Iteration: 100%|██████████| 1001/1001 [01:25<00:00, 11.73it/s]\n",
      "Iteration:  86%|████████▌ | 859/1001 [00:44<00:07, 19.51it/s]"
     ]
    },
    {
     "name": "stdout",
     "output_type": "stream",
     "text": [
      "Evaluating...\n"
     ]
    },
    {
     "name": "stderr",
     "output_type": "stream",
     "text": [
      "Iteration:  74%|███████▍  | 745/1001 [00:38<00:13, 19.09it/s]]\n",
      "Iteration:  86%|████████▌ | 859/1001 [00:44<00:07, 20.03it/s]]\n",
      "Iteration:  31%|███       | 309/1001 [00:15<00:33, 20.73it/s]"
     ]
    },
    {
     "name": "stdout",
     "output_type": "stream",
     "text": [
      "{'Train':  best_epoch_indx:82\n",
      " auc:0.988347959117855 \n",
      " apur:0.9232061959483404 \n",
      " f1:0.7767564165954961 \n",
      " precision:0.6489231866914512 \n",
      " recall:0.9673094684989785 \n",
      ", 'Validation':  best_epoch_indx:82\n",
      " auc:0.9489861690243439 \n",
      " apur:0.7812396033173822 \n",
      " f1:0.6699408639871705 \n",
      " precision:0.5563509239220908 \n",
      " recall:0.8418136020151133 \n",
      "}\n",
      "=====Epoch 83\n",
      "Training...\n"
     ]
    },
    {
     "name": "stderr",
     "output_type": "stream",
     "text": [
      "Iteration:  87%|████████▋ | 873/1001 [00:44<00:06, 20.01it/s]\n",
      "Iteration:  43%|████▎     | 435/1001 [00:21<00:28, 19.74it/s]\n",
      "Iteration:  85%|████████▍ | 849/1001 [01:12<00:13, 11.66it/s]"
     ]
    },
    {
     "name": "stdout",
     "output_type": "stream",
     "text": [
      "{'Train':  best_epoch_indx:82\n",
      " auc:0.9832827699090317 \n",
      " apur:0.8947994592081356 \n",
      " f1:0.7473414168877583 \n",
      " precision:0.6143032225506452 \n",
      " recall:0.9539322698012874 \n",
      ", 'Validation':  best_epoch_indx:82\n",
      " auc:0.9455207450920526 \n",
      " apur:0.7656412942218498 \n",
      " f1:0.660174880763116 \n",
      " precision:0.5451263537906137 \n",
      " recall:0.8367758186397984 \n",
      "}\n",
      "=====Epoch 83\n",
      "Training...\n"
     ]
    },
    {
     "name": "stderr",
     "output_type": "stream",
     "text": [
      "Iteration:  11%|█▏        | 113/1001 [00:09<01:15, 11.74it/s]]\n",
      "Iteration:  10%|▉         | 96/1001 [00:08<01:22, 10.96it/s]]\n",
      "Iteration:  10%|▉         | 98/1001 [00:09<01:22, 10.91it/s]]"
     ]
    },
    {
     "name": "stdout",
     "output_type": "stream",
     "text": [
      "{'Train':  best_epoch_indx:82\n",
      " auc:0.9864092367885748 \n",
      " apur:0.9120021037264832 \n",
      " f1:0.753704410401788 \n",
      " precision:0.6173507662629943 \n",
      " recall:0.9673654454364802 \n",
      ", 'Validation':  best_epoch_indx:82\n",
      " auc:0.9471189645964018 \n",
      " apur:0.7783558589122161 \n",
      " f1:0.6651641352278295 \n",
      " precision:0.544346431435445 \n",
      " recall:0.854911838790932 \n",
      "}\n",
      "=====Epoch 83\n",
      "Training...\n"
     ]
    },
    {
     "name": "stderr",
     "output_type": "stream",
     "text": [
      "Iteration: 100%|██████████| 1001/1001 [01:24<00:00, 11.79it/s]\n",
      "Iteration:  22%|██▏       | 219/1001 [00:19<01:14, 10.54it/s]"
     ]
    },
    {
     "name": "stdout",
     "output_type": "stream",
     "text": [
      "Evaluating...\n"
     ]
    },
    {
     "name": "stderr",
     "output_type": "stream",
     "text": [
      "Iteration:  27%|██▋       | 266/1001 [00:23<01:01, 11.98it/s]]\n",
      "Iteration:  33%|███▎      | 334/1001 [00:29<00:55, 12.02it/s]\n",
      "Iteration:  44%|████▍     | 438/1001 [00:38<00:46, 12.01it/s]"
     ]
    },
    {
     "name": "stdout",
     "output_type": "stream",
     "text": [
      "{'Train':  best_epoch_indx:82\n",
      " auc:0.9830570503987063 \n",
      " apur:0.8941057116744096 \n",
      " f1:0.7286410854356583 \n",
      " precision:0.5864086946136391 \n",
      " recall:0.9619636709675614 \n",
      ", 'Validation':  best_epoch_indx:82\n",
      " auc:0.9389114551328794 \n",
      " apur:0.7521266416104386 \n",
      " f1:0.6323946323946324 \n",
      " precision:0.5060496067755595 \n",
      " recall:0.8428211586901764 \n",
      "}\n",
      "=====Epoch 83\n",
      "Training...\n"
     ]
    },
    {
     "name": "stderr",
     "output_type": "stream",
     "text": [
      "Iteration:  76%|███████▌  | 762/1001 [01:05<00:19, 11.97it/s]]\n",
      "Iteration:  71%|███████   | 710/1001 [01:01<00:29,  9.90it/s]\n",
      "Iteration:   0%|          | 1/1001 [00:00<01:50,  9.03it/s]s]"
     ]
    },
    {
     "name": "stdout",
     "output_type": "stream",
     "text": [
      "{'Train':  best_epoch_indx:82\n",
      " auc:0.9874964178145867 \n",
      " apur:0.9190979763585065 \n",
      " f1:0.7778809987764536 \n",
      " precision:0.6534383981423324 \n",
      " recall:0.9608721206862773 \n",
      ", 'Validation':  best_epoch_indx:82\n",
      " auc:0.9444357839477164 \n",
      " apur:0.7753507471550914 \n",
      " f1:0.6704976911236532 \n",
      " precision:0.5657142857142857 \n",
      " recall:0.8229219143576826 \n",
      "}\n",
      "=====Epoch 83\n",
      "Training...\n"
     ]
    },
    {
     "name": "stderr",
     "output_type": "stream",
     "text": [
      "Iteration: 100%|██████████| 1001/1001 [01:25<00:00, 11.75it/s]\n",
      "Iteration: 100%|██████████| 1001/1001 [01:31<00:00, 10.93it/s]\n",
      "Iteration:   0%|          | 2/1001 [00:00<01:10, 14.18it/s]s]"
     ]
    },
    {
     "name": "stdout",
     "output_type": "stream",
     "text": [
      "Evaluating...\n",
      "Evaluating...\n"
     ]
    },
    {
     "name": "stderr",
     "output_type": "stream",
     "text": [
      "Iteration:  30%|███       | 303/1001 [00:14<00:35, 19.86it/s]]\n",
      "Iteration:  31%|███       | 307/1001 [00:14<00:34, 19.92it/s]"
     ]
    },
    {
     "name": "stdout",
     "output_type": "stream",
     "text": [
      "Evaluating...\n"
     ]
    },
    {
     "name": "stderr",
     "output_type": "stream",
     "text": [
      "Iteration: 100%|██████████| 1001/1001 [01:27<00:00, 11.43it/s]\n",
      "Iteration:  82%|████████▏ | 819/1001 [00:40<00:08, 20.35it/s]"
     ]
    },
    {
     "name": "stdout",
     "output_type": "stream",
     "text": [
      "Evaluating...\n"
     ]
    },
    {
     "name": "stderr",
     "output_type": "stream",
     "text": [
      "Iteration:  23%|██▎       | 231/1001 [00:11<00:38, 19.93it/s]]\n",
      "Iteration:  29%|██▊       | 32/112 [00:01<00:03, 21.05it/s]s]\n",
      "Iteration:  86%|████████▋ | 864/1001 [00:42<00:07, 18.04it/s]\n",
      "Iteration:  79%|███████▉  | 89/112 [00:04<00:01, 20.83it/s]s]"
     ]
    },
    {
     "name": "stdout",
     "output_type": "stream",
     "text": [
      "{'Train':  best_epoch_indx:83\n",
      " auc:0.9804697262497186 \n",
      " apur:0.8777559464748421 \n",
      " f1:0.7463821437331372 \n",
      " precision:0.6202838929656809 \n",
      " recall:0.9368317940106353 \n",
      ", 'Validation':  best_epoch_indx:83\n",
      " auc:0.9434800502526905 \n",
      " apur:0.7578037158569466 \n",
      " f1:0.6651172190784155 \n",
      " precision:0.5553493081336484 \n",
      " recall:0.8289672544080604 \n",
      "}\n",
      "=====Epoch 84\n",
      "Training...\n"
     ]
    },
    {
     "name": "stderr",
     "output_type": "stream",
     "text": [
      "Iteration:   2%|▏         | 17/1001 [00:01<01:22, 11.96it/s]]\n",
      "Iteration:  86%|████████▌ | 858/1001 [01:13<00:12, 11.65it/s]"
     ]
    },
    {
     "name": "stdout",
     "output_type": "stream",
     "text": [
      "{'Train':  best_epoch_indx:83\n",
      " auc:0.9851041059604315 \n",
      " apur:0.9058639672521148 \n",
      " f1:0.75967716833048 \n",
      " precision:0.6301152604887045 \n",
      " recall:0.9563100002798847 \n",
      ", 'Validation':  best_epoch_indx:83\n",
      " auc:0.9457346027420579 \n",
      " apur:0.764160802661925 \n",
      " f1:0.6613111177229 \n",
      " precision:0.5453950597088173 \n",
      " recall:0.8397984886649874 \n",
      "}\n",
      "=====Epoch 84\n",
      "Training...\n"
     ]
    },
    {
     "name": "stderr",
     "output_type": "stream",
     "text": [
      "Iteration:  55%|█████▍    | 548/1001 [00:26<00:21, 20.90it/s]]\n",
      "Iteration: 100%|██████████| 1001/1001 [01:25<00:00, 11.71it/s]\n",
      "Iteration:  69%|██████▉   | 77/112 [00:03<00:01, 20.93it/s]s]"
     ]
    },
    {
     "name": "stdout",
     "output_type": "stream",
     "text": [
      "Evaluating...\n"
     ]
    },
    {
     "name": "stderr",
     "output_type": "stream",
     "text": [
      "Iteration:   4%|▍         | 41/1001 [00:01<00:45, 21.26it/s]]\n",
      "Iteration:  67%|██████▋   | 667/1001 [00:32<00:16, 20.26it/s]"
     ]
    },
    {
     "name": "stdout",
     "output_type": "stream",
     "text": [
      "{'Train':  best_epoch_indx:83\n",
      " auc:0.9840735391746368 \n",
      " apur:0.9004663831785287 \n",
      " f1:0.7294224551467635 \n",
      " precision:0.5858978493711066 \n",
      " recall:0.96607797587394 \n",
      ", 'Validation':  best_epoch_indx:83\n",
      " auc:0.9460254920033095 \n",
      " apur:0.7767596623214317 \n",
      " f1:0.6484493192133132 \n",
      " precision:0.5190735694822888 \n",
      " recall:0.863727959697733 \n",
      "}\n",
      "=====Epoch 84\n",
      "Training...\n"
     ]
    },
    {
     "name": "stderr",
     "output_type": "stream",
     "text": [
      "Iteration:  41%|████      | 409/1001 [00:34<00:56, 10.51it/s]]\n",
      "Iteration:  47%|████▋     | 470/1001 [00:40<00:45, 11.76it/s]\n",
      "Iteration:  56%|█████▋    | 565/1001 [00:27<00:20, 20.94it/s]"
     ]
    },
    {
     "name": "stdout",
     "output_type": "stream",
     "text": [
      "{'Train':  best_epoch_indx:83\n",
      " auc:0.9842405550210278 \n",
      " apur:0.9023586234225427 \n",
      " f1:0.7599187876476461 \n",
      " precision:0.6340883564208162 \n",
      " recall:0.9480534019983766 \n",
      ", 'Validation':  best_epoch_indx:83\n",
      " auc:0.9415061998575598 \n",
      " apur:0.7627766304354133 \n",
      " f1:0.6617025558462467 \n",
      " precision:0.5509383378016086 \n",
      " recall:0.8282115869017632 \n",
      "}\n",
      "=====Epoch 84\n",
      "Training...\n"
     ]
    },
    {
     "name": "stderr",
     "output_type": "stream",
     "text": [
      "Iteration:  74%|███████▎  | 738/1001 [01:04<00:21, 12.19it/s]]\n",
      "Iteration:  59%|█████▊    | 587/1001 [00:54<00:34, 12.11it/s]\n",
      "Iteration:  30%|███       | 304/1001 [00:29<01:06, 10.52it/s]"
     ]
    },
    {
     "name": "stdout",
     "output_type": "stream",
     "text": [
      "{'Train':  best_epoch_indx:83\n",
      " auc:0.9851912981044071 \n",
      " apur:0.9075136985120515 \n",
      " f1:0.7495222390879408 \n",
      " precision:0.6145333428837476 \n",
      " recall:0.9605082705925159 \n",
      ", 'Validation':  best_epoch_indx:83\n",
      " auc:0.9436059348369312 \n",
      " apur:0.7689730469358637 \n",
      " f1:0.6594466870138821 \n",
      " precision:0.5412962663649588 \n",
      " recall:0.8435768261964736 \n",
      "}\n",
      "=====Epoch 84\n",
      "Training...\n"
     ]
    },
    {
     "name": "stderr",
     "output_type": "stream",
     "text": [
      "Iteration: 100%|██████████| 1001/1001 [01:26<00:00, 11.61it/s]\n",
      "Iteration:   0%|          | 0/1001 [00:00<?, ?it/s]"
     ]
    },
    {
     "name": "stdout",
     "output_type": "stream",
     "text": [
      "Evaluating...\n"
     ]
    },
    {
     "name": "stderr",
     "output_type": "stream",
     "text": [
      "Iteration: 100%|██████████| 1001/1001 [01:33<00:00, 10.66it/s]\n",
      "Iteration:   0%|          | 2/1001 [00:00<01:09, 14.36it/s]s]"
     ]
    },
    {
     "name": "stdout",
     "output_type": "stream",
     "text": [
      "Evaluating...\n"
     ]
    },
    {
     "name": "stderr",
     "output_type": "stream",
     "text": [
      "Iteration: 100%|██████████| 1001/1001 [01:29<00:00, 11.19it/s]"
     ]
    },
    {
     "name": "stdout",
     "output_type": "stream",
     "text": [
      "Evaluating...\n"
     ]
    },
    {
     "name": "stderr",
     "output_type": "stream",
     "text": [
      "\n",
      "Iteration: 100%|██████████| 1001/1001 [01:32<00:00, 10.81it/s]\n",
      "Iteration:  78%|███████▊  | 777/1001 [00:37<00:11, 20.15it/s]"
     ]
    },
    {
     "name": "stdout",
     "output_type": "stream",
     "text": [
      "Evaluating...\n"
     ]
    },
    {
     "name": "stderr",
     "output_type": "stream",
     "text": [
      "Iteration:  78%|███████▊  | 783/1001 [01:07<00:18, 11.68it/s]]\n",
      "Iteration:  85%|████████▌ | 853/1001 [01:13<00:12, 11.98it/s]\n",
      "Iteration:  98%|█████████▊| 984/1001 [00:48<00:00, 20.62it/s]"
     ]
    },
    {
     "name": "stdout",
     "output_type": "stream",
     "text": [
      "{'Train':  best_epoch_indx:84\n",
      " auc:0.978536278666979 \n",
      " apur:0.8745844891014408 \n",
      " f1:0.7368888494160487 \n",
      " precision:0.610679718838553 \n",
      " recall:0.9288553036663868 \n",
      ", 'Validation':  best_epoch_indx:84\n",
      " auc:0.9443157450916241 \n",
      " apur:0.7618139119145504 \n",
      " f1:0.6625250501002005 \n",
      " precision:0.5500831946755408 \n",
      " recall:0.8327455919395466 \n",
      "}\n",
      "=====Epoch 85\n",
      "Training...\n"
     ]
    },
    {
     "name": "stderr",
     "output_type": "stream",
     "text": [
      "Iteration:  86%|████████▋ | 864/1001 [00:41<00:06, 20.19it/s]]\n",
      "Iteration:  96%|█████████▌| 961/1001 [01:22<00:03, 12.02it/s]\n",
      "Iteration:   0%|          | 1/1001 [00:00<01:59,  8.37it/s]s]"
     ]
    },
    {
     "name": "stdout",
     "output_type": "stream",
     "text": [
      "{'Train':  best_epoch_indx:84\n",
      " auc:0.9800972810832307 \n",
      " apur:0.8809861797840288 \n",
      " f1:0.7688913012696466 \n",
      " precision:0.6646606417919583 \n",
      " recall:0.9118923003722467 \n",
      ", 'Validation':  best_epoch_indx:84\n",
      " auc:0.9414661754769305 \n",
      " apur:0.7508445233534968 \n",
      " f1:0.6733711351235692 \n",
      " precision:0.5852705969871675 \n",
      " recall:0.7926952141057935 \n",
      "}\n",
      "=====Epoch 85\n",
      "Training...\n"
     ]
    },
    {
     "name": "stderr",
     "output_type": "stream",
     "text": [
      "Iteration: 100%|██████████| 1001/1001 [01:25<00:00, 11.66it/s]\n",
      "Iteration:   0%|          | 0/1001 [00:00<?, ?it/s]\n",
      "Iteration:  14%|█▎        | 137/1001 [00:12<01:25, 10.08it/s]"
     ]
    },
    {
     "name": "stdout",
     "output_type": "stream",
     "text": [
      "Evaluating...\n"
     ]
    },
    {
     "name": "stderr",
     "output_type": "stream",
     "text": [
      "Iteration:  11%|█         | 109/1001 [00:05<00:44, 20.06it/s]\n",
      "Iteration:  20%|█▉        | 198/1001 [00:18<01:08, 11.69it/s]"
     ]
    },
    {
     "name": "stdout",
     "output_type": "stream",
     "text": [
      "{'Train':  best_epoch_indx:84\n",
      " auc:0.9817103988819038 \n",
      " apur:0.8885078435401276 \n",
      " f1:0.7272862929013004 \n",
      " precision:0.5873026802774957 \n",
      " recall:0.9548825883735901 \n",
      ", 'Validation':  best_epoch_indx:84\n",
      " auc:0.944540137052325 \n",
      " apur:0.7654103423399168 \n",
      " f1:0.650682968764925 \n",
      " precision:0.5240806277888906 \n",
      " recall:0.8579345088161209 \n",
      "}\n",
      "=====Epoch 85\n",
      "Training...\n"
     ]
    },
    {
     "name": "stderr",
     "output_type": "stream",
     "text": [
      "Iteration:  40%|███▉      | 397/1001 [00:33<00:54, 11.15it/s]]\n",
      "Iteration:  72%|███████▏  | 718/1001 [00:36<00:15, 18.56it/s]\n",
      "Iteration:  56%|█████▌    | 562/1001 [00:48<00:37, 11.80it/s]"
     ]
    },
    {
     "name": "stdout",
     "output_type": "stream",
     "text": [
      "{'Train':  best_epoch_indx:84\n",
      " auc:0.9808102658285234 \n",
      " apur:0.887687913814561 \n",
      " f1:0.7576756645373995 \n",
      " precision:0.6410266343825666 \n",
      " recall:0.9262223963726944 \n",
      ", 'Validation':  best_epoch_indx:84\n",
      " auc:0.9402812540955453 \n",
      " apur:0.7600571257738228 \n",
      " f1:0.6653027823240589 \n",
      " precision:0.5601102307957285 \n",
      " recall:0.8191435768261964 \n",
      "}\n",
      "=====Epoch 85\n",
      "Training...\n"
     ]
    },
    {
     "name": "stderr",
     "output_type": "stream",
     "text": [
      "Iteration:  17%|█▋        | 175/1001 [00:16<01:22, 10.07it/s]]\n",
      "Iteration:  62%|██████▏   | 619/1001 [00:52<00:32, 11.83it/s]"
     ]
    },
    {
     "name": "stdout",
     "output_type": "stream",
     "text": [
      "{'Train':  best_epoch_indx:84\n",
      " auc:0.9821813319445611 \n",
      " apur:0.892569235283756 \n",
      " f1:0.7357684445069386 \n",
      " precision:0.5996051054227487 \n",
      " recall:0.9519437991547482 \n",
      ", 'Validation':  best_epoch_indx:84\n",
      " auc:0.9386709831340458 \n",
      " apur:0.7555362059540274 \n",
      " f1:0.6458797327394209 \n",
      " precision:0.5246185307535001 \n",
      " recall:0.8400503778337531 \n",
      "}\n",
      "=====Epoch 85\n",
      "Training...\n"
     ]
    },
    {
     "name": "stderr",
     "output_type": "stream",
     "text": [
      "\n",
      "Iteration: 100%|██████████| 1001/1001 [01:25<00:00, 11.68it/s]\n",
      "Iteration:  80%|███████▉  | 799/1001 [01:07<00:17, 11.86it/s]"
     ]
    },
    {
     "name": "stdout",
     "output_type": "stream",
     "text": [
      "Evaluating...\n"
     ]
    },
    {
     "name": "stderr",
     "output_type": "stream",
     "text": [
      "Iteration: 100%|██████████| 1001/1001 [01:30<00:00, 11.08it/s]\n",
      "Iteration:  96%|█████████▌| 961/1001 [01:21<00:03, 11.96it/s]"
     ]
    },
    {
     "name": "stdout",
     "output_type": "stream",
     "text": [
      "Evaluating...\n"
     ]
    },
    {
     "name": "stderr",
     "output_type": "stream",
     "text": [
      "Iteration:  36%|███▌      | 357/1001 [00:17<00:30, 20.87it/s]"
     ]
    },
    {
     "name": "stdout",
     "output_type": "stream",
     "text": [
      "Evaluating...\n"
     ]
    },
    {
     "name": "stderr",
     "output_type": "stream",
     "text": [
      "Iteration: 100%|██████████| 1001/1001 [01:24<00:00, 11.79it/s]\n",
      "Iteration: 100%|██████████| 1001/1001 [01:26<00:00, 11.60it/s]\n",
      "Iteration:   0%|          | 0/1001 [00:00<?, ?it/s]"
     ]
    },
    {
     "name": "stdout",
     "output_type": "stream",
     "text": [
      "Evaluating...\n"
     ]
    },
    {
     "name": "stderr",
     "output_type": "stream",
     "text": [
      "Iteration:   9%|▊         | 87/1001 [00:04<00:44, 20.48it/s]]]\n",
      "Iteration:  80%|████████  | 802/1001 [00:41<00:09, 20.27it/s]\n",
      "Iteration:  87%|████████▋ | 875/1001 [00:45<00:06, 20.17it/s]"
     ]
    },
    {
     "name": "stdout",
     "output_type": "stream",
     "text": [
      "{'Train':  best_epoch_indx:85\n",
      " auc:0.9782107956709893 \n",
      " apur:0.8685309779948174 \n",
      " f1:0.7358030709237144 \n",
      " precision:0.6089372157840692 \n",
      " recall:0.9294430450601735 \n",
      ", 'Validation':  best_epoch_indx:85\n",
      " auc:0.9413615866574769 \n",
      " apur:0.7484140462657907 \n",
      " f1:0.6578868000402132 \n",
      " precision:0.5474318219842731 \n",
      " recall:0.8241813602015113 \n",
      "}\n",
      "=====Epoch 86\n",
      "Training...\n"
     ]
    },
    {
     "name": "stderr",
     "output_type": "stream",
     "text": [
      "Iteration:  98%|█████████▊| 985/1001 [00:50<00:00, 20.46it/s]]\n",
      "Iteration:  59%|█████▉    | 66/112 [00:03<00:02, 21.03it/s]s]]\n",
      "Iteration: 100%|██████████| 1001/1001 [01:27<00:00, 11.44it/s]\n",
      "Iteration:  16%|█▌        | 161/1001 [00:13<01:09, 12.11it/s]"
     ]
    },
    {
     "name": "stdout",
     "output_type": "stream",
     "text": [
      "Evaluating...\n"
     ]
    },
    {
     "name": "stderr",
     "output_type": "stream",
     "text": [
      "Iteration:  46%|████▌     | 51/112 [00:02<00:02, 21.05it/s]s]\n",
      "Iteration:   2%|▏         | 23/1001 [00:01<00:48, 20.37it/s]]"
     ]
    },
    {
     "name": "stdout",
     "output_type": "stream",
     "text": [
      "{'Train':  best_epoch_indx:85\n",
      " auc:0.9825389662916227 \n",
      " apur:0.8962616834196664 \n",
      " f1:0.7601387346133792 \n",
      " precision:0.6387412614054137 \n",
      " recall:0.9385093341543285 \n",
      ", 'Validation':  best_epoch_indx:85\n",
      " auc:0.9461478322934309 \n",
      " apur:0.7711277036894526 \n",
      " f1:0.6668021955682049 \n",
      " precision:0.5589638718473074 \n",
      " recall:0.8261964735516373 \n",
      "}\n",
      "=====Epoch 86\n",
      "Training...\n"
     ]
    },
    {
     "name": "stderr",
     "output_type": "stream",
     "text": [
      "Iteration:   9%|▊         | 86/1001 [00:04<00:46, 19.88it/s]]\n",
      "Iteration:  21%|██        | 211/1001 [00:17<01:08, 11.56it/s]"
     ]
    },
    {
     "name": "stdout",
     "output_type": "stream",
     "text": [
      "{'Train':  best_epoch_indx:85\n",
      " auc:0.9819216254681655 \n",
      " apur:0.8890431314319642 \n",
      " f1:0.7262943386614024 \n",
      " precision:0.5849817914479646 \n",
      " recall:0.9576254583111758 \n",
      ", 'Validation':  best_epoch_indx:85\n",
      " auc:0.9458487058697881 \n",
      " apur:0.76987710648819 \n",
      " f1:0.6517175572519084 \n",
      " precision:0.5245775729646698 \n",
      " recall:0.8602015113350125 \n",
      "}\n",
      "=====Epoch 86\n",
      "Training...\n"
     ]
    },
    {
     "name": "stderr",
     "output_type": "stream",
     "text": [
      "Iteration:  32%|███▏      | 317/1001 [00:26<00:56, 12.14it/s]]\n",
      "Iteration:  42%|████▏     | 423/1001 [00:35<00:48, 11.90it/s]\n",
      "Iteration:   0%|          | 0/1001 [00:00<?, ?it/s]"
     ]
    },
    {
     "name": "stdout",
     "output_type": "stream",
     "text": [
      "{'Train':  best_epoch_indx:85\n",
      " auc:0.9836403757657427 \n",
      " apur:0.89903718952759 \n",
      " f1:0.7489003255036508 \n",
      " precision:0.616787726194142 \n",
      " recall:0.9530353494360324 \n",
      ", 'Validation':  best_epoch_indx:85\n",
      " auc:0.9423861876586735 \n",
      " apur:0.7611472975764251 \n",
      " f1:0.651513667091212 \n",
      " precision:0.5331088664421998 \n",
      " recall:0.8375314861460957 \n",
      "}\n",
      "=====Epoch 86\n",
      "Training...\n"
     ]
    },
    {
     "name": "stderr",
     "output_type": "stream",
     "text": [
      "Iteration:  59%|█████▉    | 593/1001 [00:49<00:33, 12.21it/s]]\n",
      "Iteration:  70%|███████   | 703/1001 [00:58<00:24, 12.13it/s]\n",
      "Iteration:  66%|██████▌   | 663/1001 [00:55<00:27, 12.23it/s]"
     ]
    },
    {
     "name": "stdout",
     "output_type": "stream",
     "text": [
      "{'Train':  best_epoch_indx:85\n",
      " auc:0.9850756691945292 \n",
      " apur:0.9070174159611499 \n",
      " f1:0.7325730381100628 \n",
      " precision:0.5892041970429924 \n",
      " recall:0.9681491225615046 \n",
      ", 'Validation':  best_epoch_indx:85\n",
      " auc:0.9446215615311315 \n",
      " apur:0.7685455377300255 \n",
      " f1:0.6482654315152662 \n",
      " precision:0.5188379482523832 \n",
      " recall:0.863727959697733 \n",
      "}\n",
      "=====Epoch 86\n",
      "Training...\n"
     ]
    },
    {
     "name": "stderr",
     "output_type": "stream",
     "text": [
      "Iteration: 100%|██████████| 1001/1001 [01:24<00:00, 11.87it/s]\n",
      "Iteration:  12%|█▏        | 125/1001 [00:11<01:21, 10.80it/s]"
     ]
    },
    {
     "name": "stdout",
     "output_type": "stream",
     "text": [
      "Evaluating...\n"
     ]
    },
    {
     "name": "stderr",
     "output_type": "stream",
     "text": [
      "Iteration: 100%|██████████| 1001/1001 [01:23<00:00, 11.99it/s]\n",
      "Iteration:  96%|█████████▌| 959/1001 [01:20<00:03, 11.17it/s]"
     ]
    },
    {
     "name": "stdout",
     "output_type": "stream",
     "text": [
      "Evaluating...\n"
     ]
    },
    {
     "name": "stderr",
     "output_type": "stream",
     "text": [
      "Iteration: 100%|██████████| 1001/1001 [01:24<00:00, 11.90it/s]\n",
      "Iteration:  57%|█████▋    | 572/1001 [00:51<00:42,  9.99it/s]"
     ]
    },
    {
     "name": "stdout",
     "output_type": "stream",
     "text": [
      "Evaluating...\n"
     ]
    },
    {
     "name": "stderr",
     "output_type": "stream",
     "text": [
      "Iteration:  71%|███████▏  | 715/1001 [00:34<00:13, 21.47it/s]]\n",
      "Iteration: 100%|██████████| 1001/1001 [01:29<00:00, 11.15it/s]\n",
      "Iteration:   0%|          | 2/1001 [00:00<01:09, 14.39it/s]s]"
     ]
    },
    {
     "name": "stdout",
     "output_type": "stream",
     "text": [
      "Evaluating...\n"
     ]
    },
    {
     "name": "stderr",
     "output_type": "stream",
     "text": [
      "Iteration:  78%|███████▊  | 779/1001 [01:08<00:18, 11.87it/s]\n",
      "Iteration:   3%|▎         | 34/1001 [00:01<00:47, 20.38it/s]]"
     ]
    },
    {
     "name": "stdout",
     "output_type": "stream",
     "text": [
      "{'Train':  best_epoch_indx:86\n",
      " auc:0.9830398159230442 \n",
      " apur:0.8959532176763723 \n",
      " f1:0.7505032406485721 \n",
      " precision:0.6204374222807403 \n",
      " recall:0.9495661908760146 \n",
      ", 'Validation':  best_epoch_indx:86\n",
      " auc:0.9471934976302943 \n",
      " apur:0.77653142211606 \n",
      " f1:0.6708708708708708 \n",
      " precision:0.5566445182724252 \n",
      " recall:0.844080604534005 \n",
      "}\n",
      "=====Epoch 87\n",
      "Training...\n"
     ]
    },
    {
     "name": "stderr",
     "output_type": "stream",
     "text": [
      "Iteration:  21%|██        | 208/1001 [00:10<00:37, 20.91it/s]]\n",
      "Iteration:  26%|██▌       | 256/1001 [00:12<00:35, 20.75it/s]\n",
      "Iteration:  17%|█▋        | 169/1001 [00:14<01:08, 12.10it/s]\n",
      "Iteration:   0%|          | 1/1001 [00:00<02:06,  7.93it/s]s]"
     ]
    },
    {
     "name": "stdout",
     "output_type": "stream",
     "text": [
      "{'Train':  best_epoch_indx:86\n",
      " auc:0.9871341899303246 \n",
      " apur:0.9186389229448992 \n",
      " f1:0.7767717339505753 \n",
      " precision:0.6531819482873772 \n",
      " recall:0.9580452853424389 \n",
      ", 'Validation':  best_epoch_indx:86\n",
      " auc:0.9476503172850381 \n",
      " apur:0.7726611977019204 \n",
      " f1:0.673893222571168 \n",
      " precision:0.5636332824944924 \n",
      " recall:0.8377833753148615 \n",
      "}\n",
      "=====Epoch 87\n",
      "Training...\n"
     ]
    },
    {
     "name": "stderr",
     "output_type": "stream",
     "text": [
      "Iteration:  97%|█████████▋| 973/1001 [01:24<00:02, 12.16it/s]\n",
      "Iteration:  20%|█▉        | 199/1001 [00:16<01:07, 11.88it/s]"
     ]
    },
    {
     "name": "stdout",
     "output_type": "stream",
     "text": [
      "{'Train':  best_epoch_indx:86\n",
      " auc:0.9847397220348847 \n",
      " apur:0.9020580865341599 \n",
      " f1:0.7441156109380408 \n",
      " precision:0.6064281810328108 \n",
      " recall:0.9626913711550841 \n",
      ", 'Validation':  best_epoch_indx:86\n",
      " auc:0.9473366279697178 \n",
      " apur:0.7782382969716573 \n",
      " f1:0.6624611801242236 \n",
      " precision:0.5388380170508368 \n",
      " recall:0.8596977329974811 \n",
      "}\n",
      "=====Epoch 87\n",
      "Training...\n"
     ]
    },
    {
     "name": "stderr",
     "output_type": "stream",
     "text": [
      "Iteration: 100%|██████████| 1001/1001 [01:27<00:00, 11.48it/s]\n",
      "Iteration:  22%|██▏       | 223/1001 [00:19<01:14, 10.40it/s]"
     ]
    },
    {
     "name": "stdout",
     "output_type": "stream",
     "text": [
      "Evaluating...\n"
     ]
    },
    {
     "name": "stderr",
     "output_type": "stream",
     "text": [
      "Iteration:  56%|█████▌    | 559/1001 [00:50<00:42, 10.42it/s]]\n",
      "Iteration:  47%|████▋     | 467/1001 [00:39<00:56,  9.43it/s]\n",
      "Iteration:   0%|          | 1/1001 [00:00<01:56,  8.58it/s]s]"
     ]
    },
    {
     "name": "stdout",
     "output_type": "stream",
     "text": [
      "{'Train':  best_epoch_indx:86\n",
      " auc:0.9862364406135771 \n",
      " apur:0.9118822749562905 \n",
      " f1:0.768388649465495 \n",
      " precision:0.6402641495354997 \n",
      " recall:0.9606202244675194 \n",
      ", 'Validation':  best_epoch_indx:86\n",
      " auc:0.9437282579841547 \n",
      " apur:0.7662318908443917 \n",
      " f1:0.661998599579874 \n",
      " precision:0.5490293678446988 \n",
      " recall:0.8335012594458439 \n",
      "}\n",
      "=====Epoch 87\n",
      "Training...\n"
     ]
    },
    {
     "name": "stderr",
     "output_type": "stream",
     "text": [
      "Iteration:  65%|██████▍   | 649/1001 [00:56<00:29, 11.93it/s]]\n",
      "Iteration:  85%|████████▌ | 854/1001 [01:16<00:12, 11.93it/s]"
     ]
    },
    {
     "name": "stdout",
     "output_type": "stream",
     "text": [
      "{'Train':  best_epoch_indx:86\n",
      " auc:0.9840809123103533 \n",
      " apur:0.9032602015948137 \n",
      " f1:0.7627708847493154 \n",
      " precision:0.6384507998792635 \n",
      " recall:0.9472137479358504 \n",
      ", 'Validation':  best_epoch_indx:86\n",
      " auc:0.9418491092421735 \n",
      " apur:0.7645153813626595 \n",
      " f1:0.6664624808575804 \n",
      " precision:0.560343347639485 \n",
      " recall:0.8221662468513854 \n",
      "}\n",
      "=====Epoch 87\n",
      "Training...\n"
     ]
    },
    {
     "name": "stderr",
     "output_type": "stream",
     "text": [
      "\n",
      "Iteration: 100%|██████████| 1001/1001 [01:28<00:00, 11.27it/s]\n",
      "Iteration:  14%|█▎        | 137/1001 [00:12<01:12, 11.90it/s]"
     ]
    },
    {
     "name": "stdout",
     "output_type": "stream",
     "text": [
      "Evaluating...\n"
     ]
    },
    {
     "name": "stderr",
     "output_type": "stream",
     "text": [
      "Iteration: 100%|██████████| 1001/1001 [01:27<00:00, 11.48it/s]\n",
      "Iteration:  29%|██▉       | 289/1001 [00:25<00:59, 12.02it/s]"
     ]
    },
    {
     "name": "stdout",
     "output_type": "stream",
     "text": [
      "Evaluating...\n"
     ]
    },
    {
     "name": "stderr",
     "output_type": "stream",
     "text": [
      "Iteration: 100%|██████████| 1001/1001 [01:26<00:00, 11.59it/s]\n",
      "Iteration:  30%|██▉       | 297/1001 [00:14<00:33, 21.09it/s]"
     ]
    },
    {
     "name": "stdout",
     "output_type": "stream",
     "text": [
      "Evaluating...\n"
     ]
    },
    {
     "name": "stderr",
     "output_type": "stream",
     "text": [
      "Iteration:  94%|█████████▍| 944/1001 [01:23<00:04, 11.86it/s]]\n",
      "Iteration: 100%|██████████| 1001/1001 [01:28<00:00, 11.33it/s]\n",
      "Iteration:  84%|████████▍ | 94/112 [00:04<00:00, 20.40it/s]s]"
     ]
    },
    {
     "name": "stdout",
     "output_type": "stream",
     "text": [
      "Evaluating...\n"
     ]
    },
    {
     "name": "stderr",
     "output_type": "stream",
     "text": [
      "Iteration:  91%|█████████ | 910/1001 [00:44<00:04, 20.69it/s]\n",
      "Iteration:   2%|▏         | 23/1001 [00:01<00:46, 20.82it/s]"
     ]
    },
    {
     "name": "stdout",
     "output_type": "stream",
     "text": [
      "{'Train':  best_epoch_indx:87\n",
      " auc:0.9844845090818927 \n",
      " apur:0.9032974292975052 \n",
      " f1:0.772011929341592 \n",
      " precision:0.6540719144800777 \n",
      " recall:0.9418415897005318 \n",
      ", 'Validation':  best_epoch_indx:87\n",
      " auc:0.9482976845345092 \n",
      " apur:0.780283807204432 \n",
      " f1:0.6781133636739759 \n",
      " precision:0.5752895752895753 \n",
      " recall:0.8256926952141058 \n",
      "}\n",
      "=====Epoch 88\n",
      "Training...\n"
     ]
    },
    {
     "name": "stderr",
     "output_type": "stream",
     "text": [
      "Iteration:   7%|▋         | 72/1001 [00:06<01:19, 11.72it/s]]]\n",
      "Iteration:  27%|██▋       | 30/112 [00:01<00:03, 21.62it/s]s]\n",
      "Iteration:  74%|███████▍  | 83/112 [00:03<00:01, 21.51it/s]s]\n",
      "Iteration:   0%|          | 1/1001 [00:00<02:01,  8.21it/s]s]"
     ]
    },
    {
     "name": "stdout",
     "output_type": "stream",
     "text": [
      "{'Train':  best_epoch_indx:87\n",
      " auc:0.9886709905781975 \n",
      " apur:0.9250890808877812 \n",
      " f1:0.784075037189285 \n",
      " precision:0.6596858638743456 \n",
      " recall:0.966273895155196 \n",
      ", 'Validation':  best_epoch_indx:87\n",
      " auc:0.9487616870634293 \n",
      " apur:0.7791162114262311 \n",
      " f1:0.6771268466632704 \n",
      " precision:0.5685201026518392 \n",
      " recall:0.8370277078085643 \n",
      "}\n",
      "=====Epoch 88\n",
      "Training...\n"
     ]
    },
    {
     "name": "stderr",
     "output_type": "stream",
     "text": [
      "Iteration:  31%|███       | 308/1001 [00:14<00:33, 20.87it/s]\n",
      "Iteration:   0%|          | 1/1001 [00:00<02:03,  8.07it/s]s]"
     ]
    },
    {
     "name": "stdout",
     "output_type": "stream",
     "text": [
      "{'Train':  best_epoch_indx:87\n",
      " auc:0.986436200029387 \n",
      " apur:0.9131310242126531 \n",
      " f1:0.7680470187087802 \n",
      " precision:0.640837029966122 \n",
      " recall:0.958269193092446 \n",
      ", 'Validation':  best_epoch_indx:87\n",
      " auc:0.9487140512361787 \n",
      " apur:0.7854832141635679 \n",
      " f1:0.6802542629401674 \n",
      " precision:0.5674128934522807 \n",
      " recall:0.8491183879093199 \n",
      "}\n",
      "=====Epoch 88\n",
      "Training...\n"
     ]
    },
    {
     "name": "stderr",
     "output_type": "stream",
     "text": [
      "Iteration:  12%|█▏        | 125/1001 [00:10<01:15, 11.64it/s]]\n",
      "Iteration:  50%|█████     | 504/1001 [00:24<00:24, 20.09it/s]"
     ]
    },
    {
     "name": "stdout",
     "output_type": "stream",
     "text": [
      "Evaluating...\n"
     ]
    },
    {
     "name": "stderr",
     "output_type": "stream",
     "text": [
      "Iteration:  54%|█████▍    | 545/1001 [00:26<00:22, 19.95it/s]]\n",
      "Iteration:  66%|██████▌   | 659/1001 [00:32<00:17, 19.99it/s]\n",
      "Iteration:   0%|          | 0/1001 [00:00<?, ?it/s]"
     ]
    },
    {
     "name": "stdout",
     "output_type": "stream",
     "text": [
      "{'Train':  best_epoch_indx:87\n",
      " auc:0.9879124235609374 \n",
      " apur:0.9219160381906601 \n",
      " f1:0.7808662660593186 \n",
      " precision:0.6571390333435301 \n",
      " recall:0.9619916594363123 \n",
      ", 'Validation':  best_epoch_indx:87\n",
      " auc:0.9457759471258175 \n",
      " apur:0.7782375433519171 \n",
      " f1:0.6771121351766513 \n",
      " precision:0.5704918032786885 \n",
      " recall:0.8327455919395466 \n",
      "}\n",
      "=====Epoch 88\n",
      "Training...\n"
     ]
    },
    {
     "name": "stderr",
     "output_type": "stream",
     "text": [
      "Iteration:  85%|████████▍ | 847/1001 [01:14<00:12, 12.08it/s]]\n",
      "Iteration:  79%|███████▉  | 791/1001 [01:06<00:19, 10.67it/s]\n",
      "Iteration:  79%|███████▉  | 793/1001 [01:06<00:19, 10.79it/s]"
     ]
    },
    {
     "name": "stdout",
     "output_type": "stream",
     "text": [
      "{'Train':  best_epoch_indx:87\n",
      " auc:0.9885649813360914 \n",
      " apur:0.9256200748400676 \n",
      " f1:0.7819690340715888 \n",
      " precision:0.6570851667714346 \n",
      " recall:0.9654622295614207 \n",
      ", 'Validation':  best_epoch_indx:87\n",
      " auc:0.9461060807658487 \n",
      " apur:0.7772345308778179 \n",
      " f1:0.6808945164913713 \n",
      " precision:0.5725571011506096 \n",
      " recall:0.8397984886649874 \n",
      "}\n",
      "=====Epoch 88\n",
      "Training...\n"
     ]
    },
    {
     "name": "stderr",
     "output_type": "stream",
     "text": [
      "Iteration: 100%|██████████| 1001/1001 [01:27<00:00, 11.40it/s]\n",
      "Iteration:  39%|███▉      | 391/1001 [00:32<00:48, 12.46it/s]"
     ]
    },
    {
     "name": "stdout",
     "output_type": "stream",
     "text": [
      "Evaluating...\n"
     ]
    },
    {
     "name": "stderr",
     "output_type": "stream",
     "text": [
      "Iteration: 100%|██████████| 1001/1001 [01:26<00:00, 11.56it/s]\n",
      "Iteration: 100%|██████████| 1001/1001 [01:25<00:00, 11.77it/s]\n",
      "Iteration:  53%|█████▎    | 529/1001 [00:43<00:38, 12.19it/s]"
     ]
    },
    {
     "name": "stdout",
     "output_type": "stream",
     "text": [
      "Evaluating...\n",
      "Evaluating...\n"
     ]
    },
    {
     "name": "stderr",
     "output_type": "stream",
     "text": [
      "Iteration: 100%|██████████| 1001/1001 [01:23<00:00, 12.05it/s]\n",
      "Iteration:  78%|███████▊  | 777/1001 [00:39<00:11, 20.10it/s]"
     ]
    },
    {
     "name": "stdout",
     "output_type": "stream",
     "text": [
      "Evaluating...\n"
     ]
    },
    {
     "name": "stderr",
     "output_type": "stream",
     "text": [
      "Iteration:  87%|████████▋ | 870/1001 [00:44<00:06, 20.70it/s]]\n",
      "Iteration:  75%|███████▍  | 750/1001 [01:08<00:21, 11.84it/s]\n",
      "Iteration:  75%|███████▌  | 752/1001 [01:08<00:20, 11.91it/s]"
     ]
    },
    {
     "name": "stdout",
     "output_type": "stream",
     "text": [
      "{'Train':  best_epoch_indx:88\n",
      " auc:0.9890670556567527 \n",
      " apur:0.9268319071153994 \n",
      " f1:0.796117628004905 \n",
      " precision:0.6785179050323394 \n",
      " recall:0.9630282675622726 \n",
      ", 'Validation':  best_epoch_indx:88\n",
      " auc:0.9507975090340929 \n",
      " apur:0.7903806558321063 \n",
      " f1:0.6922110552763818 \n",
      " precision:0.5922608384091723 \n",
      " recall:0.8327455919395466 \n",
      "}\n",
      "=====Epoch 89\n",
      "Training...\n"
     ]
    },
    {
     "name": "stderr",
     "output_type": "stream",
     "text": [
      "Iteration:  27%|██▋       | 272/1001 [00:13<00:36, 19.72it/s]]\n",
      "Iteration:  79%|███████▉  | 790/1001 [01:12<00:17, 11.87it/s]\n",
      "Iteration:   8%|▊         | 85/1001 [00:08<01:32,  9.92it/s]]\n",
      "Iteration:  85%|████████▌ | 854/1001 [01:17<00:12, 11.50it/s]"
     ]
    },
    {
     "name": "stdout",
     "output_type": "stream",
     "text": [
      "{'Train':  best_epoch_indx:88\n",
      " auc:0.9897249338943862 \n",
      " apur:0.9307739800704404 \n",
      " f1:0.7909967845659165 \n",
      " precision:0.6673849883593405 \n",
      " recall:0.9708080270928378 \n",
      ", 'Validation':  best_epoch_indx:88\n",
      " auc:0.9509029807127828 \n",
      " apur:0.7965624442379511 \n",
      " f1:0.690422245108136 \n",
      " precision:0.5839721254355401 \n",
      " recall:0.8443324937027707 \n",
      "}\n",
      "=====Epoch 89\n",
      "Training...\n"
     ]
    },
    {
     "name": "stderr",
     "output_type": "stream",
     "text": [
      "\r",
      "Iteration:   0%|          | 1/1001 [00:00<01:53,  8.83it/s]\r",
      "Iteration:  39%|███▊      | 387/1001 [00:19<00:32, 18.91it/s]\r",
      "Iteration:   9%|▊         | 87/1001 [00:08<01:31,  9.96it/s]\r",
      "Iteration:  86%|████████▌ | 856/1001 [01:17<00:13, 11.15it/s]\r",
      "Iteration:   0%|          | 3/1001 [00:00<01:33, 10.63it/s]\n",
      "\r",
      "Iteration:   0%|          | 0/1001 [00:00<?, ?it/s]\r",
      "Iteration:  39%|███▉      | 390/1001 [00:19<00:31, 19.44it/s]"
     ]
    },
    {
     "name": "stdout",
     "output_type": "stream",
     "text": [
      "{'Train':  best_epoch_indx:88\n",
      " auc:0.9910902564918813 \n",
      " apur:0.9392138893935815 \n",
      " f1:0.8138364188092494 \n",
      " precision:0.7018643620798085 \n",
      " recall:0.9683170533740099 \n",
      ", 'Validation':  best_epoch_indx:88\n",
      " auc:0.950582138523357 \n",
      " apur:0.7875467263846221 \n",
      " f1:0.6945269410267289 \n",
      " precision:0.5998534261634298 \n",
      " recall:0.8246851385390428 \n",
      "}\n",
      "=====Epoch 89\n",
      "Training...\n"
     ]
    },
    {
     "name": "stderr",
     "output_type": "stream",
     "text": [
      "Iteration:  23%|██▎       | 231/1001 [00:22<01:14, 10.31it/s]]\n",
      "Iteration:   0%|          | 2/1001 [00:00<01:10, 14.25it/s]s]"
     ]
    },
    {
     "name": "stdout",
     "output_type": "stream",
     "text": [
      "Evaluating...\n"
     ]
    },
    {
     "name": "stderr",
     "output_type": "stream",
     "text": [
      "Iteration:  46%|████▌     | 458/1001 [00:43<00:49, 10.87it/s]]\n",
      "Iteration:  51%|█████     | 507/1001 [00:26<00:26, 18.80it/s]\n",
      "Iteration:  49%|████▊     | 487/1001 [00:40<00:43, 11.86it/s]"
     ]
    },
    {
     "name": "stdout",
     "output_type": "stream",
     "text": [
      "{'Train':  best_epoch_indx:88\n",
      " auc:0.9907881462076542 \n",
      " apur:0.9362906890867367 \n",
      " f1:0.8070791929440786 \n",
      " precision:0.6906777129428634 \n",
      " recall:0.9706680847490834 \n",
      ", 'Validation':  best_epoch_indx:88\n",
      " auc:0.9467416879874316 \n",
      " apur:0.7812066596974578 \n",
      " f1:0.6839908161135463 \n",
      " precision:0.5839272986457591 \n",
      " recall:0.8254408060453401 \n",
      "}\n",
      "=====Epoch 89\n",
      "Training...\n"
     ]
    },
    {
     "name": "stderr",
     "output_type": "stream",
     "text": [
      "Iteration:  81%|████████  | 809/1001 [01:09<00:18, 10.28it/s]]\n",
      "Iteration:  92%|█████████▏| 920/1001 [01:23<00:06, 11.94it/s]\n",
      "Iteration:  87%|████████▋ | 869/1001 [01:15<00:12, 10.28it/s]"
     ]
    },
    {
     "name": "stdout",
     "output_type": "stream",
     "text": [
      "{'Train':  best_epoch_indx:88\n",
      " auc:0.9919839875286451 \n",
      " apur:0.9451849008544825 \n",
      " f1:0.8078540399652476 \n",
      " precision:0.6891651513953673 \n",
      " recall:0.9759299168742478 \n",
      ", 'Validation':  best_epoch_indx:88\n",
      " auc:0.9494116471761919 \n",
      " apur:0.793410998980602 \n",
      " f1:0.6941803364329746 \n",
      " precision:0.5931083735047313 \n",
      " recall:0.8367758186397984 \n",
      "}\n",
      "=====Epoch 89\n",
      "Training...\n"
     ]
    },
    {
     "name": "stderr",
     "output_type": "stream",
     "text": [
      "Iteration: 100%|██████████| 1001/1001 [01:30<00:00, 11.03it/s]\n",
      "Iteration:   0%|          | 2/1001 [00:00<01:09, 14.43it/s]s]"
     ]
    },
    {
     "name": "stdout",
     "output_type": "stream",
     "text": [
      "Evaluating...\n"
     ]
    },
    {
     "name": "stderr",
     "output_type": "stream",
     "text": [
      "Iteration: 100%|██████████| 1001/1001 [01:27<00:00, 11.38it/s]\n",
      "Iteration:  10%|█         | 102/1001 [00:05<00:50, 17.71it/s]"
     ]
    },
    {
     "name": "stdout",
     "output_type": "stream",
     "text": [
      "Evaluating...\n"
     ]
    },
    {
     "name": "stderr",
     "output_type": "stream",
     "text": [
      "Iteration: 100%|██████████| 1001/1001 [01:30<00:00, 11.09it/s]\n",
      "Iteration:  17%|█▋        | 168/1001 [00:15<01:07, 12.41it/s]"
     ]
    },
    {
     "name": "stdout",
     "output_type": "stream",
     "text": [
      "Evaluating...\n"
     ]
    },
    {
     "name": "stderr",
     "output_type": "stream",
     "text": [
      "Iteration: 100%|██████████| 1001/1001 [01:26<00:00, 11.62it/s]\n",
      "Iteration:  79%|███████▊  | 786/1001 [00:44<00:12, 17.76it/s]"
     ]
    },
    {
     "name": "stdout",
     "output_type": "stream",
     "text": [
      "Evaluating...\n"
     ]
    },
    {
     "name": "stderr",
     "output_type": "stream",
     "text": [
      "Iteration:  26%|██▌       | 262/1001 [00:13<00:37, 19.86it/s]]\n",
      "Iteration:  32%|███▏      | 36/112 [00:01<00:03, 20.81it/s]s]\n",
      "Iteration:  38%|███▊      | 42/112 [00:02<00:03, 20.74it/s]s]\n",
      "Iteration:  61%|██████    | 68/112 [00:03<00:02, 16.91it/s]s]\n",
      "Iteration:   0%|          | 0/1001 [00:00<?, ?it/s]"
     ]
    },
    {
     "name": "stdout",
     "output_type": "stream",
     "text": [
      "{'Train':  best_epoch_indx:89\n",
      " auc:0.991440701317627 \n",
      " apur:0.9410981916335988 \n",
      " f1:0.7983540976111556 \n",
      " precision:0.6747164853847492 \n",
      " recall:0.9774692826555459 \n",
      ", 'Validation':  best_epoch_indx:89\n",
      " auc:0.9519297460048262 \n",
      " apur:0.8009307209106526 \n",
      " f1:0.6948125321006677 \n",
      " precision:0.5866435385949696 \n",
      " recall:0.851889168765743 \n",
      "}\n",
      "=====Epoch 90\n",
      "Training...\n"
     ]
    },
    {
     "name": "stderr",
     "output_type": "stream",
     "text": [
      "Iteration:  95%|█████████▍| 106/112 [00:06<00:00, 17.31it/s]]\n",
      "Iteration:  85%|████████▍ | 846/1001 [01:12<00:12, 12.04it/s]"
     ]
    },
    {
     "name": "stdout",
     "output_type": "stream",
     "text": [
      "{'Train':  best_epoch_indx:89\n",
      " auc:0.9925417383966422 \n",
      " apur:0.9478541717256146 \n",
      " f1:0.824979555070935 \n",
      " precision:0.7154633664994655 \n",
      " recall:0.9740826779366901 \n",
      ", 'Validation':  best_epoch_indx:89\n",
      " auc:0.9512932087810378 \n",
      " apur:0.7933853124567449 \n",
      " f1:0.6999571367338191 \n",
      " precision:0.6091010816859381 \n",
      " recall:0.8226700251889169 \n",
      "}\n",
      "=====Epoch 90\n",
      "Training...\n"
     ]
    },
    {
     "name": "stderr",
     "output_type": "stream",
     "text": [
      "Iteration:  85%|████████▌ | 854/1001 [01:13<00:12, 12.11it/s]\n",
      "Iteration:  86%|████████▌ | 856/1001 [01:13<00:11, 12.11it/s]"
     ]
    },
    {
     "name": "stdout",
     "output_type": "stream",
     "text": [
      "{'Train':  best_epoch_indx:89\n",
      " auc:0.9905321647812491 \n",
      " apur:0.9358597595345503 \n",
      " f1:0.8024226702643861 \n",
      " precision:0.6843997550423737 \n",
      " recall:0.9696333613210187 \n",
      ", 'Validation':  best_epoch_indx:89\n",
      " auc:0.9518656615671403 \n",
      " apur:0.7955809704656664 \n",
      " f1:0.6974789915966386 \n",
      " precision:0.5981981981981982 \n",
      " recall:0.836272040302267 \n",
      "}\n",
      "=====Epoch 90\n",
      "Training...\n"
     ]
    },
    {
     "name": "stderr",
     "output_type": "stream",
     "text": [
      "Iteration: 100%|██████████| 1001/1001 [01:25<00:00, 11.71it/s]\n",
      "Iteration:   0%|          | 2/1001 [00:00<01:00, 16.53it/s]s]"
     ]
    },
    {
     "name": "stdout",
     "output_type": "stream",
     "text": [
      "Evaluating...\n"
     ]
    },
    {
     "name": "stderr",
     "output_type": "stream",
     "text": [
      "Iteration:  39%|███▉      | 393/1001 [00:33<00:51, 11.78it/s]]\n",
      "Iteration:  40%|████      | 402/1001 [00:37<00:52, 11.49it/s]\n",
      "Iteration:   0%|          | 1/1001 [00:00<01:52,  8.89it/s]s]"
     ]
    },
    {
     "name": "stdout",
     "output_type": "stream",
     "text": [
      "{'Train':  best_epoch_indx:89\n",
      " auc:0.992209493816966 \n",
      " apur:0.9450035636649569 \n",
      " f1:0.8201079987294267 \n",
      " precision:0.7073997402175678 \n",
      " recall:0.9755380783117356 \n",
      ", 'Validation':  best_epoch_indx:89\n",
      " auc:0.9471512446729516 \n",
      " apur:0.7848398342610993 \n",
      " f1:0.6936735778841042 \n",
      " precision:0.6001839926402944 \n",
      " recall:0.8216624685138539 \n",
      "}\n",
      "=====Epoch 90\n",
      "Training...\n"
     ]
    },
    {
     "name": "stderr",
     "output_type": "stream",
     "text": [
      "Iteration:  72%|███████▏  | 722/1001 [01:05<00:23, 12.06it/s]]\n",
      "Iteration:  77%|███████▋  | 766/1001 [01:10<00:19, 11.98it/s]\n",
      "Iteration:  77%|███████▋  | 768/1001 [01:10<00:19, 11.88it/s]"
     ]
    },
    {
     "name": "stdout",
     "output_type": "stream",
     "text": [
      "{'Train':  best_epoch_indx:89\n",
      " auc:0.9933616416162774 \n",
      " apur:0.953776906206882 \n",
      " f1:0.8161936541524725 \n",
      " precision:0.698090692124105 \n",
      " recall:0.9823952531556999 \n",
      ", 'Validation':  best_epoch_indx:89\n",
      " auc:0.9504693596844814 \n",
      " apur:0.7976905104045235 \n",
      " f1:0.697029702970297 \n",
      " precision:0.5944888888888888 \n",
      " recall:0.8423173803526448 \n",
      "}\n",
      "=====Epoch 90\n",
      "Training...\n"
     ]
    },
    {
     "name": "stderr",
     "output_type": "stream",
     "text": [
      "Iteration: 100%|██████████| 1001/1001 [01:27<00:00, 11.50it/s]\n",
      "Iteration:  93%|█████████▎| 932/1001 [01:24<00:05, 11.74it/s]"
     ]
    },
    {
     "name": "stdout",
     "output_type": "stream",
     "text": [
      "Evaluating...\n"
     ]
    },
    {
     "name": "stderr",
     "output_type": "stream",
     "text": [
      "Iteration: 100%|██████████| 1001/1001 [01:30<00:00, 11.12it/s]\n",
      "Iteration:  12%|█▏        | 125/1001 [00:05<00:40, 21.75it/s]"
     ]
    },
    {
     "name": "stdout",
     "output_type": "stream",
     "text": [
      "Evaluating...\n"
     ]
    },
    {
     "name": "stderr",
     "output_type": "stream",
     "text": [
      "Iteration: 100%|██████████| 1001/1001 [01:31<00:00, 10.88it/s]\n",
      "Iteration:   0%|          | 2/1001 [00:00<01:04, 15.54it/s]s]"
     ]
    },
    {
     "name": "stdout",
     "output_type": "stream",
     "text": [
      "Evaluating...\n"
     ]
    },
    {
     "name": "stderr",
     "output_type": "stream",
     "text": [
      "Iteration: 100%|██████████| 1001/1001 [01:27<00:00, 11.47it/s]\n",
      "Iteration:   0%|          | 0/1001 [00:00<?, ?it/s]"
     ]
    },
    {
     "name": "stdout",
     "output_type": "stream",
     "text": [
      "Evaluating...\n"
     ]
    },
    {
     "name": "stderr",
     "output_type": "stream",
     "text": [
      "Iteration:  93%|█████████▎| 933/1001 [00:45<00:03, 20.79it/s]]\n",
      "Iteration:  73%|███████▎  | 731/1001 [01:10<00:25, 10.41it/s]]\n",
      "Iteration:  73%|███████▎  | 733/1001 [01:10<00:25, 10.71it/s]"
     ]
    },
    {
     "name": "stdout",
     "output_type": "stream",
     "text": [
      "{'Train':  best_epoch_indx:90\n",
      " auc:0.9911085934470376 \n",
      " apur:0.9388923973800959 \n",
      " f1:0.795742016280526 \n",
      " precision:0.6706905154876598 \n",
      " recall:0.978113017436816 \n",
      ", 'Validation':  best_epoch_indx:90\n",
      " auc:0.9507952633144816 \n",
      " apur:0.7997298029276394 \n",
      " f1:0.6908346134152586 \n",
      " precision:0.582053494391717 \n",
      " recall:0.8496221662468514 \n",
      "}\n",
      "=====Epoch 91\n",
      "Training...\n"
     ]
    },
    {
     "name": "stderr",
     "output_type": "stream",
     "text": [
      "Iteration:   0%|          | 3/1001 [00:00<01:41,  9.87it/s]s]\n",
      "Iteration:  37%|███▋      | 374/1001 [00:18<00:32, 19.47it/s]\n",
      "Iteration:  84%|████████▍ | 94/112 [00:04<00:00, 21.15it/s]]]\n",
      "Iteration:  46%|████▋     | 465/1001 [00:23<00:26, 20.44it/s]"
     ]
    },
    {
     "name": "stdout",
     "output_type": "stream",
     "text": [
      "{'Train':  best_epoch_indx:90\n",
      " auc:0.989830998069726 \n",
      " apur:0.9316811972790267 \n",
      " f1:0.7971238631642122 \n",
      " precision:0.6782613819381702 \n",
      " recall:0.9664987405541562 \n",
      ", 'Validation':  best_epoch_indx:90\n",
      " auc:0.9499899328332693 \n",
      " apur:0.7933483699169885 \n",
      " f1:0.6937493456182598 \n",
      " precision:0.5936212148360509 \n",
      " recall:0.8345088161209068 \n",
      "}\n",
      "=====Epoch 91\n",
      "Training...\n"
     ]
    },
    {
     "name": "stderr",
     "output_type": "stream",
     "text": [
      "Iteration:  80%|███████▉  | 800/1001 [01:17<00:23,  8.67it/s]\n",
      "Iteration:   1%|▏         | 13/1001 [00:01<01:23, 11.89it/s]"
     ]
    },
    {
     "name": "stdout",
     "output_type": "stream",
     "text": [
      "{'Train':  best_epoch_indx:90\n",
      " auc:0.9916946338646891 \n",
      " apur:0.9421774630357118 \n",
      " f1:0.8205073595532206 \n",
      " precision:0.710701621333552 \n",
      " recall:0.9704441769990764 \n",
      ", 'Validation':  best_epoch_indx:90\n",
      " auc:0.9501689475435041 \n",
      " apur:0.7875100954156952 \n",
      " f1:0.6963216424294268 \n",
      " precision:0.6049795615013006 \n",
      " recall:0.8201511335012595 \n",
      "}\n",
      "=====Epoch 91\n",
      "Training...\n"
     ]
    },
    {
     "name": "stderr",
     "output_type": "stream",
     "text": [
      "Iteration: 100%|██████████| 1001/1001 [01:35<00:00, 10.49it/s]\n",
      "Iteration:  29%|██▉       | 293/1001 [00:25<00:58, 12.06it/s]"
     ]
    },
    {
     "name": "stdout",
     "output_type": "stream",
     "text": [
      "Evaluating...\n"
     ]
    },
    {
     "name": "stderr",
     "output_type": "stream",
     "text": [
      "Iteration:  22%|██▏       | 223/1001 [00:10<00:39, 19.79it/s]]\n",
      "Iteration:  34%|███▎      | 337/1001 [00:16<00:32, 20.50it/s]\n",
      "Iteration:   0%|          | 0/1001 [00:00<?, ?it/s]"
     ]
    },
    {
     "name": "stdout",
     "output_type": "stream",
     "text": [
      "{'Train':  best_epoch_indx:90\n",
      " auc:0.9916206253935852 \n",
      " apur:0.9419200095495324 \n",
      " f1:0.8168238808778906 \n",
      " precision:0.7044407928103382 \n",
      " recall:0.971871588905371 \n",
      ", 'Validation':  best_epoch_indx:90\n",
      " auc:0.9460852692879242 \n",
      " apur:0.7815501311333475 \n",
      " f1:0.6866051543111676 \n",
      " precision:0.5929657446418758 \n",
      " recall:0.8153652392947103 \n",
      "}\n",
      "=====Epoch 91\n",
      "Training...\n"
     ]
    },
    {
     "name": "stderr",
     "output_type": "stream",
     "text": [
      "Iteration:  84%|████████▍ | 839/1001 [01:10<00:13, 12.05it/s]]\n",
      "Iteration:  48%|████▊     | 478/1001 [00:40<00:46, 11.15it/s]\n",
      "Iteration:   0%|          | 1/1001 [00:00<01:55,  8.65it/s]s]"
     ]
    },
    {
     "name": "stdout",
     "output_type": "stream",
     "text": [
      "{'Train':  best_epoch_indx:90\n",
      " auc:0.9930768317841263 \n",
      " apur:0.9514762647259656 \n",
      " f1:0.8260715299460687 \n",
      " precision:0.7152981176904328 \n",
      " recall:0.977441294186795 \n",
      ", 'Validation':  best_epoch_indx:90\n",
      " auc:0.9491946352329921 \n",
      " apur:0.7941010905705186 \n",
      " f1:0.6972967197350144 \n",
      " precision:0.6054926702542216 \n",
      " recall:0.8219143576826197 \n",
      "}\n",
      "=====Epoch 91\n",
      "Training...\n"
     ]
    },
    {
     "name": "stderr",
     "output_type": "stream",
     "text": [
      "Iteration: 100%|██████████| 1001/1001 [01:23<00:00, 11.92it/s]\n",
      "Iteration:   9%|▉         | 95/1001 [00:07<01:16, 11.90it/s]]"
     ]
    },
    {
     "name": "stdout",
     "output_type": "stream",
     "text": [
      "Evaluating...\n"
     ]
    },
    {
     "name": "stderr",
     "output_type": "stream",
     "text": [
      "Iteration: 100%|██████████| 1001/1001 [01:31<00:00, 10.94it/s]\n",
      "Iteration:  57%|█████▋    | 574/1001 [00:50<00:37, 11.39it/s]"
     ]
    },
    {
     "name": "stdout",
     "output_type": "stream",
     "text": [
      "Evaluating...\n"
     ]
    },
    {
     "name": "stderr",
     "output_type": "stream",
     "text": [
      "Iteration: 100%|██████████| 1001/1001 [01:29<00:00, 11.15it/s]\n",
      "Iteration:  17%|█▋        | 173/1001 [00:14<01:10, 11.67it/s]"
     ]
    },
    {
     "name": "stdout",
     "output_type": "stream",
     "text": [
      "Evaluating...\n"
     ]
    },
    {
     "name": "stderr",
     "output_type": "stream",
     "text": [
      "Iteration: 100%|██████████| 1001/1001 [01:28<00:00, 11.33it/s]\n",
      "Iteration:  79%|███████▉  | 790/1001 [00:39<00:10, 19.82it/s]"
     ]
    },
    {
     "name": "stdout",
     "output_type": "stream",
     "text": [
      "Evaluating...\n"
     ]
    },
    {
     "name": "stderr",
     "output_type": "stream",
     "text": [
      "Iteration:  92%|█████████▏| 920/1001 [00:45<00:03, 20.42it/s]]\n",
      "Iteration:  53%|█████▎    | 59/112 [00:02<00:02, 21.06it/s]s]]\n",
      "Iteration:  51%|█████     | 57/112 [00:02<00:02, 20.90it/s]s]]\n",
      "Iteration:  78%|███████▊  | 785/1001 [01:06<00:18, 11.86it/s]"
     ]
    },
    {
     "name": "stdout",
     "output_type": "stream",
     "text": [
      "{'Train':  best_epoch_indx:91\n",
      " auc:0.9892204529965603 \n",
      " apur:0.926237308510296 \n",
      " f1:0.7917912756522636 \n",
      " precision:0.6703335079448227 \n",
      " recall:0.9670025188916876 \n",
      ", 'Validation':  best_epoch_indx:91\n",
      " auc:0.9486222295898588 \n",
      " apur:0.781934431616048 \n",
      " f1:0.6871038137794867 \n",
      " precision:0.5848222182911729 \n",
      " recall:0.8327455919395466 \n",
      "}\n",
      "=====Epoch 92\n",
      "Training...\n"
     ]
    },
    {
     "name": "stderr",
     "output_type": "stream",
     "text": [
      "Iteration:  62%|██████▏   | 69/112 [00:03<00:02, 20.23it/s]s]\n",
      "Iteration:  82%|████████▏ | 819/1001 [01:09<00:14, 12.26it/s]\n",
      "Iteration:  44%|████▍     | 445/1001 [00:21<00:26, 20.63it/s]"
     ]
    },
    {
     "name": "stdout",
     "output_type": "stream",
     "text": [
      "{'Train':  best_epoch_indx:91\n",
      " auc:0.9887280007333893 \n",
      " apur:0.9255222512798191 \n",
      " f1:0.7759921212256865 \n",
      " precision:0.6465081585081585 \n",
      " recall:0.9703322231240729 \n",
      ", 'Validation':  best_epoch_indx:91\n",
      " auc:0.94931808981147 \n",
      " apur:0.7888885786886471 \n",
      " f1:0.6807995154451847 \n",
      " precision:0.5680592991913747 \n",
      " recall:0.8493702770780857 \n",
      "}\n",
      "=====Epoch 92\n",
      "Training...\n"
     ]
    },
    {
     "name": "stderr",
     "output_type": "stream",
     "text": [
      "Iteration:   3%|▎         | 33/1001 [00:03<01:27, 11.06it/s]]\n",
      "Iteration:   3%|▎         | 35/1001 [00:03<01:25, 11.31it/s]]"
     ]
    },
    {
     "name": "stdout",
     "output_type": "stream",
     "text": [
      "{'Train':  best_epoch_indx:91\n",
      " auc:0.990649399165632 \n",
      " apur:0.9360689085891509 \n",
      " f1:0.820304932735426 \n",
      " precision:0.7161140805077668 \n",
      " recall:0.9599764896862493 \n",
      ", 'Validation':  best_epoch_indx:91\n",
      " auc:0.9488044585934304 \n",
      " apur:0.7808190310884089 \n",
      " f1:0.6942613206527611 \n",
      " precision:0.6079878856710202 \n",
      " recall:0.8090680100755667 \n",
      "}\n",
      "=====Epoch 92\n",
      "Training...\n"
     ]
    },
    {
     "name": "stderr",
     "output_type": "stream",
     "text": [
      "Iteration: 100%|██████████| 1001/1001 [01:24<00:00, 11.83it/s]\n",
      "Iteration:  18%|█▊        | 181/1001 [00:15<01:07, 12.12it/s]"
     ]
    },
    {
     "name": "stdout",
     "output_type": "stream",
     "text": [
      "Evaluating...\n"
     ]
    },
    {
     "name": "stderr",
     "output_type": "stream",
     "text": [
      "Iteration:  30%|███       | 302/1001 [00:14<00:34, 20.52it/s]]\n",
      "Iteration:  43%|████▎     | 433/1001 [00:38<00:56, 10.09it/s]\n",
      "Iteration:  42%|████▏     | 425/1001 [00:35<00:47, 12.02it/s]"
     ]
    },
    {
     "name": "stdout",
     "output_type": "stream",
     "text": [
      "{'Train':  best_epoch_indx:91\n",
      " auc:0.9901288592904638 \n",
      " apur:0.9333596453696665 \n",
      " f1:0.8138042304817721 \n",
      " precision:0.7062638991845812 \n",
      " recall:0.9599764896862493 \n",
      ", 'Validation':  best_epoch_indx:91\n",
      " auc:0.9446336558455267 \n",
      " apur:0.7736103065853303 \n",
      " f1:0.6861048809142369 \n",
      " precision:0.5955868718709438 \n",
      " recall:0.8090680100755667 \n",
      "}\n",
      "=====Epoch 92\n",
      "Training...\n"
     ]
    },
    {
     "name": "stderr",
     "output_type": "stream",
     "text": [
      "Iteration:  74%|███████▎  | 736/1001 [01:05<00:21, 12.24it/s]]\n",
      "Iteration:  89%|████████▉ | 891/1001 [01:14<00:08, 12.49it/s]\n",
      "Iteration:  86%|████████▌ | 858/1001 [01:17<00:11, 12.29it/s]"
     ]
    },
    {
     "name": "stdout",
     "output_type": "stream",
     "text": [
      "{'Train':  best_epoch_indx:91\n",
      " auc:0.9921578555424054 \n",
      " apur:0.946017128610247 \n",
      " f1:0.8101471475653345 \n",
      " precision:0.6919889776579505 \n",
      " recall:0.9769654902180301 \n",
      ", 'Validation':  best_epoch_indx:91\n",
      " auc:0.9480408667826268 \n",
      " apur:0.789496432808207 \n",
      " f1:0.6876043405676127 \n",
      " precision:0.5869255432846455 \n",
      " recall:0.8299748110831234 \n",
      "}\n",
      "=====Epoch 92\n",
      "Training...\n"
     ]
    },
    {
     "name": "stderr",
     "output_type": "stream",
     "text": [
      "Iteration: 100%|██████████| 1001/1001 [01:23<00:00, 12.04it/s]\n",
      "Iteration:   0%|          | 0/1001 [00:00<?, ?it/s]"
     ]
    },
    {
     "name": "stdout",
     "output_type": "stream",
     "text": [
      "Evaluating...\n"
     ]
    },
    {
     "name": "stderr",
     "output_type": "stream",
     "text": [
      "Iteration: 100%|██████████| 1001/1001 [01:29<00:00, 11.21it/s]\n",
      "Iteration:  14%|█▍        | 141/1001 [00:12<01:17, 11.13it/s]"
     ]
    },
    {
     "name": "stdout",
     "output_type": "stream",
     "text": [
      "Evaluating...\n"
     ]
    },
    {
     "name": "stderr",
     "output_type": "stream",
     "text": [
      "Iteration: 100%|██████████| 1001/1001 [01:29<00:00, 11.24it/s]\n",
      "Iteration:   0%|          | 2/1001 [00:00<01:18, 12.71it/s]s]"
     ]
    },
    {
     "name": "stdout",
     "output_type": "stream",
     "text": [
      "Evaluating...\n"
     ]
    },
    {
     "name": "stderr",
     "output_type": "stream",
     "text": [
      "Iteration: 100%|██████████| 1001/1001 [01:20<00:00, 12.39it/s]\n",
      "Iteration:   0%|          | 0/1001 [00:00<?, ?it/s]"
     ]
    },
    {
     "name": "stdout",
     "output_type": "stream",
     "text": [
      "Evaluating...\n"
     ]
    },
    {
     "name": "stderr",
     "output_type": "stream",
     "text": [
      "Iteration:  32%|███▏      | 325/1001 [00:15<00:32, 20.73it/s]]\n",
      "Iteration:  83%|████████▎ | 93/112 [00:04<00:00, 21.91it/s]s]]\n",
      "Iteration:  18%|█▊        | 20/112 [00:01<00:04, 18.65it/s]s]\n",
      "Iteration:  72%|███████▏  | 718/1001 [01:03<00:22, 12.42it/s]"
     ]
    },
    {
     "name": "stdout",
     "output_type": "stream",
     "text": [
      "{'Train':  best_epoch_indx:92\n",
      " auc:0.98574862357858 \n",
      " apur:0.9083553942993869 \n",
      " f1:0.771431805319751 \n",
      " precision:0.6476121700461793 \n",
      " recall:0.9537910380923059 \n",
      ", 'Validation':  best_epoch_indx:92\n",
      " auc:0.945639965374775 \n",
      " apur:0.769085531165614 \n",
      " f1:0.6789833622537511 \n",
      " precision:0.5707911446713575 \n",
      " recall:0.8377833753148615 \n",
      "}\n",
      "=====Epoch 93\n",
      "Training...\n"
     ]
    },
    {
     "name": "stderr",
     "output_type": "stream",
     "text": [
      "Iteration:  53%|█████▎    | 533/1001 [00:25<00:22, 20.56it/s]]\n",
      "Iteration:   5%|▌         | 6/112 [00:00<00:04, 22.31it/s]/s]\n",
      "Iteration:  78%|███████▊  | 780/1001 [01:08<00:18, 12.18it/s]"
     ]
    },
    {
     "name": "stdout",
     "output_type": "stream",
     "text": [
      "{'Train':  best_epoch_indx:92\n",
      " auc:0.9871454802393913 \n",
      " apur:0.9170246500552274 \n",
      " f1:0.7924395892301576 \n",
      " precision:0.6806783475325511 \n",
      " recall:0.9481108312342569 \n",
      ", 'Validation':  best_epoch_indx:92\n",
      " auc:0.9461093636307765 \n",
      " apur:0.7732993881221916 \n",
      " f1:0.6888037462750106 \n",
      " precision:0.5963877626244011 \n",
      " recall:0.8151133501259445 \n",
      "}\n",
      "=====Epoch 93\n",
      "Training...\n"
     ]
    },
    {
     "name": "stderr",
     "output_type": "stream",
     "text": [
      "Iteration:  10%|▉         | 100/1001 [00:10<01:29, 10.04it/s]\n",
      "Iteration:  10%|█         | 102/1001 [00:10<01:30,  9.89it/s]"
     ]
    },
    {
     "name": "stdout",
     "output_type": "stream",
     "text": [
      "{'Train':  best_epoch_indx:92\n",
      " auc:0.9886058933132738 \n",
      " apur:0.9247963571967626 \n",
      " f1:0.7946659251792892 \n",
      " precision:0.6779811798197058 \n",
      " recall:0.9598645358112458 \n",
      ", 'Validation':  best_epoch_indx:92\n",
      " auc:0.9483850747417487 \n",
      " apur:0.7781857636940417 \n",
      " f1:0.6808068205448118 \n",
      " precision:0.5796742209631728 \n",
      " recall:0.8246851385390428 \n",
      "}\n",
      "=====Epoch 93\n",
      "Training...\n"
     ]
    },
    {
     "name": "stderr",
     "output_type": "stream",
     "text": [
      "Iteration: 100%|██████████| 1001/1001 [01:26<00:00, 11.55it/s]\n",
      "Iteration:  93%|█████████▎| 928/1001 [00:44<00:03, 20.42it/s]"
     ]
    },
    {
     "name": "stdout",
     "output_type": "stream",
     "text": [
      "Evaluating...\n"
     ]
    },
    {
     "name": "stderr",
     "output_type": "stream",
     "text": [
      "Iteration:  30%|██▉       | 300/1001 [00:29<01:18,  8.99it/s]]\n",
      "Iteration:  35%|███▌      | 353/1001 [00:35<01:04, 10.04it/s]"
     ]
    },
    {
     "name": "stdout",
     "output_type": "stream",
     "text": [
      "{'Train':  best_epoch_indx:92\n",
      " auc:0.9887984684635907 \n",
      " apur:0.9260215019200806 \n",
      " f1:0.799291589961084 \n",
      " precision:0.6846717368305487 \n",
      " recall:0.9600044781550001 \n",
      ", 'Validation':  best_epoch_indx:92\n",
      " auc:0.9450955455122936 \n",
      " apur:0.7746374540518708 \n",
      " f1:0.6829165791132591 \n",
      " precision:0.5857966834895458 \n",
      " recall:0.818639798488665 \n",
      "}\n",
      "=====Epoch 93\n",
      "Training...\n"
     ]
    },
    {
     "name": "stderr",
     "output_type": "stream",
     "text": [
      "\n",
      "Iteration:  45%|████▌     | 453/1001 [00:38<00:46, 11.71it/s]]\n",
      "Iteration:  85%|████████▍ | 849/1001 [01:13<00:14, 10.45it/s]\n",
      "Iteration:  74%|███████▍  | 739/1001 [01:08<00:21, 12.33it/s]"
     ]
    },
    {
     "name": "stdout",
     "output_type": "stream",
     "text": [
      "{'Train':  best_epoch_indx:92\n",
      " auc:0.9902780917392945 \n",
      " apur:0.9351808080319057 \n",
      " f1:0.7951260330815345 \n",
      " precision:0.6733255678509027 \n",
      " recall:0.9707240616865851 \n",
      ", 'Validation':  best_epoch_indx:92\n",
      " auc:0.9459111231606635 \n",
      " apur:0.7820410140585281 \n",
      " f1:0.6837501286405269 \n",
      " precision:0.5780407168957717 \n",
      " recall:0.8367758186397984 \n",
      "}\n",
      "=====Epoch 93\n",
      "Training...\n"
     ]
    },
    {
     "name": "stderr",
     "output_type": "stream",
     "text": [
      "Iteration: 100%|██████████| 1001/1001 [01:30<00:00, 11.06it/s]\n",
      "Iteration:  14%|█▍        | 143/1001 [00:11<01:10, 12.25it/s]"
     ]
    },
    {
     "name": "stdout",
     "output_type": "stream",
     "text": [
      "Evaluating...\n"
     ]
    },
    {
     "name": "stderr",
     "output_type": "stream",
     "text": [
      "Iteration: 100%|██████████| 1001/1001 [01:28<00:00, 11.32it/s]\n",
      "Iteration:   6%|▋         | 65/1001 [00:03<00:45, 20.71it/s]]"
     ]
    },
    {
     "name": "stdout",
     "output_type": "stream",
     "text": [
      "Evaluating...\n"
     ]
    },
    {
     "name": "stderr",
     "output_type": "stream",
     "text": [
      "Iteration: 100%|██████████| 1001/1001 [01:30<00:00, 11.09it/s]\n",
      "Iteration:  15%|█▍        | 149/1001 [00:06<00:39, 21.54it/s]"
     ]
    },
    {
     "name": "stdout",
     "output_type": "stream",
     "text": [
      "Evaluating...\n"
     ]
    },
    {
     "name": "stderr",
     "output_type": "stream",
     "text": [
      "Iteration: 100%|██████████| 1001/1001 [01:33<00:00, 10.67it/s]\n",
      "Iteration:  80%|███████▉  | 797/1001 [00:38<00:11, 18.07it/s]"
     ]
    },
    {
     "name": "stdout",
     "output_type": "stream",
     "text": [
      "Evaluating...\n"
     ]
    },
    {
     "name": "stderr",
     "output_type": "stream",
     "text": [
      "Iteration:  90%|████████▉ | 899/1001 [00:42<00:05, 17.73it/s]]\n",
      "Iteration:  30%|███       | 304/1001 [00:14<00:33, 20.87it/s]\n",
      "Iteration:  40%|███▉      | 397/1001 [00:19<00:28, 20.83it/s]\n",
      "Iteration:   0%|          | 1/1001 [00:00<02:05,  7.96it/s]/s]"
     ]
    },
    {
     "name": "stdout",
     "output_type": "stream",
     "text": [
      "{'Train':  best_epoch_indx:93\n",
      " auc:0.9837238754396648 \n",
      " apur:0.8982546263041249 \n",
      " f1:0.769487686870189 \n",
      " precision:0.650644125498085 \n",
      " recall:0.9414481233731703 \n",
      ", 'Validation':  best_epoch_indx:93\n",
      " auc:0.9458773859378009 \n",
      " apur:0.7674201265481747 \n",
      " f1:0.6799834402815151 \n",
      " precision:0.5771257905832747 \n",
      " recall:0.827455919395466 \n",
      "}\n",
      "=====Epoch 94\n",
      "Training...\n"
     ]
    },
    {
     "name": "stderr",
     "output_type": "stream",
     "text": [
      "Iteration:   1%|          | 10/1001 [00:00<01:25, 11.60it/s]]]\n",
      "Iteration:  82%|████████▏ | 817/1001 [01:10<00:17, 10.46it/s]"
     ]
    },
    {
     "name": "stdout",
     "output_type": "stream",
     "text": [
      "{'Train':  best_epoch_indx:93\n",
      " auc:0.9848819204262332 \n",
      " apur:0.9049731338331538 \n",
      " f1:0.7741706296911706 \n",
      " precision:0.6554574560977976 \n",
      " recall:0.9453960257486705 \n",
      ", 'Validation':  best_epoch_indx:93\n",
      " auc:0.9458330501183758 \n",
      " apur:0.7676300539352466 \n",
      " f1:0.6781692323587147 \n",
      " precision:0.5748817656332107 \n",
      " recall:0.8267002518891687 \n",
      "}\n",
      "=====Epoch 94\n",
      "Training...\n"
     ]
    },
    {
     "name": "stderr",
     "output_type": "stream",
     "text": [
      "Iteration:  45%|████▍     | 448/1001 [00:21<00:26, 21.01it/s]\n",
      "Iteration:   8%|▊         | 81/1001 [00:06<01:14, 12.30it/s]]\n",
      "Iteration:  89%|████████▉ | 889/1001 [01:17<00:10, 10.41it/s]"
     ]
    },
    {
     "name": "stdout",
     "output_type": "stream",
     "text": [
      "{'Train':  best_epoch_indx:93\n",
      " auc:0.9850318879752817 \n",
      " apur:0.9050184295629407 \n",
      " f1:0.761251769847375 \n",
      " precision:0.632615624073525 \n",
      " recall:0.955554311623611 \n",
      ", 'Validation':  best_epoch_indx:93\n",
      " auc:0.9464340715436553 \n",
      " apur:0.770119220271452 \n",
      " f1:0.6613402576650355 \n",
      " precision:0.5479066688730763 \n",
      " recall:0.8340050377833753 \n",
      "}\n",
      "=====Epoch 94\n",
      "Training...\n"
     ]
    },
    {
     "name": "stderr",
     "output_type": "stream",
     "text": [
      "Iteration: 100%|██████████| 1001/1001 [01:27<00:00, 11.38it/s]\n",
      "Iteration:  13%|█▎        | 129/1001 [00:10<01:14, 11.73it/s]"
     ]
    },
    {
     "name": "stdout",
     "output_type": "stream",
     "text": [
      "Evaluating...\n"
     ]
    },
    {
     "name": "stderr",
     "output_type": "stream",
     "text": [
      "Iteration:  38%|███▊      | 376/1001 [00:31<00:53, 11.73it/s]]\n",
      "Iteration:  35%|███▍      | 348/1001 [00:18<00:31, 20.47it/s]\n",
      "Iteration:  43%|████▎     | 431/1001 [00:35<00:45, 12.51it/s]"
     ]
    },
    {
     "name": "stdout",
     "output_type": "stream",
     "text": [
      "{'Train':  best_epoch_indx:93\n",
      " auc:0.9850193462624548 \n",
      " apur:0.906459766316894 \n",
      " f1:0.7597943192948091 \n",
      " precision:0.6307027106931022 \n",
      " recall:0.9553304038736041 \n",
      ", 'Validation':  best_epoch_indx:93\n",
      " auc:0.9409061127202101 \n",
      " apur:0.759987418029731 \n",
      " f1:0.6566391074808249 \n",
      " precision:0.54308782336464 \n",
      " recall:0.8302267002518892 \n",
      "}\n",
      "=====Epoch 94\n",
      "Training...\n"
     ]
    },
    {
     "name": "stderr",
     "output_type": "stream",
     "text": [
      "Iteration:  80%|███████▉  | 797/1001 [01:09<00:17, 11.78it/s]]\n",
      "Iteration:  48%|████▊     | 485/1001 [00:39<00:43, 11.96it/s]\n",
      "Iteration:  87%|████████▋ | 869/1001 [01:16<00:12, 10.64it/s]"
     ]
    },
    {
     "name": "stdout",
     "output_type": "stream",
     "text": [
      "{'Train':  best_epoch_indx:93\n",
      " auc:0.9849095596288798 \n",
      " apur:0.9079858454027162 \n",
      " f1:0.7687943906147178 \n",
      " precision:0.6464538533457994 \n",
      " recall:0.9482493212796328 \n",
      ", 'Validation':  best_epoch_indx:93\n",
      " auc:0.9399973548508699 \n",
      " apur:0.760382663327382 \n",
      " f1:0.6627632254750899 \n",
      " precision:0.5595836947094536 \n",
      " recall:0.8125944584382871 \n",
      "}\n",
      "=====Epoch 94\n",
      "Training...\n"
     ]
    },
    {
     "name": "stderr",
     "output_type": "stream",
     "text": [
      "Iteration: 100%|██████████| 1001/1001 [01:27<00:00, 11.46it/s]\n",
      "Iteration:   0%|          | 2/1001 [00:00<00:58, 17.02it/s]s]"
     ]
    },
    {
     "name": "stdout",
     "output_type": "stream",
     "text": [
      "Evaluating...\n"
     ]
    },
    {
     "name": "stderr",
     "output_type": "stream",
     "text": [
      "Iteration: 100%|██████████| 1001/1001 [01:30<00:00, 11.05it/s]\n",
      "Iteration:   0%|          | 2/1001 [00:00<01:10, 14.07it/s]s]"
     ]
    },
    {
     "name": "stdout",
     "output_type": "stream",
     "text": [
      "Evaluating...\n"
     ]
    },
    {
     "name": "stderr",
     "output_type": "stream",
     "text": [
      "Iteration: 100%|██████████| 1001/1001 [01:24<00:00, 11.81it/s]\n",
      "Iteration:   0%|          | 2/1001 [00:00<01:03, 15.78it/s]s]"
     ]
    },
    {
     "name": "stdout",
     "output_type": "stream",
     "text": [
      "Evaluating...\n"
     ]
    },
    {
     "name": "stderr",
     "output_type": "stream",
     "text": [
      "Iteration:  55%|█████▍    | 549/1001 [00:25<00:20, 21.59it/s]"
     ]
    },
    {
     "name": "stdout",
     "output_type": "stream",
     "text": [
      "Evaluating...\n"
     ]
    },
    {
     "name": "stderr",
     "output_type": "stream",
     "text": [
      "Iteration: 100%|██████████| 1001/1001 [01:21<00:00, 12.32it/s]\n",
      "Iteration:  87%|████████▋ | 875/1001 [00:45<00:07, 16.70it/s]]\n",
      "Iteration:  52%|█████▏    | 519/1001 [00:25<00:22, 21.11it/s]]\n",
      "Iteration:   3%|▎         | 3/112 [00:00<00:05, 20.97it/s]/s]\n",
      "Iteration:  52%|█████▏    | 525/1001 [00:25<00:24, 19.30it/s]"
     ]
    },
    {
     "name": "stdout",
     "output_type": "stream",
     "text": [
      "{'Train':  best_epoch_indx:94\n",
      " auc:0.9799796312034988 \n",
      " apur:0.8808804784633967 \n",
      " f1:0.7149577855252657 \n",
      " precision:0.5721440696482294 \n",
      " recall:0.9527834532172745 \n",
      ", 'Validation':  best_epoch_indx:94\n",
      " auc:0.941760471889119 \n",
      " apur:0.7617401580179917 \n",
      " f1:0.6379326605677638 \n",
      " precision:0.5098748680838233 \n",
      " recall:0.851889168765743 \n",
      "}\n",
      "=====Epoch 95\n",
      "Training...\n"
     ]
    },
    {
     "name": "stderr",
     "output_type": "stream",
     "text": [
      "Iteration:  59%|█████▉    | 592/1001 [00:28<00:19, 20.99it/s]]\n",
      "Iteration:  35%|███▍      | 39/112 [00:01<00:03, 21.94it/s]]]\n",
      "Iteration:   7%|▋         | 67/1001 [00:05<01:14, 12.58it/s]]"
     ]
    },
    {
     "name": "stdout",
     "output_type": "stream",
     "text": [
      "{'Train':  best_epoch_indx:94\n",
      " auc:0.9814924352533673 \n",
      " apur:0.8819342873686643 \n",
      " f1:0.7643992312738069 \n",
      " precision:0.649090233939844 \n",
      " recall:0.9295270081164287 \n",
      ", 'Validation':  best_epoch_indx:94\n",
      " auc:0.9427420827883677 \n",
      " apur:0.7574835285791472 \n",
      " f1:0.6719416970327955 \n",
      " precision:0.5726708074534161 \n",
      " recall:0.8128463476070529 \n",
      "}\n",
      "=====Epoch 95\n",
      "Training...\n"
     ]
    },
    {
     "name": "stderr",
     "output_type": "stream",
     "text": [
      "Iteration:   4%|▍         | 39/1001 [00:03<01:24, 11.38it/s]]\n",
      "Iteration:  11%|█         | 109/1001 [00:08<01:09, 12.91it/s]"
     ]
    },
    {
     "name": "stdout",
     "output_type": "stream",
     "text": [
      "{'Train':  best_epoch_indx:94\n",
      " auc:0.9842823387284706 \n",
      " apur:0.9036869018675697 \n",
      " f1:0.7723847263898115 \n",
      " precision:0.6536783948822332 \n",
      " recall:0.9437711662794929 \n",
      ", 'Validation':  best_epoch_indx:94\n",
      " auc:0.94511288126769 \n",
      " apur:0.7655699524118854 \n",
      " f1:0.6739511390578291 \n",
      " precision:0.5704065608096318 \n",
      " recall:0.8234256926952142 \n",
      "}\n",
      "=====Epoch 95\n",
      "Training...\n"
     ]
    },
    {
     "name": "stderr",
     "output_type": "stream",
     "text": [
      "Iteration: 100%|██████████| 1001/1001 [01:26<00:00, 11.55it/s]\n",
      "Iteration:  13%|█▎        | 133/1001 [00:11<01:10, 12.35it/s]"
     ]
    },
    {
     "name": "stdout",
     "output_type": "stream",
     "text": [
      "Evaluating...\n"
     ]
    },
    {
     "name": "stderr",
     "output_type": "stream",
     "text": [
      "Iteration:  26%|██▌       | 257/1001 [00:21<01:00, 12.28it/s]]\n",
      "Iteration:  27%|██▋       | 266/1001 [00:12<00:33, 21.63it/s]\n",
      "Iteration:  27%|██▋       | 269/1001 [00:12<00:34, 21.49it/s]"
     ]
    },
    {
     "name": "stdout",
     "output_type": "stream",
     "text": [
      "{'Train':  best_epoch_indx:94\n",
      " auc:0.9811402348574819 \n",
      " apur:0.8844078930063818 \n",
      " f1:0.7355798421372193 \n",
      " precision:0.6003575031414261 \n",
      " recall:0.9494248369671695 \n",
      ", 'Validation':  best_epoch_indx:94\n",
      " auc:0.9388086363176232 \n",
      " apur:0.7475922778732615 \n",
      " f1:0.6435392710972521 \n",
      " precision:0.5247933884297521 \n",
      " recall:0.8317380352644836 \n",
      "}\n",
      "=====Epoch 95\n",
      "Training...\n"
     ]
    },
    {
     "name": "stderr",
     "output_type": "stream",
     "text": [
      "Iteration:  77%|███████▋  | 775/1001 [01:05<00:19, 11.81it/s]]\n",
      "Iteration:  84%|████████▍ | 842/1001 [01:16<00:17,  9.06it/s]\n",
      "Iteration:  50%|████▉     | 500/1001 [00:44<00:39, 12.74it/s]"
     ]
    },
    {
     "name": "stdout",
     "output_type": "stream",
     "text": [
      "{'Train':  best_epoch_indx:94\n",
      " auc:0.9864862154660088 \n",
      " apur:0.9156711975612511 \n",
      " f1:0.7526186445306099 \n",
      " precision:0.6171497151864722 \n",
      " recall:0.964286713873884 \n",
      ", 'Validation':  best_epoch_indx:94\n",
      " auc:0.9441927019426932 \n",
      " apur:0.774434460252716 \n",
      " f1:0.6573794447150512 \n",
      " precision:0.5359809372517871 \n",
      " recall:0.8498740554156171 \n",
      "}\n",
      "=====Epoch 95\n",
      "Training...\n"
     ]
    },
    {
     "name": "stderr",
     "output_type": "stream",
     "text": [
      "Iteration: 100%|██████████| 1001/1001 [01:23<00:00, 11.95it/s]\n",
      "Iteration:  98%|█████████▊| 985/1001 [01:20<00:01, 12.50it/s]"
     ]
    },
    {
     "name": "stdout",
     "output_type": "stream",
     "text": [
      "Evaluating...\n"
     ]
    },
    {
     "name": "stderr",
     "output_type": "stream",
     "text": [
      "Iteration: 100%|██████████| 1001/1001 [01:21<00:00, 12.24it/s]\n",
      "Iteration:   0%|          | 0/1001 [00:00<?, ?it/s]"
     ]
    },
    {
     "name": "stdout",
     "output_type": "stream",
     "text": [
      "Evaluating...\n"
     ]
    },
    {
     "name": "stderr",
     "output_type": "stream",
     "text": [
      "Iteration: 100%|██████████| 1001/1001 [01:30<00:00, 11.00it/s]\n",
      "Iteration:   1%|          | 11/1001 [00:00<00:45, 21.52it/s]]"
     ]
    },
    {
     "name": "stdout",
     "output_type": "stream",
     "text": [
      "Evaluating...\n"
     ]
    },
    {
     "name": "stderr",
     "output_type": "stream",
     "text": [
      "Iteration: 100%|██████████| 1001/1001 [01:28<00:00, 11.33it/s]\n",
      "Iteration:  64%|██████▍   | 644/1001 [00:30<00:17, 20.18it/s]"
     ]
    },
    {
     "name": "stdout",
     "output_type": "stream",
     "text": [
      "Evaluating...\n"
     ]
    },
    {
     "name": "stderr",
     "output_type": "stream",
     "text": [
      "Iteration:  70%|███████   | 702/1001 [01:04<00:25, 11.83it/s]]\n",
      "Iteration:  43%|████▎     | 433/1001 [00:20<00:27, 20.50it/s]\n",
      "Iteration:  72%|███████▏  | 720/1001 [01:05<00:22, 12.28it/s]\n",
      "Iteration:  77%|███████▋  | 770/1001 [01:09<00:19, 11.97it/s]\n",
      "Iteration:   0%|          | 0/1001 [00:00<?, ?it/s]"
     ]
    },
    {
     "name": "stdout",
     "output_type": "stream",
     "text": [
      "{'Train':  best_epoch_indx:95\n",
      " auc:0.9834996080450304 \n",
      " apur:0.8908049259613668 \n",
      " f1:0.7515668696872893 \n",
      " precision:0.6210676312616464 \n",
      " recall:0.9514959836547342 \n",
      ", 'Validation':  best_epoch_indx:95\n",
      " auc:0.9444059210197556 \n",
      " apur:0.7644852907589291 \n",
      " f1:0.6624900556881465 \n",
      " precision:0.5473217219848834 \n",
      " recall:0.8390428211586902 \n",
      "}\n",
      "=====Epoch 96\n",
      "Training...\n"
     ]
    },
    {
     "name": "stderr",
     "output_type": "stream",
     "text": [
      "Iteration:  56%|█████▌    | 562/1001 [00:26<00:20, 21.03it/s]\n",
      "Iteration:   1%|▏         | 13/1001 [00:01<01:30, 10.93it/s]]\n",
      "Iteration:  79%|███████▊  | 786/1001 [01:11<00:17, 12.07it/s]"
     ]
    },
    {
     "name": "stdout",
     "output_type": "stream",
     "text": [
      "{'Train':  best_epoch_indx:95\n",
      " auc:0.9834520286005747 \n",
      " apur:0.8993068994863341 \n",
      " f1:0.7480645728864256 \n",
      " precision:0.6160994076838082 \n",
      " recall:0.9519717876234991 \n",
      ", 'Validation':  best_epoch_indx:95\n",
      " auc:0.942857424490464 \n",
      " apur:0.7583860597987635 \n",
      " f1:0.6535549218212213 \n",
      " precision:0.536054202290692 \n",
      " recall:0.8370277078085643 \n",
      "}\n",
      "=====Epoch 96\n",
      "Training...\n",
      "{'Train':  best_epoch_indx:95\n",
      " auc:0.9796113164697303 \n",
      " apur:0.8765219936398794 \n",
      " f1:0.7391510735773029 \n",
      " precision:0.610299881505788 \n",
      " recall:0.9369717324377274 \n",
      ", 'Validation':  best_epoch_indx:95\n",
      " auc:0.9419163479730538 \n",
      " apur:0.7507441028296244 \n",
      " f1:0.6588915470494419 \n",
      " precision:0.545199604091059 \n",
      " recall:0.8324937027707808 \n",
      "}\n",
      "=====Epoch 96\n",
      "Training...\n"
     ]
    },
    {
     "name": "stderr",
     "output_type": "stream",
     "text": [
      "Iteration: 100%|██████████| 1001/1001 [01:29<00:00, 11.24it/s]\n",
      "Iteration:  22%|██▏       | 218/1001 [00:17<01:05, 11.99it/s]"
     ]
    },
    {
     "name": "stdout",
     "output_type": "stream",
     "text": [
      "Evaluating...\n"
     ]
    },
    {
     "name": "stderr",
     "output_type": "stream",
     "text": [
      "Iteration:  28%|██▊       | 280/1001 [00:23<01:08, 10.51it/s]]\n",
      "Iteration:  35%|███▍      | 350/1001 [00:30<00:52, 12.35it/s]\n",
      "Iteration:   0%|          | 0/1001 [00:00<?, ?it/s]"
     ]
    },
    {
     "name": "stdout",
     "output_type": "stream",
     "text": [
      "{'Train':  best_epoch_indx:95\n",
      " auc:0.9857474802263204 \n",
      " apur:0.9101184946531323 \n",
      " f1:0.7648821503645065 \n",
      " precision:0.6368629787550971 \n",
      " recall:0.9573175851549162 \n",
      ", 'Validation':  best_epoch_indx:95\n",
      " auc:0.9421518828173221 \n",
      " apur:0.7625142632428283 \n",
      " f1:0.6649288149187889 \n",
      " precision:0.5522984676882079 \n",
      " recall:0.8352644836272041 \n",
      "}\n",
      "=====Epoch 96\n",
      "Training...\n"
     ]
    },
    {
     "name": "stderr",
     "output_type": "stream",
     "text": [
      "Iteration:  77%|███████▋  | 774/1001 [01:06<00:20, 11.26it/s]]\n",
      "Iteration:  85%|████████▌ | 854/1001 [01:14<00:12, 11.40it/s]\n",
      "Iteration:  79%|███████▊  | 788/1001 [01:13<00:17, 12.25it/s]"
     ]
    },
    {
     "name": "stdout",
     "output_type": "stream",
     "text": [
      "{'Train':  best_epoch_indx:95\n",
      " auc:0.9853562379872269 \n",
      " apur:0.9080445646034954 \n",
      " f1:0.780293374736403 \n",
      " precision:0.6657571623465212 \n",
      " recall:0.9424277197794508 \n",
      ", 'Validation':  best_epoch_indx:95\n",
      " auc:0.9433504499453527 \n",
      " apur:0.7631940664321173 \n",
      " f1:0.6725054738817642 \n",
      " precision:0.5737413271659847 \n",
      " recall:0.8123425692695214 \n",
      "}\n",
      "=====Epoch 96\n",
      "Training...\n"
     ]
    },
    {
     "name": "stderr",
     "output_type": "stream",
     "text": [
      "Iteration: 100%|██████████| 1001/1001 [01:29<00:00, 11.22it/s]\n",
      "Iteration:  15%|█▌        | 152/1001 [00:14<01:10, 11.98it/s]"
     ]
    },
    {
     "name": "stdout",
     "output_type": "stream",
     "text": [
      "Evaluating...\n",
      "Evaluating...\n"
     ]
    },
    {
     "name": "stderr",
     "output_type": "stream",
     "text": [
      "Iteration: 100%|██████████| 1001/1001 [01:28<00:00, 11.36it/s]\n",
      "Iteration: 100%|██████████| 1001/1001 [01:31<00:00, 10.99it/s]\n",
      "Iteration:   6%|▋         | 65/1001 [00:03<00:43, 21.74it/s]]"
     ]
    },
    {
     "name": "stdout",
     "output_type": "stream",
     "text": [
      "Evaluating...\n"
     ]
    },
    {
     "name": "stderr",
     "output_type": "stream",
     "text": [
      "Iteration: 100%|██████████| 1001/1001 [01:30<00:00, 11.04it/s]\n",
      "Iteration:  64%|██████▍   | 641/1001 [00:28<00:16, 22.25it/s]"
     ]
    },
    {
     "name": "stdout",
     "output_type": "stream",
     "text": [
      "Evaluating...\n"
     ]
    },
    {
     "name": "stderr",
     "output_type": "stream",
     "text": [
      "Iteration:  71%|███████   | 712/1001 [01:03<00:24, 12.03it/s]]\n",
      "Iteration:  38%|███▊      | 376/1001 [00:18<00:30, 20.50it/s]\n",
      "Iteration:  40%|███▉      | 400/1001 [00:19<00:28, 21.39it/s]\n",
      "Iteration:  93%|█████████▎| 104/112 [00:05<00:00, 17.22it/s]]\n",
      "Iteration:  86%|████████▌ | 96/112 [00:04<00:00, 20.81it/s]]]"
     ]
    },
    {
     "name": "stdout",
     "output_type": "stream",
     "text": [
      "{'Train':  best_epoch_indx:96\n",
      " auc:0.983503716684601 \n",
      " apur:0.8976868233057583 \n",
      " f1:0.7778310996664131 \n",
      " precision:0.6684840559299869 \n",
      " recall:0.929946823397705 \n",
      ", 'Validation':  best_epoch_indx:96\n",
      " auc:0.9450423639576061 \n",
      " apur:0.7628195719112634 \n",
      " f1:0.6828802039082413 \n",
      " precision:0.5903415350716122 \n",
      " recall:0.809823677581864 \n",
      "}\n",
      "=====Epoch 97\n",
      "Training...\n"
     ]
    },
    {
     "name": "stderr",
     "output_type": "stream",
     "text": [
      "Iteration:   1%|          | 7/1001 [00:00<01:28, 11.20it/s]s]\n",
      "Iteration:  99%|█████████▉| 111/112 [00:05<00:00, 21.35it/s]]"
     ]
    },
    {
     "name": "stdout",
     "output_type": "stream",
     "text": [
      "{'Train':  best_epoch_indx:96\n",
      " auc:0.9862987367308118 \n",
      " apur:0.9128182249962262 \n",
      " f1:0.7591667493741798 \n",
      " precision:0.6263830251856165 \n",
      " recall:0.963391082873856 \n",
      ", 'Validation':  best_epoch_indx:96\n",
      " auc:0.9465665347149251 \n",
      " apur:0.778162488244123 \n",
      " f1:0.6653465346534654 \n",
      " precision:0.5481239804241436 \n",
      " recall:0.8463476070528967 \n",
      "}\n",
      "=====Epoch 97\n",
      "Training...\n"
     ]
    },
    {
     "name": "stderr",
     "output_type": "stream",
     "text": [
      "Iteration:   0%|          | 4/1001 [00:00<01:43,  9.64it/s]s]\n",
      "Iteration:   1%|          | 6/1001 [00:00<01:39,  9.95it/s]s]"
     ]
    },
    {
     "name": "stdout",
     "output_type": "stream",
     "text": [
      "{'Train':  best_epoch_indx:96\n",
      " auc:0.9866842400555895 \n",
      " apur:0.9135768604789825 \n",
      " f1:0.7845410628019324 \n",
      " precision:0.6659506746597411 \n",
      " recall:0.9545187382798287 \n",
      ", 'Validation':  best_epoch_indx:96\n",
      " auc:0.9461275479596138 \n",
      " apur:0.7680123238440861 \n",
      " f1:0.6792413505627344 \n",
      " precision:0.5792747955918948 \n",
      " recall:0.8209068010075566 \n",
      "}\n",
      "=====Epoch 97\n",
      "Training...\n"
     ]
    },
    {
     "name": "stderr",
     "output_type": "stream",
     "text": [
      "Iteration: 100%|██████████| 1001/1001 [01:31<00:00, 10.88it/s]\n",
      "Iteration:   0%|          | 2/1001 [00:00<01:12, 13.78it/s]s]"
     ]
    },
    {
     "name": "stdout",
     "output_type": "stream",
     "text": [
      "Evaluating...\n"
     ]
    },
    {
     "name": "stderr",
     "output_type": "stream",
     "text": [
      "Iteration:  29%|██▉       | 288/1001 [00:26<01:07, 10.51it/s]]\n",
      "Iteration:  21%|██        | 208/1001 [00:09<00:38, 20.75it/s]"
     ]
    },
    {
     "name": "stdout",
     "output_type": "stream",
     "text": [
      "{'Train':  best_epoch_indx:96\n",
      " auc:0.9877855808606057 \n",
      " apur:0.9190251247113806 \n",
      " f1:0.7747937826160147 \n",
      " precision:0.6467138788968825 \n",
      " recall:0.9661339528114417 \n",
      ", 'Validation':  best_epoch_indx:96\n",
      " auc:0.9443557694722533 \n",
      " apur:0.7646703187826149 \n",
      " f1:0.6655296950240771 \n",
      " precision:0.5530176725575192 \n",
      " recall:0.8355163727959698 \n",
      "}\n",
      "=====Epoch 97\n",
      "Training...\n"
     ]
    },
    {
     "name": "stderr",
     "output_type": "stream",
     "text": [
      "\n",
      "Iteration:  88%|████████▊ | 877/1001 [01:12<00:10, 12.36it/s]]\n",
      "Iteration:  94%|█████████▎| 937/1001 [01:17<00:06, 10.22it/s]\n",
      "Iteration:   0%|          | 0/1001 [00:00<?, ?it/s]"
     ]
    },
    {
     "name": "stdout",
     "output_type": "stream",
     "text": [
      "{'Train':  best_epoch_indx:96\n",
      " auc:0.9881077220732186 \n",
      " apur:0.9243728610413625 \n",
      " f1:0.7797287327620454 \n",
      " precision:0.6558156407514892 \n",
      " recall:0.961375913123793 \n",
      ", 'Validation':  best_epoch_indx:96\n",
      " auc:0.9463112383952225 \n",
      " apur:0.7802178062797391 \n",
      " f1:0.6752477270405557 \n",
      " precision:0.5679670046399725 \n",
      " recall:0.8324937027707808 \n",
      "}\n",
      "=====Epoch 97\n",
      "Training...\n"
     ]
    },
    {
     "name": "stderr",
     "output_type": "stream",
     "text": [
      "Iteration: 100%|██████████| 1001/1001 [01:24<00:00, 11.85it/s]\n",
      "Iteration:  99%|█████████▉| 995/1001 [01:23<00:00, 10.25it/s]"
     ]
    },
    {
     "name": "stdout",
     "output_type": "stream",
     "text": [
      "Evaluating...\n"
     ]
    },
    {
     "name": "stderr",
     "output_type": "stream",
     "text": [
      "Iteration: 100%|██████████| 1001/1001 [01:24<00:00, 11.91it/s]\n",
      "Iteration:   1%|▏         | 14/1001 [00:00<00:52, 18.74it/s]]"
     ]
    },
    {
     "name": "stdout",
     "output_type": "stream",
     "text": [
      "Evaluating...\n"
     ]
    },
    {
     "name": "stderr",
     "output_type": "stream",
     "text": [
      "Iteration: 100%|██████████| 1001/1001 [01:26<00:00, 11.51it/s]\n",
      "Iteration:   6%|▌         | 56/1001 [00:02<00:42, 22.00it/s]]"
     ]
    },
    {
     "name": "stdout",
     "output_type": "stream",
     "text": [
      "Evaluating...\n"
     ]
    },
    {
     "name": "stderr",
     "output_type": "stream",
     "text": [
      "Iteration: 100%|██████████| 1001/1001 [01:24<00:00, 11.85it/s]\n",
      "Iteration:   0%|          | 0/1001 [00:00<?, ?it/s]"
     ]
    },
    {
     "name": "stdout",
     "output_type": "stream",
     "text": [
      "Evaluating...\n"
     ]
    },
    {
     "name": "stderr",
     "output_type": "stream",
     "text": [
      "Iteration:  93%|█████████▎| 932/1001 [00:47<00:03, 20.23it/s]]\n",
      "Iteration:  41%|████▏     | 414/1001 [00:19<00:30, 19.54it/s]\n",
      "Iteration:  50%|█████     | 504/1001 [00:24<00:23, 21.07it/s]]\n",
      "Iteration:   0%|          | 0/1001 [00:00<?, ?it/s]"
     ]
    },
    {
     "name": "stdout",
     "output_type": "stream",
     "text": [
      "{'Train':  best_epoch_indx:97\n",
      " auc:0.9899974273212866 \n",
      " apur:0.9336379331823549 \n",
      " f1:0.795345150432515 \n",
      " precision:0.6745323460639127 \n",
      " recall:0.9688768227490274 \n",
      ", 'Validation':  best_epoch_indx:97\n",
      " auc:0.9486053738356008 \n",
      " apur:0.7808206056130805 \n",
      " f1:0.683739586547362 \n",
      " precision:0.5777855032157135 \n",
      " recall:0.83727959697733 \n",
      "}\n",
      "=====Epoch 98\n",
      "Training...\n"
     ]
    },
    {
     "name": "stderr",
     "output_type": "stream",
     "text": [
      "Iteration:   0%|          | 3/1001 [00:00<01:36, 10.36it/s]s]\n",
      "Iteration:   9%|▉         | 10/112 [00:00<00:05, 18.68it/s]s]\n",
      "Iteration:   0%|          | 0/1001 [00:00<?, ?it/s]"
     ]
    },
    {
     "name": "stdout",
     "output_type": "stream",
     "text": [
      "{'Train':  best_epoch_indx:97\n",
      " auc:0.9883161322017076 \n",
      " apur:0.9239308523708992 \n",
      " f1:0.7989293135632023 \n",
      " precision:0.6881028938906752 \n",
      " recall:0.9523089840470194 \n",
      ", 'Validation':  best_epoch_indx:97\n",
      " auc:0.9500644830100597 \n",
      " apur:0.7856783374838298 \n",
      " f1:0.696535500427716 \n",
      " precision:0.6051653660349312 \n",
      " recall:0.8204030226700252 \n",
      "}\n",
      "=====Epoch 98\n",
      "Training...\n"
     ]
    },
    {
     "name": "stderr",
     "output_type": "stream",
     "text": [
      "Iteration:   6%|▋         | 63/1001 [00:05<01:21, 11.50it/s]]\n",
      "Iteration:   6%|▋         | 65/1001 [00:05<01:21, 11.47it/s]]"
     ]
    },
    {
     "name": "stdout",
     "output_type": "stream",
     "text": [
      "{'Train':  best_epoch_indx:97\n",
      " auc:0.9886751748796737 \n",
      " apur:0.9262328828624864 \n",
      " f1:0.777485320915165 \n",
      " precision:0.6499539239839768 \n",
      " recall:0.9672814800302275 \n",
      ", 'Validation':  best_epoch_indx:97\n",
      " auc:0.9496003561951303 \n",
      " apur:0.7923476215519921 \n",
      " f1:0.6801053484602918 \n",
      " precision:0.568790240596408 \n",
      " recall:0.8455919395465995 \n",
      "}\n",
      "=====Epoch 98\n",
      "Training...\n"
     ]
    },
    {
     "name": "stderr",
     "output_type": "stream",
     "text": [
      "Iteration:  99%|█████████▉| 994/1001 [01:30<00:00,  9.89it/s]]\n",
      "Iteration: 100%|██████████| 1001/1001 [01:31<00:00, 10.96it/s]\n",
      "Iteration:  13%|█▎        | 15/112 [00:00<00:04, 20.60it/s]s]"
     ]
    },
    {
     "name": "stdout",
     "output_type": "stream",
     "text": [
      "Evaluating...\n"
     ]
    },
    {
     "name": "stderr",
     "output_type": "stream",
     "text": [
      "Iteration:  10%|▉         | 100/1001 [00:04<00:42, 21.13it/s]\n",
      "Iteration:  39%|███▉      | 389/1001 [00:33<00:49, 12.40it/s]"
     ]
    },
    {
     "name": "stdout",
     "output_type": "stream",
     "text": [
      "{'Train':  best_epoch_indx:97\n",
      " auc:0.9900701089993099 \n",
      " apur:0.9327491459424311 \n",
      " f1:0.8006114720494736 \n",
      " precision:0.6828526274199921 \n",
      " recall:0.9674494108427328 \n",
      ", 'Validation':  best_epoch_indx:97\n",
      " auc:0.9458215772340262 \n",
      " apur:0.7763714226299199 \n",
      " f1:0.6854166666666667 \n",
      " precision:0.5843694493783304 \n",
      " recall:0.8287153652392947 \n",
      "}\n",
      "=====Epoch 98\n",
      "Training...\n"
     ]
    },
    {
     "name": "stderr",
     "output_type": "stream",
     "text": [
      "Iteration:  51%|█████     | 506/1001 [00:46<00:47, 10.49it/s]]\n",
      "Iteration: 100%|██████████| 1001/1001 [01:24<00:00, 11.78it/s]\n",
      "Iteration:   0%|          | 0/1001 [00:00<?, ?it/s]"
     ]
    },
    {
     "name": "stdout",
     "output_type": "stream",
     "text": [
      "Evaluating...\n"
     ]
    },
    {
     "name": "stderr",
     "output_type": "stream",
     "text": [
      "Iteration: 100%|██████████| 1001/1001 [01:24<00:00, 11.78it/s]\n",
      "Iteration:   0%|          | 0/1001 [00:00<?, ?it/s]"
     ]
    },
    {
     "name": "stdout",
     "output_type": "stream",
     "text": [
      "Evaluating...\n"
     ]
    },
    {
     "name": "stderr",
     "output_type": "stream",
     "text": [
      "Iteration:   0%|          | 4/1001 [00:00<01:04, 15.54it/s]]]\n",
      "Iteration:   0%|          | 1/1001 [00:00<01:49,  9.16it/s]s]"
     ]
    },
    {
     "name": "stdout",
     "output_type": "stream",
     "text": [
      "{'Train':  best_epoch_indx:97\n",
      " auc:0.9904025725861715 \n",
      " apur:0.935378039851434 \n",
      " f1:0.7880157770419176 \n",
      " precision:0.6608598400121318 \n",
      " recall:0.9757619860617426 \n",
      ", 'Validation':  best_epoch_indx:97\n",
      " auc:0.9461758180740827 \n",
      " apur:0.7825403502802901 \n",
      " f1:0.6773640125138763 \n",
      " precision:0.5650782960094292 \n",
      " recall:0.8453400503778338 \n",
      "}\n",
      "=====Epoch 98\n",
      "Training...\n"
     ]
    },
    {
     "name": "stderr",
     "output_type": "stream",
     "text": [
      "Iteration: 100%|██████████| 1001/1001 [01:29<00:00, 11.24it/s]\n",
      "Iteration:   0%|          | 2/1001 [00:00<00:57, 17.30it/s]s]"
     ]
    },
    {
     "name": "stdout",
     "output_type": "stream",
     "text": [
      "Evaluating...\n"
     ]
    },
    {
     "name": "stderr",
     "output_type": "stream",
     "text": [
      "Iteration: 100%|██████████| 1001/1001 [01:28<00:00, 11.28it/s]\n",
      "Iteration:  56%|█████▋    | 565/1001 [00:27<00:21, 20.66it/s]"
     ]
    },
    {
     "name": "stdout",
     "output_type": "stream",
     "text": [
      "Evaluating...\n"
     ]
    },
    {
     "name": "stderr",
     "output_type": "stream",
     "text": [
      "Iteration:  97%|█████████▋| 970/1001 [00:46<00:01, 17.45it/s]]\n",
      "Iteration:  30%|██▉       | 296/1001 [00:14<00:34, 20.49it/s]]\n",
      "Iteration:  63%|██████▎   | 627/1001 [00:52<00:30, 12.41it/s]\n",
      "Iteration:  33%|███▎      | 329/1001 [00:15<00:32, 20.89it/s]"
     ]
    },
    {
     "name": "stdout",
     "output_type": "stream",
     "text": [
      "{'Train':  best_epoch_indx:98\n",
      " auc:0.9926635661225544 \n",
      " apur:0.9488177568404119 \n",
      " f1:0.8239256843000993 \n",
      " precision:0.7130699834298222 \n",
      " recall:0.9755940552492374 \n",
      ", 'Validation':  best_epoch_indx:98\n",
      " auc:0.9506118000222686 \n",
      " apur:0.790471952615051 \n",
      " f1:0.6957440067588975 \n",
      " precision:0.5990180032733224 \n",
      " recall:0.8297229219143577 \n",
      "}\n",
      "=====Epoch 99\n",
      "Training...\n"
     ]
    },
    {
     "name": "stderr",
     "output_type": "stream",
     "text": [
      "Iteration:  97%|█████████▋| 971/1001 [00:47<00:01, 20.96it/s]\n",
      "Iteration:   5%|▌         | 51/1001 [00:04<01:17, 12.23it/s]]"
     ]
    },
    {
     "name": "stdout",
     "output_type": "stream",
     "text": [
      "{'Train':  best_epoch_indx:98\n",
      " auc:0.9901413547164207 \n",
      " apur:0.9334590067050565 \n",
      " f1:0.8173353121409421 \n",
      " precision:0.7140019238007611 \n",
      " recall:0.9556395186118108 \n",
      ", 'Validation':  best_epoch_indx:98\n",
      " auc:0.9504053309612133 \n",
      " apur:0.7902539411661231 \n",
      " f1:0.7072876712328767 \n",
      " precision:0.6259941804073715 \n",
      " recall:0.8128463476070529 \n",
      "}\n",
      "=====Epoch 99\n",
      "Training...\n"
     ]
    },
    {
     "name": "stderr",
     "output_type": "stream",
     "text": [
      "Iteration:  72%|███████▏  | 725/1001 [01:00<00:23, 11.72it/s]]\n",
      "Iteration:  16%|█▌        | 161/1001 [00:13<01:08, 12.28it/s]\n",
      "Iteration:  79%|███████▉  | 791/1001 [01:05<00:16, 12.35it/s]"
     ]
    },
    {
     "name": "stdout",
     "output_type": "stream",
     "text": [
      "{'Train':  best_epoch_indx:98\n",
      " auc:0.9910768338686445 \n",
      " apur:0.9388968216969558 \n",
      " f1:0.8070391737228994 \n",
      " precision:0.6904491810456346 \n",
      " recall:0.9710039463740938 \n",
      ", 'Validation':  best_epoch_indx:98\n",
      " auc:0.951047932485097 \n",
      " apur:0.7991056189595012 \n",
      " f1:0.6969093766369827 \n",
      " precision:0.5965919282511211 \n",
      " recall:0.8377833753148615 \n",
      "}\n",
      "=====Epoch 99\n",
      "Training...\n"
     ]
    },
    {
     "name": "stderr",
     "output_type": "stream",
     "text": [
      "Iteration: 100%|██████████| 1001/1001 [01:22<00:00, 12.10it/s]\n",
      "Iteration:  98%|█████████▊| 978/1001 [00:46<00:01, 21.67it/s]"
     ]
    },
    {
     "name": "stdout",
     "output_type": "stream",
     "text": [
      "Evaluating...\n"
     ]
    },
    {
     "name": "stderr",
     "output_type": "stream",
     "text": [
      "Iteration:  25%|██▌       | 251/1001 [00:20<01:01, 12.25it/s]]\n",
      "Iteration:  48%|████▊     | 483/1001 [00:39<00:41, 12.36it/s]\n",
      "Iteration:  18%|█▊        | 181/1001 [00:08<00:45, 18.00it/s]"
     ]
    },
    {
     "name": "stdout",
     "output_type": "stream",
     "text": [
      "{'Train':  best_epoch_indx:98\n",
      " auc:0.9917809660725128 \n",
      " apur:0.9429485412667779 \n",
      " f1:0.8116869516650763 \n",
      " precision:0.6946209149025153 \n",
      " recall:0.9762098015617565 \n",
      ", 'Validation':  best_epoch_indx:98\n",
      " auc:0.9465967319293929 \n",
      " apur:0.7854266535639916 \n",
      " f1:0.6861757919026641 \n",
      " precision:0.5878864126527678 \n",
      " recall:0.8239294710327456 \n",
      "}\n",
      "=====Epoch 99\n",
      "Training...\n"
     ]
    },
    {
     "name": "stderr",
     "output_type": "stream",
     "text": [
      "Iteration:  84%|████████▍ | 844/1001 [01:15<00:13, 12.08it/s]]\n",
      "Iteration: 100%|██████████| 1001/1001 [01:23<00:00, 11.98it/s]\n",
      "Iteration:   0%|          | 2/1001 [00:00<01:08, 14.58it/s]s]"
     ]
    },
    {
     "name": "stdout",
     "output_type": "stream",
     "text": [
      "Evaluating...\n"
     ]
    },
    {
     "name": "stderr",
     "output_type": "stream",
     "text": [
      "Iteration:   4%|▍         | 39/1001 [00:01<00:44, 21.46it/s]]\n",
      "Iteration:   4%|▍         | 45/1001 [00:02<00:43, 21.74it/s]]"
     ]
    },
    {
     "name": "stdout",
     "output_type": "stream",
     "text": [
      "{'Train':  best_epoch_indx:98\n",
      " auc:0.9922123492907551 \n",
      " apur:0.9470340933981038 \n",
      " f1:0.8010341829497094 \n",
      " precision:0.6773987578120465 \n",
      " recall:0.9798762909681211 \n",
      ", 'Validation':  best_epoch_indx:98\n",
      " auc:0.9491950552339882 \n",
      " apur:0.7963983318335845 \n",
      " f1:0.6901928600738613 \n",
      " precision:0.5822083766009 \n",
      " recall:0.8473551637279597 \n",
      "}\n",
      "=====Epoch 99\n",
      "Training...\n"
     ]
    },
    {
     "name": "stderr",
     "output_type": "stream",
     "text": [
      "Iteration: 100%|██████████| 1001/1001 [01:28<00:00, 11.29it/s]\n",
      "Iteration:   0%|          | 2/1001 [00:00<01:03, 15.83it/s]]]"
     ]
    },
    {
     "name": "stdout",
     "output_type": "stream",
     "text": [
      "Evaluating...\n"
     ]
    },
    {
     "name": "stderr",
     "output_type": "stream",
     "text": [
      "Iteration: 100%|██████████| 1001/1001 [01:28<00:00, 11.28it/s]\n",
      "Iteration:  77%|███████▋  | 771/1001 [01:02<00:18, 12.62it/s]"
     ]
    },
    {
     "name": "stdout",
     "output_type": "stream",
     "text": [
      "Evaluating...\n"
     ]
    },
    {
     "name": "stderr",
     "output_type": "stream",
     "text": [
      "Iteration:  46%|████▌     | 457/1001 [00:37<00:44, 12.36it/s]]\n",
      "Iteration:  78%|███████▊  | 778/1001 [00:39<00:10, 21.15it/s]"
     ]
    },
    {
     "name": "stdout",
     "output_type": "stream",
     "text": [
      "Evaluating...\n"
     ]
    },
    {
     "name": "stderr",
     "output_type": "stream",
     "text": [
      "Iteration:  92%|█████████▏| 918/1001 [00:43<00:03, 21.34it/s]]\n",
      "Iteration:  84%|████████▎ | 836/1001 [00:39<00:08, 20.38it/s]]\n",
      "Iteration:   1%|          | 2/278 [00:00<00:21, 12.68it/s]/s]"
     ]
    },
    {
     "name": "stdout",
     "output_type": "stream",
     "text": [
      "{'Train':  best_epoch_indx:99\n",
      " auc:0.9935388509831106 \n",
      " apur:0.9543099452115098 \n",
      " f1:0.8390441026134436 \n",
      " precision:0.7356278206588216 \n",
      " recall:0.9762937669680092 \n",
      ", 'Validation':  best_epoch_indx:99\n",
      " auc:0.9510090052499267 \n",
      " apur:0.793118116387646 \n",
      " f1:0.7011357490535424 \n",
      " precision:0.6144075829383886 \n",
      " recall:0.8163727959697733 \n",
      "}\n",
      "Finished training and validating!\n"
     ]
    },
    {
     "name": "stderr",
     "output_type": "stream",
     "text": [
      "Iteration:   4%|▎         | 10/278 [00:00<00:20, 12.94it/s]s]\n",
      "Iteration:  29%|██▉       | 80/278 [00:06<00:16, 12.15it/s]s]\n",
      "Iteration:   0%|          | 0/278 [00:00<?, ?it/s]"
     ]
    },
    {
     "name": "stdout",
     "output_type": "stream",
     "text": [
      "{'Train':  best_epoch_indx:99\n",
      " auc:0.9913610614523058 \n",
      " apur:0.9405387189118264 \n",
      " f1:0.815847136159084 \n",
      " precision:0.7044307917649931 \n",
      " recall:0.9691295829834873 \n",
      ", 'Validation':  best_epoch_indx:99\n",
      " auc:0.9513639189487221 \n",
      " apur:0.7952405875094299 \n",
      " f1:0.7053744873731923 \n",
      " precision:0.6170694864048338 \n",
      " recall:0.8231738035264483 \n",
      "}\n",
      "Finished training and validating!\n"
     ]
    },
    {
     "name": "stderr",
     "output_type": "stream",
     "text": [
      "Iteration:  19%|█▊        | 52/278 [00:03<00:16, 13.55it/s]s]]\n",
      "Iteration:  86%|████████▌ | 861/1001 [01:12<00:11, 12.10it/s]\n",
      "Iteration:  86%|████████▌ | 863/1001 [01:12<00:11, 12.13it/s]"
     ]
    },
    {
     "name": "stdout",
     "output_type": "stream",
     "text": [
      "{'Train':  best_epoch_indx:99\n",
      " auc:0.9926710926268977 \n",
      " apur:0.9485797337212103 \n",
      " f1:0.8147475523580018 \n",
      " precision:0.6974885389675105 \n",
      " recall:0.9794004869993562 \n",
      ", 'Validation':  best_epoch_indx:99\n",
      " auc:0.9521204264570113 \n",
      " apur:0.8026754938613695 \n",
      " f1:0.7039141414141414 \n",
      " precision:0.6044452475605349 \n",
      " recall:0.8425692695214105 \n",
      "}\n",
      "Finished training and validating!\n"
     ]
    },
    {
     "name": "stderr",
     "output_type": "stream",
     "text": [
      "Iteration:  97%|█████████▋| 967/1001 [01:21<00:02, 12.06it/s]\n",
      "Iteration:  78%|███████▊  | 218/278 [00:18<00:05, 11.91it/s]]"
     ]
    },
    {
     "name": "stdout",
     "output_type": "stream",
     "text": [
      "{'Test':  best_epoch_indx:99\n",
      " auc:0.9508459438492805 \n",
      " apur:0.7980096922665711 \n",
      " f1:0.7013464415473392 \n",
      " precision:0.6090571640682999 \n",
      " recall:0.8265994962216625 \n",
      "}\n",
      "Finished testing!\n"
     ]
    },
    {
     "name": "stderr",
     "output_type": "stream",
     "text": [
      "Iteration: 100%|██████████| 1001/1001 [01:23<00:00, 11.93it/s]\n",
      "Iteration:  96%|█████████▋| 964/1001 [00:46<00:01, 20.34it/s]"
     ]
    },
    {
     "name": "stdout",
     "output_type": "stream",
     "text": [
      "Evaluating...\n"
     ]
    },
    {
     "name": "stderr",
     "output_type": "stream",
     "text": [
      "Iteration:   7%|▋         | 66/1001 [00:03<00:46, 20.06it/s]s]\n",
      "Iteration:   7%|▋         | 69/1001 [00:03<00:47, 19.81it/s]"
     ]
    },
    {
     "name": "stdout",
     "output_type": "stream",
     "text": [
      "{'Test':  best_epoch_indx:99\n",
      " auc:0.9479338540989706 \n",
      " apur:0.7852130809986714 \n",
      " f1:0.6835855840789363 \n",
      " precision:0.5841789338287837 \n",
      " recall:0.8237605804111245 \n",
      "}\n",
      "Finished testing!\n"
     ]
    },
    {
     "name": "stderr",
     "output_type": "stream",
     "text": [
      "Iteration:   9%|▊         | 87/1001 [00:04<00:44, 20.35it/s]\n",
      "Iteration:  21%|██        | 207/1001 [00:10<00:40, 19.62it/s]\n",
      "Iteration:   0%|          | 0/278 [00:00<?, ?it/s]"
     ]
    },
    {
     "name": "stdout",
     "output_type": "stream",
     "text": [
      "{'Train':  best_epoch_indx:99\n",
      " auc:0.9935735071254523 \n",
      " apur:0.9540886540493123 \n",
      " f1:0.8276342182890855 \n",
      " precision:0.7154280818424756 \n",
      " recall:0.9815835875619245 \n",
      ", 'Validation':  best_epoch_indx:99\n",
      " auc:0.948617211006529 \n",
      " apur:0.7914692457957262 \n",
      " f1:0.6960212201591511 \n",
      " precision:0.6012832263978002 \n",
      " recall:0.8261964735516373 \n",
      "}\n",
      "Finished training and validating!\n"
     ]
    },
    {
     "name": "stderr",
     "output_type": "stream",
     "text": [
      "Iteration:  27%|██▋       | 273/1001 [00:13<00:35, 20.76it/s]\n",
      "Iteration:  28%|██▊       | 279/1001 [00:13<00:34, 20.96it/s]"
     ]
    },
    {
     "name": "stdout",
     "output_type": "stream",
     "text": [
      "{'Test':  best_epoch_indx:99\n",
      " auc:0.9528691440122649 \n",
      " apur:0.803564475111981 \n",
      " f1:0.7010387316539803 \n",
      " precision:0.6016312978201241 \n",
      " recall:0.8397984886649874 \n",
      "}\n",
      "Finished testing!\n"
     ]
    },
    {
     "name": "stderr",
     "output_type": "stream",
     "text": [
      "Iteration:  68%|██████▊   | 678/1001 [00:33<00:18, 17.90it/s]\n",
      "Iteration:  68%|██████▊   | 680/1001 [00:34<00:17, 17.85it/s]"
     ]
    },
    {
     "name": "stdout",
     "output_type": "stream",
     "text": [
      "{'Test':  best_epoch_indx:99\n",
      " auc:0.9508203889002548 \n",
      " apur:0.795726448847905 \n",
      " f1:0.6983803086341028 \n",
      " precision:0.6040594205030152 \n",
      " recall:0.8276070528967254 \n",
      "}\n",
      "Finished testing!\n"
     ]
    },
    {
     "name": "stderr",
     "output_type": "stream",
     "text": [
      "Iteration: 100%|██████████| 1001/1001 [00:50<00:00, 19.94it/s]\n",
      "Iteration: 100%|██████████| 112/112 [00:04<00:00, 22.88it/s]\n",
      "Iteration:   1%|          | 2/278 [00:00<00:19, 14.03it/s]"
     ]
    },
    {
     "name": "stdout",
     "output_type": "stream",
     "text": [
      "{'Train':  best_epoch_indx:99\n",
      " auc:0.9942947278648347 \n",
      " apur:0.9594988539954996 \n",
      " f1:0.8355917861441834 \n",
      " precision:0.727635020133671 \n",
      " recall:0.9811637605306613 \n",
      ", 'Validation':  best_epoch_indx:99\n",
      " auc:0.9495764032811849 \n",
      " apur:0.8002787740380948 \n",
      " f1:0.7028479312197743 \n",
      " precision:0.612933458294283 \n",
      " recall:0.8236775818639799 \n",
      "}\n",
      "Finished training and validating!\n"
     ]
    },
    {
     "name": "stderr",
     "output_type": "stream",
     "text": [
      "Iteration: 100%|██████████| 278/278 [00:21<00:00, 13.10it/s]"
     ]
    },
    {
     "name": "stdout",
     "output_type": "stream",
     "text": [
      "{'Test':  best_epoch_indx:99\n",
      " auc:0.9504421001715021 \n",
      " apur:0.7938020017100463 \n",
      " f1:0.69782011671816 \n",
      " precision:0.6077434785858434 \n",
      " recall:0.8192443324937028 \n",
      "}\n",
      "Finished testing!\n"
     ]
    },
    {
     "name": "stderr",
     "output_type": "stream",
     "text": [
      "\n"
     ]
    },
    {
     "name": "stdout",
     "output_type": "stream",
     "text": [
      "<<< joined hyperparam search process\n",
      "released_gpu_num: 4\n",
      "<<< joined hyperparam search process\n",
      "released_gpu_num: 2\n",
      "<<< joined hyperparam search process\n",
      "released_gpu_num: 3\n",
      "<<< joined hyperparam search process\n",
      "released_gpu_num: 1\n",
      "<<< joined hyperparam search process\n",
      "released_gpu_num: 0\n"
     ]
    }
   ],
   "source": [
    "import torch.multiprocessing as mp\n",
    "mp.set_start_method(\"spawn\", force=True)\n",
    "\n",
    "queue = mp.Queue()\n",
    "q_processes = []\n",
    "\n",
    "# partition = fold_partitions[0]\n",
    "time_stamp = datetime.datetime.now().strftime('%Y-%m-%d_%H-%M-%S')\n",
    "\n",
    "print(\"Start: \" + time_stamp)\n",
    "\n",
    "for q_i in range(min(n_gpu, len(fold_partitions))):\n",
    "#     device_gpu = get_device(True, index=q_i)\n",
    "    partition = fold_partitions[q_i]\n",
    "    exp_dir = create_directory(os.path.join(targetdata_dir_exp, \"fold_\"+str(q_i)+\"_\"+time_stamp))\n",
    "    create_directory(os.path.join(exp_dir, \"predictions\"))\n",
    "    create_directory(os.path.join(exp_dir, \"modelstates\"))\n",
    "\n",
    "\n",
    "#     tphp = generate_tp_hp(tp, hyperparam_space[q_i], hp_names)\n",
    "    \n",
    "    q_process = create_q_process(queue, dataset, q_i, tp, exp_dir, partition)\n",
    "    q_processes.append(q_process)\n",
    "    spawn_q_process(q_process)\n",
    "\n",
    "spawned_processes = n_gpu\n",
    "    \n",
    "# for q_i in range(len(hyperparam_space)):\n",
    "for q_i in range(min(n_gpu, len(fold_partitions))):\n",
    "    join_q_process(q_processes[q_i])\n",
    "    released_gpu_num = queue.get()\n",
    "    print(\"released_gpu_num:\", released_gpu_num)\n",
    "#     if(spawned_processes < len(hyperparam_space)):\n",
    "# #         device_gpu = get_device(True, index=q_i)\n",
    "#         time_stamp = datetime.datetime.now().strftime('%Y-%m-%d_%H-%M-%S')\n",
    "#         exp_dir = create_directory(os.path.join(targetdata_dir_exp, \"exp_\"+str(q_i)+\"_\"+time_stamp))\n",
    "#         tphp = generate_tp_hp(tp, hyperparam_space[q_i], hp_names)\n",
    "\n",
    "#         q_process = create_q_process(queue, used_dataset, released_gpu_num, tphp, exp_dir, partition)\n",
    "#         q_processes.append(q_process)\n",
    "#         spawn_q_process(q_process)\n",
    "#         spawned_processes = spawned_processes + 1"
   ]
  },
  {
   "cell_type": "code",
   "execution_count": 34,
   "metadata": {},
   "outputs": [
    {
     "name": "stdout",
     "output_type": "stream",
     "text": [
      "End: 2022-09-13_16-14-13\n"
     ]
    }
   ],
   "source": [
    "print(\"End: \" + datetime.datetime.now().strftime('%Y-%m-%d_%H-%M-%S'))\n"
   ]
  },
  {
   "cell_type": "code",
   "execution_count": null,
   "metadata": {},
   "outputs": [],
   "source": []
  }
 ],
 "metadata": {
  "kernelspec": {
   "display_name": "Python 3 (ipykernel)",
   "language": "python",
   "name": "python3"
  },
  "language_info": {
   "codemirror_mode": {
    "name": "ipython",
    "version": 3
   },
   "file_extension": ".py",
   "mimetype": "text/x-python",
   "name": "python",
   "nbconvert_exporter": "python",
   "pygments_lexer": "ipython3",
   "version": "3.8.10"
  }
 },
 "nbformat": 4,
 "nbformat_minor": 4
}
