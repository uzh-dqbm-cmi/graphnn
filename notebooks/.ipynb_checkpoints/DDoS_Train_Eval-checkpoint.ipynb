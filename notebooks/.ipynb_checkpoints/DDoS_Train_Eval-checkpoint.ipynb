{
 "cells": [
  {
   "cell_type": "code",
   "execution_count": 1,
   "metadata": {},
   "outputs": [],
   "source": [
    "%load_ext autoreload\n",
    "%autoreload 2"
   ]
  },
  {
   "cell_type": "code",
   "execution_count": 2,
   "metadata": {},
   "outputs": [
    {
     "data": {
      "text/plain": [
       "'/cluster/home/skyriakos/pyg_env/bin/python'"
      ]
     },
     "execution_count": 2,
     "metadata": {},
     "output_type": "execute_result"
    }
   ],
   "source": [
    "import sys\n",
    "sys.executable"
   ]
  },
  {
   "cell_type": "code",
   "execution_count": 3,
   "metadata": {},
   "outputs": [
    {
     "name": "stdout",
     "output_type": "stream",
     "text": [
      "/cluster/home/skyriakos/pyg_env/bin/python\r\n"
     ]
    }
   ],
   "source": [
    "!which python"
   ]
  },
  {
   "cell_type": "code",
   "execution_count": 4,
   "metadata": {},
   "outputs": [],
   "source": [
    "import os\n",
    "import sys\n",
    "import numpy as np\n",
    "import pandas as pd\n",
    "import datetime\n",
    "import seaborn as sns\n",
    "import ogb\n",
    "from tqdm import tqdm\n",
    "import hiplot as hip\n",
    "from copy import deepcopy\n",
    "import datetime"
   ]
  },
  {
   "cell_type": "code",
   "execution_count": 5,
   "metadata": {},
   "outputs": [
    {
     "name": "stdout",
     "output_type": "stream",
     "text": [
      "torch.__version__='1.11.0+cu115'\n",
      "torch.__file__='/usr/local/lib/python3.8/dist-packages/torch/__init__.py'\n",
      "torch.cuda.device_count()=5\n",
      "torch.cuda.is_available()=True\n",
      "torch.version.cuda='11.5'\n"
     ]
    }
   ],
   "source": [
    "import torch\n",
    "\n",
    "print(f\"{torch.__version__=}\")\n",
    "print(f\"{torch.__file__=}\")\n",
    "print(f\"{torch.cuda.device_count()=}\")\n",
    "print(f\"{torch.cuda.is_available()=}\")\n",
    "print(f\"{torch.version.cuda=}\")"
   ]
  },
  {
   "cell_type": "code",
   "execution_count": 6,
   "metadata": {},
   "outputs": [],
   "source": [
    "import torch\n",
    "from torch_geometric.data import Data\n",
    "from torch_geometric.loader import DataLoader\n",
    "from torch.utils.data import Subset, TensorDataset"
   ]
  },
  {
   "cell_type": "code",
   "execution_count": 7,
   "metadata": {},
   "outputs": [
    {
     "name": "stdout",
     "output_type": "stream",
     "text": [
      "/cluster/work/medinfmk/lm1-homes/skyriakos-lm1-home/data_to_migrate/chemprop_run/git/notebooks\n",
      "/cluster/work/medinfmk/lm1-homes/skyriakos-lm1-home/data_to_migrate/chemprop_run/git\n"
     ]
    }
   ],
   "source": [
    "cwd = os.getcwd()\n",
    "print(cwd)\n",
    "cwd_parent = os.path.abspath(os.path.join(cwd, os.pardir))\n",
    "print(cwd_parent)\n",
    "\n",
    "sys.path.append(cwd_parent)"
   ]
  },
  {
   "cell_type": "code",
   "execution_count": 8,
   "metadata": {},
   "outputs": [],
   "source": [
    "import deepadr\n",
    "from deepadr.dataset import *\n",
    "from deepadr.utilities import *\n",
    "from deepadr.run_workflow import *\n",
    "from deepadr.chemfeatures import *\n",
    "from deepadr.hyphelperv2 import *\n",
    "from deepadr.model_gnn_ogb import GNN, DeepAdr_SiameseTrf, ExpressionNN\n",
    "# from ogb.graphproppred import Evaluator"
   ]
  },
  {
   "cell_type": "code",
   "execution_count": 9,
   "metadata": {},
   "outputs": [],
   "source": [
    "from rdkit.Chem.Draw import IPythonConsole\n",
    "from rdkit.Chem import Draw"
   ]
  },
  {
   "cell_type": "code",
   "execution_count": 10,
   "metadata": {},
   "outputs": [],
   "source": [
    "rawdata_dir = '../data/raw/'\n",
    "processed_dir = '../data/processed/'\n",
    "up_dir = '..'"
   ]
  },
  {
   "cell_type": "code",
   "execution_count": 11,
   "metadata": {},
   "outputs": [
    {
     "name": "stdout",
     "output_type": "stream",
     "text": [
      "number of GPUs available: 5\n",
      "cuda:0, name:NVIDIA GeForce GTX 1080 Ti\n",
      "total memory available: 10.91656494140625 GB\n",
      "total memory allocated on device: 0.0 GB\n",
      "max memory allocated on device: 0.0 GB\n",
      "total memory cached on device: 0.0 GB\n",
      "max memory cached  on device: 0.0 GB\n",
      "\n",
      "cuda:1, name:NVIDIA GeForce GTX 1080 Ti\n",
      "total memory available: 10.91656494140625 GB\n",
      "total memory allocated on device: 0.0 GB\n",
      "max memory allocated on device: 0.0 GB\n",
      "total memory cached on device: 0.0 GB\n",
      "max memory cached  on device: 0.0 GB\n",
      "\n",
      "cuda:2, name:NVIDIA GeForce GTX 1080 Ti\n",
      "total memory available: 10.91656494140625 GB\n",
      "total memory allocated on device: 0.0 GB\n",
      "max memory allocated on device: 0.0 GB\n",
      "total memory cached on device: 0.0 GB\n",
      "max memory cached  on device: 0.0 GB\n",
      "\n",
      "cuda:3, name:NVIDIA GeForce GTX 1080 Ti\n",
      "total memory available: 10.91656494140625 GB\n",
      "total memory allocated on device: 0.0 GB\n",
      "max memory allocated on device: 0.0 GB\n",
      "total memory cached on device: 0.0 GB\n",
      "max memory cached  on device: 0.0 GB\n",
      "\n",
      "cuda:4, name:NVIDIA GeForce GTX 1080 Ti\n",
      "total memory available: 10.91656494140625 GB\n",
      "total memory allocated on device: 0.0 GB\n",
      "max memory allocated on device: 0.0 GB\n",
      "total memory cached on device: 0.0 GB\n",
      "max memory cached  on device: 0.0 GB\n",
      "\n"
     ]
    }
   ],
   "source": [
    "report_available_cuda_devices()"
   ]
  },
  {
   "cell_type": "code",
   "execution_count": 12,
   "metadata": {},
   "outputs": [
    {
     "data": {
      "text/plain": [
       "5"
      ]
     },
     "execution_count": 12,
     "metadata": {},
     "output_type": "execute_result"
    }
   ],
   "source": [
    "n_gpu = torch.cuda.device_count()\n",
    "# n_gpu = 1\n",
    "n_gpu"
   ]
  },
  {
   "cell_type": "code",
   "execution_count": 13,
   "metadata": {},
   "outputs": [],
   "source": [
    "device_cpu = get_device(to_gpu=False)\n",
    "# device_gpu = get_device(True, index=0)\n",
    "\n",
    "# fdtype = torch.float32"
   ]
  },
  {
   "cell_type": "code",
   "execution_count": 14,
   "metadata": {},
   "outputs": [
    {
     "name": "stdout",
     "output_type": "stream",
     "text": [
      "torch: 1.11.0+cu115\n",
      "CUDA: 11.5\n",
      "3.8.10 (default, Jun 22 2022, 20:18:18) \n",
      "[GCC 9.4.0]\n"
     ]
    }
   ],
   "source": [
    "print(\"torch:\", torch.__version__)\n",
    "print(\"CUDA:\", torch.version.cuda)\n",
    "print(sys.version)"
   ]
  },
  {
   "cell_type": "markdown",
   "metadata": {},
   "source": [
    "### Preparing dataset "
   ]
  },
  {
   "cell_type": "code",
   "execution_count": 15,
   "metadata": {},
   "outputs": [],
   "source": [
    "# options: \n",
    "# 'total_thresh' + 4,3,2\n",
    "# 'loewe_thresh', 'hsa_thresh', 'bliss_thresh', 'zip_thresh' + 1\n",
    "\n",
    "score = 'total_thresh'\n",
    "score_val = 4"
   ]
  },
  {
   "cell_type": "code",
   "execution_count": 16,
   "metadata": {},
   "outputs": [],
   "source": [
    "DSdataset_name = f'DrugComb_{score}_{score_val}'\n",
    "\n",
    "data_fname = 'data_v1' # v2 for baseline models"
   ]
  },
  {
   "cell_type": "code",
   "execution_count": 17,
   "metadata": {},
   "outputs": [
    {
     "name": "stdout",
     "output_type": "stream",
     "text": [
      "path_current_dir /cluster/work/medinfmk/lm1-homes/skyriakos-lm1-home/data_to_migrate/chemprop_run/git/deepadr\n",
      "path_current_dir /cluster/work/medinfmk/lm1-homes/skyriakos-lm1-home/data_to_migrate/chemprop_run/git/deepadr\n",
      "path_current_dir /cluster/work/medinfmk/lm1-homes/skyriakos-lm1-home/data_to_migrate/chemprop_run/git/deepadr\n",
      "path_current_dir /cluster/work/medinfmk/lm1-homes/skyriakos-lm1-home/data_to_migrate/chemprop_run/git/deepadr\n",
      "/cluster/work/medinfmk/lm1-homes/skyriakos-lm1-home/data_to_migrate/chemprop_run/git/data/processed/DrugComb_total_thresh_4/data_v1\n"
     ]
    }
   ],
   "source": [
    "targetdata_dir = create_directory(os.path.join(processed_dir, DSdataset_name, data_fname))\n",
    "targetdata_dir_raw = create_directory(os.path.join(targetdata_dir, \"raw\"))\n",
    "targetdata_dir_processed = create_directory(os.path.join(targetdata_dir, \"processed\"))\n",
    "targetdata_dir_exp = create_directory(os.path.join(targetdata_dir, \"experiments\"))\n",
    "# # ReaderWriter.dump_data(dpartitions, os.path.join(targetdata_dir, 'data_partitions.pkl'))\n",
    "print(targetdata_dir)"
   ]
  },
  {
   "cell_type": "code",
   "execution_count": 18,
   "metadata": {},
   "outputs": [
    {
     "name": "stdout",
     "output_type": "stream",
     "text": [
      "CPU times: user 23.4 ms, sys: 445 ms, total: 469 ms\n",
      "Wall time: 960 ms\n"
     ]
    }
   ],
   "source": [
    "%%time\n",
    "\n",
    "# Make sure to first run the \"DDoS_Dataset_Generation\" notebook first\n",
    "\n",
    "dataset = MoleculeDataset(root=targetdata_dir)"
   ]
  },
  {
   "cell_type": "code",
   "execution_count": 19,
   "metadata": {},
   "outputs": [],
   "source": [
    "# print()\n",
    "# print(f'Dataset: {dataset}:')\n",
    "# print('====================')\n",
    "# print(f'Number of graphs: {len(dataset)}')\n",
    "# print(f'Number of features: {dataset.num_features}')\n",
    "# print(f'Number of classes: {dataset.num_classes}')"
   ]
  },
  {
   "cell_type": "code",
   "execution_count": 20,
   "metadata": {},
   "outputs": [],
   "source": [
    "# data0 = dataset[0]  # Get the first graph object.\n",
    "# data0"
   ]
  },
  {
   "cell_type": "code",
   "execution_count": 21,
   "metadata": {},
   "outputs": [],
   "source": [
    "used_dataset = dataset\n",
    "\n",
    "# If you want to use a smaller subset of the dataset for testing\n",
    "# smaller_dataset_len = int(len(dataset)/1)\n",
    "# used_dataset = dataset[:smaller_dataset_len]"
   ]
  },
  {
   "cell_type": "code",
   "execution_count": 37,
   "metadata": {},
   "outputs": [
    {
     "data": {
      "text/plain": [
       "deepadr.dataset.MoleculeDataset"
      ]
     },
     "execution_count": 37,
     "metadata": {},
     "output_type": "execute_result"
    }
   ],
   "source": [
    "type(used_dataset)"
   ]
  },
  {
   "cell_type": "code",
   "execution_count": 23,
   "metadata": {},
   "outputs": [
    {
     "data": {
      "text/plain": [
       "tensor([0, 0, 0,  ..., 0, 1, 1], dtype=torch.int32)"
      ]
     },
     "execution_count": 23,
     "metadata": {},
     "output_type": "execute_result"
    }
   ],
   "source": [
    "dataset.data.y"
   ]
  },
  {
   "cell_type": "code",
   "execution_count": 24,
   "metadata": {},
   "outputs": [
    {
     "name": "stdout",
     "output_type": "stream",
     "text": [
      "fold_num: 0\n",
      "train data\n",
      "class: 0 norm count: 0.5764128559102675\n",
      "class: 1 norm count: 0.4235871440897325\n",
      "validation data\n",
      "class: 0 norm count: 0.5764192139737991\n",
      "class: 1 norm count: 0.42358078602620086\n",
      "test data\n",
      "class: 0 norm count: 0.5764751552795031\n",
      "class: 1 norm count: 0.4235248447204969\n",
      "\n",
      "-------------------------\n",
      "fold_num: 1\n",
      "train data\n",
      "class: 0 norm count: 0.5764128559102675\n",
      "class: 1 norm count: 0.4235871440897325\n",
      "validation data\n",
      "class: 0 norm count: 0.5764192139737991\n",
      "class: 1 norm count: 0.42358078602620086\n",
      "test data\n",
      "class: 0 norm count: 0.5764751552795031\n",
      "class: 1 norm count: 0.4235248447204969\n",
      "\n",
      "-------------------------\n",
      "fold_num: 2\n",
      "train data\n",
      "class: 0 norm count: 0.5764356969533567\n",
      "class: 1 norm count: 0.4235643030466433\n",
      "validation data\n",
      "class: 0 norm count: 0.5764192139737991\n",
      "class: 1 norm count: 0.42358078602620086\n",
      "test data\n",
      "class: 0 norm count: 0.5763929334109882\n",
      "class: 1 norm count: 0.4236070665890118\n",
      "\n",
      "-------------------------\n",
      "fold_num: 3\n",
      "train data\n",
      "class: 0 norm count: 0.5764356969533567\n",
      "class: 1 norm count: 0.4235643030466433\n",
      "validation data\n",
      "class: 0 norm count: 0.5764192139737991\n",
      "class: 1 norm count: 0.42358078602620086\n",
      "test data\n",
      "class: 0 norm count: 0.5763929334109882\n",
      "class: 1 norm count: 0.4236070665890118\n",
      "\n",
      "-------------------------\n",
      "fold_num: 4\n",
      "train data\n",
      "class: 0 norm count: 0.5764356969533567\n",
      "class: 1 norm count: 0.4235643030466433\n",
      "validation data\n",
      "class: 0 norm count: 0.5764192139737991\n",
      "class: 1 norm count: 0.42358078602620086\n",
      "test data\n",
      "class: 0 norm count: 0.5763929334109882\n",
      "class: 1 norm count: 0.4236070665890118\n",
      "\n",
      "-------------------------\n"
     ]
    }
   ],
   "source": [
    "fold_partitions = get_stratified_partitions(dataset.data.y,\n",
    "                                            num_folds=5,\n",
    "                                            valid_set_portion=0.1,\n",
    "                                            random_state=42)"
   ]
  },
  {
   "cell_type": "code",
   "execution_count": 25,
   "metadata": {},
   "outputs": [
    {
     "name": "stdout",
     "output_type": "stream",
     "text": [
      "Number of training graphs: 18544\n",
      "Number of validation graphs: 2061\n",
      "Number of testing graphs: 5152\n"
     ]
    }
   ],
   "source": [
    "print(\"Number of training graphs: \"+ str(len(fold_partitions[0]['train'])))\n",
    "print(\"Number of validation graphs: \"+ str(len(fold_partitions[0]['validation'])))\n",
    "print(\"Number of testing graphs: \"+ str(len(fold_partitions[0]['test'])))"
   ]
  },
  {
   "cell_type": "code",
   "execution_count": 26,
   "metadata": {},
   "outputs": [],
   "source": [
    "# print(dataset.num_classes)"
   ]
  },
  {
   "cell_type": "code",
   "execution_count": 27,
   "metadata": {},
   "outputs": [],
   "source": [
    "# training params total_thresh 4\n",
    "tp = {\n",
    "    \"batch_size\" : 300,\n",
    "    \"num_epochs\" : 5,\n",
    "    \n",
    "    \"emb_dim\" : 100,\n",
    "    \"gnn_type\" : \"gatv2\",\n",
    "    \"num_layer\" : 5,\n",
    "    \"graph_pooling\" : \"mean\", #attention\n",
    "    \n",
    "    \"input_embed_dim\" : None,\n",
    "    \"gene_embed_dim\": 1,\n",
    "    \"num_attn_heads\" : 2,\n",
    "    \"num_transformer_units\" : 1,\n",
    "    \"p_dropout\" : 0.3,\n",
    "#     \"nonlin_func\" : nn.ReLU(),\n",
    "    \"mlp_embed_factor\" : 2,\n",
    "    \"pooling_mode\" : 'attn',\n",
    "    \"dist_opt\" : 'cosine',\n",
    "\n",
    "    \"base_lr\" : 3e-4, #3e-4\n",
    "    \"max_lr_mul\": 10,\n",
    "    \"l2_reg\" : 1e-7,\n",
    "    \"loss_w\" : 1.,\n",
    "    \"margin_v\" : 1.,\n",
    "\n",
    "    \"expression_dim\" : 64,\n",
    "    \"expression_input_size\" : 908,\n",
    "    \"exp_H1\" : 4096,\n",
    "    \"exp_H2\" : 1024\n",
    "}"
   ]
  },
  {
   "cell_type": "code",
   "execution_count": 28,
   "metadata": {},
   "outputs": [],
   "source": [
    "# tp = {\n",
    "#     \"batch_size\" : 32,\n",
    "#     \"num_epochs\" : 5,\n",
    "    \n",
    "#     \"emb_dim\" : 100,\n",
    "#     \"gnn_type\" : \"gatv2\",\n",
    "#     \"num_layer\" : 5,\n",
    "#     \"graph_pooling\" : \"mean\", #attention\n",
    "    \n",
    "#     \"input_embed_dim\" : None,\n",
    "#     \"gene_embed_dim\": 20,\n",
    "#     \"num_attn_heads\" : 2,\n",
    "#     \"num_transformer_units\" : 1,\n",
    "#     \"p_dropout\" : 0.3,\n",
    "# #     \"nonlin_func\" : nn.ReLU(),\n",
    "#     \"mlp_embed_factor\" : 2,\n",
    "#     \"pooling_mode\" : 'attn',\n",
    "#     \"dist_opt\" : 'cosine',\n",
    "\n",
    "#     \"base_lr\" : 3e-4, #3e-4\n",
    "#     \"max_lr_mul\": 10,\n",
    "#     \"l2_reg\" : 1e-7,\n",
    "#     \"loss_w\" : 1.,\n",
    "#     \"margin_v\" : 1.,\n",
    "\n",
    "#     \"expression_dim\" : 64,\n",
    "#     \"expression_input_size\" : 908,\n",
    "#     \"exp_H1\" : 4096,\n",
    "#     \"exp_H2\" : 1024\n",
    "# }"
   ]
  },
  {
   "cell_type": "code",
   "execution_count": 29,
   "metadata": {},
   "outputs": [],
   "source": [
    "# # training params total_thresh 3\n",
    "# tp = {\n",
    "#     \"batch_size\" : 300,\n",
    "#     \"num_epochs\" : 200,\n",
    "    \n",
    "#     \"emb_dim\" : 300,\n",
    "#     \"gnn_type\" : \"gatv2\",\n",
    "#     \"num_layer\" : 5,\n",
    "#     \"graph_pooling\" : \"mean\", #attention\n",
    "    \n",
    "#     \"input_embed_dim\" : None,\n",
    "#     \"gene_embed_dim\": 1,\n",
    "#     \"num_attn_heads\" : 2,\n",
    "#     \"num_transformer_units\" : 1,\n",
    "#     \"p_dropout\" : 0.3,\n",
    "# #     \"nonlin_func\" : nn.ReLU(),\n",
    "#     \"mlp_embed_factor\" : 2,\n",
    "#     \"pooling_mode\" : 'attn',\n",
    "#     \"dist_opt\" : 'cosine',\n",
    "\n",
    "#     \"base_lr\" : 3e-5, #3e-4\n",
    "#     \"max_lr_mul\": 10,\n",
    "#     \"l2_reg\" : 1e-8,\n",
    "#     \"loss_w\" : 0.3,\n",
    "#     \"margin_v\" : 1.,\n",
    "\n",
    "#     \"expression_dim\" : 64,\n",
    "#     \"expression_input_size\" : 908,\n",
    "#     \"exp_H1\" : 500,\n",
    "#     \"exp_H2\" : 400\n",
    "# }"
   ]
  },
  {
   "cell_type": "code",
   "execution_count": 30,
   "metadata": {},
   "outputs": [],
   "source": [
    "def spawn_q_process(q_process):\n",
    "    print(\">>> spawning hyperparam search process\")\n",
    "    q_process.start()\n",
    "    \n",
    "def join_q_process(q_process):\n",
    "    q_process.join()\n",
    "    print(\"<<< joined hyperparam search process\")\n",
    "    \n",
    "def create_q_process(queue, used_dataset, gpu_num, tphp, exp_dir, partition):\n",
    "#     fold_gpu_map = {0:gpu_num}\n",
    "    return mp.Process(target=deepadr.hyphelperv2.run_exp, args=(queue, used_dataset, gpu_num, tphp, exp_dir, partition))"
   ]
  },
  {
   "cell_type": "code",
   "execution_count": 31,
   "metadata": {},
   "outputs": [
    {
     "data": {
      "text/plain": [
       "5"
      ]
     },
     "execution_count": 31,
     "metadata": {},
     "output_type": "execute_result"
    }
   ],
   "source": [
    "n_gpu"
   ]
  },
  {
   "cell_type": "code",
   "execution_count": 34,
   "metadata": {},
   "outputs": [
    {
     "data": {
      "text/plain": [
       "range(0, 5)"
      ]
     },
     "execution_count": 34,
     "metadata": {},
     "output_type": "execute_result"
    }
   ],
   "source": [
    "range(min(n_gpu, len(fold_partitions)))"
   ]
  },
  {
   "cell_type": "code",
   "execution_count": null,
   "metadata": {},
   "outputs": [],
   "source": []
  },
  {
   "cell_type": "code",
   "execution_count": 34,
   "metadata": {
    "scrolled": false
   },
   "outputs": [
    {
     "name": "stdout",
     "output_type": "stream",
     "text": [
      "Start: 2022-09-01_12-20-24\n",
      "path_current_dir /cluster/work/medinfmk/lm1-homes/skyriakos-lm1-home/data_to_migrate/chemprop_run/git/deepadr\n",
      "path_current_dir /cluster/work/medinfmk/lm1-homes/skyriakos-lm1-home/data_to_migrate/chemprop_run/git/deepadr\n",
      ">>> spawning hyperparam search process\n",
      "path_current_dir /cluster/work/medinfmk/lm1-homes/skyriakos-lm1-home/data_to_migrate/chemprop_run/git/deepadr\n",
      "path_current_dir /cluster/work/medinfmk/lm1-homes/skyriakos-lm1-home/data_to_migrate/chemprop_run/git/deepadr\n",
      ">>> spawning hyperparam search process\n",
      "path_current_dir /cluster/work/medinfmk/lm1-homes/skyriakos-lm1-home/data_to_migrate/chemprop_run/git/deepadr\n",
      "path_current_dir /cluster/work/medinfmk/lm1-homes/skyriakos-lm1-home/data_to_migrate/chemprop_run/git/deepadr\n",
      ">>> spawning hyperparam search process\n",
      "path_current_dir /cluster/work/medinfmk/lm1-homes/skyriakos-lm1-home/data_to_migrate/chemprop_run/git/deepadr\n",
      "path_current_dir /cluster/work/medinfmk/lm1-homes/skyriakos-lm1-home/data_to_migrate/chemprop_run/git/deepadr\n",
      ">>> spawning hyperparam search process\n",
      "gpu: cuda:0\n",
      "Dropout(p=0.3, inplace=False) Dropout(p=0.3, inplace=False)\n",
      "=====Epoch 0\n",
      "Training...\n",
      "gpu: cuda:1\n",
      "Dropout(p=0.3, inplace=False) Dropout(p=0.3, inplace=False)\n",
      "=====Epoch 0\n",
      "Training...\n"
     ]
    },
    {
     "name": "stderr",
     "output_type": "stream",
     "text": [
      "\r",
      "Iteration:   0%|          | 0/62 [00:00<?, ?it/s]\r",
      "Iteration:   0%|          | 0/62 [00:00<?, ?it/s]"
     ]
    },
    {
     "name": "stdout",
     "output_type": "stream",
     "text": [
      "path_current_dir /cluster/work/medinfmk/lm1-homes/skyriakos-lm1-home/data_to_migrate/chemprop_run/git/deepadr\n",
      "path_current_dir /cluster/work/medinfmk/lm1-homes/skyriakos-lm1-home/data_to_migrate/chemprop_run/git/deepadr\n",
      ">>> spawning hyperparam search process\n",
      "gpu: cuda:2\n",
      "Dropout(p=0.3, inplace=False) Dropout(p=0.3, inplace=False)\n",
      "=====Epoch 0\n",
      "Training...\n"
     ]
    },
    {
     "name": "stderr",
     "output_type": "stream",
     "text": [
      "Iteration:   2%|▏         | 1/62 [00:03<03:15,  3.21s/it]"
     ]
    },
    {
     "name": "stdout",
     "output_type": "stream",
     "text": [
      "gpu: cuda:3\n",
      "Dropout(p=0.3, inplace=False) Dropout(p=0.3, inplace=False)\n",
      "=====Epoch 0\n",
      "Training...\n"
     ]
    },
    {
     "name": "stderr",
     "output_type": "stream",
     "text": [
      "Iteration:   0%|          | 0/62 [00:00<?, ?it/s]7.85it/s]"
     ]
    },
    {
     "name": "stdout",
     "output_type": "stream",
     "text": [
      "gpu: cuda:4\n",
      "Dropout(p=0.3, inplace=False) Dropout(p=0.3, inplace=False)\n",
      "=====Epoch 0\n",
      "Training...\n"
     ]
    },
    {
     "name": "stderr",
     "output_type": "stream",
     "text": [
      "Iteration: 100%|██████████| 62/62 [00:14<00:00,  4.30it/s]\n",
      "Iteration: 100%|██████████| 62/62 [00:12<00:00,  5.09it/s]\n",
      "Iteration:   3%|▎         | 2/62 [00:00<00:03, 19.89it/s]]"
     ]
    },
    {
     "name": "stdout",
     "output_type": "stream",
     "text": [
      "Evaluating...\n",
      "Evaluating...\n"
     ]
    },
    {
     "name": "stderr",
     "output_type": "stream",
     "text": [
      "\r",
      "Iteration:  98%|█████████▊| 61/62 [00:14<00:00,  6.84it/s]\r",
      "Iteration:  52%|█████▏    | 32/62 [00:08<00:04,  6.96it/s]\r",
      "Iteration:   6%|▋         | 4/62 [00:00<00:03, 17.76it/s]\r",
      "Iteration:   8%|▊         | 5/62 [00:00<00:02, 20.53it/s]\r",
      "Iteration:  53%|█████▎    | 33/62 [00:08<00:03,  7.43it/s]\r",
      "Iteration: 100%|██████████| 62/62 [00:14<00:00,  7.21it/s]\r",
      "Iteration: 100%|██████████| 62/62 [00:14<00:00,  4.17it/s]\n",
      "\r",
      "Iteration:  10%|▉         | 6/62 [00:00<00:03, 18.31it/s]\r",
      "Iteration:   0%|          | 0/62 [00:00<?, ?it/s]\r",
      "Iteration:  13%|█▎        | 8/62 [00:00<00:02, 21.21it/s]"
     ]
    },
    {
     "name": "stdout",
     "output_type": "stream",
     "text": [
      "Evaluating...\n"
     ]
    },
    {
     "name": "stderr",
     "output_type": "stream",
     "text": [
      "Iteration:  87%|████████▋ | 54/62 [00:11<00:01,  7.80it/s]\n",
      "Iteration:   0%|          | 0/18 [00:00<?, ?it/s]\n",
      "Iteration:  42%|████▏     | 26/62 [00:07<00:04,  7.96it/s]\n",
      "Iteration: 100%|██████████| 62/62 [00:12<00:00,  4.99it/s]\n",
      "Iteration:   0%|          | 0/62 [00:00<?, ?it/s]"
     ]
    },
    {
     "name": "stdout",
     "output_type": "stream",
     "text": [
      "Evaluating...\n"
     ]
    },
    {
     "name": "stderr",
     "output_type": "stream",
     "text": [
      "Iteration: 100%|██████████| 62/62 [00:02<00:00, 21.17it/s]\n",
      "Iteration: 100%|██████████| 62/62 [00:12<00:00,  5.09it/s]\n",
      "Iteration:   3%|▎         | 2/62 [00:00<00:03, 19.89it/s]"
     ]
    },
    {
     "name": "stdout",
     "output_type": "stream",
     "text": [
      "Evaluating...\n"
     ]
    },
    {
     "name": "stderr",
     "output_type": "stream",
     "text": [
      "Iteration:  23%|██▎       | 14/62 [00:00<00:02, 20.46it/s]\n",
      "Iteration:  27%|██▋       | 17/62 [00:00<00:02, 20.37it/s]\n",
      "Iteration: 100%|██████████| 7/7 [00:00<00:00, 13.14it/s]s]\n",
      "Iteration: 100%|██████████| 7/7 [00:00<00:00, 13.50it/s]\n",
      "Iteration:  47%|████▋     | 29/62 [00:01<00:01, 20.60it/s]"
     ]
    },
    {
     "name": "stdout",
     "output_type": "stream",
     "text": [
      "{'Train':  best_epoch_indx:0\n",
      " auc:0.7049700999004374 \n",
      " apur:0.6330420574522705 \n",
      " f1:0.6279651073815232 \n",
      " precision:0.5239189649302008 \n",
      " recall:0.7835773392743476 \n",
      ", 'Validation':  best_epoch_indx:0\n",
      " auc:0.7051413331482059 \n",
      " apur:0.6322764766842575 \n",
      " f1:0.6301243666513128 \n",
      " precision:0.5269645608628659 \n",
      " recall:0.7835051546391752 \n",
      ", 'Test':  best_epoch_indx:0\n",
      " auc:0.7088895369830293 \n",
      " apur:0.640176027455664 \n",
      " f1:0.621147813249677 \n",
      " precision:0.5199258572752549 \n",
      " recall:0.7713107241063245 \n",
      "}\n",
      "=====Epoch 1\n",
      "Training...\n",
      "{'Train':  best_epoch_indx:0\n",
      " auc:0.7335030507937661 \n",
      " apur:0.6451051020447718 \n",
      " f1:0.6490724803977816 \n",
      " precision:0.5197151826047011 \n",
      " recall:0.8641629535327817 \n",
      ", 'Validation':  best_epoch_indx:0\n",
      " auc:0.7219430849155934 \n",
      " apur:0.6564437533760867 \n",
      " f1:0.6454081632653061 \n",
      " precision:0.513184584178499 \n",
      " recall:0.8694158075601375 \n",
      ", 'Test':  best_epoch_indx:0\n",
      " auc:0.7222862645133226 \n",
      " apur:0.6532964000505893 \n",
      " f1:0.6385377519644687 \n",
      " precision:0.5089869281045751 \n",
      " recall:0.8565536205316223 \n",
      "}\n",
      "=====Epoch 1\n",
      "Training...\n"
     ]
    },
    {
     "name": "stderr",
     "output_type": "stream",
     "text": [
      "Iteration:  16%|█▌        | 10/62 [00:00<00:04, 12.35it/s]\n",
      "Iteration:  32%|███▏      | 20/62 [00:01<00:03, 12.54it/s]\n",
      "Iteration:  32%|███▏      | 20/62 [00:01<00:03, 12.55it/s]"
     ]
    },
    {
     "name": "stdout",
     "output_type": "stream",
     "text": [
      "{'Train':  best_epoch_indx:0\n",
      " auc:0.7445053806720758 \n",
      " apur:0.6804598940803483 \n",
      " f1:0.6567077311087399 \n",
      " precision:0.5304395518295072 \n",
      " recall:0.8618714194780395 \n",
      ", 'Validation':  best_epoch_indx:0\n",
      " auc:0.7311387066541706 \n",
      " apur:0.667052135067667 \n",
      " f1:0.6411149825783973 \n",
      " precision:0.517217146872804 \n",
      " recall:0.843069873997709 \n",
      ", 'Test':  best_epoch_indx:0\n",
      " auc:0.7494733463569394 \n",
      " apur:0.6821395080091872 \n",
      " f1:0.660311958405546 \n",
      " precision:0.5309364548494984 \n",
      " recall:0.8730522456461961 \n",
      "}\n",
      "=====Epoch 1\n",
      "Training...\n"
     ]
    },
    {
     "name": "stderr",
     "output_type": "stream",
     "text": [
      "Iteration:  35%|███▌      | 22/62 [00:01<00:03, 12.52it/s]\n",
      "Iteration:  65%|██████▍   | 40/62 [00:03<00:01, 11.13it/s]\n",
      "Iteration:  77%|███████▋  | 48/62 [00:04<00:01, 11.82it/s]\n",
      "Iteration:  42%|████▏     | 26/62 [00:02<00:03, 10.12it/s]"
     ]
    },
    {
     "name": "stdout",
     "output_type": "stream",
     "text": [
      "{'Train':  best_epoch_indx:0\n",
      " auc:0.7598340001393356 \n",
      " apur:0.7007028736572858 \n",
      " f1:0.662948042557587 \n",
      " precision:0.5577474580690015 \n",
      " recall:0.8170591979630808 \n",
      ", 'Validation':  best_epoch_indx:0\n",
      " auc:0.7500443534235057 \n",
      " apur:0.6965133777608169 \n",
      " f1:0.662878787878788 \n",
      " precision:0.5649717514124294 \n",
      " recall:0.8018327605956472 \n",
      ", 'Test':  best_epoch_indx:0\n",
      " auc:0.7525624548689652 \n",
      " apur:0.6954552508798686 \n",
      " f1:0.6605880163751395 \n",
      " precision:0.556077694235589 \n",
      " recall:0.8134738771769019 \n",
      "}\n",
      "=====Epoch 1\n",
      "Training...\n"
     ]
    },
    {
     "name": "stderr",
     "output_type": "stream",
     "text": [
      "Iteration: 100%|██████████| 62/62 [00:05<00:00, 11.92it/s]\n",
      "Iteration:   0%|          | 0/62 [00:00<?, ?it/s]"
     ]
    },
    {
     "name": "stdout",
     "output_type": "stream",
     "text": [
      "Evaluating...\n",
      "Evaluating...\n"
     ]
    },
    {
     "name": "stderr",
     "output_type": "stream",
     "text": [
      "Iteration: 100%|██████████| 62/62 [00:05<00:00, 11.89it/s]\n",
      "Iteration: 100%|██████████| 62/62 [00:06<00:00,  9.71it/s]\n",
      "Iteration:   0%|          | 0/62 [00:00<?, ?it/s]"
     ]
    },
    {
     "name": "stdout",
     "output_type": "stream",
     "text": [
      "Evaluating...\n"
     ]
    },
    {
     "name": "stderr",
     "output_type": "stream",
     "text": [
      "Iteration:   3%|▎         | 2/62 [00:00<00:03, 17.70it/s]]\n",
      "Iteration:   0%|          | 0/7 [00:00<?, ?it/s]\n",
      "Iteration:   0%|          | 0/18 [00:00<?, ?it/s]\n",
      "Iteration:  21%|██        | 13/62 [00:00<00:02, 19.26it/s]\n",
      "Iteration:  83%|████████▎ | 15/18 [00:00<00:00, 21.35it/s]"
     ]
    },
    {
     "name": "stdout",
     "output_type": "stream",
     "text": [
      "{'Train':  best_epoch_indx:0\n",
      " auc:0.7425947913509534 \n",
      " apur:0.6875617369534215 \n",
      " f1:0.6458121150395266 \n",
      " precision:0.5216233155750548 \n",
      " recall:0.8476129853596436 \n",
      ", 'Validation':  best_epoch_indx:0\n",
      " auc:0.7395229500040497 \n",
      " apur:0.6781161960962521 \n",
      " f1:0.6437086092715232 \n",
      " precision:0.5237068965517241 \n",
      " recall:0.8350515463917526 \n",
      ", 'Test':  best_epoch_indx:0\n",
      " auc:0.7383688891537021 \n",
      " apur:0.676215632890852 \n",
      " f1:0.6479618845950239 \n",
      " precision:0.526829268292683 \n",
      " recall:0.8414298808432631 \n",
      "}\n",
      "=====Epoch 1\n",
      "Training...\n"
     ]
    },
    {
     "name": "stderr",
     "output_type": "stream",
     "text": [
      "Iteration: 100%|██████████| 62/62 [00:05<00:00, 10.67it/s]\n",
      "Iteration:   3%|▎         | 2/62 [00:00<00:03, 19.91it/s]]"
     ]
    },
    {
     "name": "stdout",
     "output_type": "stream",
     "text": [
      "Evaluating...\n"
     ]
    },
    {
     "name": "stderr",
     "output_type": "stream",
     "text": [
      "Iteration:  45%|████▌     | 28/62 [00:02<00:03, 10.57it/s]\n",
      "Iteration:  68%|██████▊   | 42/62 [00:04<00:02,  9.94it/s]\n",
      "Iteration:  87%|████████▋ | 54/62 [00:05<00:00, 11.14it/s]\n",
      "Iteration:   0%|          | 0/7 [00:00<?, ?it/s]\n",
      "Iteration: 100%|██████████| 7/7 [00:00<00:00, 21.35it/s]s]\n",
      "Iteration:   0%|          | 0/62 [00:00<?, ?it/s]\n",
      "Iteration:   3%|▎         | 2/62 [00:00<00:04, 12.04it/s]]"
     ]
    },
    {
     "name": "stdout",
     "output_type": "stream",
     "text": [
      "{'Train':  best_epoch_indx:1\n",
      " auc:0.7880014219372525 \n",
      " apur:0.731509041145255 \n",
      " f1:0.6799880703847301 \n",
      " precision:0.6397306397306397 \n",
      " recall:0.7256524506683641 \n",
      ", 'Validation':  best_epoch_indx:1\n",
      " auc:0.7754395809951364 \n",
      " apur:0.7100831199786085 \n",
      " f1:0.6645299145299145 \n",
      " precision:0.6226226226226226 \n",
      " recall:0.7124856815578465 \n",
      ", 'Test':  best_epoch_indx:1\n",
      " auc:0.781279222296761 \n",
      " apur:0.7307192145368684 \n",
      " f1:0.6696852091418716 \n",
      " precision:0.632328990228013 \n",
      " recall:0.7117323556370303 \n",
      "}\n",
      "=====Epoch 2\n",
      "Training...\n",
      "{'Train':  best_epoch_indx:1\n",
      " auc:0.8037639127513434 \n",
      " apur:0.7603310151520393 \n",
      " f1:0.6956856279197582 \n",
      " precision:0.6120889748549323 \n",
      " recall:0.8057288351368556 \n",
      ", 'Validation':  best_epoch_indx:1\n",
      " auc:0.7883223221138456 \n",
      " apur:0.7341994818880353 \n",
      " f1:0.6833416708354176 \n",
      " precision:0.6065719360568383 \n",
      " recall:0.7823596792668958 \n",
      ", 'Test':  best_epoch_indx:1\n",
      " auc:0.7934431389976763 \n",
      " apur:0.7512251747321121 \n",
      " f1:0.6852700817221447 \n",
      " precision:0.6063492063492063 \n",
      " recall:0.7878093492208983 \n",
      "}\n",
      "=====Epoch 2\n",
      "Training...\n"
     ]
    },
    {
     "name": "stderr",
     "output_type": "stream",
     "text": [
      "\r",
      "Iteration: 100%|██████████| 62/62 [00:05<00:00, 11.39it/s]\r",
      "Iteration: 100%|██████████| 62/62 [00:05<00:00, 10.58it/s]\n",
      "\r",
      "Iteration:   0%|          | 0/62 [00:00<?, ?it/s]\r",
      "Iteration:   6%|▋         | 4/62 [00:00<00:04, 11.96it/s]\r",
      "Iteration:   6%|▋         | 4/62 [00:00<00:04, 12.07it/s]\r",
      "Iteration:   5%|▍         | 3/62 [00:00<00:02, 21.57it/s]"
     ]
    },
    {
     "name": "stdout",
     "output_type": "stream",
     "text": [
      "Evaluating...\n"
     ]
    },
    {
     "name": "stderr",
     "output_type": "stream",
     "text": [
      "Iteration:  52%|█████▏    | 32/62 [00:02<00:02, 12.07it/s]\n",
      "Iteration: 100%|██████████| 7/7 [00:00<00:00, 21.74it/s]s]\n",
      "Iteration:   3%|▎         | 2/62 [00:00<00:05, 11.94it/s]]"
     ]
    },
    {
     "name": "stdout",
     "output_type": "stream",
     "text": [
      "{'Train':  best_epoch_indx:1\n",
      " auc:0.7833098673871821 \n",
      " apur:0.7209114666267881 \n",
      " f1:0.6816180355779956 \n",
      " precision:0.6324907387230333 \n",
      " recall:0.7390197326543603 \n",
      ", 'Validation':  best_epoch_indx:1\n",
      " auc:0.7787723550896518 \n",
      " apur:0.7087012394352938 \n",
      " f1:0.6780021253985122 \n",
      " precision:0.6323092170465807 \n",
      " recall:0.7308132875143184 \n",
      ", 'Test':  best_epoch_indx:1\n",
      " auc:0.7839083625747236 \n",
      " apur:0.7081015915164259 \n",
      " f1:0.6896406808152974 \n",
      " precision:0.6367869615832363 \n",
      " recall:0.7520623281393217 \n",
      "}\n",
      "=====Epoch 2\n",
      "Training...\n"
     ]
    },
    {
     "name": "stderr",
     "output_type": "stream",
     "text": [
      "\n",
      "Iteration:  71%|███████   | 44/62 [00:03<00:01, 12.20it/s]\n",
      "Iteration: 100%|██████████| 18/18 [00:00<00:00, 23.54it/s]\n",
      "Iteration:  19%|█▉        | 12/62 [00:00<00:04, 12.05it/s]"
     ]
    },
    {
     "name": "stdout",
     "output_type": "stream",
     "text": [
      "{'Train':  best_epoch_indx:1\n",
      " auc:0.8141791021669061 \n",
      " apur:0.7715049772104734 \n",
      " f1:0.6866371800026807 \n",
      " precision:0.7249186359134003 \n",
      " recall:0.6521960534691279 \n",
      ", 'Validation':  best_epoch_indx:1\n",
      " auc:0.795570250037604 \n",
      " apur:0.7527180812373686 \n",
      " f1:0.6642468239564429 \n",
      " precision:0.7038461538461539 \n",
      " recall:0.6288659793814433 \n",
      ", 'Test':  best_epoch_indx:1\n",
      " auc:0.8021900765595233 \n",
      " apur:0.7565017042911787 \n",
      " f1:0.6815240833932423 \n",
      " precision:0.7142139628327474 \n",
      " recall:0.6516956920256646 \n",
      "}\n",
      "=====Epoch 2\n",
      "Training...\n"
     ]
    },
    {
     "name": "stderr",
     "output_type": "stream",
     "text": [
      "Iteration: 100%|██████████| 62/62 [00:05<00:00, 12.17it/s]\n",
      "Iteration: 100%|██████████| 62/62 [00:05<00:00, 12.11it/s]\n",
      "Iteration:   5%|▍         | 3/62 [00:00<00:02, 21.33it/s]]"
     ]
    },
    {
     "name": "stdout",
     "output_type": "stream",
     "text": [
      "Evaluating...\n",
      "Evaluating...\n"
     ]
    },
    {
     "name": "stderr",
     "output_type": "stream",
     "text": [
      "Iteration:  97%|█████████▋| 60/62 [00:05<00:00, 11.87it/s]\n",
      "Iteration:   0%|          | 0/18 [00:00<?, ?it/s]\n",
      "Iteration: 100%|██████████| 62/62 [00:05<00:00, 11.96it/s]\n",
      "Iteration:   0%|          | 0/62 [00:00<?, ?it/s]"
     ]
    },
    {
     "name": "stdout",
     "output_type": "stream",
     "text": [
      "Evaluating...\n"
     ]
    },
    {
     "name": "stderr",
     "output_type": "stream",
     "text": [
      "\n",
      "Iteration: 100%|██████████| 7/7 [00:00<00:00, 23.51it/s]]]\n",
      "Iteration:  87%|████████▋ | 54/62 [00:04<00:00, 12.24it/s]"
     ]
    },
    {
     "name": "stdout",
     "output_type": "stream",
     "text": [
      "{'Train':  best_epoch_indx:1\n",
      " auc:0.8027944580174218 \n",
      " apur:0.7580287269982097 \n",
      " f1:0.6732885906040269 \n",
      " precision:0.7119943222143365 \n",
      " recall:0.6385741565881604 \n",
      ", 'Validation':  best_epoch_indx:1\n",
      " auc:0.8041912056803238 \n",
      " apur:0.7550338497027212 \n",
      " f1:0.6808769792935444 \n",
      " precision:0.7269180754226268 \n",
      " recall:0.6403207331042382 \n",
      ", 'Test':  best_epoch_indx:1\n",
      " auc:0.8034325981984942 \n",
      " apur:0.761367301108492 \n",
      " f1:0.6682891214407398 \n",
      " precision:0.7125064867669954 \n",
      " recall:0.6292392300641613 \n",
      "}\n",
      "=====Epoch 2\n",
      "Training...\n"
     ]
    },
    {
     "name": "stderr",
     "output_type": "stream",
     "text": [
      "Iteration: 100%|██████████| 62/62 [00:05<00:00, 11.70it/s]\n",
      "Iteration:   5%|▍         | 3/62 [00:00<00:02, 21.14it/s]]"
     ]
    },
    {
     "name": "stdout",
     "output_type": "stream",
     "text": [
      "Evaluating...\n"
     ]
    },
    {
     "name": "stderr",
     "output_type": "stream",
     "text": [
      "Iteration:  52%|█████▏    | 32/62 [00:02<00:02, 11.19it/s]\n",
      "Iteration: 100%|██████████| 18/18 [00:00<00:00, 21.35it/s]\n",
      "Iteration:  90%|█████████ | 56/62 [00:05<00:00,  9.97it/s]\n",
      "Iteration:  94%|█████████▎| 58/62 [00:05<00:00,  9.92it/s]\n",
      "Iteration: 100%|██████████| 7/7 [00:00<00:00, 20.14it/s]s]\n",
      "Iteration:   0%|          | 0/62 [00:00<?, ?it/s]"
     ]
    },
    {
     "name": "stdout",
     "output_type": "stream",
     "text": [
      "{'Train':  best_epoch_indx:2\n",
      " auc:0.8300593857263805 \n",
      " apur:0.7978724794953016 \n",
      " f1:0.7145370021359466 \n",
      " precision:0.7053206002728513 \n",
      " recall:0.7239974538510503 \n",
      ", 'Validation':  best_epoch_indx:2\n",
      " auc:0.8153123445219664 \n",
      " apur:0.7733211712446904 \n",
      " f1:0.703409090909091 \n",
      " precision:0.6978579481397971 \n",
      " recall:0.709049255441008 \n",
      ", 'Test':  best_epoch_indx:2\n",
      " auc:0.8211973076317713 \n",
      " apur:0.785753412983294 \n",
      " f1:0.7151321786690976 \n",
      " precision:0.7112420670897552 \n",
      " recall:0.7190650779101742 \n",
      "}\n",
      "=====Epoch 3\n",
      "Training...\n",
      "Evaluating...\n"
     ]
    },
    {
     "name": "stderr",
     "output_type": "stream",
     "text": [
      "\r",
      "Iteration:  57%|█████▋    | 4/7 [00:00<00:00, 18.10it/s]\r",
      "Iteration:  98%|█████████▊| 61/62 [00:05<00:00,  9.97it/s]\r",
      "Iteration:  86%|████████▌ | 6/7 [00:00<00:00, 18.10it/s]\r",
      "Iteration:   3%|▎         | 2/62 [00:00<00:04, 12.43it/s]\r",
      "Iteration: 100%|██████████| 62/62 [00:05<00:00, 10.72it/s]\n",
      "\r",
      "Iteration:   0%|          | 0/62 [00:00<?, ?it/s]\r",
      "Iteration: 100%|██████████| 7/7 [00:00<00:00, 18.30it/s]\n",
      "\r",
      "Iteration:   0%|          | 0/62 [00:00<?, ?it/s]"
     ]
    },
    {
     "name": "stdout",
     "output_type": "stream",
     "text": [
      "{'Train':  best_epoch_indx:2\n",
      " auc:0.8212903366025583 \n",
      " apur:0.7835190245318207 \n",
      " f1:0.7107046936948459 \n",
      " precision:0.7139920339200823 \n",
      " recall:0.7074474856779122 \n",
      ", 'Validation':  best_epoch_indx:2\n",
      " auc:0.8075601374570446 \n",
      " apur:0.7544073685982097 \n",
      " f1:0.6943181818181818 \n",
      " precision:0.6888387824126269 \n",
      " recall:0.699885452462772 \n",
      ", 'Test':  best_epoch_indx:2\n",
      " auc:0.8178634153901344 \n",
      " apur:0.7788300398199746 \n",
      " f1:0.7095596623317363 \n",
      " precision:0.7064970467969105 \n",
      " recall:0.7126489459211732 \n",
      "}\n",
      "=====Epoch 3\n",
      "Training...\n"
     ]
    },
    {
     "name": "stderr",
     "output_type": "stream",
     "text": [
      "Iteration:  39%|███▊      | 24/62 [00:02<00:03, 10.19it/s]\n",
      "Iteration:  45%|████▌     | 28/62 [00:02<00:03, 10.20it/s]\n",
      "Iteration:  97%|█████████▋| 60/62 [00:02<00:00, 21.03it/s]"
     ]
    },
    {
     "name": "stdout",
     "output_type": "stream",
     "text": [
      "{'Train':  best_epoch_indx:2\n",
      " auc:0.8164938357005027 \n",
      " apur:0.77943254099589 \n",
      " f1:0.7019537364484898 \n",
      " precision:0.6444539067489887 \n",
      " recall:0.7707192870782941 \n",
      ", 'Validation':  best_epoch_indx:2\n",
      " auc:0.8017016287348474 \n",
      " apur:0.7543391412147984 \n",
      " f1:0.6914225941422595 \n",
      " precision:0.6361886429258903 \n",
      " recall:0.7571592210767468 \n",
      ", 'Test':  best_epoch_indx:2\n",
      " auc:0.809696491341771 \n",
      " apur:0.7635409557518726 \n",
      " f1:0.6974123539232054 \n",
      " precision:0.6402298850574712 \n",
      " recall:0.7658111824014665 \n",
      "}\n",
      "=====Epoch 3\n",
      "Training...\n"
     ]
    },
    {
     "name": "stderr",
     "output_type": "stream",
     "text": [
      "Iteration:   6%|▋         | 4/62 [00:00<00:04, 12.23it/s]]\n",
      "Iteration:  13%|█▎        | 8/62 [00:00<00:04, 12.33it/s]]\n",
      "Iteration:  81%|████████  | 50/62 [00:04<00:00, 12.61it/s]\n",
      "Iteration:  83%|████████▎ | 15/18 [00:00<00:00, 22.16it/s]"
     ]
    },
    {
     "name": "stdout",
     "output_type": "stream",
     "text": [
      "{'Train':  best_epoch_indx:2\n",
      " auc:0.835513639105418 \n",
      " apur:0.7960171841892708 \n",
      " f1:0.7073550307869273 \n",
      " precision:0.7549104563835933 \n",
      " recall:0.6654360280076385 \n",
      ", 'Validation':  best_epoch_indx:2\n",
      " auc:0.8180400800675716 \n",
      " apur:0.7809150099751354 \n",
      " f1:0.6777367773677737 \n",
      " precision:0.7317397078353254 \n",
      " recall:0.6311569301260023 \n",
      ", 'Test':  best_epoch_indx:2\n",
      " auc:0.8221634247443566 \n",
      " apur:0.7763782511795743 \n",
      " f1:0.6988069150231312 \n",
      " precision:0.7454545454545455 \n",
      " recall:0.657653528872594 \n",
      "}\n",
      "=====Epoch 3\n",
      "Training...\n"
     ]
    },
    {
     "name": "stderr",
     "output_type": "stream",
     "text": [
      "Iteration: 100%|██████████| 62/62 [00:04<00:00, 12.53it/s]\n",
      "Iteration:   0%|          | 0/62 [00:00<?, ?it/s]"
     ]
    },
    {
     "name": "stdout",
     "output_type": "stream",
     "text": [
      "Evaluating...\n"
     ]
    },
    {
     "name": "stderr",
     "output_type": "stream",
     "text": [
      "Iteration: 100%|██████████| 62/62 [00:06<00:00, 10.22it/s]\n",
      "Iteration:  53%|█████▎    | 33/62 [00:01<00:01, 22.40it/s]"
     ]
    },
    {
     "name": "stdout",
     "output_type": "stream",
     "text": [
      "Evaluating...\n"
     ]
    },
    {
     "name": "stderr",
     "output_type": "stream",
     "text": [
      "Iteration:  55%|█████▍    | 34/62 [00:01<00:01, 22.22it/s]\n",
      "Iteration: 100%|██████████| 62/62 [00:05<00:00, 11.76it/s]\n",
      "Iteration:  74%|███████▍  | 46/62 [00:02<00:00, 21.24it/s]"
     ]
    },
    {
     "name": "stdout",
     "output_type": "stream",
     "text": [
      "Evaluating...\n"
     ]
    },
    {
     "name": "stderr",
     "output_type": "stream",
     "text": [
      "Iteration:  79%|███████▉  | 49/62 [00:02<00:00, 21.38it/s]\n",
      "Iteration: 100%|██████████| 7/7 [00:00<00:00, 23.33it/s]s]\n",
      "Iteration: 100%|██████████| 62/62 [00:05<00:00, 12.14it/s]\n",
      "Iteration:  98%|█████████▊| 61/62 [00:02<00:00, 21.41it/s]"
     ]
    },
    {
     "name": "stdout",
     "output_type": "stream",
     "text": [
      "{'Train':  best_epoch_indx:2\n",
      " auc:0.8251330148463825 \n",
      " apur:0.7895930393351533 \n",
      " f1:0.6526841826304233 \n",
      " precision:0.8053064275037369 \n",
      " recall:0.5486950986632718 \n",
      ", 'Validation':  best_epoch_indx:2\n",
      " auc:0.8244693980661908 \n",
      " apur:0.7854095262054326 \n",
      " f1:0.6406570841889117 \n",
      " precision:0.7959183673469388 \n",
      " recall:0.5360824742268041 \n",
      ", 'Test':  best_epoch_indx:2\n",
      " auc:0.8240167493059198 \n",
      " apur:0.7912874117510377 \n",
      " f1:0.6373687119955778 \n",
      " precision:0.802924791086351 \n",
      " recall:0.5284142988084326 \n",
      "}\n",
      "=====Epoch 3\n",
      "Training...\n",
      "Evaluating...\n"
     ]
    },
    {
     "name": "stderr",
     "output_type": "stream",
     "text": [
      "Iteration:  35%|███▌      | 22/62 [00:01<00:01, 20.88it/s]\n",
      "Iteration:  45%|████▌     | 28/62 [00:02<00:03, 11.30it/s]\n",
      "Iteration:  50%|█████     | 9/18 [00:00<00:00, 13.11it/s]]\n",
      "Iteration:  87%|████████▋ | 54/62 [00:04<00:00, 11.04it/s]\n",
      "Iteration:  94%|█████████▎| 58/62 [00:05<00:00, 11.14it/s]\n",
      "Iteration:  97%|█████████▋| 60/62 [00:05<00:00, 11.15it/s]"
     ]
    },
    {
     "name": "stdout",
     "output_type": "stream",
     "text": [
      "{'Train':  best_epoch_indx:3\n",
      " auc:0.8435208232953215 \n",
      " apur:0.8146476931235224 \n",
      " f1:0.7299975827894609 \n",
      " precision:0.6948119176348786 \n",
      " recall:0.7689369828134945 \n",
      ", 'Validation':  best_epoch_indx:3\n",
      " auc:0.8299779004246359 \n",
      " apur:0.794387972863783 \n",
      " f1:0.7227993439037725 \n",
      " precision:0.6914225941422594 \n",
      " recall:0.7571592210767468 \n",
      ", 'Test':  best_epoch_indx:3\n",
      " auc:0.8312921454076357 \n",
      " apur:0.8008043510985241 \n",
      " f1:0.7193248214672149 \n",
      " precision:0.6814268142681427 \n",
      " recall:0.7616865261228231 \n",
      "}\n",
      "=====Epoch 4\n",
      "Training...\n"
     ]
    },
    {
     "name": "stderr",
     "output_type": "stream",
     "text": [
      "\r",
      "Iteration:   6%|▋         | 4/62 [00:00<00:04, 11.71it/s]\r",
      "Iteration: 100%|██████████| 62/62 [00:05<00:00, 11.25it/s]\r",
      "Iteration: 100%|██████████| 62/62 [00:05<00:00, 11.22it/s]\n",
      "\r",
      "Iteration:   0%|          | 0/62 [00:00<?, ?it/s]\r",
      "Iteration:   5%|▍         | 3/62 [00:00<00:02, 20.57it/s]\r",
      "Iteration:  10%|▉         | 6/62 [00:00<00:04, 11.88it/s]"
     ]
    },
    {
     "name": "stdout",
     "output_type": "stream",
     "text": [
      "Evaluating...\n"
     ]
    },
    {
     "name": "stderr",
     "output_type": "stream",
     "text": [
      "Iteration:  19%|█▉        | 12/62 [00:01<00:04, 12.08it/s]\n",
      "Iteration:  34%|███▍      | 21/62 [00:01<00:01, 21.19it/s]"
     ]
    },
    {
     "name": "stdout",
     "output_type": "stream",
     "text": [
      "{'Train':  best_epoch_indx:3\n",
      " auc:0.8449255239523186 \n",
      " apur:0.8083500112816143 \n",
      " f1:0.7302631578947368 \n",
      " precision:0.7001518514192268 \n",
      " recall:0.7630808402291535 \n",
      ", 'Validation':  best_epoch_indx:3\n",
      " auc:0.8235071216170873 \n",
      " apur:0.7805575138852847 \n",
      " f1:0.7096774193548387 \n",
      " precision:0.6788702928870293 \n",
      " recall:0.7434135166093929 \n",
      ", 'Test':  best_epoch_indx:3\n",
      " auc:0.837544714262472 \n",
      " apur:0.803104247813301 \n",
      " f1:0.7265590928914086 \n",
      " precision:0.6930116472545758 \n",
      " recall:0.763519706691109 \n",
      "}\n",
      "=====Epoch 4\n",
      "Training...\n"
     ]
    },
    {
     "name": "stderr",
     "output_type": "stream",
     "text": [
      "\n",
      "Iteration:  61%|██████▏   | 38/62 [00:03<00:01, 12.51it/s]\n",
      "Iteration:  68%|██████▊   | 42/62 [00:03<00:01, 12.50it/s]\n",
      "Iteration: 100%|██████████| 7/7 [00:00<00:00, 21.41it/s]\n",
      "Iteration:  17%|█▋        | 3/18 [00:00<00:00, 20.59it/s]]\n",
      "Iteration:   0%|          | 0/7 [00:00<?, ?it/s]"
     ]
    },
    {
     "name": "stdout",
     "output_type": "stream",
     "text": [
      "{'Train':  best_epoch_indx:3\n",
      " auc:0.8411579772991611 \n",
      " apur:0.8051126492373524 \n",
      " f1:0.7293505865279962 \n",
      " precision:0.6945756075089254 \n",
      " recall:0.7677912157861235 \n",
      ", 'Validation':  best_epoch_indx:3\n",
      " auc:0.8196744073032735 \n",
      " apur:0.779553240642283 \n",
      " f1:0.7142857142857143 \n",
      " precision:0.6815816857440167 \n",
      " recall:0.7502863688430699 \n",
      ", 'Test':  best_epoch_indx:3\n",
      " auc:0.8317127893663181 \n",
      " apur:0.7882459876656465 \n",
      " f1:0.7175572519083969 \n",
      " precision:0.6845609654598419 \n",
      " recall:0.7538955087076077 \n",
      "}\n",
      "=====Epoch 4\n",
      "Training...\n"
     ]
    },
    {
     "name": "stderr",
     "output_type": "stream",
     "text": [
      "Iteration: 100%|██████████| 7/7 [00:00<00:00, 20.75it/s]s]\n",
      "Iteration:  52%|█████▏    | 32/62 [00:02<00:02, 11.71it/s]"
     ]
    },
    {
     "name": "stdout",
     "output_type": "stream",
     "text": [
      "{'Train':  best_epoch_indx:3\n",
      " auc:0.8454408213890803 \n",
      " apur:0.8185089559854872 \n",
      " f1:0.7218800214247457 \n",
      " precision:0.7613331450360119 \n",
      " recall:0.6863144493952896 \n",
      ", 'Validation':  best_epoch_indx:3\n",
      " auc:0.8248685788777427 \n",
      " apur:0.7930386188488736 \n",
      " f1:0.701627486437613 \n",
      " precision:0.7404580152671756 \n",
      " recall:0.6666666666666666 \n",
      ", 'Test':  best_epoch_indx:3\n",
      " auc:0.8353823607772216 \n",
      " apur:0.8044137590028317 \n",
      " f1:0.7052656659518705 \n",
      " precision:0.7344913151364765 \n",
      " recall:0.6782768102658112 \n",
      "}\n",
      "=====Epoch 4\n",
      "Training...\n"
     ]
    },
    {
     "name": "stderr",
     "output_type": "stream",
     "text": [
      "Iteration: 100%|██████████| 62/62 [00:04<00:00, 12.40it/s]\n",
      "Iteration:   0%|          | 0/62 [00:00<?, ?it/s]"
     ]
    },
    {
     "name": "stdout",
     "output_type": "stream",
     "text": [
      "Evaluating...\n"
     ]
    },
    {
     "name": "stderr",
     "output_type": "stream",
     "text": [
      "Iteration: 100%|██████████| 62/62 [00:05<00:00, 11.75it/s]\n",
      "Iteration:  52%|█████▏    | 32/62 [00:02<00:02, 11.94it/s]"
     ]
    },
    {
     "name": "stdout",
     "output_type": "stream",
     "text": [
      "Evaluating...\n"
     ]
    },
    {
     "name": "stderr",
     "output_type": "stream",
     "text": [
      "Iteration:  44%|████▎     | 27/62 [00:01<00:01, 22.41it/s]\n",
      "Iteration: 100%|██████████| 62/62 [00:05<00:00, 12.29it/s]\n",
      "Iteration:   5%|▍         | 3/62 [00:00<00:02, 20.76it/s]]"
     ]
    },
    {
     "name": "stdout",
     "output_type": "stream",
     "text": [
      "Evaluating...\n"
     ]
    },
    {
     "name": "stderr",
     "output_type": "stream",
     "text": [
      "Iteration:  87%|████████▋ | 54/62 [00:02<00:00, 22.22it/s]\n",
      "Iteration: 100%|██████████| 62/62 [00:05<00:00, 11.94it/s]\n",
      "Iteration:  92%|█████████▏| 57/62 [00:02<00:00, 22.17it/s]"
     ]
    },
    {
     "name": "stdout",
     "output_type": "stream",
     "text": [
      "Evaluating...\n"
     ]
    },
    {
     "name": "stderr",
     "output_type": "stream",
     "text": [
      "Iteration:  10%|▉         | 6/62 [00:00<00:02, 21.60it/s]]\n",
      "Iteration:  34%|███▍      | 21/62 [00:00<00:01, 21.57it/s]\n",
      "Iteration:   3%|▎         | 2/62 [00:00<00:05, 11.38it/s]"
     ]
    },
    {
     "name": "stdout",
     "output_type": "stream",
     "text": [
      "{'Train':  best_epoch_indx:3\n",
      " auc:0.8415075512132615 \n",
      " apur:0.8090610739303252 \n",
      " f1:0.7118551789846196 \n",
      " precision:0.764731685918994 \n",
      " recall:0.6658179503500955 \n",
      ", 'Validation':  best_epoch_indx:3\n",
      " auc:0.83708216182443 \n",
      " apur:0.8039355854472682 \n",
      " f1:0.7044181705040448 \n",
      " precision:0.771117166212534 \n",
      " recall:0.6483390607101948 \n",
      ", 'Test':  best_epoch_indx:3\n",
      " auc:0.8368381308967487 \n",
      " apur:0.8060614946570954 \n",
      " f1:0.7079122504313533 \n",
      " precision:0.7658666666666667 \n",
      " recall:0.6581118240146654 \n",
      "}\n",
      "=====Epoch 4\n",
      "Training...\n"
     ]
    },
    {
     "name": "stderr",
     "output_type": "stream",
     "text": [
      "Iteration:  87%|████████▋ | 54/62 [00:02<00:00, 21.92it/s]\n",
      "Iteration:  48%|████▊     | 30/62 [00:02<00:02, 11.31it/s]\n",
      "Iteration:  68%|██████▊   | 42/62 [00:03<00:01, 11.27it/s]\n",
      "Iteration: 100%|██████████| 7/7 [00:00<00:00, 22.00it/s]s]\n",
      "Iteration:   3%|▎         | 2/62 [00:00<00:04, 12.22it/s]]"
     ]
    },
    {
     "name": "stdout",
     "output_type": "stream",
     "text": [
      "{'Train':  best_epoch_indx:4\n",
      " auc:0.8543358762069956 \n",
      " apur:0.8234479241938084 \n",
      " f1:0.7295305676855895 \n",
      " precision:0.7860608734009704 \n",
      " recall:0.6805856142584341 \n",
      ", 'Validation':  best_epoch_indx:4\n",
      " auc:0.8391147056668247 \n",
      " apur:0.8065431934159328 \n",
      " f1:0.7108359133126936 \n",
      " precision:0.7735849056603774 \n",
      " recall:0.6575028636884307 \n",
      ", 'Test':  best_epoch_indx:4\n",
      " auc:0.8415642832233117 \n",
      " apur:0.8106452263248806 \n",
      " f1:0.7189349112426036 \n",
      " precision:0.7780149413020278 \n",
      " recall:0.6681943171402384 \n",
      "}\n",
      "=====Epoch 5\n",
      "Training...\n"
     ]
    },
    {
     "name": "stderr",
     "output_type": "stream",
     "text": [
      "Iteration: 100%|██████████| 62/62 [00:05<00:00, 11.16it/s]\n",
      "Iteration:   0%|          | 0/62 [00:00<?, ?it/s]"
     ]
    },
    {
     "name": "stdout",
     "output_type": "stream",
     "text": [
      "Evaluating...\n"
     ]
    },
    {
     "name": "stderr",
     "output_type": "stream",
     "text": [
      "\n",
      "Iteration: 100%|██████████| 7/7 [00:00<00:00, 22.08it/s]]]\n",
      "Iteration:  35%|███▌      | 22/62 [00:01<00:03, 12.38it/s]"
     ]
    },
    {
     "name": "stdout",
     "output_type": "stream",
     "text": [
      "{'Train':  best_epoch_indx:4\n",
      " auc:0.8566601325831443 \n",
      " apur:0.8274741467460525 \n",
      " f1:0.741073485372034 \n",
      " precision:0.6766221474392681 \n",
      " recall:0.8190961171228517 \n",
      ", 'Validation':  best_epoch_indx:4\n",
      " auc:0.8373588886189116 \n",
      " apur:0.7991510840062054 \n",
      " f1:0.7268067657611481 \n",
      " precision:0.6576994434137291 \n",
      " recall:0.8121420389461627 \n",
      ", 'Test':  best_epoch_indx:4\n",
      " auc:0.8531414133025683 \n",
      " apur:0.8220186017016288 \n",
      " f1:0.7378439892406373 \n",
      " precision:0.6725763862693324 \n",
      " recall:0.8171402383134739 \n",
      "}\n",
      "=====Epoch 5\n",
      "Training...\n"
     ]
    },
    {
     "name": "stderr",
     "output_type": "stream",
     "text": [
      "Iteration:  32%|███▏      | 20/62 [00:01<00:03, 11.67it/s]\n",
      "Iteration: 100%|██████████| 7/7 [00:00<00:00, 22.17it/s]s]\n",
      "Iteration:  87%|████████▋ | 54/62 [00:02<00:00, 21.12it/s]"
     ]
    },
    {
     "name": "stdout",
     "output_type": "stream",
     "text": [
      "{'Train':  best_epoch_indx:4\n",
      " auc:0.8504763667462084 \n",
      " apur:0.8257563535986461 \n",
      " f1:0.7326134464584138 \n",
      " precision:0.7398416201479943 \n",
      " recall:0.7255251432208785 \n",
      ", 'Validation':  best_epoch_indx:4\n",
      " auc:0.8376626131494402 \n",
      " apur:0.7993655969561037 \n",
      " f1:0.7279110590988883 \n",
      " precision:0.7440191387559809 \n",
      " recall:0.7124856815578465 \n",
      ", 'Test':  best_epoch_indx:4\n",
      " auc:0.8410015214781486 \n",
      " apur:0.8103692959069835 \n",
      " f1:0.7252085264133457 \n",
      " precision:0.7333645735707591 \n",
      " recall:0.7172318973418882 \n",
      "}\n",
      "=====Epoch 5\n",
      "Training...\n"
     ]
    },
    {
     "name": "stderr",
     "output_type": "stream",
     "text": [
      "\n",
      "Iteration: 100%|██████████| 7/7 [00:00<00:00, 22.27it/s]s]\n",
      "Iteration:  10%|▉         | 6/62 [00:00<00:04, 12.12it/s]]"
     ]
    },
    {
     "name": "stdout",
     "output_type": "stream",
     "text": [
      "{'Train':  best_epoch_indx:4\n",
      " auc:0.8631970484679341 \n",
      " apur:0.8374261219968283 \n",
      " f1:0.7450879340333698 \n",
      " precision:0.7541731872717788 \n",
      " recall:0.7362189688096754 \n",
      ", 'Validation':  best_epoch_indx:4\n",
      " auc:0.84153968088676 \n",
      " apur:0.8103328752208899 \n",
      " f1:0.7289829512051734 \n",
      " precision:0.748792270531401 \n",
      " recall:0.7101947308132875 \n",
      ", 'Test':  best_epoch_indx:4\n",
      " auc:0.8482810767790232 \n",
      " apur:0.8183758084826739 \n",
      " f1:0.7271461716937354 \n",
      " precision:0.7363721804511278 \n",
      " recall:0.7181484876260311 \n",
      "}\n",
      "=====Epoch 5\n",
      "Training...\n"
     ]
    },
    {
     "name": "stderr",
     "output_type": "stream",
     "text": [
      "Iteration:   3%|▎         | 2/62 [00:00<00:04, 12.62it/s]]\n",
      "Iteration: 100%|██████████| 62/62 [00:05<00:00, 12.37it/s]\n",
      "Iteration:   0%|          | 0/62 [00:00<?, ?it/s]"
     ]
    },
    {
     "name": "stdout",
     "output_type": "stream",
     "text": [
      "Evaluating...\n"
     ]
    },
    {
     "name": "stderr",
     "output_type": "stream",
     "text": [
      "Iteration:  19%|█▉        | 12/62 [00:00<00:03, 12.56it/s]\n",
      "Iteration: 100%|██████████| 7/7 [00:00<00:00, 23.29it/s]s]\n",
      "Iteration:  24%|██▍       | 15/62 [00:00<00:02, 21.82it/s]"
     ]
    },
    {
     "name": "stdout",
     "output_type": "stream",
     "text": [
      "{'Train':  best_epoch_indx:4\n",
      " auc:0.8391321538240764 \n",
      " apur:0.809766233918444 \n",
      " f1:0.7105227054465633 \n",
      " precision:0.7703406217462442 \n",
      " recall:0.6593252705283259 \n",
      ", 'Validation':  best_epoch_indx:4\n",
      " auc:0.842563666446828 \n",
      " apur:0.8123319279245101 \n",
      " f1:0.7229813664596272 \n",
      " precision:0.7896879240162822 \n",
      " recall:0.6666666666666666 \n",
      ", 'Test':  best_epoch_indx:4\n",
      " auc:0.8301544928514294 \n",
      " apur:0.8035412817721407 \n",
      " f1:0.6962815073621164 \n",
      " precision:0.7643835616438356 \n",
      " recall:0.6393217231897342 \n",
      "}\n",
      "=====Epoch 5\n",
      "Training...\n"
     ]
    },
    {
     "name": "stderr",
     "output_type": "stream",
     "text": [
      "Iteration: 100%|██████████| 62/62 [00:05<00:00, 11.32it/s]\n",
      "Iteration:  32%|███▏      | 20/62 [00:01<00:03, 11.76it/s]"
     ]
    },
    {
     "name": "stdout",
     "output_type": "stream",
     "text": [
      "Evaluating...\n"
     ]
    },
    {
     "name": "stderr",
     "output_type": "stream",
     "text": [
      "Iteration:  45%|████▌     | 28/62 [00:02<00:02, 11.83it/s]\n",
      "Iteration: 100%|██████████| 62/62 [00:05<00:00, 12.09it/s]\n",
      "Iteration:  65%|██████▍   | 40/62 [00:01<00:01, 21.69it/s]"
     ]
    },
    {
     "name": "stdout",
     "output_type": "stream",
     "text": [
      "Evaluating...\n"
     ]
    },
    {
     "name": "stderr",
     "output_type": "stream",
     "text": [
      "\r",
      "Iteration:   5%|▍         | 3/62 [00:00<00:02, 20.77it/s]\r",
      "Iteration:  68%|██████▊   | 42/62 [00:03<00:01, 11.71it/s]\r",
      "Iteration:  69%|██████▉   | 43/62 [00:02<00:00, 21.69it/s]\r",
      "Iteration: 100%|██████████| 62/62 [00:04<00:00, 12.72it/s]\r",
      "Iteration: 100%|██████████| 62/62 [00:04<00:00, 12.59it/s]\n",
      "\r",
      "Iteration:   0%|          | 0/62 [00:00<?, ?it/s]\r",
      "Iteration:  10%|▉         | 6/62 [00:00<00:02, 20.86it/s]"
     ]
    },
    {
     "name": "stdout",
     "output_type": "stream",
     "text": [
      "Evaluating...\n"
     ]
    },
    {
     "name": "stderr",
     "output_type": "stream",
     "text": [
      "Iteration:  44%|████▎     | 27/62 [00:01<00:01, 21.58it/s]\n",
      "Iteration: 100%|██████████| 62/62 [00:05<00:00, 11.72it/s]\n",
      "Iteration:  68%|██████▊   | 42/62 [00:01<00:00, 21.53it/s]"
     ]
    },
    {
     "name": "stdout",
     "output_type": "stream",
     "text": [
      "Evaluating...\n"
     ]
    },
    {
     "name": "stderr",
     "output_type": "stream",
     "text": [
      "Iteration:  39%|███▊      | 24/62 [00:01<00:01, 22.05it/s]\n",
      "Iteration:  44%|████▎     | 27/62 [00:01<00:01, 22.23it/s]\n",
      "Iteration:  87%|████████▋ | 54/62 [00:02<00:00, 21.38it/s]\n",
      "Iteration: 100%|██████████| 7/7 [00:00<00:00, 22.74it/s]s]"
     ]
    },
    {
     "name": "stdout",
     "output_type": "stream",
     "text": [
      "{'Train':  best_epoch_indx:5\n",
      " auc:0.8681242172435073 \n",
      " apur:0.8407499235273583 \n",
      " f1:0.7374965460071843 \n",
      " precision:0.8062226249811206 \n",
      " recall:0.6795671546785487 \n",
      ", 'Validation':  best_epoch_indx:5\n",
      " auc:0.8543260015195869 \n",
      " apur:0.8182419236084604 \n",
      " f1:0.7130434782608694 \n",
      " precision:0.7788331071913162 \n",
      " recall:0.6575028636884307 \n",
      ", 'Test':  best_epoch_indx:5\n",
      " auc:0.8581963077150978 \n",
      " apur:0.8280132804298925 \n",
      " f1:0.726686507936508 \n",
      " precision:0.7918918918918919 \n",
      " recall:0.6714023831347388 \n",
      "}\n",
      "=====Epoch 6\n",
      "Training...\n"
     ]
    },
    {
     "name": "stderr",
     "output_type": "stream",
     "text": [
      "\n",
      "Iteration:   0%|          | 0/62 [00:00<?, ?it/s]\n",
      "Iteration:  35%|███▌      | 22/62 [00:01<00:03, 11.53it/s]\n",
      "Iteration: 100%|██████████| 7/7 [00:00<00:00, 21.51it/s]s]\n",
      "Iteration:  45%|████▌     | 28/62 [00:02<00:02, 11.81it/s]"
     ]
    },
    {
     "name": "stdout",
     "output_type": "stream",
     "text": [
      "{'Train':  best_epoch_indx:5\n",
      " auc:0.8671792647250595 \n",
      " apur:0.8419891805938728 \n",
      " f1:0.7503045066991474 \n",
      " precision:0.7556818181818182 \n",
      " recall:0.7450031826861871 \n",
      ", 'Validation':  best_epoch_indx:5\n",
      " auc:0.8414664013174896 \n",
      " apur:0.8059271903093681 \n",
      " f1:0.7213872832369942 \n",
      " precision:0.7281213535589265 \n",
      " recall:0.7147766323024055 \n",
      ", 'Test':  best_epoch_indx:5\n",
      " auc:0.8556046146261136 \n",
      " apur:0.8286591824032967 \n",
      " f1:0.7417127071823205 \n",
      " precision:0.7451433857539316 \n",
      " recall:0.7383134738771769 \n",
      "}\n",
      "=====Epoch 6\n",
      "Training...\n"
     ]
    },
    {
     "name": "stderr",
     "output_type": "stream",
     "text": [
      "Iteration:  71%|███████   | 44/62 [00:03<00:01, 12.18it/s]\n",
      "Iteration:  86%|████████▌ | 6/7 [00:00<00:00, 22.06it/s]s]\n",
      "Iteration: 100%|██████████| 7/7 [00:00<00:00, 22.24it/s]\n",
      "Iteration:  43%|████▎     | 3/7 [00:00<00:00, 21.29it/s]s]"
     ]
    },
    {
     "name": "stdout",
     "output_type": "stream",
     "text": [
      "{'Train':  best_epoch_indx:5\n",
      " auc:0.8743906540375457 \n",
      " apur:0.8427697898480293 \n",
      " f1:0.7602951377940341 \n",
      " precision:0.7533116720819795 \n",
      " recall:0.7674092934436665 \n",
      ", 'Validation':  best_epoch_indx:5\n",
      " auc:0.8436079003089313 \n",
      " apur:0.8084429196727563 \n",
      " f1:0.7266514806378133 \n",
      " precision:0.7225368063420159 \n",
      " recall:0.7308132875143184 \n",
      ", 'Test':  best_epoch_indx:5\n",
      " auc:0.8564556018670163 \n",
      " apur:0.815712326591745 \n",
      " f1:0.7451156523691893 \n",
      " precision:0.7305151915455746 \n",
      " recall:0.7603116406966086 \n",
      "}\n",
      "=====Epoch 6\n",
      "Training...\n"
     ]
    },
    {
     "name": "stderr",
     "output_type": "stream",
     "text": [
      "\r",
      "Iteration:   3%|▎         | 2/62 [00:00<00:04, 12.09it/s]\r",
      "Iteration:  84%|████████▍ | 52/62 [00:04<00:00, 12.18it/s]\r",
      "Iteration:  86%|████████▌ | 6/7 [00:00<00:00, 21.57it/s]\r",
      "Iteration:  35%|███▌      | 22/62 [00:02<00:03, 10.33it/s]\r",
      "Iteration: 100%|██████████| 7/7 [00:00<00:00, 21.81it/s]\n",
      "\r",
      "Iteration:   0%|          | 0/62 [00:00<?, ?it/s]\r",
      "Iteration:   6%|▋         | 4/62 [00:00<00:04, 12.14it/s]"
     ]
    },
    {
     "name": "stdout",
     "output_type": "stream",
     "text": [
      "{'Train':  best_epoch_indx:5\n",
      " auc:0.8636375319124658 \n",
      " apur:0.8396302464958728 \n",
      " f1:0.7441920662654502 \n",
      " precision:0.7567780994998684 \n",
      " recall:0.732017823042648 \n",
      ", 'Validation':  best_epoch_indx:5\n",
      " auc:0.8389421129970959 \n",
      " apur:0.8065314377819282 \n",
      " f1:0.7123123123123123 \n",
      " precision:0.7487373737373737 \n",
      " recall:0.6792668957617412 \n",
      ", 'Test':  best_epoch_indx:5\n",
      " auc:0.851088026615066 \n",
      " apur:0.8209307062858354 \n",
      " f1:0.7292351008916003 \n",
      " precision:0.7471153846153846 \n",
      " recall:0.7121906507791017 \n",
      "}\n",
      "=====Epoch 6\n",
      "Training...\n"
     ]
    },
    {
     "name": "stderr",
     "output_type": "stream",
     "text": [
      "Iteration: 100%|██████████| 62/62 [00:05<00:00, 12.02it/s]\n",
      "Iteration:  48%|████▊     | 30/62 [00:02<00:03, 10.30it/s]"
     ]
    },
    {
     "name": "stdout",
     "output_type": "stream",
     "text": [
      "Evaluating...\n"
     ]
    },
    {
     "name": "stderr",
     "output_type": "stream",
     "text": [
      "Iteration:  29%|██▉       | 18/62 [00:01<00:03, 11.99it/s]\n",
      "Iteration:  29%|██▉       | 18/62 [00:00<00:01, 22.47it/s]"
     ]
    },
    {
     "name": "stdout",
     "output_type": "stream",
     "text": [
      "{'Train':  best_epoch_indx:5\n",
      " auc:0.8593935449526884 \n",
      " apur:0.8277260830058903 \n",
      " f1:0.7430356346018997 \n",
      " precision:0.7441266598569969 \n",
      " recall:0.7419478039465309 \n",
      ", 'Validation':  best_epoch_indx:5\n",
      " auc:0.8488068929076946 \n",
      " apur:0.8168939207589638 \n",
      " f1:0.7356188262638 \n",
      " precision:0.7464622641509434 \n",
      " recall:0.7250859106529209 \n",
      ", 'Test':  best_epoch_indx:5\n",
      " auc:0.851078313362738 \n",
      " apur:0.8242833082964021 \n",
      " f1:0.7271058067477623 \n",
      " precision:0.7282758620689656 \n",
      " recall:0.7259395050412466 \n",
      "}\n",
      "=====Epoch 6\n",
      "Training...\n"
     ]
    },
    {
     "name": "stderr",
     "output_type": "stream",
     "text": [
      "\n",
      "Iteration: 100%|██████████| 62/62 [00:05<00:00, 10.48it/s]\n",
      "Iteration:   0%|          | 0/62 [00:00<?, ?it/s]\n",
      "Iteration:   0%|          | 0/18 [00:00<?, ?it/s]"
     ]
    },
    {
     "name": "stdout",
     "output_type": "stream",
     "text": [
      "Evaluating...\n"
     ]
    },
    {
     "name": "stderr",
     "output_type": "stream",
     "text": [
      "Iteration: 100%|██████████| 62/62 [00:05<00:00, 12.34it/s]\n",
      "Iteration:   0%|          | 0/62 [00:00<?, ?it/s]"
     ]
    },
    {
     "name": "stdout",
     "output_type": "stream",
     "text": [
      "Evaluating...\n"
     ]
    },
    {
     "name": "stderr",
     "output_type": "stream",
     "text": [
      "Iteration: 100%|██████████| 62/62 [00:05<00:00, 12.19it/s]\n",
      "Iteration:  15%|█▍        | 9/62 [00:00<00:02, 22.53it/s]"
     ]
    },
    {
     "name": "stdout",
     "output_type": "stream",
     "text": [
      "Evaluating...\n"
     ]
    },
    {
     "name": "stderr",
     "output_type": "stream",
     "text": [
      "Iteration:  82%|████████▏ | 51/62 [00:02<00:00, 22.58it/s]\n",
      "Iteration: 100%|██████████| 62/62 [00:06<00:00, 10.24it/s]\n",
      "Iteration: 100%|██████████| 18/18 [00:00<00:00, 23.05it/s]"
     ]
    },
    {
     "name": "stdout",
     "output_type": "stream",
     "text": [
      "Evaluating...\n"
     ]
    },
    {
     "name": "stderr",
     "output_type": "stream",
     "text": [
      "Iteration:   6%|▋         | 4/62 [00:00<00:03, 18.14it/s]\n",
      "Iteration:  50%|█████     | 9/18 [00:00<00:00, 22.74it/s]]\n",
      "Iteration:  55%|█████▍    | 34/62 [00:01<00:01, 19.99it/s]\n",
      "Iteration:  66%|██████▌   | 41/62 [00:02<00:01, 19.50it/s]\n",
      "Iteration:   0%|          | 0/62 [00:00<?, ?it/s]"
     ]
    },
    {
     "name": "stdout",
     "output_type": "stream",
     "text": [
      "{'Train':  best_epoch_indx:6\n",
      " auc:0.8820224173777464 \n",
      " apur:0.8557191397214425 \n",
      " f1:0.7681218869030179 \n",
      " precision:0.7116178067318133 \n",
      " recall:0.834373010821133 \n",
      ", 'Validation':  best_epoch_indx:6\n",
      " auc:0.8635814039594109 \n",
      " apur:0.8322863833642932 \n",
      " f1:0.7409381663113007 \n",
      " precision:0.6929212362911267 \n",
      " recall:0.7961053837342497 \n",
      ", 'Test':  best_epoch_indx:6\n",
      " auc:0.8657966774373742 \n",
      " apur:0.8356071221588749 \n",
      " f1:0.7538071065989848 \n",
      " precision:0.6999214454045561 \n",
      " recall:0.8166819431714024 \n",
      "}\n",
      "=====Epoch 7\n",
      "Training...\n"
     ]
    },
    {
     "name": "stderr",
     "output_type": "stream",
     "text": [
      "Iteration:  26%|██▌       | 16/62 [00:01<00:03, 12.14it/s]\n",
      "Iteration:  55%|█████▍    | 34/62 [00:02<00:02, 12.14it/s]\n",
      "Iteration: 100%|██████████| 7/7 [00:00<00:00, 19.72it/s]s]\n",
      "Iteration:   0%|          | 0/62 [00:00<?, ?it/s]"
     ]
    },
    {
     "name": "stdout",
     "output_type": "stream",
     "text": [
      "{'Train':  best_epoch_indx:6\n",
      " auc:0.882624742541826 \n",
      " apur:0.8606157286382171 \n",
      " f1:0.7694501270844956 \n",
      " precision:0.749879168680522 \n",
      " recall:0.7900700190961171 \n",
      ", 'Validation':  best_epoch_indx:6\n",
      " auc:0.8512627226831122 \n",
      " apur:0.8216205590352141 \n",
      " f1:0.735195530726257 \n",
      " precision:0.7175572519083969 \n",
      " recall:0.7537227949599083 \n",
      ", 'Test':  best_epoch_indx:6\n",
      " auc:0.8669212167651124 \n",
      " apur:0.8432186236298093 \n",
      " f1:0.7525150905432596 \n",
      " precision:0.7346137058053251 \n",
      " recall:0.7713107241063245 \n",
      "}\n",
      "=====Epoch 7\n",
      "Training...\n"
     ]
    },
    {
     "name": "stderr",
     "output_type": "stream",
     "text": [
      "Iteration:  74%|███████▍  | 46/62 [00:03<00:01, 12.51it/s]\n",
      "Iteration:  84%|████████▍ | 52/62 [00:04<00:00, 12.16it/s]\n",
      "Iteration:  19%|█▉        | 12/62 [00:01<00:04, 10.99it/s]\n",
      "Iteration:  23%|██▎       | 14/62 [00:01<00:04, 11.14it/s]"
     ]
    },
    {
     "name": "stdout",
     "output_type": "stream",
     "text": [
      "{'Train':  best_epoch_indx:6\n",
      " auc:0.8828486440685032 \n",
      " apur:0.8591194200755087 \n",
      " f1:0.746120598030185 \n",
      " precision:0.8413231064237776 \n",
      " recall:0.6702737110120942 \n",
      ", 'Validation':  best_epoch_indx:6\n",
      " auc:0.8539461048052114 \n",
      " apur:0.8283592298699675 \n",
      " f1:0.711168164313222 \n",
      " precision:0.8087591240875912 \n",
      " recall:0.6345933562428407 \n",
      ", 'Test':  best_epoch_indx:6\n",
      " auc:0.8685577425637794 \n",
      " apur:0.8369526233533287 \n",
      " f1:0.7326932794340576 \n",
      " precision:0.8164414414414415 \n",
      " recall:0.6645279560036663 \n",
      "}\n",
      "=====Epoch 7\n",
      "Training...\n"
     ]
    },
    {
     "name": "stderr",
     "output_type": "stream",
     "text": [
      "\r",
      "Iteration:  86%|████████▌ | 6/7 [00:00<00:00, 21.98it/s]\r",
      "Iteration: 100%|██████████| 7/7 [00:00<00:00, 22.19it/s]\r",
      "Iteration:  90%|█████████ | 56/62 [00:04<00:00, 12.30it/s]\n",
      "\r",
      "Iteration:   0%|          | 0/62 [00:00<?, ?it/s]\r",
      "Iteration:   6%|▋         | 4/62 [00:00<00:04, 11.82it/s]\r",
      "Iteration:  26%|██▌       | 16/62 [00:01<00:04, 11.21it/s]"
     ]
    },
    {
     "name": "stdout",
     "output_type": "stream",
     "text": [
      "{'Train':  best_epoch_indx:6\n",
      " auc:0.8817241101475614 \n",
      " apur:0.8575128853017591 \n",
      " f1:0.76162215628091 \n",
      " precision:0.7900136798905609 \n",
      " recall:0.73520050922979 \n",
      ", 'Validation':  best_epoch_indx:6\n",
      " auc:0.8559882906961945 \n",
      " apur:0.8223869033755804 \n",
      " f1:0.7369054786273328 \n",
      " precision:0.7766497461928934 \n",
      " recall:0.7010309278350515 \n",
      ", 'Test':  best_epoch_indx:6\n",
      " auc:0.8625832106583711 \n",
      " apur:0.833461415473717 \n",
      " f1:0.7424861745611925 \n",
      " precision:0.7809812847749115 \n",
      " recall:0.7076076993583869 \n",
      "}\n",
      "=====Epoch 7\n",
      "Training...\n"
     ]
    },
    {
     "name": "stderr",
     "output_type": "stream",
     "text": [
      "Iteration: 100%|██████████| 62/62 [00:05<00:00, 12.24it/s]\n",
      "Iteration:  35%|███▌      | 22/62 [00:01<00:03, 11.38it/s]"
     ]
    },
    {
     "name": "stdout",
     "output_type": "stream",
     "text": [
      "Evaluating...\n"
     ]
    },
    {
     "name": "stderr",
     "output_type": "stream",
     "text": [
      "Iteration:  52%|█████▏    | 32/62 [00:02<00:02, 11.94it/s]\n",
      "Iteration:  82%|████████▏ | 51/62 [00:02<00:00, 22.04it/s]\n",
      "Iteration:  77%|███████▋  | 48/62 [00:04<00:01, 11.34it/s]"
     ]
    },
    {
     "name": "stdout",
     "output_type": "stream",
     "text": [
      "{'Train':  best_epoch_indx:6\n",
      " auc:0.8776575608297967 \n",
      " apur:0.8524284031255835 \n",
      " f1:0.7555051381289204 \n",
      " precision:0.7938578039545646 \n",
      " recall:0.7206874602164227 \n",
      ", 'Validation':  best_epoch_indx:6\n",
      " auc:0.8632063282693294 \n",
      " apur:0.834993941169917 \n",
      " f1:0.7324455205811139 \n",
      " precision:0.7766367137355584 \n",
      " recall:0.693012600229095 \n",
      ", 'Test':  best_epoch_indx:6\n",
      " auc:0.8676385281579067 \n",
      " apur:0.8445641246933677 \n",
      " f1:0.7518724329548201 \n",
      " precision:0.795094532447624 \n",
      " recall:0.7131072410632447 \n",
      "}\n",
      "=====Epoch 7\n",
      "Training...\n"
     ]
    },
    {
     "name": "stderr",
     "output_type": "stream",
     "text": [
      "Iteration:  87%|████████▋ | 54/62 [00:04<00:00, 11.43it/s]\n",
      "Iteration: 100%|██████████| 62/62 [00:05<00:00, 11.36it/s]\n",
      "Iteration:  87%|████████▋ | 54/62 [00:04<00:00, 12.45it/s]"
     ]
    },
    {
     "name": "stdout",
     "output_type": "stream",
     "text": [
      "Evaluating...\n"
     ]
    },
    {
     "name": "stderr",
     "output_type": "stream",
     "text": [
      "Iteration: 100%|██████████| 62/62 [00:05<00:00, 12.16it/s]\n",
      "Iteration:   5%|▍         | 3/62 [00:00<00:02, 22.58it/s]]"
     ]
    },
    {
     "name": "stdout",
     "output_type": "stream",
     "text": [
      "Evaluating...\n"
     ]
    },
    {
     "name": "stderr",
     "output_type": "stream",
     "text": [
      "\r",
      "Iteration:  97%|█████████▋| 60/62 [00:04<00:00, 11.98it/s]\r",
      "Iteration:  42%|████▏     | 26/62 [00:02<00:03, 11.77it/s]\r",
      "Iteration:  34%|███▍      | 21/62 [00:00<00:01, 21.68it/s]\r",
      "Iteration:  10%|▉         | 6/62 [00:00<00:02, 22.60it/s]\r",
      "Iteration: 100%|██████████| 62/62 [00:05<00:00, 12.13it/s]\r",
      "Iteration: 100%|██████████| 62/62 [00:05<00:00, 12.10it/s]\n",
      "\r",
      "Iteration:   0%|          | 0/62 [00:00<?, ?it/s]\r",
      "Iteration:  45%|████▌     | 28/62 [00:02<00:02, 11.77it/s]\r",
      "Iteration:  39%|███▊      | 24/62 [00:01<00:01, 21.72it/s]"
     ]
    },
    {
     "name": "stdout",
     "output_type": "stream",
     "text": [
      "Evaluating...\n"
     ]
    },
    {
     "name": "stderr",
     "output_type": "stream",
     "text": [
      "Iteration:  81%|████████  | 50/62 [00:04<00:01, 11.73it/s]\n",
      "Iteration:  67%|██████▋   | 12/18 [00:00<00:00, 22.11it/s]\n",
      "Iteration: 100%|██████████| 62/62 [00:05<00:00, 11.65it/s]\n",
      "Iteration:   5%|▍         | 3/62 [00:00<00:02, 22.13it/s]]\n",
      "Iteration:   0%|          | 0/18 [00:00<?, ?it/s]"
     ]
    },
    {
     "name": "stdout",
     "output_type": "stream",
     "text": [
      "Evaluating...\n"
     ]
    },
    {
     "name": "stderr",
     "output_type": "stream",
     "text": [
      "Iteration:  83%|████████▎ | 15/18 [00:00<00:00, 21.32it/s]\n",
      "Iteration:  44%|████▎     | 27/62 [00:01<00:01, 21.67it/s]\n",
      "Iteration:   0%|          | 0/62 [00:00<?, ?it/s]"
     ]
    },
    {
     "name": "stdout",
     "output_type": "stream",
     "text": [
      "{'Train':  best_epoch_indx:7\n",
      " auc:0.8874077463169542 \n",
      " apur:0.86462986058482 \n",
      " f1:0.773623041940374 \n",
      " precision:0.7677071580794785 \n",
      " recall:0.7796308084022915 \n",
      ", 'Validation':  best_epoch_indx:7\n",
      " auc:0.8708322244977457 \n",
      " apur:0.8441579774080563 \n",
      " f1:0.7491369390103567 \n",
      " precision:0.7526011560693642 \n",
      " recall:0.7457044673539519 \n",
      ", 'Test':  best_epoch_indx:7\n",
      " auc:0.8738575797695871 \n",
      " apur:0.8464084709754318 \n",
      " f1:0.7609242736215969 \n",
      " precision:0.7597076290543627 \n",
      " recall:0.7621448212648946 \n",
      "}\n",
      "=====Epoch 8\n",
      "Training...\n"
     ]
    },
    {
     "name": "stderr",
     "output_type": "stream",
     "text": [
      "Iteration:  32%|███▏      | 20/62 [00:01<00:03, 12.10it/s]\n",
      "Iteration:  65%|██████▍   | 40/62 [00:03<00:01, 11.63it/s]\n",
      "Iteration: 100%|██████████| 7/7 [00:00<00:00, 22.26it/s]s]\n",
      "Iteration:   0%|          | 0/7 [00:00<?, ?it/s]\n",
      "Iteration:   3%|▎         | 2/62 [00:00<00:05, 10.88it/s]]"
     ]
    },
    {
     "name": "stdout",
     "output_type": "stream",
     "text": [
      "{'Train':  best_epoch_indx:7\n",
      " auc:0.8956898449981213 \n",
      " apur:0.8739223190486914 \n",
      " f1:0.7807237768660829 \n",
      " precision:0.7521236432279377 \n",
      " recall:0.8115849777211966 \n",
      ", 'Validation':  best_epoch_indx:7\n",
      " auc:0.8671643892147901 \n",
      " apur:0.8317040504759105 \n",
      " f1:0.7497219132369299 \n",
      " precision:0.7286486486486486 \n",
      " recall:0.7720504009163803 \n",
      ", 'Test':  best_epoch_indx:7\n",
      " auc:0.8790324647078781 \n",
      " apur:0.8546904181962168 \n",
      " f1:0.7605070046697798 \n",
      " precision:0.7386609071274298 \n",
      " recall:0.7836846929422548 \n",
      "}\n",
      "=====Epoch 8\n",
      "Training...\n"
     ]
    },
    {
     "name": "stderr",
     "output_type": "stream",
     "text": [
      "\r",
      "Iteration:  86%|████████▌ | 6/7 [00:00<00:00, 21.21it/s]\r",
      "Iteration:  77%|███████▋  | 48/62 [00:04<00:01, 12.04it/s]\r",
      "Iteration: 100%|██████████| 7/7 [00:00<00:00, 21.48it/s]\n",
      "\r",
      "Iteration:   0%|          | 0/62 [00:00<?, ?it/s]\r",
      "Iteration:   6%|▋         | 4/62 [00:00<00:05, 11.19it/s]\r",
      "Iteration:  81%|████████  | 50/62 [00:04<00:00, 12.07it/s]"
     ]
    },
    {
     "name": "stdout",
     "output_type": "stream",
     "text": [
      "{'Train':  best_epoch_indx:7\n",
      " auc:0.8941766905899073 \n",
      " apur:0.8732009361581541 \n",
      " f1:0.7823997976988242 \n",
      " precision:0.7770940600276278 \n",
      " recall:0.7877784850413749 \n",
      ", 'Validation':  best_epoch_indx:7\n",
      " auc:0.8687717187144449 \n",
      " apur:0.8423251867391387 \n",
      " f1:0.750709823963657 \n",
      " precision:0.7443693693693694 \n",
      " recall:0.7571592210767468 \n",
      ", 'Test':  best_epoch_indx:7\n",
      " auc:0.8758519519915385 \n",
      " apur:0.8493781845247306 \n",
      " f1:0.7635711081202333 \n",
      " precision:0.7478031634446397 \n",
      " recall:0.7800183318056828 \n",
      "}\n",
      "=====Epoch 8\n",
      "Training...\n"
     ]
    },
    {
     "name": "stderr",
     "output_type": "stream",
     "text": [
      "Iteration:  10%|▉         | 6/62 [00:00<00:04, 11.49it/s]]\n",
      "Iteration: 100%|██████████| 7/7 [00:00<00:00, 21.27it/s]s]\n",
      "Iteration:  19%|█▉        | 12/62 [00:01<00:04, 11.98it/s]"
     ]
    },
    {
     "name": "stdout",
     "output_type": "stream",
     "text": [
      "{'Train':  best_epoch_indx:7\n",
      " auc:0.8956326780554964 \n",
      " apur:0.8734223325839153 \n",
      " f1:0.7860003697085464 \n",
      " precision:0.7616431812753761 \n",
      " recall:0.8119669000636537 \n",
      ", 'Validation':  best_epoch_indx:7\n",
      " auc:0.8618198016823445 \n",
      " apur:0.8278619952980351 \n",
      " f1:0.7538374076179648 \n",
      " precision:0.7483069977426636 \n",
      " recall:0.7594501718213058 \n",
      ", 'Test':  best_epoch_indx:7\n",
      " auc:0.8716535196141062 \n",
      " apur:0.8425027299804914 \n",
      " f1:0.76067615658363 \n",
      " precision:0.7389801210025929 \n",
      " recall:0.7836846929422548 \n",
      "}\n",
      "=====Epoch 8\n",
      "Training...\n",
      "Evaluating...\n"
     ]
    },
    {
     "name": "stderr",
     "output_type": "stream",
     "text": [
      "Iteration: 100%|██████████| 62/62 [00:05<00:00, 12.03it/s]\n",
      "Iteration:  61%|██████▏   | 38/62 [00:03<00:02, 11.31it/s]\n",
      "Iteration:  68%|██████▊   | 42/62 [00:03<00:01, 11.19it/s]\n",
      "Iteration:  68%|██████▊   | 42/62 [00:03<00:01, 12.20it/s]"
     ]
    },
    {
     "name": "stdout",
     "output_type": "stream",
     "text": [
      "{'Train':  best_epoch_indx:7\n",
      " auc:0.8888930444760298 \n",
      " apur:0.8653431331112962 \n",
      " f1:0.7628992628992629 \n",
      " precision:0.8222745328821539 \n",
      " recall:0.7115213239974538 \n",
      ", 'Validation':  best_epoch_indx:7\n",
      " auc:0.8729959002009403 \n",
      " apur:0.8466954044852721 \n",
      " f1:0.7333333333333333 \n",
      " precision:0.8131101813110181 \n",
      " recall:0.6678121420389461 \n",
      ", 'Test':  best_epoch_indx:7\n",
      " auc:0.8783420119727869 \n",
      " apur:0.857898827735452 \n",
      " f1:0.7527894867344408 \n",
      " precision:0.820097244732577 \n",
      " recall:0.6956920256645279 \n",
      "}\n",
      "=====Epoch 8\n",
      "Training...\n"
     ]
    },
    {
     "name": "stderr",
     "output_type": "stream",
     "text": [
      "Iteration:  81%|████████  | 50/62 [00:04<00:01, 11.35it/s]\n",
      "Iteration: 100%|██████████| 62/62 [00:05<00:00, 12.24it/s]\n",
      "Iteration:  32%|███▏      | 20/62 [00:01<00:03, 11.27it/s]\n",
      "Iteration:  84%|████████▍ | 52/62 [00:04<00:00, 12.02it/s]"
     ]
    },
    {
     "name": "stdout",
     "output_type": "stream",
     "text": [
      "Evaluating...\n",
      "Evaluating...\n"
     ]
    },
    {
     "name": "stderr",
     "output_type": "stream",
     "text": [
      "Iteration: 100%|██████████| 62/62 [00:05<00:00, 11.97it/s]\n",
      "Iteration:  39%|███▊      | 24/62 [00:01<00:01, 22.93it/s]"
     ]
    },
    {
     "name": "stdout",
     "output_type": "stream",
     "text": [
      "Evaluating...\n"
     ]
    },
    {
     "name": "stderr",
     "output_type": "stream",
     "text": [
      "Iteration:  94%|█████████▎| 58/62 [00:02<00:00, 21.66it/s]\n",
      "Iteration:  73%|███████▎  | 45/62 [00:02<00:00, 20.91it/s]\n",
      "Iteration: 100%|██████████| 62/62 [00:05<00:00, 11.35it/s]\n",
      "Iteration:  97%|█████████▋| 60/62 [00:02<00:00, 20.93it/s]"
     ]
    },
    {
     "name": "stdout",
     "output_type": "stream",
     "text": [
      "Evaluating...\n"
     ]
    },
    {
     "name": "stderr",
     "output_type": "stream",
     "text": [
      "Iteration:  10%|▉         | 6/62 [00:00<00:02, 21.56it/s]]\n",
      "Iteration:  24%|██▍       | 15/62 [00:00<00:02, 21.77it/s]\n",
      "Iteration: 100%|██████████| 7/7 [00:00<00:00, 22.17it/s]s]\n",
      "Iteration:   3%|▎         | 2/62 [00:00<00:04, 12.02it/s]]"
     ]
    },
    {
     "name": "stdout",
     "output_type": "stream",
     "text": [
      "{'Train':  best_epoch_indx:8\n",
      " auc:0.8985345410926203 \n",
      " apur:0.8761192134450532 \n",
      " f1:0.7805166633800038 \n",
      " precision:0.8068768687143245 \n",
      " recall:0.7558243157224698 \n",
      ", 'Validation':  best_epoch_indx:8\n",
      " auc:0.8759425102494975 \n",
      " apur:0.848262779060063 \n",
      " f1:0.744578313253012 \n",
      " precision:0.7852604828462516 \n",
      " recall:0.7079037800687286 \n",
      ", 'Test':  best_epoch_indx:8\n",
      " auc:0.8808969622901794 \n",
      " apur:0.8550716691909271 \n",
      " f1:0.7627158741424178 \n",
      " precision:0.7882640586797066 \n",
      " recall:0.7387717690192483 \n",
      "}\n",
      "=====Epoch 9\n",
      "Training...\n"
     ]
    },
    {
     "name": "stderr",
     "output_type": "stream",
     "text": [
      "Iteration:  35%|███▌      | 22/62 [00:01<00:03, 11.88it/s]\n",
      "Iteration:  58%|█████▊    | 36/62 [00:02<00:02, 12.07it/s]\n",
      "Iteration: 100%|██████████| 7/7 [00:00<00:00, 22.45it/s]s]\n",
      "Iteration:   0%|          | 0/62 [00:00<?, ?it/s]"
     ]
    },
    {
     "name": "stdout",
     "output_type": "stream",
     "text": [
      "{'Train':  best_epoch_indx:8\n",
      " auc:0.9038176752516822 \n",
      " apur:0.8837992869888951 \n",
      " f1:0.782207130730051 \n",
      " precision:0.8382823871906842 \n",
      " recall:0.7331635900700191 \n",
      ", 'Validation':  best_epoch_indx:8\n",
      " auc:0.87311064057914 \n",
      " apur:0.8498659673947045 \n",
      " f1:0.7428571428571429 \n",
      " precision:0.8113975576662144 \n",
      " recall:0.6849942726231386 \n",
      ", 'Test':  best_epoch_indx:8\n",
      " auc:0.8833312391812864 \n",
      " apur:0.8564627868514001 \n",
      " f1:0.7632594021215043 \n",
      " precision:0.8051881993896236 \n",
      " recall:0.7254812098991751 \n",
      "}\n",
      "=====Epoch 9\n",
      "Training...\n"
     ]
    },
    {
     "name": "stderr",
     "output_type": "stream",
     "text": [
      "Iteration:   6%|▋         | 4/62 [00:00<00:04, 12.27it/s]]\n",
      "Iteration:  77%|███████▋  | 48/62 [00:04<00:01, 10.83it/s]\n",
      "Iteration:   3%|▎         | 2/62 [00:00<00:05, 11.12it/s]]"
     ]
    },
    {
     "name": "stdout",
     "output_type": "stream",
     "text": [
      "{'Train':  best_epoch_indx:8\n",
      " auc:0.9048970316166676 \n",
      " apur:0.8854394397902318 \n",
      " f1:0.79276356830942 \n",
      " precision:0.7772477064220183 \n",
      " recall:0.8089115213239975 \n",
      ", 'Validation':  best_epoch_indx:8\n",
      " auc:0.8755192243164752 \n",
      " apur:0.8441151332302568 \n",
      " f1:0.7642736009044658 \n",
      " precision:0.7544642857142857 \n",
      " recall:0.7743413516609393 \n",
      ", 'Test':  best_epoch_indx:8\n",
      " auc:0.8871147596350805 \n",
      " apur:0.861945483517381 \n",
      " f1:0.7757303370786516 \n",
      " precision:0.7610229276895943 \n",
      " recall:0.7910174152153987 \n",
      "}\n",
      "=====Epoch 9\n",
      "Training...\n"
     ]
    },
    {
     "name": "stderr",
     "output_type": "stream",
     "text": [
      "Iteration:  13%|█▎        | 8/62 [00:00<00:04, 11.35it/s]]\n",
      "Iteration:  19%|█▉        | 12/62 [00:01<00:04, 11.45it/s]\n",
      "Iteration: 100%|██████████| 62/62 [00:05<00:00, 11.64it/s]\n",
      "Iteration:   0%|          | 0/62 [00:00<?, ?it/s]"
     ]
    },
    {
     "name": "stdout",
     "output_type": "stream",
     "text": [
      "{'Train':  best_epoch_indx:8\n",
      " auc:0.9014142393659901 \n",
      " apur:0.8809978892959768 \n",
      " f1:0.7858207504374312 \n",
      " precision:0.8002903907074974 \n",
      " recall:0.7718650541056652 \n",
      ", 'Validation':  best_epoch_indx:8\n",
      " auc:0.8671913869508371 \n",
      " apur:0.8388432859193491 \n",
      " f1:0.7535714285714284 \n",
      " precision:0.7843866171003717 \n",
      " recall:0.7250859106529209 \n",
      ", 'Test':  best_epoch_indx:8\n",
      " auc:0.8752935712147444 \n",
      " apur:0.8497368998573533 \n",
      " f1:0.7597372125762553 \n",
      " precision:0.7783653846153846 \n",
      " recall:0.7419798350137489 \n",
      "}\n",
      "=====Epoch 9\n",
      "Training...\n",
      "Evaluating...\n"
     ]
    },
    {
     "name": "stderr",
     "output_type": "stream",
     "text": [
      "Iteration:  68%|██████▊   | 42/62 [00:01<00:00, 22.43it/s]\n",
      "Iteration:  45%|████▌     | 28/62 [00:02<00:02, 12.21it/s]\n",
      "Iteration:  82%|████████▏ | 51/62 [00:02<00:00, 22.16it/s]"
     ]
    },
    {
     "name": "stdout",
     "output_type": "stream",
     "text": [
      "{'Train':  best_epoch_indx:8\n",
      " auc:0.899271108295289 \n",
      " apur:0.8777421733566892 \n",
      " f1:0.7866172902566722 \n",
      " precision:0.789035480978609 \n",
      " recall:0.784213876511776 \n",
      ", 'Validation':  best_epoch_indx:8\n",
      " auc:0.8791836848824248 \n",
      " apur:0.8550633694240277 \n",
      " f1:0.7602820211515865 \n",
      " precision:0.7804583835946924 \n",
      " recall:0.7411225658648339 \n",
      ", 'Test':  best_epoch_indx:8\n",
      " auc:0.882941016844083 \n",
      " apur:0.8638200128514772 \n",
      " f1:0.7692662667281956 \n",
      " precision:0.7746282527881041 \n",
      " recall:0.7639780018331805 \n",
      "}\n",
      "=====Epoch 9\n",
      "Training...\n"
     ]
    },
    {
     "name": "stderr",
     "output_type": "stream",
     "text": [
      "Iteration:  13%|█▎        | 8/62 [00:00<00:04, 11.39it/s]]\n",
      "Iteration: 100%|██████████| 62/62 [00:05<00:00, 11.51it/s]\n",
      "Iteration:  26%|██▌       | 16/62 [00:01<00:04, 11.41it/s]"
     ]
    },
    {
     "name": "stdout",
     "output_type": "stream",
     "text": [
      "Evaluating...\n"
     ]
    },
    {
     "name": "stderr",
     "output_type": "stream",
     "text": [
      "Iteration: 100%|██████████| 62/62 [00:05<00:00, 11.23it/s]\n",
      "Iteration:  87%|████████▋ | 54/62 [00:04<00:00, 11.58it/s]"
     ]
    },
    {
     "name": "stdout",
     "output_type": "stream",
     "text": [
      "Evaluating...\n"
     ]
    },
    {
     "name": "stderr",
     "output_type": "stream",
     "text": [
      "Iteration: 100%|██████████| 62/62 [00:05<00:00, 11.73it/s]\n",
      "Iteration:  63%|██████▎   | 39/62 [00:01<00:00, 23.32it/s]"
     ]
    },
    {
     "name": "stdout",
     "output_type": "stream",
     "text": [
      "Evaluating...\n"
     ]
    },
    {
     "name": "stderr",
     "output_type": "stream",
     "text": [
      "Iteration:  39%|███▊      | 24/62 [00:01<00:01, 21.42it/s]\n",
      "Iteration:  97%|█████████▋| 60/62 [00:05<00:00, 10.80it/s]\n",
      "Iteration: 100%|██████████| 62/62 [00:05<00:00, 10.87it/s]\n",
      "Iteration:  97%|█████████▋| 60/62 [00:02<00:00, 21.61it/s]"
     ]
    },
    {
     "name": "stdout",
     "output_type": "stream",
     "text": [
      "Evaluating...\n"
     ]
    },
    {
     "name": "stderr",
     "output_type": "stream",
     "text": [
      "Iteration:   8%|▊         | 5/62 [00:00<00:02, 20.25it/s]]\n",
      "Iteration:  44%|████▍     | 8/18 [00:00<00:00, 17.58it/s]\n",
      "Iteration:  83%|████████▎ | 15/18 [00:00<00:00, 19.56it/s]\n",
      "Iteration:  50%|█████     | 9/18 [00:00<00:00, 21.92it/s]"
     ]
    },
    {
     "name": "stdout",
     "output_type": "stream",
     "text": [
      "{'Train':  best_epoch_indx:9\n",
      " auc:0.9043134107122982 \n",
      " apur:0.8834537776416288 \n",
      " f1:0.7899853847620258 \n",
      " precision:0.7886323268206039 \n",
      " recall:0.7913430935709739 \n",
      ", 'Validation':  best_epoch_indx:9\n",
      " auc:0.883971444108901 \n",
      " apur:0.8565802289214315 \n",
      " f1:0.7546082949308756 \n",
      " precision:0.7589803012746235 \n",
      " recall:0.7502863688430699 \n",
      ", 'Test':  best_epoch_indx:9\n",
      " auc:0.8853084773799714 \n",
      " apur:0.8608808243351285 \n",
      " f1:0.7748858447488586 \n",
      " precision:0.7720655141037307 \n",
      " recall:0.7777268560953254 \n",
      "}\n",
      "=====Epoch 10\n",
      "Training...\n"
     ]
    },
    {
     "name": "stderr",
     "output_type": "stream",
     "text": [
      "Iteration:  45%|████▌     | 28/62 [00:02<00:02, 12.00it/s]\n",
      "Iteration:  65%|██████▍   | 40/62 [00:03<00:01, 12.23it/s]\n",
      "Iteration: 100%|██████████| 7/7 [00:00<00:00, 20.15it/s]s]\n",
      "Iteration:  74%|███████▍  | 46/62 [00:03<00:01, 11.99it/s]"
     ]
    },
    {
     "name": "stdout",
     "output_type": "stream",
     "text": [
      "{'Train':  best_epoch_indx:9\n",
      " auc:0.9090962243040518 \n",
      " apur:0.8880646001943776 \n",
      " f1:0.7986237340950403 \n",
      " precision:0.8148099085971652 \n",
      " recall:0.7830681094844049 \n",
      ", 'Validation':  best_epoch_indx:9\n",
      " auc:0.8798311484451233 \n",
      " apur:0.8548298869757083 \n",
      " f1:0.7657075748678802 \n",
      " precision:0.7855421686746988 \n",
      " recall:0.7468499427262314 \n",
      ", 'Test':  best_epoch_indx:9\n",
      " auc:0.8880150649284895 \n",
      " apur:0.8592853748649327 \n",
      " f1:0.7766179540709813 \n",
      " precision:0.7862846406763739 \n",
      " recall:0.7671860678276811 \n",
      "}\n",
      "=====Epoch 10\n",
      "Training...\n"
     ]
    },
    {
     "name": "stderr",
     "output_type": "stream",
     "text": [
      "Iteration:  19%|█▉        | 12/62 [00:01<00:04, 11.41it/s]\n",
      "Iteration: 100%|██████████| 62/62 [00:05<00:00, 12.17it/s]\n",
      "Iteration:  26%|██▌       | 16/62 [00:01<00:04, 11.08it/s]\n",
      "Iteration:  29%|██▉       | 18/62 [00:01<00:04, 10.99it/s]"
     ]
    },
    {
     "name": "stdout",
     "output_type": "stream",
     "text": [
      "Evaluating...\n",
      "{'Train':  best_epoch_indx:9\n",
      " auc:0.9113440701107955 \n",
      " apur:0.8934958861222106 \n",
      " f1:0.7997980945170042 \n",
      " precision:0.7928446334751064 \n",
      " recall:0.8068746021642266 \n",
      ", 'Validation':  best_epoch_indx:9\n",
      " auc:0.8791398135613485 \n",
      " apur:0.8475313968419563 \n",
      " f1:0.7602739726027397 \n",
      " precision:0.757679180887372 \n",
      " recall:0.7628865979381443 \n",
      ", 'Test':  best_epoch_indx:9\n",
      " auc:0.8917154624674957 \n",
      " apur:0.868099168304753 \n",
      " f1:0.7779556368625659 \n",
      " precision:0.7763578274760383 \n",
      " recall:0.7795600366636114 \n",
      "}\n",
      "=====Epoch 10\n",
      "Training...\n"
     ]
    },
    {
     "name": "stderr",
     "output_type": "stream",
     "text": [
      "Iteration:  10%|▉         | 6/62 [00:00<00:02, 21.56it/s]\n",
      "Iteration:  39%|███▊      | 24/62 [00:02<00:03, 11.54it/s]\n",
      "Iteration:  29%|██▉       | 18/62 [00:00<00:01, 22.48it/s]"
     ]
    },
    {
     "name": "stdout",
     "output_type": "stream",
     "text": [
      "{'Train':  best_epoch_indx:9\n",
      " auc:0.9101259800627891 \n",
      " apur:0.8912780592853122 \n",
      " f1:0.7971735147867051 \n",
      " precision:0.820029613676134 \n",
      " recall:0.7755569700827498 \n",
      ", 'Validation':  best_epoch_indx:9\n",
      " auc:0.8768797173722718 \n",
      " apur:0.8470848722492249 \n",
      " f1:0.7594936708860759 \n",
      " precision:0.8015267175572519 \n",
      " recall:0.7216494845360825 \n",
      ", 'Test':  best_epoch_indx:9\n",
      " auc:0.8825312396806438 \n",
      " apur:0.8567914735020626 \n",
      " f1:0.7687588485134497 \n",
      " precision:0.7923151750972762 \n",
      " recall:0.7465627864344638 \n",
      "}\n",
      "=====Epoch 10\n",
      "Training...\n"
     ]
    },
    {
     "name": "stderr",
     "output_type": "stream",
     "text": [
      "Iteration:  81%|████████  | 50/62 [00:04<00:00, 12.25it/s]\n",
      "Iteration:  42%|████▏     | 26/62 [00:02<00:03, 11.76it/s]\n",
      "Iteration:  48%|████▊     | 30/62 [00:02<00:02, 11.92it/s]\n",
      "Iteration:  90%|█████████ | 56/62 [00:04<00:00, 12.33it/s]"
     ]
    },
    {
     "name": "stdout",
     "output_type": "stream",
     "text": [
      "{'Train':  best_epoch_indx:9\n",
      " auc:0.9046351938997225 \n",
      " apur:0.8829567266432126 \n",
      " f1:0.7869978858350951 \n",
      " precision:0.8180195028155474 \n",
      " recall:0.7582431572246976 \n",
      ", 'Validation':  best_epoch_indx:9\n",
      " auc:0.8841025759697008 \n",
      " apur:0.8593817029082448 \n",
      " f1:0.758955676988464 \n",
      " precision:0.8074935400516796 \n",
      " recall:0.715922107674685 \n",
      ", 'Test':  best_epoch_indx:9\n",
      " auc:0.8859737297630048 \n",
      " apur:0.8679089790484296 \n",
      " f1:0.7644253695755842 \n",
      " precision:0.7967196819085487 \n",
      " recall:0.7346471127406049 \n",
      "}\n",
      "=====Epoch 10\n",
      "Training...\n"
     ]
    },
    {
     "name": "stderr",
     "output_type": "stream",
     "text": [
      "Iteration: 100%|██████████| 62/62 [00:05<00:00, 11.79it/s]\n",
      "Iteration:  68%|██████▊   | 42/62 [00:03<00:01, 10.28it/s]"
     ]
    },
    {
     "name": "stdout",
     "output_type": "stream",
     "text": [
      "Evaluating...\n"
     ]
    },
    {
     "name": "stderr",
     "output_type": "stream",
     "text": [
      "Iteration: 100%|██████████| 62/62 [00:05<00:00, 10.55it/s]\n",
      "Iteration:   0%|          | 0/62 [00:00<?, ?it/s]"
     ]
    },
    {
     "name": "stdout",
     "output_type": "stream",
     "text": [
      "Evaluating...\n",
      "Evaluating...\n"
     ]
    },
    {
     "name": "stderr",
     "output_type": "stream",
     "text": [
      "Iteration: 100%|██████████| 62/62 [00:05<00:00, 11.91it/s]\n",
      "Iteration:  29%|██▉       | 18/62 [00:00<00:02, 21.34it/s]\n",
      "Iteration:  82%|████████▏ | 51/62 [00:02<00:00, 21.60it/s]\n",
      "Iteration: 100%|██████████| 7/7 [00:00<00:00, 22.94it/s]s]\n",
      "Iteration: 100%|██████████| 62/62 [00:05<00:00, 11.46it/s]\n",
      "Iteration:   0%|          | 0/62 [00:00<?, ?it/s]"
     ]
    },
    {
     "name": "stdout",
     "output_type": "stream",
     "text": [
      "{'Train':  best_epoch_indx:10\n",
      " auc:0.9068754060984304 \n",
      " apur:0.8872804965017342 \n",
      " f1:0.792344130072974 \n",
      " precision:0.7968327539590575 \n",
      " recall:0.7879057924888606 \n",
      ", 'Validation':  best_epoch_indx:10\n",
      " auc:0.885610592368897 \n",
      " apur:0.861595193203395 \n",
      " f1:0.759860788863109 \n",
      " precision:0.7696827262044653 \n",
      " recall:0.7502863688430699 \n",
      ", 'Test':  best_epoch_indx:10\n",
      " auc:0.886678116329812 \n",
      " apur:0.8623867038073019 \n",
      " f1:0.7688022284122563 \n",
      " precision:0.7789275634995296 \n",
      " recall:0.7589367552703942 \n",
      "}\n",
      "=====Epoch 11\n",
      "Training...\n",
      "Evaluating...\n"
     ]
    },
    {
     "name": "stderr",
     "output_type": "stream",
     "text": [
      "Iteration:   5%|▍         | 3/62 [00:00<00:02, 20.97it/s]]\n",
      "Iteration:   0%|          | 0/18 [00:00<?, ?it/s]\n",
      "Iteration:  61%|██████▏   | 38/62 [00:03<00:01, 12.06it/s]\n",
      "Iteration:  33%|███▎      | 6/18 [00:00<00:00, 21.54it/s]]\n",
      "Iteration:  74%|███████▍  | 46/62 [00:03<00:01, 11.82it/s]\n",
      "Iteration:   0%|          | 0/62 [00:00<?, ?it/s]"
     ]
    },
    {
     "name": "stdout",
     "output_type": "stream",
     "text": [
      "{'Train':  best_epoch_indx:10\n",
      " auc:0.9123921593379536 \n",
      " apur:0.8914957921111102 \n",
      " f1:0.7980567226890757 \n",
      " precision:0.8239121594143961 \n",
      " recall:0.7737746658179504 \n",
      ", 'Validation':  best_epoch_indx:10\n",
      " auc:0.880150300253393 \n",
      " apur:0.8532543732272768 \n",
      " f1:0.7537091988130564 \n",
      " precision:0.7820197044334976 \n",
      " recall:0.7273768613974799 \n",
      ", 'Test':  best_epoch_indx:10\n",
      " auc:0.8894582546997247 \n",
      " apur:0.8612520776303 \n",
      " f1:0.7787942763312222 \n",
      " precision:0.7976934166266219 \n",
      " recall:0.7607699358386801 \n",
      "}\n",
      "=====Epoch 11\n",
      "Training...\n"
     ]
    },
    {
     "name": "stderr",
     "output_type": "stream",
     "text": [
      "Iteration:  23%|██▎       | 14/62 [00:01<00:04, 11.68it/s]"
     ]
    },
    {
     "name": "stdout",
     "output_type": "stream",
     "text": [
      "Evaluating...\n"
     ]
    },
    {
     "name": "stderr",
     "output_type": "stream",
     "text": [
      "Iteration: 100%|██████████| 62/62 [00:05<00:00, 12.21it/s]\n",
      "Iteration:  35%|███▌      | 22/62 [00:01<00:03, 11.67it/s]\n",
      "Iteration:  24%|██▍       | 15/62 [00:00<00:02, 20.99it/s]\n",
      "Iteration:  71%|███████▏  | 5/7 [00:00<00:00, 19.86it/s]s]\n",
      "Iteration: 100%|██████████| 7/7 [00:00<00:00, 20.27it/s]s]\n",
      "Iteration:   3%|▎         | 2/62 [00:00<00:05, 10.93it/s]]"
     ]
    },
    {
     "name": "stdout",
     "output_type": "stream",
     "text": [
      "{'Train':  best_epoch_indx:10\n",
      " auc:0.915757244109351 \n",
      " apur:0.8992184520264969 \n",
      " f1:0.8087574850299403 \n",
      " precision:0.7928335575394398 \n",
      " recall:0.8253341820496499 \n",
      ", 'Validation':  best_epoch_indx:10\n",
      " auc:0.8805774430058507 \n",
      " apur:0.8495427005704267 \n",
      " f1:0.7625979843225085 \n",
      " precision:0.7458926615553122 \n",
      " recall:0.7800687285223368 \n",
      ", 'Test':  best_epoch_indx:10\n",
      " auc:0.8926031102325619 \n",
      " apur:0.8701228972046096 \n",
      " f1:0.7815315315315315 \n",
      " precision:0.7683790965456155 \n",
      " recall:0.7951420714940421 \n",
      "}\n",
      "=====Epoch 11\n",
      "Training...\n",
      "{'Train':  best_epoch_indx:10\n",
      " auc:0.9133255607783488 \n",
      " apur:0.8939785108081126 \n",
      " f1:0.8036328251702888 \n",
      " precision:0.8193121693121693 \n",
      " recall:0.788542329726289 \n",
      ", 'Validation':  best_epoch_indx:10\n",
      " auc:0.878333738299374 \n",
      " apur:0.847917259512959 \n",
      " f1:0.760261748958953 \n",
      " precision:0.7908415841584159 \n",
      " recall:0.7319587628865979 \n",
      ", 'Test':  best_epoch_indx:10\n",
      " auc:0.8836474275291873 \n",
      " apur:0.8561743158517253 \n",
      " f1:0.7651195499296766 \n",
      " precision:0.783109404990403 \n",
      " recall:0.7479376718606783 \n",
      "}\n",
      "=====Epoch 11\n",
      "Training...\n"
     ]
    },
    {
     "name": "stderr",
     "output_type": "stream",
     "text": [
      "Iteration:  35%|███▌      | 22/62 [00:01<00:03, 12.36it/s]\n",
      "Iteration:  45%|████▌     | 28/62 [00:02<00:03, 10.49it/s]\n",
      "Iteration: 100%|██████████| 62/62 [00:05<00:00, 11.76it/s]\n",
      "Iteration:   0%|          | 0/62 [00:00<?, ?it/s]\n",
      "Iteration:   5%|▍         | 3/62 [00:00<00:02, 21.96it/s]]"
     ]
    },
    {
     "name": "stdout",
     "output_type": "stream",
     "text": [
      "Evaluating...\n",
      "{'Train':  best_epoch_indx:10\n",
      " auc:0.907567302350424 \n",
      " apur:0.8862296132866317 \n",
      " f1:0.7893723015609432 \n",
      " precision:0.8252777777777778 \n",
      " recall:0.7564608529598982 \n",
      ", 'Validation':  best_epoch_indx:10\n",
      " auc:0.8864041329677067 \n",
      " apur:0.862376484930776 \n",
      " f1:0.7592931139549055 \n",
      " precision:0.8111979166666666 \n",
      " recall:0.713631156930126 \n",
      ", 'Test':  best_epoch_indx:10\n",
      " auc:0.8894087051070657 \n",
      " apur:0.870321701064657 \n",
      " f1:0.7746411483253588 \n",
      " precision:0.8103103103103103 \n",
      " recall:0.7419798350137489 \n",
      "}\n",
      "=====Epoch 11\n",
      "Training...\n"
     ]
    },
    {
     "name": "stderr",
     "output_type": "stream",
     "text": [
      "Iteration: 100%|██████████| 62/62 [00:05<00:00, 12.21it/s]\n",
      "Iteration:   5%|▍         | 3/62 [00:00<00:02, 20.31it/s]]"
     ]
    },
    {
     "name": "stdout",
     "output_type": "stream",
     "text": [
      "Evaluating...\n"
     ]
    },
    {
     "name": "stderr",
     "output_type": "stream",
     "text": [
      "Iteration:  52%|█████▏    | 32/62 [00:02<00:02, 11.32it/s]\n",
      "Iteration: 100%|██████████| 62/62 [00:05<00:00, 10.37it/s]\n",
      "Iteration:  17%|█▋        | 3/18 [00:00<00:00, 23.20it/s]]"
     ]
    },
    {
     "name": "stdout",
     "output_type": "stream",
     "text": [
      "Evaluating...\n"
     ]
    },
    {
     "name": "stderr",
     "output_type": "stream",
     "text": [
      "Iteration:  68%|██████▊   | 42/62 [00:03<00:01, 11.46it/s]\n",
      "Iteration:  73%|███████▎  | 45/62 [00:02<00:00, 20.82it/s]\n",
      "Iteration:  81%|████████  | 50/62 [00:04<00:01, 11.28it/s]\n",
      "Iteration:   3%|▎         | 2/62 [00:00<00:04, 12.07it/s]]"
     ]
    },
    {
     "name": "stdout",
     "output_type": "stream",
     "text": [
      "{'Train':  best_epoch_indx:11\n",
      " auc:0.9111129933982335 \n",
      " apur:0.891575545682803 \n",
      " f1:0.7909780547277161 \n",
      " precision:0.8451295411781734 \n",
      " recall:0.7433481858688733 \n",
      ", 'Validation':  best_epoch_indx:11\n",
      " auc:0.8771361958647181 \n",
      " apur:0.8549759285850296 \n",
      " f1:0.749379652605459 \n",
      " precision:0.8173207036535859 \n",
      " recall:0.6918671248568156 \n",
      ", 'Test':  best_epoch_indx:11\n",
      " auc:0.8879743910416806 \n",
      " apur:0.8606808062589827 \n",
      " f1:0.7657418576598312 \n",
      " precision:0.8084564442180336 \n",
      " recall:0.727314390467461 \n",
      "}\n",
      "=====Epoch 12\n",
      "Training...\n"
     ]
    },
    {
     "name": "stderr",
     "output_type": "stream",
     "text": [
      "Iteration: 100%|██████████| 7/7 [00:00<00:00, 13.62it/s]]]\n",
      "Iteration:  16%|█▌        | 10/62 [00:00<00:04, 11.99it/s]"
     ]
    },
    {
     "name": "stdout",
     "output_type": "stream",
     "text": [
      "{'Train':  best_epoch_indx:11\n",
      " auc:0.9087398426635258 \n",
      " apur:0.8896408477054987 \n",
      " f1:0.7970244420828906 \n",
      " precision:0.7431465374876143 \n",
      " recall:0.8593252705283259 \n",
      ", 'Validation':  best_epoch_indx:11\n",
      " auc:0.8854495701574738 \n",
      " apur:0.8616732282912417 \n",
      " f1:0.7674796747967481 \n",
      " precision:0.7283950617283951 \n",
      " recall:0.8109965635738832 \n",
      ", 'Test':  best_epoch_indx:11\n",
      " auc:0.8876195502226667 \n",
      " apur:0.8637885856069278 \n",
      " f1:0.7728828058169375 \n",
      " precision:0.7245388933440257 \n",
      " recall:0.8281393217231897 \n",
      "}\n",
      "=====Epoch 12\n",
      "Training...\n"
     ]
    },
    {
     "name": "stderr",
     "output_type": "stream",
     "text": [
      "Iteration:  97%|█████████▋| 60/62 [00:05<00:00, 11.60it/s]\n",
      "Iteration: 100%|██████████| 62/62 [00:05<00:00, 11.38it/s]\n",
      "Iteration:  33%|███▎      | 6/18 [00:00<00:00, 21.53it/s]]"
     ]
    },
    {
     "name": "stdout",
     "output_type": "stream",
     "text": [
      "Evaluating...\n"
     ]
    },
    {
     "name": "stderr",
     "output_type": "stream",
     "text": [
      "Iteration:  32%|███▏      | 20/62 [00:01<00:03, 11.76it/s]\n",
      "Iteration:  53%|█████▎    | 33/62 [00:01<00:01, 22.58it/s]\n",
      "Iteration:  73%|███████▎  | 45/62 [00:01<00:00, 22.38it/s]\n",
      "Iteration:  52%|█████▏    | 32/62 [00:02<00:02, 12.09it/s]"
     ]
    },
    {
     "name": "stdout",
     "output_type": "stream",
     "text": [
      "{'Train':  best_epoch_indx:11\n",
      " auc:0.916630020620472 \n",
      " apur:0.898520610127368 \n",
      " f1:0.8046385978783686 \n",
      " precision:0.8339251570609123 \n",
      " recall:0.7773392743475493 \n",
      ", 'Validation':  best_epoch_indx:11\n",
      " auc:0.8844921147326645 \n",
      " apur:0.8530012564869025 \n",
      " f1:0.7553699284009545 \n",
      " precision:0.788293897882939 \n",
      " recall:0.7250859106529209 \n",
      ", 'Test':  best_epoch_indx:11\n",
      " auc:0.8917316702781785 \n",
      " apur:0.869135169847575 \n",
      " f1:0.77868068833652 \n",
      " precision:0.8136863136863137 \n",
      " recall:0.7465627864344638 \n",
      "}\n",
      "=====Epoch 12\n",
      "Training...\n"
     ]
    },
    {
     "name": "stderr",
     "output_type": "stream",
     "text": [
      "Iteration:  16%|█▌        | 10/62 [00:00<00:04, 11.34it/s]\n",
      "Iteration:  81%|████████  | 50/62 [00:04<00:00, 12.33it/s]\n",
      "Iteration: 100%|██████████| 62/62 [00:05<00:00, 11.65it/s]\n",
      "Iteration:  42%|████▏     | 26/62 [00:02<00:03, 11.32it/s]\n",
      "Iteration:   0%|          | 0/62 [00:00<?, ?it/s]"
     ]
    },
    {
     "name": "stdout",
     "output_type": "stream",
     "text": [
      "Evaluating...\n",
      "{'Train':  best_epoch_indx:11\n",
      " auc:0.9068186059417686 \n",
      " apur:0.8861091980646738 \n",
      " f1:0.7949037893215997 \n",
      " precision:0.8209441128594682 \n",
      " recall:0.7704646721833227 \n",
      ", 'Validation':  best_epoch_indx:11\n",
      " auc:0.8812099613932375 \n",
      " apur:0.8592125073224736 \n",
      " f1:0.7620772946859903 \n",
      " precision:0.8058748403575989 \n",
      " recall:0.722794959908362 \n",
      ", 'Test':  best_epoch_indx:11\n",
      " auc:0.8826630143008459 \n",
      " apur:0.8664975826474659 \n",
      " f1:0.769524719369477 \n",
      " precision:0.8034912718204489 \n",
      " recall:0.7383134738771769 \n",
      "}\n",
      "=====Epoch 12\n",
      "Training...\n"
     ]
    },
    {
     "name": "stderr",
     "output_type": "stream",
     "text": [
      "Iteration: 100%|██████████| 62/62 [00:05<00:00, 12.16it/s]\n",
      "Iteration:  19%|█▉        | 12/62 [00:00<00:02, 22.79it/s]"
     ]
    },
    {
     "name": "stdout",
     "output_type": "stream",
     "text": [
      "Evaluating...\n"
     ]
    },
    {
     "name": "stderr",
     "output_type": "stream",
     "text": [
      "Iteration:  44%|████▎     | 27/62 [00:01<00:01, 22.91it/s]\n",
      "Iteration: 100%|██████████| 7/7 [00:00<00:00, 13.45it/s]s]\n",
      "Iteration:  48%|████▊     | 30/62 [00:01<00:01, 21.47it/s]"
     ]
    },
    {
     "name": "stdout",
     "output_type": "stream",
     "text": [
      "{'Train':  best_epoch_indx:11\n",
      " auc:0.9141365815133602 \n",
      " apur:0.8959526727434253 \n",
      " f1:0.7975151995770553 \n",
      " precision:0.8291878521368696 \n",
      " recall:0.7681731381285806 \n",
      ", 'Validation':  best_epoch_indx:11\n",
      " auc:0.8786075724792791 \n",
      " apur:0.8509336374567987 \n",
      " f1:0.7591591591591591 \n",
      " precision:0.797979797979798 \n",
      " recall:0.7239404352806414 \n",
      ", 'Test':  best_epoch_indx:11\n",
      " auc:0.8842013165569538 \n",
      " apur:0.8596452441547511 \n",
      " f1:0.7626310772163966 \n",
      " precision:0.7944389275074478 \n",
      " recall:0.7332722273143905 \n",
      "}\n",
      "=====Epoch 12\n",
      "Training...\n"
     ]
    },
    {
     "name": "stderr",
     "output_type": "stream",
     "text": [
      "Iteration:  52%|█████▏    | 32/62 [00:02<00:02, 10.75it/s]\n",
      "Iteration: 100%|██████████| 62/62 [00:05<00:00, 11.27it/s]\n",
      "Iteration:   5%|▍         | 3/62 [00:00<00:02, 21.11it/s]]"
     ]
    },
    {
     "name": "stdout",
     "output_type": "stream",
     "text": [
      "Evaluating...\n"
     ]
    },
    {
     "name": "stderr",
     "output_type": "stream",
     "text": [
      "Iteration:  61%|██████    | 11/18 [00:00<00:00, 20.04it/s]\n",
      "Iteration: 100%|██████████| 62/62 [00:05<00:00, 10.56it/s]\n",
      "Iteration:   0%|          | 0/62 [00:00<?, ?it/s]"
     ]
    },
    {
     "name": "stdout",
     "output_type": "stream",
     "text": [
      "Evaluating...\n"
     ]
    },
    {
     "name": "stderr",
     "output_type": "stream",
     "text": [
      "Iteration:  87%|████████▋ | 54/62 [00:04<00:00, 11.89it/s]\n",
      "Iteration: 100%|██████████| 62/62 [00:05<00:00, 11.83it/s]\n",
      "Iteration:  83%|████████▎ | 15/18 [00:00<00:00, 22.18it/s]"
     ]
    },
    {
     "name": "stdout",
     "output_type": "stream",
     "text": [
      "Evaluating...\n"
     ]
    },
    {
     "name": "stderr",
     "output_type": "stream",
     "text": [
      "Iteration:  40%|████      | 25/62 [00:01<00:01, 21.60it/s]\n",
      "Iteration:  19%|█▉        | 12/62 [00:00<00:02, 20.73it/s]"
     ]
    },
    {
     "name": "stdout",
     "output_type": "stream",
     "text": [
      "{'Train':  best_epoch_indx:12\n",
      " auc:0.9174371069650511 \n",
      " apur:0.8999787299959869 \n",
      " f1:0.8098896133238656 \n",
      " precision:0.8215034049240441 \n",
      " recall:0.7985996180776576 \n",
      ", 'Validation':  best_epoch_indx:12\n",
      " auc:0.8878398340024914 \n",
      " apur:0.8569697714706718 \n",
      " f1:0.7688734030197445 \n",
      " precision:0.7797408716136631 \n",
      " recall:0.7583046964490263 \n",
      ", 'Test':  best_epoch_indx:12\n",
      " auc:0.89251875243696 \n",
      " apur:0.8685892320265782 \n",
      " f1:0.7828128668701572 \n",
      " precision:0.8025999037072701 \n",
      " recall:0.7639780018331805 \n",
      "}\n",
      "=====Epoch 13\n",
      "Training...\n"
     ]
    },
    {
     "name": "stderr",
     "output_type": "stream",
     "text": [
      "\n",
      "Iteration:  39%|███▊      | 24/62 [00:01<00:01, 20.80it/s]\n",
      "Iteration:  16%|█▌        | 10/62 [00:00<00:04, 11.19it/s]\n",
      "Iteration:  53%|█████▎    | 33/62 [00:01<00:01, 20.82it/s]"
     ]
    },
    {
     "name": "stdout",
     "output_type": "stream",
     "text": [
      "{'Train':  best_epoch_indx:12\n",
      " auc:0.9155665092095446 \n",
      " apur:0.8967544352058949 \n",
      " f1:0.8082494475816351 \n",
      " precision:0.7803721702026787 \n",
      " recall:0.8381922342457033 \n",
      ", 'Validation':  best_epoch_indx:12\n",
      " auc:0.8843783385593237 \n",
      " apur:0.8596815909986596 \n",
      " f1:0.7753743760399334 \n",
      " precision:0.7516129032258064 \n",
      " recall:0.8006872852233677 \n",
      ", 'Test':  best_epoch_indx:12\n",
      " auc:0.891751119650998 \n",
      " apur:0.8658720348639797 \n",
      " f1:0.7796016633836725 \n",
      " precision:0.7461248428990365 \n",
      " recall:0.8162236480293309 \n",
      "}\n",
      "=====Epoch 13\n",
      "Training...\n"
     ]
    },
    {
     "name": "stderr",
     "output_type": "stream",
     "text": [
      "Iteration:   6%|▋         | 4/62 [00:00<00:05, 10.52it/s]]\n",
      "Iteration:  26%|██▌       | 16/62 [00:01<00:04, 10.59it/s]\n",
      "Iteration:  32%|███▏      | 20/62 [00:01<00:04, 10.47it/s]\n",
      "Iteration:  67%|██████▋   | 12/18 [00:00<00:00, 23.65it/s]"
     ]
    },
    {
     "name": "stdout",
     "output_type": "stream",
     "text": [
      "{'Train':  best_epoch_indx:12\n",
      " auc:0.9109862670768278 \n",
      " apur:0.8917764197253444 \n",
      " f1:0.802182133779679 \n",
      " precision:0.7817786370227163 \n",
      " recall:0.8236791852323361 \n",
      ", 'Validation':  best_epoch_indx:12\n",
      " auc:0.8899572278724627 \n",
      " apur:0.863424664046535 \n",
      " f1:0.775716694772344 \n",
      " precision:0.7615894039735099 \n",
      " recall:0.7903780068728522 \n",
      ", 'Test':  best_epoch_indx:12\n",
      " auc:0.8895828125433991 \n",
      " apur:0.8651112195708756 \n",
      " f1:0.7789426723176445 \n",
      " precision:0.758800521512386 \n",
      " recall:0.8001833180568286 \n",
      "}\n",
      "=====Epoch 13\n",
      "Training...\n"
     ]
    },
    {
     "name": "stderr",
     "output_type": "stream",
     "text": [
      "Iteration:   6%|▋         | 4/62 [00:00<00:04, 12.18it/s]]\n",
      "Iteration: 100%|██████████| 7/7 [00:00<00:00, 23.24it/s]]]\n",
      "Iteration:   0%|          | 0/18 [00:00<?, ?it/s]\n",
      "Iteration:  45%|████▌     | 28/62 [00:02<00:03, 10.44it/s]"
     ]
    },
    {
     "name": "stdout",
     "output_type": "stream",
     "text": [
      "{'Train':  best_epoch_indx:12\n",
      " auc:0.9076120088198218 \n",
      " apur:0.8857717045727538 \n",
      " f1:0.7943817342226783 \n",
      " precision:0.8004394468140106 \n",
      " recall:0.7884150222788033 \n",
      ", 'Validation':  best_epoch_indx:12\n",
      " auc:0.8790414646657487 \n",
      " apur:0.8544571732257776 \n",
      " f1:0.7622950819672131 \n",
      " precision:0.7796407185628742 \n",
      " recall:0.7457044673539519 \n",
      ", 'Test':  best_epoch_indx:12\n",
      " auc:0.8860117023480333 \n",
      " apur:0.8666283654841906 \n",
      " f1:0.7826490373463234 \n",
      " precision:0.7923907937999061 \n",
      " recall:0.7731439046746105 \n",
      "}\n",
      "=====Epoch 13\n",
      "Training...\n"
     ]
    },
    {
     "name": "stderr",
     "output_type": "stream",
     "text": [
      "Iteration: 100%|██████████| 62/62 [00:05<00:00, 10.71it/s]\n",
      "Iteration:   5%|▍         | 3/62 [00:00<00:02, 21.20it/s]]"
     ]
    },
    {
     "name": "stdout",
     "output_type": "stream",
     "text": [
      "Evaluating...\n"
     ]
    },
    {
     "name": "stderr",
     "output_type": "stream",
     "text": [
      "Iteration: 100%|██████████| 62/62 [00:05<00:00, 11.53it/s]\n",
      "Iteration:  90%|█████████ | 56/62 [00:04<00:00, 12.30it/s]"
     ]
    },
    {
     "name": "stdout",
     "output_type": "stream",
     "text": [
      "Evaluating...\n"
     ]
    },
    {
     "name": "stderr",
     "output_type": "stream",
     "text": [
      "Iteration: 100%|██████████| 62/62 [00:05<00:00, 12.36it/s]\n",
      "Iteration:   5%|▍         | 3/62 [00:00<00:02, 21.38it/s]]"
     ]
    },
    {
     "name": "stdout",
     "output_type": "stream",
     "text": [
      "Evaluating...\n"
     ]
    },
    {
     "name": "stderr",
     "output_type": "stream",
     "text": [
      "Iteration: 100%|██████████| 62/62 [00:05<00:00, 11.81it/s]\n",
      "Iteration:   5%|▍         | 3/62 [00:00<00:02, 20.86it/s]]"
     ]
    },
    {
     "name": "stdout",
     "output_type": "stream",
     "text": [
      "Evaluating...\n"
     ]
    },
    {
     "name": "stderr",
     "output_type": "stream",
     "text": [
      "Iteration:  44%|████▎     | 27/62 [00:01<00:01, 22.02it/s]\n",
      "Iteration:  58%|█████▊    | 36/62 [00:01<00:01, 22.46it/s]\n",
      "Iteration:  81%|████████  | 50/62 [00:02<00:00, 17.63it/s]"
     ]
    },
    {
     "name": "stdout",
     "output_type": "stream",
     "text": [
      "{'Train':  best_epoch_indx:12\n",
      " auc:0.9175361036429593 \n",
      " apur:0.8979101875872486 \n",
      " f1:0.8118773450640445 \n",
      " precision:0.8253321057477312 \n",
      " recall:0.7988542329726289 \n",
      ", 'Validation':  best_epoch_indx:12\n",
      " auc:0.8792179141549131 \n",
      " apur:0.8456014706084998 \n",
      " f1:0.7742703990470519 \n",
      " precision:0.8064516129032258 \n",
      " recall:0.7445589919816724 \n",
      ", 'Test':  best_epoch_indx:12\n",
      " auc:0.8893178654865181 \n",
      " apur:0.8602634781570349 \n",
      " f1:0.7782192100958168 \n",
      " precision:0.7939914163090128 \n",
      " recall:0.7630614115490376 \n",
      "}\n",
      "=====Epoch 13\n",
      "Training...\n"
     ]
    },
    {
     "name": "stderr",
     "output_type": "stream",
     "text": [
      "Iteration:  87%|████████▋ | 54/62 [00:02<00:00, 22.78it/s]\n",
      "Iteration:  53%|█████▎    | 33/62 [00:01<00:01, 21.37it/s]\n",
      "Iteration:  68%|██████▊   | 42/62 [00:01<00:00, 21.22it/s]\n",
      "Iteration:  97%|█████████▋| 60/62 [00:02<00:00, 20.75it/s]\n",
      "Iteration:  39%|███▊      | 24/62 [00:02<00:03, 10.37it/s]\n",
      "Iteration: 100%|██████████| 7/7 [00:00<00:00, 23.18it/s]\n",
      "Iteration:   3%|▎         | 2/62 [00:00<00:04, 12.68it/s]]"
     ]
    },
    {
     "name": "stdout",
     "output_type": "stream",
     "text": [
      "{'Train':  best_epoch_indx:13\n",
      " auc:0.9106026058544633 \n",
      " apur:0.8918504650657582 \n",
      " f1:0.7985714285714286 \n",
      " precision:0.8149768058316766 \n",
      " recall:0.7828134945894335 \n",
      ", 'Validation':  best_epoch_indx:13\n",
      " auc:0.8851583802901101 \n",
      " apur:0.8609378050107964 \n",
      " f1:0.771513353115727 \n",
      " precision:0.8004926108374384 \n",
      " recall:0.7445589919816724 \n",
      ", 'Test':  best_epoch_indx:13\n",
      " auc:0.8880096411718776 \n",
      " apur:0.8649403457131766 \n",
      " f1:0.7759664648346529 \n",
      " precision:0.7888257575757576 \n",
      " recall:0.763519706691109 \n",
      "}\n",
      "=====Epoch 14\n",
      "Training...\n"
     ]
    },
    {
     "name": "stderr",
     "output_type": "stream",
     "text": [
      "Iteration: 100%|██████████| 62/62 [00:05<00:00, 10.60it/s]\n",
      "Iteration:   0%|          | 0/62 [00:00<?, ?it/s]"
     ]
    },
    {
     "name": "stdout",
     "output_type": "stream",
     "text": [
      "Evaluating...\n"
     ]
    },
    {
     "name": "stderr",
     "output_type": "stream",
     "text": [
      "Iteration:  15%|█▍        | 9/62 [00:00<00:02, 21.04it/s]]\n",
      "Iteration:  84%|████████▍ | 52/62 [00:04<00:00, 12.42it/s]\n",
      "Iteration:  87%|████████▋ | 54/62 [00:04<00:00, 12.39it/s]\n",
      "Iteration:   0%|          | 0/62 [00:00<?, ?it/s]"
     ]
    },
    {
     "name": "stdout",
     "output_type": "stream",
     "text": [
      "{'Train':  best_epoch_indx:13\n",
      " auc:0.915936367712497 \n",
      " apur:0.8978654771231365 \n",
      " f1:0.8057880734540264 \n",
      " precision:0.821731074642668 \n",
      " recall:0.7904519414385741 \n",
      ", 'Validation':  best_epoch_indx:13\n",
      " auc:0.8860536445015254 \n",
      " apur:0.8638199631668918 \n",
      " f1:0.7718277066356228 \n",
      " precision:0.7846153846153846 \n",
      " recall:0.7594501718213058 \n",
      ", 'Test':  best_epoch_indx:13\n",
      " auc:0.8930624858953458 \n",
      " apur:0.8656978879243009 \n",
      " f1:0.7850989522700814 \n",
      " precision:0.7979176526265973 \n",
      " recall:0.772685609532539 \n",
      "}\n",
      "=====Epoch 14\n",
      "Training...\n"
     ]
    },
    {
     "name": "stderr",
     "output_type": "stream",
     "text": [
      "\r",
      "Iteration:  57%|█████▋    | 4/7 [00:00<00:00, 17.95it/s]\r",
      "Iteration:  34%|███▍      | 21/62 [00:00<00:01, 21.62it/s]\r",
      "Iteration:  90%|█████████ | 56/62 [00:04<00:00, 12.39it/s]\r",
      "Iteration:   3%|▎         | 2/62 [00:00<00:05, 11.06it/s]\r",
      "Iteration:  86%|████████▌ | 6/7 [00:00<00:00, 18.00it/s]\r",
      "Iteration:  39%|███▊      | 24/62 [00:01<00:01, 21.70it/s]\r",
      "Iteration: 100%|██████████| 7/7 [00:00<00:00, 18.14it/s]\n",
      "\r",
      "Iteration:   0%|          | 0/62 [00:00<?, ?it/s]"
     ]
    },
    {
     "name": "stdout",
     "output_type": "stream",
     "text": [
      "{'Train':  best_epoch_indx:13\n",
      " auc:0.9205782366191715 \n",
      " apur:0.9042223481387812 \n",
      " f1:0.8061156362665243 \n",
      " precision:0.8475361504983855 \n",
      " recall:0.7685550604710376 \n",
      ", 'Validation':  best_epoch_indx:13\n",
      " auc:0.8815753950347307 \n",
      " apur:0.8498280168258016 \n",
      " f1:0.7533577533577533 \n",
      " precision:0.8065359477124183 \n",
      " recall:0.7067583046964491 \n",
      ", 'Test':  best_epoch_indx:13\n",
      " auc:0.8933916588123101 \n",
      " apur:0.8734658216855821 \n",
      " f1:0.78 \n",
      " precision:0.8336809176225235 \n",
      " recall:0.7328139321723189 \n",
      "}\n",
      "=====Epoch 14\n",
      "Training...\n"
     ]
    },
    {
     "name": "stderr",
     "output_type": "stream",
     "text": [
      "Iteration: 100%|██████████| 62/62 [00:04<00:00, 12.61it/s]\n",
      "Iteration:  13%|█▎        | 8/62 [00:00<00:04, 11.05it/s]]"
     ]
    },
    {
     "name": "stdout",
     "output_type": "stream",
     "text": [
      "Evaluating...\n"
     ]
    },
    {
     "name": "stderr",
     "output_type": "stream",
     "text": [
      "Iteration:  73%|███████▎  | 45/62 [00:02<00:00, 21.34it/s]\n",
      "Iteration:  21%|██        | 13/62 [00:01<00:04, 10.09it/s]\n",
      "Iteration:  29%|██▉       | 18/62 [00:01<00:04, 10.95it/s]"
     ]
    },
    {
     "name": "stdout",
     "output_type": "stream",
     "text": [
      "{'Train':  best_epoch_indx:13\n",
      " auc:0.912533090706854 \n",
      " apur:0.8923526267655046 \n",
      " f1:0.8018692785353051 \n",
      " precision:0.8064640741694566 \n",
      " recall:0.7973265436028008 \n",
      ", 'Validation':  best_epoch_indx:13\n",
      " auc:0.8858150037989672 \n",
      " apur:0.8608676910764423 \n",
      " f1:0.7752481027437245 \n",
      " precision:0.7904761904761904 \n",
      " recall:0.7605956471935853 \n",
      ", 'Test':  best_epoch_indx:13\n",
      " auc:0.8936522186640503 \n",
      " apur:0.8765861886190134 \n",
      " f1:0.7820423354268433 \n",
      " precision:0.7940481813887577 \n",
      " recall:0.7703941338221815 \n",
      "}\n",
      "=====Epoch 14\n",
      "Training...\n"
     ]
    },
    {
     "name": "stderr",
     "output_type": "stream",
     "text": [
      "Iteration:  53%|█████▎    | 33/62 [00:01<00:01, 22.45it/s]\n",
      "Iteration: 100%|██████████| 18/18 [00:00<00:00, 22.86it/s]\n",
      "Iteration: 100%|██████████| 7/7 [00:00<00:00, 22.33it/s]s]\n",
      "Iteration:  61%|██████▏   | 38/62 [00:03<00:02, 11.39it/s]"
     ]
    },
    {
     "name": "stdout",
     "output_type": "stream",
     "text": [
      "{'Train':  best_epoch_indx:13\n",
      " auc:0.9179313593830645 \n",
      " apur:0.9021729833634182 \n",
      " f1:0.8090010311154242 \n",
      " precision:0.7725903614457831 \n",
      " recall:0.849013367281986 \n",
      ", 'Validation':  best_epoch_indx:13\n",
      " auc:0.8824103964424698 \n",
      " apur:0.8578963572803311 \n",
      " f1:0.779379157427938 \n",
      " precision:0.7551020408163265 \n",
      " recall:0.8052691867124857 \n",
      ", 'Test':  best_epoch_indx:13\n",
      " auc:0.8865194875735664 \n",
      " apur:0.8606564343079659 \n",
      " f1:0.7705133830627469 \n",
      " precision:0.7390572390572391 \n",
      " recall:0.8047662694775435 \n",
      "}\n",
      "=====Epoch 14\n",
      "Training...\n"
     ]
    },
    {
     "name": "stderr",
     "output_type": "stream",
     "text": [
      "Iteration:  39%|███▊      | 24/62 [00:01<00:03, 12.22it/s]\n",
      "Iteration: 100%|██████████| 62/62 [00:05<00:00, 11.28it/s]\n",
      "Iteration:   5%|▍         | 3/62 [00:00<00:02, 21.58it/s]]"
     ]
    },
    {
     "name": "stdout",
     "output_type": "stream",
     "text": [
      "Evaluating...\n"
     ]
    },
    {
     "name": "stderr",
     "output_type": "stream",
     "text": [
      "Iteration: 100%|██████████| 62/62 [00:06<00:00, 10.17it/s]\n",
      "Iteration:  97%|█████████▋| 60/62 [00:04<00:00, 12.22it/s]"
     ]
    },
    {
     "name": "stdout",
     "output_type": "stream",
     "text": [
      "Evaluating...\n"
     ]
    },
    {
     "name": "stderr",
     "output_type": "stream",
     "text": [
      "\r",
      "Iteration:   6%|▋         | 4/62 [00:00<00:03, 18.03it/s]\r",
      "Iteration:  39%|███▊      | 24/62 [00:01<00:01, 21.92it/s]\r",
      "Iteration:  65%|██████▍   | 40/62 [00:03<00:01, 12.14it/s]\r",
      "Iteration: 100%|██████████| 62/62 [00:05<00:00, 12.29it/s]\r",
      "Iteration: 100%|██████████| 62/62 [00:05<00:00, 12.21it/s]\n",
      "\r",
      "Iteration:   0%|          | 0/62 [00:00<?, ?it/s]\r",
      "Iteration:  10%|▉         | 6/62 [00:00<00:03, 18.04it/s]\r",
      "Iteration:  44%|████▎     | 27/62 [00:01<00:01, 21.81it/s]"
     ]
    },
    {
     "name": "stdout",
     "output_type": "stream",
     "text": [
      "Evaluating...\n"
     ]
    },
    {
     "name": "stderr",
     "output_type": "stream",
     "text": [
      "Iteration: 100%|██████████| 62/62 [00:05<00:00, 12.14it/s]\n",
      "Iteration:  61%|██████▏   | 38/62 [00:02<00:01, 18.06it/s]"
     ]
    },
    {
     "name": "stdout",
     "output_type": "stream",
     "text": [
      "Evaluating...\n"
     ]
    },
    {
     "name": "stderr",
     "output_type": "stream",
     "text": [
      "Iteration:  63%|██████▎   | 39/62 [00:01<00:01, 21.26it/s]\n",
      "Iteration:  87%|████████▋ | 54/62 [00:02<00:00, 20.18it/s]\n",
      "Iteration: 100%|██████████| 7/7 [00:00<00:00, 21.14it/s]s]\n",
      "Iteration:   0%|          | 0/62 [00:00<?, ?it/s]"
     ]
    },
    {
     "name": "stdout",
     "output_type": "stream",
     "text": [
      "{'Train':  best_epoch_indx:14\n",
      " auc:0.9230454349668145 \n",
      " apur:0.9028056150816661 \n",
      " f1:0.8137543309145584 \n",
      " precision:0.8363343187315238 \n",
      " recall:0.7923615531508593 \n",
      ", 'Validation':  best_epoch_indx:14\n",
      " auc:0.9005615529097775 \n",
      " apur:0.8732925665729767 \n",
      " f1:0.7850356294536818 \n",
      " precision:0.815043156596794 \n",
      " recall:0.7571592210767468 \n",
      ", 'Test':  best_epoch_indx:14\n",
      " auc:0.897385943146713 \n",
      " apur:0.8733192978218531 \n",
      " f1:0.7817836812144212 \n",
      " precision:0.8102261553588987 \n",
      " recall:0.7552703941338221 \n",
      "}\n",
      "=====Epoch 15\n",
      "Training...\n"
     ]
    },
    {
     "name": "stderr",
     "output_type": "stream",
     "text": [
      "Iteration:  97%|█████████▋| 60/62 [00:03<00:00, 16.01it/s]\n",
      "Iteration:  28%|██▊       | 5/18 [00:00<00:00, 20.35it/s]]\n",
      "Iteration:  87%|████████▋ | 54/62 [00:02<00:00, 21.94it/s]\n",
      "Iteration: 100%|██████████| 7/7 [00:00<00:00, 21.46it/s]s]\n",
      "Iteration:   0%|          | 0/62 [00:00<?, ?it/s]"
     ]
    },
    {
     "name": "stdout",
     "output_type": "stream",
     "text": [
      "{'Train':  best_epoch_indx:14\n",
      " auc:0.9088427467207018 \n",
      " apur:0.8890867420066646 \n",
      " f1:0.7995551485018971 \n",
      " precision:0.8223657650383528 \n",
      " recall:0.7779758115849778 \n",
      ", 'Validation':  best_epoch_indx:14\n",
      " auc:0.8927003906958089 \n",
      " apur:0.8725512269367188 \n",
      " f1:0.7696897374701671 \n",
      " precision:0.8032378580323786 \n",
      " recall:0.738831615120275 \n",
      ", 'Test':  best_epoch_indx:14\n",
      " auc:0.8911917958223364 \n",
      " apur:0.8757464284363761 \n",
      " f1:0.7766209181258874 \n",
      " precision:0.8028375733855186 \n",
      " recall:0.7520623281393217 \n",
      "}\n",
      "=====Epoch 15\n",
      "Training...\n"
     ]
    },
    {
     "name": "stderr",
     "output_type": "stream",
     "text": [
      "Iteration:  39%|███▊      | 24/62 [00:01<00:02, 12.68it/s]\n",
      "Iteration:  97%|█████████▋| 60/62 [00:04<00:00, 12.15it/s]\n",
      "Iteration: 100%|██████████| 62/62 [00:04<00:00, 12.43it/s]\n",
      "Iteration:  61%|██████▏   | 38/62 [00:03<00:02, 11.74it/s]"
     ]
    },
    {
     "name": "stdout",
     "output_type": "stream",
     "text": [
      "Evaluating...\n"
     ]
    },
    {
     "name": "stderr",
     "output_type": "stream",
     "text": [
      "\r",
      "Iteration:   5%|▍         | 3/62 [00:00<00:02, 22.26it/s]\r",
      "Iteration:  71%|███████▏  | 5/7 [00:00<00:00, 20.38it/s]\r",
      "Iteration: 100%|██████████| 7/7 [00:00<00:00, 20.77it/s]\r",
      "Iteration:  65%|██████▍   | 40/62 [00:03<00:01, 11.78it/s]\n",
      "\r",
      "Iteration:   0%|          | 0/62 [00:00<?, ?it/s]\r",
      "Iteration:  10%|▉         | 6/62 [00:00<00:02, 22.23it/s]"
     ]
    },
    {
     "name": "stdout",
     "output_type": "stream",
     "text": [
      "{'Train':  best_epoch_indx:14\n",
      " auc:0.9153858910241103 \n",
      " apur:0.8974876956131274 \n",
      " f1:0.792158486919307 \n",
      " precision:0.8651990349819059 \n",
      " recall:0.7304901336728199 \n",
      ", 'Validation':  best_epoch_indx:14\n",
      " auc:0.8813574847366371 \n",
      " apur:0.8575078676638889 \n",
      " f1:0.7451471509079526 \n",
      " precision:0.8218232044198895 \n",
      " recall:0.6815578465063001 \n",
      ", 'Test':  best_epoch_indx:14\n",
      " auc:0.8922121932749008 \n",
      " apur:0.8683844933299888 \n",
      " f1:0.7597930524759792 \n",
      " precision:0.8215237080447523 \n",
      " recall:0.7066911090742438 \n",
      "}\n",
      "=====Epoch 15\n",
      "Training...\n"
     ]
    },
    {
     "name": "stderr",
     "output_type": "stream",
     "text": [
      "Iteration:  23%|██▎       | 14/62 [00:01<00:04, 11.25it/s]\n",
      "Iteration: 100%|██████████| 7/7 [00:00<00:00, 18.76it/s]s]\n",
      "Iteration:   2%|▏         | 1/62 [00:00<00:06,  9.82it/s]]"
     ]
    },
    {
     "name": "stdout",
     "output_type": "stream",
     "text": [
      "{'Train':  best_epoch_indx:14\n",
      " auc:0.9272089836899986 \n",
      " apur:0.9109581940388516 \n",
      " f1:0.8214412917012942 \n",
      " precision:0.7695473251028807 \n",
      " recall:0.8808402291534054 \n",
      ", 'Validation':  best_epoch_indx:14\n",
      " auc:0.8895108010228284 \n",
      " apur:0.8614275820269137 \n",
      " f1:0.7784303256807261 \n",
      " precision:0.729 \n",
      " recall:0.8350515463917526 \n",
      ", 'Test':  best_epoch_indx:14\n",
      " auc:0.8978378471828818 \n",
      " apur:0.8727168249710905 \n",
      " f1:0.7864015394483644 \n",
      " precision:0.7370741482965932 \n",
      " recall:0.8428047662694775 \n",
      "}\n",
      "=====Epoch 15\n",
      "Training...\n"
     ]
    },
    {
     "name": "stderr",
     "output_type": "stream",
     "text": [
      "\r",
      "Iteration: 100%|██████████| 62/62 [00:05<00:00, 11.62it/s]\r",
      "Iteration: 100%|██████████| 62/62 [00:05<00:00, 11.66it/s]\r",
      "Iteration:   3%|▎         | 2/62 [00:00<00:06,  9.76it/s]\n",
      "\r",
      "Iteration:   0%|          | 0/62 [00:00<?, ?it/s]\r",
      "Iteration:  77%|███████▋  | 48/62 [00:02<00:00, 21.93it/s]\r",
      "Iteration:  35%|███▌      | 22/62 [00:01<00:03, 11.35it/s]\r",
      "Iteration:   5%|▍         | 3/62 [00:00<00:06,  9.78it/s]\r",
      "Iteration:   5%|▍         | 3/62 [00:00<00:02, 21.27it/s]\r",
      "Iteration:  82%|████████▏ | 51/62 [00:02<00:00, 22.08it/s]"
     ]
    },
    {
     "name": "stdout",
     "output_type": "stream",
     "text": [
      "Evaluating...\n"
     ]
    },
    {
     "name": "stderr",
     "output_type": "stream",
     "text": [
      "Iteration:   8%|▊         | 5/62 [00:00<00:05,  9.81it/s]]\n",
      "Iteration: 100%|██████████| 7/7 [00:00<00:00, 22.62it/s]s]\n",
      "Iteration:  48%|████▊     | 30/62 [00:02<00:02, 11.40it/s]\n",
      "Iteration:   0%|          | 0/18 [00:00<?, ?it/s]"
     ]
    },
    {
     "name": "stdout",
     "output_type": "stream",
     "text": [
      "{'Train':  best_epoch_indx:14\n",
      " auc:0.9235632698302729 \n",
      " apur:0.9070516472166446 \n",
      " f1:0.8132780082987552 \n",
      " precision:0.828643149689523 \n",
      " recall:0.7984723106301719 \n",
      ", 'Validation':  best_epoch_indx:14\n",
      " auc:0.8864176318357303 \n",
      " apur:0.8593925273320764 \n",
      " f1:0.7696827262044654 \n",
      " precision:0.7901085645355851 \n",
      " recall:0.7502863688430699 \n",
      ", 'Test':  best_epoch_indx:14\n",
      " auc:0.8924526351199127 \n",
      " apur:0.8681465094279582 \n",
      " f1:0.7763931342581708 \n",
      " precision:0.7971994205697731 \n",
      " recall:0.7566452795600367 \n",
      "}\n",
      "=====Epoch 15\n",
      "Training...\n"
     ]
    },
    {
     "name": "stderr",
     "output_type": "stream",
     "text": [
      "Iteration:  52%|█████▏    | 32/62 [00:03<00:03,  9.75it/s]\n",
      "Iteration: 100%|██████████| 62/62 [00:05<00:00, 11.25it/s]\n",
      "Iteration:   0%|          | 0/62 [00:00<?, ?it/s]"
     ]
    },
    {
     "name": "stdout",
     "output_type": "stream",
     "text": [
      "Evaluating...\n"
     ]
    },
    {
     "name": "stderr",
     "output_type": "stream",
     "text": [
      "Iteration:  10%|▉         | 6/62 [00:00<00:03, 17.99it/s]]\n",
      "Iteration:  71%|███████   | 44/62 [00:04<00:01,  9.67it/s]\n",
      "Iteration:  73%|███████▎  | 45/62 [00:04<00:01,  9.60it/s]"
     ]
    },
    {
     "name": "stdout",
     "output_type": "stream",
     "text": [
      "{'Train':  best_epoch_indx:15\n",
      " auc:0.9087102290759969 \n",
      " apur:0.8868415490687377 \n",
      " f1:0.7762588924536197 \n",
      " precision:0.8583988894030541 \n",
      " recall:0.7084659452577976 \n",
      ", 'Validation':  best_epoch_indx:15\n",
      " auc:0.8864214886551657 \n",
      " apur:0.8642131332863032 \n",
      " f1:0.7523870146403564 \n",
      " precision:0.8467048710601719 \n",
      " recall:0.6769759450171822 \n",
      ", 'Test':  best_epoch_indx:15\n",
      " auc:0.8873532459922713 \n",
      " apur:0.8681676362467639 \n",
      " f1:0.7562088190572732 \n",
      " precision:0.8458049886621315 \n",
      " recall:0.6837763519706691 \n",
      "}\n",
      "=====Epoch 16\n",
      "Training...\n"
     ]
    },
    {
     "name": "stderr",
     "output_type": "stream",
     "text": [
      "Iteration: 100%|██████████| 62/62 [00:05<00:00, 12.26it/s]\n",
      "Iteration:   0%|          | 0/62 [00:00<?, ?it/s]"
     ]
    },
    {
     "name": "stdout",
     "output_type": "stream",
     "text": [
      "Evaluating...\n"
     ]
    },
    {
     "name": "stderr",
     "output_type": "stream",
     "text": [
      "Iteration:  32%|███▏      | 20/62 [00:01<00:03, 11.46it/s]\n",
      "Iteration: 100%|██████████| 62/62 [00:06<00:00,  9.69it/s]\n",
      "Iteration:  43%|████▎     | 3/7 [00:00<00:00, 21.14it/s]"
     ]
    },
    {
     "name": "stdout",
     "output_type": "stream",
     "text": [
      "Evaluating...\n"
     ]
    },
    {
     "name": "stderr",
     "output_type": "stream",
     "text": [
      "\r",
      "Iteration:  35%|███▌      | 22/62 [00:01<00:03, 11.58it/s]\r",
      "Iteration:  87%|████████▋ | 54/62 [00:02<00:00, 20.84it/s]\r",
      "Iteration:   3%|▎         | 2/62 [00:00<00:03, 18.39it/s]\r",
      "Iteration:  19%|█▉        | 12/62 [00:00<00:02, 21.27it/s]\r",
      "Iteration:  86%|████████▌ | 6/7 [00:00<00:00, 21.34it/s]\r",
      "Iteration: 100%|██████████| 7/7 [00:00<00:00, 21.62it/s]\r",
      "Iteration:   6%|▋         | 4/62 [00:00<00:03, 18.51it/s]\r",
      "Iteration:  39%|███▊      | 24/62 [00:02<00:03, 11.65it/s]\r",
      "Iteration:  92%|█████████▏| 57/62 [00:02<00:00, 20.91it/s]\n",
      "\r",
      "Iteration:   0%|          | 0/62 [00:00<?, ?it/s]"
     ]
    },
    {
     "name": "stdout",
     "output_type": "stream",
     "text": [
      "{'Train':  best_epoch_indx:15\n",
      " auc:0.928770768523582 \n",
      " apur:0.9108698849300103 \n",
      " f1:0.8192930294020481 \n",
      " precision:0.8516483516483516 \n",
      " recall:0.7893061744112031 \n",
      ", 'Validation':  best_epoch_indx:15\n",
      " auc:0.9043470211855091 \n",
      " apur:0.8823816536348351 \n",
      " f1:0.7828709288299155 \n",
      " precision:0.8267515923566879 \n",
      " recall:0.7434135166093929 \n",
      ", 'Test':  best_epoch_indx:15\n",
      " auc:0.9013330679233521 \n",
      " apur:0.8798257808435495 \n",
      " f1:0.7839771101573677 \n",
      " precision:0.8170974155069582 \n",
      " recall:0.7534372135655362 \n",
      "}\n",
      "=====Epoch 16\n",
      "Training...\n"
     ]
    },
    {
     "name": "stderr",
     "output_type": "stream",
     "text": [
      "Iteration:  21%|██        | 13/62 [00:00<00:02, 21.19it/s]\n",
      "Iteration: 100%|██████████| 62/62 [00:03<00:00, 18.52it/s]\n",
      "Iteration:  90%|█████████ | 56/62 [00:04<00:00, 11.69it/s]\n",
      "Iteration: 100%|██████████| 62/62 [00:05<00:00, 11.57it/s]\n",
      "Iteration:   0%|          | 0/62 [00:00<?, ?it/s]"
     ]
    },
    {
     "name": "stdout",
     "output_type": "stream",
     "text": [
      "Evaluating...\n"
     ]
    },
    {
     "name": "stderr",
     "output_type": "stream",
     "text": [
      "Iteration: 100%|██████████| 62/62 [00:05<00:00, 12.35it/s]\n",
      "Iteration:  68%|██████▊   | 42/62 [00:01<00:00, 21.94it/s]"
     ]
    },
    {
     "name": "stdout",
     "output_type": "stream",
     "text": [
      "Evaluating...\n"
     ]
    },
    {
     "name": "stderr",
     "output_type": "stream",
     "text": [
      "Iteration: 100%|██████████| 62/62 [00:02<00:00, 21.85it/s]\n",
      "Iteration:  43%|████▎     | 3/7 [00:00<00:00, 22.12it/s]s]\n",
      "Iteration: 100%|██████████| 7/7 [00:00<00:00, 22.28it/s]]]\n",
      "Iteration:  48%|████▊     | 30/62 [00:01<00:01, 21.39it/s]"
     ]
    },
    {
     "name": "stdout",
     "output_type": "stream",
     "text": [
      "{'Train':  best_epoch_indx:15\n",
      " auc:0.9294488325883248 \n",
      " apur:0.9108092733330172 \n",
      " f1:0.8232921275211451 \n",
      " precision:0.8419161676646707 \n",
      " recall:0.8054742202418842 \n",
      ", 'Validation':  best_epoch_indx:15\n",
      " auc:0.8940502774981585 \n",
      " apur:0.8652488896745553 \n",
      " f1:0.7830133798720187 \n",
      " precision:0.7955082742316785 \n",
      " recall:0.7709049255441008 \n",
      ", 'Test':  best_epoch_indx:15\n",
      " auc:0.9012950503815936 \n",
      " apur:0.8751211640259743 \n",
      " f1:0.7968423496633387 \n",
      " precision:0.8075294117647058 \n",
      " recall:0.7864344637946837 \n",
      "}\n",
      "=====Epoch 16\n",
      "Training...\n"
     ]
    },
    {
     "name": "stderr",
     "output_type": "stream",
     "text": [
      "Iteration: 100%|██████████| 62/62 [00:02<00:00, 21.36it/s]\n",
      "Iteration:  17%|█▋        | 3/18 [00:00<00:00, 22.02it/s]]\n",
      "Iteration:  32%|███▏      | 20/62 [00:01<00:03, 11.00it/s]\n",
      "Iteration: 100%|██████████| 7/7 [00:00<00:00, 22.17it/s]]]\n",
      "Iteration:  39%|███▊      | 24/62 [00:02<00:03, 11.05it/s]"
     ]
    },
    {
     "name": "stdout",
     "output_type": "stream",
     "text": [
      "{'Train':  best_epoch_indx:15\n",
      " auc:0.9288134802986068 \n",
      " apur:0.912033560134298 \n",
      " f1:0.8195037353255069 \n",
      " precision:0.8607257951520246 \n",
      " recall:0.7820496499045194 \n",
      ", 'Validation':  best_epoch_indx:15\n",
      " auc:0.8904875405448144 \n",
      " apur:0.860342150543808 \n",
      " f1:0.7570552147239263 \n",
      " precision:0.8150594451783355 \n",
      " recall:0.7067583046964491 \n",
      ", 'Test':  best_epoch_indx:15\n",
      " auc:0.899187726272614 \n",
      " apur:0.877438350641645 \n",
      " f1:0.7807720320466133 \n",
      " precision:0.8301497160557563 \n",
      " recall:0.7369385884509624 \n",
      "}\n",
      "=====Epoch 16\n",
      "Training...\n",
      "{'Train':  best_epoch_indx:15\n",
      " auc:0.9332194009689732 \n",
      " apur:0.91637362147166 \n",
      " f1:0.829438347320852 \n",
      " precision:0.841388343156516 \n",
      " recall:0.8178230426479949 \n",
      ", 'Validation':  best_epoch_indx:15\n",
      " auc:0.8936780944226534 \n",
      " apur:0.8601759552760775 \n",
      " f1:0.7762073027090695 \n",
      " precision:0.7987878787878788 \n",
      " recall:0.7548682703321878 \n",
      ", 'Test':  best_epoch_indx:15\n",
      " auc:0.8989838809728821 \n",
      " apur:0.8720972055691693 \n",
      " f1:0.7839219330855017 \n",
      " precision:0.795004712535344 \n",
      " recall:0.7731439046746105 \n",
      "}\n",
      "=====Epoch 16\n",
      "Training...\n"
     ]
    },
    {
     "name": "stderr",
     "output_type": "stream",
     "text": [
      "Iteration: 100%|██████████| 7/7 [00:00<00:00, 18.18it/s]\n",
      "Iteration:  48%|████▊     | 30/62 [00:02<00:03, 10.39it/s]\n",
      "Iteration: 100%|██████████| 62/62 [00:05<00:00, 11.64it/s]\n",
      "Iteration:  86%|████████▌ | 6/7 [00:00<00:00, 22.50it/s]"
     ]
    },
    {
     "name": "stdout",
     "output_type": "stream",
     "text": [
      "Evaluating...\n",
      "{'Train':  best_epoch_indx:16\n",
      " auc:0.9368109663040172 \n",
      " apur:0.9224074481603244 \n",
      " f1:0.8307230723072307 \n",
      " precision:0.7856980703745744 \n",
      " recall:0.8812221514958625 \n",
      ", 'Validation':  best_epoch_indx:16\n",
      " auc:0.9101177872655536 \n",
      " apur:0.889404790180341 \n",
      " f1:0.8041237113402061 \n",
      " precision:0.7639175257731958 \n",
      " recall:0.8487972508591065 \n",
      ", 'Test':  best_epoch_indx:16\n",
      " auc:0.9113793958283873 \n",
      " apur:0.8975241864767675 \n",
      " f1:0.7977406039539431 \n",
      " precision:0.758364312267658 \n",
      " recall:0.8414298808432631 \n",
      "}\n",
      "=====Epoch 17\n",
      "Training...\n"
     ]
    },
    {
     "name": "stderr",
     "output_type": "stream",
     "text": [
      "Iteration: 100%|██████████| 7/7 [00:00<00:00, 22.70it/s]\n",
      "Iteration:  84%|████████▍ | 52/62 [00:04<00:00, 10.22it/s]\n",
      "Iteration:  77%|███████▋  | 48/62 [00:02<00:00, 22.21it/s]\n",
      "Iteration:  82%|████████▏ | 51/62 [00:02<00:00, 22.27it/s]"
     ]
    },
    {
     "name": "stdout",
     "output_type": "stream",
     "text": [
      "{'Train':  best_epoch_indx:16\n",
      " auc:0.9411346215217712 \n",
      " apur:0.925608805976275 \n",
      " f1:0.8416608909331484 \n",
      " precision:0.8332085828343313 \n",
      " recall:0.8502864417568428 \n",
      ", 'Validation':  best_epoch_indx:16\n",
      " auc:0.913559998611545 \n",
      " apur:0.8915461115843717 \n",
      " f1:0.8110599078341013 \n",
      " precision:0.8157589803012746 \n",
      " recall:0.8064146620847652 \n",
      ", 'Test':  best_epoch_indx:16\n",
      " auc:0.9132624750406602 \n",
      " apur:0.8933107906021205 \n",
      " f1:0.8097715448993441 \n",
      " precision:0.7994640464493077 \n",
      " recall:0.8203483043079743 \n",
      "}\n",
      "=====Epoch 17\n",
      "Training...\n"
     ]
    },
    {
     "name": "stderr",
     "output_type": "stream",
     "text": [
      "Iteration: 100%|██████████| 62/62 [00:05<00:00, 10.44it/s]\n",
      "Iteration: 100%|██████████| 62/62 [00:05<00:00, 10.37it/s]\n",
      "Iteration:   0%|          | 0/62 [00:00<?, ?it/s]\n",
      "Iteration:  16%|█▌        | 10/62 [00:00<00:04, 12.63it/s]"
     ]
    },
    {
     "name": "stdout",
     "output_type": "stream",
     "text": [
      "Evaluating...\n",
      "Evaluating...\n"
     ]
    },
    {
     "name": "stderr",
     "output_type": "stream",
     "text": [
      "Iteration: 100%|██████████| 62/62 [00:05<00:00, 11.37it/s]\n",
      "Iteration:   5%|▍         | 3/62 [00:00<00:02, 20.66it/s]]"
     ]
    },
    {
     "name": "stdout",
     "output_type": "stream",
     "text": [
      "Evaluating...\n"
     ]
    },
    {
     "name": "stderr",
     "output_type": "stream",
     "text": [
      "Iteration:  81%|████████  | 50/62 [00:02<00:00, 16.74it/s]\n",
      "Iteration: 100%|██████████| 18/18 [00:00<00:00, 23.26it/s]\n",
      "Iteration: 100%|██████████| 62/62 [00:05<00:00, 11.89it/s]\n",
      "Iteration:  68%|██████▊   | 42/62 [00:01<00:00, 21.86it/s]"
     ]
    },
    {
     "name": "stdout",
     "output_type": "stream",
     "text": [
      "Evaluating...\n"
     ]
    },
    {
     "name": "stderr",
     "output_type": "stream",
     "text": [
      "Iteration: 100%|██████████| 62/62 [00:02<00:00, 21.53it/s]\n",
      "Iteration:  43%|████▎     | 3/7 [00:00<00:00, 22.74it/s]s]\n",
      "Iteration: 100%|██████████| 7/7 [00:00<00:00, 22.94it/s]]]\n",
      "Iteration:   3%|▎         | 2/62 [00:00<00:04, 12.43it/s]]"
     ]
    },
    {
     "name": "stdout",
     "output_type": "stream",
     "text": [
      "{'Train':  best_epoch_indx:16\n",
      " auc:0.9394235437796498 \n",
      " apur:0.9249512992029125 \n",
      " f1:0.8378447070784089 \n",
      " precision:0.8363567169859191 \n",
      " recall:0.8393380012730745 \n",
      ", 'Validation':  best_epoch_indx:16\n",
      " auc:0.9033365344934647 \n",
      " apur:0.8776454375627012 \n",
      " f1:0.7947548460661346 \n",
      " precision:0.7911464245175936 \n",
      " recall:0.7983963344788088 \n",
      ", 'Test':  best_epoch_indx:16\n",
      " auc:0.9104801710556902 \n",
      " apur:0.8888844050259351 \n",
      " f1:0.8080488356319241 \n",
      " precision:0.7974118697010263 \n",
      " recall:0.8189734188817599 \n",
      "}\n",
      "=====Epoch 17\n",
      "Training...\n"
     ]
    },
    {
     "name": "stderr",
     "output_type": "stream",
     "text": [
      "Iteration:  32%|███▏      | 20/62 [00:01<00:03, 12.49it/s]\n",
      "Iteration:  48%|████▊     | 30/62 [00:02<00:02, 12.16it/s]\n",
      "Iteration: 100%|██████████| 7/7 [00:00<00:00, 22.15it/s]s]\n",
      "Iteration:  58%|█████▊    | 36/62 [00:02<00:02, 12.24it/s]"
     ]
    },
    {
     "name": "stdout",
     "output_type": "stream",
     "text": [
      "{'Train':  best_epoch_indx:16\n",
      " auc:0.9435136081419604 \n",
      " apur:0.9293310285352265 \n",
      " f1:0.8409180846853976 \n",
      " precision:0.8724510743123033 \n",
      " recall:0.8115849777211966 \n",
      ", 'Validation':  best_epoch_indx:16\n",
      " auc:0.9059924367770874 \n",
      " apur:0.878312672279516 \n",
      " f1:0.7865707434052758 \n",
      " precision:0.8251572327044026 \n",
      " recall:0.7514318442153494 \n",
      ", 'Test':  best_epoch_indx:16\n",
      " auc:0.9110998496841328 \n",
      " apur:0.8889026669495705 \n",
      " f1:0.8025843503230436 \n",
      " precision:0.8397596394591887 \n",
      " recall:0.7685609532538955 \n",
      "}\n",
      "=====Epoch 17\n",
      "Training...\n"
     ]
    },
    {
     "name": "stderr",
     "output_type": "stream",
     "text": [
      "Iteration:  71%|███████   | 44/62 [00:03<00:01, 12.43it/s]\n",
      "Iteration: 100%|██████████| 7/7 [00:00<00:00, 17.93it/s]s]\n",
      "Iteration:   0%|          | 0/62 [00:00<?, ?it/s]"
     ]
    },
    {
     "name": "stdout",
     "output_type": "stream",
     "text": [
      "{'Train':  best_epoch_indx:16\n",
      " auc:0.9439032220432326 \n",
      " apur:0.9292392777543226 \n",
      " f1:0.8459618025215329 \n",
      " precision:0.8298028651891759 \n",
      " recall:0.8627625716104392 \n",
      ", 'Validation':  best_epoch_indx:16\n",
      " auc:0.9038658829609576 \n",
      " apur:0.8766139005573361 \n",
      " f1:0.7979568671963678 \n",
      " precision:0.7907761529808774 \n",
      " recall:0.8052691867124857 \n",
      ", 'Test':  best_epoch_indx:16\n",
      " auc:0.9099107481783925 \n",
      " apur:0.886268528371857 \n",
      " f1:0.7984636240397651 \n",
      " precision:0.7874331550802139 \n",
      " recall:0.80980751604033 \n",
      "}\n",
      "=====Epoch 17\n",
      "Training...\n"
     ]
    },
    {
     "name": "stderr",
     "output_type": "stream",
     "text": [
      "Iteration: 100%|██████████| 62/62 [00:05<00:00, 11.96it/s]\n",
      "Iteration:  19%|█▉        | 12/62 [00:01<00:04, 10.20it/s]\n",
      "Iteration:  45%|████▌     | 28/62 [00:02<00:02, 11.64it/s]"
     ]
    },
    {
     "name": "stdout",
     "output_type": "stream",
     "text": [
      "Evaluating...\n"
     ]
    },
    {
     "name": "stderr",
     "output_type": "stream",
     "text": [
      "Iteration:  52%|█████▏    | 32/62 [00:02<00:02, 11.67it/s]\n",
      "Iteration:  29%|██▉       | 18/62 [00:01<00:04, 10.28it/s]"
     ]
    },
    {
     "name": "stdout",
     "output_type": "stream",
     "text": [
      "{'Train':  best_epoch_indx:17\n",
      " auc:0.9448742198846135 \n",
      " apur:0.9302868398235824 \n",
      " f1:0.8460956225558218 \n",
      " precision:0.838479809976247 \n",
      " recall:0.8538510502864417 \n",
      ", 'Validation':  best_epoch_indx:17\n",
      " auc:0.9168604718432898 \n",
      " apur:0.8984641379399216 \n",
      " f1:0.81196089706728 \n",
      " precision:0.815242494226328 \n",
      " recall:0.8087056128293242 \n",
      ", 'Test':  best_epoch_indx:17\n",
      " auc:0.9196965496503899 \n",
      " apur:0.9072347664523507 \n",
      " f1:0.8140749148694665 \n",
      " precision:0.8065677013045434 \n",
      " recall:0.8217231897341888 \n",
      "}\n",
      "=====Epoch 18\n",
      "Training...\n"
     ]
    },
    {
     "name": "stderr",
     "output_type": "stream",
     "text": [
      "Iteration:  26%|██▌       | 16/62 [00:01<00:03, 12.15it/s]\n",
      "Iteration: 100%|██████████| 7/7 [00:00<00:00, 22.98it/s]s]\n",
      "Iteration:  84%|████████▍ | 52/62 [00:04<00:00, 10.08it/s]"
     ]
    },
    {
     "name": "stdout",
     "output_type": "stream",
     "text": [
      "{'Train':  best_epoch_indx:17\n",
      " auc:0.9504911472254235 \n",
      " apur:0.9368900228159657 \n",
      " f1:0.8502415458937198 \n",
      " precision:0.8853362734288864 \n",
      " recall:0.8178230426479949 \n",
      ", 'Validation':  best_epoch_indx:17\n",
      " auc:0.9209670203370088 \n",
      " apur:0.8998901076019307 \n",
      " f1:0.8080194410692588 \n",
      " precision:0.8602846054333765 \n",
      " recall:0.7617411225658648 \n",
      ", 'Test':  best_epoch_indx:17\n",
      " auc:0.9189900070055891 \n",
      " apur:0.9001453556543254 \n",
      " f1:0.809660449545672 \n",
      " precision:0.8465 \n",
      " recall:0.7758936755270394 \n",
      "}\n",
      "=====Epoch 18\n",
      "Training...\n"
     ]
    },
    {
     "name": "stderr",
     "output_type": "stream",
     "text": [
      "Iteration:  48%|████▊     | 30/62 [00:02<00:02, 11.91it/s]\n",
      "Iteration: 100%|██████████| 62/62 [00:05<00:00, 11.20it/s]\n",
      "Iteration:  74%|███████▍  | 46/62 [00:04<00:01, 10.10it/s]"
     ]
    },
    {
     "name": "stdout",
     "output_type": "stream",
     "text": [
      "Evaluating...\n"
     ]
    },
    {
     "name": "stderr",
     "output_type": "stream",
     "text": [
      "Iteration: 100%|██████████| 62/62 [00:06<00:00,  9.86it/s]\n",
      "Iteration:  94%|█████████▎| 58/62 [00:04<00:00, 12.30it/s]"
     ]
    },
    {
     "name": "stdout",
     "output_type": "stream",
     "text": [
      "Evaluating...\n"
     ]
    },
    {
     "name": "stderr",
     "output_type": "stream",
     "text": [
      "Iteration: 100%|██████████| 62/62 [00:05<00:00, 12.08it/s]\n",
      "Iteration:   5%|▍         | 3/62 [00:00<00:02, 21.63it/s]]"
     ]
    },
    {
     "name": "stdout",
     "output_type": "stream",
     "text": [
      "Evaluating...\n"
     ]
    },
    {
     "name": "stderr",
     "output_type": "stream",
     "text": [
      "Iteration:  19%|█▉        | 12/62 [00:00<00:02, 21.90it/s]\n",
      "Iteration: 100%|██████████| 62/62 [00:05<00:00, 12.40it/s]\n",
      "Iteration:   5%|▍         | 3/62 [00:00<00:02, 21.83it/s]]"
     ]
    },
    {
     "name": "stdout",
     "output_type": "stream",
     "text": [
      "Evaluating...\n"
     ]
    },
    {
     "name": "stderr",
     "output_type": "stream",
     "text": [
      "Iteration:  39%|███▊      | 24/62 [00:01<00:01, 21.42it/s]\n",
      "Iteration:  86%|████████▌ | 6/7 [00:00<00:00, 22.81it/s]s]\n",
      "Iteration: 100%|██████████| 7/7 [00:00<00:00, 23.02it/s]\n",
      "Iteration:  53%|█████▎    | 33/62 [00:01<00:01, 21.94it/s]\n",
      "Iteration:   3%|▎         | 2/62 [00:00<00:04, 12.38it/s]]"
     ]
    },
    {
     "name": "stdout",
     "output_type": "stream",
     "text": [
      "{'Train':  best_epoch_indx:17\n",
      " auc:0.9522454997293675 \n",
      " apur:0.9402467619169383 \n",
      " f1:0.8585481260117046 \n",
      " precision:0.8401364688680395 \n",
      " recall:0.8777848504137492 \n",
      ", 'Validation':  best_epoch_indx:17\n",
      " auc:0.9124005422688126 \n",
      " apur:0.8891985131764175 \n",
      " f1:0.8026905829596412 \n",
      " precision:0.7859495060373216 \n",
      " recall:0.8201603665521191 \n",
      ", 'Test':  best_epoch_indx:17\n",
      " auc:0.9223159633968978 \n",
      " apur:0.9017236961512031 \n",
      " f1:0.8155902004454342 \n",
      " precision:0.7933275563258232 \n",
      " recall:0.8391384051329056 \n",
      "}\n",
      "=====Epoch 18\n",
      "Training...\n"
     ]
    },
    {
     "name": "stderr",
     "output_type": "stream",
     "text": [
      "Iteration:  29%|██▉       | 18/62 [00:01<00:03, 12.42it/s]\n",
      "Iteration:  58%|█████▊    | 36/62 [00:02<00:02, 12.09it/s]\n",
      "Iteration:  65%|██████▍   | 40/62 [00:03<00:01, 12.13it/s]\n",
      "Iteration:   0%|          | 0/62 [00:00<?, ?it/s]"
     ]
    },
    {
     "name": "stdout",
     "output_type": "stream",
     "text": [
      "{'Train':  best_epoch_indx:17\n",
      " auc:0.9547639066118296 \n",
      " apur:0.9425448271660967 \n",
      " f1:0.8621541501976285 \n",
      " precision:0.8372316180880413 \n",
      " recall:0.8886059834500318 \n",
      ", 'Validation':  best_epoch_indx:17\n",
      " auc:0.9148346774349065 \n",
      " apur:0.8855660963223272 \n",
      " f1:0.8098434004474273 \n",
      " precision:0.7912568306010929 \n",
      " recall:0.8293241695303551 \n",
      ", 'Test':  best_epoch_indx:17\n",
      " auc:0.9191172361885528 \n",
      " apur:0.8980503767824433 \n",
      " f1:0.8177317731773178 \n",
      " precision:0.8032714412024757 \n",
      " recall:0.8327222731439047 \n",
      "}\n",
      "=====Epoch 18\n",
      "Training...\n"
     ]
    },
    {
     "name": "stderr",
     "output_type": "stream",
     "text": [
      "Iteration: 100%|██████████| 62/62 [00:05<00:00, 12.29it/s]\n",
      "Iteration:  32%|███▏      | 20/62 [00:01<00:03, 11.53it/s]"
     ]
    },
    {
     "name": "stdout",
     "output_type": "stream",
     "text": [
      "Evaluating...\n"
     ]
    },
    {
     "name": "stderr",
     "output_type": "stream",
     "text": [
      "Iteration:  39%|███▊      | 24/62 [00:02<00:03, 11.46it/s]\n",
      "Iteration:  86%|████████▌ | 6/7 [00:00<00:00, 21.61it/s]s]\n",
      "Iteration:  45%|████▌     | 28/62 [00:02<00:02, 11.49it/s]\n",
      "Iteration:  29%|██▉       | 18/62 [00:00<00:01, 22.12it/s]"
     ]
    },
    {
     "name": "stdout",
     "output_type": "stream",
     "text": [
      "{'Train':  best_epoch_indx:18\n",
      " auc:0.9545526048306567 \n",
      " apur:0.9427376049446554 \n",
      " f1:0.8621455306730952 \n",
      " precision:0.8592564491654021 \n",
      " recall:0.8650541056651814 \n",
      ", 'Validation':  best_epoch_indx:18\n",
      " auc:0.9223265491879468 \n",
      " apur:0.903938218167237 \n",
      " f1:0.8131109833237492 \n",
      " precision:0.8163972286374134 \n",
      " recall:0.8098510882016037 \n",
      ", 'Test':  best_epoch_indx:18\n",
      " auc:0.9250794722983818 \n",
      " apur:0.912545118950465 \n",
      " f1:0.8231229847996316 \n",
      " precision:0.8273148148148148 \n",
      " recall:0.8189734188817599 \n",
      "}\n",
      "=====Epoch 19\n",
      "Training...\n"
     ]
    },
    {
     "name": "stderr",
     "output_type": "stream",
     "text": [
      "Iteration:  39%|███▊      | 24/62 [00:01<00:01, 21.33it/s]\n",
      "Iteration:   3%|▎         | 2/62 [00:00<00:05, 10.43it/s]]"
     ]
    },
    {
     "name": "stdout",
     "output_type": "stream",
     "text": [
      "{'Train':  best_epoch_indx:17\n",
      " auc:0.9539436575516607 \n",
      " apur:0.94108166097492 \n",
      " f1:0.8611346869491415 \n",
      " precision:0.8838113106405789 \n",
      " recall:0.8395926161680458 \n",
      ", 'Validation':  best_epoch_indx:17\n",
      " auc:0.9117550071158319 \n",
      " apur:0.8858417010813499 \n",
      " f1:0.8042328042328043 \n",
      " precision:0.8260869565217391 \n",
      " recall:0.7835051546391752 \n",
      ", 'Test':  best_epoch_indx:17\n",
      " auc:0.9160568409422671 \n",
      " apur:0.8934104869451299 \n",
      " f1:0.8047337278106508 \n",
      " precision:0.8321096426823299 \n",
      " recall:0.7791017415215399 \n",
      "}\n",
      "=====Epoch 18\n",
      "Training...\n"
     ]
    },
    {
     "name": "stderr",
     "output_type": "stream",
     "text": [
      "Iteration:  68%|██████▊   | 42/62 [00:03<00:01, 11.40it/s]\n",
      "Iteration:  74%|███████▍  | 46/62 [00:04<00:01, 11.50it/s]"
     ]
    },
    {
     "name": "stdout",
     "output_type": "stream",
     "text": [
      "{'Train':  best_epoch_indx:18\n",
      " auc:0.9555622927226862 \n",
      " apur:0.94342866488704 \n",
      " f1:0.8655129789864029 \n",
      " precision:0.841081081081081 \n",
      " recall:0.8914067472947167 \n",
      ", 'Validation':  best_epoch_indx:18\n",
      " auc:0.923451776258191 \n",
      " apur:0.9035901852078672 \n",
      " f1:0.8203966005665723 \n",
      " precision:0.8116591928251121 \n",
      " recall:0.8293241695303551 \n",
      ", 'Test':  best_epoch_indx:18\n",
      " auc:0.9250648094140304 \n",
      " apur:0.9062605019940208 \n",
      " f1:0.824053452115813 \n",
      " precision:0.8015597920277296 \n",
      " recall:0.847846012832264 \n",
      "}\n",
      "=====Epoch 19\n",
      "Training...\n"
     ]
    },
    {
     "name": "stderr",
     "output_type": "stream",
     "text": [
      "\n",
      "Iteration:  87%|████████▋ | 54/62 [00:04<00:00, 11.77it/s]\n",
      "Iteration: 100%|██████████| 62/62 [00:05<00:00, 11.46it/s]\n",
      "Iteration:  58%|█████▊    | 36/62 [00:02<00:02, 12.35it/s]"
     ]
    },
    {
     "name": "stdout",
     "output_type": "stream",
     "text": [
      "Evaluating...\n"
     ]
    },
    {
     "name": "stderr",
     "output_type": "stream",
     "text": [
      "Iteration: 100%|██████████| 62/62 [00:05<00:00, 12.08it/s]\n",
      "Iteration:  77%|███████▋  | 48/62 [00:02<00:00, 21.41it/s]"
     ]
    },
    {
     "name": "stdout",
     "output_type": "stream",
     "text": [
      "Evaluating...\n"
     ]
    },
    {
     "name": "stderr",
     "output_type": "stream",
     "text": [
      "Iteration:  92%|█████████▏| 57/62 [00:05<00:00,  9.81it/s]\n",
      "Iteration: 100%|██████████| 62/62 [00:06<00:00, 10.19it/s]\n",
      "Iteration:   3%|▎         | 2/62 [00:00<00:03, 17.73it/s]]"
     ]
    },
    {
     "name": "stdout",
     "output_type": "stream",
     "text": [
      "Evaluating...\n"
     ]
    },
    {
     "name": "stderr",
     "output_type": "stream",
     "text": [
      "\r",
      "Iteration:  97%|█████████▋| 60/62 [00:05<00:00, 11.79it/s]\r",
      "Iteration:  83%|████████▎ | 15/18 [00:00<00:00, 22.38it/s]\r",
      "Iteration:   6%|▋         | 4/62 [00:00<00:03, 15.99it/s]\r",
      "Iteration:  52%|█████▏    | 32/62 [00:01<00:01, 20.16it/s]\r",
      "Iteration: 100%|██████████| 18/18 [00:00<00:00, 23.03it/s]\r",
      "Iteration: 100%|██████████| 18/18 [00:00<00:00, 22.70it/s]\r",
      "Iteration: 100%|██████████| 62/62 [00:05<00:00, 11.70it/s]\r",
      "Iteration: 100%|██████████| 62/62 [00:05<00:00, 11.96it/s]\n",
      "\r",
      "Iteration:   0%|          | 0/62 [00:00<?, ?it/s]"
     ]
    },
    {
     "name": "stdout",
     "output_type": "stream",
     "text": [
      "Evaluating...\n"
     ]
    },
    {
     "name": "stderr",
     "output_type": "stream",
     "text": [
      "Iteration:  35%|███▌      | 22/62 [00:01<00:02, 17.36it/s]\n",
      "Iteration:  45%|████▌     | 28/62 [00:01<00:01, 17.44it/s]\n",
      "Iteration: 100%|██████████| 62/62 [00:03<00:00, 20.63it/s]"
     ]
    },
    {
     "name": "stdout",
     "output_type": "stream",
     "text": [
      "{'Train':  best_epoch_indx:18\n",
      " auc:0.959138155971273 \n",
      " apur:0.9481385837514652 \n",
      " f1:0.8702729777109942 \n",
      " precision:0.8562276703215473 \n",
      " recall:0.8847867600254615 \n",
      ", 'Validation':  best_epoch_indx:18\n",
      " auc:0.9167110200901726 \n",
      " apur:0.8954668376707022 \n",
      " f1:0.8051801801801802 \n",
      " precision:0.7918050941306756 \n",
      " recall:0.8190148911798396 \n",
      ", 'Test':  best_epoch_indx:18\n",
      " auc:0.923467952836197 \n",
      " apur:0.9026759936869082 \n",
      " f1:0.81581311769991 \n",
      " precision:0.8 \n",
      " recall:0.8322639780018332 \n",
      "}\n",
      "=====Epoch 19\n",
      "Training...\n"
     ]
    },
    {
     "name": "stderr",
     "output_type": "stream",
     "text": [
      "Iteration:   3%|▎         | 2/62 [00:00<00:04, 12.44it/s]]\n",
      "Iteration:  94%|█████████▎| 58/62 [00:03<00:00, 17.50it/s]\n",
      "Iteration:  33%|███▎      | 6/18 [00:00<00:00, 21.65it/s]]\n",
      "Iteration:  61%|██████▏   | 38/62 [00:03<00:02, 11.99it/s]\n",
      "Iteration: 100%|██████████| 7/7 [00:00<00:00, 22.94it/s]s]\n",
      "Iteration:  74%|███████▍  | 46/62 [00:03<00:01, 11.59it/s]"
     ]
    },
    {
     "name": "stdout",
     "output_type": "stream",
     "text": [
      "{'Train':  best_epoch_indx:18\n",
      " auc:0.9635526697348277 \n",
      " apur:0.9534092662342732 \n",
      " f1:0.8777905345069523 \n",
      " precision:0.8795858366355618 \n",
      " recall:0.8760025461489497 \n",
      ", 'Validation':  best_epoch_indx:18\n",
      " auc:0.9235462683343555 \n",
      " apur:0.8980923176536013 \n",
      " f1:0.8181289947704823 \n",
      " precision:0.8301886792452831 \n",
      " recall:0.8064146620847652 \n",
      ", 'Test':  best_epoch_indx:18\n",
      " auc:0.925004607649037 \n",
      " apur:0.9052561871891127 \n",
      " f1:0.8271028037383177 \n",
      " precision:0.8436606291706387 \n",
      " recall:0.8111824014665444 \n",
      "}\n",
      "=====Epoch 19\n",
      "Training...\n"
     ]
    },
    {
     "name": "stderr",
     "output_type": "stream",
     "text": [
      "Iteration:  29%|██▉       | 18/62 [00:01<00:03, 11.69it/s]\n",
      "Iteration:   0%|          | 0/62 [00:00<?, ?it/s]"
     ]
    },
    {
     "name": "stdout",
     "output_type": "stream",
     "text": [
      "Evaluating...\n"
     ]
    },
    {
     "name": "stderr",
     "output_type": "stream",
     "text": [
      "Iteration:  19%|█▉        | 12/62 [00:00<00:02, 22.96it/s]\n",
      "Iteration: 100%|██████████| 7/7 [00:00<00:00, 11.83it/s]s]\n",
      "Iteration:  48%|████▊     | 30/62 [00:01<00:01, 23.08it/s]"
     ]
    },
    {
     "name": "stdout",
     "output_type": "stream",
     "text": [
      "{'Train':  best_epoch_indx:19\n",
      " auc:0.9590541378195413 \n",
      " apur:0.948271518817283 \n",
      " f1:0.8704755825087775 \n",
      " precision:0.8729833546734955 \n",
      " recall:0.867982176957352 \n",
      ", 'Validation':  best_epoch_indx:19\n",
      " auc:0.9228173294610866 \n",
      " apur:0.9045661001162268 \n",
      " f1:0.8201856148491878 \n",
      " precision:0.8307873090481787 \n",
      " recall:0.8098510882016037 \n",
      ", 'Test':  best_epoch_indx:19\n",
      " auc:0.9270817543581258 \n",
      " apur:0.9151755620174385 \n",
      " f1:0.8251391465677179 \n",
      " precision:0.8352112676056338 \n",
      " recall:0.8153070577451879 \n",
      "}\n",
      "=====Epoch 20\n",
      "Training...\n"
     ]
    },
    {
     "name": "stderr",
     "output_type": "stream",
     "text": [
      "Iteration:  16%|█▌        | 10/62 [00:00<00:04, 11.69it/s]\n",
      "Iteration: 100%|██████████| 62/62 [00:02<00:00, 23.06it/s]\n",
      "Iteration:  29%|██▉       | 18/62 [00:01<00:03, 11.65it/s]\n",
      "Iteration:   0%|          | 0/62 [00:00<?, ?it/s]\n",
      "Iteration:  17%|█▋        | 3/18 [00:00<00:00, 22.87it/s]]"
     ]
    },
    {
     "name": "stdout",
     "output_type": "stream",
     "text": [
      "{'Train':  best_epoch_indx:19\n",
      " auc:0.9634572600886149 \n",
      " apur:0.9529659979087709 \n",
      " f1:0.8797020954304469 \n",
      " precision:0.872324446113406 \n",
      " recall:0.8872056015276893 \n",
      ", 'Validation':  best_epoch_indx:19\n",
      " auc:0.9305512166336909 \n",
      " apur:0.9130942245822236 \n",
      " f1:0.8301669545192861 \n",
      " precision:0.8344907407407407 \n",
      " recall:0.8258877434135166 \n",
      ", 'Test':  best_epoch_indx:19\n",
      " auc:0.9312662216420236 \n",
      " apur:0.9131909739241747 \n",
      " f1:0.8345062429057889 \n",
      " precision:0.8268106162843005 \n",
      " recall:0.842346471127406 \n",
      "}\n",
      "=====Epoch 20\n",
      "Training...\n"
     ]
    },
    {
     "name": "stderr",
     "output_type": "stream",
     "text": [
      "\r",
      "Iteration:   3%|▎         | 2/62 [00:00<00:05, 11.42it/s]\r",
      "Iteration:  86%|████████▌ | 6/7 [00:00<00:00, 17.70it/s]\r",
      "Iteration:  33%|███▎      | 6/18 [00:00<00:00, 22.96it/s]\r",
      "Iteration:  87%|████████▋ | 54/62 [00:04<00:00, 11.52it/s]\r",
      "Iteration: 100%|██████████| 7/7 [00:00<00:00, 17.86it/s]\r",
      "Iteration:  35%|███▌      | 22/62 [00:01<00:03, 11.85it/s]\n",
      "\r",
      "Iteration:   0%|          | 0/62 [00:00<?, ?it/s]\r",
      "Iteration:   6%|▋         | 4/62 [00:00<00:05, 11.57it/s]"
     ]
    },
    {
     "name": "stdout",
     "output_type": "stream",
     "text": [
      "{'Train':  best_epoch_indx:18\n",
      " auc:0.9627745532076111 \n",
      " apur:0.9525030265491454 \n",
      " f1:0.872715318869165 \n",
      " precision:0.9023793337865398 \n",
      " recall:0.8449395289624443 \n",
      ", 'Validation':  best_epoch_indx:18\n",
      " auc:0.9194368272260597 \n",
      " apur:0.8950922401276009 \n",
      " f1:0.811298076923077 \n",
      " precision:0.8533501896333755 \n",
      " recall:0.7731958762886598 \n",
      ", 'Test':  best_epoch_indx:18\n",
      " auc:0.9220973869461495 \n",
      " apur:0.9004154052352429 \n",
      " f1:0.8110444177671068 \n",
      " precision:0.8517397881996974 \n",
      " recall:0.7740604949587534 \n",
      "}\n",
      "=====Epoch 19\n",
      "Training...\n"
     ]
    },
    {
     "name": "stderr",
     "output_type": "stream",
     "text": [
      "Iteration: 100%|██████████| 62/62 [00:05<00:00, 11.59it/s]\n",
      "Iteration:  11%|█▏        | 7/62 [00:00<00:05, 10.16it/s]]"
     ]
    },
    {
     "name": "stdout",
     "output_type": "stream",
     "text": [
      "Evaluating...\n"
     ]
    },
    {
     "name": "stderr",
     "output_type": "stream",
     "text": [
      "Iteration: 100%|██████████| 62/62 [00:05<00:00, 11.87it/s]\n",
      "Iteration:  55%|█████▍    | 34/62 [00:03<00:02,  9.97it/s]"
     ]
    },
    {
     "name": "stdout",
     "output_type": "stream",
     "text": [
      "Evaluating...\n"
     ]
    },
    {
     "name": "stderr",
     "output_type": "stream",
     "text": [
      "Iteration:  10%|▉         | 6/62 [00:00<00:02, 20.73it/s]]\n",
      "Iteration: 100%|██████████| 62/62 [00:05<00:00, 11.88it/s]\n",
      "Iteration:  53%|█████▎    | 33/62 [00:01<00:01, 19.94it/s]"
     ]
    },
    {
     "name": "stdout",
     "output_type": "stream",
     "text": [
      "Evaluating...\n"
     ]
    },
    {
     "name": "stderr",
     "output_type": "stream",
     "text": [
      "Iteration:  56%|█████▋    | 35/62 [00:01<00:01, 19.90it/s]\n",
      "Iteration: 100%|██████████| 7/7 [00:00<00:00, 14.46it/s]s]\n",
      "Iteration:  23%|██▎       | 14/62 [00:00<00:02, 20.60it/s]"
     ]
    },
    {
     "name": "stdout",
     "output_type": "stream",
     "text": [
      "{'Train':  best_epoch_indx:19\n",
      " auc:0.9658498010300114 \n",
      " apur:0.9562291142061847 \n",
      " f1:0.8814070351758795 \n",
      " precision:0.8699318040917545 \n",
      " recall:0.8931890515595162 \n",
      ", 'Validation':  best_epoch_indx:19\n",
      " auc:0.922573385631805 \n",
      " apur:0.9020668745662723 \n",
      " f1:0.8163265306122448 \n",
      " precision:0.8080808080808081 \n",
      " recall:0.8247422680412371 \n",
      ", 'Test':  best_epoch_indx:19\n",
      " auc:0.929489540405146 \n",
      " apur:0.911223261814138 \n",
      " f1:0.8279424977538185 \n",
      " precision:0.8118942731277533 \n",
      " recall:0.8446379468377635 \n",
      "}\n",
      "=====Epoch 20\n",
      "Training...\n"
     ]
    },
    {
     "name": "stderr",
     "output_type": "stream",
     "text": [
      "Iteration: 100%|██████████| 62/62 [00:06<00:00, 10.00it/s]\n",
      "Iteration:   0%|          | 0/62 [00:00<?, ?it/s]"
     ]
    },
    {
     "name": "stdout",
     "output_type": "stream",
     "text": [
      "Evaluating...\n"
     ]
    },
    {
     "name": "stderr",
     "output_type": "stream",
     "text": [
      "Iteration:  16%|█▌        | 10/62 [00:00<00:04, 11.46it/s]\n",
      "Iteration:  45%|████▌     | 28/62 [00:02<00:02, 11.54it/s]\n",
      "Iteration:  71%|███████   | 44/62 [00:02<00:01, 16.92it/s]\n",
      "Iteration: 100%|██████████| 7/7 [00:00<00:00, 14.52it/s]s]\n",
      "Iteration:  87%|████████▋ | 54/62 [00:03<00:00, 16.46it/s]"
     ]
    },
    {
     "name": "stdout",
     "output_type": "stream",
     "text": [
      "{'Train':  best_epoch_indx:19\n",
      " auc:0.9684646590833982 \n",
      " apur:0.9600529449043782 \n",
      " f1:0.8882854436375119 \n",
      " precision:0.881328320802005 \n",
      " recall:0.8953532781667728 \n",
      ", 'Validation':  best_epoch_indx:19\n",
      " auc:0.9266915045838298 \n",
      " apur:0.9033818575704086 \n",
      " f1:0.8297994269340975 \n",
      " precision:0.8302752293577982 \n",
      " recall:0.8293241695303551 \n",
      ", 'Test':  best_epoch_indx:19\n",
      " auc:0.9275760925839542 \n",
      " apur:0.9094320835158879 \n",
      " f1:0.8307478583005325 \n",
      " precision:0.8394946186242396 \n",
      " recall:0.8221814848762603 \n",
      "}\n",
      "=====Epoch 20\n",
      "Training...\n"
     ]
    },
    {
     "name": "stderr",
     "output_type": "stream",
     "text": [
      "Iteration:  13%|█▎        | 8/62 [00:00<00:04, 11.94it/s]]\n",
      "Iteration: 100%|██████████| 62/62 [00:05<00:00, 11.55it/s]\n",
      "Iteration:   0%|          | 0/62 [00:00<?, ?it/s]"
     ]
    },
    {
     "name": "stdout",
     "output_type": "stream",
     "text": [
      "Evaluating...\n"
     ]
    },
    {
     "name": "stderr",
     "output_type": "stream",
     "text": [
      "Iteration:  44%|████▎     | 27/62 [00:01<00:01, 22.90it/s]\n",
      "Iteration: 100%|██████████| 7/7 [00:00<00:00, 21.09it/s]s]\n",
      "Iteration:  61%|██████▏   | 38/62 [00:03<00:02, 11.48it/s]"
     ]
    },
    {
     "name": "stdout",
     "output_type": "stream",
     "text": [
      "{'Train':  best_epoch_indx:20\n",
      " auc:0.9609486608006793 \n",
      " apur:0.9506429153843358 \n",
      " f1:0.8747365059086554 \n",
      " precision:0.8778205128205128 \n",
      " recall:0.8716740929344367 \n",
      ", 'Validation':  best_epoch_indx:20\n",
      " auc:0.9230988772798624 \n",
      " apur:0.9072978480861872 \n",
      " f1:0.8253602305475505 \n",
      " precision:0.8306264501160093 \n",
      " recall:0.8201603665521191 \n",
      ", 'Test':  best_epoch_indx:20\n",
      " auc:0.9289248911529743 \n",
      " apur:0.9179021723443551 \n",
      " f1:0.825845298749421 \n",
      " precision:0.8347378277153558 \n",
      " recall:0.8171402383134739 \n",
      "}\n",
      "=====Epoch 21\n",
      "Training...\n"
     ]
    },
    {
     "name": "stderr",
     "output_type": "stream",
     "text": [
      "Iteration:  81%|████████  | 50/62 [00:04<00:01, 11.43it/s]\n",
      "Iteration:  23%|██▎       | 14/62 [00:01<00:04, 11.68it/s]\n",
      "Iteration:  87%|████████▋ | 54/62 [00:04<00:00, 11.57it/s]\n",
      "Iteration:  29%|██▉       | 18/62 [00:01<00:03, 11.81it/s]"
     ]
    },
    {
     "name": "stdout",
     "output_type": "stream",
     "text": [
      "{'Train':  best_epoch_indx:20\n",
      " auc:0.9653226018240729 \n",
      " apur:0.955211854601416 \n",
      " f1:0.8808075579138087 \n",
      " precision:0.8956441637057507 \n",
      " recall:0.8664544875875239 \n",
      ", 'Validation':  best_epoch_indx:20\n",
      " auc:0.9319223159429344 \n",
      " apur:0.9140483072435674 \n",
      " f1:0.8230403800475059 \n",
      " precision:0.8545006165228114 \n",
      " recall:0.7938144329896907 \n",
      ", 'Test':  best_epoch_indx:20\n",
      " auc:0.9327349264104534 \n",
      " apur:0.9146138212675916 \n",
      " f1:0.8309428638608041 \n",
      " precision:0.8532110091743119 \n",
      " recall:0.80980751604033 \n",
      "}\n",
      "=====Epoch 21\n",
      "Training...\n"
     ]
    },
    {
     "name": "stderr",
     "output_type": "stream",
     "text": [
      "Iteration:  39%|███▊      | 24/62 [00:02<00:03, 11.84it/s]\n",
      "Iteration: 100%|██████████| 62/62 [00:05<00:00, 11.57it/s]\n",
      "Iteration:  16%|█▌        | 10/62 [00:00<00:04, 12.02it/s]"
     ]
    },
    {
     "name": "stdout",
     "output_type": "stream",
     "text": [
      "Evaluating...\n"
     ]
    },
    {
     "name": "stderr",
     "output_type": "stream",
     "text": [
      "\r",
      "Iteration:  86%|████████▌ | 6/7 [00:00<00:00, 23.16it/s]\r",
      "Iteration: 100%|██████████| 7/7 [00:00<00:00, 23.32it/s]\r",
      "Iteration:  45%|████▌     | 28/62 [00:02<00:02, 11.87it/s]\r",
      "Iteration:  10%|▉         | 6/62 [00:00<00:02, 22.44it/s]\n",
      "\r",
      "Iteration:   0%|          | 0/62 [00:00<?, ?it/s]\r",
      "Iteration:  19%|█▉        | 12/62 [00:00<00:04, 12.04it/s]\r",
      "Iteration:  15%|█▍        | 9/62 [00:00<00:02, 22.64it/s]"
     ]
    },
    {
     "name": "stdout",
     "output_type": "stream",
     "text": [
      "{'Train':  best_epoch_indx:20\n",
      " auc:0.9665173136342227 \n",
      " apur:0.95633972427114 \n",
      " f1:0.8845435297048201 \n",
      " precision:0.8657808118980861 \n",
      " recall:0.9041374920432845 \n",
      ", 'Validation':  best_epoch_indx:20\n",
      " auc:0.9188901230711082 \n",
      " apur:0.8970838614577257 \n",
      " f1:0.8080581980973699 \n",
      " precision:0.7899343544857768 \n",
      " recall:0.827033218785796 \n",
      ", 'Test':  best_epoch_indx:20\n",
      " auc:0.9289783769282278 \n",
      " apur:0.9094065044863637 \n",
      " f1:0.8291167332445628 \n",
      " precision:0.8037865748709122 \n",
      " recall:0.8560953253895509 \n",
      "}\n",
      "=====Epoch 21\n",
      "Training...\n"
     ]
    },
    {
     "name": "stderr",
     "output_type": "stream",
     "text": [
      "Iteration:  61%|██████▏   | 38/62 [00:03<00:02, 11.75it/s]\n",
      "Iteration:  68%|██████▊   | 42/62 [00:01<00:00, 22.88it/s]\n",
      "Iteration:  29%|██▉       | 18/62 [00:01<00:04, 10.51it/s]"
     ]
    },
    {
     "name": "stdout",
     "output_type": "stream",
     "text": [
      "{'Train':  best_epoch_indx:19\n",
      " auc:0.9684994818197427 \n",
      " apur:0.9594081587238706 \n",
      " f1:0.8901596078924219 \n",
      " precision:0.8788931629234397 \n",
      " recall:0.9017186505410566 \n",
      ", 'Validation':  best_epoch_indx:19\n",
      " auc:0.9234835950185319 \n",
      " apur:0.8997957845807142 \n",
      " f1:0.8255223037831734 \n",
      " precision:0.8140311804008908 \n",
      " recall:0.8373424971363116 \n",
      ", 'Test':  best_epoch_indx:19\n",
      " auc:0.9259015452416002 \n",
      " apur:0.905338593297711 \n",
      " f1:0.8230228869249944 \n",
      " precision:0.813984760197221 \n",
      " recall:0.8322639780018332 \n",
      "}\n",
      "=====Epoch 20\n",
      "Training...\n"
     ]
    },
    {
     "name": "stderr",
     "output_type": "stream",
     "text": [
      "Iteration:  68%|██████▊   | 42/62 [00:03<00:01, 12.10it/s]\n",
      "Iteration: 100%|██████████| 62/62 [00:05<00:00, 11.83it/s]\n",
      "Iteration:  33%|███▎      | 6/18 [00:00<00:00, 23.35it/s]]"
     ]
    },
    {
     "name": "stdout",
     "output_type": "stream",
     "text": [
      "Evaluating...\n"
     ]
    },
    {
     "name": "stderr",
     "output_type": "stream",
     "text": [
      "Iteration: 100%|██████████| 62/62 [00:05<00:00, 11.98it/s]\n",
      "Iteration:  74%|███████▍  | 46/62 [00:04<00:01, 10.43it/s]"
     ]
    },
    {
     "name": "stdout",
     "output_type": "stream",
     "text": [
      "Evaluating...\n"
     ]
    },
    {
     "name": "stderr",
     "output_type": "stream",
     "text": [
      "Iteration: 100%|██████████| 62/62 [00:05<00:00, 10.43it/s]\n",
      "Iteration:  71%|███████   | 44/62 [00:04<00:01, 10.10it/s]\n",
      "Iteration:  58%|█████▊    | 36/62 [00:01<00:01, 21.22it/s]"
     ]
    },
    {
     "name": "stdout",
     "output_type": "stream",
     "text": [
      "Evaluating...\n"
     ]
    },
    {
     "name": "stderr",
     "output_type": "stream",
     "text": [
      "Iteration:  87%|████████▋ | 54/62 [00:02<00:00, 21.42it/s]\n",
      "Iteration: 100%|██████████| 7/7 [00:00<00:00, 22.11it/s]s]\n",
      "Iteration:  94%|█████████▎| 58/62 [00:05<00:00, 10.12it/s]"
     ]
    },
    {
     "name": "stdout",
     "output_type": "stream",
     "text": [
      "{'Train':  best_epoch_indx:21\n",
      " auc:0.9601637550099769 \n",
      " apur:0.9507207085757929 \n",
      " f1:0.8752391886720244 \n",
      " precision:0.8770292726575483 \n",
      " recall:0.8734563971992362 \n",
      ", 'Validation':  best_epoch_indx:21\n",
      " auc:0.9244680481793885 \n",
      " apur:0.906913168964981 \n",
      " f1:0.8216964800923254 \n",
      " precision:0.827906976744186 \n",
      " recall:0.8155784650630011 \n",
      ", 'Test':  best_epoch_indx:21\n",
      " auc:0.9244564749277517 \n",
      " apur:0.9123991828631324 \n",
      " f1:0.8262780476520935 \n",
      " precision:0.834189631013545 \n",
      " recall:0.8185151237396884 \n",
      "}\n",
      "=====Epoch 22\n",
      "Training...\n"
     ]
    },
    {
     "name": "stderr",
     "output_type": "stream",
     "text": [
      "Iteration:   3%|▎         | 2/62 [00:00<00:05, 10.80it/s]\n",
      "Iteration: 100%|██████████| 62/62 [00:06<00:00, 10.15it/s]\n",
      "Iteration:   3%|▎         | 2/62 [00:00<00:03, 19.66it/s]"
     ]
    },
    {
     "name": "stdout",
     "output_type": "stream",
     "text": [
      "Evaluating...\n"
     ]
    },
    {
     "name": "stderr",
     "output_type": "stream",
     "text": [
      "Iteration:  69%|██████▉   | 43/62 [00:02<00:00, 21.15it/s]\n",
      "Iteration:  86%|████████▌ | 6/7 [00:00<00:00, 20.97it/s]s]\n",
      "Iteration: 100%|██████████| 7/7 [00:00<00:00, 21.13it/s]\n",
      "Iteration:  43%|████▎     | 3/7 [00:00<00:00, 23.01it/s]s]"
     ]
    },
    {
     "name": "stdout",
     "output_type": "stream",
     "text": [
      "{'Train':  best_epoch_indx:20\n",
      " auc:0.9703957903988272 \n",
      " apur:0.9620774586760455 \n",
      " f1:0.8903834066624764 \n",
      " precision:0.8793296089385475 \n",
      " recall:0.9017186505410566 \n",
      ", 'Validation':  best_epoch_indx:20\n",
      " auc:0.9246724596094584 \n",
      " apur:0.8999636019783709 \n",
      " f1:0.826956025128498 \n",
      " precision:0.8246013667425968 \n",
      " recall:0.8293241695303551 \n",
      ", 'Test':  best_epoch_indx:20\n",
      " auc:0.9290858887390909 \n",
      " apur:0.9117852078304506 \n",
      " f1:0.830110497237569 \n",
      " precision:0.833950046253469 \n",
      " recall:0.8263061411549038 \n",
      "}\n",
      "=====Epoch 21\n",
      "Training...\n"
     ]
    },
    {
     "name": "stderr",
     "output_type": "stream",
     "text": [
      "\r",
      "Iteration:  89%|████████▊ | 55/62 [00:02<00:00, 21.04it/s]\r",
      "Iteration:  27%|██▋       | 17/62 [00:00<00:02, 20.23it/s]\r",
      "Iteration:   3%|▎         | 2/62 [00:00<00:05, 10.42it/s]\r",
      "Iteration:  26%|██▌       | 16/62 [00:01<00:03, 12.02it/s]\r",
      "Iteration:  86%|████████▌ | 6/7 [00:00<00:00, 22.42it/s]\r",
      "Iteration: 100%|██████████| 7/7 [00:00<00:00, 22.83it/s]\n",
      "\r",
      "Iteration:   0%|          | 0/62 [00:00<?, ?it/s]\r",
      "Iteration:  94%|█████████▎| 58/62 [00:02<00:00, 21.15it/s]\r",
      "Iteration:  32%|███▏      | 20/62 [00:00<00:02, 20.44it/s]\r",
      "Iteration:   6%|▋         | 4/62 [00:00<00:05, 10.99it/s]\r",
      "Iteration:  29%|██▉       | 18/62 [00:01<00:03, 12.10it/s]"
     ]
    },
    {
     "name": "stdout",
     "output_type": "stream",
     "text": [
      "{'Train':  best_epoch_indx:21\n",
      " auc:0.9646468504626998 \n",
      " apur:0.9533732952389329 \n",
      " f1:0.8827313211281543 \n",
      " precision:0.8584145314567545 \n",
      " recall:0.9084659452577976 \n",
      ", 'Validation':  best_epoch_indx:21\n",
      " auc:0.9314112873677592 \n",
      " apur:0.9139420082399206 \n",
      " f1:0.8383098591549296 \n",
      " precision:0.8248337028824834 \n",
      " recall:0.852233676975945 \n",
      ", 'Test':  best_epoch_indx:21\n",
      " auc:0.9306269230650533 \n",
      " apur:0.9105851541006009 \n",
      " f1:0.8332225913621262 \n",
      " precision:0.8062580368624089 \n",
      " recall:0.8620531622364803 \n",
      "}\n",
      "=====Epoch 22\n",
      "Training...\n"
     ]
    },
    {
     "name": "stderr",
     "output_type": "stream",
     "text": [
      "Iteration:   6%|▋         | 4/62 [00:00<00:04, 12.34it/s]]\n",
      "Iteration:  52%|█████▏    | 32/62 [00:02<00:02, 12.36it/s]\n",
      "Iteration:  58%|█████▊    | 36/62 [00:03<00:02, 12.40it/s]\n",
      "Iteration:  35%|███▌      | 22/62 [00:01<00:03, 11.63it/s]"
     ]
    },
    {
     "name": "stdout",
     "output_type": "stream",
     "text": [
      "{'Train':  best_epoch_indx:21\n",
      " auc:0.9684281162487295 \n",
      " apur:0.9594699484018646 \n",
      " f1:0.8857287963433215 \n",
      " precision:0.8833734329492212 \n",
      " recall:0.8880967536600891 \n",
      ", 'Validation':  best_epoch_indx:21\n",
      " auc:0.9228308283291101 \n",
      " apur:0.9010373122191887 \n",
      " f1:0.8076036866359447 \n",
      " precision:0.8122827346465817 \n",
      " recall:0.8029782359679267 \n",
      ", 'Test':  best_epoch_indx:21\n",
      " auc:0.9287541688804478 \n",
      " apur:0.9110917588865682 \n",
      " f1:0.8263145913954018 \n",
      " precision:0.8208955223880597 \n",
      " recall:0.8318056828597616 \n",
      "}\n",
      "=====Epoch 22\n",
      "Training...\n"
     ]
    },
    {
     "name": "stderr",
     "output_type": "stream",
     "text": [
      "Iteration:  45%|████▌     | 28/62 [00:02<00:02, 11.66it/s]\n",
      "Iteration: 100%|██████████| 62/62 [00:05<00:00, 12.18it/s]\n",
      "Iteration:   0%|          | 0/62 [00:00<?, ?it/s]"
     ]
    },
    {
     "name": "stdout",
     "output_type": "stream",
     "text": [
      "Evaluating...\n"
     ]
    },
    {
     "name": "stderr",
     "output_type": "stream",
     "text": [
      "Iteration: 100%|██████████| 62/62 [00:04<00:00, 12.40it/s]\n",
      "Iteration:   0%|          | 0/62 [00:00<?, ?it/s]"
     ]
    },
    {
     "name": "stdout",
     "output_type": "stream",
     "text": [
      "Evaluating...\n",
      "Evaluating...\n"
     ]
    },
    {
     "name": "stderr",
     "output_type": "stream",
     "text": [
      "Iteration: 100%|██████████| 62/62 [00:05<00:00, 11.59it/s]\n",
      "Iteration:  53%|█████▎    | 33/62 [00:01<00:01, 22.15it/s]\n",
      "Iteration: 100%|██████████| 62/62 [00:05<00:00, 11.67it/s]\n",
      "Iteration:  73%|███████▎  | 45/62 [00:02<00:00, 22.12it/s]"
     ]
    },
    {
     "name": "stdout",
     "output_type": "stream",
     "text": [
      "Evaluating...\n"
     ]
    },
    {
     "name": "stderr",
     "output_type": "stream",
     "text": [
      "Iteration:  24%|██▍       | 15/62 [00:00<00:02, 21.96it/s]\n",
      "Iteration: 100%|██████████| 7/7 [00:00<00:00, 21.77it/s]s]\n",
      "Iteration:  39%|███▊      | 24/62 [00:01<00:01, 22.20it/s]"
     ]
    },
    {
     "name": "stdout",
     "output_type": "stream",
     "text": [
      "{'Train':  best_epoch_indx:20\n",
      " auc:0.9710870780439673 \n",
      " apur:0.9625578849688584 \n",
      " f1:0.8943851102367123 \n",
      " precision:0.8778813143697891 \n",
      " recall:0.9115213239974539 \n",
      ", 'Validation':  best_epoch_indx:20\n",
      " auc:0.9247573096370348 \n",
      " apur:0.9020694219681069 \n",
      " f1:0.8256467941507312 \n",
      " precision:0.8110497237569061 \n",
      " recall:0.8407789232531501 \n",
      ", 'Test':  best_epoch_indx:20\n",
      " auc:0.9290531344610171 \n",
      " apur:0.9092265002581716 \n",
      " f1:0.8332207967589466 \n",
      " precision:0.8186643078283945 \n",
      " recall:0.8483043079743354 \n",
      "}\n",
      "=====Epoch 21\n",
      "Training...\n"
     ]
    },
    {
     "name": "stderr",
     "output_type": "stream",
     "text": [
      "\n",
      "Iteration:   0%|          | 0/18 [00:00<?, ?it/s]\n",
      "Iteration:  23%|██▎       | 14/62 [00:01<00:03, 12.19it/s]\n",
      "Iteration: 100%|██████████| 7/7 [00:00<00:00, 21.86it/s]s]\n",
      "Iteration:  97%|█████████▋| 60/62 [00:02<00:00, 21.98it/s]"
     ]
    },
    {
     "name": "stdout",
     "output_type": "stream",
     "text": [
      "{'Train':  best_epoch_indx:22\n",
      " auc:0.962213907359029 \n",
      " apur:0.9512497653414284 \n",
      " f1:0.8762128422223595 \n",
      " precision:0.8514292577468172 \n",
      " recall:0.9024824952259707 \n",
      ", 'Validation':  best_epoch_indx:22\n",
      " auc:0.9276518526232157 \n",
      " apur:0.909533158549535 \n",
      " f1:0.8375973303670745 \n",
      " precision:0.8140540540540541 \n",
      " recall:0.8625429553264605 \n",
      ", 'Test':  best_epoch_indx:22\n",
      " auc:0.9283185506146092 \n",
      " apur:0.9091015291611793 \n",
      " f1:0.8285206574855619 \n",
      " precision:0.8038793103448276 \n",
      " recall:0.8547204399633364 \n",
      "}\n",
      "=====Epoch 23\n",
      "Training...\n"
     ]
    },
    {
     "name": "stderr",
     "output_type": "stream",
     "text": [
      "Iteration:  35%|███▌      | 22/62 [00:01<00:03, 12.15it/s]\n",
      "Iteration:  26%|██▌       | 16/62 [00:01<00:03, 11.96it/s]\n",
      "Iteration:  32%|███▏      | 20/62 [00:01<00:03, 11.90it/s]\n",
      "Iteration:  65%|██████▍   | 40/62 [00:03<00:01, 11.97it/s]"
     ]
    },
    {
     "name": "stdout",
     "output_type": "stream",
     "text": [
      "{'Train':  best_epoch_indx:22\n",
      " auc:0.9657261675158791 \n",
      " apur:0.9549709838806725 \n",
      " f1:0.8823312883435583 \n",
      " precision:0.8515097690941386 \n",
      " recall:0.9154678548695099 \n",
      ", 'Validation':  best_epoch_indx:22\n",
      " auc:0.9189769015084022 \n",
      " apur:0.8978147743299614 \n",
      " f1:0.8197802197802198 \n",
      " precision:0.7877507919746568 \n",
      " recall:0.854524627720504 \n",
      ", 'Test':  best_epoch_indx:22\n",
      " auc:0.927760321365383 \n",
      " apur:0.9060499615532083 \n",
      " f1:0.8330774292608029 \n",
      " precision:0.7989061842658813 \n",
      " recall:0.8703024747937672 \n",
      "}\n",
      "=====Epoch 23\n",
      "Training...\n"
     ]
    },
    {
     "name": "stderr",
     "output_type": "stream",
     "text": [
      "Iteration:  84%|████████▍ | 52/62 [00:04<00:00, 12.17it/s]\n",
      "Iteration:  90%|█████████ | 56/62 [00:04<00:00, 12.18it/s]\n",
      "Iteration:  61%|██████▏   | 38/62 [00:03<00:02, 12.00it/s]"
     ]
    },
    {
     "name": "stdout",
     "output_type": "stream",
     "text": [
      "{'Train':  best_epoch_indx:22\n",
      " auc:0.963634955123827 \n",
      " apur:0.9527088326798313 \n",
      " f1:0.8785130876583703 \n",
      " precision:0.8877047049649077 \n",
      " recall:0.8695098663271802 \n",
      ", 'Validation':  best_epoch_indx:22\n",
      " auc:0.9305049348004674 \n",
      " apur:0.9110709507958397 \n",
      " f1:0.8302540415704388 \n",
      " precision:0.8370197904540163 \n",
      " recall:0.8235967926689576 \n",
      ", 'Test':  best_epoch_indx:22\n",
      " auc:0.9328247991234816 \n",
      " apur:0.918800837649054 \n",
      " f1:0.832312764955252 \n",
      " precision:0.8561046511627907 \n",
      " recall:0.80980751604033 \n",
      "}\n",
      "=====Epoch 23\n",
      "Training...\n"
     ]
    },
    {
     "name": "stderr",
     "output_type": "stream",
     "text": [
      "Iteration: 100%|██████████| 62/62 [00:05<00:00, 12.09it/s]\n",
      "Iteration:   5%|▍         | 3/62 [00:00<00:02, 21.75it/s]]"
     ]
    },
    {
     "name": "stdout",
     "output_type": "stream",
     "text": [
      "Evaluating...\n"
     ]
    },
    {
     "name": "stderr",
     "output_type": "stream",
     "text": [
      "Iteration:  74%|███████▍  | 46/62 [00:03<00:01, 12.12it/s]\n",
      "Iteration:  24%|██▍       | 15/62 [00:00<00:02, 22.03it/s]\n",
      "Iteration:  29%|██▉       | 18/62 [00:00<00:01, 22.09it/s]"
     ]
    },
    {
     "name": "stdout",
     "output_type": "stream",
     "text": [
      "{'Train':  best_epoch_indx:21\n",
      " auc:0.9700587769791457 \n",
      " apur:0.9613373579596974 \n",
      " f1:0.888617833986005 \n",
      " precision:0.8962703962703963 \n",
      " recall:0.8810948440483768 \n",
      ", 'Validation':  best_epoch_indx:21\n",
      " auc:0.9234662393310732 \n",
      " apur:0.9013637520333474 \n",
      " f1:0.8276262333139872 \n",
      " precision:0.8388235294117647 \n",
      " recall:0.8167239404352806 \n",
      ", 'Test':  best_epoch_indx:21\n",
      " auc:0.9300680820664743 \n",
      " apur:0.9135105584469165 \n",
      " f1:0.8288203437720745 \n",
      " precision:0.8523002421307506 \n",
      " recall:0.8065994500458296 \n",
      "}\n",
      "=====Epoch 22\n",
      "Training...\n"
     ]
    },
    {
     "name": "stderr",
     "output_type": "stream",
     "text": [
      "Iteration: 100%|██████████| 62/62 [00:05<00:00, 12.06it/s]\n",
      "Iteration:  63%|██████▎   | 39/62 [00:01<00:01, 22.32it/s]"
     ]
    },
    {
     "name": "stdout",
     "output_type": "stream",
     "text": [
      "Evaluating...\n"
     ]
    },
    {
     "name": "stderr",
     "output_type": "stream",
     "text": [
      "Iteration:  42%|████▏     | 26/62 [00:02<00:03, 11.90it/s]\n",
      "Iteration: 100%|██████████| 62/62 [00:05<00:00, 11.06it/s]\n",
      "Iteration:  84%|████████▍ | 52/62 [00:04<00:00, 12.14it/s]\n",
      "Iteration:  82%|████████▏ | 51/62 [00:02<00:00, 21.88it/s]"
     ]
    },
    {
     "name": "stdout",
     "output_type": "stream",
     "text": [
      "Evaluating...\n"
     ]
    },
    {
     "name": "stderr",
     "output_type": "stream",
     "text": [
      "Iteration:  15%|█▍        | 9/62 [00:00<00:02, 22.39it/s]]\n",
      "Iteration:   3%|▎         | 2/62 [00:00<00:04, 12.31it/s]]"
     ]
    },
    {
     "name": "stdout",
     "output_type": "stream",
     "text": [
      "{'Train':  best_epoch_indx:21\n",
      " auc:0.9703995356476041 \n",
      " apur:0.9613306929307954 \n",
      " f1:0.89647730879086 \n",
      " precision:0.8939240506329114 \n",
      " recall:0.8990451941438574 \n",
      ", 'Validation':  best_epoch_indx:21\n",
      " auc:0.9234093512444028 \n",
      " apur:0.898823201050653 \n",
      " f1:0.8275071633237822 \n",
      " precision:0.8279816513761468 \n",
      " recall:0.827033218785796 \n",
      ", 'Test':  best_epoch_indx:21\n",
      " auc:0.9284760992139545 \n",
      " apur:0.9086241069240875 \n",
      " f1:0.8275225121219119 \n",
      " precision:0.8338762214983714 \n",
      " recall:0.8212648945921174 \n",
      "}\n",
      "=====Epoch 22\n",
      "Training...\n"
     ]
    },
    {
     "name": "stderr",
     "output_type": "stream",
     "text": [
      "Iteration:  29%|██▉       | 18/62 [00:00<00:01, 22.62it/s]\n",
      "Iteration: 100%|██████████| 62/62 [00:05<00:00, 12.17it/s]\n",
      "Iteration:  13%|█▎        | 8/62 [00:00<00:04, 12.36it/s]]"
     ]
    },
    {
     "name": "stdout",
     "output_type": "stream",
     "text": [
      "Evaluating...\n"
     ]
    },
    {
     "name": "stderr",
     "output_type": "stream",
     "text": [
      "Iteration:  29%|██▉       | 18/62 [00:00<00:01, 22.05it/s]\n",
      "Iteration:  97%|█████████▋| 60/62 [00:05<00:00, 11.63it/s]\n",
      "Iteration:  77%|███████▋  | 48/62 [00:02<00:00, 22.56it/s]"
     ]
    },
    {
     "name": "stdout",
     "output_type": "stream",
     "text": [
      "{'Train':  best_epoch_indx:23\n",
      " auc:0.96279438358464 \n",
      " apur:0.9499671834538115 \n",
      " f1:0.8811849984242042 \n",
      " precision:0.8726591760299626 \n",
      " recall:0.8898790579248886 \n",
      ", 'Validation':  best_epoch_indx:23\n",
      " auc:0.9282602658891317 \n",
      " apur:0.905763532802456 \n",
      " f1:0.8310502283105023 \n",
      " precision:0.8282138794084186 \n",
      " recall:0.8339060710194731 \n",
      ", 'Test':  best_epoch_indx:23\n",
      " auc:0.9286653581337357 \n",
      " apur:0.909026012295134 \n",
      " f1:0.8240127824697557 \n",
      " precision:0.8208276489313324 \n",
      " recall:0.8272227314390468 \n",
      "}\n",
      "=====Epoch 24\n",
      "Training...\n",
      "Evaluating...\n"
     ]
    },
    {
     "name": "stderr",
     "output_type": "stream",
     "text": [
      "Iteration: 100%|██████████| 62/62 [00:05<00:00, 11.78it/s]\n",
      "Iteration:  16%|█▌        | 10/62 [00:00<00:04, 12.07it/s]\n",
      "Iteration:  35%|███▌      | 22/62 [00:01<00:03, 12.29it/s]\n",
      "Iteration:  84%|████████▍ | 52/62 [00:04<00:00, 12.18it/s]\n",
      "Iteration:  90%|█████████ | 56/62 [00:04<00:00, 11.78it/s]\n",
      "Iteration:  61%|██████▏   | 38/62 [00:03<00:01, 12.35it/s]\n",
      "Iteration:   0%|          | 0/18 [00:00<?, ?it/s]"
     ]
    },
    {
     "name": "stdout",
     "output_type": "stream",
     "text": [
      "{'Train':  best_epoch_indx:23\n",
      " auc:0.9589725133812752 \n",
      " apur:0.946702987272411 \n",
      " f1:0.868335711506032 \n",
      " precision:0.8850985058839085 \n",
      " recall:0.852196053469128 \n",
      ", 'Validation':  best_epoch_indx:23\n",
      " auc:0.9244159811170121 \n",
      " apur:0.9020424124994506 \n",
      " f1:0.8262411347517731 \n",
      " precision:0.8534798534798534 \n",
      " recall:0.8006872852233677 \n",
      ", 'Test':  best_epoch_indx:23\n",
      " auc:0.9306412211242417 \n",
      " apur:0.9140554619184328 \n",
      " f1:0.8260561718196837 \n",
      " precision:0.851581508515815 \n",
      " recall:0.8020164986251146 \n",
      "}\n",
      "=====Epoch 24\n",
      "Training...\n"
     ]
    },
    {
     "name": "stderr",
     "output_type": "stream",
     "text": [
      "Iteration: 100%|██████████| 62/62 [00:05<00:00, 12.08it/s]\n",
      "Iteration:   0%|          | 0/62 [00:00<?, ?it/s]"
     ]
    },
    {
     "name": "stdout",
     "output_type": "stream",
     "text": [
      "Evaluating...\n"
     ]
    },
    {
     "name": "stderr",
     "output_type": "stream",
     "text": [
      "Iteration:  23%|██▎       | 14/62 [00:01<00:03, 12.42it/s]\n",
      "Iteration: 100%|██████████| 7/7 [00:00<00:00, 22.52it/s]s]\n",
      "Iteration:   3%|▎         | 2/62 [00:00<00:05, 10.22it/s]]"
     ]
    },
    {
     "name": "stdout",
     "output_type": "stream",
     "text": [
      "{'Train':  best_epoch_indx:22\n",
      " auc:0.968180843265954 \n",
      " apur:0.9591863928293527 \n",
      " f1:0.8867134668641721 \n",
      " precision:0.897288842544317 \n",
      " recall:0.8763844684914067 \n",
      ", 'Validation':  best_epoch_indx:22\n",
      " auc:0.925639557082856 \n",
      " apur:0.9038280657825591 \n",
      " f1:0.826417299824664 \n",
      " precision:0.8436754176610979 \n",
      " recall:0.8098510882016037 \n",
      ", 'Test':  best_epoch_indx:22\n",
      " auc:0.9299583320341358 \n",
      " apur:0.910895681453879 \n",
      " f1:0.8251353259590491 \n",
      " precision:0.8480890179003386 \n",
      " recall:0.803391384051329 \n",
      "}\n",
      "=====Epoch 23\n",
      "Training...\n"
     ]
    },
    {
     "name": "stderr",
     "output_type": "stream",
     "text": [
      "Iteration: 100%|██████████| 62/62 [00:05<00:00, 12.26it/s]\n",
      "Iteration:   3%|▎         | 2/62 [00:00<00:03, 19.67it/s]]"
     ]
    },
    {
     "name": "stdout",
     "output_type": "stream",
     "text": [
      "Evaluating...\n"
     ]
    },
    {
     "name": "stderr",
     "output_type": "stream",
     "text": [
      "Iteration:  65%|██████▍   | 40/62 [00:03<00:01, 11.65it/s]\n",
      "Iteration:  57%|█████▋    | 4/7 [00:00<00:00, 17.44it/s]s]\n",
      "Iteration: 100%|██████████| 7/7 [00:00<00:00, 17.30it/s]]]\n",
      "Iteration:  74%|███████▍  | 46/62 [00:03<00:01, 11.55it/s]"
     ]
    },
    {
     "name": "stdout",
     "output_type": "stream",
     "text": [
      "{'Train':  best_epoch_indx:23\n",
      " auc:0.9643663774957588 \n",
      " apur:0.9534264113855995 \n",
      " f1:0.8793620414673047 \n",
      " precision:0.8813299232736573 \n",
      " recall:0.8774029280712922 \n",
      ", 'Validation':  best_epoch_indx:23\n",
      " auc:0.9182383205865451 \n",
      " apur:0.885193186867707 \n",
      " f1:0.8083623693379791 \n",
      " precision:0.8197879858657244 \n",
      " recall:0.7972508591065293 \n",
      ", 'Test':  best_epoch_indx:23\n",
      " auc:0.931327351776484 \n",
      " apur:0.9106800466006038 \n",
      " f1:0.8331404767414949 \n",
      " precision:0.8415147265077139 \n",
      " recall:0.8249312557286893 \n",
      "}\n",
      "=====Epoch 24\n",
      "Training...\n"
     ]
    },
    {
     "name": "stderr",
     "output_type": "stream",
     "text": [
      "Iteration:  87%|████████▋ | 54/62 [00:02<00:00, 20.49it/s]\n",
      "Iteration: 100%|██████████| 7/7 [00:00<00:00, 21.54it/s]s]\n",
      "Iteration:  61%|██████▏   | 38/62 [00:03<00:02, 10.48it/s]"
     ]
    },
    {
     "name": "stdout",
     "output_type": "stream",
     "text": [
      "{'Train':  best_epoch_indx:22\n",
      " auc:0.9678228074228019 \n",
      " apur:0.9592218114849054 \n",
      " f1:0.8877856279040163 \n",
      " precision:0.8877291242362525 \n",
      " recall:0.8878421387651177 \n",
      ", 'Validation':  best_epoch_indx:22\n",
      " auc:0.9273240229712165 \n",
      " apur:0.9074116058691781 \n",
      " f1:0.8246942341292952 \n",
      " precision:0.8388625592417062 \n",
      " recall:0.8109965635738832 \n",
      ", 'Test':  best_epoch_indx:22\n",
      " auc:0.9278935088742605 \n",
      " apur:0.9101361041161917 \n",
      " f1:0.8209606986899562 \n",
      " precision:0.8234209313047487 \n",
      " recall:0.8185151237396884 \n",
      "}\n",
      "=====Epoch 23\n",
      "Training...\n",
      "Evaluating...\n"
     ]
    },
    {
     "name": "stderr",
     "output_type": "stream",
     "text": [
      "Iteration: 100%|██████████| 62/62 [00:05<00:00, 11.80it/s]\n",
      "Iteration:   3%|▎         | 2/62 [00:00<00:05, 11.71it/s]\n",
      "Iteration:  32%|███▏      | 20/62 [00:00<00:02, 20.47it/s]\n",
      "Iteration:  42%|████▏     | 26/62 [00:02<00:03,  9.48it/s]\n",
      "Iteration:   3%|▎         | 2/62 [00:00<00:04, 12.12it/s]]"
     ]
    },
    {
     "name": "stdout",
     "output_type": "stream",
     "text": [
      "{'Train':  best_epoch_indx:24\n",
      " auc:0.9606596941155411 \n",
      " apur:0.9498125943141458 \n",
      " f1:0.8678370321298443 \n",
      " precision:0.9046961325966851 \n",
      " recall:0.8338637810311903 \n",
      ", 'Validation':  best_epoch_indx:24\n",
      " auc:0.9245075805786 \n",
      " apur:0.9060166700715863 \n",
      " f1:0.81044957472661 \n",
      " precision:0.8628719275549805 \n",
      " recall:0.7640320733104238 \n",
      ", 'Test':  best_epoch_indx:24\n",
      " auc:0.9269400389473718 \n",
      " apur:0.9094803036308263 \n",
      " f1:0.8250000000000001 \n",
      " precision:0.8675429726996967 \n",
      " recall:0.7864344637946837 \n",
      "}\n",
      "=====Epoch 25\n",
      "Training...\n"
     ]
    },
    {
     "name": "stderr",
     "output_type": "stream",
     "text": [
      "Iteration: 100%|██████████| 62/62 [00:05<00:00, 10.99it/s]\n",
      "Iteration:  66%|██████▌   | 41/62 [00:01<00:00, 21.69it/s]"
     ]
    },
    {
     "name": "stdout",
     "output_type": "stream",
     "text": [
      "Evaluating...\n"
     ]
    },
    {
     "name": "stderr",
     "output_type": "stream",
     "text": [
      "Iteration:  69%|██████▉   | 43/62 [00:04<00:01,  9.86it/s]\n",
      "Iteration:  84%|████████▍ | 52/62 [00:05<00:01,  9.81it/s]\n",
      "Iteration: 100%|██████████| 7/7 [00:00<00:00, 21.60it/s]s]"
     ]
    },
    {
     "name": "stdout",
     "output_type": "stream",
     "text": [
      "{'Train':  best_epoch_indx:24\n",
      " auc:0.957955226840078 \n",
      " apur:0.9445398520457643 \n",
      " f1:0.8694138852632234 \n",
      " precision:0.8494049064853049 \n",
      " recall:0.8903882877148314 \n",
      ", 'Validation':  best_epoch_indx:24\n",
      " auc:0.9231803525904327 \n",
      " apur:0.8972213364802464 \n",
      " f1:0.8254690164866401 \n",
      " precision:0.8194130925507901 \n",
      " recall:0.8316151202749141 \n",
      ", 'Test':  best_epoch_indx:24\n",
      " auc:0.930700804123514 \n",
      " apur:0.9115623489869308 \n",
      " f1:0.8326567433468652 \n",
      " precision:0.8197158081705151 \n",
      " recall:0.846012832263978 \n",
      "}\n",
      "=====Epoch 25\n",
      "Training...\n"
     ]
    },
    {
     "name": "stderr",
     "output_type": "stream",
     "text": [
      "\n",
      "Iteration:  65%|██████▍   | 40/62 [00:03<00:01, 12.09it/s]\n",
      "Iteration: 100%|██████████| 62/62 [00:06<00:00,  9.69it/s]\n",
      "Iteration:  33%|███▎      | 6/18 [00:00<00:00, 22.96it/s]]"
     ]
    },
    {
     "name": "stdout",
     "output_type": "stream",
     "text": [
      "Evaluating...\n"
     ]
    },
    {
     "name": "stderr",
     "output_type": "stream",
     "text": [
      "\r",
      "Iteration:   3%|▎         | 2/62 [00:00<00:03, 17.78it/s]\r",
      "Iteration:  50%|█████     | 9/18 [00:00<00:00, 23.27it/s]\r",
      "Iteration:  16%|█▌        | 10/62 [00:00<00:04, 12.20it/s]\r",
      "Iteration:   6%|▋         | 4/62 [00:00<00:03, 18.10it/s]\r",
      "Iteration:  74%|███████▍  | 46/62 [00:03<00:01, 12.11it/s]\r",
      "Iteration: 100%|██████████| 62/62 [00:05<00:00, 11.83it/s]\r",
      "Iteration: 100%|██████████| 62/62 [00:05<00:00, 11.59it/s]\n",
      "\r",
      "Iteration:   0%|          | 0/62 [00:00<?, ?it/s]"
     ]
    },
    {
     "name": "stdout",
     "output_type": "stream",
     "text": [
      "Evaluating...\n"
     ]
    },
    {
     "name": "stderr",
     "output_type": "stream",
     "text": [
      "Iteration:  15%|█▍        | 9/62 [00:00<00:02, 21.96it/s]]\n",
      "Iteration: 100%|██████████| 7/7 [00:00<00:00, 23.32it/s]s]\n",
      "Iteration:   0%|          | 0/62 [00:00<?, ?it/s]"
     ]
    },
    {
     "name": "stdout",
     "output_type": "stream",
     "text": [
      "{'Train':  best_epoch_indx:23\n",
      " auc:0.9659701833810785 \n",
      " apur:0.9562269220589049 \n",
      " f1:0.8847728847728848 \n",
      " precision:0.8757794961336992 \n",
      " recall:0.8939528962444303 \n",
      ", 'Validation':  best_epoch_indx:23\n",
      " auc:0.9219919701019358 \n",
      " apur:0.8984412597045951 \n",
      " f1:0.8205128205128205 \n",
      " precision:0.8163265306122449 \n",
      " recall:0.8247422680412371 \n",
      ", 'Test':  best_epoch_indx:23\n",
      " auc:0.9275109526210191 \n",
      " apur:0.9087049228492601 \n",
      " f1:0.8304387568555759 \n",
      " precision:0.8281677301731997 \n",
      " recall:0.8327222731439047 \n",
      "}\n",
      "=====Epoch 24\n",
      "Training...\n"
     ]
    },
    {
     "name": "stderr",
     "output_type": "stream",
     "text": [
      "Iteration: 100%|██████████| 62/62 [00:05<00:00, 11.49it/s]\n",
      "Iteration:  58%|█████▊    | 36/62 [00:01<00:01, 22.36it/s]"
     ]
    },
    {
     "name": "stdout",
     "output_type": "stream",
     "text": [
      "Evaluating...\n"
     ]
    },
    {
     "name": "stderr",
     "output_type": "stream",
     "text": [
      "Iteration:  44%|████▎     | 27/62 [00:01<00:01, 21.51it/s]\n",
      "Iteration:   0%|          | 0/18 [00:00<?, ?it/s]\n",
      "Iteration:  61%|██████▏   | 38/62 [00:03<00:01, 12.58it/s]\n",
      "Iteration:  87%|████████▋ | 54/62 [00:02<00:00, 21.14it/s]\n",
      "Iteration:  92%|█████████▏| 57/62 [00:02<00:00, 21.13it/s]"
     ]
    },
    {
     "name": "stdout",
     "output_type": "stream",
     "text": [
      "{'Train':  best_epoch_indx:23\n",
      " auc:0.9699234874975428 \n",
      " apur:0.9611488790795444 \n",
      " f1:0.8903057905009758 \n",
      " precision:0.9104457751164338 \n",
      " recall:0.8710375556970082 \n",
      ", 'Validation':  best_epoch_indx:23\n",
      " auc:0.9255209598852209 \n",
      " apur:0.9026682428967863 \n",
      " f1:0.8249852681202121 \n",
      " precision:0.8495145631067961 \n",
      " recall:0.8018327605956472 \n",
      ", 'Test':  best_epoch_indx:23\n",
      " auc:0.9291131603230596 \n",
      " apur:0.9088733461182482 \n",
      " f1:0.8232789212207239 \n",
      " precision:0.8508557457212714 \n",
      " recall:0.7974335472043996 \n",
      "}\n",
      "=====Epoch 24\n",
      "Training...\n"
     ]
    },
    {
     "name": "stderr",
     "output_type": "stream",
     "text": [
      "Iteration: 100%|██████████| 62/62 [00:05<00:00, 11.43it/s]\n",
      "Iteration:   0%|          | 0/62 [00:00<?, ?it/s]\n",
      "Iteration:   5%|▍         | 3/62 [00:00<00:02, 20.85it/s]]"
     ]
    },
    {
     "name": "stdout",
     "output_type": "stream",
     "text": [
      "Evaluating...\n"
     ]
    },
    {
     "name": "stderr",
     "output_type": "stream",
     "text": [
      "Iteration: 100%|██████████| 62/62 [00:04<00:00, 12.63it/s]\n",
      "Iteration:  29%|██▉       | 18/62 [00:01<00:03, 11.52it/s]"
     ]
    },
    {
     "name": "stdout",
     "output_type": "stream",
     "text": [
      "Evaluating...\n"
     ]
    },
    {
     "name": "stderr",
     "output_type": "stream",
     "text": [
      "Iteration:  65%|██████▍   | 40/62 [00:03<00:02, 10.61it/s]\n",
      "Iteration:  77%|███████▋  | 48/62 [00:04<00:01, 11.43it/s]\n",
      "Iteration: 100%|██████████| 18/18 [00:00<00:00, 21.25it/s]\n",
      "Iteration:  17%|█▋        | 3/18 [00:00<00:00, 21.07it/s]]\n",
      "Iteration:   3%|▎         | 2/62 [00:00<00:05, 10.54it/s]]"
     ]
    },
    {
     "name": "stdout",
     "output_type": "stream",
     "text": [
      "{'Train':  best_epoch_indx:24\n",
      " auc:0.9660553150263875 \n",
      " apur:0.9568045799112106 \n",
      " f1:0.886228311671682 \n",
      " precision:0.8914219474497682 \n",
      " recall:0.8810948440483768 \n",
      ", 'Validation':  best_epoch_indx:24\n",
      " auc:0.925289550719104 \n",
      " apur:0.9051642043365006 \n",
      " f1:0.8248259860788862 \n",
      " precision:0.8354876615746181 \n",
      " recall:0.8144329896907216 \n",
      ", 'Test':  best_epoch_indx:24\n",
      " auc:0.9332068403752927 \n",
      " apur:0.915415933350178 \n",
      " f1:0.8353728930962826 \n",
      " precision:0.8417868776174965 \n",
      " recall:0.8290559120073328 \n",
      "}\n",
      "=====Epoch 25\n",
      "Training...\n"
     ]
    },
    {
     "name": "stderr",
     "output_type": "stream",
     "text": [
      "Iteration:  13%|█▎        | 8/62 [00:00<00:04, 11.07it/s]]\n",
      "Iteration: 100%|██████████| 62/62 [00:05<00:00, 11.32it/s]\n",
      "Iteration:   5%|▍         | 3/62 [00:00<00:02, 21.28it/s]]"
     ]
    },
    {
     "name": "stdout",
     "output_type": "stream",
     "text": [
      "Evaluating...\n"
     ]
    },
    {
     "name": "stderr",
     "output_type": "stream",
     "text": [
      "\r",
      "Iteration:  86%|████████▌ | 6/7 [00:00<00:00, 22.16it/s]\r",
      "Iteration: 100%|██████████| 7/7 [00:00<00:00, 21.86it/s]\r",
      "Iteration:  10%|▉         | 6/62 [00:00<00:02, 21.01it/s]\n",
      "\r",
      "Iteration:   0%|          | 0/62 [00:00<?, ?it/s]\r",
      "Iteration:  19%|█▉        | 12/62 [00:01<00:04, 11.03it/s]"
     ]
    },
    {
     "name": "stdout",
     "output_type": "stream",
     "text": [
      "{'Train':  best_epoch_indx:24\n",
      " auc:0.963889159157532 \n",
      " apur:0.9533294872828741 \n",
      " f1:0.8753273965426925 \n",
      " precision:0.9011729809896184 \n",
      " recall:0.8509229789942712 \n",
      ", 'Validation':  best_epoch_indx:24\n",
      " auc:0.9219861848727828 \n",
      " apur:0.8947390007559219 \n",
      " f1:0.8176927674835626 \n",
      " precision:0.855 \n",
      " recall:0.7835051546391752 \n",
      ", 'Test':  best_epoch_indx:24\n",
      " auc:0.92290901490779 \n",
      " apur:0.905076759814748 \n",
      " f1:0.8217203267659778 \n",
      " precision:0.8636363636363636 \n",
      " recall:0.7836846929422548 \n",
      "}\n",
      "=====Epoch 25\n",
      "Training...\n"
     ]
    },
    {
     "name": "stderr",
     "output_type": "stream",
     "text": [
      "Iteration:   6%|▋         | 4/62 [00:00<00:04, 12.26it/s]]\n",
      "Iteration:  34%|███▍      | 21/62 [00:00<00:01, 20.95it/s]\n",
      "Iteration:  32%|███▏      | 20/62 [00:01<00:03, 10.98it/s]"
     ]
    },
    {
     "name": "stdout",
     "output_type": "stream",
     "text": [
      "{'Train':  best_epoch_indx:25\n",
      " auc:0.9715078095657332 \n",
      " apur:0.9631272531186751 \n",
      " f1:0.8953391726871682 \n",
      " precision:0.8993064474698176 \n",
      " recall:0.8914067472947167 \n",
      ", 'Validation':  best_epoch_indx:25\n",
      " auc:0.9340927410801407 \n",
      " apur:0.9196640228774349 \n",
      " f1:0.8304985337243401 \n",
      " precision:0.8509615384615384 \n",
      " recall:0.8109965635738832 \n",
      ", 'Test':  best_epoch_indx:25\n",
      " auc:0.9337950232542349 \n",
      " apur:0.9161875217361753 \n",
      " f1:0.8353022932592079 \n",
      " precision:0.8444964871194379 \n",
      " recall:0.8263061411549038 \n",
      "}\n",
      "=====Epoch 26\n",
      "Training...\n"
     ]
    },
    {
     "name": "stderr",
     "output_type": "stream",
     "text": [
      "Iteration:  68%|██████▊   | 42/62 [00:03<00:01, 11.33it/s]\n",
      "Iteration:  77%|███████▋  | 48/62 [00:04<00:01,  7.50it/s]\n",
      "Iteration:  81%|████████  | 50/62 [00:04<00:01,  8.39it/s]\n",
      "Iteration: 100%|██████████| 7/7 [00:00<00:00, 21.46it/s]s]\n",
      "Iteration:  87%|████████▋ | 54/62 [00:05<00:00,  9.70it/s]\n",
      "Iteration:   3%|▎         | 2/62 [00:00<00:05, 10.65it/s]"
     ]
    },
    {
     "name": "stdout",
     "output_type": "stream",
     "text": [
      "{'Train':  best_epoch_indx:25\n",
      " auc:0.9672422574980692 \n",
      " apur:0.9584772499530798 \n",
      " f1:0.8868968148006865 \n",
      " precision:0.8858267716535433 \n",
      " recall:0.8879694462126034 \n",
      ", 'Validation':  best_epoch_indx:25\n",
      " auc:0.9371945881109685 \n",
      " apur:0.9188273120246698 \n",
      " f1:0.8473019517795638 \n",
      " precision:0.8492520138089759 \n",
      " recall:0.845360824742268 \n",
      ", 'Test':  best_epoch_indx:25\n",
      " auc:0.9360709920631122 \n",
      " apur:0.9234921529318787 \n",
      " f1:0.839380633233187 \n",
      " precision:0.8466200466200466 \n",
      " recall:0.8322639780018332 \n",
      "}\n",
      "=====Epoch 26\n",
      "Training...\n",
      "{'Train':  best_epoch_indx:24\n",
      " auc:0.9661567341786791 \n",
      " apur:0.957765787847516 \n",
      " f1:0.8856745831227892 \n",
      " precision:0.8789018427980444 \n",
      " recall:0.8925525143220878 \n",
      ", 'Validation':  best_epoch_indx:24\n",
      " auc:0.9222648400769822 \n",
      " apur:0.8990111763736188 \n",
      " f1:0.8168853394181402 \n",
      " precision:0.8136363636363636 \n",
      " recall:0.8201603665521191 \n",
      ", 'Test':  best_epoch_indx:24\n",
      " auc:0.9225541390069345 \n",
      " apur:0.9031065531446897 \n",
      " f1:0.8231292517006803 \n",
      " precision:0.8146319569120287 \n",
      " recall:0.8318056828597616 \n",
      "}\n",
      "=====Epoch 25\n",
      "Training...\n"
     ]
    },
    {
     "name": "stderr",
     "output_type": "stream",
     "text": [
      "Iteration: 100%|██████████| 62/62 [00:05<00:00, 10.66it/s]\n",
      "Iteration:  87%|████████▋ | 54/62 [00:04<00:00,  9.52it/s]"
     ]
    },
    {
     "name": "stdout",
     "output_type": "stream",
     "text": [
      "Evaluating...\n"
     ]
    },
    {
     "name": "stderr",
     "output_type": "stream",
     "text": [
      "Iteration: 100%|██████████| 62/62 [00:05<00:00, 11.18it/s]\n",
      "Iteration:   3%|▎         | 2/62 [00:00<00:03, 17.61it/s]]"
     ]
    },
    {
     "name": "stdout",
     "output_type": "stream",
     "text": [
      "Evaluating...\n"
     ]
    },
    {
     "name": "stderr",
     "output_type": "stream",
     "text": [
      "Iteration: 100%|██████████| 62/62 [00:05<00:00, 11.29it/s]\n",
      "Iteration:  58%|█████▊    | 36/62 [00:01<00:01, 21.74it/s]"
     ]
    },
    {
     "name": "stdout",
     "output_type": "stream",
     "text": [
      "Evaluating...\n"
     ]
    },
    {
     "name": "stderr",
     "output_type": "stream",
     "text": [
      "Iteration:  65%|██████▍   | 40/62 [00:03<00:02, 10.49it/s]\n",
      "Iteration:  97%|█████████▋| 60/62 [00:05<00:00, 11.85it/s]\n",
      "Iteration:   0%|          | 0/18 [00:00<?, ?it/s]\n",
      "Iteration: 100%|██████████| 62/62 [00:05<00:00, 11.97it/s]\n",
      "Iteration:  17%|█▋        | 3/18 [00:00<00:00, 22.87it/s]"
     ]
    },
    {
     "name": "stdout",
     "output_type": "stream",
     "text": [
      "Evaluating...\n"
     ]
    },
    {
     "name": "stderr",
     "output_type": "stream",
     "text": [
      "Iteration: 100%|██████████| 62/62 [00:05<00:00, 10.50it/s]\n",
      "Iteration:  83%|████████▎ | 15/18 [00:00<00:00, 23.32it/s]"
     ]
    },
    {
     "name": "stdout",
     "output_type": "stream",
     "text": [
      "Evaluating...\n"
     ]
    },
    {
     "name": "stderr",
     "output_type": "stream",
     "text": [
      "Iteration:  82%|████████▏ | 51/62 [00:02<00:00, 21.78it/s]\n",
      "Iteration:  67%|██████▋   | 12/18 [00:00<00:00, 21.71it/s]\n",
      "Iteration:  33%|███▎      | 6/18 [00:00<00:00, 21.55it/s]]\n",
      "Iteration:  83%|████████▎ | 15/18 [00:00<00:00, 21.42it/s]"
     ]
    },
    {
     "name": "stdout",
     "output_type": "stream",
     "text": [
      "{'Train':  best_epoch_indx:25\n",
      " auc:0.970733036044442 \n",
      " apur:0.9620551974486202 \n",
      " f1:0.8937547600913938 \n",
      " precision:0.8911530186052399 \n",
      " recall:0.8963717377466581 \n",
      ", 'Validation':  best_epoch_indx:25\n",
      " auc:0.9311837350210777 \n",
      " apur:0.9097667151849094 \n",
      " f1:0.835457705677868 \n",
      " precision:0.8452520515826495 \n",
      " recall:0.8258877434135166 \n",
      ", 'Test':  best_epoch_indx:25\n",
      " auc:0.9347393274653855 \n",
      " apur:0.9142349455027252 \n",
      " f1:0.8376963350785339 \n",
      " precision:0.8322026232473994 \n",
      " recall:0.843263061411549 \n",
      "}\n",
      "=====Epoch 26\n",
      "Training...\n"
     ]
    },
    {
     "name": "stderr",
     "output_type": "stream",
     "text": [
      "\n",
      "Iteration:  19%|█▉        | 12/62 [00:01<00:04, 10.87it/s]\n",
      "Iteration:  29%|██▊       | 2/7 [00:00<00:00, 17.58it/s]\n",
      "Iteration:  57%|█████▋    | 4/7 [00:00<00:00, 17.87it/s]s]\n",
      "Iteration:   0%|          | 0/62 [00:00<?, ?it/s]"
     ]
    },
    {
     "name": "stdout",
     "output_type": "stream",
     "text": [
      "{'Train':  best_epoch_indx:26\n",
      " auc:0.9772669798198818 \n",
      " apur:0.9696266858170102 \n",
      " f1:0.9055256233554692 \n",
      " precision:0.8914518317503393 \n",
      " recall:0.9200509229789943 \n",
      ", 'Validation':  best_epoch_indx:26\n",
      " auc:0.9415537582776987 \n",
      " apur:0.9259706940042304 \n",
      " f1:0.8471121177802945 \n",
      " precision:0.8376259798432251 \n",
      " recall:0.856815578465063 \n",
      ", 'Test':  best_epoch_indx:26\n",
      " auc:0.940314078765041 \n",
      " apur:0.9238935292917949 \n",
      " f1:0.848826714801444 \n",
      " precision:0.836 \n",
      " recall:0.8620531622364803 \n",
      "}\n",
      "=====Epoch 27\n",
      "Training...\n",
      "{'Train':  best_epoch_indx:25\n",
      " auc:0.9730840973467293 \n",
      " apur:0.9656711396299607 \n",
      " f1:0.895159298592245 \n",
      " precision:0.8690804459896895 \n",
      " recall:0.9228516868236792 \n",
      ", 'Validation':  best_epoch_indx:25\n",
      " auc:0.9280182504695678 \n",
      " apur:0.9065172038664501 \n",
      " f1:0.8357705286839143 \n",
      " precision:0.8209944751381215 \n",
      " recall:0.8510882016036655 \n",
      ", 'Test':  best_epoch_indx:25\n",
      " auc:0.9329753002226799 \n",
      " apur:0.9147120448355726 \n",
      " f1:0.8316520959426138 \n",
      " precision:0.813953488372093 \n",
      " recall:0.8501374885426215 \n",
      "}\n",
      "=====Epoch 26\n",
      "Training...\n"
     ]
    },
    {
     "name": "stderr",
     "output_type": "stream",
     "text": [
      "Iteration: 100%|██████████| 7/7 [00:00<00:00, 17.90it/s]s]\n",
      "Iteration:  42%|████▏     | 26/62 [00:02<00:03, 10.03it/s]\n",
      "Iteration: 100%|██████████| 7/7 [00:00<00:00, 21.23it/s]s]\n",
      "Iteration:  81%|████████  | 50/62 [00:04<00:01, 10.12it/s]\n",
      "Iteration:   3%|▎         | 2/62 [00:00<00:05, 11.52it/s]"
     ]
    },
    {
     "name": "stdout",
     "output_type": "stream",
     "text": [
      "{'Train':  best_epoch_indx:25\n",
      " auc:0.9727873274243573 \n",
      " apur:0.9649816709472755 \n",
      " f1:0.8987413112906255 \n",
      " precision:0.8843973379344343 \n",
      " recall:0.9135582431572247 \n",
      ", 'Validation':  best_epoch_indx:25\n",
      " auc:0.928045248205615 \n",
      " apur:0.9033784045326694 \n",
      " f1:0.8233957978421352 \n",
      " precision:0.8164414414414415 \n",
      " recall:0.8304696449026346 \n",
      ", 'Test':  best_epoch_indx:25\n",
      " auc:0.9302174664456975 \n",
      " apur:0.9134189544057104 \n",
      " f1:0.8267573696145124 \n",
      " precision:0.8182226211849192 \n",
      " recall:0.8354720439963337 \n",
      "}\n",
      "=====Epoch 26\n",
      "Training...\n"
     ]
    },
    {
     "name": "stderr",
     "output_type": "stream",
     "text": [
      "Iteration: 100%|██████████| 7/7 [00:00<00:00, 23.47it/s]s]\n",
      "Iteration:   3%|▎         | 2/62 [00:00<00:04, 12.42it/s]]"
     ]
    },
    {
     "name": "stdout",
     "output_type": "stream",
     "text": [
      "{'Train':  best_epoch_indx:26\n",
      " auc:0.9751143176815038 \n",
      " apur:0.9666933865866116 \n",
      " f1:0.9051198047151024 \n",
      " precision:0.9135114107883817 \n",
      " recall:0.8968809675366008 \n",
      ", 'Validation':  best_epoch_indx:26\n",
      " auc:0.9378256601910668 \n",
      " apur:0.9178682792090849 \n",
      " f1:0.8476744186046512 \n",
      " precision:0.8606847697756789 \n",
      " recall:0.8350515463917526 \n",
      ", 'Test':  best_epoch_indx:26\n",
      " auc:0.940530301042332 \n",
      " apur:0.9264462988554147 \n",
      " f1:0.8456123885499764 \n",
      " precision:0.8663461538461539 \n",
      " recall:0.8258478460128322 \n",
      "}\n",
      "=====Epoch 27\n",
      "Training...\n"
     ]
    },
    {
     "name": "stderr",
     "output_type": "stream",
     "text": [
      "Iteration: 100%|██████████| 62/62 [00:05<00:00, 10.51it/s]\n",
      "Iteration:  69%|██████▉   | 43/62 [00:04<00:01, 10.39it/s]"
     ]
    },
    {
     "name": "stdout",
     "output_type": "stream",
     "text": [
      "Evaluating...\n"
     ]
    },
    {
     "name": "stderr",
     "output_type": "stream",
     "text": [
      "Iteration: 100%|██████████| 62/62 [00:06<00:00, 10.02it/s]\n",
      "Iteration: 100%|██████████| 62/62 [00:06<00:00, 10.17it/s]\n",
      "Iteration:  58%|█████▊    | 36/62 [00:02<00:02, 12.86it/s]"
     ]
    },
    {
     "name": "stdout",
     "output_type": "stream",
     "text": [
      "Evaluating...\n",
      "Evaluating...\n"
     ]
    },
    {
     "name": "stderr",
     "output_type": "stream",
     "text": [
      "Iteration:  81%|████████  | 50/62 [00:03<00:00, 12.90it/s]\n",
      "Iteration: 100%|██████████| 62/62 [00:04<00:00, 12.56it/s]\n",
      "Iteration:  83%|████████▎ | 15/18 [00:00<00:00, 21.78it/s]"
     ]
    },
    {
     "name": "stdout",
     "output_type": "stream",
     "text": [
      "Evaluating...\n"
     ]
    },
    {
     "name": "stderr",
     "output_type": "stream",
     "text": [
      "\r",
      "Iteration:  55%|█████▍    | 34/62 [00:01<00:01, 17.59it/s]\r",
      "Iteration:  97%|█████████▋| 60/62 [00:04<00:00, 12.87it/s]\r",
      "Iteration:  10%|▉         | 6/62 [00:00<00:02, 22.87it/s]\r",
      "Iteration:  68%|██████▊   | 42/62 [00:02<00:00, 20.96it/s]\r",
      "Iteration: 100%|██████████| 18/18 [00:00<00:00, 22.93it/s]\r",
      "Iteration: 100%|██████████| 18/18 [00:00<00:00, 22.27it/s]\r",
      "Iteration:  58%|█████▊    | 36/62 [00:02<00:01, 17.63it/s]\r",
      "Iteration:  15%|█▍        | 9/62 [00:00<00:02, 22.64it/s]\r",
      "Iteration: 100%|██████████| 62/62 [00:04<00:00, 12.99it/s]\r",
      "Iteration: 100%|██████████| 62/62 [00:04<00:00, 12.82it/s]\n",
      "\r",
      "Iteration:   0%|          | 0/62 [00:00<?, ?it/s]\r",
      "Iteration:  73%|███████▎  | 45/62 [00:02<00:00, 20.97it/s]"
     ]
    },
    {
     "name": "stdout",
     "output_type": "stream",
     "text": [
      "Evaluating...\n"
     ]
    },
    {
     "name": "stderr",
     "output_type": "stream",
     "text": [
      "Iteration:  87%|████████▋ | 54/62 [00:03<00:00, 17.43it/s]\n",
      "Iteration:  73%|███████▎  | 45/62 [00:01<00:00, 22.71it/s]\n",
      "Iteration:  92%|█████████▏| 57/62 [00:02<00:00, 23.47it/s]\n",
      "Iteration:  33%|███▎      | 6/18 [00:00<00:00, 21.02it/s]]\n",
      "Iteration: 100%|██████████| 18/18 [00:00<00:00, 24.34it/s]\n",
      "Iteration: 100%|██████████| 7/7 [00:00<00:00, 20.72it/s]\n",
      "Iteration:   2%|▏         | 1/62 [00:00<00:06,  9.31it/s]"
     ]
    },
    {
     "name": "stdout",
     "output_type": "stream",
     "text": [
      "{'Train':  best_epoch_indx:26\n",
      " auc:0.9789899362807767 \n",
      " apur:0.9725802294856448 \n",
      " f1:0.914051152510262 \n",
      " precision:0.9068922305764411 \n",
      " recall:0.9213239974538511 \n",
      ", 'Validation':  best_epoch_indx:26\n",
      " auc:0.9391683154569752 \n",
      " apur:0.9203933549110183 \n",
      " f1:0.8408442669709071 \n",
      " precision:0.8375 \n",
      " recall:0.8442153493699885 \n",
      ", 'Test':  best_epoch_indx:26\n",
      " auc:0.9445808644721392 \n",
      " apur:0.9267596732060828 \n",
      " f1:0.8542850647874517 \n",
      " precision:0.8475417230491655 \n",
      " recall:0.8611365719523373 \n",
      "}\n",
      "=====Epoch 27\n",
      "Training...\n"
     ]
    },
    {
     "name": "stderr",
     "output_type": "stream",
     "text": [
      "Iteration:  24%|██▍       | 15/62 [00:01<00:04, 10.83it/s]\n",
      "Iteration: 100%|██████████| 7/7 [00:00<00:00, 21.31it/s]s]"
     ]
    },
    {
     "name": "stdout",
     "output_type": "stream",
     "text": [
      "{'Train':  best_epoch_indx:27\n",
      " auc:0.9838872052918641 \n",
      " apur:0.9783269000766288 \n",
      " f1:0.9221511846558857 \n",
      " precision:0.9082602790467958 \n",
      " recall:0.9364735837046467 \n",
      ", 'Validation':  best_epoch_indx:27\n",
      " auc:0.9499095575842427 \n",
      " apur:0.9387586021285993 \n",
      " f1:0.8665919282511212 \n",
      " precision:0.8485181119648738 \n",
      " recall:0.8854524627720504 \n",
      ", 'Test':  best_epoch_indx:27\n",
      " auc:0.947294824196749 \n",
      " apur:0.9325357327436102 \n",
      " f1:0.8570133695898482 \n",
      " precision:0.8476019722097714 \n",
      " recall:0.8666361136571953 \n",
      "}\n",
      "=====Epoch 28\n",
      "Training...\n"
     ]
    },
    {
     "name": "stderr",
     "output_type": "stream",
     "text": [
      "\n",
      "Iteration:  37%|███▋      | 23/62 [00:02<00:03, 10.89it/s]\n",
      "Iteration:  57%|█████▋    | 4/7 [00:00<00:00, 17.13it/s]s]\n",
      "Iteration:  43%|████▎     | 3/7 [00:00<00:00, 21.85it/s]s]\n",
      "Iteration:   0%|          | 0/62 [00:00<?, ?it/s]"
     ]
    },
    {
     "name": "stdout",
     "output_type": "stream",
     "text": [
      "{'Train':  best_epoch_indx:26\n",
      " auc:0.9784464442339194 \n",
      " apur:0.97204172907819 \n",
      " f1:0.9072543617998163 \n",
      " precision:0.8738207547169812 \n",
      " recall:0.9433481858688734 \n",
      ", 'Validation':  best_epoch_indx:26\n",
      " auc:0.9359681195305478 \n",
      " apur:0.9158465440264548 \n",
      " f1:0.8447136563876653 \n",
      " precision:0.8133616118769883 \n",
      " recall:0.8785796105383734 \n",
      ", 'Test':  best_epoch_indx:26\n",
      " auc:0.9379524873432434 \n",
      " apur:0.9223522648639582 \n",
      " f1:0.8482300884955752 \n",
      " precision:0.8199315654405475 \n",
      " recall:0.8785517873510541 \n",
      "}\n",
      "=====Epoch 27\n",
      "Training...\n",
      "{'Train':  best_epoch_indx:26\n",
      " auc:0.980418401899095 \n",
      " apur:0.9746612033761243 \n",
      " f1:0.9034338608539862 \n",
      " precision:0.850843644544432 \n",
      " recall:0.9629535327816677 \n",
      ", 'Validation':  best_epoch_indx:26\n",
      " auc:0.9315414550237001 \n",
      " apur:0.9112675341334072 \n",
      " f1:0.8307692307692307 \n",
      " precision:0.7737154150197628 \n",
      " recall:0.8969072164948454 \n",
      ", 'Test':  best_epoch_indx:26\n",
      " auc:0.9376375271196535 \n",
      " apur:0.91959507490155 \n",
      " f1:0.8410737111205795 \n",
      " precision:0.785828025477707 \n",
      " recall:0.9046746104491292 \n",
      "}\n",
      "=====Epoch 27\n",
      "Training...\n"
     ]
    },
    {
     "name": "stderr",
     "output_type": "stream",
     "text": [
      "Iteration:  50%|█████     | 31/62 [00:02<00:02, 11.04it/s]\n",
      "Iteration: 100%|██████████| 7/7 [00:00<00:00, 22.12it/s]\n",
      "Iteration: 100%|██████████| 7/7 [00:00<00:00, 23.35it/s]]]\n",
      "Iteration:   0%|          | 0/62 [00:00<?, ?it/s]"
     ]
    },
    {
     "name": "stdout",
     "output_type": "stream",
     "text": [
      "{'Train':  best_epoch_indx:27\n",
      " auc:0.983062542016519 \n",
      " apur:0.9780256950471974 \n",
      " f1:0.9218927444794952 \n",
      " precision:0.9138211382113821 \n",
      " recall:0.9301082113303628 \n",
      ", 'Validation':  best_epoch_indx:27\n",
      " auc:0.9478847273807182 \n",
      " apur:0.9292629356670372 \n",
      " f1:0.8587634713556438 \n",
      " precision:0.8505617977528089 \n",
      " recall:0.8671248568155785 \n",
      ", 'Test':  best_epoch_indx:27\n",
      " auc:0.9494526236432133 \n",
      " apur:0.9394456858284088 \n",
      " f1:0.8600870162583009 \n",
      " precision:0.8594965675057208 \n",
      " recall:0.8606782768102658 \n",
      "}\n",
      "=====Epoch 28\n",
      "Training...\n"
     ]
    },
    {
     "name": "stderr",
     "output_type": "stream",
     "text": [
      "Iteration: 100%|██████████| 62/62 [00:05<00:00, 11.05it/s]\n",
      "Iteration:   5%|▍         | 3/62 [00:00<00:02, 20.79it/s]]"
     ]
    },
    {
     "name": "stdout",
     "output_type": "stream",
     "text": [
      "Evaluating...\n"
     ]
    },
    {
     "name": "stderr",
     "output_type": "stream",
     "text": [
      "Iteration: 100%|██████████| 62/62 [00:05<00:00, 10.72it/s]\n",
      "Iteration:  84%|████████▍ | 52/62 [00:05<00:00, 10.41it/s]"
     ]
    },
    {
     "name": "stdout",
     "output_type": "stream",
     "text": [
      "Evaluating...\n",
      "Evaluating...\n"
     ]
    },
    {
     "name": "stderr",
     "output_type": "stream",
     "text": [
      "Iteration: 100%|██████████| 62/62 [00:04<00:00, 12.55it/s]\n",
      "Iteration: 100%|██████████| 62/62 [00:05<00:00, 12.30it/s]\n",
      "Iteration:  19%|█▉        | 12/62 [00:00<00:02, 21.43it/s]"
     ]
    },
    {
     "name": "stdout",
     "output_type": "stream",
     "text": [
      "Evaluating...\n"
     ]
    },
    {
     "name": "stderr",
     "output_type": "stream",
     "text": [
      "Iteration:  97%|█████████▋| 60/62 [00:05<00:00, 10.36it/s]\n",
      "Iteration: 100%|██████████| 62/62 [00:05<00:00, 10.34it/s]\n",
      "Iteration:   0%|          | 0/62 [00:00<?, ?it/s]"
     ]
    },
    {
     "name": "stdout",
     "output_type": "stream",
     "text": [
      "Evaluating...\n"
     ]
    },
    {
     "name": "stderr",
     "output_type": "stream",
     "text": [
      "Iteration:  58%|█████▊    | 36/62 [00:02<00:01, 17.78it/s]\n",
      "Iteration:  92%|█████████▏| 57/62 [00:02<00:00, 22.13it/s]\n",
      "Iteration:  33%|███▎      | 6/18 [00:00<00:00, 22.59it/s]]\n",
      "Iteration: 100%|██████████| 62/62 [00:03<00:00, 17.74it/s]\n",
      "Iteration: 100%|██████████| 18/18 [00:01<00:00, 17.79it/s]\n",
      "Iteration: 100%|██████████| 7/7 [00:00<00:00, 21.39it/s]\n",
      "Iteration:   0%|          | 0/62 [00:00<?, ?it/s]"
     ]
    },
    {
     "name": "stdout",
     "output_type": "stream",
     "text": [
      "{'Train':  best_epoch_indx:27\n",
      " auc:0.9851294123671622 \n",
      " apur:0.9802065239931403 \n",
      " f1:0.924342715743891 \n",
      " precision:0.8990373044524669 \n",
      " recall:0.9511139401654997 \n",
      ", 'Validation':  best_epoch_indx:27\n",
      " auc:0.9475964301279307 \n",
      " apur:0.9315786924109546 \n",
      " f1:0.8479108635097493 \n",
      " precision:0.8253796095444685 \n",
      " recall:0.8717067583046965 \n",
      ", 'Test':  best_epoch_indx:27\n",
      " auc:0.9479034656621322 \n",
      " apur:0.9302335992211065 \n",
      " f1:0.8663859960115223 \n",
      " precision:0.8386958386958387 \n",
      " recall:0.8959670027497708 \n",
      "}\n",
      "=====Epoch 28\n",
      "Training...\n"
     ]
    },
    {
     "name": "stderr",
     "output_type": "stream",
     "text": [
      "Iteration:  27%|██▋       | 17/62 [00:01<00:04,  9.73it/s]\n",
      "Iteration:  29%|██▊       | 2/7 [00:00<00:00, 16.90it/s]s]\n",
      "Iteration:  43%|████▎     | 3/7 [00:00<00:00, 20.56it/s]s]\n",
      "Iteration: 100%|██████████| 7/7 [00:00<00:00, 18.69it/s]s]"
     ]
    },
    {
     "name": "stdout",
     "output_type": "stream",
     "text": [
      "{'Train':  best_epoch_indx:27\n",
      " auc:0.9852747838176262 \n",
      " apur:0.9805978447950716 \n",
      " f1:0.9319331983805668 \n",
      " precision:0.9261913743241544 \n",
      " recall:0.9377466581795035 \n",
      ", 'Validation':  best_epoch_indx:27\n",
      " auc:0.9428467569933778 \n",
      " apur:0.925203809314572 \n",
      " f1:0.8509423186750428 \n",
      " precision:0.8485193621867881 \n",
      " recall:0.8533791523482245 \n",
      ", 'Test':  best_epoch_indx:27\n",
      " auc:0.9440580568903209 \n",
      " apur:0.9278755496011613 \n",
      " f1:0.8508211678832117 \n",
      " precision:0.8469573115349682 \n",
      " recall:0.8547204399633364 \n",
      "}\n",
      "=====Epoch 28\n",
      "Training...\n",
      "{'Train':  best_epoch_indx:28\n",
      " auc:0.9866288948602343 \n",
      " apur:0.9816679165649265 \n",
      " f1:0.9311178622357245 \n",
      " precision:0.9075416968817984 \n",
      " recall:0.9559516231699554 \n",
      ", 'Validation':  best_epoch_indx:28\n",
      " auc:0.9524656646649774 \n",
      " apur:0.9419947549842661 \n",
      " f1:0.8627450980392157 \n",
      " precision:0.8442982456140351 \n",
      " recall:0.8820160366552119 \n",
      ", 'Test':  best_epoch_indx:28\n",
      " auc:0.9507983131035378 \n",
      " apur:0.9359559168850438 \n",
      " f1:0.864744019673597 \n",
      " precision:0.8441728502837189 \n",
      " recall:0.8863428047662695 \n",
      "}\n",
      "=====Epoch 29\n",
      "Training...\n"
     ]
    },
    {
     "name": "stderr",
     "output_type": "stream",
     "text": [
      "\n",
      "Iteration: 100%|██████████| 7/7 [00:00<00:00, 21.15it/s]\n",
      "Iteration: 100%|██████████| 7/7 [00:00<00:00, 22.33it/s]]]\n",
      "Iteration:   3%|▎         | 2/62 [00:00<00:05, 11.83it/s]]"
     ]
    },
    {
     "name": "stdout",
     "output_type": "stream",
     "text": [
      "{'Train':  best_epoch_indx:28\n",
      " auc:0.9862652055884277 \n",
      " apur:0.981969387648201 \n",
      " f1:0.9289903906152503 \n",
      " precision:0.9110268021050055 \n",
      " recall:0.9476766390833864 \n",
      ", 'Validation':  best_epoch_indx:28\n",
      " auc:0.9488961782776215 \n",
      " apur:0.9331849530655716 \n",
      " f1:0.8717086834733894 \n",
      " precision:0.8530701754385965 \n",
      " recall:0.8911798396334479 \n",
      ", 'Test':  best_epoch_indx:28\n",
      " auc:0.951662597219851 \n",
      " apur:0.9417755539451369 \n",
      " f1:0.8672964462438146 \n",
      " precision:0.8515901060070671 \n",
      " recall:0.8835930339138405 \n",
      "}\n",
      "=====Epoch 29\n",
      "Training...\n"
     ]
    },
    {
     "name": "stderr",
     "output_type": "stream",
     "text": [
      "Iteration:  56%|█████▋    | 35/62 [00:03<00:02, 10.03it/s]\n",
      "Iteration: 100%|██████████| 7/7 [00:00<00:00, 19.27it/s]s]\n",
      "Iteration:  66%|██████▌   | 41/62 [00:04<00:02, 10.20it/s]"
     ]
    },
    {
     "name": "stdout",
     "output_type": "stream",
     "text": [
      "{'Train':  best_epoch_indx:27\n",
      " auc:0.98342508242532 \n",
      " apur:0.9784242304652244 \n",
      " f1:0.9200855776491317 \n",
      " precision:0.9096677864874954 \n",
      " recall:0.9307447485677912 \n",
      ", 'Validation':  best_epoch_indx:27\n",
      " auc:0.9381828980912601 \n",
      " apur:0.9186024011911703 \n",
      " f1:0.8482446206115515 \n",
      " precision:0.8387458006718925 \n",
      " recall:0.8579610538373424 \n",
      ", 'Test':  best_epoch_indx:27\n",
      " auc:0.9447047384537872 \n",
      " apur:0.9291306151492095 \n",
      " f1:0.851665905979005 \n",
      " precision:0.8481818181818181 \n",
      " recall:0.8551787351054079 \n",
      "}\n",
      "=====Epoch 28\n",
      "Training...\n"
     ]
    },
    {
     "name": "stderr",
     "output_type": "stream",
     "text": [
      "Iteration: 100%|██████████| 62/62 [00:06<00:00,  9.71it/s]\n",
      "Iteration:  77%|███████▋  | 48/62 [00:04<00:01, 12.16it/s]"
     ]
    },
    {
     "name": "stdout",
     "output_type": "stream",
     "text": [
      "Evaluating...\n"
     ]
    },
    {
     "name": "stderr",
     "output_type": "stream",
     "text": [
      "Iteration: 100%|██████████| 62/62 [00:05<00:00, 12.38it/s]\n",
      "Iteration: 100%|██████████| 62/62 [00:05<00:00, 11.73it/s]\n",
      "Iteration:  97%|█████████▋| 60/62 [00:05<00:00, 11.35it/s]"
     ]
    },
    {
     "name": "stdout",
     "output_type": "stream",
     "text": [
      "Evaluating...\n",
      "Evaluating...\n"
     ]
    },
    {
     "name": "stderr",
     "output_type": "stream",
     "text": [
      "\r",
      "Iteration:   5%|▍         | 3/62 [00:00<00:02, 22.08it/s]\r",
      "Iteration:   5%|▍         | 3/62 [00:00<00:02, 21.43it/s]\r",
      "Iteration:  48%|████▊     | 30/62 [00:01<00:01, 22.16it/s]\r",
      "Iteration:  58%|█████▊    | 36/62 [00:03<00:02, 10.55it/s]\r",
      "Iteration:  10%|▉         | 6/62 [00:00<00:02, 22.19it/s]\r",
      "Iteration: 100%|██████████| 62/62 [00:05<00:00, 11.49it/s]\r",
      "Iteration: 100%|██████████| 62/62 [00:05<00:00, 11.37it/s]\n",
      "\r",
      "Iteration:   0%|          | 0/62 [00:00<?, ?it/s]\r",
      "Iteration:  10%|▉         | 6/62 [00:00<00:02, 21.54it/s]\r",
      "Iteration:  53%|█████▎    | 33/62 [00:01<00:01, 22.17it/s]"
     ]
    },
    {
     "name": "stdout",
     "output_type": "stream",
     "text": [
      "Evaluating...\n"
     ]
    },
    {
     "name": "stderr",
     "output_type": "stream",
     "text": [
      "Iteration:  63%|██████▎   | 39/62 [00:01<00:01, 22.10it/s]\n",
      "Iteration: 100%|██████████| 62/62 [00:06<00:00,  9.97it/s]\n",
      "Iteration:  92%|█████████▏| 57/62 [00:02<00:00, 21.51it/s]\n",
      "Iteration:   3%|▎         | 2/62 [00:00<00:03, 17.61it/s]"
     ]
    },
    {
     "name": "stdout",
     "output_type": "stream",
     "text": [
      "Evaluating...\n"
     ]
    },
    {
     "name": "stderr",
     "output_type": "stream",
     "text": [
      "\n",
      "Iteration:  33%|███▎      | 6/18 [00:00<00:00, 22.27it/s]]\n",
      "Iteration: 100%|██████████| 62/62 [00:03<00:00, 17.24it/s]\n",
      "Iteration:  78%|███████▊  | 14/18 [00:00<00:00, 17.07it/s]\n",
      "Iteration: 100%|██████████| 7/7 [00:00<00:00, 20.55it/s]s]\n",
      "Iteration:   0%|          | 0/62 [00:00<?, ?it/s]"
     ]
    },
    {
     "name": "stdout",
     "output_type": "stream",
     "text": [
      "{'Train':  best_epoch_indx:28\n",
      " auc:0.989630230814714 \n",
      " apur:0.9859574832447034 \n",
      " f1:0.9400753768844222 \n",
      " precision:0.9278363298202108 \n",
      " recall:0.9526416295353278 \n",
      ", 'Validation':  best_epoch_indx:28\n",
      " auc:0.9493570682001382 \n",
      " apur:0.9337025954948698 \n",
      " f1:0.8581196581196581 \n",
      " precision:0.8537414965986394 \n",
      " recall:0.8625429553264605 \n",
      ", 'Test':  best_epoch_indx:28\n",
      " auc:0.953266244316847 \n",
      " apur:0.9364101193550227 \n",
      " f1:0.8732331164460398 \n",
      " precision:0.8553846153846154 \n",
      " recall:0.8918423464711274 \n",
      "}\n",
      "=====Epoch 29\n",
      "Training...\n"
     ]
    },
    {
     "name": "stderr",
     "output_type": "stream",
     "text": [
      "Iteration:  10%|▉         | 6/62 [00:00<00:05, 10.43it/s]\n",
      "Iteration:   0%|          | 0/7 [00:00<?, ?it/s]\n",
      "Iteration:  16%|█▌        | 10/62 [00:00<00:04, 11.13it/s]\n",
      "Iteration: 100%|██████████| 7/7 [00:00<00:00, 22.05it/s]"
     ]
    },
    {
     "name": "stdout",
     "output_type": "stream",
     "text": [
      "{'Train':  best_epoch_indx:29\n",
      " auc:0.9889294979930321 \n",
      " apur:0.9852733668413904 \n",
      " f1:0.9377828054298641 \n",
      " precision:0.9260270572173266 \n",
      " recall:0.9498408656906429 \n",
      ", 'Validation':  best_epoch_indx:29\n",
      " auc:0.9495450881476081 \n",
      " apur:0.9339763348073332 \n",
      " f1:0.8709859154929577 \n",
      " precision:0.8569844789356984 \n",
      " recall:0.8854524627720504 \n",
      ", 'Test':  best_epoch_indx:29\n",
      " auc:0.9547599870214026 \n",
      " apur:0.9451195922951274 \n",
      " f1:0.8722247394653375 \n",
      " precision:0.8624551971326165 \n",
      " recall:0.882218148487626 \n",
      "}\n",
      "=====Epoch 30\n",
      "Training...\n",
      "{'Train':  best_epoch_indx:28\n",
      " auc:0.9885791320476223 \n",
      " apur:0.984819593920867 \n",
      " f1:0.9375000000000001 \n",
      " precision:0.9317238777819691 \n",
      " recall:0.9433481858688734 \n",
      ", 'Validation':  best_epoch_indx:28\n",
      " auc:0.9435959441686818 \n",
      " apur:0.9256150305886769 \n",
      " f1:0.8523836875358989 \n",
      " precision:0.8548387096774194 \n",
      " recall:0.849942726231386 \n",
      ", 'Test':  best_epoch_indx:28\n",
      " auc:0.9480942174571872 \n",
      " apur:0.9333197981410137 \n",
      " f1:0.858839652809502 \n",
      " precision:0.8561020036429873 \n",
      " recall:0.8615948670944088 \n",
      "}\n",
      "=====Epoch 29\n",
      "Training...\n"
     ]
    },
    {
     "name": "stderr",
     "output_type": "stream",
     "text": [
      "\n",
      "Iteration:   6%|▋         | 4/62 [00:00<00:04, 11.91it/s]]\n",
      "Iteration: 100%|██████████| 7/7 [00:00<00:00, 21.46it/s]]]\n",
      "Iteration:  13%|█▎        | 8/62 [00:00<00:04, 12.27it/s]"
     ]
    },
    {
     "name": "stdout",
     "output_type": "stream",
     "text": [
      "{'Train':  best_epoch_indx:29\n",
      " auc:0.9892807462700878 \n",
      " apur:0.9853656543218879 \n",
      " f1:0.9402139710509754 \n",
      " precision:0.9296826384567517 \n",
      " recall:0.950986632718014 \n",
      ", 'Validation':  best_epoch_indx:29\n",
      " auc:0.9544490340595724 \n",
      " apur:0.9449259638186649 \n",
      " f1:0.8652968036529681 \n",
      " precision:0.8623435722411832 \n",
      " recall:0.868270332187858 \n",
      ", 'Test':  best_epoch_indx:29\n",
      " auc:0.9524154622917227 \n",
      " apur:0.9385387213404578 \n",
      " f1:0.8705774937228943 \n",
      " precision:0.867212369258754 \n",
      " recall:0.8739688359303391 \n",
      "}\n",
      "=====Epoch 30\n",
      "Training...\n"
     ]
    },
    {
     "name": "stderr",
     "output_type": "stream",
     "text": [
      "Iteration:  52%|█████▏    | 32/62 [00:02<00:02, 11.25it/s]\n",
      "Iteration:  81%|████████  | 50/62 [00:04<00:00, 12.49it/s]\n",
      "Iteration:   0%|          | 0/62 [00:00<?, ?it/s]"
     ]
    },
    {
     "name": "stdout",
     "output_type": "stream",
     "text": [
      "{'Train':  best_epoch_indx:28\n",
      " auc:0.9882136764402027 \n",
      " apur:0.9842841442417989 \n",
      " f1:0.9323852295409182 \n",
      " precision:0.9140271493212669 \n",
      " recall:0.9514958625079567 \n",
      ", 'Validation':  best_epoch_indx:28\n",
      " auc:0.945574492538983 \n",
      " apur:0.9251365012912572 \n",
      " f1:0.8607021517553795 \n",
      " precision:0.851063829787234 \n",
      " recall:0.870561282932417 \n",
      ", 'Test':  best_epoch_indx:28\n",
      " auc:0.9492392979826061 \n",
      " apur:0.9347288665277224 \n",
      " f1:0.8666363222576241 \n",
      " precision:0.8607594936708861 \n",
      " recall:0.8725939505041247 \n",
      "}\n",
      "=====Epoch 29\n",
      "Training...\n"
     ]
    },
    {
     "name": "stderr",
     "output_type": "stream",
     "text": [
      "\r",
      "Iteration:  97%|█████████▋| 60/62 [00:05<00:00, 12.12it/s]\r",
      "Iteration:  61%|██████▏   | 38/62 [00:03<00:02, 11.21it/s]\r",
      "Iteration:   2%|▏         | 1/62 [00:00<00:06,  9.92it/s]\r",
      "Iteration:  84%|████████▍ | 52/62 [00:04<00:00, 12.48it/s]\r",
      "Iteration:  81%|████████  | 50/62 [00:04<00:00, 12.27it/s]\r",
      "Iteration: 100%|██████████| 62/62 [00:05<00:00, 12.23it/s]\r",
      "Iteration: 100%|██████████| 62/62 [00:05<00:00, 11.82it/s]\n",
      "\r",
      "Iteration:   0%|          | 0/62 [00:00<?, ?it/s]\r",
      "Iteration:  65%|██████▍   | 40/62 [00:03<00:01, 11.13it/s]"
     ]
    },
    {
     "name": "stdout",
     "output_type": "stream",
     "text": [
      "Evaluating...\n"
     ]
    },
    {
     "name": "stderr",
     "output_type": "stream",
     "text": [
      "Iteration: 100%|██████████| 62/62 [00:04<00:00, 12.44it/s]\n",
      "Iteration:  77%|███████▋  | 48/62 [00:04<00:01, 11.29it/s]"
     ]
    },
    {
     "name": "stdout",
     "output_type": "stream",
     "text": [
      "Evaluating...\n",
      "Evaluating...\n"
     ]
    },
    {
     "name": "stderr",
     "output_type": "stream",
     "text": [
      "Iteration: 100%|██████████| 62/62 [00:05<00:00, 12.32it/s]\n",
      "Iteration: 100%|██████████| 62/62 [00:05<00:00, 11.23it/s]\n",
      "Iteration:   0%|          | 0/62 [00:00<?, ?it/s]"
     ]
    },
    {
     "name": "stdout",
     "output_type": "stream",
     "text": [
      "Evaluating...\n"
     ]
    },
    {
     "name": "stderr",
     "output_type": "stream",
     "text": [
      "Iteration:  82%|████████▏ | 51/62 [00:02<00:00, 22.74it/s]\n",
      "Iteration:  97%|█████████▋| 60/62 [00:02<00:00, 22.32it/s]\n",
      "Iteration:  63%|██████▎   | 39/62 [00:01<00:01, 21.67it/s]\n",
      "Iteration:  85%|████████▌ | 53/62 [00:05<00:00, 10.26it/s]\n",
      "Iteration: 100%|██████████| 62/62 [00:05<00:00, 10.38it/s]\n",
      "Iteration:   0%|          | 0/62 [00:00<?, ?it/s]"
     ]
    },
    {
     "name": "stdout",
     "output_type": "stream",
     "text": [
      "Evaluating...\n"
     ]
    },
    {
     "name": "stderr",
     "output_type": "stream",
     "text": [
      "Iteration: 100%|██████████| 18/18 [00:01<00:00, 16.91it/s]\n",
      "Iteration: 100%|██████████| 7/7 [00:00<00:00, 21.33it/s]s]\n",
      "Iteration:   3%|▎         | 2/62 [00:00<00:05, 11.22it/s]]"
     ]
    },
    {
     "name": "stdout",
     "output_type": "stream",
     "text": [
      "{'Train':  best_epoch_indx:30\n",
      " auc:0.990220289286493 \n",
      " apur:0.9866149699115805 \n",
      " f1:0.9426982440792352 \n",
      " precision:0.9257486499754541 \n",
      " recall:0.9602800763844684 \n",
      ", 'Validation':  best_epoch_indx:30\n",
      " auc:0.9562260636143798 \n",
      " apur:0.9472169129294752 \n",
      " f1:0.874015748031496 \n",
      " precision:0.8585635359116022 \n",
      " recall:0.8900343642611683 \n",
      ", 'Test':  best_epoch_indx:30\n",
      " auc:0.9522945618729304 \n",
      " apur:0.9381147027910727 \n",
      " f1:0.8695455573140402 \n",
      " precision:0.85809906291834 \n",
      " recall:0.881301558203483 \n",
      "}\n",
      "=====Epoch 31\n",
      "Training...\n"
     ]
    },
    {
     "name": "stderr",
     "output_type": "stream",
     "text": [
      "Iteration:  77%|███████▋  | 48/62 [00:02<00:00, 18.17it/s]\n",
      "Iteration:  87%|████████▋ | 54/62 [00:03<00:00, 18.54it/s]\n",
      "Iteration:   3%|▎         | 2/62 [00:00<00:05, 11.97it/s]]"
     ]
    },
    {
     "name": "stdout",
     "output_type": "stream",
     "text": [
      "{'Train':  best_epoch_indx:29\n",
      " auc:0.9912140176336891 \n",
      " apur:0.9879383366209932 \n",
      " f1:0.9440050616893387 \n",
      " precision:0.9383647798742139 \n",
      " recall:0.9497135582431572 \n",
      ", 'Validation':  best_epoch_indx:29\n",
      " auc:0.9491555493846443 \n",
      " apur:0.9340616302544635 \n",
      " f1:0.8530424799081515 \n",
      " precision:0.8550057537399309 \n",
      " recall:0.8510882016036655 \n",
      ", 'Test':  best_epoch_indx:29\n",
      " auc:0.9548221941424047 \n",
      " apur:0.9399808575847253 \n",
      " f1:0.8753688989784335 \n",
      " precision:0.8672964462438146 \n",
      " recall:0.8835930339138405 \n",
      "}\n",
      "=====Epoch 30\n",
      "Training...\n"
     ]
    },
    {
     "name": "stderr",
     "output_type": "stream",
     "text": [
      "Iteration:   6%|▋         | 4/62 [00:00<00:04, 12.24it/s]]\n",
      "Iteration: 100%|██████████| 62/62 [00:03<00:00, 18.05it/s]\n",
      "Iteration:  43%|████▎     | 3/7 [00:00<00:00, 21.43it/s]]]\n",
      "Iteration: 100%|██████████| 7/7 [00:00<00:00, 22.30it/s]]]\n",
      "Iteration:  16%|█▌        | 10/62 [00:00<00:04, 12.36it/s]"
     ]
    },
    {
     "name": "stdout",
     "output_type": "stream",
     "text": [
      "{'Train':  best_epoch_indx:30\n",
      " auc:0.9895387457060533 \n",
      " apur:0.9858662459883094 \n",
      " f1:0.9398672146696175 \n",
      " precision:0.9336683417085427 \n",
      " recall:0.9461489497135582 \n",
      ", 'Validation':  best_epoch_indx:30\n",
      " auc:0.9526691118901885 \n",
      " apur:0.9381968701443694 \n",
      " f1:0.8723526044647968 \n",
      " precision:0.8718535469107551 \n",
      " recall:0.872852233676976 \n",
      ", 'Test':  best_epoch_indx:30\n",
      " auc:0.9559414592401346 \n",
      " apur:0.9467133178715743 \n",
      " f1:0.8720554272517321 \n",
      " precision:0.8789571694599627 \n",
      " recall:0.8652612282309807 \n",
      "}\n",
      "=====Epoch 31\n",
      "Training...\n",
      "{'Train':  best_epoch_indx:29\n",
      " auc:0.9908489062832461 \n",
      " apur:0.9876939080897322 \n",
      " f1:0.9447085313985489 \n",
      " precision:0.9285626460100824 \n",
      " recall:0.9614258434118396 \n",
      ", 'Validation':  best_epoch_indx:29\n",
      " auc:0.9461076978259109 \n",
      " apur:0.9294252835601162 \n",
      " f1:0.8560224089635854 \n",
      " precision:0.8377192982456141 \n",
      " recall:0.8751431844215349 \n",
      ", 'Test':  best_epoch_indx:29\n",
      " auc:0.9487757193073415 \n",
      " apur:0.9348111248185174 \n",
      " f1:0.8627274769714672 \n",
      " precision:0.8461877479065668 \n",
      " recall:0.8799266727772685 \n",
      "}\n",
      "=====Epoch 30\n",
      "Training...\n"
     ]
    },
    {
     "name": "stderr",
     "output_type": "stream",
     "text": [
      "\n",
      "Iteration: 100%|██████████| 62/62 [00:05<00:00, 10.67it/s]\n",
      "Iteration:  71%|███████   | 44/62 [00:03<00:01, 11.18it/s]"
     ]
    },
    {
     "name": "stdout",
     "output_type": "stream",
     "text": [
      "Evaluating...\n"
     ]
    },
    {
     "name": "stderr",
     "output_type": "stream",
     "text": [
      "Iteration: 100%|██████████| 62/62 [00:05<00:00, 11.69it/s]\n",
      "Iteration:   0%|          | 0/62 [00:00<?, ?it/s]"
     ]
    },
    {
     "name": "stdout",
     "output_type": "stream",
     "text": [
      "Evaluating...\n"
     ]
    },
    {
     "name": "stderr",
     "output_type": "stream",
     "text": [
      "Iteration: 100%|██████████| 62/62 [00:05<00:00, 12.07it/s]\n",
      "Iteration: 100%|██████████| 62/62 [00:05<00:00, 12.23it/s]\n",
      "Iteration:  24%|██▍       | 15/62 [00:00<00:02, 18.88it/s]"
     ]
    },
    {
     "name": "stdout",
     "output_type": "stream",
     "text": [
      "Evaluating...\n",
      "Evaluating...\n"
     ]
    },
    {
     "name": "stderr",
     "output_type": "stream",
     "text": [
      "Iteration: 100%|██████████| 62/62 [00:02<00:00, 21.43it/s]\n",
      "Iteration:  43%|████▎     | 3/7 [00:00<00:00, 22.05it/s]s]\n",
      "Iteration:  48%|████▊     | 30/62 [00:01<00:01, 20.84it/s]\n",
      "Iteration:  53%|█████▎    | 33/62 [00:01<00:01, 21.20it/s]"
     ]
    },
    {
     "name": "stdout",
     "output_type": "stream",
     "text": [
      "{'Train':  best_epoch_indx:29\n",
      " auc:0.9909323692582882 \n",
      " apur:0.9878085026488483 \n",
      " f1:0.9411322645290581 \n",
      " precision:0.9261678787131764 \n",
      " recall:0.9565881604073838 \n",
      ", 'Validation':  best_epoch_indx:29\n",
      " auc:0.9490080260412448 \n",
      " apur:0.9305079436593106 \n",
      " f1:0.8658399098083427 \n",
      " precision:0.8523862375138734 \n",
      " recall:0.8797250859106529 \n",
      ", 'Test':  best_epoch_indx:29\n",
      " auc:0.9514086748524858 \n",
      " apur:0.9375708138647023 \n",
      " f1:0.8677176148046608 \n",
      " precision:0.8651480637813211 \n",
      " recall:0.8703024747937672 \n",
      "}\n",
      "=====Epoch 30\n",
      "Training...\n"
     ]
    },
    {
     "name": "stderr",
     "output_type": "stream",
     "text": [
      "Iteration:  13%|█▎        | 8/62 [00:00<00:04, 12.40it/s]]\n",
      "Iteration:  19%|█▉        | 12/62 [00:00<00:04, 12.42it/s]"
     ]
    },
    {
     "name": "stdout",
     "output_type": "stream",
     "text": [
      "{'Train':  best_epoch_indx:31\n",
      " auc:0.9881219555086137 \n",
      " apur:0.9836618425420013 \n",
      " f1:0.9369107131557299 \n",
      " precision:0.9314292903875189 \n",
      " recall:0.9424570337364736 \n",
      ", 'Validation':  best_epoch_indx:31\n",
      " auc:0.9504070872913942 \n",
      " apur:0.9389610186359281 \n",
      " f1:0.8609195402298849 \n",
      " precision:0.8638985005767013 \n",
      " recall:0.8579610538373424 \n",
      ", 'Test':  best_epoch_indx:31\n",
      " auc:0.9492340144494131 \n",
      " apur:0.9338794977611853 \n",
      " f1:0.8648401826484019 \n",
      " precision:0.8616924476797089 \n",
      " recall:0.8680109990834097 \n",
      "}\n",
      "=====Epoch 32\n",
      "Training...\n"
     ]
    },
    {
     "name": "stderr",
     "output_type": "stream",
     "text": [
      "\n",
      "Iteration:  32%|███▏      | 20/62 [00:01<00:03, 12.63it/s]\n",
      "Iteration:  19%|█▉        | 12/62 [00:01<00:04, 11.70it/s]\n",
      "Iteration:  50%|█████     | 9/18 [00:00<00:00, 22.78it/s]]\n",
      "Iteration:  71%|███████   | 44/62 [00:03<00:01, 12.49it/s]\n",
      "Iteration: 100%|██████████| 7/7 [00:00<00:00, 18.16it/s]s]\n",
      "Iteration:  81%|████████  | 50/62 [00:03<00:00, 12.50it/s]"
     ]
    },
    {
     "name": "stdout",
     "output_type": "stream",
     "text": [
      "{'Train':  best_epoch_indx:31\n",
      " auc:0.988800690008747 \n",
      " apur:0.9848877985528328 \n",
      " f1:0.9391172952213058 \n",
      " precision:0.9289985052316891 \n",
      " recall:0.9494589433481859 \n",
      ", 'Validation':  best_epoch_indx:31\n",
      " auc:0.9490976970931152 \n",
      " apur:0.9335681903197449 \n",
      " f1:0.8714448236632537 \n",
      " precision:0.8655367231638418 \n",
      " recall:0.8774341351660939 \n",
      ", 'Test':  best_epoch_indx:31\n",
      " auc:0.9553011735381096 \n",
      " apur:0.9463563292380733 \n",
      " f1:0.8699448529411765 \n",
      " precision:0.8723502304147466 \n",
      " recall:0.8675527039413382 \n",
      "}\n",
      "=====Epoch 32\n",
      "Training...\n"
     ]
    },
    {
     "name": "stderr",
     "output_type": "stream",
     "text": [
      "Iteration: 100%|██████████| 62/62 [00:04<00:00, 12.50it/s]\n",
      "Iteration:   5%|▍         | 3/62 [00:00<00:02, 22.39it/s]]"
     ]
    },
    {
     "name": "stdout",
     "output_type": "stream",
     "text": [
      "Evaluating...\n"
     ]
    },
    {
     "name": "stderr",
     "output_type": "stream",
     "text": [
      "Iteration: 100%|██████████| 62/62 [00:05<00:00, 11.44it/s]\n",
      "Iteration:   0%|          | 0/62 [00:00<?, ?it/s]"
     ]
    },
    {
     "name": "stdout",
     "output_type": "stream",
     "text": [
      "Evaluating...\n"
     ]
    },
    {
     "name": "stderr",
     "output_type": "stream",
     "text": [
      "Iteration:  87%|████████▋ | 54/62 [00:02<00:00, 21.90it/s]\n",
      "Iteration:  43%|████▎     | 3/7 [00:00<00:00, 21.27it/s]s]\n",
      "Iteration: 100%|██████████| 62/62 [00:02<00:00, 22.40it/s]\n",
      "Iteration:  86%|████████▌ | 6/7 [00:00<00:00, 22.56it/s]s]"
     ]
    },
    {
     "name": "stdout",
     "output_type": "stream",
     "text": [
      "{'Train':  best_epoch_indx:30\n",
      " auc:0.9916212168757991 \n",
      " apur:0.98858594771434 \n",
      " f1:0.9471351693573915 \n",
      " precision:0.9420654911838791 \n",
      " recall:0.9522597071928708 \n",
      ", 'Validation':  best_epoch_indx:30\n",
      " auc:0.9511504892375454 \n",
      " apur:0.9360867653860571 \n",
      " f1:0.8582995951417004 \n",
      " precision:0.866822429906542 \n",
      " recall:0.849942726231386 \n",
      ", 'Test':  best_epoch_indx:30\n",
      " auc:0.9548289859868813 \n",
      " apur:0.9401683992127587 \n",
      " f1:0.8730086481565772 \n",
      " precision:0.8670886075949367 \n",
      " recall:0.8790100824931256 \n",
      "}\n",
      "=====Epoch 31\n",
      "Training...\n",
      "{'Train':  best_epoch_indx:30\n",
      " auc:0.9914083015675109 \n",
      " apur:0.9884743594357025 \n",
      " f1:0.9456618112729576 \n",
      " precision:0.9408947700063012 \n",
      " recall:0.9504774029280713 \n",
      ", 'Validation':  best_epoch_indx:30\n",
      " auc:0.9475655755724484 \n",
      " apur:0.9289551916543882 \n",
      " f1:0.859608745684695 \n",
      " precision:0.8635838150289017 \n",
      " recall:0.8556701030927835 \n",
      ", 'Test':  best_epoch_indx:30\n",
      " auc:0.9497179247408394 \n",
      " apur:0.9359378143606588 \n",
      " f1:0.8593714154622621 \n",
      " precision:0.8603582912264585 \n",
      " recall:0.8583868010999084 \n",
      "}\n",
      "=====Epoch 31\n",
      "Training...\n"
     ]
    },
    {
     "name": "stderr",
     "output_type": "stream",
     "text": [
      "Iteration: 100%|██████████| 7/7 [00:00<00:00, 22.83it/s]s]\n",
      "Iteration:   0%|          | 0/62 [00:00<?, ?it/s]\n",
      "Iteration:  89%|████████▊ | 55/62 [00:05<00:00, 10.37it/s]\n",
      "Iteration: 100%|██████████| 62/62 [00:06<00:00, 10.19it/s]\n",
      "Iteration:  83%|████████▎ | 15/18 [00:00<00:00, 22.47it/s]"
     ]
    },
    {
     "name": "stdout",
     "output_type": "stream",
     "text": [
      "Evaluating...\n"
     ]
    },
    {
     "name": "stderr",
     "output_type": "stream",
     "text": [
      "Iteration:  48%|████▊     | 30/62 [00:02<00:02, 12.30it/s]\n",
      "Iteration:  19%|█▉        | 12/62 [00:00<00:02, 17.87it/s]\n",
      "Iteration:   3%|▎         | 2/62 [00:00<00:04, 12.01it/s]]"
     ]
    },
    {
     "name": "stdout",
     "output_type": "stream",
     "text": [
      "{'Train':  best_epoch_indx:32\n",
      " auc:0.9873199269265495 \n",
      " apur:0.9828829275033307 \n",
      " f1:0.9330475349892826 \n",
      " precision:0.924191332583989 \n",
      " recall:0.9420751113940166 \n",
      ", 'Validation':  best_epoch_indx:32\n",
      " auc:0.9521657969538839 \n",
      " apur:0.9426085813847496 \n",
      " f1:0.8625429553264605 \n",
      " precision:0.8625429553264605 \n",
      " recall:0.8625429553264605 \n",
      ", 'Test':  best_epoch_indx:32\n",
      " auc:0.9485375447107801 \n",
      " apur:0.9344246682158954 \n",
      " f1:0.8630230962725817 \n",
      " precision:0.8612505705157463 \n",
      " recall:0.8648029330889092 \n",
      "}\n",
      "=====Epoch 33\n",
      "Training...\n"
     ]
    },
    {
     "name": "stderr",
     "output_type": "stream",
     "text": [
      "Iteration: 100%|██████████| 62/62 [00:05<00:00, 12.20it/s]\n",
      "Iteration:   5%|▍         | 3/62 [00:00<00:02, 21.18it/s]]"
     ]
    },
    {
     "name": "stdout",
     "output_type": "stream",
     "text": [
      "Evaluating...\n"
     ]
    },
    {
     "name": "stderr",
     "output_type": "stream",
     "text": [
      "\r",
      "Iteration:  90%|█████████ | 56/62 [00:03<00:00, 17.61it/s]\r",
      "Iteration:  48%|████▊     | 30/62 [00:02<00:02, 11.95it/s]\r",
      "Iteration:  10%|▉         | 6/62 [00:00<00:02, 21.45it/s]\r",
      "Iteration: 100%|██████████| 62/62 [00:05<00:00, 11.22it/s]\r",
      "Iteration: 100%|██████████| 62/62 [00:05<00:00, 11.24it/s]\n",
      "\r",
      "Iteration:   0%|          | 0/62 [00:00<?, ?it/s]\r",
      "Iteration:  94%|█████████▎| 58/62 [00:03<00:00, 17.75it/s]\n",
      "\r",
      "Iteration:   0%|          | 0/7 [00:00<?, ?it/s]\r",
      "Iteration:  15%|█▍        | 9/62 [00:00<00:02, 21.50it/s]"
     ]
    },
    {
     "name": "stdout",
     "output_type": "stream",
     "text": [
      "Evaluating...\n"
     ]
    },
    {
     "name": "stderr",
     "output_type": "stream",
     "text": [
      "Iteration:  15%|█▍        | 9/62 [00:00<00:02, 21.53it/s]]\n",
      "Iteration:   0%|          | 0/18 [00:00<?, ?it/s]\n",
      "Iteration:  19%|█▉        | 12/62 [00:00<00:02, 21.44it/s]"
     ]
    },
    {
     "name": "stdout",
     "output_type": "stream",
     "text": [
      "{'Train':  best_epoch_indx:30\n",
      " auc:0.9918820363713448 \n",
      " apur:0.9890657544143753 \n",
      " f1:0.944007981045018 \n",
      " precision:0.9250885983135769 \n",
      " recall:0.9637173774665818 \n",
      ", 'Validation':  best_epoch_indx:30\n",
      " auc:0.9496820052375607 \n",
      " apur:0.9307879005461651 \n",
      " f1:0.8655036578503095 \n",
      " precision:0.8506637168141593 \n",
      " recall:0.8808705612829324 \n",
      ", 'Test':  best_epoch_indx:30\n",
      " auc:0.9525430672401866 \n",
      " apur:0.9385693080610383 \n",
      " f1:0.8737556561085973 \n",
      " precision:0.8628239499553172 \n",
      " recall:0.884967919340055 \n",
      "}\n",
      "=====Epoch 31\n",
      "Training...\n"
     ]
    },
    {
     "name": "stderr",
     "output_type": "stream",
     "text": [
      "Iteration:  48%|████▊     | 30/62 [00:01<00:01, 21.71it/s]\n",
      "Iteration:  29%|██▉       | 18/62 [00:01<00:03, 12.60it/s]\n",
      "Iteration:  68%|██████▊   | 42/62 [00:01<00:00, 21.47it/s]"
     ]
    },
    {
     "name": "stdout",
     "output_type": "stream",
     "text": [
      "{'Train':  best_epoch_indx:32\n",
      " auc:0.9887211972854576 \n",
      " apur:0.9850437349729138 \n",
      " f1:0.9388373414126112 \n",
      " precision:0.9310215322984476 \n",
      " recall:0.9467854869509866 \n",
      ", 'Validation':  best_epoch_indx:32\n",
      " auc:0.9476504256000248 \n",
      " apur:0.9312078927495551 \n",
      " f1:0.8584474885844748 \n",
      " precision:0.8555176336746303 \n",
      " recall:0.861397479954181 \n",
      ", 'Test':  best_epoch_indx:32\n",
      " auc:0.952609133363732 \n",
      " apur:0.9420551951644429 \n",
      " f1:0.867370353373107 \n",
      " precision:0.8685661764705882 \n",
      " recall:0.8661778185151238 \n",
      "}\n",
      "=====Epoch 33\n",
      "Training...\n"
     ]
    },
    {
     "name": "stderr",
     "output_type": "stream",
     "text": [
      "Iteration:  45%|████▌     | 28/62 [00:02<00:02, 12.68it/s]\n",
      "Iteration: 100%|██████████| 62/62 [00:05<00:00, 11.46it/s]\n",
      "Iteration:  52%|█████▏    | 32/62 [00:02<00:02, 12.55it/s]\n",
      "Iteration:  19%|█▉        | 12/62 [00:01<00:04, 10.41it/s]"
     ]
    },
    {
     "name": "stdout",
     "output_type": "stream",
     "text": [
      "Evaluating...\n"
     ]
    },
    {
     "name": "stderr",
     "output_type": "stream",
     "text": [
      "Iteration: 100%|██████████| 18/18 [00:00<00:00, 23.12it/s]\n",
      "Iteration:  34%|███▍      | 21/62 [00:00<00:01, 21.54it/s]\n",
      "Iteration:  71%|███████   | 44/62 [00:03<00:01, 12.47it/s]"
     ]
    },
    {
     "name": "stdout",
     "output_type": "stream",
     "text": [
      "{'Train':  best_epoch_indx:31\n",
      " auc:0.9903614660877624 \n",
      " apur:0.9872680606931117 \n",
      " f1:0.9406620861961275 \n",
      " precision:0.9233599019006744 \n",
      " recall:0.9586250795671547 \n",
      ", 'Validation':  best_epoch_indx:31\n",
      " auc:0.9437791430918578 \n",
      " apur:0.9273446879925711 \n",
      " f1:0.8513284341435841 \n",
      " precision:0.8404017857142857 \n",
      " recall:0.8625429553264605 \n",
      ", 'Test':  best_epoch_indx:31\n",
      " auc:0.9472954414292636 \n",
      " apur:0.9325107120171985 \n",
      " f1:0.8587494376968062 \n",
      " precision:0.8431978798586572 \n",
      " recall:0.8748854262144822 \n",
      "}\n",
      "=====Epoch 32\n",
      "Training...\n"
     ]
    },
    {
     "name": "stderr",
     "output_type": "stream",
     "text": [
      "Iteration: 100%|██████████| 62/62 [00:04<00:00, 12.60it/s]\n",
      "Iteration:  58%|█████▊    | 36/62 [00:03<00:02, 10.29it/s]"
     ]
    },
    {
     "name": "stdout",
     "output_type": "stream",
     "text": [
      "Evaluating...\n"
     ]
    },
    {
     "name": "stderr",
     "output_type": "stream",
     "text": [
      "Iteration:  68%|██████▊   | 42/62 [00:04<00:01, 10.29it/s]\n",
      "Iteration:  53%|█████▎    | 33/62 [00:01<00:01, 22.61it/s]\n",
      "Iteration:  68%|██████▊   | 42/62 [00:01<00:00, 22.65it/s]\n",
      "Iteration:  87%|████████▋ | 54/62 [00:05<00:00,  8.51it/s]"
     ]
    },
    {
     "name": "stdout",
     "output_type": "stream",
     "text": [
      "{'Train':  best_epoch_indx:33\n",
      " auc:0.9860807070142783 \n",
      " apur:0.9809189466611552 \n",
      " f1:0.9315426226450289 \n",
      " precision:0.910427807486631 \n",
      " recall:0.9536600891152133 \n",
      ", 'Validation':  best_epoch_indx:33\n",
      " auc:0.9495219472309965 \n",
      " apur:0.9374657751450973 \n",
      " f1:0.8672665916760405 \n",
      " precision:0.8519337016574585 \n",
      " recall:0.8831615120274914 \n",
      ", 'Test':  best_epoch_indx:33\n",
      " auc:0.9490594919559172 \n",
      " apur:0.9341319133208781 \n",
      " f1:0.8678820616700427 \n",
      " precision:0.8527200353825741 \n",
      " recall:0.8835930339138405 \n",
      "}\n",
      "=====Epoch 34\n",
      "Training...\n"
     ]
    },
    {
     "name": "stderr",
     "output_type": "stream",
     "text": [
      "Iteration: 100%|██████████| 62/62 [00:06<00:00,  9.88it/s]\n",
      "Iteration:  19%|█▉        | 12/62 [00:01<00:04, 11.96it/s]\n",
      "Iteration:   3%|▎         | 2/62 [00:00<00:03, 17.20it/s]]"
     ]
    },
    {
     "name": "stdout",
     "output_type": "stream",
     "text": [
      "Evaluating...\n"
     ]
    },
    {
     "name": "stderr",
     "output_type": "stream",
     "text": [
      "Iteration:  90%|█████████ | 56/62 [00:04<00:00, 12.27it/s]\n",
      "Iteration: 100%|██████████| 7/7 [00:00<00:00, 22.45it/s]s]\n",
      "Iteration: 100%|██████████| 62/62 [00:05<00:00, 12.37it/s]\n",
      "Iteration:   3%|▎         | 2/62 [00:00<00:05, 11.45it/s]]"
     ]
    },
    {
     "name": "stdout",
     "output_type": "stream",
     "text": [
      "{'Train':  best_epoch_indx:31\n",
      " auc:0.9917320481910492 \n",
      " apur:0.9888636957324093 \n",
      " f1:0.9460980490245122 \n",
      " precision:0.9297038220474376 \n",
      " recall:0.9630808402291534 \n",
      ", 'Validation':  best_epoch_indx:31\n",
      " auc:0.9477217767595775 \n",
      " apur:0.9318036021445157 \n",
      " f1:0.8597183098591549 \n",
      " precision:0.8458980044345898 \n",
      " recall:0.8739977090492554 \n",
      ", 'Test':  best_epoch_indx:31\n",
      " auc:0.9548143217772158 \n",
      " apur:0.940974639352669 \n",
      " f1:0.8737430167597765 \n",
      " precision:0.8525948539031836 \n",
      " recall:0.8959670027497708 \n",
      "}\n",
      "=====Epoch 32\n",
      "Training...\n",
      "Evaluating...\n"
     ]
    },
    {
     "name": "stderr",
     "output_type": "stream",
     "text": [
      "Iteration:  26%|██▌       | 16/62 [00:00<00:02, 18.14it/s]\n",
      "Iteration: 100%|██████████| 7/7 [00:00<00:00, 22.66it/s]s]\n",
      "Iteration:  42%|████▏     | 26/62 [00:01<00:02, 17.44it/s]"
     ]
    },
    {
     "name": "stdout",
     "output_type": "stream",
     "text": [
      "{'Train':  best_epoch_indx:31\n",
      " auc:0.9904495715431532 \n",
      " apur:0.9872233462211023 \n",
      " f1:0.9390809573875936 \n",
      " precision:0.9131585277844599 \n",
      " recall:0.9665181413112667 \n",
      ", 'Validation':  best_epoch_indx:31\n",
      " auc:0.9494235983353968 \n",
      " apur:0.929620227110568 \n",
      " f1:0.8652246256239601 \n",
      " precision:0.8387096774193549 \n",
      " recall:0.8934707903780069 \n",
      ", 'Test':  best_epoch_indx:31\n",
      " auc:0.9524388741715107 \n",
      " apur:0.9379990042269606 \n",
      " f1:0.870924519874944 \n",
      " precision:0.8493031358885017 \n",
      " recall:0.8936755270394133 \n",
      "}\n",
      "=====Epoch 32\n",
      "Training...\n"
     ]
    },
    {
     "name": "stderr",
     "output_type": "stream",
     "text": [
      "Iteration: 100%|██████████| 62/62 [00:02<00:00, 21.12it/s]\n",
      "Iteration:  11%|█         | 2/18 [00:00<00:00, 18.14it/s]]\n",
      "Iteration: 100%|██████████| 62/62 [00:05<00:00, 11.93it/s]\n",
      "Iteration:  56%|█████▌    | 10/18 [00:00<00:00, 17.16it/s]"
     ]
    },
    {
     "name": "stdout",
     "output_type": "stream",
     "text": [
      "Evaluating...\n"
     ]
    },
    {
     "name": "stderr",
     "output_type": "stream",
     "text": [
      "Iteration: 100%|██████████| 18/18 [00:00<00:00, 18.18it/s]\n",
      "Iteration:  18%|█▊        | 11/62 [00:00<00:02, 21.34it/s]\n",
      "Iteration:  74%|███████▍  | 46/62 [00:03<00:01, 12.37it/s]\n",
      "Iteration:  32%|███▏      | 20/62 [00:00<00:01, 21.59it/s]\n",
      "Iteration:   0%|          | 0/62 [00:00<?, ?it/s]"
     ]
    },
    {
     "name": "stdout",
     "output_type": "stream",
     "text": [
      "{'Train':  best_epoch_indx:32\n",
      " auc:0.9900674465066648 \n",
      " apur:0.9867107755082276 \n",
      " f1:0.9420741400139887 \n",
      " precision:0.9410569105691057 \n",
      " recall:0.943093570973902 \n",
      ", 'Validation':  best_epoch_indx:32\n",
      " auc:0.9456824834831707 \n",
      " apur:0.9287027929579136 \n",
      " f1:0.8558246828143021 \n",
      " precision:0.8617886178861789 \n",
      " recall:0.849942726231386 \n",
      ", 'Test':  best_epoch_indx:32\n",
      " auc:0.9467594521444201 \n",
      " apur:0.9306483472754034 \n",
      " f1:0.8543689320388349 \n",
      " precision:0.8619402985074627 \n",
      " recall:0.846929422548121 \n",
      "}\n",
      "=====Epoch 33\n",
      "Training...\n",
      "{'Train':  best_epoch_indx:33\n",
      " auc:0.9854055706833218 \n",
      " apur:0.9804884398736475 \n",
      " f1:0.9247986226403493 \n",
      " precision:0.8943862987630827 \n",
      " recall:0.9573520050922979 \n",
      ", 'Validation':  best_epoch_indx:33\n",
      " auc:0.9466167979913684 \n",
      " apur:0.9331824298543883 \n",
      " f1:0.8642111050027488 \n",
      " precision:0.8308668076109936 \n",
      " recall:0.9003436426116839 \n",
      ", 'Test':  best_epoch_indx:33\n",
      " auc:0.9510467004139013 \n",
      " apur:0.9413524897435807 \n",
      " f1:0.8675071886750718 \n",
      " precision:0.8383924754168448 \n",
      " recall:0.8987167736021998 \n",
      "}\n",
      "=====Epoch 34\n",
      "Training...\n"
     ]
    },
    {
     "name": "stderr",
     "output_type": "stream",
     "text": [
      "Iteration: 100%|██████████| 62/62 [00:05<00:00, 12.19it/s]\n",
      "Iteration: 100%|██████████| 62/62 [00:05<00:00, 10.52it/s]\n",
      "Iteration:   0%|          | 0/62 [00:00<?, ?it/s]"
     ]
    },
    {
     "name": "stdout",
     "output_type": "stream",
     "text": [
      "Evaluating...\n",
      "Evaluating...\n"
     ]
    },
    {
     "name": "stderr",
     "output_type": "stream",
     "text": [
      "Iteration:  42%|████▏     | 26/62 [00:02<00:02, 12.13it/s]\n",
      "Iteration:  55%|█████▍    | 34/62 [00:01<00:01, 21.63it/s]\n",
      "Iteration:  68%|██████▊   | 42/62 [00:03<00:01, 12.39it/s]\n",
      "Iteration:  71%|███████   | 44/62 [00:03<00:01, 12.40it/s]"
     ]
    },
    {
     "name": "stdout",
     "output_type": "stream",
     "text": [
      "{'Train':  best_epoch_indx:34\n",
      " auc:0.9868989810223292 \n",
      " apur:0.9818422010670754 \n",
      " f1:0.9309478585870963 \n",
      " precision:0.8973541223718403 \n",
      " recall:0.9671546785486951 \n",
      ", 'Validation':  best_epoch_indx:34\n",
      " auc:0.9520346650930843 \n",
      " apur:0.9408626353158763 \n",
      " f1:0.8660366870483602 \n",
      " precision:0.8412526997840173 \n",
      " recall:0.8923253150057274 \n",
      ", 'Test':  best_epoch_indx:34\n",
      " auc:0.9512655581170705 \n",
      " apur:0.936486166475983 \n",
      " f1:0.865934065934066 \n",
      " precision:0.8319256756756757 \n",
      " recall:0.9028414298808433 \n",
      "}\n",
      "=====Epoch 35\n",
      "Training...\n"
     ]
    },
    {
     "name": "stderr",
     "output_type": "stream",
     "text": [
      "Iteration:  94%|█████████▎| 58/62 [00:02<00:00, 21.83it/s]\n",
      "Iteration:  33%|███▎      | 6/18 [00:00<00:00, 23.12it/s]]\n",
      "Iteration:  67%|██████▋   | 12/18 [00:00<00:00, 22.69it/s]\n",
      "Iteration: 100%|██████████| 62/62 [00:05<00:00, 11.81it/s]\n",
      "Iteration:   0%|          | 0/62 [00:00<?, ?it/s]"
     ]
    },
    {
     "name": "stdout",
     "output_type": "stream",
     "text": [
      "Evaluating...\n",
      "{'Train':  best_epoch_indx:32\n",
      " auc:0.987338923031394 \n",
      " apur:0.9834358121898066 \n",
      " f1:0.9324860001258415 \n",
      " precision:0.9218711122169694 \n",
      " recall:0.9433481858688734 \n",
      ", 'Validation':  best_epoch_indx:32\n",
      " auc:0.9423699576906908 \n",
      " apur:0.9235460331863582 \n",
      " f1:0.8509670079635949 \n",
      " precision:0.8451977401129943 \n",
      " recall:0.856815578465063 \n",
      ", 'Test':  best_epoch_indx:32\n",
      " auc:0.9471165378634524 \n",
      " apur:0.9345022016988626 \n",
      " f1:0.8616020197383522 \n",
      " precision:0.8629885057471265 \n",
      " recall:0.8602199816681944 \n",
      "}\n",
      "=====Epoch 33\n",
      "Training...\n"
     ]
    },
    {
     "name": "stderr",
     "output_type": "stream",
     "text": [
      "Iteration:   5%|▍         | 3/62 [00:00<00:02, 21.33it/s]]\n",
      "Iteration:   0%|          | 0/7 [00:00<?, ?it/s]\n",
      "Iteration: 100%|██████████| 7/7 [00:00<00:00, 22.59it/s]]]"
     ]
    },
    {
     "name": "stdout",
     "output_type": "stream",
     "text": [
      "{'Train':  best_epoch_indx:32\n",
      " auc:0.9910230088263718 \n",
      " apur:0.9873359727419675 \n",
      " f1:0.9435544430538173 \n",
      " precision:0.927876923076923 \n",
      " recall:0.9597708465945258 \n",
      ", 'Validation':  best_epoch_indx:32\n",
      " auc:0.9476899579992364 \n",
      " apur:0.9287597879193799 \n",
      " f1:0.8618346545866366 \n",
      " precision:0.8521836506159015 \n",
      " recall:0.8717067583046965 \n",
      ", 'Test':  best_epoch_indx:32\n",
      " auc:0.9526731928059549 \n",
      " apur:0.9377352472931111 \n",
      " f1:0.8713004484304933 \n",
      " precision:0.8529411764705882 \n",
      " recall:0.8904674610449129 \n",
      "}\n",
      "=====Epoch 33\n",
      "Training...\n"
     ]
    },
    {
     "name": "stderr",
     "output_type": "stream",
     "text": [
      "\n",
      "Iteration: 100%|██████████| 62/62 [00:06<00:00, 10.33it/s]\n",
      "Iteration:   0%|          | 0/62 [00:00<?, ?it/s]"
     ]
    },
    {
     "name": "stdout",
     "output_type": "stream",
     "text": [
      "Evaluating...\n"
     ]
    },
    {
     "name": "stderr",
     "output_type": "stream",
     "text": [
      "Iteration:  45%|████▌     | 28/62 [00:02<00:02, 11.55it/s]\n",
      "Iteration: 100%|██████████| 62/62 [00:05<00:00, 12.17it/s]\n",
      "Iteration:  65%|██████▍   | 40/62 [00:03<00:01, 12.62it/s]"
     ]
    },
    {
     "name": "stdout",
     "output_type": "stream",
     "text": [
      "Evaluating...\n"
     ]
    },
    {
     "name": "stderr",
     "output_type": "stream",
     "text": [
      "Iteration:  61%|██████▏   | 38/62 [00:03<00:02, 11.48it/s]\n",
      "Iteration:  29%|██▉       | 18/62 [00:00<00:02, 21.61it/s]\n",
      "Iteration:  97%|█████████▋| 60/62 [00:03<00:00, 18.04it/s]"
     ]
    },
    {
     "name": "stdout",
     "output_type": "stream",
     "text": [
      "{'Train':  best_epoch_indx:33\n",
      " auc:0.9873385603348748 \n",
      " apur:0.9829564879386236 \n",
      " f1:0.933117247397619 \n",
      " precision:0.914142647777235 \n",
      " recall:0.9528962444302992 \n",
      ", 'Validation':  best_epoch_indx:33\n",
      " auc:0.9408036068975357 \n",
      " apur:0.920421883805743 \n",
      " f1:0.8532883642495784 \n",
      " precision:0.8377483443708609 \n",
      " recall:0.8694158075601375 \n",
      ", 'Test':  best_epoch_indx:33\n",
      " auc:0.9436313949146213 \n",
      " apur:0.9264724177506456 \n",
      " f1:0.8510733452593917 \n",
      " precision:0.8310043668122271 \n",
      " recall:0.8721356553620532 \n",
      "}\n",
      "=====Epoch 34\n",
      "Training...\n"
     ]
    },
    {
     "name": "stderr",
     "output_type": "stream",
     "text": [
      "Iteration:  39%|███▊      | 24/62 [00:01<00:01, 21.77it/s]\n",
      "Iteration: 100%|██████████| 62/62 [00:05<00:00, 12.00it/s]\n",
      "Iteration:   5%|▍         | 3/62 [00:00<00:02, 21.11it/s]]"
     ]
    },
    {
     "name": "stdout",
     "output_type": "stream",
     "text": [
      "Evaluating...\n"
     ]
    },
    {
     "name": "stderr",
     "output_type": "stream",
     "text": [
      "Iteration:  87%|████████▋ | 54/62 [00:05<00:00,  8.73it/s]\n",
      "Iteration:  35%|███▌      | 22/62 [00:01<00:03, 12.00it/s]\n",
      "Iteration:  97%|█████████▋| 60/62 [00:05<00:00, 10.51it/s]"
     ]
    },
    {
     "name": "stdout",
     "output_type": "stream",
     "text": [
      "{'Train':  best_epoch_indx:34\n",
      " auc:0.9874512251108879 \n",
      " apur:0.9835701453593587 \n",
      " f1:0.9324654190398697 \n",
      " precision:0.9171386358039891 \n",
      " recall:0.9483131763208148 \n",
      ", 'Validation':  best_epoch_indx:34\n",
      " auc:0.9506703152178524 \n",
      " apur:0.9332641739884713 \n",
      " f1:0.8682432432432433 \n",
      " precision:0.8538205980066446 \n",
      " recall:0.8831615120274914 \n",
      ", 'Test':  best_epoch_indx:34\n",
      " auc:0.9534729324930794 \n",
      " apur:0.9445169654714387 \n",
      " f1:0.870076957899502 \n",
      " precision:0.8595706618962433 \n",
      " recall:0.8808432630614116 \n",
      "}\n",
      "=====Epoch 35\n",
      "Training...\n"
     ]
    },
    {
     "name": "stderr",
     "output_type": "stream",
     "text": [
      "\r",
      "Iteration:  39%|███▊      | 24/62 [00:01<00:03, 12.00it/s]\r",
      "Iteration:  29%|██▉       | 18/62 [00:00<00:02, 21.94it/s]\r",
      "Iteration:  97%|█████████▋| 60/62 [00:02<00:00, 21.03it/s]\r",
      "Iteration:   3%|▎         | 2/62 [00:00<00:05, 10.25it/s]\r",
      "Iteration: 100%|██████████| 62/62 [00:05<00:00, 11.10it/s]\r",
      "Iteration: 100%|██████████| 62/62 [00:05<00:00, 10.81it/s]\n",
      "\r",
      "Iteration:   0%|          | 0/62 [00:00<?, ?it/s]\r",
      "Iteration: 100%|██████████| 62/62 [00:02<00:00, 21.01it/s]\r",
      "Iteration:  34%|███▍      | 21/62 [00:00<00:01, 21.93it/s]\r",
      "Iteration:  42%|████▏     | 26/62 [00:02<00:02, 12.02it/s]"
     ]
    },
    {
     "name": "stdout",
     "output_type": "stream",
     "text": [
      "Evaluating...\n"
     ]
    },
    {
     "name": "stderr",
     "output_type": "stream",
     "text": [
      "Iteration:  39%|███▊      | 24/62 [00:01<00:01, 21.89it/s]\n",
      "Iteration:  73%|███████▎  | 45/62 [00:02<00:00, 22.19it/s]\n",
      "Iteration:  27%|██▋       | 17/62 [00:01<00:04,  9.63it/s]\n",
      "Iteration:  71%|███████   | 44/62 [00:03<00:01, 11.94it/s]"
     ]
    },
    {
     "name": "stdout",
     "output_type": "stream",
     "text": [
      "{'Train':  best_epoch_indx:35\n",
      " auc:0.9893916415496778 \n",
      " apur:0.985169868032585 \n",
      " f1:0.942394578313253 \n",
      " precision:0.9292166811038238 \n",
      " recall:0.9559516231699554 \n",
      ", 'Validation':  best_epoch_indx:35\n",
      " auc:0.952047199756249 \n",
      " apur:0.9410160974276645 \n",
      " f1:0.8695156695156696 \n",
      " precision:0.8650793650793651 \n",
      " recall:0.8739977090492554 \n",
      ", 'Test':  best_epoch_indx:35\n",
      " auc:0.9527588750320188 \n",
      " apur:0.938120894516214 \n",
      " f1:0.8691886964448498 \n",
      " precision:0.8644605621033545 \n",
      " recall:0.8739688359303391 \n",
      "}\n",
      "=====Epoch 36\n",
      "Training...\n"
     ]
    },
    {
     "name": "stderr",
     "output_type": "stream",
     "text": [
      "Iteration:  81%|████████  | 50/62 [00:04<00:00, 12.35it/s]\n",
      "Iteration:  95%|█████████▌| 59/62 [00:02<00:00, 21.15it/s]\n",
      "Iteration: 100%|██████████| 62/62 [00:05<00:00, 12.21it/s]\n",
      "Iteration:  26%|██▌       | 16/62 [00:01<00:04, 11.07it/s]\n",
      "Iteration:   0%|          | 0/18 [00:00<?, ?it/s]"
     ]
    },
    {
     "name": "stdout",
     "output_type": "stream",
     "text": [
      "Evaluating...\n"
     ]
    },
    {
     "name": "stderr",
     "output_type": "stream",
     "text": [
      "\r",
      "Iteration: 100%|██████████| 7/7 [00:00<00:00, 23.25it/s]\r",
      "Iteration:  55%|█████▍    | 34/62 [00:03<00:02, 10.27it/s]\n",
      "\r",
      "Iteration:   0%|          | 0/62 [00:00<?, ?it/s]\r",
      "Iteration:  10%|▉         | 6/62 [00:00<00:02, 21.72it/s]\r",
      "Iteration:  17%|█▋        | 3/18 [00:00<00:00, 21.97it/s]\r",
      "Iteration:  29%|██▉       | 18/62 [00:01<00:03, 11.35it/s]\r",
      "Iteration:   3%|▎         | 2/62 [00:00<00:04, 12.45it/s]\r",
      "Iteration:  58%|█████▊    | 36/62 [00:03<00:02, 10.25it/s]"
     ]
    },
    {
     "name": "stdout",
     "output_type": "stream",
     "text": [
      "{'Train':  best_epoch_indx:33\n",
      " auc:0.9867406316188114 \n",
      " apur:0.9828438617533648 \n",
      " f1:0.9345298281092013 \n",
      " precision:0.9278454009285984 \n",
      " recall:0.9413112667091025 \n",
      ", 'Validation':  best_epoch_indx:33\n",
      " auc:0.9436518680504936 \n",
      " apur:0.9242491920061766 \n",
      " f1:0.8579643473260495 \n",
      " precision:0.8614318706697459 \n",
      " recall:0.854524627720504 \n",
      ", 'Test':  best_epoch_indx:33\n",
      " auc:0.9493715845897989 \n",
      " apur:0.9341533831542785 \n",
      " f1:0.8668659461945275 \n",
      " precision:0.8698661744347024 \n",
      " recall:0.8638863428047663 \n",
      "}\n",
      "=====Epoch 34\n",
      "Training...\n"
     ]
    },
    {
     "name": "stderr",
     "output_type": "stream",
     "text": [
      "Iteration:  16%|█▌        | 10/62 [00:00<00:04, 12.49it/s]\n",
      "Iteration:  48%|████▊     | 30/62 [00:01<00:01, 22.15it/s]\n",
      "Iteration:  53%|█████▎    | 33/62 [00:01<00:01, 22.18it/s]"
     ]
    },
    {
     "name": "stdout",
     "output_type": "stream",
     "text": [
      "{'Train':  best_epoch_indx:33\n",
      " auc:0.9892219121245158 \n",
      " apur:0.9852417556229565 \n",
      " f1:0.9389428535385391 \n",
      " precision:0.9304913114139267 \n",
      " recall:0.9475493316359007 \n",
      ", 'Validation':  best_epoch_indx:33\n",
      " auc:0.9440616551154923 \n",
      " apur:0.919288389843959 \n",
      " f1:0.8489702517162471 \n",
      " precision:0.848 \n",
      " recall:0.849942726231386 \n",
      ", 'Test':  best_epoch_indx:33\n",
      " auc:0.9523391575457856 \n",
      " apur:0.93752914719296 \n",
      " f1:0.8684863523573202 \n",
      " precision:0.8551754775655265 \n",
      " recall:0.882218148487626 \n",
      "}\n",
      "=====Epoch 34\n",
      "Training...\n"
     ]
    },
    {
     "name": "stderr",
     "output_type": "stream",
     "text": [
      "Iteration: 100%|██████████| 62/62 [00:06<00:00, 10.16it/s]\n",
      "Iteration:   0%|          | 0/62 [00:00<?, ?it/s]"
     ]
    },
    {
     "name": "stdout",
     "output_type": "stream",
     "text": [
      "Evaluating...\n"
     ]
    },
    {
     "name": "stderr",
     "output_type": "stream",
     "text": [
      "Iteration:  81%|████████  | 50/62 [00:04<00:00, 12.16it/s]\n",
      "Iteration:  97%|█████████▋| 60/62 [00:05<00:00, 12.08it/s]\n",
      "Iteration: 100%|██████████| 62/62 [00:05<00:00, 11.46it/s]\n",
      "Iteration:  32%|███▏      | 20/62 [00:01<00:02, 17.87it/s]"
     ]
    },
    {
     "name": "stdout",
     "output_type": "stream",
     "text": [
      "Evaluating...\n"
     ]
    },
    {
     "name": "stderr",
     "output_type": "stream",
     "text": [
      "\r",
      "Iteration:  52%|█████▏    | 32/62 [00:02<00:02, 11.98it/s]\r",
      "Iteration:  77%|███████▋  | 48/62 [00:03<00:01, 12.50it/s]\r",
      "Iteration:   5%|▍         | 3/62 [00:00<00:02, 21.15it/s]\r",
      "Iteration:  86%|████████▌ | 6/7 [00:00<00:00, 22.16it/s]\r",
      "Iteration:  35%|███▌      | 22/62 [00:01<00:02, 17.90it/s]\r",
      "Iteration: 100%|██████████| 7/7 [00:00<00:00, 22.39it/s]\n",
      "\r",
      "Iteration:   0%|          | 0/62 [00:00<?, ?it/s]\r",
      "Iteration:  55%|█████▍    | 34/62 [00:02<00:02, 11.98it/s]\r",
      "Iteration:  81%|████████  | 50/62 [00:03<00:00, 12.49it/s]\r",
      "Iteration:  10%|▉         | 6/62 [00:00<00:02, 21.25it/s]\r",
      "Iteration:  39%|███▊      | 24/62 [00:01<00:02, 17.88it/s]"
     ]
    },
    {
     "name": "stdout",
     "output_type": "stream",
     "text": [
      "{'Train':  best_epoch_indx:34\n",
      " auc:0.9831462399788856 \n",
      " apur:0.9777463653752727 \n",
      " f1:0.9196064916348142 \n",
      " precision:0.9054787759131293 \n",
      " recall:0.9341820496499045 \n",
      ", 'Validation':  best_epoch_indx:34\n",
      " auc:0.9386582510866589 \n",
      " apur:0.9228334553244997 \n",
      " f1:0.8369994359842075 \n",
      " precision:0.8244444444444444 \n",
      " recall:0.849942726231386 \n",
      ", 'Test':  best_epoch_indx:34\n",
      " auc:0.9414733957355406 \n",
      " apur:0.9243181070476068 \n",
      " f1:0.8532068654019874 \n",
      " precision:0.8410507569011576 \n",
      " recall:0.8657195233730522 \n",
      "}\n",
      "=====Epoch 35\n",
      "Training...\n"
     ]
    },
    {
     "name": "stderr",
     "output_type": "stream",
     "text": [
      "Iteration: 100%|██████████| 62/62 [00:04<00:00, 12.59it/s]\n",
      "Iteration:  74%|███████▍  | 46/62 [00:03<00:01, 12.06it/s]"
     ]
    },
    {
     "name": "stdout",
     "output_type": "stream",
     "text": [
      "Evaluating...\n"
     ]
    },
    {
     "name": "stderr",
     "output_type": "stream",
     "text": [
      "Iteration:  87%|████████▋ | 54/62 [00:02<00:00, 21.55it/s]\n",
      "Iteration: 100%|██████████| 62/62 [00:05<00:00, 12.07it/s]\n",
      "Iteration:   0%|          | 0/62 [00:00<?, ?it/s]"
     ]
    },
    {
     "name": "stdout",
     "output_type": "stream",
     "text": [
      "Evaluating...\n"
     ]
    },
    {
     "name": "stderr",
     "output_type": "stream",
     "text": [
      "Iteration:  68%|██████▊   | 42/62 [00:01<00:00, 22.81it/s]\n",
      "Iteration:  68%|██████▊   | 42/62 [00:03<00:01, 12.41it/s]\n",
      "Iteration:  48%|████▊     | 30/62 [00:01<00:01, 21.42it/s]\n",
      "Iteration: 100%|██████████| 7/7 [00:00<00:00, 18.34it/s]\n",
      "Iteration:  77%|███████▋  | 48/62 [00:03<00:01, 12.35it/s]\n",
      "Iteration:  43%|████▎     | 3/7 [00:00<00:00, 21.25it/s]s]"
     ]
    },
    {
     "name": "stdout",
     "output_type": "stream",
     "text": [
      "{'Train':  best_epoch_indx:35\n",
      " auc:0.9872537556590184 \n",
      " apur:0.9830360305034023 \n",
      " f1:0.9331133392562507 \n",
      " precision:0.9302796406427939 \n",
      " recall:0.935964353914704 \n",
      ", 'Validation':  best_epoch_indx:35\n",
      " auc:0.9494399898179967 \n",
      " apur:0.931800995212151 \n",
      " f1:0.8681635002878527 \n",
      " precision:0.8726851851851852 \n",
      " recall:0.86368843069874 \n",
      ", 'Test':  best_epoch_indx:35\n",
      " auc:0.9536347018797046 \n",
      " apur:0.9438674335735545 \n",
      " f1:0.8744789254284391 \n",
      " precision:0.8838951310861424 \n",
      " recall:0.8652612282309807 \n",
      "}\n",
      "=====Epoch 36\n",
      "Training...\n"
     ]
    },
    {
     "name": "stderr",
     "output_type": "stream",
     "text": [
      "\r",
      "Iteration:  17%|█▋        | 3/18 [00:00<00:00, 23.11it/s]\r",
      "Iteration:   3%|▎         | 2/62 [00:00<00:05, 10.32it/s]\r",
      "Iteration:  81%|████████  | 50/62 [00:04<00:00, 12.37it/s]\r",
      "Iteration:  58%|█████▊    | 36/62 [00:01<00:01, 21.46it/s]\r",
      "Iteration:  86%|████████▌ | 6/7 [00:00<00:00, 21.65it/s]\r",
      "Iteration: 100%|██████████| 7/7 [00:00<00:00, 21.84it/s]\n",
      "\r",
      "Iteration:   0%|          | 0/62 [00:00<?, ?it/s]\r",
      "Iteration:  33%|███▎      | 6/18 [00:00<00:00, 23.11it/s]\r",
      "Iteration:  63%|██████▎   | 39/62 [00:01<00:01, 21.46it/s]\r",
      "Iteration:  84%|████████▍ | 52/62 [00:04<00:00, 12.37it/s]\r",
      "Iteration:   6%|▋         | 4/62 [00:00<00:05, 10.20it/s]"
     ]
    },
    {
     "name": "stdout",
     "output_type": "stream",
     "text": [
      "{'Train':  best_epoch_indx:36\n",
      " auc:0.9885165383260148 \n",
      " apur:0.9843662894926639 \n",
      " f1:0.9365577889447236 \n",
      " precision:0.9243645381277124 \n",
      " recall:0.9490770210057289 \n",
      ", 'Validation':  best_epoch_indx:36\n",
      " auc:0.9523084992729894 \n",
      " apur:0.9422024469951396 \n",
      " f1:0.8638985005767013 \n",
      " precision:0.8699186991869918 \n",
      " recall:0.8579610538373424 \n",
      ", 'Test':  best_epoch_indx:36\n",
      " auc:0.9489598089048137 \n",
      " apur:0.9327239229371973 \n",
      " f1:0.8626285714285714 \n",
      " precision:0.8604651162790697 \n",
      " recall:0.8648029330889092 \n",
      "}\n",
      "=====Epoch 37\n",
      "Training...\n"
     ]
    },
    {
     "name": "stderr",
     "output_type": "stream",
     "text": [
      "Iteration:  94%|█████████▎| 58/62 [00:04<00:00, 12.39it/s]\n",
      "Iteration: 100%|██████████| 62/62 [00:04<00:00, 12.42it/s]\n",
      "Iteration:  16%|█▌        | 10/62 [00:01<00:06,  8.33it/s]\n",
      "Iteration:   0%|          | 0/62 [00:00<?, ?it/s]"
     ]
    },
    {
     "name": "stdout",
     "output_type": "stream",
     "text": [
      "Evaluating...\n",
      "{'Train':  best_epoch_indx:34\n",
      " auc:0.9886737815135057 \n",
      " apur:0.9849626024931073 \n",
      " f1:0.9378996011900995 \n",
      " precision:0.9327625283303954 \n",
      " recall:0.943093570973902 \n",
      ", 'Validation':  best_epoch_indx:34\n",
      " auc:0.9475400241436897 \n",
      " apur:0.9211289669196396 \n",
      " f1:0.8625866050808314 \n",
      " precision:0.869615832363213 \n",
      " recall:0.8556701030927835 \n",
      ", 'Test':  best_epoch_indx:34\n",
      " auc:0.9507444633346906 \n",
      " apur:0.9356348452082979 \n",
      " f1:0.8696665889484729 \n",
      " precision:0.8851447555766493 \n",
      " recall:0.8547204399633364 \n",
      "}\n",
      "=====Epoch 35\n",
      "Training...\n"
     ]
    },
    {
     "name": "stderr",
     "output_type": "stream",
     "text": [
      "Iteration:  15%|█▍        | 9/62 [00:00<00:02, 22.20it/s]]\n",
      "Iteration:  42%|████▏     | 26/62 [00:02<00:02, 12.18it/s]\n",
      "Iteration:  48%|████▊     | 30/62 [00:02<00:02, 12.18it/s]\n",
      "Iteration:  32%|███▏      | 20/62 [00:01<00:03, 12.46it/s]"
     ]
    },
    {
     "name": "stdout",
     "output_type": "stream",
     "text": [
      "{'Train':  best_epoch_indx:34\n",
      " auc:0.9821177456935486 \n",
      " apur:0.9765620914545304 \n",
      " f1:0.9212288056059562 \n",
      " precision:0.905757874015748 \n",
      " recall:0.9372374283895608 \n",
      ", 'Validation':  best_epoch_indx:34\n",
      " auc:0.9398418125508616 \n",
      " apur:0.9209485171439451 \n",
      " f1:0.8475920679886685 \n",
      " precision:0.8385650224215246 \n",
      " recall:0.856815578465063 \n",
      ", 'Test':  best_epoch_indx:34\n",
      " auc:0.9466114716105531 \n",
      " apur:0.9297837321619302 \n",
      " f1:0.8608108108108108 \n",
      " precision:0.8463241806908769 \n",
      " recall:0.8758020164986251 \n",
      "}\n",
      "=====Epoch 35\n",
      "Training...\n"
     ]
    },
    {
     "name": "stderr",
     "output_type": "stream",
     "text": [
      "Iteration:  26%|██▌       | 16/62 [00:01<00:03, 12.25it/s]\n",
      "Iteration:  42%|████▏     | 26/62 [00:02<00:02, 12.07it/s]\n",
      "Iteration: 100%|██████████| 7/7 [00:00<00:00, 22.76it/s]s]\n",
      "Iteration: 100%|██████████| 62/62 [00:05<00:00, 12.13it/s]\n",
      "Iteration:  87%|████████▋ | 54/62 [00:05<00:00, 10.12it/s]"
     ]
    },
    {
     "name": "stdout",
     "output_type": "stream",
     "text": [
      "{'Train':  best_epoch_indx:35\n",
      " auc:0.9879797901660268 \n",
      " apur:0.9843778191841598 \n",
      " f1:0.9371037911746426 \n",
      " precision:0.9154826958105646 \n",
      " recall:0.9597708465945258 \n",
      ", 'Validation':  best_epoch_indx:35\n",
      " auc:0.9435043447070939 \n",
      " apur:0.925901445937112 \n",
      " f1:0.8600337268128162 \n",
      " precision:0.8443708609271523 \n",
      " recall:0.8762886597938144 \n",
      ", 'Test':  best_epoch_indx:35\n",
      " auc:0.9462623485079946 \n",
      " apur:0.9308552942176193 \n",
      " f1:0.8587418849339602 \n",
      " precision:0.8393873085339169 \n",
      " recall:0.8790100824931256 \n",
      "}\n",
      "=====Epoch 36\n",
      "Training...\n",
      "Evaluating...\n"
     ]
    },
    {
     "name": "stderr",
     "output_type": "stream",
     "text": [
      "Iteration: 100%|██████████| 62/62 [00:06<00:00,  9.91it/s]\n",
      "Iteration: 100%|██████████| 62/62 [00:05<00:00, 12.29it/s]\n",
      "Iteration:   3%|▎         | 2/62 [00:00<00:03, 17.76it/s]]"
     ]
    },
    {
     "name": "stdout",
     "output_type": "stream",
     "text": [
      "Evaluating...\n",
      "Evaluating...\n"
     ]
    },
    {
     "name": "stderr",
     "output_type": "stream",
     "text": [
      "Iteration: 100%|██████████| 62/62 [00:05<00:00, 12.11it/s]\n",
      "Iteration:   5%|▍         | 3/62 [00:00<00:02, 22.39it/s]]"
     ]
    },
    {
     "name": "stdout",
     "output_type": "stream",
     "text": [
      "Evaluating...\n"
     ]
    },
    {
     "name": "stderr",
     "output_type": "stream",
     "text": [
      "Iteration:  55%|█████▍    | 34/62 [00:03<00:02, 11.93it/s]\n",
      "Iteration: 100%|██████████| 18/18 [00:00<00:00, 22.55it/s]\n",
      "Iteration:  53%|█████▎    | 33/62 [00:01<00:01, 21.51it/s]\n",
      "Iteration:  67%|██████▋   | 12/18 [00:00<00:00, 21.73it/s]\n",
      "Iteration: 100%|██████████| 7/7 [00:00<00:00, 22.41it/s]s]\n",
      "Iteration:  97%|█████████▋| 60/62 [00:05<00:00, 12.07it/s]"
     ]
    },
    {
     "name": "stdout",
     "output_type": "stream",
     "text": [
      "{'Train':  best_epoch_indx:35\n",
      " auc:0.9887857858674443 \n",
      " apur:0.985908995630075 \n",
      " f1:0.938429412136936 \n",
      " precision:0.9329391041771515 \n",
      " recall:0.9439847231063018 \n",
      ", 'Validation':  best_epoch_indx:35\n",
      " auc:0.9431871213085417 \n",
      " apur:0.9274253238570965 \n",
      " f1:0.8487636572742956 \n",
      " precision:0.8521939953810623 \n",
      " recall:0.845360824742268 \n",
      ", 'Test':  best_epoch_indx:35\n",
      " auc:0.9493342294451774 \n",
      " apur:0.9365373204829772 \n",
      " f1:0.8687384044526902 \n",
      " precision:0.8793427230046948 \n",
      " recall:0.8583868010999084 \n",
      "}\n",
      "=====Epoch 36\n",
      "Training...\n"
     ]
    },
    {
     "name": "stderr",
     "output_type": "stream",
     "text": [
      "\r",
      "Iteration:  92%|█████████▏| 57/62 [00:02<00:00, 20.86it/s]\r",
      "Iteration:   3%|▎         | 2/62 [00:00<00:05, 11.42it/s]\r",
      "Iteration: 100%|██████████| 62/62 [00:05<00:00, 12.31it/s]\r",
      "Iteration: 100%|██████████| 62/62 [00:05<00:00, 11.69it/s]\n",
      "\r",
      "Iteration:   0%|          | 0/62 [00:00<?, ?it/s]\r",
      "Iteration:  97%|█████████▋| 60/62 [00:02<00:00, 20.81it/s]\r",
      "Iteration:   5%|▍         | 3/62 [00:00<00:02, 21.44it/s]"
     ]
    },
    {
     "name": "stdout",
     "output_type": "stream",
     "text": [
      "Evaluating...\n"
     ]
    },
    {
     "name": "stderr",
     "output_type": "stream",
     "text": [
      "Iteration:  10%|▉         | 6/62 [00:00<00:02, 20.97it/s]]\n",
      "Iteration:  44%|████▎     | 27/62 [00:01<00:01, 22.10it/s]\n",
      "Iteration: 100%|██████████| 7/7 [00:00<00:00, 19.35it/s]s]\n",
      "Iteration:  32%|███▏      | 20/62 [00:01<00:03, 10.94it/s]"
     ]
    },
    {
     "name": "stdout",
     "output_type": "stream",
     "text": [
      "{'Train':  best_epoch_indx:35\n",
      " auc:0.986284254069462 \n",
      " apur:0.9822404685381537 \n",
      " f1:0.927976972655028 \n",
      " precision:0.9125030765444253 \n",
      " recall:0.9439847231063018 \n",
      ", 'Validation':  best_epoch_indx:35\n",
      " auc:0.9427358734346134 \n",
      " apur:0.9275885054960835 \n",
      " f1:0.8412066021627775 \n",
      " precision:0.8359728506787331 \n",
      " recall:0.8465063001145475 \n",
      ", 'Test':  best_epoch_indx:35\n",
      " auc:0.9501627572912766 \n",
      " apur:0.9339612011117904 \n",
      " f1:0.8653153153153152 \n",
      " precision:0.8507528786536758 \n",
      " recall:0.8803849679193401 \n",
      "}\n",
      "=====Epoch 36\n",
      "Training...\n"
     ]
    },
    {
     "name": "stderr",
     "output_type": "stream",
     "text": [
      "Iteration:  55%|█████▍    | 34/62 [00:03<00:02, 10.83it/s]\n",
      "Iteration:  61%|██████▏   | 38/62 [00:03<00:02, 11.16it/s]\n",
      "Iteration: 100%|██████████| 7/7 [00:00<00:00, 21.45it/s]s]\n",
      "Iteration:  83%|████████▎ | 15/18 [00:00<00:00, 21.80it/s]"
     ]
    },
    {
     "name": "stdout",
     "output_type": "stream",
     "text": [
      "{'Train':  best_epoch_indx:37\n",
      " auc:0.9936438162959131 \n",
      " apur:0.9907890586051772 \n",
      " f1:0.9551939924906132 \n",
      " precision:0.9393230769230769 \n",
      " recall:0.9716104392106938 \n",
      ", 'Validation':  best_epoch_indx:37\n",
      " auc:0.9568865439426721 \n",
      " apur:0.9451985004515465 \n",
      " f1:0.8782707622298066 \n",
      " precision:0.8723163841807909 \n",
      " recall:0.8843069873997709 \n",
      ", 'Test':  best_epoch_indx:37\n",
      " auc:0.9593032370759227 \n",
      " apur:0.9445246234789114 \n",
      " f1:0.8819932049830124 \n",
      " precision:0.8719211822660099 \n",
      " recall:0.8923006416131989 \n",
      "}\n",
      "=====Epoch 38\n",
      "Training...\n"
     ]
    },
    {
     "name": "stderr",
     "output_type": "stream",
     "text": [
      "Iteration:   3%|▎         | 2/62 [00:00<00:05, 11.70it/s]]\n",
      "Iteration: 100%|██████████| 7/7 [00:00<00:00, 21.53it/s]]]\n",
      "Iteration:  81%|████████  | 50/62 [00:04<00:01, 11.14it/s]\n",
      "Iteration:   0%|          | 0/7 [00:00<?, ?it/s]"
     ]
    },
    {
     "name": "stdout",
     "output_type": "stream",
     "text": [
      "{'Train':  best_epoch_indx:36\n",
      " auc:0.9904065042683844 \n",
      " apur:0.9866936040545984 \n",
      " f1:0.94284464988444 \n",
      " precision:0.9255580083394653 \n",
      " recall:0.9607893061744112 \n",
      ", 'Validation':  best_epoch_indx:36\n",
      " auc:0.9483041564943054 \n",
      " apur:0.9328431945323865 \n",
      " f1:0.8658399098083427 \n",
      " precision:0.8523862375138734 \n",
      " recall:0.8797250859106529 \n",
      ", 'Test':  best_epoch_indx:36\n",
      " auc:0.9491445157348 \n",
      " apur:0.9334740583249556 \n",
      " f1:0.860345214077561 \n",
      " precision:0.8420359806932866 \n",
      " recall:0.879468377635197 \n",
      "}\n",
      "=====Epoch 37\n",
      "Training...\n"
     ]
    },
    {
     "name": "stderr",
     "output_type": "stream",
     "text": [
      "Iteration:  10%|▉         | 6/62 [00:00<00:04, 12.24it/s]]\n",
      "Iteration:  23%|██▎       | 14/62 [00:01<00:03, 12.27it/s]"
     ]
    },
    {
     "name": "stdout",
     "output_type": "stream",
     "text": [
      "{'Train':  best_epoch_indx:36\n",
      " auc:0.9920285887987308 \n",
      " apur:0.9894453040977889 \n",
      " f1:0.9452779680009962 \n",
      " precision:0.9249512670565302 \n",
      " recall:0.9665181413112667 \n",
      ", 'Validation':  best_epoch_indx:36\n",
      " auc:0.9539813947030443 \n",
      " apur:0.9392031554586093 \n",
      " f1:0.8745119910764083 \n",
      " precision:0.8521739130434782 \n",
      " recall:0.8980526918671249 \n",
      ", 'Test':  best_epoch_indx:36\n",
      " auc:0.9588905089839123 \n",
      " apur:0.9501502996765213 \n",
      " f1:0.8785425101214576 \n",
      " precision:0.8626325088339223 \n",
      " recall:0.8950504124656279 \n",
      "}\n",
      "=====Epoch 37\n",
      "Training...\n"
     ]
    },
    {
     "name": "stderr",
     "output_type": "stream",
     "text": [
      "Iteration: 100%|██████████| 62/62 [00:05<00:00, 10.90it/s]\n",
      "Iteration:  26%|██▌       | 16/62 [00:01<00:03, 12.29it/s]"
     ]
    },
    {
     "name": "stdout",
     "output_type": "stream",
     "text": [
      "Evaluating...\n"
     ]
    },
    {
     "name": "stderr",
     "output_type": "stream",
     "text": [
      "Iteration: 100%|██████████| 62/62 [00:05<00:00, 11.59it/s]\n",
      "Iteration:  65%|██████▍   | 40/62 [00:03<00:01, 12.46it/s]"
     ]
    },
    {
     "name": "stdout",
     "output_type": "stream",
     "text": [
      "Evaluating...\n"
     ]
    },
    {
     "name": "stderr",
     "output_type": "stream",
     "text": [
      "Iteration:  48%|████▊     | 30/62 [00:01<00:01, 21.65it/s]\n",
      "Iteration: 100%|██████████| 62/62 [00:05<00:00, 12.20it/s]\n",
      "Iteration:  84%|████████▍ | 52/62 [00:04<00:00, 12.46it/s]"
     ]
    },
    {
     "name": "stdout",
     "output_type": "stream",
     "text": [
      "Evaluating...\n"
     ]
    },
    {
     "name": "stderr",
     "output_type": "stream",
     "text": [
      "Iteration:  15%|█▍        | 9/62 [00:00<00:02, 21.83it/s]]\n",
      "Iteration: 100%|██████████| 62/62 [00:05<00:00, 12.27it/s]\n",
      "Iteration:  43%|████▎     | 3/7 [00:00<00:00, 22.29it/s]s]"
     ]
    },
    {
     "name": "stdout",
     "output_type": "stream",
     "text": [
      "Evaluating...\n"
     ]
    },
    {
     "name": "stderr",
     "output_type": "stream",
     "text": [
      "\r",
      "Iteration:  87%|████████▋ | 54/62 [00:02<00:00, 22.03it/s]\r",
      "Iteration:  94%|█████████▎| 58/62 [00:04<00:00, 12.42it/s]\r",
      "Iteration:   5%|▍         | 3/62 [00:00<00:02, 21.73it/s]\r",
      "Iteration:  24%|██▍       | 15/62 [00:00<00:02, 21.89it/s]\r",
      "Iteration:  86%|████████▌ | 6/7 [00:00<00:00, 22.54it/s]\r",
      "Iteration: 100%|██████████| 7/7 [00:00<00:00, 22.82it/s]\n",
      "\r",
      "Iteration:   0%|          | 0/62 [00:00<?, ?it/s]\r",
      "Iteration:  92%|█████████▏| 57/62 [00:02<00:00, 22.00it/s]\r",
      "Iteration:  10%|▉         | 6/62 [00:00<00:02, 21.51it/s]\r",
      "Iteration:  97%|█████████▋| 60/62 [00:04<00:00, 12.42it/s]\r",
      "Iteration:  29%|██▉       | 18/62 [00:00<00:02, 21.84it/s]"
     ]
    },
    {
     "name": "stdout",
     "output_type": "stream",
     "text": [
      "{'Train':  best_epoch_indx:36\n",
      " auc:0.9917008048712666 \n",
      " apur:0.9888257945206954 \n",
      " f1:0.9438968445849606 \n",
      " precision:0.9198888351860802 \n",
      " recall:0.969191597708466 \n",
      ", 'Validation':  best_epoch_indx:36\n",
      " auc:0.9490167038849743 \n",
      " apur:0.9279260103484467 \n",
      " f1:0.8633093525179857 \n",
      " precision:0.8351177730192719 \n",
      " recall:0.8934707903780069 \n",
      ", 'Test':  best_epoch_indx:36\n",
      " auc:0.9533286057979506 \n",
      " apur:0.9376921873341447 \n",
      " f1:0.8711849192100538 \n",
      " precision:0.8535620052770448 \n",
      " recall:0.8895508707607699 \n",
      "}\n",
      "=====Epoch 37\n",
      "Training...\n"
     ]
    },
    {
     "name": "stderr",
     "output_type": "stream",
     "text": [
      "\r",
      "Iteration:  97%|█████████▋| 60/62 [00:02<00:00, 21.83it/s]\r",
      "Iteration:   3%|▎         | 2/62 [00:00<00:05, 10.96it/s]\r",
      "Iteration:  15%|█▍        | 9/62 [00:00<00:02, 21.55it/s]\r",
      "Iteration:  34%|███▍      | 21/62 [00:00<00:01, 21.78it/s]\r",
      "Iteration: 100%|██████████| 62/62 [00:04<00:00, 12.57it/s]\r",
      "Iteration: 100%|██████████| 62/62 [00:04<00:00, 12.43it/s]\n",
      "\r",
      "Iteration:   0%|          | 0/62 [00:00<?, ?it/s]\r",
      "Iteration: 100%|██████████| 62/62 [00:02<00:00, 21.59it/s]\r",
      "Iteration:  19%|█▉        | 12/62 [00:00<00:02, 21.74it/s]\r",
      "Iteration:  39%|███▊      | 24/62 [00:01<00:01, 21.92it/s]\r",
      "Iteration:   5%|▍         | 3/62 [00:00<00:02, 22.40it/s]\r",
      "Iteration:   6%|▋         | 4/62 [00:00<00:05, 11.18it/s]"
     ]
    },
    {
     "name": "stdout",
     "output_type": "stream",
     "text": [
      "Evaluating...\n"
     ]
    },
    {
     "name": "stderr",
     "output_type": "stream",
     "text": [
      "\n",
      "Iteration:  23%|██▎       | 14/62 [00:01<00:04, 11.28it/s]\n",
      "Iteration:  29%|██▉       | 18/62 [00:01<00:03, 11.24it/s]\n",
      "Iteration:  32%|███▏      | 20/62 [00:01<00:03, 11.30it/s]"
     ]
    },
    {
     "name": "stdout",
     "output_type": "stream",
     "text": [
      "{'Train':  best_epoch_indx:36\n",
      " auc:0.9924392654753277 \n",
      " apur:0.9896382804855361 \n",
      " f1:0.9510292801432042 \n",
      " precision:0.9551817131115963 \n",
      " recall:0.9469127943984723 \n",
      ", 'Validation':  best_epoch_indx:36\n",
      " auc:0.953728773030033 \n",
      " apur:0.9377843312992391 \n",
      " f1:0.8678802113916617 \n",
      " precision:0.8903614457831325 \n",
      " recall:0.8465063001145475 \n",
      ", 'Test':  best_epoch_indx:36\n",
      " auc:0.9546343378985848 \n",
      " apur:0.9387554507762491 \n",
      " f1:0.8686539357242663 \n",
      " precision:0.8830492424242424 \n",
      " recall:0.8547204399633364 \n",
      "}\n",
      "=====Epoch 37\n",
      "Training...\n"
     ]
    },
    {
     "name": "stderr",
     "output_type": "stream",
     "text": [
      "Iteration:  39%|███▊      | 24/62 [00:02<00:03, 11.23it/s]\n",
      "Iteration:  92%|█████████▏| 57/62 [00:02<00:00, 22.43it/s]\n",
      "Iteration:  29%|██▉       | 18/62 [00:01<00:03, 12.02it/s]\n",
      "Iteration: 100%|██████████| 62/62 [00:05<00:00, 10.74it/s]\n",
      "Iteration:  84%|████████▍ | 52/62 [00:04<00:00, 12.01it/s]"
     ]
    },
    {
     "name": "stdout",
     "output_type": "stream",
     "text": [
      "Evaluating...\n"
     ]
    },
    {
     "name": "stderr",
     "output_type": "stream",
     "text": [
      "Iteration: 100%|██████████| 62/62 [00:05<00:00, 12.08it/s]\n",
      "Iteration:  39%|███▊      | 24/62 [00:01<00:01, 21.55it/s]"
     ]
    },
    {
     "name": "stdout",
     "output_type": "stream",
     "text": [
      "Evaluating...\n"
     ]
    },
    {
     "name": "stderr",
     "output_type": "stream",
     "text": [
      "Iteration:  73%|███████▎  | 45/62 [00:02<00:00, 21.74it/s]\n",
      "Iteration:  86%|████████▌ | 6/7 [00:00<00:00, 21.71it/s]s]\n",
      "Iteration: 100%|██████████| 7/7 [00:00<00:00, 21.90it/s]\n",
      "Iteration:  43%|████▎     | 3/7 [00:00<00:00, 21.07it/s]s]"
     ]
    },
    {
     "name": "stdout",
     "output_type": "stream",
     "text": [
      "{'Train':  best_epoch_indx:38\n",
      " auc:0.9961998327935958 \n",
      " apur:0.994686995912729 \n",
      " f1:0.9661081012977194 \n",
      " precision:0.9562289562289562 \n",
      " recall:0.9761935073201782 \n",
      ", 'Validation':  best_epoch_indx:38\n",
      " auc:0.9624683258703878 \n",
      " apur:0.9543855602501989 \n",
      " f1:0.8873720136518772 \n",
      " precision:0.8813559322033898 \n",
      " recall:0.8934707903780069 \n",
      ", 'Test':  best_epoch_indx:38\n",
      " auc:0.962481521601595 \n",
      " apur:0.9491477032145814 \n",
      " f1:0.8862139450374744 \n",
      " precision:0.8784331382260243 \n",
      " recall:0.8941338221814848 \n",
      "}\n",
      "=====Epoch 39\n",
      "Training...\n"
     ]
    },
    {
     "name": "stderr",
     "output_type": "stream",
     "text": [
      "\r",
      "Iteration:  58%|█████▊    | 36/62 [00:01<00:01, 21.50it/s]\r",
      "Iteration:   3%|▎         | 2/62 [00:00<00:04, 12.07it/s]\r",
      "Iteration:  92%|█████████▏| 57/62 [00:02<00:00, 21.63it/s]\r",
      "Iteration:  86%|████████▌ | 6/7 [00:00<00:00, 21.31it/s]\r",
      "Iteration: 100%|██████████| 7/7 [00:00<00:00, 21.48it/s]\n",
      "\r",
      "Iteration:   0%|          | 0/7 [00:00<?, ?it/s]\r",
      "Iteration:  63%|██████▎   | 39/62 [00:01<00:01, 21.56it/s]\n",
      "\r",
      "Iteration:   0%|          | 0/62 [00:00<?, ?it/s]\r",
      "Iteration:  97%|█████████▋| 60/62 [00:02<00:00, 21.62it/s]\r",
      "Iteration:   6%|▋         | 4/62 [00:00<00:04, 11.96it/s]"
     ]
    },
    {
     "name": "stdout",
     "output_type": "stream",
     "text": [
      "{'Train':  best_epoch_indx:37\n",
      " auc:0.9945873789833377 \n",
      " apur:0.9924435520694912 \n",
      " f1:0.957216559708066 \n",
      " precision:0.9462619728821993 \n",
      " recall:0.9684277530235519 \n",
      ", 'Validation':  best_epoch_indx:37\n",
      " auc:0.9523509242867777 \n",
      " apur:0.9348965143054556 \n",
      " f1:0.8670062252405206 \n",
      " precision:0.8568232662192393 \n",
      " recall:0.8774341351660939 \n",
      ", 'Test':  best_epoch_indx:37\n",
      " auc:0.9552764121508391 \n",
      " apur:0.9420385377099708 \n",
      " f1:0.8752546977586597 \n",
      " precision:0.8648769574944072 \n",
      " recall:0.885884509624198 \n",
      "}\n",
      "=====Epoch 38\n",
      "Training...\n"
     ]
    },
    {
     "name": "stderr",
     "output_type": "stream",
     "text": [
      "Iteration:  10%|▉         | 6/62 [00:00<00:04, 11.96it/s]]\n",
      "Iteration: 100%|██████████| 7/7 [00:00<00:00, 21.62it/s]s]\n",
      "Iteration:  10%|▉         | 6/62 [00:00<00:04, 11.89it/s]]"
     ]
    },
    {
     "name": "stdout",
     "output_type": "stream",
     "text": [
      "{'Train':  best_epoch_indx:37\n",
      " auc:0.9941792986657727 \n",
      " apur:0.9921529060579737 \n",
      " f1:0.9565986480510457 \n",
      " precision:0.9494607474291448 \n",
      " recall:0.9638446849140675 \n",
      ", 'Validation':  best_epoch_indx:37\n",
      " auc:0.9576019839479175 \n",
      " apur:0.947420248692129 \n",
      " f1:0.8827818283791363 \n",
      " precision:0.8648351648351649 \n",
      " recall:0.9014891179839634 \n",
      ", 'Test':  best_epoch_indx:37\n",
      " auc:0.9608956467055387 \n",
      " apur:0.9536359830580843 \n",
      " f1:0.8851707540683017 \n",
      " precision:0.8853736817973407 \n",
      " recall:0.884967919340055 \n",
      "}\n",
      "=====Epoch 38\n",
      "Training...\n"
     ]
    },
    {
     "name": "stderr",
     "output_type": "stream",
     "text": [
      "Iteration:  29%|██▉       | 18/62 [00:01<00:03, 12.24it/s]\n",
      "Iteration: 100%|██████████| 62/62 [00:05<00:00, 12.08it/s]\n",
      "Iteration:  97%|█████████▋| 60/62 [00:04<00:00, 11.97it/s]"
     ]
    },
    {
     "name": "stdout",
     "output_type": "stream",
     "text": [
      "Evaluating...\n"
     ]
    },
    {
     "name": "stderr",
     "output_type": "stream",
     "text": [
      "\r",
      "Iteration:   6%|▋         | 4/62 [00:00<00:02, 19.81it/s]\r",
      "Iteration:  94%|█████████▎| 58/62 [00:04<00:00, 12.19it/s]\r",
      "Iteration: 100%|██████████| 62/62 [00:05<00:00, 12.14it/s]\r",
      "Iteration: 100%|██████████| 62/62 [00:05<00:00, 12.12it/s]\n",
      "\r",
      "Iteration:   0%|          | 0/62 [00:00<?, ?it/s]\r",
      "Iteration:  11%|█▏        | 7/62 [00:00<00:02, 20.35it/s]\r",
      "Iteration:  97%|█████████▋| 60/62 [00:04<00:00, 12.12it/s]"
     ]
    },
    {
     "name": "stdout",
     "output_type": "stream",
     "text": [
      "Evaluating...\n"
     ]
    },
    {
     "name": "stderr",
     "output_type": "stream",
     "text": [
      "\r",
      "Iteration:   5%|▍         | 3/62 [00:00<00:02, 19.76it/s]\r",
      "Iteration:  16%|█▌        | 10/62 [00:00<00:02, 20.17it/s]\r",
      "Iteration: 100%|██████████| 62/62 [00:05<00:00, 12.16it/s]\r",
      "Iteration: 100%|██████████| 62/62 [00:05<00:00, 12.25it/s]\n",
      "\r",
      "Iteration:   0%|          | 0/62 [00:00<?, ?it/s]\r",
      "Iteration:  10%|▉         | 6/62 [00:00<00:02, 20.22it/s]"
     ]
    },
    {
     "name": "stdout",
     "output_type": "stream",
     "text": [
      "Evaluating...\n"
     ]
    },
    {
     "name": "stderr",
     "output_type": "stream",
     "text": [
      "Iteration:  26%|██▌       | 16/62 [00:00<00:02, 20.63it/s]\n",
      "Iteration: 100%|██████████| 7/7 [00:00<00:00, 22.19it/s]s]\n",
      "Iteration:  19%|█▉        | 12/62 [00:00<00:03, 16.65it/s]"
     ]
    },
    {
     "name": "stdout",
     "output_type": "stream",
     "text": [
      "{'Train':  best_epoch_indx:37\n",
      " auc:0.9950862302526081 \n",
      " apur:0.9933687892941752 \n",
      " f1:0.9603997975708501 \n",
      " precision:0.9544825851879793 \n",
      " recall:0.966390833863781 \n",
      ", 'Validation':  best_epoch_indx:37\n",
      " auc:0.9549909171902299 \n",
      " apur:0.9394075125818351 \n",
      " f1:0.8707093821510297 \n",
      " precision:0.8697142857142857 \n",
      " recall:0.8717067583046965 \n",
      ", 'Test':  best_epoch_indx:37\n",
      " auc:0.9587674839828241 \n",
      " apur:0.9473542424276336 \n",
      " f1:0.8795518207282914 \n",
      " precision:0.8962892483349191 \n",
      " recall:0.8634280476626948 \n",
      "}\n",
      "=====Epoch 38\n",
      "Training...\n"
     ]
    },
    {
     "name": "stderr",
     "output_type": "stream",
     "text": [
      "Iteration:  60%|█████▉    | 37/62 [00:01<00:01, 19.01it/s]\n",
      "Iteration: 100%|██████████| 7/7 [00:00<00:00, 19.53it/s]s]\n",
      "Iteration:   0%|          | 0/62 [00:00<?, ?it/s]"
     ]
    },
    {
     "name": "stdout",
     "output_type": "stream",
     "text": [
      "{'Train':  best_epoch_indx:37\n",
      " auc:0.9958807823513055 \n",
      " apur:0.994423075269555 \n",
      " f1:0.962844330557335 \n",
      " precision:0.9690522243713733 \n",
      " recall:0.9567154678548695 \n",
      ", 'Validation':  best_epoch_indx:37\n",
      " auc:0.9550323779991592 \n",
      " apur:0.9380865966835784 \n",
      " f1:0.8749999999999999 \n",
      " precision:0.9015795868772782 \n",
      " recall:0.849942726231386 \n",
      ", 'Test':  best_epoch_indx:37\n",
      " auc:0.9609410285754506 \n",
      " apur:0.949849072829916 \n",
      " f1:0.8829712683952348 \n",
      " precision:0.9004287756074321 \n",
      " recall:0.8661778185151238 \n",
      "}\n",
      "=====Epoch 38\n",
      "Training...\n"
     ]
    },
    {
     "name": "stderr",
     "output_type": "stream",
     "text": [
      "Iteration:  71%|███████   | 44/62 [00:02<00:01, 17.64it/s]\n",
      "Iteration:  35%|███▌      | 22/62 [00:02<00:03, 10.32it/s]\n",
      "Iteration:  35%|███▌      | 22/62 [00:01<00:03, 12.33it/s]\n",
      "Iteration: 100%|██████████| 62/62 [00:06<00:00, 10.27it/s]\n",
      "Iteration:  97%|█████████▋| 60/62 [00:05<00:00, 11.95it/s]"
     ]
    },
    {
     "name": "stdout",
     "output_type": "stream",
     "text": [
      "Evaluating...\n"
     ]
    },
    {
     "name": "stderr",
     "output_type": "stream",
     "text": [
      "\r",
      "Iteration:   3%|▎         | 2/62 [00:00<00:03, 18.36it/s]\r",
      "Iteration: 100%|██████████| 62/62 [00:05<00:00, 11.98it/s]\r",
      "Iteration: 100%|██████████| 62/62 [00:05<00:00, 12.00it/s]\n",
      "\r",
      "Iteration:   0%|          | 0/62 [00:00<?, ?it/s]\r",
      "Iteration:   6%|▋         | 4/62 [00:00<00:03, 18.21it/s]"
     ]
    },
    {
     "name": "stdout",
     "output_type": "stream",
     "text": [
      "Evaluating...\n"
     ]
    },
    {
     "name": "stderr",
     "output_type": "stream",
     "text": [
      "Iteration:  42%|████▏     | 26/62 [00:01<00:01, 20.78it/s]\n",
      "Iteration:  86%|████████▌ | 6/7 [00:00<00:00, 21.95it/s]s]\n",
      "Iteration: 100%|██████████| 7/7 [00:00<00:00, 22.14it/s]s]\n",
      "Iteration:   3%|▎         | 2/62 [00:00<00:04, 12.29it/s]]"
     ]
    },
    {
     "name": "stdout",
     "output_type": "stream",
     "text": [
      "{'Train':  best_epoch_indx:39\n",
      " auc:0.9971246906118767 \n",
      " apur:0.9959042089164925 \n",
      " f1:0.9707587597680868 \n",
      " precision:0.9611880693872458 \n",
      " recall:0.9805219605346913 \n",
      ", 'Validation':  best_epoch_indx:39\n",
      " auc:0.9632859715906681 \n",
      " apur:0.9560565998010341 \n",
      " f1:0.8867387592487195 \n",
      " precision:0.8812217194570136 \n",
      " recall:0.8923253150057274 \n",
      ", 'Test':  best_epoch_indx:39\n",
      " auc:0.9634552830474002 \n",
      " apur:0.9508997300601485 \n",
      " f1:0.890152376620423 \n",
      " precision:0.8835214446952596 \n",
      " recall:0.8968835930339139 \n",
      "}\n",
      "=====Epoch 40\n",
      "Training...\n"
     ]
    },
    {
     "name": "stderr",
     "output_type": "stream",
     "text": [
      "\r",
      "Iteration:  86%|████████▌ | 6/7 [00:00<00:00, 21.81it/s]\r",
      "Iteration:  73%|███████▎  | 45/62 [00:02<00:00, 21.72it/s]\r",
      "Iteration:  66%|██████▌   | 41/62 [00:01<00:00, 21.97it/s]\r",
      "Iteration: 100%|██████████| 7/7 [00:00<00:00, 22.07it/s]\n",
      "\r",
      "Iteration:   0%|          | 0/62 [00:00<?, ?it/s]\r",
      "Iteration:   6%|▋         | 4/62 [00:00<00:04, 12.33it/s]\r",
      "Iteration:  77%|███████▋  | 48/62 [00:02<00:00, 21.64it/s]\r",
      "Iteration:  71%|███████   | 44/62 [00:02<00:00, 21.93it/s]"
     ]
    },
    {
     "name": "stdout",
     "output_type": "stream",
     "text": [
      "{'Train':  best_epoch_indx:38\n",
      " auc:0.996236027697975 \n",
      " apur:0.994789890007241 \n",
      " f1:0.9655786727747024 \n",
      " precision:0.9651488170948868 \n",
      " recall:0.966008911521324 \n",
      ", 'Validation':  best_epoch_indx:38\n",
      " auc:0.9554190241475464 \n",
      " apur:0.9401272378609864 \n",
      " f1:0.8739884393063585 \n",
      " precision:0.882147024504084 \n",
      " recall:0.865979381443299 \n",
      ", 'Test':  best_epoch_indx:38\n",
      " auc:0.9584688158702824 \n",
      " apur:0.9462269452959597 \n",
      " f1:0.8799444829979182 \n",
      " precision:0.8883699205978515 \n",
      " recall:0.8716773602199817 \n",
      "}\n",
      "=====Epoch 39\n",
      "Training...\n"
     ]
    },
    {
     "name": "stderr",
     "output_type": "stream",
     "text": [
      "Iteration:  81%|████████  | 50/62 [00:02<00:00, 22.24it/s]\n",
      "Iteration:  95%|█████████▌| 59/62 [00:02<00:00, 22.46it/s]\n",
      "Iteration:  23%|██▎       | 14/62 [00:01<00:03, 12.29it/s]\n",
      "Iteration:   0%|          | 0/18 [00:00<?, ?it/s]"
     ]
    },
    {
     "name": "stdout",
     "output_type": "stream",
     "text": [
      "{'Train':  best_epoch_indx:38\n",
      " auc:0.9961773348680093 \n",
      " apur:0.9947774201350328 \n",
      " f1:0.9664241031533257 \n",
      " precision:0.969146076046601 \n",
      " recall:0.9637173774665818 \n",
      ", 'Validation':  best_epoch_indx:38\n",
      " auc:0.9595005033149362 \n",
      " apur:0.9477544419870263 \n",
      " f1:0.8891454965357968 \n",
      " precision:0.8963911525029103 \n",
      " recall:0.8820160366552119 \n",
      ", 'Test':  best_epoch_indx:38\n",
      " auc:0.9654029616764002 \n",
      " apur:0.9585692601500808 \n",
      " f1:0.8913348946135831 \n",
      " precision:0.9113984674329502 \n",
      " recall:0.8721356553620532 \n",
      "}\n",
      "=====Epoch 39\n",
      "Training...\n"
     ]
    },
    {
     "name": "stderr",
     "output_type": "stream",
     "text": [
      "Iteration:  17%|█▋        | 3/18 [00:00<00:00, 22.77it/s]]\n",
      "Iteration:  35%|███▌      | 22/62 [00:01<00:03, 12.12it/s]\n",
      "Iteration:  29%|██▉       | 18/62 [00:01<00:03, 12.40it/s]\n",
      "Iteration:  52%|█████▏    | 32/62 [00:02<00:02, 12.05it/s]"
     ]
    },
    {
     "name": "stdout",
     "output_type": "stream",
     "text": [
      "{'Train':  best_epoch_indx:38\n",
      " auc:0.9959715231460777 \n",
      " apur:0.9944239703753899 \n",
      " f1:0.9656259854935352 \n",
      " precision:0.956875 \n",
      " recall:0.9745385105028644 \n",
      ", 'Validation':  best_epoch_indx:38\n",
      " auc:0.9571642349420127 \n",
      " apur:0.9399177552850607 \n",
      " f1:0.8745724059293044 \n",
      " precision:0.8706015891032917 \n",
      " recall:0.8785796105383734 \n",
      ", 'Test':  best_epoch_indx:38\n",
      " auc:0.9592986370929176 \n",
      " apur:0.9462478228302491 \n",
      " f1:0.8849353049907579 \n",
      " precision:0.8923578751164958 \n",
      " recall:0.8776351970669111 \n",
      "}\n",
      "=====Epoch 39\n",
      "Training...\n"
     ]
    },
    {
     "name": "stderr",
     "output_type": "stream",
     "text": [
      "Iteration: 100%|██████████| 62/62 [00:05<00:00, 11.89it/s]\n",
      "Iteration:  97%|█████████▋| 60/62 [00:04<00:00, 11.95it/s]"
     ]
    },
    {
     "name": "stdout",
     "output_type": "stream",
     "text": [
      "Evaluating...\n",
      "Evaluating...\n"
     ]
    },
    {
     "name": "stderr",
     "output_type": "stream",
     "text": [
      "Iteration: 100%|██████████| 62/62 [00:05<00:00, 12.21it/s]\n",
      "Iteration: 100%|██████████| 62/62 [00:05<00:00, 12.21it/s]\n",
      "Iteration:  27%|██▋       | 17/62 [00:00<00:02, 21.99it/s]"
     ]
    },
    {
     "name": "stdout",
     "output_type": "stream",
     "text": [
      "Evaluating...\n"
     ]
    },
    {
     "name": "stderr",
     "output_type": "stream",
     "text": [
      "Iteration:  63%|██████▎   | 39/62 [00:01<00:01, 21.52it/s]\n",
      "Iteration:  71%|███████   | 44/62 [00:02<00:00, 20.89it/s]\n",
      "Iteration:  47%|████▋     | 29/62 [00:01<00:01, 21.10it/s]"
     ]
    },
    {
     "name": "stdout",
     "output_type": "stream",
     "text": [
      "{'Train':  best_epoch_indx:38\n",
      " auc:0.9968561074527257 \n",
      " apur:0.9955607125249328 \n",
      " f1:0.9694433878534297 \n",
      " precision:0.9655259502462432 \n",
      " recall:0.9733927434754933 \n",
      ", 'Validation':  best_epoch_indx:38\n",
      " auc:0.9580898716064811 \n",
      " apur:0.9452198799034596 \n",
      " f1:0.8712871287128713 \n",
      " precision:0.8862559241706162 \n",
      " recall:0.856815578465063 \n",
      ", 'Test':  best_epoch_indx:38\n",
      " auc:0.9631163483092475 \n",
      " apur:0.9505154771299524 \n",
      " f1:0.8854333409558656 \n",
      " precision:0.8836147877681424 \n",
      " recall:0.8872593950504125 \n",
      "}\n",
      "=====Epoch 39\n",
      "Training...\n"
     ]
    },
    {
     "name": "stderr",
     "output_type": "stream",
     "text": [
      "Iteration:  16%|█▌        | 10/62 [00:00<00:04, 12.06it/s]\n",
      "Iteration: 100%|██████████| 62/62 [00:05<00:00, 10.72it/s]\n",
      "Iteration:  76%|███████▌  | 47/62 [00:02<00:00, 21.89it/s]"
     ]
    },
    {
     "name": "stdout",
     "output_type": "stream",
     "text": [
      "Evaluating...\n"
     ]
    },
    {
     "name": "stderr",
     "output_type": "stream",
     "text": [
      "Iteration:  19%|█▉        | 12/62 [00:01<00:04, 11.98it/s]\n",
      "Iteration:  83%|████████▎ | 15/18 [00:00<00:00, 22.40it/s]\n",
      "\n",
      "Iteration:  44%|████▎     | 27/62 [00:01<00:01, 22.27it/s]\n",
      "Iteration:   3%|▎         | 2/62 [00:00<00:05, 10.31it/s]]"
     ]
    },
    {
     "name": "stdout",
     "output_type": "stream",
     "text": [
      "{'Train':  best_epoch_indx:40\n",
      " auc:0.997187117591575 \n",
      " apur:0.9959878389846973 \n",
      " f1:0.9711835550791349 \n",
      " precision:0.962143928035982 \n",
      " recall:0.9803946530872056 \n",
      ", 'Validation':  best_epoch_indx:40\n",
      " auc:0.9631451976812802 \n",
      " apur:0.9565773316716387 \n",
      " f1:0.8836944127708095 \n",
      " precision:0.8796821793416572 \n",
      " recall:0.8877434135166093 \n",
      ", 'Test':  best_epoch_indx:40\n",
      " auc:0.9631430405490901 \n",
      " apur:0.950114732083563 \n",
      " f1:0.8867579908675799 \n",
      " precision:0.8835304822565969 \n",
      " recall:0.8900091659028414 \n",
      "}\n",
      "=====Epoch 41\n",
      "Training...\n"
     ]
    },
    {
     "name": "stderr",
     "output_type": "stream",
     "text": [
      "Iteration:  71%|███████   | 44/62 [00:03<00:01, 11.74it/s]\n",
      "Iteration: 100%|██████████| 62/62 [00:05<00:00, 11.53it/s]\n",
      "Iteration:  58%|█████▊    | 36/62 [00:03<00:02, 10.50it/s]"
     ]
    },
    {
     "name": "stdout",
     "output_type": "stream",
     "text": [
      "Evaluating...\n"
     ]
    },
    {
     "name": "stderr",
     "output_type": "stream",
     "text": [
      "Iteration:  77%|███████▋  | 48/62 [00:04<00:01, 10.46it/s]\n",
      "Iteration:  81%|████████  | 50/62 [00:04<00:01,  7.98it/s]\n",
      "Iteration:   0%|          | 0/62 [00:00<?, ?it/s]"
     ]
    },
    {
     "name": "stdout",
     "output_type": "stream",
     "text": [
      "{'Train':  best_epoch_indx:39\n",
      " auc:0.9969911065225326 \n",
      " apur:0.9957988205575498 \n",
      " f1:0.9697734586988074 \n",
      " precision:0.9614614614614615 \n",
      " recall:0.9782304264799491 \n",
      ", 'Validation':  best_epoch_indx:39\n",
      " auc:0.956100716982733 \n",
      " apur:0.9406904346533324 \n",
      " f1:0.8765714285714286 \n",
      " precision:0.8745724059293044 \n",
      " recall:0.8785796105383734 \n",
      ", 'Test':  best_epoch_indx:39\n",
      " auc:0.9607124560607604 \n",
      " apur:0.948471749926936 \n",
      " f1:0.8825411334552102 \n",
      " precision:0.8801276207839562 \n",
      " recall:0.884967919340055 \n",
      "}\n",
      "=====Epoch 40\n",
      "Training...\n"
     ]
    },
    {
     "name": "stderr",
     "output_type": "stream",
     "text": [
      "Iteration:  84%|████████▍ | 52/62 [00:05<00:01,  8.80it/s]\n",
      "Iteration:  90%|█████████ | 56/62 [00:05<00:00, 10.09it/s]"
     ]
    },
    {
     "name": "stdout",
     "output_type": "stream",
     "text": [
      "{'Train':  best_epoch_indx:39\n",
      " auc:0.9970802114327803 \n",
      " apur:0.9960030044105634 \n",
      " f1:0.9698043932392227 \n",
      " precision:0.9644925711407706 \n",
      " recall:0.9751750477402928 \n",
      ", 'Validation':  best_epoch_indx:39\n",
      " auc:0.9615764363759781 \n",
      " apur:0.9499807811223311 \n",
      " f1:0.8910329171396141 \n",
      " precision:0.8830146231721034 \n",
      " recall:0.8991981672394044 \n",
      ", 'Test':  best_epoch_indx:39\n",
      " auc:0.9673576236447567 \n",
      " apur:0.9605930072414546 \n",
      " f1:0.8977246609974718 \n",
      " precision:0.9004149377593361 \n",
      " recall:0.8950504124656279 \n",
      "}\n",
      "=====Epoch 40\n",
      "Training...\n"
     ]
    },
    {
     "name": "stderr",
     "output_type": "stream",
     "text": [
      "\n",
      "Iteration: 100%|██████████| 62/62 [00:06<00:00, 10.31it/s]\n",
      "Iteration:  19%|█▉        | 12/62 [00:01<00:04, 11.21it/s]\n",
      "Iteration:   5%|▍         | 3/62 [00:00<00:02, 22.74it/s]"
     ]
    },
    {
     "name": "stdout",
     "output_type": "stream",
     "text": [
      "Evaluating...\n"
     ]
    },
    {
     "name": "stderr",
     "output_type": "stream",
     "text": [
      "Iteration:  35%|███▌      | 22/62 [00:02<00:03, 11.00it/s]\n",
      "Iteration:  42%|████▏     | 26/62 [00:02<00:03, 11.06it/s]\n",
      "Iteration:  73%|███████▎  | 45/62 [00:01<00:00, 22.59it/s]"
     ]
    },
    {
     "name": "stdout",
     "output_type": "stream",
     "text": [
      "{'Train':  best_epoch_indx:39\n",
      " auc:0.9974724767610317 \n",
      " apur:0.9964710469967106 \n",
      " f1:0.9731192949323262 \n",
      " precision:0.9625155666251557 \n",
      " recall:0.9839592616168046 \n",
      ", 'Validation':  best_epoch_indx:39\n",
      " auc:0.9578844959715521 \n",
      " apur:0.9412471132266724 \n",
      " f1:0.8731596828992071 \n",
      " precision:0.8633818589025756 \n",
      " recall:0.8831615120274914 \n",
      ", 'Test':  best_epoch_indx:39\n",
      " auc:0.9632974127085905 \n",
      " apur:0.9518039276713204 \n",
      " f1:0.8899609464736963 \n",
      " precision:0.8922155688622755 \n",
      " recall:0.8877176901924839 \n",
      "}\n",
      "=====Epoch 40\n",
      "Training...\n"
     ]
    },
    {
     "name": "stderr",
     "output_type": "stream",
     "text": [
      "Iteration:  19%|█▉        | 12/62 [00:01<00:04, 11.97it/s]\n",
      "Iteration:  35%|███▌      | 22/62 [00:01<00:03, 12.01it/s]\n",
      "Iteration: 100%|██████████| 7/7 [00:00<00:00, 20.05it/s]s]\n",
      "Iteration:  97%|█████████▋| 60/62 [00:05<00:00, 11.61it/s]"
     ]
    },
    {
     "name": "stdout",
     "output_type": "stream",
     "text": [
      "{'Train':  best_epoch_indx:41\n",
      " auc:0.996011086907729 \n",
      " apur:0.9943034119003361 \n",
      " f1:0.9652660008793419 \n",
      " precision:0.9526407141086041 \n",
      " recall:0.9782304264799491 \n",
      ", 'Validation':  best_epoch_indx:41\n",
      " auc:0.9622108831730826 \n",
      " apur:0.9546059831749919 \n",
      " f1:0.8821855435401251 \n",
      " precision:0.8766968325791855 \n",
      " recall:0.8877434135166093 \n",
      ", 'Test':  best_epoch_indx:41\n",
      " auc:0.961170056816253 \n",
      " apur:0.947747761674578 \n",
      " f1:0.8830992297236069 \n",
      " precision:0.8732078853046595 \n",
      " recall:0.8932172318973419 \n",
      "}\n",
      "=====Epoch 42\n",
      "Training...\n"
     ]
    },
    {
     "name": "stderr",
     "output_type": "stream",
     "text": [
      "\r",
      "Iteration:  84%|████████▍ | 52/62 [00:04<00:00, 11.08it/s]\r",
      "Iteration:  45%|████▌     | 28/62 [00:02<00:02, 11.75it/s]\r",
      "Iteration:   3%|▎         | 2/62 [00:00<00:05, 11.64it/s]\r",
      "Iteration: 100%|██████████| 62/62 [00:05<00:00, 11.73it/s]\r",
      "Iteration: 100%|██████████| 62/62 [00:05<00:00, 11.59it/s]\n",
      "\r",
      "Iteration:   0%|          | 0/62 [00:00<?, ?it/s]\r",
      "Iteration:  87%|████████▋ | 54/62 [00:04<00:00, 11.11it/s]\r",
      "Iteration:  48%|████▊     | 30/62 [00:02<00:02, 11.76it/s]"
     ]
    },
    {
     "name": "stdout",
     "output_type": "stream",
     "text": [
      "Evaluating...\n"
     ]
    },
    {
     "name": "stderr",
     "output_type": "stream",
     "text": [
      "Iteration: 100%|██████████| 62/62 [00:05<00:00, 11.11it/s]\n",
      "Iteration:  19%|█▉        | 12/62 [00:01<00:04, 11.75it/s]"
     ]
    },
    {
     "name": "stdout",
     "output_type": "stream",
     "text": [
      "Evaluating...\n"
     ]
    },
    {
     "name": "stderr",
     "output_type": "stream",
     "text": [
      "Iteration:   5%|▍         | 3/62 [00:00<00:02, 20.54it/s]]\n",
      "Iteration: 100%|██████████| 7/7 [00:00<00:00, 23.86it/s]s]\n",
      "Iteration:  19%|█▉        | 12/62 [00:00<00:02, 20.83it/s]"
     ]
    },
    {
     "name": "stdout",
     "output_type": "stream",
     "text": [
      "{'Train':  best_epoch_indx:39\n",
      " auc:0.9978620566047735 \n",
      " apur:0.9970513124981208 \n",
      " f1:0.9752368919772583 \n",
      " precision:0.9678996865203762 \n",
      " recall:0.9826861871419478 \n",
      ", 'Validation':  best_epoch_indx:39\n",
      " auc:0.9599980330220881 \n",
      " apur:0.9477328365860813 \n",
      " f1:0.8869764773379232 \n",
      " precision:0.8885057471264368 \n",
      " recall:0.8854524627720504 \n",
      ", 'Test':  best_epoch_indx:39\n",
      " auc:0.9645918765217976 \n",
      " apur:0.9517739288827092 \n",
      " f1:0.8912058023572076 \n",
      " precision:0.8816143497757848 \n",
      " recall:0.9010082493125573 \n",
      "}\n",
      "=====Epoch 40\n",
      "Training...\n"
     ]
    },
    {
     "name": "stderr",
     "output_type": "stream",
     "text": [
      "Iteration: 100%|██████████| 62/62 [00:05<00:00, 11.84it/s]\n",
      "Iteration:  58%|█████▊    | 36/62 [00:03<00:02, 11.19it/s]"
     ]
    },
    {
     "name": "stdout",
     "output_type": "stream",
     "text": [
      "Evaluating...\n"
     ]
    },
    {
     "name": "stderr",
     "output_type": "stream",
     "text": [
      "Iteration:  39%|███▊      | 24/62 [00:01<00:02, 12.82it/s]\n",
      "Iteration:  74%|███████▍  | 46/62 [00:04<00:01, 10.64it/s]\n",
      "Iteration:  58%|█████▊    | 36/62 [00:02<00:02, 12.67it/s]\n",
      "Iteration: 100%|██████████| 7/7 [00:00<00:00, 20.18it/s]s]\n",
      "Iteration:  58%|█████▊    | 36/62 [00:01<00:01, 19.74it/s]"
     ]
    },
    {
     "name": "stdout",
     "output_type": "stream",
     "text": [
      "{'Train':  best_epoch_indx:40\n",
      " auc:0.9973004723143223 \n",
      " apur:0.9962562407858921 \n",
      " f1:0.9706623016872324 \n",
      " precision:0.9601444762735085 \n",
      " recall:0.981413112667091 \n",
      ", 'Validation':  best_epoch_indx:40\n",
      " auc:0.9557208202683575 \n",
      " apur:0.9414765186263225 \n",
      " f1:0.8759206798866856 \n",
      " precision:0.8665919282511211 \n",
      " recall:0.8854524627720504 \n",
      ", 'Test':  best_epoch_indx:40\n",
      " auc:0.9595120931280418 \n",
      " apur:0.9478262627997277 \n",
      " f1:0.8834774692762859 \n",
      " precision:0.8774864376130199 \n",
      " recall:0.8895508707607699 \n",
      "}\n",
      "=====Epoch 41\n",
      "Training...\n"
     ]
    },
    {
     "name": "stderr",
     "output_type": "stream",
     "text": [
      "Iteration:  71%|███████   | 44/62 [00:03<00:01, 12.21it/s]\n",
      "Iteration:  77%|███████▋  | 48/62 [00:03<00:01, 12.12it/s]\n",
      "Iteration:  81%|████████  | 50/62 [00:02<00:00, 20.77it/s]"
     ]
    },
    {
     "name": "stdout",
     "output_type": "stream",
     "text": [
      "{'Train':  best_epoch_indx:40\n",
      " auc:0.9974169211723956 \n",
      " apur:0.9964654769569504 \n",
      " f1:0.9716446124763705 \n",
      " precision:0.9619463505926388 \n",
      " recall:0.9815404201145767 \n",
      ", 'Validation':  best_epoch_indx:40\n",
      " auc:0.9601523057994994 \n",
      " apur:0.9486660233308641 \n",
      " f1:0.8925339366515838 \n",
      " precision:0.8815642458100559 \n",
      " recall:0.9037800687285223 \n",
      ", 'Test':  best_epoch_indx:40\n",
      " auc:0.966831410057919 \n",
      " apur:0.9600687484133749 \n",
      " f1:0.8965044551062372 \n",
      " precision:0.8938496583143508 \n",
      " recall:0.8991750687442713 \n",
      "}\n",
      "=====Epoch 41\n",
      "Training...\n"
     ]
    },
    {
     "name": "stderr",
     "output_type": "stream",
     "text": [
      "\r",
      "Iteration:  13%|█▎        | 8/62 [00:00<00:05, 10.51it/s]\r",
      "Iteration:  81%|████████  | 50/62 [00:03<00:00, 12.06it/s]\r",
      "Iteration:   3%|▎         | 2/62 [00:00<00:05, 11.53it/s]\r",
      "Iteration:  85%|████████▌ | 53/62 [00:02<00:00, 20.86it/s]\r",
      "Iteration: 100%|██████████| 62/62 [00:05<00:00, 11.27it/s]\r",
      "Iteration: 100%|██████████| 62/62 [00:05<00:00, 11.23it/s]\n",
      "\r",
      "Iteration:   0%|          | 0/62 [00:00<?, ?it/s]\r",
      "Iteration:  84%|████████▍ | 52/62 [00:04<00:00, 12.02it/s]\r",
      "Iteration:  16%|█▌        | 10/62 [00:00<00:04, 10.41it/s]"
     ]
    },
    {
     "name": "stdout",
     "output_type": "stream",
     "text": [
      "Evaluating...\n"
     ]
    },
    {
     "name": "stderr",
     "output_type": "stream",
     "text": [
      "Iteration:  94%|█████████▎| 58/62 [00:04<00:00, 12.14it/s]\n",
      "Iteration: 100%|██████████| 62/62 [00:04<00:00, 12.50it/s]\n",
      "Iteration:   5%|▍         | 3/62 [00:00<00:02, 21.53it/s]]"
     ]
    },
    {
     "name": "stdout",
     "output_type": "stream",
     "text": [
      "Evaluating...\n"
     ]
    },
    {
     "name": "stderr",
     "output_type": "stream",
     "text": [
      "Iteration:  24%|██▍       | 15/62 [00:00<00:02, 21.39it/s]\n",
      "Iteration:  42%|████▏     | 26/62 [00:02<00:03, 11.36it/s]\n",
      "Iteration:  44%|████▎     | 27/62 [00:01<00:01, 21.53it/s]"
     ]
    },
    {
     "name": "stdout",
     "output_type": "stream",
     "text": [
      "{'Train':  best_epoch_indx:40\n",
      " auc:0.9978179277229533 \n",
      " apur:0.9970238164764401 \n",
      " f1:0.9705992743650695 \n",
      " precision:0.9541261837412373 \n",
      " recall:0.9876511775938892 \n",
      ", 'Validation':  best_epoch_indx:40\n",
      " auc:0.9583048892899982 \n",
      " apur:0.9423828734434964 \n",
      " f1:0.8808058198097369 \n",
      " precision:0.8610503282275711 \n",
      " recall:0.9014891179839634 \n",
      ", 'Test':  best_epoch_indx:40\n",
      " auc:0.961486691535108 \n",
      " apur:0.9503903382100692 \n",
      " f1:0.8865793041120651 \n",
      " precision:0.8743315508021391 \n",
      " recall:0.8991750687442713 \n",
      "}\n",
      "=====Epoch 41\n",
      "Training...\n"
     ]
    },
    {
     "name": "stderr",
     "output_type": "stream",
     "text": [
      "Iteration:  16%|█▌        | 10/62 [00:00<00:04, 10.85it/s]\n",
      "Iteration:  32%|███▏      | 20/62 [00:01<00:03, 10.90it/s]\n",
      "Iteration:   0%|          | 0/7 [00:00<?, ?it/s]\n",
      "Iteration: 100%|██████████| 7/7 [00:00<00:00, 21.17it/s]s]"
     ]
    },
    {
     "name": "stdout",
     "output_type": "stream",
     "text": [
      "{'Train':  best_epoch_indx:42\n",
      " auc:0.995761027639913 \n",
      " apur:0.9940336606055448 \n",
      " f1:0.9641845534084472 \n",
      " precision:0.9535607569721115 \n",
      " recall:0.9750477402928072 \n",
      ", 'Validation':  best_epoch_indx:42\n",
      " auc:0.9602872944797345 \n",
      " apur:0.9532540983984804 \n",
      " f1:0.8793596340766152 \n",
      " precision:0.8778538812785388 \n",
      " recall:0.8808705612829324 \n",
      ", 'Test':  best_epoch_indx:42\n",
      " auc:0.9594273779654167 \n",
      " apur:0.9462872600764884 \n",
      " f1:0.8804717623043774 \n",
      " precision:0.8715761113605748 \n",
      " recall:0.8895508707607699 \n",
      "}\n",
      "=====Epoch 43\n",
      "Training...\n"
     ]
    },
    {
     "name": "stderr",
     "output_type": "stream",
     "text": [
      "\n",
      "Iteration:  87%|████████▋ | 54/62 [00:05<00:00,  9.00it/s]\n",
      "Iteration: 100%|██████████| 7/7 [00:00<00:00, 19.17it/s]s]\n",
      "Iteration:   0%|          | 0/62 [00:00<?, ?it/s]"
     ]
    },
    {
     "name": "stdout",
     "output_type": "stream",
     "text": [
      "{'Train':  best_epoch_indx:40\n",
      " auc:0.99774911143808 \n",
      " apur:0.996844921780843 \n",
      " f1:0.9751224788445633 \n",
      " precision:0.9746883744594251 \n",
      " recall:0.9755569700827499 \n",
      ", 'Validation':  best_epoch_indx:40\n",
      " auc:0.9619370489931772 \n",
      " apur:0.9485530292372443 \n",
      " f1:0.889018691588785 \n",
      " precision:0.9070321811680572 \n",
      " recall:0.8717067583046965 \n",
      ", 'Test':  best_epoch_indx:40\n",
      " auc:0.9640388814573075 \n",
      " apur:0.951649625968257 \n",
      " f1:0.8909469784672378 \n",
      " precision:0.9003275620028077 \n",
      " recall:0.8817598533455545 \n",
      "}\n",
      "=====Epoch 41\n",
      "Training...\n",
      "Evaluating...\n"
     ]
    },
    {
     "name": "stderr",
     "output_type": "stream",
     "text": [
      "\r",
      "Iteration:  19%|█▉        | 12/62 [00:01<00:04, 12.02it/s]\r",
      "Iteration: 100%|██████████| 62/62 [00:06<00:00, 10.59it/s]\r",
      "Iteration: 100%|██████████| 62/62 [00:06<00:00, 10.08it/s]\n",
      "\r",
      "Iteration:   0%|          | 0/62 [00:00<?, ?it/s]\r",
      "Iteration:  55%|█████▍    | 34/62 [00:03<00:02, 10.62it/s]\r",
      "Iteration:  97%|█████████▋| 60/62 [00:05<00:00, 10.55it/s]\r",
      "Iteration:   3%|▎         | 2/62 [00:00<00:05, 11.96it/s]\r",
      "Iteration:   5%|▍         | 3/62 [00:00<00:02, 20.45it/s]\r",
      "Iteration:  23%|██▎       | 14/62 [00:01<00:03, 12.02it/s]\r",
      "Iteration:  58%|█████▊    | 36/62 [00:03<00:02, 10.75it/s]\r",
      "Iteration: 100%|██████████| 62/62 [00:05<00:00, 10.99it/s]\r",
      "Iteration: 100%|██████████| 62/62 [00:05<00:00, 10.83it/s]"
     ]
    },
    {
     "name": "stdout",
     "output_type": "stream",
     "text": [
      "Evaluating...\n"
     ]
    },
    {
     "name": "stderr",
     "output_type": "stream",
     "text": [
      "\n",
      "Iteration: 100%|██████████| 62/62 [00:06<00:00, 10.19it/s]\n",
      "Iteration:   3%|▎         | 2/62 [00:00<00:03, 18.99it/s]]"
     ]
    },
    {
     "name": "stdout",
     "output_type": "stream",
     "text": [
      "Evaluating...\n"
     ]
    },
    {
     "name": "stderr",
     "output_type": "stream",
     "text": [
      "Iteration:  61%|██████▏   | 38/62 [00:03<00:01, 12.32it/s]\n",
      "Iteration:   0%|          | 0/18 [00:00<?, ?it/s]\n",
      "Iteration: 100%|██████████| 18/18 [00:00<00:00, 22.41it/s]\n",
      "Iteration:  34%|███▍      | 21/62 [00:01<00:02, 19.22it/s]\n",
      "Iteration: 100%|██████████| 62/62 [00:05<00:00, 12.20it/s]\n",
      "Iteration:   0%|          | 0/62 [00:00<?, ?it/s]"
     ]
    },
    {
     "name": "stdout",
     "output_type": "stream",
     "text": [
      "Evaluating...\n",
      "{'Train':  best_epoch_indx:41\n",
      " auc:0.9960858854864151 \n",
      " apur:0.9948109108382173 \n",
      " f1:0.9650145772594753 \n",
      " precision:0.9608734065379275 \n",
      " recall:0.969191597708466 \n",
      ", 'Validation':  best_epoch_indx:41\n",
      " auc:0.9565124324574497 \n",
      " apur:0.9454139141075146 \n",
      " f1:0.8798185941043083 \n",
      " precision:0.8709315375982043 \n",
      " recall:0.8888888888888888 \n",
      ", 'Test':  best_epoch_indx:41\n",
      " auc:0.9618596255409163 \n",
      " apur:0.9536927248619969 \n",
      " f1:0.8866406070361003 \n",
      " precision:0.8897092754960775 \n",
      " recall:0.8835930339138405 \n",
      "}\n",
      "=====Epoch 42\n",
      "Training...\n"
     ]
    },
    {
     "name": "stderr",
     "output_type": "stream",
     "text": [
      "Iteration:   5%|▍         | 3/62 [00:00<00:02, 21.16it/s]]\n",
      "Iteration:  47%|████▋     | 29/62 [00:01<00:01, 19.19it/s]\n",
      "Iteration:  87%|████████▋ | 54/62 [00:04<00:00, 10.35it/s]"
     ]
    },
    {
     "name": "stdout",
     "output_type": "stream",
     "text": [
      "{'Train':  best_epoch_indx:41\n",
      " auc:0.997209264490125 \n",
      " apur:0.9961236344652716 \n",
      " f1:0.9706383784807728 \n",
      " precision:0.9629165622650965 \n",
      " recall:0.9784850413749204 \n",
      ", 'Validation':  best_epoch_indx:41\n",
      " auc:0.9538965446754679 \n",
      " apur:0.9392052493978127 \n",
      " f1:0.8663282571912014 \n",
      " precision:0.8533333333333334 \n",
      " recall:0.8797250859106529 \n",
      ", 'Test':  best_epoch_indx:41\n",
      " auc:0.9590094343989853 \n",
      " apur:0.946649891096182 \n",
      " f1:0.8781264211005002 \n",
      " precision:0.8713898916967509 \n",
      " recall:0.884967919340055 \n",
      "}\n",
      "=====Epoch 42\n",
      "Training...\n"
     ]
    },
    {
     "name": "stderr",
     "output_type": "stream",
     "text": [
      "Iteration: 100%|██████████| 62/62 [00:05<00:00, 11.82it/s]\n",
      "Iteration:   0%|          | 0/62 [00:00<?, ?it/s]"
     ]
    },
    {
     "name": "stdout",
     "output_type": "stream",
     "text": [
      "Evaluating...\n"
     ]
    },
    {
     "name": "stderr",
     "output_type": "stream",
     "text": [
      "Iteration:  35%|███▌      | 22/62 [00:01<00:03, 11.40it/s]\n",
      "Iteration:  48%|████▊     | 30/62 [00:02<00:02, 11.29it/s]\n",
      "Iteration:  55%|█████▍    | 34/62 [00:03<00:02, 11.41it/s]\n",
      "Iteration: 100%|██████████| 7/7 [00:00<00:00, 18.81it/s]s]\n",
      "Iteration:  97%|█████████▋| 60/62 [00:02<00:00, 22.55it/s]"
     ]
    },
    {
     "name": "stdout",
     "output_type": "stream",
     "text": [
      "{'Train':  best_epoch_indx:41\n",
      " auc:0.9977872917633034 \n",
      " apur:0.9969845670490483 \n",
      " f1:0.970881082096562 \n",
      " precision:0.9553857530194725 \n",
      " recall:0.9868873329089751 \n",
      ", 'Validation':  best_epoch_indx:41\n",
      " auc:0.9605167752361338 \n",
      " apur:0.9462605899724832 \n",
      " f1:0.8778583379810373 \n",
      " precision:0.8554347826086957 \n",
      " recall:0.9014891179839634 \n",
      ", 'Test':  best_epoch_indx:41\n",
      " auc:0.9610284735730875 \n",
      " apur:0.9494322100643284 \n",
      " f1:0.8816621499548328 \n",
      " precision:0.8691006233303651 \n",
      " recall:0.8945921173235564 \n",
      "}\n",
      "=====Epoch 42\n",
      "Training...\n"
     ]
    },
    {
     "name": "stderr",
     "output_type": "stream",
     "text": [
      "Iteration:  65%|██████▍   | 40/62 [00:03<00:01, 11.27it/s]\n",
      "Iteration:  68%|██████▊   | 42/62 [00:03<00:01, 11.25it/s]\n",
      "Iteration:  17%|█▋        | 3/18 [00:00<00:00, 22.99it/s]]\n",
      "Iteration:  71%|███████   | 44/62 [00:03<00:01, 11.21it/s]"
     ]
    },
    {
     "name": "stdout",
     "output_type": "stream",
     "text": [
      "{'Train':  best_epoch_indx:43\n",
      " auc:0.9951608520487727 \n",
      " apur:0.993280927323176 \n",
      " f1:0.9592079704242121 \n",
      " precision:0.944471865745311 \n",
      " recall:0.9744112030553788 \n",
      ", 'Validation':  best_epoch_indx:43\n",
      " auc:0.9541959302841319 \n",
      " apur:0.9451664032023913 \n",
      " f1:0.8728094968908989 \n",
      " precision:0.8616071428571429 \n",
      " recall:0.8843069873997709 \n",
      ", 'Test':  best_epoch_indx:43\n",
      " auc:0.9582892012085412 \n",
      " apur:0.9441587073599405 \n",
      " f1:0.8859392575928009 \n",
      " precision:0.8700839593460009 \n",
      " recall:0.9023831347387717 \n",
      "}\n",
      "=====Epoch 44\n",
      "Training...\n"
     ]
    },
    {
     "name": "stderr",
     "output_type": "stream",
     "text": [
      "Iteration:  84%|████████▍ | 52/62 [00:04<00:00, 11.33it/s]\n",
      "Iteration: 100%|██████████| 7/7 [00:00<00:00, 23.37it/s]s]\n",
      "Iteration:   0%|          | 0/62 [00:00<?, ?it/s]"
     ]
    },
    {
     "name": "stdout",
     "output_type": "stream",
     "text": [
      "{'Train':  best_epoch_indx:41\n",
      " auc:0.9977697497735799 \n",
      " apur:0.9968840452255853 \n",
      " f1:0.9750766871165644 \n",
      " precision:0.9789554728602592 \n",
      " recall:0.9712285168682367 \n",
      ", 'Validation':  best_epoch_indx:41\n",
      " auc:0.9594291521553835 \n",
      " apur:0.9462958691845816 \n",
      " f1:0.8836662749706229 \n",
      " precision:0.9071170084439083 \n",
      " recall:0.861397479954181 \n",
      ", 'Test':  best_epoch_indx:41\n",
      " auc:0.9622626597665642 \n",
      " apur:0.9496989530814595 \n",
      " f1:0.887494188749419 \n",
      " precision:0.9004716981132076 \n",
      " recall:0.8748854262144822 \n",
      "}\n",
      "=====Epoch 42\n",
      "Training...\n",
      "Evaluating...\n"
     ]
    },
    {
     "name": "stderr",
     "output_type": "stream",
     "text": [
      "Iteration: 100%|██████████| 62/62 [00:05<00:00, 12.09it/s]\n",
      "Iteration: 100%|██████████| 62/62 [00:05<00:00, 11.31it/s]\n",
      "Iteration:   5%|▍         | 3/62 [00:00<00:02, 21.43it/s]]"
     ]
    },
    {
     "name": "stdout",
     "output_type": "stream",
     "text": [
      "Evaluating...\n"
     ]
    },
    {
     "name": "stderr",
     "output_type": "stream",
     "text": [
      "Iteration:  77%|███████▋  | 48/62 [00:04<00:01, 12.35it/s]\n",
      "Iteration:  71%|███████   | 44/62 [00:03<00:01, 12.33it/s]\n",
      "Iteration:  90%|█████████ | 56/62 [00:05<00:00, 10.79it/s]\n",
      "Iteration: 100%|██████████| 62/62 [00:05<00:00, 12.05it/s]\n",
      "Iteration: 100%|██████████| 7/7 [00:00<00:00, 23.50it/s]s]"
     ]
    },
    {
     "name": "stdout",
     "output_type": "stream",
     "text": [
      "Evaluating...\n",
      "{'Train':  best_epoch_indx:42\n",
      " auc:0.9965762275671238 \n",
      " apur:0.9953993804123709 \n",
      " f1:0.9660640659689186 \n",
      " precision:0.9627054361567636 \n",
      " recall:0.9694462126034373 \n",
      ", 'Validation':  best_epoch_indx:42\n",
      " auc:0.9611570072623911 \n",
      " apur:0.9507890184898973 \n",
      " f1:0.8902785673678226 \n",
      " precision:0.8837471783295711 \n",
      " recall:0.8969072164948454 \n",
      ", 'Test':  best_epoch_indx:42\n",
      " auc:0.9641896912767093 \n",
      " apur:0.9567489939820749 \n",
      " f1:0.8871378910776362 \n",
      " precision:0.8973277074542897 \n",
      " recall:0.8771769019248395 \n",
      "}\n",
      "=====Epoch 43\n",
      "Training...\n"
     ]
    },
    {
     "name": "stderr",
     "output_type": "stream",
     "text": [
      "\n",
      "Iteration: 100%|██████████| 62/62 [00:05<00:00, 10.58it/s]\n",
      "Iteration:  10%|▉         | 6/62 [00:00<00:02, 21.65it/s]]\n",
      "Iteration:  15%|█▍        | 9/62 [00:00<00:02, 21.63it/s]]"
     ]
    },
    {
     "name": "stdout",
     "output_type": "stream",
     "text": [
      "Evaluating...\n"
     ]
    },
    {
     "name": "stderr",
     "output_type": "stream",
     "text": [
      "Iteration:  24%|██▍       | 15/62 [00:00<00:02, 21.80it/s]\n",
      "Iteration:  16%|█▌        | 10/62 [00:00<00:04, 12.55it/s]"
     ]
    },
    {
     "name": "stdout",
     "output_type": "stream",
     "text": [
      "{'Train':  best_epoch_indx:42\n",
      " auc:0.996203882239956 \n",
      " apur:0.9946191299269826 \n",
      " f1:0.9655873015873014 \n",
      " precision:0.9631412286257125 \n",
      " recall:0.9680458306810948 \n",
      ", 'Validation':  best_epoch_indx:42\n",
      " auc:0.953066364292023 \n",
      " apur:0.9395076078648872 \n",
      " f1:0.8734835355285961 \n",
      " precision:0.8811188811188811 \n",
      " recall:0.865979381443299 \n",
      ", 'Test':  best_epoch_indx:42\n",
      " auc:0.9551967891564593 \n",
      " apur:0.9421476052710249 \n",
      " f1:0.8722222222222221 \n",
      " precision:0.8811973807296539 \n",
      " recall:0.8634280476626948 \n",
      "}\n",
      "=====Epoch 43\n",
      "Training...\n",
      "Evaluating...\n"
     ]
    },
    {
     "name": "stderr",
     "output_type": "stream",
     "text": [
      "Iteration: 100%|██████████| 62/62 [00:04<00:00, 12.42it/s]\n",
      "Iteration:  84%|████████▍ | 52/62 [00:02<00:00, 19.31it/s]\n",
      "Iteration:  97%|█████████▋| 60/62 [00:02<00:00, 22.07it/s]\n",
      "Iteration:  22%|██▏       | 4/18 [00:00<00:00, 19.58it/s]]\n",
      "Iteration:   0%|          | 0/18 [00:00<?, ?it/s]\n",
      "Iteration:  84%|████████▍ | 52/62 [00:04<00:00, 12.03it/s]\n",
      "Iteration:  65%|██████▍   | 40/62 [00:03<00:01, 11.34it/s]"
     ]
    },
    {
     "name": "stdout",
     "output_type": "stream",
     "text": [
      "{'Train':  best_epoch_indx:44\n",
      " auc:0.9952381845641178 \n",
      " apur:0.99340805532026 \n",
      " f1:0.959546925566343 \n",
      " precision:0.9386338731279679 \n",
      " recall:0.981413112667091 \n",
      ", 'Validation':  best_epoch_indx:44\n",
      " auc:0.9565066472282967 \n",
      " apur:0.9483552175653739 \n",
      " f1:0.8756998880179171 \n",
      " precision:0.8565169769989047 \n",
      " recall:0.8957617411225659 \n",
      ", 'Test':  best_epoch_indx:44\n",
      " auc:0.9599443101963725 \n",
      " apur:0.9473369254727083 \n",
      " f1:0.8864599598483159 \n",
      " precision:0.8635375923511517 \n",
      " recall:0.9106324472960586 \n",
      "}\n",
      "=====Epoch 45\n",
      "Training...\n"
     ]
    },
    {
     "name": "stderr",
     "output_type": "stream",
     "text": [
      "Iteration:  71%|███████   | 44/62 [00:03<00:01, 11.31it/s]\n",
      "Iteration:  10%|▉         | 6/62 [00:00<00:04, 12.26it/s]]\n",
      "Iteration: 100%|██████████| 7/7 [00:00<00:00, 19.72it/s]s]\n",
      "Iteration: 100%|██████████| 7/7 [00:00<00:00, 22.39it/s]s]\n",
      "Iteration:  81%|████████  | 50/62 [00:04<00:01, 11.24it/s]"
     ]
    },
    {
     "name": "stdout",
     "output_type": "stream",
     "text": [
      "{'Train':  best_epoch_indx:42\n",
      " auc:0.9965177899951112 \n",
      " apur:0.9953072010222278 \n",
      " f1:0.9666561214805441 \n",
      " precision:0.9608805031446541 \n",
      " recall:0.9725015913430936 \n",
      ", 'Validation':  best_epoch_indx:42\n",
      " auc:0.9549851319610769 \n",
      " apur:0.9366006351932022 \n",
      " f1:0.8721461187214613 \n",
      " precision:0.8691695108077361 \n",
      " recall:0.8751431844215349 \n",
      ", 'Test':  best_epoch_indx:42\n",
      " auc:0.9602981187516961 \n",
      " apur:0.9483179086135587 \n",
      " f1:0.8840746715833142 \n",
      " precision:0.8891979601298099 \n",
      " recall:0.8790100824931256 \n",
      "}\n",
      "=====Epoch 43\n",
      "Training...\n",
      "{'Train':  best_epoch_indx:42\n",
      " auc:0.9969383511601471 \n",
      " apur:0.9957803802295953 \n",
      " f1:0.9675508789616282 \n",
      " precision:0.9578343313373253 \n",
      " recall:0.977466581795035 \n",
      ", 'Validation':  best_epoch_indx:42\n",
      " auc:0.9584119160293272 \n",
      " apur:0.9433277323122787 \n",
      " f1:0.8749999999999999 \n",
      " precision:0.8842105263157894 \n",
      " recall:0.865979381443299 \n",
      ", 'Test':  best_epoch_indx:42\n",
      " auc:0.9627022001562742 \n",
      " apur:0.950248732898721 \n",
      " f1:0.8872316384180793 \n",
      " precision:0.8751671868033883 \n",
      " recall:0.8996333638863429 \n",
      "}\n",
      "=====Epoch 43\n",
      "Training...\n",
      "Evaluating...\n"
     ]
    },
    {
     "name": "stderr",
     "output_type": "stream",
     "text": [
      "Iteration: 100%|██████████| 62/62 [00:05<00:00, 12.07it/s]\n",
      "Iteration: 100%|██████████| 62/62 [00:05<00:00, 11.26it/s]\n",
      "Iteration:  23%|██▎       | 14/62 [00:01<00:03, 12.21it/s]"
     ]
    },
    {
     "name": "stdout",
     "output_type": "stream",
     "text": [
      "Evaluating...\n"
     ]
    },
    {
     "name": "stderr",
     "output_type": "stream",
     "text": [
      "Iteration:  68%|██████▊   | 42/62 [00:02<00:00, 20.38it/s]\n",
      "Iteration:  97%|█████████▋| 60/62 [00:02<00:00, 20.67it/s]\n",
      "Iteration: 100%|██████████| 62/62 [00:05<00:00, 12.14it/s]\n",
      "Iteration:   0%|          | 0/62 [00:00<?, ?it/s]\n",
      "Iteration: 100%|██████████| 7/7 [00:00<00:00, 21.97it/s]s]\n",
      "Iteration:  17%|█▋        | 3/18 [00:00<00:00, 21.20it/s]"
     ]
    },
    {
     "name": "stdout",
     "output_type": "stream",
     "text": [
      "Evaluating...\n",
      "{'Train':  best_epoch_indx:43\n",
      " auc:0.9948805971660099 \n",
      " apur:0.9930979393019761 \n",
      " f1:0.9553204729309271 \n",
      " precision:0.934388314059647 \n",
      " recall:0.9772119669000636 \n",
      ", 'Validation':  best_epoch_indx:43\n",
      " auc:0.9566551347765552 \n",
      " apur:0.9406595121115783 \n",
      " f1:0.8736900165471594 \n",
      " precision:0.8425531914893617 \n",
      " recall:0.9072164948453608 \n",
      ", 'Test':  best_epoch_indx:43\n",
      " auc:0.9614457861081466 \n",
      " apur:0.9528025972282834 \n",
      " f1:0.8801606784199955 \n",
      " precision:0.8577642453240539 \n",
      " recall:0.9037580201649863 \n",
      "}\n",
      "=====Epoch 44\n",
      "Training...\n"
     ]
    },
    {
     "name": "stderr",
     "output_type": "stream",
     "text": [
      "Iteration: 100%|██████████| 62/62 [00:05<00:00, 12.13it/s]\n",
      "Iteration:   0%|          | 0/62 [00:00<?, ?it/s]"
     ]
    },
    {
     "name": "stdout",
     "output_type": "stream",
     "text": [
      "Evaluating...\n"
     ]
    },
    {
     "name": "stderr",
     "output_type": "stream",
     "text": [
      "Iteration:  10%|▉         | 6/62 [00:00<00:08,  6.90it/s]\n",
      "Iteration:  16%|█▌        | 10/62 [00:00<00:02, 20.88it/s]\n",
      "Iteration:  95%|█████████▌| 59/62 [00:05<00:00, 10.08it/s]"
     ]
    },
    {
     "name": "stdout",
     "output_type": "stream",
     "text": [
      "{'Train':  best_epoch_indx:43\n",
      " auc:0.9957016675203256 \n",
      " apur:0.9941067509395851 \n",
      " f1:0.9539372263673922 \n",
      " precision:0.9250179382922745 \n",
      " recall:0.9847231063017187 \n",
      ", 'Validation':  best_epoch_indx:43\n",
      " auc:0.9520722690825782 \n",
      " apur:0.9412640673723719 \n",
      " f1:0.8662630709961476 \n",
      " precision:0.8336864406779662 \n",
      " recall:0.9014891179839634 \n",
      ", 'Test':  best_epoch_indx:43\n",
      " auc:0.9563211553358207 \n",
      " apur:0.9446193198434873 \n",
      " f1:0.8699453551912568 \n",
      " precision:0.8315921437526118 \n",
      " recall:0.9120073327222732 \n",
      "}\n",
      "=====Epoch 44\n",
      "Training...\n"
     ]
    },
    {
     "name": "stderr",
     "output_type": "stream",
     "text": [
      "Iteration: 100%|██████████| 62/62 [00:06<00:00, 10.07it/s]\n",
      "Iteration:  29%|██▉       | 18/62 [00:01<00:03, 11.20it/s]"
     ]
    },
    {
     "name": "stdout",
     "output_type": "stream",
     "text": [
      "Evaluating...\n"
     ]
    },
    {
     "name": "stderr",
     "output_type": "stream",
     "text": [
      "Iteration:  74%|███████▍  | 46/62 [00:02<00:00, 21.95it/s]\n",
      "Iteration:  42%|████▏     | 26/62 [00:02<00:03, 11.13it/s]\n",
      "Iteration:   0%|          | 0/18 [00:00<?, ?it/s]\n",
      "Iteration: 100%|██████████| 7/7 [00:00<00:00, 20.31it/s]s]\n",
      "Iteration:  44%|████▍     | 8/18 [00:00<00:00, 18.98it/s]"
     ]
    },
    {
     "name": "stdout",
     "output_type": "stream",
     "text": [
      "{'Train':  best_epoch_indx:45\n",
      " auc:0.992642608548536 \n",
      " apur:0.9898616239818216 \n",
      " f1:0.9496402877697842 \n",
      " precision:0.9498217014773306 \n",
      " recall:0.9494589433481859 \n",
      ", 'Validation':  best_epoch_indx:45\n",
      " auc:0.9556726100254165 \n",
      " apur:0.947903576980439 \n",
      " f1:0.8690546095126247 \n",
      " precision:0.891566265060241 \n",
      " recall:0.847651775486827 \n",
      ", 'Test':  best_epoch_indx:45\n",
      " auc:0.9528195952806402 \n",
      " apur:0.9385293732902746 \n",
      " f1:0.8679245283018867 \n",
      " precision:0.8825201326385599 \n",
      " recall:0.8538038496791934 \n",
      "}\n",
      "=====Epoch 46\n",
      "Training...\n"
     ]
    },
    {
     "name": "stderr",
     "output_type": "stream",
     "text": [
      "Iteration:   6%|▋         | 4/62 [00:00<00:04, 12.14it/s]]\n",
      "Iteration:  17%|█▋        | 3/18 [00:00<00:00, 23.00it/s]]\n",
      "Iteration: 100%|██████████| 7/7 [00:00<00:00, 22.54it/s]s]\n",
      "Iteration:  68%|██████▊   | 42/62 [00:03<00:01, 11.24it/s]"
     ]
    },
    {
     "name": "stdout",
     "output_type": "stream",
     "text": [
      "{'Train':  best_epoch_indx:43\n",
      " auc:0.9954652289301114 \n",
      " apur:0.9939281001972176 \n",
      " f1:0.9610746641674478 \n",
      " precision:0.9436809815950921 \n",
      " recall:0.9791215786123488 \n",
      ", 'Validation':  best_epoch_indx:43\n",
      " auc:0.9574631384482473 \n",
      " apur:0.943852470211015 \n",
      " f1:0.8778026905829597 \n",
      " precision:0.8594950603732162 \n",
      " recall:0.8969072164948454 \n",
      ", 'Test':  best_epoch_indx:43\n",
      " auc:0.9570970761418248 \n",
      " apur:0.9429970522929417 \n",
      " f1:0.883105227731658 \n",
      " precision:0.8650549450549451 \n",
      " recall:0.9019248395967002 \n",
      "}\n",
      "=====Epoch 44\n",
      "Training...\n"
     ]
    },
    {
     "name": "stderr",
     "output_type": "stream",
     "text": [
      "Iteration:   6%|▋         | 4/62 [00:00<00:04, 12.27it/s]]\n",
      "Iteration: 100%|██████████| 62/62 [00:05<00:00, 11.24it/s]\n",
      "Iteration:  43%|████▎     | 3/7 [00:00<00:00, 22.32it/s]s]"
     ]
    },
    {
     "name": "stdout",
     "output_type": "stream",
     "text": [
      "Evaluating...\n"
     ]
    },
    {
     "name": "stderr",
     "output_type": "stream",
     "text": [
      "\r",
      "Iteration:   5%|▍         | 3/62 [00:00<00:02, 21.90it/s]\r",
      "Iteration:  86%|████████▌ | 6/7 [00:00<00:00, 22.64it/s]\r",
      "Iteration:  29%|██▉       | 18/62 [00:01<00:03, 11.68it/s]\r",
      "Iteration:  77%|███████▋  | 48/62 [00:04<00:01, 10.73it/s]\r",
      "Iteration: 100%|██████████| 7/7 [00:00<00:00, 22.90it/s]\r",
      "Iteration:  10%|▉         | 6/62 [00:00<00:06,  8.18it/s]\n",
      "\r",
      "Iteration:   0%|          | 0/62 [00:00<?, ?it/s]\r",
      "Iteration:  10%|▉         | 6/62 [00:00<00:02, 22.17it/s]"
     ]
    },
    {
     "name": "stdout",
     "output_type": "stream",
     "text": [
      "{'Train':  best_epoch_indx:43\n",
      " auc:0.9952098578122293 \n",
      " apur:0.9935741945887524 \n",
      " f1:0.9612403100775193 \n",
      " precision:0.9595331726500064 \n",
      " recall:0.9629535327816677 \n",
      ", 'Validation':  best_epoch_indx:43\n",
      " auc:0.9528291698967529 \n",
      " apur:0.9335433083195637 \n",
      " f1:0.8643274853801169 \n",
      " precision:0.8829151732377539 \n",
      " recall:0.8465063001145475 \n",
      ", 'Test':  best_epoch_indx:43\n",
      " auc:0.9576094744995567 \n",
      " apur:0.9459564593620724 \n",
      " f1:0.8794757781418207 \n",
      " precision:0.8986131037780966 \n",
      " recall:0.8611365719523373 \n",
      "}\n",
      "=====Epoch 44\n",
      "Training...\n"
     ]
    },
    {
     "name": "stderr",
     "output_type": "stream",
     "text": [
      "Iteration: 100%|██████████| 62/62 [00:05<00:00, 10.56it/s]\n",
      "Iteration:  58%|█████▊    | 36/62 [00:03<00:02, 11.47it/s]"
     ]
    },
    {
     "name": "stdout",
     "output_type": "stream",
     "text": [
      "Evaluating...\n"
     ]
    },
    {
     "name": "stderr",
     "output_type": "stream",
     "text": [
      "Iteration:  44%|████▎     | 27/62 [00:01<00:01, 21.72it/s]\n",
      "Iteration:  61%|██████▏   | 38/62 [00:03<00:02, 11.39it/s]\n",
      "Iteration: 100%|██████████| 62/62 [00:05<00:00, 11.58it/s]\n",
      "Iteration:  29%|██▊       | 2/7 [00:00<00:00, 15.11it/s]"
     ]
    },
    {
     "name": "stdout",
     "output_type": "stream",
     "text": [
      "Evaluating...\n"
     ]
    },
    {
     "name": "stderr",
     "output_type": "stream",
     "text": [
      "Iteration: 100%|██████████| 7/7 [00:00<00:00, 17.10it/s]]]\n",
      "Iteration:   2%|▏         | 1/62 [00:00<00:06,  9.90it/s]]"
     ]
    },
    {
     "name": "stdout",
     "output_type": "stream",
     "text": [
      "{'Train':  best_epoch_indx:44\n",
      " auc:0.9954179679754482 \n",
      " apur:0.993734552135516 \n",
      " f1:0.9549382716049384 \n",
      " precision:0.92690233672858 \n",
      " recall:0.9847231063017187 \n",
      ", 'Validation':  best_epoch_indx:44\n",
      " auc:0.9574959214134471 \n",
      " apur:0.9416770986970279 \n",
      " f1:0.8813928182807398 \n",
      " precision:0.8393782383419689 \n",
      " recall:0.9278350515463918 \n",
      ", 'Test':  best_epoch_indx:44\n",
      " auc:0.9617369092600317 \n",
      " apur:0.95252647268441 \n",
      " f1:0.8782742681047765 \n",
      " precision:0.8449809402795425 \n",
      " recall:0.9142988084326306 \n",
      "}\n",
      "=====Epoch 45\n",
      "Training...\n"
     ]
    },
    {
     "name": "stderr",
     "output_type": "stream",
     "text": [
      "Iteration:   5%|▍         | 3/62 [00:00<00:05, 10.33it/s]]\n",
      "Iteration: 100%|██████████| 62/62 [00:05<00:00, 12.00it/s]\n",
      "Iteration:   5%|▍         | 3/62 [00:00<00:02, 22.15it/s]]"
     ]
    },
    {
     "name": "stdout",
     "output_type": "stream",
     "text": [
      "Evaluating...\n"
     ]
    },
    {
     "name": "stderr",
     "output_type": "stream",
     "text": [
      "Iteration:  29%|██▉       | 18/62 [00:00<00:01, 22.14it/s]\n",
      "Iteration:  44%|████▎     | 27/62 [00:01<00:01, 22.23it/s]\n",
      "Iteration: 100%|██████████| 62/62 [00:05<00:00, 10.80it/s]\n",
      "Iteration:   0%|          | 0/62 [00:00<?, ?it/s]"
     ]
    },
    {
     "name": "stdout",
     "output_type": "stream",
     "text": [
      "{'Train':  best_epoch_indx:44\n",
      " auc:0.9918340174813408 \n",
      " apur:0.9891175116917068 \n",
      " f1:0.9429634221946683 \n",
      " precision:0.9190332326283988 \n",
      " recall:0.9681731381285805 \n",
      ", 'Validation':  best_epoch_indx:44\n",
      " auc:0.9484275747162346 \n",
      " apur:0.9354246051297277 \n",
      " f1:0.8699095022624435 \n",
      " precision:0.8592178770949721 \n",
      " recall:0.8808705612829324 \n",
      ", 'Test':  best_epoch_indx:44\n",
      " auc:0.9516095880898814 \n",
      " apur:0.9376135567386884 \n",
      " f1:0.8654658661329776 \n",
      " precision:0.8406047516198704 \n",
      " recall:0.8918423464711274 \n",
      "}\n",
      "=====Epoch 45\n",
      "Training...\n",
      "Evaluating...\n"
     ]
    },
    {
     "name": "stderr",
     "output_type": "stream",
     "text": [
      "Iteration:  77%|███████▋  | 48/62 [00:02<00:00, 21.84it/s]\n",
      "Iteration:  32%|███▏      | 20/62 [00:01<00:03, 11.81it/s]\n",
      "Iteration:  73%|███████▎  | 45/62 [00:04<00:01, 11.57it/s]\n",
      "Iteration: 100%|██████████| 62/62 [00:03<00:00, 20.56it/s]\n",
      "Iteration:  82%|████████▏ | 51/62 [00:04<00:00, 11.35it/s]"
     ]
    },
    {
     "name": "stdout",
     "output_type": "stream",
     "text": [
      "{'Train':  best_epoch_indx:44\n",
      " auc:0.9923359130260291 \n",
      " apur:0.9897414290048657 \n",
      " f1:0.949161159125572 \n",
      " precision:0.9475954828067504 \n",
      " recall:0.9507320178230426 \n",
      ", 'Validation':  best_epoch_indx:44\n",
      " auc:0.9480255012901062 \n",
      " apur:0.9307884645156488 \n",
      " f1:0.8529584065612186 \n",
      " precision:0.8729016786570744 \n",
      " recall:0.8339060710194731 \n",
      ", 'Test':  best_epoch_indx:44\n",
      " auc:0.9525245440279774 \n",
      " apur:0.9361785078356043 \n",
      " f1:0.8662857142857142 \n",
      " precision:0.8641130870953032 \n",
      " recall:0.8684692942254812 \n",
      "}\n",
      "=====Epoch 45\n",
      "Training...\n"
     ]
    },
    {
     "name": "stderr",
     "output_type": "stream",
     "text": [
      "\n",
      "Iteration: 100%|██████████| 62/62 [00:05<00:00, 10.83it/s]\n",
      "Iteration:  23%|██▎       | 14/62 [00:01<00:03, 13.00it/s]\n",
      "Iteration:  26%|██▌       | 16/62 [00:01<00:03, 12.90it/s]"
     ]
    },
    {
     "name": "stdout",
     "output_type": "stream",
     "text": [
      "Evaluating...\n"
     ]
    },
    {
     "name": "stderr",
     "output_type": "stream",
     "text": [
      "\r",
      "Iteration:   8%|▊         | 5/62 [00:00<00:02, 20.19it/s]\r",
      "Iteration:  84%|████████▍ | 52/62 [00:04<00:00, 12.64it/s]\r",
      "Iteration:  57%|█████▋    | 4/7 [00:00<00:00, 17.75it/s]\r",
      "Iteration:  29%|██▉       | 18/62 [00:01<00:03, 12.96it/s]\r",
      "Iteration:  13%|█▎        | 8/62 [00:00<00:02, 20.27it/s]\r",
      "Iteration: 100%|██████████| 7/7 [00:00<00:00, 19.34it/s]\r",
      "Iteration: 100%|██████████| 7/7 [00:00<00:00, 18.91it/s]\r",
      "Iteration:  87%|████████▋ | 54/62 [00:04<00:00, 12.72it/s]\n",
      "\r",
      "Iteration:   0%|          | 0/62 [00:00<?, ?it/s]"
     ]
    },
    {
     "name": "stdout",
     "output_type": "stream",
     "text": [
      "{'Train':  best_epoch_indx:44\n",
      " auc:0.9911874247870816 \n",
      " apur:0.9883343317027036 \n",
      " f1:0.9414597999258986 \n",
      " precision:0.9141383858975897 \n",
      " recall:0.9704646721833228 \n",
      ", 'Validation':  best_epoch_indx:44\n",
      " auc:0.9448754440163375 \n",
      " apur:0.9249829343303541 \n",
      " f1:0.8587381351200446 \n",
      " precision:0.8376906318082789 \n",
      " recall:0.8808705612829324 \n",
      ", 'Test':  best_epoch_indx:44\n",
      " auc:0.9512580193931858 \n",
      " apur:0.9363578613852931 \n",
      " f1:0.8656382740889784 \n",
      " precision:0.8450458315146224 \n",
      " recall:0.8872593950504125 \n",
      "}\n",
      "=====Epoch 45\n",
      "Training...\n"
     ]
    },
    {
     "name": "stderr",
     "output_type": "stream",
     "text": [
      "Iteration: 100%|██████████| 62/62 [00:05<00:00, 12.02it/s]\n",
      "Iteration:  45%|████▌     | 28/62 [00:02<00:02, 12.92it/s]"
     ]
    },
    {
     "name": "stdout",
     "output_type": "stream",
     "text": [
      "Evaluating...\n"
     ]
    },
    {
     "name": "stderr",
     "output_type": "stream",
     "text": [
      "Iteration:  45%|████▌     | 28/62 [00:02<00:03, 10.80it/s]\n",
      "Iteration:  48%|████▊     | 30/62 [00:02<00:02, 10.89it/s]\n",
      "Iteration:  94%|█████████▎| 58/62 [00:04<00:00, 12.81it/s]\n",
      "Iteration:  55%|█████▍    | 34/62 [00:03<00:02, 10.95it/s]"
     ]
    },
    {
     "name": "stdout",
     "output_type": "stream",
     "text": [
      "{'Train':  best_epoch_indx:46\n",
      " auc:0.9971080819267314 \n",
      " apur:0.9960295253176226 \n",
      " f1:0.9695943827973168 \n",
      " precision:0.9551630434782609 \n",
      " recall:0.9844684914067473 \n",
      ", 'Validation':  best_epoch_indx:46\n",
      " auc:0.9632965778441152 \n",
      " apur:0.9549409879158124 \n",
      " f1:0.891156462585034 \n",
      " precision:0.8821548821548821 \n",
      " recall:0.9003436426116839 \n",
      ", 'Test':  best_epoch_indx:46\n",
      " auc:0.9635305854141784 \n",
      " apur:0.9512138351190479 \n",
      " f1:0.888888888888889 \n",
      " precision:0.872791519434629 \n",
      " recall:0.9055912007332723 \n",
      "}\n",
      "=====Epoch 47\n",
      "Training...\n"
     ]
    },
    {
     "name": "stderr",
     "output_type": "stream",
     "text": [
      "\r",
      "Iteration:   2%|▏         | 1/62 [00:00<00:06,  9.15it/s]\r",
      "Iteration:  92%|█████████▏| 57/62 [00:02<00:00, 22.62it/s]\r",
      "Iteration:  97%|█████████▋| 60/62 [00:04<00:00, 12.77it/s]\r",
      "Iteration:  50%|█████     | 9/18 [00:00<00:00, 21.40it/s]\r",
      "Iteration:   3%|▎         | 2/62 [00:00<00:06,  9.19it/s]\r",
      "Iteration:  97%|█████████▋| 60/62 [00:02<00:00, 22.57it/s]\r",
      "Iteration:  58%|█████▊    | 36/62 [00:03<00:02, 10.95it/s]\r",
      "Iteration: 100%|██████████| 62/62 [00:04<00:00, 12.95it/s]\r",
      "Iteration: 100%|██████████| 62/62 [00:04<00:00, 12.88it/s]\n",
      "\r",
      "Iteration:   0%|          | 0/62 [00:00<?, ?it/s]"
     ]
    },
    {
     "name": "stdout",
     "output_type": "stream",
     "text": [
      "Evaluating...\n"
     ]
    },
    {
     "name": "stderr",
     "output_type": "stream",
     "text": [
      "Iteration:  83%|████████▎ | 15/18 [00:00<00:00, 21.47it/s]\n",
      "Iteration:  65%|██████▍   | 40/62 [00:03<00:02, 10.87it/s]\n",
      "Iteration:  67%|██████▋   | 12/18 [00:00<00:00, 22.87it/s]\n",
      "Iteration:  83%|████████▎ | 15/18 [00:00<00:00, 22.98it/s]"
     ]
    },
    {
     "name": "stdout",
     "output_type": "stream",
     "text": [
      "{'Train':  best_epoch_indx:45\n",
      " auc:0.9954276321469765 \n",
      " apur:0.9937684212811487 \n",
      " f1:0.9573991031390134 \n",
      " precision:0.9372027801487623 \n",
      " recall:0.9784850413749204 \n",
      ", 'Validation':  best_epoch_indx:45\n",
      " auc:0.9583323691284745 \n",
      " apur:0.9455802043503891 \n",
      " f1:0.8863892013498312 \n",
      " precision:0.8707182320441988 \n",
      " recall:0.9026345933562429 \n",
      ", 'Test':  best_epoch_indx:45\n",
      " auc:0.9613268516497545 \n",
      " apur:0.9519216467610399 \n",
      " f1:0.8858939802336029 \n",
      " precision:0.8687224669603524 \n",
      " recall:0.9037580201649863 \n",
      "}\n",
      "=====Epoch 46\n",
      "Training...\n"
     ]
    },
    {
     "name": "stderr",
     "output_type": "stream",
     "text": [
      "Iteration:  39%|███▊      | 24/62 [00:01<00:01, 23.23it/s]\n",
      "Iteration:  26%|██▌       | 16/62 [00:01<00:04,  9.67it/s]\n",
      "Iteration:  27%|██▋       | 17/62 [00:01<00:04,  9.65it/s]"
     ]
    },
    {
     "name": "stdout",
     "output_type": "stream",
     "text": [
      "{'Train':  best_epoch_indx:45\n",
      " auc:0.9939284149591552 \n",
      " apur:0.9919000657580734 \n",
      " f1:0.9554156171284633 \n",
      " precision:0.9452959501557633 \n",
      " recall:0.9657542966263526 \n",
      ", 'Validation':  best_epoch_indx:45\n",
      " auc:0.9515998087017562 \n",
      " apur:0.9396131673148199 \n",
      " f1:0.8620492272467086 \n",
      " precision:0.8615560640732265 \n",
      " recall:0.8625429553264605 \n",
      ", 'Test':  best_epoch_indx:45\n",
      " auc:0.9549290645532625 \n",
      " apur:0.9422502864015282 \n",
      " f1:0.8706681766704417 \n",
      " precision:0.8607254814151366 \n",
      " recall:0.8808432630614116 \n",
      "}\n",
      "=====Epoch 46\n",
      "Training...\n"
     ]
    },
    {
     "name": "stderr",
     "output_type": "stream",
     "text": [
      "Iteration: 100%|██████████| 62/62 [00:05<00:00, 10.97it/s]\n",
      "Iteration:  19%|█▉        | 12/62 [00:00<00:03, 12.58it/s]"
     ]
    },
    {
     "name": "stdout",
     "output_type": "stream",
     "text": [
      "Evaluating...\n"
     ]
    },
    {
     "name": "stderr",
     "output_type": "stream",
     "text": [
      "Iteration:  15%|█▍        | 9/62 [00:00<00:02, 20.92it/s]]\n",
      "Iteration:  61%|██████▏   | 38/62 [00:03<00:02,  9.64it/s]\n",
      "Iteration:  66%|██████▌   | 41/62 [00:04<00:02,  9.62it/s]\n",
      "Iteration:  58%|█████▊    | 36/62 [00:01<00:01, 20.92it/s]"
     ]
    },
    {
     "name": "stdout",
     "output_type": "stream",
     "text": [
      "{'Train':  best_epoch_indx:45\n",
      " auc:0.9956746907673519 \n",
      " apur:0.9940564861626155 \n",
      " f1:0.9638399999999999 \n",
      " precision:0.9691119691119691 \n",
      " recall:0.9586250795671547 \n",
      ", 'Validation':  best_epoch_indx:45\n",
      " auc:0.9600163529144056 \n",
      " apur:0.9483631671861336 \n",
      " f1:0.8777062609713283 \n",
      " precision:0.8971291866028708 \n",
      " recall:0.8591065292096219 \n",
      ", 'Test':  best_epoch_indx:45\n",
      " auc:0.9610166650253043 \n",
      " apur:0.9472769851496349 \n",
      " f1:0.8841321544904608 \n",
      " precision:0.8979206049149339 \n",
      " recall:0.8707607699358387 \n",
      "}\n",
      "=====Epoch 46\n",
      "Training...\n"
     ]
    },
    {
     "name": "stderr",
     "output_type": "stream",
     "text": [
      "Iteration:  89%|████████▊ | 55/62 [00:05<00:00,  9.71it/s]\n",
      "Iteration: 100%|██████████| 62/62 [00:06<00:00,  9.62it/s]\n",
      "Iteration:  45%|████▌     | 28/62 [00:02<00:02, 13.03it/s]"
     ]
    },
    {
     "name": "stdout",
     "output_type": "stream",
     "text": [
      "Evaluating...\n",
      "Evaluating...\n"
     ]
    },
    {
     "name": "stderr",
     "output_type": "stream",
     "text": [
      "Iteration: 100%|██████████| 62/62 [00:05<00:00, 11.21it/s]\n",
      "Iteration:   6%|▋         | 4/62 [00:00<00:03, 17.04it/s]]\n",
      "Iteration: 100%|██████████| 62/62 [00:05<00:00, 12.22it/s]\n",
      "Iteration:  13%|█▎        | 8/62 [00:00<00:02, 20.58it/s]]"
     ]
    },
    {
     "name": "stdout",
     "output_type": "stream",
     "text": [
      "Evaluating...\n"
     ]
    },
    {
     "name": "stderr",
     "output_type": "stream",
     "text": [
      "\r",
      "Iteration:  86%|████████▌ | 6/7 [00:00<00:00, 20.80it/s]\r",
      "Iteration: 100%|██████████| 7/7 [00:00<00:00, 21.00it/s]\r",
      "Iteration:  16%|█▌        | 10/62 [00:00<00:03, 17.22it/s]\r",
      "Iteration:  10%|▉         | 6/62 [00:00<00:02, 22.79it/s]\n",
      "\r",
      "Iteration:   0%|          | 0/62 [00:00<?, ?it/s]\r",
      "Iteration:  58%|█████▊    | 36/62 [00:02<00:02, 12.94it/s]\r",
      "Iteration:  18%|█▊        | 11/62 [00:00<00:02, 20.51it/s]\r",
      "Iteration:  19%|█▉        | 12/62 [00:00<00:02, 17.25it/s]"
     ]
    },
    {
     "name": "stdout",
     "output_type": "stream",
     "text": [
      "{'Train':  best_epoch_indx:45\n",
      " auc:0.9948538137750469 \n",
      " apur:0.993055161559544 \n",
      " f1:0.9595177664974619 \n",
      " precision:0.956483238456673 \n",
      " recall:0.9625716104392107 \n",
      ", 'Validation':  best_epoch_indx:45\n",
      " auc:0.9530750421357523 \n",
      " apur:0.9344378819739961 \n",
      " f1:0.8692129629629631 \n",
      " precision:0.8783625730994152 \n",
      " recall:0.8602520045819015 \n",
      ", 'Test':  best_epoch_indx:45\n",
      " auc:0.9567597221394679 \n",
      " apur:0.9450181226017286 \n",
      " f1:0.8787099789670484 \n",
      " precision:0.8965188364329996 \n",
      " recall:0.8615948670944088 \n",
      "}\n",
      "=====Epoch 46\n",
      "Training...\n"
     ]
    },
    {
     "name": "stderr",
     "output_type": "stream",
     "text": [
      "Iteration: 100%|██████████| 62/62 [00:04<00:00, 12.95it/s]\n",
      "Iteration:  85%|████████▌ | 53/62 [00:02<00:00, 21.22it/s]"
     ]
    },
    {
     "name": "stdout",
     "output_type": "stream",
     "text": [
      "Evaluating...\n"
     ]
    },
    {
     "name": "stderr",
     "output_type": "stream",
     "text": [
      "Iteration:  90%|█████████ | 56/62 [00:03<00:00, 17.71it/s]\n",
      "Iteration:   0%|          | 0/18 [00:00<?, ?it/s]\n",
      "Iteration:  39%|███▊      | 24/62 [00:01<00:01, 22.84it/s]\n",
      "Iteration:  68%|██████▊   | 42/62 [00:03<00:01, 10.82it/s]\n",
      "Iteration:  77%|███████▋  | 48/62 [00:02<00:00, 22.65it/s]\n",
      "Iteration: 100%|██████████| 7/7 [00:00<00:00, 21.99it/s]\n",
      "Iteration:  29%|██▊       | 2/7 [00:00<00:00, 17.49it/s]s]"
     ]
    },
    {
     "name": "stdout",
     "output_type": "stream",
     "text": [
      "{'Train':  best_epoch_indx:46\n",
      " auc:0.9963986342733322 \n",
      " apur:0.9950494147584582 \n",
      " f1:0.9669877970456006 \n",
      " precision:0.9757615035644848 \n",
      " recall:0.9583704646721833 \n",
      ", 'Validation':  best_epoch_indx:46\n",
      " auc:0.960499419548675 \n",
      " apur:0.9491475446875526 \n",
      " f1:0.8811354228267297 \n",
      " precision:0.910757946210269 \n",
      " recall:0.8533791523482245 \n",
      ", 'Test':  best_epoch_indx:46\n",
      " auc:0.9646317786080979 \n",
      " apur:0.9585046305818514 \n",
      " f1:0.8883599143061176 \n",
      " precision:0.924219910846954 \n",
      " recall:0.8551787351054079 \n",
      "}\n",
      "=====Epoch 47\n",
      "Training...\n"
     ]
    },
    {
     "name": "stderr",
     "output_type": "stream",
     "text": [
      "\r",
      "Iteration:   3%|▎         | 2/62 [00:00<00:05, 11.07it/s]\r",
      "Iteration:  57%|█████▋    | 4/7 [00:00<00:00, 17.99it/s]\r",
      "Iteration:  77%|███████▋  | 48/62 [00:04<00:01, 10.85it/s]\r",
      "Iteration:  87%|████████▋ | 54/62 [00:02<00:00, 22.73it/s]\r",
      "Iteration:  86%|████████▌ | 6/7 [00:00<00:00, 18.10it/s]\r",
      "Iteration:  92%|█████████▏| 57/62 [00:02<00:00, 22.84it/s]\r",
      "Iteration: 100%|██████████| 7/7 [00:00<00:00, 18.22it/s]\r",
      "Iteration:   6%|▋         | 4/62 [00:00<00:05, 11.18it/s]\r",
      "Iteration:  81%|████████  | 50/62 [00:04<00:01, 10.91it/s]"
     ]
    },
    {
     "name": "stdout",
     "output_type": "stream",
     "text": [
      "{'Train':  best_epoch_indx:47\n",
      " auc:0.997717761806682 \n",
      " apur:0.9968476381952678 \n",
      " f1:0.9750759109311741 \n",
      " precision:0.969068276122218 \n",
      " recall:0.9811584977721197 \n",
      ", 'Validation':  best_epoch_indx:47\n",
      " auc:0.9636571904613143 \n",
      " apur:0.9571435425439961 \n",
      " f1:0.8900462962962963 \n",
      " precision:0.8994152046783626 \n",
      " recall:0.8808705612829324 \n",
      ", 'Test':  best_epoch_indx:47\n",
      " auc:0.9626895289590064 \n",
      " apur:0.9497439527451406 \n",
      " f1:0.8906715562686226 \n",
      " precision:0.8908757450710684 \n",
      " recall:0.8904674610449129 \n",
      "}\n",
      "=====Epoch 48\n",
      "Training...\n"
     ]
    },
    {
     "name": "stderr",
     "output_type": "stream",
     "text": [
      "\n",
      "Iteration:  13%|█▎        | 8/62 [00:00<00:04, 10.96it/s]]\n",
      "Iteration: 100%|██████████| 62/62 [00:05<00:00, 10.93it/s]\n",
      "Iteration:   5%|▍         | 3/62 [00:00<00:02, 21.46it/s]]"
     ]
    },
    {
     "name": "stdout",
     "output_type": "stream",
     "text": [
      "Evaluating...\n"
     ]
    },
    {
     "name": "stderr",
     "output_type": "stream",
     "text": [
      "Iteration:  10%|▉         | 6/62 [00:00<00:02, 21.52it/s]]\n",
      "Iteration: 100%|██████████| 7/7 [00:00<00:00, 23.01it/s]s]\n",
      "Iteration:  29%|██▉       | 18/62 [00:00<00:02, 21.68it/s]"
     ]
    },
    {
     "name": "stdout",
     "output_type": "stream",
     "text": [
      "{'Train':  best_epoch_indx:46\n",
      " auc:0.9963576553278882 \n",
      " apur:0.9948811422336264 \n",
      " f1:0.964299182903834 \n",
      " precision:0.9523277467411546 \n",
      " recall:0.9765754296626352 \n",
      ", 'Validation':  best_epoch_indx:46\n",
      " auc:0.9563388755828619 \n",
      " apur:0.9440793130593159 \n",
      " f1:0.8767123287671232 \n",
      " precision:0.8737201365187713 \n",
      " recall:0.8797250859106529 \n",
      ", 'Test':  best_epoch_indx:46\n",
      " auc:0.9608182351145151 \n",
      " apur:0.9462311890056502 \n",
      " f1:0.8870822041553749 \n",
      " precision:0.8744434550311665 \n",
      " recall:0.9000916590284143 \n",
      "}\n",
      "=====Epoch 47\n",
      "Training...\n"
     ]
    },
    {
     "name": "stderr",
     "output_type": "stream",
     "text": [
      "Iteration:  65%|██████▍   | 40/62 [00:03<00:01, 11.01it/s]\n",
      "Iteration:  45%|████▌     | 28/62 [00:02<00:02, 12.51it/s]\n",
      "Iteration:   0%|          | 0/62 [00:00<?, ?it/s]\n",
      "Iteration:  74%|███████▍  | 46/62 [00:04<00:01, 10.96it/s]"
     ]
    },
    {
     "name": "stdout",
     "output_type": "stream",
     "text": [
      "{'Train':  best_epoch_indx:46\n",
      " auc:0.9969071102858975 \n",
      " apur:0.9956843613493427 \n",
      " f1:0.969012670932129 \n",
      " precision:0.9551131445529862 \n",
      " recall:0.9833227243793762 \n",
      ", 'Validation':  best_epoch_indx:46\n",
      " auc:0.9565384659886379 \n",
      " apur:0.9451491027035518 \n",
      " f1:0.8788221970554926 \n",
      " precision:0.8689809630459127 \n",
      " recall:0.8888888888888888 \n",
      ", 'Test':  best_epoch_indx:46\n",
      " auc:0.9603100976153222 \n",
      " apur:0.9514762593915033 \n",
      " f1:0.8831344291826166 \n",
      " precision:0.868083222664896 \n",
      " recall:0.8987167736021998 \n",
      "}\n",
      "=====Epoch 47\n",
      "Training...\n"
     ]
    },
    {
     "name": "stderr",
     "output_type": "stream",
     "text": [
      "Iteration: 100%|██████████| 62/62 [00:05<00:00, 11.86it/s]\n",
      "Iteration:  16%|█▌        | 10/62 [00:00<00:04, 11.46it/s]"
     ]
    },
    {
     "name": "stdout",
     "output_type": "stream",
     "text": [
      "Evaluating...\n"
     ]
    },
    {
     "name": "stderr",
     "output_type": "stream",
     "text": [
      "Iteration:  15%|█▍        | 9/62 [00:00<00:02, 21.47it/s]]\n",
      "Iteration: 100%|██████████| 62/62 [00:05<00:00, 11.08it/s]\n",
      "Iteration:  77%|███████▋  | 48/62 [00:03<00:01, 12.64it/s]\n",
      "Iteration:   0%|          | 0/62 [00:00<?, ?it/s]"
     ]
    },
    {
     "name": "stdout",
     "output_type": "stream",
     "text": [
      "Evaluating...\n",
      "{'Train':  best_epoch_indx:46\n",
      " auc:0.997094103307195 \n",
      " apur:0.9960379097131086 \n",
      " f1:0.9689448818897638 \n",
      " precision:0.9589775561097257 \n",
      " recall:0.9791215786123488 \n",
      ", 'Validation':  best_epoch_indx:46\n",
      " auc:0.9574544606045178 \n",
      " apur:0.9371708170043399 \n",
      " f1:0.8779931584948689 \n",
      " precision:0.8740068104426788 \n",
      " recall:0.8820160366552119 \n",
      ", 'Test':  best_epoch_indx:46\n",
      " auc:0.9604439890478421 \n",
      " apur:0.9490222989286524 \n",
      " f1:0.8853517877739331 \n",
      " precision:0.8913144449605203 \n",
      " recall:0.879468377635197 \n",
      "}\n",
      "=====Epoch 47\n",
      "Training...\n"
     ]
    },
    {
     "name": "stderr",
     "output_type": "stream",
     "text": [
      "Iteration: 100%|██████████| 62/62 [00:04<00:00, 12.56it/s]\n",
      "Iteration:  52%|█████▏    | 32/62 [00:02<00:02, 11.58it/s]"
     ]
    },
    {
     "name": "stdout",
     "output_type": "stream",
     "text": [
      "Evaluating...\n"
     ]
    },
    {
     "name": "stderr",
     "output_type": "stream",
     "text": [
      "Iteration:  77%|███████▋  | 48/62 [00:02<00:00, 19.25it/s]\n",
      "Iteration: 100%|██████████| 18/18 [00:00<00:00, 22.75it/s]\n",
      "Iteration: 100%|██████████| 62/62 [00:05<00:00, 11.32it/s]\n",
      "Iteration:   5%|▍         | 3/62 [00:00<00:02, 21.16it/s]]\n",
      "Iteration:   0%|          | 0/18 [00:00<?, ?it/s]"
     ]
    },
    {
     "name": "stdout",
     "output_type": "stream",
     "text": [
      "Evaluating...\n"
     ]
    },
    {
     "name": "stderr",
     "output_type": "stream",
     "text": [
      "Iteration: 100%|██████████| 62/62 [00:05<00:00, 11.60it/s]\n",
      "Iteration:   0%|          | 0/62 [00:00<?, ?it/s]"
     ]
    },
    {
     "name": "stdout",
     "output_type": "stream",
     "text": [
      "Evaluating...\n"
     ]
    },
    {
     "name": "stderr",
     "output_type": "stream",
     "text": [
      "Iteration:  53%|█████▎    | 33/62 [00:01<00:01, 21.04it/s]\n",
      "Iteration:  87%|████████▋ | 54/62 [00:02<00:00, 20.57it/s]\n",
      "Iteration: 100%|██████████| 7/7 [00:00<00:00, 21.93it/s]s]\n",
      "Iteration:   0%|          | 0/62 [00:00<?, ?it/s]\n",
      "Iteration:   0%|          | 0/18 [00:00<?, ?it/s]"
     ]
    },
    {
     "name": "stdout",
     "output_type": "stream",
     "text": [
      "{'Train':  best_epoch_indx:47\n",
      " auc:0.9980512314226697 \n",
      " apur:0.9973398936259017 \n",
      " f1:0.9762235993423548 \n",
      " precision:0.9698454579721071 \n",
      " recall:0.9826861871419478 \n",
      ", 'Validation':  best_epoch_indx:47\n",
      " auc:0.9598929346924765 \n",
      " apur:0.947074959333514 \n",
      " f1:0.8904031800113572 \n",
      " precision:0.8828828828828829 \n",
      " recall:0.8980526918671249 \n",
      ", 'Test':  best_epoch_indx:47\n",
      " auc:0.9679608629223639 \n",
      " apur:0.9620370638979492 \n",
      " f1:0.9005955107650024 \n",
      " precision:0.9001831501831502 \n",
      " recall:0.9010082493125573 \n",
      "}\n",
      "=====Epoch 48\n",
      "Training...\n"
     ]
    },
    {
     "name": "stderr",
     "output_type": "stream",
     "text": [
      "Iteration:   6%|▋         | 4/62 [00:00<00:05, 11.00it/s]\n",
      "Iteration:  83%|████████▎ | 15/18 [00:00<00:00, 22.81it/s]\n",
      "Iteration: 100%|██████████| 18/18 [00:00<00:00, 23.03it/s]"
     ]
    },
    {
     "name": "stdout",
     "output_type": "stream",
     "text": [
      "{'Train':  best_epoch_indx:48\n",
      " auc:0.9988625700680765 \n",
      " apur:0.9983878364201453 \n",
      " f1:0.9819905213270143 \n",
      " precision:0.9749058971141782 \n",
      " recall:0.9891788669637174 \n",
      ", 'Validation':  best_epoch_indx:48\n",
      " auc:0.9683933647278435 \n",
      " apur:0.9618337474083241 \n",
      " f1:0.8983833718244804 \n",
      " precision:0.9057043073341094 \n",
      " recall:0.8911798396334479 \n",
      ", 'Test':  best_epoch_indx:48\n",
      " auc:0.9678865495776586 \n",
      " apur:0.956803479445564 \n",
      " f1:0.8952510793001591 \n",
      " precision:0.8877872915727806 \n",
      " recall:0.9028414298808433 \n",
      "}\n",
      "=====Epoch 49\n",
      "Training...\n"
     ]
    },
    {
     "name": "stderr",
     "output_type": "stream",
     "text": [
      "Iteration:  19%|█▉        | 12/62 [00:01<00:04, 10.67it/s]\n",
      "Iteration: 100%|██████████| 7/7 [00:00<00:00, 21.75it/s]s]\n",
      "Iteration:  16%|█▌        | 10/62 [00:00<00:04, 12.35it/s]"
     ]
    },
    {
     "name": "stdout",
     "output_type": "stream",
     "text": [
      "{'Train':  best_epoch_indx:47\n",
      " auc:0.998151255300259 \n",
      " apur:0.9974361424737521 \n",
      " f1:0.9744715549143825 \n",
      " precision:0.960435212660732 \n",
      " recall:0.988924252068746 \n",
      ", 'Validation':  best_epoch_indx:47\n",
      " auc:0.9626843077587638 \n",
      " apur:0.9512241208716694 \n",
      " f1:0.8873873873873873 \n",
      " precision:0.8726467331118494 \n",
      " recall:0.9026345933562429 \n",
      ", 'Test':  best_epoch_indx:47\n",
      " auc:0.9660252644265723 \n",
      " apur:0.953637996659371 \n",
      " f1:0.8898324022346369 \n",
      " precision:0.8682948102921937 \n",
      " recall:0.9124656278643446 \n",
      "}\n",
      "=====Epoch 48\n",
      "Training...\n"
     ]
    },
    {
     "name": "stderr",
     "output_type": "stream",
     "text": [
      "Iteration:  68%|██████▊   | 42/62 [00:03<00:01, 12.47it/s]\n",
      "Iteration:  74%|███████▍  | 46/62 [00:03<00:01, 12.47it/s]\n",
      "Iteration:   0%|          | 0/62 [00:00<?, ?it/s]"
     ]
    },
    {
     "name": "stdout",
     "output_type": "stream",
     "text": [
      "{'Train':  best_epoch_indx:47\n",
      " auc:0.9981363733241768 \n",
      " apur:0.9974000637927767 \n",
      " f1:0.9742109556378238 \n",
      " precision:0.9605295718881465 \n",
      " recall:0.9882877148313176 \n",
      ", 'Validation':  best_epoch_indx:47\n",
      " auc:0.9599503048815763 \n",
      " apur:0.9461208204056184 \n",
      " f1:0.8862745098039215 \n",
      " precision:0.8673245614035088 \n",
      " recall:0.9060710194730813 \n",
      ", 'Test':  best_epoch_indx:47\n",
      " auc:0.9625974841602705 \n",
      " apur:0.952366835504354 \n",
      " f1:0.8828386520865878 \n",
      " precision:0.8603740756850805 \n",
      " recall:0.9065077910174152 \n",
      "}\n",
      "=====Epoch 48\n",
      "Training...\n"
     ]
    },
    {
     "name": "stderr",
     "output_type": "stream",
     "text": [
      "Iteration:  94%|█████████▎| 58/62 [00:04<00:00, 12.03it/s]\n",
      "Iteration: 100%|██████████| 62/62 [00:05<00:00, 12.10it/s]\n",
      "Iteration: 100%|██████████| 62/62 [00:05<00:00, 10.36it/s]\n",
      "Iteration:   0%|          | 0/62 [00:00<?, ?it/s]\n",
      "Iteration:  29%|██▉       | 18/62 [00:01<00:03, 11.41it/s]"
     ]
    },
    {
     "name": "stdout",
     "output_type": "stream",
     "text": [
      "Evaluating...\n",
      "Evaluating...\n",
      "{'Train':  best_epoch_indx:47\n",
      " auc:0.9986525417723839 \n",
      " apur:0.998183412659877 \n",
      " f1:0.9777749795378705 \n",
      " precision:0.9672396611858495 \n",
      " recall:0.988542329726289 \n",
      ", 'Validation':  best_epoch_indx:47\n",
      " auc:0.9627894060883752 \n",
      " apur:0.9448640047524586 \n",
      " f1:0.8847245883021011 \n",
      " precision:0.8772522522522522 \n",
      " recall:0.8923253150057274 \n",
      ", 'Test':  best_epoch_indx:47\n",
      " auc:0.963770757960582 \n",
      " apur:0.9529491253640782 \n",
      " f1:0.8935100548446069 \n",
      " precision:0.8910665451230629 \n",
      " recall:0.8959670027497708 \n",
      "}\n",
      "=====Epoch 48\n",
      "Training...\n"
     ]
    },
    {
     "name": "stderr",
     "output_type": "stream",
     "text": [
      "Iteration: 100%|██████████| 62/62 [00:04<00:00, 12.50it/s]\n",
      "Iteration:  24%|██▍       | 15/62 [00:00<00:02, 21.13it/s]"
     ]
    },
    {
     "name": "stdout",
     "output_type": "stream",
     "text": [
      "Evaluating...\n"
     ]
    },
    {
     "name": "stderr",
     "output_type": "stream",
     "text": [
      "Iteration:  97%|█████████▋| 60/62 [00:02<00:00, 21.83it/s]\n",
      "Iteration:  92%|█████████▏| 57/62 [00:02<00:00, 22.85it/s]\n",
      "Iteration:  61%|██████▏   | 38/62 [00:03<00:02, 11.45it/s]\n",
      "Iteration: 100%|██████████| 62/62 [00:05<00:00, 11.28it/s]\n",
      "Iteration:  74%|███████▍  | 46/62 [00:04<00:01, 10.99it/s]"
     ]
    },
    {
     "name": "stdout",
     "output_type": "stream",
     "text": [
      "Evaluating...\n"
     ]
    },
    {
     "name": "stderr",
     "output_type": "stream",
     "text": [
      "Iteration: 100%|██████████| 62/62 [00:05<00:00, 11.24it/s]\n",
      "Iteration:  53%|█████▎    | 33/62 [00:01<00:01, 21.22it/s]"
     ]
    },
    {
     "name": "stdout",
     "output_type": "stream",
     "text": [
      "Evaluating...\n"
     ]
    },
    {
     "name": "stderr",
     "output_type": "stream",
     "text": [
      "Iteration:  47%|████▋     | 29/62 [00:01<00:01, 20.25it/s]\n",
      "Iteration: 100%|██████████| 18/18 [00:00<00:00, 21.28it/s]\n",
      "Iteration: 100%|██████████| 7/7 [00:00<00:00, 20.08it/s]s]\n",
      "Iteration:   0%|          | 0/7 [00:00<?, ?it/s]\n",
      "Iteration:  29%|██▊       | 2/7 [00:00<00:00, 17.65it/s]s]"
     ]
    },
    {
     "name": "stdout",
     "output_type": "stream",
     "text": [
      "{'Train':  best_epoch_indx:48\n",
      " auc:0.9984143439965381 \n",
      " apur:0.9978002028354963 \n",
      " f1:0.9785882203443675 \n",
      " precision:0.9767884322678844 \n",
      " recall:0.9803946530872056 \n",
      ", 'Validation':  best_epoch_indx:48\n",
      " auc:0.9581226545716809 \n",
      " apur:0.9454554488062831 \n",
      " f1:0.8782201405152225 \n",
      " precision:0.8982035928143712 \n",
      " recall:0.8591065292096219 \n",
      ", 'Test':  best_epoch_indx:48\n",
      " auc:0.9622374061420809 \n",
      " apur:0.9519530001835648 \n",
      " f1:0.8821611551001397 \n",
      " precision:0.896780303030303 \n",
      " recall:0.8680109990834097 \n",
      "}\n",
      "=====Epoch 49\n",
      "Training...\n"
     ]
    },
    {
     "name": "stderr",
     "output_type": "stream",
     "text": [
      "\r",
      "Iteration:  57%|█████▋    | 4/7 [00:00<00:00, 17.39it/s]\r",
      "Iteration: 100%|██████████| 62/62 [00:03<00:00, 19.90it/s]\r",
      "Iteration: 100%|██████████| 62/62 [00:03<00:00, 20.16it/s]\r",
      "Iteration:   3%|▎         | 2/62 [00:00<00:06,  9.50it/s]\n",
      "\r",
      "Iteration:   0%|          | 0/7 [00:00<?, ?it/s]\r",
      "Iteration:  86%|████████▌ | 6/7 [00:00<00:00, 17.89it/s]\r",
      "Iteration: 100%|██████████| 7/7 [00:00<00:00, 18.22it/s]\r",
      "Iteration:  43%|████▎     | 3/7 [00:00<00:00, 21.73it/s]\n",
      "\r",
      "Iteration:   0%|          | 0/18 [00:00<?, ?it/s]\n",
      "\r",
      "Iteration:   0%|          | 0/62 [00:00<?, ?it/s]"
     ]
    },
    {
     "name": "stdout",
     "output_type": "stream",
     "text": [
      "{'Train':  best_epoch_indx:49\n",
      " auc:0.9991548745895396 \n",
      " apur:0.9987725672190675 \n",
      " f1:0.9849652558433354 \n",
      " precision:0.9775548589341693 \n",
      " recall:0.992488860598345 \n",
      ", 'Validation':  best_epoch_indx:49\n",
      " auc:0.9682284856969852 \n",
      " apur:0.9616061536452293 \n",
      " f1:0.8936170212765956 \n",
      " precision:0.8972286374133949 \n",
      " recall:0.8900343642611683 \n",
      ", 'Test':  best_epoch_indx:49\n",
      " auc:0.9684595728133767 \n",
      " apur:0.9579156433465755 \n",
      " f1:0.8993624772313298 \n",
      " precision:0.8936651583710408 \n",
      " recall:0.9051329055912007 \n",
      "}\n",
      "=====Epoch 50\n",
      "Training...\n",
      "{'Train':  best_epoch_indx:48\n",
      " auc:0.9986798015242359 \n",
      " apur:0.9981556442429802 \n",
      " f1:0.9793146809179504 \n",
      " precision:0.9674534161490683 \n",
      " recall:0.9914704010184596 \n",
      ", 'Validation':  best_epoch_indx:48\n",
      " auc:0.962486163660276 \n",
      " apur:0.9498591120863502 \n",
      " f1:0.8921185019564002 \n",
      " precision:0.87117903930131 \n",
      " recall:0.9140893470790378 \n",
      ", 'Test':  best_epoch_indx:48\n",
      " auc:0.9684665466156701 \n",
      " apur:0.9622424568507628 \n",
      " f1:0.8977556109725685 \n",
      " precision:0.8882907133243607 \n",
      " recall:0.9074243813015582 \n",
      "}\n",
      "=====Epoch 49\n",
      "Training...\n"
     ]
    },
    {
     "name": "stderr",
     "output_type": "stream",
     "text": [
      "Iteration:   3%|▎         | 2/62 [00:00<00:05, 11.90it/s]\n",
      "Iteration:  10%|▉         | 6/62 [00:00<00:05, 10.16it/s]\n",
      "Iteration:   6%|▋         | 4/62 [00:00<00:05, 11.35it/s]]\n",
      "Iteration:  13%|█▎        | 8/62 [00:00<00:04, 12.20it/s]]"
     ]
    },
    {
     "name": "stdout",
     "output_type": "stream",
     "text": [
      "{'Train':  best_epoch_indx:48\n",
      " auc:0.9990242342647577 \n",
      " apur:0.9986040816094381 \n",
      " f1:0.9847831600304338 \n",
      " precision:0.9809271188581533 \n",
      " recall:0.9886696371737747 \n",
      ", 'Validation':  best_epoch_indx:48\n",
      " auc:0.9640120178493604 \n",
      " apur:0.9510984793185426 \n",
      " f1:0.8870779976717112 \n",
      " precision:0.901775147928994 \n",
      " recall:0.872852233676976 \n",
      ", 'Test':  best_epoch_indx:48\n",
      " auc:0.9675359095622686 \n",
      " apur:0.9549123736436603 \n",
      " f1:0.8968692449355433 \n",
      " precision:0.9010175763182239 \n",
      " recall:0.8927589367552704 \n",
      "}\n",
      "=====Epoch 49\n",
      "Training...\n"
     ]
    },
    {
     "name": "stderr",
     "output_type": "stream",
     "text": [
      "Iteration: 100%|██████████| 62/62 [00:05<00:00, 12.20it/s]\n",
      "Iteration:   0%|          | 0/62 [00:00<?, ?it/s]"
     ]
    },
    {
     "name": "stdout",
     "output_type": "stream",
     "text": [
      "Evaluating...\n"
     ]
    },
    {
     "name": "stderr",
     "output_type": "stream",
     "text": [
      "Iteration:  90%|█████████ | 56/62 [00:05<00:00,  9.54it/s]\n",
      "Iteration: 100%|██████████| 7/7 [00:00<00:00, 22.41it/s]s]\n",
      "Iteration: 100%|██████████| 62/62 [00:05<00:00, 11.80it/s]\n",
      "Iteration:   0%|          | 0/62 [00:00<?, ?it/s]"
     ]
    },
    {
     "name": "stdout",
     "output_type": "stream",
     "text": [
      "{'Train':  best_epoch_indx:48\n",
      " auc:0.9990397279026604 \n",
      " apur:0.9986672067228184 \n",
      " f1:0.9823744177263 \n",
      " precision:0.9716100112065745 \n",
      " recall:0.9933800127307447 \n",
      ", 'Validation':  best_epoch_indx:48\n",
      " auc:0.9659529622301672 \n",
      " apur:0.9444399123982612 \n",
      " f1:0.8935447338618346 \n",
      " precision:0.883538633818589 \n",
      " recall:0.9037800687285223 \n",
      ", 'Test':  best_epoch_indx:48\n",
      " auc:0.9657353761555011 \n",
      " apur:0.9547481532695945 \n",
      " f1:0.9010989010989011 \n",
      " precision:0.9002744739249772 \n",
      " recall:0.9019248395967002 \n",
      "}\n",
      "=====Epoch 49\n",
      "Training...\n",
      "Evaluating...\n",
      "Evaluating...\n"
     ]
    },
    {
     "name": "stderr",
     "output_type": "stream",
     "text": [
      "Iteration: 100%|██████████| 62/62 [00:06<00:00,  9.94it/s]\n",
      "Iteration: 100%|██████████| 62/62 [00:06<00:00,  9.10it/s]\n",
      "Iteration:  44%|████▎     | 27/62 [00:01<00:01, 21.13it/s]"
     ]
    },
    {
     "name": "stdout",
     "output_type": "stream",
     "text": [
      "Evaluating...\n"
     ]
    },
    {
     "name": "stderr",
     "output_type": "stream",
     "text": [
      "Iteration:  32%|███▏      | 20/62 [00:01<00:02, 19.32it/s]\n",
      "Iteration: 100%|██████████| 62/62 [00:02<00:00, 20.99it/s]\n",
      "Iteration:  17%|█▋        | 3/18 [00:00<00:00, 22.68it/s]]\n",
      "Iteration:  84%|████████▍ | 52/62 [00:04<00:01,  9.60it/s]\n",
      "Iteration: 100%|██████████| 62/62 [00:05<00:00, 11.23it/s]\n",
      "Iteration:   0%|          | 0/62 [00:00<?, ?it/s]"
     ]
    },
    {
     "name": "stdout",
     "output_type": "stream",
     "text": [
      "Evaluating...\n"
     ]
    },
    {
     "name": "stderr",
     "output_type": "stream",
     "text": [
      "Iteration:  90%|█████████ | 56/62 [00:02<00:00, 20.94it/s]\n",
      "Iteration: 100%|██████████| 7/7 [00:00<00:00, 19.30it/s]s]\n",
      "Iteration:   0%|          | 0/62 [00:00<?, ?it/s]"
     ]
    },
    {
     "name": "stdout",
     "output_type": "stream",
     "text": [
      "{'Train':  best_epoch_indx:50\n",
      " auc:0.9992546160264343 \n",
      " apur:0.9989332183414229 \n",
      " f1:0.9866632956197458 \n",
      " precision:0.9797891036906854 \n",
      " recall:0.9936346276257161 \n",
      ", 'Validation':  best_epoch_indx:50\n",
      " auc:0.9681166379333619 \n",
      " apur:0.961859168497508 \n",
      " f1:0.8949771689497716 \n",
      " precision:0.8919226393629124 \n",
      " recall:0.8980526918671249 \n",
      ", 'Test':  best_epoch_indx:50\n",
      " auc:0.9687845457323001 \n",
      " apur:0.9576156347167065 \n",
      " f1:0.9011088481556914 \n",
      " precision:0.8900312919088065 \n",
      " recall:0.9124656278643446 \n",
      "}\n",
      "=====Epoch 51\n",
      "Training...\n"
     ]
    },
    {
     "name": "stderr",
     "output_type": "stream",
     "text": [
      "\n",
      "Iteration:  17%|█▋        | 3/18 [00:00<00:00, 20.57it/s]\n",
      "Iteration:  29%|██▊       | 2/7 [00:00<00:00, 18.00it/s]]\n",
      "Iteration: 100%|██████████| 7/7 [00:00<00:00, 18.58it/s]s]\n",
      "Iteration:  13%|█▎        | 8/62 [00:00<00:04, 11.37it/s]"
     ]
    },
    {
     "name": "stdout",
     "output_type": "stream",
     "text": [
      "{'Train':  best_epoch_indx:49\n",
      " auc:0.9994149633291433 \n",
      " apur:0.9991854788164856 \n",
      " f1:0.9875886524822695 \n",
      " precision:0.9824870858006803 \n",
      " recall:0.9927434754933163 \n",
      ", 'Validation':  best_epoch_indx:49\n",
      " auc:0.966619709890042 \n",
      " apur:0.9536220503733647 \n",
      " f1:0.8931253610629692 \n",
      " precision:0.9009324009324009 \n",
      " recall:0.8854524627720504 \n",
      ", 'Test':  best_epoch_indx:49\n",
      " auc:0.9688620943763838 \n",
      " apur:0.9572718859768552 \n",
      " f1:0.9001823154056517 \n",
      " precision:0.8952855847688124 \n",
      " recall:0.9051329055912007 \n",
      "}\n",
      "=====Epoch 50\n",
      "Training...\n",
      "{'Train':  best_epoch_indx:49\n",
      " auc:0.9989793132246164 \n",
      " apur:0.9985450588846259 \n",
      " f1:0.982536066818527 \n",
      " precision:0.97672663228079 \n",
      " recall:0.9884150222788033 \n",
      ", 'Validation':  best_epoch_indx:49\n",
      " auc:0.961458803383202 \n",
      " apur:0.9505400657010191 \n",
      " f1:0.8811028144744399 \n",
      " precision:0.8836405529953917 \n",
      " recall:0.8785796105383734 \n",
      ", 'Test':  best_epoch_indx:49\n",
      " auc:0.9642319158588636 \n",
      " apur:0.9542341853043435 \n",
      " f1:0.8872593950504125 \n",
      " precision:0.8872593950504125 \n",
      " recall:0.8872593950504125 \n",
      "}\n",
      "=====Epoch 50\n",
      "Training...\n"
     ]
    },
    {
     "name": "stderr",
     "output_type": "stream",
     "text": [
      "Iteration: 100%|██████████| 7/7 [00:00<00:00, 20.87it/s]s]\n",
      "Iteration:  35%|███▌      | 22/62 [00:01<00:03, 12.31it/s]\n",
      "Iteration: 100%|██████████| 7/7 [00:00<00:00, 18.37it/s]s]\n",
      "Iteration:   0%|          | 0/62 [00:00<?, ?it/s]"
     ]
    },
    {
     "name": "stdout",
     "output_type": "stream",
     "text": [
      "{'Train':  best_epoch_indx:49\n",
      " auc:0.9991830708485597 \n",
      " apur:0.9988731817263509 \n",
      " f1:0.9841209590687671 \n",
      " precision:0.9781187122736419 \n",
      " recall:0.9901973265436028 \n",
      ", 'Validation':  best_epoch_indx:49\n",
      " auc:0.965377331929451 \n",
      " apur:0.9534611335903442 \n",
      " f1:0.8963553530751708 \n",
      " precision:0.8912797281993206 \n",
      " recall:0.9014891179839634 \n",
      ", 'Test':  best_epoch_indx:49\n",
      " auc:0.9726851310162237 \n",
      " apur:0.9667557463039818 \n",
      " f1:0.9064649243466301 \n",
      " precision:0.9068807339449542 \n",
      " recall:0.9060494958753437 \n",
      "}\n",
      "=====Epoch 50\n",
      "Training...\n"
     ]
    },
    {
     "name": "stderr",
     "output_type": "stream",
     "text": [
      "Iteration: 100%|██████████| 62/62 [00:05<00:00, 12.26it/s]\n",
      "Iteration:  74%|███████▍  | 46/62 [00:04<00:01, 10.27it/s]"
     ]
    },
    {
     "name": "stdout",
     "output_type": "stream",
     "text": [
      "Evaluating...\n"
     ]
    },
    {
     "name": "stderr",
     "output_type": "stream",
     "text": [
      "Iteration:  50%|█████     | 31/62 [00:03<00:03,  9.94it/s]\n",
      "Iteration: 100%|██████████| 62/62 [00:05<00:00, 12.27it/s]\n",
      "Iteration:   0%|          | 0/62 [00:00<?, ?it/s]\n",
      "Iteration:   3%|▎         | 2/62 [00:00<00:05, 11.48it/s]]"
     ]
    },
    {
     "name": "stdout",
     "output_type": "stream",
     "text": [
      "Evaluating...\n",
      "{'Train':  best_epoch_indx:49\n",
      " auc:0.9993737878848327 \n",
      " apur:0.9991384832472574 \n",
      " f1:0.9864779476810313 \n",
      " precision:0.979299962363568 \n",
      " recall:0.9937619350732018 \n",
      ", 'Validation':  best_epoch_indx:49\n",
      " auc:0.9659428380791497 \n",
      " apur:0.9482168532107885 \n",
      " f1:0.8904188181296614 \n",
      " precision:0.8919540229885058 \n",
      " recall:0.8888888888888888 \n",
      ", 'Test':  best_epoch_indx:49\n",
      " auc:0.9664926668146465 \n",
      " apur:0.9566151977822503 \n",
      " f1:0.9000692360950843 \n",
      " precision:0.9065550906555091 \n",
      " recall:0.8936755270394133 \n",
      "}\n",
      "=====Epoch 50\n",
      "Training...\n"
     ]
    },
    {
     "name": "stderr",
     "output_type": "stream",
     "text": [
      "Iteration: 100%|██████████| 62/62 [00:05<00:00, 10.70it/s]\n",
      "Iteration:  58%|█████▊    | 36/62 [00:01<00:01, 22.67it/s]"
     ]
    },
    {
     "name": "stdout",
     "output_type": "stream",
     "text": [
      "Evaluating...\n"
     ]
    },
    {
     "name": "stderr",
     "output_type": "stream",
     "text": [
      "Iteration:  44%|████▎     | 27/62 [00:01<00:01, 21.92it/s]\n",
      "Iteration: 100%|██████████| 62/62 [00:06<00:00, 10.05it/s]\n",
      "Iteration:  68%|██████▊   | 42/62 [00:01<00:00, 21.96it/s]"
     ]
    },
    {
     "name": "stdout",
     "output_type": "stream",
     "text": [
      "Evaluating...\n"
     ]
    },
    {
     "name": "stderr",
     "output_type": "stream",
     "text": [
      "Iteration:  83%|████████▎ | 15/18 [00:00<00:00, 23.10it/s]\n",
      "Iteration:  17%|█▋        | 3/18 [00:00<00:00, 22.90it/s]]\n",
      "Iteration: 100%|██████████| 7/7 [00:00<00:00, 14.31it/s]s]\n",
      "Iteration:  97%|█████████▋| 60/62 [00:02<00:00, 21.64it/s]"
     ]
    },
    {
     "name": "stdout",
     "output_type": "stream",
     "text": [
      "{'Train':  best_epoch_indx:51\n",
      " auc:0.9990981287448819 \n",
      " apur:0.9986965130960122 \n",
      " f1:0.9856907686463213 \n",
      " precision:0.9804761304950246 \n",
      " recall:0.9909611712285169 \n",
      ", 'Validation':  best_epoch_indx:51\n",
      " auc:0.9661621946845315 \n",
      " apur:0.9589049573363607 \n",
      " f1:0.8923792902850495 \n",
      " precision:0.9066193853427896 \n",
      " recall:0.8785796105383734 \n",
      ", 'Test':  best_epoch_indx:51\n",
      " auc:0.9671051332142072 \n",
      " apur:0.956018209996726 \n",
      " f1:0.8952337094174535 \n",
      " precision:0.8995835261453031 \n",
      " recall:0.8909257561869844 \n",
      "}\n",
      "=====Epoch 52\n",
      "Training...\n"
     ]
    },
    {
     "name": "stderr",
     "output_type": "stream",
     "text": [
      "Iteration:   6%|▋         | 4/62 [00:00<00:04, 12.41it/s]]\n",
      "Iteration: 100%|██████████| 62/62 [00:05<00:00, 11.50it/s]\n",
      "Iteration:  81%|████████  | 50/62 [00:02<00:00, 18.51it/s]"
     ]
    },
    {
     "name": "stdout",
     "output_type": "stream",
     "text": [
      "Evaluating...\n"
     ]
    },
    {
     "name": "stderr",
     "output_type": "stream",
     "text": [
      "Iteration:  52%|█████▏    | 32/62 [00:02<00:02, 12.42it/s]\n",
      "Iteration:  63%|██████▎   | 39/62 [00:01<00:01, 21.82it/s]\n",
      "Iteration: 100%|██████████| 7/7 [00:00<00:00, 18.40it/s]s]\n",
      "Iteration:  81%|████████  | 50/62 [00:04<00:00, 12.19it/s]"
     ]
    },
    {
     "name": "stdout",
     "output_type": "stream",
     "text": [
      "{'Train':  best_epoch_indx:50\n",
      " auc:0.9990465874994567 \n",
      " apur:0.9986898273411513 \n",
      " f1:0.9831322256617602 \n",
      " precision:0.9757963380988212 \n",
      " recall:0.9905792488860599 \n",
      ", 'Validation':  best_epoch_indx:50\n",
      " auc:0.9647284220594644 \n",
      " apur:0.9526761911390865 \n",
      " f1:0.8982376350198976 \n",
      " precision:0.891647855530474 \n",
      " recall:0.9049255441008018 \n",
      ", 'Test':  best_epoch_indx:50\n",
      " auc:0.9702373657028526 \n",
      " apur:0.963928599652803 \n",
      " f1:0.9014340997040747 \n",
      " precision:0.8955223880597015 \n",
      " recall:0.9074243813015582 \n",
      "}\n",
      "=====Epoch 51\n",
      "Training...\n"
     ]
    },
    {
     "name": "stderr",
     "output_type": "stream",
     "text": [
      "Iteration:  94%|█████████▎| 58/62 [00:04<00:00, 12.29it/s]\n",
      "Iteration:  11%|█▏        | 7/62 [00:00<00:05, 10.07it/s]\n",
      "Iteration: 100%|██████████| 62/62 [00:05<00:00, 12.35it/s]\n",
      "Iteration:  33%|███▎      | 6/18 [00:00<00:00, 22.62it/s]"
     ]
    },
    {
     "name": "stdout",
     "output_type": "stream",
     "text": [
      "Evaluating...\n",
      "{'Train':  best_epoch_indx:50\n",
      " auc:0.9994699651482465 \n",
      " apur:0.9992589996768364 \n",
      " f1:0.9892677970407062 \n",
      " precision:0.9869488089204258 \n",
      " recall:0.9915977084659453 \n",
      ", 'Validation':  best_epoch_indx:50\n",
      " auc:0.9672999564179404 \n",
      " apur:0.9555095561957113 \n",
      " f1:0.8877192982456141 \n",
      " precision:0.9068100358422939 \n",
      " recall:0.8694158075601375 \n",
      ", 'Test':  best_epoch_indx:50\n",
      " auc:0.9696717131100195 \n",
      " apur:0.9585013656566187 \n",
      " f1:0.9020511638626413 \n",
      " precision:0.9072786277236903 \n",
      " recall:0.8968835930339139 \n",
      "}\n",
      "=====Epoch 51\n",
      "Training...\n"
     ]
    },
    {
     "name": "stderr",
     "output_type": "stream",
     "text": [
      "\n",
      "Iteration:  27%|██▋       | 17/62 [00:01<00:04,  9.87it/s]\n",
      "Iteration:  34%|███▍      | 21/62 [00:02<00:04,  9.40it/s]\n",
      "Iteration:  35%|███▌      | 22/62 [00:02<00:04,  9.08it/s]"
     ]
    },
    {
     "name": "stdout",
     "output_type": "stream",
     "text": [
      "{'Train':  best_epoch_indx:50\n",
      " auc:0.9992332254215428 \n",
      " apur:0.9989288929270472 \n",
      " f1:0.9839989920624921 \n",
      " precision:0.9739368998628258 \n",
      " recall:0.9942711648631445 \n",
      ", 'Validation':  best_epoch_indx:50\n",
      " auc:0.9613546692584495 \n",
      " apur:0.9490805280804084 \n",
      " f1:0.8873797396717601 \n",
      " precision:0.8769574944071589 \n",
      " recall:0.8980526918671249 \n",
      ", 'Test':  best_epoch_indx:50\n",
      " auc:0.9652274347508079 \n",
      " apur:0.954994315007443 \n",
      " f1:0.8907903625309614 \n",
      " precision:0.8756086764054891 \n",
      " recall:0.9065077910174152 \n",
      "}\n",
      "=====Epoch 51\n",
      "Training...\n"
     ]
    },
    {
     "name": "stderr",
     "output_type": "stream",
     "text": [
      "Iteration:  61%|██████▏   | 38/62 [00:03<00:02,  9.83it/s]\n",
      "Iteration:  47%|████▋     | 29/62 [00:02<00:03, 10.98it/s]\n",
      "Iteration: 100%|██████████| 7/7 [00:00<00:00, 23.50it/s]s]\n",
      "Iteration:  84%|████████▍ | 52/62 [00:04<00:00, 12.61it/s]"
     ]
    },
    {
     "name": "stdout",
     "output_type": "stream",
     "text": [
      "{'Train':  best_epoch_indx:52\n",
      " auc:0.9980174267924115 \n",
      " apur:0.9972324364281786 \n",
      " f1:0.9753241848168199 \n",
      " precision:0.9646370315029261 \n",
      " recall:0.9862507956715468 \n",
      ", 'Validation':  best_epoch_indx:52\n",
      " auc:0.9616555011744016 \n",
      " apur:0.953967650174179 \n",
      " f1:0.8799089356858282 \n",
      " precision:0.8744343891402715 \n",
      " recall:0.8854524627720504 \n",
      ", 'Test':  best_epoch_indx:52\n",
      " auc:0.9637796387338093 \n",
      " apur:0.9515723924225736 \n",
      " f1:0.8902877697841726 \n",
      " precision:0.8737864077669902 \n",
      " recall:0.9074243813015582 \n",
      "}\n",
      "=====Epoch 53\n",
      "Training...\n"
     ]
    },
    {
     "name": "stderr",
     "output_type": "stream",
     "text": [
      "Iteration: 100%|██████████| 62/62 [00:04<00:00, 12.50it/s]\n",
      "Iteration:  95%|█████████▌| 59/62 [00:06<00:00,  9.57it/s]"
     ]
    },
    {
     "name": "stdout",
     "output_type": "stream",
     "text": [
      "Evaluating...\n"
     ]
    },
    {
     "name": "stderr",
     "output_type": "stream",
     "text": [
      "Iteration:  10%|▉         | 6/62 [00:00<00:02, 22.97it/s]]\n",
      "Iteration: 100%|██████████| 62/62 [00:06<00:00,  9.70it/s]\n",
      "Iteration:  29%|██▉       | 18/62 [00:01<00:03, 12.66it/s]"
     ]
    },
    {
     "name": "stdout",
     "output_type": "stream",
     "text": [
      "Evaluating...\n"
     ]
    },
    {
     "name": "stderr",
     "output_type": "stream",
     "text": [
      "\r",
      "Iteration:  86%|████████▌ | 6/7 [00:00<00:00, 22.09it/s]\r",
      "Iteration: 100%|██████████| 7/7 [00:00<00:00, 22.26it/s]\r",
      "Iteration:   6%|▋         | 4/62 [00:00<00:03, 17.89it/s]\n",
      "\r",
      "Iteration:   0%|          | 0/62 [00:00<?, ?it/s]\r",
      "Iteration:  24%|██▍       | 15/62 [00:00<00:02, 22.91it/s]\r",
      "Iteration:  32%|███▏      | 20/62 [00:01<00:03, 12.65it/s]\r",
      "Iteration:  82%|████████▏ | 51/62 [00:04<00:00, 11.27it/s]\r",
      "Iteration:  10%|▉         | 6/62 [00:00<00:03, 18.12it/s]"
     ]
    },
    {
     "name": "stdout",
     "output_type": "stream",
     "text": [
      "{'Train':  best_epoch_indx:50\n",
      " auc:0.9994071807831254 \n",
      " apur:0.9991725862791119 \n",
      " f1:0.9878234398782344 \n",
      " precision:0.9842032099077468 \n",
      " recall:0.9914704010184596 \n",
      ", 'Validation':  best_epoch_indx:50\n",
      " auc:0.9668882409432238 \n",
      " apur:0.9486260621084305 \n",
      " f1:0.8964326812428078 \n",
      " precision:0.900578034682081 \n",
      " recall:0.8923253150057274 \n",
      ", 'Test':  best_epoch_indx:50\n",
      " auc:0.9673190336193215 \n",
      " apur:0.9567534756180764 \n",
      " f1:0.8977881257275901 \n",
      " precision:0.9124467581637482 \n",
      " recall:0.8835930339138405 \n",
      "}\n",
      "=====Epoch 51\n",
      "Training...\n"
     ]
    },
    {
     "name": "stderr",
     "output_type": "stream",
     "text": [
      "Iteration: 100%|██████████| 62/62 [00:05<00:00, 11.24it/s]\n",
      "Iteration:  23%|██▎       | 14/62 [00:01<00:04, 11.56it/s]"
     ]
    },
    {
     "name": "stdout",
     "output_type": "stream",
     "text": [
      "Evaluating...\n"
     ]
    },
    {
     "name": "stderr",
     "output_type": "stream",
     "text": [
      "Iteration:  74%|███████▍  | 46/62 [00:02<00:00, 19.09it/s]\n",
      "Iteration:  73%|███████▎  | 45/62 [00:02<00:00, 21.71it/s]\n",
      "Iteration:  55%|█████▍    | 34/62 [00:03<00:02, 10.35it/s]\n",
      "Iteration: 100%|██████████| 62/62 [00:04<00:00, 12.54it/s]\n",
      "Iteration: 100%|██████████| 7/7 [00:00<00:00, 14.54it/s]]]"
     ]
    },
    {
     "name": "stdout",
     "output_type": "stream",
     "text": [
      "Evaluating...\n"
     ]
    },
    {
     "name": "stderr",
     "output_type": "stream",
     "text": [
      "\r",
      "Iteration:  44%|████▍     | 8/18 [00:00<00:00, 19.40it/s]\n",
      "\r",
      "Iteration:   0%|          | 0/62 [00:00<?, ?it/s]\r",
      "Iteration:  92%|█████████▏| 57/62 [00:02<00:00, 21.48it/s]\r",
      "Iteration:  10%|▉         | 6/62 [00:00<00:02, 21.83it/s]\r",
      "Iteration:  65%|██████▍   | 40/62 [00:03<00:02, 10.31it/s]\r",
      "Iteration:  56%|█████▌    | 10/18 [00:00<00:00, 19.43it/s]\r",
      "Iteration:  97%|█████████▋| 60/62 [00:02<00:00, 21.61it/s]\r",
      "Iteration:   3%|▎         | 2/62 [00:00<00:04, 12.48it/s]\r",
      "Iteration:  15%|█▍        | 9/62 [00:00<00:02, 22.12it/s]"
     ]
    },
    {
     "name": "stdout",
     "output_type": "stream",
     "text": [
      "{'Train':  best_epoch_indx:51\n",
      " auc:0.9991537925174423 \n",
      " apur:0.9988421184292984 \n",
      " f1:0.9860335195530726 \n",
      " precision:0.9834114220590098 \n",
      " recall:0.9886696371737747 \n",
      ", 'Validation':  best_epoch_indx:51\n",
      " auc:0.963806160112002 \n",
      " apur:0.9515591206018197 \n",
      " f1:0.882830626450116 \n",
      " precision:0.8942420681551116 \n",
      " recall:0.8717067583046965 \n",
      ", 'Test':  best_epoch_indx:51\n",
      " auc:0.9660657839532796 \n",
      " apur:0.954575170126624 \n",
      " f1:0.8918918918918919 \n",
      " precision:0.8914835164835165 \n",
      " recall:0.8923006416131989 \n",
      "}\n",
      "=====Epoch 52\n",
      "Training...\n"
     ]
    },
    {
     "name": "stderr",
     "output_type": "stream",
     "text": [
      "Iteration:  89%|████████▉ | 16/18 [00:00<00:00, 19.63it/s]\n",
      "Iteration:  17%|█▋        | 3/18 [00:00<00:00, 21.85it/s]]\n",
      "Iteration: 100%|██████████| 18/18 [00:00<00:00, 22.80it/s]\n",
      "Iteration:  53%|█████▎    | 33/62 [00:01<00:01, 22.18it/s]"
     ]
    },
    {
     "name": "stdout",
     "output_type": "stream",
     "text": [
      "{'Train':  best_epoch_indx:51\n",
      " auc:0.9990199946528491 \n",
      " apur:0.9986621008485594 \n",
      " f1:0.9830033738621173 \n",
      " precision:0.9830659536541889 \n",
      " recall:0.9829408020369191 \n",
      ", 'Validation':  best_epoch_indx:51\n",
      " auc:0.963075774931445 \n",
      " apur:0.9523946156387895 \n",
      " f1:0.8868253047011027 \n",
      " precision:0.8988235294117647 \n",
      " recall:0.8751431844215349 \n",
      ", 'Test':  best_epoch_indx:51\n",
      " auc:0.9708426116617822 \n",
      " apur:0.9649256018024246 \n",
      " f1:0.8981114478899511 \n",
      " precision:0.9140958709065021 \n",
      " recall:0.8826764436296975 \n",
      "}\n",
      "=====Epoch 52\n",
      "Training...\n"
     ]
    },
    {
     "name": "stderr",
     "output_type": "stream",
     "text": [
      "Iteration:  26%|██▌       | 16/62 [00:01<00:03, 12.46it/s]\n",
      "Iteration:  94%|█████████▎| 58/62 [00:05<00:00, 10.05it/s]\n",
      "Iteration:  39%|███▊      | 24/62 [00:01<00:03, 11.94it/s]"
     ]
    },
    {
     "name": "stdout",
     "output_type": "stream",
     "text": [
      "{'Train':  best_epoch_indx:51\n",
      " auc:0.9988682035625719 \n",
      " apur:0.9984646800505801 \n",
      " f1:0.9812971533633426 \n",
      " precision:0.9773932811315988 \n",
      " recall:0.9852323360916614 \n",
      ", 'Validation':  best_epoch_indx:51\n",
      " auc:0.9586250053031268 \n",
      " apur:0.9452192457485131 \n",
      " f1:0.8806396344945746 \n",
      " precision:0.878132118451025 \n",
      " recall:0.8831615120274914 \n",
      ", 'Test':  best_epoch_indx:51\n",
      " auc:0.962858187743614 \n",
      " apur:0.9521542045097431 \n",
      " f1:0.8895027624309393 \n",
      " precision:0.8936170212765957 \n",
      " recall:0.8854262144821264 \n",
      "}\n",
      "=====Epoch 52\n",
      "Training...\n"
     ]
    },
    {
     "name": "stderr",
     "output_type": "stream",
     "text": [
      "Iteration: 100%|██████████| 62/62 [00:05<00:00, 10.54it/s]\n",
      "Iteration:  18%|█▊        | 11/62 [00:01<00:05,  9.63it/s]"
     ]
    },
    {
     "name": "stdout",
     "output_type": "stream",
     "text": [
      "Evaluating...\n"
     ]
    },
    {
     "name": "stderr",
     "output_type": "stream",
     "text": [
      "Iteration:  55%|█████▍    | 34/62 [00:02<00:02, 12.46it/s]\n",
      "Iteration:  32%|███▏      | 20/62 [00:01<00:03, 11.27it/s]\n",
      "Iteration: 100%|██████████| 7/7 [00:00<00:00, 23.31it/s]s]\n",
      "Iteration:  44%|████▎     | 27/62 [00:02<00:03,  9.92it/s]"
     ]
    },
    {
     "name": "stdout",
     "output_type": "stream",
     "text": [
      "{'Train':  best_epoch_indx:53\n",
      " auc:0.9981574542655232 \n",
      " apur:0.9974004593458441 \n",
      " f1:0.9758094998110118 \n",
      " precision:0.9658311510163362 \n",
      " recall:0.9859961807765755 \n",
      ", 'Validation':  best_epoch_indx:53\n",
      " auc:0.9636668325099024 \n",
      " apur:0.9570383232258942 \n",
      " f1:0.8855664174813112 \n",
      " precision:0.8891454965357968 \n",
      " recall:0.8820160366552119 \n",
      ", 'Test':  best_epoch_indx:53\n",
      " auc:0.9634409323914366 \n",
      " apur:0.9513547935042653 \n",
      " f1:0.8860875544350217 \n",
      " precision:0.886290692342962 \n",
      " recall:0.885884509624198 \n",
      "}\n",
      "=====Epoch 54\n",
      "Training...\n"
     ]
    },
    {
     "name": "stderr",
     "output_type": "stream",
     "text": [
      "Iteration: 100%|██████████| 62/62 [00:05<00:00, 12.35it/s]\n",
      "Iteration:   5%|▍         | 3/62 [00:00<00:02, 22.44it/s]]"
     ]
    },
    {
     "name": "stdout",
     "output_type": "stream",
     "text": [
      "Evaluating...\n"
     ]
    },
    {
     "name": "stderr",
     "output_type": "stream",
     "text": [
      "Iteration:  26%|██▌       | 16/62 [00:01<00:03, 12.26it/s]\n",
      "Iteration:  44%|████▎     | 27/62 [00:01<00:01, 22.63it/s]\n",
      "Iteration:  68%|██████▊   | 42/62 [00:01<00:00, 22.52it/s]\n",
      "Iteration:  58%|█████▊    | 36/62 [00:02<00:02, 12.43it/s]"
     ]
    },
    {
     "name": "stdout",
     "output_type": "stream",
     "text": [
      "{'Train':  best_epoch_indx:51\n",
      " auc:0.9994418717648397 \n",
      " apur:0.9992532666990286 \n",
      " f1:0.9854304635761589 \n",
      " precision:0.9765 \n",
      " recall:0.9945257797581158 \n",
      ", 'Validation':  best_epoch_indx:51\n",
      " auc:0.9638423177942078 \n",
      " apur:0.9448916522845356 \n",
      " f1:0.8854875283446711 \n",
      " precision:0.8765432098765432 \n",
      " recall:0.8946162657502864 \n",
      ", 'Test':  best_epoch_indx:51\n",
      " auc:0.965626629463824 \n",
      " apur:0.9545935984986876 \n",
      " f1:0.8965831435079725 \n",
      " precision:0.8913043478260869 \n",
      " recall:0.9019248395967002 \n",
      "}\n",
      "=====Epoch 52\n",
      "Training...\n"
     ]
    },
    {
     "name": "stderr",
     "output_type": "stream",
     "text": [
      "\r",
      "Iteration:  90%|█████████ | 56/62 [00:05<00:00,  9.86it/s]\r",
      "Iteration:  73%|███████▎  | 45/62 [00:01<00:00, 22.44it/s]\r",
      "Iteration:  97%|█████████▋| 60/62 [00:05<00:00, 12.23it/s]\r",
      "Iteration:  61%|██████▏   | 38/62 [00:03<00:01, 12.44it/s]\r",
      "Iteration:   3%|▎         | 2/62 [00:00<00:05, 11.35it/s]\r",
      "Iteration:  92%|█████████▏| 57/62 [00:05<00:00,  9.87it/s]\r",
      "Iteration:  77%|███████▋  | 48/62 [00:02<00:00, 22.46it/s]\r",
      "Iteration: 100%|██████████| 62/62 [00:05<00:00, 12.41it/s]\r",
      "Iteration: 100%|██████████| 62/62 [00:05<00:00, 11.65it/s]\n",
      "\r",
      "Iteration:   0%|          | 0/62 [00:00<?, ?it/s]"
     ]
    },
    {
     "name": "stdout",
     "output_type": "stream",
     "text": [
      "Evaluating...\n"
     ]
    },
    {
     "name": "stderr",
     "output_type": "stream",
     "text": [
      "Iteration: 100%|██████████| 62/62 [00:06<00:00,  9.75it/s]\n",
      "Iteration:  15%|█▍        | 9/62 [00:00<00:02, 21.63it/s]"
     ]
    },
    {
     "name": "stdout",
     "output_type": "stream",
     "text": [
      "Evaluating...\n"
     ]
    },
    {
     "name": "stderr",
     "output_type": "stream",
     "text": [
      "Iteration:  10%|▉         | 6/62 [00:00<00:03, 18.66it/s]]\n",
      "Iteration:  35%|███▌      | 22/62 [00:01<00:02, 18.80it/s]\n",
      "Iteration: 100%|██████████| 62/62 [00:04<00:00, 12.42it/s]\n",
      "Iteration:  68%|██████▊   | 42/62 [00:01<00:00, 21.74it/s]\n",
      "Iteration:  42%|████▏     | 26/62 [00:02<00:03, 11.37it/s]"
     ]
    },
    {
     "name": "stdout",
     "output_type": "stream",
     "text": [
      "Evaluating...\n",
      "{'Train':  best_epoch_indx:52\n",
      " auc:0.9985490404603076 \n",
      " apur:0.9979620629547304 \n",
      " f1:0.978651048554695 \n",
      " precision:0.9683449651046859 \n",
      " recall:0.9891788669637174 \n",
      ", 'Validation':  best_epoch_indx:52\n",
      " auc:0.9606753869354097 \n",
      " apur:0.9488725269598682 \n",
      " f1:0.8796349115801483 \n",
      " precision:0.8761363636363636 \n",
      " recall:0.8831615120274914 \n",
      ", 'Test':  best_epoch_indx:52\n",
      " auc:0.9633836228254135 \n",
      " apur:0.9519380778053321 \n",
      " f1:0.891739815440018 \n",
      " precision:0.8761609907120743 \n",
      " recall:0.9078826764436297 \n",
      "}\n",
      "=====Epoch 53\n",
      "Training...\n"
     ]
    },
    {
     "name": "stderr",
     "output_type": "stream",
     "text": [
      "Iteration:  44%|████▎     | 27/62 [00:01<00:01, 22.34it/s]\n",
      "Iteration:  73%|███████▎  | 45/62 [00:02<00:00, 22.36it/s]\n",
      "Iteration:  77%|███████▋  | 48/62 [00:04<00:01, 11.57it/s]\n",
      "Iteration:  84%|████████▍ | 52/62 [00:04<00:00, 11.57it/s]\n",
      "Iteration:  48%|████▊     | 30/62 [00:02<00:02, 12.50it/s]"
     ]
    },
    {
     "name": "stdout",
     "output_type": "stream",
     "text": [
      "{'Train':  best_epoch_indx:52\n",
      " auc:0.9988226830214277 \n",
      " apur:0.9983884446817961 \n",
      " f1:0.9813272773151652 \n",
      " precision:0.9726147305239464 \n",
      " recall:0.9901973265436028 \n",
      ", 'Validation':  best_epoch_indx:52\n",
      " auc:0.9584302359216448 \n",
      " apur:0.9429839492331824 \n",
      " f1:0.8735763097949887 \n",
      " precision:0.8686296715741789 \n",
      " recall:0.8785796105383734 \n",
      ", 'Test':  best_epoch_indx:52\n",
      " auc:0.963259311724023 \n",
      " apur:0.9517747640468981 \n",
      " f1:0.8874292185730464 \n",
      " precision:0.877295118674429 \n",
      " recall:0.8978001833180568 \n",
      "}\n",
      "=====Epoch 53\n",
      "Training...\n"
     ]
    },
    {
     "name": "stderr",
     "output_type": "stream",
     "text": [
      "Iteration:  89%|████████▉ | 16/18 [00:00<00:00, 19.53it/s]\n",
      "Iteration:  17%|█▋        | 3/18 [00:00<00:00, 22.44it/s]]\n",
      "Iteration: 100%|██████████| 62/62 [00:05<00:00, 11.52it/s]\n",
      "Iteration: 100%|██████████| 7/7 [00:00<00:00, 18.97it/s]s]"
     ]
    },
    {
     "name": "stdout",
     "output_type": "stream",
     "text": [
      "Evaluating...\n",
      "{'Train':  best_epoch_indx:52\n",
      " auc:0.9985439076717326 \n",
      " apur:0.9979829108745941 \n",
      " f1:0.9794406844592005 \n",
      " precision:0.982451645958755 \n",
      " recall:0.9764481222151495 \n",
      ", 'Validation':  best_epoch_indx:52\n",
      " auc:0.9608301418152507 \n",
      " apur:0.9459285037085621 \n",
      " f1:0.888631090487239 \n",
      " precision:0.900117508813161 \n",
      " recall:0.8774341351660939 \n",
      ", 'Test':  best_epoch_indx:52\n",
      " auc:0.9687396096356515 \n",
      " apur:0.9621602151748189 \n",
      " f1:0.8923366243535497 \n",
      " precision:0.916023166023166 \n",
      " recall:0.8698441796516957 \n",
      "}\n",
      "=====Epoch 53\n",
      "Training...\n"
     ]
    },
    {
     "name": "stderr",
     "output_type": "stream",
     "text": [
      "\n",
      "Iteration:  24%|██▍       | 15/62 [00:00<00:02, 21.97it/s]\n",
      "Iteration:  84%|████████▍ | 52/62 [00:04<00:00, 12.47it/s]\n",
      "Iteration:   3%|▎         | 2/62 [00:00<00:04, 12.49it/s]]"
     ]
    },
    {
     "name": "stdout",
     "output_type": "stream",
     "text": [
      "{'Train':  best_epoch_indx:54\n",
      " auc:0.9968296348489158 \n",
      " apur:0.9956243186939578 \n",
      " f1:0.968098467721678 \n",
      " precision:0.9552608749535259 \n",
      " recall:0.9812858052196054 \n",
      ", 'Validation':  best_epoch_indx:54\n",
      " auc:0.9594330089748189 \n",
      " apur:0.951635676168043 \n",
      " f1:0.8791455874086564 \n",
      " precision:0.8631346578366446 \n",
      " recall:0.8957617411225659 \n",
      ", 'Test':  best_epoch_indx:54\n",
      " auc:0.9596235035969225 \n",
      " apur:0.9454111306680745 \n",
      " f1:0.883668903803132 \n",
      " precision:0.8631993006993007 \n",
      " recall:0.9051329055912007 \n",
      "}\n",
      "=====Epoch 55\n",
      "Training...\n"
     ]
    },
    {
     "name": "stderr",
     "output_type": "stream",
     "text": [
      "Iteration: 100%|██████████| 62/62 [00:04<00:00, 12.52it/s]\n",
      "Iteration:  68%|██████▊   | 42/62 [00:01<00:00, 22.42it/s]"
     ]
    },
    {
     "name": "stdout",
     "output_type": "stream",
     "text": [
      "Evaluating...\n"
     ]
    },
    {
     "name": "stderr",
     "output_type": "stream",
     "text": [
      "Iteration:  50%|█████     | 31/62 [00:02<00:02, 11.55it/s]\n",
      "Iteration:  73%|███████▎  | 45/62 [00:01<00:00, 22.57it/s]\n",
      "Iteration: 100%|██████████| 7/7 [00:00<00:00, 22.59it/s]s]\n",
      "Iteration:   3%|▎         | 2/62 [00:00<00:04, 12.25it/s]]"
     ]
    },
    {
     "name": "stdout",
     "output_type": "stream",
     "text": [
      "{'Train':  best_epoch_indx:52\n",
      " auc:0.9989148498957069 \n",
      " apur:0.99854449869 \n",
      " f1:0.9805653710247351 \n",
      " precision:0.9721005880145127 \n",
      " recall:0.9891788669637174 \n",
      ", 'Validation':  best_epoch_indx:52\n",
      " auc:0.9626794867344696 \n",
      " apur:0.941857424312544 \n",
      " f1:0.8812785388127854 \n",
      " precision:0.8782707622298066 \n",
      " recall:0.8843069873997709 \n",
      ", 'Test':  best_epoch_indx:52\n",
      " auc:0.9631976960828655 \n",
      " apur:0.9529308462337667 \n",
      " f1:0.893235158766682 \n",
      " precision:0.8969500924214417 \n",
      " recall:0.8895508707607699 \n",
      "}\n",
      "=====Epoch 53\n",
      "Training...\n"
     ]
    },
    {
     "name": "stderr",
     "output_type": "stream",
     "text": [
      "Iteration:  10%|▉         | 6/62 [00:00<00:05, 10.73it/s]]\n",
      "Iteration: 100%|██████████| 62/62 [00:05<00:00, 10.91it/s]\n",
      "Iteration:  81%|████████  | 50/62 [00:03<00:00, 12.73it/s]"
     ]
    },
    {
     "name": "stdout",
     "output_type": "stream",
     "text": [
      "Evaluating...\n"
     ]
    },
    {
     "name": "stderr",
     "output_type": "stream",
     "text": [
      "Iteration:  23%|██▎       | 14/62 [00:01<00:04, 10.21it/s]\n",
      "Iteration: 100%|██████████| 62/62 [00:05<00:00, 11.30it/s]\n",
      "Iteration:  27%|██▋       | 17/62 [00:00<00:02, 19.98it/s]"
     ]
    },
    {
     "name": "stdout",
     "output_type": "stream",
     "text": [
      "Evaluating...\n",
      "{'Train':  best_epoch_indx:53\n",
      " auc:0.9988593895792482 \n",
      " apur:0.9984051265741416 \n",
      " f1:0.9821734441413437 \n",
      " precision:0.9788821446636318 \n",
      " recall:0.9854869509866327 \n",
      ", 'Validation':  best_epoch_indx:53\n",
      " auc:0.9626105460870639 \n",
      " apur:0.9513816566826022 \n",
      " f1:0.87995337995338 \n",
      " precision:0.8956109134045077 \n",
      " recall:0.8648339060710195 \n",
      ", 'Test':  best_epoch_indx:53\n",
      " auc:0.9628085542663744 \n",
      " apur:0.9503902914471138 \n",
      " f1:0.8902634593356243 \n",
      " precision:0.8900595510765003 \n",
      " recall:0.8904674610449129 \n",
      "}\n",
      "=====Epoch 54\n",
      "Training...\n"
     ]
    },
    {
     "name": "stderr",
     "output_type": "stream",
     "text": [
      "\r",
      "Iteration:  86%|████████▌ | 6/7 [00:00<00:00, 24.11it/s]\r",
      "Iteration:  97%|█████████▋| 60/62 [00:04<00:00, 12.82it/s]\r",
      "Iteration: 100%|██████████| 7/7 [00:00<00:00, 24.45it/s]\r",
      "Iteration:   5%|▍         | 3/62 [00:00<00:02, 20.40it/s]\n",
      "\r",
      "Iteration:   0%|          | 0/62 [00:00<?, ?it/s]\r",
      "Iteration:  32%|███▏      | 20/62 [00:01<00:02, 20.02it/s]\r",
      "Iteration:  29%|██▉       | 18/62 [00:01<00:04, 10.10it/s]\r",
      "Iteration: 100%|██████████| 62/62 [00:04<00:00, 13.03it/s]\r",
      "Iteration: 100%|██████████| 62/62 [00:04<00:00, 12.65it/s]\n",
      "\r",
      "Iteration:   0%|          | 0/62 [00:00<?, ?it/s]"
     ]
    },
    {
     "name": "stdout",
     "output_type": "stream",
     "text": [
      "Evaluating...\n"
     ]
    },
    {
     "name": "stderr",
     "output_type": "stream",
     "text": [
      "Iteration:  65%|██████▍   | 40/62 [00:03<00:02, 10.03it/s]\n",
      "Iteration:  67%|██████▋   | 12/18 [00:00<00:00, 20.36it/s]\n",
      "Iteration:  83%|████████▎ | 15/18 [00:00<00:00, 20.49it/s]\n",
      "Iteration:  17%|█▋        | 3/18 [00:00<00:00, 20.85it/s]]\n",
      "Iteration: 100%|██████████| 7/7 [00:00<00:00, 20.18it/s]s]\n",
      "Iteration:  74%|███████▍  | 46/62 [00:03<00:01, 12.05it/s]"
     ]
    },
    {
     "name": "stdout",
     "output_type": "stream",
     "text": [
      "{'Train':  best_epoch_indx:53\n",
      " auc:0.9970661761119706 \n",
      " apur:0.9961553786657438 \n",
      " f1:0.9659574468085106 \n",
      " precision:0.9499076923076923 \n",
      " recall:0.9825588796944621 \n",
      ", 'Validation':  best_epoch_indx:53\n",
      " auc:0.9561633902985565 \n",
      " apur:0.9412365712622769 \n",
      " f1:0.8695652173913043 \n",
      " precision:0.8574610244988864 \n",
      " recall:0.8820160366552119 \n",
      ", 'Test':  best_epoch_indx:53\n",
      " auc:0.9600950692380572 \n",
      " apur:0.9495085861243597 \n",
      " f1:0.8828667413213885 \n",
      " precision:0.8633377135348226 \n",
      " recall:0.9032997250229148 \n",
      "}\n",
      "=====Epoch 54\n",
      "Training...\n"
     ]
    },
    {
     "name": "stderr",
     "output_type": "stream",
     "text": [
      "Iteration:  77%|███████▋  | 48/62 [00:03<00:01, 12.03it/s]\n",
      "Iteration:  29%|██▊       | 2/7 [00:00<00:00, 18.85it/s]]]\n",
      "Iteration: 100%|██████████| 7/7 [00:00<00:00, 19.22it/s]s]\n",
      "Iteration:  11%|█▏        | 7/62 [00:00<00:05, 10.59it/s]"
     ]
    },
    {
     "name": "stdout",
     "output_type": "stream",
     "text": [
      "{'Train':  best_epoch_indx:55\n",
      " auc:0.9959473140826226 \n",
      " apur:0.994427614515524 \n",
      " f1:0.9639009639009639 \n",
      " precision:0.9541032676477925 \n",
      " recall:0.973901973265436 \n",
      ", 'Validation':  best_epoch_indx:55\n",
      " auc:0.9642096798454187 \n",
      " apur:0.9565029079287283 \n",
      " f1:0.8868466398621482 \n",
      " precision:0.8894009216589862 \n",
      " recall:0.8843069873997709 \n",
      ", 'Test':  best_epoch_indx:55\n",
      " auc:0.9611580979362832 \n",
      " apur:0.9475472202267357 \n",
      " f1:0.8841338493057135 \n",
      " precision:0.8783355947535052 \n",
      " recall:0.8900091659028414 \n",
      "}\n",
      "=====Epoch 56\n",
      "Training...\n",
      "{'Train':  best_epoch_indx:53\n",
      " auc:0.997488613486134 \n",
      " apur:0.996612169112187 \n",
      " f1:0.9667187012176085 \n",
      " precision:0.9486519607843137 \n",
      " recall:0.9854869509866327 \n",
      ", 'Validation':  best_epoch_indx:53\n",
      " auc:0.9569646445362366 \n",
      " apur:0.9452543348382313 \n",
      " f1:0.8779679734953064 \n",
      " precision:0.847547974413646 \n",
      " recall:0.9106529209621993 \n",
      ", 'Test':  best_epoch_indx:53\n",
      " auc:0.9652958357657914 \n",
      " apur:0.9574118890697402 \n",
      " f1:0.8921152557516194 \n",
      " precision:0.8701525054466231 \n",
      " recall:0.9152153987167736 \n",
      "}\n",
      "=====Epoch 54\n",
      "Training...\n"
     ]
    },
    {
     "name": "stderr",
     "output_type": "stream",
     "text": [
      "Iteration:  97%|█████████▋| 60/62 [00:06<00:00,  9.49it/s]\n",
      "Iteration:   3%|▎         | 2/62 [00:00<00:05, 11.42it/s]]\n",
      "Iteration:   6%|▋         | 4/62 [00:00<00:05, 11.52it/s]]"
     ]
    },
    {
     "name": "stdout",
     "output_type": "stream",
     "text": [
      "Evaluating...\n"
     ]
    },
    {
     "name": "stderr",
     "output_type": "stream",
     "text": [
      "\r",
      "Iteration:   6%|▋         | 4/62 [00:00<00:03, 18.12it/s]\r",
      "Iteration:  10%|▉         | 6/62 [00:00<00:04, 12.52it/s]\r",
      "Iteration:  97%|█████████▋| 60/62 [00:04<00:00, 12.50it/s]\r",
      "Iteration:  21%|██        | 13/62 [00:01<00:04, 11.08it/s]\r",
      "Iteration:  10%|▉         | 6/62 [00:00<00:03, 18.21it/s]\r",
      "Iteration:  10%|▉         | 6/62 [00:00<00:04, 11.43it/s]\r",
      "Iteration:  13%|█▎        | 8/62 [00:00<00:04, 12.50it/s]"
     ]
    },
    {
     "name": "stdout",
     "output_type": "stream",
     "text": [
      "Evaluating...\n"
     ]
    },
    {
     "name": "stderr",
     "output_type": "stream",
     "text": [
      "Iteration: 100%|██████████| 62/62 [00:04<00:00, 12.54it/s]\n",
      "Iteration:  61%|██████▏   | 38/62 [00:03<00:02, 10.46it/s]\n",
      "Iteration:   0%|          | 0/18 [00:00<?, ?it/s]\n",
      "Iteration: 100%|██████████| 18/18 [00:00<00:00, 20.04it/s]\n",
      "Iteration:  94%|█████████▎| 58/62 [00:04<00:00, 12.36it/s]\n",
      "Iteration: 100%|██████████| 62/62 [00:05<00:00, 12.32it/s]\n",
      "Iteration:  86%|████████▌ | 6/7 [00:00<00:00, 18.59it/s]\n",
      "Iteration: 100%|██████████| 7/7 [00:00<00:00, 18.69it/s]\n",
      "Iteration:   5%|▍         | 3/62 [00:00<00:02, 21.98it/s]]"
     ]
    },
    {
     "name": "stdout",
     "output_type": "stream",
     "text": [
      "Evaluating...\n",
      "{'Train':  best_epoch_indx:54\n",
      " auc:0.9972043332168234 \n",
      " apur:0.996121879940733 \n",
      " f1:0.9700433335426741 \n",
      " precision:0.9572384729796728 \n",
      " recall:0.9831954169318905 \n",
      ", 'Validation':  best_epoch_indx:54\n",
      " auc:0.9579052263760167 \n",
      " apur:0.9459650826164301 \n",
      " f1:0.8717366628830875 \n",
      " precision:0.8638920134983127 \n",
      " recall:0.8797250859106529 \n",
      ", 'Test':  best_epoch_indx:54\n",
      " auc:0.9614643093203555 \n",
      " apur:0.9478297436264983 \n",
      " f1:0.8792096991468343 \n",
      " precision:0.8617957746478874 \n",
      " recall:0.8973418881759854 \n",
      "}\n",
      "=====Epoch 55\n",
      "Training...\n",
      "{'Train':  best_epoch_indx:53\n",
      " auc:0.9983718461187604 \n",
      " apur:0.997760987060049 \n",
      " f1:0.9777693330799925 \n",
      " precision:0.9729014368540458 \n",
      " recall:0.9826861871419478 \n",
      ", 'Validation':  best_epoch_indx:53\n",
      " auc:0.9600004435342351 \n",
      " apur:0.9389352555066076 \n",
      " f1:0.8813753581661892 \n",
      " precision:0.8818807339449541 \n",
      " recall:0.8808705612829324 \n",
      ", 'Test':  best_epoch_indx:53\n",
      " auc:0.9638588975786767 \n",
      " apur:0.9508983648249264 \n",
      " f1:0.8925157379342503 \n",
      " precision:0.9084005695301376 \n",
      " recall:0.8771769019248395 \n",
      "}\n",
      "=====Epoch 54\n",
      "Training...\n"
     ]
    },
    {
     "name": "stderr",
     "output_type": "stream",
     "text": [
      "\r",
      "Iteration:   3%|▎         | 2/62 [00:00<00:04, 12.34it/s]\r",
      "Iteration:   2%|▏         | 1/62 [00:00<00:06,  9.58it/s]\r",
      "Iteration: 100%|██████████| 62/62 [00:05<00:00, 10.51it/s]\n",
      "\r",
      "Iteration:   0%|          | 0/62 [00:00<?, ?it/s]\r",
      "Iteration:  10%|▉         | 6/62 [00:00<00:02, 22.34it/s]\r",
      "Iteration:  90%|█████████ | 56/62 [00:05<00:00, 10.37it/s]\r",
      "Iteration:   3%|▎         | 2/62 [00:00<00:06,  9.81it/s]\r",
      "Iteration:   3%|▎         | 2/62 [00:00<00:03, 16.89it/s]\r",
      "Iteration:   6%|▋         | 4/62 [00:00<00:04, 12.14it/s]"
     ]
    },
    {
     "name": "stdout",
     "output_type": "stream",
     "text": [
      "Evaluating...\n"
     ]
    },
    {
     "name": "stderr",
     "output_type": "stream",
     "text": [
      "Iteration: 100%|██████████| 62/62 [00:05<00:00, 10.64it/s]\n",
      "Iteration:   0%|          | 0/62 [00:00<?, ?it/s]"
     ]
    },
    {
     "name": "stdout",
     "output_type": "stream",
     "text": [
      "Evaluating...\n"
     ]
    },
    {
     "name": "stderr",
     "output_type": "stream",
     "text": [
      "Iteration:  45%|████▌     | 28/62 [00:02<00:03,  9.98it/s]\n",
      "Iteration:  84%|████████▍ | 52/62 [00:02<00:00, 22.26it/s]\n",
      "Iteration:  74%|███████▍  | 46/62 [00:03<00:01, 12.53it/s]\n",
      "Iteration:  60%|█████▉    | 37/62 [00:03<00:02,  9.95it/s]\n",
      "Iteration:  33%|███▎      | 6/18 [00:00<00:00, 22.60it/s]]\n",
      "Iteration:  84%|████████▍ | 52/62 [00:04<00:00, 12.39it/s]"
     ]
    },
    {
     "name": "stdout",
     "output_type": "stream",
     "text": [
      "{'Train':  best_epoch_indx:56\n",
      " auc:0.9982590000880756 \n",
      " apur:0.9975717626842348 \n",
      " f1:0.9754324392078215 \n",
      " precision:0.9606221454141464 \n",
      " recall:0.9907065563335455 \n",
      ", 'Validation':  best_epoch_indx:56\n",
      " auc:0.9635752330483144 \n",
      " apur:0.9570052149956796 \n",
      " f1:0.8875140607424072 \n",
      " precision:0.8718232044198895 \n",
      " recall:0.9037800687285223 \n",
      ", 'Test':  best_epoch_indx:56\n",
      " auc:0.9649228305048654 \n",
      " apur:0.9518307901472083 \n",
      " f1:0.8924876293297346 \n",
      " precision:0.8763250883392226 \n",
      " recall:0.9092575618698442 \n",
      "}\n",
      "=====Epoch 57\n",
      "Training...\n"
     ]
    },
    {
     "name": "stderr",
     "output_type": "stream",
     "text": [
      "Iteration:   3%|▎         | 2/62 [00:00<00:04, 12.36it/s]]\n",
      "Iteration:  73%|███████▎  | 45/62 [00:04<00:01,  9.75it/s]\n",
      "Iteration:  97%|█████████▋| 60/62 [00:04<00:00, 12.54it/s]"
     ]
    },
    {
     "name": "stdout",
     "output_type": "stream",
     "text": [
      "{'Train':  best_epoch_indx:54\n",
      " auc:0.9953172500043027 \n",
      " apur:0.9935404432630883 \n",
      " f1:0.9569679732904662 \n",
      " precision:0.9302800817405938 \n",
      " recall:0.9852323360916614 \n",
      ", 'Validation':  best_epoch_indx:54\n",
      " auc:0.95449194117579 \n",
      " apur:0.938822517974084 \n",
      " f1:0.869226488592098 \n",
      " precision:0.8452380952380952 \n",
      " recall:0.8946162657502864 \n",
      ", 'Test':  best_epoch_indx:54\n",
      " auc:0.9510780737407686 \n",
      " apur:0.9364756972053963 \n",
      " f1:0.8716589352772255 \n",
      " precision:0.8413646055437101 \n",
      " recall:0.9042163153070577 \n",
      "}\n",
      "=====Epoch 55\n",
      "Training...\n"
     ]
    },
    {
     "name": "stderr",
     "output_type": "stream",
     "text": [
      "\r",
      "Iteration:   3%|▎         | 2/62 [00:00<00:05, 11.59it/s]\r",
      "Iteration: 100%|██████████| 18/18 [00:01<00:00, 16.06it/s]\r",
      "Iteration: 100%|██████████| 18/18 [00:01<00:00, 17.43it/s]\r",
      "Iteration:  16%|█▌        | 10/62 [00:00<00:04, 12.57it/s]\r",
      "Iteration:  77%|███████▋  | 48/62 [00:04<00:01,  9.85it/s]\n",
      "\r",
      "Iteration:   0%|          | 0/7 [00:00<?, ?it/s]\r",
      "Iteration: 100%|██████████| 62/62 [00:04<00:00, 12.68it/s]\r",
      "Iteration: 100%|██████████| 62/62 [00:04<00:00, 12.50it/s]\n",
      "\r",
      "Iteration:   0%|          | 0/62 [00:00<?, ?it/s]\r",
      "Iteration:   6%|▋         | 4/62 [00:00<00:05, 11.42it/s]"
     ]
    },
    {
     "name": "stdout",
     "output_type": "stream",
     "text": [
      "Evaluating...\n"
     ]
    },
    {
     "name": "stderr",
     "output_type": "stream",
     "text": [
      "Iteration: 100%|██████████| 7/7 [00:00<00:00, 22.84it/s]s]\n",
      "Iteration:  85%|████████▌ | 53/62 [00:05<00:00,  9.89it/s]"
     ]
    },
    {
     "name": "stdout",
     "output_type": "stream",
     "text": [
      "{'Train':  best_epoch_indx:54\n",
      " auc:0.9958227675495818 \n",
      " apur:0.9944240908762759 \n",
      " f1:0.9630188679245282 \n",
      " precision:0.9516469857054071 \n",
      " recall:0.9746658179503501 \n",
      ", 'Validation':  best_epoch_indx:54\n",
      " auc:0.9584524126333978 \n",
      " apur:0.9425275279045651 \n",
      " f1:0.8852459016393442 \n",
      " precision:0.8738839285714286 \n",
      " recall:0.8969072164948454 \n",
      ", 'Test':  best_epoch_indx:54\n",
      " auc:0.9646212821211795 \n",
      " apur:0.9575707782089508 \n",
      " f1:0.8907103825136612 \n",
      " precision:0.8850678733031674 \n",
      " recall:0.8964252978918423 \n",
      "}\n",
      "=====Epoch 55\n",
      "Training...\n"
     ]
    },
    {
     "name": "stderr",
     "output_type": "stream",
     "text": [
      "Iteration: 100%|██████████| 62/62 [00:06<00:00,  9.95it/s]\n",
      "Iteration:   0%|          | 0/62 [00:00<?, ?it/s]"
     ]
    },
    {
     "name": "stdout",
     "output_type": "stream",
     "text": [
      "Evaluating...\n"
     ]
    },
    {
     "name": "stderr",
     "output_type": "stream",
     "text": [
      "Iteration:  45%|████▌     | 28/62 [00:01<00:01, 17.68it/s]\n",
      "Iteration:  71%|███████   | 44/62 [00:02<00:01, 17.64it/s]\n",
      "Iteration:  81%|████████  | 50/62 [00:02<00:00, 17.56it/s]\n",
      "Iteration:   0%|          | 0/62 [00:00<?, ?it/s]"
     ]
    },
    {
     "name": "stdout",
     "output_type": "stream",
     "text": [
      "{'Train':  best_epoch_indx:55\n",
      " auc:0.9975232211046928 \n",
      " apur:0.9965711168243646 \n",
      " f1:0.9711223203026481 \n",
      " precision:0.9620237351655215 \n",
      " recall:0.9803946530872056 \n",
      ", 'Validation':  best_epoch_indx:55\n",
      " auc:0.9601243438585936 \n",
      " apur:0.9481148052119962 \n",
      " f1:0.8775743707093822 \n",
      " precision:0.8765714285714286 \n",
      " recall:0.8785796105383734 \n",
      ", 'Test':  best_epoch_indx:55\n",
      " auc:0.9609313810690919 \n",
      " apur:0.9467241207459015 \n",
      " f1:0.8817498291182503 \n",
      " precision:0.8767557770729497 \n",
      " recall:0.886801099908341 \n",
      "}\n",
      "=====Epoch 56\n",
      "Training...\n"
     ]
    },
    {
     "name": "stderr",
     "output_type": "stream",
     "text": [
      "\r",
      "Iteration:  97%|█████████▋| 60/62 [00:05<00:00, 11.30it/s]\r",
      "Iteration:  84%|████████▍ | 52/62 [00:02<00:00, 17.34it/s]\r",
      "Iteration:  87%|████████▋ | 54/62 [00:04<00:00, 11.58it/s]\r",
      "Iteration:  71%|███████   | 44/62 [00:04<00:01, 11.59it/s]\r",
      "Iteration:   3%|▎         | 2/62 [00:00<00:05, 11.80it/s]\r",
      "Iteration:  87%|████████▋ | 54/62 [00:03<00:00, 17.16it/s]\r",
      "Iteration: 100%|██████████| 62/62 [00:05<00:00, 11.58it/s]\r",
      "Iteration: 100%|██████████| 62/62 [00:05<00:00, 11.68it/s]\n",
      "\r",
      "Iteration:   0%|          | 0/62 [00:00<?, ?it/s]"
     ]
    },
    {
     "name": "stdout",
     "output_type": "stream",
     "text": [
      "Evaluating...\n"
     ]
    },
    {
     "name": "stderr",
     "output_type": "stream",
     "text": [
      "Iteration:  84%|████████▍ | 52/62 [00:04<00:00, 12.27it/s]\n",
      "Iteration: 100%|██████████| 62/62 [00:05<00:00, 11.62it/s]\n",
      "Iteration:  24%|██▍       | 15/62 [00:00<00:02, 21.39it/s]"
     ]
    },
    {
     "name": "stdout",
     "output_type": "stream",
     "text": [
      "Evaluating...\n"
     ]
    },
    {
     "name": "stderr",
     "output_type": "stream",
     "text": [
      "Iteration: 100%|██████████| 62/62 [00:05<00:00, 11.36it/s]\n",
      "Iteration:  32%|███▏      | 20/62 [00:01<00:03, 12.15it/s]"
     ]
    },
    {
     "name": "stdout",
     "output_type": "stream",
     "text": [
      "Evaluating...\n"
     ]
    },
    {
     "name": "stderr",
     "output_type": "stream",
     "text": [
      "Iteration:  39%|███▊      | 24/62 [00:01<00:03, 12.21it/s]\n",
      "Iteration: 100%|██████████| 7/7 [00:00<00:00, 19.58it/s]s]\n",
      "Iteration:   2%|▏         | 1/62 [00:00<00:06,  9.98it/s]]"
     ]
    },
    {
     "name": "stdout",
     "output_type": "stream",
     "text": [
      "{'Train':  best_epoch_indx:54\n",
      " auc:0.9965677483433063 \n",
      " apur:0.9953522592047376 \n",
      " f1:0.9656677148174293 \n",
      " precision:0.9736024844720497 \n",
      " recall:0.9578612348822406 \n",
      ", 'Validation':  best_epoch_indx:54\n",
      " auc:0.9556552543379576 \n",
      " apur:0.9356283013495849 \n",
      " f1:0.8721272834413673 \n",
      " precision:0.8980582524271845 \n",
      " recall:0.847651775486827 \n",
      ", 'Test':  best_epoch_indx:54\n",
      " auc:0.959599716471365 \n",
      " apur:0.9457358369131927 \n",
      " f1:0.880188679245283 \n",
      " precision:0.9067055393586005 \n",
      " recall:0.8551787351054079 \n",
      "}\n",
      "=====Epoch 55\n",
      "Training...\n"
     ]
    },
    {
     "name": "stderr",
     "output_type": "stream",
     "text": [
      "Iteration:  61%|██████▏   | 38/62 [00:03<00:02, 10.97it/s]\n",
      "Iteration:  71%|███████   | 44/62 [00:03<00:01, 10.67it/s]\n",
      "Iteration:  83%|████████▎ | 15/18 [00:00<00:00, 22.20it/s]\n",
      "Iteration:  17%|█▋        | 3/18 [00:00<00:00, 22.12it/s]]\n",
      "Iteration: 100%|██████████| 7/7 [00:00<00:00, 22.08it/s]s]\n",
      "Iteration:  67%|██████▋   | 12/18 [00:00<00:00, 22.67it/s]"
     ]
    },
    {
     "name": "stdout",
     "output_type": "stream",
     "text": [
      "{'Train':  best_epoch_indx:55\n",
      " auc:0.9974865086441685 \n",
      " apur:0.9965644726671855 \n",
      " f1:0.9714609714609714 \n",
      " precision:0.9615864305313045 \n",
      " recall:0.9815404201145767 \n",
      ", 'Validation':  best_epoch_indx:55\n",
      " auc:0.9574901361842941 \n",
      " apur:0.9418966182161882 \n",
      " f1:0.8852272727272728 \n",
      " precision:0.8782412626832018 \n",
      " recall:0.8923253150057274 \n",
      ", 'Test':  best_epoch_indx:55\n",
      " auc:0.9599117511812288 \n",
      " apur:0.9482427103964512 \n",
      " f1:0.8835194894005015 \n",
      " precision:0.8789115646258503 \n",
      " recall:0.8881759853345554 \n",
      "}\n",
      "=====Epoch 56\n",
      "Training...\n"
     ]
    },
    {
     "name": "stderr",
     "output_type": "stream",
     "text": [
      "Iteration:  97%|█████████▋| 60/62 [00:05<00:00, 10.06it/s]\n",
      "Iteration: 100%|██████████| 62/62 [00:05<00:00, 11.13it/s]\n",
      "Iteration:   0%|          | 0/62 [00:00<?, ?it/s]"
     ]
    },
    {
     "name": "stdout",
     "output_type": "stream",
     "text": [
      "Evaluating...\n",
      "{'Train':  best_epoch_indx:55\n",
      " auc:0.9972907391275093 \n",
      " apur:0.9963493175326249 \n",
      " f1:0.9706778370144707 \n",
      " precision:0.967852170611315 \n",
      " recall:0.973520050922979 \n",
      ", 'Validation':  best_epoch_indx:55\n",
      " auc:0.9591900293503958 \n",
      " apur:0.9459058182986799 \n",
      " f1:0.8810068649885584 \n",
      " precision:0.88 \n",
      " recall:0.8820160366552119 \n",
      ", 'Test':  best_epoch_indx:55\n",
      " auc:0.9626470164199015 \n",
      " apur:0.9537061648120065 \n",
      " f1:0.8899653979238754 \n",
      " precision:0.8959591267998143 \n",
      " recall:0.884051329055912 \n",
      "}\n",
      "=====Epoch 56\n",
      "Training...\n"
     ]
    },
    {
     "name": "stderr",
     "output_type": "stream",
     "text": [
      "Iteration:  13%|█▎        | 8/62 [00:00<00:04, 12.22it/s]]\n",
      "Iteration: 100%|██████████| 62/62 [00:05<00:00, 11.40it/s]\n",
      "Iteration:  77%|███████▋  | 48/62 [00:02<00:00, 22.13it/s]"
     ]
    },
    {
     "name": "stdout",
     "output_type": "stream",
     "text": [
      "Evaluating...\n"
     ]
    },
    {
     "name": "stderr",
     "output_type": "stream",
     "text": [
      "Iteration:  29%|██▉       | 18/62 [00:00<00:02, 21.96it/s]\n",
      "Iteration:  71%|███████   | 44/62 [00:03<00:01, 11.49it/s]\n",
      "Iteration:  65%|██████▍   | 40/62 [00:03<00:01, 12.18it/s]"
     ]
    },
    {
     "name": "stdout",
     "output_type": "stream",
     "text": [
      "{'Train':  best_epoch_indx:57\n",
      " auc:0.9992729040408055 \n",
      " apur:0.9989875093327689 \n",
      " f1:0.9867105429692443 \n",
      " precision:0.9809991191644646 \n",
      " recall:0.992488860598345 \n",
      ", 'Validation':  best_epoch_indx:57\n",
      " auc:0.968816650660866 \n",
      " apur:0.9637372296985318 \n",
      " f1:0.8962371721778791 \n",
      " precision:0.8921679909194098 \n",
      " recall:0.9003436426116839 \n",
      ", 'Test':  best_epoch_indx:57\n",
      " auc:0.9692285673724721 \n",
      " apur:0.9577636943705435 \n",
      " f1:0.901318781264211 \n",
      " precision:0.894404332129964 \n",
      " recall:0.9083409715857012 \n",
      "}\n",
      "=====Epoch 58\n",
      "Training...\n"
     ]
    },
    {
     "name": "stderr",
     "output_type": "stream",
     "text": [
      "\n",
      "Iteration: 100%|██████████| 18/18 [00:00<00:00, 23.57it/s]\n",
      "Iteration: 100%|██████████| 7/7 [00:00<00:00, 23.26it/s]s]\n",
      "Iteration:  77%|███████▋  | 48/62 [00:02<00:00, 21.77it/s]"
     ]
    },
    {
     "name": "stdout",
     "output_type": "stream",
     "text": [
      "{'Train':  best_epoch_indx:56\n",
      " auc:0.9987296288731862 \n",
      " apur:0.9982267407555925 \n",
      " f1:0.9809910024078063 \n",
      " precision:0.9765358899962154 \n",
      " recall:0.9854869509866327 \n",
      ", 'Validation':  best_epoch_indx:56\n",
      " auc:0.963501953479044 \n",
      " apur:0.9497644142693704 \n",
      " f1:0.8899030233884768 \n",
      " precision:0.8863636363636364 \n",
      " recall:0.8934707903780069 \n",
      ", 'Test':  best_epoch_indx:56\n",
      " auc:0.9670464336796453 \n",
      " apur:0.954326578806896 \n",
      " f1:0.8954545454545454 \n",
      " precision:0.8881875563570785 \n",
      " recall:0.9028414298808433 \n",
      "}\n",
      "=====Epoch 57\n",
      "Training...\n"
     ]
    },
    {
     "name": "stderr",
     "output_type": "stream",
     "text": [
      "Iteration: 100%|██████████| 62/62 [00:05<00:00, 11.64it/s]\n",
      "Iteration:  94%|█████████▎| 58/62 [00:04<00:00, 11.97it/s]"
     ]
    },
    {
     "name": "stdout",
     "output_type": "stream",
     "text": [
      "Evaluating...\n"
     ]
    },
    {
     "name": "stderr",
     "output_type": "stream",
     "text": [
      "Iteration: 100%|██████████| 62/62 [00:05<00:00, 12.14it/s]\n",
      "Iteration:   0%|          | 0/62 [00:00<?, ?it/s]\n",
      "Iteration:  17%|█▋        | 3/18 [00:00<00:00, 21.31it/s]]"
     ]
    },
    {
     "name": "stdout",
     "output_type": "stream",
     "text": [
      "Evaluating...\n"
     ]
    },
    {
     "name": "stderr",
     "output_type": "stream",
     "text": [
      "Iteration:  35%|███▌      | 22/62 [00:01<00:03, 12.08it/s]\n",
      "Iteration:  65%|██████▍   | 40/62 [00:03<00:01, 12.90it/s]\n",
      "Iteration:   3%|▎         | 2/62 [00:00<00:05, 11.46it/s]]"
     ]
    },
    {
     "name": "stdout",
     "output_type": "stream",
     "text": [
      "{'Train':  best_epoch_indx:55\n",
      " auc:0.9973783121223724 \n",
      " apur:0.9964972832727943 \n",
      " f1:0.9625224555534906 \n",
      " precision:0.9373793436293436 \n",
      " recall:0.9890515595162317 \n",
      ", 'Validation':  best_epoch_indx:55\n",
      " auc:0.9603740729170283 \n",
      " apur:0.941685696043732 \n",
      " f1:0.879695155144257 \n",
      " precision:0.8381742738589212 \n",
      " recall:0.9255441008018328 \n",
      ", 'Test':  best_epoch_indx:55\n",
      " auc:0.9615174091953549 \n",
      " apur:0.9483222284581643 \n",
      " f1:0.8860480493718317 \n",
      " precision:0.8535031847133758 \n",
      " recall:0.921173235563703 \n",
      "}\n",
      "=====Epoch 56\n",
      "Training...\n"
     ]
    },
    {
     "name": "stderr",
     "output_type": "stream",
     "text": [
      "Iteration:  71%|███████   | 44/62 [00:03<00:01, 11.97it/s]\n",
      "Iteration: 100%|██████████| 62/62 [00:04<00:00, 12.80it/s]\n",
      "Iteration:  22%|██▏       | 4/18 [00:00<00:00, 18.54it/s]\n",
      "Iteration:   0%|          | 0/18 [00:00<?, ?it/s]"
     ]
    },
    {
     "name": "stdout",
     "output_type": "stream",
     "text": [
      "Evaluating...\n"
     ]
    },
    {
     "name": "stderr",
     "output_type": "stream",
     "text": [
      "Iteration:  83%|████████▎ | 15/18 [00:00<00:00, 23.66it/s]\n",
      "Iteration:  43%|████▎     | 3/7 [00:00<00:00, 21.30it/s]s]\n",
      "Iteration: 100%|██████████| 7/7 [00:00<00:00, 21.49it/s]s]\n",
      "Iteration:   2%|▏         | 1/62 [00:00<00:06,  9.46it/s]]"
     ]
    },
    {
     "name": "stdout",
     "output_type": "stream",
     "text": [
      "{'Train':  best_epoch_indx:56\n",
      " auc:0.9985241673638564 \n",
      " apur:0.9979480306865427 \n",
      " f1:0.9793951689596144 \n",
      " precision:0.9754988633493307 \n",
      " recall:0.9833227243793762 \n",
      ", 'Validation':  best_epoch_indx:56\n",
      " auc:0.9586230768934092 \n",
      " apur:0.9462133043829106 \n",
      " f1:0.8789443488238667 \n",
      " precision:0.8804597701149425 \n",
      " recall:0.8774341351660939 \n",
      ", 'Test':  best_epoch_indx:56\n",
      " auc:0.9615646998552588 \n",
      " apur:0.9515914702946613 \n",
      " f1:0.8777242486808902 \n",
      " precision:0.8787322002756086 \n",
      " recall:0.8767186067827681 \n",
      "}\n",
      "=====Epoch 57\n",
      "Training...\n",
      "{'Train':  best_epoch_indx:56\n",
      " auc:0.9982610803031323 \n",
      " apur:0.9976769579113349 \n",
      " f1:0.9756557841102094 \n",
      " precision:0.9643123601094256 \n",
      " recall:0.9872692552514322 \n",
      ", 'Validation':  best_epoch_indx:56\n",
      " auc:0.9653329785059452 \n",
      " apur:0.9550852856986379 \n",
      " f1:0.8969422423556058 \n",
      " precision:0.8868980963045913 \n",
      " recall:0.9072164948453608 \n",
      ", 'Test':  best_epoch_indx:56\n",
      " auc:0.9680909884881325 \n",
      " apur:0.9600365684515195 \n",
      " f1:0.8989990900818927 \n",
      " precision:0.8925022583559169 \n",
      " recall:0.9055912007332723 \n",
      "}\n",
      "=====Epoch 57\n",
      "Training...\n"
     ]
    },
    {
     "name": "stderr",
     "output_type": "stream",
     "text": [
      "Iteration:  44%|████▎     | 27/62 [00:01<00:01, 21.22it/s]\n",
      "Iteration: 100%|██████████| 62/62 [00:05<00:00, 11.44it/s]\n",
      "Iteration:   5%|▍         | 3/62 [00:00<00:02, 21.07it/s]]"
     ]
    },
    {
     "name": "stdout",
     "output_type": "stream",
     "text": [
      "Evaluating...\n"
     ]
    },
    {
     "name": "stderr",
     "output_type": "stream",
     "text": [
      "Iteration:  53%|█████▎    | 33/62 [00:01<00:01, 22.10it/s]\n",
      "Iteration: 100%|██████████| 62/62 [00:05<00:00, 12.22it/s]\n",
      "Iteration:   0%|          | 0/62 [00:00<?, ?it/s]"
     ]
    },
    {
     "name": "stdout",
     "output_type": "stream",
     "text": [
      "Evaluating...\n"
     ]
    },
    {
     "name": "stderr",
     "output_type": "stream",
     "text": [
      "Iteration:  56%|█████▋    | 35/62 [00:03<00:02, 10.05it/s]\n",
      "Iteration: 100%|██████████| 18/18 [00:00<00:00, 23.35it/s]\n",
      "Iteration:  81%|████████  | 50/62 [00:02<00:00, 21.32it/s]\n",
      "Iteration:  85%|████████▌ | 53/62 [00:02<00:00, 21.51it/s]"
     ]
    },
    {
     "name": "stdout",
     "output_type": "stream",
     "text": [
      "{'Train':  best_epoch_indx:57\n",
      " auc:0.99942306146425 \n",
      " apur:0.9991927435802384 \n",
      " f1:0.9890529531568227 \n",
      " precision:0.9889270714012982 \n",
      " recall:0.9891788669637174 \n",
      ", 'Validation':  best_epoch_indx:57\n",
      " auc:0.9668323170614121 \n",
      " apur:0.9549225519996886 \n",
      " f1:0.8882387361029842 \n",
      " precision:0.9078947368421053 \n",
      " recall:0.8694158075601375 \n",
      ", 'Test':  best_epoch_indx:57\n",
      " auc:0.9684403825784249 \n",
      " apur:0.9559376905597725 \n",
      " f1:0.8974180041870202 \n",
      " precision:0.911195087387813 \n",
      " recall:0.884051329055912 \n",
      "}\n",
      "=====Epoch 58\n",
      "Training...\n"
     ]
    },
    {
     "name": "stderr",
     "output_type": "stream",
     "text": [
      "Iteration:  94%|█████████▎| 58/62 [00:04<00:00, 11.26it/s]\n",
      "Iteration: 100%|██████████| 62/62 [00:05<00:00, 11.68it/s]\n",
      "Iteration:   0%|          | 0/62 [00:00<?, ?it/s]"
     ]
    },
    {
     "name": "stdout",
     "output_type": "stream",
     "text": [
      "Evaluating...\n"
     ]
    },
    {
     "name": "stderr",
     "output_type": "stream",
     "text": [
      "Iteration:  24%|██▍       | 15/62 [00:00<00:02, 21.90it/s]\n",
      "Iteration: 100%|██████████| 62/62 [00:06<00:00,  9.97it/s]\n",
      "Iteration:   3%|▎         | 2/62 [00:00<00:03, 18.01it/s]]"
     ]
    },
    {
     "name": "stdout",
     "output_type": "stream",
     "text": [
      "Evaluating...\n"
     ]
    },
    {
     "name": "stderr",
     "output_type": "stream",
     "text": [
      "\r",
      "Iteration:  86%|████████▌ | 6/7 [00:00<00:00, 22.16it/s]\r",
      "Iteration:  34%|███▍      | 21/62 [00:00<00:01, 21.85it/s]\r",
      "Iteration:   6%|▋         | 4/62 [00:00<00:03, 18.08it/s]\r",
      "Iteration: 100%|██████████| 7/7 [00:00<00:00, 22.40it/s]\r",
      "Iteration:  35%|███▌      | 22/62 [00:01<00:03, 11.68it/s]\n",
      "\r",
      "Iteration:   0%|          | 0/62 [00:00<?, ?it/s]\r",
      "Iteration:  10%|▉         | 6/62 [00:00<00:03, 18.61it/s]\r",
      "Iteration:  39%|███▊      | 24/62 [00:01<00:01, 21.84it/s]"
     ]
    },
    {
     "name": "stdout",
     "output_type": "stream",
     "text": [
      "{'Train':  best_epoch_indx:56\n",
      " auc:0.9991007973685825 \n",
      " apur:0.9987378078590619 \n",
      " f1:0.983710064402071 \n",
      " precision:0.9758236252035576 \n",
      " recall:0.991725015913431 \n",
      ", 'Validation':  best_epoch_indx:56\n",
      " auc:0.9666211561973304 \n",
      " apur:0.9492523141218292 \n",
      " f1:0.896393817973669 \n",
      " precision:0.8958810068649885 \n",
      " recall:0.8969072164948454 \n",
      ", 'Test':  best_epoch_indx:56\n",
      " auc:0.9656602799660037 \n",
      " apur:0.953912923499597 \n",
      " f1:0.8963943404837974 \n",
      " precision:0.8927272727272727 \n",
      " recall:0.9000916590284143 \n",
      "}\n",
      "=====Epoch 57\n",
      "Training...\n"
     ]
    },
    {
     "name": "stderr",
     "output_type": "stream",
     "text": [
      "Iteration:  39%|███▊      | 24/62 [00:01<00:01, 21.01it/s]\n",
      "Iteration:  26%|██▌       | 16/62 [00:01<00:03, 12.33it/s]\n",
      "Iteration:   3%|▎         | 2/62 [00:00<00:04, 12.16it/s]]"
     ]
    },
    {
     "name": "stdout",
     "output_type": "stream",
     "text": [
      "{'Train':  best_epoch_indx:58\n",
      " auc:0.9994146644387567 \n",
      " apur:0.9991686279623385 \n",
      " f1:0.9868180384736677 \n",
      " precision:0.977875 \n",
      " recall:0.9959261616804583 \n",
      ", 'Validation':  best_epoch_indx:58\n",
      " auc:0.9689101785321717 \n",
      " apur:0.9644832891893099 \n",
      " f1:0.9000571102227297 \n",
      " precision:0.89749430523918 \n",
      " recall:0.9026345933562429 \n",
      ", 'Test':  best_epoch_indx:58\n",
      " auc:0.9695104883235038 \n",
      " apur:0.9578859820782781 \n",
      " f1:0.9017393268579174 \n",
      " precision:0.889086859688196 \n",
      " recall:0.9147571035747021 \n",
      "}\n",
      "=====Epoch 59\n",
      "Training...\n"
     ]
    },
    {
     "name": "stderr",
     "output_type": "stream",
     "text": [
      "Iteration:  71%|███████   | 44/62 [00:03<00:01, 11.52it/s]\n",
      "Iteration: 100%|██████████| 62/62 [00:02<00:00, 21.02it/s]\n",
      "Iteration:  29%|██▉       | 18/62 [00:01<00:03, 12.31it/s]\n",
      "Iteration: 100%|██████████| 7/7 [00:00<00:00, 22.96it/s]]]\n",
      "Iteration:  33%|███▎      | 6/18 [00:00<00:00, 21.53it/s]]"
     ]
    },
    {
     "name": "stdout",
     "output_type": "stream",
     "text": [
      "{'Train':  best_epoch_indx:57\n",
      " auc:0.9992488384237457 \n",
      " apur:0.9989546357949965 \n",
      " f1:0.9859922672244407 \n",
      " precision:0.9818227720272659 \n",
      " recall:0.9901973265436028 \n",
      ", 'Validation':  best_epoch_indx:57\n",
      " auc:0.9670169622918764 \n",
      " apur:0.9557229661765815 \n",
      " f1:0.8987993138936535 \n",
      " precision:0.8972602739726028 \n",
      " recall:0.9003436426116839 \n",
      ", 'Test':  best_epoch_indx:57\n",
      " auc:0.9727758175759968 \n",
      " apur:0.9664488014340095 \n",
      " f1:0.9022314239705543 \n",
      " precision:0.9057736720554272 \n",
      " recall:0.8987167736021998 \n",
      "}\n",
      "=====Epoch 58\n",
      "Training...\n"
     ]
    },
    {
     "name": "stderr",
     "output_type": "stream",
     "text": [
      "Iteration: 100%|██████████| 62/62 [00:05<00:00, 11.57it/s]\n",
      "Iteration: 100%|██████████| 18/18 [00:00<00:00, 22.38it/s]"
     ]
    },
    {
     "name": "stdout",
     "output_type": "stream",
     "text": [
      "Evaluating...\n"
     ]
    },
    {
     "name": "stderr",
     "output_type": "stream",
     "text": [
      "Iteration: 100%|██████████| 62/62 [00:05<00:00, 11.57it/s]\n",
      "Iteration:  73%|███████▎  | 45/62 [00:02<00:00, 21.43it/s]"
     ]
    },
    {
     "name": "stdout",
     "output_type": "stream",
     "text": [
      "Evaluating...\n"
     ]
    },
    {
     "name": "stderr",
     "output_type": "stream",
     "text": [
      "Iteration: 100%|██████████| 62/62 [00:05<00:00, 12.16it/s]\n",
      "Iteration:  39%|███▊      | 24/62 [00:01<00:01, 22.11it/s]"
     ]
    },
    {
     "name": "stdout",
     "output_type": "stream",
     "text": [
      "Evaluating...\n"
     ]
    },
    {
     "name": "stderr",
     "output_type": "stream",
     "text": [
      "\n",
      "Iteration:  34%|███▍      | 21/62 [00:00<00:01, 21.55it/s]\n",
      "Iteration:  87%|████████▋ | 54/62 [00:02<00:00, 22.96it/s]\n",
      "Iteration:  92%|█████████▏| 57/62 [00:02<00:00, 22.93it/s]"
     ]
    },
    {
     "name": "stdout",
     "output_type": "stream",
     "text": [
      "{'Train':  best_epoch_indx:58\n",
      " auc:0.9995803796477193 \n",
      " apur:0.9994174699769021 \n",
      " f1:0.9894790214222334 \n",
      " precision:0.9852328663385082 \n",
      " recall:0.9937619350732018 \n",
      ", 'Validation':  best_epoch_indx:58\n",
      " auc:0.9661313401290491 \n",
      " apur:0.9550735217589915 \n",
      " f1:0.8904267589388697 \n",
      " precision:0.8966318234610917 \n",
      " recall:0.8843069873997709 \n",
      ", 'Test':  best_epoch_indx:58\n",
      " auc:0.9683830378006278 \n",
      " apur:0.956146798559101 \n",
      " f1:0.9014598540145985 \n",
      " precision:0.8973660308810173 \n",
      " recall:0.9055912007332723 \n",
      "}\n",
      "=====Epoch 59\n",
      "Training...\n"
     ]
    },
    {
     "name": "stderr",
     "output_type": "stream",
     "text": [
      "Iteration: 100%|██████████| 62/62 [00:05<00:00, 12.20it/s]\n",
      "Iteration:  63%|██████▎   | 39/62 [00:01<00:01, 21.62it/s]\n",
      "Iteration:  10%|▉         | 6/62 [00:00<00:04, 11.45it/s]"
     ]
    },
    {
     "name": "stdout",
     "output_type": "stream",
     "text": [
      "Evaluating...\n"
     ]
    },
    {
     "name": "stderr",
     "output_type": "stream",
     "text": [
      "Iteration:  15%|█▍        | 9/62 [00:00<00:02, 22.69it/s]]\n",
      "Iteration:  29%|██▉       | 18/62 [00:00<00:01, 22.06it/s]\n",
      "Iteration:  23%|██▎       | 14/62 [00:01<00:04, 11.30it/s]"
     ]
    },
    {
     "name": "stdout",
     "output_type": "stream",
     "text": [
      "{'Train':  best_epoch_indx:57\n",
      " auc:0.9989388544914227 \n",
      " apur:0.9985328599730767 \n",
      " f1:0.9828535273647581 \n",
      " precision:0.9769811320754717 \n",
      " recall:0.9887969446212603 \n",
      ", 'Validation':  best_epoch_indx:57\n",
      " auc:0.960990199821815 \n",
      " apur:0.9489693558131089 \n",
      " f1:0.8827586206896552 \n",
      " precision:0.8858131487889274 \n",
      " recall:0.8797250859106529 \n",
      ", 'Test':  best_epoch_indx:57\n",
      " auc:0.9659685766926829 \n",
      " apur:0.9558071548763618 \n",
      " f1:0.89031371651019 \n",
      " precision:0.8897025171624714 \n",
      " recall:0.8909257561869844 \n",
      "}\n",
      "=====Epoch 58\n",
      "Training...\n"
     ]
    },
    {
     "name": "stderr",
     "output_type": "stream",
     "text": [
      "Iteration:  34%|███▍      | 21/62 [00:00<00:01, 22.19it/s]\n",
      "Iteration: 100%|██████████| 7/7 [00:00<00:00, 22.22it/s]s]\n",
      "Iteration:   0%|          | 0/62 [00:00<?, ?it/s]\n",
      "Iteration:   3%|▎         | 2/62 [00:00<00:05, 11.79it/s]]"
     ]
    },
    {
     "name": "stdout",
     "output_type": "stream",
     "text": [
      "{'Train':  best_epoch_indx:57\n",
      " auc:0.9993076332664246 \n",
      " apur:0.9990657059449628 \n",
      " f1:0.9843522331327209 \n",
      " precision:0.9796973518284994 \n",
      " recall:0.9890515595162317 \n",
      ", 'Validation':  best_epoch_indx:57\n",
      " auc:0.9635048460936203 \n",
      " apur:0.9457488623580472 \n",
      " f1:0.8941041785918719 \n",
      " precision:0.8935926773455377 \n",
      " recall:0.8946162657502864 \n",
      ", 'Test':  best_epoch_indx:57\n",
      " auc:0.9656719341536852 \n",
      " apur:0.9536719032412733 \n",
      " f1:0.8947610294117647 \n",
      " precision:0.8972350230414746 \n",
      " recall:0.8923006416131989 \n",
      "}\n",
      "=====Epoch 58\n",
      "Training...\n"
     ]
    },
    {
     "name": "stderr",
     "output_type": "stream",
     "text": [
      "Iteration:  61%|██████▏   | 38/62 [00:03<00:02, 11.45it/s]\n",
      "Iteration: 100%|██████████| 62/62 [00:05<00:00, 11.53it/s]\n",
      "Iteration:  74%|███████▍  | 46/62 [00:03<00:01, 12.10it/s]"
     ]
    },
    {
     "name": "stdout",
     "output_type": "stream",
     "text": [
      "Evaluating...\n"
     ]
    },
    {
     "name": "stderr",
     "output_type": "stream",
     "text": [
      "Iteration: 100%|██████████| 62/62 [00:05<00:00, 12.17it/s]\n",
      "Iteration:  97%|█████████▋| 60/62 [00:05<00:00, 10.24it/s]"
     ]
    },
    {
     "name": "stdout",
     "output_type": "stream",
     "text": [
      "Evaluating...\n"
     ]
    },
    {
     "name": "stderr",
     "output_type": "stream",
     "text": [
      "\r",
      "Iteration:   5%|▍         | 3/62 [00:00<00:02, 21.18it/s]\r",
      "Iteration:  58%|█████▊    | 36/62 [00:01<00:01, 22.09it/s]\r",
      "Iteration:  10%|▉         | 6/62 [00:00<00:02, 20.64it/s]\r",
      "Iteration: 100%|██████████| 62/62 [00:05<00:00, 10.31it/s]\r",
      "Iteration: 100%|██████████| 62/62 [00:05<00:00, 10.53it/s]\n",
      "\r",
      "Iteration:   0%|          | 0/62 [00:00<?, ?it/s]"
     ]
    },
    {
     "name": "stdout",
     "output_type": "stream",
     "text": [
      "Evaluating...\n"
     ]
    },
    {
     "name": "stderr",
     "output_type": "stream",
     "text": [
      "Iteration:   6%|▋         | 4/62 [00:00<00:03, 18.04it/s]]\n",
      "Iteration: 100%|██████████| 7/7 [00:00<00:00, 22.77it/s]s]\n",
      "Iteration:  34%|███▍      | 21/62 [00:01<00:01, 21.08it/s]"
     ]
    },
    {
     "name": "stdout",
     "output_type": "stream",
     "text": [
      "{'Train':  best_epoch_indx:59\n",
      " auc:0.999613903154751 \n",
      " apur:0.9994453157085201 \n",
      " f1:0.9913263691041468 \n",
      " precision:0.9860201511335013 \n",
      " recall:0.9966900063653724 \n",
      ", 'Validation':  best_epoch_indx:59\n",
      " auc:0.9709099394093668 \n",
      " apur:0.9667440434988722 \n",
      " f1:0.9043778801843319 \n",
      " precision:0.9096176129779838 \n",
      " recall:0.8991981672394044 \n",
      ", 'Test':  best_epoch_indx:59\n",
      " auc:0.970518660481997 \n",
      " apur:0.9586643676263108 \n",
      " f1:0.9051862005940142 \n",
      " precision:0.9025056947608201 \n",
      " recall:0.9078826764436297 \n",
      "}\n",
      "=====Epoch 60\n",
      "Training...\n"
     ]
    },
    {
     "name": "stderr",
     "output_type": "stream",
     "text": [
      "Iteration:  10%|▉         | 6/62 [00:00<00:06,  9.16it/s]]\n",
      "Iteration:  33%|███▎      | 6/18 [00:00<00:00, 22.83it/s]]\n",
      "Iteration: 100%|██████████| 7/7 [00:00<00:00, 21.76it/s]s]\n",
      "Iteration: 100%|██████████| 18/18 [00:00<00:00, 23.54it/s]"
     ]
    },
    {
     "name": "stdout",
     "output_type": "stream",
     "text": [
      "{'Train':  best_epoch_indx:58\n",
      " auc:0.9996047931432614 \n",
      " apur:0.9994583575314302 \n",
      " f1:0.9887896636899107 \n",
      " precision:0.9838669019410133 \n",
      " recall:0.9937619350732018 \n",
      ", 'Validation':  best_epoch_indx:58\n",
      " auc:0.9682998368565378 \n",
      " apur:0.9590090909171268 \n",
      " f1:0.8988636363636363 \n",
      " precision:0.8917700112739572 \n",
      " recall:0.9060710194730813 \n",
      ", 'Test':  best_epoch_indx:58\n",
      " auc:0.9737878024030163 \n",
      " apur:0.967260509113119 \n",
      " f1:0.9115552492533884 \n",
      " precision:0.9138645785352372 \n",
      " recall:0.9092575618698442 \n",
      "}\n",
      "=====Epoch 59\n",
      "Training...\n"
     ]
    },
    {
     "name": "stderr",
     "output_type": "stream",
     "text": [
      "Iteration:  16%|█▌        | 10/62 [00:00<00:04, 12.17it/s]\n",
      "Iteration:  23%|██▎       | 14/62 [00:01<00:03, 12.21it/s]\n",
      "Iteration: 100%|██████████| 62/62 [00:05<00:00, 11.92it/s]\n",
      "Iteration:  74%|███████▍  | 46/62 [00:03<00:01, 11.28it/s]"
     ]
    },
    {
     "name": "stdout",
     "output_type": "stream",
     "text": [
      "Evaluating...\n"
     ]
    },
    {
     "name": "stderr",
     "output_type": "stream",
     "text": [
      "Iteration:  34%|███▍      | 21/62 [00:00<00:01, 21.40it/s]\n",
      "Iteration:  97%|█████████▋| 60/62 [00:05<00:00, 10.22it/s]\n",
      "Iteration: 100%|██████████| 62/62 [00:05<00:00, 11.42it/s]\n",
      "Iteration:   0%|          | 0/62 [00:00<?, ?it/s]"
     ]
    },
    {
     "name": "stdout",
     "output_type": "stream",
     "text": [
      "{'Train':  best_epoch_indx:59\n",
      " auc:0.9997521613386694 \n",
      " apur:0.9996619928377796 \n",
      " f1:0.9919380435472609 \n",
      " precision:0.9892377817168904 \n",
      " recall:0.9946530872056015 \n",
      ", 'Validation':  best_epoch_indx:59\n",
      " auc:0.9683384050508907 \n",
      " apur:0.9578828346694559 \n",
      " f1:0.8965915655690352 \n",
      " precision:0.9044289044289044 \n",
      " recall:0.8888888888888888 \n",
      ", 'Test':  best_epoch_indx:59\n",
      " auc:0.9703336864063393 \n",
      " apur:0.9581033946807018 \n",
      " f1:0.9060849598163031 \n",
      " precision:0.9079613437643811 \n",
      " recall:0.9042163153070577 \n",
      "}\n",
      "=====Epoch 60\n",
      "Training...\n",
      "Evaluating...\n"
     ]
    },
    {
     "name": "stderr",
     "output_type": "stream",
     "text": [
      "Iteration:  29%|██▉       | 18/62 [00:00<00:02, 19.28it/s]\n",
      "Iteration: 100%|██████████| 7/7 [00:00<00:00, 21.12it/s]s]\n",
      "Iteration: 100%|██████████| 62/62 [00:02<00:00, 21.55it/s]"
     ]
    },
    {
     "name": "stdout",
     "output_type": "stream",
     "text": [
      "{'Train':  best_epoch_indx:58\n",
      " auc:0.999730224919748 \n",
      " apur:0.9996300995631973 \n",
      " f1:0.99068500095051 \n",
      " precision:0.9862477920767095 \n",
      " recall:0.9951623169955442 \n",
      ", 'Validation':  best_epoch_indx:58\n",
      " auc:0.968749638423178 \n",
      " apur:0.9502675978365812 \n",
      " f1:0.9024390243902439 \n",
      " precision:0.9151943462897526 \n",
      " recall:0.8900343642611683 \n",
      ", 'Test':  best_epoch_indx:58\n",
      " auc:0.9691066779575936 \n",
      " apur:0.9580071008174913 \n",
      " f1:0.9032855159648311 \n",
      " precision:0.9121495327102803 \n",
      " recall:0.8945921173235564 \n",
      "}\n",
      "=====Epoch 59\n",
      "Training...\n"
     ]
    },
    {
     "name": "stderr",
     "output_type": "stream",
     "text": [
      "Iteration:   3%|▎         | 2/62 [00:00<00:05, 10.01it/s]]\n",
      "Iteration:  48%|████▊     | 30/62 [00:01<00:01, 18.62it/s]\n",
      "Iteration:  67%|██████▋   | 12/18 [00:00<00:00, 22.37it/s]\n",
      "Iteration:   0%|          | 0/62 [00:00<?, ?it/s]"
     ]
    },
    {
     "name": "stdout",
     "output_type": "stream",
     "text": [
      "{'Train':  best_epoch_indx:58\n",
      " auc:0.9993514811653997 \n",
      " apur:0.9990948986312929 \n",
      " f1:0.9869028788358114 \n",
      " precision:0.9810062893081761 \n",
      " recall:0.992870782940802 \n",
      ", 'Validation':  best_epoch_indx:58\n",
      " auc:0.9604463882814398 \n",
      " apur:0.9459934884538522 \n",
      " f1:0.8767281105990784 \n",
      " precision:0.8818076477404403 \n",
      " recall:0.8717067583046965 \n",
      ", 'Test':  best_epoch_indx:58\n",
      " auc:0.9668928823832582 \n",
      " apur:0.9563133858417274 \n",
      " f1:0.8862330498735922 \n",
      " precision:0.8888888888888888 \n",
      " recall:0.8835930339138405 \n",
      "}\n",
      "=====Epoch 59\n",
      "Training...\n"
     ]
    },
    {
     "name": "stderr",
     "output_type": "stream",
     "text": [
      "Iteration:   5%|▍         | 3/62 [00:00<00:06,  9.59it/s]]\n",
      "Iteration: 100%|██████████| 7/7 [00:00<00:00, 22.64it/s]]]\n",
      "Iteration:  26%|██▌       | 16/62 [00:01<00:04, 10.37it/s]"
     ]
    },
    {
     "name": "stdout",
     "output_type": "stream",
     "text": [
      "{'Train':  best_epoch_indx:60\n",
      " auc:0.9996243781196741 \n",
      " apur:0.9994635122676312 \n",
      " f1:0.9910183428209993 \n",
      " precision:0.9847894406033941 \n",
      " recall:0.9973265436028008 \n",
      ", 'Validation':  best_epoch_indx:60\n",
      " auc:0.970175215306945 \n",
      " apur:0.9648462340604474 \n",
      " f1:0.8990929705215419 \n",
      " precision:0.8900112233445566 \n",
      " recall:0.9083619702176403 \n",
      ", 'Test':  best_epoch_indx:60\n",
      " auc:0.9695368750135018 \n",
      " apur:0.9582845615541807 \n",
      " f1:0.9006352087114337 \n",
      " precision:0.8917340521114105 \n",
      " recall:0.9097158570119157 \n",
      "}\n",
      "=====Epoch 61\n",
      "Training...\n"
     ]
    },
    {
     "name": "stderr",
     "output_type": "stream",
     "text": [
      "Iteration:  61%|██████▏   | 38/62 [00:03<00:01, 12.47it/s]\n",
      "Iteration: 100%|██████████| 62/62 [00:05<00:00, 11.76it/s]\n",
      "Iteration:   0%|          | 0/62 [00:00<?, ?it/s]"
     ]
    },
    {
     "name": "stdout",
     "output_type": "stream",
     "text": [
      "Evaluating...\n"
     ]
    },
    {
     "name": "stderr",
     "output_type": "stream",
     "text": [
      "Iteration: 100%|██████████| 62/62 [00:06<00:00, 10.33it/s]\n",
      "Iteration:  82%|████████▏ | 51/62 [00:02<00:00, 22.59it/s]"
     ]
    },
    {
     "name": "stdout",
     "output_type": "stream",
     "text": [
      "Evaluating...\n"
     ]
    },
    {
     "name": "stderr",
     "output_type": "stream",
     "text": [
      "Iteration: 100%|██████████| 62/62 [00:05<00:00, 12.36it/s]\n",
      "Iteration: 100%|██████████| 62/62 [00:02<00:00, 22.46it/s]"
     ]
    },
    {
     "name": "stdout",
     "output_type": "stream",
     "text": [
      "Evaluating...\n"
     ]
    },
    {
     "name": "stderr",
     "output_type": "stream",
     "text": [
      "Iteration:  21%|██        | 13/62 [00:00<00:02, 21.48it/s]\n",
      "Iteration: 100%|██████████| 62/62 [00:06<00:00,  9.93it/s]\n",
      "Iteration:   0%|          | 0/62 [00:00<?, ?it/s]"
     ]
    },
    {
     "name": "stdout",
     "output_type": "stream",
     "text": [
      "Evaluating...\n"
     ]
    },
    {
     "name": "stderr",
     "output_type": "stream",
     "text": [
      "Iteration:  34%|███▍      | 21/62 [00:00<00:01, 22.24it/s]\n",
      "Iteration:  48%|████▊     | 30/62 [00:01<00:01, 22.23it/s]\n",
      "Iteration:  65%|██████▍   | 40/62 [00:01<00:00, 22.13it/s]"
     ]
    },
    {
     "name": "stdout",
     "output_type": "stream",
     "text": [
      "{'Train':  best_epoch_indx:59\n",
      " auc:0.9997497318981372 \n",
      " apur:0.9996567670920198 \n",
      " f1:0.9913252706895461 \n",
      " precision:0.9861426051902242 \n",
      " recall:0.9965626989178867 \n",
      ", 'Validation':  best_epoch_indx:59\n",
      " auc:0.9696805782143697 \n",
      " apur:0.9605304159454879 \n",
      " f1:0.9002816901408451 \n",
      " precision:0.885809312638581 \n",
      " recall:0.9152348224513173 \n",
      ", 'Test':  best_epoch_indx:59\n",
      " auc:0.9744313296671779 \n",
      " apur:0.9690583537586585 \n",
      " f1:0.9132524605172808 \n",
      " precision:0.9122085048010974 \n",
      " recall:0.9142988084326306 \n",
      "}\n",
      "=====Epoch 60\n",
      "Training...\n"
     ]
    },
    {
     "name": "stderr",
     "output_type": "stream",
     "text": [
      "Iteration:  63%|██████▎   | 39/62 [00:01<00:01, 21.32it/s]\n",
      "Iteration:  50%|█████     | 9/18 [00:00<00:00, 22.66it/s]]\n",
      "Iteration:  83%|████████▎ | 15/18 [00:00<00:00, 22.66it/s]\n",
      "Iteration:  35%|███▌      | 22/62 [00:02<00:03, 10.27it/s]\n",
      "Iteration:  42%|████▏     | 26/62 [00:02<00:03, 10.29it/s]\n",
      "Iteration:   0%|          | 0/62 [00:00<?, ?it/s]"
     ]
    },
    {
     "name": "stdout",
     "output_type": "stream",
     "text": [
      "{'Train':  best_epoch_indx:61\n",
      " auc:0.9996236158709476 \n",
      " apur:0.9994603075599511 \n",
      " f1:0.9901966985010436 \n",
      " precision:0.983911513323278 \n",
      " recall:0.9965626989178867 \n",
      ", 'Validation':  best_epoch_indx:61\n",
      " auc:0.9683673311966555 \n",
      " apur:0.9628967601215302 \n",
      " f1:0.902675014228799 \n",
      " precision:0.8970588235294118 \n",
      " recall:0.9083619702176403 \n",
      ", 'Test':  best_epoch_indx:61\n",
      " auc:0.9690912331379794 \n",
      " apur:0.9585318921389414 \n",
      " f1:0.9012429378531074 \n",
      " precision:0.888987962550156 \n",
      " recall:0.9138405132905592 \n",
      "}\n",
      "=====Epoch 62\n",
      "Training...\n"
     ]
    },
    {
     "name": "stderr",
     "output_type": "stream",
     "text": [
      "Iteration:  29%|██▉       | 18/62 [00:01<00:03, 12.39it/s]\n",
      "Iteration: 100%|██████████| 7/7 [00:00<00:00, 23.02it/s]s]"
     ]
    },
    {
     "name": "stdout",
     "output_type": "stream",
     "text": [
      "{'Train':  best_epoch_indx:60\n",
      " auc:0.9997858281444731 \n",
      " apur:0.9997075218373322 \n",
      " f1:0.9925022239166349 \n",
      " precision:0.9907395661550171 \n",
      " recall:0.9942711648631445 \n",
      ", 'Validation':  best_epoch_indx:60\n",
      " auc:0.9681817217613322 \n",
      " apur:0.9576059784518594 \n",
      " f1:0.8959537572254335 \n",
      " precision:0.9043173862310385 \n",
      " recall:0.8877434135166093 \n",
      ", 'Test':  best_epoch_indx:60\n",
      " auc:0.970395584807138 \n",
      " apur:0.9591987326059486 \n",
      " f1:0.9020962911771481 \n",
      " precision:0.9069013432144511 \n",
      " recall:0.8973418881759854 \n",
      "}\n",
      "=====Epoch 61\n",
      "Training...\n"
     ]
    },
    {
     "name": "stderr",
     "output_type": "stream",
     "text": [
      "\n",
      "Iteration: 100%|██████████| 62/62 [00:06<00:00,  9.77it/s]\n",
      "Iteration:   3%|▎         | 2/62 [00:00<00:03, 16.62it/s]]"
     ]
    },
    {
     "name": "stdout",
     "output_type": "stream",
     "text": [
      "Evaluating...\n"
     ]
    },
    {
     "name": "stderr",
     "output_type": "stream",
     "text": [
      "Iteration:  39%|███▊      | 24/62 [00:01<00:03, 12.27it/s]\n",
      "Iteration:  19%|█▉        | 12/62 [00:00<00:02, 17.50it/s]\n",
      "Iteration:  87%|████████▋ | 54/62 [00:04<00:00, 11.99it/s]"
     ]
    },
    {
     "name": "stdout",
     "output_type": "stream",
     "text": [
      "{'Train':  best_epoch_indx:59\n",
      " auc:0.9997795163626988 \n",
      " apur:0.9996978605009891 \n",
      " f1:0.9916339206490049 \n",
      " precision:0.9873785182380411 \n",
      " recall:0.9959261616804583 \n",
      ", 'Validation':  best_epoch_indx:59\n",
      " auc:0.9693363570797707 \n",
      " apur:0.9518147200699013 \n",
      " f1:0.9031141868512111 \n",
      " precision:0.9094076655052264 \n",
      " recall:0.8969072164948454 \n",
      ", 'Test':  best_epoch_indx:59\n",
      " auc:0.9704730735782123 \n",
      " apur:0.9599532923715772 \n",
      " f1:0.905852417302799 \n",
      " precision:0.9145259224661373 \n",
      " recall:0.8973418881759854 \n",
      "}\n",
      "=====Epoch 60\n",
      "Training...\n"
     ]
    },
    {
     "name": "stderr",
     "output_type": "stream",
     "text": [
      "Iteration: 100%|██████████| 62/62 [00:05<00:00, 12.21it/s]\n",
      "Iteration:   0%|          | 0/62 [00:00<?, ?it/s]"
     ]
    },
    {
     "name": "stdout",
     "output_type": "stream",
     "text": [
      "Evaluating...\n"
     ]
    },
    {
     "name": "stderr",
     "output_type": "stream",
     "text": [
      "Iteration:  16%|█▌        | 10/62 [00:01<00:04, 10.57it/s]\n",
      "Iteration:  19%|█▉        | 12/62 [00:00<00:02, 21.68it/s]\n",
      "Iteration:  26%|██▌       | 16/62 [00:01<00:03, 11.66it/s]"
     ]
    },
    {
     "name": "stdout",
     "output_type": "stream",
     "text": [
      "{'Train':  best_epoch_indx:59\n",
      " auc:0.9996663256199121 \n",
      " apur:0.9995401359826537 \n",
      " f1:0.9915125411705092 \n",
      " precision:0.9866380940375646 \n",
      " recall:0.996435391470401 \n",
      ", 'Validation':  best_epoch_indx:59\n",
      " auc:0.9635520921317027 \n",
      " apur:0.9505183963752877 \n",
      " f1:0.8836132020845396 \n",
      " precision:0.8934426229508197 \n",
      " recall:0.8739977090492554 \n",
      ", 'Test':  best_epoch_indx:59\n",
      " auc:0.9691116018109602 \n",
      " apur:0.9596609442460656 \n",
      " f1:0.8966467615985301 \n",
      " precision:0.8987108655616943 \n",
      " recall:0.8945921173235564 \n",
      "}\n",
      "=====Epoch 60\n",
      "Training...\n"
     ]
    },
    {
     "name": "stderr",
     "output_type": "stream",
     "text": [
      "Iteration: 100%|██████████| 62/62 [00:05<00:00, 12.13it/s]\n",
      "Iteration:  23%|██▎       | 14/62 [00:01<00:04, 11.22it/s]"
     ]
    },
    {
     "name": "stdout",
     "output_type": "stream",
     "text": [
      "Evaluating...\n"
     ]
    },
    {
     "name": "stderr",
     "output_type": "stream",
     "text": [
      "Iteration:   5%|▍         | 3/62 [00:00<00:02, 21.46it/s]]\n",
      "Iteration:  71%|███████   | 44/62 [00:03<00:01, 12.06it/s]\n",
      "Iteration:   0%|          | 0/18 [00:00<?, ?it/s]\n",
      "Iteration:  52%|█████▏    | 32/62 [00:02<00:02, 12.20it/s]\n",
      "Iteration:  67%|██████▋   | 12/18 [00:00<00:00, 22.13it/s]"
     ]
    },
    {
     "name": "stdout",
     "output_type": "stream",
     "text": [
      "{'Train':  best_epoch_indx:60\n",
      " auc:0.9997106822142922 \n",
      " apur:0.999598106836109 \n",
      " f1:0.992014196983141 \n",
      " precision:0.9877571626908999 \n",
      " recall:0.9963080840229154 \n",
      ", 'Validation':  best_epoch_indx:60\n",
      " auc:0.9701636448486392 \n",
      " apur:0.9610188106175341 \n",
      " f1:0.9046259280411194 \n",
      " precision:0.9020501138952164 \n",
      " recall:0.9072164948453608 \n",
      ", 'Test':  best_epoch_indx:60\n",
      " auc:0.9737697422711125 \n",
      " apur:0.9679520432104881 \n",
      " f1:0.9092169092169092 \n",
      " precision:0.9166278528178854 \n",
      " recall:0.9019248395967002 \n",
      "}\n",
      "=====Epoch 61\n",
      "Training...\n"
     ]
    },
    {
     "name": "stderr",
     "output_type": "stream",
     "text": [
      "Iteration:  65%|██████▍   | 40/62 [00:03<00:01, 12.03it/s]\n",
      "Iteration: 100%|██████████| 62/62 [00:05<00:00, 11.68it/s]\n",
      "Iteration:  92%|█████████▏| 57/62 [00:02<00:00, 21.98it/s]\n",
      "Iteration:   0%|          | 0/62 [00:00<?, ?it/s]"
     ]
    },
    {
     "name": "stdout",
     "output_type": "stream",
     "text": [
      "Evaluating...\n",
      "{'Train':  best_epoch_indx:62\n",
      " auc:0.998725978669303 \n",
      " apur:0.9982011712600525 \n",
      " f1:0.9798979141722856 \n",
      " precision:0.9701771899176441 \n",
      " recall:0.9898154042011458 \n",
      ", 'Validation':  best_epoch_indx:62\n",
      " auc:0.9642559616786419 \n",
      " apur:0.959359741786708 \n",
      " f1:0.891156462585034 \n",
      " precision:0.8821548821548821 \n",
      " recall:0.9003436426116839 \n",
      ", 'Test':  best_epoch_indx:62\n",
      " auc:0.9667722905807232 \n",
      " apur:0.9533891635785029 \n",
      " f1:0.8984392671341326 \n",
      " precision:0.8870031263957123 \n",
      " recall:0.9101741521539871 \n",
      "}\n",
      "=====Epoch 63\n",
      "Training...\n"
     ]
    },
    {
     "name": "stderr",
     "output_type": "stream",
     "text": [
      "Iteration:  15%|█▍        | 9/62 [00:00<00:02, 21.97it/s]]\n",
      "Iteration:  26%|██▌       | 16/62 [00:01<00:03, 12.29it/s]\n",
      "Iteration: 100%|██████████| 62/62 [00:05<00:00, 11.32it/s]\n",
      "Iteration:   5%|▍         | 3/62 [00:00<00:02, 21.83it/s]]\n",
      "Iteration:   0%|          | 0/62 [00:00<?, ?it/s]"
     ]
    },
    {
     "name": "stdout",
     "output_type": "stream",
     "text": [
      "Evaluating...\n",
      "{'Train':  best_epoch_indx:61\n",
      " auc:0.9997664164382616 \n",
      " apur:0.9996798050977307 \n",
      " f1:0.9903195191395129 \n",
      " precision:0.9844025157232704 \n",
      " recall:0.9963080840229154 \n",
      ", 'Validation':  best_epoch_indx:61\n",
      " auc:0.9675911462853044 \n",
      " apur:0.9557883664242932 \n",
      " f1:0.8904188181296614 \n",
      " precision:0.8919540229885058 \n",
      " recall:0.8888888888888888 \n",
      ", 'Test':  best_epoch_indx:61\n",
      " auc:0.9694062909150745 \n",
      " apur:0.9573066005400981 \n",
      " f1:0.9035625141819832 \n",
      " precision:0.8948314606741573 \n",
      " recall:0.9124656278643446 \n",
      "}\n",
      "=====Epoch 62\n",
      "Training...\n"
     ]
    },
    {
     "name": "stderr",
     "output_type": "stream",
     "text": [
      "Iteration:  58%|█████▊    | 36/62 [00:02<00:02, 12.35it/s]\n",
      "Iteration:  84%|████████▍ | 52/62 [00:04<00:00, 10.71it/s]\n",
      "Iteration: 100%|██████████| 7/7 [00:00<00:00, 22.68it/s]s]\n",
      "Iteration:  84%|████████▍ | 52/62 [00:04<00:00, 12.37it/s]"
     ]
    },
    {
     "name": "stdout",
     "output_type": "stream",
     "text": [
      "{'Train':  best_epoch_indx:60\n",
      " auc:0.9997968916261115 \n",
      " apur:0.9997211615507489 \n",
      " f1:0.9918874382050957 \n",
      " precision:0.9876309478732803 \n",
      " recall:0.9961807765754297 \n",
      ", 'Validation':  best_epoch_indx:60\n",
      " auc:0.9687549415499015 \n",
      " apur:0.9509716466912144 \n",
      " f1:0.9035591274397246 \n",
      " precision:0.905638665132336 \n",
      " recall:0.9014891179839634 \n",
      ", 'Test':  best_epoch_indx:60\n",
      " auc:0.9701994702978748 \n",
      " apur:0.95972889263342 \n",
      " f1:0.9055299539170507 \n",
      " precision:0.9105653382761817 \n",
      " recall:0.9005499541704858 \n",
      "}\n",
      "=====Epoch 61\n",
      "Training...\n"
     ]
    },
    {
     "name": "stderr",
     "output_type": "stream",
     "text": [
      "Iteration:   6%|▋         | 4/62 [00:00<00:04, 12.29it/s]]\n",
      "Iteration: 100%|██████████| 62/62 [00:05<00:00, 10.71it/s]\n",
      "Iteration:  65%|██████▍   | 40/62 [00:03<00:01, 12.43it/s]"
     ]
    },
    {
     "name": "stdout",
     "output_type": "stream",
     "text": [
      "Evaluating...\n"
     ]
    },
    {
     "name": "stderr",
     "output_type": "stream",
     "text": [
      "\r",
      "Iteration:   6%|▋         | 4/62 [00:00<00:03, 18.51it/s]\r",
      "Iteration:  16%|█▌        | 10/62 [00:00<00:04, 12.24it/s]\r",
      "Iteration: 100%|██████████| 62/62 [00:05<00:00, 12.52it/s]\r",
      "Iteration: 100%|██████████| 62/62 [00:05<00:00, 12.37it/s]\n",
      "\r",
      "Iteration:   0%|          | 0/62 [00:00<?, ?it/s]\r",
      "Iteration:  67%|██████▋   | 12/18 [00:00<00:00, 22.14it/s]\r",
      "Iteration:  10%|▉         | 6/62 [00:00<00:03, 18.33it/s]\r",
      "Iteration:  68%|██████▊   | 42/62 [00:03<00:01, 12.34it/s]\r",
      "Iteration:   5%|▍         | 3/62 [00:00<00:02, 21.92it/s]\r",
      "Iteration:  19%|█▉        | 12/62 [00:00<00:04, 12.27it/s]"
     ]
    },
    {
     "name": "stdout",
     "output_type": "stream",
     "text": [
      "Evaluating...\n"
     ]
    },
    {
     "name": "stderr",
     "output_type": "stream",
     "text": [
      "Iteration:  23%|██▎       | 14/62 [00:01<00:03, 12.29it/s]\n",
      "Iteration:  24%|██▍       | 15/62 [00:00<00:02, 21.97it/s]\n",
      "Iteration:  32%|███▏      | 20/62 [00:01<00:03, 12.25it/s]"
     ]
    },
    {
     "name": "stdout",
     "output_type": "stream",
     "text": [
      "{'Train':  best_epoch_indx:60\n",
      " auc:0.9997261025942719 \n",
      " apur:0.9996243418381103 \n",
      " f1:0.9902090834438758 \n",
      " precision:0.9826980942828486 \n",
      " recall:0.9978357733927434 \n",
      ", 'Validation':  best_epoch_indx:60\n",
      " auc:0.9634551895433912 \n",
      " apur:0.9510519971944302 \n",
      " f1:0.889267461669506 \n",
      " precision:0.8817567567567568 \n",
      " recall:0.8969072164948454 \n",
      ", 'Test':  best_epoch_indx:60\n",
      " auc:0.9676085634839072 \n",
      " apur:0.9578974031056773 \n",
      " f1:0.8908474576271187 \n",
      " precision:0.8787338386090058 \n",
      " recall:0.9032997250229148 \n",
      "}\n",
      "=====Epoch 61\n",
      "Training...\n"
     ]
    },
    {
     "name": "stderr",
     "output_type": "stream",
     "text": [
      "Iteration: 100%|██████████| 62/62 [00:05<00:00, 12.38it/s]\n",
      "Iteration:   5%|▍         | 3/62 [00:00<00:02, 21.64it/s]]"
     ]
    },
    {
     "name": "stdout",
     "output_type": "stream",
     "text": [
      "Evaluating...\n"
     ]
    },
    {
     "name": "stderr",
     "output_type": "stream",
     "text": [
      "Iteration:  97%|█████████▋| 60/62 [00:03<00:00, 19.06it/s]\n",
      "Iteration:  45%|████▌     | 28/62 [00:02<00:02, 11.39it/s]\n",
      "Iteration:  58%|█████▊    | 36/62 [00:03<00:02, 11.21it/s]\n",
      "Iteration: 100%|██████████| 62/62 [00:05<00:00, 12.31it/s]\n",
      "Iteration: 100%|██████████| 7/7 [00:00<00:00, 22.69it/s]\n",
      "Iteration:   0%|          | 0/7 [00:00<?, ?it/s]\n",
      "Iteration:  92%|█████████▏| 57/62 [00:02<00:00, 22.51it/s]"
     ]
    },
    {
     "name": "stdout",
     "output_type": "stream",
     "text": [
      "Evaluating...\n",
      "{'Train':  best_epoch_indx:63\n",
      " auc:0.9990212607248545 \n",
      " apur:0.9986125321900885 \n",
      " f1:0.9836541495739982 \n",
      " precision:0.9753441802252816 \n",
      " recall:0.9921069382558879 \n",
      ", 'Validation':  best_epoch_indx:63\n",
      " auc:0.966321288486237 \n",
      " apur:0.9590660900193333 \n",
      " f1:0.8986983588002264 \n",
      " precision:0.8881431767337807 \n",
      " recall:0.9095074455899198 \n",
      ", 'Test':  best_epoch_indx:63\n",
      " auc:0.9666636576581582 \n",
      " apur:0.9528143340422677 \n",
      " f1:0.8965047662278711 \n",
      " precision:0.8880395683453237 \n",
      " recall:0.9051329055912007 \n",
      "}\n",
      "=====Epoch 64\n",
      "Training...\n"
     ]
    },
    {
     "name": "stderr",
     "output_type": "stream",
     "text": [
      "Iteration: 100%|██████████| 7/7 [00:00<00:00, 18.32it/s]]]\n",
      "Iteration:   0%|          | 0/18 [00:00<?, ?it/s]0.97it/s]\n",
      "Iteration:   2%|▏         | 1/62 [00:00<00:06,  9.85it/s]]"
     ]
    },
    {
     "name": "stdout",
     "output_type": "stream",
     "text": [
      "{'Train':  best_epoch_indx:61\n",
      " auc:0.9995946764288892 \n",
      " apur:0.9994467074906598 \n",
      " f1:0.9899822470200356 \n",
      " precision:0.9861058481748137 \n",
      " recall:0.9938892425206874 \n",
      ", 'Validation':  best_epoch_indx:61\n",
      " auc:0.9660320270285906 \n",
      " apur:0.9551842347621569 \n",
      " f1:0.8978893325727324 \n",
      " precision:0.8943181818181818 \n",
      " recall:0.9014891179839634 \n",
      ", 'Test':  best_epoch_indx:61\n",
      " auc:0.9725266803717855 \n",
      " apur:0.966151639981952 \n",
      " f1:0.9037445439926488 \n",
      " precision:0.9060340856748043 \n",
      " recall:0.9014665444546288 \n",
      "}\n",
      "=====Epoch 62\n",
      "Training...\n"
     ]
    },
    {
     "name": "stderr",
     "output_type": "stream",
     "text": [
      "Iteration:  16%|█▌        | 10/62 [00:01<00:05, 10.00it/s]\n",
      "Iteration: 100%|██████████| 7/7 [00:00<00:00, 22.86it/s]s]\n",
      "Iteration:  23%|██▎       | 14/62 [00:01<00:04, 10.15it/s]"
     ]
    },
    {
     "name": "stdout",
     "output_type": "stream",
     "text": [
      "{'Train':  best_epoch_indx:62\n",
      " auc:0.9994730198124447 \n",
      " apur:0.9992843539627045 \n",
      " f1:0.9870146322923925 \n",
      " precision:0.9822239031770046 \n",
      " recall:0.9918523233609167 \n",
      ", 'Validation':  best_epoch_indx:62\n",
      " auc:0.9625710136878523 \n",
      " apur:0.9483131213380461 \n",
      " f1:0.8879999999999999 \n",
      " precision:0.8859749144811858 \n",
      " recall:0.8900343642611683 \n",
      ", 'Test':  best_epoch_indx:62\n",
      " auc:0.9688333062174088 \n",
      " apur:0.9577653063648158 \n",
      " f1:0.8983397771207642 \n",
      " precision:0.891647855530474 \n",
      " recall:0.9051329055912007 \n",
      "}\n",
      "=====Epoch 63\n",
      "Training...\n"
     ]
    },
    {
     "name": "stderr",
     "output_type": "stream",
     "text": [
      "\r",
      "Iteration:  31%|███       | 19/62 [00:01<00:04, 10.04it/s]\r",
      "Iteration:  97%|█████████▋| 60/62 [00:05<00:00, 10.97it/s]\r",
      "Iteration:  73%|███████▎  | 45/62 [00:01<00:00, 22.50it/s]\r",
      "Iteration:   3%|▎         | 2/62 [00:00<00:04, 12.11it/s]\r",
      "Iteration:  26%|██▌       | 16/62 [00:01<00:04, 10.18it/s]\r",
      "Iteration: 100%|██████████| 62/62 [00:05<00:00, 11.02it/s]\r",
      "Iteration: 100%|██████████| 62/62 [00:05<00:00, 11.08it/s]\n",
      "\r",
      "Iteration:   0%|          | 0/62 [00:00<?, ?it/s]\r",
      "Iteration:  34%|███▍      | 21/62 [00:02<00:04, 10.01it/s]"
     ]
    },
    {
     "name": "stdout",
     "output_type": "stream",
     "text": [
      "Evaluating...\n"
     ]
    },
    {
     "name": "stderr",
     "output_type": "stream",
     "text": [
      "Iteration:  47%|████▋     | 29/62 [00:02<00:03, 10.25it/s]\n",
      "Iteration:  39%|███▊      | 24/62 [00:01<00:03, 12.26it/s]\n",
      "Iteration: 100%|██████████| 7/7 [00:00<00:00, 22.26it/s]s]\n",
      "Iteration:  61%|██████▏   | 38/62 [00:03<00:02, 10.25it/s]"
     ]
    },
    {
     "name": "stdout",
     "output_type": "stream",
     "text": [
      "{'Train':  best_epoch_indx:61\n",
      " auc:0.9997959746314008 \n",
      " apur:0.9997190061068042 \n",
      " f1:0.9922677145392319 \n",
      " precision:0.988009592326139 \n",
      " recall:0.9965626989178867 \n",
      ", 'Validation':  best_epoch_indx:61\n",
      " auc:0.9679035486595624 \n",
      " apur:0.9506052027251141 \n",
      " f1:0.8979357798165136 \n",
      " precision:0.8989667049368542 \n",
      " recall:0.8969072164948454 \n",
      ", 'Test':  best_epoch_indx:61\n",
      " auc:0.969902867362378 \n",
      " apur:0.9595026762940925 \n",
      " f1:0.9033882783882784 \n",
      " precision:0.9025617566331199 \n",
      " recall:0.9042163153070577 \n",
      "}\n",
      "=====Epoch 62\n",
      "Training...\n"
     ]
    },
    {
     "name": "stderr",
     "output_type": "stream",
     "text": [
      "Iteration:  85%|████████▌ | 53/62 [00:05<00:00, 10.49it/s]\n",
      "Iteration: 100%|██████████| 62/62 [00:06<00:00, 10.31it/s]\n",
      "Iteration:  84%|████████▍ | 52/62 [00:04<00:00, 12.37it/s]"
     ]
    },
    {
     "name": "stdout",
     "output_type": "stream",
     "text": [
      "Evaluating...\n"
     ]
    },
    {
     "name": "stderr",
     "output_type": "stream",
     "text": [
      "Iteration:  39%|███▊      | 24/62 [00:01<00:03, 12.26it/s]\n",
      "Iteration: 100%|██████████| 7/7 [00:00<00:00, 21.43it/s]s]\n",
      "Iteration: 100%|██████████| 62/62 [00:06<00:00, 10.16it/s]\n",
      "Iteration:   0%|          | 0/62 [00:00<?, ?it/s]"
     ]
    },
    {
     "name": "stdout",
     "output_type": "stream",
     "text": [
      "{'Train':  best_epoch_indx:61\n",
      " auc:0.9996149214714092 \n",
      " apur:0.99946894017182 \n",
      " f1:0.9869001133644036 \n",
      " precision:0.9765673688146579 \n",
      " recall:0.9974538510502864 \n",
      ", 'Validation':  best_epoch_indx:61\n",
      " auc:0.9643692557495535 \n",
      " apur:0.9502901194479632 \n",
      " f1:0.8848553601815088 \n",
      " precision:0.8764044943820225 \n",
      " recall:0.8934707903780069 \n",
      ", 'Test':  best_epoch_indx:61\n",
      " auc:0.9676160474281464 \n",
      " apur:0.9581385358778368 \n",
      " f1:0.893195132942767 \n",
      " precision:0.8785460992907801 \n",
      " recall:0.9083409715857012 \n",
      "}\n",
      "=====Epoch 62\n",
      "Training...\n",
      "Evaluating...\n"
     ]
    },
    {
     "name": "stderr",
     "output_type": "stream",
     "text": [
      "Iteration: 100%|██████████| 62/62 [00:05<00:00, 12.32it/s]\n",
      "Iteration:  10%|▉         | 6/62 [00:00<00:05, 10.94it/s]]"
     ]
    },
    {
     "name": "stdout",
     "output_type": "stream",
     "text": [
      "Evaluating...\n"
     ]
    },
    {
     "name": "stderr",
     "output_type": "stream",
     "text": [
      "Iteration:  74%|███████▍  | 46/62 [00:02<00:00, 18.16it/s]\n",
      "Iteration: 100%|██████████| 62/62 [00:05<00:00, 12.20it/s]\n",
      "Iteration:  33%|███▎      | 6/18 [00:00<00:00, 22.47it/s]]"
     ]
    },
    {
     "name": "stdout",
     "output_type": "stream",
     "text": [
      "Evaluating...\n"
     ]
    },
    {
     "name": "stderr",
     "output_type": "stream",
     "text": [
      "Iteration:  83%|████████▎ | 15/18 [00:00<00:00, 22.91it/s]\n",
      "Iteration: 100%|██████████| 62/62 [00:03<00:00, 18.04it/s]\n",
      "Iteration:  43%|████▎     | 3/7 [00:00<00:00, 22.17it/s]]]\n",
      "Iteration:  39%|███▊      | 24/62 [00:01<00:01, 21.94it/s]\n",
      "Iteration:  83%|████████▎ | 15/18 [00:00<00:00, 22.92it/s]"
     ]
    },
    {
     "name": "stdout",
     "output_type": "stream",
     "text": [
      "{'Train':  best_epoch_indx:64\n",
      " auc:0.997335035530021 \n",
      " apur:0.9962645425160229 \n",
      " f1:0.9724898580121704 \n",
      " precision:0.968438328493877 \n",
      " recall:0.9765754296626352 \n",
      ", 'Validation':  best_epoch_indx:64\n",
      " auc:0.962332372985294 \n",
      " apur:0.9537490180824163 \n",
      " f1:0.8816705336426914 \n",
      " precision:0.8930669800235017 \n",
      " recall:0.870561282932417 \n",
      ", 'Test':  best_epoch_indx:64\n",
      " auc:0.9621881818490434 \n",
      " apur:0.9457812240752291 \n",
      " f1:0.8863741339491917 \n",
      " precision:0.8933891992551211 \n",
      " recall:0.879468377635197 \n",
      "}\n",
      "=====Epoch 65\n",
      "Training...\n"
     ]
    },
    {
     "name": "stderr",
     "output_type": "stream",
     "text": [
      "Iteration:  53%|█████▎    | 33/62 [00:01<00:01, 22.07it/s]\n",
      "Iteration: 100%|██████████| 7/7 [00:00<00:00, 22.68it/s]]]\n",
      "Iteration:  84%|████████▍ | 52/62 [00:04<00:00, 10.95it/s]"
     ]
    },
    {
     "name": "stdout",
     "output_type": "stream",
     "text": [
      "{'Train':  best_epoch_indx:63\n",
      " auc:0.9983429905579317 \n",
      " apur:0.9978261744175625 \n",
      " f1:0.9770056854074541 \n",
      " precision:0.9696551724137931 \n",
      " recall:0.9844684914067473 \n",
      ", 'Validation':  best_epoch_indx:63\n",
      " auc:0.9592257049301723 \n",
      " apur:0.9471649301232558 \n",
      " f1:0.87768115942029 \n",
      " precision:0.8884976525821596 \n",
      " recall:0.8671248568155785 \n",
      ", 'Test':  best_epoch_indx:63\n",
      " auc:0.961917819299273 \n",
      " apur:0.9474885961545773 \n",
      " f1:0.8916761687571265 \n",
      " precision:0.8874262369496142 \n",
      " recall:0.8959670027497708 \n",
      "}\n",
      "=====Epoch 64\n",
      "Training...\n"
     ]
    },
    {
     "name": "stderr",
     "output_type": "stream",
     "text": [
      "Iteration:  82%|████████▏ | 51/62 [00:02<00:00, 22.21it/s]\n",
      "Iteration:  97%|█████████▋| 60/62 [00:05<00:00, 10.40it/s]\n",
      "Iteration:  19%|█▉        | 12/62 [00:00<00:04, 12.33it/s]"
     ]
    },
    {
     "name": "stdout",
     "output_type": "stream",
     "text": [
      "{'Train':  best_epoch_indx:62\n",
      " auc:0.9993324873957886 \n",
      " apur:0.9990998043241406 \n",
      " f1:0.9859851607584501 \n",
      " precision:0.9823098306798079 \n",
      " recall:0.9896880967536601 \n",
      ", 'Validation':  best_epoch_indx:62\n",
      " auc:0.9657745843312854 \n",
      " apur:0.9551880217312018 \n",
      " f1:0.8922190201729105 \n",
      " precision:0.8979118329466357 \n",
      " recall:0.8865979381443299 \n",
      ", 'Test':  best_epoch_indx:62\n",
      " auc:0.9705148279857335 \n",
      " apur:0.9646862741257227 \n",
      " f1:0.9029868025005787 \n",
      " precision:0.9124941506785212 \n",
      " recall:0.8936755270394133 \n",
      "}\n",
      "=====Epoch 63\n",
      "Training...\n",
      "Evaluating...\n"
     ]
    },
    {
     "name": "stderr",
     "output_type": "stream",
     "text": [
      "Iteration: 100%|██████████| 62/62 [00:05<00:00, 11.00it/s]\n",
      "Iteration:   3%|▎         | 2/62 [00:00<00:05, 11.45it/s]\n",
      "Iteration:  42%|████▏     | 26/62 [00:02<00:02, 12.23it/s]\n",
      "Iteration: 100%|██████████| 7/7 [00:00<00:00, 21.36it/s]s]\n",
      "Iteration:  52%|█████▏    | 32/62 [00:02<00:02, 12.19it/s]"
     ]
    },
    {
     "name": "stdout",
     "output_type": "stream",
     "text": [
      "{'Train':  best_epoch_indx:62\n",
      " auc:0.9994659041716709 \n",
      " apur:0.99929355174846 \n",
      " f1:0.987012987012987 \n",
      " precision:0.9823455233291298 \n",
      " recall:0.991725015913431 \n",
      ", 'Validation':  best_epoch_indx:62\n",
      " auc:0.9641928062603893 \n",
      " apur:0.9482102167836931 \n",
      " f1:0.8991452991452992 \n",
      " precision:0.8945578231292517 \n",
      " recall:0.9037800687285223 \n",
      ", 'Test':  best_epoch_indx:62\n",
      " auc:0.9663254176444094 \n",
      " apur:0.9549313018174285 \n",
      " f1:0.8956661316211878 \n",
      " precision:0.8962826984855439 \n",
      " recall:0.8950504124656279 \n",
      "}\n",
      "=====Epoch 63\n",
      "Training...\n"
     ]
    },
    {
     "name": "stderr",
     "output_type": "stream",
     "text": [
      "Iteration:  81%|████████  | 50/62 [00:04<00:00, 12.43it/s]\n",
      "Iteration: 100%|██████████| 62/62 [00:05<00:00, 11.22it/s]\n",
      "Iteration:   0%|          | 0/62 [00:00<?, ?it/s]"
     ]
    },
    {
     "name": "stdout",
     "output_type": "stream",
     "text": [
      "Evaluating...\n"
     ]
    },
    {
     "name": "stderr",
     "output_type": "stream",
     "text": [
      "\r",
      "Iteration:  77%|███████▋  | 48/62 [00:03<00:01, 12.10it/s]\r",
      "Iteration:  97%|█████████▋| 60/62 [00:04<00:00, 12.50it/s]\r",
      "Iteration:  48%|████▊     | 30/62 [00:02<00:02, 12.40it/s]\r",
      "Iteration:   5%|▍         | 3/62 [00:00<00:02, 21.94it/s]\r",
      "Iteration: 100%|██████████| 62/62 [00:05<00:00, 12.67it/s]\r",
      "Iteration: 100%|██████████| 62/62 [00:05<00:00, 12.40it/s]\n",
      "\r",
      "Iteration:   0%|          | 0/62 [00:00<?, ?it/s]\r",
      "Iteration:  81%|████████  | 50/62 [00:04<00:01, 11.97it/s]"
     ]
    },
    {
     "name": "stdout",
     "output_type": "stream",
     "text": [
      "Evaluating...\n"
     ]
    },
    {
     "name": "stderr",
     "output_type": "stream",
     "text": [
      "Iteration:  55%|█████▍    | 34/62 [00:02<00:02, 12.40it/s]\n",
      "Iteration:  29%|██▉       | 18/62 [00:00<00:01, 22.14it/s]\n",
      "Iteration:  24%|██▍       | 15/62 [00:00<00:02, 22.20it/s]"
     ]
    },
    {
     "name": "stdout",
     "output_type": "stream",
     "text": [
      "{'Train':  best_epoch_indx:62\n",
      " auc:0.9990781673563529 \n",
      " apur:0.9986612505463424 \n",
      " f1:0.9842858953237867 \n",
      " precision:0.9798158193515832 \n",
      " recall:0.9887969446212603 \n",
      ", 'Validation':  best_epoch_indx:62\n",
      " auc:0.9589456034186847 \n",
      " apur:0.9455246319771137 \n",
      " f1:0.8859598853868194 \n",
      " precision:0.8864678899082569 \n",
      " recall:0.8854524627720504 \n",
      ", 'Test':  best_epoch_indx:62\n",
      " auc:0.9631563882022176 \n",
      " apur:0.9520315059266506 \n",
      " f1:0.8842975206611571 \n",
      " precision:0.8859245630174793 \n",
      " recall:0.8826764436296975 \n",
      "}\n",
      "=====Epoch 63\n",
      "Training...\n"
     ]
    },
    {
     "name": "stderr",
     "output_type": "stream",
     "text": [
      "Iteration: 100%|██████████| 62/62 [00:05<00:00, 12.12it/s]\n",
      "Iteration:  10%|▉         | 6/62 [00:00<00:04, 11.40it/s]]"
     ]
    },
    {
     "name": "stdout",
     "output_type": "stream",
     "text": [
      "Evaluating...\n"
     ]
    },
    {
     "name": "stderr",
     "output_type": "stream",
     "text": [
      "Iteration: 100%|██████████| 62/62 [00:04<00:00, 12.43it/s]\n",
      "Iteration:   5%|▍         | 3/62 [00:00<00:02, 21.90it/s]]"
     ]
    },
    {
     "name": "stdout",
     "output_type": "stream",
     "text": [
      "Evaluating...\n"
     ]
    },
    {
     "name": "stderr",
     "output_type": "stream",
     "text": [
      "Iteration:  39%|███▊      | 24/62 [00:02<00:03, 11.35it/s]\n",
      "Iteration:  15%|█▍        | 9/62 [00:00<00:02, 22.30it/s]]\n",
      "Iteration:  97%|█████████▋| 60/62 [00:02<00:00, 22.33it/s]\n",
      "Iteration:  48%|████▊     | 30/62 [00:01<00:01, 21.62it/s]\n",
      "Iteration:   0%|          | 0/7 [00:00<?, ?it/s]\n",
      "Iteration:  43%|████▎     | 3/7 [00:00<00:00, 21.41it/s]s]\n",
      "Iteration:  17%|█▋        | 3/18 [00:00<00:00, 22.49it/s]"
     ]
    },
    {
     "name": "stdout",
     "output_type": "stream",
     "text": [
      "{'Train':  best_epoch_indx:65\n",
      " auc:0.9986232894736606 \n",
      " apur:0.9981386744995322 \n",
      " f1:0.9807131074736709 \n",
      " precision:0.9774883015049955 \n",
      " recall:0.9839592616168046 \n",
      ", 'Validation':  best_epoch_indx:65\n",
      " auc:0.9645722208723354 \n",
      " apur:0.9570513438500933 \n",
      " f1:0.8903076030179918 \n",
      " precision:0.9023529411764706 \n",
      " recall:0.8785796105383734 \n",
      ", 'Test':  best_epoch_indx:65\n",
      " auc:0.9645716252040724 \n",
      " apur:0.9520352887393805 \n",
      " f1:0.8943726937269373 \n",
      " precision:0.9001857010213556 \n",
      " recall:0.888634280476627 \n",
      "}\n",
      "=====Epoch 66\n",
      "Training...\n"
     ]
    },
    {
     "name": "stderr",
     "output_type": "stream",
     "text": [
      "\r",
      "Iteration:  58%|█████▊    | 36/62 [00:01<00:01, 21.55it/s]\r",
      "Iteration:  65%|██████▍   | 40/62 [00:03<00:01, 11.15it/s]\r",
      "Iteration:  86%|████████▌ | 6/7 [00:00<00:00, 21.80it/s]\r",
      "Iteration:  33%|███▎      | 6/18 [00:00<00:00, 22.89it/s]\r",
      "Iteration: 100%|██████████| 7/7 [00:00<00:00, 22.09it/s]\r",
      "Iteration:   3%|▎         | 2/62 [00:00<00:05, 11.32it/s]\n",
      "\r",
      "Iteration:   0%|          | 0/62 [00:00<?, ?it/s]\r",
      "Iteration:  63%|██████▎   | 39/62 [00:01<00:01, 21.58it/s]\r",
      "Iteration:  50%|█████     | 9/18 [00:00<00:00, 23.05it/s]\r",
      "Iteration:  68%|██████▊   | 42/62 [00:03<00:01, 11.15it/s]"
     ]
    },
    {
     "name": "stdout",
     "output_type": "stream",
     "text": [
      "{'Train':  best_epoch_indx:64\n",
      " auc:0.9985320165130502 \n",
      " apur:0.9979720383232439 \n",
      " f1:0.9802831142568251 \n",
      " precision:0.9732714267787678 \n",
      " recall:0.9873965626989178 \n",
      ", 'Validation':  best_epoch_indx:64\n",
      " auc:0.9639155973634782 \n",
      " apur:0.9503345975008233 \n",
      " f1:0.8916905444126075 \n",
      " precision:0.8922018348623854 \n",
      " recall:0.8911798396334479 \n",
      ", 'Test':  best_epoch_indx:64\n",
      " auc:0.9663576017256224 \n",
      " apur:0.9527204126749262 \n",
      " f1:0.8893424036281179 \n",
      " precision:0.88016157989228 \n",
      " recall:0.8987167736021998 \n",
      "}\n",
      "=====Epoch 65\n",
      "Training...\n"
     ]
    },
    {
     "name": "stderr",
     "output_type": "stream",
     "text": [
      "Iteration:  13%|█▎        | 8/62 [00:00<00:04, 11.32it/s]]\n",
      "Iteration: 100%|██████████| 7/7 [00:00<00:00, 22.70it/s]s]\n",
      "Iteration:  23%|██▎       | 14/62 [00:01<00:04, 11.56it/s]"
     ]
    },
    {
     "name": "stdout",
     "output_type": "stream",
     "text": [
      "{'Train':  best_epoch_indx:63\n",
      " auc:0.9991273247155679 \n",
      " apur:0.9988321637911586 \n",
      " f1:0.9842175318501616 \n",
      " precision:0.9800555415299167 \n",
      " recall:0.9884150222788033 \n",
      ", 'Validation':  best_epoch_indx:63\n",
      " auc:0.963012137410763 \n",
      " apur:0.9553962659106662 \n",
      " f1:0.88712422007941 \n",
      " precision:0.8786516853932584 \n",
      " recall:0.8957617411225659 \n",
      ", 'Test':  best_epoch_indx:63\n",
      " auc:0.9700877135842139 \n",
      " apur:0.9624211812498892 \n",
      " f1:0.9019517795637199 \n",
      " precision:0.9038196042337782 \n",
      " recall:0.9000916590284143 \n",
      "}\n",
      "=====Epoch 64\n",
      "Training...\n"
     ]
    },
    {
     "name": "stderr",
     "output_type": "stream",
     "text": [
      "Iteration:   6%|▋         | 4/62 [00:00<00:04, 12.27it/s]]\n",
      "Iteration: 100%|██████████| 62/62 [00:05<00:00, 11.29it/s]\n",
      "Iteration:  83%|████████▎ | 15/18 [00:00<00:00, 23.11it/s]"
     ]
    },
    {
     "name": "stdout",
     "output_type": "stream",
     "text": [
      "Evaluating...\n"
     ]
    },
    {
     "name": "stderr",
     "output_type": "stream",
     "text": [
      "Iteration:  42%|████▏     | 26/62 [00:02<00:02, 12.45it/s]\n",
      "Iteration: 100%|██████████| 7/7 [00:00<00:00, 22.90it/s]s]\n",
      "Iteration:  24%|██▍       | 15/62 [00:00<00:02, 21.48it/s]"
     ]
    },
    {
     "name": "stdout",
     "output_type": "stream",
     "text": [
      "{'Train':  best_epoch_indx:63\n",
      " auc:0.9989746927323404 \n",
      " apur:0.9986133277446823 \n",
      " f1:0.9819490027770764 \n",
      " precision:0.97371385655276 \n",
      " recall:0.9903246339910885 \n",
      ", 'Validation':  best_epoch_indx:63\n",
      " auc:0.959787836362865 \n",
      " apur:0.9409668883550003 \n",
      " f1:0.8838008013737837 \n",
      " precision:0.8832951945080092 \n",
      " recall:0.8843069873997709 \n",
      ", 'Test':  best_epoch_indx:63\n",
      " auc:0.9635649187649094 \n",
      " apur:0.9509158939043154 \n",
      " f1:0.8893470790378006 \n",
      " precision:0.8891433806688044 \n",
      " recall:0.8895508707607699 \n",
      "}\n",
      "=====Epoch 64\n",
      "Training...\n"
     ]
    },
    {
     "name": "stderr",
     "output_type": "stream",
     "text": [
      "Iteration:  48%|████▊     | 30/62 [00:02<00:02, 12.48it/s]\n",
      "Iteration: 100%|██████████| 62/62 [00:05<00:00, 11.75it/s]\n",
      "Iteration:   0%|          | 0/62 [00:00<?, ?it/s]"
     ]
    },
    {
     "name": "stdout",
     "output_type": "stream",
     "text": [
      "Evaluating...\n",
      "Evaluating...\n"
     ]
    },
    {
     "name": "stderr",
     "output_type": "stream",
     "text": [
      "Iteration: 100%|██████████| 62/62 [00:05<00:00, 12.06it/s]\n",
      "Iteration:  24%|██▍       | 15/62 [00:00<00:02, 22.17it/s]\n",
      "Iteration: 100%|██████████| 62/62 [00:05<00:00, 12.27it/s]\n",
      "Iteration:   5%|▍         | 3/62 [00:00<00:02, 21.53it/s]]\n",
      "Iteration:  74%|███████▍  | 46/62 [00:03<00:01, 12.41it/s]"
     ]
    },
    {
     "name": "stdout",
     "output_type": "stream",
     "text": [
      "Evaluating...\n",
      "{'Train':  best_epoch_indx:63\n",
      " auc:0.9978371847439015 \n",
      " apur:0.9969987591914216 \n",
      " f1:0.9739547203127955 \n",
      " precision:0.9650087478130467 \n",
      " recall:0.9830681094844048 \n",
      ", 'Validation':  best_epoch_indx:63\n",
      " auc:0.9547942193990303 \n",
      " apur:0.939114619245869 \n",
      " f1:0.8706152961472111 \n",
      " precision:0.874133949191686 \n",
      " recall:0.8671248568155785 \n",
      ", 'Test':  best_epoch_indx:63\n",
      " auc:0.9598582062605894 \n",
      " apur:0.9487728825545233 \n",
      " f1:0.881572930955647 \n",
      " precision:0.8795620437956204 \n",
      " recall:0.8835930339138405 \n",
      "}\n",
      "=====Epoch 64\n",
      "Training...\n"
     ]
    },
    {
     "name": "stderr",
     "output_type": "stream",
     "text": [
      "Iteration: 100%|██████████| 62/62 [00:04<00:00, 12.44it/s]\n",
      "Iteration:  87%|████████▋ | 54/62 [00:02<00:00, 22.13it/s]"
     ]
    },
    {
     "name": "stdout",
     "output_type": "stream",
     "text": [
      "Evaluating...\n"
     ]
    },
    {
     "name": "stderr",
     "output_type": "stream",
     "text": [
      "Iteration:  19%|█▉        | 12/62 [00:00<00:02, 22.07it/s]\n",
      "Iteration:   0%|          | 0/18 [00:00<?, ?it/s]\n",
      "Iteration: 100%|██████████| 18/18 [00:00<00:00, 23.28it/s]\n",
      "Iteration:  53%|█████▎    | 33/62 [00:01<00:01, 21.98it/s]\n",
      "Iteration:   0%|          | 0/18 [00:00<?, ?it/s]\n",
      "Iteration: 100%|██████████| 7/7 [00:00<00:00, 22.70it/s]]]\n",
      "Iteration:   0%|          | 0/62 [00:00<?, ?it/s]\n",
      "Iteration:   3%|▎         | 2/62 [00:00<00:04, 12.13it/s]]"
     ]
    },
    {
     "name": "stdout",
     "output_type": "stream",
     "text": [
      "{'Train':  best_epoch_indx:66\n",
      " auc:0.9993529818425803 \n",
      " apur:0.9991340486823146 \n",
      " f1:0.985498108448928 \n",
      " precision:0.9762648344784509 \n",
      " recall:0.9949077021005729 \n",
      ", 'Validation':  best_epoch_indx:66\n",
      " auc:0.9660368480528847 \n",
      " apur:0.9588442805267129 \n",
      " f1:0.899830220713073 \n",
      " precision:0.889261744966443 \n",
      " recall:0.9106529209621993 \n",
      ", 'Test':  best_epoch_indx:66\n",
      " auc:0.9691808861607211 \n",
      " apur:0.9591322326340561 \n",
      " f1:0.8974417025130179 \n",
      " precision:0.8868008948545861 \n",
      " recall:0.9083409715857012 \n",
      "}\n",
      "=====Epoch 67\n",
      "Training...\n",
      "{'Train':  best_epoch_indx:65\n",
      " auc:0.9982837193543642 \n",
      " apur:0.9977102250813459 \n",
      " f1:0.9772219740955783 \n",
      " precision:0.979534407776925 \n",
      " recall:0.9749204328453215 \n",
      ", 'Validation':  best_epoch_indx:65\n",
      " auc:0.9610191259675795 \n",
      " apur:0.9472395622817771 \n",
      " f1:0.8806057076295866 \n",
      " precision:0.8957345971563981 \n",
      " recall:0.865979381443299 \n",
      ", 'Test':  best_epoch_indx:65\n",
      " auc:0.9615491301962626 \n",
      " apur:0.9484933831407204 \n",
      " f1:0.8876636802205375 \n",
      " precision:0.889912482726854 \n",
      " recall:0.8854262144821264 \n",
      "}\n",
      "=====Epoch 66\n",
      "Training...\n"
     ]
    },
    {
     "name": "stderr",
     "output_type": "stream",
     "text": [
      "Iteration:  87%|████████▋ | 54/62 [00:02<00:00, 21.53it/s]\n",
      "Iteration:  19%|█▉        | 12/62 [00:01<00:04, 11.30it/s]\n",
      "Iteration:   0%|          | 0/62 [00:00<?, ?it/s]"
     ]
    },
    {
     "name": "stdout",
     "output_type": "stream",
     "text": [
      "{'Train':  best_epoch_indx:64\n",
      " auc:0.9977696425923798 \n",
      " apur:0.9970375376348372 \n",
      " f1:0.9702213027396401 \n",
      " precision:0.9557806324110671 \n",
      " recall:0.9851050286441757 \n",
      ", 'Validation':  best_epoch_indx:64\n",
      " auc:0.9604801354514986 \n",
      " apur:0.9481171279606202 \n",
      " f1:0.8808864265927978 \n",
      " precision:0.8530042918454935 \n",
      " recall:0.9106529209621993 \n",
      ", 'Test':  best_epoch_indx:64\n",
      " auc:0.9624820054711395 \n",
      " apur:0.9533516750980088 \n",
      " f1:0.8854377672743642 \n",
      " precision:0.8699690402476781 \n",
      " recall:0.9014665444546288 \n",
      "}\n",
      "=====Epoch 65\n",
      "Training...\n"
     ]
    },
    {
     "name": "stderr",
     "output_type": "stream",
     "text": [
      "Iteration:  23%|██▎       | 14/62 [00:01<00:04, 11.93it/s]\n",
      "Iteration:  39%|███▊      | 24/62 [00:01<00:03, 12.40it/s]\n",
      "Iteration: 100%|██████████| 7/7 [00:00<00:00, 20.47it/s]s]\n",
      "Iteration: 100%|██████████| 62/62 [00:05<00:00, 11.05it/s]\n",
      "Iteration:   3%|▎         | 2/62 [00:00<00:04, 12.31it/s]]"
     ]
    },
    {
     "name": "stdout",
     "output_type": "stream",
     "text": [
      "{'Train':  best_epoch_indx:64\n",
      " auc:0.9988184939969597 \n",
      " apur:0.9983901432110542 \n",
      " f1:0.9812397008492838 \n",
      " precision:0.9770289031932349 \n",
      " recall:0.9854869509866327 \n",
      ", 'Validation':  best_epoch_indx:64\n",
      " auc:0.9617731341671777 \n",
      " apur:0.9475988361035059 \n",
      " f1:0.8949771689497716 \n",
      " precision:0.8919226393629124 \n",
      " recall:0.8980526918671249 \n",
      ", 'Test':  best_epoch_indx:64\n",
      " auc:0.9626518015830554 \n",
      " apur:0.9511736690197671 \n",
      " f1:0.8923290203327172 \n",
      " precision:0.8998136067101584 \n",
      " recall:0.884967919340055 \n",
      "}\n",
      "=====Epoch 65\n",
      "Training...\n",
      "Evaluating...\n"
     ]
    },
    {
     "name": "stderr",
     "output_type": "stream",
     "text": [
      "Iteration: 100%|██████████| 62/62 [00:05<00:00, 12.35it/s]\n",
      "Iteration:  97%|█████████▋| 60/62 [00:05<00:00, 11.80it/s]"
     ]
    },
    {
     "name": "stdout",
     "output_type": "stream",
     "text": [
      "Evaluating...\n"
     ]
    },
    {
     "name": "stderr",
     "output_type": "stream",
     "text": [
      "\r",
      "Iteration:  10%|▉         | 6/62 [00:00<00:02, 22.56it/s]\r",
      "Iteration:  97%|█████████▋| 60/62 [00:02<00:00, 20.84it/s]\r",
      "Iteration:  58%|█████▊    | 36/62 [00:02<00:02, 12.50it/s]\r",
      "Iteration: 100%|██████████| 62/62 [00:05<00:00, 11.98it/s]\r",
      "Iteration: 100%|██████████| 62/62 [00:05<00:00, 11.58it/s]\n",
      "\r",
      "Iteration:   0%|          | 0/62 [00:00<?, ?it/s]\r",
      "Iteration: 100%|██████████| 62/62 [00:02<00:00, 21.06it/s]\r",
      "Iteration:  15%|█▍        | 9/62 [00:00<00:02, 22.46it/s]\r",
      "Iteration:  81%|████████  | 50/62 [00:04<00:01,  8.22it/s]\r",
      "Iteration:  61%|██████▏   | 38/62 [00:03<00:01, 12.46it/s]\r",
      "Iteration:   5%|▍         | 3/62 [00:00<00:02, 22.00it/s]"
     ]
    },
    {
     "name": "stdout",
     "output_type": "stream",
     "text": [
      "Evaluating...\n"
     ]
    },
    {
     "name": "stderr",
     "output_type": "stream",
     "text": [
      "\n",
      "Iteration:  39%|███▊      | 24/62 [00:01<00:01, 21.88it/s]\n",
      "Iteration: 100%|██████████| 62/62 [00:05<00:00, 11.52it/s]\n",
      "Iteration:  43%|████▎     | 3/7 [00:00<00:00, 21.26it/s]]]"
     ]
    },
    {
     "name": "stdout",
     "output_type": "stream",
     "text": [
      "Evaluating...\n"
     ]
    },
    {
     "name": "stderr",
     "output_type": "stream",
     "text": [
      "\r",
      "Iteration:  81%|████████  | 50/62 [00:04<00:01,  9.22it/s]\r",
      "Iteration:  58%|█████▊    | 36/62 [00:01<00:01, 21.95it/s]\r",
      "Iteration:  48%|████▊     | 30/62 [00:01<00:01, 22.02it/s]\r",
      "Iteration:  86%|████████▌ | 6/7 [00:00<00:00, 21.51it/s]\r",
      "Iteration:  10%|▉         | 6/62 [00:00<00:02, 21.60it/s]\r",
      "Iteration: 100%|██████████| 7/7 [00:00<00:00, 21.77it/s]\r",
      "Iteration:  63%|██████▎   | 39/62 [00:01<00:01, 22.15it/s]\n",
      "\r",
      "Iteration:   0%|          | 0/62 [00:00<?, ?it/s]\r",
      "Iteration:  84%|████████▍ | 52/62 [00:04<00:00, 10.01it/s]"
     ]
    },
    {
     "name": "stdout",
     "output_type": "stream",
     "text": [
      "{'Train':  best_epoch_indx:64\n",
      " auc:0.9978667992979452 \n",
      " apur:0.9971456593486643 \n",
      " f1:0.9683516756823976 \n",
      " precision:0.9464025279533301 \n",
      " recall:0.9913430935709739 \n",
      ", 'Validation':  best_epoch_indx:64\n",
      " auc:0.9574568711166649 \n",
      " apur:0.942276775581613 \n",
      " f1:0.8779134295227525 \n",
      " precision:0.8514531754574811 \n",
      " recall:0.9060710194730813 \n",
      ", 'Test':  best_epoch_indx:64\n",
      " auc:0.9598594407256185 \n",
      " apur:0.9483120621824179 \n",
      " f1:0.873134328358209 \n",
      " precision:0.8378264532434709 \n",
      " recall:0.9115490375802017 \n",
      "}\n",
      "=====Epoch 65\n",
      "Training...\n"
     ]
    },
    {
     "name": "stderr",
     "output_type": "stream",
     "text": [
      "Iteration: 100%|██████████| 62/62 [00:05<00:00, 11.95it/s]\n",
      "Iteration:  16%|█▌        | 10/62 [00:00<00:04, 11.22it/s]"
     ]
    },
    {
     "name": "stdout",
     "output_type": "stream",
     "text": [
      "Evaluating...\n"
     ]
    },
    {
     "name": "stderr",
     "output_type": "stream",
     "text": [
      "Iteration:  92%|█████████▏| 57/62 [00:02<00:00, 22.17it/s]\n",
      "Iteration:  68%|██████▊   | 42/62 [00:01<00:00, 22.74it/s]\n",
      "Iteration:  87%|████████▋ | 54/62 [00:02<00:00, 22.62it/s]\n",
      "Iteration: 100%|██████████| 62/62 [00:02<00:00, 22.57it/s]\n",
      "Iteration:   0%|          | 0/7 [00:00<?, ?it/s]\n",
      "Iteration:  43%|████▎     | 3/7 [00:00<00:00, 22.29it/s]s]\n",
      "Iteration:  63%|██████▎   | 39/62 [00:01<00:01, 22.19it/s]"
     ]
    },
    {
     "name": "stdout",
     "output_type": "stream",
     "text": [
      "{'Train':  best_epoch_indx:66\n",
      " auc:0.9993736687946104 \n",
      " apur:0.9991573058398004 \n",
      " f1:0.9871729743459489 \n",
      " precision:0.9847966552641582 \n",
      " recall:0.9895607893061744 \n",
      ", 'Validation':  best_epoch_indx:66\n",
      " auc:0.9640814405991955 \n",
      " apur:0.9531957393247383 \n",
      " f1:0.8860465116279069 \n",
      " precision:0.8996458087367178 \n",
      " recall:0.872852233676976 \n",
      ", 'Test':  best_epoch_indx:66\n",
      " auc:0.9681535815093888 \n",
      " apur:0.9549336941326955 \n",
      " f1:0.8994464944649446 \n",
      " precision:0.9052924791086351 \n",
      " recall:0.8936755270394133 \n",
      "}\n",
      "=====Epoch 67\n",
      "Training...\n"
     ]
    },
    {
     "name": "stderr",
     "output_type": "stream",
     "text": [
      "\r",
      "Iteration:  86%|████████▌ | 6/7 [00:00<00:00, 22.29it/s]\r",
      "Iteration:  48%|████▊     | 30/62 [00:02<00:02, 11.28it/s]\r",
      "Iteration:  17%|█▋        | 3/18 [00:00<00:00, 22.69it/s]\r",
      "Iteration:  68%|██████▊   | 42/62 [00:01<00:00, 22.18it/s]\r",
      "Iteration: 100%|██████████| 7/7 [00:00<00:00, 22.59it/s]\r",
      "Iteration:   6%|▋         | 4/62 [00:00<00:04, 12.38it/s]\n",
      "\r",
      "Iteration:   0%|          | 0/62 [00:00<?, ?it/s]\r",
      "Iteration:  33%|███▎      | 6/18 [00:00<00:00, 22.87it/s]\r",
      "Iteration:  73%|███████▎  | 45/62 [00:02<00:00, 22.23it/s]\r",
      "Iteration:  52%|█████▏    | 32/62 [00:02<00:02, 11.30it/s]"
     ]
    },
    {
     "name": "stdout",
     "output_type": "stream",
     "text": [
      "{'Train':  best_epoch_indx:67\n",
      " auc:0.9994962786481209 \n",
      " apur:0.9992977759801676 \n",
      " f1:0.9863238167265395 \n",
      " precision:0.9766600099850224 \n",
      " recall:0.9961807765754297 \n",
      ", 'Validation':  best_epoch_indx:67\n",
      " auc:0.968059267744262 \n",
      " apur:0.9622910343766324 \n",
      " f1:0.9003939223410242 \n",
      " precision:0.8849557522123894 \n",
      " recall:0.9163802978235968 \n",
      ", 'Test':  best_epoch_indx:67\n",
      " auc:0.9682362889512293 \n",
      " apur:0.9577968114617914 \n",
      " f1:0.8972802877051023 \n",
      " precision:0.8804587560652846 \n",
      " recall:0.9147571035747021 \n",
      "}\n",
      "=====Epoch 68\n",
      "Training...\n"
     ]
    },
    {
     "name": "stderr",
     "output_type": "stream",
     "text": [
      "Iteration:  92%|█████████▏| 57/62 [00:02<00:00, 22.04it/s]\n",
      "Iteration: 100%|██████████| 7/7 [00:00<00:00, 22.91it/s]s]\n",
      "Iteration:   0%|          | 0/62 [00:00<?, ?it/s]\n",
      "Iteration:  16%|█▌        | 10/62 [00:01<00:05,  9.83it/s]"
     ]
    },
    {
     "name": "stdout",
     "output_type": "stream",
     "text": [
      "{'Train':  best_epoch_indx:65\n",
      " auc:0.9987908412473747 \n",
      " apur:0.9983912598732806 \n",
      " f1:0.9802481640921753 \n",
      " precision:0.9749401838559375 \n",
      " recall:0.9856142584341184 \n",
      ", 'Validation':  best_epoch_indx:65\n",
      " auc:0.9653860097731806 \n",
      " apur:0.9574946507920028 \n",
      " f1:0.8991452991452992 \n",
      " precision:0.8945578231292517 \n",
      " recall:0.9037800687285223 \n",
      ", 'Test':  best_epoch_indx:65\n",
      " auc:0.9684216278260633 \n",
      " apur:0.9617834167593757 \n",
      " f1:0.894112277498859 \n",
      " precision:0.8904545454545455 \n",
      " recall:0.8978001833180568 \n",
      "}\n",
      "=====Epoch 66\n",
      "Training...\n"
     ]
    },
    {
     "name": "stderr",
     "output_type": "stream",
     "text": [
      "Iteration:  16%|█▌        | 10/62 [00:00<00:04, 11.98it/s]\n",
      "Iteration: 100%|██████████| 7/7 [00:00<00:00, 22.87it/s]s]\n"
     ]
    },
    {
     "name": "stdout",
     "output_type": "stream",
     "text": [
      "{'Train':  best_epoch_indx:65\n",
      " auc:0.9987102767120857 \n",
      " apur:0.9983212545456364 \n",
      " f1:0.9804071246819339 \n",
      " precision:0.9797838525111252 \n",
      " recall:0.981031190324634 \n",
      ", 'Validation':  best_epoch_indx:65\n",
      " auc:0.961369614433761 \n",
      " apur:0.9454969209520961 \n",
      " f1:0.8826945412311266 \n",
      " precision:0.8951707891637221 \n",
      " recall:0.870561282932417 \n",
      ", 'Test':  best_epoch_indx:65\n",
      " auc:0.9610064772585892 \n",
      " apur:0.9492532442874666 \n",
      " f1:0.8872778297474275 \n",
      " precision:0.9059216809933143 \n",
      " recall:0.8693858845096242 \n",
      "}\n",
      "=====Epoch 66\n",
      "Training...\n"
     ]
    },
    {
     "name": "stderr",
     "output_type": "stream",
     "text": [
      "Iteration: 100%|██████████| 62/62 [00:05<00:00, 10.72it/s]\n",
      "Iteration:  55%|█████▍    | 34/62 [00:03<00:02, 11.71it/s]"
     ]
    },
    {
     "name": "stdout",
     "output_type": "stream",
     "text": [
      "Evaluating...\n"
     ]
    },
    {
     "name": "stderr",
     "output_type": "stream",
     "text": [
      "Iteration: 100%|██████████| 62/62 [00:04<00:00, 12.42it/s]\n",
      "Iteration:  84%|████████▍ | 52/62 [00:04<00:00, 10.75it/s]"
     ]
    },
    {
     "name": "stdout",
     "output_type": "stream",
     "text": [
      "Evaluating...\n"
     ]
    },
    {
     "name": "stderr",
     "output_type": "stream",
     "text": [
      "Iteration: 100%|██████████| 62/62 [00:05<00:00, 10.87it/s]\n",
      "Iteration:  94%|█████████▎| 58/62 [00:04<00:00, 11.62it/s]"
     ]
    },
    {
     "name": "stdout",
     "output_type": "stream",
     "text": [
      "Evaluating...\n"
     ]
    },
    {
     "name": "stderr",
     "output_type": "stream",
     "text": [
      "Iteration: 100%|██████████| 62/62 [00:05<00:00, 11.98it/s]\n",
      "Iteration:  58%|█████▊    | 36/62 [00:01<00:01, 22.45it/s]\n",
      "Iteration:  63%|██████▎   | 39/62 [00:01<00:01, 22.21it/s]"
     ]
    },
    {
     "name": "stdout",
     "output_type": "stream",
     "text": [
      "Evaluating...\n"
     ]
    },
    {
     "name": "stderr",
     "output_type": "stream",
     "text": [
      "Iteration:  42%|████▏     | 26/62 [00:01<00:01, 20.19it/s]\n",
      "Iteration: 100%|██████████| 62/62 [00:05<00:00, 12.29it/s]\n",
      "Iteration: 100%|██████████| 62/62 [00:02<00:00, 22.28it/s]"
     ]
    },
    {
     "name": "stdout",
     "output_type": "stream",
     "text": [
      "Evaluating...\n"
     ]
    },
    {
     "name": "stderr",
     "output_type": "stream",
     "text": [
      "\r",
      "Iteration:  86%|████████▌ | 6/7 [00:00<00:00, 21.55it/s]\r",
      "Iteration:  44%|████▎     | 27/62 [00:01<00:01, 21.43it/s]\r",
      "Iteration: 100%|██████████| 7/7 [00:00<00:00, 21.77it/s]\r",
      "Iteration:  10%|▉         | 6/62 [00:00<00:02, 22.29it/s]\n",
      "\r",
      "Iteration:   0%|          | 0/62 [00:00<?, ?it/s]\r",
      "Iteration:  56%|█████▋    | 35/62 [00:01<00:01, 21.61it/s]\n",
      "\r",
      "Iteration:   0%|          | 0/18 [00:00<?, ?it/s]\r",
      "Iteration:  48%|████▊     | 30/62 [00:01<00:01, 21.50it/s]\r",
      "Iteration:  15%|█▍        | 9/62 [00:00<00:02, 22.37it/s]"
     ]
    },
    {
     "name": "stdout",
     "output_type": "stream",
     "text": [
      "{'Train':  best_epoch_indx:65\n",
      " auc:0.9987359295882267 \n",
      " apur:0.9982731791967958 \n",
      " f1:0.9786268205031209 \n",
      " precision:0.9693979515363478 \n",
      " recall:0.9880330999363462 \n",
      ", 'Validation':  best_epoch_indx:65\n",
      " auc:0.9614033616038198 \n",
      " apur:0.9454205898731982 \n",
      " f1:0.8802736602052451 \n",
      " precision:0.8762769580022701 \n",
      " recall:0.8843069873997709 \n",
      ", 'Test':  best_epoch_indx:65\n",
      " auc:0.9646251701247118 \n",
      " apur:0.9532906462522162 \n",
      " f1:0.8876762164620281 \n",
      " precision:0.8808664259927798 \n",
      " recall:0.8945921173235564 \n",
      "}\n",
      "=====Epoch 66\n",
      "Training...\n"
     ]
    },
    {
     "name": "stderr",
     "output_type": "stream",
     "text": [
      "Iteration:  16%|█▌        | 10/62 [00:00<00:04, 11.09it/s]\n",
      "Iteration: 100%|██████████| 7/7 [00:00<00:00, 22.97it/s]s]\n",
      "Iteration:   0%|          | 0/62 [00:00<?, ?it/s]"
     ]
    },
    {
     "name": "stdout",
     "output_type": "stream",
     "text": [
      "{'Train':  best_epoch_indx:67\n",
      " auc:0.9996824459226187 \n",
      " apur:0.9995684958398716 \n",
      " f1:0.9909944190766109 \n",
      " precision:0.9873625679261974 \n",
      " recall:0.9946530872056015 \n",
      ", 'Validation':  best_epoch_indx:67\n",
      " auc:0.9661747293476962 \n",
      " apur:0.9551421671456964 \n",
      " f1:0.8886324293133294 \n",
      " precision:0.8953488372093024 \n",
      " recall:0.8820160366552119 \n",
      ", 'Test':  best_epoch_indx:67\n",
      " auc:0.9699578967386489 \n",
      " apur:0.957378569137324 \n",
      " f1:0.9024725274725275 \n",
      " precision:0.9016468435498628 \n",
      " recall:0.9032997250229148 \n",
      "}\n",
      "=====Epoch 68\n",
      "Training...\n"
     ]
    },
    {
     "name": "stderr",
     "output_type": "stream",
     "text": [
      "Iteration:  58%|█████▊    | 36/62 [00:01<00:01, 22.41it/s]\n",
      "Iteration:  33%|███▎      | 6/18 [00:00<00:00, 22.24it/s]]\n",
      "Iteration:  23%|██▎       | 14/62 [00:01<00:04, 11.50it/s]\n",
      "Iteration:   0%|          | 0/7 [00:00<?, ?it/s]\n",
      "Iteration: 100%|██████████| 7/7 [00:00<00:00, 22.67it/s]s]\n",
      "Iteration:  33%|███▎      | 6/18 [00:00<00:00, 22.47it/s]"
     ]
    },
    {
     "name": "stdout",
     "output_type": "stream",
     "text": [
      "{'Train':  best_epoch_indx:66\n",
      " auc:0.999024305718891 \n",
      " apur:0.9986877064138342 \n",
      " f1:0.984917617237009 \n",
      " precision:0.9805678233438486 \n",
      " recall:0.989306174411203 \n",
      ", 'Validation':  best_epoch_indx:66\n",
      " auc:0.9636292285204083 \n",
      " apur:0.9536168103100026 \n",
      " f1:0.8924302788844621 \n",
      " precision:0.8868778280542986 \n",
      " recall:0.8980526918671249 \n",
      ", 'Test':  best_epoch_indx:66\n",
      " auc:0.9701910576723298 \n",
      " apur:0.9645407602259757 \n",
      " f1:0.9034926470588236 \n",
      " precision:0.9059907834101383 \n",
      " recall:0.9010082493125573 \n",
      "}\n",
      "=====Epoch 67\n",
      "Training...\n"
     ]
    },
    {
     "name": "stderr",
     "output_type": "stream",
     "text": [
      "Iteration:  42%|████▏     | 26/62 [00:02<00:02, 12.29it/s]\n",
      "Iteration:  48%|████▊     | 30/62 [00:02<00:02, 12.29it/s]\n",
      "Iteration:  71%|███████   | 44/62 [00:03<00:01, 11.21it/s]"
     ]
    },
    {
     "name": "stdout",
     "output_type": "stream",
     "text": [
      "{'Train':  best_epoch_indx:66\n",
      " auc:0.9992300102596227 \n",
      " apur:0.9989294917163818 \n",
      " f1:0.98749762010535 \n",
      " precision:0.9845608706656542 \n",
      " recall:0.9904519414385742 \n",
      ", 'Validation':  best_epoch_indx:66\n",
      " auc:0.966503523204554 \n",
      " apur:0.952890378543321 \n",
      " f1:0.902665121668598 \n",
      " precision:0.9132473622508792 \n",
      " recall:0.8923253150057274 \n",
      ", 'Test':  best_epoch_indx:66\n",
      " auc:0.9675244097346889 \n",
      " apur:0.955730817848275 \n",
      " f1:0.8980729045739494 \n",
      " precision:0.9101176470588235 \n",
      " recall:0.8863428047662695 \n",
      "}\n",
      "=====Epoch 67\n",
      "Training...\n"
     ]
    },
    {
     "name": "stderr",
     "output_type": "stream",
     "text": [
      "Iteration: 100%|██████████| 62/62 [00:05<00:00, 11.30it/s]\n",
      "Iteration:  32%|███▏      | 20/62 [00:01<00:03, 12.19it/s]"
     ]
    },
    {
     "name": "stdout",
     "output_type": "stream",
     "text": [
      "Evaluating...\n"
     ]
    },
    {
     "name": "stderr",
     "output_type": "stream",
     "text": [
      "Iteration: 100%|██████████| 62/62 [00:05<00:00, 11.98it/s]\n",
      "Iteration:   5%|▍         | 3/62 [00:00<00:02, 22.72it/s]]"
     ]
    },
    {
     "name": "stdout",
     "output_type": "stream",
     "text": [
      "Evaluating...\n"
     ]
    },
    {
     "name": "stderr",
     "output_type": "stream",
     "text": [
      "Iteration:  65%|██████▍   | 40/62 [00:03<00:01, 12.53it/s]\n",
      "Iteration: 100%|██████████| 7/7 [00:00<00:00, 18.17it/s]s]\n",
      "Iteration:  84%|████████▍ | 52/62 [00:04<00:00, 10.17it/s]"
     ]
    },
    {
     "name": "stdout",
     "output_type": "stream",
     "text": [
      "{'Train':  best_epoch_indx:68\n",
      " auc:0.9998184418814229 \n",
      " apur:0.9997402264104083 \n",
      " f1:0.9936628643852978 \n",
      " precision:0.9892744479495268 \n",
      " recall:0.9980903882877148 \n",
      ", 'Validation':  best_epoch_indx:68\n",
      " auc:0.9711191718637308 \n",
      " apur:0.9662349367775657 \n",
      " f1:0.8987993138936535 \n",
      " precision:0.8972602739726028 \n",
      " recall:0.9003436426116839 \n",
      ", 'Test':  best_epoch_indx:68\n",
      " auc:0.9717413209393045 \n",
      " apur:0.9629645461060857 \n",
      " f1:0.9056690383291256 \n",
      " precision:0.9071264367816092 \n",
      " recall:0.9042163153070577 \n",
      "}\n",
      "=====Epoch 69\n",
      "Training...\n"
     ]
    },
    {
     "name": "stderr",
     "output_type": "stream",
     "text": [
      "Iteration: 100%|██████████| 62/62 [00:05<00:00, 10.91it/s]\n",
      "Iteration:   0%|          | 0/18 [00:00<?, ?it/s]\n",
      "Iteration:   0%|          | 0/62 [00:00<?, ?it/s]"
     ]
    },
    {
     "name": "stdout",
     "output_type": "stream",
     "text": [
      "Evaluating...\n"
     ]
    },
    {
     "name": "stderr",
     "output_type": "stream",
     "text": [
      "\r",
      "Iteration:  82%|████████▏ | 51/62 [00:02<00:00, 22.73it/s]\r",
      "Iteration:  97%|█████████▋| 60/62 [00:04<00:00, 12.50it/s]\r",
      "Iteration:   3%|▎         | 2/62 [00:00<00:03, 18.41it/s]\r",
      "Iteration:  19%|█▉        | 12/62 [00:01<00:04, 10.47it/s]\r",
      "Iteration:  17%|█▋        | 3/18 [00:00<00:00, 22.07it/s]\r",
      "Iteration:  87%|████████▋ | 54/62 [00:02<00:00, 22.76it/s]\r",
      "Iteration:   6%|▋         | 4/62 [00:00<00:03, 18.62it/s]\r",
      "Iteration: 100%|██████████| 62/62 [00:04<00:00, 12.64it/s]\r",
      "Iteration: 100%|██████████| 62/62 [00:04<00:00, 12.40it/s]\n",
      "\r",
      "Iteration:   0%|          | 0/62 [00:00<?, ?it/s]\r",
      "Iteration:  33%|███▎      | 6/18 [00:00<00:00, 22.10it/s]"
     ]
    },
    {
     "name": "stdout",
     "output_type": "stream",
     "text": [
      "Evaluating...\n"
     ]
    },
    {
     "name": "stderr",
     "output_type": "stream",
     "text": [
      "Iteration:  24%|██▍       | 15/62 [00:00<00:02, 21.42it/s]\n",
      "Iteration:  19%|█▉        | 12/62 [00:00<00:02, 22.36it/s]\n",
      "Iteration:  34%|███▍      | 21/62 [00:00<00:01, 22.21it/s]\n",
      "Iteration:  83%|████████▎ | 15/18 [00:00<00:00, 22.63it/s]"
     ]
    },
    {
     "name": "stdout",
     "output_type": "stream",
     "text": [
      "{'Train':  best_epoch_indx:66\n",
      " auc:0.9992344402554509 \n",
      " apur:0.9989144684813747 \n",
      " f1:0.9832493702770781 \n",
      " precision:0.9728348909657321 \n",
      " recall:0.9938892425206874 \n",
      ", 'Validation':  best_epoch_indx:66\n",
      " auc:0.9592459532322074 \n",
      " apur:0.9462907169552428 \n",
      " f1:0.8789592760180995 \n",
      " precision:0.8681564245810056 \n",
      " recall:0.8900343642611683 \n",
      ", 'Test':  best_epoch_indx:66\n",
      " auc:0.9653585195060905 \n",
      " apur:0.954496851326257 \n",
      " f1:0.890888638920135 \n",
      " precision:0.8749447635881573 \n",
      " recall:0.9074243813015582 \n",
      "}\n",
      "=====Epoch 67\n",
      "Training...\n"
     ]
    },
    {
     "name": "stderr",
     "output_type": "stream",
     "text": [
      "Iteration:  45%|████▌     | 28/62 [00:02<00:03, 10.70it/s]\n",
      "Iteration:  68%|██████▊   | 42/62 [00:01<00:00, 21.96it/s]\n",
      "Iteration:  63%|██████▎   | 39/62 [00:01<00:01, 22.02it/s]"
     ]
    },
    {
     "name": "stdout",
     "output_type": "stream",
     "text": [
      "{'Train':  best_epoch_indx:68\n",
      " auc:0.9997838512467853 \n",
      " apur:0.9997102805074952 \n",
      " f1:0.9928267631562242 \n",
      " precision:0.9901240820460876 \n",
      " recall:0.9955442393380013 \n",
      ", 'Validation':  best_epoch_indx:68\n",
      " auc:0.9669846614291059 \n",
      " apur:0.9563207254235215 \n",
      " f1:0.8917197452229301 \n",
      " precision:0.9016393442622951 \n",
      " recall:0.8820160366552119 \n",
      ", 'Test':  best_epoch_indx:68\n",
      " auc:0.9701307028725491 \n",
      " apur:0.9592389576133467 \n",
      " f1:0.9089655172413793 \n",
      " precision:0.9119003690036901 \n",
      " recall:0.9060494958753437 \n",
      "}\n",
      "=====Epoch 69\n",
      "Training...\n"
     ]
    },
    {
     "name": "stderr",
     "output_type": "stream",
     "text": [
      "Iteration:  32%|███▏      | 20/62 [00:01<00:03, 11.44it/s]\n",
      "Iteration:  17%|█▋        | 3/18 [00:00<00:00, 22.64it/s]]\n",
      "Iteration:  39%|███▊      | 24/62 [00:01<00:03, 12.50it/s]\n",
      "Iteration:  42%|████▏     | 26/62 [00:02<00:02, 12.44it/s]\n",
      "Iteration:  45%|████▌     | 28/62 [00:02<00:02, 12.43it/s]\n",
      "Iteration: 100%|██████████| 7/7 [00:00<00:00, 22.56it/s]s]"
     ]
    },
    {
     "name": "stdout",
     "output_type": "stream",
     "text": [
      "{'Train':  best_epoch_indx:67\n",
      " auc:0.9996068831766602 \n",
      " apur:0.9994571008247406 \n",
      " f1:0.9900101163378856 \n",
      " precision:0.983419168446175 \n",
      " recall:0.9966900063653724 \n",
      ", 'Validation':  best_epoch_indx:67\n",
      " auc:0.9646691234606469 \n",
      " apur:0.9554269602510905 \n",
      " f1:0.8992684299380979 \n",
      " precision:0.8838495575221239 \n",
      " recall:0.9152348224513173 \n",
      ", 'Test':  best_epoch_indx:67\n",
      " auc:0.9725834077091757 \n",
      " apur:0.966417793943225 \n",
      " f1:0.90503302209064 \n",
      " precision:0.8995020371208692 \n",
      " recall:0.9106324472960586 \n",
      "}\n",
      "=====Epoch 68\n",
      "Training...\n",
      "{'Train':  best_epoch_indx:67\n",
      " auc:0.9997102534894924 \n",
      " apur:0.9996033544448818 \n",
      " f1:0.9903724347605776 \n",
      " precision:0.9855035925879239 \n",
      " recall:0.9952896244430299 \n",
      ", 'Validation':  best_epoch_indx:67\n",
      " auc:0.9664369930692954 \n",
      " apur:0.9536324396722695 \n",
      " f1:0.8899030233884768 \n",
      " precision:0.8863636363636364 \n",
      " recall:0.8934707903780069 \n",
      ", 'Test':  best_epoch_indx:67\n",
      " auc:0.9689351067045076 \n",
      " apur:0.9589123978335111 \n",
      " f1:0.9006683567642314 \n",
      " precision:0.9058878071395456 \n",
      " recall:0.8955087076076994 \n",
      "}\n",
      "=====Epoch 68\n",
      "Training...\n"
     ]
    },
    {
     "name": "stderr",
     "output_type": "stream",
     "text": [
      "Iteration:  94%|█████████▎| 58/62 [00:05<00:00, 10.73it/s]\n",
      "Iteration: 100%|██████████| 62/62 [00:05<00:00, 10.66it/s]\n",
      "Iteration:   0%|          | 0/62 [00:00<?, ?it/s]"
     ]
    },
    {
     "name": "stdout",
     "output_type": "stream",
     "text": [
      "Evaluating...\n"
     ]
    },
    {
     "name": "stderr",
     "output_type": "stream",
     "text": [
      "Iteration: 100%|██████████| 62/62 [00:05<00:00, 11.33it/s]\n",
      "Iteration:   5%|▍         | 3/62 [00:00<00:02, 20.88it/s]]"
     ]
    },
    {
     "name": "stdout",
     "output_type": "stream",
     "text": [
      "Evaluating...\n"
     ]
    },
    {
     "name": "stderr",
     "output_type": "stream",
     "text": [
      "\r",
      "Iteration:  61%|██████▏   | 38/62 [00:02<00:01, 18.42it/s]\r",
      "Iteration:  45%|████▌     | 28/62 [00:02<00:02, 11.37it/s]\r",
      "Iteration: 100%|██████████| 62/62 [00:04<00:00, 12.81it/s]\r",
      "Iteration: 100%|██████████| 62/62 [00:04<00:00, 12.45it/s]\n",
      "\r",
      "Iteration:   0%|          | 0/62 [00:00<?, ?it/s]\r",
      "Iteration:  65%|██████▍   | 40/62 [00:02<00:01, 18.36it/s]\r",
      "Iteration:  10%|▉         | 6/62 [00:00<00:02, 21.13it/s]\r",
      "Iteration:  45%|████▌     | 28/62 [00:02<00:02, 11.43it/s]"
     ]
    },
    {
     "name": "stdout",
     "output_type": "stream",
     "text": [
      "Evaluating...\n"
     ]
    },
    {
     "name": "stderr",
     "output_type": "stream",
     "text": [
      "Iteration:  71%|███████   | 44/62 [00:04<00:01, 11.33it/s]\n",
      "Iteration:  97%|█████████▋| 60/62 [00:02<00:00, 22.05it/s]\n",
      "Iteration:  97%|█████████▋| 60/62 [00:05<00:00, 11.22it/s]\n",
      "Iteration: 100%|██████████| 62/62 [00:05<00:00, 10.93it/s]\n",
      "Iteration:   0%|          | 0/62 [00:00<?, ?it/s]"
     ]
    },
    {
     "name": "stdout",
     "output_type": "stream",
     "text": [
      "Evaluating...\n",
      "Evaluating...\n"
     ]
    },
    {
     "name": "stderr",
     "output_type": "stream",
     "text": [
      "Iteration: 100%|██████████| 62/62 [00:05<00:00, 11.12it/s]\n",
      "Iteration:  19%|█▉        | 12/62 [00:00<00:02, 21.79it/s]\n",
      "Iteration: 100%|██████████| 7/7 [00:00<00:00, 21.41it/s]s]\n",
      "Iteration:  34%|███▍      | 21/62 [00:00<00:01, 22.02it/s]"
     ]
    },
    {
     "name": "stdout",
     "output_type": "stream",
     "text": [
      "{'Train':  best_epoch_indx:67\n",
      " auc:0.999622186654585 \n",
      " apur:0.9994800619460704 \n",
      " f1:0.9885071987875725 \n",
      " precision:0.9807041724094725 \n",
      " recall:0.996435391470401 \n",
      ", 'Validation':  best_epoch_indx:67\n",
      " auc:0.9638153200581608 \n",
      " apur:0.9511392425127597 \n",
      " f1:0.8868675383740762 \n",
      " precision:0.8803611738148984 \n",
      " recall:0.8934707903780069 \n",
      ", 'Test':  best_epoch_indx:67\n",
      " auc:0.9670395522595339 \n",
      " apur:0.9576392319415518 \n",
      " f1:0.8920928136967786 \n",
      " precision:0.8772707133362871 \n",
      " recall:0.9074243813015582 \n",
      "}\n",
      "=====Epoch 68\n",
      "Training...\n"
     ]
    },
    {
     "name": "stderr",
     "output_type": "stream",
     "text": [
      "Iteration: 100%|██████████| 62/62 [00:02<00:00, 21.99it/s]\n",
      "Iteration:  32%|███▏      | 20/62 [00:02<00:03, 10.66it/s]\n",
      "Iteration: 100%|██████████| 18/18 [00:00<00:00, 22.91it/s]\n",
      "Iteration:   0%|          | 0/7 [00:00<?, ?it/s]\n",
      "Iteration: 100%|██████████| 7/7 [00:00<00:00, 22.37it/s]s]\n",
      "Iteration: 100%|██████████| 7/7 [00:00<00:00, 19.39it/s]s]\n",
      "Iteration:   0%|          | 0/62 [00:00<?, ?it/s]"
     ]
    },
    {
     "name": "stdout",
     "output_type": "stream",
     "text": [
      "{'Train':  best_epoch_indx:68\n",
      " auc:0.9998362390355121 \n",
      " apur:0.9997706761945429 \n",
      " f1:0.9934035265761766 \n",
      " precision:0.9898874984199216 \n",
      " recall:0.9969446212603438 \n",
      ", 'Validation':  best_epoch_indx:68\n",
      " auc:0.9723210532202513 \n",
      " apur:0.9576893681003299 \n",
      " f1:0.9106529209621993 \n",
      " precision:0.9106529209621993 \n",
      " recall:0.9106529209621993 \n",
      ", 'Test':  best_epoch_indx:68\n",
      " auc:0.9701785545040887 \n",
      " apur:0.9598187930800165 \n",
      " f1:0.9022659647516594 \n",
      " precision:0.9012345679012346 \n",
      " recall:0.9032997250229148 \n",
      "}\n",
      "=====Epoch 69\n",
      "Training...\n",
      "{'Train':  best_epoch_indx:69\n",
      " auc:0.9998798922299403 \n",
      " apur:0.9998321627730277 \n",
      " f1:0.9935434865172806 \n",
      " precision:0.9880397834571321 \n",
      " recall:0.9991088478676002 \n",
      ", 'Validation':  best_epoch_indx:69\n",
      " auc:0.9720746988788226 \n",
      " apur:0.9666878734945805 \n",
      " f1:0.9032992036405004 \n",
      " precision:0.8971751412429378 \n",
      " recall:0.9095074455899198 \n",
      ", 'Test':  best_epoch_indx:69\n",
      " auc:0.9724843145787234 \n",
      " apur:0.963740434406718 \n",
      " f1:0.9066909421939007 \n",
      " precision:0.9005424954792043 \n",
      " recall:0.9129239230064161 \n",
      "}\n",
      "=====Epoch 70\n",
      "Training...\n"
     ]
    },
    {
     "name": "stderr",
     "output_type": "stream",
     "text": [
      "Iteration:  23%|██▎       | 14/62 [00:01<00:04, 11.38it/s]\n",
      "Iteration: 100%|██████████| 7/7 [00:00<00:00, 21.73it/s]s]"
     ]
    },
    {
     "name": "stdout",
     "output_type": "stream",
     "text": [
      "{'Train':  best_epoch_indx:69\n",
      " auc:0.9998446527597075 \n",
      " apur:0.9997857301383133 \n",
      " f1:0.9939724636761627 \n",
      " precision:0.9907665064507969 \n",
      " recall:0.9971992361553151 \n",
      ", 'Validation':  best_epoch_indx:69\n",
      " auc:0.9696381532005817 \n",
      " apur:0.9601892501998779 \n",
      " f1:0.9038572251007484 \n",
      " precision:0.9085648148148148 \n",
      " recall:0.8991981672394044 \n",
      ", 'Test':  best_epoch_indx:69\n",
      " auc:0.9715150042649697 \n",
      " apur:0.9603553573120478 \n",
      " f1:0.9104238258877434 \n",
      " precision:0.9102153000458085 \n",
      " recall:0.9106324472960586 \n",
      "}\n",
      "=====Epoch 70\n",
      "Training...\n"
     ]
    },
    {
     "name": "stderr",
     "output_type": "stream",
     "text": [
      "\n",
      "Iteration: 100%|██████████| 62/62 [00:05<00:00, 10.68it/s]\n",
      "Iteration:  48%|████▊     | 30/62 [00:02<00:02, 11.32it/s]"
     ]
    },
    {
     "name": "stdout",
     "output_type": "stream",
     "text": [
      "Evaluating...\n"
     ]
    },
    {
     "name": "stderr",
     "output_type": "stream",
     "text": [
      "Iteration:  56%|█████▋    | 35/62 [00:01<00:01, 20.21it/s]\n",
      "Iteration:  84%|████████▍ | 52/62 [00:04<00:00, 11.16it/s]\n",
      "Iteration:   3%|▎         | 2/62 [00:00<00:05, 10.68it/s]]"
     ]
    },
    {
     "name": "stdout",
     "output_type": "stream",
     "text": [
      "{'Train':  best_epoch_indx:68\n",
      " auc:0.9998283909898719 \n",
      " apur:0.9997609356977639 \n",
      " f1:0.9944098589759878 \n",
      " precision:0.9923925446937999 \n",
      " recall:0.996435391470401 \n",
      ", 'Validation':  best_epoch_indx:68\n",
      " auc:0.9688937870495719 \n",
      " apur:0.9602255000666479 \n",
      " f1:0.9045168667810176 \n",
      " precision:0.9029680365296804 \n",
      " recall:0.9060710194730813 \n",
      ", 'Test':  best_epoch_indx:68\n",
      " auc:0.9757062669275147 \n",
      " apur:0.9705291397812056 \n",
      " f1:0.9127298114963928 \n",
      " precision:0.9271867612293144 \n",
      " recall:0.8987167736021998 \n",
      "}\n",
      "=====Epoch 69\n",
      "Training...\n"
     ]
    },
    {
     "name": "stderr",
     "output_type": "stream",
     "text": [
      "Iteration: 100%|██████████| 62/62 [00:05<00:00, 11.27it/s]\n",
      "Iteration:  16%|█▌        | 10/62 [00:00<00:04, 11.28it/s]"
     ]
    },
    {
     "name": "stdout",
     "output_type": "stream",
     "text": [
      "Evaluating...\n"
     ]
    },
    {
     "name": "stderr",
     "output_type": "stream",
     "text": [
      "Iteration:  94%|█████████▎| 58/62 [00:05<00:00, 10.45it/s]\n",
      "Iteration: 100%|██████████| 62/62 [00:05<00:00, 10.43it/s]\n",
      "Iteration:   0%|          | 0/62 [00:00<?, ?it/s]"
     ]
    },
    {
     "name": "stdout",
     "output_type": "stream",
     "text": [
      "Evaluating...\n"
     ]
    },
    {
     "name": "stderr",
     "output_type": "stream",
     "text": [
      "Iteration:  97%|█████████▋| 60/62 [00:04<00:00, 12.66it/s]\n",
      "Iteration: 100%|██████████| 62/62 [00:05<00:00, 12.35it/s]\n",
      "Iteration: 100%|██████████| 7/7 [00:00<00:00, 21.75it/s]s]"
     ]
    },
    {
     "name": "stdout",
     "output_type": "stream",
     "text": [
      "Evaluating...\n"
     ]
    },
    {
     "name": "stderr",
     "output_type": "stream",
     "text": [
      "\r",
      "Iteration:  26%|██▌       | 16/62 [00:00<00:02, 18.13it/s]\n",
      "\r",
      "Iteration:   0%|          | 0/62 [00:00<?, ?it/s]\r",
      "Iteration:  10%|▉         | 6/62 [00:00<00:02, 22.61it/s]\r",
      "Iteration:  42%|████▏     | 26/62 [00:02<00:03, 11.32it/s]\r",
      "Iteration:  53%|█████▎    | 33/62 [00:01<00:01, 22.48it/s]\r",
      "Iteration:  29%|██▉       | 18/62 [00:00<00:02, 18.28it/s]\r",
      "Iteration:   3%|▎         | 2/62 [00:00<00:05, 11.12it/s]\r",
      "Iteration:  15%|█▍        | 9/62 [00:00<00:02, 22.63it/s]"
     ]
    },
    {
     "name": "stdout",
     "output_type": "stream",
     "text": [
      "{'Train':  best_epoch_indx:68\n",
      " auc:0.9997451945428469 \n",
      " apur:0.9996458630346917 \n",
      " f1:0.9917051858418287 \n",
      " precision:0.9865205341395817 \n",
      " recall:0.9969446212603438 \n",
      ", 'Validation':  best_epoch_indx:68\n",
      " auc:0.9661197696707434 \n",
      " apur:0.9513450726015544 \n",
      " f1:0.8961187214611873 \n",
      " precision:0.8930602957906713 \n",
      " recall:0.8991981672394044 \n",
      ", 'Test':  best_epoch_indx:68\n",
      " auc:0.9683765550401664 \n",
      " apur:0.9581533249433825 \n",
      " f1:0.8972727272727272 \n",
      " precision:0.8899909828674482 \n",
      " recall:0.9046746104491292 \n",
      "}\n",
      "=====Epoch 69\n",
      "Training...\n"
     ]
    },
    {
     "name": "stderr",
     "output_type": "stream",
     "text": [
      "Iteration:  71%|███████   | 44/62 [00:02<00:00, 18.48it/s]\n",
      "Iteration:  87%|████████▋ | 54/62 [00:04<00:00, 11.35it/s]\n",
      "Iteration:  48%|████▊     | 30/62 [00:02<00:02, 11.33it/s]\n",
      "Iteration: 100%|██████████| 62/62 [00:05<00:00, 11.36it/s]\n",
      "Iteration:   0%|          | 0/62 [00:00<?, ?it/s]"
     ]
    },
    {
     "name": "stdout",
     "output_type": "stream",
     "text": [
      "Evaluating...\n"
     ]
    },
    {
     "name": "stderr",
     "output_type": "stream",
     "text": [
      "Iteration:  71%|███████   | 44/62 [00:03<00:01, 11.23it/s]\n",
      "Iteration: 100%|██████████| 7/7 [00:00<00:00, 19.03it/s]s]\n",
      "Iteration:   0%|          | 0/62 [00:00<?, ?it/s]"
     ]
    },
    {
     "name": "stdout",
     "output_type": "stream",
     "text": [
      "{'Train':  best_epoch_indx:70\n",
      " auc:0.9999055168883053 \n",
      " apur:0.9998690157885168 \n",
      " f1:0.994737843149686 \n",
      " precision:0.9907805001262945 \n",
      " recall:0.9987269255251432 \n",
      ", 'Validation':  best_epoch_indx:70\n",
      " auc:0.971361187283295 \n",
      " apur:0.9660035075216958 \n",
      " f1:0.9009216589861752 \n",
      " precision:0.9061413673232909 \n",
      " recall:0.8957617411225659 \n",
      ", 'Test':  best_epoch_indx:70\n",
      " auc:0.9725039117110613 \n",
      " apur:0.9635879651561408 \n",
      " f1:0.9109274563820019 \n",
      " precision:0.9126034958601656 \n",
      " recall:0.9092575618698442 \n",
      "}\n",
      "=====Epoch 71\n",
      "Training...\n"
     ]
    },
    {
     "name": "stderr",
     "output_type": "stream",
     "text": [
      "Iteration: 100%|██████████| 62/62 [00:05<00:00, 11.27it/s]\n",
      "Iteration:   3%|▎         | 2/62 [00:00<00:03, 17.89it/s]]"
     ]
    },
    {
     "name": "stdout",
     "output_type": "stream",
     "text": [
      "Evaluating...\n"
     ]
    },
    {
     "name": "stderr",
     "output_type": "stream",
     "text": [
      "Iteration:  21%|██        | 13/62 [00:00<00:02, 20.49it/s]\n",
      "Iteration: 100%|██████████| 18/18 [00:00<00:00, 22.20it/s]\n",
      "Iteration: 100%|██████████| 7/7 [00:00<00:00, 21.12it/s]s]"
     ]
    },
    {
     "name": "stdout",
     "output_type": "stream",
     "text": [
      "{'Train':  best_epoch_indx:69\n",
      " auc:0.9999210670007544 \n",
      " apur:0.9998921808520637 \n",
      " f1:0.9947324998413404 \n",
      " precision:0.9917742343710453 \n",
      " recall:0.9977084659452577 \n",
      ", 'Validation':  best_epoch_indx:69\n",
      " auc:0.9711601505702308 \n",
      " apur:0.9566947813405932 \n",
      " f1:0.9120184013801035 \n",
      " precision:0.9157043879907621 \n",
      " recall:0.9083619702176403 \n",
      ", 'Test':  best_epoch_indx:69\n",
      " auc:0.9714356631726743 \n",
      " apur:0.9619320316570141 \n",
      " f1:0.9042163153070577 \n",
      " precision:0.9042163153070577 \n",
      " recall:0.9042163153070577 \n",
      "}\n",
      "=====Epoch 70\n",
      "Training...\n"
     ]
    },
    {
     "name": "stderr",
     "output_type": "stream",
     "text": [
      "\n",
      "Iteration:  71%|███████   | 44/62 [00:04<00:01, 10.81it/s]\n",
      "Iteration:   0%|          | 0/7 [00:00<?, ?it/s]\n",
      "Iteration:  23%|██▎       | 14/62 [00:01<00:04, 10.24it/s]\n",
      "Iteration:  26%|██▌       | 16/62 [00:01<00:04, 10.24it/s]"
     ]
    },
    {
     "name": "stdout",
     "output_type": "stream",
     "text": [
      "{'Train':  best_epoch_indx:70\n",
      " auc:0.9998530009842808 \n",
      " apur:0.9997941869088515 \n",
      " f1:0.9941527901360112 \n",
      " precision:0.9926386597283919 \n",
      " recall:0.995671546785487 \n",
      ", 'Validation':  best_epoch_indx:70\n",
      " auc:0.9683229777731496 \n",
      " apur:0.9585092083037577 \n",
      " f1:0.8989547038327526 \n",
      " precision:0.911660777385159 \n",
      " recall:0.8865979381443299 \n",
      ", 'Test':  best_epoch_indx:70\n",
      " auc:0.9715227222700565 \n",
      " apur:0.9609698682070967 \n",
      " f1:0.9079981507165973 \n",
      " precision:0.9160447761194029 \n",
      " recall:0.9000916590284143 \n",
      "}\n",
      "=====Epoch 71\n",
      "Training...\n"
     ]
    },
    {
     "name": "stderr",
     "output_type": "stream",
     "text": [
      "Iteration: 100%|██████████| 62/62 [00:05<00:00, 10.64it/s]\n",
      "Iteration:  29%|██▉       | 18/62 [00:01<00:03, 12.03it/s]"
     ]
    },
    {
     "name": "stdout",
     "output_type": "stream",
     "text": [
      "Evaluating...\n"
     ]
    },
    {
     "name": "stderr",
     "output_type": "stream",
     "text": [
      "Iteration:  77%|███████▋  | 48/62 [00:04<00:01, 11.96it/s]\n",
      "Iteration:  61%|██████▏   | 38/62 [00:02<00:01, 18.13it/s]\n",
      "Iteration:  68%|██████▊   | 42/62 [00:03<00:01, 11.98it/s]"
     ]
    },
    {
     "name": "stdout",
     "output_type": "stream",
     "text": [
      "{'Train':  best_epoch_indx:69\n",
      " auc:0.9998749790847797 \n",
      " apur:0.9998267131211879 \n",
      " f1:0.9947338366854895 \n",
      " precision:0.9915254237288136 \n",
      " recall:0.9979630808402291 \n",
      ", 'Validation':  best_epoch_indx:69\n",
      " auc:0.9696044060305229 \n",
      " apur:0.9617697677772192 \n",
      " f1:0.9058093626621546 \n",
      " precision:0.8922222222222222 \n",
      " recall:0.9198167239404352 \n",
      ", 'Test':  best_epoch_indx:69\n",
      " auc:0.9762979291974913 \n",
      " apur:0.9711612463105093 \n",
      " f1:0.9182879377431907 \n",
      " precision:0.9172382258802012 \n",
      " recall:0.919340054995417 \n",
      "}\n",
      "=====Epoch 70\n",
      "Training...\n"
     ]
    },
    {
     "name": "stderr",
     "output_type": "stream",
     "text": [
      "Iteration: 100%|██████████| 62/62 [00:05<00:00, 11.12it/s]\n",
      "Iteration:  87%|████████▋ | 54/62 [00:03<00:00, 17.80it/s]"
     ]
    },
    {
     "name": "stdout",
     "output_type": "stream",
     "text": [
      "Evaluating...\n"
     ]
    },
    {
     "name": "stderr",
     "output_type": "stream",
     "text": [
      "Iteration:  29%|██▉       | 18/62 [00:01<00:03, 12.18it/s]\n",
      "Iteration: 100%|██████████| 62/62 [00:05<00:00, 12.10it/s]\n",
      "Iteration:  35%|███▌      | 22/62 [00:01<00:03, 11.98it/s]\n",
      "Iteration:   5%|▍         | 3/62 [00:00<00:02, 20.62it/s]"
     ]
    },
    {
     "name": "stdout",
     "output_type": "stream",
     "text": [
      "Evaluating...\n"
     ]
    },
    {
     "name": "stderr",
     "output_type": "stream",
     "text": [
      "Iteration: 100%|██████████| 7/7 [00:00<00:00, 19.77it/s]s]\n",
      "Iteration:  19%|█▉        | 12/62 [00:00<00:02, 20.55it/s]"
     ]
    },
    {
     "name": "stdout",
     "output_type": "stream",
     "text": [
      "{'Train':  best_epoch_indx:69\n",
      " auc:0.9998573761171633 \n",
      " apur:0.9998032952113897 \n",
      " f1:0.9937888198757763 \n",
      " precision:0.9895241701375741 \n",
      " recall:0.9980903882877148 \n",
      ", 'Validation':  best_epoch_indx:69\n",
      " auc:0.9661226622853198 \n",
      " apur:0.9533947356286092 \n",
      " f1:0.8916905444126075 \n",
      " precision:0.8922018348623854 \n",
      " recall:0.8911798396334479 \n",
      ", 'Test':  best_epoch_indx:69\n",
      " auc:0.9695278479879764 \n",
      " apur:0.960707066496628 \n",
      " f1:0.8956043956043956 \n",
      " precision:0.8947849954254345 \n",
      " recall:0.8964252978918423 \n",
      "}\n",
      "=====Epoch 70\n",
      "Training...\n"
     ]
    },
    {
     "name": "stderr",
     "output_type": "stream",
     "text": [
      "Iteration:  63%|██████▎   | 39/62 [00:01<00:01, 21.02it/s]\n",
      "Iteration:  58%|█████▊    | 36/62 [00:03<00:02, 11.96it/s]\n",
      "Iteration:  82%|████████▏ | 51/62 [00:02<00:00, 21.37it/s]"
     ]
    },
    {
     "name": "stdout",
     "output_type": "stream",
     "text": [
      "{'Train':  best_epoch_indx:71\n",
      " auc:0.9997837833846333 \n",
      " apur:0.9996518396014896 \n",
      " f1:0.9930964595604534 \n",
      " precision:0.9881522561129317 \n",
      " recall:0.9980903882877148 \n",
      ", 'Validation':  best_epoch_indx:71\n",
      " auc:0.9709002973607784 \n",
      " apur:0.9652751835248226 \n",
      " f1:0.9018264840182647 \n",
      " precision:0.8987485779294653 \n",
      " recall:0.9049255441008018 \n",
      ", 'Test':  best_epoch_indx:71\n",
      " auc:0.9707554463054006 \n",
      " apur:0.9608962666588112 \n",
      " f1:0.9046967624259006 \n",
      " precision:0.9001814882032668 \n",
      " recall:0.9092575618698442 \n",
      "}\n",
      "=====Epoch 72\n",
      "Training...\n"
     ]
    },
    {
     "name": "stderr",
     "output_type": "stream",
     "text": [
      "Iteration:  29%|██▉       | 18/62 [00:01<00:03, 11.21it/s]\n",
      "Iteration:  45%|████▌     | 28/62 [00:02<00:03, 10.90it/s]\n",
      "Iteration:  17%|█▋        | 3/18 [00:00<00:00, 21.88it/s]]\n",
      "Iteration: 100%|██████████| 62/62 [00:05<00:00, 12.00it/s]\n",
      "Iteration:  50%|█████     | 9/18 [00:00<00:00, 22.26it/s]"
     ]
    },
    {
     "name": "stdout",
     "output_type": "stream",
     "text": [
      "Evaluating...\n",
      "{'Train':  best_epoch_indx:70\n",
      " auc:0.9999233654420421 \n",
      " apur:0.9998949979395828 \n",
      " f1:0.9947969543147208 \n",
      " precision:0.9916508538899431 \n",
      " recall:0.9979630808402291 \n",
      ", 'Validation':  best_epoch_indx:70\n",
      " auc:0.9703902329904621 \n",
      " apur:0.9550283257449562 \n",
      " f1:0.9126213592233011 \n",
      " precision:0.9100227790432802 \n",
      " recall:0.9152348224513173 \n",
      ", 'Test':  best_epoch_indx:70\n",
      " auc:0.9709555260762063 \n",
      " apur:0.9611369430565452 \n",
      " f1:0.9040531257155943 \n",
      " precision:0.9034324942791762 \n",
      " recall:0.9046746104491292 \n",
      "}\n",
      "=====Epoch 71\n",
      "Training...\n"
     ]
    },
    {
     "name": "stderr",
     "output_type": "stream",
     "text": [
      "Iteration:  67%|██████▋   | 12/18 [00:00<00:00, 22.38it/s]\n",
      "Iteration: 100%|██████████| 62/62 [00:05<00:00, 11.41it/s]\n",
      "Iteration:  87%|████████▋ | 54/62 [00:02<00:00, 21.39it/s]"
     ]
    },
    {
     "name": "stdout",
     "output_type": "stream",
     "text": [
      "Evaluating...\n"
     ]
    },
    {
     "name": "stderr",
     "output_type": "stream",
     "text": [
      "Iteration:  19%|█▉        | 12/62 [00:00<00:02, 22.38it/s]\n",
      "Iteration: 100%|██████████| 62/62 [00:05<00:00, 10.74it/s]\n",
      "Iteration:  44%|████▎     | 27/62 [00:01<00:01, 22.38it/s]"
     ]
    },
    {
     "name": "stdout",
     "output_type": "stream",
     "text": [
      "Evaluating...\n"
     ]
    },
    {
     "name": "stderr",
     "output_type": "stream",
     "text": [
      "Iteration: 100%|██████████| 62/62 [00:05<00:00, 12.06it/s]\n",
      "Iteration:   0%|          | 0/62 [00:00<?, ?it/s]\n",
      "Iteration:   0%|          | 0/7 [00:00<?, ?it/s]"
     ]
    },
    {
     "name": "stdout",
     "output_type": "stream",
     "text": [
      "Evaluating...\n"
     ]
    },
    {
     "name": "stderr",
     "output_type": "stream",
     "text": [
      "Iteration:  55%|█████▍    | 34/62 [00:01<00:01, 19.35it/s]\n",
      "Iteration:  33%|███▎      | 6/18 [00:00<00:00, 22.64it/s]]\n",
      "Iteration:  15%|█▍        | 9/62 [00:00<00:02, 21.26it/s]]"
     ]
    },
    {
     "name": "stdout",
     "output_type": "stream",
     "text": [
      "{'Train':  best_epoch_indx:71\n",
      " auc:0.9998791234245108 \n",
      " apur:0.9998331226032846 \n",
      " f1:0.9941008563273073 \n",
      " precision:0.9906447534766119 \n",
      " recall:0.9975811584977721 \n",
      ", 'Validation':  best_epoch_indx:71\n",
      " auc:0.969679614009511 \n",
      " apur:0.9569523570730186 \n",
      " f1:0.8993674525589419 \n",
      " precision:0.9030023094688222 \n",
      " recall:0.8957617411225659 \n",
      ", 'Test':  best_epoch_indx:71\n",
      " auc:0.972335736925931 \n",
      " apur:0.9615076313024515 \n",
      " f1:0.9113233287858116 \n",
      " precision:0.9043321299638989 \n",
      " recall:0.918423464711274 \n",
      "}\n",
      "=====Epoch 72\n",
      "Training...\n"
     ]
    },
    {
     "name": "stderr",
     "output_type": "stream",
     "text": [
      "Iteration:  90%|█████████ | 56/62 [00:02<00:00, 18.46it/s]\n",
      "Iteration: 100%|██████████| 7/7 [00:00<00:00, 19.81it/s]s]\n",
      "Iteration:  58%|█████▊    | 36/62 [00:01<00:01, 21.52it/s]\n",
      "Iteration:   0%|          | 0/18 [00:00<?, ?it/s]"
     ]
    },
    {
     "name": "stdout",
     "output_type": "stream",
     "text": [
      "{'Train':  best_epoch_indx:70\n",
      " auc:0.9998630215217951 \n",
      " apur:0.9998099709702947 \n",
      " f1:0.9939785764086961 \n",
      " precision:0.9897753092653371 \n",
      " recall:0.9982176957352005 \n",
      ", 'Validation':  best_epoch_indx:70\n",
      " auc:0.9651189250272871 \n",
      " apur:0.9520344508139247 \n",
      " f1:0.8888888888888887 \n",
      " precision:0.8982456140350877 \n",
      " recall:0.8797250859106529 \n",
      ", 'Test':  best_epoch_indx:70\n",
      " auc:0.9694037070984824 \n",
      " apur:0.9602682162867421 \n",
      " f1:0.8987631699496106 \n",
      " precision:0.8983516483516484 \n",
      " recall:0.8991750687442713 \n",
      "}\n",
      "=====Epoch 71\n",
      "Training...\n"
     ]
    },
    {
     "name": "stderr",
     "output_type": "stream",
     "text": [
      "Iteration:  97%|█████████▋| 60/62 [00:02<00:00, 22.40it/s]\n",
      "Iteration:  52%|█████▏    | 32/62 [00:02<00:02, 12.51it/s]\n",
      "Iteration: 100%|██████████| 7/7 [00:00<00:00, 17.98it/s]s]\n",
      "Iteration:   0%|          | 0/62 [00:00<?, ?it/s]"
     ]
    },
    {
     "name": "stdout",
     "output_type": "stream",
     "text": [
      "{'Train':  best_epoch_indx:72\n",
      " auc:0.9997419728509633 \n",
      " apur:0.9996399272192766 \n",
      " f1:0.9918812634783714 \n",
      " precision:0.9883706231829099 \n",
      " recall:0.9954169318905156 \n",
      ", 'Validation':  best_epoch_indx:72\n",
      " auc:0.9705213648512616 \n",
      " apur:0.9642814700966366 \n",
      " f1:0.8962318840579709 \n",
      " precision:0.9072769953051644 \n",
      " recall:0.8854524627720504 \n",
      ", 'Test':  best_epoch_indx:72\n",
      " auc:0.9695533088292024 \n",
      " apur:0.9594601298590829 \n",
      " f1:0.9013761467889908 \n",
      " precision:0.9022038567493113 \n",
      " recall:0.9005499541704858 \n",
      "}\n",
      "=====Epoch 73\n",
      "Training...\n"
     ]
    },
    {
     "name": "stderr",
     "output_type": "stream",
     "text": [
      "Iteration:  29%|██▉       | 18/62 [00:01<00:04,  9.92it/s]\n",
      "Iteration: 100%|██████████| 7/7 [00:00<00:00, 21.73it/s]s]\n",
      "Iteration:   0%|          | 0/62 [00:00<?, ?it/s]"
     ]
    },
    {
     "name": "stdout",
     "output_type": "stream",
     "text": [
      "{'Train':  best_epoch_indx:70\n",
      " auc:0.9998929974353921 \n",
      " apur:0.99985230147061 \n",
      " f1:0.9951696961993136 \n",
      " precision:0.9936540170072344 \n",
      " recall:0.9966900063653724 \n",
      ", 'Validation':  best_epoch_indx:70\n",
      " auc:0.9698044785387283 \n",
      " apur:0.9625132817915901 \n",
      " f1:0.9055299539170507 \n",
      " precision:0.9107763615295481 \n",
      " recall:0.9003436426116839 \n",
      ", 'Test':  best_epoch_indx:70\n",
      " auc:0.9766636082785176 \n",
      " apur:0.9719459018602519 \n",
      " f1:0.9132057862809145 \n",
      " precision:0.9301330798479087 \n",
      " recall:0.8968835930339139 \n",
      "}\n",
      "=====Epoch 71\n",
      "Training...\n"
     ]
    },
    {
     "name": "stderr",
     "output_type": "stream",
     "text": [
      "\n",
      "Iteration: 100%|██████████| 7/7 [00:00<00:00, 20.63it/s]]]\n",
      "Iteration:  77%|███████▋  | 48/62 [00:03<00:01, 11.99it/s]"
     ]
    },
    {
     "name": "stdout",
     "output_type": "stream",
     "text": [
      "{'Train':  best_epoch_indx:71\n",
      " auc:0.9998801118733548 \n",
      " apur:0.9998366108220719 \n",
      " f1:0.9929662252075281 \n",
      " precision:0.98851879888973 \n",
      " recall:0.9974538510502864 \n",
      ", 'Validation':  best_epoch_indx:71\n",
      " auc:0.9704871355787736 \n",
      " apur:0.9549099565667052 \n",
      " f1:0.9040318001135719 \n",
      " precision:0.8963963963963963 \n",
      " recall:0.9117983963344788 \n",
      ", 'Test':  best_epoch_indx:71\n",
      " auc:0.9706160882124761 \n",
      " apur:0.9607406628739378 \n",
      " f1:0.9066423191052271 \n",
      " precision:0.903137789904502 \n",
      " recall:0.9101741521539871 \n",
      "}\n",
      "=====Epoch 72\n",
      "Training...\n"
     ]
    },
    {
     "name": "stderr",
     "output_type": "stream",
     "text": [
      "Iteration: 100%|██████████| 62/62 [00:05<00:00, 12.33it/s]\n",
      "Iteration:   0%|          | 0/62 [00:00<?, ?it/s]"
     ]
    },
    {
     "name": "stdout",
     "output_type": "stream",
     "text": [
      "Evaluating...\n"
     ]
    },
    {
     "name": "stderr",
     "output_type": "stream",
     "text": [
      "Iteration: 100%|██████████| 62/62 [00:05<00:00, 10.63it/s]\n",
      "Iteration:  71%|███████   | 44/62 [00:04<00:01, 10.28it/s]"
     ]
    },
    {
     "name": "stdout",
     "output_type": "stream",
     "text": [
      "Evaluating...\n"
     ]
    },
    {
     "name": "stderr",
     "output_type": "stream",
     "text": [
      "Iteration:  81%|████████  | 50/62 [00:04<00:00, 12.60it/s]\n",
      "Iteration: 100%|██████████| 62/62 [00:05<00:00, 11.88it/s]\n",
      "Iteration:  97%|█████████▋| 60/62 [00:04<00:00, 12.59it/s]\n",
      "Iteration:   0%|          | 0/7 [00:00<?, ?it/s]"
     ]
    },
    {
     "name": "stdout",
     "output_type": "stream",
     "text": [
      "Evaluating...\n",
      "Evaluating...\n"
     ]
    },
    {
     "name": "stderr",
     "output_type": "stream",
     "text": [
      "Iteration: 100%|██████████| 62/62 [00:05<00:00, 12.39it/s]\n",
      "Iteration:  68%|██████▊   | 42/62 [00:02<00:00, 20.92it/s]\n",
      "Iteration: 100%|██████████| 62/62 [00:06<00:00,  9.76it/s]\n",
      "Iteration:  73%|███████▎  | 45/62 [00:02<00:00, 20.90it/s]"
     ]
    },
    {
     "name": "stdout",
     "output_type": "stream",
     "text": [
      "{'Train':  best_epoch_indx:72\n",
      " auc:0.9996657911550502 \n",
      " apur:0.9995287108957733 \n",
      " f1:0.9903699949315763 \n",
      " precision:0.9857485180981208 \n",
      " recall:0.9950350095480586 \n",
      ", 'Validation':  best_epoch_indx:72\n",
      " auc:0.9653469594763983 \n",
      " apur:0.9558343559436805 \n",
      " f1:0.8967889908256881 \n",
      " precision:0.8978185993111366 \n",
      " recall:0.8957617411225659 \n",
      ", 'Test':  best_epoch_indx:72\n",
      " auc:0.968435597415271 \n",
      " apur:0.9554303698243484 \n",
      " f1:0.9055153707052441 \n",
      " precision:0.8933987511150758 \n",
      " recall:0.9179651695692026 \n",
      "}\n",
      "=====Epoch 73\n",
      "Training...\n",
      "Evaluating...\n"
     ]
    },
    {
     "name": "stderr",
     "output_type": "stream",
     "text": [
      "Iteration:  53%|█████▎    | 33/62 [00:01<00:01, 21.35it/s]\n",
      "Iteration:  55%|█████▍    | 34/62 [00:01<00:01, 17.33it/s]\n",
      "Iteration:  97%|█████████▋| 60/62 [00:02<00:00, 20.66it/s]\n",
      "Iteration:   3%|▎         | 2/62 [00:00<00:05, 11.54it/s]]\n",
      "Iteration:  71%|███████   | 44/62 [00:02<00:01, 17.34it/s]"
     ]
    },
    {
     "name": "stdout",
     "output_type": "stream",
     "text": [
      "{'Train':  best_epoch_indx:71\n",
      " auc:0.9998269218985067 \n",
      " apur:0.9997613557392887 \n",
      " f1:0.9927729174591099 \n",
      " precision:0.9887612072231342 \n",
      " recall:0.9968173138128581 \n",
      ", 'Validation':  best_epoch_indx:71\n",
      " auc:0.964345150628083 \n",
      " apur:0.9505732546841994 \n",
      " f1:0.8864298194525335 \n",
      " precision:0.9016587677725119 \n",
      " recall:0.8717067583046965 \n",
      ", 'Test':  best_epoch_indx:71\n",
      " auc:0.968733469741719 \n",
      " apur:0.959025806029585 \n",
      " f1:0.8977246609974718 \n",
      " precision:0.9004149377593361 \n",
      " recall:0.8950504124656279 \n",
      "}\n",
      "=====Epoch 72\n",
      "Training...\n"
     ]
    },
    {
     "name": "stderr",
     "output_type": "stream",
     "text": [
      "\n",
      "Iteration:  94%|█████████▎| 58/62 [00:03<00:00, 17.32it/s]\n",
      "Iteration:  43%|████▎     | 3/7 [00:00<00:00, 23.83it/s]s]\n",
      "Iteration:  43%|████▎     | 3/7 [00:00<00:00, 21.55it/s]s]\n",
      "Iteration:  77%|███████▋  | 48/62 [00:03<00:01, 12.75it/s]\n",
      "Iteration:  26%|██▌       | 16/62 [00:01<00:03, 11.61it/s]"
     ]
    },
    {
     "name": "stdout",
     "output_type": "stream",
     "text": [
      "{'Train':  best_epoch_indx:72\n",
      " auc:0.9996479812123266 \n",
      " apur:0.9995189873628725 \n",
      " f1:0.9894015358253474 \n",
      " precision:0.9864591242723361 \n",
      " recall:0.9923615531508593 \n",
      ", 'Validation':  best_epoch_indx:72\n",
      " auc:0.9669962318874118 \n",
      " apur:0.9519984777377677 \n",
      " f1:0.8908045977011494 \n",
      " precision:0.8938869665513264 \n",
      " recall:0.8877434135166093 \n",
      ", 'Test':  best_epoch_indx:72\n",
      " auc:0.967538147783744 \n",
      " apur:0.9563330612800381 \n",
      " f1:0.8984105044920524 \n",
      " precision:0.9031959240389069 \n",
      " recall:0.8936755270394133 \n",
      "}\n",
      "=====Epoch 73\n",
      "Training...\n"
     ]
    },
    {
     "name": "stderr",
     "output_type": "stream",
     "text": [
      "\r",
      "Iteration:  86%|████████▌ | 6/7 [00:00<00:00, 21.53it/s]\r",
      "Iteration:   3%|▎         | 2/62 [00:00<00:04, 12.62it/s]\r",
      "Iteration: 100%|██████████| 7/7 [00:00<00:00, 21.72it/s]\r",
      "Iteration:  11%|█         | 2/18 [00:00<00:00, 17.72it/s]\n",
      "\r",
      "Iteration:   0%|          | 0/62 [00:00<?, ?it/s]\r",
      "Iteration:  29%|██▉       | 18/62 [00:01<00:03, 11.60it/s]\r",
      "Iteration:  22%|██▏       | 4/18 [00:00<00:00, 17.66it/s]"
     ]
    },
    {
     "name": "stdout",
     "output_type": "stream",
     "text": [
      "{'Train':  best_epoch_indx:71\n",
      " auc:0.999877313253134 \n",
      " apur:0.9998306873153625 \n",
      " f1:0.9936628643852978 \n",
      " precision:0.9892744479495268 \n",
      " recall:0.9980903882877148 \n",
      ", 'Validation':  best_epoch_indx:71\n",
      " auc:0.9675352224034928 \n",
      " apur:0.9604056641091405 \n",
      " f1:0.8981429375351717 \n",
      " precision:0.8827433628318584 \n",
      " recall:0.9140893470790378 \n",
      ", 'Test':  best_epoch_indx:71\n",
      " auc:0.9755728997996097 \n",
      " apur:0.9708929823296819 \n",
      " f1:0.9104238258877434 \n",
      " precision:0.9102153000458085 \n",
      " recall:0.9106324472960586 \n",
      "}\n",
      "=====Epoch 72\n",
      "Training...\n"
     ]
    },
    {
     "name": "stderr",
     "output_type": "stream",
     "text": [
      "Iteration:  97%|█████████▋| 60/62 [00:04<00:00, 12.09it/s]\n",
      "Iteration: 100%|██████████| 62/62 [00:05<00:00, 12.37it/s]\n",
      "Iteration:  57%|█████▋    | 4/7 [00:00<00:00, 17.20it/s]s]"
     ]
    },
    {
     "name": "stdout",
     "output_type": "stream",
     "text": [
      "Evaluating...\n"
     ]
    },
    {
     "name": "stderr",
     "output_type": "stream",
     "text": [
      "\r",
      "Iteration:  23%|██▎       | 14/62 [00:01<00:04, 11.62it/s]\r",
      "Iteration:   5%|▍         | 3/62 [00:00<00:02, 22.58it/s]\r",
      "Iteration:  52%|█████▏    | 32/62 [00:02<00:02, 11.53it/s]\r",
      "Iteration:  86%|████████▌ | 6/7 [00:00<00:00, 17.57it/s]\r",
      "Iteration:  29%|██▉       | 18/62 [00:01<00:03, 11.62it/s]\r",
      "Iteration: 100%|██████████| 7/7 [00:00<00:00, 17.63it/s]\r",
      "Iteration:  10%|▉         | 6/62 [00:00<00:02, 23.08it/s]\r",
      "Iteration:  26%|██▌       | 16/62 [00:01<00:03, 11.73it/s]\n",
      "\r",
      "Iteration:   0%|          | 0/62 [00:00<?, ?it/s]"
     ]
    },
    {
     "name": "stdout",
     "output_type": "stream",
     "text": [
      "{'Train':  best_epoch_indx:73\n",
      " auc:0.999496320333598 \n",
      " apur:0.9992822536372346 \n",
      " f1:0.9870801033591731 \n",
      " precision:0.977408886669995 \n",
      " recall:0.9969446212603438 \n",
      ", 'Validation':  best_epoch_indx:73\n",
      " auc:0.9679912913017152 \n",
      " apur:0.961512996375607 \n",
      " f1:0.895368782161235 \n",
      " precision:0.8938356164383562 \n",
      " recall:0.8969072164948454 \n",
      ", 'Test':  best_epoch_indx:73\n",
      " auc:0.9661846852268483 \n",
      " apur:0.9544758256668885 \n",
      " f1:0.8994565217391304 \n",
      " precision:0.8889883616830797 \n",
      " recall:0.9101741521539871 \n",
      "}\n",
      "=====Epoch 74\n",
      "Training...\n"
     ]
    },
    {
     "name": "stderr",
     "output_type": "stream",
     "text": [
      "Iteration: 100%|██████████| 62/62 [00:05<00:00, 11.71it/s]\n",
      "Iteration:   5%|▍         | 3/62 [00:00<00:02, 20.93it/s]]\n",
      "Iteration:   0%|          | 0/18 [00:00<?, ?it/s]"
     ]
    },
    {
     "name": "stdout",
     "output_type": "stream",
     "text": [
      "Evaluating...\n"
     ]
    },
    {
     "name": "stderr",
     "output_type": "stream",
     "text": [
      "Iteration:  90%|█████████ | 56/62 [00:04<00:00, 10.52it/s]\n",
      "Iteration:  61%|██████▏   | 38/62 [00:03<00:02, 10.16it/s]\n",
      "Iteration:  97%|█████████▋| 60/62 [00:05<00:00, 11.18it/s]"
     ]
    },
    {
     "name": "stdout",
     "output_type": "stream",
     "text": [
      "{'Train':  best_epoch_indx:73\n",
      " auc:0.9993927887297778 \n",
      " apur:0.999174525425164 \n",
      " f1:0.9852801819445323 \n",
      " precision:0.9779282668673188 \n",
      " recall:0.9927434754933163 \n",
      ", 'Validation':  best_epoch_indx:73\n",
      " auc:0.9667966414816358 \n",
      " apur:0.9546525598719852 \n",
      " f1:0.8858603066439523 \n",
      " precision:0.8783783783783784 \n",
      " recall:0.8934707903780069 \n",
      ", 'Test':  best_epoch_indx:73\n",
      " auc:0.9675395370246597 \n",
      " apur:0.9534882873556053 \n",
      " f1:0.8957303370786517 \n",
      " precision:0.8787477954144621 \n",
      " recall:0.9133822181484876 \n",
      "}\n",
      "=====Epoch 74\n",
      "Training...\n",
      "Evaluating...\n",
      "Evaluating...\n"
     ]
    },
    {
     "name": "stderr",
     "output_type": "stream",
     "text": [
      "Iteration: 100%|██████████| 62/62 [00:05<00:00, 11.90it/s]\n",
      "Iteration: 100%|██████████| 62/62 [00:05<00:00, 11.35it/s]\n",
      "Iteration:  39%|███▊      | 24/62 [00:01<00:02, 12.95it/s]\n",
      "Iteration: 100%|██████████| 62/62 [00:06<00:00, 10.21it/s]\n",
      "Iteration:   0%|          | 0/62 [00:00<?, ?it/s]"
     ]
    },
    {
     "name": "stdout",
     "output_type": "stream",
     "text": [
      "Evaluating...\n"
     ]
    },
    {
     "name": "stderr",
     "output_type": "stream",
     "text": [
      "Iteration:  58%|█████▊    | 36/62 [00:02<00:02, 12.89it/s]\n",
      "Iteration:  16%|█▌        | 10/62 [00:00<00:03, 16.92it/s]\n",
      "Iteration: 100%|██████████| 7/7 [00:00<00:00, 19.82it/s]]]\n",
      "Iteration:  33%|███▎      | 6/18 [00:00<00:00, 22.29it/s]]"
     ]
    },
    {
     "name": "stdout",
     "output_type": "stream",
     "text": [
      "{'Train':  best_epoch_indx:72\n",
      " auc:0.9995456044778301 \n",
      " apur:0.9993879201819031 \n",
      " f1:0.9892677970407062 \n",
      " precision:0.9869488089204258 \n",
      " recall:0.9915977084659453 \n",
      ", 'Validation':  best_epoch_indx:72\n",
      " auc:0.9627677114790518 \n",
      " apur:0.947404989819185 \n",
      " f1:0.8928778228141285 \n",
      " precision:0.9028103044496487 \n",
      " recall:0.8831615120274914 \n",
      ", 'Test':  best_epoch_indx:72\n",
      " auc:0.9657202177596311 \n",
      " apur:0.9560513869934328 \n",
      " f1:0.8868965517241378 \n",
      " precision:0.889760147601476 \n",
      " recall:0.884051329055912 \n",
      "}\n",
      "=====Epoch 73\n",
      "Training...\n"
     ]
    },
    {
     "name": "stderr",
     "output_type": "stream",
     "text": [
      "Iteration:  68%|██████▊   | 42/62 [00:03<00:01, 12.46it/s]\n",
      "Iteration:  39%|███▊      | 24/62 [00:01<00:02, 17.22it/s]\n",
      "Iteration:  48%|████▊     | 30/62 [00:01<00:01, 17.22it/s]\n",
      "Iteration:   0%|          | 0/62 [00:00<?, ?it/s]"
     ]
    },
    {
     "name": "stdout",
     "output_type": "stream",
     "text": [
      "{'Train':  best_epoch_indx:73\n",
      " auc:0.999693283132835 \n",
      " apur:0.9995835332288705 \n",
      " f1:0.9901115618661258 \n",
      " precision:0.9859866178512814 \n",
      " recall:0.9942711648631445 \n",
      ", 'Validation':  best_epoch_indx:73\n",
      " auc:0.9662971833647664 \n",
      " apur:0.9541055876607197 \n",
      " f1:0.8969487622337363 \n",
      " precision:0.9016203703703703 \n",
      " recall:0.8923253150057274 \n",
      ", 'Test':  best_epoch_indx:73\n",
      " auc:0.965785080108262 \n",
      " apur:0.9544668284198458 \n",
      " f1:0.8960441582336707 \n",
      " precision:0.8993536472760849 \n",
      " recall:0.8927589367552704 \n",
      "}\n",
      "=====Epoch 74\n",
      "Training...\n"
     ]
    },
    {
     "name": "stderr",
     "output_type": "stream",
     "text": [
      "\n",
      "Iteration: 100%|██████████| 7/7 [00:00<00:00, 21.08it/s]s]\n",
      "Iteration:  61%|██████▏   | 38/62 [00:02<00:01, 17.10it/s]"
     ]
    },
    {
     "name": "stdout",
     "output_type": "stream",
     "text": [
      "{'Train':  best_epoch_indx:72\n",
      " auc:0.9996815110643749 \n",
      " apur:0.9995734785939377 \n",
      " f1:0.9898721357133815 \n",
      " precision:0.9843887699861513 \n",
      " recall:0.9954169318905156 \n",
      ", 'Validation':  best_epoch_indx:72\n",
      " auc:0.9682641612767614 \n",
      " apur:0.9598731213207933 \n",
      " f1:0.9040632054176072 \n",
      " precision:0.8909899888765295 \n",
      " recall:0.9175257731958762 \n",
      ", 'Test':  best_epoch_indx:72\n",
      " auc:0.9748277264084511 \n",
      " apur:0.9694646718022958 \n",
      " f1:0.9112372304199774 \n",
      " precision:0.902834008097166 \n",
      " recall:0.9197983501374886 \n",
      "}\n",
      "=====Epoch 73\n",
      "Training...\n"
     ]
    },
    {
     "name": "stderr",
     "output_type": "stream",
     "text": [
      "\r",
      "Iteration:  10%|▉         | 6/62 [00:00<00:04, 11.59it/s]\r",
      "Iteration:  97%|█████████▋| 60/62 [00:04<00:00, 12.88it/s]\r",
      "Iteration:  65%|██████▍   | 40/62 [00:02<00:01, 17.22it/s]\r",
      "Iteration:   3%|▎         | 2/62 [00:00<00:05, 11.81it/s]\r",
      "Iteration:  29%|██▉       | 18/62 [00:01<00:03, 11.52it/s]\r",
      "Iteration: 100%|██████████| 62/62 [00:04<00:00, 13.10it/s]\r",
      "Iteration: 100%|██████████| 62/62 [00:04<00:00, 12.85it/s]\n",
      "\r",
      "Iteration:  13%|█▎        | 8/62 [00:00<00:04, 11.72it/s]\r",
      "Iteration:   0%|          | 0/62 [00:00<?, ?it/s]\r",
      "Iteration:  68%|██████▊   | 42/62 [00:02<00:01, 17.24it/s]"
     ]
    },
    {
     "name": "stdout",
     "output_type": "stream",
     "text": [
      "Evaluating...\n"
     ]
    },
    {
     "name": "stderr",
     "output_type": "stream",
     "text": [
      "Iteration:  48%|████▊     | 30/62 [00:01<00:01, 22.24it/s]\n",
      "Iteration:  71%|███████   | 44/62 [00:03<00:01, 12.16it/s]\n",
      "Iteration:  92%|█████████▏| 57/62 [00:02<00:00, 22.21it/s]\n",
      "Iteration:   3%|▎         | 2/62 [00:00<00:04, 12.25it/s]]"
     ]
    },
    {
     "name": "stdout",
     "output_type": "stream",
     "text": [
      "{'Train':  best_epoch_indx:74\n",
      " auc:0.9989506574365492 \n",
      " apur:0.9986307636453882 \n",
      " f1:0.9817769090106565 \n",
      " precision:0.9726386806596702 \n",
      " recall:0.9910884786760026 \n",
      ", 'Validation':  best_epoch_indx:74\n",
      " auc:0.9644555520844179 \n",
      " apur:0.9567900108242189 \n",
      " f1:0.8922902494331066 \n",
      " precision:0.8832772166105499 \n",
      " recall:0.9014891179839634 \n",
      ", 'Test':  best_epoch_indx:74\n",
      " auc:0.9673738608202403 \n",
      " apur:0.9557859199367591 \n",
      " f1:0.8964577656675751 \n",
      " precision:0.8883888388838884 \n",
      " recall:0.9046746104491292 \n",
      "}\n",
      "=====Epoch 75\n",
      "Training...\n"
     ]
    },
    {
     "name": "stderr",
     "output_type": "stream",
     "text": [
      "Iteration:  61%|██████▏   | 38/62 [00:03<00:01, 12.20it/s]\n",
      "Iteration: 100%|██████████| 18/18 [00:00<00:00, 23.05it/s]\n",
      "Iteration: 100%|██████████| 62/62 [00:05<00:00, 11.29it/s]\n",
      "Iteration:   0%|          | 0/62 [00:00<?, ?it/s]"
     ]
    },
    {
     "name": "stdout",
     "output_type": "stream",
     "text": [
      "Evaluating...\n"
     ]
    },
    {
     "name": "stderr",
     "output_type": "stream",
     "text": [
      "\r",
      "Iteration:  43%|████▎     | 3/7 [00:00<00:00, 22.13it/s]\r",
      "Iteration:   3%|▎         | 2/62 [00:00<00:03, 19.84it/s]\r",
      "Iteration:  29%|██▉       | 18/62 [00:01<00:03, 12.23it/s]\r",
      "Iteration:  87%|████████▋ | 54/62 [00:04<00:00, 11.04it/s]\r",
      "Iteration:  86%|████████▌ | 6/7 [00:00<00:00, 22.34it/s]\r",
      "Iteration:   8%|▊         | 5/62 [00:00<00:02, 20.82it/s]\r",
      "Iteration: 100%|██████████| 7/7 [00:00<00:00, 22.53it/s]\r",
      "Iteration:  81%|████████  | 50/62 [00:04<00:01,  8.34it/s]"
     ]
    },
    {
     "name": "stdout",
     "output_type": "stream",
     "text": [
      "{'Train':  best_epoch_indx:74\n",
      " auc:0.9988002493749251 \n",
      " apur:0.998372634299235 \n",
      " f1:0.9808433963457039 \n",
      " precision:0.9742527003265511 \n",
      " recall:0.9875238701464035 \n",
      ", 'Validation':  best_epoch_indx:74\n",
      " auc:0.9637757876589491 \n",
      " apur:0.9479055187451993 \n",
      " f1:0.8882554161915621 \n",
      " precision:0.8842224744608399 \n",
      " recall:0.8923253150057274 \n",
      ", 'Test':  best_epoch_indx:74\n",
      " auc:0.9642123050316145 \n",
      " apur:0.9504868675816737 \n",
      " f1:0.8888383723573539 \n",
      " precision:0.8818222823635543 \n",
      " recall:0.8959670027497708 \n",
      "}\n",
      "=====Epoch 75\n",
      "Training...\n"
     ]
    },
    {
     "name": "stderr",
     "output_type": "stream",
     "text": [
      "\n",
      "Iteration: 100%|██████████| 62/62 [00:05<00:00, 11.31it/s]\n",
      "Iteration:   0%|          | 0/62 [00:00<?, ?it/s]"
     ]
    },
    {
     "name": "stdout",
     "output_type": "stream",
     "text": [
      "Evaluating...\n"
     ]
    },
    {
     "name": "stderr",
     "output_type": "stream",
     "text": [
      "Iteration: 100%|██████████| 62/62 [00:05<00:00, 11.61it/s]\n",
      "Iteration:  15%|█▍        | 9/62 [00:00<00:02, 20.37it/s]]"
     ]
    },
    {
     "name": "stdout",
     "output_type": "stream",
     "text": [
      "Evaluating...\n"
     ]
    },
    {
     "name": "stderr",
     "output_type": "stream",
     "text": [
      "Iteration:  63%|██████▎   | 39/62 [00:01<00:01, 22.59it/s]\n",
      "Iteration:  97%|█████████▋| 60/62 [00:02<00:00, 22.04it/s]"
     ]
    },
    {
     "name": "stdout",
     "output_type": "stream",
     "text": [
      "Evaluating...\n"
     ]
    },
    {
     "name": "stderr",
     "output_type": "stream",
     "text": [
      "Iteration: 100%|██████████| 62/62 [00:05<00:00, 12.30it/s]\n",
      "Iteration:  71%|███████   | 44/62 [00:03<00:01, 12.28it/s]\n",
      "Iteration:  97%|█████████▋| 60/62 [00:02<00:00, 22.36it/s]\n",
      "Iteration:  15%|█▍        | 9/62 [00:00<00:02, 21.84it/s]]\n",
      "Iteration:  77%|███████▋  | 48/62 [00:03<00:01, 12.25it/s]\n",
      "Iteration:  50%|█████     | 9/18 [00:00<00:00, 22.26it/s]]"
     ]
    },
    {
     "name": "stdout",
     "output_type": "stream",
     "text": [
      "{'Train':  best_epoch_indx:73\n",
      " auc:0.9993639987187076 \n",
      " apur:0.9991107568292741 \n",
      " f1:0.9869883779686711 \n",
      " precision:0.9794408925661277 \n",
      " recall:0.9946530872056015 \n",
      ", 'Validation':  best_epoch_indx:73\n",
      " auc:0.9604121590089516 \n",
      " apur:0.945428311911914 \n",
      " f1:0.88558352402746 \n",
      " precision:0.8845714285714286 \n",
      " recall:0.8865979381443299 \n",
      ", 'Test':  best_epoch_indx:73\n",
      " auc:0.9654406885845933 \n",
      " apur:0.9542266924975218 \n",
      " f1:0.8924949290060852 \n",
      " precision:0.8780487804878049 \n",
      " recall:0.9074243813015582 \n",
      "}\n",
      "=====Epoch 74\n",
      "Training...\n"
     ]
    },
    {
     "name": "stderr",
     "output_type": "stream",
     "text": [
      "Iteration:  13%|█▎        | 8/62 [00:00<00:04, 12.16it/s]]\n",
      "Iteration:  44%|████▎     | 27/62 [00:01<00:01, 21.73it/s]\n",
      "Iteration:  19%|█▉        | 12/62 [00:00<00:04, 12.21it/s]\n",
      "Iteration: 100%|██████████| 7/7 [00:00<00:00, 23.25it/s]s]"
     ]
    },
    {
     "name": "stdout",
     "output_type": "stream",
     "text": [
      "{'Train':  best_epoch_indx:74\n",
      " auc:0.9987512199304632 \n",
      " apur:0.9983125202957893 \n",
      " f1:0.9767412701398032 \n",
      " precision:0.9622035573122529 \n",
      " recall:0.991725015913431 \n",
      ", 'Validation':  best_epoch_indx:74\n",
      " auc:0.9631958184363684 \n",
      " apur:0.9463231052624099 \n",
      " f1:0.8937117417918754 \n",
      " precision:0.8690476190476191 \n",
      " recall:0.9198167239404352 \n",
      ", 'Test':  best_epoch_indx:74\n",
      " auc:0.9629267169242576 \n",
      " apur:0.9513157057800457 \n",
      " f1:0.8873934499775683 \n",
      " precision:0.8690685413005272 \n",
      " recall:0.9065077910174152 \n",
      "}\n",
      "=====Epoch 75\n",
      "Training...\n",
      "Evaluating...\n",
      "{'Train':  best_epoch_indx:73\n",
      " auc:0.9985637778752994 \n",
      " apur:0.9980411958237532 \n",
      " f1:0.9796612304011083 \n",
      " precision:0.9692250186892599 \n",
      " recall:0.9903246339910885 \n",
      ", 'Validation':  best_epoch_indx:73\n",
      " auc:0.963524130190797 \n",
      " apur:0.9530911533335306 \n",
      " f1:0.8853754940711464 \n",
      " precision:0.8730512249443207 \n",
      " recall:0.8980526918671249 \n",
      ", 'Test':  best_epoch_indx:73\n",
      " auc:0.9660310529303876 \n",
      " apur:0.9570818404018143 \n",
      " f1:0.893336365703889 \n",
      " precision:0.8866817155756208 \n",
      " recall:0.9000916590284143 \n",
      "}\n",
      "=====Epoch 74\n",
      "Training...\n"
     ]
    },
    {
     "name": "stderr",
     "output_type": "stream",
     "text": [
      "Iteration: 100%|██████████| 62/62 [00:05<00:00, 12.32it/s]\n",
      "Iteration:   0%|          | 0/62 [00:00<?, ?it/s]\n",
      "Iteration:  48%|████▊     | 30/62 [00:01<00:01, 22.01it/s]\n",
      "Iteration:  45%|████▌     | 28/62 [00:02<00:02, 11.68it/s]\n",
      "Iteration:  52%|█████▏    | 32/62 [00:02<00:02, 11.81it/s]\n",
      "Iteration:   0%|          | 0/62 [00:00<?, ?it/s]"
     ]
    },
    {
     "name": "stdout",
     "output_type": "stream",
     "text": [
      "{'Train':  best_epoch_indx:75\n",
      " auc:0.9989538433980238 \n",
      " apur:0.9985152531446603 \n",
      " f1:0.9844710654750586 \n",
      " precision:0.980308003029538 \n",
      " recall:0.9886696371737747 \n",
      ", 'Validation':  best_epoch_indx:75\n",
      " auc:0.9651025335446869 \n",
      " apur:0.9572440848260153 \n",
      " f1:0.8961114335461404 \n",
      " precision:0.908235294117647 \n",
      " recall:0.8843069873997709 \n",
      ", 'Test':  best_epoch_indx:75\n",
      " auc:0.9671474136414558 \n",
      " apur:0.9559557266115752 \n",
      " f1:0.8992640294388224 \n",
      " precision:0.9025854108956602 \n",
      " recall:0.8959670027497708 \n",
      "}\n",
      "=====Epoch 76\n",
      "Training...\n"
     ]
    },
    {
     "name": "stderr",
     "output_type": "stream",
     "text": [
      "Iteration:   6%|▋         | 4/62 [00:00<00:04, 12.30it/s]]\n",
      "Iteration:  97%|█████████▋| 60/62 [00:05<00:00, 12.25it/s]\n",
      "Iteration: 100%|██████████| 62/62 [00:05<00:00, 12.00it/s]\n",
      "Iteration:  43%|████▎     | 3/7 [00:00<00:00, 22.40it/s]"
     ]
    },
    {
     "name": "stdout",
     "output_type": "stream",
     "text": [
      "Evaluating...\n"
     ]
    },
    {
     "name": "stderr",
     "output_type": "stream",
     "text": [
      "\r",
      "Iteration:  81%|████████  | 50/62 [00:04<00:00, 12.39it/s]\r",
      "Iteration:  81%|████████  | 50/62 [00:04<00:00, 12.17it/s]\r",
      "Iteration:   5%|▍         | 3/62 [00:00<00:02, 20.80it/s]\r",
      "Iteration:  26%|██▌       | 16/62 [00:01<00:03, 11.52it/s]\r",
      "Iteration:  86%|████████▌ | 6/7 [00:00<00:00, 22.06it/s]\r",
      "Iteration: 100%|██████████| 7/7 [00:00<00:00, 22.52it/s]\n",
      "\r",
      "Iteration:   0%|          | 0/62 [00:00<?, ?it/s]\r",
      "Iteration:  84%|████████▍ | 52/62 [00:04<00:00, 12.27it/s]\r",
      "Iteration:  84%|████████▍ | 52/62 [00:04<00:00, 12.27it/s]\r",
      "Iteration:  10%|▉         | 6/62 [00:00<00:02, 21.19it/s]"
     ]
    },
    {
     "name": "stdout",
     "output_type": "stream",
     "text": [
      "{'Train':  best_epoch_indx:75\n",
      " auc:0.9991101280874883 \n",
      " apur:0.9988022393870667 \n",
      " f1:0.9853503184713376 \n",
      " precision:0.9859783301465902 \n",
      " recall:0.9847231063017187 \n",
      ", 'Validation':  best_epoch_indx:75\n",
      " auc:0.9671302563627879 \n",
      " apur:0.9523171191651632 \n",
      " f1:0.892018779342723 \n",
      " precision:0.914560770156438 \n",
      " recall:0.870561282932417 \n",
      ", 'Test':  best_epoch_indx:75\n",
      " auc:0.9672145318304423 \n",
      " apur:0.9549755097053755 \n",
      " f1:0.8903981264637002 \n",
      " precision:0.9104406130268199 \n",
      " recall:0.8712190650779101 \n",
      "}\n",
      "=====Epoch 76\n",
      "Training...\n"
     ]
    },
    {
     "name": "stderr",
     "output_type": "stream",
     "text": [
      "Iteration: 100%|██████████| 62/62 [00:05<00:00, 11.92it/s]\n",
      "Iteration: 100%|██████████| 62/62 [00:05<00:00, 12.15it/s]\n",
      "Iteration:  39%|███▊      | 24/62 [00:01<00:01, 21.37it/s]"
     ]
    },
    {
     "name": "stdout",
     "output_type": "stream",
     "text": [
      "Evaluating...\n",
      "Evaluating...\n"
     ]
    },
    {
     "name": "stderr",
     "output_type": "stream",
     "text": [
      "Iteration:  73%|███████▎  | 45/62 [00:01<00:00, 22.59it/s]\n",
      "Iteration: 100%|██████████| 62/62 [00:05<00:00, 12.02it/s]\n",
      "Iteration:   5%|▍         | 3/62 [00:00<00:02, 22.35it/s]]\n",
      "Iteration:   0%|          | 0/7 [00:00<?, ?it/s]\n",
      "Iteration:   0%|          | 0/18 [00:00<?, ?it/s]"
     ]
    },
    {
     "name": "stdout",
     "output_type": "stream",
     "text": [
      "Evaluating...\n"
     ]
    },
    {
     "name": "stderr",
     "output_type": "stream",
     "text": [
      "Iteration:  74%|███████▍  | 46/62 [00:03<00:01, 12.53it/s]\n",
      "Iteration: 100%|██████████| 7/7 [00:00<00:00, 21.72it/s]s]\n",
      "Iteration:   3%|▎         | 2/62 [00:00<00:05, 11.96it/s]]"
     ]
    },
    {
     "name": "stdout",
     "output_type": "stream",
     "text": [
      "{'Train':  best_epoch_indx:74\n",
      " auc:0.997926147507396 \n",
      " apur:0.9971575602398712 \n",
      " f1:0.9753344746686957 \n",
      " precision:0.9715765538150581 \n",
      " recall:0.9791215786123488 \n",
      ", 'Validation':  best_epoch_indx:74\n",
      " auc:0.9583612952742392 \n",
      " apur:0.944003213724535 \n",
      " f1:0.879399884593191 \n",
      " precision:0.8860465116279069 \n",
      " recall:0.872852233676976 \n",
      ", 'Test':  best_epoch_indx:74\n",
      " auc:0.9595128646686849 \n",
      " apur:0.9469154581606396 \n",
      " f1:0.875 \n",
      " precision:0.8806870937790158 \n",
      " recall:0.8693858845096242 \n",
      "}\n",
      "=====Epoch 75\n",
      "Training...\n"
     ]
    },
    {
     "name": "stderr",
     "output_type": "stream",
     "text": [
      "Iteration:  34%|███▍      | 21/62 [00:00<00:01, 22.40it/s]\n",
      "Iteration:  39%|███▊      | 24/62 [00:01<00:01, 22.28it/s]\n",
      "Iteration:  16%|█▌        | 10/62 [00:00<00:04, 11.94it/s]\n",
      "Iteration: 100%|██████████| 7/7 [00:00<00:00, 22.58it/s]s]\n",
      "Iteration: 100%|██████████| 62/62 [00:05<00:00, 12.13it/s]\n",
      "Iteration:   0%|          | 0/62 [00:00<?, ?it/s]"
     ]
    },
    {
     "name": "stdout",
     "output_type": "stream",
     "text": [
      "{'Train':  best_epoch_indx:75\n",
      " auc:0.9991234364198145 \n",
      " apur:0.9988215238794799 \n",
      " f1:0.9830724194985363 \n",
      " precision:0.9828222420155236 \n",
      " recall:0.9833227243793762 \n",
      ", 'Validation':  best_epoch_indx:75\n",
      " auc:0.9633534659307856 \n",
      " apur:0.9463358867092767 \n",
      " f1:0.888631090487239 \n",
      " precision:0.900117508813161 \n",
      " recall:0.8774341351660939 \n",
      ", 'Test':  best_epoch_indx:75\n",
      " auc:0.9655708282870443 \n",
      " apur:0.9546076757412958 \n",
      " f1:0.8925081433224755 \n",
      " precision:0.9064272211720227 \n",
      " recall:0.8790100824931256 \n",
      "}\n",
      "=====Epoch 76\n",
      "Training...\n",
      "{'Train':  best_epoch_indx:74\n",
      " auc:0.9980854698615399 \n",
      " apur:0.9975362271484247 \n",
      " f1:0.9731045241809672 \n",
      " precision:0.9543451652386781 \n",
      " recall:0.9926161680458306 \n",
      ", 'Validation':  best_epoch_indx:74\n",
      " auc:0.9635303975223791 \n",
      " apur:0.954587763532069 \n",
      " f1:0.8807439824945296 \n",
      " precision:0.8429319371727748 \n",
      " recall:0.9221076746849943 \n",
      ", 'Test':  best_epoch_indx:74\n",
      " auc:0.9670027497708525 \n",
      " apur:0.9598702275282526 \n",
      " f1:0.8930481283422459 \n",
      " precision:0.8690372940156115 \n",
      " recall:0.918423464711274 \n",
      "}\n",
      "=====Epoch 75\n",
      "Training...\n",
      "Evaluating...\n"
     ]
    },
    {
     "name": "stderr",
     "output_type": "stream",
     "text": [
      "Iteration:  48%|████▊     | 30/62 [00:01<00:01, 22.60it/s]\n",
      "Iteration:  82%|████████▏ | 51/62 [00:02<00:00, 22.43it/s]\n",
      "Iteration: 100%|██████████| 7/7 [00:00<00:00, 23.03it/s]s]\n",
      "Iteration:  55%|█████▍    | 34/62 [00:02<00:02, 12.21it/s]"
     ]
    },
    {
     "name": "stdout",
     "output_type": "stream",
     "text": [
      "{'Train':  best_epoch_indx:76\n",
      " auc:0.9992133235836956 \n",
      " apur:0.9989014706761483 \n",
      " f1:0.9825577734399596 \n",
      " precision:0.9720907052080737 \n",
      " recall:0.993252705283259 \n",
      ", 'Validation':  best_epoch_indx:76\n",
      " auc:0.9648807664271583 \n",
      " apur:0.955001664901477 \n",
      " f1:0.8905275099262622 \n",
      " precision:0.8820224719101124 \n",
      " recall:0.8991981672394044 \n",
      ", 'Test':  best_epoch_indx:76\n",
      " auc:0.9672623731972952 \n",
      " apur:0.9551083570461765 \n",
      " f1:0.8948677368302057 \n",
      " precision:0.8830879071842928 \n",
      " recall:0.9069660861594867 \n",
      "}\n",
      "=====Epoch 77\n",
      "Training...\n"
     ]
    },
    {
     "name": "stderr",
     "output_type": "stream",
     "text": [
      "Iteration:  58%|█████▊    | 36/62 [00:02<00:02, 12.24it/s]\n",
      "Iteration:  23%|██▎       | 14/62 [00:01<00:03, 12.58it/s]\n",
      "Iteration: 100%|██████████| 7/7 [00:00<00:00, 22.66it/s]s]"
     ]
    },
    {
     "name": "stdout",
     "output_type": "stream",
     "text": [
      "{'Train':  best_epoch_indx:76\n",
      " auc:0.9996027626549737 \n",
      " apur:0.9994377244096583 \n",
      " f1:0.9902296662860044 \n",
      " precision:0.9869735677248008 \n",
      " recall:0.9935073201782304 \n",
      ", 'Validation':  best_epoch_indx:76\n",
      " auc:0.9641113309498188 \n",
      " apur:0.9496328651057171 \n",
      " f1:0.8954361640670133 \n",
      " precision:0.9032634032634033 \n",
      " recall:0.8877434135166093 \n",
      ", 'Test':  best_epoch_indx:76\n",
      " auc:0.9669714146701988 \n",
      " apur:0.9553846693194514 \n",
      " f1:0.9001148105625717 \n",
      " precision:0.9019788311090658 \n",
      " recall:0.8982584784601283 \n",
      "}\n",
      "=====Epoch 77\n",
      "Training...\n",
      "Evaluating...\n"
     ]
    },
    {
     "name": "stderr",
     "output_type": "stream",
     "text": [
      "\n",
      "Iteration: 100%|██████████| 62/62 [00:05<00:00, 12.02it/s]\n",
      "Iteration: 100%|██████████| 62/62 [00:05<00:00, 12.04it/s]\n",
      "Iteration: 100%|██████████| 62/62 [00:05<00:00, 12.14it/s]\n",
      "Iteration:   5%|▍         | 3/62 [00:00<00:02, 22.29it/s]]"
     ]
    },
    {
     "name": "stdout",
     "output_type": "stream",
     "text": [
      "Evaluating...\n",
      "Evaluating...\n"
     ]
    },
    {
     "name": "stderr",
     "output_type": "stream",
     "text": [
      "Iteration:  82%|████████▏ | 51/62 [00:02<00:00, 22.68it/s]\n",
      "Iteration: 100%|██████████| 62/62 [00:04<00:00, 12.55it/s]\n",
      "Iteration:  56%|█████▌    | 10/18 [00:00<00:00, 20.46it/s]"
     ]
    },
    {
     "name": "stdout",
     "output_type": "stream",
     "text": [
      "Evaluating...\n"
     ]
    },
    {
     "name": "stderr",
     "output_type": "stream",
     "text": [
      "Iteration:  72%|███████▏  | 13/18 [00:00<00:00, 21.03it/s]\n",
      "Iteration: 100%|██████████| 18/18 [00:00<00:00, 21.22it/s]\n",
      "Iteration:  33%|███▎      | 6/18 [00:00<00:00, 22.74it/s]]\n",
      "Iteration:  83%|████████▎ | 15/18 [00:00<00:00, 23.11it/s]\n",
      "Iteration:  90%|█████████ | 56/62 [00:04<00:00, 12.53it/s]"
     ]
    },
    {
     "name": "stdout",
     "output_type": "stream",
     "text": [
      "{'Train':  best_epoch_indx:75\n",
      " auc:0.9991809756533588 \n",
      " apur:0.998846460647381 \n",
      " f1:0.9826698480472185 \n",
      " precision:0.969520505513567 \n",
      " recall:0.9961807765754297 \n",
      ", 'Validation':  best_epoch_indx:75\n",
      " auc:0.9622147399925178 \n",
      " apur:0.945550413298857 \n",
      " f1:0.8843159065628476 \n",
      " precision:0.8594594594594595 \n",
      " recall:0.9106529209621993 \n",
      ", 'Test':  best_epoch_indx:75\n",
      " auc:0.9637537921222615 \n",
      " apur:0.95303508858071 \n",
      " f1:0.8854723707664884 \n",
      " precision:0.8616652211621856 \n",
      " recall:0.9106324472960586 \n",
      "}\n",
      "=====Epoch 76\n",
      "Training...\n"
     ]
    },
    {
     "name": "stderr",
     "output_type": "stream",
     "text": [
      "Iteration:  94%|█████████▎| 58/62 [00:04<00:00, 12.54it/s]\n",
      "Iteration:  48%|████▊     | 30/62 [00:01<00:01, 22.37it/s]\n",
      "Iteration:  53%|█████▎    | 33/62 [00:01<00:01, 22.18it/s]\n",
      "Iteration: 100%|██████████| 7/7 [00:00<00:00, 22.61it/s]"
     ]
    },
    {
     "name": "stdout",
     "output_type": "stream",
     "text": [
      "Evaluating...\n",
      "{'Train':  best_epoch_indx:76\n",
      " auc:0.999675121873956 \n",
      " apur:0.9995645953424921 \n",
      " f1:0.9907942352866485 \n",
      " precision:0.9882218844984803 \n",
      " recall:0.9933800127307447 \n",
      ", 'Validation':  best_epoch_indx:76\n",
      " auc:0.9639816453963076 \n",
      " apur:0.9485950050224883 \n",
      " f1:0.8914683691236216 \n",
      " precision:0.9035294117647059 \n",
      " recall:0.8797250859106529 \n",
      ", 'Test':  best_epoch_indx:76\n",
      " auc:0.9669751964926915 \n",
      " apur:0.9565230517475658 \n",
      " f1:0.8992067195520299 \n",
      " precision:0.9158745247148289 \n",
      " recall:0.8831347387717691 \n",
      "}\n",
      "=====Epoch 77\n",
      "Training...\n"
     ]
    },
    {
     "name": "stderr",
     "output_type": "stream",
     "text": [
      "\n",
      "Iteration: 100%|██████████| 7/7 [00:00<00:00, 19.54it/s]]]\n",
      "Iteration:  68%|██████▊   | 42/62 [00:01<00:00, 21.34it/s]"
     ]
    },
    {
     "name": "stdout",
     "output_type": "stream",
     "text": [
      "{'Train':  best_epoch_indx:75\n",
      " auc:0.9993117418790888 \n",
      " apur:0.9990954101602126 \n",
      " f1:0.9841992162811275 \n",
      " precision:0.9772812853018702 \n",
      " recall:0.9912157861234883 \n",
      ", 'Validation':  best_epoch_indx:75\n",
      " auc:0.9668988471966709 \n",
      " apur:0.9540299648797045 \n",
      " f1:0.8988128886376484 \n",
      " precision:0.8872767857142857 \n",
      " recall:0.9106529209621993 \n",
      ", 'Test':  best_epoch_indx:75\n",
      " auc:0.9705247842122957 \n",
      " apur:0.9632148394343661 \n",
      " f1:0.9018980105190945 \n",
      " precision:0.9000456412596988 \n",
      " recall:0.9037580201649863 \n",
      "}\n",
      "=====Epoch 76\n",
      "Training...\n"
     ]
    },
    {
     "name": "stderr",
     "output_type": "stream",
     "text": [
      "Iteration:  16%|█▌        | 10/62 [00:01<00:05,  9.25it/s]\n",
      "Iteration:  48%|████▊     | 30/62 [00:02<00:02, 11.89it/s]\n",
      "Iteration: 100%|██████████| 7/7 [00:00<00:00, 22.91it/s]s]\n",
      "Iteration:  42%|████▏     | 26/62 [00:02<00:02, 12.10it/s]"
     ]
    },
    {
     "name": "stdout",
     "output_type": "stream",
     "text": [
      "{'Train':  best_epoch_indx:77\n",
      " auc:0.9998369383231802 \n",
      " apur:0.999773590361418 \n",
      " f1:0.9923983276320791 \n",
      " precision:0.9876434245366285 \n",
      " recall:0.9971992361553151 \n",
      ", 'Validation':  best_epoch_indx:77\n",
      " auc:0.9711760599504013 \n",
      " apur:0.9663416282575676 \n",
      " f1:0.9061600460564191 \n",
      " precision:0.9108796296296297 \n",
      " recall:0.9014891179839634 \n",
      ", 'Test':  best_epoch_indx:77\n",
      " auc:0.9725838433216984 \n",
      " apur:0.9632728167698357 \n",
      " f1:0.90446735395189 \n",
      " precision:0.9042601923957856 \n",
      " recall:0.9046746104491292 \n",
      "}\n",
      "=====Epoch 78\n",
      "Training...\n"
     ]
    },
    {
     "name": "stderr",
     "output_type": "stream",
     "text": [
      "Iteration:  58%|█████▊    | 36/62 [00:02<00:02, 12.36it/s]\n",
      "Iteration:  23%|██▎       | 14/62 [00:01<00:03, 12.12it/s]\n",
      "Iteration: 100%|██████████| 7/7 [00:00<00:00, 22.85it/s]s]\n",
      "Iteration:  84%|████████▍ | 52/62 [00:04<00:00, 12.24it/s]"
     ]
    },
    {
     "name": "stdout",
     "output_type": "stream",
     "text": [
      "{'Train':  best_epoch_indx:77\n",
      " auc:0.9997565855404225 \n",
      " apur:0.9996511197061588 \n",
      " f1:0.9925297543681945 \n",
      " precision:0.9871552701171137 \n",
      " recall:0.9979630808402291 \n",
      ", 'Validation':  best_epoch_indx:77\n",
      " auc:0.9654588072400214 \n",
      " apur:0.9500076093205386 \n",
      " f1:0.8987993138936535 \n",
      " precision:0.8972602739726028 \n",
      " recall:0.9003436426116839 \n",
      ", 'Test':  best_epoch_indx:77\n",
      " auc:0.9690094310934961 \n",
      " apur:0.956234950362882 \n",
      " f1:0.9024167806657547 \n",
      " precision:0.897912885662432 \n",
      " recall:0.9069660861594867 \n",
      "}\n",
      "=====Epoch 78\n",
      "Training...\n"
     ]
    },
    {
     "name": "stderr",
     "output_type": "stream",
     "text": [
      "Iteration: 100%|██████████| 62/62 [00:05<00:00, 12.19it/s]\n",
      "Iteration: 100%|██████████| 62/62 [00:05<00:00, 10.92it/s]\n",
      "Iteration:  90%|█████████ | 56/62 [00:04<00:00, 12.39it/s]"
     ]
    },
    {
     "name": "stdout",
     "output_type": "stream",
     "text": [
      "Evaluating...\n",
      "Evaluating...\n"
     ]
    },
    {
     "name": "stderr",
     "output_type": "stream",
     "text": [
      "Iteration: 100%|██████████| 62/62 [00:05<00:00, 11.55it/s]\n",
      "Iteration:  32%|███▏      | 20/62 [00:01<00:03, 12.41it/s]"
     ]
    },
    {
     "name": "stdout",
     "output_type": "stream",
     "text": [
      "Evaluating...\n"
     ]
    },
    {
     "name": "stderr",
     "output_type": "stream",
     "text": [
      "Iteration: 100%|██████████| 62/62 [00:05<00:00, 12.40it/s]\n",
      "Iteration:   0%|          | 0/62 [00:00<?, ?it/s]"
     ]
    },
    {
     "name": "stdout",
     "output_type": "stream",
     "text": [
      "Evaluating...\n"
     ]
    },
    {
     "name": "stderr",
     "output_type": "stream",
     "text": [
      "Iteration: 100%|██████████| 62/62 [00:02<00:00, 21.57it/s]\n",
      "Iteration:  17%|█▋        | 3/18 [00:00<00:00, 22.96it/s]]\n",
      "Iteration:  34%|███▍      | 21/62 [00:00<00:01, 22.27it/s]\n",
      "Iteration:  83%|████████▎ | 15/18 [00:00<00:00, 22.49it/s]\n",
      "Iteration:  43%|████▎     | 3/7 [00:00<00:00, 21.64it/s]s]\n",
      "Iteration: 100%|██████████| 7/7 [00:00<00:00, 21.98it/s]s]\n",
      "Iteration:   0%|          | 0/62 [00:00<?, ?it/s]"
     ]
    },
    {
     "name": "stdout",
     "output_type": "stream",
     "text": [
      "{'Train':  best_epoch_indx:77\n",
      " auc:0.9998672263113173 \n",
      " apur:0.9998239924183083 \n",
      " f1:0.9924564183835182 \n",
      " precision:0.9883838383838384 \n",
      " recall:0.9965626989178867 \n",
      ", 'Validation':  best_epoch_indx:77\n",
      " auc:0.9678702835919331 \n",
      " apur:0.9522063081752515 \n",
      " f1:0.8996579247434436 \n",
      " precision:0.8955732122587968 \n",
      " recall:0.9037800687285223 \n",
      ", 'Test':  best_epoch_indx:77\n",
      " auc:0.9695019941781544 \n",
      " apur:0.9594294040344523 \n",
      " f1:0.905306495882891 \n",
      " precision:0.9036529680365297 \n",
      " recall:0.9069660861594867 \n",
      "}\n",
      "=====Epoch 78\n",
      "Training...\n",
      "Evaluating...\n",
      "{'Train':  best_epoch_indx:76\n",
      " auc:0.9996882045403941 \n",
      " apur:0.9995655598056221 \n",
      " f1:0.9907989085601878 \n",
      " precision:0.9877277327935222 \n",
      " recall:0.9938892425206874 \n",
      ", 'Validation':  best_epoch_indx:76\n",
      " auc:0.9658189377547912 \n",
      " apur:0.9531985311725766 \n",
      " f1:0.894035900405327 \n",
      " precision:0.9039812646370023 \n",
      " recall:0.8843069873997709 \n",
      ", 'Test':  best_epoch_indx:76\n",
      " auc:0.9682691565826306 \n",
      " apur:0.9593133535422282 \n",
      " f1:0.8957850856878184 \n",
      " precision:0.9054307116104869 \n",
      " recall:0.8863428047662695 \n",
      "}\n",
      "=====Epoch 77\n",
      "Training...\n"
     ]
    },
    {
     "name": "stderr",
     "output_type": "stream",
     "text": [
      "Iteration: 100%|██████████| 62/62 [00:05<00:00, 12.04it/s]\n",
      "Iteration:   0%|          | 0/62 [00:00<?, ?it/s]\n",
      "Iteration:  63%|██████▎   | 39/62 [00:01<00:01, 21.54it/s]\n",
      "Iteration: 100%|██████████| 7/7 [00:00<00:00, 23.62it/s]]]\n",
      "Iteration:  19%|█▉        | 12/62 [00:00<00:02, 21.45it/s]"
     ]
    },
    {
     "name": "stdout",
     "output_type": "stream",
     "text": [
      "{'Train':  best_epoch_indx:76\n",
      " auc:0.9996648384332729 \n",
      " apur:0.9995306759890942 \n",
      " f1:0.9906885412047887 \n",
      " precision:0.9858799798285426 \n",
      " recall:0.9955442393380013 \n",
      ", 'Validation':  best_epoch_indx:76\n",
      " auc:0.9702513874907919 \n",
      " apur:0.9631590431009762 \n",
      " f1:0.9007373794668179 \n",
      " precision:0.8921348314606742 \n",
      " recall:0.9095074455899198 \n",
      ", 'Test':  best_epoch_indx:76\n",
      " auc:0.9742473324259018 \n",
      " apur:0.9680434482521796 \n",
      " f1:0.9078826764436297 \n",
      " precision:0.9078826764436297 \n",
      " recall:0.9078826764436297 \n",
      "}\n",
      "=====Epoch 77\n",
      "Training...\n"
     ]
    },
    {
     "name": "stderr",
     "output_type": "stream",
     "text": [
      "Iteration:  26%|██▌       | 16/62 [00:01<00:04, 10.76it/s]\n",
      "Iteration:  42%|████▏     | 26/62 [00:02<00:03, 11.13it/s]\n",
      "Iteration:  97%|█████████▋| 60/62 [00:02<00:00, 22.42it/s]"
     ]
    },
    {
     "name": "stdout",
     "output_type": "stream",
     "text": [
      "{'Train':  best_epoch_indx:78\n",
      " auc:0.9999223935515186 \n",
      " apur:0.9998941668301138 \n",
      " f1:0.9949251459020554 \n",
      " precision:0.9915286382602099 \n",
      " recall:0.9983450031826862 \n",
      ", 'Validation':  best_epoch_indx:78\n",
      " auc:0.9726599712281271 \n",
      " apur:0.9681379031152222 \n",
      " f1:0.9078260869565217 \n",
      " precision:0.9190140845070423 \n",
      " recall:0.8969072164948454 \n",
      ", 'Test':  best_epoch_indx:78\n",
      " auc:0.9723647257790246 \n",
      " apur:0.9615797512448107 \n",
      " f1:0.9052680221811459 \n",
      " precision:0.912861136999068 \n",
      " recall:0.8978001833180568 \n",
      "}\n",
      "=====Epoch 79\n",
      "Training...\n"
     ]
    },
    {
     "name": "stderr",
     "output_type": "stream",
     "text": [
      "\n",
      "Iteration:  48%|████▊     | 30/62 [00:02<00:02, 12.32it/s]\n",
      "Iteration:  71%|███████   | 44/62 [00:04<00:01, 10.10it/s]\n",
      "Iteration:  77%|███████▋  | 48/62 [00:04<00:01, 10.88it/s]\n",
      "Iteration:   3%|▎         | 2/62 [00:00<00:05, 11.80it/s]]"
     ]
    },
    {
     "name": "stdout",
     "output_type": "stream",
     "text": [
      "{'Train':  best_epoch_indx:78\n",
      " auc:0.9998936107500362 \n",
      " apur:0.999852102192399 \n",
      " f1:0.9947331683482454 \n",
      " precision:0.9916497975708503 \n",
      " recall:0.9978357733927434 \n",
      ", 'Validation':  best_epoch_indx:78\n",
      " auc:0.9703531111033975 \n",
      " apur:0.9572816452273695 \n",
      " f1:0.8993600930773705 \n",
      " precision:0.9137115839243499 \n",
      " recall:0.8854524627720504 \n",
      ", 'Test':  best_epoch_indx:78\n",
      " auc:0.9707855756041887 \n",
      " apur:0.9584321467683702 \n",
      " f1:0.9077592126344701 \n",
      " precision:0.906721536351166 \n",
      " recall:0.9087992667277727 \n",
      "}\n",
      "=====Epoch 79\n",
      "Training...\n"
     ]
    },
    {
     "name": "stderr",
     "output_type": "stream",
     "text": [
      "Iteration: 100%|██████████| 62/62 [00:05<00:00, 11.11it/s]\n",
      "Iteration: 100%|██████████| 62/62 [00:05<00:00, 11.24it/s]\n",
      "Iteration: 100%|██████████| 62/62 [00:05<00:00, 12.10it/s]\n",
      "Iteration:  58%|█████▊    | 36/62 [00:02<00:02, 12.46it/s]"
     ]
    },
    {
     "name": "stdout",
     "output_type": "stream",
     "text": [
      "Evaluating...\n",
      "Evaluating...\n",
      "Evaluating...\n"
     ]
    },
    {
     "name": "stderr",
     "output_type": "stream",
     "text": [
      "Iteration: 100%|██████████| 62/62 [00:05<00:00, 12.27it/s]\n",
      "Iteration:   5%|▍         | 3/62 [00:00<00:02, 22.12it/s]]"
     ]
    },
    {
     "name": "stdout",
     "output_type": "stream",
     "text": [
      "Evaluating...\n"
     ]
    },
    {
     "name": "stderr",
     "output_type": "stream",
     "text": [
      "Iteration:  81%|████████  | 50/62 [00:04<00:00, 12.51it/s]\n",
      "Iteration:  84%|████████▍ | 52/62 [00:04<00:00, 12.47it/s]\n",
      "Iteration:   0%|          | 0/18 [00:00<?, ?it/s]\n",
      "Iteration: 100%|██████████| 62/62 [00:05<00:00, 12.31it/s]\n",
      "Iteration: 100%|██████████| 18/18 [00:00<00:00, 22.82it/s]"
     ]
    },
    {
     "name": "stdout",
     "output_type": "stream",
     "text": [
      "Evaluating...\n"
     ]
    },
    {
     "name": "stderr",
     "output_type": "stream",
     "text": [
      "\n",
      "Iteration:  63%|██████▎   | 39/62 [00:01<00:01, 21.75it/s]\n",
      "Iteration: 100%|██████████| 7/7 [00:00<00:00, 22.18it/s]]]\n",
      "Iteration:   0%|          | 0/62 [00:00<?, ?it/s]\n",
      "Iteration:  19%|█▉        | 12/62 [00:00<00:02, 21.86it/s]"
     ]
    },
    {
     "name": "stdout",
     "output_type": "stream",
     "text": [
      "{'Train':  best_epoch_indx:77\n",
      " auc:0.9998223828881642 \n",
      " apur:0.9997491202872617 \n",
      " f1:0.9944737343581275 \n",
      " precision:0.992393509127789 \n",
      " recall:0.9965626989178867 \n",
      ", 'Validation':  best_epoch_indx:77\n",
      " auc:0.9718866789313525 \n",
      " apur:0.9629535648758613 \n",
      " f1:0.904 \n",
      " precision:0.9019384264538198 \n",
      " recall:0.9060710194730813 \n",
      ", 'Test':  best_epoch_indx:77\n",
      " auc:0.9750459144122632 \n",
      " apur:0.9690388841070176 \n",
      " f1:0.9109002545707011 \n",
      " precision:0.9200561009817672 \n",
      " recall:0.9019248395967002 \n",
      "}\n",
      "=====Epoch 78\n",
      "Training...\n",
      "{'Train':  best_epoch_indx:77\n",
      " auc:0.9997550204053389 \n",
      " apur:0.9996578661176179 \n",
      " f1:0.991825613079019 \n",
      " precision:0.9873832954832198 \n",
      " recall:0.9963080840229154 \n",
      ", 'Validation':  best_epoch_indx:77\n",
      " auc:0.9648426803352348 \n",
      " apur:0.9507991902397783 \n",
      " f1:0.8997167138810198 \n",
      " precision:0.8901345291479821 \n",
      " recall:0.9095074455899198 \n",
      ", 'Test':  best_epoch_indx:77\n",
      " auc:0.9673879028599469 \n",
      " apur:0.958423661987278 \n",
      " f1:0.8937528499772003 \n",
      " precision:0.8892921960072595 \n",
      " recall:0.8982584784601283 \n",
      "}\n",
      "=====Epoch 78\n",
      "Training...\n"
     ]
    },
    {
     "name": "stderr",
     "output_type": "stream",
     "text": [
      "Iteration:  16%|█▌        | 10/62 [00:00<00:04, 12.12it/s]\n",
      "Iteration:  48%|████▊     | 30/62 [00:02<00:02, 12.05it/s]\n",
      "Iteration:  65%|██████▍   | 40/62 [00:03<00:01, 12.06it/s]\n",
      "Iteration: 100%|██████████| 7/7 [00:00<00:00, 22.26it/s]s]\n",
      "Iteration:   3%|▎         | 2/62 [00:00<00:05, 11.99it/s]]"
     ]
    },
    {
     "name": "stdout",
     "output_type": "stream",
     "text": [
      "{'Train':  best_epoch_indx:79\n",
      " auc:0.9999415564734765 \n",
      " apur:0.9999194972477059 \n",
      " f1:0.9958717053032708 \n",
      " precision:0.9936628643852978 \n",
      " recall:0.9980903882877148 \n",
      ", 'Validation':  best_epoch_indx:79\n",
      " auc:0.9712912824310304 \n",
      " apur:0.9600515139735094 \n",
      " f1:0.8999999999999999 \n",
      " precision:0.9138134592680047 \n",
      " recall:0.8865979381443299 \n",
      ", 'Test':  best_epoch_indx:79\n",
      " auc:0.972738693971528 \n",
      " apur:0.960717466035384 \n",
      " f1:0.9086317722681359 \n",
      " precision:0.9103035878564857 \n",
      " recall:0.9069660861594867 \n",
      "}\n",
      "=====Epoch 80\n",
      "Training...\n"
     ]
    },
    {
     "name": "stderr",
     "output_type": "stream",
     "text": [
      "Iteration:  84%|████████▍ | 52/62 [00:04<00:00, 12.17it/s]\n",
      "Iteration: 100%|██████████| 7/7 [00:00<00:00, 21.11it/s]s]"
     ]
    },
    {
     "name": "stdout",
     "output_type": "stream",
     "text": [
      "{'Train':  best_epoch_indx:78\n",
      " auc:0.9999387399897225 \n",
      " apur:0.9999164956721951 \n",
      " f1:0.9949264332825977 \n",
      " precision:0.9912801718690762 \n",
      " recall:0.9985996180776575 \n",
      ", 'Validation':  best_epoch_indx:78\n",
      " auc:0.9697712134710988 \n",
      " apur:0.9548799741451505 \n",
      " f1:0.9000571102227297 \n",
      " precision:0.89749430523918 \n",
      " recall:0.9026345933562429 \n",
      ", 'Test':  best_epoch_indx:78\n",
      " auc:0.9717352761301551 \n",
      " apur:0.9625878525218559 \n",
      " f1:0.9095074455899198 \n",
      " precision:0.9092991296381127 \n",
      " recall:0.9097158570119157 \n",
      "}\n",
      "=====Epoch 79\n",
      "Training...\n"
     ]
    },
    {
     "name": "stderr",
     "output_type": "stream",
     "text": [
      "\n",
      "Iteration: 100%|██████████| 62/62 [00:05<00:00, 12.21it/s]\n",
      "Iteration: 100%|██████████| 62/62 [00:05<00:00, 12.05it/s]\n",
      "Iteration:  29%|██▉       | 18/62 [00:01<00:03, 12.33it/s]"
     ]
    },
    {
     "name": "stdout",
     "output_type": "stream",
     "text": [
      "Evaluating...\n",
      "Evaluating...\n"
     ]
    },
    {
     "name": "stderr",
     "output_type": "stream",
     "text": [
      "Iteration:  52%|█████▏    | 32/62 [00:02<00:02, 12.06it/s]\n",
      "Iteration:  42%|████▏     | 26/62 [00:02<00:02, 12.33it/s]\n",
      "Iteration:   0%|          | 0/62 [00:00<?, ?it/s]"
     ]
    },
    {
     "name": "stdout",
     "output_type": "stream",
     "text": [
      "{'Train':  best_epoch_indx:79\n",
      " auc:0.9999476906811342 \n",
      " apur:0.9999280477175204 \n",
      " f1:0.995309925212321 \n",
      " precision:0.9910387479490093 \n",
      " recall:0.999618077657543 \n",
      ", 'Validation':  best_epoch_indx:79\n",
      " auc:0.9722357210902457 \n",
      " apur:0.96722438564698 \n",
      " f1:0.9111617312072893 \n",
      " precision:0.9060022650056625 \n",
      " recall:0.9163802978235968 \n",
      ", 'Test':  best_epoch_indx:79\n",
      " auc:0.9733992846275157 \n",
      " apur:0.9628759502062793 \n",
      " f1:0.9080512351326625 \n",
      " precision:0.906392694063927 \n",
      " recall:0.9097158570119157 \n",
      "}\n",
      "=====Epoch 80\n",
      "Training...\n"
     ]
    },
    {
     "name": "stderr",
     "output_type": "stream",
     "text": [
      "Iteration:  84%|████████▍ | 52/62 [00:04<00:00, 11.70it/s]\n",
      "Iteration:  17%|█▋        | 3/18 [00:00<00:00, 22.37it/s]]\n",
      "Iteration: 100%|██████████| 62/62 [00:05<00:00, 11.93it/s]\n",
      "Iteration:  83%|████████▎ | 15/18 [00:00<00:00, 12.84it/s]"
     ]
    },
    {
     "name": "stdout",
     "output_type": "stream",
     "text": [
      "Evaluating...\n"
     ]
    },
    {
     "name": "stderr",
     "output_type": "stream",
     "text": [
      "Iteration:  83%|████████▎ | 15/18 [00:00<00:00, 12.55it/s]\n",
      "Iteration:  43%|████▎     | 3/7 [00:00<00:00, 21.64it/s]]]\n",
      "Iteration: 100%|██████████| 7/7 [00:00<00:00, 22.23it/s]s]\n",
      "Iteration: 100%|██████████| 62/62 [00:05<00:00, 12.34it/s]\n",
      "Iteration:  86%|████████▌ | 6/7 [00:00<00:00, 21.73it/s]s]"
     ]
    },
    {
     "name": "stdout",
     "output_type": "stream",
     "text": [
      "{'Train':  best_epoch_indx:78\n",
      " auc:0.9999018577479204 \n",
      " apur:0.9998648518404778 \n",
      " f1:0.9948613842542663 \n",
      " precision:0.9915275670207385 \n",
      " recall:0.9982176957352005 \n",
      ", 'Validation':  best_epoch_indx:78\n",
      " auc:0.9721132670731755 \n",
      " apur:0.9639718140285694 \n",
      " f1:0.9049773755656109 \n",
      " precision:0.8938547486033519 \n",
      " recall:0.9163802978235968 \n",
      ", 'Test':  best_epoch_indx:78\n",
      " auc:0.9755567691689777 \n",
      " apur:0.9706233165910453 \n",
      " f1:0.9147714220078108 \n",
      " precision:0.9170888991248273 \n",
      " recall:0.9124656278643446 \n",
      "}\n",
      "=====Epoch 79\n",
      "Training...\n",
      "Evaluating...\n",
      "{'Train':  best_epoch_indx:78\n",
      " auc:0.9998624498352502 \n",
      " apur:0.999808956185767 \n",
      " f1:0.9943517166973408 \n",
      " precision:0.9913945836497089 \n",
      " recall:0.9973265436028008 \n",
      ", 'Validation':  best_epoch_indx:78\n",
      " auc:0.9669268091375767 \n",
      " apur:0.953906913907379 \n",
      " f1:0.9006318207926479 \n",
      " precision:0.9032258064516129 \n",
      " recall:0.8980526918671249 \n",
      ", 'Test':  best_epoch_indx:78\n",
      " auc:0.9685331777907397 \n",
      " apur:0.9601320724949401 \n",
      " f1:0.8976124885215794 \n",
      " precision:0.8992640294388224 \n",
      " recall:0.8959670027497708 \n",
      "}\n",
      "=====Epoch 79\n",
      "Training...\n"
     ]
    },
    {
     "name": "stderr",
     "output_type": "stream",
     "text": [
      "Iteration:   3%|▎         | 2/62 [00:00<00:04, 12.06it/s]]\n",
      "Iteration: 100%|██████████| 62/62 [00:05<00:00, 12.39it/s]\n",
      "Iteration:  39%|███▊      | 24/62 [00:02<00:03, 11.82it/s]"
     ]
    },
    {
     "name": "stdout",
     "output_type": "stream",
     "text": [
      "Evaluating...\n"
     ]
    },
    {
     "name": "stderr",
     "output_type": "stream",
     "text": [
      "Iteration:   5%|▍         | 3/62 [00:00<00:02, 21.58it/s]]\n",
      "Iteration:  55%|█████▍    | 34/62 [00:02<00:02, 12.07it/s]\n",
      "Iteration:  58%|█████▊    | 36/62 [00:03<00:02, 12.03it/s]\n",
      "Iteration:  65%|██████▍   | 40/62 [00:03<00:01, 12.02it/s]\n",
      "Iteration:  68%|██████▊   | 42/62 [00:03<00:01, 12.05it/s]"
     ]
    },
    {
     "name": "stdout",
     "output_type": "stream",
     "text": [
      "{'Train':  best_epoch_indx:80\n",
      " auc:0.9999240561653305 \n",
      " apur:0.999894639428533 \n",
      " f1:0.9945472990109054 \n",
      " precision:0.9906530251357838 \n",
      " recall:0.9984723106301718 \n",
      ", 'Validation':  best_epoch_indx:80\n",
      " auc:0.9700002121250689 \n",
      " apur:0.9576635063023374 \n",
      " f1:0.8997695852534563 \n",
      " precision:0.9049826187717266 \n",
      " recall:0.8946162657502864 \n",
      ", 'Test':  best_epoch_indx:80\n",
      " auc:0.9720640631468653 \n",
      " apur:0.9598190363287437 \n",
      " f1:0.9117848187827673 \n",
      " precision:0.9070294784580499 \n",
      " recall:0.916590284142988 \n",
      "}\n",
      "=====Epoch 81\n",
      "Training...\n"
     ]
    },
    {
     "name": "stderr",
     "output_type": "stream",
     "text": [
      "Iteration: 100%|██████████| 62/62 [00:05<00:00, 12.13it/s]\n",
      "Iteration:   0%|          | 0/62 [00:00<?, ?it/s]"
     ]
    },
    {
     "name": "stdout",
     "output_type": "stream",
     "text": [
      "Evaluating...\n"
     ]
    },
    {
     "name": "stderr",
     "output_type": "stream",
     "text": [
      "\n",
      "\r",
      "Iteration:   0%|          | 0/18 [00:00<?, ?it/s]\r",
      "Iteration:  97%|█████████▋| 60/62 [00:05<00:00, 11.92it/s]\r",
      "Iteration:   5%|▍         | 3/62 [00:00<00:02, 22.38it/s]\r",
      "Iteration:  32%|███▏      | 20/62 [00:01<00:03, 11.36it/s]\r",
      "Iteration:  17%|█▋        | 3/18 [00:00<00:00, 22.04it/s]\r",
      "Iteration: 100%|██████████| 62/62 [00:05<00:00, 12.19it/s]\r",
      "Iteration: 100%|██████████| 62/62 [00:05<00:00, 11.99it/s]\n",
      "\r",
      "Iteration:   0%|          | 0/62 [00:00<?, ?it/s]"
     ]
    },
    {
     "name": "stdout",
     "output_type": "stream",
     "text": [
      "Evaluating...\n"
     ]
    },
    {
     "name": "stderr",
     "output_type": "stream",
     "text": [
      "Iteration:  24%|██▍       | 15/62 [00:00<00:02, 21.60it/s]\n",
      "Iteration: 100%|██████████| 7/7 [00:00<00:00, 22.10it/s]s]\n",
      "Iteration:  55%|█████▍    | 34/62 [00:02<00:02, 11.50it/s]"
     ]
    },
    {
     "name": "stdout",
     "output_type": "stream",
     "text": [
      "{'Train':  best_epoch_indx:80\n",
      " auc:0.9999396632492317 \n",
      " apur:0.9999164999158748 \n",
      " f1:0.9960017769880053 \n",
      " precision:0.9930397367754998 \n",
      " recall:0.9989815404201146 \n",
      ", 'Validation':  best_epoch_indx:80\n",
      " auc:0.9718076141329292 \n",
      " apur:0.9667938810914369 \n",
      " f1:0.9038901601830663 \n",
      " precision:0.9028571428571428 \n",
      " recall:0.9049255441008018 \n",
      ", 'Test':  best_epoch_indx:80\n",
      " auc:0.9733603989790975 \n",
      " apur:0.962725067531578 \n",
      " f1:0.9115832762165867 \n",
      " precision:0.908883826879271 \n",
      " recall:0.9142988084326306 \n",
      "}\n",
      "=====Epoch 81\n",
      "Training...\n"
     ]
    },
    {
     "name": "stderr",
     "output_type": "stream",
     "text": [
      "Iteration:  92%|█████████▏| 57/62 [00:02<00:00, 22.15it/s]\n",
      "Iteration:  33%|███▎      | 6/18 [00:00<00:00, 22.45it/s]]\n",
      "Iteration:  33%|███▎      | 6/18 [00:00<00:00, 22.29it/s]]\n",
      "Iteration: 100%|██████████| 7/7 [00:00<00:00, 22.20it/s]s]\n",
      "Iteration: 100%|██████████| 62/62 [00:05<00:00, 11.13it/s]\n",
      "Iteration:   3%|▎         | 2/62 [00:00<00:04, 12.15it/s]]"
     ]
    },
    {
     "name": "stdout",
     "output_type": "stream",
     "text": [
      "{'Train':  best_epoch_indx:79\n",
      " auc:0.9999691556324615 \n",
      " apur:0.9999579776984203 \n",
      " f1:0.996823783509084 \n",
      " precision:0.9948015722074299 \n",
      " recall:0.9988542329726289 \n",
      ", 'Validation':  best_epoch_indx:79\n",
      " auc:0.969813638484887 \n",
      " apur:0.9540517137207526 \n",
      " f1:0.9076305220883534 \n",
      " precision:0.9091954022988505 \n",
      " recall:0.9060710194730813 \n",
      ", 'Test':  best_epoch_indx:79\n",
      " auc:0.9726802686730186 \n",
      " apur:0.9630678545400239 \n",
      " f1:0.907202216066482 \n",
      " precision:0.913953488372093 \n",
      " recall:0.9005499541704858 \n",
      "}\n",
      "=====Epoch 80\n",
      "Training...\n",
      "Evaluating...\n"
     ]
    },
    {
     "name": "stderr",
     "output_type": "stream",
     "text": [
      "Iteration: 100%|██████████| 62/62 [00:05<00:00, 11.77it/s]\n",
      "Iteration:  97%|█████████▋| 60/62 [00:02<00:00, 21.66it/s]"
     ]
    },
    {
     "name": "stdout",
     "output_type": "stream",
     "text": [
      "Evaluating...\n"
     ]
    },
    {
     "name": "stderr",
     "output_type": "stream",
     "text": [
      "Iteration:  61%|██████▏   | 38/62 [00:03<00:01, 12.21it/s]\n",
      "Iteration:  77%|███████▋  | 48/62 [00:03<00:01, 12.23it/s]\n",
      "Iteration:  86%|████████▌ | 6/7 [00:00<00:00, 21.47it/s]s]\n",
      "Iteration:  58%|█████▊    | 36/62 [00:01<00:01, 21.68it/s]\n",
      "Iteration:   3%|▎         | 2/62 [00:00<00:05, 11.64it/s]]"
     ]
    },
    {
     "name": "stdout",
     "output_type": "stream",
     "text": [
      "{'Train':  best_epoch_indx:81\n",
      " auc:0.9999544241719805 \n",
      " apur:0.9999377810307871 \n",
      " f1:0.9954314720812183 \n",
      " precision:0.9922833649588868 \n",
      " recall:0.9985996180776575 \n",
      ", 'Validation':  best_epoch_indx:81\n",
      " auc:0.9685871699044665 \n",
      " apur:0.9562179758579243 \n",
      " f1:0.9030786773090079 \n",
      " precision:0.8989784335981839 \n",
      " recall:0.9072164948453608 \n",
      ", 'Test':  best_epoch_indx:81\n",
      " auc:0.9718500428658002 \n",
      " apur:0.9612914913396168 \n",
      " f1:0.9066606252831898 \n",
      " precision:0.896505376344086 \n",
      " recall:0.9170485792850596 \n",
      "}\n",
      "=====Epoch 82\n",
      "Training...\n"
     ]
    },
    {
     "name": "stderr",
     "output_type": "stream",
     "text": [
      "\r",
      "Iteration:  86%|████████▌ | 6/7 [00:00<00:00, 21.37it/s]\r",
      "Iteration:  90%|█████████ | 56/62 [00:04<00:00, 12.20it/s]\r",
      "Iteration:  68%|██████▊   | 42/62 [00:01<00:00, 21.76it/s]\r",
      "Iteration: 100%|██████████| 7/7 [00:00<00:00, 21.53it/s]\n",
      "\r",
      "Iteration:   0%|          | 0/62 [00:00<?, ?it/s]\r",
      "Iteration:   6%|▋         | 4/62 [00:00<00:05, 11.50it/s]\n",
      "\r",
      "Iteration:   0%|          | 0/7 [00:00<?, ?it/s]\r",
      "Iteration:  73%|███████▎  | 45/62 [00:02<00:00, 21.71it/s]\r",
      "Iteration:  94%|█████████▎| 58/62 [00:04<00:00, 12.20it/s]"
     ]
    },
    {
     "name": "stdout",
     "output_type": "stream",
     "text": [
      "{'Train':  best_epoch_indx:79\n",
      " auc:0.999942693785098 \n",
      " apur:0.9999215435423552 \n",
      " f1:0.996063492063492 \n",
      " precision:0.9935402153261558 \n",
      " recall:0.9985996180776575 \n",
      ", 'Validation':  best_epoch_indx:79\n",
      " auc:0.9733363609365899 \n",
      " apur:0.9653053096848664 \n",
      " f1:0.9087779690189329 \n",
      " precision:0.9103448275862069 \n",
      " recall:0.9072164948453608 \n",
      ", 'Test':  best_epoch_indx:79\n",
      " auc:0.9769895396333454 \n",
      " apur:0.9721709665043877 \n",
      " f1:0.9155904059040592 \n",
      " precision:0.9215413184772516 \n",
      " recall:0.9097158570119157 \n",
      "}\n",
      "=====Epoch 80\n",
      "Training...\n"
     ]
    },
    {
     "name": "stderr",
     "output_type": "stream",
     "text": [
      "Iteration:  13%|█▎        | 8/62 [00:00<00:04, 11.56it/s]]\n",
      "Iteration: 100%|██████████| 62/62 [00:05<00:00, 12.23it/s]\n",
      "Iteration:  16%|█▌        | 10/62 [00:00<00:04, 11.28it/s]"
     ]
    },
    {
     "name": "stdout",
     "output_type": "stream",
     "text": [
      "{'Train':  best_epoch_indx:79\n",
      " auc:0.9999246802976988 \n",
      " apur:0.999894931094033 \n",
      " f1:0.9952444359901085 \n",
      " precision:0.9914098029307731 \n",
      " recall:0.9991088478676002 \n",
      ", 'Validation':  best_epoch_indx:79\n",
      " auc:0.967092652373294 \n",
      " apur:0.9529381811301408 \n",
      " f1:0.9016486640136441 \n",
      " precision:0.8950338600451467 \n",
      " recall:0.9083619702176403 \n",
      ", 'Test':  best_epoch_indx:79\n",
      " auc:0.9694352631107901 \n",
      " apur:0.9609303156698294 \n",
      " f1:0.8997476485432438 \n",
      " precision:0.9007808911345889 \n",
      " recall:0.8987167736021998 \n",
      "}\n",
      "=====Epoch 80\n",
      "Training...\n",
      "Evaluating...\n"
     ]
    },
    {
     "name": "stderr",
     "output_type": "stream",
     "text": [
      "Iteration:  19%|█▉        | 12/62 [00:01<00:04, 10.99it/s]\n",
      "Iteration:  29%|██▉       | 18/62 [00:01<00:03, 12.07it/s]\n",
      "Iteration:  35%|███▌      | 22/62 [00:01<00:03, 12.15it/s]\n",
      "Iteration:  68%|██████▊   | 42/62 [00:01<00:00, 21.44it/s]"
     ]
    },
    {
     "name": "stdout",
     "output_type": "stream",
     "text": [
      "{'Train':  best_epoch_indx:81\n",
      " auc:0.999892546749816 \n",
      " apur:0.9998523773998993 \n",
      " f1:0.9946768060836502 \n",
      " precision:0.9902839116719243 \n",
      " recall:0.9991088478676002 \n",
      ", 'Validation':  best_epoch_indx:81\n",
      " auc:0.9708159294356316 \n",
      " apur:0.9655788054995876 \n",
      " f1:0.9049516220830962 \n",
      " precision:0.8993212669683258 \n",
      " recall:0.9106529209621993 \n",
      ", 'Test':  best_epoch_indx:81\n",
      " auc:0.9718788094819258 \n",
      " apur:0.9613725318790504 \n",
      " f1:0.9044905402325052 \n",
      " precision:0.8997732426303855 \n",
      " recall:0.9092575618698442 \n",
      "}\n",
      "=====Epoch 82\n",
      "Training...\n"
     ]
    },
    {
     "name": "stderr",
     "output_type": "stream",
     "text": [
      "Iteration:  68%|██████▊   | 42/62 [00:03<00:01, 12.58it/s]\n",
      "Iteration:  39%|███▊      | 24/62 [00:01<00:03, 12.20it/s]\n",
      "Iteration: 100%|██████████| 7/7 [00:00<00:00, 20.09it/s]s]\n",
      "Iteration:  94%|█████████▎| 58/62 [00:04<00:00, 12.57it/s]"
     ]
    },
    {
     "name": "stdout",
     "output_type": "stream",
     "text": [
      "{'Train':  best_epoch_indx:80\n",
      " auc:0.9999676550956622 \n",
      " apur:0.9999559223543713 \n",
      " f1:0.9965696861898108 \n",
      " precision:0.99454799036389 \n",
      " recall:0.9985996180776575 \n",
      ", 'Validation':  best_epoch_indx:80\n",
      " auc:0.9708202683574962 \n",
      " apur:0.9549244730330138 \n",
      " f1:0.9072046109510087 \n",
      " precision:0.9129930394431555 \n",
      " recall:0.9014891179839634 \n",
      ", 'Test':  best_epoch_indx:80\n",
      " auc:0.9719485246107116 \n",
      " apur:0.9619462302733875 \n",
      " f1:0.9080459770114943 \n",
      " precision:0.9109778597785978 \n",
      " recall:0.9051329055912007 \n",
      "}\n",
      "=====Epoch 81\n",
      "Training...\n",
      "Evaluating...\n"
     ]
    },
    {
     "name": "stderr",
     "output_type": "stream",
     "text": [
      "Iteration: 100%|██████████| 62/62 [00:05<00:00, 11.95it/s]\n",
      "Iteration: 100%|██████████| 62/62 [00:05<00:00, 12.21it/s]\n",
      "Iteration:   5%|▍         | 3/62 [00:00<00:02, 22.20it/s]]"
     ]
    },
    {
     "name": "stdout",
     "output_type": "stream",
     "text": [
      "Evaluating...\n"
     ]
    },
    {
     "name": "stderr",
     "output_type": "stream",
     "text": [
      "Iteration: 100%|██████████| 62/62 [00:05<00:00, 12.11it/s]\n",
      "Iteration:   5%|▍         | 3/62 [00:00<00:02, 21.76it/s]]"
     ]
    },
    {
     "name": "stdout",
     "output_type": "stream",
     "text": [
      "Evaluating...\n"
     ]
    },
    {
     "name": "stderr",
     "output_type": "stream",
     "text": [
      "Iteration: 100%|██████████| 62/62 [00:05<00:00, 12.04it/s]\n",
      "Iteration:   5%|▍         | 3/62 [00:00<00:02, 21.55it/s]]"
     ]
    },
    {
     "name": "stdout",
     "output_type": "stream",
     "text": [
      "Evaluating...\n"
     ]
    },
    {
     "name": "stderr",
     "output_type": "stream",
     "text": [
      "Iteration:  82%|████████▏ | 51/62 [00:02<00:00, 22.19it/s]\n",
      "Iteration:  15%|█▍        | 9/62 [00:00<00:02, 21.74it/s]]\n",
      "Iteration:  34%|███▍      | 21/62 [00:00<00:01, 21.82it/s]\n",
      "Iteration:  33%|███▎      | 6/18 [00:00<00:00, 22.51it/s]]\n",
      "Iteration: 100%|██████████| 7/7 [00:00<00:00, 22.33it/s]s]\n",
      "Iteration:  63%|██████▎   | 39/62 [00:01<00:01, 21.68it/s]"
     ]
    },
    {
     "name": "stdout",
     "output_type": "stream",
     "text": [
      "{'Train':  best_epoch_indx:82\n",
      " auc:0.9998810765041541 \n",
      " apur:0.9998373152804723 \n",
      " f1:0.9934632226946754 \n",
      " precision:0.9905087319665907 \n",
      " recall:0.996435391470401 \n",
      ", 'Validation':  best_epoch_indx:82\n",
      " auc:0.9676779247225983 \n",
      " apur:0.9556920431291974 \n",
      " f1:0.9030407343660355 \n",
      " precision:0.9045977011494253 \n",
      " recall:0.9014891179839634 \n",
      ", 'Test':  best_epoch_indx:82\n",
      " auc:0.9709368485038955 \n",
      " apur:0.9609698633226301 \n",
      " f1:0.9075553526592102 \n",
      " precision:0.9040472942246476 \n",
      " recall:0.9110907424381302 \n",
      "}\n",
      "=====Epoch 83\n",
      "Training...\n"
     ]
    },
    {
     "name": "stderr",
     "output_type": "stream",
     "text": [
      "Iteration: 100%|██████████| 62/62 [00:05<00:00, 11.78it/s]\n",
      "Iteration:   0%|          | 0/62 [00:00<?, ?it/s]"
     ]
    },
    {
     "name": "stdout",
     "output_type": "stream",
     "text": [
      "Evaluating...\n"
     ]
    },
    {
     "name": "stderr",
     "output_type": "stream",
     "text": [
      "Iteration:  15%|█▍        | 9/62 [00:00<00:02, 21.42it/s]]\n",
      "Iteration:  45%|████▌     | 28/62 [00:02<00:02, 12.23it/s]\n",
      "Iteration:  52%|█████▏    | 32/62 [00:02<00:02, 12.16it/s]\n",
      "Iteration:   3%|▎         | 2/62 [00:00<00:05, 11.58it/s]]"
     ]
    },
    {
     "name": "stdout",
     "output_type": "stream",
     "text": [
      "{'Train':  best_epoch_indx:82\n",
      " auc:0.9997701641437127 \n",
      " apur:0.9996837928590259 \n",
      " f1:0.9923992906004561 \n",
      " precision:0.9875204840539519 \n",
      " recall:0.9973265436028008 \n",
      ", 'Validation':  best_epoch_indx:82\n",
      " auc:0.9694568826871233 \n",
      " apur:0.9630843963674576 \n",
      " f1:0.8995433789954338 \n",
      " precision:0.8964732650739476 \n",
      " recall:0.9026345933562429 \n",
      ", 'Test':  best_epoch_indx:82\n",
      " auc:0.9706385578979531 \n",
      " apur:0.9594238803059519 \n",
      " f1:0.8999316161385913 \n",
      " precision:0.8952380952380953 \n",
      " recall:0.9046746104491292 \n",
      "}\n",
      "=====Epoch 83\n",
      "Training...\n"
     ]
    },
    {
     "name": "stderr",
     "output_type": "stream",
     "text": [
      "Iteration:  77%|███████▋  | 48/62 [00:03<00:01, 12.30it/s]\n",
      "Iteration:   0%|          | 0/18 [00:00<?, ?it/s]\n",
      "Iteration:  50%|█████     | 9/18 [00:00<00:00, 21.65it/s]]\n",
      "Iteration:  67%|██████▋   | 12/18 [00:00<00:00, 22.06it/s]"
     ]
    },
    {
     "name": "stdout",
     "output_type": "stream",
     "text": [
      "{'Train':  best_epoch_indx:80\n",
      " auc:0.9999423603324761 \n",
      " apur:0.9999212278911123 \n",
      " f1:0.9963793432001524 \n",
      " precision:0.9942951318458418 \n",
      " recall:0.9984723106301718 \n",
      ", 'Validation':  best_epoch_indx:80\n",
      " auc:0.9729916576995615 \n",
      " apur:0.9650644136846087 \n",
      " f1:0.9121194715680642 \n",
      " precision:0.9147465437788018 \n",
      " recall:0.9095074455899198 \n",
      ", 'Test':  best_epoch_indx:80\n",
      " auc:0.977847164358623 \n",
      " apur:0.9728882909623666 \n",
      " f1:0.9177288528389338 \n",
      " precision:0.9282700421940928 \n",
      " recall:0.9074243813015582 \n",
      "}\n",
      "=====Epoch 81\n",
      "Training...\n"
     ]
    },
    {
     "name": "stderr",
     "output_type": "stream",
     "text": [
      "Iteration:  83%|████████▎ | 15/18 [00:00<00:00, 22.21it/s]\n",
      "Iteration:  43%|████▎     | 3/7 [00:00<00:00, 22.60it/s]s]\n",
      "Iteration:  43%|████▎     | 3/7 [00:00<00:00, 22.00it/s]s]\n",
      "Iteration: 100%|██████████| 62/62 [00:05<00:00, 12.24it/s]\n",
      "Iteration:  86%|████████▌ | 6/7 [00:00<00:00, 22.08it/s]s]"
     ]
    },
    {
     "name": "stdout",
     "output_type": "stream",
     "text": [
      "{'Train':  best_epoch_indx:80\n",
      " auc:0.9999494533813145 \n",
      " apur:0.9999302348448316 \n",
      " f1:0.9950551540509699 \n",
      " precision:0.9910342214926127 \n",
      " recall:0.9991088478676002 \n",
      ", 'Validation':  best_epoch_indx:80\n",
      " auc:0.9677333665019804 \n",
      " apur:0.9542370682016158 \n",
      " f1:0.9006849315068493 \n",
      " precision:0.8976109215017065 \n",
      " recall:0.9037800687285223 \n",
      ", 'Test':  best_epoch_indx:80\n",
      " auc:0.9696815388841054 \n",
      " apur:0.961459814865832 \n",
      " f1:0.9038286235186873 \n",
      " precision:0.8989120580235721 \n",
      " recall:0.9087992667277727 \n",
      "}\n",
      "=====Epoch 81\n",
      "Training...\n",
      "Evaluating...\n",
      "{'Train':  best_epoch_indx:81\n",
      " auc:0.9999286054118169 \n",
      " apur:0.9999031406141223 \n",
      " f1:0.995679796696315 \n",
      " precision:0.9937856689917565 \n",
      " recall:0.9975811584977721 \n",
      ", 'Validation':  best_epoch_indx:81\n",
      " auc:0.9681074779872031 \n",
      " apur:0.9528462610282942 \n",
      " f1:0.8986175115207374 \n",
      " precision:0.9038238702201622 \n",
      " recall:0.8934707903780069 \n",
      ", 'Test':  best_epoch_indx:81\n",
      " auc:0.9710909770654848 \n",
      " apur:0.961845553769155 \n",
      " f1:0.9062068965517242 \n",
      " precision:0.9091328413284133 \n",
      " recall:0.9032997250229148 \n",
      "}\n",
      "=====Epoch 82\n",
      "Training...\n"
     ]
    },
    {
     "name": "stderr",
     "output_type": "stream",
     "text": [
      "Iteration:  16%|█▌        | 10/62 [00:00<00:04, 12.46it/s]\n",
      "Iteration:  71%|███████   | 44/62 [00:03<00:01, 11.55it/s]\n",
      "Iteration: 100%|██████████| 62/62 [00:06<00:00, 10.23it/s]\n",
      "Iteration:   0%|          | 0/62 [00:00<?, ?it/s]"
     ]
    },
    {
     "name": "stdout",
     "output_type": "stream",
     "text": [
      "Evaluating...\n"
     ]
    },
    {
     "name": "stderr",
     "output_type": "stream",
     "text": [
      "Iteration:  74%|███████▍  | 46/62 [00:03<00:01, 11.68it/s]\n",
      "Iteration:  27%|██▋       | 17/62 [00:00<00:02, 20.14it/s]\n",
      "Iteration:   0%|          | 0/62 [00:00<?, ?it/s]"
     ]
    },
    {
     "name": "stdout",
     "output_type": "stream",
     "text": [
      "{'Train':  best_epoch_indx:83\n",
      " auc:0.9994964746316986 \n",
      " apur:0.9993072481122451 \n",
      " f1:0.988551074926854 \n",
      " precision:0.9877971272403712 \n",
      " recall:0.989306174411203 \n",
      ", 'Validation':  best_epoch_indx:83\n",
      " auc:0.9635887319163379 \n",
      " apur:0.9506815484801386 \n",
      " f1:0.8873239436619719 \n",
      " precision:0.9097472924187726 \n",
      " recall:0.865979381443299 \n",
      ", 'Test':  best_epoch_indx:83\n",
      " auc:0.9683035423482308 \n",
      " apur:0.9565037305486096 \n",
      " f1:0.8992606284658041 \n",
      " precision:0.9068033550792172 \n",
      " recall:0.8918423464711274 \n",
      "}\n",
      "=====Epoch 84\n",
      "Training...\n"
     ]
    },
    {
     "name": "stderr",
     "output_type": "stream",
     "text": [
      "\r",
      "Iteration:  84%|████████▍ | 52/62 [00:04<00:01,  9.82it/s]\r",
      "Iteration:  97%|█████████▋| 60/62 [00:05<00:00, 11.15it/s]\r",
      "Iteration:  87%|████████▋ | 54/62 [00:04<00:00, 11.74it/s]\r",
      "Iteration:  32%|███▏      | 20/62 [00:01<00:02, 20.50it/s]\r",
      "Iteration:   3%|▎         | 2/62 [00:00<00:04, 12.45it/s]\r",
      "Iteration: 100%|██████████| 62/62 [00:05<00:00, 11.69it/s]\r",
      "Iteration: 100%|██████████| 62/62 [00:05<00:00, 11.38it/s]\n",
      "\r",
      "Iteration:   0%|          | 0/62 [00:00<?, ?it/s]\r",
      "Iteration:  87%|████████▋ | 54/62 [00:04<00:00, 10.40it/s]\r",
      "Iteration:  37%|███▋      | 23/62 [00:01<00:01, 20.91it/s]\r",
      "Iteration:  90%|█████████ | 56/62 [00:04<00:00, 11.89it/s]"
     ]
    },
    {
     "name": "stdout",
     "output_type": "stream",
     "text": [
      "Evaluating...\n"
     ]
    },
    {
     "name": "stderr",
     "output_type": "stream",
     "text": [
      "Iteration: 100%|██████████| 62/62 [00:05<00:00, 12.06it/s]\n",
      "Iteration: 100%|██████████| 62/62 [00:05<00:00, 11.33it/s]\n",
      "Iteration:  19%|█▉        | 12/62 [00:00<00:04, 12.36it/s]"
     ]
    },
    {
     "name": "stdout",
     "output_type": "stream",
     "text": [
      "Evaluating...\n",
      "Evaluating...\n"
     ]
    },
    {
     "name": "stderr",
     "output_type": "stream",
     "text": [
      "Iteration:  44%|████▎     | 27/62 [00:01<00:01, 21.30it/s]\n",
      "Iteration:  61%|██████▏   | 38/62 [00:03<00:01, 12.33it/s]\n",
      "Iteration:  82%|████████▏ | 51/62 [00:02<00:00, 21.50it/s]\n",
      "Iteration: 100%|██████████| 62/62 [00:02<00:00, 21.48it/s]\n",
      "Iteration:  83%|████████▎ | 15/18 [00:00<00:00, 23.59it/s]"
     ]
    },
    {
     "name": "stdout",
     "output_type": "stream",
     "text": [
      "{'Train':  best_epoch_indx:83\n",
      " auc:0.9992573434476593 \n",
      " apur:0.9989598266362483 \n",
      " f1:0.98676293622142 \n",
      " precision:0.98185026468364 \n",
      " recall:0.991725015913431 \n",
      ", 'Validation':  best_epoch_indx:83\n",
      " auc:0.9676639437521453 \n",
      " apur:0.9585950893671614 \n",
      " f1:0.8941584731058415 \n",
      " precision:0.9030373831775701 \n",
      " recall:0.8854524627720504 \n",
      ", 'Test':  best_epoch_indx:83\n",
      " auc:0.9668158054730007 \n",
      " apur:0.954093102815024 \n",
      " f1:0.8972477064220183 \n",
      " precision:0.8980716253443526 \n",
      " recall:0.8964252978918423 \n",
      "}\n",
      "=====Epoch 84\n",
      "Training...\n"
     ]
    },
    {
     "name": "stderr",
     "output_type": "stream",
     "text": [
      "\n",
      "Iteration:   6%|▋         | 4/62 [00:00<00:05, 11.33it/s]]\n",
      "Iteration:   0%|          | 0/7 [00:00<?, ?it/s]\n",
      "Iteration:  87%|████████▋ | 54/62 [00:04<00:00, 12.51it/s]\n",
      "Iteration:  83%|████████▎ | 15/18 [00:00<00:00, 22.35it/s]"
     ]
    },
    {
     "name": "stdout",
     "output_type": "stream",
     "text": [
      "{'Train':  best_epoch_indx:81\n",
      " auc:0.9998994283073885 \n",
      " apur:0.9998617431286999 \n",
      " f1:0.9944148260979945 \n",
      " precision:0.9915200607518035 \n",
      " recall:0.9973265436028008 \n",
      ", 'Validation':  best_epoch_indx:81\n",
      " auc:0.9713510631322775 \n",
      " apur:0.9634753352883831 \n",
      " f1:0.9024529378208784 \n",
      " precision:0.8988636363636363 \n",
      " recall:0.9060710194730813 \n",
      ", 'Test':  best_epoch_indx:81\n",
      " auc:0.9757341289258791 \n",
      " apur:0.9702941624480084 \n",
      " f1:0.9102623101702716 \n",
      " precision:0.9140480591497228 \n",
      " recall:0.9065077910174152 \n",
      "}\n",
      "=====Epoch 82\n",
      "Training...\n"
     ]
    },
    {
     "name": "stderr",
     "output_type": "stream",
     "text": [
      "Iteration:   6%|▋         | 4/62 [00:00<00:04, 12.26it/s]]\n",
      "Iteration:  43%|████▎     | 3/7 [00:00<00:00, 21.67it/s]]]\n",
      "Iteration: 100%|██████████| 62/62 [00:04<00:00, 12.45it/s]\n",
      "Iteration: 100%|██████████| 7/7 [00:00<00:00, 21.98it/s]]]\n",
      "Iteration:   5%|▍         | 3/62 [00:00<00:02, 22.54it/s]"
     ]
    },
    {
     "name": "stdout",
     "output_type": "stream",
     "text": [
      "Evaluating...\n",
      "{'Train':  best_epoch_indx:82\n",
      " auc:0.9997433248441855 \n",
      " apur:0.9996532713634728 \n",
      " f1:0.9916618929412514 \n",
      " precision:0.9915987780040734 \n",
      " recall:0.991725015913431 \n",
      ", 'Validation':  best_epoch_indx:82\n",
      " auc:0.9679903270968564 \n",
      " apur:0.952915053797188 \n",
      " f1:0.8903076030179918 \n",
      " precision:0.9023529411764706 \n",
      " recall:0.8785796105383734 \n",
      ", 'Test':  best_epoch_indx:82\n",
      " auc:0.9692878195369876 \n",
      " apur:0.9598445443730881 \n",
      " f1:0.9020246683732837 \n",
      " precision:0.9163120567375886 \n",
      " recall:0.8881759853345554 \n",
      "}\n",
      "=====Epoch 83\n",
      "Training...\n"
     ]
    },
    {
     "name": "stderr",
     "output_type": "stream",
     "text": [
      "\r",
      "Iteration:  16%|█▌        | 10/62 [00:00<00:04, 12.34it/s]\r",
      "Iteration:  26%|██▌       | 16/62 [00:01<00:04, 10.28it/s]\r",
      "Iteration:  86%|████████▌ | 6/7 [00:00<00:00, 21.56it/s]\r",
      "Iteration:  10%|▉         | 6/62 [00:00<00:02, 22.80it/s]\r",
      "Iteration:   3%|▎         | 2/62 [00:00<00:04, 12.06it/s]\r",
      "Iteration: 100%|██████████| 7/7 [00:00<00:00, 21.79it/s]\n",
      "\r",
      "Iteration:   0%|          | 0/62 [00:00<?, ?it/s]\r",
      "Iteration:  19%|█▉        | 12/62 [00:00<00:04, 12.40it/s]\r",
      "Iteration:  15%|█▍        | 9/62 [00:00<00:02, 22.76it/s]"
     ]
    },
    {
     "name": "stdout",
     "output_type": "stream",
     "text": [
      "{'Train':  best_epoch_indx:81\n",
      " auc:0.9999094948738476 \n",
      " apur:0.9998755721608967 \n",
      " f1:0.9942958549879579 \n",
      " precision:0.9900290294080525 \n",
      " recall:0.9985996180776575 \n",
      ", 'Validation':  best_epoch_indx:81\n",
      " auc:0.966563303905801 \n",
      " apur:0.9523765630712402 \n",
      " f1:0.9007981755986317 \n",
      " precision:0.8967082860385925 \n",
      " recall:0.9049255441008018 \n",
      ", 'Test':  best_epoch_indx:81\n",
      " auc:0.9681478703935167 \n",
      " apur:0.9593466190460579 \n",
      " f1:0.8985441310282075 \n",
      " precision:0.8920505871725384 \n",
      " recall:0.9051329055912007 \n",
      "}\n",
      "=====Epoch 82\n",
      "Training...\n"
     ]
    },
    {
     "name": "stderr",
     "output_type": "stream",
     "text": [
      "Iteration:  48%|████▊     | 30/62 [00:02<00:02, 12.14it/s]\n",
      "Iteration:  71%|███████   | 44/62 [00:03<00:01, 12.29it/s]\n",
      "Iteration:  77%|███████▋  | 48/62 [00:03<00:01, 12.21it/s]\n",
      "Iteration:  90%|█████████ | 56/62 [00:05<00:00, 10.41it/s]"
     ]
    },
    {
     "name": "stdout",
     "output_type": "stream",
     "text": [
      "{'Train':  best_epoch_indx:84\n",
      " auc:0.9993435985135158 \n",
      " apur:0.9990944214770183 \n",
      " f1:0.9853353736291762 \n",
      " precision:0.9869715161578746 \n",
      " recall:0.9837046467218332 \n",
      ", 'Validation':  best_epoch_indx:84\n",
      " auc:0.9653946876169099 \n",
      " apur:0.9470324013029057 \n",
      " f1:0.8878449794480329 \n",
      " precision:0.9108433734939759 \n",
      " recall:0.865979381443299 \n",
      ", 'Test':  best_epoch_indx:84\n",
      " auc:0.9659137392530638 \n",
      " apur:0.9535052901955996 \n",
      " f1:0.8851921274601687 \n",
      " precision:0.9055608820709492 \n",
      " recall:0.8657195233730522 \n",
      "}\n",
      "=====Epoch 85\n",
      "Training...\n"
     ]
    },
    {
     "name": "stderr",
     "output_type": "stream",
     "text": [
      "Iteration:   6%|▋         | 4/62 [00:00<00:04, 12.29it/s]]\n",
      "Iteration:  10%|▉         | 6/62 [00:00<00:04, 12.42it/s]]"
     ]
    },
    {
     "name": "stdout",
     "output_type": "stream",
     "text": [
      "Evaluating...\n"
     ]
    },
    {
     "name": "stderr",
     "output_type": "stream",
     "text": [
      "\r",
      "Iteration:  84%|████████▍ | 52/62 [00:04<00:00, 12.04it/s]\r",
      "Iteration: 100%|██████████| 62/62 [00:05<00:00, 10.55it/s]\r",
      "Iteration: 100%|██████████| 62/62 [00:05<00:00, 10.46it/s]\n",
      "\r",
      "Iteration:   0%|          | 0/62 [00:00<?, ?it/s]\r",
      "Iteration:  10%|▉         | 6/62 [00:00<00:02, 22.56it/s]\r",
      "Iteration:  90%|█████████ | 56/62 [00:04<00:00, 12.22it/s]\r",
      "Iteration:  13%|█▎        | 8/62 [00:00<00:04, 12.46it/s]\r",
      "Iteration:   3%|▎         | 2/62 [00:00<00:03, 18.28it/s]\r",
      "Iteration:  15%|█▍        | 9/62 [00:00<00:02, 22.60it/s]\r",
      "Iteration:  87%|████████▋ | 54/62 [00:04<00:00, 12.06it/s]"
     ]
    },
    {
     "name": "stdout",
     "output_type": "stream",
     "text": [
      "Evaluating...\n"
     ]
    },
    {
     "name": "stderr",
     "output_type": "stream",
     "text": [
      "Iteration: 100%|██████████| 62/62 [00:05<00:00, 12.28it/s]\n",
      "Iteration:  34%|███▍      | 21/62 [00:00<00:01, 22.73it/s]"
     ]
    },
    {
     "name": "stdout",
     "output_type": "stream",
     "text": [
      "Evaluating...\n"
     ]
    },
    {
     "name": "stderr",
     "output_type": "stream",
     "text": [
      "\r",
      "Iteration:   5%|▍         | 3/62 [00:00<00:02, 21.66it/s]\r",
      "Iteration:  26%|██▌       | 16/62 [00:01<00:03, 12.54it/s]\r",
      "Iteration:  24%|██▍       | 15/62 [00:00<00:02, 20.98it/s]\r",
      "Iteration:  39%|███▊      | 24/62 [00:01<00:01, 22.75it/s]\r",
      "Iteration:  10%|▉         | 6/62 [00:00<00:02, 21.77it/s]\r",
      "Iteration: 100%|██████████| 62/62 [00:05<00:00, 12.23it/s]\r",
      "Iteration: 100%|██████████| 62/62 [00:05<00:00, 12.10it/s]\n",
      "\r",
      "Iteration:   0%|          | 0/62 [00:00<?, ?it/s]\r",
      "Iteration:  29%|██▉       | 18/62 [00:01<00:03, 12.58it/s]"
     ]
    },
    {
     "name": "stdout",
     "output_type": "stream",
     "text": [
      "Evaluating...\n"
     ]
    },
    {
     "name": "stderr",
     "output_type": "stream",
     "text": [
      "Iteration:  63%|██████▎   | 39/62 [00:01<00:01, 20.67it/s]\n",
      "Iteration:  87%|████████▋ | 54/62 [00:02<00:00, 21.72it/s]\n",
      "Iteration:  92%|█████████▏| 57/62 [00:02<00:00, 21.37it/s]\n",
      "Iteration:   0%|          | 0/18 [00:00<?, ?it/s]\n",
      "Iteration: 100%|██████████| 7/7 [00:00<00:00, 21.87it/s]s]\n",
      "Iteration:   0%|          | 0/18 [00:00<?, ?it/s]\n",
      "Iteration:  50%|█████     | 9/18 [00:00<00:00, 22.59it/s]\n",
      "Iteration:  43%|████▎     | 3/7 [00:00<00:00, 21.67it/s]]]"
     ]
    },
    {
     "name": "stdout",
     "output_type": "stream",
     "text": [
      "{'Train':  best_epoch_indx:82\n",
      " auc:0.999875651944535 \n",
      " apur:0.9998281791089229 \n",
      " f1:0.9944744363289933 \n",
      " precision:0.9922686945500634 \n",
      " recall:0.9966900063653724 \n",
      ", 'Validation':  best_epoch_indx:82\n",
      " auc:0.9694289207462174 \n",
      " apur:0.9621027388425727 \n",
      " f1:0.8982857142857142 \n",
      " precision:0.8962371721778791 \n",
      " recall:0.9003436426116839 \n",
      ", 'Test':  best_epoch_indx:82\n",
      " auc:0.9757735679318741 \n",
      " apur:0.9698333503118051 \n",
      " f1:0.9137453874538747 \n",
      " precision:0.9196843082636954 \n",
      " recall:0.9078826764436297 \n",
      "}\n",
      "=====Epoch 83\n",
      "Training...\n"
     ]
    },
    {
     "name": "stderr",
     "output_type": "stream",
     "text": [
      "\r",
      "Iteration:  94%|█████████▎| 58/62 [00:04<00:00, 12.00it/s]\r",
      "Iteration:  33%|███▎      | 6/18 [00:00<00:00, 21.65it/s]\r",
      "Iteration:  83%|████████▎ | 15/18 [00:00<00:00, 22.57it/s]\r",
      "Iteration:  86%|████████▌ | 6/7 [00:00<00:00, 21.90it/s]\r",
      "Iteration:   6%|▋         | 4/62 [00:00<00:04, 11.90it/s]\r",
      "Iteration: 100%|██████████| 7/7 [00:00<00:00, 22.07it/s]\r",
      "Iteration:  97%|█████████▋| 60/62 [00:04<00:00, 11.99it/s]\n",
      "\r",
      "Iteration:   0%|          | 0/62 [00:00<?, ?it/s]\r",
      "Iteration:  50%|█████     | 9/18 [00:00<00:00, 21.44it/s]\r",
      "Iteration: 100%|██████████| 18/18 [00:00<00:00, 23.56it/s]\r",
      "Iteration: 100%|██████████| 18/18 [00:00<00:00, 23.01it/s]"
     ]
    },
    {
     "name": "stdout",
     "output_type": "stream",
     "text": [
      "{'Train':  best_epoch_indx:84\n",
      " auc:0.9991768666563168 \n",
      " apur:0.998901344639644 \n",
      " f1:0.984835081511437 \n",
      " precision:0.9776690503073642 \n",
      " recall:0.9921069382558879 \n",
      ", 'Validation':  best_epoch_indx:84\n",
      " auc:0.9631996752558035 \n",
      " apur:0.9562944511552678 \n",
      " f1:0.8898978433598184 \n",
      " precision:0.8818897637795275 \n",
      " recall:0.8980526918671249 \n",
      ", 'Test':  best_epoch_indx:84\n",
      " auc:0.9657668959685459 \n",
      " apur:0.9538515389473248 \n",
      " f1:0.8950226244343891 \n",
      " precision:0.8838248436103664 \n",
      " recall:0.9065077910174152 \n",
      "}\n",
      "=====Epoch 85\n",
      "Training...\n",
      "Evaluating...\n"
     ]
    },
    {
     "name": "stderr",
     "output_type": "stream",
     "text": [
      "\n",
      "Iteration: 100%|██████████| 62/62 [00:05<00:00, 12.21it/s]\n",
      "Iteration:  16%|█▌        | 10/62 [00:00<00:04, 11.46it/s]\n",
      "Iteration:  16%|█▌        | 10/62 [00:00<00:02, 19.38it/s]\n",
      "Iteration:   0%|          | 0/62 [00:00<?, ?it/s]"
     ]
    },
    {
     "name": "stdout",
     "output_type": "stream",
     "text": [
      "{'Train':  best_epoch_indx:83\n",
      " auc:0.9996648682058284 \n",
      " apur:0.9995508291766081 \n",
      " f1:0.9839894518741759 \n",
      " precision:0.9707631318136769 \n",
      " recall:0.9975811584977721 \n",
      ", 'Validation':  best_epoch_indx:83\n",
      " auc:0.9620310589669124 \n",
      " apur:0.9477509635487347 \n",
      " f1:0.8826446280991735 \n",
      " precision:0.8503184713375797 \n",
      " recall:0.9175257731958762 \n",
      ", 'Test':  best_epoch_indx:83\n",
      " auc:0.9665761756296888 \n",
      " apur:0.956566178725605 \n",
      " f1:0.8966592427616926 \n",
      " precision:0.8721837088388215 \n",
      " recall:0.9225481209899175 \n",
      "}\n",
      "=====Epoch 84\n",
      "Training...\n"
     ]
    },
    {
     "name": "stderr",
     "output_type": "stream",
     "text": [
      "\r",
      "Iteration:  71%|███████▏  | 5/7 [00:00<00:00, 20.34it/s]\r",
      "Iteration:  13%|█▎        | 8/62 [00:00<00:05,  9.95it/s]\r",
      "Iteration:  21%|██        | 13/62 [00:00<00:02, 19.95it/s]\r",
      "Iteration:  23%|██▎       | 14/62 [00:01<00:04, 11.37it/s]\r",
      "Iteration:   3%|▎         | 2/62 [00:00<00:04, 12.08it/s]\r",
      "Iteration: 100%|██████████| 7/7 [00:00<00:00, 20.85it/s]\n",
      "\r",
      "Iteration:   0%|          | 0/62 [00:00<?, ?it/s]\r",
      "Iteration:  26%|██▌       | 16/62 [00:00<00:02, 20.61it/s]"
     ]
    },
    {
     "name": "stdout",
     "output_type": "stream",
     "text": [
      "{'Train':  best_epoch_indx:82\n",
      " auc:0.9998732046883774 \n",
      " apur:0.9998248532533519 \n",
      " f1:0.9922146971327298 \n",
      " precision:0.9866565961732124 \n",
      " recall:0.9978357733927434 \n",
      ", 'Validation':  best_epoch_indx:82\n",
      " auc:0.9644473563431181 \n",
      " apur:0.9503491962297925 \n",
      " f1:0.8943181818181819 \n",
      " precision:0.887260428410372 \n",
      " recall:0.9014891179839634 \n",
      ", 'Test':  best_epoch_indx:82\n",
      " auc:0.9676429741965947 \n",
      " apur:0.9590352809269451 \n",
      " f1:0.8959708627361711 \n",
      " precision:0.8900949796472184 \n",
      " recall:0.9019248395967002 \n",
      "}\n",
      "=====Epoch 83\n",
      "Training...\n"
     ]
    },
    {
     "name": "stderr",
     "output_type": "stream",
     "text": [
      "Iteration:  68%|██████▊   | 42/62 [00:03<00:01, 12.08it/s]\n",
      "Iteration:  68%|██████▊   | 42/62 [00:04<00:01, 10.38it/s]\n",
      "Iteration: 100%|██████████| 7/7 [00:00<00:00, 22.73it/s]s]\n",
      "Iteration:   0%|          | 0/62 [00:00<?, ?it/s]"
     ]
    },
    {
     "name": "stdout",
     "output_type": "stream",
     "text": [
      "{'Train':  best_epoch_indx:85\n",
      " auc:0.9997455935129175 \n",
      " apur:0.9996539119741648 \n",
      " f1:0.990053848590434 \n",
      " precision:0.9853720050441362 \n",
      " recall:0.9947803946530872 \n",
      ", 'Validation':  best_epoch_indx:85\n",
      " auc:0.9683162283391378 \n",
      " apur:0.9576431606491652 \n",
      " f1:0.8905529953917051 \n",
      " precision:0.895712630359212 \n",
      " recall:0.8854524627720504 \n",
      ", 'Test':  best_epoch_indx:85\n",
      " auc:0.9692846551549019 \n",
      " apur:0.9580386067645995 \n",
      " f1:0.9051094890510949 \n",
      " precision:0.9009990917347865 \n",
      " recall:0.9092575618698442 \n",
      "}\n",
      "=====Epoch 86\n",
      "Training...\n"
     ]
    },
    {
     "name": "stderr",
     "output_type": "stream",
     "text": [
      "Iteration: 100%|██████████| 62/62 [00:05<00:00, 11.96it/s]\n",
      "Iteration:  81%|████████  | 50/62 [00:04<00:01, 10.40it/s]"
     ]
    },
    {
     "name": "stdout",
     "output_type": "stream",
     "text": [
      "Evaluating...\n"
     ]
    },
    {
     "name": "stderr",
     "output_type": "stream",
     "text": [
      "Iteration:  94%|█████████▎| 58/62 [00:05<00:00, 10.40it/s]\n",
      "Iteration:  34%|███▍      | 21/62 [00:00<00:01, 21.98it/s]"
     ]
    },
    {
     "name": "stdout",
     "output_type": "stream",
     "text": [
      "Evaluating...\n"
     ]
    },
    {
     "name": "stderr",
     "output_type": "stream",
     "text": [
      "\r",
      "Iteration:  97%|█████████▋| 60/62 [00:05<00:00, 10.36it/s]\r",
      "Iteration:  10%|▉         | 6/62 [00:00<00:02, 22.25it/s]\r",
      "Iteration: 100%|██████████| 62/62 [00:04<00:00, 12.50it/s]\r",
      "Iteration: 100%|██████████| 62/62 [00:04<00:00, 12.43it/s]\n",
      "\r",
      "Iteration:   0%|          | 0/62 [00:00<?, ?it/s]\r",
      "Iteration:  29%|██▉       | 18/62 [00:01<00:03, 12.23it/s]\r",
      "Iteration:  39%|███▊      | 24/62 [00:01<00:01, 21.77it/s]\r",
      "Iteration: 100%|██████████| 62/62 [00:05<00:00, 10.40it/s]\r",
      "Iteration: 100%|██████████| 62/62 [00:05<00:00, 10.36it/s]\n",
      "\r",
      "Iteration:   0%|          | 0/62 [00:00<?, ?it/s]"
     ]
    },
    {
     "name": "stdout",
     "output_type": "stream",
     "text": [
      "Evaluating...\n",
      "Evaluating...\n"
     ]
    },
    {
     "name": "stderr",
     "output_type": "stream",
     "text": [
      "Iteration:  77%|███████▋  | 48/62 [00:02<00:00, 22.39it/s]\n",
      "Iteration: 100%|██████████| 18/18 [00:00<00:00, 23.48it/s]\n",
      "Iteration:  92%|█████████▏| 57/62 [00:02<00:00, 22.12it/s]\n",
      "Iteration: 100%|██████████| 62/62 [00:02<00:00, 21.84it/s]\n",
      "Iteration:  90%|█████████ | 56/62 [00:04<00:00, 12.06it/s]\n",
      "Iteration:  83%|████████▎ | 15/18 [00:00<00:00, 22.80it/s]\n",
      "Iteration:  97%|█████████▋| 60/62 [00:04<00:00, 12.06it/s]"
     ]
    },
    {
     "name": "stdout",
     "output_type": "stream",
     "text": [
      "{'Train':  best_epoch_indx:83\n",
      " auc:0.9993964269360647 \n",
      " apur:0.9991786505434341 \n",
      " f1:0.9879472215173815 \n",
      " precision:0.9845745353394867 \n",
      " recall:0.9913430935709739 \n",
      ", 'Validation':  best_epoch_indx:83\n",
      " auc:0.96510012303254 \n",
      " apur:0.9551250520126995 \n",
      " f1:0.8949771689497716 \n",
      " precision:0.8919226393629124 \n",
      " recall:0.8980526918671249 \n",
      ", 'Test':  best_epoch_indx:83\n",
      " auc:0.971740755913767 \n",
      " apur:0.9647519021009316 \n",
      " f1:0.9080325960419091 \n",
      " precision:0.922858495030762 \n",
      " recall:0.8936755270394133 \n",
      "}\n",
      "=====Epoch 84\n",
      "Training...\n"
     ]
    },
    {
     "name": "stderr",
     "output_type": "stream",
     "text": [
      "\r",
      "Iteration:   3%|▎         | 2/62 [00:00<00:05, 11.94it/s]\r",
      "Iteration:  50%|█████     | 9/18 [00:00<00:00, 22.42it/s]\n",
      "\r",
      "Iteration:   0%|          | 0/7 [00:00<?, ?it/s]\r",
      "Iteration:  67%|██████▋   | 12/18 [00:00<00:00, 21.93it/s]\r",
      "Iteration: 100%|██████████| 62/62 [00:05<00:00, 12.30it/s]\r",
      "Iteration: 100%|██████████| 62/62 [00:05<00:00, 12.26it/s]\n",
      "\r",
      "Iteration:   0%|          | 0/62 [00:00<?, ?it/s]\r",
      "Iteration:  67%|██████▋   | 12/18 [00:00<00:00, 22.53it/s]\r",
      "Iteration:  43%|████▎     | 3/7 [00:00<00:00, 22.14it/s]\r",
      "Iteration:   6%|▋         | 4/62 [00:00<00:04, 12.12it/s]\r",
      "Iteration:  83%|████████▎ | 15/18 [00:00<00:00, 22.13it/s]"
     ]
    },
    {
     "name": "stdout",
     "output_type": "stream",
     "text": [
      "Evaluating...\n"
     ]
    },
    {
     "name": "stderr",
     "output_type": "stream",
     "text": [
      "\r",
      "Iteration:   5%|▍         | 3/62 [00:00<00:02, 21.70it/s]\r",
      "Iteration:  83%|████████▎ | 15/18 [00:00<00:00, 22.61it/s]\r",
      "Iteration:  86%|████████▌ | 6/7 [00:00<00:00, 22.27it/s]\r",
      "Iteration: 100%|██████████| 18/18 [00:00<00:00, 23.36it/s]\r",
      "Iteration: 100%|██████████| 18/18 [00:00<00:00, 22.63it/s]\r",
      "Iteration:  10%|▉         | 6/62 [00:00<00:04, 12.16it/s]\r",
      "Iteration: 100%|██████████| 7/7 [00:00<00:00, 22.58it/s]\n",
      "\r",
      "Iteration:   0%|          | 0/62 [00:00<?, ?it/s]\r",
      "Iteration:  10%|▉         | 6/62 [00:00<00:02, 21.95it/s]\r",
      "Iteration: 100%|██████████| 18/18 [00:00<00:00, 23.83it/s]\r",
      "Iteration: 100%|██████████| 18/18 [00:00<00:00, 23.11it/s]\n",
      "\r",
      "Iteration:   0%|          | 0/7 [00:00<?, ?it/s]"
     ]
    },
    {
     "name": "stdout",
     "output_type": "stream",
     "text": [
      "{'Train':  best_epoch_indx:84\n",
      " auc:0.9993738236118992 \n",
      " apur:0.9991780055889342 \n",
      " f1:0.9861792242532322 \n",
      " precision:0.9867448381340811 \n",
      " recall:0.9856142584341184 \n",
      ", 'Validation':  best_epoch_indx:84\n",
      " auc:0.9658738974317438 \n",
      " apur:0.949447841349592 \n",
      " f1:0.8940092165898617 \n",
      " precision:0.899188876013905 \n",
      " recall:0.8888888888888888 \n",
      ", 'Test':  best_epoch_indx:84\n",
      " auc:0.9649818673188486 \n",
      " apur:0.9539473925081703 \n",
      " f1:0.8918218241810041 \n",
      " precision:0.9180009704027171 \n",
      " recall:0.8670944087992667 \n",
      "}\n",
      "=====Epoch 85\n",
      "Training...\n"
     ]
    },
    {
     "name": "stderr",
     "output_type": "stream",
     "text": [
      "\n",
      "Iteration: 100%|██████████| 7/7 [00:00<00:00, 22.33it/s]s]\n",
      "Iteration: 100%|██████████| 7/7 [00:00<00:00, 14.05it/s]]]"
     ]
    },
    {
     "name": "stdout",
     "output_type": "stream",
     "text": [
      "{'Train':  best_epoch_indx:85\n",
      " auc:0.9993156852505883 \n",
      " apur:0.9990797687919273 \n",
      " f1:0.9875946307016986 \n",
      " precision:0.987029501525941 \n",
      " recall:0.9881604073838319 \n",
      ", 'Validation':  best_epoch_indx:85\n",
      " auc:0.9659896020148024 \n",
      " apur:0.9601564535118565 \n",
      " f1:0.8869361452841241 \n",
      " precision:0.907673860911271 \n",
      " recall:0.8671248568155785 \n",
      ", 'Test':  best_epoch_indx:85\n",
      " auc:0.9649425819453317 \n",
      " apur:0.9550104340894391 \n",
      " f1:0.8947612424663886 \n",
      " precision:0.9052532833020638 \n",
      " recall:0.8845096241979835 \n",
      "}\n",
      "=====Epoch 86\n",
      "Training...\n",
      "{'Train':  best_epoch_indx:83\n",
      " auc:0.9989818739039326 \n",
      " apur:0.9986692165356844 \n",
      " f1:0.9820435002529084 \n",
      " precision:0.9755055897500314 \n",
      " recall:0.9886696371737747 \n",
      ", 'Validation':  best_epoch_indx:83\n",
      " auc:0.959077217381914 \n",
      " apur:0.943183263822674 \n",
      " f1:0.8858447488584474 \n",
      " precision:0.8828213879408419 \n",
      " recall:0.8888888888888888 \n",
      ", 'Test':  best_epoch_indx:83\n",
      " auc:0.9626744839164638 \n",
      " apur:0.9511946612385624 \n",
      " f1:0.8822857142857143 \n",
      " precision:0.8800729594163247 \n",
      " recall:0.8845096241979835 \n",
      "}\n",
      "=====Epoch 84\n",
      "Training...\n"
     ]
    },
    {
     "name": "stderr",
     "output_type": "stream",
     "text": [
      "Iteration:  29%|██▉       | 18/62 [00:00<00:02, 21.99it/s]\n",
      "Iteration:  42%|████▏     | 26/62 [00:02<00:03, 11.53it/s]\n",
      "Iteration:  77%|███████▋  | 48/62 [00:03<00:01, 12.60it/s]\n",
      "Iteration: 100%|██████████| 7/7 [00:00<00:00, 22.17it/s]s]\n",
      "Iteration:  71%|███████   | 44/62 [00:03<00:01, 11.27it/s]"
     ]
    },
    {
     "name": "stdout",
     "output_type": "stream",
     "text": [
      "{'Train':  best_epoch_indx:86\n",
      " auc:0.9997569130385334 \n",
      " apur:0.99966810744718 \n",
      " f1:0.990960020371785 \n",
      " precision:0.9910862090920667 \n",
      " recall:0.9908338637810312 \n",
      ", 'Validation':  best_epoch_indx:86\n",
      " auc:0.9686001866700608 \n",
      " apur:0.9589162445496915 \n",
      " f1:0.8881036513545347 \n",
      " precision:0.9139393939393939 \n",
      " recall:0.86368843069874 \n",
      ", 'Test':  best_epoch_indx:86\n",
      " auc:0.9694147035406193 \n",
      " apur:0.9563231053878527 \n",
      " f1:0.8977695167286246 \n",
      " precision:0.9104618284637135 \n",
      " recall:0.8854262144821264 \n",
      "}\n",
      "=====Epoch 87\n",
      "Training...\n"
     ]
    },
    {
     "name": "stderr",
     "output_type": "stream",
     "text": [
      "Iteration: 100%|██████████| 62/62 [00:05<00:00, 12.03it/s]\n",
      "Iteration:  10%|▉         | 6/62 [00:00<00:04, 12.19it/s]]"
     ]
    },
    {
     "name": "stdout",
     "output_type": "stream",
     "text": [
      "Evaluating...\n"
     ]
    },
    {
     "name": "stderr",
     "output_type": "stream",
     "text": [
      "Iteration: 100%|██████████| 62/62 [00:04<00:00, 12.50it/s]\n",
      "Iteration:   5%|▍         | 3/62 [00:00<00:02, 21.88it/s]]"
     ]
    },
    {
     "name": "stdout",
     "output_type": "stream",
     "text": [
      "Evaluating...\n"
     ]
    },
    {
     "name": "stderr",
     "output_type": "stream",
     "text": [
      "Iteration: 100%|██████████| 62/62 [00:05<00:00, 12.35it/s]\n",
      "Iteration:  34%|███▍      | 21/62 [00:00<00:01, 21.57it/s]"
     ]
    },
    {
     "name": "stdout",
     "output_type": "stream",
     "text": [
      "Evaluating...\n"
     ]
    },
    {
     "name": "stderr",
     "output_type": "stream",
     "text": [
      "Iteration: 100%|██████████| 62/62 [00:05<00:00, 11.38it/s]\n",
      "Iteration:  39%|███▊      | 24/62 [00:01<00:01, 21.55it/s]"
     ]
    },
    {
     "name": "stdout",
     "output_type": "stream",
     "text": [
      "Evaluating...\n"
     ]
    },
    {
     "name": "stderr",
     "output_type": "stream",
     "text": [
      "Iteration:  69%|██████▉   | 43/62 [00:02<00:00, 21.69it/s]\n",
      "Iteration:  73%|███████▎  | 45/62 [00:02<00:00, 22.32it/s]\n",
      "Iteration:  84%|████████▍ | 52/62 [00:04<00:00, 12.31it/s]\n",
      "Iteration:  97%|█████████▋| 60/62 [00:02<00:00, 22.28it/s]\n",
      "Iteration:  86%|████████▌ | 6/7 [00:00<00:00, 22.55it/s]]]\n",
      "Iteration:  90%|█████████ | 56/62 [00:04<00:00, 12.21it/s]\n",
      "Iteration:   0%|          | 0/62 [00:00<?, ?it/s]\n",
      "Iteration:  17%|█▋        | 3/18 [00:00<00:00, 20.99it/s]]"
     ]
    },
    {
     "name": "stdout",
     "output_type": "stream",
     "text": [
      "{'Train':  best_epoch_indx:84\n",
      " auc:0.9994456350158599 \n",
      " apur:0.999244506152811 \n",
      " f1:0.9882367902333568 \n",
      " precision:0.9871697154471545 \n",
      " recall:0.989306174411203 \n",
      ", 'Validation':  best_epoch_indx:84\n",
      " auc:0.9684647158873962 \n",
      " apur:0.9586661404907462 \n",
      " f1:0.8995937318630296 \n",
      " precision:0.9117647058823529 \n",
      " recall:0.8877434135166093 \n",
      ", 'Test':  best_epoch_indx:84\n",
      " auc:0.97101611241614 \n",
      " apur:0.9647294742437321 \n",
      " f1:0.8992974238875878 \n",
      " precision:0.9195402298850575 \n",
      " recall:0.8799266727772685 \n",
      "}\n",
      "=====Epoch 85\n",
      "Training...\n"
     ]
    },
    {
     "name": "stderr",
     "output_type": "stream",
     "text": [
      "\r",
      "Iteration:  71%|███████▏  | 5/7 [00:00<00:00, 19.93it/s]\r",
      "Iteration:  50%|█████     | 9/18 [00:00<00:00, 20.87it/s]\r",
      "Iteration:   5%|▍         | 3/62 [00:00<00:05, 10.37it/s]\r",
      "Iteration: 100%|██████████| 7/7 [00:00<00:00, 20.43it/s]\r",
      "Iteration:  33%|███▎      | 6/18 [00:00<00:00, 21.46it/s]\r",
      "Iteration:  97%|█████████▋| 60/62 [00:04<00:00, 11.95it/s]\n",
      "\r",
      "Iteration:   0%|          | 0/62 [00:00<?, ?it/s]\r",
      "Iteration:  67%|██████▋   | 12/18 [00:00<00:00, 21.11it/s]"
     ]
    },
    {
     "name": "stdout",
     "output_type": "stream",
     "text": [
      "{'Train':  best_epoch_indx:85\n",
      " auc:0.9995701914792138 \n",
      " apur:0.9994120723442801 \n",
      " f1:0.9878010239555022 \n",
      " precision:0.9809189053477279 \n",
      " recall:0.9947803946530872 \n",
      ", 'Validation':  best_epoch_indx:85\n",
      " auc:0.9645322063706944 \n",
      " apur:0.9465169803101059 \n",
      " f1:0.8897727272727274 \n",
      " precision:0.882750845546787 \n",
      " recall:0.8969072164948454 \n",
      ", 'Test':  best_epoch_indx:85\n",
      " auc:0.9665433741080688 \n",
      " apur:0.9561049285387488 \n",
      " f1:0.8968036529680367 \n",
      " precision:0.8935395814376706 \n",
      " recall:0.9000916590284143 \n",
      "}\n",
      "=====Epoch 86\n",
      "Training...\n",
      "Evaluating...\n"
     ]
    },
    {
     "name": "stderr",
     "output_type": "stream",
     "text": [
      "Iteration: 100%|██████████| 62/62 [00:05<00:00, 12.16it/s]\n",
      "Iteration:   6%|▋         | 4/62 [00:00<00:04, 12.30it/s]]\n",
      "Iteration:  19%|█▉        | 12/62 [00:00<00:02, 21.92it/s]\n",
      "Iteration:   0%|          | 0/62 [00:00<?, ?it/s]"
     ]
    },
    {
     "name": "stdout",
     "output_type": "stream",
     "text": [
      "{'Train':  best_epoch_indx:84\n",
      " auc:0.9985454269572479 \n",
      " apur:0.9980028690569429 \n",
      " f1:0.9790377572925875 \n",
      " precision:0.9711887761493173 \n",
      " recall:0.9870146403564608 \n",
      ", 'Validation':  best_epoch_indx:84\n",
      " auc:0.9611647209012615 \n",
      " apur:0.9492070969125352 \n",
      " f1:0.8831908831908832 \n",
      " precision:0.8786848072562359 \n",
      " recall:0.8877434135166093 \n",
      ", 'Test':  best_epoch_indx:84\n",
      " auc:0.9608028034700813 \n",
      " apur:0.9510528787728646 \n",
      " f1:0.8838155515370706 \n",
      " precision:0.8719892952720785 \n",
      " recall:0.8959670027497708 \n",
      "}\n",
      "=====Epoch 85\n",
      "Training...\n"
     ]
    },
    {
     "name": "stderr",
     "output_type": "stream",
     "text": [
      "\n",
      "Iteration: 100%|██████████| 7/7 [00:00<00:00, 22.45it/s]]]\n",
      "Iteration:  23%|██▎       | 14/62 [00:01<00:03, 12.22it/s]"
     ]
    },
    {
     "name": "stdout",
     "output_type": "stream",
     "text": [
      "{'Train':  best_epoch_indx:86\n",
      " auc:0.9997381675623982 \n",
      " apur:0.9996220652934522 \n",
      " f1:0.9917627677100495 \n",
      " precision:0.9872587359656869 \n",
      " recall:0.9963080840229154 \n",
      ", 'Validation':  best_epoch_indx:86\n",
      " auc:0.9731382168381023 \n",
      " apur:0.9674033300947991 \n",
      " f1:0.9067747539085119 \n",
      " precision:0.9168618266978923 \n",
      " recall:0.8969072164948454 \n",
      ", 'Test':  best_epoch_indx:86\n",
      " auc:0.9704047810830579 \n",
      " apur:0.9596471359910096 \n",
      " f1:0.901530728809687 \n",
      " precision:0.8988610478359909 \n",
      " recall:0.9042163153070577 \n",
      "}\n",
      "=====Epoch 87\n",
      "Training...\n"
     ]
    },
    {
     "name": "stderr",
     "output_type": "stream",
     "text": [
      "Iteration:  48%|████▊     | 30/62 [00:02<00:02, 12.45it/s]\n",
      "Iteration:  55%|█████▍    | 34/62 [00:02<00:02, 11.62it/s]\n",
      "Iteration:  61%|██████▏   | 38/62 [00:03<00:02, 11.57it/s]\n",
      "Iteration:  92%|█████████▏| 57/62 [00:04<00:00, 12.13it/s]"
     ]
    },
    {
     "name": "stdout",
     "output_type": "stream",
     "text": [
      "{'Train':  best_epoch_indx:87\n",
      " auc:0.9998186910912773 \n",
      " apur:0.9997510847988911 \n",
      " f1:0.9935762895121797 \n",
      " precision:0.992755465175394 \n",
      " recall:0.9943984723106302 \n",
      ", 'Validation':  best_epoch_indx:87\n",
      " auc:0.969372032659547 \n",
      " apur:0.9590651759931509 \n",
      " f1:0.8908554572271388 \n",
      " precision:0.9184914841849149 \n",
      " recall:0.8648339060710195 \n",
      ", 'Test':  best_epoch_indx:87\n",
      " auc:0.9715857011915675 \n",
      " apur:0.9603323629821935 \n",
      " f1:0.907446068197634 \n",
      " precision:0.9187411930483795 \n",
      " recall:0.8964252978918423 \n",
      "}\n",
      "=====Epoch 88\n",
      "Training...\n"
     ]
    },
    {
     "name": "stderr",
     "output_type": "stream",
     "text": [
      "Iteration: 100%|██████████| 62/62 [00:05<00:00, 11.98it/s]\n",
      "Iteration:  84%|████████▍ | 52/62 [00:04<00:00, 12.44it/s]"
     ]
    },
    {
     "name": "stdout",
     "output_type": "stream",
     "text": [
      "Evaluating...\n",
      "Evaluating...\n"
     ]
    },
    {
     "name": "stderr",
     "output_type": "stream",
     "text": [
      "Iteration: 100%|██████████| 62/62 [00:04<00:00, 12.53it/s]\n",
      "Iteration: 100%|██████████| 62/62 [00:05<00:00, 12.39it/s]\n",
      "Iteration:  34%|███▍      | 21/62 [00:00<00:01, 22.67it/s]"
     ]
    },
    {
     "name": "stdout",
     "output_type": "stream",
     "text": [
      "Evaluating...\n"
     ]
    },
    {
     "name": "stderr",
     "output_type": "stream",
     "text": [
      "Iteration: 100%|██████████| 62/62 [00:05<00:00, 11.59it/s]\n",
      "Iteration:  58%|█████▊    | 36/62 [00:01<00:01, 22.50it/s]"
     ]
    },
    {
     "name": "stdout",
     "output_type": "stream",
     "text": [
      "Evaluating...\n"
     ]
    },
    {
     "name": "stderr",
     "output_type": "stream",
     "text": [
      "Iteration:  68%|██████▊   | 42/62 [00:03<00:01, 12.36it/s]\n",
      "Iteration:   0%|          | 0/18 [00:00<?, ?it/s]\n",
      "Iteration:  84%|████████▍ | 52/62 [00:04<00:00, 12.31it/s]\n",
      "Iteration:  83%|████████▎ | 15/18 [00:00<00:00, 15.26it/s]\n",
      "Iteration:  87%|████████▋ | 54/62 [00:02<00:00, 21.95it/s]\n",
      "Iteration:  29%|██▊       | 2/7 [00:00<00:00, 18.77it/s]]]\n",
      "Iteration:  97%|█████████▋| 60/62 [00:02<00:00, 20.99it/s]"
     ]
    },
    {
     "name": "stdout",
     "output_type": "stream",
     "text": [
      "{'Train':  best_epoch_indx:85\n",
      " auc:0.9994399663212852 \n",
      " apur:0.9992396212436826 \n",
      " f1:0.9876684464785153 \n",
      " precision:0.9862891963945665 \n",
      " recall:0.9890515595162317 \n",
      ", 'Validation':  best_epoch_indx:85\n",
      " auc:0.9644526594698416 \n",
      " apur:0.9523932585146525 \n",
      " f1:0.8845714285714286 \n",
      " precision:0.8825541619156214 \n",
      " recall:0.8865979381443299 \n",
      ", 'Test':  best_epoch_indx:85\n",
      " auc:0.9678965719399885 \n",
      " apur:0.961005974325156 \n",
      " f1:0.8981097279852466 \n",
      " precision:0.9035250463821892 \n",
      " recall:0.8927589367552704 \n",
      "}\n",
      "=====Epoch 86\n",
      "Training...\n"
     ]
    },
    {
     "name": "stderr",
     "output_type": "stream",
     "text": [
      "\r",
      "Iteration:   3%|▎         | 2/62 [00:00<00:05, 11.36it/s]\r",
      "Iteration: 100%|██████████| 7/7 [00:00<00:00, 20.44it/s]\r",
      "Iteration: 100%|██████████| 62/62 [00:02<00:00, 21.86it/s]\n",
      "\r",
      "Iteration:   0%|          | 0/62 [00:00<?, ?it/s]\r",
      "Iteration:  67%|██████▋   | 12/18 [00:00<00:00, 20.54it/s]\r",
      "Iteration:  97%|█████████▋| 60/62 [00:04<00:00, 11.64it/s]\r",
      "Iteration:   6%|▋         | 4/62 [00:00<00:05, 10.91it/s]"
     ]
    },
    {
     "name": "stdout",
     "output_type": "stream",
     "text": [
      "{'Train':  best_epoch_indx:86\n",
      " auc:0.9997830652513191 \n",
      " apur:0.9997057064652285 \n",
      " f1:0.9921289831153993 \n",
      " precision:0.9893657424990505 \n",
      " recall:0.9949077021005729 \n",
      ", 'Validation':  best_epoch_indx:86\n",
      " auc:0.9673418993292991 \n",
      " apur:0.9544852454379447 \n",
      " f1:0.898005698005698 \n",
      " precision:0.8934240362811792 \n",
      " recall:0.9026345933562429 \n",
      ", 'Test':  best_epoch_indx:86\n",
      " auc:0.9693208525987603 \n",
      " apur:0.9602934770614273 \n",
      " f1:0.9031221303948577 \n",
      " precision:0.9047838086476541 \n",
      " recall:0.9014665444546288 \n",
      "}\n",
      "=====Epoch 87\n",
      "Training...\n",
      "Evaluating...\n"
     ]
    },
    {
     "name": "stderr",
     "output_type": "stream",
     "text": [
      "Iteration:  83%|████████▎ | 15/18 [00:00<00:00, 20.68it/s]\n",
      "Iteration: 100%|██████████| 62/62 [00:05<00:00, 12.13it/s]\n",
      "Iteration:   6%|▋         | 4/62 [00:00<00:04, 11.81it/s]]\n",
      "Iteration:  67%|██████▋   | 12/18 [00:00<00:00, 22.58it/s]\n",
      "Iteration:   0%|          | 0/62 [00:00<?, ?it/s]"
     ]
    },
    {
     "name": "stdout",
     "output_type": "stream",
     "text": [
      "{'Train':  best_epoch_indx:85\n",
      " auc:0.9995995812157856 \n",
      " apur:0.9994229472489548 \n",
      " f1:0.9899233157994803 \n",
      " precision:0.9856133266027259 \n",
      " recall:0.9942711648631445 \n",
      ", 'Validation':  best_epoch_indx:85\n",
      " auc:0.9652852503654337 \n",
      " apur:0.955559231891581 \n",
      " f1:0.8918145392100745 \n",
      " precision:0.8913043478260869 \n",
      " recall:0.8923253150057274 \n",
      ", 'Test':  best_epoch_indx:85\n",
      " auc:0.9672390726698701 \n",
      " apur:0.9593645409900622 \n",
      " f1:0.8948331047096479 \n",
      " precision:0.8927919708029197 \n",
      " recall:0.8968835930339139 \n",
      "}\n",
      "=====Epoch 86\n",
      "Training...\n"
     ]
    },
    {
     "name": "stderr",
     "output_type": "stream",
     "text": [
      "Iteration:  19%|█▉        | 12/62 [00:00<00:04, 12.28it/s]\n",
      "Iteration:  40%|████      | 25/62 [00:01<00:01, 22.20it/s]\n",
      "Iteration:  45%|████▌     | 28/62 [00:01<00:01, 22.26it/s]"
     ]
    },
    {
     "name": "stdout",
     "output_type": "stream",
     "text": [
      "{'Train':  best_epoch_indx:87\n",
      " auc:0.9999052786855783 \n",
      " apur:0.9998705260235968 \n",
      " f1:0.9947995941146626 \n",
      " precision:0.9911537975483382 \n",
      " recall:0.9984723106301718 \n",
      ", 'Validation':  best_epoch_indx:87\n",
      " auc:0.9732703129037608 \n",
      " apur:0.9679225591255409 \n",
      " f1:0.9066820276497696 \n",
      " precision:0.9119351100811124 \n",
      " recall:0.9014891179839634 \n",
      ", 'Test':  best_epoch_indx:87\n",
      " auc:0.9720876655340449 \n",
      " apur:0.9626691452348707 \n",
      " f1:0.9083048919226394 \n",
      " precision:0.9019430637144148 \n",
      " recall:0.9147571035747021 \n",
      "}\n",
      "=====Epoch 88\n",
      "Training...\n"
     ]
    },
    {
     "name": "stderr",
     "output_type": "stream",
     "text": [
      "Iteration:  48%|████▊     | 30/62 [00:02<00:02, 12.22it/s]\n",
      "Iteration: 100%|██████████| 62/62 [00:05<00:00, 11.98it/s]\n",
      "Iteration:  84%|████████▍ | 52/62 [00:04<00:00, 12.37it/s]"
     ]
    },
    {
     "name": "stdout",
     "output_type": "stream",
     "text": [
      "Evaluating...\n",
      "Evaluating...\n"
     ]
    },
    {
     "name": "stderr",
     "output_type": "stream",
     "text": [
      "Iteration: 100%|██████████| 62/62 [00:04<00:00, 12.40it/s]\n",
      "Iteration:  24%|██▍       | 15/62 [00:00<00:02, 22.53it/s]"
     ]
    },
    {
     "name": "stdout",
     "output_type": "stream",
     "text": [
      "Evaluating...\n"
     ]
    },
    {
     "name": "stderr",
     "output_type": "stream",
     "text": [
      "Iteration: 100%|██████████| 62/62 [00:05<00:00, 12.29it/s]\n",
      "Iteration: 100%|██████████| 62/62 [00:05<00:00, 11.74it/s]\n",
      "Iteration:   5%|▍         | 3/62 [00:00<00:02, 21.95it/s]]"
     ]
    },
    {
     "name": "stdout",
     "output_type": "stream",
     "text": [
      "Evaluating...\n"
     ]
    },
    {
     "name": "stderr",
     "output_type": "stream",
     "text": [
      "Iteration:  44%|████▎     | 27/62 [00:01<00:01, 22.35it/s]\n",
      "Iteration:  48%|████▊     | 30/62 [00:01<00:01, 22.43it/s]\n",
      "Iteration: 100%|██████████| 62/62 [00:02<00:00, 21.77it/s]\n",
      "Iteration: 100%|██████████| 18/18 [00:00<00:00, 23.34it/s]\n",
      "Iteration:  43%|████▎     | 3/7 [00:00<00:00, 19.09it/s]\n",
      "Iteration:  83%|████████▎ | 15/18 [00:00<00:00, 12.84it/s]\n",
      "Iteration: 100%|██████████| 7/7 [00:00<00:00, 22.65it/s]s]\n",
      "Iteration:  50%|█████     | 9/18 [00:00<00:00, 21.73it/s]\n",
      "Iteration:   0%|          | 0/7 [00:00<?, ?it/s]"
     ]
    },
    {
     "name": "stdout",
     "output_type": "stream",
     "text": [
      "{'Train':  best_epoch_indx:88\n",
      " auc:0.9999445635015859 \n",
      " apur:0.9999241907222699 \n",
      " f1:0.9958047292143403 \n",
      " precision:0.9944141170496382 \n",
      " recall:0.9971992361553151 \n",
      ", 'Validation':  best_epoch_indx:88\n",
      " auc:0.9706621387606497 \n",
      " apur:0.9589206258725873 \n",
      " f1:0.9023962594973699 \n",
      " precision:0.9212410501193318 \n",
      " recall:0.8843069873997709 \n",
      ", 'Test':  best_epoch_indx:88\n",
      " auc:0.9735491616857235 \n",
      " apur:0.9626637193820315 \n",
      " f1:0.9122322045611612 \n",
      " precision:0.9170912459471978 \n",
      " recall:0.9074243813015582 \n",
      "}\n",
      "=====Epoch 89\n",
      "Training...\n",
      "{'Train':  best_epoch_indx:87\n",
      " auc:0.9999122185972482 \n",
      " apur:0.9998792848364711 \n",
      " f1:0.9942951318458418 \n",
      " precision:0.9901527584900897 \n",
      " recall:0.9984723106301718 \n",
      ", 'Validation':  best_epoch_indx:87\n",
      " auc:0.9684912315210139 \n",
      " apur:0.9543413830629222 \n",
      " f1:0.897175141242938 \n",
      " precision:0.8851727982162765 \n",
      " recall:0.9095074455899198 \n",
      ", 'Test':  best_epoch_indx:87\n",
      " auc:0.9707739985965582 \n",
      " apur:0.9619916069453932 \n",
      " f1:0.9105467856325784 \n",
      " precision:0.9090909090909091 \n",
      " recall:0.9120073327222732 \n",
      "}\n",
      "=====Epoch 88\n",
      "Training...\n"
     ]
    },
    {
     "name": "stderr",
     "output_type": "stream",
     "text": [
      "Iteration:  10%|▉         | 6/62 [00:00<00:04, 11.72it/s]]\n",
      "Iteration:   0%|          | 0/62 [00:00<?, ?it/s]\n",
      "Iteration:  83%|████████▎ | 15/18 [00:00<00:00, 14.83it/s]"
     ]
    },
    {
     "name": "stdout",
     "output_type": "stream",
     "text": [
      "{'Train':  best_epoch_indx:86\n",
      " auc:0.9997917231104699 \n",
      " apur:0.9997182454929415 \n",
      " f1:0.9928176444416195 \n",
      " precision:0.9913683676059913 \n",
      " recall:0.9942711648631445 \n",
      ", 'Validation':  best_epoch_indx:86\n",
      " auc:0.9698869180541574 \n",
      " apur:0.9612013497424698 \n",
      " f1:0.8966304968589377 \n",
      " precision:0.8940774487471527 \n",
      " recall:0.8991981672394044 \n",
      ", 'Test':  best_epoch_indx:86\n",
      " auc:0.971736047930664 \n",
      " apur:0.9643294555466657 \n",
      " f1:0.9021612828259354 \n",
      " precision:0.9151343705799151 \n",
      " recall:0.8895508707607699 \n",
      "}\n",
      "=====Epoch 87\n",
      "Training...\n"
     ]
    },
    {
     "name": "stderr",
     "output_type": "stream",
     "text": [
      "Iteration:  16%|█▌        | 10/62 [00:00<00:04, 12.09it/s]\n",
      "Iteration: 100%|██████████| 7/7 [00:00<00:00, 20.00it/s]]]\n",
      "Iteration:  16%|█▌        | 10/62 [00:00<00:04, 12.29it/s]"
     ]
    },
    {
     "name": "stdout",
     "output_type": "stream",
     "text": [
      "{'Train':  best_epoch_indx:86\n",
      " auc:0.9996235860956066 \n",
      " apur:0.9994785944240029 \n",
      " f1:0.9887555274794693 \n",
      " precision:0.9813166144200627 \n",
      " recall:0.9963080840229154 \n",
      ", 'Validation':  best_epoch_indx:86\n",
      " auc:0.9659413917718613 \n",
      " apur:0.9495232173034964 \n",
      " f1:0.887887323943662 \n",
      " precision:0.8736141906873615 \n",
      " recall:0.9026345933562429 \n",
      ", 'Test':  best_epoch_indx:86\n",
      " auc:0.9662148524659981 \n",
      " apur:0.9558328522260835 \n",
      " f1:0.8883918586445985 \n",
      " precision:0.8676277850589778 \n",
      " recall:0.9101741521539871 \n",
      "}\n",
      "=====Epoch 87\n",
      "Training...\n"
     ]
    },
    {
     "name": "stderr",
     "output_type": "stream",
     "text": [
      "Iteration:  26%|██▌       | 16/62 [00:01<00:03, 12.34it/s]\n",
      "Iteration: 100%|██████████| 7/7 [00:00<00:00, 22.98it/s]s]\n",
      "Iteration:  29%|██▉       | 18/62 [00:01<00:03, 12.36it/s]"
     ]
    },
    {
     "name": "stdout",
     "output_type": "stream",
     "text": [
      "{'Train':  best_epoch_indx:88\n",
      " auc:0.9999398657215497 \n",
      " apur:0.9999181419634602 \n",
      " f1:0.9958127141225733 \n",
      " precision:0.9925382572404199 \n",
      " recall:0.9991088478676002 \n",
      ", 'Validation':  best_epoch_indx:88\n",
      " auc:0.9751148367986856 \n",
      " apur:0.9702847269130729 \n",
      " f1:0.9065743944636678 \n",
      " precision:0.9128919860627178 \n",
      " recall:0.9003436426116839 \n",
      ", 'Test':  best_epoch_indx:88\n",
      " auc:0.9727904619059523 \n",
      " apur:0.9633974593481156 \n",
      " f1:0.9064354176175262 \n",
      " precision:0.9027272727272727 \n",
      " recall:0.9101741521539871 \n",
      "}\n",
      "=====Epoch 89\n",
      "Training...\n"
     ]
    },
    {
     "name": "stderr",
     "output_type": "stream",
     "text": [
      "Iteration: 100%|██████████| 62/62 [00:04<00:00, 12.43it/s]\n",
      "Iteration:  94%|█████████▎| 58/62 [00:04<00:00, 12.25it/s]"
     ]
    },
    {
     "name": "stdout",
     "output_type": "stream",
     "text": [
      "Evaluating...\n",
      "Evaluating...\n"
     ]
    },
    {
     "name": "stderr",
     "output_type": "stream",
     "text": [
      "Iteration: 100%|██████████| 62/62 [00:05<00:00, 11.69it/s]\n",
      "Iteration: 100%|██████████| 62/62 [00:05<00:00, 12.23it/s]\n",
      "Iteration:  74%|███████▍  | 46/62 [00:03<00:01, 11.52it/s]"
     ]
    },
    {
     "name": "stdout",
     "output_type": "stream",
     "text": [
      "Evaluating...\n"
     ]
    },
    {
     "name": "stderr",
     "output_type": "stream",
     "text": [
      "Iteration: 100%|██████████| 62/62 [00:05<00:00, 12.24it/s]\n",
      "Iteration:  44%|████▎     | 27/62 [00:01<00:01, 19.21it/s]"
     ]
    },
    {
     "name": "stdout",
     "output_type": "stream",
     "text": [
      "Evaluating...\n"
     ]
    },
    {
     "name": "stderr",
     "output_type": "stream",
     "text": [
      "Iteration: 100%|██████████| 62/62 [00:05<00:00, 11.28it/s]\n",
      "Iteration:  68%|██████▊   | 42/62 [00:02<00:00, 20.04it/s]"
     ]
    },
    {
     "name": "stdout",
     "output_type": "stream",
     "text": [
      "Evaluating...\n"
     ]
    },
    {
     "name": "stderr",
     "output_type": "stream",
     "text": [
      "Iteration:  98%|█████████▊| 61/62 [00:03<00:00, 16.44it/s]\n",
      "Iteration:  48%|████▊     | 30/62 [00:01<00:01, 21.79it/s]\n",
      "Iteration:  87%|████████▋ | 54/62 [00:02<00:00, 21.01it/s]\n",
      "Iteration: 100%|██████████| 18/18 [00:00<00:00, 22.43it/s]\n",
      "Iteration:  82%|████████▏ | 51/62 [00:02<00:00, 21.91it/s]\n",
      "Iteration:   0%|          | 0/7 [00:00<?, ?it/s]\n",
      "Iteration: 100%|██████████| 7/7 [00:00<00:00, 21.63it/s]s]\n",
      "Iteration:  83%|████████▎ | 15/18 [00:00<00:00, 21.25it/s]\n",
      "Iteration:  97%|█████████▋| 60/62 [00:02<00:00, 21.39it/s]"
     ]
    },
    {
     "name": "stdout",
     "output_type": "stream",
     "text": [
      "{'Train':  best_epoch_indx:88\n",
      " auc:0.9999684827727061 \n",
      " apur:0.9999571454822198 \n",
      " f1:0.9966963151207116 \n",
      " precision:0.9948002536461636 \n",
      " recall:0.9985996180776575 \n",
      ", 'Validation':  best_epoch_indx:88\n",
      " auc:0.9711307423220368 \n",
      " apur:0.9574432258890091 \n",
      " f1:0.9086731763354394 \n",
      " precision:0.9112903225806451 \n",
      " recall:0.9060710194730813 \n",
      ", 'Test':  best_epoch_indx:88\n",
      " auc:0.9722570904540935 \n",
      " apur:0.9622636985931743 \n",
      " f1:0.9100993760110931 \n",
      " precision:0.9179487179487179 \n",
      " recall:0.9023831347387717 \n",
      "}\n",
      "=====Epoch 89\n",
      "Training...\n",
      "{'Train':  best_epoch_indx:87\n",
      " auc:0.9999050970019632 \n",
      " apur:0.9998680676273402 \n",
      " f1:0.9955566840167576 \n",
      " precision:0.9927838966957843 \n",
      " recall:0.9983450031826862 \n",
      ", 'Validation':  best_epoch_indx:87\n",
      " auc:0.972864382658197 \n",
      " apur:0.9645104144906242 \n",
      " f1:0.9020939445387662 \n",
      " precision:0.8914988814317674 \n",
      " recall:0.9129438717067583 \n",
      ", 'Test':  best_epoch_indx:87\n",
      " auc:0.9758454225592351 \n",
      " apur:0.9697340338662717 \n",
      " f1:0.9156956819739548 \n",
      " precision:0.9129840546697039 \n",
      " recall:0.918423464711274 \n",
      "}\n",
      "=====Epoch 88\n",
      "Training...\n"
     ]
    },
    {
     "name": "stderr",
     "output_type": "stream",
     "text": [
      "Iteration:   3%|▎         | 2/62 [00:00<00:04, 12.09it/s]]\n",
      "Iteration:   0%|          | 0/7 [00:00<?, ?it/s]\n",
      "Iteration:  33%|███▎      | 6/18 [00:00<00:00, 22.15it/s]\n",
      "Iteration:   3%|▎         | 2/62 [00:00<00:04, 12.01it/s]"
     ]
    },
    {
     "name": "stdout",
     "output_type": "stream",
     "text": [
      "{'Train':  best_epoch_indx:87\n",
      " auc:0.9998764680657385 \n",
      " apur:0.9998248342730912 \n",
      " f1:0.993916349809886 \n",
      " precision:0.9895268138801262 \n",
      " recall:0.9983450031826862 \n",
      ", 'Validation':  best_epoch_indx:87\n",
      " auc:0.9644729077718769 \n",
      " apur:0.9539425576951903 \n",
      " f1:0.8850771869639794 \n",
      " precision:0.8835616438356164 \n",
      " recall:0.8865979381443299 \n",
      ", 'Test':  best_epoch_indx:87\n",
      " auc:0.9669108592802452 \n",
      " apur:0.9573212435786378 \n",
      " f1:0.8919226393629124 \n",
      " precision:0.8856755535472209 \n",
      " recall:0.8982584784601283 \n",
      "}\n",
      "=====Epoch 88\n",
      "Training...\n"
     ]
    },
    {
     "name": "stderr",
     "output_type": "stream",
     "text": [
      "Iteration:  61%|██████▏   | 38/62 [00:03<00:02, 11.88it/s]\n",
      "Iteration:  68%|██████▊   | 42/62 [00:03<00:01, 11.87it/s]\n",
      "Iteration:  81%|████████  | 50/62 [00:04<00:00, 12.31it/s]"
     ]
    },
    {
     "name": "stdout",
     "output_type": "stream",
     "text": [
      "{'Train':  best_epoch_indx:89\n",
      " auc:0.9999522805479818 \n",
      " apur:0.9999348747478922 \n",
      " f1:0.9963132468853292 \n",
      " precision:0.9949219245905802 \n",
      " recall:0.9977084659452577 \n",
      ", 'Validation':  best_epoch_indx:89\n",
      " auc:0.9721180880974696 \n",
      " apur:0.9614394934201229 \n",
      " f1:0.9028504944735312 \n",
      " precision:0.91725768321513 \n",
      " recall:0.8888888888888888 \n",
      ", 'Test':  best_epoch_indx:89\n",
      " auc:0.9739033409391701 \n",
      " apur:0.962698966111024 \n",
      " f1:0.9118190212373039 \n",
      " precision:0.9186046511627907 \n",
      " recall:0.9051329055912007 \n",
      "}\n",
      "=====Epoch 90\n",
      "Training...\n"
     ]
    },
    {
     "name": "stderr",
     "output_type": "stream",
     "text": [
      "Iteration: 100%|██████████| 62/62 [00:05<00:00, 12.19it/s]\n",
      "Iteration:  87%|████████▋ | 54/62 [00:05<00:00, 10.33it/s]"
     ]
    },
    {
     "name": "stdout",
     "output_type": "stream",
     "text": [
      "Evaluating...\n"
     ]
    },
    {
     "name": "stderr",
     "output_type": "stream",
     "text": [
      "Iteration: 100%|██████████| 62/62 [00:05<00:00, 11.93it/s]\n",
      "Iteration:  97%|█████████▋| 60/62 [00:05<00:00, 10.82it/s]"
     ]
    },
    {
     "name": "stdout",
     "output_type": "stream",
     "text": [
      "Evaluating...\n"
     ]
    },
    {
     "name": "stderr",
     "output_type": "stream",
     "text": [
      "\r",
      "Iteration:  35%|███▌      | 22/62 [00:01<00:03, 12.27it/s]\r",
      "Iteration:   5%|▍         | 3/62 [00:00<00:02, 21.30it/s]\r",
      "Iteration:  29%|██▉       | 18/62 [00:00<00:02, 21.91it/s]\r",
      "Iteration: 100%|██████████| 62/62 [00:05<00:00, 10.99it/s]\r",
      "Iteration: 100%|██████████| 62/62 [00:05<00:00, 10.36it/s]\n",
      "\r",
      "Iteration:   0%|          | 0/62 [00:00<?, ?it/s]\n",
      "\r",
      "Iteration:   0%|          | 0/7 [00:00<?, ?it/s]\r",
      "Iteration:  10%|▉         | 6/62 [00:00<00:02, 21.23it/s]\r",
      "Iteration:  39%|███▊      | 24/62 [00:01<00:03, 12.27it/s]\r",
      "Iteration:  34%|███▍      | 21/62 [00:00<00:01, 21.92it/s]"
     ]
    },
    {
     "name": "stdout",
     "output_type": "stream",
     "text": [
      "Evaluating...\n"
     ]
    },
    {
     "name": "stderr",
     "output_type": "stream",
     "text": [
      "Iteration:  45%|████▌     | 28/62 [00:02<00:02, 12.30it/s]\n",
      "Iteration:  19%|█▉        | 12/62 [00:00<00:02, 22.05it/s]"
     ]
    },
    {
     "name": "stdout",
     "output_type": "stream",
     "text": [
      "{'Train':  best_epoch_indx:89\n",
      " auc:0.9999528656353799 \n",
      " apur:0.9999342273874504 \n",
      " f1:0.9968257998984257 \n",
      " precision:0.9941750031657591 \n",
      " recall:0.9994907702100573 \n",
      ", 'Validation':  best_epoch_indx:89\n",
      " auc:0.9753520311939555 \n",
      " apur:0.9704042819520194 \n",
      " f1:0.9095127610208816 \n",
      " precision:0.9212690951821386 \n",
      " recall:0.8980526918671249 \n",
      ", 'Test':  best_epoch_indx:89\n",
      " auc:0.9747516410669482 \n",
      " apur:0.9649687508313123 \n",
      " f1:0.9100504818724184 \n",
      " precision:0.9113051470588235 \n",
      " recall:0.9087992667277727 \n",
      "}\n",
      "=====Epoch 90\n",
      "Training...\n"
     ]
    },
    {
     "name": "stderr",
     "output_type": "stream",
     "text": [
      "Iteration:  77%|███████▋  | 48/62 [00:03<00:01, 12.34it/s]\n",
      "Iteration: 100%|██████████| 62/62 [00:02<00:00, 22.26it/s]\n",
      "Iteration: 100%|██████████| 18/18 [00:00<00:00, 23.66it/s]\n",
      "Iteration:  17%|█▋        | 3/18 [00:00<00:00, 21.30it/s]\n",
      "Iteration: 100%|██████████| 62/62 [00:05<00:00, 12.36it/s]\n",
      "Iteration: 100%|██████████| 7/7 [00:00<00:00, 23.51it/s]]]\n",
      "Iteration:   5%|▍         | 3/62 [00:00<00:02, 22.92it/s]"
     ]
    },
    {
     "name": "stdout",
     "output_type": "stream",
     "text": [
      "Evaluating...\n",
      "{'Train':  best_epoch_indx:88\n",
      " auc:0.999918780468489 \n",
      " apur:0.9998875112722458 \n",
      " f1:0.9963151207115629 \n",
      " precision:0.994419784400761 \n",
      " recall:0.9982176957352005 \n",
      ", 'Validation':  best_epoch_indx:88\n",
      " auc:0.9708033947724669 \n",
      " apur:0.9618694858392142 \n",
      " f1:0.9051178838412881 \n",
      " precision:0.9087759815242494 \n",
      " recall:0.9014891179839634 \n",
      ", 'Test':  best_epoch_indx:88\n",
      " auc:0.9760997308268545 \n",
      " apur:0.969693322185104 \n",
      " f1:0.9128419100602688 \n",
      " precision:0.9235459662288931 \n",
      " recall:0.9023831347387717 \n",
      "}\n",
      "=====Epoch 89\n",
      "Training...\n"
     ]
    },
    {
     "name": "stderr",
     "output_type": "stream",
     "text": [
      "Iteration:  61%|██████▏   | 38/62 [00:03<00:02, 11.44it/s]\n",
      "Iteration:  16%|█▌        | 10/62 [00:00<00:04, 12.47it/s]\n",
      "Iteration:  39%|███▊      | 24/62 [00:01<00:01, 23.10it/s]"
     ]
    },
    {
     "name": "stdout",
     "output_type": "stream",
     "text": [
      "{'Train':  best_epoch_indx:88\n",
      " auc:0.9999358400954621 \n",
      " apur:0.9999119869619315 \n",
      " f1:0.995243229530031 \n",
      " precision:0.9916582406471183 \n",
      " recall:0.9988542329726289 \n",
      ", 'Validation':  best_epoch_indx:88\n",
      " auc:0.9663849260069192 \n",
      " apur:0.9562589951412794 \n",
      " f1:0.8977272727272727 \n",
      " precision:0.8906426155580609 \n",
      " recall:0.9049255441008018 \n",
      ", 'Test':  best_epoch_indx:88\n",
      " auc:0.9688838430130823 \n",
      " apur:0.9608051580739612 \n",
      " f1:0.899863450159308 \n",
      " precision:0.89376130198915 \n",
      " recall:0.9060494958753437 \n",
      "}\n",
      "=====Epoch 89\n",
      "Training...\n"
     ]
    },
    {
     "name": "stderr",
     "output_type": "stream",
     "text": [
      "Iteration: 100%|██████████| 62/62 [00:05<00:00, 11.61it/s]\n",
      "Iteration:   5%|▍         | 3/62 [00:00<00:02, 21.72it/s]]"
     ]
    },
    {
     "name": "stdout",
     "output_type": "stream",
     "text": [
      "Evaluating...\n"
     ]
    },
    {
     "name": "stderr",
     "output_type": "stream",
     "text": [
      "Iteration:  39%|███▊      | 24/62 [00:02<00:03, 12.07it/s]\n",
      "Iteration:  44%|████▎     | 27/62 [00:01<00:01, 21.69it/s]\n",
      "Iteration: 100%|██████████| 7/7 [00:00<00:00, 20.06it/s]s]\n",
      "Iteration:  65%|██████▍   | 40/62 [00:03<00:01, 11.51it/s]"
     ]
    },
    {
     "name": "stdout",
     "output_type": "stream",
     "text": [
      "{'Train':  best_epoch_indx:90\n",
      " auc:0.9999618613563542 \n",
      " apur:0.9999475916741503 \n",
      " f1:0.996760053363827 \n",
      " precision:0.9948009130103982 \n",
      " recall:0.9987269255251432 \n",
      ", 'Validation':  best_epoch_indx:90\n",
      " auc:0.9714990685781064 \n",
      " apur:0.9613538439235016 \n",
      " f1:0.8990719257540604 \n",
      " precision:0.9106933019976499 \n",
      " recall:0.8877434135166093 \n",
      ", 'Test':  best_epoch_indx:90\n",
      " auc:0.9737560042220574 \n",
      " apur:0.9623155804032036 \n",
      " f1:0.9113051470588235 \n",
      " precision:0.9138248847926267 \n",
      " recall:0.9087992667277727 \n",
      "}\n",
      "=====Epoch 91\n",
      "Training...\n"
     ]
    },
    {
     "name": "stderr",
     "output_type": "stream",
     "text": [
      "Iteration: 100%|██████████| 62/62 [00:02<00:00, 21.54it/s]\n",
      "Iteration: 100%|██████████| 62/62 [00:05<00:00, 11.39it/s]\n",
      "Iteration:  43%|████▎     | 3/7 [00:00<00:00, 22.67it/s]s]\n",
      "Iteration:  86%|████████▌ | 6/7 [00:00<00:00, 22.38it/s]s]"
     ]
    },
    {
     "name": "stdout",
     "output_type": "stream",
     "text": [
      "Evaluating...\n"
     ]
    },
    {
     "name": "stderr",
     "output_type": "stream",
     "text": [
      "\r",
      "Iteration:  17%|█▋        | 3/18 [00:00<00:00, 22.31it/s]\r",
      "Iteration: 100%|██████████| 7/7 [00:00<00:00, 22.67it/s]\n",
      "\r",
      "Iteration:   0%|          | 0/62 [00:00<?, ?it/s]\r",
      "Iteration:  90%|█████████ | 56/62 [00:04<00:00, 11.14it/s]\r",
      "Iteration:  10%|▉         | 6/62 [00:00<00:02, 21.50it/s]\r",
      "Iteration:  32%|███▏      | 20/62 [00:01<00:03, 12.16it/s]\r",
      "Iteration:  33%|███▎      | 6/18 [00:00<00:00, 22.31it/s]"
     ]
    },
    {
     "name": "stdout",
     "output_type": "stream",
     "text": [
      "{'Train':  best_epoch_indx:89\n",
      " auc:0.9999794688457001 \n",
      " apur:0.9999719910411615 \n",
      " f1:0.9970771381369933 \n",
      " precision:0.9953063554484334 \n",
      " recall:0.9988542329726289 \n",
      ", 'Validation':  best_epoch_indx:89\n",
      " auc:0.970854015527555 \n",
      " apur:0.9581379575241252 \n",
      " f1:0.8998282770463653 \n",
      " precision:0.8993135011441648 \n",
      " recall:0.9003436426116839 \n",
      ", 'Test':  best_epoch_indx:89\n",
      " auc:0.9734380995925203 \n",
      " apur:0.9642506487033929 \n",
      " f1:0.9132040627885503 \n",
      " precision:0.92 \n",
      " recall:0.9065077910174152 \n",
      "}\n",
      "=====Epoch 90\n",
      "Training...\n"
     ]
    },
    {
     "name": "stderr",
     "output_type": "stream",
     "text": [
      "Iteration: 100%|██████████| 62/62 [00:05<00:00, 11.52it/s]\n",
      "Iteration: 100%|██████████| 18/18 [00:00<00:00, 23.36it/s]"
     ]
    },
    {
     "name": "stdout",
     "output_type": "stream",
     "text": [
      "Evaluating...\n"
     ]
    },
    {
     "name": "stderr",
     "output_type": "stream",
     "text": [
      "Iteration:  13%|█▎        | 8/62 [00:00<00:04, 12.34it/s]\n",
      "Iteration: 100%|██████████| 7/7 [00:00<00:00, 22.80it/s]s]\n",
      "Iteration:   0%|          | 0/62 [00:00<?, ?it/s]"
     ]
    },
    {
     "name": "stdout",
     "output_type": "stream",
     "text": [
      "{'Train':  best_epoch_indx:90\n",
      " auc:0.9999532229394705 \n",
      " apur:0.9999356943531967 \n",
      " f1:0.9961938594265415 \n",
      " precision:0.9927930206094323 \n",
      " recall:0.999618077657543 \n",
      ", 'Validation':  best_epoch_indx:90\n",
      " auc:0.97429333425897 \n",
      " apur:0.9687678602798834 \n",
      " f1:0.9091947458595089 \n",
      " precision:0.9066059225512528 \n",
      " recall:0.9117983963344788 \n",
      ", 'Test':  best_epoch_indx:90\n",
      " auc:0.9742756004900827 \n",
      " apur:0.9649149728641053 \n",
      " f1:0.9107789855072465 \n",
      " precision:0.9001790510295434 \n",
      " recall:0.9216315307057745 \n",
      "}\n",
      "=====Epoch 91\n",
      "Training...\n"
     ]
    },
    {
     "name": "stderr",
     "output_type": "stream",
     "text": [
      "Iteration:  84%|████████▍ | 52/62 [00:04<00:00, 12.38it/s]\n",
      "Iteration: 100%|██████████| 62/62 [00:05<00:00, 12.28it/s]\n",
      "Iteration:   0%|          | 0/62 [00:00<?, ?it/s]\n",
      "Iteration:   0%|          | 0/18 [00:00<?, ?it/s]\n",
      "Iteration:   0%|          | 0/7 [00:00<?, ?it/s]"
     ]
    },
    {
     "name": "stdout",
     "output_type": "stream",
     "text": [
      "Evaluating...\n"
     ]
    },
    {
     "name": "stderr",
     "output_type": "stream",
     "text": [
      "Iteration:  77%|███████▋  | 48/62 [00:03<00:01, 12.42it/s]\n",
      "Iteration:  50%|█████     | 9/18 [00:00<00:00, 22.14it/s]]"
     ]
    },
    {
     "name": "stdout",
     "output_type": "stream",
     "text": [
      "{'Train':  best_epoch_indx:89\n",
      " auc:0.9999559723448685 \n",
      " apur:0.9999394131081364 \n",
      " f1:0.9972679331596671 \n",
      " precision:0.9954337899543378 \n",
      " recall:0.9991088478676002 \n",
      ", 'Validation':  best_epoch_indx:89\n",
      " auc:0.973479545358125 \n",
      " apur:0.9661153627019324 \n",
      " f1:0.9103369503141062 \n",
      " precision:0.907744874715262 \n",
      " recall:0.9129438717067583 \n",
      ", 'Test':  best_epoch_indx:89\n",
      " auc:0.9776592309347524 \n",
      " apur:0.9719437119742754 \n",
      " f1:0.9187688035177042 \n",
      " precision:0.9280037400654512 \n",
      " recall:0.9097158570119157 \n",
      "}\n",
      "=====Epoch 90\n",
      "Training...\n"
     ]
    },
    {
     "name": "stderr",
     "output_type": "stream",
     "text": [
      "Iteration:  87%|████████▋ | 54/62 [00:04<00:00, 12.40it/s]\n",
      "Iteration:  16%|█▌        | 10/62 [00:00<00:04, 12.25it/s]\n",
      "Iteration:   3%|▎         | 2/62 [00:00<00:04, 12.23it/s]]"
     ]
    },
    {
     "name": "stdout",
     "output_type": "stream",
     "text": [
      "{'Train':  best_epoch_indx:89\n",
      " auc:0.9999664491458914 \n",
      " apur:0.9999540389402843 \n",
      " f1:0.996445347213406 \n",
      " precision:0.9936700848208634 \n",
      " recall:0.9992361553150859 \n",
      ", 'Validation':  best_epoch_indx:89\n",
      " auc:0.9673110447738168 \n",
      " apur:0.9571391847912329 \n",
      " f1:0.8938356164383562 \n",
      " precision:0.8907849829351536 \n",
      " recall:0.8969072164948454 \n",
      ", 'Test':  best_epoch_indx:89\n",
      " auc:0.9698571415345018 \n",
      " apur:0.9612613334751757 \n",
      " f1:0.9017367458866544 \n",
      " precision:0.8992707383773929 \n",
      " recall:0.9042163153070577 \n",
      "}\n",
      "=====Epoch 90\n",
      "Training...\n"
     ]
    },
    {
     "name": "stderr",
     "output_type": "stream",
     "text": [
      "\r",
      "Iteration:  53%|█████▎    | 33/62 [00:01<00:01, 22.53it/s]\r",
      "Iteration: 100%|██████████| 62/62 [00:04<00:00, 12.62it/s]\r",
      "Iteration: 100%|██████████| 62/62 [00:04<00:00, 12.42it/s]\n",
      "\r",
      "Iteration:   0%|          | 0/62 [00:00<?, ?it/s]\r",
      "Iteration:  81%|████████  | 50/62 [00:04<00:00, 12.55it/s]\r",
      "Iteration:  23%|██▎       | 14/62 [00:01<00:03, 12.26it/s]\r",
      "Iteration:   6%|▋         | 4/62 [00:00<00:04, 12.25it/s]\r",
      "Iteration:  58%|█████▊    | 36/62 [00:01<00:01, 22.54it/s]\r",
      "Iteration:   5%|▍         | 3/62 [00:00<00:02, 22.12it/s]"
     ]
    },
    {
     "name": "stdout",
     "output_type": "stream",
     "text": [
      "Evaluating...\n"
     ]
    },
    {
     "name": "stderr",
     "output_type": "stream",
     "text": [
      "Iteration: 100%|██████████| 62/62 [00:04<00:00, 12.52it/s]\n",
      "Iteration:  42%|████▏     | 26/62 [00:02<00:02, 12.27it/s]"
     ]
    },
    {
     "name": "stdout",
     "output_type": "stream",
     "text": [
      "Evaluating...\n"
     ]
    },
    {
     "name": "stderr",
     "output_type": "stream",
     "text": [
      "Iteration:  15%|█▍        | 9/62 [00:00<00:02, 22.38it/s]]\n",
      "Iteration:  44%|████▎     | 27/62 [00:01<00:01, 22.32it/s]\n",
      "Iteration:  92%|█████████▏| 57/62 [00:02<00:00, 22.24it/s]\n",
      "Iteration:  74%|███████▍  | 46/62 [00:03<00:01, 12.18it/s]"
     ]
    },
    {
     "name": "stdout",
     "output_type": "stream",
     "text": [
      "{'Train':  best_epoch_indx:91\n",
      " auc:0.9999493390194946 \n",
      " apur:0.9999306732265585 \n",
      " f1:0.9962523026106841 \n",
      " precision:0.9941683569979716 \n",
      " recall:0.9983450031826862 \n",
      ", 'Validation':  best_epoch_indx:91\n",
      " auc:0.9715694555328003 \n",
      " apur:0.960970766018521 \n",
      " f1:0.9053117782909931 \n",
      " precision:0.9126891734575088 \n",
      " recall:0.8980526918671249 \n",
      ", 'Test':  best_epoch_indx:91\n",
      " auc:0.97350455161632 \n",
      " apur:0.9625663103851632 \n",
      " f1:0.9105952654562169 \n",
      " precision:0.913324112494237 \n",
      " recall:0.9078826764436297 \n",
      "}\n",
      "=====Epoch 92\n",
      "Training...\n"
     ]
    },
    {
     "name": "stderr",
     "output_type": "stream",
     "text": [
      "Iteration:  68%|██████▊   | 42/62 [00:01<00:00, 22.27it/s]\n",
      "Iteration: 100%|██████████| 62/62 [00:02<00:00, 22.32it/s]\n",
      "Iteration:  97%|█████████▋| 60/62 [00:04<00:00, 11.57it/s]\n",
      "Iteration: 100%|██████████| 62/62 [00:05<00:00, 12.08it/s]\n",
      "Iteration:  17%|█▋        | 3/18 [00:00<00:00, 22.54it/s]"
     ]
    },
    {
     "name": "stdout",
     "output_type": "stream",
     "text": [
      "Evaluating...\n",
      "{'Train':  best_epoch_indx:90\n",
      " auc:0.9999790401209004 \n",
      " apur:0.9999714226209859 \n",
      " f1:0.9972679331596671 \n",
      " precision:0.9954337899543378 \n",
      " recall:0.9991088478676002 \n",
      ", 'Validation':  best_epoch_indx:90\n",
      " auc:0.9713486526201305 \n",
      " apur:0.9570748621283466 \n",
      " f1:0.904487917146145 \n",
      " precision:0.9086705202312139 \n",
      " recall:0.9003436426116839 \n",
      ", 'Test':  best_epoch_indx:90\n",
      " auc:0.973220606209166 \n",
      " apur:0.9630204356593247 \n",
      " f1:0.9110189027201476 \n",
      " precision:0.9165120593692022 \n",
      " recall:0.9055912007332723 \n",
      "}\n",
      "=====Epoch 91\n",
      "Training...\n"
     ]
    },
    {
     "name": "stderr",
     "output_type": "stream",
     "text": [
      "Iteration:  26%|██▌       | 16/62 [00:01<00:03, 11.61it/s]\n",
      "Iteration:  24%|██▍       | 15/62 [00:00<00:02, 21.94it/s]\n",
      "Iteration: 100%|██████████| 62/62 [00:05<00:00, 12.25it/s]\n",
      "Iteration:  42%|████▏     | 26/62 [00:02<00:02, 12.11it/s]"
     ]
    },
    {
     "name": "stdout",
     "output_type": "stream",
     "text": [
      "Evaluating...\n"
     ]
    },
    {
     "name": "stderr",
     "output_type": "stream",
     "text": [
      "\r",
      "Iteration:  34%|███▍      | 21/62 [00:00<00:01, 21.94it/s]\r",
      "Iteration:  86%|████████▌ | 6/7 [00:00<00:00, 22.59it/s]\r",
      "Iteration:  10%|▉         | 6/62 [00:00<00:02, 21.75it/s]\r",
      "Iteration: 100%|██████████| 7/7 [00:00<00:00, 22.83it/s]\r",
      "Iteration:  19%|█▉        | 12/62 [00:00<00:04, 12.46it/s]\n",
      "\r",
      "Iteration:   0%|          | 0/62 [00:00<?, ?it/s]\r",
      "Iteration:  45%|████▌     | 28/62 [00:02<00:02, 12.15it/s]\r",
      "Iteration:  39%|███▊      | 24/62 [00:01<00:01, 21.92it/s]"
     ]
    },
    {
     "name": "stdout",
     "output_type": "stream",
     "text": [
      "{'Train':  best_epoch_indx:91\n",
      " auc:0.9999622567778946 \n",
      " apur:0.9999477730072435 \n",
      " f1:0.9966351342771888 \n",
      " precision:0.9940476190476191 \n",
      " recall:0.9992361553150859 \n",
      ", 'Validation':  best_epoch_indx:91\n",
      " auc:0.974854501486804 \n",
      " apur:0.9698909825537717 \n",
      " f1:0.9097182288671651 \n",
      " precision:0.9133949191685913 \n",
      " recall:0.9060710194730813 \n",
      ", 'Test':  best_epoch_indx:91\n",
      " auc:0.9731478395318909 \n",
      " apur:0.9631683052301488 \n",
      " f1:0.9091738931994523 \n",
      " precision:0.9054545454545454 \n",
      " recall:0.9129239230064161 \n",
      "}\n",
      "=====Epoch 92\n",
      "Training...\n"
     ]
    },
    {
     "name": "stderr",
     "output_type": "stream",
     "text": [
      "Iteration:  77%|███████▋  | 48/62 [00:02<00:00, 22.12it/s]\n",
      "Iteration:  97%|█████████▋| 60/62 [00:05<00:00, 12.33it/s]\n",
      "Iteration:  52%|█████▏    | 32/62 [00:02<00:02, 12.56it/s]\n",
      "Iteration: 100%|██████████| 62/62 [00:05<00:00, 11.69it/s]\n",
      "Iteration:  17%|█▋        | 3/18 [00:00<00:00, 21.83it/s]"
     ]
    },
    {
     "name": "stdout",
     "output_type": "stream",
     "text": [
      "Evaluating...\n"
     ]
    },
    {
     "name": "stderr",
     "output_type": "stream",
     "text": [
      "Iteration: 100%|██████████| 7/7 [00:00<00:00, 22.00it/s]]]\n",
      "Iteration:  61%|██████▏   | 38/62 [00:03<00:01, 12.25it/s]"
     ]
    },
    {
     "name": "stdout",
     "output_type": "stream",
     "text": [
      "{'Train':  best_epoch_indx:90\n",
      " auc:0.9999678932761065 \n",
      " apur:0.9999562788257457 \n",
      " f1:0.9976485541785828 \n",
      " precision:0.9960659898477158 \n",
      " recall:0.9992361553150859 \n",
      ", 'Validation':  best_epoch_indx:90\n",
      " auc:0.9723485330587276 \n",
      " apur:0.9647082489279313 \n",
      " f1:0.9054441260744985 \n",
      " precision:0.9059633027522935 \n",
      " recall:0.9049255441008018 \n",
      ", 'Test':  best_epoch_indx:90\n",
      " auc:0.9767059029463946 \n",
      " apur:0.9711681674770094 \n",
      " f1:0.9158964879852126 \n",
      " precision:0.923578751164958 \n",
      " recall:0.9083409715857012 \n",
      "}\n",
      "=====Epoch 91\n",
      "Training...\n"
     ]
    },
    {
     "name": "stderr",
     "output_type": "stream",
     "text": [
      "Iteration:  68%|██████▊   | 42/62 [00:03<00:01, 12.14it/s]\n",
      "Iteration:  39%|███▊      | 24/62 [00:01<00:01, 21.62it/s]\n",
      "Iteration:  15%|█▍        | 9/62 [00:00<00:04, 11.18it/s]"
     ]
    },
    {
     "name": "stdout",
     "output_type": "stream",
     "text": [
      "{'Train':  best_epoch_indx:90\n",
      " auc:0.9999750006237934 \n",
      " apur:0.9999657826635935 \n",
      " f1:0.9962565827041431 \n",
      " precision:0.993043258284847 \n",
      " recall:0.9994907702100573 \n",
      ", 'Validation':  best_epoch_indx:90\n",
      " auc:0.9669046324258237 \n",
      " apur:0.9552865099991418 \n",
      " f1:0.8947368421052633 \n",
      " precision:0.8937142857142857 \n",
      " recall:0.8957617411225659 \n",
      ", 'Test':  best_epoch_indx:90\n",
      " auc:0.9698548269125722 \n",
      " apur:0.9609628767966854 \n",
      " f1:0.9015047879616963 \n",
      " precision:0.897005444646098 \n",
      " recall:0.9060494958753437 \n",
      "}\n",
      "=====Epoch 91\n",
      "Training...\n",
      "Evaluating...\n"
     ]
    },
    {
     "name": "stderr",
     "output_type": "stream",
     "text": [
      "Iteration: 100%|██████████| 62/62 [00:04<00:00, 12.41it/s]\n",
      "Iteration: 100%|██████████| 62/62 [00:05<00:00, 12.02it/s]\n",
      "Iteration:   5%|▍         | 3/62 [00:00<00:02, 21.98it/s]]"
     ]
    },
    {
     "name": "stdout",
     "output_type": "stream",
     "text": [
      "Evaluating...\n"
     ]
    },
    {
     "name": "stderr",
     "output_type": "stream",
     "text": [
      "Iteration:  35%|███▌      | 22/62 [00:01<00:03, 12.18it/s]\n",
      "Iteration:  92%|█████████▏| 57/62 [00:02<00:00, 21.48it/s]\n",
      "Iteration:  63%|██████▎   | 39/62 [00:01<00:01, 21.41it/s]\n",
      "Iteration:  69%|██████▉   | 43/62 [00:03<00:01, 10.53it/s]\n",
      "Iteration:  61%|██████▏   | 38/62 [00:03<00:02, 11.89it/s]"
     ]
    },
    {
     "name": "stdout",
     "output_type": "stream",
     "text": [
      "{'Train':  best_epoch_indx:92\n",
      " auc:0.9998622245219867 \n",
      " apur:0.9998115095524013 \n",
      " f1:0.9937194696441033 \n",
      " precision:0.9903894790085989 \n",
      " recall:0.9970719287078295 \n",
      ", 'Validation':  best_epoch_indx:92\n",
      " auc:0.9715834365032532 \n",
      " apur:0.9606778756891151 \n",
      " f1:0.9045691150954309 \n",
      " precision:0.9135514018691588 \n",
      " recall:0.8957617411225659 \n",
      ", 'Test':  best_epoch_indx:92\n",
      " auc:0.9704351009931838 \n",
      " apur:0.9594759590438168 \n",
      " f1:0.9024558182235484 \n",
      " precision:0.9039080459770115 \n",
      " recall:0.9010082493125573 \n",
      "}\n",
      "=====Epoch 93\n",
      "Training...\n"
     ]
    },
    {
     "name": "stderr",
     "output_type": "stream",
     "text": [
      "Iteration:  77%|███████▋  | 48/62 [00:03<00:01, 11.94it/s]\n",
      "Iteration:  89%|████████▊ | 55/62 [00:05<00:00, 10.39it/s]\n",
      "Iteration: 100%|██████████| 7/7 [00:00<00:00, 20.07it/s]s]\n",
      "Iteration:  87%|████████▋ | 54/62 [00:04<00:00, 11.82it/s]"
     ]
    },
    {
     "name": "stdout",
     "output_type": "stream",
     "text": [
      "{'Train':  best_epoch_indx:91\n",
      " auc:0.999977861127701 \n",
      " apur:0.9999699649011621 \n",
      " f1:0.9968886913454823 \n",
      " precision:0.9944261464403344 \n",
      " recall:0.9993634627625716 \n",
      ", 'Validation':  best_epoch_indx:91\n",
      " auc:0.9715101569339828 \n",
      " apur:0.9576917996422558 \n",
      " f1:0.902247191011236 \n",
      " precision:0.8853362734288864 \n",
      " recall:0.9198167239404352 \n",
      ", 'Test':  best_epoch_indx:91\n",
      " auc:0.9724039640909008 \n",
      " apur:0.9619205948676767 \n",
      " f1:0.9117848187827673 \n",
      " precision:0.9070294784580499 \n",
      " recall:0.916590284142988 \n",
      "}\n",
      "=====Epoch 92\n",
      "Training...\n"
     ]
    },
    {
     "name": "stderr",
     "output_type": "stream",
     "text": [
      "Iteration: 100%|██████████| 62/62 [00:05<00:00, 10.86it/s]\n",
      "Iteration:  83%|████████▎ | 15/18 [00:00<00:00, 21.88it/s]"
     ]
    },
    {
     "name": "stdout",
     "output_type": "stream",
     "text": [
      "Evaluating...\n"
     ]
    },
    {
     "name": "stderr",
     "output_type": "stream",
     "text": [
      "\r",
      "Iteration:  97%|█████████▋| 60/62 [00:04<00:00, 11.87it/s]\r",
      "Iteration:   3%|▎         | 2/62 [00:00<00:03, 18.17it/s]\r",
      "Iteration:  10%|▉         | 6/62 [00:00<00:06,  8.90it/s]\r",
      "Iteration: 100%|██████████| 18/18 [00:00<00:00, 23.18it/s]\r",
      "Iteration: 100%|██████████| 18/18 [00:00<00:00, 22.34it/s]\r",
      "Iteration:  42%|████▏     | 26/62 [00:02<00:02, 12.77it/s]\r",
      "Iteration:   6%|▋         | 4/62 [00:00<00:03, 18.33it/s]\r",
      "Iteration: 100%|██████████| 62/62 [00:05<00:00, 12.07it/s]\r",
      "Iteration: 100%|██████████| 62/62 [00:05<00:00, 12.04it/s]\n",
      "\r",
      "Iteration:   0%|          | 0/62 [00:00<?, ?it/s]"
     ]
    },
    {
     "name": "stdout",
     "output_type": "stream",
     "text": [
      "Evaluating...\n"
     ]
    },
    {
     "name": "stderr",
     "output_type": "stream",
     "text": [
      "\n",
      "Iteration: 100%|██████████| 7/7 [00:00<00:00, 21.79it/s]s]\n",
      "Iteration:  15%|█▍        | 9/62 [00:00<00:02, 20.87it/s]]"
     ]
    },
    {
     "name": "stdout",
     "output_type": "stream",
     "text": [
      "{'Train':  best_epoch_indx:92\n",
      " auc:0.999897930131448 \n",
      " apur:0.9998552330583323 \n",
      " f1:0.993672487977727 \n",
      " precision:0.9877972071958737 \n",
      " recall:0.999618077657543 \n",
      ", 'Validation':  best_epoch_indx:92\n",
      " auc:0.9717743490652998 \n",
      " apur:0.9659168385067435 \n",
      " f1:0.9035532994923858 \n",
      " precision:0.89 \n",
      " recall:0.9175257731958762 \n",
      ", 'Test':  best_epoch_indx:92\n",
      " auc:0.972661383156342 \n",
      " apur:0.9632151963266732 \n",
      " f1:0.9044183949504058 \n",
      " precision:0.8899733806566105 \n",
      " recall:0.919340054995417 \n",
      "}\n",
      "=====Epoch 93\n",
      "Training...\n"
     ]
    },
    {
     "name": "stderr",
     "output_type": "stream",
     "text": [
      "Iteration:  97%|█████████▋| 60/62 [00:04<00:00, 12.71it/s]\n",
      "Iteration: 100%|██████████| 62/62 [00:04<00:00, 12.72it/s]\n",
      "Iteration:   5%|▍         | 3/62 [00:00<00:02, 22.33it/s]]"
     ]
    },
    {
     "name": "stdout",
     "output_type": "stream",
     "text": [
      "Evaluating...\n"
     ]
    },
    {
     "name": "stderr",
     "output_type": "stream",
     "text": [
      "Iteration:  10%|▉         | 6/62 [00:00<00:02, 22.67it/s]]\n",
      "Iteration:  24%|██▍       | 15/62 [00:00<00:02, 22.80it/s]\n",
      "Iteration:  87%|████████▋ | 54/62 [00:04<00:00, 12.31it/s]\n",
      "Iteration:  39%|███▊      | 24/62 [00:01<00:01, 22.38it/s]"
     ]
    },
    {
     "name": "stdout",
     "output_type": "stream",
     "text": [
      "{'Train':  best_epoch_indx:91\n",
      " auc:0.9999293437711944 \n",
      " apur:0.9999038588010578 \n",
      " f1:0.9955566840167576 \n",
      " precision:0.9927838966957843 \n",
      " recall:0.9983450031826862 \n",
      ", 'Validation':  best_epoch_indx:91\n",
      " auc:0.9725934410928685 \n",
      " apur:0.9649175057392708 \n",
      " f1:0.9071225071225071 \n",
      " precision:0.9024943310657596 \n",
      " recall:0.9117983963344788 \n",
      ", 'Test':  best_epoch_indx:91\n",
      " auc:0.9757029481853272 \n",
      " apur:0.9698540575113271 \n",
      " f1:0.9139685476410732 \n",
      " precision:0.9225023342670402 \n",
      " recall:0.9055912007332723 \n",
      "}\n",
      "=====Epoch 92\n",
      "Training...\n"
     ]
    },
    {
     "name": "stderr",
     "output_type": "stream",
     "text": [
      "Iteration: 100%|██████████| 18/18 [00:00<00:00, 22.59it/s]\n",
      "Iteration:  77%|███████▋  | 48/62 [00:03<00:01, 12.31it/s]\n",
      "Iteration: 100%|██████████| 62/62 [00:05<00:00, 11.81it/s]\n",
      "Iteration:   0%|          | 0/62 [00:00<?, ?it/s]"
     ]
    },
    {
     "name": "stdout",
     "output_type": "stream",
     "text": [
      "{'Train':  best_epoch_indx:91\n",
      " auc:0.9999483576487699 \n",
      " apur:0.9999293810020804 \n",
      " f1:0.9955595026642984 \n",
      " precision:0.9921608294348211 \n",
      " recall:0.9989815404201146 \n",
      ", 'Validation':  best_epoch_indx:91\n",
      " auc:0.9696868455459521 \n",
      " apur:0.9593213752704004 \n",
      " f1:0.8999428244711263 \n",
      " precision:0.8984018264840182 \n",
      " recall:0.9014891179839634 \n",
      ", 'Test':  best_epoch_indx:91\n",
      " auc:0.9690737963194426 \n",
      " apur:0.9597176123188725 \n",
      " f1:0.8953117888029131 \n",
      " precision:0.8892405063291139 \n",
      " recall:0.9014665444546288 \n",
      "}\n",
      "=====Epoch 92\n",
      "Training...\n",
      "Evaluating...\n"
     ]
    },
    {
     "name": "stderr",
     "output_type": "stream",
     "text": [
      "Iteration: 100%|██████████| 62/62 [00:05<00:00, 12.35it/s]\n",
      "Iteration:   0%|          | 0/62 [00:00<?, ?it/s]"
     ]
    },
    {
     "name": "stdout",
     "output_type": "stream",
     "text": [
      "Evaluating...\n"
     ]
    },
    {
     "name": "stderr",
     "output_type": "stream",
     "text": [
      "Iteration:  29%|██▉       | 18/62 [00:01<00:04, 10.71it/s]\n",
      "Iteration: 100%|██████████| 18/18 [00:00<00:00, 23.37it/s]\n",
      "Iteration:  53%|█████▎    | 33/62 [00:01<00:01, 21.87it/s]\n",
      "Iteration:  58%|█████▊    | 36/62 [00:01<00:01, 22.10it/s]"
     ]
    },
    {
     "name": "stdout",
     "output_type": "stream",
     "text": [
      "{'Train':  best_epoch_indx:93\n",
      " auc:0.9997783909600992 \n",
      " apur:0.9996973101973436 \n",
      " f1:0.9914931437277806 \n",
      " precision:0.9888565277953654 \n",
      " recall:0.9941438574156588 \n",
      ", 'Validation':  best_epoch_indx:93\n",
      " auc:0.9662827202918841 \n",
      " apur:0.9522711172792448 \n",
      " f1:0.8947062245491565 \n",
      " precision:0.9089834515366431 \n",
      " recall:0.8808705612829324 \n",
      ", 'Test':  best_epoch_indx:93\n",
      " auc:0.96879973289528 \n",
      " apur:0.9565861386769011 \n",
      " f1:0.9028127143837182 \n",
      " precision:0.9009584664536742 \n",
      " recall:0.9046746104491292 \n",
      "}\n",
      "=====Epoch 94\n",
      "Training...\n"
     ]
    },
    {
     "name": "stderr",
     "output_type": "stream",
     "text": [
      "Iteration:  10%|▉         | 6/62 [00:00<00:04, 12.38it/s]]\n",
      "Iteration:  74%|███████▍  | 46/62 [00:03<00:01, 12.06it/s]\n",
      "Iteration:  26%|██▌       | 16/62 [00:01<00:04, 11.26it/s]\n",
      "Iteration:  81%|████████  | 50/62 [00:04<00:00, 12.01it/s]\n",
      "Iteration:  35%|███▌      | 22/62 [00:01<00:03, 11.97it/s]"
     ]
    },
    {
     "name": "stdout",
     "output_type": "stream",
     "text": [
      "{'Train':  best_epoch_indx:92\n",
      " auc:0.9998461235239511 \n",
      " apur:0.9997891820998793 \n",
      " f1:0.992744399185336 \n",
      " precision:0.9926180476008655 \n",
      " recall:0.992870782940802 \n",
      ", 'Validation':  best_epoch_indx:92\n",
      " auc:0.9655788507449447 \n",
      " apur:0.9503703605097085 \n",
      " f1:0.8930232558139535 \n",
      " precision:0.9067296340023613 \n",
      " recall:0.8797250859106529 \n",
      ", 'Test':  best_epoch_indx:92\n",
      " auc:0.9681514976480151 \n",
      " apur:0.9576228654347971 \n",
      " f1:0.8966161026837807 \n",
      " precision:0.9134569662387066 \n",
      " recall:0.8803849679193401 \n",
      "}\n",
      "=====Epoch 93\n",
      "Training...\n"
     ]
    },
    {
     "name": "stderr",
     "output_type": "stream",
     "text": [
      "Iteration:  87%|████████▋ | 54/62 [00:05<00:00, 10.14it/s]\n",
      "Iteration: 100%|██████████| 62/62 [00:05<00:00, 11.75it/s]\n",
      "Iteration:   0%|          | 0/62 [00:00<?, ?it/s]\n",
      "Iteration:  94%|█████████▎| 58/62 [00:05<00:00, 10.18it/s]"
     ]
    },
    {
     "name": "stdout",
     "output_type": "stream",
     "text": [
      "Evaluating...\n",
      "{'Train':  best_epoch_indx:93\n",
      " auc:0.999710113236217 \n",
      " apur:0.9996118540926185 \n",
      " f1:0.9916830677417307 \n",
      " precision:0.9891084093211753 \n",
      " recall:0.9942711648631445 \n",
      ", 'Validation':  best_epoch_indx:93\n",
      " auc:0.9741689518321821 \n",
      " apur:0.9694349235086006 \n",
      " f1:0.912743972445465 \n",
      " precision:0.9148446490218642 \n",
      " recall:0.9106529209621993 \n",
      ", 'Test':  best_epoch_indx:93\n",
      " auc:0.9683564949834427 \n",
      " apur:0.9559999926209524 \n",
      " f1:0.9003200731595792 \n",
      " precision:0.8982664233576643 \n",
      " recall:0.9023831347387717 \n",
      "}\n",
      "=====Epoch 94\n",
      "Training...\n"
     ]
    },
    {
     "name": "stderr",
     "output_type": "stream",
     "text": [
      "Iteration: 100%|██████████| 62/62 [00:06<00:00, 10.05it/s]\n",
      "Iteration:   3%|▎         | 2/62 [00:00<00:03, 17.83it/s]]"
     ]
    },
    {
     "name": "stdout",
     "output_type": "stream",
     "text": [
      "Evaluating...\n"
     ]
    },
    {
     "name": "stderr",
     "output_type": "stream",
     "text": [
      "Iteration: 100%|██████████| 62/62 [00:05<00:00, 12.17it/s]\n",
      "Iteration:  92%|█████████▏| 57/62 [00:02<00:00, 21.96it/s]"
     ]
    },
    {
     "name": "stdout",
     "output_type": "stream",
     "text": [
      "Evaluating...\n"
     ]
    },
    {
     "name": "stderr",
     "output_type": "stream",
     "text": [
      "Iteration:  89%|████████▊ | 55/62 [00:02<00:00, 22.00it/s]\n",
      "Iteration:  34%|███▍      | 21/62 [00:00<00:01, 22.29it/s]\n",
      "Iteration:  97%|█████████▋| 60/62 [00:04<00:00, 12.43it/s]\n",
      "Iteration: 100%|██████████| 62/62 [00:04<00:00, 12.46it/s]\n",
      "Iteration: 100%|██████████| 7/7 [00:00<00:00, 22.18it/s]s]"
     ]
    },
    {
     "name": "stdout",
     "output_type": "stream",
     "text": [
      "Evaluating...\n"
     ]
    },
    {
     "name": "stderr",
     "output_type": "stream",
     "text": [
      "\r",
      "Iteration: 100%|██████████| 18/18 [00:00<00:00, 23.84it/s]\r",
      "Iteration: 100%|██████████| 18/18 [00:00<00:00, 23.07it/s]\r",
      "Iteration:  63%|██████▎   | 39/62 [00:01<00:01, 22.16it/s]\n",
      "\r",
      "Iteration:   0%|          | 0/62 [00:00<?, ?it/s]\r",
      "Iteration:  10%|▉         | 6/62 [00:00<00:02, 22.11it/s]\n",
      "\r",
      "Iteration:   0%|          | 0/7 [00:00<?, ?it/s]\r",
      "Iteration:  87%|████████▋ | 54/62 [00:04<00:00, 12.39it/s]\r",
      "Iteration:  68%|██████▊   | 42/62 [00:01<00:00, 22.14it/s]\r",
      "Iteration:   3%|▎         | 2/62 [00:00<00:04, 12.19it/s]"
     ]
    },
    {
     "name": "stdout",
     "output_type": "stream",
     "text": [
      "{'Train':  best_epoch_indx:92\n",
      " auc:0.9999154975825698 \n",
      " apur:0.9998843965714926 \n",
      " f1:0.9947324998413404 \n",
      " precision:0.9917742343710453 \n",
      " recall:0.9977084659452577 \n",
      ", 'Validation':  best_epoch_indx:92\n",
      " auc:0.9645620967213179 \n",
      " apur:0.9526145729469269 \n",
      " f1:0.8832369942196532 \n",
      " precision:0.8914819136522754 \n",
      " recall:0.8751431844215349 \n",
      ", 'Test':  best_epoch_indx:92\n",
      " auc:0.9689694068704151 \n",
      " apur:0.959937194310335 \n",
      " f1:0.8973471741637832 \n",
      " precision:0.9033906177426846 \n",
      " recall:0.891384051329056 \n",
      "}\n",
      "=====Epoch 93\n",
      "Training...\n"
     ]
    },
    {
     "name": "stderr",
     "output_type": "stream",
     "text": [
      "Iteration:  94%|█████████▎| 58/62 [00:04<00:00, 12.50it/s]\n",
      "Iteration:  29%|██▉       | 18/62 [00:00<00:01, 22.33it/s]"
     ]
    },
    {
     "name": "stdout",
     "output_type": "stream",
     "text": [
      "{'Train':  best_epoch_indx:92\n",
      " auc:0.9997495175357375 \n",
      " apur:0.9996578782241894 \n",
      " f1:0.9911863547016676 \n",
      " precision:0.9873673572511369 \n",
      " recall:0.9950350095480586 \n",
      ", 'Validation':  best_epoch_indx:92\n",
      " auc:0.9678804077429506 \n",
      " apur:0.9574463727356487 \n",
      " f1:0.9023415191319246 \n",
      " precision:0.8997722095671982 \n",
      " recall:0.9049255441008018 \n",
      ", 'Test':  best_epoch_indx:92\n",
      " auc:0.9714129722377183 \n",
      " apur:0.9644415797004697 \n",
      " f1:0.9052001840773125 \n",
      " precision:0.9089648798521257 \n",
      " recall:0.9014665444546288 \n",
      "}\n",
      "=====Epoch 93\n",
      "Training...\n"
     ]
    },
    {
     "name": "stderr",
     "output_type": "stream",
     "text": [
      "\r",
      "Iteration:  13%|█▎        | 8/62 [00:00<00:04, 12.26it/s]\r",
      "Iteration:  87%|████████▋ | 54/62 [00:02<00:00, 22.26it/s]\r",
      "Iteration: 100%|██████████| 62/62 [00:04<00:00, 12.65it/s]\r",
      "Iteration: 100%|██████████| 62/62 [00:04<00:00, 12.52it/s]\n",
      "\r",
      "Iteration:   0%|          | 0/62 [00:00<?, ?it/s]\r",
      "Iteration:  34%|███▍      | 21/62 [00:00<00:01, 22.37it/s]\r",
      "Iteration:   6%|▋         | 4/62 [00:00<00:05, 11.43it/s]\r",
      "Iteration:  92%|█████████▏| 57/62 [00:02<00:00, 22.34it/s]\r",
      "Iteration:  16%|█▌        | 10/62 [00:00<00:04, 12.29it/s]"
     ]
    },
    {
     "name": "stdout",
     "output_type": "stream",
     "text": [
      "Evaluating...\n"
     ]
    },
    {
     "name": "stderr",
     "output_type": "stream",
     "text": [
      "Iteration:  23%|██▎       | 14/62 [00:01<00:03, 12.32it/s]\n",
      "Iteration:  45%|████▌     | 28/62 [00:02<00:02, 12.27it/s]\n",
      "Iteration:  68%|██████▊   | 42/62 [00:01<00:00, 22.29it/s]\n",
      "Iteration:   0%|          | 0/62 [00:00<?, ?it/s]"
     ]
    },
    {
     "name": "stdout",
     "output_type": "stream",
     "text": [
      "{'Train':  best_epoch_indx:94\n",
      " auc:0.9995966175995102 \n",
      " apur:0.9994523476354165 \n",
      " f1:0.9889101338432122 \n",
      " precision:0.9901723037651563 \n",
      " recall:0.9876511775938892 \n",
      ", 'Validation':  best_epoch_indx:94\n",
      " auc:0.9618025424153718 \n",
      " apur:0.9503459824169275 \n",
      " f1:0.88023598820059 \n",
      " precision:0.9075425790754258 \n",
      " recall:0.854524627720504 \n",
      ", 'Test':  best_epoch_indx:94\n",
      " auc:0.9674199851258606 \n",
      " apur:0.9564645867453425 \n",
      " f1:0.8936962084205629 \n",
      " precision:0.9074161549362305 \n",
      " recall:0.8803849679193401 \n",
      "}\n",
      "=====Epoch 95\n",
      "Training...\n"
     ]
    },
    {
     "name": "stderr",
     "output_type": "stream",
     "text": [
      "Iteration:  42%|████▏     | 26/62 [00:02<00:03, 11.37it/s]\n",
      "Iteration:  58%|█████▊    | 36/62 [00:03<00:02, 11.51it/s]\n",
      "Iteration:  19%|█▉        | 12/62 [00:00<00:04, 12.38it/s]\n",
      "Iteration:  77%|███████▋  | 48/62 [00:03<00:01, 12.26it/s]\n",
      "Iteration:  33%|███▎      | 6/18 [00:00<00:00, 22.77it/s]]"
     ]
    },
    {
     "name": "stdout",
     "output_type": "stream",
     "text": [
      "{'Train':  best_epoch_indx:93\n",
      " auc:0.9997193877095318 \n",
      " apur:0.9996189629049739 \n",
      " f1:0.9906648885502001 \n",
      " precision:0.988342625443487 \n",
      " recall:0.9929980903882877 \n",
      ", 'Validation':  best_epoch_indx:93\n",
      " auc:0.9633954088421444 \n",
      " apur:0.9466773376866343 \n",
      " f1:0.8922190201729105 \n",
      " precision:0.8979118329466357 \n",
      " recall:0.8865979381443299 \n",
      ", 'Test':  best_epoch_indx:93\n",
      " auc:0.966326806885325 \n",
      " apur:0.9534536800209753 \n",
      " f1:0.8946146703806872 \n",
      " precision:0.9063969896519285 \n",
      " recall:0.8831347387717691 \n",
      "}\n",
      "=====Epoch 94\n",
      "Training...\n"
     ]
    },
    {
     "name": "stderr",
     "output_type": "stream",
     "text": [
      "Iteration: 100%|██████████| 18/18 [00:00<00:00, 19.14it/s]\n",
      "Iteration: 100%|██████████| 7/7 [00:00<00:00, 23.20it/s]s]\n",
      "Iteration: 100%|██████████| 62/62 [00:05<00:00, 12.30it/s]\n",
      "Iteration:  23%|██▎       | 14/62 [00:01<00:04, 11.60it/s]"
     ]
    },
    {
     "name": "stdout",
     "output_type": "stream",
     "text": [
      "{'Train':  best_epoch_indx:94\n",
      " auc:0.9993752299772891 \n",
      " apur:0.9991137327147142 \n",
      " f1:0.9882233759655564 \n",
      " precision:0.9829953394634084 \n",
      " recall:0.9935073201782304 \n",
      ", 'Validation':  best_epoch_indx:94\n",
      " auc:0.9660730057350904 \n",
      " apur:0.9582470964426885 \n",
      " f1:0.8915801614763552 \n",
      " precision:0.8977932636469221 \n",
      " recall:0.8854524627720504 \n",
      ", 'Test':  best_epoch_indx:94\n",
      " auc:0.9669535254778151 \n",
      " apur:0.9538731178922374 \n",
      " f1:0.8954680027328626 \n",
      " precision:0.8899954730647351 \n",
      " recall:0.9010082493125573 \n",
      "}\n",
      "=====Epoch 95\n",
      "Training...\n",
      "Evaluating...\n"
     ]
    },
    {
     "name": "stderr",
     "output_type": "stream",
     "text": [
      "Iteration: 100%|██████████| 62/62 [00:05<00:00, 11.46it/s]\n",
      "Iteration:  34%|███▍      | 21/62 [00:00<00:01, 22.14it/s]"
     ]
    },
    {
     "name": "stdout",
     "output_type": "stream",
     "text": [
      "Evaluating...\n"
     ]
    },
    {
     "name": "stderr",
     "output_type": "stream",
     "text": [
      "Iteration: 100%|██████████| 62/62 [00:05<00:00, 12.25it/s]\n",
      "Iteration:  68%|██████▊   | 42/62 [00:01<00:00, 21.08it/s]"
     ]
    },
    {
     "name": "stdout",
     "output_type": "stream",
     "text": [
      "Evaluating...\n"
     ]
    },
    {
     "name": "stderr",
     "output_type": "stream",
     "text": [
      "Iteration:  10%|▉         | 6/62 [00:00<00:02, 21.22it/s]]\n",
      "Iteration:  77%|███████▋  | 48/62 [00:03<00:01, 12.30it/s]\n",
      "Iteration:  90%|█████████ | 56/62 [00:04<00:00, 10.33it/s]\n",
      "Iteration: 100%|██████████| 7/7 [00:00<00:00, 21.41it/s]s]\n",
      "Iteration:  87%|████████▋ | 54/62 [00:04<00:00, 12.17it/s]"
     ]
    },
    {
     "name": "stdout",
     "output_type": "stream",
     "text": [
      "{'Train':  best_epoch_indx:93\n",
      " auc:0.9997642269407403 \n",
      " apur:0.999675900557327 \n",
      " f1:0.9910697320919628 \n",
      " precision:0.9861356188555583 \n",
      " recall:0.996053469127944 \n",
      ", 'Validation':  best_epoch_indx:93\n",
      " auc:0.962391189481682 \n",
      " apur:0.9495619252691568 \n",
      " f1:0.8901667625071881 \n",
      " precision:0.8937644341801386 \n",
      " recall:0.8865979381443299 \n",
      ", 'Test':  best_epoch_indx:93\n",
      " auc:0.9646130569366131 \n",
      " apur:0.9553014633962711 \n",
      " f1:0.8867107362662412 \n",
      " precision:0.8820861678004536 \n",
      " recall:0.891384051329056 \n",
      "}\n",
      "=====Epoch 94\n",
      "Training...\n"
     ]
    },
    {
     "name": "stderr",
     "output_type": "stream",
     "text": [
      "\r",
      "Iteration:  58%|█████▊    | 36/62 [00:01<00:01, 20.51it/s]\r",
      "Iteration:   3%|▎         | 2/62 [00:00<00:04, 12.24it/s]\r",
      "Iteration:  67%|██████▋   | 12/18 [00:00<00:00, 20.38it/s]\r",
      "Iteration: 100%|██████████| 62/62 [00:05<00:00, 10.32it/s]\r",
      "Iteration: 100%|██████████| 62/62 [00:05<00:00, 11.14it/s]\n",
      "\r",
      "Iteration:   0%|          | 0/62 [00:00<?, ?it/s]\r",
      "Iteration:  90%|█████████ | 56/62 [00:04<00:00, 12.31it/s]\r",
      "Iteration:  63%|██████▎   | 39/62 [00:01<00:01, 20.35it/s]\r",
      "Iteration:   3%|▎         | 2/62 [00:00<00:03, 18.38it/s]"
     ]
    },
    {
     "name": "stdout",
     "output_type": "stream",
     "text": [
      "Evaluating...\n"
     ]
    },
    {
     "name": "stderr",
     "output_type": "stream",
     "text": [
      "Iteration:  10%|▉         | 6/62 [00:00<00:02, 18.89it/s]]\n",
      "Iteration: 100%|██████████| 62/62 [00:04<00:00, 12.43it/s]\n",
      "Iteration:   0%|          | 0/62 [00:00<?, ?it/s]"
     ]
    },
    {
     "name": "stdout",
     "output_type": "stream",
     "text": [
      "Evaluating...\n",
      "{'Train':  best_epoch_indx:93\n",
      " auc:0.9997331485847021 \n",
      " apur:0.9996409419764262 \n",
      " f1:0.990868738110336 \n",
      " precision:0.9871130764371446 \n",
      " recall:0.9946530872056015 \n",
      ", 'Validation':  best_epoch_indx:93\n",
      " auc:0.9679980407357267 \n",
      " apur:0.9583705696089334 \n",
      " f1:0.9052511415525115 \n",
      " precision:0.9021615472127418 \n",
      " recall:0.9083619702176403 \n",
      ", 'Test':  best_epoch_indx:93\n",
      " auc:0.9711270201492415 \n",
      " apur:0.9638488243663023 \n",
      " f1:0.9021315608526244 \n",
      " precision:0.9023383768913342 \n",
      " recall:0.9019248395967002 \n",
      "}\n",
      "=====Epoch 94\n",
      "Training...\n"
     ]
    },
    {
     "name": "stderr",
     "output_type": "stream",
     "text": [
      "Iteration:   5%|▍         | 3/62 [00:00<00:02, 21.59it/s]]\n",
      "Iteration:  29%|██▉       | 18/62 [00:01<00:03, 11.76it/s]\n",
      "Iteration:  45%|████▌     | 28/62 [00:02<00:02, 11.97it/s]\n",
      "Iteration:  68%|██████▊   | 42/62 [00:01<00:00, 21.55it/s]\n",
      "Iteration:  85%|████████▌ | 53/62 [00:02<00:00, 21.44it/s]"
     ]
    },
    {
     "name": "stdout",
     "output_type": "stream",
     "text": [
      "{'Train':  best_epoch_indx:95\n",
      " auc:0.9997342858963236 \n",
      " apur:0.9996532567448686 \n",
      " f1:0.9906923371158995 \n",
      " precision:0.9922104456646661 \n",
      " recall:0.9891788669637174 \n",
      ", 'Validation':  best_epoch_indx:95\n",
      " auc:0.968321049363432 \n",
      " apur:0.9540656167516207 \n",
      " f1:0.8927943760984182 \n",
      " precision:0.9136690647482014 \n",
      " recall:0.872852233676976 \n",
      ", 'Test':  best_epoch_indx:95\n",
      " auc:0.9686824963980071 \n",
      " apur:0.9565989396131754 \n",
      " f1:0.8970283344851416 \n",
      " precision:0.9018063918480778 \n",
      " recall:0.8923006416131989 \n",
      "}\n",
      "=====Epoch 96\n",
      "Training...\n"
     ]
    },
    {
     "name": "stderr",
     "output_type": "stream",
     "text": [
      "Iteration:  42%|████▏     | 26/62 [00:02<00:03, 10.66it/s]\n",
      "Iteration:  50%|█████     | 9/18 [00:00<00:00, 22.09it/s]]\n",
      "Iteration:  84%|████████▍ | 52/62 [00:04<00:00, 11.70it/s]\n",
      "Iteration:  39%|███▊      | 24/62 [00:01<00:03, 12.23it/s]\n",
      "Iteration: 100%|██████████| 7/7 [00:00<00:00, 19.46it/s]s]\n",
      "Iteration:  68%|██████▊   | 42/62 [00:03<00:01, 10.21it/s]"
     ]
    },
    {
     "name": "stdout",
     "output_type": "stream",
     "text": [
      "{'Train':  best_epoch_indx:94\n",
      " auc:0.9996823149233744 \n",
      " apur:0.9995665110083916 \n",
      " f1:0.9873226111636707 \n",
      " precision:0.978375 \n",
      " recall:0.996435391470401 \n",
      ", 'Validation':  best_epoch_indx:94\n",
      " auc:0.9641238656129836 \n",
      " apur:0.9510172963155449 \n",
      " f1:0.8857782754759238 \n",
      " precision:0.8663745892661555 \n",
      " recall:0.9060710194730813 \n",
      ", 'Test':  best_epoch_indx:94\n",
      " auc:0.9659111923113851 \n",
      " apur:0.9556552018014974 \n",
      " f1:0.8959563834620627 \n",
      " precision:0.8882882882882883 \n",
      " recall:0.9037580201649863 \n",
      "}\n",
      "=====Epoch 95\n",
      "Training...\n"
     ]
    },
    {
     "name": "stderr",
     "output_type": "stream",
     "text": [
      "Iteration: 100%|██████████| 7/7 [00:00<00:00, 22.05it/s]s]\n",
      "Iteration: 100%|██████████| 62/62 [00:05<00:00, 11.88it/s]\n",
      "Iteration:   0%|          | 0/62 [00:00<?, ?it/s]"
     ]
    },
    {
     "name": "stdout",
     "output_type": "stream",
     "text": [
      "{'Train':  best_epoch_indx:95\n",
      " auc:0.9996413262437056 \n",
      " apur:0.9995136197578325 \n",
      " f1:0.9902333840690005 \n",
      " precision:0.9866043220017693 \n",
      " recall:0.9938892425206874 \n",
      ", 'Validation':  best_epoch_indx:95\n",
      " auc:0.9702398170324861 \n",
      " apur:0.9637979471843479 \n",
      " f1:0.9007458405048766 \n",
      " precision:0.9022988505747126 \n",
      " recall:0.8991981672394044 \n",
      ", 'Test':  best_epoch_indx:95\n",
      " auc:0.9682809611544716 \n",
      " apur:0.95610407491063 \n",
      " f1:0.8914338066880441 \n",
      " precision:0.8910256410256411 \n",
      " recall:0.8918423464711274 \n",
      "}\n",
      "=====Epoch 96\n",
      "Training...\n",
      "Evaluating...\n"
     ]
    },
    {
     "name": "stderr",
     "output_type": "stream",
     "text": [
      "Iteration: 100%|██████████| 62/62 [00:05<00:00, 10.62it/s]\n",
      "Iteration:  53%|█████▎    | 33/62 [00:01<00:01, 21.52it/s]"
     ]
    },
    {
     "name": "stdout",
     "output_type": "stream",
     "text": [
      "Evaluating...\n"
     ]
    },
    {
     "name": "stderr",
     "output_type": "stream",
     "text": [
      "Iteration: 100%|██████████| 62/62 [00:04<00:00, 12.43it/s]\n",
      "Iteration:  52%|█████▏    | 32/62 [00:03<00:02, 10.34it/s]"
     ]
    },
    {
     "name": "stdout",
     "output_type": "stream",
     "text": [
      "Evaluating...\n"
     ]
    },
    {
     "name": "stderr",
     "output_type": "stream",
     "text": [
      "Iteration:  19%|█▉        | 12/62 [00:00<00:02, 22.37it/s]\n",
      "Iteration:  58%|█████▊    | 36/62 [00:01<00:01, 22.22it/s]\n",
      "Iteration: 100%|██████████| 7/7 [00:00<00:00, 22.22it/s]s]\n",
      "Iteration:  94%|█████████▎| 58/62 [00:04<00:00, 12.37it/s]\n",
      "Iteration:   3%|▎         | 2/62 [00:00<00:04, 12.11it/s]]"
     ]
    },
    {
     "name": "stdout",
     "output_type": "stream",
     "text": [
      "{'Train':  best_epoch_indx:94\n",
      " auc:0.9994610186894455 \n",
      " apur:0.9993054440412343 \n",
      " f1:0.9870640456563095 \n",
      " precision:0.9833228048010108 \n",
      " recall:0.9908338637810312 \n",
      ", 'Validation':  best_epoch_indx:94\n",
      " auc:0.9591345875710137 \n",
      " apur:0.9448577188759745 \n",
      " f1:0.8768074031231925 \n",
      " precision:0.8855140186915887 \n",
      " recall:0.868270332187858 \n",
      ", 'Test':  best_epoch_indx:94\n",
      " auc:0.9653739503189549 \n",
      " apur:0.9558986113098756 \n",
      " f1:0.8858906928881775 \n",
      " precision:0.8840712003651301 \n",
      " recall:0.8877176901924839 \n",
      "}\n",
      "=====Epoch 95\n",
      "Training...\n"
     ]
    },
    {
     "name": "stderr",
     "output_type": "stream",
     "text": [
      "\r",
      "Iteration:  17%|█▋        | 3/18 [00:00<00:00, 22.26it/s]\r",
      "Iteration:  97%|█████████▋| 60/62 [00:04<00:00, 12.35it/s]\r",
      "Iteration:  82%|████████▏ | 51/62 [00:02<00:00, 22.33it/s]\r",
      "Iteration:  33%|███▎      | 6/18 [00:00<00:00, 22.47it/s]\r",
      "Iteration:   6%|▋         | 4/62 [00:00<00:04, 12.17it/s]\r",
      "Iteration:  87%|████████▋ | 54/62 [00:05<00:00, 10.28it/s]\r",
      "Iteration: 100%|██████████| 62/62 [00:04<00:00, 12.59it/s]\r",
      "Iteration: 100%|██████████| 62/62 [00:04<00:00, 12.42it/s]\n",
      "\r",
      "Iteration:   0%|          | 0/62 [00:00<?, ?it/s]"
     ]
    },
    {
     "name": "stdout",
     "output_type": "stream",
     "text": [
      "Evaluating...\n"
     ]
    },
    {
     "name": "stderr",
     "output_type": "stream",
     "text": [
      "Iteration:  97%|█████████▋| 60/62 [00:05<00:00, 10.27it/s]\n",
      "Iteration: 100%|██████████| 62/62 [00:06<00:00, 10.31it/s]\n",
      "Iteration:  29%|██▉       | 18/62 [00:00<00:01, 22.10it/s]\n",
      "Iteration:  26%|██▌       | 16/62 [00:01<00:03, 12.14it/s]"
     ]
    },
    {
     "name": "stdout",
     "output_type": "stream",
     "text": [
      "Evaluating...\n"
     ]
    },
    {
     "name": "stderr",
     "output_type": "stream",
     "text": [
      "\r",
      "Iteration:   6%|▋         | 4/62 [00:00<00:03, 18.47it/s]\r",
      "Iteration:  50%|█████     | 9/18 [00:00<00:00, 22.62it/s]\r",
      "Iteration:  10%|▉         | 6/62 [00:00<00:02, 19.13it/s]\r",
      "Iteration:  86%|████████▌ | 6/7 [00:00<00:00, 22.55it/s]\r",
      "Iteration:  39%|███▊      | 24/62 [00:01<00:01, 22.00it/s]\r",
      "Iteration:  29%|██▉       | 18/62 [00:01<00:03, 12.13it/s]\r",
      "Iteration:  67%|██████▋   | 12/18 [00:00<00:00, 22.97it/s]\r",
      "Iteration: 100%|██████████| 7/7 [00:00<00:00, 22.71it/s]\n",
      "\r",
      "Iteration:   0%|          | 0/62 [00:00<?, ?it/s]"
     ]
    },
    {
     "name": "stdout",
     "output_type": "stream",
     "text": [
      "{'Train':  best_epoch_indx:94\n",
      " auc:0.9993596161483959 \n",
      " apur:0.9991513860826156 \n",
      " f1:0.9876354365838114 \n",
      " precision:0.988895979578813 \n",
      " recall:0.9863781031190325 \n",
      ", 'Validation':  best_epoch_indx:94\n",
      " auc:0.9650996409301107 \n",
      " apur:0.9582173324400135 \n",
      " f1:0.8994830557151062 \n",
      " precision:0.902073732718894 \n",
      " recall:0.8969072164948454 \n",
      ", 'Test':  best_epoch_indx:94\n",
      " auc:0.9701727660002736 \n",
      " apur:0.9617903461123756 \n",
      " f1:0.8981868898186889 \n",
      " precision:0.9113207547169812 \n",
      " recall:0.8854262144821264 \n",
      "}\n",
      "=====Epoch 95\n",
      "Training...\n"
     ]
    },
    {
     "name": "stderr",
     "output_type": "stream",
     "text": [
      "Iteration:  48%|████▊     | 30/62 [00:01<00:01, 21.91it/s]\n",
      "Iteration:  63%|██████▎   | 39/62 [00:01<00:01, 21.86it/s]\n",
      "Iteration:  13%|█▎        | 8/62 [00:00<00:04, 11.63it/s]]"
     ]
    },
    {
     "name": "stdout",
     "output_type": "stream",
     "text": [
      "{'Train':  best_epoch_indx:96\n",
      " auc:0.9998055078036846 \n",
      " apur:0.9997404383740061 \n",
      " f1:0.9926988762618247 \n",
      " precision:0.9901215805471124 \n",
      " recall:0.9952896244430299 \n",
      ", 'Validation':  best_epoch_indx:96\n",
      " auc:0.969679614009511 \n",
      " apur:0.9575365780931646 \n",
      " f1:0.9013271783035199 \n",
      " precision:0.9081395348837209 \n",
      " recall:0.8946162657502864 \n",
      ", 'Test':  best_epoch_indx:96\n",
      " auc:0.9675669359427188 \n",
      " apur:0.9567120303021245 \n",
      " f1:0.8998621956821314 \n",
      " precision:0.9019337016574586 \n",
      " recall:0.8978001833180568 \n",
      "}\n",
      "=====Epoch 97\n",
      "Training...\n"
     ]
    },
    {
     "name": "stderr",
     "output_type": "stream",
     "text": [
      "Iteration:  65%|██████▍   | 40/62 [00:03<00:01, 12.28it/s]\n",
      "Iteration: 100%|██████████| 18/18 [00:00<00:00, 22.30it/s]\n",
      "Iteration:  48%|████▊     | 30/62 [00:02<00:03, 10.50it/s]\n",
      "Iteration:  90%|█████████ | 56/62 [00:04<00:00, 11.96it/s]\n",
      "Iteration:  67%|██████▋   | 12/18 [00:00<00:00, 22.77it/s]"
     ]
    },
    {
     "name": "stdout",
     "output_type": "stream",
     "text": [
      "{'Train':  best_epoch_indx:96\n",
      " auc:0.9997620176104468 \n",
      " apur:0.9996689730719167 \n",
      " f1:0.9902667172291747 \n",
      " precision:0.9833061378185013 \n",
      " recall:0.9973265436028008 \n",
      ", 'Validation':  best_epoch_indx:96\n",
      " auc:0.970831838815802 \n",
      " apur:0.9652616645436406 \n",
      " f1:0.8994350282485876 \n",
      " precision:0.887402452619844 \n",
      " recall:0.9117983963344788 \n",
      ", 'Test':  best_epoch_indx:96\n",
      " auc:0.9694111910427217 \n",
      " apur:0.9587723353221411 \n",
      " f1:0.8987083616587355 \n",
      " precision:0.8888390856118332 \n",
      " recall:0.9087992667277727 \n",
      "}\n",
      "=====Epoch 97\n",
      "Training...\n"
     ]
    },
    {
     "name": "stderr",
     "output_type": "stream",
     "text": [
      "Iteration:   6%|▋         | 4/62 [00:00<00:05, 11.14it/s]]\n",
      "Iteration: 100%|██████████| 62/62 [00:05<00:00, 12.09it/s]\n",
      "Iteration:  10%|▉         | 6/62 [00:00<00:05, 11.04it/s]]"
     ]
    },
    {
     "name": "stdout",
     "output_type": "stream",
     "text": [
      "Evaluating...\n"
     ]
    },
    {
     "name": "stderr",
     "output_type": "stream",
     "text": [
      "\r",
      "Iteration:  61%|██████▏   | 38/62 [00:03<00:01, 12.25it/s]\r",
      "Iteration:   5%|▍         | 3/62 [00:00<00:02, 20.58it/s]\r",
      "Iteration:  86%|████████▌ | 6/7 [00:00<00:00, 21.45it/s]\r",
      "Iteration:  68%|██████▊   | 42/62 [00:03<00:01, 10.62it/s]\r",
      "Iteration: 100%|██████████| 7/7 [00:00<00:00, 21.64it/s]\r",
      "Iteration:  13%|█▎        | 8/62 [00:00<00:04, 10.97it/s]\n",
      "\r",
      "Iteration:   0%|          | 0/62 [00:00<?, ?it/s]\r",
      "Iteration:  10%|▉         | 6/62 [00:00<00:02, 20.59it/s]\r",
      "Iteration:  65%|██████▍   | 40/62 [00:03<00:01, 12.40it/s]"
     ]
    },
    {
     "name": "stdout",
     "output_type": "stream",
     "text": [
      "{'Train':  best_epoch_indx:95\n",
      " auc:0.9997778014634998 \n",
      " apur:0.9997010559182886 \n",
      " f1:0.9916360410594348 \n",
      " precision:0.9871325848366342 \n",
      " recall:0.9961807765754297 \n",
      ", 'Validation':  best_epoch_indx:95\n",
      " auc:0.9660783088618141 \n",
      " apur:0.9540106885031625 \n",
      " f1:0.8956570783981951 \n",
      " precision:0.8822222222222222 \n",
      " recall:0.9095074455899198 \n",
      ", 'Test':  best_epoch_indx:95\n",
      " auc:0.967418441524843 \n",
      " apur:0.9580453643602275 \n",
      " f1:0.8987108655616943 \n",
      " precision:0.902867715078631 \n",
      " recall:0.8945921173235564 \n",
      "}\n",
      "=====Epoch 96\n",
      "Training...\n"
     ]
    },
    {
     "name": "stderr",
     "output_type": "stream",
     "text": [
      "Iteration: 100%|██████████| 62/62 [00:05<00:00, 11.18it/s]\n",
      "Iteration:   0%|          | 0/62 [00:00<?, ?it/s]"
     ]
    },
    {
     "name": "stdout",
     "output_type": "stream",
     "text": [
      "Evaluating...\n"
     ]
    },
    {
     "name": "stderr",
     "output_type": "stream",
     "text": [
      "Iteration: 100%|██████████| 62/62 [00:05<00:00, 11.56it/s]\n",
      "Iteration:  82%|████████▏ | 51/62 [00:02<00:00, 21.65it/s]"
     ]
    },
    {
     "name": "stdout",
     "output_type": "stream",
     "text": [
      "Evaluating...\n"
     ]
    },
    {
     "name": "stderr",
     "output_type": "stream",
     "text": [
      "Iteration:  60%|█████▉    | 37/62 [00:03<00:02, 10.42it/s]\n",
      "Iteration:  73%|███████▎  | 45/62 [00:01<00:00, 22.65it/s]\n",
      "Iteration: 100%|██████████| 7/7 [00:00<00:00, 22.47it/s]s]\n",
      "Iteration:   3%|▎         | 2/62 [00:00<00:04, 12.37it/s]]"
     ]
    },
    {
     "name": "stdout",
     "output_type": "stream",
     "text": [
      "{'Train':  best_epoch_indx:95\n",
      " auc:0.9993002080283966 \n",
      " apur:0.9990410143975215 \n",
      " f1:0.982946321817381 \n",
      " precision:0.9718765555002489 \n",
      " recall:0.9942711648631445 \n",
      ", 'Validation':  best_epoch_indx:95\n",
      " auc:0.9632666874934916 \n",
      " apur:0.9501562165821288 \n",
      " f1:0.8937360178970917 \n",
      " precision:0.8732240437158469 \n",
      " recall:0.9152348224513173 \n",
      ", 'Test':  best_epoch_indx:95\n",
      " auc:0.9659544574989121 \n",
      " apur:0.9544023445449474 \n",
      " f1:0.8932471584577668 \n",
      " precision:0.86941431670282 \n",
      " recall:0.918423464711274 \n",
      "}\n",
      "=====Epoch 96\n",
      "Training...\n"
     ]
    },
    {
     "name": "stderr",
     "output_type": "stream",
     "text": [
      "Iteration:  84%|████████▍ | 52/62 [00:04<00:00, 11.62it/s]\n",
      "Iteration:  67%|██████▋   | 12/18 [00:00<00:00, 23.33it/s]\n",
      "Iteration: 100%|██████████| 62/62 [00:05<00:00, 11.44it/s]\n",
      "Iteration:   0%|          | 0/62 [00:00<?, ?it/s]\n",
      "Iteration: 100%|██████████| 62/62 [00:06<00:00,  9.92it/s]\n",
      "Iteration:   0%|          | 0/62 [00:00<?, ?it/s]"
     ]
    },
    {
     "name": "stdout",
     "output_type": "stream",
     "text": [
      "Evaluating...\n",
      "Evaluating...\n"
     ]
    },
    {
     "name": "stderr",
     "output_type": "stream",
     "text": [
      "Iteration: 100%|██████████| 7/7 [00:00<00:00, 22.35it/s]]]\n",
      "Iteration:   3%|▎         | 2/62 [00:00<00:04, 12.31it/s]]"
     ]
    },
    {
     "name": "stdout",
     "output_type": "stream",
     "text": [
      "{'Train':  best_epoch_indx:95\n",
      " auc:0.9997362985210781 \n",
      " apur:0.9996317304688218 \n",
      " f1:0.9904206052147434 \n",
      " precision:0.9871016691957512 \n",
      " recall:0.9937619350732018 \n",
      ", 'Validation':  best_epoch_indx:95\n",
      " auc:0.9701332723955862 \n",
      " apur:0.9617775356350003 \n",
      " f1:0.9052268811028145 \n",
      " precision:0.9078341013824884 \n",
      " recall:0.9026345933562429 \n",
      ", 'Test':  best_epoch_indx:95\n",
      " auc:0.9735494704059269 \n",
      " apur:0.9675898752339884 \n",
      " f1:0.9094244439348773 \n",
      " precision:0.9100504818724185 \n",
      " recall:0.9087992667277727 \n",
      "}\n",
      "=====Epoch 96\n",
      "Training...\n"
     ]
    },
    {
     "name": "stderr",
     "output_type": "stream",
     "text": [
      "Iteration:  39%|███▊      | 24/62 [00:01<00:03, 12.22it/s]\n",
      "Iteration: 100%|██████████| 7/7 [00:00<00:00, 22.67it/s]s]"
     ]
    },
    {
     "name": "stdout",
     "output_type": "stream",
     "text": [
      "{'Train':  best_epoch_indx:97\n",
      " auc:0.9998786708816666 \n",
      " apur:0.999832351481853 \n",
      " f1:0.994535519125683 \n",
      " precision:0.9927692502854243 \n",
      " recall:0.9963080840229154 \n",
      ", 'Validation':  best_epoch_indx:97\n",
      " auc:0.9686074182065019 \n",
      " apur:0.9558905506689531 \n",
      " f1:0.901035673187572 \n",
      " precision:0.9052023121387284 \n",
      " recall:0.8969072164948454 \n",
      ", 'Test':  best_epoch_indx:97\n",
      " auc:0.9707418145153448 \n",
      " apur:0.9596812152667824 \n",
      " f1:0.9061205706396687 \n",
      " precision:0.9098890942698706 \n",
      " recall:0.9023831347387717 \n",
      "}\n",
      "=====Epoch 98\n",
      "Training...\n"
     ]
    },
    {
     "name": "stderr",
     "output_type": "stream",
     "text": [
      "\n",
      "Iteration:  39%|███▊      | 24/62 [00:01<00:03, 12.08it/s]\n",
      "Iteration: 100%|██████████| 62/62 [00:05<00:00, 12.38it/s]\n",
      "Iteration: 100%|██████████| 18/18 [00:00<00:00, 24.73it/s]\n",
      "Iteration:   0%|          | 0/18 [00:00<?, ?it/s]\n",
      "Iteration:  68%|██████▊   | 42/62 [00:03<00:01, 11.74it/s]"
     ]
    },
    {
     "name": "stdout",
     "output_type": "stream",
     "text": [
      "Evaluating...\n"
     ]
    },
    {
     "name": "stderr",
     "output_type": "stream",
     "text": [
      "\r",
      "Iteration:  43%|████▎     | 3/7 [00:00<00:00, 23.30it/s]\r",
      "Iteration:  10%|▉         | 6/62 [00:00<00:02, 22.36it/s]\r",
      "Iteration:  22%|██▏       | 4/18 [00:00<00:00, 17.39it/s]\r",
      "Iteration:  58%|█████▊    | 36/62 [00:02<00:02, 11.86it/s]\r",
      "Iteration:  71%|███████   | 44/62 [00:03<00:01, 11.77it/s]\r",
      "Iteration:  86%|████████▌ | 6/7 [00:00<00:00, 23.42it/s]\r",
      "Iteration:  15%|█▍        | 9/62 [00:00<00:02, 22.47it/s]\r",
      "Iteration:  33%|███▎      | 6/18 [00:00<00:00, 17.51it/s]\r",
      "Iteration: 100%|██████████| 7/7 [00:00<00:00, 23.77it/s]\n",
      "\r",
      "Iteration:   0%|          | 0/62 [00:00<?, ?it/s]"
     ]
    },
    {
     "name": "stdout",
     "output_type": "stream",
     "text": [
      "{'Train':  best_epoch_indx:96\n",
      " auc:0.9999001904848104 \n",
      " apur:0.9998637597875872 \n",
      " f1:0.9934051997463538 \n",
      " precision:0.9896399241945673 \n",
      " recall:0.9971992361553151 \n",
      ", 'Validation':  best_epoch_indx:96\n",
      " auc:0.9663439473004193 \n",
      " apur:0.952219714118217 \n",
      " f1:0.8883800801373783 \n",
      " precision:0.8878718535469108 \n",
      " recall:0.8888888888888888 \n",
      ", 'Test':  best_epoch_indx:96\n",
      " auc:0.9691084530987636 \n",
      " apur:0.9585022684735027 \n",
      " f1:0.905136510874595 \n",
      " precision:0.914018691588785 \n",
      " recall:0.8964252978918423 \n",
      "}\n",
      "=====Epoch 97\n",
      "Training...\n"
     ]
    },
    {
     "name": "stderr",
     "output_type": "stream",
     "text": [
      "Iteration:  44%|████▎     | 27/62 [00:01<00:01, 22.53it/s]\n",
      "Iteration: 100%|██████████| 7/7 [00:00<00:00, 17.58it/s]s]\n",
      "Iteration:   2%|▏         | 1/62 [00:00<00:06,  9.46it/s]]"
     ]
    },
    {
     "name": "stdout",
     "output_type": "stream",
     "text": [
      "{'Train':  best_epoch_indx:97\n",
      " auc:0.9999199043330207 \n",
      " apur:0.9998884300617082 \n",
      " f1:0.9951752158456068 \n",
      " precision:0.9925288084082563 \n",
      " recall:0.9978357733927434 \n",
      ", 'Validation':  best_epoch_indx:97\n",
      " auc:0.9749364588998037 \n",
      " apur:0.9694508758715298 \n",
      " f1:0.9152148664343787 \n",
      " precision:0.928150765606596 \n",
      " recall:0.9026345933562429 \n",
      ", 'Test':  best_epoch_indx:97\n",
      " auc:0.9720837306767645 \n",
      " apur:0.9624407015295495 \n",
      " f1:0.9084604715672677 \n",
      " precision:0.9165111940298507 \n",
      " recall:0.9005499541704858 \n",
      "}\n",
      "=====Epoch 98\n",
      "Training...\n"
     ]
    },
    {
     "name": "stderr",
     "output_type": "stream",
     "text": [
      "\r",
      "Iteration:  87%|████████▋ | 54/62 [00:04<00:00, 11.69it/s]\r",
      "Iteration:   3%|▎         | 2/62 [00:00<00:06,  9.13it/s]\r",
      "Iteration:  68%|██████▊   | 42/62 [00:01<00:00, 22.21it/s]\r",
      "Iteration:  29%|██▉       | 18/62 [00:01<00:03, 12.54it/s]\r",
      "Iteration: 100%|██████████| 62/62 [00:05<00:00, 11.79it/s]\r",
      "Iteration: 100%|██████████| 62/62 [00:05<00:00, 12.04it/s]\n",
      "\r",
      "Iteration:   0%|          | 0/62 [00:00<?, ?it/s]\r",
      "Iteration:   5%|▍         | 3/62 [00:00<00:06,  9.29it/s]\r",
      "Iteration:  73%|███████▎  | 45/62 [00:01<00:00, 22.36it/s]\r",
      "Iteration:  90%|█████████ | 56/62 [00:04<00:00, 11.70it/s]\r",
      "Iteration:   5%|▍         | 3/62 [00:00<00:02, 20.41it/s]"
     ]
    },
    {
     "name": "stdout",
     "output_type": "stream",
     "text": [
      "Evaluating...\n"
     ]
    },
    {
     "name": "stderr",
     "output_type": "stream",
     "text": [
      "Iteration: 100%|██████████| 62/62 [00:05<00:00, 11.96it/s]\n",
      "Iteration:  45%|████▌     | 28/62 [00:02<00:02, 12.78it/s]"
     ]
    },
    {
     "name": "stdout",
     "output_type": "stream",
     "text": [
      "Evaluating...\n"
     ]
    },
    {
     "name": "stderr",
     "output_type": "stream",
     "text": [
      "Iteration:  48%|████▊     | 30/62 [00:02<00:02, 12.81it/s]\n",
      "Iteration:  68%|██████▊   | 42/62 [00:03<00:01, 12.84it/s]\n",
      "Iteration:  53%|█████▎    | 33/62 [00:01<00:01, 20.82it/s]\n",
      "Iteration:  77%|███████▋  | 48/62 [00:03<00:01, 12.87it/s]"
     ]
    },
    {
     "name": "stdout",
     "output_type": "stream",
     "text": [
      "{'Train':  best_epoch_indx:96\n",
      " auc:0.9997475051092997 \n",
      " apur:0.9996665964330066 \n",
      " f1:0.9911729218263796 \n",
      " precision:0.9888494678155094 \n",
      " recall:0.9935073201782304 \n",
      ", 'Validation':  best_epoch_indx:96\n",
      " auc:0.9643707020568418 \n",
      " apur:0.953139266317329 \n",
      " f1:0.8944315545243618 \n",
      " precision:0.9059929494712103 \n",
      " recall:0.8831615120274914 \n",
      ", 'Test':  best_epoch_indx:96\n",
      " auc:0.9683149860968375 \n",
      " apur:0.9605513683932435 \n",
      " f1:0.893450184501845 \n",
      " precision:0.8992571959145775 \n",
      " recall:0.8877176901924839 \n",
      "}\n",
      "=====Epoch 97\n",
      "Training...\n"
     ]
    },
    {
     "name": "stderr",
     "output_type": "stream",
     "text": [
      "Iteration:  19%|█▉        | 12/62 [00:00<00:03, 12.78it/s]\n",
      "Iteration: 100%|██████████| 62/62 [00:05<00:00, 12.36it/s]\n",
      "Iteration:  29%|██▉       | 18/62 [00:01<00:03, 12.65it/s]"
     ]
    },
    {
     "name": "stdout",
     "output_type": "stream",
     "text": [
      "Evaluating...\n"
     ]
    },
    {
     "name": "stderr",
     "output_type": "stream",
     "text": [
      "Iteration:   5%|▍         | 3/62 [00:00<00:02, 22.85it/s]]\n",
      "Iteration:  33%|███▎      | 6/18 [00:00<00:00, 22.01it/s]]\n",
      "Iteration:  29%|██▉       | 18/62 [00:00<00:01, 22.66it/s]\n",
      "Iteration: 100%|██████████| 18/18 [00:00<00:00, 22.64it/s]"
     ]
    },
    {
     "name": "stdout",
     "output_type": "stream",
     "text": [
      "{'Train':  best_epoch_indx:96\n",
      " auc:0.9997338214444572 \n",
      " apur:0.9996352140591668 \n",
      " f1:0.9911009407576913 \n",
      " precision:0.9897168972959248 \n",
      " recall:0.992488860598345 \n",
      ", 'Validation':  best_epoch_indx:96\n",
      " auc:0.9681687049957383 \n",
      " apur:0.9578813923706989 \n",
      " f1:0.8989023685730793 \n",
      " precision:0.9067599067599068 \n",
      " recall:0.8911798396334479 \n",
      ", 'Test':  best_epoch_indx:96\n",
      " auc:0.9738375063557773 \n",
      " apur:0.9664036819646795 \n",
      " f1:0.90896519935469 \n",
      " precision:0.9142327306444136 \n",
      " recall:0.9037580201649863 \n",
      "}\n",
      "=====Epoch 97\n",
      "Training...\n"
     ]
    },
    {
     "name": "stderr",
     "output_type": "stream",
     "text": [
      "Iteration:  39%|███▊      | 24/62 [00:01<00:01, 22.93it/s]\n",
      "Iteration: 100%|██████████| 7/7 [00:00<00:00, 21.02it/s]s]\n",
      "Iteration:  58%|█████▊    | 36/62 [00:01<00:01, 21.84it/s]"
     ]
    },
    {
     "name": "stdout",
     "output_type": "stream",
     "text": [
      "{'Train':  best_epoch_indx:98\n",
      " auc:0.9999546802159582 \n",
      " apur:0.9999382493875577 \n",
      " f1:0.9961218132112659 \n",
      " precision:0.9949199898399796 \n",
      " recall:0.9973265436028008 \n",
      ", 'Validation':  best_epoch_indx:98\n",
      " auc:0.9712821224848716 \n",
      " apur:0.9603311912142887 \n",
      " f1:0.9071803852889667 \n",
      " precision:0.925 \n",
      " recall:0.8900343642611683 \n",
      ", 'Test':  best_epoch_indx:98\n",
      " auc:0.971245105627074 \n",
      " apur:0.9592591178247253 \n",
      " f1:0.9072403423548462 \n",
      " precision:0.9159271368519384 \n",
      " recall:0.8987167736021998 \n",
      "}\n",
      "=====Epoch 99\n",
      "Training...\n"
     ]
    },
    {
     "name": "stderr",
     "output_type": "stream",
     "text": [
      "Iteration: 100%|██████████| 62/62 [00:06<00:00, 10.03it/s]\n",
      "Iteration:  29%|██▉       | 18/62 [00:01<00:03, 11.70it/s]"
     ]
    },
    {
     "name": "stdout",
     "output_type": "stream",
     "text": [
      "Evaluating...\n"
     ]
    },
    {
     "name": "stderr",
     "output_type": "stream",
     "text": [
      "Iteration:  13%|█▎        | 8/62 [00:00<00:03, 17.47it/s]]\n",
      "Iteration:  42%|████▏     | 26/62 [00:02<00:03, 11.86it/s]\n",
      "Iteration: 100%|██████████| 62/62 [00:05<00:00, 12.11it/s]\n",
      "Iteration:   0%|          | 0/62 [00:00<?, ?it/s]"
     ]
    },
    {
     "name": "stdout",
     "output_type": "stream",
     "text": [
      "Evaluating...\n"
     ]
    },
    {
     "name": "stderr",
     "output_type": "stream",
     "text": [
      "\r",
      "Iteration:  43%|████▎     | 3/7 [00:00<00:00, 23.10it/s]\r",
      "Iteration:  45%|████▌     | 28/62 [00:02<00:02, 11.86it/s]\r",
      "Iteration:  42%|████▏     | 26/62 [00:01<00:02, 17.39it/s]\r",
      "Iteration:   5%|▍         | 3/62 [00:00<00:02, 22.18it/s]\r",
      "Iteration:  58%|█████▊    | 36/62 [00:03<00:02, 11.77it/s]\r",
      "Iteration:  86%|████████▌ | 6/7 [00:00<00:00, 23.57it/s]\r",
      "Iteration:  45%|████▌     | 28/62 [00:01<00:01, 17.39it/s]\r",
      "Iteration: 100%|██████████| 7/7 [00:00<00:00, 23.81it/s]\r",
      "Iteration:  48%|████▊     | 30/62 [00:02<00:02, 11.86it/s]\r",
      "Iteration:  10%|▉         | 6/62 [00:00<00:02, 22.61it/s]\n",
      "\r",
      "Iteration:   0%|          | 0/62 [00:00<?, ?it/s]"
     ]
    },
    {
     "name": "stdout",
     "output_type": "stream",
     "text": [
      "{'Train':  best_epoch_indx:97\n",
      " auc:0.9999612004056213 \n",
      " apur:0.9999474217137625 \n",
      " f1:0.9958748492733388 \n",
      " precision:0.9929131865350544 \n",
      " recall:0.9988542329726289 \n",
      ", 'Validation':  best_epoch_indx:97\n",
      " auc:0.9705903054986675 \n",
      " apur:0.9578739700765301 \n",
      " f1:0.8991452991452992 \n",
      " precision:0.8945578231292517 \n",
      " recall:0.9037800687285223 \n",
      ", 'Test':  best_epoch_indx:97\n",
      " auc:0.972543737163028 \n",
      " apur:0.9619929906936419 \n",
      " f1:0.9097174362508615 \n",
      " precision:0.9120221096269 \n",
      " recall:0.9074243813015582 \n",
      "}\n",
      "=====Epoch 98\n",
      "Training...\n"
     ]
    },
    {
     "name": "stderr",
     "output_type": "stream",
     "text": [
      "Iteration:  77%|███████▋  | 48/62 [00:02<00:00, 21.18it/s]\n",
      "Iteration: 100%|██████████| 62/62 [00:05<00:00, 11.23it/s]\n",
      "Iteration:  92%|█████████▏| 57/62 [00:02<00:00, 21.25it/s]"
     ]
    },
    {
     "name": "stdout",
     "output_type": "stream",
     "text": [
      "Evaluating...\n"
     ]
    },
    {
     "name": "stderr",
     "output_type": "stream",
     "text": [
      "Iteration: 100%|██████████| 62/62 [00:05<00:00, 11.94it/s]\n",
      "Iteration: 100%|██████████| 18/18 [00:00<00:00, 21.75it/s]\n",
      "Iteration:  55%|█████▍    | 34/62 [00:02<00:02, 12.11it/s]"
     ]
    },
    {
     "name": "stdout",
     "output_type": "stream",
     "text": [
      "Evaluating...\n"
     ]
    },
    {
     "name": "stderr",
     "output_type": "stream",
     "text": [
      "Iteration:  10%|▉         | 6/62 [00:00<00:02, 21.50it/s]]\n",
      "Iteration:  65%|██████▍   | 40/62 [00:03<00:01, 12.11it/s]\n",
      "Iteration:   3%|▎         | 2/62 [00:00<00:04, 12.02it/s]]"
     ]
    },
    {
     "name": "stdout",
     "output_type": "stream",
     "text": [
      "{'Train':  best_epoch_indx:98\n",
      " auc:0.9999585169950798 \n",
      " apur:0.999942664186333 \n",
      " f1:0.995498066070636 \n",
      " precision:0.9916624557857504 \n",
      " recall:0.9993634627625716 \n",
      ", 'Validation':  best_epoch_indx:98\n",
      " auc:0.9743535970626465 \n",
      " apur:0.9692548760367066 \n",
      " f1:0.9131175468483815 \n",
      " precision:0.9054054054054054 \n",
      " recall:0.9209621993127147 \n",
      ", 'Test':  best_epoch_indx:98\n",
      " auc:0.9731103426566304 \n",
      " apur:0.9634818499879604 \n",
      " f1:0.910868576625739 \n",
      " precision:0.9038808664259927 \n",
      " recall:0.9179651695692026 \n",
      "}\n",
      "=====Epoch 99\n",
      "Training...\n"
     ]
    },
    {
     "name": "stderr",
     "output_type": "stream",
     "text": [
      "Iteration: 100%|██████████| 62/62 [00:05<00:00, 12.16it/s]\n",
      "Iteration:  35%|███▌      | 22/62 [00:01<00:03, 12.25it/s]"
     ]
    },
    {
     "name": "stdout",
     "output_type": "stream",
     "text": [
      "Evaluating...\n"
     ]
    },
    {
     "name": "stderr",
     "output_type": "stream",
     "text": [
      "Iteration:  92%|█████████▏| 57/62 [00:02<00:00, 23.19it/s]\n",
      "Iteration:  33%|███▎      | 6/18 [00:00<00:00, 23.06it/s]]\n",
      "Iteration:  67%|██████▋   | 12/18 [00:00<00:00, 23.22it/s]\n",
      "Iteration: 100%|██████████| 7/7 [00:00<00:00, 22.85it/s]s]\n",
      "Iteration:   0%|          | 0/62 [00:00<?, ?it/s]\n",
      "Iteration:  48%|████▊     | 30/62 [00:01<00:01, 21.72it/s]"
     ]
    },
    {
     "name": "stdout",
     "output_type": "stream",
     "text": [
      "{'Train':  best_epoch_indx:97\n",
      " auc:0.9999394188039888 \n",
      " apur:0.9999170646144766 \n",
      " f1:0.9955538617886178 \n",
      " precision:0.9934085435416402 \n",
      " recall:0.9977084659452577 \n",
      ", 'Validation':  best_epoch_indx:97\n",
      " auc:0.9688161685584366 \n",
      " apur:0.9585415221863983 \n",
      " f1:0.9006246450880181 \n",
      " precision:0.8930180180180181 \n",
      " recall:0.9083619702176403 \n",
      ", 'Test':  best_epoch_indx:97\n",
      " auc:0.9751825231023047 \n",
      " apur:0.969634214269329 \n",
      " f1:0.9121281464530893 \n",
      " precision:0.9108775137111518 \n",
      " recall:0.9133822181484876 \n",
      "}\n",
      "=====Epoch 98\n",
      "Training...\n"
     ]
    },
    {
     "name": "stderr",
     "output_type": "stream",
     "text": [
      "Iteration:  82%|████████▏ | 51/62 [00:02<00:00, 21.88it/s]"
     ]
    },
    {
     "name": "stdout",
     "output_type": "stream",
     "text": [
      "{'Train':  best_epoch_indx:99\n",
      " auc:0.9999821900572765 \n",
      " apur:0.9999758479308045 \n",
      " f1:0.9972672386399746 \n",
      " precision:0.9956852791878172 \n",
      " recall:0.9988542329726289 \n",
      ", 'Validation':  best_epoch_indx:99\n",
      " auc:0.971539565182177 \n",
      " apur:0.961232825482681 \n",
      " f1:0.9103608847497089 \n",
      " precision:0.9254437869822485 \n",
      " recall:0.8957617411225659 \n",
      ", 'Test':  best_epoch_indx:99\n",
      " auc:0.972462466569461 \n",
      " apur:0.9613920510608097 \n",
      " f1:0.9113924050632912 \n",
      " precision:0.9153952843273232 \n",
      " recall:0.9074243813015582 \n",
      "}\n",
      "Finished training!\n"
     ]
    },
    {
     "name": "stderr",
     "output_type": "stream",
     "text": [
      "\n",
      "Iteration:  94%|█████████▎| 58/62 [00:04<00:00, 12.31it/s]\n",
      "Iteration: 100%|██████████| 62/62 [00:05<00:00, 12.20it/s]\n",
      "Iteration:  39%|███▊      | 24/62 [00:02<00:03, 11.11it/s]\n",
      "Iteration:   0%|          | 0/7 [00:00<?, ?it/s]"
     ]
    },
    {
     "name": "stdout",
     "output_type": "stream",
     "text": [
      "Evaluating...\n"
     ]
    },
    {
     "name": "stderr",
     "output_type": "stream",
     "text": [
      "Iteration:  45%|████▌     | 28/62 [00:02<00:03, 10.61it/s]\n",
      "Iteration:  24%|██▍       | 15/62 [00:00<00:02, 21.92it/s]"
     ]
    },
    {
     "name": "stdout",
     "output_type": "stream",
     "text": [
      "{'Train':  best_epoch_indx:97\n",
      " auc:0.9999374598740063 \n",
      " apur:0.9999145738319692 \n",
      " f1:0.9951788886069525 \n",
      " precision:0.9917815147300544 \n",
      " recall:0.9985996180776575 \n",
      ", 'Validation':  best_epoch_indx:97\n",
      " auc:0.9684314508197669 \n",
      " apur:0.9577029005256341 \n",
      " f1:0.8985005767012688 \n",
      " precision:0.9047619047619048 \n",
      " recall:0.8923253150057274 \n",
      ", 'Test':  best_epoch_indx:97\n",
      " auc:0.9701944591037167 \n",
      " apur:0.9624158953403882 \n",
      " f1:0.8962199312714777 \n",
      " precision:0.8960146587265231 \n",
      " recall:0.8964252978918423 \n",
      "}\n",
      "=====Epoch 98\n",
      "Training...\n"
     ]
    },
    {
     "name": "stderr",
     "output_type": "stream",
     "text": [
      "Iteration:  90%|█████████ | 56/62 [00:04<00:00, 12.16it/s]\n",
      "Iteration: 100%|██████████| 62/62 [00:05<00:00, 11.55it/s]\n",
      "Iteration:  48%|████▊     | 30/62 [00:02<00:03, 10.10it/s]"
     ]
    },
    {
     "name": "stdout",
     "output_type": "stream",
     "text": [
      "Evaluating...\n"
     ]
    },
    {
     "name": "stderr",
     "output_type": "stream",
     "text": [
      "Iteration:  15%|█▍        | 9/62 [00:00<00:02, 19.20it/s]]\n",
      "Iteration:  40%|████      | 25/62 [00:01<00:01, 20.45it/s]"
     ]
    },
    {
     "name": "stdout",
     "output_type": "stream",
     "text": [
      "{'Train':  best_epoch_indx:99\n",
      " auc:0.9999816703001515 \n",
      " apur:0.9999747001307391 \n",
      " f1:0.9977134146341463 \n",
      " precision:0.9955634427684117 \n",
      " recall:0.9998726925525143 \n",
      ", 'Validation':  best_epoch_indx:99\n",
      " auc:0.9766816696942698 \n",
      " apur:0.9718253935298132 \n",
      " f1:0.9196067090803932 \n",
      " precision:0.9287383177570093 \n",
      " recall:0.9106529209621993 \n",
      ", 'Test':  best_epoch_indx:99\n",
      " auc:0.9738821919161057 \n",
      " apur:0.9640976161507122 \n",
      " f1:0.9111470113085621 \n",
      " precision:0.9177126917712691 \n",
      " recall:0.9046746104491292 \n",
      "}\n",
      "Finished training!\n"
     ]
    },
    {
     "name": "stderr",
     "output_type": "stream",
     "text": [
      "\n",
      "Iteration:  74%|███████▍  | 46/62 [00:04<00:01,  9.12it/s]\n",
      "Iteration: 100%|██████████| 7/7 [00:00<00:00, 22.41it/s]s]\n",
      "Iteration:  74%|███████▍  | 46/62 [00:02<00:00, 22.19it/s]"
     ]
    },
    {
     "name": "stdout",
     "output_type": "stream",
     "text": [
      "{'Train':  best_epoch_indx:98\n",
      " auc:0.9999846373613418 \n",
      " apur:0.9999790628258427 \n",
      " f1:0.9969512195121952 \n",
      " precision:0.9948028901001394 \n",
      " recall:0.9991088478676002 \n",
      ", 'Validation':  best_epoch_indx:98\n",
      " auc:0.9712985139674717 \n",
      " apur:0.9574678594985444 \n",
      " f1:0.8990825688073394 \n",
      " precision:0.9001148105625718 \n",
      " recall:0.8980526918671249 \n",
      ", 'Test':  best_epoch_indx:98\n",
      " auc:0.9735284002520391 \n",
      " apur:0.9643373053693508 \n",
      " f1:0.9091745228788227 \n",
      " precision:0.9123211813567144 \n",
      " recall:0.9060494958753437 \n",
      "}\n",
      "=====Epoch 99\n",
      "Training...\n"
     ]
    },
    {
     "name": "stderr",
     "output_type": "stream",
     "text": [
      "Iteration:  92%|█████████▏| 57/62 [00:05<00:00,  8.68it/s]\n",
      "Iteration: 100%|██████████| 62/62 [00:06<00:00,  9.71it/s]\n",
      "Iteration:  67%|██████▋   | 12/18 [00:00<00:00, 23.15it/s]"
     ]
    },
    {
     "name": "stdout",
     "output_type": "stream",
     "text": [
      "Evaluating...\n"
     ]
    },
    {
     "name": "stderr",
     "output_type": "stream",
     "text": [
      "Iteration:  10%|▉         | 6/62 [00:00<00:03, 16.69it/s]]\n",
      "Iteration: 100%|██████████| 7/7 [00:00<00:00, 22.43it/s]s]\n",
      "Iteration:  45%|████▌     | 28/62 [00:02<00:02, 13.17it/s]"
     ]
    },
    {
     "name": "stdout",
     "output_type": "stream",
     "text": [
      "{'Train':  best_epoch_indx:98\n",
      " auc:0.9999601762297108 \n",
      " apur:0.9999449940805317 \n",
      " f1:0.9973279043135259 \n",
      " precision:0.9968205519521811 \n",
      " recall:0.9978357733927434 \n",
      ", 'Validation':  best_epoch_indx:98\n",
      " auc:0.972210169661487 \n",
      " apur:0.96308447026909 \n",
      " f1:0.907621247113164 \n",
      " precision:0.9150174621653085 \n",
      " recall:0.9003436426116839 \n",
      ", 'Test':  best_epoch_indx:98\n",
      " auc:0.976366156362461 \n",
      " apur:0.970880274565407 \n",
      " f1:0.914789876944509 \n",
      " precision:0.9270588235294117 \n",
      " recall:0.9028414298808433 \n",
      "}\n",
      "=====Epoch 99\n",
      "Training...\n"
     ]
    },
    {
     "name": "stderr",
     "output_type": "stream",
     "text": [
      "Iteration: 100%|██████████| 62/62 [00:04<00:00, 13.10it/s]\n",
      "Iteration:  52%|█████▏    | 32/62 [00:02<00:02, 12.38it/s]"
     ]
    },
    {
     "name": "stdout",
     "output_type": "stream",
     "text": [
      "Evaluating...\n"
     ]
    },
    {
     "name": "stderr",
     "output_type": "stream",
     "text": [
      "Iteration:  55%|█████▍    | 34/62 [00:02<00:02, 12.43it/s]\n",
      "Iteration: 100%|██████████| 62/62 [00:05<00:00, 12.30it/s]\n",
      "Iteration:   5%|▍         | 3/62 [00:00<00:02, 20.84it/s]]"
     ]
    },
    {
     "name": "stdout",
     "output_type": "stream",
     "text": [
      "Evaluating...\n"
     ]
    },
    {
     "name": "stderr",
     "output_type": "stream",
     "text": [
      "\n",
      "Iteration: 100%|██████████| 62/62 [00:02<00:00, 23.28it/s]\n",
      "Iteration:  50%|█████     | 9/18 [00:00<00:00, 24.39it/s]\n",
      "Iteration: 100%|██████████| 7/7 [00:00<00:00, 23.34it/s]s]\n",
      "Iteration:   0%|          | 0/62 [00:00<?, ?it/s]"
     ]
    },
    {
     "name": "stdout",
     "output_type": "stream",
     "text": [
      "{'Train':  best_epoch_indx:98\n",
      " auc:0.9999588742991703 \n",
      " apur:0.999943474545472 \n",
      " f1:0.9972052845528456 \n",
      " precision:0.9950564076562302 \n",
      " recall:0.9993634627625716 \n",
      ", 'Validation':  best_epoch_indx:98\n",
      " auc:0.9680679455879914 \n",
      " apur:0.9575973167232874 \n",
      " f1:0.8998262883613202 \n",
      " precision:0.9098360655737705 \n",
      " recall:0.8900343642611683 \n",
      ", 'Test':  best_epoch_indx:98\n",
      " auc:0.9710295746959359 \n",
      " apur:0.9629488296413008 \n",
      " f1:0.9001614018907079 \n",
      " precision:0.905800464037123 \n",
      " recall:0.8945921173235564 \n",
      "}\n",
      "=====Epoch 99\n",
      "Training...\n"
     ]
    },
    {
     "name": "stderr",
     "output_type": "stream",
     "text": [
      "\n",
      "Iteration:  13%|█▎        | 8/62 [00:00<00:04, 11.04it/s]"
     ]
    },
    {
     "name": "stdout",
     "output_type": "stream",
     "text": [
      "{'Train':  best_epoch_indx:99\n",
      " auc:0.9999734905165479 \n",
      " apur:0.9999634899105178 \n",
      " f1:0.9975208187654948 \n",
      " precision:0.9961909598781107 \n",
      " recall:0.9988542329726289 \n",
      ", 'Validation':  best_epoch_indx:99\n",
      " auc:0.9727226445439504 \n",
      " apur:0.9636061249054304 \n",
      " f1:0.912743972445465 \n",
      " precision:0.9148446490218642 \n",
      " recall:0.9106529209621993 \n",
      ", 'Test':  best_epoch_indx:99\n",
      " auc:0.9767727408704487 \n",
      " apur:0.970853509442394 \n",
      " f1:0.9173001612531674 \n",
      " precision:0.9221861973135711 \n",
      " recall:0.9124656278643446 \n",
      "}\n",
      "Finished training!\n"
     ]
    },
    {
     "name": "stderr",
     "output_type": "stream",
     "text": [
      "\n",
      "Iteration:  32%|███▏      | 20/62 [00:01<00:03, 10.96it/s]\n",
      "Iteration:  48%|████▊     | 30/62 [00:02<00:02, 11.29it/s]\n"
     ]
    },
    {
     "name": "stdout",
     "output_type": "stream",
     "text": [
      "{'Train':  best_epoch_indx:99\n",
      " auc:0.9999930094039594 \n",
      " apur:0.9999904757931334 \n",
      " f1:0.9979035639412999 \n",
      " precision:0.9959421760081156 \n",
      " recall:0.9998726925525143 \n",
      ", 'Validation':  best_epoch_indx:99\n",
      " auc:0.9726344197993683 \n",
      " apur:0.9593649152817476 \n",
      " f1:0.9065902578796561 \n",
      " precision:0.9071100917431193 \n",
      " recall:0.9060710194730813 \n",
      ", 'Test':  best_epoch_indx:99\n",
      " auc:0.9744124977347656 \n",
      " apur:0.9652847499508548 \n",
      " f1:0.9148642429820525 \n",
      " precision:0.9186691312384473 \n",
      " recall:0.9110907424381302 \n",
      "}\n",
      "Finished training!\n"
     ]
    },
    {
     "name": "stderr",
     "output_type": "stream",
     "text": [
      "Iteration: 100%|██████████| 62/62 [00:05<00:00, 11.03it/s]\n",
      "Iteration:   0%|          | 0/62 [00:00<?, ?it/s]"
     ]
    },
    {
     "name": "stdout",
     "output_type": "stream",
     "text": [
      "Evaluating...\n"
     ]
    },
    {
     "name": "stderr",
     "output_type": "stream",
     "text": [
      "Iteration: 100%|██████████| 62/62 [00:03<00:00, 19.73it/s]\n",
      "Iteration: 100%|██████████| 18/18 [00:00<00:00, 21.24it/s]\n",
      "Iteration: 100%|██████████| 7/7 [00:00<00:00, 24.44it/s]"
     ]
    },
    {
     "name": "stdout",
     "output_type": "stream",
     "text": [
      "{'Train':  best_epoch_indx:99\n",
      " auc:0.9999827064820143 \n",
      " apur:0.9999764136801653 \n",
      " f1:0.9968266057374968 \n",
      " precision:0.9939248196430831 \n",
      " recall:0.9997453851050286 \n",
      ", 'Validation':  best_epoch_indx:99\n",
      " auc:0.9685823488801726 \n",
      " apur:0.9586326478405213 \n",
      " f1:0.8991452991452992 \n",
      " precision:0.8945578231292517 \n",
      " recall:0.9037800687285223 \n",
      ", 'Test':  best_epoch_indx:99\n",
      " auc:0.9715866270403393 \n",
      " apur:0.9635666900816419 \n",
      " f1:0.8999085923217549 \n",
      " precision:0.8974475843208751 \n",
      " recall:0.9023831347387717 \n",
      "}\n",
      "Finished training!\n"
     ]
    },
    {
     "name": "stderr",
     "output_type": "stream",
     "text": [
      "\n"
     ]
    },
    {
     "name": "stdout",
     "output_type": "stream",
     "text": [
      "<<< joined hyperparam search process\n",
      "released_gpu_num: 3\n",
      "<<< joined hyperparam search process\n",
      "released_gpu_num: 1\n",
      "<<< joined hyperparam search process\n",
      "released_gpu_num: 4\n",
      "<<< joined hyperparam search process\n",
      "released_gpu_num: 2\n",
      "<<< joined hyperparam search process\n",
      "released_gpu_num: 0\n"
     ]
    }
   ],
   "source": [
    "import torch.multiprocessing as mp\n",
    "mp.set_start_method(\"spawn\", force=True)\n",
    "\n",
    "queue = mp.Queue()\n",
    "q_processes = []\n",
    "\n",
    "# partition = fold_partitions[0]\n",
    "time_stamp = datetime.datetime.now().strftime('%Y-%m-%d_%H-%M-%S')\n",
    "\n",
    "print(\"Start: \" + time_stamp)\n",
    "\n",
    "for q_i in range(min(n_gpu, len(fold_partitions))):\n",
    "#     device_gpu = get_device(True, index=q_i)\n",
    "    partition = fold_partitions[q_i]\n",
    "    exp_dir = create_directory(os.path.join(targetdata_dir_exp, \"fold_\"+str(q_i)+\"_\"+time_stamp))\n",
    "    create_directory(os.path.join(exp_dir, \"predictions\"))\n",
    "\n",
    "#     tphp = generate_tp_hp(tp, hyperparam_space[q_i], hp_names)\n",
    "    \n",
    "    q_process = create_q_process(queue, dataset, q_i, tp, exp_dir, partition)\n",
    "    q_processes.append(q_process)\n",
    "    spawn_q_process(q_process)\n",
    "\n",
    "spawned_processes = n_gpu\n",
    "    \n",
    "# for q_i in range(len(hyperparam_space)):\n",
    "for q_i in range(min(n_gpu, len(fold_partitions))):\n",
    "    join_q_process(q_processes[q_i])\n",
    "    released_gpu_num = queue.get()\n",
    "    print(\"released_gpu_num:\", released_gpu_num)\n",
    "#     if(spawned_processes < len(hyperparam_space)):\n",
    "# #         device_gpu = get_device(True, index=q_i)\n",
    "#         time_stamp = datetime.datetime.now().strftime('%Y-%m-%d_%H-%M-%S')\n",
    "#         exp_dir = create_directory(os.path.join(targetdata_dir_exp, \"exp_\"+str(q_i)+\"_\"+time_stamp))\n",
    "#         tphp = generate_tp_hp(tp, hyperparam_space[q_i], hp_names)\n",
    "\n",
    "#         q_process = create_q_process(queue, used_dataset, released_gpu_num, tphp, exp_dir, partition)\n",
    "#         q_processes.append(q_process)\n",
    "#         spawn_q_process(q_process)\n",
    "#         spawned_processes = spawned_processes + 1"
   ]
  },
  {
   "cell_type": "code",
   "execution_count": 35,
   "metadata": {},
   "outputs": [
    {
     "name": "stdout",
     "output_type": "stream",
     "text": [
      "End: 2022-09-01_12-40-32\n"
     ]
    }
   ],
   "source": [
    "print(\"End: \" + datetime.datetime.now().strftime('%Y-%m-%d_%H-%M-%S'))\n"
   ]
  },
  {
   "cell_type": "code",
   "execution_count": null,
   "metadata": {},
   "outputs": [],
   "source": []
  }
 ],
 "metadata": {
  "kernelspec": {
   "display_name": "Python 3 (ipykernel)",
   "language": "python",
   "name": "python3"
  },
  "language_info": {
   "codemirror_mode": {
    "name": "ipython",
    "version": 3
   },
   "file_extension": ".py",
   "mimetype": "text/x-python",
   "name": "python",
   "nbconvert_exporter": "python",
   "pygments_lexer": "ipython3",
   "version": "3.8.10"
  }
 },
 "nbformat": 4,
 "nbformat_minor": 4
}
