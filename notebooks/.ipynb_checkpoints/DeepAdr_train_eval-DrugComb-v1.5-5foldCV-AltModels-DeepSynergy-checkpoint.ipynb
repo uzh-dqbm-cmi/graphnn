{
 "cells": [
  {
   "cell_type": "code",
   "execution_count": 1,
   "metadata": {
    "scrolled": false
   },
   "outputs": [],
   "source": [
    "%load_ext autoreload\n",
    "%autoreload 2"
   ]
  },
  {
   "cell_type": "code",
   "execution_count": 2,
   "metadata": {},
   "outputs": [],
   "source": [
    "import os\n",
    "import sys\n",
    "import numpy as np\n",
    "import pandas as pd\n",
    "import datetime\n",
    "import seaborn as sns\n",
    "import ogb\n",
    "from tqdm import tqdm\n",
    "import hiplot as hip\n",
    "from copy import deepcopy\n",
    "import datetime"
   ]
  },
  {
   "cell_type": "code",
   "execution_count": 3,
   "metadata": {},
   "outputs": [],
   "source": [
    "import torch\n",
    "from torch_geometric.data import Data\n",
    "from torch_geometric.loader import DataLoader\n",
    "from torch.utils.data import Subset, TensorDataset"
   ]
  },
  {
   "cell_type": "code",
   "execution_count": 4,
   "metadata": {},
   "outputs": [
    {
     "name": "stdout",
     "output_type": "stream",
     "text": [
      "/cluster/home/skyriakos/chemprop_run/git/notebooks\n"
     ]
    }
   ],
   "source": [
    "cwd = os.getcwd()\n",
    "print(cwd)"
   ]
  },
  {
   "cell_type": "code",
   "execution_count": 5,
   "metadata": {},
   "outputs": [],
   "source": [
    "os.chdir('..')\n",
    "import deepadr\n",
    "from deepadr.dataset import *\n",
    "from deepadr.utilities import *\n",
    "from deepadr.run_workflow import *\n",
    "from deepadr.chemfeatures import *\n",
    "from deepadr.hyphelperflat import *\n",
    "# from deepadr.model_gnn import GCN as testGCN\n",
    "from deepadr.model_gnn_ogb import GNN, DeepAdr_SiameseTrf, ExpressionNN\n",
    "# from deepadr.model_attn_siamese import *\n",
    "from ogb.graphproppred import Evaluator\n",
    "os.chdir(cwd)"
   ]
  },
  {
   "cell_type": "code",
   "execution_count": 6,
   "metadata": {},
   "outputs": [],
   "source": [
    "from rdkit.Chem.Draw import IPythonConsole\n",
    "from rdkit.Chem import Draw"
   ]
  },
  {
   "cell_type": "code",
   "execution_count": 7,
   "metadata": {},
   "outputs": [],
   "source": [
    "# from tdc.single_pred import Tox\n",
    "# from tdc.multi_pred import DDI"
   ]
  },
  {
   "cell_type": "code",
   "execution_count": 8,
   "metadata": {},
   "outputs": [],
   "source": [
    "rawdata_dir = '../data/raw/'\n",
    "processed_dir = '../data/processed/'\n",
    "up_dir = '..'"
   ]
  },
  {
   "cell_type": "code",
   "execution_count": 9,
   "metadata": {
    "scrolled": true
   },
   "outputs": [
    {
     "name": "stdout",
     "output_type": "stream",
     "text": [
      "number of GPUs available: 8\n",
      "cuda:0, name:GeForce GTX 1080 Ti\n",
      "total memory available: 10.91650390625 GB\n",
      "total memory allocated on device: 0.0 GB\n",
      "max memory allocated on device: 0.0 GB\n",
      "total memory cached on device: 0.0 GB\n",
      "max memory cached  on device: 0.0 GB\n",
      "\n",
      "cuda:1, name:GeForce GTX 1080 Ti\n",
      "total memory available: 10.91650390625 GB\n",
      "total memory allocated on device: 0.0 GB\n",
      "max memory allocated on device: 0.0 GB\n",
      "total memory cached on device: 0.0 GB\n",
      "max memory cached  on device: 0.0 GB\n",
      "\n",
      "cuda:2, name:GeForce GTX 1080 Ti\n",
      "total memory available: 10.91650390625 GB\n",
      "total memory allocated on device: 0.0 GB\n",
      "max memory allocated on device: 0.0 GB\n",
      "total memory cached on device: 0.0 GB\n",
      "max memory cached  on device: 0.0 GB\n",
      "\n",
      "cuda:3, name:GeForce GTX 1080 Ti\n",
      "total memory available: 10.91650390625 GB\n",
      "total memory allocated on device: 0.0 GB\n",
      "max memory allocated on device: 0.0 GB\n",
      "total memory cached on device: 0.0 GB\n",
      "max memory cached  on device: 0.0 GB\n",
      "\n",
      "cuda:4, name:GeForce GTX 1080 Ti\n",
      "total memory available: 10.91650390625 GB\n",
      "total memory allocated on device: 0.0 GB\n",
      "max memory allocated on device: 0.0 GB\n",
      "total memory cached on device: 0.0 GB\n",
      "max memory cached  on device: 0.0 GB\n",
      "\n",
      "cuda:5, name:GeForce GTX 1080 Ti\n",
      "total memory available: 10.91650390625 GB\n",
      "total memory allocated on device: 0.0 GB\n",
      "max memory allocated on device: 0.0 GB\n",
      "total memory cached on device: 0.0 GB\n",
      "max memory cached  on device: 0.0 GB\n",
      "\n",
      "cuda:6, name:GeForce GTX 1080 Ti\n",
      "total memory available: 10.91650390625 GB\n",
      "total memory allocated on device: 0.0 GB\n",
      "max memory allocated on device: 0.0 GB\n",
      "total memory cached on device: 0.0 GB\n",
      "max memory cached  on device: 0.0 GB\n",
      "\n",
      "cuda:7, name:GeForce GTX 1080 Ti\n",
      "total memory available: 10.91650390625 GB\n",
      "total memory allocated on device: 0.0 GB\n",
      "max memory allocated on device: 0.0 GB\n",
      "total memory cached on device: 0.0 GB\n",
      "max memory cached  on device: 0.0 GB\n",
      "\n"
     ]
    }
   ],
   "source": [
    "report_available_cuda_devices()"
   ]
  },
  {
   "cell_type": "code",
   "execution_count": 10,
   "metadata": {},
   "outputs": [
    {
     "data": {
      "text/plain": [
       "8"
      ]
     },
     "execution_count": 10,
     "metadata": {},
     "output_type": "execute_result"
    }
   ],
   "source": [
    "n_gpu = torch.cuda.device_count()\n",
    "n_gpu"
   ]
  },
  {
   "cell_type": "code",
   "execution_count": 11,
   "metadata": {},
   "outputs": [],
   "source": [
    "device_cpu = get_device(to_gpu=False)\n",
    "# device_gpu = get_device(True, index=0)\n",
    "\n",
    "# fdtype = torch.float32"
   ]
  },
  {
   "cell_type": "code",
   "execution_count": 12,
   "metadata": {},
   "outputs": [
    {
     "name": "stdout",
     "output_type": "stream",
     "text": [
      "torch: 1.9.1\n",
      "CUDA: 11.1\n",
      "3.9.9 | packaged by conda-forge | (main, Dec 20 2021, 02:41:03) \n",
      "[GCC 9.4.0]\n"
     ]
    }
   ],
   "source": [
    "print(\"torch:\", torch.__version__)\n",
    "print(\"CUDA:\", torch.version.cuda)\n",
    "print(sys.version)"
   ]
  },
  {
   "cell_type": "code",
   "execution_count": 13,
   "metadata": {},
   "outputs": [],
   "source": [
    "# print(torch.cuda.memory_summary(device=device_gpu))"
   ]
  },
  {
   "cell_type": "markdown",
   "metadata": {},
   "source": [
    "### Preparing dataset "
   ]
  },
  {
   "cell_type": "code",
   "execution_count": 14,
   "metadata": {},
   "outputs": [],
   "source": [
    "score = 'total_thresh' #'total_thresh'\n",
    "score_val = 2"
   ]
  },
  {
   "cell_type": "code",
   "execution_count": 15,
   "metadata": {},
   "outputs": [],
   "source": [
    "# v_1: GNN\n",
    "# v_2: Alt Models"
   ]
  },
  {
   "cell_type": "code",
   "execution_count": 16,
   "metadata": {},
   "outputs": [],
   "source": [
    "# TDC Tox\n",
    "# DSdataset_name = 'SynergxZloewe' #'OncoPolyPharmacology' #'DrugComb'\n",
    "DSdataset_name = f'DrugComb_{score}_{score_val}' #'DrugComb'\n",
    "\n",
    "\n",
    "#fname_suffix = ds_config[\"fname_suffix\"]\n",
    "# similarity_types = ['chem']\n",
    "# kernel_option = 'sqeuclidean'\n",
    "data_fname = 'data_v2'\n",
    "# interact_matfname = ds_config[\"interact_matfname\"]\n",
    "# exp_iden = 'simtypeall'\n",
    "# ddi_interaction_labels_pth = ds_config[\"ddi_interaction_labels_pth\"]\n",
    "\n",
    "# up_dir, processed_dir, DSdataset_name, data_fname"
   ]
  },
  {
   "cell_type": "code",
   "execution_count": 17,
   "metadata": {
    "scrolled": true
   },
   "outputs": [
    {
     "name": "stdout",
     "output_type": "stream",
     "text": [
      "path_current_dir /cluster/home/skyriakos/chemprop_run/git/deepadr\n",
      "path_current_dir /cluster/home/skyriakos/chemprop_run/git/deepadr\n",
      "path_current_dir /cluster/home/skyriakos/chemprop_run/git/deepadr\n",
      "path_current_dir /cluster/home/skyriakos/chemprop_run/git/deepadr\n",
      "/cluster/home/skyriakos/chemprop_run/git/data/processed/DrugComb_total_thresh_3/data_v2\n"
     ]
    }
   ],
   "source": [
    "targetdata_dir = create_directory(os.path.join(processed_dir, DSdataset_name, data_fname))\n",
    "targetdata_dir_raw = create_directory(os.path.join(targetdata_dir, \"raw\"))\n",
    "targetdata_dir_processed = create_directory(os.path.join(targetdata_dir, \"processed\"))\n",
    "targetdata_dir_exp = create_directory(os.path.join(targetdata_dir, \"experiments\"))\n",
    "# # ReaderWriter.dump_data(dpartitions, os.path.join(targetdata_dir, 'data_partitions.pkl'))\n",
    "print(targetdata_dir)"
   ]
  },
  {
   "cell_type": "code",
   "execution_count": 18,
   "metadata": {},
   "outputs": [],
   "source": [
    "xFlat = ReaderWriter.read_data(os.path.join(targetdata_dir_raw, 'X_flat.pkl'))\n",
    "y = ReaderWriter.read_data(os.path.join(targetdata_dir_raw, 'y.pkl'))\n",
    "expression = ReaderWriter.read_data(os.path.join(targetdata_dir_raw, 'expression.pkl'))"
   ]
  },
  {
   "cell_type": "code",
   "execution_count": 19,
   "metadata": {},
   "outputs": [
    {
     "data": {
      "text/plain": [
       "torch.Size([64140, 18])"
      ]
     },
     "execution_count": 19,
     "metadata": {},
     "output_type": "execute_result"
    }
   ],
   "source": [
    "xFlatMat = torch.stack([torch.cat(i) for i in list(xFlat.values())])\n",
    "xFlatMat.shape"
   ]
  },
  {
   "cell_type": "code",
   "execution_count": 20,
   "metadata": {},
   "outputs": [
    {
     "data": {
      "text/plain": [
       "tensor([[ 0.1790,  0.2520,  1.3661,  ..., -0.4165,  0.9541,  0.9106],\n",
       "        [ 0.1790,  0.2520,  1.3661,  ..., -0.4165,  0.9541,  0.9106],\n",
       "        [ 0.1790,  0.2520,  1.3661,  ..., -0.4165,  0.9541,  0.9106],\n",
       "        ...,\n",
       "        [-0.0309, -1.4168,  1.5472,  ..., -1.2610,  1.2777,  0.9653],\n",
       "        [-0.0309, -1.4168,  1.5472,  ..., -1.2610,  1.2777,  0.9653],\n",
       "        [-0.0309, -1.4168,  1.5472,  ..., -1.2610,  1.2777,  0.9653]],\n",
       "       dtype=torch.float64)"
      ]
     },
     "execution_count": 20,
     "metadata": {},
     "output_type": "execute_result"
    }
   ],
   "source": [
    "torch.tensor(expression)"
   ]
  },
  {
   "cell_type": "code",
   "execution_count": 21,
   "metadata": {
    "scrolled": false
   },
   "outputs": [
    {
     "data": {
      "text/plain": [
       "torch.Size([64140, 926])"
      ]
     },
     "execution_count": 21,
     "metadata": {},
     "output_type": "execute_result"
    }
   ],
   "source": [
    "x = torch.cat([xFlatMat, torch.tensor(expression)], dim=1)\n",
    "x.shape"
   ]
  },
  {
   "cell_type": "code",
   "execution_count": null,
   "metadata": {},
   "outputs": [],
   "source": []
  },
  {
   "cell_type": "code",
   "execution_count": 22,
   "metadata": {},
   "outputs": [],
   "source": [
    "# %%time\n",
    "\n",
    "# # Make sure to first run the \"data_generation\" notebook first\n",
    "\n",
    "# dataset = MoleculeDataset(root=targetdata_dir)"
   ]
  },
  {
   "cell_type": "code",
   "execution_count": 23,
   "metadata": {},
   "outputs": [],
   "source": [
    "# print()\n",
    "# print(f'Dataset: {dataset}:')\n",
    "# print('====================')\n",
    "# print(f'Number of graphs: {len(dataset)}')\n",
    "# print(f'Number of features: {dataset.num_features}')\n",
    "# print(f'Number of classes: {dataset.num_classes}')\n",
    "\n",
    "# # data0 = dataset[0]  # Get the first graph object.\n",
    "\n",
    "# # print()\n",
    "# # print(data)\n",
    "# # print('=============================================================')\n",
    "\n",
    "# # # Gather some statistics about the first graph.\n",
    "# # print(f'Number of nodes: {data.num_nodes}')\n",
    "# # print(f'Number of edges: {data.num_edges}')\n",
    "# # print(f'Average node degree: {data.num_edges / data.num_nodes:.2f}')\n",
    "# # print(f'Contains isolated nodes: {data.contains_isolated_nodes()}')\n",
    "# # print(f'Contains self-loops: {data.contains_self_loops()}')\n",
    "# # print(f'Is undirected: {data.is_undirected()}')"
   ]
  },
  {
   "cell_type": "code",
   "execution_count": 24,
   "metadata": {
    "scrolled": true
   },
   "outputs": [],
   "source": [
    "# data0"
   ]
  },
  {
   "cell_type": "code",
   "execution_count": 25,
   "metadata": {},
   "outputs": [],
   "source": [
    "# data0.expression.shape"
   ]
  },
  {
   "cell_type": "code",
   "execution_count": 26,
   "metadata": {},
   "outputs": [],
   "source": [
    "# data0.y"
   ]
  },
  {
   "cell_type": "code",
   "execution_count": 27,
   "metadata": {},
   "outputs": [],
   "source": [
    "# dataset.tensors[1]"
   ]
  },
  {
   "cell_type": "code",
   "execution_count": 28,
   "metadata": {},
   "outputs": [],
   "source": [
    "# used_dataset = dataset\n",
    "\n",
    "# If you want to use a smaller subset of the dataset for testing\n",
    "# smaller_dataset_len = int(len(dataset)/1)\n",
    "# used_dataset = dataset[:smaller_dataset_len]"
   ]
  },
  {
   "cell_type": "code",
   "execution_count": 29,
   "metadata": {},
   "outputs": [],
   "source": [
    "# type(used_dataset)"
   ]
  },
  {
   "cell_type": "code",
   "execution_count": 30,
   "metadata": {
    "scrolled": false
   },
   "outputs": [],
   "source": [
    "# dataset.data.y"
   ]
  },
  {
   "cell_type": "code",
   "execution_count": 31,
   "metadata": {},
   "outputs": [
    {
     "data": {
      "text/plain": [
       "array([0, 0, 0, ..., 1, 0, 0])"
      ]
     },
     "execution_count": 31,
     "metadata": {},
     "output_type": "execute_result"
    }
   ],
   "source": [
    "y"
   ]
  },
  {
   "cell_type": "code",
   "execution_count": 32,
   "metadata": {},
   "outputs": [
    {
     "data": {
      "text/plain": [
       "torch.Size([64140, 926])"
      ]
     },
     "execution_count": 32,
     "metadata": {},
     "output_type": "execute_result"
    }
   ],
   "source": [
    "x.shape"
   ]
  },
  {
   "cell_type": "code",
   "execution_count": 33,
   "metadata": {},
   "outputs": [
    {
     "data": {
      "text/plain": [
       "(64140,)"
      ]
     },
     "execution_count": 33,
     "metadata": {},
     "output_type": "execute_result"
    }
   ],
   "source": [
    "y.shape"
   ]
  },
  {
   "cell_type": "code",
   "execution_count": 34,
   "metadata": {
    "scrolled": true
   },
   "outputs": [],
   "source": [
    "# fold_partitions = get_stratified_partitions(dataset.data.y,\n",
    "#                                             num_folds=5,\n",
    "#                                             valid_set_portion=0.1,\n",
    "#                                             random_state=42)"
   ]
  },
  {
   "cell_type": "code",
   "execution_count": 35,
   "metadata": {},
   "outputs": [
    {
     "name": "stdout",
     "output_type": "stream",
     "text": [
      "fold_num: 0\n",
      "train data\n",
      "class: 0 norm count: 0.6346470333477696\n",
      "class: 1 norm count: 0.3653529666522304\n",
      "validation data\n",
      "class: 0 norm count: 0.6346453624318005\n",
      "class: 1 norm count: 0.3653546375681995\n",
      "test data\n",
      "class: 0 norm count: 0.6347053320860617\n",
      "class: 1 norm count: 0.3652946679139383\n",
      "\n",
      "-------------------------\n",
      "fold_num: 1\n",
      "train data\n",
      "class: 0 norm count: 0.6346470333477696\n",
      "class: 1 norm count: 0.3653529666522304\n",
      "validation data\n",
      "class: 0 norm count: 0.6346453624318005\n",
      "class: 1 norm count: 0.3653546375681995\n",
      "test data\n",
      "class: 0 norm count: 0.6347053320860617\n",
      "class: 1 norm count: 0.3652946679139383\n",
      "\n",
      "-------------------------\n",
      "fold_num: 2\n",
      "train data\n",
      "class: 0 norm count: 0.634668687743612\n",
      "class: 1 norm count: 0.36533131225638804\n",
      "validation data\n",
      "class: 0 norm count: 0.6346453624318005\n",
      "class: 1 norm count: 0.3653546375681995\n",
      "test data\n",
      "class: 0 norm count: 0.6346273776114749\n",
      "class: 1 norm count: 0.3653726223885251\n",
      "\n",
      "-------------------------\n",
      "fold_num: 3\n",
      "train data\n",
      "class: 0 norm count: 0.634668687743612\n",
      "class: 1 norm count: 0.36533131225638804\n",
      "validation data\n",
      "class: 0 norm count: 0.6346453624318005\n",
      "class: 1 norm count: 0.3653546375681995\n",
      "test data\n",
      "class: 0 norm count: 0.6346273776114749\n",
      "class: 1 norm count: 0.3653726223885251\n",
      "\n",
      "-------------------------\n",
      "fold_num: 4\n",
      "train data\n",
      "class: 0 norm count: 0.634668687743612\n",
      "class: 1 norm count: 0.36533131225638804\n",
      "validation data\n",
      "class: 0 norm count: 0.6346453624318005\n",
      "class: 1 norm count: 0.3653546375681995\n",
      "test data\n",
      "class: 0 norm count: 0.6346273776114749\n",
      "class: 1 norm count: 0.3653726223885251\n",
      "\n",
      "-------------------------\n"
     ]
    }
   ],
   "source": [
    "fold_partitions = get_stratified_partitions(y,\n",
    "                                            num_folds=5,\n",
    "                                            valid_set_portion=0.1,\n",
    "                                            random_state=42)"
   ]
  },
  {
   "cell_type": "code",
   "execution_count": 36,
   "metadata": {},
   "outputs": [],
   "source": [
    "# train_val_test_frac = [0.7, 0.1, 0.2]\n",
    "# assert sum(train_val_test_frac) == 1\n",
    "\n",
    "# torch.manual_seed(42)\n",
    "# used_dataset = used_dataset.shuffle()\n",
    "\n",
    "# num_train = round(train_val_test_frac[0] * len(used_dataset)) \n",
    "# num_trainval = round((train_val_test_frac[0]+train_val_test_frac[1]) * len(used_dataset))\n",
    "\n",
    "# train_dataset = used_dataset[:num_train]\n",
    "# val_dataset = used_dataset[num_train:num_trainval]\n",
    "# test_dataset = used_dataset[num_trainval:]"
   ]
  },
  {
   "cell_type": "code",
   "execution_count": 37,
   "metadata": {},
   "outputs": [],
   "source": [
    "# train_dataset = Subset(used_dataset, fold_partitions[0]['train'])\n",
    "# val_dataset = Subset(used_dataset, fold_partitions[0]['validation'])\n",
    "# test_dataset = Subset(used_dataset, fold_partitions[0]['test'])"
   ]
  },
  {
   "cell_type": "code",
   "execution_count": 38,
   "metadata": {},
   "outputs": [],
   "source": [
    "# print(f'Number of training graphs: {len(train_dataset)}')\n",
    "# print(f'Number of val graphs: {len(val_dataset)}')\n",
    "# print(f'Number of test graphs: {len(test_dataset)}')"
   ]
  },
  {
   "cell_type": "code",
   "execution_count": 39,
   "metadata": {},
   "outputs": [
    {
     "name": "stdout",
     "output_type": "stream",
     "text": [
      "Number of training graphs: 46180\n",
      "Number of validation graphs: 5132\n",
      "Number of testing graphs: 12828\n"
     ]
    }
   ],
   "source": [
    "print(\"Number of training graphs: \"+ str(len(fold_partitions[0]['train'])))\n",
    "print(\"Number of validation graphs: \"+ str(len(fold_partitions[0]['validation'])))\n",
    "print(\"Number of testing graphs: \"+ str(len(fold_partitions[0]['test'])))\n"
   ]
  },
  {
   "cell_type": "markdown",
   "metadata": {},
   "source": [
    "### Preprocessing"
   ]
  },
  {
   "cell_type": "code",
   "execution_count": 40,
   "metadata": {},
   "outputs": [],
   "source": [
    "# import functools\n",
    "\n",
    "# def compose(*functions):\n",
    "#     return functools.reduce(lambda f, g: lambda x: f(g(x)), functions, lambda x: x)"
   ]
  },
  {
   "cell_type": "code",
   "execution_count": 41,
   "metadata": {},
   "outputs": [],
   "source": [
    "from sklearn.preprocessing import StandardScaler\n",
    "scaler = StandardScaler()"
   ]
  },
  {
   "cell_type": "code",
   "execution_count": 42,
   "metadata": {},
   "outputs": [],
   "source": [
    "x_np = x.numpy()\n",
    "y_np = y"
   ]
  },
  {
   "cell_type": "code",
   "execution_count": 43,
   "metadata": {},
   "outputs": [],
   "source": [
    "pipeline = compose(scaler.fit_transform, np.tanh, scaler.fit_transform)"
   ]
  },
  {
   "cell_type": "code",
   "execution_count": 44,
   "metadata": {},
   "outputs": [],
   "source": [
    "x_np_norm = pipeline(x_np)"
   ]
  },
  {
   "cell_type": "code",
   "execution_count": 45,
   "metadata": {},
   "outputs": [
    {
     "data": {
      "text/plain": [
       "926"
      ]
     },
     "execution_count": 45,
     "metadata": {},
     "output_type": "execute_result"
    }
   ],
   "source": [
    "deepsynergy_input_size = x_np_norm.shape[1]\n",
    "deepsynergy_input_size"
   ]
  },
  {
   "cell_type": "code",
   "execution_count": 46,
   "metadata": {},
   "outputs": [],
   "source": [
    "ids = list(range(len(y)))"
   ]
  },
  {
   "cell_type": "code",
   "execution_count": 47,
   "metadata": {},
   "outputs": [
    {
     "data": {
      "text/plain": [
       "<torch.utils.data.dataset.TensorDataset at 0x2b23d0c60820>"
      ]
     },
     "execution_count": 47,
     "metadata": {},
     "output_type": "execute_result"
    }
   ],
   "source": [
    "dataset = TensorDataset(torch.tensor(x_np_norm),torch.tensor(y), torch.tensor(ids))\n",
    "dataset"
   ]
  },
  {
   "cell_type": "markdown",
   "metadata": {},
   "source": [
    "### Deep Synergy"
   ]
  },
  {
   "cell_type": "code",
   "execution_count": 48,
   "metadata": {},
   "outputs": [],
   "source": [
    "# print(dataset.num_classes)"
   ]
  },
  {
   "cell_type": "code",
   "execution_count": 49,
   "metadata": {},
   "outputs": [],
   "source": [
    "# training params total_thresh 4\n",
    "tp = {\n",
    "    \"batch_size\" : 300,\n",
    "    \"num_epochs\" : 100,\n",
    "    \n",
    "    \"emb_dim\" : 300,\n",
    "    \"gnn_type\" : \"gatv2\",\n",
    "    \"num_layer\" : 5,\n",
    "    \"graph_pooling\" : \"mean\", #attention\n",
    "    \n",
    "    \"input_embed_dim\" : None,\n",
    "    \"gene_embed_dim\": 1,\n",
    "    \"num_attn_heads\" : 2,\n",
    "    \"num_transformer_units\" : 1,\n",
    "    \"p_dropout\" : 0.3,\n",
    "#     \"nonlin_func\" : nn.ReLU(),\n",
    "    \"mlp_embed_factor\" : 2,\n",
    "    \"pooling_mode\" : 'attn',\n",
    "    \"dist_opt\" : 'cosine',\n",
    "\n",
    "    \"base_lr\" : 3e-5, #3e-4\n",
    "    \"max_lr_mul\": 5,\n",
    "    \"l2_reg\" : 1e-5,\n",
    "    \"loss_w\" : 1.,\n",
    "    \"margin_v\" : 1.,\n",
    "\n",
    "    \"expression_dim\" : 64,\n",
    "    \"expression_input_size\" : 908,\n",
    "    \"exp_H1\" : 8192,\n",
    "    \"exp_H2\" : 4096\n",
    "}"
   ]
  },
  {
   "cell_type": "code",
   "execution_count": 50,
   "metadata": {},
   "outputs": [
    {
     "data": {
      "text/plain": [
       "926"
      ]
     },
     "execution_count": 50,
     "metadata": {},
     "output_type": "execute_result"
    }
   ],
   "source": [
    "tp['deepsynergy_input_size'] = deepsynergy_input_size\n",
    "tp['deepsynergy_input_size']"
   ]
  },
  {
   "cell_type": "code",
   "execution_count": 51,
   "metadata": {},
   "outputs": [],
   "source": [
    "# # training params total_thresh 3\n",
    "# tp = {\n",
    "#     \"batch_size\" : 300,\n",
    "#     \"num_epochs\" : 200,\n",
    "    \n",
    "#     \"emb_dim\" : 300,\n",
    "#     \"gnn_type\" : \"gatv2\",\n",
    "#     \"num_layer\" : 5,\n",
    "#     \"graph_pooling\" : \"mean\", #attention\n",
    "    \n",
    "#     \"input_embed_dim\" : None,\n",
    "#     \"gene_embed_dim\": 1,\n",
    "#     \"num_attn_heads\" : 2,\n",
    "#     \"num_transformer_units\" : 1,\n",
    "#     \"p_dropout\" : 0.3,\n",
    "# #     \"nonlin_func\" : nn.ReLU(),\n",
    "#     \"mlp_embed_factor\" : 2,\n",
    "#     \"pooling_mode\" : 'attn',\n",
    "#     \"dist_opt\" : 'cosine',\n",
    "\n",
    "#     \"base_lr\" : 3e-5, #3e-4\n",
    "#     \"max_lr_mul\": 10,\n",
    "#     \"l2_reg\" : 1e-8,\n",
    "#     \"loss_w\" : 0.3,\n",
    "#     \"margin_v\" : 1.,\n",
    "\n",
    "#     \"expression_dim\" : 64,\n",
    "#     \"expression_input_size\" : 908,\n",
    "#     \"exp_H1\" : 500,\n",
    "#     \"exp_H2\" : 400\n",
    "# }"
   ]
  },
  {
   "cell_type": "code",
   "execution_count": 52,
   "metadata": {},
   "outputs": [],
   "source": [
    "# targetdata_dir_exp = create_directory(os.path.join(targetdata_dir, \"experiments\"))\n",
    "# targetdata_dir_exp"
   ]
  },
  {
   "cell_type": "code",
   "execution_count": 53,
   "metadata": {},
   "outputs": [],
   "source": [
    "# device_gpu = get_device(True, index=0)\n",
    "# exp_dir = create_directory(os.path.join(targetdata_dir_exp, \"exp0\"))\n",
    "# tphp = generate_tp_hp(tp, hyperparam_space[0], hp_names)\n",
    "# partition = fold_partitions[0]"
   ]
  },
  {
   "cell_type": "code",
   "execution_count": 54,
   "metadata": {},
   "outputs": [],
   "source": [
    "# run_exp(tphp, device_gpu, exp_dir,partition=fold_partitions[0], used_dataset=used_dataset)"
   ]
  },
  {
   "cell_type": "code",
   "execution_count": 55,
   "metadata": {},
   "outputs": [],
   "source": [
    "def spawn_q_process(q_process):\n",
    "    print(\">>> spawning hyperparam search process\")\n",
    "    q_process.start()\n",
    "    \n",
    "def join_q_process(q_process):\n",
    "    q_process.join()\n",
    "    print(\"<<< joined hyperparam search process\")\n",
    "    \n",
    "def create_q_process(queue, used_dataset, gpu_num, tphp, exp_dir, partition): #\n",
    "#     fold_gpu_map = {0:gpu_num}\n",
    "    return mp.Process(target=deepadr.hyphelperflat.run_exp_flat, args=(queue, used_dataset, gpu_num, tphp, exp_dir, partition)) #"
   ]
  },
  {
   "cell_type": "code",
   "execution_count": 56,
   "metadata": {},
   "outputs": [
    {
     "name": "stdout",
     "output_type": "stream",
     "text": [
      "Start: 2022-03-29_19-10-35\n",
      "path_current_dir /cluster/home/skyriakos/chemprop_run/git/deepadr\n",
      "path_current_dir /cluster/home/skyriakos/chemprop_run/git/deepadr\n",
      ">>> spawning hyperparam search process\n",
      "path_current_dir /cluster/home/skyriakos/chemprop_run/git/deepadr\n",
      "path_current_dir /cluster/home/skyriakos/chemprop_run/git/deepadr\n",
      ">>> spawning hyperparam search process\n"
     ]
    },
    {
     "name": "stderr",
     "output_type": "stream",
     "text": [
      "\r",
      "Iteration:   0%|          | 0/154 [00:00<?, ?it/s]"
     ]
    },
    {
     "name": "stdout",
     "output_type": "stream",
     "text": [
      "gpu: cuda:0\n",
      "Dropout(p=0.5, inplace=False) Dropout(p=0.2, inplace=False)\n",
      "DS model:\n",
      " ExpressionNN(\n",
      "  (fc1): Linear(in_features=926, out_features=8192, bias=True)\n",
      "  (fc2): Linear(in_features=8192, out_features=4096, bias=True)\n",
      "  (fc3): Linear(in_features=4096, out_features=2, bias=True)\n",
      "  (drop_in): Dropout(p=0.2, inplace=False)\n",
      "  (drop): Dropout(p=0.5, inplace=False)\n",
      "  (log_softmax): LogSoftmax(dim=-1)\n",
      ")\n",
      "=====Epoch 0\n",
      "Training...\n",
      "path_current_dir /cluster/home/skyriakos/chemprop_run/git/deepadr\n",
      "path_current_dir /cluster/home/skyriakos/chemprop_run/git/deepadr\n",
      ">>> spawning hyperparam search process\n"
     ]
    },
    {
     "name": "stderr",
     "output_type": "stream",
     "text": [
      "Iteration:  95%|█████████▍| 146/154 [00:03<00:00, 45.96it/s]"
     ]
    },
    {
     "name": "stdout",
     "output_type": "stream",
     "text": [
      "gpu: cuda:1\n",
      "Dropout(p=0.5, inplace=False) Dropout(p=0.2, inplace=False)\n",
      "DS model:\n",
      " ExpressionNN(\n",
      "  (fc1): Linear(in_features=926, out_features=8192, bias=True)\n",
      "  (fc2): Linear(in_features=8192, out_features=4096, bias=True)\n",
      "  (fc3): Linear(in_features=4096, out_features=2, bias=True)\n",
      "  (drop_in): Dropout(p=0.2, inplace=False)\n",
      "  (drop): Dropout(p=0.5, inplace=False)\n",
      "  (log_softmax): LogSoftmax(dim=-1)\n",
      ")\n",
      "=====Epoch 0\n",
      "Training...\n",
      "Evaluating...\n"
     ]
    },
    {
     "name": "stderr",
     "output_type": "stream",
     "text": [
      "\r",
      "Iteration:   0%|          | 0/154 [00:00<?, ?it/s]\r",
      "Iteration:  98%|█████████▊| 151/154 [00:03<00:00, 45.99it/s]\r",
      "Iteration: 100%|██████████| 154/154 [00:03<00:00, 41.41it/s]\n",
      "\r",
      "Iteration:   0%|          | 0/154 [00:00<?, ?it/s]\r",
      "Iteration:   8%|▊         | 12/154 [00:00<00:01, 113.85it/s]"
     ]
    },
    {
     "name": "stdout",
     "output_type": "stream",
     "text": [
      "path_current_dir /cluster/home/skyriakos/chemprop_run/git/deepadr\n",
      "path_current_dir /cluster/home/skyriakos/chemprop_run/git/deepadr\n",
      ">>> spawning hyperparam search process\n"
     ]
    },
    {
     "name": "stderr",
     "output_type": "stream",
     "text": [
      "Iteration: 100%|██████████| 154/154 [00:01<00:00, 118.86it/s]\n",
      "Iteration: 100%|██████████| 154/154 [00:01<00:00, 127.20it/s]\n",
      "Iteration: 100%|██████████| 154/154 [00:03<00:00, 41.16it/s]\n",
      "Iteration:   0%|          | 0/154 [00:00<?, ?it/s]"
     ]
    },
    {
     "name": "stdout",
     "output_type": "stream",
     "text": [
      "gpu: cuda:2\n",
      "Dropout(p=0.5, inplace=False) Dropout(p=0.2, inplace=False)\n",
      "DS model:\n",
      " ExpressionNN(\n",
      "  (fc1): Linear(in_features=926, out_features=8192, bias=True)\n",
      "  (fc2): Linear(in_features=8192, out_features=4096, bias=True)\n",
      "  (fc3): Linear(in_features=4096, out_features=2, bias=True)\n",
      "  (drop_in): Dropout(p=0.2, inplace=False)\n",
      "  (drop): Dropout(p=0.5, inplace=False)\n",
      "  (log_softmax): LogSoftmax(dim=-1)\n",
      ")\n",
      "=====Epoch 0\n",
      "Training...\n",
      "Evaluating...\n",
      "path_current_dir /cluster/home/skyriakos/chemprop_run/git/deepadr\n",
      "path_current_dir /cluster/home/skyriakos/chemprop_run/git/deepadr\n",
      ">>> spawning hyperparam search process\n"
     ]
    },
    {
     "name": "stderr",
     "output_type": "stream",
     "text": [
      "Iteration: 100%|██████████| 154/154 [00:01<00:00, 118.21it/s]\n",
      "Iteration: 100%|██████████| 154/154 [00:01<00:00, 113.20it/s]\n",
      "Iteration:   4%|▍         | 6/154 [00:00<00:02, 51.15it/s]]"
     ]
    },
    {
     "name": "stdout",
     "output_type": "stream",
     "text": [
      "{'Train':  best_epoch_indx:0\n",
      " auc:0.6938699721950478 \n",
      " apur:0.5866506423904085 \n",
      " f1:0.5600654218345373 \n",
      " precision:0.5184979558875485 \n",
      " recall:0.6088786154575628 \n",
      ", 'Validation':  best_epoch_indx:0\n",
      " auc:0.6938699721950478 \n",
      " apur:0.5866506423904085 \n",
      " f1:0.5600654218345373 \n",
      " precision:0.5184979558875485 \n",
      " recall:0.6088786154575628 \n",
      ", 'Test':  best_epoch_indx:0\n",
      " auc:0.6938699721950478 \n",
      " apur:0.5866506423904085 \n",
      " f1:0.5600654218345373 \n",
      " precision:0.5184979558875485 \n",
      " recall:0.6088786154575628 \n",
      "}\n",
      "=====Epoch 1\n",
      "Training...\n"
     ]
    },
    {
     "name": "stderr",
     "output_type": "stream",
     "text": [
      "Iteration: 100%|██████████| 154/154 [00:01<00:00, 116.37it/s]\n",
      "Iteration: 100%|██████████| 154/154 [00:03<00:00, 38.93it/s]\n",
      "Iteration:   7%|▋         | 11/154 [00:00<00:01, 108.86it/s]"
     ]
    },
    {
     "name": "stdout",
     "output_type": "stream",
     "text": [
      "Evaluating...\n"
     ]
    },
    {
     "name": "stderr",
     "output_type": "stream",
     "text": [
      "Iteration:  40%|███▉      | 61/154 [00:00<00:01, 67.89it/s]]]"
     ]
    },
    {
     "name": "stdout",
     "output_type": "stream",
     "text": [
      "gpu: cuda:3\n",
      "Dropout(p=0.5, inplace=False) Dropout(p=0.2, inplace=False)\n",
      "DS model:\n",
      " ExpressionNN(\n",
      "  (fc1): Linear(in_features=926, out_features=8192, bias=True)\n",
      "  (fc2): Linear(in_features=8192, out_features=4096, bias=True)\n",
      "  (fc3): Linear(in_features=4096, out_features=2, bias=True)\n",
      "  (drop_in): Dropout(p=0.2, inplace=False)\n",
      "  (drop): Dropout(p=0.5, inplace=False)\n",
      "  (log_softmax): LogSoftmax(dim=-1)\n",
      ")\n",
      "=====Epoch 0\n",
      "Training...\n"
     ]
    },
    {
     "name": "stderr",
     "output_type": "stream",
     "text": [
      "Iteration: 100%|██████████| 154/154 [00:03<00:00, 46.07it/s]]\n",
      "Iteration:  60%|█████▉    | 92/154 [00:01<00:00, 91.88it/s]]]"
     ]
    },
    {
     "name": "stdout",
     "output_type": "stream",
     "text": [
      "Evaluating...\n"
     ]
    },
    {
     "name": "stderr",
     "output_type": "stream",
     "text": [
      "Iteration: 100%|██████████| 154/154 [00:01<00:00, 105.84it/s]\n",
      "Iteration: 100%|██████████| 154/154 [00:01<00:00, 86.31it/s] \n",
      "Iteration: 100%|██████████| 154/154 [00:01<00:00, 121.30it/s]\n",
      "Iteration:   4%|▍         | 6/154 [00:00<00:02, 50.72it/s]]]"
     ]
    },
    {
     "name": "stdout",
     "output_type": "stream",
     "text": [
      "{'Train':  best_epoch_indx:0\n",
      " auc:0.6971672206414786 \n",
      " apur:0.5937977938822976 \n",
      " f1:0.5710831597088252 \n",
      " precision:0.5044762553965008 \n",
      " recall:0.6579540066382171 \n",
      ", 'Validation':  best_epoch_indx:0\n",
      " auc:0.6971672206414786 \n",
      " apur:0.5937977938822976 \n",
      " f1:0.5710831597088252 \n",
      " precision:0.5044762553965008 \n",
      " recall:0.6579540066382171 \n",
      ", 'Test':  best_epoch_indx:0\n",
      " auc:0.6971672206414786 \n",
      " apur:0.5937977938822976 \n",
      " f1:0.5710831597088252 \n",
      " precision:0.5044762553965008 \n",
      " recall:0.6579540066382171 \n",
      "}\n",
      "=====Epoch 1\n",
      "Training...\n"
     ]
    },
    {
     "name": "stderr",
     "output_type": "stream",
     "text": [
      "Iteration: 100%|██████████| 154/154 [00:01<00:00, 129.31it/s]\n",
      "Iteration: 100%|██████████| 154/154 [00:01<00:00, 115.37it/s]\n",
      "Iteration: 100%|██████████| 154/154 [00:04<00:00, 35.66it/s]]\n",
      "Iteration:  16%|█▌        | 25/154 [00:00<00:01, 122.67it/s]"
     ]
    },
    {
     "name": "stdout",
     "output_type": "stream",
     "text": [
      "Evaluating...\n"
     ]
    },
    {
     "name": "stderr",
     "output_type": "stream",
     "text": [
      "Iteration: 100%|██████████| 154/154 [00:01<00:00, 112.94it/s]\n",
      "Iteration: 100%|██████████| 154/154 [00:03<00:00, 45.49it/s]\n",
      "Iteration:  24%|██▍       | 37/154 [00:00<00:02, 42.34it/s]]]"
     ]
    },
    {
     "name": "stdout",
     "output_type": "stream",
     "text": [
      "Evaluating...\n",
      "{'Train':  best_epoch_indx:0\n",
      " auc:0.6947778962729385 \n",
      " apur:0.5927201412951327 \n",
      " f1:0.5747269425024257 \n",
      " precision:0.49524054540776946 \n",
      " recall:0.6846067215932665 \n",
      ", 'Validation':  best_epoch_indx:0\n",
      " auc:0.6947778962729385 \n",
      " apur:0.5927201412951327 \n",
      " f1:0.5747269425024257 \n",
      " precision:0.49524054540776946 \n",
      " recall:0.6846067215932665 \n",
      ", 'Test':  best_epoch_indx:0\n",
      " auc:0.6947778962729385 \n",
      " apur:0.5927201412951327 \n",
      " f1:0.5747269425024257 \n",
      " precision:0.49524054540776946 \n",
      " recall:0.6846067215932665 \n",
      "}\n",
      "=====Epoch 1\n",
      "Training...\n"
     ]
    },
    {
     "name": "stderr",
     "output_type": "stream",
     "text": [
      "Iteration: 100%|██████████| 154/154 [00:01<00:00, 124.51it/s]\n",
      "Iteration:  22%|██▏       | 34/154 [00:00<00:03, 37.17it/s]s]"
     ]
    },
    {
     "name": "stdout",
     "output_type": "stream",
     "text": [
      "{'Train':  best_epoch_indx:1\n",
      " auc:0.7096459243250491 \n",
      " apur:0.6085767448699884 \n",
      " f1:0.5736848941420963 \n",
      " precision:0.5106599454284789 \n",
      " recall:0.654457088667615 \n",
      ", 'Validation':  best_epoch_indx:1\n",
      " auc:0.7096459243250491 \n",
      " apur:0.6085767448699884 \n",
      " f1:0.5736848941420963 \n",
      " precision:0.5106599454284789 \n",
      " recall:0.654457088667615 \n",
      ", 'Test':  best_epoch_indx:1\n",
      " auc:0.7096459243250491 \n",
      " apur:0.6085767448699884 \n",
      " f1:0.5736848941420963 \n",
      " precision:0.5106599454284789 \n",
      " recall:0.654457088667615 \n",
      "}\n",
      "=====Epoch 2\n",
      "Training...\n"
     ]
    },
    {
     "name": "stderr",
     "output_type": "stream",
     "text": [
      "Iteration: 100%|██████████| 154/154 [00:01<00:00, 92.00it/s] \n",
      "Iteration: 100%|██████████| 154/154 [00:01<00:00, 123.95it/s]\n",
      "Iteration:   0%|          | 0/154 [00:00<?, ?it/s]121.66it/s]"
     ]
    },
    {
     "name": "stdout",
     "output_type": "stream",
     "text": [
      "gpu: cuda:4\n",
      "Dropout(p=0.5, inplace=False) Dropout(p=0.2, inplace=False)\n",
      "DS model:\n",
      " ExpressionNN(\n",
      "  (fc1): Linear(in_features=926, out_features=8192, bias=True)\n",
      "  (fc2): Linear(in_features=8192, out_features=4096, bias=True)\n",
      "  (fc3): Linear(in_features=4096, out_features=2, bias=True)\n",
      "  (drop_in): Dropout(p=0.2, inplace=False)\n",
      "  (drop): Dropout(p=0.5, inplace=False)\n",
      "  (log_softmax): LogSoftmax(dim=-1)\n",
      ")\n",
      "=====Epoch 0\n",
      "Training...\n"
     ]
    },
    {
     "name": "stderr",
     "output_type": "stream",
     "text": [
      "Iteration: 100%|██████████| 154/154 [00:01<00:00, 113.49it/s]\n",
      "Iteration: 100%|██████████| 154/154 [00:01<00:00, 113.44it/s]\n",
      "Iteration: 100%|██████████| 154/154 [00:03<00:00, 38.57it/s]\n",
      "Iteration:  19%|█▉        | 30/154 [00:00<00:01, 66.39it/s]]"
     ]
    },
    {
     "name": "stdout",
     "output_type": "stream",
     "text": [
      "Evaluating...\n"
     ]
    },
    {
     "name": "stderr",
     "output_type": "stream",
     "text": [
      "Iteration: 100%|██████████| 154/154 [00:03<00:00, 40.95it/s]\n",
      "Iteration:  56%|█████▋    | 87/154 [00:01<00:00, 69.36it/s]]"
     ]
    },
    {
     "name": "stdout",
     "output_type": "stream",
     "text": [
      "Evaluating...\n"
     ]
    },
    {
     "name": "stderr",
     "output_type": "stream",
     "text": [
      "Iteration: 100%|██████████| 154/154 [00:01<00:00, 128.18it/s]\n",
      "Iteration: 100%|██████████| 154/154 [00:01<00:00, 127.12it/s]\n",
      "Iteration: 100%|██████████| 154/154 [00:02<00:00, 67.01it/s]\n",
      "Iteration: 100%|██████████| 154/154 [00:02<00:00, 68.08it/s]\n",
      "Iteration: 100%|██████████| 154/154 [00:03<00:00, 39.88it/s]\n",
      "Iteration:   5%|▍         | 7/154 [00:00<00:02, 68.47it/s]s]"
     ]
    },
    {
     "name": "stdout",
     "output_type": "stream",
     "text": [
      "Evaluating...\n"
     ]
    },
    {
     "name": "stderr",
     "output_type": "stream",
     "text": [
      "\r",
      "Iteration:  62%|██████▏   | 95/154 [00:00<00:00, 124.72it/s]\r",
      "Iteration:  16%|█▌        | 25/154 [00:00<00:01, 120.14it/s]\r",
      "Iteration:  10%|▉         | 15/154 [00:00<00:01, 70.10it/s]\r",
      "Iteration:   0%|          | 0/154 [00:00<?, ?it/s]\r",
      "Iteration:  16%|█▌        | 25/154 [00:00<00:01, 80.44it/s]\r",
      "Iteration:  70%|███████   | 108/154 [00:01<00:00, 97.58it/s]\r",
      "Iteration:  25%|██▍       | 38/154 [00:00<00:01, 88.10it/s] "
     ]
    },
    {
     "name": "stdout",
     "output_type": "stream",
     "text": [
      "{'Train':  best_epoch_indx:1\n",
      " auc:0.7058058884732534 \n",
      " apur:0.6076811177840429 \n",
      " f1:0.5687847331445949 \n",
      " precision:0.5099172776837751 \n",
      " recall:0.6430180180180181 \n",
      ", 'Validation':  best_epoch_indx:1\n",
      " auc:0.7058058884732534 \n",
      " apur:0.6076811177840429 \n",
      " f1:0.5687847331445949 \n",
      " precision:0.5099172776837751 \n",
      " recall:0.6430180180180181 \n",
      ", 'Test':  best_epoch_indx:1\n",
      " auc:0.7058058884732534 \n",
      " apur:0.6076811177840429 \n",
      " f1:0.5687847331445949 \n",
      " precision:0.5099172776837751 \n",
      " recall:0.6430180180180181 \n",
      "}\n",
      "=====Epoch 2\n",
      "Training...\n",
      "{'Train':  best_epoch_indx:0\n",
      " auc:0.6922881998817734 \n",
      " apur:0.5882088691251366 \n",
      " f1:0.5398549677866699 \n",
      " precision:0.5266035396234923 \n",
      " recall:0.5537905281251853 \n",
      ", 'Validation':  best_epoch_indx:0\n",
      " auc:0.6922881998817734 \n",
      " apur:0.5882088691251366 \n",
      " f1:0.5398549677866699 \n",
      " precision:0.5266035396234923 \n",
      " recall:0.5537905281251853 \n",
      ", 'Test':  best_epoch_indx:0\n",
      " auc:0.6922881998817734 \n",
      " apur:0.5882088691251366 \n",
      " f1:0.5398549677866699 \n",
      " precision:0.5266035396234923 \n",
      " recall:0.5537905281251853 \n",
      "}\n",
      "=====Epoch 1\n",
      "Training...\n"
     ]
    },
    {
     "name": "stderr",
     "output_type": "stream",
     "text": [
      "Iteration: 100%|██████████| 154/154 [00:01<00:00, 109.91it/s]\n",
      "Iteration: 100%|██████████| 154/154 [00:01<00:00, 116.55it/s]\n",
      "Iteration: 100%|██████████| 154/154 [00:01<00:00, 116.00it/s]\n",
      "Iteration: 100%|██████████| 154/154 [00:01<00:00, 127.48it/s]\n",
      "Iteration: 100%|██████████| 154/154 [00:01<00:00, 122.84it/s]\n",
      "Iteration:  84%|████████▍ | 130/154 [00:01<00:00, 124.88it/s]"
     ]
    },
    {
     "name": "stdout",
     "output_type": "stream",
     "text": [
      "{'Train':  best_epoch_indx:1\n",
      " auc:0.713705969791758 \n",
      " apur:0.6150966239598052 \n",
      " f1:0.5728279502598569 \n",
      " precision:0.529476861167002 \n",
      " recall:0.6239108529429198 \n",
      ", 'Validation':  best_epoch_indx:1\n",
      " auc:0.713705969791758 \n",
      " apur:0.6150966239598052 \n",
      " f1:0.5728279502598569 \n",
      " precision:0.529476861167002 \n",
      " recall:0.6239108529429198 \n",
      ", 'Test':  best_epoch_indx:1\n",
      " auc:0.713705969791758 \n",
      " apur:0.6150966239598052 \n",
      " f1:0.5728279502598569 \n",
      " precision:0.529476861167002 \n",
      " recall:0.6239108529429198 \n",
      "}\n",
      "=====Epoch 2\n",
      "Training...\n"
     ]
    },
    {
     "name": "stderr",
     "output_type": "stream",
     "text": [
      "Iteration: 100%|██████████| 154/154 [00:01<00:00, 118.37it/s]\n",
      "Iteration:  16%|█▌        | 24/154 [00:00<00:04, 30.96it/s]]"
     ]
    },
    {
     "name": "stdout",
     "output_type": "stream",
     "text": [
      "{'Train':  best_epoch_indx:2\n",
      " auc:0.7191920168203588 \n",
      " apur:0.6218181211144926 \n",
      " f1:0.5768808714503654 \n",
      " precision:0.5259382167780977 \n",
      " recall:0.6387505926979611 \n",
      ", 'Validation':  best_epoch_indx:2\n",
      " auc:0.7191920168203588 \n",
      " apur:0.6218181211144926 \n",
      " f1:0.5768808714503654 \n",
      " precision:0.5259382167780977 \n",
      " recall:0.6387505926979611 \n",
      ", 'Test':  best_epoch_indx:2\n",
      " auc:0.7191920168203588 \n",
      " apur:0.6218181211144926 \n",
      " f1:0.5768808714503654 \n",
      " precision:0.5259382167780977 \n",
      " recall:0.6387505926979611 \n",
      "}\n",
      "=====Epoch 3\n",
      "Training...\n"
     ]
    },
    {
     "name": "stderr",
     "output_type": "stream",
     "text": [
      "Iteration: 100%|██████████| 154/154 [00:04<00:00, 38.49it/s]\n",
      "Iteration: 100%|██████████| 154/154 [00:03<00:00, 38.67it/s]\n",
      "Iteration:  19%|█▉        | 29/154 [00:00<00:02, 45.37it/s]]"
     ]
    },
    {
     "name": "stdout",
     "output_type": "stream",
     "text": [
      "Evaluating...\n",
      "Evaluating...\n"
     ]
    },
    {
     "name": "stderr",
     "output_type": "stream",
     "text": [
      "Iteration: 100%|██████████| 154/154 [00:01<00:00, 124.36it/s]\n",
      "Iteration: 100%|██████████| 154/154 [00:01<00:00, 90.70it/s] \n",
      "Iteration: 100%|██████████| 154/154 [00:01<00:00, 85.85it/s]\n",
      "Iteration:   0%|          | 0/154 [00:00<?, ?it/s]"
     ]
    },
    {
     "name": "stdout",
     "output_type": "stream",
     "text": [
      "{'Train':  best_epoch_indx:0\n",
      " auc:0.7011488002158197 \n",
      " apur:0.5964580690669441 \n",
      " f1:0.5606744956338452 \n",
      " precision:0.5209053916581892 \n",
      " recall:0.6070179598126964 \n",
      ", 'Validation':  best_epoch_indx:0\n",
      " auc:0.7011488002158197 \n",
      " apur:0.5964580690669441 \n",
      " f1:0.5606744956338452 \n",
      " precision:0.5209053916581892 \n",
      " recall:0.6070179598126964 \n",
      ", 'Test':  best_epoch_indx:0\n",
      " auc:0.7011488002158197 \n",
      " apur:0.5964580690669441 \n",
      " f1:0.5606744956338452 \n",
      " precision:0.5209053916581892 \n",
      " recall:0.6070179598126964 \n",
      "}\n",
      "=====Epoch 1\n",
      "Training...\n"
     ]
    },
    {
     "name": "stderr",
     "output_type": "stream",
     "text": [
      "Iteration: 100%|██████████| 154/154 [00:03<00:00, 39.68it/s]\n",
      "Iteration:  94%|█████████▎| 144/154 [00:03<00:00, 45.28it/s]"
     ]
    },
    {
     "name": "stdout",
     "output_type": "stream",
     "text": [
      "Evaluating...\n"
     ]
    },
    {
     "name": "stderr",
     "output_type": "stream",
     "text": [
      "Iteration: 100%|██████████| 154/154 [00:03<00:00, 44.51it/s]\n",
      "Iteration:  33%|███▎      | 51/154 [00:00<00:00, 124.43it/s]"
     ]
    },
    {
     "name": "stdout",
     "output_type": "stream",
     "text": [
      "Evaluating...\n"
     ]
    },
    {
     "name": "stderr",
     "output_type": "stream",
     "text": [
      "Iteration: 100%|██████████| 154/154 [00:01<00:00, 114.22it/s]\n",
      "Iteration: 100%|██████████| 154/154 [00:01<00:00, 107.19it/s]\n",
      "Iteration: 100%|██████████| 154/154 [00:01<00:00, 125.41it/s]\n",
      "Iteration: 100%|██████████| 154/154 [00:01<00:00, 83.38it/s] \n",
      "Iteration: 100%|██████████| 154/154 [00:01<00:00, 125.00it/s]\n",
      "Iteration: 100%|██████████| 154/154 [00:03<00:00, 40.62it/s]\n",
      "Iteration:   8%|▊         | 12/154 [00:00<00:01, 112.16it/s]"
     ]
    },
    {
     "name": "stdout",
     "output_type": "stream",
     "text": [
      "Evaluating...\n"
     ]
    },
    {
     "name": "stderr",
     "output_type": "stream",
     "text": [
      "Iteration:   3%|▎         | 5/154 [00:00<00:03, 45.96it/s]]]]"
     ]
    },
    {
     "name": "stdout",
     "output_type": "stream",
     "text": [
      "{'Train':  best_epoch_indx:1\n",
      " auc:0.7141353306864474 \n",
      " apur:0.6150403362752466 \n",
      " f1:0.5755748209574066 \n",
      " precision:0.5273050170193873 \n",
      " recall:0.633572402347223 \n",
      ", 'Validation':  best_epoch_indx:1\n",
      " auc:0.7141353306864474 \n",
      " apur:0.6150403362752466 \n",
      " f1:0.5755748209574066 \n",
      " precision:0.5273050170193873 \n",
      " recall:0.633572402347223 \n",
      ", 'Test':  best_epoch_indx:1\n",
      " auc:0.7141353306864474 \n",
      " apur:0.6150403362752466 \n",
      " f1:0.5755748209574066 \n",
      " precision:0.5273050170193873 \n",
      " recall:0.633572402347223 \n",
      "}\n",
      "=====Epoch 2\n",
      "Training...\n"
     ]
    },
    {
     "name": "stderr",
     "output_type": "stream",
     "text": [
      "Iteration: 100%|██████████| 154/154 [00:01<00:00, 97.01it/s] \n",
      "Iteration: 100%|██████████| 154/154 [00:01<00:00, 79.14it/s] \n",
      "Iteration: 100%|██████████| 154/154 [00:01<00:00, 126.94it/s]\n"
     ]
    },
    {
     "name": "stdout",
     "output_type": "stream",
     "text": [
      "{'Train':  best_epoch_indx:2\n",
      " auc:0.7136528915716878 \n",
      " apur:0.6149324822840024 \n",
      " f1:0.5831345988743679 \n",
      " precision:0.48786911412609735 \n",
      " recall:0.7246325272641062 \n",
      ", 'Validation':  best_epoch_indx:2\n",
      " auc:0.7136528915716878 \n",
      " apur:0.6149324822840024 \n",
      " f1:0.5831345988743679 \n",
      " precision:0.48786911412609735 \n",
      " recall:0.7246325272641062 \n",
      ", 'Test':  best_epoch_indx:2\n",
      " auc:0.7136528915716878 \n",
      " apur:0.6149324822840024 \n",
      " f1:0.5831345988743679 \n",
      " precision:0.48786911412609735 \n",
      " recall:0.7246325272641062 \n",
      "}\n",
      "=====Epoch 3\n",
      "Training...\n"
     ]
    },
    {
     "name": "stderr",
     "output_type": "stream",
     "text": [
      "Iteration: 100%|██████████| 154/154 [00:01<00:00, 93.69it/s] \n",
      "Iteration: 100%|██████████| 154/154 [00:01<00:00, 116.23it/s]\n",
      "Iteration: 100%|██████████| 154/154 [00:01<00:00, 116.55it/s]\n",
      "Iteration: 100%|██████████| 154/154 [00:01<00:00, 97.82it/s] \n",
      "Iteration:   4%|▍         | 6/154 [00:00<00:02, 51.14it/s]s]"
     ]
    },
    {
     "name": "stdout",
     "output_type": "stream",
     "text": [
      "{'Train':  best_epoch_indx:3\n",
      " auc:0.7296598104609029 \n",
      " apur:0.6335598200734016 \n",
      " f1:0.5797807551766139 \n",
      " precision:0.5439434863910243 \n",
      " recall:0.6206733048838312 \n",
      ", 'Validation':  best_epoch_indx:3\n",
      " auc:0.7296598104609029 \n",
      " apur:0.6335598200734016 \n",
      " f1:0.5797807551766139 \n",
      " precision:0.5439434863910243 \n",
      " recall:0.6206733048838312 \n",
      ", 'Test':  best_epoch_indx:3\n",
      " auc:0.7296598104609029 \n",
      " apur:0.6335598200734016 \n",
      " f1:0.5797807551766139 \n",
      " precision:0.5439434863910243 \n",
      " recall:0.6206733048838312 \n",
      "}\n",
      "=====Epoch 4\n",
      "Training...\n",
      "{'Train':  best_epoch_indx:2\n",
      " auc:0.7244351384982683 \n",
      " apur:0.6271883796836388 \n",
      " f1:0.5882755714737175 \n",
      " precision:0.5293114070423203 \n",
      " recall:0.6620235907770731 \n",
      ", 'Validation':  best_epoch_indx:2\n",
      " auc:0.7244351384982683 \n",
      " apur:0.6271883796836388 \n",
      " f1:0.5882755714737175 \n",
      " precision:0.5293114070423203 \n",
      " recall:0.6620235907770731 \n",
      ", 'Test':  best_epoch_indx:2\n",
      " auc:0.7244351384982683 \n",
      " apur:0.6271883796836388 \n",
      " f1:0.5882755714737175 \n",
      " precision:0.5293114070423203 \n",
      " recall:0.6620235907770731 \n",
      "}\n",
      "=====Epoch 3\n",
      "Training...\n"
     ]
    },
    {
     "name": "stderr",
     "output_type": "stream",
     "text": [
      "Iteration: 100%|██████████| 154/154 [00:03<00:00, 43.98it/s]\n",
      "Iteration:  24%|██▍       | 37/154 [00:00<00:02, 46.14it/s]]"
     ]
    },
    {
     "name": "stdout",
     "output_type": "stream",
     "text": [
      "Evaluating...\n",
      "Evaluating...\n"
     ]
    },
    {
     "name": "stderr",
     "output_type": "stream",
     "text": [
      "Iteration: 100%|██████████| 154/154 [00:04<00:00, 36.32it/s]\n",
      "Iteration: 100%|██████████| 154/154 [00:01<00:00, 126.39it/s]\n",
      "Iteration:  56%|█████▋    | 87/154 [00:01<00:01, 45.90it/s]"
     ]
    },
    {
     "name": "stdout",
     "output_type": "stream",
     "text": [
      "{'Train':  best_epoch_indx:1\n",
      " auc:0.715168910659292 \n",
      " apur:0.6125271680665172 \n",
      " f1:0.5719755826859045 \n",
      " precision:0.5376910636965935 \n",
      " recall:0.6109299982218007 \n",
      ", 'Validation':  best_epoch_indx:1\n",
      " auc:0.715168910659292 \n",
      " apur:0.6125271680665172 \n",
      " f1:0.5719755826859045 \n",
      " precision:0.5376910636965935 \n",
      " recall:0.6109299982218007 \n",
      ", 'Test':  best_epoch_indx:1\n",
      " auc:0.715168910659292 \n",
      " apur:0.6125271680665172 \n",
      " f1:0.5719755826859045 \n",
      " precision:0.5376910636965935 \n",
      " recall:0.6109299982218007 \n",
      "}\n",
      "=====Epoch 2\n",
      "Training...\n"
     ]
    },
    {
     "name": "stderr",
     "output_type": "stream",
     "text": [
      "Iteration: 100%|██████████| 154/154 [00:01<00:00, 92.78it/s] \n",
      "Iteration: 100%|██████████| 154/154 [00:02<00:00, 74.04it/s]\n",
      "Iteration: 100%|██████████| 154/154 [00:03<00:00, 46.09it/s]\n",
      "Iteration:  22%|██▏       | 34/154 [00:00<00:01, 74.75it/s]"
     ]
    },
    {
     "name": "stdout",
     "output_type": "stream",
     "text": [
      "Evaluating...\n"
     ]
    },
    {
     "name": "stderr",
     "output_type": "stream",
     "text": [
      "\r",
      "Iteration:  35%|███▌      | 54/154 [00:01<00:02, 37.15it/s]\r",
      "Iteration:  95%|█████████▌| 147/154 [00:03<00:00, 45.33it/s]\r",
      "Iteration:   0%|          | 0/154 [00:00<?, ?it/s]\r",
      "Iteration:   8%|▊         | 12/154 [00:00<00:01, 112.44it/s]\r",
      "Iteration:  29%|██▊       | 44/154 [00:00<00:01, 82.45it/s]\r",
      "Iteration:  38%|███▊      | 58/154 [00:01<00:02, 37.41it/s]\r",
      "Iteration:  99%|█████████▊| 152/154 [00:03<00:00, 45.46it/s]\r",
      "Iteration:   5%|▌         | 8/154 [00:00<00:01, 75.82it/s]\r",
      "Iteration:  16%|█▌        | 25/154 [00:00<00:01, 119.67it/s]\r",
      "Iteration:  37%|███▋      | 57/154 [00:00<00:00, 97.15it/s]\r",
      "Iteration: 100%|██████████| 154/154 [00:03<00:00, 45.04it/s]\n",
      "\r",
      "Iteration:   0%|          | 0/154 [00:00<?, ?it/s]"
     ]
    },
    {
     "name": "stdout",
     "output_type": "stream",
     "text": [
      "Evaluating...\n"
     ]
    },
    {
     "name": "stderr",
     "output_type": "stream",
     "text": [
      "Iteration: 100%|██████████| 154/154 [00:01<00:00, 107.67it/s]\n",
      "Iteration: 100%|██████████| 154/154 [00:01<00:00, 115.53it/s]\n",
      "Iteration: 100%|██████████| 154/154 [00:01<00:00, 125.08it/s]\n",
      "Iteration: 100%|██████████| 154/154 [00:01<00:00, 81.85it/s] \n",
      "Iteration: 100%|██████████| 154/154 [00:04<00:00, 38.27it/s]\n",
      "Iteration:  41%|████      | 63/154 [00:00<00:00, 94.99it/s]]"
     ]
    },
    {
     "name": "stdout",
     "output_type": "stream",
     "text": [
      "Evaluating...\n"
     ]
    },
    {
     "name": "stderr",
     "output_type": "stream",
     "text": [
      "Iteration: 100%|██████████| 154/154 [00:01<00:00, 122.44it/s]\n",
      "Iteration: 100%|██████████| 154/154 [00:01<00:00, 98.39it/s] \n",
      "Iteration: 100%|██████████| 154/154 [00:01<00:00, 127.23it/s]\n",
      "Iteration:  94%|█████████▍| 145/154 [00:02<00:00, 72.57it/s]"
     ]
    },
    {
     "name": "stdout",
     "output_type": "stream",
     "text": [
      "{'Train':  best_epoch_indx:3\n",
      " auc:0.7198106407670843 \n",
      " apur:0.6212605343991928 \n",
      " f1:0.5911422134879931 \n",
      " precision:0.4962179126096403 \n",
      " recall:0.7309743954480796 \n",
      ", 'Validation':  best_epoch_indx:3\n",
      " auc:0.7198106407670843 \n",
      " apur:0.6212605343991928 \n",
      " f1:0.5911422134879931 \n",
      " precision:0.4962179126096403 \n",
      " recall:0.7309743954480796 \n",
      ", 'Test':  best_epoch_indx:3\n",
      " auc:0.7198106407670843 \n",
      " apur:0.6212605343991928 \n",
      " f1:0.5911422134879931 \n",
      " precision:0.4962179126096403 \n",
      " recall:0.7309743954480796 \n",
      "}\n",
      "=====Epoch 4\n",
      "Training...\n"
     ]
    },
    {
     "name": "stderr",
     "output_type": "stream",
     "text": [
      "Iteration: 100%|██████████| 154/154 [00:02<00:00, 72.08it/s]]\n",
      "Iteration: 100%|██████████| 154/154 [00:01<00:00, 96.08it/s] \n",
      "Iteration:   6%|▋         | 10/154 [00:00<00:01, 98.35it/s]]"
     ]
    },
    {
     "name": "stdout",
     "output_type": "stream",
     "text": [
      "{'Train':  best_epoch_indx:2\n",
      " auc:0.714797362930897 \n",
      " apur:0.6184919430161235 \n",
      " f1:0.5799605396469899 \n",
      " precision:0.5270656651320572 \n",
      " recall:0.6446565111730188 \n",
      ", 'Validation':  best_epoch_indx:2\n",
      " auc:0.714797362930897 \n",
      " apur:0.6184919430161235 \n",
      " f1:0.5799605396469899 \n",
      " precision:0.5270656651320572 \n",
      " recall:0.6446565111730188 \n",
      ", 'Test':  best_epoch_indx:2\n",
      " auc:0.714797362930897 \n",
      " apur:0.6184919430161235 \n",
      " f1:0.5799605396469899 \n",
      " precision:0.5270656651320572 \n",
      " recall:0.6446565111730188 \n",
      "}\n",
      "=====Epoch 3\n",
      "Training...\n"
     ]
    },
    {
     "name": "stderr",
     "output_type": "stream",
     "text": [
      "Iteration: 100%|██████████| 154/154 [00:01<00:00, 113.16it/s]\n",
      "Iteration: 100%|██████████| 154/154 [00:01<00:00, 91.42it/s] \n",
      "Iteration:   0%|          | 0/154 [00:00<?, ?it/s]4.60it/s]"
     ]
    },
    {
     "name": "stdout",
     "output_type": "stream",
     "text": [
      "{'Train':  best_epoch_indx:4\n",
      " auc:0.7279562699646269 \n",
      " apur:0.630875475108661 \n",
      " f1:0.576003140509772 \n",
      " precision:0.5465914533553297 \n",
      " recall:0.608760075865339 \n",
      ", 'Validation':  best_epoch_indx:4\n",
      " auc:0.7279562699646269 \n",
      " apur:0.630875475108661 \n",
      " f1:0.576003140509772 \n",
      " precision:0.5465914533553297 \n",
      " recall:0.608760075865339 \n",
      ", 'Test':  best_epoch_indx:4\n",
      " auc:0.7279562699646269 \n",
      " apur:0.630875475108661 \n",
      " f1:0.576003140509772 \n",
      " precision:0.5465914533553297 \n",
      " recall:0.608760075865339 \n",
      "}\n",
      "=====Epoch 5\n",
      "Training...\n"
     ]
    },
    {
     "name": "stderr",
     "output_type": "stream",
     "text": [
      "Iteration: 100%|██████████| 154/154 [00:01<00:00, 77.01it/s] \n",
      "Iteration: 100%|██████████| 154/154 [00:03<00:00, 44.00it/s]]\n",
      "Iteration:   0%|          | 0/154 [00:00<?, ?it/s]129.54it/s]"
     ]
    },
    {
     "name": "stdout",
     "output_type": "stream",
     "text": [
      "Evaluating...\n",
      "{'Train':  best_epoch_indx:3\n",
      " auc:0.7254614602259725 \n",
      " apur:0.6268759149156725 \n",
      " f1:0.5814443138005524 \n",
      " precision:0.5396954314720812 \n",
      " recall:0.6301938237211784 \n",
      ", 'Validation':  best_epoch_indx:3\n",
      " auc:0.7254614602259725 \n",
      " apur:0.6268759149156725 \n",
      " f1:0.5814443138005524 \n",
      " precision:0.5396954314720812 \n",
      " recall:0.6301938237211784 \n",
      ", 'Test':  best_epoch_indx:3\n",
      " auc:0.7254614602259725 \n",
      " apur:0.6268759149156725 \n",
      " f1:0.5814443138005524 \n",
      " precision:0.5396954314720812 \n",
      " recall:0.6301938237211784 \n",
      "}\n",
      "=====Epoch 4\n",
      "Training...\n"
     ]
    },
    {
     "name": "stderr",
     "output_type": "stream",
     "text": [
      "Iteration: 100%|██████████| 154/154 [00:01<00:00, 122.00it/s]\n",
      "Iteration:   0%|          | 0/154 [00:00<?, ?it/s]8.50it/s]]"
     ]
    },
    {
     "name": "stdout",
     "output_type": "stream",
     "text": [
      "{'Train':  best_epoch_indx:2\n",
      " auc:0.7126913342634256 \n",
      " apur:0.6152673032547127 \n",
      " f1:0.5692528125663342 \n",
      " precision:0.5152999951962338 \n",
      " recall:0.6358247880979195 \n",
      ", 'Validation':  best_epoch_indx:2\n",
      " auc:0.7126913342634256 \n",
      " apur:0.6152673032547127 \n",
      " f1:0.5692528125663342 \n",
      " precision:0.5152999951962338 \n",
      " recall:0.6358247880979195 \n",
      ", 'Test':  best_epoch_indx:2\n",
      " auc:0.7126913342634256 \n",
      " apur:0.6152673032547127 \n",
      " f1:0.5692528125663342 \n",
      " precision:0.5152999951962338 \n",
      " recall:0.6358247880979195 \n",
      "}\n",
      "=====Epoch 3\n",
      "Training...\n"
     ]
    },
    {
     "name": "stderr",
     "output_type": "stream",
     "text": [
      "Iteration: 100%|██████████| 154/154 [00:03<00:00, 40.39it/s] \n",
      "Iteration:   0%|          | 0/154 [00:00<?, ?it/s]"
     ]
    },
    {
     "name": "stdout",
     "output_type": "stream",
     "text": [
      "Evaluating...\n"
     ]
    },
    {
     "name": "stderr",
     "output_type": "stream",
     "text": [
      "Iteration: 100%|██████████| 154/154 [00:01<00:00, 103.19it/s]\n",
      "Iteration: 100%|██████████| 154/154 [00:01<00:00, 128.70it/s]\n",
      "Iteration: 100%|██████████| 154/154 [00:04<00:00, 38.08it/s]\n",
      "Iteration:   8%|▊         | 12/154 [00:00<00:01, 112.86it/s]"
     ]
    },
    {
     "name": "stdout",
     "output_type": "stream",
     "text": [
      "Evaluating...\n"
     ]
    },
    {
     "name": "stderr",
     "output_type": "stream",
     "text": [
      "Iteration: 100%|██████████| 154/154 [00:01<00:00, 116.92it/s]\n",
      "Iteration: 100%|██████████| 154/154 [00:03<00:00, 45.07it/s]\n",
      "Iteration:  88%|████████▊ | 136/154 [00:01<00:00, 74.73it/s]"
     ]
    },
    {
     "name": "stdout",
     "output_type": "stream",
     "text": [
      "Evaluating...\n",
      "Evaluating...\n"
     ]
    },
    {
     "name": "stderr",
     "output_type": "stream",
     "text": [
      "Iteration: 100%|██████████| 154/154 [00:04<00:00, 36.68it/s]]\n",
      "Iteration: 100%|██████████| 154/154 [00:01<00:00, 80.49it/s]]\n",
      "Iteration: 100%|██████████| 154/154 [00:01<00:00, 113.00it/s]\n",
      "Iteration: 100%|██████████| 154/154 [00:01<00:00, 126.88it/s]\n",
      "Iteration: 100%|██████████| 154/154 [00:01<00:00, 126.92it/s]\n",
      "Iteration: 100%|██████████| 154/154 [00:01<00:00, 98.72it/s] \n",
      "Iteration: 100%|██████████| 154/154 [00:01<00:00, 92.39it/s] \n",
      "Iteration: 100%|██████████| 154/154 [00:01<00:00, 108.57it/s]\n",
      "Iteration:  40%|████      | 62/154 [00:00<00:01, 70.21it/s]s]"
     ]
    },
    {
     "name": "stdout",
     "output_type": "stream",
     "text": [
      "{'Train':  best_epoch_indx:3\n",
      " auc:0.7249373892428751 \n",
      " apur:0.6277526464057887 \n",
      " f1:0.5782771535580525 \n",
      " precision:0.54354855533535 \n",
      " recall:0.6177464287831189 \n",
      ", 'Validation':  best_epoch_indx:3\n",
      " auc:0.7249373892428751 \n",
      " apur:0.6277526464057887 \n",
      " f1:0.5782771535580525 \n",
      " precision:0.54354855533535 \n",
      " recall:0.6177464287831189 \n",
      ", 'Test':  best_epoch_indx:3\n",
      " auc:0.7249373892428751 \n",
      " apur:0.6277526464057887 \n",
      " f1:0.5782771535580525 \n",
      " precision:0.54354855533535 \n",
      " recall:0.6177464287831189 \n",
      "}\n",
      "=====Epoch 4\n",
      "Training...\n"
     ]
    },
    {
     "name": "stderr",
     "output_type": "stream",
     "text": [
      "Iteration: 100%|██████████| 154/154 [00:01<00:00, 121.86it/s]\n",
      "Iteration: 100%|██████████| 154/154 [00:02<00:00, 72.75it/s]]\n",
      "Iteration: 100%|██████████| 154/154 [00:01<00:00, 94.76it/s] \n",
      "Iteration:  28%|██▊       | 43/154 [00:01<00:02, 38.06it/s]]"
     ]
    },
    {
     "name": "stdout",
     "output_type": "stream",
     "text": [
      "{'Train':  best_epoch_indx:4\n",
      " auc:0.7248783660746578 \n",
      " apur:0.627424118927864 \n",
      " f1:0.5891847866327714 \n",
      " precision:0.5048001691689575 \n",
      " recall:0.7074442863916548 \n",
      ", 'Validation':  best_epoch_indx:4\n",
      " auc:0.7248783660746578 \n",
      " apur:0.627424118927864 \n",
      " f1:0.5891847866327714 \n",
      " precision:0.5048001691689575 \n",
      " recall:0.7074442863916548 \n",
      ", 'Test':  best_epoch_indx:4\n",
      " auc:0.7248783660746578 \n",
      " apur:0.627424118927864 \n",
      " f1:0.5891847866327714 \n",
      " precision:0.5048001691689575 \n",
      " recall:0.7074442863916548 \n",
      "}\n",
      "=====Epoch 5\n",
      "Training...\n"
     ]
    },
    {
     "name": "stderr",
     "output_type": "stream",
     "text": [
      "\r",
      "Iteration:  23%|██▎       | 35/154 [00:00<00:01, 91.54it/s]\r",
      "Iteration:  25%|██▌       | 39/154 [00:00<00:00, 128.50it/s]\r",
      "Iteration:   0%|          | 0/154 [00:00<?, ?it/s]\r",
      "Iteration:   6%|▋         | 10/154 [00:00<00:03, 38.44it/s]\r",
      "Iteration:  31%|███       | 47/154 [00:01<00:02, 37.87it/s]\r",
      "Iteration:  31%|███       | 48/154 [00:00<00:01, 104.34it/s]\r",
      "Iteration:  34%|███▍      | 52/154 [00:00<00:00, 128.66it/s]\r",
      "Iteration:  34%|███▍      | 52/154 [00:01<00:02, 40.20it/s]"
     ]
    },
    {
     "name": "stdout",
     "output_type": "stream",
     "text": [
      "{'Train':  best_epoch_indx:5\n",
      " auc:0.7341205845821974 \n",
      " apur:0.6361979613953064 \n",
      " f1:0.592690189464808 \n",
      " precision:0.5335673957394316 \n",
      " recall:0.6665481270744429 \n",
      ", 'Validation':  best_epoch_indx:5\n",
      " auc:0.7341205845821974 \n",
      " apur:0.6361979613953064 \n",
      " f1:0.592690189464808 \n",
      " precision:0.5335673957394316 \n",
      " recall:0.6665481270744429 \n",
      ", 'Test':  best_epoch_indx:5\n",
      " auc:0.7341205845821974 \n",
      " apur:0.6361979613953064 \n",
      " f1:0.592690189464808 \n",
      " precision:0.5335673957394316 \n",
      " recall:0.6665481270744429 \n",
      "}\n",
      "=====Epoch 6\n",
      "Training...\n"
     ]
    },
    {
     "name": "stderr",
     "output_type": "stream",
     "text": [
      "Iteration: 100%|██████████| 154/154 [00:01<00:00, 129.15it/s]\n",
      "Iteration: 100%|██████████| 154/154 [00:01<00:00, 107.65it/s]\n",
      "Iteration:  36%|███▌      | 55/154 [00:01<00:02, 36.03it/s]]"
     ]
    },
    {
     "name": "stdout",
     "output_type": "stream",
     "text": [
      "{'Train':  best_epoch_indx:4\n",
      " auc:0.7270861321470734 \n",
      " apur:0.625761849082753 \n",
      " f1:0.573276487137098 \n",
      " precision:0.561278964107224 \n",
      " recall:0.5857981151087666 \n",
      ", 'Validation':  best_epoch_indx:4\n",
      " auc:0.7270861321470734 \n",
      " apur:0.625761849082753 \n",
      " f1:0.573276487137098 \n",
      " precision:0.561278964107224 \n",
      " recall:0.5857981151087666 \n",
      ", 'Test':  best_epoch_indx:4\n",
      " auc:0.7270861321470734 \n",
      " apur:0.625761849082753 \n",
      " f1:0.573276487137098 \n",
      " precision:0.561278964107224 \n",
      " recall:0.5857981151087666 \n",
      "}\n",
      "=====Epoch 5\n",
      "Training...\n",
      "{'Train':  best_epoch_indx:3\n",
      " auc:0.7222459747120352 \n",
      " apur:0.6251739998101733 \n",
      " f1:0.5853159510007083 \n",
      " precision:0.5249858836815359 \n",
      " recall:0.6613123110663268 \n",
      ", 'Validation':  best_epoch_indx:3\n",
      " auc:0.7222459747120352 \n",
      " apur:0.6251739998101733 \n",
      " f1:0.5853159510007083 \n",
      " precision:0.5249858836815359 \n",
      " recall:0.6613123110663268 \n",
      ", 'Test':  best_epoch_indx:3\n",
      " auc:0.7222459747120352 \n",
      " apur:0.6251739998101733 \n",
      " f1:0.5853159510007083 \n",
      " precision:0.5249858836815359 \n",
      " recall:0.6613123110663268 \n",
      "}\n",
      "=====Epoch 4\n",
      "Training...\n"
     ]
    },
    {
     "name": "stderr",
     "output_type": "stream",
     "text": [
      "Iteration: 100%|██████████| 154/154 [00:03<00:00, 42.98it/s]\n",
      "Iteration:  32%|███▏      | 50/154 [00:01<00:02, 43.76it/s]]"
     ]
    },
    {
     "name": "stdout",
     "output_type": "stream",
     "text": [
      "Evaluating...\n"
     ]
    },
    {
     "name": "stderr",
     "output_type": "stream",
     "text": [
      "Iteration: 100%|██████████| 154/154 [00:01<00:00, 116.02it/s]\n",
      "Iteration: 100%|██████████| 154/154 [00:03<00:00, 40.89it/s]\n",
      "Iteration:  66%|██████▌   | 102/154 [00:02<00:01, 41.21it/s]"
     ]
    },
    {
     "name": "stdout",
     "output_type": "stream",
     "text": [
      "Evaluating...\n"
     ]
    },
    {
     "name": "stderr",
     "output_type": "stream",
     "text": [
      "Iteration: 100%|██████████| 154/154 [00:04<00:00, 35.42it/s]\n",
      "Iteration:  79%|███████▉  | 122/154 [00:02<00:00, 44.67it/s]"
     ]
    },
    {
     "name": "stdout",
     "output_type": "stream",
     "text": [
      "Evaluating...\n"
     ]
    },
    {
     "name": "stderr",
     "output_type": "stream",
     "text": [
      "Iteration: 100%|██████████| 154/154 [00:03<00:00, 42.99it/s]]\n",
      "Iteration: 100%|██████████| 154/154 [00:01<00:00, 127.03it/s]\n",
      "Iteration:  97%|█████████▋| 149/154 [00:03<00:00, 45.80it/s]"
     ]
    },
    {
     "name": "stdout",
     "output_type": "stream",
     "text": [
      "Evaluating...\n"
     ]
    },
    {
     "name": "stderr",
     "output_type": "stream",
     "text": [
      "\r",
      "Iteration:  20%|██        | 31/154 [00:00<00:01, 70.27it/s]\r",
      "Iteration:  46%|████▌     | 71/154 [00:01<00:01, 72.69it/s]\r",
      "Iteration:  16%|█▌        | 25/154 [00:00<00:01, 122.30it/s]\r",
      "Iteration: 100%|██████████| 154/154 [00:03<00:00, 45.80it/s]\r",
      "Iteration: 100%|██████████| 154/154 [00:03<00:00, 41.28it/s]\n",
      "\r",
      "Iteration:   0%|          | 0/154 [00:00<?, ?it/s]\r",
      "Iteration:  25%|██▌       | 39/154 [00:00<00:01, 72.91it/s]\r",
      "Iteration:  51%|█████▏    | 79/154 [00:01<00:01, 73.44it/s]\r",
      "Iteration:  25%|██▍       | 38/154 [00:00<00:00, 125.56it/s]\r",
      "Iteration:   8%|▊         | 12/154 [00:00<00:01, 111.99it/s]"
     ]
    },
    {
     "name": "stdout",
     "output_type": "stream",
     "text": [
      "Evaluating...\n"
     ]
    },
    {
     "name": "stderr",
     "output_type": "stream",
     "text": [
      "Iteration: 100%|██████████| 154/154 [00:01<00:00, 98.66it/s] \n",
      "Iteration: 100%|██████████| 154/154 [00:01<00:00, 117.28it/s]\n",
      "Iteration: 100%|██████████| 154/154 [00:02<00:00, 65.06it/s]]\n",
      "Iteration: 100%|██████████| 154/154 [00:01<00:00, 117.94it/s]\n",
      "Iteration: 100%|██████████| 154/154 [00:02<00:00, 65.01it/s]]\n",
      "Iteration: 100%|██████████| 154/154 [00:01<00:00, 126.85it/s]\n",
      "Iteration: 100%|██████████| 154/154 [00:01<00:00, 125.56it/s]\n",
      "Iteration: 100%|██████████| 154/154 [00:01<00:00, 124.76it/s]\n",
      "Iteration: 100%|██████████| 154/154 [00:01<00:00, 86.68it/s] \n",
      "Iteration:  25%|██▌       | 39/154 [00:00<00:00, 126.65it/s]"
     ]
    },
    {
     "name": "stdout",
     "output_type": "stream",
     "text": [
      "{'Train':  best_epoch_indx:4\n",
      " auc:0.7283603303279338 \n",
      " apur:0.6318407976789502 \n",
      " f1:0.5799894182840913 \n",
      " precision:0.5469537815126051 \n",
      " recall:0.6172722423092881 \n",
      ", 'Validation':  best_epoch_indx:4\n",
      " auc:0.7283603303279338 \n",
      " apur:0.6318407976789502 \n",
      " f1:0.5799894182840913 \n",
      " precision:0.5469537815126051 \n",
      " recall:0.6172722423092881 \n",
      ", 'Test':  best_epoch_indx:4\n",
      " auc:0.7283603303279338 \n",
      " apur:0.6318407976789502 \n",
      " f1:0.5799894182840913 \n",
      " precision:0.5469537815126051 \n",
      " recall:0.6172722423092881 \n",
      "}\n",
      "=====Epoch 5\n",
      "Training...\n"
     ]
    },
    {
     "name": "stderr",
     "output_type": "stream",
     "text": [
      "Iteration: 100%|██████████| 154/154 [00:01<00:00, 126.59it/s]\n",
      "Iteration: 100%|██████████| 154/154 [00:01<00:00, 103.60it/s]\n",
      "Iteration: 100%|██████████| 154/154 [00:01<00:00, 101.09it/s]\n",
      "Iteration: 100%|██████████| 154/154 [00:01<00:00, 94.92it/s] \n",
      "Iteration:   3%|▎         | 5/154 [00:00<00:03, 46.71it/s]]"
     ]
    },
    {
     "name": "stdout",
     "output_type": "stream",
     "text": [
      "{'Train':  best_epoch_indx:5\n",
      " auc:0.7336985117610625 \n",
      " apur:0.6363286299748656 \n",
      " f1:0.590767912605762 \n",
      " precision:0.5387771049033014 \n",
      " recall:0.6538643907064959 \n",
      ", 'Validation':  best_epoch_indx:5\n",
      " auc:0.7336985117610625 \n",
      " apur:0.6363286299748656 \n",
      " f1:0.590767912605762 \n",
      " precision:0.5387771049033014 \n",
      " recall:0.6538643907064959 \n",
      ", 'Test':  best_epoch_indx:5\n",
      " auc:0.7336985117610625 \n",
      " apur:0.6363286299748656 \n",
      " f1:0.590767912605762 \n",
      " precision:0.5387771049033014 \n",
      " recall:0.6538643907064959 \n",
      "}\n",
      "=====Epoch 6\n",
      "Training...\n",
      "{'Train':  best_epoch_indx:5\n",
      " auc:0.7332102183415434 \n",
      " apur:0.6400207142525132 \n",
      " f1:0.5949892854308315 \n",
      " precision:0.5373184250764526 \n",
      " recall:0.666528362278466 \n",
      ", 'Validation':  best_epoch_indx:5\n",
      " auc:0.7332102183415434 \n",
      " apur:0.6400207142525132 \n",
      " f1:0.5949892854308315 \n",
      " precision:0.5373184250764526 \n",
      " recall:0.666528362278466 \n",
      ", 'Test':  best_epoch_indx:5\n",
      " auc:0.7332102183415434 \n",
      " apur:0.6400207142525132 \n",
      " f1:0.5949892854308315 \n",
      " precision:0.5373184250764526 \n",
      " recall:0.666528362278466 \n",
      "}\n",
      "=====Epoch 6\n",
      "Training...\n"
     ]
    },
    {
     "name": "stderr",
     "output_type": "stream",
     "text": [
      "\r",
      "Iteration:  34%|███▍      | 53/154 [00:01<00:02, 37.21it/s]\r",
      "Iteration:   6%|▋         | 10/154 [00:00<00:03, 46.16it/s]\r",
      "Iteration:   6%|▋         | 10/154 [00:00<00:03, 40.83it/s]\r",
      "Iteration:  37%|███▋      | 57/154 [00:01<00:02, 35.31it/s]\r",
      "Iteration:   0%|          | 0/154 [00:00<?, ?it/s]\r",
      "Iteration:  10%|▉         | 15/154 [00:00<00:03, 46.01it/s]"
     ]
    },
    {
     "name": "stdout",
     "output_type": "stream",
     "text": [
      "{'Train':  best_epoch_indx:4\n",
      " auc:0.7271115521839341 \n",
      " apur:0.6292791535136626 \n",
      " f1:0.5833918634177967 \n",
      " precision:0.5359606889363181 \n",
      " recall:0.6400331930531682 \n",
      ", 'Validation':  best_epoch_indx:4\n",
      " auc:0.7271115521839341 \n",
      " apur:0.6292791535136626 \n",
      " f1:0.5833918634177967 \n",
      " precision:0.5359606889363181 \n",
      " recall:0.6400331930531682 \n",
      ", 'Test':  best_epoch_indx:4\n",
      " auc:0.7271115521839341 \n",
      " apur:0.6292791535136626 \n",
      " f1:0.5833918634177967 \n",
      " precision:0.5359606889363181 \n",
      " recall:0.6400331930531682 \n",
      "}\n",
      "=====Epoch 5\n",
      "Training...\n",
      "{'Train':  best_epoch_indx:6\n",
      " auc:0.7409155103757978 \n",
      " apur:0.6469481858395072 \n",
      " f1:0.590472604029373 \n",
      " precision:0.540556513174095 \n",
      " recall:0.6505452821242295 \n",
      ", 'Validation':  best_epoch_indx:6\n",
      " auc:0.7409155103757978 \n",
      " apur:0.6469481858395072 \n",
      " f1:0.590472604029373 \n",
      " precision:0.540556513174095 \n",
      " recall:0.6505452821242295 \n",
      ", 'Test':  best_epoch_indx:6\n",
      " auc:0.7409155103757978 \n",
      " apur:0.6469481858395072 \n",
      " f1:0.590472604029373 \n",
      " precision:0.540556513174095 \n",
      " recall:0.6505452821242295 \n",
      "}\n",
      "=====Epoch 7\n",
      "Training...\n"
     ]
    },
    {
     "name": "stderr",
     "output_type": "stream",
     "text": [
      "Iteration: 100%|██████████| 154/154 [00:03<00:00, 40.02it/s]\n",
      "Iteration:  52%|█████▏    | 80/154 [00:02<00:01, 39.27it/s]]"
     ]
    },
    {
     "name": "stdout",
     "output_type": "stream",
     "text": [
      "Evaluating...\n"
     ]
    },
    {
     "name": "stderr",
     "output_type": "stream",
     "text": [
      "Iteration: 100%|██████████| 154/154 [00:03<00:00, 44.91it/s]]\n",
      "Iteration:  89%|████████▉ | 137/154 [00:01<00:00, 116.72it/s]"
     ]
    },
    {
     "name": "stdout",
     "output_type": "stream",
     "text": [
      "Evaluating...\n"
     ]
    },
    {
     "name": "stderr",
     "output_type": "stream",
     "text": [
      "Iteration: 100%|██████████| 154/154 [00:01<00:00, 120.75it/s]\n",
      "Iteration: 100%|██████████| 154/154 [00:03<00:00, 38.78it/s]\n",
      "Iteration:  97%|█████████▋| 150/154 [00:03<00:00, 45.73it/s]"
     ]
    },
    {
     "name": "stdout",
     "output_type": "stream",
     "text": [
      "Evaluating...\n",
      "Evaluating...\n"
     ]
    },
    {
     "name": "stderr",
     "output_type": "stream",
     "text": [
      "Iteration: 100%|██████████| 154/154 [00:03<00:00, 40.40it/s]\n",
      "Iteration: 100%|██████████| 154/154 [00:04<00:00, 37.20it/s]]\n",
      "Iteration:   5%|▍         | 7/154 [00:00<00:02, 54.70it/s]s]]"
     ]
    },
    {
     "name": "stdout",
     "output_type": "stream",
     "text": [
      "Evaluating...\n"
     ]
    },
    {
     "name": "stderr",
     "output_type": "stream",
     "text": [
      "Iteration: 100%|██████████| 154/154 [00:01<00:00, 125.68it/s]\n",
      "Iteration: 100%|██████████| 154/154 [00:01<00:00, 127.17it/s]\n",
      "Iteration: 100%|██████████| 154/154 [00:01<00:00, 117.43it/s]\n",
      "Iteration: 100%|██████████| 154/154 [00:02<00:00, 74.08it/s]]\n",
      "Iteration: 100%|██████████| 154/154 [00:01<00:00, 118.86it/s]\n",
      "Iteration: 100%|██████████| 154/154 [00:02<00:00, 65.29it/s]]\n",
      "Iteration: 100%|██████████| 154/154 [00:01<00:00, 128.71it/s]\n",
      "Iteration: 100%|██████████| 154/154 [00:01<00:00, 102.19it/s]\n",
      "Iteration: 100%|██████████| 154/154 [00:01<00:00, 119.02it/s]\n",
      "Iteration:  34%|███▍      | 52/154 [00:00<00:01, 89.65it/s]s]"
     ]
    },
    {
     "name": "stdout",
     "output_type": "stream",
     "text": [
      "{'Train':  best_epoch_indx:5\n",
      " auc:0.7425265571939534 \n",
      " apur:0.6492584643999044 \n",
      " f1:0.5964222313259593 \n",
      " precision:0.5530287682333873 \n",
      " recall:0.6472052634698595 \n",
      ", 'Validation':  best_epoch_indx:5\n",
      " auc:0.7425265571939534 \n",
      " apur:0.6492584643999044 \n",
      " f1:0.5964222313259593 \n",
      " precision:0.5530287682333873 \n",
      " recall:0.6472052634698595 \n",
      ", 'Test':  best_epoch_indx:5\n",
      " auc:0.7425265571939534 \n",
      " apur:0.6492584643999044 \n",
      " f1:0.5964222313259593 \n",
      " precision:0.5530287682333873 \n",
      " recall:0.6472052634698595 \n",
      "}\n",
      "=====Epoch 6\n",
      "Training...\n"
     ]
    },
    {
     "name": "stderr",
     "output_type": "stream",
     "text": [
      "Iteration: 100%|██████████| 154/154 [00:01<00:00, 108.67it/s]\n",
      "Iteration: 100%|██████████| 154/154 [00:01<00:00, 99.45it/s] \n",
      "Iteration:   3%|▎         | 5/154 [00:00<00:03, 41.88it/s]"
     ]
    },
    {
     "name": "stdout",
     "output_type": "stream",
     "text": [
      "{'Train':  best_epoch_indx:6\n",
      " auc:0.738071802870551 \n",
      " apur:0.6439046519615244 \n",
      " f1:0.6009874783670976 \n",
      " precision:0.5266280107047279 \n",
      " recall:0.6997984826932195 \n",
      ", 'Validation':  best_epoch_indx:6\n",
      " auc:0.738071802870551 \n",
      " apur:0.6439046519615244 \n",
      " f1:0.6009874783670976 \n",
      " precision:0.5266280107047279 \n",
      " recall:0.6997984826932195 \n",
      ", 'Test':  best_epoch_indx:6\n",
      " auc:0.738071802870551 \n",
      " apur:0.6439046519615244 \n",
      " f1:0.6009874783670976 \n",
      " precision:0.5266280107047279 \n",
      " recall:0.6997984826932195 \n",
      "}\n",
      "=====Epoch 7\n",
      "Training...\n"
     ]
    },
    {
     "name": "stderr",
     "output_type": "stream",
     "text": [
      "Iteration: 100%|██████████| 154/154 [00:01<00:00, 106.33it/s]\n",
      "Iteration: 100%|██████████| 154/154 [00:02<00:00, 66.88it/s]\n",
      "Iteration:  69%|██████▉   | 107/154 [00:02<00:01, 37.58it/s]"
     ]
    },
    {
     "name": "stdout",
     "output_type": "stream",
     "text": [
      "{'Train':  best_epoch_indx:6\n",
      " auc:0.7417314284718476 \n",
      " apur:0.6492988351582261 \n",
      " f1:0.5941631860384687 \n",
      " precision:0.5389999034655855 \n",
      " recall:0.6619050441586154 \n",
      ", 'Validation':  best_epoch_indx:6\n",
      " auc:0.7417314284718476 \n",
      " apur:0.6492988351582261 \n",
      " f1:0.5941631860384687 \n",
      " precision:0.5389999034655855 \n",
      " recall:0.6619050441586154 \n",
      ", 'Test':  best_epoch_indx:6\n",
      " auc:0.7417314284718476 \n",
      " apur:0.6492988351582261 \n",
      " f1:0.5941631860384687 \n",
      " precision:0.5389999034655855 \n",
      " recall:0.6619050441586154 \n",
      "}\n",
      "=====Epoch 7\n",
      "Training...\n"
     ]
    },
    {
     "name": "stderr",
     "output_type": "stream",
     "text": [
      "Iteration:   3%|▎         | 5/154 [00:00<00:03, 44.98it/s]]]"
     ]
    },
    {
     "name": "stdout",
     "output_type": "stream",
     "text": [
      "{'Train':  best_epoch_indx:5\n",
      " auc:0.7330350729831514 \n",
      " apur:0.6347835076220827 \n",
      " f1:0.5786263892846963 \n",
      " precision:0.557220484109995 \n",
      " recall:0.6017426352913283 \n",
      ", 'Validation':  best_epoch_indx:5\n",
      " auc:0.7330350729831514 \n",
      " apur:0.6347835076220827 \n",
      " f1:0.5786263892846963 \n",
      " precision:0.557220484109995 \n",
      " recall:0.6017426352913283 \n",
      ", 'Test':  best_epoch_indx:5\n",
      " auc:0.7330350729831514 \n",
      " apur:0.6347835076220827 \n",
      " f1:0.5786263892846963 \n",
      " precision:0.557220484109995 \n",
      " recall:0.6017426352913283 \n",
      "}\n",
      "=====Epoch 6\n",
      "Training...\n"
     ]
    },
    {
     "name": "stderr",
     "output_type": "stream",
     "text": [
      "\r",
      "Iteration:  95%|█████████▌| 147/154 [00:03<00:00, 45.08it/s]\r",
      "Iteration:  27%|██▋       | 42/154 [00:00<00:02, 45.95it/s]\r",
      "Iteration:  62%|██████▏   | 95/154 [00:01<00:00, 71.86it/s]\r",
      "Iteration:  68%|██████▊   | 104/154 [00:02<00:01, 45.85it/s]\r",
      "Iteration:  99%|█████████▊| 152/154 [00:03<00:00, 45.26it/s]\r",
      "Iteration:   6%|▋         | 10/154 [00:00<00:03, 37.65it/s]\r",
      "Iteration:  31%|███       | 47/154 [00:01<00:02, 45.90it/s]\r",
      "Iteration:  71%|███████   | 109/154 [00:02<00:00, 45.89it/s]\r",
      "Iteration:  67%|██████▋   | 103/154 [00:01<00:00, 70.52it/s]\r",
      "Iteration: 100%|██████████| 154/154 [00:03<00:00, 44.76it/s]\n",
      "\r",
      "Iteration:   0%|          | 0/154 [00:00<?, ?it/s]"
     ]
    },
    {
     "name": "stdout",
     "output_type": "stream",
     "text": [
      "Evaluating...\n"
     ]
    },
    {
     "name": "stderr",
     "output_type": "stream",
     "text": [
      "Iteration: 100%|██████████| 154/154 [00:02<00:00, 70.38it/s]\n",
      "Iteration: 100%|██████████| 154/154 [00:03<00:00, 44.58it/s]]\n",
      "Iteration:   8%|▊         | 12/154 [00:00<00:01, 112.17it/s]]"
     ]
    },
    {
     "name": "stdout",
     "output_type": "stream",
     "text": [
      "Evaluating...\n"
     ]
    },
    {
     "name": "stderr",
     "output_type": "stream",
     "text": [
      "Iteration: 100%|██████████| 154/154 [00:01<00:00, 127.16it/s]\n",
      "Iteration:  51%|█████     | 78/154 [00:02<00:01, 38.98it/s]]"
     ]
    },
    {
     "name": "stdout",
     "output_type": "stream",
     "text": [
      "{'Train':  best_epoch_indx:7\n",
      " auc:0.7533663850821506 \n",
      " apur:0.6588544935278786 \n",
      " f1:0.6053841809429039 \n",
      " precision:0.5541332282999359 \n",
      " recall:0.66708155523945 \n",
      ", 'Validation':  best_epoch_indx:7\n",
      " auc:0.7533663850821506 \n",
      " apur:0.6588544935278786 \n",
      " f1:0.6053841809429039 \n",
      " precision:0.5541332282999359 \n",
      " recall:0.66708155523945 \n",
      ", 'Test':  best_epoch_indx:7\n",
      " auc:0.7533663850821506 \n",
      " apur:0.6588544935278786 \n",
      " f1:0.6053841809429039 \n",
      " precision:0.5541332282999359 \n",
      " recall:0.66708155523945 \n",
      "}\n",
      "=====Epoch 8\n",
      "Training...\n"
     ]
    },
    {
     "name": "stderr",
     "output_type": "stream",
     "text": [
      "Iteration: 100%|██████████| 154/154 [00:01<00:00, 118.40it/s]\n",
      "Iteration: 100%|██████████| 154/154 [00:03<00:00, 45.96it/s]\n",
      "Iteration:  66%|██████▌   | 101/154 [00:02<00:01, 37.01it/s]"
     ]
    },
    {
     "name": "stdout",
     "output_type": "stream",
     "text": [
      "Evaluating...\n"
     ]
    },
    {
     "name": "stderr",
     "output_type": "stream",
     "text": [
      "Iteration: 100%|██████████| 154/154 [00:01<00:00, 115.08it/s]\n",
      "Iteration: 100%|██████████| 154/154 [00:01<00:00, 116.64it/s]\n",
      "Iteration: 100%|██████████| 154/154 [00:04<00:00, 38.36it/s]\n",
      "Iteration:  53%|█████▎    | 82/154 [00:02<00:01, 39.48it/s]]"
     ]
    },
    {
     "name": "stdout",
     "output_type": "stream",
     "text": [
      "Evaluating...\n"
     ]
    },
    {
     "name": "stderr",
     "output_type": "stream",
     "text": [
      "Iteration: 100%|██████████| 154/154 [00:01<00:00, 94.16it/s] \n",
      "Iteration: 100%|██████████| 154/154 [00:01<00:00, 127.37it/s]\n",
      "Iteration: 100%|██████████| 154/154 [00:01<00:00, 113.37it/s]\n",
      "Iteration: 100%|██████████| 154/154 [00:03<00:00, 39.63it/s] \n",
      "Iteration: 100%|██████████| 154/154 [00:01<00:00, 96.01it/s] "
     ]
    },
    {
     "name": "stdout",
     "output_type": "stream",
     "text": [
      "Evaluating...\n",
      "{'Train':  best_epoch_indx:6\n",
      " auc:0.7455413033897952 \n",
      " apur:0.6526927113118765 \n",
      " f1:0.5846243788365975 \n",
      " precision:0.576734529096257 \n",
      " recall:0.5927330922885424 \n",
      ", 'Validation':  best_epoch_indx:6\n",
      " auc:0.7455413033897952 \n",
      " apur:0.6526927113118765 \n",
      " f1:0.5846243788365975 \n",
      " precision:0.576734529096257 \n",
      " recall:0.5927330922885424 \n",
      ", 'Test':  best_epoch_indx:6\n",
      " auc:0.7455413033897952 \n",
      " apur:0.6526927113118765 \n",
      " f1:0.5846243788365975 \n",
      " precision:0.576734529096257 \n",
      " recall:0.5927330922885424 \n",
      "}\n",
      "=====Epoch 7\n",
      "Training...\n"
     ]
    },
    {
     "name": "stderr",
     "output_type": "stream",
     "text": [
      "\n",
      "Iteration: 100%|██████████| 154/154 [00:01<00:00, 117.33it/s]\n",
      "Iteration: 100%|██████████| 154/154 [00:01<00:00, 91.65it/s] \n",
      "Iteration: 100%|██████████| 154/154 [00:01<00:00, 101.60it/s]\n",
      "Iteration:  39%|███▉      | 60/154 [00:01<00:02, 38.23it/s]]"
     ]
    },
    {
     "name": "stdout",
     "output_type": "stream",
     "text": [
      "{'Train':  best_epoch_indx:7\n",
      " auc:0.7467564771929307 \n",
      " apur:0.6536072824059841 \n",
      " f1:0.6054914036438287 \n",
      " precision:0.5338944700877908 \n",
      " recall:0.6992650545282124 \n",
      ", 'Validation':  best_epoch_indx:7\n",
      " auc:0.7467564771929307 \n",
      " apur:0.6536072824059841 \n",
      " f1:0.6054914036438287 \n",
      " precision:0.5338944700877908 \n",
      " recall:0.6992650545282124 \n",
      ", 'Test':  best_epoch_indx:7\n",
      " auc:0.7467564771929307 \n",
      " apur:0.6536072824059841 \n",
      " f1:0.6054914036438287 \n",
      " precision:0.5338944700877908 \n",
      " recall:0.6992650545282124 \n",
      "}\n",
      "=====Epoch 8\n",
      "Training...\n"
     ]
    },
    {
     "name": "stderr",
     "output_type": "stream",
     "text": [
      "Iteration: 100%|██████████| 154/154 [00:01<00:00, 117.17it/s]\n",
      "Iteration:  68%|██████▊   | 104/154 [00:00<00:00, 124.26it/s]"
     ]
    },
    {
     "name": "stdout",
     "output_type": "stream",
     "text": [
      "{'Train':  best_epoch_indx:7\n",
      " auc:0.7522053259708532 \n",
      " apur:0.6603608692358063 \n",
      " f1:0.6118928733545166 \n",
      " precision:0.5325023043497344 \n",
      " recall:0.7191037875644597 \n",
      ", 'Validation':  best_epoch_indx:7\n",
      " auc:0.7522053259708532 \n",
      " apur:0.6603608692358063 \n",
      " f1:0.6118928733545166 \n",
      " precision:0.5325023043497344 \n",
      " recall:0.7191037875644597 \n",
      ", 'Test':  best_epoch_indx:7\n",
      " auc:0.7522053259708532 \n",
      " apur:0.6603608692358063 \n",
      " f1:0.6118928733545166 \n",
      " precision:0.5325023043497344 \n",
      " recall:0.7191037875644597 \n",
      "}\n",
      "=====Epoch 8\n",
      "Training...\n"
     ]
    },
    {
     "name": "stderr",
     "output_type": "stream",
     "text": [
      "Iteration: 100%|██████████| 154/154 [00:01<00:00, 116.42it/s]\n",
      "Iteration:  83%|████████▎ | 128/154 [00:01<00:00, 80.22it/s]"
     ]
    },
    {
     "name": "stdout",
     "output_type": "stream",
     "text": [
      "{'Train':  best_epoch_indx:6\n",
      " auc:0.7411812205257534 \n",
      " apur:0.6490099124214318 \n",
      " f1:0.5904876844588293 \n",
      " precision:0.5495481697043958 \n",
      " recall:0.6380179005393871 \n",
      ", 'Validation':  best_epoch_indx:6\n",
      " auc:0.7411812205257534 \n",
      " apur:0.6490099124214318 \n",
      " f1:0.5904876844588293 \n",
      " precision:0.5495481697043958 \n",
      " recall:0.6380179005393871 \n",
      ", 'Test':  best_epoch_indx:6\n",
      " auc:0.7411812205257534 \n",
      " apur:0.6490099124214318 \n",
      " f1:0.5904876844588293 \n",
      " precision:0.5495481697043958 \n",
      " recall:0.6380179005393871 \n",
      "}\n",
      "=====Epoch 7\n",
      "Training...\n",
      "Evaluating...\n"
     ]
    },
    {
     "name": "stderr",
     "output_type": "stream",
     "text": [
      "Iteration: 100%|██████████| 154/154 [00:03<00:00, 42.22it/s]\n",
      "Iteration: 100%|██████████| 154/154 [00:01<00:00, 82.10it/s]\n",
      "Iteration: 100%|██████████| 154/154 [00:01<00:00, 121.07it/s]\n",
      "Iteration: 100%|██████████| 154/154 [00:03<00:00, 41.00it/s]\n",
      "Iteration:  48%|████▊     | 74/154 [00:01<00:02, 37.62it/s]]"
     ]
    },
    {
     "name": "stdout",
     "output_type": "stream",
     "text": [
      "Evaluating...\n"
     ]
    },
    {
     "name": "stderr",
     "output_type": "stream",
     "text": [
      "Iteration: 100%|██████████| 154/154 [00:03<00:00, 44.39it/s]\n",
      "Iteration:  58%|█████▊    | 89/154 [00:00<00:00, 118.94it/s]"
     ]
    },
    {
     "name": "stdout",
     "output_type": "stream",
     "text": [
      "Evaluating...\n"
     ]
    },
    {
     "name": "stderr",
     "output_type": "stream",
     "text": [
      "Iteration: 100%|██████████| 154/154 [00:01<00:00, 116.59it/s]\n",
      "Iteration: 100%|██████████| 154/154 [00:01<00:00, 93.27it/s] \n",
      "Iteration:  95%|█████████▌| 147/154 [00:01<00:00, 64.08it/s] "
     ]
    },
    {
     "name": "stdout",
     "output_type": "stream",
     "text": [
      "{'Train':  best_epoch_indx:8\n",
      " auc:0.7605401022660008 \n",
      " apur:0.6671389662515258 \n",
      " f1:0.6074745687748784 \n",
      " precision:0.5692084542063821 \n",
      " recall:0.6512565196775723 \n",
      ", 'Validation':  best_epoch_indx:8\n",
      " auc:0.7605401022660008 \n",
      " apur:0.6671389662515258 \n",
      " f1:0.6074745687748784 \n",
      " precision:0.5692084542063821 \n",
      " recall:0.6512565196775723 \n",
      ", 'Test':  best_epoch_indx:8\n",
      " auc:0.7605401022660008 \n",
      " apur:0.6671389662515258 \n",
      " f1:0.6074745687748784 \n",
      " precision:0.5692084542063821 \n",
      " recall:0.6512565196775723 \n",
      "}\n",
      "=====Epoch 9\n",
      "Training...\n"
     ]
    },
    {
     "name": "stderr",
     "output_type": "stream",
     "text": [
      "Iteration: 100%|██████████| 154/154 [00:01<00:00, 82.14it/s]]\n",
      "Iteration: 100%|██████████| 154/154 [00:01<00:00, 115.27it/s]\n",
      "Iteration: 100%|██████████| 154/154 [00:03<00:00, 38.53it/s]\n",
      "Iteration:  12%|█▏        | 19/154 [00:00<00:03, 36.60it/s]"
     ]
    },
    {
     "name": "stdout",
     "output_type": "stream",
     "text": [
      "Evaluating...\n"
     ]
    },
    {
     "name": "stderr",
     "output_type": "stream",
     "text": [
      "Iteration: 100%|██████████| 154/154 [00:01<00:00, 119.25it/s]\n",
      "Iteration: 100%|██████████| 154/154 [00:01<00:00, 125.93it/s]\n",
      "Iteration: 100%|██████████| 154/154 [00:01<00:00, 121.55it/s]\n",
      "Iteration:   3%|▎         | 5/154 [00:00<00:03, 46.13it/s]]]"
     ]
    },
    {
     "name": "stdout",
     "output_type": "stream",
     "text": [
      "{'Train':  best_epoch_indx:7\n",
      " auc:0.750399359709931 \n",
      " apur:0.6604749276557074 \n",
      " f1:0.596834469114091 \n",
      " precision:0.5563239588135853 \n",
      " recall:0.6437081382253571 \n",
      ", 'Validation':  best_epoch_indx:7\n",
      " auc:0.750399359709931 \n",
      " apur:0.6604749276557074 \n",
      " f1:0.596834469114091 \n",
      " precision:0.5563239588135853 \n",
      " recall:0.6437081382253571 \n",
      ", 'Test':  best_epoch_indx:7\n",
      " auc:0.750399359709931 \n",
      " apur:0.6604749276557074 \n",
      " f1:0.596834469114091 \n",
      " precision:0.5563239588135853 \n",
      " recall:0.6437081382253571 \n",
      "}\n",
      "=====Epoch 8\n",
      "Training...\n"
     ]
    },
    {
     "name": "stderr",
     "output_type": "stream",
     "text": [
      "Iteration: 100%|██████████| 154/154 [00:01<00:00, 81.87it/s] \n",
      "Iteration: 100%|██████████| 154/154 [00:01<00:00, 121.23it/s]\n",
      "Iteration: 100%|██████████| 154/154 [00:03<00:00, 40.32it/s]\n",
      "Iteration:  10%|▉         | 15/154 [00:00<00:02, 65.49it/s]"
     ]
    },
    {
     "name": "stdout",
     "output_type": "stream",
     "text": [
      "Evaluating...\n"
     ]
    },
    {
     "name": "stderr",
     "output_type": "stream",
     "text": [
      "Iteration: 100%|██████████| 154/154 [00:01<00:00, 108.05it/s]\n",
      "Iteration: 100%|██████████| 154/154 [00:01<00:00, 125.41it/s]\n",
      "Iteration:  79%|███████▉  | 122/154 [00:01<00:00, 78.89it/s]"
     ]
    },
    {
     "name": "stdout",
     "output_type": "stream",
     "text": [
      "{'Train':  best_epoch_indx:8\n",
      " auc:0.7539443161519359 \n",
      " apur:0.6616486444269059 \n",
      " f1:0.6083936024055785 \n",
      " precision:0.5406588343699609 \n",
      " recall:0.6955310573731627 \n",
      ", 'Validation':  best_epoch_indx:8\n",
      " auc:0.7539443161519359 \n",
      " apur:0.6616486444269059 \n",
      " f1:0.6083936024055785 \n",
      " precision:0.5406588343699609 \n",
      " recall:0.6955310573731627 \n",
      ", 'Test':  best_epoch_indx:8\n",
      " auc:0.7539443161519359 \n",
      " apur:0.6616486444269059 \n",
      " f1:0.6083936024055785 \n",
      " precision:0.5406588343699609 \n",
      " recall:0.6955310573731627 \n",
      "}\n",
      "=====Epoch 9\n",
      "Training...\n"
     ]
    },
    {
     "name": "stderr",
     "output_type": "stream",
     "text": [
      "Iteration: 100%|██████████| 154/154 [00:01<00:00, 88.21it/s]\n",
      "Iteration: 100%|██████████| 154/154 [00:01<00:00, 122.08it/s]\n",
      "Iteration:   0%|          | 0/154 [00:00<?, ?it/s]38.84it/s]"
     ]
    },
    {
     "name": "stdout",
     "output_type": "stream",
     "text": [
      "{'Train':  best_epoch_indx:8\n",
      " auc:0.7596298474159329 \n",
      " apur:0.6698424791227502 \n",
      " f1:0.6141476573344159 \n",
      " precision:0.5501595345345346 \n",
      " recall:0.6949795507083161 \n",
      ", 'Validation':  best_epoch_indx:8\n",
      " auc:0.7596298474159329 \n",
      " apur:0.6698424791227502 \n",
      " f1:0.6141476573344159 \n",
      " precision:0.5501595345345346 \n",
      " recall:0.6949795507083161 \n",
      ", 'Test':  best_epoch_indx:8\n",
      " auc:0.7596298474159329 \n",
      " apur:0.6698424791227502 \n",
      " f1:0.6141476573344159 \n",
      " precision:0.5501595345345346 \n",
      " recall:0.6949795507083161 \n",
      "}\n",
      "=====Epoch 9\n",
      "Training...\n"
     ]
    },
    {
     "name": "stderr",
     "output_type": "stream",
     "text": [
      "Iteration:   4%|▍         | 6/154 [00:00<00:02, 51.07it/s]s]"
     ]
    },
    {
     "name": "stdout",
     "output_type": "stream",
     "text": [
      "{'Train':  best_epoch_indx:7\n",
      " auc:0.7499327469691877 \n",
      " apur:0.6585145639545145 \n",
      " f1:0.6030967265437471 \n",
      " precision:0.5433460076045628 \n",
      " recall:0.6776124711042617 \n",
      ", 'Validation':  best_epoch_indx:7\n",
      " auc:0.7499327469691877 \n",
      " apur:0.6585145639545145 \n",
      " f1:0.6030967265437471 \n",
      " precision:0.5433460076045628 \n",
      " recall:0.6776124711042617 \n",
      ", 'Test':  best_epoch_indx:7\n",
      " auc:0.7499327469691877 \n",
      " apur:0.6585145639545145 \n",
      " f1:0.6030967265437471 \n",
      " precision:0.5433460076045628 \n",
      " recall:0.6776124711042617 \n",
      "}\n",
      "=====Epoch 8\n",
      "Training...\n"
     ]
    },
    {
     "name": "stderr",
     "output_type": "stream",
     "text": [
      "\r",
      "Iteration:  95%|█████████▌| 147/154 [00:03<00:00, 36.59it/s]\r",
      "Iteration:  33%|███▎      | 51/154 [00:01<00:02, 38.46it/s]\r",
      "Iteration:  18%|█▊        | 27/154 [00:00<00:02, 46.20it/s]\r",
      "Iteration:  68%|██████▊   | 104/154 [00:00<00:00, 119.25it/s]\r",
      "Iteration:   8%|▊         | 12/154 [00:00<00:02, 47.80it/s]\r",
      "Iteration:  98%|█████████▊| 151/154 [00:04<00:00, 37.47it/s]\r",
      "Iteration:  36%|███▋      | 56/154 [00:01<00:02, 39.81it/s]\r",
      "Iteration:  21%|██        | 32/154 [00:00<00:02, 46.10it/s]\r",
      "Iteration:  76%|███████▌  | 117/154 [00:01<00:00, 121.66it/s]\r",
      "Iteration: 100%|██████████| 154/154 [00:04<00:00, 37.34it/s]\n",
      "\r",
      "Iteration:   0%|          | 0/154 [00:00<?, ?it/s]"
     ]
    },
    {
     "name": "stdout",
     "output_type": "stream",
     "text": [
      "Evaluating...\n"
     ]
    },
    {
     "name": "stderr",
     "output_type": "stream",
     "text": [
      "Iteration: 100%|██████████| 154/154 [00:01<00:00, 109.44it/s]\n",
      "Iteration: 100%|██████████| 154/154 [00:01<00:00, 116.60it/s]\n",
      "Iteration: 100%|██████████| 154/154 [00:04<00:00, 38.24it/s]\n",
      "Iteration: 100%|██████████| 154/154 [00:03<00:00, 45.96it/s]\n",
      "Iteration:   8%|▊         | 12/154 [00:00<00:01, 112.24it/s]"
     ]
    },
    {
     "name": "stdout",
     "output_type": "stream",
     "text": [
      "Evaluating...\n",
      "Evaluating...\n"
     ]
    },
    {
     "name": "stderr",
     "output_type": "stream",
     "text": [
      "Iteration: 100%|██████████| 154/154 [00:01<00:00, 125.94it/s]\n",
      "Iteration: 100%|██████████| 154/154 [00:03<00:00, 42.18it/s]\n",
      "Iteration:  77%|███████▋  | 119/154 [00:01<00:00, 70.08it/s]]"
     ]
    },
    {
     "name": "stdout",
     "output_type": "stream",
     "text": [
      "Evaluating...\n"
     ]
    },
    {
     "name": "stderr",
     "output_type": "stream",
     "text": [
      "Iteration: 100%|██████████| 154/154 [00:01<00:00, 125.97it/s]\n",
      "Iteration: 100%|██████████| 154/154 [00:01<00:00, 126.66it/s]\n",
      "Iteration: 100%|██████████| 154/154 [00:02<00:00, 63.36it/s]\n",
      "Iteration: 100%|██████████| 154/154 [00:01<00:00, 103.33it/s]\n",
      "Iteration:   0%|          | 0/154 [00:00<?, ?it/s]14.08it/s]]"
     ]
    },
    {
     "name": "stdout",
     "output_type": "stream",
     "text": [
      "{'Train':  best_epoch_indx:9\n",
      " auc:0.7633647131189791 \n",
      " apur:0.672475228750824 \n",
      " f1:0.6162139083097614 \n",
      " precision:0.5604310261139696 \n",
      " recall:0.6843290659080132 \n",
      ", 'Validation':  best_epoch_indx:9\n",
      " auc:0.7633647131189791 \n",
      " apur:0.672475228750824 \n",
      " f1:0.6162139083097614 \n",
      " precision:0.5604310261139696 \n",
      " recall:0.6843290659080132 \n",
      ", 'Test':  best_epoch_indx:9\n",
      " auc:0.7633647131189791 \n",
      " apur:0.672475228750824 \n",
      " f1:0.6162139083097614 \n",
      " precision:0.5604310261139696 \n",
      " recall:0.6843290659080132 \n",
      "}\n",
      "=====Epoch 10\n",
      "Training...\n"
     ]
    },
    {
     "name": "stderr",
     "output_type": "stream",
     "text": [
      "Iteration: 100%|██████████| 154/154 [00:01<00:00, 100.90it/s]\n",
      "Iteration: 100%|██████████| 154/154 [00:01<00:00, 116.38it/s]\n",
      "Iteration:  18%|█▊        | 28/154 [00:00<00:03, 40.29it/s]]"
     ]
    },
    {
     "name": "stdout",
     "output_type": "stream",
     "text": [
      "{'Train':  best_epoch_indx:8\n",
      " auc:0.7586795643505406 \n",
      " apur:0.6682699965748647 \n",
      " f1:0.6081426349700066 \n",
      " precision:0.5721377436379788 \n",
      " recall:0.6489834627467251 \n",
      ", 'Validation':  best_epoch_indx:8\n",
      " auc:0.7586795643505406 \n",
      " apur:0.6682699965748647 \n",
      " f1:0.6081426349700066 \n",
      " precision:0.5721377436379788 \n",
      " recall:0.6489834627467251 \n",
      ", 'Test':  best_epoch_indx:8\n",
      " auc:0.7586795643505406 \n",
      " apur:0.6682699965748647 \n",
      " f1:0.6081426349700066 \n",
      " precision:0.5721377436379788 \n",
      " recall:0.6489834627467251 \n",
      "}\n",
      "=====Epoch 9\n",
      "Training...\n"
     ]
    },
    {
     "name": "stderr",
     "output_type": "stream",
     "text": [
      "Iteration: 100%|██████████| 154/154 [00:02<00:00, 76.53it/s] \n",
      "Iteration: 100%|██████████| 154/154 [00:01<00:00, 124.75it/s]\n",
      "Iteration: 100%|██████████| 154/154 [00:01<00:00, 113.51it/s]\n",
      "Iteration: 100%|██████████| 154/154 [00:01<00:00, 119.77it/s]\n",
      "Iteration:  85%|████████▌ | 131/154 [00:03<00:00, 36.80it/s]"
     ]
    },
    {
     "name": "stdout",
     "output_type": "stream",
     "text": [
      "{'Train':  best_epoch_indx:9\n",
      " auc:0.7650525230097949 \n",
      " apur:0.6752464381859469 \n",
      " f1:0.6169219471254721 \n",
      " precision:0.5532765677188691 \n",
      " recall:0.6971133898405548 \n",
      ", 'Validation':  best_epoch_indx:9\n",
      " auc:0.7650525230097949 \n",
      " apur:0.6752464381859469 \n",
      " f1:0.6169219471254721 \n",
      " precision:0.5532765677188691 \n",
      " recall:0.6971133898405548 \n",
      ", 'Test':  best_epoch_indx:9\n",
      " auc:0.7650525230097949 \n",
      " apur:0.6752464381859469 \n",
      " f1:0.6169219471254721 \n",
      " precision:0.5532765677188691 \n",
      " recall:0.6971133898405548 \n",
      "}\n",
      "=====Epoch 10\n",
      "Training...\n"
     ]
    },
    {
     "name": "stderr",
     "output_type": "stream",
     "text": [
      "Iteration:  96%|█████████▌| 148/154 [00:03<00:00, 39.83it/s]]"
     ]
    },
    {
     "name": "stdout",
     "output_type": "stream",
     "text": [
      "{'Train':  best_epoch_indx:9\n",
      " auc:0.760440705839124 \n",
      " apur:0.6689411277649768 \n",
      " f1:0.6119856693084356 \n",
      " precision:0.5644902864009613 \n",
      " recall:0.6682076813655761 \n",
      ", 'Validation':  best_epoch_indx:9\n",
      " auc:0.760440705839124 \n",
      " apur:0.6689411277649768 \n",
      " f1:0.6119856693084356 \n",
      " precision:0.5644902864009613 \n",
      " recall:0.6682076813655761 \n",
      ", 'Test':  best_epoch_indx:9\n",
      " auc:0.760440705839124 \n",
      " apur:0.6689411277649768 \n",
      " f1:0.6119856693084356 \n",
      " precision:0.5644902864009613 \n",
      " recall:0.6682076813655761 \n",
      "}\n",
      "=====Epoch 10\n",
      "Training...\n"
     ]
    },
    {
     "name": "stderr",
     "output_type": "stream",
     "text": [
      "\r",
      "Iteration:  92%|█████████▏| 141/154 [00:01<00:00, 124.22it/s]\r",
      "Iteration:   3%|▎         | 5/154 [00:00<00:03, 49.35it/s]\r",
      "Iteration:  13%|█▎        | 20/154 [00:00<00:03, 36.26it/s]\r",
      "Iteration:  90%|████████▉ | 138/154 [00:03<00:00, 45.53it/s]\r",
      "Iteration: 100%|██████████| 154/154 [00:01<00:00, 125.46it/s]\r",
      "Iteration: 100%|██████████| 154/154 [00:01<00:00, 102.32it/s]\n",
      "\r",
      "Iteration:   6%|▋         | 10/154 [00:00<00:03, 47.22it/s]\r",
      "Iteration:  99%|█████████▉| 153/154 [00:03<00:00, 38.62it/s]\r",
      "Iteration: 100%|██████████| 154/154 [00:03<00:00, 39.60it/s]\n",
      "\r",
      "Iteration:   0%|          | 0/154 [00:00<?, ?it/s]\r",
      "Iteration:  16%|█▌        | 25/154 [00:00<00:03, 38.45it/s]\r",
      "Iteration:  93%|█████████▎| 143/154 [00:03<00:00, 45.47it/s]"
     ]
    },
    {
     "name": "stdout",
     "output_type": "stream",
     "text": [
      "Evaluating...\n"
     ]
    },
    {
     "name": "stderr",
     "output_type": "stream",
     "text": [
      "\r",
      "Iteration:  10%|▉         | 15/154 [00:00<00:02, 46.55it/s]\r",
      "Iteration:   5%|▍         | 7/154 [00:00<00:02, 66.83it/s]\r",
      "Iteration:  96%|█████████▌| 148/154 [00:03<00:00, 45.55it/s]\r",
      "Iteration:  19%|█▉        | 29/154 [00:00<00:03, 36.31it/s]\r",
      "Iteration:  13%|█▎        | 20/154 [00:00<00:02, 46.20it/s]\r",
      "Iteration:   9%|▉         | 14/154 [00:00<00:02, 64.68it/s]\r",
      "Iteration:  99%|█████████▉| 153/154 [00:03<00:00, 45.53it/s]\r",
      "Iteration:  21%|██▏       | 33/154 [00:00<00:03, 36.14it/s]\r",
      "Iteration: 100%|██████████| 154/154 [00:03<00:00, 43.53it/s]\n",
      "\r",
      "Iteration:   0%|          | 0/154 [00:00<?, ?it/s]"
     ]
    },
    {
     "name": "stdout",
     "output_type": "stream",
     "text": [
      "Evaluating...\n"
     ]
    },
    {
     "name": "stderr",
     "output_type": "stream",
     "text": [
      "\r",
      "Iteration:  16%|█▌        | 25/154 [00:00<00:02, 46.02it/s]\r",
      "Iteration:  14%|█▍        | 22/154 [00:00<00:01, 68.67it/s]\r",
      "Iteration:   7%|▋         | 11/154 [00:00<00:01, 109.01it/s]\r",
      "Iteration:  24%|██▍       | 37/154 [00:00<00:03, 36.39it/s]\r",
      "Iteration:  19%|█▉        | 30/154 [00:00<00:02, 45.98it/s]\r",
      "Iteration:  20%|██        | 31/154 [00:00<00:01, 73.35it/s]\r",
      "Iteration:   0%|          | 0/154 [00:00<?, ?it/s]\r",
      "Iteration:  16%|█▌        | 24/154 [00:00<00:01, 119.69it/s]\r",
      "Iteration:  27%|██▋       | 41/154 [00:01<00:03, 36.42it/s]"
     ]
    },
    {
     "name": "stdout",
     "output_type": "stream",
     "text": [
      "{'Train':  best_epoch_indx:8\n",
      " auc:0.7550933784764766 \n",
      " apur:0.6652613761954886 \n",
      " f1:0.6039489605103949 \n",
      " precision:0.5633304263068794 \n",
      " recall:0.6508802086420484 \n",
      ", 'Validation':  best_epoch_indx:8\n",
      " auc:0.7550933784764766 \n",
      " apur:0.6652613761954886 \n",
      " f1:0.6039489605103949 \n",
      " precision:0.5633304263068794 \n",
      " recall:0.6508802086420484 \n",
      ", 'Test':  best_epoch_indx:8\n",
      " auc:0.7550933784764766 \n",
      " apur:0.6652613761954886 \n",
      " f1:0.6039489605103949 \n",
      " precision:0.5633304263068794 \n",
      " recall:0.6508802086420484 \n",
      "}\n",
      "=====Epoch 9\n",
      "Training...\n"
     ]
    },
    {
     "name": "stderr",
     "output_type": "stream",
     "text": [
      "Iteration: 100%|██████████| 154/154 [00:01<00:00, 108.04it/s]\n",
      "Iteration: 100%|██████████| 154/154 [00:01<00:00, 125.31it/s]\n",
      "Iteration: 100%|██████████| 154/154 [00:03<00:00, 45.87it/s]]\n",
      "Iteration: 100%|██████████| 154/154 [00:03<00:00, 39.92it/s]]\n",
      "\n",
      "Iteration:   0%|          | 0/154 [00:00<?, ?it/s]"
     ]
    },
    {
     "name": "stdout",
     "output_type": "stream",
     "text": [
      "Evaluating...\n",
      "Evaluating...\n"
     ]
    },
    {
     "name": "stderr",
     "output_type": "stream",
     "text": [
      "Iteration: 100%|██████████| 154/154 [00:01<00:00, 88.18it/s] \n",
      "Iteration: 100%|██████████| 154/154 [00:03<00:00, 39.69it/s]]\n",
      "Iteration: 100%|██████████| 154/154 [00:01<00:00, 125.60it/s]\n",
      "Iteration:  58%|█████▊    | 90/154 [00:01<00:00, 73.27it/s]]"
     ]
    },
    {
     "name": "stdout",
     "output_type": "stream",
     "text": [
      "Evaluating...\n"
     ]
    },
    {
     "name": "stderr",
     "output_type": "stream",
     "text": [
      "Iteration: 100%|██████████| 154/154 [00:01<00:00, 107.16it/s]\n",
      "Iteration: 100%|██████████| 154/154 [00:02<00:00, 70.72it/s]]\n",
      "Iteration: 100%|██████████| 154/154 [00:01<00:00, 126.47it/s]\n",
      "Iteration:  63%|██████▎   | 97/154 [00:01<00:00, 72.76it/s]s]"
     ]
    },
    {
     "name": "stdout",
     "output_type": "stream",
     "text": [
      "{'Train':  best_epoch_indx:10\n",
      " auc:0.7615744095524629 \n",
      " apur:0.6702365182081971 \n",
      " f1:0.6107771633138307 \n",
      " precision:0.5560095335376234 \n",
      " recall:0.6775130393551446 \n",
      ", 'Validation':  best_epoch_indx:10\n",
      " auc:0.7615744095524629 \n",
      " apur:0.6702365182081971 \n",
      " f1:0.6107771633138307 \n",
      " precision:0.5560095335376234 \n",
      " recall:0.6775130393551446 \n",
      ", 'Test':  best_epoch_indx:10\n",
      " auc:0.7615744095524629 \n",
      " apur:0.6702365182081971 \n",
      " f1:0.6107771633138307 \n",
      " precision:0.5560095335376234 \n",
      " recall:0.6775130393551446 \n",
      "}\n",
      "=====Epoch 11\n",
      "Training...\n"
     ]
    },
    {
     "name": "stderr",
     "output_type": "stream",
     "text": [
      "Iteration: 100%|██████████| 154/154 [00:01<00:00, 118.79it/s]\n",
      "Iteration: 100%|██████████| 154/154 [00:01<00:00, 78.81it/s]\n",
      "Iteration:   3%|▎         | 5/154 [00:00<00:03, 39.43it/s]]]"
     ]
    },
    {
     "name": "stdout",
     "output_type": "stream",
     "text": [
      "{'Train':  best_epoch_indx:9\n",
      " auc:0.7639061662076778 \n",
      " apur:0.6750688193386036 \n",
      " f1:0.6147337391161939 \n",
      " precision:0.5697156733785288 \n",
      " recall:0.6674767352261277 \n",
      ", 'Validation':  best_epoch_indx:9\n",
      " auc:0.7639061662076778 \n",
      " apur:0.6750688193386036 \n",
      " f1:0.6147337391161939 \n",
      " precision:0.5697156733785288 \n",
      " recall:0.6674767352261277 \n",
      ", 'Test':  best_epoch_indx:9\n",
      " auc:0.7639061662076778 \n",
      " apur:0.6750688193386036 \n",
      " f1:0.6147337391161939 \n",
      " precision:0.5697156733785288 \n",
      " recall:0.6674767352261277 \n",
      "}\n",
      "=====Epoch 10\n",
      "Training...\n"
     ]
    },
    {
     "name": "stderr",
     "output_type": "stream",
     "text": [
      "Iteration: 100%|██████████| 154/154 [00:01<00:00, 113.81it/s]\n",
      "Iteration: 100%|██████████| 154/154 [00:01<00:00, 109.39it/s]\n",
      "Iteration: 100%|██████████| 154/154 [00:01<00:00, 92.58it/s] \n",
      "Iteration:  56%|█████▋    | 87/154 [00:02<00:01, 37.09it/s]]"
     ]
    },
    {
     "name": "stdout",
     "output_type": "stream",
     "text": [
      "{'Train':  best_epoch_indx:10\n",
      " auc:0.7610644998156626 \n",
      " apur:0.6695289129819191 \n",
      " f1:0.6210687022900764 \n",
      " precision:0.5441412520064205 \n",
      " recall:0.7233285917496444 \n",
      ", 'Validation':  best_epoch_indx:10\n",
      " auc:0.7610644998156626 \n",
      " apur:0.6695289129819191 \n",
      " f1:0.6210687022900764 \n",
      " precision:0.5441412520064205 \n",
      " recall:0.7233285917496444 \n",
      ", 'Test':  best_epoch_indx:10\n",
      " auc:0.7610644998156626 \n",
      " apur:0.6695289129819191 \n",
      " f1:0.6210687022900764 \n",
      " precision:0.5441412520064205 \n",
      " recall:0.7233285917496444 \n",
      "}\n",
      "=====Epoch 11\n",
      "Training...\n"
     ]
    },
    {
     "name": "stderr",
     "output_type": "stream",
     "text": [
      "Iteration: 100%|██████████| 154/154 [00:03<00:00, 43.24it/s]]\n",
      "Iteration:  10%|▉         | 15/154 [00:00<00:03, 37.66it/s]s]"
     ]
    },
    {
     "name": "stdout",
     "output_type": "stream",
     "text": [
      "Evaluating...\n"
     ]
    },
    {
     "name": "stderr",
     "output_type": "stream",
     "text": [
      "Iteration: 100%|██████████| 154/154 [00:01<00:00, 121.46it/s]\n",
      "Iteration: 100%|██████████| 154/154 [00:01<00:00, 92.57it/s] \n",
      "Iteration:  82%|████████▏ | 126/154 [00:03<00:00, 37.62it/s]"
     ]
    },
    {
     "name": "stdout",
     "output_type": "stream",
     "text": [
      "{'Train':  best_epoch_indx:10\n",
      " auc:0.7673272285215649 \n",
      " apur:0.6782983768131203 \n",
      " f1:0.6210239480165592 \n",
      " precision:0.5565156139938953 \n",
      " recall:0.7024479876711517 \n",
      ", 'Validation':  best_epoch_indx:10\n",
      " auc:0.7673272285215649 \n",
      " apur:0.6782983768131203 \n",
      " f1:0.6210239480165592 \n",
      " precision:0.5565156139938953 \n",
      " recall:0.7024479876711517 \n",
      ", 'Test':  best_epoch_indx:10\n",
      " auc:0.7673272285215649 \n",
      " apur:0.6782983768131203 \n",
      " f1:0.6210239480165592 \n",
      " precision:0.5565156139938953 \n",
      " recall:0.7024479876711517 \n",
      "}\n",
      "=====Epoch 11\n",
      "Training...\n"
     ]
    },
    {
     "name": "stderr",
     "output_type": "stream",
     "text": [
      "Iteration: 100%|██████████| 154/154 [00:01<00:00, 126.49it/s]\n",
      "Iteration:  95%|█████████▍| 146/154 [00:03<00:00, 43.51it/s]"
     ]
    },
    {
     "name": "stdout",
     "output_type": "stream",
     "text": [
      "{'Train':  best_epoch_indx:9\n",
      " auc:0.7622910843112234 \n",
      " apur:0.6726566929234313 \n",
      " f1:0.6126652898103694 \n",
      " precision:0.5595238095238095 \n",
      " recall:0.6769604647027444 \n",
      ", 'Validation':  best_epoch_indx:9\n",
      " auc:0.7622910843112234 \n",
      " apur:0.6726566929234313 \n",
      " f1:0.6126652898103694 \n",
      " precision:0.5595238095238095 \n",
      " recall:0.6769604647027444 \n",
      ", 'Test':  best_epoch_indx:9\n",
      " auc:0.7622910843112234 \n",
      " apur:0.6726566929234313 \n",
      " f1:0.6126652898103694 \n",
      " precision:0.5595238095238095 \n",
      " recall:0.6769604647027444 \n",
      "}\n",
      "=====Epoch 10\n",
      "Training...\n"
     ]
    },
    {
     "name": "stderr",
     "output_type": "stream",
     "text": [
      "\r",
      "Iteration:   8%|▊         | 12/154 [00:00<00:02, 47.44it/s]\r",
      "Iteration:  12%|█▏        | 19/154 [00:00<00:03, 36.68it/s]\r",
      "Iteration:  36%|███▋      | 56/154 [00:01<00:03, 31.62it/s]\r",
      "Iteration:  98%|█████████▊| 151/154 [00:03<00:00, 44.08it/s]\r",
      "Iteration: 100%|██████████| 154/154 [00:03<00:00, 38.66it/s]\n",
      "\r",
      "Iteration:   0%|          | 0/154 [00:00<?, ?it/s]\r",
      "Iteration:  11%|█         | 17/154 [00:00<00:02, 46.60it/s]\r",
      "Iteration:  15%|█▍        | 23/154 [00:00<00:03, 37.36it/s]\r",
      "Iteration:  39%|███▉      | 60/154 [00:01<00:02, 32.81it/s]"
     ]
    },
    {
     "name": "stdout",
     "output_type": "stream",
     "text": [
      "Evaluating...\n"
     ]
    },
    {
     "name": "stderr",
     "output_type": "stream",
     "text": [
      "Iteration: 100%|██████████| 154/154 [00:01<00:00, 124.67it/s]\n",
      "Iteration: 100%|██████████| 154/154 [00:01<00:00, 126.35it/s]\n",
      "Iteration: 100%|██████████| 154/154 [00:03<00:00, 38.85it/s]\n",
      "Iteration:   0%|          | 0/154 [00:00<?, ?it/s]"
     ]
    },
    {
     "name": "stdout",
     "output_type": "stream",
     "text": [
      "Evaluating...\n"
     ]
    },
    {
     "name": "stderr",
     "output_type": "stream",
     "text": [
      "Iteration: 100%|██████████| 154/154 [00:03<00:00, 45.68it/s] \n",
      "Iteration:   7%|▋         | 11/154 [00:00<00:01, 107.98it/s]]"
     ]
    },
    {
     "name": "stdout",
     "output_type": "stream",
     "text": [
      "Evaluating...\n"
     ]
    },
    {
     "name": "stderr",
     "output_type": "stream",
     "text": [
      "Iteration: 100%|██████████| 154/154 [00:01<00:00, 104.66it/s]\n",
      "Iteration: 100%|██████████| 154/154 [00:04<00:00, 37.81it/s]]\n",
      "Iteration: 100%|██████████| 154/154 [00:01<00:00, 124.94it/s]\n",
      "Iteration:   4%|▍         | 6/154 [00:00<00:02, 58.06it/s]] "
     ]
    },
    {
     "name": "stdout",
     "output_type": "stream",
     "text": [
      "Evaluating...\n"
     ]
    },
    {
     "name": "stderr",
     "output_type": "stream",
     "text": [
      "Iteration: 100%|██████████| 154/154 [00:01<00:00, 88.95it/s] \n",
      "Iteration:  34%|███▍      | 53/154 [00:00<00:01, 71.24it/s]]]"
     ]
    },
    {
     "name": "stdout",
     "output_type": "stream",
     "text": [
      "{'Train':  best_epoch_indx:11\n",
      " auc:0.7570250259939352 \n",
      " apur:0.666209746297822 \n",
      " f1:0.6020346104937248 \n",
      " precision:0.5641384312506476 \n",
      " recall:0.645388809862494 \n",
      ", 'Validation':  best_epoch_indx:11\n",
      " auc:0.7570250259939352 \n",
      " apur:0.666209746297822 \n",
      " f1:0.6020346104937248 \n",
      " precision:0.5641384312506476 \n",
      " recall:0.645388809862494 \n",
      ", 'Test':  best_epoch_indx:11\n",
      " auc:0.7570250259939352 \n",
      " apur:0.666209746297822 \n",
      " f1:0.6020346104937248 \n",
      " precision:0.5641384312506476 \n",
      " recall:0.645388809862494 \n",
      "}\n",
      "=====Epoch 12\n",
      "Training...\n"
     ]
    },
    {
     "name": "stderr",
     "output_type": "stream",
     "text": [
      "Iteration: 100%|██████████| 154/154 [00:01<00:00, 112.77it/s]\n",
      "Iteration: 100%|██████████| 154/154 [00:01<00:00, 77.88it/s]]\n",
      "Iteration: 100%|██████████| 154/154 [00:01<00:00, 126.97it/s]\n",
      "Iteration: 100%|██████████| 154/154 [00:01<00:00, 82.98it/s] \n",
      "Iteration:  53%|█████▎    | 82/154 [00:01<00:01, 45.74it/s]]"
     ]
    },
    {
     "name": "stdout",
     "output_type": "stream",
     "text": [
      "{'Train':  best_epoch_indx:10\n",
      " auc:0.7632641856490928 \n",
      " apur:0.6763172183958808 \n",
      " f1:0.6132137330500694 \n",
      " precision:0.5499623635679337 \n",
      " recall:0.6929049848853062 \n",
      ", 'Validation':  best_epoch_indx:10\n",
      " auc:0.7632641856490928 \n",
      " apur:0.6763172183958808 \n",
      " f1:0.6132137330500694 \n",
      " precision:0.5499623635679337 \n",
      " recall:0.6929049848853062 \n",
      ", 'Test':  best_epoch_indx:10\n",
      " auc:0.7632641856490928 \n",
      " apur:0.6763172183958808 \n",
      " f1:0.6132137330500694 \n",
      " precision:0.5499623635679337 \n",
      " recall:0.6929049848853062 \n",
      "}\n",
      "=====Epoch 11\n",
      "Training...\n"
     ]
    },
    {
     "name": "stderr",
     "output_type": "stream",
     "text": [
      "Iteration: 100%|██████████| 154/154 [00:01<00:00, 107.22it/s]\n",
      "Iteration: 100%|██████████| 154/154 [00:01<00:00, 102.68it/s]\n",
      "Iteration: 100%|██████████| 154/154 [00:01<00:00, 119.19it/s]\n",
      "Iteration:  34%|███▍      | 52/154 [00:00<00:01, 95.04it/s] "
     ]
    },
    {
     "name": "stdout",
     "output_type": "stream",
     "text": [
      "{'Train':  best_epoch_indx:11\n",
      " auc:0.7578075519184647 \n",
      " apur:0.6668041015679289 \n",
      " f1:0.6151465125877011 \n",
      " precision:0.5445743514797223 \n",
      " recall:0.706733048838312 \n",
      ", 'Validation':  best_epoch_indx:11\n",
      " auc:0.7578075519184647 \n",
      " apur:0.6668041015679289 \n",
      " f1:0.6151465125877011 \n",
      " precision:0.5445743514797223 \n",
      " recall:0.706733048838312 \n",
      ", 'Test':  best_epoch_indx:11\n",
      " auc:0.7578075519184647 \n",
      " apur:0.6668041015679289 \n",
      " f1:0.6151465125877011 \n",
      " precision:0.5445743514797223 \n",
      " recall:0.706733048838312 \n",
      "}\n",
      "=====Epoch 12\n",
      "Training...\n"
     ]
    },
    {
     "name": "stderr",
     "output_type": "stream",
     "text": [
      "\r",
      "Iteration:   4%|▍         | 6/154 [00:00<00:02, 50.93it/s]\r",
      "Iteration:  42%|████▏     | 65/154 [00:01<00:02, 37.10it/s]\r",
      "Iteration:  42%|████▏     | 65/154 [00:00<00:00, 103.71it/s]\r",
      "Iteration:  99%|█████████▊| 152/154 [00:03<00:00, 38.94it/s]\r",
      "Iteration: 100%|██████████| 154/154 [00:03<00:00, 44.07it/s]\n",
      "\r",
      "Iteration:   0%|          | 0/154 [00:00<?, ?it/s]\r",
      "Iteration:   8%|▊         | 12/154 [00:00<00:02, 47.80it/s]\r",
      "Iteration:  51%|█████     | 78/154 [00:00<00:00, 109.59it/s]\r",
      "Iteration:  45%|████▌     | 70/154 [00:01<00:02, 37.96it/s]\r",
      "Iteration:   0%|          | 0/154 [00:00<?, ?it/s]\r",
      "Iteration:   5%|▌         | 8/154 [00:00<00:01, 79.58it/s]"
     ]
    },
    {
     "name": "stdout",
     "output_type": "stream",
     "text": [
      "Evaluating...\n"
     ]
    },
    {
     "name": "stderr",
     "output_type": "stream",
     "text": [
      "Iteration: 100%|██████████| 154/154 [00:01<00:00, 116.66it/s]\n",
      "Iteration:   0%|          | 0/154 [00:00<?, ?it/s]6.07it/s]s]"
     ]
    },
    {
     "name": "stdout",
     "output_type": "stream",
     "text": [
      "{'Train':  best_epoch_indx:11\n",
      " auc:0.7627698949080729 \n",
      " apur:0.6711424334034819 \n",
      " f1:0.6172742509951812 \n",
      " precision:0.5529489044245296 \n",
      " recall:0.6985359492620473 \n",
      ", 'Validation':  best_epoch_indx:11\n",
      " auc:0.7627698949080729 \n",
      " apur:0.6711424334034819 \n",
      " f1:0.6172742509951812 \n",
      " precision:0.5529489044245296 \n",
      " recall:0.6985359492620473 \n",
      ", 'Test':  best_epoch_indx:11\n",
      " auc:0.7627698949080729 \n",
      " apur:0.6711424334034819 \n",
      " f1:0.6172742509951812 \n",
      " precision:0.5529489044245296 \n",
      " recall:0.6985359492620473 \n",
      "}\n",
      "=====Epoch 12\n",
      "Training...\n"
     ]
    },
    {
     "name": "stderr",
     "output_type": "stream",
     "text": [
      "Iteration: 100%|██████████| 154/154 [00:01<00:00, 123.43it/s]\n",
      "Iteration: 100%|██████████| 154/154 [00:01<00:00, 126.89it/s]\n",
      "Iteration:   6%|▋         | 10/154 [00:00<00:01, 97.80it/s]]"
     ]
    },
    {
     "name": "stdout",
     "output_type": "stream",
     "text": [
      "{'Train':  best_epoch_indx:10\n",
      " auc:0.7657606053715394 \n",
      " apur:0.677713423286479 \n",
      " f1:0.6131672499793314 \n",
      " precision:0.5729810465595385 \n",
      " recall:0.6594155651710035 \n",
      ", 'Validation':  best_epoch_indx:10\n",
      " auc:0.7657606053715394 \n",
      " apur:0.677713423286479 \n",
      " f1:0.6131672499793314 \n",
      " precision:0.5729810465595385 \n",
      " recall:0.6594155651710035 \n",
      ", 'Test':  best_epoch_indx:10\n",
      " auc:0.7657606053715394 \n",
      " apur:0.677713423286479 \n",
      " f1:0.6131672499793314 \n",
      " precision:0.5729810465595385 \n",
      " recall:0.6594155651710035 \n",
      "}\n",
      "=====Epoch 11\n",
      "Training...\n"
     ]
    },
    {
     "name": "stderr",
     "output_type": "stream",
     "text": [
      "Iteration: 100%|██████████| 154/154 [00:04<00:00, 36.48it/s]\n",
      "Iteration:  32%|███▏      | 50/154 [00:01<00:02, 36.70it/s]]"
     ]
    },
    {
     "name": "stdout",
     "output_type": "stream",
     "text": [
      "Evaluating...\n"
     ]
    },
    {
     "name": "stderr",
     "output_type": "stream",
     "text": [
      "Iteration: 100%|██████████| 154/154 [00:01<00:00, 125.80it/s]\n",
      "Iteration: 100%|██████████| 154/154 [00:03<00:00, 42.46it/s]]\n",
      "Iteration: 100%|██████████| 154/154 [00:01<00:00, 127.75it/s]\n"
     ]
    },
    {
     "name": "stdout",
     "output_type": "stream",
     "text": [
      "Evaluating...\n"
     ]
    },
    {
     "name": "stderr",
     "output_type": "stream",
     "text": [
      "Iteration: 100%|██████████| 154/154 [00:01<00:00, 123.69it/s]\n",
      "Iteration: 100%|██████████| 154/154 [00:01<00:00, 115.79it/s]\n",
      "Iteration: 100%|██████████| 154/154 [00:01<00:00, 127.83it/s]\n",
      "Iteration: 100%|██████████| 154/154 [00:04<00:00, 36.16it/s]\n",
      "Iteration:  25%|██▌       | 39/154 [00:00<00:00, 126.49it/s]"
     ]
    },
    {
     "name": "stdout",
     "output_type": "stream",
     "text": [
      "Evaluating...\n",
      "{'Train':  best_epoch_indx:12\n",
      " auc:0.760136803539045 \n",
      " apur:0.6664453965140307 \n",
      " f1:0.6137690223056076 \n",
      " precision:0.5476655505952381 \n",
      " recall:0.6980203888098625 \n",
      ", 'Validation':  best_epoch_indx:12\n",
      " auc:0.760136803539045 \n",
      " apur:0.6664453965140307 \n",
      " f1:0.6137690223056076 \n",
      " precision:0.5476655505952381 \n",
      " recall:0.6980203888098625 \n",
      ", 'Test':  best_epoch_indx:12\n",
      " auc:0.760136803539045 \n",
      " apur:0.6664453965140307 \n",
      " f1:0.6137690223056076 \n",
      " precision:0.5476655505952381 \n",
      " recall:0.6980203888098625 \n",
      "}\n",
      "=====Epoch 13\n",
      "Training...\n"
     ]
    },
    {
     "name": "stderr",
     "output_type": "stream",
     "text": [
      "Iteration: 100%|██████████| 154/154 [00:04<00:00, 37.31it/s]\n",
      "Iteration:  76%|███████▌  | 117/154 [00:00<00:00, 125.93it/s]"
     ]
    },
    {
     "name": "stdout",
     "output_type": "stream",
     "text": [
      "Evaluating...\n"
     ]
    },
    {
     "name": "stderr",
     "output_type": "stream",
     "text": [
      "Iteration: 100%|██████████| 154/154 [00:01<00:00, 126.04it/s]\n",
      "Iteration: 100%|██████████| 154/154 [00:01<00:00, 116.90it/s]\n",
      "Iteration: 100%|██████████| 154/154 [00:01<00:00, 125.60it/s]\n",
      "Iteration: 100%|██████████| 154/154 [00:01<00:00, 90.78it/s] \n",
      "Iteration:  23%|██▎       | 36/154 [00:00<00:01, 69.91it/s]s]"
     ]
    },
    {
     "name": "stdout",
     "output_type": "stream",
     "text": [
      "{'Train':  best_epoch_indx:11\n",
      " auc:0.7585352033352885 \n",
      " apur:0.669590548931702 \n",
      " f1:0.6085863986313088 \n",
      " precision:0.5542679067049715 \n",
      " recall:0.6747080789520479 \n",
      ", 'Validation':  best_epoch_indx:11\n",
      " auc:0.7585352033352885 \n",
      " apur:0.669590548931702 \n",
      " f1:0.6085863986313088 \n",
      " precision:0.5542679067049715 \n",
      " recall:0.6747080789520479 \n",
      ", 'Test':  best_epoch_indx:11\n",
      " auc:0.7585352033352885 \n",
      " apur:0.669590548931702 \n",
      " f1:0.6085863986313088 \n",
      " precision:0.5542679067049715 \n",
      " recall:0.6747080789520479 \n",
      "}\n",
      "=====Epoch 12\n",
      "Training...\n"
     ]
    },
    {
     "name": "stderr",
     "output_type": "stream",
     "text": [
      "Iteration: 100%|██████████| 154/154 [00:01<00:00, 125.98it/s]\n",
      "Iteration: 100%|██████████| 154/154 [00:01<00:00, 101.53it/s]\n",
      "Iteration:   0%|          | 0/154 [00:00<?, ?it/s]22.25it/s]"
     ]
    },
    {
     "name": "stdout",
     "output_type": "stream",
     "text": [
      "{'Train':  best_epoch_indx:12\n",
      " auc:0.7604699504317806 \n",
      " apur:0.669967359062686 \n",
      " f1:0.6172686405208495 \n",
      " precision:0.5471283319593295 \n",
      " recall:0.7080369843527738 \n",
      ", 'Validation':  best_epoch_indx:12\n",
      " auc:0.7604699504317806 \n",
      " apur:0.669967359062686 \n",
      " f1:0.6172686405208495 \n",
      " precision:0.5471283319593295 \n",
      " recall:0.7080369843527738 \n",
      ", 'Test':  best_epoch_indx:12\n",
      " auc:0.7604699504317806 \n",
      " apur:0.669967359062686 \n",
      " f1:0.6172686405208495 \n",
      " precision:0.5471283319593295 \n",
      " recall:0.7080369843527738 \n",
      "}\n",
      "=====Epoch 13\n",
      "Training...\n"
     ]
    },
    {
     "name": "stderr",
     "output_type": "stream",
     "text": [
      "Iteration: 100%|██████████| 154/154 [00:01<00:00, 87.02it/s] \n",
      "Iteration: 100%|██████████| 154/154 [00:04<00:00, 37.40it/s]\n",
      "Iteration:   0%|          | 0/154 [00:00<?, ?it/s]"
     ]
    },
    {
     "name": "stdout",
     "output_type": "stream",
     "text": [
      "Evaluating...\n"
     ]
    },
    {
     "name": "stderr",
     "output_type": "stream",
     "text": [
      "Iteration: 100%|██████████| 154/154 [00:01<00:00, 117.78it/s]\n",
      "Iteration:   0%|          | 0/154 [00:00<?, ?it/s]6.49it/s] ]"
     ]
    },
    {
     "name": "stdout",
     "output_type": "stream",
     "text": [
      "{'Train':  best_epoch_indx:12\n",
      " auc:0.759699388239951 \n",
      " apur:0.6684146551935052 \n",
      " f1:0.6091689579709331 \n",
      " precision:0.5783389270683501 \n",
      " recall:0.6434710449884417 \n",
      ", 'Validation':  best_epoch_indx:12\n",
      " auc:0.759699388239951 \n",
      " apur:0.6684146551935052 \n",
      " f1:0.6091689579709331 \n",
      " precision:0.5783389270683501 \n",
      " recall:0.6434710449884417 \n",
      ", 'Test':  best_epoch_indx:12\n",
      " auc:0.759699388239951 \n",
      " apur:0.6684146551935052 \n",
      " f1:0.6091689579709331 \n",
      " precision:0.5783389270683501 \n",
      " recall:0.6434710449884417 \n",
      "}\n",
      "=====Epoch 13\n",
      "Training...\n"
     ]
    },
    {
     "name": "stderr",
     "output_type": "stream",
     "text": [
      "Iteration: 100%|██████████| 154/154 [00:01<00:00, 116.08it/s]\n",
      "Iteration: 100%|██████████| 154/154 [00:01<00:00, 106.87it/s]\n",
      "Iteration: 100%|██████████| 154/154 [00:03<00:00, 41.94it/s]\n",
      "Iteration:  14%|█▎        | 21/154 [00:00<00:02, 64.96it/s]"
     ]
    },
    {
     "name": "stdout",
     "output_type": "stream",
     "text": [
      "Evaluating...\n"
     ]
    },
    {
     "name": "stderr",
     "output_type": "stream",
     "text": [
      "Iteration:  34%|███▍      | 53/154 [00:00<00:01, 73.99it/s]]"
     ]
    },
    {
     "name": "stdout",
     "output_type": "stream",
     "text": [
      "{'Train':  best_epoch_indx:11\n",
      " auc:0.7609879067423049 \n",
      " apur:0.6710546386337353 \n",
      " f1:0.6111561537214204 \n",
      " precision:0.5616710545924196 \n",
      " recall:0.6702033074506549 \n",
      ", 'Validation':  best_epoch_indx:11\n",
      " auc:0.7609879067423049 \n",
      " apur:0.6710546386337353 \n",
      " f1:0.6111561537214204 \n",
      " precision:0.5616710545924196 \n",
      " recall:0.6702033074506549 \n",
      ", 'Test':  best_epoch_indx:11\n",
      " auc:0.7609879067423049 \n",
      " apur:0.6710546386337353 \n",
      " f1:0.6111561537214204 \n",
      " precision:0.5616710545924196 \n",
      " recall:0.6702033074506549 \n",
      "}\n",
      "=====Epoch 12\n",
      "Training...\n"
     ]
    },
    {
     "name": "stderr",
     "output_type": "stream",
     "text": [
      "Iteration: 100%|██████████| 154/154 [00:03<00:00, 42.74it/s]]\n",
      "Iteration:  47%|████▋     | 73/154 [00:01<00:02, 34.05it/s]s]"
     ]
    },
    {
     "name": "stdout",
     "output_type": "stream",
     "text": [
      "Evaluating...\n"
     ]
    },
    {
     "name": "stderr",
     "output_type": "stream",
     "text": [
      "Iteration: 100%|██████████| 154/154 [00:01<00:00, 127.43it/s]\n",
      "Iteration: 100%|██████████| 154/154 [00:01<00:00, 100.12it/s]\n",
      "Iteration: 100%|██████████| 154/154 [00:01<00:00, 116.32it/s]\n",
      "Iteration: 100%|██████████| 154/154 [00:01<00:00, 126.48it/s]\n",
      "Iteration: 100%|██████████| 154/154 [00:01<00:00, 126.47it/s]\n",
      "Iteration: 100%|██████████| 154/154 [00:04<00:00, 36.69it/s]\n",
      "Iteration:   0%|          | 0/154 [00:00<?, ?it/s]"
     ]
    },
    {
     "name": "stdout",
     "output_type": "stream",
     "text": [
      "Evaluating...\n"
     ]
    },
    {
     "name": "stderr",
     "output_type": "stream",
     "text": [
      "Iteration:  81%|████████  | 124/154 [00:03<00:00, 42.89it/s]"
     ]
    },
    {
     "name": "stdout",
     "output_type": "stream",
     "text": [
      "{'Train':  best_epoch_indx:13\n",
      " auc:0.7636855724697063 \n",
      " apur:0.6739085041279258 \n",
      " f1:0.6071408103616254 \n",
      " precision:0.5877066459558415 \n",
      " recall:0.6279042200094832 \n",
      ", 'Validation':  best_epoch_indx:13\n",
      " auc:0.7636855724697063 \n",
      " apur:0.6739085041279258 \n",
      " f1:0.6071408103616254 \n",
      " precision:0.5877066459558415 \n",
      " recall:0.6279042200094832 \n",
      ", 'Test':  best_epoch_indx:13\n",
      " auc:0.7636855724697063 \n",
      " apur:0.6739085041279258 \n",
      " f1:0.6071408103616254 \n",
      " precision:0.5877066459558415 \n",
      " recall:0.6279042200094832 \n",
      "}\n",
      "=====Epoch 14\n",
      "Training...\n"
     ]
    },
    {
     "name": "stderr",
     "output_type": "stream",
     "text": [
      "Iteration: 100%|██████████| 154/154 [00:01<00:00, 120.94it/s]\n",
      "Iteration: 100%|██████████| 154/154 [00:04<00:00, 37.67it/s]]\n",
      "Iteration:  25%|██▍       | 38/154 [00:00<00:02, 40.08it/s]]]"
     ]
    },
    {
     "name": "stdout",
     "output_type": "stream",
     "text": [
      "Evaluating...\n"
     ]
    },
    {
     "name": "stderr",
     "output_type": "stream",
     "text": [
      "Iteration: 100%|██████████| 154/154 [00:01<00:00, 106.30it/s]\n",
      "Iteration: 100%|██████████| 154/154 [00:01<00:00, 90.58it/s] \n",
      "Iteration: 100%|██████████| 154/154 [00:01<00:00, 125.48it/s]\n",
      "Iteration:   3%|▎         | 5/154 [00:00<00:03, 45.03it/s]]]"
     ]
    },
    {
     "name": "stdout",
     "output_type": "stream",
     "text": [
      "{'Train':  best_epoch_indx:12\n",
      " auc:0.7628645392698252 \n",
      " apur:0.6738736575708282 \n",
      " f1:0.6153887776635464 \n",
      " precision:0.5660743616544721 \n",
      " recall:0.6741153458597593 \n",
      ", 'Validation':  best_epoch_indx:12\n",
      " auc:0.7628645392698252 \n",
      " apur:0.6738736575708282 \n",
      " f1:0.6153887776635464 \n",
      " precision:0.5660743616544721 \n",
      " recall:0.6741153458597593 \n",
      ", 'Test':  best_epoch_indx:12\n",
      " auc:0.7628645392698252 \n",
      " apur:0.6738736575708282 \n",
      " f1:0.6153887776635464 \n",
      " precision:0.5660743616544721 \n",
      " recall:0.6741153458597593 \n",
      "}\n",
      "=====Epoch 13\n",
      "Training...\n"
     ]
    },
    {
     "name": "stderr",
     "output_type": "stream",
     "text": [
      "Iteration: 100%|██████████| 154/154 [00:01<00:00, 125.69it/s]\n",
      "Iteration: 100%|██████████| 154/154 [00:01<00:00, 93.39it/s] \n",
      "Iteration:  94%|█████████▎| 144/154 [00:01<00:00, 128.09it/s]"
     ]
    },
    {
     "name": "stdout",
     "output_type": "stream",
     "text": [
      "{'Train':  best_epoch_indx:13\n",
      " auc:0.7543349845557166 \n",
      " apur:0.6580061616751407 \n",
      " f1:0.6021969399764614 \n",
      " precision:0.5711172531093867 \n",
      " recall:0.6368539592223803 \n",
      ", 'Validation':  best_epoch_indx:13\n",
      " auc:0.7543349845557166 \n",
      " apur:0.6580061616751407 \n",
      " f1:0.6021969399764614 \n",
      " precision:0.5711172531093867 \n",
      " recall:0.6368539592223803 \n",
      ", 'Test':  best_epoch_indx:13\n",
      " auc:0.7543349845557166 \n",
      " apur:0.6580061616751407 \n",
      " f1:0.6021969399764614 \n",
      " precision:0.5711172531093867 \n",
      " recall:0.6368539592223803 \n",
      "}\n",
      "=====Epoch 14\n",
      "Training...\n"
     ]
    },
    {
     "name": "stderr",
     "output_type": "stream",
     "text": [
      "Iteration: 100%|██████████| 154/154 [00:01<00:00, 128.59it/s]\n",
      "Iteration: 100%|██████████| 154/154 [00:04<00:00, 37.60it/s]\n",
      "Iteration:  16%|█▌        | 25/154 [00:00<00:03, 39.23it/s]"
     ]
    },
    {
     "name": "stdout",
     "output_type": "stream",
     "text": [
      "Evaluating...\n"
     ]
    },
    {
     "name": "stderr",
     "output_type": "stream",
     "text": [
      "Iteration: 100%|██████████| 154/154 [00:01<00:00, 126.97it/s]\n",
      "Iteration: 100%|██████████| 154/154 [00:01<00:00, 115.65it/s]\n"
     ]
    },
    {
     "name": "stdout",
     "output_type": "stream",
     "text": [
      "{'Train':  best_epoch_indx:13\n",
      " auc:0.7637084917740937 \n",
      " apur:0.672133992706394 \n",
      " f1:0.6205080152961735 \n",
      " precision:0.5416961443226035 \n",
      " recall:0.7261573113626933 \n",
      ", 'Validation':  best_epoch_indx:13\n",
      " auc:0.7637084917740937 \n",
      " apur:0.672133992706394 \n",
      " f1:0.6205080152961735 \n",
      " precision:0.5416961443226035 \n",
      " recall:0.7261573113626933 \n",
      ", 'Test':  best_epoch_indx:13\n",
      " auc:0.7637084917740937 \n",
      " apur:0.672133992706394 \n",
      " f1:0.6205080152961735 \n",
      " precision:0.5416961443226035 \n",
      " recall:0.7261573113626933 \n",
      "}\n",
      "=====Epoch 14\n",
      "Training...\n"
     ]
    },
    {
     "name": "stderr",
     "output_type": "stream",
     "text": [
      "Iteration: 100%|██████████| 154/154 [00:01<00:00, 118.11it/s]\n",
      "Iteration: 100%|██████████| 154/154 [00:03<00:00, 40.07it/s]\n",
      "Iteration:   7%|▋         | 11/154 [00:00<00:01, 109.14it/s]"
     ]
    },
    {
     "name": "stdout",
     "output_type": "stream",
     "text": [
      "Evaluating...\n"
     ]
    },
    {
     "name": "stderr",
     "output_type": "stream",
     "text": [
      "\r",
      "Iteration:  68%|██████▊   | 104/154 [00:02<00:01, 40.40it/s]\r",
      "Iteration:  27%|██▋       | 41/154 [00:01<00:02, 41.56it/s]\r",
      "Iteration:  34%|███▍      | 52/154 [00:00<00:00, 124.26it/s]\r",
      "Iteration:  16%|█▌        | 24/154 [00:00<00:01, 118.60it/s]\r",
      "Iteration:  71%|███████   | 109/154 [00:02<00:01, 41.56it/s]\r",
      "Iteration:  30%|██▉       | 46/154 [00:01<00:02, 39.78it/s]\r",
      "Iteration:  42%|████▏     | 65/154 [00:00<00:00, 124.57it/s]\r",
      "Iteration:   0%|          | 0/154 [00:00<?, ?it/s]\r",
      "Iteration:  24%|██▍       | 37/154 [00:00<00:00, 122.61it/s]"
     ]
    },
    {
     "name": "stdout",
     "output_type": "stream",
     "text": [
      "{'Train':  best_epoch_indx:12\n",
      " auc:0.7580566566562409 \n",
      " apur:0.6671311009419694 \n",
      " f1:0.609847271173769 \n",
      " precision:0.5548807152227783 \n",
      " recall:0.6769011913935155 \n",
      ", 'Validation':  best_epoch_indx:12\n",
      " auc:0.7580566566562409 \n",
      " apur:0.6671311009419694 \n",
      " f1:0.609847271173769 \n",
      " precision:0.5548807152227783 \n",
      " recall:0.6769011913935155 \n",
      ", 'Test':  best_epoch_indx:12\n",
      " auc:0.7580566566562409 \n",
      " apur:0.6671311009419694 \n",
      " f1:0.609847271173769 \n",
      " precision:0.5548807152227783 \n",
      " recall:0.6769011913935155 \n",
      "}\n",
      "=====Epoch 13\n",
      "Training...\n"
     ]
    },
    {
     "name": "stderr",
     "output_type": "stream",
     "text": [
      "Iteration: 100%|██████████| 154/154 [00:01<00:00, 124.53it/s]\n",
      "Iteration: 100%|██████████| 154/154 [00:01<00:00, 118.23it/s]\n",
      "Iteration: 100%|██████████| 154/154 [00:04<00:00, 37.90it/s]\n",
      "Iteration:  37%|███▋      | 57/154 [00:01<00:02, 45.58it/s]"
     ]
    },
    {
     "name": "stdout",
     "output_type": "stream",
     "text": [
      "Evaluating...\n"
     ]
    },
    {
     "name": "stderr",
     "output_type": "stream",
     "text": [
      "Iteration: 100%|██████████| 154/154 [00:01<00:00, 107.30it/s]\n",
      "Iteration: 100%|██████████| 154/154 [00:01<00:00, 124.38it/s]\n",
      "Iteration: 100%|██████████| 154/154 [00:04<00:00, 36.58it/s]\n",
      "Iteration:   0%|          | 0/154 [00:00<?, ?it/s]"
     ]
    },
    {
     "name": "stdout",
     "output_type": "stream",
     "text": [
      "Evaluating...\n"
     ]
    },
    {
     "name": "stderr",
     "output_type": "stream",
     "text": [
      "Iteration: 100%|██████████| 154/154 [00:03<00:00, 45.69it/s]\n",
      "Iteration: 100%|██████████| 154/154 [00:02<00:00, 76.55it/s] \n",
      "Iteration:  21%|██▏       | 33/154 [00:00<00:01, 70.46it/s]]"
     ]
    },
    {
     "name": "stdout",
     "output_type": "stream",
     "text": [
      "Evaluating...\n"
     ]
    },
    {
     "name": "stderr",
     "output_type": "stream",
     "text": [
      "Iteration:   0%|          | 0/154 [00:00<?, ?it/s]9.13it/s]s]"
     ]
    },
    {
     "name": "stdout",
     "output_type": "stream",
     "text": [
      "{'Train':  best_epoch_indx:14\n",
      " auc:0.756833754102777 \n",
      " apur:0.6626575014901934 \n",
      " f1:0.6124898703403565 \n",
      " precision:0.5347099398655819 \n",
      " recall:0.7167496443812233 \n",
      ", 'Validation':  best_epoch_indx:14\n",
      " auc:0.756833754102777 \n",
      " apur:0.6626575014901934 \n",
      " f1:0.6124898703403565 \n",
      " precision:0.5347099398655819 \n",
      " recall:0.7167496443812233 \n",
      ", 'Test':  best_epoch_indx:14\n",
      " auc:0.756833754102777 \n",
      " apur:0.6626575014901934 \n",
      " f1:0.6124898703403565 \n",
      " precision:0.5347099398655819 \n",
      " recall:0.7167496443812233 \n",
      "}\n",
      "=====Epoch 15\n",
      "Training...\n"
     ]
    },
    {
     "name": "stderr",
     "output_type": "stream",
     "text": [
      "Iteration: 100%|██████████| 154/154 [00:01<00:00, 114.90it/s]\n",
      "Iteration: 100%|██████████| 154/154 [00:01<00:00, 94.72it/s] \n",
      "Iteration: 100%|██████████| 154/154 [00:01<00:00, 114.62it/s]\n",
      "Iteration: 100%|██████████| 154/154 [00:01<00:00, 86.21it/s] \n",
      "Iteration:   3%|▎         | 5/154 [00:00<00:03, 41.93it/s]]]"
     ]
    },
    {
     "name": "stdout",
     "output_type": "stream",
     "text": [
      "{'Train':  best_epoch_indx:13\n",
      " auc:0.7569442067189958 \n",
      " apur:0.6664264087660636 \n",
      " f1:0.6073604272719687 \n",
      " precision:0.5722297934794004 \n",
      " recall:0.6470867168514018 \n",
      ", 'Validation':  best_epoch_indx:13\n",
      " auc:0.7569442067189958 \n",
      " apur:0.6664264087660636 \n",
      " f1:0.6073604272719687 \n",
      " precision:0.5722297934794004 \n",
      " recall:0.6470867168514018 \n",
      ", 'Test':  best_epoch_indx:13\n",
      " auc:0.7569442067189958 \n",
      " apur:0.6664264087660636 \n",
      " f1:0.6073604272719687 \n",
      " precision:0.5722297934794004 \n",
      " recall:0.6470867168514018 \n",
      "}\n",
      "=====Epoch 14\n",
      "Training...\n"
     ]
    },
    {
     "name": "stderr",
     "output_type": "stream",
     "text": [
      "Iteration: 100%|██████████| 154/154 [00:01<00:00, 126.25it/s]\n",
      "Iteration: 100%|██████████| 154/154 [00:01<00:00, 92.39it/s] \n",
      "Iteration: 100%|██████████| 154/154 [00:01<00:00, 77.90it/s]\n",
      "Iteration: 100%|██████████| 154/154 [00:03<00:00, 42.47it/s]\n",
      "Iteration:   0%|          | 0/154 [00:00<?, ?it/s]"
     ]
    },
    {
     "name": "stdout",
     "output_type": "stream",
     "text": [
      "Evaluating...\n"
     ]
    },
    {
     "name": "stderr",
     "output_type": "stream",
     "text": [
      "Iteration:   0%|          | 0/154 [00:00<?, ?it/s]3.51it/s]]"
     ]
    },
    {
     "name": "stdout",
     "output_type": "stream",
     "text": [
      "{'Train':  best_epoch_indx:14\n",
      " auc:0.7541793305601507 \n",
      " apur:0.6598869179774254 \n",
      " f1:0.5997121824320585 \n",
      " precision:0.5625064894611151 \n",
      " recall:0.6421882408724514 \n",
      ", 'Validation':  best_epoch_indx:14\n",
      " auc:0.7541793305601507 \n",
      " apur:0.6598869179774254 \n",
      " f1:0.5997121824320585 \n",
      " precision:0.5625064894611151 \n",
      " recall:0.6421882408724514 \n",
      ", 'Test':  best_epoch_indx:14\n",
      " auc:0.7541793305601507 \n",
      " apur:0.6598869179774254 \n",
      " f1:0.5997121824320585 \n",
      " precision:0.5625064894611151 \n",
      " recall:0.6421882408724514 \n",
      "}\n",
      "=====Epoch 15\n",
      "Training...\n"
     ]
    },
    {
     "name": "stderr",
     "output_type": "stream",
     "text": [
      "Iteration: 100%|██████████| 154/154 [00:01<00:00, 125.40it/s]\n",
      "Iteration: 100%|██████████| 154/154 [00:01<00:00, 106.17it/s]\n",
      "Iteration: 100%|██████████| 154/154 [00:02<00:00, 71.48it/s]\n",
      "Iteration:   4%|▍         | 6/154 [00:00<00:02, 51.12it/s]s]"
     ]
    },
    {
     "name": "stdout",
     "output_type": "stream",
     "text": [
      "{'Train':  best_epoch_indx:14\n",
      " auc:0.765584283000422 \n",
      " apur:0.6780599785035496 \n",
      " f1:0.6212087002333108 \n",
      " precision:0.5385384949978251 \n",
      " recall:0.7338628415624444 \n",
      ", 'Validation':  best_epoch_indx:14\n",
      " auc:0.765584283000422 \n",
      " apur:0.6780599785035496 \n",
      " f1:0.6212087002333108 \n",
      " precision:0.5385384949978251 \n",
      " recall:0.7338628415624444 \n",
      ", 'Test':  best_epoch_indx:14\n",
      " auc:0.765584283000422 \n",
      " apur:0.6780599785035496 \n",
      " f1:0.6212087002333108 \n",
      " precision:0.5385384949978251 \n",
      " recall:0.7338628415624444 \n",
      "}\n",
      "=====Epoch 15\n",
      "Training...\n"
     ]
    },
    {
     "name": "stderr",
     "output_type": "stream",
     "text": [
      "\r",
      "Iteration:   9%|▉         | 14/154 [00:00<00:02, 67.12it/s]\r",
      "Iteration:  38%|███▊      | 59/154 [00:01<00:02, 42.48it/s]\r",
      "Iteration:  99%|█████████▉| 153/154 [00:03<00:00, 45.42it/s]\r",
      "Iteration: 100%|██████████| 154/154 [00:03<00:00, 42.16it/s]\n",
      "\r",
      "Iteration:   0%|          | 0/154 [00:00<?, ?it/s]\r",
      "Iteration:   8%|▊         | 12/154 [00:00<00:02, 47.78it/s]\r",
      "Iteration:  14%|█▍        | 22/154 [00:00<00:01, 71.23it/s]\r",
      "Iteration:  42%|████▏     | 64/154 [00:01<00:02, 43.48it/s]\r",
      "Iteration:   8%|▊         | 12/154 [00:00<00:01, 113.14it/s]\r",
      "Iteration:  11%|█         | 17/154 [00:00<00:02, 46.98it/s]"
     ]
    },
    {
     "name": "stdout",
     "output_type": "stream",
     "text": [
      "Evaluating...\n"
     ]
    },
    {
     "name": "stderr",
     "output_type": "stream",
     "text": [
      "Iteration:  50%|█████     | 77/154 [00:01<00:01, 53.71it/s]]]"
     ]
    },
    {
     "name": "stdout",
     "output_type": "stream",
     "text": [
      "{'Train':  best_epoch_indx:13\n",
      " auc:0.7587847411560633 \n",
      " apur:0.6717629415076279 \n",
      " f1:0.6084740363172986 \n",
      " precision:0.5510410155310862 \n",
      " recall:0.6792721237626697 \n",
      ", 'Validation':  best_epoch_indx:13\n",
      " auc:0.7587847411560633 \n",
      " apur:0.6717629415076279 \n",
      " f1:0.6084740363172986 \n",
      " precision:0.5510410155310862 \n",
      " recall:0.6792721237626697 \n",
      ", 'Test':  best_epoch_indx:13\n",
      " auc:0.7587847411560633 \n",
      " apur:0.6717629415076279 \n",
      " f1:0.6084740363172986 \n",
      " precision:0.5510410155310862 \n",
      " recall:0.6792721237626697 \n",
      "}\n",
      "=====Epoch 14\n",
      "Training...\n"
     ]
    },
    {
     "name": "stderr",
     "output_type": "stream",
     "text": [
      "Iteration: 100%|██████████| 154/154 [00:01<00:00, 118.20it/s]\n",
      "Iteration: 100%|██████████| 154/154 [00:02<00:00, 66.36it/s]\n",
      "Iteration: 100%|██████████| 154/154 [00:03<00:00, 42.22it/s]\n",
      "Iteration:  35%|███▌      | 54/154 [00:01<00:02, 37.33it/s]]"
     ]
    },
    {
     "name": "stdout",
     "output_type": "stream",
     "text": [
      "Evaluating...\n"
     ]
    },
    {
     "name": "stderr",
     "output_type": "stream",
     "text": [
      "Iteration: 100%|██████████| 154/154 [00:01<00:00, 128.01it/s]\n",
      "Iteration: 100%|██████████| 154/154 [00:03<00:00, 45.03it/s]]\n",
      "Iteration:  59%|█████▉    | 91/154 [00:02<00:01, 38.80it/s]]]"
     ]
    },
    {
     "name": "stdout",
     "output_type": "stream",
     "text": [
      "Evaluating...\n"
     ]
    },
    {
     "name": "stderr",
     "output_type": "stream",
     "text": [
      "Iteration: 100%|██████████| 154/154 [00:01<00:00, 118.95it/s]\n",
      "Iteration: 100%|██████████| 154/154 [00:01<00:00, 108.15it/s]\n",
      "Iteration: 100%|██████████| 154/154 [00:01<00:00, 113.74it/s]\n",
      "Iteration: 100%|██████████| 154/154 [00:04<00:00, 37.70it/s]]\n",
      "Iteration:  73%|███████▎  | 113/154 [00:01<00:00, 112.37it/s]"
     ]
    },
    {
     "name": "stdout",
     "output_type": "stream",
     "text": [
      "Evaluating...\n"
     ]
    },
    {
     "name": "stderr",
     "output_type": "stream",
     "text": [
      "\r",
      "Iteration:  92%|█████████▏| 142/154 [00:01<00:00, 124.59it/s]\r",
      "Iteration:   8%|▊         | 13/154 [00:00<00:02, 62.99it/s]\r",
      "Iteration:  82%|████████▏ | 126/154 [00:01<00:00, 116.02it/s]\r",
      "Iteration: 100%|██████████| 154/154 [00:01<00:00, 113.94it/s]\n",
      "\r",
      "Iteration:  90%|█████████ | 139/154 [00:01<00:00, 118.75it/s]\r",
      "Iteration:   0%|          | 0/154 [00:00<?, ?it/s]\r",
      "Iteration:  14%|█▍        | 22/154 [00:00<00:01, 70.64it/s]"
     ]
    },
    {
     "name": "stdout",
     "output_type": "stream",
     "text": [
      "{'Train':  best_epoch_indx:15\n",
      " auc:0.7715961053555692 \n",
      " apur:0.6796564491904299 \n",
      " f1:0.6169690203739884 \n",
      " precision:0.5830256356155713 \n",
      " recall:0.6551090564248458 \n",
      ", 'Validation':  best_epoch_indx:15\n",
      " auc:0.7715961053555692 \n",
      " apur:0.6796564491904299 \n",
      " f1:0.6169690203739884 \n",
      " precision:0.5830256356155713 \n",
      " recall:0.6551090564248458 \n",
      ", 'Test':  best_epoch_indx:15\n",
      " auc:0.7715961053555692 \n",
      " apur:0.6796564491904299 \n",
      " f1:0.6169690203739884 \n",
      " precision:0.5830256356155713 \n",
      " recall:0.6551090564248458 \n",
      "}\n",
      "=====Epoch 16\n",
      "Training...\n"
     ]
    },
    {
     "name": "stderr",
     "output_type": "stream",
     "text": [
      "Iteration: 100%|██████████| 154/154 [00:01<00:00, 105.10it/s]\n",
      "Iteration:  17%|█▋        | 26/154 [00:00<00:01, 83.08it/s]]"
     ]
    },
    {
     "name": "stdout",
     "output_type": "stream",
     "text": [
      "{'Train':  best_epoch_indx:14\n",
      " auc:0.7574856962770151 \n",
      " apur:0.6666183916038417 \n",
      " f1:0.5930371449380918 \n",
      " precision:0.5831328062335281 \n",
      " recall:0.6032837413312785 \n",
      ", 'Validation':  best_epoch_indx:14\n",
      " auc:0.7574856962770151 \n",
      " apur:0.6666183916038417 \n",
      " f1:0.5930371449380918 \n",
      " precision:0.5831328062335281 \n",
      " recall:0.6032837413312785 \n",
      ", 'Test':  best_epoch_indx:14\n",
      " auc:0.7574856962770151 \n",
      " apur:0.6666183916038417 \n",
      " f1:0.5930371449380918 \n",
      " precision:0.5831328062335281 \n",
      " recall:0.6032837413312785 \n",
      "}\n",
      "=====Epoch 15\n",
      "Training...\n"
     ]
    },
    {
     "name": "stderr",
     "output_type": "stream",
     "text": [
      "Iteration: 100%|██████████| 154/154 [00:01<00:00, 100.25it/s]\n",
      "Iteration: 100%|██████████| 154/154 [00:01<00:00, 109.55it/s]\n",
      "Iteration: 100%|██████████| 154/154 [00:01<00:00, 88.80it/s] \n",
      "Iteration: 100%|██████████| 154/154 [00:01<00:00, 126.42it/s]\n",
      "Iteration:   3%|▎         | 5/154 [00:00<00:03, 46.08it/s]s]"
     ]
    },
    {
     "name": "stdout",
     "output_type": "stream",
     "text": [
      "{'Train':  best_epoch_indx:15\n",
      " auc:0.7558113127071531 \n",
      " apur:0.6631582931606919 \n",
      " f1:0.6128771059161552 \n",
      " precision:0.5478914677999346 \n",
      " recall:0.6953532479848269 \n",
      ", 'Validation':  best_epoch_indx:15\n",
      " auc:0.7558113127071531 \n",
      " apur:0.6631582931606919 \n",
      " f1:0.6128771059161552 \n",
      " precision:0.5478914677999346 \n",
      " recall:0.6953532479848269 \n",
      ", 'Test':  best_epoch_indx:15\n",
      " auc:0.7558113127071531 \n",
      " apur:0.6631582931606919 \n",
      " f1:0.6128771059161552 \n",
      " precision:0.5478914677999346 \n",
      " recall:0.6953532479848269 \n",
      "}\n",
      "=====Epoch 16\n",
      "Training...\n"
     ]
    },
    {
     "name": "stderr",
     "output_type": "stream",
     "text": [
      "\r",
      "Iteration:  45%|████▍     | 69/154 [00:00<00:00, 96.43it/s]\r",
      "Iteration:  96%|█████████▌| 148/154 [00:03<00:00, 45.74it/s]\r",
      "Iteration:  72%|███████▏  | 111/154 [00:02<00:01, 36.61it/s]\r",
      "Iteration:   6%|▋         | 10/154 [00:00<00:03, 42.08it/s]\r",
      "Iteration:  54%|█████▍    | 83/154 [00:00<00:00, 107.21it/s]\r",
      "Iteration:  99%|█████████▉| 153/154 [00:03<00:00, 45.70it/s]\r",
      "Iteration: 100%|██████████| 154/154 [00:03<00:00, 44.23it/s]\n",
      "\r",
      "Iteration:   0%|          | 0/154 [00:00<?, ?it/s]\r",
      "Iteration:  75%|███████▌  | 116/154 [00:03<00:00, 38.94it/s]"
     ]
    },
    {
     "name": "stdout",
     "output_type": "stream",
     "text": [
      "Evaluating...\n"
     ]
    },
    {
     "name": "stderr",
     "output_type": "stream",
     "text": [
      "Iteration: 100%|██████████| 154/154 [00:01<00:00, 101.94it/s]\n",
      "Iteration: 100%|██████████| 154/154 [00:03<00:00, 39.29it/s]]\n",
      "Iteration:  31%|███       | 48/154 [00:00<00:01, 67.43it/s]s]"
     ]
    },
    {
     "name": "stdout",
     "output_type": "stream",
     "text": [
      "Evaluating...\n",
      "{'Train':  best_epoch_indx:15\n",
      " auc:0.7645764486641785 \n",
      " apur:0.6745874778200736 \n",
      " f1:0.6170949810682348 \n",
      " precision:0.5641201885310291 \n",
      " recall:0.6810503230395353 \n",
      ", 'Validation':  best_epoch_indx:15\n",
      " auc:0.7645764486641785 \n",
      " apur:0.6745874778200736 \n",
      " f1:0.6170949810682348 \n",
      " precision:0.5641201885310291 \n",
      " recall:0.6810503230395353 \n",
      ", 'Test':  best_epoch_indx:15\n",
      " auc:0.7645764486641785 \n",
      " apur:0.6745874778200736 \n",
      " f1:0.6170949810682348 \n",
      " precision:0.5641201885310291 \n",
      " recall:0.6810503230395353 \n",
      "}\n",
      "=====Epoch 16\n",
      "Training...\n"
     ]
    },
    {
     "name": "stderr",
     "output_type": "stream",
     "text": [
      "Iteration: 100%|██████████| 154/154 [00:01<00:00, 116.83it/s]\n",
      "Iteration: 100%|██████████| 154/154 [00:01<00:00, 95.03it/s] \n",
      "Iteration: 100%|██████████| 154/154 [00:01<00:00, 126.51it/s]\n",
      "Iteration:  70%|███████   | 108/154 [00:02<00:01, 36.54it/s]"
     ]
    },
    {
     "name": "stdout",
     "output_type": "stream",
     "text": [
      "{'Train':  best_epoch_indx:14\n",
      " auc:0.7595614552916196 \n",
      " apur:0.6713539650358433 \n",
      " f1:0.6154842386095786 \n",
      " precision:0.5466047110783953 \n",
      " recall:0.7042261869480173 \n",
      ", 'Validation':  best_epoch_indx:14\n",
      " auc:0.7595614552916196 \n",
      " apur:0.6713539650358433 \n",
      " f1:0.6154842386095786 \n",
      " precision:0.5466047110783953 \n",
      " recall:0.7042261869480173 \n",
      ", 'Test':  best_epoch_indx:14\n",
      " auc:0.7595614552916196 \n",
      " apur:0.6713539650358433 \n",
      " f1:0.6154842386095786 \n",
      " precision:0.5466047110783953 \n",
      " recall:0.7042261869480173 \n",
      "}\n",
      "=====Epoch 15\n",
      "Training...\n"
     ]
    },
    {
     "name": "stderr",
     "output_type": "stream",
     "text": [
      "Iteration: 100%|██████████| 154/154 [00:01<00:00, 118.72it/s]\n",
      "Iteration: 100%|██████████| 154/154 [00:03<00:00, 38.69it/s]\n",
      "Iteration:  54%|█████▍    | 83/154 [00:01<00:00, 71.79it/s]]"
     ]
    },
    {
     "name": "stdout",
     "output_type": "stream",
     "text": [
      "Evaluating...\n"
     ]
    },
    {
     "name": "stderr",
     "output_type": "stream",
     "text": [
      "Iteration: 100%|██████████| 154/154 [00:01<00:00, 87.10it/s] \n",
      "Iteration: 100%|██████████| 154/154 [00:03<00:00, 41.33it/s]\n",
      "Iteration:   0%|          | 0/154 [00:00<?, ?it/s]"
     ]
    },
    {
     "name": "stdout",
     "output_type": "stream",
     "text": [
      "Evaluating...\n"
     ]
    },
    {
     "name": "stderr",
     "output_type": "stream",
     "text": [
      "Iteration: 100%|██████████| 154/154 [00:01<00:00, 95.19it/s] \n",
      "Iteration: 100%|██████████| 154/154 [00:02<00:00, 72.91it/s]\n",
      "Iteration: 100%|██████████| 154/154 [00:03<00:00, 44.84it/s]\n",
      "Iteration:  35%|███▌      | 54/154 [00:00<00:01, 71.44it/s]"
     ]
    },
    {
     "name": "stdout",
     "output_type": "stream",
     "text": [
      "Evaluating...\n",
      "{'Train':  best_epoch_indx:16\n",
      " auc:0.7792625649055633 \n",
      " apur:0.6908096216062202 \n",
      " f1:0.6258431936304324 \n",
      " precision:0.5864766839378238 \n",
      " recall:0.6708748221906117 \n",
      ", 'Validation':  best_epoch_indx:16\n",
      " auc:0.7792625649055633 \n",
      " apur:0.6908096216062202 \n",
      " f1:0.6258431936304324 \n",
      " precision:0.5864766839378238 \n",
      " recall:0.6708748221906117 \n",
      ", 'Test':  best_epoch_indx:16\n",
      " auc:0.7792625649055633 \n",
      " apur:0.6908096216062202 \n",
      " f1:0.6258431936304324 \n",
      " precision:0.5864766839378238 \n",
      " recall:0.6708748221906117 \n",
      "}\n",
      "=====Epoch 17\n",
      "Training...\n"
     ]
    },
    {
     "name": "stderr",
     "output_type": "stream",
     "text": [
      "Iteration: 100%|██████████| 154/154 [00:01<00:00, 89.12it/s]]\n",
      "Iteration: 100%|██████████| 154/154 [00:01<00:00, 96.55it/s] \n",
      "Iteration: 100%|██████████| 154/154 [00:01<00:00, 126.93it/s]\n",
      "Iteration:   3%|▎         | 5/154 [00:00<00:03, 45.53it/s]]"
     ]
    },
    {
     "name": "stdout",
     "output_type": "stream",
     "text": [
      "{'Train':  best_epoch_indx:15\n",
      " auc:0.7675791577814256 \n",
      " apur:0.6780540376804618 \n",
      " f1:0.6072169702559373 \n",
      " precision:0.5909677419354838 \n",
      " recall:0.6243850394167506 \n",
      ", 'Validation':  best_epoch_indx:15\n",
      " auc:0.7675791577814256 \n",
      " apur:0.6780540376804618 \n",
      " f1:0.6072169702559373 \n",
      " precision:0.5909677419354838 \n",
      " recall:0.6243850394167506 \n",
      ", 'Test':  best_epoch_indx:15\n",
      " auc:0.7675791577814256 \n",
      " apur:0.6780540376804618 \n",
      " f1:0.6072169702559373 \n",
      " precision:0.5909677419354838 \n",
      " recall:0.6243850394167506 \n",
      "}\n",
      "=====Epoch 16\n",
      "Training...\n"
     ]
    },
    {
     "name": "stderr",
     "output_type": "stream",
     "text": [
      "Iteration: 100%|██████████| 154/154 [00:01<00:00, 81.09it/s] \n",
      "Iteration: 100%|██████████| 154/154 [00:01<00:00, 107.15it/s]\n",
      "Iteration: 100%|██████████| 154/154 [00:01<00:00, 119.94it/s]\n",
      "Iteration: 100%|██████████| 154/154 [00:03<00:00, 42.58it/s]\n",
      "Iteration:  56%|█████▌    | 86/154 [00:02<00:01, 38.22it/s]]"
     ]
    },
    {
     "name": "stdout",
     "output_type": "stream",
     "text": [
      "Evaluating...\n"
     ]
    },
    {
     "name": "stderr",
     "output_type": "stream",
     "text": [
      "Iteration: 100%|██████████| 154/154 [00:01<00:00, 107.71it/s]\n",
      "Iteration: 100%|██████████| 154/154 [00:01<00:00, 127.60it/s]\n",
      "Iteration:   3%|▎         | 5/154 [00:00<00:03, 42.71it/s]s]]"
     ]
    },
    {
     "name": "stdout",
     "output_type": "stream",
     "text": [
      "{'Train':  best_epoch_indx:16\n",
      " auc:0.77122027866851 \n",
      " apur:0.6790461946851004 \n",
      " f1:0.6271690501435259 \n",
      " precision:0.5563150892324632 \n",
      " recall:0.718705547652916 \n",
      ", 'Validation':  best_epoch_indx:16\n",
      " auc:0.77122027866851 \n",
      " apur:0.6790461946851004 \n",
      " f1:0.6271690501435259 \n",
      " precision:0.5563150892324632 \n",
      " recall:0.718705547652916 \n",
      ", 'Test':  best_epoch_indx:16\n",
      " auc:0.77122027866851 \n",
      " apur:0.6790461946851004 \n",
      " f1:0.6271690501435259 \n",
      " precision:0.5563150892324632 \n",
      " recall:0.718705547652916 \n",
      "}\n",
      "=====Epoch 17\n",
      "Training...\n"
     ]
    },
    {
     "name": "stderr",
     "output_type": "stream",
     "text": [
      "\r",
      "Iteration:  99%|█████████▊| 152/154 [00:01<00:00, 128.68it/s]\r",
      "Iteration: 100%|██████████| 154/154 [00:01<00:00, 123.56it/s]\n",
      "\r",
      "Iteration:  90%|████████▉ | 138/154 [00:03<00:00, 39.95it/s]\r",
      "Iteration:  78%|███████▊  | 120/154 [00:01<00:00, 70.77it/s]\r",
      "Iteration:   6%|▋         | 10/154 [00:00<00:03, 42.29it/s]\r",
      "Iteration:   0%|          | 0/154 [00:00<?, ?it/s]\r",
      "Iteration:  93%|█████████▎| 143/154 [00:03<00:00, 41.53it/s]\r",
      "Iteration:  84%|████████▍ | 129/154 [00:01<00:00, 74.95it/s]"
     ]
    },
    {
     "name": "stdout",
     "output_type": "stream",
     "text": [
      "{'Train':  best_epoch_indx:16\n",
      " auc:0.7792107281902895 \n",
      " apur:0.6929634762823026 \n",
      " f1:0.6328140908165343 \n",
      " precision:0.5545345050631217 \n",
      " recall:0.7368265070238872 \n",
      ", 'Validation':  best_epoch_indx:16\n",
      " auc:0.7792107281902895 \n",
      " apur:0.6929634762823026 \n",
      " f1:0.6328140908165343 \n",
      " precision:0.5545345050631217 \n",
      " recall:0.7368265070238872 \n",
      ", 'Test':  best_epoch_indx:16\n",
      " auc:0.7792107281902895 \n",
      " apur:0.6929634762823026 \n",
      " f1:0.6328140908165343 \n",
      " precision:0.5545345050631217 \n",
      " recall:0.7368265070238872 \n",
      "}\n",
      "=====Epoch 17\n",
      "Training...\n"
     ]
    },
    {
     "name": "stderr",
     "output_type": "stream",
     "text": [
      "\r",
      "Iteration:  10%|▉         | 15/154 [00:00<00:03, 39.41it/s]\r",
      "Iteration:   3%|▎         | 4/154 [00:00<00:04, 37.04it/s]\r",
      "Iteration:  96%|█████████▌| 148/154 [00:03<00:00, 42.75it/s]\r",
      "Iteration:  93%|█████████▎| 143/154 [00:01<00:00, 90.77it/s]\r",
      "Iteration:  12%|█▏        | 19/154 [00:00<00:03, 37.02it/s]\r",
      "Iteration:   5%|▌         | 8/154 [00:00<00:04, 36.34it/s]\r",
      "Iteration:  99%|█████████▉| 153/154 [00:04<00:00, 43.57it/s]\r",
      "Iteration: 100%|██████████| 154/154 [00:04<00:00, 38.19it/s]\n",
      "\r",
      "Iteration:   0%|          | 0/154 [00:00<?, ?it/s]\r",
      "Iteration:  99%|█████████▉| 153/154 [00:01<00:00, 80.39it/s]"
     ]
    },
    {
     "name": "stdout",
     "output_type": "stream",
     "text": [
      "Evaluating...\n",
      "{'Train':  best_epoch_indx:15\n",
      " auc:0.7647384770044646 \n",
      " apur:0.6758175776355353 \n",
      " f1:0.6151888874464494 \n",
      " precision:0.5473572352615044 \n",
      " recall:0.7022108944342362 \n",
      ", 'Validation':  best_epoch_indx:15\n",
      " auc:0.7647384770044646 \n",
      " apur:0.6758175776355353 \n",
      " f1:0.6151888874464494 \n",
      " precision:0.5473572352615044 \n",
      " recall:0.7022108944342362 \n",
      ", 'Test':  best_epoch_indx:15\n",
      " auc:0.7647384770044646 \n",
      " apur:0.6758175776355353 \n",
      " f1:0.6151888874464494 \n",
      " precision:0.5473572352615044 \n",
      " recall:0.7022108944342362 \n",
      "}\n",
      "=====Epoch 16\n",
      "Training...\n"
     ]
    },
    {
     "name": "stderr",
     "output_type": "stream",
     "text": [
      "Iteration: 100%|██████████| 154/154 [00:01<00:00, 82.60it/s]\n",
      "Iteration: 100%|██████████| 154/154 [00:01<00:00, 120.07it/s]\n",
      "Iteration: 100%|██████████| 154/154 [00:02<00:00, 68.93it/s]]\n",
      "Iteration: 100%|██████████| 154/154 [00:01<00:00, 109.25it/s]\n",
      "Iteration: 100%|██████████| 154/154 [00:03<00:00, 44.57it/s]\n",
      "Iteration:  96%|█████████▌| 148/154 [00:03<00:00, 34.93it/s]"
     ]
    },
    {
     "name": "stdout",
     "output_type": "stream",
     "text": [
      "Evaluating...\n",
      "Evaluating...\n"
     ]
    },
    {
     "name": "stderr",
     "output_type": "stream",
     "text": [
      "Iteration: 100%|██████████| 154/154 [00:03<00:00, 39.11it/s]\n",
      "Iteration: 100%|██████████| 154/154 [00:03<00:00, 41.64it/s]\n",
      "Iteration:   0%|          | 0/154 [00:00<?, ?it/s]"
     ]
    },
    {
     "name": "stdout",
     "output_type": "stream",
     "text": [
      "Evaluating...\n"
     ]
    },
    {
     "name": "stderr",
     "output_type": "stream",
     "text": [
      "Iteration: 100%|██████████| 154/154 [00:01<00:00, 116.99it/s]\n",
      "Iteration: 100%|██████████| 154/154 [00:01<00:00, 104.17it/s]\n",
      "Iteration: 100%|██████████| 154/154 [00:01<00:00, 116.61it/s]\n",
      "Iteration: 100%|██████████| 154/154 [00:01<00:00, 80.08it/s] \n",
      "Iteration: 100%|██████████| 154/154 [00:01<00:00, 77.91it/s] \n",
      "Iteration: 100%|██████████| 154/154 [00:01<00:00, 126.29it/s]\n",
      "Iteration:  37%|███▋      | 57/154 [00:00<00:01, 71.60it/s]"
     ]
    },
    {
     "name": "stdout",
     "output_type": "stream",
     "text": [
      "{'Train':  best_epoch_indx:17\n",
      " auc:0.788454914314658 \n",
      " apur:0.7012782621574638 \n",
      " f1:0.6350752393980847 \n",
      " precision:0.5897957109462344 \n",
      " recall:0.6878852536747273 \n",
      ", 'Validation':  best_epoch_indx:17\n",
      " auc:0.788454914314658 \n",
      " apur:0.7012782621574638 \n",
      " f1:0.6350752393980847 \n",
      " precision:0.5897957109462344 \n",
      " recall:0.6878852536747273 \n",
      ", 'Test':  best_epoch_indx:17\n",
      " auc:0.788454914314658 \n",
      " apur:0.7012782621574638 \n",
      " f1:0.6350752393980847 \n",
      " precision:0.5897957109462344 \n",
      " recall:0.6878852536747273 \n",
      "}\n",
      "=====Epoch 18\n",
      "Training...\n",
      "{'Train':  best_epoch_indx:16\n",
      " auc:0.7775274503383092 \n",
      " apur:0.6921069965821703 \n",
      " f1:0.6240580519118057 \n",
      " precision:0.589693549237829 \n",
      " recall:0.6626755971785905 \n",
      ", 'Validation':  best_epoch_indx:16\n",
      " auc:0.7775274503383092 \n",
      " apur:0.6921069965821703 \n",
      " f1:0.6240580519118057 \n",
      " precision:0.589693549237829 \n",
      " recall:0.6626755971785905 \n",
      ", 'Test':  best_epoch_indx:16\n",
      " auc:0.7775274503383092 \n",
      " apur:0.6921069965821703 \n",
      " f1:0.6240580519118057 \n",
      " precision:0.589693549237829 \n",
      " recall:0.6626755971785905 \n",
      "}\n",
      "=====Epoch 17\n",
      "Training...\n"
     ]
    },
    {
     "name": "stderr",
     "output_type": "stream",
     "text": [
      "Iteration: 100%|██████████| 154/154 [00:01<00:00, 91.06it/s] \n",
      "Iteration: 100%|██████████| 154/154 [00:01<00:00, 93.25it/s] \n",
      "Iteration: 100%|██████████| 154/154 [00:01<00:00, 118.09it/s]\n",
      "Iteration:  40%|███▉      | 61/154 [00:00<00:01, 87.24it/s]]]"
     ]
    },
    {
     "name": "stdout",
     "output_type": "stream",
     "text": [
      "{'Train':  best_epoch_indx:17\n",
      " auc:0.7838832644522363 \n",
      " apur:0.6939278033401483 \n",
      " f1:0.6362832569729121 \n",
      " precision:0.5805789164873851 \n",
      " recall:0.7038112737834153 \n",
      ", 'Validation':  best_epoch_indx:17\n",
      " auc:0.7838832644522363 \n",
      " apur:0.6939278033401483 \n",
      " f1:0.6362832569729121 \n",
      " precision:0.5805789164873851 \n",
      " recall:0.7038112737834153 \n",
      ", 'Test':  best_epoch_indx:17\n",
      " auc:0.7838832644522363 \n",
      " apur:0.6939278033401483 \n",
      " f1:0.6362832569729121 \n",
      " precision:0.5805789164873851 \n",
      " recall:0.7038112737834153 \n",
      "}\n",
      "=====Epoch 18\n",
      "Training...\n"
     ]
    },
    {
     "name": "stderr",
     "output_type": "stream",
     "text": [
      "Iteration: 100%|██████████| 154/154 [00:01<00:00, 112.89it/s]\n",
      "Iteration: 100%|██████████| 154/154 [00:01<00:00, 101.55it/s]\n",
      "Iteration:   4%|▍         | 6/154 [00:00<00:02, 51.06it/s]]]"
     ]
    },
    {
     "name": "stdout",
     "output_type": "stream",
     "text": [
      "{'Train':  best_epoch_indx:17\n",
      " auc:0.7826956770437263 \n",
      " apur:0.695541353195424 \n",
      " f1:0.6385734107610874 \n",
      " precision:0.5636396625238138 \n",
      " recall:0.7364864864864865 \n",
      ", 'Validation':  best_epoch_indx:17\n",
      " auc:0.7826956770437263 \n",
      " apur:0.695541353195424 \n",
      " f1:0.6385734107610874 \n",
      " precision:0.5636396625238138 \n",
      " recall:0.7364864864864865 \n",
      ", 'Test':  best_epoch_indx:17\n",
      " auc:0.7826956770437263 \n",
      " apur:0.695541353195424 \n",
      " f1:0.6385734107610874 \n",
      " precision:0.5636396625238138 \n",
      " recall:0.7364864864864865 \n",
      "}\n",
      "=====Epoch 18\n",
      "Training...\n"
     ]
    },
    {
     "name": "stderr",
     "output_type": "stream",
     "text": [
      "Iteration: 100%|██████████| 154/154 [00:03<00:00, 42.74it/s]\n",
      "Iteration:   3%|▎         | 5/154 [00:00<00:03, 41.36it/s]]]"
     ]
    },
    {
     "name": "stdout",
     "output_type": "stream",
     "text": [
      "Evaluating...\n",
      "{'Train':  best_epoch_indx:16\n",
      " auc:0.7777802492123828 \n",
      " apur:0.6921005284283227 \n",
      " f1:0.6247472369186449 \n",
      " precision:0.5864274570982839 \n",
      " recall:0.6684251081737893 \n",
      ", 'Validation':  best_epoch_indx:16\n",
      " auc:0.7777802492123828 \n",
      " apur:0.6921005284283227 \n",
      " f1:0.6247472369186449 \n",
      " precision:0.5864274570982839 \n",
      " recall:0.6684251081737893 \n",
      ", 'Test':  best_epoch_indx:16\n",
      " auc:0.7777802492123828 \n",
      " apur:0.6921005284283227 \n",
      " f1:0.6247472369186449 \n",
      " precision:0.5864274570982839 \n",
      " recall:0.6684251081737893 \n",
      "}\n",
      "=====Epoch 17\n",
      "Training...\n"
     ]
    },
    {
     "name": "stderr",
     "output_type": "stream",
     "text": [
      "Iteration: 100%|██████████| 154/154 [00:03<00:00, 38.98it/s]\n",
      "Iteration:  13%|█▎        | 20/154 [00:00<00:03, 42.18it/s]]"
     ]
    },
    {
     "name": "stdout",
     "output_type": "stream",
     "text": [
      "Evaluating...\n"
     ]
    },
    {
     "name": "stderr",
     "output_type": "stream",
     "text": [
      "Iteration: 100%|██████████| 154/154 [00:01<00:00, 126.00it/s]\n",
      "Iteration: 100%|██████████| 154/154 [00:01<00:00, 119.94it/s]\n",
      "Iteration: 100%|██████████| 154/154 [00:03<00:00, 41.25it/s]\n",
      "Iteration:  63%|██████▎   | 97/154 [00:02<00:01, 37.75it/s]]"
     ]
    },
    {
     "name": "stdout",
     "output_type": "stream",
     "text": [
      "Evaluating...\n"
     ]
    },
    {
     "name": "stderr",
     "output_type": "stream",
     "text": [
      "Iteration: 100%|██████████| 154/154 [00:03<00:00, 45.86it/s]]\n",
      "Iteration:  74%|███████▍  | 114/154 [00:02<00:01, 36.31it/s]"
     ]
    },
    {
     "name": "stdout",
     "output_type": "stream",
     "text": [
      "Evaluating...\n"
     ]
    },
    {
     "name": "stderr",
     "output_type": "stream",
     "text": [
      "Iteration: 100%|██████████| 154/154 [00:01<00:00, 101.32it/s]\n",
      "Iteration: 100%|██████████| 154/154 [00:01<00:00, 119.06it/s]\n",
      "Iteration: 100%|██████████| 154/154 [00:01<00:00, 85.66it/s] \n",
      "Iteration: 100%|██████████| 154/154 [00:03<00:00, 38.91it/s]]\n",
      "Iteration:   5%|▌         | 8/154 [00:00<00:01, 75.42it/s]/s]"
     ]
    },
    {
     "name": "stdout",
     "output_type": "stream",
     "text": [
      "Evaluating...\n"
     ]
    },
    {
     "name": "stderr",
     "output_type": "stream",
     "text": [
      "Iteration: 100%|██████████| 154/154 [00:01<00:00, 122.10it/s]\n",
      "Iteration: 100%|██████████| 154/154 [00:01<00:00, 121.06it/s]\n",
      "Iteration: 100%|██████████| 154/154 [00:01<00:00, 103.83it/s]\n",
      "Iteration:  84%|████████▍ | 130/154 [00:01<00:00, 117.30it/s]"
     ]
    },
    {
     "name": "stdout",
     "output_type": "stream",
     "text": [
      "{'Train':  best_epoch_indx:18\n",
      " auc:0.7989296657050835 \n",
      " apur:0.7135396811090493 \n",
      " f1:0.645599198842773 \n",
      " precision:0.6083036275948837 \n",
      " recall:0.6877667140825036 \n",
      ", 'Validation':  best_epoch_indx:18\n",
      " auc:0.7989296657050835 \n",
      " apur:0.7135396811090493 \n",
      " f1:0.645599198842773 \n",
      " precision:0.6083036275948837 \n",
      " recall:0.6877667140825036 \n",
      ", 'Test':  best_epoch_indx:18\n",
      " auc:0.7989296657050835 \n",
      " apur:0.7135396811090493 \n",
      " f1:0.645599198842773 \n",
      " precision:0.6083036275948837 \n",
      " recall:0.6877667140825036 \n",
      "}\n",
      "=====Epoch 19\n",
      "Training...\n"
     ]
    },
    {
     "name": "stderr",
     "output_type": "stream",
     "text": [
      "Iteration: 100%|██████████| 154/154 [00:01<00:00, 114.95it/s]\n",
      "Iteration: 100%|██████████| 154/154 [00:02<00:00, 76.61it/s] \n",
      "Iteration: 100%|██████████| 154/154 [00:01<00:00, 83.91it/s] \n",
      "Iteration:  30%|██▉       | 46/154 [00:01<00:02, 39.07it/s]]"
     ]
    },
    {
     "name": "stdout",
     "output_type": "stream",
     "text": [
      "{'Train':  best_epoch_indx:17\n",
      " auc:0.7864558138431335 \n",
      " apur:0.7019965166554543 \n",
      " f1:0.6291849131233225 \n",
      " precision:0.6011120708270352 \n",
      " recall:0.660008298263292 \n",
      ", 'Validation':  best_epoch_indx:17\n",
      " auc:0.7864558138431335 \n",
      " apur:0.7019965166554543 \n",
      " f1:0.6291849131233225 \n",
      " precision:0.6011120708270352 \n",
      " recall:0.660008298263292 \n",
      ", 'Test':  best_epoch_indx:17\n",
      " auc:0.7864558138431335 \n",
      " apur:0.7019965166554543 \n",
      " f1:0.6291849131233225 \n",
      " precision:0.6011120708270352 \n",
      " recall:0.660008298263292 \n",
      "}\n",
      "=====Epoch 18\n",
      "Training...\n"
     ]
    },
    {
     "name": "stderr",
     "output_type": "stream",
     "text": [
      "Iteration: 100%|██████████| 154/154 [00:01<00:00, 101.54it/s]\n",
      "Iteration: 100%|██████████| 154/154 [00:01<00:00, 124.62it/s]\n",
      "Iteration:   0%|          | 0/154 [00:00<?, ?it/s]7.62it/s]s]"
     ]
    },
    {
     "name": "stdout",
     "output_type": "stream",
     "text": [
      "{'Train':  best_epoch_indx:18\n",
      " auc:0.7894521789897042 \n",
      " apur:0.7040328573249984 \n",
      " f1:0.6439983613273248 \n",
      " precision:0.566895059502344 \n",
      " recall:0.7453769559032717 \n",
      ", 'Validation':  best_epoch_indx:18\n",
      " auc:0.7894521789897042 \n",
      " apur:0.7040328573249984 \n",
      " f1:0.6439983613273248 \n",
      " precision:0.566895059502344 \n",
      " recall:0.7453769559032717 \n",
      ", 'Test':  best_epoch_indx:18\n",
      " auc:0.7894521789897042 \n",
      " apur:0.7040328573249984 \n",
      " f1:0.6439983613273248 \n",
      " precision:0.566895059502344 \n",
      " recall:0.7453769559032717 \n",
      "}\n",
      "=====Epoch 19\n",
      "Training...\n"
     ]
    },
    {
     "name": "stderr",
     "output_type": "stream",
     "text": [
      "Iteration: 100%|██████████| 154/154 [00:01<00:00, 95.22it/s] \n",
      "Iteration:  41%|████      | 63/154 [00:00<00:01, 77.06it/s]]"
     ]
    },
    {
     "name": "stdout",
     "output_type": "stream",
     "text": [
      "{'Train':  best_epoch_indx:18\n",
      " auc:0.7967212739159 \n",
      " apur:0.7136389248783738 \n",
      " f1:0.6492446970893204 \n",
      " precision:0.5838500496994368 \n",
      " recall:0.7311362693379171 \n",
      ", 'Validation':  best_epoch_indx:18\n",
      " auc:0.7967212739159 \n",
      " apur:0.7136389248783738 \n",
      " f1:0.6492446970893204 \n",
      " precision:0.5838500496994368 \n",
      " recall:0.7311362693379171 \n",
      ", 'Test':  best_epoch_indx:18\n",
      " auc:0.7967212739159 \n",
      " apur:0.7136389248783738 \n",
      " f1:0.6492446970893204 \n",
      " precision:0.5838500496994368 \n",
      " recall:0.7311362693379171 \n",
      "}\n",
      "=====Epoch 19\n",
      "Training...\n"
     ]
    },
    {
     "name": "stderr",
     "output_type": "stream",
     "text": [
      "Iteration: 100%|██████████| 154/154 [00:04<00:00, 37.53it/s]]\n",
      "Iteration:  15%|█▍        | 23/154 [00:00<00:03, 35.54it/s]"
     ]
    },
    {
     "name": "stdout",
     "output_type": "stream",
     "text": [
      "Evaluating...\n"
     ]
    },
    {
     "name": "stderr",
     "output_type": "stream",
     "text": [
      "Iteration: 100%|██████████| 154/154 [00:01<00:00, 92.02it/s] \n",
      "Iteration: 100%|██████████| 154/154 [00:03<00:00, 45.73it/s]\n",
      "Iteration:   8%|▊         | 12/154 [00:00<00:01, 112.57it/s]"
     ]
    },
    {
     "name": "stdout",
     "output_type": "stream",
     "text": [
      "Evaluating...\n",
      "{'Train':  best_epoch_indx:17\n",
      " auc:0.783912908185106 \n",
      " apur:0.6989033334572468 \n",
      " f1:0.6275109899282177 \n",
      " precision:0.5913166588013213 \n",
      " recall:0.6684251081737893 \n",
      ", 'Validation':  best_epoch_indx:17\n",
      " auc:0.783912908185106 \n",
      " apur:0.6989033334572468 \n",
      " f1:0.6275109899282177 \n",
      " precision:0.5913166588013213 \n",
      " recall:0.6684251081737893 \n",
      ", 'Test':  best_epoch_indx:17\n",
      " auc:0.783912908185106 \n",
      " apur:0.6989033334572468 \n",
      " f1:0.6275109899282177 \n",
      " precision:0.5913166588013213 \n",
      " recall:0.6684251081737893 \n",
      "}\n",
      "=====Epoch 18\n",
      "Training...\n"
     ]
    },
    {
     "name": "stderr",
     "output_type": "stream",
     "text": [
      "Iteration: 100%|██████████| 154/154 [00:01<00:00, 102.28it/s]\n",
      "Iteration: 100%|██████████| 154/154 [00:01<00:00, 126.45it/s]\n",
      "Iteration: 100%|██████████| 154/154 [00:03<00:00, 44.68it/s]\n",
      "Iteration:   0%|          | 0/154 [00:00<?, ?it/s]4.94it/s]"
     ]
    },
    {
     "name": "stdout",
     "output_type": "stream",
     "text": [
      "Evaluating...\n"
     ]
    },
    {
     "name": "stderr",
     "output_type": "stream",
     "text": [
      "Iteration: 100%|██████████| 154/154 [00:01<00:00, 125.28it/s]\n",
      "Iteration: 100%|██████████| 154/154 [00:01<00:00, 122.25it/s]\n",
      "Iteration: 100%|██████████| 154/154 [00:01<00:00, 116.28it/s]\n",
      "Iteration: 100%|██████████| 154/154 [00:04<00:00, 35.22it/s]\n",
      "Iteration:   8%|▊         | 12/154 [00:00<00:01, 113.61it/s]"
     ]
    },
    {
     "name": "stdout",
     "output_type": "stream",
     "text": [
      "Evaluating...\n"
     ]
    },
    {
     "name": "stderr",
     "output_type": "stream",
     "text": [
      "Iteration: 100%|██████████| 154/154 [00:04<00:00, 37.09it/s]]\n"
     ]
    },
    {
     "name": "stdout",
     "output_type": "stream",
     "text": [
      "Evaluating...\n"
     ]
    },
    {
     "name": "stderr",
     "output_type": "stream",
     "text": [
      "Iteration: 100%|██████████| 154/154 [00:01<00:00, 125.92it/s]\n",
      "Iteration: 100%|██████████| 154/154 [00:01<00:00, 108.98it/s]\n",
      "Iteration: 100%|██████████| 154/154 [00:01<00:00, 117.52it/s]\n",
      "Iteration:   3%|▎         | 5/154 [00:00<00:03, 42.91it/s]]]"
     ]
    },
    {
     "name": "stdout",
     "output_type": "stream",
     "text": [
      "{'Train':  best_epoch_indx:19\n",
      " auc:0.8060095781430401 \n",
      " apur:0.7234539982204999 \n",
      " f1:0.6603025936599423 \n",
      " precision:0.5834394325209167 \n",
      " recall:0.7604907539118065 \n",
      ", 'Validation':  best_epoch_indx:19\n",
      " auc:0.8060095781430401 \n",
      " apur:0.7234539982204999 \n",
      " f1:0.6603025936599423 \n",
      " precision:0.5834394325209167 \n",
      " recall:0.7604907539118065 \n",
      ", 'Test':  best_epoch_indx:19\n",
      " auc:0.8060095781430401 \n",
      " apur:0.7234539982204999 \n",
      " f1:0.6603025936599423 \n",
      " precision:0.5834394325209167 \n",
      " recall:0.7604907539118065 \n",
      "}\n",
      "=====Epoch 20\n",
      "Training...\n"
     ]
    },
    {
     "name": "stderr",
     "output_type": "stream",
     "text": [
      "Iteration: 100%|██████████| 154/154 [00:01<00:00, 88.30it/s] \n",
      "Iteration: 100%|██████████| 154/154 [00:01<00:00, 95.77it/s] \n",
      "Iteration: 100%|██████████| 154/154 [00:01<00:00, 128.15it/s]\n",
      "Iteration:   0%|          | 0/154 [00:00<?, ?it/s]5.55it/s]"
     ]
    },
    {
     "name": "stdout",
     "output_type": "stream",
     "text": [
      "{'Train':  best_epoch_indx:18\n",
      " auc:0.7940143539614068 \n",
      " apur:0.7110323818151542 \n",
      " f1:0.6421863516345917 \n",
      " precision:0.5937783147085473 \n",
      " recall:0.6991879556635647 \n",
      ", 'Validation':  best_epoch_indx:18\n",
      " auc:0.7940143539614068 \n",
      " apur:0.7110323818151542 \n",
      " f1:0.6421863516345917 \n",
      " precision:0.5937783147085473 \n",
      " recall:0.6991879556635647 \n",
      ", 'Test':  best_epoch_indx:18\n",
      " auc:0.7940143539614068 \n",
      " apur:0.7110323818151542 \n",
      " f1:0.6421863516345917 \n",
      " precision:0.5937783147085473 \n",
      " recall:0.6991879556635647 \n",
      "}\n",
      "=====Epoch 19\n",
      "Training...\n"
     ]
    },
    {
     "name": "stderr",
     "output_type": "stream",
     "text": [
      "Iteration: 100%|██████████| 154/154 [00:01<00:00, 95.60it/s] \n",
      "Iteration:  57%|█████▋    | 88/154 [00:02<00:02, 29.95it/s]]]"
     ]
    },
    {
     "name": "stdout",
     "output_type": "stream",
     "text": [
      "{'Train':  best_epoch_indx:19\n",
      " auc:0.7984594205017226 \n",
      " apur:0.7165564484345556 \n",
      " f1:0.6473400747417014 \n",
      " precision:0.6034323770491803 \n",
      " recall:0.6981389284020862 \n",
      ", 'Validation':  best_epoch_indx:19\n",
      " auc:0.7984594205017226 \n",
      " apur:0.7165564484345556 \n",
      " f1:0.6473400747417014 \n",
      " precision:0.6034323770491803 \n",
      " recall:0.6981389284020862 \n",
      ", 'Test':  best_epoch_indx:19\n",
      " auc:0.7984594205017226 \n",
      " apur:0.7165564484345556 \n",
      " f1:0.6473400747417014 \n",
      " precision:0.6034323770491803 \n",
      " recall:0.6981389284020862 \n",
      "}\n",
      "=====Epoch 20\n",
      "Training...\n"
     ]
    },
    {
     "name": "stderr",
     "output_type": "stream",
     "text": [
      "Iteration: 100%|██████████| 154/154 [00:01<00:00, 113.33it/s]\n",
      "Iteration: 100%|██████████| 154/154 [00:01<00:00, 121.54it/s]\n",
      "Iteration:   0%|          | 0/154 [00:00<?, ?it/s].23it/s]s]"
     ]
    },
    {
     "name": "stdout",
     "output_type": "stream",
     "text": [
      "{'Train':  best_epoch_indx:19\n",
      " auc:0.8061418299646606 \n",
      " apur:0.7248590686054186 \n",
      " f1:0.655111425539441 \n",
      " precision:0.605533199195171 \n",
      " recall:0.7135320964969474 \n",
      ", 'Validation':  best_epoch_indx:19\n",
      " auc:0.8061418299646606 \n",
      " apur:0.7248590686054186 \n",
      " f1:0.655111425539441 \n",
      " precision:0.605533199195171 \n",
      " recall:0.7135320964969474 \n",
      ", 'Test':  best_epoch_indx:19\n",
      " auc:0.8061418299646606 \n",
      " apur:0.7248590686054186 \n",
      " f1:0.655111425539441 \n",
      " precision:0.605533199195171 \n",
      " recall:0.7135320964969474 \n",
      "}\n",
      "=====Epoch 20\n",
      "Training...\n"
     ]
    },
    {
     "name": "stderr",
     "output_type": "stream",
     "text": [
      "Iteration: 100%|██████████| 154/154 [00:04<00:00, 38.49it/s]\n",
      "Iteration:   8%|▊         | 12/154 [00:00<00:01, 112.85it/s]"
     ]
    },
    {
     "name": "stdout",
     "output_type": "stream",
     "text": [
      "Evaluating...\n"
     ]
    },
    {
     "name": "stderr",
     "output_type": "stream",
     "text": [
      "Iteration: 100%|██████████| 154/154 [00:03<00:00, 40.23it/s]\n",
      "Iteration:  68%|██████▊   | 104/154 [00:01<00:00, 71.64it/s]]"
     ]
    },
    {
     "name": "stdout",
     "output_type": "stream",
     "text": [
      "Evaluating...\n"
     ]
    },
    {
     "name": "stderr",
     "output_type": "stream",
     "text": [
      "Iteration: 100%|██████████| 154/154 [00:01<00:00, 127.40it/s]\n",
      "Iteration: 100%|██████████| 154/154 [00:02<00:00, 68.94it/s]]\n",
      "Iteration: 100%|██████████| 154/154 [00:01<00:00, 126.92it/s]\n",
      "Iteration:  90%|████████▉ | 138/154 [00:03<00:00, 35.63it/s]"
     ]
    },
    {
     "name": "stdout",
     "output_type": "stream",
     "text": [
      "{'Train':  best_epoch_indx:18\n",
      " auc:0.794075514131242 \n",
      " apur:0.7117600347849341 \n",
      " f1:0.6389989344553428 \n",
      " precision:0.5927014698428789 \n",
      " recall:0.6931420781222216 \n",
      ", 'Validation':  best_epoch_indx:18\n",
      " auc:0.794075514131242 \n",
      " apur:0.7117600347849341 \n",
      " f1:0.6389989344553428 \n",
      " precision:0.5927014698428789 \n",
      " recall:0.6931420781222216 \n",
      ", 'Test':  best_epoch_indx:18\n",
      " auc:0.794075514131242 \n",
      " apur:0.7117600347849341 \n",
      " f1:0.6389989344553428 \n",
      " precision:0.5927014698428789 \n",
      " recall:0.6931420781222216 \n",
      "}\n",
      "=====Epoch 19\n",
      "Training...\n"
     ]
    },
    {
     "name": "stderr",
     "output_type": "stream",
     "text": [
      "Iteration: 100%|██████████| 154/154 [00:04<00:00, 35.85it/s]]\n",
      "Iteration:  81%|████████  | 124/154 [00:01<00:00, 127.74it/s]"
     ]
    },
    {
     "name": "stdout",
     "output_type": "stream",
     "text": [
      "Evaluating...\n"
     ]
    },
    {
     "name": "stderr",
     "output_type": "stream",
     "text": [
      "Iteration: 100%|██████████| 154/154 [00:01<00:00, 123.73it/s]\n",
      "Iteration: 100%|██████████| 154/154 [00:03<00:00, 42.73it/s]\n",
      "Iteration:  24%|██▍       | 37/154 [00:00<00:02, 44.43it/s]]"
     ]
    },
    {
     "name": "stdout",
     "output_type": "stream",
     "text": [
      "Evaluating...\n"
     ]
    },
    {
     "name": "stderr",
     "output_type": "stream",
     "text": [
      "Iteration: 100%|██████████| 154/154 [00:01<00:00, 123.63it/s]\n",
      "Iteration: 100%|██████████| 154/154 [00:01<00:00, 128.49it/s]\n",
      "Iteration: 100%|██████████| 154/154 [00:02<00:00, 72.73it/s]\n",
      "Iteration: 100%|██████████| 154/154 [00:01<00:00, 108.67it/s]\n",
      "Iteration: 100%|██████████| 154/154 [00:03<00:00, 43.75it/s]]\n",
      "Iteration:   8%|▊         | 12/154 [00:00<00:01, 111.92it/s]]"
     ]
    },
    {
     "name": "stdout",
     "output_type": "stream",
     "text": [
      "{'Train':  best_epoch_indx:20\n",
      " auc:0.8076720991596712 \n",
      " apur:0.7254822519443642 \n",
      " f1:0.6590419098701162 \n",
      " precision:0.5922408089972593 \n",
      " recall:0.7428283546704599 \n",
      ", 'Validation':  best_epoch_indx:20\n",
      " auc:0.8076720991596712 \n",
      " apur:0.7254822519443642 \n",
      " f1:0.6590419098701162 \n",
      " precision:0.5922408089972593 \n",
      " recall:0.7428283546704599 \n",
      ", 'Test':  best_epoch_indx:20\n",
      " auc:0.8076720991596712 \n",
      " apur:0.7254822519443642 \n",
      " f1:0.6590419098701162 \n",
      " precision:0.5922408089972593 \n",
      " recall:0.7428283546704599 \n",
      "}\n",
      "=====Epoch 21\n",
      "Training...\n",
      "Evaluating...\n"
     ]
    },
    {
     "name": "stderr",
     "output_type": "stream",
     "text": [
      "Iteration: 100%|██████████| 154/154 [00:01<00:00, 105.71it/s]\n",
      "Iteration: 100%|██████████| 154/154 [00:01<00:00, 98.04it/s] \n",
      "Iteration: 100%|██████████| 154/154 [00:01<00:00, 112.17it/s]\n",
      "Iteration:   0%|          | 0/154 [00:00<?, ?it/s]"
     ]
    },
    {
     "name": "stdout",
     "output_type": "stream",
     "text": [
      "{'Train':  best_epoch_indx:19\n",
      " auc:0.8040091921134509 \n",
      " apur:0.7245878391823373 \n",
      " f1:0.6521479064709081 \n",
      " precision:0.6023908784971621 \n",
      " recall:0.710864797581649 \n",
      ", 'Validation':  best_epoch_indx:19\n",
      " auc:0.8040091921134509 \n",
      " apur:0.7245878391823373 \n",
      " f1:0.6521479064709081 \n",
      " precision:0.6023908784971621 \n",
      " recall:0.710864797581649 \n",
      ", 'Test':  best_epoch_indx:19\n",
      " auc:0.8040091921134509 \n",
      " apur:0.7245878391823373 \n",
      " f1:0.6521479064709081 \n",
      " precision:0.6023908784971621 \n",
      " recall:0.710864797581649 \n",
      "}\n",
      "=====Epoch 20\n",
      "Training...\n"
     ]
    },
    {
     "name": "stderr",
     "output_type": "stream",
     "text": [
      "Iteration: 100%|██████████| 154/154 [00:01<00:00, 126.89it/s]\n",
      "Iteration: 100%|██████████| 154/154 [00:01<00:00, 107.15it/s]\n",
      "Iteration:  67%|██████▋   | 103/154 [00:01<00:00, 58.34it/s]"
     ]
    },
    {
     "name": "stdout",
     "output_type": "stream",
     "text": [
      "{'Train':  best_epoch_indx:20\n",
      " auc:0.8055490149668474 \n",
      " apur:0.7244223605751855 \n",
      " f1:0.6581005886938522 \n",
      " precision:0.6021151008362027 \n",
      " recall:0.7255645782704049 \n",
      ", 'Validation':  best_epoch_indx:20\n",
      " auc:0.8055490149668474 \n",
      " apur:0.7244223605751855 \n",
      " f1:0.6581005886938522 \n",
      " precision:0.6021151008362027 \n",
      " recall:0.7255645782704049 \n",
      ", 'Test':  best_epoch_indx:20\n",
      " auc:0.8055490149668474 \n",
      " apur:0.7244223605751855 \n",
      " f1:0.6581005886938522 \n",
      " precision:0.6021151008362027 \n",
      " recall:0.7255645782704049 \n",
      "}\n",
      "=====Epoch 21\n",
      "Training...\n"
     ]
    },
    {
     "name": "stderr",
     "output_type": "stream",
     "text": [
      "Iteration: 100%|██████████| 154/154 [00:03<00:00, 41.78it/s] \n",
      "Iteration: 100%|██████████| 154/154 [00:02<00:00, 74.69it/s]\n",
      "Iteration: 100%|██████████| 154/154 [00:01<00:00, 86.75it/s]\n",
      "Iteration:  17%|█▋        | 26/154 [00:00<00:03, 37.09it/s]"
     ]
    },
    {
     "name": "stdout",
     "output_type": "stream",
     "text": [
      "Evaluating...\n"
     ]
    },
    {
     "name": "stderr",
     "output_type": "stream",
     "text": [
      "Iteration:   0%|          | 0/154 [00:00<?, ?it/s]6.84it/s]]"
     ]
    },
    {
     "name": "stdout",
     "output_type": "stream",
     "text": [
      "{'Train':  best_epoch_indx:20\n",
      " auc:0.797767299823726 \n",
      " apur:0.7137209127498543 \n",
      " f1:0.6473769456721663 \n",
      " precision:0.6029659933520839 \n",
      " recall:0.6988501659554291 \n",
      ", 'Validation':  best_epoch_indx:20\n",
      " auc:0.797767299823726 \n",
      " apur:0.7137209127498543 \n",
      " f1:0.6473769456721663 \n",
      " precision:0.6029659933520839 \n",
      " recall:0.6988501659554291 \n",
      ", 'Test':  best_epoch_indx:20\n",
      " auc:0.797767299823726 \n",
      " apur:0.7137209127498543 \n",
      " f1:0.6473769456721663 \n",
      " precision:0.6029659933520839 \n",
      " recall:0.6988501659554291 \n",
      "}\n",
      "=====Epoch 21\n",
      "Training...\n"
     ]
    },
    {
     "name": "stderr",
     "output_type": "stream",
     "text": [
      "Iteration: 100%|██████████| 154/154 [00:03<00:00, 44.21it/s]\n",
      "Iteration:  39%|███▉      | 60/154 [00:01<00:02, 40.10it/s]s]"
     ]
    },
    {
     "name": "stdout",
     "output_type": "stream",
     "text": [
      "Evaluating...\n"
     ]
    },
    {
     "name": "stderr",
     "output_type": "stream",
     "text": [
      "Iteration: 100%|██████████| 154/154 [00:01<00:00, 120.12it/s]\n",
      "Iteration: 100%|██████████| 154/154 [00:01<00:00, 125.55it/s]\n",
      "Iteration: 100%|██████████| 154/154 [00:01<00:00, 98.26it/s] \n",
      "Iteration: 100%|██████████| 154/154 [00:03<00:00, 42.26it/s]\n",
      "Iteration:  60%|██████    | 93/154 [00:01<00:00, 71.96it/s]]"
     ]
    },
    {
     "name": "stdout",
     "output_type": "stream",
     "text": [
      "Evaluating...\n"
     ]
    },
    {
     "name": "stderr",
     "output_type": "stream",
     "text": [
      "\r",
      "Iteration:  69%|██████▉   | 107/154 [00:02<00:01, 44.63it/s]\r",
      "Iteration:   6%|▌         | 9/154 [00:00<00:02, 55.48it/s]\r",
      "Iteration:  31%|███       | 47/154 [00:00<00:01, 68.45it/s]\r",
      "Iteration:  66%|██████▌   | 101/154 [00:01<00:00, 68.49it/s]\r",
      "Iteration:   0%|          | 0/154 [00:00<?, ?it/s]\r",
      "Iteration:  73%|███████▎  | 112/154 [00:02<00:00, 44.97it/s]\r",
      "Iteration:  15%|█▍        | 23/154 [00:00<00:01, 92.05it/s]\r",
      "Iteration:  35%|███▌      | 54/154 [00:00<00:01, 67.83it/s]\r",
      "Iteration:  71%|███████   | 109/154 [00:01<00:00, 71.19it/s]\r",
      "Iteration:   4%|▍         | 6/154 [00:00<00:02, 50.80it/s]"
     ]
    },
    {
     "name": "stdout",
     "output_type": "stream",
     "text": [
      "{'Train':  best_epoch_indx:19\n",
      " auc:0.8047699599511713 \n",
      " apur:0.7246016161155174 \n",
      " f1:0.6537326727161388 \n",
      " precision:0.6162686958803464 \n",
      " recall:0.6960464702744354 \n",
      ", 'Validation':  best_epoch_indx:19\n",
      " auc:0.8047699599511713 \n",
      " apur:0.7246016161155174 \n",
      " f1:0.6537326727161388 \n",
      " precision:0.6162686958803464 \n",
      " recall:0.6960464702744354 \n",
      ", 'Test':  best_epoch_indx:19\n",
      " auc:0.8047699599511713 \n",
      " apur:0.7246016161155174 \n",
      " f1:0.6537326727161388 \n",
      " precision:0.6162686958803464 \n",
      " recall:0.6960464702744354 \n",
      "}\n",
      "=====Epoch 20\n",
      "Training...\n"
     ]
    },
    {
     "name": "stderr",
     "output_type": "stream",
     "text": [
      "Iteration: 100%|██████████| 154/154 [00:02<00:00, 68.36it/s]]\n",
      "Iteration: 100%|██████████| 154/154 [00:03<00:00, 41.72it/s]]\n",
      "Iteration:  75%|███████▌  | 116/154 [00:01<00:00, 66.38it/s]"
     ]
    },
    {
     "name": "stdout",
     "output_type": "stream",
     "text": [
      "Evaluating...\n"
     ]
    },
    {
     "name": "stderr",
     "output_type": "stream",
     "text": [
      "Iteration: 100%|██████████| 154/154 [00:01<00:00, 120.86it/s]\n",
      "Iteration: 100%|██████████| 154/154 [00:02<00:00, 68.75it/s]\n",
      "Iteration: 100%|██████████| 154/154 [00:01<00:00, 118.98it/s]\n",
      "Iteration: 100%|██████████| 154/154 [00:01<00:00, 129.11it/s]\n",
      "Iteration: 100%|██████████| 154/154 [00:03<00:00, 43.88it/s]]\n",
      "Iteration:   0%|          | 0/154 [00:00<?, ?it/s]"
     ]
    },
    {
     "name": "stdout",
     "output_type": "stream",
     "text": [
      "Evaluating...\n"
     ]
    },
    {
     "name": "stderr",
     "output_type": "stream",
     "text": [
      "Iteration: 100%|██████████| 154/154 [00:01<00:00, 99.18it/s] \n",
      "Iteration: 100%|██████████| 154/154 [00:01<00:00, 126.28it/s]\n",
      "Iteration:  49%|████▉     | 76/154 [00:00<00:00, 124.66it/s]"
     ]
    },
    {
     "name": "stdout",
     "output_type": "stream",
     "text": [
      "{'Train':  best_epoch_indx:21\n",
      " auc:0.8035499827197845 \n",
      " apur:0.7191564220476164 \n",
      " f1:0.6532389765922699 \n",
      " precision:0.6039863096436481 \n",
      " recall:0.7112375533428165 \n",
      ", 'Validation':  best_epoch_indx:21\n",
      " auc:0.8035499827197845 \n",
      " apur:0.7191564220476164 \n",
      " f1:0.6532389765922699 \n",
      " precision:0.6039863096436481 \n",
      " recall:0.7112375533428165 \n",
      ", 'Test':  best_epoch_indx:21\n",
      " auc:0.8035499827197845 \n",
      " apur:0.7191564220476164 \n",
      " f1:0.6532389765922699 \n",
      " precision:0.6039863096436481 \n",
      " recall:0.7112375533428165 \n",
      "}\n",
      "=====Epoch 22\n",
      "Training...\n"
     ]
    },
    {
     "name": "stderr",
     "output_type": "stream",
     "text": [
      "Iteration: 100%|██████████| 154/154 [00:01<00:00, 119.63it/s]\n",
      "Iteration: 100%|██████████| 154/154 [00:01<00:00, 80.09it/s] \n",
      "Iteration: 100%|██████████| 154/154 [00:01<00:00, 109.41it/s]\n",
      "Iteration:  30%|██▉       | 46/154 [00:01<00:02, 38.30it/s]"
     ]
    },
    {
     "name": "stdout",
     "output_type": "stream",
     "text": [
      "{'Train':  best_epoch_indx:20\n",
      " auc:0.8058630973746328 \n",
      " apur:0.7254662724225012 \n",
      " f1:0.6576132807184651 \n",
      " precision:0.6079299587400624 \n",
      " recall:0.716140122103017 \n",
      ", 'Validation':  best_epoch_indx:20\n",
      " auc:0.8058630973746328 \n",
      " apur:0.7254662724225012 \n",
      " f1:0.6576132807184651 \n",
      " precision:0.6079299587400624 \n",
      " recall:0.716140122103017 \n",
      ", 'Test':  best_epoch_indx:20\n",
      " auc:0.8058630973746328 \n",
      " apur:0.7254662724225012 \n",
      " f1:0.6576132807184651 \n",
      " precision:0.6079299587400624 \n",
      " recall:0.716140122103017 \n",
      "}\n",
      "=====Epoch 21\n",
      "Training...\n",
      "{'Train':  best_epoch_indx:21\n",
      " auc:0.8037964420074233 \n",
      " apur:0.722649268920623 \n",
      " f1:0.6503945177055177 \n",
      " precision:0.6029054464466491 \n",
      " recall:0.7060043862248829 \n",
      ", 'Validation':  best_epoch_indx:21\n",
      " auc:0.8037964420074233 \n",
      " apur:0.722649268920623 \n",
      " f1:0.6503945177055177 \n",
      " precision:0.6029054464466491 \n",
      " recall:0.7060043862248829 \n",
      ", 'Test':  best_epoch_indx:21\n",
      " auc:0.8037964420074233 \n",
      " apur:0.722649268920623 \n",
      " f1:0.6503945177055177 \n",
      " precision:0.6029054464466491 \n",
      " recall:0.7060043862248829 \n",
      "}\n",
      "=====Epoch 22\n",
      "Training...\n"
     ]
    },
    {
     "name": "stderr",
     "output_type": "stream",
     "text": [
      "Iteration: 100%|██████████| 154/154 [00:01<00:00, 89.53it/s]]\n",
      "Iteration: 100%|██████████| 154/154 [00:01<00:00, 106.58it/s]\n",
      "Iteration:  77%|███████▋  | 119/154 [00:03<00:00, 36.44it/s]"
     ]
    },
    {
     "name": "stdout",
     "output_type": "stream",
     "text": [
      "{'Train':  best_epoch_indx:21\n",
      " auc:0.796692962977272 \n",
      " apur:0.7121722650377784 \n",
      " f1:0.6456893920475041 \n",
      " precision:0.6070329211665884 \n",
      " recall:0.6896040777619725 \n",
      ", 'Validation':  best_epoch_indx:21\n",
      " auc:0.796692962977272 \n",
      " apur:0.7121722650377784 \n",
      " f1:0.6456893920475041 \n",
      " precision:0.6070329211665884 \n",
      " recall:0.6896040777619725 \n",
      ", 'Test':  best_epoch_indx:21\n",
      " auc:0.796692962977272 \n",
      " apur:0.7121722650377784 \n",
      " f1:0.6456893920475041 \n",
      " precision:0.6070329211665884 \n",
      " recall:0.6896040777619725 \n",
      "}\n",
      "=====Epoch 22\n",
      "Training...\n"
     ]
    },
    {
     "name": "stderr",
     "output_type": "stream",
     "text": [
      "Iteration: 100%|██████████| 154/154 [00:04<00:00, 36.77it/s]\n",
      "Iteration:  86%|████████▌ | 132/154 [00:02<00:00, 44.81it/s]"
     ]
    },
    {
     "name": "stdout",
     "output_type": "stream",
     "text": [
      "Evaluating...\n"
     ]
    },
    {
     "name": "stderr",
     "output_type": "stream",
     "text": [
      "Iteration: 100%|██████████| 154/154 [00:01<00:00, 118.92it/s]\n",
      "Iteration: 100%|██████████| 154/154 [00:03<00:00, 44.85it/s]\n",
      "Iteration: 100%|██████████| 154/154 [00:03<00:00, 44.77it/s]\n",
      "Iteration:   6%|▌         | 9/154 [00:00<00:02, 55.35it/s]]"
     ]
    },
    {
     "name": "stdout",
     "output_type": "stream",
     "text": [
      "Evaluating...\n",
      "Evaluating...\n"
     ]
    },
    {
     "name": "stderr",
     "output_type": "stream",
     "text": [
      "Iteration:  42%|████▏     | 64/154 [00:00<00:00, 127.17it/s]"
     ]
    },
    {
     "name": "stdout",
     "output_type": "stream",
     "text": [
      "{'Train':  best_epoch_indx:20\n",
      " auc:0.8045463619134262 \n",
      " apur:0.7237217886370393 \n",
      " f1:0.6526362551017575 \n",
      " precision:0.6138619032696124 \n",
      " recall:0.6966392033667239 \n",
      ", 'Validation':  best_epoch_indx:20\n",
      " auc:0.8045463619134262 \n",
      " apur:0.7237217886370393 \n",
      " f1:0.6526362551017575 \n",
      " precision:0.6138619032696124 \n",
      " recall:0.6966392033667239 \n",
      ", 'Test':  best_epoch_indx:20\n",
      " auc:0.8045463619134262 \n",
      " apur:0.7237217886370393 \n",
      " f1:0.6526362551017575 \n",
      " precision:0.6138619032696124 \n",
      " recall:0.6966392033667239 \n",
      "}\n",
      "=====Epoch 21\n",
      "Training...\n"
     ]
    },
    {
     "name": "stderr",
     "output_type": "stream",
     "text": [
      "Iteration: 100%|██████████| 154/154 [00:01<00:00, 119.10it/s]\n",
      "Iteration: 100%|██████████| 154/154 [00:01<00:00, 84.80it/s] \n",
      "Iteration: 100%|██████████| 154/154 [00:01<00:00, 118.06it/s]\n",
      "Iteration: 100%|██████████| 154/154 [00:04<00:00, 38.18it/s]]\n",
      "Iteration:   7%|▋         | 11/154 [00:00<00:01, 108.87it/s]]"
     ]
    },
    {
     "name": "stdout",
     "output_type": "stream",
     "text": [
      "Evaluating...\n"
     ]
    },
    {
     "name": "stderr",
     "output_type": "stream",
     "text": [
      "Iteration: 100%|██████████| 154/154 [00:01<00:00, 126.11it/s]\n",
      "Iteration: 100%|██████████| 154/154 [00:01<00:00, 128.09it/s]\n",
      "Iteration: 100%|██████████| 154/154 [00:01<00:00, 88.35it/s] \n",
      "Iteration: 100%|██████████| 154/154 [00:01<00:00, 95.20it/s] \n",
      "Iteration: 100%|██████████| 154/154 [00:03<00:00, 38.78it/s]\n",
      "Iteration:   5%|▌         | 8/154 [00:00<00:02, 69.23it/s]s]"
     ]
    },
    {
     "name": "stdout",
     "output_type": "stream",
     "text": [
      "Evaluating...\n"
     ]
    },
    {
     "name": "stderr",
     "output_type": "stream",
     "text": [
      "Iteration: 100%|██████████| 154/154 [00:01<00:00, 123.63it/s]\n",
      "Iteration: 100%|██████████| 154/154 [00:01<00:00, 106.76it/s]\n",
      "Iteration: 100%|██████████| 154/154 [00:01<00:00, 117.55it/s]\n",
      "Iteration:   3%|▎         | 5/154 [00:00<00:03, 42.82it/s]s]"
     ]
    },
    {
     "name": "stdout",
     "output_type": "stream",
     "text": [
      "{'Train':  best_epoch_indx:22\n",
      " auc:0.8035596895379378 \n",
      " apur:0.7229847108201292 \n",
      " f1:0.656858660556192 \n",
      " precision:0.5857521014257187 \n",
      " recall:0.7476142493035386 \n",
      ", 'Validation':  best_epoch_indx:22\n",
      " auc:0.8035596895379378 \n",
      " apur:0.7229847108201292 \n",
      " f1:0.656858660556192 \n",
      " precision:0.5857521014257187 \n",
      " recall:0.7476142493035386 \n",
      ", 'Test':  best_epoch_indx:22\n",
      " auc:0.8035596895379378 \n",
      " apur:0.7229847108201292 \n",
      " f1:0.656858660556192 \n",
      " precision:0.5857521014257187 \n",
      " recall:0.7476142493035386 \n",
      "}\n",
      "=====Epoch 23\n",
      "Training...\n",
      "{'Train':  best_epoch_indx:21\n",
      " auc:0.8031313226325175 \n",
      " apur:0.7210447720007174 \n",
      " f1:0.6545384594245514 \n",
      " precision:0.6101547289681319 \n",
      " recall:0.7058858396064253 \n",
      ", 'Validation':  best_epoch_indx:21\n",
      " auc:0.8031313226325175 \n",
      " apur:0.7210447720007174 \n",
      " f1:0.6545384594245514 \n",
      " precision:0.6101547289681319 \n",
      " recall:0.7058858396064253 \n",
      ", 'Test':  best_epoch_indx:21\n",
      " auc:0.8031313226325175 \n",
      " apur:0.7210447720007174 \n",
      " f1:0.6545384594245514 \n",
      " precision:0.6101547289681319 \n",
      " recall:0.7058858396064253 \n",
      "}\n",
      "=====Epoch 22\n",
      "Training...\n"
     ]
    },
    {
     "name": "stderr",
     "output_type": "stream",
     "text": [
      "Iteration: 100%|██████████| 154/154 [00:01<00:00, 86.04it/s] \n",
      "Iteration:   0%|          | 0/154 [00:00<?, ?it/s]5.49it/s]s]"
     ]
    },
    {
     "name": "stdout",
     "output_type": "stream",
     "text": [
      "{'Train':  best_epoch_indx:22\n",
      " auc:0.8006361496703185 \n",
      " apur:0.7172134878751972 \n",
      " f1:0.6518796209517858 \n",
      " precision:0.5812441968430826 \n",
      " recall:0.7420578473210052 \n",
      ", 'Validation':  best_epoch_indx:22\n",
      " auc:0.8006361496703185 \n",
      " apur:0.7172134878751972 \n",
      " f1:0.6518796209517858 \n",
      " precision:0.5812441968430826 \n",
      " recall:0.7420578473210052 \n",
      ", 'Test':  best_epoch_indx:22\n",
      " auc:0.8006361496703185 \n",
      " apur:0.7172134878751972 \n",
      " f1:0.6518796209517858 \n",
      " precision:0.5812441968430826 \n",
      " recall:0.7420578473210052 \n",
      "}\n",
      "=====Epoch 23\n",
      "Training...\n"
     ]
    },
    {
     "name": "stderr",
     "output_type": "stream",
     "text": [
      "Iteration: 100%|██████████| 154/154 [00:01<00:00, 92.07it/s] \n",
      "Iteration: 100%|██████████| 154/154 [00:01<00:00, 101.13it/s]\n",
      "Iteration: 100%|██████████| 154/154 [00:03<00:00, 44.38it/s]]\n",
      "Iteration:   0%|          | 0/154 [00:00<?, ?it/s]"
     ]
    },
    {
     "name": "stdout",
     "output_type": "stream",
     "text": [
      "Evaluating...\n"
     ]
    },
    {
     "name": "stderr",
     "output_type": "stream",
     "text": [
      "Iteration: 100%|██████████| 154/154 [00:01<00:00, 111.86it/s]\n",
      "Iteration: 100%|██████████| 154/154 [00:03<00:00, 42.25it/s]\n",
      "Iteration:  66%|██████▌   | 101/154 [00:02<00:01, 33.21it/s]"
     ]
    },
    {
     "name": "stdout",
     "output_type": "stream",
     "text": [
      "Evaluating...\n"
     ]
    },
    {
     "name": "stderr",
     "output_type": "stream",
     "text": [
      "\r",
      "Iteration:  16%|█▌        | 24/154 [00:00<00:01, 120.20it/s]\r",
      "Iteration:  46%|████▌     | 71/154 [00:00<00:01, 73.41it/s]\r",
      "Iteration:  41%|████      | 63/154 [00:00<00:00, 126.86it/s]\r",
      "Iteration:  68%|██████▊   | 105/154 [00:02<00:01, 34.27it/s]\r",
      "Iteration:  24%|██▍       | 37/154 [00:00<00:00, 123.57it/s]\r",
      "Iteration:  49%|████▉     | 76/154 [00:00<00:00, 127.39it/s]\r",
      "Iteration:  51%|█████▏    | 79/154 [00:01<00:01, 73.60it/s]"
     ]
    },
    {
     "name": "stdout",
     "output_type": "stream",
     "text": [
      "{'Train':  best_epoch_indx:22\n",
      " auc:0.8003248123557245 \n",
      " apur:0.7167139570802752 \n",
      " f1:0.6482622085349757 \n",
      " precision:0.604636848584325 \n",
      " recall:0.6986723565670934 \n",
      ", 'Validation':  best_epoch_indx:22\n",
      " auc:0.8003248123557245 \n",
      " apur:0.7167139570802752 \n",
      " f1:0.6482622085349757 \n",
      " precision:0.604636848584325 \n",
      " recall:0.6986723565670934 \n",
      ", 'Test':  best_epoch_indx:22\n",
      " auc:0.8003248123557245 \n",
      " apur:0.7167139570802752 \n",
      " f1:0.6482622085349757 \n",
      " precision:0.604636848584325 \n",
      " recall:0.6986723565670934 \n",
      "}\n",
      "=====Epoch 23\n",
      "Training...\n"
     ]
    },
    {
     "name": "stderr",
     "output_type": "stream",
     "text": [
      "Iteration: 100%|██████████| 154/154 [00:01<00:00, 126.23it/s]\n",
      "Iteration: 100%|██████████| 154/154 [00:01<00:00, 116.88it/s]\n",
      "Iteration: 100%|██████████| 154/154 [00:02<00:00, 73.12it/s]\n",
      "Iteration: 100%|██████████| 154/154 [00:04<00:00, 35.82it/s]\n",
      "Iteration:  16%|█▌        | 24/154 [00:00<00:01, 95.72it/s]]"
     ]
    },
    {
     "name": "stdout",
     "output_type": "stream",
     "text": [
      "Evaluating...\n"
     ]
    },
    {
     "name": "stderr",
     "output_type": "stream",
     "text": [
      "Iteration:  49%|████▉     | 76/154 [00:00<00:00, 122.88it/s]"
     ]
    },
    {
     "name": "stdout",
     "output_type": "stream",
     "text": [
      "{'Train':  best_epoch_indx:21\n",
      " auc:0.8031164481847581 \n",
      " apur:0.7212310248257301 \n",
      " f1:0.653679062269461 \n",
      " precision:0.606346309813463 \n",
      " recall:0.7090273249955545 \n",
      ", 'Validation':  best_epoch_indx:21\n",
      " auc:0.8031164481847581 \n",
      " apur:0.7212310248257301 \n",
      " f1:0.653679062269461 \n",
      " precision:0.606346309813463 \n",
      " recall:0.7090273249955545 \n",
      ", 'Test':  best_epoch_indx:21\n",
      " auc:0.8031164481847581 \n",
      " apur:0.7212310248257301 \n",
      " f1:0.653679062269461 \n",
      " precision:0.606346309813463 \n",
      " recall:0.7090273249955545 \n",
      "}\n",
      "=====Epoch 22\n",
      "Training...\n"
     ]
    },
    {
     "name": "stderr",
     "output_type": "stream",
     "text": [
      "Iteration: 100%|██████████| 154/154 [00:01<00:00, 119.83it/s]\n",
      "Iteration: 100%|██████████| 154/154 [00:01<00:00, 124.85it/s]\n",
      "Iteration: 100%|██████████| 154/154 [00:01<00:00, 112.96it/s]\n",
      "Iteration: 100%|██████████| 154/154 [00:03<00:00, 40.28it/s]\n",
      "Iteration:   7%|▋         | 11/154 [00:00<00:01, 109.00it/s]"
     ]
    },
    {
     "name": "stdout",
     "output_type": "stream",
     "text": [
      "Evaluating...\n"
     ]
    },
    {
     "name": "stderr",
     "output_type": "stream",
     "text": [
      "Iteration: 100%|██████████| 154/154 [00:01<00:00, 111.28it/s]\n",
      "Iteration: 100%|██████████| 154/154 [00:01<00:00, 124.33it/s]\n",
      "Iteration: 100%|██████████| 154/154 [00:02<00:00, 76.43it/s]\n",
      "Iteration: 100%|██████████| 154/154 [00:03<00:00, 40.80it/s]]\n",
      "Iteration: 100%|██████████| 154/154 [00:01<00:00, 83.38it/s] \n",
      "Iteration:  14%|█▎        | 21/154 [00:00<00:01, 67.72it/s]]"
     ]
    },
    {
     "name": "stdout",
     "output_type": "stream",
     "text": [
      "Evaluating...\n",
      "{'Train':  best_epoch_indx:23\n",
      " auc:0.8053566451799623 \n",
      " apur:0.7234795300279965 \n",
      " f1:0.6562223206377326 \n",
      " precision:0.6155683647504804 \n",
      " recall:0.7026258075988382 \n",
      ", 'Validation':  best_epoch_indx:23\n",
      " auc:0.8053566451799623 \n",
      " apur:0.7234795300279965 \n",
      " f1:0.6562223206377326 \n",
      " precision:0.6155683647504804 \n",
      " recall:0.7026258075988382 \n",
      ", 'Test':  best_epoch_indx:23\n",
      " auc:0.8053566451799623 \n",
      " apur:0.7234795300279965 \n",
      " f1:0.6562223206377326 \n",
      " precision:0.6155683647504804 \n",
      " recall:0.7026258075988382 \n",
      "}\n",
      "=====Epoch 24\n",
      "Training...\n"
     ]
    },
    {
     "name": "stderr",
     "output_type": "stream",
     "text": [
      "Iteration:  13%|█▎        | 20/154 [00:00<00:03, 43.71it/s]]"
     ]
    },
    {
     "name": "stdout",
     "output_type": "stream",
     "text": [
      "{'Train':  best_epoch_indx:22\n",
      " auc:0.8022839290850318 \n",
      " apur:0.7206911309497703 \n",
      " f1:0.6478716291508804 \n",
      " precision:0.6111957950065703 \n",
      " recall:0.6892300397131171 \n",
      ", 'Validation':  best_epoch_indx:22\n",
      " auc:0.8022839290850318 \n",
      " apur:0.7206911309497703 \n",
      " f1:0.6478716291508804 \n",
      " precision:0.6111957950065703 \n",
      " recall:0.6892300397131171 \n",
      ", 'Test':  best_epoch_indx:22\n",
      " auc:0.8022839290850318 \n",
      " apur:0.7206911309497703 \n",
      " f1:0.6478716291508804 \n",
      " precision:0.6111957950065703 \n",
      " recall:0.6892300397131171 \n",
      "}\n",
      "=====Epoch 23\n",
      "Training...\n"
     ]
    },
    {
     "name": "stderr",
     "output_type": "stream",
     "text": [
      "Iteration: 100%|██████████| 154/154 [00:01<00:00, 118.31it/s]\n",
      "Iteration: 100%|██████████| 154/154 [00:02<00:00, 69.25it/s]\n",
      "Iteration: 100%|██████████| 154/154 [00:02<00:00, 76.76it/s] \n",
      "Iteration:  69%|██████▉   | 107/154 [00:02<00:01, 43.37it/s]"
     ]
    },
    {
     "name": "stdout",
     "output_type": "stream",
     "text": [
      "{'Train':  best_epoch_indx:23\n",
      " auc:0.799038685283482 \n",
      " apur:0.7114553475218409 \n",
      " f1:0.65 \n",
      " precision:0.6040818403908795 \n",
      " recall:0.7034732100521575 \n",
      ", 'Validation':  best_epoch_indx:23\n",
      " auc:0.799038685283482 \n",
      " apur:0.7114553475218409 \n",
      " f1:0.65 \n",
      " precision:0.6040818403908795 \n",
      " recall:0.7034732100521575 \n",
      ", 'Test':  best_epoch_indx:23\n",
      " auc:0.799038685283482 \n",
      " apur:0.7114553475218409 \n",
      " f1:0.65 \n",
      " precision:0.6040818403908795 \n",
      " recall:0.7034732100521575 \n",
      "}\n",
      "=====Epoch 24\n",
      "Training...\n"
     ]
    },
    {
     "name": "stderr",
     "output_type": "stream",
     "text": [
      "Iteration: 100%|██████████| 154/154 [00:01<00:00, 92.54it/s] \n",
      "Iteration: 100%|██████████| 154/154 [00:03<00:00, 45.36it/s]\n",
      "Iteration:  89%|████████▉ | 137/154 [00:03<00:00, 45.26it/s]"
     ]
    },
    {
     "name": "stdout",
     "output_type": "stream",
     "text": [
      "Evaluating...\n"
     ]
    },
    {
     "name": "stderr",
     "output_type": "stream",
     "text": [
      "Iteration: 100%|██████████| 154/154 [00:03<00:00, 44.70it/s]\n",
      "Iteration:  32%|███▏      | 50/154 [00:00<00:00, 114.48it/s]"
     ]
    },
    {
     "name": "stdout",
     "output_type": "stream",
     "text": [
      "Evaluating...\n"
     ]
    },
    {
     "name": "stderr",
     "output_type": "stream",
     "text": [
      "Iteration: 100%|██████████| 154/154 [00:01<00:00, 117.81it/s]\n",
      "Iteration: 100%|██████████| 154/154 [00:01<00:00, 124.12it/s]\n",
      "Iteration: 100%|██████████| 154/154 [00:02<00:00, 69.16it/s]\n",
      "Iteration:  83%|████████▎ | 128/154 [00:03<00:00, 45.74it/s]"
     ]
    },
    {
     "name": "stdout",
     "output_type": "stream",
     "text": [
      "{'Train':  best_epoch_indx:23\n",
      " auc:0.7995548388955209 \n",
      " apur:0.7153466941277487 \n",
      " f1:0.6509679041314003 \n",
      " precision:0.6156284672689808 \n",
      " recall:0.6906116642958748 \n",
      ", 'Validation':  best_epoch_indx:23\n",
      " auc:0.7995548388955209 \n",
      " apur:0.7153466941277487 \n",
      " f1:0.6509679041314003 \n",
      " precision:0.6156284672689808 \n",
      " recall:0.6906116642958748 \n",
      ", 'Test':  best_epoch_indx:23\n",
      " auc:0.7995548388955209 \n",
      " apur:0.7153466941277487 \n",
      " f1:0.6509679041314003 \n",
      " precision:0.6156284672689808 \n",
      " recall:0.6906116642958748 \n",
      "}\n",
      "=====Epoch 24\n",
      "Training...\n"
     ]
    },
    {
     "name": "stderr",
     "output_type": "stream",
     "text": [
      "Iteration: 100%|██████████| 154/154 [00:02<00:00, 72.59it/s]\n",
      "Iteration: 100%|██████████| 154/154 [00:03<00:00, 42.75it/s]\n",
      "Iteration:  18%|█▊        | 28/154 [00:00<00:03, 38.99it/s]]"
     ]
    },
    {
     "name": "stdout",
     "output_type": "stream",
     "text": [
      "Evaluating...\n"
     ]
    },
    {
     "name": "stderr",
     "output_type": "stream",
     "text": [
      "Iteration:   3%|▎         | 5/154 [00:00<00:03, 41.41it/s]]]]"
     ]
    },
    {
     "name": "stdout",
     "output_type": "stream",
     "text": [
      "{'Train':  best_epoch_indx:22\n",
      " auc:0.7955528552034354 \n",
      " apur:0.7128783842592458 \n",
      " f1:0.6420607676813527 \n",
      " precision:0.6157362063336598 \n",
      " recall:0.6707367672337147 \n",
      ", 'Validation':  best_epoch_indx:22\n",
      " auc:0.7955528552034354 \n",
      " apur:0.7128783842592458 \n",
      " f1:0.6420607676813527 \n",
      " precision:0.6157362063336598 \n",
      " recall:0.6707367672337147 \n",
      ", 'Test':  best_epoch_indx:22\n",
      " auc:0.7955528552034354 \n",
      " apur:0.7128783842592458 \n",
      " f1:0.6420607676813527 \n",
      " precision:0.6157362063336598 \n",
      " recall:0.6707367672337147 \n",
      "}\n",
      "=====Epoch 23\n",
      "Training...\n"
     ]
    },
    {
     "name": "stderr",
     "output_type": "stream",
     "text": [
      "Iteration: 100%|██████████| 154/154 [00:01<00:00, 118.90it/s]\n",
      "Iteration: 100%|██████████| 154/154 [00:01<00:00, 87.83it/s]\n",
      "Iteration: 100%|██████████| 154/154 [00:01<00:00, 117.30it/s]\n",
      "Iteration: 100%|██████████| 154/154 [00:01<00:00, 124.96it/s]\n",
      "Iteration: 100%|██████████| 154/154 [00:01<00:00, 122.94it/s]\n",
      "Iteration:   0%|          | 0/154 [00:00<?, ?it/s]37.97it/s]]"
     ]
    },
    {
     "name": "stdout",
     "output_type": "stream",
     "text": [
      "{'Train':  best_epoch_indx:23\n",
      " auc:0.797023459799016 \n",
      " apur:0.7146229468107061 \n",
      " f1:0.6436705908180346 \n",
      " precision:0.5992846193152784 \n",
      " recall:0.6951573706360026 \n",
      ", 'Validation':  best_epoch_indx:23\n",
      " auc:0.797023459799016 \n",
      " apur:0.7146229468107061 \n",
      " f1:0.6436705908180346 \n",
      " precision:0.5992846193152784 \n",
      " recall:0.6951573706360026 \n",
      ", 'Test':  best_epoch_indx:23\n",
      " auc:0.797023459799016 \n",
      " apur:0.7146229468107061 \n",
      " f1:0.6436705908180346 \n",
      " precision:0.5992846193152784 \n",
      " recall:0.6951573706360026 \n",
      "}\n",
      "=====Epoch 24\n",
      "Training...\n",
      "{'Train':  best_epoch_indx:24\n",
      " auc:0.803875379720838 \n",
      " apur:0.7208257806026959 \n",
      " f1:0.6533247945351692 \n",
      " precision:0.5941276389225916 \n",
      " recall:0.7256238515796337 \n",
      ", 'Validation':  best_epoch_indx:24\n",
      " auc:0.803875379720838 \n",
      " apur:0.7208257806026959 \n",
      " f1:0.6533247945351692 \n",
      " precision:0.5941276389225916 \n",
      " recall:0.7256238515796337 \n",
      ", 'Test':  best_epoch_indx:24\n",
      " auc:0.803875379720838 \n",
      " apur:0.7208257806026959 \n",
      " f1:0.6533247945351692 \n",
      " precision:0.5941276389225916 \n",
      " recall:0.7256238515796337 \n",
      "}\n",
      "=====Epoch 25\n",
      "Training...\n"
     ]
    },
    {
     "name": "stderr",
     "output_type": "stream",
     "text": [
      "Iteration: 100%|██████████| 154/154 [00:01<00:00, 117.34it/s]\n",
      "Iteration: 100%|██████████| 154/154 [00:04<00:00, 38.17it/s]\n",
      "Iteration:  16%|█▌        | 25/154 [00:00<00:02, 45.74it/s]]"
     ]
    },
    {
     "name": "stdout",
     "output_type": "stream",
     "text": [
      "Evaluating...\n"
     ]
    },
    {
     "name": "stderr",
     "output_type": "stream",
     "text": [
      "Iteration: 100%|██████████| 154/154 [00:04<00:00, 36.84it/s]\n",
      "Iteration:  31%|███       | 48/154 [00:00<00:01, 68.83it/s]s]"
     ]
    },
    {
     "name": "stdout",
     "output_type": "stream",
     "text": [
      "Evaluating...\n"
     ]
    },
    {
     "name": "stderr",
     "output_type": "stream",
     "text": [
      "Iteration: 100%|██████████| 154/154 [00:01<00:00, 104.01it/s]\n",
      "Iteration: 100%|██████████| 154/154 [00:02<00:00, 74.15it/s]\n",
      "Iteration: 100%|██████████| 154/154 [00:03<00:00, 45.61it/s]]\n",
      "Iteration:   0%|          | 0/154 [00:00<?, ?it/s]"
     ]
    },
    {
     "name": "stdout",
     "output_type": "stream",
     "text": [
      "Evaluating...\n",
      "Evaluating...\n"
     ]
    },
    {
     "name": "stderr",
     "output_type": "stream",
     "text": [
      "Iteration: 100%|██████████| 154/154 [00:03<00:00, 45.86it/s]]\n",
      "Iteration: 100%|██████████| 154/154 [00:02<00:00, 75.31it/s]]\n",
      "Iteration: 100%|██████████| 154/154 [00:01<00:00, 120.36it/s]\n",
      "Iteration:   0%|          | 0/154 [00:00<?, ?it/s]26.90it/s]"
     ]
    },
    {
     "name": "stdout",
     "output_type": "stream",
     "text": [
      "{'Train':  best_epoch_indx:24\n",
      " auc:0.8068249544349793 \n",
      " apur:0.7231082230187027 \n",
      " f1:0.6572327862029498 \n",
      " precision:0.5856473969681517 \n",
      " recall:0.7487553342816501 \n",
      ", 'Validation':  best_epoch_indx:24\n",
      " auc:0.8068249544349793 \n",
      " apur:0.7231082230187027 \n",
      " f1:0.6572327862029498 \n",
      " precision:0.5856473969681517 \n",
      " recall:0.7487553342816501 \n",
      ", 'Test':  best_epoch_indx:24\n",
      " auc:0.8068249544349793 \n",
      " apur:0.7231082230187027 \n",
      " f1:0.6572327862029498 \n",
      " precision:0.5856473969681517 \n",
      " recall:0.7487553342816501 \n",
      "}\n",
      "=====Epoch 25\n",
      "Training...\n"
     ]
    },
    {
     "name": "stderr",
     "output_type": "stream",
     "text": [
      "Iteration: 100%|██████████| 154/154 [00:01<00:00, 117.40it/s]\n",
      "Iteration: 100%|██████████| 154/154 [00:01<00:00, 109.54it/s]\n",
      "Iteration: 100%|██████████| 154/154 [00:01<00:00, 96.13it/s] \n",
      "Iteration: 100%|██████████| 154/154 [00:01<00:00, 127.12it/s]\n",
      "Iteration: 100%|██████████| 154/154 [00:02<00:00, 70.07it/s]\n",
      "Iteration: 100%|██████████| 154/154 [00:01<00:00, 78.43it/s] \n",
      "Iteration: 100%|██████████| 154/154 [00:03<00:00, 45.94it/s]\n",
      "Iteration:   7%|▋         | 11/154 [00:00<00:01, 107.78it/s]"
     ]
    },
    {
     "name": "stdout",
     "output_type": "stream",
     "text": [
      "Evaluating...\n"
     ]
    },
    {
     "name": "stderr",
     "output_type": "stream",
     "text": [
      "Iteration:  41%|████      | 63/154 [00:00<00:00, 123.46it/s]"
     ]
    },
    {
     "name": "stdout",
     "output_type": "stream",
     "text": [
      "{'Train':  best_epoch_indx:24\n",
      " auc:0.7905715273513405 \n",
      " apur:0.7051986085138284 \n",
      " f1:0.6439114880084801 \n",
      " precision:0.582322772372142 \n",
      " recall:0.7200687529634898 \n",
      ", 'Validation':  best_epoch_indx:24\n",
      " auc:0.7905715273513405 \n",
      " apur:0.7051986085138284 \n",
      " f1:0.6439114880084801 \n",
      " precision:0.582322772372142 \n",
      " recall:0.7200687529634898 \n",
      ", 'Test':  best_epoch_indx:24\n",
      " auc:0.7905715273513405 \n",
      " apur:0.7051986085138284 \n",
      " f1:0.6439114880084801 \n",
      " precision:0.582322772372142 \n",
      " recall:0.7200687529634898 \n",
      "}\n",
      "=====Epoch 25\n",
      "Training...\n"
     ]
    },
    {
     "name": "stderr",
     "output_type": "stream",
     "text": [
      "Iteration: 100%|██████████| 154/154 [00:01<00:00, 118.45it/s]\n",
      "Iteration: 100%|██████████| 154/154 [00:01<00:00, 116.19it/s]\n",
      "Iteration: 100%|██████████| 154/154 [00:01<00:00, 109.80it/s]\n",
      "Iteration:  53%|█████▎    | 81/154 [00:01<00:00, 77.92it/s]"
     ]
    },
    {
     "name": "stdout",
     "output_type": "stream",
     "text": [
      "{'Train':  best_epoch_indx:23\n",
      " auc:0.8003717414703522 \n",
      " apur:0.7180632292335012 \n",
      " f1:0.6487051765418168 \n",
      " precision:0.6054659406144046 \n",
      " recall:0.6985952225712762 \n",
      ", 'Validation':  best_epoch_indx:23\n",
      " auc:0.8003717414703522 \n",
      " apur:0.7180632292335012 \n",
      " f1:0.6487051765418168 \n",
      " precision:0.6054659406144046 \n",
      " recall:0.6985952225712762 \n",
      ", 'Test':  best_epoch_indx:23\n",
      " auc:0.8003717414703522 \n",
      " apur:0.7180632292335012 \n",
      " f1:0.6487051765418168 \n",
      " precision:0.6054659406144046 \n",
      " recall:0.6985952225712762 \n",
      "}\n",
      "=====Epoch 24\n",
      "Training...\n"
     ]
    },
    {
     "name": "stderr",
     "output_type": "stream",
     "text": [
      "Iteration:  37%|███▋      | 57/154 [00:01<00:02, 37.40it/s]s]"
     ]
    },
    {
     "name": "stdout",
     "output_type": "stream",
     "text": [
      "{'Train':  best_epoch_indx:25\n",
      " auc:0.8130828337731684 \n",
      " apur:0.7323391428864736 \n",
      " f1:0.6578977533241631 \n",
      " precision:0.6368377253814147 \n",
      " recall:0.6803983166380179 \n",
      ", 'Validation':  best_epoch_indx:25\n",
      " auc:0.8130828337731684 \n",
      " apur:0.7323391428864736 \n",
      " f1:0.6578977533241631 \n",
      " precision:0.6368377253814147 \n",
      " recall:0.6803983166380179 \n",
      ", 'Test':  best_epoch_indx:25\n",
      " auc:0.8130828337731684 \n",
      " apur:0.7323391428864736 \n",
      " f1:0.6578977533241631 \n",
      " precision:0.6368377253814147 \n",
      " recall:0.6803983166380179 \n",
      "}\n",
      "=====Epoch 26\n",
      "Training...\n"
     ]
    },
    {
     "name": "stderr",
     "output_type": "stream",
     "text": [
      "Iteration: 100%|██████████| 154/154 [00:01<00:00, 90.71it/s] \n",
      "Iteration:  53%|█████▎    | 82/154 [00:02<00:01, 38.74it/s]]"
     ]
    },
    {
     "name": "stdout",
     "output_type": "stream",
     "text": [
      "{'Train':  best_epoch_indx:24\n",
      " auc:0.7987437811941109 \n",
      " apur:0.7155854104531956 \n",
      " f1:0.6442506122224363 \n",
      " precision:0.601222267871816 \n",
      " recall:0.6939126311421967 \n",
      ", 'Validation':  best_epoch_indx:24\n",
      " auc:0.7987437811941109 \n",
      " apur:0.7155854104531956 \n",
      " f1:0.6442506122224363 \n",
      " precision:0.601222267871816 \n",
      " recall:0.6939126311421967 \n",
      ", 'Test':  best_epoch_indx:24\n",
      " auc:0.7987437811941109 \n",
      " apur:0.7155854104531956 \n",
      " f1:0.6442506122224363 \n",
      " precision:0.601222267871816 \n",
      " recall:0.6939126311421967 \n",
      "}\n",
      "=====Epoch 25\n",
      "Training...\n"
     ]
    },
    {
     "name": "stderr",
     "output_type": "stream",
     "text": [
      "Iteration: 100%|██████████| 154/154 [00:01<00:00, 118.28it/s]\n",
      "Iteration: 100%|██████████| 154/154 [00:03<00:00, 39.68it/s]\n",
      "Iteration:  83%|████████▎ | 128/154 [00:02<00:00, 45.44it/s]"
     ]
    },
    {
     "name": "stdout",
     "output_type": "stream",
     "text": [
      "Evaluating...\n"
     ]
    },
    {
     "name": "stderr",
     "output_type": "stream",
     "text": [
      "Iteration: 100%|██████████| 154/154 [00:03<00:00, 44.81it/s]\n",
      "Iteration:  71%|███████   | 109/154 [00:02<00:00, 45.54it/s]"
     ]
    },
    {
     "name": "stdout",
     "output_type": "stream",
     "text": [
      "Evaluating...\n"
     ]
    },
    {
     "name": "stderr",
     "output_type": "stream",
     "text": [
      "Iteration: 100%|██████████| 154/154 [00:01<00:00, 119.67it/s]\n",
      "Iteration: 100%|██████████| 154/154 [00:03<00:00, 39.31it/s]\n",
      "Iteration:  90%|█████████ | 139/154 [00:02<00:00, 66.42it/s]]"
     ]
    },
    {
     "name": "stdout",
     "output_type": "stream",
     "text": [
      "Evaluating...\n"
     ]
    },
    {
     "name": "stderr",
     "output_type": "stream",
     "text": [
      "\r",
      "Iteration:  75%|███████▍  | 115/154 [00:01<00:00, 124.96it/s]\r",
      "Iteration: 100%|██████████| 154/154 [00:03<00:00, 45.51it/s]\r",
      "Iteration: 100%|██████████| 154/154 [00:03<00:00, 45.07it/s]\n",
      "\r",
      "Iteration:   0%|          | 0/154 [00:00<?, ?it/s]\r",
      "Iteration:  95%|█████████▍| 146/154 [00:02<00:00, 66.31it/s]\r",
      "Iteration:  10%|█         | 16/154 [00:00<00:01, 71.05it/s]\r",
      "Iteration:  83%|████████▎ | 128/154 [00:01<00:00, 125.77it/s]\r",
      "Iteration:   0%|          | 0/154 [00:00<?, ?it/s]\r",
      "Iteration:   8%|▊         | 12/154 [00:00<00:01, 111.66it/s]\r",
      "Iteration: 100%|██████████| 154/154 [00:02<00:00, 69.93it/s]\r",
      "Iteration: 100%|██████████| 154/154 [00:02<00:00, 64.96it/s]\n",
      "\r",
      "Iteration:  16%|█▌        | 25/154 [00:00<00:01, 76.64it/s]"
     ]
    },
    {
     "name": "stdout",
     "output_type": "stream",
     "text": [
      "Evaluating...\n"
     ]
    },
    {
     "name": "stderr",
     "output_type": "stream",
     "text": [
      "Iteration: 100%|██████████| 154/154 [00:01<00:00, 117.27it/s]\n",
      "Iteration:   0%|          | 0/154 [00:00<?, ?it/s]7.08it/s]]"
     ]
    },
    {
     "name": "stdout",
     "output_type": "stream",
     "text": [
      "{'Train':  best_epoch_indx:25\n",
      " auc:0.8120799959997135 \n",
      " apur:0.72906139675889 \n",
      " f1:0.6640303617399611 \n",
      " precision:0.6012399673186908 \n",
      " recall:0.7414651493598862 \n",
      ", 'Validation':  best_epoch_indx:25\n",
      " auc:0.8120799959997135 \n",
      " apur:0.72906139675889 \n",
      " f1:0.6640303617399611 \n",
      " precision:0.6012399673186908 \n",
      " recall:0.7414651493598862 \n",
      ", 'Test':  best_epoch_indx:25\n",
      " auc:0.8120799959997135 \n",
      " apur:0.72906139675889 \n",
      " f1:0.6640303617399611 \n",
      " precision:0.6012399673186908 \n",
      " recall:0.7414651493598862 \n",
      "}\n",
      "=====Epoch 26\n",
      "Training...\n"
     ]
    },
    {
     "name": "stderr",
     "output_type": "stream",
     "text": [
      "Iteration: 100%|██████████| 154/154 [00:01<00:00, 119.49it/s]\n",
      "Iteration: 100%|██████████| 154/154 [00:01<00:00, 105.20it/s]\n",
      "Iteration: 100%|██████████| 154/154 [00:02<00:00, 70.79it/s]\n",
      "Iteration: 100%|██████████| 154/154 [00:01<00:00, 82.16it/s] \n",
      "Iteration: 100%|██████████| 154/154 [00:01<00:00, 128.16it/s]\n",
      "Iteration: 100%|██████████| 154/154 [00:03<00:00, 45.71it/s]]\n",
      "Iteration:  42%|████▏     | 65/154 [00:00<00:00, 126.39it/s]"
     ]
    },
    {
     "name": "stdout",
     "output_type": "stream",
     "text": [
      "Evaluating...\n"
     ]
    },
    {
     "name": "stderr",
     "output_type": "stream",
     "text": [
      "Iteration: 100%|██████████| 154/154 [00:01<00:00, 95.47it/s] \n",
      "Iteration:  30%|██▉       | 46/154 [00:00<00:01, 60.24it/s]s]"
     ]
    },
    {
     "name": "stdout",
     "output_type": "stream",
     "text": [
      "{'Train':  best_epoch_indx:25\n",
      " auc:0.8023997759638919 \n",
      " apur:0.7190610136451013 \n",
      " f1:0.6537370161143363 \n",
      " precision:0.5828884452903765 \n",
      " recall:0.7441915599810337 \n",
      ", 'Validation':  best_epoch_indx:25\n",
      " auc:0.8023997759638919 \n",
      " apur:0.7190610136451013 \n",
      " f1:0.6537370161143363 \n",
      " precision:0.5828884452903765 \n",
      " recall:0.7441915599810337 \n",
      ", 'Test':  best_epoch_indx:25\n",
      " auc:0.8023997759638919 \n",
      " apur:0.7190610136451013 \n",
      " f1:0.6537370161143363 \n",
      " precision:0.5828884452903765 \n",
      " recall:0.7441915599810337 \n",
      "}\n",
      "=====Epoch 26\n",
      "Training...\n"
     ]
    },
    {
     "name": "stderr",
     "output_type": "stream",
     "text": [
      "Iteration: 100%|██████████| 154/154 [00:01<00:00, 126.04it/s]\n",
      "Iteration: 100%|██████████| 154/154 [00:01<00:00, 124.98it/s]\n",
      "Iteration: 100%|██████████| 154/154 [00:02<00:00, 66.16it/s]\n"
     ]
    },
    {
     "name": "stdout",
     "output_type": "stream",
     "text": [
      "{'Train':  best_epoch_indx:24\n",
      " auc:0.8033864027271311 \n",
      " apur:0.722392834416203 \n",
      " f1:0.6536988400087546 \n",
      " precision:0.6070321629998475 \n",
      " recall:0.7081382253571217 \n",
      ", 'Validation':  best_epoch_indx:24\n",
      " auc:0.8033864027271311 \n",
      " apur:0.722392834416203 \n",
      " f1:0.6536988400087546 \n",
      " precision:0.6070321629998475 \n",
      " recall:0.7081382253571217 \n",
      ", 'Test':  best_epoch_indx:24\n",
      " auc:0.8033864027271311 \n",
      " apur:0.722392834416203 \n",
      " f1:0.6536988400087546 \n",
      " precision:0.6070321629998475 \n",
      " recall:0.7081382253571217 \n",
      "}\n",
      "=====Epoch 25\n",
      "Training...\n"
     ]
    },
    {
     "name": "stderr",
     "output_type": "stream",
     "text": [
      "Iteration: 100%|██████████| 154/154 [00:02<00:00, 63.59it/s]\n",
      "Iteration: 100%|██████████| 154/154 [00:01<00:00, 118.68it/s]\n",
      "Iteration:   0%|          | 0/154 [00:00<?, ?it/s]45.75it/s]"
     ]
    },
    {
     "name": "stdout",
     "output_type": "stream",
     "text": [
      "{'Train':  best_epoch_indx:25\n",
      " auc:0.802028730682438 \n",
      " apur:0.7232705169619602 \n",
      " f1:0.6481332631170487 \n",
      " precision:0.6087047063723449 \n",
      " recall:0.6930235315037638 \n",
      ", 'Validation':  best_epoch_indx:25\n",
      " auc:0.802028730682438 \n",
      " apur:0.7232705169619602 \n",
      " f1:0.6481332631170487 \n",
      " precision:0.6087047063723449 \n",
      " recall:0.6930235315037638 \n",
      ", 'Test':  best_epoch_indx:25\n",
      " auc:0.802028730682438 \n",
      " apur:0.7232705169619602 \n",
      " f1:0.6481332631170487 \n",
      " precision:0.6087047063723449 \n",
      " recall:0.6930235315037638 \n",
      "}\n",
      "=====Epoch 26\n",
      "Training...\n"
     ]
    },
    {
     "name": "stderr",
     "output_type": "stream",
     "text": [
      "Iteration: 100%|██████████| 154/154 [00:03<00:00, 44.26it/s]]\n",
      "Iteration:  32%|███▏      | 50/154 [00:01<00:02, 45.41it/s]s]"
     ]
    },
    {
     "name": "stdout",
     "output_type": "stream",
     "text": [
      "Evaluating...\n"
     ]
    },
    {
     "name": "stderr",
     "output_type": "stream",
     "text": [
      "Iteration: 100%|██████████| 154/154 [00:01<00:00, 102.68it/s]\n",
      "Iteration:  95%|█████████▌| 147/154 [00:03<00:00, 42.98it/s]]"
     ]
    },
    {
     "name": "stdout",
     "output_type": "stream",
     "text": [
      "{'Train':  best_epoch_indx:26\n",
      " auc:0.8221004318303968 \n",
      " apur:0.7468680117873426 \n",
      " f1:0.672215108834827 \n",
      " precision:0.6111461415336857 \n",
      " recall:0.7468436962835635 \n",
      ", 'Validation':  best_epoch_indx:26\n",
      " auc:0.8221004318303968 \n",
      " apur:0.7468680117873426 \n",
      " f1:0.672215108834827 \n",
      " precision:0.6111461415336857 \n",
      " recall:0.7468436962835635 \n",
      ", 'Test':  best_epoch_indx:26\n",
      " auc:0.8221004318303968 \n",
      " apur:0.7468680117873426 \n",
      " f1:0.672215108834827 \n",
      " precision:0.6111461415336857 \n",
      " recall:0.7468436962835635 \n",
      "}\n",
      "=====Epoch 27\n",
      "Training...\n"
     ]
    },
    {
     "name": "stderr",
     "output_type": "stream",
     "text": [
      "\r",
      "Iteration:   3%|▎         | 5/154 [00:00<00:03, 43.50it/s]\r",
      "Iteration:  32%|███▏      | 50/154 [00:00<00:01, 67.18it/s]\r",
      "Iteration:  84%|████████▍ | 130/154 [00:01<00:00, 110.76it/s]\r",
      "Iteration:  55%|█████▌    | 85/154 [00:01<00:01, 45.54it/s]\r",
      "Iteration:  99%|█████████▊| 152/154 [00:03<00:00, 43.70it/s]\r",
      "Iteration:  37%|███▋      | 57/154 [00:00<00:01, 66.68it/s]\r",
      "Iteration:   6%|▋         | 10/154 [00:00<00:03, 39.47it/s]\r",
      "Iteration: 100%|██████████| 154/154 [00:03<00:00, 41.99it/s]\n",
      "\r",
      "Iteration:   0%|          | 0/154 [00:00<?, ?it/s]\r",
      "Iteration:  93%|█████████▎| 143/154 [00:01<00:00, 115.22it/s]"
     ]
    },
    {
     "name": "stdout",
     "output_type": "stream",
     "text": [
      "Evaluating...\n"
     ]
    },
    {
     "name": "stderr",
     "output_type": "stream",
     "text": [
      "Iteration: 100%|██████████| 154/154 [00:01<00:00, 116.66it/s]\n",
      "Iteration:  23%|██▎       | 35/154 [00:00<00:03, 36.33it/s]]"
     ]
    },
    {
     "name": "stdout",
     "output_type": "stream",
     "text": [
      "{'Train':  best_epoch_indx:26\n",
      " auc:0.8150260787911815 \n",
      " apur:0.7297754679699894 \n",
      " f1:0.6645891422010826 \n",
      " precision:0.6167427701674277 \n",
      " recall:0.7204836415362731 \n",
      ", 'Validation':  best_epoch_indx:26\n",
      " auc:0.8150260787911815 \n",
      " apur:0.7297754679699894 \n",
      " f1:0.6645891422010826 \n",
      " precision:0.6167427701674277 \n",
      " recall:0.7204836415362731 \n",
      ", 'Test':  best_epoch_indx:26\n",
      " auc:0.8150260787911815 \n",
      " apur:0.7297754679699894 \n",
      " f1:0.6645891422010826 \n",
      " precision:0.6167427701674277 \n",
      " recall:0.7204836415362731 \n",
      "}\n",
      "=====Epoch 27\n",
      "Training...\n"
     ]
    },
    {
     "name": "stderr",
     "output_type": "stream",
     "text": [
      "Iteration:  88%|████████▊ | 135/154 [00:02<00:00, 45.58it/s] \n",
      "Iteration: 100%|██████████| 154/154 [00:01<00:00, 120.44it/s]\n",
      "Iteration: 100%|██████████| 154/154 [00:03<00:00, 45.45it/s]\n",
      "Iteration:   8%|▊         | 12/154 [00:00<00:01, 111.54it/s]"
     ]
    },
    {
     "name": "stdout",
     "output_type": "stream",
     "text": [
      "Evaluating...\n"
     ]
    },
    {
     "name": "stderr",
     "output_type": "stream",
     "text": [
      "Iteration: 100%|██████████| 154/154 [00:01<00:00, 127.09it/s]\n",
      "Iteration: 100%|██████████| 154/154 [00:01<00:00, 128.69it/s]\n",
      "Iteration: 100%|██████████| 154/154 [00:02<00:00, 68.65it/s] \n",
      "Iteration: 100%|██████████| 154/154 [00:04<00:00, 36.14it/s]\n",
      "Iteration:   5%|▌         | 8/154 [00:00<00:01, 75.00it/s]]s]"
     ]
    },
    {
     "name": "stdout",
     "output_type": "stream",
     "text": [
      "Evaluating...\n",
      "Evaluating...\n"
     ]
    },
    {
     "name": "stderr",
     "output_type": "stream",
     "text": [
      "Iteration: 100%|██████████| 154/154 [00:03<00:00, 43.31it/s]]\n",
      "Iteration: 100%|██████████| 154/154 [00:01<00:00, 117.47it/s]\n",
      "Iteration: 100%|██████████| 154/154 [00:01<00:00, 116.37it/s]\n",
      "Iteration: 100%|██████████| 154/154 [00:01<00:00, 124.11it/s]\n",
      "Iteration: 100%|██████████| 154/154 [00:01<00:00, 85.32it/s] \n",
      "Iteration:  20%|██        | 31/154 [00:00<00:01, 73.72it/s]]"
     ]
    },
    {
     "name": "stdout",
     "output_type": "stream",
     "text": [
      "{'Train':  best_epoch_indx:25\n",
      " auc:0.8061138880465821 \n",
      " apur:0.7264444579684448 \n",
      " f1:0.6546608445661903 \n",
      " precision:0.60345 \n",
      " recall:0.715369569083042 \n",
      ", 'Validation':  best_epoch_indx:25\n",
      " auc:0.8061138880465821 \n",
      " apur:0.7264444579684448 \n",
      " f1:0.6546608445661903 \n",
      " precision:0.60345 \n",
      " recall:0.715369569083042 \n",
      ", 'Test':  best_epoch_indx:25\n",
      " auc:0.8061138880465821 \n",
      " apur:0.7264444579684448 \n",
      " f1:0.6546608445661903 \n",
      " precision:0.60345 \n",
      " recall:0.715369569083042 \n",
      "}\n",
      "=====Epoch 26\n",
      "Training...\n"
     ]
    },
    {
     "name": "stderr",
     "output_type": "stream",
     "text": [
      "Iteration: 100%|██████████| 154/154 [00:01<00:00, 78.43it/s] \n",
      "Iteration: 100%|██████████| 154/154 [00:01<00:00, 101.62it/s]\n",
      "Iteration: 100%|██████████| 154/154 [00:01<00:00, 118.10it/s]\n",
      "Iteration:  24%|██▍       | 37/154 [00:01<00:03, 34.23it/s]"
     ]
    },
    {
     "name": "stdout",
     "output_type": "stream",
     "text": [
      "{'Train':  best_epoch_indx:26\n",
      " auc:0.8092509674154124 \n",
      " apur:0.7283303666189352 \n",
      " f1:0.6559769237295325 \n",
      " precision:0.6272919032938504 \n",
      " recall:0.6874110953058321 \n",
      ", 'Validation':  best_epoch_indx:26\n",
      " auc:0.8092509674154124 \n",
      " apur:0.7283303666189352 \n",
      " f1:0.6559769237295325 \n",
      " precision:0.6272919032938504 \n",
      " recall:0.6874110953058321 \n",
      ", 'Test':  best_epoch_indx:26\n",
      " auc:0.8092509674154124 \n",
      " apur:0.7283303666189352 \n",
      " f1:0.6559769237295325 \n",
      " precision:0.6272919032938504 \n",
      " recall:0.6874110953058321 \n",
      "}\n",
      "=====Epoch 27\n",
      "Training...\n",
      "{'Train':  best_epoch_indx:26\n",
      " auc:0.8180851368452935 \n",
      " apur:0.7429767628758378 \n",
      " f1:0.6667393615571245 \n",
      " precision:0.6172521704017767 \n",
      " recall:0.7248532985596586 \n",
      ", 'Validation':  best_epoch_indx:26\n",
      " auc:0.8180851368452935 \n",
      " apur:0.7429767628758378 \n",
      " f1:0.6667393615571245 \n",
      " precision:0.6172521704017767 \n",
      " recall:0.7248532985596586 \n",
      ", 'Test':  best_epoch_indx:26\n",
      " auc:0.8180851368452935 \n",
      " apur:0.7429767628758378 \n",
      " f1:0.6667393615571245 \n",
      " precision:0.6172521704017767 \n",
      " recall:0.7248532985596586 \n",
      "}\n",
      "=====Epoch 27\n",
      "Training...\n"
     ]
    },
    {
     "name": "stderr",
     "output_type": "stream",
     "text": [
      "Iteration: 100%|██████████| 154/154 [00:01<00:00, 81.11it/s] \n",
      "Iteration: 100%|██████████| 154/154 [00:01<00:00, 125.69it/s]\n",
      "Iteration: 100%|██████████| 154/154 [00:03<00:00, 40.38it/s]]\n",
      "Iteration:  91%|█████████ | 140/154 [00:01<00:00, 124.05it/s]"
     ]
    },
    {
     "name": "stdout",
     "output_type": "stream",
     "text": [
      "{'Train':  best_epoch_indx:27\n",
      " auc:0.827187616869166 \n",
      " apur:0.74951118654433 \n",
      " f1:0.6782187247570161 \n",
      " precision:0.6051615903278308 \n",
      " recall:0.7713371266002845 \n",
      ", 'Validation':  best_epoch_indx:27\n",
      " auc:0.827187616869166 \n",
      " apur:0.74951118654433 \n",
      " f1:0.6782187247570161 \n",
      " precision:0.6051615903278308 \n",
      " recall:0.7713371266002845 \n",
      ", 'Test':  best_epoch_indx:27\n",
      " auc:0.827187616869166 \n",
      " apur:0.74951118654433 \n",
      " f1:0.6782187247570161 \n",
      " precision:0.6051615903278308 \n",
      " recall:0.7713371266002845 \n",
      "}\n",
      "=====Epoch 28\n",
      "Training...\n",
      "Evaluating...\n"
     ]
    },
    {
     "name": "stderr",
     "output_type": "stream",
     "text": [
      "Iteration: 100%|██████████| 154/154 [00:01<00:00, 99.36it/s] \n",
      "Iteration:   3%|▎         | 5/154 [00:00<00:03, 42.77it/s]s]\n",
      "Iteration:   0%|          | 0/154 [00:00<?, ?it/s]"
     ]
    },
    {
     "name": "stdout",
     "output_type": "stream",
     "text": [
      "{'Train':  best_epoch_indx:27\n",
      " auc:0.8308209221470413 \n",
      " apur:0.7561736353810944 \n",
      " f1:0.6813331144311279 \n",
      " precision:0.6327827191867853 \n",
      " recall:0.7379526998992354 \n",
      ", 'Validation':  best_epoch_indx:27\n",
      " auc:0.8308209221470413 \n",
      " apur:0.7561736353810944 \n",
      " f1:0.6813331144311279 \n",
      " precision:0.6327827191867853 \n",
      " recall:0.7379526998992354 \n",
      ", 'Test':  best_epoch_indx:27\n",
      " auc:0.8308209221470413 \n",
      " apur:0.7561736353810944 \n",
      " f1:0.6813331144311279 \n",
      " precision:0.6327827191867853 \n",
      " recall:0.7379526998992354 \n",
      "}\n",
      "=====Epoch 28\n",
      "Training...\n",
      "Evaluating...\n"
     ]
    },
    {
     "name": "stderr",
     "output_type": "stream",
     "text": [
      "Iteration: 100%|██████████| 154/154 [00:03<00:00, 41.50it/s]\n",
      "Iteration:   8%|▊         | 12/154 [00:00<00:01, 111.52it/s]"
     ]
    },
    {
     "name": "stdout",
     "output_type": "stream",
     "text": [
      "Evaluating...\n"
     ]
    },
    {
     "name": "stderr",
     "output_type": "stream",
     "text": [
      "Iteration: 100%|██████████| 154/154 [00:01<00:00, 102.00it/s]\n",
      "Iteration: 100%|██████████| 154/154 [00:01<00:00, 124.09it/s]\n",
      "Iteration: 100%|██████████| 154/154 [00:01<00:00, 126.23it/s]\n",
      "Iteration: 100%|██████████| 154/154 [00:01<00:00, 118.06it/s]\n",
      "Iteration: 100%|██████████| 154/154 [00:01<00:00, 120.66it/s]\n",
      "Iteration: 100%|██████████| 154/154 [00:04<00:00, 37.38it/s]\n",
      "Iteration:   4%|▍         | 6/154 [00:00<00:02, 59.12it/s]s]"
     ]
    },
    {
     "name": "stdout",
     "output_type": "stream",
     "text": [
      "Evaluating...\n"
     ]
    },
    {
     "name": "stderr",
     "output_type": "stream",
     "text": [
      "\r",
      "Iteration:  90%|█████████ | 139/154 [00:01<00:00, 104.09it/s]\r",
      "Iteration:   0%|          | 0/154 [00:00<?, ?it/s]\r",
      "Iteration:  98%|█████████▊| 151/154 [00:03<00:00, 45.62it/s]\r",
      "Iteration:   9%|▉         | 14/154 [00:00<00:02, 68.92it/s]\r",
      "Iteration: 100%|██████████| 154/154 [00:03<00:00, 40.80it/s]\n",
      "\r",
      "Iteration:   0%|          | 0/154 [00:00<?, ?it/s]\r",
      "Iteration:  99%|█████████▊| 152/154 [00:01<00:00, 106.38it/s]\r",
      "Iteration:   5%|▍         | 7/154 [00:00<00:02, 68.31it/s]\r",
      "Iteration: 100%|██████████| 154/154 [00:01<00:00, 79.15it/s] \n",
      "\r",
      "Iteration:  16%|█▌        | 24/154 [00:00<00:01, 81.77it/s]"
     ]
    },
    {
     "name": "stdout",
     "output_type": "stream",
     "text": [
      "Evaluating...\n"
     ]
    },
    {
     "name": "stderr",
     "output_type": "stream",
     "text": [
      "Iteration: 100%|██████████| 154/154 [00:01<00:00, 115.01it/s]\n",
      "Iteration: 100%|██████████| 154/154 [00:01<00:00, 126.31it/s]\n",
      "Iteration: 100%|██████████| 154/154 [00:01<00:00, 107.85it/s]\n",
      "Iteration:  13%|█▎        | 20/154 [00:00<00:01, 96.12it/s]]"
     ]
    },
    {
     "name": "stdout",
     "output_type": "stream",
     "text": [
      "{'Train':  best_epoch_indx:26\n",
      " auc:0.8184735621676756 \n",
      " apur:0.7399176928054724 \n",
      " f1:0.6617583369423992 \n",
      " precision:0.6451249718531862 \n",
      " recall:0.6792721237626697 \n",
      ", 'Validation':  best_epoch_indx:26\n",
      " auc:0.8184735621676756 \n",
      " apur:0.7399176928054724 \n",
      " f1:0.6617583369423992 \n",
      " precision:0.6451249718531862 \n",
      " recall:0.6792721237626697 \n",
      ", 'Test':  best_epoch_indx:26\n",
      " auc:0.8184735621676756 \n",
      " apur:0.7399176928054724 \n",
      " f1:0.6617583369423992 \n",
      " precision:0.6451249718531862 \n",
      " recall:0.6792721237626697 \n",
      "}\n",
      "=====Epoch 27\n",
      "Training...\n"
     ]
    },
    {
     "name": "stderr",
     "output_type": "stream",
     "text": [
      "Iteration: 100%|██████████| 154/154 [00:01<00:00, 89.67it/s] \n",
      "Iteration: 100%|██████████| 154/154 [00:01<00:00, 119.64it/s]\n",
      "Iteration:   3%|▎         | 4/154 [00:00<00:03, 38.24it/s]]s]"
     ]
    },
    {
     "name": "stdout",
     "output_type": "stream",
     "text": [
      "{'Train':  best_epoch_indx:27\n",
      " auc:0.8271231920712928 \n",
      " apur:0.7532978681070155 \n",
      " f1:0.676112819141826 \n",
      " precision:0.6158079283140158 \n",
      " recall:0.749510995198862 \n",
      ", 'Validation':  best_epoch_indx:27\n",
      " auc:0.8271231920712928 \n",
      " apur:0.7532978681070155 \n",
      " f1:0.676112819141826 \n",
      " precision:0.6158079283140158 \n",
      " recall:0.749510995198862 \n",
      ", 'Test':  best_epoch_indx:27\n",
      " auc:0.8271231920712928 \n",
      " apur:0.7532978681070155 \n",
      " f1:0.676112819141826 \n",
      " precision:0.6158079283140158 \n",
      " recall:0.749510995198862 \n",
      "}\n",
      "=====Epoch 28\n",
      "Training...\n"
     ]
    },
    {
     "name": "stderr",
     "output_type": "stream",
     "text": [
      "Iteration: 100%|██████████| 154/154 [00:01<00:00, 122.54it/s]\n",
      "Iteration:  96%|█████████▌| 148/154 [00:01<00:00, 118.29it/s]"
     ]
    },
    {
     "name": "stdout",
     "output_type": "stream",
     "text": [
      "{'Train':  best_epoch_indx:27\n",
      " auc:0.8229505524556542 \n",
      " apur:0.7450919055047346 \n",
      " f1:0.6767531219980788 \n",
      " precision:0.6154630168899243 \n",
      " recall:0.7516002844950214 \n",
      ", 'Validation':  best_epoch_indx:27\n",
      " auc:0.8229505524556542 \n",
      " apur:0.7450919055047346 \n",
      " f1:0.6767531219980788 \n",
      " precision:0.6154630168899243 \n",
      " recall:0.7516002844950214 \n",
      ", 'Test':  best_epoch_indx:27\n",
      " auc:0.8229505524556542 \n",
      " apur:0.7450919055047346 \n",
      " f1:0.6767531219980788 \n",
      " precision:0.6154630168899243 \n",
      " recall:0.7516002844950214 \n",
      "}\n",
      "=====Epoch 28\n",
      "Training...\n"
     ]
    },
    {
     "name": "stderr",
     "output_type": "stream",
     "text": [
      "Iteration: 100%|██████████| 154/154 [00:01<00:00, 87.65it/s] \n",
      "Iteration: 100%|██████████| 154/154 [00:01<00:00, 108.40it/s]\n",
      "Iteration: 100%|██████████| 154/154 [00:03<00:00, 41.87it/s]\n",
      "Iteration:  60%|█████▉    | 92/154 [00:02<00:01, 38.99it/s]]"
     ]
    },
    {
     "name": "stdout",
     "output_type": "stream",
     "text": [
      "Evaluating...\n",
      "{'Train':  best_epoch_indx:28\n",
      " auc:0.8416360855874228 \n",
      " apur:0.7689904869163212 \n",
      " f1:0.6922285961684165 \n",
      " precision:0.6368434154841922 \n",
      " recall:0.7581648983462747 \n",
      ", 'Validation':  best_epoch_indx:28\n",
      " auc:0.8416360855874228 \n",
      " apur:0.7689904869163212 \n",
      " f1:0.6922285961684165 \n",
      " precision:0.6368434154841922 \n",
      " recall:0.7581648983462747 \n",
      ", 'Test':  best_epoch_indx:28\n",
      " auc:0.8416360855874228 \n",
      " apur:0.7689904869163212 \n",
      " f1:0.6922285961684165 \n",
      " precision:0.6368434154841922 \n",
      " recall:0.7581648983462747 \n",
      "}\n",
      "=====Epoch 29\n",
      "Training...\n"
     ]
    },
    {
     "name": "stderr",
     "output_type": "stream",
     "text": [
      "Iteration: 100%|██████████| 154/154 [00:01<00:00, 79.13it/s] \n",
      "Iteration: 100%|██████████| 154/154 [00:03<00:00, 41.56it/s]]\n",
      "Iteration:  81%|████████  | 125/154 [00:03<00:00, 37.34it/s]"
     ]
    },
    {
     "name": "stdout",
     "output_type": "stream",
     "text": [
      "Evaluating...\n"
     ]
    },
    {
     "name": "stderr",
     "output_type": "stream",
     "text": [
      "\r",
      "Iteration:  75%|███████▍  | 115/154 [00:00<00:00, 127.11it/s]\r",
      "Iteration:   7%|▋         | 11/154 [00:00<00:01, 109.82it/s]\r",
      "Iteration:  25%|██▍       | 38/154 [00:00<00:03, 37.72it/s]\r",
      "Iteration:  83%|████████▎ | 128/154 [00:01<00:00, 127.12it/s]\r",
      "Iteration:  84%|████████▍ | 129/154 [00:03<00:00, 36.27it/s]\r",
      "Iteration:   0%|          | 0/154 [00:00<?, ?it/s]\r",
      "Iteration:  16%|█▌        | 24/154 [00:00<00:01, 120.40it/s]\r",
      "Iteration:  28%|██▊       | 43/154 [00:01<00:02, 40.43it/s]"
     ]
    },
    {
     "name": "stdout",
     "output_type": "stream",
     "text": [
      "{'Train':  best_epoch_indx:28\n",
      " auc:0.8385499095931356 \n",
      " apur:0.763188746863145 \n",
      " f1:0.6914407875636729 \n",
      " precision:0.6232573630870248 \n",
      " recall:0.7763750592697961 \n",
      ", 'Validation':  best_epoch_indx:28\n",
      " auc:0.8385499095931356 \n",
      " apur:0.763188746863145 \n",
      " f1:0.6914407875636729 \n",
      " precision:0.6232573630870248 \n",
      " recall:0.7763750592697961 \n",
      ", 'Test':  best_epoch_indx:28\n",
      " auc:0.8385499095931356 \n",
      " apur:0.763188746863145 \n",
      " f1:0.6914407875636729 \n",
      " precision:0.6232573630870248 \n",
      " recall:0.7763750592697961 \n",
      "}\n",
      "=====Epoch 29\n",
      "Training...\n"
     ]
    },
    {
     "name": "stderr",
     "output_type": "stream",
     "text": [
      "Iteration: 100%|██████████| 154/154 [00:01<00:00, 125.18it/s]\n",
      "Iteration: 100%|██████████| 154/154 [00:04<00:00, 38.20it/s]\n",
      "Iteration:   0%|          | 0/154 [00:00<?, ?it/s]9.41it/s]s]"
     ]
    },
    {
     "name": "stdout",
     "output_type": "stream",
     "text": [
      "Evaluating...\n"
     ]
    },
    {
     "name": "stderr",
     "output_type": "stream",
     "text": [
      "Iteration: 100%|██████████| 154/154 [00:01<00:00, 126.72it/s]\n",
      "Iteration: 100%|██████████| 154/154 [00:01<00:00, 120.02it/s]\n",
      "Iteration: 100%|██████████| 154/154 [00:03<00:00, 43.16it/s]]\n",
      "Iteration:  78%|███████▊  | 120/154 [00:01<00:00, 56.32it/s]"
     ]
    },
    {
     "name": "stdout",
     "output_type": "stream",
     "text": [
      "Evaluating...\n"
     ]
    },
    {
     "name": "stderr",
     "output_type": "stream",
     "text": [
      "Iteration: 100%|██████████| 154/154 [00:01<00:00, 124.64it/s]\n",
      "Iteration: 100%|██████████| 154/154 [00:02<00:00, 65.66it/s]\n",
      "Iteration: 100%|██████████| 154/154 [00:01<00:00, 126.31it/s]\n",
      "Iteration: 100%|██████████| 154/154 [00:01<00:00, 124.93it/s]\n",
      "Iteration: 100%|██████████| 154/154 [00:04<00:00, 38.14it/s]\n",
      "Iteration:   6%|▋         | 10/154 [00:00<00:01, 94.03it/s]"
     ]
    },
    {
     "name": "stdout",
     "output_type": "stream",
     "text": [
      "Evaluating...\n"
     ]
    },
    {
     "name": "stderr",
     "output_type": "stream",
     "text": [
      "Iteration: 100%|██████████| 154/154 [00:01<00:00, 103.37it/s]\n",
      "Iteration: 100%|██████████| 154/154 [00:01<00:00, 121.51it/s]\n",
      "Iteration:  41%|████      | 63/154 [00:01<00:01, 68.04it/s]s]"
     ]
    },
    {
     "name": "stdout",
     "output_type": "stream",
     "text": [
      "{'Train':  best_epoch_indx:28\n",
      " auc:0.8389151972018387 \n",
      " apur:0.7652850181910248 \n",
      " f1:0.6870641169853768 \n",
      " precision:0.6536465300444112 \n",
      " recall:0.7240827455396834 \n",
      ", 'Validation':  best_epoch_indx:28\n",
      " auc:0.8389151972018387 \n",
      " apur:0.7652850181910248 \n",
      " f1:0.6870641169853768 \n",
      " precision:0.6536465300444112 \n",
      " recall:0.7240827455396834 \n",
      ", 'Test':  best_epoch_indx:28\n",
      " auc:0.8389151972018387 \n",
      " apur:0.7652850181910248 \n",
      " f1:0.6870641169853768 \n",
      " precision:0.6536465300444112 \n",
      " recall:0.7240827455396834 \n",
      "}\n",
      "=====Epoch 29\n",
      "Training...\n"
     ]
    },
    {
     "name": "stderr",
     "output_type": "stream",
     "text": [
      "Iteration: 100%|██████████| 154/154 [00:01<00:00, 115.72it/s]\n",
      "Iteration: 100%|██████████| 154/154 [00:01<00:00, 92.05it/s] \n",
      "Iteration:  15%|█▍        | 23/154 [00:00<00:03, 39.66it/s]]"
     ]
    },
    {
     "name": "stdout",
     "output_type": "stream",
     "text": [
      "{'Train':  best_epoch_indx:27\n",
      " auc:0.8243266209585168 \n",
      " apur:0.7474698590126971 \n",
      " f1:0.6746340661147963 \n",
      " precision:0.6275049716995563 \n",
      " recall:0.7294173433702804 \n",
      ", 'Validation':  best_epoch_indx:27\n",
      " auc:0.8243266209585168 \n",
      " apur:0.7474698590126971 \n",
      " f1:0.6746340661147963 \n",
      " precision:0.6275049716995563 \n",
      " recall:0.7294173433702804 \n",
      ", 'Test':  best_epoch_indx:27\n",
      " auc:0.8243266209585168 \n",
      " apur:0.7474698590126971 \n",
      " f1:0.6746340661147963 \n",
      " precision:0.6275049716995563 \n",
      " recall:0.7294173433702804 \n",
      "}\n",
      "=====Epoch 28\n",
      "Training...\n"
     ]
    },
    {
     "name": "stderr",
     "output_type": "stream",
     "text": [
      "Iteration: 100%|██████████| 154/154 [00:02<00:00, 70.17it/s]\n",
      "Iteration:  84%|████████▍ | 129/154 [00:01<00:00, 75.70it/s]"
     ]
    },
    {
     "name": "stdout",
     "output_type": "stream",
     "text": [
      "{'Train':  best_epoch_indx:28\n",
      " auc:0.8311869377701278 \n",
      " apur:0.7551495454613506 \n",
      " f1:0.6816793088916984 \n",
      " precision:0.6134338263177853 \n",
      " recall:0.7670104314841157 \n",
      ", 'Validation':  best_epoch_indx:28\n",
      " auc:0.8311869377701278 \n",
      " apur:0.7551495454613506 \n",
      " f1:0.6816793088916984 \n",
      " precision:0.6134338263177853 \n",
      " recall:0.7670104314841157 \n",
      ", 'Test':  best_epoch_indx:28\n",
      " auc:0.8311869377701278 \n",
      " apur:0.7551495454613506 \n",
      " f1:0.6816793088916984 \n",
      " precision:0.6134338263177853 \n",
      " recall:0.7670104314841157 \n",
      "}\n",
      "=====Epoch 29\n",
      "Training...\n"
     ]
    },
    {
     "name": "stderr",
     "output_type": "stream",
     "text": [
      "Iteration: 100%|██████████| 154/154 [00:01<00:00, 88.35it/s]\n",
      "Iteration: 100%|██████████| 154/154 [00:01<00:00, 112.89it/s]\n",
      "Iteration:   0%|          | 0/154 [00:00<?, ?it/s]45.43it/s]"
     ]
    },
    {
     "name": "stdout",
     "output_type": "stream",
     "text": [
      "{'Train':  best_epoch_indx:29\n",
      " auc:0.8500072923218834 \n",
      " apur:0.7803224784238096 \n",
      " f1:0.7008476214141749 \n",
      " precision:0.6559851147405417 \n",
      " recall:0.7522968407326182 \n",
      ", 'Validation':  best_epoch_indx:29\n",
      " auc:0.8500072923218834 \n",
      " apur:0.7803224784238096 \n",
      " f1:0.7008476214141749 \n",
      " precision:0.6559851147405417 \n",
      " recall:0.7522968407326182 \n",
      ", 'Test':  best_epoch_indx:29\n",
      " auc:0.8500072923218834 \n",
      " apur:0.7803224784238096 \n",
      " f1:0.7008476214141749 \n",
      " precision:0.6559851147405417 \n",
      " recall:0.7522968407326182 \n",
      "}\n",
      "=====Epoch 30\n",
      "Training...\n"
     ]
    },
    {
     "name": "stderr",
     "output_type": "stream",
     "text": [
      "Iteration: 100%|██████████| 154/154 [00:03<00:00, 43.60it/s]\n",
      "Iteration:  14%|█▍        | 22/154 [00:00<00:02, 46.38it/s]]"
     ]
    },
    {
     "name": "stdout",
     "output_type": "stream",
     "text": [
      "Evaluating...\n"
     ]
    },
    {
     "name": "stderr",
     "output_type": "stream",
     "text": [
      "Iteration: 100%|██████████| 154/154 [00:03<00:00, 43.69it/s]\n",
      "Iteration:  27%|██▋       | 42/154 [00:00<00:02, 45.84it/s]"
     ]
    },
    {
     "name": "stdout",
     "output_type": "stream",
     "text": [
      "Evaluating...\n"
     ]
    },
    {
     "name": "stderr",
     "output_type": "stream",
     "text": [
      "Iteration: 100%|██████████| 154/154 [00:01<00:00, 125.23it/s]\n",
      "Iteration: 100%|██████████| 154/154 [00:01<00:00, 124.03it/s]\n",
      "Iteration: 100%|██████████| 154/154 [00:02<00:00, 70.96it/s]\n",
      "Iteration: 100%|██████████| 154/154 [00:04<00:00, 37.37it/s]\n",
      "Iteration:  76%|███████▌  | 117/154 [00:02<00:00, 45.70it/s]"
     ]
    },
    {
     "name": "stdout",
     "output_type": "stream",
     "text": [
      "Evaluating...\n"
     ]
    },
    {
     "name": "stderr",
     "output_type": "stream",
     "text": [
      "Iteration:   4%|▍         | 6/154 [00:00<00:02, 50.12it/s]s]"
     ]
    },
    {
     "name": "stdout",
     "output_type": "stream",
     "text": [
      "{'Train':  best_epoch_indx:29\n",
      " auc:0.847297366460223 \n",
      " apur:0.7747264863056715 \n",
      " f1:0.6989985060587617 \n",
      " precision:0.6554425651136245 \n",
      " recall:0.7487553342816501 \n",
      ", 'Validation':  best_epoch_indx:29\n",
      " auc:0.847297366460223 \n",
      " apur:0.7747264863056715 \n",
      " f1:0.6989985060587617 \n",
      " precision:0.6554425651136245 \n",
      " recall:0.7487553342816501 \n",
      ", 'Test':  best_epoch_indx:29\n",
      " auc:0.847297366460223 \n",
      " apur:0.7747264863056715 \n",
      " f1:0.6989985060587617 \n",
      " precision:0.6554425651136245 \n",
      " recall:0.7487553342816501 \n",
      "}\n",
      "=====Epoch 30\n",
      "Training...\n"
     ]
    },
    {
     "name": "stderr",
     "output_type": "stream",
     "text": [
      "Iteration: 100%|██████████| 154/154 [00:03<00:00, 45.88it/s]]\n",
      "Iteration:  55%|█████▍    | 84/154 [00:00<00:00, 115.69it/s]"
     ]
    },
    {
     "name": "stdout",
     "output_type": "stream",
     "text": [
      "Evaluating...\n"
     ]
    },
    {
     "name": "stderr",
     "output_type": "stream",
     "text": [
      "Iteration: 100%|██████████| 154/154 [00:01<00:00, 105.76it/s]\n",
      "Iteration: 100%|██████████| 154/154 [00:01<00:00, 109.13it/s]\n",
      "Iteration: 100%|██████████| 154/154 [00:02<00:00, 76.80it/s]]\n",
      "Iteration: 100%|██████████| 154/154 [00:01<00:00, 119.89it/s]\n",
      "Iteration: 100%|██████████| 154/154 [00:01<00:00, 100.27it/s]\n",
      "Iteration: 100%|██████████| 154/154 [00:01<00:00, 90.87it/s] \n",
      "Iteration: 100%|██████████| 154/154 [00:03<00:00, 43.44it/s]]\n",
      "Iteration:   0%|          | 0/154 [00:00<?, ?it/s]"
     ]
    },
    {
     "name": "stdout",
     "output_type": "stream",
     "text": [
      "Evaluating...\n",
      "{'Train':  best_epoch_indx:29\n",
      " auc:0.8479835999415126 \n",
      " apur:0.7786184671355051 \n",
      " f1:0.6993623509841973 \n",
      " precision:0.6569613000677118 \n",
      " recall:0.7476142493035386 \n",
      ", 'Validation':  best_epoch_indx:29\n",
      " auc:0.8479835999415126 \n",
      " apur:0.7786184671355051 \n",
      " f1:0.6993623509841973 \n",
      " precision:0.6569613000677118 \n",
      " recall:0.7476142493035386 \n",
      ", 'Test':  best_epoch_indx:29\n",
      " auc:0.8479835999415126 \n",
      " apur:0.7786184671355051 \n",
      " f1:0.6993623509841973 \n",
      " precision:0.6569613000677118 \n",
      " recall:0.7476142493035386 \n",
      "}\n",
      "=====Epoch 30\n",
      "Training...\n"
     ]
    },
    {
     "name": "stderr",
     "output_type": "stream",
     "text": [
      "Iteration: 100%|██████████| 154/154 [00:01<00:00, 94.98it/s] \n",
      "Iteration: 100%|██████████| 154/154 [00:01<00:00, 103.46it/s]\n",
      "Iteration:  38%|███▊      | 59/154 [00:00<00:00, 106.19it/s]]"
     ]
    },
    {
     "name": "stdout",
     "output_type": "stream",
     "text": [
      "{'Train':  best_epoch_indx:28\n",
      " auc:0.8395928208201838 \n",
      " apur:0.7660876825766693 \n",
      " f1:0.6925759840558047 \n",
      " precision:0.6210610478788449 \n",
      " recall:0.7827040483670203 \n",
      ", 'Validation':  best_epoch_indx:28\n",
      " auc:0.8395928208201838 \n",
      " apur:0.7660876825766693 \n",
      " f1:0.6925759840558047 \n",
      " precision:0.6210610478788449 \n",
      " recall:0.7827040483670203 \n",
      ", 'Test':  best_epoch_indx:28\n",
      " auc:0.8395928208201838 \n",
      " apur:0.7660876825766693 \n",
      " f1:0.6925759840558047 \n",
      " precision:0.6210610478788449 \n",
      " recall:0.7827040483670203 \n",
      "}\n",
      "=====Epoch 29\n",
      "Training...\n"
     ]
    },
    {
     "name": "stderr",
     "output_type": "stream",
     "text": [
      "Iteration: 100%|██████████| 154/154 [00:01<00:00, 116.85it/s]\n",
      "Iteration: 100%|██████████| 154/154 [00:01<00:00, 104.05it/s]\n",
      "Iteration:  33%|███▎      | 51/154 [00:01<00:02, 40.36it/s]s]"
     ]
    },
    {
     "name": "stdout",
     "output_type": "stream",
     "text": [
      "{'Train':  best_epoch_indx:29\n",
      " auc:0.8430105684428872 \n",
      " apur:0.770831041490945 \n",
      " f1:0.6955612427419576 \n",
      " precision:0.6492012123080084 \n",
      " recall:0.7490516832622096 \n",
      ", 'Validation':  best_epoch_indx:29\n",
      " auc:0.8430105684428872 \n",
      " apur:0.770831041490945 \n",
      " f1:0.6955612427419576 \n",
      " precision:0.6492012123080084 \n",
      " recall:0.7490516832622096 \n",
      ", 'Test':  best_epoch_indx:29\n",
      " auc:0.8430105684428872 \n",
      " apur:0.770831041490945 \n",
      " f1:0.6955612427419576 \n",
      " precision:0.6492012123080084 \n",
      " recall:0.7490516832622096 \n",
      "}\n",
      "=====Epoch 30\n",
      "Training...\n"
     ]
    },
    {
     "name": "stderr",
     "output_type": "stream",
     "text": [
      "Iteration: 100%|██████████| 154/154 [00:01<00:00, 113.47it/s]\n",
      "Iteration:  14%|█▍        | 22/154 [00:00<00:03, 35.22it/s]]]"
     ]
    },
    {
     "name": "stdout",
     "output_type": "stream",
     "text": [
      "{'Train':  best_epoch_indx:30\n",
      " auc:0.8492904015771048 \n",
      " apur:0.7804844145325602 \n",
      " f1:0.6994193836534167 \n",
      " precision:0.6610035350604127 \n",
      " recall:0.742576018019086 \n",
      ", 'Validation':  best_epoch_indx:30\n",
      " auc:0.8492904015771048 \n",
      " apur:0.7804844145325602 \n",
      " f1:0.6994193836534167 \n",
      " precision:0.6610035350604127 \n",
      " recall:0.742576018019086 \n",
      ", 'Test':  best_epoch_indx:30\n",
      " auc:0.8492904015771048 \n",
      " apur:0.7804844145325602 \n",
      " f1:0.6994193836534167 \n",
      " precision:0.6610035350604127 \n",
      " recall:0.742576018019086 \n",
      "}\n",
      "=====Epoch 31\n",
      "Training...\n"
     ]
    },
    {
     "name": "stderr",
     "output_type": "stream",
     "text": [
      "Iteration: 100%|██████████| 154/154 [00:01<00:00, 105.61it/s]\n",
      "Iteration: 100%|██████████| 154/154 [00:03<00:00, 42.34it/s]\n",
      "Iteration:  69%|██████▉   | 107/154 [00:02<00:01, 36.41it/s]"
     ]
    },
    {
     "name": "stdout",
     "output_type": "stream",
     "text": [
      "Evaluating...\n"
     ]
    },
    {
     "name": "stderr",
     "output_type": "stream",
     "text": [
      "Iteration: 100%|██████████| 154/154 [00:01<00:00, 116.09it/s]\n",
      "Iteration: 100%|██████████| 154/154 [00:04<00:00, 36.52it/s]]\n",
      "Iteration: 100%|██████████| 154/154 [00:01<00:00, 126.24it/s]\n",
      "Iteration:   4%|▍         | 6/154 [00:00<00:02, 51.15it/s]"
     ]
    },
    {
     "name": "stdout",
     "output_type": "stream",
     "text": [
      "Evaluating...\n"
     ]
    },
    {
     "name": "stderr",
     "output_type": "stream",
     "text": [
      "Iteration:  29%|██▊       | 44/154 [00:00<00:01, 92.77it/s]]"
     ]
    },
    {
     "name": "stdout",
     "output_type": "stream",
     "text": [
      "{'Train':  best_epoch_indx:30\n",
      " auc:0.8476760001104665 \n",
      " apur:0.7768173223024798 \n",
      " f1:0.6989686709476552 \n",
      " precision:0.6581854353175226 \n",
      " recall:0.7451398767188241 \n",
      ", 'Validation':  best_epoch_indx:30\n",
      " auc:0.8476760001104665 \n",
      " apur:0.7768173223024798 \n",
      " f1:0.6989686709476552 \n",
      " precision:0.6581854353175226 \n",
      " recall:0.7451398767188241 \n",
      ", 'Test':  best_epoch_indx:30\n",
      " auc:0.8476760001104665 \n",
      " apur:0.7768173223024798 \n",
      " f1:0.6989686709476552 \n",
      " precision:0.6581854353175226 \n",
      " recall:0.7451398767188241 \n",
      "}\n",
      "=====Epoch 31\n",
      "Training...\n",
      "Evaluating...\n"
     ]
    },
    {
     "name": "stderr",
     "output_type": "stream",
     "text": [
      "Iteration: 100%|██████████| 154/154 [00:03<00:00, 43.85it/s]\n",
      "Iteration: 100%|██████████| 154/154 [00:01<00:00, 109.73it/s]\n",
      "Iteration: 100%|██████████| 154/154 [00:01<00:00, 111.83it/s]\n",
      "Iteration: 100%|██████████| 154/154 [00:04<00:00, 37.01it/s]]\n",
      "Iteration: 100%|██████████| 154/154 [00:01<00:00, 117.48it/s]\n",
      "Iteration:  32%|███▏      | 49/154 [00:01<00:02, 35.55it/s]]"
     ]
    },
    {
     "name": "stdout",
     "output_type": "stream",
     "text": [
      "Evaluating...\n"
     ]
    },
    {
     "name": "stderr",
     "output_type": "stream",
     "text": [
      "Iteration: 100%|██████████| 154/154 [00:01<00:00, 127.63it/s]\n",
      "Iteration: 100%|██████████| 154/154 [00:01<00:00, 105.46it/s]\n",
      "Iteration: 100%|██████████| 154/154 [00:01<00:00, 122.87it/s]\n",
      "Iteration: 100%|██████████| 154/154 [00:01<00:00, 88.72it/s] \n",
      "Iteration: 100%|██████████| 154/154 [00:04<00:00, 38.08it/s]\n",
      "Iteration:   0%|          | 0/154 [00:00<?, ?it/s]"
     ]
    },
    {
     "name": "stdout",
     "output_type": "stream",
     "text": [
      "Evaluating...\n",
      "{'Train':  best_epoch_indx:30\n",
      " auc:0.8464782674034542 \n",
      " apur:0.7776355054925926 \n",
      " f1:0.6973803567992524 \n",
      " precision:0.6502460529013738 \n",
      " recall:0.7518819275680161 \n",
      ", 'Validation':  best_epoch_indx:30\n",
      " auc:0.8464782674034542 \n",
      " apur:0.7776355054925926 \n",
      " f1:0.6973803567992524 \n",
      " precision:0.6502460529013738 \n",
      " recall:0.7518819275680161 \n",
      ", 'Test':  best_epoch_indx:30\n",
      " auc:0.8464782674034542 \n",
      " apur:0.7776355054925926 \n",
      " f1:0.6973803567992524 \n",
      " precision:0.6502460529013738 \n",
      " recall:0.7518819275680161 \n",
      "}\n",
      "=====Epoch 31\n",
      "Training...\n"
     ]
    },
    {
     "name": "stderr",
     "output_type": "stream",
     "text": [
      "Iteration: 100%|██████████| 154/154 [00:01<00:00, 108.58it/s]\n",
      "Iteration: 100%|██████████| 154/154 [00:01<00:00, 115.70it/s]\n"
     ]
    },
    {
     "name": "stdout",
     "output_type": "stream",
     "text": [
      "{'Train':  best_epoch_indx:29\n",
      " auc:0.8475177000821881 \n",
      " apur:0.7765701050453557 \n",
      " f1:0.6974353212168882 \n",
      " precision:0.6628577530969672 \n",
      " recall:0.7358188607669967 \n",
      ", 'Validation':  best_epoch_indx:29\n",
      " auc:0.8475177000821881 \n",
      " apur:0.7765701050453557 \n",
      " f1:0.6974353212168882 \n",
      " precision:0.6628577530969672 \n",
      " recall:0.7358188607669967 \n",
      ", 'Test':  best_epoch_indx:29\n",
      " auc:0.8475177000821881 \n",
      " apur:0.7765701050453557 \n",
      " f1:0.6974353212168882 \n",
      " precision:0.6628577530969672 \n",
      " recall:0.7358188607669967 \n",
      "}\n",
      "=====Epoch 30\n",
      "Training...\n"
     ]
    },
    {
     "name": "stderr",
     "output_type": "stream",
     "text": [
      "Iteration: 100%|██████████| 154/154 [00:02<00:00, 67.34it/s]]\n",
      "Iteration: 100%|██████████| 154/154 [00:01<00:00, 85.65it/s] \n",
      "Iteration:  25%|██▌       | 39/154 [00:00<00:01, 69.14it/s]"
     ]
    },
    {
     "name": "stdout",
     "output_type": "stream",
     "text": [
      "{'Train':  best_epoch_indx:30\n",
      " auc:0.8449432384317686 \n",
      " apur:0.7729742140049185 \n",
      " f1:0.6982512442546711 \n",
      " precision:0.6451726390913203 \n",
      " recall:0.760846372688478 \n",
      ", 'Validation':  best_epoch_indx:30\n",
      " auc:0.8449432384317686 \n",
      " apur:0.7729742140049185 \n",
      " f1:0.6982512442546711 \n",
      " precision:0.6451726390913203 \n",
      " recall:0.760846372688478 \n",
      ", 'Test':  best_epoch_indx:30\n",
      " auc:0.8449432384317686 \n",
      " apur:0.7729742140049185 \n",
      " f1:0.6982512442546711 \n",
      " precision:0.6451726390913203 \n",
      " recall:0.760846372688478 \n",
      "}\n",
      "=====Epoch 31\n",
      "Training...\n"
     ]
    },
    {
     "name": "stderr",
     "output_type": "stream",
     "text": [
      "Iteration: 100%|██████████| 154/154 [00:03<00:00, 44.64it/s]\n",
      "Iteration:   8%|▊         | 12/154 [00:00<00:01, 112.00it/s]"
     ]
    },
    {
     "name": "stdout",
     "output_type": "stream",
     "text": [
      "Evaluating...\n"
     ]
    },
    {
     "name": "stderr",
     "output_type": "stream",
     "text": [
      "Iteration: 100%|██████████| 154/154 [00:02<00:00, 67.70it/s]\n",
      "Iteration: 100%|██████████| 154/154 [00:03<00:00, 43.16it/s]]\n",
      "Iteration:  92%|█████████▏| 142/154 [00:01<00:00, 113.42it/s]"
     ]
    },
    {
     "name": "stdout",
     "output_type": "stream",
     "text": [
      "Evaluating...\n"
     ]
    },
    {
     "name": "stderr",
     "output_type": "stream",
     "text": [
      "Iteration: 100%|██████████| 154/154 [00:02<00:00, 61.95it/s]\n",
      "Iteration: 100%|██████████| 154/154 [00:01<00:00, 117.64it/s]\n",
      "Iteration: 100%|██████████| 154/154 [00:03<00:00, 43.57it/s]]\n",
      "Iteration:  25%|██▍       | 38/154 [00:00<00:01, 72.11it/s]s]"
     ]
    },
    {
     "name": "stdout",
     "output_type": "stream",
     "text": [
      "Evaluating...\n",
      "{'Train':  best_epoch_indx:31\n",
      " auc:0.8459087853683906 \n",
      " apur:0.7762336304194873 \n",
      " f1:0.695239129254655 \n",
      " precision:0.6412798557908967 \n",
      " recall:0.7591132712939364 \n",
      ", 'Validation':  best_epoch_indx:31\n",
      " auc:0.8459087853683906 \n",
      " apur:0.7762336304194873 \n",
      " f1:0.695239129254655 \n",
      " precision:0.6412798557908967 \n",
      " recall:0.7591132712939364 \n",
      ", 'Test':  best_epoch_indx:31\n",
      " auc:0.8459087853683906 \n",
      " apur:0.7762336304194873 \n",
      " f1:0.695239129254655 \n",
      " precision:0.6412798557908967 \n",
      " recall:0.7591132712939364 \n",
      "}\n",
      "=====Epoch 32\n",
      "Training...\n"
     ]
    },
    {
     "name": "stderr",
     "output_type": "stream",
     "text": [
      "Iteration: 100%|██████████| 154/154 [00:01<00:00, 116.65it/s]\n",
      "Iteration: 100%|██████████| 154/154 [00:01<00:00, 109.87it/s]\n",
      "Iteration:   0%|          | 0/154 [00:00<?, ?it/s]0.15it/s]s]"
     ]
    },
    {
     "name": "stdout",
     "output_type": "stream",
     "text": [
      "{'Train':  best_epoch_indx:31\n",
      " auc:0.8456179500733305 \n",
      " apur:0.7742566235499808 \n",
      " f1:0.6969737654735372 \n",
      " precision:0.6371446806421522 \n",
      " recall:0.769203413940256 \n",
      ", 'Validation':  best_epoch_indx:31\n",
      " auc:0.8456179500733305 \n",
      " apur:0.7742566235499808 \n",
      " f1:0.6969737654735372 \n",
      " precision:0.6371446806421522 \n",
      " recall:0.769203413940256 \n",
      ", 'Test':  best_epoch_indx:31\n",
      " auc:0.8456179500733305 \n",
      " apur:0.7742566235499808 \n",
      " f1:0.6969737654735372 \n",
      " precision:0.6371446806421522 \n",
      " recall:0.769203413940256 \n",
      "}\n",
      "=====Epoch 32\n",
      "Training...\n"
     ]
    },
    {
     "name": "stderr",
     "output_type": "stream",
     "text": [
      "Iteration: 100%|██████████| 154/154 [00:01<00:00, 116.58it/s]\n",
      "Iteration: 100%|██████████| 154/154 [00:02<00:00, 75.70it/s]\n",
      "Iteration: 100%|██████████| 154/154 [00:01<00:00, 123.17it/s]\n",
      "Iteration: 100%|██████████| 154/154 [00:01<00:00, 125.08it/s]\n",
      "Iteration: 100%|██████████| 154/154 [00:01<00:00, 125.76it/s]\n",
      "Iteration: 100%|██████████| 154/154 [00:03<00:00, 38.60it/s]]\n",
      "Iteration: 100%|██████████| 154/154 [00:01<00:00, 123.82it/s]\n",
      "Iteration:   5%|▍         | 7/154 [00:00<00:02, 69.89it/s]s]"
     ]
    },
    {
     "name": "stdout",
     "output_type": "stream",
     "text": [
      "{'Train':  best_epoch_indx:31\n",
      " auc:0.844127786135995 \n",
      " apur:0.7731167088563756 \n",
      " f1:0.6937599641988086 \n",
      " precision:0.6568160152526216 \n",
      " recall:0.7351075810562504 \n",
      ", 'Validation':  best_epoch_indx:31\n",
      " auc:0.844127786135995 \n",
      " apur:0.7731167088563756 \n",
      " f1:0.6937599641988086 \n",
      " precision:0.6568160152526216 \n",
      " recall:0.7351075810562504 \n",
      ", 'Test':  best_epoch_indx:31\n",
      " auc:0.844127786135995 \n",
      " apur:0.7731167088563756 \n",
      " f1:0.6937599641988086 \n",
      " precision:0.6568160152526216 \n",
      " recall:0.7351075810562504 \n",
      "}\n",
      "=====Epoch 32\n",
      "Training...\n",
      "Evaluating...\n"
     ]
    },
    {
     "name": "stderr",
     "output_type": "stream",
     "text": [
      "Iteration:  19%|█▉        | 30/154 [00:00<00:03, 38.63it/s]]"
     ]
    },
    {
     "name": "stdout",
     "output_type": "stream",
     "text": [
      "{'Train':  best_epoch_indx:30\n",
      " auc:0.8462490532757801 \n",
      " apur:0.7752120147226684 \n",
      " f1:0.6964987001493446 \n",
      " precision:0.6528749935189506 \n",
      " recall:0.7463695098097327 \n",
      ", 'Validation':  best_epoch_indx:30\n",
      " auc:0.8462490532757801 \n",
      " apur:0.7752120147226684 \n",
      " f1:0.6964987001493446 \n",
      " precision:0.6528749935189506 \n",
      " recall:0.7463695098097327 \n",
      ", 'Test':  best_epoch_indx:30\n",
      " auc:0.8462490532757801 \n",
      " apur:0.7752120147226684 \n",
      " f1:0.6964987001493446 \n",
      " precision:0.6528749935189506 \n",
      " recall:0.7463695098097327 \n",
      "}\n",
      "=====Epoch 31\n",
      "Training...\n"
     ]
    },
    {
     "name": "stderr",
     "output_type": "stream",
     "text": [
      "\r",
      "Iteration:  71%|███████   | 109/154 [00:00<00:00, 124.38it/s]\r",
      "Iteration:  34%|███▍      | 53/154 [00:00<00:01, 67.50it/s]\r",
      "Iteration:  99%|█████████▊| 152/154 [00:03<00:00, 45.07it/s]\r",
      "Iteration:  22%|██▏       | 34/154 [00:00<00:03, 38.57it/s]\r",
      "Iteration:   8%|▊         | 12/154 [00:00<00:02, 47.44it/s]\r",
      "Iteration: 100%|██████████| 154/154 [00:03<00:00, 41.54it/s]\n",
      "\r",
      "Iteration:  79%|███████▉  | 122/154 [00:01<00:00, 125.48it/s]\r",
      "Iteration:   0%|          | 0/154 [00:00<?, ?it/s]\r",
      "Iteration:  40%|███▉      | 61/154 [00:00<00:01, 71.21it/s]\r",
      "Iteration:  11%|█         | 17/154 [00:00<00:02, 46.61it/s]"
     ]
    },
    {
     "name": "stdout",
     "output_type": "stream",
     "text": [
      "Evaluating...\n"
     ]
    },
    {
     "name": "stderr",
     "output_type": "stream",
     "text": [
      "Iteration: 100%|██████████| 154/154 [00:01<00:00, 119.51it/s]\n",
      "Iteration:   4%|▍         | 6/154 [00:00<00:02, 50.84it/s]]s]"
     ]
    },
    {
     "name": "stdout",
     "output_type": "stream",
     "text": [
      "{'Train':  best_epoch_indx:31\n",
      " auc:0.8378390299882681 \n",
      " apur:0.7658225372329405 \n",
      " f1:0.6891051635577183 \n",
      " precision:0.6335122775623819 \n",
      " recall:0.755393551446183 \n",
      ", 'Validation':  best_epoch_indx:31\n",
      " auc:0.8378390299882681 \n",
      " apur:0.7658225372329405 \n",
      " f1:0.6891051635577183 \n",
      " precision:0.6335122775623819 \n",
      " recall:0.755393551446183 \n",
      ", 'Test':  best_epoch_indx:31\n",
      " auc:0.8378390299882681 \n",
      " apur:0.7658225372329405 \n",
      " f1:0.6891051635577183 \n",
      " precision:0.6335122775623819 \n",
      " recall:0.755393551446183 \n",
      "}\n",
      "=====Epoch 32\n",
      "Training...\n"
     ]
    },
    {
     "name": "stderr",
     "output_type": "stream",
     "text": [
      "Iteration: 100%|██████████| 154/154 [00:01<00:00, 126.36it/s]\n",
      "Iteration: 100%|██████████| 154/154 [00:02<00:00, 70.27it/s]\n",
      "Iteration: 100%|██████████| 154/154 [00:01<00:00, 120.60it/s]\n",
      "Iteration: 100%|██████████| 154/154 [00:03<00:00, 44.44it/s]\n",
      "Iteration:   0%|          | 0/154 [00:00<?, ?it/s]"
     ]
    },
    {
     "name": "stdout",
     "output_type": "stream",
     "text": [
      "Evaluating...\n",
      "Evaluating...\n"
     ]
    },
    {
     "name": "stderr",
     "output_type": "stream",
     "text": [
      "Iteration: 100%|██████████| 154/154 [00:04<00:00, 36.54it/s]\n",
      "Iteration: 100%|██████████| 154/154 [00:01<00:00, 86.96it/s] \n",
      "Iteration: 100%|██████████| 154/154 [00:03<00:00, 44.08it/s]]\n",
      "Iteration:  42%|████▏     | 64/154 [00:00<00:01, 73.41it/s]"
     ]
    },
    {
     "name": "stdout",
     "output_type": "stream",
     "text": [
      "Evaluating...\n"
     ]
    },
    {
     "name": "stderr",
     "output_type": "stream",
     "text": [
      "Iteration: 100%|██████████| 154/154 [00:01<00:00, 116.78it/s]\n",
      "Iteration: 100%|██████████| 154/154 [00:01<00:00, 95.78it/s] \n",
      "Iteration: 100%|██████████| 154/154 [00:01<00:00, 123.94it/s]\n",
      "Iteration: 100%|██████████| 154/154 [00:02<00:00, 71.33it/s]\n",
      "Iteration:  48%|████▊     | 74/154 [00:01<00:01, 73.64it/s]s]"
     ]
    },
    {
     "name": "stdout",
     "output_type": "stream",
     "text": [
      "{'Train':  best_epoch_indx:32\n",
      " auc:0.8363720590548813 \n",
      " apur:0.7598195317019742 \n",
      " f1:0.6895444616963605 \n",
      " precision:0.6201069721209826 \n",
      " recall:0.77649359886202 \n",
      ", 'Validation':  best_epoch_indx:32\n",
      " auc:0.8363720590548813 \n",
      " apur:0.7598195317019742 \n",
      " f1:0.6895444616963605 \n",
      " precision:0.6201069721209826 \n",
      " recall:0.77649359886202 \n",
      ", 'Test':  best_epoch_indx:32\n",
      " auc:0.8363720590548813 \n",
      " apur:0.7598195317019742 \n",
      " f1:0.6895444616963605 \n",
      " precision:0.6201069721209826 \n",
      " recall:0.77649359886202 \n",
      "}\n",
      "=====Epoch 33\n",
      "Training...\n"
     ]
    },
    {
     "name": "stderr",
     "output_type": "stream",
     "text": [
      "Iteration: 100%|██████████| 154/154 [00:01<00:00, 126.87it/s]\n",
      "Iteration: 100%|██████████| 154/154 [00:01<00:00, 77.41it/s]\n",
      "Iteration:   0%|          | 0/154 [00:00<?, ?it/s]7.41it/s]s]"
     ]
    },
    {
     "name": "stdout",
     "output_type": "stream",
     "text": [
      "{'Train':  best_epoch_indx:32\n",
      " auc:0.838763715461833 \n",
      " apur:0.7636209451887475 \n",
      " f1:0.6883338138547428 \n",
      " precision:0.6170002819283902 \n",
      " recall:0.7783178234840851 \n",
      ", 'Validation':  best_epoch_indx:32\n",
      " auc:0.838763715461833 \n",
      " apur:0.7636209451887475 \n",
      " f1:0.6883338138547428 \n",
      " precision:0.6170002819283902 \n",
      " recall:0.7783178234840851 \n",
      ", 'Test':  best_epoch_indx:32\n",
      " auc:0.838763715461833 \n",
      " apur:0.7636209451887475 \n",
      " f1:0.6883338138547428 \n",
      " precision:0.6170002819283902 \n",
      " recall:0.7783178234840851 \n",
      "}\n",
      "=====Epoch 33\n",
      "Training...\n"
     ]
    },
    {
     "name": "stderr",
     "output_type": "stream",
     "text": [
      "Iteration: 100%|██████████| 154/154 [00:01<00:00, 117.23it/s]\n",
      "Iteration: 100%|██████████| 154/154 [00:02<00:00, 69.17it/s]]\n",
      "Iteration: 100%|██████████| 154/154 [00:01<00:00, 113.95it/s]\n",
      "Iteration: 100%|██████████| 154/154 [00:03<00:00, 45.35it/s]\n",
      "Iteration:   0%|          | 0/154 [00:00<?, ?it/s]"
     ]
    },
    {
     "name": "stdout",
     "output_type": "stream",
     "text": [
      "{'Train':  best_epoch_indx:31\n",
      " auc:0.8447576224309779 \n",
      " apur:0.7724433143206881 \n",
      " f1:0.6905809362662155 \n",
      " precision:0.6586691053849051 \n",
      " recall:0.7257423981980914 \n",
      ", 'Validation':  best_epoch_indx:31\n",
      " auc:0.8447576224309779 \n",
      " apur:0.7724433143206881 \n",
      " f1:0.6905809362662155 \n",
      " precision:0.6586691053849051 \n",
      " recall:0.7257423981980914 \n",
      ", 'Test':  best_epoch_indx:31\n",
      " auc:0.8447576224309779 \n",
      " apur:0.7724433143206881 \n",
      " f1:0.6905809362662155 \n",
      " precision:0.6586691053849051 \n",
      " recall:0.7257423981980914 \n",
      "}\n",
      "=====Epoch 32\n",
      "Training...\n",
      "Evaluating...\n"
     ]
    },
    {
     "name": "stderr",
     "output_type": "stream",
     "text": [
      "Iteration: 100%|██████████| 154/154 [00:01<00:00, 114.78it/s]\n",
      "Iteration: 100%|██████████| 154/154 [00:01<00:00, 119.11it/s]\n",
      "Iteration: 100%|██████████| 154/154 [00:02<00:00, 68.84it/s]\n",
      "Iteration:  87%|████████▋ | 134/154 [00:03<00:00, 41.83it/s]"
     ]
    },
    {
     "name": "stdout",
     "output_type": "stream",
     "text": [
      "{'Train':  best_epoch_indx:32\n",
      " auc:0.8325662649182409 \n",
      " apur:0.7595822610608748 \n",
      " f1:0.6864657045745807 \n",
      " precision:0.6476711176532436 \n",
      " recall:0.7302038880986249 \n",
      ", 'Validation':  best_epoch_indx:32\n",
      " auc:0.8325662649182409 \n",
      " apur:0.7595822610608748 \n",
      " f1:0.6864657045745807 \n",
      " precision:0.6476711176532436 \n",
      " recall:0.7302038880986249 \n",
      ", 'Test':  best_epoch_indx:32\n",
      " auc:0.8325662649182409 \n",
      " apur:0.7595822610608748 \n",
      " f1:0.6864657045745807 \n",
      " precision:0.6476711176532436 \n",
      " recall:0.7302038880986249 \n",
      "}\n",
      "=====Epoch 33\n",
      "Training...\n"
     ]
    },
    {
     "name": "stderr",
     "output_type": "stream",
     "text": [
      "Iteration: 100%|██████████| 154/154 [00:03<00:00, 39.71it/s]\n",
      "Iteration:  66%|██████▌   | 102/154 [00:02<00:01, 42.66it/s]"
     ]
    },
    {
     "name": "stdout",
     "output_type": "stream",
     "text": [
      "{'Train':  best_epoch_indx:32\n",
      " auc:0.8416643480493449 \n",
      " apur:0.7699367181780061 \n",
      " f1:0.6938487814135061 \n",
      " precision:0.6393385291766587 \n",
      " recall:0.7585205382016478 \n",
      ", 'Validation':  best_epoch_indx:32\n",
      " auc:0.8416643480493449 \n",
      " apur:0.7699367181780061 \n",
      " f1:0.6938487814135061 \n",
      " precision:0.6393385291766587 \n",
      " recall:0.7585205382016478 \n",
      ", 'Test':  best_epoch_indx:32\n",
      " auc:0.8416643480493449 \n",
      " apur:0.7699367181780061 \n",
      " f1:0.6938487814135061 \n",
      " precision:0.6393385291766587 \n",
      " recall:0.7585205382016478 \n",
      "}\n",
      "=====Epoch 33\n",
      "Training...\n",
      "Evaluating...\n"
     ]
    },
    {
     "name": "stderr",
     "output_type": "stream",
     "text": [
      "Iteration: 100%|██████████| 154/154 [00:01<00:00, 120.20it/s]\n",
      "Iteration: 100%|██████████| 154/154 [00:03<00:00, 43.86it/s]]\n",
      "Iteration:   0%|          | 0/154 [00:00<?, ?it/s]"
     ]
    },
    {
     "name": "stdout",
     "output_type": "stream",
     "text": [
      "Evaluating...\n"
     ]
    },
    {
     "name": "stderr",
     "output_type": "stream",
     "text": [
      "Iteration: 100%|██████████| 154/154 [00:01<00:00, 117.32it/s]\n",
      "Iteration: 100%|██████████| 154/154 [00:01<00:00, 125.78it/s]\n",
      "Iteration: 100%|██████████| 154/154 [00:01<00:00, 111.93it/s]\n",
      "Iteration: 100%|██████████| 154/154 [00:04<00:00, 37.57it/s]]\n",
      "Iteration: 100%|██████████| 154/154 [00:01<00:00, 86.41it/s] \n",
      "Iteration: 100%|██████████| 154/154 [00:03<00:00, 40.90it/s]\n",
      "Iteration:   5%|▍         | 7/154 [00:00<00:02, 57.51it/s]"
     ]
    },
    {
     "name": "stdout",
     "output_type": "stream",
     "text": [
      "Evaluating...\n",
      "Evaluating...\n"
     ]
    },
    {
     "name": "stderr",
     "output_type": "stream",
     "text": [
      "Iteration:   0%|          | 0/154 [00:00<?, ?it/s]0.81it/s] ]"
     ]
    },
    {
     "name": "stdout",
     "output_type": "stream",
     "text": [
      "{'Train':  best_epoch_indx:33\n",
      " auc:0.8322329077054974 \n",
      " apur:0.7558841952183515 \n",
      " f1:0.6812455300654673 \n",
      " precision:0.6356123601272969 \n",
      " recall:0.7339378852536748 \n",
      ", 'Validation':  best_epoch_indx:33\n",
      " auc:0.8322329077054974 \n",
      " apur:0.7558841952183515 \n",
      " f1:0.6812455300654673 \n",
      " precision:0.6356123601272969 \n",
      " recall:0.7339378852536748 \n",
      ", 'Test':  best_epoch_indx:33\n",
      " auc:0.8322329077054974 \n",
      " apur:0.7558841952183515 \n",
      " f1:0.6812455300654673 \n",
      " precision:0.6356123601272969 \n",
      " recall:0.7339378852536748 \n",
      "}\n",
      "=====Epoch 34\n",
      "Training...\n"
     ]
    },
    {
     "name": "stderr",
     "output_type": "stream",
     "text": [
      "Iteration: 100%|██████████| 154/154 [00:01<00:00, 114.78it/s]\n",
      "Iteration: 100%|██████████| 154/154 [00:01<00:00, 117.18it/s]\n",
      "Iteration: 100%|██████████| 154/154 [00:01<00:00, 77.03it/s] \n",
      "Iteration: 100%|██████████| 154/154 [00:01<00:00, 98.73it/s] \n",
      "Iteration:   0%|          | 0/154 [00:00<?, ?it/s]45.74it/s]]"
     ]
    },
    {
     "name": "stdout",
     "output_type": "stream",
     "text": [
      "{'Train':  best_epoch_indx:33\n",
      " auc:0.8402889763218793 \n",
      " apur:0.7677015531654654 \n",
      " f1:0.6933156146179403 \n",
      " precision:0.6284571648838778 \n",
      " recall:0.773101772271946 \n",
      ", 'Validation':  best_epoch_indx:33\n",
      " auc:0.8402889763218793 \n",
      " apur:0.7677015531654654 \n",
      " f1:0.6933156146179403 \n",
      " precision:0.6284571648838778 \n",
      " recall:0.773101772271946 \n",
      ", 'Test':  best_epoch_indx:33\n",
      " auc:0.8402889763218793 \n",
      " apur:0.7677015531654654 \n",
      " f1:0.6933156146179403 \n",
      " precision:0.6284571648838778 \n",
      " recall:0.773101772271946 \n",
      "}\n",
      "=====Epoch 34\n",
      "Training...\n"
     ]
    },
    {
     "name": "stderr",
     "output_type": "stream",
     "text": [
      "Iteration: 100%|██████████| 154/154 [00:01<00:00, 81.39it/s] \n",
      "Iteration: 100%|██████████| 154/154 [00:01<00:00, 99.61it/s] \n",
      "Iteration: 100%|██████████| 154/154 [00:03<00:00, 45.93it/s]\n",
      "Iteration:  21%|██        | 32/154 [00:00<00:03, 39.43it/s]"
     ]
    },
    {
     "name": "stdout",
     "output_type": "stream",
     "text": [
      "Evaluating...\n",
      "{'Train':  best_epoch_indx:32\n",
      " auc:0.8392134748768929 \n",
      " apur:0.7651304329635215 \n",
      " f1:0.6913674560733385 \n",
      " precision:0.6405136241848238 \n",
      " recall:0.7509928279295833 \n",
      ", 'Validation':  best_epoch_indx:32\n",
      " auc:0.8392134748768929 \n",
      " apur:0.7651304329635215 \n",
      " f1:0.6913674560733385 \n",
      " precision:0.6405136241848238 \n",
      " recall:0.7509928279295833 \n",
      ", 'Test':  best_epoch_indx:32\n",
      " auc:0.8392134748768929 \n",
      " apur:0.7651304329635215 \n",
      " f1:0.6913674560733385 \n",
      " precision:0.6405136241848238 \n",
      " recall:0.7509928279295833 \n",
      "}\n",
      "=====Epoch 33\n",
      "Training...\n"
     ]
    },
    {
     "name": "stderr",
     "output_type": "stream",
     "text": [
      "Iteration: 100%|██████████| 154/154 [00:02<00:00, 76.14it/s]\n",
      "Iteration: 100%|██████████| 154/154 [00:01<00:00, 116.95it/s]\n",
      "Iteration: 100%|██████████| 154/154 [00:01<00:00, 93.81it/s] \n",
      "Iteration:   0%|          | 0/154 [00:00<?, ?it/s]41.40it/s]"
     ]
    },
    {
     "name": "stdout",
     "output_type": "stream",
     "text": [
      "{'Train':  best_epoch_indx:33\n",
      " auc:0.8360204405773406 \n",
      " apur:0.759978851683606 \n",
      " f1:0.6848185284564327 \n",
      " precision:0.6540951764325025 \n",
      " recall:0.7185703277814001 \n",
      ", 'Validation':  best_epoch_indx:33\n",
      " auc:0.8360204405773406 \n",
      " apur:0.759978851683606 \n",
      " f1:0.6848185284564327 \n",
      " precision:0.6540951764325025 \n",
      " recall:0.7185703277814001 \n",
      ", 'Test':  best_epoch_indx:33\n",
      " auc:0.8360204405773406 \n",
      " apur:0.759978851683606 \n",
      " f1:0.6848185284564327 \n",
      " precision:0.6540951764325025 \n",
      " recall:0.7185703277814001 \n",
      "}\n",
      "=====Epoch 34\n",
      "Training...\n"
     ]
    },
    {
     "name": "stderr",
     "output_type": "stream",
     "text": [
      "Iteration: 100%|██████████| 154/154 [00:03<00:00, 43.88it/s]]\n",
      "Iteration:  66%|██████▌   | 102/154 [00:02<00:01, 34.85it/s]]"
     ]
    },
    {
     "name": "stdout",
     "output_type": "stream",
     "text": [
      "Evaluating...\n"
     ]
    },
    {
     "name": "stderr",
     "output_type": "stream",
     "text": [
      "Iteration: 100%|██████████| 154/154 [00:01<00:00, 126.46it/s]\n",
      "Iteration: 100%|██████████| 154/154 [00:01<00:00, 103.07it/s]\n",
      "Iteration:  66%|██████▌   | 102/154 [00:00<00:00, 109.19it/s]"
     ]
    },
    {
     "name": "stdout",
     "output_type": "stream",
     "text": [
      "{'Train':  best_epoch_indx:33\n",
      " auc:0.8365846824714711 \n",
      " apur:0.7625526110697977 \n",
      " f1:0.6871023102310231 \n",
      " precision:0.6195305432557253 \n",
      " recall:0.7712185870080607 \n",
      ", 'Validation':  best_epoch_indx:33\n",
      " auc:0.8365846824714711 \n",
      " apur:0.7625526110697977 \n",
      " f1:0.6871023102310231 \n",
      " precision:0.6195305432557253 \n",
      " recall:0.7712185870080607 \n",
      ", 'Test':  best_epoch_indx:33\n",
      " auc:0.8365846824714711 \n",
      " apur:0.7625526110697977 \n",
      " f1:0.6871023102310231 \n",
      " precision:0.6195305432557253 \n",
      " recall:0.7712185870080607 \n",
      "}\n",
      "=====Epoch 34\n",
      "Training...\n"
     ]
    },
    {
     "name": "stderr",
     "output_type": "stream",
     "text": [
      "Iteration: 100%|██████████| 154/154 [00:01<00:00, 112.02it/s]\n",
      "Iteration: 100%|██████████| 154/154 [00:04<00:00, 37.56it/s]\n",
      "Iteration:   5%|▍         | 7/154 [00:00<00:02, 67.81it/s]]"
     ]
    },
    {
     "name": "stdout",
     "output_type": "stream",
     "text": [
      "Evaluating...\n"
     ]
    },
    {
     "name": "stderr",
     "output_type": "stream",
     "text": [
      "Iteration: 100%|██████████| 154/154 [00:01<00:00, 129.69it/s]\n",
      "Iteration: 100%|██████████| 154/154 [00:03<00:00, 42.71it/s]\n",
      "Iteration:   0%|          | 0/154 [00:00<?, ?it/s]"
     ]
    },
    {
     "name": "stdout",
     "output_type": "stream",
     "text": [
      "Evaluating...\n"
     ]
    },
    {
     "name": "stderr",
     "output_type": "stream",
     "text": [
      "Iteration: 100%|██████████| 154/154 [00:02<00:00, 65.17it/s]\n",
      "Iteration: 100%|██████████| 154/154 [00:02<00:00, 67.85it/s]\n",
      "Iteration:  91%|█████████ | 140/154 [00:03<00:00, 45.75it/s]"
     ]
    },
    {
     "name": "stdout",
     "output_type": "stream",
     "text": [
      "{'Train':  best_epoch_indx:34\n",
      " auc:0.8339924802831464 \n",
      " apur:0.7583045399998545 \n",
      " f1:0.6843506921555702 \n",
      " precision:0.6163967130575215 \n",
      " recall:0.7691441441441441 \n",
      ", 'Validation':  best_epoch_indx:34\n",
      " auc:0.8339924802831464 \n",
      " apur:0.7583045399998545 \n",
      " f1:0.6843506921555702 \n",
      " precision:0.6163967130575215 \n",
      " recall:0.7691441441441441 \n",
      ", 'Test':  best_epoch_indx:34\n",
      " auc:0.8339924802831464 \n",
      " apur:0.7583045399998545 \n",
      " f1:0.6843506921555702 \n",
      " precision:0.6163967130575215 \n",
      " recall:0.7691441441441441 \n",
      "}\n",
      "=====Epoch 35\n",
      "Training...\n"
     ]
    },
    {
     "name": "stderr",
     "output_type": "stream",
     "text": [
      "Iteration: 100%|██████████| 154/154 [00:03<00:00, 45.41it/s]]\n",
      "Iteration:  84%|████████▍ | 130/154 [00:01<00:00, 102.04it/s]"
     ]
    },
    {
     "name": "stdout",
     "output_type": "stream",
     "text": [
      "Evaluating...\n"
     ]
    },
    {
     "name": "stderr",
     "output_type": "stream",
     "text": [
      "Iteration: 100%|██████████| 154/154 [00:01<00:00, 117.96it/s]\n",
      "Iteration: 100%|██████████| 154/154 [00:01<00:00, 99.04it/s] \n",
      "Iteration: 100%|██████████| 154/154 [00:01<00:00, 98.96it/s] \n",
      "Iteration:  66%|██████▌   | 102/154 [00:02<00:01, 45.79it/s]"
     ]
    },
    {
     "name": "stdout",
     "output_type": "stream",
     "text": [
      "{'Train':  best_epoch_indx:34\n",
      " auc:0.8362723496136149 \n",
      " apur:0.7608074179956976 \n",
      " f1:0.6873188502140559 \n",
      " precision:0.6232638888888888 \n",
      " recall:0.7660482484737123 \n",
      ", 'Validation':  best_epoch_indx:34\n",
      " auc:0.8362723496136149 \n",
      " apur:0.7608074179956976 \n",
      " f1:0.6873188502140559 \n",
      " precision:0.6232638888888888 \n",
      " recall:0.7660482484737123 \n",
      ", 'Test':  best_epoch_indx:34\n",
      " auc:0.8362723496136149 \n",
      " apur:0.7608074179956976 \n",
      " f1:0.6873188502140559 \n",
      " precision:0.6232638888888888 \n",
      " recall:0.7660482484737123 \n",
      "}\n",
      "=====Epoch 35\n",
      "Training...\n"
     ]
    },
    {
     "name": "stderr",
     "output_type": "stream",
     "text": [
      "Iteration: 100%|██████████| 154/154 [00:02<00:00, 76.06it/s]\n",
      "Iteration: 100%|██████████| 154/154 [00:01<00:00, 77.82it/s] \n",
      "Iteration: 100%|██████████| 154/154 [00:03<00:00, 45.50it/s]\n",
      "Iteration:   8%|▊         | 12/154 [00:00<00:01, 113.87it/s]"
     ]
    },
    {
     "name": "stdout",
     "output_type": "stream",
     "text": [
      "Evaluating...\n"
     ]
    },
    {
     "name": "stderr",
     "output_type": "stream",
     "text": [
      "Iteration: 100%|██████████| 154/154 [00:01<00:00, 125.66it/s]\n",
      "Iteration: 100%|██████████| 154/154 [00:01<00:00, 100.10it/s]\n",
      "Iteration: 100%|██████████| 154/154 [00:01<00:00, 125.11it/s]\n",
      "Iteration:   0%|          | 0/154 [00:00<?, ?it/s]4.23it/s]]"
     ]
    },
    {
     "name": "stdout",
     "output_type": "stream",
     "text": [
      "{'Train':  best_epoch_indx:33\n",
      " auc:0.8350434694562234 \n",
      " apur:0.7613000285561481 \n",
      " f1:0.6862843419281623 \n",
      " precision:0.6185537583254044 \n",
      " recall:0.770671566593563 \n",
      ", 'Validation':  best_epoch_indx:33\n",
      " auc:0.8350434694562234 \n",
      " apur:0.7613000285561481 \n",
      " f1:0.6862843419281623 \n",
      " precision:0.6185537583254044 \n",
      " recall:0.770671566593563 \n",
      ", 'Test':  best_epoch_indx:33\n",
      " auc:0.8350434694562234 \n",
      " apur:0.7613000285561481 \n",
      " f1:0.6862843419281623 \n",
      " precision:0.6185537583254044 \n",
      " recall:0.770671566593563 \n",
      "}\n",
      "=====Epoch 34\n",
      "Training...\n"
     ]
    },
    {
     "name": "stderr",
     "output_type": "stream",
     "text": [
      "Iteration: 100%|██████████| 154/154 [00:01<00:00, 98.24it/s] \n",
      "Iteration: 100%|██████████| 154/154 [00:04<00:00, 38.10it/s]\n",
      "Iteration:   0%|          | 0/154 [00:00<?, ?it/s]"
     ]
    },
    {
     "name": "stdout",
     "output_type": "stream",
     "text": [
      "{'Train':  best_epoch_indx:34\n",
      " auc:0.8317290380237177 \n",
      " apur:0.756205359585996 \n",
      " f1:0.6787412270772017 \n",
      " precision:0.6494448957487138 \n",
      " recall:0.7108055242724202 \n",
      ", 'Validation':  best_epoch_indx:34\n",
      " auc:0.8317290380237177 \n",
      " apur:0.756205359585996 \n",
      " f1:0.6787412270772017 \n",
      " precision:0.6494448957487138 \n",
      " recall:0.7108055242724202 \n",
      ", 'Test':  best_epoch_indx:34\n",
      " auc:0.8317290380237177 \n",
      " apur:0.756205359585996 \n",
      " f1:0.6787412270772017 \n",
      " precision:0.6494448957487138 \n",
      " recall:0.7108055242724202 \n",
      "}\n",
      "=====Epoch 35\n",
      "Training...\n",
      "Evaluating...\n"
     ]
    },
    {
     "name": "stderr",
     "output_type": "stream",
     "text": [
      "Iteration: 100%|██████████| 154/154 [00:01<00:00, 108.74it/s]\n",
      "Iteration: 100%|██████████| 154/154 [00:01<00:00, 124.04it/s]\n",
      "Iteration: 100%|██████████| 154/154 [00:02<00:00, 60.31it/s]\n",
      "Iteration: 100%|██████████| 154/154 [00:03<00:00, 45.59it/s]]\n",
      "Iteration:   8%|▊         | 12/154 [00:00<00:01, 111.74it/s]]"
     ]
    },
    {
     "name": "stdout",
     "output_type": "stream",
     "text": [
      "Evaluating...\n",
      "{'Train':  best_epoch_indx:34\n",
      " auc:0.8279605135752505 \n",
      " apur:0.7514046190365671 \n",
      " f1:0.6779227281577702 \n",
      " precision:0.6387127207924944 \n",
      " recall:0.7222617354196301 \n",
      ", 'Validation':  best_epoch_indx:34\n",
      " auc:0.8279605135752505 \n",
      " apur:0.7514046190365671 \n",
      " f1:0.6779227281577702 \n",
      " precision:0.6387127207924944 \n",
      " recall:0.7222617354196301 \n",
      ", 'Test':  best_epoch_indx:34\n",
      " auc:0.8279605135752505 \n",
      " apur:0.7514046190365671 \n",
      " f1:0.6779227281577702 \n",
      " precision:0.6387127207924944 \n",
      " recall:0.7222617354196301 \n",
      "}\n",
      "=====Epoch 35\n",
      "Training...\n"
     ]
    },
    {
     "name": "stderr",
     "output_type": "stream",
     "text": [
      "Iteration: 100%|██████████| 154/154 [00:01<00:00, 117.82it/s]\n",
      "Iteration:  15%|█▍        | 23/154 [00:00<00:03, 36.55it/s]]"
     ]
    },
    {
     "name": "stdout",
     "output_type": "stream",
     "text": [
      "{'Train':  best_epoch_indx:35\n",
      " auc:0.841301329083316 \n",
      " apur:0.7673945113613596 \n",
      " f1:0.6920444154147616 \n",
      " precision:0.6187917581647433 \n",
      " recall:0.7849691797060218 \n",
      ", 'Validation':  best_epoch_indx:35\n",
      " auc:0.841301329083316 \n",
      " apur:0.7673945113613596 \n",
      " f1:0.6920444154147616 \n",
      " precision:0.6187917581647433 \n",
      " recall:0.7849691797060218 \n",
      ", 'Test':  best_epoch_indx:35\n",
      " auc:0.841301329083316 \n",
      " apur:0.7673945113613596 \n",
      " f1:0.6920444154147616 \n",
      " precision:0.6187917581647433 \n",
      " recall:0.7849691797060218 \n",
      "}\n",
      "=====Epoch 36\n",
      "Training...\n"
     ]
    },
    {
     "name": "stderr",
     "output_type": "stream",
     "text": [
      "Iteration: 100%|██████████| 154/154 [00:03<00:00, 43.14it/s]]\n",
      "Iteration: 100%|██████████| 154/154 [00:01<00:00, 119.72it/s]\n",
      "Iteration:   8%|▊         | 12/154 [00:00<00:01, 114.46it/s]"
     ]
    },
    {
     "name": "stdout",
     "output_type": "stream",
     "text": [
      "Evaluating...\n"
     ]
    },
    {
     "name": "stderr",
     "output_type": "stream",
     "text": [
      "Iteration: 100%|██████████| 154/154 [00:02<00:00, 64.46it/s]\n",
      "Iteration: 100%|██████████| 154/154 [00:01<00:00, 126.55it/s]\n",
      "Iteration: 100%|██████████| 154/154 [00:01<00:00, 124.64it/s]\n",
      "Iteration: 100%|██████████| 154/154 [00:03<00:00, 45.69it/s]]\n",
      "Iteration: 100%|██████████| 154/154 [00:04<00:00, 37.45it/s]]\n",
      "Iteration:   0%|          | 0/154 [00:00<?, ?it/s]"
     ]
    },
    {
     "name": "stdout",
     "output_type": "stream",
     "text": [
      "Evaluating...\n",
      "Evaluating...\n"
     ]
    },
    {
     "name": "stderr",
     "output_type": "stream",
     "text": [
      "Iteration: 100%|██████████| 154/154 [00:01<00:00, 113.75it/s]\n",
      "Iteration: 100%|██████████| 154/154 [00:01<00:00, 104.89it/s]\n",
      "Iteration:   4%|▍         | 6/154 [00:00<00:02, 50.94it/s]]s]"
     ]
    },
    {
     "name": "stdout",
     "output_type": "stream",
     "text": [
      "{'Train':  best_epoch_indx:35\n",
      " auc:0.8415443605003599 \n",
      " apur:0.7690435993240903 \n",
      " f1:0.6878581037317523 \n",
      " precision:0.5932705943019209 \n",
      " recall:0.8183273072135617 \n",
      ", 'Validation':  best_epoch_indx:35\n",
      " auc:0.8415443605003599 \n",
      " apur:0.7690435993240903 \n",
      " f1:0.6878581037317523 \n",
      " precision:0.5932705943019209 \n",
      " recall:0.8183273072135617 \n",
      ", 'Test':  best_epoch_indx:35\n",
      " auc:0.8415443605003599 \n",
      " apur:0.7690435993240903 \n",
      " f1:0.6878581037317523 \n",
      " precision:0.5932705943019209 \n",
      " recall:0.8183273072135617 \n",
      "}\n",
      "=====Epoch 36\n",
      "Training...\n"
     ]
    },
    {
     "name": "stderr",
     "output_type": "stream",
     "text": [
      "Iteration: 100%|██████████| 154/154 [00:01<00:00, 122.01it/s]\n",
      "Iteration: 100%|██████████| 154/154 [00:01<00:00, 88.53it/s] \n",
      "Iteration:  95%|█████████▌| 147/154 [00:02<00:00, 68.36it/s]]"
     ]
    },
    {
     "name": "stdout",
     "output_type": "stream",
     "text": [
      "{'Train':  best_epoch_indx:34\n",
      " auc:0.8276041382788606 \n",
      " apur:0.7509135973986419 \n",
      " f1:0.6765103575098708 \n",
      " precision:0.6220719152533943 \n",
      " recall:0.741390551834509 \n",
      ", 'Validation':  best_epoch_indx:34\n",
      " auc:0.8276041382788606 \n",
      " apur:0.7509135973986419 \n",
      " f1:0.6765103575098708 \n",
      " precision:0.6220719152533943 \n",
      " recall:0.741390551834509 \n",
      ", 'Test':  best_epoch_indx:34\n",
      " auc:0.8276041382788606 \n",
      " apur:0.7509135973986419 \n",
      " f1:0.6765103575098708 \n",
      " precision:0.6220719152533943 \n",
      " recall:0.741390551834509 \n",
      "}\n",
      "=====Epoch 35\n",
      "Training...\n"
     ]
    },
    {
     "name": "stderr",
     "output_type": "stream",
     "text": [
      "Iteration: 100%|██████████| 154/154 [00:02<00:00, 69.34it/s]]\n",
      "Iteration: 100%|██████████| 154/154 [00:01<00:00, 98.53it/s] \n",
      "Iteration:  37%|███▋      | 57/154 [00:01<00:02, 43.87it/s]]"
     ]
    },
    {
     "name": "stdout",
     "output_type": "stream",
     "text": [
      "{'Train':  best_epoch_indx:35\n",
      " auc:0.8433928852763936 \n",
      " apur:0.7723992084705534 \n",
      " f1:0.688728258414276 \n",
      " precision:0.6576435696953357 \n",
      " recall:0.7228972793551064 \n",
      ", 'Validation':  best_epoch_indx:35\n",
      " auc:0.8433928852763936 \n",
      " apur:0.7723992084705534 \n",
      " f1:0.688728258414276 \n",
      " precision:0.6576435696953357 \n",
      " recall:0.7228972793551064 \n",
      ", 'Test':  best_epoch_indx:35\n",
      " auc:0.8433928852763936 \n",
      " apur:0.7723992084705534 \n",
      " f1:0.688728258414276 \n",
      " precision:0.6576435696953357 \n",
      " recall:0.7228972793551064 \n",
      "}\n",
      "=====Epoch 36\n",
      "Training...\n"
     ]
    },
    {
     "name": "stderr",
     "output_type": "stream",
     "text": [
      "Iteration: 100%|██████████| 154/154 [00:01<00:00, 79.55it/s] \n",
      "Iteration: 100%|██████████| 154/154 [00:03<00:00, 45.93it/s]\n",
      "Iteration:  64%|██████▎   | 98/154 [00:02<00:01, 39.92it/s]"
     ]
    },
    {
     "name": "stdout",
     "output_type": "stream",
     "text": [
      "Evaluating...\n"
     ]
    },
    {
     "name": "stderr",
     "output_type": "stream",
     "text": [
      "Iteration: 100%|██████████| 154/154 [00:01<00:00, 126.99it/s]\n",
      "Iteration: 100%|██████████| 154/154 [00:01<00:00, 119.99it/s]\n",
      "Iteration: 100%|██████████| 154/154 [00:02<00:00, 63.48it/s]\n",
      "Iteration: 100%|██████████| 154/154 [00:03<00:00, 41.19it/s]\n",
      "Iteration:   5%|▍         | 7/154 [00:00<00:02, 69.52it/s]s]"
     ]
    },
    {
     "name": "stdout",
     "output_type": "stream",
     "text": [
      "Evaluating...\n"
     ]
    },
    {
     "name": "stderr",
     "output_type": "stream",
     "text": [
      "\r",
      "Iteration:  83%|████████▎ | 128/154 [00:02<00:00, 45.50it/s]\r",
      "Iteration:  10%|▉         | 15/154 [00:00<00:01, 72.73it/s]\r",
      "Iteration:   0%|          | 0/154 [00:00<?, ?it/s]\r",
      "Iteration:  86%|████████▋ | 133/154 [00:02<00:00, 45.50it/s]\r",
      "Iteration:   0%|          | 0/154 [00:00<?, ?it/s]\r",
      "Iteration:  16%|█▌        | 25/154 [00:00<00:01, 82.13it/s]\r",
      "Iteration:   5%|▍         | 7/154 [00:00<00:02, 65.80it/s]"
     ]
    },
    {
     "name": "stdout",
     "output_type": "stream",
     "text": [
      "{'Train':  best_epoch_indx:36\n",
      " auc:0.8523464117109286 \n",
      " apur:0.7831497234647773 \n",
      " f1:0.7018532798000477 \n",
      " precision:0.6364469306071273 \n",
      " recall:0.7822427690848743 \n",
      ", 'Validation':  best_epoch_indx:36\n",
      " auc:0.8523464117109286 \n",
      " apur:0.7831497234647773 \n",
      " f1:0.7018532798000477 \n",
      " precision:0.6364469306071273 \n",
      " recall:0.7822427690848743 \n",
      ", 'Test':  best_epoch_indx:36\n",
      " auc:0.8523464117109286 \n",
      " apur:0.7831497234647773 \n",
      " f1:0.7018532798000477 \n",
      " precision:0.6364469306071273 \n",
      " recall:0.7822427690848743 \n",
      "}\n",
      "=====Epoch 37\n",
      "Training...\n"
     ]
    },
    {
     "name": "stderr",
     "output_type": "stream",
     "text": [
      "Iteration: 100%|██████████| 154/154 [00:03<00:00, 45.15it/s]\n",
      "Iteration:  31%|███       | 48/154 [00:00<00:01, 104.00it/s]"
     ]
    },
    {
     "name": "stdout",
     "output_type": "stream",
     "text": [
      "Evaluating...\n"
     ]
    },
    {
     "name": "stderr",
     "output_type": "stream",
     "text": [
      "Iteration: 100%|██████████| 154/154 [00:01<00:00, 115.39it/s]\n",
      "Iteration: 100%|██████████| 154/154 [00:01<00:00, 106.01it/s]\n",
      "Iteration: 100%|██████████| 154/154 [00:01<00:00, 124.46it/s]\n",
      "Iteration: 100%|██████████| 154/154 [00:01<00:00, 91.41it/s] \n",
      "Iteration:  90%|█████████ | 139/154 [00:01<00:00, 117.04it/s]"
     ]
    },
    {
     "name": "stdout",
     "output_type": "stream",
     "text": [
      "{'Train':  best_epoch_indx:35\n",
      " auc:0.8390067185836751 \n",
      " apur:0.7656109636867041 \n",
      " f1:0.6872898079435227 \n",
      " precision:0.6470926885434658 \n",
      " recall:0.7328117591275486 \n",
      ", 'Validation':  best_epoch_indx:35\n",
      " auc:0.8390067185836751 \n",
      " apur:0.7656109636867041 \n",
      " f1:0.6872898079435227 \n",
      " precision:0.6470926885434658 \n",
      " recall:0.7328117591275486 \n",
      ", 'Test':  best_epoch_indx:35\n",
      " auc:0.8390067185836751 \n",
      " apur:0.7656109636867041 \n",
      " f1:0.6872898079435227 \n",
      " precision:0.6470926885434658 \n",
      " recall:0.7328117591275486 \n",
      "}\n",
      "=====Epoch 36\n",
      "Training...\n"
     ]
    },
    {
     "name": "stderr",
     "output_type": "stream",
     "text": [
      "Iteration: 100%|██████████| 154/154 [00:01<00:00, 97.55it/s] \n",
      "Iteration: 100%|██████████| 154/154 [00:01<00:00, 121.33it/s]\n",
      "Iteration: 100%|██████████| 154/154 [00:01<00:00, 95.81it/s] \n",
      "Iteration:   0%|          | 0/154 [00:00<?, ?it/s]1.76it/s]"
     ]
    },
    {
     "name": "stdout",
     "output_type": "stream",
     "text": [
      "{'Train':  best_epoch_indx:36\n",
      " auc:0.852939136981386 \n",
      " apur:0.7841801060118206 \n",
      " f1:0.7049787851119823 \n",
      " precision:0.6444739038640939 \n",
      " recall:0.7780214569379409 \n",
      ", 'Validation':  best_epoch_indx:36\n",
      " auc:0.852939136981386 \n",
      " apur:0.7841801060118206 \n",
      " f1:0.7049787851119823 \n",
      " precision:0.6444739038640939 \n",
      " recall:0.7780214569379409 \n",
      ", 'Test':  best_epoch_indx:36\n",
      " auc:0.852939136981386 \n",
      " apur:0.7841801060118206 \n",
      " f1:0.7049787851119823 \n",
      " precision:0.6444739038640939 \n",
      " recall:0.7780214569379409 \n",
      "}\n",
      "=====Epoch 37\n",
      "Training...\n"
     ]
    },
    {
     "name": "stderr",
     "output_type": "stream",
     "text": [
      "Iteration: 100%|██████████| 154/154 [00:04<00:00, 36.73it/s]\n",
      "Iteration:   4%|▍         | 6/154 [00:00<00:02, 57.53it/s]]]"
     ]
    },
    {
     "name": "stdout",
     "output_type": "stream",
     "text": [
      "Evaluating...\n"
     ]
    },
    {
     "name": "stderr",
     "output_type": "stream",
     "text": [
      "Iteration: 100%|██████████| 154/154 [00:01<00:00, 115.13it/s]\n",
      "Iteration: 100%|██████████| 154/154 [00:01<00:00, 119.94it/s]\n",
      "Iteration:   0%|          | 0/154 [00:00<?, ?it/s]3.45it/s]]"
     ]
    },
    {
     "name": "stdout",
     "output_type": "stream",
     "text": [
      "{'Train':  best_epoch_indx:35\n",
      " auc:0.8414479405077259 \n",
      " apur:0.7702275505034543 \n",
      " f1:0.6918449748674705 \n",
      " precision:0.6446560196560197 \n",
      " recall:0.7464880564281904 \n",
      ", 'Validation':  best_epoch_indx:35\n",
      " auc:0.8414479405077259 \n",
      " apur:0.7702275505034543 \n",
      " f1:0.6918449748674705 \n",
      " precision:0.6446560196560197 \n",
      " recall:0.7464880564281904 \n",
      ", 'Test':  best_epoch_indx:35\n",
      " auc:0.8414479405077259 \n",
      " apur:0.7702275505034543 \n",
      " f1:0.6918449748674705 \n",
      " precision:0.6446560196560197 \n",
      " recall:0.7464880564281904 \n",
      "}\n",
      "=====Epoch 36\n",
      "Training...\n"
     ]
    },
    {
     "name": "stderr",
     "output_type": "stream",
     "text": [
      "Iteration: 100%|██████████| 154/154 [00:01<00:00, 92.24it/s] \n",
      "Iteration: 100%|██████████| 154/154 [00:03<00:00, 44.54it/s]\n",
      "Iteration:   9%|▉         | 14/154 [00:00<00:04, 34.88it/s]]"
     ]
    },
    {
     "name": "stdout",
     "output_type": "stream",
     "text": [
      "Evaluating...\n"
     ]
    },
    {
     "name": "stderr",
     "output_type": "stream",
     "text": [
      "Iteration:  72%|███████▏  | 111/154 [00:03<00:01, 34.52it/s]]"
     ]
    },
    {
     "name": "stdout",
     "output_type": "stream",
     "text": [
      "{'Train':  best_epoch_indx:36\n",
      " auc:0.8455180768031099 \n",
      " apur:0.7755318695895177 \n",
      " f1:0.6953393295175796 \n",
      " precision:0.6436248044805489 \n",
      " recall:0.7560903325232647 \n",
      ", 'Validation':  best_epoch_indx:36\n",
      " auc:0.8455180768031099 \n",
      " apur:0.7755318695895177 \n",
      " f1:0.6953393295175796 \n",
      " precision:0.6436248044805489 \n",
      " recall:0.7560903325232647 \n",
      ", 'Test':  best_epoch_indx:36\n",
      " auc:0.8455180768031099 \n",
      " apur:0.7755318695895177 \n",
      " f1:0.6953393295175796 \n",
      " precision:0.6436248044805489 \n",
      " recall:0.7560903325232647 \n",
      "}\n",
      "=====Epoch 37\n",
      "Training...\n"
     ]
    },
    {
     "name": "stderr",
     "output_type": "stream",
     "text": [
      "Iteration: 100%|██████████| 154/154 [00:01<00:00, 126.82it/s]\n",
      "Iteration: 100%|██████████| 154/154 [00:01<00:00, 126.08it/s]\n",
      "Iteration: 100%|██████████| 154/154 [00:04<00:00, 35.77it/s]\n",
      "Iteration:  62%|██████▏   | 96/154 [00:02<00:01, 44.59it/s]]"
     ]
    },
    {
     "name": "stdout",
     "output_type": "stream",
     "text": [
      "Evaluating...\n"
     ]
    },
    {
     "name": "stderr",
     "output_type": "stream",
     "text": [
      "Iteration: 100%|██████████| 154/154 [00:01<00:00, 110.29it/s]\n",
      "Iteration: 100%|██████████| 154/154 [00:03<00:00, 43.15it/s]]\n",
      "Iteration: 100%|██████████| 154/154 [00:01<00:00, 89.25it/s] \n",
      "Iteration:  95%|█████████▍| 146/154 [00:01<00:00, 78.96it/s]"
     ]
    },
    {
     "name": "stdout",
     "output_type": "stream",
     "text": [
      "Evaluating...\n"
     ]
    },
    {
     "name": "stderr",
     "output_type": "stream",
     "text": [
      "Iteration: 100%|██████████| 154/154 [00:01<00:00, 97.92it/s]\n",
      "Iteration:   4%|▍         | 6/154 [00:00<00:02, 50.84it/s]s]"
     ]
    },
    {
     "name": "stdout",
     "output_type": "stream",
     "text": [
      "{'Train':  best_epoch_indx:37\n",
      " auc:0.861069860751329 \n",
      " apur:0.7936520723867326 \n",
      " f1:0.7138056263212098 \n",
      " precision:0.6575951263357636 \n",
      " recall:0.7805239449976292 \n",
      ", 'Validation':  best_epoch_indx:37\n",
      " auc:0.861069860751329 \n",
      " apur:0.7936520723867326 \n",
      " f1:0.7138056263212098 \n",
      " precision:0.6575951263357636 \n",
      " recall:0.7805239449976292 \n",
      ", 'Test':  best_epoch_indx:37\n",
      " auc:0.861069860751329 \n",
      " apur:0.7936520723867326 \n",
      " f1:0.7138056263212098 \n",
      " precision:0.6575951263357636 \n",
      " recall:0.7805239449976292 \n",
      "}\n",
      "=====Epoch 38\n",
      "Training...\n"
     ]
    },
    {
     "name": "stderr",
     "output_type": "stream",
     "text": [
      "Iteration: 100%|██████████| 154/154 [00:01<00:00, 117.24it/s]\n",
      "Iteration: 100%|██████████| 154/154 [00:03<00:00, 38.77it/s]\n",
      "Iteration:  31%|███       | 47/154 [00:01<00:02, 45.81it/s]]"
     ]
    },
    {
     "name": "stdout",
     "output_type": "stream",
     "text": [
      "Evaluating...\n"
     ]
    },
    {
     "name": "stderr",
     "output_type": "stream",
     "text": [
      "Iteration: 100%|██████████| 154/154 [00:01<00:00, 111.88it/s]\n",
      "Iteration: 100%|██████████| 154/154 [00:01<00:00, 126.89it/s]\n"
     ]
    },
    {
     "name": "stdout",
     "output_type": "stream",
     "text": [
      "{'Train':  best_epoch_indx:36\n",
      " auc:0.8455562767644345 \n",
      " apur:0.7737562269559082 \n",
      " f1:0.6974468903729354 \n",
      " precision:0.6502177811939533 \n",
      " recall:0.7520744428639166 \n",
      ", 'Validation':  best_epoch_indx:36\n",
      " auc:0.8455562767644345 \n",
      " apur:0.7737562269559082 \n",
      " f1:0.6974468903729354 \n",
      " precision:0.6502177811939533 \n",
      " recall:0.7520744428639166 \n",
      ", 'Test':  best_epoch_indx:36\n",
      " auc:0.8455562767644345 \n",
      " apur:0.7737562269559082 \n",
      " f1:0.6974468903729354 \n",
      " precision:0.6502177811939533 \n",
      " recall:0.7520744428639166 \n",
      "}\n",
      "=====Epoch 37\n",
      "Training...\n"
     ]
    },
    {
     "name": "stderr",
     "output_type": "stream",
     "text": [
      "Iteration: 100%|██████████| 154/154 [00:02<00:00, 73.50it/s]\n",
      "Iteration: 100%|██████████| 154/154 [00:01<00:00, 110.74it/s]\n",
      "Iteration: 100%|██████████| 154/154 [00:03<00:00, 44.93it/s]\n",
      "Iteration:   0%|          | 0/154 [00:00<?, ?it/s]7.69it/s]]"
     ]
    },
    {
     "name": "stdout",
     "output_type": "stream",
     "text": [
      "Evaluating...\n"
     ]
    },
    {
     "name": "stderr",
     "output_type": "stream",
     "text": [
      "Iteration: 100%|██████████| 154/154 [00:01<00:00, 103.32it/s]\n",
      "Iteration: 100%|██████████| 154/154 [00:01<00:00, 120.60it/s]\n",
      "Iteration: 100%|██████████| 154/154 [00:01<00:00, 110.42it/s]\n",
      "Iteration: 100%|██████████| 154/154 [00:01<00:00, 107.44it/s]\n",
      "Iteration:  86%|████████▋ | 133/154 [00:03<00:00, 41.31it/s]"
     ]
    },
    {
     "name": "stdout",
     "output_type": "stream",
     "text": [
      "{'Train':  best_epoch_indx:37\n",
      " auc:0.863214631997699 \n",
      " apur:0.7970059658122842 \n",
      " f1:0.71497904257666 \n",
      " precision:0.6684886299180116 \n",
      " recall:0.7684191808428664 \n",
      ", 'Validation':  best_epoch_indx:37\n",
      " auc:0.863214631997699 \n",
      " apur:0.7970059658122842 \n",
      " f1:0.71497904257666 \n",
      " precision:0.6684886299180116 \n",
      " recall:0.7684191808428664 \n",
      ", 'Test':  best_epoch_indx:37\n",
      " auc:0.863214631997699 \n",
      " apur:0.7970059658122842 \n",
      " f1:0.71497904257666 \n",
      " precision:0.6684886299180116 \n",
      " recall:0.7684191808428664 \n",
      "}\n",
      "=====Epoch 38\n",
      "Training...\n"
     ]
    },
    {
     "name": "stderr",
     "output_type": "stream",
     "text": [
      "Iteration: 100%|██████████| 154/154 [00:03<00:00, 38.98it/s]\n",
      "Iteration:  19%|█▉        | 29/154 [00:00<00:03, 41.10it/s]s]"
     ]
    },
    {
     "name": "stdout",
     "output_type": "stream",
     "text": [
      "Evaluating...\n",
      "{'Train':  best_epoch_indx:36\n",
      " auc:0.847654156708716 \n",
      " apur:0.7765387083604044 \n",
      " f1:0.6981029515681905 \n",
      " precision:0.6446318325553381 \n",
      " recall:0.7612471104261751 \n",
      ", 'Validation':  best_epoch_indx:36\n",
      " auc:0.847654156708716 \n",
      " apur:0.7765387083604044 \n",
      " f1:0.6981029515681905 \n",
      " precision:0.6446318325553381 \n",
      " recall:0.7612471104261751 \n",
      ", 'Test':  best_epoch_indx:36\n",
      " auc:0.847654156708716 \n",
      " apur:0.7765387083604044 \n",
      " f1:0.6981029515681905 \n",
      " precision:0.6446318325553381 \n",
      " recall:0.7612471104261751 \n",
      "}\n",
      "=====Epoch 37\n",
      "Training...\n"
     ]
    },
    {
     "name": "stderr",
     "output_type": "stream",
     "text": [
      "Iteration: 100%|██████████| 154/154 [00:01<00:00, 107.04it/s]\n",
      "Iteration: 100%|██████████| 154/154 [00:01<00:00, 124.63it/s]\n",
      "Iteration:  40%|████      | 62/154 [00:01<00:02, 40.97it/s]s]"
     ]
    },
    {
     "name": "stdout",
     "output_type": "stream",
     "text": [
      "{'Train':  best_epoch_indx:37\n",
      " auc:0.8576779004327278 \n",
      " apur:0.7901818873660293 \n",
      " f1:0.7078597270888529 \n",
      " precision:0.6814392277314612 \n",
      " recall:0.7364115938592851 \n",
      ", 'Validation':  best_epoch_indx:37\n",
      " auc:0.8576779004327278 \n",
      " apur:0.7901818873660293 \n",
      " f1:0.7078597270888529 \n",
      " precision:0.6814392277314612 \n",
      " recall:0.7364115938592851 \n",
      ", 'Test':  best_epoch_indx:37\n",
      " auc:0.8576779004327278 \n",
      " apur:0.7901818873660293 \n",
      " f1:0.7078597270888529 \n",
      " precision:0.6814392277314612 \n",
      " recall:0.7364115938592851 \n",
      "}\n",
      "=====Epoch 38\n",
      "Training...\n"
     ]
    },
    {
     "name": "stderr",
     "output_type": "stream",
     "text": [
      "Iteration: 100%|██████████| 154/154 [00:01<00:00, 124.41it/s]\n",
      "Iteration: 100%|██████████| 154/154 [00:01<00:00, 116.79it/s]\n",
      "Iteration: 100%|██████████| 154/154 [00:01<00:00, 124.80it/s]\n"
     ]
    },
    {
     "name": "stdout",
     "output_type": "stream",
     "text": [
      "{'Train':  best_epoch_indx:38\n",
      " auc:0.8703999444868429 \n",
      " apur:0.8065146117564341 \n",
      " f1:0.7250670902020923 \n",
      " precision:0.6738776341239947 \n",
      " recall:0.7846728307254623 \n",
      ", 'Validation':  best_epoch_indx:38\n",
      " auc:0.8703999444868429 \n",
      " apur:0.8065146117564341 \n",
      " f1:0.7250670902020923 \n",
      " precision:0.6738776341239947 \n",
      " recall:0.7846728307254623 \n",
      ", 'Test':  best_epoch_indx:38\n",
      " auc:0.8703999444868429 \n",
      " apur:0.8065146117564341 \n",
      " f1:0.7250670902020923 \n",
      " precision:0.6738776341239947 \n",
      " recall:0.7846728307254623 \n",
      "}\n",
      "=====Epoch 39\n",
      "Training...\n",
      "Evaluating...\n"
     ]
    },
    {
     "name": "stderr",
     "output_type": "stream",
     "text": [
      "Iteration: 100%|██████████| 154/154 [00:03<00:00, 41.84it/s]\n",
      "Iteration: 100%|██████████| 154/154 [00:03<00:00, 39.24it/s]\n",
      "Iteration:   0%|          | 0/154 [00:00<?, ?it/s]"
     ]
    },
    {
     "name": "stdout",
     "output_type": "stream",
     "text": [
      "Evaluating...\n"
     ]
    },
    {
     "name": "stderr",
     "output_type": "stream",
     "text": [
      "Iteration: 100%|██████████| 154/154 [00:01<00:00, 127.04it/s]\n",
      "Iteration: 100%|██████████| 154/154 [00:01<00:00, 119.50it/s]\n",
      "Iteration: 100%|██████████| 154/154 [00:04<00:00, 36.80it/s]\n",
      "Iteration:   0%|          | 0/154 [00:00<?, ?it/s]"
     ]
    },
    {
     "name": "stdout",
     "output_type": "stream",
     "text": [
      "Evaluating...\n"
     ]
    },
    {
     "name": "stderr",
     "output_type": "stream",
     "text": [
      "Iteration:   0%|          | 0/154 [00:00<?, ?it/s]1.04it/s]]]"
     ]
    },
    {
     "name": "stdout",
     "output_type": "stream",
     "text": [
      "{'Train':  best_epoch_indx:37\n",
      " auc:0.8544941591868782 \n",
      " apur:0.7839153167279871 \n",
      " f1:0.705946714809344 \n",
      " precision:0.655491212028853 \n",
      " recall:0.7648174490279753 \n",
      ", 'Validation':  best_epoch_indx:37\n",
      " auc:0.8544941591868782 \n",
      " apur:0.7839153167279871 \n",
      " f1:0.705946714809344 \n",
      " precision:0.655491212028853 \n",
      " recall:0.7648174490279753 \n",
      ", 'Test':  best_epoch_indx:37\n",
      " auc:0.8544941591868782 \n",
      " apur:0.7839153167279871 \n",
      " f1:0.705946714809344 \n",
      " precision:0.655491212028853 \n",
      " recall:0.7648174490279753 \n",
      "}\n",
      "=====Epoch 38\n",
      "Training...\n"
     ]
    },
    {
     "name": "stderr",
     "output_type": "stream",
     "text": [
      "Iteration: 100%|██████████| 154/154 [00:01<00:00, 96.28it/s] \n",
      "Iteration: 100%|██████████| 154/154 [00:03<00:00, 45.87it/s]]\n",
      "Iteration:  31%|███       | 47/154 [00:01<00:02, 45.87it/s]]]"
     ]
    },
    {
     "name": "stdout",
     "output_type": "stream",
     "text": [
      "Evaluating...\n"
     ]
    },
    {
     "name": "stderr",
     "output_type": "stream",
     "text": [
      "Iteration: 100%|██████████| 154/154 [00:01<00:00, 103.00it/s]\n",
      "Iteration: 100%|██████████| 154/154 [00:02<00:00, 74.22it/s]\n",
      "Iteration: 100%|██████████| 154/154 [00:01<00:00, 115.68it/s]\n",
      "Iteration: 100%|██████████| 154/154 [00:01<00:00, 99.27it/s] \n",
      "Iteration: 100%|██████████| 154/154 [00:01<00:00, 100.61it/s]\n",
      "Iteration: 100%|██████████| 154/154 [00:03<00:00, 45.05it/s]]\n",
      "Iteration:  41%|████      | 63/154 [00:00<00:01, 72.83it/s]s]"
     ]
    },
    {
     "name": "stdout",
     "output_type": "stream",
     "text": [
      "Evaluating...\n"
     ]
    },
    {
     "name": "stderr",
     "output_type": "stream",
     "text": [
      "Iteration: 100%|██████████| 154/154 [00:01<00:00, 107.77it/s]\n",
      "Iteration: 100%|██████████| 154/154 [00:01<00:00, 95.89it/s] \n",
      "Iteration:  19%|█▉        | 30/154 [00:00<00:01, 66.06it/s]s]"
     ]
    },
    {
     "name": "stdout",
     "output_type": "stream",
     "text": [
      "{'Train':  best_epoch_indx:38\n",
      " auc:0.8733477651002699 \n",
      " apur:0.8107485080382211 \n",
      " f1:0.7265147894429398 \n",
      " precision:0.6580251070174595 \n",
      " recall:0.810918143559955 \n",
      ", 'Validation':  best_epoch_indx:38\n",
      " auc:0.8733477651002699 \n",
      " apur:0.8107485080382211 \n",
      " f1:0.7265147894429398 \n",
      " precision:0.6580251070174595 \n",
      " recall:0.810918143559955 \n",
      ", 'Test':  best_epoch_indx:38\n",
      " auc:0.8733477651002699 \n",
      " apur:0.8107485080382211 \n",
      " f1:0.7265147894429398 \n",
      " precision:0.6580251070174595 \n",
      " recall:0.810918143559955 \n",
      "}\n",
      "=====Epoch 39\n",
      "Training...\n"
     ]
    },
    {
     "name": "stderr",
     "output_type": "stream",
     "text": [
      "Iteration: 100%|██████████| 154/154 [00:01<00:00, 122.78it/s]\n",
      "Iteration: 100%|██████████| 154/154 [00:01<00:00, 104.40it/s]\n",
      "Iteration: 100%|██████████| 154/154 [00:01<00:00, 85.61it/s] \n",
      "Iteration:  42%|████▏     | 64/154 [00:01<00:02, 40.68it/s]]"
     ]
    },
    {
     "name": "stdout",
     "output_type": "stream",
     "text": [
      "{'Train':  best_epoch_indx:38\n",
      " auc:0.869161027695435 \n",
      " apur:0.8073162281665276 \n",
      " f1:0.7223910281199932 \n",
      " precision:0.676426465263049 \n",
      " recall:0.7750577914764981 \n",
      ", 'Validation':  best_epoch_indx:38\n",
      " auc:0.869161027695435 \n",
      " apur:0.8073162281665276 \n",
      " f1:0.7223910281199932 \n",
      " precision:0.676426465263049 \n",
      " recall:0.7750577914764981 \n",
      ", 'Test':  best_epoch_indx:38\n",
      " auc:0.869161027695435 \n",
      " apur:0.8073162281665276 \n",
      " f1:0.7223910281199932 \n",
      " precision:0.676426465263049 \n",
      " recall:0.7750577914764981 \n",
      "}\n",
      "=====Epoch 39\n",
      "Training...\n"
     ]
    },
    {
     "name": "stderr",
     "output_type": "stream",
     "text": [
      "Iteration: 100%|██████████| 154/154 [00:01<00:00, 118.76it/s]\n"
     ]
    },
    {
     "name": "stdout",
     "output_type": "stream",
     "text": [
      "{'Train':  best_epoch_indx:37\n",
      " auc:0.8595944735321073 \n",
      " apur:0.7931266930646105 \n",
      " f1:0.7105151128139634 \n",
      " precision:0.6446193211992468 \n",
      " recall:0.791417224823662 \n",
      ", 'Validation':  best_epoch_indx:37\n",
      " auc:0.8595944735321073 \n",
      " apur:0.7931266930646105 \n",
      " f1:0.7105151128139634 \n",
      " precision:0.6446193211992468 \n",
      " recall:0.791417224823662 \n",
      ", 'Test':  best_epoch_indx:37\n",
      " auc:0.8595944735321073 \n",
      " apur:0.7931266930646105 \n",
      " f1:0.7105151128139634 \n",
      " precision:0.6446193211992468 \n",
      " recall:0.791417224823662 \n",
      "}\n",
      "=====Epoch 38\n",
      "Training...\n"
     ]
    },
    {
     "name": "stderr",
     "output_type": "stream",
     "text": [
      "Iteration: 100%|██████████| 154/154 [00:01<00:00, 97.83it/s] \n",
      "Iteration:  19%|█▉        | 30/154 [00:00<00:02, 45.45it/s]]"
     ]
    },
    {
     "name": "stdout",
     "output_type": "stream",
     "text": [
      "{'Train':  best_epoch_indx:39\n",
      " auc:0.8786270029178826 \n",
      " apur:0.8163580601828402 \n",
      " f1:0.7349875122163101 \n",
      " precision:0.6780705269485073 \n",
      " recall:0.802335229966809 \n",
      ", 'Validation':  best_epoch_indx:39\n",
      " auc:0.8786270029178826 \n",
      " apur:0.8163580601828402 \n",
      " f1:0.7349875122163101 \n",
      " precision:0.6780705269485073 \n",
      " recall:0.802335229966809 \n",
      ", 'Test':  best_epoch_indx:39\n",
      " auc:0.8786270029178826 \n",
      " apur:0.8163580601828402 \n",
      " f1:0.7349875122163101 \n",
      " precision:0.6780705269485073 \n",
      " recall:0.802335229966809 \n",
      "}\n",
      "=====Epoch 40\n",
      "Training...\n"
     ]
    },
    {
     "name": "stderr",
     "output_type": "stream",
     "text": [
      "Iteration: 100%|██████████| 154/154 [00:03<00:00, 40.40it/s]\n",
      "Iteration:  39%|███▉      | 60/154 [00:01<00:02, 39.61it/s]]"
     ]
    },
    {
     "name": "stdout",
     "output_type": "stream",
     "text": [
      "Evaluating...\n"
     ]
    },
    {
     "name": "stderr",
     "output_type": "stream",
     "text": [
      "Iteration: 100%|██████████| 154/154 [00:01<00:00, 116.02it/s]\n",
      "Iteration: 100%|██████████| 154/154 [00:01<00:00, 121.07it/s]\n",
      "Iteration: 100%|██████████| 154/154 [00:03<00:00, 43.81it/s]\n",
      "Iteration:   7%|▋         | 11/154 [00:00<00:01, 109.66it/s]"
     ]
    },
    {
     "name": "stdout",
     "output_type": "stream",
     "text": [
      "{'Train':  best_epoch_indx:38\n",
      " auc:0.8654762469274674 \n",
      " apur:0.7995086733754159 \n",
      " f1:0.7172648301144968 \n",
      " precision:0.6499446343459632 \n",
      " recall:0.8001422475106685 \n",
      ", 'Validation':  best_epoch_indx:38\n",
      " auc:0.8654762469274674 \n",
      " apur:0.7995086733754159 \n",
      " f1:0.7172648301144968 \n",
      " precision:0.6499446343459632 \n",
      " recall:0.8001422475106685 \n",
      ", 'Test':  best_epoch_indx:38\n",
      " auc:0.8654762469274674 \n",
      " apur:0.7995086733754159 \n",
      " f1:0.7172648301144968 \n",
      " precision:0.6499446343459632 \n",
      " recall:0.8001422475106685 \n",
      "}\n",
      "=====Epoch 39\n",
      "Training...\n",
      "Evaluating...\n"
     ]
    },
    {
     "name": "stderr",
     "output_type": "stream",
     "text": [
      "Iteration: 100%|██████████| 154/154 [00:03<00:00, 43.99it/s]\n",
      "Iteration: 100%|██████████| 154/154 [00:04<00:00, 37.37it/s]]\n",
      "Iteration:   7%|▋         | 11/154 [00:00<00:01, 108.45it/s]"
     ]
    },
    {
     "name": "stdout",
     "output_type": "stream",
     "text": [
      "Evaluating...\n",
      "Evaluating...\n"
     ]
    },
    {
     "name": "stderr",
     "output_type": "stream",
     "text": [
      "Iteration: 100%|██████████| 154/154 [00:01<00:00, 115.75it/s]\n",
      "Iteration: 100%|██████████| 154/154 [00:01<00:00, 117.78it/s]\n",
      "Iteration: 100%|██████████| 154/154 [00:01<00:00, 85.37it/s] \n",
      "Iteration: 100%|██████████| 154/154 [00:02<00:00, 73.76it/s]]\n",
      "Iteration: 100%|██████████| 154/154 [00:01<00:00, 97.58it/s] \n",
      "Iteration: 100%|██████████| 154/154 [00:03<00:00, 44.68it/s]\n",
      "Iteration:   0%|          | 0/154 [00:00<?, ?it/s]"
     ]
    },
    {
     "name": "stdout",
     "output_type": "stream",
     "text": [
      "Evaluating...\n"
     ]
    },
    {
     "name": "stderr",
     "output_type": "stream",
     "text": [
      "Iteration: 100%|██████████| 154/154 [00:01<00:00, 126.90it/s]\n",
      "Iteration: 100%|██████████| 154/154 [00:01<00:00, 115.60it/s]\n",
      "Iteration: 100%|██████████| 154/154 [00:01<00:00, 86.62it/s] \n",
      "Iteration: 100%|██████████| 154/154 [00:01<00:00, 107.55it/s]\n"
     ]
    },
    {
     "name": "stdout",
     "output_type": "stream",
     "text": [
      "{'Train':  best_epoch_indx:39\n",
      " auc:0.8780711070558416 \n",
      " apur:0.8179060281879087 \n",
      " f1:0.7326197367702474 \n",
      " precision:0.6792061161460179 \n",
      " recall:0.7951514433050797 \n",
      ", 'Validation':  best_epoch_indx:39\n",
      " auc:0.8780711070558416 \n",
      " apur:0.8179060281879087 \n",
      " f1:0.7326197367702474 \n",
      " precision:0.6792061161460179 \n",
      " recall:0.7951514433050797 \n",
      ", 'Test':  best_epoch_indx:39\n",
      " auc:0.8780711070558416 \n",
      " apur:0.8179060281879087 \n",
      " f1:0.7326197367702474 \n",
      " precision:0.6792061161460179 \n",
      " recall:0.7951514433050797 \n",
      "}\n",
      "=====Epoch 40\n",
      "Training...\n"
     ]
    },
    {
     "name": "stderr",
     "output_type": "stream",
     "text": [
      "Iteration: 100%|██████████| 154/154 [00:01<00:00, 101.47it/s]\n",
      "Iteration: 100%|██████████| 154/154 [00:01<00:00, 107.50it/s]\n",
      "Iteration:   0%|          | 0/154 [00:00<?, ?it/s]7.59it/s]"
     ]
    },
    {
     "name": "stdout",
     "output_type": "stream",
     "text": [
      "{'Train':  best_epoch_indx:39\n",
      " auc:0.8755236015430994 \n",
      " apur:0.8166609210872386 \n",
      " f1:0.7314807087818853 \n",
      " precision:0.6891707726176748 \n",
      " recall:0.7793254697409756 \n",
      ", 'Validation':  best_epoch_indx:39\n",
      " auc:0.8755236015430994 \n",
      " apur:0.8166609210872386 \n",
      " f1:0.7314807087818853 \n",
      " precision:0.6891707726176748 \n",
      " recall:0.7793254697409756 \n",
      ", 'Test':  best_epoch_indx:39\n",
      " auc:0.8755236015430994 \n",
      " apur:0.8166609210872386 \n",
      " f1:0.7314807087818853 \n",
      " precision:0.6891707726176748 \n",
      " recall:0.7793254697409756 \n",
      "}\n",
      "=====Epoch 40\n",
      "Training...\n"
     ]
    },
    {
     "name": "stderr",
     "output_type": "stream",
     "text": [
      "Iteration:  11%|█         | 17/154 [00:00<00:03, 36.80it/s]s]"
     ]
    },
    {
     "name": "stdout",
     "output_type": "stream",
     "text": [
      "{'Train':  best_epoch_indx:40\n",
      " auc:0.8786478711117574 \n",
      " apur:0.817389773099793 \n",
      " f1:0.7331793001698076 \n",
      " precision:0.6912498031599391 \n",
      " recall:0.7805239449976292 \n",
      ", 'Validation':  best_epoch_indx:40\n",
      " auc:0.8786478711117574 \n",
      " apur:0.817389773099793 \n",
      " f1:0.7331793001698076 \n",
      " precision:0.6912498031599391 \n",
      " recall:0.7805239449976292 \n",
      ", 'Test':  best_epoch_indx:40\n",
      " auc:0.8786478711117574 \n",
      " apur:0.817389773099793 \n",
      " f1:0.7331793001698076 \n",
      " precision:0.6912498031599391 \n",
      " recall:0.7805239449976292 \n",
      "}\n",
      "=====Epoch 41\n",
      "Training...\n"
     ]
    },
    {
     "name": "stderr",
     "output_type": "stream",
     "text": [
      "Iteration: 100%|██████████| 154/154 [00:01<00:00, 81.59it/s] \n",
      "Iteration: 100%|██████████| 154/154 [00:01<00:00, 101.10it/s]\n",
      "Iteration:   4%|▍         | 6/154 [00:00<00:02, 50.54it/s]]]"
     ]
    },
    {
     "name": "stdout",
     "output_type": "stream",
     "text": [
      "{'Train':  best_epoch_indx:38\n",
      " auc:0.8669218974944106 \n",
      " apur:0.803138419428993 \n",
      " f1:0.718859235421406 \n",
      " precision:0.6756714471968709 \n",
      " recall:0.7679449943690356 \n",
      ", 'Validation':  best_epoch_indx:38\n",
      " auc:0.8669218974944106 \n",
      " apur:0.803138419428993 \n",
      " f1:0.718859235421406 \n",
      " precision:0.6756714471968709 \n",
      " recall:0.7679449943690356 \n",
      ", 'Test':  best_epoch_indx:38\n",
      " auc:0.8669218974944106 \n",
      " apur:0.803138419428993 \n",
      " f1:0.718859235421406 \n",
      " precision:0.6756714471968709 \n",
      " recall:0.7679449943690356 \n",
      "}\n",
      "=====Epoch 39\n",
      "Training...\n"
     ]
    },
    {
     "name": "stderr",
     "output_type": "stream",
     "text": [
      "Iteration:  82%|████████▏ | 127/154 [00:02<00:00, 45.74it/s]\n",
      "Iteration:   5%|▍         | 7/154 [00:00<00:02, 61.18it/s]s]"
     ]
    },
    {
     "name": "stdout",
     "output_type": "stream",
     "text": [
      "Evaluating...\n"
     ]
    },
    {
     "name": "stderr",
     "output_type": "stream",
     "text": [
      "Iteration: 100%|██████████| 154/154 [00:03<00:00, 42.99it/s]\n",
      "Iteration:  27%|██▋       | 41/154 [00:00<00:01, 72.05it/s]]"
     ]
    },
    {
     "name": "stdout",
     "output_type": "stream",
     "text": [
      "Evaluating...\n"
     ]
    },
    {
     "name": "stderr",
     "output_type": "stream",
     "text": [
      "\r",
      "Iteration:  16%|█▌        | 25/154 [00:00<00:01, 120.96it/s]\r",
      "Iteration:  50%|█████     | 77/154 [00:01<00:01, 45.43it/s]\r",
      "Iteration:  99%|█████████▊| 152/154 [00:03<00:00, 43.10it/s]\r",
      "Iteration: 100%|██████████| 154/154 [00:03<00:00, 45.04it/s]\n",
      "\r",
      "Iteration:   0%|          | 0/154 [00:00<?, ?it/s]\r",
      "Iteration:  68%|██████▊   | 105/154 [00:01<00:00, 62.47it/s]\r",
      "Iteration:  32%|███▏      | 49/154 [00:00<00:01, 71.41it/s]\r",
      "Iteration:  25%|██▍       | 38/154 [00:00<00:00, 123.32it/s]\r",
      "Iteration:  53%|█████▎    | 82/154 [00:01<00:01, 45.43it/s]\r",
      "Iteration:   7%|▋         | 11/154 [00:00<00:01, 108.93it/s]"
     ]
    },
    {
     "name": "stdout",
     "output_type": "stream",
     "text": [
      "Evaluating...\n"
     ]
    },
    {
     "name": "stderr",
     "output_type": "stream",
     "text": [
      "Iteration: 100%|██████████| 154/154 [00:02<00:00, 63.27it/s]]\n",
      "Iteration: 100%|██████████| 154/154 [00:01<00:00, 117.13it/s]\n",
      "Iteration: 100%|██████████| 154/154 [00:01<00:00, 108.46it/s]\n"
     ]
    },
    {
     "name": "stdout",
     "output_type": "stream",
     "text": [
      "{'Train':  best_epoch_indx:39\n",
      " auc:0.8736070718209823 \n",
      " apur:0.8122100611310197 \n",
      " f1:0.7265390136229449 \n",
      " precision:0.6689441923096104 \n",
      " recall:0.7949857752489331 \n",
      ", 'Validation':  best_epoch_indx:39\n",
      " auc:0.8736070718209823 \n",
      " apur:0.8122100611310197 \n",
      " f1:0.7265390136229449 \n",
      " precision:0.6689441923096104 \n",
      " recall:0.7949857752489331 \n",
      ", 'Test':  best_epoch_indx:39\n",
      " auc:0.8736070718209823 \n",
      " apur:0.8122100611310197 \n",
      " f1:0.7265390136229449 \n",
      " precision:0.6689441923096104 \n",
      " recall:0.7949857752489331 \n",
      "}\n",
      "=====Epoch 40\n",
      "Training...\n"
     ]
    },
    {
     "name": "stderr",
     "output_type": "stream",
     "text": [
      "\r",
      "Iteration:  92%|█████████▏| 141/154 [00:02<00:00, 48.69it/s]\r",
      "Iteration:   3%|▎         | 5/154 [00:00<00:03, 41.62it/s]\r",
      "Iteration:  95%|█████████▌| 147/154 [00:03<00:00, 45.30it/s]\r",
      "Iteration:   0%|          | 0/154 [00:00<?, ?it/s]\r",
      "Iteration:  96%|█████████▌| 148/154 [00:02<00:00, 52.70it/s]\r",
      "Iteration:   6%|▋         | 10/154 [00:00<00:03, 41.39it/s]\r",
      "Iteration:  99%|█████████▊| 152/154 [00:03<00:00, 45.29it/s]\r",
      "Iteration:   5%|▍         | 7/154 [00:00<00:02, 69.15it/s]\r",
      "Iteration: 100%|██████████| 154/154 [00:02<00:00, 67.30it/s]\n",
      "\r",
      "Iteration: 100%|██████████| 154/154 [00:03<00:00, 45.57it/s]\n",
      "\r",
      "Iteration:   0%|          | 0/154 [00:00<?, ?it/s]"
     ]
    },
    {
     "name": "stdout",
     "output_type": "stream",
     "text": [
      "Evaluating...\n"
     ]
    },
    {
     "name": "stderr",
     "output_type": "stream",
     "text": [
      "Iteration: 100%|██████████| 154/154 [00:01<00:00, 116.79it/s]\n",
      "Iteration: 100%|██████████| 154/154 [00:01<00:00, 119.10it/s]\n",
      "Iteration: 100%|██████████| 154/154 [00:02<00:00, 74.06it/s]\n",
      "Iteration: 100%|██████████| 154/154 [00:01<00:00, 88.39it/s] \n",
      "Iteration: 100%|██████████| 154/154 [00:03<00:00, 44.28it/s]]\n",
      "Iteration:   5%|▌         | 8/154 [00:00<00:01, 77.83it/s]]s]"
     ]
    },
    {
     "name": "stdout",
     "output_type": "stream",
     "text": [
      "Evaluating...\n"
     ]
    },
    {
     "name": "stderr",
     "output_type": "stream",
     "text": [
      "Iteration: 100%|██████████| 154/154 [00:01<00:00, 105.01it/s]\n",
      "Iteration: 100%|██████████| 154/154 [00:01<00:00, 79.01it/s] \n",
      "Iteration: 100%|██████████| 154/154 [00:01<00:00, 110.94it/s]\n",
      "Iteration: 100%|██████████| 154/154 [00:01<00:00, 109.64it/s]\n",
      "Iteration:   4%|▍         | 6/154 [00:00<00:02, 50.89it/s]]"
     ]
    },
    {
     "name": "stdout",
     "output_type": "stream",
     "text": [
      "{'Train':  best_epoch_indx:41\n",
      " auc:0.8723633131076671 \n",
      " apur:0.8092041673644377 \n",
      " f1:0.7245308125190586 \n",
      " precision:0.6805895526274673 \n",
      " recall:0.7745376955903271 \n",
      ", 'Validation':  best_epoch_indx:41\n",
      " auc:0.8723633131076671 \n",
      " apur:0.8092041673644377 \n",
      " f1:0.7245308125190586 \n",
      " precision:0.6805895526274673 \n",
      " recall:0.7745376955903271 \n",
      ", 'Test':  best_epoch_indx:41\n",
      " auc:0.8723633131076671 \n",
      " apur:0.8092041673644377 \n",
      " f1:0.7245308125190586 \n",
      " precision:0.6805895526274673 \n",
      " recall:0.7745376955903271 \n",
      "}\n",
      "=====Epoch 42\n",
      "Training...\n",
      "{'Train':  best_epoch_indx:40\n",
      " auc:0.8735502669039155 \n",
      " apur:0.8125088458986974 \n",
      " f1:0.7276531816718531 \n",
      " precision:0.6646410193580005 \n",
      " recall:0.8038646197617213 \n",
      ", 'Validation':  best_epoch_indx:40\n",
      " auc:0.8735502669039155 \n",
      " apur:0.8125088458986974 \n",
      " f1:0.7276531816718531 \n",
      " precision:0.6646410193580005 \n",
      " recall:0.8038646197617213 \n",
      ", 'Test':  best_epoch_indx:40\n",
      " auc:0.8735502669039155 \n",
      " apur:0.8125088458986974 \n",
      " f1:0.7276531816718531 \n",
      " precision:0.6646410193580005 \n",
      " recall:0.8038646197617213 \n",
      "}\n",
      "=====Epoch 41\n",
      "Training...\n"
     ]
    },
    {
     "name": "stderr",
     "output_type": "stream",
     "text": [
      "Iteration: 100%|██████████| 154/154 [00:02<00:00, 71.71it/s]]\n",
      "Iteration: 100%|██████████| 154/154 [00:01<00:00, 97.48it/s] \n",
      "Iteration:  50%|█████     | 77/154 [00:01<00:01, 45.71it/s]"
     ]
    },
    {
     "name": "stdout",
     "output_type": "stream",
     "text": [
      "{'Train':  best_epoch_indx:39\n",
      " auc:0.8761616587259327 \n",
      " apur:0.8141398970214647 \n",
      " f1:0.7306510198379437 \n",
      " precision:0.6911041809820815 \n",
      " recall:0.7749985181672693 \n",
      ", 'Validation':  best_epoch_indx:39\n",
      " auc:0.8761616587259327 \n",
      " apur:0.8141398970214647 \n",
      " f1:0.7306510198379437 \n",
      " precision:0.6911041809820815 \n",
      " recall:0.7749985181672693 \n",
      ", 'Test':  best_epoch_indx:39\n",
      " auc:0.8761616587259327 \n",
      " apur:0.8141398970214647 \n",
      " f1:0.7306510198379437 \n",
      " precision:0.6911041809820815 \n",
      " recall:0.7749985181672693 \n",
      "}\n",
      "=====Epoch 40\n",
      "Training...\n",
      "{'Train':  best_epoch_indx:40\n",
      " auc:0.8791494650823997 \n",
      " apur:0.8192317588846587 \n",
      " f1:0.7339174104096728 \n",
      " precision:0.6801396195872117 \n",
      " recall:0.7969296425819453 \n",
      ", 'Validation':  best_epoch_indx:40\n",
      " auc:0.8791494650823997 \n",
      " apur:0.8192317588846587 \n",
      " f1:0.7339174104096728 \n",
      " precision:0.6801396195872117 \n",
      " recall:0.7969296425819453 \n",
      ", 'Test':  best_epoch_indx:40\n",
      " auc:0.8791494650823997 \n",
      " apur:0.8192317588846587 \n",
      " f1:0.7339174104096728 \n",
      " precision:0.6801396195872117 \n",
      " recall:0.7969296425819453 \n",
      "}\n",
      "=====Epoch 41\n",
      "Training...\n"
     ]
    },
    {
     "name": "stderr",
     "output_type": "stream",
     "text": [
      "Iteration: 100%|██████████| 154/154 [00:01<00:00, 86.46it/s] \n",
      "Iteration: 100%|██████████| 154/154 [00:03<00:00, 45.67it/s]\n",
      "Iteration:  99%|█████████▊| 152/154 [00:03<00:00, 42.36it/s]"
     ]
    },
    {
     "name": "stdout",
     "output_type": "stream",
     "text": [
      "Evaluating...\n",
      "Evaluating...\n"
     ]
    },
    {
     "name": "stderr",
     "output_type": "stream",
     "text": [
      "Iteration: 100%|██████████| 154/154 [00:03<00:00, 44.45it/s]\n",
      "Iteration: 100%|██████████| 154/154 [00:01<00:00, 119.59it/s]\n",
      "Iteration: 100%|██████████| 154/154 [00:01<00:00, 117.51it/s]\n",
      "Iteration:  72%|███████▏  | 111/154 [00:03<00:01, 36.96it/s]"
     ]
    },
    {
     "name": "stdout",
     "output_type": "stream",
     "text": [
      "{'Train':  best_epoch_indx:40\n",
      " auc:0.8734413487550318 \n",
      " apur:0.8120784346743661 \n",
      " f1:0.7277560854033397 \n",
      " precision:0.6829876812724154 \n",
      " recall:0.7788051209103841 \n",
      ", 'Validation':  best_epoch_indx:40\n",
      " auc:0.8734413487550318 \n",
      " apur:0.8120784346743661 \n",
      " f1:0.7277560854033397 \n",
      " precision:0.6829876812724154 \n",
      " recall:0.7788051209103841 \n",
      ", 'Test':  best_epoch_indx:40\n",
      " auc:0.8734413487550318 \n",
      " apur:0.8120784346743661 \n",
      " f1:0.7277560854033397 \n",
      " precision:0.6829876812724154 \n",
      " recall:0.7788051209103841 \n",
      "}\n",
      "=====Epoch 41\n",
      "Training...\n"
     ]
    },
    {
     "name": "stderr",
     "output_type": "stream",
     "text": [
      "Iteration: 100%|██████████| 154/154 [00:01<00:00, 125.25it/s]\n",
      "Iteration: 100%|██████████| 154/154 [00:04<00:00, 38.08it/s]\n",
      "Iteration: 100%|██████████| 154/154 [00:04<00:00, 38.14it/s]\n",
      "Iteration:  27%|██▋       | 42/154 [00:01<00:02, 40.36it/s]]"
     ]
    },
    {
     "name": "stdout",
     "output_type": "stream",
     "text": [
      "Evaluating...\n",
      "Evaluating...\n"
     ]
    },
    {
     "name": "stderr",
     "output_type": "stream",
     "text": [
      "Iteration: 100%|██████████| 154/154 [00:01<00:00, 119.13it/s]\n",
      "Iteration: 100%|██████████| 154/154 [00:01<00:00, 116.44it/s]\n",
      "Iteration: 100%|██████████| 154/154 [00:01<00:00, 116.94it/s]\n",
      "Iteration: 100%|██████████| 154/154 [00:01<00:00, 86.60it/s] \n",
      "Iteration: 100%|██████████| 154/154 [00:01<00:00, 122.32it/s]\n",
      "Iteration: 100%|██████████| 154/154 [00:01<00:00, 123.01it/s]\n",
      "Iteration: 100%|██████████| 154/154 [00:04<00:00, 36.04it/s]]\n",
      "Iteration:   3%|▎         | 4/154 [00:00<00:04, 36.92it/s]"
     ]
    },
    {
     "name": "stdout",
     "output_type": "stream",
     "text": [
      "{'Train':  best_epoch_indx:42\n",
      " auc:0.8697740179867613 \n",
      " apur:0.8065125882756754 \n",
      " f1:0.7241171381380594 \n",
      " precision:0.6492407503173334 \n",
      " recall:0.818515884305358 \n",
      ", 'Validation':  best_epoch_indx:42\n",
      " auc:0.8697740179867613 \n",
      " apur:0.8065125882756754 \n",
      " f1:0.7241171381380594 \n",
      " precision:0.6492407503173334 \n",
      " recall:0.818515884305358 \n",
      ", 'Test':  best_epoch_indx:42\n",
      " auc:0.8697740179867613 \n",
      " apur:0.8065125882756754 \n",
      " f1:0.7241171381380594 \n",
      " precision:0.6492407503173334 \n",
      " recall:0.818515884305358 \n",
      "}\n",
      "=====Epoch 43\n",
      "Training...\n",
      "Evaluating...\n"
     ]
    },
    {
     "name": "stderr",
     "output_type": "stream",
     "text": [
      "\r",
      "Iteration:  76%|███████▌  | 117/154 [00:00<00:00, 121.48it/s]\r",
      "Iteration:  76%|███████▌  | 117/154 [00:01<00:00, 91.68it/s]\r",
      "Iteration:   4%|▍         | 6/154 [00:00<00:02, 58.64it/s]\r",
      "Iteration:   5%|▌         | 8/154 [00:00<00:03, 38.01it/s]\r",
      "Iteration:  84%|████████▍ | 130/154 [00:01<00:00, 123.47it/s]\r",
      "Iteration:  84%|████████▍ | 130/154 [00:01<00:00, 102.07it/s]\r",
      "Iteration:   9%|▉         | 14/154 [00:00<00:02, 67.92it/s]\r",
      "Iteration:   0%|          | 0/154 [00:00<?, ?it/s]\r",
      "Iteration:   8%|▊         | 12/154 [00:00<00:03, 37.44it/s]"
     ]
    },
    {
     "name": "stdout",
     "output_type": "stream",
     "text": [
      "{'Train':  best_epoch_indx:41\n",
      " auc:0.8726637053255695 \n",
      " apur:0.8118874205235548 \n",
      " f1:0.7267838226906048 \n",
      " precision:0.6707610548480898 \n",
      " recall:0.793017604172841 \n",
      ", 'Validation':  best_epoch_indx:41\n",
      " auc:0.8726637053255695 \n",
      " apur:0.8118874205235548 \n",
      " f1:0.7267838226906048 \n",
      " precision:0.6707610548480898 \n",
      " recall:0.793017604172841 \n",
      ", 'Test':  best_epoch_indx:41\n",
      " auc:0.8726637053255695 \n",
      " apur:0.8118874205235548 \n",
      " f1:0.7267838226906048 \n",
      " precision:0.6707610548480898 \n",
      " recall:0.793017604172841 \n",
      "}\n",
      "=====Epoch 42\n",
      "Training...\n"
     ]
    },
    {
     "name": "stderr",
     "output_type": "stream",
     "text": [
      "Iteration: 100%|██████████| 154/154 [00:01<00:00, 119.92it/s]\n",
      "Iteration: 100%|██████████| 154/154 [00:01<00:00, 85.34it/s] \n",
      "Iteration: 100%|██████████| 154/154 [00:01<00:00, 116.35it/s]\n",
      "Iteration: 100%|██████████| 154/154 [00:01<00:00, 126.46it/s]\n",
      "Iteration: 100%|██████████| 154/154 [00:01<00:00, 105.92it/s]\n",
      "Iteration:  78%|███████▊  | 120/154 [00:03<00:00, 39.58it/s]]"
     ]
    },
    {
     "name": "stdout",
     "output_type": "stream",
     "text": [
      "{'Train':  best_epoch_indx:40\n",
      " auc:0.8768983979095333 \n",
      " apur:0.8148823633170633 \n",
      " f1:0.7330980478658873 \n",
      " precision:0.6853637160385626 \n",
      " recall:0.7879793728883884 \n",
      ", 'Validation':  best_epoch_indx:40\n",
      " auc:0.8768983979095333 \n",
      " apur:0.8148823633170633 \n",
      " f1:0.7330980478658873 \n",
      " precision:0.6853637160385626 \n",
      " recall:0.7879793728883884 \n",
      ", 'Test':  best_epoch_indx:40\n",
      " auc:0.8768983979095333 \n",
      " apur:0.8148823633170633 \n",
      " f1:0.7330980478658873 \n",
      " precision:0.6853637160385626 \n",
      " recall:0.7879793728883884 \n",
      "}\n",
      "=====Epoch 41\n",
      "Training...\n",
      "{'Train':  best_epoch_indx:41\n",
      " auc:0.8731721889794887 \n",
      " apur:0.812148877264413 \n",
      " f1:0.7224276032039433 \n",
      " precision:0.6371994022009873 \n",
      " recall:0.8339754608499792 \n",
      ", 'Validation':  best_epoch_indx:41\n",
      " auc:0.8731721889794887 \n",
      " apur:0.812148877264413 \n",
      " f1:0.7224276032039433 \n",
      " precision:0.6371994022009873 \n",
      " recall:0.8339754608499792 \n",
      ", 'Test':  best_epoch_indx:41\n",
      " auc:0.8731721889794887 \n",
      " apur:0.812148877264413 \n",
      " f1:0.7224276032039433 \n",
      " precision:0.6371994022009873 \n",
      " recall:0.8339754608499792 \n",
      "}\n",
      "=====Epoch 42\n",
      "Training...\n"
     ]
    },
    {
     "name": "stderr",
     "output_type": "stream",
     "text": [
      "Iteration: 100%|██████████| 154/154 [00:01<00:00, 117.75it/s]\n",
      "Iteration: 100%|██████████| 154/154 [00:03<00:00, 38.86it/s]\n",
      "Iteration:  23%|██▎       | 36/154 [00:00<00:03, 39.15it/s]"
     ]
    },
    {
     "name": "stdout",
     "output_type": "stream",
     "text": [
      "Evaluating...\n"
     ]
    },
    {
     "name": "stderr",
     "output_type": "stream",
     "text": [
      "Iteration: 100%|██████████| 154/154 [00:03<00:00, 39.27it/s]\n",
      "Iteration:  34%|███▍      | 52/154 [00:01<00:02, 37.92it/s]]"
     ]
    },
    {
     "name": "stdout",
     "output_type": "stream",
     "text": [
      "Evaluating...\n"
     ]
    },
    {
     "name": "stderr",
     "output_type": "stream",
     "text": [
      "Iteration: 100%|██████████| 154/154 [00:01<00:00, 125.25it/s]\n",
      "Iteration: 100%|██████████| 154/154 [00:01<00:00, 115.20it/s]\n",
      "Iteration: 100%|██████████| 154/154 [00:01<00:00, 114.87it/s]\n",
      "Iteration:   0%|          | 0/154 [00:00<?, ?it/s]4.18it/s]]"
     ]
    },
    {
     "name": "stdout",
     "output_type": "stream",
     "text": [
      "{'Train':  best_epoch_indx:41\n",
      " auc:0.868361081094671 \n",
      " apur:0.8045367830729666 \n",
      " f1:0.7240649646871309 \n",
      " precision:0.6750012809345699 \n",
      " recall:0.7808202939781888 \n",
      ", 'Validation':  best_epoch_indx:41\n",
      " auc:0.868361081094671 \n",
      " apur:0.8045367830729666 \n",
      " f1:0.7240649646871309 \n",
      " precision:0.6750012809345699 \n",
      " recall:0.7808202939781888 \n",
      ", 'Test':  best_epoch_indx:41\n",
      " auc:0.868361081094671 \n",
      " apur:0.8045367830729666 \n",
      " f1:0.7240649646871309 \n",
      " precision:0.6750012809345699 \n",
      " recall:0.7808202939781888 \n",
      "}\n",
      "=====Epoch 42\n",
      "Training...\n"
     ]
    },
    {
     "name": "stderr",
     "output_type": "stream",
     "text": [
      "Iteration: 100%|██████████| 154/154 [00:03<00:00, 39.85it/s]]\n",
      "Iteration: 100%|██████████| 154/154 [00:01<00:00, 126.92it/s]\n"
     ]
    },
    {
     "name": "stdout",
     "output_type": "stream",
     "text": [
      "Evaluating...\n"
     ]
    },
    {
     "name": "stderr",
     "output_type": "stream",
     "text": [
      "\r",
      "Iteration:  40%|████      | 62/154 [00:01<00:02, 45.56it/s]\r",
      "Iteration:  16%|█▌        | 24/154 [00:00<00:01, 118.47it/s]\r",
      "Iteration:  99%|█████████▉| 153/154 [00:03<00:00, 39.79it/s]\r",
      "Iteration: 100%|██████████| 154/154 [00:04<00:00, 38.42it/s]\n",
      "\r",
      "Iteration:   0%|          | 0/154 [00:00<?, ?it/s]\r",
      "Iteration:  45%|████▍     | 69/154 [00:01<00:01, 66.38it/s]\r",
      "Iteration:  44%|████▎     | 67/154 [00:01<00:01, 45.59it/s]\r",
      "Iteration:  24%|██▍       | 37/154 [00:00<00:00, 122.61it/s]\r",
      "Iteration:   4%|▍         | 6/154 [00:00<00:02, 57.84it/s]\r",
      "Iteration:  51%|█████     | 78/154 [00:01<00:01, 72.28it/s]"
     ]
    },
    {
     "name": "stdout",
     "output_type": "stream",
     "text": [
      "Evaluating...\n"
     ]
    },
    {
     "name": "stderr",
     "output_type": "stream",
     "text": [
      "Iteration: 100%|██████████| 154/154 [00:01<00:00, 125.20it/s]\n",
      "Iteration: 100%|██████████| 154/154 [00:02<00:00, 64.92it/s]]\n",
      "Iteration: 100%|██████████| 154/154 [00:01<00:00, 104.12it/s]\n",
      "Iteration: 100%|██████████| 154/154 [00:03<00:00, 45.35it/s]\n",
      "Iteration:  49%|████▉     | 76/154 [00:01<00:01, 48.63it/s]"
     ]
    },
    {
     "name": "stdout",
     "output_type": "stream",
     "text": [
      "Evaluating...\n"
     ]
    },
    {
     "name": "stderr",
     "output_type": "stream",
     "text": [
      "Iteration: 100%|██████████| 154/154 [00:01<00:00, 82.00it/s] \n",
      "Iteration: 100%|██████████| 154/154 [00:01<00:00, 102.34it/s]\n",
      "Iteration: 100%|██████████| 154/154 [00:01<00:00, 114.86it/s]\n",
      "Iteration:  39%|███▉      | 60/154 [00:01<00:01, 60.97it/s]"
     ]
    },
    {
     "name": "stdout",
     "output_type": "stream",
     "text": [
      "{'Train':  best_epoch_indx:43\n",
      " auc:0.8648171636803491 \n",
      " apur:0.799558689042347 \n",
      " f1:0.7175044243112602 \n",
      " precision:0.6471625291847334 \n",
      " recall:0.8050023707918444 \n",
      ", 'Validation':  best_epoch_indx:43\n",
      " auc:0.8648171636803491 \n",
      " apur:0.799558689042347 \n",
      " f1:0.7175044243112602 \n",
      " precision:0.6471625291847334 \n",
      " recall:0.8050023707918444 \n",
      ", 'Test':  best_epoch_indx:43\n",
      " auc:0.8648171636803491 \n",
      " apur:0.799558689042347 \n",
      " f1:0.7175044243112602 \n",
      " precision:0.6471625291847334 \n",
      " recall:0.8050023707918444 \n",
      "}\n",
      "=====Epoch 44\n",
      "Training...\n"
     ]
    },
    {
     "name": "stderr",
     "output_type": "stream",
     "text": [
      "Iteration: 100%|██████████| 154/154 [00:01<00:00, 84.50it/s] \n",
      "Iteration: 100%|██████████| 154/154 [00:01<00:00, 77.79it/s] \n",
      "Iteration:  45%|████▍     | 69/154 [00:01<00:01, 45.06it/s]s]"
     ]
    },
    {
     "name": "stdout",
     "output_type": "stream",
     "text": [
      "{'Train':  best_epoch_indx:42\n",
      " auc:0.8647236452284726 \n",
      " apur:0.8027363668103732 \n",
      " f1:0.7150822414273766 \n",
      " precision:0.675035528185694 \n",
      " recall:0.7601801908600557 \n",
      ", 'Validation':  best_epoch_indx:42\n",
      " auc:0.8647236452284726 \n",
      " apur:0.8027363668103732 \n",
      " f1:0.7150822414273766 \n",
      " precision:0.675035528185694 \n",
      " recall:0.7601801908600557 \n",
      ", 'Test':  best_epoch_indx:42\n",
      " auc:0.8647236452284726 \n",
      " apur:0.8027363668103732 \n",
      " f1:0.7150822414273766 \n",
      " precision:0.675035528185694 \n",
      " recall:0.7601801908600557 \n",
      "}\n",
      "=====Epoch 43\n",
      "Training...\n"
     ]
    },
    {
     "name": "stderr",
     "output_type": "stream",
     "text": [
      "Iteration: 100%|██████████| 154/154 [00:01<00:00, 118.97it/s]\n",
      "Iteration:  64%|██████▍   | 99/154 [00:02<00:01, 45.67it/s]]"
     ]
    },
    {
     "name": "stdout",
     "output_type": "stream",
     "text": [
      "{'Train':  best_epoch_indx:41\n",
      " auc:0.8715033457122647 \n",
      " apur:0.8083767580433561 \n",
      " f1:0.7266126170392815 \n",
      " precision:0.6734642242687987 \n",
      " recall:0.7888684725268211 \n",
      ", 'Validation':  best_epoch_indx:41\n",
      " auc:0.8715033457122647 \n",
      " apur:0.8083767580433561 \n",
      " f1:0.7266126170392815 \n",
      " precision:0.6734642242687987 \n",
      " recall:0.7888684725268211 \n",
      ", 'Test':  best_epoch_indx:41\n",
      " auc:0.8715033457122647 \n",
      " apur:0.8083767580433561 \n",
      " f1:0.7266126170392815 \n",
      " precision:0.6734642242687987 \n",
      " recall:0.7888684725268211 \n",
      "}\n",
      "=====Epoch 42\n",
      "Training...\n"
     ]
    },
    {
     "name": "stderr",
     "output_type": "stream",
     "text": [
      "Iteration: 100%|██████████| 154/154 [00:02<00:00, 72.81it/s]]\n",
      "Iteration: 100%|██████████| 154/154 [00:01<00:00, 124.50it/s]\n",
      "Iteration:   0%|          | 0/154 [00:00<?, ?it/s]8.92it/s]]"
     ]
    },
    {
     "name": "stdout",
     "output_type": "stream",
     "text": [
      "{'Train':  best_epoch_indx:42\n",
      " auc:0.8703841744660966 \n",
      " apur:0.8071206048249581 \n",
      " f1:0.7220882469855573 \n",
      " precision:0.6529907975460123 \n",
      " recall:0.8075395649339102 \n",
      ", 'Validation':  best_epoch_indx:42\n",
      " auc:0.8703841744660966 \n",
      " apur:0.8071206048249581 \n",
      " f1:0.7220882469855573 \n",
      " precision:0.6529907975460123 \n",
      " recall:0.8075395649339102 \n",
      ", 'Test':  best_epoch_indx:42\n",
      " auc:0.8703841744660966 \n",
      " apur:0.8071206048249581 \n",
      " f1:0.7220882469855573 \n",
      " precision:0.6529907975460123 \n",
      " recall:0.8075395649339102 \n",
      "}\n",
      "=====Epoch 43\n",
      "Training...\n"
     ]
    },
    {
     "name": "stderr",
     "output_type": "stream",
     "text": [
      "Iteration: 100%|██████████| 154/154 [00:03<00:00, 43.84it/s]\n",
      "Iteration:  34%|███▍      | 52/154 [00:01<00:02, 40.80it/s]]"
     ]
    },
    {
     "name": "stdout",
     "output_type": "stream",
     "text": [
      "Evaluating...\n"
     ]
    },
    {
     "name": "stderr",
     "output_type": "stream",
     "text": [
      "Iteration: 100%|██████████| 154/154 [00:01<00:00, 127.27it/s]\n",
      "Iteration:  76%|███████▌  | 117/154 [00:02<00:00, 45.24it/s]"
     ]
    },
    {
     "name": "stdout",
     "output_type": "stream",
     "text": [
      "{'Train':  best_epoch_indx:42\n",
      " auc:0.8637033473416165 \n",
      " apur:0.7993846462455693 \n",
      " f1:0.7142256482130344 \n",
      " precision:0.6775514545551242 \n",
      " recall:0.7550972024656235 \n",
      ", 'Validation':  best_epoch_indx:42\n",
      " auc:0.8637033473416165 \n",
      " apur:0.7993846462455693 \n",
      " f1:0.7142256482130344 \n",
      " precision:0.6775514545551242 \n",
      " recall:0.7550972024656235 \n",
      ", 'Test':  best_epoch_indx:42\n",
      " auc:0.8637033473416165 \n",
      " apur:0.7993846462455693 \n",
      " f1:0.7142256482130344 \n",
      " precision:0.6775514545551242 \n",
      " recall:0.7550972024656235 \n",
      "}\n",
      "=====Epoch 43\n",
      "Training...\n"
     ]
    },
    {
     "name": "stderr",
     "output_type": "stream",
     "text": [
      "Iteration: 100%|██████████| 154/154 [00:02<00:00, 75.88it/s]\n",
      "Iteration: 100%|██████████| 154/154 [00:04<00:00, 36.67it/s]\n",
      "Iteration: 100%|██████████| 154/154 [00:03<00:00, 42.97it/s]\n",
      "Iteration:   0%|          | 0/154 [00:00<?, ?it/s]8.29it/s]]"
     ]
    },
    {
     "name": "stdout",
     "output_type": "stream",
     "text": [
      "Evaluating...\n",
      "Evaluating...\n"
     ]
    },
    {
     "name": "stderr",
     "output_type": "stream",
     "text": [
      "Iteration: 100%|██████████| 154/154 [00:03<00:00, 43.86it/s]\n",
      "Iteration:   4%|▍         | 6/154 [00:00<00:02, 56.08it/s]/s]"
     ]
    },
    {
     "name": "stdout",
     "output_type": "stream",
     "text": [
      "Evaluating...\n"
     ]
    },
    {
     "name": "stderr",
     "output_type": "stream",
     "text": [
      "Iteration: 100%|██████████| 154/154 [00:01<00:00, 117.95it/s]\n",
      "Iteration: 100%|██████████| 154/154 [00:01<00:00, 115.38it/s]\n",
      "Iteration: 100%|██████████| 154/154 [00:01<00:00, 100.18it/s]\n",
      "Iteration: 100%|██████████| 154/154 [00:01<00:00, 80.48it/s] \n",
      "Iteration: 100%|██████████| 154/154 [00:03<00:00, 39.75it/s]]\n",
      "Iteration:  41%|████      | 63/154 [00:00<00:01, 72.60it/s]s]"
     ]
    },
    {
     "name": "stdout",
     "output_type": "stream",
     "text": [
      "Evaluating...\n"
     ]
    },
    {
     "name": "stderr",
     "output_type": "stream",
     "text": [
      "Iteration: 100%|██████████| 154/154 [00:01<00:00, 115.48it/s]\n",
      "Iteration: 100%|██████████| 154/154 [00:01<00:00, 80.33it/s]\n",
      "Iteration: 100%|██████████| 154/154 [00:01<00:00, 81.09it/s] \n",
      "Iteration: 100%|██████████| 154/154 [00:01<00:00, 115.23it/s]\n",
      "Iteration: 100%|██████████| 154/154 [00:01<00:00, 125.72it/s]\n",
      "Iteration:  25%|██▍       | 38/154 [00:00<00:01, 73.40it/s]"
     ]
    },
    {
     "name": "stdout",
     "output_type": "stream",
     "text": [
      "{'Train':  best_epoch_indx:44\n",
      " auc:0.8623258999285754 \n",
      " apur:0.7965325620117011 \n",
      " f1:0.7149126393545399 \n",
      " precision:0.6618218521322231 \n",
      " recall:0.7772641062114747 \n",
      ", 'Validation':  best_epoch_indx:44\n",
      " auc:0.8623258999285754 \n",
      " apur:0.7965325620117011 \n",
      " f1:0.7149126393545399 \n",
      " precision:0.6618218521322231 \n",
      " recall:0.7772641062114747 \n",
      ", 'Test':  best_epoch_indx:44\n",
      " auc:0.8623258999285754 \n",
      " apur:0.7965325620117011 \n",
      " f1:0.7149126393545399 \n",
      " precision:0.6618218521322231 \n",
      " recall:0.7772641062114747 \n",
      "}\n",
      "=====Epoch 45\n",
      "Training...\n"
     ]
    },
    {
     "name": "stderr",
     "output_type": "stream",
     "text": [
      "Iteration: 100%|██████████| 154/154 [00:01<00:00, 102.69it/s]\n",
      "Iteration:  38%|███▊      | 58/154 [00:01<00:02, 37.92it/s]s]"
     ]
    },
    {
     "name": "stdout",
     "output_type": "stream",
     "text": [
      "{'Train':  best_epoch_indx:42\n",
      " auc:0.8683789684660069 \n",
      " apur:0.8052441386888735 \n",
      " f1:0.7207899683002778 \n",
      " precision:0.6842245419684704 \n",
      " recall:0.7614842036630906 \n",
      ", 'Validation':  best_epoch_indx:42\n",
      " auc:0.8683789684660069 \n",
      " apur:0.8052441386888735 \n",
      " f1:0.7207899683002778 \n",
      " precision:0.6842245419684704 \n",
      " recall:0.7614842036630906 \n",
      ", 'Test':  best_epoch_indx:42\n",
      " auc:0.8683789684660069 \n",
      " apur:0.8052441386888735 \n",
      " f1:0.7207899683002778 \n",
      " precision:0.6842245419684704 \n",
      " recall:0.7614842036630906 \n",
      "}\n",
      "=====Epoch 43\n",
      "Training...\n"
     ]
    },
    {
     "name": "stderr",
     "output_type": "stream",
     "text": [
      "Iteration: 100%|██████████| 154/154 [00:01<00:00, 115.67it/s]\n",
      "Iteration: 100%|██████████| 154/154 [00:01<00:00, 116.16it/s]\n",
      "Iteration: 100%|██████████| 154/154 [00:01<00:00, 87.21it/s] \n",
      "Iteration:   0%|          | 0/154 [00:00<?, ?it/s]7.24it/s]"
     ]
    },
    {
     "name": "stdout",
     "output_type": "stream",
     "text": [
      "{'Train':  best_epoch_indx:43\n",
      " auc:0.8711094094626027 \n",
      " apur:0.8073598260955024 \n",
      " f1:0.7226269665294055 \n",
      " precision:0.651406272307619 \n",
      " recall:0.8113330567245569 \n",
      ", 'Validation':  best_epoch_indx:43\n",
      " auc:0.8711094094626027 \n",
      " apur:0.8073598260955024 \n",
      " f1:0.7226269665294055 \n",
      " precision:0.651406272307619 \n",
      " recall:0.8113330567245569 \n",
      ", 'Test':  best_epoch_indx:43\n",
      " auc:0.8711094094626027 \n",
      " apur:0.8073598260955024 \n",
      " f1:0.7226269665294055 \n",
      " precision:0.651406272307619 \n",
      " recall:0.8113330567245569 \n",
      "}\n",
      "=====Epoch 44\n",
      "Training...\n"
     ]
    },
    {
     "name": "stderr",
     "output_type": "stream",
     "text": [
      "Iteration:  13%|█▎        | 20/154 [00:00<00:03, 40.39it/s]]"
     ]
    },
    {
     "name": "stdout",
     "output_type": "stream",
     "text": [
      "{'Train':  best_epoch_indx:43\n",
      " auc:0.8572950780549438 \n",
      " apur:0.7899798089300729 \n",
      " f1:0.709436817641336 \n",
      " precision:0.651964436497293 \n",
      " recall:0.7780214569379409 \n",
      ", 'Validation':  best_epoch_indx:43\n",
      " auc:0.8572950780549438 \n",
      " apur:0.7899798089300729 \n",
      " f1:0.709436817641336 \n",
      " precision:0.651964436497293 \n",
      " recall:0.7780214569379409 \n",
      ", 'Test':  best_epoch_indx:43\n",
      " auc:0.8572950780549438 \n",
      " apur:0.7899798089300729 \n",
      " f1:0.709436817641336 \n",
      " precision:0.651964436497293 \n",
      " recall:0.7780214569379409 \n",
      "}\n",
      "=====Epoch 44\n",
      "Training...\n"
     ]
    },
    {
     "name": "stderr",
     "output_type": "stream",
     "text": [
      "Iteration: 100%|██████████| 154/154 [00:03<00:00, 41.08it/s]\n",
      "Iteration:  36%|███▌      | 55/154 [00:01<00:02, 45.47it/s]]"
     ]
    },
    {
     "name": "stdout",
     "output_type": "stream",
     "text": [
      "Evaluating...\n"
     ]
    },
    {
     "name": "stderr",
     "output_type": "stream",
     "text": [
      "Iteration: 100%|██████████| 154/154 [00:02<00:00, 62.75it/s]]\n",
      "Iteration: 100%|██████████| 154/154 [00:01<00:00, 127.44it/s]\n",
      "Iteration: 100%|██████████| 154/154 [00:03<00:00, 43.21it/s]\n",
      "Iteration:   0%|          | 0/154 [00:00<?, ?it/s]"
     ]
    },
    {
     "name": "stdout",
     "output_type": "stream",
     "text": [
      "Evaluating...\n"
     ]
    },
    {
     "name": "stderr",
     "output_type": "stream",
     "text": [
      "Iteration:   0%|          | 0/154 [00:00<?, ?it/s]40.54it/s]]"
     ]
    },
    {
     "name": "stdout",
     "output_type": "stream",
     "text": [
      "{'Train':  best_epoch_indx:43\n",
      " auc:0.8587492332622323 \n",
      " apur:0.7905110811302805 \n",
      " f1:0.7112145990144583 \n",
      " precision:0.6546705213837105 \n",
      " recall:0.7784495021337127 \n",
      ", 'Validation':  best_epoch_indx:43\n",
      " auc:0.8587492332622323 \n",
      " apur:0.7905110811302805 \n",
      " f1:0.7112145990144583 \n",
      " precision:0.6546705213837105 \n",
      " recall:0.7784495021337127 \n",
      ", 'Test':  best_epoch_indx:43\n",
      " auc:0.8587492332622323 \n",
      " apur:0.7905110811302805 \n",
      " f1:0.7112145990144583 \n",
      " precision:0.6546705213837105 \n",
      " recall:0.7784495021337127 \n",
      "}\n",
      "=====Epoch 44\n",
      "Training...\n",
      "Evaluating...\n"
     ]
    },
    {
     "name": "stderr",
     "output_type": "stream",
     "text": [
      "Iteration: 100%|██████████| 154/154 [00:03<00:00, 45.42it/s]]\n",
      "Iteration: 100%|██████████| 154/154 [00:04<00:00, 38.38it/s]]\n",
      "Iteration: 100%|██████████| 154/154 [00:01<00:00, 115.66it/s]\n"
     ]
    },
    {
     "name": "stdout",
     "output_type": "stream",
     "text": [
      "Evaluating...\n"
     ]
    },
    {
     "name": "stderr",
     "output_type": "stream",
     "text": [
      "Iteration: 100%|██████████| 154/154 [00:01<00:00, 120.07it/s]\n",
      "Iteration: 100%|██████████| 154/154 [00:01<00:00, 125.88it/s]\n",
      "Iteration:  27%|██▋       | 41/154 [00:00<00:01, 107.23it/s]]\n",
      "Iteration: 100%|██████████| 154/154 [00:01<00:00, 115.18it/s]\n",
      "Iteration: 100%|██████████| 154/154 [00:01<00:00, 108.46it/s]\n",
      "Iteration:   0%|          | 0/154 [00:00<?, ?it/s]38.14it/s]]"
     ]
    },
    {
     "name": "stdout",
     "output_type": "stream",
     "text": [
      "{'Train':  best_epoch_indx:45\n",
      " auc:0.8639314899480302 \n",
      " apur:0.7969713232608522 \n",
      " f1:0.716756450240998 \n",
      " precision:0.6870311990433743 \n",
      " recall:0.7491702228544334 \n",
      ", 'Validation':  best_epoch_indx:45\n",
      " auc:0.8639314899480302 \n",
      " apur:0.7969713232608522 \n",
      " f1:0.716756450240998 \n",
      " precision:0.6870311990433743 \n",
      " recall:0.7491702228544334 \n",
      ", 'Test':  best_epoch_indx:45\n",
      " auc:0.8639314899480302 \n",
      " apur:0.7969713232608522 \n",
      " f1:0.716756450240998 \n",
      " precision:0.6870311990433743 \n",
      " recall:0.7491702228544334 \n",
      "}\n",
      "=====Epoch 46\n",
      "Training...\n"
     ]
    },
    {
     "name": "stderr",
     "output_type": "stream",
     "text": [
      "Iteration: 100%|██████████| 154/154 [00:01<00:00, 117.43it/s]\n",
      "Iteration: 100%|██████████| 154/154 [00:01<00:00, 77.18it/s] \n",
      "Iteration: 100%|██████████| 154/154 [00:04<00:00, 37.19it/s]\n",
      "Iteration:   8%|▊         | 13/154 [00:00<00:01, 122.26it/s]"
     ]
    },
    {
     "name": "stdout",
     "output_type": "stream",
     "text": [
      "Evaluating...\n"
     ]
    },
    {
     "name": "stderr",
     "output_type": "stream",
     "text": [
      "Iteration: 100%|██████████| 154/154 [00:01<00:00, 116.81it/s]\n",
      "Iteration: 100%|██████████| 154/154 [00:01<00:00, 125.10it/s]\n",
      "Iteration:  77%|███████▋  | 118/154 [00:01<00:00, 123.90it/s]"
     ]
    },
    {
     "name": "stdout",
     "output_type": "stream",
     "text": [
      "{'Train':  best_epoch_indx:43\n",
      " auc:0.864141160438566 \n",
      " apur:0.799952056139827 \n",
      " f1:0.7171445478508796 \n",
      " precision:0.6564731373418033 \n",
      " recall:0.790172485329856 \n",
      ", 'Validation':  best_epoch_indx:43\n",
      " auc:0.864141160438566 \n",
      " apur:0.799952056139827 \n",
      " f1:0.7171445478508796 \n",
      " precision:0.6564731373418033 \n",
      " recall:0.790172485329856 \n",
      ", 'Test':  best_epoch_indx:43\n",
      " auc:0.864141160438566 \n",
      " apur:0.799952056139827 \n",
      " f1:0.7171445478508796 \n",
      " precision:0.6564731373418033 \n",
      " recall:0.790172485329856 \n",
      "}\n",
      "=====Epoch 44\n",
      "Training...\n"
     ]
    },
    {
     "name": "stderr",
     "output_type": "stream",
     "text": [
      "Iteration: 100%|██████████| 154/154 [00:01<00:00, 109.02it/s]\n",
      "Iteration: 100%|██████████| 154/154 [00:01<00:00, 109.03it/s]\n",
      "Iteration:  24%|██▍       | 37/154 [00:00<00:01, 73.21it/s]]"
     ]
    },
    {
     "name": "stdout",
     "output_type": "stream",
     "text": [
      "{'Train':  best_epoch_indx:44\n",
      " auc:0.8639428651408811 \n",
      " apur:0.7964519436385828 \n",
      " f1:0.7186681734241063 \n",
      " precision:0.6716640906749098 \n",
      " recall:0.7727461324165729 \n",
      ", 'Validation':  best_epoch_indx:44\n",
      " auc:0.8639428651408811 \n",
      " apur:0.7964519436385828 \n",
      " f1:0.7186681734241063 \n",
      " precision:0.6716640906749098 \n",
      " recall:0.7727461324165729 \n",
      ", 'Test':  best_epoch_indx:44\n",
      " auc:0.8639428651408811 \n",
      " apur:0.7964519436385828 \n",
      " f1:0.7186681734241063 \n",
      " precision:0.6716640906749098 \n",
      " recall:0.7727461324165729 \n",
      "}\n",
      "=====Epoch 45\n",
      "Training...\n"
     ]
    },
    {
     "name": "stderr",
     "output_type": "stream",
     "text": [
      "\r",
      "Iteration:  72%|███████▏  | 111/154 [00:03<00:01, 40.86it/s]\r",
      "Iteration:   3%|▎         | 5/154 [00:00<00:03, 44.59it/s]\r",
      "Iteration:  32%|███▏      | 50/154 [00:00<00:01, 90.85it/s]\r",
      "Iteration:  23%|██▎       | 35/154 [00:00<00:03, 37.59it/s]\r",
      "Iteration:  75%|███████▌  | 116/154 [00:03<00:00, 42.26it/s]\r",
      "Iteration:   0%|          | 0/154 [00:00<?, ?it/s]\r",
      "Iteration:  41%|████      | 63/154 [00:00<00:00, 102.46it/s]\r",
      "Iteration:   6%|▋         | 10/154 [00:00<00:03, 36.28it/s]\r",
      "Iteration:  25%|██▌       | 39/154 [00:00<00:03, 37.73it/s]"
     ]
    },
    {
     "name": "stdout",
     "output_type": "stream",
     "text": [
      "{'Train':  best_epoch_indx:44\n",
      " auc:0.8551258648366435 \n",
      " apur:0.7840453984578358 \n",
      " f1:0.706592009521491 \n",
      " precision:0.6498656582744552 \n",
      " recall:0.7741686918380654 \n",
      ", 'Validation':  best_epoch_indx:44\n",
      " auc:0.8551258648366435 \n",
      " apur:0.7840453984578358 \n",
      " f1:0.706592009521491 \n",
      " precision:0.6498656582744552 \n",
      " recall:0.7741686918380654 \n",
      ", 'Test':  best_epoch_indx:44\n",
      " auc:0.8551258648366435 \n",
      " apur:0.7840453984578358 \n",
      " f1:0.706592009521491 \n",
      " precision:0.6498656582744552 \n",
      " recall:0.7741686918380654 \n",
      "}\n",
      "=====Epoch 45\n",
      "Training...\n"
     ]
    },
    {
     "name": "stderr",
     "output_type": "stream",
     "text": [
      "Iteration: 100%|██████████| 154/154 [00:03<00:00, 38.92it/s]]\n",
      "Iteration: 100%|██████████| 154/154 [00:01<00:00, 99.64it/s] \n",
      "Iteration:   7%|▋         | 11/154 [00:00<00:01, 108.99it/s]"
     ]
    },
    {
     "name": "stdout",
     "output_type": "stream",
     "text": [
      "Evaluating...\n"
     ]
    },
    {
     "name": "stderr",
     "output_type": "stream",
     "text": [
      "Iteration: 100%|██████████| 154/154 [00:01<00:00, 127.90it/s]\n",
      "Iteration: 100%|██████████| 154/154 [00:03<00:00, 43.91it/s]\n",
      "Iteration:  24%|██▍       | 37/154 [00:00<00:01, 97.51it/s]]"
     ]
    },
    {
     "name": "stdout",
     "output_type": "stream",
     "text": [
      "Evaluating...\n"
     ]
    },
    {
     "name": "stderr",
     "output_type": "stream",
     "text": [
      "Iteration: 100%|██████████| 154/154 [00:03<00:00, 42.07it/s]]\n",
      "Iteration:   8%|▊         | 12/154 [00:00<00:01, 111.93it/s]]"
     ]
    },
    {
     "name": "stdout",
     "output_type": "stream",
     "text": [
      "Evaluating...\n"
     ]
    },
    {
     "name": "stderr",
     "output_type": "stream",
     "text": [
      "Iteration: 100%|██████████| 154/154 [00:01<00:00, 106.55it/s]\n",
      "Iteration: 100%|██████████| 154/154 [00:01<00:00, 125.36it/s]\n",
      "Iteration: 100%|██████████| 154/154 [00:04<00:00, 36.64it/s]\n",
      "Iteration:   0%|          | 0/154 [00:00<?, ?it/s]"
     ]
    },
    {
     "name": "stdout",
     "output_type": "stream",
     "text": [
      "{'Train':  best_epoch_indx:44\n",
      " auc:0.8530323572721509 \n",
      " apur:0.7833555057120514 \n",
      " f1:0.7054785116023616 \n",
      " precision:0.6572685872179297 \n",
      " recall:0.7613205310573732 \n",
      ", 'Validation':  best_epoch_indx:44\n",
      " auc:0.8530323572721509 \n",
      " apur:0.7833555057120514 \n",
      " f1:0.7054785116023616 \n",
      " precision:0.6572685872179297 \n",
      " recall:0.7613205310573732 \n",
      ", 'Test':  best_epoch_indx:44\n",
      " auc:0.8530323572721509 \n",
      " apur:0.7833555057120514 \n",
      " f1:0.7054785116023616 \n",
      " precision:0.6572685872179297 \n",
      " recall:0.7613205310573732 \n",
      "}\n",
      "=====Epoch 45\n",
      "Training...\n",
      "Evaluating...\n"
     ]
    },
    {
     "name": "stderr",
     "output_type": "stream",
     "text": [
      "Iteration: 100%|██████████| 154/154 [00:01<00:00, 78.24it/s]]\n",
      "Iteration: 100%|██████████| 154/154 [00:01<00:00, 125.51it/s]\n",
      "Iteration: 100%|██████████| 154/154 [00:01<00:00, 119.62it/s]\n",
      "Iteration: 100%|██████████| 154/154 [00:01<00:00, 91.95it/s] \n",
      "Iteration: 100%|██████████| 154/154 [00:01<00:00, 116.63it/s]\n",
      "Iteration: 100%|██████████| 154/154 [00:01<00:00, 80.56it/s] \n",
      "Iteration:   3%|▎         | 5/154 [00:00<00:03, 43.92it/s]]s]"
     ]
    },
    {
     "name": "stdout",
     "output_type": "stream",
     "text": [
      "{'Train':  best_epoch_indx:46\n",
      " auc:0.8716304641623442 \n",
      " apur:0.8100825534952736 \n",
      " f1:0.723584603902335 \n",
      " precision:0.657479170703352 \n",
      " recall:0.8044689426268373 \n",
      ", 'Validation':  best_epoch_indx:46\n",
      " auc:0.8716304641623442 \n",
      " apur:0.8100825534952736 \n",
      " f1:0.723584603902335 \n",
      " precision:0.657479170703352 \n",
      " recall:0.8044689426268373 \n",
      ", 'Test':  best_epoch_indx:46\n",
      " auc:0.8716304641623442 \n",
      " apur:0.8100825534952736 \n",
      " f1:0.723584603902335 \n",
      " precision:0.657479170703352 \n",
      " recall:0.8044689426268373 \n",
      "}\n",
      "=====Epoch 47\n",
      "Training...\n"
     ]
    },
    {
     "name": "stderr",
     "output_type": "stream",
     "text": [
      "Iteration: 100%|██████████| 154/154 [00:01<00:00, 94.93it/s] \n",
      "Iteration: 100%|██████████| 154/154 [00:03<00:00, 41.89it/s]\n",
      "Iteration:  64%|██████▍   | 99/154 [00:01<00:00, 114.02it/s]"
     ]
    },
    {
     "name": "stdout",
     "output_type": "stream",
     "text": [
      "Evaluating...\n"
     ]
    },
    {
     "name": "stderr",
     "output_type": "stream",
     "text": [
      "Iteration: 100%|██████████| 154/154 [00:01<00:00, 96.55it/s] \n",
      "Iteration:   0%|          | 0/154 [00:00<?, ?it/s]25.41it/s]]"
     ]
    },
    {
     "name": "stdout",
     "output_type": "stream",
     "text": [
      "{'Train':  best_epoch_indx:44\n",
      " auc:0.8595944775768245 \n",
      " apur:0.7925138483056915 \n",
      " f1:0.7141973149667733 \n",
      " precision:0.6539067888461917 \n",
      " recall:0.7867346333945824 \n",
      ", 'Validation':  best_epoch_indx:44\n",
      " auc:0.8595944775768245 \n",
      " apur:0.7925138483056915 \n",
      " f1:0.7141973149667733 \n",
      " precision:0.6539067888461917 \n",
      " recall:0.7867346333945824 \n",
      ", 'Test':  best_epoch_indx:44\n",
      " auc:0.8595944775768245 \n",
      " apur:0.7925138483056915 \n",
      " f1:0.7141973149667733 \n",
      " precision:0.6539067888461917 \n",
      " recall:0.7867346333945824 \n",
      "}\n",
      "=====Epoch 45\n",
      "Training...\n"
     ]
    },
    {
     "name": "stderr",
     "output_type": "stream",
     "text": [
      "Iteration: 100%|██████████| 154/154 [00:01<00:00, 124.06it/s]\n",
      "Iteration: 100%|██████████| 154/154 [00:01<00:00, 123.54it/s]\n",
      "Iteration: 100%|██████████| 154/154 [00:01<00:00, 77.98it/s] \n",
      "Iteration:   3%|▎         | 4/154 [00:00<00:03, 39.73it/s]s]"
     ]
    },
    {
     "name": "stdout",
     "output_type": "stream",
     "text": [
      "{'Train':  best_epoch_indx:45\n",
      " auc:0.86426174256099 \n",
      " apur:0.8009286408950382 \n",
      " f1:0.7170739708053141 \n",
      " precision:0.6654152503678149 \n",
      " recall:0.7774287238456523 \n",
      ", 'Validation':  best_epoch_indx:45\n",
      " auc:0.86426174256099 \n",
      " apur:0.8009286408950382 \n",
      " f1:0.7170739708053141 \n",
      " precision:0.6654152503678149 \n",
      " recall:0.7774287238456523 \n",
      ", 'Test':  best_epoch_indx:45\n",
      " auc:0.86426174256099 \n",
      " apur:0.8009286408950382 \n",
      " f1:0.7170739708053141 \n",
      " precision:0.6654152503678149 \n",
      " recall:0.7774287238456523 \n",
      "}\n",
      "=====Epoch 46\n",
      "Training...\n"
     ]
    },
    {
     "name": "stderr",
     "output_type": "stream",
     "text": [
      "\r",
      "Iteration:  37%|███▋      | 57/154 [00:00<00:00, 99.56it/s]\r",
      "Iteration:  29%|██▉       | 45/154 [00:01<00:03, 36.24it/s]\r",
      "Iteration:  82%|████████▏ | 126/154 [00:03<00:00, 45.56it/s]\r",
      "Iteration:   5%|▌         | 8/154 [00:00<00:03, 39.82it/s]\r",
      "Iteration:  45%|████▌     | 70/154 [00:00<00:00, 108.85it/s]\r",
      "Iteration:  85%|████████▌ | 131/154 [00:03<00:00, 45.59it/s]\r",
      "Iteration:  32%|███▏      | 50/154 [00:01<00:02, 36.77it/s]\r",
      "Iteration:   0%|          | 0/154 [00:00<?, ?it/s]\r",
      "Iteration:   8%|▊         | 13/154 [00:00<00:03, 40.72it/s]"
     ]
    },
    {
     "name": "stdout",
     "output_type": "stream",
     "text": [
      "{'Train':  best_epoch_indx:45\n",
      " auc:0.8673259293583778 \n",
      " apur:0.8033892660760523 \n",
      " f1:0.7181424894584085 \n",
      " precision:0.6673451732736247 \n",
      " recall:0.7773101772271946 \n",
      ", 'Validation':  best_epoch_indx:45\n",
      " auc:0.8673259293583778 \n",
      " apur:0.8033892660760523 \n",
      " f1:0.7181424894584085 \n",
      " precision:0.6673451732736247 \n",
      " recall:0.7773101772271946 \n",
      ", 'Test':  best_epoch_indx:45\n",
      " auc:0.8673259293583778 \n",
      " apur:0.8033892660760523 \n",
      " f1:0.7181424894584085 \n",
      " precision:0.6673451732736247 \n",
      " recall:0.7773101772271946 \n",
      "}\n",
      "=====Epoch 46\n",
      "Training...\n"
     ]
    },
    {
     "name": "stderr",
     "output_type": "stream",
     "text": [
      "Iteration: 100%|██████████| 154/154 [00:03<00:00, 42.48it/s]]\n",
      "Iteration:   4%|▍         | 6/154 [00:00<00:03, 37.33it/s]]s]"
     ]
    },
    {
     "name": "stdout",
     "output_type": "stream",
     "text": [
      "Evaluating...\n"
     ]
    },
    {
     "name": "stderr",
     "output_type": "stream",
     "text": [
      "Iteration: 100%|██████████| 154/154 [00:01<00:00, 102.86it/s]\n",
      "Iteration: 100%|██████████| 154/154 [00:01<00:00, 114.73it/s]\n",
      "Iteration: 100%|██████████| 154/154 [00:03<00:00, 41.85it/s]\n",
      "Iteration:  66%|██████▌   | 102/154 [00:02<00:01, 39.32it/s]"
     ]
    },
    {
     "name": "stdout",
     "output_type": "stream",
     "text": [
      "Evaluating...\n"
     ]
    },
    {
     "name": "stderr",
     "output_type": "stream",
     "text": [
      "Iteration: 100%|██████████| 154/154 [00:01<00:00, 98.26it/s] \n",
      "Iteration: 100%|██████████| 154/154 [00:03<00:00, 40.52it/s]]\n",
      "Iteration: 100%|██████████| 154/154 [00:01<00:00, 126.06it/s]\n",
      "Iteration: 100%|██████████| 154/154 [00:01<00:00, 117.26it/s]\n"
     ]
    },
    {
     "name": "stdout",
     "output_type": "stream",
     "text": [
      "Evaluating...\n"
     ]
    },
    {
     "name": "stderr",
     "output_type": "stream",
     "text": [
      "Iteration:   0%|          | 0/154 [00:00<?, ?it/s].12it/s]s]"
     ]
    },
    {
     "name": "stdout",
     "output_type": "stream",
     "text": [
      "{'Train':  best_epoch_indx:45\n",
      " auc:0.8615070108880404 \n",
      " apur:0.7986323899586337 \n",
      " f1:0.7144012508761525 \n",
      " precision:0.6552269805162694 \n",
      " recall:0.7853247984826932 \n",
      ", 'Validation':  best_epoch_indx:45\n",
      " auc:0.8615070108880404 \n",
      " apur:0.7986323899586337 \n",
      " f1:0.7144012508761525 \n",
      " precision:0.6552269805162694 \n",
      " recall:0.7853247984826932 \n",
      ", 'Test':  best_epoch_indx:45\n",
      " auc:0.8615070108880404 \n",
      " apur:0.7986323899586337 \n",
      " f1:0.7144012508761525 \n",
      " precision:0.6552269805162694 \n",
      " recall:0.7853247984826932 \n",
      "}\n",
      "=====Epoch 46\n",
      "Training...\n"
     ]
    },
    {
     "name": "stderr",
     "output_type": "stream",
     "text": [
      "\r",
      "Iteration:  51%|█████     | 78/154 [00:00<00:00, 128.06it/s]\r",
      "Iteration:  96%|█████████▌| 148/154 [00:04<00:00, 37.71it/s]\r",
      "Iteration:   6%|▋         | 10/154 [00:00<00:03, 37.58it/s]\r",
      "Iteration:   5%|▌         | 8/154 [00:00<00:02, 64.42it/s]\r",
      "Iteration:  59%|█████▉    | 91/154 [00:00<00:00, 128.34it/s]\r",
      "Iteration:  99%|█████████▉| 153/154 [00:04<00:00, 40.02it/s]\r",
      "Iteration: 100%|██████████| 154/154 [00:04<00:00, 36.15it/s]\n",
      "\r",
      "Iteration:   0%|          | 0/154 [00:00<?, ?it/s]\r",
      "Iteration:   9%|▉         | 14/154 [00:00<00:03, 37.34it/s]\r",
      "Iteration:  68%|██████▊   | 104/154 [00:00<00:00, 128.31it/s]\r",
      "Iteration:   0%|          | 0/154 [00:00<?, ?it/s]\r",
      "Iteration:  10%|█         | 16/154 [00:00<00:01, 69.74it/s]"
     ]
    },
    {
     "name": "stdout",
     "output_type": "stream",
     "text": [
      "Evaluating...\n"
     ]
    },
    {
     "name": "stderr",
     "output_type": "stream",
     "text": [
      "Iteration: 100%|██████████| 154/154 [00:01<00:00, 126.27it/s]\n",
      "Iteration: 100%|██████████| 154/154 [00:01<00:00, 124.66it/s]\n",
      "Iteration: 100%|██████████| 154/154 [00:01<00:00, 116.98it/s]\n",
      "Iteration:  10%|█         | 16/154 [00:00<00:02, 68.51it/s]s]"
     ]
    },
    {
     "name": "stdout",
     "output_type": "stream",
     "text": [
      "{'Train':  best_epoch_indx:47\n",
      " auc:0.883689770537959 \n",
      " apur:0.8241742569758495 \n",
      " f1:0.7397313607163716 \n",
      " precision:0.6968093466757479 \n",
      " recall:0.7882882882882883 \n",
      ", 'Validation':  best_epoch_indx:47\n",
      " auc:0.883689770537959 \n",
      " apur:0.8241742569758495 \n",
      " f1:0.7397313607163716 \n",
      " precision:0.6968093466757479 \n",
      " recall:0.7882882882882883 \n",
      ", 'Test':  best_epoch_indx:47\n",
      " auc:0.883689770537959 \n",
      " apur:0.8241742569758495 \n",
      " f1:0.7397313607163716 \n",
      " precision:0.6968093466757479 \n",
      " recall:0.7882882882882883 \n",
      "}\n",
      "=====Epoch 48\n",
      "Training...\n"
     ]
    },
    {
     "name": "stderr",
     "output_type": "stream",
     "text": [
      "Iteration: 100%|██████████| 154/154 [00:02<00:00, 70.98it/s]]\n",
      "Iteration: 100%|██████████| 154/154 [00:01<00:00, 127.06it/s]\n",
      "Iteration: 100%|██████████| 154/154 [00:01<00:00, 95.41it/s] \n",
      "Iteration: 100%|██████████| 154/154 [00:01<00:00, 127.33it/s]\n",
      "Iteration: 100%|██████████| 154/154 [00:04<00:00, 36.25it/s]\n",
      "Iteration:  66%|██████▌   | 102/154 [00:02<00:01, 45.71it/s]"
     ]
    },
    {
     "name": "stdout",
     "output_type": "stream",
     "text": [
      "Evaluating...\n"
     ]
    },
    {
     "name": "stderr",
     "output_type": "stream",
     "text": [
      "Iteration:  16%|█▌        | 24/154 [00:00<00:01, 72.15it/s]]]"
     ]
    },
    {
     "name": "stdout",
     "output_type": "stream",
     "text": [
      "{'Train':  best_epoch_indx:45\n",
      " auc:0.8631757329405367 \n",
      " apur:0.7986132072666543 \n",
      " f1:0.7154617740439999 \n",
      " precision:0.6801282051282052 \n",
      " recall:0.7546677731017722 \n",
      ", 'Validation':  best_epoch_indx:45\n",
      " auc:0.8631757329405367 \n",
      " apur:0.7986132072666543 \n",
      " f1:0.7154617740439999 \n",
      " precision:0.6801282051282052 \n",
      " recall:0.7546677731017722 \n",
      ", 'Test':  best_epoch_indx:45\n",
      " auc:0.8631757329405367 \n",
      " apur:0.7986132072666543 \n",
      " f1:0.7154617740439999 \n",
      " precision:0.6801282051282052 \n",
      " recall:0.7546677731017722 \n",
      "}\n",
      "=====Epoch 46\n",
      "Training...\n"
     ]
    },
    {
     "name": "stderr",
     "output_type": "stream",
     "text": [
      "Iteration: 100%|██████████| 154/154 [00:01<00:00, 92.64it/s] \n",
      "Iteration:  47%|████▋     | 72/154 [00:01<00:01, 69.55it/s]]]"
     ]
    },
    {
     "name": "stdout",
     "output_type": "stream",
     "text": [
      "{'Train':  best_epoch_indx:46\n",
      " auc:0.8744252231772354 \n",
      " apur:0.8152795602481172 \n",
      " f1:0.7257863770083731 \n",
      " precision:0.6941723932687626 \n",
      " recall:0.7604172840969712 \n",
      ", 'Validation':  best_epoch_indx:46\n",
      " auc:0.8744252231772354 \n",
      " apur:0.8152795602481172 \n",
      " f1:0.7257863770083731 \n",
      " precision:0.6941723932687626 \n",
      " recall:0.7604172840969712 \n",
      ", 'Test':  best_epoch_indx:46\n",
      " auc:0.8744252231772354 \n",
      " apur:0.8152795602481172 \n",
      " f1:0.7257863770083731 \n",
      " precision:0.6941723932687626 \n",
      " recall:0.7604172840969712 \n",
      "}\n",
      "=====Epoch 47\n",
      "Training...\n"
     ]
    },
    {
     "name": "stderr",
     "output_type": "stream",
     "text": [
      "Iteration: 100%|██████████| 154/154 [00:01<00:00, 115.81it/s]\n",
      "Iteration: 100%|██████████| 154/154 [00:03<00:00, 41.72it/s]\n",
      "Iteration:  14%|█▍        | 22/154 [00:00<00:02, 46.22it/s]"
     ]
    },
    {
     "name": "stdout",
     "output_type": "stream",
     "text": [
      "Evaluating...\n"
     ]
    },
    {
     "name": "stderr",
     "output_type": "stream",
     "text": [
      "Iteration: 100%|██████████| 154/154 [00:02<00:00, 67.70it/s]\n",
      "Iteration: 100%|██████████| 154/154 [00:01<00:00, 113.00it/s]\n",
      "Iteration:  92%|█████████▏| 142/154 [00:03<00:00, 45.05it/s]"
     ]
    },
    {
     "name": "stdout",
     "output_type": "stream",
     "text": [
      "{'Train':  best_epoch_indx:46\n",
      " auc:0.8758819473143258 \n",
      " apur:0.8176928740137094 \n",
      " f1:0.7285638859556495 \n",
      " precision:0.6568137464895997 \n",
      " recall:0.8179123940489598 \n",
      ", 'Validation':  best_epoch_indx:46\n",
      " auc:0.8758819473143258 \n",
      " apur:0.8176928740137094 \n",
      " f1:0.7285638859556495 \n",
      " precision:0.6568137464895997 \n",
      " recall:0.8179123940489598 \n",
      ", 'Test':  best_epoch_indx:46\n",
      " auc:0.8758819473143258 \n",
      " apur:0.8176928740137094 \n",
      " f1:0.7285638859556495 \n",
      " precision:0.6568137464895997 \n",
      " recall:0.8179123940489598 \n",
      "}\n",
      "=====Epoch 47\n",
      "Training...\n"
     ]
    },
    {
     "name": "stderr",
     "output_type": "stream",
     "text": [
      "Iteration: 100%|██████████| 154/154 [00:01<00:00, 80.91it/s]\n",
      "Iteration: 100%|██████████| 154/154 [00:03<00:00, 44.57it/s]\n",
      "Iteration:   7%|▋         | 11/154 [00:00<00:01, 108.98it/s]"
     ]
    },
    {
     "name": "stdout",
     "output_type": "stream",
     "text": [
      "Evaluating...\n"
     ]
    },
    {
     "name": "stderr",
     "output_type": "stream",
     "text": [
      "Iteration: 100%|██████████| 154/154 [00:03<00:00, 45.65it/s]\n",
      "Iteration:  66%|██████▌   | 102/154 [00:00<00:00, 125.22it/s]"
     ]
    },
    {
     "name": "stdout",
     "output_type": "stream",
     "text": [
      "Evaluating...\n"
     ]
    },
    {
     "name": "stderr",
     "output_type": "stream",
     "text": [
      "Iteration: 100%|██████████| 154/154 [00:01<00:00, 94.40it/s] \n",
      "Iteration: 100%|██████████| 154/154 [00:01<00:00, 124.52it/s]\n",
      "Iteration: 100%|██████████| 154/154 [00:01<00:00, 115.12it/s]\n",
      "Iteration: 100%|██████████| 154/154 [00:02<00:00, 67.90it/s]]\n",
      "Iteration: 100%|██████████| 154/154 [00:01<00:00, 125.69it/s]\n",
      "Iteration:  31%|███       | 47/154 [00:00<00:01, 71.72it/s]]"
     ]
    },
    {
     "name": "stdout",
     "output_type": "stream",
     "text": [
      "{'Train':  best_epoch_indx:46\n",
      " auc:0.8740828530918627 \n",
      " apur:0.8129425427872602 \n",
      " f1:0.7288079833315056 \n",
      " precision:0.6780248928790042 \n",
      " recall:0.787814129919393 \n",
      ", 'Validation':  best_epoch_indx:46\n",
      " auc:0.8740828530918627 \n",
      " apur:0.8129425427872602 \n",
      " f1:0.7288079833315056 \n",
      " precision:0.6780248928790042 \n",
      " recall:0.787814129919393 \n",
      ", 'Test':  best_epoch_indx:46\n",
      " auc:0.8740828530918627 \n",
      " apur:0.8129425427872602 \n",
      " f1:0.7288079833315056 \n",
      " precision:0.6780248928790042 \n",
      " recall:0.787814129919393 \n",
      "}\n",
      "=====Epoch 47\n",
      "Training...\n",
      "Evaluating...\n"
     ]
    },
    {
     "name": "stderr",
     "output_type": "stream",
     "text": [
      "Iteration: 100%|██████████| 154/154 [00:03<00:00, 41.38it/s]\n",
      "Iteration: 100%|██████████| 154/154 [00:01<00:00, 79.72it/s] \n",
      "Iteration: 100%|██████████| 154/154 [00:01<00:00, 100.23it/s]\n",
      "Iteration:  29%|██▉       | 45/154 [00:00<00:01, 69.93it/s]s]"
     ]
    },
    {
     "name": "stdout",
     "output_type": "stream",
     "text": [
      "{'Train':  best_epoch_indx:48\n",
      " auc:0.8923546899468912 \n",
      " apur:0.8371403708822478 \n",
      " f1:0.7511726846296498 \n",
      " precision:0.6956961002222671 \n",
      " recall:0.8162636320531057 \n",
      ", 'Validation':  best_epoch_indx:48\n",
      " auc:0.8923546899468912 \n",
      " apur:0.8371403708822478 \n",
      " f1:0.7511726846296498 \n",
      " precision:0.6956961002222671 \n",
      " recall:0.8162636320531057 \n",
      ", 'Test':  best_epoch_indx:48\n",
      " auc:0.8923546899468912 \n",
      " apur:0.8371403708822478 \n",
      " f1:0.7511726846296498 \n",
      " precision:0.6956961002222671 \n",
      " recall:0.8162636320531057 \n",
      "}\n",
      "=====Epoch 49\n",
      "Training...\n"
     ]
    },
    {
     "name": "stderr",
     "output_type": "stream",
     "text": [
      "Iteration: 100%|██████████| 154/154 [00:01<00:00, 117.23it/s]\n",
      "Iteration: 100%|██████████| 154/154 [00:01<00:00, 96.12it/s] \n",
      "Iteration:   3%|▎         | 5/154 [00:00<00:03, 41.97it/s]s]]"
     ]
    },
    {
     "name": "stdout",
     "output_type": "stream",
     "text": [
      "{'Train':  best_epoch_indx:46\n",
      " auc:0.8712306185162031 \n",
      " apur:0.8077986874066972 \n",
      " f1:0.7247267388112458 \n",
      " precision:0.6694630029637816 \n",
      " recall:0.7899353920929405 \n",
      ", 'Validation':  best_epoch_indx:46\n",
      " auc:0.8712306185162031 \n",
      " apur:0.8077986874066972 \n",
      " f1:0.7247267388112458 \n",
      " precision:0.6694630029637816 \n",
      " recall:0.7899353920929405 \n",
      ", 'Test':  best_epoch_indx:46\n",
      " auc:0.8712306185162031 \n",
      " apur:0.8077986874066972 \n",
      " f1:0.7247267388112458 \n",
      " precision:0.6694630029637816 \n",
      " recall:0.7899353920929405 \n",
      "}\n",
      "=====Epoch 47\n",
      "Training...\n"
     ]
    },
    {
     "name": "stderr",
     "output_type": "stream",
     "text": [
      "Iteration: 100%|██████████| 154/154 [00:01<00:00, 111.55it/s]\n",
      "Iteration: 100%|██████████| 154/154 [00:01<00:00, 110.47it/s]\n",
      "Iteration:  86%|████████▋ | 133/154 [00:03<00:00, 33.84it/s]"
     ]
    },
    {
     "name": "stdout",
     "output_type": "stream",
     "text": [
      "{'Train':  best_epoch_indx:47\n",
      " auc:0.8830214274216166 \n",
      " apur:0.8238926117511077 \n",
      " f1:0.7396175929538993 \n",
      " precision:0.6980586099857947 \n",
      " recall:0.7864382668484381 \n",
      ", 'Validation':  best_epoch_indx:47\n",
      " auc:0.8830214274216166 \n",
      " apur:0.8238926117511077 \n",
      " f1:0.7396175929538993 \n",
      " precision:0.6980586099857947 \n",
      " recall:0.7864382668484381 \n",
      ", 'Test':  best_epoch_indx:47\n",
      " auc:0.8830214274216166 \n",
      " apur:0.8238926117511077 \n",
      " f1:0.7396175929538993 \n",
      " precision:0.6980586099857947 \n",
      " recall:0.7864382668484381 \n",
      "}\n",
      "=====Epoch 48\n",
      "Training...\n"
     ]
    },
    {
     "name": "stderr",
     "output_type": "stream",
     "text": [
      "Iteration: 100%|██████████| 154/154 [00:04<00:00, 37.99it/s]\n",
      "Iteration:   4%|▍         | 6/154 [00:00<00:03, 42.95it/s]s]"
     ]
    },
    {
     "name": "stdout",
     "output_type": "stream",
     "text": [
      "Evaluating...\n"
     ]
    },
    {
     "name": "stderr",
     "output_type": "stream",
     "text": [
      "Iteration: 100%|██████████| 154/154 [00:03<00:00, 43.55it/s]\n",
      "Iteration:  51%|█████     | 78/154 [00:02<00:02, 34.45it/s]]"
     ]
    },
    {
     "name": "stdout",
     "output_type": "stream",
     "text": [
      "Evaluating...\n"
     ]
    },
    {
     "name": "stderr",
     "output_type": "stream",
     "text": [
      "Iteration: 100%|██████████| 154/154 [00:01<00:00, 118.14it/s]\n",
      "Iteration: 100%|██████████| 154/154 [00:01<00:00, 94.32it/s] \n",
      "Iteration:   3%|▎         | 5/154 [00:00<00:04, 36.39it/s]]]"
     ]
    },
    {
     "name": "stdout",
     "output_type": "stream",
     "text": [
      "{'Train':  best_epoch_indx:47\n",
      " auc:0.8879067046889774 \n",
      " apur:0.8306157137294492 \n",
      " f1:0.7447678086512878 \n",
      " precision:0.6931481670581027 \n",
      " recall:0.8046944460909252 \n",
      ", 'Validation':  best_epoch_indx:47\n",
      " auc:0.8879067046889774 \n",
      " apur:0.8306157137294492 \n",
      " f1:0.7447678086512878 \n",
      " precision:0.6931481670581027 \n",
      " recall:0.8046944460909252 \n",
      ", 'Test':  best_epoch_indx:47\n",
      " auc:0.8879067046889774 \n",
      " apur:0.8306157137294492 \n",
      " f1:0.7447678086512878 \n",
      " precision:0.6931481670581027 \n",
      " recall:0.8046944460909252 \n",
      "}\n",
      "=====Epoch 48\n",
      "Training...\n"
     ]
    },
    {
     "name": "stderr",
     "output_type": "stream",
     "text": [
      "Iteration: 100%|██████████| 154/154 [00:04<00:00, 38.35it/s]\n",
      "Iteration:  14%|█▍        | 22/154 [00:00<00:03, 38.04it/s]]"
     ]
    },
    {
     "name": "stdout",
     "output_type": "stream",
     "text": [
      "Evaluating...\n"
     ]
    },
    {
     "name": "stderr",
     "output_type": "stream",
     "text": [
      "\r",
      "Iteration: 100%|██████████| 154/154 [00:02<00:00, 84.33it/s]\r",
      "Iteration: 100%|██████████| 154/154 [00:02<00:00, 73.22it/s]\n",
      "\r",
      "Iteration:  97%|█████████▋| 150/154 [00:03<00:00, 45.57it/s]\r",
      "Iteration:   4%|▍         | 6/154 [00:00<00:03, 38.61it/s]\r",
      "Iteration:  17%|█▋        | 26/154 [00:00<00:03, 36.02it/s]\r",
      "Iteration:  71%|███████▏  | 110/154 [00:01<00:00, 97.24it/s]\r",
      "Iteration: 100%|██████████| 154/154 [00:03<00:00, 45.51it/s]\n",
      "\r",
      "Iteration:   0%|          | 0/154 [00:00<?, ?it/s]\r",
      "Iteration:  12%|█▏        | 19/154 [00:00<00:01, 81.91it/s]\r",
      "Iteration:  19%|█▉        | 30/154 [00:00<00:03, 35.64it/s]"
     ]
    },
    {
     "name": "stdout",
     "output_type": "stream",
     "text": [
      "Evaluating...\n"
     ]
    },
    {
     "name": "stderr",
     "output_type": "stream",
     "text": [
      "Iteration: 100%|██████████| 154/154 [00:01<00:00, 87.94it/s]\n",
      "Iteration: 100%|██████████| 154/154 [00:01<00:00, 117.09it/s]\n",
      "Iteration: 100%|██████████| 154/154 [00:01<00:00, 117.29it/s]\n",
      "Iteration: 100%|██████████| 154/154 [00:01<00:00, 118.42it/s]\n",
      "Iteration: 100%|██████████| 154/154 [00:01<00:00, 128.21it/s]\n",
      "Iteration: 100%|██████████| 154/154 [00:03<00:00, 39.33it/s]]\n",
      "Iteration: 100%|██████████| 154/154 [00:01<00:00, 113.99it/s]\n"
     ]
    },
    {
     "name": "stdout",
     "output_type": "stream",
     "text": [
      "Evaluating...\n"
     ]
    },
    {
     "name": "stderr",
     "output_type": "stream",
     "text": [
      "Iteration: 100%|██████████| 154/154 [00:01<00:00, 81.20it/s] \n",
      "Iteration: 100%|██████████| 154/154 [00:01<00:00, 83.67it/s] \n",
      "Iteration: 100%|██████████| 154/154 [00:01<00:00, 117.88it/s]\n",
      "Iteration:  21%|██        | 32/154 [00:00<00:01, 68.10it/s]"
     ]
    },
    {
     "name": "stdout",
     "output_type": "stream",
     "text": [
      "{'Train':  best_epoch_indx:47\n",
      " auc:0.8812054220676037 \n",
      " apur:0.8229768908318384 \n",
      " f1:0.7374163153979668 \n",
      " precision:0.6889575289575289 \n",
      " recall:0.7932076813655761 \n",
      ", 'Validation':  best_epoch_indx:47\n",
      " auc:0.8812054220676037 \n",
      " apur:0.8229768908318384 \n",
      " f1:0.7374163153979668 \n",
      " precision:0.6889575289575289 \n",
      " recall:0.7932076813655761 \n",
      ", 'Test':  best_epoch_indx:47\n",
      " auc:0.8812054220676037 \n",
      " apur:0.8229768908318384 \n",
      " f1:0.7374163153979668 \n",
      " precision:0.6889575289575289 \n",
      " recall:0.7932076813655761 \n",
      "}\n",
      "=====Epoch 48\n",
      "Training...\n"
     ]
    },
    {
     "name": "stderr",
     "output_type": "stream",
     "text": [
      "\r",
      "Iteration:  50%|█████     | 77/154 [00:00<00:00, 102.29it/s]\r",
      "Iteration:   6%|▌         | 9/154 [00:00<00:03, 37.32it/s]\r",
      "Iteration:  26%|██▌       | 40/154 [00:00<00:01, 71.34it/s]\r",
      "Iteration:  59%|█████▉    | 91/154 [00:01<00:00, 110.99it/s]\r",
      "Iteration:   0%|          | 0/154 [00:00<?, ?it/s]\r",
      "Iteration:   9%|▉         | 14/154 [00:00<00:03, 41.09it/s]\r",
      "Iteration:  32%|███▏      | 49/154 [00:00<00:01, 76.54it/s]"
     ]
    },
    {
     "name": "stdout",
     "output_type": "stream",
     "text": [
      "{'Train':  best_epoch_indx:49\n",
      " auc:0.8995694518892334 \n",
      " apur:0.8470147414414149 \n",
      " f1:0.7605918322777899 \n",
      " precision:0.7050101214574899 \n",
      " recall:0.8256875296348981 \n",
      ", 'Validation':  best_epoch_indx:49\n",
      " auc:0.8995694518892334 \n",
      " apur:0.8470147414414149 \n",
      " f1:0.7605918322777899 \n",
      " precision:0.7050101214574899 \n",
      " recall:0.8256875296348981 \n",
      ", 'Test':  best_epoch_indx:49\n",
      " auc:0.8995694518892334 \n",
      " apur:0.8470147414414149 \n",
      " f1:0.7605918322777899 \n",
      " precision:0.7050101214574899 \n",
      " recall:0.8256875296348981 \n",
      "}\n",
      "=====Epoch 50\n",
      "Training...\n"
     ]
    },
    {
     "name": "stderr",
     "output_type": "stream",
     "text": [
      "Iteration: 100%|██████████| 154/154 [00:01<00:00, 96.49it/s] \n",
      "Iteration: 100%|██████████| 154/154 [00:01<00:00, 102.25it/s]\n",
      "Iteration:  28%|██▊       | 43/154 [00:01<00:02, 38.12it/s]"
     ]
    },
    {
     "name": "stdout",
     "output_type": "stream",
     "text": [
      "{'Train':  best_epoch_indx:47\n",
      " auc:0.8828152611041246 \n",
      " apur:0.8254412174363488 \n",
      " f1:0.7399617060243638 \n",
      " precision:0.6956589794427632 \n",
      " recall:0.7902910319483136 \n",
      ", 'Validation':  best_epoch_indx:47\n",
      " auc:0.8828152611041246 \n",
      " apur:0.8254412174363488 \n",
      " f1:0.7399617060243638 \n",
      " precision:0.6956589794427632 \n",
      " recall:0.7902910319483136 \n",
      ", 'Test':  best_epoch_indx:47\n",
      " auc:0.8828152611041246 \n",
      " apur:0.8254412174363488 \n",
      " f1:0.7399617060243638 \n",
      " precision:0.6956589794427632 \n",
      " recall:0.7902910319483136 \n",
      "}\n",
      "=====Epoch 48\n",
      "Training...\n"
     ]
    },
    {
     "name": "stderr",
     "output_type": "stream",
     "text": [
      "Iteration:   3%|▎         | 5/154 [00:00<00:03, 41.83it/s]]s]"
     ]
    },
    {
     "name": "stdout",
     "output_type": "stream",
     "text": [
      "{'Train':  best_epoch_indx:48\n",
      " auc:0.8908106074304015 \n",
      " apur:0.8358619782837602 \n",
      " f1:0.7493614658523042 \n",
      " precision:0.7047887618152384 \n",
      " recall:0.7999525813526169 \n",
      ", 'Validation':  best_epoch_indx:48\n",
      " auc:0.8908106074304015 \n",
      " apur:0.8358619782837602 \n",
      " f1:0.7493614658523042 \n",
      " precision:0.7047887618152384 \n",
      " recall:0.7999525813526169 \n",
      ", 'Test':  best_epoch_indx:48\n",
      " auc:0.8908106074304015 \n",
      " apur:0.8358619782837602 \n",
      " f1:0.7493614658523042 \n",
      " precision:0.7047887618152384 \n",
      " recall:0.7999525813526169 \n",
      "}\n",
      "=====Epoch 49\n",
      "Training...\n"
     ]
    },
    {
     "name": "stderr",
     "output_type": "stream",
     "text": [
      "Iteration: 100%|██████████| 154/154 [00:01<00:00, 98.92it/s] \n",
      "Iteration: 100%|██████████| 154/154 [00:03<00:00, 44.78it/s]\n",
      "Iteration:  25%|██▍       | 38/154 [00:00<00:01, 71.70it/s]]"
     ]
    },
    {
     "name": "stdout",
     "output_type": "stream",
     "text": [
      "Evaluating...\n"
     ]
    },
    {
     "name": "stderr",
     "output_type": "stream",
     "text": [
      "Iteration: 100%|██████████| 154/154 [00:03<00:00, 42.80it/s]\n",
      "Iteration:  45%|████▌     | 70/154 [00:00<00:01, 72.40it/s]]"
     ]
    },
    {
     "name": "stdout",
     "output_type": "stream",
     "text": [
      "Evaluating...\n"
     ]
    },
    {
     "name": "stderr",
     "output_type": "stream",
     "text": [
      "Iteration: 100%|██████████| 154/154 [00:01<00:00, 117.18it/s]\n",
      "Iteration: 100%|██████████| 154/154 [00:02<00:00, 70.78it/s]]\n",
      "Iteration: 100%|██████████| 154/154 [00:01<00:00, 117.64it/s]\n",
      "Iteration: 100%|██████████| 154/154 [00:03<00:00, 42.49it/s]\n",
      "Iteration:  10%|█         | 16/154 [00:00<00:02, 67.18it/s]]"
     ]
    },
    {
     "name": "stdout",
     "output_type": "stream",
     "text": [
      "Evaluating...\n"
     ]
    },
    {
     "name": "stderr",
     "output_type": "stream",
     "text": [
      "\r",
      "Iteration:  16%|█▌        | 25/154 [00:00<00:01, 121.94it/s]\r",
      "Iteration:  99%|█████████▊| 152/154 [00:04<00:00, 42.21it/s]\r",
      "Iteration:  15%|█▍        | 23/154 [00:00<00:01, 68.08it/s]\r",
      "Iteration: 100%|██████████| 154/154 [00:04<00:00, 36.67it/s]\n",
      "\r",
      "Iteration:   0%|          | 0/154 [00:00<?, ?it/s]\r",
      "Iteration:  25%|██▍       | 38/154 [00:00<00:00, 124.86it/s]\r",
      "Iteration:  19%|█▉        | 30/154 [00:00<00:01, 67.37it/s]\r",
      "Iteration:   0%|          | 0/154 [00:00<?, ?it/s]\r",
      "Iteration:   7%|▋         | 11/154 [00:00<00:01, 109.30it/s]"
     ]
    },
    {
     "name": "stdout",
     "output_type": "stream",
     "text": [
      "Evaluating...\n"
     ]
    },
    {
     "name": "stderr",
     "output_type": "stream",
     "text": [
      "Iteration:  51%|█████     | 78/154 [00:00<00:00, 124.48it/s]]"
     ]
    },
    {
     "name": "stdout",
     "output_type": "stream",
     "text": [
      "{'Train':  best_epoch_indx:48\n",
      " auc:0.8951664767102278 \n",
      " apur:0.8406876324138185 \n",
      " f1:0.7505628691759595 \n",
      " precision:0.6784790728857389 \n",
      " recall:0.839784245154407 \n",
      ", 'Validation':  best_epoch_indx:48\n",
      " auc:0.8951664767102278 \n",
      " apur:0.8406876324138185 \n",
      " f1:0.7505628691759595 \n",
      " precision:0.6784790728857389 \n",
      " recall:0.839784245154407 \n",
      ", 'Test':  best_epoch_indx:48\n",
      " auc:0.8951664767102278 \n",
      " apur:0.8406876324138185 \n",
      " f1:0.7505628691759595 \n",
      " precision:0.6784790728857389 \n",
      " recall:0.839784245154407 \n",
      "}\n",
      "=====Epoch 49\n",
      "Training...\n"
     ]
    },
    {
     "name": "stderr",
     "output_type": "stream",
     "text": [
      "Iteration: 100%|██████████| 154/154 [00:01<00:00, 125.18it/s]\n",
      "Iteration: 100%|██████████| 154/154 [00:01<00:00, 118.03it/s]\n",
      "Iteration:   0%|          | 0/154 [00:00<?, ?it/s]116.49it/s]\n",
      "Iteration: 100%|██████████| 154/154 [00:02<00:00, 68.07it/s]\n",
      "Iteration: 100%|██████████| 154/154 [00:01<00:00, 119.03it/s]\n",
      "Iteration: 100%|██████████| 154/154 [00:01<00:00, 127.11it/s]\n",
      "Iteration: 100%|██████████| 154/154 [00:01<00:00, 121.65it/s]\n",
      "Iteration:  10%|█         | 16/154 [00:00<00:01, 76.60it/s]]]"
     ]
    },
    {
     "name": "stdout",
     "output_type": "stream",
     "text": [
      "{'Train':  best_epoch_indx:50\n",
      " auc:0.8982037257720248 \n",
      " apur:0.845142901197769 \n",
      " f1:0.7580090596518038 \n",
      " precision:0.7023869727925559 \n",
      " recall:0.8231981981981982 \n",
      ", 'Validation':  best_epoch_indx:50\n",
      " auc:0.8982037257720248 \n",
      " apur:0.845142901197769 \n",
      " f1:0.7580090596518038 \n",
      " precision:0.7023869727925559 \n",
      " recall:0.8231981981981982 \n",
      ", 'Test':  best_epoch_indx:50\n",
      " auc:0.8982037257720248 \n",
      " apur:0.845142901197769 \n",
      " f1:0.7580090596518038 \n",
      " precision:0.7023869727925559 \n",
      " recall:0.8231981981981982 \n",
      "}\n",
      "=====Epoch 51\n",
      "Training...\n"
     ]
    },
    {
     "name": "stderr",
     "output_type": "stream",
     "text": [
      "Iteration: 100%|██████████| 154/154 [00:01<00:00, 107.78it/s]\n",
      "Iteration:  99%|█████████▉| 153/154 [00:04<00:00, 37.30it/s]]\n"
     ]
    },
    {
     "name": "stdout",
     "output_type": "stream",
     "text": [
      "{'Train':  best_epoch_indx:48\n",
      " auc:0.8877145775725873 \n",
      " apur:0.8312530070937334 \n",
      " f1:0.7427168752697453 \n",
      " precision:0.6815346534653466 \n",
      " recall:0.8159672830725462 \n",
      ", 'Validation':  best_epoch_indx:48\n",
      " auc:0.8877145775725873 \n",
      " apur:0.8312530070937334 \n",
      " f1:0.7427168752697453 \n",
      " precision:0.6815346534653466 \n",
      " recall:0.8159672830725462 \n",
      ", 'Test':  best_epoch_indx:48\n",
      " auc:0.8877145775725873 \n",
      " apur:0.8312530070937334 \n",
      " f1:0.7427168752697453 \n",
      " precision:0.6815346534653466 \n",
      " recall:0.8159672830725462 \n",
      "}\n",
      "=====Epoch 49\n",
      "Training...\n",
      "Evaluating...\n"
     ]
    },
    {
     "name": "stderr",
     "output_type": "stream",
     "text": [
      "Iteration: 100%|██████████| 154/154 [00:04<00:00, 36.17it/s]\n",
      "Iteration:  79%|███████▉  | 122/154 [00:01<00:00, 118.84it/s]"
     ]
    },
    {
     "name": "stdout",
     "output_type": "stream",
     "text": [
      "{'Train':  best_epoch_indx:49\n",
      " auc:0.8979038756317068 \n",
      " apur:0.8457130683584677 \n",
      " f1:0.7606286186931348 \n",
      " precision:0.7110675808031341 \n",
      " recall:0.8176160275028155 \n",
      ", 'Validation':  best_epoch_indx:49\n",
      " auc:0.8979038756317068 \n",
      " apur:0.8457130683584677 \n",
      " f1:0.7606286186931348 \n",
      " precision:0.7110675808031341 \n",
      " recall:0.8176160275028155 \n",
      ", 'Test':  best_epoch_indx:49\n",
      " auc:0.8979038756317068 \n",
      " apur:0.8457130683584677 \n",
      " f1:0.7606286186931348 \n",
      " precision:0.7110675808031341 \n",
      " recall:0.8176160275028155 \n",
      "}\n",
      "=====Epoch 50\n",
      "Training...\n"
     ]
    },
    {
     "name": "stderr",
     "output_type": "stream",
     "text": [
      "Iteration: 100%|██████████| 154/154 [00:01<00:00, 99.26it/s] \n",
      "Iteration:  34%|███▍      | 53/154 [00:01<00:02, 37.18it/s]"
     ]
    },
    {
     "name": "stdout",
     "output_type": "stream",
     "text": [
      "{'Train':  best_epoch_indx:48\n",
      " auc:0.89025061834677 \n",
      " apur:0.8348054333466548 \n",
      " f1:0.7496815639364235 \n",
      " precision:0.7034765888894663 \n",
      " recall:0.802382787031 \n",
      ", 'Validation':  best_epoch_indx:48\n",
      " auc:0.89025061834677 \n",
      " apur:0.8348054333466548 \n",
      " f1:0.7496815639364235 \n",
      " precision:0.7034765888894663 \n",
      " recall:0.802382787031 \n",
      ", 'Test':  best_epoch_indx:48\n",
      " auc:0.89025061834677 \n",
      " apur:0.8348054333466548 \n",
      " f1:0.7496815639364235 \n",
      " precision:0.7034765888894663 \n",
      " recall:0.802382787031 \n",
      "}\n",
      "=====Epoch 49\n",
      "Training...\n"
     ]
    },
    {
     "name": "stderr",
     "output_type": "stream",
     "text": [
      "Iteration: 100%|██████████| 154/154 [00:02<00:00, 70.17it/s]\n",
      "Iteration: 100%|██████████| 154/154 [00:03<00:00, 45.90it/s]\n",
      "Iteration:   0%|          | 0/154 [00:00<?, ?it/s]"
     ]
    },
    {
     "name": "stdout",
     "output_type": "stream",
     "text": [
      "Evaluating...\n"
     ]
    },
    {
     "name": "stderr",
     "output_type": "stream",
     "text": [
      "Iteration: 100%|██████████| 154/154 [00:01<00:00, 118.17it/s]\n",
      "Iteration: 100%|██████████| 154/154 [00:03<00:00, 44.03it/s]\n",
      "Iteration:  97%|█████████▋| 150/154 [00:04<00:00, 36.38it/s]"
     ]
    },
    {
     "name": "stdout",
     "output_type": "stream",
     "text": [
      "Evaluating...\n",
      "Evaluating...\n"
     ]
    },
    {
     "name": "stderr",
     "output_type": "stream",
     "text": [
      "Iteration: 100%|██████████| 154/154 [00:04<00:00, 36.67it/s]\n",
      "Iteration: 100%|██████████| 154/154 [00:03<00:00, 44.34it/s]]\n",
      "Iteration: 100%|██████████| 154/154 [00:01<00:00, 104.42it/s]\n",
      "Iteration:  42%|████▏     | 65/154 [00:00<00:00, 102.99it/s]"
     ]
    },
    {
     "name": "stdout",
     "output_type": "stream",
     "text": [
      "Evaluating...\n"
     ]
    },
    {
     "name": "stderr",
     "output_type": "stream",
     "text": [
      "Iteration: 100%|██████████| 154/154 [00:01<00:00, 102.65it/s]\n",
      "Iteration: 100%|██████████| 154/154 [00:01<00:00, 107.36it/s]\n",
      "Iteration: 100%|██████████| 154/154 [00:01<00:00, 124.46it/s]\n",
      "Iteration: 100%|██████████| 154/154 [00:02<00:00, 73.35it/s]]\n",
      "Iteration: 100%|██████████| 154/154 [00:01<00:00, 103.29it/s]\n",
      "Iteration:   0%|          | 0/154 [00:00<?, ?it/s]3.66it/s]s]"
     ]
    },
    {
     "name": "stdout",
     "output_type": "stream",
     "text": [
      "{'Train':  best_epoch_indx:49\n",
      " auc:0.9008875998572692 \n",
      " apur:0.8490280365316627 \n",
      " f1:0.7600660974938035 \n",
      " precision:0.709861618396008 \n",
      " recall:0.8179123940489598 \n",
      ", 'Validation':  best_epoch_indx:49\n",
      " auc:0.9008875998572692 \n",
      " apur:0.8490280365316627 \n",
      " f1:0.7600660974938035 \n",
      " precision:0.709861618396008 \n",
      " recall:0.8179123940489598 \n",
      ", 'Test':  best_epoch_indx:49\n",
      " auc:0.9008875998572692 \n",
      " apur:0.8490280365316627 \n",
      " f1:0.7600660974938035 \n",
      " precision:0.709861618396008 \n",
      " recall:0.8179123940489598 \n",
      "}\n",
      "=====Epoch 50\n",
      "Training...\n"
     ]
    },
    {
     "name": "stderr",
     "output_type": "stream",
     "text": [
      "Iteration: 100%|██████████| 154/154 [00:01<00:00, 118.26it/s]\n",
      "Iteration: 100%|██████████| 154/154 [00:01<00:00, 86.23it/s] \n",
      "Iteration: 100%|██████████| 154/154 [00:01<00:00, 78.37it/s] \n",
      "Iteration: 100%|██████████| 154/154 [00:01<00:00, 117.15it/s]\n",
      "Iteration:  13%|█▎        | 20/154 [00:00<00:01, 100.20it/s]"
     ]
    },
    {
     "name": "stdout",
     "output_type": "stream",
     "text": [
      "{'Train':  best_epoch_indx:51\n",
      " auc:0.8950813129103545 \n",
      " apur:0.8411145298725209 \n",
      " f1:0.7564935064935064 \n",
      " precision:0.7166949512091642 \n",
      " recall:0.8009720246562352 \n",
      ", 'Validation':  best_epoch_indx:51\n",
      " auc:0.8950813129103545 \n",
      " apur:0.8411145298725209 \n",
      " f1:0.7564935064935064 \n",
      " precision:0.7166949512091642 \n",
      " recall:0.8009720246562352 \n",
      ", 'Test':  best_epoch_indx:51\n",
      " auc:0.8950813129103545 \n",
      " apur:0.8411145298725209 \n",
      " f1:0.7564935064935064 \n",
      " precision:0.7166949512091642 \n",
      " recall:0.8009720246562352 \n",
      "}\n",
      "=====Epoch 52\n",
      "Training...\n"
     ]
    },
    {
     "name": "stderr",
     "output_type": "stream",
     "text": [
      "Iteration: 100%|██████████| 154/154 [00:01<00:00, 122.16it/s]\n",
      "Iteration: 100%|██████████| 154/154 [00:01<00:00, 94.31it/s] \n",
      "Iteration:   0%|          | 0/154 [00:00<?, ?it/s]127.89it/s]"
     ]
    },
    {
     "name": "stdout",
     "output_type": "stream",
     "text": [
      "{'Train':  best_epoch_indx:50\n",
      " auc:0.8957428135298842 \n",
      " apur:0.8438926780628934 \n",
      " f1:0.7553519366930446 \n",
      " precision:0.7105098203092353 \n",
      " recall:0.8062355521308755 \n",
      ", 'Validation':  best_epoch_indx:50\n",
      " auc:0.8957428135298842 \n",
      " apur:0.8438926780628934 \n",
      " f1:0.7553519366930446 \n",
      " precision:0.7105098203092353 \n",
      " recall:0.8062355521308755 \n",
      ", 'Test':  best_epoch_indx:50\n",
      " auc:0.8957428135298842 \n",
      " apur:0.8438926780628934 \n",
      " f1:0.7553519366930446 \n",
      " precision:0.7105098203092353 \n",
      " recall:0.8062355521308755 \n",
      "}\n",
      "=====Epoch 51\n",
      "Training...\n",
      "{'Train':  best_epoch_indx:49\n",
      " auc:0.8948232775616443 \n",
      " apur:0.8409517341527045 \n",
      " f1:0.7531617235590374 \n",
      " precision:0.7133241467034132 \n",
      " recall:0.7977121858700806 \n",
      ", 'Validation':  best_epoch_indx:49\n",
      " auc:0.8948232775616443 \n",
      " apur:0.8409517341527045 \n",
      " f1:0.7531617235590374 \n",
      " precision:0.7133241467034132 \n",
      " recall:0.7977121858700806 \n",
      ", 'Test':  best_epoch_indx:49\n",
      " auc:0.8948232775616443 \n",
      " apur:0.8409517341527045 \n",
      " f1:0.7531617235590374 \n",
      " precision:0.7133241467034132 \n",
      " recall:0.7977121858700806 \n",
      "}\n",
      "=====Epoch 50\n",
      "Training...\n"
     ]
    },
    {
     "name": "stderr",
     "output_type": "stream",
     "text": [
      "Iteration: 100%|██████████| 154/154 [00:01<00:00, 121.59it/s]\n",
      "Iteration:   3%|▎         | 5/154 [00:00<00:03, 42.64it/s]]]"
     ]
    },
    {
     "name": "stdout",
     "output_type": "stream",
     "text": [
      "{'Train':  best_epoch_indx:49\n",
      " auc:0.8987056569025419 \n",
      " apur:0.8465217005818442 \n",
      " f1:0.7601985634654316 \n",
      " precision:0.714300604544507 \n",
      " recall:0.8123999762906763 \n",
      ", 'Validation':  best_epoch_indx:49\n",
      " auc:0.8987056569025419 \n",
      " apur:0.8465217005818442 \n",
      " f1:0.7601985634654316 \n",
      " precision:0.714300604544507 \n",
      " recall:0.8123999762906763 \n",
      ", 'Test':  best_epoch_indx:49\n",
      " auc:0.8987056569025419 \n",
      " apur:0.8465217005818442 \n",
      " f1:0.7601985634654316 \n",
      " precision:0.714300604544507 \n",
      " recall:0.8123999762906763 \n",
      "}\n",
      "=====Epoch 50\n",
      "Training...\n"
     ]
    },
    {
     "name": "stderr",
     "output_type": "stream",
     "text": [
      "Iteration: 100%|██████████| 154/154 [00:03<00:00, 39.00it/s]\n",
      "Iteration:  57%|█████▋    | 88/154 [00:02<00:01, 43.98it/s]"
     ]
    },
    {
     "name": "stdout",
     "output_type": "stream",
     "text": [
      "Evaluating...\n"
     ]
    },
    {
     "name": "stderr",
     "output_type": "stream",
     "text": [
      "Iteration: 100%|██████████| 154/154 [00:04<00:00, 37.54it/s]\n",
      "Iteration:  71%|███████▏  | 110/154 [00:02<00:00, 44.96it/s]"
     ]
    },
    {
     "name": "stdout",
     "output_type": "stream",
     "text": [
      "Evaluating...\n"
     ]
    },
    {
     "name": "stderr",
     "output_type": "stream",
     "text": [
      "Iteration: 100%|██████████| 154/154 [00:02<00:00, 66.16it/s]\n",
      "Iteration: 100%|██████████| 154/154 [00:03<00:00, 45.01it/s]\n",
      "Iteration: 100%|██████████| 154/154 [00:03<00:00, 45.70it/s]\n",
      "Iteration:   8%|▊         | 12/154 [00:00<00:01, 112.64it/s]"
     ]
    },
    {
     "name": "stdout",
     "output_type": "stream",
     "text": [
      "Evaluating...\n",
      "Evaluating...\n"
     ]
    },
    {
     "name": "stderr",
     "output_type": "stream",
     "text": [
      "Iteration: 100%|██████████| 154/154 [00:03<00:00, 44.49it/s]\n",
      "Iteration:  47%|████▋     | 73/154 [00:00<00:00, 121.18it/s]"
     ]
    },
    {
     "name": "stdout",
     "output_type": "stream",
     "text": [
      "Evaluating...\n"
     ]
    },
    {
     "name": "stderr",
     "output_type": "stream",
     "text": [
      "Iteration: 100%|██████████| 154/154 [00:01<00:00, 115.93it/s]\n",
      "Iteration: 100%|██████████| 154/154 [00:01<00:00, 117.48it/s]\n",
      "Iteration: 100%|██████████| 154/154 [00:02<00:00, 72.35it/s]]\n",
      "Iteration: 100%|██████████| 154/154 [00:01<00:00, 117.34it/s]\n",
      "Iteration: 100%|██████████| 154/154 [00:01<00:00, 125.64it/s]\n",
      "Iteration: 100%|██████████| 154/154 [00:01<00:00, 96.31it/s] \n",
      "Iteration: 100%|██████████| 154/154 [00:02<00:00, 59.02it/s]\n",
      "Iteration: 100%|██████████| 154/154 [00:01<00:00, 113.82it/s]\n",
      "Iteration: 100%|██████████| 154/154 [00:01<00:00, 88.71it/s] \n",
      "Iteration: 100%|██████████| 154/154 [00:01<00:00, 115.86it/s]\n",
      "Iteration: 100%|██████████| 154/154 [00:01<00:00, 118.37it/s]\n",
      "Iteration:  36%|███▌      | 55/154 [00:00<00:01, 63.11it/s]s]"
     ]
    },
    {
     "name": "stdout",
     "output_type": "stream",
     "text": [
      "{'Train':  best_epoch_indx:51\n",
      " auc:0.8924160740227266 \n",
      " apur:0.8389203537744451 \n",
      " f1:0.7528285955530538 \n",
      " precision:0.7167586687389463 \n",
      " recall:0.7927212376266967 \n",
      ", 'Validation':  best_epoch_indx:51\n",
      " auc:0.8924160740227266 \n",
      " apur:0.8389203537744451 \n",
      " f1:0.7528285955530538 \n",
      " precision:0.7167586687389463 \n",
      " recall:0.7927212376266967 \n",
      ", 'Test':  best_epoch_indx:51\n",
      " auc:0.8924160740227266 \n",
      " apur:0.8389203537744451 \n",
      " f1:0.7528285955530538 \n",
      " precision:0.7167586687389463 \n",
      " recall:0.7927212376266967 \n",
      "}\n",
      "=====Epoch 52\n",
      "Training...\n"
     ]
    },
    {
     "name": "stderr",
     "output_type": "stream",
     "text": [
      "\r",
      "Iteration:  88%|████████▊ | 136/154 [00:01<00:00, 112.95it/s]\r",
      "Iteration:  41%|████      | 63/154 [00:00<00:01, 74.31it/s]\r",
      "Iteration:   4%|▍         | 6/154 [00:00<00:02, 50.64it/s]\r",
      "Iteration:  40%|████      | 62/154 [00:01<00:01, 61.64it/s]\r",
      "Iteration:  97%|█████████▋| 149/154 [00:01<00:00, 117.49it/s]\r",
      "Iteration:  46%|████▌     | 71/154 [00:00<00:01, 75.16it/s]\r",
      "Iteration: 100%|██████████| 154/154 [00:01<00:00, 96.26it/s] \n",
      "\r",
      "Iteration:   8%|▊         | 12/154 [00:00<00:02, 47.51it/s]\r",
      "Iteration:   0%|          | 0/154 [00:00<?, ?it/s]"
     ]
    },
    {
     "name": "stdout",
     "output_type": "stream",
     "text": [
      "{'Train':  best_epoch_indx:50\n",
      " auc:0.8953101956814118 \n",
      " apur:0.8423275025507393 \n",
      " f1:0.7536795943538441 \n",
      " precision:0.7010146331514812 \n",
      " recall:0.814900426742532 \n",
      ", 'Validation':  best_epoch_indx:50\n",
      " auc:0.8953101956814118 \n",
      " apur:0.8423275025507393 \n",
      " f1:0.7536795943538441 \n",
      " precision:0.7010146331514812 \n",
      " recall:0.814900426742532 \n",
      ", 'Test':  best_epoch_indx:50\n",
      " auc:0.8953101956814118 \n",
      " apur:0.8423275025507393 \n",
      " f1:0.7536795943538441 \n",
      " precision:0.7010146331514812 \n",
      " recall:0.814900426742532 \n",
      "}\n",
      "=====Epoch 51\n",
      "Training...\n"
     ]
    },
    {
     "name": "stderr",
     "output_type": "stream",
     "text": [
      "Iteration:  14%|█▍        | 22/154 [00:00<00:03, 40.41it/s]]"
     ]
    },
    {
     "name": "stdout",
     "output_type": "stream",
     "text": [
      "{'Train':  best_epoch_indx:52\n",
      " auc:0.8892261626376796 \n",
      " apur:0.8333563417084577 \n",
      " f1:0.7485731957603531 \n",
      " precision:0.7120393646039471 \n",
      " recall:0.7890587956377431 \n",
      ", 'Validation':  best_epoch_indx:52\n",
      " auc:0.8892261626376796 \n",
      " apur:0.8333563417084577 \n",
      " f1:0.7485731957603531 \n",
      " precision:0.7120393646039471 \n",
      " recall:0.7890587956377431 \n",
      ", 'Test':  best_epoch_indx:52\n",
      " auc:0.8892261626376796 \n",
      " apur:0.8333563417084577 \n",
      " f1:0.7485731957603531 \n",
      " precision:0.7120393646039471 \n",
      " recall:0.7890587956377431 \n",
      "}\n",
      "=====Epoch 53\n",
      "Training...\n"
     ]
    },
    {
     "name": "stderr",
     "output_type": "stream",
     "text": [
      "Iteration: 100%|██████████| 154/154 [00:02<00:00, 72.68it/s]\n",
      "Iteration: 100%|██████████| 154/154 [00:02<00:00, 66.52it/s]\n",
      "Iteration:  34%|███▍      | 52/154 [00:01<00:02, 41.89it/s]"
     ]
    },
    {
     "name": "stdout",
     "output_type": "stream",
     "text": [
      "{'Train':  best_epoch_indx:50\n",
      " auc:0.8993663665244443 \n",
      " apur:0.8473275306461289 \n",
      " f1:0.757691053375367 \n",
      " precision:0.6996235884567127 \n",
      " recall:0.8262699306502282 \n",
      ", 'Validation':  best_epoch_indx:50\n",
      " auc:0.8993663665244443 \n",
      " apur:0.8473275306461289 \n",
      " f1:0.757691053375367 \n",
      " precision:0.6996235884567127 \n",
      " recall:0.8262699306502282 \n",
      ", 'Test':  best_epoch_indx:50\n",
      " auc:0.8993663665244443 \n",
      " apur:0.8473275306461289 \n",
      " f1:0.757691053375367 \n",
      " precision:0.6996235884567127 \n",
      " recall:0.8262699306502282 \n",
      "}\n",
      "=====Epoch 51\n",
      "Training...\n"
     ]
    },
    {
     "name": "stderr",
     "output_type": "stream",
     "text": [
      "Iteration:  47%|████▋     | 72/154 [00:01<00:01, 44.79it/s]]"
     ]
    },
    {
     "name": "stdout",
     "output_type": "stream",
     "text": [
      "{'Train':  best_epoch_indx:50\n",
      " auc:0.8970820750327453 \n",
      " apur:0.8441820067035091 \n",
      " f1:0.7573726171756462 \n",
      " precision:0.708380637836722 \n",
      " recall:0.8136447157844823 \n",
      ", 'Validation':  best_epoch_indx:50\n",
      " auc:0.8970820750327453 \n",
      " apur:0.8441820067035091 \n",
      " f1:0.7573726171756462 \n",
      " precision:0.708380637836722 \n",
      " recall:0.8136447157844823 \n",
      ", 'Test':  best_epoch_indx:50\n",
      " auc:0.8970820750327453 \n",
      " apur:0.8441820067035091 \n",
      " f1:0.7573726171756462 \n",
      " precision:0.708380637836722 \n",
      " recall:0.8136447157844823 \n",
      "}\n",
      "=====Epoch 51\n",
      "Training...\n"
     ]
    },
    {
     "name": "stderr",
     "output_type": "stream",
     "text": [
      "Iteration: 100%|██████████| 154/154 [00:03<00:00, 45.19it/s]\n",
      "Iteration:   8%|▊         | 12/154 [00:00<00:01, 112.97it/s]"
     ]
    },
    {
     "name": "stdout",
     "output_type": "stream",
     "text": [
      "Evaluating...\n"
     ]
    },
    {
     "name": "stderr",
     "output_type": "stream",
     "text": [
      "\r",
      "Iteration:  79%|███████▉  | 122/154 [00:02<00:00, 45.64it/s]\r",
      "Iteration:  95%|█████████▌| 147/154 [00:03<00:00, 45.70it/s]\r",
      "Iteration:  38%|███▊      | 59/154 [00:01<00:02, 36.52it/s]\r",
      "Iteration:  17%|█▋        | 26/154 [00:00<00:01, 123.27it/s]\r",
      "Iteration:  29%|██▉       | 45/154 [00:01<00:03, 33.69it/s]\r",
      "Iteration:  82%|████████▏ | 127/154 [00:02<00:00, 45.73it/s]\r",
      "Iteration:  99%|█████████▊| 152/154 [00:03<00:00, 45.71it/s]\r",
      "Iteration:  41%|████      | 63/154 [00:01<00:02, 35.72it/s]\r",
      "Iteration:  26%|██▌       | 40/154 [00:00<00:00, 126.49it/s]\r",
      "Iteration:  32%|███▏      | 49/154 [00:01<00:03, 34.27it/s]\r",
      "Iteration: 100%|██████████| 154/154 [00:03<00:00, 44.38it/s]\n",
      "\r",
      "Iteration:   0%|          | 0/154 [00:00<?, ?it/s]"
     ]
    },
    {
     "name": "stdout",
     "output_type": "stream",
     "text": [
      "Evaluating...\n"
     ]
    },
    {
     "name": "stderr",
     "output_type": "stream",
     "text": [
      "Iteration: 100%|██████████| 154/154 [00:03<00:00, 43.50it/s]]\n",
      "Iteration:  56%|█████▋    | 87/154 [00:02<00:01, 37.36it/s]]]"
     ]
    },
    {
     "name": "stdout",
     "output_type": "stream",
     "text": [
      "Evaluating...\n"
     ]
    },
    {
     "name": "stderr",
     "output_type": "stream",
     "text": [
      "Iteration: 100%|██████████| 154/154 [00:01<00:00, 127.03it/s]\n",
      "Iteration: 100%|██████████| 154/154 [00:01<00:00, 125.64it/s]\n",
      "Iteration: 100%|██████████| 154/154 [00:02<00:00, 66.87it/s]]\n",
      "Iteration: 100%|██████████| 154/154 [00:03<00:00, 40.77it/s]\n",
      "Iteration: 100%|██████████| 154/154 [00:04<00:00, 37.48it/s]\n",
      "Iteration:   5%|▌         | 8/154 [00:00<00:02, 69.09it/s]"
     ]
    },
    {
     "name": "stdout",
     "output_type": "stream",
     "text": [
      "Evaluating...\n",
      "Evaluating...\n"
     ]
    },
    {
     "name": "stderr",
     "output_type": "stream",
     "text": [
      "Iteration: 100%|██████████| 154/154 [00:01<00:00, 118.66it/s]\n",
      "Iteration: 100%|██████████| 154/154 [00:01<00:00, 116.13it/s]\n",
      "Iteration: 100%|██████████| 154/154 [00:01<00:00, 103.66it/s]\n",
      "Iteration: 100%|██████████| 154/154 [00:01<00:00, 107.20it/s]\n",
      "Iteration: 100%|██████████| 154/154 [00:02<00:00, 71.07it/s]\n",
      "Iteration: 100%|██████████| 154/154 [00:01<00:00, 84.50it/s] \n",
      "Iteration: 100%|██████████| 154/154 [00:01<00:00, 127.34it/s]\n",
      "Iteration: 100%|██████████| 154/154 [00:01<00:00, 99.40it/s] \n",
      "Iteration:  33%|███▎      | 51/154 [00:00<00:01, 61.71it/s]"
     ]
    },
    {
     "name": "stdout",
     "output_type": "stream",
     "text": [
      "{'Train':  best_epoch_indx:52\n",
      " auc:0.8867006043792488 \n",
      " apur:0.8311493885089916 \n",
      " f1:0.7438524002180713 \n",
      " precision:0.7209121245828699 \n",
      " recall:0.7683006342244088 \n",
      ", 'Validation':  best_epoch_indx:52\n",
      " auc:0.8867006043792488 \n",
      " apur:0.8311493885089916 \n",
      " f1:0.7438524002180713 \n",
      " precision:0.7209121245828699 \n",
      " recall:0.7683006342244088 \n",
      ", 'Test':  best_epoch_indx:52\n",
      " auc:0.8867006043792488 \n",
      " apur:0.8311493885089916 \n",
      " f1:0.7438524002180713 \n",
      " precision:0.7209121245828699 \n",
      " recall:0.7683006342244088 \n",
      "}\n",
      "=====Epoch 53\n",
      "Training...\n"
     ]
    },
    {
     "name": "stderr",
     "output_type": "stream",
     "text": [
      "Iteration: 100%|██████████| 154/154 [00:01<00:00, 100.41it/s]\n",
      "Iteration: 100%|██████████| 154/154 [00:01<00:00, 84.17it/s] \n",
      "Iteration:   0%|          | 0/154 [00:00<?, ?it/s]4.62it/s]s]"
     ]
    },
    {
     "name": "stdout",
     "output_type": "stream",
     "text": [
      "{'Train':  best_epoch_indx:53\n",
      " auc:0.8857848652088189 \n",
      " apur:0.8282900317385724 \n",
      " f1:0.7431667211151041 \n",
      " precision:0.6872608257804632 \n",
      " recall:0.8089734471313419 \n",
      ", 'Validation':  best_epoch_indx:53\n",
      " auc:0.8857848652088189 \n",
      " apur:0.8282900317385724 \n",
      " f1:0.7431667211151041 \n",
      " precision:0.6872608257804632 \n",
      " recall:0.8089734471313419 \n",
      ", 'Test':  best_epoch_indx:53\n",
      " auc:0.8857848652088189 \n",
      " apur:0.8282900317385724 \n",
      " f1:0.7431667211151041 \n",
      " precision:0.6872608257804632 \n",
      " recall:0.8089734471313419 \n",
      "}\n",
      "=====Epoch 54\n",
      "Training...\n",
      "{'Train':  best_epoch_indx:51\n",
      " auc:0.8899465349552176 \n",
      " apur:0.8349983116149136 \n",
      " f1:0.747585977921036 \n",
      " precision:0.701053396294951 \n",
      " recall:0.8007349454717876 \n",
      ", 'Validation':  best_epoch_indx:51\n",
      " auc:0.8899465349552176 \n",
      " apur:0.8349983116149136 \n",
      " f1:0.747585977921036 \n",
      " precision:0.701053396294951 \n",
      " recall:0.8007349454717876 \n",
      ", 'Test':  best_epoch_indx:51\n",
      " auc:0.8899465349552176 \n",
      " apur:0.8349983116149136 \n",
      " f1:0.747585977921036 \n",
      " precision:0.701053396294951 \n",
      " recall:0.8007349454717876 \n",
      "}\n",
      "=====Epoch 52\n",
      "Training...\n"
     ]
    },
    {
     "name": "stderr",
     "output_type": "stream",
     "text": [
      "Iteration: 100%|██████████| 154/154 [00:01<00:00, 109.69it/s]\n",
      "Iteration:  16%|█▌        | 25/154 [00:00<00:05, 23.79it/s]s]"
     ]
    },
    {
     "name": "stdout",
     "output_type": "stream",
     "text": [
      "{'Train':  best_epoch_indx:51\n",
      " auc:0.8932157540629402 \n",
      " apur:0.8400994561107098 \n",
      " f1:0.7497585577851701 \n",
      " precision:0.6848321489830924 \n",
      " recall:0.8282852231640092 \n",
      ", 'Validation':  best_epoch_indx:51\n",
      " auc:0.8932157540629402 \n",
      " apur:0.8400994561107098 \n",
      " f1:0.7497585577851701 \n",
      " precision:0.6848321489830924 \n",
      " recall:0.8282852231640092 \n",
      ", 'Test':  best_epoch_indx:51\n",
      " auc:0.8932157540629402 \n",
      " apur:0.8400994561107098 \n",
      " f1:0.7497585577851701 \n",
      " precision:0.6848321489830924 \n",
      " recall:0.8282852231640092 \n",
      "}\n",
      "=====Epoch 52\n",
      "Training...\n"
     ]
    },
    {
     "name": "stderr",
     "output_type": "stream",
     "text": [
      "Iteration: 100%|██████████| 154/154 [00:01<00:00, 96.19it/s] \n",
      "Iteration:  35%|███▌      | 54/154 [00:01<00:02, 36.57it/s]]"
     ]
    },
    {
     "name": "stdout",
     "output_type": "stream",
     "text": [
      "{'Train':  best_epoch_indx:51\n",
      " auc:0.8948186916957924 \n",
      " apur:0.8405883648555081 \n",
      " f1:0.7537124628753712 \n",
      " precision:0.7030215974965373 \n",
      " recall:0.8122814296722186 \n",
      ", 'Validation':  best_epoch_indx:51\n",
      " auc:0.8948186916957924 \n",
      " apur:0.8405883648555081 \n",
      " f1:0.7537124628753712 \n",
      " precision:0.7030215974965373 \n",
      " recall:0.8122814296722186 \n",
      ", 'Test':  best_epoch_indx:51\n",
      " auc:0.8948186916957924 \n",
      " apur:0.8405883648555081 \n",
      " f1:0.7537124628753712 \n",
      " precision:0.7030215974965373 \n",
      " recall:0.8122814296722186 \n",
      "}\n",
      "=====Epoch 52\n",
      "Training...\n"
     ]
    },
    {
     "name": "stderr",
     "output_type": "stream",
     "text": [
      "Iteration: 100%|██████████| 154/154 [00:03<00:00, 42.27it/s]\n",
      "Iteration:  27%|██▋       | 42/154 [00:00<00:02, 45.37it/s]]"
     ]
    },
    {
     "name": "stdout",
     "output_type": "stream",
     "text": [
      "Evaluating...\n"
     ]
    },
    {
     "name": "stderr",
     "output_type": "stream",
     "text": [
      "Iteration: 100%|██████████| 154/154 [00:01<00:00, 128.57it/s]\n",
      "Iteration: 100%|██████████| 154/154 [00:03<00:00, 41.77it/s]\n",
      "Iteration:  90%|████████▉ | 138/154 [00:03<00:00, 36.07it/s]"
     ]
    },
    {
     "name": "stdout",
     "output_type": "stream",
     "text": [
      "Evaluating...\n"
     ]
    },
    {
     "name": "stderr",
     "output_type": "stream",
     "text": [
      "Iteration: 100%|██████████| 154/154 [00:04<00:00, 37.37it/s]\n",
      "Iteration:  82%|████████▏ | 127/154 [00:02<00:00, 45.15it/s]"
     ]
    },
    {
     "name": "stdout",
     "output_type": "stream",
     "text": [
      "Evaluating...\n"
     ]
    },
    {
     "name": "stderr",
     "output_type": "stream",
     "text": [
      "Iteration: 100%|██████████| 154/154 [00:03<00:00, 45.35it/s]]\n",
      "Iteration: 100%|██████████| 154/154 [00:01<00:00, 127.48it/s]\n"
     ]
    },
    {
     "name": "stdout",
     "output_type": "stream",
     "text": [
      "Evaluating...\n",
      "Evaluating...\n"
     ]
    },
    {
     "name": "stderr",
     "output_type": "stream",
     "text": [
      "Iteration: 100%|██████████| 154/154 [00:04<00:00, 37.22it/s]\n",
      "Iteration: 100%|██████████| 154/154 [00:01<00:00, 88.84it/s] \n",
      "Iteration: 100%|██████████| 154/154 [00:01<00:00, 123.35it/s]\n",
      "Iteration: 100%|██████████| 154/154 [00:01<00:00, 126.03it/s]\n",
      "Iteration: 100%|██████████| 154/154 [00:02<00:00, 65.77it/s]\n",
      "Iteration: 100%|██████████| 154/154 [00:02<00:00, 73.09it/s]]\n",
      "Iteration: 100%|██████████| 154/154 [00:01<00:00, 115.63it/s]\n",
      "Iteration: 100%|██████████| 154/154 [00:01<00:00, 117.77it/s]\n",
      "Iteration: 100%|██████████| 154/154 [00:01<00:00, 118.44it/s]\n",
      "Iteration: 100%|██████████| 154/154 [00:01<00:00, 93.12it/s] \n",
      "Iteration:  56%|█████▋    | 87/154 [00:01<00:00, 70.46it/s]s]"
     ]
    },
    {
     "name": "stdout",
     "output_type": "stream",
     "text": [
      "{'Train':  best_epoch_indx:53\n",
      " auc:0.8835045122734406 \n",
      " apur:0.82525311260565 \n",
      " f1:0.7379557291666669 \n",
      " precision:0.6803381183414196 \n",
      " recall:0.8062355521308755 \n",
      ", 'Validation':  best_epoch_indx:53\n",
      " auc:0.8835045122734406 \n",
      " apur:0.82525311260565 \n",
      " f1:0.7379557291666669 \n",
      " precision:0.6803381183414196 \n",
      " recall:0.8062355521308755 \n",
      ", 'Test':  best_epoch_indx:53\n",
      " auc:0.8835045122734406 \n",
      " apur:0.82525311260565 \n",
      " f1:0.7379557291666669 \n",
      " precision:0.6803381183414196 \n",
      " recall:0.8062355521308755 \n",
      "}\n",
      "=====Epoch 54\n",
      "Training...\n"
     ]
    },
    {
     "name": "stderr",
     "output_type": "stream",
     "text": [
      "Iteration: 100%|██████████| 154/154 [00:01<00:00, 113.57it/s]\n",
      "Iteration: 100%|██████████| 154/154 [00:01<00:00, 108.05it/s]\n",
      "Iteration:  94%|█████████▎| 144/154 [00:01<00:00, 107.83it/s]"
     ]
    },
    {
     "name": "stdout",
     "output_type": "stream",
     "text": [
      "{'Train':  best_epoch_indx:52\n",
      " auc:0.8856757030577229 \n",
      " apur:0.8275390123388225 \n",
      " f1:0.7417770973021488 \n",
      " precision:0.6687291765825797 \n",
      " recall:0.8327406353722143 \n",
      ", 'Validation':  best_epoch_indx:52\n",
      " auc:0.8856757030577229 \n",
      " apur:0.8275390123388225 \n",
      " f1:0.7417770973021488 \n",
      " precision:0.6687291765825797 \n",
      " recall:0.8327406353722143 \n",
      ", 'Test':  best_epoch_indx:52\n",
      " auc:0.8856757030577229 \n",
      " apur:0.8275390123388225 \n",
      " f1:0.7417770973021488 \n",
      " precision:0.6687291765825797 \n",
      " recall:0.8327406353722143 \n",
      "}\n",
      "=====Epoch 53\n",
      "Training...\n"
     ]
    },
    {
     "name": "stderr",
     "output_type": "stream",
     "text": [
      "Iteration: 100%|██████████| 154/154 [00:01<00:00, 81.56it/s] \n",
      "Iteration: 100%|██████████| 154/154 [00:01<00:00, 83.56it/s] \n",
      "Iteration:   0%|          | 0/154 [00:00<?, ?it/s]8.79it/s]"
     ]
    },
    {
     "name": "stdout",
     "output_type": "stream",
     "text": [
      "{'Train':  best_epoch_indx:52\n",
      " auc:0.8937783570451074 \n",
      " apur:0.83946557703509 \n",
      " f1:0.7495967308312722 \n",
      " precision:0.6859040590405904 \n",
      " recall:0.8263292039594571 \n",
      ", 'Validation':  best_epoch_indx:52\n",
      " auc:0.8937783570451074 \n",
      " apur:0.83946557703509 \n",
      " f1:0.7495967308312722 \n",
      " precision:0.6859040590405904 \n",
      " recall:0.8263292039594571 \n",
      ", 'Test':  best_epoch_indx:52\n",
      " auc:0.8937783570451074 \n",
      " apur:0.83946557703509 \n",
      " f1:0.7495967308312722 \n",
      " precision:0.6859040590405904 \n",
      " recall:0.8263292039594571 \n",
      "}\n",
      "=====Epoch 53\n",
      "Training...\n",
      "{'Train':  best_epoch_indx:54\n",
      " auc:0.880167966047944 \n",
      " apur:0.8194427510999966 \n",
      " f1:0.7368803645818772 \n",
      " precision:0.697433183381847 \n",
      " recall:0.7810573731626363 \n",
      ", 'Validation':  best_epoch_indx:54\n",
      " auc:0.880167966047944 \n",
      " apur:0.8194427510999966 \n",
      " f1:0.7368803645818772 \n",
      " precision:0.697433183381847 \n",
      " recall:0.7810573731626363 \n",
      ", 'Test':  best_epoch_indx:54\n",
      " auc:0.880167966047944 \n",
      " apur:0.8194427510999966 \n",
      " f1:0.7368803645818772 \n",
      " precision:0.697433183381847 \n",
      " recall:0.7810573731626363 \n",
      "}\n",
      "=====Epoch 55\n",
      "Training...\n",
      "{'Train':  best_epoch_indx:52\n",
      " auc:0.8869035591912289 \n",
      " apur:0.8306109986563143 \n",
      " f1:0.743625066771627 \n",
      " precision:0.7072948978500374 \n",
      " recall:0.7838895145515974 \n",
      ", 'Validation':  best_epoch_indx:52\n",
      " auc:0.8869035591912289 \n",
      " apur:0.8306109986563143 \n",
      " f1:0.743625066771627 \n",
      " precision:0.7072948978500374 \n",
      " recall:0.7838895145515974 \n",
      ", 'Test':  best_epoch_indx:52\n",
      " auc:0.8869035591912289 \n",
      " apur:0.8306109986563143 \n",
      " f1:0.743625066771627 \n",
      " precision:0.7072948978500374 \n",
      " recall:0.7838895145515974 \n",
      "}\n",
      "=====Epoch 53\n",
      "Training...\n"
     ]
    },
    {
     "name": "stderr",
     "output_type": "stream",
     "text": [
      "Iteration: 100%|██████████| 154/154 [00:03<00:00, 42.19it/s]\n",
      "Iteration:  83%|████████▎ | 128/154 [00:03<00:00, 40.83it/s]"
     ]
    },
    {
     "name": "stdout",
     "output_type": "stream",
     "text": [
      "Evaluating...\n"
     ]
    },
    {
     "name": "stderr",
     "output_type": "stream",
     "text": [
      "Iteration: 100%|██████████| 154/154 [00:03<00:00, 39.67it/s]]\n",
      "Iteration:  99%|█████████▊| 152/154 [00:03<00:00, 45.37it/s]]"
     ]
    },
    {
     "name": "stdout",
     "output_type": "stream",
     "text": [
      "Evaluating...\n",
      "Evaluating...\n"
     ]
    },
    {
     "name": "stderr",
     "output_type": "stream",
     "text": [
      "\r",
      "Iteration:  83%|████████▎ | 128/154 [00:01<00:00, 125.19it/s]\r",
      "Iteration: 100%|██████████| 154/154 [00:03<00:00, 44.98it/s]\n",
      "\r",
      "Iteration:   0%|          | 0/154 [00:00<?, ?it/s]\r",
      "Iteration:  90%|████████▉ | 138/154 [00:03<00:00, 39.15it/s]\r",
      "Iteration:  99%|█████████▉| 153/154 [00:03<00:00, 44.96it/s]\r",
      "Iteration:  10%|█         | 16/154 [00:00<00:02, 66.36it/s]\r",
      "Iteration: 100%|██████████| 154/154 [00:03<00:00, 44.61it/s]\n",
      "\r",
      "Iteration:   0%|          | 0/154 [00:00<?, ?it/s]\r",
      "Iteration:  92%|█████████▏| 141/154 [00:01<00:00, 124.73it/s]\r",
      "Iteration:   7%|▋         | 11/154 [00:00<00:01, 109.47it/s]\r",
      "Iteration:  92%|█████████▏| 142/154 [00:03<00:00, 38.03it/s]\r",
      "Iteration:  15%|█▍        | 23/154 [00:00<00:01, 66.91it/s]\r",
      "Iteration:   7%|▋         | 11/154 [00:00<00:01, 109.16it/s]"
     ]
    },
    {
     "name": "stdout",
     "output_type": "stream",
     "text": [
      "Evaluating...\n"
     ]
    },
    {
     "name": "stderr",
     "output_type": "stream",
     "text": [
      "Iteration: 100%|██████████| 154/154 [00:01<00:00, 123.74it/s]\n",
      "Iteration: 100%|██████████| 154/154 [00:03<00:00, 39.25it/s]\n",
      "Iteration:  36%|███▋      | 56/154 [00:00<00:01, 71.73it/s]]"
     ]
    },
    {
     "name": "stdout",
     "output_type": "stream",
     "text": [
      "Evaluating...\n"
     ]
    },
    {
     "name": "stderr",
     "output_type": "stream",
     "text": [
      "Iteration: 100%|██████████| 154/154 [00:01<00:00, 123.35it/s]\n",
      "Iteration: 100%|██████████| 154/154 [00:01<00:00, 124.45it/s]\n",
      "Iteration: 100%|██████████| 154/154 [00:01<00:00, 116.76it/s]\n",
      "Iteration: 100%|██████████| 154/154 [00:02<00:00, 68.82it/s]\n",
      "Iteration: 100%|██████████| 154/154 [00:01<00:00, 88.93it/s] \n",
      "Iteration: 100%|██████████| 154/154 [00:01<00:00, 125.33it/s]\n",
      "Iteration: 100%|██████████| 154/154 [00:01<00:00, 104.65it/s]\n",
      "Iteration: 100%|██████████| 154/154 [00:01<00:00, 100.68it/s]\n",
      "Iteration: 100%|██████████| 154/154 [00:02<00:00, 65.72it/s]\n",
      "Iteration: 100%|██████████| 154/154 [00:01<00:00, 104.61it/s]\n",
      "Iteration:  38%|███▊      | 58/154 [00:00<00:00, 121.75it/s]]"
     ]
    },
    {
     "name": "stdout",
     "output_type": "stream",
     "text": [
      "{'Train':  best_epoch_indx:54\n",
      " auc:0.8760916760165531 \n",
      " apur:0.8164101812248792 \n",
      " f1:0.7322223778182326 \n",
      " precision:0.6940639269406392 \n",
      " recall:0.7748206982395827 \n",
      ", 'Validation':  best_epoch_indx:54\n",
      " auc:0.8760916760165531 \n",
      " apur:0.8164101812248792 \n",
      " f1:0.7322223778182326 \n",
      " precision:0.6940639269406392 \n",
      " recall:0.7748206982395827 \n",
      ", 'Test':  best_epoch_indx:54\n",
      " auc:0.8760916760165531 \n",
      " apur:0.8164101812248792 \n",
      " f1:0.7322223778182326 \n",
      " precision:0.6940639269406392 \n",
      " recall:0.7748206982395827 \n",
      "}\n",
      "=====Epoch 55\n",
      "Training...\n"
     ]
    },
    {
     "name": "stderr",
     "output_type": "stream",
     "text": [
      "Iteration: 100%|██████████| 154/154 [00:01<00:00, 91.56it/s] \n",
      "Iteration: 100%|██████████| 154/154 [00:01<00:00, 122.47it/s]\n",
      "Iteration:  53%|█████▎    | 81/154 [00:01<00:01, 71.71it/s]"
     ]
    },
    {
     "name": "stdout",
     "output_type": "stream",
     "text": [
      "{'Train':  best_epoch_indx:55\n",
      " auc:0.8847328505955259 \n",
      " apur:0.826025317661744 \n",
      " f1:0.744175775643149 \n",
      " precision:0.6964248811737962 \n",
      " recall:0.7989568515884305 \n",
      ", 'Validation':  best_epoch_indx:55\n",
      " auc:0.8847328505955259 \n",
      " apur:0.826025317661744 \n",
      " f1:0.744175775643149 \n",
      " precision:0.6964248811737962 \n",
      " recall:0.7989568515884305 \n",
      ", 'Test':  best_epoch_indx:55\n",
      " auc:0.8847328505955259 \n",
      " apur:0.826025317661744 \n",
      " f1:0.744175775643149 \n",
      " precision:0.6964248811737962 \n",
      " recall:0.7989568515884305 \n",
      "}\n",
      "=====Epoch 56\n",
      "Training...\n"
     ]
    },
    {
     "name": "stderr",
     "output_type": "stream",
     "text": [
      "\r",
      "Iteration:  57%|█████▋    | 88/154 [00:01<00:00, 73.01it/s]\r",
      "Iteration:   8%|▊         | 12/154 [00:00<00:02, 47.78it/s]\r",
      "Iteration:  37%|███▋      | 57/154 [00:01<00:02, 45.54it/s]\r",
      "Iteration:  58%|█████▊    | 89/154 [00:01<00:00, 72.00it/s]\r",
      "Iteration:   0%|          | 0/154 [00:00<?, ?it/s]\r",
      "Iteration:  62%|██████▏   | 96/154 [00:01<00:00, 73.01it/s]\r",
      "Iteration:  11%|█         | 17/154 [00:00<00:02, 46.89it/s]\r",
      "Iteration:  40%|████      | 62/154 [00:01<00:02, 45.46it/s]\r",
      "Iteration:  66%|██████▌   | 102/154 [00:01<00:00, 87.97it/s]\r",
      "Iteration:   3%|▎         | 5/154 [00:00<00:03, 44.75it/s]"
     ]
    },
    {
     "name": "stdout",
     "output_type": "stream",
     "text": [
      "{'Train':  best_epoch_indx:53\n",
      " auc:0.8886995663470535 \n",
      " apur:0.832992286112682 \n",
      " f1:0.7432859823103726 \n",
      " precision:0.6784089241156612 \n",
      " recall:0.821883705767293 \n",
      ", 'Validation':  best_epoch_indx:53\n",
      " auc:0.8886995663470535 \n",
      " apur:0.832992286112682 \n",
      " f1:0.7432859823103726 \n",
      " precision:0.6784089241156612 \n",
      " recall:0.821883705767293 \n",
      ", 'Test':  best_epoch_indx:53\n",
      " auc:0.8886995663470535 \n",
      " apur:0.832992286112682 \n",
      " f1:0.7432859823103726 \n",
      " precision:0.6784089241156612 \n",
      " recall:0.821883705767293 \n",
      "}\n",
      "=====Epoch 54\n",
      "Training...\n"
     ]
    },
    {
     "name": "stderr",
     "output_type": "stream",
     "text": [
      "Iteration: 100%|██████████| 154/154 [00:01<00:00, 89.27it/s] \n",
      "Iteration: 100%|██████████| 154/154 [00:02<00:00, 72.73it/s]\n",
      "Iteration:  66%|██████▌   | 102/154 [00:02<00:01, 45.48it/s]"
     ]
    },
    {
     "name": "stdout",
     "output_type": "stream",
     "text": [
      "{'Train':  best_epoch_indx:53\n",
      " auc:0.8817089753159985 \n",
      " apur:0.8232338346725013 \n",
      " f1:0.7386257870243635 \n",
      " precision:0.6862505722569815 \n",
      " recall:0.7996562148064726 \n",
      ", 'Validation':  best_epoch_indx:53\n",
      " auc:0.8817089753159985 \n",
      " apur:0.8232338346725013 \n",
      " f1:0.7386257870243635 \n",
      " precision:0.6862505722569815 \n",
      " recall:0.7996562148064726 \n",
      ", 'Test':  best_epoch_indx:53\n",
      " auc:0.8817089753159985 \n",
      " apur:0.8232338346725013 \n",
      " f1:0.7386257870243635 \n",
      " precision:0.6862505722569815 \n",
      " recall:0.7996562148064726 \n",
      "}\n",
      "=====Epoch 54\n",
      "Training...\n"
     ]
    },
    {
     "name": "stderr",
     "output_type": "stream",
     "text": [
      "Iteration:   0%|          | 0/154 [00:00<?, ?it/s]7.35it/s]]"
     ]
    },
    {
     "name": "stdout",
     "output_type": "stream",
     "text": [
      "{'Train':  best_epoch_indx:53\n",
      " auc:0.8795593211789077 \n",
      " apur:0.8224331166783848 \n",
      " f1:0.7355435620663068 \n",
      " precision:0.6868957004731536 \n",
      " recall:0.7916073968705548 \n",
      ", 'Validation':  best_epoch_indx:53\n",
      " auc:0.8795593211789077 \n",
      " apur:0.8224331166783848 \n",
      " f1:0.7355435620663068 \n",
      " precision:0.6868957004731536 \n",
      " recall:0.7916073968705548 \n",
      ", 'Test':  best_epoch_indx:53\n",
      " auc:0.8795593211789077 \n",
      " apur:0.8224331166783848 \n",
      " f1:0.7355435620663068 \n",
      " precision:0.6868957004731536 \n",
      " recall:0.7916073968705548 \n",
      "}\n",
      "=====Epoch 54\n",
      "Training...\n"
     ]
    },
    {
     "name": "stderr",
     "output_type": "stream",
     "text": [
      "Iteration: 100%|██████████| 154/154 [00:03<00:00, 44.76it/s]\n",
      "Iteration:  21%|██▏       | 33/154 [00:00<00:03, 38.13it/s]]"
     ]
    },
    {
     "name": "stdout",
     "output_type": "stream",
     "text": [
      "Evaluating...\n"
     ]
    },
    {
     "name": "stderr",
     "output_type": "stream",
     "text": [
      "Iteration: 100%|██████████| 154/154 [00:03<00:00, 45.87it/s]]\n",
      "Iteration:  55%|█████▌    | 85/154 [00:02<00:01, 40.88it/s]]]"
     ]
    },
    {
     "name": "stdout",
     "output_type": "stream",
     "text": [
      "Evaluating...\n"
     ]
    },
    {
     "name": "stderr",
     "output_type": "stream",
     "text": [
      "Iteration: 100%|██████████| 154/154 [00:01<00:00, 125.19it/s]\n",
      "Iteration: 100%|██████████| 154/154 [00:03<00:00, 39.05it/s]\n",
      "Iteration:   5%|▌         | 8/154 [00:00<00:02, 67.20it/s]/s]"
     ]
    },
    {
     "name": "stdout",
     "output_type": "stream",
     "text": [
      "Evaluating...\n"
     ]
    },
    {
     "name": "stderr",
     "output_type": "stream",
     "text": [
      "Iteration: 100%|██████████| 154/154 [00:01<00:00, 116.64it/s]\n",
      "Iteration: 100%|██████████| 154/154 [00:03<00:00, 43.77it/s]]\n",
      "Iteration: 100%|██████████| 154/154 [00:04<00:00, 38.22it/s]]\n",
      "Iteration:   8%|▊         | 12/154 [00:00<00:01, 111.57it/s]"
     ]
    },
    {
     "name": "stdout",
     "output_type": "stream",
     "text": [
      "Evaluating...\n",
      "Evaluating...\n"
     ]
    },
    {
     "name": "stderr",
     "output_type": "stream",
     "text": [
      "Iteration: 100%|██████████| 154/154 [00:01<00:00, 128.24it/s]\n",
      "Iteration: 100%|██████████| 154/154 [00:01<00:00, 101.34it/s]\n",
      "Iteration: 100%|██████████| 154/154 [00:01<00:00, 125.09it/s]\n",
      "Iteration: 100%|██████████| 154/154 [00:01<00:00, 96.46it/s] \n",
      "Iteration: 100%|██████████| 154/154 [00:01<00:00, 128.71it/s]\n",
      "Iteration: 100%|██████████| 154/154 [00:01<00:00, 82.57it/s] \n",
      "Iteration: 100%|██████████| 154/154 [00:01<00:00, 83.28it/s] \n",
      "Iteration: 100%|██████████| 154/154 [00:01<00:00, 126.81it/s]\n",
      "Iteration:  90%|█████████ | 139/154 [00:01<00:00, 71.29it/s]]"
     ]
    },
    {
     "name": "stdout",
     "output_type": "stream",
     "text": [
      "{'Train':  best_epoch_indx:55\n",
      " auc:0.8840809674010774 \n",
      " apur:0.8248034184322424 \n",
      " f1:0.7412135278514589 \n",
      " precision:0.6942187257388334 \n",
      " recall:0.795032896686622 \n",
      ", 'Validation':  best_epoch_indx:55\n",
      " auc:0.8840809674010774 \n",
      " apur:0.8248034184322424 \n",
      " f1:0.7412135278514589 \n",
      " precision:0.6942187257388334 \n",
      " recall:0.795032896686622 \n",
      ", 'Test':  best_epoch_indx:55\n",
      " auc:0.8840809674010774 \n",
      " apur:0.8248034184322424 \n",
      " f1:0.7412135278514589 \n",
      " precision:0.6942187257388334 \n",
      " recall:0.795032896686622 \n",
      "}\n",
      "=====Epoch 56\n",
      "Training...\n"
     ]
    },
    {
     "name": "stderr",
     "output_type": "stream",
     "text": [
      "Iteration: 100%|██████████| 154/154 [00:01<00:00, 118.93it/s]\n",
      "Iteration: 100%|██████████| 154/154 [00:02<00:00, 69.62it/s]\n",
      "Iteration:  18%|█▊        | 28/154 [00:00<00:02, 43.33it/s]s]"
     ]
    },
    {
     "name": "stdout",
     "output_type": "stream",
     "text": [
      "{'Train':  best_epoch_indx:54\n",
      " auc:0.8824022297442323 \n",
      " apur:0.822489468363067 \n",
      " f1:0.7389957613302902 \n",
      " precision:0.6822354888877741 \n",
      " recall:0.8060577322031889 \n",
      ", 'Validation':  best_epoch_indx:54\n",
      " auc:0.8824022297442323 \n",
      " apur:0.822489468363067 \n",
      " f1:0.7389957613302902 \n",
      " precision:0.6822354888877741 \n",
      " recall:0.8060577322031889 \n",
      ", 'Test':  best_epoch_indx:54\n",
      " auc:0.8824022297442323 \n",
      " apur:0.822489468363067 \n",
      " f1:0.7389957613302902 \n",
      " precision:0.6822354888877741 \n",
      " recall:0.8060577322031889 \n",
      "}\n",
      "=====Epoch 55\n",
      "Training...\n"
     ]
    },
    {
     "name": "stderr",
     "output_type": "stream",
     "text": [
      "Iteration: 100%|██████████| 154/154 [00:01<00:00, 100.58it/s]\n",
      "Iteration:   0%|          | 0/154 [00:00<?, ?it/s]5.71it/s]]"
     ]
    },
    {
     "name": "stdout",
     "output_type": "stream",
     "text": [
      "{'Train':  best_epoch_indx:56\n",
      " auc:0.8923512297782976 \n",
      " apur:0.83782864987901 \n",
      " f1:0.7521287955534869 \n",
      " precision:0.6989466184926976 \n",
      " recall:0.8140706495969654 \n",
      ", 'Validation':  best_epoch_indx:56\n",
      " auc:0.8923512297782976 \n",
      " apur:0.83782864987901 \n",
      " f1:0.7521287955534869 \n",
      " precision:0.6989466184926976 \n",
      " recall:0.8140706495969654 \n",
      ", 'Test':  best_epoch_indx:56\n",
      " auc:0.8923512297782976 \n",
      " apur:0.83782864987901 \n",
      " f1:0.7521287955534869 \n",
      " precision:0.6989466184926976 \n",
      " recall:0.8140706495969654 \n",
      "}\n",
      "=====Epoch 57\n",
      "Training...\n"
     ]
    },
    {
     "name": "stderr",
     "output_type": "stream",
     "text": [
      "Iteration: 100%|██████████| 154/154 [00:01<00:00, 119.66it/s]\n",
      "Iteration: 100%|██████████| 154/154 [00:01<00:00, 118.80it/s]\n"
     ]
    },
    {
     "name": "stdout",
     "output_type": "stream",
     "text": [
      "{'Train':  best_epoch_indx:54\n",
      " auc:0.8763595404512771 \n",
      " apur:0.8142518824666345 \n",
      " f1:0.732305983617937 \n",
      " precision:0.688832010029252 \n",
      " recall:0.781637128800901 \n",
      ", 'Validation':  best_epoch_indx:54\n",
      " auc:0.8763595404512771 \n",
      " apur:0.8142518824666345 \n",
      " f1:0.732305983617937 \n",
      " precision:0.688832010029252 \n",
      " recall:0.781637128800901 \n",
      ", 'Test':  best_epoch_indx:54\n",
      " auc:0.8763595404512771 \n",
      " apur:0.8142518824666345 \n",
      " f1:0.732305983617937 \n",
      " precision:0.688832010029252 \n",
      " recall:0.781637128800901 \n",
      "}\n",
      "=====Epoch 55\n",
      "Training...\n"
     ]
    },
    {
     "name": "stderr",
     "output_type": "stream",
     "text": [
      "Iteration:  53%|█████▎    | 82/154 [00:02<00:01, 37.89it/s]]"
     ]
    },
    {
     "name": "stdout",
     "output_type": "stream",
     "text": [
      "{'Train':  best_epoch_indx:54\n",
      " auc:0.8739683085686376 \n",
      " apur:0.8100581818650522 \n",
      " f1:0.7282522159121065 \n",
      " precision:0.6593464680442095 \n",
      " recall:0.8132408724513988 \n",
      ", 'Validation':  best_epoch_indx:54\n",
      " auc:0.8739683085686376 \n",
      " apur:0.8100581818650522 \n",
      " f1:0.7282522159121065 \n",
      " precision:0.6593464680442095 \n",
      " recall:0.8132408724513988 \n",
      ", 'Test':  best_epoch_indx:54\n",
      " auc:0.8739683085686376 \n",
      " apur:0.8100581818650522 \n",
      " f1:0.7282522159121065 \n",
      " precision:0.6593464680442095 \n",
      " recall:0.8132408724513988 \n",
      "}\n",
      "=====Epoch 55\n",
      "Training...\n"
     ]
    },
    {
     "name": "stderr",
     "output_type": "stream",
     "text": [
      "Iteration: 100%|██████████| 154/154 [00:03<00:00, 43.49it/s]\n",
      "Iteration:  53%|█████▎    | 81/154 [00:02<00:01, 38.63it/s]"
     ]
    },
    {
     "name": "stdout",
     "output_type": "stream",
     "text": [
      "Evaluating...\n"
     ]
    },
    {
     "name": "stderr",
     "output_type": "stream",
     "text": [
      "Iteration: 100%|██████████| 154/154 [00:01<00:00, 116.72it/s]\n",
      "Iteration: 100%|██████████| 154/154 [00:04<00:00, 35.92it/s]\n",
      "Iteration:  73%|███████▎  | 112/154 [00:02<00:01, 40.11it/s]"
     ]
    },
    {
     "name": "stdout",
     "output_type": "stream",
     "text": [
      "Evaluating...\n"
     ]
    },
    {
     "name": "stderr",
     "output_type": "stream",
     "text": [
      "Iteration: 100%|██████████| 154/154 [00:04<00:00, 37.17it/s]\n",
      "Iteration:  92%|█████████▏| 142/154 [00:03<00:00, 40.62it/s]"
     ]
    },
    {
     "name": "stdout",
     "output_type": "stream",
     "text": [
      "Evaluating...\n"
     ]
    },
    {
     "name": "stderr",
     "output_type": "stream",
     "text": [
      "Iteration: 100%|██████████| 154/154 [00:03<00:00, 43.34it/s]\n",
      "Iteration:  50%|█████     | 77/154 [00:00<00:00, 95.25it/s] ]"
     ]
    },
    {
     "name": "stdout",
     "output_type": "stream",
     "text": [
      "Evaluating...\n"
     ]
    },
    {
     "name": "stderr",
     "output_type": "stream",
     "text": [
      "Iteration: 100%|██████████| 154/154 [00:01<00:00, 109.92it/s]\n",
      "Iteration: 100%|██████████| 154/154 [00:03<00:00, 45.02it/s]\n",
      "Iteration:   7%|▋         | 11/154 [00:00<00:01, 108.99it/s]"
     ]
    },
    {
     "name": "stdout",
     "output_type": "stream",
     "text": [
      "Evaluating...\n"
     ]
    },
    {
     "name": "stderr",
     "output_type": "stream",
     "text": [
      "Iteration: 100%|██████████| 154/154 [00:01<00:00, 124.34it/s]\n",
      "Iteration: 100%|██████████| 154/154 [00:01<00:00, 83.41it/s]\n",
      "Iteration: 100%|██████████| 154/154 [00:01<00:00, 80.65it/s] \n",
      "Iteration: 100%|██████████| 154/154 [00:01<00:00, 124.22it/s]\n",
      "Iteration: 100%|██████████| 154/154 [00:01<00:00, 96.33it/s] \n",
      "Iteration: 100%|██████████| 154/154 [00:01<00:00, 127.33it/s]\n",
      "Iteration: 100%|██████████| 154/154 [00:01<00:00, 122.71it/s]\n",
      "Iteration: 100%|██████████| 154/154 [00:01<00:00, 89.02it/s] \n",
      "Iteration: 100%|██████████| 154/154 [00:01<00:00, 90.85it/s] \n",
      "Iteration: 100%|██████████| 154/154 [00:01<00:00, 97.50it/s] \n"
     ]
    },
    {
     "name": "stdout",
     "output_type": "stream",
     "text": [
      "{'Train':  best_epoch_indx:56\n",
      " auc:0.8921559087073255 \n",
      " apur:0.8373329255238965 \n",
      " f1:0.7501940348153897 \n",
      " precision:0.704608174954439 \n",
      " recall:0.8020864204848557 \n",
      ", 'Validation':  best_epoch_indx:56\n",
      " auc:0.8921559087073255 \n",
      " apur:0.8373329255238965 \n",
      " f1:0.7501940348153897 \n",
      " precision:0.704608174954439 \n",
      " recall:0.8020864204848557 \n",
      ", 'Test':  best_epoch_indx:56\n",
      " auc:0.8921559087073255 \n",
      " apur:0.8373329255238965 \n",
      " f1:0.7501940348153897 \n",
      " precision:0.704608174954439 \n",
      " recall:0.8020864204848557 \n",
      "}\n",
      "=====Epoch 57\n",
      "Training...\n"
     ]
    },
    {
     "name": "stderr",
     "output_type": "stream",
     "text": [
      "Iteration: 100%|██████████| 154/154 [00:01<00:00, 120.08it/s]\n",
      "Iteration:   3%|▎         | 5/154 [00:00<00:03, 41.20it/s]/s]"
     ]
    },
    {
     "name": "stdout",
     "output_type": "stream",
     "text": [
      "{'Train':  best_epoch_indx:55\n",
      " auc:0.8865695727297589 \n",
      " apur:0.8312424259272495 \n",
      " f1:0.7412052290360294 \n",
      " precision:0.6717071996147363 \n",
      " recall:0.826744117124059 \n",
      ", 'Validation':  best_epoch_indx:55\n",
      " auc:0.8865695727297589 \n",
      " apur:0.8312424259272495 \n",
      " f1:0.7412052290360294 \n",
      " precision:0.6717071996147363 \n",
      " recall:0.826744117124059 \n",
      ", 'Test':  best_epoch_indx:55\n",
      " auc:0.8865695727297589 \n",
      " apur:0.8312424259272495 \n",
      " f1:0.7412052290360294 \n",
      " precision:0.6717071996147363 \n",
      " recall:0.826744117124059 \n",
      "}\n",
      "=====Epoch 56\n",
      "Training...\n"
     ]
    },
    {
     "name": "stderr",
     "output_type": "stream",
     "text": [
      "Iteration: 100%|██████████| 154/154 [00:01<00:00, 86.79it/s] \n"
     ]
    },
    {
     "name": "stdout",
     "output_type": "stream",
     "text": [
      "{'Train':  best_epoch_indx:57\n",
      " auc:0.90110755850957 \n",
      " apur:0.8499182148106053 \n",
      " f1:0.7598445525450442 \n",
      " precision:0.7016311166875784 \n",
      " recall:0.8285917496443812 \n",
      ", 'Validation':  best_epoch_indx:57\n",
      " auc:0.90110755850957 \n",
      " apur:0.8499182148106053 \n",
      " f1:0.7598445525450442 \n",
      " precision:0.7016311166875784 \n",
      " recall:0.8285917496443812 \n",
      ", 'Test':  best_epoch_indx:57\n",
      " auc:0.90110755850957 \n",
      " apur:0.8499182148106053 \n",
      " f1:0.7598445525450442 \n",
      " precision:0.7016311166875784 \n",
      " recall:0.8285917496443812 \n",
      "}\n",
      "=====Epoch 58\n",
      "Training...\n"
     ]
    },
    {
     "name": "stderr",
     "output_type": "stream",
     "text": [
      "Iteration: 100%|██████████| 154/154 [00:01<00:00, 98.29it/s] \n",
      "Iteration:  40%|███▉      | 61/154 [00:01<00:02, 34.60it/s]"
     ]
    },
    {
     "name": "stdout",
     "output_type": "stream",
     "text": [
      "{'Train':  best_epoch_indx:55\n",
      " auc:0.8834742173410906 \n",
      " apur:0.8268623259769072 \n",
      " f1:0.7378458824826369 \n",
      " precision:0.689537938494823 \n",
      " recall:0.7934325173374429 \n",
      ", 'Validation':  best_epoch_indx:55\n",
      " auc:0.8834742173410906 \n",
      " apur:0.8268623259769072 \n",
      " f1:0.7378458824826369 \n",
      " precision:0.689537938494823 \n",
      " recall:0.7934325173374429 \n",
      ", 'Test':  best_epoch_indx:55\n",
      " auc:0.8834742173410906 \n",
      " apur:0.8268623259769072 \n",
      " f1:0.7378458824826369 \n",
      " precision:0.689537938494823 \n",
      " recall:0.7934325173374429 \n",
      "}\n",
      "=====Epoch 56\n",
      "Training...\n",
      "{'Train':  best_epoch_indx:55\n",
      " auc:0.881851485697301 \n",
      " apur:0.8230131535170464 \n",
      " f1:0.7381649654544937 \n",
      " precision:0.7093830263948849 \n",
      " recall:0.7693812233285917 \n",
      ", 'Validation':  best_epoch_indx:55\n",
      " auc:0.881851485697301 \n",
      " apur:0.8230131535170464 \n",
      " f1:0.7381649654544937 \n",
      " precision:0.7093830263948849 \n",
      " recall:0.7693812233285917 \n",
      ", 'Test':  best_epoch_indx:55\n",
      " auc:0.881851485697301 \n",
      " apur:0.8230131535170464 \n",
      " f1:0.7381649654544937 \n",
      " precision:0.7093830263948849 \n",
      " recall:0.7693812233285917 \n",
      "}\n",
      "=====Epoch 56\n",
      "Training...\n"
     ]
    },
    {
     "name": "stderr",
     "output_type": "stream",
     "text": [
      "Iteration: 100%|██████████| 154/154 [00:03<00:00, 39.62it/s]\n",
      "Iteration:  62%|██████▏   | 95/154 [00:02<00:01, 39.46it/s]]"
     ]
    },
    {
     "name": "stdout",
     "output_type": "stream",
     "text": [
      "Evaluating...\n"
     ]
    },
    {
     "name": "stderr",
     "output_type": "stream",
     "text": [
      "\r",
      "Iteration:  98%|█████████▊| 151/154 [00:03<00:00, 45.74it/s]\r",
      "Iteration:  17%|█▋        | 26/154 [00:00<00:01, 123.57it/s]\r",
      "Iteration:  92%|█████████▏| 142/154 [00:03<00:00, 45.01it/s]\r",
      "Iteration:  62%|██████▏   | 95/154 [00:02<00:01, 39.74it/s]\r",
      "Iteration: 100%|██████████| 154/154 [00:03<00:00, 43.59it/s]\n",
      "\r",
      "Iteration:   0%|          | 0/154 [00:00<?, ?it/s]\r",
      "Iteration:  65%|██████▍   | 100/154 [00:02<00:01, 41.09it/s]\r",
      "Iteration:  25%|██▌       | 39/154 [00:00<00:00, 125.74it/s]\r",
      "Iteration:   7%|▋         | 11/154 [00:00<00:01, 109.44it/s]\r",
      "Iteration:  95%|█████████▌| 147/154 [00:03<00:00, 45.23it/s]\r",
      "Iteration:  65%|██████▍   | 100/154 [00:02<00:01, 41.53it/s]"
     ]
    },
    {
     "name": "stdout",
     "output_type": "stream",
     "text": [
      "Evaluating...\n"
     ]
    },
    {
     "name": "stderr",
     "output_type": "stream",
     "text": [
      "\r",
      "Iteration:  68%|██████▊   | 105/154 [00:02<00:01, 40.44it/s]\r",
      "Iteration:  34%|███▍      | 52/154 [00:00<00:00, 126.81it/s]\r",
      "Iteration:  16%|█▌        | 24/154 [00:00<00:01, 121.10it/s]\r",
      "Iteration:  99%|█████████▊| 152/154 [00:03<00:00, 45.33it/s]\r",
      "Iteration:  68%|██████▊   | 105/154 [00:02<00:01, 41.16it/s]\r",
      "Iteration:  42%|████▏     | 65/154 [00:00<00:00, 127.48it/s]\r",
      "Iteration: 100%|██████████| 154/154 [00:03<00:00, 44.98it/s]\n",
      "\r",
      "Iteration:   0%|          | 0/154 [00:00<?, ?it/s]\r",
      "Iteration:  71%|███████▏  | 110/154 [00:02<00:01, 37.87it/s]"
     ]
    },
    {
     "name": "stdout",
     "output_type": "stream",
     "text": [
      "Evaluating...\n"
     ]
    },
    {
     "name": "stderr",
     "output_type": "stream",
     "text": [
      "Iteration: 100%|██████████| 154/154 [00:01<00:00, 118.30it/s]\n",
      "Iteration: 100%|██████████| 154/154 [00:01<00:00, 118.06it/s]\n",
      "Iteration: 100%|██████████| 154/154 [00:03<00:00, 39.86it/s]]\n",
      "Iteration: 100%|██████████| 154/154 [00:03<00:00, 39.92it/s]]\n",
      "Iteration: 100%|██████████| 154/154 [00:01<00:00, 122.79it/s]\n",
      "Iteration:   4%|▍         | 6/154 [00:00<00:02, 56.94it/s]"
     ]
    },
    {
     "name": "stdout",
     "output_type": "stream",
     "text": [
      "Evaluating...\n",
      "Evaluating...\n"
     ]
    },
    {
     "name": "stderr",
     "output_type": "stream",
     "text": [
      "Iteration: 100%|██████████| 154/154 [00:01<00:00, 125.51it/s]\n",
      "Iteration: 100%|██████████| 154/154 [00:01<00:00, 125.71it/s]\n",
      "Iteration: 100%|██████████| 154/154 [00:01<00:00, 98.74it/s] \n",
      "Iteration: 100%|██████████| 154/154 [00:02<00:00, 68.75it/s]]\n",
      "Iteration: 100%|██████████| 154/154 [00:01<00:00, 82.64it/s] \n",
      "Iteration: 100%|██████████| 154/154 [00:01<00:00, 118.89it/s]\n",
      "Iteration: 100%|██████████| 154/154 [00:01<00:00, 101.86it/s]\n",
      "Iteration: 100%|██████████| 154/154 [00:01<00:00, 123.62it/s]\n",
      "Iteration: 100%|██████████| 154/154 [00:01<00:00, 77.43it/s]\n",
      "Iteration:   5%|▍         | 7/154 [00:00<00:02, 68.22it/s]]"
     ]
    },
    {
     "name": "stdout",
     "output_type": "stream",
     "text": [
      "{'Train':  best_epoch_indx:56\n",
      " auc:0.8954837443328634 \n",
      " apur:0.8407038052000232 \n",
      " f1:0.7505137031996371 \n",
      " precision:0.6825550917386661 \n",
      " recall:0.8335012743761484 \n",
      ", 'Validation':  best_epoch_indx:56\n",
      " auc:0.8954837443328634 \n",
      " apur:0.8407038052000232 \n",
      " f1:0.7505137031996371 \n",
      " precision:0.6825550917386661 \n",
      " recall:0.8335012743761484 \n",
      ", 'Test':  best_epoch_indx:56\n",
      " auc:0.8954837443328634 \n",
      " apur:0.8407038052000232 \n",
      " f1:0.7505137031996371 \n",
      " precision:0.6825550917386661 \n",
      " recall:0.8335012743761484 \n",
      "}\n",
      "=====Epoch 57\n",
      "Training...\n"
     ]
    },
    {
     "name": "stderr",
     "output_type": "stream",
     "text": [
      "Iteration:  34%|███▍      | 52/154 [00:00<00:00, 113.04it/s]]"
     ]
    },
    {
     "name": "stdout",
     "output_type": "stream",
     "text": [
      "{'Train':  best_epoch_indx:57\n",
      " auc:0.9007788252757352 \n",
      " apur:0.8496277084964656 \n",
      " f1:0.759505468899915 \n",
      " precision:0.7064973480212158 \n",
      " recall:0.8211131527473179 \n",
      ", 'Validation':  best_epoch_indx:57\n",
      " auc:0.9007788252757352 \n",
      " apur:0.8496277084964656 \n",
      " f1:0.759505468899915 \n",
      " precision:0.7064973480212158 \n",
      " recall:0.8211131527473179 \n",
      ", 'Test':  best_epoch_indx:57\n",
      " auc:0.9007788252757352 \n",
      " apur:0.8496277084964656 \n",
      " f1:0.759505468899915 \n",
      " precision:0.7064973480212158 \n",
      " recall:0.8211131527473179 \n",
      "}\n",
      "=====Epoch 58\n",
      "Training...\n"
     ]
    },
    {
     "name": "stderr",
     "output_type": "stream",
     "text": [
      "Iteration: 100%|██████████| 154/154 [00:01<00:00, 94.17it/s] \n",
      "Iteration:  24%|██▍       | 37/154 [00:00<00:02, 45.63it/s]s]"
     ]
    },
    {
     "name": "stdout",
     "output_type": "stream",
     "text": [
      "{'Train':  best_epoch_indx:58\n",
      " auc:0.9099750039523984 \n",
      " apur:0.8614053729606489 \n",
      " f1:0.7738511846709883 \n",
      " precision:0.7498054474708171 \n",
      " recall:0.7994902797534377 \n",
      ", 'Validation':  best_epoch_indx:58\n",
      " auc:0.9099750039523984 \n",
      " apur:0.8614053729606489 \n",
      " f1:0.7738511846709883 \n",
      " precision:0.7498054474708171 \n",
      " recall:0.7994902797534377 \n",
      ", 'Test':  best_epoch_indx:58\n",
      " auc:0.9099750039523984 \n",
      " apur:0.8614053729606489 \n",
      " f1:0.7738511846709883 \n",
      " precision:0.7498054474708171 \n",
      " recall:0.7994902797534377 \n",
      "}\n",
      "=====Epoch 59\n",
      "Training...\n"
     ]
    },
    {
     "name": "stderr",
     "output_type": "stream",
     "text": [
      "Iteration: 100%|██████████| 154/154 [00:01<00:00, 116.43it/s]\n",
      "Iteration:  41%|████      | 63/154 [00:01<00:02, 31.84it/s]s]"
     ]
    },
    {
     "name": "stdout",
     "output_type": "stream",
     "text": [
      "{'Train':  best_epoch_indx:56\n",
      " auc:0.8893403026993505 \n",
      " apur:0.8322168557079783 \n",
      " f1:0.7446325520334764 \n",
      " precision:0.691331064953532 \n",
      " recall:0.8068397344713134 \n",
      ", 'Validation':  best_epoch_indx:56\n",
      " auc:0.8893403026993505 \n",
      " apur:0.8322168557079783 \n",
      " f1:0.7446325520334764 \n",
      " precision:0.691331064953532 \n",
      " recall:0.8068397344713134 \n",
      ", 'Test':  best_epoch_indx:56\n",
      " auc:0.8893403026993505 \n",
      " apur:0.8322168557079783 \n",
      " f1:0.7446325520334764 \n",
      " precision:0.691331064953532 \n",
      " recall:0.8068397344713134 \n",
      "}\n",
      "=====Epoch 57\n",
      "Training...\n"
     ]
    },
    {
     "name": "stderr",
     "output_type": "stream",
     "text": [
      "Iteration: 100%|██████████| 154/154 [00:01<00:00, 103.89it/s]\n",
      "Iteration:   3%|▎         | 4/154 [00:00<00:04, 34.11it/s]]]"
     ]
    },
    {
     "name": "stdout",
     "output_type": "stream",
     "text": [
      "{'Train':  best_epoch_indx:56\n",
      " auc:0.8931133812576648 \n",
      " apur:0.8368325195368426 \n",
      " f1:0.7503930405617859 \n",
      " precision:0.6724745221434274 \n",
      " recall:0.8487345148479639 \n",
      ", 'Validation':  best_epoch_indx:56\n",
      " auc:0.8931133812576648 \n",
      " apur:0.8368325195368426 \n",
      " f1:0.7503930405617859 \n",
      " precision:0.6724745221434274 \n",
      " recall:0.8487345148479639 \n",
      ", 'Test':  best_epoch_indx:56\n",
      " auc:0.8931133812576648 \n",
      " apur:0.8368325195368426 \n",
      " f1:0.7503930405617859 \n",
      " precision:0.6724745221434274 \n",
      " recall:0.8487345148479639 \n",
      "}\n",
      "=====Epoch 57\n",
      "Training...\n"
     ]
    },
    {
     "name": "stderr",
     "output_type": "stream",
     "text": [
      "Iteration: 100%|██████████| 154/154 [00:03<00:00, 44.74it/s]\n",
      "Iteration:   0%|          | 0/154 [00:00<?, ?it/s]"
     ]
    },
    {
     "name": "stdout",
     "output_type": "stream",
     "text": [
      "Evaluating...\n",
      "Evaluating...\n"
     ]
    },
    {
     "name": "stderr",
     "output_type": "stream",
     "text": [
      "Iteration: 100%|██████████| 154/154 [00:04<00:00, 38.43it/s]\n",
      "Iteration: 100%|██████████| 154/154 [00:03<00:00, 41.15it/s]]\n",
      "Iteration:  61%|██████    | 94/154 [00:02<00:01, 39.89it/s]"
     ]
    },
    {
     "name": "stdout",
     "output_type": "stream",
     "text": [
      "Evaluating...\n"
     ]
    },
    {
     "name": "stderr",
     "output_type": "stream",
     "text": [
      "Iteration: 100%|██████████| 154/154 [00:01<00:00, 126.11it/s]\n",
      "Iteration: 100%|██████████| 154/154 [00:03<00:00, 44.89it/s]]\n",
      "Iteration: 100%|██████████| 154/154 [00:01<00:00, 120.36it/s]\n",
      "Iteration:   8%|▊         | 12/154 [00:00<00:01, 112.08it/s]"
     ]
    },
    {
     "name": "stdout",
     "output_type": "stream",
     "text": [
      "Evaluating...\n"
     ]
    },
    {
     "name": "stderr",
     "output_type": "stream",
     "text": [
      "Iteration: 100%|██████████| 154/154 [00:01<00:00, 118.27it/s]\n",
      "Iteration: 100%|██████████| 154/154 [00:03<00:00, 41.55it/s]]\n",
      "Iteration:  32%|███▏      | 49/154 [00:00<00:01, 54.37it/s]s]"
     ]
    },
    {
     "name": "stdout",
     "output_type": "stream",
     "text": [
      "Evaluating...\n"
     ]
    },
    {
     "name": "stderr",
     "output_type": "stream",
     "text": [
      "Iteration: 100%|██████████| 154/154 [00:01<00:00, 117.14it/s]\n",
      "Iteration: 100%|██████████| 154/154 [00:01<00:00, 84.81it/s] \n",
      "Iteration: 100%|██████████| 154/154 [00:01<00:00, 117.00it/s]\n",
      "Iteration: 100%|██████████| 154/154 [00:02<00:00, 69.16it/s]]\n",
      "Iteration: 100%|██████████| 154/154 [00:01<00:00, 106.67it/s]\n",
      "Iteration: 100%|██████████| 154/154 [00:01<00:00, 98.86it/s] \n",
      "Iteration: 100%|██████████| 154/154 [00:01<00:00, 109.87it/s]\n",
      "Iteration: 100%|██████████| 154/154 [00:01<00:00, 118.62it/s]\n",
      "Iteration:  60%|█████▉    | 92/154 [00:01<00:00, 92.99it/s]s]"
     ]
    },
    {
     "name": "stdout",
     "output_type": "stream",
     "text": [
      "{'Train':  best_epoch_indx:58\n",
      " auc:0.90828662441586 \n",
      " apur:0.8606785615385895 \n",
      " f1:0.7720346078704995 \n",
      " precision:0.7295215992404662 \n",
      " recall:0.8198091399442831 \n",
      ", 'Validation':  best_epoch_indx:58\n",
      " auc:0.90828662441586 \n",
      " apur:0.8606785615385895 \n",
      " f1:0.7720346078704995 \n",
      " precision:0.7295215992404662 \n",
      " recall:0.8198091399442831 \n",
      ", 'Test':  best_epoch_indx:58\n",
      " auc:0.90828662441586 \n",
      " apur:0.8606785615385895 \n",
      " f1:0.7720346078704995 \n",
      " precision:0.7295215992404662 \n",
      " recall:0.8198091399442831 \n",
      "}\n",
      "=====Epoch 59\n",
      "Training...\n"
     ]
    },
    {
     "name": "stderr",
     "output_type": "stream",
     "text": [
      "Iteration: 100%|██████████| 154/154 [00:01<00:00, 105.82it/s]\n",
      "Iteration: 100%|██████████| 154/154 [00:01<00:00, 91.00it/s] \n",
      "Iteration:  73%|███████▎  | 112/154 [00:01<00:00, 74.54it/s]"
     ]
    },
    {
     "name": "stdout",
     "output_type": "stream",
     "text": [
      "{'Train':  best_epoch_indx:57\n",
      " auc:0.9029512398877544 \n",
      " apur:0.8518603536848521 \n",
      " f1:0.7624381490946659 \n",
      " precision:0.7042338405906283 \n",
      " recall:0.8311303420069942 \n",
      ", 'Validation':  best_epoch_indx:57\n",
      " auc:0.9029512398877544 \n",
      " apur:0.8518603536848521 \n",
      " f1:0.7624381490946659 \n",
      " precision:0.7042338405906283 \n",
      " recall:0.8311303420069942 \n",
      ", 'Test':  best_epoch_indx:57\n",
      " auc:0.9029512398877544 \n",
      " apur:0.8518603536848521 \n",
      " f1:0.7624381490946659 \n",
      " precision:0.7042338405906283 \n",
      " recall:0.8311303420069942 \n",
      "}\n",
      "=====Epoch 58\n",
      "Training...\n"
     ]
    },
    {
     "name": "stderr",
     "output_type": "stream",
     "text": [
      "Iteration: 100%|██████████| 154/154 [00:01<00:00, 81.04it/s] \n",
      "Iteration:  13%|█▎        | 20/154 [00:00<00:03, 40.67it/s]"
     ]
    },
    {
     "name": "stdout",
     "output_type": "stream",
     "text": [
      "{'Train':  best_epoch_indx:59\n",
      " auc:0.9160969138095016 \n",
      " apur:0.8711826167916041 \n",
      " f1:0.7822254255142208 \n",
      " precision:0.7347672117487761 \n",
      " recall:0.8362375533428165 \n",
      ", 'Validation':  best_epoch_indx:59\n",
      " auc:0.9160969138095016 \n",
      " apur:0.8711826167916041 \n",
      " f1:0.7822254255142208 \n",
      " precision:0.7347672117487761 \n",
      " recall:0.8362375533428165 \n",
      ", 'Test':  best_epoch_indx:59\n",
      " auc:0.9160969138095016 \n",
      " apur:0.8711826167916041 \n",
      " f1:0.7822254255142208 \n",
      " precision:0.7347672117487761 \n",
      " recall:0.8362375533428165 \n",
      "}\n",
      "=====Epoch 60\n",
      "Training...\n"
     ]
    },
    {
     "name": "stderr",
     "output_type": "stream",
     "text": [
      "Iteration:  14%|█▎        | 21/154 [00:00<00:03, 37.76it/s]s]"
     ]
    },
    {
     "name": "stdout",
     "output_type": "stream",
     "text": [
      "{'Train':  best_epoch_indx:57\n",
      " auc:0.897286460558883 \n",
      " apur:0.8428781924936438 \n",
      " f1:0.7558866060953316 \n",
      " precision:0.7003387431113808 \n",
      " recall:0.8210052157420579 \n",
      ", 'Validation':  best_epoch_indx:57\n",
      " auc:0.897286460558883 \n",
      " apur:0.8428781924936438 \n",
      " f1:0.7558866060953316 \n",
      " precision:0.7003387431113808 \n",
      " recall:0.8210052157420579 \n",
      ", 'Test':  best_epoch_indx:57\n",
      " auc:0.897286460558883 \n",
      " apur:0.8428781924936438 \n",
      " f1:0.7558866060953316 \n",
      " precision:0.7003387431113808 \n",
      " recall:0.8210052157420579 \n",
      "}\n",
      "=====Epoch 58\n",
      "Training...\n"
     ]
    },
    {
     "name": "stderr",
     "output_type": "stream",
     "text": [
      "Iteration: 100%|██████████| 154/154 [00:01<00:00, 93.91it/s] \n",
      "Iteration:   0%|          | 0/154 [00:00<?, ?it/s]7.71it/s]]"
     ]
    },
    {
     "name": "stdout",
     "output_type": "stream",
     "text": [
      "{'Train':  best_epoch_indx:57\n",
      " auc:0.9022714513344907 \n",
      " apur:0.8512469303068846 \n",
      " f1:0.7640418577824164 \n",
      " precision:0.7118947691677756 \n",
      " recall:0.8244324580641337 \n",
      ", 'Validation':  best_epoch_indx:57\n",
      " auc:0.9022714513344907 \n",
      " apur:0.8512469303068846 \n",
      " f1:0.7640418577824164 \n",
      " precision:0.7118947691677756 \n",
      " recall:0.8244324580641337 \n",
      ", 'Test':  best_epoch_indx:57\n",
      " auc:0.9022714513344907 \n",
      " apur:0.8512469303068846 \n",
      " f1:0.7640418577824164 \n",
      " precision:0.7118947691677756 \n",
      " recall:0.8244324580641337 \n",
      "}\n",
      "=====Epoch 58\n",
      "Training...\n"
     ]
    },
    {
     "name": "stderr",
     "output_type": "stream",
     "text": [
      "Iteration: 100%|██████████| 154/154 [00:03<00:00, 43.01it/s]\n",
      "Iteration:  69%|██████▉   | 107/154 [00:02<00:01, 25.71it/s]"
     ]
    },
    {
     "name": "stdout",
     "output_type": "stream",
     "text": [
      "Evaluating...\n"
     ]
    },
    {
     "name": "stderr",
     "output_type": "stream",
     "text": [
      "Iteration: 100%|██████████| 154/154 [00:03<00:00, 44.40it/s]\n",
      "Iteration:   0%|          | 0/154 [00:00<?, ?it/s]"
     ]
    },
    {
     "name": "stdout",
     "output_type": "stream",
     "text": [
      "Evaluating...\n"
     ]
    },
    {
     "name": "stderr",
     "output_type": "stream",
     "text": [
      "Iteration: 100%|██████████| 154/154 [00:04<00:00, 37.38it/s]\n",
      "Iteration:  94%|█████████▎| 144/154 [00:03<00:00, 45.04it/s]"
     ]
    },
    {
     "name": "stdout",
     "output_type": "stream",
     "text": [
      "Evaluating...\n"
     ]
    },
    {
     "name": "stderr",
     "output_type": "stream",
     "text": [
      "\r",
      "Iteration:  58%|█████▊    | 90/154 [00:01<00:00, 65.30it/s]\r",
      "Iteration:  42%|████▏     | 64/154 [00:00<00:00, 126.89it/s]\r",
      "Iteration:  79%|███████▉  | 122/154 [00:02<00:00, 42.43it/s]\r",
      "Iteration:  10%|█         | 16/154 [00:00<00:01, 73.36it/s]\r",
      "Iteration:  97%|█████████▋| 149/154 [00:03<00:00, 45.24it/s]\r",
      "Iteration:  63%|██████▎   | 97/154 [00:01<00:00, 65.40it/s]\r",
      "Iteration:  50%|█████     | 77/154 [00:00<00:00, 127.59it/s]\r",
      "Iteration:  16%|█▌        | 24/154 [00:00<00:01, 74.95it/s]\r",
      "Iteration:  82%|████████▏ | 127/154 [00:02<00:00, 43.18it/s]\r",
      "Iteration: 100%|██████████| 154/154 [00:03<00:00, 45.40it/s]\r",
      "Iteration: 100%|██████████| 154/154 [00:03<00:00, 42.60it/s]\n",
      "\r",
      "Iteration:   0%|          | 0/154 [00:00<?, ?it/s]"
     ]
    },
    {
     "name": "stdout",
     "output_type": "stream",
     "text": [
      "Evaluating...\n"
     ]
    },
    {
     "name": "stderr",
     "output_type": "stream",
     "text": [
      "Iteration: 100%|██████████| 154/154 [00:03<00:00, 44.44it/s]]\n",
      "Iteration:  47%|████▋     | 72/154 [00:00<00:01, 72.46it/s]]"
     ]
    },
    {
     "name": "stdout",
     "output_type": "stream",
     "text": [
      "Evaluating...\n"
     ]
    },
    {
     "name": "stderr",
     "output_type": "stream",
     "text": [
      "Iteration: 100%|██████████| 154/154 [00:01<00:00, 115.27it/s]\n",
      "Iteration: 100%|██████████| 154/154 [00:02<00:00, 65.29it/s]\n",
      "Iteration: 100%|██████████| 154/154 [00:01<00:00, 125.18it/s]\n",
      "Iteration: 100%|██████████| 154/154 [00:01<00:00, 83.64it/s] \n",
      "Iteration: 100%|██████████| 154/154 [00:01<00:00, 124.42it/s]\n",
      "Iteration: 100%|██████████| 154/154 [00:01<00:00, 89.87it/s] \n",
      "Iteration: 100%|██████████| 154/154 [00:01<00:00, 114.98it/s]\n",
      "Iteration: 100%|██████████| 154/154 [00:01<00:00, 118.33it/s]\n",
      "Iteration: 100%|██████████| 154/154 [00:02<00:00, 73.11it/s]]\n",
      "Iteration: 100%|██████████| 154/154 [00:01<00:00, 86.26it/s] \n",
      "Iteration: 100%|██████████| 154/154 [00:01<00:00, 114.18it/s]\n",
      "Iteration: 100%|██████████| 154/154 [00:01<00:00, 113.53it/s]\n",
      "Iteration:   0%|          | 0/154 [00:00<?, ?it/s]"
     ]
    },
    {
     "name": "stdout",
     "output_type": "stream",
     "text": [
      "{'Train':  best_epoch_indx:60\n",
      " auc:0.9138503958109302 \n",
      " apur:0.86857762687885 \n",
      " f1:0.7777285809165375 \n",
      " precision:0.7294435215946844 \n",
      " recall:0.8328591749644382 \n",
      ", 'Validation':  best_epoch_indx:60\n",
      " auc:0.9138503958109302 \n",
      " apur:0.86857762687885 \n",
      " f1:0.7777285809165375 \n",
      " precision:0.7294435215946844 \n",
      " recall:0.8328591749644382 \n",
      ", 'Test':  best_epoch_indx:60\n",
      " auc:0.9138503958109302 \n",
      " apur:0.86857762687885 \n",
      " f1:0.7777285809165375 \n",
      " precision:0.7294435215946844 \n",
      " recall:0.8328591749644382 \n",
      "}\n",
      "=====Epoch 61\n",
      "Training...\n"
     ]
    },
    {
     "name": "stderr",
     "output_type": "stream",
     "text": [
      "Iteration: 100%|██████████| 154/154 [00:01<00:00, 120.87it/s]\n",
      "Iteration: 100%|██████████| 154/154 [00:02<00:00, 72.10it/s]\n"
     ]
    },
    {
     "name": "stdout",
     "output_type": "stream",
     "text": [
      "{'Train':  best_epoch_indx:58\n",
      " auc:0.9115155606370777 \n",
      " apur:0.864592576201451 \n",
      " f1:0.7721093163557509 \n",
      " precision:0.7270918420777045 \n",
      " recall:0.8230691719518701 \n",
      ", 'Validation':  best_epoch_indx:58\n",
      " auc:0.9115155606370777 \n",
      " apur:0.864592576201451 \n",
      " f1:0.7721093163557509 \n",
      " precision:0.7270918420777045 \n",
      " recall:0.8230691719518701 \n",
      ", 'Test':  best_epoch_indx:58\n",
      " auc:0.9115155606370777 \n",
      " apur:0.864592576201451 \n",
      " f1:0.7721093163557509 \n",
      " precision:0.7270918420777045 \n",
      " recall:0.8230691719518701 \n",
      "}\n",
      "=====Epoch 59\n",
      "Training...\n"
     ]
    },
    {
     "name": "stderr",
     "output_type": "stream",
     "text": [
      "Iteration:   4%|▍         | 6/154 [00:00<00:02, 50.96it/s]]s]"
     ]
    },
    {
     "name": "stdout",
     "output_type": "stream",
     "text": [
      "{'Train':  best_epoch_indx:58\n",
      " auc:0.9055481803339402 \n",
      " apur:0.8549542587455656 \n",
      " f1:0.7649709183255508 \n",
      " precision:0.7092511013215859 \n",
      " recall:0.8301920341394026 \n",
      ", 'Validation':  best_epoch_indx:58\n",
      " auc:0.9055481803339402 \n",
      " apur:0.8549542587455656 \n",
      " f1:0.7649709183255508 \n",
      " precision:0.7092511013215859 \n",
      " recall:0.8301920341394026 \n",
      ", 'Test':  best_epoch_indx:58\n",
      " auc:0.9055481803339402 \n",
      " apur:0.8549542587455656 \n",
      " f1:0.7649709183255508 \n",
      " precision:0.7092511013215859 \n",
      " recall:0.8301920341394026 \n",
      "}\n",
      "=====Epoch 59\n",
      "Training...\n"
     ]
    },
    {
     "name": "stderr",
     "output_type": "stream",
     "text": [
      "Iteration: 100%|██████████| 154/154 [00:01<00:00, 105.05it/s]\n",
      "Iteration:   3%|▎         | 5/154 [00:00<00:03, 49.35it/s]]"
     ]
    },
    {
     "name": "stdout",
     "output_type": "stream",
     "text": [
      "{'Train':  best_epoch_indx:59\n",
      " auc:0.9137247073489817 \n",
      " apur:0.8687470718488551 \n",
      " f1:0.7803535453848992 \n",
      " precision:0.7484759416503375 \n",
      " recall:0.8150672752059748 \n",
      ", 'Validation':  best_epoch_indx:59\n",
      " auc:0.9137247073489817 \n",
      " apur:0.8687470718488551 \n",
      " f1:0.7803535453848992 \n",
      " precision:0.7484759416503375 \n",
      " recall:0.8150672752059748 \n",
      ", 'Test':  best_epoch_indx:59\n",
      " auc:0.9137247073489817 \n",
      " apur:0.8687470718488551 \n",
      " f1:0.7803535453848992 \n",
      " precision:0.7484759416503375 \n",
      " recall:0.8150672752059748 \n",
      "}\n",
      "=====Epoch 60\n",
      "Training...\n",
      "{'Train':  best_epoch_indx:58\n",
      " auc:0.9082262357758442 \n",
      " apur:0.8600298106463475 \n",
      " f1:0.7663009616686984 \n",
      " precision:0.7056475753342646 \n",
      " recall:0.8383616857329145 \n",
      ", 'Validation':  best_epoch_indx:58\n",
      " auc:0.9082262357758442 \n",
      " apur:0.8600298106463475 \n",
      " f1:0.7663009616686984 \n",
      " precision:0.7056475753342646 \n",
      " recall:0.8383616857329145 \n",
      ", 'Test':  best_epoch_indx:58\n",
      " auc:0.9082262357758442 \n",
      " apur:0.8600298106463475 \n",
      " f1:0.7663009616686984 \n",
      " precision:0.7056475753342646 \n",
      " recall:0.8383616857329145 \n",
      "}\n",
      "=====Epoch 59\n",
      "Training...\n"
     ]
    },
    {
     "name": "stderr",
     "output_type": "stream",
     "text": [
      "Iteration: 100%|██████████| 154/154 [00:03<00:00, 44.93it/s]\n",
      "Iteration:  58%|█████▊    | 90/154 [00:01<00:01, 45.13it/s]"
     ]
    },
    {
     "name": "stdout",
     "output_type": "stream",
     "text": [
      "Evaluating...\n"
     ]
    },
    {
     "name": "stderr",
     "output_type": "stream",
     "text": [
      "Iteration: 100%|██████████| 154/154 [00:03<00:00, 45.90it/s]\n",
      "Iteration:  78%|███████▊  | 120/154 [00:02<00:00, 45.11it/s]"
     ]
    },
    {
     "name": "stdout",
     "output_type": "stream",
     "text": [
      "Evaluating...\n"
     ]
    },
    {
     "name": "stderr",
     "output_type": "stream",
     "text": [
      "\r",
      "Iteration:  58%|█████▊    | 89/154 [00:00<00:00, 125.38it/s]\r",
      "Iteration:  71%|███████▏  | 110/154 [00:02<00:01, 40.28it/s]\r",
      "Iteration:   7%|▋         | 11/154 [00:00<00:01, 107.84it/s]\r",
      "Iteration:  81%|████████  | 125/154 [00:02<00:00, 45.14it/s]\r",
      "Iteration:  98%|█████████▊| 151/154 [00:03<00:00, 41.12it/s]\r",
      "Iteration:  66%|██████▌   | 102/154 [00:00<00:00, 125.79it/s]\r",
      "Iteration:  16%|█▌        | 24/154 [00:00<00:01, 119.30it/s]\r",
      "Iteration:  75%|███████▍  | 115/154 [00:02<00:01, 38.44it/s]\r",
      "Iteration: 100%|██████████| 154/154 [00:03<00:00, 39.51it/s]\n",
      "\r",
      "Iteration:   0%|          | 0/154 [00:00<?, ?it/s]\r",
      "Iteration:  84%|████████▍ | 130/154 [00:02<00:00, 45.06it/s]"
     ]
    },
    {
     "name": "stdout",
     "output_type": "stream",
     "text": [
      "Evaluating...\n"
     ]
    },
    {
     "name": "stderr",
     "output_type": "stream",
     "text": [
      "Iteration: 100%|██████████| 154/154 [00:01<00:00, 121.88it/s]\n",
      "Iteration: 100%|██████████| 154/154 [00:03<00:00, 45.12it/s]\n",
      "Iteration:  90%|█████████ | 139/154 [00:03<00:00, 37.04it/s]"
     ]
    },
    {
     "name": "stdout",
     "output_type": "stream",
     "text": [
      "Evaluating...\n"
     ]
    },
    {
     "name": "stderr",
     "output_type": "stream",
     "text": [
      "Iteration: 100%|██████████| 154/154 [00:03<00:00, 38.58it/s]]\n",
      "Iteration:   0%|          | 0/154 [00:00<?, ?it/s]"
     ]
    },
    {
     "name": "stdout",
     "output_type": "stream",
     "text": [
      "Evaluating...\n"
     ]
    },
    {
     "name": "stderr",
     "output_type": "stream",
     "text": [
      "Iteration: 100%|██████████| 154/154 [00:01<00:00, 111.72it/s]\n",
      "Iteration: 100%|██████████| 154/154 [00:01<00:00, 107.88it/s]\n",
      "Iteration: 100%|██████████| 154/154 [00:01<00:00, 118.10it/s]\n",
      "Iteration: 100%|██████████| 154/154 [00:01<00:00, 83.14it/s]]\n",
      "Iteration: 100%|██████████| 154/154 [00:01<00:00, 116.92it/s]\n",
      "Iteration: 100%|██████████| 154/154 [00:01<00:00, 120.31it/s]\n",
      "Iteration: 100%|██████████| 154/154 [00:02<00:00, 69.81it/s]\n",
      "Iteration: 100%|██████████| 154/154 [00:01<00:00, 88.13it/s] \n",
      "Iteration: 100%|██████████| 154/154 [00:01<00:00, 125.53it/s]\n",
      "Iteration: 100%|██████████| 154/154 [00:01<00:00, 107.49it/s]\n",
      "Iteration: 100%|██████████| 154/154 [00:02<00:00, 70.24it/s]]\n",
      "Iteration:  86%|████████▌ | 132/154 [00:01<00:00, 98.50it/s] "
     ]
    },
    {
     "name": "stdout",
     "output_type": "stream",
     "text": [
      "{'Train':  best_epoch_indx:59\n",
      " auc:0.9181353936707847 \n",
      " apur:0.8736864670635376 \n",
      " f1:0.7847967818005271 \n",
      " precision:0.7376655888181913 \n",
      " recall:0.8383616857329145 \n",
      ", 'Validation':  best_epoch_indx:59\n",
      " auc:0.9181353936707847 \n",
      " apur:0.8736864670635376 \n",
      " f1:0.7847967818005271 \n",
      " precision:0.7376655888181913 \n",
      " recall:0.8383616857329145 \n",
      ", 'Test':  best_epoch_indx:59\n",
      " auc:0.9181353936707847 \n",
      " apur:0.8736864670635376 \n",
      " f1:0.7847967818005271 \n",
      " precision:0.7376655888181913 \n",
      " recall:0.8383616857329145 \n",
      "}\n",
      "=====Epoch 60\n",
      "Training...\n",
      "{'Train':  best_epoch_indx:59\n",
      " auc:0.9126332132551693 \n",
      " apur:0.8657982453601902 \n",
      " f1:0.7778056042518852 \n",
      " precision:0.7330710726462103 \n",
      " recall:0.8283546704599336 \n",
      ", 'Validation':  best_epoch_indx:59\n",
      " auc:0.9126332132551693 \n",
      " apur:0.8657982453601902 \n",
      " f1:0.7778056042518852 \n",
      " precision:0.7330710726462103 \n",
      " recall:0.8283546704599336 \n",
      ", 'Test':  best_epoch_indx:59\n",
      " auc:0.9126332132551693 \n",
      " apur:0.8657982453601902 \n",
      " f1:0.7778056042518852 \n",
      " precision:0.7330710726462103 \n",
      " recall:0.8283546704599336 \n",
      "}\n",
      "=====Epoch 60\n",
      "Training...\n"
     ]
    },
    {
     "name": "stderr",
     "output_type": "stream",
     "text": [
      "Iteration: 100%|██████████| 154/154 [00:01<00:00, 100.95it/s]\n",
      "Iteration:   3%|▎         | 5/154 [00:00<00:04, 36.47it/s]]s]"
     ]
    },
    {
     "name": "stdout",
     "output_type": "stream",
     "text": [
      "{'Train':  best_epoch_indx:61\n",
      " auc:0.9128940950020654 \n",
      " apur:0.866744371947428 \n",
      " f1:0.7756869366302661 \n",
      " precision:0.717517255277344 \n",
      " recall:0.8441204362256994 \n",
      ", 'Validation':  best_epoch_indx:61\n",
      " auc:0.9128940950020654 \n",
      " apur:0.866744371947428 \n",
      " f1:0.7756869366302661 \n",
      " precision:0.717517255277344 \n",
      " recall:0.8441204362256994 \n",
      ", 'Test':  best_epoch_indx:61\n",
      " auc:0.9128940950020654 \n",
      " apur:0.866744371947428 \n",
      " f1:0.7756869366302661 \n",
      " precision:0.717517255277344 \n",
      " recall:0.8441204362256994 \n",
      "}\n",
      "=====Epoch 62\n",
      "Training...\n"
     ]
    },
    {
     "name": "stderr",
     "output_type": "stream",
     "text": [
      "Iteration: 100%|██████████| 154/154 [00:01<00:00, 98.78it/s] \n",
      "Iteration:  37%|███▋      | 57/154 [00:01<00:02, 45.04it/s]]"
     ]
    },
    {
     "name": "stdout",
     "output_type": "stream",
     "text": [
      "{'Train':  best_epoch_indx:59\n",
      " auc:0.9165697240628556 \n",
      " apur:0.8717231791996172 \n",
      " f1:0.7813073865972319 \n",
      " precision:0.726674824105231 \n",
      " recall:0.8448224764388595 \n",
      ", 'Validation':  best_epoch_indx:59\n",
      " auc:0.9165697240628556 \n",
      " apur:0.8717231791996172 \n",
      " f1:0.7813073865972319 \n",
      " precision:0.726674824105231 \n",
      " recall:0.8448224764388595 \n",
      ", 'Test':  best_epoch_indx:59\n",
      " auc:0.9165697240628556 \n",
      " apur:0.8717231791996172 \n",
      " f1:0.7813073865972319 \n",
      " precision:0.726674824105231 \n",
      " recall:0.8448224764388595 \n",
      "}\n",
      "=====Epoch 60\n",
      "Training...\n"
     ]
    },
    {
     "name": "stderr",
     "output_type": "stream",
     "text": [
      "Iteration: 100%|██████████| 154/154 [00:01<00:00, 117.72it/s]\n",
      "Iteration:  34%|███▍      | 52/154 [00:01<00:02, 45.31it/s]]"
     ]
    },
    {
     "name": "stdout",
     "output_type": "stream",
     "text": [
      "{'Train':  best_epoch_indx:60\n",
      " auc:0.9129679346807446 \n",
      " apur:0.8678944881635885 \n",
      " f1:0.7799255679608954 \n",
      " precision:0.7337862555526522 \n",
      " recall:0.8322565348823425 \n",
      ", 'Validation':  best_epoch_indx:60\n",
      " auc:0.9129679346807446 \n",
      " apur:0.8678944881635885 \n",
      " f1:0.7799255679608954 \n",
      " precision:0.7337862555526522 \n",
      " recall:0.8322565348823425 \n",
      ", 'Test':  best_epoch_indx:60\n",
      " auc:0.9129679346807446 \n",
      " apur:0.8678944881635885 \n",
      " f1:0.7799255679608954 \n",
      " precision:0.7337862555526522 \n",
      " recall:0.8322565348823425 \n",
      "}\n",
      "=====Epoch 61\n",
      "Training...\n"
     ]
    },
    {
     "name": "stderr",
     "output_type": "stream",
     "text": [
      "Iteration: 100%|██████████| 154/154 [00:03<00:00, 44.26it/s]\n",
      "Iteration:  66%|██████▌   | 102/154 [00:02<00:01, 45.08it/s]"
     ]
    },
    {
     "name": "stdout",
     "output_type": "stream",
     "text": [
      "Evaluating...\n"
     ]
    },
    {
     "name": "stderr",
     "output_type": "stream",
     "text": [
      "\r",
      "Iteration:  78%|███████▊  | 120/154 [00:03<00:00, 38.19it/s]\r",
      "Iteration:  37%|███▋      | 57/154 [00:01<00:02, 45.53it/s]\r",
      "Iteration:  16%|█▌        | 25/154 [00:00<00:01, 122.64it/s]\r",
      "Iteration:  97%|█████████▋| 149/154 [00:03<00:00, 38.33it/s]\r",
      "Iteration:  69%|██████▉   | 107/154 [00:02<00:01, 45.07it/s]\r",
      "Iteration:  81%|████████  | 125/154 [00:03<00:00, 38.63it/s]\r",
      "Iteration:  25%|██▍       | 38/154 [00:00<00:00, 125.54it/s]\r",
      "Iteration:  40%|████      | 62/154 [00:01<00:02, 45.45it/s]\r",
      "Iteration:  99%|█████████▉| 153/154 [00:03<00:00, 38.78it/s]\r",
      "Iteration: 100%|██████████| 154/154 [00:03<00:00, 38.79it/s]\n",
      "\r",
      "Iteration:   0%|          | 0/154 [00:00<?, ?it/s]\r",
      "Iteration:  73%|███████▎  | 112/154 [00:02<00:00, 45.09it/s]"
     ]
    },
    {
     "name": "stdout",
     "output_type": "stream",
     "text": [
      "Evaluating...\n"
     ]
    },
    {
     "name": "stderr",
     "output_type": "stream",
     "text": [
      "Iteration: 100%|██████████| 154/154 [00:03<00:00, 38.95it/s] \n",
      "Iteration:  99%|█████████▊| 152/154 [00:03<00:00, 45.04it/s]]"
     ]
    },
    {
     "name": "stdout",
     "output_type": "stream",
     "text": [
      "Evaluating...\n"
     ]
    },
    {
     "name": "stderr",
     "output_type": "stream",
     "text": [
      "\r",
      "Iteration:  10%|▉         | 15/154 [00:00<00:01, 75.20it/s]\r",
      "Iteration: 100%|██████████| 154/154 [00:03<00:00, 45.35it/s]\n",
      "\r",
      "Iteration:   0%|          | 0/154 [00:00<?, ?it/s]\r",
      "Iteration:  69%|██████▉   | 107/154 [00:02<00:01, 45.49it/s]\r",
      "Iteration: 100%|██████████| 154/154 [00:01<00:00, 117.62it/s]\n",
      "\r",
      "Iteration:  45%|████▍     | 69/154 [00:00<00:01, 70.63it/s]\r",
      "Iteration:  15%|█▍        | 23/154 [00:00<00:01, 76.15it/s]\r",
      "Iteration:   7%|▋         | 11/154 [00:00<00:01, 109.58it/s]\r",
      "Iteration:  73%|███████▎  | 112/154 [00:02<00:00, 45.50it/s]\r",
      "Iteration:  50%|█████     | 77/154 [00:01<00:01, 72.68it/s]"
     ]
    },
    {
     "name": "stdout",
     "output_type": "stream",
     "text": [
      "Evaluating...\n"
     ]
    },
    {
     "name": "stderr",
     "output_type": "stream",
     "text": [
      "Iteration: 100%|██████████| 154/154 [00:01<00:00, 79.71it/s]]\n",
      "Iteration: 100%|██████████| 154/154 [00:03<00:00, 45.66it/s] \n",
      "Iteration:  67%|██████▋   | 103/154 [00:01<00:00, 71.14it/s]]"
     ]
    },
    {
     "name": "stdout",
     "output_type": "stream",
     "text": [
      "Evaluating...\n"
     ]
    },
    {
     "name": "stderr",
     "output_type": "stream",
     "text": [
      "Iteration: 100%|██████████| 154/154 [00:01<00:00, 116.40it/s]\n",
      "Iteration: 100%|██████████| 154/154 [00:02<00:00, 72.17it/s]]\n",
      "Iteration: 100%|██████████| 154/154 [00:01<00:00, 92.20it/s] \n",
      "Iteration: 100%|██████████| 154/154 [00:01<00:00, 124.19it/s]\n",
      "Iteration: 100%|██████████| 154/154 [00:01<00:00, 125.97it/s]\n",
      "Iteration: 100%|██████████| 154/154 [00:01<00:00, 90.01it/s] \n",
      "Iteration: 100%|██████████| 154/154 [00:01<00:00, 117.56it/s]\n",
      "Iteration: 100%|██████████| 154/154 [00:01<00:00, 100.88it/s]\n",
      "Iteration: 100%|██████████| 154/154 [00:01<00:00, 89.49it/s] \n",
      "Iteration:   5%|▌         | 8/154 [00:00<00:01, 74.90it/s]]s]"
     ]
    },
    {
     "name": "stdout",
     "output_type": "stream",
     "text": [
      "{'Train':  best_epoch_indx:60\n",
      " auc:0.9124581390380921 \n",
      " apur:0.8655361624111015 \n",
      " f1:0.7769912490942534 \n",
      " precision:0.7332982640715413 \n",
      " recall:0.8262209577999051 \n",
      ", 'Validation':  best_epoch_indx:60\n",
      " auc:0.9124581390380921 \n",
      " apur:0.8655361624111015 \n",
      " f1:0.7769912490942534 \n",
      " precision:0.7332982640715413 \n",
      " recall:0.8262209577999051 \n",
      ", 'Test':  best_epoch_indx:60\n",
      " auc:0.9124581390380921 \n",
      " apur:0.8655361624111015 \n",
      " f1:0.7769912490942534 \n",
      " precision:0.7332982640715413 \n",
      " recall:0.8262209577999051 \n",
      "}\n",
      "=====Epoch 61\n",
      "Training...\n"
     ]
    },
    {
     "name": "stderr",
     "output_type": "stream",
     "text": [
      "Iteration: 100%|██████████| 154/154 [00:01<00:00, 92.93it/s] \n",
      "Iteration:  81%|████████  | 125/154 [00:01<00:00, 70.47it/s]]"
     ]
    },
    {
     "name": "stdout",
     "output_type": "stream",
     "text": [
      "{'Train':  best_epoch_indx:60\n",
      " auc:0.9137011438373477 \n",
      " apur:0.8683986640267668 \n",
      " f1:0.7766995690254412 \n",
      " precision:0.7314863307845396 \n",
      " recall:0.8278703099994073 \n",
      ", 'Validation':  best_epoch_indx:60\n",
      " auc:0.9137011438373477 \n",
      " apur:0.8683986640267668 \n",
      " f1:0.7766995690254412 \n",
      " precision:0.7314863307845396 \n",
      " recall:0.8278703099994073 \n",
      ", 'Test':  best_epoch_indx:60\n",
      " auc:0.9137011438373477 \n",
      " apur:0.8683986640267668 \n",
      " f1:0.7766995690254412 \n",
      " precision:0.7314863307845396 \n",
      " recall:0.8278703099994073 \n",
      "}\n",
      "=====Epoch 61\n",
      "Training...\n"
     ]
    },
    {
     "name": "stderr",
     "output_type": "stream",
     "text": [
      "Iteration: 100%|██████████| 154/154 [00:02<00:00, 65.86it/s]]\n",
      "Iteration: 100%|██████████| 154/154 [00:01<00:00, 113.59it/s]\n",
      "Iteration:   0%|          | 0/154 [00:00<?, ?it/s]5.42it/s]"
     ]
    },
    {
     "name": "stdout",
     "output_type": "stream",
     "text": [
      "{'Train':  best_epoch_indx:61\n",
      " auc:0.9062350821347287 \n",
      " apur:0.859113844910415 \n",
      " f1:0.7710285649768546 \n",
      " precision:0.7360025866249933 \n",
      " recall:0.8095548574476913 \n",
      ", 'Validation':  best_epoch_indx:61\n",
      " auc:0.9062350821347287 \n",
      " apur:0.859113844910415 \n",
      " f1:0.7710285649768546 \n",
      " precision:0.7360025866249933 \n",
      " recall:0.8095548574476913 \n",
      ", 'Test':  best_epoch_indx:61\n",
      " auc:0.9062350821347287 \n",
      " apur:0.859113844910415 \n",
      " f1:0.7710285649768546 \n",
      " precision:0.7360025866249933 \n",
      " recall:0.8095548574476913 \n",
      "}\n",
      "=====Epoch 62\n",
      "Training...\n"
     ]
    },
    {
     "name": "stderr",
     "output_type": "stream",
     "text": [
      "Iteration:  92%|█████████▏| 141/154 [00:02<00:00, 70.57it/s]"
     ]
    },
    {
     "name": "stdout",
     "output_type": "stream",
     "text": [
      "{'Train':  best_epoch_indx:60\n",
      " auc:0.9164470922799556 \n",
      " apur:0.8721247761563562 \n",
      " f1:0.7819565766929752 \n",
      " precision:0.7431133888532991 \n",
      " recall:0.8250844644656511 \n",
      ", 'Validation':  best_epoch_indx:60\n",
      " auc:0.9164470922799556 \n",
      " apur:0.8721247761563562 \n",
      " f1:0.7819565766929752 \n",
      " precision:0.7431133888532991 \n",
      " recall:0.8250844644656511 \n",
      ", 'Test':  best_epoch_indx:60\n",
      " auc:0.9164470922799556 \n",
      " apur:0.8721247761563562 \n",
      " f1:0.7819565766929752 \n",
      " precision:0.7431133888532991 \n",
      " recall:0.8250844644656511 \n",
      "}\n",
      "=====Epoch 61\n",
      "Training...\n"
     ]
    },
    {
     "name": "stderr",
     "output_type": "stream",
     "text": [
      "Iteration: 100%|██████████| 154/154 [00:02<00:00, 69.17it/s]\n",
      "Iteration: 100%|██████████| 154/154 [00:03<00:00, 45.89it/s]\n",
      "Iteration:  76%|███████▌  | 117/154 [00:02<00:00, 45.08it/s]"
     ]
    },
    {
     "name": "stdout",
     "output_type": "stream",
     "text": [
      "Evaluating...\n"
     ]
    },
    {
     "name": "stderr",
     "output_type": "stream",
     "text": [
      "\r",
      "Iteration:  53%|█████▎    | 82/154 [00:01<00:01, 45.49it/s]\r",
      "Iteration:  16%|█▌        | 25/154 [00:00<00:01, 121.97it/s]\r",
      "Iteration:  33%|███▎      | 51/154 [00:01<00:02, 36.96it/s]\r",
      "Iteration:  79%|███████▉  | 122/154 [00:02<00:00, 45.03it/s]\r",
      "Iteration:   0%|          | 0/154 [00:00<?, ?it/s]\r",
      "Iteration:  56%|█████▋    | 87/154 [00:01<00:01, 45.49it/s]\r",
      "Iteration:  25%|██▍       | 38/154 [00:00<00:00, 125.25it/s]\r",
      "Iteration:  36%|███▌      | 55/154 [00:01<00:02, 36.61it/s]\r",
      "Iteration:  82%|████████▏ | 127/154 [00:02<00:00, 45.02it/s]\r",
      "Iteration:   3%|▎         | 5/154 [00:00<00:03, 40.89it/s]"
     ]
    },
    {
     "name": "stdout",
     "output_type": "stream",
     "text": [
      "{'Train':  best_epoch_indx:62\n",
      " auc:0.9072215581098328 \n",
      " apur:0.8585839863496607 \n",
      " f1:0.7686387948913875 \n",
      " precision:0.7122698765931621 \n",
      " recall:0.834696538643907 \n",
      ", 'Validation':  best_epoch_indx:62\n",
      " auc:0.9072215581098328 \n",
      " apur:0.8585839863496607 \n",
      " f1:0.7686387948913875 \n",
      " precision:0.7122698765931621 \n",
      " recall:0.834696538643907 \n",
      ", 'Test':  best_epoch_indx:62\n",
      " auc:0.9072215581098328 \n",
      " apur:0.8585839863496607 \n",
      " f1:0.7686387948913875 \n",
      " precision:0.7122698765931621 \n",
      " recall:0.834696538643907 \n",
      "}\n",
      "=====Epoch 63\n",
      "Training...\n"
     ]
    },
    {
     "name": "stderr",
     "output_type": "stream",
     "text": [
      "Iteration: 100%|██████████| 154/154 [00:03<00:00, 45.27it/s]]\n",
      "Iteration:  54%|█████▍    | 83/154 [00:02<00:01, 42.04it/s]"
     ]
    },
    {
     "name": "stdout",
     "output_type": "stream",
     "text": [
      "Evaluating...\n"
     ]
    },
    {
     "name": "stderr",
     "output_type": "stream",
     "text": [
      "Iteration: 100%|██████████| 154/154 [00:01<00:00, 126.75it/s]\n",
      "Iteration: 100%|██████████| 154/154 [00:03<00:00, 42.97it/s]]\n",
      "Iteration:  22%|██▏       | 34/154 [00:00<00:01, 113.21it/s]"
     ]
    },
    {
     "name": "stdout",
     "output_type": "stream",
     "text": [
      "Evaluating...\n"
     ]
    },
    {
     "name": "stderr",
     "output_type": "stream",
     "text": [
      "Iteration: 100%|██████████| 154/154 [00:01<00:00, 124.80it/s]\n",
      "Iteration: 100%|██████████| 154/154 [00:03<00:00, 38.50it/s]\n",
      "Iteration:  63%|██████▎   | 97/154 [00:01<00:00, 95.03it/s]"
     ]
    },
    {
     "name": "stdout",
     "output_type": "stream",
     "text": [
      "Evaluating...\n"
     ]
    },
    {
     "name": "stderr",
     "output_type": "stream",
     "text": [
      "Iteration: 100%|██████████| 154/154 [00:01<00:00, 120.36it/s]\n",
      "Iteration: 100%|██████████| 154/154 [00:01<00:00, 94.08it/s] \n",
      "Iteration: 100%|██████████| 154/154 [00:03<00:00, 44.33it/s]\n",
      "Iteration:   0%|          | 0/154 [00:00<?, ?it/s]5.69it/s]"
     ]
    },
    {
     "name": "stdout",
     "output_type": "stream",
     "text": [
      "Evaluating...\n"
     ]
    },
    {
     "name": "stderr",
     "output_type": "stream",
     "text": [
      "Iteration: 100%|██████████| 154/154 [00:01<00:00, 92.86it/s] \n",
      "Iteration: 100%|██████████| 154/154 [00:01<00:00, 79.14it/s]]\n",
      "Iteration: 100%|██████████| 154/154 [00:01<00:00, 124.67it/s]\n",
      "Iteration: 100%|██████████| 154/154 [00:01<00:00, 109.37it/s]\n",
      "Iteration: 100%|██████████| 154/154 [00:01<00:00, 82.56it/s] \n",
      "Iteration: 100%|██████████| 154/154 [00:01<00:00, 105.29it/s]\n",
      "Iteration:  10%|▉         | 15/154 [00:00<00:01, 74.69it/s]"
     ]
    },
    {
     "name": "stdout",
     "output_type": "stream",
     "text": [
      "{'Train':  best_epoch_indx:61\n",
      " auc:0.9067945468131244 \n",
      " apur:0.8587840530053547 \n",
      " f1:0.7705793955585241 \n",
      " precision:0.7263141328297136 \n",
      " recall:0.8205903271692745 \n",
      ", 'Validation':  best_epoch_indx:61\n",
      " auc:0.9067945468131244 \n",
      " apur:0.8587840530053547 \n",
      " f1:0.7705793955585241 \n",
      " precision:0.7263141328297136 \n",
      " recall:0.8205903271692745 \n",
      ", 'Test':  best_epoch_indx:61\n",
      " auc:0.9067945468131244 \n",
      " apur:0.8587840530053547 \n",
      " f1:0.7705793955585241 \n",
      " precision:0.7263141328297136 \n",
      " recall:0.8205903271692745 \n",
      "}\n",
      "=====Epoch 62\n",
      "Training...\n"
     ]
    },
    {
     "name": "stderr",
     "output_type": "stream",
     "text": [
      "Iteration: 100%|██████████| 154/154 [00:01<00:00, 124.61it/s]\n",
      "Iteration: 100%|██████████| 154/154 [00:01<00:00, 117.89it/s]\n",
      "Iteration: 100%|██████████| 154/154 [00:01<00:00, 82.85it/s] \n",
      "Iteration:  22%|██▏       | 34/154 [00:00<00:01, 64.43it/s]]"
     ]
    },
    {
     "name": "stdout",
     "output_type": "stream",
     "text": [
      "{'Train':  best_epoch_indx:62\n",
      " auc:0.9072659723705889 \n",
      " apur:0.8579639088934718 \n",
      " f1:0.7703463619633587 \n",
      " precision:0.7178030303030303 \n",
      " recall:0.8311896153162232 \n",
      ", 'Validation':  best_epoch_indx:62\n",
      " auc:0.9072659723705889 \n",
      " apur:0.8579639088934718 \n",
      " f1:0.7703463619633587 \n",
      " precision:0.7178030303030303 \n",
      " recall:0.8311896153162232 \n",
      ", 'Test':  best_epoch_indx:62\n",
      " auc:0.9072659723705889 \n",
      " apur:0.8579639088934718 \n",
      " f1:0.7703463619633587 \n",
      " precision:0.7178030303030303 \n",
      " recall:0.8311896153162232 \n",
      "}\n",
      "=====Epoch 63\n",
      "Training...\n"
     ]
    },
    {
     "name": "stderr",
     "output_type": "stream",
     "text": [
      "Iteration:  36%|███▌      | 55/154 [00:01<00:02, 44.03it/s]s]"
     ]
    },
    {
     "name": "stdout",
     "output_type": "stream",
     "text": [
      "{'Train':  best_epoch_indx:61\n",
      " auc:0.9100803260828412 \n",
      " apur:0.8635464479515319 \n",
      " f1:0.7710369621390856 \n",
      " precision:0.732717664015374 \n",
      " recall:0.8135854424752534 \n",
      ", 'Validation':  best_epoch_indx:61\n",
      " auc:0.9100803260828412 \n",
      " apur:0.8635464479515319 \n",
      " f1:0.7710369621390856 \n",
      " precision:0.732717664015374 \n",
      " recall:0.8135854424752534 \n",
      ", 'Test':  best_epoch_indx:61\n",
      " auc:0.9100803260828412 \n",
      " apur:0.8635464479515319 \n",
      " f1:0.7710369621390856 \n",
      " precision:0.732717664015374 \n",
      " recall:0.8135854424752534 \n",
      "}\n",
      "=====Epoch 62\n",
      "Training...\n"
     ]
    },
    {
     "name": "stderr",
     "output_type": "stream",
     "text": [
      "Iteration: 100%|██████████| 154/154 [00:01<00:00, 105.67it/s]\n",
      "Iteration:  31%|███       | 47/154 [00:01<00:02, 40.96it/s]s]"
     ]
    },
    {
     "name": "stdout",
     "output_type": "stream",
     "text": [
      "{'Train':  best_epoch_indx:61\n",
      " auc:0.9147180757539102 \n",
      " apur:0.8697164011470286 \n",
      " f1:0.7782049873668022 \n",
      " precision:0.7250396602016274 \n",
      " recall:0.839784245154407 \n",
      ", 'Validation':  best_epoch_indx:61\n",
      " auc:0.9147180757539102 \n",
      " apur:0.8697164011470286 \n",
      " f1:0.7782049873668022 \n",
      " precision:0.7250396602016274 \n",
      " recall:0.839784245154407 \n",
      ", 'Test':  best_epoch_indx:61\n",
      " auc:0.9147180757539102 \n",
      " apur:0.8697164011470286 \n",
      " f1:0.7782049873668022 \n",
      " precision:0.7250396602016274 \n",
      " recall:0.839784245154407 \n",
      "}\n",
      "=====Epoch 62\n",
      "Training...\n"
     ]
    },
    {
     "name": "stderr",
     "output_type": "stream",
     "text": [
      "Iteration: 100%|██████████| 154/154 [00:01<00:00, 82.43it/s] \n",
      "Iteration:  19%|█▉        | 29/154 [00:00<00:03, 38.55it/s]]"
     ]
    },
    {
     "name": "stdout",
     "output_type": "stream",
     "text": [
      "{'Train':  best_epoch_indx:63\n",
      " auc:0.8995332444909263 \n",
      " apur:0.8483756663806622 \n",
      " f1:0.7603188469098056 \n",
      " precision:0.7047570850202429 \n",
      " recall:0.8253911806543386 \n",
      ", 'Validation':  best_epoch_indx:63\n",
      " auc:0.8995332444909263 \n",
      " apur:0.8483756663806622 \n",
      " f1:0.7603188469098056 \n",
      " precision:0.7047570850202429 \n",
      " recall:0.8253911806543386 \n",
      ", 'Test':  best_epoch_indx:63\n",
      " auc:0.8995332444909263 \n",
      " apur:0.8483756663806622 \n",
      " f1:0.7603188469098056 \n",
      " precision:0.7047570850202429 \n",
      " recall:0.8253911806543386 \n",
      "}\n",
      "=====Epoch 64\n",
      "Training...\n",
      "Evaluating...\n"
     ]
    },
    {
     "name": "stderr",
     "output_type": "stream",
     "text": [
      "Iteration: 100%|██████████| 154/154 [00:03<00:00, 42.55it/s]\n",
      "Iteration: 100%|██████████| 154/154 [00:01<00:00, 128.59it/s]\n",
      "Iteration: 100%|██████████| 154/154 [00:03<00:00, 43.40it/s]\n",
      "Iteration:  69%|██████▉   | 106/154 [00:02<00:01, 35.92it/s]"
     ]
    },
    {
     "name": "stdout",
     "output_type": "stream",
     "text": [
      "Evaluating...\n"
     ]
    },
    {
     "name": "stderr",
     "output_type": "stream",
     "text": [
      "Iteration: 100%|██████████| 154/154 [00:04<00:00, 36.55it/s]\n",
      "Iteration:  32%|███▏      | 50/154 [00:00<00:01, 71.45it/s]]"
     ]
    },
    {
     "name": "stdout",
     "output_type": "stream",
     "text": [
      "Evaluating...\n"
     ]
    },
    {
     "name": "stderr",
     "output_type": "stream",
     "text": [
      "Iteration: 100%|██████████| 154/154 [00:01<00:00, 125.71it/s]\n",
      "Iteration: 100%|██████████| 154/154 [00:04<00:00, 37.04it/s]]\n",
      "Iteration:   0%|          | 0/154 [00:00<?, ?it/s]"
     ]
    },
    {
     "name": "stdout",
     "output_type": "stream",
     "text": [
      "Evaluating...\n",
      "Evaluating...\n"
     ]
    },
    {
     "name": "stderr",
     "output_type": "stream",
     "text": [
      "Iteration: 100%|██████████| 154/154 [00:03<00:00, 44.81it/s]\n",
      "Iteration: 100%|██████████| 154/154 [00:01<00:00, 125.95it/s]\n",
      "Iteration: 100%|██████████| 154/154 [00:02<00:00, 64.88it/s]\n",
      "Iteration: 100%|██████████| 154/154 [00:01<00:00, 123.77it/s]\n",
      "Iteration: 100%|██████████| 154/154 [00:01<00:00, 101.95it/s]\n",
      "Iteration: 100%|██████████| 154/154 [00:01<00:00, 114.93it/s]\n",
      "Iteration: 100%|██████████| 154/154 [00:02<00:00, 69.75it/s]]\n",
      "Iteration: 100%|██████████| 154/154 [00:01<00:00, 123.85it/s]\n",
      "Iteration: 100%|██████████| 154/154 [00:01<00:00, 118.78it/s]\n",
      "Iteration: 100%|██████████| 154/154 [00:02<00:00, 74.05it/s] \n",
      "Iteration: 100%|██████████| 154/154 [00:01<00:00, 112.65it/s]\n",
      "Iteration:  25%|██▌       | 39/154 [00:00<00:01, 70.90it/s]s]"
     ]
    },
    {
     "name": "stdout",
     "output_type": "stream",
     "text": [
      "{'Train':  best_epoch_indx:62\n",
      " auc:0.9040136815106645 \n",
      " apur:0.8543459020311693 \n",
      " f1:0.7618379894294035 \n",
      " precision:0.6988917474767465 \n",
      " recall:0.8372451398767188 \n",
      ", 'Validation':  best_epoch_indx:62\n",
      " auc:0.9040136815106645 \n",
      " apur:0.8543459020311693 \n",
      " f1:0.7618379894294035 \n",
      " precision:0.6988917474767465 \n",
      " recall:0.8372451398767188 \n",
      ", 'Test':  best_epoch_indx:62\n",
      " auc:0.9040136815106645 \n",
      " apur:0.8543459020311693 \n",
      " f1:0.7618379894294035 \n",
      " precision:0.6988917474767465 \n",
      " recall:0.8372451398767188 \n",
      "}\n",
      "=====Epoch 63\n",
      "Training...\n"
     ]
    },
    {
     "name": "stderr",
     "output_type": "stream",
     "text": [
      "Iteration: 100%|██████████| 154/154 [00:01<00:00, 114.65it/s]\n",
      "Iteration:   4%|▍         | 6/154 [00:00<00:02, 50.25it/s]]]"
     ]
    },
    {
     "name": "stdout",
     "output_type": "stream",
     "text": [
      "{'Train':  best_epoch_indx:62\n",
      " auc:0.9016667216107802 \n",
      " apur:0.8518260581658644 \n",
      " f1:0.7594908749551341 \n",
      " precision:0.7108745089931776 \n",
      " recall:0.8152450951336613 \n",
      ", 'Validation':  best_epoch_indx:62\n",
      " auc:0.9016667216107802 \n",
      " apur:0.8518260581658644 \n",
      " f1:0.7594908749551341 \n",
      " precision:0.7108745089931776 \n",
      " recall:0.8152450951336613 \n",
      ", 'Test':  best_epoch_indx:62\n",
      " auc:0.9016667216107802 \n",
      " apur:0.8518260581658644 \n",
      " f1:0.7594908749551341 \n",
      " precision:0.7108745089931776 \n",
      " recall:0.8152450951336613 \n",
      "}\n",
      "=====Epoch 63\n",
      "Training...\n"
     ]
    },
    {
     "name": "stderr",
     "output_type": "stream",
     "text": [
      "Iteration: 100%|██████████| 154/154 [00:01<00:00, 104.76it/s]\n"
     ]
    },
    {
     "name": "stdout",
     "output_type": "stream",
     "text": [
      "{'Train':  best_epoch_indx:64\n",
      " auc:0.8935033496373403 \n",
      " apur:0.8374130137709892 \n",
      " f1:0.752726391469424 \n",
      " precision:0.6897113249444856 \n",
      " recall:0.8284139402560455 \n",
      ", 'Validation':  best_epoch_indx:64\n",
      " auc:0.8935033496373403 \n",
      " apur:0.8374130137709892 \n",
      " f1:0.752726391469424 \n",
      " precision:0.6897113249444856 \n",
      " recall:0.8284139402560455 \n",
      ", 'Test':  best_epoch_indx:64\n",
      " auc:0.8935033496373403 \n",
      " apur:0.8374130137709892 \n",
      " f1:0.752726391469424 \n",
      " precision:0.6897113249444856 \n",
      " recall:0.8284139402560455 \n",
      "}\n",
      "=====Epoch 65\n",
      "Training...\n"
     ]
    },
    {
     "name": "stderr",
     "output_type": "stream",
     "text": [
      "Iteration: 100%|██████████| 154/154 [00:02<00:00, 71.29it/s]\n",
      "Iteration:  34%|███▍      | 52/154 [00:01<00:02, 36.90it/s]"
     ]
    },
    {
     "name": "stdout",
     "output_type": "stream",
     "text": [
      "{'Train':  best_epoch_indx:62\n",
      " auc:0.9064806045624343 \n",
      " apur:0.8570284383701214 \n",
      " f1:0.7684475615370034 \n",
      " precision:0.7073985442217569 \n",
      " recall:0.841028984648213 \n",
      ", 'Validation':  best_epoch_indx:62\n",
      " auc:0.9064806045624343 \n",
      " apur:0.8570284383701214 \n",
      " f1:0.7684475615370034 \n",
      " precision:0.7073985442217569 \n",
      " recall:0.841028984648213 \n",
      ", 'Test':  best_epoch_indx:62\n",
      " auc:0.9064806045624343 \n",
      " apur:0.8570284383701214 \n",
      " f1:0.7684475615370034 \n",
      " precision:0.7073985442217569 \n",
      " recall:0.841028984648213 \n",
      "}\n",
      "=====Epoch 63\n",
      "Training...\n"
     ]
    },
    {
     "name": "stderr",
     "output_type": "stream",
     "text": [
      "Iteration:  47%|████▋     | 72/154 [00:01<00:01, 42.97it/s]"
     ]
    },
    {
     "name": "stdout",
     "output_type": "stream",
     "text": [
      "{'Train':  best_epoch_indx:63\n",
      " auc:0.9011564946837176 \n",
      " apur:0.8503276875239861 \n",
      " f1:0.762693187918515 \n",
      " precision:0.7287010042112083 \n",
      " recall:0.8000118546618458 \n",
      ", 'Validation':  best_epoch_indx:63\n",
      " auc:0.9011564946837176 \n",
      " apur:0.8503276875239861 \n",
      " f1:0.762693187918515 \n",
      " precision:0.7287010042112083 \n",
      " recall:0.8000118546618458 \n",
      ", 'Test':  best_epoch_indx:63\n",
      " auc:0.9011564946837176 \n",
      " apur:0.8503276875239861 \n",
      " f1:0.762693187918515 \n",
      " precision:0.7287010042112083 \n",
      " recall:0.8000118546618458 \n",
      "}\n",
      "=====Epoch 64\n",
      "Training...\n"
     ]
    },
    {
     "name": "stderr",
     "output_type": "stream",
     "text": [
      "Iteration: 100%|██████████| 154/154 [00:03<00:00, 44.30it/s]\n",
      "Iteration: 100%|██████████| 154/154 [00:03<00:00, 40.03it/s]\n",
      "Iteration:   8%|▊         | 12/154 [00:00<00:01, 111.76it/s]"
     ]
    },
    {
     "name": "stdout",
     "output_type": "stream",
     "text": [
      "Evaluating...\n",
      "Evaluating...\n"
     ]
    },
    {
     "name": "stderr",
     "output_type": "stream",
     "text": [
      "Iteration: 100%|██████████| 154/154 [00:03<00:00, 44.89it/s]\n",
      "Iteration:  73%|███████▎  | 113/154 [00:03<00:01, 39.33it/s]"
     ]
    },
    {
     "name": "stdout",
     "output_type": "stream",
     "text": [
      "Evaluating...\n"
     ]
    },
    {
     "name": "stderr",
     "output_type": "stream",
     "text": [
      "Iteration: 100%|██████████| 154/154 [00:01<00:00, 125.35it/s]\n",
      "Iteration: 100%|██████████| 154/154 [00:01<00:00, 123.65it/s]\n",
      "Iteration: 100%|██████████| 154/154 [00:04<00:00, 38.35it/s]]\n",
      "Iteration:  88%|████████▊ | 135/154 [00:03<00:00, 29.35it/s]"
     ]
    },
    {
     "name": "stdout",
     "output_type": "stream",
     "text": [
      "Evaluating...\n"
     ]
    },
    {
     "name": "stderr",
     "output_type": "stream",
     "text": [
      "Iteration: 100%|██████████| 154/154 [00:01<00:00, 115.44it/s]\n",
      "Iteration: 100%|██████████| 154/154 [00:04<00:00, 37.96it/s]\n",
      "Iteration:  39%|███▉      | 60/154 [00:00<00:00, 123.80it/s]"
     ]
    },
    {
     "name": "stdout",
     "output_type": "stream",
     "text": [
      "Evaluating...\n"
     ]
    },
    {
     "name": "stderr",
     "output_type": "stream",
     "text": [
      "Iteration: 100%|██████████| 154/154 [00:01<00:00, 123.10it/s]\n",
      "Iteration: 100%|██████████| 154/154 [00:01<00:00, 125.39it/s]\n",
      "Iteration: 100%|██████████| 154/154 [00:01<00:00, 119.35it/s]\n",
      "Iteration: 100%|██████████| 154/154 [00:02<00:00, 75.99it/s]\n",
      "Iteration: 100%|██████████| 154/154 [00:02<00:00, 68.05it/s]]\n",
      "Iteration: 100%|██████████| 154/154 [00:01<00:00, 127.79it/s]\n",
      "Iteration: 100%|██████████| 154/154 [00:01<00:00, 125.17it/s]\n",
      "Iteration: 100%|██████████| 154/154 [00:01<00:00, 103.22it/s]\n",
      "Iteration:  50%|█████     | 77/154 [00:01<00:01, 64.18it/s]]"
     ]
    },
    {
     "name": "stdout",
     "output_type": "stream",
     "text": [
      "{'Train':  best_epoch_indx:63\n",
      " auc:0.8963983003991614 \n",
      " apur:0.8440459629134971 \n",
      " f1:0.7557375697441112 \n",
      " precision:0.7046281584747066 \n",
      " recall:0.8148411569464201 \n",
      ", 'Validation':  best_epoch_indx:63\n",
      " auc:0.8963983003991614 \n",
      " apur:0.8440459629134971 \n",
      " f1:0.7557375697441112 \n",
      " precision:0.7046281584747066 \n",
      " recall:0.8148411569464201 \n",
      ", 'Test':  best_epoch_indx:63\n",
      " auc:0.8963983003991614 \n",
      " apur:0.8440459629134971 \n",
      " f1:0.7557375697441112 \n",
      " precision:0.7046281584747066 \n",
      " recall:0.8148411569464201 \n",
      "}\n",
      "=====Epoch 64\n",
      "Training...\n"
     ]
    },
    {
     "name": "stderr",
     "output_type": "stream",
     "text": [
      "Iteration: 100%|██████████| 154/154 [00:01<00:00, 81.97it/s] \n",
      "Iteration: 100%|██████████| 154/154 [00:01<00:00, 123.18it/s]\n",
      "Iteration: 100%|██████████| 154/154 [00:01<00:00, 108.05it/s]\n",
      "Iteration:   0%|          | 0/154 [00:00<?, ?it/s]3.02it/s]"
     ]
    },
    {
     "name": "stdout",
     "output_type": "stream",
     "text": [
      "{'Train':  best_epoch_indx:63\n",
      " auc:0.8961452436858126 \n",
      " apur:0.8416704149644099 \n",
      " f1:0.7538223030043837 \n",
      " precision:0.6864806971423008 \n",
      " recall:0.8358129334360738 \n",
      ", 'Validation':  best_epoch_indx:63\n",
      " auc:0.8961452436858126 \n",
      " apur:0.8416704149644099 \n",
      " f1:0.7538223030043837 \n",
      " precision:0.6864806971423008 \n",
      " recall:0.8358129334360738 \n",
      ", 'Test':  best_epoch_indx:63\n",
      " auc:0.8961452436858126 \n",
      " apur:0.8416704149644099 \n",
      " f1:0.7538223030043837 \n",
      " precision:0.6864806971423008 \n",
      " recall:0.8358129334360738 \n",
      "}\n",
      "=====Epoch 64\n",
      "Training...\n",
      "{'Train':  best_epoch_indx:65\n",
      " auc:0.9032444391147199 \n",
      " apur:0.8526657205024438 \n",
      " f1:0.765591763804986 \n",
      " precision:0.7340512318485887 \n",
      " recall:0.7999644381223329 \n",
      ", 'Validation':  best_epoch_indx:65\n",
      " auc:0.9032444391147199 \n",
      " apur:0.8526657205024438 \n",
      " f1:0.765591763804986 \n",
      " precision:0.7340512318485887 \n",
      " recall:0.7999644381223329 \n",
      ", 'Test':  best_epoch_indx:65\n",
      " auc:0.9032444391147199 \n",
      " apur:0.8526657205024438 \n",
      " f1:0.765591763804986 \n",
      " precision:0.7340512318485887 \n",
      " recall:0.7999644381223329 \n",
      "}\n",
      "=====Epoch 66\n",
      "Training...\n",
      "{'Train':  best_epoch_indx:63\n",
      " auc:0.9024635025998906 \n",
      " apur:0.8518382143864226 \n",
      " f1:0.7611825051017594 \n",
      " precision:0.7117219328554484 \n",
      " recall:0.8180309406674174 \n",
      ", 'Validation':  best_epoch_indx:63\n",
      " auc:0.9024635025998906 \n",
      " apur:0.8518382143864226 \n",
      " f1:0.7611825051017594 \n",
      " precision:0.7117219328554484 \n",
      " recall:0.8180309406674174 \n",
      ", 'Test':  best_epoch_indx:63\n",
      " auc:0.9024635025998906 \n",
      " apur:0.8518382143864226 \n",
      " f1:0.7611825051017594 \n",
      " precision:0.7117219328554484 \n",
      " recall:0.8180309406674174 \n",
      "}\n",
      "=====Epoch 64\n",
      "Training...\n"
     ]
    },
    {
     "name": "stderr",
     "output_type": "stream",
     "text": [
      "Iteration: 100%|██████████| 154/154 [00:01<00:00, 86.93it/s] \n",
      "Iteration:   0%|          | 0/154 [00:00<?, ?it/s]5.26it/s]"
     ]
    },
    {
     "name": "stdout",
     "output_type": "stream",
     "text": [
      "{'Train':  best_epoch_indx:64\n",
      " auc:0.8899489522098232 \n",
      " apur:0.8339485621087533 \n",
      " f1:0.7463255307566684 \n",
      " precision:0.6900196285671146 \n",
      " recall:0.8126370695275917 \n",
      ", 'Validation':  best_epoch_indx:64\n",
      " auc:0.8899489522098232 \n",
      " apur:0.8339485621087533 \n",
      " f1:0.7463255307566684 \n",
      " precision:0.6900196285671146 \n",
      " recall:0.8126370695275917 \n",
      ", 'Test':  best_epoch_indx:64\n",
      " auc:0.8899489522098232 \n",
      " apur:0.8339485621087533 \n",
      " f1:0.7463255307566684 \n",
      " precision:0.6900196285671146 \n",
      " recall:0.8126370695275917 \n",
      "}\n",
      "=====Epoch 65\n",
      "Training...\n"
     ]
    },
    {
     "name": "stderr",
     "output_type": "stream",
     "text": [
      "Iteration: 100%|██████████| 154/154 [00:03<00:00, 38.77it/s]\n",
      "Iteration:   0%|          | 0/154 [00:00<?, ?it/s]"
     ]
    },
    {
     "name": "stdout",
     "output_type": "stream",
     "text": [
      "Evaluating...\n"
     ]
    },
    {
     "name": "stderr",
     "output_type": "stream",
     "text": [
      "Iteration: 100%|██████████| 154/154 [00:03<00:00, 43.15it/s]\n",
      "Iteration: 100%|██████████| 154/154 [00:03<00:00, 44.44it/s]]\n",
      "Iteration:   7%|▋         | 11/154 [00:00<00:01, 109.36it/s]"
     ]
    },
    {
     "name": "stdout",
     "output_type": "stream",
     "text": [
      "Evaluating...\n",
      "Evaluating...\n"
     ]
    },
    {
     "name": "stderr",
     "output_type": "stream",
     "text": [
      "Iteration: 100%|██████████| 154/154 [00:01<00:00, 125.65it/s]\n",
      "Iteration: 100%|██████████| 154/154 [00:04<00:00, 37.33it/s]\n",
      "Iteration:   0%|          | 0/154 [00:00<?, ?it/s]"
     ]
    },
    {
     "name": "stdout",
     "output_type": "stream",
     "text": [
      "Evaluating...\n"
     ]
    },
    {
     "name": "stderr",
     "output_type": "stream",
     "text": [
      "Iteration: 100%|██████████| 154/154 [00:01<00:00, 124.62it/s]\n",
      "Iteration: 100%|██████████| 154/154 [00:01<00:00, 115.93it/s]\n",
      "Iteration: 100%|██████████| 154/154 [00:03<00:00, 39.83it/s]\n",
      "Iteration:  51%|█████     | 78/154 [00:00<00:00, 125.81it/s]"
     ]
    },
    {
     "name": "stdout",
     "output_type": "stream",
     "text": [
      "Evaluating...\n"
     ]
    },
    {
     "name": "stderr",
     "output_type": "stream",
     "text": [
      "Iteration: 100%|██████████| 154/154 [00:01<00:00, 125.28it/s]\n",
      "Iteration: 100%|██████████| 154/154 [00:01<00:00, 91.64it/s] \n",
      "Iteration: 100%|██████████| 154/154 [00:01<00:00, 105.43it/s]\n",
      "Iteration: 100%|██████████| 154/154 [00:01<00:00, 94.23it/s] \n",
      "Iteration: 100%|██████████| 154/154 [00:01<00:00, 77.59it/s]]\n",
      "Iteration: 100%|██████████| 154/154 [00:01<00:00, 113.53it/s]\n",
      "Iteration: 100%|██████████| 154/154 [00:01<00:00, 89.63it/s] \n",
      "Iteration:  17%|█▋        | 26/154 [00:00<00:01, 84.02it/s]s]"
     ]
    },
    {
     "name": "stdout",
     "output_type": "stream",
     "text": [
      "{'Train':  best_epoch_indx:64\n",
      " auc:0.8913857739821596 \n",
      " apur:0.835818883656142 \n",
      " f1:0.7482468818585728 \n",
      " precision:0.6821864324060517 \n",
      " recall:0.8284732100521575 \n",
      ", 'Validation':  best_epoch_indx:64\n",
      " auc:0.8913857739821596 \n",
      " apur:0.835818883656142 \n",
      " f1:0.7482468818585728 \n",
      " precision:0.6821864324060517 \n",
      " recall:0.8284732100521575 \n",
      ", 'Test':  best_epoch_indx:64\n",
      " auc:0.8913857739821596 \n",
      " apur:0.835818883656142 \n",
      " f1:0.7482468818585728 \n",
      " precision:0.6821864324060517 \n",
      " recall:0.8284732100521575 \n",
      "}\n",
      "=====Epoch 65\n",
      "Training...\n"
     ]
    },
    {
     "name": "stderr",
     "output_type": "stream",
     "text": [
      "Iteration: 100%|██████████| 154/154 [00:01<00:00, 88.53it/s] \n",
      "Iteration: 100%|██████████| 154/154 [00:01<00:00, 103.38it/s]\n",
      "Iteration: 100%|██████████| 154/154 [00:01<00:00, 109.37it/s]\n",
      "Iteration:  43%|████▎     | 66/154 [00:01<00:02, 38.28it/s]]"
     ]
    },
    {
     "name": "stdout",
     "output_type": "stream",
     "text": [
      "{'Train':  best_epoch_indx:66\n",
      " auc:0.9081749114051234 \n",
      " apur:0.8592544718527066 \n",
      " f1:0.7711703793226579 \n",
      " precision:0.7186076273355516 \n",
      " recall:0.8320293978188715 \n",
      ", 'Validation':  best_epoch_indx:66\n",
      " auc:0.9081749114051234 \n",
      " apur:0.8592544718527066 \n",
      " f1:0.7711703793226579 \n",
      " precision:0.7186076273355516 \n",
      " recall:0.8320293978188715 \n",
      ", 'Test':  best_epoch_indx:66\n",
      " auc:0.9081749114051234 \n",
      " apur:0.8592544718527066 \n",
      " f1:0.7711703793226579 \n",
      " precision:0.7186076273355516 \n",
      " recall:0.8320293978188715 \n",
      "}\n",
      "=====Epoch 67\n",
      "Training...\n",
      "{'Train':  best_epoch_indx:64\n",
      " auc:0.8913516985837697 \n",
      " apur:0.835614178271205 \n",
      " f1:0.7494493081050551 \n",
      " precision:0.7157343977560817 \n",
      " recall:0.786497540157667 \n",
      ", 'Validation':  best_epoch_indx:64\n",
      " auc:0.8913516985837697 \n",
      " apur:0.835614178271205 \n",
      " f1:0.7494493081050551 \n",
      " precision:0.7157343977560817 \n",
      " recall:0.786497540157667 \n",
      ", 'Test':  best_epoch_indx:64\n",
      " auc:0.8913516985837697 \n",
      " apur:0.835614178271205 \n",
      " f1:0.7494493081050551 \n",
      " precision:0.7157343977560817 \n",
      " recall:0.786497540157667 \n",
      "}\n",
      "=====Epoch 65\n",
      "Training...\n"
     ]
    },
    {
     "name": "stderr",
     "output_type": "stream",
     "text": [
      "Iteration: 100%|██████████| 154/154 [00:01<00:00, 108.58it/s]\n",
      "Iteration:  34%|███▍      | 52/154 [00:01<00:02, 45.73it/s]]]"
     ]
    },
    {
     "name": "stdout",
     "output_type": "stream",
     "text": [
      "{'Train':  best_epoch_indx:64\n",
      " auc:0.8954652023377196 \n",
      " apur:0.8423586946609112 \n",
      " f1:0.7507937800211676 \n",
      " precision:0.6924116528180999 \n",
      " recall:0.8199276865627408 \n",
      ", 'Validation':  best_epoch_indx:64\n",
      " auc:0.8954652023377196 \n",
      " apur:0.8423586946609112 \n",
      " f1:0.7507937800211676 \n",
      " precision:0.6924116528180999 \n",
      " recall:0.8199276865627408 \n",
      ", 'Test':  best_epoch_indx:64\n",
      " auc:0.8954652023377196 \n",
      " apur:0.8423586946609112 \n",
      " f1:0.7507937800211676 \n",
      " precision:0.6924116528180999 \n",
      " recall:0.8199276865627408 \n",
      "}\n",
      "=====Epoch 65\n",
      "Training...\n"
     ]
    },
    {
     "name": "stderr",
     "output_type": "stream",
     "text": [
      "Iteration: 100%|██████████| 154/154 [00:01<00:00, 113.12it/s]\n",
      "Iteration:  53%|█████▎    | 82/154 [00:01<00:01, 45.70it/s]]"
     ]
    },
    {
     "name": "stdout",
     "output_type": "stream",
     "text": [
      "{'Train':  best_epoch_indx:65\n",
      " auc:0.8970325221902946 \n",
      " apur:0.8447369260304686 \n",
      " f1:0.7590466788887321 \n",
      " precision:0.724063710718898 \n",
      " recall:0.7975816489834627 \n",
      ", 'Validation':  best_epoch_indx:65\n",
      " auc:0.8970325221902946 \n",
      " apur:0.8447369260304686 \n",
      " f1:0.7590466788887321 \n",
      " precision:0.724063710718898 \n",
      " recall:0.7975816489834627 \n",
      ", 'Test':  best_epoch_indx:65\n",
      " auc:0.8970325221902946 \n",
      " apur:0.8447369260304686 \n",
      " f1:0.7590466788887321 \n",
      " precision:0.724063710718898 \n",
      " recall:0.7975816489834627 \n",
      "}\n",
      "=====Epoch 66\n",
      "Training...\n"
     ]
    },
    {
     "name": "stderr",
     "output_type": "stream",
     "text": [
      "Iteration: 100%|██████████| 154/154 [00:03<00:00, 39.71it/s]\n",
      "Iteration:  73%|███████▎  | 112/154 [00:02<00:00, 45.70it/s]"
     ]
    },
    {
     "name": "stdout",
     "output_type": "stream",
     "text": [
      "Evaluating...\n"
     ]
    },
    {
     "name": "stderr",
     "output_type": "stream",
     "text": [
      "Iteration: 100%|██████████| 154/154 [00:03<00:00, 44.94it/s]]\n",
      "Iteration:  56%|█████▌    | 86/154 [00:02<00:01, 36.58it/s]"
     ]
    },
    {
     "name": "stdout",
     "output_type": "stream",
     "text": [
      "Evaluating...\n",
      "Evaluating...\n"
     ]
    },
    {
     "name": "stderr",
     "output_type": "stream",
     "text": [
      "Iteration: 100%|██████████| 154/154 [00:01<00:00, 119.11it/s]\n",
      "Iteration: 100%|██████████| 154/154 [00:03<00:00, 43.95it/s]\n",
      "Iteration: 100%|██████████| 154/154 [00:01<00:00, 125.80it/s]\n",
      "Iteration: 100%|██████████| 154/154 [00:01<00:00, 120.67it/s]\n",
      "Iteration: 100%|██████████| 154/154 [00:03<00:00, 38.75it/s]\n",
      "Iteration: 100%|██████████| 154/154 [00:03<00:00, 43.62it/s]\n",
      "Iteration:   0%|          | 0/154 [00:00<?, ?it/s]"
     ]
    },
    {
     "name": "stdout",
     "output_type": "stream",
     "text": [
      "Evaluating...\n",
      "Evaluating...\n"
     ]
    },
    {
     "name": "stderr",
     "output_type": "stream",
     "text": [
      "Iteration: 100%|██████████| 154/154 [00:01<00:00, 84.86it/s] \n",
      "Iteration: 100%|██████████| 154/154 [00:01<00:00, 119.76it/s]\n",
      "Iteration: 100%|██████████| 154/154 [00:01<00:00, 117.18it/s]\n",
      "Iteration: 100%|██████████| 154/154 [00:01<00:00, 118.42it/s]\n",
      "Iteration: 100%|██████████| 154/154 [00:01<00:00, 96.25it/s] \n",
      "Iteration: 100%|██████████| 154/154 [00:01<00:00, 127.03it/s]\n",
      "Iteration: 100%|██████████| 154/154 [00:01<00:00, 112.61it/s]\n",
      "Iteration:  81%|████████  | 124/154 [00:01<00:00, 84.75it/s]]"
     ]
    },
    {
     "name": "stdout",
     "output_type": "stream",
     "text": [
      "{'Train':  best_epoch_indx:65\n",
      " auc:0.8963521452689355 \n",
      " apur:0.8432779279757657 \n",
      " f1:0.7505883583494587 \n",
      " precision:0.6715956948993916 \n",
      " recall:0.8506401137980085 \n",
      ", 'Validation':  best_epoch_indx:65\n",
      " auc:0.8963521452689355 \n",
      " apur:0.8432779279757657 \n",
      " f1:0.7505883583494587 \n",
      " precision:0.6715956948993916 \n",
      " recall:0.8506401137980085 \n",
      ", 'Test':  best_epoch_indx:65\n",
      " auc:0.8963521452689355 \n",
      " apur:0.8432779279757657 \n",
      " f1:0.7505883583494587 \n",
      " precision:0.6715956948993916 \n",
      " recall:0.8506401137980085 \n",
      "}\n",
      "=====Epoch 66\n",
      "Training...\n"
     ]
    },
    {
     "name": "stderr",
     "output_type": "stream",
     "text": [
      "Iteration: 100%|██████████| 154/154 [00:01<00:00, 81.61it/s] \n",
      "Iteration: 100%|██████████| 154/154 [00:01<00:00, 127.86it/s]\n",
      "Iteration: 100%|██████████| 154/154 [00:01<00:00, 90.20it/s] \n",
      "Iteration:  26%|██▌       | 40/154 [00:00<00:01, 73.68it/s]"
     ]
    },
    {
     "name": "stdout",
     "output_type": "stream",
     "text": [
      "{'Train':  best_epoch_indx:65\n",
      " auc:0.9004753208147891 \n",
      " apur:0.8484694942421422 \n",
      " f1:0.7616540103098497 \n",
      " precision:0.7152672947790328 \n",
      " recall:0.8144745421136862 \n",
      ", 'Validation':  best_epoch_indx:65\n",
      " auc:0.9004753208147891 \n",
      " apur:0.8484694942421422 \n",
      " f1:0.7616540103098497 \n",
      " precision:0.7152672947790328 \n",
      " recall:0.8144745421136862 \n",
      ", 'Test':  best_epoch_indx:65\n",
      " auc:0.9004753208147891 \n",
      " apur:0.8484694942421422 \n",
      " f1:0.7616540103098497 \n",
      " precision:0.7152672947790328 \n",
      " recall:0.8144745421136862 \n",
      "}\n",
      "=====Epoch 66\n",
      "Training...\n",
      "{'Train':  best_epoch_indx:67\n",
      " auc:0.9176796193942357 \n",
      " apur:0.8743470227298705 \n",
      " f1:0.7841159258743208 \n",
      " precision:0.7399673907326566 \n",
      " recall:0.8338667614983405 \n",
      ", 'Validation':  best_epoch_indx:67\n",
      " auc:0.9176796193942357 \n",
      " apur:0.8743470227298705 \n",
      " f1:0.7841159258743208 \n",
      " precision:0.7399673907326566 \n",
      " recall:0.8338667614983405 \n",
      ", 'Test':  best_epoch_indx:67\n",
      " auc:0.9176796193942357 \n",
      " apur:0.8743470227298705 \n",
      " f1:0.7841159258743208 \n",
      " precision:0.7399673907326566 \n",
      " recall:0.8338667614983405 \n",
      "}\n",
      "=====Epoch 68\n",
      "Training...\n"
     ]
    },
    {
     "name": "stderr",
     "output_type": "stream",
     "text": [
      "Iteration: 100%|██████████| 154/154 [00:01<00:00, 100.80it/s]\n",
      "Iteration: 100%|██████████| 154/154 [00:01<00:00, 127.34it/s]\n",
      "Iteration:   3%|▎         | 5/154 [00:00<00:03, 42.86it/s]]"
     ]
    },
    {
     "name": "stdout",
     "output_type": "stream",
     "text": [
      "{'Train':  best_epoch_indx:65\n",
      " auc:0.9044393136172229 \n",
      " apur:0.8558762794376006 \n",
      " f1:0.7608019447421386 \n",
      " precision:0.6804919105957168 \n",
      " recall:0.8626044692075159 \n",
      ", 'Validation':  best_epoch_indx:65\n",
      " auc:0.9044393136172229 \n",
      " apur:0.8558762794376006 \n",
      " f1:0.7608019447421386 \n",
      " precision:0.6804919105957168 \n",
      " recall:0.8626044692075159 \n",
      ", 'Test':  best_epoch_indx:65\n",
      " auc:0.9044393136172229 \n",
      " apur:0.8558762794376006 \n",
      " f1:0.7608019447421386 \n",
      " precision:0.6804919105957168 \n",
      " recall:0.8626044692075159 \n",
      "}\n",
      "=====Epoch 66\n",
      "Training...\n"
     ]
    },
    {
     "name": "stderr",
     "output_type": "stream",
     "text": [
      "\r",
      "Iteration:  38%|███▊      | 58/154 [00:01<00:03, 29.13it/s]\r",
      "Iteration:  60%|██████    | 93/154 [00:02<00:01, 38.98it/s]\r",
      "Iteration:  45%|████▌     | 70/154 [00:01<00:01, 45.70it/s]\r",
      "Iteration:   6%|▋         | 10/154 [00:00<00:03, 43.88it/s]\r",
      "Iteration:  41%|████      | 63/154 [00:01<00:02, 33.08it/s]\r",
      "Iteration:  64%|██████▎   | 98/154 [00:02<00:01, 40.85it/s]\r",
      "Iteration:  49%|████▊     | 75/154 [00:01<00:01, 45.73it/s]\r",
      "Iteration:  10%|▉         | 15/154 [00:00<00:03, 42.01it/s]"
     ]
    },
    {
     "name": "stdout",
     "output_type": "stream",
     "text": [
      "{'Train':  best_epoch_indx:66\n",
      " auc:0.9075401971232195 \n",
      " apur:0.8594019380440534 \n",
      " f1:0.7711855104281009 \n",
      " precision:0.7180234043640452 \n",
      " recall:0.832849267974631 \n",
      ", 'Validation':  best_epoch_indx:66\n",
      " auc:0.9075401971232195 \n",
      " apur:0.8594019380440534 \n",
      " f1:0.7711855104281009 \n",
      " precision:0.7180234043640452 \n",
      " recall:0.832849267974631 \n",
      ", 'Test':  best_epoch_indx:66\n",
      " auc:0.9075401971232195 \n",
      " apur:0.8594019380440534 \n",
      " f1:0.7711855104281009 \n",
      " precision:0.7180234043640452 \n",
      " recall:0.832849267974631 \n",
      "}\n",
      "=====Epoch 67\n",
      "Training...\n"
     ]
    },
    {
     "name": "stderr",
     "output_type": "stream",
     "text": [
      "Iteration: 100%|██████████| 154/154 [00:03<00:00, 39.85it/s]\n",
      "Iteration:   8%|▊         | 12/154 [00:00<00:01, 113.05it/s]"
     ]
    },
    {
     "name": "stdout",
     "output_type": "stream",
     "text": [
      "Evaluating...\n"
     ]
    },
    {
     "name": "stderr",
     "output_type": "stream",
     "text": [
      "Iteration: 100%|██████████| 154/154 [00:03<00:00, 45.59it/s]\n",
      "Iteration:   7%|▋         | 11/154 [00:00<00:01, 109.19it/s]"
     ]
    },
    {
     "name": "stdout",
     "output_type": "stream",
     "text": [
      "Evaluating...\n"
     ]
    },
    {
     "name": "stderr",
     "output_type": "stream",
     "text": [
      "\r",
      "Iteration:  52%|█████▏    | 80/154 [00:00<00:00, 128.79it/s]\r",
      "Iteration:  62%|██████▏   | 95/154 [00:02<00:01, 44.98it/s]\r",
      "Iteration:  96%|█████████▌| 148/154 [00:03<00:00, 45.04it/s]\r",
      "Iteration:  47%|████▋     | 73/154 [00:01<00:01, 41.11it/s]\r",
      "Iteration:  16%|█▌        | 24/154 [00:00<00:01, 120.24it/s]\r",
      "Iteration:  60%|██████    | 93/154 [00:00<00:00, 129.15it/s]\r",
      "Iteration:  65%|██████▍   | 100/154 [00:02<00:01, 45.20it/s]\r",
      "Iteration:  99%|█████████▉| 153/154 [00:03<00:00, 45.03it/s]\r",
      "Iteration: 100%|██████████| 154/154 [00:03<00:00, 40.54it/s]\n",
      "\r",
      "Iteration:   0%|          | 0/154 [00:00<?, ?it/s]\r",
      "Iteration:  24%|██▍       | 37/154 [00:00<00:00, 123.36it/s]\r",
      "Iteration:  51%|█████     | 78/154 [00:01<00:01, 41.46it/s]"
     ]
    },
    {
     "name": "stdout",
     "output_type": "stream",
     "text": [
      "Evaluating...\n"
     ]
    },
    {
     "name": "stderr",
     "output_type": "stream",
     "text": [
      "Iteration: 100%|██████████| 154/154 [00:01<00:00, 119.35it/s]\n",
      "Iteration: 100%|██████████| 154/154 [00:01<00:00, 115.97it/s]\n",
      "Iteration: 100%|██████████| 154/154 [00:03<00:00, 44.33it/s]\n",
      "Iteration: 100%|██████████| 154/154 [00:01<00:00, 118.89it/s]\n",
      "Iteration:  24%|██▍       | 37/154 [00:00<00:00, 122.87it/s]"
     ]
    },
    {
     "name": "stdout",
     "output_type": "stream",
     "text": [
      "Evaluating...\n"
     ]
    },
    {
     "name": "stderr",
     "output_type": "stream",
     "text": [
      "Iteration: 100%|██████████| 154/154 [00:03<00:00, 38.76it/s]]\n",
      "Iteration:   8%|▊         | 12/154 [00:00<00:01, 111.50it/s]]"
     ]
    },
    {
     "name": "stdout",
     "output_type": "stream",
     "text": [
      "Evaluating...\n"
     ]
    },
    {
     "name": "stderr",
     "output_type": "stream",
     "text": [
      "Iteration: 100%|██████████| 154/154 [00:01<00:00, 125.83it/s]\n",
      "Iteration: 100%|██████████| 154/154 [00:01<00:00, 118.59it/s]\n",
      "Iteration: 100%|██████████| 154/154 [00:01<00:00, 126.32it/s]\n",
      "Iteration: 100%|██████████| 154/154 [00:01<00:00, 125.35it/s]\n",
      "Iteration: 100%|██████████| 154/154 [00:01<00:00, 81.53it/s] \n",
      "Iteration: 100%|██████████| 154/154 [00:01<00:00, 102.23it/s]\n",
      "Iteration: 100%|██████████| 154/154 [00:01<00:00, 90.81it/s] \n",
      "Iteration: 100%|██████████| 154/154 [00:01<00:00, 117.56it/s]\n"
     ]
    },
    {
     "name": "stdout",
     "output_type": "stream",
     "text": [
      "{'Train':  best_epoch_indx:66\n",
      " auc:0.9041133266813969 \n",
      " apur:0.8546751931685711 \n",
      " f1:0.7618316163033979 \n",
      " precision:0.6886101402786422 \n",
      " recall:0.8524774774774775 \n",
      ", 'Validation':  best_epoch_indx:66\n",
      " auc:0.9041133266813969 \n",
      " apur:0.8546751931685711 \n",
      " f1:0.7618316163033979 \n",
      " precision:0.6886101402786422 \n",
      " recall:0.8524774774774775 \n",
      ", 'Test':  best_epoch_indx:66\n",
      " auc:0.9041133266813969 \n",
      " apur:0.8546751931685711 \n",
      " f1:0.7618316163033979 \n",
      " precision:0.6886101402786422 \n",
      " recall:0.8524774774774775 \n",
      "}\n",
      "=====Epoch 67\n",
      "Training...\n"
     ]
    },
    {
     "name": "stderr",
     "output_type": "stream",
     "text": [
      "Iteration: 100%|██████████| 154/154 [00:01<00:00, 85.33it/s] \n",
      "Iteration: 100%|██████████| 154/154 [00:01<00:00, 102.15it/s]\n",
      "Iteration:   0%|          | 0/154 [00:00<?, ?it/s]9.21it/s]s]"
     ]
    },
    {
     "name": "stdout",
     "output_type": "stream",
     "text": [
      "{'Train':  best_epoch_indx:66\n",
      " auc:0.909566248584938 \n",
      " apur:0.8635201201864809 \n",
      " f1:0.7705362275203241 \n",
      " precision:0.7158478282982402 \n",
      " recall:0.8342718273961235 \n",
      ", 'Validation':  best_epoch_indx:66\n",
      " auc:0.909566248584938 \n",
      " apur:0.8635201201864809 \n",
      " f1:0.7705362275203241 \n",
      " precision:0.7158478282982402 \n",
      " recall:0.8342718273961235 \n",
      ", 'Test':  best_epoch_indx:66\n",
      " auc:0.909566248584938 \n",
      " apur:0.8635201201864809 \n",
      " f1:0.7705362275203241 \n",
      " precision:0.7158478282982402 \n",
      " recall:0.8342718273961235 \n",
      "}\n",
      "=====Epoch 67\n",
      "Training...\n",
      "{'Train':  best_epoch_indx:68\n",
      " auc:0.9247059325870662 \n",
      " apur:0.8842604061023889 \n",
      " f1:0.7934680321062828 \n",
      " precision:0.7443140513033545 \n",
      " recall:0.8495732574679943 \n",
      ", 'Validation':  best_epoch_indx:68\n",
      " auc:0.9247059325870662 \n",
      " apur:0.8842604061023889 \n",
      " f1:0.7934680321062828 \n",
      " precision:0.7443140513033545 \n",
      " recall:0.8495732574679943 \n",
      ", 'Test':  best_epoch_indx:68\n",
      " auc:0.9247059325870662 \n",
      " apur:0.8842604061023889 \n",
      " f1:0.7934680321062828 \n",
      " precision:0.7443140513033545 \n",
      " recall:0.8495732574679943 \n",
      "}\n",
      "=====Epoch 69\n",
      "Training...\n"
     ]
    },
    {
     "name": "stderr",
     "output_type": "stream",
     "text": [
      "Iteration: 100%|██████████| 154/154 [00:01<00:00, 112.13it/s]\n",
      "Iteration:  24%|██▍       | 37/154 [00:00<00:02, 45.95it/s]"
     ]
    },
    {
     "name": "stdout",
     "output_type": "stream",
     "text": [
      "{'Train':  best_epoch_indx:66\n",
      " auc:0.9085250018505088 \n",
      " apur:0.8598350332909962 \n",
      " f1:0.770296481019673 \n",
      " precision:0.7232426244861856 \n",
      " recall:0.823898998281074 \n",
      ", 'Validation':  best_epoch_indx:66\n",
      " auc:0.9085250018505088 \n",
      " apur:0.8598350332909962 \n",
      " f1:0.770296481019673 \n",
      " precision:0.7232426244861856 \n",
      " recall:0.823898998281074 \n",
      ", 'Test':  best_epoch_indx:66\n",
      " auc:0.9085250018505088 \n",
      " apur:0.8598350332909962 \n",
      " f1:0.770296481019673 \n",
      " precision:0.7232426244861856 \n",
      " recall:0.823898998281074 \n",
      "}\n",
      "=====Epoch 67\n",
      "Training...\n"
     ]
    },
    {
     "name": "stderr",
     "output_type": "stream",
     "text": [
      "Iteration: 100%|██████████| 154/154 [00:01<00:00, 82.16it/s] \n",
      "Iteration:  63%|██████▎   | 97/154 [00:02<00:01, 45.71it/s]]"
     ]
    },
    {
     "name": "stdout",
     "output_type": "stream",
     "text": [
      "{'Train':  best_epoch_indx:67\n",
      " auc:0.9134094034365806 \n",
      " apur:0.8666784053394951 \n",
      " f1:0.7737637989847171 \n",
      " precision:0.7074656188605108 \n",
      " recall:0.8537727461324166 \n",
      ", 'Validation':  best_epoch_indx:67\n",
      " auc:0.9134094034365806 \n",
      " apur:0.8666784053394951 \n",
      " f1:0.7737637989847171 \n",
      " precision:0.7074656188605108 \n",
      " recall:0.8537727461324166 \n",
      ", 'Test':  best_epoch_indx:67\n",
      " auc:0.9134094034365806 \n",
      " apur:0.8666784053394951 \n",
      " f1:0.7737637989847171 \n",
      " precision:0.7074656188605108 \n",
      " recall:0.8537727461324166 \n",
      "}\n",
      "=====Epoch 68\n",
      "Training...\n"
     ]
    },
    {
     "name": "stderr",
     "output_type": "stream",
     "text": [
      "Iteration: 100%|██████████| 154/154 [00:04<00:00, 37.74it/s]\n",
      "Iteration:  89%|████████▉ | 137/154 [00:02<00:00, 45.74it/s]"
     ]
    },
    {
     "name": "stdout",
     "output_type": "stream",
     "text": [
      "Evaluating...\n"
     ]
    },
    {
     "name": "stderr",
     "output_type": "stream",
     "text": [
      "Iteration: 100%|██████████| 154/154 [00:03<00:00, 45.89it/s]\n",
      "Iteration:   7%|▋         | 11/154 [00:00<00:01, 109.96it/s]"
     ]
    },
    {
     "name": "stdout",
     "output_type": "stream",
     "text": [
      "Evaluating...\n",
      "Evaluating...\n"
     ]
    },
    {
     "name": "stderr",
     "output_type": "stream",
     "text": [
      "Iteration: 100%|██████████| 154/154 [00:03<00:00, 42.72it/s]\n",
      "Iteration: 100%|██████████| 154/154 [00:03<00:00, 41.85it/s]]\n",
      "Iteration:  78%|███████▊  | 120/154 [00:01<00:00, 72.06it/s]]"
     ]
    },
    {
     "name": "stdout",
     "output_type": "stream",
     "text": [
      "Evaluating...\n"
     ]
    },
    {
     "name": "stderr",
     "output_type": "stream",
     "text": [
      "Iteration: 100%|██████████| 154/154 [00:01<00:00, 118.80it/s]\n",
      "Iteration: 100%|██████████| 154/154 [00:01<00:00, 126.54it/s]\n",
      "Iteration: 100%|██████████| 154/154 [00:02<00:00, 70.84it/s]\n",
      "Iteration: 100%|██████████| 154/154 [00:03<00:00, 43.49it/s]]\n",
      "Iteration:  20%|██        | 31/154 [00:00<00:01, 66.25it/s]"
     ]
    },
    {
     "name": "stdout",
     "output_type": "stream",
     "text": [
      "Evaluating...\n"
     ]
    },
    {
     "name": "stderr",
     "output_type": "stream",
     "text": [
      "Iteration: 100%|██████████| 154/154 [00:01<00:00, 127.92it/s]\n",
      "Iteration: 100%|██████████| 154/154 [00:01<00:00, 117.70it/s]\n",
      "Iteration: 100%|██████████| 154/154 [00:01<00:00, 115.35it/s]\n",
      "Iteration: 100%|██████████| 154/154 [00:02<00:00, 67.93it/s]]\n",
      "Iteration: 100%|██████████| 154/154 [00:01<00:00, 119.41it/s]\n",
      "Iteration: 100%|██████████| 154/154 [00:01<00:00, 81.55it/s] \n",
      "Iteration: 100%|██████████| 154/154 [00:01<00:00, 107.63it/s]\n",
      "Iteration: 100%|██████████| 154/154 [00:01<00:00, 91.72it/s] \n",
      "Iteration: 100%|██████████| 154/154 [00:01<00:00, 124.43it/s]\n",
      "Iteration:   3%|▎         | 5/154 [00:00<00:03, 43.00it/s]]"
     ]
    },
    {
     "name": "stdout",
     "output_type": "stream",
     "text": [
      "{'Train':  best_epoch_indx:67\n",
      " auc:0.9164388855486153 \n",
      " apur:0.8705910566123455 \n",
      " f1:0.7820358626722065 \n",
      " precision:0.7256632678942829 \n",
      " recall:0.84790468851876 \n",
      ", 'Validation':  best_epoch_indx:67\n",
      " auc:0.9164388855486153 \n",
      " apur:0.8705910566123455 \n",
      " f1:0.7820358626722065 \n",
      " precision:0.7256632678942829 \n",
      " recall:0.84790468851876 \n",
      ", 'Test':  best_epoch_indx:67\n",
      " auc:0.9164388855486153 \n",
      " apur:0.8705910566123455 \n",
      " f1:0.7820358626722065 \n",
      " precision:0.7256632678942829 \n",
      " recall:0.84790468851876 \n",
      "}\n",
      "=====Epoch 68\n",
      "Training...\n"
     ]
    },
    {
     "name": "stderr",
     "output_type": "stream",
     "text": [
      "Iteration:   4%|▍         | 6/154 [00:00<00:02, 50.71it/s]s]]"
     ]
    },
    {
     "name": "stdout",
     "output_type": "stream",
     "text": [
      "{'Train':  best_epoch_indx:67\n",
      " auc:0.9208426078784593 \n",
      " apur:0.8776431446981982 \n",
      " f1:0.7886578032768798 \n",
      " precision:0.7375535262859206 \n",
      " recall:0.8473712287357004 \n",
      ", 'Validation':  best_epoch_indx:67\n",
      " auc:0.9208426078784593 \n",
      " apur:0.8776431446981982 \n",
      " f1:0.7886578032768798 \n",
      " precision:0.7375535262859206 \n",
      " recall:0.8473712287357004 \n",
      ", 'Test':  best_epoch_indx:67\n",
      " auc:0.9208426078784593 \n",
      " apur:0.8776431446981982 \n",
      " f1:0.7886578032768798 \n",
      " precision:0.7375535262859206 \n",
      " recall:0.8473712287357004 \n",
      "}\n",
      "=====Epoch 68\n",
      "Training...\n"
     ]
    },
    {
     "name": "stderr",
     "output_type": "stream",
     "text": [
      "Iteration: 100%|██████████| 154/154 [00:01<00:00, 101.35it/s]\n",
      "Iteration: 100%|██████████| 154/154 [00:01<00:00, 78.37it/s] \n",
      "Iteration:  32%|███▏      | 50/154 [00:01<00:02, 34.68it/s]"
     ]
    },
    {
     "name": "stdout",
     "output_type": "stream",
     "text": [
      "{'Train':  best_epoch_indx:67\n",
      " auc:0.91500696575822 \n",
      " apur:0.86875304443536 \n",
      " f1:0.7786412078152753 \n",
      " precision:0.7321503131524009 \n",
      " recall:0.8314366998577525 \n",
      ", 'Validation':  best_epoch_indx:67\n",
      " auc:0.91500696575822 \n",
      " apur:0.86875304443536 \n",
      " f1:0.7786412078152753 \n",
      " precision:0.7321503131524009 \n",
      " recall:0.8314366998577525 \n",
      ", 'Test':  best_epoch_indx:67\n",
      " auc:0.91500696575822 \n",
      " apur:0.86875304443536 \n",
      " f1:0.7786412078152753 \n",
      " precision:0.7321503131524009 \n",
      " recall:0.8314366998577525 \n",
      "}\n",
      "=====Epoch 68\n",
      "Training...\n",
      "{'Train':  best_epoch_indx:69\n",
      " auc:0.9303655054753415 \n",
      " apur:0.8911210004593995 \n",
      " f1:0.8019122265766141 \n",
      " precision:0.7550112524205789 \n",
      " recall:0.8550260787102892 \n",
      ", 'Validation':  best_epoch_indx:69\n",
      " auc:0.9303655054753415 \n",
      " apur:0.8911210004593995 \n",
      " f1:0.8019122265766141 \n",
      " precision:0.7550112524205789 \n",
      " recall:0.8550260787102892 \n",
      ", 'Test':  best_epoch_indx:69\n",
      " auc:0.9303655054753415 \n",
      " apur:0.8911210004593995 \n",
      " f1:0.8019122265766141 \n",
      " precision:0.7550112524205789 \n",
      " recall:0.8550260787102892 \n",
      "}\n",
      "=====Epoch 70\n",
      "Training...\n"
     ]
    },
    {
     "name": "stderr",
     "output_type": "stream",
     "text": [
      "Iteration: 100%|██████████| 154/154 [00:01<00:00, 96.92it/s] \n",
      "Iteration:   3%|▎         | 5/154 [00:00<00:03, 43.30it/s]s]"
     ]
    },
    {
     "name": "stdout",
     "output_type": "stream",
     "text": [
      "{'Train':  best_epoch_indx:68\n",
      " auc:0.9228646034999355 \n",
      " apur:0.881278185339412 \n",
      " f1:0.7901031830746914 \n",
      " precision:0.733957083290959 \n",
      " recall:0.8555509454092822 \n",
      ", 'Validation':  best_epoch_indx:68\n",
      " auc:0.9228646034999355 \n",
      " apur:0.881278185339412 \n",
      " f1:0.7901031830746914 \n",
      " precision:0.733957083290959 \n",
      " recall:0.8555509454092822 \n",
      ", 'Test':  best_epoch_indx:68\n",
      " auc:0.9228646034999355 \n",
      " apur:0.881278185339412 \n",
      " f1:0.7901031830746914 \n",
      " precision:0.733957083290959 \n",
      " recall:0.8555509454092822 \n",
      "}\n",
      "=====Epoch 69\n",
      "Training...\n"
     ]
    },
    {
     "name": "stderr",
     "output_type": "stream",
     "text": [
      "Iteration: 100%|██████████| 154/154 [00:03<00:00, 45.71it/s]\n",
      "Iteration:   0%|          | 0/154 [00:00<?, ?it/s]"
     ]
    },
    {
     "name": "stdout",
     "output_type": "stream",
     "text": [
      "Evaluating...\n",
      "Evaluating...\n"
     ]
    },
    {
     "name": "stderr",
     "output_type": "stream",
     "text": [
      "Iteration: 100%|██████████| 154/154 [00:03<00:00, 39.12it/s]\n",
      "Iteration: 100%|██████████| 154/154 [00:03<00:00, 45.62it/s]]\n",
      "Iteration: 100%|██████████| 154/154 [00:03<00:00, 44.25it/s]]\n",
      "Iteration:   0%|          | 0/154 [00:00<?, ?it/s]"
     ]
    },
    {
     "name": "stdout",
     "output_type": "stream",
     "text": [
      "Evaluating...\n",
      "Evaluating...\n"
     ]
    },
    {
     "name": "stderr",
     "output_type": "stream",
     "text": [
      "Iteration: 100%|██████████| 154/154 [00:01<00:00, 118.40it/s]\n",
      "Iteration: 100%|██████████| 154/154 [00:01<00:00, 117.88it/s]\n",
      "Iteration: 100%|██████████| 154/154 [00:01<00:00, 116.26it/s]\n",
      "Iteration: 100%|██████████| 154/154 [00:01<00:00, 125.50it/s]\n",
      "Iteration: 100%|██████████| 154/154 [00:03<00:00, 39.17it/s]\n",
      "Iteration:   0%|          | 0/154 [00:00<?, ?it/s]126.04it/s]"
     ]
    },
    {
     "name": "stdout",
     "output_type": "stream",
     "text": [
      "Evaluating...\n"
     ]
    },
    {
     "name": "stderr",
     "output_type": "stream",
     "text": [
      "Iteration: 100%|██████████| 154/154 [00:01<00:00, 116.61it/s]\n",
      "Iteration: 100%|██████████| 154/154 [00:01<00:00, 116.61it/s]\n",
      "Iteration: 100%|██████████| 154/154 [00:01<00:00, 115.65it/s]\n",
      "Iteration: 100%|██████████| 154/154 [00:02<00:00, 64.40it/s]\n",
      "Iteration: 100%|██████████| 154/154 [00:01<00:00, 87.10it/s] \n",
      "Iteration: 100%|██████████| 154/154 [00:01<00:00, 107.75it/s]\n",
      "Iteration: 100%|██████████| 154/154 [00:01<00:00, 102.45it/s]\n",
      "Iteration: 100%|██████████| 154/154 [00:01<00:00, 122.97it/s]\n",
      "Iteration:   3%|▎         | 4/154 [00:00<00:03, 39.53it/s]]"
     ]
    },
    {
     "name": "stdout",
     "output_type": "stream",
     "text": [
      "{'Train':  best_epoch_indx:68\n",
      " auc:0.9235689900012749 \n",
      " apur:0.8815714871428602 \n",
      " f1:0.790646673428548 \n",
      " precision:0.7354651162790697 \n",
      " recall:0.8547803923893071 \n",
      ", 'Validation':  best_epoch_indx:68\n",
      " auc:0.9235689900012749 \n",
      " apur:0.8815714871428602 \n",
      " f1:0.790646673428548 \n",
      " precision:0.7354651162790697 \n",
      " recall:0.8547803923893071 \n",
      ", 'Test':  best_epoch_indx:68\n",
      " auc:0.9235689900012749 \n",
      " apur:0.8815714871428602 \n",
      " f1:0.790646673428548 \n",
      " precision:0.7354651162790697 \n",
      " recall:0.8547803923893071 \n",
      "}\n",
      "=====Epoch 69\n",
      "Training...\n"
     ]
    },
    {
     "name": "stderr",
     "output_type": "stream",
     "text": [
      "Iteration:  14%|█▍        | 22/154 [00:00<00:03, 40.46it/s]s]"
     ]
    },
    {
     "name": "stdout",
     "output_type": "stream",
     "text": [
      "{'Train':  best_epoch_indx:68\n",
      " auc:0.9208719727589643 \n",
      " apur:0.8777912682407301 \n",
      " f1:0.788233355306526 \n",
      " precision:0.734490171990172 \n",
      " recall:0.8504623044096729 \n",
      ", 'Validation':  best_epoch_indx:68\n",
      " auc:0.9208719727589643 \n",
      " apur:0.8777912682407301 \n",
      " f1:0.788233355306526 \n",
      " precision:0.734490171990172 \n",
      " recall:0.8504623044096729 \n",
      ", 'Test':  best_epoch_indx:68\n",
      " auc:0.9208719727589643 \n",
      " apur:0.8777912682407301 \n",
      " f1:0.788233355306526 \n",
      " precision:0.734490171990172 \n",
      " recall:0.8504623044096729 \n",
      "}\n",
      "=====Epoch 69\n",
      "Training...\n"
     ]
    },
    {
     "name": "stderr",
     "output_type": "stream",
     "text": [
      "Iteration: 100%|██████████| 154/154 [00:01<00:00, 99.65it/s] \n",
      "Iteration: 100%|██████████| 154/154 [00:02<00:00, 76.96it/s] \n",
      "Iteration:  36%|███▋      | 56/154 [00:01<00:02, 39.22it/s]"
     ]
    },
    {
     "name": "stdout",
     "output_type": "stream",
     "text": [
      "{'Train':  best_epoch_indx:70\n",
      " auc:0.929376917511781 \n",
      " apur:0.8903845422989253 \n",
      " f1:0.8016683690840994 \n",
      " precision:0.7689418680600915 \n",
      " recall:0.8373044096728307 \n",
      ", 'Validation':  best_epoch_indx:70\n",
      " auc:0.929376917511781 \n",
      " apur:0.8903845422989253 \n",
      " f1:0.8016683690840994 \n",
      " precision:0.7689418680600915 \n",
      " recall:0.8373044096728307 \n",
      ", 'Test':  best_epoch_indx:70\n",
      " auc:0.929376917511781 \n",
      " apur:0.8903845422989253 \n",
      " f1:0.8016683690840994 \n",
      " precision:0.7689418680600915 \n",
      " recall:0.8373044096728307 \n",
      "}\n",
      "=====Epoch 71\n",
      "Training...\n",
      "{'Train':  best_epoch_indx:68\n",
      " auc:0.9249252736967654 \n",
      " apur:0.8840754834115305 \n",
      " f1:0.793184856500839 \n",
      " precision:0.762495898501586 \n",
      " recall:0.8264477505779148 \n",
      ", 'Validation':  best_epoch_indx:68\n",
      " auc:0.9249252736967654 \n",
      " apur:0.8840754834115305 \n",
      " f1:0.793184856500839 \n",
      " precision:0.762495898501586 \n",
      " recall:0.8264477505779148 \n",
      ", 'Test':  best_epoch_indx:68\n",
      " auc:0.9249252736967654 \n",
      " apur:0.8840754834115305 \n",
      " f1:0.793184856500839 \n",
      " precision:0.762495898501586 \n",
      " recall:0.8264477505779148 \n",
      "}\n",
      "=====Epoch 69\n",
      "Training...\n"
     ]
    },
    {
     "name": "stderr",
     "output_type": "stream",
     "text": [
      "Iteration: 100%|██████████| 154/154 [00:01<00:00, 95.78it/s] \n",
      "Iteration:   0%|          | 0/154 [00:00<?, ?it/s]7.48it/s]]"
     ]
    },
    {
     "name": "stdout",
     "output_type": "stream",
     "text": [
      "{'Train':  best_epoch_indx:69\n",
      " auc:0.9290602306311135 \n",
      " apur:0.8903535482001989 \n",
      " f1:0.8034463276836159 \n",
      " precision:0.7674995952291004 \n",
      " recall:0.8429257305435363 \n",
      ", 'Validation':  best_epoch_indx:69\n",
      " auc:0.9290602306311135 \n",
      " apur:0.8903535482001989 \n",
      " f1:0.8034463276836159 \n",
      " precision:0.7674995952291004 \n",
      " recall:0.8429257305435363 \n",
      ", 'Test':  best_epoch_indx:69\n",
      " auc:0.9290602306311135 \n",
      " apur:0.8903535482001989 \n",
      " f1:0.8034463276836159 \n",
      " precision:0.7674995952291004 \n",
      " recall:0.8429257305435363 \n",
      "}\n",
      "=====Epoch 70\n",
      "Training...\n"
     ]
    },
    {
     "name": "stderr",
     "output_type": "stream",
     "text": [
      "Iteration: 100%|██████████| 154/154 [00:03<00:00, 43.04it/s]\n",
      "Iteration:  57%|█████▋    | 88/154 [00:02<00:01, 39.32it/s]]"
     ]
    },
    {
     "name": "stdout",
     "output_type": "stream",
     "text": [
      "Evaluating...\n"
     ]
    },
    {
     "name": "stderr",
     "output_type": "stream",
     "text": [
      "Iteration: 100%|██████████| 154/154 [00:03<00:00, 41.83it/s]\n",
      "Iteration:  84%|████████▍ | 130/154 [00:03<00:00, 45.71it/s]"
     ]
    },
    {
     "name": "stdout",
     "output_type": "stream",
     "text": [
      "Evaluating...\n"
     ]
    },
    {
     "name": "stderr",
     "output_type": "stream",
     "text": [
      "Iteration: 100%|██████████| 154/154 [00:01<00:00, 118.67it/s]\n",
      "Iteration: 100%|██████████| 154/154 [00:03<00:00, 43.57it/s]\n",
      "Iteration:   8%|▊         | 12/154 [00:00<00:01, 111.72it/s]"
     ]
    },
    {
     "name": "stdout",
     "output_type": "stream",
     "text": [
      "Evaluating...\n"
     ]
    },
    {
     "name": "stderr",
     "output_type": "stream",
     "text": [
      "Iteration:  42%|████▏     | 64/154 [00:00<00:00, 127.22it/s]\n",
      "Iteration:   0%|          | 0/154 [00:00<?, ?it/s]"
     ]
    },
    {
     "name": "stdout",
     "output_type": "stream",
     "text": [
      "Evaluating...\n"
     ]
    },
    {
     "name": "stderr",
     "output_type": "stream",
     "text": [
      "Iteration: 100%|██████████| 154/154 [00:01<00:00, 126.11it/s]\n",
      "Iteration: 100%|██████████| 154/154 [00:03<00:00, 45.62it/s]]\n",
      "Iteration:   0%|          | 0/154 [00:00<?, ?it/s]"
     ]
    },
    {
     "name": "stdout",
     "output_type": "stream",
     "text": [
      "Evaluating...\n"
     ]
    },
    {
     "name": "stderr",
     "output_type": "stream",
     "text": [
      "Iteration: 100%|██████████| 154/154 [00:01<00:00, 125.06it/s]\n",
      "Iteration: 100%|██████████| 154/154 [00:02<00:00, 63.73it/s]\n",
      "Iteration: 100%|██████████| 154/154 [00:01<00:00, 87.49it/s] \n",
      "Iteration: 100%|██████████| 154/154 [00:01<00:00, 125.36it/s]\n",
      "Iteration: 100%|██████████| 154/154 [00:01<00:00, 106.79it/s]\n",
      "Iteration: 100%|██████████| 154/154 [00:01<00:00, 125.35it/s]\n",
      "Iteration: 100%|██████████| 154/154 [00:01<00:00, 99.33it/s] \n",
      "Iteration: 100%|██████████| 154/154 [00:01<00:00, 91.58it/s] \n",
      "Iteration:   3%|▎         | 5/154 [00:00<00:03, 43.34it/s]s]"
     ]
    },
    {
     "name": "stdout",
     "output_type": "stream",
     "text": [
      "{'Train':  best_epoch_indx:69\n",
      " auc:0.9310353398899993 \n",
      " apur:0.8927526943977765 \n",
      " f1:0.801878972091738 \n",
      " precision:0.751074072156944 \n",
      " recall:0.8600557169106752 \n",
      ", 'Validation':  best_epoch_indx:69\n",
      " auc:0.9310353398899993 \n",
      " apur:0.8927526943977765 \n",
      " f1:0.801878972091738 \n",
      " precision:0.751074072156944 \n",
      " recall:0.8600557169106752 \n",
      ", 'Test':  best_epoch_indx:69\n",
      " auc:0.9310353398899993 \n",
      " apur:0.8927526943977765 \n",
      " f1:0.801878972091738 \n",
      " precision:0.751074072156944 \n",
      " recall:0.8600557169106752 \n",
      "}\n",
      "=====Epoch 70\n",
      "Training...\n"
     ]
    },
    {
     "name": "stderr",
     "output_type": "stream",
     "text": [
      "Iteration: 100%|██████████| 154/154 [00:02<00:00, 75.29it/s] \n",
      "Iteration: 100%|██████████| 154/154 [00:01<00:00, 99.71it/s] \n",
      "Iteration:  78%|███████▊  | 120/154 [00:01<00:00, 112.57it/s]"
     ]
    },
    {
     "name": "stdout",
     "output_type": "stream",
     "text": [
      "{'Train':  best_epoch_indx:71\n",
      " auc:0.9267949461784628 \n",
      " apur:0.8869678179561907 \n",
      " f1:0.7957403483668584 \n",
      " precision:0.7426678309106786 \n",
      " recall:0.8569819819819819 \n",
      ", 'Validation':  best_epoch_indx:71\n",
      " auc:0.9267949461784628 \n",
      " apur:0.8869678179561907 \n",
      " f1:0.7957403483668584 \n",
      " precision:0.7426678309106786 \n",
      " recall:0.8569819819819819 \n",
      ", 'Test':  best_epoch_indx:71\n",
      " auc:0.9267949461784628 \n",
      " apur:0.8869678179561907 \n",
      " f1:0.7957403483668584 \n",
      " precision:0.7426678309106786 \n",
      " recall:0.8569819819819819 \n",
      "}\n",
      "=====Epoch 72\n",
      "Training...\n"
     ]
    },
    {
     "name": "stderr",
     "output_type": "stream",
     "text": [
      "Iteration: 100%|██████████| 154/154 [00:01<00:00, 101.94it/s]\n",
      "Iteration: 100%|██████████| 154/154 [00:01<00:00, 103.10it/s]\n",
      "Iteration:  54%|█████▍    | 83/154 [00:02<00:01, 36.65it/s]s]"
     ]
    },
    {
     "name": "stdout",
     "output_type": "stream",
     "text": [
      "{'Train':  best_epoch_indx:69\n",
      " auc:0.9314452396275456 \n",
      " apur:0.8930469783762298 \n",
      " f1:0.8043441938178779 \n",
      " precision:0.7585482430799937 \n",
      " recall:0.856025131883113 \n",
      ", 'Validation':  best_epoch_indx:69\n",
      " auc:0.9314452396275456 \n",
      " apur:0.8930469783762298 \n",
      " f1:0.8043441938178779 \n",
      " precision:0.7585482430799937 \n",
      " recall:0.856025131883113 \n",
      ", 'Test':  best_epoch_indx:69\n",
      " auc:0.9314452396275456 \n",
      " apur:0.8930469783762298 \n",
      " f1:0.8043441938178779 \n",
      " precision:0.7585482430799937 \n",
      " recall:0.856025131883113 \n",
      "}\n",
      "=====Epoch 70\n",
      "Training...\n"
     ]
    },
    {
     "name": "stderr",
     "output_type": "stream",
     "text": [
      "Iteration: 100%|██████████| 154/154 [00:01<00:00, 117.28it/s]\n",
      "Iteration:   3%|▎         | 5/154 [00:00<00:03, 43.90it/s]]]"
     ]
    },
    {
     "name": "stdout",
     "output_type": "stream",
     "text": [
      "{'Train':  best_epoch_indx:69\n",
      " auc:0.9264481143290504 \n",
      " apur:0.886378099204765 \n",
      " f1:0.7958729629011625 \n",
      " precision:0.7497118306612176 \n",
      " recall:0.8480915125651968 \n",
      ", 'Validation':  best_epoch_indx:69\n",
      " auc:0.9264481143290504 \n",
      " apur:0.886378099204765 \n",
      " f1:0.7958729629011625 \n",
      " precision:0.7497118306612176 \n",
      " recall:0.8480915125651968 \n",
      ", 'Test':  best_epoch_indx:69\n",
      " auc:0.9264481143290504 \n",
      " apur:0.886378099204765 \n",
      " f1:0.7958729629011625 \n",
      " precision:0.7497118306612176 \n",
      " recall:0.8480915125651968 \n",
      "}\n",
      "=====Epoch 70\n",
      "Training...\n",
      "{'Train':  best_epoch_indx:70\n",
      " auc:0.9260245550457596 \n",
      " apur:0.8856643235880213 \n",
      " f1:0.7981316114850942 \n",
      " precision:0.7439049375128047 \n",
      " recall:0.8608855432398791 \n",
      ", 'Validation':  best_epoch_indx:70\n",
      " auc:0.9260245550457596 \n",
      " apur:0.8856643235880213 \n",
      " f1:0.7981316114850942 \n",
      " precision:0.7439049375128047 \n",
      " recall:0.8608855432398791 \n",
      ", 'Test':  best_epoch_indx:70\n",
      " auc:0.9260245550457596 \n",
      " apur:0.8856643235880213 \n",
      " f1:0.7981316114850942 \n",
      " precision:0.7439049375128047 \n",
      " recall:0.8608855432398791 \n",
      "}\n",
      "=====Epoch 71\n",
      "Training...\n"
     ]
    },
    {
     "name": "stderr",
     "output_type": "stream",
     "text": [
      "Iteration: 100%|██████████| 154/154 [00:03<00:00, 39.07it/s]\n",
      "Iteration:   0%|          | 0/154 [00:00<?, ?it/s]6.28it/s]"
     ]
    },
    {
     "name": "stdout",
     "output_type": "stream",
     "text": [
      "Evaluating...\n"
     ]
    },
    {
     "name": "stderr",
     "output_type": "stream",
     "text": [
      "Iteration: 100%|██████████| 154/154 [00:03<00:00, 42.08it/s]]\n",
      "Iteration:  45%|████▍     | 69/154 [00:01<00:02, 35.50it/s]"
     ]
    },
    {
     "name": "stdout",
     "output_type": "stream",
     "text": [
      "Evaluating...\n"
     ]
    },
    {
     "name": "stderr",
     "output_type": "stream",
     "text": [
      "Iteration: 100%|██████████| 154/154 [00:01<00:00, 125.38it/s]\n",
      "Iteration: 100%|██████████| 154/154 [00:03<00:00, 38.82it/s]]\n",
      "Iteration:  92%|█████████▏| 142/154 [00:01<00:00, 129.02it/s]"
     ]
    },
    {
     "name": "stdout",
     "output_type": "stream",
     "text": [
      "Evaluating...\n"
     ]
    },
    {
     "name": "stderr",
     "output_type": "stream",
     "text": [
      "Iteration: 100%|██████████| 154/154 [00:01<00:00, 127.46it/s]\n",
      "Iteration: 100%|██████████| 154/154 [00:03<00:00, 45.36it/s]\n",
      "Iteration:  40%|████      | 62/154 [00:00<00:01, 68.21it/s]]"
     ]
    },
    {
     "name": "stdout",
     "output_type": "stream",
     "text": [
      "Evaluating...\n"
     ]
    },
    {
     "name": "stderr",
     "output_type": "stream",
     "text": [
      "Iteration: 100%|██████████| 154/154 [00:04<00:00, 37.19it/s]]\n",
      "Iteration: 100%|██████████| 154/154 [00:01<00:00, 126.49it/s]\n",
      "Iteration:  31%|███       | 48/154 [00:00<00:01, 70.87it/s]"
     ]
    },
    {
     "name": "stdout",
     "output_type": "stream",
     "text": [
      "Evaluating...\n"
     ]
    },
    {
     "name": "stderr",
     "output_type": "stream",
     "text": [
      "Iteration: 100%|██████████| 154/154 [00:01<00:00, 86.71it/s] \n",
      "Iteration: 100%|██████████| 154/154 [00:01<00:00, 122.76it/s]\n",
      "Iteration: 100%|██████████| 154/154 [00:01<00:00, 84.89it/s] \n",
      "Iteration: 100%|██████████| 154/154 [00:01<00:00, 105.21it/s]\n",
      "Iteration: 100%|██████████| 154/154 [00:01<00:00, 111.77it/s]\n",
      "Iteration: 100%|██████████| 154/154 [00:01<00:00, 99.70it/s] \n",
      "Iteration: 100%|██████████| 154/154 [00:01<00:00, 85.85it/s] \n",
      "Iteration:  56%|█████▋    | 87/154 [00:01<00:00, 76.53it/s]s]"
     ]
    },
    {
     "name": "stdout",
     "output_type": "stream",
     "text": [
      "{'Train':  best_epoch_indx:70\n",
      " auc:0.9307316008354518 \n",
      " apur:0.8918569871996701 \n",
      " f1:0.8032943557454465 \n",
      " precision:0.7639133921411387 \n",
      " recall:0.8469563155710983 \n",
      ", 'Validation':  best_epoch_indx:70\n",
      " auc:0.9307316008354518 \n",
      " apur:0.8918569871996701 \n",
      " f1:0.8032943557454465 \n",
      " precision:0.7639133921411387 \n",
      " recall:0.8469563155710983 \n",
      ", 'Test':  best_epoch_indx:70\n",
      " auc:0.9307316008354518 \n",
      " apur:0.8918569871996701 \n",
      " f1:0.8032943557454465 \n",
      " precision:0.7639133921411387 \n",
      " recall:0.8469563155710983 \n",
      "}\n",
      "=====Epoch 71\n",
      "Training...\n"
     ]
    },
    {
     "name": "stderr",
     "output_type": "stream",
     "text": [
      "Iteration: 100%|██████████| 154/154 [00:01<00:00, 108.03it/s]\n",
      "Iteration: 100%|██████████| 154/154 [00:01<00:00, 83.09it/s]]\n",
      "Iteration:   0%|          | 0/154 [00:00<?, ?it/s]7.26it/s]s]"
     ]
    },
    {
     "name": "stdout",
     "output_type": "stream",
     "text": [
      "{'Train':  best_epoch_indx:72\n",
      " auc:0.9184381597374637 \n",
      " apur:0.872060986054169 \n",
      " f1:0.7850150396499863 \n",
      " precision:0.7287034216671743 \n",
      " recall:0.8507586533902324 \n",
      ", 'Validation':  best_epoch_indx:72\n",
      " auc:0.9184381597374637 \n",
      " apur:0.872060986054169 \n",
      " f1:0.7850150396499863 \n",
      " precision:0.7287034216671743 \n",
      " recall:0.8507586533902324 \n",
      ", 'Test':  best_epoch_indx:72\n",
      " auc:0.9184381597374637 \n",
      " apur:0.872060986054169 \n",
      " f1:0.7850150396499863 \n",
      " precision:0.7287034216671743 \n",
      " recall:0.8507586533902324 \n",
      "}\n",
      "=====Epoch 73\n",
      "Training...\n"
     ]
    },
    {
     "name": "stderr",
     "output_type": "stream",
     "text": [
      "Iteration: 100%|██████████| 154/154 [00:01<00:00, 112.17it/s]\n",
      "Iteration:   0%|          | 0/154 [00:00<?, ?it/s]118.74it/s]"
     ]
    },
    {
     "name": "stdout",
     "output_type": "stream",
     "text": [
      "{'Train':  best_epoch_indx:70\n",
      " auc:0.931818512427856 \n",
      " apur:0.8944848934848558 \n",
      " f1:0.8019262170315226 \n",
      " precision:0.7521545010902295 \n",
      " recall:0.8587517041076403 \n",
      ", 'Validation':  best_epoch_indx:70\n",
      " auc:0.931818512427856 \n",
      " apur:0.8944848934848558 \n",
      " f1:0.8019262170315226 \n",
      " precision:0.7521545010902295 \n",
      " recall:0.8587517041076403 \n",
      ", 'Test':  best_epoch_indx:70\n",
      " auc:0.931818512427856 \n",
      " apur:0.8944848934848558 \n",
      " f1:0.8019262170315226 \n",
      " precision:0.7521545010902295 \n",
      " recall:0.8587517041076403 \n",
      "}\n",
      "=====Epoch 71\n",
      "Training...\n"
     ]
    },
    {
     "name": "stderr",
     "output_type": "stream",
     "text": [
      "Iteration: 100%|██████████| 154/154 [00:01<00:00, 101.58it/s]\n",
      "Iteration:   0%|          | 0/154 [00:00<?, ?it/s]4.68it/s]]"
     ]
    },
    {
     "name": "stdout",
     "output_type": "stream",
     "text": [
      "{'Train':  best_epoch_indx:70\n",
      " auc:0.9244411144180966 \n",
      " apur:0.8837944336308181 \n",
      " f1:0.7956787224048849 \n",
      " precision:0.7452512809895968 \n",
      " recall:0.8534257942152679 \n",
      ", 'Validation':  best_epoch_indx:70\n",
      " auc:0.9244411144180966 \n",
      " apur:0.8837944336308181 \n",
      " f1:0.7956787224048849 \n",
      " precision:0.7452512809895968 \n",
      " recall:0.8534257942152679 \n",
      ", 'Test':  best_epoch_indx:70\n",
      " auc:0.9244411144180966 \n",
      " apur:0.8837944336308181 \n",
      " f1:0.7956787224048849 \n",
      " precision:0.7452512809895968 \n",
      " recall:0.8534257942152679 \n",
      "}\n",
      "=====Epoch 71\n",
      "Training...\n"
     ]
    },
    {
     "name": "stderr",
     "output_type": "stream",
     "text": [
      "Iteration: 100%|██████████| 154/154 [00:01<00:00, 125.45it/s]\n",
      "Iteration:  76%|███████▌  | 117/154 [00:02<00:00, 45.75it/s]"
     ]
    },
    {
     "name": "stdout",
     "output_type": "stream",
     "text": [
      "{'Train':  best_epoch_indx:71\n",
      " auc:0.9220937653273928 \n",
      " apur:0.8804658779287309 \n",
      " f1:0.7883957160207574 \n",
      " precision:0.7377692824301286 \n",
      " recall:0.8464821290972675 \n",
      ", 'Validation':  best_epoch_indx:71\n",
      " auc:0.9220937653273928 \n",
      " apur:0.8804658779287309 \n",
      " f1:0.7883957160207574 \n",
      " precision:0.7377692824301286 \n",
      " recall:0.8464821290972675 \n",
      ", 'Test':  best_epoch_indx:71\n",
      " auc:0.9220937653273928 \n",
      " apur:0.8804658779287309 \n",
      " f1:0.7883957160207574 \n",
      " precision:0.7377692824301286 \n",
      " recall:0.8464821290972675 \n",
      "}\n",
      "=====Epoch 72\n",
      "Training...\n"
     ]
    },
    {
     "name": "stderr",
     "output_type": "stream",
     "text": [
      "Iteration: 100%|██████████| 154/154 [00:03<00:00, 40.78it/s]\n",
      "Iteration:  16%|█▌        | 25/154 [00:00<00:03, 42.78it/s]]"
     ]
    },
    {
     "name": "stdout",
     "output_type": "stream",
     "text": [
      "Evaluating...\n"
     ]
    },
    {
     "name": "stderr",
     "output_type": "stream",
     "text": [
      "Iteration: 100%|██████████| 154/154 [00:03<00:00, 45.53it/s]\n",
      "Iteration:  29%|██▉       | 45/154 [00:01<00:02, 44.08it/s]"
     ]
    },
    {
     "name": "stdout",
     "output_type": "stream",
     "text": [
      "Evaluating...\n"
     ]
    },
    {
     "name": "stderr",
     "output_type": "stream",
     "text": [
      "Iteration: 100%|██████████| 154/154 [00:01<00:00, 120.87it/s]\n",
      "Iteration: 100%|██████████| 154/154 [00:04<00:00, 38.11it/s]]\n",
      "Iteration: 100%|██████████| 154/154 [00:01<00:00, 118.90it/s]\n"
     ]
    },
    {
     "name": "stdout",
     "output_type": "stream",
     "text": [
      "Evaluating...\n"
     ]
    },
    {
     "name": "stderr",
     "output_type": "stream",
     "text": [
      "Iteration: 100%|██████████| 154/154 [00:04<00:00, 38.17it/s]]\n",
      "Iteration:  88%|████████▊ | 135/154 [00:03<00:00, 45.12it/s]"
     ]
    },
    {
     "name": "stdout",
     "output_type": "stream",
     "text": [
      "Evaluating...\n"
     ]
    },
    {
     "name": "stderr",
     "output_type": "stream",
     "text": [
      "Iteration: 100%|██████████| 154/154 [00:01<00:00, 129.34it/s]\n",
      "Iteration: 100%|██████████| 154/154 [00:03<00:00, 42.73it/s]\n",
      "Iteration:   0%|          | 0/154 [00:00<?, ?it/s]"
     ]
    },
    {
     "name": "stdout",
     "output_type": "stream",
     "text": [
      "Evaluating...\n"
     ]
    },
    {
     "name": "stderr",
     "output_type": "stream",
     "text": [
      "Iteration: 100%|██████████| 154/154 [00:01<00:00, 107.83it/s]\n",
      "Iteration: 100%|██████████| 154/154 [00:01<00:00, 123.92it/s]\n",
      "Iteration: 100%|██████████| 154/154 [00:02<00:00, 68.86it/s]\n",
      "Iteration: 100%|██████████| 154/154 [00:01<00:00, 127.43it/s]\n",
      "Iteration: 100%|██████████| 154/154 [00:01<00:00, 91.41it/s] \n",
      "Iteration: 100%|██████████| 154/154 [00:01<00:00, 121.37it/s]\n",
      "Iteration: 100%|██████████| 154/154 [00:01<00:00, 102.55it/s]\n",
      "Iteration:  53%|█████▎    | 82/154 [00:01<00:00, 99.54it/s]s]"
     ]
    },
    {
     "name": "stdout",
     "output_type": "stream",
     "text": [
      "{'Train':  best_epoch_indx:73\n",
      " auc:0.910942146353216 \n",
      " apur:0.8650392601308108 \n",
      " f1:0.7755854899111285 \n",
      " precision:0.7337916446324696 \n",
      " recall:0.8224276908487435 \n",
      ", 'Validation':  best_epoch_indx:73\n",
      " auc:0.910942146353216 \n",
      " apur:0.8650392601308108 \n",
      " f1:0.7755854899111285 \n",
      " precision:0.7337916446324696 \n",
      " recall:0.8224276908487435 \n",
      ", 'Test':  best_epoch_indx:73\n",
      " auc:0.910942146353216 \n",
      " apur:0.8650392601308108 \n",
      " f1:0.7755854899111285 \n",
      " precision:0.7337916446324696 \n",
      " recall:0.8224276908487435 \n",
      "}\n",
      "=====Epoch 74\n",
      "Training...\n"
     ]
    },
    {
     "name": "stderr",
     "output_type": "stream",
     "text": [
      "Iteration: 100%|██████████| 154/154 [00:01<00:00, 119.28it/s]\n",
      "Iteration: 100%|██████████| 154/154 [00:01<00:00, 90.60it/s] \n",
      "Iteration:   5%|▌         | 8/154 [00:00<00:01, 73.89it/s]s]]"
     ]
    },
    {
     "name": "stdout",
     "output_type": "stream",
     "text": [
      "{'Train':  best_epoch_indx:71\n",
      " auc:0.9262921100596125 \n",
      " apur:0.8861012178269714 \n",
      " f1:0.7956194387405886 \n",
      " precision:0.7392897120179098 \n",
      " recall:0.8612411830952522 \n",
      ", 'Validation':  best_epoch_indx:71\n",
      " auc:0.9262921100596125 \n",
      " apur:0.8861012178269714 \n",
      " f1:0.7956194387405886 \n",
      " precision:0.7392897120179098 \n",
      " recall:0.8612411830952522 \n",
      ", 'Test':  best_epoch_indx:71\n",
      " auc:0.9262921100596125 \n",
      " apur:0.8861012178269714 \n",
      " f1:0.7956194387405886 \n",
      " precision:0.7392897120179098 \n",
      " recall:0.8612411830952522 \n",
      "}\n",
      "=====Epoch 72\n",
      "Training...\n"
     ]
    },
    {
     "name": "stderr",
     "output_type": "stream",
     "text": [
      "Iteration: 100%|██████████| 154/154 [00:01<00:00, 113.37it/s]\n",
      "Iteration: 100%|██████████| 154/154 [00:02<00:00, 56.61it/s]\n",
      "Iteration:   0%|          | 0/154 [00:00<?, ?it/s]5.46it/s]"
     ]
    },
    {
     "name": "stdout",
     "output_type": "stream",
     "text": [
      "{'Train':  best_epoch_indx:71\n",
      " auc:0.9183323091153403 \n",
      " apur:0.8749167140101973 \n",
      " f1:0.7811996130280555 \n",
      " precision:0.7146017699115044 \n",
      " recall:0.8614864864864865 \n",
      ", 'Validation':  best_epoch_indx:71\n",
      " auc:0.9183323091153403 \n",
      " apur:0.8749167140101973 \n",
      " f1:0.7811996130280555 \n",
      " precision:0.7146017699115044 \n",
      " recall:0.8614864864864865 \n",
      ", 'Test':  best_epoch_indx:71\n",
      " auc:0.9183323091153403 \n",
      " apur:0.8749167140101973 \n",
      " f1:0.7811996130280555 \n",
      " precision:0.7146017699115044 \n",
      " recall:0.8614864864864865 \n",
      "}\n",
      "=====Epoch 72\n",
      "Training...\n"
     ]
    },
    {
     "name": "stderr",
     "output_type": "stream",
     "text": [
      "Iteration:  46%|████▌     | 71/154 [00:01<00:01, 44.66it/s]"
     ]
    },
    {
     "name": "stdout",
     "output_type": "stream",
     "text": [
      "{'Train':  best_epoch_indx:71\n",
      " auc:0.9248142391294567 \n",
      " apur:0.8838966704827328 \n",
      " f1:0.7947683862656137 \n",
      " precision:0.7533315635784444 \n",
      " recall:0.841028984648213 \n",
      ", 'Validation':  best_epoch_indx:71\n",
      " auc:0.9248142391294567 \n",
      " apur:0.8838966704827328 \n",
      " f1:0.7947683862656137 \n",
      " precision:0.7533315635784444 \n",
      " recall:0.841028984648213 \n",
      ", 'Test':  best_epoch_indx:71\n",
      " auc:0.9248142391294567 \n",
      " apur:0.8838966704827328 \n",
      " f1:0.7947683862656137 \n",
      " precision:0.7533315635784444 \n",
      " recall:0.841028984648213 \n",
      "}\n",
      "=====Epoch 72\n",
      "Training...\n"
     ]
    },
    {
     "name": "stderr",
     "output_type": "stream",
     "text": [
      "Iteration: 100%|██████████| 154/154 [00:02<00:00, 62.67it/s]\n",
      "Iteration: 100%|██████████| 154/154 [00:03<00:00, 42.84it/s]\n",
      "Iteration:  76%|███████▌  | 117/154 [00:02<00:00, 45.04it/s]"
     ]
    },
    {
     "name": "stdout",
     "output_type": "stream",
     "text": [
      "Evaluating...\n"
     ]
    },
    {
     "name": "stderr",
     "output_type": "stream",
     "text": [
      "Iteration: 100%|██████████| 154/154 [00:03<00:00, 44.99it/s]]\n",
      "Iteration:   3%|▎         | 5/154 [00:00<00:03, 40.73it/s]/s]"
     ]
    },
    {
     "name": "stdout",
     "output_type": "stream",
     "text": [
      "{'Train':  best_epoch_indx:72\n",
      " auc:0.9184152628263652 \n",
      " apur:0.875056685821971 \n",
      " f1:0.7863811092806151 \n",
      " precision:0.7673736462093863 \n",
      " recall:0.8063540987493332 \n",
      ", 'Validation':  best_epoch_indx:72\n",
      " auc:0.9184152628263652 \n",
      " apur:0.875056685821971 \n",
      " f1:0.7863811092806151 \n",
      " precision:0.7673736462093863 \n",
      " recall:0.8063540987493332 \n",
      ", 'Test':  best_epoch_indx:72\n",
      " auc:0.9184152628263652 \n",
      " apur:0.875056685821971 \n",
      " f1:0.7863811092806151 \n",
      " precision:0.7673736462093863 \n",
      " recall:0.8063540987493332 \n",
      "}\n",
      "=====Epoch 73\n",
      "Training...\n",
      "Evaluating...\n"
     ]
    },
    {
     "name": "stderr",
     "output_type": "stream",
     "text": [
      "Iteration: 100%|██████████| 154/154 [00:01<00:00, 110.52it/s]\n",
      "Iteration: 100%|██████████| 154/154 [00:01<00:00, 127.76it/s]\n",
      "Iteration: 100%|██████████| 154/154 [00:03<00:00, 43.29it/s]\n",
      "Iteration: 100%|██████████| 154/154 [00:04<00:00, 38.09it/s]\n",
      "Iteration:   8%|▊         | 12/154 [00:00<00:01, 111.41it/s]"
     ]
    },
    {
     "name": "stdout",
     "output_type": "stream",
     "text": [
      "Evaluating...\n",
      "Evaluating...\n"
     ]
    },
    {
     "name": "stderr",
     "output_type": "stream",
     "text": [
      "Iteration: 100%|██████████| 154/154 [00:01<00:00, 125.17it/s]\n",
      "Iteration: 100%|██████████| 154/154 [00:01<00:00, 124.09it/s]\n",
      "Iteration: 100%|██████████| 154/154 [00:01<00:00, 116.34it/s]\n",
      "Iteration: 100%|██████████| 154/154 [00:01<00:00, 85.42it/s] \n",
      "Iteration: 100%|██████████| 154/154 [00:04<00:00, 37.11it/s]]\n",
      "Iteration:  31%|███       | 48/154 [00:00<00:01, 99.85it/s]s]"
     ]
    },
    {
     "name": "stdout",
     "output_type": "stream",
     "text": [
      "Evaluating...\n"
     ]
    },
    {
     "name": "stderr",
     "output_type": "stream",
     "text": [
      "Iteration: 100%|██████████| 154/154 [00:01<00:00, 124.76it/s]\n",
      "Iteration: 100%|██████████| 154/154 [00:01<00:00, 113.49it/s]\n",
      "Iteration: 100%|██████████| 154/154 [00:01<00:00, 111.99it/s]\n",
      "Iteration: 100%|██████████| 154/154 [00:01<00:00, 112.10it/s]\n",
      "Iteration:   3%|▎         | 5/154 [00:00<00:03, 43.76it/s]]s]"
     ]
    },
    {
     "name": "stdout",
     "output_type": "stream",
     "text": [
      "{'Train':  best_epoch_indx:74\n",
      " auc:0.9060089581034778 \n",
      " apur:0.8560889912952556 \n",
      " f1:0.7692265055566333 \n",
      " precision:0.7223986257873094 \n",
      " recall:0.8225462304409673 \n",
      ", 'Validation':  best_epoch_indx:74\n",
      " auc:0.9060089581034778 \n",
      " apur:0.8560889912952556 \n",
      " f1:0.7692265055566333 \n",
      " precision:0.7223986257873094 \n",
      " recall:0.8225462304409673 \n",
      ", 'Test':  best_epoch_indx:74\n",
      " auc:0.9060089581034778 \n",
      " apur:0.8560889912952556 \n",
      " f1:0.7692265055566333 \n",
      " precision:0.7223986257873094 \n",
      " recall:0.8225462304409673 \n",
      "}\n",
      "=====Epoch 75\n",
      "Training...\n"
     ]
    },
    {
     "name": "stderr",
     "output_type": "stream",
     "text": [
      "Iteration: 100%|██████████| 154/154 [00:01<00:00, 102.17it/s]\n",
      "Iteration:   3%|▎         | 5/154 [00:00<00:03, 41.97it/s]]s]"
     ]
    },
    {
     "name": "stdout",
     "output_type": "stream",
     "text": [
      "{'Train':  best_epoch_indx:72\n",
      " auc:0.9213137941832553 \n",
      " apur:0.8795303980121444 \n",
      " f1:0.7865767341160794 \n",
      " precision:0.739663812904573 \n",
      " recall:0.8398435184636358 \n",
      ", 'Validation':  best_epoch_indx:72\n",
      " auc:0.9213137941832553 \n",
      " apur:0.8795303980121444 \n",
      " f1:0.7865767341160794 \n",
      " precision:0.739663812904573 \n",
      " recall:0.8398435184636358 \n",
      ", 'Test':  best_epoch_indx:72\n",
      " auc:0.9213137941832553 \n",
      " apur:0.8795303980121444 \n",
      " f1:0.7865767341160794 \n",
      " precision:0.739663812904573 \n",
      " recall:0.8398435184636358 \n",
      "}\n",
      "=====Epoch 73\n",
      "Training...\n"
     ]
    },
    {
     "name": "stderr",
     "output_type": "stream",
     "text": [
      "Iteration: 100%|██████████| 154/154 [00:01<00:00, 106.82it/s]\n",
      "Iteration: 100%|██████████| 154/154 [00:01<00:00, 94.42it/s] \n",
      "Iteration:  44%|████▍     | 68/154 [00:01<00:02, 35.20it/s]s]"
     ]
    },
    {
     "name": "stdout",
     "output_type": "stream",
     "text": [
      "{'Train':  best_epoch_indx:72\n",
      " auc:0.920129417038803 \n",
      " apur:0.8773134597635804 \n",
      " f1:0.7871208854391261 \n",
      " precision:0.7642067656581445 \n",
      " recall:0.8114516033430147 \n",
      ", 'Validation':  best_epoch_indx:72\n",
      " auc:0.920129417038803 \n",
      " apur:0.8773134597635804 \n",
      " f1:0.7871208854391261 \n",
      " precision:0.7642067656581445 \n",
      " recall:0.8114516033430147 \n",
      ", 'Test':  best_epoch_indx:72\n",
      " auc:0.920129417038803 \n",
      " apur:0.8773134597635804 \n",
      " f1:0.7871208854391261 \n",
      " precision:0.7642067656581445 \n",
      " recall:0.8114516033430147 \n",
      "}\n",
      "=====Epoch 73\n",
      "Training...\n",
      "{'Train':  best_epoch_indx:72\n",
      " auc:0.9153946512580403 \n",
      " apur:0.8714115967653769 \n",
      " f1:0.7786945914087557 \n",
      " precision:0.7243841485183863 \n",
      " recall:0.8418089141773353 \n",
      ", 'Validation':  best_epoch_indx:72\n",
      " auc:0.9153946512580403 \n",
      " apur:0.8714115967653769 \n",
      " f1:0.7786945914087557 \n",
      " precision:0.7243841485183863 \n",
      " recall:0.8418089141773353 \n",
      ", 'Test':  best_epoch_indx:72\n",
      " auc:0.9153946512580403 \n",
      " apur:0.8714115967653769 \n",
      " f1:0.7786945914087557 \n",
      " precision:0.7243841485183863 \n",
      " recall:0.8418089141773353 \n",
      "}\n",
      "=====Epoch 73\n",
      "Training...\n"
     ]
    },
    {
     "name": "stderr",
     "output_type": "stream",
     "text": [
      "Iteration: 100%|██████████| 154/154 [00:01<00:00, 117.66it/s]\n",
      "Iteration: 100%|██████████| 154/154 [00:01<00:00, 120.11it/s]\n",
      "Iteration: 100%|██████████| 154/154 [00:04<00:00, 37.47it/s]\n",
      "Iteration:  70%|███████   | 108/154 [00:02<00:01, 37.69it/s]"
     ]
    },
    {
     "name": "stdout",
     "output_type": "stream",
     "text": [
      "Evaluating...\n"
     ]
    },
    {
     "name": "stderr",
     "output_type": "stream",
     "text": [
      "\r",
      "Iteration:  16%|█▌        | 25/154 [00:00<00:01, 121.73it/s]\r",
      "Iteration:  64%|██████▍   | 99/154 [00:02<00:01, 33.33it/s]\r",
      "Iteration: 100%|██████████| 154/154 [00:03<00:00, 45.63it/s]\r",
      "Iteration: 100%|██████████| 154/154 [00:03<00:00, 44.16it/s]\n",
      "\r",
      "Iteration:   0%|          | 0/154 [00:00<?, ?it/s]\r",
      "Iteration:  73%|███████▎  | 112/154 [00:02<00:01, 37.80it/s]\r",
      "Iteration:   0%|          | 0/154 [00:00<?, ?it/s]\r",
      "Iteration:  25%|██▍       | 38/154 [00:00<00:00, 124.15it/s]\r",
      "Iteration:  67%|██████▋   | 103/154 [00:02<00:01, 34.64it/s]\r",
      "Iteration:  75%|███████▌  | 116/154 [00:02<00:01, 37.97it/s]\r",
      "Iteration:   6%|▌         | 9/154 [00:00<00:02, 54.66it/s]"
     ]
    },
    {
     "name": "stdout",
     "output_type": "stream",
     "text": [
      "Evaluating...\n",
      "{'Train':  best_epoch_indx:73\n",
      " auc:0.9113977066764523 \n",
      " apur:0.866243023178943 \n",
      " f1:0.774168642805934 \n",
      " precision:0.7237947924722866 \n",
      " recall:0.8320787149546559 \n",
      ", 'Validation':  best_epoch_indx:73\n",
      " auc:0.9113977066764523 \n",
      " apur:0.866243023178943 \n",
      " f1:0.774168642805934 \n",
      " precision:0.7237947924722866 \n",
      " recall:0.8320787149546559 \n",
      ", 'Test':  best_epoch_indx:73\n",
      " auc:0.9113977066764523 \n",
      " apur:0.866243023178943 \n",
      " f1:0.774168642805934 \n",
      " precision:0.7237947924722866 \n",
      " recall:0.8320787149546559 \n",
      "}\n",
      "=====Epoch 74\n",
      "Training...\n"
     ]
    },
    {
     "name": "stderr",
     "output_type": "stream",
     "text": [
      "Iteration: 100%|██████████| 154/154 [00:01<00:00, 126.91it/s]\n",
      "Iteration: 100%|██████████| 154/154 [00:03<00:00, 41.29it/s]]\n",
      "Iteration:  94%|█████████▍| 145/154 [00:03<00:00, 44.09it/s]]"
     ]
    },
    {
     "name": "stdout",
     "output_type": "stream",
     "text": [
      "Evaluating...\n"
     ]
    },
    {
     "name": "stderr",
     "output_type": "stream",
     "text": [
      "\r",
      "Iteration:  29%|██▊       | 44/154 [00:01<00:03, 34.56it/s]\r",
      "Iteration:  96%|█████████▌| 148/154 [00:01<00:00, 129.84it/s]\r",
      "Iteration:   6%|▌         | 9/154 [00:00<00:02, 55.22it/s]\r",
      "Iteration:  97%|█████████▋| 150/154 [00:03<00:00, 44.58it/s]\r",
      "Iteration: 100%|██████████| 154/154 [00:01<00:00, 121.15it/s]\n",
      "\r",
      "Iteration: 100%|██████████| 154/154 [00:03<00:00, 38.68it/s]\n",
      "\r",
      "Iteration:   0%|          | 0/154 [00:00<?, ?it/s]\r",
      "Iteration:  14%|█▍        | 22/154 [00:00<00:01, 89.71it/s]\r",
      "Iteration:  31%|███       | 48/154 [00:01<00:03, 34.21it/s]"
     ]
    },
    {
     "name": "stdout",
     "output_type": "stream",
     "text": [
      "Evaluating...\n"
     ]
    },
    {
     "name": "stderr",
     "output_type": "stream",
     "text": [
      "Iteration: 100%|██████████| 154/154 [00:01<00:00, 117.50it/s]\n",
      "Iteration: 100%|██████████| 154/154 [00:01<00:00, 115.70it/s]\n",
      "Iteration: 100%|██████████| 154/154 [00:01<00:00, 119.08it/s]\n",
      "Iteration: 100%|██████████| 154/154 [00:01<00:00, 82.91it/s] \n",
      "Iteration: 100%|██████████| 154/154 [00:04<00:00, 38.07it/s]]\n",
      "Iteration: 100%|██████████| 154/154 [00:01<00:00, 125.98it/s]\n",
      "Iteration:   5%|▍         | 7/154 [00:00<00:02, 67.21it/s]s]"
     ]
    },
    {
     "name": "stdout",
     "output_type": "stream",
     "text": [
      "Evaluating...\n"
     ]
    },
    {
     "name": "stderr",
     "output_type": "stream",
     "text": [
      "Iteration: 100%|██████████| 154/154 [00:01<00:00, 126.15it/s]\n",
      "Iteration: 100%|██████████| 154/154 [00:01<00:00, 97.77it/s] \n",
      "Iteration:   0%|          | 0/154 [00:00<?, ?it/s]111.31it/s]"
     ]
    },
    {
     "name": "stdout",
     "output_type": "stream",
     "text": [
      "{'Train':  best_epoch_indx:75\n",
      " auc:0.9110346113202124 \n",
      " apur:0.8630392378243601 \n",
      " f1:0.7736941721517557 \n",
      " precision:0.7391374750364333 \n",
      " recall:0.8116405879563774 \n",
      ", 'Validation':  best_epoch_indx:75\n",
      " auc:0.9110346113202124 \n",
      " apur:0.8630392378243601 \n",
      " f1:0.7736941721517557 \n",
      " precision:0.7391374750364333 \n",
      " recall:0.8116405879563774 \n",
      ", 'Test':  best_epoch_indx:75\n",
      " auc:0.9110346113202124 \n",
      " apur:0.8630392378243601 \n",
      " f1:0.7736941721517557 \n",
      " precision:0.7391374750364333 \n",
      " recall:0.8116405879563774 \n",
      "}\n",
      "=====Epoch 76\n",
      "Training...\n"
     ]
    },
    {
     "name": "stderr",
     "output_type": "stream",
     "text": [
      "Iteration: 100%|██████████| 154/154 [00:01<00:00, 111.44it/s]\n",
      "Iteration: 100%|██████████| 154/154 [00:01<00:00, 96.13it/s] \n",
      "Iteration:  73%|███████▎  | 112/154 [00:01<00:00, 69.92it/s]]"
     ]
    },
    {
     "name": "stdout",
     "output_type": "stream",
     "text": [
      "{'Train':  best_epoch_indx:73\n",
      " auc:0.9176141469115209 \n",
      " apur:0.873148398815367 \n",
      " f1:0.7844271038005951 \n",
      " precision:0.7450279925353239 \n",
      " recall:0.8282259498547804 \n",
      ", 'Validation':  best_epoch_indx:73\n",
      " auc:0.9176141469115209 \n",
      " apur:0.873148398815367 \n",
      " f1:0.7844271038005951 \n",
      " precision:0.7450279925353239 \n",
      " recall:0.8282259498547804 \n",
      ", 'Test':  best_epoch_indx:73\n",
      " auc:0.9176141469115209 \n",
      " apur:0.873148398815367 \n",
      " f1:0.7844271038005951 \n",
      " precision:0.7450279925353239 \n",
      " recall:0.8282259498547804 \n",
      "}\n",
      "=====Epoch 74\n",
      "Training...\n"
     ]
    },
    {
     "name": "stderr",
     "output_type": "stream",
     "text": [
      "Iteration: 100%|██████████| 154/154 [00:01<00:00, 125.04it/s]\n",
      "Iteration: 100%|██████████| 154/154 [00:01<00:00, 78.26it/s]\n",
      "Iteration: 100%|██████████| 154/154 [00:01<00:00, 127.63it/s]\n",
      "Iteration:   2%|▏         | 3/154 [00:00<00:06, 22.50it/s]]"
     ]
    },
    {
     "name": "stdout",
     "output_type": "stream",
     "text": [
      "{'Train':  best_epoch_indx:73\n",
      " auc:0.9117395079275434 \n",
      " apur:0.8638625084591199 \n",
      " f1:0.7752622860298177 \n",
      " precision:0.72565639859417 \n",
      " recall:0.8321479374110953 \n",
      ", 'Validation':  best_epoch_indx:73\n",
      " auc:0.9117395079275434 \n",
      " apur:0.8638625084591199 \n",
      " f1:0.7752622860298177 \n",
      " precision:0.72565639859417 \n",
      " recall:0.8321479374110953 \n",
      ", 'Test':  best_epoch_indx:73\n",
      " auc:0.9117395079275434 \n",
      " apur:0.8638625084591199 \n",
      " f1:0.7752622860298177 \n",
      " precision:0.72565639859417 \n",
      " recall:0.8321479374110953 \n",
      "}\n",
      "=====Epoch 74\n",
      "Training...\n",
      "{'Train':  best_epoch_indx:73\n",
      " auc:0.9156328269892674 \n",
      " apur:0.8708829444110839 \n",
      " f1:0.7806860940976131 \n",
      " precision:0.7274030095199099 \n",
      " recall:0.8423922707604765 \n",
      ", 'Validation':  best_epoch_indx:73\n",
      " auc:0.9156328269892674 \n",
      " apur:0.8708829444110839 \n",
      " f1:0.7806860940976131 \n",
      " precision:0.7274030095199099 \n",
      " recall:0.8423922707604765 \n",
      ", 'Test':  best_epoch_indx:73\n",
      " auc:0.9156328269892674 \n",
      " apur:0.8708829444110839 \n",
      " f1:0.7806860940976131 \n",
      " precision:0.7274030095199099 \n",
      " recall:0.8423922707604765 \n",
      "}\n",
      "=====Epoch 74\n",
      "Training...\n"
     ]
    },
    {
     "name": "stderr",
     "output_type": "stream",
     "text": [
      "Iteration: 100%|██████████| 154/154 [00:03<00:00, 39.15it/s]]\n",
      "Iteration: 100%|██████████| 154/154 [00:01<00:00, 127.67it/s]\n",
      "Iteration:  51%|█████     | 78/154 [00:02<00:01, 39.42it/s]]"
     ]
    },
    {
     "name": "stdout",
     "output_type": "stream",
     "text": [
      "Evaluating...\n"
     ]
    },
    {
     "name": "stderr",
     "output_type": "stream",
     "text": [
      "Iteration:  62%|██████▏   | 96/154 [00:02<00:01, 41.56it/s]]"
     ]
    },
    {
     "name": "stdout",
     "output_type": "stream",
     "text": [
      "{'Train':  best_epoch_indx:74\n",
      " auc:0.9076899325565437 \n",
      " apur:0.8592343779317861 \n",
      " f1:0.7716864817261119 \n",
      " precision:0.7202671461597739 \n",
      " recall:0.8310117953885365 \n",
      ", 'Validation':  best_epoch_indx:74\n",
      " auc:0.9076899325565437 \n",
      " apur:0.8592343779317861 \n",
      " f1:0.7716864817261119 \n",
      " precision:0.7202671461597739 \n",
      " recall:0.8310117953885365 \n",
      ", 'Test':  best_epoch_indx:74\n",
      " auc:0.9076899325565437 \n",
      " apur:0.8592343779317861 \n",
      " f1:0.7716864817261119 \n",
      " precision:0.7202671461597739 \n",
      " recall:0.8310117953885365 \n",
      "}\n",
      "=====Epoch 75\n",
      "Training...\n"
     ]
    },
    {
     "name": "stderr",
     "output_type": "stream",
     "text": [
      "Iteration: 100%|██████████| 154/154 [00:03<00:00, 43.18it/s]\n",
      "Iteration:   8%|▊         | 12/154 [00:00<00:01, 113.62it/s]]"
     ]
    },
    {
     "name": "stdout",
     "output_type": "stream",
     "text": [
      "Evaluating...\n"
     ]
    },
    {
     "name": "stderr",
     "output_type": "stream",
     "text": [
      "Iteration: 100%|██████████| 154/154 [00:01<00:00, 115.46it/s]\n",
      "Iteration: 100%|██████████| 154/154 [00:03<00:00, 40.24it/s]]\n",
      "Iteration:  79%|███████▊  | 121/154 [00:01<00:00, 114.57it/s]"
     ]
    },
    {
     "name": "stdout",
     "output_type": "stream",
     "text": [
      "Evaluating...\n"
     ]
    },
    {
     "name": "stderr",
     "output_type": "stream",
     "text": [
      "\r",
      "Iteration:   8%|▊         | 13/154 [00:00<00:01, 124.57it/s]\r",
      "Iteration:  42%|████▏     | 65/154 [00:01<00:01, 45.53it/s]\r",
      "Iteration:  97%|█████████▋| 149/154 [00:03<00:00, 38.38it/s]\r",
      "Iteration:   8%|▊         | 12/154 [00:00<00:01, 112.37it/s]\r",
      "Iteration:  87%|████████▋ | 134/154 [00:01<00:00, 118.32it/s]\r",
      "Iteration:  17%|█▋        | 26/154 [00:00<00:01, 125.91it/s]\r",
      "Iteration:  45%|████▌     | 70/154 [00:01<00:01, 45.52it/s]\r",
      "Iteration:  16%|█▌        | 25/154 [00:00<00:01, 121.62it/s]\r",
      "Iteration:  99%|█████████▉| 153/154 [00:03<00:00, 37.47it/s]\r",
      "Iteration:  95%|█████████▌| 147/154 [00:01<00:00, 120.98it/s]\r",
      "Iteration: 100%|██████████| 154/154 [00:03<00:00, 39.64it/s]\n",
      "\r",
      "Iteration:   0%|          | 0/154 [00:00<?, ?it/s]"
     ]
    },
    {
     "name": "stdout",
     "output_type": "stream",
     "text": [
      "Evaluating...\n"
     ]
    },
    {
     "name": "stderr",
     "output_type": "stream",
     "text": [
      "Iteration: 100%|██████████| 154/154 [00:01<00:00, 118.78it/s]\n",
      "Iteration: 100%|██████████| 154/154 [00:01<00:00, 120.08it/s]\n",
      "Iteration: 100%|██████████| 154/154 [00:01<00:00, 118.75it/s]\n",
      "Iteration: 100%|██████████| 154/154 [00:03<00:00, 44.50it/s] \n",
      "Iteration:   7%|▋         | 11/154 [00:00<00:01, 108.10it/s]"
     ]
    },
    {
     "name": "stdout",
     "output_type": "stream",
     "text": [
      "Evaluating...\n"
     ]
    },
    {
     "name": "stderr",
     "output_type": "stream",
     "text": [
      "Iteration: 100%|██████████| 154/154 [00:01<00:00, 107.61it/s]\n",
      "Iteration: 100%|██████████| 154/154 [00:02<00:00, 68.21it/s]\n",
      "Iteration: 100%|██████████| 154/154 [00:01<00:00, 116.52it/s]\n",
      "Iteration: 100%|██████████| 154/154 [00:01<00:00, 88.79it/s] \n",
      "Iteration: 100%|██████████| 154/154 [00:01<00:00, 97.94it/s] \n",
      "Iteration:   3%|▎         | 5/154 [00:00<00:03, 45.30it/s]]]"
     ]
    },
    {
     "name": "stdout",
     "output_type": "stream",
     "text": [
      "{'Train':  best_epoch_indx:76\n",
      " auc:0.9218618812894985 \n",
      " apur:0.8787592418911643 \n",
      " f1:0.7923137079655905 \n",
      " precision:0.7492076906824424 \n",
      " recall:0.8406827880512091 \n",
      ", 'Validation':  best_epoch_indx:76\n",
      " auc:0.9218618812894985 \n",
      " apur:0.8787592418911643 \n",
      " f1:0.7923137079655905 \n",
      " precision:0.7492076906824424 \n",
      " recall:0.8406827880512091 \n",
      ", 'Test':  best_epoch_indx:76\n",
      " auc:0.9218618812894985 \n",
      " apur:0.8787592418911643 \n",
      " f1:0.7923137079655905 \n",
      " precision:0.7492076906824424 \n",
      " recall:0.8406827880512091 \n",
      "}\n",
      "=====Epoch 77\n",
      "Training...\n"
     ]
    },
    {
     "name": "stderr",
     "output_type": "stream",
     "text": [
      "Iteration: 100%|██████████| 154/154 [00:01<00:00, 86.91it/s] \n",
      "Iteration: 100%|██████████| 154/154 [00:01<00:00, 109.37it/s]\n",
      "Iteration: 100%|██████████| 154/154 [00:01<00:00, 125.14it/s]\n",
      "Iteration:   4%|▍         | 6/154 [00:00<00:02, 50.75it/s]]"
     ]
    },
    {
     "name": "stdout",
     "output_type": "stream",
     "text": [
      "{'Train':  best_epoch_indx:74\n",
      " auc:0.9105235957490418 \n",
      " apur:0.8645283547523193 \n",
      " f1:0.7739878514690927 \n",
      " precision:0.7216072160721607 \n",
      " recall:0.8345681939422678 \n",
      ", 'Validation':  best_epoch_indx:74\n",
      " auc:0.9105235957490418 \n",
      " apur:0.8645283547523193 \n",
      " f1:0.7739878514690927 \n",
      " precision:0.7216072160721607 \n",
      " recall:0.8345681939422678 \n",
      ", 'Test':  best_epoch_indx:74\n",
      " auc:0.9105235957490418 \n",
      " apur:0.8645283547523193 \n",
      " f1:0.7739878514690927 \n",
      " precision:0.7216072160721607 \n",
      " recall:0.8345681939422678 \n",
      "}\n",
      "=====Epoch 75\n",
      "Training...\n"
     ]
    },
    {
     "name": "stderr",
     "output_type": "stream",
     "text": [
      "Iteration: 100%|██████████| 154/154 [00:01<00:00, 86.96it/s] \n",
      "Iteration:  66%|██████▌   | 101/154 [00:02<00:01, 36.20it/s]]"
     ]
    },
    {
     "name": "stdout",
     "output_type": "stream",
     "text": [
      "{'Train':  best_epoch_indx:74\n",
      " auc:0.9032768486190356 \n",
      " apur:0.8541818133448056 \n",
      " f1:0.7622592652532771 \n",
      " precision:0.6994356994356994 \n",
      " recall:0.8374822190611664 \n",
      ", 'Validation':  best_epoch_indx:74\n",
      " auc:0.9032768486190356 \n",
      " apur:0.8541818133448056 \n",
      " f1:0.7622592652532771 \n",
      " precision:0.6994356994356994 \n",
      " recall:0.8374822190611664 \n",
      ", 'Test':  best_epoch_indx:74\n",
      " auc:0.9032768486190356 \n",
      " apur:0.8541818133448056 \n",
      " f1:0.7622592652532771 \n",
      " precision:0.6994356994356994 \n",
      " recall:0.8374822190611664 \n",
      "}\n",
      "=====Epoch 75\n",
      "Training...\n"
     ]
    },
    {
     "name": "stderr",
     "output_type": "stream",
     "text": [
      "Iteration: 100%|██████████| 154/154 [00:01<00:00, 120.38it/s]\n",
      "Iteration: 100%|██████████| 154/154 [00:01<00:00, 99.67it/s]\n",
      "Iteration:  84%|████████▍ | 129/154 [00:03<00:00, 34.88it/s]"
     ]
    },
    {
     "name": "stdout",
     "output_type": "stream",
     "text": [
      "{'Train':  best_epoch_indx:75\n",
      " auc:0.9100478439696276 \n",
      " apur:0.8622996555490774 \n",
      " f1:0.7746393234204855 \n",
      " precision:0.7257003780228886 \n",
      " recall:0.8306561555331634 \n",
      ", 'Validation':  best_epoch_indx:75\n",
      " auc:0.9100478439696276 \n",
      " apur:0.8622996555490774 \n",
      " f1:0.7746393234204855 \n",
      " precision:0.7257003780228886 \n",
      " recall:0.8306561555331634 \n",
      ", 'Test':  best_epoch_indx:75\n",
      " auc:0.9100478439696276 \n",
      " apur:0.8622996555490774 \n",
      " f1:0.7746393234204855 \n",
      " precision:0.7257003780228886 \n",
      " recall:0.8306561555331634 \n",
      "}\n",
      "=====Epoch 76\n",
      "Training...\n"
     ]
    },
    {
     "name": "stderr",
     "output_type": "stream",
     "text": [
      "Iteration:  97%|█████████▋| 149/154 [00:03<00:00, 42.80it/s]"
     ]
    },
    {
     "name": "stdout",
     "output_type": "stream",
     "text": [
      "{'Train':  best_epoch_indx:74\n",
      " auc:0.9097655075365126 \n",
      " apur:0.8631505704704727 \n",
      " f1:0.7727050383173 \n",
      " precision:0.7134541074923471 \n",
      " recall:0.8426886373066208 \n",
      ", 'Validation':  best_epoch_indx:74\n",
      " auc:0.9097655075365126 \n",
      " apur:0.8631505704704727 \n",
      " f1:0.7727050383173 \n",
      " precision:0.7134541074923471 \n",
      " recall:0.8426886373066208 \n",
      ", 'Test':  best_epoch_indx:74\n",
      " auc:0.9097655075365126 \n",
      " apur:0.8631505704704727 \n",
      " f1:0.7727050383173 \n",
      " precision:0.7134541074923471 \n",
      " recall:0.8426886373066208 \n",
      "}\n",
      "=====Epoch 75\n",
      "Training...\n",
      "Evaluating...\n"
     ]
    },
    {
     "name": "stderr",
     "output_type": "stream",
     "text": [
      "Iteration: 100%|██████████| 154/154 [00:04<00:00, 38.19it/s]\n",
      "Iteration: 100%|██████████| 154/154 [00:03<00:00, 38.93it/s]]\n",
      "Iteration:  73%|███████▎  | 112/154 [00:02<00:00, 44.22it/s]]"
     ]
    },
    {
     "name": "stdout",
     "output_type": "stream",
     "text": [
      "Evaluating...\n"
     ]
    },
    {
     "name": "stderr",
     "output_type": "stream",
     "text": [
      "Iteration: 100%|██████████| 154/154 [00:01<00:00, 118.35it/s]\n",
      "Iteration: 100%|██████████| 154/154 [00:03<00:00, 44.58it/s]\n",
      "Iteration:  62%|██████▏   | 96/154 [00:02<00:01, 37.09it/s]]]"
     ]
    },
    {
     "name": "stdout",
     "output_type": "stream",
     "text": [
      "Evaluating...\n"
     ]
    },
    {
     "name": "stderr",
     "output_type": "stream",
     "text": [
      "Iteration: 100%|██████████| 154/154 [00:01<00:00, 104.72it/s]\n",
      "Iteration: 100%|██████████| 154/154 [00:01<00:00, 125.18it/s]\n",
      "Iteration: 100%|██████████| 154/154 [00:01<00:00, 125.20it/s]\n",
      "Iteration: 100%|██████████| 154/154 [00:03<00:00, 39.93it/s]\n",
      "Iteration: 100%|██████████| 154/154 [00:04<00:00, 36.07it/s]\n",
      "Iteration:   5%|▍         | 7/154 [00:00<00:02, 68.08it/s]s]"
     ]
    },
    {
     "name": "stdout",
     "output_type": "stream",
     "text": [
      "Evaluating...\n",
      "Evaluating...\n"
     ]
    },
    {
     "name": "stderr",
     "output_type": "stream",
     "text": [
      "Iteration: 100%|██████████| 154/154 [00:01<00:00, 96.48it/s] \n",
      "Iteration: 100%|██████████| 154/154 [00:01<00:00, 122.51it/s]\n",
      "Iteration: 100%|██████████| 154/154 [00:01<00:00, 110.49it/s]\n",
      "Iteration: 100%|██████████| 154/154 [00:01<00:00, 86.48it/s] \n",
      "Iteration: 100%|██████████| 154/154 [00:02<00:00, 70.71it/s]\n",
      "Iteration:  83%|████████▎ | 128/154 [00:01<00:00, 124.11it/s]"
     ]
    },
    {
     "name": "stdout",
     "output_type": "stream",
     "text": [
      "{'Train':  best_epoch_indx:77\n",
      " auc:0.929602915460805 \n",
      " apur:0.891444810270581 \n",
      " f1:0.8009888064883481 \n",
      " precision:0.7536981861899534 \n",
      " recall:0.854611190137506 \n",
      ", 'Validation':  best_epoch_indx:77\n",
      " auc:0.929602915460805 \n",
      " apur:0.891444810270581 \n",
      " f1:0.8009888064883481 \n",
      " precision:0.7536981861899534 \n",
      " recall:0.854611190137506 \n",
      ", 'Test':  best_epoch_indx:77\n",
      " auc:0.929602915460805 \n",
      " apur:0.891444810270581 \n",
      " f1:0.8009888064883481 \n",
      " precision:0.7536981861899534 \n",
      " recall:0.854611190137506 \n",
      "}\n",
      "=====Epoch 78\n",
      "Training...\n"
     ]
    },
    {
     "name": "stderr",
     "output_type": "stream",
     "text": [
      "Iteration: 100%|██████████| 154/154 [00:01<00:00, 119.95it/s]\n",
      "Iteration: 100%|██████████| 154/154 [00:01<00:00, 116.41it/s]\n",
      "Iteration:  17%|█▋        | 26/154 [00:00<00:03, 36.15it/s]s]"
     ]
    },
    {
     "name": "stdout",
     "output_type": "stream",
     "text": [
      "{'Train':  best_epoch_indx:75\n",
      " auc:0.9116454081955869 \n",
      " apur:0.8674869582999017 \n",
      " f1:0.7754555347824873 \n",
      " precision:0.7326268058631235 \n",
      " recall:0.8236026317349298 \n",
      ", 'Validation':  best_epoch_indx:75\n",
      " auc:0.9116454081955869 \n",
      " apur:0.8674869582999017 \n",
      " f1:0.7754555347824873 \n",
      " precision:0.7326268058631235 \n",
      " recall:0.8236026317349298 \n",
      ", 'Test':  best_epoch_indx:75\n",
      " auc:0.9116454081955869 \n",
      " apur:0.8674869582999017 \n",
      " f1:0.7754555347824873 \n",
      " precision:0.7326268058631235 \n",
      " recall:0.8236026317349298 \n",
      "}\n",
      "=====Epoch 76\n",
      "Training...\n"
     ]
    },
    {
     "name": "stderr",
     "output_type": "stream",
     "text": [
      "Iteration: 100%|██████████| 154/154 [00:01<00:00, 117.62it/s]\n",
      "Iteration: 100%|██████████| 154/154 [00:01<00:00, 82.92it/s] \n",
      "Iteration:   0%|          | 0/154 [00:00<?, ?it/s]6.66it/s]]"
     ]
    },
    {
     "name": "stdout",
     "output_type": "stream",
     "text": [
      "{'Train':  best_epoch_indx:75\n",
      " auc:0.908575926946607 \n",
      " apur:0.8617391131659126 \n",
      " f1:0.7701753415565019 \n",
      " precision:0.7219744892668257 \n",
      " recall:0.8252726410621147 \n",
      ", 'Validation':  best_epoch_indx:75\n",
      " auc:0.908575926946607 \n",
      " apur:0.8617391131659126 \n",
      " f1:0.7701753415565019 \n",
      " precision:0.7219744892668257 \n",
      " recall:0.8252726410621147 \n",
      ", 'Test':  best_epoch_indx:75\n",
      " auc:0.908575926946607 \n",
      " apur:0.8617391131659126 \n",
      " f1:0.7701753415565019 \n",
      " precision:0.7219744892668257 \n",
      " recall:0.8252726410621147 \n",
      "}\n",
      "=====Epoch 76\n",
      "Training...\n"
     ]
    },
    {
     "name": "stderr",
     "output_type": "stream",
     "text": [
      "Iteration: 100%|██████████| 154/154 [00:01<00:00, 120.10it/s]\n",
      "Iteration: 100%|██████████| 154/154 [00:01<00:00, 126.77it/s]\n",
      "Iteration:   0%|          | 0/154 [00:00<?, ?it/s]9.67it/s]]"
     ]
    },
    {
     "name": "stdout",
     "output_type": "stream",
     "text": [
      "{'Train':  best_epoch_indx:75\n",
      " auc:0.9120583495605199 \n",
      " apur:0.8653558570334916 \n",
      " f1:0.7776354624937352 \n",
      " precision:0.733287822296907 \n",
      " recall:0.8276924900717207 \n",
      ", 'Validation':  best_epoch_indx:75\n",
      " auc:0.9120583495605199 \n",
      " apur:0.8653558570334916 \n",
      " f1:0.7776354624937352 \n",
      " precision:0.733287822296907 \n",
      " recall:0.8276924900717207 \n",
      ", 'Test':  best_epoch_indx:75\n",
      " auc:0.9120583495605199 \n",
      " apur:0.8653558570334916 \n",
      " f1:0.7776354624937352 \n",
      " precision:0.733287822296907 \n",
      " recall:0.8276924900717207 \n",
      "}\n",
      "=====Epoch 76\n",
      "Training...\n"
     ]
    },
    {
     "name": "stderr",
     "output_type": "stream",
     "text": [
      "Iteration:  68%|██████▊   | 105/154 [00:02<00:01, 44.37it/s]"
     ]
    },
    {
     "name": "stdout",
     "output_type": "stream",
     "text": [
      "{'Train':  best_epoch_indx:76\n",
      " auc:0.9209934657208259 \n",
      " apur:0.8803730177161811 \n",
      " f1:0.7905626976987143 \n",
      " precision:0.7744484876051854 \n",
      " recall:0.8073617450062237 \n",
      ", 'Validation':  best_epoch_indx:76\n",
      " auc:0.9209934657208259 \n",
      " apur:0.8803730177161811 \n",
      " f1:0.7905626976987143 \n",
      " precision:0.7744484876051854 \n",
      " recall:0.8073617450062237 \n",
      ", 'Test':  best_epoch_indx:76\n",
      " auc:0.9209934657208259 \n",
      " apur:0.8803730177161811 \n",
      " f1:0.7905626976987143 \n",
      " precision:0.7744484876051854 \n",
      " recall:0.8073617450062237 \n",
      "}\n",
      "=====Epoch 77\n",
      "Training...\n"
     ]
    },
    {
     "name": "stderr",
     "output_type": "stream",
     "text": [
      "Iteration: 100%|██████████| 154/154 [00:03<00:00, 42.05it/s]\n",
      "Iteration:   0%|          | 0/154 [00:00<?, ?it/s]"
     ]
    },
    {
     "name": "stdout",
     "output_type": "stream",
     "text": [
      "Evaluating...\n"
     ]
    },
    {
     "name": "stderr",
     "output_type": "stream",
     "text": [
      "Iteration: 100%|██████████| 154/154 [00:03<00:00, 39.76it/s]]\n",
      "Iteration:  40%|████      | 62/154 [00:01<00:02, 45.52it/s]]"
     ]
    },
    {
     "name": "stdout",
     "output_type": "stream",
     "text": [
      "Evaluating...\n"
     ]
    },
    {
     "name": "stderr",
     "output_type": "stream",
     "text": [
      "Iteration: 100%|██████████| 154/154 [00:01<00:00, 127.22it/s]\n",
      "Iteration: 100%|██████████| 154/154 [00:03<00:00, 42.24it/s]\n",
      "Iteration:   7%|▋         | 11/154 [00:00<00:02, 60.25it/s]]"
     ]
    },
    {
     "name": "stdout",
     "output_type": "stream",
     "text": [
      "Evaluating...\n"
     ]
    },
    {
     "name": "stderr",
     "output_type": "stream",
     "text": [
      "Iteration: 100%|██████████| 154/154 [00:03<00:00, 39.77it/s]]\n",
      "Iteration: 100%|██████████| 154/154 [00:03<00:00, 44.14it/s]\n",
      "Iteration: 100%|██████████| 154/154 [00:01<00:00, 114.82it/s]\n",
      "Iteration: 100%|██████████| 154/154 [00:02<00:00, 66.11it/s]\n",
      "Iteration:   7%|▋         | 11/154 [00:00<00:02, 60.71it/s]]"
     ]
    },
    {
     "name": "stdout",
     "output_type": "stream",
     "text": [
      "Evaluating...\n",
      "Evaluating...\n"
     ]
    },
    {
     "name": "stderr",
     "output_type": "stream",
     "text": [
      "Iteration: 100%|██████████| 154/154 [00:02<00:00, 75.18it/s]\n",
      "Iteration: 100%|██████████| 154/154 [00:01<00:00, 116.32it/s]\n",
      "Iteration: 100%|██████████| 154/154 [00:01<00:00, 109.99it/s]\n",
      "Iteration: 100%|██████████| 154/154 [00:01<00:00, 105.67it/s]\n",
      "Iteration:  41%|████      | 63/154 [00:00<00:01, 74.07it/s]]]"
     ]
    },
    {
     "name": "stdout",
     "output_type": "stream",
     "text": [
      "{'Train':  best_epoch_indx:78\n",
      " auc:0.9351847629722629 \n",
      " apur:0.8992598866380439 \n",
      " f1:0.8088636551553069 \n",
      " precision:0.7559631136984184 \n",
      " recall:0.8697249881460408 \n",
      ", 'Validation':  best_epoch_indx:78\n",
      " auc:0.9351847629722629 \n",
      " apur:0.8992598866380439 \n",
      " f1:0.8088636551553069 \n",
      " precision:0.7559631136984184 \n",
      " recall:0.8697249881460408 \n",
      ", 'Test':  best_epoch_indx:78\n",
      " auc:0.9351847629722629 \n",
      " apur:0.8992598866380439 \n",
      " f1:0.8088636551553069 \n",
      " precision:0.7559631136984184 \n",
      " recall:0.8697249881460408 \n",
      "}\n",
      "=====Epoch 79\n",
      "Training...\n"
     ]
    },
    {
     "name": "stderr",
     "output_type": "stream",
     "text": [
      "Iteration: 100%|██████████| 154/154 [00:01<00:00, 99.27it/s] \n",
      "Iteration: 100%|██████████| 154/154 [00:01<00:00, 119.07it/s]\n",
      "Iteration: 100%|██████████| 154/154 [00:01<00:00, 82.16it/s] \n",
      "Iteration: 100%|██████████| 154/154 [00:02<00:00, 59.66it/s]\n",
      "Iteration: 100%|██████████| 154/154 [00:01<00:00, 84.74it/s]]\n",
      "Iteration: 100%|██████████| 154/154 [00:01<00:00, 102.84it/s]\n",
      "Iteration: 100%|██████████| 154/154 [00:01<00:00, 124.25it/s]\n",
      "Iteration: 100%|██████████| 154/154 [00:03<00:00, 45.88it/s]\n",
      "Iteration:   4%|▍         | 6/154 [00:00<00:02, 50.61it/s]]]"
     ]
    },
    {
     "name": "stdout",
     "output_type": "stream",
     "text": [
      "Evaluating...\n",
      "{'Train':  best_epoch_indx:76\n",
      " auc:0.920492299971627 \n",
      " apur:0.8774592497459043 \n",
      " f1:0.7842689295039164 \n",
      " precision:0.724631854048349 \n",
      " recall:0.8546025724616205 \n",
      ", 'Validation':  best_epoch_indx:76\n",
      " auc:0.920492299971627 \n",
      " apur:0.8774592497459043 \n",
      " f1:0.7842689295039164 \n",
      " precision:0.724631854048349 \n",
      " recall:0.8546025724616205 \n",
      ", 'Test':  best_epoch_indx:76\n",
      " auc:0.920492299971627 \n",
      " apur:0.8774592497459043 \n",
      " f1:0.7842689295039164 \n",
      " precision:0.724631854048349 \n",
      " recall:0.8546025724616205 \n",
      "}\n",
      "=====Epoch 77\n",
      "Training...\n",
      "{'Train':  best_epoch_indx:76\n",
      " auc:0.9213583457328018 \n",
      " apur:0.8789820960393032 \n",
      " f1:0.7884135175628435 \n",
      " precision:0.7411193990923791 \n",
      " recall:0.8421551775235612 \n",
      ", 'Validation':  best_epoch_indx:76\n",
      " auc:0.9213583457328018 \n",
      " apur:0.8789820960393032 \n",
      " f1:0.7884135175628435 \n",
      " precision:0.7411193990923791 \n",
      " recall:0.8421551775235612 \n",
      ", 'Test':  best_epoch_indx:76\n",
      " auc:0.9213583457328018 \n",
      " apur:0.8789820960393032 \n",
      " f1:0.7884135175628435 \n",
      " precision:0.7411193990923791 \n",
      " recall:0.8421551775235612 \n",
      "}\n",
      "=====Epoch 77\n",
      "Training...\n"
     ]
    },
    {
     "name": "stderr",
     "output_type": "stream",
     "text": [
      "Iteration: 100%|██████████| 154/154 [00:02<00:00, 76.68it/s] \n",
      "Iteration:  12%|█▏        | 19/154 [00:00<00:03, 35.82it/s]"
     ]
    },
    {
     "name": "stdout",
     "output_type": "stream",
     "text": [
      "{'Train':  best_epoch_indx:76\n",
      " auc:0.9200441299507793 \n",
      " apur:0.8784088415856572 \n",
      " f1:0.7873200442967885 \n",
      " precision:0.7387261014131339 \n",
      " recall:0.8427572309151257 \n",
      ", 'Validation':  best_epoch_indx:76\n",
      " auc:0.9200441299507793 \n",
      " apur:0.8784088415856572 \n",
      " f1:0.7873200442967885 \n",
      " precision:0.7387261014131339 \n",
      " recall:0.8427572309151257 \n",
      ", 'Test':  best_epoch_indx:76\n",
      " auc:0.9200441299507793 \n",
      " apur:0.8784088415856572 \n",
      " f1:0.7873200442967885 \n",
      " precision:0.7387261014131339 \n",
      " recall:0.8427572309151257 \n",
      "}\n",
      "=====Epoch 77\n",
      "Training...\n"
     ]
    },
    {
     "name": "stderr",
     "output_type": "stream",
     "text": [
      "Iteration: 100%|██████████| 154/154 [00:01<00:00, 126.07it/s]\n"
     ]
    },
    {
     "name": "stdout",
     "output_type": "stream",
     "text": [
      "{'Train':  best_epoch_indx:77\n",
      " auc:0.9298095832655194 \n",
      " apur:0.8909539408729534 \n",
      " f1:0.8035078871424168 \n",
      " precision:0.7619022316684378 \n",
      " recall:0.8499199810325411 \n",
      ", 'Validation':  best_epoch_indx:77\n",
      " auc:0.9298095832655194 \n",
      " apur:0.8909539408729534 \n",
      " f1:0.8035078871424168 \n",
      " precision:0.7619022316684378 \n",
      " recall:0.8499199810325411 \n",
      ", 'Test':  best_epoch_indx:77\n",
      " auc:0.9298095832655194 \n",
      " apur:0.8909539408729534 \n",
      " f1:0.8035078871424168 \n",
      " precision:0.7619022316684378 \n",
      " recall:0.8499199810325411 \n",
      "}\n",
      "=====Epoch 78\n",
      "Training...\n"
     ]
    },
    {
     "name": "stderr",
     "output_type": "stream",
     "text": [
      "Iteration: 100%|██████████| 154/154 [00:01<00:00, 117.44it/s]\n",
      "Iteration: 100%|██████████| 154/154 [00:03<00:00, 45.39it/s]\n",
      "Iteration:   0%|          | 0/154 [00:00<?, ?it/s]"
     ]
    },
    {
     "name": "stdout",
     "output_type": "stream",
     "text": [
      "Evaluating...\n"
     ]
    },
    {
     "name": "stderr",
     "output_type": "stream",
     "text": [
      "Iteration: 100%|██████████| 154/154 [00:03<00:00, 43.62it/s]\n",
      "Iteration:   8%|▊         | 12/154 [00:00<00:01, 111.39it/s]"
     ]
    },
    {
     "name": "stdout",
     "output_type": "stream",
     "text": [
      "Evaluating...\n",
      "Evaluating...\n"
     ]
    },
    {
     "name": "stderr",
     "output_type": "stream",
     "text": [
      "Iteration: 100%|██████████| 154/154 [00:04<00:00, 37.77it/s]\n",
      "Iteration: 100%|██████████| 154/154 [00:01<00:00, 123.69it/s]\n",
      "Iteration: 100%|██████████| 154/154 [00:04<00:00, 36.59it/s]]\n",
      "Iteration: 100%|██████████| 154/154 [00:01<00:00, 115.74it/s]\n"
     ]
    },
    {
     "name": "stdout",
     "output_type": "stream",
     "text": [
      "Evaluating...\n"
     ]
    },
    {
     "name": "stderr",
     "output_type": "stream",
     "text": [
      "Iteration: 100%|██████████| 154/154 [00:01<00:00, 77.18it/s]]\n",
      "Iteration: 100%|██████████| 154/154 [00:01<00:00, 118.86it/s]\n",
      "Iteration:   3%|▎         | 5/154 [00:00<00:03, 43.23it/s]]"
     ]
    },
    {
     "name": "stdout",
     "output_type": "stream",
     "text": [
      "{'Train':  best_epoch_indx:79\n",
      " auc:0.9413199492798741 \n",
      " apur:0.9084155721729128 \n",
      " f1:0.81900022366361 \n",
      " precision:0.7751375952582558 \n",
      " recall:0.8681247036510195 \n",
      ", 'Validation':  best_epoch_indx:79\n",
      " auc:0.9413199492798741 \n",
      " apur:0.9084155721729128 \n",
      " f1:0.81900022366361 \n",
      " precision:0.7751375952582558 \n",
      " recall:0.8681247036510195 \n",
      ", 'Test':  best_epoch_indx:79\n",
      " auc:0.9413199492798741 \n",
      " apur:0.9084155721729128 \n",
      " f1:0.81900022366361 \n",
      " precision:0.7751375952582558 \n",
      " recall:0.8681247036510195 \n",
      "}\n",
      "=====Epoch 80\n",
      "Training...\n"
     ]
    },
    {
     "name": "stderr",
     "output_type": "stream",
     "text": [
      "Iteration: 100%|██████████| 154/154 [00:01<00:00, 125.38it/s]\n",
      "Iteration: 100%|██████████| 154/154 [00:01<00:00, 127.01it/s]\n",
      "Iteration: 100%|██████████| 154/154 [00:02<00:00, 71.34it/s]]\n",
      "Iteration: 100%|██████████| 154/154 [00:01<00:00, 102.15it/s]\n",
      "Iteration: 100%|██████████| 154/154 [00:03<00:00, 44.14it/s]]\n",
      "Iteration:  97%|█████████▋| 150/154 [00:01<00:00, 123.31it/s]"
     ]
    },
    {
     "name": "stdout",
     "output_type": "stream",
     "text": [
      "Evaluating...\n"
     ]
    },
    {
     "name": "stderr",
     "output_type": "stream",
     "text": [
      "Iteration: 100%|██████████| 154/154 [00:01<00:00, 114.23it/s]\n",
      "Iteration: 100%|██████████| 154/154 [00:01<00:00, 109.28it/s]\n",
      "Iteration: 100%|██████████| 154/154 [00:01<00:00, 89.62it/s] \n"
     ]
    },
    {
     "name": "stdout",
     "output_type": "stream",
     "text": [
      "{'Train':  best_epoch_indx:77\n",
      " auc:0.9261920699423393 \n",
      " apur:0.8849530286222798 \n",
      " f1:0.7911402526787141 \n",
      " precision:0.7188317349607672 \n",
      " recall:0.8796230440967283 \n",
      ", 'Validation':  best_epoch_indx:77\n",
      " auc:0.9261920699423393 \n",
      " apur:0.8849530286222798 \n",
      " f1:0.7911402526787141 \n",
      " precision:0.7188317349607672 \n",
      " recall:0.8796230440967283 \n",
      ", 'Test':  best_epoch_indx:77\n",
      " auc:0.9261920699423393 \n",
      " apur:0.8849530286222798 \n",
      " f1:0.7911402526787141 \n",
      " precision:0.7188317349607672 \n",
      " recall:0.8796230440967283 \n",
      "}\n",
      "=====Epoch 78\n",
      "Training...\n"
     ]
    },
    {
     "name": "stderr",
     "output_type": "stream",
     "text": [
      "Iteration: 100%|██████████| 154/154 [00:01<00:00, 77.83it/s] \n",
      "Iteration: 100%|██████████| 154/154 [00:01<00:00, 122.92it/s]\n",
      "Iteration:   4%|▍         | 6/154 [00:00<00:02, 50.42it/s]]"
     ]
    },
    {
     "name": "stdout",
     "output_type": "stream",
     "text": [
      "{'Train':  best_epoch_indx:77\n",
      " auc:0.9299728968147183 \n",
      " apur:0.891784507326532 \n",
      " f1:0.8014629924337605 \n",
      " precision:0.757574158133643 \n",
      " recall:0.850749807361745 \n",
      ", 'Validation':  best_epoch_indx:77\n",
      " auc:0.9299728968147183 \n",
      " apur:0.891784507326532 \n",
      " f1:0.8014629924337605 \n",
      " precision:0.757574158133643 \n",
      " recall:0.850749807361745 \n",
      ", 'Test':  best_epoch_indx:77\n",
      " auc:0.9299728968147183 \n",
      " apur:0.891784507326532 \n",
      " f1:0.8014629924337605 \n",
      " precision:0.757574158133643 \n",
      " recall:0.850749807361745 \n",
      "}\n",
      "=====Epoch 78\n",
      "Training...\n"
     ]
    },
    {
     "name": "stderr",
     "output_type": "stream",
     "text": [
      "\r",
      "Iteration:  14%|█▎        | 21/154 [00:00<00:01, 66.67it/s]\r",
      "Iteration:   0%|          | 0/154 [00:00<?, ?it/s]\r",
      "Iteration:  23%|██▎       | 35/154 [00:00<00:03, 39.38it/s]\r",
      "Iteration:   8%|▊         | 12/154 [00:00<00:03, 47.32it/s]\r",
      "Iteration:  19%|█▉        | 29/154 [00:00<00:01, 69.64it/s]\r",
      "Iteration:  25%|██▌       | 39/154 [00:00<00:02, 38.73it/s]\r",
      "Iteration:   4%|▍         | 6/154 [00:00<00:02, 50.91it/s]\r",
      "Iteration:  11%|█         | 17/154 [00:00<00:02, 46.51it/s]"
     ]
    },
    {
     "name": "stdout",
     "output_type": "stream",
     "text": [
      "{'Train':  best_epoch_indx:77\n",
      " auc:0.9293842600098445 \n",
      " apur:0.891821997129829 \n",
      " f1:0.8025419362225912 \n",
      " precision:0.7760615623096938 \n",
      " recall:0.8308932487700789 \n",
      ", 'Validation':  best_epoch_indx:77\n",
      " auc:0.9293842600098445 \n",
      " apur:0.891821997129829 \n",
      " f1:0.8025419362225912 \n",
      " precision:0.7760615623096938 \n",
      " recall:0.8308932487700789 \n",
      ", 'Test':  best_epoch_indx:77\n",
      " auc:0.9293842600098445 \n",
      " apur:0.891821997129829 \n",
      " f1:0.8025419362225912 \n",
      " precision:0.7760615623096938 \n",
      " recall:0.8308932487700789 \n",
      "}\n",
      "=====Epoch 78\n",
      "Training...\n"
     ]
    },
    {
     "name": "stderr",
     "output_type": "stream",
     "text": [
      "Iteration: 100%|██████████| 154/154 [00:01<00:00, 96.38it/s] \n",
      "Iteration: 100%|██████████| 154/154 [00:01<00:00, 126.24it/s]\n",
      "Iteration:  68%|██████▊   | 104/154 [00:02<00:01, 37.00it/s]"
     ]
    },
    {
     "name": "stdout",
     "output_type": "stream",
     "text": [
      "{'Train':  best_epoch_indx:78\n",
      " auc:0.9333875391511188 \n",
      " apur:0.8971828504278739 \n",
      " f1:0.805823105289229 \n",
      " precision:0.7520932860738686 \n",
      " recall:0.8678205204196551 \n",
      ", 'Validation':  best_epoch_indx:78\n",
      " auc:0.9333875391511188 \n",
      " apur:0.8971828504278739 \n",
      " f1:0.805823105289229 \n",
      " precision:0.7520932860738686 \n",
      " recall:0.8678205204196551 \n",
      ", 'Test':  best_epoch_indx:78\n",
      " auc:0.9333875391511188 \n",
      " apur:0.8971828504278739 \n",
      " f1:0.805823105289229 \n",
      " precision:0.7520932860738686 \n",
      " recall:0.8678205204196551 \n",
      "}\n",
      "=====Epoch 79\n",
      "Training...\n"
     ]
    },
    {
     "name": "stderr",
     "output_type": "stream",
     "text": [
      "Iteration: 100%|██████████| 154/154 [00:03<00:00, 38.72it/s]\n",
      "Iteration: 100%|██████████| 154/154 [00:03<00:00, 45.42it/s]\n",
      "Iteration:   0%|          | 0/154 [00:00<?, ?it/s]"
     ]
    },
    {
     "name": "stdout",
     "output_type": "stream",
     "text": [
      "Evaluating...\n",
      "Evaluating...\n"
     ]
    },
    {
     "name": "stderr",
     "output_type": "stream",
     "text": [
      "Iteration: 100%|██████████| 154/154 [00:03<00:00, 42.02it/s]\n",
      "Iteration:   8%|▊         | 12/154 [00:00<00:01, 112.66it/s]"
     ]
    },
    {
     "name": "stdout",
     "output_type": "stream",
     "text": [
      "Evaluating...\n"
     ]
    },
    {
     "name": "stderr",
     "output_type": "stream",
     "text": [
      "Iteration: 100%|██████████| 154/154 [00:01<00:00, 125.34it/s]\n",
      "Iteration: 100%|██████████| 154/154 [00:02<00:00, 66.29it/s]]\n",
      "Iteration: 100%|██████████| 154/154 [00:01<00:00, 126.33it/s]\n",
      "Iteration: 100%|██████████| 154/154 [00:01<00:00, 78.75it/s]\n",
      "Iteration: 100%|██████████| 154/154 [00:03<00:00, 45.65it/s]\n",
      "Iteration:   7%|▋         | 11/154 [00:00<00:01, 109.56it/s]"
     ]
    },
    {
     "name": "stdout",
     "output_type": "stream",
     "text": [
      "Evaluating...\n"
     ]
    },
    {
     "name": "stderr",
     "output_type": "stream",
     "text": [
      "Iteration:   0%|          | 0/154 [00:00<?, ?it/s]3.05it/s] "
     ]
    },
    {
     "name": "stdout",
     "output_type": "stream",
     "text": [
      "{'Train':  best_epoch_indx:80\n",
      " auc:0.9416987376366619 \n",
      " apur:0.9091549188516033 \n",
      " f1:0.8195663759010461 \n",
      " precision:0.7779138491028167 \n",
      " recall:0.865931721194879 \n",
      ", 'Validation':  best_epoch_indx:80\n",
      " auc:0.9416987376366619 \n",
      " apur:0.9091549188516033 \n",
      " f1:0.8195663759010461 \n",
      " precision:0.7779138491028167 \n",
      " recall:0.865931721194879 \n",
      ", 'Test':  best_epoch_indx:80\n",
      " auc:0.9416987376366619 \n",
      " apur:0.9091549188516033 \n",
      " f1:0.8195663759010461 \n",
      " precision:0.7779138491028167 \n",
      " recall:0.865931721194879 \n",
      "}\n",
      "=====Epoch 81\n",
      "Training...\n"
     ]
    },
    {
     "name": "stderr",
     "output_type": "stream",
     "text": [
      "Iteration: 100%|██████████| 154/154 [00:01<00:00, 124.04it/s]\n",
      "Iteration: 100%|██████████| 154/154 [00:01<00:00, 97.16it/s] \n",
      "Iteration: 100%|██████████| 154/154 [00:01<00:00, 117.19it/s]\n",
      "Iteration: 100%|██████████| 154/154 [00:01<00:00, 78.80it/s] \n",
      "Iteration: 100%|██████████| 154/154 [00:01<00:00, 111.98it/s]\n",
      "Iteration: 100%|██████████| 154/154 [00:01<00:00, 95.21it/s] \n",
      "Iteration: 100%|██████████| 154/154 [00:03<00:00, 41.87it/s]\n",
      "Iteration:  14%|█▎        | 21/154 [00:00<00:02, 66.20it/s]]"
     ]
    },
    {
     "name": "stdout",
     "output_type": "stream",
     "text": [
      "Evaluating...\n",
      "{'Train':  best_epoch_indx:78\n",
      " auc:0.9344589938564769 \n",
      " apur:0.8989986035705761 \n",
      " f1:0.8068320907978189 \n",
      " precision:0.7601824186192797 \n",
      " recall:0.8595815304368443 \n",
      ", 'Validation':  best_epoch_indx:78\n",
      " auc:0.9344589938564769 \n",
      " apur:0.8989986035705761 \n",
      " f1:0.8068320907978189 \n",
      " precision:0.7601824186192797 \n",
      " recall:0.8595815304368443 \n",
      ", 'Test':  best_epoch_indx:78\n",
      " auc:0.9344589938564769 \n",
      " apur:0.8989986035705761 \n",
      " f1:0.8068320907978189 \n",
      " precision:0.7601824186192797 \n",
      " recall:0.8595815304368443 \n",
      "}\n",
      "=====Epoch 79\n",
      "Training...\n"
     ]
    },
    {
     "name": "stderr",
     "output_type": "stream",
     "text": [
      "Iteration: 100%|██████████| 154/154 [00:01<00:00, 105.32it/s]\n",
      "Iteration: 100%|██████████| 154/154 [00:02<00:00, 60.59it/s]\n",
      "Iteration:  31%|███       | 47/154 [00:01<00:02, 45.78it/s]s]"
     ]
    },
    {
     "name": "stdout",
     "output_type": "stream",
     "text": [
      "{'Train':  best_epoch_indx:78\n",
      " auc:0.9333259355292813 \n",
      " apur:0.8968854342465107 \n",
      " f1:0.8057775908007293 \n",
      " precision:0.7647873076718309 \n",
      " recall:0.8514106211474632 \n",
      ", 'Validation':  best_epoch_indx:78\n",
      " auc:0.9333259355292813 \n",
      " apur:0.8968854342465107 \n",
      " f1:0.8057775908007293 \n",
      " precision:0.7647873076718309 \n",
      " recall:0.8514106211474632 \n",
      ", 'Test':  best_epoch_indx:78\n",
      " auc:0.9333259355292813 \n",
      " apur:0.8968854342465107 \n",
      " f1:0.8057775908007293 \n",
      " precision:0.7647873076718309 \n",
      " recall:0.8514106211474632 \n",
      "}\n",
      "=====Epoch 79\n",
      "Training...\n"
     ]
    },
    {
     "name": "stderr",
     "output_type": "stream",
     "text": [
      "\r",
      "Iteration:   6%|▋         | 10/154 [00:00<00:03, 42.00it/s]\r",
      "Iteration:  65%|██████▍   | 100/154 [00:01<00:00, 66.71it/s]\r",
      "Iteration: 100%|██████████| 154/154 [00:01<00:00, 128.54it/s]\r",
      "Iteration: 100%|██████████| 154/154 [00:01<00:00, 126.52it/s]\n",
      "\r",
      "Iteration:  34%|███▍      | 52/154 [00:01<00:02, 45.78it/s]\r",
      "Iteration:   0%|          | 0/154 [00:00<?, ?it/s]\r",
      "Iteration:  71%|███████▏  | 110/154 [00:01<00:00, 75.17it/s]\r",
      "Iteration:  10%|▉         | 15/154 [00:00<00:03, 40.43it/s]\r",
      "Iteration:  37%|███▋      | 57/154 [00:01<00:02, 45.71it/s]\r",
      "Iteration:   3%|▎         | 4/154 [00:00<00:03, 39.31it/s]"
     ]
    },
    {
     "name": "stdout",
     "output_type": "stream",
     "text": [
      "{'Train':  best_epoch_indx:78\n",
      " auc:0.9354893764803198 \n",
      " apur:0.8996280087427702 \n",
      " f1:0.8098337756669926 \n",
      " precision:0.7659057281758613 \n",
      " recall:0.8591073439630135 \n",
      ", 'Validation':  best_epoch_indx:78\n",
      " auc:0.9354893764803198 \n",
      " apur:0.8996280087427702 \n",
      " f1:0.8098337756669926 \n",
      " precision:0.7659057281758613 \n",
      " recall:0.8591073439630135 \n",
      ", 'Test':  best_epoch_indx:78\n",
      " auc:0.9354893764803198 \n",
      " apur:0.8996280087427702 \n",
      " f1:0.8098337756669926 \n",
      " precision:0.7659057281758613 \n",
      " recall:0.8591073439630135 \n",
      "}\n",
      "=====Epoch 79\n",
      "Training...\n"
     ]
    },
    {
     "name": "stderr",
     "output_type": "stream",
     "text": [
      "Iteration: 100%|██████████| 154/154 [00:01<00:00, 80.89it/s] \n",
      "Iteration:  63%|██████▎   | 97/154 [00:02<00:01, 45.66it/s]]"
     ]
    },
    {
     "name": "stdout",
     "output_type": "stream",
     "text": [
      "{'Train':  best_epoch_indx:79\n",
      " auc:0.9397318157090343 \n",
      " apur:0.9059063477371595 \n",
      " f1:0.815978754011287 \n",
      " precision:0.7650568034445194 \n",
      " recall:0.8741627645071425 \n",
      ", 'Validation':  best_epoch_indx:79\n",
      " auc:0.9397318157090343 \n",
      " apur:0.9059063477371595 \n",
      " f1:0.815978754011287 \n",
      " precision:0.7650568034445194 \n",
      " recall:0.8741627645071425 \n",
      ", 'Test':  best_epoch_indx:79\n",
      " auc:0.9397318157090343 \n",
      " apur:0.9059063477371595 \n",
      " f1:0.815978754011287 \n",
      " precision:0.7650568034445194 \n",
      " recall:0.8741627645071425 \n",
      "}\n",
      "=====Epoch 80\n",
      "Training...\n"
     ]
    },
    {
     "name": "stderr",
     "output_type": "stream",
     "text": [
      "Iteration: 100%|██████████| 154/154 [00:01<00:00, 125.72it/s]\n",
      "Iteration: 100%|██████████| 154/154 [00:03<00:00, 45.83it/s]\n",
      "Iteration:  31%|███       | 47/154 [00:01<00:02, 38.49it/s]"
     ]
    },
    {
     "name": "stdout",
     "output_type": "stream",
     "text": [
      "Evaluating...\n"
     ]
    },
    {
     "name": "stderr",
     "output_type": "stream",
     "text": [
      "Iteration: 100%|██████████| 154/154 [00:01<00:00, 126.25it/s]\n",
      "Iteration: 100%|██████████| 154/154 [00:03<00:00, 43.85it/s]\n",
      "Iteration:  47%|████▋     | 72/154 [00:01<00:01, 69.78it/s]]"
     ]
    },
    {
     "name": "stdout",
     "output_type": "stream",
     "text": [
      "Evaluating...\n",
      "Evaluating...\n"
     ]
    },
    {
     "name": "stderr",
     "output_type": "stream",
     "text": [
      "Iteration: 100%|██████████| 154/154 [00:03<00:00, 39.11it/s]\n",
      "Iteration: 100%|██████████| 154/154 [00:01<00:00, 124.73it/s]\n",
      "Iteration: 100%|██████████| 154/154 [00:01<00:00, 125.69it/s]\n",
      "Iteration: 100%|██████████| 154/154 [00:02<00:00, 64.98it/s]\n",
      "Iteration: 100%|██████████| 154/154 [00:04<00:00, 37.10it/s]]\n",
      "Iteration:   0%|          | 0/154 [00:00<?, ?it/s]"
     ]
    },
    {
     "name": "stdout",
     "output_type": "stream",
     "text": [
      "Evaluating...\n"
     ]
    },
    {
     "name": "stderr",
     "output_type": "stream",
     "text": [
      "Iteration: 100%|██████████| 154/154 [00:01<00:00, 116.59it/s]\n",
      "Iteration:  14%|█▍        | 22/154 [00:00<00:01, 110.74it/s]"
     ]
    },
    {
     "name": "stdout",
     "output_type": "stream",
     "text": [
      "{'Train':  best_epoch_indx:81\n",
      " auc:0.9358883592356984 \n",
      " apur:0.900159006853188 \n",
      " f1:0.8125399872040947 \n",
      " precision:0.765581590396813 \n",
      " recall:0.8656353722143196 \n",
      ", 'Validation':  best_epoch_indx:81\n",
      " auc:0.9358883592356984 \n",
      " apur:0.900159006853188 \n",
      " f1:0.8125399872040947 \n",
      " precision:0.765581590396813 \n",
      " recall:0.8656353722143196 \n",
      ", 'Test':  best_epoch_indx:81\n",
      " auc:0.9358883592356984 \n",
      " apur:0.900159006853188 \n",
      " f1:0.8125399872040947 \n",
      " precision:0.765581590396813 \n",
      " recall:0.8656353722143196 \n",
      "}\n",
      "=====Epoch 82\n",
      "Training...\n"
     ]
    },
    {
     "name": "stderr",
     "output_type": "stream",
     "text": [
      "Iteration: 100%|██████████| 154/154 [00:01<00:00, 112.95it/s]\n",
      "Iteration: 100%|██████████| 154/154 [00:01<00:00, 111.17it/s]\n",
      "Iteration: 100%|██████████| 154/154 [00:01<00:00, 125.94it/s]\n",
      "Iteration: 100%|██████████| 154/154 [00:02<00:00, 70.76it/s]\n",
      "Iteration:  16%|█▌        | 25/154 [00:00<00:01, 82.76it/s]]"
     ]
    },
    {
     "name": "stdout",
     "output_type": "stream",
     "text": [
      "{'Train':  best_epoch_indx:79\n",
      " auc:0.9429310990967683 \n",
      " apur:0.9102054701124057 \n",
      " f1:0.8197560774165129 \n",
      " precision:0.765371170059634 \n",
      " recall:0.882461027799182 \n",
      ", 'Validation':  best_epoch_indx:79\n",
      " auc:0.9429310990967683 \n",
      " apur:0.9102054701124057 \n",
      " f1:0.8197560774165129 \n",
      " precision:0.765371170059634 \n",
      " recall:0.882461027799182 \n",
      ", 'Test':  best_epoch_indx:79\n",
      " auc:0.9429310990967683 \n",
      " apur:0.9102054701124057 \n",
      " f1:0.8197560774165129 \n",
      " precision:0.765371170059634 \n",
      " recall:0.882461027799182 \n",
      "}\n",
      "=====Epoch 80\n",
      "Training...\n"
     ]
    },
    {
     "name": "stderr",
     "output_type": "stream",
     "text": [
      "Iteration: 100%|██████████| 154/154 [00:01<00:00, 127.49it/s]\n",
      "Iteration: 100%|██████████| 154/154 [00:01<00:00, 116.44it/s]\n",
      "Iteration:  51%|█████     | 78/154 [00:01<00:01, 70.85it/s]]"
     ]
    },
    {
     "name": "stdout",
     "output_type": "stream",
     "text": [
      "{'Train':  best_epoch_indx:79\n",
      " auc:0.9412150711690553 \n",
      " apur:0.9080116721817661 \n",
      " f1:0.8180075031263027 \n",
      " precision:0.7700115098880402 \n",
      " recall:0.8723845652302769 \n",
      ", 'Validation':  best_epoch_indx:79\n",
      " auc:0.9412150711690553 \n",
      " apur:0.9080116721817661 \n",
      " f1:0.8180075031263027 \n",
      " precision:0.7700115098880402 \n",
      " recall:0.8723845652302769 \n",
      ", 'Test':  best_epoch_indx:79\n",
      " auc:0.9412150711690553 \n",
      " apur:0.9080116721817661 \n",
      " f1:0.8180075031263027 \n",
      " precision:0.7700115098880402 \n",
      " recall:0.8723845652302769 \n",
      "}\n",
      "=====Epoch 80\n",
      "Training...\n",
      "{'Train':  best_epoch_indx:79\n",
      " auc:0.9391440047666926 \n",
      " apur:0.9044956323942436 \n",
      " f1:0.815967863419533 \n",
      " precision:0.7707509881422925 \n",
      " recall:0.8668207681365576 \n",
      ", 'Validation':  best_epoch_indx:79\n",
      " auc:0.9391440047666926 \n",
      " apur:0.9044956323942436 \n",
      " f1:0.815967863419533 \n",
      " precision:0.7707509881422925 \n",
      " recall:0.8668207681365576 \n",
      ", 'Test':  best_epoch_indx:79\n",
      " auc:0.9391440047666926 \n",
      " apur:0.9044956323942436 \n",
      " f1:0.815967863419533 \n",
      " precision:0.7707509881422925 \n",
      " recall:0.8668207681365576 \n",
      "}\n",
      "=====Epoch 80\n",
      "Training...\n"
     ]
    },
    {
     "name": "stderr",
     "output_type": "stream",
     "text": [
      "Iteration: 100%|██████████| 154/154 [00:03<00:00, 38.82it/s]]\n",
      "Iteration: 100%|██████████| 154/154 [00:01<00:00, 88.66it/s] \n",
      "Iteration:   8%|▊         | 12/154 [00:00<00:01, 113.03it/s]"
     ]
    },
    {
     "name": "stdout",
     "output_type": "stream",
     "text": [
      "Evaluating...\n"
     ]
    },
    {
     "name": "stderr",
     "output_type": "stream",
     "text": [
      "Iteration: 100%|██████████| 154/154 [00:01<00:00, 119.66it/s]\n",
      "Iteration: 100%|██████████| 154/154 [00:03<00:00, 44.47it/s]\n",
      "Iteration:  44%|████▍     | 68/154 [00:01<00:02, 33.44it/s]"
     ]
    },
    {
     "name": "stdout",
     "output_type": "stream",
     "text": [
      "Evaluating...\n"
     ]
    },
    {
     "name": "stderr",
     "output_type": "stream",
     "text": [
      "Iteration: 100%|██████████| 154/154 [00:01<00:00, 124.59it/s]\n",
      "Iteration: 100%|██████████| 154/154 [00:01<00:00, 126.16it/s]\n",
      "Iteration: 100%|██████████| 154/154 [00:03<00:00, 44.23it/s]\n",
      "Iteration:  79%|███████▊  | 121/154 [00:03<00:00, 34.45it/s]"
     ]
    },
    {
     "name": "stdout",
     "output_type": "stream",
     "text": [
      "Evaluating...\n"
     ]
    },
    {
     "name": "stderr",
     "output_type": "stream",
     "text": [
      "Iteration: 100%|██████████| 154/154 [00:02<00:00, 63.22it/s]\n",
      "Iteration: 100%|██████████| 154/154 [00:04<00:00, 36.03it/s]]\n",
      "Iteration:  25%|██▍       | 38/154 [00:00<00:00, 122.62it/s]"
     ]
    },
    {
     "name": "stdout",
     "output_type": "stream",
     "text": [
      "Evaluating...\n"
     ]
    },
    {
     "name": "stderr",
     "output_type": "stream",
     "text": [
      "Iteration: 100%|██████████| 154/154 [00:01<00:00, 124.42it/s]\n",
      "Iteration:  58%|█████▊    | 90/154 [00:00<00:00, 123.59it/s]]"
     ]
    },
    {
     "name": "stdout",
     "output_type": "stream",
     "text": [
      "{'Train':  best_epoch_indx:80\n",
      " auc:0.9393457363226687 \n",
      " apur:0.906390691392025 \n",
      " f1:0.8181563776795209 \n",
      " precision:0.7749562635847956 \n",
      " recall:0.8664572343073914 \n",
      ", 'Validation':  best_epoch_indx:80\n",
      " auc:0.9393457363226687 \n",
      " apur:0.906390691392025 \n",
      " f1:0.8181563776795209 \n",
      " precision:0.7749562635847956 \n",
      " recall:0.8664572343073914 \n",
      ", 'Test':  best_epoch_indx:80\n",
      " auc:0.9393457363226687 \n",
      " apur:0.906390691392025 \n",
      " f1:0.8181563776795209 \n",
      " precision:0.7749562635847956 \n",
      " recall:0.8664572343073914 \n",
      "}\n",
      "=====Epoch 81\n",
      "Training...\n"
     ]
    },
    {
     "name": "stderr",
     "output_type": "stream",
     "text": [
      "Iteration: 100%|██████████| 154/154 [00:01<00:00, 112.23it/s]\n",
      "Iteration: 100%|██████████| 154/154 [00:01<00:00, 123.58it/s]\n",
      "Iteration:   3%|▎         | 5/154 [00:00<00:03, 42.84it/s]]s]"
     ]
    },
    {
     "name": "stdout",
     "output_type": "stream",
     "text": [
      "{'Train':  best_epoch_indx:82\n",
      " auc:0.933670473070529 \n",
      " apur:0.897065406347851 \n",
      " f1:0.8036714289616741 \n",
      " precision:0.7453762351152774 \n",
      " recall:0.8718587008060692 \n",
      ", 'Validation':  best_epoch_indx:82\n",
      " auc:0.933670473070529 \n",
      " apur:0.897065406347851 \n",
      " f1:0.8036714289616741 \n",
      " precision:0.7453762351152774 \n",
      " recall:0.8718587008060692 \n",
      ", 'Test':  best_epoch_indx:82\n",
      " auc:0.933670473070529 \n",
      " apur:0.897065406347851 \n",
      " f1:0.8036714289616741 \n",
      " precision:0.7453762351152774 \n",
      " recall:0.8718587008060692 \n",
      "}\n",
      "=====Epoch 83\n",
      "Training...\n"
     ]
    },
    {
     "name": "stderr",
     "output_type": "stream",
     "text": [
      "Iteration: 100%|██████████| 154/154 [00:01<00:00, 86.64it/s] \n",
      "Iteration: 100%|██████████| 154/154 [00:01<00:00, 95.05it/s] \n",
      "Iteration: 100%|██████████| 154/154 [00:01<00:00, 128.30it/s]\n",
      "Iteration: 100%|██████████| 154/154 [00:03<00:00, 43.66it/s]\n",
      "Iteration: 100%|██████████| 154/154 [00:02<00:00, 66.06it/s]\n"
     ]
    },
    {
     "name": "stdout",
     "output_type": "stream",
     "text": [
      "Evaluating...\n"
     ]
    },
    {
     "name": "stderr",
     "output_type": "stream",
     "text": [
      "Iteration:   4%|▍         | 6/154 [00:00<00:02, 50.56it/s]s]"
     ]
    },
    {
     "name": "stdout",
     "output_type": "stream",
     "text": [
      "{'Train':  best_epoch_indx:80\n",
      " auc:0.9411260671655355 \n",
      " apur:0.9079841624133871 \n",
      " f1:0.8166824538920153 \n",
      " precision:0.770488356200389 \n",
      " recall:0.8687688933673167 \n",
      ", 'Validation':  best_epoch_indx:80\n",
      " auc:0.9411260671655355 \n",
      " apur:0.9079841624133871 \n",
      " f1:0.8166824538920153 \n",
      " precision:0.770488356200389 \n",
      " recall:0.8687688933673167 \n",
      ", 'Test':  best_epoch_indx:80\n",
      " auc:0.9411260671655355 \n",
      " apur:0.9079841624133871 \n",
      " f1:0.8166824538920153 \n",
      " precision:0.770488356200389 \n",
      " recall:0.8687688933673167 \n",
      "}\n",
      "=====Epoch 81\n",
      "Training...\n"
     ]
    },
    {
     "name": "stderr",
     "output_type": "stream",
     "text": [
      "Iteration: 100%|██████████| 154/154 [00:03<00:00, 42.82it/s]]\n",
      "Iteration:   0%|          | 0/154 [00:00<?, ?it/s]"
     ]
    },
    {
     "name": "stdout",
     "output_type": "stream",
     "text": [
      "Evaluating...\n"
     ]
    },
    {
     "name": "stderr",
     "output_type": "stream",
     "text": [
      "Iteration: 100%|██████████| 154/154 [00:01<00:00, 125.55it/s]\n",
      "Iteration: 100%|██████████| 154/154 [00:01<00:00, 82.65it/s] \n",
      "Iteration: 100%|██████████| 154/154 [00:02<00:00, 64.72it/s]\n",
      "Iteration: 100%|██████████| 154/154 [00:01<00:00, 117.51it/s]\n",
      "Iteration:   3%|▎         | 5/154 [00:00<00:03, 43.42it/s]s]"
     ]
    },
    {
     "name": "stdout",
     "output_type": "stream",
     "text": [
      "{'Train':  best_epoch_indx:80\n",
      " auc:0.9372605860612323 \n",
      " apur:0.9023272915793764 \n",
      " f1:0.8096306429548563 \n",
      " precision:0.7519056814716942 \n",
      " recall:0.8769559032716927 \n",
      ", 'Validation':  best_epoch_indx:80\n",
      " auc:0.9372605860612323 \n",
      " apur:0.9023272915793764 \n",
      " f1:0.8096306429548563 \n",
      " precision:0.7519056814716942 \n",
      " recall:0.8769559032716927 \n",
      ", 'Test':  best_epoch_indx:80\n",
      " auc:0.9372605860612323 \n",
      " apur:0.9023272915793764 \n",
      " f1:0.8096306429548563 \n",
      " precision:0.7519056814716942 \n",
      " recall:0.8769559032716927 \n",
      "}\n",
      "=====Epoch 81\n",
      "Training...\n"
     ]
    },
    {
     "name": "stderr",
     "output_type": "stream",
     "text": [
      "Iteration:  12%|█▏        | 19/154 [00:00<00:03, 37.38it/s]]]"
     ]
    },
    {
     "name": "stdout",
     "output_type": "stream",
     "text": [
      "{'Train':  best_epoch_indx:80\n",
      " auc:0.9399680898907026 \n",
      " apur:0.9063268136123803 \n",
      " f1:0.8166611092586417 \n",
      " precision:0.7686875555788042 \n",
      " recall:0.8710212791180132 \n",
      ", 'Validation':  best_epoch_indx:80\n",
      " auc:0.9399680898907026 \n",
      " apur:0.9063268136123803 \n",
      " f1:0.8166611092586417 \n",
      " precision:0.7686875555788042 \n",
      " recall:0.8710212791180132 \n",
      ", 'Test':  best_epoch_indx:80\n",
      " auc:0.9399680898907026 \n",
      " apur:0.9063268136123803 \n",
      " f1:0.8166611092586417 \n",
      " precision:0.7686875555788042 \n",
      " recall:0.8710212791180132 \n",
      "}\n",
      "=====Epoch 81\n",
      "Training...\n"
     ]
    },
    {
     "name": "stderr",
     "output_type": "stream",
     "text": [
      "Iteration: 100%|██████████| 154/154 [00:01<00:00, 92.84it/s] \n",
      "Iteration: 100%|██████████| 154/154 [00:03<00:00, 44.91it/s]]\n"
     ]
    },
    {
     "name": "stdout",
     "output_type": "stream",
     "text": [
      "Evaluating...\n"
     ]
    },
    {
     "name": "stderr",
     "output_type": "stream",
     "text": [
      "Iteration: 100%|██████████| 154/154 [00:01<00:00, 116.74it/s]\n",
      "Iteration: 100%|██████████| 154/154 [00:01<00:00, 124.69it/s]\n",
      "Iteration: 100%|██████████| 154/154 [00:01<00:00, 95.03it/s] \n",
      "Iteration:   3%|▎         | 5/154 [00:00<00:03, 45.39it/s]]]"
     ]
    },
    {
     "name": "stdout",
     "output_type": "stream",
     "text": [
      "{'Train':  best_epoch_indx:81\n",
      " auc:0.9373500465311354 \n",
      " apur:0.9029618046973771 \n",
      " f1:0.8163125428375598 \n",
      " precision:0.78765500137779 \n",
      " recall:0.8471341354987849 \n",
      ", 'Validation':  best_epoch_indx:81\n",
      " auc:0.9373500465311354 \n",
      " apur:0.9029618046973771 \n",
      " f1:0.8163125428375598 \n",
      " precision:0.78765500137779 \n",
      " recall:0.8471341354987849 \n",
      ", 'Test':  best_epoch_indx:81\n",
      " auc:0.9373500465311354 \n",
      " apur:0.9029618046973771 \n",
      " f1:0.8163125428375598 \n",
      " precision:0.78765500137779 \n",
      " recall:0.8471341354987849 \n",
      "}\n",
      "=====Epoch 82\n",
      "Training...\n"
     ]
    },
    {
     "name": "stderr",
     "output_type": "stream",
     "text": [
      "Iteration: 100%|██████████| 154/154 [00:03<00:00, 39.02it/s]\n",
      "Iteration:   0%|          | 0/154 [00:00<?, ?it/s]"
     ]
    },
    {
     "name": "stdout",
     "output_type": "stream",
     "text": [
      "Evaluating...\n",
      "Evaluating...\n"
     ]
    },
    {
     "name": "stderr",
     "output_type": "stream",
     "text": [
      "Iteration: 100%|██████████| 154/154 [00:03<00:00, 42.29it/s]]\n",
      "Iteration: 100%|██████████| 154/154 [00:01<00:00, 108.04it/s]\n",
      "Iteration: 100%|██████████| 154/154 [00:02<00:00, 70.84it/s]\n",
      "Iteration: 100%|██████████| 154/154 [00:01<00:00, 125.73it/s]\n",
      "Iteration: 100%|██████████| 154/154 [00:01<00:00, 125.48it/s]\n",
      "Iteration:   0%|          | 0/154 [00:00<?, ?it/s]4.86it/s]]"
     ]
    },
    {
     "name": "stdout",
     "output_type": "stream",
     "text": [
      "{'Train':  best_epoch_indx:83\n",
      " auc:0.92225408563603 \n",
      " apur:0.8764510851841032 \n",
      " f1:0.7896293905653274 \n",
      " precision:0.7227966518956179 \n",
      " recall:0.8700806069227122 \n",
      ", 'Validation':  best_epoch_indx:83\n",
      " auc:0.92225408563603 \n",
      " apur:0.8764510851841032 \n",
      " f1:0.7896293905653274 \n",
      " precision:0.7227966518956179 \n",
      " recall:0.8700806069227122 \n",
      ", 'Test':  best_epoch_indx:83\n",
      " auc:0.92225408563603 \n",
      " apur:0.8764510851841032 \n",
      " f1:0.7896293905653274 \n",
      " precision:0.7227966518956179 \n",
      " recall:0.8700806069227122 \n",
      "}\n",
      "=====Epoch 84\n",
      "Training...\n"
     ]
    },
    {
     "name": "stderr",
     "output_type": "stream",
     "text": [
      "Iteration: 100%|██████████| 154/154 [00:01<00:00, 117.99it/s]\n",
      "Iteration:  93%|█████████▎| 143/154 [00:01<00:00, 129.03it/s]"
     ]
    },
    {
     "name": "stdout",
     "output_type": "stream",
     "text": [
      "{'Train':  best_epoch_indx:81\n",
      " auc:0.9369206391221973 \n",
      " apur:0.9008088480822739 \n",
      " f1:0.8095264076822349 \n",
      " precision:0.7499115491533991 \n",
      " recall:0.8794380890285105 \n",
      ", 'Validation':  best_epoch_indx:81\n",
      " auc:0.9369206391221973 \n",
      " apur:0.9008088480822739 \n",
      " f1:0.8095264076822349 \n",
      " precision:0.7499115491533991 \n",
      " recall:0.8794380890285105 \n",
      ", 'Test':  best_epoch_indx:81\n",
      " auc:0.9369206391221973 \n",
      " apur:0.9008088480822739 \n",
      " f1:0.8095264076822349 \n",
      " precision:0.7499115491533991 \n",
      " recall:0.8794380890285105 \n",
      "}\n",
      "=====Epoch 82\n",
      "Training...\n"
     ]
    },
    {
     "name": "stderr",
     "output_type": "stream",
     "text": [
      "Iteration: 100%|██████████| 154/154 [00:01<00:00, 128.49it/s]\n",
      "Iteration: 100%|██████████| 154/154 [00:03<00:00, 39.98it/s]\n",
      "Iteration:  72%|███████▏  | 111/154 [00:01<00:00, 67.61it/s]"
     ]
    },
    {
     "name": "stdout",
     "output_type": "stream",
     "text": [
      "Evaluating...\n"
     ]
    },
    {
     "name": "stderr",
     "output_type": "stream",
     "text": [
      "Iteration: 100%|██████████| 154/154 [00:02<00:00, 74.51it/s]\n",
      "Iteration: 100%|██████████| 154/154 [00:01<00:00, 87.13it/s]]\n",
      "Iteration: 100%|██████████| 154/154 [00:01<00:00, 112.13it/s]\n",
      "Iteration: 100%|██████████| 154/154 [00:03<00:00, 39.72it/s]\n",
      "Iteration:  79%|███████▉  | 122/154 [00:02<00:00, 45.67it/s]"
     ]
    },
    {
     "name": "stdout",
     "output_type": "stream",
     "text": [
      "Evaluating...\n"
     ]
    },
    {
     "name": "stderr",
     "output_type": "stream",
     "text": [
      "\r",
      "Iteration:  57%|█████▋    | 88/154 [00:00<00:00, 113.57it/s]\r",
      "Iteration:   4%|▍         | 6/154 [00:00<00:02, 58.15it/s]\r",
      "Iteration:  82%|████████▏ | 127/154 [00:02<00:00, 45.67it/s]\r",
      "Iteration:  66%|██████▌   | 101/154 [00:01<00:00, 118.15it/s]\r",
      "Iteration:   9%|▉         | 14/154 [00:00<00:02, 67.16it/s]\r",
      "Iteration:   0%|          | 0/154 [00:00<?, ?it/s]\r",
      "Iteration:  86%|████████▌ | 132/154 [00:02<00:00, 45.68it/s]"
     ]
    },
    {
     "name": "stdout",
     "output_type": "stream",
     "text": [
      "{'Train':  best_epoch_indx:81\n",
      " auc:0.9380144115662703 \n",
      " apur:0.9028339566678032 \n",
      " f1:0.8150240519073721 \n",
      " precision:0.7715647339158062 \n",
      " recall:0.8636713887736353 \n",
      ", 'Validation':  best_epoch_indx:81\n",
      " auc:0.9380144115662703 \n",
      " apur:0.9028339566678032 \n",
      " f1:0.8150240519073721 \n",
      " precision:0.7715647339158062 \n",
      " recall:0.8636713887736353 \n",
      ", 'Test':  best_epoch_indx:81\n",
      " auc:0.9380144115662703 \n",
      " apur:0.9028339566678032 \n",
      " f1:0.8150240519073721 \n",
      " precision:0.7715647339158062 \n",
      " recall:0.8636713887736353 \n",
      "}\n",
      "=====Epoch 82\n",
      "Training...\n"
     ]
    },
    {
     "name": "stderr",
     "output_type": "stream",
     "text": [
      "Iteration: 100%|██████████| 154/154 [00:01<00:00, 97.55it/s] \n",
      "Iteration: 100%|██████████| 154/154 [00:03<00:00, 45.82it/s]\n",
      "Iteration:  14%|█▍        | 22/154 [00:00<00:01, 68.47it/s]]"
     ]
    },
    {
     "name": "stdout",
     "output_type": "stream",
     "text": [
      "Evaluating...\n"
     ]
    },
    {
     "name": "stderr",
     "output_type": "stream",
     "text": [
      "Iteration: 100%|██████████| 154/154 [00:01<00:00, 116.46it/s]\n",
      "Iteration:   3%|▎         | 5/154 [00:00<00:03, 43.67it/s]"
     ]
    },
    {
     "name": "stdout",
     "output_type": "stream",
     "text": [
      "{'Train':  best_epoch_indx:81\n",
      " auc:0.9326648592978559 \n",
      " apur:0.8954878168371656 \n",
      " f1:0.8025634033269703 \n",
      " precision:0.7432568946358218 \n",
      " recall:0.8721550497866287 \n",
      ", 'Validation':  best_epoch_indx:81\n",
      " auc:0.9326648592978559 \n",
      " apur:0.8954878168371656 \n",
      " f1:0.8025634033269703 \n",
      " precision:0.7432568946358218 \n",
      " recall:0.8721550497866287 \n",
      ", 'Test':  best_epoch_indx:81\n",
      " auc:0.9326648592978559 \n",
      " apur:0.8954878168371656 \n",
      " f1:0.8025634033269703 \n",
      " precision:0.7432568946358218 \n",
      " recall:0.8721550497866287 \n",
      "}\n",
      "=====Epoch 82\n",
      "Training...\n"
     ]
    },
    {
     "name": "stderr",
     "output_type": "stream",
     "text": [
      "Iteration: 100%|██████████| 154/154 [00:01<00:00, 117.16it/s]\n",
      "Iteration: 100%|██████████| 154/154 [00:01<00:00, 77.62it/s] \n",
      "Iteration: 100%|██████████| 154/154 [00:03<00:00, 43.75it/s]]\n",
      "Iteration: 100%|██████████| 154/154 [00:01<00:00, 126.36it/s]\n",
      "Iteration:  99%|█████████▉| 153/154 [00:02<00:00, 66.18it/s]"
     ]
    },
    {
     "name": "stdout",
     "output_type": "stream",
     "text": [
      "Evaluating...\n"
     ]
    },
    {
     "name": "stderr",
     "output_type": "stream",
     "text": [
      "Iteration: 100%|██████████| 154/154 [00:02<00:00, 74.69it/s]\n",
      "Iteration: 100%|██████████| 154/154 [00:01<00:00, 94.96it/s] \n",
      "Iteration: 100%|██████████| 154/154 [00:03<00:00, 40.56it/s]]\n",
      "Iteration: 100%|██████████| 154/154 [00:01<00:00, 117.38it/s]\n",
      "Iteration:   0%|          | 0/154 [00:00<?, ?it/s].02it/s]"
     ]
    },
    {
     "name": "stdout",
     "output_type": "stream",
     "text": [
      "Evaluating...\n"
     ]
    },
    {
     "name": "stderr",
     "output_type": "stream",
     "text": [
      "Iteration:  19%|█▉        | 30/154 [00:00<00:01, 72.12it/s]]"
     ]
    },
    {
     "name": "stdout",
     "output_type": "stream",
     "text": [
      "{'Train':  best_epoch_indx:82\n",
      " auc:0.9334065068527551 \n",
      " apur:0.8958713223715769 \n",
      " f1:0.8098345898503433 \n",
      " precision:0.7706805161428495 \n",
      " recall:0.853180013040128 \n",
      ", 'Validation':  best_epoch_indx:82\n",
      " auc:0.9334065068527551 \n",
      " apur:0.8958713223715769 \n",
      " f1:0.8098345898503433 \n",
      " precision:0.7706805161428495 \n",
      " recall:0.853180013040128 \n",
      ", 'Test':  best_epoch_indx:82\n",
      " auc:0.9334065068527551 \n",
      " apur:0.8958713223715769 \n",
      " f1:0.8098345898503433 \n",
      " precision:0.7706805161428495 \n",
      " recall:0.853180013040128 \n",
      "}\n",
      "=====Epoch 83\n",
      "Training...\n"
     ]
    },
    {
     "name": "stderr",
     "output_type": "stream",
     "text": [
      "Iteration: 100%|██████████| 154/154 [00:01<00:00, 122.58it/s]\n",
      "Iteration:   0%|          | 0/154 [00:00<?, ?it/s]0.21it/s]]]"
     ]
    },
    {
     "name": "stdout",
     "output_type": "stream",
     "text": [
      "{'Train':  best_epoch_indx:82\n",
      " auc:0.9334484283248969 \n",
      " apur:0.8976778832465635 \n",
      " f1:0.8059527445373018 \n",
      " precision:0.7580695706675024 \n",
      " recall:0.8602928101475905 \n",
      ", 'Validation':  best_epoch_indx:82\n",
      " auc:0.9334484283248969 \n",
      " apur:0.8976778832465635 \n",
      " f1:0.8059527445373018 \n",
      " precision:0.7580695706675024 \n",
      " recall:0.8602928101475905 \n",
      ", 'Test':  best_epoch_indx:82\n",
      " auc:0.9334484283248969 \n",
      " apur:0.8976778832465635 \n",
      " f1:0.8059527445373018 \n",
      " precision:0.7580695706675024 \n",
      " recall:0.8602928101475905 \n",
      "}\n",
      "=====Epoch 83\n",
      "Training...\n"
     ]
    },
    {
     "name": "stderr",
     "output_type": "stream",
     "text": [
      "Iteration: 100%|██████████| 154/154 [00:01<00:00, 125.07it/s]\n",
      "Iteration: 100%|██████████| 154/154 [00:02<00:00, 71.86it/s]\n",
      "Iteration: 100%|██████████| 154/154 [00:02<00:00, 65.55it/s]\n",
      "Iteration:   0%|          | 0/154 [00:00<?, ?it/s]2.44it/s]]"
     ]
    },
    {
     "name": "stdout",
     "output_type": "stream",
     "text": [
      "{'Train':  best_epoch_indx:84\n",
      " auc:0.9230555979970546 \n",
      " apur:0.8810031683535716 \n",
      " f1:0.7915237023414124 \n",
      " precision:0.7371542512398385 \n",
      " recall:0.854551920341394 \n",
      ", 'Validation':  best_epoch_indx:84\n",
      " auc:0.9230555979970546 \n",
      " apur:0.8810031683535716 \n",
      " f1:0.7915237023414124 \n",
      " precision:0.7371542512398385 \n",
      " recall:0.854551920341394 \n",
      ", 'Test':  best_epoch_indx:84\n",
      " auc:0.9230555979970546 \n",
      " apur:0.8810031683535716 \n",
      " f1:0.7915237023414124 \n",
      " precision:0.7371542512398385 \n",
      " recall:0.854551920341394 \n",
      "}\n",
      "=====Epoch 85\n",
      "Training...\n"
     ]
    },
    {
     "name": "stderr",
     "output_type": "stream",
     "text": [
      "Iteration: 100%|██████████| 154/154 [00:01<00:00, 120.97it/s]\n",
      "Iteration: 100%|██████████| 154/154 [00:03<00:00, 41.14it/s]]\n",
      "Iteration:  76%|███████▌  | 117/154 [00:02<00:00, 45.64it/s]]"
     ]
    },
    {
     "name": "stdout",
     "output_type": "stream",
     "text": [
      "Evaluating...\n"
     ]
    },
    {
     "name": "stderr",
     "output_type": "stream",
     "text": [
      "Iteration: 100%|██████████| 154/154 [00:01<00:00, 123.23it/s]\n",
      "Iteration:   0%|          | 0/154 [00:00<?, ?it/s]2.20it/s]]"
     ]
    },
    {
     "name": "stdout",
     "output_type": "stream",
     "text": [
      "{'Train':  best_epoch_indx:82\n",
      " auc:0.9334907573023037 \n",
      " apur:0.8972895128858882 \n",
      " f1:0.808558118775977 \n",
      " precision:0.7636737274739172 \n",
      " recall:0.8590480706537846 \n",
      ", 'Validation':  best_epoch_indx:82\n",
      " auc:0.9334907573023037 \n",
      " apur:0.8972895128858882 \n",
      " f1:0.808558118775977 \n",
      " precision:0.7636737274739172 \n",
      " recall:0.8590480706537846 \n",
      ", 'Test':  best_epoch_indx:82\n",
      " auc:0.9334907573023037 \n",
      " apur:0.8972895128858882 \n",
      " f1:0.808558118775977 \n",
      " precision:0.7636737274739172 \n",
      " recall:0.8590480706537846 \n",
      "}\n",
      "=====Epoch 83\n",
      "Training...\n",
      "Evaluating...\n"
     ]
    },
    {
     "name": "stderr",
     "output_type": "stream",
     "text": [
      "Iteration: 100%|██████████| 154/154 [00:03<00:00, 44.72it/s]\n",
      "Iteration: 100%|██████████| 154/154 [00:01<00:00, 114.91it/s]\n",
      "Iteration: 100%|██████████| 154/154 [00:03<00:00, 42.57it/s]\n",
      "Iteration: 100%|██████████| 154/154 [00:02<00:00, 65.62it/s]"
     ]
    },
    {
     "name": "stdout",
     "output_type": "stream",
     "text": [
      "Evaluating...\n"
     ]
    },
    {
     "name": "stderr",
     "output_type": "stream",
     "text": [
      "\n",
      "Iteration: 100%|██████████| 154/154 [00:02<00:00, 75.55it/s]\n",
      "Iteration:  30%|██▉       | 46/154 [00:00<00:01, 69.45it/s]s]"
     ]
    },
    {
     "name": "stdout",
     "output_type": "stream",
     "text": [
      "{'Train':  best_epoch_indx:82\n",
      " auc:0.9258070993906997 \n",
      " apur:0.885809205781824 \n",
      " f1:0.7953642565549741 \n",
      " precision:0.7395424670097315 \n",
      " recall:0.8603010905642484 \n",
      ", 'Validation':  best_epoch_indx:82\n",
      " auc:0.9258070993906997 \n",
      " apur:0.885809205781824 \n",
      " f1:0.7953642565549741 \n",
      " precision:0.7395424670097315 \n",
      " recall:0.8603010905642484 \n",
      ", 'Test':  best_epoch_indx:82\n",
      " auc:0.9258070993906997 \n",
      " apur:0.885809205781824 \n",
      " f1:0.7953642565549741 \n",
      " precision:0.7395424670097315 \n",
      " recall:0.8603010905642484 \n",
      "}\n",
      "=====Epoch 83\n",
      "Training...\n"
     ]
    },
    {
     "name": "stderr",
     "output_type": "stream",
     "text": [
      "Iteration: 100%|██████████| 154/154 [00:01<00:00, 117.13it/s]\n",
      "Iteration: 100%|██████████| 154/154 [00:03<00:00, 44.25it/s]]\n",
      "Iteration:  10%|█         | 16/154 [00:00<00:01, 75.20it/s]]"
     ]
    },
    {
     "name": "stdout",
     "output_type": "stream",
     "text": [
      "Evaluating...\n"
     ]
    },
    {
     "name": "stderr",
     "output_type": "stream",
     "text": [
      "Iteration: 100%|██████████| 154/154 [00:01<00:00, 84.38it/s] \n",
      "Iteration: 100%|██████████| 154/154 [00:01<00:00, 118.47it/s]\n",
      "Iteration: 100%|██████████| 154/154 [00:01<00:00, 115.86it/s]\n",
      "Iteration: 100%|██████████| 154/154 [00:02<00:00, 70.30it/s]]\n",
      "Iteration: 100%|██████████| 154/154 [00:01<00:00, 126.00it/s]\n",
      "Iteration:   0%|          | 0/154 [00:00<?, ?it/s]08.56it/s]"
     ]
    },
    {
     "name": "stdout",
     "output_type": "stream",
     "text": [
      "{'Train':  best_epoch_indx:83\n",
      " auc:0.9263099543410271 \n",
      " apur:0.8873559224139397 \n",
      " f1:0.7984047632421503 \n",
      " precision:0.7586869495596478 \n",
      " recall:0.8425108173789343 \n",
      ", 'Validation':  best_epoch_indx:83\n",
      " auc:0.9263099543410271 \n",
      " apur:0.8873559224139397 \n",
      " f1:0.7984047632421503 \n",
      " precision:0.7586869495596478 \n",
      " recall:0.8425108173789343 \n",
      ", 'Test':  best_epoch_indx:83\n",
      " auc:0.9263099543410271 \n",
      " apur:0.8873559224139397 \n",
      " f1:0.7984047632421503 \n",
      " precision:0.7586869495596478 \n",
      " recall:0.8425108173789343 \n",
      "}\n",
      "=====Epoch 84\n",
      "Training...\n",
      "Evaluating...\n"
     ]
    },
    {
     "name": "stderr",
     "output_type": "stream",
     "text": [
      "Iteration: 100%|██████████| 154/154 [00:03<00:00, 40.90it/s]\n",
      "Iteration: 100%|██████████| 154/154 [00:02<00:00, 73.68it/s]\n",
      "Iteration: 100%|██████████| 154/154 [00:01<00:00, 81.70it/s]]"
     ]
    },
    {
     "name": "stdout",
     "output_type": "stream",
     "text": [
      "{'Train':  best_epoch_indx:83\n",
      " auc:0.9276656657090239 \n",
      " apur:0.8882449753434571 \n",
      " f1:0.7977398015435501 \n",
      " precision:0.7455819465196558 \n",
      " recall:0.8577440578507498 \n",
      ", 'Validation':  best_epoch_indx:83\n",
      " auc:0.9276656657090239 \n",
      " apur:0.8882449753434571 \n",
      " f1:0.7977398015435501 \n",
      " precision:0.7455819465196558 \n",
      " recall:0.8577440578507498 \n",
      ", 'Test':  best_epoch_indx:83\n",
      " auc:0.9276656657090239 \n",
      " apur:0.8882449753434571 \n",
      " f1:0.7977398015435501 \n",
      " precision:0.7455819465196558 \n",
      " recall:0.8577440578507498 \n",
      "}\n",
      "=====Epoch 84\n",
      "Training...\n"
     ]
    },
    {
     "name": "stderr",
     "output_type": "stream",
     "text": [
      "\n",
      "Iteration: 100%|██████████| 154/154 [00:01<00:00, 126.13it/s]\n",
      "Iteration: 100%|██████████| 154/154 [00:01<00:00, 118.01it/s]\n",
      "Iteration:  41%|████      | 63/154 [00:01<00:02, 37.83it/s]"
     ]
    },
    {
     "name": "stdout",
     "output_type": "stream",
     "text": [
      "{'Train':  best_epoch_indx:85\n",
      " auc:0.9238925088332786 \n",
      " apur:0.8827562426915401 \n",
      " f1:0.7872145132552237 \n",
      " precision:0.7228557263262271 \n",
      " recall:0.864153627311522 \n",
      ", 'Validation':  best_epoch_indx:85\n",
      " auc:0.9238925088332786 \n",
      " apur:0.8827562426915401 \n",
      " f1:0.7872145132552237 \n",
      " precision:0.7228557263262271 \n",
      " recall:0.864153627311522 \n",
      ", 'Test':  best_epoch_indx:85\n",
      " auc:0.9238925088332786 \n",
      " apur:0.8827562426915401 \n",
      " f1:0.7872145132552237 \n",
      " precision:0.7228557263262271 \n",
      " recall:0.864153627311522 \n",
      "}\n",
      "=====Epoch 86\n",
      "Training...\n"
     ]
    },
    {
     "name": "stderr",
     "output_type": "stream",
     "text": [
      "Iteration: 100%|██████████| 154/154 [00:01<00:00, 121.30it/s]\n",
      "Iteration: 100%|██████████| 154/154 [00:01<00:00, 88.10it/s] \n",
      "Iteration: 100%|██████████| 154/154 [00:04<00:00, 37.10it/s]\n",
      "Iteration: 100%|██████████| 154/154 [00:03<00:00, 43.98it/s]\n",
      "Iteration:   0%|          | 0/154 [00:00<?, ?it/s]"
     ]
    },
    {
     "name": "stdout",
     "output_type": "stream",
     "text": [
      "Evaluating...\n",
      "Evaluating...\n"
     ]
    },
    {
     "name": "stderr",
     "output_type": "stream",
     "text": [
      "\r",
      "Iteration:  16%|█▌        | 24/154 [00:00<00:01, 73.33it/s]\r",
      "Iteration:  16%|█▌        | 25/154 [00:00<00:01, 119.42it/s]\r",
      "Iteration:  78%|███████▊  | 120/154 [00:02<00:00, 45.76it/s]\r",
      "Iteration:   8%|▊         | 12/154 [00:00<00:01, 111.64it/s]\r",
      "Iteration:  21%|██        | 32/154 [00:00<00:01, 73.09it/s]\r",
      "Iteration:  25%|██▍       | 38/154 [00:00<00:00, 123.38it/s]\r",
      "Iteration:  81%|████████  | 125/154 [00:02<00:00, 45.77it/s]\r",
      "Iteration:  16%|█▌        | 25/154 [00:00<00:01, 121.52it/s]"
     ]
    },
    {
     "name": "stdout",
     "output_type": "stream",
     "text": [
      "{'Train':  best_epoch_indx:83\n",
      " auc:0.9236649640638297 \n",
      " apur:0.8829725341050435 \n",
      " f1:0.7923971631205674 \n",
      " precision:0.7598890037542848 \n",
      " recall:0.8278110366901784 \n",
      ", 'Validation':  best_epoch_indx:83\n",
      " auc:0.9236649640638297 \n",
      " apur:0.8829725341050435 \n",
      " f1:0.7923971631205674 \n",
      " precision:0.7598890037542848 \n",
      " recall:0.8278110366901784 \n",
      ", 'Test':  best_epoch_indx:83\n",
      " auc:0.9236649640638297 \n",
      " apur:0.8829725341050435 \n",
      " f1:0.7923971631205674 \n",
      " precision:0.7598890037542848 \n",
      " recall:0.8278110366901784 \n",
      "}\n",
      "=====Epoch 84\n",
      "Training...\n"
     ]
    },
    {
     "name": "stderr",
     "output_type": "stream",
     "text": [
      "Iteration: 100%|██████████| 154/154 [00:03<00:00, 45.59it/s]]\n",
      "Iteration:   0%|          | 0/154 [00:00<?, ?it/s]4.86it/s]"
     ]
    },
    {
     "name": "stdout",
     "output_type": "stream",
     "text": [
      "Evaluating...\n"
     ]
    },
    {
     "name": "stderr",
     "output_type": "stream",
     "text": [
      "Iteration: 100%|██████████| 154/154 [00:01<00:00, 125.58it/s]\n",
      "Iteration: 100%|██████████| 154/154 [00:01<00:00, 108.41it/s]\n",
      "Iteration: 100%|██████████| 154/154 [00:01<00:00, 127.27it/s]\n",
      "Iteration:  66%|██████▌   | 102/154 [00:00<00:00, 127.71it/s]"
     ]
    },
    {
     "name": "stdout",
     "output_type": "stream",
     "text": [
      "{'Train':  best_epoch_indx:83\n",
      " auc:0.9210023590301024 \n",
      " apur:0.8811543972384703 \n",
      " f1:0.7866422295294054 \n",
      " precision:0.7213544241225902 \n",
      " recall:0.8649241346609767 \n",
      ", 'Validation':  best_epoch_indx:83\n",
      " auc:0.9210023590301024 \n",
      " apur:0.8811543972384703 \n",
      " f1:0.7866422295294054 \n",
      " precision:0.7213544241225902 \n",
      " recall:0.8649241346609767 \n",
      ", 'Test':  best_epoch_indx:83\n",
      " auc:0.9210023590301024 \n",
      " apur:0.8811543972384703 \n",
      " f1:0.7866422295294054 \n",
      " precision:0.7213544241225902 \n",
      " recall:0.8649241346609767 \n",
      "}\n",
      "=====Epoch 84\n",
      "Training...\n"
     ]
    },
    {
     "name": "stderr",
     "output_type": "stream",
     "text": [
      "Iteration: 100%|██████████| 154/154 [00:01<00:00, 116.77it/s]\n",
      "Iteration: 100%|██████████| 154/154 [00:01<00:00, 114.56it/s]\n",
      "Iteration: 100%|██████████| 154/154 [00:01<00:00, 117.44it/s]\n",
      "Iteration: 100%|██████████| 154/154 [00:01<00:00, 102.14it/s]\n",
      "Iteration: 100%|██████████| 154/154 [00:04<00:00, 36.79it/s]\n",
      "Iteration:  79%|███████▊  | 121/154 [00:02<00:00, 41.94it/s]"
     ]
    },
    {
     "name": "stdout",
     "output_type": "stream",
     "text": [
      "Evaluating...\n"
     ]
    },
    {
     "name": "stderr",
     "output_type": "stream",
     "text": [
      "Iteration: 100%|██████████| 154/154 [00:01<00:00, 123.11it/s]\n",
      "Iteration: 100%|██████████| 154/154 [00:03<00:00, 43.41it/s]\n",
      "Iteration:  77%|███████▋  | 119/154 [00:01<00:00, 110.09it/s]"
     ]
    },
    {
     "name": "stdout",
     "output_type": "stream",
     "text": [
      "Evaluating...\n"
     ]
    },
    {
     "name": "stderr",
     "output_type": "stream",
     "text": [
      "Iteration: 100%|██████████| 154/154 [00:01<00:00, 91.02it/s] \n",
      "Iteration:  55%|█████▍    | 84/154 [00:00<00:00, 112.44it/s]"
     ]
    },
    {
     "name": "stdout",
     "output_type": "stream",
     "text": [
      "{'Train':  best_epoch_indx:84\n",
      " auc:0.9190223334301956 \n",
      " apur:0.8759437619342265 \n",
      " f1:0.7832308067532044 \n",
      " precision:0.7214677983025461 \n",
      " recall:0.8565585916661728 \n",
      ", 'Validation':  best_epoch_indx:84\n",
      " auc:0.9190223334301956 \n",
      " apur:0.8759437619342265 \n",
      " f1:0.7832308067532044 \n",
      " precision:0.7214677983025461 \n",
      " recall:0.8565585916661728 \n",
      ", 'Test':  best_epoch_indx:84\n",
      " auc:0.9190223334301956 \n",
      " apur:0.8759437619342265 \n",
      " f1:0.7832308067532044 \n",
      " precision:0.7214677983025461 \n",
      " recall:0.8565585916661728 \n",
      "}\n",
      "=====Epoch 85\n",
      "Training...\n"
     ]
    },
    {
     "name": "stderr",
     "output_type": "stream",
     "text": [
      "Iteration:  15%|█▍        | 23/154 [00:00<00:03, 40.11it/s]s]"
     ]
    },
    {
     "name": "stdout",
     "output_type": "stream",
     "text": [
      "{'Train':  best_epoch_indx:84\n",
      " auc:0.9255652248184604 \n",
      " apur:0.8847705497377152 \n",
      " f1:0.790145936537689 \n",
      " precision:0.7206212757643841 \n",
      " recall:0.8745184043625156 \n",
      ", 'Validation':  best_epoch_indx:84\n",
      " auc:0.9255652248184604 \n",
      " apur:0.8847705497377152 \n",
      " f1:0.790145936537689 \n",
      " precision:0.7206212757643841 \n",
      " recall:0.8745184043625156 \n",
      ", 'Test':  best_epoch_indx:84\n",
      " auc:0.9255652248184604 \n",
      " apur:0.8847705497377152 \n",
      " f1:0.790145936537689 \n",
      " precision:0.7206212757643841 \n",
      " recall:0.8745184043625156 \n",
      "}\n",
      "=====Epoch 85\n",
      "Training...\n"
     ]
    },
    {
     "name": "stderr",
     "output_type": "stream",
     "text": [
      "Iteration: 100%|██████████| 154/154 [00:01<00:00, 113.24it/s]\n",
      "Iteration: 100%|██████████| 154/154 [00:01<00:00, 123.03it/s]\n",
      "Iteration: 100%|██████████| 154/154 [00:02<00:00, 73.77it/s]\n",
      "Iteration:  34%|███▍      | 53/154 [00:01<00:02, 44.97it/s]"
     ]
    },
    {
     "name": "stdout",
     "output_type": "stream",
     "text": [
      "{'Train':  best_epoch_indx:86\n",
      " auc:0.9317532272230065 \n",
      " apur:0.8944558465824122 \n",
      " f1:0.8063987338194561 \n",
      " precision:0.770718530524041 \n",
      " recall:0.845542911332385 \n",
      ", 'Validation':  best_epoch_indx:86\n",
      " auc:0.9317532272230065 \n",
      " apur:0.8944558465824122 \n",
      " f1:0.8063987338194561 \n",
      " precision:0.770718530524041 \n",
      " recall:0.845542911332385 \n",
      ", 'Test':  best_epoch_indx:86\n",
      " auc:0.9317532272230065 \n",
      " apur:0.8944558465824122 \n",
      " f1:0.8063987338194561 \n",
      " precision:0.770718530524041 \n",
      " recall:0.845542911332385 \n",
      "}\n",
      "=====Epoch 87\n",
      "Training...\n"
     ]
    },
    {
     "name": "stderr",
     "output_type": "stream",
     "text": [
      "Iteration: 100%|██████████| 154/154 [00:02<00:00, 75.67it/s] \n",
      "Iteration: 100%|██████████| 154/154 [00:03<00:00, 44.37it/s]\n",
      "Iteration:  73%|███████▎  | 112/154 [00:02<00:00, 45.74it/s]"
     ]
    },
    {
     "name": "stdout",
     "output_type": "stream",
     "text": [
      "Evaluating...\n"
     ]
    },
    {
     "name": "stderr",
     "output_type": "stream",
     "text": [
      "Iteration: 100%|██████████| 154/154 [00:03<00:00, 43.79it/s]\n",
      "Iteration:   8%|▊         | 12/154 [00:00<00:01, 113.36it/s]"
     ]
    },
    {
     "name": "stdout",
     "output_type": "stream",
     "text": [
      "Evaluating...\n"
     ]
    },
    {
     "name": "stderr",
     "output_type": "stream",
     "text": [
      "Iteration: 100%|██████████| 154/154 [00:02<00:00, 68.38it/s]\n",
      "Iteration: 100%|██████████| 154/154 [00:03<00:00, 45.91it/s]]\n",
      "Iteration:  16%|█▌        | 24/154 [00:00<00:01, 69.32it/s]"
     ]
    },
    {
     "name": "stdout",
     "output_type": "stream",
     "text": [
      "Evaluating...\n"
     ]
    },
    {
     "name": "stderr",
     "output_type": "stream",
     "text": [
      "Iteration: 100%|██████████| 154/154 [00:01<00:00, 118.36it/s]\n",
      "Iteration: 100%|██████████| 154/154 [00:01<00:00, 119.16it/s]\n",
      "Iteration: 100%|██████████| 154/154 [00:01<00:00, 123.91it/s]\n",
      "Iteration: 100%|██████████| 154/154 [00:01<00:00, 92.93it/s] \n",
      "Iteration:   3%|▎         | 5/154 [00:00<00:03, 42.49it/s]s]"
     ]
    },
    {
     "name": "stdout",
     "output_type": "stream",
     "text": [
      "{'Train':  best_epoch_indx:84\n",
      " auc:0.916617938149804 \n",
      " apur:0.8737755848268214 \n",
      " f1:0.7755753625116403 \n",
      " precision:0.7036643653744026 \n",
      " recall:0.8638572783309626 \n",
      ", 'Validation':  best_epoch_indx:84\n",
      " auc:0.916617938149804 \n",
      " apur:0.8737755848268214 \n",
      " f1:0.7755753625116403 \n",
      " precision:0.7036643653744026 \n",
      " recall:0.8638572783309626 \n",
      ", 'Test':  best_epoch_indx:84\n",
      " auc:0.916617938149804 \n",
      " apur:0.8737755848268214 \n",
      " f1:0.7755753625116403 \n",
      " precision:0.7036643653744026 \n",
      " recall:0.8638572783309626 \n",
      "}\n",
      "=====Epoch 85\n",
      "Training...\n"
     ]
    },
    {
     "name": "stderr",
     "output_type": "stream",
     "text": [
      "Iteration: 100%|██████████| 154/154 [00:01<00:00, 100.29it/s]\n",
      "Iteration: 100%|██████████| 154/154 [00:01<00:00, 101.05it/s]\n",
      "Iteration: 100%|██████████| 154/154 [00:01<00:00, 80.06it/s] \n",
      "Iteration: 100%|██████████| 154/154 [00:01<00:00, 114.57it/s]\n",
      "Iteration:   4%|▍         | 6/154 [00:00<00:02, 50.34it/s]]]"
     ]
    },
    {
     "name": "stdout",
     "output_type": "stream",
     "text": [
      "{'Train':  best_epoch_indx:84\n",
      " auc:0.9217936958425882 \n",
      " apur:0.8796066955854782 \n",
      " f1:0.7892680527854429 \n",
      " precision:0.7320831221490116 \n",
      " recall:0.8561436785015707 \n",
      ", 'Validation':  best_epoch_indx:84\n",
      " auc:0.9217936958425882 \n",
      " apur:0.8796066955854782 \n",
      " f1:0.7892680527854429 \n",
      " precision:0.7320831221490116 \n",
      " recall:0.8561436785015707 \n",
      ", 'Test':  best_epoch_indx:84\n",
      " auc:0.9217936958425882 \n",
      " apur:0.8796066955854782 \n",
      " f1:0.7892680527854429 \n",
      " precision:0.7320831221490116 \n",
      " recall:0.8561436785015707 \n",
      "}\n",
      "=====Epoch 85\n",
      "Training...\n"
     ]
    },
    {
     "name": "stderr",
     "output_type": "stream",
     "text": [
      "Iteration: 100%|██████████| 154/154 [00:01<00:00, 106.45it/s]\n",
      "Iteration: 100%|██████████| 154/154 [00:01<00:00, 125.15it/s]\n",
      "Iteration:  75%|███████▌  | 116/154 [00:01<00:00, 121.11it/s]"
     ]
    },
    {
     "name": "stdout",
     "output_type": "stream",
     "text": [
      "{'Train':  best_epoch_indx:85\n",
      " auc:0.9243787292533381 \n",
      " apur:0.8827990236885972 \n",
      " f1:0.7951720310765815 \n",
      " precision:0.7475089989044812 \n",
      " recall:0.8493272479402525 \n",
      ", 'Validation':  best_epoch_indx:85\n",
      " auc:0.9243787292533381 \n",
      " apur:0.8827990236885972 \n",
      " f1:0.7951720310765815 \n",
      " precision:0.7475089989044812 \n",
      " recall:0.8493272479402525 \n",
      ", 'Test':  best_epoch_indx:85\n",
      " auc:0.9243787292533381 \n",
      " apur:0.8827990236885972 \n",
      " f1:0.7951720310765815 \n",
      " precision:0.7475089989044812 \n",
      " recall:0.8493272479402525 \n",
      "}\n",
      "=====Epoch 86\n",
      "Training...\n"
     ]
    },
    {
     "name": "stderr",
     "output_type": "stream",
     "text": [
      "Iteration: 100%|██████████| 154/154 [00:01<00:00, 98.64it/s] \n",
      "Iteration:  12%|█▏        | 18/154 [00:00<00:03, 36.77it/s]]"
     ]
    },
    {
     "name": "stdout",
     "output_type": "stream",
     "text": [
      "{'Train':  best_epoch_indx:85\n",
      " auc:0.9254606820223696 \n",
      " apur:0.8843905529694753 \n",
      " f1:0.7955658819248104 \n",
      " precision:0.7537661786547847 \n",
      " recall:0.8422737241420188 \n",
      ", 'Validation':  best_epoch_indx:85\n",
      " auc:0.9254606820223696 \n",
      " apur:0.8843905529694753 \n",
      " f1:0.7955658819248104 \n",
      " precision:0.7537661786547847 \n",
      " recall:0.8422737241420188 \n",
      ", 'Test':  best_epoch_indx:85\n",
      " auc:0.9254606820223696 \n",
      " apur:0.8843905529694753 \n",
      " f1:0.7955658819248104 \n",
      " precision:0.7537661786547847 \n",
      " recall:0.8422737241420188 \n",
      "}\n",
      "=====Epoch 86\n",
      "Training...\n"
     ]
    },
    {
     "name": "stderr",
     "output_type": "stream",
     "text": [
      "\r",
      "Iteration:  56%|█████▋    | 87/154 [00:02<00:01, 44.30it/s]\r",
      "Iteration:  97%|█████████▋| 150/154 [00:03<00:00, 45.12it/s]\r",
      "Iteration:   3%|▎         | 5/154 [00:00<00:03, 41.07it/s]\r",
      "Iteration:  14%|█▍        | 22/154 [00:00<00:03, 36.17it/s]\r",
      "Iteration: 100%|██████████| 154/154 [00:03<00:00, 39.78it/s]\n",
      "\r",
      "Iteration:   0%|          | 0/154 [00:00<?, ?it/s]\r",
      "Iteration:  60%|█████▉    | 92/154 [00:02<00:01, 44.58it/s]\r",
      "Iteration:  18%|█▊        | 27/154 [00:00<00:03, 38.31it/s]\r",
      "Iteration:   6%|▋         | 10/154 [00:00<00:03, 38.86it/s]"
     ]
    },
    {
     "name": "stdout",
     "output_type": "stream",
     "text": [
      "Evaluating...\n"
     ]
    },
    {
     "name": "stderr",
     "output_type": "stream",
     "text": [
      "Iteration:   0%|          | 0/154 [00:00<?, ?it/s]0.51it/s]]"
     ]
    },
    {
     "name": "stdout",
     "output_type": "stream",
     "text": [
      "{'Train':  best_epoch_indx:87\n",
      " auc:0.940328546263898 \n",
      " apur:0.9063670173283153 \n",
      " f1:0.8176226101413133 \n",
      " precision:0.7677177645956915 \n",
      " recall:0.8744665718349929 \n",
      ", 'Validation':  best_epoch_indx:87\n",
      " auc:0.940328546263898 \n",
      " apur:0.9063670173283153 \n",
      " f1:0.8176226101413133 \n",
      " precision:0.7677177645956915 \n",
      " recall:0.8744665718349929 \n",
      ", 'Test':  best_epoch_indx:87\n",
      " auc:0.940328546263898 \n",
      " apur:0.9063670173283153 \n",
      " f1:0.8176226101413133 \n",
      " precision:0.7677177645956915 \n",
      " recall:0.8744665718349929 \n",
      "}\n",
      "=====Epoch 88\n",
      "Training...\n"
     ]
    },
    {
     "name": "stderr",
     "output_type": "stream",
     "text": [
      "Iteration: 100%|██████████| 154/154 [00:01<00:00, 119.29it/s]\n",
      "Iteration: 100%|██████████| 154/154 [00:03<00:00, 44.04it/s]\n",
      "Iteration:  21%|██        | 32/154 [00:00<00:03, 35.77it/s]"
     ]
    },
    {
     "name": "stdout",
     "output_type": "stream",
     "text": [
      "Evaluating...\n"
     ]
    },
    {
     "name": "stderr",
     "output_type": "stream",
     "text": [
      "Iteration: 100%|██████████| 154/154 [00:03<00:00, 44.00it/s] \n",
      "Iteration:  97%|█████████▋| 150/154 [00:01<00:00, 84.26it/s]"
     ]
    },
    {
     "name": "stdout",
     "output_type": "stream",
     "text": [
      "Evaluating...\n"
     ]
    },
    {
     "name": "stderr",
     "output_type": "stream",
     "text": [
      "Iteration: 100%|██████████| 154/154 [00:01<00:00, 99.38it/s]]\n",
      "Iteration: 100%|██████████| 154/154 [00:01<00:00, 99.80it/s] \n",
      "Iteration: 100%|██████████| 154/154 [00:04<00:00, 36.89it/s]]\n",
      "Iteration:   8%|▊         | 13/154 [00:00<00:01, 125.87it/s]"
     ]
    },
    {
     "name": "stdout",
     "output_type": "stream",
     "text": [
      "Evaluating...\n",
      "Evaluating...\n"
     ]
    },
    {
     "name": "stderr",
     "output_type": "stream",
     "text": [
      "Iteration: 100%|██████████| 154/154 [00:01<00:00, 118.82it/s]\n",
      "Iteration: 100%|██████████| 154/154 [00:03<00:00, 42.13it/s]\n",
      "Iteration: 100%|██████████| 154/154 [00:01<00:00, 118.16it/s]\n",
      "Iteration: 100%|██████████| 154/154 [00:01<00:00, 124.55it/s]\n",
      "Iteration: 100%|██████████| 154/154 [00:01<00:00, 110.96it/s]\n",
      "Iteration:   0%|          | 0/154 [00:00<?, ?it/s]6.38it/s]]"
     ]
    },
    {
     "name": "stdout",
     "output_type": "stream",
     "text": [
      "{'Train':  best_epoch_indx:85\n",
      " auc:0.9229345942228135 \n",
      " apur:0.8826023419579219 \n",
      " f1:0.793952967525196 \n",
      " precision:0.7523344651952462 \n",
      " recall:0.8404457088667615 \n",
      ", 'Validation':  best_epoch_indx:85\n",
      " auc:0.9229345942228135 \n",
      " apur:0.8826023419579219 \n",
      " f1:0.793952967525196 \n",
      " precision:0.7523344651952462 \n",
      " recall:0.8404457088667615 \n",
      ", 'Test':  best_epoch_indx:85\n",
      " auc:0.9229345942228135 \n",
      " apur:0.8826023419579219 \n",
      " f1:0.793952967525196 \n",
      " precision:0.7523344651952462 \n",
      " recall:0.8404457088667615 \n",
      "}\n",
      "=====Epoch 86\n",
      "Training...\n"
     ]
    },
    {
     "name": "stderr",
     "output_type": "stream",
     "text": [
      "Iteration: 100%|██████████| 154/154 [00:02<00:00, 64.71it/s]]\n",
      "Iteration: 100%|██████████| 154/154 [00:01<00:00, 85.72it/s] \n",
      "Iteration: 100%|██████████| 154/154 [00:01<00:00, 117.64it/s]\n",
      "Iteration: 100%|██████████| 154/154 [00:02<00:00, 71.45it/s]\n",
      "Iteration: 100%|██████████| 154/154 [00:01<00:00, 108.49it/s]\n",
      "Iteration: 100%|██████████| 154/154 [00:02<00:00, 76.99it/s]\n"
     ]
    },
    {
     "name": "stdout",
     "output_type": "stream",
     "text": [
      "{'Train':  best_epoch_indx:85\n",
      " auc:0.9250402296174669 \n",
      " apur:0.8850492331401706 \n",
      " f1:0.7961955763813349 \n",
      " precision:0.7519228743019702 \n",
      " recall:0.8460079426234367 \n",
      ", 'Validation':  best_epoch_indx:85\n",
      " auc:0.9250402296174669 \n",
      " apur:0.8850492331401706 \n",
      " f1:0.7961955763813349 \n",
      " precision:0.7519228743019702 \n",
      " recall:0.8460079426234367 \n",
      ", 'Test':  best_epoch_indx:85\n",
      " auc:0.9250402296174669 \n",
      " apur:0.8850492331401706 \n",
      " f1:0.7961955763813349 \n",
      " precision:0.7519228743019702 \n",
      " recall:0.8460079426234367 \n",
      "}\n",
      "=====Epoch 86\n",
      "Training...\n"
     ]
    },
    {
     "name": "stderr",
     "output_type": "stream",
     "text": [
      "Iteration: 100%|██████████| 154/154 [00:03<00:00, 45.89it/s]]\n",
      "Iteration:   0%|          | 0/154 [00:00<?, ?it/s]6.26it/s]s]"
     ]
    },
    {
     "name": "stdout",
     "output_type": "stream",
     "text": [
      "Evaluating...\n",
      "{'Train':  best_epoch_indx:86\n",
      " auc:0.9306932548933763 \n",
      " apur:0.8929610464254212 \n",
      " f1:0.8065751858204689 \n",
      " precision:0.7790049146833067 \n",
      " recall:0.8361685732914469 \n",
      ", 'Validation':  best_epoch_indx:86\n",
      " auc:0.9306932548933763 \n",
      " apur:0.8929610464254212 \n",
      " f1:0.8065751858204689 \n",
      " precision:0.7790049146833067 \n",
      " recall:0.8361685732914469 \n",
      ", 'Test':  best_epoch_indx:86\n",
      " auc:0.9306932548933763 \n",
      " apur:0.8929610464254212 \n",
      " f1:0.8065751858204689 \n",
      " precision:0.7790049146833067 \n",
      " recall:0.8361685732914469 \n",
      "}\n",
      "=====Epoch 87\n",
      "Training...\n"
     ]
    },
    {
     "name": "stderr",
     "output_type": "stream",
     "text": [
      "Iteration: 100%|██████████| 154/154 [00:01<00:00, 97.54it/s] \n",
      "Iteration:  17%|█▋        | 26/154 [00:00<00:03, 37.52it/s]]"
     ]
    },
    {
     "name": "stdout",
     "output_type": "stream",
     "text": [
      "{'Train':  best_epoch_indx:88\n",
      " auc:0.9449285229070523 \n",
      " apur:0.9140022867563224 \n",
      " f1:0.8223610003026218 \n",
      " precision:0.7673666375725214 \n",
      " recall:0.885846372688478 \n",
      ", 'Validation':  best_epoch_indx:88\n",
      " auc:0.9449285229070523 \n",
      " apur:0.9140022867563224 \n",
      " f1:0.8223610003026218 \n",
      " precision:0.7673666375725214 \n",
      " recall:0.885846372688478 \n",
      ", 'Test':  best_epoch_indx:88\n",
      " auc:0.9449285229070523 \n",
      " apur:0.9140022867563224 \n",
      " f1:0.8223610003026218 \n",
      " precision:0.7673666375725214 \n",
      " recall:0.885846372688478 \n",
      "}\n",
      "=====Epoch 89\n",
      "Training...\n"
     ]
    },
    {
     "name": "stderr",
     "output_type": "stream",
     "text": [
      "Iteration: 100%|██████████| 154/154 [00:01<00:00, 115.61it/s]\n",
      "Iteration: 100%|██████████| 154/154 [00:02<00:00, 66.61it/s]]\n",
      "Iteration: 100%|██████████| 154/154 [00:03<00:00, 43.89it/s]]\n",
      "Iteration: 100%|██████████| 154/154 [00:01<00:00, 126.51it/s]\n"
     ]
    },
    {
     "name": "stdout",
     "output_type": "stream",
     "text": [
      "Evaluating...\n"
     ]
    },
    {
     "name": "stderr",
     "output_type": "stream",
     "text": [
      "Iteration:  89%|████████▉ | 137/154 [00:03<00:00, 45.72it/s]"
     ]
    },
    {
     "name": "stdout",
     "output_type": "stream",
     "text": [
      "{'Train':  best_epoch_indx:86\n",
      " auc:0.9331783221056262 \n",
      " apur:0.8974605586879776 \n",
      " f1:0.8025453663008602 \n",
      " precision:0.7361495844875346 \n",
      " recall:0.8821053879438089 \n",
      ", 'Validation':  best_epoch_indx:86\n",
      " auc:0.9331783221056262 \n",
      " apur:0.8974605586879776 \n",
      " f1:0.8025453663008602 \n",
      " precision:0.7361495844875346 \n",
      " recall:0.8821053879438089 \n",
      ", 'Test':  best_epoch_indx:86\n",
      " auc:0.9331783221056262 \n",
      " apur:0.8974605586879776 \n",
      " f1:0.8025453663008602 \n",
      " precision:0.7361495844875346 \n",
      " recall:0.8821053879438089 \n",
      "}\n",
      "=====Epoch 87\n",
      "Training...\n"
     ]
    },
    {
     "name": "stderr",
     "output_type": "stream",
     "text": [
      "Iteration: 100%|██████████| 154/154 [00:03<00:00, 44.87it/s]]\n",
      "Iteration: 100%|██████████| 154/154 [00:04<00:00, 37.61it/s]\n",
      "Iteration:   7%|▋         | 11/154 [00:00<00:01, 108.10it/s]]"
     ]
    },
    {
     "name": "stdout",
     "output_type": "stream",
     "text": [
      "Evaluating...\n",
      "Evaluating...\n"
     ]
    },
    {
     "name": "stderr",
     "output_type": "stream",
     "text": [
      "Iteration: 100%|██████████| 154/154 [00:01<00:00, 118.47it/s]\n",
      "Iteration: 100%|██████████| 154/154 [00:01<00:00, 126.59it/s]\n",
      "Iteration: 100%|██████████| 154/154 [00:01<00:00, 102.85it/s]\n",
      "Iteration: 100%|██████████| 154/154 [00:01<00:00, 83.50it/s] \n",
      "Iteration: 100%|██████████| 154/154 [00:01<00:00, 125.13it/s]\n",
      "Iteration:  66%|██████▌   | 101/154 [00:02<00:01, 42.58it/s]"
     ]
    },
    {
     "name": "stdout",
     "output_type": "stream",
     "text": [
      "{'Train':  best_epoch_indx:86\n",
      " auc:0.9298724658299554 \n",
      " apur:0.8907204828242824 \n",
      " f1:0.7991180928758441 \n",
      " precision:0.7468191418121877 \n",
      " recall:0.8592935040303461 \n",
      ", 'Validation':  best_epoch_indx:86\n",
      " auc:0.9298724658299554 \n",
      " apur:0.8907204828242824 \n",
      " f1:0.7991180928758441 \n",
      " precision:0.7468191418121877 \n",
      " recall:0.8592935040303461 \n",
      ", 'Test':  best_epoch_indx:86\n",
      " auc:0.9298724658299554 \n",
      " apur:0.8907204828242824 \n",
      " f1:0.7991180928758441 \n",
      " precision:0.7468191418121877 \n",
      " recall:0.8592935040303461 \n",
      "}\n",
      "=====Epoch 87\n",
      "Training...\n"
     ]
    },
    {
     "name": "stderr",
     "output_type": "stream",
     "text": [
      "Iteration: 100%|██████████| 154/154 [00:01<00:00, 120.54it/s]\n",
      "Iteration: 100%|██████████| 154/154 [00:03<00:00, 40.31it/s]]\n",
      "Iteration:   8%|▊         | 12/154 [00:00<00:01, 112.77it/s]]"
     ]
    },
    {
     "name": "stdout",
     "output_type": "stream",
     "text": [
      "Evaluating...\n"
     ]
    },
    {
     "name": "stderr",
     "output_type": "stream",
     "text": [
      "Iteration: 100%|██████████| 154/154 [00:01<00:00, 123.98it/s]\n",
      "Iteration: 100%|██████████| 154/154 [00:01<00:00, 97.80it/s] \n",
      "Iteration: 100%|██████████| 154/154 [00:01<00:00, 126.86it/s]\n",
      "Iteration:   0%|          | 0/154 [00:00<?, ?it/s]8.42it/s]s]"
     ]
    },
    {
     "name": "stdout",
     "output_type": "stream",
     "text": [
      "{'Train':  best_epoch_indx:86\n",
      " auc:0.9344231263149085 \n",
      " apur:0.8970816277037532 \n",
      " f1:0.8061467663735722 \n",
      " precision:0.7493888775718068 \n",
      " recall:0.8722067453025902 \n",
      ", 'Validation':  best_epoch_indx:86\n",
      " auc:0.9344231263149085 \n",
      " apur:0.8970816277037532 \n",
      " f1:0.8061467663735722 \n",
      " precision:0.7493888775718068 \n",
      " recall:0.8722067453025902 \n",
      ", 'Test':  best_epoch_indx:86\n",
      " auc:0.9344231263149085 \n",
      " apur:0.8970816277037532 \n",
      " f1:0.8061467663735722 \n",
      " precision:0.7493888775718068 \n",
      " recall:0.8722067453025902 \n",
      "}\n",
      "=====Epoch 87\n",
      "Training...\n"
     ]
    },
    {
     "name": "stderr",
     "output_type": "stream",
     "text": [
      "Iteration: 100%|██████████| 154/154 [00:01<00:00, 112.26it/s]\n",
      "Iteration:  72%|███████▏  | 111/154 [00:01<00:00, 112.63it/s]"
     ]
    },
    {
     "name": "stdout",
     "output_type": "stream",
     "text": [
      "{'Train':  best_epoch_indx:87\n",
      " auc:0.9403143419572928 \n",
      " apur:0.9074811068612956 \n",
      " f1:0.8183837822826993 \n",
      " precision:0.7698939338523434 \n",
      " recall:0.8733922114871673 \n",
      ", 'Validation':  best_epoch_indx:87\n",
      " auc:0.9403143419572928 \n",
      " apur:0.9074811068612956 \n",
      " f1:0.8183837822826993 \n",
      " precision:0.7698939338523434 \n",
      " recall:0.8733922114871673 \n",
      ", 'Test':  best_epoch_indx:87\n",
      " auc:0.9403143419572928 \n",
      " apur:0.9074811068612956 \n",
      " f1:0.8183837822826993 \n",
      " precision:0.7698939338523434 \n",
      " recall:0.8733922114871673 \n",
      "}\n",
      "=====Epoch 88\n",
      "Training...\n"
     ]
    },
    {
     "name": "stderr",
     "output_type": "stream",
     "text": [
      "Iteration: 100%|██████████| 154/154 [00:01<00:00, 98.35it/s] \n",
      "Iteration: 100%|██████████| 154/154 [00:04<00:00, 37.77it/s]\n",
      "Iteration:   0%|          | 0/154 [00:00<?, ?it/s]"
     ]
    },
    {
     "name": "stdout",
     "output_type": "stream",
     "text": [
      "Evaluating...\n"
     ]
    },
    {
     "name": "stderr",
     "output_type": "stream",
     "text": [
      "Iteration: 100%|██████████| 154/154 [00:01<00:00, 109.54it/s]\n",
      "Iteration:  19%|█▉        | 30/154 [00:00<00:01, 69.71it/s]"
     ]
    },
    {
     "name": "stdout",
     "output_type": "stream",
     "text": [
      "{'Train':  best_epoch_indx:89\n",
      " auc:0.9513956255331206 \n",
      " apur:0.9230602911208718 \n",
      " f1:0.8339755495800183 \n",
      " precision:0.7833966980886412 \n",
      " recall:0.8915362731152204 \n",
      ", 'Validation':  best_epoch_indx:89\n",
      " auc:0.9513956255331206 \n",
      " apur:0.9230602911208718 \n",
      " f1:0.8339755495800183 \n",
      " precision:0.7833966980886412 \n",
      " recall:0.8915362731152204 \n",
      ", 'Test':  best_epoch_indx:89\n",
      " auc:0.9513956255331206 \n",
      " apur:0.9230602911208718 \n",
      " f1:0.8339755495800183 \n",
      " precision:0.7833966980886412 \n",
      " recall:0.8915362731152204 \n",
      "}\n",
      "=====Epoch 90\n",
      "Training...\n"
     ]
    },
    {
     "name": "stderr",
     "output_type": "stream",
     "text": [
      "Iteration: 100%|██████████| 154/154 [00:01<00:00, 90.55it/s] \n",
      "Iteration: 100%|██████████| 154/154 [00:03<00:00, 45.42it/s]\n",
      "Iteration:  49%|████▉     | 76/154 [00:02<00:02, 36.45it/s]s]"
     ]
    },
    {
     "name": "stdout",
     "output_type": "stream",
     "text": [
      "Evaluating...\n"
     ]
    },
    {
     "name": "stderr",
     "output_type": "stream",
     "text": [
      "Iteration: 100%|██████████| 154/154 [00:03<00:00, 45.69it/s] \n",
      "Iteration: 100%|██████████| 154/154 [00:01<00:00, 78.48it/s]\n",
      "Iteration:  52%|█████▏    | 80/154 [00:00<00:00, 102.13it/s]"
     ]
    },
    {
     "name": "stdout",
     "output_type": "stream",
     "text": [
      "Evaluating...\n"
     ]
    },
    {
     "name": "stderr",
     "output_type": "stream",
     "text": [
      "Iteration: 100%|██████████| 154/154 [00:01<00:00, 126.03it/s]\n",
      "Iteration: 100%|██████████| 154/154 [00:01<00:00, 102.97it/s]\n",
      "Iteration:   5%|▍         | 7/154 [00:00<00:02, 68.00it/s]/s]"
     ]
    },
    {
     "name": "stdout",
     "output_type": "stream",
     "text": [
      "{'Train':  best_epoch_indx:87\n",
      " auc:0.9414071578257314 \n",
      " apur:0.9093224073855898 \n",
      " f1:0.8175226920522471 \n",
      " precision:0.7667272255385414 \n",
      " recall:0.875526050619406 \n",
      ", 'Validation':  best_epoch_indx:87\n",
      " auc:0.9414071578257314 \n",
      " apur:0.9093224073855898 \n",
      " f1:0.8175226920522471 \n",
      " precision:0.7667272255385414 \n",
      " recall:0.875526050619406 \n",
      ", 'Test':  best_epoch_indx:87\n",
      " auc:0.9414071578257314 \n",
      " apur:0.9093224073855898 \n",
      " f1:0.8175226920522471 \n",
      " precision:0.7667272255385414 \n",
      " recall:0.875526050619406 \n",
      "}\n",
      "=====Epoch 88\n",
      "Training...\n"
     ]
    },
    {
     "name": "stderr",
     "output_type": "stream",
     "text": [
      "Iteration: 100%|██████████| 154/154 [00:01<00:00, 125.82it/s]\n",
      "Iteration: 100%|██████████| 154/154 [00:04<00:00, 36.29it/s]\n",
      "Iteration:   8%|▊         | 13/154 [00:00<00:01, 120.77it/s]"
     ]
    },
    {
     "name": "stdout",
     "output_type": "stream",
     "text": [
      "Evaluating...\n"
     ]
    },
    {
     "name": "stderr",
     "output_type": "stream",
     "text": [
      "Iteration: 100%|██████████| 154/154 [00:01<00:00, 111.63it/s]\n",
      "Iteration: 100%|██████████| 154/154 [00:01<00:00, 122.15it/s]\n",
      "Iteration: 100%|██████████| 154/154 [00:01<00:00, 116.41it/s]\n",
      "Iteration: 100%|██████████| 154/154 [00:01<00:00, 79.34it/s] \n",
      "Iteration:  73%|███████▎  | 112/154 [00:02<00:01, 39.17it/s]"
     ]
    },
    {
     "name": "stdout",
     "output_type": "stream",
     "text": [
      "{'Train':  best_epoch_indx:87\n",
      " auc:0.9375234577589735 \n",
      " apur:0.9020980803394608 \n",
      " f1:0.8085244834878803 \n",
      " precision:0.7451274362818591 \n",
      " recall:0.8837126600284495 \n",
      ", 'Validation':  best_epoch_indx:87\n",
      " auc:0.9375234577589735 \n",
      " apur:0.9020980803394608 \n",
      " f1:0.8085244834878803 \n",
      " precision:0.7451274362818591 \n",
      " recall:0.8837126600284495 \n",
      ", 'Test':  best_epoch_indx:87\n",
      " auc:0.9375234577589735 \n",
      " apur:0.9020980803394608 \n",
      " f1:0.8085244834878803 \n",
      " precision:0.7451274362818591 \n",
      " recall:0.8837126600284495 \n",
      "}\n",
      "=====Epoch 88\n",
      "Training...\n"
     ]
    },
    {
     "name": "stderr",
     "output_type": "stream",
     "text": [
      "Iteration: 100%|██████████| 154/154 [00:01<00:00, 124.22it/s]\n",
      "Iteration: 100%|██████████| 154/154 [00:01<00:00, 99.94it/s] \n",
      "Iteration: 100%|██████████| 154/154 [00:01<00:00, 117.65it/s]\n",
      "Iteration: 100%|██████████| 154/154 [00:04<00:00, 36.97it/s]\n",
      "Iteration:   5%|▍         | 7/154 [00:00<00:02, 59.94it/s]]"
     ]
    },
    {
     "name": "stdout",
     "output_type": "stream",
     "text": [
      "Evaluating...\n",
      "{'Train':  best_epoch_indx:87\n",
      " auc:0.9385450794832346 \n",
      " apur:0.9040225709685876 \n",
      " f1:0.8126468230937182 \n",
      " precision:0.7612883181441591 \n",
      " recall:0.8714361922826152 \n",
      ", 'Validation':  best_epoch_indx:87\n",
      " auc:0.9385450794832346 \n",
      " apur:0.9040225709685876 \n",
      " f1:0.8126468230937182 \n",
      " precision:0.7612883181441591 \n",
      " recall:0.8714361922826152 \n",
      ", 'Test':  best_epoch_indx:87\n",
      " auc:0.9385450794832346 \n",
      " apur:0.9040225709685876 \n",
      " f1:0.8126468230937182 \n",
      " precision:0.7612883181441591 \n",
      " recall:0.8714361922826152 \n",
      "}\n",
      "=====Epoch 88\n",
      "Training...\n"
     ]
    },
    {
     "name": "stderr",
     "output_type": "stream",
     "text": [
      "\r",
      "Iteration:   0%|          | 0/154 [00:00<?, ?it/s]\r",
      "Iteration:  31%|███       | 48/154 [00:01<00:03, 33.42it/s]\r",
      "Iteration:   8%|▊         | 13/154 [00:00<00:01, 124.32it/s]\r",
      "Iteration:   9%|▉         | 14/154 [00:00<00:02, 64.06it/s]\r",
      "Iteration:   3%|▎         | 5/154 [00:00<00:03, 41.39it/s]\r",
      "Iteration:  34%|███▍      | 53/154 [00:01<00:02, 36.95it/s]\r",
      "Iteration:  17%|█▋        | 26/154 [00:00<00:01, 127.35it/s]\r",
      "Iteration:  14%|█▍        | 22/154 [00:00<00:01, 69.35it/s]\r",
      "Iteration:   0%|          | 0/154 [00:00<?, ?it/s]"
     ]
    },
    {
     "name": "stdout",
     "output_type": "stream",
     "text": [
      "{'Train':  best_epoch_indx:88\n",
      " auc:0.9461679983551106 \n",
      " apur:0.9154017870485629 \n",
      " f1:0.8280509812767878 \n",
      " precision:0.7897058032592912 \n",
      " recall:0.8703099994072669 \n",
      ", 'Validation':  best_epoch_indx:88\n",
      " auc:0.9461679983551106 \n",
      " apur:0.9154017870485629 \n",
      " f1:0.8280509812767878 \n",
      " precision:0.7897058032592912 \n",
      " recall:0.8703099994072669 \n",
      ", 'Test':  best_epoch_indx:88\n",
      " auc:0.9461679983551106 \n",
      " apur:0.9154017870485629 \n",
      " f1:0.8280509812767878 \n",
      " precision:0.7897058032592912 \n",
      " recall:0.8703099994072669 \n",
      "}\n",
      "=====Epoch 89\n",
      "Training...\n"
     ]
    },
    {
     "name": "stderr",
     "output_type": "stream",
     "text": [
      "Iteration: 100%|██████████| 154/154 [00:01<00:00, 113.12it/s]\n",
      "Iteration: 100%|██████████| 154/154 [00:01<00:00, 119.46it/s]\n",
      "Iteration:   0%|          | 0/154 [00:00<?, ?it/s]9.99it/s]]"
     ]
    },
    {
     "name": "stdout",
     "output_type": "stream",
     "text": [
      "{'Train':  best_epoch_indx:90\n",
      " auc:0.9497423110726108 \n",
      " apur:0.921332732826903 \n",
      " f1:0.8306784003564666 \n",
      " precision:0.7834629123765497 \n",
      " recall:0.8839497392128971 \n",
      ", 'Validation':  best_epoch_indx:90\n",
      " auc:0.9497423110726108 \n",
      " apur:0.921332732826903 \n",
      " f1:0.8306784003564666 \n",
      " precision:0.7834629123765497 \n",
      " recall:0.8839497392128971 \n",
      ", 'Test':  best_epoch_indx:90\n",
      " auc:0.9497423110726108 \n",
      " apur:0.921332732826903 \n",
      " f1:0.8306784003564666 \n",
      " precision:0.7834629123765497 \n",
      " recall:0.8839497392128971 \n",
      "}\n",
      "=====Epoch 91\n",
      "Training...\n"
     ]
    },
    {
     "name": "stderr",
     "output_type": "stream",
     "text": [
      "Iteration: 100%|██████████| 154/154 [00:03<00:00, 41.20it/s]\n",
      "Iteration:  56%|█████▌    | 86/154 [00:02<00:01, 36.51it/s]"
     ]
    },
    {
     "name": "stdout",
     "output_type": "stream",
     "text": [
      "Evaluating...\n"
     ]
    },
    {
     "name": "stderr",
     "output_type": "stream",
     "text": [
      "Iteration: 100%|██████████| 154/154 [00:01<00:00, 126.75it/s]\n",
      "Iteration: 100%|██████████| 154/154 [00:03<00:00, 40.43it/s]\n",
      "Iteration: 100%|██████████| 154/154 [00:02<00:00, 66.06it/s]\n",
      "Iteration:  69%|██████▉   | 107/154 [00:02<00:01, 45.72it/s]"
     ]
    },
    {
     "name": "stdout",
     "output_type": "stream",
     "text": [
      "Evaluating...\n"
     ]
    },
    {
     "name": "stderr",
     "output_type": "stream",
     "text": [
      "\r",
      "Iteration:   8%|▊         | 12/154 [00:00<00:01, 112.13it/s]\r",
      "Iteration:  97%|█████████▋| 149/154 [00:04<00:00, 35.58it/s]\r",
      "Iteration:   8%|▊         | 13/154 [00:00<00:01, 124.76it/s]\r",
      "Iteration:  73%|███████▎  | 112/154 [00:02<00:00, 45.72it/s]\r",
      "Iteration:  16%|█▌        | 25/154 [00:00<00:01, 120.97it/s]\r",
      "Iteration:  99%|█████████▉| 153/154 [00:04<00:00, 34.87it/s]\r",
      "Iteration: 100%|██████████| 154/154 [00:04<00:00, 36.18it/s]\n",
      "\r",
      "Iteration:  17%|█▋        | 26/154 [00:00<00:01, 126.35it/s]\r",
      "Iteration:   0%|          | 0/154 [00:00<?, ?it/s]\r",
      "Iteration:  76%|███████▌  | 117/154 [00:02<00:00, 45.71it/s]"
     ]
    },
    {
     "name": "stdout",
     "output_type": "stream",
     "text": [
      "Evaluating...\n"
     ]
    },
    {
     "name": "stderr",
     "output_type": "stream",
     "text": [
      "Iteration: 100%|██████████| 154/154 [00:03<00:00, 45.89it/s]]\n",
      "Iteration:   0%|          | 0/154 [00:00<?, ?it/s]"
     ]
    },
    {
     "name": "stdout",
     "output_type": "stream",
     "text": [
      "Evaluating...\n"
     ]
    },
    {
     "name": "stderr",
     "output_type": "stream",
     "text": [
      "Iteration: 100%|██████████| 154/154 [00:01<00:00, 126.23it/s]\n",
      "Iteration: 100%|██████████| 154/154 [00:01<00:00, 118.31it/s]\n",
      "Iteration: 100%|██████████| 154/154 [00:01<00:00, 79.91it/s] \n",
      "Iteration: 100%|██████████| 154/154 [00:01<00:00, 116.24it/s]\n",
      "Iteration: 100%|██████████| 154/154 [00:01<00:00, 126.66it/s]\n",
      "Iteration: 100%|██████████| 154/154 [00:02<00:00, 75.31it/s] \n",
      "Iteration: 100%|██████████| 154/154 [00:01<00:00, 106.53it/s]\n",
      "Iteration:  34%|███▍      | 52/154 [00:00<00:01, 89.71it/s] "
     ]
    },
    {
     "name": "stdout",
     "output_type": "stream",
     "text": [
      "{'Train':  best_epoch_indx:88\n",
      " auc:0.944798599663873 \n",
      " apur:0.9140864659324324 \n",
      " f1:0.8203651380134753 \n",
      " precision:0.7572854491648693 \n",
      " recall:0.8949084227372415 \n",
      ", 'Validation':  best_epoch_indx:88\n",
      " auc:0.944798599663873 \n",
      " apur:0.9140864659324324 \n",
      " f1:0.8203651380134753 \n",
      " precision:0.7572854491648693 \n",
      " recall:0.8949084227372415 \n",
      ", 'Test':  best_epoch_indx:88\n",
      " auc:0.944798599663873 \n",
      " apur:0.9140864659324324 \n",
      " f1:0.8203651380134753 \n",
      " precision:0.7572854491648693 \n",
      " recall:0.8949084227372415 \n",
      "}\n",
      "=====Epoch 89\n",
      "Training...\n"
     ]
    },
    {
     "name": "stderr",
     "output_type": "stream",
     "text": [
      "\r",
      "Iteration:  61%|██████    | 94/154 [00:01<00:00, 97.96it/s]\r",
      "Iteration:  68%|██████▊   | 104/154 [00:01<00:00, 72.65it/s]\r",
      "Iteration:   6%|▋         | 10/154 [00:00<00:03, 39.66it/s]\r",
      "Iteration:   0%|          | 0/154 [00:00<?, ?it/s]\r",
      "Iteration:  42%|████▏     | 65/154 [00:00<00:00, 100.03it/s]\r",
      "Iteration:  69%|██████▉   | 107/154 [00:01<00:00, 106.16it/s]\r",
      "Iteration:  73%|███████▎  | 112/154 [00:01<00:00, 74.09it/s]\r",
      "Iteration:   9%|▉         | 14/154 [00:00<00:03, 39.59it/s]\r",
      "Iteration:  51%|█████     | 78/154 [00:00<00:00, 108.06it/s]"
     ]
    },
    {
     "name": "stdout",
     "output_type": "stream",
     "text": [
      "{'Train':  best_epoch_indx:88\n",
      " auc:0.9442709927923009 \n",
      " apur:0.9126230208404669 \n",
      " f1:0.8265332233942738 \n",
      " precision:0.7943056997650145 \n",
      " recall:0.8614864864864865 \n",
      ", 'Validation':  best_epoch_indx:88\n",
      " auc:0.9442709927923009 \n",
      " apur:0.9126230208404669 \n",
      " f1:0.8265332233942738 \n",
      " precision:0.7943056997650145 \n",
      " recall:0.8614864864864865 \n",
      ", 'Test':  best_epoch_indx:88\n",
      " auc:0.9442709927923009 \n",
      " apur:0.9126230208404669 \n",
      " f1:0.8265332233942738 \n",
      " precision:0.7943056997650145 \n",
      " recall:0.8614864864864865 \n",
      "}\n",
      "=====Epoch 89\n",
      "Training...\n"
     ]
    },
    {
     "name": "stderr",
     "output_type": "stream",
     "text": [
      "Iteration: 100%|██████████| 154/154 [00:01<00:00, 92.02it/s] \n",
      "Iteration: 100%|██████████| 154/154 [00:01<00:00, 116.82it/s]\n",
      "Iteration: 100%|██████████| 154/154 [00:02<00:00, 65.08it/s]\n",
      "Iteration:   4%|▍         | 6/154 [00:00<00:02, 56.86it/s]]"
     ]
    },
    {
     "name": "stdout",
     "output_type": "stream",
     "text": [
      "{'Train':  best_epoch_indx:89\n",
      " auc:0.9504119209838838 \n",
      " apur:0.9222949063961348 \n",
      " f1:0.8314930123149301 \n",
      " precision:0.7798484219269103 \n",
      " recall:0.8904629245450774 \n",
      ", 'Validation':  best_epoch_indx:89\n",
      " auc:0.9504119209838838 \n",
      " apur:0.9222949063961348 \n",
      " f1:0.8314930123149301 \n",
      " precision:0.7798484219269103 \n",
      " recall:0.8904629245450774 \n",
      ", 'Test':  best_epoch_indx:89\n",
      " auc:0.9504119209838838 \n",
      " apur:0.9222949063961348 \n",
      " f1:0.8314930123149301 \n",
      " precision:0.7798484219269103 \n",
      " recall:0.8904629245450774 \n",
      "}\n",
      "=====Epoch 90\n",
      "Training...\n"
     ]
    },
    {
     "name": "stderr",
     "output_type": "stream",
     "text": [
      "Iteration: 100%|██████████| 154/154 [00:02<00:00, 72.28it/s]\n",
      "Iteration: 100%|██████████| 154/154 [00:03<00:00, 42.38it/s]\n",
      "Iteration: 100%|██████████| 154/154 [00:03<00:00, 45.00it/s]\n"
     ]
    },
    {
     "name": "stdout",
     "output_type": "stream",
     "text": [
      "Evaluating...\n",
      "Evaluating...\n"
     ]
    },
    {
     "name": "stderr",
     "output_type": "stream",
     "text": [
      "Iteration:   0%|          | 0/154 [00:00<?, ?it/s]127.95it/s]"
     ]
    },
    {
     "name": "stdout",
     "output_type": "stream",
     "text": [
      "{'Train':  best_epoch_indx:91\n",
      " auc:0.9480518043499097 \n",
      " apur:0.9183467041306583 \n",
      " f1:0.8301257092001335 \n",
      " precision:0.782016348773842 \n",
      " recall:0.8845424371740161 \n",
      ", 'Validation':  best_epoch_indx:91\n",
      " auc:0.9480518043499097 \n",
      " apur:0.9183467041306583 \n",
      " f1:0.8301257092001335 \n",
      " precision:0.782016348773842 \n",
      " recall:0.8845424371740161 \n",
      ", 'Test':  best_epoch_indx:91\n",
      " auc:0.9480518043499097 \n",
      " apur:0.9183467041306583 \n",
      " f1:0.8301257092001335 \n",
      " precision:0.782016348773842 \n",
      " recall:0.8845424371740161 \n",
      "}\n",
      "=====Epoch 92\n",
      "Training...\n"
     ]
    },
    {
     "name": "stderr",
     "output_type": "stream",
     "text": [
      "Iteration: 100%|██████████| 154/154 [00:01<00:00, 126.47it/s]\n",
      "Iteration: 100%|██████████| 154/154 [00:03<00:00, 44.79it/s]\n",
      "Iteration: 100%|██████████| 154/154 [00:01<00:00, 125.05it/s]\n",
      "Iteration:  10%|█         | 16/154 [00:00<00:03, 35.54it/s]"
     ]
    },
    {
     "name": "stdout",
     "output_type": "stream",
     "text": [
      "Evaluating...\n"
     ]
    },
    {
     "name": "stderr",
     "output_type": "stream",
     "text": [
      "Iteration: 100%|██████████| 154/154 [00:02<00:00, 62.79it/s]\n",
      "Iteration:  51%|█████     | 78/154 [00:00<00:00, 125.51it/s]]"
     ]
    },
    {
     "name": "stdout",
     "output_type": "stream",
     "text": [
      "{'Train':  best_epoch_indx:88\n",
      " auc:0.9464802404165384 \n",
      " apur:0.91578678659398 \n",
      " f1:0.8278920921876316 \n",
      " precision:0.7863694539249146 \n",
      " recall:0.8740442178886847 \n",
      ", 'Validation':  best_epoch_indx:88\n",
      " auc:0.9464802404165384 \n",
      " apur:0.91578678659398 \n",
      " f1:0.8278920921876316 \n",
      " precision:0.7863694539249146 \n",
      " recall:0.8740442178886847 \n",
      ", 'Test':  best_epoch_indx:88\n",
      " auc:0.9464802404165384 \n",
      " apur:0.91578678659398 \n",
      " f1:0.8278920921876316 \n",
      " precision:0.7863694539249146 \n",
      " recall:0.8740442178886847 \n",
      "}\n",
      "=====Epoch 89\n",
      "Training...\n"
     ]
    },
    {
     "name": "stderr",
     "output_type": "stream",
     "text": [
      "Iteration: 100%|██████████| 154/154 [00:01<00:00, 124.62it/s]\n",
      "Iteration: 100%|██████████| 154/154 [00:01<00:00, 124.67it/s]\n",
      "Iteration: 100%|██████████| 154/154 [00:01<00:00, 125.32it/s]\n",
      "Iteration: 100%|██████████| 154/154 [00:01<00:00, 125.80it/s]\n",
      "Iteration: 100%|██████████| 154/154 [00:03<00:00, 39.04it/s]]\n",
      "Iteration:   0%|          | 0/154 [00:00<?, ?it/s]"
     ]
    },
    {
     "name": "stdout",
     "output_type": "stream",
     "text": [
      "Evaluating...\n"
     ]
    },
    {
     "name": "stderr",
     "output_type": "stream",
     "text": [
      "Iteration: 100%|██████████| 154/154 [00:01<00:00, 115.17it/s]\n",
      "Iteration:   0%|          | 0/154 [00:00<?, ?it/s]72.15it/s]]"
     ]
    },
    {
     "name": "stdout",
     "output_type": "stream",
     "text": [
      "{'Train':  best_epoch_indx:89\n",
      " auc:0.9481804312132883 \n",
      " apur:0.9185730599012708 \n",
      " f1:0.8300744361737584 \n",
      " precision:0.7810474597532929 \n",
      " recall:0.8856685633001422 \n",
      ", 'Validation':  best_epoch_indx:89\n",
      " auc:0.9481804312132883 \n",
      " apur:0.9185730599012708 \n",
      " f1:0.8300744361737584 \n",
      " precision:0.7810474597532929 \n",
      " recall:0.8856685633001422 \n",
      ", 'Test':  best_epoch_indx:89\n",
      " auc:0.9481804312132883 \n",
      " apur:0.9185730599012708 \n",
      " f1:0.8300744361737584 \n",
      " precision:0.7810474597532929 \n",
      " recall:0.8856685633001422 \n",
      "}\n",
      "=====Epoch 90\n",
      "Training...\n"
     ]
    },
    {
     "name": "stderr",
     "output_type": "stream",
     "text": [
      "Iteration: 100%|██████████| 154/154 [00:01<00:00, 117.33it/s]\n",
      "Iteration: 100%|██████████| 154/154 [00:02<00:00, 66.66it/s]\n",
      "Iteration: 100%|██████████| 154/154 [00:03<00:00, 40.76it/s]\n",
      "Iteration:   8%|▊         | 12/154 [00:00<00:01, 113.10it/s]"
     ]
    },
    {
     "name": "stdout",
     "output_type": "stream",
     "text": [
      "Evaluating...\n"
     ]
    },
    {
     "name": "stderr",
     "output_type": "stream",
     "text": [
      "Iteration:   3%|▎         | 5/154 [00:00<00:03, 39.91it/s]]]"
     ]
    },
    {
     "name": "stdout",
     "output_type": "stream",
     "text": [
      "{'Train':  best_epoch_indx:89\n",
      " auc:0.9516190213499574 \n",
      " apur:0.9234412484833924 \n",
      " f1:0.8375848677041714 \n",
      " precision:0.79223044397463 \n",
      " recall:0.8884476320312963 \n",
      ", 'Validation':  best_epoch_indx:89\n",
      " auc:0.9516190213499574 \n",
      " apur:0.9234412484833924 \n",
      " f1:0.8375848677041714 \n",
      " precision:0.79223044397463 \n",
      " recall:0.8884476320312963 \n",
      ", 'Test':  best_epoch_indx:89\n",
      " auc:0.9516190213499574 \n",
      " apur:0.9234412484833924 \n",
      " f1:0.8375848677041714 \n",
      " precision:0.79223044397463 \n",
      " recall:0.8884476320312963 \n",
      "}\n",
      "=====Epoch 90\n",
      "Training...\n"
     ]
    },
    {
     "name": "stderr",
     "output_type": "stream",
     "text": [
      "Iteration: 100%|██████████| 154/154 [00:02<00:00, 65.32it/s]]\n",
      "Iteration: 100%|██████████| 154/154 [00:01<00:00, 127.03it/s]\n",
      "Iteration: 100%|██████████| 154/154 [00:01<00:00, 118.62it/s]\n",
      "Iteration:  25%|██▌       | 39/154 [00:00<00:00, 127.90it/s]"
     ]
    },
    {
     "name": "stdout",
     "output_type": "stream",
     "text": [
      "{'Train':  best_epoch_indx:90\n",
      " auc:0.9494394718566742 \n",
      " apur:0.9205997492052075 \n",
      " f1:0.8331383363975708 \n",
      " precision:0.7859357754769538 \n",
      " recall:0.8863730662082864 \n",
      ", 'Validation':  best_epoch_indx:90\n",
      " auc:0.9494394718566742 \n",
      " apur:0.9205997492052075 \n",
      " f1:0.8331383363975708 \n",
      " precision:0.7859357754769538 \n",
      " recall:0.8863730662082864 \n",
      ", 'Test':  best_epoch_indx:90\n",
      " auc:0.9494394718566742 \n",
      " apur:0.9205997492052075 \n",
      " f1:0.8331383363975708 \n",
      " precision:0.7859357754769538 \n",
      " recall:0.8863730662082864 \n",
      "}\n",
      "=====Epoch 91\n",
      "Training...\n"
     ]
    },
    {
     "name": "stderr",
     "output_type": "stream",
     "text": [
      "Iteration: 100%|██████████| 154/154 [00:01<00:00, 126.16it/s]\n",
      "Iteration: 100%|██████████| 154/154 [00:03<00:00, 41.19it/s]]\n",
      "Iteration:  68%|██████▊   | 105/154 [00:02<00:01, 35.96it/s]]"
     ]
    },
    {
     "name": "stdout",
     "output_type": "stream",
     "text": [
      "Evaluating...\n"
     ]
    },
    {
     "name": "stderr",
     "output_type": "stream",
     "text": [
      "Iteration: 100%|██████████| 154/154 [00:01<00:00, 128.19it/s]\n",
      "Iteration:  90%|████████▉ | 138/154 [00:03<00:00, 37.21it/s]"
     ]
    },
    {
     "name": "stdout",
     "output_type": "stream",
     "text": [
      "{'Train':  best_epoch_indx:92\n",
      " auc:0.9436246278387459 \n",
      " apur:0.911110018425842 \n",
      " f1:0.8227325107507237 \n",
      " precision:0.7823809269257497 \n",
      " recall:0.8674727358937885 \n",
      ", 'Validation':  best_epoch_indx:92\n",
      " auc:0.9436246278387459 \n",
      " apur:0.911110018425842 \n",
      " f1:0.8227325107507237 \n",
      " precision:0.7823809269257497 \n",
      " recall:0.8674727358937885 \n",
      ", 'Test':  best_epoch_indx:92\n",
      " auc:0.9436246278387459 \n",
      " apur:0.911110018425842 \n",
      " f1:0.8227325107507237 \n",
      " precision:0.7823809269257497 \n",
      " recall:0.8674727358937885 \n",
      "}\n",
      "=====Epoch 93\n",
      "Training...\n"
     ]
    },
    {
     "name": "stderr",
     "output_type": "stream",
     "text": [
      "Iteration: 100%|██████████| 154/154 [00:03<00:00, 39.18it/s]\n",
      "Iteration:   8%|▊         | 12/154 [00:00<00:01, 113.37it/s]"
     ]
    },
    {
     "name": "stdout",
     "output_type": "stream",
     "text": [
      "Evaluating...\n"
     ]
    },
    {
     "name": "stderr",
     "output_type": "stream",
     "text": [
      "Iteration: 100%|██████████| 154/154 [00:01<00:00, 84.97it/s] \n",
      "Iteration: 100%|██████████| 154/154 [00:01<00:00, 104.62it/s]\n",
      "Iteration: 100%|██████████| 154/154 [00:03<00:00, 45.36it/s]\n",
      "Iteration:   8%|▊         | 12/154 [00:00<00:01, 111.79it/s]"
     ]
    },
    {
     "name": "stdout",
     "output_type": "stream",
     "text": [
      "Evaluating...\n"
     ]
    },
    {
     "name": "stderr",
     "output_type": "stream",
     "text": [
      "\r",
      "Iteration:  69%|██████▉   | 107/154 [00:00<00:00, 130.37it/s]\r",
      "Iteration:  35%|███▌      | 54/154 [00:01<00:02, 39.53it/s]\r",
      "Iteration:  16%|█▌        | 25/154 [00:00<00:01, 120.30it/s]\r",
      "Iteration:  79%|███████▊  | 121/154 [00:00<00:00, 130.65it/s]\r",
      "Iteration:   0%|          | 0/154 [00:00<?, ?it/s]\r",
      "Iteration:  38%|███▊      | 59/154 [00:01<00:02, 41.88it/s]\r",
      "Iteration:  25%|██▍       | 38/154 [00:00<00:00, 123.98it/s]"
     ]
    },
    {
     "name": "stdout",
     "output_type": "stream",
     "text": [
      "{'Train':  best_epoch_indx:89\n",
      " auc:0.951318265274396 \n",
      " apur:0.9230773430816144 \n",
      " f1:0.8366293339351708 \n",
      " precision:0.7982342807924203 \n",
      " recall:0.8789046292454508 \n",
      ", 'Validation':  best_epoch_indx:89\n",
      " auc:0.951318265274396 \n",
      " apur:0.9230773430816144 \n",
      " f1:0.8366293339351708 \n",
      " precision:0.7982342807924203 \n",
      " recall:0.8789046292454508 \n",
      ", 'Test':  best_epoch_indx:89\n",
      " auc:0.951318265274396 \n",
      " apur:0.9230773430816144 \n",
      " f1:0.8366293339351708 \n",
      " precision:0.7982342807924203 \n",
      " recall:0.8789046292454508 \n",
      "}\n",
      "=====Epoch 90\n",
      "Training...\n"
     ]
    },
    {
     "name": "stderr",
     "output_type": "stream",
     "text": [
      "Iteration: 100%|██████████| 154/154 [00:01<00:00, 128.50it/s]\n",
      "Iteration: 100%|██████████| 154/154 [00:01<00:00, 119.29it/s]\n",
      "Iteration: 100%|██████████| 154/154 [00:01<00:00, 83.93it/s] \n",
      "Iteration: 100%|██████████| 154/154 [00:01<00:00, 130.42it/s]\n",
      "Iteration: 100%|██████████| 154/154 [00:03<00:00, 42.11it/s]\n",
      "Iteration:   0%|          | 0/154 [00:00<?, ?it/s]"
     ]
    },
    {
     "name": "stdout",
     "output_type": "stream",
     "text": [
      "Evaluating...\n"
     ]
    },
    {
     "name": "stderr",
     "output_type": "stream",
     "text": [
      "Iteration: 100%|██████████| 154/154 [00:01<00:00, 97.37it/s] \n",
      "Iteration: 100%|██████████| 154/154 [00:01<00:00, 124.41it/s]\n",
      "Iteration: 100%|██████████| 154/154 [00:03<00:00, 44.53it/s]\n",
      "Iteration:   0%|          | 0/154 [00:00<?, ?it/s]"
     ]
    },
    {
     "name": "stdout",
     "output_type": "stream",
     "text": [
      "Evaluating...\n"
     ]
    },
    {
     "name": "stderr",
     "output_type": "stream",
     "text": [
      "Iteration: 100%|██████████| 154/154 [00:01<00:00, 96.79it/s] \n",
      "Iteration: 100%|██████████| 154/154 [00:01<00:00, 124.24it/s]\n",
      "Iteration:   0%|          | 0/154 [00:00<?, ?it/s]50.63it/s]"
     ]
    },
    {
     "name": "stdout",
     "output_type": "stream",
     "text": [
      "{'Train':  best_epoch_indx:90\n",
      " auc:0.948464463328377 \n",
      " apur:0.919067947501236 \n",
      " f1:0.8292938484021288 \n",
      " precision:0.7753544728022687 \n",
      " recall:0.8912991939307728 \n",
      ", 'Validation':  best_epoch_indx:90\n",
      " auc:0.948464463328377 \n",
      " apur:0.919067947501236 \n",
      " f1:0.8292938484021288 \n",
      " precision:0.7753544728022687 \n",
      " recall:0.8912991939307728 \n",
      ", 'Test':  best_epoch_indx:90\n",
      " auc:0.948464463328377 \n",
      " apur:0.919067947501236 \n",
      " f1:0.8292938484021288 \n",
      " precision:0.7753544728022687 \n",
      " recall:0.8912991939307728 \n",
      "}\n",
      "=====Epoch 91\n",
      "Training...\n"
     ]
    },
    {
     "name": "stderr",
     "output_type": "stream",
     "text": [
      "Iteration: 100%|██████████| 154/154 [00:02<00:00, 65.80it/s]]\n",
      "Iteration: 100%|██████████| 154/154 [00:01<00:00, 118.25it/s]\n",
      "Iteration: 100%|██████████| 154/154 [00:01<00:00, 108.47it/s]\n",
      "Iteration:   0%|          | 0/154 [00:00<?, ?it/s]7.24it/s]]"
     ]
    },
    {
     "name": "stdout",
     "output_type": "stream",
     "text": [
      "{'Train':  best_epoch_indx:90\n",
      " auc:0.9507959941904837 \n",
      " apur:0.921320813637012 \n",
      " f1:0.8350767861117293 \n",
      " precision:0.7868714937345986 \n",
      " recall:0.8895738249066445 \n",
      ", 'Validation':  best_epoch_indx:90\n",
      " auc:0.9507959941904837 \n",
      " apur:0.921320813637012 \n",
      " f1:0.8350767861117293 \n",
      " precision:0.7868714937345986 \n",
      " recall:0.8895738249066445 \n",
      ", 'Test':  best_epoch_indx:90\n",
      " auc:0.9507959941904837 \n",
      " apur:0.921320813637012 \n",
      " f1:0.8350767861117293 \n",
      " precision:0.7868714937345986 \n",
      " recall:0.8895738249066445 \n",
      "}\n",
      "=====Epoch 91\n",
      "Training...\n",
      "{'Train':  best_epoch_indx:91\n",
      " auc:0.9444829802635251 \n",
      " apur:0.9137570117376332 \n",
      " f1:0.8261632514434508 \n",
      " precision:0.7905855587454634 \n",
      " recall:0.8650939481951277 \n",
      ", 'Validation':  best_epoch_indx:91\n",
      " auc:0.9444829802635251 \n",
      " apur:0.9137570117376332 \n",
      " f1:0.8261632514434508 \n",
      " precision:0.7905855587454634 \n",
      " recall:0.8650939481951277 \n",
      ", 'Test':  best_epoch_indx:91\n",
      " auc:0.9444829802635251 \n",
      " apur:0.9137570117376332 \n",
      " f1:0.8261632514434508 \n",
      " precision:0.7905855587454634 \n",
      " recall:0.8650939481951277 \n",
      "}\n",
      "=====Epoch 92\n",
      "Training...\n"
     ]
    },
    {
     "name": "stderr",
     "output_type": "stream",
     "text": [
      "Iteration: 100%|██████████| 154/154 [00:01<00:00, 126.78it/s]\n",
      "Iteration: 100%|██████████| 154/154 [00:01<00:00, 127.36it/s]\n",
      "Iteration:  38%|███▊      | 58/154 [00:01<00:02, 34.31it/s]]"
     ]
    },
    {
     "name": "stdout",
     "output_type": "stream",
     "text": [
      "{'Train':  best_epoch_indx:93\n",
      " auc:0.9370696165050858 \n",
      " apur:0.9029656613680948 \n",
      " f1:0.8094023423571682 \n",
      " precision:0.7533057640271609 \n",
      " recall:0.8745258416311048 \n",
      ", 'Validation':  best_epoch_indx:93\n",
      " auc:0.9370696165050858 \n",
      " apur:0.9029656613680948 \n",
      " f1:0.8094023423571682 \n",
      " precision:0.7533057640271609 \n",
      " recall:0.8745258416311048 \n",
      ", 'Test':  best_epoch_indx:93\n",
      " auc:0.9370696165050858 \n",
      " apur:0.9029656613680948 \n",
      " f1:0.8094023423571682 \n",
      " precision:0.7533057640271609 \n",
      " recall:0.8745258416311048 \n",
      "}\n",
      "=====Epoch 94\n",
      "Training...\n"
     ]
    },
    {
     "name": "stderr",
     "output_type": "stream",
     "text": [
      "Iteration: 100%|██████████| 154/154 [00:03<00:00, 40.76it/s] \n",
      "Iteration:   8%|▊         | 12/154 [00:00<00:01, 112.98it/s]"
     ]
    },
    {
     "name": "stdout",
     "output_type": "stream",
     "text": [
      "Evaluating...\n"
     ]
    },
    {
     "name": "stderr",
     "output_type": "stream",
     "text": [
      "Iteration: 100%|██████████| 154/154 [00:01<00:00, 100.04it/s]\n",
      "Iteration: 100%|██████████| 154/154 [00:03<00:00, 45.20it/s]]\n",
      "Iteration:  50%|█████     | 77/154 [00:01<00:01, 45.46it/s]]"
     ]
    },
    {
     "name": "stdout",
     "output_type": "stream",
     "text": [
      "Evaluating...\n"
     ]
    },
    {
     "name": "stderr",
     "output_type": "stream",
     "text": [
      "Iteration: 100%|██████████| 154/154 [00:01<00:00, 120.11it/s]\n",
      "Iteration:  63%|██████▎   | 97/154 [00:02<00:01, 45.71it/s]]"
     ]
    },
    {
     "name": "stdout",
     "output_type": "stream",
     "text": [
      "{'Train':  best_epoch_indx:90\n",
      " auc:0.9504521355853377 \n",
      " apur:0.9225125643128804 \n",
      " f1:0.8341141276739854 \n",
      " precision:0.7960997683564079 \n",
      " recall:0.8759409637840081 \n",
      ", 'Validation':  best_epoch_indx:90\n",
      " auc:0.9504521355853377 \n",
      " apur:0.9225125643128804 \n",
      " f1:0.8341141276739854 \n",
      " precision:0.7960997683564079 \n",
      " recall:0.8759409637840081 \n",
      ", 'Test':  best_epoch_indx:90\n",
      " auc:0.9504521355853377 \n",
      " apur:0.9225125643128804 \n",
      " f1:0.8341141276739854 \n",
      " precision:0.7960997683564079 \n",
      " recall:0.8759409637840081 \n",
      "}\n",
      "=====Epoch 91\n",
      "Training...\n"
     ]
    },
    {
     "name": "stderr",
     "output_type": "stream",
     "text": [
      "Iteration: 100%|██████████| 154/154 [00:04<00:00, 37.06it/s]\n",
      "Iteration:  76%|███████▌  | 117/154 [00:02<00:00, 45.68it/s]"
     ]
    },
    {
     "name": "stdout",
     "output_type": "stream",
     "text": [
      "Evaluating...\n"
     ]
    },
    {
     "name": "stderr",
     "output_type": "stream",
     "text": [
      "Iteration: 100%|██████████| 154/154 [00:01<00:00, 118.75it/s]\n",
      "Iteration: 100%|██████████| 154/154 [00:03<00:00, 43.48it/s]\n",
      "Iteration:  40%|███▉      | 61/154 [00:00<00:01, 70.00it/s]"
     ]
    },
    {
     "name": "stdout",
     "output_type": "stream",
     "text": [
      "Evaluating...\n"
     ]
    },
    {
     "name": "stderr",
     "output_type": "stream",
     "text": [
      "Iteration: 100%|██████████| 154/154 [00:01<00:00, 126.47it/s]\n",
      "Iteration: 100%|██████████| 154/154 [00:01<00:00, 116.59it/s]\n",
      "Iteration: 100%|██████████| 154/154 [00:02<00:00, 70.32it/s]\n",
      "Iteration: 100%|██████████| 154/154 [00:02<00:00, 66.22it/s]\n",
      "Iteration: 100%|██████████| 154/154 [00:03<00:00, 44.14it/s]\n",
      "Iteration:   5%|▍         | 7/154 [00:00<00:02, 68.50it/s]s]"
     ]
    },
    {
     "name": "stdout",
     "output_type": "stream",
     "text": [
      "Evaluating...\n"
     ]
    },
    {
     "name": "stderr",
     "output_type": "stream",
     "text": [
      "Iteration: 100%|██████████| 154/154 [00:01<00:00, 105.56it/s]\n",
      "Iteration: 100%|██████████| 154/154 [00:01<00:00, 123.97it/s]\n",
      "Iteration: 100%|██████████| 154/154 [00:01<00:00, 115.46it/s]\n",
      "Iteration: 100%|██████████| 154/154 [00:01<00:00, 122.75it/s]\n",
      "Iteration: 100%|██████████| 154/154 [00:01<00:00, 82.96it/s] \n",
      "Iteration:  17%|█▋        | 26/154 [00:00<00:01, 126.04it/s]"
     ]
    },
    {
     "name": "stdout",
     "output_type": "stream",
     "text": [
      "{'Train':  best_epoch_indx:91\n",
      " auc:0.9430049320689023 \n",
      " apur:0.9117474875509575 \n",
      " f1:0.8194867572389186 \n",
      " precision:0.7631242651944998 \n",
      " recall:0.8848387861545757 \n",
      ", 'Validation':  best_epoch_indx:91\n",
      " auc:0.9430049320689023 \n",
      " apur:0.9117474875509575 \n",
      " f1:0.8194867572389186 \n",
      " precision:0.7631242651944998 \n",
      " recall:0.8848387861545757 \n",
      ", 'Test':  best_epoch_indx:91\n",
      " auc:0.9430049320689023 \n",
      " apur:0.9117474875509575 \n",
      " f1:0.8194867572389186 \n",
      " precision:0.7631242651944998 \n",
      " recall:0.8848387861545757 \n",
      "}\n",
      "=====Epoch 92\n",
      "Training...\n"
     ]
    },
    {
     "name": "stderr",
     "output_type": "stream",
     "text": [
      "Iteration:  29%|██▊       | 44/154 [00:00<00:01, 87.82it/s]]"
     ]
    },
    {
     "name": "stdout",
     "output_type": "stream",
     "text": [
      "{'Train':  best_epoch_indx:91\n",
      " auc:0.9468006123596784 \n",
      " apur:0.9166373489540417 \n",
      " f1:0.8301590418221088 \n",
      " precision:0.7879659211927582 \n",
      " recall:0.8771264299685851 \n",
      ", 'Validation':  best_epoch_indx:91\n",
      " auc:0.9468006123596784 \n",
      " apur:0.9166373489540417 \n",
      " f1:0.8301590418221088 \n",
      " precision:0.7879659211927582 \n",
      " recall:0.8771264299685851 \n",
      ", 'Test':  best_epoch_indx:91\n",
      " auc:0.9468006123596784 \n",
      " apur:0.9166373489540417 \n",
      " f1:0.8301590418221088 \n",
      " precision:0.7879659211927582 \n",
      " recall:0.8771264299685851 \n",
      "}\n",
      "=====Epoch 92\n",
      "Training...\n"
     ]
    },
    {
     "name": "stderr",
     "output_type": "stream",
     "text": [
      "Iteration: 100%|██████████| 154/154 [00:01<00:00, 127.26it/s]\n",
      "Iteration: 100%|██████████| 154/154 [00:01<00:00, 125.83it/s]\n",
      "Iteration: 100%|██████████| 154/154 [00:01<00:00, 110.27it/s]\n",
      "Iteration:   0%|          | 0/154 [00:00<?, ?it/s].66it/s]]"
     ]
    },
    {
     "name": "stdout",
     "output_type": "stream",
     "text": [
      "{'Train':  best_epoch_indx:94\n",
      " auc:0.9308843588682532 \n",
      " apur:0.8914473403833095 \n",
      " f1:0.8024755879521386 \n",
      " precision:0.7487039983575424 \n",
      " recall:0.8645685158843054 \n",
      ", 'Validation':  best_epoch_indx:94\n",
      " auc:0.9308843588682532 \n",
      " apur:0.8914473403833095 \n",
      " f1:0.8024755879521386 \n",
      " precision:0.7487039983575424 \n",
      " recall:0.8645685158843054 \n",
      ", 'Test':  best_epoch_indx:94\n",
      " auc:0.9308843588682532 \n",
      " apur:0.8914473403833095 \n",
      " f1:0.8024755879521386 \n",
      " precision:0.7487039983575424 \n",
      " recall:0.8645685158843054 \n",
      "}\n",
      "=====Epoch 95\n",
      "Training...\n",
      "{'Train':  best_epoch_indx:92\n",
      " auc:0.9431240877253957 \n",
      " apur:0.910333575971244 \n",
      " f1:0.8226268241834609 \n",
      " precision:0.7745498324958124 \n",
      " recall:0.8770671566593563 \n",
      ", 'Validation':  best_epoch_indx:92\n",
      " auc:0.9431240877253957 \n",
      " apur:0.910333575971244 \n",
      " f1:0.8226268241834609 \n",
      " precision:0.7745498324958124 \n",
      " recall:0.8770671566593563 \n",
      ", 'Test':  best_epoch_indx:92\n",
      " auc:0.9431240877253957 \n",
      " apur:0.910333575971244 \n",
      " f1:0.8226268241834609 \n",
      " precision:0.7745498324958124 \n",
      " recall:0.8770671566593563 \n",
      "}\n",
      "=====Epoch 93\n",
      "Training...\n"
     ]
    },
    {
     "name": "stderr",
     "output_type": "stream",
     "text": [
      "Iteration: 100%|██████████| 154/154 [00:01<00:00, 126.24it/s]\n",
      "Iteration: 100%|██████████| 154/154 [00:03<00:00, 45.01it/s]\n",
      "Iteration:   0%|          | 0/154 [00:00<?, ?it/s]"
     ]
    },
    {
     "name": "stdout",
     "output_type": "stream",
     "text": [
      "Evaluating...\n",
      "{'Train':  best_epoch_indx:91\n",
      " auc:0.9475050868336183 \n",
      " apur:0.9173151259988341 \n",
      " f1:0.8312900014222727 \n",
      " precision:0.7991686720630059 \n",
      " recall:0.8661015944520183 \n",
      ", 'Validation':  best_epoch_indx:91\n",
      " auc:0.9475050868336183 \n",
      " apur:0.9173151259988341 \n",
      " f1:0.8312900014222727 \n",
      " precision:0.7991686720630059 \n",
      " recall:0.8661015944520183 \n",
      ", 'Test':  best_epoch_indx:91\n",
      " auc:0.9475050868336183 \n",
      " apur:0.9173151259988341 \n",
      " f1:0.8312900014222727 \n",
      " precision:0.7991686720630059 \n",
      " recall:0.8661015944520183 \n",
      "}\n",
      "=====Epoch 92\n",
      "Training...\n"
     ]
    },
    {
     "name": "stderr",
     "output_type": "stream",
     "text": [
      "Iteration: 100%|██████████| 154/154 [00:03<00:00, 39.45it/s]]\n",
      "Iteration:   4%|▍         | 6/154 [00:00<00:02, 56.87it/s]s]]"
     ]
    },
    {
     "name": "stdout",
     "output_type": "stream",
     "text": [
      "Evaluating...\n"
     ]
    },
    {
     "name": "stderr",
     "output_type": "stream",
     "text": [
      "Iteration: 100%|██████████| 154/154 [00:01<00:00, 119.47it/s]\n",
      "Iteration: 100%|██████████| 154/154 [00:03<00:00, 42.51it/s]\n",
      "Iteration:   0%|          | 0/154 [00:00<?, ?it/s]3.68it/s]"
     ]
    },
    {
     "name": "stdout",
     "output_type": "stream",
     "text": [
      "Evaluating...\n"
     ]
    },
    {
     "name": "stderr",
     "output_type": "stream",
     "text": [
      "Iteration: 100%|██████████| 154/154 [00:01<00:00, 93.22it/s] \n",
      "Iteration: 100%|██████████| 154/154 [00:04<00:00, 34.80it/s]]\n",
      "Iteration:  67%|██████▋   | 103/154 [00:01<00:00, 106.42it/s]"
     ]
    },
    {
     "name": "stdout",
     "output_type": "stream",
     "text": [
      "Evaluating...\n"
     ]
    },
    {
     "name": "stderr",
     "output_type": "stream",
     "text": [
      "Iteration: 100%|██████████| 154/154 [00:01<00:00, 117.61it/s]\n",
      "Iteration: 100%|██████████| 154/154 [00:01<00:00, 91.54it/s] \n",
      "Iteration: 100%|██████████| 154/154 [00:03<00:00, 44.32it/s]\n",
      "Iteration:   7%|▋         | 11/154 [00:00<00:01, 109.62it/s]"
     ]
    },
    {
     "name": "stdout",
     "output_type": "stream",
     "text": [
      "Evaluating...\n"
     ]
    },
    {
     "name": "stderr",
     "output_type": "stream",
     "text": [
      "Iteration: 100%|██████████| 154/154 [00:01<00:00, 116.56it/s]\n",
      "Iteration: 100%|██████████| 154/154 [00:01<00:00, 115.76it/s]\n",
      "Iteration: 100%|██████████| 154/154 [00:02<00:00, 69.36it/s]]\n",
      "Iteration: 100%|██████████| 154/154 [00:01<00:00, 111.49it/s]\n",
      "Iteration: 100%|██████████| 154/154 [00:01<00:00, 89.47it/s] \n",
      "Iteration:  78%|███████▊  | 120/154 [00:01<00:00, 123.66it/s]"
     ]
    },
    {
     "name": "stdout",
     "output_type": "stream",
     "text": [
      "{'Train':  best_epoch_indx:92\n",
      " auc:0.9418260146096044 \n",
      " apur:0.9101187188727954 \n",
      " f1:0.8189773790522319 \n",
      " precision:0.7644097400595911 \n",
      " recall:0.8819345661450925 \n",
      ", 'Validation':  best_epoch_indx:92\n",
      " auc:0.9418260146096044 \n",
      " apur:0.9101187188727954 \n",
      " f1:0.8189773790522319 \n",
      " precision:0.7644097400595911 \n",
      " recall:0.8819345661450925 \n",
      ", 'Test':  best_epoch_indx:92\n",
      " auc:0.9418260146096044 \n",
      " apur:0.9101187188727954 \n",
      " f1:0.8189773790522319 \n",
      " precision:0.7644097400595911 \n",
      " recall:0.8819345661450925 \n",
      "}\n",
      "=====Epoch 93\n",
      "Training...\n"
     ]
    },
    {
     "name": "stderr",
     "output_type": "stream",
     "text": [
      "Iteration: 100%|██████████| 154/154 [00:01<00:00, 118.09it/s]\n",
      "Iteration: 100%|██████████| 154/154 [00:01<00:00, 117.12it/s]\n",
      "Iteration: 100%|██████████| 154/154 [00:02<00:00, 68.26it/s]]\n",
      "Iteration: 100%|██████████| 154/154 [00:01<00:00, 80.54it/s] \n",
      "Iteration:  68%|██████▊   | 104/154 [00:00<00:00, 126.62it/s]"
     ]
    },
    {
     "name": "stdout",
     "output_type": "stream",
     "text": [
      "{'Train':  best_epoch_indx:95\n",
      " auc:0.9343531344039333 \n",
      " apur:0.8963824160269646 \n",
      " f1:0.8091117684460786 \n",
      " precision:0.7581990570436765 \n",
      " recall:0.8673541963015647 \n",
      ", 'Validation':  best_epoch_indx:95\n",
      " auc:0.9343531344039333 \n",
      " apur:0.8963824160269646 \n",
      " f1:0.8091117684460786 \n",
      " precision:0.7581990570436765 \n",
      " recall:0.8673541963015647 \n",
      ", 'Test':  best_epoch_indx:95\n",
      " auc:0.9343531344039333 \n",
      " apur:0.8963824160269646 \n",
      " f1:0.8091117684460786 \n",
      " precision:0.7581990570436765 \n",
      " recall:0.8673541963015647 \n",
      "}\n",
      "=====Epoch 96\n",
      "Training...\n"
     ]
    },
    {
     "name": "stderr",
     "output_type": "stream",
     "text": [
      "Iteration: 100%|██████████| 154/154 [00:01<00:00, 126.42it/s]\n",
      "Iteration:   3%|▎         | 4/154 [00:00<00:04, 35.26it/s]]]"
     ]
    },
    {
     "name": "stdout",
     "output_type": "stream",
     "text": [
      "{'Train':  best_epoch_indx:92\n",
      " auc:0.9434633181628056 \n",
      " apur:0.91152808464205 \n",
      " f1:0.8219646799116996 \n",
      " precision:0.7689607104135474 \n",
      " recall:0.8828166676545551 \n",
      ", 'Validation':  best_epoch_indx:92\n",
      " auc:0.9434633181628056 \n",
      " apur:0.91152808464205 \n",
      " f1:0.8219646799116996 \n",
      " precision:0.7689607104135474 \n",
      " recall:0.8828166676545551 \n",
      ", 'Test':  best_epoch_indx:92\n",
      " auc:0.9434633181628056 \n",
      " apur:0.91152808464205 \n",
      " f1:0.8219646799116996 \n",
      " precision:0.7689607104135474 \n",
      " recall:0.8828166676545551 \n",
      "}\n",
      "=====Epoch 93\n",
      "Training...\n"
     ]
    },
    {
     "name": "stderr",
     "output_type": "stream",
     "text": [
      "Iteration: 100%|██████████| 154/154 [00:01<00:00, 112.51it/s]\n",
      "Iteration: 100%|██████████| 154/154 [00:03<00:00, 45.02it/s]\n",
      "Iteration:  36%|███▌      | 55/154 [00:01<00:02, 44.84it/s]"
     ]
    },
    {
     "name": "stdout",
     "output_type": "stream",
     "text": [
      "{'Train':  best_epoch_indx:92\n",
      " auc:0.9405046105135562 \n",
      " apur:0.9081378881203824 \n",
      " f1:0.8162626623109231 \n",
      " precision:0.7602270402945388 \n",
      " recall:0.8812162883053761 \n",
      ", 'Validation':  best_epoch_indx:92\n",
      " auc:0.9405046105135562 \n",
      " apur:0.9081378881203824 \n",
      " f1:0.8162626623109231 \n",
      " precision:0.7602270402945388 \n",
      " recall:0.8812162883053761 \n",
      ", 'Test':  best_epoch_indx:92\n",
      " auc:0.9405046105135562 \n",
      " apur:0.9081378881203824 \n",
      " f1:0.8162626623109231 \n",
      " precision:0.7602270402945388 \n",
      " recall:0.8812162883053761 \n",
      "}\n",
      "=====Epoch 93\n",
      "Training...\n",
      "Evaluating...\n",
      "{'Train':  best_epoch_indx:93\n",
      " auc:0.9349827806981861 \n",
      " apur:0.8987975622918811 \n",
      " f1:0.8064193120619199 \n",
      " precision:0.7419820717131475 \n",
      " recall:0.8831130342006994 \n",
      ", 'Validation':  best_epoch_indx:93\n",
      " auc:0.9349827806981861 \n",
      " apur:0.8987975622918811 \n",
      " f1:0.8064193120619199 \n",
      " precision:0.7419820717131475 \n",
      " recall:0.8831130342006994 \n",
      ", 'Test':  best_epoch_indx:93\n",
      " auc:0.9349827806981861 \n",
      " apur:0.8987975622918811 \n",
      " f1:0.8064193120619199 \n",
      " precision:0.7419820717131475 \n",
      " recall:0.8831130342006994 \n",
      "}\n",
      "=====Epoch 94\n",
      "Training...\n"
     ]
    },
    {
     "name": "stderr",
     "output_type": "stream",
     "text": [
      "Iteration: 100%|██████████| 154/154 [00:01<00:00, 127.02it/s]\n",
      "Iteration: 100%|██████████| 154/154 [00:03<00:00, 39.42it/s]]\n",
      "Iteration:   5%|▍         | 7/154 [00:00<00:02, 59.22it/s]/s]"
     ]
    },
    {
     "name": "stdout",
     "output_type": "stream",
     "text": [
      "Evaluating...\n"
     ]
    },
    {
     "name": "stderr",
     "output_type": "stream",
     "text": [
      "Iteration: 100%|██████████| 154/154 [00:01<00:00, 118.70it/s]\n",
      "Iteration: 100%|██████████| 154/154 [00:04<00:00, 35.31it/s]\n",
      "Iteration: 100%|██████████| 154/154 [00:03<00:00, 44.33it/s]\n",
      "Iteration:  43%|████▎     | 66/154 [00:00<00:01, 67.38it/s]]"
     ]
    },
    {
     "name": "stdout",
     "output_type": "stream",
     "text": [
      "Evaluating...\n",
      "Evaluating...\n",
      "Evaluating...\n"
     ]
    },
    {
     "name": "stderr",
     "output_type": "stream",
     "text": [
      "Iteration: 100%|██████████| 154/154 [00:03<00:00, 43.85it/s]\n",
      "Iteration: 100%|██████████| 154/154 [00:01<00:00, 125.08it/s]\n",
      "Iteration: 100%|██████████| 154/154 [00:01<00:00, 125.34it/s]\n",
      "Iteration: 100%|██████████| 154/154 [00:02<00:00, 67.91it/s]]\n",
      "Iteration: 100%|██████████| 154/154 [00:01<00:00, 117.32it/s]\n",
      "Iteration: 100%|██████████| 154/154 [00:01<00:00, 85.76it/s] \n",
      "Iteration:   8%|▊         | 13/154 [00:00<00:02, 57.74it/s]]]"
     ]
    },
    {
     "name": "stdout",
     "output_type": "stream",
     "text": [
      "{'Train':  best_epoch_indx:93\n",
      " auc:0.9341804040415611 \n",
      " apur:0.8982787246419917 \n",
      " f1:0.8069845830800685 \n",
      " precision:0.755822378635752 \n",
      " recall:0.8655761024182077 \n",
      ", 'Validation':  best_epoch_indx:93\n",
      " auc:0.9341804040415611 \n",
      " apur:0.8982787246419917 \n",
      " f1:0.8069845830800685 \n",
      " precision:0.755822378635752 \n",
      " recall:0.8655761024182077 \n",
      ", 'Test':  best_epoch_indx:93\n",
      " auc:0.9341804040415611 \n",
      " apur:0.8982787246419917 \n",
      " f1:0.8069845830800685 \n",
      " precision:0.755822378635752 \n",
      " recall:0.8655761024182077 \n",
      "}\n",
      "=====Epoch 94\n",
      "Training...\n"
     ]
    },
    {
     "name": "stderr",
     "output_type": "stream",
     "text": [
      "Iteration: 100%|██████████| 154/154 [00:01<00:00, 117.67it/s]\n",
      "Iteration: 100%|██████████| 154/154 [00:01<00:00, 118.33it/s]\n",
      "Iteration: 100%|██████████| 154/154 [00:02<00:00, 74.84it/s] \n",
      "Iteration: 100%|██████████| 154/154 [00:01<00:00, 105.23it/s]\n",
      "Iteration: 100%|██████████| 154/154 [00:01<00:00, 124.18it/s]\n",
      "Iteration: 100%|██████████| 154/154 [00:01<00:00, 111.48it/s]\n",
      "Iteration:  74%|███████▍  | 114/154 [00:02<00:00, 42.52it/s]]"
     ]
    },
    {
     "name": "stdout",
     "output_type": "stream",
     "text": [
      "{'Train':  best_epoch_indx:93\n",
      " auc:0.9370796410027866 \n",
      " apur:0.900813485893373 \n",
      " f1:0.8089591567852438 \n",
      " precision:0.7403051181102362 \n",
      " recall:0.8916483907296544 \n",
      ", 'Validation':  best_epoch_indx:93\n",
      " auc:0.9370796410027866 \n",
      " apur:0.900813485893373 \n",
      " f1:0.8089591567852438 \n",
      " precision:0.7403051181102362 \n",
      " recall:0.8916483907296544 \n",
      ", 'Test':  best_epoch_indx:93\n",
      " auc:0.9370796410027866 \n",
      " apur:0.900813485893373 \n",
      " f1:0.8089591567852438 \n",
      " precision:0.7403051181102362 \n",
      " recall:0.8916483907296544 \n",
      "}\n",
      "=====Epoch 94\n",
      "Training...\n"
     ]
    },
    {
     "name": "stderr",
     "output_type": "stream",
     "text": [
      "Iteration: 100%|██████████| 154/154 [00:01<00:00, 123.47it/s]\n",
      "Iteration:  14%|█▍        | 22/154 [00:00<00:02, 46.41it/s]]"
     ]
    },
    {
     "name": "stdout",
     "output_type": "stream",
     "text": [
      "{'Train':  best_epoch_indx:94\n",
      " auc:0.9277735939334694 \n",
      " apur:0.8886535310432953 \n",
      " f1:0.7985429469176654 \n",
      " precision:0.7520951183741882 \n",
      " recall:0.8511054472171181 \n",
      ", 'Validation':  best_epoch_indx:94\n",
      " auc:0.9277735939334694 \n",
      " apur:0.8886535310432953 \n",
      " f1:0.7985429469176654 \n",
      " precision:0.7520951183741882 \n",
      " recall:0.8511054472171181 \n",
      ", 'Test':  best_epoch_indx:94\n",
      " auc:0.9277735939334694 \n",
      " apur:0.8886535310432953 \n",
      " f1:0.7985429469176654 \n",
      " precision:0.7520951183741882 \n",
      " recall:0.8511054472171181 \n",
      "}\n",
      "=====Epoch 95\n",
      "Training...\n"
     ]
    },
    {
     "name": "stderr",
     "output_type": "stream",
     "text": [
      "\r",
      "Iteration:  87%|████████▋ | 134/154 [00:03<00:00, 41.91it/s]\r",
      "Iteration:   3%|▎         | 5/154 [00:00<00:03, 40.26it/s]\r",
      "Iteration:  70%|███████   | 108/154 [00:01<00:00, 85.24it/s]\r",
      "Iteration:  18%|█▊        | 27/154 [00:00<00:02, 46.21it/s]\r",
      "Iteration:  79%|███████▊  | 121/154 [00:01<00:00, 97.92it/s]\r",
      "Iteration:  90%|█████████ | 139/154 [00:03<00:00, 39.84it/s]\r",
      "Iteration:  21%|██        | 32/154 [00:00<00:02, 46.03it/s]\r",
      "Iteration:   6%|▋         | 10/154 [00:00<00:03, 37.45it/s]\r",
      "Iteration:   0%|          | 0/154 [00:00<?, ?it/s]"
     ]
    },
    {
     "name": "stdout",
     "output_type": "stream",
     "text": [
      "{'Train':  best_epoch_indx:93\n",
      " auc:0.9380162549461659 \n",
      " apur:0.9025758948249194 \n",
      " f1:0.8089168548994299 \n",
      " precision:0.7403159915341831 \n",
      " recall:0.8915298441111967 \n",
      ", 'Validation':  best_epoch_indx:93\n",
      " auc:0.9380162549461659 \n",
      " apur:0.9025758948249194 \n",
      " f1:0.8089168548994299 \n",
      " precision:0.7403159915341831 \n",
      " recall:0.8915298441111967 \n",
      ", 'Test':  best_epoch_indx:93\n",
      " auc:0.9380162549461659 \n",
      " apur:0.9025758948249194 \n",
      " f1:0.8089168548994299 \n",
      " precision:0.7403159915341831 \n",
      " recall:0.8915298441111967 \n",
      "}\n",
      "=====Epoch 94\n",
      "Training...\n"
     ]
    },
    {
     "name": "stderr",
     "output_type": "stream",
     "text": [
      "Iteration: 100%|██████████| 154/154 [00:01<00:00, 77.07it/s] \n",
      "Iteration: 100%|██████████| 154/154 [00:03<00:00, 38.95it/s]\n",
      "Iteration:   4%|▍         | 6/154 [00:00<00:02, 58.98it/s]]"
     ]
    },
    {
     "name": "stdout",
     "output_type": "stream",
     "text": [
      "Evaluating...\n"
     ]
    },
    {
     "name": "stderr",
     "output_type": "stream",
     "text": [
      "Iteration:  31%|███       | 48/154 [00:01<00:02, 39.76it/s]"
     ]
    },
    {
     "name": "stdout",
     "output_type": "stream",
     "text": [
      "{'Train':  best_epoch_indx:96\n",
      " auc:0.9426188654264518 \n",
      " apur:0.9101578564303877 \n",
      " f1:0.82195553806807 \n",
      " precision:0.7816024373296274 \n",
      " recall:0.8667022285443338 \n",
      ", 'Validation':  best_epoch_indx:96\n",
      " auc:0.9426188654264518 \n",
      " apur:0.9101578564303877 \n",
      " f1:0.82195553806807 \n",
      " precision:0.7816024373296274 \n",
      " recall:0.8667022285443338 \n",
      ", 'Test':  best_epoch_indx:96\n",
      " auc:0.9426188654264518 \n",
      " apur:0.9101578564303877 \n",
      " f1:0.82195553806807 \n",
      " precision:0.7816024373296274 \n",
      " recall:0.8667022285443338 \n",
      "}\n",
      "=====Epoch 97\n",
      "Training...\n"
     ]
    },
    {
     "name": "stderr",
     "output_type": "stream",
     "text": [
      "Iteration: 100%|██████████| 154/154 [00:01<00:00, 97.76it/s] \n",
      "Iteration: 100%|██████████| 154/154 [00:03<00:00, 45.62it/s]\n",
      "Iteration:  73%|███████▎  | 112/154 [00:02<00:01, 40.87it/s]"
     ]
    },
    {
     "name": "stdout",
     "output_type": "stream",
     "text": [
      "Evaluating...\n"
     ]
    },
    {
     "name": "stderr",
     "output_type": "stream",
     "text": [
      "Iteration: 100%|██████████| 154/154 [00:03<00:00, 45.51it/s]\n",
      "Iteration:   0%|          | 0/154 [00:00<?, ?it/s]"
     ]
    },
    {
     "name": "stdout",
     "output_type": "stream",
     "text": [
      "Evaluating...\n"
     ]
    },
    {
     "name": "stderr",
     "output_type": "stream",
     "text": [
      "\r",
      "Iteration:  65%|██████▍   | 100/154 [00:02<00:01, 38.90it/s]\r",
      "Iteration:  47%|████▋     | 72/154 [00:01<00:01, 72.09it/s]\r",
      "Iteration:  58%|█████▊    | 90/154 [00:00<00:00, 112.06it/s]\r",
      "Iteration:  95%|█████████▌| 147/154 [00:03<00:00, 45.14it/s]\r",
      "Iteration:   7%|▋         | 11/154 [00:00<00:01, 109.21it/s]\r",
      "Iteration:  68%|██████▊   | 104/154 [00:02<00:01, 37.71it/s]\r",
      "Iteration:  52%|█████▏    | 80/154 [00:01<00:01, 71.77it/s]\r",
      "Iteration:  67%|██████▋   | 103/154 [00:00<00:00, 116.18it/s]\r",
      "Iteration:  16%|█▌        | 24/154 [00:00<00:01, 119.79it/s]\r",
      "Iteration:  99%|█████████▊| 152/154 [00:03<00:00, 45.25it/s]\r",
      "Iteration: 100%|██████████| 154/154 [00:03<00:00, 39.40it/s]\n",
      "\r",
      "Iteration:   0%|          | 0/154 [00:00<?, ?it/s]"
     ]
    },
    {
     "name": "stdout",
     "output_type": "stream",
     "text": [
      "Evaluating...\n"
     ]
    },
    {
     "name": "stderr",
     "output_type": "stream",
     "text": [
      "Iteration: 100%|██████████| 154/154 [00:01<00:00, 117.28it/s]\n",
      "Iteration: 100%|██████████| 154/154 [00:02<00:00, 69.57it/s]]\n",
      "Iteration: 100%|██████████| 154/154 [00:01<00:00, 117.87it/s]\n",
      "Iteration: 100%|██████████| 154/154 [00:04<00:00, 38.04it/s]]\n",
      "Iteration: 100%|██████████| 154/154 [00:01<00:00, 118.74it/s]\n"
     ]
    },
    {
     "name": "stdout",
     "output_type": "stream",
     "text": [
      "Evaluating...\n"
     ]
    },
    {
     "name": "stderr",
     "output_type": "stream",
     "text": [
      "Iteration: 100%|██████████| 154/154 [00:01<00:00, 95.74it/s] \n",
      "Iteration: 100%|██████████| 154/154 [00:01<00:00, 113.11it/s]\n",
      "Iteration: 100%|██████████| 154/154 [00:01<00:00, 126.08it/s]\n",
      "Iteration: 100%|██████████| 154/154 [00:01<00:00, 93.18it/s] \n",
      "Iteration: 100%|██████████| 154/154 [00:02<00:00, 66.25it/s]\n",
      "Iteration:  11%|█         | 17/154 [00:00<00:01, 84.82it/s]]]"
     ]
    },
    {
     "name": "stdout",
     "output_type": "stream",
     "text": [
      "{'Train':  best_epoch_indx:94\n",
      " auc:0.9241787594199904 \n",
      " apur:0.8850549409551295 \n",
      " f1:0.7911569477206649 \n",
      " precision:0.7363422853058307 \n",
      " recall:0.8547889995258416 \n",
      ", 'Validation':  best_epoch_indx:94\n",
      " auc:0.9241787594199904 \n",
      " apur:0.8850549409551295 \n",
      " f1:0.7911569477206649 \n",
      " precision:0.7363422853058307 \n",
      " recall:0.8547889995258416 \n",
      ", 'Test':  best_epoch_indx:94\n",
      " auc:0.9241787594199904 \n",
      " apur:0.8850549409551295 \n",
      " f1:0.7911569477206649 \n",
      " precision:0.7363422853058307 \n",
      " recall:0.8547889995258416 \n",
      "}\n",
      "=====Epoch 95\n",
      "Training...\n"
     ]
    },
    {
     "name": "stderr",
     "output_type": "stream",
     "text": [
      "Iteration: 100%|██████████| 154/154 [00:01<00:00, 127.11it/s]\n",
      "Iteration: 100%|██████████| 154/154 [00:01<00:00, 101.03it/s]\n",
      "Iteration:  69%|██████▉   | 107/154 [00:00<00:00, 116.43it/s]"
     ]
    },
    {
     "name": "stdout",
     "output_type": "stream",
     "text": [
      "{'Train':  best_epoch_indx:94\n",
      " auc:0.9277327786915008 \n",
      " apur:0.8896004774755194 \n",
      " f1:0.7915578764142732 \n",
      " precision:0.7313665376689953 \n",
      " recall:0.862545195898287 \n",
      ", 'Validation':  best_epoch_indx:94\n",
      " auc:0.9277327786915008 \n",
      " apur:0.8896004774755194 \n",
      " f1:0.7915578764142732 \n",
      " precision:0.7313665376689953 \n",
      " recall:0.862545195898287 \n",
      ", 'Test':  best_epoch_indx:94\n",
      " auc:0.9277327786915008 \n",
      " apur:0.8896004774755194 \n",
      " f1:0.7915578764142732 \n",
      " precision:0.7313665376689953 \n",
      " recall:0.862545195898287 \n",
      "}\n",
      "=====Epoch 95\n",
      "Training...\n"
     ]
    },
    {
     "name": "stderr",
     "output_type": "stream",
     "text": [
      "Iteration: 100%|██████████| 154/154 [00:01<00:00, 113.11it/s]\n",
      "Iteration:  24%|██▍       | 37/154 [00:00<00:02, 39.22it/s]]"
     ]
    },
    {
     "name": "stdout",
     "output_type": "stream",
     "text": [
      "{'Train':  best_epoch_indx:95\n",
      " auc:0.9340474003935739 \n",
      " apur:0.8960535376739106 \n",
      " f1:0.809238809744584 \n",
      " precision:0.7693129607864088 \n",
      " recall:0.8535356528955012 \n",
      ", 'Validation':  best_epoch_indx:95\n",
      " auc:0.9340474003935739 \n",
      " apur:0.8960535376739106 \n",
      " f1:0.809238809744584 \n",
      " precision:0.7693129607864088 \n",
      " recall:0.8535356528955012 \n",
      ", 'Test':  best_epoch_indx:95\n",
      " auc:0.9340474003935739 \n",
      " apur:0.8960535376739106 \n",
      " f1:0.809238809744584 \n",
      " precision:0.7693129607864088 \n",
      " recall:0.8535356528955012 \n",
      "}\n",
      "=====Epoch 96\n",
      "Training...\n"
     ]
    },
    {
     "name": "stderr",
     "output_type": "stream",
     "text": [
      "Iteration: 100%|██████████| 154/154 [00:01<00:00, 124.89it/s]\n",
      "Iteration: 100%|██████████| 154/154 [00:01<00:00, 105.14it/s]\n",
      "Iteration:   3%|▎         | 5/154 [00:00<00:03, 39.14it/s]]"
     ]
    },
    {
     "name": "stdout",
     "output_type": "stream",
     "text": [
      "{'Train':  best_epoch_indx:94\n",
      " auc:0.9321065185434038 \n",
      " apur:0.8946141355866964 \n",
      " f1:0.806125574272588 \n",
      " precision:0.7601344255408528 \n",
      " recall:0.8580404243968941 \n",
      ", 'Validation':  best_epoch_indx:94\n",
      " auc:0.9321065185434038 \n",
      " apur:0.8946141355866964 \n",
      " f1:0.806125574272588 \n",
      " precision:0.7601344255408528 \n",
      " recall:0.8580404243968941 \n",
      ", 'Test':  best_epoch_indx:94\n",
      " auc:0.9321065185434038 \n",
      " apur:0.8946141355866964 \n",
      " f1:0.806125574272588 \n",
      " precision:0.7601344255408528 \n",
      " recall:0.8580404243968941 \n",
      "}\n",
      "=====Epoch 95\n",
      "Training...\n"
     ]
    },
    {
     "name": "stderr",
     "output_type": "stream",
     "text": [
      "Iteration:   0%|          | 0/154 [00:00<?, ?it/s]6.98it/s]]"
     ]
    },
    {
     "name": "stdout",
     "output_type": "stream",
     "text": [
      "{'Train':  best_epoch_indx:97\n",
      " auc:0.9474348235282469 \n",
      " apur:0.9169529398342733 \n",
      " f1:0.830190793713053 \n",
      " precision:0.7872057807767919 \n",
      " recall:0.8781412991939308 \n",
      ", 'Validation':  best_epoch_indx:97\n",
      " auc:0.9474348235282469 \n",
      " apur:0.9169529398342733 \n",
      " f1:0.830190793713053 \n",
      " precision:0.7872057807767919 \n",
      " recall:0.8781412991939308 \n",
      ", 'Test':  best_epoch_indx:97\n",
      " auc:0.9474348235282469 \n",
      " apur:0.9169529398342733 \n",
      " f1:0.830190793713053 \n",
      " precision:0.7872057807767919 \n",
      " recall:0.8781412991939308 \n",
      "}\n",
      "=====Epoch 98\n",
      "Training...\n"
     ]
    },
    {
     "name": "stderr",
     "output_type": "stream",
     "text": [
      "Iteration: 100%|██████████| 154/154 [00:03<00:00, 39.26it/s]\n",
      "Iteration:  33%|███▎      | 51/154 [00:01<00:02, 44.57it/s]]"
     ]
    },
    {
     "name": "stdout",
     "output_type": "stream",
     "text": [
      "Evaluating...\n"
     ]
    },
    {
     "name": "stderr",
     "output_type": "stream",
     "text": [
      "Iteration: 100%|██████████| 154/154 [00:03<00:00, 41.34it/s]\n",
      "Iteration:  89%|████████▉ | 137/154 [00:03<00:00, 41.15it/s]"
     ]
    },
    {
     "name": "stdout",
     "output_type": "stream",
     "text": [
      "Evaluating...\n"
     ]
    },
    {
     "name": "stderr",
     "output_type": "stream",
     "text": [
      "Iteration: 100%|██████████| 154/154 [00:03<00:00, 43.78it/s]]\n",
      "Iteration:  46%|████▌     | 71/154 [00:01<00:02, 37.25it/s]]]"
     ]
    },
    {
     "name": "stdout",
     "output_type": "stream",
     "text": [
      "Evaluating...\n"
     ]
    },
    {
     "name": "stderr",
     "output_type": "stream",
     "text": [
      "Iteration: 100%|██████████| 154/154 [00:01<00:00, 94.95it/s] \n",
      "Iteration: 100%|██████████| 154/154 [00:01<00:00, 119.94it/s]\n",
      "Iteration: 100%|██████████| 154/154 [00:03<00:00, 44.04it/s]]\n",
      "Iteration:  86%|████████▋ | 133/154 [00:01<00:00, 125.62it/s]"
     ]
    },
    {
     "name": "stdout",
     "output_type": "stream",
     "text": [
      "Evaluating...\n"
     ]
    },
    {
     "name": "stderr",
     "output_type": "stream",
     "text": [
      "Iteration: 100%|██████████| 154/154 [00:01<00:00, 109.22it/s]\n",
      "Iteration: 100%|██████████| 154/154 [00:01<00:00, 113.10it/s]\n",
      "Iteration: 100%|██████████| 154/154 [00:04<00:00, 35.57it/s]]\n",
      "Iteration: 100%|██████████| 154/154 [00:01<00:00, 109.03it/s]\n"
     ]
    },
    {
     "name": "stdout",
     "output_type": "stream",
     "text": [
      "Evaluating...\n"
     ]
    },
    {
     "name": "stderr",
     "output_type": "stream",
     "text": [
      "Iteration: 100%|██████████| 154/154 [00:01<00:00, 115.37it/s]\n",
      "Iteration: 100%|██████████| 154/154 [00:01<00:00, 86.47it/s] \n",
      "Iteration: 100%|██████████| 154/154 [00:01<00:00, 106.12it/s]\n",
      "Iteration: 100%|██████████| 154/154 [00:01<00:00, 124.20it/s]\n",
      "Iteration: 100%|██████████| 154/154 [00:01<00:00, 85.23it/s] \n",
      "Iteration:  91%|█████████ | 140/154 [00:01<00:00, 123.74it/s]"
     ]
    },
    {
     "name": "stdout",
     "output_type": "stream",
     "text": [
      "{'Train':  best_epoch_indx:95\n",
      " auc:0.9338252382304597 \n",
      " apur:0.8968471063906389 \n",
      " f1:0.8032932919422324 \n",
      " precision:0.7375334589075047 \n",
      " recall:0.8819275680161224 \n",
      ", 'Validation':  best_epoch_indx:95\n",
      " auc:0.9338252382304597 \n",
      " apur:0.8968471063906389 \n",
      " f1:0.8032932919422324 \n",
      " precision:0.7375334589075047 \n",
      " recall:0.8819275680161224 \n",
      ", 'Test':  best_epoch_indx:95\n",
      " auc:0.9338252382304597 \n",
      " apur:0.8968471063906389 \n",
      " f1:0.8032932919422324 \n",
      " precision:0.7375334589075047 \n",
      " recall:0.8819275680161224 \n",
      "}\n",
      "=====Epoch 96\n",
      "Training...\n"
     ]
    },
    {
     "name": "stderr",
     "output_type": "stream",
     "text": [
      "Iteration: 100%|██████████| 154/154 [00:01<00:00, 114.55it/s]\n",
      "Iteration: 100%|██████████| 154/154 [00:02<00:00, 64.26it/s]\n",
      "Iteration: 100%|██████████| 154/154 [00:01<00:00, 112.81it/s]\n",
      "Iteration:  60%|█████▉    | 92/154 [00:00<00:00, 101.16it/s]"
     ]
    },
    {
     "name": "stdout",
     "output_type": "stream",
     "text": [
      "{'Train':  best_epoch_indx:96\n",
      " auc:0.9395072843527793 \n",
      " apur:0.905277730179177 \n",
      " f1:0.8175739154462559 \n",
      " precision:0.7657746260158393 \n",
      " recall:0.8768893367316697 \n",
      ", 'Validation':  best_epoch_indx:96\n",
      " auc:0.9395072843527793 \n",
      " apur:0.905277730179177 \n",
      " f1:0.8175739154462559 \n",
      " precision:0.7657746260158393 \n",
      " recall:0.8768893367316697 \n",
      ", 'Test':  best_epoch_indx:96\n",
      " auc:0.9395072843527793 \n",
      " apur:0.905277730179177 \n",
      " f1:0.8175739154462559 \n",
      " precision:0.7657746260158393 \n",
      " recall:0.8768893367316697 \n",
      "}\n",
      "=====Epoch 97\n",
      "Training...\n"
     ]
    },
    {
     "name": "stderr",
     "output_type": "stream",
     "text": [
      "Iteration: 100%|██████████| 154/154 [00:01<00:00, 104.24it/s]\n",
      "Iteration:   0%|          | 0/154 [00:00<?, ?it/s]4.44it/s]"
     ]
    },
    {
     "name": "stdout",
     "output_type": "stream",
     "text": [
      "{'Train':  best_epoch_indx:95\n",
      " auc:0.9337034811779448 \n",
      " apur:0.8972405418643097 \n",
      " f1:0.809889893272507 \n",
      " precision:0.7715006169858898 \n",
      " recall:0.8522996680891418 \n",
      ", 'Validation':  best_epoch_indx:95\n",
      " auc:0.9337034811779448 \n",
      " apur:0.8972405418643097 \n",
      " f1:0.809889893272507 \n",
      " precision:0.7715006169858898 \n",
      " recall:0.8522996680891418 \n",
      ", 'Test':  best_epoch_indx:95\n",
      " auc:0.9337034811779448 \n",
      " apur:0.8972405418643097 \n",
      " f1:0.809889893272507 \n",
      " precision:0.7715006169858898 \n",
      " recall:0.8522996680891418 \n",
      "}\n",
      "=====Epoch 96\n",
      "Training...\n"
     ]
    },
    {
     "name": "stderr",
     "output_type": "stream",
     "text": [
      "Iteration:  45%|████▌     | 70/154 [00:01<00:01, 45.37it/s]"
     ]
    },
    {
     "name": "stdout",
     "output_type": "stream",
     "text": [
      "{'Train':  best_epoch_indx:95\n",
      " auc:0.9344171492339632 \n",
      " apur:0.8990394725619331 \n",
      " f1:0.8069061542745753 \n",
      " precision:0.760964336362204 \n",
      " recall:0.8587517041076403 \n",
      ", 'Validation':  best_epoch_indx:95\n",
      " auc:0.9344171492339632 \n",
      " apur:0.8990394725619331 \n",
      " f1:0.8069061542745753 \n",
      " precision:0.760964336362204 \n",
      " recall:0.8587517041076403 \n",
      ", 'Test':  best_epoch_indx:95\n",
      " auc:0.9344171492339632 \n",
      " apur:0.8990394725619331 \n",
      " f1:0.8069061542745753 \n",
      " precision:0.760964336362204 \n",
      " recall:0.8587517041076403 \n",
      "}\n",
      "=====Epoch 96\n",
      "Training...\n"
     ]
    },
    {
     "name": "stderr",
     "output_type": "stream",
     "text": [
      "Iteration: 100%|██████████| 154/154 [00:02<00:00, 64.87it/s]\n",
      "Iteration: 100%|██████████| 154/154 [00:03<00:00, 44.41it/s]\n",
      "Iteration:   8%|▊         | 12/154 [00:00<00:01, 114.21it/s]"
     ]
    },
    {
     "name": "stdout",
     "output_type": "stream",
     "text": [
      "Evaluating...\n"
     ]
    },
    {
     "name": "stderr",
     "output_type": "stream",
     "text": [
      "Iteration: 100%|██████████| 154/154 [00:03<00:00, 45.56it/s]\n",
      "Iteration:  44%|████▍     | 68/154 [00:00<00:00, 129.14it/s]"
     ]
    },
    {
     "name": "stdout",
     "output_type": "stream",
     "text": [
      "Evaluating...\n"
     ]
    },
    {
     "name": "stderr",
     "output_type": "stream",
     "text": [
      "Iteration:   0%|          | 0/154 [00:00<?, ?it/s]129.32it/s]"
     ]
    },
    {
     "name": "stdout",
     "output_type": "stream",
     "text": [
      "{'Train':  best_epoch_indx:98\n",
      " auc:0.9534141697879772 \n",
      " apur:0.9258153264811364 \n",
      " f1:0.8379341050756901 \n",
      " precision:0.789760805707092 \n",
      " recall:0.8923660502607871 \n",
      ", 'Validation':  best_epoch_indx:98\n",
      " auc:0.9534141697879772 \n",
      " apur:0.9258153264811364 \n",
      " f1:0.8379341050756901 \n",
      " precision:0.789760805707092 \n",
      " recall:0.8923660502607871 \n",
      ", 'Test':  best_epoch_indx:98\n",
      " auc:0.9534141697879772 \n",
      " apur:0.9258153264811364 \n",
      " f1:0.8379341050756901 \n",
      " precision:0.789760805707092 \n",
      " recall:0.8923660502607871 \n",
      "}\n",
      "=====Epoch 99\n",
      "Training...\n"
     ]
    },
    {
     "name": "stderr",
     "output_type": "stream",
     "text": [
      "Iteration: 100%|██████████| 154/154 [00:01<00:00, 128.36it/s]\n",
      "Iteration: 100%|██████████| 154/154 [00:03<00:00, 44.10it/s]\n",
      "Iteration:  84%|████████▍ | 130/154 [00:03<00:00, 40.30it/s]]"
     ]
    },
    {
     "name": "stdout",
     "output_type": "stream",
     "text": [
      "Evaluating...\n"
     ]
    },
    {
     "name": "stderr",
     "output_type": "stream",
     "text": [
      "Iteration: 100%|██████████| 154/154 [00:01<00:00, 125.14it/s]\n",
      "Iteration: 100%|██████████| 154/154 [00:03<00:00, 39.32it/s]\n",
      "Iteration:   0%|          | 0/154 [00:00<?, ?it/s]"
     ]
    },
    {
     "name": "stdout",
     "output_type": "stream",
     "text": [
      "Evaluating...\n"
     ]
    },
    {
     "name": "stderr",
     "output_type": "stream",
     "text": [
      "Iteration: 100%|██████████| 154/154 [00:01<00:00, 124.46it/s]\n",
      "Iteration: 100%|██████████| 154/154 [00:01<00:00, 118.69it/s]\n",
      "Iteration: 100%|██████████| 154/154 [00:01<00:00, 117.86it/s]\n",
      "Iteration: 100%|██████████| 154/154 [00:01<00:00, 100.67it/s]\n",
      "Iteration: 100%|██████████| 154/154 [00:03<00:00, 40.69it/s]]\n",
      "Iteration:  27%|██▋       | 41/154 [00:00<00:01, 73.37it/s]]"
     ]
    },
    {
     "name": "stdout",
     "output_type": "stream",
     "text": [
      "Evaluating...\n"
     ]
    },
    {
     "name": "stderr",
     "output_type": "stream",
     "text": [
      "Iteration: 100%|██████████| 154/154 [00:01<00:00, 93.00it/s] \n",
      "Iteration: 100%|██████████| 154/154 [00:01<00:00, 110.55it/s]\n",
      "Iteration: 100%|██████████| 154/154 [00:01<00:00, 91.80it/s] \n",
      "Iteration: 100%|██████████| 154/154 [00:01<00:00, 117.63it/s]\n"
     ]
    },
    {
     "name": "stdout",
     "output_type": "stream",
     "text": [
      "{'Train':  best_epoch_indx:96\n",
      " auc:0.9413511941064084 \n",
      " apur:0.9072464702078042 \n",
      " f1:0.8200067099082978 \n",
      " precision:0.7760491083240726 \n",
      " recall:0.8692430798411476 \n",
      ", 'Validation':  best_epoch_indx:96\n",
      " auc:0.9413511941064084 \n",
      " apur:0.9072464702078042 \n",
      " f1:0.8200067099082978 \n",
      " precision:0.7760491083240726 \n",
      " recall:0.8692430798411476 \n",
      ", 'Test':  best_epoch_indx:96\n",
      " auc:0.9413511941064084 \n",
      " apur:0.9072464702078042 \n",
      " f1:0.8200067099082978 \n",
      " precision:0.7760491083240726 \n",
      " recall:0.8692430798411476 \n",
      "}\n",
      "=====Epoch 97\n",
      "Training...\n"
     ]
    },
    {
     "name": "stderr",
     "output_type": "stream",
     "text": [
      "Iteration: 100%|██████████| 154/154 [00:02<00:00, 66.04it/s]\n",
      "Iteration:   0%|          | 0/154 [00:00<?, ?it/s].65it/s]]"
     ]
    },
    {
     "name": "stdout",
     "output_type": "stream",
     "text": [
      "{'Train':  best_epoch_indx:97\n",
      " auc:0.9488924592372232 \n",
      " apur:0.9204276875592776 \n",
      " f1:0.8333662110751021 \n",
      " precision:0.7943483399591705 \n",
      " recall:0.8764151502578389 \n",
      ", 'Validation':  best_epoch_indx:97\n",
      " auc:0.9488924592372232 \n",
      " apur:0.9204276875592776 \n",
      " f1:0.8333662110751021 \n",
      " precision:0.7943483399591705 \n",
      " recall:0.8764151502578389 \n",
      ", 'Test':  best_epoch_indx:97\n",
      " auc:0.9488924592372232 \n",
      " apur:0.9204276875592776 \n",
      " f1:0.8333662110751021 \n",
      " precision:0.7943483399591705 \n",
      " recall:0.8764151502578389 \n",
      "}\n",
      "=====Epoch 98\n",
      "Training...\n"
     ]
    },
    {
     "name": "stderr",
     "output_type": "stream",
     "text": [
      "Iteration: 100%|██████████| 154/154 [00:01<00:00, 129.76it/s]\n",
      "Iteration: 100%|██████████| 154/154 [00:02<00:00, 65.96it/s]\n",
      "Iteration:  79%|███████▉  | 122/154 [00:02<00:00, 45.28it/s]"
     ]
    },
    {
     "name": "stdout",
     "output_type": "stream",
     "text": [
      "{'Train':  best_epoch_indx:96\n",
      " auc:0.9397450043012059 \n",
      " apur:0.9057942074833879 \n",
      " f1:0.8152052655064703 \n",
      " precision:0.769858828487147 \n",
      " recall:0.8662280701754386 \n",
      ", 'Validation':  best_epoch_indx:96\n",
      " auc:0.9397450043012059 \n",
      " apur:0.9057942074833879 \n",
      " f1:0.8152052655064703 \n",
      " precision:0.769858828487147 \n",
      " recall:0.8662280701754386 \n",
      ", 'Test':  best_epoch_indx:96\n",
      " auc:0.9397450043012059 \n",
      " apur:0.9057942074833879 \n",
      " f1:0.8152052655064703 \n",
      " precision:0.769858828487147 \n",
      " recall:0.8662280701754386 \n",
      "}\n",
      "=====Epoch 97\n",
      "Training...\n"
     ]
    },
    {
     "name": "stderr",
     "output_type": "stream",
     "text": [
      "\r",
      "Iteration:  68%|██████▊   | 104/154 [00:01<00:00, 71.13it/s]\r",
      "Iteration:  99%|█████████▊| 152/154 [00:03<00:00, 45.65it/s]\r",
      "Iteration:  68%|██████▊   | 105/154 [00:00<00:00, 128.10it/s]\r",
      "Iteration:  82%|████████▏ | 127/154 [00:02<00:00, 45.35it/s]\r",
      "Iteration: 100%|██████████| 154/154 [00:03<00:00, 45.83it/s]\n",
      "\r",
      "Iteration:   0%|          | 0/154 [00:00<?, ?it/s]\r",
      "Iteration:   6%|▋         | 10/154 [00:00<00:03, 40.80it/s]\r",
      "Iteration:  77%|███████▋  | 118/154 [00:00<00:00, 128.38it/s]\r",
      "Iteration:  73%|███████▎  | 112/154 [00:01<00:00, 69.54it/s]\r",
      "Iteration:  86%|████████▌ | 132/154 [00:02<00:00, 45.40it/s]\r",
      "Iteration:   8%|▊         | 12/154 [00:00<00:01, 112.53it/s]\r",
      "Iteration:  10%|▉         | 15/154 [00:00<00:03, 39.45it/s]"
     ]
    },
    {
     "name": "stdout",
     "output_type": "stream",
     "text": [
      "Evaluating...\n"
     ]
    },
    {
     "name": "stderr",
     "output_type": "stream",
     "text": [
      "Iteration: 100%|██████████| 154/154 [00:01<00:00, 119.11it/s]\n",
      "Iteration: 100%|██████████| 154/154 [00:03<00:00, 44.62it/s]\n",
      "Iteration:  21%|██▏       | 33/154 [00:00<00:02, 40.41it/s]"
     ]
    },
    {
     "name": "stdout",
     "output_type": "stream",
     "text": [
      "Evaluating...\n"
     ]
    },
    {
     "name": "stderr",
     "output_type": "stream",
     "text": [
      "Iteration: 100%|██████████| 154/154 [00:02<00:00, 66.31it/s]]\n",
      "Iteration: 100%|██████████| 154/154 [00:01<00:00, 126.27it/s]\n",
      "Iteration:  44%|████▍     | 68/154 [00:01<00:01, 44.14it/s]s]"
     ]
    },
    {
     "name": "stdout",
     "output_type": "stream",
     "text": [
      "{'Train':  best_epoch_indx:99\n",
      " auc:0.9592770058413308 \n",
      " apur:0.9351755533709015 \n",
      " f1:0.8499803492223906 \n",
      " precision:0.8074133333333333 \n",
      " recall:0.8972854433380749 \n",
      ", 'Validation':  best_epoch_indx:99\n",
      " auc:0.9592770058413308 \n",
      " apur:0.9351755533709015 \n",
      " f1:0.8499803492223906 \n",
      " precision:0.8074133333333333 \n",
      " recall:0.8972854433380749 \n",
      ", 'Test':  best_epoch_indx:99\n",
      " auc:0.9592770058413308 \n",
      " apur:0.9351755533709015 \n",
      " f1:0.8499803492223906 \n",
      " precision:0.8074133333333333 \n",
      " recall:0.8972854433380749 \n",
      "}\n",
      "Finished training!\n"
     ]
    },
    {
     "name": "stderr",
     "output_type": "stream",
     "text": [
      "Iteration: 100%|██████████| 154/154 [00:01<00:00, 125.98it/s]\n",
      "Iteration:   4%|▍         | 6/154 [00:00<00:03, 45.80it/s]]"
     ]
    },
    {
     "name": "stdout",
     "output_type": "stream",
     "text": [
      "{'Train':  best_epoch_indx:96\n",
      " auc:0.9412204668218931 \n",
      " apur:0.907924434448891 \n",
      " f1:0.819357530246141 \n",
      " precision:0.7718507650387759 \n",
      " recall:0.8730958449410231 \n",
      ", 'Validation':  best_epoch_indx:96\n",
      " auc:0.9412204668218931 \n",
      " apur:0.907924434448891 \n",
      " f1:0.819357530246141 \n",
      " precision:0.7718507650387759 \n",
      " recall:0.8730958449410231 \n",
      ", 'Test':  best_epoch_indx:96\n",
      " auc:0.9412204668218931 \n",
      " apur:0.907924434448891 \n",
      " f1:0.819357530246141 \n",
      " precision:0.7718507650387759 \n",
      " recall:0.8730958449410231 \n",
      "}\n",
      "=====Epoch 97\n",
      "Training...\n"
     ]
    },
    {
     "name": "stderr",
     "output_type": "stream",
     "text": [
      "Iteration:  25%|██▌       | 39/154 [00:00<00:02, 41.27it/s]]]"
     ]
    },
    {
     "name": "stdout",
     "output_type": "stream",
     "text": [
      "<<< joined hyperparam search process\n",
      "released_gpu_num: 0\n"
     ]
    },
    {
     "name": "stderr",
     "output_type": "stream",
     "text": [
      "Iteration: 100%|██████████| 154/154 [00:01<00:00, 113.23it/s]\n",
      "Iteration: 100%|██████████| 154/154 [00:03<00:00, 43.46it/s]]\n",
      "Iteration:  77%|███████▋  | 118/154 [00:01<00:00, 126.06it/s]"
     ]
    },
    {
     "name": "stdout",
     "output_type": "stream",
     "text": [
      "Evaluating...\n"
     ]
    },
    {
     "name": "stderr",
     "output_type": "stream",
     "text": [
      "Iteration: 100%|██████████| 154/154 [00:01<00:00, 116.81it/s]\n",
      "Iteration: 100%|██████████| 154/154 [00:01<00:00, 124.96it/s]\n",
      "Iteration: 100%|██████████| 154/154 [00:01<00:00, 125.26it/s]\n",
      "Iteration: 100%|██████████| 154/154 [00:03<00:00, 43.90it/s]]\n",
      "Iteration:   0%|          | 0/154 [00:00<?, ?it/s]119.18it/s]"
     ]
    },
    {
     "name": "stdout",
     "output_type": "stream",
     "text": [
      "Evaluating...\n",
      "{'Train':  best_epoch_indx:97\n",
      " auc:0.9484258161611003 \n",
      " apur:0.9188542614718023 \n",
      " f1:0.8335265017667843 \n",
      " precision:0.7967466493731085 \n",
      " recall:0.8738663979609982 \n",
      ", 'Validation':  best_epoch_indx:97\n",
      " auc:0.9484258161611003 \n",
      " apur:0.9188542614718023 \n",
      " f1:0.8335265017667843 \n",
      " precision:0.7967466493731085 \n",
      " recall:0.8738663979609982 \n",
      ", 'Test':  best_epoch_indx:97\n",
      " auc:0.9484258161611003 \n",
      " apur:0.9188542614718023 \n",
      " f1:0.8335265017667843 \n",
      " precision:0.7967466493731085 \n",
      " recall:0.8738663979609982 \n",
      "}\n",
      "=====Epoch 98\n",
      "Training...\n"
     ]
    },
    {
     "name": "stderr",
     "output_type": "stream",
     "text": [
      "Iteration: 100%|██████████| 154/154 [00:01<00:00, 117.22it/s]\n",
      "Iteration:  24%|██▍       | 37/154 [00:00<00:02, 45.87it/s]s]"
     ]
    },
    {
     "name": "stdout",
     "output_type": "stream",
     "text": [
      "{'Train':  best_epoch_indx:98\n",
      " auc:0.9538306191605267 \n",
      " apur:0.9275831605342557 \n",
      " f1:0.8413866726598495 \n",
      " precision:0.7997329773030708 \n",
      " recall:0.8876178057020924 \n",
      ", 'Validation':  best_epoch_indx:98\n",
      " auc:0.9538306191605267 \n",
      " apur:0.9275831605342557 \n",
      " f1:0.8413866726598495 \n",
      " precision:0.7997329773030708 \n",
      " recall:0.8876178057020924 \n",
      ", 'Test':  best_epoch_indx:98\n",
      " auc:0.9538306191605267 \n",
      " apur:0.9275831605342557 \n",
      " f1:0.8413866726598495 \n",
      " precision:0.7997329773030708 \n",
      " recall:0.8876178057020924 \n",
      "}\n",
      "=====Epoch 99\n",
      "Training...\n"
     ]
    },
    {
     "name": "stderr",
     "output_type": "stream",
     "text": [
      "Iteration: 100%|██████████| 154/154 [00:01<00:00, 119.52it/s]\n",
      "Iteration: 100%|██████████| 154/154 [00:01<00:00, 116.59it/s]\n",
      "Iteration: 100%|██████████| 154/154 [00:01<00:00, 128.24it/s]\n",
      "Iteration: 100%|██████████| 154/154 [00:03<00:00, 44.97it/s]]\n",
      "Iteration:  82%|████████▏ | 127/154 [00:02<00:00, 45.54it/s]"
     ]
    },
    {
     "name": "stdout",
     "output_type": "stream",
     "text": [
      "{'Train':  best_epoch_indx:97\n",
      " auc:0.9456446857909679 \n",
      " apur:0.9149214588166349 \n",
      " f1:0.827570659678192 \n",
      " precision:0.788826215417674 \n",
      " recall:0.8703176861071598 \n",
      ", 'Validation':  best_epoch_indx:97\n",
      " auc:0.9456446857909679 \n",
      " apur:0.9149214588166349 \n",
      " f1:0.827570659678192 \n",
      " precision:0.788826215417674 \n",
      " recall:0.8703176861071598 \n",
      ", 'Test':  best_epoch_indx:97\n",
      " auc:0.9456446857909679 \n",
      " apur:0.9149214588166349 \n",
      " f1:0.827570659678192 \n",
      " precision:0.788826215417674 \n",
      " recall:0.8703176861071598 \n",
      "}\n",
      "=====Epoch 98\n",
      "Training...\n",
      "Evaluating...\n"
     ]
    },
    {
     "name": "stderr",
     "output_type": "stream",
     "text": [
      "Iteration: 100%|██████████| 154/154 [00:01<00:00, 85.33it/s] \n",
      "Iteration: 100%|██████████| 154/154 [00:03<00:00, 44.85it/s]\n",
      "Iteration:  21%|██        | 32/154 [00:00<00:02, 46.02it/s]"
     ]
    },
    {
     "name": "stdout",
     "output_type": "stream",
     "text": [
      "Evaluating...\n"
     ]
    },
    {
     "name": "stderr",
     "output_type": "stream",
     "text": [
      "Iteration: 100%|██████████| 154/154 [00:01<00:00, 126.06it/s]\n",
      "Iteration: 100%|██████████| 154/154 [00:01<00:00, 124.80it/s]\n",
      "Iteration: 100%|██████████| 154/154 [00:01<00:00, 127.11it/s]\n",
      "Iteration:  76%|███████▌  | 117/154 [00:02<00:00, 45.04it/s]]"
     ]
    },
    {
     "name": "stdout",
     "output_type": "stream",
     "text": [
      "{'Train':  best_epoch_indx:97\n",
      " auc:0.9474797335345926 \n",
      " apur:0.917273145195865 \n",
      " f1:0.8280064255248436 \n",
      " precision:0.7771250324928516 \n",
      " recall:0.8860174263529133 \n",
      ", 'Validation':  best_epoch_indx:97\n",
      " auc:0.9474797335345926 \n",
      " apur:0.917273145195865 \n",
      " f1:0.8280064255248436 \n",
      " precision:0.7771250324928516 \n",
      " recall:0.8860174263529133 \n",
      ", 'Test':  best_epoch_indx:97\n",
      " auc:0.9474797335345926 \n",
      " apur:0.917273145195865 \n",
      " f1:0.8280064255248436 \n",
      " precision:0.7771250324928516 \n",
      " recall:0.8860174263529133 \n",
      "}\n",
      "=====Epoch 98\n",
      "Training...\n"
     ]
    },
    {
     "name": "stderr",
     "output_type": "stream",
     "text": [
      "Iteration: 100%|██████████| 154/154 [00:01<00:00, 128.55it/s]\n",
      "Iteration: 100%|██████████| 154/154 [00:03<00:00, 45.01it/s]]\n",
      "Iteration:   0%|          | 0/154 [00:00<?, ?it/s]"
     ]
    },
    {
     "name": "stdout",
     "output_type": "stream",
     "text": [
      "Evaluating...\n"
     ]
    },
    {
     "name": "stderr",
     "output_type": "stream",
     "text": [
      "Iteration: 100%|██████████| 154/154 [00:01<00:00, 126.53it/s]\n",
      "Iteration: 100%|██████████| 154/154 [00:01<00:00, 125.45it/s]\n",
      "Iteration: 100%|██████████| 154/154 [00:01<00:00, 119.18it/s]\n",
      "Iteration:   0%|          | 0/154 [00:00<?, ?it/s]27.93it/s]]"
     ]
    },
    {
     "name": "stdout",
     "output_type": "stream",
     "text": [
      "{'Train':  best_epoch_indx:98\n",
      " auc:0.9548832477293528 \n",
      " apur:0.9286211050464579 \n",
      " f1:0.8394674588766022 \n",
      " precision:0.7831956064261151 \n",
      " recall:0.904451425523087 \n",
      ", 'Validation':  best_epoch_indx:98\n",
      " auc:0.9548832477293528 \n",
      " apur:0.9286211050464579 \n",
      " f1:0.8394674588766022 \n",
      " precision:0.7831956064261151 \n",
      " recall:0.904451425523087 \n",
      ", 'Test':  best_epoch_indx:98\n",
      " auc:0.9548832477293528 \n",
      " apur:0.9286211050464579 \n",
      " f1:0.8394674588766022 \n",
      " precision:0.7831956064261151 \n",
      " recall:0.904451425523087 \n",
      "}\n",
      "=====Epoch 99\n",
      "Training...\n"
     ]
    },
    {
     "name": "stderr",
     "output_type": "stream",
     "text": [
      "Iteration: 100%|██████████| 154/154 [00:01<00:00, 117.48it/s]\n",
      "Iteration: 100%|██████████| 154/154 [00:03<00:00, 44.68it/s]]\n",
      "Iteration:  21%|██        | 32/154 [00:00<00:02, 45.96it/s]"
     ]
    },
    {
     "name": "stdout",
     "output_type": "stream",
     "text": [
      "Evaluating...\n"
     ]
    },
    {
     "name": "stderr",
     "output_type": "stream",
     "text": [
      "Iteration: 100%|██████████| 154/154 [00:01<00:00, 128.59it/s]\n",
      "Iteration:  33%|███▎      | 51/154 [00:00<00:00, 126.22it/s]"
     ]
    },
    {
     "name": "stdout",
     "output_type": "stream",
     "text": [
      "{'Train':  best_epoch_indx:99\n",
      " auc:0.9585960150527308 \n",
      " apur:0.9346547634957388 \n",
      " f1:0.8473593218448496 \n",
      " precision:0.8000631878258122 \n",
      " recall:0.9005986604232115 \n",
      ", 'Validation':  best_epoch_indx:99\n",
      " auc:0.9585960150527308 \n",
      " apur:0.9346547634957388 \n",
      " f1:0.8473593218448496 \n",
      " precision:0.8000631878258122 \n",
      " recall:0.9005986604232115 \n",
      ", 'Test':  best_epoch_indx:99\n",
      " auc:0.9585960150527308 \n",
      " apur:0.9346547634957388 \n",
      " f1:0.8473593218448496 \n",
      " precision:0.8000631878258122 \n",
      " recall:0.9005986604232115 \n",
      "}\n",
      "Finished training!\n"
     ]
    },
    {
     "name": "stderr",
     "output_type": "stream",
     "text": [
      "Iteration: 100%|██████████| 154/154 [00:01<00:00, 125.22it/s]\n",
      "Iteration: 100%|██████████| 154/154 [00:01<00:00, 117.78it/s]\n",
      "Iteration: 100%|██████████| 154/154 [00:03<00:00, 45.85it/s]]\n",
      "Iteration:   0%|          | 0/154 [00:00<?, ?it/s]133.07it/s]"
     ]
    },
    {
     "name": "stdout",
     "output_type": "stream",
     "text": [
      "Evaluating...\n",
      "{'Train':  best_epoch_indx:98\n",
      " auc:0.9520385262734666 \n",
      " apur:0.9243922306331577 \n",
      " f1:0.8363393081147381 \n",
      " precision:0.7894847639597916 \n",
      " recall:0.8891062114746325 \n",
      ", 'Validation':  best_epoch_indx:98\n",
      " auc:0.9520385262734666 \n",
      " apur:0.9243922306331577 \n",
      " f1:0.8363393081147381 \n",
      " precision:0.7894847639597916 \n",
      " recall:0.8891062114746325 \n",
      ", 'Test':  best_epoch_indx:98\n",
      " auc:0.9520385262734666 \n",
      " apur:0.9243922306331577 \n",
      " f1:0.8363393081147381 \n",
      " precision:0.7894847639597916 \n",
      " recall:0.8891062114746325 \n",
      "}\n",
      "=====Epoch 99\n",
      "Training...\n"
     ]
    },
    {
     "name": "stderr",
     "output_type": "stream",
     "text": [
      "Iteration: 100%|██████████| 154/154 [00:01<00:00, 132.05it/s]\n",
      "Iteration: 100%|██████████| 154/154 [00:01<00:00, 123.15it/s]\n",
      "Iteration: 100%|██████████| 154/154 [00:01<00:00, 124.05it/s]\n",
      "Iteration:  81%|████████  | 125/154 [00:00<00:00, 134.42it/s]"
     ]
    },
    {
     "name": "stdout",
     "output_type": "stream",
     "text": [
      "{'Train':  best_epoch_indx:98\n",
      " auc:0.9539782129160568 \n",
      " apur:0.9277048896649697 \n",
      " f1:0.8421580090195422 \n",
      " precision:0.7939740696026455 \n",
      " recall:0.8965680753956493 \n",
      ", 'Validation':  best_epoch_indx:98\n",
      " auc:0.9539782129160568 \n",
      " apur:0.9277048896649697 \n",
      " f1:0.8421580090195422 \n",
      " precision:0.7939740696026455 \n",
      " recall:0.8965680753956493 \n",
      ", 'Test':  best_epoch_indx:98\n",
      " auc:0.9539782129160568 \n",
      " apur:0.9277048896649697 \n",
      " f1:0.8421580090195422 \n",
      " precision:0.7939740696026455 \n",
      " recall:0.8965680753956493 \n",
      "}\n",
      "=====Epoch 99\n",
      "Training...\n"
     ]
    },
    {
     "name": "stderr",
     "output_type": "stream",
     "text": [
      "Iteration: 100%|██████████| 154/154 [00:01<00:00, 133.91it/s]\n",
      "Iteration: 100%|██████████| 154/154 [00:03<00:00, 45.89it/s]\n",
      "Iteration:   4%|▍         | 6/154 [00:00<00:03, 39.88it/s]]"
     ]
    },
    {
     "name": "stdout",
     "output_type": "stream",
     "text": [
      "Evaluating...\n"
     ]
    },
    {
     "name": "stderr",
     "output_type": "stream",
     "text": [
      "Iteration: 100%|██████████| 154/154 [00:01<00:00, 120.85it/s]\n",
      "Iteration: 100%|██████████| 154/154 [00:01<00:00, 122.33it/s]\n",
      "Iteration:  36%|███▌      | 55/154 [00:00<00:00, 129.45it/s]"
     ]
    },
    {
     "name": "stdout",
     "output_type": "stream",
     "text": [
      "{'Train':  best_epoch_indx:99\n",
      " auc:0.9583821314146883 \n",
      " apur:0.9338552036063248 \n",
      " f1:0.8475006904170119 \n",
      " precision:0.7934226175086613 \n",
      " recall:0.9094896568075396 \n",
      ", 'Validation':  best_epoch_indx:99\n",
      " auc:0.9583821314146883 \n",
      " apur:0.9338552036063248 \n",
      " f1:0.8475006904170119 \n",
      " precision:0.7934226175086613 \n",
      " recall:0.9094896568075396 \n",
      ", 'Test':  best_epoch_indx:99\n",
      " auc:0.9583821314146883 \n",
      " apur:0.9338552036063248 \n",
      " f1:0.8475006904170119 \n",
      " precision:0.7934226175086613 \n",
      " recall:0.9094896568075396 \n",
      "}\n",
      "Finished training!\n"
     ]
    },
    {
     "name": "stderr",
     "output_type": "stream",
     "text": [
      "Iteration: 100%|██████████| 154/154 [00:03<00:00, 45.47it/s]]\n",
      "Iteration:   0%|          | 0/154 [00:00<?, ?it/s]"
     ]
    },
    {
     "name": "stdout",
     "output_type": "stream",
     "text": [
      "Evaluating...\n"
     ]
    },
    {
     "name": "stderr",
     "output_type": "stream",
     "text": [
      "Iteration: 100%|██████████| 154/154 [00:01<00:00, 128.63it/s]\n",
      "Iteration: 100%|██████████| 154/154 [00:01<00:00, 123.12it/s]\n",
      "Iteration: 100%|██████████| 154/154 [00:01<00:00, 125.80it/s]\n",
      "Iteration:  91%|█████████ | 140/154 [00:01<00:00, 136.65it/s]"
     ]
    },
    {
     "name": "stdout",
     "output_type": "stream",
     "text": [
      "{'Train':  best_epoch_indx:99\n",
      " auc:0.9561093590106237 \n",
      " apur:0.9306582964593204 \n",
      " f1:0.8446975009115644 \n",
      " precision:0.8017677439965923 \n",
      " recall:0.8924845898530109 \n",
      ", 'Validation':  best_epoch_indx:99\n",
      " auc:0.9561093590106237 \n",
      " apur:0.9306582964593204 \n",
      " f1:0.8446975009115644 \n",
      " precision:0.8017677439965923 \n",
      " recall:0.8924845898530109 \n",
      ", 'Test':  best_epoch_indx:99\n",
      " auc:0.9561093590106237 \n",
      " apur:0.9306582964593204 \n",
      " f1:0.8446975009115644 \n",
      " precision:0.8017677439965923 \n",
      " recall:0.8924845898530109 \n",
      "}\n",
      "Finished training!\n"
     ]
    },
    {
     "name": "stderr",
     "output_type": "stream",
     "text": [
      "Iteration: 100%|██████████| 154/154 [00:01<00:00, 135.75it/s]\n",
      "Iteration:  63%|██████▎   | 97/154 [00:00<00:00, 135.38it/s]"
     ]
    },
    {
     "name": "stdout",
     "output_type": "stream",
     "text": [
      "<<< joined hyperparam search process\n",
      "released_gpu_num: 3\n",
      "<<< joined hyperparam search process\n",
      "released_gpu_num: 2\n",
      "<<< joined hyperparam search process\n",
      "released_gpu_num: 1\n"
     ]
    },
    {
     "name": "stderr",
     "output_type": "stream",
     "text": [
      "Iteration: 100%|██████████| 154/154 [00:01<00:00, 126.45it/s]\n"
     ]
    },
    {
     "name": "stdout",
     "output_type": "stream",
     "text": [
      "{'Train':  best_epoch_indx:99\n",
      " auc:0.9591725055716436 \n",
      " apur:0.9348123193657144 \n",
      " f1:0.8500111185234601 \n",
      " precision:0.8003140539125884 \n",
      " recall:0.9062888981091815 \n",
      ", 'Validation':  best_epoch_indx:99\n",
      " auc:0.9591725055716436 \n",
      " apur:0.9348123193657144 \n",
      " f1:0.8500111185234601 \n",
      " precision:0.8003140539125884 \n",
      " recall:0.9062888981091815 \n",
      ", 'Test':  best_epoch_indx:99\n",
      " auc:0.9591725055716436 \n",
      " apur:0.9348123193657144 \n",
      " f1:0.8500111185234601 \n",
      " precision:0.8003140539125884 \n",
      " recall:0.9062888981091815 \n",
      "}\n",
      "Finished training!\n",
      "<<< joined hyperparam search process\n",
      "released_gpu_num: 4\n"
     ]
    }
   ],
   "source": [
    "import torch.multiprocessing as mp\n",
    "mp.set_start_method(\"spawn\", force=True)\n",
    "\n",
    "queue = mp.Queue()\n",
    "q_processes = []\n",
    "\n",
    "# partition = fold_partitions[0]\n",
    "time_stamp = datetime.datetime.now().strftime('%Y-%m-%d_%H-%M-%S')\n",
    "\n",
    "print(\"Start: \" + time_stamp)\n",
    "\n",
    "for q_i in range(min(n_gpu, len(fold_partitions))):\n",
    "#     device_gpu = get_device(True, index=q_i)\n",
    "    partition = fold_partitions[q_i]\n",
    "    exp_dir = create_directory(os.path.join(targetdata_dir_exp, \"fold_\"+str(q_i)+\"_\"+time_stamp))\n",
    "    create_directory(os.path.join(exp_dir, \"predictions\"))\n",
    "\n",
    "#     tphp = generate_tp_hp(tp, hyperparam_space[q_i], hp_names)\n",
    "    \n",
    "    q_process = create_q_process(queue, dataset, q_i, tp, exp_dir, partition)\n",
    "    q_processes.append(q_process)\n",
    "    spawn_q_process(q_process)\n",
    "\n",
    "spawned_processes = n_gpu\n",
    "    \n",
    "# for q_i in range(len(hyperparam_space)):\n",
    "for q_i in range(min(n_gpu, len(fold_partitions))):\n",
    "    join_q_process(q_processes[q_i])\n",
    "    released_gpu_num = queue.get()\n",
    "    print(\"released_gpu_num:\", released_gpu_num)\n",
    "#     if(spawned_processes < len(hyperparam_space)):\n",
    "# #         device_gpu = get_device(True, index=q_i)\n",
    "#         time_stamp = datetime.datetime.now().strftime('%Y-%m-%d_%H-%M-%S')\n",
    "#         exp_dir = create_directory(os.path.join(targetdata_dir_exp, \"exp_\"+str(q_i)+\"_\"+time_stamp))\n",
    "#         tphp = generate_tp_hp(tp, hyperparam_space[q_i], hp_names)\n",
    "\n",
    "#         q_process = create_q_process(queue, used_dataset, released_gpu_num, tphp, exp_dir, partition)\n",
    "#         q_processes.append(q_process)\n",
    "#         spawn_q_process(q_process)\n",
    "#         spawned_processes = spawned_processes + 1"
   ]
  },
  {
   "cell_type": "code",
   "execution_count": 57,
   "metadata": {},
   "outputs": [
    {
     "name": "stdout",
     "output_type": "stream",
     "text": [
      "End: 2022-03-29_19-28-00\n"
     ]
    }
   ],
   "source": [
    "print(\"End: \" + datetime.datetime.now().strftime('%Y-%m-%d_%H-%M-%S'))\n"
   ]
  },
  {
   "cell_type": "code",
   "execution_count": null,
   "metadata": {},
   "outputs": [],
   "source": []
  }
 ],
 "metadata": {
  "kernelspec": {
   "display_name": "Python 3 (ipykernel)",
   "language": "python",
   "name": "python3"
  },
  "language_info": {
   "codemirror_mode": {
    "name": "ipython",
    "version": 3
   },
   "file_extension": ".py",
   "mimetype": "text/x-python",
   "name": "python",
   "nbconvert_exporter": "python",
   "pygments_lexer": "ipython3",
   "version": "3.9.9"
  }
 },
 "nbformat": 4,
 "nbformat_minor": 4
}
