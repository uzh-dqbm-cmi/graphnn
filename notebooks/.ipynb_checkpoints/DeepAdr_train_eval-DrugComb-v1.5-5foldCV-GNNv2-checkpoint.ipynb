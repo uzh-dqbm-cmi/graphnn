{
 "cells": [
  {
   "cell_type": "code",
   "execution_count": 1,
   "metadata": {
    "scrolled": false
   },
   "outputs": [],
   "source": [
    "%load_ext autoreload\n",
    "%autoreload 2"
   ]
  },
  {
   "cell_type": "code",
   "execution_count": 2,
   "metadata": {},
   "outputs": [],
   "source": [
    "import os\n",
    "import sys\n",
    "import numpy as np\n",
    "import pandas as pd\n",
    "import datetime\n",
    "import seaborn as sns\n",
    "import ogb\n",
    "from tqdm import tqdm\n",
    "import hiplot as hip\n",
    "from copy import deepcopy\n",
    "import datetime"
   ]
  },
  {
   "cell_type": "code",
   "execution_count": 3,
   "metadata": {},
   "outputs": [],
   "source": [
    "import torch\n",
    "from torch_geometric.data import Data\n",
    "from torch_geometric.loader import DataLoader\n",
    "from torch.utils.data import Subset, TensorDataset"
   ]
  },
  {
   "cell_type": "code",
   "execution_count": 4,
   "metadata": {},
   "outputs": [
    {
     "name": "stdout",
     "output_type": "stream",
     "text": [
      "/cluster/home/skyriakos/chemprop_run/git/notebooks\n"
     ]
    }
   ],
   "source": [
    "cwd = os.getcwd()\n",
    "print(cwd)"
   ]
  },
  {
   "cell_type": "code",
   "execution_count": 5,
   "metadata": {},
   "outputs": [],
   "source": [
    "os.chdir('..')\n",
    "import deepadr\n",
    "from deepadr.dataset import *\n",
    "from deepadr.utilities import *\n",
    "from deepadr.run_workflow import *\n",
    "from deepadr.chemfeatures import *\n",
    "from deepadr.hyphelperv2 import *\n",
    "# from deepadr.model_gnn import GCN as testGCN\n",
    "from deepadr.model_gnn_ogb import GNN, DeepAdr_SiameseTrf, ExpressionNN\n",
    "# from deepadr.model_attn_siamese import *\n",
    "from ogb.graphproppred import Evaluator\n",
    "os.chdir(cwd)"
   ]
  },
  {
   "cell_type": "code",
   "execution_count": 6,
   "metadata": {},
   "outputs": [],
   "source": [
    "from rdkit.Chem.Draw import IPythonConsole\n",
    "from rdkit.Chem import Draw"
   ]
  },
  {
   "cell_type": "code",
   "execution_count": 7,
   "metadata": {},
   "outputs": [],
   "source": [
    "# from tdc.single_pred import Tox\n",
    "# from tdc.multi_pred import DDI"
   ]
  },
  {
   "cell_type": "code",
   "execution_count": 8,
   "metadata": {},
   "outputs": [],
   "source": [
    "rawdata_dir = '../data/raw/'\n",
    "processed_dir = '../data/processed/'\n",
    "up_dir = '..'"
   ]
  },
  {
   "cell_type": "code",
   "execution_count": 9,
   "metadata": {
    "scrolled": true
   },
   "outputs": [
    {
     "name": "stdout",
     "output_type": "stream",
     "text": [
      "number of GPUs available: 1\n",
      "cuda:0, name:GeForce GTX 1080 Ti\n",
      "total memory available: 10.91650390625 GB\n",
      "total memory allocated on device: 0.0 GB\n",
      "max memory allocated on device: 0.0 GB\n",
      "total memory cached on device: 0.0 GB\n",
      "max memory cached  on device: 0.0 GB\n",
      "\n"
     ]
    }
   ],
   "source": [
    "report_available_cuda_devices()"
   ]
  },
  {
   "cell_type": "code",
   "execution_count": 10,
   "metadata": {},
   "outputs": [
    {
     "data": {
      "text/plain": [
       "1"
      ]
     },
     "execution_count": 10,
     "metadata": {},
     "output_type": "execute_result"
    }
   ],
   "source": [
    "n_gpu = torch.cuda.device_count()\n",
    "n_gpu"
   ]
  },
  {
   "cell_type": "code",
   "execution_count": 11,
   "metadata": {},
   "outputs": [],
   "source": [
    "device_cpu = get_device(to_gpu=False)\n",
    "# device_gpu = get_device(True, index=0)\n",
    "\n",
    "# fdtype = torch.float32"
   ]
  },
  {
   "cell_type": "code",
   "execution_count": 12,
   "metadata": {},
   "outputs": [
    {
     "name": "stdout",
     "output_type": "stream",
     "text": [
      "torch: 1.9.1\n",
      "CUDA: 11.1\n",
      "3.9.9 | packaged by conda-forge | (main, Dec 20 2021, 02:41:03) \n",
      "[GCC 9.4.0]\n"
     ]
    }
   ],
   "source": [
    "print(\"torch:\", torch.__version__)\n",
    "print(\"CUDA:\", torch.version.cuda)\n",
    "print(sys.version)"
   ]
  },
  {
   "cell_type": "code",
   "execution_count": 13,
   "metadata": {},
   "outputs": [],
   "source": [
    "# print(torch.cuda.memory_summary(device=device_gpu))"
   ]
  },
  {
   "cell_type": "markdown",
   "metadata": {},
   "source": [
    "### Preparing dataset "
   ]
  },
  {
   "cell_type": "code",
   "execution_count": 14,
   "metadata": {},
   "outputs": [],
   "source": [
    "score = 'total_thresh'\n",
    "score_val = 4"
   ]
  },
  {
   "cell_type": "code",
   "execution_count": 15,
   "metadata": {},
   "outputs": [],
   "source": [
    "# TDC Tox\n",
    "# DSdataset_name = 'SynergxZloewe' #'OncoPolyPharmacology' #'DrugComb'\n",
    "DSdataset_name = f'DrugComb_{score}_{score_val}' #'DrugComb'\n",
    "\n",
    "\n",
    "#fname_suffix = ds_config[\"fname_suffix\"]\n",
    "# similarity_types = ['chem']\n",
    "# kernel_option = 'sqeuclidean'\n",
    "data_fname = 'data_v1'\n",
    "# interact_matfname = ds_config[\"interact_matfname\"]\n",
    "# exp_iden = 'simtypeall'\n",
    "# ddi_interaction_labels_pth = ds_config[\"ddi_interaction_labels_pth\"]\n",
    "\n",
    "# up_dir, processed_dir, DSdataset_name, data_fname"
   ]
  },
  {
   "cell_type": "code",
   "execution_count": 16,
   "metadata": {
    "scrolled": true
   },
   "outputs": [
    {
     "name": "stdout",
     "output_type": "stream",
     "text": [
      "path_current_dir /cluster/home/skyriakos/chemprop_run/git/deepadr\n",
      "path_current_dir /cluster/home/skyriakos/chemprop_run/git/deepadr\n",
      "path_current_dir /cluster/home/skyriakos/chemprop_run/git/deepadr\n",
      "path_current_dir /cluster/home/skyriakos/chemprop_run/git/deepadr\n",
      "/cluster/home/skyriakos/chemprop_run/git/data/processed/DrugComb_total_thresh_4/data_v1\n"
     ]
    }
   ],
   "source": [
    "targetdata_dir = create_directory(os.path.join(processed_dir, DSdataset_name, data_fname))\n",
    "targetdata_dir_raw = create_directory(os.path.join(targetdata_dir, \"raw\"))\n",
    "targetdata_dir_processed = create_directory(os.path.join(targetdata_dir, \"processed\"))\n",
    "targetdata_dir_exp = create_directory(os.path.join(targetdata_dir, \"experiments\"))\n",
    "# # ReaderWriter.dump_data(dpartitions, os.path.join(targetdata_dir, 'data_partitions.pkl'))\n",
    "print(targetdata_dir)"
   ]
  },
  {
   "cell_type": "code",
   "execution_count": 17,
   "metadata": {},
   "outputs": [
    {
     "name": "stdout",
     "output_type": "stream",
     "text": [
      "CPU times: user 13.2 ms, sys: 127 ms, total: 140 ms\n",
      "Wall time: 131 ms\n"
     ]
    }
   ],
   "source": [
    "%%time\n",
    "\n",
    "# Make sure to first run the \"data_generation\" notebook first\n",
    "\n",
    "dataset = MoleculeDataset(root=targetdata_dir)"
   ]
  },
  {
   "cell_type": "code",
   "execution_count": 18,
   "metadata": {},
   "outputs": [],
   "source": [
    "# print()\n",
    "# print(f'Dataset: {dataset}:')\n",
    "# print('====================')\n",
    "# print(f'Number of graphs: {len(dataset)}')\n",
    "# print(f'Number of features: {dataset.num_features}')\n",
    "# print(f'Number of classes: {dataset.num_classes}')\n",
    "\n",
    "# # data0 = dataset[0]  # Get the first graph object.\n",
    "\n",
    "# # print()\n",
    "# # print(data)\n",
    "# # print('=============================================================')\n",
    "\n",
    "# # # Gather some statistics about the first graph.\n",
    "# # print(f'Number of nodes: {data.num_nodes}')\n",
    "# # print(f'Number of edges: {data.num_edges}')\n",
    "# # print(f'Average node degree: {data.num_edges / data.num_nodes:.2f}')\n",
    "# # print(f'Contains isolated nodes: {data.contains_isolated_nodes()}')\n",
    "# # print(f'Contains self-loops: {data.contains_self_loops()}')\n",
    "# # print(f'Is undirected: {data.is_undirected()}')"
   ]
  },
  {
   "cell_type": "code",
   "execution_count": 19,
   "metadata": {
    "scrolled": true
   },
   "outputs": [],
   "source": [
    "# data0"
   ]
  },
  {
   "cell_type": "code",
   "execution_count": 20,
   "metadata": {},
   "outputs": [],
   "source": [
    "# data0.expression.shape"
   ]
  },
  {
   "cell_type": "code",
   "execution_count": 21,
   "metadata": {},
   "outputs": [],
   "source": [
    "# data0.y"
   ]
  },
  {
   "cell_type": "code",
   "execution_count": 22,
   "metadata": {},
   "outputs": [],
   "source": [
    "# dataset.tensors[1]"
   ]
  },
  {
   "cell_type": "code",
   "execution_count": 23,
   "metadata": {},
   "outputs": [],
   "source": [
    "# used_dataset = dataset\n",
    "\n",
    "# If you want to use a smaller subset of the dataset for testing\n",
    "# smaller_dataset_len = int(len(dataset)/1)\n",
    "# used_dataset = dataset[:smaller_dataset_len]"
   ]
  },
  {
   "cell_type": "code",
   "execution_count": 24,
   "metadata": {},
   "outputs": [],
   "source": [
    "# type(used_dataset)"
   ]
  },
  {
   "cell_type": "code",
   "execution_count": 25,
   "metadata": {},
   "outputs": [
    {
     "data": {
      "text/plain": [
       "tensor([0, 0, 0,  ..., 0, 1, 1], dtype=torch.int32)"
      ]
     },
     "execution_count": 25,
     "metadata": {},
     "output_type": "execute_result"
    }
   ],
   "source": [
    "dataset.data.y"
   ]
  },
  {
   "cell_type": "code",
   "execution_count": 26,
   "metadata": {
    "scrolled": true
   },
   "outputs": [
    {
     "name": "stdout",
     "output_type": "stream",
     "text": [
      "fold_num: 0\n",
      "train data\n",
      "class: 0 norm count: 0.5764128559102675\n",
      "class: 1 norm count: 0.4235871440897325\n",
      "validation data\n",
      "class: 0 norm count: 0.5764192139737991\n",
      "class: 1 norm count: 0.42358078602620086\n",
      "test data\n",
      "class: 0 norm count: 0.5764751552795031\n",
      "class: 1 norm count: 0.4235248447204969\n",
      "\n",
      "-------------------------\n",
      "fold_num: 1\n",
      "train data\n",
      "class: 0 norm count: 0.5764128559102675\n",
      "class: 1 norm count: 0.4235871440897325\n",
      "validation data\n",
      "class: 0 norm count: 0.5764192139737991\n",
      "class: 1 norm count: 0.42358078602620086\n",
      "test data\n",
      "class: 0 norm count: 0.5764751552795031\n",
      "class: 1 norm count: 0.4235248447204969\n",
      "\n",
      "-------------------------\n",
      "fold_num: 2\n",
      "train data\n",
      "class: 0 norm count: 0.5764356969533567\n",
      "class: 1 norm count: 0.4235643030466433\n",
      "validation data\n",
      "class: 0 norm count: 0.5764192139737991\n",
      "class: 1 norm count: 0.42358078602620086\n",
      "test data\n",
      "class: 0 norm count: 0.5763929334109882\n",
      "class: 1 norm count: 0.4236070665890118\n",
      "\n",
      "-------------------------\n",
      "fold_num: 3\n",
      "train data\n",
      "class: 0 norm count: 0.5764356969533567\n",
      "class: 1 norm count: 0.4235643030466433\n",
      "validation data\n",
      "class: 0 norm count: 0.5764192139737991\n",
      "class: 1 norm count: 0.42358078602620086\n",
      "test data\n",
      "class: 0 norm count: 0.5763929334109882\n",
      "class: 1 norm count: 0.4236070665890118\n",
      "\n",
      "-------------------------\n",
      "fold_num: 4\n",
      "train data\n",
      "class: 0 norm count: 0.5764356969533567\n",
      "class: 1 norm count: 0.4235643030466433\n",
      "validation data\n",
      "class: 0 norm count: 0.5764192139737991\n",
      "class: 1 norm count: 0.42358078602620086\n",
      "test data\n",
      "class: 0 norm count: 0.5763929334109882\n",
      "class: 1 norm count: 0.4236070665890118\n",
      "\n",
      "-------------------------\n"
     ]
    }
   ],
   "source": [
    "fold_partitions = get_stratified_partitions(dataset.data.y,\n",
    "                                            num_folds=5,\n",
    "                                            valid_set_portion=0.1,\n",
    "                                            random_state=42)"
   ]
  },
  {
   "cell_type": "code",
   "execution_count": 27,
   "metadata": {},
   "outputs": [],
   "source": [
    "# train_val_test_frac = [0.7, 0.1, 0.2]\n",
    "# assert sum(train_val_test_frac) == 1\n",
    "\n",
    "# torch.manual_seed(42)\n",
    "# used_dataset = used_dataset.shuffle()\n",
    "\n",
    "# num_train = round(train_val_test_frac[0] * len(used_dataset)) \n",
    "# num_trainval = round((train_val_test_frac[0]+train_val_test_frac[1]) * len(used_dataset))\n",
    "\n",
    "# train_dataset = used_dataset[:num_train]\n",
    "# val_dataset = used_dataset[num_train:num_trainval]\n",
    "# test_dataset = used_dataset[num_trainval:]"
   ]
  },
  {
   "cell_type": "code",
   "execution_count": 28,
   "metadata": {},
   "outputs": [],
   "source": [
    "# train_dataset = Subset(used_dataset, fold_partitions[0]['train'])\n",
    "# val_dataset = Subset(used_dataset, fold_partitions[0]['validation'])\n",
    "# test_dataset = Subset(used_dataset, fold_partitions[0]['test'])"
   ]
  },
  {
   "cell_type": "code",
   "execution_count": 29,
   "metadata": {},
   "outputs": [],
   "source": [
    "# print(f'Number of training graphs: {len(train_dataset)}')\n",
    "# print(f'Number of val graphs: {len(val_dataset)}')\n",
    "# print(f'Number of test graphs: {len(test_dataset)}')"
   ]
  },
  {
   "cell_type": "code",
   "execution_count": 30,
   "metadata": {},
   "outputs": [
    {
     "name": "stdout",
     "output_type": "stream",
     "text": [
      "Number of training graphs: 18544\n",
      "Number of validation graphs: 2061\n",
      "Number of testing graphs: 5152\n"
     ]
    }
   ],
   "source": [
    "print(\"Number of training graphs: \"+ str(len(fold_partitions[0]['train'])))\n",
    "print(\"Number of validation graphs: \"+ str(len(fold_partitions[0]['validation'])))\n",
    "print(\"Number of testing graphs: \"+ str(len(fold_partitions[0]['test'])))\n"
   ]
  },
  {
   "cell_type": "code",
   "execution_count": 31,
   "metadata": {},
   "outputs": [],
   "source": [
    "# print(dataset.num_classes)"
   ]
  },
  {
   "cell_type": "code",
   "execution_count": 32,
   "metadata": {},
   "outputs": [],
   "source": [
    "# # training params total_thresh 4\n",
    "# tp = {\n",
    "#     \"batch_size\" : 300,\n",
    "#     \"num_epochs\" : 30,\n",
    "    \n",
    "#     \"emb_dim\" : 300,\n",
    "#     \"gnn_type\" : \"gatv2\",\n",
    "#     \"num_layer\" : 5,\n",
    "#     \"graph_pooling\" : \"mean\", #attention\n",
    "    \n",
    "#     \"input_embed_dim\" : None,\n",
    "#     \"gene_embed_dim\": 1,\n",
    "#     \"num_attn_heads\" : 2,\n",
    "#     \"num_transformer_units\" : 1,\n",
    "#     \"p_dropout\" : 0.3,\n",
    "# #     \"nonlin_func\" : nn.ReLU(),\n",
    "#     \"mlp_embed_factor\" : 2,\n",
    "#     \"pooling_mode\" : 'attn',\n",
    "#     \"dist_opt\" : 'cosine',\n",
    "\n",
    "#     \"base_lr\" : 3e-5, #3e-4\n",
    "#     \"max_lr_mul\": 15,\n",
    "#     \"l2_reg\" : 1e-7,\n",
    "#     \"loss_w\" : 0.95,\n",
    "#     \"margin_v\" : 1.,\n",
    "\n",
    "#     \"expression_dim\" : 64,\n",
    "#     \"expression_input_size\" : 908,\n",
    "#     \"exp_H1\" : 500,\n",
    "#     \"exp_H2\" : 400\n",
    "# }"
   ]
  },
  {
   "cell_type": "code",
   "execution_count": null,
   "metadata": {},
   "outputs": [],
   "source": [
    "tp = {\n",
    "    \"batch_size\" : 300,\n",
    "    \"num_epochs\" : 30,\n",
    "    \n",
    "    \"emb_dim\" : 300,\n",
    "    \"gnn_type\" : \"gatv2\",\n",
    "    \"num_layer\" : 5,\n",
    "    \"graph_pooling\" : \"mean\", #attention\n",
    "    \n",
    "    \"input_embed_dim\" : None,\n",
    "    \"gene_embed_dim\": 1,\n",
    "    \"num_attn_heads\" : 2,\n",
    "    \"num_transformer_units\" : 1,\n",
    "    \"p_dropout\" : 0.3,\n",
    "#     \"nonlin_func\" : nn.ReLU(),\n",
    "    \"mlp_embed_factor\" : 2,\n",
    "    \"pooling_mode\" : 'attn',\n",
    "    \"dist_opt\" : 'cosine',\n",
    "\n",
    "    \"base_lr\" : 3e-5, #3e-4\n",
    "    \"max_lr_mul\": 5,\n",
    "    \"l2_reg\" : 1e-5,\n",
    "    \"loss_w\" : 1.,\n",
    "    \"margin_v\" : 1.,\n",
    "\n",
    "    \"expression_dim\" : 64,\n",
    "    \"expression_input_size\" : 908,\n",
    "    \"exp_H1\" : 500,\n",
    "    \"exp_H2\" : 400\n",
    "}"
   ]
  },
  {
   "cell_type": "code",
   "execution_count": 33,
   "metadata": {},
   "outputs": [],
   "source": [
    "# # training params total_thresh 3\n",
    "# tp = {\n",
    "#     \"batch_size\" : 300,\n",
    "#     \"num_epochs\" : 200,\n",
    "    \n",
    "#     \"emb_dim\" : 300,\n",
    "#     \"gnn_type\" : \"gatv2\",\n",
    "#     \"num_layer\" : 5,\n",
    "#     \"graph_pooling\" : \"mean\", #attention\n",
    "    \n",
    "#     \"input_embed_dim\" : None,\n",
    "#     \"gene_embed_dim\": 1,\n",
    "#     \"num_attn_heads\" : 2,\n",
    "#     \"num_transformer_units\" : 1,\n",
    "#     \"p_dropout\" : 0.3,\n",
    "# #     \"nonlin_func\" : nn.ReLU(),\n",
    "#     \"mlp_embed_factor\" : 2,\n",
    "#     \"pooling_mode\" : 'attn',\n",
    "#     \"dist_opt\" : 'cosine',\n",
    "\n",
    "#     \"base_lr\" : 3e-5, #3e-4\n",
    "#     \"max_lr_mul\": 10,\n",
    "#     \"l2_reg\" : 1e-8,\n",
    "#     \"loss_w\" : 0.3,\n",
    "#     \"margin_v\" : 1.,\n",
    "\n",
    "#     \"expression_dim\" : 64,\n",
    "#     \"expression_input_size\" : 908,\n",
    "#     \"exp_H1\" : 500,\n",
    "#     \"exp_H2\" : 400\n",
    "# }"
   ]
  },
  {
   "cell_type": "code",
   "execution_count": 34,
   "metadata": {},
   "outputs": [],
   "source": [
    "# targetdata_dir_exp = create_directory(os.path.join(targetdata_dir, \"experiments\"))\n",
    "# targetdata_dir_exp"
   ]
  },
  {
   "cell_type": "code",
   "execution_count": 35,
   "metadata": {},
   "outputs": [],
   "source": [
    "# device_gpu = get_device(True, index=0)\n",
    "# exp_dir = create_directory(os.path.join(targetdata_dir_exp, \"exp0\"))\n",
    "# tphp = generate_tp_hp(tp, hyperparam_space[0], hp_names)\n",
    "# partition = fold_partitions[0]"
   ]
  },
  {
   "cell_type": "code",
   "execution_count": 36,
   "metadata": {},
   "outputs": [],
   "source": [
    "# run_exp(tphp, device_gpu, exp_dir,partition=fold_partitions[0], used_dataset=used_dataset)"
   ]
  },
  {
   "cell_type": "code",
   "execution_count": 37,
   "metadata": {},
   "outputs": [],
   "source": [
    "def spawn_q_process(q_process):\n",
    "    print(\">>> spawning hyperparam search process\")\n",
    "    q_process.start()\n",
    "    \n",
    "def join_q_process(q_process):\n",
    "    q_process.join()\n",
    "    print(\"<<< joined hyperparam search process\")\n",
    "    \n",
    "def create_q_process(queue, used_dataset, gpu_num, tphp, exp_dir, partition): #\n",
    "#     fold_gpu_map = {0:gpu_num}\n",
    "    return mp.Process(target=deepadr.hyphelperv2.run_exp, args=(queue, used_dataset, gpu_num, tphp, exp_dir, partition)) #"
   ]
  },
  {
   "cell_type": "code",
   "execution_count": 38,
   "metadata": {
    "scrolled": true
   },
   "outputs": [
    {
     "name": "stdout",
     "output_type": "stream",
     "text": [
      "Start: 2022-03-24_12-27-06\n",
      "path_current_dir /cluster/home/skyriakos/chemprop_run/git/deepadr\n",
      "path_current_dir /cluster/home/skyriakos/chemprop_run/git/deepadr\n",
      ">>> spawning hyperparam search process\n",
      "gpu: cuda:0\n",
      "=====Epoch 0\n",
      "Training...\n"
     ]
    },
    {
     "name": "stderr",
     "output_type": "stream",
     "text": [
      "Iteration: 100%|██████████| 62/62 [00:29<00:00,  2.11it/s]\n",
      "Iteration:   0%|          | 0/62 [00:00<?, ?it/s]"
     ]
    },
    {
     "name": "stdout",
     "output_type": "stream",
     "text": [
      "Evaluating...\n"
     ]
    },
    {
     "name": "stderr",
     "output_type": "stream",
     "text": [
      "Iteration: 100%|██████████| 62/62 [00:04<00:00, 15.26it/s]\n",
      "Iteration: 100%|██████████| 18/18 [00:01<00:00, 11.40it/s]\n",
      "Iteration: 100%|██████████| 7/7 [00:00<00:00,  8.56it/s]\n",
      "Iteration:   0%|          | 0/62 [00:00<?, ?it/s]"
     ]
    },
    {
     "name": "stdout",
     "output_type": "stream",
     "text": [
      "{'Train':  best_epoch_indx:0\n",
      " auc:0.6620959255483084 \n",
      " apur:0.5861047568937793 \n",
      " f1:0.6201803991213721 \n",
      " precision:0.48995717028503916 \n",
      " recall:0.8446849140674729 \n",
      ", 'Validation':  best_epoch_indx:0\n",
      " auc:0.6506555628835125 \n",
      " apur:0.5722362313961096 \n",
      " f1:0.6194467728415759 \n",
      " precision:0.488433575677462 \n",
      " recall:0.8465063001145475 \n",
      ", 'Test':  best_epoch_indx:0\n",
      " auc:0.6691537279300799 \n",
      " apur:0.5989710947401212 \n",
      " f1:0.6210121930850175 \n",
      " precision:0.4885676741130092 \n",
      " recall:0.8519706691109075 \n",
      "}\n",
      "=====Epoch 1\n",
      "Training...\n"
     ]
    },
    {
     "name": "stderr",
     "output_type": "stream",
     "text": [
      "Iteration: 100%|██████████| 62/62 [00:09<00:00,  6.25it/s]\n",
      "Iteration:   0%|          | 0/62 [00:00<?, ?it/s]"
     ]
    },
    {
     "name": "stdout",
     "output_type": "stream",
     "text": [
      "Evaluating...\n"
     ]
    },
    {
     "name": "stderr",
     "output_type": "stream",
     "text": [
      "Iteration: 100%|██████████| 62/62 [00:03<00:00, 15.68it/s]\n",
      "Iteration: 100%|██████████| 18/18 [00:01<00:00, 16.70it/s]\n",
      "Iteration: 100%|██████████| 7/7 [00:00<00:00, 15.98it/s]\n",
      "Iteration:   2%|▏         | 1/62 [00:00<00:08,  6.92it/s]"
     ]
    },
    {
     "name": "stdout",
     "output_type": "stream",
     "text": [
      "{'Train':  best_epoch_indx:1\n",
      " auc:0.7672111742804895 \n",
      " apur:0.6843075997962196 \n",
      " f1:0.6678979343863912 \n",
      " precision:0.5401729559748427 \n",
      " recall:0.874729471674093 \n",
      ", 'Validation':  best_epoch_indx:1\n",
      " auc:0.748266841766269 \n",
      " apur:0.6595749259459387 \n",
      " f1:0.6561679790026247 \n",
      " precision:0.5307855626326964 \n",
      " recall:0.8591065292096219 \n",
      ", 'Test':  best_epoch_indx:1\n",
      " auc:0.7661654738648322 \n",
      " apur:0.6824421871991112 \n",
      " f1:0.6645757100540164 \n",
      " precision:0.5361259488332865 \n",
      " recall:0.8739688359303391 \n",
      "}\n",
      "=====Epoch 2\n",
      "Training...\n"
     ]
    },
    {
     "name": "stderr",
     "output_type": "stream",
     "text": [
      "Iteration: 100%|██████████| 62/62 [00:09<00:00,  6.28it/s]\n",
      "Iteration:   3%|▎         | 2/62 [00:00<00:04, 13.19it/s]"
     ]
    },
    {
     "name": "stdout",
     "output_type": "stream",
     "text": [
      "Evaluating...\n"
     ]
    },
    {
     "name": "stderr",
     "output_type": "stream",
     "text": [
      "Iteration: 100%|██████████| 62/62 [00:04<00:00, 15.09it/s]\n",
      "Iteration: 100%|██████████| 18/18 [00:01<00:00, 16.81it/s]\n",
      "Iteration: 100%|██████████| 7/7 [00:00<00:00, 16.05it/s]\n",
      "Iteration:   2%|▏         | 1/62 [00:00<00:08,  7.08it/s]"
     ]
    },
    {
     "name": "stdout",
     "output_type": "stream",
     "text": [
      "{'Train':  best_epoch_indx:2\n",
      " auc:0.810853397595665 \n",
      " apur:0.7485921991137471 \n",
      " f1:0.7016541711293586 \n",
      " precision:0.6586973522511451 \n",
      " recall:0.750604710375557 \n",
      ", 'Validation':  best_epoch_indx:2\n",
      " auc:0.7965170992089662 \n",
      " apur:0.7296658331627297 \n",
      " f1:0.6817204301075269 \n",
      " precision:0.6423505572441742 \n",
      " recall:0.7262313860252004 \n",
      ", 'Test':  best_epoch_indx:2\n",
      " auc:0.8036902788965117 \n",
      " apur:0.7379913736614578 \n",
      " f1:0.6968922945934439 \n",
      " precision:0.6506359300476947 \n",
      " recall:0.7502291475710358 \n",
      "}\n",
      "=====Epoch 3\n",
      "Training...\n"
     ]
    },
    {
     "name": "stderr",
     "output_type": "stream",
     "text": [
      "Iteration: 100%|██████████| 62/62 [00:09<00:00,  6.26it/s]\n",
      "Iteration:   3%|▎         | 2/62 [00:00<00:04, 13.10it/s]"
     ]
    },
    {
     "name": "stdout",
     "output_type": "stream",
     "text": [
      "Evaluating...\n"
     ]
    },
    {
     "name": "stderr",
     "output_type": "stream",
     "text": [
      "Iteration: 100%|██████████| 62/62 [00:03<00:00, 15.69it/s]\n",
      "Iteration: 100%|██████████| 18/18 [00:01<00:00, 16.70it/s]\n",
      "Iteration: 100%|██████████| 7/7 [00:00<00:00, 14.93it/s]\n"
     ]
    },
    {
     "name": "stdout",
     "output_type": "stream",
     "text": [
      "{'Train':  best_epoch_indx:3\n",
      " auc:0.8290556768503692 \n",
      " apur:0.7853699407301951 \n",
      " f1:0.7192066193298515 \n",
      " precision:0.6671021119094274 \n",
      " recall:0.7801400381922342 \n",
      ", 'Validation':  best_epoch_indx:3\n",
      " auc:0.8090074089501353 \n",
      " apur:0.759596860445046 \n",
      " f1:0.7064464571124134 \n",
      " precision:0.6603585657370518 \n",
      " recall:0.7594501718213058 \n",
      ", 'Test':  best_epoch_indx:3\n",
      " auc:0.8182902196421903 \n",
      " apur:0.7680315983323217 \n",
      " f1:0.7100442198357549 \n",
      " precision:0.6567978184651344 \n",
      " recall:0.772685609532539 \n",
      "}\n",
      "=====Epoch 4\n",
      "Training...\n"
     ]
    },
    {
     "name": "stderr",
     "output_type": "stream",
     "text": [
      "Iteration: 100%|██████████| 62/62 [00:09<00:00,  6.26it/s]\n",
      "Iteration:   3%|▎         | 2/62 [00:00<00:04, 12.99it/s]"
     ]
    },
    {
     "name": "stdout",
     "output_type": "stream",
     "text": [
      "Evaluating...\n"
     ]
    },
    {
     "name": "stderr",
     "output_type": "stream",
     "text": [
      "Iteration: 100%|██████████| 62/62 [00:03<00:00, 15.71it/s]\n",
      "Iteration: 100%|██████████| 18/18 [00:01<00:00, 16.80it/s]\n",
      "Iteration: 100%|██████████| 7/7 [00:00<00:00, 15.87it/s]\n",
      "Iteration:   2%|▏         | 1/62 [00:00<00:08,  7.26it/s]"
     ]
    },
    {
     "name": "stdout",
     "output_type": "stream",
     "text": [
      "{'Train':  best_epoch_indx:4\n",
      " auc:0.8472856233518231 \n",
      " apur:0.8119334651190886 \n",
      " f1:0.7358898497951752 \n",
      " precision:0.6652607756403662 \n",
      " recall:0.823297262889879 \n",
      ", 'Validation':  best_epoch_indx:4\n",
      " auc:0.8234107011312052 \n",
      " apur:0.783026145183959 \n",
      " f1:0.7147302904564314 \n",
      " precision:0.6530805687203791 \n",
      " recall:0.7892325315005727 \n",
      ", 'Test':  best_epoch_indx:4\n",
      " auc:0.8371790005153892 \n",
      " apur:0.8010098112452676 \n",
      " f1:0.7261953412341642 \n",
      " precision:0.6552359882005899 \n",
      " recall:0.8143904674610449 \n",
      "}\n",
      "=====Epoch 5\n",
      "Training...\n"
     ]
    },
    {
     "name": "stderr",
     "output_type": "stream",
     "text": [
      "Iteration: 100%|██████████| 62/62 [00:10<00:00,  6.16it/s]\n",
      "Iteration:   3%|▎         | 2/62 [00:00<00:04, 14.30it/s]"
     ]
    },
    {
     "name": "stdout",
     "output_type": "stream",
     "text": [
      "Evaluating...\n"
     ]
    },
    {
     "name": "stderr",
     "output_type": "stream",
     "text": [
      "Iteration: 100%|██████████| 62/62 [00:03<00:00, 15.78it/s]\n",
      "Iteration: 100%|██████████| 18/18 [00:01<00:00, 16.86it/s]\n",
      "Iteration: 100%|██████████| 7/7 [00:00<00:00, 15.75it/s]\n"
     ]
    },
    {
     "name": "stdout",
     "output_type": "stream",
     "text": [
      "{'Train':  best_epoch_indx:5\n",
      " auc:0.8560166644245837 \n",
      " apur:0.8248006236034595 \n",
      " f1:0.7396221646553358 \n",
      " precision:0.734194681384847 \n",
      " recall:0.7451304901336728 \n",
      ", 'Validation':  best_epoch_indx:5\n",
      " auc:0.8323228466412889 \n",
      " apur:0.7922196269883982 \n",
      " f1:0.7175925925925926 \n",
      " precision:0.7251461988304093 \n",
      " recall:0.7101947308132875 \n",
      ", 'Test':  best_epoch_indx:5\n",
      " auc:0.8410067679545223 \n",
      " apur:0.8105776446636921 \n",
      " f1:0.7266953957813563 \n",
      " precision:0.7193533902110463 \n",
      " recall:0.7341888175985335 \n",
      "}\n",
      "=====Epoch 6\n",
      "Training...\n"
     ]
    },
    {
     "name": "stderr",
     "output_type": "stream",
     "text": [
      "Iteration: 100%|██████████| 62/62 [00:09<00:00,  6.27it/s]\n",
      "Iteration:   3%|▎         | 2/62 [00:00<00:04, 13.27it/s]"
     ]
    },
    {
     "name": "stdout",
     "output_type": "stream",
     "text": [
      "Evaluating...\n"
     ]
    },
    {
     "name": "stderr",
     "output_type": "stream",
     "text": [
      "Iteration: 100%|██████████| 62/62 [00:03<00:00, 15.71it/s]\n",
      "Iteration: 100%|██████████| 18/18 [00:01<00:00, 16.78it/s]\n",
      "Iteration: 100%|██████████| 7/7 [00:00<00:00, 15.20it/s]\n"
     ]
    },
    {
     "name": "stdout",
     "output_type": "stream",
     "text": [
      "{'Train':  best_epoch_indx:6\n",
      " auc:0.868911614223061 \n",
      " apur:0.839631911546391 \n",
      " f1:0.7552135346296187 \n",
      " precision:0.7011343804537522 \n",
      " recall:0.8183322724379376 \n",
      ", 'Validation':  best_epoch_indx:6\n",
      " auc:0.8373569602091939 \n",
      " apur:0.8029456403426685 \n",
      " f1:0.7278617710583154 \n",
      " precision:0.6884576098059244 \n",
      " recall:0.7720504009163803 \n",
      ", 'Test':  best_epoch_indx:6\n",
      " auc:0.8501035407543197 \n",
      " apur:0.820595236260444 \n",
      " f1:0.7352445193929174 \n",
      " precision:0.6807181889149102 \n",
      " recall:0.7992667277726856 \n",
      "}\n",
      "=====Epoch 7\n",
      "Training...\n"
     ]
    },
    {
     "name": "stderr",
     "output_type": "stream",
     "text": [
      "Iteration: 100%|██████████| 62/62 [00:09<00:00,  6.26it/s]\n",
      "Iteration:   3%|▎         | 2/62 [00:00<00:04, 12.99it/s]"
     ]
    },
    {
     "name": "stdout",
     "output_type": "stream",
     "text": [
      "Evaluating...\n"
     ]
    },
    {
     "name": "stderr",
     "output_type": "stream",
     "text": [
      "Iteration: 100%|██████████| 62/62 [00:03<00:00, 15.77it/s]\n",
      "Iteration: 100%|██████████| 18/18 [00:01<00:00, 16.78it/s]\n",
      "Iteration: 100%|██████████| 7/7 [00:00<00:00, 15.72it/s]\n"
     ]
    },
    {
     "name": "stdout",
     "output_type": "stream",
     "text": [
      "{'Train':  best_epoch_indx:7\n",
      " auc:0.8779049224534 \n",
      " apur:0.8508269759413072 \n",
      " f1:0.7638253898665999 \n",
      " precision:0.7517258382642998 \n",
      " recall:0.7763208147676639 \n",
      ", 'Validation':  best_epoch_indx:7\n",
      " auc:0.8439858686135893 \n",
      " apur:0.8105366347280529 \n",
      " f1:0.7354618015963512 \n",
      " precision:0.7321225879682179 \n",
      " recall:0.738831615120275 \n",
      ", 'Test':  best_epoch_indx:7\n",
      " auc:0.8589834334793089 \n",
      " apur:0.8299987167527937 \n",
      " f1:0.7470427661510465 \n",
      " precision:0.7416440831074977 \n",
      " recall:0.7525206232813932 \n",
      "}\n",
      "=====Epoch 8\n",
      "Training...\n"
     ]
    },
    {
     "name": "stderr",
     "output_type": "stream",
     "text": [
      "Iteration: 100%|██████████| 62/62 [00:09<00:00,  6.25it/s]\n",
      "Iteration:   3%|▎         | 2/62 [00:00<00:04, 13.22it/s]"
     ]
    },
    {
     "name": "stdout",
     "output_type": "stream",
     "text": [
      "Evaluating...\n"
     ]
    },
    {
     "name": "stderr",
     "output_type": "stream",
     "text": [
      "Iteration: 100%|██████████| 62/62 [00:04<00:00, 15.09it/s]\n",
      "Iteration: 100%|██████████| 18/18 [00:01<00:00, 16.82it/s]\n",
      "Iteration: 100%|██████████| 7/7 [00:00<00:00, 15.86it/s]\n"
     ]
    },
    {
     "name": "stdout",
     "output_type": "stream",
     "text": [
      "{'Train':  best_epoch_indx:8\n",
      " auc:0.8831727281221365 \n",
      " apur:0.8572568819010001 \n",
      " f1:0.7720561317876754 \n",
      " precision:0.7413005272407733 \n",
      " recall:0.8054742202418842 \n",
      ", 'Validation':  best_epoch_indx:8\n",
      " auc:0.8480654193712613 \n",
      " apur:0.81684291166414 \n",
      " f1:0.743646408839779 \n",
      " precision:0.7182497331910352 \n",
      " recall:0.7709049255441008 \n",
      ", 'Test':  best_epoch_indx:8\n",
      " auc:0.8619392828375414 \n",
      " apur:0.8329647748114826 \n",
      " f1:0.7548740416210296 \n",
      " precision:0.7230381871590432 \n",
      " recall:0.7896425297891843 \n",
      "}\n",
      "=====Epoch 9\n",
      "Training...\n"
     ]
    },
    {
     "name": "stderr",
     "output_type": "stream",
     "text": [
      "Iteration: 100%|██████████| 62/62 [00:09<00:00,  6.26it/s]\n",
      "Iteration:   3%|▎         | 2/62 [00:00<00:04, 13.34it/s]"
     ]
    },
    {
     "name": "stdout",
     "output_type": "stream",
     "text": [
      "Evaluating...\n"
     ]
    },
    {
     "name": "stderr",
     "output_type": "stream",
     "text": [
      "Iteration: 100%|██████████| 62/62 [00:03<00:00, 15.68it/s]\n",
      "Iteration: 100%|██████████| 18/18 [00:01<00:00, 16.80it/s]\n",
      "Iteration: 100%|██████████| 7/7 [00:00<00:00, 15.22it/s]\n"
     ]
    },
    {
     "name": "stdout",
     "output_type": "stream",
     "text": [
      "{'Train':  best_epoch_indx:9\n",
      " auc:0.8854923105479919 \n",
      " apur:0.8602865798594961 \n",
      " f1:0.7743746491173351 \n",
      " precision:0.7591731898238747 \n",
      " recall:0.7901973265436028 \n",
      ", 'Validation':  best_epoch_indx:9\n",
      " auc:0.8505029292543611 \n",
      " apur:0.8199720607654802 \n",
      " f1:0.7442123094297007 \n",
      " precision:0.7338530066815144 \n",
      " recall:0.7548682703321878 \n",
      ", 'Test':  best_epoch_indx:9\n",
      " auc:0.8646694565576326 \n",
      " apur:0.8354516884564438 \n",
      " f1:0.7556754326815015 \n",
      " precision:0.7415086016762241 \n",
      " recall:0.7703941338221815 \n",
      "}\n",
      "=====Epoch 10\n",
      "Training...\n"
     ]
    },
    {
     "name": "stderr",
     "output_type": "stream",
     "text": [
      "Iteration: 100%|██████████| 62/62 [00:09<00:00,  6.24it/s]\n",
      "Iteration:   3%|▎         | 2/62 [00:00<00:04, 13.21it/s]"
     ]
    },
    {
     "name": "stdout",
     "output_type": "stream",
     "text": [
      "Evaluating...\n"
     ]
    },
    {
     "name": "stderr",
     "output_type": "stream",
     "text": [
      "Iteration: 100%|██████████| 62/62 [00:04<00:00, 15.05it/s]\n",
      "Iteration: 100%|██████████| 18/18 [00:01<00:00, 16.78it/s]\n",
      "Iteration: 100%|██████████| 7/7 [00:00<00:00, 16.31it/s]\n"
     ]
    },
    {
     "name": "stdout",
     "output_type": "stream",
     "text": [
      "{'Train':  best_epoch_indx:10\n",
      " auc:0.8879196558875765 \n",
      " apur:0.8630473119614068 \n",
      " f1:0.7752835820895523 \n",
      " precision:0.7299606520517145 \n",
      " recall:0.8266072565245067 \n",
      ", 'Validation':  best_epoch_indx:10\n",
      " auc:0.8540232411939171 \n",
      " apur:0.8232519368549952 \n",
      " f1:0.7482327351821643 \n",
      " precision:0.7122153209109731 \n",
      " recall:0.7880870561282932 \n",
      ", 'Test':  best_epoch_indx:10\n",
      " auc:0.8662212562533369 \n",
      " apur:0.8366727470330246 \n",
      " f1:0.7577054794520547 \n",
      " precision:0.7108433734939759 \n",
      " recall:0.8111824014665444 \n",
      "}\n",
      "=====Epoch 11\n",
      "Training...\n"
     ]
    },
    {
     "name": "stderr",
     "output_type": "stream",
     "text": [
      "Iteration: 100%|██████████| 62/62 [00:09<00:00,  6.26it/s]\n",
      "Iteration:   3%|▎         | 2/62 [00:00<00:04, 13.37it/s]"
     ]
    },
    {
     "name": "stdout",
     "output_type": "stream",
     "text": [
      "Evaluating...\n"
     ]
    },
    {
     "name": "stderr",
     "output_type": "stream",
     "text": [
      "Iteration: 100%|██████████| 62/62 [00:03<00:00, 15.77it/s]\n",
      "Iteration: 100%|██████████| 18/18 [00:01<00:00, 16.86it/s]\n",
      "Iteration: 100%|██████████| 7/7 [00:00<00:00, 16.34it/s]\n",
      "Iteration:   0%|          | 0/62 [00:00<?, ?it/s]"
     ]
    },
    {
     "name": "stdout",
     "output_type": "stream",
     "text": [
      "{'Train':  best_epoch_indx:11\n",
      " auc:0.8892034197098108 \n",
      " apur:0.8638114730373909 \n",
      " f1:0.7790662376297735 \n",
      " precision:0.744661095636026 \n",
      " recall:0.8168045830681094 \n",
      ", 'Validation':  best_epoch_indx:11\n",
      " auc:0.8561685970047941 \n",
      " apur:0.8261220140232848 \n",
      " f1:0.7479316050744622 \n",
      " precision:0.7212765957446808 \n",
      " recall:0.7766323024054983 \n",
      ", 'Test':  best_epoch_indx:11\n",
      " auc:0.8660014443240842 \n",
      " apur:0.8351844651050344 \n",
      " f1:0.7610117749672917 \n",
      " precision:0.7258735440931781 \n",
      " recall:0.7997250229147571 \n",
      "}\n",
      "=====Epoch 12\n",
      "Training...\n"
     ]
    },
    {
     "name": "stderr",
     "output_type": "stream",
     "text": [
      "Iteration: 100%|██████████| 62/62 [00:09<00:00,  6.26it/s]\n",
      "Iteration:   0%|          | 0/62 [00:00<?, ?it/s]"
     ]
    },
    {
     "name": "stdout",
     "output_type": "stream",
     "text": [
      "Evaluating...\n"
     ]
    },
    {
     "name": "stderr",
     "output_type": "stream",
     "text": [
      "Iteration: 100%|██████████| 62/62 [00:03<00:00, 15.57it/s]\n",
      "Iteration: 100%|██████████| 18/18 [00:01<00:00, 16.65it/s]\n",
      "Iteration: 100%|██████████| 7/7 [00:00<00:00, 16.36it/s]\n"
     ]
    },
    {
     "name": "stdout",
     "output_type": "stream",
     "text": [
      "{'Train':  best_epoch_indx:12\n",
      " auc:0.8875644360708247 \n",
      " apur:0.8616932505528573 \n",
      " f1:0.7762158281988395 \n",
      " precision:0.7321146468065899 \n",
      " recall:0.8259707192870783 \n",
      ", 'Validation':  best_epoch_indx:12\n",
      " auc:0.8521488269483687 \n",
      " apur:0.8195844071311815 \n",
      " f1:0.739514348785872 \n",
      " precision:0.7135250266240681 \n",
      " recall:0.7674684994272624 \n",
      ", 'Test':  best_epoch_indx:12\n",
      " auc:0.863435300144741 \n",
      " apur:0.8336235572393603 \n",
      " f1:0.7572192513368983 \n",
      " precision:0.7099879663056559 \n",
      " recall:0.8111824014665444 \n",
      "}\n",
      "=====Epoch 13\n",
      "Training...\n"
     ]
    },
    {
     "name": "stderr",
     "output_type": "stream",
     "text": [
      "Iteration: 100%|██████████| 62/62 [00:10<00:00,  6.11it/s]\n",
      "Iteration:   0%|          | 0/62 [00:00<?, ?it/s]"
     ]
    },
    {
     "name": "stdout",
     "output_type": "stream",
     "text": [
      "Evaluating...\n"
     ]
    },
    {
     "name": "stderr",
     "output_type": "stream",
     "text": [
      "Iteration: 100%|██████████| 62/62 [00:03<00:00, 15.70it/s]\n",
      "Iteration: 100%|██████████| 18/18 [00:01<00:00, 16.89it/s]\n",
      "Iteration: 100%|██████████| 7/7 [00:00<00:00, 15.42it/s]\n"
     ]
    },
    {
     "name": "stdout",
     "output_type": "stream",
     "text": [
      "{'Train':  best_epoch_indx:13\n",
      " auc:0.8909834014980212 \n",
      " apur:0.8692648169349911 \n",
      " f1:0.7785218406340234 \n",
      " precision:0.7523153645214913 \n",
      " recall:0.8066199872692552 \n",
      ", 'Validation':  best_epoch_indx:13\n",
      " auc:0.8571164103810153 \n",
      " apur:0.8291127013157981 \n",
      " f1:0.7509706045479756 \n",
      " precision:0.7279569892473118 \n",
      " recall:0.7754868270332188 \n",
      ", 'Test':  best_epoch_indx:13\n",
      " auc:0.8671783524212489 \n",
      " apur:0.8402896485703993 \n",
      " f1:0.7579040459871766 \n",
      " precision:0.7321657411362665 \n",
      " recall:0.7855178735105408 \n",
      "}\n",
      "=====Epoch 14\n",
      "Training...\n"
     ]
    },
    {
     "name": "stderr",
     "output_type": "stream",
     "text": [
      "Iteration: 100%|██████████| 62/62 [00:09<00:00,  6.24it/s]\n",
      "Iteration:   3%|▎         | 2/62 [00:00<00:04, 13.19it/s]"
     ]
    },
    {
     "name": "stdout",
     "output_type": "stream",
     "text": [
      "Evaluating...\n"
     ]
    },
    {
     "name": "stderr",
     "output_type": "stream",
     "text": [
      "Iteration: 100%|██████████| 62/62 [00:03<00:00, 15.70it/s]\n",
      "Iteration: 100%|██████████| 18/18 [00:01<00:00, 16.80it/s]\n",
      "Iteration: 100%|██████████| 7/7 [00:00<00:00, 16.29it/s]\n",
      "Iteration:   0%|          | 0/62 [00:00<?, ?it/s]"
     ]
    },
    {
     "name": "stdout",
     "output_type": "stream",
     "text": [
      "{'Train':  best_epoch_indx:14\n",
      " auc:0.890406182694703 \n",
      " apur:0.8648279314447987 \n",
      " f1:0.7796589745134662 \n",
      " precision:0.7401052390757263 \n",
      " recall:0.8236791852323361 \n",
      ", 'Validation':  best_epoch_indx:14\n",
      " auc:0.8495406528052576 \n",
      " apur:0.8227573705147825 \n",
      " f1:0.7457994579945799 \n",
      " precision:0.7078189300411523 \n",
      " recall:0.7880870561282932 \n",
      ", 'Test':  best_epoch_indx:14\n",
      " auc:0.8659603983618649 \n",
      " apur:0.8369266522548028 \n",
      " f1:0.7596258429410484 \n",
      " precision:0.7229813664596273 \n",
      " recall:0.8001833180568286 \n",
      "}\n",
      "=====Epoch 15\n",
      "Training...\n"
     ]
    },
    {
     "name": "stderr",
     "output_type": "stream",
     "text": [
      "Iteration: 100%|██████████| 62/62 [00:09<00:00,  6.27it/s]\n",
      "Iteration:   0%|          | 0/62 [00:00<?, ?it/s]"
     ]
    },
    {
     "name": "stdout",
     "output_type": "stream",
     "text": [
      "Evaluating...\n"
     ]
    },
    {
     "name": "stderr",
     "output_type": "stream",
     "text": [
      "Iteration: 100%|██████████| 62/62 [00:03<00:00, 15.65it/s]\n",
      "Iteration: 100%|██████████| 18/18 [00:01<00:00, 16.72it/s]\n",
      "Iteration: 100%|██████████| 7/7 [00:00<00:00, 15.78it/s]\n"
     ]
    },
    {
     "name": "stdout",
     "output_type": "stream",
     "text": [
      "{'Train':  best_epoch_indx:15\n",
      " auc:0.8961941635686913 \n",
      " apur:0.8783029031273829 \n",
      " f1:0.7836729772096949 \n",
      " precision:0.74435917993357 \n",
      " recall:0.8273711012094207 \n",
      ", 'Validation':  best_epoch_indx:15\n",
      " auc:0.8542459725163047 \n",
      " apur:0.8360733054884372 \n",
      " f1:0.7390350877192984 \n",
      " precision:0.7087276550998949 \n",
      " recall:0.7720504009163803 \n",
      ", 'Test':  best_epoch_indx:15\n",
      " auc:0.8681890706638644 \n",
      " apur:0.8461633582504542 \n",
      " f1:0.7599913588248002 \n",
      " precision:0.7188393951777687 \n",
      " recall:0.806141154903758 \n",
      "}\n",
      "=====Epoch 16\n",
      "Training...\n"
     ]
    },
    {
     "name": "stderr",
     "output_type": "stream",
     "text": [
      "Iteration: 100%|██████████| 62/62 [00:09<00:00,  6.25it/s]\n",
      "Iteration:   3%|▎         | 2/62 [00:00<00:04, 13.26it/s]"
     ]
    },
    {
     "name": "stdout",
     "output_type": "stream",
     "text": [
      "Evaluating...\n"
     ]
    },
    {
     "name": "stderr",
     "output_type": "stream",
     "text": [
      "Iteration: 100%|██████████| 62/62 [00:04<00:00, 15.03it/s]\n",
      "Iteration: 100%|██████████| 18/18 [00:01<00:00, 16.75it/s]\n",
      "Iteration: 100%|██████████| 7/7 [00:00<00:00, 14.76it/s]\n"
     ]
    },
    {
     "name": "stdout",
     "output_type": "stream",
     "text": [
      "{'Train':  best_epoch_indx:16\n",
      " auc:0.9073939555700701 \n",
      " apur:0.8869386359887329 \n",
      " f1:0.7921791598978881 \n",
      " precision:0.7277475748854066 \n",
      " recall:0.8691279439847232 \n",
      ", 'Validation':  best_epoch_indx:16\n",
      " auc:0.8670544698608845 \n",
      " apur:0.8421073651875827 \n",
      " f1:0.7547169811320755 \n",
      " precision:0.6956521739130435 \n",
      " recall:0.8247422680412371 \n",
      ", 'Test':  best_epoch_indx:16\n",
      " auc:0.8763704876445482 \n",
      " apur:0.8492427917571541 \n",
      " f1:0.7662229617304493 \n",
      " precision:0.7014470677837015 \n",
      " recall:0.844179651695692 \n",
      "}\n",
      "=====Epoch 17\n",
      "Training...\n"
     ]
    },
    {
     "name": "stderr",
     "output_type": "stream",
     "text": [
      "Iteration: 100%|██████████| 62/62 [00:09<00:00,  6.23it/s]\n",
      "Iteration:   3%|▎         | 2/62 [00:00<00:04, 13.29it/s]"
     ]
    },
    {
     "name": "stdout",
     "output_type": "stream",
     "text": [
      "Evaluating...\n"
     ]
    },
    {
     "name": "stderr",
     "output_type": "stream",
     "text": [
      "Iteration: 100%|██████████| 62/62 [00:03<00:00, 15.72it/s]\n",
      "Iteration: 100%|██████████| 18/18 [00:01<00:00, 16.71it/s]\n",
      "Iteration: 100%|██████████| 7/7 [00:00<00:00, 16.17it/s]\n"
     ]
    },
    {
     "name": "stdout",
     "output_type": "stream",
     "text": [
      "{'Train':  best_epoch_indx:17\n",
      " auc:0.9135657346329911 \n",
      " apur:0.8945894237862594 \n",
      " f1:0.8050405040504051 \n",
      " precision:0.7614074914869466 \n",
      " recall:0.8539783577339274 \n",
      ", 'Validation':  best_epoch_indx:17\n",
      " auc:0.8673070915338956 \n",
      " apur:0.8445958139813428 \n",
      " f1:0.7528641571194763 \n",
      " precision:0.71875 \n",
      " recall:0.7903780068728522 \n",
      ", 'Test':  best_epoch_indx:17\n",
      " auc:0.8795530156437581 \n",
      " apur:0.8545509932602722 \n",
      " f1:0.7733448350226441 \n",
      " precision:0.7303462321792261 \n",
      " recall:0.8217231897341888 \n",
      "}\n",
      "=====Epoch 18\n",
      "Training...\n"
     ]
    },
    {
     "name": "stderr",
     "output_type": "stream",
     "text": [
      "Iteration: 100%|██████████| 62/62 [00:09<00:00,  6.23it/s]\n",
      "Iteration:   3%|▎         | 2/62 [00:00<00:04, 13.21it/s]"
     ]
    },
    {
     "name": "stdout",
     "output_type": "stream",
     "text": [
      "Evaluating...\n"
     ]
    },
    {
     "name": "stderr",
     "output_type": "stream",
     "text": [
      "Iteration: 100%|██████████| 62/62 [00:04<00:00, 15.02it/s]\n",
      "Iteration: 100%|██████████| 18/18 [00:01<00:00, 16.69it/s]\n",
      "Iteration: 100%|██████████| 7/7 [00:00<00:00, 16.03it/s]\n"
     ]
    },
    {
     "name": "stdout",
     "output_type": "stream",
     "text": [
      "{'Train':  best_epoch_indx:18\n",
      " auc:0.9202919722286587 \n",
      " apur:0.9019659572132175 \n",
      " f1:0.8132396449704141 \n",
      " precision:0.788266220575935 \n",
      " recall:0.8398472310630172 \n",
      ", 'Validation':  best_epoch_indx:18\n",
      " auc:0.8746572251726891 \n",
      " apur:0.8513338020072336 \n",
      " f1:0.7620650953984287 \n",
      " precision:0.746974697469747 \n",
      " recall:0.7777777777777778 \n",
      ", 'Test':  best_epoch_indx:18\n",
      " auc:0.8853328580642971 \n",
      " apur:0.859587042743938 \n",
      " f1:0.7765649365114725 \n",
      " precision:0.7555266579973993 \n",
      " recall:0.7988084326306141 \n",
      "}\n",
      "=====Epoch 19\n",
      "Training...\n"
     ]
    },
    {
     "name": "stderr",
     "output_type": "stream",
     "text": [
      "Iteration: 100%|██████████| 62/62 [00:09<00:00,  6.24it/s]\n",
      "Iteration:   3%|▎         | 2/62 [00:00<00:04, 13.16it/s]"
     ]
    },
    {
     "name": "stdout",
     "output_type": "stream",
     "text": [
      "Evaluating...\n"
     ]
    },
    {
     "name": "stderr",
     "output_type": "stream",
     "text": [
      "Iteration: 100%|██████████| 62/62 [00:03<00:00, 15.70it/s]\n",
      "Iteration: 100%|██████████| 18/18 [00:01<00:00, 16.86it/s]\n",
      "Iteration: 100%|██████████| 7/7 [00:00<00:00, 15.49it/s]\n"
     ]
    },
    {
     "name": "stdout",
     "output_type": "stream",
     "text": [
      "{'Train':  best_epoch_indx:19\n",
      " auc:0.9236280728821737 \n",
      " apur:0.9065752537246203 \n",
      " f1:0.8186490000619157 \n",
      " precision:0.7968900675024108 \n",
      " recall:0.8416295353278167 \n",
      ", 'Validation':  best_epoch_indx:19\n",
      " auc:0.8759661332685389 \n",
      " apur:0.8530659106380176 \n",
      " f1:0.7635135135135136 \n",
      " precision:0.7508305647840532 \n",
      " recall:0.7766323024054983 \n",
      ", 'Test':  best_epoch_indx:19\n",
      " auc:0.8864379357275783 \n",
      " apur:0.8616689349102618 \n",
      " f1:0.7761127264594051 \n",
      " precision:0.7579729139362167 \n",
      " recall:0.7951420714940421 \n",
      "}\n",
      "=====Epoch 20\n",
      "Training...\n"
     ]
    },
    {
     "name": "stderr",
     "output_type": "stream",
     "text": [
      "Iteration: 100%|██████████| 62/62 [00:09<00:00,  6.24it/s]\n",
      "Iteration:   3%|▎         | 2/62 [00:00<00:04, 13.01it/s]"
     ]
    },
    {
     "name": "stdout",
     "output_type": "stream",
     "text": [
      "Evaluating...\n"
     ]
    },
    {
     "name": "stderr",
     "output_type": "stream",
     "text": [
      "Iteration: 100%|██████████| 62/62 [00:03<00:00, 15.70it/s]\n",
      "Iteration: 100%|██████████| 18/18 [00:01<00:00, 16.72it/s]\n",
      "Iteration: 100%|██████████| 7/7 [00:00<00:00, 15.74it/s]\n"
     ]
    },
    {
     "name": "stdout",
     "output_type": "stream",
     "text": [
      "{'Train':  best_epoch_indx:20\n",
      " auc:0.925449894979395 \n",
      " apur:0.9084780368669969 \n",
      " f1:0.8185347845458596 \n",
      " precision:0.8184826883910387 \n",
      " recall:0.818586887332909 \n",
      ", 'Validation':  best_epoch_indx:20\n",
      " auc:0.8782845638515742 \n",
      " apur:0.8542862745470681 \n",
      " f1:0.7650462962962963 \n",
      " precision:0.7730994152046784 \n",
      " recall:0.7571592210767468 \n",
      ", 'Test':  best_epoch_indx:20\n",
      " auc:0.8870398145833527 \n",
      " apur:0.861214100832317 \n",
      " f1:0.7704728950403692 \n",
      " precision:0.7756618671620994 \n",
      " recall:0.7653528872593951 \n",
      "}\n",
      "=====Epoch 21\n",
      "Training...\n"
     ]
    },
    {
     "name": "stderr",
     "output_type": "stream",
     "text": [
      "Iteration: 100%|██████████| 62/62 [00:10<00:00,  6.11it/s]\n",
      "Iteration:   3%|▎         | 2/62 [00:00<00:04, 13.23it/s]"
     ]
    },
    {
     "name": "stdout",
     "output_type": "stream",
     "text": [
      "Evaluating...\n"
     ]
    },
    {
     "name": "stderr",
     "output_type": "stream",
     "text": [
      "Iteration: 100%|██████████| 62/62 [00:03<00:00, 15.72it/s]\n",
      "Iteration: 100%|██████████| 18/18 [00:01<00:00, 16.79it/s]\n",
      "Iteration: 100%|██████████| 7/7 [00:00<00:00, 16.39it/s]\n",
      "Iteration:   0%|          | 0/62 [00:00<?, ?it/s]"
     ]
    },
    {
     "name": "stdout",
     "output_type": "stream",
     "text": [
      "{'Train':  best_epoch_indx:21\n",
      " auc:0.9252010505454872 \n",
      " apur:0.9084144412995729 \n",
      " f1:0.8215059085565798 \n",
      " precision:0.7991092922484352 \n",
      " recall:0.8451941438574156 \n",
      ", 'Validation':  best_epoch_indx:21\n",
      " auc:0.8762722683112145 \n",
      " apur:0.8529648256757884 \n",
      " f1:0.7681895093062606 \n",
      " precision:0.7566666666666667 \n",
      " recall:0.7800687285223368 \n",
      ", 'Test':  best_epoch_indx:21\n",
      " auc:0.8851546321757138 \n",
      " apur:0.8606201651818933 \n",
      " f1:0.7748995087092453 \n",
      " precision:0.7556620209059234 \n",
      " recall:0.7951420714940421 \n",
      "}\n",
      "=====Epoch 22\n",
      "Training...\n"
     ]
    },
    {
     "name": "stderr",
     "output_type": "stream",
     "text": [
      "Iteration: 100%|██████████| 62/62 [00:09<00:00,  6.26it/s]\n",
      "Iteration:   0%|          | 0/62 [00:00<?, ?it/s]"
     ]
    },
    {
     "name": "stdout",
     "output_type": "stream",
     "text": [
      "Evaluating...\n"
     ]
    },
    {
     "name": "stderr",
     "output_type": "stream",
     "text": [
      "Iteration: 100%|██████████| 62/62 [00:03<00:00, 15.72it/s]\n",
      "Iteration: 100%|██████████| 18/18 [00:01<00:00, 16.78it/s]\n",
      "Iteration: 100%|██████████| 7/7 [00:00<00:00, 16.40it/s]\n"
     ]
    },
    {
     "name": "stdout",
     "output_type": "stream",
     "text": [
      "{'Train':  best_epoch_indx:22\n",
      " auc:0.9230059469097336 \n",
      " apur:0.9062072896024016 \n",
      " f1:0.8164010220221438 \n",
      " precision:0.7817779331236164 \n",
      " recall:0.8542329726288987 \n",
      ", 'Validation':  best_epoch_indx:22\n",
      " auc:0.8755577925108281 \n",
      " apur:0.8529339345669514 \n",
      " f1:0.752486187845304 \n",
      " precision:0.7267876200640342 \n",
      " recall:0.7800687285223368 \n",
      ", 'Test':  best_epoch_indx:22\n",
      " auc:0.88160677968194 \n",
      " apur:0.8550597221136769 \n",
      " f1:0.7708609271523179 \n",
      " precision:0.7436115843270868 \n",
      " recall:0.8001833180568286 \n",
      "}\n",
      "=====Epoch 23\n",
      "Training...\n"
     ]
    },
    {
     "name": "stderr",
     "output_type": "stream",
     "text": [
      "Iteration: 100%|██████████| 62/62 [00:09<00:00,  6.23it/s]\n",
      "Iteration:   3%|▎         | 2/62 [00:00<00:04, 12.99it/s]"
     ]
    },
    {
     "name": "stdout",
     "output_type": "stream",
     "text": [
      "Evaluating...\n"
     ]
    },
    {
     "name": "stderr",
     "output_type": "stream",
     "text": [
      "Iteration: 100%|██████████| 62/62 [00:03<00:00, 15.56it/s]\n",
      "Iteration: 100%|██████████| 18/18 [00:01<00:00, 16.65it/s]\n",
      "Iteration: 100%|██████████| 7/7 [00:00<00:00, 16.29it/s]\n",
      "Iteration:   0%|          | 0/62 [00:00<?, ?it/s]"
     ]
    },
    {
     "name": "stdout",
     "output_type": "stream",
     "text": [
      "{'Train':  best_epoch_indx:23\n",
      " auc:0.9204158912423518 \n",
      " apur:0.9032891372341401 \n",
      " f1:0.8039540900948716 \n",
      " precision:0.8394292047658631 \n",
      " recall:0.7713558243157225 \n",
      ", 'Validation':  best_epoch_indx:23\n",
      " auc:0.8644993269850085 \n",
      " apur:0.8422009889822247 \n",
      " f1:0.7374166161309884 \n",
      " precision:0.7835051546391752 \n",
      " recall:0.6964490263459335 \n",
      ", 'Test':  best_epoch_indx:23\n",
      " auc:0.8838417786172139 \n",
      " apur:0.8605753807371526 \n",
      " f1:0.7688984881209503 \n",
      " precision:0.8070528967254408 \n",
      " recall:0.7341888175985335 \n",
      "}\n",
      "=====Epoch 24\n",
      "Training...\n"
     ]
    },
    {
     "name": "stderr",
     "output_type": "stream",
     "text": [
      "Iteration: 100%|██████████| 62/62 [00:09<00:00,  6.23it/s]\n",
      "Iteration:   0%|          | 0/62 [00:00<?, ?it/s]"
     ]
    },
    {
     "name": "stdout",
     "output_type": "stream",
     "text": [
      "Evaluating...\n"
     ]
    },
    {
     "name": "stderr",
     "output_type": "stream",
     "text": [
      "Iteration: 100%|██████████| 62/62 [00:04<00:00, 14.94it/s]\n",
      "Iteration: 100%|██████████| 18/18 [00:01<00:00, 16.72it/s]\n",
      "Iteration: 100%|██████████| 7/7 [00:00<00:00, 16.43it/s]\n"
     ]
    },
    {
     "name": "stdout",
     "output_type": "stream",
     "text": [
      "{'Train':  best_epoch_indx:24\n",
      " auc:0.9235066609521833 \n",
      " apur:0.9075551465179735 \n",
      " f1:0.8194796366108399 \n",
      " precision:0.7963007446552967 \n",
      " recall:0.8440483768300445 \n",
      ", 'Validation':  best_epoch_indx:24\n",
      " auc:0.8679820349350704 \n",
      " apur:0.842821186733677 \n",
      " f1:0.7581989994441357 \n",
      " precision:0.7365010799136069 \n",
      " recall:0.7812142038946163 \n",
      ", 'Test':  best_epoch_indx:24\n",
      " auc:0.8820337502738969 \n",
      " apur:0.8571303635551173 \n",
      " f1:0.7687527740790058 \n",
      " precision:0.7452667814113597 \n",
      " recall:0.7937671860678277 \n",
      "}\n",
      "=====Epoch 25\n",
      "Training...\n"
     ]
    },
    {
     "name": "stderr",
     "output_type": "stream",
     "text": [
      "Iteration: 100%|██████████| 62/62 [00:09<00:00,  6.24it/s]\n",
      "Iteration:   3%|▎         | 2/62 [00:00<00:04, 13.18it/s]"
     ]
    },
    {
     "name": "stdout",
     "output_type": "stream",
     "text": [
      "Evaluating...\n"
     ]
    },
    {
     "name": "stderr",
     "output_type": "stream",
     "text": [
      "Iteration: 100%|██████████| 62/62 [00:03<00:00, 15.69it/s]\n",
      "Iteration: 100%|██████████| 18/18 [00:01<00:00, 16.76it/s]\n",
      "Iteration: 100%|██████████| 7/7 [00:00<00:00, 15.13it/s]\n"
     ]
    },
    {
     "name": "stdout",
     "output_type": "stream",
     "text": [
      "{'Train':  best_epoch_indx:25\n",
      " auc:0.932386816932093 \n",
      " apur:0.9163492943088237 \n",
      " f1:0.8287744450732566 \n",
      " precision:0.8188369781312127 \n",
      " recall:0.8389560789306174 \n",
      ", 'Validation':  best_epoch_indx:25\n",
      " auc:0.8825781680879046 \n",
      " apur:0.8599150289811661 \n",
      " f1:0.7571592210767468 \n",
      " precision:0.7571592210767468 \n",
      " recall:0.7571592210767468 \n",
      ", 'Test':  best_epoch_indx:25\n",
      " auc:0.8907587947917921 \n",
      " apur:0.8645508637782908 \n",
      " f1:0.7819136789221283 \n",
      " precision:0.7792444242148384 \n",
      " recall:0.7846012832263978 \n",
      "}\n",
      "=====Epoch 26\n",
      "Training...\n"
     ]
    },
    {
     "name": "stderr",
     "output_type": "stream",
     "text": [
      "Iteration: 100%|██████████| 62/62 [00:09<00:00,  6.24it/s]\n",
      "Iteration:   3%|▎         | 2/62 [00:00<00:04, 12.83it/s]"
     ]
    },
    {
     "name": "stdout",
     "output_type": "stream",
     "text": [
      "Evaluating...\n"
     ]
    },
    {
     "name": "stderr",
     "output_type": "stream",
     "text": [
      "Iteration: 100%|██████████| 62/62 [00:04<00:00, 15.09it/s]\n",
      "Iteration: 100%|██████████| 18/18 [00:01<00:00, 16.76it/s]\n",
      "Iteration: 100%|██████████| 7/7 [00:00<00:00, 16.32it/s]\n",
      "Iteration:   0%|          | 0/62 [00:00<?, ?it/s]"
     ]
    },
    {
     "name": "stdout",
     "output_type": "stream",
     "text": [
      "{'Train':  best_epoch_indx:26\n",
      " auc:0.936357620662038 \n",
      " apur:0.9224573754935438 \n",
      " f1:0.8348761571178384 \n",
      " precision:0.8206074019427025 \n",
      " recall:0.8496499045194144 \n",
      ", 'Validation':  best_epoch_indx:26\n",
      " auc:0.8793278335088187 \n",
      " apur:0.8602082484650493 \n",
      " f1:0.7645051194539251 \n",
      " precision:0.7593220338983051 \n",
      " recall:0.7697594501718213 \n",
      ", 'Test':  best_epoch_indx:26\n",
      " auc:0.8882917164310382 \n",
      " apur:0.866693803965888 \n",
      " f1:0.7778028423189713 \n",
      " precision:0.7658818302976454 \n",
      " recall:0.7901008249312558 \n",
      "}\n",
      "=====Epoch 27\n",
      "Training...\n"
     ]
    },
    {
     "name": "stderr",
     "output_type": "stream",
     "text": [
      "Iteration: 100%|██████████| 62/62 [00:09<00:00,  6.23it/s]\n",
      "Iteration:   0%|          | 0/62 [00:00<?, ?it/s]"
     ]
    },
    {
     "name": "stdout",
     "output_type": "stream",
     "text": [
      "Evaluating...\n"
     ]
    },
    {
     "name": "stderr",
     "output_type": "stream",
     "text": [
      "Iteration: 100%|██████████| 62/62 [00:03<00:00, 15.62it/s]\n",
      "Iteration: 100%|██████████| 18/18 [00:01<00:00, 16.75it/s]\n",
      "Iteration: 100%|██████████| 7/7 [00:00<00:00, 16.11it/s]\n"
     ]
    },
    {
     "name": "stdout",
     "output_type": "stream",
     "text": [
      "{'Train':  best_epoch_indx:27\n",
      " auc:0.9428873171875951 \n",
      " apur:0.9294572831949719 \n",
      " f1:0.8413836477987421 \n",
      " precision:0.8314481044126787 \n",
      " recall:0.8515595162316996 \n",
      ", 'Validation':  best_epoch_indx:27\n",
      " auc:0.8868640586853646 \n",
      " apur:0.8671804445772378 \n",
      " f1:0.7727797001153403 \n",
      " precision:0.778164924506388 \n",
      " recall:0.7674684994272624 \n",
      ", 'Test':  best_epoch_indx:27\n",
      " auc:0.8926399651880861 \n",
      " apur:0.8689322984190946 \n",
      " f1:0.7831215970961888 \n",
      " precision:0.7753818508535489 \n",
      " recall:0.7910174152153987 \n",
      "}\n",
      "=====Epoch 28\n",
      "Training...\n"
     ]
    },
    {
     "name": "stderr",
     "output_type": "stream",
     "text": [
      "Iteration: 100%|██████████| 62/62 [00:09<00:00,  6.25it/s]\n",
      "Iteration:   3%|▎         | 2/62 [00:00<00:04, 13.26it/s]"
     ]
    },
    {
     "name": "stdout",
     "output_type": "stream",
     "text": [
      "Evaluating...\n"
     ]
    },
    {
     "name": "stderr",
     "output_type": "stream",
     "text": [
      "Iteration: 100%|██████████| 62/62 [00:03<00:00, 15.71it/s]\n",
      "Iteration: 100%|██████████| 18/18 [00:01<00:00, 16.77it/s]\n",
      "Iteration: 100%|██████████| 7/7 [00:00<00:00, 15.23it/s]\n"
     ]
    },
    {
     "name": "stdout",
     "output_type": "stream",
     "text": [
      "{'Train':  best_epoch_indx:28\n",
      " auc:0.948186881234919 \n",
      " apur:0.9350870347800861 \n",
      " f1:0.8493945509586276 \n",
      " precision:0.8416447944007 \n",
      " recall:0.8572883513685551 \n",
      ", 'Validation':  best_epoch_indx:28\n",
      " auc:0.8878716527628326 \n",
      " apur:0.8661937815444763 \n",
      " f1:0.7741190063547082 \n",
      " precision:0.7808857808857809 \n",
      " recall:0.7674684994272624 \n",
      ", 'Test':  best_epoch_indx:28\n",
      " auc:0.8956728914565762 \n",
      " apur:0.8712372429159743 \n",
      " f1:0.78698224852071 \n",
      " precision:0.7816455696202531 \n",
      " recall:0.7923923006416131 \n",
      "}\n",
      "=====Epoch 29\n",
      "Training...\n"
     ]
    },
    {
     "name": "stderr",
     "output_type": "stream",
     "text": [
      "Iteration: 100%|██████████| 62/62 [00:10<00:00,  6.09it/s]\n",
      "Iteration:   0%|          | 0/62 [00:00<?, ?it/s]"
     ]
    },
    {
     "name": "stdout",
     "output_type": "stream",
     "text": [
      "Evaluating...\n"
     ]
    },
    {
     "name": "stderr",
     "output_type": "stream",
     "text": [
      "Iteration: 100%|██████████| 62/62 [00:03<00:00, 15.68it/s]\n",
      "Iteration: 100%|██████████| 18/18 [00:01<00:00, 16.73it/s]\n",
      "Iteration: 100%|██████████| 7/7 [00:00<00:00, 16.02it/s]\n"
     ]
    },
    {
     "name": "stdout",
     "output_type": "stream",
     "text": [
      "{'Train':  best_epoch_indx:29\n",
      " auc:0.9515700626574409 \n",
      " apur:0.9391052245211128 \n",
      " f1:0.8544654088050314 \n",
      " precision:0.8443753884400249 \n",
      " recall:0.86479949077021 \n",
      ", 'Validation':  best_epoch_indx:29\n",
      " auc:0.8898810556886158 \n",
      " apur:0.8683497673915703 \n",
      " f1:0.774712643678161 \n",
      " precision:0.7773933102652826 \n",
      " recall:0.7720504009163803 \n",
      ", 'Test':  best_epoch_indx:29\n",
      " auc:0.8969764865273574 \n",
      " apur:0.8738747637559381 \n",
      " f1:0.7883178628028072 \n",
      " precision:0.7789709172259508 \n",
      " recall:0.7978918423464711 \n",
      "}\n",
      "Finished training!\n",
      "<<< joined hyperparam search process\n",
      "released_gpu_num: 0\n"
     ]
    }
   ],
   "source": [
    "import torch.multiprocessing as mp\n",
    "mp.set_start_method(\"spawn\", force=True)\n",
    "\n",
    "queue = mp.Queue()\n",
    "q_processes = []\n",
    "\n",
    "# partition = fold_partitions[0]\n",
    "time_stamp = datetime.datetime.now().strftime('%Y-%m-%d_%H-%M-%S')\n",
    "\n",
    "print(\"Start: \" + time_stamp)\n",
    "\n",
    "for q_i in range(min(n_gpu, len(fold_partitions))):\n",
    "#     device_gpu = get_device(True, index=q_i)\n",
    "    partition = fold_partitions[q_i]\n",
    "    exp_dir = create_directory(os.path.join(targetdata_dir_exp, \"fold_\"+str(q_i)+\"_\"+time_stamp))\n",
    "    create_directory(os.path.join(exp_dir, \"predictions\"))\n",
    "\n",
    "#     tphp = generate_tp_hp(tp, hyperparam_space[q_i], hp_names)\n",
    "    \n",
    "    q_process = create_q_process(queue, dataset, q_i, tp, exp_dir, partition)\n",
    "    q_processes.append(q_process)\n",
    "    spawn_q_process(q_process)\n",
    "\n",
    "spawned_processes = n_gpu\n",
    "    \n",
    "# for q_i in range(len(hyperparam_space)):\n",
    "for q_i in range(min(n_gpu, len(fold_partitions))):\n",
    "    join_q_process(q_processes[q_i])\n",
    "    released_gpu_num = queue.get()\n",
    "    print(\"released_gpu_num:\", released_gpu_num)\n",
    "#     if(spawned_processes < len(hyperparam_space)):\n",
    "# #         device_gpu = get_device(True, index=q_i)\n",
    "#         time_stamp = datetime.datetime.now().strftime('%Y-%m-%d_%H-%M-%S')\n",
    "#         exp_dir = create_directory(os.path.join(targetdata_dir_exp, \"exp_\"+str(q_i)+\"_\"+time_stamp))\n",
    "#         tphp = generate_tp_hp(tp, hyperparam_space[q_i], hp_names)\n",
    "\n",
    "#         q_process = create_q_process(queue, used_dataset, released_gpu_num, tphp, exp_dir, partition)\n",
    "#         q_processes.append(q_process)\n",
    "#         spawn_q_process(q_process)\n",
    "#         spawned_processes = spawned_processes + 1"
   ]
  },
  {
   "cell_type": "code",
   "execution_count": 39,
   "metadata": {},
   "outputs": [
    {
     "name": "stdout",
     "output_type": "stream",
     "text": [
      "End: 2022-03-24_12-36-56\n"
     ]
    }
   ],
   "source": [
    "print(\"End: \" + datetime.datetime.now().strftime('%Y-%m-%d_%H-%M-%S'))\n"
   ]
  },
  {
   "cell_type": "code",
   "execution_count": null,
   "metadata": {},
   "outputs": [],
   "source": []
  }
 ],
 "metadata": {
  "kernelspec": {
   "display_name": "Python 3 (ipykernel)",
   "language": "python",
   "name": "python3"
  },
  "language_info": {
   "codemirror_mode": {
    "name": "ipython",
    "version": 3
   },
   "file_extension": ".py",
   "mimetype": "text/x-python",
   "name": "python",
   "nbconvert_exporter": "python",
   "pygments_lexer": "ipython3",
   "version": "3.9.9"
  }
 },
 "nbformat": 4,
 "nbformat_minor": 4
}
