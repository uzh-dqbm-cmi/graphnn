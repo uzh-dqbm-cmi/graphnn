{
 "cells": [
  {
   "cell_type": "code",
   "execution_count": 1,
   "metadata": {
    "scrolled": false
   },
   "outputs": [],
   "source": [
    "%load_ext autoreload\n",
    "%autoreload 2"
   ]
  },
  {
   "cell_type": "code",
   "execution_count": 2,
   "metadata": {},
   "outputs": [],
   "source": [
    "import os\n",
    "import sys\n",
    "import numpy as np\n",
    "import pandas as pd\n",
    "import datetime\n",
    "import seaborn as sns\n",
    "import ogb\n",
    "from tqdm import tqdm\n",
    "import hiplot as hip\n",
    "from copy import deepcopy\n",
    "import datetime"
   ]
  },
  {
   "cell_type": "code",
   "execution_count": 3,
   "metadata": {},
   "outputs": [],
   "source": [
    "import torch\n",
    "from torch_geometric.data import Data\n",
    "from torch_geometric.loader import DataLoader\n",
    "from torch.utils.data import Subset, TensorDataset"
   ]
  },
  {
   "cell_type": "code",
   "execution_count": 4,
   "metadata": {},
   "outputs": [
    {
     "name": "stdout",
     "output_type": "stream",
     "text": [
      "/cluster/home/skyriakos/chemprop_run/git/notebooks\n"
     ]
    }
   ],
   "source": [
    "cwd = os.getcwd()\n",
    "print(cwd)"
   ]
  },
  {
   "cell_type": "code",
   "execution_count": 5,
   "metadata": {},
   "outputs": [],
   "source": [
    "os.chdir('..')\n",
    "import deepadr\n",
    "from deepadr.dataset import *\n",
    "from deepadr.utilities import *\n",
    "from deepadr.run_workflow import *\n",
    "from deepadr.chemfeatures import *\n",
    "from deepadr.hyphelperv2 import *\n",
    "# from deepadr.model_gnn import GCN as testGCN\n",
    "from deepadr.model_gnn_ogb import GNN, DeepAdr_SiameseTrf, ExpressionNN\n",
    "# from deepadr.model_attn_siamese import *\n",
    "from ogb.graphproppred import Evaluator\n",
    "os.chdir(cwd)"
   ]
  },
  {
   "cell_type": "code",
   "execution_count": 6,
   "metadata": {},
   "outputs": [],
   "source": [
    "from rdkit.Chem.Draw import IPythonConsole\n",
    "from rdkit.Chem import Draw"
   ]
  },
  {
   "cell_type": "code",
   "execution_count": 7,
   "metadata": {},
   "outputs": [],
   "source": [
    "# from tdc.single_pred import Tox\n",
    "# from tdc.multi_pred import DDI"
   ]
  },
  {
   "cell_type": "code",
   "execution_count": 8,
   "metadata": {},
   "outputs": [],
   "source": [
    "rawdata_dir = '../data/raw/'\n",
    "processed_dir = '../data/processed/'\n",
    "up_dir = '..'"
   ]
  },
  {
   "cell_type": "code",
   "execution_count": 9,
   "metadata": {
    "scrolled": true
   },
   "outputs": [
    {
     "name": "stdout",
     "output_type": "stream",
     "text": [
      "number of GPUs available: 5\n",
      "cuda:0, name:GeForce GTX 1080 Ti\n",
      "total memory available: 10.91650390625 GB\n",
      "total memory allocated on device: 0.0 GB\n",
      "max memory allocated on device: 0.0 GB\n",
      "total memory cached on device: 0.0 GB\n",
      "max memory cached  on device: 0.0 GB\n",
      "\n",
      "cuda:1, name:GeForce GTX 1080 Ti\n",
      "total memory available: 10.91650390625 GB\n",
      "total memory allocated on device: 0.0 GB\n",
      "max memory allocated on device: 0.0 GB\n",
      "total memory cached on device: 0.0 GB\n",
      "max memory cached  on device: 0.0 GB\n",
      "\n",
      "cuda:2, name:GeForce GTX 1080 Ti\n",
      "total memory available: 10.91650390625 GB\n",
      "total memory allocated on device: 0.0 GB\n",
      "max memory allocated on device: 0.0 GB\n",
      "total memory cached on device: 0.0 GB\n",
      "max memory cached  on device: 0.0 GB\n",
      "\n",
      "cuda:3, name:GeForce GTX 1080 Ti\n",
      "total memory available: 10.91650390625 GB\n",
      "total memory allocated on device: 0.0 GB\n",
      "max memory allocated on device: 0.0 GB\n",
      "total memory cached on device: 0.0 GB\n",
      "max memory cached  on device: 0.0 GB\n",
      "\n",
      "cuda:4, name:GeForce GTX 1080 Ti\n",
      "total memory available: 10.91650390625 GB\n",
      "total memory allocated on device: 0.0 GB\n",
      "max memory allocated on device: 0.0 GB\n",
      "total memory cached on device: 0.0 GB\n",
      "max memory cached  on device: 0.0 GB\n",
      "\n"
     ]
    }
   ],
   "source": [
    "report_available_cuda_devices()"
   ]
  },
  {
   "cell_type": "code",
   "execution_count": 10,
   "metadata": {},
   "outputs": [
    {
     "data": {
      "text/plain": [
       "5"
      ]
     },
     "execution_count": 10,
     "metadata": {},
     "output_type": "execute_result"
    }
   ],
   "source": [
    "n_gpu = torch.cuda.device_count()\n",
    "n_gpu"
   ]
  },
  {
   "cell_type": "code",
   "execution_count": 11,
   "metadata": {},
   "outputs": [],
   "source": [
    "device_cpu = get_device(to_gpu=False)\n",
    "# device_gpu = get_device(True, index=0)\n",
    "\n",
    "# fdtype = torch.float32"
   ]
  },
  {
   "cell_type": "code",
   "execution_count": 12,
   "metadata": {},
   "outputs": [
    {
     "name": "stdout",
     "output_type": "stream",
     "text": [
      "torch: 1.9.1\n",
      "CUDA: 11.1\n",
      "3.9.9 | packaged by conda-forge | (main, Dec 20 2021, 02:41:03) \n",
      "[GCC 9.4.0]\n"
     ]
    }
   ],
   "source": [
    "print(\"torch:\", torch.__version__)\n",
    "print(\"CUDA:\", torch.version.cuda)\n",
    "print(sys.version)"
   ]
  },
  {
   "cell_type": "code",
   "execution_count": 13,
   "metadata": {},
   "outputs": [],
   "source": [
    "# print(torch.cuda.memory_summary(device=device_gpu))"
   ]
  },
  {
   "cell_type": "markdown",
   "metadata": {},
   "source": [
    "### Preparing dataset "
   ]
  },
  {
   "cell_type": "code",
   "execution_count": 14,
   "metadata": {},
   "outputs": [],
   "source": [
    "score = 'zip_thresh'\n",
    "score_val = 1"
   ]
  },
  {
   "cell_type": "code",
   "execution_count": 15,
   "metadata": {},
   "outputs": [],
   "source": [
    "# TDC Tox\n",
    "# DSdataset_name = 'SynergxZloewe' #'OncoPolyPharmacology' #'DrugComb'\n",
    "DSdataset_name = f'DrugComb_{score}_{score_val}' #'DrugComb'\n",
    "\n",
    "\n",
    "#fname_suffix = ds_config[\"fname_suffix\"]\n",
    "# similarity_types = ['chem']\n",
    "# kernel_option = 'sqeuclidean'\n",
    "data_fname = 'data_v1'\n",
    "# interact_matfname = ds_config[\"interact_matfname\"]\n",
    "# exp_iden = 'simtypeall'\n",
    "# ddi_interaction_labels_pth = ds_config[\"ddi_interaction_labels_pth\"]\n",
    "\n",
    "# up_dir, processed_dir, DSdataset_name, data_fname"
   ]
  },
  {
   "cell_type": "code",
   "execution_count": 16,
   "metadata": {
    "scrolled": true
   },
   "outputs": [
    {
     "name": "stdout",
     "output_type": "stream",
     "text": [
      "path_current_dir /cluster/home/skyriakos/chemprop_run/git/deepadr\n",
      "path_current_dir /cluster/home/skyriakos/chemprop_run/git/deepadr\n",
      "path_current_dir /cluster/home/skyriakos/chemprop_run/git/deepadr\n",
      "path_current_dir /cluster/home/skyriakos/chemprop_run/git/deepadr\n",
      "/cluster/home/skyriakos/chemprop_run/git/data/processed/DrugComb_loewe_thresh_1/data_v1\n"
     ]
    }
   ],
   "source": [
    "targetdata_dir = create_directory(os.path.join(processed_dir, DSdataset_name, data_fname))\n",
    "targetdata_dir_raw = create_directory(os.path.join(targetdata_dir, \"raw\"))\n",
    "targetdata_dir_processed = create_directory(os.path.join(targetdata_dir, \"processed\"))\n",
    "targetdata_dir_exp = create_directory(os.path.join(targetdata_dir, \"experiments\"))\n",
    "# # ReaderWriter.dump_data(dpartitions, os.path.join(targetdata_dir, 'data_partitions.pkl'))\n",
    "print(targetdata_dir)"
   ]
  },
  {
   "cell_type": "code",
   "execution_count": 17,
   "metadata": {},
   "outputs": [
    {
     "name": "stdout",
     "output_type": "stream",
     "text": [
      "CPU times: user 5.39 ms, sys: 1.38 s, total: 1.39 s\n",
      "Wall time: 2.67 s\n"
     ]
    }
   ],
   "source": [
    "%%time\n",
    "\n",
    "# Make sure to first run the \"data_generation\" notebook first\n",
    "\n",
    "dataset = MoleculeDataset(root=targetdata_dir)"
   ]
  },
  {
   "cell_type": "code",
   "execution_count": 18,
   "metadata": {},
   "outputs": [],
   "source": [
    "# print()\n",
    "# print(f'Dataset: {dataset}:')\n",
    "# print('====================')\n",
    "# print(f'Number of graphs: {len(dataset)}')\n",
    "# print(f'Number of features: {dataset.num_features}')\n",
    "# print(f'Number of classes: {dataset.num_classes}')\n",
    "\n",
    "# # data0 = dataset[0]  # Get the first graph object.\n",
    "\n",
    "# # print()\n",
    "# # print(data)\n",
    "# # print('=============================================================')\n",
    "\n",
    "# # # Gather some statistics about the first graph.\n",
    "# # print(f'Number of nodes: {data.num_nodes}')\n",
    "# # print(f'Number of edges: {data.num_edges}')\n",
    "# # print(f'Average node degree: {data.num_edges / data.num_nodes:.2f}')\n",
    "# # print(f'Contains isolated nodes: {data.contains_isolated_nodes()}')\n",
    "# # print(f'Contains self-loops: {data.contains_self_loops()}')\n",
    "# # print(f'Is undirected: {data.is_undirected()}')"
   ]
  },
  {
   "cell_type": "code",
   "execution_count": 19,
   "metadata": {
    "scrolled": true
   },
   "outputs": [],
   "source": [
    "# data0"
   ]
  },
  {
   "cell_type": "code",
   "execution_count": 20,
   "metadata": {},
   "outputs": [],
   "source": [
    "# data0.expression.shape"
   ]
  },
  {
   "cell_type": "code",
   "execution_count": 21,
   "metadata": {},
   "outputs": [],
   "source": [
    "# data0.y"
   ]
  },
  {
   "cell_type": "code",
   "execution_count": 22,
   "metadata": {},
   "outputs": [],
   "source": [
    "# dataset.tensors[1]"
   ]
  },
  {
   "cell_type": "code",
   "execution_count": 23,
   "metadata": {},
   "outputs": [],
   "source": [
    "# used_dataset = dataset\n",
    "\n",
    "# If you want to use a smaller subset of the dataset for testing\n",
    "# smaller_dataset_len = int(len(dataset)/1)\n",
    "# used_dataset = dataset[:smaller_dataset_len]"
   ]
  },
  {
   "cell_type": "code",
   "execution_count": 24,
   "metadata": {},
   "outputs": [],
   "source": [
    "# type(used_dataset)"
   ]
  },
  {
   "cell_type": "code",
   "execution_count": 25,
   "metadata": {},
   "outputs": [
    {
     "data": {
      "text/plain": [
       "tensor([0, 0, 0,  ..., 0, 0, 0], dtype=torch.int32)"
      ]
     },
     "execution_count": 25,
     "metadata": {},
     "output_type": "execute_result"
    }
   ],
   "source": [
    "dataset.data.y"
   ]
  },
  {
   "cell_type": "code",
   "execution_count": 26,
   "metadata": {
    "scrolled": true
   },
   "outputs": [
    {
     "name": "stdout",
     "output_type": "stream",
     "text": [
      "fold_num: 0\n",
      "train data\n",
      "class: 0 norm count: 0.8319548680247103\n",
      "class: 1 norm count: 0.16804513197528972\n",
      "validation data\n",
      "class: 0 norm count: 0.8319932613523241\n",
      "class: 1 norm count: 0.16800673864767593\n",
      "test data\n",
      "class: 0 norm count: 0.8319549102493414\n",
      "class: 1 norm count: 0.16804508975065857\n",
      "\n",
      "-------------------------\n",
      "fold_num: 1\n",
      "train data\n",
      "class: 0 norm count: 0.8319548680247103\n",
      "class: 1 norm count: 0.16804513197528972\n",
      "validation data\n",
      "class: 0 norm count: 0.8319932613523241\n",
      "class: 1 norm count: 0.16800673864767593\n",
      "test data\n",
      "class: 0 norm count: 0.8319549102493414\n",
      "class: 1 norm count: 0.16804508975065857\n",
      "\n",
      "-------------------------\n",
      "fold_num: 2\n",
      "train data\n",
      "class: 0 norm count: 0.8319562979161526\n",
      "class: 1 norm count: 0.16804370208384742\n",
      "validation data\n",
      "class: 0 norm count: 0.8319166858105521\n",
      "class: 1 norm count: 0.16808331418944789\n",
      "test data\n",
      "class: 0 norm count: 0.8319803951600552\n",
      "class: 1 norm count: 0.16801960483994485\n",
      "\n",
      "-------------------------\n",
      "fold_num: 3\n",
      "train data\n",
      "class: 0 norm count: 0.8319562979161526\n",
      "class: 1 norm count: 0.16804370208384742\n",
      "validation data\n",
      "class: 0 norm count: 0.8319932613523241\n",
      "class: 1 norm count: 0.16800673864767593\n",
      "test data\n",
      "class: 0 norm count: 0.8319497625976413\n",
      "class: 1 norm count: 0.16805023740235872\n",
      "\n",
      "-------------------------\n",
      "fold_num: 4\n",
      "train data\n",
      "class: 0 norm count: 0.8319562979161526\n",
      "class: 1 norm count: 0.16804370208384742\n",
      "validation data\n",
      "class: 0 norm count: 0.8319932613523241\n",
      "class: 1 norm count: 0.16800673864767593\n",
      "test data\n",
      "class: 0 norm count: 0.8319497625976413\n",
      "class: 1 norm count: 0.16805023740235872\n",
      "\n",
      "-------------------------\n"
     ]
    }
   ],
   "source": [
    "fold_partitions = get_stratified_partitions(dataset.data.y,\n",
    "                                            num_folds=5,\n",
    "                                            valid_set_portion=0.1,\n",
    "                                            random_state=42)"
   ]
  },
  {
   "cell_type": "code",
   "execution_count": 27,
   "metadata": {},
   "outputs": [],
   "source": [
    "# train_val_test_frac = [0.7, 0.1, 0.2]\n",
    "# assert sum(train_val_test_frac) == 1\n",
    "\n",
    "# torch.manual_seed(42)\n",
    "# used_dataset = used_dataset.shuffle()\n",
    "\n",
    "# num_train = round(train_val_test_frac[0] * len(used_dataset)) \n",
    "# num_trainval = round((train_val_test_frac[0]+train_val_test_frac[1]) * len(used_dataset))\n",
    "\n",
    "# train_dataset = used_dataset[:num_train]\n",
    "# val_dataset = used_dataset[num_train:num_trainval]\n",
    "# test_dataset = used_dataset[num_trainval:]"
   ]
  },
  {
   "cell_type": "code",
   "execution_count": 28,
   "metadata": {},
   "outputs": [],
   "source": [
    "# train_dataset = Subset(used_dataset, fold_partitions[0]['train'])\n",
    "# val_dataset = Subset(used_dataset, fold_partitions[0]['validation'])\n",
    "# test_dataset = Subset(used_dataset, fold_partitions[0]['test'])"
   ]
  },
  {
   "cell_type": "code",
   "execution_count": 29,
   "metadata": {},
   "outputs": [],
   "source": [
    "# print(f'Number of training graphs: {len(train_dataset)}')\n",
    "# print(f'Number of val graphs: {len(val_dataset)}')\n",
    "# print(f'Number of test graphs: {len(test_dataset)}')"
   ]
  },
  {
   "cell_type": "code",
   "execution_count": 30,
   "metadata": {},
   "outputs": [
    {
     "name": "stdout",
     "output_type": "stream",
     "text": [
      "Number of training graphs: 117522\n",
      "Number of validation graphs: 13059\n",
      "Number of testing graphs: 32646\n"
     ]
    }
   ],
   "source": [
    "print(\"Number of training graphs: \"+ str(len(fold_partitions[0]['train'])))\n",
    "print(\"Number of validation graphs: \"+ str(len(fold_partitions[0]['validation'])))\n",
    "print(\"Number of testing graphs: \"+ str(len(fold_partitions[0]['test'])))\n"
   ]
  },
  {
   "cell_type": "code",
   "execution_count": 31,
   "metadata": {},
   "outputs": [],
   "source": [
    "# print(dataset.num_classes)"
   ]
  },
  {
   "cell_type": "code",
   "execution_count": 32,
   "metadata": {},
   "outputs": [],
   "source": [
    "# # training params total_thresh 4\n",
    "# tp = {\n",
    "#     \"batch_size\" : 300,\n",
    "#     \"num_epochs\" : 30,\n",
    "    \n",
    "#     \"emb_dim\" : 300,\n",
    "#     \"gnn_type\" : \"gatv2\",\n",
    "#     \"num_layer\" : 5,\n",
    "#     \"graph_pooling\" : \"mean\", #attention\n",
    "    \n",
    "#     \"input_embed_dim\" : None,\n",
    "#     \"gene_embed_dim\": 1,\n",
    "#     \"num_attn_heads\" : 2,\n",
    "#     \"num_transformer_units\" : 1,\n",
    "#     \"p_dropout\" : 0.3,\n",
    "# #     \"nonlin_func\" : nn.ReLU(),\n",
    "#     \"mlp_embed_factor\" : 2,\n",
    "#     \"pooling_mode\" : 'attn',\n",
    "#     \"dist_opt\" : 'cosine',\n",
    "\n",
    "#     \"base_lr\" : 3e-5, #3e-4\n",
    "#     \"max_lr_mul\": 15,\n",
    "#     \"l2_reg\" : 1e-7,\n",
    "#     \"loss_w\" : 0.95,\n",
    "#     \"margin_v\" : 1.,\n",
    "\n",
    "#     \"expression_dim\" : 64,\n",
    "#     \"expression_input_size\" : 908,\n",
    "#     \"exp_H1\" : 500,\n",
    "#     \"exp_H2\" : 400\n",
    "# }"
   ]
  },
  {
   "cell_type": "code",
   "execution_count": 33,
   "metadata": {},
   "outputs": [],
   "source": [
    "tp = {\n",
    "    \"batch_size\" : 300,\n",
    "    \"num_epochs\" : 100,\n",
    "    \n",
    "    \"emb_dim\" : 100,\n",
    "    \"gnn_type\" : \"gatv2\",\n",
    "    \"num_layer\" : 5,\n",
    "    \"graph_pooling\" : \"mean\", #attention\n",
    "    \n",
    "    \"input_embed_dim\" : None,\n",
    "    \"gene_embed_dim\": 1,\n",
    "    \"num_attn_heads\" : 2,\n",
    "    \"num_transformer_units\" : 1,\n",
    "    \"p_dropout\" : 0.3,\n",
    "#     \"nonlin_func\" : nn.ReLU(),\n",
    "    \"mlp_embed_factor\" : 2,\n",
    "    \"pooling_mode\" : 'attn',\n",
    "    \"dist_opt\" : 'cosine',\n",
    "\n",
    "    \"base_lr\" : 3e-4, #3e-4\n",
    "    \"max_lr_mul\": 10,\n",
    "    \"l2_reg\" : 1e-7,\n",
    "    \"loss_w\" : 1.,\n",
    "    \"margin_v\" : 1.,\n",
    "\n",
    "    \"expression_dim\" : 64,\n",
    "    \"expression_input_size\" : 908,\n",
    "    \"exp_H1\" : 4096,\n",
    "    \"exp_H2\" : 1024\n",
    "}"
   ]
  },
  {
   "cell_type": "code",
   "execution_count": 34,
   "metadata": {},
   "outputs": [],
   "source": [
    "# # training params total_thresh 3\n",
    "# tp = {\n",
    "#     \"batch_size\" : 300,\n",
    "#     \"num_epochs\" : 200,\n",
    "    \n",
    "#     \"emb_dim\" : 300,\n",
    "#     \"gnn_type\" : \"gatv2\",\n",
    "#     \"num_layer\" : 5,\n",
    "#     \"graph_pooling\" : \"mean\", #attention\n",
    "    \n",
    "#     \"input_embed_dim\" : None,\n",
    "#     \"gene_embed_dim\": 1,\n",
    "#     \"num_attn_heads\" : 2,\n",
    "#     \"num_transformer_units\" : 1,\n",
    "#     \"p_dropout\" : 0.3,\n",
    "# #     \"nonlin_func\" : nn.ReLU(),\n",
    "#     \"mlp_embed_factor\" : 2,\n",
    "#     \"pooling_mode\" : 'attn',\n",
    "#     \"dist_opt\" : 'cosine',\n",
    "\n",
    "#     \"base_lr\" : 3e-5, #3e-4\n",
    "#     \"max_lr_mul\": 10,\n",
    "#     \"l2_reg\" : 1e-8,\n",
    "#     \"loss_w\" : 0.3,\n",
    "#     \"margin_v\" : 1.,\n",
    "\n",
    "#     \"expression_dim\" : 64,\n",
    "#     \"expression_input_size\" : 908,\n",
    "#     \"exp_H1\" : 500,\n",
    "#     \"exp_H2\" : 400\n",
    "# }"
   ]
  },
  {
   "cell_type": "code",
   "execution_count": 35,
   "metadata": {},
   "outputs": [],
   "source": [
    "# targetdata_dir_exp = create_directory(os.path.join(targetdata_dir, \"experiments\"))\n",
    "# targetdata_dir_exp"
   ]
  },
  {
   "cell_type": "code",
   "execution_count": 36,
   "metadata": {},
   "outputs": [],
   "source": [
    "# device_gpu = get_device(True, index=0)\n",
    "# exp_dir = create_directory(os.path.join(targetdata_dir_exp, \"exp0\"))\n",
    "# tphp = generate_tp_hp(tp, hyperparam_space[0], hp_names)\n",
    "# partition = fold_partitions[0]"
   ]
  },
  {
   "cell_type": "code",
   "execution_count": 37,
   "metadata": {},
   "outputs": [],
   "source": [
    "# run_exp(tphp, device_gpu, exp_dir,partition=fold_partitions[0], used_dataset=used_dataset)"
   ]
  },
  {
   "cell_type": "code",
   "execution_count": 38,
   "metadata": {},
   "outputs": [],
   "source": [
    "def spawn_q_process(q_process):\n",
    "    print(\">>> spawning hyperparam search process\")\n",
    "    q_process.start()\n",
    "    \n",
    "def join_q_process(q_process):\n",
    "    q_process.join()\n",
    "    print(\"<<< joined hyperparam search process\")\n",
    "    \n",
    "def create_q_process(queue, used_dataset, gpu_num, tphp, exp_dir, partition): #\n",
    "#     fold_gpu_map = {0:gpu_num}\n",
    "    return mp.Process(target=deepadr.hyphelperv2.run_exp, args=(queue, used_dataset, gpu_num, tphp, exp_dir, partition)) #"
   ]
  },
  {
   "cell_type": "code",
   "execution_count": 39,
   "metadata": {
    "scrolled": true
   },
   "outputs": [
    {
     "name": "stdout",
     "output_type": "stream",
     "text": [
      "Start: 2022-03-31_13-27-51\n",
      "path_current_dir /cluster/home/skyriakos/chemprop_run/git/deepadr\n",
      "path_current_dir /cluster/home/skyriakos/chemprop_run/git/deepadr\n",
      ">>> spawning hyperparam search process\n",
      "path_current_dir /cluster/home/skyriakos/chemprop_run/git/deepadr\n",
      "path_current_dir /cluster/home/skyriakos/chemprop_run/git/deepadr\n",
      ">>> spawning hyperparam search process\n",
      "path_current_dir /cluster/home/skyriakos/chemprop_run/git/deepadr\n",
      "path_current_dir /cluster/home/skyriakos/chemprop_run/git/deepadr\n",
      ">>> spawning hyperparam search process\n",
      "path_current_dir /cluster/home/skyriakos/chemprop_run/git/deepadr\n",
      "path_current_dir /cluster/home/skyriakos/chemprop_run/git/deepadr\n",
      ">>> spawning hyperparam search process\n",
      "gpu: cuda:0\n",
      "Dropout(p=0.3, inplace=False) Dropout(p=0.3, inplace=False)\n",
      "=====Epoch 0\n",
      "Training...\n"
     ]
    },
    {
     "name": "stderr",
     "output_type": "stream",
     "text": [
      "\r",
      "Iteration:   0%|          | 0/392 [00:00<?, ?it/s]"
     ]
    },
    {
     "name": "stdout",
     "output_type": "stream",
     "text": [
      "gpu: cuda:1\n",
      "Dropout(p=0.3, inplace=False) Dropout(p=0.3, inplace=False)\n",
      "=====Epoch 0\n",
      "Training...\n"
     ]
    },
    {
     "name": "stderr",
     "output_type": "stream",
     "text": [
      "\r",
      "Iteration:   0%|          | 0/392 [00:00<?, ?it/s]"
     ]
    },
    {
     "name": "stdout",
     "output_type": "stream",
     "text": [
      "gpu: cuda:2\n",
      "Dropout(p=0.3, inplace=False) Dropout(p=0.3, inplace=False)\n",
      "=====Epoch 0\n",
      "Training...\n",
      "path_current_dir /cluster/home/skyriakos/chemprop_run/git/deepadr\n",
      "path_current_dir /cluster/home/skyriakos/chemprop_run/git/deepadr\n",
      ">>> spawning hyperparam search process\n"
     ]
    },
    {
     "name": "stderr",
     "output_type": "stream",
     "text": [
      "Iteration:   0%|          | 0/392 [00:00<?, ?it/s].69s/it]"
     ]
    },
    {
     "name": "stdout",
     "output_type": "stream",
     "text": [
      "gpu: cuda:3\n",
      "Dropout(p=0.3, inplace=False) Dropout(p=0.3, inplace=False)\n",
      "=====Epoch 0\n",
      "Training...\n"
     ]
    },
    {
     "name": "stderr",
     "output_type": "stream",
     "text": [
      "Iteration:   1%|          | 3/392 [00:06<13:24,  2.07s/it]"
     ]
    },
    {
     "name": "stdout",
     "output_type": "stream",
     "text": [
      "gpu: cuda:4\n",
      "Dropout(p=0.3, inplace=False) Dropout(p=0.3, inplace=False)\n",
      "=====Epoch 0\n",
      "Training...\n"
     ]
    },
    {
     "name": "stderr",
     "output_type": "stream",
     "text": [
      "Iteration: 100%|██████████| 392/392 [01:03<00:00,  6.17it/s]\n",
      "Iteration:  94%|█████████▍| 370/392 [00:59<00:02,  8.79it/s]"
     ]
    },
    {
     "name": "stdout",
     "output_type": "stream",
     "text": [
      "Evaluating...\n"
     ]
    },
    {
     "name": "stderr",
     "output_type": "stream",
     "text": [
      "Iteration: 100%|██████████| 392/392 [01:03<00:00,  6.19it/s]\n",
      "Iteration: 100%|█████████▉| 391/392 [01:04<00:00,  7.88it/s]"
     ]
    },
    {
     "name": "stdout",
     "output_type": "stream",
     "text": [
      "Evaluating...\n"
     ]
    },
    {
     "name": "stderr",
     "output_type": "stream",
     "text": [
      "\r",
      "Iteration:   6%|▌         | 23/392 [00:01<00:15, 23.09it/s]\r",
      "Iteration:   1%|▏         | 5/392 [00:00<00:18, 21.27it/s]\r",
      "Iteration:  96%|█████████▋| 378/392 [01:00<00:01,  8.32it/s]\r",
      "Iteration: 100%|██████████| 392/392 [01:04<00:00,  6.09it/s]\n",
      "\r",
      "Iteration:   0%|          | 0/392 [00:00<?, ?it/s]\r",
      "Iteration:  90%|█████████ | 353/392 [00:57<00:04,  8.54it/s]\r",
      "Iteration:   7%|▋         | 26/392 [00:01<00:15, 23.15it/s]\r",
      "Iteration:  97%|█████████▋| 379/392 [01:00<00:01,  8.50it/s]\r",
      "Iteration:   2%|▏         | 8/392 [00:00<00:17, 22.00it/s]\r",
      "Iteration:   1%|          | 2/392 [00:00<00:20, 18.93it/s]\r",
      "Iteration:  90%|█████████ | 354/392 [00:57<00:04,  8.74it/s]"
     ]
    },
    {
     "name": "stdout",
     "output_type": "stream",
     "text": [
      "Evaluating...\n"
     ]
    },
    {
     "name": "stderr",
     "output_type": "stream",
     "text": [
      "Iteration: 100%|██████████| 392/392 [01:02<00:00,  6.24it/s]\n",
      "Iteration:  19%|█▉        | 74/392 [00:03<00:13, 23.04it/s]]"
     ]
    },
    {
     "name": "stdout",
     "output_type": "stream",
     "text": [
      "Evaluating...\n"
     ]
    },
    {
     "name": "stderr",
     "output_type": "stream",
     "text": [
      "Iteration: 100%|██████████| 392/392 [01:01<00:00,  6.33it/s]\n",
      "Iteration:   1%|          | 2/392 [00:00<00:20, 18.71it/s]s]"
     ]
    },
    {
     "name": "stdout",
     "output_type": "stream",
     "text": [
      "Evaluating...\n"
     ]
    },
    {
     "name": "stderr",
     "output_type": "stream",
     "text": [
      "Iteration: 100%|██████████| 392/392 [00:17<00:00, 22.73it/s]\n",
      "Iteration: 100%|██████████| 392/392 [00:17<00:00, 22.47it/s]\n",
      "Iteration: 100%|██████████| 392/392 [00:17<00:00, 22.58it/s]\n",
      "Iteration: 100%|██████████| 392/392 [00:17<00:00, 22.33it/s]\n",
      "Iteration: 100%|██████████| 392/392 [00:17<00:00, 22.98it/s]\n",
      "Iteration: 100%|██████████| 109/109 [00:08<00:00, 12.28it/s]\n",
      "Iteration: 100%|██████████| 109/109 [00:09<00:00, 12.09it/s]\n",
      "Iteration: 100%|██████████| 109/109 [00:09<00:00, 11.96it/s]\n",
      "Iteration: 100%|██████████| 109/109 [00:09<00:00, 11.69it/s]\n",
      "Iteration: 100%|██████████| 109/109 [00:08<00:00, 12.24it/s]\n",
      "Iteration: 100%|██████████| 44/44 [00:03<00:00, 12.69it/s]\n",
      "Iteration:  80%|███████▉  | 35/44 [00:02<00:00, 12.13it/s]"
     ]
    },
    {
     "name": "stdout",
     "output_type": "stream",
     "text": [
      "{'Train':  best_epoch_indx:0\n",
      " auc:0.7594786989863429 \n",
      " apur:0.3511202450105122 \n",
      " f1:0.41488958682129806 \n",
      " precision:0.2734375 \n",
      " recall:0.8595371917565446 \n",
      ", 'Validation':  best_epoch_indx:0\n",
      " auc:0.7578130079902473 \n",
      " apur:0.34876425347457357 \n",
      " f1:0.4171711612548157 \n",
      " precision:0.27499637207952404 \n",
      " recall:0.8637192342752963 \n",
      ", 'Test':  best_epoch_indx:0\n",
      " auc:0.7487060717413236 \n",
      " apur:0.3421105052750905 \n",
      " f1:0.40539593552908204 \n",
      " precision:0.266805027095584 \n",
      " recall:0.8436018957345972 \n",
      "}\n",
      "=====Epoch 1\n",
      "Training...\n"
     ]
    },
    {
     "name": "stderr",
     "output_type": "stream",
     "text": [
      "Iteration: 100%|██████████| 44/44 [00:03<00:00, 12.37it/s]\n",
      "Iteration:   3%|▎         | 10/392 [00:00<00:30, 12.67it/s]"
     ]
    },
    {
     "name": "stdout",
     "output_type": "stream",
     "text": [
      "{'Train':  best_epoch_indx:0\n",
      " auc:0.7692968083338343 \n",
      " apur:0.35898251839739087 \n",
      " f1:0.4228521259249969 \n",
      " precision:0.28103899568196594 \n",
      " recall:0.8535622056813004 \n",
      ", 'Validation':  best_epoch_indx:0\n",
      " auc:0.7694337487125982 \n",
      " apur:0.36078374177659667 \n",
      " f1:0.4210167952791648 \n",
      " precision:0.2803385219888167 \n",
      " recall:0.8451025056947609 \n",
      ", 'Test':  best_epoch_indx:0\n",
      " auc:0.7659106238328391 \n",
      " apur:0.35657531000944 \n",
      " f1:0.4218000904568068 \n",
      " precision:0.2804812030075188 \n",
      " recall:0.8501367365542388 \n",
      "}\n",
      "=====Epoch 1\n",
      "Training...\n"
     ]
    },
    {
     "name": "stderr",
     "output_type": "stream",
     "text": [
      "Iteration: 100%|██████████| 44/44 [00:03<00:00, 12.15it/s]]\n",
      "Iteration:   4%|▎         | 14/392 [00:01<00:32, 11.69it/s]"
     ]
    },
    {
     "name": "stdout",
     "output_type": "stream",
     "text": [
      "{'Train':  best_epoch_indx:0\n",
      " auc:0.7616985464015148 \n",
      " apur:0.3511704426625178 \n",
      " f1:0.4312042413531937 \n",
      " precision:0.29820171099342374 \n",
      " recall:0.778368524988607 \n",
      ", 'Validation':  best_epoch_indx:0\n",
      " auc:0.7625571728275374 \n",
      " apur:0.35096917346938583 \n",
      " f1:0.4313525893879629 \n",
      " precision:0.2992056487202118 \n",
      " recall:0.7725615314494074 \n",
      ", 'Test':  best_epoch_indx:0\n",
      " auc:0.7631839373432547 \n",
      " apur:0.3551595894718277 \n",
      " f1:0.43073305387997135 \n",
      " precision:0.2993037794828076 \n",
      " recall:0.7679547940211447 \n",
      "}\n",
      "=====Epoch 1\n",
      "Training...\n"
     ]
    },
    {
     "name": "stderr",
     "output_type": "stream",
     "text": [
      "Iteration: 100%|██████████| 44/44 [00:03<00:00, 12.46it/s]]\n",
      "Iteration:  12%|█▏        | 48/392 [00:03<00:27, 12.38it/s]"
     ]
    },
    {
     "name": "stdout",
     "output_type": "stream",
     "text": [
      "{'Train':  best_epoch_indx:0\n",
      " auc:0.75900218389426 \n",
      " apur:0.3528176697453702 \n",
      " f1:0.4117204926777228 \n",
      " precision:0.2706609923651955 \n",
      " recall:0.8598410046078282 \n",
      ", 'Validation':  best_epoch_indx:0\n",
      " auc:0.7584548874246418 \n",
      " apur:0.3530513966394538 \n",
      " f1:0.4099108889371875 \n",
      " precision:0.26912100456621 \n",
      " recall:0.8596171376481313 \n",
      ", 'Test':  best_epoch_indx:0\n",
      " auc:0.7655304323976907 \n",
      " apur:0.3569208816864296 \n",
      " f1:0.4137362160284797 \n",
      " precision:0.2715409163437429 \n",
      " recall:0.8685745534086766 \n",
      "}\n",
      "=====Epoch 1\n",
      "Training...\n"
     ]
    },
    {
     "name": "stderr",
     "output_type": "stream",
     "text": [
      "Iteration: 100%|██████████| 44/44 [00:03<00:00, 12.37it/s]]\n",
      "Iteration:  15%|█▍        | 58/392 [00:04<00:26, 12.60it/s]"
     ]
    },
    {
     "name": "stdout",
     "output_type": "stream",
     "text": [
      "{'Train':  best_epoch_indx:0\n",
      " auc:0.7675543050867374 \n",
      " apur:0.36099823752842686 \n",
      " f1:0.429284438373437 \n",
      " precision:0.28981857520350435 \n",
      " recall:0.8274849359461238 \n",
      ", 'Validation':  best_epoch_indx:0\n",
      " auc:0.7601036336811141 \n",
      " apur:0.34615936431370026 \n",
      " f1:0.42269503546099285 \n",
      " precision:0.2853495052665177 \n",
      " recall:0.8149498632634458 \n",
      ", 'Test':  best_epoch_indx:0\n",
      " auc:0.7653094339719391 \n",
      " apur:0.3585588218963922 \n",
      " f1:0.4293431902189366 \n",
      " precision:0.2900870901639344 \n",
      " recall:0.8257382427998542 \n",
      "}\n",
      "=====Epoch 1\n",
      "Training...\n"
     ]
    },
    {
     "name": "stderr",
     "output_type": "stream",
     "text": [
      "Iteration: 100%|██████████| 392/392 [00:31<00:00, 12.52it/s]\n",
      "Iteration:  96%|█████████▋| 378/392 [00:30<00:01, 12.98it/s]"
     ]
    },
    {
     "name": "stdout",
     "output_type": "stream",
     "text": [
      "Evaluating...\n"
     ]
    },
    {
     "name": "stderr",
     "output_type": "stream",
     "text": [
      "Iteration: 100%|██████████| 392/392 [00:31<00:00, 12.33it/s]\n",
      "Iteration:   0%|          | 0/392 [00:00<?, ?it/s]"
     ]
    },
    {
     "name": "stdout",
     "output_type": "stream",
     "text": [
      "Evaluating...\n"
     ]
    },
    {
     "name": "stderr",
     "output_type": "stream",
     "text": [
      "Iteration: 100%|██████████| 392/392 [00:31<00:00, 12.47it/s]\n",
      "Iteration:   5%|▌         | 21/392 [00:00<00:16, 22.33it/s]]"
     ]
    },
    {
     "name": "stdout",
     "output_type": "stream",
     "text": [
      "Evaluating...\n"
     ]
    },
    {
     "name": "stderr",
     "output_type": "stream",
     "text": [
      "Iteration: 100%|██████████| 392/392 [00:31<00:00, 12.49it/s]\n",
      "Iteration:  22%|██▏       | 87/392 [00:03<00:13, 22.49it/s]"
     ]
    },
    {
     "name": "stdout",
     "output_type": "stream",
     "text": [
      "Evaluating...\n"
     ]
    },
    {
     "name": "stderr",
     "output_type": "stream",
     "text": [
      "Iteration: 100%|██████████| 392/392 [00:30<00:00, 12.70it/s]\n",
      "Iteration:  30%|██▉       | 117/392 [00:05<00:12, 22.32it/s]"
     ]
    },
    {
     "name": "stdout",
     "output_type": "stream",
     "text": [
      "Evaluating...\n"
     ]
    },
    {
     "name": "stderr",
     "output_type": "stream",
     "text": [
      "Iteration: 100%|██████████| 392/392 [00:17<00:00, 22.57it/s]\n",
      "Iteration: 100%|██████████| 392/392 [00:17<00:00, 22.08it/s]\n",
      "Iteration: 100%|██████████| 392/392 [00:17<00:00, 22.33it/s]\n",
      "Iteration: 100%|██████████| 392/392 [00:17<00:00, 22.40it/s]\n",
      "Iteration: 100%|██████████| 392/392 [00:17<00:00, 22.81it/s]\n",
      "Iteration: 100%|██████████| 109/109 [00:04<00:00, 22.92it/s]\n",
      "Iteration: 100%|██████████| 109/109 [00:04<00:00, 22.39it/s]\n",
      "Iteration: 100%|██████████| 109/109 [00:04<00:00, 22.39it/s]\n",
      "Iteration: 100%|██████████| 109/109 [00:04<00:00, 22.64it/s]\n",
      "Iteration: 100%|██████████| 109/109 [00:04<00:00, 23.09it/s]\n",
      "Iteration: 100%|██████████| 44/44 [00:02<00:00, 21.63it/s]\n",
      "Iteration:  25%|██▌       | 11/44 [00:00<00:01, 20.39it/s]"
     ]
    },
    {
     "name": "stdout",
     "output_type": "stream",
     "text": [
      "{'Train':  best_epoch_indx:1\n",
      " auc:0.7985786303658042 \n",
      " apur:0.42082293047512775 \n",
      " f1:0.46402965123344264 \n",
      " precision:0.331445435410021 \n",
      " recall:0.7734062484176414 \n",
      ", 'Validation':  best_epoch_indx:1\n",
      " auc:0.7952078232018797 \n",
      " apur:0.4217256272049234 \n",
      " f1:0.4612194110327666 \n",
      " precision:0.331018059138718 \n",
      " recall:0.7602552415679125 \n",
      ", 'Test':  best_epoch_indx:1\n",
      " auc:0.7864140049621555 \n",
      " apur:0.40523776732549915 \n",
      " f1:0.45102800712319896 \n",
      " precision:0.3203526255270219 \n",
      " recall:0.7617572001458257 \n",
      "}\n",
      "=====Epoch 2\n",
      "Training...\n"
     ]
    },
    {
     "name": "stderr",
     "output_type": "stream",
     "text": [
      "Iteration: 100%|██████████| 44/44 [00:02<00:00, 20.76it/s]]\n",
      "Iteration:  59%|█████▉    | 26/44 [00:01<00:00, 18.77it/s]]"
     ]
    },
    {
     "name": "stdout",
     "output_type": "stream",
     "text": [
      "{'Train':  best_epoch_indx:1\n",
      " auc:0.7993152852122145 \n",
      " apur:0.42282268936119266 \n",
      " f1:0.4603639952396157 \n",
      " precision:0.3226659613858768 \n",
      " recall:0.8030786368930073 \n",
      ", 'Validation':  best_epoch_indx:1\n",
      " auc:0.7970927155705999 \n",
      " apur:0.418131025485659 \n",
      " f1:0.45795127063138585 \n",
      " precision:0.3213826070968928 \n",
      " recall:0.7963553530751708 \n",
      ", 'Test':  best_epoch_indx:1\n",
      " auc:0.7910467528928139 \n",
      " apur:0.4112601224778186 \n",
      " f1:0.45248538011695905 \n",
      " precision:0.31704104777932246 \n",
      " recall:0.7899726526891523 \n",
      "}\n",
      "=====Epoch 2\n",
      "Training...\n"
     ]
    },
    {
     "name": "stderr",
     "output_type": "stream",
     "text": [
      "Iteration: 100%|██████████| 44/44 [00:02<00:00, 19.42it/s]]\n",
      "Iteration:   1%|          | 2/392 [00:00<00:34, 11.16it/s]]"
     ]
    },
    {
     "name": "stdout",
     "output_type": "stream",
     "text": [
      "{'Train':  best_epoch_indx:1\n",
      " auc:0.7949364897147624 \n",
      " apur:0.4259193881172606 \n",
      " f1:0.4462231517979245 \n",
      " precision:0.30346299031675694 \n",
      " recall:0.8426249430350904 \n",
      ", 'Validation':  best_epoch_indx:1\n",
      " auc:0.7971784740292839 \n",
      " apur:0.432840171822922 \n",
      " f1:0.4467488105404416 \n",
      " precision:0.3050141595868732 \n",
      " recall:0.8345487693710119 \n",
      ", 'Test':  best_epoch_indx:1\n",
      " auc:0.7942337524570511 \n",
      " apur:0.42178319384354024 \n",
      " f1:0.4460291100908469 \n",
      " precision:0.30464371497197756 \n",
      " recall:0.8323004010207802 \n",
      "}\n",
      "=====Epoch 2\n",
      "Training...\n"
     ]
    },
    {
     "name": "stderr",
     "output_type": "stream",
     "text": [
      "Iteration: 100%|██████████| 44/44 [00:02<00:00, 21.65it/s]]\n",
      "Iteration:   4%|▎         | 14/392 [00:01<00:30, 12.54it/s]"
     ]
    },
    {
     "name": "stdout",
     "output_type": "stream",
     "text": [
      "{'Train':  best_epoch_indx:1\n",
      " auc:0.7807597054739478 \n",
      " apur:0.40671426740085026 \n",
      " f1:0.4505144939440554 \n",
      " precision:0.31948739673797927 \n",
      " recall:0.7637348726517799 \n",
      ", 'Validation':  best_epoch_indx:1\n",
      " auc:0.7772701225490094 \n",
      " apur:0.4017978695066751 \n",
      " f1:0.4503898897553105 \n",
      " precision:0.3194126620900076 \n",
      " recall:0.7634457611668186 \n",
      ", 'Test':  best_epoch_indx:1\n",
      " auc:0.7858820970529377 \n",
      " apur:0.4119862843201309 \n",
      " f1:0.4549116493904076 \n",
      " precision:0.3224701134546562 \n",
      " recall:0.7719650018228217 \n",
      "}\n",
      "=====Epoch 2\n",
      "Training...\n"
     ]
    },
    {
     "name": "stderr",
     "output_type": "stream",
     "text": [
      "Iteration: 100%|██████████| 44/44 [00:02<00:00, 21.78it/s]]\n",
      "Iteration:   3%|▎         | 10/392 [00:00<00:30, 12.57it/s]"
     ]
    },
    {
     "name": "stdout",
     "output_type": "stream",
     "text": [
      "{'Train':  best_epoch_indx:1\n",
      " auc:0.7932519664531292 \n",
      " apur:0.4191311557369689 \n",
      " f1:0.46303340258910014 \n",
      " precision:0.338291959552556 \n",
      " recall:0.7335054939490607 \n",
      ", 'Validation':  best_epoch_indx:1\n",
      " auc:0.785362938122252 \n",
      " apur:0.40824740266420706 \n",
      " f1:0.4596612115991961 \n",
      " precision:0.335498742665549 \n",
      " recall:0.7297174111212398 \n",
      ", 'Test':  best_epoch_indx:1\n",
      " auc:0.7885181916454052 \n",
      " apur:0.4117005820191604 \n",
      " f1:0.4622325043377674 \n",
      " precision:0.338529312097594 \n",
      " recall:0.7283995625227853 \n",
      "}\n",
      "=====Epoch 2\n",
      "Training...\n"
     ]
    },
    {
     "name": "stderr",
     "output_type": "stream",
     "text": [
      "Iteration: 100%|██████████| 392/392 [00:30<00:00, 13.02it/s]\n",
      "Iteration:  85%|████████▌ | 334/392 [00:25<00:04, 13.27it/s]"
     ]
    },
    {
     "name": "stdout",
     "output_type": "stream",
     "text": [
      "Evaluating...\n"
     ]
    },
    {
     "name": "stderr",
     "output_type": "stream",
     "text": [
      "Iteration: 100%|██████████| 392/392 [00:30<00:00, 12.79it/s]\n",
      "Iteration:  14%|█▍        | 54/392 [00:02<00:14, 23.11it/s]"
     ]
    },
    {
     "name": "stdout",
     "output_type": "stream",
     "text": [
      "Evaluating...\n"
     ]
    },
    {
     "name": "stderr",
     "output_type": "stream",
     "text": [
      "Iteration: 100%|██████████| 392/392 [00:30<00:00, 12.87it/s]\n",
      "Iteration:   0%|          | 0/392 [00:00<?, ?it/s]"
     ]
    },
    {
     "name": "stdout",
     "output_type": "stream",
     "text": [
      "Evaluating...\n"
     ]
    },
    {
     "name": "stderr",
     "output_type": "stream",
     "text": [
      "Iteration: 100%|██████████| 392/392 [00:30<00:00, 13.01it/s]\n",
      "Iteration:   8%|▊         | 33/392 [00:01<00:16, 22.00it/s]"
     ]
    },
    {
     "name": "stdout",
     "output_type": "stream",
     "text": [
      "Evaluating...\n"
     ]
    },
    {
     "name": "stderr",
     "output_type": "stream",
     "text": [
      "Iteration: 100%|██████████| 392/392 [00:29<00:00, 13.12it/s]\n",
      "Iteration:  27%|██▋       | 105/392 [00:04<00:12, 22.98it/s]"
     ]
    },
    {
     "name": "stdout",
     "output_type": "stream",
     "text": [
      "Evaluating...\n"
     ]
    },
    {
     "name": "stderr",
     "output_type": "stream",
     "text": [
      "Iteration: 100%|██████████| 392/392 [00:17<00:00, 22.93it/s]\n",
      "Iteration: 100%|██████████| 392/392 [00:17<00:00, 22.10it/s]\n",
      "Iteration: 100%|██████████| 392/392 [00:17<00:00, 22.44it/s]\n",
      "Iteration: 100%|██████████| 392/392 [00:17<00:00, 22.25it/s]\n",
      "Iteration: 100%|██████████| 392/392 [00:17<00:00, 22.85it/s]\n",
      "Iteration: 100%|██████████| 109/109 [00:05<00:00, 20.01it/s]\n",
      "Iteration: 100%|██████████| 109/109 [00:05<00:00, 19.88it/s]\n",
      "Iteration: 100%|██████████| 109/109 [00:05<00:00, 19.84it/s]\n",
      "Iteration: 100%|██████████| 109/109 [00:05<00:00, 20.12it/s]\n",
      "Iteration: 100%|██████████| 109/109 [00:05<00:00, 20.35it/s]\n",
      "Iteration: 100%|██████████| 44/44 [00:02<00:00, 21.44it/s]\n"
     ]
    },
    {
     "name": "stdout",
     "output_type": "stream",
     "text": [
      "{'Train':  best_epoch_indx:2\n",
      " auc:0.817735415264915 \n",
      " apur:0.47477775478093104 \n",
      " f1:0.4760183721105339 \n",
      " precision:0.3387560013717421 \n",
      " recall:0.8002936857562408 \n",
      ", 'Validation':  best_epoch_indx:2\n",
      " auc:0.8138108324548271 \n",
      " apur:0.467186767611655 \n",
      " f1:0.4718520533043242 \n",
      " precision:0.33624031007751937 \n",
      " recall:0.7907930720145853 \n",
      ", 'Test':  best_epoch_indx:2\n",
      " auc:0.8055800022765138 \n",
      " apur:0.4567625895687854 \n",
      " f1:0.4628063791073531 \n",
      " precision:0.3275757575757576 \n",
      " recall:0.7881881152023332 \n",
      "}\n",
      "=====Epoch 3\n",
      "Training...\n"
     ]
    },
    {
     "name": "stderr",
     "output_type": "stream",
     "text": [
      "Iteration: 100%|██████████| 44/44 [00:02<00:00, 21.42it/s]]\n",
      "Iteration:  25%|██▌       | 11/44 [00:00<00:01, 20.10it/s]]"
     ]
    },
    {
     "name": "stdout",
     "output_type": "stream",
     "text": [
      "{'Train':  best_epoch_indx:2\n",
      " auc:0.8180879482242048 \n",
      " apur:0.4723590777085991 \n",
      " f1:0.4720486259738036 \n",
      " precision:0.32862506704809585 \n",
      " recall:0.8376120309889108 \n",
      ", 'Validation':  best_epoch_indx:2\n",
      " auc:0.8144840664114787 \n",
      " apur:0.4671691896888812 \n",
      " f1:0.4774936061381074 \n",
      " precision:0.3319111111111111 \n",
      " recall:0.8505694760820045 \n",
      ", 'Test':  best_epoch_indx:2\n",
      " auc:0.809901673193594 \n",
      " apur:0.45788411586859235 \n",
      " f1:0.46453393295175793 \n",
      " precision:0.32272953205993044 \n",
      " recall:0.8286235186873291 \n",
      "}\n",
      "=====Epoch 3\n",
      "Training...\n"
     ]
    },
    {
     "name": "stderr",
     "output_type": "stream",
     "text": [
      "Iteration: 100%|██████████| 44/44 [00:02<00:00, 21.48it/s]]\n",
      "Iteration:  86%|████████▋ | 38/44 [00:01<00:00, 22.23it/s]]"
     ]
    },
    {
     "name": "stdout",
     "output_type": "stream",
     "text": [
      "{'Train':  best_epoch_indx:2\n",
      " auc:0.8073251154338829 \n",
      " apur:0.4646103285513317 \n",
      " f1:0.4663654949548242 \n",
      " precision:0.34576925897855904 \n",
      " recall:0.716137525950681 \n",
      ", 'Validation':  best_epoch_indx:2\n",
      " auc:0.8071208303111737 \n",
      " apur:0.460497000153835 \n",
      " f1:0.46935096153846156 \n",
      " precision:0.3500672344240251 \n",
      " recall:0.7119416590701915 \n",
      ", 'Test':  best_epoch_indx:2\n",
      " auc:0.8084198927568742 \n",
      " apur:0.4680781276686966 \n",
      " f1:0.4724000483150139 \n",
      " precision:0.3532333815028902 \n",
      " recall:0.7129055778344878 \n",
      "}\n",
      "=====Epoch 3\n",
      "Training...\n"
     ]
    },
    {
     "name": "stderr",
     "output_type": "stream",
     "text": [
      "Iteration: 100%|██████████| 44/44 [00:02<00:00, 21.84it/s]]\n",
      "Iteration: 100%|██████████| 44/44 [00:02<00:00, 20.11it/s]]\n"
     ]
    },
    {
     "name": "stdout",
     "output_type": "stream",
     "text": [
      "{'Train':  best_epoch_indx:2\n",
      " auc:0.8059596731605454 \n",
      " apur:0.46392384498260497 \n",
      " f1:0.4682663594609753 \n",
      " precision:0.33416987581671065 \n",
      " recall:0.7821155501544382 \n",
      ", 'Validation':  best_epoch_indx:2\n",
      " auc:0.8028117725579657 \n",
      " apur:0.4673493741355491 \n",
      " f1:0.46325835037491486 \n",
      " precision:0.3304804512740712 \n",
      " recall:0.7743846855059252 \n",
      ", 'Test':  best_epoch_indx:2\n",
      " auc:0.8076871598434715 \n",
      " apur:0.46091459525050016 \n",
      " f1:0.4676980063187711 \n",
      " precision:0.33351460534493477 \n",
      " recall:0.7825373678454247 \n",
      "}\n",
      "=====Epoch 3\n",
      "Training...\n",
      "{'Train':  best_epoch_indx:2\n",
      " auc:0.8177239685232767 \n",
      " apur:0.48381677889580954 \n",
      " f1:0.46085958632749524 \n",
      " precision:0.3155718535426294 \n",
      " recall:0.8540685604334397 \n",
      ", 'Validation':  best_epoch_indx:2\n",
      " auc:0.8150446706303978 \n",
      " apur:0.4834909804663303 \n",
      " f1:0.45581737849779086 \n",
      " precision:0.311891165602956 \n",
      " recall:0.8463992707383774 \n",
      ", 'Test':  best_epoch_indx:2\n",
      " auc:0.8116747526821064 \n",
      " apur:0.4683996625679471 \n",
      " f1:0.4604827960704942 \n",
      " precision:0.3157538419876786 \n",
      " recall:0.8501640539555232 \n",
      "}\n",
      "=====Epoch 3\n",
      "Training...\n"
     ]
    },
    {
     "name": "stderr",
     "output_type": "stream",
     "text": [
      "Iteration: 100%|██████████| 392/392 [00:30<00:00, 13.00it/s]\n",
      "Iteration:   1%|          | 3/392 [00:00<00:17, 22.37it/s]s]"
     ]
    },
    {
     "name": "stdout",
     "output_type": "stream",
     "text": [
      "Evaluating...\n"
     ]
    },
    {
     "name": "stderr",
     "output_type": "stream",
     "text": [
      "Iteration: 100%|██████████| 392/392 [00:30<00:00, 12.70it/s]\n",
      "Iteration:  97%|█████████▋| 380/392 [00:29<00:00, 13.14it/s]"
     ]
    },
    {
     "name": "stdout",
     "output_type": "stream",
     "text": [
      "Evaluating...\n"
     ]
    },
    {
     "name": "stderr",
     "output_type": "stream",
     "text": [
      "Iteration: 100%|██████████| 392/392 [00:30<00:00, 12.92it/s]\n",
      "Iteration:  99%|█████████▉| 388/392 [00:29<00:00, 13.13it/s]"
     ]
    },
    {
     "name": "stdout",
     "output_type": "stream",
     "text": [
      "Evaluating...\n"
     ]
    },
    {
     "name": "stderr",
     "output_type": "stream",
     "text": [
      "Iteration: 100%|██████████| 392/392 [00:30<00:00, 13.02it/s]\n",
      "Iteration: 100%|██████████| 392/392 [00:30<00:00, 12.90it/s]\n",
      "Iteration:   7%|▋         | 27/392 [00:01<00:16, 22.28it/s]]"
     ]
    },
    {
     "name": "stdout",
     "output_type": "stream",
     "text": [
      "Evaluating...\n",
      "Evaluating...\n"
     ]
    },
    {
     "name": "stderr",
     "output_type": "stream",
     "text": [
      "Iteration: 100%|██████████| 392/392 [00:17<00:00, 22.90it/s]\n",
      "Iteration: 100%|██████████| 392/392 [00:17<00:00, 22.39it/s]\n",
      "Iteration: 100%|██████████| 392/392 [00:17<00:00, 22.44it/s]\n",
      "Iteration: 100%|██████████| 392/392 [00:17<00:00, 22.83it/s]\n",
      "Iteration: 100%|██████████| 392/392 [00:17<00:00, 22.47it/s]\n",
      "Iteration: 100%|██████████| 109/109 [00:04<00:00, 23.22it/s]\n",
      "Iteration: 100%|██████████| 109/109 [00:04<00:00, 22.64it/s]\n",
      "Iteration: 100%|██████████| 109/109 [00:04<00:00, 22.79it/s]\n",
      "Iteration: 100%|██████████| 109/109 [00:04<00:00, 23.19it/s]\n",
      "Iteration: 100%|██████████| 109/109 [00:04<00:00, 22.58it/s]\n",
      "Iteration: 100%|██████████| 44/44 [00:02<00:00, 21.65it/s]\n"
     ]
    },
    {
     "name": "stdout",
     "output_type": "stream",
     "text": [
      "{'Train':  best_epoch_indx:3\n",
      " auc:0.823298154368908 \n",
      " apur:0.49112119438491475 \n",
      " f1:0.4656652360515022 \n",
      " precision:0.3181759126932571 \n",
      " recall:0.8680439515924857 \n",
      ", 'Validation':  best_epoch_indx:3\n",
      " auc:0.8180085125269476 \n",
      " apur:0.48547763676303013 \n",
      " f1:0.4613109906357812 \n",
      " precision:0.3161094224924012 \n",
      " recall:0.853236098450319 \n",
      ", 'Test':  best_epoch_indx:3\n",
      " auc:0.8088664136103305 \n",
      " apur:0.4704962245577127 \n",
      " f1:0.4528756689003519 \n",
      " precision:0.30785868781542897 \n",
      " recall:0.8561793656580386 \n",
      "}\n",
      "=====Epoch 4\n",
      "Training...\n"
     ]
    },
    {
     "name": "stderr",
     "output_type": "stream",
     "text": [
      "Iteration: 100%|██████████| 44/44 [00:02<00:00, 20.86it/s]]\n",
      "Iteration:   0%|          | 0/392 [00:00<?, ?it/s].13it/s]]"
     ]
    },
    {
     "name": "stdout",
     "output_type": "stream",
     "text": [
      "{'Train':  best_epoch_indx:3\n",
      " auc:0.8237020668153507 \n",
      " apur:0.49908662522056313 \n",
      " f1:0.4773898280062006 \n",
      " precision:0.33693160505147335 \n",
      " recall:0.8186743632588992 \n",
      ", 'Validation':  best_epoch_indx:3\n",
      " auc:0.8197523282262202 \n",
      " apur:0.48334348052323073 \n",
      " f1:0.47335548172757486 \n",
      " precision:0.33414634146341465 \n",
      " recall:0.8113895216400911 \n",
      ", 'Test':  best_epoch_indx:3\n",
      " auc:0.815437869111501 \n",
      " apur:0.48361329856200974 \n",
      " f1:0.4727911059098888 \n",
      " precision:0.3337839867808322 \n",
      " recall:0.8102096627164995 \n",
      "}\n",
      "=====Epoch 4\n",
      "Training...\n"
     ]
    },
    {
     "name": "stderr",
     "output_type": "stream",
     "text": [
      "Iteration: 100%|██████████| 44/44 [00:02<00:00, 21.69it/s]]\n",
      "Iteration: 100%|██████████| 44/44 [00:02<00:00, 21.22it/s]]\n",
      "Iteration: 100%|██████████| 44/44 [00:02<00:00, 21.73it/s]]\n"
     ]
    },
    {
     "name": "stdout",
     "output_type": "stream",
     "text": [
      "{'Train':  best_epoch_indx:3\n",
      " auc:0.8286678359880799 \n",
      " apur:0.502386924730145 \n",
      " f1:0.4916835044047523 \n",
      " precision:0.3611216639756862 \n",
      " recall:0.7701149425287356 \n",
      ", 'Validation':  best_epoch_indx:3\n",
      " auc:0.823645733395811 \n",
      " apur:0.4988444904305469 \n",
      " f1:0.4886314265025344 \n",
      " precision:0.35809806835066865 \n",
      " recall:0.768915223336372 \n",
      ", 'Test':  best_epoch_indx:3\n",
      " auc:0.8224929402320522 \n",
      " apur:0.49144639363091047 \n",
      " f1:0.4896793002915451 \n",
      " precision:0.3599965706447188 \n",
      " recall:0.7654028436018957 \n",
      "}\n",
      "=====Epoch 4\n",
      "Training...\n",
      "{'Train':  best_epoch_indx:3\n",
      " auc:0.8217314767734037 \n",
      " apur:0.4946064773611398 \n",
      " f1:0.4773907536415453 \n",
      " precision:0.34728525028218654 \n",
      " recall:0.7633804243252823 \n",
      ", 'Validation':  best_epoch_indx:3\n",
      " auc:0.8172229957366051 \n",
      " apur:0.4859732601756933 \n",
      " f1:0.47646383467278985 \n",
      " precision:0.34771679932970256 \n",
      " recall:0.7566089334548769 \n",
      ", 'Test':  best_epoch_indx:3\n",
      " auc:0.8194592058403316 \n",
      " apur:0.494134922776511 \n",
      " f1:0.4807211398662402 \n",
      " precision:0.35297634298402936 \n",
      " recall:0.7533722201968648 \n",
      "}\n",
      "=====Epoch 4\n",
      "Training...\n"
     ]
    },
    {
     "name": "stderr",
     "output_type": "stream",
     "text": [
      "\r",
      "Iteration:   1%|          | 2/392 [00:00<00:33, 11.58it/s]\r",
      "Iteration:   0%|          | 1/392 [00:00<00:40,  9.69it/s]\r",
      "Iteration:   0%|          | 0/392 [00:00<?, ?it/s]\r",
      "Iteration:   3%|▎         | 12/392 [00:00<00:30, 12.31it/s]\r",
      "Iteration:  16%|█▋        | 64/392 [00:05<00:25, 12.87it/s]\r",
      "Iteration:   1%|          | 4/392 [00:00<00:32, 11.91it/s]"
     ]
    },
    {
     "name": "stdout",
     "output_type": "stream",
     "text": [
      "{'Train':  best_epoch_indx:3\n",
      " auc:0.8193225593839998 \n",
      " apur:0.49274295246639044 \n",
      " f1:0.47593748069438435 \n",
      " precision:0.34240760905797907 \n",
      " recall:0.7801914020963087 \n",
      ", 'Validation':  best_epoch_indx:3\n",
      " auc:0.8158045978216958 \n",
      " apur:0.4958493568353131 \n",
      " f1:0.47489597780859916 \n",
      " precision:0.3413078149920255 \n",
      " recall:0.780309936189608 \n",
      ", 'Test':  best_epoch_indx:3\n",
      " auc:0.8198622854459494 \n",
      " apur:0.4872717999784135 \n",
      " f1:0.4773575447000501 \n",
      " precision:0.34370738750300794 \n",
      " recall:0.7810791104629967 \n",
      "}\n",
      "=====Epoch 4\n",
      "Training...\n"
     ]
    },
    {
     "name": "stderr",
     "output_type": "stream",
     "text": [
      "Iteration: 100%|██████████| 392/392 [00:30<00:00, 12.93it/s]\n",
      "Iteration:  84%|████████▍ | 329/392 [00:25<00:04, 12.97it/s]"
     ]
    },
    {
     "name": "stdout",
     "output_type": "stream",
     "text": [
      "Evaluating...\n"
     ]
    },
    {
     "name": "stderr",
     "output_type": "stream",
     "text": [
      "Iteration: 100%|██████████| 392/392 [00:30<00:00, 13.02it/s]\n",
      "Iteration: 100%|██████████| 392/392 [00:30<00:00, 12.69it/s]\n",
      "Iteration:  99%|█████████▉| 389/392 [00:30<00:00, 13.00it/s]"
     ]
    },
    {
     "name": "stdout",
     "output_type": "stream",
     "text": [
      "Evaluating...\n",
      "Evaluating...\n"
     ]
    },
    {
     "name": "stderr",
     "output_type": "stream",
     "text": [
      "\r",
      "Iteration:   1%|          | 3/392 [00:00<00:17, 21.89it/s]\r",
      "Iteration:  28%|██▊       | 108/392 [00:04<00:12, 22.68it/s]\r",
      "Iteration:  99%|█████████▉| 388/392 [00:30<00:00, 12.97it/s]\r",
      "Iteration:   1%|          | 3/392 [00:00<00:18, 21.54it/s]\r",
      "Iteration: 100%|█████████▉| 391/392 [00:30<00:00, 12.98it/s]\r",
      "Iteration:   2%|▏         | 6/392 [00:00<00:17, 22.29it/s]\r",
      "Iteration: 100%|██████████| 392/392 [00:30<00:00, 12.95it/s]\n",
      "\r",
      "Iteration:   0%|          | 0/392 [00:00<?, ?it/s]\r",
      "Iteration:  28%|██▊       | 111/392 [00:04<00:12, 22.63it/s]\r",
      "Iteration:   2%|▏         | 6/392 [00:00<00:17, 21.92it/s]\r",
      "Iteration:  99%|█████████▉| 390/392 [00:30<00:00, 12.98it/s]"
     ]
    },
    {
     "name": "stdout",
     "output_type": "stream",
     "text": [
      "Evaluating...\n"
     ]
    },
    {
     "name": "stderr",
     "output_type": "stream",
     "text": [
      "\r",
      "Iteration:   2%|▏         | 9/392 [00:00<00:17, 22.47it/s]\r",
      "Iteration:  29%|██▉       | 114/392 [00:05<00:12, 22.63it/s]\r",
      "Iteration:   1%|          | 3/392 [00:00<00:18, 21.52it/s]\r",
      "Iteration:   2%|▏         | 9/392 [00:00<00:17, 22.05it/s]\r",
      "Iteration: 100%|██████████| 392/392 [00:30<00:00, 13.21it/s]\r",
      "Iteration: 100%|██████████| 392/392 [00:30<00:00, 12.92it/s]\n",
      "\r",
      "Iteration:   0%|          | 0/392 [00:00<?, ?it/s]\r",
      "Iteration:   3%|▎         | 12/392 [00:00<00:16, 22.57it/s]\r",
      "Iteration:  30%|██▉       | 117/392 [00:05<00:12, 22.60it/s]\r",
      "Iteration:   2%|▏         | 6/392 [00:00<00:17, 21.93it/s]\r",
      "Iteration:   3%|▎         | 12/392 [00:00<00:17, 22.10it/s]"
     ]
    },
    {
     "name": "stdout",
     "output_type": "stream",
     "text": [
      "Evaluating...\n"
     ]
    },
    {
     "name": "stderr",
     "output_type": "stream",
     "text": [
      "Iteration: 100%|██████████| 392/392 [00:18<00:00, 21.61it/s]\n",
      "Iteration: 100%|██████████| 392/392 [00:17<00:00, 21.88it/s]\n",
      "Iteration: 100%|██████████| 392/392 [00:18<00:00, 21.45it/s]\n",
      "Iteration: 100%|██████████| 392/392 [00:18<00:00, 21.64it/s]\n",
      "Iteration: 100%|██████████| 392/392 [00:18<00:00, 21.38it/s]\n",
      "Iteration: 100%|██████████| 109/109 [00:04<00:00, 22.81it/s]\n",
      "Iteration: 100%|██████████| 109/109 [00:04<00:00, 22.83it/s]\n",
      "Iteration: 100%|██████████| 109/109 [00:04<00:00, 22.53it/s]\n",
      "Iteration: 100%|██████████| 109/109 [00:04<00:00, 22.57it/s]\n",
      "Iteration: 100%|██████████| 109/109 [00:04<00:00, 22.73it/s]\n",
      "Iteration: 100%|██████████| 44/44 [00:02<00:00, 21.79it/s]\n"
     ]
    },
    {
     "name": "stdout",
     "output_type": "stream",
     "text": [
      "{'Train':  best_epoch_indx:4\n",
      " auc:0.8291141278166639 \n",
      " apur:0.5055794526797791 \n",
      " f1:0.4917515274949083 \n",
      " precision:0.36983993260320136 \n",
      " recall:0.7335561294242746 \n",
      ", 'Validation':  best_epoch_indx:4\n",
      " auc:0.823800823146086 \n",
      " apur:0.493668522296766 \n",
      " f1:0.49287042777433354 \n",
      " precision:0.37341474870831376 \n",
      " recall:0.7247037374658158 \n",
      ", 'Test':  best_epoch_indx:4\n",
      " auc:0.8164504862289712 \n",
      " apur:0.4857459023220434 \n",
      " f1:0.47859308671922374 \n",
      " precision:0.3585968738640494 \n",
      " recall:0.7192854538826102 \n",
      "}\n",
      "=====Epoch 5\n",
      "Training...\n"
     ]
    },
    {
     "name": "stderr",
     "output_type": "stream",
     "text": [
      "Iteration: 100%|██████████| 44/44 [00:02<00:00, 21.45it/s]]\n",
      "Iteration:  86%|████████▋ | 38/44 [00:01<00:00, 21.99it/s]]"
     ]
    },
    {
     "name": "stdout",
     "output_type": "stream",
     "text": [
      "{'Train':  best_epoch_indx:4\n",
      " auc:0.8343707347138264 \n",
      " apur:0.5135466508162659 \n",
      " f1:0.493565552415089 \n",
      " precision:0.35861135331099997 \n",
      " recall:0.7913818421185883 \n",
      ", 'Validation':  best_epoch_indx:4\n",
      " auc:0.8280588904769355 \n",
      " apur:0.5025658933346944 \n",
      " f1:0.48617051611063594 \n",
      " precision:0.3537344398340249 \n",
      " recall:0.7771194165907019 \n",
      ", 'Test':  best_epoch_indx:4\n",
      " auc:0.8247861491643631 \n",
      " apur:0.49230776585842834 \n",
      " f1:0.4881773118340835 \n",
      " precision:0.3550766680480729 \n",
      " recall:0.7808968282901932 \n",
      "}\n",
      "=====Epoch 5\n",
      "Training...\n"
     ]
    },
    {
     "name": "stderr",
     "output_type": "stream",
     "text": [
      "Iteration: 100%|██████████| 44/44 [00:02<00:00, 21.18it/s]]\n",
      "Iteration:  68%|██████▊   | 30/44 [00:01<00:00, 21.77it/s]]"
     ]
    },
    {
     "name": "stdout",
     "output_type": "stream",
     "text": [
      "{'Train':  best_epoch_indx:4\n",
      " auc:0.8283295388732081 \n",
      " apur:0.5110750015591523 \n",
      " f1:0.4885798758894051 \n",
      " precision:0.359683321772824 \n",
      " recall:0.7614562762671527 \n",
      ", 'Validation':  best_epoch_indx:4\n",
      " auc:0.8223648102361438 \n",
      " apur:0.48895912304357264 \n",
      " f1:0.487054297973073 \n",
      " precision:0.36064855390008765 \n",
      " recall:0.7498861047835991 \n",
      ", 'Test':  best_epoch_indx:4\n",
      " auc:0.8183455346822166 \n",
      " apur:0.4945485398791868 \n",
      " f1:0.47781369379958855 \n",
      " precision:0.3525585429314831 \n",
      " recall:0.7411121239744758 \n",
      "}\n",
      "=====Epoch 5\n",
      "Training...\n"
     ]
    },
    {
     "name": "stderr",
     "output_type": "stream",
     "text": [
      "\r",
      "Iteration:  16%|█▋        | 64/392 [00:05<00:26, 12.43it/s]\r",
      "Iteration:  98%|█████████▊| 43/44 [00:02<00:00, 22.33it/s]\r",
      "Iteration:   2%|▏         | 6/392 [00:00<00:30, 12.60it/s]\r",
      "Iteration: 100%|██████████| 44/44 [00:02<00:00, 21.36it/s]\n",
      "\r",
      "Iteration:   1%|          | 2/392 [00:00<00:33, 11.49it/s]\r",
      "Iteration:  75%|███████▌  | 33/44 [00:01<00:00, 21.83it/s]\r",
      "Iteration:  17%|█▋        | 66/392 [00:05<00:26, 12.38it/s]\r",
      "Iteration:   0%|          | 0/392 [00:00<?, ?it/s]\r",
      "Iteration:   2%|▏         | 8/392 [00:00<00:31, 12.35it/s]"
     ]
    },
    {
     "name": "stdout",
     "output_type": "stream",
     "text": [
      "{'Train':  best_epoch_indx:4\n",
      " auc:0.8277423454606296 \n",
      " apur:0.5126751672273129 \n",
      " f1:0.4843455064505561 \n",
      " precision:0.35000225458808676 \n",
      " recall:0.7860651172211252 \n",
      ", 'Validation':  best_epoch_indx:4\n",
      " auc:0.8239187870026651 \n",
      " apur:0.5082613642902346 \n",
      " f1:0.4870276367738296 \n",
      " precision:0.3525928950592078 \n",
      " recall:0.7871467639015497 \n",
      ", 'Test':  best_epoch_indx:4\n",
      " auc:0.8289819614141681 \n",
      " apur:0.5146529426184644 \n",
      " f1:0.4815940560621412 \n",
      " precision:0.34837133550488597 \n",
      " recall:0.7798031352533722 \n",
      "}\n",
      "=====Epoch 5\n",
      "Training...\n"
     ]
    },
    {
     "name": "stderr",
     "output_type": "stream",
     "text": [
      "Iteration: 100%|██████████| 44/44 [00:02<00:00, 21.04it/s]]\n",
      "Iteration:   4%|▎         | 14/392 [00:01<00:30, 12.47it/s]"
     ]
    },
    {
     "name": "stdout",
     "output_type": "stream",
     "text": [
      "{'Train':  best_epoch_indx:4\n",
      " auc:0.8296089124303013 \n",
      " apur:0.5124585551174542 \n",
      " f1:0.48584666061231085 \n",
      " precision:0.3490203016497855 \n",
      " recall:0.7991290698263204 \n",
      ", 'Validation':  best_epoch_indx:4\n",
      " auc:0.8212069397314603 \n",
      " apur:0.5005668942173953 \n",
      " f1:0.482102908277405 \n",
      " precision:0.34772085518354173 \n",
      " recall:0.7857793983591613 \n",
      ", 'Test':  best_epoch_indx:4\n",
      " auc:0.8251051142632714 \n",
      " apur:0.5043395444876609 \n",
      " f1:0.48651089287729987 \n",
      " precision:0.3523544800523218 \n",
      " recall:0.7856361647830842 \n",
      "}\n",
      "=====Epoch 5\n",
      "Training...\n"
     ]
    },
    {
     "name": "stderr",
     "output_type": "stream",
     "text": [
      "Iteration: 100%|██████████| 392/392 [00:30<00:00, 12.88it/s]\n",
      "Iteration:   1%|          | 3/392 [00:00<00:17, 22.18it/s]s]"
     ]
    },
    {
     "name": "stdout",
     "output_type": "stream",
     "text": [
      "Evaluating...\n"
     ]
    },
    {
     "name": "stderr",
     "output_type": "stream",
     "text": [
      "Iteration: 100%|██████████| 392/392 [00:30<00:00, 13.03it/s]\n",
      "Iteration:   1%|          | 3/392 [00:00<00:17, 22.18it/s]s]"
     ]
    },
    {
     "name": "stdout",
     "output_type": "stream",
     "text": [
      "Evaluating...\n"
     ]
    },
    {
     "name": "stderr",
     "output_type": "stream",
     "text": [
      "Iteration: 100%|██████████| 392/392 [00:30<00:00, 12.86it/s]\n",
      "Iteration:   6%|▌         | 24/392 [00:01<00:15, 23.14it/s]"
     ]
    },
    {
     "name": "stdout",
     "output_type": "stream",
     "text": [
      "Evaluating...\n"
     ]
    },
    {
     "name": "stderr",
     "output_type": "stream",
     "text": [
      "\r",
      "Iteration:  98%|█████████▊| 386/392 [00:30<00:00, 13.07it/s]\r",
      "Iteration:  32%|███▏      | 126/392 [00:05<00:11, 23.16it/s]\r",
      "Iteration:  99%|█████████▉| 390/392 [00:30<00:00, 12.96it/s]\r",
      "Iteration:   1%|          | 3/392 [00:00<00:18, 21.48it/s]\r",
      "Iteration:   7%|▋         | 27/392 [00:01<00:15, 23.14it/s]\r",
      "Iteration:  99%|█████████▉| 388/392 [00:30<00:00, 13.05it/s]\r",
      "Iteration:  33%|███▎      | 129/392 [00:05<00:11, 23.13it/s]\r",
      "Iteration: 100%|██████████| 392/392 [00:30<00:00, 13.16it/s]\r",
      "Iteration: 100%|██████████| 392/392 [00:30<00:00, 12.65it/s]\n",
      "\r",
      "Iteration:   0%|          | 0/392 [00:00<?, ?it/s]\r",
      "Iteration:   2%|▏         | 6/392 [00:00<00:17, 21.98it/s]\r",
      "Iteration:   8%|▊         | 30/392 [00:01<00:15, 23.13it/s]"
     ]
    },
    {
     "name": "stdout",
     "output_type": "stream",
     "text": [
      "Evaluating...\n"
     ]
    },
    {
     "name": "stderr",
     "output_type": "stream",
     "text": [
      "\r",
      "Iteration:  34%|███▎      | 132/392 [00:05<00:11, 23.10it/s]\r",
      "Iteration:  99%|█████████▉| 390/392 [00:30<00:00, 13.04it/s]\r",
      "Iteration:   1%|          | 3/392 [00:00<00:17, 21.61it/s]\r",
      "Iteration:   8%|▊         | 33/392 [00:01<00:15, 23.13it/s]\r",
      "Iteration:   2%|▏         | 9/392 [00:00<00:17, 22.19it/s]\r",
      "Iteration:  34%|███▍      | 135/392 [00:05<00:11, 23.09it/s]\r",
      "Iteration: 100%|██████████| 392/392 [00:30<00:00, 13.29it/s]\r",
      "Iteration: 100%|██████████| 392/392 [00:30<00:00, 12.87it/s]\n",
      "\r",
      "Iteration:   0%|          | 0/392 [00:00<?, ?it/s]\r",
      "Iteration:   2%|▏         | 6/392 [00:00<00:17, 22.21it/s]\r",
      "Iteration:   9%|▉         | 36/392 [00:01<00:15, 23.14it/s]\r",
      "Iteration:   3%|▎         | 12/392 [00:00<00:17, 22.28it/s]"
     ]
    },
    {
     "name": "stdout",
     "output_type": "stream",
     "text": [
      "Evaluating...\n"
     ]
    },
    {
     "name": "stderr",
     "output_type": "stream",
     "text": [
      "Iteration: 100%|██████████| 392/392 [00:17<00:00, 22.95it/s]\n",
      "Iteration: 100%|██████████| 392/392 [00:17<00:00, 22.85it/s]\n",
      "Iteration: 100%|██████████| 392/392 [00:17<00:00, 22.29it/s]\n",
      "Iteration: 100%|██████████| 109/109 [00:04<00:00, 23.14it/s]\n",
      "Iteration: 100%|██████████| 392/392 [00:17<00:00, 22.41it/s]\n",
      "Iteration: 100%|██████████| 392/392 [00:17<00:00, 22.55it/s]\n",
      "Iteration: 100%|██████████| 109/109 [00:04<00:00, 23.32it/s]\n",
      "Iteration: 100%|██████████| 109/109 [00:04<00:00, 22.29it/s]\n",
      "Iteration: 100%|██████████| 109/109 [00:04<00:00, 22.54it/s]\n",
      "Iteration: 100%|██████████| 109/109 [00:04<00:00, 22.54it/s]\n",
      "Iteration: 100%|██████████| 44/44 [00:02<00:00, 21.76it/s]\n"
     ]
    },
    {
     "name": "stdout",
     "output_type": "stream",
     "text": [
      "{'Train':  best_epoch_indx:5\n",
      " auc:0.8464856159005993 \n",
      " apur:0.5508990807080688 \n",
      " f1:0.4990113578884443 \n",
      " precision:0.35782115536797676 \n",
      " recall:0.824244265532432 \n",
      ", 'Validation':  best_epoch_indx:5\n",
      " auc:0.8369815012369005 \n",
      " apur:0.5349676955062741 \n",
      " f1:0.49322643074371025 \n",
      " precision:0.353968253968254 \n",
      " recall:0.813126709206928 \n",
      ", 'Test':  best_epoch_indx:5\n",
      " auc:0.8326251465103031 \n",
      " apur:0.5256585262710443 \n",
      " f1:0.4831515546150089 \n",
      " precision:0.3439697133585722 \n",
      " recall:0.8115202333211812 \n",
      "}\n",
      "=====Epoch 6\n",
      "Training...\n"
     ]
    },
    {
     "name": "stderr",
     "output_type": "stream",
     "text": [
      "Iteration: 100%|██████████| 44/44 [00:02<00:00, 20.33it/s]]\n",
      "Iteration:   1%|          | 2/392 [00:00<00:35, 11.05it/s]]"
     ]
    },
    {
     "name": "stdout",
     "output_type": "stream",
     "text": [
      "{'Train':  best_epoch_indx:5\n",
      " auc:0.8456721153356784 \n",
      " apur:0.5387349866062874 \n",
      " f1:0.49870058397284983 \n",
      " precision:0.3571882185481222 \n",
      " recall:0.8259152362144919 \n",
      ", 'Validation':  best_epoch_indx:5\n",
      " auc:0.8358577193123026 \n",
      " apur:0.5231444069759758 \n",
      " f1:0.48917092012691404 \n",
      " precision:0.35074183976261125 \n",
      " recall:0.8081130355515042 \n",
      ", 'Test':  best_epoch_indx:5\n",
      " auc:0.836341821431339 \n",
      " apur:0.5182185095505913 \n",
      " f1:0.49649771110253166 \n",
      " precision:0.35595096876235666 \n",
      " recall:0.8204520597885527 \n",
      "}\n",
      "=====Epoch 6\n",
      "Training...\n"
     ]
    },
    {
     "name": "stderr",
     "output_type": "stream",
     "text": [
      "Iteration: 100%|██████████| 44/44 [00:02<00:00, 21.36it/s]]\n",
      "Iteration:   5%|▌         | 20/392 [00:01<00:28, 12.83it/s]"
     ]
    },
    {
     "name": "stdout",
     "output_type": "stream",
     "text": [
      "{'Train':  best_epoch_indx:5\n",
      " auc:0.8401027068634181 \n",
      " apur:0.5344039967602999 \n",
      " f1:0.4783549783549784 \n",
      " precision:0.32945358637692795 \n",
      " recall:0.8728543217378095 \n",
      ", 'Validation':  best_epoch_indx:5\n",
      " auc:0.8322095024668793 \n",
      " apur:0.5214913726514514 \n",
      " f1:0.47079468538480823 \n",
      " precision:0.32468879668049794 \n",
      " recall:0.8559708295350957 \n",
      ", 'Test':  best_epoch_indx:5\n",
      " auc:0.8382806576848718 \n",
      " apur:0.5284978119580356 \n",
      " f1:0.47730907636945225 \n",
      " precision:0.3288114584767938 \n",
      " recall:0.8703973751367117 \n",
      "}\n",
      "=====Epoch 6\n",
      "Training...\n"
     ]
    },
    {
     "name": "stderr",
     "output_type": "stream",
     "text": [
      "\r",
      "Iteration:  20%|█▉        | 78/392 [00:06<00:24, 12.94it/s]\r",
      "Iteration:  66%|██████▌   | 29/44 [00:01<00:00, 21.97it/s]\r",
      "Iteration: 100%|██████████| 44/44 [00:02<00:00, 21.26it/s]\r",
      "Iteration: 100%|██████████| 44/44 [00:02<00:00, 21.02it/s]\n",
      "\r",
      "Iteration:   1%|          | 4/392 [00:00<00:33, 11.57it/s]\r",
      "Iteration:   6%|▌         | 22/392 [00:01<00:29, 12.62it/s]\r",
      "Iteration:  73%|███████▎  | 32/44 [00:01<00:00, 22.09it/s]\r",
      "Iteration:  20%|██        | 80/392 [00:06<00:24, 12.98it/s]\r",
      "Iteration:   0%|          | 0/392 [00:00<?, ?it/s]"
     ]
    },
    {
     "name": "stdout",
     "output_type": "stream",
     "text": [
      "{'Train':  best_epoch_indx:5\n",
      " auc:0.8459607267724352 \n",
      " apur:0.5526431970741548 \n",
      " f1:0.4867349430471567 \n",
      " precision:0.3397433326649288 \n",
      " recall:0.8579168565496987 \n",
      ", 'Validation':  best_epoch_indx:5\n",
      " auc:0.8373834419167945 \n",
      " apur:0.530924194935957 \n",
      " f1:0.4863316844571726 \n",
      " precision:0.3404410424640058 \n",
      " recall:0.8510250569476082 \n",
      ", 'Test':  best_epoch_indx:5\n",
      " auc:0.8354899122388949 \n",
      " apur:0.533551676975591 \n",
      " f1:0.4775748797268635 \n",
      " precision:0.33338148201646683 \n",
      " recall:0.8415679124886053 \n",
      "}\n",
      "=====Epoch 6\n",
      "Training...\n"
     ]
    },
    {
     "name": "stderr",
     "output_type": "stream",
     "text": [
      "Iteration: 100%|██████████| 44/44 [00:02<00:00, 21.67it/s]]\n",
      "Iteration:   4%|▎         | 14/392 [00:01<00:30, 12.35it/s]"
     ]
    },
    {
     "name": "stdout",
     "output_type": "stream",
     "text": [
      "{'Train':  best_epoch_indx:5\n",
      " auc:0.8443544669248957 \n",
      " apur:0.5411818893688682 \n",
      " f1:0.4841454421691531 \n",
      " precision:0.3362420469990348 \n",
      " recall:0.8643475619018685 \n",
      ", 'Validation':  best_epoch_indx:5\n",
      " auc:0.8388481576117941 \n",
      " apur:0.5307858308516085 \n",
      " f1:0.4817215452424164 \n",
      " precision:0.33659420289855074 \n",
      " recall:0.8468550592525068 \n",
      ", 'Test':  best_epoch_indx:5\n",
      " auc:0.8369716467999682 \n",
      " apur:0.5274370367645956 \n",
      " f1:0.4840612709583937 \n",
      " precision:0.3379823673941321 \n",
      " recall:0.8525337222019687 \n",
      "}\n",
      "=====Epoch 6\n",
      "Training...\n"
     ]
    },
    {
     "name": "stderr",
     "output_type": "stream",
     "text": [
      "Iteration: 100%|██████████| 392/392 [00:30<00:00, 12.84it/s]\n",
      "Iteration:   1%|          | 3/392 [00:00<00:17, 22.18it/s]s]"
     ]
    },
    {
     "name": "stdout",
     "output_type": "stream",
     "text": [
      "Evaluating...\n"
     ]
    },
    {
     "name": "stderr",
     "output_type": "stream",
     "text": [
      "Iteration: 100%|██████████| 392/392 [00:30<00:00, 12.94it/s]\n",
      "Iteration:  92%|█████████▏| 362/392 [00:28<00:02, 12.76it/s]"
     ]
    },
    {
     "name": "stdout",
     "output_type": "stream",
     "text": [
      "Evaluating...\n"
     ]
    },
    {
     "name": "stderr",
     "output_type": "stream",
     "text": [
      "Iteration: 100%|██████████| 392/392 [00:30<00:00, 12.94it/s]\n",
      "Iteration:   8%|▊         | 33/392 [00:01<00:15, 22.86it/s]]"
     ]
    },
    {
     "name": "stdout",
     "output_type": "stream",
     "text": [
      "Evaluating...\n"
     ]
    },
    {
     "name": "stderr",
     "output_type": "stream",
     "text": [
      "Iteration: 100%|██████████| 392/392 [00:30<00:00, 12.69it/s]\n",
      "Iteration:   1%|          | 3/392 [00:00<00:18, 21.44it/s]s]"
     ]
    },
    {
     "name": "stdout",
     "output_type": "stream",
     "text": [
      "Evaluating...\n"
     ]
    },
    {
     "name": "stderr",
     "output_type": "stream",
     "text": [
      "\r",
      "Iteration:   7%|▋         | 27/392 [00:01<00:16, 22.35it/s]\r",
      "Iteration:  15%|█▌        | 60/392 [00:02<00:14, 22.73it/s]\r",
      "Iteration: 100%|██████████| 392/392 [00:30<00:00, 13.04it/s]\r",
      "Iteration: 100%|██████████| 392/392 [00:30<00:00, 12.86it/s]\n",
      "\r",
      "Iteration:   0%|          | 0/392 [00:00<?, ?it/s]\r",
      "Iteration:  41%|████▏     | 162/392 [00:07<00:10, 23.00it/s]\r",
      "Iteration:   2%|▏         | 6/392 [00:00<00:17, 21.95it/s]\r",
      "Iteration:   8%|▊         | 30/392 [00:01<00:16, 22.31it/s]\r",
      "Iteration:  16%|█▌        | 63/392 [00:02<00:14, 22.33it/s]\r",
      "Iteration:  42%|████▏     | 165/392 [00:07<00:09, 23.01it/s]\r",
      "Iteration:   1%|          | 3/392 [00:00<00:18, 21.18it/s]"
     ]
    },
    {
     "name": "stdout",
     "output_type": "stream",
     "text": [
      "Evaluating...\n"
     ]
    },
    {
     "name": "stderr",
     "output_type": "stream",
     "text": [
      "Iteration: 100%|██████████| 392/392 [00:17<00:00, 22.10it/s]\n",
      "Iteration: 100%|██████████| 392/392 [00:18<00:00, 21.73it/s]\n",
      "Iteration: 100%|██████████| 109/109 [00:04<00:00, 23.37it/s]\n",
      "Iteration: 100%|██████████| 392/392 [00:18<00:00, 21.35it/s]\n",
      "Iteration: 100%|██████████| 392/392 [00:18<00:00, 21.35it/s]\n",
      "Iteration: 100%|██████████| 392/392 [00:18<00:00, 21.32it/s]\n",
      "Iteration: 100%|██████████| 109/109 [00:04<00:00, 23.16it/s]\n",
      "Iteration: 100%|██████████| 109/109 [00:04<00:00, 22.37it/s]\n",
      "Iteration: 100%|██████████| 109/109 [00:04<00:00, 22.37it/s]\n",
      "Iteration: 100%|██████████| 109/109 [00:04<00:00, 22.16it/s]\n",
      "Iteration: 100%|██████████| 44/44 [00:02<00:00, 21.46it/s]\n"
     ]
    },
    {
     "name": "stdout",
     "output_type": "stream",
     "text": [
      "{'Train':  best_epoch_indx:6\n",
      " auc:0.8572779322785642 \n",
      " apur:0.5754019784822701 \n",
      " f1:0.5085214187010595 \n",
      " precision:0.3649104250677596 \n",
      " recall:0.8385234695427617 \n",
      ", 'Validation':  best_epoch_indx:6\n",
      " auc:0.8460227260809613 \n",
      " apur:0.5617759740341259 \n",
      " f1:0.5002092342028176 \n",
      " precision:0.36040201005025124 \n",
      " recall:0.817228805834093 \n",
      ", 'Test':  best_epoch_indx:6\n",
      " auc:0.841780721660223 \n",
      " apur:0.5462643921501018 \n",
      " f1:0.4914192318169436 \n",
      " precision:0.350454580775507 \n",
      " recall:0.8220925993437842 \n",
      "}\n",
      "=====Epoch 7\n",
      "Training...\n"
     ]
    },
    {
     "name": "stderr",
     "output_type": "stream",
     "text": [
      "Iteration: 100%|██████████| 44/44 [00:02<00:00, 20.08it/s]]\n",
      "Iteration:  16%|█▌        | 62/392 [00:04<00:26, 12.54it/s]"
     ]
    },
    {
     "name": "stdout",
     "output_type": "stream",
     "text": [
      "{'Train':  best_epoch_indx:6\n",
      " auc:0.8581370295123492 \n",
      " apur:0.572096589789916 \n",
      " f1:0.5126799392240096 \n",
      " precision:0.37115576521818017 \n",
      " recall:0.8286495518760444 \n",
      ", 'Validation':  best_epoch_indx:6\n",
      " auc:0.8461825771746649 \n",
      " apur:0.5515340185558213 \n",
      " f1:0.500351370344343 \n",
      " precision:0.3617150985572038 \n",
      " recall:0.8113035551504102 \n",
      ", 'Test':  best_epoch_indx:6\n",
      " auc:0.8450464512481868 \n",
      " apur:0.540171304286799 \n",
      " f1:0.5056167025984342 \n",
      " precision:0.36705107084019767 \n",
      " recall:0.8122493620123952 \n",
      "}\n",
      "=====Epoch 7\n",
      "Training...\n"
     ]
    },
    {
     "name": "stderr",
     "output_type": "stream",
     "text": [
      "Iteration: 100%|██████████| 44/44 [00:02<00:00, 20.54it/s]]\n",
      "Iteration:  21%|██▏       | 84/392 [00:06<00:24, 12.34it/s]"
     ]
    },
    {
     "name": "stdout",
     "output_type": "stream",
     "text": [
      "{'Train':  best_epoch_indx:6\n",
      " auc:0.8547426115995771 \n",
      " apur:0.576093413162042 \n",
      " f1:0.47683183163080883 \n",
      " precision:0.3241118229470006 \n",
      " recall:0.9017165426097524 \n",
      ", 'Validation':  best_epoch_indx:6\n",
      " auc:0.8517252843277129 \n",
      " apur:0.5676102095101033 \n",
      " f1:0.47103969300875403 \n",
      " precision:0.31960943856794144 \n",
      " recall:0.8951686417502279 \n",
      ", 'Test':  best_epoch_indx:6\n",
      " auc:0.8521091253479982 \n",
      " apur:0.5629102559771315 \n",
      " f1:0.47622714148219447 \n",
      " precision:0.3235255655812737 \n",
      " recall:0.9019321910317171 \n",
      "}\n",
      "=====Epoch 7\n",
      "Training...\n"
     ]
    },
    {
     "name": "stderr",
     "output_type": "stream",
     "text": [
      "Iteration: 100%|██████████| 44/44 [00:02<00:00, 21.21it/s]]\n",
      "Iteration:   2%|▏         | 8/392 [00:00<00:31, 12.34it/s]]"
     ]
    },
    {
     "name": "stdout",
     "output_type": "stream",
     "text": [
      "{'Train':  best_epoch_indx:6\n",
      " auc:0.855723611397496 \n",
      " apur:0.5725626490559066 \n",
      " f1:0.4970338675756037 \n",
      " precision:0.348280347995772 \n",
      " recall:0.8675882323155603 \n",
      ", 'Validation':  best_epoch_indx:6\n",
      " auc:0.8442178048919589 \n",
      " apur:0.5446752562196797 \n",
      " f1:0.492094603423494 \n",
      " precision:0.34499816782704285 \n",
      " recall:0.8578587699316629 \n",
      ", 'Test':  best_epoch_indx:6\n",
      " auc:0.8413999789222985 \n",
      " apur:0.5436666969769752 \n",
      " f1:0.486165390026575 \n",
      " precision:0.34036188530570555 \n",
      " recall:0.8505013673655424 \n",
      "}\n",
      "=====Epoch 7\n",
      "Training...\n"
     ]
    },
    {
     "name": "stderr",
     "output_type": "stream",
     "text": [
      "Iteration: 100%|██████████| 44/44 [00:02<00:00, 20.82it/s]]]\n",
      "Iteration:   0%|          | 0/392 [00:00<?, ?it/s]2.24it/s]]"
     ]
    },
    {
     "name": "stdout",
     "output_type": "stream",
     "text": [
      "{'Train':  best_epoch_indx:6\n",
      " auc:0.8582011872267181 \n",
      " apur:0.577202311834915 \n",
      " f1:0.49004382689082737 \n",
      " precision:0.3395102710302273 \n",
      " recall:0.8803990075446858 \n",
      ", 'Validation':  best_epoch_indx:6\n",
      " auc:0.8483770321183027 \n",
      " apur:0.558743078537811 \n",
      " f1:0.48605577689243024 \n",
      " precision:0.3384642921066762 \n",
      " recall:0.8618960802187785 \n",
      ", 'Test':  best_epoch_indx:6\n",
      " auc:0.8491911631267056 \n",
      " apur:0.5641298792909116 \n",
      " f1:0.48765686072824527 \n",
      " precision:0.33966184267086974 \n",
      " recall:0.8641997812613926 \n",
      "}\n",
      "=====Epoch 7\n",
      "Training...\n"
     ]
    },
    {
     "name": "stderr",
     "output_type": "stream",
     "text": [
      "Iteration: 100%|██████████| 392/392 [00:30<00:00, 12.93it/s]\n",
      "Iteration:  78%|███████▊  | 306/392 [00:23<00:06, 12.90it/s]"
     ]
    },
    {
     "name": "stdout",
     "output_type": "stream",
     "text": [
      "Evaluating...\n"
     ]
    },
    {
     "name": "stderr",
     "output_type": "stream",
     "text": [
      "Iteration: 100%|██████████| 392/392 [00:30<00:00, 13.07it/s]\n",
      "Iteration:  93%|█████████▎| 364/392 [00:28<00:02, 12.98it/s]"
     ]
    },
    {
     "name": "stdout",
     "output_type": "stream",
     "text": [
      "Evaluating...\n"
     ]
    },
    {
     "name": "stderr",
     "output_type": "stream",
     "text": [
      "Iteration: 100%|██████████| 392/392 [00:30<00:00, 12.90it/s]\n",
      "Iteration:  14%|█▍        | 54/392 [00:02<00:14, 23.05it/s]]"
     ]
    },
    {
     "name": "stdout",
     "output_type": "stream",
     "text": [
      "Evaluating...\n"
     ]
    },
    {
     "name": "stderr",
     "output_type": "stream",
     "text": [
      "Iteration: 100%|██████████| 392/392 [00:30<00:00, 12.71it/s]\n",
      "Iteration:   1%|          | 3/392 [00:00<00:18, 21.51it/s]s]"
     ]
    },
    {
     "name": "stdout",
     "output_type": "stream",
     "text": [
      "Evaluating...\n"
     ]
    },
    {
     "name": "stderr",
     "output_type": "stream",
     "text": [
      "Iteration: 100%|██████████| 392/392 [00:30<00:00, 12.87it/s]\n",
      "Iteration:  54%|█████▍    | 213/392 [00:09<00:07, 23.27it/s]"
     ]
    },
    {
     "name": "stdout",
     "output_type": "stream",
     "text": [
      "Evaluating...\n"
     ]
    },
    {
     "name": "stderr",
     "output_type": "stream",
     "text": [
      "Iteration: 100%|██████████| 392/392 [00:16<00:00, 23.22it/s]\n",
      "Iteration: 100%|██████████| 392/392 [00:17<00:00, 23.00it/s]\n",
      "Iteration: 100%|██████████| 109/109 [00:04<00:00, 23.32it/s]\n",
      "Iteration: 100%|██████████| 392/392 [00:17<00:00, 22.39it/s]\n",
      "Iteration: 100%|██████████| 392/392 [00:17<00:00, 22.42it/s]\n",
      "Iteration: 100%|██████████| 392/392 [00:17<00:00, 22.11it/s]\n",
      "Iteration: 100%|██████████| 109/109 [00:04<00:00, 23.25it/s]\n",
      "Iteration: 100%|██████████| 109/109 [00:04<00:00, 22.55it/s]\n",
      "Iteration: 100%|██████████| 109/109 [00:04<00:00, 22.44it/s]\n",
      "Iteration: 100%|██████████| 109/109 [00:04<00:00, 22.09it/s]\n",
      "Iteration: 100%|██████████| 44/44 [00:02<00:00, 21.85it/s]\n"
     ]
    },
    {
     "name": "stdout",
     "output_type": "stream",
     "text": [
      "{'Train':  best_epoch_indx:7\n",
      " auc:0.8679325766448251 \n",
      " apur:0.5959748972561281 \n",
      " f1:0.5094331299169179 \n",
      " precision:0.35896054376657827 \n",
      " recall:0.87710770165578 \n",
      ", 'Validation':  best_epoch_indx:7\n",
      " auc:0.8525231764159543 \n",
      " apur:0.5690133090672793 \n",
      " f1:0.49564868121569156 \n",
      " precision:0.3509004739336493 \n",
      " recall:0.8436645396536008 \n",
      ", 'Test':  best_epoch_indx:7\n",
      " auc:0.8496216503972893 \n",
      " apur:0.5588990551914561 \n",
      " f1:0.4908309755841978 \n",
      " precision:0.34441176470588236 \n",
      " recall:0.8538096974115932 \n",
      "}\n",
      "=====Epoch 8\n",
      "Training...\n"
     ]
    },
    {
     "name": "stderr",
     "output_type": "stream",
     "text": [
      "Iteration: 100%|██████████| 44/44 [00:02<00:00, 21.71it/s]]\n",
      "Iteration:   0%|          | 0/392 [00:00<?, ?it/s]2.82it/s]"
     ]
    },
    {
     "name": "stdout",
     "output_type": "stream",
     "text": [
      "{'Train':  best_epoch_indx:7\n",
      " auc:0.8676536442824443 \n",
      " apur:0.5974127272975331 \n",
      " f1:0.5170032291457441 \n",
      " precision:0.3720149419664695 \n",
      " recall:0.8471821358043445 \n",
      ", 'Validation':  best_epoch_indx:7\n",
      " auc:0.8550859957353466 \n",
      " apur:0.5719736999324118 \n",
      " f1:0.504236699541603 \n",
      " precision:0.3626373626373626 \n",
      " recall:0.8272561531449407 \n",
      ", 'Test':  best_epoch_indx:7\n",
      " auc:0.8537566483930785 \n",
      " apur:0.5665888152429127 \n",
      " f1:0.5093437152391546 \n",
      " precision:0.3664959180406595 \n",
      " recall:0.8346700692672256 \n",
      "}\n",
      "=====Epoch 8\n",
      "Training...\n"
     ]
    },
    {
     "name": "stderr",
     "output_type": "stream",
     "text": [
      "Iteration: 100%|██████████| 44/44 [00:02<00:00, 20.59it/s]]\n",
      "Iteration:   0%|          | 0/392 [00:00<?, ?it/s].75it/s]]"
     ]
    },
    {
     "name": "stdout",
     "output_type": "stream",
     "text": [
      "{'Train':  best_epoch_indx:7\n",
      " auc:0.8627265350625113 \n",
      " apur:0.5865975241971084 \n",
      " f1:0.49899304414894374 \n",
      " precision:0.3475250676428458 \n",
      " recall:0.8845004810370145 \n",
      ", 'Validation':  best_epoch_indx:7\n",
      " auc:0.8595512968682945 \n",
      " apur:0.5803641537444513 \n",
      " f1:0.49587628865979383 \n",
      " precision:0.3456701401365433 \n",
      " recall:0.8769371011850501 \n",
      ", 'Test':  best_epoch_indx:7\n",
      " auc:0.8554255984360849 \n",
      " apur:0.5660230268942232 \n",
      " f1:0.4920317704330002 \n",
      " precision:0.34221968778957873 \n",
      " recall:0.8751367116296026 \n",
      "}\n",
      "=====Epoch 8\n",
      "Training...\n"
     ]
    },
    {
     "name": "stderr",
     "output_type": "stream",
     "text": [
      "Iteration: 100%|██████████| 44/44 [00:02<00:00, 19.94it/s]]]\n",
      "Iteration:  29%|██▊       | 112/392 [00:08<00:22, 12.55it/s]"
     ]
    },
    {
     "name": "stdout",
     "output_type": "stream",
     "text": [
      "{'Train':  best_epoch_indx:7\n",
      " auc:0.8678240756356346 \n",
      " apur:0.6021365291009768 \n",
      " f1:0.515693005578373 \n",
      " precision:0.3697558402742676 \n",
      " recall:0.8519418704744544 \n",
      ", 'Validation':  best_epoch_indx:7\n",
      " auc:0.853955594284775 \n",
      " apur:0.5712700279134693 \n",
      " f1:0.5055885193873326 \n",
      " precision:0.36262866191607285 \n",
      " recall:0.834624145785877 \n",
      ", 'Test':  best_epoch_indx:7\n",
      " auc:0.8525089647357971 \n",
      " apur:0.5653066303001951 \n",
      " f1:0.5013181019332161 \n",
      " precision:0.3587204275721135 \n",
      " recall:0.8320875113947128 \n",
      "}\n",
      "=====Epoch 8\n",
      "Training...\n"
     ]
    },
    {
     "name": "stderr",
     "output_type": "stream",
     "text": [
      "Iteration: 100%|██████████| 44/44 [00:02<00:00, 21.19it/s]s]\n",
      "Iteration:   1%|          | 2/392 [00:00<00:34, 11.38it/s]s]"
     ]
    },
    {
     "name": "stdout",
     "output_type": "stream",
     "text": [
      "{'Train':  best_epoch_indx:7\n",
      " auc:0.864946672487957 \n",
      " apur:0.593202245856991 \n",
      " f1:0.5120787672798769 \n",
      " precision:0.3662945357812568 \n",
      " recall:0.8506253481188921 \n",
      ", 'Validation':  best_epoch_indx:7\n",
      " auc:0.8554910874782541 \n",
      " apur:0.5780227629230704 \n",
      " f1:0.5105672969966629 \n",
      " precision:0.3673469387755102 \n",
      " recall:0.8368277119416591 \n",
      ", 'Test':  best_epoch_indx:7\n",
      " auc:0.8536145528019641 \n",
      " apur:0.5697129168576636 \n",
      " f1:0.5071642785738087 \n",
      " precision:0.3646964856230032 \n",
      " recall:0.8323004010207802 \n",
      "}\n",
      "=====Epoch 8\n",
      "Training...\n"
     ]
    },
    {
     "name": "stderr",
     "output_type": "stream",
     "text": [
      "Iteration: 100%|██████████| 392/392 [00:30<00:00, 12.90it/s]\n",
      "Iteration:  70%|██████▉   | 274/392 [00:21<00:09, 12.67it/s]"
     ]
    },
    {
     "name": "stdout",
     "output_type": "stream",
     "text": [
      "Evaluating...\n"
     ]
    },
    {
     "name": "stderr",
     "output_type": "stream",
     "text": [
      "Iteration: 100%|██████████| 392/392 [00:30<00:00, 12.97it/s]\n",
      "Iteration:  86%|████████▌ | 338/392 [00:26<00:04, 12.87it/s]"
     ]
    },
    {
     "name": "stdout",
     "output_type": "stream",
     "text": [
      "Evaluating...\n"
     ]
    },
    {
     "name": "stderr",
     "output_type": "stream",
     "text": [
      "Iteration: 100%|██████████| 392/392 [00:30<00:00, 12.90it/s]\n",
      "Iteration:  17%|█▋        | 66/392 [00:02<00:14, 22.03it/s]]"
     ]
    },
    {
     "name": "stdout",
     "output_type": "stream",
     "text": [
      "Evaluating...\n"
     ]
    },
    {
     "name": "stderr",
     "output_type": "stream",
     "text": [
      "Iteration: 100%|██████████| 392/392 [00:30<00:00, 12.69it/s]\n",
      "Iteration:  10%|▉         | 39/392 [00:01<00:15, 22.54it/s]]"
     ]
    },
    {
     "name": "stdout",
     "output_type": "stream",
     "text": [
      "Evaluating...\n"
     ]
    },
    {
     "name": "stderr",
     "output_type": "stream",
     "text": [
      "Iteration: 100%|██████████| 392/392 [00:30<00:00, 12.83it/s]\n",
      "Iteration:  38%|███▊      | 147/392 [00:06<00:10, 22.73it/s]"
     ]
    },
    {
     "name": "stdout",
     "output_type": "stream",
     "text": [
      "Evaluating...\n"
     ]
    },
    {
     "name": "stderr",
     "output_type": "stream",
     "text": [
      "Iteration: 100%|██████████| 392/392 [00:17<00:00, 21.89it/s]\n",
      "Iteration: 100%|██████████| 392/392 [00:18<00:00, 21.67it/s]\n",
      "Iteration: 100%|██████████| 109/109 [00:04<00:00, 23.13it/s]\n",
      "Iteration: 100%|██████████| 392/392 [00:18<00:00, 21.65it/s]\n",
      "Iteration: 100%|██████████| 392/392 [00:18<00:00, 21.40it/s]\n",
      "Iteration: 100%|██████████| 109/109 [00:04<00:00, 22.75it/s]\n",
      "Iteration: 100%|██████████| 392/392 [00:18<00:00, 21.20it/s]\n",
      "Iteration: 100%|██████████| 109/109 [00:04<00:00, 22.49it/s]\n",
      "Iteration: 100%|██████████| 109/109 [00:04<00:00, 22.07it/s]\n",
      "Iteration: 100%|██████████| 109/109 [00:04<00:00, 22.07it/s]\n",
      "Iteration: 100%|██████████| 44/44 [00:02<00:00, 21.88it/s]\n"
     ]
    },
    {
     "name": "stdout",
     "output_type": "stream",
     "text": [
      "{'Train':  best_epoch_indx:8\n",
      " auc:0.8735665266601189 \n",
      " apur:0.6094028540032337 \n",
      " f1:0.5322017300473315 \n",
      " precision:0.3926687700199899 \n",
      " recall:0.8255607878879944 \n",
      ", 'Validation':  best_epoch_indx:8\n",
      " auc:0.8571903627052988 \n",
      " apur:0.5799275325877651 \n",
      " f1:0.5176400830121554 \n",
      " precision:0.3835676625659051 \n",
      " recall:0.7958067456700091 \n",
      ", 'Test':  best_epoch_indx:8\n",
      " auc:0.8543118458714296 \n",
      " apur:0.5729245469436413 \n",
      " f1:0.5128354386169159 \n",
      " precision:0.3767211151971265 \n",
      " recall:0.8029529711994167 \n",
      "}\n",
      "=====Epoch 9\n",
      "Training...\n"
     ]
    },
    {
     "name": "stderr",
     "output_type": "stream",
     "text": [
      "Iteration: 100%|██████████| 44/44 [00:02<00:00, 21.71it/s]]\n",
      "Iteration:   0%|          | 0/392 [00:00<?, ?it/s]2.45it/s]"
     ]
    },
    {
     "name": "stdout",
     "output_type": "stream",
     "text": [
      "{'Train':  best_epoch_indx:8\n",
      " auc:0.876331950214354 \n",
      " apur:0.6203774431628095 \n",
      " f1:0.524460867270102 \n",
      " precision:0.3781907747424989 \n",
      " recall:0.8552331763633602 \n",
      ", 'Validation':  best_epoch_indx:8\n",
      " auc:0.864854846145682 \n",
      " apur:0.5969495982447057 \n",
      " f1:0.5181144215974263 \n",
      " precision:0.3737638748738648 \n",
      " recall:0.8441203281677302 \n",
      ", 'Test':  best_epoch_indx:8\n",
      " auc:0.8597715406163863 \n",
      " apur:0.5842305010983688 \n",
      " f1:0.514148036084496 \n",
      " precision:0.37116738127983173 \n",
      " recall:0.8363106088224571 \n",
      "}\n",
      "=====Epoch 9\n",
      "Training...\n"
     ]
    },
    {
     "name": "stderr",
     "output_type": "stream",
     "text": [
      "Iteration: 100%|██████████| 44/44 [00:02<00:00, 19.26it/s]]\n",
      "Iteration:  26%|██▌       | 102/392 [00:08<00:23, 12.23it/s]"
     ]
    },
    {
     "name": "stdout",
     "output_type": "stream",
     "text": [
      "{'Train':  best_epoch_indx:8\n",
      " auc:0.8736206839636402 \n",
      " apur:0.6154223056887459 \n",
      " f1:0.5140659665729921 \n",
      " precision:0.36309312383778025 \n",
      " recall:0.8799432882677604 \n",
      ", 'Validation':  best_epoch_indx:8\n",
      " auc:0.8655656916470096 \n",
      " apur:0.5986778014639658 \n",
      " f1:0.5050046710262912 \n",
      " precision:0.3570484997169277 \n",
      " recall:0.8623518687329079 \n",
      ", 'Test':  best_epoch_indx:8\n",
      " auc:0.8646029276266013 \n",
      " apur:0.5920499419636098 \n",
      " f1:0.5075451647183847 \n",
      " precision:0.3581820908954552 \n",
      " recall:0.8705796573095151 \n",
      "}\n",
      "=====Epoch 9\n",
      "Training...\n"
     ]
    },
    {
     "name": "stderr",
     "output_type": "stream",
     "text": [
      "Iteration: 100%|██████████| 44/44 [00:02<00:00, 20.85it/s]]]\n",
      "Iteration:  14%|█▍        | 54/392 [00:04<00:26, 12.86it/s]]"
     ]
    },
    {
     "name": "stdout",
     "output_type": "stream",
     "text": [
      "{'Train':  best_epoch_indx:8\n",
      " auc:0.8758279202382105 \n",
      " apur:0.6190869082926646 \n",
      " f1:0.5135381449360577 \n",
      " precision:0.36179863714504673 \n",
      " recall:0.8845004810370145 \n",
      ", 'Validation':  best_epoch_indx:8\n",
      " auc:0.8608848140270596 \n",
      " apur:0.5857027937021052 \n",
      " f1:0.5019815059445178 \n",
      " precision:0.35348837209302325 \n",
      " recall:0.8656036446469249 \n",
      ", 'Test':  best_epoch_indx:8\n",
      " auc:0.8591784361687989 \n",
      " apur:0.5815952009761961 \n",
      " f1:0.5010805967002266 \n",
      " precision:0.3524395669583272 \n",
      " recall:0.8665451230628988 \n",
      "}\n",
      "=====Epoch 9\n",
      "Training...\n"
     ]
    },
    {
     "name": "stderr",
     "output_type": "stream",
     "text": [
      "Iteration: 100%|██████████| 44/44 [00:02<00:00, 21.56it/s]]]\n",
      "Iteration:   0%|          | 0/392 [00:00<?, ?it/s]3.15it/s]]"
     ]
    },
    {
     "name": "stdout",
     "output_type": "stream",
     "text": [
      "{'Train':  best_epoch_indx:8\n",
      " auc:0.874781364531589 \n",
      " apur:0.6152246876010482 \n",
      " f1:0.5315681953447972 \n",
      " precision:0.3895280305530671 \n",
      " recall:0.8366499569598461 \n",
      ", 'Validation':  best_epoch_indx:8\n",
      " auc:0.8612031684118634 \n",
      " apur:0.5865700313710508 \n",
      " f1:0.5221848001171475 \n",
      " precision:0.38468176914778857 \n",
      " recall:0.8126709206927986 \n",
      ", 'Test':  best_epoch_indx:8\n",
      " auc:0.8607225441168498 \n",
      " apur:0.5908171022631035 \n",
      " f1:0.5209437809496068 \n",
      " precision:0.38282387190684136 \n",
      " recall:0.8149835946044477 \n",
      "}\n",
      "=====Epoch 9\n",
      "Training...\n"
     ]
    },
    {
     "name": "stderr",
     "output_type": "stream",
     "text": [
      "Iteration: 100%|██████████| 392/392 [00:30<00:00, 12.89it/s]\n",
      "Iteration:   1%|          | 3/392 [00:00<00:17, 21.96it/s]s]"
     ]
    },
    {
     "name": "stdout",
     "output_type": "stream",
     "text": [
      "Evaluating...\n"
     ]
    },
    {
     "name": "stderr",
     "output_type": "stream",
     "text": [
      "Iteration: 100%|██████████| 392/392 [00:30<00:00, 13.00it/s]\n",
      "Iteration:  31%|███       | 120/392 [00:05<00:11, 22.89it/s]"
     ]
    },
    {
     "name": "stdout",
     "output_type": "stream",
     "text": [
      "Evaluating...\n"
     ]
    },
    {
     "name": "stderr",
     "output_type": "stream",
     "text": [
      "Iteration: 100%|██████████| 392/392 [00:30<00:00, 12.89it/s]\n",
      "Iteration:  18%|█▊        | 69/392 [00:02<00:13, 23.36it/s]]"
     ]
    },
    {
     "name": "stdout",
     "output_type": "stream",
     "text": [
      "Evaluating...\n"
     ]
    },
    {
     "name": "stderr",
     "output_type": "stream",
     "text": [
      "Iteration: 100%|██████████| 392/392 [00:30<00:00, 12.75it/s]\n",
      "Iteration:   1%|          | 3/392 [00:00<00:17, 21.65it/s]]]"
     ]
    },
    {
     "name": "stdout",
     "output_type": "stream",
     "text": [
      "Evaluating...\n"
     ]
    },
    {
     "name": "stderr",
     "output_type": "stream",
     "text": [
      "Iteration: 100%|██████████| 392/392 [00:30<00:00, 12.88it/s]\n",
      "Iteration:  18%|█▊        | 69/392 [00:03<00:14, 22.67it/s]]"
     ]
    },
    {
     "name": "stdout",
     "output_type": "stream",
     "text": [
      "Evaluating...\n"
     ]
    },
    {
     "name": "stderr",
     "output_type": "stream",
     "text": [
      "Iteration: 100%|██████████| 392/392 [00:17<00:00, 22.77it/s]\n",
      "Iteration: 100%|██████████| 392/392 [00:17<00:00, 22.70it/s]\n",
      "Iteration: 100%|██████████| 109/109 [00:04<00:00, 23.03it/s]\n",
      "Iteration: 100%|██████████| 392/392 [00:17<00:00, 22.58it/s]\n",
      "Iteration: 100%|██████████| 392/392 [00:17<00:00, 22.35it/s]\n",
      "Iteration: 100%|██████████| 109/109 [00:04<00:00, 22.76it/s]\n",
      "Iteration: 100%|██████████| 392/392 [00:17<00:00, 22.36it/s]\n",
      "Iteration: 100%|██████████| 109/109 [00:04<00:00, 22.67it/s]\n",
      "Iteration: 100%|██████████| 109/109 [00:04<00:00, 22.45it/s]\n",
      "Iteration: 100%|██████████| 109/109 [00:04<00:00, 22.23it/s]\n",
      "Iteration: 100%|██████████| 44/44 [00:02<00:00, 21.79it/s]\n"
     ]
    },
    {
     "name": "stdout",
     "output_type": "stream",
     "text": [
      "{'Train':  best_epoch_indx:9\n",
      " auc:0.8814743685643522 \n",
      " apur:0.6283092222729565 \n",
      " f1:0.5353863719255958 \n",
      " precision:0.38975341706686367 \n",
      " recall:0.8547774570864347 \n",
      ", 'Validation':  best_epoch_indx:9\n",
      " auc:0.8636122194110952 \n",
      " apur:0.5958542151566262 \n",
      " f1:0.5180897250361794 \n",
      " precision:0.3795589482612383 \n",
      " recall:0.8158614402917046 \n",
      ", 'Test':  best_epoch_indx:9\n",
      " auc:0.8604179563779163 \n",
      " apur:0.5864243010473787 \n",
      " f1:0.5153541076487251 \n",
      " precision:0.3738901677079908 \n",
      " recall:0.8290193219103171 \n",
      "}\n",
      "=====Epoch 10\n",
      "Training...\n"
     ]
    },
    {
     "name": "stderr",
     "output_type": "stream",
     "text": [
      "Iteration: 100%|██████████| 44/44 [00:02<00:00, 21.81it/s]]\n",
      "Iteration:   0%|          | 0/392 [00:00<?, ?it/s]2.84it/s]"
     ]
    },
    {
     "name": "stdout",
     "output_type": "stream",
     "text": [
      "{'Train':  best_epoch_indx:9\n",
      " auc:0.8850381803881227 \n",
      " apur:0.6390699134420981 \n",
      " f1:0.5410519922642927 \n",
      " precision:0.3953010416180111 \n",
      " recall:0.8570560534710618 \n",
      ", 'Validation':  best_epoch_indx:9\n",
      " auc:0.8697443053703339 \n",
      " apur:0.605619324523825 \n",
      " f1:0.5238639611317519 \n",
      " precision:0.3815570358034971 \n",
      " recall:0.8354603463992707 \n",
      ", 'Test':  best_epoch_indx:9\n",
      " auc:0.8651481734123554 \n",
      " apur:0.5964928600897861 \n",
      " f1:0.5244183367887584 \n",
      " precision:0.3833136891732615 \n",
      " recall:0.8299307327743347 \n",
      "}\n",
      "=====Epoch 10\n",
      "Training...\n"
     ]
    },
    {
     "name": "stderr",
     "output_type": "stream",
     "text": [
      "Iteration: 100%|██████████| 44/44 [00:02<00:00, 18.85it/s]s]\n",
      "Iteration:   0%|          | 0/392 [00:00<?, ?it/s]95it/s]/s]"
     ]
    },
    {
     "name": "stdout",
     "output_type": "stream",
     "text": [
      "{'Train':  best_epoch_indx:9\n",
      " auc:0.8822578912325362 \n",
      " apur:0.6349716871378328 \n",
      " f1:0.5272903891688422 \n",
      " precision:0.37650373902676926 \n",
      " recall:0.8795382044660489 \n",
      ", 'Validation':  best_epoch_indx:9\n",
      " auc:0.8722391025014463 \n",
      " apur:0.6104255639619491 \n",
      " f1:0.5146278405225201 \n",
      " precision:0.3668283220174588 \n",
      " recall:0.8618960802187785 \n",
      ", 'Test':  best_epoch_indx:9\n",
      " auc:0.8719200141879277 \n",
      " apur:0.6095145869025185 \n",
      " f1:0.5194677718398952 \n",
      " precision:0.3706037970743853 \n",
      " recall:0.8682099890630697 \n",
      "}\n",
      "=====Epoch 10\n",
      "Training...\n"
     ]
    },
    {
     "name": "stderr",
     "output_type": "stream",
     "text": [
      "Iteration: 100%|██████████| 44/44 [00:02<00:00, 21.41it/s]]]\n",
      "Iteration:   0%|          | 1/392 [00:00<00:40,  9.64it/s]]]"
     ]
    },
    {
     "name": "stdout",
     "output_type": "stream",
     "text": [
      "{'Train':  best_epoch_indx:9\n",
      " auc:0.8852426229189418 \n",
      " apur:0.6410983157138703 \n",
      " f1:0.5395619416981912 \n",
      " precision:0.3932120931310089 \n",
      " recall:0.8594359208061167 \n",
      ", 'Validation':  best_epoch_indx:9\n",
      " auc:0.8686440724165579 \n",
      " apur:0.6026210311079445 \n",
      " f1:0.5262405262405263 \n",
      " precision:0.3834931221342226 \n",
      " recall:0.8382687927107062 \n",
      ", 'Test':  best_epoch_indx:9\n",
      " auc:0.8646144928664734 \n",
      " apur:0.5964657881183266 \n",
      " f1:0.5198769791548012 \n",
      " precision:0.3780336287583865 \n",
      " recall:0.8320875113947128 \n",
      "}\n",
      "=====Epoch 10\n",
      "Training...\n"
     ]
    },
    {
     "name": "stderr",
     "output_type": "stream",
     "text": [
      "Iteration: 100%|██████████| 44/44 [00:02<00:00, 21.83it/s]s]\n",
      "Iteration:  30%|███       | 118/392 [00:09<00:21, 12.54it/s]"
     ]
    },
    {
     "name": "stdout",
     "output_type": "stream",
     "text": [
      "{'Train':  best_epoch_indx:9\n",
      " auc:0.8848615500452457 \n",
      " apur:0.6403865628161737 \n",
      " f1:0.5456848616457737 \n",
      " precision:0.4041474766673977 \n",
      " recall:0.83978935642311 \n",
      ", 'Validation':  best_epoch_indx:9\n",
      " auc:0.8693811218396319 \n",
      " apur:0.6116389029339675 \n",
      " f1:0.5323719393120023 \n",
      " precision:0.39704234819628054 \n",
      " recall:0.8076572470373746 \n",
      ", 'Test':  best_epoch_indx:9\n",
      " auc:0.8678023676011289 \n",
      " apur:0.607712290122244 \n",
      " f1:0.5331501612710547 \n",
      " precision:0.39649964463397297 \n",
      " recall:0.8135253372220197 \n",
      "}\n",
      "=====Epoch 10\n",
      "Training...\n"
     ]
    },
    {
     "name": "stderr",
     "output_type": "stream",
     "text": [
      "Iteration: 100%|██████████| 392/392 [00:30<00:00, 12.87it/s]\n",
      "Iteration:  52%|█████▏    | 204/392 [00:15<00:14, 12.95it/s]"
     ]
    },
    {
     "name": "stdout",
     "output_type": "stream",
     "text": [
      "Evaluating...\n"
     ]
    },
    {
     "name": "stderr",
     "output_type": "stream",
     "text": [
      "Iteration: 100%|██████████| 392/392 [00:30<00:00, 12.92it/s]\n",
      "Iteration:   0%|          | 0/392 [00:00<?, ?it/s]"
     ]
    },
    {
     "name": "stdout",
     "output_type": "stream",
     "text": [
      "Evaluating...\n"
     ]
    },
    {
     "name": "stderr",
     "output_type": "stream",
     "text": [
      "Iteration: 100%|██████████| 392/392 [00:30<00:00, 12.88it/s]\n",
      "Iteration:  18%|█▊        | 69/392 [00:03<00:14, 22.87it/s]]"
     ]
    },
    {
     "name": "stdout",
     "output_type": "stream",
     "text": [
      "Evaluating...\n"
     ]
    },
    {
     "name": "stderr",
     "output_type": "stream",
     "text": [
      "Iteration: 100%|██████████| 392/392 [00:31<00:00, 12.54it/s]\n",
      "Iteration:   0%|          | 0/392 [00:00<?, ?it/s]"
     ]
    },
    {
     "name": "stdout",
     "output_type": "stream",
     "text": [
      "Evaluating...\n"
     ]
    },
    {
     "name": "stderr",
     "output_type": "stream",
     "text": [
      "Iteration: 100%|██████████| 392/392 [00:30<00:00, 12.86it/s]\n",
      "Iteration:  83%|████████▎ | 324/392 [00:14<00:02, 22.94it/s]"
     ]
    },
    {
     "name": "stdout",
     "output_type": "stream",
     "text": [
      "Evaluating...\n"
     ]
    },
    {
     "name": "stderr",
     "output_type": "stream",
     "text": [
      "Iteration: 100%|██████████| 392/392 [00:17<00:00, 21.91it/s]\n",
      "Iteration: 100%|██████████| 392/392 [00:17<00:00, 22.04it/s]\n",
      "Iteration: 100%|██████████| 109/109 [00:04<00:00, 23.24it/s]\n",
      "Iteration: 100%|██████████| 392/392 [00:18<00:00, 20.79it/s]\n",
      "Iteration: 100%|██████████| 109/109 [00:04<00:00, 23.19it/s]\n",
      "Iteration: 100%|██████████| 392/392 [00:18<00:00, 21.49it/s]\n",
      "Iteration: 100%|██████████| 109/109 [00:04<00:00, 22.27it/s]\n",
      "Iteration: 100%|██████████| 392/392 [00:18<00:00, 21.12it/s]\n",
      "Iteration: 100%|██████████| 109/109 [00:04<00:00, 22.65it/s]\n",
      "Iteration: 100%|██████████| 44/44 [00:01<00:00, 22.22it/s]]\n",
      "Iteration:  22%|██▏       | 24/109 [00:01<00:03, 22.28it/s]"
     ]
    },
    {
     "name": "stdout",
     "output_type": "stream",
     "text": [
      "{'Train':  best_epoch_indx:10\n",
      " auc:0.8836957051116701 \n",
      " apur:0.6373372227043684 \n",
      " f1:0.5281339408710396 \n",
      " precision:0.37667890304469875 \n",
      " recall:0.88328522963188 \n",
      ", 'Validation':  best_epoch_indx:10\n",
      " auc:0.8735042145230624 \n",
      " apur:0.6130930182597407 \n",
      " f1:0.5178741334783199 \n",
      " precision:0.3689715281812899 \n",
      " recall:0.8682771194165907 \n",
      ", 'Test':  best_epoch_indx:10\n",
      " auc:0.8715839509376044 \n",
      " apur:0.6059092727355648 \n",
      " f1:0.5210184831797612 \n",
      " precision:0.3716841695838195 \n",
      " recall:0.8709442216551221 \n",
      "}\n",
      "=====Epoch 11\n",
      "Training...\n"
     ]
    },
    {
     "name": "stderr",
     "output_type": "stream",
     "text": [
      "Iteration: 100%|██████████| 109/109 [00:04<00:00, 22.27it/s]\n",
      "Iteration: 100%|██████████| 44/44 [00:02<00:00, 21.39it/s]s]\n"
     ]
    },
    {
     "name": "stdout",
     "output_type": "stream",
     "text": [
      "{'Train':  best_epoch_indx:10\n",
      " auc:0.8817279874400447 \n",
      " apur:0.6318947206432074 \n",
      " f1:0.5417033917670486 \n",
      " precision:0.39969169255967435 \n",
      " recall:0.8402450757000355 \n",
      ", 'Validation':  best_epoch_indx:10\n",
      " auc:0.8628966335414201 \n",
      " apur:0.5934393130753667 \n",
      " f1:0.5253155159613957 \n",
      " precision:0.3895617705351244 \n",
      " recall:0.8062898814949864 \n",
      ", 'Test':  best_epoch_indx:10\n",
      " auc:0.8615940925005516 \n",
      " apur:0.5924985701513535 \n",
      " f1:0.5228331780055918 \n",
      " precision:0.384180790960452 \n",
      " recall:0.8180823915421072 \n",
      "}\n",
      "=====Epoch 11\n",
      "Training...\n"
     ]
    },
    {
     "name": "stderr",
     "output_type": "stream",
     "text": [
      "Iteration: 100%|██████████| 44/44 [00:02<00:00, 21.29it/s]s]\n",
      "Iteration:  85%|████████▍ | 332/392 [00:26<00:04, 12.92it/s]"
     ]
    },
    {
     "name": "stdout",
     "output_type": "stream",
     "text": [
      "{'Train':  best_epoch_indx:10\n",
      " auc:0.8873514143296539 \n",
      " apur:0.6466764888171767 \n",
      " f1:0.5371841155234657 \n",
      " precision:0.3892541115989172 \n",
      " recall:0.8664742518608537 \n",
      ", 'Validation':  best_epoch_indx:10\n",
      " auc:0.8700855070159549 \n",
      " apur:0.6061552483853236 \n",
      " f1:0.5222034851039911 \n",
      " precision:0.37748882568061765 \n",
      " recall:0.8468550592525068 \n",
      ", 'Test':  best_epoch_indx:10\n",
      " auc:0.8670170405340545 \n",
      " apur:0.6008466583716852 \n",
      " f1:0.5229223125564588 \n",
      " precision:0.37878292164240146 \n",
      " recall:0.8441487422530076 \n",
      "}\n",
      "=====Epoch 11\n",
      "Training...\n"
     ]
    },
    {
     "name": "stderr",
     "output_type": "stream",
     "text": [
      "Iteration: 100%|██████████| 392/392 [00:30<00:00, 12.67it/s]\n",
      "Iteration:   1%|          | 3/392 [00:00<00:18, 21.60it/s]s]"
     ]
    },
    {
     "name": "stdout",
     "output_type": "stream",
     "text": [
      "Evaluating...\n"
     ]
    },
    {
     "name": "stderr",
     "output_type": "stream",
     "text": [
      "Iteration: 100%|██████████| 44/44 [00:02<00:00, 19.81it/s]]]\n",
      "Iteration:  19%|█▉        | 76/392 [00:05<00:24, 12.96it/s]]"
     ]
    },
    {
     "name": "stdout",
     "output_type": "stream",
     "text": [
      "{'Train':  best_epoch_indx:10\n",
      " auc:0.8856062706569799 \n",
      " apur:0.6406347249109128 \n",
      " f1:0.544942651928399 \n",
      " precision:0.3983023103545038 \n",
      " recall:0.8624740493189529 \n",
      ", 'Validation':  best_epoch_indx:10\n",
      " auc:0.8662026638732424 \n",
      " apur:0.6028284583765537 \n",
      " f1:0.5274091171379112 \n",
      " precision:0.38589824783618326 \n",
      " recall:0.8328018223234624 \n",
      ", 'Test':  best_epoch_indx:10\n",
      " auc:0.8651658694283378 \n",
      " apur:0.5973402043477144 \n",
      " f1:0.5214600882470919 \n",
      " precision:0.3802440247367541 \n",
      " recall:0.8295350957155879 \n",
      "}\n",
      "=====Epoch 11\n",
      "Training...\n"
     ]
    },
    {
     "name": "stderr",
     "output_type": "stream",
     "text": [
      "Iteration: 100%|██████████| 44/44 [00:02<00:00, 21.89it/s]s]\n",
      "Iteration:  55%|█████▍    | 214/392 [00:16<00:13, 13.08it/s]"
     ]
    },
    {
     "name": "stdout",
     "output_type": "stream",
     "text": [
      "{'Train':  best_epoch_indx:10\n",
      " auc:0.8872071318919974 \n",
      " apur:0.6472182844273183 \n",
      " f1:0.5338624502022791 \n",
      " precision:0.384044609335081 \n",
      " recall:0.8753354600232923 \n",
      ", 'Validation':  best_epoch_indx:10\n",
      " auc:0.8712554970444013 \n",
      " apur:0.616364211337529 \n",
      " f1:0.5226314309811639 \n",
      " precision:0.3778455284552846 \n",
      " recall:0.8473108477666362 \n",
      ", 'Test':  best_epoch_indx:10\n",
      " auc:0.8683053650556216 \n",
      " apur:0.6109111069239763 \n",
      " f1:0.5199910152740341 \n",
      " precision:0.3757506898230807 \n",
      " recall:0.8439664600802042 \n",
      "}\n",
      "=====Epoch 11\n",
      "Training...\n"
     ]
    },
    {
     "name": "stderr",
     "output_type": "stream",
     "text": [
      "Iteration: 100%|██████████| 392/392 [00:17<00:00, 22.25it/s]\n",
      "Iteration: 100%|██████████| 392/392 [00:30<00:00, 12.87it/s]\n",
      "Iteration:   0%|          | 0/392 [00:00<?, ?it/s]"
     ]
    },
    {
     "name": "stdout",
     "output_type": "stream",
     "text": [
      "Evaluating...\n"
     ]
    },
    {
     "name": "stderr",
     "output_type": "stream",
     "text": [
      "Iteration: 100%|██████████| 109/109 [00:04<00:00, 22.80it/s]\n",
      "Iteration: 100%|██████████| 392/392 [00:30<00:00, 12.93it/s]\n",
      "Iteration:  79%|███████▊  | 308/392 [00:24<00:06, 12.63it/s]"
     ]
    },
    {
     "name": "stdout",
     "output_type": "stream",
     "text": [
      "Evaluating...\n"
     ]
    },
    {
     "name": "stderr",
     "output_type": "stream",
     "text": [
      "Iteration: 100%|██████████| 392/392 [00:30<00:00, 12.65it/s]\n",
      "Iteration:  74%|███████▍  | 291/392 [00:12<00:04, 23.12it/s]"
     ]
    },
    {
     "name": "stdout",
     "output_type": "stream",
     "text": [
      "Evaluating...\n"
     ]
    },
    {
     "name": "stderr",
     "output_type": "stream",
     "text": [
      "Iteration: 100%|██████████| 392/392 [00:30<00:00, 12.86it/s]\n",
      "Iteration:  61%|██████    | 240/392 [00:10<00:06, 22.60it/s]"
     ]
    },
    {
     "name": "stdout",
     "output_type": "stream",
     "text": [
      "Evaluating...\n"
     ]
    },
    {
     "name": "stderr",
     "output_type": "stream",
     "text": [
      "Iteration: 100%|██████████| 392/392 [00:16<00:00, 23.06it/s]\n",
      "Iteration: 100%|██████████| 109/109 [00:04<00:00, 22.88it/s]\n",
      "Iteration: 100%|██████████| 392/392 [00:17<00:00, 22.29it/s]\n",
      "Iteration: 100%|██████████| 44/44 [00:01<00:00, 22.82it/s]s]\n",
      "Iteration:  73%|███████▎  | 285/392 [00:12<00:04, 22.55it/s]"
     ]
    },
    {
     "name": "stdout",
     "output_type": "stream",
     "text": [
      "{'Train':  best_epoch_indx:11\n",
      " auc:0.87711410016351 \n",
      " apur:0.6187814045430912 \n",
      " f1:0.533766461249383 \n",
      " precision:0.38931475029036006 \n",
      " recall:0.8486505645855487 \n",
      ", 'Validation':  best_epoch_indx:11\n",
      " auc:0.8573188980027946 \n",
      " apur:0.5839076714061144 \n",
      " f1:0.5152483299448155 \n",
      " precision:0.37809036658141515 \n",
      " recall:0.8085688240656336 \n",
      ", 'Test':  best_epoch_indx:11\n",
      " auc:0.8560416909396364 \n",
      " apur:0.5775278477402879 \n",
      " f1:0.5122310305775764 \n",
      " precision:0.37152948907507805 \n",
      " recall:0.8244622675902297 \n",
      "}\n",
      "=====Epoch 12\n",
      "Training...\n"
     ]
    },
    {
     "name": "stderr",
     "output_type": "stream",
     "text": [
      "Iteration: 100%|██████████| 109/109 [00:05<00:00, 21.72it/s]\n",
      "Iteration: 100%|██████████| 392/392 [00:17<00:00, 22.34it/s]\n",
      "Iteration: 100%|██████████| 44/44 [00:01<00:00, 23.04it/s]]]\n",
      "Iteration:  25%|██▍       | 27/109 [00:01<00:03, 22.91it/s]]"
     ]
    },
    {
     "name": "stdout",
     "output_type": "stream",
     "text": [
      "{'Train':  best_epoch_indx:11\n",
      " auc:0.8864002930044295 \n",
      " apur:0.64720762866686 \n",
      " f1:0.5429689386986135 \n",
      " precision:0.39807338149879584 \n",
      " recall:0.8537141121069421 \n",
      ", 'Validation':  best_epoch_indx:11\n",
      " auc:0.8690106599557592 \n",
      " apur:0.607198470922681 \n",
      " f1:0.5267870036101082 \n",
      " precision:0.3855421686746988 \n",
      " recall:0.8313582497721057 \n",
      ", 'Test':  best_epoch_indx:11\n",
      " auc:0.8655892541212692 \n",
      " apur:0.5995553400826168 \n",
      " f1:0.5262180974477958 \n",
      " precision:0.38591117917304746 \n",
      " recall:0.8268319358366751 \n",
      "}\n",
      "=====Epoch 12\n",
      "Training...\n"
     ]
    },
    {
     "name": "stderr",
     "output_type": "stream",
     "text": [
      "Iteration: 100%|██████████| 392/392 [00:17<00:00, 22.04it/s]\n",
      "Iteration: 100%|██████████| 44/44 [00:02<00:00, 21.96it/s]]]\n",
      "Iteration:   1%|          | 2/392 [00:00<00:33, 11.78it/s]]]"
     ]
    },
    {
     "name": "stdout",
     "output_type": "stream",
     "text": [
      "{'Train':  best_epoch_indx:11\n",
      " auc:0.882990075522469 \n",
      " apur:0.6387730360397192 \n",
      " f1:0.5324440180132778 \n",
      " precision:0.3833964787162915 \n",
      " recall:0.8710820801053218 \n",
      ", 'Validation':  best_epoch_indx:11\n",
      " auc:0.8693504982211033 \n",
      " apur:0.609109764985322 \n",
      " f1:0.5214235868806699 \n",
      " precision:0.37577952122309394 \n",
      " recall:0.8514129443938013 \n",
      ", 'Test':  best_epoch_indx:11\n",
      " auc:0.8713098397324986 \n",
      " apur:0.6119463136944006 \n",
      " f1:0.5239263803680981 \n",
      " precision:0.37745098039215685 \n",
      " recall:0.8561793656580386 \n",
      "}\n",
      "=====Epoch 12\n",
      "Training...\n"
     ]
    },
    {
     "name": "stderr",
     "output_type": "stream",
     "text": [
      "Iteration: 100%|██████████| 109/109 [00:04<00:00, 22.64it/s]\n",
      "Iteration: 100%|██████████| 44/44 [00:01<00:00, 22.57it/s]]]\n",
      "Iteration:  61%|██████    | 66/109 [00:02<00:01, 22.54it/s]]"
     ]
    },
    {
     "name": "stdout",
     "output_type": "stream",
     "text": [
      "{'Train':  best_epoch_indx:11\n",
      " auc:0.8863820270182929 \n",
      " apur:0.6432931294461547 \n",
      " f1:0.5392497914338333 \n",
      " precision:0.3912517131110096 \n",
      " recall:0.8673350549394906 \n",
      ", 'Validation':  best_epoch_indx:11\n",
      " auc:0.8679061647672948 \n",
      " apur:0.6056431774349903 \n",
      " f1:0.5242471369998586 \n",
      " precision:0.3800738007380074 \n",
      " recall:0.8446469248291572 \n",
      ", 'Test':  best_epoch_indx:11\n",
      " auc:0.8640719232932766 \n",
      " apur:0.5956771415571274 \n",
      " f1:0.5148336153412295 \n",
      " precision:0.3727235606369947 \n",
      " recall:0.8320875113947128 \n",
      "}\n",
      "=====Epoch 12\n",
      "Training...\n"
     ]
    },
    {
     "name": "stderr",
     "output_type": "stream",
     "text": [
      "Iteration: 100%|██████████| 109/109 [00:04<00:00, 22.41it/s]\n",
      "Iteration: 100%|██████████| 392/392 [00:30<00:00, 12.94it/s]\n",
      "Iteration:  66%|██████▋   | 260/392 [00:20<00:10, 12.82it/s]"
     ]
    },
    {
     "name": "stdout",
     "output_type": "stream",
     "text": [
      "Evaluating...\n"
     ]
    },
    {
     "name": "stderr",
     "output_type": "stream",
     "text": [
      "Iteration: 100%|██████████| 392/392 [00:30<00:00, 12.96it/s]\n",
      "Iteration:  87%|████████▋ | 340/392 [00:27<00:04, 12.92it/s]"
     ]
    },
    {
     "name": "stdout",
     "output_type": "stream",
     "text": [
      "Evaluating...\n"
     ]
    },
    {
     "name": "stderr",
     "output_type": "stream",
     "text": [
      "Iteration: 100%|██████████| 392/392 [00:31<00:00, 12.55it/s]\n",
      "Iteration:  60%|██████    | 237/392 [00:11<00:14, 11.00it/s]"
     ]
    },
    {
     "name": "stdout",
     "output_type": "stream",
     "text": [
      "Evaluating...\n"
     ]
    },
    {
     "name": "stderr",
     "output_type": "stream",
     "text": [
      "Iteration: 100%|██████████| 392/392 [00:31<00:00, 12.59it/s]\n",
      "Iteration:   1%|          | 3/392 [00:00<00:18, 21.50it/s]s]"
     ]
    },
    {
     "name": "stdout",
     "output_type": "stream",
     "text": [
      "Evaluating...\n"
     ]
    },
    {
     "name": "stderr",
     "output_type": "stream",
     "text": [
      "Iteration: 100%|██████████| 44/44 [00:02<00:00, 20.90it/s]s]\n",
      "Iteration:   0%|          | 0/392 [00:00<?, ?it/s]22.00it/s]"
     ]
    },
    {
     "name": "stdout",
     "output_type": "stream",
     "text": [
      "{'Train':  best_epoch_indx:11\n",
      " auc:0.8880851451697136 \n",
      " apur:0.652630999540096 \n",
      " f1:0.5524948371194457 \n",
      " precision:0.4116391611862514 \n",
      " recall:0.8398906273735379 \n",
      ", 'Validation':  best_epoch_indx:11\n",
      " auc:0.8689743940403922 \n",
      " apur:0.6155025209494891 \n",
      " f1:0.539146453791833 \n",
      " precision:0.4064814814814815 \n",
      " recall:0.8003646308113036 \n",
      ", 'Test':  best_epoch_indx:11\n",
      " auc:0.868195848100695 \n",
      " apur:0.6126525889420854 \n",
      " f1:0.5347865576748411 \n",
      " precision:0.40039894822740046 \n",
      " recall:0.8049580751002552 \n",
      "}\n",
      "=====Epoch 12\n",
      "Training...\n"
     ]
    },
    {
     "name": "stderr",
     "output_type": "stream",
     "text": [
      "Iteration: 100%|██████████| 392/392 [00:17<00:00, 21.81it/s]\n",
      "Iteration: 100%|██████████| 109/109 [00:04<00:00, 22.31it/s]\n",
      "Iteration: 100%|██████████| 392/392 [00:17<00:00, 22.13it/s]\n",
      "Iteration: 100%|██████████| 44/44 [00:01<00:00, 22.36it/s]s]\n",
      "Iteration:  29%|██▊       | 112/392 [00:08<00:21, 12.93it/s]"
     ]
    },
    {
     "name": "stdout",
     "output_type": "stream",
     "text": [
      "{'Train':  best_epoch_indx:12\n",
      " auc:0.8819749216748207 \n",
      " apur:0.6303662159008214 \n",
      " f1:0.5519138838257042 \n",
      " precision:0.41786225751855227 \n",
      " recall:0.812598106233227 \n",
      ", 'Validation':  best_epoch_indx:12\n",
      " auc:0.8641512789975254 \n",
      " apur:0.5942896640895259 \n",
      " f1:0.5304143862392494 \n",
      " precision:0.4037134015710545 \n",
      " recall:0.773017319963537 \n",
      ", 'Test':  best_epoch_indx:12\n",
      " auc:0.8601321740384011 \n",
      " apur:0.5876782098389315 \n",
      " f1:0.5269938650306748 \n",
      " precision:0.39717033475124836 \n",
      " recall:0.7829019321910318 \n",
      "}\n",
      "=====Epoch 13\n",
      "Training...\n"
     ]
    },
    {
     "name": "stderr",
     "output_type": "stream",
     "text": [
      "Iteration: 100%|██████████| 392/392 [00:17<00:00, 22.44it/s]\n",
      "Iteration: 100%|██████████| 109/109 [00:05<00:00, 21.01it/s]\n",
      "Iteration: 100%|██████████| 392/392 [00:18<00:00, 21.43it/s]\n",
      "Iteration: 100%|██████████| 44/44 [00:02<00:00, 18.67it/s]]]\n",
      "Iteration:  91%|█████████ | 99/109 [00:04<00:00, 22.81it/s]]"
     ]
    },
    {
     "name": "stdout",
     "output_type": "stream",
     "text": [
      "{'Train':  best_epoch_indx:12\n",
      " auc:0.8808314938213115 \n",
      " apur:0.6300074267618857 \n",
      " f1:0.5473603391584465 \n",
      " precision:0.4082511702021711 \n",
      " recall:0.8302698870828903 \n",
      ", 'Validation':  best_epoch_indx:12\n",
      " auc:0.864719913448425 \n",
      " apur:0.59523409992568 \n",
      " f1:0.5304841601912732 \n",
      " precision:0.394619831036016 \n",
      " recall:0.809024612579763 \n",
      ", 'Test':  best_epoch_indx:12\n",
      " auc:0.8613322213979847 \n",
      " apur:0.5826956748036932 \n",
      " f1:0.5291931423090757 \n",
      " precision:0.394247945694891 \n",
      " recall:0.8045935107546482 \n",
      "}\n",
      "=====Epoch 13\n",
      "Training...\n"
     ]
    },
    {
     "name": "stderr",
     "output_type": "stream",
     "text": [
      "Iteration: 100%|██████████| 109/109 [00:04<00:00, 22.67it/s]\n",
      "Iteration: 100%|██████████| 44/44 [00:02<00:00, 19.19it/s]s]\n",
      "Iteration:  83%|████████▎ | 90/109 [00:03<00:00, 22.95it/s]]"
     ]
    },
    {
     "name": "stdout",
     "output_type": "stream",
     "text": [
      "{'Train':  best_epoch_indx:12\n",
      " auc:0.8784486406328358 \n",
      " apur:0.630448858962605 \n",
      " f1:0.5223579074325343 \n",
      " precision:0.3719112943045448 \n",
      " recall:0.8772089726062079 \n",
      ", 'Validation':  best_epoch_indx:12\n",
      " auc:0.865717656110188 \n",
      " apur:0.5983998435884607 \n",
      " f1:0.5116216216216216 \n",
      " precision:0.36361890126776797 \n",
      " recall:0.8628076572470373 \n",
      ", 'Test':  best_epoch_indx:12\n",
      " auc:0.8651849869076178 \n",
      " apur:0.5954964605138051 \n",
      " f1:0.5139902014153511 \n",
      " precision:0.3664234709717479 \n",
      " recall:0.8605541378053226 \n",
      "}\n",
      "=====Epoch 13\n",
      "Training...\n"
     ]
    },
    {
     "name": "stderr",
     "output_type": "stream",
     "text": [
      "Iteration: 100%|██████████| 109/109 [00:04<00:00, 22.93it/s]\n",
      "Iteration: 100%|██████████| 44/44 [00:02<00:00, 21.60it/s]]]\n",
      "Iteration:  75%|███████▌  | 294/392 [00:23<00:07, 13.05it/s]"
     ]
    },
    {
     "name": "stdout",
     "output_type": "stream",
     "text": [
      "{'Train':  best_epoch_indx:12\n",
      " auc:0.880665338626597 \n",
      " apur:0.6308727304195417 \n",
      " f1:0.5346128996675019 \n",
      " precision:0.38808053077099064 \n",
      " recall:0.8589295660539774 \n",
      ", 'Validation':  best_epoch_indx:12\n",
      " auc:0.8633036615886286 \n",
      " apur:0.5933422377483367 \n",
      " f1:0.5232308791994282 \n",
      " precision:0.38125 \n",
      " recall:0.8337129840546698 \n",
      ", 'Test':  best_epoch_indx:12\n",
      " auc:0.8580423144927323 \n",
      " apur:0.5842342595634488 \n",
      " f1:0.5133303208314506 \n",
      " precision:0.37187985923561667 \n",
      " recall:0.8284412032816773 \n",
      "}\n",
      "=====Epoch 13\n",
      "Training...\n"
     ]
    },
    {
     "name": "stderr",
     "output_type": "stream",
     "text": [
      "Iteration: 100%|██████████| 392/392 [00:30<00:00, 12.78it/s]\n",
      "Iteration:  47%|████▋     | 186/392 [00:14<00:15, 12.91it/s]"
     ]
    },
    {
     "name": "stdout",
     "output_type": "stream",
     "text": [
      "Evaluating...\n"
     ]
    },
    {
     "name": "stderr",
     "output_type": "stream",
     "text": [
      "Iteration: 100%|██████████| 392/392 [00:30<00:00, 12.84it/s]\n",
      "Iteration:   1%|          | 3/392 [00:00<00:18, 21.34it/s]s]"
     ]
    },
    {
     "name": "stdout",
     "output_type": "stream",
     "text": [
      "Evaluating...\n"
     ]
    },
    {
     "name": "stderr",
     "output_type": "stream",
     "text": [
      "Iteration: 100%|██████████| 392/392 [00:30<00:00, 12.98it/s]\n",
      "Iteration:  42%|████▏     | 165/392 [00:07<00:09, 22.97it/s]"
     ]
    },
    {
     "name": "stdout",
     "output_type": "stream",
     "text": [
      "Evaluating...\n"
     ]
    },
    {
     "name": "stderr",
     "output_type": "stream",
     "text": [
      "Iteration: 100%|██████████| 392/392 [00:18<00:00, 21.59it/s]\n",
      "Iteration: 100%|██████████| 392/392 [00:30<00:00, 12.89it/s]\n",
      "Iteration:  63%|██████▎   | 246/392 [00:10<00:06, 23.12it/s]"
     ]
    },
    {
     "name": "stdout",
     "output_type": "stream",
     "text": [
      "Evaluating...\n"
     ]
    },
    {
     "name": "stderr",
     "output_type": "stream",
     "text": [
      "Iteration: 100%|██████████| 392/392 [00:30<00:00, 12.71it/s]\n",
      "Iteration:   0%|          | 0/392 [00:00<?, ?it/s]"
     ]
    },
    {
     "name": "stdout",
     "output_type": "stream",
     "text": [
      "Evaluating...\n"
     ]
    },
    {
     "name": "stderr",
     "output_type": "stream",
     "text": [
      "Iteration: 100%|██████████| 109/109 [00:04<00:00, 22.47it/s]\n",
      "Iteration: 100%|██████████| 392/392 [00:17<00:00, 22.82it/s]\n",
      "Iteration: 100%|██████████| 44/44 [00:01<00:00, 22.48it/s]s]\n",
      "Iteration:   1%|          | 2/392 [00:00<00:32, 12.11it/s]s]"
     ]
    },
    {
     "name": "stdout",
     "output_type": "stream",
     "text": [
      "{'Train':  best_epoch_indx:12\n",
      " auc:0.8855420477852605 \n",
      " apur:0.6413657602629641 \n",
      " f1:0.5376593642679044 \n",
      " precision:0.38943661971830984 \n",
      " recall:0.8680439515924857 \n",
      ", 'Validation':  best_epoch_indx:12\n",
      " auc:0.8679592630363278 \n",
      " apur:0.6093838624085436 \n",
      " f1:0.525411596277738 \n",
      " precision:0.38300981006053014 \n",
      " recall:0.8363719234275296 \n",
      ", 'Test':  best_epoch_indx:12\n",
      " auc:0.8634149142253652 \n",
      " apur:0.5976997839090439 \n",
      " f1:0.5182951118192682 \n",
      " precision:0.37676842889054357 \n",
      " recall:0.8301130149471382 \n",
      "}\n",
      "=====Epoch 13\n",
      "Training...\n"
     ]
    },
    {
     "name": "stderr",
     "output_type": "stream",
     "text": [
      "Iteration: 100%|██████████| 109/109 [00:05<00:00, 21.67it/s]\n",
      "Iteration: 100%|██████████| 392/392 [00:17<00:00, 22.54it/s]\n",
      "Iteration: 100%|██████████| 44/44 [00:01<00:00, 22.43it/s]s]\n",
      "Iteration:   1%|          | 2/392 [00:00<00:33, 11.52it/s]s]"
     ]
    },
    {
     "name": "stdout",
     "output_type": "stream",
     "text": [
      "{'Train':  best_epoch_indx:13\n",
      " auc:0.874227927016743 \n",
      " apur:0.6153143258294071 \n",
      " f1:0.5359688705774639 \n",
      " precision:0.395774477846191 \n",
      " recall:0.8299660742316066 \n",
      ", 'Validation':  best_epoch_indx:13\n",
      " auc:0.8527576568485107 \n",
      " apur:0.5781210071861297 \n",
      " f1:0.5159178815828623 \n",
      " precision:0.3829505300353357 \n",
      " recall:0.7903372835004557 \n",
      ", 'Test':  best_epoch_indx:13\n",
      " auc:0.8545578865361931 \n",
      " apur:0.5783705861561153 \n",
      " f1:0.5147359206302888 \n",
      " precision:0.3785732680916817 \n",
      " recall:0.8038643820634342 \n",
      "}\n",
      "=====Epoch 14\n",
      "Training...\n"
     ]
    },
    {
     "name": "stderr",
     "output_type": "stream",
     "text": [
      "Iteration: 100%|██████████| 392/392 [00:17<00:00, 21.96it/s]\n",
      "Iteration: 100%|██████████| 109/109 [00:04<00:00, 23.38it/s]\n",
      "Iteration: 100%|██████████| 392/392 [00:17<00:00, 22.17it/s]\n",
      "Iteration: 100%|██████████| 44/44 [00:01<00:00, 22.88it/s]s]\n",
      "Iteration:  48%|████▊     | 188/392 [00:14<00:16, 12.72it/s]"
     ]
    },
    {
     "name": "stdout",
     "output_type": "stream",
     "text": [
      "{'Train':  best_epoch_indx:13\n",
      " auc:0.8827688895810152 \n",
      " apur:0.6393219837625094 \n",
      " f1:0.5244929891075405 \n",
      " precision:0.37310302018450736 \n",
      " recall:0.8826269684540989 \n",
      ", 'Validation':  best_epoch_indx:13\n",
      " auc:0.8649539743793578 \n",
      " apur:0.599743573755879 \n",
      " f1:0.5087624696683742 \n",
      " precision:0.36121745788667686 \n",
      " recall:0.8600729261622607 \n",
      ", 'Test':  best_epoch_indx:13\n",
      " auc:0.8640303452198439 \n",
      " apur:0.5951030264478762 \n",
      " f1:0.5134153612661934 \n",
      " precision:0.36534752757849265 \n",
      " recall:0.8632883703973752 \n",
      "}\n",
      "=====Epoch 14\n",
      "Training...\n"
     ]
    },
    {
     "name": "stderr",
     "output_type": "stream",
     "text": [
      "Iteration: 100%|██████████| 109/109 [00:04<00:00, 22.87it/s]\n",
      "Iteration: 100%|██████████| 44/44 [00:02<00:00, 21.85it/s]s]\n",
      "Iteration:  36%|███▌      | 142/392 [00:11<00:19, 12.93it/s]"
     ]
    },
    {
     "name": "stdout",
     "output_type": "stream",
     "text": [
      "{'Train':  best_epoch_indx:13\n",
      " auc:0.8769399552660896 \n",
      " apur:0.6260050708733504 \n",
      " f1:0.5272208082438389 \n",
      " precision:0.3801105466914315 \n",
      " recall:0.8600941819838979 \n",
      ", 'Validation':  best_epoch_indx:13\n",
      " auc:0.8668029487608132 \n",
      " apur:0.6033783195544092 \n",
      " f1:0.5218120805369127 \n",
      " precision:0.3763614360629286 \n",
      " recall:0.8505013673655424 \n",
      ", 'Test':  best_epoch_indx:13\n",
      " auc:0.8640220227523643 \n",
      " apur:0.5978405660273316 \n",
      " f1:0.5163998656666293 \n",
      " precision:0.37261712439418415 \n",
      " recall:0.8408676631425447 \n",
      "}\n",
      "=====Epoch 14\n",
      "Training...\n"
     ]
    },
    {
     "name": "stderr",
     "output_type": "stream",
     "text": [
      "Iteration: 100%|██████████| 109/109 [00:04<00:00, 22.27it/s]\n",
      "Iteration: 100%|██████████| 44/44 [00:02<00:00, 21.15it/s]s]\n",
      "Iteration:  26%|██▌       | 102/392 [00:07<00:23, 12.60it/s]"
     ]
    },
    {
     "name": "stdout",
     "output_type": "stream",
     "text": [
      "{'Train':  best_epoch_indx:13\n",
      " auc:0.8809050419862986 \n",
      " apur:0.6270500066979676 \n",
      " f1:0.5260347129506008 \n",
      " precision:0.37553885146112687 \n",
      " recall:0.8778165983087751 \n",
      ", 'Validation':  best_epoch_indx:13\n",
      " auc:0.8607410401870633 \n",
      " apur:0.5840378500652181 \n",
      " f1:0.5110959836623553 \n",
      " precision:0.36446601941747575 \n",
      " recall:0.855125284738041 \n",
      ", 'Test':  best_epoch_indx:13\n",
      " auc:0.8616577041684176 \n",
      " apur:0.5826629584806672 \n",
      " f1:0.5133631504308933 \n",
      " precision:0.36625418320491865 \n",
      " recall:0.8579762989972652 \n",
      "}\n",
      "=====Epoch 14\n",
      "Training...\n"
     ]
    },
    {
     "name": "stderr",
     "output_type": "stream",
     "text": [
      "Iteration: 100%|██████████| 392/392 [00:30<00:00, 12.72it/s]\n",
      "Iteration:  39%|███▉      | 154/392 [00:11<00:18, 12.69it/s]"
     ]
    },
    {
     "name": "stdout",
     "output_type": "stream",
     "text": [
      "Evaluating...\n"
     ]
    },
    {
     "name": "stderr",
     "output_type": "stream",
     "text": [
      "Iteration: 100%|██████████| 392/392 [00:30<00:00, 12.82it/s]\n",
      "Iteration:  62%|██████▏   | 244/392 [00:19<00:11, 13.06it/s]"
     ]
    },
    {
     "name": "stdout",
     "output_type": "stream",
     "text": [
      "Evaluating...\n"
     ]
    },
    {
     "name": "stderr",
     "output_type": "stream",
     "text": [
      "Iteration: 100%|██████████| 392/392 [00:30<00:00, 12.95it/s]\n",
      "Iteration:  82%|████████▏ | 321/392 [00:14<00:03, 22.20it/s]"
     ]
    },
    {
     "name": "stdout",
     "output_type": "stream",
     "text": [
      "Evaluating...\n"
     ]
    },
    {
     "name": "stderr",
     "output_type": "stream",
     "text": [
      "Iteration: 100%|██████████| 392/392 [00:17<00:00, 22.32it/s]\n",
      "Iteration: 100%|██████████| 392/392 [00:31<00:00, 12.64it/s]\n",
      "Iteration:  11%|█         | 12/109 [00:00<00:04, 22.68it/s]]"
     ]
    },
    {
     "name": "stdout",
     "output_type": "stream",
     "text": [
      "Evaluating...\n"
     ]
    },
    {
     "name": "stderr",
     "output_type": "stream",
     "text": [
      "Iteration: 100%|██████████| 392/392 [00:30<00:00, 12.67it/s]\n",
      "Iteration:  22%|██▏       | 87/392 [00:03<00:13, 22.40it/s]]"
     ]
    },
    {
     "name": "stdout",
     "output_type": "stream",
     "text": [
      "Evaluating...\n"
     ]
    },
    {
     "name": "stderr",
     "output_type": "stream",
     "text": [
      "Iteration: 100%|██████████| 109/109 [00:05<00:00, 21.23it/s]\n",
      "Iteration: 100%|██████████| 392/392 [00:17<00:00, 22.18it/s]\n",
      "Iteration: 100%|██████████| 44/44 [00:01<00:00, 22.08it/s]]]\n",
      "Iteration:   1%|          | 2/392 [00:00<00:32, 11.88it/s]]]"
     ]
    },
    {
     "name": "stdout",
     "output_type": "stream",
     "text": [
      "{'Train':  best_epoch_indx:13\n",
      " auc:0.8825607020796294 \n",
      " apur:0.6345944014724032 \n",
      " f1:0.5444656146693374 \n",
      " precision:0.4012914686254741 \n",
      " recall:0.8464732391513494 \n",
      ", 'Validation':  best_epoch_indx:13\n",
      " auc:0.8676558584870002 \n",
      " apur:0.6030887695886322 \n",
      " f1:0.534973325429757 \n",
      " precision:0.396354852876592 \n",
      " recall:0.8226982680036463 \n",
      ", 'Test':  best_epoch_indx:13\n",
      " auc:0.8652668668728057 \n",
      " apur:0.5996669858105813 \n",
      " f1:0.5261667355006194 \n",
      " precision:0.38899066561982026 \n",
      " recall:0.8127962085308057 \n",
      "}\n",
      "=====Epoch 14\n",
      "Training...\n"
     ]
    },
    {
     "name": "stderr",
     "output_type": "stream",
     "text": [
      "Iteration: 100%|██████████| 109/109 [00:04<00:00, 23.31it/s]\n",
      "Iteration: 100%|██████████| 392/392 [00:18<00:00, 21.18it/s]\n",
      "Iteration: 100%|██████████| 44/44 [00:01<00:00, 22.96it/s]s]\n",
      "Iteration:  57%|█████▋    | 225/392 [00:10<00:07, 22.52it/s]"
     ]
    },
    {
     "name": "stdout",
     "output_type": "stream",
     "text": [
      "{'Train':  best_epoch_indx:14\n",
      " auc:0.8816800693237996 \n",
      " apur:0.631437406123014 \n",
      " f1:0.5390232185748599 \n",
      " precision:0.39415938736797734 \n",
      " recall:0.852245683325738 \n",
      ", 'Validation':  best_epoch_indx:14\n",
      " auc:0.8605099839288928 \n",
      " apur:0.5890053502971846 \n",
      " f1:0.5186583418033978 \n",
      " precision:0.3805668016194332 \n",
      " recall:0.8140382862351869 \n",
      ", 'Test':  best_epoch_indx:14\n",
      " auc:0.8593152264137875 \n",
      " apur:0.5917555407506767 \n",
      " f1:0.5117333635642218 \n",
      " precision:0.3713392563343205 \n",
      " recall:0.8228217280349982 \n",
      "}\n",
      "=====Epoch 15\n",
      "Training...\n"
     ]
    },
    {
     "name": "stderr",
     "output_type": "stream",
     "text": [
      "Iteration: 100%|██████████| 392/392 [00:17<00:00, 22.48it/s]\n",
      "Iteration: 100%|██████████| 109/109 [00:04<00:00, 22.41it/s]\n",
      "Iteration: 100%|██████████| 392/392 [00:18<00:00, 21.68it/s]\n",
      "Iteration: 100%|██████████| 44/44 [00:02<00:00, 20.79it/s]s]\n",
      "Iteration:  83%|████████▎ | 90/109 [00:03<00:00, 23.04it/s]]"
     ]
    },
    {
     "name": "stdout",
     "output_type": "stream",
     "text": [
      "{'Train':  best_epoch_indx:14\n",
      " auc:0.8791440117401219 \n",
      " apur:0.6239755855850401 \n",
      " f1:0.5607214428857715 \n",
      " precision:0.4379215161776842 \n",
      " recall:0.7792293280672439 \n",
      ", 'Validation':  best_epoch_indx:14\n",
      " auc:0.8643050263426044 \n",
      " apur:0.5897180359900054 \n",
      " f1:0.5406290956749672 \n",
      " precision:0.4219948849104859 \n",
      " recall:0.7520510483135825 \n",
      ", 'Test':  best_epoch_indx:14\n",
      " auc:0.8595829561879673 \n",
      " apur:0.5800110131723613 \n",
      " f1:0.5383657689535417 \n",
      " precision:0.42025575447570335 \n",
      " recall:0.7488151658767772 \n",
      "}\n",
      "=====Epoch 15\n",
      "Training...\n"
     ]
    },
    {
     "name": "stderr",
     "output_type": "stream",
     "text": [
      "Iteration: 100%|██████████| 109/109 [00:04<00:00, 22.95it/s]\n",
      "Iteration: 100%|██████████| 44/44 [00:02<00:00, 20.42it/s]]]\n",
      "Iteration:  61%|██████    | 66/109 [00:02<00:01, 21.88it/s]]"
     ]
    },
    {
     "name": "stdout",
     "output_type": "stream",
     "text": [
      "{'Train':  best_epoch_indx:14\n",
      " auc:0.8752962959115669 \n",
      " apur:0.6153382903518033 \n",
      " f1:0.5063485737060865 \n",
      " precision:0.3521770983901946 \n",
      " recall:0.9006025621550459 \n",
      ", 'Validation':  best_epoch_indx:14\n",
      " auc:0.8653681273573368 \n",
      " apur:0.5896955266189676 \n",
      " f1:0.49853447177265203 \n",
      " precision:0.34601096762780825 \n",
      " recall:0.8915223336371924 \n",
      ", 'Test':  best_epoch_indx:14\n",
      " auc:0.8645055211987542 \n",
      " apur:0.5871909645306198 \n",
      " f1:0.5014329580348004 \n",
      " precision:0.3485840330155116 \n",
      " recall:0.8930003645643456 \n",
      "}\n",
      "=====Epoch 15\n",
      "Training...\n"
     ]
    },
    {
     "name": "stderr",
     "output_type": "stream",
     "text": [
      "Iteration: 100%|██████████| 109/109 [00:04<00:00, 22.30it/s]\n",
      "Iteration: 100%|██████████| 44/44 [00:01<00:00, 22.61it/s]s]\n",
      "Iteration:  14%|█▍        | 54/392 [00:04<00:28, 12.02it/s]]"
     ]
    },
    {
     "name": "stdout",
     "output_type": "stream",
     "text": [
      "{'Train':  best_epoch_indx:14\n",
      " auc:0.8781634044973834 \n",
      " apur:0.6268525454949916 \n",
      " f1:0.5541515610150998 \n",
      " precision:0.424675639953605 \n",
      " recall:0.7972049217681908 \n",
      ", 'Validation':  best_epoch_indx:14\n",
      " auc:0.8604841888614168 \n",
      " apur:0.584432650324922 \n",
      " f1:0.5426528991262907 \n",
      " precision:0.4165853658536585 \n",
      " recall:0.778132118451025 \n",
      ", 'Test':  best_epoch_indx:14\n",
      " auc:0.8577195168776002 \n",
      " apur:0.5883987140346637 \n",
      " f1:0.5332492908919003 \n",
      " precision:0.407514450867052 \n",
      " recall:0.7711941659070192 \n",
      "}\n",
      "=====Epoch 15\n",
      "Training...\n"
     ]
    },
    {
     "name": "stderr",
     "output_type": "stream",
     "text": [
      "Iteration: 100%|██████████| 392/392 [00:30<00:00, 12.80it/s]\n",
      "Iteration:  51%|█████     | 200/392 [00:15<00:14, 13.17it/s]"
     ]
    },
    {
     "name": "stdout",
     "output_type": "stream",
     "text": [
      "Evaluating...\n"
     ]
    },
    {
     "name": "stderr",
     "output_type": "stream",
     "text": [
      "Iteration: 100%|██████████| 392/392 [00:30<00:00, 12.89it/s]\n",
      "Iteration:  41%|████      | 159/392 [00:07<00:10, 22.45it/s]"
     ]
    },
    {
     "name": "stdout",
     "output_type": "stream",
     "text": [
      "Evaluating...\n"
     ]
    },
    {
     "name": "stderr",
     "output_type": "stream",
     "text": [
      "Iteration: 100%|██████████| 392/392 [00:30<00:00, 12.95it/s]\n",
      "Iteration:  45%|████▌     | 177/392 [00:07<00:09, 22.65it/s]"
     ]
    },
    {
     "name": "stdout",
     "output_type": "stream",
     "text": [
      "Evaluating...\n"
     ]
    },
    {
     "name": "stderr",
     "output_type": "stream",
     "text": [
      "Iteration: 100%|██████████| 392/392 [00:18<00:00, 21.64it/s]\n",
      "Iteration: 100%|██████████| 392/392 [00:30<00:00, 12.82it/s]\n",
      "Iteration:   0%|          | 0/392 [00:00<?, ?it/s]"
     ]
    },
    {
     "name": "stdout",
     "output_type": "stream",
     "text": [
      "Evaluating...\n"
     ]
    },
    {
     "name": "stderr",
     "output_type": "stream",
     "text": [
      "Iteration: 100%|██████████| 392/392 [00:30<00:00, 12.73it/s]\n",
      "Iteration:  96%|█████████▌| 375/392 [00:16<00:00, 22.83it/s]"
     ]
    },
    {
     "name": "stdout",
     "output_type": "stream",
     "text": [
      "Evaluating...\n"
     ]
    },
    {
     "name": "stderr",
     "output_type": "stream",
     "text": [
      "Iteration: 100%|██████████| 109/109 [00:04<00:00, 22.60it/s]\n",
      "Iteration: 100%|██████████| 392/392 [00:17<00:00, 22.65it/s]\n",
      "Iteration: 100%|██████████| 44/44 [00:01<00:00, 22.45it/s]s]\n",
      "Iteration:  70%|██████▉   | 273/392 [00:11<00:05, 22.81it/s]"
     ]
    },
    {
     "name": "stdout",
     "output_type": "stream",
     "text": [
      "{'Train':  best_epoch_indx:14\n",
      " auc:0.8830460528432622 \n",
      " apur:0.6439291811714729 \n",
      " f1:0.535288928098809 \n",
      " precision:0.3885242527500172 \n",
      " recall:0.8602460884095398 \n",
      ", 'Validation':  best_epoch_indx:14\n",
      " auc:0.8678579533942087 \n",
      " apur:0.6146595647864084 \n",
      " f1:0.5219009447466362 \n",
      " precision:0.38042570951585974 \n",
      " recall:0.8309024612579763 \n",
      ", 'Test':  best_epoch_indx:14\n",
      " auc:0.8646909800391623 \n",
      " apur:0.6061061223462139 \n",
      " f1:0.5216340621403913 \n",
      " precision:0.38111652934252566 \n",
      " recall:0.8262850893182647 \n",
      "}\n",
      "=====Epoch 15\n",
      "Training...\n"
     ]
    },
    {
     "name": "stderr",
     "output_type": "stream",
     "text": [
      "Iteration: 100%|██████████| 109/109 [00:04<00:00, 22.94it/s]\n",
      "Iteration: 100%|██████████| 392/392 [00:17<00:00, 22.92it/s]\n",
      "Iteration: 100%|██████████| 392/392 [00:17<00:00, 22.24it/s]\n",
      "Iteration: 100%|██████████| 109/109 [00:04<00:00, 23.04it/s]\n",
      "Iteration: 100%|██████████| 392/392 [00:17<00:00, 22.09it/s]\n",
      "Iteration: 100%|██████████| 109/109 [00:05<00:00, 19.70it/s]\n",
      "Iteration: 100%|██████████| 109/109 [00:05<00:00, 21.62it/s]\n",
      "Iteration: 100%|██████████| 392/392 [00:30<00:00, 12.75it/s]\n",
      "Iteration:   0%|          | 0/392 [00:00<?, ?it/s]"
     ]
    },
    {
     "name": "stdout",
     "output_type": "stream",
     "text": [
      "Evaluating...\n"
     ]
    },
    {
     "name": "stderr",
     "output_type": "stream",
     "text": [
      "Iteration: 100%|██████████| 44/44 [00:01<00:00, 22.02it/s]s]\n",
      "Iteration:   1%|          | 2/392 [00:00<00:33, 11.66it/s]s]"
     ]
    },
    {
     "name": "stdout",
     "output_type": "stream",
     "text": [
      "{'Train':  best_epoch_indx:15\n",
      " auc:0.8842633131364164 \n",
      " apur:0.6363358698980529 \n",
      " f1:0.5230400780568574 \n",
      " precision:0.3693573307721218 \n",
      " recall:0.895741556534508 \n",
      ", 'Validation':  best_epoch_indx:15\n",
      " auc:0.8661776396405542 \n",
      " apur:0.5959474727187446 \n",
      " f1:0.5125748502994012 \n",
      " precision:0.3619620372110506 \n",
      " recall:0.877848678213309 \n",
      ", 'Test':  best_epoch_indx:15\n",
      " auc:0.862220110287426 \n",
      " apur:0.592699013336545 \n",
      " f1:0.5006561335362972 \n",
      " precision:0.3515665315149281 \n",
      " recall:0.8693036820998906 \n",
      "}\n",
      "=====Epoch 16\n",
      "Training...\n"
     ]
    },
    {
     "name": "stderr",
     "output_type": "stream",
     "text": [
      "Iteration: 100%|██████████| 44/44 [00:02<00:00, 19.81it/s]]]\n",
      "Iteration:   0%|          | 0/392 [00:00<?, ?it/s]12.99it/s]"
     ]
    },
    {
     "name": "stdout",
     "output_type": "stream",
     "text": [
      "{'Train':  best_epoch_indx:15\n",
      " auc:0.8888859034670373 \n",
      " apur:0.6564147587048805 \n",
      " f1:0.5478544639812966 \n",
      " precision:0.40321193002581013 \n",
      " recall:0.8543217378095094 \n",
      ", 'Validation':  best_epoch_indx:15\n",
      " auc:0.8729023765186483 \n",
      " apur:0.6124595661422808 \n",
      " f1:0.5374358974358975 \n",
      " precision:0.396026776074282 \n",
      " recall:0.8359161349134002 \n",
      ", 'Test':  best_epoch_indx:15\n",
      " auc:0.8663950636116392 \n",
      " apur:0.6026928894493315 \n",
      " f1:0.529741077676697 \n",
      " precision:0.38947007374378323 \n",
      " recall:0.8279256288734962 \n",
      "}\n",
      "=====Epoch 16\n",
      "Training...\n"
     ]
    },
    {
     "name": "stderr",
     "output_type": "stream",
     "text": [
      "Iteration: 100%|██████████| 392/392 [00:17<00:00, 22.21it/s]\n",
      "Iteration: 100%|██████████| 44/44 [00:02<00:00, 21.74it/s]s]\n",
      "Iteration:   1%|          | 2/392 [00:00<00:33, 11.52it/s]s]"
     ]
    },
    {
     "name": "stdout",
     "output_type": "stream",
     "text": [
      "{'Train':  best_epoch_indx:15\n",
      " auc:0.8866238630194627 \n",
      " apur:0.648040451893036 \n",
      " f1:0.5243123296647654 \n",
      " precision:0.371386978353517 \n",
      " recall:0.8913362701908958 \n",
      ", 'Validation':  best_epoch_indx:15\n",
      " auc:0.8725832616335143 \n",
      " apur:0.6169464365622208 \n",
      " f1:0.511671335200747 \n",
      " precision:0.3616820667546672 \n",
      " recall:0.8742023701002735 \n",
      ", 'Test':  best_epoch_indx:15\n",
      " auc:0.873384379187619 \n",
      " apur:0.613665662852414 \n",
      " f1:0.5163150867823766 \n",
      " precision:0.3651333182264522 \n",
      " recall:0.8811520233321182 \n",
      "}\n",
      "=====Epoch 16\n",
      "Training...\n"
     ]
    },
    {
     "name": "stderr",
     "output_type": "stream",
     "text": [
      "Iteration: 100%|██████████| 44/44 [00:02<00:00, 21.24it/s]s]\n",
      "Iteration:   0%|          | 0/392 [00:00<?, ?it/s]13.08it/s]"
     ]
    },
    {
     "name": "stdout",
     "output_type": "stream",
     "text": [
      "{'Train':  best_epoch_indx:15\n",
      " auc:0.8913995526236081 \n",
      " apur:0.6561007215336341 \n",
      " f1:0.5503864663847163 \n",
      " precision:0.4047040320274521 \n",
      " recall:0.8599422755582561 \n",
      ", 'Validation':  best_epoch_indx:15\n",
      " auc:0.8711118999533682 \n",
      " apur:0.6120192437909144 \n",
      " f1:0.5360432811814594 \n",
      " precision:0.394702842377261 \n",
      " recall:0.8350797266514807 \n",
      ", 'Test':  best_epoch_indx:15\n",
      " auc:0.8690798576382504 \n",
      " apur:0.6068347095379026 \n",
      " f1:0.5291225634796691 \n",
      " precision:0.3874957641477465 \n",
      " recall:0.8339106654512306 \n",
      "}\n",
      "=====Epoch 16\n",
      "Training...\n"
     ]
    },
    {
     "name": "stderr",
     "output_type": "stream",
     "text": [
      "Iteration: 100%|██████████| 109/109 [00:05<00:00, 21.76it/s]\n",
      "Iteration: 100%|██████████| 392/392 [00:31<00:00, 12.62it/s]\n",
      "Iteration:  58%|█████▊    | 228/392 [00:17<00:12, 13.03it/s]"
     ]
    },
    {
     "name": "stdout",
     "output_type": "stream",
     "text": [
      "Evaluating...\n"
     ]
    },
    {
     "name": "stderr",
     "output_type": "stream",
     "text": [
      "Iteration: 100%|██████████| 392/392 [00:30<00:00, 12.65it/s]\n",
      "Iteration:   1%|          | 3/392 [00:00<00:17, 21.92it/s]s]"
     ]
    },
    {
     "name": "stdout",
     "output_type": "stream",
     "text": [
      "Evaluating...\n"
     ]
    },
    {
     "name": "stderr",
     "output_type": "stream",
     "text": [
      "Iteration: 100%|██████████| 392/392 [00:30<00:00, 12.85it/s]\n",
      "Iteration:  73%|███████▎  | 285/392 [00:12<00:04, 22.70it/s]"
     ]
    },
    {
     "name": "stdout",
     "output_type": "stream",
     "text": [
      "Evaluating...\n"
     ]
    },
    {
     "name": "stderr",
     "output_type": "stream",
     "text": [
      "Iteration: 100%|██████████| 392/392 [00:17<00:00, 22.37it/s]\n",
      "Iteration: 100%|██████████| 392/392 [00:31<00:00, 12.38it/s]\n",
      "Iteration:   0%|          | 0/44 [00:00<?, ?it/s] 22.09it/s]"
     ]
    },
    {
     "name": "stdout",
     "output_type": "stream",
     "text": [
      "Evaluating...\n"
     ]
    },
    {
     "name": "stderr",
     "output_type": "stream",
     "text": [
      "Iteration: 100%|██████████| 44/44 [00:02<00:00, 21.27it/s]s]\n",
      "Iteration:  42%|████▏     | 165/392 [00:07<00:10, 22.58it/s]"
     ]
    },
    {
     "name": "stdout",
     "output_type": "stream",
     "text": [
      "{'Train':  best_epoch_indx:15\n",
      " auc:0.8853782397727193 \n",
      " apur:0.6489639256181636 \n",
      " f1:0.5700628745817554 \n",
      " precision:0.4475104632703132 \n",
      " recall:0.7850524077168464 \n",
      ", 'Validation':  best_epoch_indx:15\n",
      " auc:0.8686776805419626 \n",
      " apur:0.6182507997543025 \n",
      " f1:0.5522412931178137 \n",
      " precision:0.43525085369057 \n",
      " recall:0.7552415679124886 \n",
      ", 'Test':  best_epoch_indx:15\n",
      " auc:0.8682197743137304 \n",
      " apur:0.6133079195611021 \n",
      " f1:0.5545187949880033 \n",
      " precision:0.4370666106324858 \n",
      " recall:0.7582938388625592 \n",
      "}\n",
      "=====Epoch 16\n",
      "Training...\n"
     ]
    },
    {
     "name": "stderr",
     "output_type": "stream",
     "text": [
      "Iteration: 100%|██████████| 109/109 [00:05<00:00, 21.46it/s]\n",
      "Iteration: 100%|██████████| 392/392 [00:17<00:00, 22.56it/s]\n",
      "Iteration: 100%|██████████| 392/392 [00:17<00:00, 22.44it/s]\n",
      "Iteration: 100%|██████████| 109/109 [00:05<00:00, 21.39it/s]\n",
      "Iteration: 100%|██████████| 392/392 [00:17<00:00, 22.31it/s]\n",
      "Iteration: 100%|██████████| 109/109 [00:04<00:00, 22.72it/s]\n",
      "Iteration: 100%|██████████| 109/109 [00:05<00:00, 21.56it/s]\n",
      "Iteration: 100%|██████████| 392/392 [00:30<00:00, 12.77it/s]\n",
      "Iteration:   1%|          | 3/392 [00:00<00:18, 21.28it/s]"
     ]
    },
    {
     "name": "stdout",
     "output_type": "stream",
     "text": [
      "Evaluating...\n"
     ]
    },
    {
     "name": "stderr",
     "output_type": "stream",
     "text": [
      "Iteration: 100%|██████████| 44/44 [00:02<00:00, 21.97it/s]s]\n",
      "Iteration:  31%|███       | 120/392 [00:05<00:12, 22.02it/s]"
     ]
    },
    {
     "name": "stdout",
     "output_type": "stream",
     "text": [
      "{'Train':  best_epoch_indx:16\n",
      " auc:0.8931022241437114 \n",
      " apur:0.6612348490870961 \n",
      " f1:0.5506929483263128 \n",
      " precision:0.40344884449574786 \n",
      " recall:0.8671831485138488 \n",
      ", 'Validation':  best_epoch_indx:16\n",
      " auc:0.8677623699492528 \n",
      " apur:0.6108064746161239 \n",
      " f1:0.5261768587769468 \n",
      " precision:0.3878918918918919 \n",
      " recall:0.8176845943482224 \n",
      ", 'Test':  best_epoch_indx:16\n",
      " auc:0.867025158295557 \n",
      " apur:0.6078283723431603 \n",
      " f1:0.5222609590215466 \n",
      " precision:0.3804012988094247 \n",
      " recall:0.8328472475391907 \n",
      "}\n",
      "=====Epoch 17\n",
      "Training...\n"
     ]
    },
    {
     "name": "stderr",
     "output_type": "stream",
     "text": [
      "Iteration: 100%|██████████| 44/44 [00:02<00:00, 21.88it/s]]]\n",
      "Iteration:  25%|██▌       | 98/392 [00:07<00:22, 12.99it/s]]"
     ]
    },
    {
     "name": "stdout",
     "output_type": "stream",
     "text": [
      "{'Train':  best_epoch_indx:16\n",
      " auc:0.9008787216171872 \n",
      " apur:0.6807766549509671 \n",
      " f1:0.5585574104753409 \n",
      " precision:0.40746508006600507 \n",
      " recall:0.8877411514507063 \n",
      ", 'Validation':  best_epoch_indx:16\n",
      " auc:0.8810516570104384 \n",
      " apur:0.6362887796065907 \n",
      " f1:0.5398355542954352 \n",
      " precision:0.3917695473251029 \n",
      " recall:0.8678213309024613 \n",
      ", 'Test':  best_epoch_indx:16\n",
      " auc:0.8771957068632047 \n",
      " apur:0.6298576080134466 \n",
      " f1:0.5354465869428391 \n",
      " precision:0.39020932365941124 \n",
      " recall:0.8528982865475756 \n",
      "}\n",
      "=====Epoch 17\n",
      "Training...\n"
     ]
    },
    {
     "name": "stderr",
     "output_type": "stream",
     "text": [
      "Iteration: 100%|██████████| 44/44 [00:02<00:00, 21.66it/s]]]\n",
      "Iteration:  40%|███▉      | 156/392 [00:12<00:18, 12.95it/s]"
     ]
    },
    {
     "name": "stdout",
     "output_type": "stream",
     "text": [
      "{'Train':  best_epoch_indx:16\n",
      " auc:0.8921862896544341 \n",
      " apur:0.665594769000664 \n",
      " f1:0.5603931635479295 \n",
      " precision:0.42041912677698096 \n",
      " recall:0.8400931692743936 \n",
      ", 'Validation':  best_epoch_indx:16\n",
      " auc:0.876255033495107 \n",
      " apur:0.6263963338476617 \n",
      " f1:0.5470811220621684 \n",
      " precision:0.40990683935469213 \n",
      " recall:0.8222424794895169 \n",
      ", 'Test':  best_epoch_indx:16\n",
      " auc:0.8750302780092072 \n",
      " apur:0.6237255505241218 \n",
      " f1:0.5430503930290658 \n",
      " precision:0.40787185354691075 \n",
      " recall:0.8122493620123952 \n",
      "}\n",
      "=====Epoch 17\n",
      "Training...\n"
     ]
    },
    {
     "name": "stderr",
     "output_type": "stream",
     "text": [
      "Iteration: 100%|██████████| 392/392 [00:18<00:00, 21.20it/s]\n",
      "Iteration: 100%|██████████| 44/44 [00:02<00:00, 20.51it/s]s]\n",
      "Iteration:  16%|█▋        | 64/392 [00:05<00:25, 12.94it/s]]"
     ]
    },
    {
     "name": "stdout",
     "output_type": "stream",
     "text": [
      "{'Train':  best_epoch_indx:16\n",
      " auc:0.9011165507589495 \n",
      " apur:0.6821813885399513 \n",
      " f1:0.5704420350291911 \n",
      " precision:0.4253376781672098 \n",
      " recall:0.8658159906830726 \n",
      ", 'Validation':  best_epoch_indx:16\n",
      " auc:0.878585036449824 \n",
      " apur:0.6357426700092514 \n",
      " f1:0.5535279805352799 \n",
      " precision:0.41543026706231456 \n",
      " recall:0.8291571753986332 \n",
      ", 'Test':  best_epoch_indx:16\n",
      " auc:0.875926563005546 \n",
      " apur:0.628770453571462 \n",
      " f1:0.541679097798198 \n",
      " precision:0.40260777009047366 \n",
      " recall:0.8275296262534184 \n",
      "}\n",
      "=====Epoch 17\n",
      "Training...\n"
     ]
    },
    {
     "name": "stderr",
     "output_type": "stream",
     "text": [
      "Iteration: 100%|██████████| 109/109 [00:04<00:00, 22.66it/s]\n",
      "Iteration: 100%|██████████| 392/392 [00:30<00:00, 12.77it/s]\n",
      "Iteration:  60%|█████▉    | 234/392 [00:18<00:12, 12.98it/s]"
     ]
    },
    {
     "name": "stdout",
     "output_type": "stream",
     "text": [
      "Evaluating...\n"
     ]
    },
    {
     "name": "stderr",
     "output_type": "stream",
     "text": [
      "Iteration: 100%|██████████| 392/392 [00:30<00:00, 12.95it/s]\n",
      "Iteration:   0%|          | 0/392 [00:00<?, ?it/s]"
     ]
    },
    {
     "name": "stdout",
     "output_type": "stream",
     "text": [
      "Evaluating...\n"
     ]
    },
    {
     "name": "stderr",
     "output_type": "stream",
     "text": [
      "Iteration: 100%|██████████| 392/392 [00:30<00:00, 12.66it/s]\n",
      "Iteration:  84%|████████▎ | 328/392 [00:26<00:05, 12.72it/s]"
     ]
    },
    {
     "name": "stdout",
     "output_type": "stream",
     "text": [
      "Evaluating...\n"
     ]
    },
    {
     "name": "stderr",
     "output_type": "stream",
     "text": [
      "Iteration: 100%|██████████| 392/392 [00:17<00:00, 22.82it/s]\n",
      "Iteration: 100%|██████████| 392/392 [00:31<00:00, 12.63it/s]\n",
      "Iteration:   0%|          | 0/392 [00:00<?, ?it/s]"
     ]
    },
    {
     "name": "stdout",
     "output_type": "stream",
     "text": [
      "Evaluating...\n"
     ]
    },
    {
     "name": "stderr",
     "output_type": "stream",
     "text": [
      "Iteration: 100%|██████████| 44/44 [00:02<00:00, 21.53it/s]s]\n",
      "Iteration:   0%|          | 0/392 [00:00<?, ?it/s]22.99it/s]"
     ]
    },
    {
     "name": "stdout",
     "output_type": "stream",
     "text": [
      "{'Train':  best_epoch_indx:16\n",
      " auc:0.8977899185046955 \n",
      " apur:0.6742375158191223 \n",
      " f1:0.5685696871190573 \n",
      " precision:0.427088897367417 \n",
      " recall:0.8502202643171806 \n",
      ", 'Validation':  best_epoch_indx:16\n",
      " auc:0.8765790355741572 \n",
      " apur:0.6260666695080905 \n",
      " f1:0.5481890730509514 \n",
      " precision:0.41323461360481256 \n",
      " recall:0.8140382862351869 \n",
      ", 'Test':  best_epoch_indx:16\n",
      " auc:0.8760087835040807 \n",
      " apur:0.6279797866856334 \n",
      " f1:0.5473180311771204 \n",
      " precision:0.41256476683937826 \n",
      " recall:0.8127962085308057 \n",
      "}\n",
      "=====Epoch 17\n",
      "Training...\n"
     ]
    },
    {
     "name": "stderr",
     "output_type": "stream",
     "text": [
      "Iteration: 100%|██████████| 109/109 [00:04<00:00, 22.96it/s]\n",
      "Iteration: 100%|██████████| 392/392 [00:17<00:00, 22.64it/s]\n",
      "Iteration: 100%|██████████| 392/392 [00:18<00:00, 21.53it/s]\n",
      "Iteration: 100%|██████████| 109/109 [00:05<00:00, 21.09it/s]\n",
      "Iteration: 100%|██████████| 392/392 [00:18<00:00, 21.78it/s]\n",
      "Iteration: 100%|██████████| 109/109 [00:04<00:00, 22.37it/s]\n",
      "Iteration: 100%|██████████| 109/109 [00:04<00:00, 22.06it/s]\n",
      "Iteration: 100%|██████████| 392/392 [00:30<00:00, 12.80it/s]\n",
      "Iteration:   0%|          | 0/392 [00:00<?, ?it/s]"
     ]
    },
    {
     "name": "stdout",
     "output_type": "stream",
     "text": [
      "Evaluating...\n"
     ]
    },
    {
     "name": "stderr",
     "output_type": "stream",
     "text": [
      "Iteration: 100%|██████████| 44/44 [00:02<00:00, 15.83it/s]s]\n",
      "Iteration:  27%|██▋       | 105/392 [00:04<00:13, 21.95it/s]"
     ]
    },
    {
     "name": "stdout",
     "output_type": "stream",
     "text": [
      "{'Train':  best_epoch_indx:17\n",
      " auc:0.9046880652724559 \n",
      " apur:0.6884916422032351 \n",
      " f1:0.5592213895592532 \n",
      " precision:0.40733202266682084 \n",
      " recall:0.8917413539926072 \n",
      ", 'Validation':  best_epoch_indx:17\n",
      " auc:0.8792452200936244 \n",
      " apur:0.6329906401995692 \n",
      " f1:0.5373905554758146 \n",
      " precision:0.39220615964802014 \n",
      " recall:0.853236098450319 \n",
      ", 'Test':  best_epoch_indx:17\n",
      " auc:0.8779082731408425 \n",
      " apur:0.6308473613363874 \n",
      " f1:0.5298671941226334 \n",
      " precision:0.3839790318617413 \n",
      " recall:0.8545388261028072 \n",
      "}\n",
      "=====Epoch 18\n",
      "Training...\n"
     ]
    },
    {
     "name": "stderr",
     "output_type": "stream",
     "text": [
      "Iteration: 100%|██████████| 44/44 [00:02<00:00, 16.03it/s]s]\n",
      "Iteration:  76%|███████▌  | 297/392 [00:13<00:04, 22.17it/s]"
     ]
    },
    {
     "name": "stdout",
     "output_type": "stream",
     "text": [
      "{'Train':  best_epoch_indx:17\n",
      " auc:0.9082709113888268 \n",
      " apur:0.6989150120770685 \n",
      " f1:0.5799268971530129 \n",
      " precision:0.4335096382824054 \n",
      " recall:0.8756899083497899 \n",
      ", 'Validation':  best_epoch_indx:17\n",
      " auc:0.8846063040186998 \n",
      " apur:0.6403230349130059 \n",
      " f1:0.559052757793765 \n",
      " precision:0.4164805716837874 \n",
      " recall:0.850045578851413 \n",
      ", 'Test':  best_epoch_indx:17\n",
      " auc:0.8807016805222998 \n",
      " apur:0.6369334327816524 \n",
      " f1:0.5537679932260796 \n",
      " precision:0.41437364228819695 \n",
      " recall:0.8344877870944222 \n",
      "}\n",
      "=====Epoch 18\n",
      "Training...\n"
     ]
    },
    {
     "name": "stderr",
     "output_type": "stream",
     "text": [
      "Iteration: 100%|██████████| 44/44 [00:02<00:00, 21.10it/s]s]\n",
      "Iteration: 100%|██████████| 392/392 [00:18<00:00, 21.76it/s]\n",
      "Iteration:   1%|          | 2/392 [00:00<00:33, 11.62it/s]s]"
     ]
    },
    {
     "name": "stdout",
     "output_type": "stream",
     "text": [
      "{'Train':  best_epoch_indx:17\n",
      " auc:0.9055005251885967 \n",
      " apur:0.6913812405904027 \n",
      " f1:0.5730013803655474 \n",
      " precision:0.42662209014363545 \n",
      " recall:0.8722973315104562 \n",
      ", 'Validation':  best_epoch_indx:17\n",
      " auc:0.8841389792099189 \n",
      " apur:0.647283448202036 \n",
      " f1:0.5533620305774083 \n",
      " precision:0.4103015628439357 \n",
      " recall:0.8495897903372835 \n",
      ", 'Test':  best_epoch_indx:17\n",
      " auc:0.8857342027788262 \n",
      " apur:0.6434068963199894 \n",
      " f1:0.5547793898143173 \n",
      " precision:0.41250110982864246 \n",
      " recall:0.8468829748450601 \n",
      "}\n",
      "=====Epoch 18\n",
      "Training...\n"
     ]
    },
    {
     "name": "stderr",
     "output_type": "stream",
     "text": [
      "Iteration: 100%|██████████| 44/44 [00:02<00:00, 15.96it/s]]]\n",
      "Iteration:   0%|          | 0/392 [00:00<?, ?it/s]2.74it/s]]"
     ]
    },
    {
     "name": "stdout",
     "output_type": "stream",
     "text": [
      "{'Train':  best_epoch_indx:17\n",
      " auc:0.9059057560690302 \n",
      " apur:0.6966689586042568 \n",
      " f1:0.5601788994489258 \n",
      " precision:0.4091609109576255 \n",
      " recall:0.8878930578763482 \n",
      ", 'Validation':  best_epoch_indx:17\n",
      " auc:0.8805051521230804 \n",
      " apur:0.6359786686644274 \n",
      " f1:0.5388705273746228 \n",
      " precision:0.39357682619647355 \n",
      " recall:0.8542141230068337 \n",
      ", 'Test':  best_epoch_indx:17\n",
      " auc:0.8793988861038877 \n",
      " apur:0.638392189513124 \n",
      " f1:0.5360576923076923 \n",
      " precision:0.3906732293317761 \n",
      " recall:0.8537830446672744 \n",
      "}\n",
      "=====Epoch 18\n",
      "Training...\n"
     ]
    },
    {
     "name": "stderr",
     "output_type": "stream",
     "text": [
      "Iteration: 100%|██████████| 109/109 [00:04<00:00, 21.90it/s]\n",
      "Iteration: 100%|██████████| 392/392 [00:30<00:00, 12.86it/s]\n",
      "Iteration:  71%|███████▏  | 280/392 [00:21<00:08, 13.03it/s]"
     ]
    },
    {
     "name": "stdout",
     "output_type": "stream",
     "text": [
      "Evaluating...\n"
     ]
    },
    {
     "name": "stderr",
     "output_type": "stream",
     "text": [
      "Iteration: 100%|██████████| 392/392 [00:30<00:00, 12.87it/s]\n",
      "Iteration:   1%|          | 3/392 [00:00<00:17, 21.62it/s]s]"
     ]
    },
    {
     "name": "stdout",
     "output_type": "stream",
     "text": [
      "Evaluating...\n"
     ]
    },
    {
     "name": "stderr",
     "output_type": "stream",
     "text": [
      "Iteration: 100%|██████████| 392/392 [00:30<00:00, 12.77it/s]\n",
      "Iteration:  28%|██▊       | 111/392 [00:04<00:12, 22.91it/s]"
     ]
    },
    {
     "name": "stdout",
     "output_type": "stream",
     "text": [
      "Evaluating...\n"
     ]
    },
    {
     "name": "stderr",
     "output_type": "stream",
     "text": [
      "Iteration: 100%|██████████| 392/392 [00:17<00:00, 22.67it/s]\n",
      "Iteration: 100%|██████████| 392/392 [00:30<00:00, 12.68it/s]\n",
      "Iteration:   1%|          | 3/392 [00:00<00:18, 21.19it/s]]]"
     ]
    },
    {
     "name": "stdout",
     "output_type": "stream",
     "text": [
      "Evaluating...\n"
     ]
    },
    {
     "name": "stderr",
     "output_type": "stream",
     "text": [
      "Iteration: 100%|██████████| 44/44 [00:02<00:00, 21.51it/s]]]\n",
      "Iteration:  83%|████████▎ | 90/109 [00:03<00:00, 23.00it/s]]"
     ]
    },
    {
     "name": "stdout",
     "output_type": "stream",
     "text": [
      "{'Train':  best_epoch_indx:17\n",
      " auc:0.9096060678469369 \n",
      " apur:0.7062587773857127 \n",
      " f1:0.5943514121469633 \n",
      " precision:0.4590100648007721 \n",
      " recall:0.8428781204111601 \n",
      ", 'Validation':  best_epoch_indx:17\n",
      " auc:0.8849517845808821 \n",
      " apur:0.6554151545701226 \n",
      " f1:0.562914979757085 \n",
      " precision:0.4365737251946747 \n",
      " recall:0.7921604375569735 \n",
      ", 'Test':  best_epoch_indx:17\n",
      " auc:0.8817734672861217 \n",
      " apur:0.6476550474765963 \n",
      " f1:0.5626899450371807 \n",
      " precision:0.4360156328289408 \n",
      " recall:0.7931097338680277 \n",
      "}\n",
      "=====Epoch 18\n",
      "Training...\n"
     ]
    },
    {
     "name": "stderr",
     "output_type": "stream",
     "text": [
      "Iteration: 100%|██████████| 109/109 [00:04<00:00, 22.69it/s]\n",
      "Iteration: 100%|██████████| 392/392 [00:17<00:00, 22.92it/s]\n",
      "Iteration: 100%|██████████| 392/392 [00:18<00:00, 21.51it/s]\n",
      "Iteration: 100%|██████████| 109/109 [00:04<00:00, 22.64it/s]\n",
      "Iteration: 100%|██████████| 392/392 [00:17<00:00, 22.29it/s]\n",
      "Iteration: 100%|██████████| 109/109 [00:04<00:00, 22.43it/s]\n",
      "Iteration: 100%|██████████| 109/109 [00:04<00:00, 22.26it/s]\n",
      "Iteration: 100%|██████████| 392/392 [00:30<00:00, 12.72it/s]\n",
      "Iteration:   1%|          | 3/392 [00:00<00:18, 21.15it/s]"
     ]
    },
    {
     "name": "stdout",
     "output_type": "stream",
     "text": [
      "Evaluating...\n"
     ]
    },
    {
     "name": "stderr",
     "output_type": "stream",
     "text": [
      "Iteration: 100%|██████████| 44/44 [00:02<00:00, 21.80it/s]]\n",
      "Iteration:  16%|█▌        | 63/392 [00:02<00:14, 22.09it/s]"
     ]
    },
    {
     "name": "stdout",
     "output_type": "stream",
     "text": [
      "{'Train':  best_epoch_indx:18\n",
      " auc:0.9131713557134925 \n",
      " apur:0.7094109176297172 \n",
      " f1:0.5855068566819037 \n",
      " precision:0.43818387624198213 \n",
      " recall:0.8820699782267457 \n",
      ", 'Validation':  best_epoch_indx:18\n",
      " auc:0.8832247593214309 \n",
      " apur:0.645228735456077 \n",
      " f1:0.5505566570077779 \n",
      " precision:0.4137061654824662 \n",
      " recall:0.8226982680036463 \n",
      ", 'Test':  best_epoch_indx:18\n",
      " auc:0.8843255720680355 \n",
      " apur:0.6457815086406145 \n",
      " f1:0.5502569618740288 \n",
      " precision:0.4093172119487909 \n",
      " recall:0.8392271235873131 \n",
      "}\n",
      "=====Epoch 19\n",
      "Training...\n"
     ]
    },
    {
     "name": "stderr",
     "output_type": "stream",
     "text": [
      "Iteration: 100%|██████████| 44/44 [00:01<00:00, 22.17it/s]s]\n",
      "Iteration:   0%|          | 1/392 [00:00<00:39,  9.85it/s]s]"
     ]
    },
    {
     "name": "stdout",
     "output_type": "stream",
     "text": [
      "{'Train':  best_epoch_indx:18\n",
      " auc:0.9175612634121463 \n",
      " apur:0.7238323927337609 \n",
      " f1:0.596920863802168 \n",
      " precision:0.4509885105061588 \n",
      " recall:0.8824750620284572 \n",
      ", 'Validation':  best_epoch_indx:18\n",
      " auc:0.8914404049700875 \n",
      " apur:0.6594668595241536 \n",
      " f1:0.56626874808693 \n",
      " precision:0.42626728110599077 \n",
      " recall:0.8432087511394712 \n",
      ", 'Test':  best_epoch_indx:18\n",
      " auc:0.8861178383271293 \n",
      " apur:0.6517740009836359 \n",
      " f1:0.5622386223862238 \n",
      " precision:0.4242621124930388 \n",
      " recall:0.8332118118847976 \n",
      "}\n",
      "=====Epoch 19\n",
      "Training...\n"
     ]
    },
    {
     "name": "stderr",
     "output_type": "stream",
     "text": [
      "Iteration: 100%|██████████| 44/44 [00:02<00:00, 21.64it/s]s]\n",
      "Iteration:  92%|█████████▏| 362/392 [00:17<00:01, 22.18it/s]"
     ]
    },
    {
     "name": "stdout",
     "output_type": "stream",
     "text": [
      "{'Train':  best_epoch_indx:18\n",
      " auc:0.9138429108288546 \n",
      " apur:0.714451861729881 \n",
      " f1:0.5800752440459419 \n",
      " precision:0.4311619197792451 \n",
      " recall:0.8861208162438604 \n",
      ", 'Validation':  best_epoch_indx:18\n",
      " auc:0.8922355283476124 \n",
      " apur:0.6660584167352684 \n",
      " f1:0.5569770901517406 \n",
      " precision:0.4134275618374558 \n",
      " recall:0.853236098450319 \n",
      ", 'Test':  best_epoch_indx:18\n",
      " auc:0.889910500855892 \n",
      " apur:0.6584734723550069 \n",
      " f1:0.5576509906899021 \n",
      " precision:0.4145519077196096 \n",
      " recall:0.8516223113379512 \n",
      "}\n",
      "=====Epoch 19\n",
      "Training...\n"
     ]
    },
    {
     "name": "stderr",
     "output_type": "stream",
     "text": [
      "Iteration: 100%|██████████| 392/392 [00:18<00:00, 20.87it/s]\n",
      "Iteration: 100%|██████████| 44/44 [00:02<00:00, 19.93it/s]s]\n",
      "Iteration:  39%|███▉      | 153/392 [00:11<00:18, 12.90it/s]"
     ]
    },
    {
     "name": "stdout",
     "output_type": "stream",
     "text": [
      "{'Train':  best_epoch_indx:18\n",
      " auc:0.919074507442449 \n",
      " apur:0.7299428715599243 \n",
      " f1:0.5989408131932584 \n",
      " precision:0.4542124542124542 \n",
      " recall:0.8790318497139096 \n",
      ", 'Validation':  best_epoch_indx:18\n",
      " auc:0.8874808357459885 \n",
      " apur:0.6640203209366597 \n",
      " f1:0.5678243264289051 \n",
      " precision:0.4313771888310459 \n",
      " recall:0.8305239179954442 \n",
      ", 'Test':  best_epoch_indx:18\n",
      " auc:0.8882100701739783 \n",
      " apur:0.6630081120084426 \n",
      " f1:0.5619537593751937 \n",
      " precision:0.4257137490608565 \n",
      " recall:0.8264357338195077 \n",
      "}\n",
      "=====Epoch 19\n",
      "Training...\n"
     ]
    },
    {
     "name": "stderr",
     "output_type": "stream",
     "text": [
      "Iteration: 100%|██████████| 109/109 [00:04<00:00, 22.37it/s]\n",
      "Iteration: 100%|██████████| 392/392 [00:30<00:00, 12.85it/s]\n",
      "Iteration:   0%|          | 0/392 [00:00<?, ?it/s]"
     ]
    },
    {
     "name": "stdout",
     "output_type": "stream",
     "text": [
      "Evaluating...\n"
     ]
    },
    {
     "name": "stderr",
     "output_type": "stream",
     "text": [
      "Iteration: 100%|██████████| 392/392 [00:30<00:00, 12.95it/s]\n",
      "Iteration:  59%|█████▉    | 232/392 [00:18<00:12, 12.74it/s]"
     ]
    },
    {
     "name": "stdout",
     "output_type": "stream",
     "text": [
      "Evaluating...\n"
     ]
    },
    {
     "name": "stderr",
     "output_type": "stream",
     "text": [
      "Iteration: 100%|██████████| 392/392 [00:31<00:00, 12.40it/s]\n",
      "Iteration:  83%|████████▎ | 326/392 [00:25<00:05, 12.82it/s]"
     ]
    },
    {
     "name": "stdout",
     "output_type": "stream",
     "text": [
      "Evaluating...\n"
     ]
    },
    {
     "name": "stderr",
     "output_type": "stream",
     "text": [
      "Iteration: 100%|██████████| 392/392 [00:17<00:00, 21.98it/s]\n",
      "Iteration: 100%|██████████| 392/392 [00:31<00:00, 12.64it/s]\n",
      "Iteration:  41%|████▏     | 45/109 [00:02<00:02, 21.56it/s]]"
     ]
    },
    {
     "name": "stdout",
     "output_type": "stream",
     "text": [
      "Evaluating...\n"
     ]
    },
    {
     "name": "stderr",
     "output_type": "stream",
     "text": [
      "Iteration: 100%|██████████| 109/109 [00:04<00:00, 22.35it/s]\n",
      "Iteration: 100%|██████████| 44/44 [00:02<00:00, 21.44it/s]s]\n",
      "Iteration:  89%|████████▉ | 348/392 [00:16<00:01, 22.27it/s]"
     ]
    },
    {
     "name": "stdout",
     "output_type": "stream",
     "text": [
      "{'Train':  best_epoch_indx:18\n",
      " auc:0.918891789937595 \n",
      " apur:0.7357537505791745 \n",
      " f1:0.5947323119297642 \n",
      " precision:0.45053597976056964 \n",
      " recall:0.8746771988455112 \n",
      ", 'Validation':  best_epoch_indx:18\n",
      " auc:0.8908827614617281 \n",
      " apur:0.6725264565218882 \n",
      " f1:0.5634858660003124 \n",
      " precision:0.42860536944642436 \n",
      " recall:0.8222424794895169 \n",
      ", 'Test':  best_epoch_indx:18\n",
      " auc:0.8900699605153728 \n",
      " apur:0.6679639989442285 \n",
      " f1:0.5656515227159261 \n",
      " precision:0.430062630480167 \n",
      " recall:0.8261028071454611 \n",
      "}\n",
      "=====Epoch 19\n",
      "Training...\n"
     ]
    },
    {
     "name": "stderr",
     "output_type": "stream",
     "text": [
      "Iteration: 100%|██████████| 392/392 [00:18<00:00, 21.66it/s]\n",
      "Iteration: 100%|██████████| 109/109 [00:05<00:00, 20.78it/s]\n",
      "Iteration: 100%|██████████| 392/392 [00:17<00:00, 22.46it/s]\n",
      "Iteration: 100%|██████████| 109/109 [00:04<00:00, 22.29it/s]\n",
      "Iteration: 100%|██████████| 392/392 [00:18<00:00, 21.43it/s]\n",
      "Iteration: 100%|██████████| 109/109 [00:04<00:00, 22.28it/s]\n",
      "Iteration: 100%|██████████| 392/392 [00:30<00:00, 12.67it/s]\n",
      "Iteration:   0%|          | 0/392 [00:00<?, ?it/s]"
     ]
    },
    {
     "name": "stdout",
     "output_type": "stream",
     "text": [
      "Evaluating...\n"
     ]
    },
    {
     "name": "stderr",
     "output_type": "stream",
     "text": [
      "Iteration: 100%|██████████| 44/44 [00:02<00:00, 21.96it/s]]\n",
      "Iteration:   0%|          | 1/392 [00:00<00:42,  9.09it/s]]"
     ]
    },
    {
     "name": "stdout",
     "output_type": "stream",
     "text": [
      "{'Train':  best_epoch_indx:19\n",
      " auc:0.9201018319061245 \n",
      " apur:0.7285828242033501 \n",
      " f1:0.5977333242302177 \n",
      " precision:0.4508355003990834 \n",
      " recall:0.8866271709959997 \n",
      ", 'Validation':  best_epoch_indx:19\n",
      " auc:0.8872154572924276 \n",
      " apur:0.6542835863165604 \n",
      " f1:0.5644209872710338 \n",
      " precision:0.4279661016949153 \n",
      " recall:0.8286235186873291 \n",
      ", 'Test':  best_epoch_indx:19\n",
      " auc:0.8884454813886948 \n",
      " apur:0.6556447871572089 \n",
      " f1:0.5597518700966977 \n",
      " precision:0.42000547595144655 \n",
      " recall:0.8388625592417062 \n",
      "}\n",
      "=====Epoch 20\n",
      "Training...\n"
     ]
    },
    {
     "name": "stderr",
     "output_type": "stream",
     "text": [
      "Iteration: 100%|██████████| 44/44 [00:02<00:00, 21.47it/s]s]\n",
      "Iteration:  58%|█████▊    | 229/392 [00:10<00:07, 22.42it/s]"
     ]
    },
    {
     "name": "stdout",
     "output_type": "stream",
     "text": [
      "{'Train':  best_epoch_indx:19\n",
      " auc:0.9250557200228839 \n",
      " apur:0.7453987956550279 \n",
      " f1:0.6047283995001113 \n",
      " precision:0.45680736602524313 \n",
      " recall:0.8943237632285179 \n",
      ", 'Validation':  best_epoch_indx:19\n",
      " auc:0.8966266615934937 \n",
      " apur:0.6740439768878758 \n",
      " f1:0.5692096847875743 \n",
      " precision:0.42739538074548367 \n",
      " recall:0.8518687329079307 \n",
      ", 'Test':  best_epoch_indx:19\n",
      " auc:0.8927129541904409 \n",
      " apur:0.6696247159680089 \n",
      " f1:0.5672064528046302 \n",
      " precision:0.42826592282659226 \n",
      " recall:0.8395916879329202 \n",
      "}\n",
      "=====Epoch 20\n",
      "Training...\n"
     ]
    },
    {
     "name": "stderr",
     "output_type": "stream",
     "text": [
      "Iteration: 100%|██████████| 44/44 [00:02<00:00, 19.98it/s]s]\n",
      "Iteration:   0%|          | 0/392 [00:00<?, ?it/s]2.94it/s]]"
     ]
    },
    {
     "name": "stdout",
     "output_type": "stream",
     "text": [
      "{'Train':  best_epoch_indx:19\n",
      " auc:0.919602035574898 \n",
      " apur:0.7283443634630155 \n",
      " f1:0.5933464061126513 \n",
      " precision:0.4453523485675134 \n",
      " recall:0.8886525900045572 \n",
      ", 'Validation':  best_epoch_indx:19\n",
      " auc:0.8961259444554681 \n",
      " apur:0.6735838574500692 \n",
      " f1:0.5712988192552224 \n",
      " precision:0.42769718948322755 \n",
      " recall:0.8600729261622607 \n",
      ", 'Test':  best_epoch_indx:19\n",
      " auc:0.895017905184732 \n",
      " apur:0.6671751599836373 \n",
      " f1:0.5690503675800473 \n",
      " precision:0.42677481089948055 \n",
      " recall:0.8536274152387896 \n",
      "}\n",
      "=====Epoch 20\n",
      "Training...\n"
     ]
    },
    {
     "name": "stderr",
     "output_type": "stream",
     "text": [
      "Iteration: 100%|██████████| 392/392 [00:18<00:00, 21.77it/s]\n",
      "Iteration: 100%|██████████| 44/44 [00:02<00:00, 21.56it/s]]]\n",
      "Iteration:  39%|███▉      | 154/392 [00:11<00:18, 13.09it/s]"
     ]
    },
    {
     "name": "stdout",
     "output_type": "stream",
     "text": [
      "{'Train':  best_epoch_indx:19\n",
      " auc:0.9272102966772235 \n",
      " apur:0.7510736238740157 \n",
      " f1:0.6124666910496891 \n",
      " precision:0.4667887862376553 \n",
      " recall:0.890323560686617 \n",
      ", 'Validation':  best_epoch_indx:19\n",
      " auc:0.892253238213774 \n",
      " apur:0.6724420720851912 \n",
      " f1:0.5762605699968681 \n",
      " precision:0.43903602958721066 \n",
      " recall:0.8382687927107062 \n",
      ", 'Test':  best_epoch_indx:19\n",
      " auc:0.8924647653326854 \n",
      " apur:0.6737733133937646 \n",
      " f1:0.567498599614116 \n",
      " precision:0.43082593082593085 \n",
      " recall:0.831175934366454 \n",
      "}\n",
      "=====Epoch 20\n",
      "Training...\n"
     ]
    },
    {
     "name": "stderr",
     "output_type": "stream",
     "text": [
      "Iteration: 100%|██████████| 109/109 [00:04<00:00, 22.79it/s]\n",
      "Iteration: 100%|██████████| 392/392 [00:30<00:00, 12.87it/s]\n",
      "Iteration:  69%|██████▉   | 272/392 [00:21<00:09, 12.71it/s]"
     ]
    },
    {
     "name": "stdout",
     "output_type": "stream",
     "text": [
      "Evaluating...\n"
     ]
    },
    {
     "name": "stderr",
     "output_type": "stream",
     "text": [
      "Iteration: 100%|██████████| 392/392 [00:30<00:00, 12.81it/s]\n",
      "Iteration:  79%|███████▉  | 310/392 [00:24<00:06, 12.62it/s]"
     ]
    },
    {
     "name": "stdout",
     "output_type": "stream",
     "text": [
      "Evaluating...\n"
     ]
    },
    {
     "name": "stderr",
     "output_type": "stream",
     "text": [
      "Iteration: 100%|██████████| 392/392 [00:31<00:00, 12.64it/s]\n",
      "Iteration:  81%|████████  | 316/392 [00:25<00:05, 12.76it/s]"
     ]
    },
    {
     "name": "stdout",
     "output_type": "stream",
     "text": [
      "Evaluating...\n"
     ]
    },
    {
     "name": "stderr",
     "output_type": "stream",
     "text": [
      "Iteration: 100%|██████████| 392/392 [00:18<00:00, 21.30it/s]\n",
      "Iteration: 100%|██████████| 392/392 [00:31<00:00, 12.48it/s]\n",
      "Iteration:   1%|          | 3/392 [00:00<00:18, 21.26it/s]s]"
     ]
    },
    {
     "name": "stdout",
     "output_type": "stream",
     "text": [
      "Evaluating...\n"
     ]
    },
    {
     "name": "stderr",
     "output_type": "stream",
     "text": [
      "Iteration: 100%|██████████| 109/109 [00:04<00:00, 23.11it/s]\n",
      "Iteration: 100%|██████████| 44/44 [00:02<00:00, 20.95it/s]s]\n",
      "Iteration:  97%|█████████▋| 381/392 [00:16<00:00, 22.53it/s]"
     ]
    },
    {
     "name": "stdout",
     "output_type": "stream",
     "text": [
      "{'Train':  best_epoch_indx:19\n",
      " auc:0.9268663342780954 \n",
      " apur:0.7541686756020534 \n",
      " f1:0.6121118665451741 \n",
      " precision:0.46801897156944183 \n",
      " recall:0.8843992100865866 \n",
      ", 'Validation':  best_epoch_indx:19\n",
      " auc:0.8968509061864324 \n",
      " apur:0.6854299154416023 \n",
      " f1:0.5811393011010053 \n",
      " precision:0.44709059661183403 \n",
      " recall:0.8299908842297175 \n",
      ", 'Test':  best_epoch_indx:19\n",
      " auc:0.8953544723830428 \n",
      " apur:0.680210451699551 \n",
      " f1:0.5773208959959388 \n",
      " precision:0.4428112527985983 \n",
      " recall:0.8292016040831207 \n",
      "}\n",
      "=====Epoch 20\n",
      "Training...\n"
     ]
    },
    {
     "name": "stderr",
     "output_type": "stream",
     "text": [
      "Iteration: 100%|██████████| 44/44 [00:01<00:00, 22.41it/s]s]\n",
      "Iteration: 100%|██████████| 392/392 [00:17<00:00, 22.82it/s]\n",
      "Iteration:  26%|██▌       | 102/392 [00:04<00:13, 22.07it/s]"
     ]
    },
    {
     "name": "stdout",
     "output_type": "stream",
     "text": [
      "{'Train':  best_epoch_indx:20\n",
      " auc:0.9221984312705834 \n",
      " apur:0.7315545944302736 \n",
      " f1:0.6003150459865513 \n",
      " precision:0.4510307966403665 \n",
      " recall:0.8973112562661401 \n",
      ", 'Validation':  best_epoch_indx:20\n",
      " auc:0.8871988240530486 \n",
      " apur:0.6516208712604704 \n",
      " f1:0.5656596794081381 \n",
      " precision:0.4273404750815091 \n",
      " recall:0.8363719234275296 \n",
      ", 'Test':  best_epoch_indx:20\n",
      " auc:0.8874998657715958 \n",
      " apur:0.653837701851701 \n",
      " f1:0.5575691675727921 \n",
      " precision:0.41696783520057823 \n",
      " recall:0.8412322274881516 \n",
      "}\n",
      "=====Epoch 21\n",
      "Training...\n"
     ]
    },
    {
     "name": "stderr",
     "output_type": "stream",
     "text": [
      "Iteration: 100%|██████████| 109/109 [00:04<00:00, 23.65it/s]\n",
      "Iteration: 100%|██████████| 392/392 [00:17<00:00, 22.47it/s]\n",
      "Iteration: 100%|██████████| 44/44 [00:01<00:00, 23.33it/s]s]\n",
      "Iteration:  29%|██▊       | 112/392 [00:08<00:21, 12.80it/s]"
     ]
    },
    {
     "name": "stdout",
     "output_type": "stream",
     "text": [
      "{'Train':  best_epoch_indx:20\n",
      " auc:0.9250622114251388 \n",
      " apur:0.745441274471073 \n",
      " f1:0.6105647263249349 \n",
      " precision:0.4647760641252877 \n",
      " recall:0.889614664033622 \n",
      ", 'Validation':  best_epoch_indx:20\n",
      " auc:0.8955897165049977 \n",
      " apur:0.674051627051278 \n",
      " f1:0.5756731662024142 \n",
      " precision:0.43580131208997186 \n",
      " recall:0.8477666362807658 \n",
      ", 'Test':  best_epoch_indx:20\n",
      " auc:0.8912350249110917 \n",
      " apur:0.6671806729700164 \n",
      " f1:0.5706793206793207 \n",
      " precision:0.43399810066476735 \n",
      " recall:0.8330295297119942 \n",
      "}\n",
      "=====Epoch 21\n",
      "Training...\n"
     ]
    },
    {
     "name": "stderr",
     "output_type": "stream",
     "text": [
      "Iteration: 100%|██████████| 109/109 [00:04<00:00, 23.02it/s]\n",
      "Iteration: 100%|██████████| 392/392 [00:18<00:00, 21.22it/s]\n",
      "Iteration: 100%|██████████| 44/44 [00:02<00:00, 21.87it/s]]]\n",
      "Iteration:   0%|          | 0/392 [00:00<?, ?it/s]3.21it/s]]"
     ]
    },
    {
     "name": "stdout",
     "output_type": "stream",
     "text": [
      "{'Train':  best_epoch_indx:20\n",
      " auc:0.9205682930614132 \n",
      " apur:0.7335793788167073 \n",
      " f1:0.5944662434111921 \n",
      " precision:0.44534719418651597 \n",
      " recall:0.8937161375259507 \n",
      ", 'Validation':  best_epoch_indx:20\n",
      " auc:0.8949648478614435 \n",
      " apur:0.6705943811194701 \n",
      " f1:0.5685386473429952 \n",
      " precision:0.4250564334085779 \n",
      " recall:0.8582497721057429 \n",
      ", 'Test':  best_epoch_indx:20\n",
      " auc:0.8939446995124122 \n",
      " apur:0.6669481041236596 \n",
      " f1:0.5675610345661107 \n",
      " precision:0.42451636232146084 \n",
      " recall:0.8559970834852352 \n",
      "}\n",
      "=====Epoch 21\n",
      "Training...\n"
     ]
    },
    {
     "name": "stderr",
     "output_type": "stream",
     "text": [
      "Iteration: 100%|██████████| 109/109 [00:04<00:00, 22.60it/s]\n",
      "Iteration: 100%|██████████| 44/44 [00:02<00:00, 21.73it/s]s]\n",
      "Iteration:  47%|████▋     | 186/392 [00:14<00:16, 12.85it/s]"
     ]
    },
    {
     "name": "stdout",
     "output_type": "stream",
     "text": [
      "{'Train':  best_epoch_indx:20\n",
      " auc:0.9273960156724311 \n",
      " apur:0.7507193970641249 \n",
      " f1:0.6168698470861814 \n",
      " precision:0.4729974334729164 \n",
      " recall:0.886525900045572 \n",
      ", 'Validation':  best_epoch_indx:20\n",
      " auc:0.8912803902295015 \n",
      " apur:0.6698529302818678 \n",
      " f1:0.5737992659964896 \n",
      " precision:0.44155206286836934 \n",
      " recall:0.8191343963553531 \n",
      ", 'Test':  best_epoch_indx:20\n",
      " auc:0.8905556189527469 \n",
      " apur:0.671167349465416 \n",
      " f1:0.5709026279040244 \n",
      " precision:0.4379199532573766 \n",
      " recall:0.8198723792160437 \n",
      "}\n",
      "=====Epoch 21\n",
      "Training...\n"
     ]
    },
    {
     "name": "stderr",
     "output_type": "stream",
     "text": [
      "Iteration: 100%|██████████| 392/392 [00:30<00:00, 12.89it/s]\n",
      "Iteration:  99%|█████████▉| 388/392 [00:31<00:00, 13.03it/s]"
     ]
    },
    {
     "name": "stdout",
     "output_type": "stream",
     "text": [
      "Evaluating...\n"
     ]
    },
    {
     "name": "stderr",
     "output_type": "stream",
     "text": [
      "Iteration: 100%|██████████| 392/392 [00:31<00:00, 12.46it/s]\n",
      "Iteration:  49%|████▉     | 194/392 [00:15<00:15, 12.91it/s]"
     ]
    },
    {
     "name": "stdout",
     "output_type": "stream",
     "text": [
      "Evaluating...\n"
     ]
    },
    {
     "name": "stderr",
     "output_type": "stream",
     "text": [
      "Iteration: 100%|██████████| 392/392 [00:30<00:00, 12.94it/s]\n",
      "Iteration:  45%|████▌     | 177/392 [00:07<00:09, 22.59it/s]"
     ]
    },
    {
     "name": "stdout",
     "output_type": "stream",
     "text": [
      "Evaluating...\n"
     ]
    },
    {
     "name": "stderr",
     "output_type": "stream",
     "text": [
      "Iteration: 100%|██████████| 392/392 [00:31<00:00, 12.62it/s]\n",
      "Iteration:  77%|███████▋  | 302/392 [00:23<00:07, 12.73it/s]"
     ]
    },
    {
     "name": "stdout",
     "output_type": "stream",
     "text": [
      "Evaluating...\n"
     ]
    },
    {
     "name": "stderr",
     "output_type": "stream",
     "text": [
      "Iteration: 100%|██████████| 392/392 [00:17<00:00, 22.55it/s]\n",
      "Iteration: 100%|██████████| 392/392 [00:18<00:00, 20.95it/s]\n",
      "Iteration: 100%|██████████| 392/392 [00:30<00:00, 12.69it/s]\n",
      "Iteration:  38%|███▊      | 150/392 [00:07<00:11, 21.70it/s]"
     ]
    },
    {
     "name": "stdout",
     "output_type": "stream",
     "text": [
      "Evaluating...\n"
     ]
    },
    {
     "name": "stderr",
     "output_type": "stream",
     "text": [
      "Iteration: 100%|██████████| 109/109 [00:04<00:00, 22.61it/s]\n",
      "Iteration: 100%|██████████| 109/109 [00:04<00:00, 22.77it/s]\n",
      "Iteration: 100%|██████████| 392/392 [00:17<00:00, 22.20it/s]\n",
      "Iteration: 100%|██████████| 44/44 [00:01<00:00, 22.38it/s]s]\n",
      "Iteration:  61%|██████▏   | 27/44 [00:01<00:00, 22.30it/s]s]"
     ]
    },
    {
     "name": "stdout",
     "output_type": "stream",
     "text": [
      "{'Train':  best_epoch_indx:20\n",
      " auc:0.9275157385332384 \n",
      " apur:0.7547074948556011 \n",
      " f1:0.6098815190577116 \n",
      " precision:0.46420543199428765 \n",
      " recall:0.888804496430199 \n",
      ", 'Validation':  best_epoch_indx:20\n",
      " auc:0.8974863462709032 \n",
      " apur:0.683164451143397 \n",
      " f1:0.5788725722406443 \n",
      " precision:0.4428605943464605 \n",
      " recall:0.8354603463992707 \n",
      ", 'Test':  best_epoch_indx:20\n",
      " auc:0.8939170002689937 \n",
      " apur:0.6754103164558659 \n",
      " f1:0.5731447878863721 \n",
      " precision:0.43635670731707316 \n",
      " recall:0.8348523514400291 \n",
      "}\n",
      "=====Epoch 21\n",
      "Training...\n"
     ]
    },
    {
     "name": "stderr",
     "output_type": "stream",
     "text": [
      "Iteration: 100%|██████████| 44/44 [00:01<00:00, 22.58it/s]]]\n",
      "Iteration:   3%|▎         | 12/392 [00:00<00:29, 12.87it/s]]"
     ]
    },
    {
     "name": "stdout",
     "output_type": "stream",
     "text": [
      "{'Train':  best_epoch_indx:21\n",
      " auc:0.9172816770654173 \n",
      " apur:0.7183240057800832 \n",
      " f1:0.613589364844904 \n",
      " precision:0.48286885007701025 \n",
      " recall:0.841359056154742 \n",
      ", 'Validation':  best_epoch_indx:21\n",
      " auc:0.8836083516061247 \n",
      " apur:0.6440129919409446 \n",
      " f1:0.572294226561185 \n",
      " precision:0.4536962903656258 \n",
      " recall:0.7748404740200547 \n",
      ", 'Test':  best_epoch_indx:21\n",
      " auc:0.8837402825346833 \n",
      " apur:0.6437587808946414 \n",
      " f1:0.5703161090213158 \n",
      " precision:0.4469845867383883 \n",
      " recall:0.7876412686839227 \n",
      "}\n",
      "=====Epoch 22\n",
      "Training...\n"
     ]
    },
    {
     "name": "stderr",
     "output_type": "stream",
     "text": [
      "Iteration: 100%|██████████| 109/109 [00:04<00:00, 22.68it/s]\n",
      "Iteration: 100%|██████████| 392/392 [00:18<00:00, 21.61it/s]\n",
      "Iteration: 100%|██████████| 44/44 [00:01<00:00, 22.58it/s]]]\n",
      "Iteration:  63%|██████▎   | 246/392 [00:11<00:06, 22.61it/s]"
     ]
    },
    {
     "name": "stdout",
     "output_type": "stream",
     "text": [
      "{'Train':  best_epoch_indx:21\n",
      " auc:0.9237138403116786 \n",
      " apur:0.7427218223665051 \n",
      " f1:0.5952480478873711 \n",
      " precision:0.4443556842578262 \n",
      " recall:0.9013114588080409 \n",
      ", 'Validation':  best_epoch_indx:21\n",
      " auc:0.8936193803038115 \n",
      " apur:0.6688519653117079 \n",
      " f1:0.5596302921884316 \n",
      " precision:0.41581745680106336 \n",
      " recall:0.8555150410209663 \n",
      ", 'Test':  best_epoch_indx:21\n",
      " auc:0.8915144953825542 \n",
      " apur:0.6653688781328232 \n",
      " f1:0.5637074932290099 \n",
      " precision:0.4207925240363016 \n",
      " recall:0.8536274152387896 \n",
      "}\n",
      "=====Epoch 22\n",
      "Training...\n"
     ]
    },
    {
     "name": "stderr",
     "output_type": "stream",
     "text": [
      "Iteration: 100%|██████████| 109/109 [00:05<00:00, 21.63it/s]\n",
      "Iteration: 100%|██████████| 392/392 [00:17<00:00, 21.80it/s]\n",
      "Iteration: 100%|██████████| 44/44 [00:02<00:00, 20.40it/s]]]\n",
      "Iteration:  19%|█▉        | 21/109 [00:00<00:03, 22.88it/s]]"
     ]
    },
    {
     "name": "stdout",
     "output_type": "stream",
     "text": [
      "{'Train':  best_epoch_indx:21\n",
      " auc:0.919747973142054 \n",
      " apur:0.7262597778946933 \n",
      " f1:0.5867044406377652 \n",
      " precision:0.43478260869565216 \n",
      " recall:0.9018178135601803 \n",
      ", 'Validation':  best_epoch_indx:21\n",
      " auc:0.8943686102037057 \n",
      " apur:0.6656477798778747 \n",
      " f1:0.5616559013505579 \n",
      " precision:0.41424859246427026 \n",
      " recall:0.8719234275296263 \n",
      ", 'Test':  best_epoch_indx:21\n",
      " auc:0.8942858233598964 \n",
      " apur:0.6632631580363888 \n",
      " f1:0.5629350005898313 \n",
      " precision:0.4161144053017091 \n",
      " recall:0.8698505286183011 \n",
      "}\n",
      "=====Epoch 22\n",
      "Training...\n"
     ]
    },
    {
     "name": "stderr",
     "output_type": "stream",
     "text": [
      "Iteration: 100%|██████████| 109/109 [00:04<00:00, 22.63it/s]\n",
      "Iteration: 100%|██████████| 44/44 [00:01<00:00, 22.23it/s]s]\n",
      "Iteration:  21%|██▏       | 84/392 [00:06<00:24, 12.67it/s]]"
     ]
    },
    {
     "name": "stdout",
     "output_type": "stream",
     "text": [
      "{'Train':  best_epoch_indx:21\n",
      " auc:0.9248771954558646 \n",
      " apur:0.7472554499658779 \n",
      " f1:0.6127587544521634 \n",
      " precision:0.47006627891248476 \n",
      " recall:0.8798420173173325 \n",
      ", 'Validation':  best_epoch_indx:21\n",
      " auc:0.8892011525390748 \n",
      " apur:0.6640616208802884 \n",
      " f1:0.576222435282838 \n",
      " precision:0.4437607679054886 \n",
      " recall:0.8214123006833713 \n",
      ", 'Test':  best_epoch_indx:21\n",
      " auc:0.889323996493315 \n",
      " apur:0.6694862466849743 \n",
      " f1:0.5681746282821891 \n",
      " precision:0.43507751937984496 \n",
      " recall:0.8185961713764813 \n",
      "}\n",
      "=====Epoch 22\n",
      "Training...\n"
     ]
    },
    {
     "name": "stderr",
     "output_type": "stream",
     "text": [
      "Iteration: 100%|██████████| 392/392 [00:30<00:00, 12.82it/s]\n",
      "Iteration:  46%|████▌     | 180/392 [00:14<00:16, 12.48it/s]"
     ]
    },
    {
     "name": "stdout",
     "output_type": "stream",
     "text": [
      "Evaluating...\n"
     ]
    },
    {
     "name": "stderr",
     "output_type": "stream",
     "text": [
      "Iteration: 100%|██████████| 392/392 [00:30<00:00, 12.90it/s]\n",
      "Iteration:   0%|          | 0/392 [00:00<?, ?it/s]"
     ]
    },
    {
     "name": "stdout",
     "output_type": "stream",
     "text": [
      "Evaluating...\n"
     ]
    },
    {
     "name": "stderr",
     "output_type": "stream",
     "text": [
      "Iteration: 100%|██████████| 392/392 [00:30<00:00, 12.93it/s]\n",
      "Iteration:  50%|█████     | 196/392 [00:15<00:15, 12.75it/s]"
     ]
    },
    {
     "name": "stdout",
     "output_type": "stream",
     "text": [
      "Evaluating...\n"
     ]
    },
    {
     "name": "stderr",
     "output_type": "stream",
     "text": [
      "Iteration: 100%|██████████| 392/392 [00:30<00:00, 12.80it/s]\n",
      "Iteration:   1%|          | 3/392 [00:00<00:18, 20.83it/s]s]"
     ]
    },
    {
     "name": "stdout",
     "output_type": "stream",
     "text": [
      "Evaluating...\n"
     ]
    },
    {
     "name": "stderr",
     "output_type": "stream",
     "text": [
      "Iteration: 100%|██████████| 392/392 [00:16<00:00, 23.09it/s]\n",
      "Iteration: 100%|██████████| 392/392 [00:17<00:00, 21.79it/s]\n",
      "Iteration: 100%|██████████| 392/392 [00:30<00:00, 12.73it/s]\n",
      "Iteration:  99%|█████████▉| 108/109 [00:04<00:00, 22.94it/s]"
     ]
    },
    {
     "name": "stdout",
     "output_type": "stream",
     "text": [
      "Evaluating...\n"
     ]
    },
    {
     "name": "stderr",
     "output_type": "stream",
     "text": [
      "Iteration: 100%|██████████| 109/109 [00:04<00:00, 23.13it/s]\n",
      "Iteration: 100%|██████████| 109/109 [00:05<00:00, 20.72it/s]\n",
      "Iteration: 100%|██████████| 392/392 [00:17<00:00, 22.87it/s]\n",
      "Iteration: 100%|██████████| 44/44 [00:01<00:00, 22.85it/s]s]\n",
      "Iteration:  16%|█▌        | 63/392 [00:02<00:14, 21.96it/s]]"
     ]
    },
    {
     "name": "stdout",
     "output_type": "stream",
     "text": [
      "{'Train':  best_epoch_indx:22\n",
      " auc:0.9146990034476211 \n",
      " apur:0.7129301490974209 \n",
      " f1:0.5966420044010882 \n",
      " precision:0.4535085870824992 \n",
      " recall:0.8717909767583168 \n",
      ", 'Validation':  best_epoch_indx:22\n",
      " auc:0.8828714760290479 \n",
      " apur:0.6493969255143417 \n",
      " f1:0.5575165458556571 \n",
      " precision:0.4260597302504817 \n",
      " recall:0.8062898814949864 \n",
      ", 'Test':  best_epoch_indx:22\n",
      " auc:0.8812560369224756 \n",
      " apur:0.6389542620708976 \n",
      " f1:0.5544517571091518 \n",
      " precision:0.4204331450094162 \n",
      " recall:0.8138899015676266 \n",
      "}\n",
      "=====Epoch 23\n",
      "Training...\n"
     ]
    },
    {
     "name": "stderr",
     "output_type": "stream",
     "text": [
      "Iteration: 100%|██████████| 44/44 [00:01<00:00, 22.22it/s]]]\n",
      "Iteration:  21%|██▏       | 84/392 [00:03<00:14, 21.66it/s]]"
     ]
    },
    {
     "name": "stdout",
     "output_type": "stream",
     "text": [
      "{'Train':  best_epoch_indx:21\n",
      " auc:0.9246224016990434 \n",
      " apur:0.7484932780900108 \n",
      " f1:0.6066523307436182 \n",
      " precision:0.4613213767638138 \n",
      " recall:0.8856650969669351 \n",
      ", 'Validation':  best_epoch_indx:21\n",
      " auc:0.893766121971775 \n",
      " apur:0.6778430032722784 \n",
      " f1:0.5723231058234188 \n",
      " precision:0.43586075345732 \n",
      " recall:0.8331814038286235 \n",
      ", 'Test':  best_epoch_indx:21\n",
      " auc:0.8919571984545478 \n",
      " apur:0.6737446853243843 \n",
      " f1:0.5698904538341157 \n",
      " precision:0.4339784536180761 \n",
      " recall:0.8297484506015311 \n",
      "}\n",
      "=====Epoch 22\n",
      "Training...\n"
     ]
    },
    {
     "name": "stderr",
     "output_type": "stream",
     "text": [
      "Iteration: 100%|██████████| 109/109 [00:04<00:00, 22.98it/s]\n",
      "Iteration: 100%|██████████| 44/44 [00:02<00:00, 20.48it/s]s]\n",
      "Iteration:  58%|█████▊    | 228/392 [00:10<00:07, 22.34it/s]"
     ]
    },
    {
     "name": "stdout",
     "output_type": "stream",
     "text": [
      "{'Train':  best_epoch_indx:22\n",
      " auc:0.918968859087453 \n",
      " apur:0.72724543373818 \n",
      " f1:0.6070608848007009 \n",
      " precision:0.46412688206612013 \n",
      " recall:0.8772089726062079 \n",
      ", 'Validation':  best_epoch_indx:22\n",
      " auc:0.8908598147229128 \n",
      " apur:0.6613493238302974 \n",
      " f1:0.5706223546010346 \n",
      " precision:0.4348864994026284 \n",
      " recall:0.8295350957155879 \n",
      ", 'Test':  best_epoch_indx:22\n",
      " auc:0.8852639229612274 \n",
      " apur:0.6496081014894692 \n",
      " f1:0.5683557917378377 \n",
      " precision:0.43522914446274585 \n",
      " recall:0.8188115202333212 \n",
      "}\n",
      "=====Epoch 23\n",
      "Training...\n"
     ]
    },
    {
     "name": "stderr",
     "output_type": "stream",
     "text": [
      "Iteration: 100%|██████████| 392/392 [00:17<00:00, 22.51it/s]\n",
      "Iteration: 100%|██████████| 392/392 [00:17<00:00, 22.05it/s]\n",
      "Iteration: 100%|██████████| 109/109 [00:06<00:00, 17.86it/s]\n",
      "Iteration: 100%|██████████| 44/44 [00:02<00:00, 21.92it/s]]]\n",
      "Iteration:  59%|█████▊    | 230/392 [00:17<00:12, 12.61it/s]"
     ]
    },
    {
     "name": "stdout",
     "output_type": "stream",
     "text": [
      "{'Train':  best_epoch_indx:22\n",
      " auc:0.9173041462424945 \n",
      " apur:0.7195666085494654 \n",
      " f1:0.576420060063939 \n",
      " precision:0.42313618584805024 \n",
      " recall:0.9038432325687377 \n",
      ", 'Validation':  best_epoch_indx:22\n",
      " auc:0.8917339512312583 \n",
      " apur:0.6608434143152208 \n",
      " f1:0.548985757444972 \n",
      " precision:0.4010931259196973 \n",
      " recall:0.8696444849589791 \n",
      ", 'Test':  best_epoch_indx:22\n",
      " auc:0.8917593839881389 \n",
      " apur:0.658898573475379 \n",
      " f1:0.5512620574135044 \n",
      " precision:0.4034835545785068 \n",
      " recall:0.8698505286183011 \n",
      "}\n",
      "=====Epoch 23\n",
      "Training...\n"
     ]
    },
    {
     "name": "stderr",
     "output_type": "stream",
     "text": [
      "Iteration: 100%|██████████| 109/109 [00:04<00:00, 22.17it/s]\n",
      "Iteration: 100%|██████████| 44/44 [00:02<00:00, 20.19it/s]s]\n",
      "Iteration:  73%|███████▎  | 288/392 [00:23<00:08, 12.98it/s]"
     ]
    },
    {
     "name": "stdout",
     "output_type": "stream",
     "text": [
      "{'Train':  best_epoch_indx:22\n",
      " auc:0.9250062070586906 \n",
      " apur:0.7436461490076979 \n",
      " f1:0.6025212507847095 \n",
      " precision:0.4530747639704006 \n",
      " recall:0.8990834978986277 \n",
      ", 'Validation':  best_epoch_indx:22\n",
      " auc:0.8920536909430657 \n",
      " apur:0.6646736019295421 \n",
      " f1:0.5688861613992022 \n",
      " precision:0.42886884108258155 \n",
      " recall:0.8446469248291572 \n",
      ", 'Test':  best_epoch_indx:22\n",
      " auc:0.890277215407397 \n",
      " apur:0.6672609672721823 \n",
      " f1:0.5602387623340236 \n",
      " precision:0.4206530686911186 \n",
      " recall:0.8384685505925251 \n",
      "}\n",
      "=====Epoch 23\n",
      "Training...\n"
     ]
    },
    {
     "name": "stderr",
     "output_type": "stream",
     "text": [
      "Iteration: 100%|██████████| 392/392 [00:31<00:00, 12.63it/s]\n",
      "Iteration:  75%|███████▌  | 294/392 [00:23<00:07, 13.24it/s]"
     ]
    },
    {
     "name": "stdout",
     "output_type": "stream",
     "text": [
      "Evaluating...\n"
     ]
    },
    {
     "name": "stderr",
     "output_type": "stream",
     "text": [
      "Iteration: 100%|██████████| 392/392 [00:31<00:00, 12.55it/s]\n",
      "Iteration:  47%|████▋     | 186/392 [00:14<00:15, 13.04it/s]"
     ]
    },
    {
     "name": "stdout",
     "output_type": "stream",
     "text": [
      "Evaluating...\n"
     ]
    },
    {
     "name": "stderr",
     "output_type": "stream",
     "text": [
      "Iteration: 100%|██████████| 392/392 [00:30<00:00, 12.71it/s]\n",
      "Iteration:  69%|██████▉   | 270/392 [00:20<00:09, 13.10it/s]"
     ]
    },
    {
     "name": "stdout",
     "output_type": "stream",
     "text": [
      "Evaluating...\n"
     ]
    },
    {
     "name": "stderr",
     "output_type": "stream",
     "text": [
      "Iteration: 100%|██████████| 392/392 [00:30<00:00, 12.89it/s]\n",
      "Iteration:  57%|█████▋    | 222/392 [00:09<00:07, 22.77it/s]"
     ]
    },
    {
     "name": "stdout",
     "output_type": "stream",
     "text": [
      "Evaluating...\n"
     ]
    },
    {
     "name": "stderr",
     "output_type": "stream",
     "text": [
      "Iteration: 100%|██████████| 392/392 [00:17<00:00, 21.81it/s]\n",
      "Iteration: 100%|██████████| 392/392 [00:17<00:00, 22.44it/s]\n",
      "Iteration: 100%|██████████| 109/109 [00:04<00:00, 22.61it/s]\n",
      "Iteration: 100%|██████████| 392/392 [00:31<00:00, 12.41it/s]\n",
      "Iteration:  96%|█████████▋| 105/109 [00:04<00:00, 22.58it/s]"
     ]
    },
    {
     "name": "stdout",
     "output_type": "stream",
     "text": [
      "Evaluating...\n"
     ]
    },
    {
     "name": "stderr",
     "output_type": "stream",
     "text": [
      "Iteration: 100%|██████████| 392/392 [00:17<00:00, 22.94it/s]\n",
      "Iteration: 100%|██████████| 109/109 [00:04<00:00, 22.44it/s]\n",
      "Iteration: 100%|██████████| 44/44 [00:01<00:00, 22.71it/s]s]\n",
      "Iteration:  17%|█▋        | 18/109 [00:00<00:03, 23.24it/s]]"
     ]
    },
    {
     "name": "stdout",
     "output_type": "stream",
     "text": [
      "{'Train':  best_epoch_indx:23\n",
      " auc:0.9142185361100214 \n",
      " apur:0.7102233699857062 \n",
      " f1:0.5611697605762246 \n",
      " precision:0.403866690397793 \n",
      " recall:0.9191857815585599 \n",
      ", 'Validation':  best_epoch_indx:23\n",
      " auc:0.8830666072093032 \n",
      " apur:0.6422566852496998 \n",
      " f1:0.5339265850945495 \n",
      " precision:0.38415366146458585 \n",
      " recall:0.8751139471285324 \n",
      ", 'Test':  best_epoch_indx:23\n",
      " auc:0.8827971736330315 \n",
      " apur:0.6429054406326384 \n",
      " f1:0.53066842858716 \n",
      " precision:0.3801672451877564 \n",
      " recall:0.8784177907400657 \n",
      "}\n",
      "=====Epoch 24\n",
      "Training...\n"
     ]
    },
    {
     "name": "stderr",
     "output_type": "stream",
     "text": [
      "Iteration: 100%|██████████| 44/44 [00:01<00:00, 22.39it/s]s]\n",
      "Iteration:  33%|███▎      | 36/109 [00:01<00:03, 23.48it/s]]"
     ]
    },
    {
     "name": "stdout",
     "output_type": "stream",
     "text": [
      "{'Train':  best_epoch_indx:22\n",
      " auc:0.9222556501395862 \n",
      " apur:0.7392076503175672 \n",
      " f1:0.6095248166948675 \n",
      " precision:0.46748857706761837 \n",
      " recall:0.8755380019241481 \n",
      ", 'Validation':  best_epoch_indx:22\n",
      " auc:0.8886153132355697 \n",
      " apur:0.6635718613246671 \n",
      " f1:0.571109693877551 \n",
      " precision:0.4391858754291319 \n",
      " recall:0.8163172288058341 \n",
      ", 'Test':  best_epoch_indx:22\n",
      " auc:0.889728466676725 \n",
      " apur:0.6677587604580931 \n",
      " f1:0.573524720893142 \n",
      " precision:0.4411620374914123 \n",
      " recall:0.8193583667517317 \n",
      "}\n",
      "=====Epoch 23\n",
      "Training...\n"
     ]
    },
    {
     "name": "stderr",
     "output_type": "stream",
     "text": [
      "Iteration: 100%|██████████| 109/109 [00:04<00:00, 23.39it/s]\n",
      "Iteration: 100%|██████████| 44/44 [00:02<00:00, 21.52it/s]s]\n",
      "Iteration:  47%|████▋     | 186/392 [00:08<00:09, 22.65it/s]"
     ]
    },
    {
     "name": "stdout",
     "output_type": "stream",
     "text": [
      "{'Train':  best_epoch_indx:23\n",
      " auc:0.9174185305039038 \n",
      " apur:0.7268867508267046 \n",
      " f1:0.6021475289426742 \n",
      " precision:0.4599150482194855 \n",
      " recall:0.871740341283103 \n",
      ", 'Validation':  best_epoch_indx:23\n",
      " auc:0.8892833695712818 \n",
      " apur:0.6609719840752021 \n",
      " f1:0.5719673161533626 \n",
      " precision:0.4364508393285372 \n",
      " recall:0.8295350957155879 \n",
      ", 'Test':  best_epoch_indx:23\n",
      " auc:0.8836051511617152 \n",
      " apur:0.6512590953174285 \n",
      " f1:0.5658671355016953 \n",
      " precision:0.43160919540229886 \n",
      " recall:0.8213634706525702 \n",
      "}\n",
      "=====Epoch 24\n",
      "Training...\n"
     ]
    },
    {
     "name": "stderr",
     "output_type": "stream",
     "text": [
      "Iteration: 100%|██████████| 392/392 [00:17<00:00, 22.15it/s]\n",
      "Iteration: 100%|██████████| 109/109 [00:04<00:00, 22.81it/s]\n",
      "Iteration: 100%|██████████| 392/392 [00:17<00:00, 21.99it/s]\n",
      "Iteration: 100%|██████████| 44/44 [00:02<00:00, 20.67it/s]s]\n",
      "Iteration:   0%|          | 1/392 [00:00<00:45,  8.57it/s]s]"
     ]
    },
    {
     "name": "stdout",
     "output_type": "stream",
     "text": [
      "{'Train':  best_epoch_indx:23\n",
      " auc:0.9133941133148106 \n",
      " apur:0.7087583457383618 \n",
      " f1:0.5869179713228961 \n",
      " precision:0.44032233541128174 \n",
      " recall:0.8798420173173325 \n",
      ", 'Validation':  best_epoch_indx:23\n",
      " auc:0.8887460299415091 \n",
      " apur:0.654033203478337 \n",
      " f1:0.5588810347420665 \n",
      " precision:0.41705948372615037 \n",
      " recall:0.8468550592525068 \n",
      ", 'Test':  best_epoch_indx:23\n",
      " auc:0.8884042147821063 \n",
      " apur:0.6508324624167839 \n",
      " f1:0.5613355915799662 \n",
      " precision:0.4200615607459714 \n",
      " recall:0.8457892818082392 \n",
      "}\n",
      "=====Epoch 24\n",
      "Training...\n"
     ]
    },
    {
     "name": "stderr",
     "output_type": "stream",
     "text": [
      "Iteration: 100%|██████████| 109/109 [00:04<00:00, 22.49it/s]\n",
      "Iteration: 100%|██████████| 44/44 [00:02<00:00, 20.31it/s]s]\n",
      "Iteration:   1%|          | 2/392 [00:00<00:34, 11.45it/s]s]"
     ]
    },
    {
     "name": "stdout",
     "output_type": "stream",
     "text": [
      "{'Train':  best_epoch_indx:23\n",
      " auc:0.9190164139366896 \n",
      " apur:0.729919214542735 \n",
      " f1:0.5975796069006952 \n",
      " precision:0.45203344933257156 \n",
      " recall:0.8813610815737506 \n",
      ", 'Validation':  best_epoch_indx:23\n",
      " auc:0.8887719906669664 \n",
      " apur:0.6617266436602728 \n",
      " f1:0.5679126288263344 \n",
      " precision:0.42870413376683697 \n",
      " recall:0.841002277904328 \n",
      ", 'Test':  best_epoch_indx:23\n",
      " auc:0.8864843065100563 \n",
      " apur:0.6586786250401366 \n",
      " f1:0.5590367366998401 \n",
      " precision:0.42156953581024736 \n",
      " recall:0.8295350957155879 \n",
      "}\n",
      "=====Epoch 24\n",
      "Training...\n"
     ]
    },
    {
     "name": "stderr",
     "output_type": "stream",
     "text": [
      "Iteration: 100%|██████████| 392/392 [00:30<00:00, 12.92it/s]\n",
      "Iteration:  18%|█▊        | 72/392 [00:05<00:25, 12.78it/s]]"
     ]
    },
    {
     "name": "stdout",
     "output_type": "stream",
     "text": [
      "Evaluating...\n"
     ]
    },
    {
     "name": "stderr",
     "output_type": "stream",
     "text": [
      "Iteration: 100%|██████████| 392/392 [00:30<00:00, 12.66it/s]\n",
      "Iteration:  48%|████▊     | 187/392 [00:14<00:15, 13.07it/s]"
     ]
    },
    {
     "name": "stdout",
     "output_type": "stream",
     "text": [
      "Evaluating...\n"
     ]
    },
    {
     "name": "stderr",
     "output_type": "stream",
     "text": [
      "Iteration: 100%|██████████| 392/392 [00:30<00:00, 12.79it/s]\n",
      "Iteration:  66%|██████▌   | 259/392 [00:20<00:10, 12.62it/s]"
     ]
    },
    {
     "name": "stdout",
     "output_type": "stream",
     "text": [
      "Evaluating...\n"
     ]
    },
    {
     "name": "stderr",
     "output_type": "stream",
     "text": [
      "Iteration: 100%|██████████| 392/392 [00:17<00:00, 22.89it/s]\n",
      "Iteration: 100%|██████████| 392/392 [00:30<00:00, 12.74it/s]\n",
      "Iteration:  60%|█████▉    | 234/392 [00:10<00:06, 22.73it/s]"
     ]
    },
    {
     "name": "stdout",
     "output_type": "stream",
     "text": [
      "Evaluating...\n"
     ]
    },
    {
     "name": "stderr",
     "output_type": "stream",
     "text": [
      "Iteration: 100%|██████████| 392/392 [00:18<00:00, 21.46it/s]\n",
      "Iteration: 100%|██████████| 109/109 [00:04<00:00, 23.13it/s]\n",
      "Iteration: 100%|██████████| 392/392 [00:17<00:00, 22.25it/s]\n",
      "Iteration: 100%|██████████| 392/392 [00:30<00:00, 12.67it/s]\n",
      "Iteration:  82%|████████▏ | 36/44 [00:01<00:00, 21.17it/s]"
     ]
    },
    {
     "name": "stdout",
     "output_type": "stream",
     "text": [
      "Evaluating...\n"
     ]
    },
    {
     "name": "stderr",
     "output_type": "stream",
     "text": [
      "Iteration: 100%|██████████| 44/44 [00:02<00:00, 21.25it/s]s]\n",
      "Iteration: 100%|██████████| 109/109 [00:04<00:00, 22.50it/s]\n",
      "Iteration:   3%|▎         | 12/392 [00:00<00:16, 22.36it/s]]"
     ]
    },
    {
     "name": "stdout",
     "output_type": "stream",
     "text": [
      "{'Train':  best_epoch_indx:24\n",
      " auc:0.908356082980275 \n",
      " apur:0.6952911200778171 \n",
      " f1:0.5617442516133074 \n",
      " precision:0.4066674226102733 \n",
      " recall:0.9079953415362804 \n",
      ", 'Validation':  best_epoch_indx:24\n",
      " auc:0.877216090739879 \n",
      " apur:0.6293168418898956 \n",
      " f1:0.5330902972518228 \n",
      " precision:0.38497367355204537 \n",
      " recall:0.8664539653600729 \n",
      ", 'Test':  best_epoch_indx:24\n",
      " auc:0.8745020226878217 \n",
      " apur:0.6243896304446721 \n",
      " f1:0.5245792367938676 \n",
      " precision:0.3772469441559479 \n",
      " recall:0.8607364199781261 \n",
      "}\n",
      "=====Epoch 25\n",
      "Training...\n"
     ]
    },
    {
     "name": "stderr",
     "output_type": "stream",
     "text": [
      "Iteration: 100%|██████████| 44/44 [00:01<00:00, 22.42it/s]s]\n",
      "Iteration:  16%|█▌        | 63/392 [00:03<00:15, 21.02it/s]]"
     ]
    },
    {
     "name": "stdout",
     "output_type": "stream",
     "text": [
      "{'Train':  best_epoch_indx:23\n",
      " auc:0.924080923515622 \n",
      " apur:0.7458899977938653 \n",
      " f1:0.6128712169537175 \n",
      " precision:0.47139313653337694 \n",
      " recall:0.8756899083497899 \n",
      ", 'Validation':  best_epoch_indx:23\n",
      " auc:0.8943606816230183 \n",
      " apur:0.6771977019294184 \n",
      " f1:0.5769168684422922 \n",
      " precision:0.44663834041489625 \n",
      " recall:0.8144940747493163 \n",
      ", 'Test':  best_epoch_indx:23\n",
      " auc:0.8945589476117277 \n",
      " apur:0.6765798649997935 \n",
      " f1:0.5831941410767056 \n",
      " precision:0.45029761904761906 \n",
      " recall:0.8273787823550857 \n",
      "}\n",
      "=====Epoch 24\n",
      "Training...\n"
     ]
    },
    {
     "name": "stderr",
     "output_type": "stream",
     "text": [
      "Iteration: 100%|██████████| 109/109 [00:04<00:00, 23.36it/s]\n",
      "Iteration: 100%|██████████| 44/44 [00:01<00:00, 23.04it/s]s]\n",
      "Iteration:   1%|          | 2/392 [00:00<00:30, 12.61it/s]s]"
     ]
    },
    {
     "name": "stdout",
     "output_type": "stream",
     "text": [
      "{'Train':  best_epoch_indx:24\n",
      " auc:0.9120281295243959 \n",
      " apur:0.7084202576603471 \n",
      " f1:0.5863331814422899 \n",
      " precision:0.4397276225192386 \n",
      " recall:0.8795888399412628 \n",
      ", 'Validation':  best_epoch_indx:24\n",
      " auc:0.8856634900605382 \n",
      " apur:0.6487287706310908 \n",
      " f1:0.5573026912609617 \n",
      " precision:0.4169683257918552 \n",
      " recall:0.8400182315405652 \n",
      ", 'Test':  best_epoch_indx:24\n",
      " auc:0.8803361564082658 \n",
      " apur:0.6301992368145632 \n",
      " f1:0.5531142182676594 \n",
      " precision:0.41404621658359764 \n",
      " recall:0.8328472475391907 \n",
      "}\n",
      "=====Epoch 25\n",
      "Training...\n"
     ]
    },
    {
     "name": "stderr",
     "output_type": "stream",
     "text": [
      "Iteration: 100%|██████████| 392/392 [00:17<00:00, 22.11it/s]\n",
      "Iteration: 100%|██████████| 109/109 [00:04<00:00, 22.59it/s]\n",
      "Iteration: 100%|██████████| 392/392 [00:17<00:00, 21.96it/s]\n",
      "Iteration: 100%|██████████| 44/44 [00:02<00:00, 17.39it/s]s]\n",
      "Iteration:  58%|█████▊    | 228/392 [00:18<00:12, 12.92it/s]"
     ]
    },
    {
     "name": "stdout",
     "output_type": "stream",
     "text": [
      "{'Train':  best_epoch_indx:24\n",
      " auc:0.9085701005822595 \n",
      " apur:0.6995933204112306 \n",
      " f1:0.5920825555594689 \n",
      " precision:0.4538974538974539 \n",
      " recall:0.8512329738214593 \n",
      ", 'Validation':  best_epoch_indx:24\n",
      " auc:0.8869456757982381 \n",
      " apur:0.6564998546633996 \n",
      " f1:0.5625195863365716 \n",
      " precision:0.4286055396370583 \n",
      " recall:0.8181403828623519 \n",
      ", 'Test':  best_epoch_indx:24\n",
      " auc:0.8841901937788563 \n",
      " apur:0.6439763403381327 \n",
      " f1:0.5627809789147091 \n",
      " precision:0.4311632870864461 \n",
      " recall:0.8100619759387532 \n",
      "}\n",
      "=====Epoch 25\n",
      "Training...\n"
     ]
    },
    {
     "name": "stderr",
     "output_type": "stream",
     "text": [
      "Iteration: 100%|██████████| 109/109 [00:05<00:00, 21.48it/s]\n",
      "Iteration: 100%|██████████| 44/44 [00:01<00:00, 22.35it/s]s]\n",
      "Iteration:  78%|███████▊  | 304/392 [00:23<00:06, 12.97it/s]"
     ]
    },
    {
     "name": "stdout",
     "output_type": "stream",
     "text": [
      "{'Train':  best_epoch_indx:24\n",
      " auc:0.9177018105959309 \n",
      " apur:0.7298076769110907 \n",
      " f1:0.5907664423448067 \n",
      " precision:0.4418143481098449 \n",
      " recall:0.8912349992404679 \n",
      ", 'Validation':  best_epoch_indx:24\n",
      " auc:0.8877350661397407 \n",
      " apur:0.6623464303952142 \n",
      " f1:0.562234365513054 \n",
      " precision:0.42157978602321877 \n",
      " recall:0.8437357630979498 \n",
      ", 'Test':  best_epoch_indx:24\n",
      " auc:0.8863108484379006 \n",
      " apur:0.6587874255244196 \n",
      " f1:0.5568250150330728 \n",
      " precision:0.4154329295648273 \n",
      " recall:0.8441203281677302 \n",
      "}\n",
      "=====Epoch 25\n",
      "Training...\n"
     ]
    },
    {
     "name": "stderr",
     "output_type": "stream",
     "text": [
      "Iteration: 100%|██████████| 392/392 [00:31<00:00, 12.62it/s]\n",
      "Iteration:  94%|█████████▍| 368/392 [00:28<00:01, 13.07it/s]"
     ]
    },
    {
     "name": "stdout",
     "output_type": "stream",
     "text": [
      "Evaluating...\n"
     ]
    },
    {
     "name": "stderr",
     "output_type": "stream",
     "text": [
      "Iteration: 100%|██████████| 392/392 [00:30<00:00, 12.85it/s]\n",
      "Iteration:  11%|█▏        | 45/392 [00:01<00:14, 23.21it/s]"
     ]
    },
    {
     "name": "stdout",
     "output_type": "stream",
     "text": [
      "Evaluating...\n"
     ]
    },
    {
     "name": "stderr",
     "output_type": "stream",
     "text": [
      "Iteration: 100%|██████████| 392/392 [00:30<00:00, 12.71it/s]\n",
      "Iteration:  37%|███▋      | 144/392 [00:12<00:34,  7.25it/s]"
     ]
    },
    {
     "name": "stdout",
     "output_type": "stream",
     "text": [
      "Evaluating...\n"
     ]
    },
    {
     "name": "stderr",
     "output_type": "stream",
     "text": [
      "Iteration: 100%|██████████| 392/392 [00:17<00:00, 22.88it/s]\n",
      "Iteration: 100%|██████████| 392/392 [00:30<00:00, 12.85it/s]\n",
      "Iteration:  65%|██████▌   | 255/392 [00:11<00:06, 22.82it/s]"
     ]
    },
    {
     "name": "stdout",
     "output_type": "stream",
     "text": [
      "Evaluating...\n"
     ]
    },
    {
     "name": "stderr",
     "output_type": "stream",
     "text": [
      "Iteration: 100%|██████████| 392/392 [00:17<00:00, 22.09it/s]\n",
      "Iteration: 100%|██████████| 109/109 [00:04<00:00, 23.14it/s]\n",
      "Iteration: 100%|██████████| 392/392 [00:17<00:00, 22.80it/s]\n",
      "Iteration: 100%|██████████| 44/44 [00:01<00:00, 22.92it/s]s]\n",
      "Iteration:   0%|          | 0/392 [00:00<?, ?it/s]22.75it/s]"
     ]
    },
    {
     "name": "stdout",
     "output_type": "stream",
     "text": [
      "{'Train':  best_epoch_indx:25\n",
      " auc:0.9153675827693727 \n",
      " apur:0.7152826470656419 \n",
      " f1:0.5973622963537626 \n",
      " precision:0.45287013801756587 \n",
      " recall:0.8772596080814219 \n",
      ", 'Validation':  best_epoch_indx:25\n",
      " auc:0.884347408591645 \n",
      " apur:0.6503901420505426 \n",
      " f1:0.568263379622406 \n",
      " precision:0.43202846975088965 \n",
      " recall:0.8299908842297175 \n",
      ", 'Test':  best_epoch_indx:25\n",
      " auc:0.8821984881049472 \n",
      " apur:0.6425228357900324 \n",
      " f1:0.555908203125 \n",
      " precision:0.4178748394200771 \n",
      " recall:0.8301130149471382 \n",
      "}\n",
      "=====Epoch 26\n",
      "Training...\n"
     ]
    },
    {
     "name": "stderr",
     "output_type": "stream",
     "text": [
      "Iteration: 100%|██████████| 109/109 [00:04<00:00, 22.67it/s]\n",
      "Iteration: 100%|██████████| 392/392 [00:31<00:00, 12.44it/s]\n",
      "Iteration:  25%|██▌       | 11/44 [00:00<00:01, 20.10it/s]]"
     ]
    },
    {
     "name": "stdout",
     "output_type": "stream",
     "text": [
      "Evaluating...\n"
     ]
    },
    {
     "name": "stderr",
     "output_type": "stream",
     "text": [
      "Iteration: 100%|██████████| 44/44 [00:02<00:00, 20.52it/s]]]\n",
      "Iteration:  11%|█         | 42/392 [00:01<00:15, 22.07it/s]]"
     ]
    },
    {
     "name": "stdout",
     "output_type": "stream",
     "text": [
      "{'Train':  best_epoch_indx:24\n",
      " auc:0.9161167327944283 \n",
      " apur:0.724291118796445 \n",
      " f1:0.5742213919933009 \n",
      " precision:0.4210016765449007 \n",
      " recall:0.902779887589245 \n",
      ", 'Validation':  best_epoch_indx:24\n",
      " auc:0.8873556337599804 \n",
      " apur:0.6583519452068816 \n",
      " f1:0.5483636363636364 \n",
      " precision:0.40269173253578294 \n",
      " recall:0.8591613491340018 \n",
      ", 'Test':  best_epoch_indx:24\n",
      " auc:0.887238197564882 \n",
      " apur:0.6568003953776527 \n",
      " f1:0.5492433061699651 \n",
      " precision:0.4034547631263896 \n",
      " recall:0.8600072912869121 \n",
      "}\n",
      "=====Epoch 25\n",
      "Training...\n"
     ]
    },
    {
     "name": "stderr",
     "output_type": "stream",
     "text": [
      "Iteration: 100%|██████████| 109/109 [00:04<00:00, 22.59it/s]\n",
      "Iteration: 100%|██████████| 44/44 [00:02<00:00, 20.83it/s]s]\n",
      "Iteration:  24%|██▍       | 96/392 [00:07<00:23, 12.65it/s]]"
     ]
    },
    {
     "name": "stdout",
     "output_type": "stream",
     "text": [
      "{'Train':  best_epoch_indx:25\n",
      " auc:0.9242328632545123 \n",
      " apur:0.7415506200301059 \n",
      " f1:0.6159068692793034 \n",
      " precision:0.474504326870413 \n",
      " recall:0.8773608790318497 \n",
      ", 'Validation':  best_epoch_indx:25\n",
      " auc:0.8950003376988072 \n",
      " apur:0.670914378811284 \n",
      " f1:0.5825921219822109 \n",
      " precision:0.447098976109215 \n",
      " recall:0.8359161349134002 \n",
      ", 'Test':  best_epoch_indx:25\n",
      " auc:0.8899712011751538 \n",
      " apur:0.6600251897336149 \n",
      " f1:0.5779390236140284 \n",
      " precision:0.44400977995110025 \n",
      " recall:0.8275610645278891 \n",
      "}\n",
      "=====Epoch 26\n",
      "Training...\n"
     ]
    },
    {
     "name": "stderr",
     "output_type": "stream",
     "text": [
      "Iteration: 100%|██████████| 392/392 [00:17<00:00, 22.57it/s]\n",
      "Iteration: 100%|██████████| 109/109 [00:05<00:00, 21.05it/s]\n",
      "Iteration: 100%|██████████| 44/44 [00:01<00:00, 22.51it/s]s]\n",
      "Iteration: 100%|██████████| 392/392 [00:17<00:00, 22.34it/s]\n"
     ]
    },
    {
     "name": "stdout",
     "output_type": "stream",
     "text": [
      "{'Train':  best_epoch_indx:25\n",
      " auc:0.9149920184986751 \n",
      " apur:0.7171331530287113 \n",
      " f1:0.5918603464116786 \n",
      " precision:0.4456886611146701 \n",
      " recall:0.8807028203959694 \n",
      ", 'Validation':  best_epoch_indx:25\n",
      " auc:0.8885478993246443 \n",
      " apur:0.659084983981413 \n",
      " f1:0.5660725261216965 \n",
      " precision:0.42698191933240615 \n",
      " recall:0.8395624430264357 \n",
      ", 'Test':  best_epoch_indx:25\n",
      " auc:0.8904875599447531 \n",
      " apur:0.6596178021595767 \n",
      " f1:0.5644389944819129 \n",
      " precision:0.42525868440502584 \n",
      " recall:0.8390448414145096 \n",
      "}\n",
      "=====Epoch 26\n",
      "Training...\n"
     ]
    },
    {
     "name": "stderr",
     "output_type": "stream",
     "text": [
      "Iteration: 100%|██████████| 109/109 [00:04<00:00, 22.53it/s]\n",
      "Iteration: 100%|██████████| 44/44 [00:02<00:00, 20.20it/s]s]\n",
      "Iteration:  90%|█████████ | 354/392 [00:27<00:02, 12.67it/s]"
     ]
    },
    {
     "name": "stdout",
     "output_type": "stream",
     "text": [
      "{'Train':  best_epoch_indx:25\n",
      " auc:0.9201695647177155 \n",
      " apur:0.7419318856002982 \n",
      " f1:0.6160040261701056 \n",
      " precision:0.47749881572714353 \n",
      " recall:0.8676895032659881 \n",
      ", 'Validation':  best_epoch_indx:25\n",
      " auc:0.8897431193199163 \n",
      " apur:0.6663931139677817 \n",
      " f1:0.5809910641754671 \n",
      " precision:0.45151515151515154 \n",
      " recall:0.8145785876993167 \n",
      ", 'Test':  best_epoch_indx:25\n",
      " auc:0.8873783635379929 \n",
      " apur:0.6686907447375829 \n",
      " f1:0.5717960259790367 \n",
      " precision:0.4416848797933638 \n",
      " recall:0.8105742935278031 \n",
      "}\n",
      "=====Epoch 26\n",
      "Training...\n"
     ]
    },
    {
     "name": "stderr",
     "output_type": "stream",
     "text": [
      "Iteration: 100%|██████████| 392/392 [00:30<00:00, 12.92it/s]\n",
      "Iteration:   0%|          | 0/392 [00:00<?, ?it/s]"
     ]
    },
    {
     "name": "stdout",
     "output_type": "stream",
     "text": [
      "Evaluating...\n"
     ]
    },
    {
     "name": "stderr",
     "output_type": "stream",
     "text": [
      "Iteration: 100%|██████████| 392/392 [00:30<00:00, 12.80it/s]\n",
      "Iteration:  48%|████▊     | 188/392 [00:14<00:15, 12.97it/s]"
     ]
    },
    {
     "name": "stdout",
     "output_type": "stream",
     "text": [
      "Evaluating...\n"
     ]
    },
    {
     "name": "stderr",
     "output_type": "stream",
     "text": [
      "Iteration: 100%|██████████| 392/392 [00:30<00:00, 12.98it/s]\n",
      "Iteration:  42%|████▏     | 165/392 [00:07<00:10, 22.70it/s]"
     ]
    },
    {
     "name": "stdout",
     "output_type": "stream",
     "text": [
      "Evaluating...\n"
     ]
    },
    {
     "name": "stderr",
     "output_type": "stream",
     "text": [
      "Iteration: 100%|██████████| 392/392 [00:17<00:00, 22.63it/s]\n",
      "Iteration: 100%|██████████| 392/392 [00:30<00:00, 12.72it/s]\n",
      "Iteration:  89%|████████▉ | 348/392 [00:16<00:01, 22.75it/s]"
     ]
    },
    {
     "name": "stdout",
     "output_type": "stream",
     "text": [
      "Evaluating...\n"
     ]
    },
    {
     "name": "stderr",
     "output_type": "stream",
     "text": [
      "Iteration: 100%|██████████| 392/392 [00:18<00:00, 21.77it/s]\n",
      "Iteration: 100%|██████████| 109/109 [00:05<00:00, 19.93it/s]\n",
      "Iteration: 100%|██████████| 392/392 [00:17<00:00, 22.81it/s]\n",
      "Iteration: 100%|██████████| 109/109 [00:04<00:00, 22.62it/s]\n",
      "Iteration: 100%|██████████| 392/392 [00:31<00:00, 12.43it/s]\n",
      "Iteration:  61%|██████    | 66/109 [00:02<00:01, 22.13it/s]"
     ]
    },
    {
     "name": "stdout",
     "output_type": "stream",
     "text": [
      "Evaluating...\n"
     ]
    },
    {
     "name": "stderr",
     "output_type": "stream",
     "text": [
      "Iteration: 100%|██████████| 44/44 [00:02<00:00, 20.69it/s]s]\n",
      "Iteration:  59%|█████▉    | 233/392 [00:10<00:07, 21.53it/s]"
     ]
    },
    {
     "name": "stdout",
     "output_type": "stream",
     "text": [
      "{'Train':  best_epoch_indx:25\n",
      " auc:0.9235121681648892 \n",
      " apur:0.7376574281400466 \n",
      " f1:0.6124749762933306 \n",
      " precision:0.4688281313009114 \n",
      " recall:0.8830320522558104 \n",
      ", 'Validation':  best_epoch_indx:25\n",
      " auc:0.8917518639505895 \n",
      " apur:0.6730855938969552 \n",
      " f1:0.5745119822250436 \n",
      " precision:0.4407109812515218 \n",
      " recall:0.8249772105742935 \n",
      ", 'Test':  best_epoch_indx:25\n",
      " auc:0.8913312544932959 \n",
      " apur:0.6685983206987068 \n",
      " f1:0.5744560075685904 \n",
      " precision:0.4391937506027582 \n",
      " recall:0.8301130149471382 \n",
      "}\n",
      "=====Epoch 26\n",
      "Training...\n"
     ]
    },
    {
     "name": "stderr",
     "output_type": "stream",
     "text": [
      "Iteration: 100%|██████████| 109/109 [00:05<00:00, 19.82it/s]\n",
      "Iteration: 100%|██████████| 392/392 [00:19<00:00, 20.63it/s]\n",
      "Iteration: 100%|██████████| 109/109 [00:05<00:00, 20.58it/s]\n",
      "Iteration: 100%|██████████| 392/392 [00:18<00:00, 21.55it/s]\n",
      "Iteration: 100%|██████████| 109/109 [00:05<00:00, 18.68it/s]\n",
      "Iteration: 100%|██████████| 44/44 [00:02<00:00, 21.49it/s]s]\n",
      "Iteration:   0%|          | 0/392 [00:00<?, ?it/s]12.57it/s]"
     ]
    },
    {
     "name": "stdout",
     "output_type": "stream",
     "text": [
      "{'Train':  best_epoch_indx:26\n",
      " auc:0.9239703116761071 \n",
      " apur:0.7365983671661699 \n",
      " f1:0.6087167070217918 \n",
      " precision:0.46224160121877544 \n",
      " recall:0.8910830928148261 \n",
      ", 'Validation':  best_epoch_indx:26\n",
      " auc:0.8914208981445862 \n",
      " apur:0.6622906587446905 \n",
      " f1:0.5733980886730379 \n",
      " precision:0.43685843876820246 \n",
      " recall:0.8340929808568824 \n",
      ", 'Test':  best_epoch_indx:26\n",
      " auc:0.8891574087099201 \n",
      " apur:0.6591520444173755 \n",
      " f1:0.5633542667159217 \n",
      " precision:0.42534399404983264 \n",
      " recall:0.8339409405760116 \n",
      "}\n",
      "=====Epoch 27\n",
      "Training...\n"
     ]
    },
    {
     "name": "stderr",
     "output_type": "stream",
     "text": [
      "Iteration: 100%|██████████| 392/392 [00:31<00:00, 12.43it/s]\n",
      "Iteration:  12%|█▏        | 48/392 [00:03<00:28, 11.88it/s]"
     ]
    },
    {
     "name": "stdout",
     "output_type": "stream",
     "text": [
      "Evaluating...\n"
     ]
    },
    {
     "name": "stderr",
     "output_type": "stream",
     "text": [
      "Iteration: 100%|██████████| 44/44 [00:02<00:00, 19.32it/s]]\n",
      "Iteration:  22%|██▏       | 88/392 [00:07<00:24, 12.25it/s]"
     ]
    },
    {
     "name": "stdout",
     "output_type": "stream",
     "text": [
      "{'Train':  best_epoch_indx:26\n",
      " auc:0.9323180286664363 \n",
      " apur:0.7643165658373687 \n",
      " f1:0.6322050394722613 \n",
      " precision:0.49080681722777264 \n",
      " recall:0.88804496430199 \n",
      ", 'Validation':  best_epoch_indx:26\n",
      " auc:0.8992336334587784 \n",
      " apur:0.6881586096909701 \n",
      " f1:0.5885943775100401 \n",
      " precision:0.45447779707268665 \n",
      " recall:0.8350045578851413 \n",
      ", 'Test':  best_epoch_indx:26\n",
      " auc:0.8949459829577074 \n",
      " apur:0.6778387489267611 \n",
      " f1:0.5857420609202851 \n",
      " precision:0.45444489139179406 \n",
      " recall:0.8237331388990157 \n",
      "}\n",
      "=====Epoch 27\n",
      "Training...\n"
     ]
    },
    {
     "name": "stderr",
     "output_type": "stream",
     "text": [
      "Iteration: 100%|██████████| 44/44 [00:02<00:00, 19.01it/s]s]\n",
      "Iteration:   0%|          | 1/392 [00:00<00:40,  9.59it/s]s]"
     ]
    },
    {
     "name": "stdout",
     "output_type": "stream",
     "text": [
      "{'Train':  best_epoch_indx:26\n",
      " auc:0.9257703522281524 \n",
      " apur:0.7439126137307217 \n",
      " f1:0.6196649203425895 \n",
      " precision:0.4789651169218862 \n",
      " recall:0.8774115145070637 \n",
      ", 'Validation':  best_epoch_indx:26\n",
      " auc:0.8970050730331353 \n",
      " apur:0.6800279981959034 \n",
      " f1:0.5845564773452457 \n",
      " precision:0.4496809032891507 \n",
      " recall:0.8350045578851413 \n",
      ", 'Test':  best_epoch_indx:26\n",
      " auc:0.8952307355113526 \n",
      " apur:0.6712863185729474 \n",
      " f1:0.5826539128201836 \n",
      " precision:0.44970766029134873 \n",
      " recall:0.8271965001822822 \n",
      "}\n",
      "=====Epoch 27\n",
      "Training...\n"
     ]
    },
    {
     "name": "stderr",
     "output_type": "stream",
     "text": [
      "Iteration: 100%|██████████| 392/392 [00:18<00:00, 20.82it/s]\n",
      "Iteration: 100%|██████████| 109/109 [00:04<00:00, 21.85it/s]\n",
      "Iteration: 100%|██████████| 44/44 [00:02<00:00, 20.98it/s]s]\n",
      "Iteration:  74%|███████▍  | 292/392 [00:23<00:07, 12.74it/s]"
     ]
    },
    {
     "name": "stdout",
     "output_type": "stream",
     "text": [
      "{'Train':  best_epoch_indx:26\n",
      " auc:0.9290569818941008 \n",
      " apur:0.7590768935909333 \n",
      " f1:0.6017310944065895 \n",
      " precision:0.4494772647691461 \n",
      " recall:0.9099701250696238 \n",
      ", 'Validation':  best_epoch_indx:26\n",
      " auc:0.89386307748565 \n",
      " apur:0.6707912876646607 \n",
      " f1:0.5682812735777878 \n",
      " precision:0.42486462093862815 \n",
      " recall:0.8578587699316629 \n",
      ", 'Test':  best_epoch_indx:26\n",
      " auc:0.8920313232097712 \n",
      " apur:0.6750615048961478 \n",
      " f1:0.5596165368484122 \n",
      " precision:0.41677822400713965 \n",
      " recall:0.8514129443938013 \n",
      "}\n",
      "=====Epoch 27\n",
      "Training...\n"
     ]
    },
    {
     "name": "stderr",
     "output_type": "stream",
     "text": [
      "Iteration: 100%|██████████| 392/392 [00:31<00:00, 12.46it/s]\n",
      "Iteration:   1%|          | 3/392 [00:00<00:20, 19.20it/s]s]"
     ]
    },
    {
     "name": "stdout",
     "output_type": "stream",
     "text": [
      "Evaluating...\n"
     ]
    },
    {
     "name": "stderr",
     "output_type": "stream",
     "text": [
      "Iteration: 100%|██████████| 392/392 [00:31<00:00, 12.38it/s]\n",
      "Iteration:  27%|██▋       | 104/392 [00:08<00:23, 12.41it/s]"
     ]
    },
    {
     "name": "stdout",
     "output_type": "stream",
     "text": [
      "Evaluating...\n"
     ]
    },
    {
     "name": "stderr",
     "output_type": "stream",
     "text": [
      "Iteration: 100%|██████████| 392/392 [00:22<00:00, 17.17it/s]\n",
      "Iteration: 100%|██████████| 392/392 [00:34<00:00, 11.53it/s]\n",
      "Iteration:  66%|██████▌   | 259/392 [00:25<00:11, 12.06it/s]"
     ]
    },
    {
     "name": "stdout",
     "output_type": "stream",
     "text": [
      "Evaluating...\n"
     ]
    },
    {
     "name": "stderr",
     "output_type": "stream",
     "text": [
      "Iteration: 100%|██████████| 392/392 [00:21<00:00, 18.33it/s]\n",
      "Iteration: 100%|██████████| 109/109 [00:06<00:00, 17.59it/s]\n",
      "Iteration: 100%|██████████| 109/109 [00:05<00:00, 19.05it/s]\n",
      "Iteration: 100%|██████████| 392/392 [00:38<00:00, 10.13it/s]\n",
      "Iteration:  61%|██████    | 240/392 [00:13<00:07, 19.69it/s]"
     ]
    },
    {
     "name": "stdout",
     "output_type": "stream",
     "text": [
      "Evaluating...\n"
     ]
    },
    {
     "name": "stderr",
     "output_type": "stream",
     "text": [
      "Iteration: 100%|██████████| 44/44 [00:02<00:00, 15.09it/s]]]\n",
      "Iteration:   0%|          | 0/392 [00:00<?, ?it/s]7.67it/s]]"
     ]
    },
    {
     "name": "stdout",
     "output_type": "stream",
     "text": [
      "{'Train':  best_epoch_indx:26\n",
      " auc:0.932606902179718 \n",
      " apur:0.7697902706668575 \n",
      " f1:0.6429534726904922 \n",
      " precision:0.5102113618121823 \n",
      " recall:0.8690566610967644 \n",
      ", 'Validation':  best_epoch_indx:26\n",
      " auc:0.8966958374112388 \n",
      " apur:0.6813020905485584 \n",
      " f1:0.5963599251573396 \n",
      " precision:0.4757123473541384 \n",
      " recall:0.7989972652689152 \n",
      ", 'Test':  best_epoch_indx:26\n",
      " auc:0.8962770107817623 \n",
      " apur:0.6865934290505454 \n",
      " f1:0.5994177780786677 \n",
      " precision:0.4767905223478729 \n",
      " recall:0.8069631790010937 \n",
      "}\n",
      "=====Epoch 27\n",
      "Training...\n"
     ]
    },
    {
     "name": "stderr",
     "output_type": "stream",
     "text": [
      "Iteration: 100%|██████████| 392/392 [00:21<00:00, 18.44it/s]\n",
      "Iteration: 100%|██████████| 109/109 [00:05<00:00, 19.47it/s]\n",
      "Iteration: 100%|██████████| 392/392 [00:19<00:00, 20.35it/s]\n",
      "Iteration: 100%|██████████| 109/109 [00:05<00:00, 21.59it/s]\n",
      "Iteration: 100%|██████████| 44/44 [00:02<00:00, 19.38it/s]s]\n",
      "Iteration:   0%|          | 0/392 [00:00<?, ?it/s]12.40it/s]"
     ]
    },
    {
     "name": "stdout",
     "output_type": "stream",
     "text": [
      "{'Train':  best_epoch_indx:27\n",
      " auc:0.9321253061049595 \n",
      " apur:0.7620753252016311 \n",
      " f1:0.6401202940521274 \n",
      " precision:0.505319616635892 \n",
      " recall:0.8730062281634513 \n",
      ", 'Validation':  best_epoch_indx:27\n",
      " auc:0.8950121676445949 \n",
      " apur:0.6786063044120048 \n",
      " f1:0.5910157559503855 \n",
      " precision:0.4673913043478261 \n",
      " recall:0.8035551504102096 \n",
      ", 'Test':  best_epoch_indx:27\n",
      " auc:0.8949051428002299 \n",
      " apur:0.6769238907040535 \n",
      " f1:0.5910834766503507 \n",
      " precision:0.4638704318936877 \n",
      " recall:0.8144367480860372 \n",
      "}\n",
      "=====Epoch 28\n",
      "Training...\n"
     ]
    },
    {
     "name": "stderr",
     "output_type": "stream",
     "text": [
      "Iteration: 100%|██████████| 44/44 [00:02<00:00, 21.34it/s]s]\n",
      "Iteration:  10%|▉         | 39/392 [00:03<00:28, 12.28it/s]]"
     ]
    },
    {
     "name": "stdout",
     "output_type": "stream",
     "text": [
      "{'Train':  best_epoch_indx:27\n",
      " auc:0.9369343791906528 \n",
      " apur:0.7793823533511011 \n",
      " f1:0.6195611242340214 \n",
      " precision:0.46797507304838 \n",
      " recall:0.9164008304217935 \n",
      ", 'Validation':  best_epoch_indx:27\n",
      " auc:0.9016928149020402 \n",
      " apur:0.6951140106764353 \n",
      " f1:0.5753925903338925 \n",
      " precision:0.4323024054982818 \n",
      " recall:0.8600729261622607 \n",
      ", 'Test':  best_epoch_indx:27\n",
      " auc:0.8999747533922009 \n",
      " apur:0.6876969284171826 \n",
      " f1:0.5794106859029221 \n",
      " precision:0.43589036055923475 \n",
      " recall:0.8638352169157857 \n",
      "}\n",
      "=====Epoch 28\n",
      "Training...\n"
     ]
    },
    {
     "name": "stderr",
     "output_type": "stream",
     "text": [
      "Iteration: 100%|██████████| 392/392 [00:31<00:00, 12.39it/s]\n",
      "Iteration:  10%|█         | 40/392 [00:03<00:28, 12.36it/s]"
     ]
    },
    {
     "name": "stdout",
     "output_type": "stream",
     "text": [
      "Evaluating...\n"
     ]
    },
    {
     "name": "stderr",
     "output_type": "stream",
     "text": [
      "Iteration: 100%|██████████| 44/44 [00:02<00:00, 20.77it/s]s]\n",
      "Iteration:  52%|█████▏    | 202/392 [00:16<00:15, 12.65it/s]"
     ]
    },
    {
     "name": "stdout",
     "output_type": "stream",
     "text": [
      "{'Train':  best_epoch_indx:27\n",
      " auc:0.9338162965612407 \n",
      " apur:0.7693613465104603 \n",
      " f1:0.6275892619828121 \n",
      " precision:0.4827182031292591 \n",
      " recall:0.8967036305635728 \n",
      ", 'Validation':  best_epoch_indx:27\n",
      " auc:0.9007832095314124 \n",
      " apur:0.6927972628540354 \n",
      " f1:0.5832807570977917 \n",
      " precision:0.44597202122527735 \n",
      " recall:0.8427529626253418 \n",
      ", 'Test':  best_epoch_indx:27\n",
      " auc:0.9002031145170049 \n",
      " apur:0.6895437631544542 \n",
      " f1:0.5842241761022202 \n",
      " precision:0.44735057638283443 \n",
      " recall:0.8417790740065622 \n",
      "}\n",
      "=====Epoch 28\n",
      "Training...\n"
     ]
    },
    {
     "name": "stderr",
     "output_type": "stream",
     "text": [
      "Iteration: 100%|██████████| 392/392 [00:19<00:00, 20.30it/s]\n",
      "Iteration: 100%|██████████| 44/44 [00:02<00:00, 18.69it/s]s]\n",
      "Iteration:  33%|███▎      | 130/392 [00:10<00:22, 11.66it/s]"
     ]
    },
    {
     "name": "stdout",
     "output_type": "stream",
     "text": [
      "{'Train':  best_epoch_indx:27\n",
      " auc:0.9387707533605081 \n",
      " apur:0.7848701103564281 \n",
      " f1:0.6358100310696849 \n",
      " precision:0.4895559930008749 \n",
      " recall:0.906678819180718 \n",
      ", 'Validation':  best_epoch_indx:27\n",
      " auc:0.8982689269024192 \n",
      " apur:0.6886753281002645 \n",
      " f1:0.5884806674153698 \n",
      " precision:0.45418524021792966 \n",
      " recall:0.8355353075170843 \n",
      ", 'Test':  best_epoch_indx:27\n",
      " auc:0.9003861448346878 \n",
      " apur:0.6952511663979941 \n",
      " f1:0.5856896661773153 \n",
      " precision:0.45059909644470636 \n",
      " recall:0.8364630811303555 \n",
      "}\n",
      "=====Epoch 28\n",
      "Training...\n"
     ]
    },
    {
     "name": "stderr",
     "output_type": "stream",
     "text": [
      "Iteration: 100%|██████████| 109/109 [00:04<00:00, 22.05it/s]\n",
      "Iteration: 100%|██████████| 392/392 [00:31<00:00, 12.30it/s]\n",
      "Iteration:  91%|█████████ | 356/392 [00:28<00:02, 12.10it/s]"
     ]
    },
    {
     "name": "stdout",
     "output_type": "stream",
     "text": [
      "Evaluating...\n"
     ]
    },
    {
     "name": "stderr",
     "output_type": "stream",
     "text": [
      "Iteration: 100%|██████████| 392/392 [00:31<00:00, 12.36it/s]\n",
      "Iteration:  17%|█▋        | 66/392 [00:02<00:14, 22.25it/s]"
     ]
    },
    {
     "name": "stdout",
     "output_type": "stream",
     "text": [
      "Evaluating...\n"
     ]
    },
    {
     "name": "stderr",
     "output_type": "stream",
     "text": [
      "Iteration: 100%|██████████| 392/392 [00:18<00:00, 21.49it/s]\n",
      "Iteration: 100%|██████████| 392/392 [00:31<00:00, 12.29it/s]\n",
      "Iteration:   0%|          | 0/392 [00:00<?, ?it/s]"
     ]
    },
    {
     "name": "stdout",
     "output_type": "stream",
     "text": [
      "Evaluating...\n"
     ]
    },
    {
     "name": "stderr",
     "output_type": "stream",
     "text": [
      "Iteration: 100%|██████████| 392/392 [00:18<00:00, 21.57it/s]\n",
      "Iteration: 100%|██████████| 109/109 [00:04<00:00, 21.82it/s]\n",
      "Iteration: 100%|██████████| 109/109 [00:04<00:00, 22.09it/s]\n",
      "Iteration: 100%|██████████| 392/392 [00:32<00:00, 12.10it/s]\n",
      "Iteration:   0%|          | 0/392 [00:00<?, ?it/s]"
     ]
    },
    {
     "name": "stdout",
     "output_type": "stream",
     "text": [
      "Evaluating...\n"
     ]
    },
    {
     "name": "stderr",
     "output_type": "stream",
     "text": [
      "Iteration: 100%|██████████| 44/44 [00:02<00:00, 20.70it/s]s]\n",
      "Iteration:  88%|████████▊ | 345/392 [00:16<00:02, 21.16it/s]"
     ]
    },
    {
     "name": "stdout",
     "output_type": "stream",
     "text": [
      "{'Train':  best_epoch_indx:27\n",
      " auc:0.9409971832805701 \n",
      " apur:0.7920422390602901 \n",
      " f1:0.6382082626929598 \n",
      " precision:0.4927795844127212 \n",
      " recall:0.9054129323003697 \n",
      ", 'Validation':  best_epoch_indx:27\n",
      " auc:0.9049816237313747 \n",
      " apur:0.7076954596126105 \n",
      " f1:0.5933676754668383 \n",
      " precision:0.4586859133897461 \n",
      " recall:0.8400182315405652 \n",
      ", 'Test':  best_epoch_indx:27\n",
      " auc:0.9025517725666135 \n",
      " apur:0.6998789137470538 \n",
      " f1:0.5898143985614283 \n",
      " precision:0.4553296975706495 \n",
      " recall:0.8370397375136711 \n",
      "}\n",
      "=====Epoch 28\n",
      "Training...\n"
     ]
    },
    {
     "name": "stderr",
     "output_type": "stream",
     "text": [
      "Iteration: 100%|██████████| 392/392 [00:19<00:00, 20.62it/s]\n",
      "Iteration: 100%|██████████| 109/109 [00:05<00:00, 19.69it/s]\n",
      "Iteration: 100%|██████████| 392/392 [00:19<00:00, 20.59it/s]\n",
      "Iteration: 100%|██████████| 109/109 [00:05<00:00, 19.89it/s]\n",
      "Iteration: 100%|██████████| 44/44 [00:02<00:00, 21.42it/s]s]\n"
     ]
    },
    {
     "name": "stdout",
     "output_type": "stream",
     "text": [
      "{'Train':  best_epoch_indx:28\n",
      " auc:0.9421593713509813 \n",
      " apur:0.7868866867550526 \n",
      " f1:0.6532108746264825 \n",
      " precision:0.5119540229885058 \n",
      " recall:0.9021216264114639 \n",
      ", 'Validation':  best_epoch_indx:28\n",
      " auc:0.9012768790421604 \n",
      " apur:0.6935587908231803 \n",
      " f1:0.5963636363636364 \n",
      " precision:0.4678423236514523 \n",
      " recall:0.8222424794895169 \n",
      ", 'Test':  best_epoch_indx:28\n",
      " auc:0.9000160772071042 \n",
      " apur:0.6888561376530888 \n",
      " f1:0.5914721606467598 \n",
      " precision:0.46041412911084045 \n",
      " recall:0.8268319358366751 \n",
      "}\n",
      "=====Epoch 29\n",
      "Training...\n"
     ]
    },
    {
     "name": "stderr",
     "output_type": "stream",
     "text": [
      "Iteration: 100%|██████████| 44/44 [00:02<00:00, 18.57it/s]]]\n",
      "Iteration:  10%|█         | 40/392 [00:03<00:27, 12.67it/s]]"
     ]
    },
    {
     "name": "stdout",
     "output_type": "stream",
     "text": [
      "{'Train':  best_epoch_indx:28\n",
      " auc:0.9448043386540895 \n",
      " apur:0.8001012672245587 \n",
      " f1:0.6566966014494089 \n",
      " precision:0.516415313225058 \n",
      " recall:0.9016152716593245 \n",
      ", 'Validation':  best_epoch_indx:28\n",
      " auc:0.9071446160532364 \n",
      " apur:0.7085499878409083 \n",
      " f1:0.6028975963121501 \n",
      " precision:0.47190721649484535 \n",
      " recall:0.8345487693710119 \n",
      ", 'Test':  best_epoch_indx:28\n",
      " auc:0.9040894450749161 \n",
      " apur:0.6996388427171379 \n",
      " f1:0.6030004626263962 \n",
      " precision:0.4729911871435977 \n",
      " recall:0.8315712723295662 \n",
      "}\n",
      "=====Epoch 29\n",
      "Training...\n"
     ]
    },
    {
     "name": "stderr",
     "output_type": "stream",
     "text": [
      "Iteration: 100%|██████████| 392/392 [00:31<00:00, 12.37it/s]\n",
      "Iteration:  19%|█▉        | 76/392 [00:06<00:25, 12.45it/s]]"
     ]
    },
    {
     "name": "stdout",
     "output_type": "stream",
     "text": [
      "Evaluating...\n"
     ]
    },
    {
     "name": "stderr",
     "output_type": "stream",
     "text": [
      "Iteration: 100%|██████████| 44/44 [00:02<00:00, 20.35it/s]s]\n",
      "Iteration:  63%|██████▎   | 246/392 [00:11<00:06, 21.66it/s]"
     ]
    },
    {
     "name": "stdout",
     "output_type": "stream",
     "text": [
      "{'Train':  best_epoch_indx:28\n",
      " auc:0.943474753999004 \n",
      " apur:0.7965239633417334 \n",
      " f1:0.6378152147152956 \n",
      " precision:0.48859013390090794 \n",
      " recall:0.9182743430047091 \n",
      ", 'Validation':  best_epoch_indx:28\n",
      " auc:0.907569445347538 \n",
      " apur:0.7083718453757921 \n",
      " f1:0.5921507064364206 \n",
      " precision:0.45162835249042144 \n",
      " recall:0.8596171376481313 \n",
      ", 'Test':  best_epoch_indx:28\n",
      " auc:0.9064854029222627 \n",
      " apur:0.703871682187804 \n",
      " f1:0.5926718710652228 \n",
      " precision:0.45268320830929026 \n",
      " recall:0.8580021873860736 \n",
      "}\n",
      "=====Epoch 29\n",
      "Training...\n"
     ]
    },
    {
     "name": "stderr",
     "output_type": "stream",
     "text": [
      "Iteration: 100%|██████████| 392/392 [00:18<00:00, 21.48it/s]\n",
      "Iteration: 100%|██████████| 392/392 [00:31<00:00, 12.39it/s]\n",
      "Iteration:   1%|          | 3/392 [00:00<00:18, 21.20it/s]]]"
     ]
    },
    {
     "name": "stdout",
     "output_type": "stream",
     "text": [
      "Evaluating...\n"
     ]
    },
    {
     "name": "stderr",
     "output_type": "stream",
     "text": [
      "Iteration: 100%|██████████| 44/44 [00:02<00:00, 20.90it/s]s]\n",
      "Iteration:  38%|███▊      | 148/392 [00:12<00:19, 12.59it/s]"
     ]
    },
    {
     "name": "stdout",
     "output_type": "stream",
     "text": [
      "{'Train':  best_epoch_indx:28\n",
      " auc:0.9474773615887385 \n",
      " apur:0.8050464761593267 \n",
      " f1:0.6538440700005418 \n",
      " precision:0.5081691089775981 \n",
      " recall:0.9166033723226492 \n",
      ", 'Validation':  best_epoch_indx:28\n",
      " auc:0.9038727309020033 \n",
      " apur:0.7057670044944989 \n",
      " f1:0.5960071416977764 \n",
      " precision:0.4629349470499244 \n",
      " recall:0.8364464692482916 \n",
      ", 'Test':  best_epoch_indx:28\n",
      " auc:0.9055292986764008 \n",
      " apur:0.7068022861277303 \n",
      " f1:0.5947099527905322 \n",
      " precision:0.46081379033874525 \n",
      " recall:0.8382862351868733 \n",
      "}\n",
      "=====Epoch 29\n",
      "Training...\n"
     ]
    },
    {
     "name": "stderr",
     "output_type": "stream",
     "text": [
      "Iteration: 100%|██████████| 109/109 [00:05<00:00, 21.32it/s]\n",
      "Iteration: 100%|██████████| 392/392 [00:31<00:00, 12.48it/s]\n",
      "Iteration:  18%|█▊        | 69/392 [00:03<00:14, 22.68it/s]"
     ]
    },
    {
     "name": "stdout",
     "output_type": "stream",
     "text": [
      "Evaluating...\n"
     ]
    },
    {
     "name": "stderr",
     "output_type": "stream",
     "text": [
      "Iteration: 100%|██████████| 392/392 [00:18<00:00, 21.01it/s]\n",
      "Iteration: 100%|██████████| 392/392 [00:17<00:00, 22.34it/s]\n",
      "Iteration: 100%|██████████| 392/392 [00:31<00:00, 12.39it/s]\n",
      "Iteration:  61%|██████    | 240/392 [00:19<00:12, 11.99it/s]"
     ]
    },
    {
     "name": "stdout",
     "output_type": "stream",
     "text": [
      "Evaluating...\n"
     ]
    },
    {
     "name": "stderr",
     "output_type": "stream",
     "text": [
      "Iteration: 100%|██████████| 109/109 [00:05<00:00, 21.45it/s]\n",
      "Iteration: 100%|██████████| 109/109 [00:04<00:00, 22.38it/s]\n",
      "Iteration: 100%|██████████| 392/392 [00:32<00:00, 12.24it/s]\n",
      "Iteration:   0%|          | 0/392 [00:00<?, ?it/s]"
     ]
    },
    {
     "name": "stdout",
     "output_type": "stream",
     "text": [
      "Evaluating...\n"
     ]
    },
    {
     "name": "stderr",
     "output_type": "stream",
     "text": [
      "Iteration: 100%|██████████| 44/44 [00:02<00:00, 20.70it/s]]]\n",
      "Iteration:  91%|█████████ | 357/392 [00:16<00:01, 21.71it/s]"
     ]
    },
    {
     "name": "stdout",
     "output_type": "stream",
     "text": [
      "{'Train':  best_epoch_indx:28\n",
      " auc:0.9501827934544144 \n",
      " apur:0.818090998779857 \n",
      " f1:0.6789180497329581 \n",
      " precision:0.5457987072945522 \n",
      " recall:0.8979188819687073 \n",
      ", 'Validation':  best_epoch_indx:28\n",
      " auc:0.9117412211943967 \n",
      " apur:0.7195190016191528 \n",
      " f1:0.6276762402088772 \n",
      " precision:0.5077442973810194 \n",
      " recall:0.8217866909753874 \n",
      ", 'Test':  best_epoch_indx:28\n",
      " auc:0.9079465698468239 \n",
      " apur:0.7154707110306134 \n",
      " f1:0.6172397161165851 \n",
      " precision:0.4961781322698571 \n",
      " recall:0.8164418519868757 \n",
      "}\n",
      "=====Epoch 29\n",
      "Training...\n"
     ]
    },
    {
     "name": "stderr",
     "output_type": "stream",
     "text": [
      "Iteration: 100%|██████████| 392/392 [00:18<00:00, 21.69it/s]\n",
      "Iteration: 100%|██████████| 109/109 [00:04<00:00, 22.10it/s]\n",
      "Iteration: 100%|██████████| 392/392 [00:18<00:00, 21.51it/s]\n",
      "Iteration: 100%|██████████| 109/109 [00:05<00:00, 19.54it/s]\n",
      "Iteration: 100%|██████████| 44/44 [00:02<00:00, 20.64it/s]s]\n",
      "Iteration:  72%|███████▏  | 282/392 [00:22<00:08, 12.35it/s]"
     ]
    },
    {
     "name": "stdout",
     "output_type": "stream",
     "text": [
      "{'Train':  best_epoch_indx:29\n",
      " auc:0.9472524454867376 \n",
      " apur:0.8022242872203054 \n",
      " f1:0.6557211051641834 \n",
      " precision:0.509970468288567 \n",
      " recall:0.9181224365790673 \n",
      ", 'Validation':  best_epoch_indx:29\n",
      " auc:0.9047025712513019 \n",
      " apur:0.7030065540034803 \n",
      " f1:0.6013802168912258 \n",
      " precision:0.47019527235354575 \n",
      " recall:0.8340929808568824 \n",
      ", 'Test':  best_epoch_indx:29\n",
      " auc:0.9036028145280233 \n",
      " apur:0.6986587178056665 \n",
      " f1:0.5940645161290323 \n",
      " precision:0.4597563411224286 \n",
      " recall:0.8392271235873131 \n",
      "}\n",
      "=====Epoch 30\n",
      "Training...\n"
     ]
    },
    {
     "name": "stderr",
     "output_type": "stream",
     "text": [
      "Iteration: 100%|██████████| 44/44 [00:02<00:00, 19.29it/s]s]\n",
      "Iteration:   6%|▌         | 22/392 [00:01<00:29, 12.56it/s]]"
     ]
    },
    {
     "name": "stdout",
     "output_type": "stream",
     "text": [
      "{'Train':  best_epoch_indx:29\n",
      " auc:0.9506861765120558 \n",
      " apur:0.8169636095675104 \n",
      " f1:0.6738848474595387 \n",
      " precision:0.5358744394618834 \n",
      " recall:0.9076408932097828 \n",
      ", 'Validation':  best_epoch_indx:29\n",
      " auc:0.9106245078721578 \n",
      " apur:0.7174318209002278 \n",
      " f1:0.6127090301003345 \n",
      " precision:0.48388800845219226 \n",
      " recall:0.8350045578851413 \n",
      ", 'Test':  best_epoch_indx:29\n",
      " auc:0.9075306914143557 \n",
      " apur:0.7087662303103625 \n",
      " f1:0.6150630436248399 \n",
      " precision:0.4880684858212948 \n",
      " recall:0.8313889901567627 \n",
      "}\n",
      "=====Epoch 30\n",
      "Training...\n"
     ]
    },
    {
     "name": "stderr",
     "output_type": "stream",
     "text": [
      "Iteration: 100%|██████████| 392/392 [00:31<00:00, 12.38it/s]\n",
      "Iteration:   0%|          | 0/392 [00:00<?, ?it/s]"
     ]
    },
    {
     "name": "stdout",
     "output_type": "stream",
     "text": [
      "Evaluating...\n"
     ]
    },
    {
     "name": "stderr",
     "output_type": "stream",
     "text": [
      "Iteration: 100%|██████████| 44/44 [00:02<00:00, 19.71it/s]s]\n",
      "Iteration:  58%|█████▊    | 226/392 [00:18<00:13, 12.45it/s]"
     ]
    },
    {
     "name": "stdout",
     "output_type": "stream",
     "text": [
      "{'Train':  best_epoch_indx:29\n",
      " auc:0.9478387495450749 \n",
      " apur:0.8069847072990495 \n",
      " f1:0.6589762340036563 \n",
      " precision:0.5156647878458414 \n",
      " recall:0.9126031697807484 \n",
      ", 'Validation':  best_epoch_indx:29\n",
      " auc:0.9103708352403177 \n",
      " apur:0.7167953387676235 \n",
      " f1:0.6074414030486806 \n",
      " precision:0.4742769388277451 \n",
      " recall:0.8445761166818596 \n",
      ", 'Test':  best_epoch_indx:29\n",
      " auc:0.9104528439797627 \n",
      " apur:0.7118081685892175 \n",
      " f1:0.608552847664718 \n",
      " precision:0.4757112046831673 \n",
      " recall:0.8443310244258112 \n",
      "}\n",
      "=====Epoch 30\n",
      "Training...\n"
     ]
    },
    {
     "name": "stderr",
     "output_type": "stream",
     "text": [
      "Iteration: 100%|██████████| 392/392 [00:18<00:00, 20.82it/s]\n",
      "Iteration: 100%|██████████| 392/392 [00:31<00:00, 12.31it/s]\n",
      "Iteration:  93%|█████████▎| 41/44 [00:01<00:00, 21.54it/s]]]"
     ]
    },
    {
     "name": "stdout",
     "output_type": "stream",
     "text": [
      "Evaluating...\n"
     ]
    },
    {
     "name": "stderr",
     "output_type": "stream",
     "text": [
      "Iteration: 100%|██████████| 44/44 [00:02<00:00, 21.07it/s]s]\n",
      "Iteration:   3%|▎         | 12/392 [00:00<00:16, 22.38it/s]]"
     ]
    },
    {
     "name": "stdout",
     "output_type": "stream",
     "text": [
      "{'Train':  best_epoch_indx:29\n",
      " auc:0.9536391764820816 \n",
      " apur:0.8231184138763635 \n",
      " f1:0.6752249327520639 \n",
      " precision:0.5328200023421946 \n",
      " recall:0.9215150134184009 \n",
      ", 'Validation':  best_epoch_indx:29\n",
      " auc:0.9072773424002202 \n",
      " apur:0.7179156534194295 \n",
      " f1:0.6082903279507242 \n",
      " precision:0.4792759706190976 \n",
      " recall:0.8323462414578587 \n",
      ", 'Test':  best_epoch_indx:29\n",
      " auc:0.9094279585641923 \n",
      " apur:0.719653662251443 \n",
      " f1:0.6106412732236798 \n",
      " precision:0.48101133025597986 \n",
      " recall:0.8359161349134002 \n",
      "}\n",
      "=====Epoch 30\n",
      "Training...\n"
     ]
    },
    {
     "name": "stderr",
     "output_type": "stream",
     "text": [
      "Iteration: 100%|██████████| 392/392 [00:31<00:00, 12.43it/s]\n",
      "Iteration:  91%|█████████ | 99/109 [00:04<00:00, 20.25it/s]]"
     ]
    },
    {
     "name": "stdout",
     "output_type": "stream",
     "text": [
      "Evaluating...\n"
     ]
    },
    {
     "name": "stderr",
     "output_type": "stream",
     "text": [
      "Iteration: 100%|██████████| 109/109 [00:05<00:00, 21.30it/s]\n",
      "Iteration: 100%|██████████| 392/392 [00:18<00:00, 20.90it/s]\n",
      "Iteration: 100%|██████████| 392/392 [00:31<00:00, 12.35it/s]\n",
      "Iteration:   1%|          | 3/392 [00:00<00:18, 20.67it/s]s]"
     ]
    },
    {
     "name": "stdout",
     "output_type": "stream",
     "text": [
      "Evaluating...\n"
     ]
    },
    {
     "name": "stderr",
     "output_type": "stream",
     "text": [
      "Iteration: 100%|██████████| 392/392 [00:19<00:00, 19.85it/s]\n",
      "Iteration: 100%|██████████| 109/109 [00:04<00:00, 22.51it/s]\n",
      "Iteration: 100%|██████████| 109/109 [00:04<00:00, 22.23it/s]\n",
      "Iteration: 100%|██████████| 44/44 [00:02<00:00, 20.50it/s]s]\n",
      "Iteration:  43%|████▎     | 168/392 [00:07<00:10, 21.32it/s]"
     ]
    },
    {
     "name": "stdout",
     "output_type": "stream",
     "text": [
      "{'Train':  best_epoch_indx:30\n",
      " auc:0.9464757966382553 \n",
      " apur:0.8008358255790167 \n",
      " f1:0.6576924478123064 \n",
      " precision:0.513613474067541 \n",
      " recall:0.9141222340371664 \n",
      ", 'Validation':  best_epoch_indx:30\n",
      " auc:0.9018936093542151 \n",
      " apur:0.6978658160554372 \n",
      " f1:0.5980633513868373 \n",
      " precision:0.46729930751474735 \n",
      " recall:0.8304466727438469 \n",
      ", 'Test':  best_epoch_indx:30\n",
      " auc:0.9024971650961049 \n",
      " apur:0.6967456169727022 \n",
      " f1:0.5901383745858507 \n",
      " precision:0.4584637125264964 \n",
      " recall:0.8279256288734962 \n",
      "}\n",
      "=====Epoch 31\n",
      "Training...\n"
     ]
    },
    {
     "name": "stderr",
     "output_type": "stream",
     "text": [
      "Iteration: 100%|██████████| 44/44 [00:02<00:00, 21.79it/s]]]\n",
      "Iteration:  92%|█████████▏| 359/392 [00:29<00:02, 12.30it/s]"
     ]
    },
    {
     "name": "stdout",
     "output_type": "stream",
     "text": [
      "{'Train':  best_epoch_indx:30\n",
      " auc:0.9510057296349445 \n",
      " apur:0.8171590677105443 \n",
      " f1:0.6779231583724096 \n",
      " precision:0.5409638190651498 \n",
      " recall:0.9077421641602107 \n",
      ", 'Validation':  best_epoch_indx:30\n",
      " auc:0.9098956447760931 \n",
      " apur:0.7147266288711207 \n",
      " f1:0.6130383777442601 \n",
      " precision:0.4847601378213623 \n",
      " recall:0.8336371923427529 \n",
      ", 'Test':  best_epoch_indx:30\n",
      " auc:0.9066463520604826 \n",
      " apur:0.7084402570380495 \n",
      " f1:0.614874017881333 \n",
      " precision:0.4892218150463462 \n",
      " recall:0.8273787823550857 \n",
      "}\n",
      "=====Epoch 31\n",
      "Training...\n"
     ]
    },
    {
     "name": "stderr",
     "output_type": "stream",
     "text": [
      "Iteration: 100%|██████████| 392/392 [00:32<00:00, 12.18it/s]\n",
      "Iteration:  16%|█▌        | 63/392 [00:05<00:26, 12.56it/s]]"
     ]
    },
    {
     "name": "stdout",
     "output_type": "stream",
     "text": [
      "Evaluating...\n"
     ]
    },
    {
     "name": "stderr",
     "output_type": "stream",
     "text": [
      "Iteration: 100%|██████████| 44/44 [00:02<00:00, 19.10it/s]s]\n",
      "Iteration:  90%|█████████ | 353/392 [00:17<00:01, 21.92it/s]"
     ]
    },
    {
     "name": "stdout",
     "output_type": "stream",
     "text": [
      "{'Train':  best_epoch_indx:29\n",
      " auc:0.9548955903704912 \n",
      " apur:0.8310896229348343 \n",
      " f1:0.6884321920171772 \n",
      " precision:0.5539444050226761 \n",
      " recall:0.9091599574662008 \n",
      ", 'Validation':  best_epoch_indx:29\n",
      " auc:0.9142261600373526 \n",
      " apur:0.7289788792063038 \n",
      " f1:0.6298361798536075 \n",
      " precision:0.5098758465011287 \n",
      " recall:0.8236098450319052 \n",
      ", 'Test':  best_epoch_indx:29\n",
      " auc:0.9112514174519475 \n",
      " apur:0.7216432169460829 \n",
      " f1:0.6255336730477895 \n",
      " precision:0.50265604249668 \n",
      " recall:0.8279256288734962 \n",
      "}\n",
      "=====Epoch 30\n",
      "Training...\n"
     ]
    },
    {
     "name": "stderr",
     "output_type": "stream",
     "text": [
      "Iteration: 100%|██████████| 392/392 [00:19<00:00, 20.50it/s]\n",
      "Iteration: 100%|██████████| 109/109 [00:05<00:00, 20.65it/s]\n",
      "Iteration: 100%|██████████| 44/44 [00:02<00:00, 21.51it/s]s]\n",
      "Iteration:  65%|██████▍   | 253/392 [00:20<00:11, 12.63it/s]"
     ]
    },
    {
     "name": "stdout",
     "output_type": "stream",
     "text": [
      "{'Train':  best_epoch_indx:30\n",
      " auc:0.9483185350957635 \n",
      " apur:0.8068359337472756 \n",
      " f1:0.6582899061245983 \n",
      " precision:0.5131638546031027 \n",
      " recall:0.9178692592029977 \n",
      ", 'Validation':  best_epoch_indx:30\n",
      " auc:0.9092500108021669 \n",
      " apur:0.7116657036060926 \n",
      " f1:0.5977048650395991 \n",
      " precision:0.4630603556223391 \n",
      " recall:0.8427529626253418 \n",
      ", 'Test':  best_epoch_indx:30\n",
      " auc:0.9087533927646108 \n",
      " apur:0.7095193722799068 \n",
      " f1:0.603945569373006 \n",
      " precision:0.4697660285627469 \n",
      " recall:0.8454247174626321 \n",
      "}\n",
      "=====Epoch 31\n",
      "Training...\n"
     ]
    },
    {
     "name": "stderr",
     "output_type": "stream",
     "text": [
      "Iteration: 100%|██████████| 392/392 [00:19<00:00, 20.59it/s]\n",
      "Iteration: 100%|██████████| 109/109 [00:05<00:00, 20.51it/s]\n",
      "Iteration: 100%|██████████| 392/392 [00:31<00:00, 12.44it/s]\n",
      "Iteration:  70%|██████▉   | 274/392 [00:22<00:10, 11.60it/s]"
     ]
    },
    {
     "name": "stdout",
     "output_type": "stream",
     "text": [
      "Evaluating...\n"
     ]
    },
    {
     "name": "stderr",
     "output_type": "stream",
     "text": [
      "Iteration:  40%|███▉      | 156/392 [00:12<00:19, 12.39it/s]\n",
      "Iteration:  10%|▉         | 39/392 [00:01<00:15, 22.35it/s]]"
     ]
    },
    {
     "name": "stdout",
     "output_type": "stream",
     "text": [
      "{'Train':  best_epoch_indx:30\n",
      " auc:0.9543658543828903 \n",
      " apur:0.8253784497529046 \n",
      " f1:0.6874046383887701 \n",
      " precision:0.5513875715203622 \n",
      " recall:0.9125018988303205 \n",
      ", 'Validation':  best_epoch_indx:30\n",
      " auc:0.9068007940794616 \n",
      " apur:0.7142889929690384 \n",
      " f1:0.6127147766323024 \n",
      " precision:0.49186206896551726 \n",
      " recall:0.8123006833712985 \n",
      ", 'Test':  best_epoch_indx:30\n",
      " auc:0.9078312018451715 \n",
      " apur:0.7159271488968197 \n",
      " f1:0.6117969821673526 \n",
      " precision:0.49037932930181416 \n",
      " recall:0.813126709206928 \n",
      "}\n",
      "=====Epoch 31\n",
      "Training...\n"
     ]
    },
    {
     "name": "stderr",
     "output_type": "stream",
     "text": [
      "Iteration: 100%|██████████| 392/392 [00:31<00:00, 12.50it/s]\n",
      "Iteration:  77%|███████▋  | 300/392 [00:24<00:07, 12.45it/s]"
     ]
    },
    {
     "name": "stdout",
     "output_type": "stream",
     "text": [
      "Evaluating...\n"
     ]
    },
    {
     "name": "stderr",
     "output_type": "stream",
     "text": [
      "Iteration: 100%|██████████| 392/392 [00:31<00:00, 12.34it/s]\n",
      "Iteration:  25%|██▌       | 98/392 [00:07<00:23, 12.53it/s]]"
     ]
    },
    {
     "name": "stdout",
     "output_type": "stream",
     "text": [
      "Evaluating...\n"
     ]
    },
    {
     "name": "stderr",
     "output_type": "stream",
     "text": [
      "Iteration: 100%|██████████| 392/392 [00:18<00:00, 21.56it/s]\n",
      "Iteration: 100%|██████████| 392/392 [00:17<00:00, 22.15it/s]\n",
      "Iteration: 100%|██████████| 392/392 [00:31<00:00, 12.39it/s]\n",
      "Iteration:  22%|██▏       | 24/109 [00:01<00:03, 22.27it/s]]"
     ]
    },
    {
     "name": "stdout",
     "output_type": "stream",
     "text": [
      "Evaluating...\n"
     ]
    },
    {
     "name": "stderr",
     "output_type": "stream",
     "text": [
      "Iteration: 100%|██████████| 109/109 [00:04<00:00, 22.31it/s]\n",
      "Iteration: 100%|██████████| 109/109 [00:04<00:00, 22.46it/s]\n",
      "Iteration: 100%|██████████| 44/44 [00:01<00:00, 22.04it/s]s]\n",
      "Iteration:  34%|███▍      | 15/44 [00:00<00:01, 22.36it/s]s]"
     ]
    },
    {
     "name": "stdout",
     "output_type": "stream",
     "text": [
      "{'Train':  best_epoch_indx:31\n",
      " auc:0.9472665369635548 \n",
      " apur:0.8011609640818369 \n",
      " f1:0.6421501261198573 \n",
      " precision:0.4891085435658257 \n",
      " recall:0.9345789660235961 \n",
      ", 'Validation':  best_epoch_indx:31\n",
      " auc:0.9048039647937457 \n",
      " apur:0.6989517698779233 \n",
      " f1:0.5890261059871814 \n",
      " precision:0.44825124910778014 \n",
      " recall:0.8587055606198724 \n",
      ", 'Test':  best_epoch_indx:31\n",
      " auc:0.9040713488397564 \n",
      " apur:0.6976365153708304 \n",
      " f1:0.5828860509593435 \n",
      " precision:0.4405483540054089 \n",
      " recall:0.8611009843237332 \n",
      "}\n",
      "=====Epoch 32\n",
      "Training...\n"
     ]
    },
    {
     "name": "stderr",
     "output_type": "stream",
     "text": [
      "Iteration: 100%|██████████| 392/392 [00:18<00:00, 21.01it/s]\n",
      "Iteration: 100%|██████████| 44/44 [00:01<00:00, 22.28it/s]s]\n",
      "Iteration:  84%|████████▍ | 330/392 [00:26<00:05, 11.97it/s]"
     ]
    },
    {
     "name": "stdout",
     "output_type": "stream",
     "text": [
      "{'Train':  best_epoch_indx:31\n",
      " auc:0.9488225381420001 \n",
      " apur:0.812025435333027 \n",
      " f1:0.6678814473243837 \n",
      " precision:0.5277230922927747 \n",
      " recall:0.9094131348422705 \n",
      ", 'Validation':  best_epoch_indx:31\n",
      " auc:0.906769728427234 \n",
      " apur:0.7095875445418269 \n",
      " f1:0.6018457481872116 \n",
      " precision:0.47134744450180693 \n",
      " recall:0.8322698268003647 \n",
      ", 'Test':  best_epoch_indx:31\n",
      " auc:0.9043267763430962 \n",
      " apur:0.7042975693448664 \n",
      " f1:0.6058579644242343 \n",
      " precision:0.4784537389100127 \n",
      " recall:0.8257382427998542 \n",
      "}\n",
      "=====Epoch 32\n",
      "Training...\n"
     ]
    },
    {
     "name": "stderr",
     "output_type": "stream",
     "text": [
      "Iteration: 100%|██████████| 392/392 [00:31<00:00, 12.27it/s]\n",
      "Iteration:  21%|██▏       | 84/392 [00:06<00:24, 12.71it/s]"
     ]
    },
    {
     "name": "stdout",
     "output_type": "stream",
     "text": [
      "Evaluating...\n"
     ]
    },
    {
     "name": "stderr",
     "output_type": "stream",
     "text": [
      "Iteration: 100%|██████████| 109/109 [00:05<00:00, 21.38it/s]\n",
      "Iteration: 100%|██████████| 392/392 [00:18<00:00, 21.07it/s]\n",
      "Iteration: 100%|██████████| 109/109 [00:04<00:00, 21.87it/s]\n",
      "Iteration: 100%|██████████| 44/44 [00:02<00:00, 21.81it/s]s]\n",
      "Iteration:   0%|          | 1/392 [00:00<00:52,  7.51it/s]s]"
     ]
    },
    {
     "name": "stdout",
     "output_type": "stream",
     "text": [
      "{'Train':  best_epoch_indx:31\n",
      " auc:0.9463002030547085 \n",
      " apur:0.804338816284515 \n",
      " f1:0.6533273137697517 \n",
      " precision:0.5077471509571662 \n",
      " recall:0.9159451111448681 \n",
      ", 'Validation':  best_epoch_indx:31\n",
      " auc:0.9071074901595406 \n",
      " apur:0.7086225658150854 \n",
      " f1:0.5986810358693904 \n",
      " precision:0.4625901068854089 \n",
      " recall:0.8482224247948952 \n",
      ", 'Test':  best_epoch_indx:31\n",
      " auc:0.9075798510216574 \n",
      " apur:0.7073180431442612 \n",
      " f1:0.6004940197607904 \n",
      " precision:0.4666599312992524 \n",
      " recall:0.8419613561793656 \n",
      "}\n",
      "=====Epoch 32\n",
      "Training...\n"
     ]
    },
    {
     "name": "stderr",
     "output_type": "stream",
     "text": [
      "Iteration: 100%|██████████| 392/392 [00:18<00:00, 20.64it/s]\n",
      "Iteration: 100%|██████████| 392/392 [00:31<00:00, 12.48it/s]\n",
      "Iteration:  33%|███▎      | 130/392 [00:10<00:21, 12.45it/s]"
     ]
    },
    {
     "name": "stdout",
     "output_type": "stream",
     "text": [
      "Evaluating...\n"
     ]
    },
    {
     "name": "stderr",
     "output_type": "stream",
     "text": [
      "Iteration: 100%|██████████| 109/109 [00:05<00:00, 20.66it/s]\n",
      "Iteration: 100%|██████████| 392/392 [00:31<00:00, 12.46it/s]\n",
      "Iteration:   0%|          | 0/392 [00:00<?, ?it/s]"
     ]
    },
    {
     "name": "stdout",
     "output_type": "stream",
     "text": [
      "Evaluating...\n"
     ]
    },
    {
     "name": "stderr",
     "output_type": "stream",
     "text": [
      "Iteration: 100%|██████████| 44/44 [00:02<00:00, 20.83it/s]]]\n",
      "Iteration:  44%|████▍     | 174/392 [00:14<00:17, 12.62it/s]"
     ]
    },
    {
     "name": "stdout",
     "output_type": "stream",
     "text": [
      "{'Train':  best_epoch_indx:31\n",
      " auc:0.9505819691660171 \n",
      " apur:0.8166561279059611 \n",
      " f1:0.7048148148148148 \n",
      " precision:0.59363626910679 \n",
      " recall:0.8672337839890627 \n",
      ", 'Validation':  best_epoch_indx:31\n",
      " auc:0.9030151200512613 \n",
      " apur:0.7080529139768907 \n",
      " f1:0.6265775798069784 \n",
      " precision:0.5286564359536486 \n",
      " recall:0.7690205011389522 \n",
      ", 'Test':  best_epoch_indx:31\n",
      " auc:0.9035038960184626 \n",
      " apur:0.7077876010657299 \n",
      " f1:0.6229581561870664 \n",
      " precision:0.5271396112092905 \n",
      " recall:0.7613491340018231 \n",
      "}\n",
      "=====Epoch 32\n",
      "Training...\n"
     ]
    },
    {
     "name": "stderr",
     "output_type": "stream",
     "text": [
      "Iteration: 100%|██████████| 44/44 [00:02<00:00, 18.32it/s]s]\n",
      "Iteration:  70%|███████   | 276/392 [00:22<00:09, 12.23it/s]"
     ]
    },
    {
     "name": "stdout",
     "output_type": "stream",
     "text": [
      "{'Train':  best_epoch_indx:30\n",
      " auc:0.9561426476156074 \n",
      " apur:0.8351731920792167 \n",
      " f1:0.6858698117486958 \n",
      " precision:0.5471817606079797 \n",
      " recall:0.9187300622816346 \n",
      ", 'Validation':  best_epoch_indx:30\n",
      " auc:0.9141055113703818 \n",
      " apur:0.7319859598623127 \n",
      " f1:0.6255566974991434 \n",
      " precision:0.5010976948408342 \n",
      " recall:0.8322698268003647 \n",
      ", 'Test':  best_epoch_indx:30\n",
      " auc:0.9115179145254999 \n",
      " apur:0.7244463724056354 \n",
      " f1:0.619586580820061 \n",
      " precision:0.4931492070342 \n",
      " recall:0.8332118118847976 \n",
      "}\n",
      "=====Epoch 31\n",
      "Training...\n"
     ]
    },
    {
     "name": "stderr",
     "output_type": "stream",
     "text": [
      "Iteration: 100%|██████████| 392/392 [00:18<00:00, 21.03it/s]\n",
      "Iteration: 100%|██████████| 392/392 [00:18<00:00, 21.31it/s]\n",
      "Iteration: 100%|██████████| 392/392 [00:31<00:00, 12.37it/s]\n",
      "Iteration:  30%|██▉       | 116/392 [00:09<00:22, 12.02it/s]"
     ]
    },
    {
     "name": "stdout",
     "output_type": "stream",
     "text": [
      "Evaluating...\n"
     ]
    },
    {
     "name": "stderr",
     "output_type": "stream",
     "text": [
      "Iteration: 100%|██████████| 109/109 [00:04<00:00, 21.81it/s]\n",
      "Iteration: 100%|██████████| 109/109 [00:04<00:00, 22.46it/s]\n",
      "Iteration: 100%|██████████| 44/44 [00:02<00:00, 21.78it/s]s]\n",
      "Iteration:  34%|███▎      | 132/392 [00:06<00:13, 19.18it/s]"
     ]
    },
    {
     "name": "stdout",
     "output_type": "stream",
     "text": [
      "{'Train':  best_epoch_indx:32\n",
      " auc:0.9438247333046953 \n",
      " apur:0.793237017316551 \n",
      " f1:0.6593891318852397 \n",
      " precision:0.5200397579442804 \n",
      " recall:0.9007544685806876 \n",
      ", 'Validation':  best_epoch_indx:32\n",
      " auc:0.8999135616904406 \n",
      " apur:0.6921659085968379 \n",
      " f1:0.6032764735686539 \n",
      " precision:0.47920579554601556 \n",
      " recall:0.8140382862351869 \n",
      ", 'Test':  best_epoch_indx:32\n",
      " auc:0.8986520682986335 \n",
      " apur:0.6897275165408445 \n",
      " f1:0.5904572564612325 \n",
      " precision:0.4638692211578509 \n",
      " recall:0.8120670798395917 \n",
      "}\n",
      "=====Epoch 33\n",
      "Training...\n"
     ]
    },
    {
     "name": "stderr",
     "output_type": "stream",
     "text": [
      "Iteration: 100%|██████████| 44/44 [00:01<00:00, 22.57it/s]s]\n",
      "Iteration:  54%|█████▎    | 210/392 [00:17<00:14, 12.41it/s]"
     ]
    },
    {
     "name": "stdout",
     "output_type": "stream",
     "text": [
      "{'Train':  best_epoch_indx:32\n",
      " auc:0.9414971601745171 \n",
      " apur:0.7871669859687078 \n",
      " f1:0.6442943374532912 \n",
      " precision:0.4992899902547682 \n",
      " recall:0.9079953415362804 \n",
      ", 'Validation':  best_epoch_indx:32\n",
      " auc:0.9029153684839337 \n",
      " apur:0.6912204088061771 \n",
      " f1:0.5944730077120822 \n",
      " precision:0.45905707196029777 \n",
      " recall:0.8432087511394712 \n",
      ", 'Test':  best_epoch_indx:32\n",
      " auc:0.9016974135529532 \n",
      " apur:0.6895585892818373 \n",
      " f1:0.5937640053780652 \n",
      " precision:0.4576137372939899 \n",
      " recall:0.8452424352898287 \n",
      "}\n",
      "=====Epoch 33\n",
      "Training...\n"
     ]
    },
    {
     "name": "stderr",
     "output_type": "stream",
     "text": [
      "Iteration: 100%|██████████| 392/392 [00:32<00:00, 12.14it/s]\n",
      "Iteration:  77%|███████▋  | 302/392 [00:24<00:07, 12.67it/s]"
     ]
    },
    {
     "name": "stdout",
     "output_type": "stream",
     "text": [
      "Evaluating...\n"
     ]
    },
    {
     "name": "stderr",
     "output_type": "stream",
     "text": [
      "Iteration: 100%|██████████| 392/392 [00:19<00:00, 20.26it/s]\n",
      "Iteration: 100%|██████████| 392/392 [00:31<00:00, 12.37it/s]\n",
      "Iteration:  36%|███▌      | 39/109 [00:01<00:03, 19.91it/s]]"
     ]
    },
    {
     "name": "stdout",
     "output_type": "stream",
     "text": [
      "Evaluating...\n"
     ]
    },
    {
     "name": "stderr",
     "output_type": "stream",
     "text": [
      "Iteration: 100%|██████████| 109/109 [00:05<00:00, 19.86it/s]\n",
      "Iteration: 100%|██████████| 44/44 [00:02<00:00, 20.94it/s]s]\n",
      "Iteration:  68%|██████▊   | 266/392 [00:21<00:10, 12.49it/s]"
     ]
    },
    {
     "name": "stdout",
     "output_type": "stream",
     "text": [
      "{'Train':  best_epoch_indx:32\n",
      " auc:0.9427144590293955 \n",
      " apur:0.7939954467015755 \n",
      " f1:0.6387724181670835 \n",
      " precision:0.48980088077162076 \n",
      " recall:0.9179705301534254 \n",
      ", 'Validation':  best_epoch_indx:32\n",
      " auc:0.90534168197498 \n",
      " apur:0.7015774565492526 \n",
      " f1:0.5866036249014973 \n",
      " precision:0.44832570464948207 \n",
      " recall:0.8482224247948952 \n",
      ", 'Test':  best_epoch_indx:32\n",
      " auc:0.9048824856182057 \n",
      " apur:0.7011993613364158 \n",
      " f1:0.5888427150232968 \n",
      " precision:0.4497883801462101 \n",
      " recall:0.8523514400291652 \n",
      "}\n",
      "=====Epoch 33\n",
      "Training...\n"
     ]
    },
    {
     "name": "stderr",
     "output_type": "stream",
     "text": [
      "Iteration: 100%|██████████| 392/392 [00:19<00:00, 20.46it/s]\n",
      "Iteration: 100%|██████████| 392/392 [00:31<00:00, 12.43it/s]\n",
      "Iteration:  81%|████████  | 316/392 [00:15<00:03, 19.43it/s]"
     ]
    },
    {
     "name": "stdout",
     "output_type": "stream",
     "text": [
      "Evaluating...\n"
     ]
    },
    {
     "name": "stderr",
     "output_type": "stream",
     "text": [
      "Iteration: 100%|██████████| 392/392 [00:31<00:00, 12.55it/s]\n",
      "Iteration:  86%|████████▌ | 336/392 [00:16<00:02, 21.16it/s]"
     ]
    },
    {
     "name": "stdout",
     "output_type": "stream",
     "text": [
      "Evaluating...\n"
     ]
    },
    {
     "name": "stderr",
     "output_type": "stream",
     "text": [
      "Iteration: 100%|██████████| 109/109 [00:05<00:00, 20.96it/s]\n",
      "Iteration: 100%|██████████| 392/392 [00:19<00:00, 20.43it/s]\n",
      "Iteration: 100%|██████████| 44/44 [00:02<00:00, 19.85it/s]s]\n",
      "Iteration:  46%|████▌     | 180/392 [00:14<00:16, 12.62it/s]"
     ]
    },
    {
     "name": "stdout",
     "output_type": "stream",
     "text": [
      "{'Train':  best_epoch_indx:32\n",
      " auc:0.945056354160044 \n",
      " apur:0.7989050697959879 \n",
      " f1:0.654154326931812 \n",
      " precision:0.5101161802210258 \n",
      " recall:0.9115398248012557 \n",
      ", 'Validation':  best_epoch_indx:32\n",
      " auc:0.8993999324009244 \n",
      " apur:0.6960748819250209 \n",
      " f1:0.5892711560410893 \n",
      " precision:0.45886236668359576 \n",
      " recall:0.8232346241457859 \n",
      ", 'Test':  best_epoch_indx:32\n",
      " auc:0.9003648959607337 \n",
      " apur:0.6936020445512554 \n",
      " f1:0.5935249464737559 \n",
      " precision:0.4607171635777599 \n",
      " recall:0.8339106654512306 \n",
      "}\n",
      "=====Epoch 33\n",
      "Training...\n"
     ]
    },
    {
     "name": "stderr",
     "output_type": "stream",
     "text": [
      "Iteration: 100%|██████████| 109/109 [00:04<00:00, 22.10it/s]\n",
      "Iteration: 100%|██████████| 44/44 [00:02<00:00, 19.79it/s]s]\n",
      "Iteration:  70%|███████   | 276/392 [00:12<00:05, 21.93it/s]"
     ]
    },
    {
     "name": "stdout",
     "output_type": "stream",
     "text": [
      "{'Train':  best_epoch_indx:31\n",
      " auc:0.9518085444762814 \n",
      " apur:0.8215278018736425 \n",
      " f1:0.6679208395580886 \n",
      " precision:0.5252973600232086 \n",
      " recall:0.9168565496987189 \n",
      ", 'Validation':  best_epoch_indx:31\n",
      " auc:0.908642152949453 \n",
      " apur:0.7143650929317963 \n",
      " f1:0.6104069379586391 \n",
      " precision:0.4813256180957391 \n",
      " recall:0.8340929808568824 \n",
      ", 'Test':  best_epoch_indx:31\n",
      " auc:0.9073995823885892 \n",
      " apur:0.7117823750853103 \n",
      " f1:0.6058442417030279 \n",
      " precision:0.47531120331950205 \n",
      " recall:0.8352169157856362 \n",
      "}\n",
      "=====Epoch 32\n",
      "Training...\n"
     ]
    },
    {
     "name": "stderr",
     "output_type": "stream",
     "text": [
      "Iteration: 100%|██████████| 392/392 [00:18<00:00, 21.74it/s]\n",
      "Iteration: 100%|██████████| 392/392 [00:18<00:00, 21.59it/s]\n",
      "Iteration: 100%|██████████| 392/392 [00:31<00:00, 12.37it/s]\n",
      "Iteration:  40%|████      | 44/109 [00:02<00:03, 20.22it/s]]"
     ]
    },
    {
     "name": "stdout",
     "output_type": "stream",
     "text": [
      "Evaluating...\n"
     ]
    },
    {
     "name": "stderr",
     "output_type": "stream",
     "text": [
      "Iteration: 100%|██████████| 109/109 [00:04<00:00, 22.43it/s]\n",
      "Iteration: 100%|██████████| 109/109 [00:05<00:00, 21.25it/s]\n",
      "Iteration: 100%|██████████| 44/44 [00:01<00:00, 22.44it/s]s]\n",
      "Iteration:   1%|          | 2/392 [00:00<00:32, 12.10it/s]s]"
     ]
    },
    {
     "name": "stdout",
     "output_type": "stream",
     "text": [
      "{'Train':  best_epoch_indx:33\n",
      " auc:0.937965985664452 \n",
      " apur:0.775869211485503 \n",
      " f1:0.6418602965164751 \n",
      " precision:0.49984474241354976 \n",
      " recall:0.8966023596131449 \n",
      ", 'Validation':  best_epoch_indx:33\n",
      " auc:0.8987148567758532 \n",
      " apur:0.6849469820100059 \n",
      " f1:0.5926533289603149 \n",
      " precision:0.46285860655737704 \n",
      " recall:0.8236098450319052 \n",
      ", 'Test':  best_epoch_indx:33\n",
      " auc:0.8966028032528376 \n",
      " apur:0.6774133223887183 \n",
      " f1:0.5829688705942886 \n",
      " precision:0.4504074736632876 \n",
      " recall:0.8261028071454611 \n",
      "}\n",
      "=====Epoch 34\n",
      "Training...\n"
     ]
    },
    {
     "name": "stderr",
     "output_type": "stream",
     "text": [
      "Iteration: 100%|██████████| 44/44 [00:02<00:00, 20.25it/s]]]\n",
      "Iteration:   1%|          | 2/392 [00:00<00:33, 11.55it/s]s]"
     ]
    },
    {
     "name": "stdout",
     "output_type": "stream",
     "text": [
      "{'Train':  best_epoch_indx:33\n",
      " auc:0.9437067346900372 \n",
      " apur:0.7957339846602847 \n",
      " f1:0.6859644168314036 \n",
      " precision:0.5700922045264041 \n",
      " recall:0.8609549850625348 \n",
      ", 'Validation':  best_epoch_indx:33\n",
      " auc:0.904132049043096 \n",
      " apur:0.7036405870566913 \n",
      " f1:0.620677102293411 \n",
      " precision:0.5166666666666667 \n",
      " recall:0.7771194165907019 \n",
      ", 'Test':  best_epoch_indx:33\n",
      " auc:0.9000321381478054 \n",
      " apur:0.6914144114939129 \n",
      " f1:0.61826390911739 \n",
      " precision:0.5147950521464952 \n",
      " recall:0.7737878235508567 \n",
      "}\n",
      "=====Epoch 34\n",
      "Training...\n"
     ]
    },
    {
     "name": "stderr",
     "output_type": "stream",
     "text": [
      "Iteration: 100%|██████████| 392/392 [00:32<00:00, 12.24it/s]\n",
      "Iteration:   1%|          | 3/392 [00:00<00:18, 20.69it/s]s]"
     ]
    },
    {
     "name": "stdout",
     "output_type": "stream",
     "text": [
      "Evaluating...\n"
     ]
    },
    {
     "name": "stderr",
     "output_type": "stream",
     "text": [
      "Iteration: 100%|██████████| 392/392 [00:18<00:00, 20.91it/s]\n",
      "Iteration: 100%|██████████| 392/392 [00:31<00:00, 12.37it/s]\n",
      "Iteration:   1%|          | 3/392 [00:00<00:18, 20.84it/s]s]"
     ]
    },
    {
     "name": "stdout",
     "output_type": "stream",
     "text": [
      "Evaluating...\n"
     ]
    },
    {
     "name": "stderr",
     "output_type": "stream",
     "text": [
      "Iteration: 100%|██████████| 109/109 [00:05<00:00, 21.01it/s]\n",
      "Iteration: 100%|██████████| 44/44 [00:02<00:00, 19.79it/s]s]\n",
      "Iteration:   0%|          | 0/392 [00:00<?, ?it/s]12.44it/s]"
     ]
    },
    {
     "name": "stdout",
     "output_type": "stream",
     "text": [
      "{'Train':  best_epoch_indx:33\n",
      " auc:0.9393509058971559 \n",
      " apur:0.7830644811492513 \n",
      " f1:0.6349732752385825 \n",
      " precision:0.48722252301028696 \n",
      " recall:0.9113372829004001 \n",
      ", 'Validation':  best_epoch_indx:33\n",
      " auc:0.9005443243318073 \n",
      " apur:0.6890329825306113 \n",
      " f1:0.585963259538389 \n",
      " precision:0.4469461077844311 \n",
      " recall:0.8505013673655424 \n",
      ", 'Test':  best_epoch_indx:33\n",
      " auc:0.903196289946015 \n",
      " apur:0.6924048304524955 \n",
      " f1:0.5895243523972387 \n",
      " precision:0.45171309327380377 \n",
      " recall:0.8483412322274881 \n",
      "}\n",
      "=====Epoch 34\n",
      "Training...\n"
     ]
    },
    {
     "name": "stderr",
     "output_type": "stream",
     "text": [
      "Iteration: 100%|██████████| 392/392 [00:18<00:00, 21.17it/s]\n",
      "Iteration: 100%|██████████| 392/392 [00:31<00:00, 12.56it/s]\n",
      "Iteration:   0%|          | 0/392 [00:00<?, ?it/s]"
     ]
    },
    {
     "name": "stdout",
     "output_type": "stream",
     "text": [
      "Evaluating...\n"
     ]
    },
    {
     "name": "stderr",
     "output_type": "stream",
     "text": [
      "Iteration: 100%|██████████| 392/392 [00:31<00:00, 12.46it/s]\n",
      "Iteration:  50%|████▉     | 54/109 [00:02<00:02, 20.00it/s]"
     ]
    },
    {
     "name": "stdout",
     "output_type": "stream",
     "text": [
      "Evaluating...\n"
     ]
    },
    {
     "name": "stderr",
     "output_type": "stream",
     "text": [
      "Iteration: 100%|██████████| 392/392 [00:18<00:00, 21.76it/s]\n",
      "Iteration: 100%|██████████| 109/109 [00:05<00:00, 20.11it/s]\n",
      "Iteration: 100%|██████████| 44/44 [00:02<00:00, 21.27it/s]]]\n",
      "Iteration:  33%|███▎      | 36/109 [00:01<00:03, 21.91it/s]]"
     ]
    },
    {
     "name": "stdout",
     "output_type": "stream",
     "text": [
      "{'Train':  best_epoch_indx:33\n",
      " auc:0.942790742651458 \n",
      " apur:0.7910313516467912 \n",
      " f1:0.6439300796493291 \n",
      " precision:0.4967832398548334 \n",
      " recall:0.9149324016405894 \n",
      ", 'Validation':  best_epoch_indx:33\n",
      " auc:0.8987059096353003 \n",
      " apur:0.6918195934143623 \n",
      " f1:0.590543583145706 \n",
      " precision:0.4563758389261745 \n",
      " recall:0.8364464692482916 \n",
      ", 'Test':  best_epoch_indx:33\n",
      " auc:0.8977554429472265 \n",
      " apur:0.6863700902812482 \n",
      " f1:0.5827629911280101 \n",
      " precision:0.44662457503642544 \n",
      " recall:0.8382862351868733 \n",
      "}\n",
      "=====Epoch 34\n",
      "Training...\n"
     ]
    },
    {
     "name": "stderr",
     "output_type": "stream",
     "text": [
      "Iteration: 100%|██████████| 109/109 [00:05<00:00, 20.22it/s]\n",
      "Iteration: 100%|██████████| 44/44 [00:02<00:00, 20.34it/s]s]\n",
      "Iteration:  20%|██        | 80/392 [00:06<00:25, 12.15it/s]]"
     ]
    },
    {
     "name": "stdout",
     "output_type": "stream",
     "text": [
      "{'Train':  best_epoch_indx:32\n",
      " auc:0.9415415101075988 \n",
      " apur:0.7909564088979454 \n",
      " f1:0.6444416412880903 \n",
      " precision:0.5002517905102954 \n",
      " recall:0.9054129323003697 \n",
      ", 'Validation':  best_epoch_indx:32\n",
      " auc:0.9032616460992012 \n",
      " apur:0.7000208319855501 \n",
      " f1:0.5983100422489438 \n",
      " precision:0.4648989898989899 \n",
      " recall:0.8391066545123063 \n",
      ", 'Test':  best_epoch_indx:32\n",
      " auc:0.8981361647830843 \n",
      " apur:0.6924056036676408 \n",
      " f1:0.5880208333333333 \n",
      " precision:0.45736277091351024 \n",
      " recall:0.8231862923806051 \n",
      "}\n",
      "=====Epoch 33\n",
      "Training...\n"
     ]
    },
    {
     "name": "stderr",
     "output_type": "stream",
     "text": [
      "Iteration: 100%|██████████| 392/392 [00:18<00:00, 21.53it/s]\n",
      "Iteration: 100%|██████████| 392/392 [00:18<00:00, 20.64it/s]\n",
      "Iteration: 100%|██████████| 109/109 [00:05<00:00, 20.81it/s]\n",
      "Iteration: 100%|██████████| 392/392 [00:32<00:00, 12.08it/s]\n",
      "Iteration:  59%|█████▊    | 64/109 [00:03<00:02, 20.95it/s]]"
     ]
    },
    {
     "name": "stdout",
     "output_type": "stream",
     "text": [
      "Evaluating...\n"
     ]
    },
    {
     "name": "stderr",
     "output_type": "stream",
     "text": [
      "Iteration: 100%|██████████| 44/44 [00:01<00:00, 22.12it/s]]]\n",
      "Iteration: 100%|██████████| 109/109 [00:05<00:00, 21.77it/s]\n",
      "Iteration:  62%|██████▏   | 242/392 [00:19<00:12, 12.16it/s]"
     ]
    },
    {
     "name": "stdout",
     "output_type": "stream",
     "text": [
      "{'Train':  best_epoch_indx:34\n",
      " auc:0.9298591146944846 \n",
      " apur:0.7584353355679692 \n",
      " f1:0.619830487568501 \n",
      " precision:0.4753256580725366 \n",
      " recall:0.8905767380626867 \n",
      ", 'Validation':  best_epoch_indx:34\n",
      " auc:0.8935654743451685 \n",
      " apur:0.6751949770896987 \n",
      " f1:0.5803784385434887 \n",
      " precision:0.4456654456654457 \n",
      " recall:0.8318140382862352 \n",
      ", 'Test':  best_epoch_indx:34\n",
      " auc:0.8917517149020912 \n",
      " apur:0.6713487235233552 \n",
      " f1:0.5737026823765354 \n",
      " precision:0.43715377268385863 \n",
      " recall:0.8343055049216187 \n",
      "}\n",
      "=====Epoch 35\n",
      "Training...\n"
     ]
    },
    {
     "name": "stderr",
     "output_type": "stream",
     "text": [
      "Iteration: 100%|██████████| 44/44 [00:02<00:00, 20.88it/s]s]\n",
      "Iteration:  70%|███████   | 276/392 [00:22<00:09, 12.47it/s]"
     ]
    },
    {
     "name": "stdout",
     "output_type": "stream",
     "text": [
      "{'Train':  best_epoch_indx:34\n",
      " auc:0.9397345452068995 \n",
      " apur:0.7805179101943517 \n",
      " f1:0.6404162866798991 \n",
      " precision:0.4950240504229557 \n",
      " recall:0.9067294546559319 \n",
      ", 'Validation':  best_epoch_indx:34\n",
      " auc:0.8984426841224088 \n",
      " apur:0.6857051621379027 \n",
      " f1:0.5836378077839556 \n",
      " precision:0.44793952694464767 \n",
      " recall:0.8372835004557885 \n",
      ", 'Test':  best_epoch_indx:34\n",
      " auc:0.8981221620637583 \n",
      " apur:0.6812890010750688 \n",
      " f1:0.5895089573398634 \n",
      " precision:0.4559409888357257 \n",
      " recall:0.8337586584032082 \n",
      "}\n",
      "=====Epoch 35\n",
      "Training...\n"
     ]
    },
    {
     "name": "stderr",
     "output_type": "stream",
     "text": [
      "Iteration: 100%|██████████| 392/392 [00:32<00:00, 12.22it/s]\n",
      "Iteration:  81%|████████  | 316/392 [00:25<00:06, 12.29it/s]"
     ]
    },
    {
     "name": "stdout",
     "output_type": "stream",
     "text": [
      "Evaluating...\n"
     ]
    },
    {
     "name": "stderr",
     "output_type": "stream",
     "text": [
      "Iteration: 100%|██████████| 392/392 [00:18<00:00, 21.24it/s]\n",
      "Iteration: 100%|██████████| 392/392 [00:31<00:00, 12.35it/s]\n",
      "Iteration:   1%|          | 3/392 [00:00<00:18, 20.63it/s]]]"
     ]
    },
    {
     "name": "stdout",
     "output_type": "stream",
     "text": [
      "Evaluating...\n"
     ]
    },
    {
     "name": "stderr",
     "output_type": "stream",
     "text": [
      "Iteration: 100%|██████████| 109/109 [00:04<00:00, 22.22it/s]\n",
      "Iteration: 100%|██████████| 44/44 [00:02<00:00, 21.99it/s]s]\n",
      "Iteration:   1%|          | 2/392 [00:00<00:32, 11.99it/s]s]"
     ]
    },
    {
     "name": "stdout",
     "output_type": "stream",
     "text": [
      "{'Train':  best_epoch_indx:34\n",
      " auc:0.9382416653649939 \n",
      " apur:0.7795826217005997 \n",
      " f1:0.637697759324218 \n",
      " precision:0.4931491682121405 \n",
      " recall:0.9021216264114639 \n",
      ", 'Validation':  best_epoch_indx:34\n",
      " auc:0.9041228829326183 \n",
      " apur:0.6984616999908674 \n",
      " f1:0.5956223038824093 \n",
      " precision:0.45854858548585486 \n",
      " recall:0.8495897903372835 \n",
      ", 'Test':  best_epoch_indx:34\n",
      " auc:0.9049319707413722 \n",
      " apur:0.7001578589065808 \n",
      " f1:0.5952335067771568 \n",
      " precision:0.4595774228747148 \n",
      " recall:0.8445133065986147 \n",
      "}\n",
      "=====Epoch 35\n",
      "Training...\n"
     ]
    },
    {
     "name": "stderr",
     "output_type": "stream",
     "text": [
      "Iteration: 100%|██████████| 392/392 [00:31<00:00, 12.52it/s]\n",
      "Iteration:  96%|█████████▌| 377/392 [00:19<00:00, 20.75it/s]"
     ]
    },
    {
     "name": "stdout",
     "output_type": "stream",
     "text": [
      "Evaluating...\n"
     ]
    },
    {
     "name": "stderr",
     "output_type": "stream",
     "text": [
      "Iteration: 100%|██████████| 392/392 [00:20<00:00, 19.49it/s]\n",
      "Iteration: 100%|██████████| 392/392 [00:31<00:00, 12.43it/s]\n",
      "Iteration:   1%|          | 2/392 [00:00<00:20, 19.38it/s]s]"
     ]
    },
    {
     "name": "stdout",
     "output_type": "stream",
     "text": [
      "Evaluating...\n"
     ]
    },
    {
     "name": "stderr",
     "output_type": "stream",
     "text": [
      "Iteration: 100%|██████████| 392/392 [00:18<00:00, 20.76it/s]\n",
      "Iteration: 100%|██████████| 109/109 [00:05<00:00, 21.53it/s]\n",
      "Iteration: 100%|██████████| 44/44 [00:02<00:00, 21.52it/s]s]\n",
      "Iteration:  55%|█████▌    | 60/109 [00:02<00:02, 21.99it/s]]"
     ]
    },
    {
     "name": "stdout",
     "output_type": "stream",
     "text": [
      "{'Train':  best_epoch_indx:34\n",
      " auc:0.934139618317438 \n",
      " apur:0.7691547038318113 \n",
      " f1:0.6703343551432226 \n",
      " precision:0.5594713656387665 \n",
      " recall:0.8359916957820649 \n",
      ", 'Validation':  best_epoch_indx:34\n",
      " auc:0.8926917096359714 \n",
      " apur:0.6759798701498044 \n",
      " f1:0.6040980607391144 \n",
      " precision:0.5047386120452461 \n",
      " recall:0.7521640091116173 \n",
      ", 'Test':  best_epoch_indx:34\n",
      " auc:0.8948546343421542 \n",
      " apur:0.6846849416203047 \n",
      " f1:0.6075949367088607 \n",
      " precision:0.5094409477971121 \n",
      " recall:0.7525979945305379 \n",
      "}\n",
      "=====Epoch 35\n",
      "Training...\n"
     ]
    },
    {
     "name": "stderr",
     "output_type": "stream",
     "text": [
      "Iteration: 100%|██████████| 109/109 [00:04<00:00, 21.88it/s]\n",
      "Iteration: 100%|██████████| 44/44 [00:01<00:00, 22.08it/s]s]\n",
      "Iteration:  83%|████████▎ | 324/392 [00:14<00:03, 22.46it/s]"
     ]
    },
    {
     "name": "stdout",
     "output_type": "stream",
     "text": [
      "{'Train':  best_epoch_indx:33\n",
      " auc:0.9439189653787322 \n",
      " apur:0.7998019411286956 \n",
      " f1:0.6711278137822602 \n",
      " precision:0.5400709767011264 \n",
      " recall:0.8861714517190744 \n",
      ", 'Validation':  best_epoch_indx:33\n",
      " auc:0.9051124453127195 \n",
      " apur:0.7021097340142678 \n",
      " f1:0.6199197627769055 \n",
      " precision:0.5021192427239333 \n",
      " recall:0.8099361896080218 \n",
      ", 'Test':  best_epoch_indx:33\n",
      " auc:0.903581361473334 \n",
      " apur:0.7026504902736939 \n",
      " f1:0.6112911008478666 \n",
      " precision:0.49151978716328565 \n",
      " recall:0.8082391542107182 \n",
      "}\n",
      "=====Epoch 34\n",
      "Training...\n"
     ]
    },
    {
     "name": "stderr",
     "output_type": "stream",
     "text": [
      "Iteration: 100%|██████████| 392/392 [00:17<00:00, 22.24it/s]\n",
      "Iteration: 100%|██████████| 392/392 [00:19<00:00, 20.56it/s]\n",
      "Iteration: 100%|██████████| 109/109 [00:05<00:00, 21.29it/s]\n",
      "Iteration: 100%|██████████| 392/392 [00:31<00:00, 12.37it/s]\n",
      "Iteration:  33%|███▎      | 130/392 [00:10<00:21, 12.22it/s]"
     ]
    },
    {
     "name": "stdout",
     "output_type": "stream",
     "text": [
      "Evaluating...\n"
     ]
    },
    {
     "name": "stderr",
     "output_type": "stream",
     "text": [
      "Iteration: 100%|██████████| 44/44 [00:02<00:00, 18.78it/s]]]\n",
      "Iteration:  79%|███████▉  | 86/109 [00:03<00:01, 22.48it/s]]"
     ]
    },
    {
     "name": "stdout",
     "output_type": "stream",
     "text": [
      "{'Train':  best_epoch_indx:35\n",
      " auc:0.9416604449270995 \n",
      " apur:0.7857711352154233 \n",
      " f1:0.6380192708149508 \n",
      " precision:0.48966600753040607 \n",
      " recall:0.9153374854423009 \n",
      ", 'Validation':  best_epoch_indx:35\n",
      " auc:0.9016831453896141 \n",
      " apur:0.6932229456317027 \n",
      " f1:0.5895972090072946 \n",
      " precision:0.45209143968871596 \n",
      " recall:0.8473108477666362 \n",
      ", 'Test':  best_epoch_indx:35\n",
      " auc:0.9014485124002884 \n",
      " apur:0.6935893064429781 \n",
      " f1:0.5844163998241979 \n",
      " precision:0.4457427449478019 \n",
      " recall:0.8483412322274881 \n",
      "}\n",
      "=====Epoch 36\n",
      "Training...\n"
     ]
    },
    {
     "name": "stderr",
     "output_type": "stream",
     "text": [
      "Iteration: 100%|██████████| 109/109 [00:04<00:00, 22.17it/s]\n",
      "Iteration: 100%|██████████| 44/44 [00:01<00:00, 22.14it/s]s]\n",
      "Iteration:  51%|█████     | 198/392 [00:16<00:15, 12.22it/s]"
     ]
    },
    {
     "name": "stdout",
     "output_type": "stream",
     "text": [
      "{'Train':  best_epoch_indx:35\n",
      " auc:0.9434137448129466 \n",
      " apur:0.7941386651982109 \n",
      " f1:0.6734899199009403 \n",
      " precision:0.5449791777562075 \n",
      " recall:0.8813104460985366 \n",
      ", 'Validation':  best_epoch_indx:35\n",
      " auc:0.9043421354562352 \n",
      " apur:0.7014109176813682 \n",
      " f1:0.6112646855563234 \n",
      " precision:0.49220923761825264 \n",
      " recall:0.8062898814949864 \n",
      ", 'Test':  best_epoch_indx:35\n",
      " auc:0.9027435544267963 \n",
      " apur:0.6979421312015064 \n",
      " f1:0.6143196755698505 \n",
      " precision:0.49829854809437385 \n",
      " recall:0.8007655851257747 \n",
      "}\n",
      "=====Epoch 36\n",
      "Training...\n"
     ]
    },
    {
     "name": "stderr",
     "output_type": "stream",
     "text": [
      "Iteration: 100%|██████████| 392/392 [00:32<00:00, 12.07it/s]\n",
      "Iteration:  48%|████▊     | 190/392 [00:15<00:15, 12.77it/s]"
     ]
    },
    {
     "name": "stdout",
     "output_type": "stream",
     "text": [
      "Evaluating...\n"
     ]
    },
    {
     "name": "stderr",
     "output_type": "stream",
     "text": [
      "Iteration: 100%|██████████| 392/392 [00:17<00:00, 21.83it/s]\n",
      "Iteration: 100%|██████████| 392/392 [00:31<00:00, 12.28it/s]\n",
      "Iteration:  47%|████▋     | 51/109 [00:02<00:02, 22.01it/s]]"
     ]
    },
    {
     "name": "stdout",
     "output_type": "stream",
     "text": [
      "Evaluating...\n"
     ]
    },
    {
     "name": "stderr",
     "output_type": "stream",
     "text": [
      "Iteration: 100%|██████████| 109/109 [00:04<00:00, 21.91it/s]\n",
      "Iteration: 100%|██████████| 44/44 [00:02<00:00, 19.57it/s]s]\n",
      "Iteration:  52%|█████▏    | 205/392 [00:09<00:08, 21.16it/s]"
     ]
    },
    {
     "name": "stdout",
     "output_type": "stream",
     "text": [
      "{'Train':  best_epoch_indx:35\n",
      " auc:0.936804713242879 \n",
      " apur:0.7799532735684154 \n",
      " f1:0.654396186440678 \n",
      " precision:0.5223312698173034 \n",
      " recall:0.8758418147754317 \n",
      ", 'Validation':  best_epoch_indx:35\n",
      " auc:0.90171672649459 \n",
      " apur:0.7008796511870217 \n",
      " f1:0.6046590715864649 \n",
      " precision:0.48223487930566855 \n",
      " recall:0.8103919781221514 \n",
      ", 'Test':  best_epoch_indx:35\n",
      " auc:0.9009790604436246 \n",
      " apur:0.6914490337163703 \n",
      " f1:0.6035784747261719 \n",
      " precision:0.4814935417345056 \n",
      " recall:0.8086037185563252 \n",
      "}\n",
      "=====Epoch 36\n",
      "Training...\n"
     ]
    },
    {
     "name": "stderr",
     "output_type": "stream",
     "text": [
      "Iteration: 100%|██████████| 392/392 [00:31<00:00, 12.27it/s]\n",
      "Iteration:  21%|██▏       | 84/392 [00:06<00:25, 11.87it/s]"
     ]
    },
    {
     "name": "stdout",
     "output_type": "stream",
     "text": [
      "Evaluating...\n"
     ]
    },
    {
     "name": "stderr",
     "output_type": "stream",
     "text": [
      "Iteration: 100%|██████████| 392/392 [00:19<00:00, 20.58it/s]\n",
      "Iteration: 100%|██████████| 392/392 [00:31<00:00, 12.34it/s]\n",
      "Iteration:   1%|          | 3/392 [00:00<00:18, 20.99it/s]s]"
     ]
    },
    {
     "name": "stdout",
     "output_type": "stream",
     "text": [
      "Evaluating...\n"
     ]
    },
    {
     "name": "stderr",
     "output_type": "stream",
     "text": [
      "Iteration: 100%|██████████| 392/392 [00:18<00:00, 20.90it/s]\n",
      "Iteration: 100%|██████████| 109/109 [00:05<00:00, 20.41it/s]\n",
      "Iteration: 100%|██████████| 44/44 [00:02<00:00, 21.17it/s]]]\n",
      "Iteration:  56%|█████▌    | 220/392 [00:18<00:16, 10.45it/s]"
     ]
    },
    {
     "name": "stdout",
     "output_type": "stream",
     "text": [
      "{'Train':  best_epoch_indx:35\n",
      " auc:0.9404701192988554 \n",
      " apur:0.7905762813104859 \n",
      " f1:0.6289170065181776 \n",
      " precision:0.4794971963113556 \n",
      " recall:0.9136158792850271 \n",
      ", 'Validation':  best_epoch_indx:35\n",
      " auc:0.8994233949832429 \n",
      " apur:0.6969858456015371 \n",
      " f1:0.5836209601506118 \n",
      " precision:0.44508255563531945 \n",
      " recall:0.8473804100227791 \n",
      ", 'Test':  best_epoch_indx:35\n",
      " auc:0.8997085638567094 \n",
      " apur:0.6952454115248297 \n",
      " f1:0.5791860826343584 \n",
      " precision:0.43930254476908576 \n",
      " recall:0.8497721057429353 \n",
      "}\n",
      "=====Epoch 36\n",
      "Training...\n"
     ]
    },
    {
     "name": "stderr",
     "output_type": "stream",
     "text": [
      "Iteration: 100%|██████████| 109/109 [00:05<00:00, 20.26it/s]\n",
      "Iteration: 100%|██████████| 44/44 [00:02<00:00, 19.74it/s]s]\n",
      "Iteration:  90%|████████▉ | 351/392 [00:15<00:01, 22.08it/s]"
     ]
    },
    {
     "name": "stdout",
     "output_type": "stream",
     "text": [
      "{'Train':  best_epoch_indx:34\n",
      " auc:0.9334688964010323 \n",
      " apur:0.7687018272131557 \n",
      " f1:0.6052785336293675 \n",
      " precision:0.45148677591273595 \n",
      " recall:0.9179705301534254 \n",
      ", 'Validation':  best_epoch_indx:34\n",
      " auc:0.8958687689850704 \n",
      " apur:0.6829276390264332 \n",
      " f1:0.5671507710735141 \n",
      " precision:0.42229654403567446 \n",
      " recall:0.8632634457611669 \n",
      ", 'Test':  best_epoch_indx:34\n",
      " auc:0.8972450492537708 \n",
      " apur:0.681726842513994 \n",
      " f1:0.5712571976967371 \n",
      " precision:0.42571070981584125 \n",
      " recall:0.8680277068902661 \n",
      "}\n",
      "=====Epoch 35\n",
      "Training...\n"
     ]
    },
    {
     "name": "stderr",
     "output_type": "stream",
     "text": [
      "Iteration: 100%|██████████| 392/392 [00:17<00:00, 22.00it/s]\n",
      "Iteration: 100%|██████████| 392/392 [00:17<00:00, 22.04it/s]\n",
      "Iteration: 100%|██████████| 109/109 [00:05<00:00, 21.73it/s]\n",
      "Iteration: 100%|██████████| 392/392 [00:32<00:00, 12.24it/s]\n",
      "Iteration:  34%|███▍      | 15/44 [00:00<00:01, 20.18it/s]]]"
     ]
    },
    {
     "name": "stdout",
     "output_type": "stream",
     "text": [
      "Evaluating...\n"
     ]
    },
    {
     "name": "stderr",
     "output_type": "stream",
     "text": [
      "Iteration: 100%|██████████| 44/44 [00:02<00:00, 19.69it/s]]]\n",
      "Iteration:  35%|███▌      | 138/392 [00:11<00:20, 12.32it/s]"
     ]
    },
    {
     "name": "stdout",
     "output_type": "stream",
     "text": [
      "{'Train':  best_epoch_indx:36\n",
      " auc:0.9443708657486565 \n",
      " apur:0.7953892644772894 \n",
      " f1:0.6372358175750835 \n",
      " precision:0.4851403921983751 \n",
      " recall:0.9282495316218543 \n",
      ", 'Validation':  best_epoch_indx:36\n",
      " auc:0.9042597663124256 \n",
      " apur:0.7028194271411767 \n",
      " f1:0.5898241206030151 \n",
      " precision:0.44992812649736463 \n",
      " recall:0.8559708295350957 \n",
      ", 'Test':  best_epoch_indx:36\n",
      " auc:0.9020729026677626 \n",
      " apur:0.6973497097832381 \n",
      " f1:0.579284833538841 \n",
      " precision:0.43767467859139186 \n",
      " recall:0.8563616478308421 \n",
      "}\n",
      "=====Epoch 37\n",
      "Training...\n"
     ]
    },
    {
     "name": "stderr",
     "output_type": "stream",
     "text": [
      "Iteration: 100%|██████████| 109/109 [00:04<00:00, 22.01it/s]\n",
      "Iteration: 100%|██████████| 44/44 [00:02<00:00, 19.45it/s]]]\n",
      "Iteration:   1%|          | 2/392 [00:00<00:33, 11.63it/s]s]"
     ]
    },
    {
     "name": "stdout",
     "output_type": "stream",
     "text": [
      "{'Train':  best_epoch_indx:36\n",
      " auc:0.9496995708915105 \n",
      " apur:0.8126777840698124 \n",
      " f1:0.6593299183666081 \n",
      " precision:0.5130711589385317 \n",
      " recall:0.922223910071396 \n",
      ", 'Validation':  best_epoch_indx:36\n",
      " auc:0.9118097258095437 \n",
      " apur:0.7200473606819926 \n",
      " f1:0.6037916202007328 \n",
      " precision:0.46411951996081313 \n",
      " recall:0.8637192342752963 \n",
      ", 'Test':  best_epoch_indx:36\n",
      " auc:0.9067759342214722 \n",
      " apur:0.7062915853084342 \n",
      " f1:0.6040424980564914 \n",
      " precision:0.4685427135678392 \n",
      " recall:0.8497994896099161 \n",
      "}\n",
      "=====Epoch 37\n",
      "Training...\n"
     ]
    },
    {
     "name": "stderr",
     "output_type": "stream",
     "text": [
      "Iteration: 100%|██████████| 392/392 [00:18<00:00, 21.55it/s]\n",
      "Iteration: 100%|██████████| 392/392 [00:32<00:00, 11.98it/s]\n",
      "Iteration:  90%|████████▉ | 352/392 [00:28<00:03, 12.10it/s]"
     ]
    },
    {
     "name": "stdout",
     "output_type": "stream",
     "text": [
      "Evaluating...\n"
     ]
    },
    {
     "name": "stderr",
     "output_type": "stream",
     "text": [
      "Iteration: 100%|██████████| 392/392 [00:32<00:00, 12.17it/s]\n",
      "Iteration:   0%|          | 0/392 [00:00<?, ?it/s]"
     ]
    },
    {
     "name": "stdout",
     "output_type": "stream",
     "text": [
      "Evaluating...\n"
     ]
    },
    {
     "name": "stderr",
     "output_type": "stream",
     "text": [
      "Iteration: 100%|██████████| 109/109 [00:05<00:00, 21.38it/s]\n",
      "Iteration: 100%|██████████| 44/44 [00:02<00:00, 19.78it/s]s]\n",
      "Iteration:  81%|████████  | 318/392 [00:25<00:05, 12.50it/s]"
     ]
    },
    {
     "name": "stdout",
     "output_type": "stream",
     "text": [
      "{'Train':  best_epoch_indx:36\n",
      " auc:0.9473264388815207 \n",
      " apur:0.8060239221365141 \n",
      " f1:0.6275690403309899 \n",
      " precision:0.4698431086151754 \n",
      " recall:0.9447060610663831 \n",
      ", 'Validation':  best_epoch_indx:36\n",
      " auc:0.9084604248460744 \n",
      " apur:0.7094498998191057 \n",
      " f1:0.5787829192084512 \n",
      " precision:0.429644356085708 \n",
      " recall:0.8865086599817684 \n",
      ", 'Test':  best_epoch_indx:36\n",
      " auc:0.9067337849506888 \n",
      " apur:0.7049213546057272 \n",
      " f1:0.5798455182324411 \n",
      " precision:0.43174320106999553 \n",
      " recall:0.8826102807145462 \n",
      "}\n",
      "=====Epoch 37\n",
      "Training...\n"
     ]
    },
    {
     "name": "stderr",
     "output_type": "stream",
     "text": [
      "Iteration: 100%|██████████| 392/392 [00:31<00:00, 12.49it/s]\n",
      "Iteration:  76%|███████▌  | 297/392 [00:14<00:04, 21.40it/s]"
     ]
    },
    {
     "name": "stdout",
     "output_type": "stream",
     "text": [
      "Evaluating...\n"
     ]
    },
    {
     "name": "stderr",
     "output_type": "stream",
     "text": [
      "Iteration: 100%|██████████| 392/392 [00:31<00:00, 12.53it/s]\n",
      "Iteration:  94%|█████████▍| 369/392 [00:17<00:01, 21.50it/s]"
     ]
    },
    {
     "name": "stdout",
     "output_type": "stream",
     "text": [
      "Evaluating...\n"
     ]
    },
    {
     "name": "stderr",
     "output_type": "stream",
     "text": [
      "Iteration: 100%|██████████| 392/392 [00:18<00:00, 21.07it/s]\n",
      "Iteration: 100%|██████████| 392/392 [00:18<00:00, 20.66it/s]\n",
      "Iteration: 100%|██████████| 109/109 [00:05<00:00, 21.71it/s]\n",
      "Iteration: 100%|██████████| 44/44 [00:02<00:00, 21.69it/s]s]\n",
      "Iteration:  61%|██████    | 240/392 [00:19<00:11, 12.70it/s]"
     ]
    },
    {
     "name": "stdout",
     "output_type": "stream",
     "text": [
      "{'Train':  best_epoch_indx:36\n",
      " auc:0.9501008904619173 \n",
      " apur:0.8148136783618058 \n",
      " f1:0.6538736420811891 \n",
      " precision:0.5052044507026698 \n",
      " recall:0.9265279254645805 \n",
      ", 'Validation':  best_epoch_indx:36\n",
      " auc:0.9021491641533678 \n",
      " apur:0.7045906119166399 \n",
      " f1:0.5904458598726114 \n",
      " precision:0.4538555691554468 \n",
      " recall:0.8446469248291572 \n",
      ", 'Test':  best_epoch_indx:36\n",
      " auc:0.9055354004696164 \n",
      " apur:0.7085888735934148 \n",
      " f1:0.5947254427315583 \n",
      " precision:0.4570645256046216 \n",
      " recall:0.8510483135824978 \n",
      "}\n",
      "=====Epoch 37\n",
      "Training...\n"
     ]
    },
    {
     "name": "stderr",
     "output_type": "stream",
     "text": [
      "Iteration: 100%|██████████| 109/109 [00:05<00:00, 21.58it/s]\n",
      "Iteration: 100%|██████████| 44/44 [00:02<00:00, 21.65it/s]s]\n",
      "Iteration:  80%|███████▉  | 312/392 [00:14<00:03, 22.30it/s]"
     ]
    },
    {
     "name": "stdout",
     "output_type": "stream",
     "text": [
      "{'Train':  best_epoch_indx:35\n",
      " auc:0.9431932391744264 \n",
      " apur:0.7947485383071898 \n",
      " f1:0.6576726626693314 \n",
      " precision:0.5182430658850293 \n",
      " recall:0.899741759076409 \n",
      ", 'Validation':  best_epoch_indx:35\n",
      " auc:0.9039960256416173 \n",
      " apur:0.7059121506892336 \n",
      " f1:0.6019742345658357 \n",
      " precision:0.4755485064763415 \n",
      " recall:0.8199635369188697 \n",
      ", 'Test':  best_epoch_indx:35\n",
      " auc:0.9026938097081498 \n",
      " apur:0.703398302527685 \n",
      " f1:0.6017100815271426 \n",
      " precision:0.47276325382772627 \n",
      " recall:0.8273787823550857 \n",
      "}\n",
      "=====Epoch 36\n",
      "Training...\n"
     ]
    },
    {
     "name": "stderr",
     "output_type": "stream",
     "text": [
      "Iteration: 100%|██████████| 392/392 [00:18<00:00, 21.06it/s]\n",
      "Iteration: 100%|██████████| 392/392 [00:17<00:00, 22.18it/s]\n",
      "Iteration: 100%|██████████| 109/109 [00:04<00:00, 21.91it/s]\n",
      "Iteration: 100%|██████████| 392/392 [00:31<00:00, 12.45it/s]\n",
      "Iteration:  38%|███▊      | 150/392 [00:12<00:19, 12.43it/s]"
     ]
    },
    {
     "name": "stdout",
     "output_type": "stream",
     "text": [
      "Evaluating...\n"
     ]
    },
    {
     "name": "stderr",
     "output_type": "stream",
     "text": [
      "Iteration: 100%|██████████| 109/109 [00:04<00:00, 22.37it/s]\n",
      "Iteration: 100%|██████████| 392/392 [00:18<00:00, 20.85it/s]\n",
      "Iteration: 100%|██████████| 392/392 [00:32<00:00, 12.13it/s]\n",
      "Iteration:   1%|          | 3/392 [00:00<00:19, 20.31it/s]s]"
     ]
    },
    {
     "name": "stdout",
     "output_type": "stream",
     "text": [
      "Evaluating...\n"
     ]
    },
    {
     "name": "stderr",
     "output_type": "stream",
     "text": [
      "Iteration: 100%|██████████| 392/392 [00:32<00:00, 12.24it/s]\n",
      "Iteration:   1%|          | 2/392 [00:00<00:19, 19.98it/s]]"
     ]
    },
    {
     "name": "stdout",
     "output_type": "stream",
     "text": [
      "Evaluating...\n"
     ]
    },
    {
     "name": "stderr",
     "output_type": "stream",
     "text": [
      "Iteration: 100%|██████████| 109/109 [00:05<00:00, 20.04it/s]\n",
      "Iteration: 100%|██████████| 44/44 [00:02<00:00, 21.62it/s]s]\n",
      "Iteration:  32%|███▏      | 14/44 [00:00<00:01, 20.34it/s]s]"
     ]
    },
    {
     "name": "stdout",
     "output_type": "stream",
     "text": [
      "{'Train':  best_epoch_indx:37\n",
      " auc:0.9552904435513246 \n",
      " apur:0.8279107781264733 \n",
      " f1:0.6932891338704082 \n",
      " precision:0.5596664281046768 \n",
      " recall:0.9107296571978328 \n",
      ", 'Validation':  best_epoch_indx:37\n",
      " auc:0.9104878342431625 \n",
      " apur:0.7260912555131891 \n",
      " f1:0.6188652975983293 \n",
      " precision:0.5005630630630631 \n",
      " recall:0.8103919781221514 \n",
      ", 'Test':  best_epoch_indx:37\n",
      " auc:0.9080612176824985 \n",
      " apur:0.7119801670199547 \n",
      " f1:0.6192711209276643 \n",
      " precision:0.4983337036214175 \n",
      " recall:0.8177178271965002 \n",
      "}\n",
      "=====Epoch 38\n",
      "Training...\n"
     ]
    },
    {
     "name": "stderr",
     "output_type": "stream",
     "text": [
      "Iteration: 100%|██████████| 44/44 [00:02<00:00, 19.93it/s]s]\n",
      "Iteration:   6%|▌         | 24/392 [00:01<00:29, 12.52it/s]]"
     ]
    },
    {
     "name": "stdout",
     "output_type": "stream",
     "text": [
      "{'Train':  best_epoch_indx:37\n",
      " auc:0.9547702540613917 \n",
      " apur:0.8262912490673241 \n",
      " f1:0.7031687692460514 \n",
      " precision:0.5785980513960636 \n",
      " recall:0.8960960048610056 \n",
      ", 'Validation':  best_epoch_indx:37\n",
      " auc:0.912260690055001 \n",
      " apur:0.7198415860446793 \n",
      " f1:0.6329248801278636 \n",
      " precision:0.5184754146057609 \n",
      " recall:0.8122151321786691 \n",
      ", 'Test':  best_epoch_indx:37\n",
      " auc:0.9077877214261268 \n",
      " apur:0.7105320996930157 \n",
      " f1:0.6282610249446072 \n",
      " precision:0.5167548500881834 \n",
      " recall:0.8011301494713817 \n",
      "}\n",
      "=====Epoch 38\n",
      "Training...\n"
     ]
    },
    {
     "name": "stderr",
     "output_type": "stream",
     "text": [
      "Iteration: 100%|██████████| 392/392 [00:18<00:00, 21.52it/s]\n",
      "Iteration: 100%|██████████| 392/392 [00:18<00:00, 21.30it/s]\n",
      "Iteration: 100%|██████████| 109/109 [00:05<00:00, 19.08it/s]\n",
      "Iteration: 100%|██████████| 44/44 [00:02<00:00, 18.83it/s]s]\n",
      "Iteration:  39%|███▉      | 152/392 [00:12<00:19, 12.44it/s]"
     ]
    },
    {
     "name": "stdout",
     "output_type": "stream",
     "text": [
      "{'Train':  best_epoch_indx:37\n",
      " auc:0.9571360018391387 \n",
      " apur:0.83338020126979 \n",
      " f1:0.6850220264317181 \n",
      " precision:0.5425006652278036 \n",
      " recall:0.9291103347004912 \n",
      ", 'Validation':  best_epoch_indx:37\n",
      " auc:0.9099851634287325 \n",
      " apur:0.7189200161174927 \n",
      " f1:0.614824619457313 \n",
      " precision:0.48272278513899713 \n",
      " recall:0.8464692482915718 \n",
      ", 'Test':  best_epoch_indx:37\n",
      " auc:0.9084905915584477 \n",
      " apur:0.7164431159637513 \n",
      " f1:0.6123048178299747 \n",
      " precision:0.48289653720660985 \n",
      " recall:0.8364630811303555 \n",
      "}\n",
      "=====Epoch 38\n",
      "Training...\n"
     ]
    },
    {
     "name": "stderr",
     "output_type": "stream",
     "text": [
      "Iteration: 100%|██████████| 109/109 [00:05<00:00, 21.52it/s]\n",
      "Iteration: 100%|██████████| 44/44 [00:02<00:00, 19.41it/s]s]\n",
      "Iteration:   0%|          | 0/392 [00:00<?, ?it/s]12.50it/s]"
     ]
    },
    {
     "name": "stdout",
     "output_type": "stream",
     "text": [
      "{'Train':  best_epoch_indx:36\n",
      " auc:0.9525357127400587 \n",
      " apur:0.8246280386451063 \n",
      " f1:0.6841470650155984 \n",
      " precision:0.5499384615384615 \n",
      " recall:0.9050078484986581 \n",
      ", 'Validation':  best_epoch_indx:36\n",
      " auc:0.9083902422244327 \n",
      " apur:0.7155692293123749 \n",
      " f1:0.6194289693593314 \n",
      " precision:0.5011267605633802 \n",
      " recall:0.8108477666362808 \n",
      ", 'Test':  best_epoch_indx:36\n",
      " auc:0.9072327901736219 \n",
      " apur:0.7157052749674148 \n",
      " f1:0.6176998481292283 \n",
      " precision:0.4971111111111111 \n",
      " recall:0.8155304411228582 \n",
      "}\n",
      "=====Epoch 37\n",
      "Training...\n"
     ]
    },
    {
     "name": "stderr",
     "output_type": "stream",
     "text": [
      "Iteration: 100%|██████████| 44/44 [00:02<00:00, 20.97it/s]s]\n",
      "Iteration:  23%|██▎       | 92/392 [00:07<00:23, 12.52it/s]]"
     ]
    },
    {
     "name": "stdout",
     "output_type": "stream",
     "text": [
      "{'Train':  best_epoch_indx:37\n",
      " auc:0.9538973434002173 \n",
      " apur:0.823963046931041 \n",
      " f1:0.6790603725592879 \n",
      " precision:0.5383908182330437 \n",
      " recall:0.9192364170337739 \n",
      ", 'Validation':  best_epoch_indx:37\n",
      " auc:0.9116463718772824 \n",
      " apur:0.7185385842844286 \n",
      " f1:0.6132264529058116 \n",
      " precision:0.48392198207696363 \n",
      " recall:0.8368277119416591 \n",
      ", 'Test':  best_epoch_indx:37\n",
      " auc:0.9116588869717235 \n",
      " apur:0.7174314102669126 \n",
      " f1:0.6114760691781741 \n",
      " precision:0.4835665818490246 \n",
      " recall:0.8313889901567627 \n",
      "}\n",
      "=====Epoch 38\n",
      "Training...\n"
     ]
    },
    {
     "name": "stderr",
     "output_type": "stream",
     "text": [
      "Iteration: 100%|██████████| 392/392 [00:32<00:00, 12.14it/s]\n",
      "Iteration:  18%|█▊        | 72/392 [00:06<00:25, 12.44it/s]]"
     ]
    },
    {
     "name": "stdout",
     "output_type": "stream",
     "text": [
      "Evaluating...\n"
     ]
    },
    {
     "name": "stderr",
     "output_type": "stream",
     "text": [
      "Iteration: 100%|██████████| 392/392 [00:32<00:00, 12.19it/s]\n",
      "Iteration:  11%|█         | 42/392 [00:01<00:15, 22.54it/s]]"
     ]
    },
    {
     "name": "stdout",
     "output_type": "stream",
     "text": [
      "Evaluating...\n"
     ]
    },
    {
     "name": "stderr",
     "output_type": "stream",
     "text": [
      "Iteration: 100%|██████████| 392/392 [00:33<00:00, 11.85it/s]\n",
      "Iteration:   0%|          | 0/392 [00:00<?, ?it/s]"
     ]
    },
    {
     "name": "stdout",
     "output_type": "stream",
     "text": [
      "Evaluating...\n"
     ]
    },
    {
     "name": "stderr",
     "output_type": "stream",
     "text": [
      "Iteration: 100%|██████████| 392/392 [00:17<00:00, 22.32it/s]\n",
      "Iteration: 100%|██████████| 392/392 [00:32<00:00, 12.03it/s]\n",
      "Iteration:  15%|█▌        | 60/392 [00:03<00:16, 19.90it/s]]"
     ]
    },
    {
     "name": "stdout",
     "output_type": "stream",
     "text": [
      "Evaluating...\n"
     ]
    },
    {
     "name": "stderr",
     "output_type": "stream",
     "text": [
      "Iteration: 100%|██████████| 392/392 [00:17<00:00, 21.97it/s]\n",
      "Iteration: 100%|██████████| 109/109 [00:04<00:00, 22.28it/s]\n",
      "Iteration: 100%|██████████| 392/392 [00:32<00:00, 12.14it/s]\n",
      "Iteration: 100%|██████████| 109/109 [00:04<00:00, 21.91it/s]\n",
      "Iteration:  56%|█████▌    | 219/392 [00:10<00:08, 21.41it/s]"
     ]
    },
    {
     "name": "stdout",
     "output_type": "stream",
     "text": [
      "Evaluating...\n"
     ]
    },
    {
     "name": "stderr",
     "output_type": "stream",
     "text": [
      "Iteration: 100%|██████████| 392/392 [00:18<00:00, 21.02it/s]\n",
      "Iteration: 100%|██████████| 392/392 [00:18<00:00, 21.05it/s]\n",
      "Iteration: 100%|██████████| 109/109 [00:05<00:00, 21.60it/s]\n",
      "Iteration: 100%|██████████| 109/109 [00:05<00:00, 21.51it/s]\n",
      "Iteration: 100%|██████████| 392/392 [00:18<00:00, 21.40it/s]\n",
      "Iteration: 100%|██████████| 109/109 [00:05<00:00, 21.44it/s]\n",
      "Iteration: 100%|██████████| 44/44 [00:02<00:00, 21.27it/s]\n",
      "Iteration:  11%|█▏        | 5/44 [00:00<00:02, 18.70it/s]"
     ]
    },
    {
     "name": "stdout",
     "output_type": "stream",
     "text": [
      "{'Train':  best_epoch_indx:38\n",
      " auc:0.9593420573648441 \n",
      " apur:0.840560769798889 \n",
      " f1:0.6875466905722397 \n",
      " precision:0.5446663707649061 \n",
      " recall:0.9320471922628993 \n",
      ", 'Validation':  best_epoch_indx:38\n",
      " auc:0.9121876128721557 \n",
      " apur:0.730918061945985 \n",
      " f1:0.6150218928932301 \n",
      " precision:0.4877136752136752 \n",
      " recall:0.8322698268003647 \n",
      ", 'Test':  best_epoch_indx:38\n",
      " auc:0.9105527049171086 \n",
      " apur:0.7208953989078759 \n",
      " f1:0.6121799124320021 \n",
      " precision:0.4812265331664581 \n",
      " recall:0.8410499453153482 \n",
      "}\n",
      "=====Epoch 39\n",
      "Training...\n"
     ]
    },
    {
     "name": "stderr",
     "output_type": "stream",
     "text": [
      "Iteration: 100%|██████████| 44/44 [00:02<00:00, 21.40it/s]]\n",
      "Iteration:   0%|          | 0/392 [00:00<?, ?it/s]2.40it/s]"
     ]
    },
    {
     "name": "stdout",
     "output_type": "stream",
     "text": [
      "{'Train':  best_epoch_indx:38\n",
      " auc:0.9618665154887986 \n",
      " apur:0.8494312683286227 \n",
      " f1:0.6978373669658751 \n",
      " precision:0.557370602293009 \n",
      " recall:0.9329586308167502 \n",
      ", 'Validation':  best_epoch_indx:38\n",
      " auc:0.9178959182911517 \n",
      " apur:0.7370809687187965 \n",
      " f1:0.6249160510409671 \n",
      " precision:0.4946836788942052 \n",
      " recall:0.8482224247948952 \n",
      ", 'Test':  best_epoch_indx:38\n",
      " auc:0.9140749798210367 \n",
      " apur:0.7268813808916529 \n",
      " f1:0.6249406014527188 \n",
      " precision:0.49789075175770686 \n",
      " recall:0.8390448414145096 \n",
      "}\n",
      "=====Epoch 39\n",
      "Training...\n"
     ]
    },
    {
     "name": "stderr",
     "output_type": "stream",
     "text": [
      "Iteration: 100%|██████████| 44/44 [00:02<00:00, 20.12it/s]s]\n",
      "Iteration:  47%|████▋     | 184/392 [00:14<00:16, 12.43it/s]"
     ]
    },
    {
     "name": "stdout",
     "output_type": "stream",
     "text": [
      "{'Train':  best_epoch_indx:38\n",
      " auc:0.9644111785761553 \n",
      " apur:0.8584404166270073 \n",
      " f1:0.6968208742595787 \n",
      " precision:0.5532009881246466 \n",
      " recall:0.9411615778014076 \n",
      ", 'Validation':  best_epoch_indx:38\n",
      " auc:0.9138813569130538 \n",
      " apur:0.7369768403973735 \n",
      " f1:0.6120345744680851 \n",
      " precision:0.48181104422925936 \n",
      " recall:0.8387243735763098 \n",
      ", 'Test':  best_epoch_indx:38\n",
      " auc:0.9147154308913183 \n",
      " apur:0.7346823225136672 \n",
      " f1:0.6193617163035513 \n",
      " precision:0.4880302393952121 \n",
      " recall:0.8474020054694622 \n",
      "}\n",
      "=====Epoch 39\n",
      "Training...\n"
     ]
    },
    {
     "name": "stderr",
     "output_type": "stream",
     "text": [
      "Iteration: 100%|██████████| 44/44 [00:02<00:00, 19.05it/s]]]\n",
      "Iteration:  11%|█         | 44/392 [00:03<00:29, 11.70it/s]]"
     ]
    },
    {
     "name": "stdout",
     "output_type": "stream",
     "text": [
      "{'Train':  best_epoch_indx:37\n",
      " auc:0.9609318936223806 \n",
      " apur:0.8489354179667558 \n",
      " f1:0.6997246232693337 \n",
      " precision:0.5621792705036414 \n",
      " recall:0.9263760190389386 \n",
      ", 'Validation':  best_epoch_indx:37\n",
      " auc:0.9127886328484034 \n",
      " apur:0.7307826995924901 \n",
      " f1:0.6235557854802553 \n",
      " precision:0.5015256588072122 \n",
      " recall:0.8240656335460347 \n",
      ", 'Test':  best_epoch_indx:37\n",
      " auc:0.911962636718341 \n",
      " apur:0.7282014313576018 \n",
      " f1:0.6244523548740416 \n",
      " precision:0.5 \n",
      " recall:0.8313889901567627 \n",
      "}\n",
      "=====Epoch 38\n",
      "Training...\n"
     ]
    },
    {
     "name": "stderr",
     "output_type": "stream",
     "text": [
      "Iteration: 100%|██████████| 44/44 [00:02<00:00, 21.21it/s]s]\n",
      "Iteration:  85%|████████▌ | 334/392 [00:26<00:04, 12.34it/s]"
     ]
    },
    {
     "name": "stdout",
     "output_type": "stream",
     "text": [
      "{'Train':  best_epoch_indx:38\n",
      " auc:0.9595670497210795 \n",
      " apur:0.8423476432698129 \n",
      " f1:0.6987947189913196 \n",
      " precision:0.56211850299032 \n",
      " recall:0.9232872550508886 \n",
      ", 'Validation':  best_epoch_indx:38\n",
      " auc:0.9152532468376918 \n",
      " apur:0.7306672322368303 \n",
      " f1:0.6296866974833077 \n",
      " precision:0.5042500685494927 \n",
      " recall:0.8381950774840474 \n",
      ", 'Test':  best_epoch_indx:38\n",
      " auc:0.91413699227126 \n",
      " apur:0.7268009249880716 \n",
      " f1:0.626344827586207 \n",
      " precision:0.5037719103616597 \n",
      " recall:0.8277433467006927 \n",
      "}\n",
      "=====Epoch 39\n",
      "Training...\n"
     ]
    },
    {
     "name": "stderr",
     "output_type": "stream",
     "text": [
      "Iteration: 100%|██████████| 392/392 [00:31<00:00, 12.40it/s]\n",
      "Iteration:   0%|          | 0/392 [00:00<?, ?it/s]"
     ]
    },
    {
     "name": "stdout",
     "output_type": "stream",
     "text": [
      "Evaluating...\n"
     ]
    },
    {
     "name": "stderr",
     "output_type": "stream",
     "text": [
      "Iteration: 100%|██████████| 392/392 [00:31<00:00, 12.44it/s]\n",
      "Iteration:  10%|█         | 40/392 [00:01<00:15, 22.23it/s]]"
     ]
    },
    {
     "name": "stdout",
     "output_type": "stream",
     "text": [
      "Evaluating...\n"
     ]
    },
    {
     "name": "stderr",
     "output_type": "stream",
     "text": [
      "Iteration: 100%|██████████| 392/392 [00:32<00:00, 12.13it/s]\n",
      "Iteration:  88%|████████▊ | 346/392 [00:15<00:02, 22.24it/s]"
     ]
    },
    {
     "name": "stdout",
     "output_type": "stream",
     "text": [
      "Evaluating...\n"
     ]
    },
    {
     "name": "stderr",
     "output_type": "stream",
     "text": [
      "Iteration: 100%|██████████| 392/392 [00:18<00:00, 21.48it/s]\n",
      "Iteration: 100%|██████████| 392/392 [00:17<00:00, 21.96it/s]\n",
      "Iteration: 100%|██████████| 392/392 [00:31<00:00, 12.35it/s]\n",
      "Iteration:  79%|███████▉  | 310/392 [00:25<00:06, 12.28it/s]"
     ]
    },
    {
     "name": "stdout",
     "output_type": "stream",
     "text": [
      "Evaluating...\n"
     ]
    },
    {
     "name": "stderr",
     "output_type": "stream",
     "text": [
      "Iteration: 100%|██████████| 109/109 [00:06<00:00, 17.96it/s]\n",
      "Iteration: 100%|██████████| 109/109 [00:05<00:00, 20.18it/s]\n",
      "Iteration: 100%|██████████| 392/392 [00:31<00:00, 12.40it/s]\n",
      "Iteration:   1%|          | 3/392 [00:00<00:18, 21.16it/s]s]"
     ]
    },
    {
     "name": "stdout",
     "output_type": "stream",
     "text": [
      "Evaluating...\n"
     ]
    },
    {
     "name": "stderr",
     "output_type": "stream",
     "text": [
      "Iteration: 100%|██████████| 392/392 [00:18<00:00, 21.56it/s]\n",
      "Iteration: 100%|██████████| 392/392 [00:18<00:00, 21.57it/s]\n",
      "Iteration: 100%|██████████| 109/109 [00:05<00:00, 21.76it/s]\n",
      "Iteration: 100%|██████████| 109/109 [00:04<00:00, 21.82it/s]\n",
      "Iteration: 100%|██████████| 392/392 [00:18<00:00, 20.86it/s]\n",
      "Iteration: 100%|██████████| 109/109 [00:05<00:00, 21.79it/s]\n",
      "Iteration: 100%|██████████| 44/44 [00:02<00:00, 21.70it/s]\n",
      "Iteration:  80%|███████▉  | 35/44 [00:01<00:00, 21.45it/s]"
     ]
    },
    {
     "name": "stdout",
     "output_type": "stream",
     "text": [
      "{'Train':  best_epoch_indx:39\n",
      " auc:0.9644333432329202 \n",
      " apur:0.8561106726063571 \n",
      " f1:0.7094733209348698 \n",
      " precision:0.5709084176746483 \n",
      " recall:0.9368575624082232 \n",
      ", 'Validation':  best_epoch_indx:39\n",
      " auc:0.9146225680966499 \n",
      " apur:0.7346053714206409 \n",
      " f1:0.6271596406357982 \n",
      " precision:0.505008347245409 \n",
      " recall:0.8272561531449407 \n",
      ", 'Test':  best_epoch_indx:39\n",
      " auc:0.9133346355725676 \n",
      " apur:0.7298074780635012 \n",
      " f1:0.6211822325011904 \n",
      " precision:0.49549647314161693 \n",
      " recall:0.8323004010207802 \n",
      "}\n",
      "=====Epoch 40\n",
      "Training...\n"
     ]
    },
    {
     "name": "stderr",
     "output_type": "stream",
     "text": [
      "Iteration: 100%|██████████| 44/44 [00:02<00:00, 21.23it/s]\n",
      "Iteration:   2%|▏         | 6/392 [00:00<00:31, 12.09it/s]"
     ]
    },
    {
     "name": "stdout",
     "output_type": "stream",
     "text": [
      "{'Train':  best_epoch_indx:39\n",
      " auc:0.9669907850302236 \n",
      " apur:0.8659081345730868 \n",
      " f1:0.718748785700408 \n",
      " precision:0.583115286403329 \n",
      " recall:0.9366043850321535 \n",
      ", 'Validation':  best_epoch_indx:39\n",
      " auc:0.9210650642823313 \n",
      " apur:0.74677977604358 \n",
      " f1:0.6368312757201645 \n",
      " precision:0.5104452996151732 \n",
      " recall:0.8463992707383774 \n",
      ", 'Test':  best_epoch_indx:39\n",
      " auc:0.9181254207124764 \n",
      " apur:0.7388511299361088 \n",
      " f1:0.6405748569833961 \n",
      " precision:0.518874321880651 \n",
      " recall:0.8368574553408676 \n",
      "}\n",
      "=====Epoch 40\n",
      "Training...\n"
     ]
    },
    {
     "name": "stderr",
     "output_type": "stream",
     "text": [
      "Iteration: 100%|██████████| 44/44 [00:03<00:00, 14.47it/s]s]\n",
      "Iteration:  54%|█████▎    | 210/392 [00:16<00:14, 12.75it/s]"
     ]
    },
    {
     "name": "stdout",
     "output_type": "stream",
     "text": [
      "{'Train':  best_epoch_indx:39\n",
      " auc:0.9700921674922168 \n",
      " apur:0.8761756492452201 \n",
      " f1:0.7357584893684546 \n",
      " precision:0.6047869044901686 \n",
      " recall:0.9391361587928503 \n",
      ", 'Validation':  best_epoch_indx:39\n",
      " auc:0.9167142697790199 \n",
      " apur:0.7455010119285179 \n",
      " f1:0.635799183963101 \n",
      " precision:0.5206275421266705 \n",
      " recall:0.8164009111617312 \n",
      ", 'Test':  best_epoch_indx:39\n",
      " auc:0.9176781300722414 \n",
      " apur:0.7448547606751802 \n",
      " f1:0.6398519256780807 \n",
      " precision:0.5248773651016118 \n",
      " recall:0.8193254329990884 \n",
      "}\n",
      "=====Epoch 40\n",
      "Training...\n"
     ]
    },
    {
     "name": "stderr",
     "output_type": "stream",
     "text": [
      "Iteration: 100%|██████████| 44/44 [00:02<00:00, 20.87it/s]s]\n",
      "Iteration:  62%|██████▏   | 244/392 [00:19<00:11, 12.83it/s]"
     ]
    },
    {
     "name": "stdout",
     "output_type": "stream",
     "text": [
      "{'Train':  best_epoch_indx:38\n",
      " auc:0.9668056998955062 \n",
      " apur:0.8666591439772645 \n",
      " f1:0.732398322598768 \n",
      " precision:0.6065470255898969 \n",
      " recall:0.9241480581295255 \n",
      ", 'Validation':  best_epoch_indx:38\n",
      " auc:0.9173426375996789 \n",
      " apur:0.743988148014854 \n",
      " f1:0.650099764193724 \n",
      " precision:0.5399216631515517 \n",
      " recall:0.8167730173199635 \n",
      ", 'Test':  best_epoch_indx:38\n",
      " auc:0.915744679722974 \n",
      " apur:0.7363609051731037 \n",
      " f1:0.6451939779965258 \n",
      " precision:0.5350540216086435 \n",
      " recall:0.8124316441851986 \n",
      "}\n",
      "=====Epoch 39\n",
      "Training...\n"
     ]
    },
    {
     "name": "stderr",
     "output_type": "stream",
     "text": [
      "Iteration: 100%|██████████| 44/44 [00:02<00:00, 20.93it/s]]]\n",
      "Iteration:  28%|██▊       | 110/392 [00:08<00:22, 12.38it/s]"
     ]
    },
    {
     "name": "stdout",
     "output_type": "stream",
     "text": [
      "{'Train':  best_epoch_indx:39\n",
      " auc:0.9658724162954097 \n",
      " apur:0.8632915339834212 \n",
      " f1:0.7115873872484774 \n",
      " precision:0.574451532596857 \n",
      " recall:0.9347308724492379 \n",
      ", 'Validation':  best_epoch_indx:39\n",
      " auc:0.9192514958379148 \n",
      " apur:0.7412250986105433 \n",
      " f1:0.6351886955023264 \n",
      " precision:0.5106677750069272 \n",
      " recall:0.8400182315405652 \n",
      ", 'Test':  best_epoch_indx:39\n",
      " auc:0.9193049828210177 \n",
      " apur:0.7417701015601318 \n",
      " f1:0.6369929392219299 \n",
      " precision:0.5135044642857143 \n",
      " recall:0.8386802770689027 \n",
      "}\n",
      "=====Epoch 40\n",
      "Training...\n"
     ]
    },
    {
     "name": "stderr",
     "output_type": "stream",
     "text": [
      "Iteration: 100%|██████████| 392/392 [00:31<00:00, 12.50it/s]\n",
      "Iteration:   0%|          | 0/392 [00:00<?, ?it/s]"
     ]
    },
    {
     "name": "stdout",
     "output_type": "stream",
     "text": [
      "Evaluating...\n"
     ]
    },
    {
     "name": "stderr",
     "output_type": "stream",
     "text": [
      "Iteration: 100%|██████████| 392/392 [00:31<00:00, 12.54it/s]\n",
      "Iteration:  45%|████▌     | 178/392 [00:14<00:17, 12.43it/s]"
     ]
    },
    {
     "name": "stdout",
     "output_type": "stream",
     "text": [
      "Evaluating...\n"
     ]
    },
    {
     "name": "stderr",
     "output_type": "stream",
     "text": [
      "Iteration: 100%|██████████| 392/392 [00:32<00:00, 12.24it/s]\n",
      "Iteration:  99%|█████████▉| 389/392 [00:17<00:00, 21.47it/s]"
     ]
    },
    {
     "name": "stdout",
     "output_type": "stream",
     "text": [
      "Evaluating...\n"
     ]
    },
    {
     "name": "stderr",
     "output_type": "stream",
     "text": [
      "Iteration: 100%|██████████| 392/392 [00:17<00:00, 21.90it/s]\n",
      "Iteration: 100%|██████████| 392/392 [00:18<00:00, 21.18it/s]\n",
      "Iteration: 100%|██████████| 392/392 [00:32<00:00, 12.14it/s]\n",
      "Iteration:  30%|███       | 33/109 [00:01<00:03, 22.43it/s]"
     ]
    },
    {
     "name": "stdout",
     "output_type": "stream",
     "text": [
      "Evaluating...\n"
     ]
    },
    {
     "name": "stderr",
     "output_type": "stream",
     "text": [
      "Iteration: 100%|██████████| 109/109 [00:04<00:00, 22.45it/s]\n",
      "Iteration: 100%|██████████| 109/109 [00:04<00:00, 22.50it/s]\n",
      "Iteration: 100%|██████████| 392/392 [00:31<00:00, 12.41it/s]\n",
      "Iteration:  47%|████▋     | 183/392 [00:08<00:09, 21.67it/s]"
     ]
    },
    {
     "name": "stdout",
     "output_type": "stream",
     "text": [
      "Evaluating...\n"
     ]
    },
    {
     "name": "stderr",
     "output_type": "stream",
     "text": [
      "Iteration: 100%|██████████| 44/44 [00:01<00:00, 22.36it/s]s]\n",
      "Iteration:  95%|█████████▌| 42/44 [00:01<00:00, 22.19it/s]s]"
     ]
    },
    {
     "name": "stdout",
     "output_type": "stream",
     "text": [
      "{'Train':  best_epoch_indx:40\n",
      " auc:0.9643423019731803 \n",
      " apur:0.8553749446097558 \n",
      " f1:0.7091680912775397 \n",
      " precision:0.5713047784104976 \n",
      " recall:0.9347308724492379 \n",
      ", 'Validation':  best_epoch_indx:40\n",
      " auc:0.9165769003108925 \n",
      " apur:0.7327029894703363 \n",
      " f1:0.6244035446489434 \n",
      " precision:0.4986390854654328 \n",
      " recall:0.8350045578851413 \n",
      ", 'Test':  best_epoch_indx:40\n",
      " auc:0.9146042484827301 \n",
      " apur:0.7288452934419303 \n",
      " f1:0.6323783224024853 \n",
      " precision:0.5089454383820424 \n",
      " recall:0.8348523514400291 \n",
      "}\n",
      "=====Epoch 41\n",
      "Training...\n"
     ]
    },
    {
     "name": "stderr",
     "output_type": "stream",
     "text": [
      "Iteration: 100%|██████████| 44/44 [00:01<00:00, 22.33it/s]]\n",
      "Iteration:   1%|          | 2/392 [00:00<00:33, 11.56it/s]s]"
     ]
    },
    {
     "name": "stdout",
     "output_type": "stream",
     "text": [
      "{'Train':  best_epoch_indx:40\n",
      " auc:0.9651839448983776 \n",
      " apur:0.8591890961664506 \n",
      " f1:0.7032011791828868 \n",
      " precision:0.5609454611233381 \n",
      " recall:0.9421236518304724 \n",
      ", 'Validation':  best_epoch_indx:40\n",
      " auc:0.9151432535119627 \n",
      " apur:0.7366212965366414 \n",
      " f1:0.6283276450511944 \n",
      " precision:0.5021822149481724 \n",
      " recall:0.8391066545123063 \n",
      ", 'Test':  best_epoch_indx:40\n",
      " auc:0.9125376141545463 \n",
      " apur:0.7276688239112681 \n",
      " f1:0.619245738827003 \n",
      " precision:0.4900169923534409 \n",
      " recall:0.8410499453153482 \n",
      "}\n",
      "=====Epoch 41\n",
      "Training...\n"
     ]
    },
    {
     "name": "stderr",
     "output_type": "stream",
     "text": [
      "Iteration: 100%|██████████| 392/392 [00:18<00:00, 21.35it/s]\n",
      "Iteration: 100%|██████████| 392/392 [00:18<00:00, 21.27it/s]\n",
      "Iteration: 100%|██████████| 109/109 [00:05<00:00, 19.10it/s]\n",
      "Iteration: 100%|██████████| 392/392 [00:18<00:00, 20.94it/s]\n",
      "Iteration: 100%|██████████| 109/109 [00:04<00:00, 21.89it/s]\n",
      "Iteration: 100%|██████████| 44/44 [00:02<00:00, 20.83it/s]s]\n"
     ]
    },
    {
     "name": "stdout",
     "output_type": "stream",
     "text": [
      "{'Train':  best_epoch_indx:40\n",
      " auc:0.9695456141574117 \n",
      " apur:0.8734250918141697 \n",
      " f1:0.7338434699865197 \n",
      " precision:0.6029972308193516 \n",
      " recall:0.9372120107347207 \n",
      ", 'Validation':  best_epoch_indx:40\n",
      " auc:0.9166167082101845 \n",
      " apur:0.7446273925103897 \n",
      " f1:0.6348086757185681 \n",
      " precision:0.5178365937859609 \n",
      " recall:0.8200455580865603 \n",
      ", 'Test':  best_epoch_indx:40\n",
      " auc:0.9165700370403685 \n",
      " apur:0.7400275402472386 \n",
      " f1:0.6393267241994152 \n",
      " precision:0.5250702905342081 \n",
      " recall:0.8171376481312671 \n",
      "}\n",
      "=====Epoch 41\n",
      "Training...\n"
     ]
    },
    {
     "name": "stderr",
     "output_type": "stream",
     "text": [
      "Iteration: 100%|██████████| 109/109 [00:04<00:00, 21.82it/s]\n",
      "Iteration: 100%|██████████| 44/44 [00:02<00:00, 21.18it/s]]]\n",
      "Iteration:  87%|████████▋ | 340/392 [00:27<00:04, 12.63it/s]"
     ]
    },
    {
     "name": "stdout",
     "output_type": "stream",
     "text": [
      "{'Train':  best_epoch_indx:40\n",
      " auc:0.9655785649202417 \n",
      " apur:0.8610007119932764 \n",
      " f1:0.7074317251879341 \n",
      " precision:0.566715453104037 \n",
      " recall:0.9411109423261937 \n",
      ", 'Validation':  best_epoch_indx:40\n",
      " auc:0.9170712829744008 \n",
      " apur:0.734732028679982 \n",
      " f1:0.6299694189602446 \n",
      " precision:0.5021668472372698 \n",
      " recall:0.845031905195989 \n",
      ", 'Test':  best_epoch_indx:40\n",
      " auc:0.9181637846028903 \n",
      " apur:0.7379679229558518 \n",
      " f1:0.6279054008267263 \n",
      " precision:0.4997303419264373 \n",
      " recall:0.8445133065986147 \n",
      "}\n",
      "=====Epoch 41\n",
      "Training...\n"
     ]
    },
    {
     "name": "stderr",
     "output_type": "stream",
     "text": [
      "Iteration: 100%|██████████| 392/392 [00:31<00:00, 12.57it/s]\n",
      "Iteration:  37%|███▋      | 146/392 [00:12<00:20, 12.02it/s]"
     ]
    },
    {
     "name": "stdout",
     "output_type": "stream",
     "text": [
      "Evaluating...\n"
     ]
    },
    {
     "name": "stderr",
     "output_type": "stream",
     "text": [
      "Iteration: 100%|██████████| 392/392 [00:31<00:00, 12.53it/s]\n",
      "Iteration:  39%|███▉      | 152/392 [00:12<00:19, 12.21it/s]"
     ]
    },
    {
     "name": "stdout",
     "output_type": "stream",
     "text": [
      "Evaluating...\n"
     ]
    },
    {
     "name": "stderr",
     "output_type": "stream",
     "text": [
      "Iteration: 100%|██████████| 392/392 [00:17<00:00, 22.24it/s]\n",
      "Iteration: 100%|██████████| 392/392 [00:18<00:00, 21.60it/s]\n",
      "Iteration: 100%|██████████| 392/392 [00:31<00:00, 12.28it/s]\n",
      "Iteration:  77%|███████▋  | 300/392 [00:24<00:07, 12.52it/s]"
     ]
    },
    {
     "name": "stdout",
     "output_type": "stream",
     "text": [
      "Evaluating...\n"
     ]
    },
    {
     "name": "stderr",
     "output_type": "stream",
     "text": [
      "Iteration: 100%|██████████| 44/44 [00:02<00:00, 20.76it/s]]]\n",
      "Iteration:  69%|██████▉   | 75/109 [00:04<00:01, 21.77it/s]]"
     ]
    },
    {
     "name": "stdout",
     "output_type": "stream",
     "text": [
      "{'Train':  best_epoch_indx:39\n",
      " auc:0.9705920288855291 \n",
      " apur:0.8793826279733482 \n",
      " f1:0.7359376243137878 \n",
      " precision:0.6060208995315622 \n",
      " recall:0.9367562914577954 \n",
      ", 'Validation':  best_epoch_indx:39\n",
      " auc:0.9191753143430542 \n",
      " apur:0.7480831491257477 \n",
      " f1:0.6504329004329005 \n",
      " precision:0.5382089552238806 \n",
      " recall:0.8217866909753874 \n",
      ", 'Test':  best_epoch_indx:39\n",
      " auc:0.9186749025636015 \n",
      " apur:0.7447207726968956 \n",
      " f1:0.6468353523044943 \n",
      " precision:0.533018310691081 \n",
      " recall:0.8224571636893911 \n",
      "}\n",
      "=====Epoch 40\n",
      "Training...\n"
     ]
    },
    {
     "name": "stderr",
     "output_type": "stream",
     "text": [
      "Iteration: 100%|██████████| 109/109 [00:05<00:00, 19.94it/s]\n",
      "Iteration: 100%|██████████| 109/109 [00:05<00:00, 19.70it/s]\n",
      "Iteration: 100%|██████████| 44/44 [00:01<00:00, 22.37it/s]]]\n",
      "Iteration:  38%|███▊      | 147/392 [00:07<00:11, 20.95it/s]"
     ]
    },
    {
     "name": "stdout",
     "output_type": "stream",
     "text": [
      "{'Train':  best_epoch_indx:41\n",
      " auc:0.963464606832128 \n",
      " apur:0.8551255394943166 \n",
      " f1:0.7099893627308772 \n",
      " precision:0.5743835273501064 \n",
      " recall:0.9294141475517748 \n",
      ", 'Validation':  best_epoch_indx:41\n",
      " auc:0.9141441055197604 \n",
      " apur:0.7328439800932419 \n",
      " f1:0.6301369863013699 \n",
      " precision:0.5085362440526169 \n",
      " recall:0.8281677301731997 \n",
      ", 'Test':  best_epoch_indx:41\n",
      " auc:0.9107718025854539 \n",
      " apur:0.7263362140534806 \n",
      " f1:0.619405558237363 \n",
      " precision:0.49816971713810315 \n",
      " recall:0.8186292380605177 \n",
      "}\n",
      "=====Epoch 42\n",
      "Training...\n"
     ]
    },
    {
     "name": "stderr",
     "output_type": "stream",
     "text": [
      "\r",
      "Iteration:  99%|█████████▉| 390/392 [00:31<00:00, 12.68it/s]\r",
      "Iteration:  95%|█████████▌| 42/44 [00:01<00:00, 22.43it/s]\r",
      "Iteration:  12%|█▏        | 48/392 [00:03<00:27, 12.50it/s]\r",
      "Iteration:   1%|          | 2/392 [00:00<00:32, 12.10it/s]\r",
      "Iteration:  38%|███▊      | 150/392 [00:07<00:11, 21.02it/s]\r",
      "Iteration: 100%|██████████| 44/44 [00:01<00:00, 22.22it/s]\n",
      "\r",
      "Iteration: 100%|██████████| 392/392 [00:31<00:00, 12.84it/s]\r",
      "Iteration: 100%|██████████| 392/392 [00:31<00:00, 12.44it/s]\n",
      "\r",
      "Iteration:   0%|          | 0/392 [00:00<?, ?it/s]"
     ]
    },
    {
     "name": "stdout",
     "output_type": "stream",
     "text": [
      "Evaluating...\n",
      "{'Train':  best_epoch_indx:41\n",
      " auc:0.9628212985045285 \n",
      " apur:0.851000127453059 \n",
      " f1:0.6979368452727991 \n",
      " precision:0.5551732391837711 \n",
      " recall:0.9395412425945617 \n",
      ", 'Validation':  best_epoch_indx:41\n",
      " auc:0.9157342473994046 \n",
      " apur:0.7350226980761823 \n",
      " f1:0.6177156177156178 \n",
      " precision:0.4866211962224554 \n",
      " recall:0.8454876937101186 \n",
      ", 'Test':  best_epoch_indx:41\n",
      " auc:0.9119655967450132 \n",
      " apur:0.7214091387628262 \n",
      " f1:0.621743520700101 \n",
      " precision:0.49290212402604333 \n",
      " recall:0.8417790740065622 \n",
      "}\n",
      "=====Epoch 42\n",
      "Training...\n"
     ]
    },
    {
     "name": "stderr",
     "output_type": "stream",
     "text": [
      "Iteration: 100%|██████████| 392/392 [00:19<00:00, 20.60it/s]\n",
      "Iteration: 100%|██████████| 392/392 [00:17<00:00, 21.86it/s]\n",
      "Iteration: 100%|██████████| 109/109 [00:05<00:00, 18.78it/s]\n",
      "Iteration: 100%|██████████| 44/44 [00:02<00:00, 18.84it/s]]]\n",
      "Iteration:  68%|██████▊   | 268/392 [00:21<00:09, 12.84it/s]"
     ]
    },
    {
     "name": "stdout",
     "output_type": "stream",
     "text": [
      "{'Train':  best_epoch_indx:41\n",
      " auc:0.9654885693146538 \n",
      " apur:0.858561230153873 \n",
      " f1:0.72274573197177 \n",
      " precision:0.591761629596152 \n",
      " recall:0.9281988961466403 \n",
      ", 'Validation':  best_epoch_indx:41\n",
      " auc:0.9128757367963741 \n",
      " apur:0.7326488794709307 \n",
      " f1:0.6328042328042328 \n",
      " precision:0.5162589928057554 \n",
      " recall:0.8173120728929385 \n",
      ", 'Test':  best_epoch_indx:41\n",
      " auc:0.9143360221946855 \n",
      " apur:0.7317893390956858 \n",
      " f1:0.6338396326386435 \n",
      " precision:0.5174163783160323 \n",
      " recall:0.8178669097538742 \n",
      "}\n",
      "=====Epoch 42\n",
      "Training...\n"
     ]
    },
    {
     "name": "stderr",
     "output_type": "stream",
     "text": [
      "Iteration: 100%|██████████| 109/109 [00:05<00:00, 19.26it/s]\n",
      "Iteration: 100%|██████████| 44/44 [00:02<00:00, 21.67it/s]s]\n",
      "Iteration:   0%|          | 0/392 [00:00<?, ?it/s]11.81it/s]"
     ]
    },
    {
     "name": "stdout",
     "output_type": "stream",
     "text": [
      "{'Train':  best_epoch_indx:41\n",
      " auc:0.9632845923356348 \n",
      " apur:0.8549689237524742 \n",
      " f1:0.7042898871685217 \n",
      " precision:0.5652773521299418 \n",
      " recall:0.9339713403210289 \n",
      ", 'Validation':  best_epoch_indx:41\n",
      " auc:0.9158019969116291 \n",
      " apur:0.7324978390283498 \n",
      " f1:0.6281637506369967 \n",
      " precision:0.5006769564040076 \n",
      " recall:0.8427529626253418 \n",
      ", 'Test':  best_epoch_indx:41\n",
      " auc:0.9159710795328954 \n",
      " apur:0.7336225165730328 \n",
      " f1:0.627453662540182 \n",
      " precision:0.5021346469622332 \n",
      " recall:0.8361283266496536 \n",
      "}\n",
      "=====Epoch 42\n",
      "Training...\n"
     ]
    },
    {
     "name": "stderr",
     "output_type": "stream",
     "text": [
      "Iteration: 100%|██████████| 392/392 [00:31<00:00, 12.38it/s]\n",
      "Iteration:   1%|          | 3/392 [00:00<00:18, 21.35it/s]s]"
     ]
    },
    {
     "name": "stdout",
     "output_type": "stream",
     "text": [
      "Evaluating...\n"
     ]
    },
    {
     "name": "stderr",
     "output_type": "stream",
     "text": [
      "Iteration: 100%|██████████| 392/392 [00:31<00:00, 12.53it/s]\n",
      "Iteration:  12%|█▏        | 46/392 [00:03<00:28, 12.03it/s]]"
     ]
    },
    {
     "name": "stdout",
     "output_type": "stream",
     "text": [
      "Evaluating...\n"
     ]
    },
    {
     "name": "stderr",
     "output_type": "stream",
     "text": [
      "\r",
      "Iteration:   1%|          | 2/392 [00:00<00:21, 18.43it/s]\r",
      "Iteration:  20%|█▉        | 78/392 [00:03<00:14, 22.01it/s]\r",
      "Iteration:  99%|█████████▉| 390/392 [00:31<00:00, 12.02it/s]\r",
      "Iteration:  30%|███       | 119/392 [00:09<00:22, 11.96it/s]\r",
      "Iteration:  12%|█▏        | 48/392 [00:03<00:28, 12.17it/s]\r",
      "Iteration:   1%|          | 4/392 [00:00<00:20, 18.65it/s]\r",
      "Iteration:  21%|██        | 81/392 [00:03<00:14, 21.99it/s]\r",
      "Iteration: 100%|██████████| 392/392 [00:31<00:00, 12.37it/s]\r",
      "Iteration: 100%|██████████| 392/392 [00:31<00:00, 12.56it/s]\n",
      "\r",
      "Iteration:   0%|          | 0/392 [00:00<?, ?it/s]"
     ]
    },
    {
     "name": "stdout",
     "output_type": "stream",
     "text": [
      "Evaluating...\n"
     ]
    },
    {
     "name": "stderr",
     "output_type": "stream",
     "text": [
      "Iteration: 100%|██████████| 392/392 [00:18<00:00, 21.13it/s]\n",
      "Iteration: 100%|██████████| 392/392 [00:17<00:00, 21.89it/s]\n",
      "Iteration: 100%|██████████| 392/392 [00:17<00:00, 22.07it/s]\n",
      "Iteration: 100%|██████████| 109/109 [00:05<00:00, 19.77it/s]\n",
      "Iteration: 100%|██████████| 392/392 [00:32<00:00, 12.18it/s]\n",
      "Iteration:  84%|████████▍ | 330/392 [00:26<00:04, 12.58it/s]"
     ]
    },
    {
     "name": "stdout",
     "output_type": "stream",
     "text": [
      "Evaluating...\n"
     ]
    },
    {
     "name": "stderr",
     "output_type": "stream",
     "text": [
      "Iteration: 100%|██████████| 44/44 [00:02<00:00, 21.30it/s]s]\n",
      "Iteration: 100%|██████████| 109/109 [00:05<00:00, 21.37it/s]\n",
      "Iteration: 100%|██████████| 109/109 [00:05<00:00, 20.18it/s]\n"
     ]
    },
    {
     "name": "stdout",
     "output_type": "stream",
     "text": [
      "{'Train':  best_epoch_indx:40\n",
      " auc:0.9704239369024545 \n",
      " apur:0.8784989836116268 \n",
      " f1:0.7337950138504155 \n",
      " precision:0.6022214283394498 \n",
      " recall:0.9389336168919945 \n",
      ", 'Validation':  best_epoch_indx:40\n",
      " auc:0.9185239751470459 \n",
      " apur:0.7457917876971749 \n",
      " f1:0.6462035541195476 \n",
      " precision:0.5330174711282203 \n",
      " recall:0.8204193254329991 \n",
      ", 'Test':  best_epoch_indx:40\n",
      " auc:0.9166454529859646 \n",
      " apur:0.7402329994608907 \n",
      " f1:0.6431005110732539 \n",
      " precision:0.5266217158800279 \n",
      " recall:0.8257382427998542 \n",
      "}\n",
      "=====Epoch 41\n",
      "Training...\n"
     ]
    },
    {
     "name": "stderr",
     "output_type": "stream",
     "text": [
      "Iteration: 100%|██████████| 44/44 [00:02<00:00, 21.97it/s]]]\n",
      "Iteration:  89%|████████▊ | 39/44 [00:01<00:00, 19.76it/s]]]"
     ]
    },
    {
     "name": "stdout",
     "output_type": "stream",
     "text": [
      "{'Train':  best_epoch_indx:42\n",
      " auc:0.9558749556095443 \n",
      " apur:0.83077228416707 \n",
      " f1:0.6771312884796715 \n",
      " precision:0.5332867377249694 \n",
      " recall:0.9272368221175755 \n",
      ", 'Validation':  best_epoch_indx:42\n",
      " auc:0.912010331485988 \n",
      " apur:0.7221103574948344 \n",
      " f1:0.6095924046488788 \n",
      " precision:0.4756066411238825 \n",
      " recall:0.8486782133090246 \n",
      ", 'Test':  best_epoch_indx:42\n",
      " auc:0.906785491635739 \n",
      " apur:0.7114328087709565 \n",
      " f1:0.6089036544850499 \n",
      " precision:0.47908824759514845 \n",
      " recall:0.8352169157856362 \n",
      "}\n",
      "=====Epoch 43\n",
      "Training...\n"
     ]
    },
    {
     "name": "stderr",
     "output_type": "stream",
     "text": [
      "Iteration: 100%|██████████| 44/44 [00:02<00:00, 20.05it/s]]]\n",
      "Iteration:  27%|██▋       | 105/392 [00:04<00:13, 21.84it/s]"
     ]
    },
    {
     "name": "stdout",
     "output_type": "stream",
     "text": [
      "{'Train':  best_epoch_indx:42\n",
      " auc:0.9605853754577296 \n",
      " apur:0.8438479259448632 \n",
      " f1:0.6809358435386583 \n",
      " precision:0.5327936843911787 \n",
      " recall:0.9431869968099651 \n",
      ", 'Validation':  best_epoch_indx:42\n",
      " auc:0.9116212017798615 \n",
      " apur:0.723807752258597 \n",
      " f1:0.6114965312190287 \n",
      " precision:0.4795336787564767 \n",
      " recall:0.8436645396536008 \n",
      ", 'Test':  best_epoch_indx:42\n",
      " auc:0.9096838813700103 \n",
      " apur:0.7147994814065836 \n",
      " f1:0.6058640373637779 \n",
      " precision:0.4702920443101712 \n",
      " recall:0.8512577469923441 \n",
      "}\n",
      "=====Epoch 43\n",
      "Training...\n"
     ]
    },
    {
     "name": "stderr",
     "output_type": "stream",
     "text": [
      "Iteration: 100%|██████████| 392/392 [00:31<00:00, 12.47it/s]\n",
      "Iteration:   2%|▏         | 6/392 [00:00<00:33, 11.68it/s]]]"
     ]
    },
    {
     "name": "stdout",
     "output_type": "stream",
     "text": [
      "Evaluating...\n"
     ]
    },
    {
     "name": "stderr",
     "output_type": "stream",
     "text": [
      "Iteration: 100%|██████████| 392/392 [00:18<00:00, 21.00it/s]\n",
      "Iteration: 100%|██████████| 392/392 [00:18<00:00, 21.61it/s]\n",
      "Iteration: 100%|██████████| 109/109 [00:05<00:00, 19.27it/s]\n",
      "Iteration: 100%|██████████| 44/44 [00:02<00:00, 21.42it/s]s]\n",
      "Iteration:   1%|          | 2/392 [00:00<00:33, 11.49it/s]]]"
     ]
    },
    {
     "name": "stdout",
     "output_type": "stream",
     "text": [
      "{'Train':  best_epoch_indx:42\n",
      " auc:0.9645365264169445 \n",
      " apur:0.8583763191389219 \n",
      " f1:0.7010849092141942 \n",
      " precision:0.5581681312419399 \n",
      " recall:0.9423768292065421 \n",
      ", 'Validation':  best_epoch_indx:42\n",
      " auc:0.9116841772873815 \n",
      " apur:0.729547769815019 \n",
      " f1:0.6204687236553702 \n",
      " precision:0.4925053533190578 \n",
      " recall:0.8382687927107062 \n",
      ", 'Test':  best_epoch_indx:42\n",
      " auc:0.9127422928780192 \n",
      " apur:0.7276751362944054 \n",
      " f1:0.6217364905889496 \n",
      " precision:0.49346755193831654 \n",
      " recall:0.8401093892433911 \n",
      "}\n",
      "=====Epoch 43\n",
      "Training...\n"
     ]
    },
    {
     "name": "stderr",
     "output_type": "stream",
     "text": [
      "Iteration: 100%|██████████| 109/109 [00:05<00:00, 21.23it/s]\n",
      "Iteration: 100%|██████████| 44/44 [00:02<00:00, 21.54it/s]s]\n",
      "Iteration:  88%|████████▊ | 346/392 [00:27<00:03, 11.89it/s]"
     ]
    },
    {
     "name": "stdout",
     "output_type": "stream",
     "text": [
      "{'Train':  best_epoch_indx:42\n",
      " auc:0.958699336014042 \n",
      " apur:0.8402330677756158 \n",
      " f1:0.6864059590316572 \n",
      " precision:0.5428411534269977 \n",
      " recall:0.9332118081928199 \n",
      ", 'Validation':  best_epoch_indx:42\n",
      " auc:0.9114088081077919 \n",
      " apur:0.7223054325972118 \n",
      " f1:0.6108552631578948 \n",
      " precision:0.47786927431806486 \n",
      " recall:0.8463992707383774 \n",
      ", 'Test':  best_epoch_indx:42\n",
      " auc:0.9124073083506552 \n",
      " apur:0.7247918379172751 \n",
      " f1:0.6133173684560633 \n",
      " precision:0.4828742013197863 \n",
      " recall:0.8403208166241342 \n",
      "}\n",
      "=====Epoch 43\n",
      "Training...\n"
     ]
    },
    {
     "name": "stderr",
     "output_type": "stream",
     "text": [
      "Iteration: 100%|██████████| 392/392 [00:32<00:00, 12.17it/s]\n",
      "Iteration:   7%|▋         | 26/392 [00:02<00:29, 12.22it/s]]"
     ]
    },
    {
     "name": "stdout",
     "output_type": "stream",
     "text": [
      "Evaluating...\n"
     ]
    },
    {
     "name": "stderr",
     "output_type": "stream",
     "text": [
      "Iteration: 100%|██████████| 392/392 [00:31<00:00, 12.45it/s]\n",
      "Iteration:   1%|          | 3/392 [00:00<00:18, 21.27it/s]s]"
     ]
    },
    {
     "name": "stdout",
     "output_type": "stream",
     "text": [
      "Evaluating...\n"
     ]
    },
    {
     "name": "stderr",
     "output_type": "stream",
     "text": [
      "Iteration: 100%|██████████| 392/392 [00:31<00:00, 12.42it/s]\n",
      "Iteration:  25%|██▌       | 98/392 [00:08<00:24, 12.20it/s]"
     ]
    },
    {
     "name": "stdout",
     "output_type": "stream",
     "text": [
      "Evaluating...\n"
     ]
    },
    {
     "name": "stderr",
     "output_type": "stream",
     "text": [
      "Iteration: 100%|██████████| 392/392 [00:19<00:00, 19.84it/s]\n",
      "Iteration: 100%|██████████| 392/392 [00:18<00:00, 21.51it/s]\n",
      "Iteration: 100%|██████████| 392/392 [00:18<00:00, 21.39it/s]\n",
      "Iteration: 100%|██████████| 109/109 [00:04<00:00, 22.82it/s]\n",
      "Iteration: 100%|██████████| 109/109 [00:05<00:00, 21.14it/s]\n",
      "Iteration: 100%|██████████| 392/392 [00:32<00:00, 12.17it/s]\n",
      "Iteration:  90%|████████▉ | 352/392 [00:28<00:03, 12.58it/s]"
     ]
    },
    {
     "name": "stdout",
     "output_type": "stream",
     "text": [
      "Evaluating...\n"
     ]
    },
    {
     "name": "stderr",
     "output_type": "stream",
     "text": [
      "Iteration: 100%|██████████| 109/109 [00:05<00:00, 21.64it/s]\n",
      "Iteration: 100%|██████████| 44/44 [00:02<00:00, 21.73it/s]s]\n",
      "Iteration: 100%|██████████| 44/44 [00:02<00:00, 21.51it/s]]\n",
      "Iteration:  73%|███████▎  | 32/44 [00:01<00:00, 20.34it/s]s]"
     ]
    },
    {
     "name": "stdout",
     "output_type": "stream",
     "text": [
      "{'Train':  best_epoch_indx:43\n",
      " auc:0.9565675456860666 \n",
      " apur:0.8346629705060087 \n",
      " f1:0.6688013314519339 \n",
      " precision:0.5202792085338738 \n",
      " recall:0.9359967593295863 \n",
      ", 'Validation':  best_epoch_indx:43\n",
      " auc:0.9132707870395812 \n",
      " apur:0.729911214107207 \n",
      " f1:0.6066517428845539 \n",
      " precision:0.4672413793103448 \n",
      " recall:0.8646308113035551 \n",
      ", 'Test':  best_epoch_indx:43\n",
      " auc:0.9084745666132109 \n",
      " apur:0.7115097047417751 \n",
      " f1:0.606367771280052 \n",
      " precision:0.47112277867528274 \n",
      " recall:0.8505286183011301 \n",
      "}\n",
      "=====Epoch 44\n",
      "Training...\n",
      "{'Train':  best_epoch_indx:41\n",
      " auc:0.96830561549761 \n",
      " apur:0.8712490414450355 \n",
      " f1:0.7382022927046624 \n",
      " precision:0.6151561181434599 \n",
      " recall:0.9227809002987493 \n",
      ", 'Validation':  best_epoch_indx:41\n",
      " auc:0.9157965853406834 \n",
      " apur:0.7389201331351917 \n",
      " f1:0.6485599708348524 \n",
      " precision:0.5404009720534629 \n",
      " recall:0.8108477666362808 \n",
      ", 'Test':  best_epoch_indx:41\n",
      " auc:0.915132786119924 \n",
      " apur:0.7382744429799244 \n",
      " f1:0.6432432432432433 \n",
      " precision:0.5366894197952219 \n",
      " recall:0.8025884068538097 \n",
      "}\n",
      "=====Epoch 42\n",
      "Training...\n"
     ]
    },
    {
     "name": "stderr",
     "output_type": "stream",
     "text": [
      "Iteration: 100%|██████████| 44/44 [00:02<00:00, 20.28it/s]]]\n",
      "Iteration: 100%|██████████| 392/392 [00:31<00:00, 12.41it/s]\n",
      "Iteration:   3%|▎         | 12/392 [00:00<00:30, 12.58it/s]"
     ]
    },
    {
     "name": "stdout",
     "output_type": "stream",
     "text": [
      "{'Train':  best_epoch_indx:43\n",
      " auc:0.9561177426348325 \n",
      " apur:0.8297290719523704 \n",
      " f1:0.6860021428168643 \n",
      " precision:0.5454980270237952 \n",
      " recall:0.9239961517038837 \n",
      ", 'Validation':  best_epoch_indx:43\n",
      " auc:0.9088354173474829 \n",
      " apur:0.722951068018616 \n",
      " f1:0.6137602179836512 \n",
      " precision:0.48994018488308866 \n",
      " recall:0.821330902461258 \n",
      ", 'Test':  best_epoch_indx:43\n",
      " auc:0.9074788979525872 \n",
      " apur:0.7078978616134733 \n",
      " f1:0.6060646451182939 \n",
      " precision:0.4776762264943797 \n",
      " recall:0.8288370397375137 \n",
      "}\n",
      "=====Epoch 44\n",
      "Training...\n",
      "Evaluating...\n"
     ]
    },
    {
     "name": "stderr",
     "output_type": "stream",
     "text": [
      "Iteration: 100%|██████████| 392/392 [00:18<00:00, 20.89it/s]\n",
      "Iteration: 100%|██████████| 392/392 [00:18<00:00, 20.83it/s]\n",
      "Iteration: 100%|██████████| 109/109 [00:05<00:00, 18.86it/s]\n",
      "Iteration: 100%|██████████| 109/109 [00:04<00:00, 21.92it/s]\n",
      "Iteration: 100%|██████████| 44/44 [00:02<00:00, 19.34it/s]s]\n",
      "Iteration:   0%|          | 0/392 [00:00<?, ?it/s]12.10it/s]"
     ]
    },
    {
     "name": "stdout",
     "output_type": "stream",
     "text": [
      "{'Train':  best_epoch_indx:43\n",
      " auc:0.9590933039788232 \n",
      " apur:0.8387341578447877 \n",
      " f1:0.6991575951071278 \n",
      " precision:0.5636842921383161 \n",
      " recall:0.9203503974884805 \n",
      ", 'Validation':  best_epoch_indx:43\n",
      " auc:0.9079777392722111 \n",
      " apur:0.7156279005576205 \n",
      " f1:0.6162050576294512 \n",
      " precision:0.49502487562189057 \n",
      " recall:0.8159453302961276 \n",
      ", 'Test':  best_epoch_indx:43\n",
      " auc:0.908201957943944 \n",
      " apur:0.7154091596129049 \n",
      " f1:0.6171279445093057 \n",
      " precision:0.49504186866461 \n",
      " recall:0.8191431175934366 \n",
      "}\n",
      "=====Epoch 44\n",
      "Training...\n"
     ]
    },
    {
     "name": "stderr",
     "output_type": "stream",
     "text": [
      "Iteration: 100%|██████████| 44/44 [00:02<00:00, 20.10it/s]s]\n",
      "Iteration:   0%|          | 0/392 [00:00<?, ?it/s]12.15it/s]"
     ]
    },
    {
     "name": "stdout",
     "output_type": "stream",
     "text": [
      "{'Train':  best_epoch_indx:43\n",
      " auc:0.9577544797762785 \n",
      " apur:0.8387118326417766 \n",
      " f1:0.686048692651086 \n",
      " precision:0.5448532697750633 \n",
      " recall:0.9260215707124412 \n",
      ", 'Validation':  best_epoch_indx:43\n",
      " auc:0.911789484856201 \n",
      " apur:0.7176511554060876 \n",
      " f1:0.6161801501251042 \n",
      " precision:0.4859247566429887 \n",
      " recall:0.841841385597083 \n",
      ", 'Test':  best_epoch_indx:43\n",
      " auc:0.9099209711911479 \n",
      " apur:0.7139258255730977 \n",
      " f1:0.6135859705704495 \n",
      " precision:0.48589975524103435 \n",
      " recall:0.8323004010207802 \n",
      "}\n",
      "=====Epoch 44\n",
      "Training...\n"
     ]
    },
    {
     "name": "stderr",
     "output_type": "stream",
     "text": [
      "Iteration: 100%|██████████| 392/392 [00:31<00:00, 12.42it/s]\n",
      "Iteration:  16%|█▋        | 64/392 [00:05<00:26, 12.24it/s]"
     ]
    },
    {
     "name": "stdout",
     "output_type": "stream",
     "text": [
      "Evaluating...\n"
     ]
    },
    {
     "name": "stderr",
     "output_type": "stream",
     "text": [
      "Iteration: 100%|██████████| 392/392 [00:32<00:00, 12.21it/s]\n",
      "Iteration:  11%|█         | 44/392 [00:03<00:27, 12.51it/s]"
     ]
    },
    {
     "name": "stdout",
     "output_type": "stream",
     "text": [
      "Evaluating...\n"
     ]
    },
    {
     "name": "stderr",
     "output_type": "stream",
     "text": [
      "Iteration: 100%|██████████| 392/392 [00:31<00:00, 12.40it/s]\n",
      "Iteration:  13%|█▎        | 50/392 [00:04<00:27, 12.56it/s]"
     ]
    },
    {
     "name": "stdout",
     "output_type": "stream",
     "text": [
      "Evaluating...\n"
     ]
    },
    {
     "name": "stderr",
     "output_type": "stream",
     "text": [
      "Iteration: 100%|██████████| 392/392 [00:17<00:00, 22.35it/s]\n",
      "Iteration: 100%|██████████| 392/392 [00:18<00:00, 21.52it/s]\n",
      "Iteration: 100%|██████████| 392/392 [00:18<00:00, 20.64it/s]\n",
      "Iteration: 100%|██████████| 109/109 [00:04<00:00, 22.14it/s]\n",
      "Iteration: 100%|██████████| 109/109 [00:05<00:00, 21.61it/s]\n",
      "Iteration: 100%|██████████| 109/109 [00:05<00:00, 19.00it/s]\n",
      "Iteration: 100%|██████████| 392/392 [00:32<00:00, 12.21it/s]\n",
      "Iteration:  80%|███████▉  | 35/44 [00:01<00:00, 20.62it/s]"
     ]
    },
    {
     "name": "stdout",
     "output_type": "stream",
     "text": [
      "Evaluating...\n"
     ]
    },
    {
     "name": "stderr",
     "output_type": "stream",
     "text": [
      "Iteration: 100%|██████████| 44/44 [00:02<00:00, 20.67it/s]s]\n",
      "Iteration:  48%|████▊     | 21/44 [00:00<00:01, 21.11it/s]s]"
     ]
    },
    {
     "name": "stdout",
     "output_type": "stream",
     "text": [
      "{'Train':  best_epoch_indx:44\n",
      " auc:0.9495812912609848 \n",
      " apur:0.8115835582329138 \n",
      " f1:0.6816196979898048 \n",
      " precision:0.5496029284030277 \n",
      " recall:0.8971087143652843 \n",
      ", 'Validation':  best_epoch_indx:44\n",
      " auc:0.9034889740290739 \n",
      " apur:0.7049529042614111 \n",
      " f1:0.6115444617784711 \n",
      " precision:0.4934265734265734 \n",
      " recall:0.8040109389243391 \n",
      ", 'Test':  best_epoch_indx:44\n",
      " auc:0.9016393482781448 \n",
      " apur:0.6974582767641467 \n",
      " f1:0.6067446473767015 \n",
      " precision:0.48560166429431734 \n",
      " recall:0.8084214363835217 \n",
      "}\n",
      "=====Epoch 45\n",
      "Training...\n"
     ]
    },
    {
     "name": "stderr",
     "output_type": "stream",
     "text": [
      "Iteration: 100%|██████████| 44/44 [00:01<00:00, 22.10it/s]]]\n",
      "Iteration:   6%|▌         | 24/392 [00:01<00:17, 21.45it/s]]"
     ]
    },
    {
     "name": "stdout",
     "output_type": "stream",
     "text": [
      "{'Train':  best_epoch_indx:44\n",
      " auc:0.9545952987427939 \n",
      " apur:0.8291483980840282 \n",
      " f1:0.6749561200923788 \n",
      " precision:0.5313590877356295 \n",
      " recall:0.9249075902577346 \n",
      ", 'Validation':  best_epoch_indx:44\n",
      " auc:0.9120362147361692 \n",
      " apur:0.7231203773396471 \n",
      " f1:0.6061593612514258 \n",
      " precision:0.4717220390565559 \n",
      " recall:0.8477666362807658 \n",
      ", 'Test':  best_epoch_indx:44\n",
      " auc:0.9075565111985444 \n",
      " apur:0.7123108198652689 \n",
      " f1:0.6112359550561798 \n",
      " precision:0.47946909995852344 \n",
      " recall:0.8428727670433832 \n",
      "}\n",
      "=====Epoch 45\n",
      "Training...\n"
     ]
    },
    {
     "name": "stderr",
     "output_type": "stream",
     "text": [
      "Iteration: 100%|██████████| 44/44 [00:02<00:00, 21.15it/s]s]\n",
      "Iteration: 100%|██████████| 392/392 [00:31<00:00, 12.47it/s]\n",
      "Iteration:   3%|▎         | 10/392 [00:00<00:31, 12.23it/s]"
     ]
    },
    {
     "name": "stdout",
     "output_type": "stream",
     "text": [
      "{'Train':  best_epoch_indx:42\n",
      " auc:0.9649619534502092 \n",
      " apur:0.8609927582880528 \n",
      " f1:0.709270685624497 \n",
      " precision:0.5705521472392638 \n",
      " recall:0.9371107397842928 \n",
      ", 'Validation':  best_epoch_indx:42\n",
      " auc:0.9150294846716205 \n",
      " apur:0.7346531426221479 \n",
      " f1:0.6288074341765616 \n",
      " precision:0.5051147359690351 \n",
      " recall:0.8327256153144941 \n",
      ", 'Test':  best_epoch_indx:42\n",
      " auc:0.9129428497066037 \n",
      " apur:0.7333796041395159 \n",
      " f1:0.6233606557377049 \n",
      " precision:0.4984706139392615 \n",
      " recall:0.8317535545023697 \n",
      "}\n",
      "=====Epoch 43\n",
      "Training...\n",
      "Evaluating...\n"
     ]
    },
    {
     "name": "stderr",
     "output_type": "stream",
     "text": [
      "Iteration: 100%|██████████| 392/392 [00:18<00:00, 21.62it/s]\n",
      "Iteration: 100%|██████████| 392/392 [00:19<00:00, 20.37it/s]\n",
      "Iteration: 100%|██████████| 109/109 [00:05<00:00, 21.46it/s]\n",
      "Iteration: 100%|██████████| 44/44 [00:02<00:00, 21.56it/s]s]\n",
      "Iteration:  83%|████████▎ | 326/392 [00:25<00:05, 12.59it/s]"
     ]
    },
    {
     "name": "stdout",
     "output_type": "stream",
     "text": [
      "{'Train':  best_epoch_indx:44\n",
      " auc:0.9518032484682788 \n",
      " apur:0.8196421254875468 \n",
      " f1:0.7008204120113133 \n",
      " precision:0.5802883337762423 \n",
      " recall:0.8845511165122285 \n",
      ", 'Validation':  best_epoch_indx:44\n",
      " auc:0.9039137642117412 \n",
      " apur:0.7094612712494698 \n",
      " f1:0.6263358087303026 \n",
      " precision:0.5198436560432953 \n",
      " recall:0.7876993166287016 \n",
      ", 'Test':  best_epoch_indx:44\n",
      " auc:0.9061016388248577 \n",
      " apur:0.7067691292091535 \n",
      " f1:0.6216683475003602 \n",
      " precision:0.5138740026199833 \n",
      " recall:0.7866909753874203 \n",
      "}\n",
      "=====Epoch 45\n",
      "Training...\n"
     ]
    },
    {
     "name": "stderr",
     "output_type": "stream",
     "text": [
      "Iteration: 100%|██████████| 109/109 [00:05<00:00, 21.18it/s]\n",
      "Iteration: 100%|██████████| 44/44 [00:02<00:00, 21.58it/s]]]\n",
      "Iteration:   9%|▉         | 35/392 [00:02<00:29, 12.30it/s]]"
     ]
    },
    {
     "name": "stdout",
     "output_type": "stream",
     "text": [
      "{'Train':  best_epoch_indx:44\n",
      " auc:0.9540578619582775 \n",
      " apur:0.8272798823076132 \n",
      " f1:0.691437865468768 \n",
      " precision:0.5597705113333542 \n",
      " recall:0.9040964099448073 \n",
      ", 'Validation':  best_epoch_indx:44\n",
      " auc:0.9094460858610753 \n",
      " apur:0.7189217851327703 \n",
      " f1:0.6202270381836945 \n",
      " precision:0.49806629834254146 \n",
      " recall:0.8217866909753874 \n",
      ", 'Test':  best_epoch_indx:44\n",
      " auc:0.90921190367356 \n",
      " apur:0.7199384305400838 \n",
      " f1:0.6271529182065406 \n",
      " precision:0.5078486730660644 \n",
      " recall:0.8197229310973386 \n",
      "}\n",
      "=====Epoch 45\n",
      "Training...\n"
     ]
    },
    {
     "name": "stderr",
     "output_type": "stream",
     "text": [
      "Iteration: 100%|██████████| 392/392 [00:31<00:00, 12.49it/s]\n",
      "Iteration:  16%|█▌        | 61/392 [00:05<00:26, 12.50it/s]]"
     ]
    },
    {
     "name": "stdout",
     "output_type": "stream",
     "text": [
      "Evaluating...\n"
     ]
    },
    {
     "name": "stderr",
     "output_type": "stream",
     "text": [
      "\r",
      "Iteration:   1%|          | 3/392 [00:00<00:18, 21.38it/s]\r",
      "Iteration:  94%|█████████▍| 370/392 [00:30<00:01, 12.48it/s]\r",
      "Iteration:  99%|█████████▉| 390/392 [00:31<00:00, 12.76it/s]\r",
      "Iteration:   7%|▋         | 28/392 [00:02<00:29, 12.52it/s]\r",
      "Iteration:  16%|█▌        | 63/392 [00:05<00:26, 12.51it/s]\r",
      "Iteration:   2%|▏         | 6/392 [00:00<00:17, 21.85it/s]\r",
      "Iteration:  95%|█████████▍| 372/392 [00:30<00:01, 12.55it/s]\r",
      "Iteration: 100%|██████████| 392/392 [00:31<00:00, 13.05it/s]\r",
      "Iteration: 100%|██████████| 392/392 [00:31<00:00, 12.56it/s]\n",
      "\r",
      "Iteration:   0%|          | 0/392 [00:00<?, ?it/s]"
     ]
    },
    {
     "name": "stdout",
     "output_type": "stream",
     "text": [
      "Evaluating...\n"
     ]
    },
    {
     "name": "stderr",
     "output_type": "stream",
     "text": [
      "Iteration: 100%|██████████| 392/392 [00:32<00:00, 12.20it/s]\n",
      "Iteration:  21%|██        | 83/392 [00:06<00:26, 11.75it/s]"
     ]
    },
    {
     "name": "stdout",
     "output_type": "stream",
     "text": [
      "Evaluating...\n"
     ]
    },
    {
     "name": "stderr",
     "output_type": "stream",
     "text": [
      "Iteration: 100%|██████████| 392/392 [00:19<00:00, 20.29it/s]\n",
      "Iteration: 100%|██████████| 392/392 [00:19<00:00, 20.55it/s]\n",
      "Iteration: 100%|██████████| 392/392 [00:18<00:00, 21.53it/s]\n",
      "Iteration: 100%|██████████| 109/109 [00:04<00:00, 22.44it/s]\n",
      "Iteration: 100%|██████████| 109/109 [00:05<00:00, 20.28it/s]\n",
      "Iteration: 100%|██████████| 109/109 [00:04<00:00, 21.81it/s]\n",
      "Iteration: 100%|██████████| 392/392 [00:32<00:00, 12.24it/s]\n",
      "Iteration:   0%|          | 0/392 [00:00<?, ?it/s]"
     ]
    },
    {
     "name": "stdout",
     "output_type": "stream",
     "text": [
      "Evaluating...\n"
     ]
    },
    {
     "name": "stderr",
     "output_type": "stream",
     "text": [
      "Iteration: 100%|██████████| 44/44 [00:01<00:00, 22.18it/s]]]\n",
      "Iteration:   0%|          | 0/392 [00:00<?, ?it/s]1.53it/s]]"
     ]
    },
    {
     "name": "stdout",
     "output_type": "stream",
     "text": [
      "{'Train':  best_epoch_indx:45\n",
      " auc:0.952140935688779 \n",
      " apur:0.820955656241354 \n",
      " f1:0.6807761476573593 \n",
      " precision:0.5436267988874108 \n",
      " recall:0.9104764798217632 \n",
      ", 'Validation':  best_epoch_indx:45\n",
      " auc:0.9042890265506772 \n",
      " apur:0.7076769670397606 \n",
      " f1:0.6094493541808292 \n",
      " precision:0.4859078590785908 \n",
      " recall:0.817228805834093 \n",
      ", 'Test':  best_epoch_indx:45\n",
      " auc:0.9044320742530055 \n",
      " apur:0.7070269406091104 \n",
      " f1:0.606565143824027 \n",
      " precision:0.4823985359026806 \n",
      " recall:0.8168064163324826 \n",
      "}\n",
      "=====Epoch 46\n",
      "Training...\n"
     ]
    },
    {
     "name": "stderr",
     "output_type": "stream",
     "text": [
      "Iteration: 100%|██████████| 44/44 [00:02<00:00, 20.73it/s]s]\n",
      "Iteration: 100%|██████████| 44/44 [00:02<00:00, 21.08it/s]]]\n",
      "Iteration:   0%|          | 1/392 [00:00<00:41,  9.39it/s]s]"
     ]
    },
    {
     "name": "stdout",
     "output_type": "stream",
     "text": [
      "{'Train':  best_epoch_indx:45\n",
      " auc:0.9577957247411899 \n",
      " apur:0.8376228452413043 \n",
      " f1:0.7081318941531661 \n",
      " precision:0.5801539058458355 \n",
      " recall:0.9085523317636336 \n",
      ", 'Validation':  best_epoch_indx:45\n",
      " auc:0.9117887507283596 \n",
      " apur:0.7232030519334273 \n",
      " f1:0.6240140227870289 \n",
      " precision:0.5069780689262319 \n",
      " recall:0.8113035551504102 \n",
      ", 'Test':  best_epoch_indx:45\n",
      " auc:0.9088060692855889 \n",
      " apur:0.7176834790064947 \n",
      " f1:0.6310349709755061 \n",
      " precision:0.5158564814814814 \n",
      " recall:0.8124316441851986 \n",
      "}\n",
      "=====Epoch 46\n",
      "Training...\n",
      "{'Train':  best_epoch_indx:43\n",
      " auc:0.9600439658944842 \n",
      " apur:0.8451058467344534 \n",
      " f1:0.6905804423487146 \n",
      " precision:0.5476805271124566 \n",
      " recall:0.9343764241227404 \n",
      ", 'Validation':  best_epoch_indx:43\n",
      " auc:0.9098476537903439 \n",
      " apur:0.7294621289256056 \n",
      " f1:0.6214898268034303 \n",
      " precision:0.4924060751398881 \n",
      " recall:0.8422971741112124 \n",
      ", 'Test':  best_epoch_indx:43\n",
      " auc:0.9090605481512185 \n",
      " apur:0.7183468544570752 \n",
      " f1:0.6138481131443125 \n",
      " precision:0.48542351319834626 \n",
      " recall:0.8346700692672256 \n",
      "}\n",
      "=====Epoch 44\n",
      "Training...\n"
     ]
    },
    {
     "name": "stderr",
     "output_type": "stream",
     "text": [
      "Iteration: 100%|██████████| 392/392 [00:31<00:00, 12.46it/s]\n",
      "Iteration:   0%|          | 0/392 [00:00<?, ?it/s]"
     ]
    },
    {
     "name": "stdout",
     "output_type": "stream",
     "text": [
      "Evaluating...\n"
     ]
    },
    {
     "name": "stderr",
     "output_type": "stream",
     "text": [
      "Iteration: 100%|██████████| 392/392 [00:20<00:00, 19.40it/s]\n",
      "Iteration: 100%|██████████| 392/392 [00:18<00:00, 20.99it/s]\n",
      "Iteration: 100%|██████████| 109/109 [00:04<00:00, 22.22it/s]\n",
      "Iteration: 100%|██████████| 109/109 [00:05<00:00, 19.11it/s]\n",
      "Iteration: 100%|██████████| 44/44 [00:02<00:00, 19.90it/s]s]\n",
      "Iteration: 100%|██████████| 44/44 [00:02<00:00, 20.42it/s]\n",
      "Iteration:  88%|████████▊ | 344/392 [00:27<00:03, 12.45it/s]"
     ]
    },
    {
     "name": "stdout",
     "output_type": "stream",
     "text": [
      "{'Train':  best_epoch_indx:45\n",
      " auc:0.9550718382039429 \n",
      " apur:0.8294709533278609 \n",
      " f1:0.7013554187240573 \n",
      " precision:0.5734783168189422 \n",
      " recall:0.9026279811636032 \n",
      ", 'Validation':  best_epoch_indx:45\n",
      " auc:0.9103093782524485 \n",
      " apur:0.7150277593457469 \n",
      " f1:0.6279683377308707 \n",
      " precision:0.511314809510169 \n",
      " recall:0.8135824977210574 \n",
      ", 'Test':  best_epoch_indx:45\n",
      " auc:0.9094214150806897 \n",
      " apur:0.7119741535526931 \n",
      " f1:0.6258522727272728 \n",
      " precision:0.5126832673958576 \n",
      " recall:0.8031352533722202 \n",
      "}\n",
      "=====Epoch 46\n",
      "Training...\n",
      "{'Train':  best_epoch_indx:45\n",
      " auc:0.9590828303165949 \n",
      " apur:0.8432548380898821 \n",
      " f1:0.6943229780600023 \n",
      " precision:0.5558768912295656 \n",
      " recall:0.9246037774064509 \n",
      ", 'Validation':  best_epoch_indx:45\n",
      " auc:0.9109006025207914 \n",
      " apur:0.7280185790372877 \n",
      " f1:0.6222071767095464 \n",
      " precision:0.49501750605978995 \n",
      " recall:0.8373576309794989 \n",
      ", 'Test':  best_epoch_indx:45\n",
      " auc:0.910022299402709 \n",
      " apur:0.7194837666208597 \n",
      " f1:0.6170025103466993 \n",
      " precision:0.49135508969094444 \n",
      " recall:0.8289881494986326 \n",
      "}\n",
      "=====Epoch 46\n",
      "Training...\n"
     ]
    },
    {
     "name": "stderr",
     "output_type": "stream",
     "text": [
      "Iteration: 100%|██████████| 392/392 [00:31<00:00, 12.47it/s]\n",
      "Iteration:   8%|▊         | 30/392 [00:02<00:31, 11.53it/s]]"
     ]
    },
    {
     "name": "stdout",
     "output_type": "stream",
     "text": [
      "Evaluating...\n"
     ]
    },
    {
     "name": "stderr",
     "output_type": "stream",
     "text": [
      "Iteration: 100%|██████████| 392/392 [00:31<00:00, 12.42it/s]\n",
      "Iteration:  11%|█         | 43/392 [00:03<00:28, 12.36it/s]"
     ]
    },
    {
     "name": "stdout",
     "output_type": "stream",
     "text": [
      "Evaluating...\n"
     ]
    },
    {
     "name": "stderr",
     "output_type": "stream",
     "text": [
      "Iteration: 100%|██████████| 392/392 [00:31<00:00, 12.30it/s]\n",
      "Iteration:   2%|▏         | 9/392 [00:00<00:19, 19.29it/s]]"
     ]
    },
    {
     "name": "stdout",
     "output_type": "stream",
     "text": [
      "Evaluating...\n"
     ]
    },
    {
     "name": "stderr",
     "output_type": "stream",
     "text": [
      "Iteration: 100%|██████████| 392/392 [00:18<00:00, 20.97it/s]\n",
      "Iteration: 100%|██████████| 392/392 [00:18<00:00, 21.33it/s]\n",
      "Iteration: 100%|██████████| 392/392 [00:18<00:00, 21.49it/s]\n",
      "Iteration: 100%|██████████| 109/109 [00:05<00:00, 21.02it/s]\n",
      "Iteration: 100%|██████████| 109/109 [00:04<00:00, 22.22it/s]\n",
      "Iteration: 100%|██████████| 109/109 [00:05<00:00, 20.87it/s]\n",
      "Iteration: 100%|██████████| 44/44 [00:02<00:00, 21.96it/s]s]\n",
      "Iteration:  95%|█████████▌| 374/392 [00:30<00:01, 11.87it/s]"
     ]
    },
    {
     "name": "stdout",
     "output_type": "stream",
     "text": [
      "{'Train':  best_epoch_indx:46\n",
      " auc:0.9601343231296028 \n",
      " apur:0.8429642956867334 \n",
      " f1:0.7043139373360087 \n",
      " precision:0.5689305862918056 \n",
      " recall:0.9242493290799534 \n",
      ", 'Validation':  best_epoch_indx:46\n",
      " auc:0.9099250308648319 \n",
      " apur:0.7251174568384016 \n",
      " f1:0.6213151927437641 \n",
      " precision:0.5032495055100311 \n",
      " recall:0.8117593436645396 \n",
      ", 'Test':  best_epoch_indx:46\n",
      " auc:0.908525996954626 \n",
      " apur:0.7192105191899194 \n",
      " f1:0.6166632323648602 \n",
      " precision:0.49476468643227156 \n",
      " recall:0.8182646737149106 \n",
      "}\n",
      "=====Epoch 47\n",
      "Training...\n"
     ]
    },
    {
     "name": "stderr",
     "output_type": "stream",
     "text": [
      "Iteration: 100%|██████████| 44/44 [00:02<00:00, 20.97it/s]s]\n",
      "Iteration:  97%|█████████▋| 380/392 [00:30<00:00, 12.16it/s]"
     ]
    },
    {
     "name": "stdout",
     "output_type": "stream",
     "text": [
      "{'Train':  best_epoch_indx:46\n",
      " auc:0.9627026569873662 \n",
      " apur:0.8504393456764768 \n",
      " f1:0.7023891044662557 \n",
      " precision:0.562501904152576 \n",
      " recall:0.9348827788748797 \n",
      ", 'Validation':  best_epoch_indx:46\n",
      " auc:0.9152243851259827 \n",
      " apur:0.7306404746246519 \n",
      " f1:0.6261284278657809 \n",
      " precision:0.4998640195811803 \n",
      " recall:0.837739288969918 \n",
      ", 'Test':  best_epoch_indx:46\n",
      " auc:0.9122120491690844 \n",
      " apur:0.7203366604452599 \n",
      " f1:0.6251449621393 \n",
      " precision:0.49950942984846836 \n",
      " recall:0.8352169157856362 \n",
      "}\n",
      "=====Epoch 47\n",
      "Training...\n"
     ]
    },
    {
     "name": "stderr",
     "output_type": "stream",
     "text": [
      "Iteration: 100%|██████████| 392/392 [00:31<00:00, 12.37it/s]\n",
      "Iteration:   5%|▌         | 20/392 [00:01<00:30, 12.31it/s]]"
     ]
    },
    {
     "name": "stdout",
     "output_type": "stream",
     "text": [
      "Evaluating...\n"
     ]
    },
    {
     "name": "stderr",
     "output_type": "stream",
     "text": [
      "Iteration: 100%|██████████| 44/44 [00:02<00:00, 14.84it/s]]]\n",
      "Iteration: 100%|██████████| 392/392 [00:32<00:00, 12.13it/s]\n",
      "Iteration:   4%|▎         | 14/392 [00:00<00:17, 21.91it/s]"
     ]
    },
    {
     "name": "stdout",
     "output_type": "stream",
     "text": [
      "{'Train':  best_epoch_indx:44\n",
      " auc:0.9546835144082795 \n",
      " apur:0.829256881465727 \n",
      " f1:0.6870000379118171 \n",
      " precision:0.5490380245417361 \n",
      " recall:0.917565446351714 \n",
      ", 'Validation':  best_epoch_indx:44\n",
      " auc:0.9058035952128154 \n",
      " apur:0.7090394000448018 \n",
      " f1:0.60602946214457 \n",
      " precision:0.4854555433589462 \n",
      " recall:0.8062898814949864 \n",
      ", 'Test':  best_epoch_indx:44\n",
      " auc:0.9086042990941732 \n",
      " apur:0.7153293690080996 \n",
      " f1:0.6155528221948886 \n",
      " precision:0.4923480542195015 \n",
      " recall:0.8209989063069631 \n",
      "}\n",
      "=====Epoch 45\n",
      "Training...\n",
      "Evaluating...\n"
     ]
    },
    {
     "name": "stderr",
     "output_type": "stream",
     "text": [
      "Iteration: 100%|██████████| 392/392 [00:18<00:00, 21.32it/s]\n",
      "Iteration: 100%|██████████| 392/392 [00:18<00:00, 21.18it/s]\n",
      "Iteration: 100%|██████████| 109/109 [00:04<00:00, 22.02it/s]\n",
      "Iteration: 100%|██████████| 109/109 [00:05<00:00, 19.10it/s]\n",
      "Iteration: 100%|██████████| 44/44 [00:02<00:00, 21.95it/s]s]\n",
      "Iteration:  89%|████████▉ | 350/392 [00:28<00:03, 12.46it/s]"
     ]
    },
    {
     "name": "stdout",
     "output_type": "stream",
     "text": [
      "{'Train':  best_epoch_indx:46\n",
      " auc:0.9629672231246141 \n",
      " apur:0.8538609111385991 \n",
      " f1:0.7064716720405344 \n",
      " precision:0.56884561891516 \n",
      " recall:0.9319459213124716 \n",
      ", 'Validation':  best_epoch_indx:46\n",
      " auc:0.9142580002105898 \n",
      " apur:0.726893575817138 \n",
      " f1:0.6199048913043478 \n",
      " precision:0.49404439631835406 \n",
      " recall:0.8318140382862352 \n",
      ", 'Test':  best_epoch_indx:46\n",
      " auc:0.9167600729407898 \n",
      " apur:0.7351057704612864 \n",
      " f1:0.6298866368945379 \n",
      " precision:0.5054581541515051 \n",
      " recall:0.8355814801312431 \n",
      "}\n",
      "=====Epoch 47\n",
      "Training...\n"
     ]
    },
    {
     "name": "stderr",
     "output_type": "stream",
     "text": [
      "Iteration: 100%|██████████| 44/44 [00:02<00:00, 20.66it/s]s]\n",
      "Iteration:   0%|          | 0/392 [00:00<?, ?it/s]11.94it/s]"
     ]
    },
    {
     "name": "stdout",
     "output_type": "stream",
     "text": [
      "{'Train':  best_epoch_indx:46\n",
      " auc:0.9660470629558445 \n",
      " apur:0.8652786431860098 \n",
      " f1:0.7165421724245253 \n",
      " precision:0.5817619002495341 \n",
      " recall:0.9326041824902527 \n",
      ", 'Validation':  best_epoch_indx:46\n",
      " auc:0.9142189958434117 \n",
      " apur:0.7392605805910719 \n",
      " f1:0.6329113924050633 \n",
      " precision:0.5109182530795073 \n",
      " recall:0.8314350797266514 \n",
      ", 'Test':  best_epoch_indx:46\n",
      " auc:0.9136768305044015 \n",
      " apur:0.7320759955218725 \n",
      " f1:0.6264926409330741 \n",
      " precision:0.5058863101244534 \n",
      " recall:0.8226071103008205 \n",
      "}\n",
      "=====Epoch 47\n",
      "Training...\n"
     ]
    },
    {
     "name": "stderr",
     "output_type": "stream",
     "text": [
      "Iteration: 100%|██████████| 392/392 [00:32<00:00, 12.14it/s]\n",
      "Iteration:  96%|█████████▋| 378/392 [00:30<00:01, 12.31it/s]"
     ]
    },
    {
     "name": "stdout",
     "output_type": "stream",
     "text": [
      "Evaluating...\n"
     ]
    },
    {
     "name": "stderr",
     "output_type": "stream",
     "text": [
      "Iteration: 100%|██████████| 392/392 [00:32<00:00, 12.17it/s]\n",
      "Iteration:  13%|█▎        | 52/392 [00:04<00:27, 12.35it/s]]"
     ]
    },
    {
     "name": "stdout",
     "output_type": "stream",
     "text": [
      "Evaluating...\n"
     ]
    },
    {
     "name": "stderr",
     "output_type": "stream",
     "text": [
      "Iteration: 100%|██████████| 392/392 [00:31<00:00, 12.41it/s]\n",
      "Iteration:   0%|          | 0/392 [00:00<?, ?it/s]"
     ]
    },
    {
     "name": "stdout",
     "output_type": "stream",
     "text": [
      "Evaluating...\n"
     ]
    },
    {
     "name": "stderr",
     "output_type": "stream",
     "text": [
      "Iteration: 100%|██████████| 392/392 [00:17<00:00, 22.06it/s]\n",
      "Iteration: 100%|██████████| 392/392 [00:18<00:00, 20.75it/s]\n",
      "Iteration: 100%|██████████| 392/392 [00:18<00:00, 21.17it/s]\n",
      "Iteration: 100%|██████████| 109/109 [00:05<00:00, 20.16it/s]\n",
      "Iteration: 100%|██████████| 109/109 [00:04<00:00, 22.17it/s]\n",
      "Iteration: 100%|██████████| 109/109 [00:04<00:00, 21.85it/s]\n",
      "Iteration: 100%|██████████| 44/44 [00:02<00:00, 21.47it/s]s]\n",
      "Iteration:   0%|          | 0/392 [00:00<?, ?it/s].32it/s]s]"
     ]
    },
    {
     "name": "stdout",
     "output_type": "stream",
     "text": [
      "{'Train':  best_epoch_indx:47\n",
      " auc:0.9697931921843905 \n",
      " apur:0.8765794874545286 \n",
      " f1:0.729428419748717 \n",
      " precision:0.5962391513982642 \n",
      " recall:0.9392374297432782 \n",
      ", 'Validation':  best_epoch_indx:47\n",
      " auc:0.9206347814669217 \n",
      " apur:0.7495157956574667 \n",
      " f1:0.6363478562749523 \n",
      " precision:0.5138772077375946 \n",
      " recall:0.8354603463992707 \n",
      ", 'Test':  best_epoch_indx:47\n",
      " auc:0.9163670209232335 \n",
      " apur:0.735454234946585 \n",
      " f1:0.63954308278099 \n",
      " precision:0.5215041398344066 \n",
      " recall:0.8266496536638717 \n",
      "}\n",
      "=====Epoch 48\n",
      "Training...\n"
     ]
    },
    {
     "name": "stderr",
     "output_type": "stream",
     "text": [
      "Iteration: 100%|██████████| 44/44 [00:02<00:00, 19.93it/s]s]\n",
      "Iteration: 100%|██████████| 392/392 [00:32<00:00, 12.09it/s]\n",
      "Iteration:   1%|          | 3/392 [00:00<00:18, 20.55it/s]s]"
     ]
    },
    {
     "name": "stdout",
     "output_type": "stream",
     "text": [
      "Evaluating...\n",
      "{'Train':  best_epoch_indx:45\n",
      " auc:0.9598039001509073 \n",
      " apur:0.8470776861697216 \n",
      " f1:0.7130766479914172 \n",
      " precision:0.586758214811182 \n",
      " recall:0.9087042381892754 \n",
      ", 'Validation':  best_epoch_indx:45\n",
      " auc:0.9121430198495584 \n",
      " apur:0.726548260928451 \n",
      " f1:0.6344454463480613 \n",
      " precision:0.5249179349447926 \n",
      " recall:0.8017319963536919 \n",
      ", 'Test':  best_epoch_indx:45\n",
      " auc:0.9117832404562264 \n",
      " apur:0.726040371336873 \n",
      " f1:0.6341393618543425 \n",
      " precision:0.5219029674988224 \n",
      " recall:0.8078745898651112 \n",
      "}\n",
      "=====Epoch 46\n",
      "Training...\n"
     ]
    },
    {
     "name": "stderr",
     "output_type": "stream",
     "text": [
      "Iteration: 100%|██████████| 392/392 [00:32<00:00, 12.18it/s]\n",
      "Iteration:   5%|▌         | 20/392 [00:01<00:29, 12.59it/s]"
     ]
    },
    {
     "name": "stdout",
     "output_type": "stream",
     "text": [
      "Evaluating...\n"
     ]
    },
    {
     "name": "stderr",
     "output_type": "stream",
     "text": [
      "Iteration: 100%|██████████| 392/392 [00:18<00:00, 21.35it/s]\n",
      "Iteration: 100%|██████████| 392/392 [00:19<00:00, 20.54it/s]\n",
      "Iteration: 100%|██████████| 109/109 [00:04<00:00, 21.93it/s]\n",
      "Iteration: 100%|██████████| 44/44 [00:02<00:00, 21.86it/s]s]\n",
      "Iteration: 100%|██████████| 109/109 [00:05<00:00, 21.73it/s]\n",
      "Iteration:   0%|          | 0/392 [00:00<?, ?it/s]12.65it/s]"
     ]
    },
    {
     "name": "stdout",
     "output_type": "stream",
     "text": [
      "{'Train':  best_epoch_indx:47\n",
      " auc:0.9662448605321514 \n",
      " apur:0.8643547754466734 \n",
      " f1:0.7149427952999381 \n",
      " precision:0.5781215814971089 \n",
      " recall:0.9366043850321535 \n",
      ", 'Validation':  best_epoch_indx:47\n",
      " auc:0.9174744869600018 \n",
      " apur:0.7414553296168884 \n",
      " f1:0.6308169596690796 \n",
      " precision:0.5072062084257206 \n",
      " recall:0.8340929808568824 \n",
      ", 'Test':  best_epoch_indx:47\n",
      " auc:0.9177322780874118 \n",
      " apur:0.7377200080261044 \n",
      " f1:0.6365335363743339 \n",
      " precision:0.5131123758509095 \n",
      " recall:0.8381334305504922 \n",
      "}\n",
      "=====Epoch 48\n",
      "Training...\n"
     ]
    },
    {
     "name": "stderr",
     "output_type": "stream",
     "text": [
      "Iteration: 100%|██████████| 44/44 [00:02<00:00, 21.71it/s]s]\n",
      "Iteration:   8%|▊         | 30/392 [00:02<00:30, 11.90it/s]"
     ]
    },
    {
     "name": "stdout",
     "output_type": "stream",
     "text": [
      "{'Train':  best_epoch_indx:47\n",
      " auc:0.9721423798820222 \n",
      " apur:0.884324386447096 \n",
      " f1:0.7337428593786681 \n",
      " precision:0.5978576210667261 \n",
      " recall:0.9495670666869208 \n",
      ", 'Validation':  best_epoch_indx:47\n",
      " auc:0.9163090946756084 \n",
      " apur:0.7422006069830416 \n",
      " f1:0.6369047619047619 \n",
      " precision:0.5172021609326131 \n",
      " recall:0.8287015945330296 \n",
      ", 'Test':  best_epoch_indx:47\n",
      " auc:0.9165074886254252 \n",
      " apur:0.7389517207178736 \n",
      " f1:0.63549698584046 \n",
      " precision:0.5162282200204988 \n",
      " recall:0.8264357338195077 \n",
      "}\n",
      "=====Epoch 48\n",
      "Training...\n"
     ]
    },
    {
     "name": "stderr",
     "output_type": "stream",
     "text": [
      "Iteration: 100%|██████████| 392/392 [00:31<00:00, 12.48it/s]\n",
      "Iteration:  82%|████████▏ | 36/44 [00:01<00:00, 21.66it/s]]"
     ]
    },
    {
     "name": "stdout",
     "output_type": "stream",
     "text": [
      "Evaluating...\n"
     ]
    },
    {
     "name": "stderr",
     "output_type": "stream",
     "text": [
      "Iteration: 100%|██████████| 44/44 [00:02<00:00, 20.62it/s]]]\n",
      "Iteration:   3%|▎         | 12/392 [00:00<00:17, 21.78it/s]]"
     ]
    },
    {
     "name": "stdout",
     "output_type": "stream",
     "text": [
      "{'Train':  best_epoch_indx:47\n",
      " auc:0.9676513987671063 \n",
      " apur:0.867840499436993 \n",
      " f1:0.7228411711817363 \n",
      " precision:0.5886416451787476 \n",
      " recall:0.9363005721808699 \n",
      ", 'Validation':  best_epoch_indx:47\n",
      " auc:0.9145833866449982 \n",
      " apur:0.739314454687176 \n",
      " f1:0.6285214348206475 \n",
      " precision:0.5100823629650667 \n",
      " recall:0.8185961713764813 \n",
      ", 'Test':  best_epoch_indx:47\n",
      " auc:0.9142766840698267 \n",
      " apur:0.732729695227085 \n",
      " f1:0.6299135768051297 \n",
      " precision:0.5099300383660573 \n",
      " recall:0.8237331388990157 \n",
      "}\n",
      "=====Epoch 48\n",
      "Training...\n"
     ]
    },
    {
     "name": "stderr",
     "output_type": "stream",
     "text": [
      "Iteration: 100%|██████████| 392/392 [00:31<00:00, 12.37it/s]\n",
      "Iteration:   2%|▏         | 6/392 [00:00<00:32, 11.92it/s]]"
     ]
    },
    {
     "name": "stdout",
     "output_type": "stream",
     "text": [
      "Evaluating...\n"
     ]
    },
    {
     "name": "stderr",
     "output_type": "stream",
     "text": [
      "Iteration: 100%|██████████| 392/392 [00:18<00:00, 20.98it/s]\n",
      "Iteration: 100%|██████████| 392/392 [00:18<00:00, 21.18it/s]\n",
      "Iteration: 100%|██████████| 109/109 [00:04<00:00, 21.99it/s]\n",
      "Iteration: 100%|██████████| 109/109 [00:05<00:00, 18.25it/s]\n",
      "Iteration: 100%|██████████| 392/392 [00:31<00:00, 12.26it/s]\n",
      "Iteration:  87%|████████▋ | 342/392 [00:27<00:04, 12.28it/s]"
     ]
    },
    {
     "name": "stdout",
     "output_type": "stream",
     "text": [
      "Evaluating...\n"
     ]
    },
    {
     "name": "stderr",
     "output_type": "stream",
     "text": [
      "Iteration: 100%|██████████| 44/44 [00:02<00:00, 19.32it/s]]]\n",
      "Iteration:   8%|▊         | 33/392 [00:01<00:16, 21.80it/s]]"
     ]
    },
    {
     "name": "stdout",
     "output_type": "stream",
     "text": [
      "{'Train':  best_epoch_indx:46\n",
      " auc:0.9659740443371281 \n",
      " apur:0.8668660697396862 \n",
      " f1:0.7365814729173914 \n",
      " precision:0.6180631868131868 \n",
      " recall:0.9113372829004001 \n",
      ", 'Validation':  best_epoch_indx:46\n",
      " auc:0.9161540216991411 \n",
      " apur:0.7343149983765871 \n",
      " f1:0.6503822487413761 \n",
      " precision:0.5503313348059324 \n",
      " recall:0.7948951686417502 \n",
      ", 'Test':  best_epoch_indx:46\n",
      " auc:0.9142392947478571 \n",
      " apur:0.7357986854658893 \n",
      " f1:0.6472630568072689 \n",
      " precision:0.5441560054651596 \n",
      " recall:0.7985781990521327 \n",
      "}\n",
      "=====Epoch 47\n",
      "Training...\n"
     ]
    },
    {
     "name": "stderr",
     "output_type": "stream",
     "text": [
      "Iteration: 100%|██████████| 392/392 [00:32<00:00, 12.17it/s]\n",
      "Iteration:  16%|█▌        | 63/392 [00:02<00:15, 21.75it/s]]"
     ]
    },
    {
     "name": "stdout",
     "output_type": "stream",
     "text": [
      "Evaluating...\n"
     ]
    },
    {
     "name": "stderr",
     "output_type": "stream",
     "text": [
      "Iteration: 100%|██████████| 392/392 [00:31<00:00, 12.35it/s]\n",
      "Iteration:  24%|██▎       | 93/392 [00:04<00:13, 21.99it/s]"
     ]
    },
    {
     "name": "stdout",
     "output_type": "stream",
     "text": [
      "Evaluating...\n"
     ]
    },
    {
     "name": "stderr",
     "output_type": "stream",
     "text": [
      "Iteration: 100%|██████████| 392/392 [00:17<00:00, 21.80it/s]\n",
      "Iteration: 100%|██████████| 392/392 [00:18<00:00, 20.75it/s]\n",
      "Iteration: 100%|██████████| 392/392 [00:17<00:00, 22.34it/s]\n",
      "Iteration: 100%|██████████| 109/109 [00:04<00:00, 21.91it/s]\n",
      "Iteration: 100%|██████████| 109/109 [00:04<00:00, 22.77it/s]\n",
      "Iteration: 100%|██████████| 109/109 [00:05<00:00, 21.58it/s]\n",
      "Iteration: 100%|██████████| 44/44 [00:02<00:00, 21.44it/s]s]\n",
      "Iteration:  99%|█████████▊| 387/392 [00:31<00:00, 12.53it/s]"
     ]
    },
    {
     "name": "stdout",
     "output_type": "stream",
     "text": [
      "{'Train':  best_epoch_indx:48\n",
      " auc:0.9732112946912849 \n",
      " apur:0.8871402974375466 \n",
      " f1:0.7480588270700829 \n",
      " precision:0.6195001993885418 \n",
      " recall:0.9439465289381741 \n",
      ", 'Validation':  best_epoch_indx:48\n",
      " auc:0.9236227866569957 \n",
      " apur:0.7592124175916272 \n",
      " f1:0.6499108734402851 \n",
      " precision:0.5336651053864169 \n",
      " recall:0.8309024612579763 \n",
      ", 'Test':  best_epoch_indx:48\n",
      " auc:0.9191005655693856 \n",
      " apur:0.7433202408514068 \n",
      " f1:0.6521519717396006 \n",
      " precision:0.5394156231365533 \n",
      " recall:0.8244622675902297 \n",
      "}\n",
      "=====Epoch 49\n",
      "Training...\n"
     ]
    },
    {
     "name": "stderr",
     "output_type": "stream",
     "text": [
      "Iteration: 100%|██████████| 392/392 [00:31<00:00, 12.47it/s]\n",
      "Iteration:   1%|          | 2/392 [00:00<00:19, 19.99it/s]"
     ]
    },
    {
     "name": "stdout",
     "output_type": "stream",
     "text": [
      "Evaluating...\n"
     ]
    },
    {
     "name": "stderr",
     "output_type": "stream",
     "text": [
      "Iteration: 100%|██████████| 392/392 [00:18<00:00, 21.29it/s]\n",
      "Iteration: 100%|██████████| 109/109 [00:05<00:00, 21.02it/s]\n",
      "Iteration: 100%|██████████| 44/44 [00:02<00:00, 20.76it/s]s]\n",
      "Iteration:  83%|████████▎ | 326/392 [00:25<00:05, 12.79it/s]"
     ]
    },
    {
     "name": "stdout",
     "output_type": "stream",
     "text": [
      "{'Train':  best_epoch_indx:48\n",
      " auc:0.9733102854036394 \n",
      " apur:0.8883489001745051 \n",
      " f1:0.7307565630146275 \n",
      " precision:0.5918220046444487 \n",
      " recall:0.954934427059598 \n",
      ", 'Validation':  best_epoch_indx:48\n",
      " auc:0.9207519902205783 \n",
      " apur:0.7494644562887685 \n",
      " f1:0.6350465677819939 \n",
      " precision:0.5108213096559379 \n",
      " recall:0.8391066545123063 \n",
      ", 'Test':  best_epoch_indx:48\n",
      " auc:0.9222506799153906 \n",
      " apur:0.7514261386290014 \n",
      " f1:0.6362883181441592 \n",
      " precision:0.5121138030673483 \n",
      " recall:0.8399562522785271 \n",
      "}\n",
      "=====Epoch 49\n",
      "Training...\n"
     ]
    },
    {
     "name": "stderr",
     "output_type": "stream",
     "text": [
      "Iteration: 100%|██████████| 44/44 [00:02<00:00, 20.76it/s]]]\n",
      "Iteration:  94%|█████████▍| 370/392 [00:29<00:01, 12.78it/s]"
     ]
    },
    {
     "name": "stdout",
     "output_type": "stream",
     "text": [
      "{'Train':  best_epoch_indx:48\n",
      " auc:0.97220651946599 \n",
      " apur:0.882289912821515 \n",
      " f1:0.7400162032920347 \n",
      " precision:0.6068118478190421 \n",
      " recall:0.9481492733809307 \n",
      ", 'Validation':  best_epoch_indx:48\n",
      " auc:0.9184099755808106 \n",
      " apur:0.7484769241443311 \n",
      " f1:0.6427807486631015 \n",
      " precision:0.5278103044496487 \n",
      " recall:0.8217866909753874 \n",
      ", 'Test':  best_epoch_indx:48\n",
      " auc:0.9162432509958404 \n",
      " apur:0.7412837881546903 \n",
      " f1:0.6322580645161291 \n",
      " precision:0.5137907453840893 \n",
      " recall:0.8217280349981771 \n",
      "}\n",
      "=====Epoch 49\n",
      "Training...\n"
     ]
    },
    {
     "name": "stderr",
     "output_type": "stream",
     "text": [
      "Iteration: 100%|██████████| 44/44 [00:02<00:00, 20.13it/s]]]\n",
      "Iteration:   4%|▎         | 14/392 [00:01<00:32, 11.71it/s]]"
     ]
    },
    {
     "name": "stdout",
     "output_type": "stream",
     "text": [
      "{'Train':  best_epoch_indx:48\n",
      " auc:0.97652124306714 \n",
      " apur:0.8992725936781252 \n",
      " f1:0.7619105815256136 \n",
      " precision:0.6373270633135691 \n",
      " recall:0.9470352929262241 \n",
      ", 'Validation':  best_epoch_indx:48\n",
      " auc:0.9186563383778235 \n",
      " apur:0.7515846853539732 \n",
      " f1:0.6525208560029017 \n",
      " precision:0.5420307321482374 \n",
      " recall:0.8195899772209567 \n",
      ", 'Test':  best_epoch_indx:48\n",
      " auc:0.9186977840220281 \n",
      " apur:0.7467408943220033 \n",
      " f1:0.6504911303327958 \n",
      " precision:0.5439499816108864 \n",
      " recall:0.8089334548769371 \n",
      "}\n",
      "=====Epoch 49\n",
      "Training...\n"
     ]
    },
    {
     "name": "stderr",
     "output_type": "stream",
     "text": [
      "Iteration: 100%|██████████| 392/392 [00:31<00:00, 12.56it/s]\n",
      "Iteration:   6%|▌         | 22/392 [00:01<00:30, 12.09it/s]"
     ]
    },
    {
     "name": "stdout",
     "output_type": "stream",
     "text": [
      "Evaluating...\n"
     ]
    },
    {
     "name": "stderr",
     "output_type": "stream",
     "text": [
      "Iteration: 100%|██████████| 392/392 [00:18<00:00, 21.00it/s]\n",
      "Iteration: 100%|██████████| 109/109 [00:05<00:00, 21.73it/s]\n",
      "Iteration: 100%|██████████| 392/392 [00:31<00:00, 12.35it/s]\n",
      "Iteration:   1%|          | 2/392 [00:00<00:20, 19.43it/s]s]"
     ]
    },
    {
     "name": "stdout",
     "output_type": "stream",
     "text": [
      "Evaluating...\n"
     ]
    },
    {
     "name": "stderr",
     "output_type": "stream",
     "text": [
      "Iteration: 100%|██████████| 44/44 [00:02<00:00, 18.78it/s]s]\n",
      "Iteration:  11%|█         | 43/392 [00:02<00:17, 20.27it/s]]"
     ]
    },
    {
     "name": "stdout",
     "output_type": "stream",
     "text": [
      "{'Train':  best_epoch_indx:47\n",
      " auc:0.9720818428208965 \n",
      " apur:0.8847821197046086 \n",
      " f1:0.7337080418206116 \n",
      " precision:0.5995503452705958 \n",
      " recall:0.9452124158185224 \n",
      ", 'Validation':  best_epoch_indx:47\n",
      " auc:0.9192393722409903 \n",
      " apur:0.7431134246686516 \n",
      " f1:0.6413561716404733 \n",
      " precision:0.5234938022484866 \n",
      " recall:0.8277119416590701 \n",
      ", 'Test':  best_epoch_indx:47\n",
      " auc:0.9184559122779796 \n",
      " apur:0.7465469043908531 \n",
      " f1:0.6443538180284066 \n",
      " precision:0.524496336996337 \n",
      " recall:0.8352169157856362 \n",
      "}\n",
      "=====Epoch 48\n",
      "Training...\n"
     ]
    },
    {
     "name": "stderr",
     "output_type": "stream",
     "text": [
      "Iteration: 100%|██████████| 392/392 [00:32<00:00, 12.16it/s]\n",
      "Iteration:  96%|█████████▋| 378/392 [00:31<00:01, 12.20it/s]"
     ]
    },
    {
     "name": "stdout",
     "output_type": "stream",
     "text": [
      "Evaluating...\n"
     ]
    },
    {
     "name": "stderr",
     "output_type": "stream",
     "text": [
      "Iteration: 100%|██████████| 392/392 [00:32<00:00, 12.14it/s]\n",
      "Iteration:   0%|          | 0/392 [00:00<?, ?it/s]"
     ]
    },
    {
     "name": "stdout",
     "output_type": "stream",
     "text": [
      "Evaluating...\n"
     ]
    },
    {
     "name": "stderr",
     "output_type": "stream",
     "text": [
      "Iteration: 100%|██████████| 392/392 [00:18<00:00, 20.92it/s]\n",
      "Iteration: 100%|██████████| 392/392 [00:17<00:00, 22.26it/s]\n",
      "Iteration: 100%|██████████| 392/392 [00:19<00:00, 19.74it/s]\n",
      "Iteration: 100%|██████████| 109/109 [00:05<00:00, 21.12it/s]\n",
      "Iteration: 100%|██████████| 109/109 [00:04<00:00, 21.87it/s]\n",
      "Iteration: 100%|██████████| 109/109 [00:05<00:00, 21.15it/s]\n",
      "Iteration: 100%|██████████| 44/44 [00:02<00:00, 19.03it/s]s]\n",
      "Iteration:   0%|          | 0/392 [00:00<?, ?it/s]12.60it/s]"
     ]
    },
    {
     "name": "stdout",
     "output_type": "stream",
     "text": [
      "{'Train':  best_epoch_indx:49\n",
      " auc:0.9771070640902357 \n",
      " apur:0.9015727001364361 \n",
      " f1:0.7627659358299637 \n",
      " precision:0.6370146619603584 \n",
      " recall:0.9503772342903438 \n",
      ", 'Validation':  best_epoch_indx:49\n",
      " auc:0.9263641668425078 \n",
      " apur:0.7644164293155679 \n",
      " f1:0.6563232906368393 \n",
      " precision:0.5431472081218274 \n",
      " recall:0.8290793072014585 \n",
      ", 'Test':  best_epoch_indx:49\n",
      " auc:0.9218868672765237 \n",
      " apur:0.7516523501559915 \n",
      " f1:0.6573966220151427 \n",
      " precision:0.5472727272727272 \n",
      " recall:0.8230040102078017 \n",
      "}\n",
      "=====Epoch 50\n",
      "Training...\n"
     ]
    },
    {
     "name": "stderr",
     "output_type": "stream",
     "text": [
      "Iteration: 100%|██████████| 392/392 [00:31<00:00, 12.46it/s]\n",
      "Iteration:   3%|▎         | 10/392 [00:00<00:32, 11.88it/s]"
     ]
    },
    {
     "name": "stdout",
     "output_type": "stream",
     "text": [
      "Evaluating...\n"
     ]
    },
    {
     "name": "stderr",
     "output_type": "stream",
     "text": [
      "Iteration: 100%|██████████| 392/392 [00:19<00:00, 20.54it/s]\n",
      "Iteration: 100%|██████████| 44/44 [00:02<00:00, 19.83it/s]s]\n",
      "Iteration:  83%|████████▎ | 326/392 [00:25<00:05, 12.85it/s]"
     ]
    },
    {
     "name": "stdout",
     "output_type": "stream",
     "text": [
      "{'Train':  best_epoch_indx:49\n",
      " auc:0.9784924348241594 \n",
      " apur:0.9062705757543693 \n",
      " f1:0.7653950013197166 \n",
      " precision:0.6388625271149675 \n",
      " recall:0.9544280723074586 \n",
      ", 'Validation':  best_epoch_indx:49\n",
      " auc:0.923246724426447 \n",
      " apur:0.7579678855810615 \n",
      " f1:0.6501087744742566 \n",
      " precision:0.5397350993377483 \n",
      " recall:0.817228805834093 \n",
      ", 'Test':  best_epoch_indx:49\n",
      " auc:0.9252573692865538 \n",
      " apur:0.7601635449614246 \n",
      " f1:0.6579120157583717 \n",
      " precision:0.548473421724851 \n",
      " recall:0.8219103171709807 \n",
      "}\n",
      "=====Epoch 50\n",
      "Training...\n"
     ]
    },
    {
     "name": "stderr",
     "output_type": "stream",
     "text": [
      "Iteration: 100%|██████████| 109/109 [00:05<00:00, 20.87it/s]\n",
      "Iteration: 100%|██████████| 44/44 [00:02<00:00, 21.24it/s]]]\n",
      "Iteration:   8%|▊         | 32/392 [00:02<00:30, 11.85it/s]]"
     ]
    },
    {
     "name": "stdout",
     "output_type": "stream",
     "text": [
      "{'Train':  best_epoch_indx:49\n",
      " auc:0.9767362504408179 \n",
      " apur:0.8989627388105748 \n",
      " f1:0.7493763117253396 \n",
      " precision:0.6152745716422278 \n",
      " recall:0.9582257329485038 \n",
      ", 'Validation':  best_epoch_indx:49\n",
      " auc:0.9216556386681495 \n",
      " apur:0.759969396344049 \n",
      " f1:0.6434440871739907 \n",
      " precision:0.5290834312573442 \n",
      " recall:0.8208751139471285 \n",
      ", 'Test':  best_epoch_indx:49\n",
      " auc:0.9202730863459109 \n",
      " apur:0.7519641015740279 \n",
      " f1:0.6408094435075885 \n",
      " precision:0.521381202835582 \n",
      " recall:0.8312067079839591 \n",
      "}\n",
      "=====Epoch 50\n",
      "Training...\n"
     ]
    },
    {
     "name": "stderr",
     "output_type": "stream",
     "text": [
      "Iteration: 100%|██████████| 392/392 [00:31<00:00, 12.53it/s]\n",
      "Iteration:  25%|██▌       | 11/44 [00:00<00:01, 18.59it/s]"
     ]
    },
    {
     "name": "stdout",
     "output_type": "stream",
     "text": [
      "Evaluating...\n"
     ]
    },
    {
     "name": "stderr",
     "output_type": "stream",
     "text": [
      "Iteration: 100%|██████████| 44/44 [00:02<00:00, 20.31it/s]]\n",
      "Iteration:  10%|▉         | 39/392 [00:01<00:15, 22.46it/s]"
     ]
    },
    {
     "name": "stdout",
     "output_type": "stream",
     "text": [
      "{'Train':  best_epoch_indx:49\n",
      " auc:0.9808277310918669 \n",
      " apur:0.9141234462867672 \n",
      " f1:0.7745608128787415 \n",
      " precision:0.648656961246668 \n",
      " recall:0.961111955035698 \n",
      ", 'Validation':  best_epoch_indx:49\n",
      " auc:0.9221012912597584 \n",
      " apur:0.7608628597580227 \n",
      " f1:0.6570083303151032 \n",
      " precision:0.5452359483017734 \n",
      " recall:0.8264236902050114 \n",
      ", 'Test':  best_epoch_indx:49\n",
      " auc:0.9229471594105225 \n",
      " apur:0.7578199830992741 \n",
      " f1:0.6580257762155829 \n",
      " precision:0.5498714967568229 \n",
      " recall:0.8191431175934366 \n",
      "}\n",
      "=====Epoch 50\n",
      "Training...\n"
     ]
    },
    {
     "name": "stderr",
     "output_type": "stream",
     "text": [
      "Iteration: 100%|██████████| 392/392 [00:18<00:00, 21.73it/s]\n",
      "Iteration: 100%|██████████| 109/109 [00:05<00:00, 21.10it/s]\n",
      "Iteration: 100%|██████████| 392/392 [00:31<00:00, 12.32it/s]\n",
      "Iteration:  93%|█████████▎| 366/392 [00:29<00:02, 12.55it/s]"
     ]
    },
    {
     "name": "stdout",
     "output_type": "stream",
     "text": [
      "Evaluating...\n"
     ]
    },
    {
     "name": "stderr",
     "output_type": "stream",
     "text": [
      "Iteration: 100%|██████████| 44/44 [00:02<00:00, 21.53it/s]s]\n",
      "Iteration:   3%|▎         | 10/392 [00:00<00:19, 19.19it/s]]"
     ]
    },
    {
     "name": "stdout",
     "output_type": "stream",
     "text": [
      "{'Train':  best_epoch_indx:50\n",
      " auc:0.9763534363441007 \n",
      " apur:0.8988465478173036 \n",
      " f1:0.7502236358214889 \n",
      " precision:0.6175546537504909 \n",
      " recall:0.9554914172869512 \n",
      ", 'Validation':  best_epoch_indx:50\n",
      " auc:0.9238667268511662 \n",
      " apur:0.7571173933170571 \n",
      " f1:0.6475453105754002 \n",
      " precision:0.527371739753511 \n",
      " recall:0.8386508659981768 \n",
      ", 'Test':  best_epoch_indx:50\n",
      " auc:0.9203445798192218 \n",
      " apur:0.7468059589027016 \n",
      " f1:0.647923322683706 \n",
      " precision:0.5306430980346551 \n",
      " recall:0.8317535545023697 \n",
      "}\n",
      "=====Epoch 51\n",
      "Training...\n"
     ]
    },
    {
     "name": "stderr",
     "output_type": "stream",
     "text": [
      "Iteration: 100%|██████████| 392/392 [00:31<00:00, 12.51it/s]\n",
      "Iteration:  84%|████████▍ | 330/392 [00:27<00:05, 12.06it/s]"
     ]
    },
    {
     "name": "stdout",
     "output_type": "stream",
     "text": [
      "Evaluating...\n"
     ]
    },
    {
     "name": "stderr",
     "output_type": "stream",
     "text": [
      "Iteration: 100%|██████████| 44/44 [00:02<00:00, 21.11it/s]]]\n",
      "Iteration:   0%|          | 0/392 [00:00<?, ?it/s]7.79it/s]]"
     ]
    },
    {
     "name": "stdout",
     "output_type": "stream",
     "text": [
      "{'Train':  best_epoch_indx:48\n",
      " auc:0.9777229487552962 \n",
      " apur:0.90589143629458 \n",
      " f1:0.7685767097966729 \n",
      " precision:0.6465222348916762 \n",
      " recall:0.9474403767279356 \n",
      ", 'Validation':  best_epoch_indx:48\n",
      " auc:0.9240444067638764 \n",
      " apur:0.7624022526019136 \n",
      " f1:0.6708837209302325 \n",
      " precision:0.5668028921722729 \n",
      " recall:0.8217866909753874 \n",
      ", 'Test':  best_epoch_indx:48\n",
      " auc:0.9221244550997933 \n",
      " apur:0.7571250504261965 \n",
      " f1:0.6603188662533216 \n",
      " precision:0.5548251054328951 \n",
      " recall:0.8153481589500546 \n",
      "}\n",
      "=====Epoch 49\n",
      "Training...\n"
     ]
    },
    {
     "name": "stderr",
     "output_type": "stream",
     "text": [
      "Iteration: 100%|██████████| 392/392 [00:32<00:00, 12.18it/s]\n",
      "Iteration:  14%|█▍        | 54/392 [00:04<00:28, 11.90it/s]]"
     ]
    },
    {
     "name": "stdout",
     "output_type": "stream",
     "text": [
      "Evaluating...\n"
     ]
    },
    {
     "name": "stderr",
     "output_type": "stream",
     "text": [
      "Iteration: 100%|██████████| 392/392 [00:18<00:00, 21.15it/s]\n",
      "Iteration: 100%|██████████| 392/392 [00:19<00:00, 19.99it/s]\n",
      "Iteration: 100%|██████████| 109/109 [00:04<00:00, 22.12it/s]\n",
      "Iteration: 100%|██████████| 392/392 [00:18<00:00, 21.51it/s]\n",
      "Iteration: 100%|██████████| 44/44 [00:02<00:00, 18.97it/s]s]\n",
      "Iteration:   0%|          | 0/392 [00:00<?, ?it/s]1.93it/s]]"
     ]
    },
    {
     "name": "stdout",
     "output_type": "stream",
     "text": [
      "{'Train':  best_epoch_indx:50\n",
      " auc:0.9776811061274452 \n",
      " apur:0.9034527768458974 \n",
      " f1:0.7580124671784491 \n",
      " precision:0.62733063499436 \n",
      " recall:0.9574662008202947 \n",
      ", 'Validation':  best_epoch_indx:50\n",
      " auc:0.9225315370833143 \n",
      " apur:0.7544210654467394 \n",
      " f1:0.6476766957450597 \n",
      " precision:0.5314052001168565 \n",
      " recall:0.8290793072014585 \n",
      ", 'Test':  best_epoch_indx:50\n",
      " auc:0.9246709776242812 \n",
      " apur:0.7574305360700698 \n",
      " f1:0.6545298165137615 \n",
      " precision:0.5393338058114813 \n",
      " recall:0.8323004010207802 \n",
      "}\n",
      "=====Epoch 51\n",
      "Training...\n"
     ]
    },
    {
     "name": "stderr",
     "output_type": "stream",
     "text": [
      "Iteration: 100%|██████████| 109/109 [00:05<00:00, 21.67it/s]\n",
      "Iteration: 100%|██████████| 44/44 [00:01<00:00, 22.16it/s]]]\n",
      "Iteration:  88%|████████▊ | 346/392 [00:27<00:03, 12.74it/s]"
     ]
    },
    {
     "name": "stdout",
     "output_type": "stream",
     "text": [
      "{'Train':  best_epoch_indx:50\n",
      " auc:0.9758682709864941 \n",
      " apur:0.8957040371534565 \n",
      " f1:0.7541154532512582 \n",
      " precision:0.6242530872394104 \n",
      " recall:0.9522001113980455 \n",
      ", 'Validation':  best_epoch_indx:50\n",
      " auc:0.9189060991760568 \n",
      " apur:0.7534838147609232 \n",
      " f1:0.6474092796533671 \n",
      " precision:0.5360239162929746 \n",
      " recall:0.817228805834093 \n",
      ", 'Test':  best_epoch_indx:50\n",
      " auc:0.9186239662399456 \n",
      " apur:0.7486907817195652 \n",
      " f1:0.641613980251474 \n",
      " precision:0.5256663950646024 \n",
      " recall:0.8231862923806051 \n",
      "}\n",
      "=====Epoch 51\n",
      "Training...\n"
     ]
    },
    {
     "name": "stderr",
     "output_type": "stream",
     "text": [
      "Iteration: 100%|██████████| 109/109 [00:05<00:00, 21.16it/s]\n",
      "Iteration: 100%|██████████| 392/392 [00:31<00:00, 12.31it/s]\n",
      "Iteration:   0%|          | 0/44 [00:00<?, ?it/s]12.42it/s]"
     ]
    },
    {
     "name": "stdout",
     "output_type": "stream",
     "text": [
      "Evaluating...\n"
     ]
    },
    {
     "name": "stderr",
     "output_type": "stream",
     "text": [
      "Iteration: 100%|██████████| 44/44 [00:02<00:00, 21.01it/s]]]\n",
      "Iteration: 100%|██████████| 392/392 [00:31<00:00, 12.40it/s]\n",
      "Iteration:  13%|█▎        | 51/392 [00:02<00:15, 22.27it/s]"
     ]
    },
    {
     "name": "stdout",
     "output_type": "stream",
     "text": [
      "Evaluating...\n",
      "{'Train':  best_epoch_indx:50\n",
      " auc:0.9791149115935229 \n",
      " apur:0.9073813822197354 \n",
      " f1:0.7812246088460176 \n",
      " precision:0.6636814159292035 \n",
      " recall:0.9493645247860651 \n",
      ", 'Validation':  best_epoch_indx:50\n",
      " auc:0.9177055271889184 \n",
      " apur:0.7490310575830257 \n",
      " f1:0.6512059369202227 \n",
      " precision:0.5492957746478874 \n",
      " recall:0.7995444191343963 \n",
      ", 'Test':  best_epoch_indx:50\n",
      " auc:0.9195362536466438 \n",
      " apur:0.7502091652798526 \n",
      " f1:0.6583327057760374 \n",
      " precision:0.560816012317167 \n",
      " recall:0.7969006381039198 \n",
      "}\n",
      "=====Epoch 51\n",
      "Training...\n"
     ]
    },
    {
     "name": "stderr",
     "output_type": "stream",
     "text": [
      "Iteration: 100%|██████████| 392/392 [00:17<00:00, 22.04it/s]\n",
      "Iteration: 100%|██████████| 392/392 [00:18<00:00, 21.54it/s]\n",
      "Iteration: 100%|██████████| 109/109 [00:05<00:00, 20.84it/s]\n",
      "Iteration: 100%|██████████| 44/44 [00:02<00:00, 21.87it/s]s]\n",
      "Iteration: 100%|██████████| 109/109 [00:05<00:00, 19.92it/s]\n",
      "Iteration:   1%|          | 2/392 [00:00<00:34, 11.45it/s]s]"
     ]
    },
    {
     "name": "stdout",
     "output_type": "stream",
     "text": [
      "{'Train':  best_epoch_indx:51\n",
      " auc:0.9742719663596409 \n",
      " apur:0.8907887779069847 \n",
      " f1:0.7521064301552106 \n",
      " precision:0.6247613944610027 \n",
      " recall:0.9446554255911692 \n",
      ", 'Validation':  best_epoch_indx:51\n",
      " auc:0.9225202734647183 \n",
      " apur:0.7519257786593789 \n",
      " f1:0.6483103879849813 \n",
      " precision:0.5333921741688732 \n",
      " recall:0.8263445761166819 \n",
      ", 'Test':  best_epoch_indx:51\n",
      " auc:0.9176000951553347 \n",
      " apur:0.739777544607069 \n",
      " f1:0.6469014390049895 \n",
      " precision:0.5361380798274002 \n",
      " recall:0.8153481589500546 \n",
      "}\n",
      "=====Epoch 52\n",
      "Training...\n"
     ]
    },
    {
     "name": "stderr",
     "output_type": "stream",
     "text": [
      "\r",
      "Iteration:  79%|███████▊  | 308/392 [00:25<00:06, 12.46it/s]\r",
      "Iteration: 100%|██████████| 392/392 [00:32<00:00, 12.56it/s]\r",
      "Iteration: 100%|██████████| 392/392 [00:32<00:00, 12.19it/s]\n",
      "\r",
      "Iteration:   0%|          | 0/392 [00:00<?, ?it/s]\r",
      "Iteration:  93%|█████████▎| 364/392 [00:28<00:02, 12.55it/s]\r",
      "Iteration:   1%|          | 4/392 [00:00<00:32, 11.95it/s]\r",
      "Iteration:  79%|███████▉  | 310/392 [00:25<00:06, 12.34it/s]\r",
      "Iteration:   1%|          | 3/392 [00:00<00:18, 20.86it/s]"
     ]
    },
    {
     "name": "stdout",
     "output_type": "stream",
     "text": [
      "Evaluating...\n"
     ]
    },
    {
     "name": "stderr",
     "output_type": "stream",
     "text": [
      "Iteration: 100%|██████████| 392/392 [00:31<00:00, 12.60it/s]\n",
      "Iteration:  12%|█▏        | 47/392 [00:02<00:17, 19.67it/s]"
     ]
    },
    {
     "name": "stdout",
     "output_type": "stream",
     "text": [
      "Evaluating...\n"
     ]
    },
    {
     "name": "stderr",
     "output_type": "stream",
     "text": [
      "Iteration: 100%|██████████| 392/392 [00:31<00:00, 12.30it/s]\n",
      "Iteration:  38%|███▊      | 149/392 [00:06<00:11, 22.05it/s]"
     ]
    },
    {
     "name": "stdout",
     "output_type": "stream",
     "text": [
      "Evaluating...\n"
     ]
    },
    {
     "name": "stderr",
     "output_type": "stream",
     "text": [
      "Iteration: 100%|██████████| 392/392 [00:18<00:00, 21.65it/s]\n",
      "Iteration: 100%|██████████| 392/392 [00:19<00:00, 20.43it/s]\n",
      "Iteration: 100%|██████████| 109/109 [00:04<00:00, 21.89it/s]\n",
      "Iteration: 100%|██████████| 392/392 [00:18<00:00, 20.95it/s]\n",
      "Iteration: 100%|██████████| 44/44 [00:02<00:00, 21.81it/s]]]\n",
      "Iteration:   1%|          | 2/392 [00:00<00:33, 11.74it/s]]]"
     ]
    },
    {
     "name": "stdout",
     "output_type": "stream",
     "text": [
      "{'Train':  best_epoch_indx:51\n",
      " auc:0.9753550364601264 \n",
      " apur:0.8942049583406966 \n",
      " f1:0.7542209358417753 \n",
      " precision:0.6253374662533746 \n",
      " recall:0.9500227859638463 \n",
      ", 'Validation':  best_epoch_indx:51\n",
      " auc:0.9194561287299463 \n",
      " apur:0.744271043103293 \n",
      " f1:0.6468282252316465 \n",
      " precision:0.5310122878876536 \n",
      " recall:0.8272561531449407 \n",
      ", 'Test':  best_epoch_indx:51\n",
      " auc:0.9223228336949378 \n",
      " apur:0.7496068854657347 \n",
      " f1:0.6503843114718769 \n",
      " precision:0.5366923532898636 \n",
      " recall:0.8251913962814437 \n",
      "}\n",
      "=====Epoch 52\n",
      "Training...\n"
     ]
    },
    {
     "name": "stderr",
     "output_type": "stream",
     "text": [
      "Iteration: 100%|██████████| 109/109 [00:04<00:00, 22.05it/s]\n",
      "Iteration: 100%|██████████| 44/44 [00:01<00:00, 22.18it/s]]]\n",
      "Iteration:  68%|██████▊   | 74/109 [00:03<00:01, 21.97it/s]]"
     ]
    },
    {
     "name": "stdout",
     "output_type": "stream",
     "text": [
      "{'Train':  best_epoch_indx:51\n",
      " auc:0.9711374961021991 \n",
      " apur:0.8808696637714267 \n",
      " f1:0.7344403249980279 \n",
      " precision:0.6014729157918537 \n",
      " recall:0.9428831839586814 \n",
      ", 'Validation':  best_epoch_indx:51\n",
      " auc:0.9131689530204326 \n",
      " apur:0.7422149914840773 \n",
      " f1:0.6291814946619216 \n",
      " precision:0.5160537069468768 \n",
      " recall:0.8058340929808568 \n",
      ", 'Test':  best_epoch_indx:51\n",
      " auc:0.9131621688518157 \n",
      " apur:0.7351325846091834 \n",
      " f1:0.6322145766044095 \n",
      " precision:0.5141617176793056 \n",
      " recall:0.8206343419613562 \n",
      "}\n",
      "=====Epoch 52\n",
      "Training...\n"
     ]
    },
    {
     "name": "stderr",
     "output_type": "stream",
     "text": [
      "Iteration: 100%|██████████| 392/392 [00:31<00:00, 12.55it/s]\n",
      "Iteration:  13%|█▎        | 52/392 [00:04<00:27, 12.53it/s]"
     ]
    },
    {
     "name": "stdout",
     "output_type": "stream",
     "text": [
      "Evaluating...\n"
     ]
    },
    {
     "name": "stderr",
     "output_type": "stream",
     "text": [
      "Iteration: 100%|██████████| 109/109 [00:05<00:00, 21.12it/s]\n",
      "Iteration: 100%|██████████| 44/44 [00:02<00:00, 21.86it/s]]\n",
      "Iteration: 100%|██████████| 44/44 [00:02<00:00, 19.13it/s]]\n",
      "Iteration:  20%|█▉        | 78/392 [00:03<00:13, 22.43it/s]"
     ]
    },
    {
     "name": "stdout",
     "output_type": "stream",
     "text": [
      "{'Train':  best_epoch_indx:51\n",
      " auc:0.9761799339457652 \n",
      " apur:0.8961817289595702 \n",
      " f1:0.7495480461688221 \n",
      " precision:0.6167451288086832 \n",
      " recall:0.9552382399108815 \n",
      ", 'Validation':  best_epoch_indx:51\n",
      " auc:0.9161432211378785 \n",
      " apur:0.7401980856970432 \n",
      " f1:0.6404907975460123 \n",
      " precision:0.5205128205128206 \n",
      " recall:0.8323462414578587 \n",
      ", 'Test':  best_epoch_indx:51\n",
      " auc:0.9184034513729371 \n",
      " apur:0.7429049404916721 \n",
      " f1:0.6440846470671779 \n",
      " precision:0.5275095963708271 \n",
      " recall:0.8268003646308113 \n",
      "}\n",
      "=====Epoch 52\n",
      "Training...\n",
      "{'Train':  best_epoch_indx:49\n",
      " auc:0.981276302149057 \n",
      " apur:0.9172731270295248 \n",
      " f1:0.7697881038635122 \n",
      " precision:0.6411570359382375 \n",
      " recall:0.9629854676186136 \n",
      ", 'Validation':  best_epoch_indx:49\n",
      " auc:0.9255367418399593 \n",
      " apur:0.7683122318606017 \n",
      " f1:0.6602505901579808 \n",
      " precision:0.5487473588892242 \n",
      " recall:0.8286235186873291 \n",
      ", 'Test':  best_epoch_indx:49\n",
      " auc:0.9244439017888352 \n",
      " apur:0.7625064909887599 \n",
      " f1:0.6599492569771656 \n",
      " precision:0.547839691900349 \n",
      " recall:0.8297484506015311 \n",
      "}\n",
      "=====Epoch 50\n",
      "Training...\n"
     ]
    },
    {
     "name": "stderr",
     "output_type": "stream",
     "text": [
      "Iteration: 100%|██████████| 392/392 [00:17<00:00, 21.96it/s]\n",
      "Iteration: 100%|██████████| 109/109 [00:04<00:00, 22.70it/s]\n",
      "Iteration: 100%|██████████| 44/44 [00:02<00:00, 16.69it/s]s]\n",
      "Iteration:  73%|███████▎  | 288/392 [00:23<00:08, 12.33it/s]"
     ]
    },
    {
     "name": "stdout",
     "output_type": "stream",
     "text": [
      "{'Train':  best_epoch_indx:52\n",
      " auc:0.972734896871088 \n",
      " apur:0.8852024509631027 \n",
      " f1:0.729665813755137 \n",
      " precision:0.5911303746976978 \n",
      " recall:0.9530102790014684 \n",
      ", 'Validation':  best_epoch_indx:52\n",
      " auc:0.9212699908254995 \n",
      " apur:0.745884490991539 \n",
      " f1:0.6384431546602937 \n",
      " precision:0.5103711790393013 \n",
      " recall:0.8523245214220602 \n",
      ", 'Test':  best_epoch_indx:52\n",
      " auc:0.9164456346825784 \n",
      " apur:0.7363536070682827 \n",
      " f1:0.6364078006801304 \n",
      " precision:0.5138406365572117 \n",
      " recall:0.8357637623040467 \n",
      "}\n",
      "=====Epoch 53\n",
      "Training...\n"
     ]
    },
    {
     "name": "stderr",
     "output_type": "stream",
     "text": [
      "\r",
      "Iteration:  99%|█████████▉| 390/392 [00:31<00:00, 12.08it/s]\r",
      "Iteration:  74%|███████▍  | 292/392 [00:23<00:08, 12.50it/s]\r",
      "Iteration:  89%|████████▉ | 350/392 [00:27<00:03, 12.35it/s]\r",
      "Iteration:   1%|          | 2/392 [00:00<00:34, 11.33it/s]\r",
      "Iteration:  74%|███████▍  | 290/392 [00:23<00:08, 12.28it/s]\r",
      "Iteration: 100%|██████████| 392/392 [00:31<00:00, 12.42it/s]\r",
      "Iteration: 100%|██████████| 392/392 [00:31<00:00, 12.46it/s]\n",
      "\r",
      "Iteration:   0%|          | 0/392 [00:00<?, ?it/s]"
     ]
    },
    {
     "name": "stdout",
     "output_type": "stream",
     "text": [
      "Evaluating...\n"
     ]
    },
    {
     "name": "stderr",
     "output_type": "stream",
     "text": [
      "Iteration: 100%|██████████| 392/392 [00:31<00:00, 12.46it/s]\n",
      "Iteration:   1%|          | 3/392 [00:00<00:18, 20.78it/s]]]"
     ]
    },
    {
     "name": "stdout",
     "output_type": "stream",
     "text": [
      "Evaluating...\n"
     ]
    },
    {
     "name": "stderr",
     "output_type": "stream",
     "text": [
      "Iteration: 100%|██████████| 392/392 [00:31<00:00, 12.37it/s]\n",
      "Iteration:  45%|████▍     | 176/392 [00:08<00:09, 21.72it/s]"
     ]
    },
    {
     "name": "stdout",
     "output_type": "stream",
     "text": [
      "Evaluating...\n"
     ]
    },
    {
     "name": "stderr",
     "output_type": "stream",
     "text": [
      "Iteration: 100%|██████████| 392/392 [00:32<00:00, 12.17it/s]\n",
      "Iteration:  28%|██▊       | 110/392 [00:08<00:21, 12.86it/s]"
     ]
    },
    {
     "name": "stdout",
     "output_type": "stream",
     "text": [
      "Evaluating...\n"
     ]
    },
    {
     "name": "stderr",
     "output_type": "stream",
     "text": [
      "Iteration: 100%|██████████| 392/392 [00:18<00:00, 21.62it/s]\n",
      "Iteration: 100%|██████████| 392/392 [00:18<00:00, 20.77it/s]\n",
      "Iteration: 100%|██████████| 109/109 [00:04<00:00, 22.03it/s]\n",
      "Iteration: 100%|██████████| 392/392 [00:18<00:00, 21.05it/s]\n",
      "Iteration: 100%|██████████| 44/44 [00:02<00:00, 15.47it/s]s]\n",
      "Iteration:   0%|          | 0/392 [00:00<?, ?it/s]21.05it/s]"
     ]
    },
    {
     "name": "stdout",
     "output_type": "stream",
     "text": [
      "{'Train':  best_epoch_indx:52\n",
      " auc:0.9713126852477865 \n",
      " apur:0.8829191826339873 \n",
      " f1:0.726694463298749 \n",
      " precision:0.5888860950465175 \n",
      " recall:0.9487062636082839 \n",
      ", 'Validation':  best_epoch_indx:52\n",
      " auc:0.9176092938067716 \n",
      " apur:0.743208807202442 \n",
      " f1:0.6335510484702647 \n",
      " precision:0.5085540838852097 \n",
      " recall:0.8400182315405652 \n",
      ", 'Test':  best_epoch_indx:52\n",
      " auc:0.9182798763125621 \n",
      " apur:0.7387789039287397 \n",
      " f1:0.6311418685121107 \n",
      " precision:0.5087014725568942 \n",
      " recall:0.8312067079839591 \n",
      "}\n",
      "=====Epoch 53\n",
      "Training...\n"
     ]
    },
    {
     "name": "stderr",
     "output_type": "stream",
     "text": [
      "Iteration: 100%|██████████| 392/392 [00:19<00:00, 20.14it/s]\n",
      "Iteration: 100%|██████████| 109/109 [00:04<00:00, 22.52it/s]\n",
      "Iteration: 100%|██████████| 392/392 [00:31<00:00, 12.64it/s]\n",
      "Iteration:  98%|█████████▊| 43/44 [00:02<00:00, 21.98it/s]]"
     ]
    },
    {
     "name": "stdout",
     "output_type": "stream",
     "text": [
      "Evaluating...\n"
     ]
    },
    {
     "name": "stderr",
     "output_type": "stream",
     "text": [
      "\r",
      "Iteration:   1%|          | 3/392 [00:00<00:18, 21.22it/s]\r",
      "Iteration: 100%|██████████| 44/44 [00:02<00:00, 20.55it/s]\n",
      "\r",
      "Iteration:  57%|█████▋    | 62/109 [00:03<00:02, 19.88it/s]\r",
      "Iteration:  39%|███▊      | 42/109 [00:01<00:03, 21.65it/s]\r",
      "Iteration:  11%|█         | 42/392 [00:03<00:28, 12.45it/s]\r",
      "Iteration:   2%|▏         | 6/392 [00:00<00:17, 21.89it/s]\r",
      "Iteration:   0%|          | 0/392 [00:00<?, ?it/s]\r",
      "Iteration:  60%|█████▉    | 65/109 [00:03<00:02, 19.84it/s]\r",
      "Iteration:  41%|████▏     | 45/109 [00:02<00:02, 21.58it/s]"
     ]
    },
    {
     "name": "stdout",
     "output_type": "stream",
     "text": [
      "{'Train':  best_epoch_indx:52\n",
      " auc:0.9701370895481131 \n",
      " apur:0.8743044278635499 \n",
      " f1:0.7075698997030313 \n",
      " precision:0.560546875 \n",
      " recall:0.9591371715023546 \n",
      ", 'Validation':  best_epoch_indx:52\n",
      " auc:0.9149375299157096 \n",
      " apur:0.7359737801961141 \n",
      " f1:0.6226921785834172 \n",
      " precision:0.49282678002125396 \n",
      " recall:0.8454876937101186 \n",
      ", 'Test':  best_epoch_indx:52\n",
      " auc:0.9133349409421868 \n",
      " apur:0.7275102741508088 \n",
      " f1:0.6168310322156475 \n",
      " precision:0.48241464417935004 \n",
      " recall:0.8550856726212176 \n",
      "}\n",
      "=====Epoch 53\n",
      "Training...\n"
     ]
    },
    {
     "name": "stderr",
     "output_type": "stream",
     "text": [
      "Iteration: 100%|██████████| 109/109 [00:05<00:00, 19.53it/s]\n",
      "Iteration: 100%|██████████| 109/109 [00:05<00:00, 21.53it/s]\n",
      "Iteration: 100%|██████████| 44/44 [00:02<00:00, 19.36it/s]]]\n",
      "Iteration:  17%|█▋        | 66/392 [00:05<00:26, 12.50it/s]]"
     ]
    },
    {
     "name": "stdout",
     "output_type": "stream",
     "text": [
      "{'Train':  best_epoch_indx:50\n",
      " auc:0.9808503961375693 \n",
      " apur:0.9159613181866257 \n",
      " f1:0.7798172723138616 \n",
      " precision:0.6588773621153375 \n",
      " recall:0.9551369689604537 \n",
      ", 'Validation':  best_epoch_indx:50\n",
      " auc:0.9237777505567836 \n",
      " apur:0.7622051897304764 \n",
      " f1:0.6645569620253164 \n",
      " precision:0.5616740088105727 \n",
      " recall:0.8135824977210574 \n",
      ", 'Test':  best_epoch_indx:50\n",
      " auc:0.922235529104208 \n",
      " apur:0.7583463631534877 \n",
      " f1:0.6615885224079278 \n",
      " precision:0.5566202090592335 \n",
      " recall:0.8153481589500546 \n",
      "}\n",
      "=====Epoch 51\n",
      "Training...\n"
     ]
    },
    {
     "name": "stderr",
     "output_type": "stream",
     "text": [
      "\r",
      "Iteration:  32%|███▏      | 126/392 [00:05<00:11, 22.37it/s]\r",
      "Iteration:  95%|█████████▌| 42/44 [00:01<00:00, 21.60it/s]\r",
      "Iteration:  28%|██▊       | 110/392 [00:08<00:22, 12.57it/s]\r",
      "Iteration:  17%|█▋        | 68/392 [00:05<00:25, 12.48it/s]\r",
      "Iteration:   1%|          | 3/392 [00:00<00:34, 11.19it/s]\r",
      "Iteration: 100%|██████████| 44/44 [00:02<00:00, 21.61it/s]\n",
      "\r",
      "Iteration:  33%|███▎      | 129/392 [00:05<00:11, 22.21it/s]"
     ]
    },
    {
     "name": "stdout",
     "output_type": "stream",
     "text": [
      "{'Train':  best_epoch_indx:52\n",
      " auc:0.9710913708713925 \n",
      " apur:0.8779807092899461 \n",
      " f1:0.7336417454032226 \n",
      " precision:0.598528706221014 \n",
      " recall:0.9475416476783635 \n",
      ", 'Validation':  best_epoch_indx:52\n",
      " auc:0.9144181027975619 \n",
      " apur:0.7369802354533325 \n",
      " f1:0.6374125874125874 \n",
      " precision:0.5171631205673759 \n",
      " recall:0.8305239179954442 \n",
      ", 'Test':  best_epoch_indx:52\n",
      " auc:0.9125210206440648 \n",
      " apur:0.7271266044399726 \n",
      " f1:0.6278285312719606 \n",
      " precision:0.5108061749571183 \n",
      " recall:0.8144029170464905 \n",
      "}\n",
      "=====Epoch 53\n",
      "Training...\n"
     ]
    },
    {
     "name": "stderr",
     "output_type": "stream",
     "text": [
      "Iteration: 100%|██████████| 392/392 [00:17<00:00, 21.82it/s]\n",
      "Iteration: 100%|██████████| 109/109 [00:04<00:00, 22.51it/s]\n",
      "Iteration: 100%|██████████| 44/44 [00:01<00:00, 22.35it/s]s]\n",
      "Iteration:  65%|██████▍   | 254/392 [00:20<00:11, 12.53it/s]"
     ]
    },
    {
     "name": "stdout",
     "output_type": "stream",
     "text": [
      "{'Train':  best_epoch_indx:53\n",
      " auc:0.9648957454800148 \n",
      " apur:0.8609894069815991 \n",
      " f1:0.6919441778040315 \n",
      " precision:0.5444615518693896 \n",
      " recall:0.9490100764595676 \n",
      ", 'Validation':  best_epoch_indx:53\n",
      " auc:0.9175203594625512 \n",
      " apur:0.7375663890519942 \n",
      " f1:0.6217497955846281 \n",
      " precision:0.48482529966845195 \n",
      " recall:0.8664539653600729 \n",
      ", 'Test':  best_epoch_indx:53\n",
      " auc:0.9123912808890898 \n",
      " apur:0.727282760278291 \n",
      " f1:0.6145464093475123 \n",
      " precision:0.480201066885515 \n",
      " recall:0.8532628508931827 \n",
      "}\n",
      "=====Epoch 54\n",
      "Training...\n"
     ]
    },
    {
     "name": "stderr",
     "output_type": "stream",
     "text": [
      "Iteration: 100%|██████████| 392/392 [00:31<00:00, 12.37it/s]\n",
      "Iteration:  89%|████████▉ | 349/392 [00:28<00:03, 11.53it/s]"
     ]
    },
    {
     "name": "stdout",
     "output_type": "stream",
     "text": [
      "Evaluating...\n"
     ]
    },
    {
     "name": "stderr",
     "output_type": "stream",
     "text": [
      "Iteration: 100%|██████████| 392/392 [00:31<00:00, 12.35it/s]\n",
      "Iteration:  20%|█▉        | 78/392 [00:03<00:14, 21.36it/s]]"
     ]
    },
    {
     "name": "stdout",
     "output_type": "stream",
     "text": [
      "Evaluating...\n"
     ]
    },
    {
     "name": "stderr",
     "output_type": "stream",
     "text": [
      "Iteration: 100%|██████████| 392/392 [00:31<00:00, 12.40it/s]\n",
      "Iteration:  46%|████▌     | 180/392 [00:08<00:10, 19.90it/s]"
     ]
    },
    {
     "name": "stdout",
     "output_type": "stream",
     "text": [
      "Evaluating...\n"
     ]
    },
    {
     "name": "stderr",
     "output_type": "stream",
     "text": [
      "Iteration: 100%|██████████| 392/392 [00:32<00:00, 11.98it/s]\n",
      "Iteration:  39%|███▉      | 152/392 [00:12<00:18, 12.68it/s]"
     ]
    },
    {
     "name": "stdout",
     "output_type": "stream",
     "text": [
      "Evaluating...\n"
     ]
    },
    {
     "name": "stderr",
     "output_type": "stream",
     "text": [
      "Iteration: 100%|██████████| 392/392 [00:18<00:00, 21.21it/s]\n",
      "Iteration: 100%|██████████| 392/392 [00:17<00:00, 22.03it/s]\n",
      "Iteration: 100%|██████████| 109/109 [00:05<00:00, 21.35it/s]\n",
      "Iteration: 100%|██████████| 109/109 [00:04<00:00, 22.34it/s]\n",
      "Iteration: 100%|██████████| 44/44 [00:02<00:00, 20.13it/s]s]\n",
      "Iteration: 100%|██████████| 392/392 [00:18<00:00, 20.72it/s]\n",
      "Iteration:   0%|          | 0/392 [00:00<?, ?it/s]"
     ]
    },
    {
     "name": "stdout",
     "output_type": "stream",
     "text": [
      "{'Train':  best_epoch_indx:53\n",
      " auc:0.9678227508395831 \n",
      " apur:0.8685842378412231 \n",
      " f1:0.7191747619878618 \n",
      " precision:0.5827362996480644 \n",
      " recall:0.9390348878424224 \n",
      ", 'Validation':  best_epoch_indx:53\n",
      " auc:0.9137105925418484 \n",
      " apur:0.7329909058364426 \n",
      " f1:0.6268553676216776 \n",
      " precision:0.5044444444444445 \n",
      " recall:0.8277119416590701 \n",
      ", 'Test':  best_epoch_indx:53\n",
      " auc:0.9156075252932205 \n",
      " apur:0.7342135895207003 \n",
      " f1:0.629708697748089 \n",
      " precision:0.5060320973990039 \n",
      " recall:0.8333940940576011 \n",
      "}\n",
      "=====Epoch 54\n",
      "Training...\n"
     ]
    },
    {
     "name": "stderr",
     "output_type": "stream",
     "text": [
      "Iteration: 100%|██████████| 392/392 [00:18<00:00, 21.09it/s]\n",
      "Iteration: 100%|██████████| 392/392 [00:31<00:00, 12.65it/s]\n",
      "Iteration:  11%|█         | 12/109 [00:00<00:04, 22.03it/s]"
     ]
    },
    {
     "name": "stdout",
     "output_type": "stream",
     "text": [
      "Evaluating...\n"
     ]
    },
    {
     "name": "stderr",
     "output_type": "stream",
     "text": [
      "Iteration: 100%|██████████| 44/44 [00:02<00:00, 19.46it/s]]\n",
      "Iteration:  30%|███       | 33/109 [00:01<00:03, 21.96it/s]"
     ]
    },
    {
     "name": "stdout",
     "output_type": "stream",
     "text": [
      "{'Train':  best_epoch_indx:53\n",
      " auc:0.9660604684709151 \n",
      " apur:0.8629309384112918 \n",
      " f1:0.733026027093943 \n",
      " precision:0.60835282325426 \n",
      " recall:0.9219707326953264 \n",
      ", 'Validation':  best_epoch_indx:53\n",
      " auc:0.9106149222600567 \n",
      " apur:0.7282479958662722 \n",
      " f1:0.6353240152477764 \n",
      " precision:0.5279034690799397 \n",
      " recall:0.7976298997265269 \n",
      ", 'Test':  best_epoch_indx:53\n",
      " auc:0.9080265565528428 \n",
      " apur:0.7199621431303808 \n",
      " f1:0.6267135577406158 \n",
      " precision:0.5168698946371493 \n",
      " recall:0.7958439664600802 \n",
      "}\n",
      "=====Epoch 54\n",
      "Training...\n"
     ]
    },
    {
     "name": "stderr",
     "output_type": "stream",
     "text": [
      "Iteration: 100%|██████████| 109/109 [00:05<00:00, 20.50it/s]\n",
      "Iteration: 100%|██████████| 109/109 [00:05<00:00, 21.66it/s]\n",
      "Iteration: 100%|██████████| 44/44 [00:02<00:00, 21.18it/s]s]\n",
      "Iteration:  29%|██▉       | 114/392 [00:09<00:22, 12.14it/s]"
     ]
    },
    {
     "name": "stdout",
     "output_type": "stream",
     "text": [
      "{'Train':  best_epoch_indx:51\n",
      " auc:0.9794487523957873 \n",
      " apur:0.9119338431236386 \n",
      " f1:0.761136203954632 \n",
      " precision:0.6305461318432781 \n",
      " recall:0.9599473391057775 \n",
      ", 'Validation':  best_epoch_indx:51\n",
      " auc:0.9227920685667014 \n",
      " apur:0.7577796656041789 \n",
      " f1:0.6578422484134179 \n",
      " precision:0.5462210177657332 \n",
      " recall:0.8268003646308113 \n",
      ", 'Test':  best_epoch_indx:51\n",
      " auc:0.9214494976367746 \n",
      " apur:0.7538310419874569 \n",
      " f1:0.6528765352294764 \n",
      " precision:0.5386985895460472 \n",
      " recall:0.8284724753919067 \n",
      "}\n",
      "=====Epoch 52\n",
      "Training...\n"
     ]
    },
    {
     "name": "stderr",
     "output_type": "stream",
     "text": [
      "Iteration: 100%|██████████| 44/44 [00:02<00:00, 19.85it/s]]]\n",
      "Iteration:  50%|████▉     | 195/392 [00:08<00:08, 22.29it/s]"
     ]
    },
    {
     "name": "stdout",
     "output_type": "stream",
     "text": [
      "{'Train':  best_epoch_indx:53\n",
      " auc:0.968244718657116 \n",
      " apur:0.8728572477460858 \n",
      " f1:0.7155169111732487 \n",
      " precision:0.575388880332666 \n",
      " recall:0.9458706769963036 \n",
      ", 'Validation':  best_epoch_indx:53\n",
      " auc:0.9107744832780351 \n",
      " apur:0.732439164195296 \n",
      " f1:0.6242257398485891 \n",
      " precision:0.5015205971799834 \n",
      " recall:0.8264236902050114 \n",
      ", 'Test':  best_epoch_indx:53\n",
      " auc:0.9120604930034113 \n",
      " apur:0.7277009888425777 \n",
      " f1:0.6220036877688998 \n",
      " precision:0.49727014632015726 \n",
      " recall:0.830264357338195 \n",
      "}\n",
      "=====Epoch 54\n",
      "Training...\n"
     ]
    },
    {
     "name": "stderr",
     "output_type": "stream",
     "text": [
      "Iteration: 100%|██████████| 392/392 [00:17<00:00, 22.02it/s]\n",
      "Iteration: 100%|██████████| 109/109 [00:05<00:00, 19.77it/s]\n",
      "Iteration: 100%|██████████| 44/44 [00:02<00:00, 20.72it/s]s]\n",
      "Iteration:  58%|█████▊    | 226/392 [00:18<00:13, 12.21it/s]"
     ]
    },
    {
     "name": "stdout",
     "output_type": "stream",
     "text": [
      "{'Train':  best_epoch_indx:54\n",
      " auc:0.966909824149438 \n",
      " apur:0.8678436917439415 \n",
      " f1:0.7317512405954858 \n",
      " precision:0.6049227511827174 \n",
      " recall:0.9258696642867993 \n",
      ", 'Validation':  best_epoch_indx:54\n",
      " auc:0.9166990801587898 \n",
      " apur:0.7350800513812881 \n",
      " f1:0.6391715765041956 \n",
      " precision:0.5253889051951863 \n",
      " recall:0.8158614402917046 \n",
      ", 'Test':  best_epoch_indx:54\n",
      " auc:0.9145607166084786 \n",
      " apur:0.7326198826445232 \n",
      " f1:0.6397876461726092 \n",
      " precision:0.5275050278007808 \n",
      " recall:0.8127962085308057 \n",
      "}\n",
      "=====Epoch 55\n",
      "Training...\n"
     ]
    },
    {
     "name": "stderr",
     "output_type": "stream",
     "text": [
      "Iteration: 100%|██████████| 392/392 [00:31<00:00, 12.34it/s]\n",
      "Iteration:  10%|█         | 40/392 [00:03<00:27, 12.83it/s]]"
     ]
    },
    {
     "name": "stdout",
     "output_type": "stream",
     "text": [
      "Evaluating...\n"
     ]
    },
    {
     "name": "stderr",
     "output_type": "stream",
     "text": [
      "Iteration: 100%|██████████| 392/392 [00:31<00:00, 12.45it/s]\n",
      "Iteration:   1%|          | 2/392 [00:00<00:22, 17.16it/s]s]"
     ]
    },
    {
     "name": "stdout",
     "output_type": "stream",
     "text": [
      "Evaluating...\n"
     ]
    },
    {
     "name": "stderr",
     "output_type": "stream",
     "text": [
      "Iteration: 100%|██████████| 392/392 [00:31<00:00, 12.32it/s]\n",
      "Iteration:  48%|████▊     | 187/392 [00:09<00:10, 19.59it/s]"
     ]
    },
    {
     "name": "stdout",
     "output_type": "stream",
     "text": [
      "Evaluating...\n"
     ]
    },
    {
     "name": "stderr",
     "output_type": "stream",
     "text": [
      "Iteration: 100%|██████████| 392/392 [00:32<00:00, 12.19it/s]\n",
      "Iteration:  44%|████▍     | 172/392 [00:13<00:17, 12.82it/s]"
     ]
    },
    {
     "name": "stdout",
     "output_type": "stream",
     "text": [
      "Evaluating...\n"
     ]
    },
    {
     "name": "stderr",
     "output_type": "stream",
     "text": [
      "Iteration: 100%|██████████| 392/392 [00:19<00:00, 20.23it/s]\n",
      "Iteration: 100%|██████████| 392/392 [00:18<00:00, 21.16it/s]\n",
      "Iteration: 100%|██████████| 109/109 [00:05<00:00, 19.53it/s]\n",
      "Iteration: 100%|██████████| 109/109 [00:04<00:00, 22.20it/s]\n",
      "Iteration: 100%|██████████| 392/392 [00:30<00:00, 12.67it/s]\n",
      "Iteration:  95%|█████████▍| 372/392 [00:17<00:00, 20.77it/s]"
     ]
    },
    {
     "name": "stdout",
     "output_type": "stream",
     "text": [
      "Evaluating...\n"
     ]
    },
    {
     "name": "stderr",
     "output_type": "stream",
     "text": [
      "Iteration: 100%|██████████| 44/44 [00:02<00:00, 21.53it/s]]]\n",
      "Iteration:  99%|█████████▉| 388/392 [00:19<00:00, 21.09it/s]"
     ]
    },
    {
     "name": "stdout",
     "output_type": "stream",
     "text": [
      "{'Train':  best_epoch_indx:54\n",
      " auc:0.9631955348747818 \n",
      " apur:0.8555192450487774 \n",
      " f1:0.694677033492823 \n",
      " precision:0.5505554732632203 \n",
      " recall:0.9410096713757659 \n",
      ", 'Validation':  best_epoch_indx:54\n",
      " auc:0.9128602627506468 \n",
      " apur:0.7228252383347379 \n",
      " f1:0.6124688279301744 \n",
      " precision:0.48207275582308295 \n",
      " recall:0.8395624430264357 \n",
      ", 'Test':  best_epoch_indx:54\n",
      " auc:0.9134141691914953 \n",
      " apur:0.7230368899750435 \n",
      " f1:0.6147404798298665 \n",
      " precision:0.48373601087752327 \n",
      " recall:0.8430550492161867 \n",
      "}\n",
      "=====Epoch 55\n",
      "Training...\n"
     ]
    },
    {
     "name": "stderr",
     "output_type": "stream",
     "text": [
      "Iteration: 100%|██████████| 392/392 [00:18<00:00, 21.25it/s]\n",
      "Iteration: 100%|██████████| 392/392 [00:19<00:00, 19.74it/s]\n",
      "Iteration: 100%|██████████| 44/44 [00:01<00:00, 22.27it/s]]\n",
      "Iteration:   0%|          | 0/392 [00:00<?, ?it/s]1.90it/s]"
     ]
    },
    {
     "name": "stdout",
     "output_type": "stream",
     "text": [
      "{'Train':  best_epoch_indx:54\n",
      " auc:0.9569632972745908 \n",
      " apur:0.8296840129387011 \n",
      " f1:0.7191334552853884 \n",
      " precision:0.6052449487960144 \n",
      " recall:0.8858170033925769 \n",
      ", 'Validation':  best_epoch_indx:54\n",
      " auc:0.9058777211497197 \n",
      " apur:0.7118967062377629 \n",
      " f1:0.6322628550213476 \n",
      " precision:0.5333542123394927 \n",
      " recall:0.776207839562443 \n",
      ", 'Test':  best_epoch_indx:54\n",
      " auc:0.9027009674377998 \n",
      " apur:0.7040545701849703 \n",
      " f1:0.6225184968134203 \n",
      " precision:0.5203919167176975 \n",
      " recall:0.7745169522420707 \n",
      "}\n",
      "=====Epoch 55\n",
      "Training...\n"
     ]
    },
    {
     "name": "stderr",
     "output_type": "stream",
     "text": [
      "Iteration: 100%|██████████| 109/109 [00:04<00:00, 22.04it/s]\n",
      "Iteration: 100%|██████████| 109/109 [00:05<00:00, 19.53it/s]\n",
      "Iteration: 100%|██████████| 44/44 [00:02<00:00, 21.94it/s]s]\n",
      "Iteration:  27%|██▋       | 104/392 [00:08<00:22, 12.64it/s]"
     ]
    },
    {
     "name": "stdout",
     "output_type": "stream",
     "text": [
      "{'Train':  best_epoch_indx:52\n",
      " auc:0.9747979068103589 \n",
      " apur:0.894220477642014 \n",
      " f1:0.7414561078481612 \n",
      " precision:0.6069895769466584 \n",
      " recall:0.9524532887741152 \n",
      ", 'Validation':  best_epoch_indx:52\n",
      " auc:0.9183520633816613 \n",
      " apur:0.7493182631370128 \n",
      " f1:0.6387805742644452 \n",
      " precision:0.5226218097447796 \n",
      " recall:0.821330902461258 \n",
      ", 'Test':  best_epoch_indx:52\n",
      " auc:0.9195038703418047 \n",
      " apur:0.7508735562679665 \n",
      " f1:0.6456570783981951 \n",
      " precision:0.5264428604276845 \n",
      " recall:0.8346700692672256 \n",
      "}\n",
      "=====Epoch 53\n",
      "Training...\n"
     ]
    },
    {
     "name": "stderr",
     "output_type": "stream",
     "text": [
      "Iteration: 100%|██████████| 44/44 [00:02<00:00, 18.71it/s]s]\n",
      "Iteration:   1%|          | 2/392 [00:00<00:35, 10.91it/s]s]"
     ]
    },
    {
     "name": "stdout",
     "output_type": "stream",
     "text": [
      "{'Train':  best_epoch_indx:54\n",
      " auc:0.9693467217768152 \n",
      " apur:0.8753571827648536 \n",
      " f1:0.736015976035946 \n",
      " precision:0.6076633911495086 \n",
      " recall:0.933110537242392 \n",
      ", 'Validation':  best_epoch_indx:54\n",
      " auc:0.9112823989117054 \n",
      " apur:0.7281681651873633 \n",
      " f1:0.6371744559400642 \n",
      " precision:0.5236001172676634 \n",
      " recall:0.8136674259681094 \n",
      ", 'Test':  best_epoch_indx:54\n",
      " auc:0.9138857648990485 \n",
      " apur:0.7306242053428877 \n",
      " f1:0.6391047116686863 \n",
      " precision:0.5246956928838952 \n",
      " recall:0.8173199635369188 \n",
      "}\n",
      "=====Epoch 55\n",
      "Training...\n"
     ]
    },
    {
     "name": "stderr",
     "output_type": "stream",
     "text": [
      "Iteration: 100%|██████████| 392/392 [00:18<00:00, 21.69it/s]\n",
      "Iteration: 100%|██████████| 109/109 [00:04<00:00, 21.84it/s]\n",
      "Iteration: 100%|██████████| 44/44 [00:02<00:00, 21.70it/s]s]\n",
      "Iteration:  54%|█████▎    | 210/392 [00:17<00:15, 12.08it/s]"
     ]
    },
    {
     "name": "stdout",
     "output_type": "stream",
     "text": [
      "{'Train':  best_epoch_indx:55\n",
      " auc:0.9692058079319915 \n",
      " apur:0.873245547724639 \n",
      " f1:0.7093084505982392 \n",
      " precision:0.5643128685604814 \n",
      " recall:0.9545799787331004 \n",
      ", 'Validation':  best_epoch_indx:55\n",
      " auc:0.9185509910516109 \n",
      " apur:0.7476197308192235 \n",
      " f1:0.6176470588235293 \n",
      " precision:0.484447900466563 \n",
      " recall:0.8518687329079307 \n",
      ", 'Test':  best_epoch_indx:55\n",
      " auc:0.9146826374012199 \n",
      " apur:0.7391356799815002 \n",
      " f1:0.6216777130615251 \n",
      " precision:0.4912707649984129 \n",
      " recall:0.8463361283266496 \n",
      "}\n",
      "=====Epoch 56\n",
      "Training...\n"
     ]
    },
    {
     "name": "stderr",
     "output_type": "stream",
     "text": [
      "Iteration: 100%|██████████| 392/392 [00:31<00:00, 12.29it/s]\n",
      "Iteration:  72%|███████▏  | 282/392 [00:22<00:08, 12.55it/s]"
     ]
    },
    {
     "name": "stdout",
     "output_type": "stream",
     "text": [
      "Evaluating...\n"
     ]
    },
    {
     "name": "stderr",
     "output_type": "stream",
     "text": [
      "Iteration: 100%|██████████| 392/392 [00:31<00:00, 12.41it/s]\n",
      "Iteration:  19%|█▉        | 76/392 [00:06<00:26, 12.05it/s]]"
     ]
    },
    {
     "name": "stdout",
     "output_type": "stream",
     "text": [
      "Evaluating...\n"
     ]
    },
    {
     "name": "stderr",
     "output_type": "stream",
     "text": [
      "Iteration: 100%|██████████| 392/392 [00:31<00:00, 12.32it/s]\n",
      "Iteration:  50%|█████     | 197/392 [00:09<00:09, 19.68it/s]"
     ]
    },
    {
     "name": "stdout",
     "output_type": "stream",
     "text": [
      "Evaluating...\n"
     ]
    },
    {
     "name": "stderr",
     "output_type": "stream",
     "text": [
      "Iteration: 100%|██████████| 392/392 [00:32<00:00, 11.95it/s]\n",
      "Iteration:  12%|█▏        | 47/392 [00:02<00:16, 21.54it/s]]"
     ]
    },
    {
     "name": "stdout",
     "output_type": "stream",
     "text": [
      "Evaluating...\n"
     ]
    },
    {
     "name": "stderr",
     "output_type": "stream",
     "text": [
      "Iteration: 100%|██████████| 392/392 [00:17<00:00, 22.22it/s]\n",
      "Iteration: 100%|██████████| 392/392 [00:18<00:00, 21.40it/s]\n",
      "Iteration: 100%|██████████| 109/109 [00:05<00:00, 21.70it/s]\n",
      "Iteration: 100%|██████████| 109/109 [00:05<00:00, 20.41it/s]\n",
      "Iteration: 100%|██████████| 392/392 [00:31<00:00, 12.49it/s]\n",
      "Iteration:  92%|█████████▏| 359/392 [00:16<00:01, 21.32it/s]"
     ]
    },
    {
     "name": "stdout",
     "output_type": "stream",
     "text": [
      "Evaluating...\n"
     ]
    },
    {
     "name": "stderr",
     "output_type": "stream",
     "text": [
      "Iteration: 100%|██████████| 44/44 [00:02<00:00, 21.65it/s]s]\n",
      "Iteration:  79%|███████▉  | 311/392 [00:16<00:03, 21.55it/s]"
     ]
    },
    {
     "name": "stdout",
     "output_type": "stream",
     "text": [
      "{'Train':  best_epoch_indx:55\n",
      " auc:0.9679794432793409 \n",
      " apur:0.8707901306573864 \n",
      " f1:0.7175095475060758 \n",
      " precision:0.5794934105991214 \n",
      " recall:0.9418198389791889 \n",
      ", 'Validation':  best_epoch_indx:55\n",
      " auc:0.9154510418532574 \n",
      " apur:0.7377247688451721 \n",
      " f1:0.6305096418732783 \n",
      " precision:0.5066408411732153 \n",
      " recall:0.8345487693710119 \n",
      ", 'Test':  best_epoch_indx:55\n",
      " auc:0.9179077613412177 \n",
      " apur:0.737893652444844 \n",
      " f1:0.6291640909403119 \n",
      " precision:0.5047944450567619 \n",
      " recall:0.8348523514400291 \n",
      "}\n",
      "=====Epoch 56\n",
      "Training...\n"
     ]
    },
    {
     "name": "stderr",
     "output_type": "stream",
     "text": [
      "Iteration: 100%|██████████| 392/392 [00:18<00:00, 21.60it/s]\n",
      "Iteration: 100%|██████████| 44/44 [00:02<00:00, 21.43it/s]]]\n",
      "Iteration:  82%|████████▏ | 320/392 [00:16<00:03, 21.37it/s]"
     ]
    },
    {
     "name": "stdout",
     "output_type": "stream",
     "text": [
      "{'Train':  best_epoch_indx:55\n",
      " auc:0.9697601389827761 \n",
      " apur:0.8752963549980253 \n",
      " f1:0.7322259399314973 \n",
      " precision:0.6011703511053316 \n",
      " recall:0.9363512076560838 \n",
      ", 'Validation':  best_epoch_indx:55\n",
      " auc:0.9162249384486243 \n",
      " apur:0.7392006293266332 \n",
      " f1:0.6374289772727273 \n",
      " precision:0.5221058755090169 \n",
      " recall:0.8181403828623519 \n",
      ", 'Test':  best_epoch_indx:55\n",
      " auc:0.913676773707555 \n",
      " apur:0.7289268561472947 \n",
      " f1:0.632378808133399 \n",
      " precision:0.5149535922997593 \n",
      " recall:0.8191760845789282 \n",
      "}\n",
      "=====Epoch 56\n",
      "Training...\n"
     ]
    },
    {
     "name": "stderr",
     "output_type": "stream",
     "text": [
      "Iteration: 100%|██████████| 392/392 [00:19<00:00, 19.81it/s]\n",
      "Iteration: 100%|██████████| 109/109 [00:05<00:00, 20.64it/s]\n",
      "Iteration: 100%|██████████| 44/44 [00:02<00:00, 20.87it/s]s]\n",
      "Iteration:   1%|          | 2/392 [00:00<00:33, 11.53it/s]s]"
     ]
    },
    {
     "name": "stdout",
     "output_type": "stream",
     "text": [
      "{'Train':  best_epoch_indx:53\n",
      " auc:0.9754875794563181 \n",
      " apur:0.896552210443083 \n",
      " f1:0.7406040861185799 \n",
      " precision:0.6046660684527625 \n",
      " recall:0.9553901463365234 \n",
      ", 'Validation':  best_epoch_indx:53\n",
      " auc:0.918965962057756 \n",
      " apur:0.7488894131218605 \n",
      " f1:0.6474131821403261 \n",
      " precision:0.5295652173913044 \n",
      " recall:0.8327256153144941 \n",
      ", 'Test':  best_epoch_indx:53\n",
      " auc:0.9189220975926403 \n",
      " apur:0.744439818425452 \n",
      " f1:0.6436700857102712 \n",
      " precision:0.5236625514403292 \n",
      " recall:0.8350346336128327 \n",
      "}\n",
      "=====Epoch 54\n",
      "Training...\n"
     ]
    },
    {
     "name": "stderr",
     "output_type": "stream",
     "text": [
      "Iteration: 100%|██████████| 109/109 [00:05<00:00, 20.49it/s]\n",
      "Iteration: 100%|██████████| 44/44 [00:02<00:00, 21.39it/s]s]\n",
      "Iteration:  81%|████████  | 318/392 [00:14<00:03, 22.52it/s]"
     ]
    },
    {
     "name": "stdout",
     "output_type": "stream",
     "text": [
      "{'Train':  best_epoch_indx:55\n",
      " auc:0.97221831600471 \n",
      " apur:0.884125955636389 \n",
      " f1:0.756070028528621 \n",
      " precision:0.6357078760267826 \n",
      " recall:0.9326548179654666 \n",
      ", 'Validation':  best_epoch_indx:55\n",
      " auc:0.9140989361951953 \n",
      " apur:0.7360863961302738 \n",
      " f1:0.6435552277337266 \n",
      " precision:0.5405824039653035 \n",
      " recall:0.7949886104783599 \n",
      ", 'Test':  best_epoch_indx:55\n",
      " auc:0.9157522994161343 \n",
      " apur:0.7379045502980606 \n",
      " f1:0.6445890005913661 \n",
      " precision:0.5420862862116126 \n",
      " recall:0.7948951686417502 \n",
      "}\n",
      "=====Epoch 56\n",
      "Training...\n"
     ]
    },
    {
     "name": "stderr",
     "output_type": "stream",
     "text": [
      "Iteration: 100%|██████████| 392/392 [00:17<00:00, 22.02it/s]\n",
      "Iteration: 100%|██████████| 109/109 [00:05<00:00, 19.73it/s]\n",
      "Iteration: 100%|██████████| 44/44 [00:02<00:00, 21.81it/s]s]\n",
      "Iteration:  82%|████████▏ | 320/392 [00:25<00:05, 12.54it/s]"
     ]
    },
    {
     "name": "stdout",
     "output_type": "stream",
     "text": [
      "{'Train':  best_epoch_indx:56\n",
      " auc:0.9707994568958683 \n",
      " apur:0.8780904492932661 \n",
      " f1:0.7232414137917772 \n",
      " precision:0.5830465383065141 \n",
      " recall:0.9522001113980455 \n",
      ", 'Validation':  best_epoch_indx:56\n",
      " auc:0.9193525747541405 \n",
      " apur:0.7418689510219303 \n",
      " f1:0.627178879675072 \n",
      " precision:0.49878869448183044 \n",
      " recall:0.8445761166818596 \n",
      ", 'Test':  best_epoch_indx:56\n",
      " auc:0.9159266986327272 \n",
      " apur:0.7349138944919482 \n",
      " f1:0.6310094507601697 \n",
      " precision:0.5053751645458534 \n",
      " recall:0.8397739701057236 \n",
      "}\n",
      "=====Epoch 57\n",
      "Training...\n"
     ]
    },
    {
     "name": "stderr",
     "output_type": "stream",
     "text": [
      "Iteration: 100%|██████████| 392/392 [00:31<00:00, 12.40it/s]\n",
      "Iteration:  58%|█████▊    | 228/392 [00:18<00:13, 11.93it/s]"
     ]
    },
    {
     "name": "stdout",
     "output_type": "stream",
     "text": [
      "Evaluating...\n"
     ]
    },
    {
     "name": "stderr",
     "output_type": "stream",
     "text": [
      "\r",
      "Iteration:  71%|███████   | 278/392 [00:22<00:09, 12.57it/s]\r",
      "Iteration:  19%|█▉        | 76/392 [00:06<00:25, 12.60it/s]\r",
      "Iteration:  99%|█████████▉| 390/392 [00:31<00:00, 11.95it/s]\r",
      "Iteration:   2%|▏         | 6/392 [00:00<00:18, 20.67it/s]\r",
      "Iteration:  59%|█████▊    | 230/392 [00:19<00:13, 11.93it/s]\r",
      "Iteration:  20%|█▉        | 78/392 [00:06<00:24, 12.70it/s]\r",
      "Iteration:  71%|███████▏  | 280/392 [00:22<00:08, 12.57it/s]\r",
      "Iteration: 100%|██████████| 392/392 [00:31<00:00, 11.92it/s]\r",
      "Iteration: 100%|██████████| 392/392 [00:31<00:00, 12.38it/s]\n",
      "\r",
      "Iteration:   0%|          | 0/392 [00:00<?, ?it/s]"
     ]
    },
    {
     "name": "stdout",
     "output_type": "stream",
     "text": [
      "Evaluating...\n"
     ]
    },
    {
     "name": "stderr",
     "output_type": "stream",
     "text": [
      "Iteration: 100%|██████████| 392/392 [00:31<00:00, 12.37it/s]\n",
      "Iteration:   1%|          | 3/392 [00:00<00:18, 20.53it/s]s]"
     ]
    },
    {
     "name": "stdout",
     "output_type": "stream",
     "text": [
      "Evaluating...\n"
     ]
    },
    {
     "name": "stderr",
     "output_type": "stream",
     "text": [
      "Iteration: 100%|██████████| 392/392 [00:32<00:00, 12.11it/s]\n",
      "Iteration:  69%|██████▉   | 271/392 [00:13<00:05, 21.91it/s]"
     ]
    },
    {
     "name": "stdout",
     "output_type": "stream",
     "text": [
      "Evaluating...\n"
     ]
    },
    {
     "name": "stderr",
     "output_type": "stream",
     "text": [
      "Iteration: 100%|██████████| 392/392 [00:18<00:00, 21.45it/s]\n",
      "Iteration: 100%|██████████| 392/392 [00:18<00:00, 20.82it/s]\n",
      "Iteration: 100%|██████████| 109/109 [00:05<00:00, 19.65it/s]\n",
      "Iteration: 100%|██████████| 109/109 [00:04<00:00, 22.42it/s]\n",
      "Iteration: 100%|██████████| 392/392 [00:31<00:00, 12.55it/s]\n",
      "Iteration:   0%|          | 0/392 [00:00<?, ?it/s]"
     ]
    },
    {
     "name": "stdout",
     "output_type": "stream",
     "text": [
      "Evaluating...\n"
     ]
    },
    {
     "name": "stderr",
     "output_type": "stream",
     "text": [
      "Iteration: 100%|██████████| 44/44 [00:02<00:00, 21.84it/s]s]\n",
      "Iteration:  91%|█████████ | 355/392 [00:18<00:01, 21.38it/s]"
     ]
    },
    {
     "name": "stdout",
     "output_type": "stream",
     "text": [
      "{'Train':  best_epoch_indx:56\n",
      " auc:0.97373166775464 \n",
      " apur:0.8916924968806342 \n",
      " f1:0.7516514690982776 \n",
      " precision:0.6265666700449309 \n",
      " recall:0.9391361587928503 \n",
      ", 'Validation':  best_epoch_indx:56\n",
      " auc:0.9199222579590994 \n",
      " apur:0.744691003948974 \n",
      " f1:0.6477087484151423 \n",
      " precision:0.5374211000901713 \n",
      " recall:0.8149498632634458 \n",
      ", 'Test':  best_epoch_indx:56\n",
      " auc:0.921636290532883 \n",
      " apur:0.7483001206615254 \n",
      " f1:0.6489346282069866 \n",
      " precision:0.538618864292589 \n",
      " recall:0.8160772876412686 \n",
      "}\n",
      "=====Epoch 57\n",
      "Training...\n"
     ]
    },
    {
     "name": "stderr",
     "output_type": "stream",
     "text": [
      "Iteration: 100%|██████████| 44/44 [00:02<00:00, 21.74it/s]s]\n",
      "Iteration:  79%|███████▉  | 309/392 [00:14<00:03, 21.32it/s]"
     ]
    },
    {
     "name": "stdout",
     "output_type": "stream",
     "text": [
      "{'Train':  best_epoch_indx:56\n",
      " auc:0.972288928154234 \n",
      " apur:0.8830644435974253 \n",
      " f1:0.7487079710585517 \n",
      " precision:0.6241889699918897 \n",
      " recall:0.9352878626765913 \n",
      ", 'Validation':  best_epoch_indx:56\n",
      " auc:0.9169522703637624 \n",
      " apur:0.7449013185685938 \n",
      " f1:0.6447750362844702 \n",
      " precision:0.5355635925256178 \n",
      " recall:0.8099361896080218 \n",
      ", 'Test':  best_epoch_indx:56\n",
      " auc:0.9154078066971383 \n",
      " apur:0.7366377723295868 \n",
      " f1:0.638788752703677 \n",
      " precision:0.5283874045801527 \n",
      " recall:0.8075100255195042 \n",
      "}\n",
      "=====Epoch 57\n",
      "Training...\n"
     ]
    },
    {
     "name": "stderr",
     "output_type": "stream",
     "text": [
      "Iteration: 100%|██████████| 392/392 [00:20<00:00, 19.51it/s]\n",
      "Iteration: 100%|██████████| 392/392 [00:18<00:00, 21.60it/s]\n",
      "Iteration: 100%|██████████| 109/109 [00:05<00:00, 20.02it/s]\n",
      "Iteration: 100%|██████████| 109/109 [00:05<00:00, 21.78it/s]\n",
      "Iteration: 100%|██████████| 44/44 [00:02<00:00, 19.46it/s]s]\n",
      "Iteration:  79%|███████▉  | 309/392 [00:13<00:03, 21.87it/s]"
     ]
    },
    {
     "name": "stdout",
     "output_type": "stream",
     "text": [
      "{'Train':  best_epoch_indx:54\n",
      " auc:0.9608472046727418 \n",
      " apur:0.8468556232668982 \n",
      " f1:0.7303587341719686 \n",
      " precision:0.6181939376929554 \n",
      " recall:0.8922477087447466 \n",
      ", 'Validation':  best_epoch_indx:54\n",
      " auc:0.9085937634371614 \n",
      " apur:0.7187930913432399 \n",
      " f1:0.6404788627010849 \n",
      " precision:0.5431472081218274 \n",
      " recall:0.780309936189608 \n",
      ", 'Test':  best_epoch_indx:54\n",
      " auc:0.9080245364153606 \n",
      " apur:0.7158779863106208 \n",
      " f1:0.6364043601612662 \n",
      " precision:0.5389479008598888 \n",
      " recall:0.7768866204885162 \n",
      "}\n",
      "=====Epoch 55\n",
      "Training...\n"
     ]
    },
    {
     "name": "stderr",
     "output_type": "stream",
     "text": [
      "Iteration: 100%|██████████| 44/44 [00:02<00:00, 21.50it/s]s]\n",
      "Iteration:  40%|████      | 158/392 [00:12<00:18, 12.57it/s]"
     ]
    },
    {
     "name": "stdout",
     "output_type": "stream",
     "text": [
      "{'Train':  best_epoch_indx:56\n",
      " auc:0.9751628371971448 \n",
      " apur:0.893611250872323 \n",
      " f1:0.7499002473864814 \n",
      " precision:0.6187325102880659 \n",
      " recall:0.9516431211706922 \n",
      ", 'Validation':  best_epoch_indx:56\n",
      " auc:0.9187395162724226 \n",
      " apur:0.74667986922897 \n",
      " f1:0.6440497335701599 \n",
      " precision:0.527802037845706 \n",
      " recall:0.8259681093394078 \n",
      ", 'Test':  best_epoch_indx:56\n",
      " auc:0.9199175385272192 \n",
      " apur:0.7472757639040745 \n",
      " f1:0.6457309691661327 \n",
      " precision:0.5297966814676326 \n",
      " recall:0.8266180492251596 \n",
      "}\n",
      "=====Epoch 57\n",
      "Training...\n"
     ]
    },
    {
     "name": "stderr",
     "output_type": "stream",
     "text": [
      "Iteration: 100%|██████████| 392/392 [00:17<00:00, 22.25it/s]\n",
      "Iteration: 100%|██████████| 109/109 [00:04<00:00, 21.84it/s]\n",
      "Iteration: 100%|██████████| 44/44 [00:02<00:00, 21.53it/s]s]\n",
      "Iteration:  35%|███▍      | 137/392 [00:11<00:20, 12.48it/s]"
     ]
    },
    {
     "name": "stdout",
     "output_type": "stream",
     "text": [
      "{'Train':  best_epoch_indx:57\n",
      " auc:0.9761684105350528 \n",
      " apur:0.8978159663078641 \n",
      " f1:0.7600689865070509 \n",
      " precision:0.6341413867822319 \n",
      " recall:0.9484024507570004 \n",
      ", 'Validation':  best_epoch_indx:57\n",
      " auc:0.9214022806625273 \n",
      " apur:0.7508163697660241 \n",
      " f1:0.648823423747081 \n",
      " precision:0.5354284020160095 \n",
      " recall:0.8231540565177757 \n",
      ", 'Test':  best_epoch_indx:57\n",
      " auc:0.9191270766553082 \n",
      " apur:0.7470334089946867 \n",
      " f1:0.6518840579710146 \n",
      " precision:0.5410151551599711 \n",
      " recall:0.8199052132701422 \n",
      "}\n",
      "=====Epoch 58\n",
      "Training...\n"
     ]
    },
    {
     "name": "stderr",
     "output_type": "stream",
     "text": [
      "Iteration: 100%|██████████| 392/392 [00:31<00:00, 12.36it/s]\n",
      "Iteration:  99%|█████████▉| 390/392 [00:31<00:00, 12.41it/s]"
     ]
    },
    {
     "name": "stdout",
     "output_type": "stream",
     "text": [
      "Evaluating...\n",
      "Evaluating...\n"
     ]
    },
    {
     "name": "stderr",
     "output_type": "stream",
     "text": [
      "Iteration: 100%|██████████| 392/392 [00:31<00:00, 12.43it/s]\n",
      "Iteration: 100%|██████████| 392/392 [00:32<00:00, 12.20it/s]\n",
      "Iteration:  62%|██████▏   | 244/392 [00:19<00:11, 12.64it/s]"
     ]
    },
    {
     "name": "stdout",
     "output_type": "stream",
     "text": [
      "Evaluating...\n"
     ]
    },
    {
     "name": "stderr",
     "output_type": "stream",
     "text": [
      "Iteration: 100%|██████████| 392/392 [00:33<00:00, 11.87it/s]\n",
      "Iteration:  69%|██████▉   | 272/392 [00:21<00:09, 12.34it/s]"
     ]
    },
    {
     "name": "stdout",
     "output_type": "stream",
     "text": [
      "Evaluating...\n"
     ]
    },
    {
     "name": "stderr",
     "output_type": "stream",
     "text": [
      "Iteration: 100%|██████████| 392/392 [00:18<00:00, 21.65it/s]\n",
      "Iteration: 100%|██████████| 392/392 [00:19<00:00, 20.60it/s]\n",
      "Iteration: 100%|██████████| 392/392 [00:31<00:00, 12.54it/s]\n",
      "Iteration:  66%|██████▌   | 257/392 [00:11<00:06, 21.84it/s]"
     ]
    },
    {
     "name": "stdout",
     "output_type": "stream",
     "text": [
      "Evaluating...\n"
     ]
    },
    {
     "name": "stderr",
     "output_type": "stream",
     "text": [
      "Iteration: 100%|██████████| 109/109 [00:05<00:00, 20.88it/s]\n",
      "Iteration: 100%|██████████| 109/109 [00:05<00:00, 21.72it/s]\n",
      "Iteration: 100%|██████████| 44/44 [00:01<00:00, 22.11it/s]]]\n",
      "Iteration:  20%|█▉        | 78/392 [00:03<00:14, 21.96it/s]]"
     ]
    },
    {
     "name": "stdout",
     "output_type": "stream",
     "text": [
      "{'Train':  best_epoch_indx:57\n",
      " auc:0.9754592885230109 \n",
      " apur:0.8956453090231846 \n",
      " f1:0.7389470395250742 \n",
      " precision:0.6014177183000096 \n",
      " recall:0.958023191047648 \n",
      ", 'Validation':  best_epoch_indx:57\n",
      " auc:0.9186834277142071 \n",
      " apur:0.7485754338600759 \n",
      " f1:0.6366167768882701 \n",
      " precision:0.5149211711711712 \n",
      " recall:0.8336371923427529 \n",
      ", 'Test':  best_epoch_indx:57\n",
      " auc:0.9177669849938013 \n",
      " apur:0.7469533171145469 \n",
      " f1:0.6326811793882613 \n",
      " precision:0.5085271317829457 \n",
      " recall:0.8370397375136711 \n",
      "}\n",
      "=====Epoch 58\n",
      "Training...\n"
     ]
    },
    {
     "name": "stderr",
     "output_type": "stream",
     "text": [
      "Iteration: 100%|██████████| 44/44 [00:02<00:00, 21.00it/s]]]\n",
      "Iteration:  72%|███████▏  | 284/392 [00:13<00:04, 21.65it/s]"
     ]
    },
    {
     "name": "stdout",
     "output_type": "stream",
     "text": [
      "{'Train':  best_epoch_indx:57\n",
      " auc:0.9781180591434262 \n",
      " apur:0.9051047390541963 \n",
      " f1:0.778127803392235 \n",
      " precision:0.661687482259438 \n",
      " recall:0.9443009772646717 \n",
      ", 'Validation':  best_epoch_indx:57\n",
      " auc:0.9223907942885694 \n",
      " apur:0.751406602302364 \n",
      " f1:0.6617045031633793 \n",
      " precision:0.5591194968553459 \n",
      " recall:0.8103919781221514 \n",
      ", 'Test':  best_epoch_indx:57\n",
      " auc:0.9241181644336212 \n",
      " apur:0.7546647814069652 \n",
      " f1:0.664724774068265 \n",
      " precision:0.5630773124130077 \n",
      " recall:0.8111556689755742 \n",
      "}\n",
      "=====Epoch 58\n",
      "Training...\n"
     ]
    },
    {
     "name": "stderr",
     "output_type": "stream",
     "text": [
      "Iteration: 100%|██████████| 392/392 [00:18<00:00, 21.63it/s]\n",
      "Iteration: 100%|██████████| 392/392 [00:18<00:00, 21.18it/s]\n",
      "Iteration: 100%|██████████| 109/109 [00:05<00:00, 20.99it/s]\n",
      "Iteration: 100%|██████████| 109/109 [00:05<00:00, 21.38it/s]\n",
      "Iteration: 100%|██████████| 44/44 [00:02<00:00, 19.69it/s]s]\n",
      "Iteration:  83%|████████▎ | 326/392 [00:15<00:02, 22.48it/s]"
     ]
    },
    {
     "name": "stdout",
     "output_type": "stream",
     "text": [
      "{'Train':  best_epoch_indx:55\n",
      " auc:0.9693946153598757 \n",
      " apur:0.8733959543341547 \n",
      " f1:0.7219453779889521 \n",
      " precision:0.5835753317720531 \n",
      " recall:0.946326396273229 \n",
      ", 'Validation':  best_epoch_indx:55\n",
      " auc:0.9146881781505936 \n",
      " apur:0.7309656159589745 \n",
      " f1:0.6330785267546908 \n",
      " precision:0.5115103874227962 \n",
      " recall:0.8304466727438469 \n",
      ", 'Test':  best_epoch_indx:55\n",
      " auc:0.9125031879245981 \n",
      " apur:0.7272899114889608 \n",
      " f1:0.6308789914802244 \n",
      " precision:0.5087699698357725 \n",
      " recall:0.8301130149471382 \n",
      "}\n",
      "=====Epoch 56\n",
      "Training...\n"
     ]
    },
    {
     "name": "stderr",
     "output_type": "stream",
     "text": [
      "Iteration: 100%|██████████| 44/44 [00:02<00:00, 21.04it/s]s]\n",
      "Iteration:   1%|          | 2/392 [00:00<00:33, 11.74it/s]s]"
     ]
    },
    {
     "name": "stdout",
     "output_type": "stream",
     "text": [
      "{'Train':  best_epoch_indx:57\n",
      " auc:0.9801652719559162 \n",
      " apur:0.9135157461102301 \n",
      " f1:0.7732782763343485 \n",
      " precision:0.648405896468975 \n",
      " recall:0.9577193781963643 \n",
      ", 'Validation':  best_epoch_indx:57\n",
      " auc:0.9191832924607741 \n",
      " apur:0.7512027063003931 \n",
      " f1:0.6535490989334315 \n",
      " precision:0.5479494295405489 \n",
      " recall:0.8095671981776765 \n",
      ", 'Test':  best_epoch_indx:57\n",
      " auc:0.9209869029606788 \n",
      " apur:0.7504918456512126 \n",
      " f1:0.6573611519247723 \n",
      " precision:0.5505106435338993 \n",
      " recall:0.8156791248860529 \n",
      "}\n",
      "=====Epoch 58\n",
      "Training...\n"
     ]
    },
    {
     "name": "stderr",
     "output_type": "stream",
     "text": [
      "Iteration: 100%|██████████| 392/392 [00:18<00:00, 21.01it/s]\n",
      "Iteration: 100%|██████████| 109/109 [00:04<00:00, 22.07it/s]\n",
      "Iteration: 100%|██████████| 392/392 [00:31<00:00, 12.46it/s]\n",
      "Iteration:  98%|█████████▊| 384/392 [00:31<00:00, 12.59it/s]"
     ]
    },
    {
     "name": "stdout",
     "output_type": "stream",
     "text": [
      "Evaluating...\n"
     ]
    },
    {
     "name": "stderr",
     "output_type": "stream",
     "text": [
      "Iteration: 100%|██████████| 392/392 [00:31<00:00, 12.38it/s]\n",
      "Iteration:   5%|▍         | 18/392 [00:00<00:17, 21.60it/s]"
     ]
    },
    {
     "name": "stdout",
     "output_type": "stream",
     "text": [
      "Evaluating...\n"
     ]
    },
    {
     "name": "stderr",
     "output_type": "stream",
     "text": [
      "Iteration: 100%|██████████| 392/392 [00:32<00:00, 12.07it/s]\n",
      "Iteration:  62%|██████▎   | 245/392 [00:12<00:16,  8.70it/s]"
     ]
    },
    {
     "name": "stdout",
     "output_type": "stream",
     "text": [
      "Evaluating...\n"
     ]
    },
    {
     "name": "stderr",
     "output_type": "stream",
     "text": [
      "Iteration: 100%|██████████| 392/392 [00:32<00:00, 12.17it/s]\n",
      "Iteration:  11%|█         | 43/392 [00:02<00:17, 19.66it/s]]"
     ]
    },
    {
     "name": "stdout",
     "output_type": "stream",
     "text": [
      "Evaluating...\n"
     ]
    },
    {
     "name": "stderr",
     "output_type": "stream",
     "text": [
      "Iteration: 100%|██████████| 392/392 [00:18<00:00, 21.43it/s]\n",
      "Iteration: 100%|██████████| 392/392 [00:19<00:00, 20.38it/s]\n",
      "Iteration: 100%|██████████| 109/109 [00:04<00:00, 22.42it/s]\n",
      "Iteration: 100%|██████████| 44/44 [00:02<00:00, 21.23it/s]s]\n",
      "Iteration:   1%|          | 2/392 [00:00<00:34, 11.42it/s]s]"
     ]
    },
    {
     "name": "stdout",
     "output_type": "stream",
     "text": [
      "{'Train':  best_epoch_indx:58\n",
      " auc:0.9813379966361502 \n",
      " apur:0.917304542077455 \n",
      " f1:0.7780807314623096 \n",
      " precision:0.6537030657940062 \n",
      " recall:0.9609094131348422 \n",
      ", 'Validation':  best_epoch_indx:58\n",
      " auc:0.9262623118482779 \n",
      " apur:0.7630437030125872 \n",
      " f1:0.6593767085839256 \n",
      " precision:0.5493470999088976 \n",
      " recall:0.8245214220601641 \n",
      ", 'Test':  best_epoch_indx:58\n",
      " auc:0.9234927846958735 \n",
      " apur:0.7594639910008891 \n",
      " f1:0.6614219542680685 \n",
      " precision:0.5542821934688847 \n",
      " recall:0.8199052132701422 \n",
      "}\n",
      "=====Epoch 59\n",
      "Training...\n"
     ]
    },
    {
     "name": "stderr",
     "output_type": "stream",
     "text": [
      "Iteration: 100%|██████████| 109/109 [00:05<00:00, 21.67it/s]\n",
      "Iteration: 100%|██████████| 392/392 [00:18<00:00, 21.42it/s]\n",
      "Iteration: 100%|██████████| 392/392 [00:18<00:00, 21.37it/s]\n",
      "Iteration: 100%|██████████| 109/109 [00:05<00:00, 21.80it/s]\n",
      "Iteration: 100%|██████████| 109/109 [00:05<00:00, 21.22it/s]\n",
      "Iteration: 100%|██████████| 44/44 [00:02<00:00, 19.42it/s]s]\n",
      "Iteration:   0%|          | 0/392 [00:00<?, ?it/s]12.66it/s]"
     ]
    },
    {
     "name": "stdout",
     "output_type": "stream",
     "text": [
      "{'Train':  best_epoch_indx:56\n",
      " auc:0.9773316902359078 \n",
      " apur:0.9046878066887535 \n",
      " f1:0.7685979309351926 \n",
      " precision:0.6471668052091992 \n",
      " recall:0.9461238543723732 \n",
      ", 'Validation':  best_epoch_indx:56\n",
      " auc:0.9189290878650346 \n",
      " apur:0.7517342720711426 \n",
      " f1:0.6543967280163598 \n",
      " precision:0.5525902668759811 \n",
      " recall:0.8021877848678214 \n",
      ", 'Test':  best_epoch_indx:56\n",
      " auc:0.9195575180792237 \n",
      " apur:0.752548992146598 \n",
      " f1:0.6563353258062136 \n",
      " precision:0.5513949163050217 \n",
      " recall:0.8106088224571637 \n",
      "}\n",
      "=====Epoch 57\n",
      "Training...\n"
     ]
    },
    {
     "name": "stderr",
     "output_type": "stream",
     "text": [
      "Iteration: 100%|██████████| 392/392 [00:31<00:00, 12.48it/s]\n",
      "Iteration:   1%|          | 3/392 [00:00<00:18, 21.41it/s]s]"
     ]
    },
    {
     "name": "stdout",
     "output_type": "stream",
     "text": [
      "Evaluating...\n"
     ]
    },
    {
     "name": "stderr",
     "output_type": "stream",
     "text": [
      "Iteration: 100%|██████████| 44/44 [00:02<00:00, 20.10it/s]]]\n",
      "Iteration:  18%|█▊        | 8/44 [00:00<00:01, 18.11it/s]s]]"
     ]
    },
    {
     "name": "stdout",
     "output_type": "stream",
     "text": [
      "{'Train':  best_epoch_indx:58\n",
      " auc:0.981470581662837 \n",
      " apur:0.917819235601911 \n",
      " f1:0.7614340161981896 \n",
      " precision:0.6262121657361152 \n",
      " recall:0.9711377791280571 \n",
      ", 'Validation':  best_epoch_indx:58\n",
      " auc:0.92404960858401 \n",
      " apur:0.7644921624239568 \n",
      " f1:0.6508643735519515 \n",
      " precision:0.5343868890839918 \n",
      " recall:0.8322698268003647 \n",
      ", 'Test':  best_epoch_indx:58\n",
      " auc:0.9220900959840472 \n",
      " apur:0.7566293574212298 \n",
      " f1:0.6448847667228781 \n",
      " precision:0.5246970043448433 \n",
      " recall:0.8364928909952607 \n",
      "}\n",
      "=====Epoch 59\n",
      "Training...\n"
     ]
    },
    {
     "name": "stderr",
     "output_type": "stream",
     "text": [
      "Iteration: 100%|██████████| 44/44 [00:02<00:00, 18.65it/s]]]\n",
      "Iteration:   0%|          | 0/392 [00:00<?, ?it/s]2.61it/s]]"
     ]
    },
    {
     "name": "stdout",
     "output_type": "stream",
     "text": [
      "{'Train':  best_epoch_indx:58\n",
      " auc:0.9830602853629856 \n",
      " apur:0.9241872293608067 \n",
      " f1:0.7916474871322761 \n",
      " precision:0.6745587448743091 \n",
      " recall:0.9579219200972201 \n",
      ", 'Validation':  best_epoch_indx:58\n",
      " auc:0.9271262964173305 \n",
      " apur:0.7650491915550317 \n",
      " f1:0.667537313432836 \n",
      " precision:0.5650663297536324 \n",
      " recall:0.8154056517775752 \n",
      ", 'Test':  best_epoch_indx:58\n",
      " auc:0.9259961627787119 \n",
      " apur:0.7639023201044619 \n",
      " f1:0.6701224551123132 \n",
      " precision:0.5699680511182109 \n",
      " recall:0.8129784907036092 \n",
      "}\n",
      "=====Epoch 59\n",
      "Training...\n"
     ]
    },
    {
     "name": "stderr",
     "output_type": "stream",
     "text": [
      "Iteration: 100%|██████████| 392/392 [00:31<00:00, 12.30it/s]\n",
      "Iteration:  42%|████▏     | 166/392 [00:13<00:18, 12.55it/s]"
     ]
    },
    {
     "name": "stdout",
     "output_type": "stream",
     "text": [
      "Evaluating...\n"
     ]
    },
    {
     "name": "stderr",
     "output_type": "stream",
     "text": [
      "Iteration: 100%|██████████| 392/392 [00:18<00:00, 21.53it/s]\n",
      "Iteration: 100%|██████████| 44/44 [00:02<00:00, 17.91it/s]]]\n",
      "Iteration:  16%|█▌        | 63/392 [00:02<00:15, 21.58it/s]]"
     ]
    },
    {
     "name": "stdout",
     "output_type": "stream",
     "text": [
      "{'Train':  best_epoch_indx:58\n",
      " auc:0.9845619793116107 \n",
      " apur:0.9301950964787901 \n",
      " f1:0.8013830033942613 \n",
      " precision:0.6865337378991475 \n",
      " recall:0.9623778419160464 \n",
      ", 'Validation':  best_epoch_indx:58\n",
      " auc:0.9223007756281012 \n",
      " apur:0.7621383127010195 \n",
      " f1:0.6664163694387084 \n",
      " precision:0.5667305236270753 \n",
      " recall:0.8086560364464692 \n",
      ", 'Test':  best_epoch_indx:58\n",
      " auc:0.9232681983129782 \n",
      " apur:0.7591931537654182 \n",
      " f1:0.6670700347905008 \n",
      " precision:0.569988367584335 \n",
      " recall:0.8040109389243391 \n",
      "}\n",
      "=====Epoch 59\n",
      "Training...\n"
     ]
    },
    {
     "name": "stderr",
     "output_type": "stream",
     "text": [
      "Iteration: 100%|██████████| 109/109 [00:04<00:00, 22.02it/s]\n",
      "Iteration: 100%|██████████| 392/392 [00:31<00:00, 12.48it/s]\n",
      "Iteration:  93%|█████████▎| 366/392 [00:29<00:02, 12.57it/s]"
     ]
    },
    {
     "name": "stdout",
     "output_type": "stream",
     "text": [
      "Evaluating...\n"
     ]
    },
    {
     "name": "stderr",
     "output_type": "stream",
     "text": [
      "Iteration: 100%|██████████| 392/392 [00:18<00:00, 21.00it/s]\n",
      "Iteration: 100%|██████████| 392/392 [00:31<00:00, 12.45it/s]\n",
      "Iteration:   0%|          | 0/392 [00:00<?, ?it/s]"
     ]
    },
    {
     "name": "stdout",
     "output_type": "stream",
     "text": [
      "Evaluating...\n"
     ]
    },
    {
     "name": "stderr",
     "output_type": "stream",
     "text": [
      "Iteration: 100%|██████████| 109/109 [00:05<00:00, 19.49it/s]\n",
      "Iteration: 100%|██████████| 44/44 [00:02<00:00, 19.43it/s]s]\n",
      "Iteration:   0%|          | 0/392 [00:00<?, ?it/s]22.17it/s]"
     ]
    },
    {
     "name": "stdout",
     "output_type": "stream",
     "text": [
      "{'Train':  best_epoch_indx:57\n",
      " auc:0.9816519157862108 \n",
      " apur:0.9182817086434463 \n",
      " f1:0.7758775510204082 \n",
      " precision:0.6498581245085638 \n",
      " recall:0.9625297483416881 \n",
      ", 'Validation':  best_epoch_indx:57\n",
      " auc:0.9240712548677921 \n",
      " apur:0.7596128942590082 \n",
      " f1:0.6591199561803908 \n",
      " precision:0.5498020103563813 \n",
      " recall:0.8226982680036463 \n",
      ", 'Test':  best_epoch_indx:57\n",
      " auc:0.9230035739654884 \n",
      " apur:0.7554332507127137 \n",
      " f1:0.6588822795035617 \n",
      " precision:0.5517156561308573 \n",
      " recall:0.8177178271965002 \n",
      "}\n",
      "=====Epoch 58\n",
      "Training...\n"
     ]
    },
    {
     "name": "stderr",
     "output_type": "stream",
     "text": [
      "Iteration: 100%|██████████| 392/392 [00:32<00:00, 12.06it/s]\n",
      "Iteration:   0%|          | 0/392 [00:00<?, ?it/s]"
     ]
    },
    {
     "name": "stdout",
     "output_type": "stream",
     "text": [
      "Evaluating...\n"
     ]
    },
    {
     "name": "stderr",
     "output_type": "stream",
     "text": [
      "Iteration: 100%|██████████| 392/392 [00:17<00:00, 22.41it/s]\n",
      "Iteration: 100%|██████████| 392/392 [00:17<00:00, 21.83it/s]\n",
      "Iteration: 100%|██████████| 109/109 [00:04<00:00, 22.47it/s]\n",
      "Iteration: 100%|██████████| 44/44 [00:02<00:00, 21.32it/s]s]\n",
      "Iteration:  47%|████▋     | 186/392 [00:08<00:09, 21.62it/s]"
     ]
    },
    {
     "name": "stdout",
     "output_type": "stream",
     "text": [
      "{'Train':  best_epoch_indx:59\n",
      " auc:0.9847568710473933 \n",
      " apur:0.9303578377282417 \n",
      " f1:0.7901712216002634 \n",
      " precision:0.6656034393093645 \n",
      " recall:0.9720998531571219 \n",
      ", 'Validation':  best_epoch_indx:59\n",
      " auc:0.9270048716723558 \n",
      " apur:0.76838625555985 \n",
      " f1:0.6626461988304094 \n",
      " precision:0.5530811470408786 \n",
      " recall:0.8263445761166819 \n",
      ", 'Test':  best_epoch_indx:59\n",
      " auc:0.926084011792292 \n",
      " apur:0.7649748859165234 \n",
      " f1:0.6680948511487036 \n",
      " precision:0.5616693578437462 \n",
      " recall:0.8242799854174262 \n",
      "}\n",
      "=====Epoch 60\n",
      "Training...\n"
     ]
    },
    {
     "name": "stderr",
     "output_type": "stream",
     "text": [
      "Iteration: 100%|██████████| 109/109 [00:04<00:00, 22.02it/s]\n",
      "Iteration: 100%|██████████| 392/392 [00:18<00:00, 21.53it/s]\n",
      "Iteration: 100%|██████████| 109/109 [00:05<00:00, 21.63it/s]\n",
      "Iteration: 100%|██████████| 392/392 [00:32<00:00, 12.14it/s]\n",
      "Iteration:   1%|          | 2/392 [00:00<00:19, 19.61it/s]s]"
     ]
    },
    {
     "name": "stdout",
     "output_type": "stream",
     "text": [
      "Evaluating...\n"
     ]
    },
    {
     "name": "stderr",
     "output_type": "stream",
     "text": [
      "Iteration: 100%|██████████| 392/392 [00:31<00:00, 12.48it/s]\n",
      "Iteration:   0%|          | 0/392 [00:00<?, ?it/s]"
     ]
    },
    {
     "name": "stdout",
     "output_type": "stream",
     "text": [
      "Evaluating...\n"
     ]
    },
    {
     "name": "stderr",
     "output_type": "stream",
     "text": [
      "Iteration: 100%|██████████| 44/44 [00:02<00:00, 21.14it/s]s]\n",
      "Iteration:   0%|          | 0/392 [00:00<?, ?it/s]21.36it/s]"
     ]
    },
    {
     "name": "stdout",
     "output_type": "stream",
     "text": [
      "{'Train':  best_epoch_indx:59\n",
      " auc:0.9844491237811269 \n",
      " apur:0.928650747512858 \n",
      " f1:0.7907072707765948 \n",
      " precision:0.6672237891291479 \n",
      " recall:0.9702769760494202 \n",
      ", 'Validation':  best_epoch_indx:59\n",
      " auc:0.9242343570990791 \n",
      " apur:0.7663472368945553 \n",
      " f1:0.6672869371045776 \n",
      " precision:0.5638364779874214 \n",
      " recall:0.817228805834093 \n",
      ", 'Test':  best_epoch_indx:59\n",
      " auc:0.9235925614913744 \n",
      " apur:0.7625789649900742 \n",
      " f1:0.6584024059267953 \n",
      " precision:0.5508776236651528 \n",
      " recall:0.8180823915421072 \n",
      "}\n",
      "=====Epoch 60\n",
      "Training...\n"
     ]
    },
    {
     "name": "stderr",
     "output_type": "stream",
     "text": [
      "Iteration: 100%|██████████| 44/44 [00:02<00:00, 20.70it/s]s]\n",
      "Iteration:  19%|█▉        | 75/392 [00:03<00:14, 22.02it/s]]"
     ]
    },
    {
     "name": "stdout",
     "output_type": "stream",
     "text": [
      "{'Train':  best_epoch_indx:59\n",
      " auc:0.9856141986143998 \n",
      " apur:0.934491297166494 \n",
      " f1:0.7979454199987472 \n",
      " precision:0.6789368959636157 \n",
      " recall:0.9675426603878677 \n",
      ", 'Validation':  best_epoch_indx:59\n",
      " auc:0.9285343955673779 \n",
      " apur:0.769991777166403 \n",
      " f1:0.6734769687964339 \n",
      " precision:0.5683385579937305 \n",
      " recall:0.8263445761166819 \n",
      ", 'Test':  best_epoch_indx:59\n",
      " auc:0.928567412597346 \n",
      " apur:0.7693090180081488 \n",
      " f1:0.6728930065750148 \n",
      " precision:0.5701443403393264 \n",
      " recall:0.8208166241341597 \n",
      "}\n",
      "=====Epoch 60\n",
      "Training...\n"
     ]
    },
    {
     "name": "stderr",
     "output_type": "stream",
     "text": [
      "Iteration: 100%|██████████| 392/392 [00:18<00:00, 20.83it/s]\n",
      "Iteration: 100%|██████████| 109/109 [00:05<00:00, 21.52it/s]\n",
      "Iteration: 100%|██████████| 44/44 [00:02<00:00, 21.13it/s]s]\n",
      "Iteration:   0%|          | 0/392 [00:00<?, ?it/s]12.09it/s]"
     ]
    },
    {
     "name": "stdout",
     "output_type": "stream",
     "text": [
      "{'Train':  best_epoch_indx:59\n",
      " auc:0.9868437640418425 \n",
      " apur:0.9385481168493863 \n",
      " f1:0.8066509711595057 \n",
      " precision:0.6896093160334975 \n",
      " recall:0.9715428629297685 \n",
      ", 'Validation':  best_epoch_indx:59\n",
      " auc:0.9239720914784908 \n",
      " apur:0.7683194475515991 \n",
      " f1:0.6665419161676647 \n",
      " precision:0.5655763734518895 \n",
      " recall:0.8113895216400911 \n",
      ", 'Test':  best_epoch_indx:59\n",
      " auc:0.9262479006206511 \n",
      " apur:0.7688724362891304 \n",
      " f1:0.6727574750830565 \n",
      " precision:0.5741719293723418 \n",
      " recall:0.8122151321786691 \n",
      "}\n",
      "=====Epoch 60\n",
      "Training...\n"
     ]
    },
    {
     "name": "stderr",
     "output_type": "stream",
     "text": [
      "Iteration: 100%|██████████| 392/392 [00:19<00:00, 19.88it/s]\n",
      "Iteration: 100%|██████████| 109/109 [00:05<00:00, 21.32it/s]\n",
      "Iteration: 100%|██████████| 44/44 [00:02<00:00, 20.72it/s]s]\n",
      "Iteration:   0%|          | 0/392 [00:00<?, ?it/s]12.28it/s]"
     ]
    },
    {
     "name": "stdout",
     "output_type": "stream",
     "text": [
      "{'Train':  best_epoch_indx:60\n",
      " auc:0.9847954527998833 \n",
      " apur:0.9305836265161969 \n",
      " f1:0.7966207759699625 \n",
      " precision:0.6773438331382357 \n",
      " recall:0.9668843992100866 \n",
      ", 'Validation':  best_epoch_indx:60\n",
      " auc:0.9263416815554785 \n",
      " apur:0.7715281812090141 \n",
      " f1:0.6677890011223344 \n",
      " precision:0.5663071065989848 \n",
      " recall:0.8135824977210574 \n",
      ", 'Test':  best_epoch_indx:60\n",
      " auc:0.9253046563386723 \n",
      " apur:0.7620993627439916 \n",
      " f1:0.6707134292565948 \n",
      " precision:0.5694833290913719 \n",
      " recall:0.8157127232956617 \n",
      "}\n",
      "=====Epoch 61\n",
      "Training...\n"
     ]
    },
    {
     "name": "stderr",
     "output_type": "stream",
     "text": [
      "Iteration: 100%|██████████| 392/392 [00:31<00:00, 12.35it/s]\n",
      "Iteration:  96%|█████████▌| 377/392 [00:30<00:01, 12.36it/s]"
     ]
    },
    {
     "name": "stdout",
     "output_type": "stream",
     "text": [
      "Evaluating...\n"
     ]
    },
    {
     "name": "stderr",
     "output_type": "stream",
     "text": [
      "Iteration: 100%|██████████| 392/392 [00:32<00:00, 12.22it/s]\n",
      "Iteration:   4%|▍         | 17/392 [00:01<00:25, 14.63it/s]]"
     ]
    },
    {
     "name": "stdout",
     "output_type": "stream",
     "text": [
      "Evaluating...\n"
     ]
    },
    {
     "name": "stderr",
     "output_type": "stream",
     "text": [
      "Iteration: 100%|██████████| 44/44 [00:02<00:00, 18.65it/s]s]\n",
      "Iteration:  56%|█████▌    | 218/392 [00:17<00:13, 12.61it/s]"
     ]
    },
    {
     "name": "stdout",
     "output_type": "stream",
     "text": [
      "{'Train':  best_epoch_indx:58\n",
      " auc:0.9839591177211782 \n",
      " apur:0.927509063486066 \n",
      " f1:0.7927171450543511 \n",
      " precision:0.6723311239599492 \n",
      " recall:0.9656185123297382 \n",
      ", 'Validation':  best_epoch_indx:58\n",
      " auc:0.9242255056148196 \n",
      " apur:0.7609089341415672 \n",
      " f1:0.6615700167816522 \n",
      " precision:0.5597980435468602 \n",
      " recall:0.8085688240656336 \n",
      ", 'Test':  best_epoch_indx:58\n",
      " auc:0.9261851529156826 \n",
      " apur:0.7665805570099539 \n",
      " f1:0.6672128705496797 \n",
      " precision:0.5641057934508816 \n",
      " recall:0.8164418519868757 \n",
      "}\n",
      "=====Epoch 59\n",
      "Training...\n"
     ]
    },
    {
     "name": "stderr",
     "output_type": "stream",
     "text": [
      "Iteration: 100%|██████████| 392/392 [00:32<00:00, 12.13it/s]\n",
      "Iteration:  71%|███████▏  | 280/392 [00:22<00:08, 12.71it/s]"
     ]
    },
    {
     "name": "stdout",
     "output_type": "stream",
     "text": [
      "Evaluating...\n"
     ]
    },
    {
     "name": "stderr",
     "output_type": "stream",
     "text": [
      "Iteration: 100%|██████████| 392/392 [00:18<00:00, 20.64it/s]\n",
      "Iteration: 100%|██████████| 392/392 [00:19<00:00, 20.37it/s]\n",
      "Iteration: 100%|██████████| 109/109 [00:05<00:00, 19.97it/s]\n",
      "Iteration: 100%|██████████| 392/392 [00:31<00:00, 12.40it/s]\n",
      "Iteration:  51%|█████▏    | 201/392 [00:09<00:08, 21.81it/s]"
     ]
    },
    {
     "name": "stdout",
     "output_type": "stream",
     "text": [
      "Evaluating...\n"
     ]
    },
    {
     "name": "stderr",
     "output_type": "stream",
     "text": [
      "Iteration: 100%|██████████| 109/109 [00:04<00:00, 21.87it/s]\n",
      "Iteration: 100%|██████████| 44/44 [00:02<00:00, 20.12it/s]]]\n",
      "Iteration:   0%|          | 0/392 [00:00<?, ?it/s]21.77it/s]"
     ]
    },
    {
     "name": "stdout",
     "output_type": "stream",
     "text": [
      "{'Train':  best_epoch_indx:60\n",
      " auc:0.9843479727217991 \n",
      " apur:0.9275209767281816 \n",
      " f1:0.7923076923076924 \n",
      " precision:0.6696026003984481 \n",
      " recall:0.9700744341485645 \n",
      ", 'Validation':  best_epoch_indx:60\n",
      " auc:0.9232043547624551 \n",
      " apur:0.7634933458982865 \n",
      " f1:0.6629567798182157 \n",
      " precision:0.5589615264310291 \n",
      " recall:0.8144940747493163 \n",
      ", 'Test':  best_epoch_indx:60\n",
      " auc:0.9230591747261875 \n",
      " apur:0.7610529273085919 \n",
      " f1:0.6590607978801708 \n",
      " precision:0.552716049382716 \n",
      " recall:0.8160772876412686 \n",
      "}\n",
      "=====Epoch 61\n",
      "Training...\n"
     ]
    },
    {
     "name": "stderr",
     "output_type": "stream",
     "text": [
      "Iteration: 100%|██████████| 44/44 [00:02<00:00, 21.78it/s]s]\n",
      "Iteration:  54%|█████▍    | 212/392 [00:17<00:15, 11.71it/s]"
     ]
    },
    {
     "name": "stdout",
     "output_type": "stream",
     "text": [
      "{'Train':  best_epoch_indx:60\n",
      " auc:0.9861070985118354 \n",
      " apur:0.9360062502933515 \n",
      " f1:0.8086908644275973 \n",
      " precision:0.6950096458340916 \n",
      " recall:0.9668337637348726 \n",
      ", 'Validation':  best_epoch_indx:60\n",
      " auc:0.9260920780893884 \n",
      " apur:0.7623553540581501 \n",
      " f1:0.66980954176881 \n",
      " precision:0.5712447732389836 \n",
      " recall:0.8094804010938924 \n",
      ", 'Test':  best_epoch_indx:60\n",
      " auc:0.9272868801656096 \n",
      " apur:0.7654956018572663 \n",
      " f1:0.6706550549034457 \n",
      " precision:0.5736494364554994 \n",
      " recall:0.8071454611738972 \n",
      "}\n",
      "=====Epoch 61\n",
      "Training...\n"
     ]
    },
    {
     "name": "stderr",
     "output_type": "stream",
     "text": [
      "Iteration: 100%|██████████| 392/392 [00:18<00:00, 21.46it/s]\n",
      "Iteration: 100%|██████████| 109/109 [00:05<00:00, 21.49it/s]\n",
      "Iteration: 100%|██████████| 392/392 [00:17<00:00, 21.94it/s]\n",
      "Iteration: 100%|██████████| 392/392 [00:31<00:00, 12.31it/s]\n",
      "Iteration:  46%|████▌     | 180/392 [00:14<00:18, 11.71it/s]"
     ]
    },
    {
     "name": "stdout",
     "output_type": "stream",
     "text": [
      "Evaluating...\n"
     ]
    },
    {
     "name": "stderr",
     "output_type": "stream",
     "text": [
      "Iteration: 100%|██████████| 44/44 [00:02<00:00, 19.51it/s]s]\n",
      "Iteration:   0%|          | 1/392 [00:00<00:41,  9.43it/s]s]"
     ]
    },
    {
     "name": "stdout",
     "output_type": "stream",
     "text": [
      "{'Train':  best_epoch_indx:60\n",
      " auc:0.9874595886063346 \n",
      " apur:0.9409864427498681 \n",
      " f1:0.8081863979848867 \n",
      " precision:0.6902226524685382 \n",
      " recall:0.9747835333434605 \n",
      ", 'Validation':  best_epoch_indx:60\n",
      " auc:0.9225168662209265 \n",
      " apur:0.7629431573446398 \n",
      " f1:0.664676245568203 \n",
      " precision:0.5628950695322377 \n",
      " recall:0.8113895216400911 \n",
      ", 'Test':  best_epoch_indx:60\n",
      " auc:0.9257701147727838 \n",
      " apur:0.7673367031934214 \n",
      " f1:0.673852415768448 \n",
      " precision:0.574402467232074 \n",
      " recall:0.8149498632634458 \n",
      "}\n",
      "=====Epoch 61\n",
      "Training...\n"
     ]
    },
    {
     "name": "stderr",
     "output_type": "stream",
     "text": [
      "Iteration: 100%|██████████| 109/109 [00:04<00:00, 21.91it/s]\n",
      "Iteration: 100%|██████████| 44/44 [00:02<00:00, 21.93it/s]s]\n",
      "Iteration:  74%|███████▍  | 290/392 [00:23<00:08, 12.26it/s]"
     ]
    },
    {
     "name": "stdout",
     "output_type": "stream",
     "text": [
      "{'Train':  best_epoch_indx:61\n",
      " auc:0.9831655895848452 \n",
      " apur:0.9227731162943207 \n",
      " f1:0.8008880431335237 \n",
      " precision:0.6875408407754302 \n",
      " recall:0.9589852650767128 \n",
      ", 'Validation':  best_epoch_indx:61\n",
      " auc:0.9238887297113283 \n",
      " apur:0.7595890678539299 \n",
      " f1:0.6605922551252847 \n",
      " precision:0.5660377358490566 \n",
      " recall:0.7930720145852325 \n",
      ", 'Test':  best_epoch_indx:61\n",
      " auc:0.9210429321599299 \n",
      " apur:0.7492511421855548 \n",
      " f1:0.6621981872191333 \n",
      " precision:0.5687557241920712 \n",
      " recall:0.7923806051768137 \n",
      "}\n",
      "=====Epoch 62\n",
      "Training...\n"
     ]
    },
    {
     "name": "stderr",
     "output_type": "stream",
     "text": [
      "Iteration: 100%|██████████| 392/392 [00:31<00:00, 12.36it/s]\n",
      "Iteration:  24%|██▍       | 94/392 [00:07<00:23, 12.64it/s]]"
     ]
    },
    {
     "name": "stdout",
     "output_type": "stream",
     "text": [
      "Evaluating...\n"
     ]
    },
    {
     "name": "stderr",
     "output_type": "stream",
     "text": [
      "Iteration: 100%|██████████| 392/392 [00:31<00:00, 12.30it/s]\n",
      "Iteration:  27%|██▋       | 106/392 [00:08<00:22, 12.66it/s]"
     ]
    },
    {
     "name": "stdout",
     "output_type": "stream",
     "text": [
      "Evaluating...\n"
     ]
    },
    {
     "name": "stderr",
     "output_type": "stream",
     "text": [
      "Iteration: 100%|██████████| 392/392 [00:18<00:00, 21.45it/s]\n",
      "Iteration: 100%|██████████| 109/109 [00:05<00:00, 20.97it/s]\n",
      "Iteration: 100%|██████████| 392/392 [00:32<00:00, 12.00it/s]\n",
      "Iteration:  78%|███████▊  | 306/392 [00:24<00:06, 12.58it/s]"
     ]
    },
    {
     "name": "stdout",
     "output_type": "stream",
     "text": [
      "Evaluating...\n"
     ]
    },
    {
     "name": "stderr",
     "output_type": "stream",
     "text": [
      "Iteration: 100%|██████████| 392/392 [00:17<00:00, 22.08it/s]\n",
      "Iteration: 100%|██████████| 392/392 [00:18<00:00, 21.60it/s]\n",
      "Iteration: 100%|██████████| 109/109 [00:04<00:00, 22.47it/s]\n",
      "Iteration: 100%|██████████| 392/392 [00:31<00:00, 12.56it/s]\n",
      "Iteration:   0%|          | 0/392 [00:00<?, ?it/s]"
     ]
    },
    {
     "name": "stdout",
     "output_type": "stream",
     "text": [
      "Evaluating...\n"
     ]
    },
    {
     "name": "stderr",
     "output_type": "stream",
     "text": [
      "Iteration: 100%|██████████| 109/109 [00:04<00:00, 21.93it/s]\n",
      "Iteration: 100%|██████████| 44/44 [00:01<00:00, 22.24it/s]s]\n",
      "Iteration:  52%|█████▏    | 204/392 [00:09<00:08, 21.23it/s]"
     ]
    },
    {
     "name": "stdout",
     "output_type": "stream",
     "text": [
      "{'Train':  best_epoch_indx:61\n",
      " auc:0.9810739663676733 \n",
      " apur:0.9162202120849439 \n",
      " f1:0.7541138121980914 \n",
      " precision:0.6159027488212464 \n",
      " recall:0.9723023950579777 \n",
      ", 'Validation':  best_epoch_indx:61\n",
      " auc:0.9217440696104213 \n",
      " apur:0.7518065815654597 \n",
      " f1:0.6473665852807813 \n",
      " precision:0.5242937853107345 \n",
      " recall:0.845943482224248 \n",
      ", 'Test':  best_epoch_indx:61\n",
      " auc:0.9184357645945201 \n",
      " apur:0.7433095427756833 \n",
      " f1:0.636438923395445 \n",
      " precision:0.5121057307863172 \n",
      " recall:0.8405030987969376 \n",
      "}\n",
      "=====Epoch 62\n",
      "Training...\n"
     ]
    },
    {
     "name": "stderr",
     "output_type": "stream",
     "text": [
      "Iteration: 100%|██████████| 44/44 [00:02<00:00, 21.77it/s]]]\n",
      "Iteration:   5%|▍         | 18/392 [00:01<00:29, 12.76it/s]]"
     ]
    },
    {
     "name": "stdout",
     "output_type": "stream",
     "text": [
      "{'Train':  best_epoch_indx:61\n",
      " auc:0.9854384506761402 \n",
      " apur:0.933390752776456 \n",
      " f1:0.8001339416516681 \n",
      " precision:0.681910605357971 \n",
      " recall:0.9679477441895792 \n",
      ", 'Validation':  best_epoch_indx:61\n",
      " auc:0.9256774846347043 \n",
      " apur:0.7626767805383999 \n",
      " f1:0.6700261291526689 \n",
      " precision:0.5673198482932996 \n",
      " recall:0.8181403828623519 \n",
      ", 'Test':  best_epoch_indx:61\n",
      " auc:0.9266411741433769 \n",
      " apur:0.7653723575975585 \n",
      " f1:0.6657748049052398 \n",
      " precision:0.5620529552014054 \n",
      " recall:0.8164418519868757 \n",
      "}\n",
      "=====Epoch 62\n",
      "Training...\n"
     ]
    },
    {
     "name": "stderr",
     "output_type": "stream",
     "text": [
      "Iteration: 100%|██████████| 392/392 [00:18<00:00, 21.08it/s]\n",
      "Iteration: 100%|██████████| 109/109 [00:04<00:00, 21.87it/s]\n",
      "Iteration: 100%|██████████| 392/392 [00:19<00:00, 19.77it/s]\n",
      "Iteration: 100%|██████████| 44/44 [00:02<00:00, 21.56it/s]s]\n",
      "Iteration:  43%|████▎     | 19/44 [00:01<00:02, 11.44it/s]s]"
     ]
    },
    {
     "name": "stdout",
     "output_type": "stream",
     "text": [
      "{'Train':  best_epoch_indx:61\n",
      " auc:0.9850753505991884 \n",
      " apur:0.9312535209930979 \n",
      " f1:0.79931453888111 \n",
      " precision:0.6805209593623229 \n",
      " recall:0.9683528279912907 \n",
      ", 'Validation':  best_epoch_indx:61\n",
      " auc:0.9201320698065292 \n",
      " apur:0.7574212103727445 \n",
      " f1:0.6578060651441409 \n",
      " precision:0.5583095011121704 \n",
      " recall:0.8004555808656036 \n",
      ", 'Test':  best_epoch_indx:61\n",
      " auc:0.9225285589430539 \n",
      " apur:0.7578268509464006 \n",
      " f1:0.6628976330468869 \n",
      " precision:0.5650944608662126 \n",
      " recall:0.801640838650866 \n",
      "}\n",
      "=====Epoch 62\n",
      "Training...\n"
     ]
    },
    {
     "name": "stderr",
     "output_type": "stream",
     "text": [
      "Iteration: 100%|██████████| 44/44 [00:03<00:00, 14.22it/s]]]\n",
      "Iteration:  17%|█▋        | 18/109 [00:00<00:04, 22.37it/s]]"
     ]
    },
    {
     "name": "stdout",
     "output_type": "stream",
     "text": [
      "{'Train':  best_epoch_indx:59\n",
      " auc:0.9880940876992584 \n",
      " apur:0.9446629459243188 \n",
      " f1:0.8186236889229982 \n",
      " precision:0.7069479730476085 \n",
      " recall:0.9722011241075498 \n",
      ", 'Validation':  best_epoch_indx:59\n",
      " auc:0.9279716970644535 \n",
      " apur:0.775395018082491 \n",
      " f1:0.6755776207752531 \n",
      " precision:0.5813342096615183 \n",
      " recall:0.8062898814949864 \n",
      ", 'Test':  best_epoch_indx:59\n",
      " auc:0.9278113602330635 \n",
      " apur:0.7726904525518412 \n",
      " f1:0.6782409177820268 \n",
      " precision:0.5842667018052444 \n",
      " recall:0.8082391542107182 \n",
      "}\n",
      "=====Epoch 60\n",
      "Training...\n"
     ]
    },
    {
     "name": "stderr",
     "output_type": "stream",
     "text": [
      "Iteration: 100%|██████████| 109/109 [00:04<00:00, 22.21it/s]\n",
      "Iteration: 100%|██████████| 44/44 [00:02<00:00, 21.75it/s]]]\n",
      "Iteration:   0%|          | 0/392 [00:00<?, ?it/s]2.53it/s]]"
     ]
    },
    {
     "name": "stdout",
     "output_type": "stream",
     "text": [
      "{'Train':  best_epoch_indx:62\n",
      " auc:0.9810778066087633 \n",
      " apur:0.9160148479745142 \n",
      " f1:0.783213588604178 \n",
      " precision:0.6638389242845577 \n",
      " recall:0.954934427059598 \n",
      ", 'Validation':  best_epoch_indx:62\n",
      " auc:0.9203374177409753 \n",
      " apur:0.7463125755108184 \n",
      " f1:0.6489894307435564 \n",
      " precision:0.5470459518599562 \n",
      " recall:0.7976298997265269 \n",
      ", 'Test':  best_epoch_indx:62\n",
      " auc:0.9204519597847096 \n",
      " apur:0.7480812796872993 \n",
      " f1:0.6530642528565068 \n",
      " precision:0.5506756756756757 \n",
      " recall:0.8022238425082027 \n",
      "}\n",
      "=====Epoch 63\n",
      "Training...\n"
     ]
    },
    {
     "name": "stderr",
     "output_type": "stream",
     "text": [
      "Iteration: 100%|██████████| 392/392 [00:32<00:00, 12.16it/s]\n",
      "Iteration:  45%|████▍     | 176/392 [00:14<00:17, 12.23it/s]"
     ]
    },
    {
     "name": "stdout",
     "output_type": "stream",
     "text": [
      "Evaluating...\n"
     ]
    },
    {
     "name": "stderr",
     "output_type": "stream",
     "text": [
      "Iteration: 100%|██████████| 392/392 [00:31<00:00, 12.32it/s]\n",
      "Iteration:  44%|████▍     | 174/392 [00:14<00:17, 12.47it/s]"
     ]
    },
    {
     "name": "stdout",
     "output_type": "stream",
     "text": [
      "Evaluating...\n"
     ]
    },
    {
     "name": "stderr",
     "output_type": "stream",
     "text": [
      "Iteration: 100%|██████████| 392/392 [00:32<00:00, 12.12it/s]\n",
      "Iteration:  90%|█████████ | 354/392 [00:17<00:01, 21.46it/s]"
     ]
    },
    {
     "name": "stdout",
     "output_type": "stream",
     "text": [
      "Evaluating...\n"
     ]
    },
    {
     "name": "stderr",
     "output_type": "stream",
     "text": [
      "Iteration: 100%|██████████| 392/392 [00:31<00:00, 12.38it/s]\n",
      "Iteration:   1%|          | 3/392 [00:00<00:18, 20.57it/s]s]"
     ]
    },
    {
     "name": "stdout",
     "output_type": "stream",
     "text": [
      "Evaluating...\n"
     ]
    },
    {
     "name": "stderr",
     "output_type": "stream",
     "text": [
      "Iteration: 100%|██████████| 392/392 [00:18<00:00, 20.65it/s]\n",
      "Iteration: 100%|██████████| 392/392 [00:18<00:00, 20.77it/s]\n",
      "Iteration: 100%|██████████| 392/392 [00:31<00:00, 12.52it/s]\n",
      "Iteration:   0%|          | 0/392 [00:00<?, ?it/s]"
     ]
    },
    {
     "name": "stdout",
     "output_type": "stream",
     "text": [
      "Evaluating...\n"
     ]
    },
    {
     "name": "stderr",
     "output_type": "stream",
     "text": [
      "Iteration: 100%|██████████| 109/109 [00:04<00:00, 22.18it/s]\n",
      "Iteration: 100%|██████████| 109/109 [00:05<00:00, 20.76it/s]\n",
      "Iteration: 100%|██████████| 44/44 [00:02<00:00, 21.72it/s]]]\n",
      "Iteration:   0%|          | 0/392 [00:00<?, ?it/s]1.75it/s]]"
     ]
    },
    {
     "name": "stdout",
     "output_type": "stream",
     "text": [
      "{'Train':  best_epoch_indx:62\n",
      " auc:0.9809432669426813 \n",
      " apur:0.9163051160305578 \n",
      " f1:0.7637961124149967 \n",
      " precision:0.6324496711181982 \n",
      " recall:0.9639981771228923 \n",
      ", 'Validation':  best_epoch_indx:62\n",
      " auc:0.9229569746549702 \n",
      " apur:0.7625181049346788 \n",
      " f1:0.6509874326750449 \n",
      " precision:0.5370260663507109 \n",
      " recall:0.8263445761166819 \n",
      ", 'Test':  best_epoch_indx:62\n",
      " auc:0.919779796960747 \n",
      " apur:0.7510033829964442 \n",
      " f1:0.6453352252571833 \n",
      " precision:0.5282843535834592 \n",
      " recall:0.8290193219103171 \n",
      "}\n",
      "=====Epoch 63\n",
      "Training...\n"
     ]
    },
    {
     "name": "stderr",
     "output_type": "stream",
     "text": [
      "Iteration: 100%|██████████| 44/44 [00:02<00:00, 21.44it/s]]]\n",
      "Iteration:  21%|██▏       | 84/392 [00:03<00:14, 21.85it/s]]"
     ]
    },
    {
     "name": "stdout",
     "output_type": "stream",
     "text": [
      "{'Train':  best_epoch_indx:62\n",
      " auc:0.9822135821621095 \n",
      " apur:0.9214617728174492 \n",
      " f1:0.7662662162432287 \n",
      " precision:0.6330338859898276 \n",
      " recall:0.9705301534254899 \n",
      ", 'Validation':  best_epoch_indx:62\n",
      " auc:0.9225492610269148 \n",
      " apur:0.7527044699749628 \n",
      " f1:0.649346058677978 \n",
      " precision:0.5303117782909931 \n",
      " recall:0.8372835004557885 \n",
      ", 'Test':  best_epoch_indx:62\n",
      " auc:0.9228061710613121 \n",
      " apur:0.7543029849269416 \n",
      " f1:0.6475136553876711 \n",
      " precision:0.5300197421902219 \n",
      " recall:0.8319358366751731 \n",
      "}\n",
      "=====Epoch 63\n",
      "Training...\n"
     ]
    },
    {
     "name": "stderr",
     "output_type": "stream",
     "text": [
      "Iteration: 100%|██████████| 392/392 [00:19<00:00, 20.26it/s]\n",
      "Iteration: 100%|██████████| 392/392 [00:19<00:00, 20.63it/s]\n",
      "Iteration: 100%|██████████| 392/392 [00:17<00:00, 22.03it/s]\n",
      "Iteration: 100%|██████████| 109/109 [00:05<00:00, 21.58it/s]\n",
      "Iteration: 100%|██████████| 109/109 [00:05<00:00, 20.07it/s]\n",
      "Iteration: 100%|██████████| 44/44 [00:02<00:00, 18.54it/s]s]\n",
      "Iteration:  52%|█████▏    | 57/109 [00:02<00:02, 22.52it/s]]"
     ]
    },
    {
     "name": "stdout",
     "output_type": "stream",
     "text": [
      "{'Train':  best_epoch_indx:62\n",
      " auc:0.9831574614139258 \n",
      " apur:0.9240225975508619 \n",
      " f1:0.7974929304013845 \n",
      " precision:0.6836849151499801 \n",
      " recall:0.9567573041672996 \n",
      ", 'Validation':  best_epoch_indx:62\n",
      " auc:0.9206055568788349 \n",
      " apur:0.7569593522894787 \n",
      " f1:0.6679259539100869 \n",
      " precision:0.5705066150371088 \n",
      " recall:0.8054669703872437 \n",
      ", 'Test':  best_epoch_indx:62\n",
      " auc:0.9221382791197844 \n",
      " apur:0.7588730098119367 \n",
      " f1:0.6649390243902439 \n",
      " precision:0.5713163064833006 \n",
      " recall:0.7952597994530538 \n",
      "}\n",
      "=====Epoch 63\n",
      "Training...\n"
     ]
    },
    {
     "name": "stderr",
     "output_type": "stream",
     "text": [
      "Iteration: 100%|██████████| 44/44 [00:02<00:00, 21.86it/s]s]\n",
      "Iteration:   2%|▏         | 6/392 [00:00<00:32, 11.99it/s]s]"
     ]
    },
    {
     "name": "stdout",
     "output_type": "stream",
     "text": [
      "{'Train':  best_epoch_indx:60\n",
      " auc:0.9875639657665449 \n",
      " apur:0.942636889593892 \n",
      " f1:0.8176455501410619 \n",
      " precision:0.7074226117829802 \n",
      " recall:0.9685553698921464 \n",
      ", 'Validation':  best_epoch_indx:60\n",
      " auc:0.925315056206925 \n",
      " apur:0.7689854230771324 \n",
      " f1:0.6756496631376323 \n",
      " precision:0.5848050649783405 \n",
      " recall:0.7999088422971741 \n",
      ", 'Test':  best_epoch_indx:60\n",
      " auc:0.926707244360662 \n",
      " apur:0.7698964831281254 \n",
      " f1:0.6778879409730229 \n",
      " precision:0.586046511627907 \n",
      " recall:0.8038643820634342 \n",
      "}\n",
      "=====Epoch 61\n",
      "Training...\n"
     ]
    },
    {
     "name": "stderr",
     "output_type": "stream",
     "text": [
      "Iteration: 100%|██████████| 109/109 [00:04<00:00, 22.00it/s]\n",
      "Iteration: 100%|██████████| 44/44 [00:02<00:00, 20.68it/s]]]\n",
      "Iteration:  77%|███████▋  | 300/392 [00:24<00:07, 11.78it/s]"
     ]
    },
    {
     "name": "stdout",
     "output_type": "stream",
     "text": [
      "{'Train':  best_epoch_indx:63\n",
      " auc:0.9779033143695933 \n",
      " apur:0.9053810984739603 \n",
      " f1:0.7531651859360403 \n",
      " precision:0.6199123151419971 \n",
      " recall:0.9593903488784242 \n",
      ", 'Validation':  best_epoch_indx:63\n",
      " auc:0.9211012253222927 \n",
      " apur:0.7514589127371353 \n",
      " f1:0.6408040909892436 \n",
      " precision:0.5225769341386253 \n",
      " recall:0.8281677301731997 \n",
      ", 'Test':  best_epoch_indx:63\n",
      " auc:0.9181236119181331 \n",
      " apur:0.7463796068804992 \n",
      " f1:0.6465585018940748 \n",
      " precision:0.5318048206937096 \n",
      " recall:0.8244622675902297 \n",
      "}\n",
      "=====Epoch 64\n",
      "Training...\n"
     ]
    },
    {
     "name": "stderr",
     "output_type": "stream",
     "text": [
      "Iteration: 100%|██████████| 392/392 [00:31<00:00, 12.43it/s]\n",
      "Iteration:   1%|          | 2/392 [00:00<00:21, 18.42it/s]s]"
     ]
    },
    {
     "name": "stdout",
     "output_type": "stream",
     "text": [
      "Evaluating...\n"
     ]
    },
    {
     "name": "stderr",
     "output_type": "stream",
     "text": [
      "Iteration: 100%|██████████| 392/392 [00:31<00:00, 12.34it/s]\n",
      "Iteration:   8%|▊         | 33/392 [00:01<00:15, 22.58it/s]]"
     ]
    },
    {
     "name": "stdout",
     "output_type": "stream",
     "text": [
      "Evaluating...\n"
     ]
    },
    {
     "name": "stderr",
     "output_type": "stream",
     "text": [
      "Iteration: 100%|██████████| 392/392 [00:17<00:00, 21.95it/s]\n",
      "Iteration: 100%|██████████| 392/392 [00:31<00:00, 12.34it/s]\n",
      "Iteration: 100%|██████████| 392/392 [00:32<00:00, 12.14it/s]\n",
      "Iteration:  96%|█████████▌| 377/392 [00:18<00:00, 21.46it/s]"
     ]
    },
    {
     "name": "stdout",
     "output_type": "stream",
     "text": [
      "Evaluating...\n",
      "Evaluating...\n"
     ]
    },
    {
     "name": "stderr",
     "output_type": "stream",
     "text": [
      "Iteration: 100%|██████████| 392/392 [00:18<00:00, 20.72it/s]\n",
      "Iteration: 100%|██████████| 109/109 [00:05<00:00, 20.49it/s]\n",
      "Iteration: 100%|██████████| 392/392 [00:31<00:00, 12.31it/s]\n",
      "Iteration:   0%|          | 0/392 [00:00<?, ?it/s]"
     ]
    },
    {
     "name": "stdout",
     "output_type": "stream",
     "text": [
      "Evaluating...\n"
     ]
    },
    {
     "name": "stderr",
     "output_type": "stream",
     "text": [
      "Iteration: 100%|██████████| 109/109 [00:05<00:00, 21.54it/s]\n",
      "Iteration: 100%|██████████| 44/44 [00:02<00:00, 21.72it/s]]]\n",
      "Iteration:   7%|▋         | 3/44 [00:00<00:01, 21.00it/s]s]]"
     ]
    },
    {
     "name": "stdout",
     "output_type": "stream",
     "text": [
      "{'Train':  best_epoch_indx:63\n",
      " auc:0.9759305177723157 \n",
      " apur:0.8984863177055702 \n",
      " f1:0.7297240281533476 \n",
      " precision:0.5873001173056739 \n",
      " recall:0.9633399159451111 \n",
      ", 'Validation':  best_epoch_indx:63\n",
      " auc:0.9168128280240508 \n",
      " apur:0.7453174423980959 \n",
      " f1:0.6317231928742719 \n",
      " precision:0.5060373216245884 \n",
      " recall:0.8404740200546946 \n",
      ", 'Test':  best_epoch_indx:63\n",
      " auc:0.9147000605907016 \n",
      " apur:0.7339603908991319 \n",
      " f1:0.6229997287767833 \n",
      " precision:0.49600518246599007 \n",
      " recall:0.8374043018592782 \n",
      "}\n",
      "=====Epoch 64\n",
      "Training...\n"
     ]
    },
    {
     "name": "stderr",
     "output_type": "stream",
     "text": [
      "Iteration: 100%|██████████| 44/44 [00:02<00:00, 20.41it/s]s]\n",
      "Iteration:  28%|██▊       | 111/392 [00:05<00:12, 22.32it/s]"
     ]
    },
    {
     "name": "stdout",
     "output_type": "stream",
     "text": [
      "{'Train':  best_epoch_indx:63\n",
      " auc:0.9744635837812701 \n",
      " apur:0.8952171146057757 \n",
      " f1:0.7388884533981344 \n",
      " precision:0.6027046900476358 \n",
      " recall:0.9545799787331004 \n",
      ", 'Validation':  best_epoch_indx:63\n",
      " auc:0.9175515074581096 \n",
      " apur:0.7414006460644383 \n",
      " f1:0.6341378711581872 \n",
      " precision:0.5122019635343619 \n",
      " recall:0.8322698268003647 \n",
      ", 'Test':  best_epoch_indx:63\n",
      " auc:0.9165325608419019 \n",
      " apur:0.7350122513860305 \n",
      " f1:0.6337557443253028 \n",
      " precision:0.5127309598918431 \n",
      " recall:0.8295661684287277 \n",
      "}\n",
      "=====Epoch 64\n",
      "Training...\n"
     ]
    },
    {
     "name": "stderr",
     "output_type": "stream",
     "text": [
      "Iteration: 100%|██████████| 392/392 [00:18<00:00, 21.66it/s]\n",
      "Iteration: 100%|██████████| 392/392 [00:19<00:00, 20.54it/s]\n",
      "Iteration: 100%|██████████| 392/392 [00:17<00:00, 22.29it/s]\n",
      "Iteration: 100%|██████████| 109/109 [00:05<00:00, 19.56it/s]\n",
      "Iteration: 100%|██████████| 109/109 [00:05<00:00, 19.43it/s]\n",
      "Iteration: 100%|██████████| 44/44 [00:02<00:00, 21.31it/s]]]\n",
      "Iteration:   0%|          | 0/392 [00:00<?, ?it/s].00it/s]s]"
     ]
    },
    {
     "name": "stdout",
     "output_type": "stream",
     "text": [
      "{'Train':  best_epoch_indx:61\n",
      " auc:0.9850815609856632 \n",
      " apur:0.9330125257868663 \n",
      " f1:0.8060379601715426 \n",
      " precision:0.694000658063101 \n",
      " recall:0.9612132259861259 \n",
      ", 'Validation':  best_epoch_indx:61\n",
      " auc:0.9221968796630227 \n",
      " apur:0.75645182285138 \n",
      " f1:0.6721943694562282 \n",
      " precision:0.5825534759358288 \n",
      " recall:0.7944393801276208 \n",
      ", 'Test':  best_epoch_indx:61\n",
      " auc:0.9234157659045893 \n",
      " apur:0.7603180369754852 \n",
      " f1:0.6707706338349293 \n",
      " precision:0.575208550573514 \n",
      " recall:0.8044112285818447 \n",
      "}\n",
      "=====Epoch 62\n",
      "Training...\n"
     ]
    },
    {
     "name": "stderr",
     "output_type": "stream",
     "text": [
      "Iteration: 100%|██████████| 44/44 [00:02<00:00, 21.07it/s]s]\n",
      "Iteration: 100%|██████████| 109/109 [00:04<00:00, 22.52it/s]\n",
      "Iteration:   4%|▎         | 14/392 [00:01<00:30, 12.46it/s]]"
     ]
    },
    {
     "name": "stdout",
     "output_type": "stream",
     "text": [
      "{'Train':  best_epoch_indx:63\n",
      " auc:0.9817491539086776 \n",
      " apur:0.9205595802573128 \n",
      " f1:0.7992918692944289 \n",
      " precision:0.6905104109084209 \n",
      " recall:0.9487568990834979 \n",
      ", 'Validation':  best_epoch_indx:63\n",
      " auc:0.9178208272248147 \n",
      " apur:0.7523257937122336 \n",
      " f1:0.6610558530986994 \n",
      " precision:0.56973293768546 \n",
      " recall:0.7872437357630979 \n",
      ", 'Test':  best_epoch_indx:63\n",
      " auc:0.9188602367146709 \n",
      " apur:0.7474419215820999 \n",
      " f1:0.6619403560144872 \n",
      " precision:0.5732781633742658 \n",
      " recall:0.7830446672743847 \n",
      "}\n",
      "=====Epoch 64\n",
      "Training...\n"
     ]
    },
    {
     "name": "stderr",
     "output_type": "stream",
     "text": [
      "Iteration: 100%|██████████| 44/44 [00:02<00:00, 21.40it/s]]]\n",
      "Iteration:   8%|▊         | 32/392 [00:02<00:29, 12.24it/s]]"
     ]
    },
    {
     "name": "stdout",
     "output_type": "stream",
     "text": [
      "{'Train':  best_epoch_indx:64\n",
      " auc:0.9725645421645555 \n",
      " apur:0.8874537967774043 \n",
      " f1:0.7454158809132128 \n",
      " precision:0.6172708243346513 \n",
      " recall:0.9407058585244823 \n",
      ", 'Validation':  best_epoch_indx:64\n",
      " auc:0.9152576935549029 \n",
      " apur:0.7413429813355119 \n",
      " f1:0.6321593738882959 \n",
      " precision:0.5183780630105017 \n",
      " recall:0.8099361896080218 \n",
      ", 'Test':  best_epoch_indx:64\n",
      " auc:0.9122981497933269 \n",
      " apur:0.7331776087769023 \n",
      " f1:0.6385447253455562 \n",
      " precision:0.5258935944319925 \n",
      " recall:0.8126139263580022 \n",
      "}\n",
      "=====Epoch 65\n",
      "Training...\n"
     ]
    },
    {
     "name": "stderr",
     "output_type": "stream",
     "text": [
      "Iteration: 100%|██████████| 392/392 [00:31<00:00, 12.33it/s]\n",
      "Iteration:  34%|███▎      | 132/392 [00:10<00:21, 12.09it/s]"
     ]
    },
    {
     "name": "stdout",
     "output_type": "stream",
     "text": [
      "Evaluating...\n"
     ]
    },
    {
     "name": "stderr",
     "output_type": "stream",
     "text": [
      "Iteration: 100%|██████████| 392/392 [00:32<00:00, 12.17it/s]\n",
      "Iteration:  42%|████▏     | 164/392 [00:13<00:19, 11.93it/s]"
     ]
    },
    {
     "name": "stdout",
     "output_type": "stream",
     "text": [
      "Evaluating...\n"
     ]
    },
    {
     "name": "stderr",
     "output_type": "stream",
     "text": [
      "Iteration: 100%|██████████| 392/392 [00:18<00:00, 21.38it/s]\n",
      "Iteration: 100%|██████████| 392/392 [00:31<00:00, 12.42it/s]\n",
      "Iteration:  94%|█████████▍| 369/392 [00:17<00:01, 21.81it/s]"
     ]
    },
    {
     "name": "stdout",
     "output_type": "stream",
     "text": [
      "Evaluating...\n"
     ]
    },
    {
     "name": "stderr",
     "output_type": "stream",
     "text": [
      "Iteration: 100%|██████████| 392/392 [00:18<00:00, 21.29it/s]\n",
      "Iteration: 100%|██████████| 392/392 [00:32<00:00, 12.22it/s]\n",
      "Iteration:   8%|▊         | 32/392 [00:01<00:19, 18.07it/s]]"
     ]
    },
    {
     "name": "stdout",
     "output_type": "stream",
     "text": [
      "Evaluating...\n"
     ]
    },
    {
     "name": "stderr",
     "output_type": "stream",
     "text": [
      "Iteration: 100%|██████████| 392/392 [00:31<00:00, 12.58it/s]\n",
      "Iteration:   0%|          | 0/392 [00:00<?, ?it/s]"
     ]
    },
    {
     "name": "stdout",
     "output_type": "stream",
     "text": [
      "Evaluating...\n"
     ]
    },
    {
     "name": "stderr",
     "output_type": "stream",
     "text": [
      "Iteration: 100%|██████████| 109/109 [00:04<00:00, 22.28it/s]\n",
      "Iteration: 100%|██████████| 44/44 [00:01<00:00, 22.24it/s]]]\n",
      "Iteration: 100%|██████████| 109/109 [00:04<00:00, 21.99it/s]\n",
      "Iteration:   0%|          | 0/392 [00:00<?, ?it/s]"
     ]
    },
    {
     "name": "stdout",
     "output_type": "stream",
     "text": [
      "{'Train':  best_epoch_indx:64\n",
      " auc:0.969618559246259 \n",
      " apur:0.8719870046505397 \n",
      " f1:0.7372531829683796 \n",
      " precision:0.6077858081471748 \n",
      " recall:0.9368069269330093 \n",
      ", 'Validation':  best_epoch_indx:64\n",
      " auc:0.90810481331968 \n",
      " apur:0.7187738063201426 \n",
      " f1:0.6288678232874263 \n",
      " precision:0.5175154548130704 \n",
      " recall:0.8012762078395624 \n",
      ", 'Test':  best_epoch_indx:64\n",
      " auc:0.9074371931874252 \n",
      " apur:0.7157094650737712 \n",
      " f1:0.6243183910487926 \n",
      " precision:0.5104806022003474 \n",
      " recall:0.8034998177178272 \n",
      "}\n",
      "=====Epoch 65\n",
      "Training...\n"
     ]
    },
    {
     "name": "stderr",
     "output_type": "stream",
     "text": [
      "Iteration: 100%|██████████| 44/44 [00:02<00:00, 21.25it/s]s]\n",
      "Iteration:  39%|███▉      | 153/392 [00:06<00:10, 22.09it/s]"
     ]
    },
    {
     "name": "stdout",
     "output_type": "stream",
     "text": [
      "{'Train':  best_epoch_indx:64\n",
      " auc:0.9744348671786907 \n",
      " apur:0.8896012419484222 \n",
      " f1:0.7378799688230709 \n",
      " precision:0.5997275981121916 \n",
      " recall:0.9587320877006431 \n",
      ", 'Validation':  best_epoch_indx:64\n",
      " auc:0.9172281975567387 \n",
      " apur:0.7342973459620779 \n",
      " f1:0.6374045801526717 \n",
      " precision:0.5145658263305322 \n",
      " recall:0.8372835004557885 \n",
      ", 'Test':  best_epoch_indx:64\n",
      " auc:0.9183832963943297 \n",
      " apur:0.7389062042699783 \n",
      " f1:0.6322571705694887 \n",
      " precision:0.5099463567277603 \n",
      " recall:0.8317535545023697 \n",
      "}\n",
      "=====Epoch 65\n",
      "Training...\n"
     ]
    },
    {
     "name": "stderr",
     "output_type": "stream",
     "text": [
      "Iteration: 100%|██████████| 392/392 [00:18<00:00, 20.77it/s]\n",
      "Iteration: 100%|██████████| 392/392 [00:17<00:00, 22.12it/s]\n",
      "Iteration: 100%|██████████| 392/392 [00:19<00:00, 19.74it/s]\n",
      "Iteration: 100%|██████████| 109/109 [00:04<00:00, 21.84it/s]\n",
      "Iteration: 100%|██████████| 109/109 [00:04<00:00, 22.37it/s]\n",
      "Iteration: 100%|██████████| 44/44 [00:02<00:00, 19.15it/s]s]\n",
      "Iteration: 100%|██████████| 109/109 [00:05<00:00, 20.30it/s]\n",
      "Iteration:  66%|██████▋   | 260/392 [00:20<00:10, 12.25it/s]"
     ]
    },
    {
     "name": "stdout",
     "output_type": "stream",
     "text": [
      "{'Train':  best_epoch_indx:62\n",
      " auc:0.9830709862043062 \n",
      " apur:0.925153417059318 \n",
      " f1:0.7917466410748559 \n",
      " precision:0.6732782173650782 \n",
      " recall:0.9608081421844143 \n",
      ", 'Validation':  best_epoch_indx:62\n",
      " auc:0.9196723188917102 \n",
      " apur:0.7495017136357989 \n",
      " f1:0.6575136355087455 \n",
      " precision:0.5597182196605828 \n",
      " recall:0.796718322698268 \n",
      ", 'Test':  best_epoch_indx:62\n",
      " auc:0.921386460622487 \n",
      " apur:0.7562072063821539 \n",
      " f1:0.660630098031879 \n",
      " precision:0.5603656214294782 \n",
      " recall:0.8045935107546482 \n",
      "}\n",
      "=====Epoch 63\n",
      "Training...\n"
     ]
    },
    {
     "name": "stderr",
     "output_type": "stream",
     "text": [
      "Iteration: 100%|██████████| 44/44 [00:01<00:00, 22.58it/s]s]\n",
      "Iteration:  71%|███████▏  | 280/392 [00:22<00:08, 12.66it/s]"
     ]
    },
    {
     "name": "stdout",
     "output_type": "stream",
     "text": [
      "{'Train':  best_epoch_indx:65\n",
      " auc:0.9761696607041896 \n",
      " apur:0.89594624311493 \n",
      " f1:0.7631616522182559 \n",
      " precision:0.63898756660746 \n",
      " recall:0.9472378348270799 \n",
      ", 'Validation':  best_epoch_indx:65\n",
      " auc:0.9197538909824351 \n",
      " apur:0.7473600500701731 \n",
      " f1:0.6447272727272727 \n",
      " precision:0.5362976406533575 \n",
      " recall:0.8081130355515042 \n",
      ", 'Test':  best_epoch_indx:65\n",
      " auc:0.9170835451032163 \n",
      " apur:0.7344386006451379 \n",
      " f1:0.6487908234090743 \n",
      " precision:0.5413973905621265 \n",
      " recall:0.8093328472475392 \n",
      "}\n",
      "=====Epoch 66\n",
      "Training...\n"
     ]
    },
    {
     "name": "stderr",
     "output_type": "stream",
     "text": [
      "Iteration: 100%|██████████| 44/44 [00:02<00:00, 21.08it/s]]]\n",
      "Iteration:  74%|███████▍  | 292/392 [00:23<00:08, 12.31it/s]"
     ]
    },
    {
     "name": "stdout",
     "output_type": "stream",
     "text": [
      "{'Train':  best_epoch_indx:64\n",
      " auc:0.9742035364306013 \n",
      " apur:0.8907637865197707 \n",
      " f1:0.7650507234325629 \n",
      " precision:0.6489508023276318 \n",
      " recall:0.9317433794116158 \n",
      ", 'Validation':  best_epoch_indx:64\n",
      " auc:0.915487191400995 \n",
      " apur:0.7400603756086644 \n",
      " f1:0.6481584305015732 \n",
      " precision:0.5458229426433915 \n",
      " recall:0.7977220956719818 \n",
      ", 'Test':  best_epoch_indx:64\n",
      " auc:0.9124231133778964 \n",
      " apur:0.7317145210937493 \n",
      " f1:0.644973505485484 \n",
      " precision:0.5459944402324993 \n",
      " recall:0.787784867821331 \n",
      "}\n",
      "=====Epoch 65\n",
      "Training...\n"
     ]
    },
    {
     "name": "stderr",
     "output_type": "stream",
     "text": [
      "Iteration: 100%|██████████| 392/392 [00:31<00:00, 12.56it/s]\n",
      "Iteration:  29%|██▉       | 114/392 [00:09<00:22, 12.51it/s]"
     ]
    },
    {
     "name": "stdout",
     "output_type": "stream",
     "text": [
      "Evaluating...\n"
     ]
    },
    {
     "name": "stderr",
     "output_type": "stream",
     "text": [
      "Iteration: 100%|██████████| 392/392 [00:31<00:00, 12.41it/s]\n",
      "Iteration:  39%|███▉      | 152/392 [00:12<00:18, 12.74it/s]"
     ]
    },
    {
     "name": "stdout",
     "output_type": "stream",
     "text": [
      "Evaluating...\n"
     ]
    },
    {
     "name": "stderr",
     "output_type": "stream",
     "text": [
      "Iteration: 100%|██████████| 392/392 [00:17<00:00, 22.11it/s]\n",
      "Iteration: 100%|██████████| 392/392 [00:31<00:00, 12.39it/s]\n",
      "Iteration:  91%|█████████▏| 358/392 [00:29<00:02, 12.43it/s]"
     ]
    },
    {
     "name": "stdout",
     "output_type": "stream",
     "text": [
      "Evaluating...\n"
     ]
    },
    {
     "name": "stderr",
     "output_type": "stream",
     "text": [
      "Iteration: 100%|██████████| 392/392 [00:19<00:00, 20.61it/s]\n",
      "Iteration: 100%|██████████| 392/392 [00:31<00:00, 12.29it/s]\n",
      "Iteration:   0%|          | 0/392 [00:00<?, ?it/s]"
     ]
    },
    {
     "name": "stdout",
     "output_type": "stream",
     "text": [
      "Evaluating...\n"
     ]
    },
    {
     "name": "stderr",
     "output_type": "stream",
     "text": [
      "Iteration: 100%|██████████| 392/392 [00:31<00:00, 12.27it/s]\n",
      "Iteration: 100%|██████████| 109/109 [00:05<00:00, 21.11it/s]\n"
     ]
    },
    {
     "name": "stdout",
     "output_type": "stream",
     "text": [
      "Evaluating...\n"
     ]
    },
    {
     "name": "stderr",
     "output_type": "stream",
     "text": [
      "Iteration: 100%|██████████| 44/44 [00:02<00:00, 16.57it/s]]]\n",
      "Iteration:   1%|          | 2/392 [00:00<00:32, 12.06it/s]]]"
     ]
    },
    {
     "name": "stdout",
     "output_type": "stream",
     "text": [
      "{'Train':  best_epoch_indx:65\n",
      " auc:0.9754019720320974 \n",
      " apur:0.8954884291939844 \n",
      " f1:0.7719276173701536 \n",
      " precision:0.658757426096915 \n",
      " recall:0.9320471922628993 \n",
      ", 'Validation':  best_epoch_indx:65\n",
      " auc:0.9143417537097576 \n",
      " apur:0.7400413723890666 \n",
      " f1:0.6482994489834696 \n",
      " precision:0.555881394591072 \n",
      " recall:0.7775752051048314 \n",
      ", 'Test':  best_epoch_indx:65\n",
      " auc:0.9159053880355243 \n",
      " apur:0.7418200710540818 \n",
      " f1:0.6505444986856929 \n",
      " precision:0.5531996423553455 \n",
      " recall:0.7894640904119578 \n",
      "}\n",
      "=====Epoch 66\n",
      "Training...\n"
     ]
    },
    {
     "name": "stderr",
     "output_type": "stream",
     "text": [
      "Iteration: 100%|██████████| 109/109 [00:05<00:00, 21.71it/s]\n",
      "Iteration: 100%|██████████| 44/44 [00:02<00:00, 21.38it/s]s]\n",
      "Iteration:  54%|█████▎    | 210/392 [00:09<00:08, 21.55it/s]"
     ]
    },
    {
     "name": "stdout",
     "output_type": "stream",
     "text": [
      "{'Train':  best_epoch_indx:65\n",
      " auc:0.9800904347805804 \n",
      " apur:0.9130461367365927 \n",
      " f1:0.7594669007621403 \n",
      " precision:0.6266420834293616 \n",
      " recall:0.9637449997468226 \n",
      ", 'Validation':  best_epoch_indx:65\n",
      " auc:0.9236001545443981 \n",
      " apur:0.7529305832548834 \n",
      " f1:0.6471418489767113 \n",
      " precision:0.5279217040875072 \n",
      " recall:0.8359161349134002 \n",
      ", 'Test':  best_epoch_indx:65\n",
      " auc:0.9221248730672698 \n",
      " apur:0.7522486043534603 \n",
      " f1:0.6435477091214796 \n",
      " precision:0.5226445152480655 \n",
      " recall:0.8372220196864747 \n",
      "}\n",
      "=====Epoch 66\n",
      "Training...\n"
     ]
    },
    {
     "name": "stderr",
     "output_type": "stream",
     "text": [
      "Iteration: 100%|██████████| 392/392 [00:18<00:00, 21.22it/s]\n",
      "Iteration: 100%|██████████| 392/392 [00:17<00:00, 22.10it/s]\n",
      "Iteration: 100%|██████████| 392/392 [00:19<00:00, 19.76it/s]\n",
      "Iteration: 100%|██████████| 109/109 [00:05<00:00, 19.55it/s]\n",
      "Iteration: 100%|██████████| 109/109 [00:04<00:00, 22.27it/s]\n",
      "Iteration: 100%|██████████| 44/44 [00:02<00:00, 21.83it/s]]]\n",
      "Iteration:   0%|          | 0/392 [00:00<?, ?it/s].70it/s]]]"
     ]
    },
    {
     "name": "stdout",
     "output_type": "stream",
     "text": [
      "{'Train':  best_epoch_indx:63\n",
      " auc:0.9803132161666046 \n",
      " apur:0.9148866526487665 \n",
      " f1:0.7833756292382578 \n",
      " precision:0.664783759929391 \n",
      " recall:0.9534659982783938 \n",
      ", 'Validation':  best_epoch_indx:63\n",
      " auc:0.9197306296174019 \n",
      " apur:0.7549653056154552 \n",
      " f1:0.6649056603773585 \n",
      " precision:0.5672891178364456 \n",
      " recall:0.8030993618960802 \n",
      ", 'Test':  best_epoch_indx:63\n",
      " auc:0.9201966701154418 \n",
      " apur:0.7512920601961671 \n",
      " f1:0.6617083615055217 \n",
      " precision:0.5628115015974441 \n",
      " recall:0.8027706890266132 \n",
      "}\n",
      "=====Epoch 64\n",
      "Training...\n"
     ]
    },
    {
     "name": "stderr",
     "output_type": "stream",
     "text": [
      "Iteration: 100%|██████████| 44/44 [00:02<00:00, 21.91it/s]]]\n",
      "Iteration:  75%|███████▌  | 82/109 [00:04<00:01, 21.01it/s]]"
     ]
    },
    {
     "name": "stdout",
     "output_type": "stream",
     "text": [
      "{'Train':  best_epoch_indx:66\n",
      " auc:0.9820966025309287 \n",
      " apur:0.9213364287758271 \n",
      " f1:0.7953189148008634 \n",
      " precision:0.683184875477186 \n",
      " recall:0.9514912147450504 \n",
      ", 'Validation':  best_epoch_indx:66\n",
      " auc:0.9262519921083355 \n",
      " apur:0.7665730631962819 \n",
      " f1:0.6662883087400682 \n",
      " precision:0.5695342820181113 \n",
      " recall:0.8026435733819508 \n",
      ", 'Test':  best_epoch_indx:66\n",
      " auc:0.9220927308924637 \n",
      " apur:0.7545450881889502 \n",
      " f1:0.6653017895056111 \n",
      " precision:0.5695923136847572 \n",
      " recall:0.7996718920889537 \n",
      "}\n",
      "=====Epoch 67\n",
      "Training...\n"
     ]
    },
    {
     "name": "stderr",
     "output_type": "stream",
     "text": [
      "Iteration: 100%|██████████| 109/109 [00:05<00:00, 20.14it/s]\n",
      "Iteration: 100%|██████████| 44/44 [00:02<00:00, 20.24it/s]]]\n",
      "Iteration:  14%|█▍        | 56/392 [00:04<00:27, 12.18it/s]]"
     ]
    },
    {
     "name": "stdout",
     "output_type": "stream",
     "text": [
      "{'Train':  best_epoch_indx:65\n",
      " auc:0.9748512977930713 \n",
      " apur:0.8938413650280119 \n",
      " f1:0.750841750841751 \n",
      " precision:0.6213553587421634 \n",
      " recall:0.9485037217074282 \n",
      ", 'Validation':  best_epoch_indx:65\n",
      " auc:0.9160296194658497 \n",
      " apur:0.7487918974482322 \n",
      " f1:0.6358299235011563 \n",
      " precision:0.5215995329830706 \n",
      " recall:0.814123006833713 \n",
      ", 'Test':  best_epoch_indx:65\n",
      " auc:0.9165109221427296 \n",
      " apur:0.7373050308083291 \n",
      " f1:0.6430607010544314 \n",
      " precision:0.5277745292948193 \n",
      " recall:0.8227894257064722 \n",
      "}\n",
      "=====Epoch 66\n",
      "Training...\n"
     ]
    },
    {
     "name": "stderr",
     "output_type": "stream",
     "text": [
      "Iteration: 100%|██████████| 392/392 [00:31<00:00, 12.49it/s]\n",
      "Iteration:  86%|████████▌ | 336/392 [00:27<00:04, 11.90it/s]"
     ]
    },
    {
     "name": "stdout",
     "output_type": "stream",
     "text": [
      "Evaluating...\n"
     ]
    },
    {
     "name": "stderr",
     "output_type": "stream",
     "text": [
      "Iteration: 100%|██████████| 392/392 [00:32<00:00, 12.07it/s]\n",
      "Iteration:   1%|          | 2/392 [00:00<00:21, 17.95it/s]s]"
     ]
    },
    {
     "name": "stdout",
     "output_type": "stream",
     "text": [
      "Evaluating...\n"
     ]
    },
    {
     "name": "stderr",
     "output_type": "stream",
     "text": [
      "Iteration: 100%|██████████| 392/392 [00:17<00:00, 22.19it/s]\n",
      "Iteration: 100%|██████████| 392/392 [00:31<00:00, 12.36it/s]\n",
      "Iteration:  93%|█████████▎| 364/392 [00:17<00:01, 21.57it/s]"
     ]
    },
    {
     "name": "stdout",
     "output_type": "stream",
     "text": [
      "Evaluating...\n"
     ]
    },
    {
     "name": "stderr",
     "output_type": "stream",
     "text": [
      "Iteration: 100%|██████████| 392/392 [00:31<00:00, 12.35it/s]\n",
      "Iteration:  72%|███████▏  | 79/109 [00:03<00:01, 22.10it/s]]"
     ]
    },
    {
     "name": "stdout",
     "output_type": "stream",
     "text": [
      "Evaluating...\n"
     ]
    },
    {
     "name": "stderr",
     "output_type": "stream",
     "text": [
      "Iteration: 100%|██████████| 392/392 [00:18<00:00, 21.07it/s]\n",
      "Iteration: 100%|██████████| 109/109 [00:05<00:00, 21.56it/s]\n",
      "Iteration: 100%|██████████| 44/44 [00:02<00:00, 21.90it/s]s]\n",
      "Iteration:  24%|██▎       | 93/392 [00:04<00:14, 20.45it/s]]"
     ]
    },
    {
     "name": "stdout",
     "output_type": "stream",
     "text": [
      "{'Train':  best_epoch_indx:66\n",
      " auc:0.9819312014561034 \n",
      " apur:0.9211242961931039 \n",
      " f1:0.7782282835729204 \n",
      " precision:0.6533264569365652 \n",
      " recall:0.9621753000151907 \n",
      ", 'Validation':  best_epoch_indx:66\n",
      " auc:0.9230973818484166 \n",
      " apur:0.7635141336745149 \n",
      " f1:0.66189689965144 \n",
      " precision:0.5538839422781701 \n",
      " recall:0.8222424794895169 \n",
      ", 'Test':  best_epoch_indx:66\n",
      " auc:0.9210479030301795 \n",
      " apur:0.7534213853429081 \n",
      " f1:0.6492169373549883 \n",
      " precision:0.5390079460630869 \n",
      " recall:0.8160772876412686 \n",
      "}\n",
      "=====Epoch 67\n",
      "Training...\n"
     ]
    },
    {
     "name": "stderr",
     "output_type": "stream",
     "text": [
      "\r",
      "Iteration:  99%|█████████▉| 390/392 [00:31<00:00, 12.36it/s]\r",
      "Iteration:  47%|████▋     | 51/109 [00:02<00:02, 21.16it/s]\r",
      "Iteration:   1%|          | 2/392 [00:00<00:34, 11.45it/s]\r",
      "Iteration:  24%|██▍       | 96/392 [00:04<00:13, 22.42it/s]\r",
      "Iteration:  24%|██▍       | 96/392 [00:04<00:14, 20.24it/s]\r",
      "Iteration:  25%|██▌       | 99/392 [00:04<00:13, 22.40it/s]\r",
      "Iteration: 100%|██████████| 392/392 [00:32<00:00, 12.59it/s]\r",
      "Iteration: 100%|██████████| 392/392 [00:32<00:00, 12.20it/s]\n",
      "\r",
      "Iteration:  50%|████▉     | 54/109 [00:02<00:02, 20.73it/s]\r",
      "Iteration:   0%|          | 0/392 [00:00<?, ?it/s]\r",
      "Iteration:   1%|          | 4/392 [00:00<00:32, 11.77it/s]\r",
      "Iteration:  25%|██▌       | 99/392 [00:04<00:14, 20.44it/s]"
     ]
    },
    {
     "name": "stdout",
     "output_type": "stream",
     "text": [
      "Evaluating...\n"
     ]
    },
    {
     "name": "stderr",
     "output_type": "stream",
     "text": [
      "Iteration: 100%|██████████| 109/109 [00:05<00:00, 21.75it/s]\n",
      "Iteration: 100%|██████████| 44/44 [00:02<00:00, 21.92it/s]]]\n",
      "Iteration:  17%|█▋        | 68/392 [00:05<00:25, 12.77it/s]]"
     ]
    },
    {
     "name": "stdout",
     "output_type": "stream",
     "text": [
      "{'Train':  best_epoch_indx:66\n",
      " auc:0.9810294158966493 \n",
      " apur:0.9159538551140614 \n",
      " f1:0.7700526102792392 \n",
      " precision:0.6412995854538102 \n",
      " recall:0.9634918223707529 \n",
      ", 'Validation':  best_epoch_indx:66\n",
      " auc:0.9218932443878025 \n",
      " apur:0.7500150177034793 \n",
      " f1:0.652892561983471 \n",
      " precision:0.5388493475682088 \n",
      " recall:0.8281677301731997 \n",
      ", 'Test':  best_epoch_indx:66\n",
      " auc:0.9224320325222699 \n",
      " apur:0.7519890619876428 \n",
      " f1:0.6531754574811626 \n",
      " precision:0.5386436264646703 \n",
      " recall:0.8295661684287277 \n",
      "}\n",
      "=====Epoch 67\n",
      "Training...\n"
     ]
    },
    {
     "name": "stderr",
     "output_type": "stream",
     "text": [
      "Iteration: 100%|██████████| 392/392 [00:18<00:00, 21.71it/s]\n",
      "Iteration: 100%|██████████| 392/392 [00:18<00:00, 20.78it/s]\n",
      "Iteration: 100%|██████████| 109/109 [00:04<00:00, 22.39it/s]\n",
      "Iteration: 100%|██████████| 109/109 [00:05<00:00, 21.34it/s]\n",
      "Iteration: 100%|██████████| 392/392 [00:20<00:00, 19.24it/s]\n",
      "Iteration: 100%|██████████| 44/44 [00:01<00:00, 22.08it/s]]]\n",
      "Iteration:   0%|          | 0/392 [00:00<?, ?it/s]1.55it/s]]"
     ]
    },
    {
     "name": "stdout",
     "output_type": "stream",
     "text": [
      "{'Train':  best_epoch_indx:67\n",
      " auc:0.9854350479270464 \n",
      " apur:0.9342683099183159 \n",
      " f1:0.8082441840719987 \n",
      " precision:0.6957935898841501 \n",
      " recall:0.9640488125981063 \n",
      ", 'Validation':  best_epoch_indx:67\n",
      " auc:0.9244503375100314 \n",
      " apur:0.762407522567198 \n",
      " f1:0.6609880749574105 \n",
      " precision:0.565231466494011 \n",
      " recall:0.7958067456700091 \n",
      ", 'Test':  best_epoch_indx:67\n",
      " auc:0.9229771574980122 \n",
      " apur:0.7534164077180799 \n",
      " f1:0.6653435114503817 \n",
      " precision:0.5723666929340688 \n",
      " recall:0.7943857090776522 \n",
      "}\n",
      "=====Epoch 68\n",
      "Training...\n"
     ]
    },
    {
     "name": "stderr",
     "output_type": "stream",
     "text": [
      "Iteration: 100%|██████████| 44/44 [00:02<00:00, 19.16it/s]s]\n",
      "Iteration:  33%|███▎      | 36/109 [00:01<00:03, 21.87it/s]]"
     ]
    },
    {
     "name": "stdout",
     "output_type": "stream",
     "text": [
      "{'Train':  best_epoch_indx:64\n",
      " auc:0.9739728942029037 \n",
      " apur:0.8928028795996645 \n",
      " f1:0.7519876995286168 \n",
      " precision:0.6261792452830188 \n",
      " recall:0.9410603068509797 \n",
      ", 'Validation':  best_epoch_indx:64\n",
      " auc:0.9143380830705504 \n",
      " apur:0.7316818494124536 \n",
      " f1:0.6406052963430012 \n",
      " precision:0.5296395591301758 \n",
      " recall:0.8103919781221514 \n",
      ", 'Test':  best_epoch_indx:64\n",
      " auc:0.9134610720178341 \n",
      " apur:0.7341899087479293 \n",
      " f1:0.6414247448056178 \n",
      " precision:0.5320043232856971 \n",
      " recall:0.8075100255195042 \n",
      "}\n",
      "=====Epoch 65\n",
      "Training...\n"
     ]
    },
    {
     "name": "stderr",
     "output_type": "stream",
     "text": [
      "Iteration: 100%|██████████| 109/109 [00:05<00:00, 21.45it/s]\n",
      "Iteration: 100%|██████████| 44/44 [00:02<00:00, 20.80it/s]]]\n",
      "Iteration:   0%|          | 0/392 [00:00<?, ?it/s]2.10it/s]]"
     ]
    },
    {
     "name": "stdout",
     "output_type": "stream",
     "text": [
      "{'Train':  best_epoch_indx:66\n",
      " auc:0.982747420437825 \n",
      " apur:0.9236042956152655 \n",
      " f1:0.7809597999221009 \n",
      " precision:0.6561036098098649 \n",
      " recall:0.9645045318750316 \n",
      ", 'Validation':  best_epoch_indx:66\n",
      " auc:0.9186549964606937 \n",
      " apur:0.7550870115959596 \n",
      " f1:0.6498181818181817 \n",
      " precision:0.5406959152798789 \n",
      " recall:0.814123006833713 \n",
      ", 'Test':  best_epoch_indx:66\n",
      " auc:0.9203858830415794 \n",
      " apur:0.7530723241172486 \n",
      " f1:0.6554978418318823 \n",
      " precision:0.5474095796676441 \n",
      " recall:0.8167730173199635 \n",
      "}\n",
      "=====Epoch 67\n",
      "Training...\n"
     ]
    },
    {
     "name": "stderr",
     "output_type": "stream",
     "text": [
      "Iteration: 100%|██████████| 392/392 [00:31<00:00, 12.52it/s]\n",
      "Iteration:   0%|          | 0/392 [00:00<?, ?it/s]"
     ]
    },
    {
     "name": "stdout",
     "output_type": "stream",
     "text": [
      "Evaluating...\n"
     ]
    },
    {
     "name": "stderr",
     "output_type": "stream",
     "text": [
      "Iteration: 100%|██████████| 392/392 [00:31<00:00, 12.37it/s]\n",
      "Iteration:  43%|████▎     | 168/392 [00:13<00:17, 12.62it/s]"
     ]
    },
    {
     "name": "stdout",
     "output_type": "stream",
     "text": [
      "Evaluating...\n"
     ]
    },
    {
     "name": "stderr",
     "output_type": "stream",
     "text": [
      "Iteration: 100%|██████████| 392/392 [00:18<00:00, 21.75it/s]\n",
      "Iteration: 100%|██████████| 392/392 [00:32<00:00, 12.20it/s]\n",
      "Iteration:   1%|          | 2/392 [00:00<00:22, 17.47it/s]s]"
     ]
    },
    {
     "name": "stdout",
     "output_type": "stream",
     "text": [
      "Evaluating...\n"
     ]
    },
    {
     "name": "stderr",
     "output_type": "stream",
     "text": [
      "Iteration: 100%|██████████| 392/392 [00:31<00:00, 12.34it/s]\n",
      "Iteration: 100%|██████████| 392/392 [00:18<00:00, 21.51it/s]\n",
      "Iteration:   3%|▎         | 13/392 [00:00<00:18, 20.54it/s]"
     ]
    },
    {
     "name": "stdout",
     "output_type": "stream",
     "text": [
      "Evaluating...\n"
     ]
    },
    {
     "name": "stderr",
     "output_type": "stream",
     "text": [
      "Iteration: 100%|██████████| 109/109 [00:05<00:00, 19.79it/s]\n",
      "Iteration: 100%|██████████| 44/44 [00:01<00:00, 22.39it/s]]]\n",
      "Iteration:  38%|███▊      | 41/109 [00:02<00:03, 19.65it/s]]"
     ]
    },
    {
     "name": "stdout",
     "output_type": "stream",
     "text": [
      "{'Train':  best_epoch_indx:67\n",
      " auc:0.9848485105545679 \n",
      " apur:0.9304995743592225 \n",
      " f1:0.7909210851818257 \n",
      " precision:0.6670259744775549 \n",
      " recall:0.9713403210289129 \n",
      ", 'Validation':  best_epoch_indx:67\n",
      " auc:0.9239949265473633 \n",
      " apur:0.7615389176997543 \n",
      " f1:0.662086891942072 \n",
      " precision:0.5585839598997494 \n",
      " recall:0.8126709206927986 \n",
      ", 'Test':  best_epoch_indx:67\n",
      " auc:0.9228338320813402 \n",
      " apur:0.7557884673325375 \n",
      " f1:0.6585061936524224 \n",
      " precision:0.5506926566139512 \n",
      " recall:0.8188115202333212 \n",
      "}\n",
      "=====Epoch 68\n",
      "Training...\n"
     ]
    },
    {
     "name": "stderr",
     "output_type": "stream",
     "text": [
      "Iteration: 100%|██████████| 109/109 [00:05<00:00, 20.63it/s]\n",
      "Iteration: 100%|██████████| 392/392 [00:32<00:00, 12.14it/s]\n",
      "Iteration:  37%|███▋      | 144/392 [00:06<00:11, 21.56it/s]"
     ]
    },
    {
     "name": "stdout",
     "output_type": "stream",
     "text": [
      "Evaluating...\n"
     ]
    },
    {
     "name": "stderr",
     "output_type": "stream",
     "text": [
      "Iteration: 100%|██████████| 44/44 [00:02<00:00, 19.47it/s]s]\n",
      "Iteration:  52%|█████▏    | 204/392 [00:09<00:08, 21.71it/s]"
     ]
    },
    {
     "name": "stdout",
     "output_type": "stream",
     "text": [
      "{'Train':  best_epoch_indx:67\n",
      " auc:0.9856067592276359 \n",
      " apur:0.9342544222829097 \n",
      " f1:0.7890288433922784 \n",
      " precision:0.6632065386074422 \n",
      " recall:0.9737708238391817 \n",
      ", 'Validation':  best_epoch_indx:67\n",
      " auc:0.9249617309643796 \n",
      " apur:0.7630734855188742 \n",
      " f1:0.6564885496183205 \n",
      " precision:0.5459492140266021 \n",
      " recall:0.8231540565177757 \n",
      ", 'Test':  best_epoch_indx:67\n",
      " auc:0.9264500996863813 \n",
      " apur:0.7628349553644085 \n",
      " f1:0.6596130154359011 \n",
      " precision:0.547455792132804 \n",
      " recall:0.8295661684287277 \n",
      "}\n",
      "=====Epoch 68\n",
      "Training...\n"
     ]
    },
    {
     "name": "stderr",
     "output_type": "stream",
     "text": [
      "Iteration: 100%|██████████| 392/392 [00:18<00:00, 21.38it/s]\n",
      "Iteration: 100%|██████████| 392/392 [00:19<00:00, 20.56it/s]\n",
      "Iteration: 100%|██████████| 109/109 [00:04<00:00, 22.38it/s]\n",
      "Iteration: 100%|██████████| 392/392 [00:18<00:00, 20.70it/s]\n",
      "Iteration: 100%|██████████| 109/109 [00:05<00:00, 19.50it/s]\n",
      "Iteration: 100%|██████████| 44/44 [00:02<00:00, 21.85it/s]s]\n",
      "Iteration:  74%|███████▍  | 292/392 [00:23<00:08, 12.46it/s]"
     ]
    },
    {
     "name": "stdout",
     "output_type": "stream",
     "text": [
      "{'Train':  best_epoch_indx:68\n",
      " auc:0.9865655327894646 \n",
      " apur:0.9380780556852683 \n",
      " f1:0.7930156121610517 \n",
      " precision:0.6671736199923957 \n",
      " recall:0.9773659425793711 \n",
      ", 'Validation':  best_epoch_indx:68\n",
      " auc:0.9264915065603759 \n",
      " apur:0.7648760946085104 \n",
      " f1:0.6584704393418911 \n",
      " precision:0.5456997302966736 \n",
      " recall:0.8299908842297175 \n",
      ", 'Test':  best_epoch_indx:68\n",
      " auc:0.9247667296261332 \n",
      " apur:0.7612043750933435 \n",
      " f1:0.6594641944667494 \n",
      " precision:0.5499817362717643 \n",
      " recall:0.8233685745534087 \n",
      "}\n",
      "=====Epoch 69\n",
      "Training...\n"
     ]
    },
    {
     "name": "stderr",
     "output_type": "stream",
     "text": [
      "Iteration: 100%|██████████| 44/44 [00:02<00:00, 21.11it/s]s]\n",
      "Iteration:   7%|▋         | 28/392 [00:02<00:29, 12.51it/s]]"
     ]
    },
    {
     "name": "stdout",
     "output_type": "stream",
     "text": [
      "{'Train':  best_epoch_indx:65\n",
      " auc:0.9779161422576873 \n",
      " apur:0.904685151046861 \n",
      " f1:0.7726906302321256 \n",
      " precision:0.6528466643381069 \n",
      " recall:0.9464276672236569 \n",
      ", 'Validation':  best_epoch_indx:65\n",
      " auc:0.9157891601619444 \n",
      " apur:0.737339462984557 \n",
      " f1:0.6534690101757632 \n",
      " precision:0.5499844285269386 \n",
      " recall:0.804922515952598 \n",
      ", 'Test':  best_epoch_indx:65\n",
      " auc:0.9184459894432045 \n",
      " apur:0.7435825285871562 \n",
      " f1:0.6553235753027715 \n",
      " precision:0.553116769095698 \n",
      " recall:0.8038643820634342 \n",
      "}\n",
      "=====Epoch 66\n",
      "Training...\n"
     ]
    },
    {
     "name": "stderr",
     "output_type": "stream",
     "text": [
      "Iteration: 100%|██████████| 109/109 [00:05<00:00, 21.39it/s]\n",
      "Iteration: 100%|██████████| 44/44 [00:02<00:00, 21.88it/s]]]\n",
      "Iteration:  78%|███████▊  | 304/392 [00:25<00:07, 12.49it/s]"
     ]
    },
    {
     "name": "stdout",
     "output_type": "stream",
     "text": [
      "{'Train':  best_epoch_indx:67\n",
      " auc:0.9862274021739207 \n",
      " apur:0.9376402033073354 \n",
      " f1:0.8063379538789375 \n",
      " precision:0.6911530671296297 \n",
      " recall:0.9675932958630816 \n",
      ", 'Validation':  best_epoch_indx:67\n",
      " auc:0.919452661357148 \n",
      " apur:0.7538333614710135 \n",
      " f1:0.6634328358208955 \n",
      " precision:0.5617693522906793 \n",
      " recall:0.8100227790432801 \n",
      ", 'Test':  best_epoch_indx:67\n",
      " auc:0.9220488432100938 \n",
      " apur:0.7577279204193393 \n",
      " f1:0.6632991556091676 \n",
      " precision:0.5654968504949223 \n",
      " recall:0.8020054694621696 \n",
      "}\n",
      "=====Epoch 68\n",
      "Training...\n"
     ]
    },
    {
     "name": "stderr",
     "output_type": "stream",
     "text": [
      "\r",
      "Iteration:  18%|█▊        | 72/392 [00:05<00:26, 12.27it/s]\r",
      "Iteration:   1%|          | 2/392 [00:00<00:34, 11.46it/s]\r",
      "Iteration:  26%|██▌       | 100/392 [00:08<00:23, 12.34it/s]\r",
      "Iteration:  99%|█████████▉| 390/392 [00:31<00:00, 12.38it/s]\r",
      "Iteration:  78%|███████▊  | 306/392 [00:25<00:06, 12.51it/s]\r",
      "Iteration:  19%|█▉        | 74/392 [00:06<00:25, 12.35it/s]\r",
      "Iteration:   1%|          | 4/392 [00:00<00:33, 11.49it/s]\r",
      "Iteration:  26%|██▌       | 102/392 [00:08<00:23, 12.19it/s]\r",
      "Iteration: 100%|██████████| 392/392 [00:31<00:00, 12.53it/s]\r",
      "Iteration: 100%|██████████| 392/392 [00:31<00:00, 12.47it/s]\n",
      "\r",
      "Iteration:   0%|          | 0/392 [00:00<?, ?it/s]"
     ]
    },
    {
     "name": "stdout",
     "output_type": "stream",
     "text": [
      "Evaluating...\n"
     ]
    },
    {
     "name": "stderr",
     "output_type": "stream",
     "text": [
      "Iteration: 100%|██████████| 392/392 [00:32<00:00, 12.11it/s]\n",
      "Iteration:  41%|████▏     | 162/392 [00:13<00:18, 12.59it/s]"
     ]
    },
    {
     "name": "stdout",
     "output_type": "stream",
     "text": [
      "Evaluating...\n"
     ]
    },
    {
     "name": "stderr",
     "output_type": "stream",
     "text": [
      "Iteration: 100%|██████████| 392/392 [00:18<00:00, 21.71it/s]\n",
      "Iteration: 100%|██████████| 392/392 [00:31<00:00, 12.49it/s]\n",
      "Iteration:  73%|███████▎  | 288/392 [00:23<00:08, 12.22it/s]"
     ]
    },
    {
     "name": "stdout",
     "output_type": "stream",
     "text": [
      "Evaluating...\n"
     ]
    },
    {
     "name": "stderr",
     "output_type": "stream",
     "text": [
      "Iteration: 100%|██████████| 109/109 [00:05<00:00, 21.77it/s]\n",
      "Iteration: 100%|██████████| 392/392 [00:31<00:00, 12.35it/s]\n",
      "Iteration:  99%|█████████▊| 387/392 [00:18<00:00, 21.60it/s]"
     ]
    },
    {
     "name": "stdout",
     "output_type": "stream",
     "text": [
      "Evaluating...\n"
     ]
    },
    {
     "name": "stderr",
     "output_type": "stream",
     "text": [
      "Iteration: 100%|██████████| 392/392 [00:19<00:00, 20.59it/s]\n",
      "Iteration: 100%|██████████| 392/392 [00:31<00:00, 12.27it/s]\n",
      "Iteration:  49%|████▉     | 192/392 [00:08<00:09, 22.17it/s]"
     ]
    },
    {
     "name": "stdout",
     "output_type": "stream",
     "text": [
      "Evaluating...\n"
     ]
    },
    {
     "name": "stderr",
     "output_type": "stream",
     "text": [
      "Iteration: 100%|██████████| 109/109 [00:04<00:00, 21.84it/s]\n",
      "Iteration: 100%|██████████| 44/44 [00:02<00:00, 21.53it/s]s]\n",
      "Iteration:  66%|██████▌   | 258/392 [00:11<00:06, 21.56it/s]"
     ]
    },
    {
     "name": "stdout",
     "output_type": "stream",
     "text": [
      "{'Train':  best_epoch_indx:68\n",
      " auc:0.9884304731169393 \n",
      " apur:0.9456604770169559 \n",
      " f1:0.8106193948537423 \n",
      " precision:0.6914387846291331 \n",
      " recall:0.9794419970631424 \n",
      ", 'Validation':  best_epoch_indx:68\n",
      " auc:0.9276765357220313 \n",
      " apur:0.7704630542024095 \n",
      " f1:0.6752808988764044 \n",
      " precision:0.5731087094723458 \n",
      " recall:0.8217866909753874 \n",
      ", 'Test':  best_epoch_indx:68\n",
      " auc:0.9276624550014585 \n",
      " apur:0.7683950157176596 \n",
      " f1:0.668258468885241 \n",
      " precision:0.565689742294088 \n",
      " recall:0.8162595698140722 \n",
      "}\n",
      "=====Epoch 69\n",
      "Training...\n"
     ]
    },
    {
     "name": "stderr",
     "output_type": "stream",
     "text": [
      "Iteration: 100%|██████████| 392/392 [00:17<00:00, 21.92it/s]\n",
      "Iteration: 100%|██████████| 392/392 [00:18<00:00, 21.26it/s]\n",
      "Iteration: 100%|██████████| 109/109 [00:04<00:00, 22.54it/s]\n",
      "Iteration: 100%|██████████| 392/392 [00:18<00:00, 20.87it/s]\n",
      "Iteration: 100%|██████████| 109/109 [00:05<00:00, 20.76it/s]\n",
      "Iteration: 100%|██████████| 44/44 [00:02<00:00, 19.36it/s]]]\n",
      "Iteration:   0%|          | 0/392 [00:00<?, ?it/s]1.98it/s]]"
     ]
    },
    {
     "name": "stdout",
     "output_type": "stream",
     "text": [
      "{'Train':  best_epoch_indx:66\n",
      " auc:0.9832056826898128 \n",
      " apur:0.9263555139979124 \n",
      " f1:0.8068662160712371 \n",
      " precision:0.7001042597557343 \n",
      " recall:0.9520482049724036 \n",
      ", 'Validation':  best_epoch_indx:66\n",
      " auc:0.9213019987993865 \n",
      " apur:0.7569950367255353 \n",
      " f1:0.6700747149036571 \n",
      " precision:0.5892116182572614 \n",
      " recall:0.7766636280765725 \n",
      ", 'Test':  best_epoch_indx:66\n",
      " auc:0.9212552221560624 \n",
      " apur:0.7554448847312317 \n",
      " f1:0.6713232440822661 \n",
      " precision:0.5845384511420462 \n",
      " recall:0.7883703973751367 \n",
      "}\n",
      "=====Epoch 67\n",
      "Training...\n"
     ]
    },
    {
     "name": "stderr",
     "output_type": "stream",
     "text": [
      "Iteration: 100%|██████████| 109/109 [00:05<00:00, 20.29it/s]\n",
      "Iteration: 100%|██████████| 44/44 [00:02<00:00, 19.34it/s]]]\n",
      "Iteration:   1%|          | 2/392 [00:00<00:35, 11.14it/s]]]"
     ]
    },
    {
     "name": "stdout",
     "output_type": "stream",
     "text": [
      "{'Train':  best_epoch_indx:68\n",
      " auc:0.9875168902542719 \n",
      " apur:0.9417347155519125 \n",
      " f1:0.7976084939696938 \n",
      " precision:0.6726943942133815 \n",
      " recall:0.9794926325383564 \n",
      ", 'Validation':  best_epoch_indx:68\n",
      " auc:0.9262756939500734 \n",
      " apur:0.7727448993611987 \n",
      " f1:0.6634739362681894 \n",
      " precision:0.5567233384853169 \n",
      " recall:0.8208751139471285 \n",
      ", 'Test':  best_epoch_indx:68\n",
      " auc:0.9250411510729949 \n",
      " apur:0.7653211892792121 \n",
      " f1:0.658517063232191 \n",
      " precision:0.5480198619353276 \n",
      " recall:0.8248268319358367 \n",
      "}\n",
      "=====Epoch 69\n",
      "Training...\n"
     ]
    },
    {
     "name": "stderr",
     "output_type": "stream",
     "text": [
      "Iteration: 100%|██████████| 392/392 [00:31<00:00, 12.45it/s]\n",
      "Iteration:  40%|████      | 158/392 [00:12<00:18, 12.35it/s]"
     ]
    },
    {
     "name": "stdout",
     "output_type": "stream",
     "text": [
      "Evaluating...\n"
     ]
    },
    {
     "name": "stderr",
     "output_type": "stream",
     "text": [
      "Iteration: 100%|██████████| 44/44 [00:03<00:00, 14.00it/s]s]\n",
      "Iteration:  96%|█████████▋| 378/392 [00:17<00:00, 21.92it/s]"
     ]
    },
    {
     "name": "stdout",
     "output_type": "stream",
     "text": [
      "{'Train':  best_epoch_indx:69\n",
      " auc:0.9897920132137844 \n",
      " apur:0.9516788883206433 \n",
      " f1:0.8303373447288541 \n",
      " precision:0.7222305445284998 \n",
      " recall:0.9765051395007343 \n",
      ", 'Validation':  best_epoch_indx:69\n",
      " auc:0.9296381043392827 \n",
      " apur:0.776858774446078 \n",
      " f1:0.6800076967481239 \n",
      " precision:0.5884115884115884 \n",
      " recall:0.8053783044667274 \n",
      ", 'Test':  best_epoch_indx:69\n",
      " auc:0.9275030461908893 \n",
      " apur:0.7720203097079403 \n",
      " f1:0.6804012345679011 \n",
      " precision:0.5899116938720899 \n",
      " recall:0.8036820998906307 \n",
      "}\n",
      "=====Epoch 70\n",
      "Training...\n"
     ]
    },
    {
     "name": "stderr",
     "output_type": "stream",
     "text": [
      "Iteration: 100%|██████████| 392/392 [00:17<00:00, 21.82it/s]\n",
      "Iteration: 100%|██████████| 392/392 [00:31<00:00, 12.30it/s]\n",
      "Iteration:   7%|▋         | 26/392 [00:02<00:28, 12.71it/s]]"
     ]
    },
    {
     "name": "stdout",
     "output_type": "stream",
     "text": [
      "Evaluating...\n"
     ]
    },
    {
     "name": "stderr",
     "output_type": "stream",
     "text": [
      "Iteration: 100%|██████████| 109/109 [00:05<00:00, 20.99it/s]\n",
      "Iteration: 100%|██████████| 392/392 [00:31<00:00, 12.44it/s]\n",
      "Iteration:   1%|          | 3/392 [00:00<00:18, 21.50it/s]s]"
     ]
    },
    {
     "name": "stdout",
     "output_type": "stream",
     "text": [
      "Evaluating...\n"
     ]
    },
    {
     "name": "stderr",
     "output_type": "stream",
     "text": [
      "Iteration: 100%|██████████| 44/44 [00:02<00:00, 20.06it/s]s]\n",
      "Iteration:   3%|▎         | 12/392 [00:00<00:17, 22.25it/s]]"
     ]
    },
    {
     "name": "stdout",
     "output_type": "stream",
     "text": [
      "{'Train':  best_epoch_indx:68\n",
      " auc:0.9896243300057983 \n",
      " apur:0.9510778134487231 \n",
      " f1:0.8137881719525533 \n",
      " precision:0.6959602863412353 \n",
      " recall:0.9796445389639982 \n",
      ", 'Validation':  best_epoch_indx:68\n",
      " auc:0.9252855977066635 \n",
      " apur:0.7731934237756489 \n",
      " f1:0.6639511201629328 \n",
      " precision:0.559263880224579 \n",
      " recall:0.8168564920273349 \n",
      ", 'Test':  best_epoch_indx:68\n",
      " auc:0.926470102555772 \n",
      " apur:0.7694853508569787 \n",
      " f1:0.6718048488476503 \n",
      " precision:0.5697423530904937 \n",
      " recall:0.8184138559708295 \n",
      "}\n",
      "=====Epoch 69\n",
      "Training...\n"
     ]
    },
    {
     "name": "stderr",
     "output_type": "stream",
     "text": [
      "Iteration: 100%|██████████| 392/392 [00:18<00:00, 20.77it/s]\n",
      "Iteration: 100%|██████████| 392/392 [00:18<00:00, 21.50it/s]\n",
      "Iteration: 100%|██████████| 109/109 [00:04<00:00, 22.20it/s]\n",
      "Iteration: 100%|██████████| 44/44 [00:02<00:00, 21.89it/s]]]\n",
      "Iteration:  67%|██████▋   | 262/392 [00:21<00:10, 12.27it/s]"
     ]
    },
    {
     "name": "stdout",
     "output_type": "stream",
     "text": [
      "{'Train':  best_epoch_indx:67\n",
      " auc:0.9873608179365881 \n",
      " apur:0.9414732710941738 \n",
      " f1:0.827684109373635 \n",
      " precision:0.7277161181304965 \n",
      " recall:0.9594916198288521 \n",
      ", 'Validation':  best_epoch_indx:67\n",
      " auc:0.9251224000862495 \n",
      " apur:0.7677766826970176 \n",
      " f1:0.6858949032003161 \n",
      " precision:0.6052998605299861 \n",
      " recall:0.7912488605287147 \n",
      ", 'Test':  best_epoch_indx:67\n",
      " auc:0.9257026554942103 \n",
      " apur:0.7665586548109182 \n",
      " f1:0.6826611948543919 \n",
      " precision:0.6019485038274183 \n",
      " recall:0.7883703973751367 \n",
      "}\n",
      "=====Epoch 68\n",
      "Training...\n"
     ]
    },
    {
     "name": "stderr",
     "output_type": "stream",
     "text": [
      "Iteration: 100%|██████████| 392/392 [00:31<00:00, 12.64it/s]\n",
      "Iteration:   5%|▌         | 20/392 [00:01<00:29, 12.60it/s]"
     ]
    },
    {
     "name": "stdout",
     "output_type": "stream",
     "text": [
      "Evaluating...\n"
     ]
    },
    {
     "name": "stderr",
     "output_type": "stream",
     "text": [
      "Iteration: 100%|██████████| 109/109 [00:04<00:00, 22.23it/s]\n",
      "Iteration: 100%|██████████| 392/392 [00:31<00:00, 12.26it/s]\n",
      "Iteration:  34%|███▎      | 132/392 [00:10<00:21, 12.23it/s]"
     ]
    },
    {
     "name": "stdout",
     "output_type": "stream",
     "text": [
      "Evaluating...\n"
     ]
    },
    {
     "name": "stderr",
     "output_type": "stream",
     "text": [
      "Iteration: 100%|██████████| 44/44 [00:02<00:00, 15.70it/s]]]\n",
      "Iteration:  16%|█▌        | 62/392 [00:02<00:15, 21.91it/s]]"
     ]
    },
    {
     "name": "stdout",
     "output_type": "stream",
     "text": [
      "{'Train':  best_epoch_indx:69\n",
      " auc:0.9907710479053287 \n",
      " apur:0.9557205997744532 \n",
      " f1:0.8297238823554612 \n",
      " precision:0.7190539838122819 \n",
      " recall:0.9806572484682768 \n",
      ", 'Validation':  best_epoch_indx:69\n",
      " auc:0.9289279300405533 \n",
      " apur:0.773607581478353 \n",
      " f1:0.6754688097971681 \n",
      " precision:0.5821240105540897 \n",
      " recall:0.8044667274384686 \n",
      ", 'Test':  best_epoch_indx:69\n",
      " auc:0.9300195455833423 \n",
      " apur:0.7741760813588857 \n",
      " f1:0.6808510638297872 \n",
      " precision:0.5883446170184522 \n",
      " recall:0.8078745898651112 \n",
      "}\n",
      "=====Epoch 70\n",
      "Training...\n"
     ]
    },
    {
     "name": "stderr",
     "output_type": "stream",
     "text": [
      "Iteration: 100%|██████████| 392/392 [00:18<00:00, 21.48it/s]\n",
      "Iteration: 100%|██████████| 109/109 [00:04<00:00, 22.44it/s]\n",
      "Iteration: 100%|██████████| 44/44 [00:01<00:00, 22.40it/s]s]\n",
      "Iteration:  89%|████████▉ | 348/392 [00:28<00:03, 12.14it/s]"
     ]
    },
    {
     "name": "stdout",
     "output_type": "stream",
     "text": [
      "{'Train':  best_epoch_indx:70\n",
      " auc:0.9893614283439462 \n",
      " apur:0.9499169528640389 \n",
      " f1:0.8284138406515275 \n",
      " precision:0.7209825614100881 \n",
      " recall:0.9734670109878981 \n",
      ", 'Validation':  best_epoch_indx:70\n",
      " auc:0.9281430844528085 \n",
      " apur:0.769439752073547 \n",
      " f1:0.6724806201550387 \n",
      " precision:0.5849629130141605 \n",
      " recall:0.7907930720145853 \n",
      ", 'Test':  best_epoch_indx:70\n",
      " auc:0.9258032862390403 \n",
      " apur:0.766406207045252 \n",
      " f1:0.6774916879301013 \n",
      " precision:0.5882905868134819 \n",
      " recall:0.7985781990521327 \n",
      "}\n",
      "=====Epoch 71\n",
      "Training...\n"
     ]
    },
    {
     "name": "stderr",
     "output_type": "stream",
     "text": [
      "Iteration: 100%|██████████| 392/392 [00:19<00:00, 20.22it/s]\n",
      "Iteration: 100%|██████████| 392/392 [00:32<00:00, 12.24it/s]\n",
      "Iteration:  19%|█▉        | 21/109 [00:00<00:04, 21.66it/s]"
     ]
    },
    {
     "name": "stdout",
     "output_type": "stream",
     "text": [
      "Evaluating...\n"
     ]
    },
    {
     "name": "stderr",
     "output_type": "stream",
     "text": [
      "Iteration: 100%|██████████| 109/109 [00:05<00:00, 21.62it/s]\n",
      "Iteration: 100%|██████████| 44/44 [00:02<00:00, 21.63it/s]s]\n",
      "Iteration:  32%|███▏      | 126/392 [00:06<00:12, 21.60it/s]"
     ]
    },
    {
     "name": "stdout",
     "output_type": "stream",
     "text": [
      "{'Train':  best_epoch_indx:69\n",
      " auc:0.9895931806360821 \n",
      " apur:0.9504170092820967 \n",
      " f1:0.8203703310921161 \n",
      " precision:0.7058544419300679 \n",
      " recall:0.9792394551622867 \n",
      ", 'Validation':  best_epoch_indx:69\n",
      " auc:0.9286596797272905 \n",
      " apur:0.7802178258386854 \n",
      " f1:0.6789935188715212 \n",
      " precision:0.5835517693315858 \n",
      " recall:0.8117593436645396 \n",
      ", 'Test':  best_epoch_indx:69\n",
      " auc:0.9263120289589727 \n",
      " apur:0.7705914957924969 \n",
      " f1:0.6704750450992183 \n",
      " precision:0.5704783832182144 \n",
      " recall:0.8129784907036092 \n",
      "}\n",
      "=====Epoch 70\n",
      "Training...\n"
     ]
    },
    {
     "name": "stderr",
     "output_type": "stream",
     "text": [
      "Iteration: 100%|██████████| 392/392 [00:31<00:00, 12.35it/s]\n",
      "Iteration:  22%|██▏       | 88/392 [00:07<00:24, 12.66it/s]"
     ]
    },
    {
     "name": "stdout",
     "output_type": "stream",
     "text": [
      "Evaluating...\n"
     ]
    },
    {
     "name": "stderr",
     "output_type": "stream",
     "text": [
      "Iteration: 100%|██████████| 392/392 [00:18<00:00, 20.67it/s]\n",
      "Iteration: 100%|██████████| 109/109 [00:05<00:00, 19.33it/s]\n",
      "Iteration: 100%|██████████| 392/392 [00:31<00:00, 12.53it/s]\n",
      "Iteration:  61%|██████▏   | 27/44 [00:01<00:00, 19.55it/s]"
     ]
    },
    {
     "name": "stdout",
     "output_type": "stream",
     "text": [
      "Evaluating...\n"
     ]
    },
    {
     "name": "stderr",
     "output_type": "stream",
     "text": [
      "Iteration: 100%|██████████| 44/44 [00:02<00:00, 20.27it/s]s]\n",
      "Iteration:  83%|████████▎ | 327/392 [00:15<00:03, 21.63it/s]"
     ]
    },
    {
     "name": "stdout",
     "output_type": "stream",
     "text": [
      "{'Train':  best_epoch_indx:68\n",
      " auc:0.9905651212106763 \n",
      " apur:0.955075175546958 \n",
      " f1:0.8365950607093986 \n",
      " precision:0.7325218714340054 \n",
      " recall:0.975137981669958 \n",
      ", 'Validation':  best_epoch_indx:68\n",
      " auc:0.926457988380644 \n",
      " apur:0.7724623275658593 \n",
      " f1:0.6804364770070148 \n",
      " precision:0.59428182437032 \n",
      " recall:0.7958067456700091 \n",
      ", 'Test':  best_epoch_indx:68\n",
      " auc:0.9275649202387979 \n",
      " apur:0.7725435282467028 \n",
      " f1:0.6814408770555991 \n",
      " precision:0.5973366282262493 \n",
      " recall:0.7931097338680277 \n",
      "}\n",
      "=====Epoch 69\n",
      "Training...\n"
     ]
    },
    {
     "name": "stderr",
     "output_type": "stream",
     "text": [
      "Iteration: 100%|██████████| 392/392 [00:18<00:00, 21.35it/s]\n",
      "Iteration: 100%|██████████| 392/392 [00:31<00:00, 12.51it/s]\n",
      "Iteration:  11%|█▏        | 5/44 [00:00<00:02, 18.23it/s]"
     ]
    },
    {
     "name": "stdout",
     "output_type": "stream",
     "text": [
      "Evaluating...\n"
     ]
    },
    {
     "name": "stderr",
     "output_type": "stream",
     "text": [
      "Iteration: 100%|██████████| 109/109 [00:04<00:00, 21.90it/s]\n",
      "Iteration: 100%|██████████| 44/44 [00:02<00:00, 21.00it/s]]]\n",
      "Iteration:  67%|██████▋   | 263/392 [00:11<00:05, 22.54it/s]"
     ]
    },
    {
     "name": "stdout",
     "output_type": "stream",
     "text": [
      "{'Train':  best_epoch_indx:69\n",
      " auc:0.992076827299594 \n",
      " apur:0.9612228151714647 \n",
      " f1:0.841915908105765 \n",
      " precision:0.7359705960365276 \n",
      " recall:0.9834928350802572 \n",
      ", 'Validation':  best_epoch_indx:69\n",
      " auc:0.9259868542443161 \n",
      " apur:0.7780898249218474 \n",
      " f1:0.6781231898049815 \n",
      " precision:0.5884718498659517 \n",
      " recall:0.8 \n",
      ", 'Test':  best_epoch_indx:69\n",
      " auc:0.9271649148903893 \n",
      " apur:0.7724836943833628 \n",
      " f1:0.6814872192099148 \n",
      " precision:0.5924579124579125 \n",
      " recall:0.8020054694621696 \n",
      "}\n",
      "=====Epoch 70\n",
      "Training...\n"
     ]
    },
    {
     "name": "stderr",
     "output_type": "stream",
     "text": [
      "Iteration: 100%|██████████| 44/44 [00:02<00:00, 19.58it/s]s]\n",
      "Iteration:  69%|██████▊   | 269/392 [00:12<00:10, 11.39it/s]"
     ]
    },
    {
     "name": "stdout",
     "output_type": "stream",
     "text": [
      "{'Train':  best_epoch_indx:70\n",
      " auc:0.9904726008379822 \n",
      " apur:0.9546666561569499 \n",
      " f1:0.8275405070326194 \n",
      " precision:0.7160507527836348 \n",
      " recall:0.9801508937161375 \n",
      ", 'Validation':  best_epoch_indx:70\n",
      " auc:0.9259790643519686 \n",
      " apur:0.7700263610851474 \n",
      " f1:0.6735159817351598 \n",
      " precision:0.5780535597648596 \n",
      " recall:0.8067456700091158 \n",
      ", 'Test':  best_epoch_indx:70\n",
      " auc:0.9284394546598482 \n",
      " apur:0.76764140681938 \n",
      " f1:0.673904790828335 \n",
      " precision:0.5774886141834743 \n",
      " recall:0.8089682829019322 \n",
      "}\n",
      "=====Epoch 71\n",
      "Training...\n"
     ]
    },
    {
     "name": "stderr",
     "output_type": "stream",
     "text": [
      "Iteration: 100%|██████████| 392/392 [00:18<00:00, 21.36it/s]\n",
      "Iteration: 100%|██████████| 109/109 [00:04<00:00, 22.73it/s]\n",
      "Iteration: 100%|██████████| 44/44 [00:01<00:00, 22.46it/s]s]\n",
      "Iteration:  96%|█████████▌| 375/392 [00:17<00:00, 21.92it/s]"
     ]
    },
    {
     "name": "stdout",
     "output_type": "stream",
     "text": [
      "{'Train':  best_epoch_indx:71\n",
      " auc:0.9878206010976238 \n",
      " apur:0.9433752365497613 \n",
      " f1:0.8169044070683414 \n",
      " precision:0.7047867455273502 \n",
      " recall:0.9714415919793408 \n",
      ", 'Validation':  best_epoch_indx:71\n",
      " auc:0.9283347337695871 \n",
      " apur:0.7714338183998416 \n",
      " f1:0.6689381033503691 \n",
      " precision:0.5720297831013272 \n",
      " recall:0.8053783044667274 \n",
      ", 'Test':  best_epoch_indx:71\n",
      " auc:0.9241956304978539 \n",
      " apur:0.7606967685547426 \n",
      " f1:0.6731766859932866 \n",
      " precision:0.5788506953555497 \n",
      " recall:0.8042289464090412 \n",
      "}\n",
      "=====Epoch 72\n",
      "Training...\n"
     ]
    },
    {
     "name": "stderr",
     "output_type": "stream",
     "text": [
      "Iteration: 100%|██████████| 392/392 [00:17<00:00, 21.96it/s]\n",
      "Iteration: 100%|██████████| 392/392 [00:31<00:00, 12.35it/s]\n",
      "Iteration:  65%|██████▍   | 254/392 [00:20<00:11, 12.05it/s]"
     ]
    },
    {
     "name": "stdout",
     "output_type": "stream",
     "text": [
      "Evaluating...\n"
     ]
    },
    {
     "name": "stderr",
     "output_type": "stream",
     "text": [
      "Iteration: 100%|██████████| 109/109 [00:04<00:00, 22.12it/s]\n",
      "Iteration: 100%|██████████| 44/44 [00:01<00:00, 22.05it/s]s]\n",
      "Iteration:   0%|          | 0/392 [00:00<?, ?it/s]12.51it/s]"
     ]
    },
    {
     "name": "stdout",
     "output_type": "stream",
     "text": [
      "{'Train':  best_epoch_indx:70\n",
      " auc:0.9891189665385943 \n",
      " apur:0.9488062717604513 \n",
      " f1:0.8261980967929028 \n",
      " precision:0.7174675421578869 \n",
      " recall:0.9737708238391817 \n",
      ", 'Validation':  best_epoch_indx:70\n",
      " auc:0.92566057871927 \n",
      " apur:0.7741365883397545 \n",
      " f1:0.6822157434402332 \n",
      " precision:0.5947136563876652 \n",
      " recall:0.7999088422971741 \n",
      ", 'Test':  best_epoch_indx:70\n",
      " auc:0.9227896877149332 \n",
      " apur:0.7632021394433547 \n",
      " f1:0.6659525631216527 \n",
      " precision:0.5738396624472574 \n",
      " recall:0.7932920160408312 \n",
      "}\n",
      "=====Epoch 71\n",
      "Training...\n"
     ]
    },
    {
     "name": "stderr",
     "output_type": "stream",
     "text": [
      "Iteration: 100%|██████████| 392/392 [00:32<00:00, 12.15it/s]\n",
      "Iteration:  25%|██▌       | 98/392 [00:07<00:23, 12.70it/s]]"
     ]
    },
    {
     "name": "stdout",
     "output_type": "stream",
     "text": [
      "Evaluating...\n"
     ]
    },
    {
     "name": "stderr",
     "output_type": "stream",
     "text": [
      "Iteration: 100%|██████████| 392/392 [00:31<00:00, 12.38it/s]\n",
      "Iteration:   3%|▎         | 12/392 [00:00<00:17, 21.39it/s]]"
     ]
    },
    {
     "name": "stdout",
     "output_type": "stream",
     "text": [
      "Evaluating...\n"
     ]
    },
    {
     "name": "stderr",
     "output_type": "stream",
     "text": [
      "Iteration: 100%|██████████| 392/392 [00:19<00:00, 19.89it/s]\n",
      "Iteration: 100%|██████████| 392/392 [00:31<00:00, 12.44it/s]\n",
      "Iteration:  76%|███████▌  | 297/392 [00:14<00:04, 21.82it/s]"
     ]
    },
    {
     "name": "stdout",
     "output_type": "stream",
     "text": [
      "Evaluating...\n"
     ]
    },
    {
     "name": "stderr",
     "output_type": "stream",
     "text": [
      "Iteration: 100%|██████████| 109/109 [00:05<00:00, 18.98it/s]\n",
      "Iteration: 100%|██████████| 392/392 [00:18<00:00, 20.82it/s]\n",
      "Iteration: 100%|██████████| 392/392 [00:18<00:00, 20.88it/s]\n",
      "Iteration: 100%|██████████| 392/392 [00:31<00:00, 12.60it/s]\n",
      "Iteration:   0%|          | 0/392 [00:00<?, ?it/s]"
     ]
    },
    {
     "name": "stdout",
     "output_type": "stream",
     "text": [
      "Evaluating...\n"
     ]
    },
    {
     "name": "stderr",
     "output_type": "stream",
     "text": [
      "Iteration: 100%|██████████| 109/109 [00:05<00:00, 21.78it/s]\n",
      "Iteration: 100%|██████████| 109/109 [00:05<00:00, 21.78it/s]\n",
      "Iteration: 100%|██████████| 44/44 [00:02<00:00, 21.69it/s]]]\n",
      "Iteration:  74%|███████▍  | 291/392 [00:13<00:04, 21.88it/s]"
     ]
    },
    {
     "name": "stdout",
     "output_type": "stream",
     "text": [
      "{'Train':  best_epoch_indx:70\n",
      " auc:0.9918945597344656 \n",
      " apur:0.9603406224736765 \n",
      " f1:0.8509486287802086 \n",
      " precision:0.7526182596846408 \n",
      " recall:0.9788343713605753 \n",
      ", 'Validation':  best_epoch_indx:70\n",
      " auc:0.9241004542389485 \n",
      " apur:0.7725467282037218 \n",
      " f1:0.6789829161700437 \n",
      " precision:0.601972525537161 \n",
      " recall:0.7785876993166287 \n",
      ", 'Test':  best_epoch_indx:70\n",
      " auc:0.9254016611108352 \n",
      " apur:0.7657173444230875 \n",
      " f1:0.6833466135458167 \n",
      " precision:0.6069355980184006 \n",
      " recall:0.7817684594348222 \n",
      "}\n",
      "=====Epoch 71\n",
      "Training...\n"
     ]
    },
    {
     "name": "stderr",
     "output_type": "stream",
     "text": [
      "Iteration: 100%|██████████| 44/44 [00:02<00:00, 21.49it/s]s]\n",
      "Iteration:  26%|██▌       | 102/392 [00:04<00:13, 21.80it/s]"
     ]
    },
    {
     "name": "stdout",
     "output_type": "stream",
     "text": [
      "{'Train':  best_epoch_indx:71\n",
      " auc:0.9896284223158719 \n",
      " apur:0.9514287763273721 \n",
      " f1:0.8301040003452294 \n",
      " precision:0.7232394630973418 \n",
      " recall:0.9740240012152515 \n",
      ", 'Validation':  best_epoch_indx:71\n",
      " auc:0.9268458176317371 \n",
      " apur:0.7648752696387358 \n",
      " f1:0.6802773497688752 \n",
      " precision:0.5890593729152769 \n",
      " recall:0.804922515952598 \n",
      ", 'Test':  best_epoch_indx:71\n",
      " auc:0.9273781890436944 \n",
      " apur:0.7657354540415688 \n",
      " f1:0.6806839186691312 \n",
      " precision:0.5893571619098427 \n",
      " recall:0.8055049216186657 \n",
      "}\n",
      "=====Epoch 72\n",
      "Training...\n"
     ]
    },
    {
     "name": "stderr",
     "output_type": "stream",
     "text": [
      "Iteration: 100%|██████████| 392/392 [00:18<00:00, 21.46it/s]\n",
      "Iteration: 100%|██████████| 109/109 [00:05<00:00, 20.94it/s]\n",
      "Iteration: 100%|██████████| 44/44 [00:02<00:00, 21.80it/s]s]\n",
      "Iteration:  45%|████▍     | 176/392 [00:14<00:17, 12.36it/s]"
     ]
    },
    {
     "name": "stdout",
     "output_type": "stream",
     "text": [
      "{'Train':  best_epoch_indx:72\n",
      " auc:0.9855608872386352 \n",
      " apur:0.9352703719403023 \n",
      " f1:0.7965656649856209 \n",
      " precision:0.6768424407692035 \n",
      " recall:0.9677452022887235 \n",
      ", 'Validation':  best_epoch_indx:72\n",
      " auc:0.925454645372205 \n",
      " apur:0.76494499176213 \n",
      " f1:0.658284023668639 \n",
      " precision:0.5538270068450529 \n",
      " recall:0.8113035551504102 \n",
      ", 'Test':  best_epoch_indx:72\n",
      " auc:0.9225733668127407 \n",
      " apur:0.7545136216110615 \n",
      " f1:0.663385533184191 \n",
      " precision:0.5613326602725897 \n",
      " recall:0.8107911046299672 \n",
      "}\n",
      "=====Epoch 73\n",
      "Training...\n"
     ]
    },
    {
     "name": "stderr",
     "output_type": "stream",
     "text": [
      "Iteration: 100%|██████████| 392/392 [00:18<00:00, 20.86it/s]\n",
      "Iteration: 100%|██████████| 109/109 [00:05<00:00, 20.75it/s]\n",
      "Iteration: 100%|██████████| 44/44 [00:02<00:00, 19.00it/s]s]\n",
      "Iteration: 100%|██████████| 44/44 [00:01<00:00, 22.21it/s]s]\n"
     ]
    },
    {
     "name": "stdout",
     "output_type": "stream",
     "text": [
      "{'Train':  best_epoch_indx:69\n",
      " auc:0.9922260210403431 \n",
      " apur:0.9621755262933704 \n",
      " f1:0.8507898842089072 \n",
      " precision:0.7514749262536873 \n",
      " recall:0.9803534356169933 \n",
      ", 'Validation':  best_epoch_indx:69\n",
      " auc:0.9280549261865917 \n",
      " apur:0.7786857243839307 \n",
      " f1:0.68869978230754 \n",
      " precision:0.608604407135362 \n",
      " recall:0.7930720145852325 \n",
      ", 'Test':  best_epoch_indx:69\n",
      " auc:0.9294078728717416 \n",
      " apur:0.7778181984192668 \n",
      " f1:0.6880820836621941 \n",
      " precision:0.6067650334075724 \n",
      " recall:0.7945679912504557 \n",
      "}\n",
      "=====Epoch 70\n",
      "Training...\n",
      "{'Train':  best_epoch_indx:71\n",
      " auc:0.9881366293599796 \n",
      " apur:0.9441432630815907 \n",
      " f1:0.8385341796227082 \n",
      " precision:0.744385110727187 \n",
      " recall:0.9599473391057775 \n",
      ", 'Validation':  best_epoch_indx:71\n",
      " auc:0.9227588020879436 \n",
      " apur:0.7646700006928472 \n",
      " f1:0.686140209508461 \n",
      " precision:0.6148014440433213 \n",
      " recall:0.776207839562443 \n",
      ", 'Test':  best_epoch_indx:71\n",
      " auc:0.9215690481649098 \n",
      " apur:0.7610785633783488 \n",
      " f1:0.6729344275356545 \n",
      " precision:0.5977353149327672 \n",
      " recall:0.7697776157491797 \n",
      "}\n",
      "=====Epoch 72\n",
      "Training...\n"
     ]
    },
    {
     "name": "stderr",
     "output_type": "stream",
     "text": [
      "Iteration: 100%|██████████| 392/392 [00:32<00:00, 12.22it/s]\n",
      "Iteration:  99%|█████████▉| 390/392 [00:31<00:00, 12.54it/s]"
     ]
    },
    {
     "name": "stdout",
     "output_type": "stream",
     "text": [
      "Evaluating...\n"
     ]
    },
    {
     "name": "stderr",
     "output_type": "stream",
     "text": [
      "\r",
      "Iteration:  28%|██▊       | 108/392 [00:08<00:22, 12.63it/s]\r",
      "Iteration:  27%|██▋       | 106/392 [00:08<00:22, 12.67it/s]\r",
      "Iteration:   1%|          | 3/392 [00:00<00:18, 20.84it/s]\r",
      "Iteration:  57%|█████▋    | 222/392 [00:17<00:13, 12.80it/s]\r",
      "Iteration: 100%|██████████| 392/392 [00:31<00:00, 12.79it/s]\r",
      "Iteration: 100%|██████████| 392/392 [00:31<00:00, 12.31it/s]\n",
      "\r",
      "Iteration:   0%|          | 0/392 [00:00<?, ?it/s]\r",
      "Iteration:   2%|▏         | 6/392 [00:00<00:18, 21.36it/s]\r",
      "Iteration:  28%|██▊       | 110/392 [00:08<00:22, 12.65it/s]\r",
      "Iteration:  28%|██▊       | 108/392 [00:08<00:22, 12.65it/s]"
     ]
    },
    {
     "name": "stdout",
     "output_type": "stream",
     "text": [
      "Evaluating...\n"
     ]
    },
    {
     "name": "stderr",
     "output_type": "stream",
     "text": [
      "Iteration: 100%|██████████| 392/392 [00:31<00:00, 12.55it/s]\n",
      "Iteration:  70%|███████   | 276/392 [00:22<00:09, 12.43it/s]"
     ]
    },
    {
     "name": "stdout",
     "output_type": "stream",
     "text": [
      "Evaluating...\n"
     ]
    },
    {
     "name": "stderr",
     "output_type": "stream",
     "text": [
      "Iteration: 100%|██████████| 392/392 [00:18<00:00, 20.88it/s]\n",
      "Iteration: 100%|██████████| 392/392 [00:18<00:00, 21.13it/s]\n",
      "Iteration: 100%|██████████| 392/392 [00:31<00:00, 12.44it/s]\n",
      "Iteration:  48%|████▊     | 52/109 [00:02<00:03, 17.58it/s]]"
     ]
    },
    {
     "name": "stdout",
     "output_type": "stream",
     "text": [
      "Evaluating...\n",
      "Evaluating...\n"
     ]
    },
    {
     "name": "stderr",
     "output_type": "stream",
     "text": [
      "Iteration: 100%|██████████| 392/392 [00:31<00:00, 12.43it/s]\n",
      "Iteration: 100%|██████████| 109/109 [00:05<00:00, 21.70it/s]\n",
      "Iteration: 100%|██████████| 109/109 [00:05<00:00, 19.62it/s]\n",
      "Iteration: 100%|██████████| 44/44 [00:02<00:00, 21.51it/s]]]\n",
      "Iteration:  26%|██▌       | 102/392 [00:04<00:13, 21.53it/s]"
     ]
    },
    {
     "name": "stdout",
     "output_type": "stream",
     "text": [
      "{'Train':  best_epoch_indx:72\n",
      " auc:0.986839715751809 \n",
      " apur:0.9399427194444627 \n",
      " f1:0.8114360911830878 \n",
      " precision:0.6985200073086059 \n",
      " recall:0.9678971087143653 \n",
      ", 'Validation':  best_epoch_indx:72\n",
      " auc:0.9221529158928609 \n",
      " apur:0.7557631715035271 \n",
      " f1:0.6676852559205501 \n",
      " precision:0.5746219592373438 \n",
      " recall:0.796718322698268 \n",
      ", 'Test':  best_epoch_indx:72\n",
      " auc:0.9234639345938892 \n",
      " apur:0.7560745275015175 \n",
      " f1:0.6672244618544155 \n",
      " precision:0.5725101161728234 \n",
      " recall:0.7994896099161501 \n",
      "}\n",
      "=====Epoch 73\n",
      "Training...\n"
     ]
    },
    {
     "name": "stderr",
     "output_type": "stream",
     "text": [
      "Iteration: 100%|██████████| 44/44 [00:02<00:00, 21.26it/s]s]\n",
      "Iteration:   0%|          | 0/392 [00:00<?, ?it/s]22.02it/s]"
     ]
    },
    {
     "name": "stdout",
     "output_type": "stream",
     "text": [
      "{'Train':  best_epoch_indx:71\n",
      " auc:0.9895308125380671 \n",
      " apur:0.9498026646012216 \n",
      " f1:0.8211378667118875 \n",
      " precision:0.7062019178182083 \n",
      " recall:0.9807585194187047 \n",
      ", 'Validation':  best_epoch_indx:71\n",
      " auc:0.9221054428158789 \n",
      " apur:0.7661477697564977 \n",
      " f1:0.6628766344513929 \n",
      " precision:0.5674886437378326 \n",
      " recall:0.7968109339407745 \n",
      ", 'Test':  best_epoch_indx:71\n",
      " auc:0.9230137488370345 \n",
      " apur:0.7593572029308612 \n",
      " f1:0.6675259686102054 \n",
      " precision:0.5713914849428868 \n",
      " recall:0.8025524156791248 \n",
      "}\n",
      "=====Epoch 72\n",
      "Training...\n"
     ]
    },
    {
     "name": "stderr",
     "output_type": "stream",
     "text": [
      "Iteration: 100%|██████████| 392/392 [00:18<00:00, 21.34it/s]\n",
      "Iteration: 100%|██████████| 109/109 [00:04<00:00, 22.82it/s]\n",
      "Iteration: 100%|██████████| 44/44 [00:01<00:00, 22.54it/s]s]\n",
      "Iteration:  90%|████████▉ | 352/392 [00:17<00:02, 19.29it/s]"
     ]
    },
    {
     "name": "stdout",
     "output_type": "stream",
     "text": [
      "{'Train':  best_epoch_indx:73\n",
      " auc:0.9814831439141172 \n",
      " apur:0.9180297829794084 \n",
      " f1:0.7923232493469284 \n",
      " precision:0.678415527255673 \n",
      " recall:0.9522001113980455 \n",
      ", 'Validation':  best_epoch_indx:73\n",
      " auc:0.9213447879650017 \n",
      " apur:0.7470237911073413 \n",
      " f1:0.6572068707991039 \n",
      " precision:0.5566097406704618 \n",
      " recall:0.8021877848678214 \n",
      ", 'Test':  best_epoch_indx:73\n",
      " auc:0.9167124201028021 \n",
      " apur:0.7388826509067183 \n",
      " f1:0.6561103113872263 \n",
      " precision:0.5613898612731751 \n",
      " recall:0.7892818082391542 \n",
      "}\n",
      "=====Epoch 74\n",
      "Training...\n"
     ]
    },
    {
     "name": "stderr",
     "output_type": "stream",
     "text": [
      "Iteration: 100%|██████████| 392/392 [00:18<00:00, 21.65it/s]\n",
      "Iteration: 100%|██████████| 392/392 [00:19<00:00, 20.29it/s]\n",
      "Iteration: 100%|██████████| 109/109 [00:05<00:00, 21.51it/s]\n",
      "Iteration: 100%|██████████| 109/109 [00:04<00:00, 22.01it/s]\n",
      "Iteration: 100%|██████████| 44/44 [00:02<00:00, 19.69it/s]s]\n",
      "Iteration:  61%|██████▏   | 27/44 [00:01<00:00, 21.96it/s]s]"
     ]
    },
    {
     "name": "stdout",
     "output_type": "stream",
     "text": [
      "{'Train':  best_epoch_indx:70\n",
      " auc:0.9920481350160765 \n",
      " apur:0.9616752365265107 \n",
      " f1:0.8461874972658471 \n",
      " precision:0.744849628403096 \n",
      " recall:0.9794419970631424 \n",
      ", 'Validation':  best_epoch_indx:70\n",
      " auc:0.9264714543827643 \n",
      " apur:0.7771044037421934 \n",
      " f1:0.6837975676735975 \n",
      " precision:0.6002066115702479 \n",
      " recall:0.7944393801276208 \n",
      ", 'Test':  best_epoch_indx:70\n",
      " auc:0.9278755348330763 \n",
      " apur:0.7754447403129134 \n",
      " f1:0.6830420406235238 \n",
      " precision:0.6011640798226164 \n",
      " recall:0.7907400656215822 \n",
      "}\n",
      "=====Epoch 71\n",
      "Training...\n"
     ]
    },
    {
     "name": "stderr",
     "output_type": "stream",
     "text": [
      "Iteration: 100%|██████████| 44/44 [00:01<00:00, 22.01it/s]s]\n",
      "Iteration:   0%|          | 0/392 [00:00<?, ?it/s]12.44it/s]"
     ]
    },
    {
     "name": "stdout",
     "output_type": "stream",
     "text": [
      "{'Train':  best_epoch_indx:72\n",
      " auc:0.9856257438397945 \n",
      " apur:0.9347615212515954 \n",
      " f1:0.8084357032227951 \n",
      " precision:0.6957347356120362 \n",
      " recall:0.9647070737758874 \n",
      ", 'Validation':  best_epoch_indx:72\n",
      " auc:0.9217071954176997 \n",
      " apur:0.7597524751354228 \n",
      " f1:0.6659051970302683 \n",
      " precision:0.5717554756456358 \n",
      " recall:0.7971741112123975 \n",
      ", 'Test':  best_epoch_indx:72\n",
      " auc:0.9194802192969975 \n",
      " apur:0.7533576221679885 \n",
      " f1:0.6558417037988068 \n",
      " precision:0.5598968407479046 \n",
      " recall:0.7914691943127962 \n",
      "}\n",
      "=====Epoch 73\n",
      "Training...\n"
     ]
    },
    {
     "name": "stderr",
     "output_type": "stream",
     "text": [
      "Iteration: 100%|██████████| 392/392 [00:31<00:00, 12.38it/s]\n",
      "Iteration:  29%|██▊       | 112/392 [00:09<00:22, 12.50it/s]"
     ]
    },
    {
     "name": "stdout",
     "output_type": "stream",
     "text": [
      "Evaluating...\n"
     ]
    },
    {
     "name": "stderr",
     "output_type": "stream",
     "text": [
      "Iteration: 100%|██████████| 392/392 [00:32<00:00, 12.15it/s]\n",
      "Iteration:   8%|▊         | 30/392 [00:01<00:16, 21.42it/s]]"
     ]
    },
    {
     "name": "stdout",
     "output_type": "stream",
     "text": [
      "Evaluating...\n"
     ]
    },
    {
     "name": "stderr",
     "output_type": "stream",
     "text": [
      "Iteration: 100%|██████████| 392/392 [00:31<00:00, 12.50it/s]\n",
      "Iteration:  66%|██████▌   | 257/392 [00:12<00:06, 21.17it/s]"
     ]
    },
    {
     "name": "stdout",
     "output_type": "stream",
     "text": [
      "Evaluating...\n"
     ]
    },
    {
     "name": "stderr",
     "output_type": "stream",
     "text": [
      "Iteration: 100%|██████████| 392/392 [00:18<00:00, 20.68it/s]\n",
      "Iteration: 100%|██████████| 392/392 [00:18<00:00, 20.70it/s]\n",
      "Iteration: 100%|██████████| 392/392 [00:32<00:00, 12.17it/s]\n",
      "Iteration: 100%|██████████| 392/392 [00:31<00:00, 12.56it/s]\n",
      "Iteration:   1%|          | 2/392 [00:00<00:19, 19.76it/s]]]"
     ]
    },
    {
     "name": "stdout",
     "output_type": "stream",
     "text": [
      "Evaluating...\n",
      "Evaluating...\n"
     ]
    },
    {
     "name": "stderr",
     "output_type": "stream",
     "text": [
      "Iteration: 100%|██████████| 109/109 [00:04<00:00, 22.18it/s]\n",
      "Iteration: 100%|██████████| 109/109 [00:05<00:00, 21.63it/s]\n",
      "Iteration: 100%|██████████| 44/44 [00:02<00:00, 21.88it/s]]]\n",
      "Iteration:  34%|███▍      | 15/44 [00:00<00:01, 21.26it/s]s]"
     ]
    },
    {
     "name": "stdout",
     "output_type": "stream",
     "text": [
      "{'Train':  best_epoch_indx:73\n",
      " auc:0.985527167370095 \n",
      " apur:0.9339826708963422 \n",
      " f1:0.8089344748664915 \n",
      " precision:0.6955792849593644 \n",
      " recall:0.9664286799331612 \n",
      ", 'Validation':  best_epoch_indx:73\n",
      " auc:0.9212049890489101 \n",
      " apur:0.7547484365651244 \n",
      " f1:0.6643757159221076 \n",
      " precision:0.5716162943495401 \n",
      " recall:0.7930720145852325 \n",
      ", 'Test':  best_epoch_indx:73\n",
      " auc:0.9246045824552963 \n",
      " apur:0.7605318921195281 \n",
      " f1:0.6639381537062301 \n",
      " precision:0.5682407887908666 \n",
      " recall:0.7983959168793292 \n",
      "}\n",
      "=====Epoch 74\n",
      "Training...\n"
     ]
    },
    {
     "name": "stderr",
     "output_type": "stream",
     "text": [
      "Iteration: 100%|██████████| 44/44 [00:02<00:00, 21.44it/s]s]\n",
      "Iteration:  33%|███▎      | 129/392 [00:06<00:13, 19.55it/s]"
     ]
    },
    {
     "name": "stdout",
     "output_type": "stream",
     "text": [
      "{'Train':  best_epoch_indx:72\n",
      " auc:0.9881525339504742 \n",
      " apur:0.9443237958039838 \n",
      " f1:0.8411579554018708 \n",
      " precision:0.7480386359156318 \n",
      " recall:0.9607575067092005 \n",
      ", 'Validation':  best_epoch_indx:72\n",
      " auc:0.9195344973346172 \n",
      " apur:0.7566616467408112 \n",
      " f1:0.6745490981963927 \n",
      " precision:0.6021466905187836 \n",
      " recall:0.7667425968109339 \n",
      ", 'Test':  best_epoch_indx:72\n",
      " auc:0.9195932775557385 \n",
      " apur:0.7507703226931325 \n",
      " f1:0.6705370101596517 \n",
      " precision:0.601127656498482 \n",
      " recall:0.7580674567000911 \n",
      "}\n",
      "=====Epoch 73\n",
      "Training...\n"
     ]
    },
    {
     "name": "stderr",
     "output_type": "stream",
     "text": [
      "Iteration: 100%|██████████| 392/392 [00:19<00:00, 20.62it/s]\n",
      "Iteration: 100%|██████████| 109/109 [00:04<00:00, 22.13it/s]\n",
      "Iteration: 100%|██████████| 44/44 [00:02<00:00, 19.77it/s]s]\n",
      "Iteration:  35%|███▌      | 139/392 [00:11<00:20, 12.18it/s]"
     ]
    },
    {
     "name": "stdout",
     "output_type": "stream",
     "text": [
      "{'Train':  best_epoch_indx:74\n",
      " auc:0.9778090571062481 \n",
      " apur:0.9061118561711758 \n",
      " f1:0.7694617552086546 \n",
      " precision:0.647894153505126 \n",
      " recall:0.9471871993518659 \n",
      ", 'Validation':  best_epoch_indx:74\n",
      " auc:0.916787993527929 \n",
      " apur:0.7388652005353024 \n",
      " f1:0.6487985212569315 \n",
      " precision:0.5457089552238806 \n",
      " recall:0.7999088422971741 \n",
      ", 'Test':  best_epoch_indx:74\n",
      " auc:0.9149259856791544 \n",
      " apur:0.7392987317935693 \n",
      " f1:0.6475433951162107 \n",
      " precision:0.542786683107275 \n",
      " recall:0.8024061246810062 \n",
      "}\n",
      "=====Epoch 75\n",
      "Training...\n"
     ]
    },
    {
     "name": "stderr",
     "output_type": "stream",
     "text": [
      "Iteration: 100%|██████████| 392/392 [00:18<00:00, 21.22it/s]\n",
      "Iteration: 100%|██████████| 392/392 [00:19<00:00, 20.45it/s]\n",
      "Iteration: 100%|██████████| 109/109 [00:04<00:00, 22.07it/s]\n",
      "Iteration: 100%|██████████| 109/109 [00:05<00:00, 21.31it/s]\n",
      "Iteration: 100%|██████████| 44/44 [00:02<00:00, 21.36it/s]s]\n",
      "Iteration:  57%|█████▋    | 25/44 [00:01<00:01, 18.82it/s]s]"
     ]
    },
    {
     "name": "stdout",
     "output_type": "stream",
     "text": [
      "{'Train':  best_epoch_indx:73\n",
      " auc:0.9819163624077841 \n",
      " apur:0.9201936486852431 \n",
      " f1:0.7695532133572479 \n",
      " precision:0.6391604177825388 \n",
      " recall:0.9667831282596587 \n",
      ", 'Validation':  best_epoch_indx:73\n",
      " auc:0.9190200358170487 \n",
      " apur:0.7522177439271273 \n",
      " f1:0.6549601737871109 \n",
      " precision:0.5432432432432432 \n",
      " recall:0.8245214220601641 \n",
      ", 'Test':  best_epoch_indx:73\n",
      " auc:0.9179070254878263 \n",
      " apur:0.7467047236858178 \n",
      " f1:0.6414127029336372 \n",
      " precision:0.5262911895302641 \n",
      " recall:0.8209989063069631 \n",
      "}\n",
      "=====Epoch 74\n",
      "Training...\n"
     ]
    },
    {
     "name": "stderr",
     "output_type": "stream",
     "text": [
      "Iteration: 100%|██████████| 44/44 [00:02<00:00, 19.90it/s]s]\n",
      "Iteration:  73%|███████▎  | 287/392 [00:23<00:08, 11.67it/s]"
     ]
    },
    {
     "name": "stdout",
     "output_type": "stream",
     "text": [
      "{'Train':  best_epoch_indx:71\n",
      " auc:0.9908218119397559 \n",
      " apur:0.9567003106943175 \n",
      " f1:0.8419716892379723 \n",
      " precision:0.7412743662839972 \n",
      " recall:0.974327814066535 \n",
      ", 'Validation':  best_epoch_indx:71\n",
      " auc:0.9252192000859139 \n",
      " apur:0.769458829180417 \n",
      " f1:0.6851524090462144 \n",
      " precision:0.6025596679349706 \n",
      " recall:0.7939835916134913 \n",
      ", 'Test':  best_epoch_indx:71\n",
      " auc:0.9252402856219366 \n",
      " apur:0.7655625701941092 \n",
      " f1:0.6790367153572838 \n",
      " precision:0.5989692157682128 \n",
      " recall:0.7838133430550492 \n",
      "}\n",
      "=====Epoch 72\n",
      "Training...\n"
     ]
    },
    {
     "name": "stderr",
     "output_type": "stream",
     "text": [
      "Iteration: 100%|██████████| 392/392 [00:32<00:00, 12.14it/s]\n",
      "Iteration:  30%|███       | 118/392 [00:09<00:22, 12.12it/s]"
     ]
    },
    {
     "name": "stdout",
     "output_type": "stream",
     "text": [
      "Evaluating...\n"
     ]
    },
    {
     "name": "stderr",
     "output_type": "stream",
     "text": [
      "Iteration: 100%|██████████| 392/392 [00:32<00:00, 12.04it/s]\n",
      "Iteration:  11%|█         | 42/392 [00:01<00:15, 22.08it/s]]"
     ]
    },
    {
     "name": "stdout",
     "output_type": "stream",
     "text": [
      "Evaluating...\n"
     ]
    },
    {
     "name": "stderr",
     "output_type": "stream",
     "text": [
      "Iteration: 100%|██████████| 392/392 [00:31<00:00, 12.44it/s]\n",
      "Iteration:  58%|█████▊    | 226/392 [00:10<00:07, 21.24it/s]"
     ]
    },
    {
     "name": "stdout",
     "output_type": "stream",
     "text": [
      "Evaluating...\n"
     ]
    },
    {
     "name": "stderr",
     "output_type": "stream",
     "text": [
      "Iteration: 100%|██████████| 392/392 [00:18<00:00, 21.64it/s]\n",
      "Iteration: 100%|██████████| 392/392 [00:18<00:00, 21.21it/s]\n",
      "Iteration: 100%|██████████| 392/392 [00:31<00:00, 12.49it/s]\n",
      "Iteration:  55%|█████▌    | 60/109 [00:02<00:02, 21.69it/s]]"
     ]
    },
    {
     "name": "stdout",
     "output_type": "stream",
     "text": [
      "Evaluating...\n"
     ]
    },
    {
     "name": "stderr",
     "output_type": "stream",
     "text": [
      "Iteration: 100%|██████████| 392/392 [00:31<00:00, 12.45it/s]\n",
      "Iteration:  33%|███▎      | 36/109 [00:01<00:03, 21.53it/s]"
     ]
    },
    {
     "name": "stdout",
     "output_type": "stream",
     "text": [
      "Evaluating...\n"
     ]
    },
    {
     "name": "stderr",
     "output_type": "stream",
     "text": [
      "Iteration: 100%|██████████| 109/109 [00:04<00:00, 21.83it/s]\n",
      "Iteration: 100%|██████████| 109/109 [00:05<00:00, 21.32it/s]\n",
      "Iteration: 100%|██████████| 44/44 [00:02<00:00, 21.58it/s]s]\n",
      "Iteration:  28%|██▊       | 111/392 [00:05<00:12, 22.03it/s]"
     ]
    },
    {
     "name": "stdout",
     "output_type": "stream",
     "text": [
      "{'Train':  best_epoch_indx:74\n",
      " auc:0.9816160598355518 \n",
      " apur:0.9184583500259269 \n",
      " f1:0.7705218987673748 \n",
      " precision:0.6404091213950369 \n",
      " recall:0.9669856701605145 \n",
      ", 'Validation':  best_epoch_indx:74\n",
      " auc:0.9162225682644506 \n",
      " apur:0.7347695625911213 \n",
      " f1:0.6427295462665238 \n",
      " precision:0.5284958871915394 \n",
      " recall:0.8199635369188697 \n",
      ", 'Test':  best_epoch_indx:74\n",
      " auc:0.9205555275231584 \n",
      " apur:0.7431361226490149 \n",
      " f1:0.6476858144359396 \n",
      " precision:0.5330271988696573 \n",
      " recall:0.8251913962814437 \n",
      "}\n",
      "=====Epoch 75\n",
      "Training...\n"
     ]
    },
    {
     "name": "stderr",
     "output_type": "stream",
     "text": [
      "Iteration: 100%|██████████| 44/44 [00:02<00:00, 18.87it/s]s]\n",
      "Iteration:   0%|          | 0/392 [00:00<?, ?it/s]21.74it/s]"
     ]
    },
    {
     "name": "stdout",
     "output_type": "stream",
     "text": [
      "{'Train':  best_epoch_indx:73\n",
      " auc:0.9840972188363474 \n",
      " apur:0.9285040042428816 \n",
      " f1:0.7826069163085737 \n",
      " precision:0.6566738779574878 \n",
      " recall:0.9683021925160767 \n",
      ", 'Validation':  best_epoch_indx:73\n",
      " auc:0.9181401405993672 \n",
      " apur:0.7451228689682255 \n",
      " f1:0.6583738957995313 \n",
      " precision:0.5447494033412887 \n",
      " recall:0.8318906605922551 \n",
      ", 'Test':  best_epoch_indx:73\n",
      " auc:0.920053868966508 \n",
      " apur:0.7507059094312478 \n",
      " f1:0.6541742617572002 \n",
      " precision:0.545078979343864 \n",
      " recall:0.8178669097538742 \n",
      "}\n",
      "=====Epoch 74\n",
      "Training...\n"
     ]
    },
    {
     "name": "stderr",
     "output_type": "stream",
     "text": [
      "Iteration: 100%|██████████| 392/392 [00:19<00:00, 20.20it/s]\n",
      "Iteration: 100%|██████████| 109/109 [00:05<00:00, 20.99it/s]\n",
      "Iteration: 100%|██████████| 392/392 [00:17<00:00, 22.26it/s]\n",
      "Iteration: 100%|██████████| 44/44 [00:02<00:00, 19.78it/s]s]\n",
      "Iteration: 100%|██████████| 392/392 [00:18<00:00, 21.61it/s]\n",
      "Iteration:  36%|███▋      | 143/392 [00:11<00:20, 12.17it/s]"
     ]
    },
    {
     "name": "stdout",
     "output_type": "stream",
     "text": [
      "{'Train':  best_epoch_indx:75\n",
      " auc:0.9833700124361171 \n",
      " apur:0.9260591183902515 \n",
      " f1:0.8021567462002207 \n",
      " precision:0.690595416499141 \n",
      " recall:0.9567066686920856 \n",
      ", 'Validation':  best_epoch_indx:75\n",
      " auc:0.9225615314494074 \n",
      " apur:0.7594612404752118 \n",
      " f1:0.6632730015082956 \n",
      " precision:0.5655948553054663 \n",
      " recall:0.8017319963536919 \n",
      ", 'Test':  best_epoch_indx:75\n",
      " auc:0.9211378049333626 \n",
      " apur:0.7551322312756107 \n",
      " f1:0.6694132906080721 \n",
      " precision:0.5756462406508333 \n",
      " recall:0.7996718920889537 \n",
      "}\n",
      "=====Epoch 76\n",
      "Training...\n"
     ]
    },
    {
     "name": "stderr",
     "output_type": "stream",
     "text": [
      "Iteration: 100%|██████████| 109/109 [00:04<00:00, 22.40it/s]\n",
      "Iteration: 100%|██████████| 109/109 [00:05<00:00, 20.05it/s]\n",
      "Iteration: 100%|██████████| 44/44 [00:01<00:00, 22.19it/s]s]\n",
      "Iteration:  58%|█████▊    | 227/392 [00:18<00:13, 11.82it/s]"
     ]
    },
    {
     "name": "stdout",
     "output_type": "stream",
     "text": [
      "{'Train':  best_epoch_indx:74\n",
      " auc:0.9782490881283623 \n",
      " apur:0.9108632727501227 \n",
      " f1:0.7929607073968922 \n",
      " precision:0.6931645953319188 \n",
      " recall:0.9263253835637247 \n",
      ", 'Validation':  best_epoch_indx:74\n",
      " auc:0.9159282878754383 \n",
      " apur:0.7442651152420524 \n",
      " f1:0.6577708006279435 \n",
      " precision:0.5775327360441075 \n",
      " recall:0.763901549680948 \n",
      ", 'Test':  best_epoch_indx:74\n",
      " auc:0.9141131401822392 \n",
      " apur:0.7406556443713648 \n",
      " f1:0.6497785375709068 \n",
      " precision:0.5663009616686984 \n",
      " recall:0.7621217644914328 \n",
      "}\n",
      "=====Epoch 75\n",
      "Training...\n"
     ]
    },
    {
     "name": "stderr",
     "output_type": "stream",
     "text": [
      "Iteration: 100%|██████████| 44/44 [00:02<00:00, 21.11it/s]s]\n",
      "Iteration:   1%|          | 2/392 [00:00<00:33, 11.78it/s]s]"
     ]
    },
    {
     "name": "stdout",
     "output_type": "stream",
     "text": [
      "{'Train':  best_epoch_indx:72\n",
      " auc:0.9875652558258532 \n",
      " apur:0.9432989656726354 \n",
      " f1:0.8297886263987959 \n",
      " precision:0.728903196137043 \n",
      " recall:0.9630867385690415 \n",
      ", 'Validation':  best_epoch_indx:72\n",
      " auc:0.9225271323162656 \n",
      " apur:0.7623177444231364 \n",
      " f1:0.6743492946552753 \n",
      " precision:0.5977456851003875 \n",
      " recall:0.7734731084776664 \n",
      ", 'Test':  best_epoch_indx:72\n",
      " auc:0.9220606999635436 \n",
      " apur:0.7557837824187726 \n",
      " f1:0.6708339927203671 \n",
      " precision:0.5927013422818792 \n",
      " recall:0.7726941305140357 \n",
      "}\n",
      "=====Epoch 73\n",
      "Training...\n"
     ]
    },
    {
     "name": "stderr",
     "output_type": "stream",
     "text": [
      "Iteration: 100%|██████████| 392/392 [00:31<00:00, 12.37it/s]\n",
      "Iteration:   1%|          | 2/392 [00:00<00:19, 19.94it/s]s]"
     ]
    },
    {
     "name": "stdout",
     "output_type": "stream",
     "text": [
      "Evaluating...\n"
     ]
    },
    {
     "name": "stderr",
     "output_type": "stream",
     "text": [
      "Iteration: 100%|██████████| 392/392 [00:32<00:00, 11.90it/s]\n",
      "Iteration:  35%|███▌      | 138/392 [00:11<00:20, 12.49it/s]"
     ]
    },
    {
     "name": "stdout",
     "output_type": "stream",
     "text": [
      "Evaluating...\n"
     ]
    },
    {
     "name": "stderr",
     "output_type": "stream",
     "text": [
      "Iteration: 100%|██████████| 392/392 [00:31<00:00, 12.51it/s]\n",
      "Iteration:  73%|███████▎  | 287/392 [00:13<00:05, 20.94it/s]"
     ]
    },
    {
     "name": "stdout",
     "output_type": "stream",
     "text": [
      "Evaluating...\n"
     ]
    },
    {
     "name": "stderr",
     "output_type": "stream",
     "text": [
      "Iteration: 100%|██████████| 392/392 [00:19<00:00, 20.46it/s]\n",
      "Iteration: 100%|██████████| 392/392 [00:31<00:00, 12.55it/s]\n",
      "Iteration:  39%|███▉      | 153/392 [00:06<00:10, 22.14it/s]"
     ]
    },
    {
     "name": "stdout",
     "output_type": "stream",
     "text": [
      "Evaluating...\n"
     ]
    },
    {
     "name": "stderr",
     "output_type": "stream",
     "text": [
      "Iteration: 100%|██████████| 392/392 [00:18<00:00, 21.45it/s]\n",
      "Iteration: 100%|██████████| 392/392 [00:32<00:00, 12.14it/s]\n",
      "Iteration:  59%|█████▉    | 231/392 [00:10<00:07, 21.88it/s]"
     ]
    },
    {
     "name": "stdout",
     "output_type": "stream",
     "text": [
      "Evaluating...\n"
     ]
    },
    {
     "name": "stderr",
     "output_type": "stream",
     "text": [
      "Iteration: 100%|██████████| 109/109 [00:05<00:00, 21.54it/s]\n",
      "Iteration: 100%|██████████| 44/44 [00:02<00:00, 21.63it/s]]]\n",
      "Iteration:   0%|          | 0/392 [00:00<?, ?it/s]1.24it/s]]"
     ]
    },
    {
     "name": "stdout",
     "output_type": "stream",
     "text": [
      "{'Train':  best_epoch_indx:75\n",
      " auc:0.983808696734378 \n",
      " apur:0.9296852440894804 \n",
      " f1:0.7912000834115317 \n",
      " precision:0.6725873927533149 \n",
      " recall:0.9606056002835587 \n",
      ", 'Validation':  best_epoch_indx:75\n",
      " auc:0.9211839720175637 \n",
      " apur:0.7565043380183034 \n",
      " f1:0.6558704453441295 \n",
      " precision:0.55 \n",
      " recall:0.8122151321786691 \n",
      ", 'Test':  best_epoch_indx:75\n",
      " auc:0.9202502741816778 \n",
      " apur:0.747474691786778 \n",
      " f1:0.6561854148213758 \n",
      " precision:0.5513520218308112 \n",
      " recall:0.8102442581115566 \n",
      "}\n",
      "=====Epoch 76\n",
      "Training...\n"
     ]
    },
    {
     "name": "stderr",
     "output_type": "stream",
     "text": [
      "Iteration: 100%|██████████| 109/109 [00:05<00:00, 21.36it/s]\n",
      "Iteration: 100%|██████████| 44/44 [00:02<00:00, 21.92it/s]s]\n",
      "Iteration:  96%|█████████▋| 378/392 [00:17<00:00, 22.47it/s]"
     ]
    },
    {
     "name": "stdout",
     "output_type": "stream",
     "text": [
      "{'Train':  best_epoch_indx:74\n",
      " auc:0.9816803573185988 \n",
      " apur:0.9213911588543194 \n",
      " f1:0.7831562377016923 \n",
      " precision:0.6626358219418156 \n",
      " recall:0.957263658919439 \n",
      ", 'Validation':  best_epoch_indx:74\n",
      " auc:0.9192482496368438 \n",
      " apur:0.7551003296768689 \n",
      " f1:0.6504961411245865 \n",
      " precision:0.5451185709886048 \n",
      " recall:0.806378132118451 \n",
      ", 'Test':  best_epoch_indx:74\n",
      " auc:0.9172099063854695 \n",
      " apur:0.7385788835107358 \n",
      " f1:0.652009771263602 \n",
      " precision:0.5488534396809571 \n",
      " recall:0.8029170464904284 \n",
      "}\n",
      "=====Epoch 75\n",
      "Training...\n"
     ]
    },
    {
     "name": "stderr",
     "output_type": "stream",
     "text": [
      "Iteration: 100%|██████████| 392/392 [00:17<00:00, 22.13it/s]\n",
      "Iteration: 100%|██████████| 109/109 [00:05<00:00, 20.50it/s]\n",
      "Iteration: 100%|██████████| 392/392 [00:18<00:00, 21.24it/s]\n",
      "Iteration: 100%|██████████| 44/44 [00:02<00:00, 20.31it/s]s]\n",
      "Iteration:  32%|███▏      | 124/392 [00:10<00:21, 12.45it/s]"
     ]
    },
    {
     "name": "stdout",
     "output_type": "stream",
     "text": [
      "{'Train':  best_epoch_indx:76\n",
      " auc:0.9861745092474777 \n",
      " apur:0.9372605213738894 \n",
      " f1:0.79900889083224 \n",
      " precision:0.6785133319188061 \n",
      " recall:0.9715428629297685 \n",
      ", 'Validation':  best_epoch_indx:76\n",
      " auc:0.9245778869787115 \n",
      " apur:0.7662410585155466 \n",
      " f1:0.6592303402119354 \n",
      " precision:0.5566718995290424 \n",
      " recall:0.8081130355515042 \n",
      ", 'Test':  best_epoch_indx:76\n",
      " auc:0.9229256857213185 \n",
      " apur:0.7571720222813956 \n",
      " f1:0.6621321898565725 \n",
      " precision:0.5569651741293532 \n",
      " recall:0.8162595698140722 \n",
      "}\n",
      "=====Epoch 77\n",
      "Training...\n"
     ]
    },
    {
     "name": "stderr",
     "output_type": "stream",
     "text": [
      "Iteration: 100%|██████████| 392/392 [00:18<00:00, 20.93it/s]\n",
      "Iteration: 100%|██████████| 109/109 [00:04<00:00, 22.55it/s]\n",
      "Iteration: 100%|██████████| 44/44 [00:02<00:00, 21.63it/s]s]\n",
      "Iteration:  63%|██████▎   | 248/392 [00:19<00:11, 12.54it/s]"
     ]
    },
    {
     "name": "stdout",
     "output_type": "stream",
     "text": [
      "{'Train':  best_epoch_indx:75\n",
      " auc:0.9820441292912934 \n",
      " apur:0.9218527071928697 \n",
      " f1:0.7894505494505494 \n",
      " precision:0.6728751873260543 \n",
      " recall:0.954883791584384 \n",
      ", 'Validation':  best_epoch_indx:75\n",
      " auc:0.9193550917638827 \n",
      " apur:0.7587892204714284 \n",
      " f1:0.6617396247868106 \n",
      " precision:0.5663314952967888 \n",
      " recall:0.7958067456700091 \n",
      ", 'Test':  best_epoch_indx:75\n",
      " auc:0.9174685046472559 \n",
      " apur:0.7507375174525944 \n",
      " f1:0.653886164363204 \n",
      " precision:0.5519317611640743 \n",
      " recall:0.8020415603353992 \n",
      "}\n",
      "=====Epoch 76\n",
      "Training...\n"
     ]
    },
    {
     "name": "stderr",
     "output_type": "stream",
     "text": [
      "Iteration: 100%|██████████| 109/109 [00:05<00:00, 20.99it/s]\n",
      "Iteration: 100%|██████████| 44/44 [00:02<00:00, 20.90it/s]s]\n",
      "Iteration:  77%|███████▋  | 300/392 [00:24<00:07, 12.19it/s]"
     ]
    },
    {
     "name": "stdout",
     "output_type": "stream",
     "text": [
      "{'Train':  best_epoch_indx:73\n",
      " auc:0.9861561296365051 \n",
      " apur:0.9383394169424217 \n",
      " f1:0.8215109949923796 \n",
      " precision:0.7205989076047515 \n",
      " recall:0.9552888753860955 \n",
      ", 'Validation':  best_epoch_indx:73\n",
      " auc:0.9197154646337058 \n",
      " apur:0.7557001308326554 \n",
      " f1:0.6645731108930324 \n",
      " precision:0.5835918648741814 \n",
      " recall:0.7716499544211486 \n",
      ", 'Test':  best_epoch_indx:73\n",
      " auc:0.921242873142883 \n",
      " apur:0.7544463700853028 \n",
      " f1:0.6714835466897039 \n",
      " precision:0.589899268662895 \n",
      " recall:0.7792562887349617 \n",
      "}\n",
      "=====Epoch 74\n",
      "Training...\n"
     ]
    },
    {
     "name": "stderr",
     "output_type": "stream",
     "text": [
      "Iteration: 100%|██████████| 392/392 [00:31<00:00, 12.43it/s]\n",
      "Iteration:   0%|          | 0/392 [00:00<?, ?it/s]"
     ]
    },
    {
     "name": "stdout",
     "output_type": "stream",
     "text": [
      "Evaluating...\n"
     ]
    },
    {
     "name": "stderr",
     "output_type": "stream",
     "text": [
      "Iteration: 100%|██████████| 392/392 [00:31<00:00, 12.27it/s]\n",
      "Iteration:  70%|███████   | 276/392 [00:21<00:09, 12.80it/s]"
     ]
    },
    {
     "name": "stdout",
     "output_type": "stream",
     "text": [
      "Evaluating...\n"
     ]
    },
    {
     "name": "stderr",
     "output_type": "stream",
     "text": [
      "Iteration: 100%|██████████| 392/392 [00:31<00:00, 12.36it/s]\n",
      "Iteration:   0%|          | 0/392 [00:00<?, ?it/s]"
     ]
    },
    {
     "name": "stdout",
     "output_type": "stream",
     "text": [
      "Evaluating...\n"
     ]
    },
    {
     "name": "stderr",
     "output_type": "stream",
     "text": [
      "Iteration: 100%|██████████| 392/392 [00:18<00:00, 20.93it/s]\n",
      "Iteration: 100%|██████████| 392/392 [00:31<00:00, 12.61it/s]\n",
      "Iteration:   1%|          | 3/392 [00:00<00:18, 21.12it/s]s]"
     ]
    },
    {
     "name": "stdout",
     "output_type": "stream",
     "text": [
      "Evaluating...\n"
     ]
    },
    {
     "name": "stderr",
     "output_type": "stream",
     "text": [
      "Iteration: 100%|██████████| 392/392 [00:18<00:00, 21.46it/s]\n",
      "Iteration: 100%|██████████| 392/392 [00:31<00:00, 12.47it/s]\n",
      "Iteration:  62%|██████▏   | 243/392 [00:10<00:06, 22.51it/s]"
     ]
    },
    {
     "name": "stdout",
     "output_type": "stream",
     "text": [
      "Evaluating...\n"
     ]
    },
    {
     "name": "stderr",
     "output_type": "stream",
     "text": [
      "Iteration: 100%|██████████| 109/109 [00:05<00:00, 20.10it/s]\n",
      "Iteration: 100%|██████████| 44/44 [00:02<00:00, 21.55it/s]]]\n",
      "Iteration: 100%|██████████| 109/109 [00:05<00:00, 21.77it/s]\n",
      "Iteration:  21%|██        | 81/392 [00:03<00:14, 21.68it/s]"
     ]
    },
    {
     "name": "stdout",
     "output_type": "stream",
     "text": [
      "{'Train':  best_epoch_indx:76\n",
      " auc:0.9873186157228689 \n",
      " apur:0.9414970190994485 \n",
      " f1:0.8164099942488338 \n",
      " precision:0.7046106331347893 \n",
      " recall:0.9703782469998481 \n",
      ", 'Validation':  best_epoch_indx:76\n",
      " auc:0.9251402079301747 \n",
      " apur:0.7602399885824506 \n",
      " f1:0.6667928098391674 \n",
      " precision:0.5700420575865416 \n",
      " recall:0.8030993618960802 \n",
      ", 'Test':  best_epoch_indx:76\n",
      " auc:0.9266681785368477 \n",
      " apur:0.7600473239500878 \n",
      " f1:0.6741402817754886 \n",
      " precision:0.5767236910316226 \n",
      " recall:0.8111556689755742 \n",
      "}\n",
      "=====Epoch 77\n",
      "Training...\n"
     ]
    },
    {
     "name": "stderr",
     "output_type": "stream",
     "text": [
      "Iteration: 100%|██████████| 44/44 [00:02<00:00, 21.74it/s]s]\n",
      "Iteration:   8%|▊         | 32/392 [00:02<00:29, 12.21it/s]]"
     ]
    },
    {
     "name": "stdout",
     "output_type": "stream",
     "text": [
      "{'Train':  best_epoch_indx:75\n",
      " auc:0.985766117210288 \n",
      " apur:0.9347515443947285 \n",
      " f1:0.812418538065426 \n",
      " precision:0.702757651929617 \n",
      " recall:0.962631019292116 \n",
      ", 'Validation':  best_epoch_indx:75\n",
      " auc:0.9192986134641256 \n",
      " apur:0.7527837780540335 \n",
      " f1:0.6639892904953146 \n",
      " precision:0.5721819380355966 \n",
      " recall:0.7908883826879272 \n",
      ", 'Test':  best_epoch_indx:75\n",
      " auc:0.9203488594546917 \n",
      " apur:0.7525771425549563 \n",
      " f1:0.6634438305709024 \n",
      " precision:0.5728103882337353 \n",
      " recall:0.7881494986326345 \n",
      "}\n",
      "=====Epoch 76\n",
      "Training...\n"
     ]
    },
    {
     "name": "stderr",
     "output_type": "stream",
     "text": [
      "Iteration: 100%|██████████| 392/392 [00:17<00:00, 22.41it/s]\n",
      "Iteration: 100%|██████████| 109/109 [00:04<00:00, 22.53it/s]\n",
      "Iteration: 100%|██████████| 392/392 [00:18<00:00, 21.35it/s]\n",
      "Iteration: 100%|██████████| 44/44 [00:01<00:00, 22.58it/s]s]\n",
      "Iteration:  82%|████████▏ | 321/392 [00:15<00:03, 18.64it/s]"
     ]
    },
    {
     "name": "stdout",
     "output_type": "stream",
     "text": [
      "{'Train':  best_epoch_indx:77\n",
      " auc:0.9892558638859679 \n",
      " apur:0.9495292577792047 \n",
      " f1:0.8302865292363543 \n",
      " precision:0.7241886237702138 \n",
      " recall:0.972808749810117 \n",
      ", 'Validation':  best_epoch_indx:77\n",
      " auc:0.9275751421795877 \n",
      " apur:0.7713770409526963 \n",
      " f1:0.6715384615384615 \n",
      " precision:0.5808383233532934 \n",
      " recall:0.7958067456700091 \n",
      ", 'Test':  best_epoch_indx:77\n",
      " auc:0.924189093333882 \n",
      " apur:0.7623348676418821 \n",
      " f1:0.6757323801383169 \n",
      " precision:0.5889204930245158 \n",
      " recall:0.7925628873496172 \n",
      "}\n",
      "=====Epoch 78\n",
      "Training...\n"
     ]
    },
    {
     "name": "stderr",
     "output_type": "stream",
     "text": [
      "Iteration: 100%|██████████| 392/392 [00:19<00:00, 20.59it/s]\n",
      "Iteration: 100%|██████████| 109/109 [00:04<00:00, 22.58it/s]\n",
      "Iteration: 100%|██████████| 44/44 [00:01<00:00, 22.27it/s]]]\n",
      "Iteration:   1%|          | 2/392 [00:00<00:32, 11.88it/s]]]"
     ]
    },
    {
     "name": "stdout",
     "output_type": "stream",
     "text": [
      "{'Train':  best_epoch_indx:76\n",
      " auc:0.9843018524541642 \n",
      " apur:0.9293495365984401 \n",
      " f1:0.8013493569470798 \n",
      " precision:0.6865358910443987 \n",
      " recall:0.9622765709656185 \n",
      ", 'Validation':  best_epoch_indx:76\n",
      " auc:0.9203546802327899 \n",
      " apur:0.754910201483108 \n",
      " f1:0.6648976497346474 \n",
      " precision:0.5691109669046074 \n",
      " recall:0.7994530537830447 \n",
      ", 'Test':  best_epoch_indx:76\n",
      " auc:0.9191623463017659 \n",
      " apur:0.7509067252254732 \n",
      " f1:0.6581061800705865 \n",
      " precision:0.5595709360234964 \n",
      " recall:0.7987604812249361 \n",
      "}\n",
      "=====Epoch 77\n",
      "Training...\n"
     ]
    },
    {
     "name": "stderr",
     "output_type": "stream",
     "text": [
      "Iteration: 100%|██████████| 109/109 [00:05<00:00, 19.62it/s]\n",
      "Iteration: 100%|██████████| 44/44 [00:02<00:00, 21.35it/s]]]\n",
      "Iteration:  42%|████▏     | 166/392 [00:13<00:19, 11.85it/s]"
     ]
    },
    {
     "name": "stdout",
     "output_type": "stream",
     "text": [
      "{'Train':  best_epoch_indx:74\n",
      " auc:0.9840244808987653 \n",
      " apur:0.9277295022306671 \n",
      " f1:0.804129405017312 \n",
      " precision:0.6926229508196722 \n",
      " recall:0.9584282748493594 \n",
      ", 'Validation':  best_epoch_indx:74\n",
      " auc:0.9192754493806269 \n",
      " apur:0.7494109362551156 \n",
      " f1:0.6690825863055502 \n",
      " precision:0.5752705805182027 \n",
      " recall:0.7994530537830447 \n",
      ", 'Test':  best_epoch_indx:74\n",
      " auc:0.9208831980668961 \n",
      " apur:0.7527063626313826 \n",
      " f1:0.6666158187781251 \n",
      " precision:0.5731147540983607 \n",
      " recall:0.7965730951512942 \n",
      "}\n",
      "=====Epoch 75\n",
      "Training...\n"
     ]
    },
    {
     "name": "stderr",
     "output_type": "stream",
     "text": [
      "Iteration: 100%|██████████| 392/392 [00:32<00:00, 12.08it/s]\n",
      "Iteration:  66%|██████▋   | 260/392 [00:21<00:10, 12.65it/s]"
     ]
    },
    {
     "name": "stdout",
     "output_type": "stream",
     "text": [
      "Evaluating...\n"
     ]
    },
    {
     "name": "stderr",
     "output_type": "stream",
     "text": [
      "Iteration: 100%|██████████| 392/392 [00:33<00:00, 11.85it/s]\n",
      "Iteration:  32%|███▏      | 126/392 [00:10<00:21, 12.54it/s]"
     ]
    },
    {
     "name": "stdout",
     "output_type": "stream",
     "text": [
      "Evaluating...\n"
     ]
    },
    {
     "name": "stderr",
     "output_type": "stream",
     "text": [
      "Iteration: 100%|██████████| 392/392 [00:31<00:00, 12.45it/s]\n",
      "Iteration:  57%|█████▋    | 224/392 [00:10<00:08, 18.85it/s]"
     ]
    },
    {
     "name": "stdout",
     "output_type": "stream",
     "text": [
      "Evaluating...\n"
     ]
    },
    {
     "name": "stderr",
     "output_type": "stream",
     "text": [
      "Iteration: 100%|██████████| 392/392 [00:32<00:00, 12.23it/s]\n",
      "Iteration: 100%|██████████| 392/392 [00:18<00:00, 21.52it/s]\n",
      "Iteration:  83%|████████▎ | 326/392 [00:15<00:03, 21.57it/s]"
     ]
    },
    {
     "name": "stdout",
     "output_type": "stream",
     "text": [
      "Evaluating...\n"
     ]
    },
    {
     "name": "stderr",
     "output_type": "stream",
     "text": [
      "Iteration: 100%|██████████| 392/392 [00:18<00:00, 21.62it/s]\n",
      "Iteration: 100%|██████████| 392/392 [00:32<00:00, 12.16it/s]\n",
      "Iteration:  36%|███▌      | 141/392 [00:06<00:11, 22.19it/s]"
     ]
    },
    {
     "name": "stdout",
     "output_type": "stream",
     "text": [
      "Evaluating...\n"
     ]
    },
    {
     "name": "stderr",
     "output_type": "stream",
     "text": [
      "Iteration: 100%|██████████| 109/109 [00:05<00:00, 20.60it/s]\n",
      "Iteration: 100%|██████████| 44/44 [00:02<00:00, 21.47it/s]s]\n",
      "Iteration: 100%|██████████| 109/109 [00:04<00:00, 21.86it/s]\n",
      "Iteration:   1%|          | 2/392 [00:00<00:32, 11.91it/s]]"
     ]
    },
    {
     "name": "stdout",
     "output_type": "stream",
     "text": [
      "{'Train':  best_epoch_indx:77\n",
      " auc:0.9896784834590344 \n",
      " apur:0.9516246895215712 \n",
      " f1:0.8314324669422383 \n",
      " precision:0.7260185955098647 \n",
      " recall:0.9726568433844751 \n",
      ", 'Validation':  best_epoch_indx:77\n",
      " auc:0.9251765577458667 \n",
      " apur:0.7632802752232539 \n",
      " f1:0.6782407407407407 \n",
      " precision:0.5879598662207358 \n",
      " recall:0.8012762078395624 \n",
      ", 'Test':  best_epoch_indx:77\n",
      " auc:0.9276851135903383 \n",
      " apur:0.7643603263654211 \n",
      " f1:0.680006156687702 \n",
      " precision:0.5884389984017049 \n",
      " recall:0.8053226394458622 \n",
      "}\n",
      "=====Epoch 78\n",
      "Training...\n"
     ]
    },
    {
     "name": "stderr",
     "output_type": "stream",
     "text": [
      "Iteration: 100%|██████████| 392/392 [00:19<00:00, 20.31it/s]\n",
      "Iteration: 100%|██████████| 44/44 [00:02<00:00, 21.66it/s]]]\n",
      "Iteration:   9%|▊         | 34/392 [00:02<00:28, 12.65it/s]]"
     ]
    },
    {
     "name": "stdout",
     "output_type": "stream",
     "text": [
      "{'Train':  best_epoch_indx:76\n",
      " auc:0.9877922270745322 \n",
      " apur:0.9436863636584208 \n",
      " f1:0.8043732265064264 \n",
      " precision:0.684055502324426 \n",
      " recall:0.9760494202238088 \n",
      ", 'Validation':  best_epoch_indx:76\n",
      " auc:0.922965779435791 \n",
      " apur:0.7620295740590289 \n",
      " f1:0.6638454461821528 \n",
      " precision:0.5567901234567901 \n",
      " recall:0.8218678815489749 \n",
      ", 'Test':  best_epoch_indx:76\n",
      " auc:0.9225246085521767 \n",
      " apur:0.7576393309932319 \n",
      " f1:0.6649840397891768 \n",
      " precision:0.5608564988730278 \n",
      " recall:0.8165907019143117 \n",
      "}\n",
      "=====Epoch 77\n",
      "Training...\n"
     ]
    },
    {
     "name": "stderr",
     "output_type": "stream",
     "text": [
      "Iteration: 100%|██████████| 392/392 [00:17<00:00, 22.22it/s]\n",
      "Iteration: 100%|██████████| 109/109 [00:05<00:00, 20.54it/s]\n",
      "Iteration: 100%|██████████| 44/44 [00:02<00:00, 19.80it/s]s]\n",
      "Iteration:  81%|████████  | 316/392 [00:14<00:03, 21.48it/s]"
     ]
    },
    {
     "name": "stdout",
     "output_type": "stream",
     "text": [
      "{'Train':  best_epoch_indx:78\n",
      " auc:0.9908500563678683 \n",
      " apur:0.9564032446315212 \n",
      " f1:0.8397640965376162 \n",
      " precision:0.7363560033585222 \n",
      " recall:0.9769608587776596 \n",
      ", 'Validation':  best_epoch_indx:78\n",
      " auc:0.9289712016330358 \n",
      " apur:0.7734350774850599 \n",
      " f1:0.6787595084844938 \n",
      " precision:0.5932492328673713 \n",
      " recall:0.7930720145852325 \n",
      ", 'Test':  best_epoch_indx:78\n",
      " auc:0.9261889654900428 \n",
      " apur:0.7670551735146569 \n",
      " f1:0.6823896915267473 \n",
      " precision:0.5969394726055472 \n",
      " recall:0.7963908129784907 \n",
      "}\n",
      "=====Epoch 79\n",
      "Training...\n"
     ]
    },
    {
     "name": "stderr",
     "output_type": "stream",
     "text": [
      "Iteration: 100%|██████████| 109/109 [00:04<00:00, 21.96it/s]\n",
      "Iteration: 100%|██████████| 392/392 [00:18<00:00, 21.42it/s]\n",
      "Iteration: 100%|██████████| 44/44 [00:02<00:00, 20.48it/s]s]\n",
      "Iteration:  22%|██▏       | 24/109 [00:01<00:03, 21.94it/s]]"
     ]
    },
    {
     "name": "stdout",
     "output_type": "stream",
     "text": [
      "{'Train':  best_epoch_indx:77\n",
      " auc:0.989060086802389 \n",
      " apur:0.9484763108801801 \n",
      " f1:0.8323784722222223 \n",
      " precision:0.7283430177357487 \n",
      " recall:0.9710871436528432 \n",
      ", 'Validation':  best_epoch_indx:77\n",
      " auc:0.9228951191405586 \n",
      " apur:0.7652105081488756 \n",
      " f1:0.6812585499316005 \n",
      " precision:0.596305165925419 \n",
      " recall:0.7944393801276208 \n",
      ", 'Test':  best_epoch_indx:77\n",
      " auc:0.9227735467493372 \n",
      " apur:0.7647333831985601 \n",
      " f1:0.6684235002325222 \n",
      " precision:0.5814455231930961 \n",
      " recall:0.7860007291286912 \n",
      "}\n",
      "=====Epoch 78\n",
      "Training...\n"
     ]
    },
    {
     "name": "stderr",
     "output_type": "stream",
     "text": [
      "Iteration: 100%|██████████| 109/109 [00:05<00:00, 21.77it/s]\n",
      "Iteration: 100%|██████████| 44/44 [00:02<00:00, 21.65it/s]s]\n",
      "Iteration:   1%|          | 2/392 [00:00<00:33, 11.67it/s]s]"
     ]
    },
    {
     "name": "stdout",
     "output_type": "stream",
     "text": [
      "{'Train':  best_epoch_indx:75\n",
      " auc:0.9833993723290234 \n",
      " apur:0.9264082948350734 \n",
      " f1:0.803610200519392 \n",
      " precision:0.6932314811414301 \n",
      " recall:0.9557952301382349 \n",
      ", 'Validation':  best_epoch_indx:75\n",
      " auc:0.9195995143849204 \n",
      " apur:0.7454662896698746 \n",
      " f1:0.6664106011138853 \n",
      " precision:0.5758380351808828 \n",
      " recall:0.7907930720145853 \n",
      ", 'Test':  best_epoch_indx:75\n",
      " auc:0.919112970383308 \n",
      " apur:0.7477394588341983 \n",
      " f1:0.6617174345629879 \n",
      " precision:0.5703166226912929 \n",
      " recall:0.7880058330295298 \n",
      "}\n",
      "=====Epoch 76\n",
      "Training...\n"
     ]
    },
    {
     "name": "stderr",
     "output_type": "stream",
     "text": [
      "Iteration: 100%|██████████| 392/392 [00:31<00:00, 12.38it/s]\n",
      "Iteration:  89%|████████▉ | 349/392 [00:29<00:03, 12.47it/s]"
     ]
    },
    {
     "name": "stdout",
     "output_type": "stream",
     "text": [
      "Evaluating...\n"
     ]
    },
    {
     "name": "stderr",
     "output_type": "stream",
     "text": [
      "Iteration: 100%|██████████| 392/392 [00:32<00:00, 12.07it/s]\n",
      "Iteration:  56%|█████▌    | 220/392 [00:17<00:13, 12.68it/s]"
     ]
    },
    {
     "name": "stdout",
     "output_type": "stream",
     "text": [
      "Evaluating...\n"
     ]
    },
    {
     "name": "stderr",
     "output_type": "stream",
     "text": [
      "Iteration: 100%|██████████| 392/392 [00:31<00:00, 12.42it/s]\n",
      "Iteration:  45%|████▍     | 176/392 [00:08<00:10, 20.96it/s]"
     ]
    },
    {
     "name": "stdout",
     "output_type": "stream",
     "text": [
      "Evaluating...\n"
     ]
    },
    {
     "name": "stderr",
     "output_type": "stream",
     "text": [
      "Iteration: 100%|██████████| 392/392 [00:31<00:00, 12.57it/s]\n",
      "Iteration:  73%|███████▎  | 288/392 [00:13<00:04, 21.29it/s]"
     ]
    },
    {
     "name": "stdout",
     "output_type": "stream",
     "text": [
      "Evaluating...\n"
     ]
    },
    {
     "name": "stderr",
     "output_type": "stream",
     "text": [
      "Iteration: 100%|██████████| 392/392 [00:18<00:00, 21.46it/s]\n",
      "Iteration: 100%|██████████| 392/392 [00:18<00:00, 21.06it/s]\n",
      "Iteration: 100%|██████████| 392/392 [00:31<00:00, 12.55it/s]\n",
      "Iteration:  13%|█▎        | 14/109 [00:00<00:04, 20.34it/s]]"
     ]
    },
    {
     "name": "stdout",
     "output_type": "stream",
     "text": [
      "Evaluating...\n"
     ]
    },
    {
     "name": "stderr",
     "output_type": "stream",
     "text": [
      "Iteration: 100%|██████████| 109/109 [00:04<00:00, 21.97it/s]\n",
      "Iteration: 100%|██████████| 109/109 [00:05<00:00, 21.33it/s]\n",
      "Iteration: 100%|██████████| 392/392 [00:17<00:00, 22.07it/s]\n",
      "Iteration: 100%|██████████| 44/44 [00:02<00:00, 21.18it/s]s]\n",
      "Iteration:  77%|███████▋  | 302/392 [00:13<00:04, 21.51it/s]"
     ]
    },
    {
     "name": "stdout",
     "output_type": "stream",
     "text": [
      "{'Train':  best_epoch_indx:77\n",
      " auc:0.9913788336336882 \n",
      " apur:0.9589968916548905 \n",
      " f1:0.8465220446161953 \n",
      " precision:0.7473153711959682 \n",
      " recall:0.9761000556990227 \n",
      ", 'Validation':  best_epoch_indx:77\n",
      " auc:0.9252052294510553 \n",
      " apur:0.7714727614800196 \n",
      " f1:0.6848830351877334 \n",
      " precision:0.6023513139695712 \n",
      " recall:0.793621867881549 \n",
      ", 'Test':  best_epoch_indx:77\n",
      " auc:0.9255216261245358 \n",
      " apur:0.7645484544335269 \n",
      " f1:0.6787609918402916 \n",
      " precision:0.6001681143177361 \n",
      " recall:0.7810391978122151 \n",
      "}\n",
      "=====Epoch 78\n",
      "Training...\n"
     ]
    },
    {
     "name": "stderr",
     "output_type": "stream",
     "text": [
      "Iteration: 100%|██████████| 392/392 [00:18<00:00, 21.70it/s]\n",
      "Iteration: 100%|██████████| 109/109 [00:05<00:00, 21.20it/s]\n",
      "Iteration: 100%|██████████| 109/109 [00:04<00:00, 21.99it/s]\n",
      "Iteration: 100%|██████████| 392/392 [00:19<00:00, 20.60it/s]\n",
      "Iteration: 100%|██████████| 109/109 [00:04<00:00, 21.89it/s]\n",
      "Iteration: 100%|██████████| 44/44 [00:02<00:00, 21.84it/s]s]\n",
      "Iteration:  62%|██████▏   | 244/392 [00:20<00:12, 11.64it/s]"
     ]
    },
    {
     "name": "stdout",
     "output_type": "stream",
     "text": [
      "{'Train':  best_epoch_indx:76\n",
      " auc:0.9884035605498116 \n",
      " apur:0.9466594816686831 \n",
      " f1:0.8212388622344071 \n",
      " precision:0.7116448272021976 \n",
      " recall:0.9707326953263457 \n",
      ", 'Validation':  best_epoch_indx:76\n",
      " auc:0.922998169714416 \n",
      " apur:0.7666248720738137 \n",
      " f1:0.673704414587332 \n",
      " precision:0.5818965517241379 \n",
      " recall:0.7999088422971741 \n",
      ", 'Test':  best_epoch_indx:76\n",
      " auc:0.9250330268988352 \n",
      " apur:0.7672129105248875 \n",
      " f1:0.6777495574540138 \n",
      " precision:0.5865192487012122 \n",
      " recall:0.8025884068538097 \n",
      "}\n",
      "=====Epoch 77\n",
      "Training...\n"
     ]
    },
    {
     "name": "stderr",
     "output_type": "stream",
     "text": [
      "Iteration: 100%|██████████| 44/44 [00:02<00:00, 18.94it/s]]]\n",
      "Iteration:   0%|          | 0/392 [00:00<?, ?it/s]2.27it/s]]"
     ]
    },
    {
     "name": "stdout",
     "output_type": "stream",
     "text": [
      "{'Train':  best_epoch_indx:78\n",
      " auc:0.9929030554851485 \n",
      " apur:0.9655384889166712 \n",
      " f1:0.8547957273428035 \n",
      " precision:0.7563922669161209 \n",
      " recall:0.9826320320016203 \n",
      ", 'Validation':  best_epoch_indx:78\n",
      " auc:0.9276364523418887 \n",
      " apur:0.7721085214522742 \n",
      " f1:0.6809184481393508 \n",
      " precision:0.6018194541637508 \n",
      " recall:0.7839562443026435 \n",
      ", 'Test':  best_epoch_indx:78\n",
      " auc:0.9311224537393967 \n",
      " apur:0.7750111756348231 \n",
      " f1:0.6915446386395844 \n",
      " precision:0.6086474501108647 \n",
      " recall:0.8005833029529712 \n",
      "}\n",
      "=====Epoch 79\n",
      "Training...\n"
     ]
    },
    {
     "name": "stderr",
     "output_type": "stream",
     "text": [
      "Iteration: 100%|██████████| 392/392 [00:32<00:00, 11.97it/s]\n",
      "Iteration:   0%|          | 0/392 [00:00<?, ?it/s]"
     ]
    },
    {
     "name": "stdout",
     "output_type": "stream",
     "text": [
      "Evaluating...\n"
     ]
    },
    {
     "name": "stderr",
     "output_type": "stream",
     "text": [
      "Iteration: 100%|██████████| 44/44 [00:02<00:00, 19.62it/s]s]\n",
      "Iteration:  64%|██████▍   | 250/392 [00:20<00:11, 12.12it/s]"
     ]
    },
    {
     "name": "stdout",
     "output_type": "stream",
     "text": [
      "{'Train':  best_epoch_indx:79\n",
      " auc:0.9934173470505039 \n",
      " apur:0.9677006417047891 \n",
      " f1:0.8541726066454655 \n",
      " precision:0.7534241275245686 \n",
      " recall:0.986024608840954 \n",
      ", 'Validation':  best_epoch_indx:79\n",
      " auc:0.9309926331319865 \n",
      " apur:0.782166963002065 \n",
      " f1:0.6856363282011303 \n",
      " precision:0.5989104528430371 \n",
      " recall:0.8017319963536919 \n",
      ", 'Test':  best_epoch_indx:79\n",
      " auc:0.928779662364743 \n",
      " apur:0.7746646191629188 \n",
      " f1:0.6891796599545561 \n",
      " precision:0.6043699326645595 \n",
      " recall:0.8016769959897923 \n",
      "}\n",
      "=====Epoch 80\n",
      "Training...\n"
     ]
    },
    {
     "name": "stderr",
     "output_type": "stream",
     "text": [
      "Iteration: 100%|██████████| 44/44 [00:02<00:00, 21.45it/s]s]\n",
      "Iteration:  13%|█▎        | 51/392 [00:04<00:26, 12.71it/s]]"
     ]
    },
    {
     "name": "stdout",
     "output_type": "stream",
     "text": [
      "{'Train':  best_epoch_indx:78\n",
      " auc:0.9916971179573218 \n",
      " apur:0.9597339981525927 \n",
      " f1:0.8383303430535439 \n",
      " precision:0.7314046469523234 \n",
      " recall:0.9818724998734113 \n",
      ", 'Validation':  best_epoch_indx:78\n",
      " auc:0.926384806322393 \n",
      " apur:0.7791778941677348 \n",
      " f1:0.6799612778315586 \n",
      " precision:0.5910467855940761 \n",
      " recall:0.8003646308113036 \n",
      ", 'Test':  best_epoch_indx:78\n",
      " auc:0.9259851223921435 \n",
      " apur:0.7718353646891198 \n",
      " f1:0.6722290263319045 \n",
      " precision:0.5794404856162576 \n",
      " recall:0.8004010207801677 \n",
      "}\n",
      "=====Epoch 79\n",
      "Training...\n"
     ]
    },
    {
     "name": "stderr",
     "output_type": "stream",
     "text": [
      "Iteration: 100%|██████████| 392/392 [00:18<00:00, 21.37it/s]\n",
      "Iteration: 100%|██████████| 392/392 [00:31<00:00, 12.33it/s]\n",
      "Iteration:  24%|██▍       | 94/392 [00:07<00:23, 12.73it/s]"
     ]
    },
    {
     "name": "stdout",
     "output_type": "stream",
     "text": [
      "Evaluating...\n"
     ]
    },
    {
     "name": "stderr",
     "output_type": "stream",
     "text": [
      "Iteration: 100%|██████████| 109/109 [00:05<00:00, 21.07it/s]\n",
      "Iteration: 100%|██████████| 392/392 [00:32<00:00, 12.15it/s]\n",
      "Iteration:   0%|          | 0/392 [00:00<?, ?it/s]"
     ]
    },
    {
     "name": "stdout",
     "output_type": "stream",
     "text": [
      "Evaluating...\n"
     ]
    },
    {
     "name": "stderr",
     "output_type": "stream",
     "text": [
      "Iteration: 100%|██████████| 44/44 [00:02<00:00, 21.66it/s]s]\n",
      "Iteration:   2%|▏         | 9/392 [00:00<00:17, 21.86it/s]s]"
     ]
    },
    {
     "name": "stdout",
     "output_type": "stream",
     "text": [
      "{'Train':  best_epoch_indx:78\n",
      " auc:0.9934602388827951 \n",
      " apur:0.9678505028185275 \n",
      " f1:0.8614360226389968 \n",
      " precision:0.7668537105824705 \n",
      " recall:0.9826320320016203 \n",
      ", 'Validation':  best_epoch_indx:78\n",
      " auc:0.9256100690751842 \n",
      " apur:0.7709785549471796 \n",
      " f1:0.684931506849315 \n",
      " precision:0.6069669247009148 \n",
      " recall:0.785876993166287 \n",
      ", 'Test':  best_epoch_indx:78\n",
      " auc:0.926505320441477 \n",
      " apur:0.7675323874611528 \n",
      " f1:0.6834957660968206 \n",
      " precision:0.6082752737096545 \n",
      " recall:0.7799453053783044 \n",
      "}\n",
      "=====Epoch 79\n",
      "Training...\n"
     ]
    },
    {
     "name": "stderr",
     "output_type": "stream",
     "text": [
      "Iteration: 100%|██████████| 392/392 [00:19<00:00, 20.35it/s]\n",
      "Iteration: 100%|██████████| 392/392 [00:31<00:00, 12.57it/s]\n",
      "Iteration:  66%|██████▌   | 258/392 [00:12<00:06, 19.72it/s]"
     ]
    },
    {
     "name": "stdout",
     "output_type": "stream",
     "text": [
      "Evaluating...\n"
     ]
    },
    {
     "name": "stderr",
     "output_type": "stream",
     "text": [
      "Iteration: 100%|██████████| 392/392 [00:31<00:00, 12.62it/s]\n",
      "Iteration:  63%|██████▎   | 69/109 [00:03<00:01, 21.95it/s]"
     ]
    },
    {
     "name": "stdout",
     "output_type": "stream",
     "text": [
      "Evaluating...\n"
     ]
    },
    {
     "name": "stderr",
     "output_type": "stream",
     "text": [
      "Iteration: 100%|██████████| 109/109 [00:04<00:00, 21.81it/s]\n",
      "Iteration: 100%|██████████| 392/392 [00:19<00:00, 20.20it/s]\n",
      "Iteration: 100%|██████████| 44/44 [00:02<00:00, 21.77it/s]]]\n",
      "Iteration:  64%|██████▍   | 252/392 [00:20<00:11, 12.32it/s]"
     ]
    },
    {
     "name": "stdout",
     "output_type": "stream",
     "text": [
      "{'Train':  best_epoch_indx:77\n",
      " auc:0.9912070334373229 \n",
      " apur:0.9588733880973901 \n",
      " f1:0.8352323092556158 \n",
      " precision:0.7287956534862662 \n",
      " recall:0.9780748392323662 \n",
      ", 'Validation':  best_epoch_indx:77\n",
      " auc:0.9253829315696366 \n",
      " apur:0.7668620769741851 \n",
      " f1:0.6803484995159729 \n",
      " precision:0.5913833726018176 \n",
      " recall:0.800820419325433 \n",
      ", 'Test':  best_epoch_indx:77\n",
      " auc:0.9267303182233313 \n",
      " apur:0.770164290400013 \n",
      " f1:0.6840275094660383 \n",
      " precision:0.5936955063715628 \n",
      " recall:0.8067808968282902 \n",
      "}\n",
      "=====Epoch 78\n",
      "Training...\n"
     ]
    },
    {
     "name": "stderr",
     "output_type": "stream",
     "text": [
      "Iteration: 100%|██████████| 109/109 [00:05<00:00, 21.57it/s]\n",
      "Iteration: 100%|██████████| 392/392 [00:17<00:00, 22.31it/s]\n",
      "Iteration: 100%|██████████| 392/392 [00:31<00:00, 12.33it/s]\n",
      "Iteration:  86%|████████▋ | 339/392 [00:16<00:02, 21.90it/s]"
     ]
    },
    {
     "name": "stdout",
     "output_type": "stream",
     "text": [
      "Evaluating...\n"
     ]
    },
    {
     "name": "stderr",
     "output_type": "stream",
     "text": [
      "Iteration: 100%|██████████| 392/392 [00:18<00:00, 21.27it/s]\n",
      "Iteration: 100%|██████████| 109/109 [00:04<00:00, 22.38it/s]\n",
      "Iteration: 100%|██████████| 44/44 [00:02<00:00, 20.28it/s]]]\n",
      "Iteration:   0%|          | 0/392 [00:00<?, ?it/s]21.55it/s]"
     ]
    },
    {
     "name": "stdout",
     "output_type": "stream",
     "text": [
      "{'Train':  best_epoch_indx:80\n",
      " auc:0.9936068393399657 \n",
      " apur:0.9685633625216021 \n",
      " f1:0.8657375404169918 \n",
      " precision:0.7735097226649665 \n",
      " recall:0.982935844852904 \n",
      ", 'Validation':  best_epoch_indx:80\n",
      " auc:0.9288482666822162 \n",
      " apur:0.7777852272250082 \n",
      " f1:0.6789579158316633 \n",
      " precision:0.605865522174535 \n",
      " recall:0.772105742935278 \n",
      ", 'Test':  best_epoch_indx:80\n",
      " auc:0.9271468882086032 \n",
      " apur:0.7705228797934647 \n",
      " f1:0.6877552654760951 \n",
      " precision:0.6133409512926725 \n",
      " recall:0.7827196500182282 \n",
      "}\n",
      "=====Epoch 81\n",
      "Training...\n"
     ]
    },
    {
     "name": "stderr",
     "output_type": "stream",
     "text": [
      "Iteration: 100%|██████████| 109/109 [00:04<00:00, 22.48it/s]\n",
      "Iteration: 100%|██████████| 392/392 [00:18<00:00, 20.66it/s]\n",
      "Iteration: 100%|██████████| 392/392 [00:31<00:00, 12.51it/s]\n",
      "Iteration:  41%|████      | 160/392 [00:13<00:19, 12.16it/s]"
     ]
    },
    {
     "name": "stdout",
     "output_type": "stream",
     "text": [
      "Evaluating...\n"
     ]
    },
    {
     "name": "stderr",
     "output_type": "stream",
     "text": [
      "Iteration: 100%|██████████| 109/109 [00:05<00:00, 19.15it/s]\n",
      "Iteration: 100%|██████████| 44/44 [00:02<00:00, 20.81it/s]s]\n",
      "Iteration:  44%|████▍     | 173/392 [00:08<00:10, 21.71it/s]"
     ]
    },
    {
     "name": "stdout",
     "output_type": "stream",
     "text": [
      "{'Train':  best_epoch_indx:79\n",
      " auc:0.9945479748485815 \n",
      " apur:0.9727792795875047 \n",
      " f1:0.8696465557559965 \n",
      " precision:0.7762404580152672 \n",
      " recall:0.9886070180768647 \n",
      ", 'Validation':  best_epoch_indx:79\n",
      " auc:0.9282408702812885 \n",
      " apur:0.7749273295488387 \n",
      " f1:0.6850189507281069 \n",
      " precision:0.6090812344803122 \n",
      " recall:0.7825888787602553 \n",
      ", 'Test':  best_epoch_indx:79\n",
      " auc:0.9316204728780383 \n",
      " apur:0.7770737408119057 \n",
      " f1:0.6926627407289512 \n",
      " precision:0.6146892655367232 \n",
      " recall:0.7932920160408312 \n",
      "}\n",
      "=====Epoch 80\n",
      "Training...\n"
     ]
    },
    {
     "name": "stderr",
     "output_type": "stream",
     "text": [
      "Iteration: 100%|██████████| 392/392 [00:31<00:00, 12.33it/s]\n",
      "Iteration:   0%|          | 0/392 [00:00<?, ?it/s]"
     ]
    },
    {
     "name": "stdout",
     "output_type": "stream",
     "text": [
      "Evaluating...\n"
     ]
    },
    {
     "name": "stderr",
     "output_type": "stream",
     "text": [
      "Iteration: 100%|██████████| 392/392 [00:18<00:00, 20.80it/s]\n",
      "Iteration: 100%|██████████| 44/44 [00:02<00:00, 21.34it/s]s]\n",
      "Iteration:  72%|███████▏  | 79/109 [00:03<00:01, 20.35it/s]]"
     ]
    },
    {
     "name": "stdout",
     "output_type": "stream",
     "text": [
      "{'Train':  best_epoch_indx:79\n",
      " auc:0.9936170687911778 \n",
      " apur:0.9682953940417072 \n",
      " f1:0.8650829024781601 \n",
      " precision:0.7725590096724118 \n",
      " recall:0.9827839384272622 \n",
      ", 'Validation':  best_epoch_indx:79\n",
      " auc:0.927526962418108 \n",
      " apur:0.7803709221624572 \n",
      " f1:0.6934409687184662 \n",
      " precision:0.6222383194494748 \n",
      " recall:0.7830446672743847 \n",
      ", 'Test':  best_epoch_indx:79\n",
      " auc:0.9274828060125735 \n",
      " apur:0.7771438342585372 \n",
      " f1:0.683878187195268 \n",
      " precision:0.6089679715302491 \n",
      " recall:0.7798031352533722 \n",
      "}\n",
      "=====Epoch 80\n",
      "Training...\n"
     ]
    },
    {
     "name": "stderr",
     "output_type": "stream",
     "text": [
      "Iteration: 100%|██████████| 109/109 [00:05<00:00, 20.90it/s]\n",
      "Iteration: 100%|██████████| 44/44 [00:02<00:00, 19.71it/s]]]\n",
      "Iteration:  13%|█▎        | 52/392 [00:04<00:26, 12.64it/s]]"
     ]
    },
    {
     "name": "stdout",
     "output_type": "stream",
     "text": [
      "{'Train':  best_epoch_indx:78\n",
      " auc:0.9934850409831567 \n",
      " apur:0.9684731054574094 \n",
      " f1:0.8528495590751546 \n",
      " precision:0.7523706312652397 \n",
      " recall:0.9843030026836802 \n",
      ", 'Validation':  best_epoch_indx:78\n",
      " auc:0.9272878674676909 \n",
      " apur:0.7779632239045364 \n",
      " f1:0.6838608831574834 \n",
      " precision:0.5984952120383037 \n",
      " recall:0.7976298997265269 \n",
      ", 'Test':  best_epoch_indx:78\n",
      " auc:0.9287940061111509 \n",
      " apur:0.7731957326706711 \n",
      " f1:0.6884609411399285 \n",
      " precision:0.5997023809523809 \n",
      " recall:0.8080568720379147 \n",
      "}\n",
      "=====Epoch 79\n",
      "Training...\n"
     ]
    },
    {
     "name": "stderr",
     "output_type": "stream",
     "text": [
      "Iteration: 100%|██████████| 392/392 [00:19<00:00, 20.56it/s]\n",
      "Iteration: 100%|██████████| 392/392 [00:31<00:00, 12.44it/s]\n",
      "Iteration:   0%|          | 0/392 [00:00<?, ?it/s]"
     ]
    },
    {
     "name": "stdout",
     "output_type": "stream",
     "text": [
      "Evaluating...\n"
     ]
    },
    {
     "name": "stderr",
     "output_type": "stream",
     "text": [
      "Iteration: 100%|██████████| 44/44 [00:02<00:00, 20.91it/s]]]\n",
      "Iteration:  52%|█████▏    | 202/392 [00:16<00:15, 12.42it/s]"
     ]
    },
    {
     "name": "stdout",
     "output_type": "stream",
     "text": [
      "{'Train':  best_epoch_indx:79\n",
      " auc:0.9949353794253956 \n",
      " apur:0.9744635276996372 \n",
      " f1:0.8728980322003578 \n",
      " precision:0.78162668695687 \n",
      " recall:0.988303205225581 \n",
      ", 'Validation':  best_epoch_indx:79\n",
      " auc:0.9274777451430987 \n",
      " apur:0.775966085082351 \n",
      " f1:0.6928286852589641 \n",
      " precision:0.615575221238938 \n",
      " recall:0.7922551252847381 \n",
      ", 'Test':  best_epoch_indx:79\n",
      " auc:0.9285606614907709 \n",
      " apur:0.7740912099630197 \n",
      " f1:0.6914474213532866 \n",
      " precision:0.6188076036866359 \n",
      " recall:0.7834092980856883 \n",
      "}\n",
      "=====Epoch 80\n",
      "Training...\n"
     ]
    },
    {
     "name": "stderr",
     "output_type": "stream",
     "text": [
      "Iteration: 100%|██████████| 109/109 [00:05<00:00, 21.02it/s]\n",
      "Iteration: 100%|██████████| 44/44 [00:02<00:00, 20.25it/s]s]\n",
      "Iteration:   0%|          | 0/392 [00:00<?, ?it/s]12.83it/s]"
     ]
    },
    {
     "name": "stdout",
     "output_type": "stream",
     "text": [
      "{'Train':  best_epoch_indx:81\n",
      " auc:0.9923513326439961 \n",
      " apur:0.9634221807686056 \n",
      " f1:0.8474620731867266 \n",
      " precision:0.7456244951340539 \n",
      " recall:0.9815180515469137 \n",
      ", 'Validation':  best_epoch_indx:81\n",
      " auc:0.9292298663341977 \n",
      " apur:0.7747683860831885 \n",
      " f1:0.6700389105058366 \n",
      " precision:0.5845213849287169 \n",
      " recall:0.7848678213309025 \n",
      ", 'Test':  best_epoch_indx:81\n",
      " auc:0.926799891652212 \n",
      " apur:0.76874671013444 \n",
      " f1:0.6834391409985109 \n",
      " precision:0.5994775195930152 \n",
      " recall:0.7947502734232592 \n",
      "}\n",
      "=====Epoch 82\n",
      "Training...\n"
     ]
    },
    {
     "name": "stderr",
     "output_type": "stream",
     "text": [
      "Iteration: 100%|██████████| 392/392 [00:31<00:00, 12.53it/s]\n",
      "Iteration:  48%|████▊     | 188/392 [00:15<00:16, 12.55it/s]"
     ]
    },
    {
     "name": "stdout",
     "output_type": "stream",
     "text": [
      "Evaluating...\n"
     ]
    },
    {
     "name": "stderr",
     "output_type": "stream",
     "text": [
      "Iteration: 100%|██████████| 392/392 [00:17<00:00, 21.80it/s]\n",
      "Iteration: 100%|██████████| 392/392 [00:31<00:00, 12.33it/s]\n",
      "Iteration:   1%|          | 2/392 [00:00<00:21, 18.39it/s]]]"
     ]
    },
    {
     "name": "stdout",
     "output_type": "stream",
     "text": [
      "Evaluating...\n"
     ]
    },
    {
     "name": "stderr",
     "output_type": "stream",
     "text": [
      "Iteration: 100%|██████████| 109/109 [00:05<00:00, 19.77it/s]\n",
      "Iteration: 100%|██████████| 44/44 [00:02<00:00, 19.88it/s]s]\n",
      "Iteration:  85%|████████▍ | 332/392 [00:27<00:05, 11.98it/s]"
     ]
    },
    {
     "name": "stdout",
     "output_type": "stream",
     "text": [
      "{'Train':  best_epoch_indx:80\n",
      " auc:0.9942222718671603 \n",
      " apur:0.9717723235014152 \n",
      " f1:0.8608874081592127 \n",
      " precision:0.76284507703136 \n",
      " recall:0.9878474859486557 \n",
      ", 'Validation':  best_epoch_indx:80\n",
      " auc:0.9288872803332184 \n",
      " apur:0.7760642154054314 \n",
      " f1:0.6880189798339265 \n",
      " precision:0.6075418994413407 \n",
      " recall:0.7930720145852325 \n",
      ", 'Test':  best_epoch_indx:80\n",
      " auc:0.9310076238231813 \n",
      " apur:0.7752436742933968 \n",
      " f1:0.6881940615893518 \n",
      " precision:0.6058799056996256 \n",
      " recall:0.7963908129784907 \n",
      "}\n",
      "=====Epoch 81\n",
      "Training...\n"
     ]
    },
    {
     "name": "stderr",
     "output_type": "stream",
     "text": [
      "Iteration: 100%|██████████| 392/392 [00:31<00:00, 12.27it/s]\n",
      "Iteration:   0%|          | 0/392 [00:00<?, ?it/s]"
     ]
    },
    {
     "name": "stdout",
     "output_type": "stream",
     "text": [
      "Evaluating...\n"
     ]
    },
    {
     "name": "stderr",
     "output_type": "stream",
     "text": [
      "Iteration: 100%|██████████| 392/392 [00:19<00:00, 20.60it/s]\n",
      "Iteration: 100%|██████████| 392/392 [00:31<00:00, 12.49it/s]\n",
      "Iteration:   1%|          | 2/392 [00:00<00:19, 19.95it/s]s]"
     ]
    },
    {
     "name": "stdout",
     "output_type": "stream",
     "text": [
      "Evaluating...\n"
     ]
    },
    {
     "name": "stderr",
     "output_type": "stream",
     "text": [
      "Iteration: 100%|██████████| 392/392 [00:18<00:00, 21.24it/s]\n",
      "Iteration: 100%|██████████| 109/109 [00:05<00:00, 19.93it/s]\n",
      "Iteration: 100%|██████████| 44/44 [00:02<00:00, 20.08it/s]s]\n",
      "Iteration:  67%|██████▋   | 261/392 [00:12<00:06, 21.67it/s]"
     ]
    },
    {
     "name": "stdout",
     "output_type": "stream",
     "text": [
      "{'Train':  best_epoch_indx:80\n",
      " auc:0.9933944908347131 \n",
      " apur:0.9672077918119629 \n",
      " f1:0.859049723756906 \n",
      " precision:0.7621661895611936 \n",
      " recall:0.9841510962580384 \n",
      ", 'Validation':  best_epoch_indx:80\n",
      " auc:0.926898569960915 \n",
      " apur:0.7780649478885185 \n",
      " f1:0.6916964640444975 \n",
      " precision:0.6130281690140845 \n",
      " recall:0.7935278030993619 \n",
      ", 'Test':  best_epoch_indx:80\n",
      " auc:0.9263633881021016 \n",
      " apur:0.7741784861975711 \n",
      " f1:0.6789772727272728 \n",
      " precision:0.5986640690231004 \n",
      " recall:0.7841779074006562 \n",
      "}\n",
      "=====Epoch 81\n",
      "Training...\n"
     ]
    },
    {
     "name": "stderr",
     "output_type": "stream",
     "text": [
      "Iteration: 100%|██████████| 109/109 [00:05<00:00, 21.59it/s]\n",
      "Iteration: 100%|██████████| 392/392 [00:18<00:00, 21.59it/s]\n",
      "Iteration: 100%|██████████| 392/392 [00:18<00:00, 21.32it/s]\n",
      "Iteration: 100%|██████████| 109/109 [00:05<00:00, 20.14it/s]\n",
      "Iteration: 100%|██████████| 392/392 [00:31<00:00, 12.49it/s]\n",
      "Iteration:  16%|█▌        | 17/109 [00:00<00:04, 20.54it/s]]"
     ]
    },
    {
     "name": "stdout",
     "output_type": "stream",
     "text": [
      "Evaluating...\n"
     ]
    },
    {
     "name": "stderr",
     "output_type": "stream",
     "text": [
      "Iteration: 100%|██████████| 44/44 [00:02<00:00, 20.98it/s]s]\n",
      "Iteration:   1%|          | 2/392 [00:00<00:33, 11.56it/s]]]"
     ]
    },
    {
     "name": "stdout",
     "output_type": "stream",
     "text": [
      "{'Train':  best_epoch_indx:80\n",
      " auc:0.9940692149648254 \n",
      " apur:0.9705311006715431 \n",
      " f1:0.8652734548688304 \n",
      " precision:0.7712734334746938 \n",
      " recall:0.9853663476631728 \n",
      ", 'Validation':  best_epoch_indx:80\n",
      " auc:0.9250917955186676 \n",
      " apur:0.7697969943287916 \n",
      " f1:0.681113320079523 \n",
      " precision:0.6042328042328042 \n",
      " recall:0.7804100227790433 \n",
      ", 'Test':  best_epoch_indx:80\n",
      " auc:0.9255062105380453 \n",
      " apur:0.766555754867014 \n",
      " f1:0.6797469368142869 \n",
      " precision:0.606112539274493 \n",
      " recall:0.7737465815861441 \n",
      "}\n",
      "=====Epoch 81\n",
      "Training...\n"
     ]
    },
    {
     "name": "stderr",
     "output_type": "stream",
     "text": [
      "Iteration: 100%|██████████| 109/109 [00:05<00:00, 19.81it/s]\n",
      "Iteration: 100%|██████████| 44/44 [00:02<00:00, 19.46it/s]]]\n",
      "Iteration:   0%|          | 0/392 [00:00<?, ?it/s]1.93it/s]]"
     ]
    },
    {
     "name": "stdout",
     "output_type": "stream",
     "text": [
      "{'Train':  best_epoch_indx:82\n",
      " auc:0.9888912194824353 \n",
      " apur:0.948295419075924 \n",
      " f1:0.8265174343521309 \n",
      " precision:0.7188049867095953 \n",
      " recall:0.9722011241075498 \n",
      ", 'Validation':  best_epoch_indx:82\n",
      " auc:0.925820136161837 \n",
      " apur:0.7641494197455577 \n",
      " f1:0.6702269692923899 \n",
      " precision:0.5762545096753033 \n",
      " recall:0.800820419325433 \n",
      ", 'Test':  best_epoch_indx:82\n",
      " auc:0.9234731027314512 \n",
      " apur:0.7606434342320705 \n",
      " f1:0.6740297591655162 \n",
      " precision:0.581832627118644 \n",
      " recall:0.8009478672985783 \n",
      "}\n",
      "=====Epoch 83\n",
      "Training...\n"
     ]
    },
    {
     "name": "stderr",
     "output_type": "stream",
     "text": [
      "Iteration: 100%|██████████| 392/392 [00:31<00:00, 12.26it/s]\n",
      "Iteration:  31%|███       | 122/392 [00:09<00:21, 12.73it/s]"
     ]
    },
    {
     "name": "stdout",
     "output_type": "stream",
     "text": [
      "Evaluating...\n"
     ]
    },
    {
     "name": "stderr",
     "output_type": "stream",
     "text": [
      "Iteration: 100%|██████████| 392/392 [00:18<00:00, 21.72it/s]\n",
      "Iteration: 100%|██████████| 44/44 [00:02<00:00, 21.11it/s]s]\n",
      "Iteration:  55%|█████▌    | 60/109 [00:02<00:02, 22.10it/s]]"
     ]
    },
    {
     "name": "stdout",
     "output_type": "stream",
     "text": [
      "{'Train':  best_epoch_indx:79\n",
      " auc:0.9952978197903949 \n",
      " apur:0.9765256580409933 \n",
      " f1:0.877876345296528 \n",
      " precision:0.7903912426515305 \n",
      " recall:0.9871385892956606 \n",
      ", 'Validation':  best_epoch_indx:79\n",
      " auc:0.9295084573624842 \n",
      " apur:0.7828179680611543 \n",
      " f1:0.6959323399113975 \n",
      " precision:0.6233766233766234 \n",
      " recall:0.7876025524156791 \n",
      ", 'Test':  best_epoch_indx:79\n",
      " auc:0.9307555562505604 \n",
      " apur:0.781734615063863 \n",
      " f1:0.6999838527369611 \n",
      " precision:0.6282608695652174 \n",
      " recall:0.7901932191031718 \n",
      "}\n",
      "=====Epoch 80\n",
      "Training...\n"
     ]
    },
    {
     "name": "stderr",
     "output_type": "stream",
     "text": [
      "Iteration: 100%|██████████| 109/109 [00:04<00:00, 22.02it/s]\n",
      "Iteration: 100%|██████████| 44/44 [00:02<00:00, 19.26it/s]s]\n",
      "Iteration:  55%|█████▌    | 216/392 [00:09<00:07, 22.70it/s]"
     ]
    },
    {
     "name": "stdout",
     "output_type": "stream",
     "text": [
      "{'Train':  best_epoch_indx:81\n",
      " auc:0.9932078668145164 \n",
      " apur:0.9669587916539517 \n",
      " f1:0.8457400659378795 \n",
      " precision:0.7397457787896035 \n",
      " recall:0.9871892247708745 \n",
      ", 'Validation':  best_epoch_indx:81\n",
      " auc:0.9269775621166543 \n",
      " apur:0.7705164495678427 \n",
      " f1:0.6789909493549008 \n",
      " precision:0.5878626208736245 \n",
      " recall:0.8035551504102096 \n",
      ", 'Test':  best_epoch_indx:81\n",
      " auc:0.929092647546979 \n",
      " apur:0.7713552685781007 \n",
      " f1:0.6800988111780145 \n",
      " precision:0.589850026780932 \n",
      " recall:0.8029529711994167 \n",
      "}\n",
      "=====Epoch 82\n",
      "Training...\n"
     ]
    },
    {
     "name": "stderr",
     "output_type": "stream",
     "text": [
      "Iteration: 100%|██████████| 392/392 [00:32<00:00, 12.10it/s]\n",
      "Iteration:  90%|█████████ | 354/392 [00:15<00:01, 22.40it/s]"
     ]
    },
    {
     "name": "stdout",
     "output_type": "stream",
     "text": [
      "Evaluating...\n"
     ]
    },
    {
     "name": "stderr",
     "output_type": "stream",
     "text": [
      "Iteration: 100%|██████████| 392/392 [00:17<00:00, 22.32it/s]\n",
      "Iteration: 100%|██████████| 392/392 [00:31<00:00, 12.50it/s]\n",
      "Iteration:  54%|█████▍    | 212/392 [00:17<00:14, 12.44it/s]"
     ]
    },
    {
     "name": "stdout",
     "output_type": "stream",
     "text": [
      "Evaluating...\n"
     ]
    },
    {
     "name": "stderr",
     "output_type": "stream",
     "text": [
      "Iteration: 100%|██████████| 109/109 [00:04<00:00, 21.81it/s]\n",
      "Iteration: 100%|██████████| 44/44 [00:02<00:00, 19.99it/s]s]\n",
      "Iteration:  28%|██▊       | 108/392 [00:05<00:12, 22.39it/s]"
     ]
    },
    {
     "name": "stdout",
     "output_type": "stream",
     "text": [
      "{'Train':  best_epoch_indx:81\n",
      " auc:0.9922262450269552 \n",
      " apur:0.9627208227534518 \n",
      " f1:0.8506136453613691 \n",
      " precision:0.7519150756309056 \n",
      " recall:0.9791381842118588 \n",
      ", 'Validation':  best_epoch_indx:81\n",
      " auc:0.9237210339372619 \n",
      " apur:0.7707763362833168 \n",
      " f1:0.6824551016380501 \n",
      " precision:0.6018099547511312 \n",
      " recall:0.7880583409298085 \n",
      ", 'Test':  best_epoch_indx:81\n",
      " auc:0.9223837239737834 \n",
      " apur:0.7646830285131434 \n",
      " f1:0.6695352839931152 \n",
      " precision:0.5864857456140351 \n",
      " recall:0.7799854174261757 \n",
      "}\n",
      "=====Epoch 82\n",
      "Training...\n"
     ]
    },
    {
     "name": "stderr",
     "output_type": "stream",
     "text": [
      "Iteration: 100%|██████████| 392/392 [00:18<00:00, 20.73it/s]\n",
      "Iteration: 100%|██████████| 392/392 [00:31<00:00, 12.36it/s]\n",
      "Iteration:  31%|███       | 120/392 [00:09<00:22, 12.18it/s]"
     ]
    },
    {
     "name": "stdout",
     "output_type": "stream",
     "text": [
      "Evaluating...\n"
     ]
    },
    {
     "name": "stderr",
     "output_type": "stream",
     "text": [
      "Iteration: 100%|██████████| 392/392 [00:18<00:00, 21.40it/s]\n",
      "Iteration: 100%|██████████| 392/392 [00:31<00:00, 12.44it/s]\n",
      "Iteration:  46%|████▋     | 182/392 [00:14<00:16, 12.69it/s]"
     ]
    },
    {
     "name": "stdout",
     "output_type": "stream",
     "text": [
      "Evaluating...\n"
     ]
    },
    {
     "name": "stderr",
     "output_type": "stream",
     "text": [
      "Iteration: 100%|██████████| 109/109 [00:05<00:00, 19.23it/s]\n",
      "Iteration: 100%|██████████| 44/44 [00:02<00:00, 21.19it/s]]]\n",
      "Iteration:  16%|█▌        | 61/392 [00:03<00:17, 18.98it/s]]"
     ]
    },
    {
     "name": "stdout",
     "output_type": "stream",
     "text": [
      "{'Train':  best_epoch_indx:81\n",
      " auc:0.994231017613347 \n",
      " apur:0.9717277144998226 \n",
      " f1:0.8797942321261922 \n",
      " precision:0.7991233873635462 \n",
      " recall:0.9785811939845055 \n",
      ", 'Validation':  best_epoch_indx:81\n",
      " auc:0.9245536448146645 \n",
      " apur:0.7678681980666597 \n",
      " f1:0.6908420405654578 \n",
      " precision:0.6276991809381981 \n",
      " recall:0.7681093394077448 \n",
      ", 'Test':  best_epoch_indx:81\n",
      " auc:0.924534484865002 \n",
      " apur:0.7644738351222103 \n",
      " f1:0.682179529645578 \n",
      " precision:0.6249431042330451 \n",
      " recall:0.7509571558796718 \n",
      "}\n",
      "=====Epoch 82\n",
      "Training...\n"
     ]
    },
    {
     "name": "stderr",
     "output_type": "stream",
     "text": [
      "Iteration: 100%|██████████| 109/109 [00:04<00:00, 22.07it/s]\n",
      "Iteration: 100%|██████████| 44/44 [00:01<00:00, 22.04it/s]]]\n",
      "Iteration:  40%|███▉      | 156/392 [00:07<00:10, 21.82it/s]"
     ]
    },
    {
     "name": "stdout",
     "output_type": "stream",
     "text": [
      "{'Train':  best_epoch_indx:83\n",
      " auc:0.9875013625885505 \n",
      " apur:0.9426415293004822 \n",
      " f1:0.8324997806440293 \n",
      " precision:0.7343937458879988 \n",
      " recall:0.9608587776596283 \n",
      ", 'Validation':  best_epoch_indx:83\n",
      " auc:0.925624564504877 \n",
      " apur:0.7678619622195594 \n",
      " f1:0.6733608978145305 \n",
      " precision:0.5927209705372617 \n",
      " recall:0.7793983591613491 \n",
      ", 'Test':  best_epoch_indx:83\n",
      " auc:0.9229539821107487 \n",
      " apur:0.7559685591304925 \n",
      " f1:0.6791050675942762 \n",
      " precision:0.5996091023314254 \n",
      " recall:0.7829019321910318 \n",
      "}\n",
      "=====Epoch 84\n",
      "Training...\n"
     ]
    },
    {
     "name": "stderr",
     "output_type": "stream",
     "text": [
      "Iteration: 100%|██████████| 392/392 [00:19<00:00, 20.49it/s]\n",
      "Iteration: 100%|██████████| 392/392 [00:31<00:00, 12.52it/s]\n",
      "Iteration:  30%|██▉       | 116/392 [00:09<00:21, 12.55it/s]"
     ]
    },
    {
     "name": "stdout",
     "output_type": "stream",
     "text": [
      "Evaluating...\n"
     ]
    },
    {
     "name": "stderr",
     "output_type": "stream",
     "text": [
      "Iteration: 100%|██████████| 392/392 [00:19<00:00, 20.41it/s]\n",
      "Iteration: 100%|██████████| 109/109 [00:05<00:00, 20.82it/s]\n",
      "Iteration: 100%|██████████| 44/44 [00:02<00:00, 19.32it/s]s]\n",
      "Iteration:  66%|██████▌   | 72/109 [00:03<00:01, 22.10it/s]]"
     ]
    },
    {
     "name": "stdout",
     "output_type": "stream",
     "text": [
      "{'Train':  best_epoch_indx:80\n",
      " auc:0.9951049838897512 \n",
      " apur:0.9756165401382951 \n",
      " f1:0.8831929529820419 \n",
      " precision:0.8005185611984525 \n",
      " recall:0.9849106283862474 \n",
      ", 'Validation':  best_epoch_indx:80\n",
      " auc:0.9296514654659972 \n",
      " apur:0.7832389729021108 \n",
      " f1:0.7001223990208079 \n",
      " precision:0.6336779911373708 \n",
      " recall:0.7821330902461258 \n",
      ", 'Test':  best_epoch_indx:80\n",
      " auc:0.9291632885851627 \n",
      " apur:0.7803139718953224 \n",
      " f1:0.6956521739130435 \n",
      " precision:0.6314850602051435 \n",
      " recall:0.7743346700692673 \n",
      "}\n",
      "=====Epoch 81\n",
      "Training...\n"
     ]
    },
    {
     "name": "stderr",
     "output_type": "stream",
     "text": [
      "Iteration: 100%|██████████| 109/109 [00:04<00:00, 21.96it/s]\n",
      "Iteration: 100%|██████████| 44/44 [00:02<00:00, 19.47it/s]s]\n",
      "Iteration:  78%|███████▊  | 306/392 [00:25<00:06, 12.42it/s]"
     ]
    },
    {
     "name": "stdout",
     "output_type": "stream",
     "text": [
      "{'Train':  best_epoch_indx:82\n",
      " auc:0.991429792785667 \n",
      " apur:0.9593784418667137 \n",
      " f1:0.8434839554682383 \n",
      " precision:0.741337630942788 \n",
      " recall:0.9782773811332219 \n",
      ", 'Validation':  best_epoch_indx:82\n",
      " auc:0.9253984950798753 \n",
      " apur:0.760887397382464 \n",
      " f1:0.6756021756021756 \n",
      " precision:0.5886932972241029 \n",
      " recall:0.792616226071103 \n",
      ", 'Test':  best_epoch_indx:82\n",
      " auc:0.9261692533231177 \n",
      " apur:0.7616637021060026 \n",
      " f1:0.6778158058494088 \n",
      " precision:0.591180461329715 \n",
      " recall:0.7942034269048487 \n",
      "}\n",
      "=====Epoch 83\n",
      "Training...\n"
     ]
    },
    {
     "name": "stderr",
     "output_type": "stream",
     "text": [
      "Iteration: 100%|██████████| 392/392 [00:18<00:00, 21.59it/s]\n",
      "Iteration: 100%|██████████| 392/392 [00:32<00:00, 12.20it/s]\n",
      "Iteration:   0%|          | 0/392 [00:00<?, ?it/s]"
     ]
    },
    {
     "name": "stdout",
     "output_type": "stream",
     "text": [
      "Evaluating...\n"
     ]
    },
    {
     "name": "stderr",
     "output_type": "stream",
     "text": [
      "Iteration: 100%|██████████| 392/392 [00:31<00:00, 12.45it/s]\n",
      "Iteration:   0%|          | 0/392 [00:00<?, ?it/s]"
     ]
    },
    {
     "name": "stdout",
     "output_type": "stream",
     "text": [
      "Evaluating...\n"
     ]
    },
    {
     "name": "stderr",
     "output_type": "stream",
     "text": [
      "Iteration: 100%|██████████| 109/109 [00:05<00:00, 19.54it/s]\n",
      "Iteration: 100%|██████████| 44/44 [00:02<00:00, 21.17it/s]s]\n",
      "Iteration:   0%|          | 0/392 [00:00<?, ?it/s]21.31it/s]"
     ]
    },
    {
     "name": "stdout",
     "output_type": "stream",
     "text": [
      "{'Train':  best_epoch_indx:82\n",
      " auc:0.989994988277543 \n",
      " apur:0.9528503781225759 \n",
      " f1:0.8196256140945282 \n",
      " precision:0.704385805277525 \n",
      " recall:0.9799483518152818 \n",
      ", 'Validation':  best_epoch_indx:82\n",
      " auc:0.9204621355736957 \n",
      " apur:0.7588826186125596 \n",
      " f1:0.6642667677150436 \n",
      " precision:0.5684176394293126 \n",
      " recall:0.7989972652689152 \n",
      ", 'Test':  best_epoch_indx:82\n",
      " auc:0.9190642823854214 \n",
      " apur:0.7509429989803721 \n",
      " f1:0.6553007742703991 \n",
      " precision:0.5538635791593255 \n",
      " recall:0.8022238425082027 \n",
      "}\n",
      "=====Epoch 83\n",
      "Training...\n"
     ]
    },
    {
     "name": "stderr",
     "output_type": "stream",
     "text": [
      "Iteration: 100%|██████████| 392/392 [00:18<00:00, 20.94it/s]\n",
      "Iteration: 100%|██████████| 392/392 [00:31<00:00, 12.33it/s]\n",
      "Iteration:  86%|████████▌ | 337/392 [00:27<00:04, 12.57it/s]"
     ]
    },
    {
     "name": "stdout",
     "output_type": "stream",
     "text": [
      "Evaluating...\n"
     ]
    },
    {
     "name": "stderr",
     "output_type": "stream",
     "text": [
      "Iteration: 100%|██████████| 392/392 [00:18<00:00, 21.31it/s]\n",
      "Iteration: 100%|██████████| 392/392 [00:31<00:00, 12.37it/s]\n",
      "Iteration:  51%|█████     | 198/392 [00:15<00:15, 12.69it/s]"
     ]
    },
    {
     "name": "stdout",
     "output_type": "stream",
     "text": [
      "Evaluating...\n"
     ]
    },
    {
     "name": "stderr",
     "output_type": "stream",
     "text": [
      "Iteration: 100%|██████████| 109/109 [00:05<00:00, 19.65it/s]\n",
      "Iteration: 100%|██████████| 44/44 [00:02<00:00, 21.51it/s]]]\n",
      "Iteration:  44%|████▍     | 174/392 [00:08<00:10, 21.53it/s]"
     ]
    },
    {
     "name": "stdout",
     "output_type": "stream",
     "text": [
      "{'Train':  best_epoch_indx:82\n",
      " auc:0.9911089151774566 \n",
      " apur:0.9578577862885205 \n",
      " f1:0.8248896809232859 \n",
      " precision:0.7098623434476211 \n",
      " recall:0.9844042736341081 \n",
      ", 'Validation':  best_epoch_indx:82\n",
      " auc:0.9232591351008619 \n",
      " apur:0.7679801967600883 \n",
      " f1:0.6660409235967713 \n",
      " precision:0.566411238825032 \n",
      " recall:0.8082004555808656 \n",
      ", 'Test':  best_epoch_indx:82\n",
      " auc:0.9222433420642455 \n",
      " apur:0.7587906074092706 \n",
      " f1:0.6619728859261479 \n",
      " precision:0.5617848970251716 \n",
      " recall:0.8056517775752051 \n",
      "}\n",
      "=====Epoch 83\n",
      "Training...\n"
     ]
    },
    {
     "name": "stderr",
     "output_type": "stream",
     "text": [
      "Iteration: 100%|██████████| 109/109 [00:04<00:00, 22.66it/s]\n",
      "Iteration: 100%|██████████| 44/44 [00:02<00:00, 20.55it/s]]]\n",
      "Iteration:  60%|██████    | 237/392 [00:10<00:07, 21.94it/s]"
     ]
    },
    {
     "name": "stdout",
     "output_type": "stream",
     "text": [
      "{'Train':  best_epoch_indx:84\n",
      " auc:0.9838642145499131 \n",
      " apur:0.9276442618679563 \n",
      " f1:0.8024955966300957 \n",
      " precision:0.6907284284357419 \n",
      " recall:0.9574155653450808 \n",
      ", 'Validation':  best_epoch_indx:84\n",
      " auc:0.9222707958491153 \n",
      " apur:0.7557854150130207 \n",
      " f1:0.6613876319758673 \n",
      " precision:0.5639871382636656 \n",
      " recall:0.7994530537830447 \n",
      ", 'Test':  best_epoch_indx:84\n",
      " auc:0.9200402291969959 \n",
      " apur:0.7529223722895704 \n",
      " f1:0.6611757594075865 \n",
      " precision:0.5646618482188952 \n",
      " recall:0.7974845060153117 \n",
      "}\n",
      "=====Epoch 85\n",
      "Training...\n"
     ]
    },
    {
     "name": "stderr",
     "output_type": "stream",
     "text": [
      "Iteration: 100%|██████████| 392/392 [00:18<00:00, 21.34it/s]\n",
      "Iteration: 100%|██████████| 392/392 [00:31<00:00, 12.59it/s]\n",
      "Iteration:  30%|██▉       | 116/392 [00:09<00:22, 12.54it/s]"
     ]
    },
    {
     "name": "stdout",
     "output_type": "stream",
     "text": [
      "Evaluating...\n"
     ]
    },
    {
     "name": "stderr",
     "output_type": "stream",
     "text": [
      "Iteration: 100%|██████████| 392/392 [00:18<00:00, 21.02it/s]\n",
      "Iteration: 100%|██████████| 109/109 [00:05<00:00, 21.32it/s]\n",
      "Iteration: 100%|██████████| 44/44 [00:02<00:00, 18.60it/s]s]\n",
      "Iteration:  66%|██████▌   | 72/109 [00:03<00:01, 21.84it/s]]"
     ]
    },
    {
     "name": "stdout",
     "output_type": "stream",
     "text": [
      "{'Train':  best_epoch_indx:81\n",
      " auc:0.9942720286911346 \n",
      " apur:0.972104730022181 \n",
      " f1:0.8755904088227981 \n",
      " precision:0.7906938775510204 \n",
      " recall:0.9809104258443465 \n",
      ", 'Validation':  best_epoch_indx:81\n",
      " auc:0.9278953058187812 \n",
      " apur:0.7756729535634961 \n",
      " f1:0.6879967393519462 \n",
      " precision:0.6221894581643936 \n",
      " recall:0.7693710118505014 \n",
      ", 'Test':  best_epoch_indx:81\n",
      " auc:0.9268640499823624 \n",
      " apur:0.7715743403282872 \n",
      " f1:0.6868571428571429 \n",
      " precision:0.6219692489651094 \n",
      " recall:0.7668611009843237 \n",
      "}\n",
      "=====Epoch 82\n",
      "Training...\n"
     ]
    },
    {
     "name": "stderr",
     "output_type": "stream",
     "text": [
      "Iteration: 100%|██████████| 109/109 [00:05<00:00, 21.67it/s]\n",
      "Iteration: 100%|██████████| 44/44 [00:02<00:00, 19.29it/s]s]\n",
      "Iteration:  76%|███████▌  | 298/392 [00:24<00:07, 12.05it/s]"
     ]
    },
    {
     "name": "stdout",
     "output_type": "stream",
     "text": [
      "{'Train':  best_epoch_indx:83\n",
      " auc:0.9891590814259739 \n",
      " apur:0.9505133494055363 \n",
      " f1:0.8486559139784946 \n",
      " precision:0.7609979510666506 \n",
      " recall:0.9591371715023546 \n",
      ", 'Validation':  best_epoch_indx:83\n",
      " auc:0.9233359104716415 \n",
      " apur:0.7510672048930612 \n",
      " f1:0.6773611389612995 \n",
      " precision:0.6047261009667024 \n",
      " recall:0.7698268003646308 \n",
      ", 'Test':  best_epoch_indx:83\n",
      " auc:0.9246894112185813 \n",
      " apur:0.7554122220948198 \n",
      " f1:0.6822640295867504 \n",
      " precision:0.6103279631760644 \n",
      " recall:0.7734232592052497 \n",
      "}\n",
      "=====Epoch 84\n",
      "Training...\n"
     ]
    },
    {
     "name": "stderr",
     "output_type": "stream",
     "text": [
      "Iteration: 100%|██████████| 392/392 [00:17<00:00, 21.97it/s]\n",
      "Iteration: 100%|██████████| 392/392 [00:32<00:00, 12.23it/s]\n",
      "Iteration:  93%|█████████▎| 364/392 [00:29<00:02, 12.68it/s]"
     ]
    },
    {
     "name": "stdout",
     "output_type": "stream",
     "text": [
      "Evaluating...\n"
     ]
    },
    {
     "name": "stderr",
     "output_type": "stream",
     "text": [
      "Iteration: 100%|██████████| 392/392 [00:31<00:00, 12.45it/s]\n",
      "Iteration:   0%|          | 0/392 [00:00<?, ?it/s]"
     ]
    },
    {
     "name": "stdout",
     "output_type": "stream",
     "text": [
      "Evaluating...\n"
     ]
    },
    {
     "name": "stderr",
     "output_type": "stream",
     "text": [
      "Iteration: 100%|██████████| 109/109 [00:04<00:00, 22.55it/s]\n",
      "Iteration: 100%|██████████| 44/44 [00:01<00:00, 22.37it/s]]]\n",
      "Iteration:  45%|████▍     | 176/392 [00:14<00:17, 12.15it/s]"
     ]
    },
    {
     "name": "stdout",
     "output_type": "stream",
     "text": [
      "{'Train':  best_epoch_indx:83\n",
      " auc:0.9873054277305391 \n",
      " apur:0.9430730601727861 \n",
      " f1:0.7925163781241658 \n",
      " precision:0.6666321171918187 \n",
      " recall:0.9770114942528736 \n",
      ", 'Validation':  best_epoch_indx:83\n",
      " auc:0.9202175661270896 \n",
      " apur:0.7577369855234051 \n",
      " f1:0.6554621848739496 \n",
      " precision:0.5469512195121952 \n",
      " recall:0.8176845943482224 \n",
      ", 'Test':  best_epoch_indx:83\n",
      " auc:0.9193614204479256 \n",
      " apur:0.7510625776617614 \n",
      " f1:0.6439388502117276 \n",
      " precision:0.5310761217000118 \n",
      " recall:0.8177178271965002 \n",
      "}\n",
      "=====Epoch 84\n",
      "Training...\n"
     ]
    },
    {
     "name": "stderr",
     "output_type": "stream",
     "text": [
      "Iteration: 100%|██████████| 392/392 [00:31<00:00, 12.41it/s]\n",
      "Iteration:  85%|████████▌ | 334/392 [00:27<00:04, 12.32it/s]"
     ]
    },
    {
     "name": "stdout",
     "output_type": "stream",
     "text": [
      "Evaluating...\n"
     ]
    },
    {
     "name": "stderr",
     "output_type": "stream",
     "text": [
      "Iteration: 100%|██████████| 392/392 [00:19<00:00, 20.11it/s]\n",
      "Iteration: 100%|██████████| 392/392 [00:17<00:00, 21.83it/s]\n",
      "Iteration: 100%|██████████| 392/392 [00:31<00:00, 12.32it/s]\n",
      "Iteration:  69%|██████▉   | 75/109 [00:03<00:01, 21.80it/s]"
     ]
    },
    {
     "name": "stdout",
     "output_type": "stream",
     "text": [
      "Evaluating...\n"
     ]
    },
    {
     "name": "stderr",
     "output_type": "stream",
     "text": [
      "Iteration: 100%|██████████| 109/109 [00:05<00:00, 21.72it/s]\n",
      "Iteration: 100%|██████████| 109/109 [00:05<00:00, 21.18it/s]\n",
      "Iteration: 100%|██████████| 44/44 [00:02<00:00, 19.45it/s]s]\n",
      "Iteration:  70%|███████   | 276/392 [00:22<00:09, 12.49it/s]"
     ]
    },
    {
     "name": "stdout",
     "output_type": "stream",
     "text": [
      "{'Train':  best_epoch_indx:83\n",
      " auc:0.9892869565349429 \n",
      " apur:0.9502579630111261 \n",
      " f1:0.8236982457643456 \n",
      " precision:0.7137872150864949 \n",
      " recall:0.9736189174135399 \n",
      ", 'Validation':  best_epoch_indx:83\n",
      " auc:0.9218673783300511 \n",
      " apur:0.7570629365604891 \n",
      " f1:0.6689419795221843 \n",
      " precision:0.5729132835336148 \n",
      " recall:0.8036446469248292 \n",
      ", 'Test':  best_epoch_indx:83\n",
      " auc:0.9196663144766218 \n",
      " apur:0.7479054367562582 \n",
      " f1:0.6640237859266601 \n",
      " precision:0.5706236897274634 \n",
      " recall:0.7939835916134913 \n",
      "}\n",
      "=====Epoch 84\n",
      "Training...\n"
     ]
    },
    {
     "name": "stderr",
     "output_type": "stream",
     "text": [
      "Iteration: 100%|██████████| 44/44 [00:02<00:00, 21.03it/s]]]\n",
      "Iteration:  54%|█████▍    | 213/392 [00:10<00:08, 21.51it/s]"
     ]
    },
    {
     "name": "stdout",
     "output_type": "stream",
     "text": [
      "{'Train':  best_epoch_indx:85\n",
      " auc:0.9866976415905183 \n",
      " apur:0.9399492169988913 \n",
      " f1:0.8085618898702616 \n",
      " precision:0.6938028066867317 \n",
      " recall:0.9688085472682161 \n",
      ", 'Validation':  best_epoch_indx:85\n",
      " auc:0.9233389308833322 \n",
      " apur:0.7614320873287629 \n",
      " f1:0.664904663016802 \n",
      " precision:0.5675153077666774 \n",
      " recall:0.8026435733819508 \n",
      ", 'Test':  best_epoch_indx:85\n",
      " auc:0.9205132910006998 \n",
      " apur:0.7533839137901728 \n",
      " f1:0.6628320593355029 \n",
      " precision:0.5667141193218584 \n",
      " recall:0.7982136347065257 \n",
      "}\n",
      "=====Epoch 86\n",
      "Training...\n"
     ]
    },
    {
     "name": "stderr",
     "output_type": "stream",
     "text": [
      "Iteration: 100%|██████████| 392/392 [00:31<00:00, 12.55it/s]\n",
      "Iteration:   0%|          | 0/392 [00:00<?, ?it/s]"
     ]
    },
    {
     "name": "stdout",
     "output_type": "stream",
     "text": [
      "Evaluating...\n"
     ]
    },
    {
     "name": "stderr",
     "output_type": "stream",
     "text": [
      "Iteration: 100%|██████████| 392/392 [00:18<00:00, 20.94it/s]\n",
      "Iteration: 100%|██████████| 392/392 [00:18<00:00, 21.43it/s]\n",
      "Iteration: 100%|██████████| 109/109 [00:04<00:00, 22.02it/s]\n",
      "Iteration: 100%|██████████| 44/44 [00:02<00:00, 19.49it/s]s]\n",
      "Iteration:   1%|          | 2/392 [00:00<00:35, 10.91it/s]s]"
     ]
    },
    {
     "name": "stdout",
     "output_type": "stream",
     "text": [
      "{'Train':  best_epoch_indx:82\n",
      " auc:0.9924473583958152 \n",
      " apur:0.9646587755791488 \n",
      " f1:0.8719761052463576 \n",
      " precision:0.7931148900871008 \n",
      " recall:0.9682515570408629 \n",
      ", 'Validation':  best_epoch_indx:82\n",
      " auc:0.9240932157777917 \n",
      " apur:0.7637212380045039 \n",
      " f1:0.6805441055234954 \n",
      " precision:0.6211437170805116 \n",
      " recall:0.7525068368277119 \n",
      ", 'Test':  best_epoch_indx:82\n",
      " auc:0.92583505168062 \n",
      " apur:0.7673224956828926 \n",
      " f1:0.6869240348692404 \n",
      " precision:0.6307363927427961 \n",
      " recall:0.7541013488880788 \n",
      "}\n",
      "=====Epoch 83\n",
      "Training...\n"
     ]
    },
    {
     "name": "stderr",
     "output_type": "stream",
     "text": [
      "Iteration: 100%|██████████| 109/109 [00:05<00:00, 19.72it/s]\n",
      "Iteration: 100%|██████████| 44/44 [00:02<00:00, 21.46it/s]s]\n",
      "Iteration:   0%|          | 0/392 [00:00<?, ?it/s]22.20it/s]"
     ]
    },
    {
     "name": "stdout",
     "output_type": "stream",
     "text": [
      "{'Train':  best_epoch_indx:84\n",
      " auc:0.9877172099349154 \n",
      " apur:0.9432799034154749 \n",
      " f1:0.8052576674316712 \n",
      " precision:0.6847876228664703 \n",
      " recall:0.9771634006785154 \n",
      ", 'Validation':  best_epoch_indx:84\n",
      " auc:0.9237083859633077 \n",
      " apur:0.7534560852745484 \n",
      " f1:0.6607994132746607 \n",
      " precision:0.552760736196319 \n",
      " recall:0.821330902461258 \n",
      ", 'Test':  best_epoch_indx:84\n",
      " auc:0.923557203278832 \n",
      " apur:0.7524089261845901 \n",
      " f1:0.6612653752669956 \n",
      " precision:0.5548139908540354 \n",
      " recall:0.8182646737149106 \n",
      "}\n",
      "=====Epoch 85\n",
      "Training...\n"
     ]
    },
    {
     "name": "stderr",
     "output_type": "stream",
     "text": [
      "Iteration: 100%|██████████| 392/392 [00:19<00:00, 20.13it/s]\n",
      "Iteration: 100%|██████████| 392/392 [00:32<00:00, 12.19it/s]\n",
      "Iteration:  99%|█████████▉| 390/392 [00:31<00:00, 12.49it/s]"
     ]
    },
    {
     "name": "stdout",
     "output_type": "stream",
     "text": [
      "Evaluating...\n"
     ]
    },
    {
     "name": "stderr",
     "output_type": "stream",
     "text": [
      "\r",
      "Iteration:  45%|████▍     | 49/109 [00:02<00:03, 19.66it/s]\r",
      "Iteration:   1%|▏         | 5/392 [00:00<00:18, 20.80it/s]\r",
      "Iteration:  44%|████▍     | 172/392 [00:14<00:18, 12.20it/s]\r",
      "Iteration: 100%|██████████| 392/392 [00:31<00:00, 12.66it/s]\r",
      "Iteration: 100%|██████████| 392/392 [00:31<00:00, 12.46it/s]\n",
      "\r",
      "Iteration:  29%|██▉       | 114/392 [00:09<00:22, 12.36it/s]\r",
      "Iteration:   0%|          | 0/392 [00:00<?, ?it/s]\r",
      "Iteration:  48%|████▊     | 52/109 [00:02<00:02, 20.40it/s]\r",
      "Iteration:   2%|▏         | 8/392 [00:00<00:18, 20.93it/s]\r",
      "Iteration:   1%|          | 2/392 [00:00<00:26, 14.98it/s]"
     ]
    },
    {
     "name": "stdout",
     "output_type": "stream",
     "text": [
      "Evaluating...\n"
     ]
    },
    {
     "name": "stderr",
     "output_type": "stream",
     "text": [
      "Iteration: 100%|██████████| 109/109 [00:05<00:00, 21.20it/s]\n",
      "Iteration: 100%|██████████| 44/44 [00:02<00:00, 18.87it/s]s]\n",
      "Iteration:  47%|████▋     | 184/392 [00:14<00:16, 12.61it/s]"
     ]
    },
    {
     "name": "stdout",
     "output_type": "stream",
     "text": [
      "{'Train':  best_epoch_indx:84\n",
      " auc:0.982338231740316 \n",
      " apur:0.9214164486094865 \n",
      " f1:0.8079321580389702 \n",
      " precision:0.7039557794991351 \n",
      " recall:0.9479467314800749 \n",
      ", 'Validation':  best_epoch_indx:84\n",
      " auc:0.9161417932268107 \n",
      " apur:0.7414564849665448 \n",
      " f1:0.6623856781474995 \n",
      " precision:0.5779286926994907 \n",
      " recall:0.7757520510483136 \n",
      ", 'Test':  best_epoch_indx:84\n",
      " auc:0.9158865692132658 \n",
      " apur:0.7414333520229535 \n",
      " f1:0.6579069407945586 \n",
      " precision:0.5711218464841653 \n",
      " recall:0.7757929274516953 \n",
      "}\n",
      "=====Epoch 85\n",
      "Training...\n"
     ]
    },
    {
     "name": "stderr",
     "output_type": "stream",
     "text": [
      "Iteration: 100%|██████████| 392/392 [00:32<00:00, 12.14it/s]\n",
      "Iteration:   1%|          | 2/392 [00:00<00:20, 18.63it/s]s]"
     ]
    },
    {
     "name": "stdout",
     "output_type": "stream",
     "text": [
      "Evaluating...\n"
     ]
    },
    {
     "name": "stderr",
     "output_type": "stream",
     "text": [
      "Iteration: 100%|██████████| 392/392 [00:18<00:00, 20.93it/s]\n",
      "Iteration: 100%|██████████| 392/392 [00:19<00:00, 20.42it/s]\n",
      "Iteration: 100%|██████████| 392/392 [00:31<00:00, 12.34it/s]\n",
      "Iteration:  23%|██▎       | 92/392 [00:04<00:13, 21.64it/s]"
     ]
    },
    {
     "name": "stdout",
     "output_type": "stream",
     "text": [
      "Evaluating...\n"
     ]
    },
    {
     "name": "stderr",
     "output_type": "stream",
     "text": [
      "Iteration: 100%|██████████| 109/109 [00:04<00:00, 22.72it/s]\n",
      "Iteration: 100%|██████████| 109/109 [00:05<00:00, 20.52it/s]\n",
      "Iteration: 100%|██████████| 44/44 [00:01<00:00, 22.63it/s]]]\n",
      "Iteration:   1%|          | 2/392 [00:00<00:31, 12.31it/s]s]"
     ]
    },
    {
     "name": "stdout",
     "output_type": "stream",
     "text": [
      "{'Train':  best_epoch_indx:86\n",
      " auc:0.9875080404286222 \n",
      " apur:0.9419078681058175 \n",
      " f1:0.8521751082399835 \n",
      " precision:0.7781124497991968 \n",
      " recall:0.9418198389791889 \n",
      ", 'Validation':  best_epoch_indx:86\n",
      " auc:0.923270992595377 \n",
      " apur:0.7621729555173072 \n",
      " f1:0.6739358356049485 \n",
      " precision:0.6240776699029126 \n",
      " recall:0.7324521422060164 \n",
      ", 'Test':  best_epoch_indx:86\n",
      " auc:0.9200254903755563 \n",
      " apur:0.7492596680944213 \n",
      " f1:0.675955281161355 \n",
      " precision:0.6232307692307693 \n",
      " recall:0.7384250820269778 \n",
      "}\n",
      "=====Epoch 87\n",
      "Training...\n"
     ]
    },
    {
     "name": "stderr",
     "output_type": "stream",
     "text": [
      "Iteration: 100%|██████████| 44/44 [00:02<00:00, 21.27it/s]s]\n",
      "Iteration:  29%|██▉       | 114/392 [00:05<00:13, 21.16it/s]"
     ]
    },
    {
     "name": "stdout",
     "output_type": "stream",
     "text": [
      "{'Train':  best_epoch_indx:84\n",
      " auc:0.9885623781311018 \n",
      " apur:0.9475606719887695 \n",
      " f1:0.8437193107758235 \n",
      " precision:0.7543803632009579 \n",
      " recall:0.9570611170185832 \n",
      ", 'Validation':  best_epoch_indx:84\n",
      " auc:0.9204509847994335 \n",
      " apur:0.7596633284039694 \n",
      " f1:0.6784423926134082 \n",
      " precision:0.6063867958378184 \n",
      " recall:0.7699316628701595 \n",
      ", 'Test':  best_epoch_indx:84\n",
      " auc:0.9192270961237167 \n",
      " apur:0.7486801286747324 \n",
      " f1:0.6749435665914222 \n",
      " precision:0.6050007226477815 \n",
      " recall:0.7631722880583409 \n",
      "}\n",
      "=====Epoch 85\n",
      "Training...\n"
     ]
    },
    {
     "name": "stderr",
     "output_type": "stream",
     "text": [
      "Iteration: 100%|██████████| 392/392 [00:18<00:00, 21.40it/s]\n",
      "Iteration: 100%|██████████| 392/392 [00:31<00:00, 12.48it/s]\n",
      "Iteration:  31%|███       | 122/392 [00:09<00:21, 12.81it/s]"
     ]
    },
    {
     "name": "stdout",
     "output_type": "stream",
     "text": [
      "Evaluating...\n"
     ]
    },
    {
     "name": "stderr",
     "output_type": "stream",
     "text": [
      "Iteration: 100%|██████████| 392/392 [00:18<00:00, 20.87it/s]\n",
      "Iteration: 100%|██████████| 109/109 [00:05<00:00, 21.44it/s]\n",
      "Iteration: 100%|██████████| 44/44 [00:02<00:00, 21.87it/s]]]\n",
      "Iteration:  53%|█████▎    | 208/392 [00:17<00:14, 12.31it/s]"
     ]
    },
    {
     "name": "stdout",
     "output_type": "stream",
     "text": [
      "{'Train':  best_epoch_indx:83\n",
      " auc:0.9892114383109095 \n",
      " apur:0.9512269987263984 \n",
      " f1:0.8415959703075292 \n",
      " precision:0.7465020576131687 \n",
      " recall:0.9644538963998177 \n",
      ", 'Validation':  best_epoch_indx:83\n",
      " auc:0.9200734043941117 \n",
      " apur:0.75415209925335 \n",
      " f1:0.663870581186339 \n",
      " precision:0.5908282971916103 \n",
      " recall:0.7575205104831358 \n",
      ", 'Test':  best_epoch_indx:83\n",
      " auc:0.9223099419757455 \n",
      " apur:0.7558892823597809 \n",
      " f1:0.6744223363286265 \n",
      " precision:0.6023215821152192 \n",
      " recall:0.7661319722931097 \n",
      "}\n",
      "=====Epoch 84\n",
      "Training...\n"
     ]
    },
    {
     "name": "stderr",
     "output_type": "stream",
     "text": [
      "Iteration: 100%|██████████| 109/109 [00:05<00:00, 21.07it/s]\n",
      "Iteration: 100%|██████████| 44/44 [00:02<00:00, 18.84it/s]s]\n",
      "Iteration:   0%|          | 0/392 [00:00<?, ?it/s]12.44it/s]"
     ]
    },
    {
     "name": "stdout",
     "output_type": "stream",
     "text": [
      "{'Train':  best_epoch_indx:85\n",
      " auc:0.9890593848393302 \n",
      " apur:0.9495966742293463 \n",
      " f1:0.8208649663055533 \n",
      " precision:0.7090594260030211 \n",
      " recall:0.9745303559673908 \n",
      ", 'Validation':  best_epoch_indx:85\n",
      " auc:0.9226087044069905 \n",
      " apur:0.7543306659443744 \n",
      " f1:0.663890991672975 \n",
      " precision:0.5676375404530745 \n",
      " recall:0.7994530537830447 \n",
      ", 'Test':  best_epoch_indx:85\n",
      " auc:0.9240882874465365 \n",
      " apur:0.7531377133497927 \n",
      " f1:0.6685949155122545 \n",
      " precision:0.5739675901725039 \n",
      " recall:0.8005833029529712 \n",
      "}\n",
      "=====Epoch 86\n",
      "Training...\n"
     ]
    },
    {
     "name": "stderr",
     "output_type": "stream",
     "text": [
      "Iteration: 100%|██████████| 392/392 [00:18<00:00, 21.31it/s]\n",
      "Iteration: 100%|██████████| 392/392 [00:31<00:00, 12.48it/s]\n",
      "Iteration:  94%|█████████▍| 370/392 [00:30<00:01, 12.45it/s]"
     ]
    },
    {
     "name": "stdout",
     "output_type": "stream",
     "text": [
      "Evaluating...\n"
     ]
    },
    {
     "name": "stderr",
     "output_type": "stream",
     "text": [
      "Iteration: 100%|██████████| 392/392 [00:32<00:00, 12.15it/s]\n",
      "Iteration:  32%|███▏      | 124/392 [00:10<00:21, 12.59it/s]"
     ]
    },
    {
     "name": "stdout",
     "output_type": "stream",
     "text": [
      "Evaluating...\n"
     ]
    },
    {
     "name": "stderr",
     "output_type": "stream",
     "text": [
      "Iteration: 100%|██████████| 109/109 [00:04<00:00, 22.23it/s]\n",
      "Iteration: 100%|██████████| 44/44 [00:02<00:00, 21.89it/s]s]\n",
      "Iteration:  18%|█▊        | 69/392 [00:03<00:24, 13.08it/s]]"
     ]
    },
    {
     "name": "stdout",
     "output_type": "stream",
     "text": [
      "{'Train':  best_epoch_indx:85\n",
      " auc:0.9871834109588328 \n",
      " apur:0.9420015137258227 \n",
      " f1:0.8267749187018485 \n",
      " precision:0.7265439202148063 \n",
      " recall:0.9590865360271407 \n",
      ", 'Validation':  best_epoch_indx:85\n",
      " auc:0.9202285780447113 \n",
      " apur:0.756747395720505 \n",
      " f1:0.6743173723783142 \n",
      " precision:0.5958041958041959 \n",
      " recall:0.7766636280765725 \n",
      ", 'Test':  best_epoch_indx:85\n",
      " auc:0.9201392102913455 \n",
      " apur:0.7548897398415225 \n",
      " f1:0.6669781203768591 \n",
      " precision:0.5821666440125051 \n",
      " recall:0.7807145461173898 \n",
      "}\n",
      "=====Epoch 86\n",
      "Training...\n"
     ]
    },
    {
     "name": "stderr",
     "output_type": "stream",
     "text": [
      "Iteration: 100%|██████████| 392/392 [00:18<00:00, 21.31it/s]\n",
      "Iteration: 100%|██████████| 392/392 [00:32<00:00, 12.20it/s]\n",
      "Iteration:   1%|          | 3/392 [00:00<00:18, 20.63it/s]s]"
     ]
    },
    {
     "name": "stdout",
     "output_type": "stream",
     "text": [
      "Evaluating...\n"
     ]
    },
    {
     "name": "stderr",
     "output_type": "stream",
     "text": [
      "Iteration: 100%|██████████| 392/392 [00:19<00:00, 20.11it/s]\n",
      "Iteration: 100%|██████████| 392/392 [00:31<00:00, 12.40it/s]\n",
      "Iteration:  71%|███████   | 77/109 [00:03<00:01, 21.64it/s]"
     ]
    },
    {
     "name": "stdout",
     "output_type": "stream",
     "text": [
      "Evaluating...\n"
     ]
    },
    {
     "name": "stderr",
     "output_type": "stream",
     "text": [
      "Iteration: 100%|██████████| 109/109 [00:05<00:00, 20.96it/s]\n",
      "Iteration: 100%|██████████| 44/44 [00:02<00:00, 21.64it/s]s]\n",
      "Iteration:  99%|█████████▉| 108/109 [00:05<00:00, 18.83it/s]"
     ]
    },
    {
     "name": "stdout",
     "output_type": "stream",
     "text": [
      "{'Train':  best_epoch_indx:87\n",
      " auc:0.9928247430571238 \n",
      " apur:0.9658151427347803 \n",
      " f1:0.8545033623635762 \n",
      " precision:0.756775755682262 \n",
      " recall:0.9812142386956302 \n",
      ", 'Validation':  best_epoch_indx:87\n",
      " auc:0.9292519321196033 \n",
      " apur:0.7768894323455366 \n",
      " f1:0.6875863430037497 \n",
      " precision:0.6063348416289592 \n",
      " recall:0.7939835916134913 \n",
      ", 'Test':  best_epoch_indx:87\n",
      " auc:0.9272027057898884 \n",
      " apur:0.7700626074728809 \n",
      " f1:0.6872086592399462 \n",
      " precision:0.6064705062055501 \n",
      " recall:0.7927451695224207 \n",
      "}\n",
      "=====Epoch 88\n",
      "Training...\n"
     ]
    },
    {
     "name": "stderr",
     "output_type": "stream",
     "text": [
      "Iteration: 100%|██████████| 109/109 [00:05<00:00, 20.33it/s]\n",
      "Iteration: 100%|██████████| 44/44 [00:02<00:00, 19.12it/s]s]\n",
      "Iteration:  41%|████▏     | 162/392 [00:07<00:10, 21.21it/s]"
     ]
    },
    {
     "name": "stdout",
     "output_type": "stream",
     "text": [
      "{'Train':  best_epoch_indx:85\n",
      " auc:0.989611212292813 \n",
      " apur:0.9509686123394091 \n",
      " f1:0.8317989819127044 \n",
      " precision:0.726832222895215 \n",
      " recall:0.9722011241075498 \n",
      ", 'Validation':  best_epoch_indx:85\n",
      " auc:0.9213658368027482 \n",
      " apur:0.7628243947291725 \n",
      " f1:0.6676964664993242 \n",
      " precision:0.5794235924932976 \n",
      " recall:0.7876993166287016 \n",
      ", 'Test':  best_epoch_indx:85\n",
      " auc:0.9226364714048086 \n",
      " apur:0.7600207834525983 \n",
      " f1:0.6728855721393036 \n",
      " precision:0.5865293400189727 \n",
      " recall:0.7890610756608933 \n",
      "}\n",
      "=====Epoch 86\n",
      "Training...\n"
     ]
    },
    {
     "name": "stderr",
     "output_type": "stream",
     "text": [
      "Iteration: 100%|██████████| 392/392 [00:31<00:00, 12.54it/s]\n",
      "Iteration:  30%|██▉       | 116/392 [00:09<00:22, 12.26it/s]"
     ]
    },
    {
     "name": "stdout",
     "output_type": "stream",
     "text": [
      "Evaluating...\n"
     ]
    },
    {
     "name": "stderr",
     "output_type": "stream",
     "text": [
      "Iteration: 100%|██████████| 392/392 [00:18<00:00, 21.66it/s]\n",
      "Iteration: 100%|██████████| 109/109 [00:04<00:00, 22.04it/s]\n",
      "Iteration: 100%|██████████| 392/392 [00:19<00:00, 19.71it/s]\n",
      "Iteration: 100%|██████████| 44/44 [00:02<00:00, 21.64it/s]s]\n",
      "Iteration:  58%|█████▊    | 228/392 [00:18<00:12, 12.67it/s]"
     ]
    },
    {
     "name": "stdout",
     "output_type": "stream",
     "text": [
      "{'Train':  best_epoch_indx:84\n",
      " auc:0.9881476950754522 \n",
      " apur:0.9461774791509379 \n",
      " f1:0.8303018364086063 \n",
      " precision:0.731243735060529 \n",
      " recall:0.9604030583827029 \n",
      ", 'Validation':  best_epoch_indx:84\n",
      " auc:0.9216443330993913 \n",
      " apur:0.7583804527111793 \n",
      " f1:0.6763894363421363 \n",
      " precision:0.5958333333333333 \n",
      " recall:0.7821330902461258 \n",
      ", 'Test':  best_epoch_indx:84\n",
      " auc:0.9219919280406894 \n",
      " apur:0.7570147110668871 \n",
      " f1:0.6755968796785123 \n",
      " precision:0.5950034698126301 \n",
      " recall:0.7814436748086038 \n",
      "}\n",
      "=====Epoch 85\n",
      "Training...\n"
     ]
    },
    {
     "name": "stderr",
     "output_type": "stream",
     "text": [
      "Iteration: 100%|██████████| 109/109 [00:05<00:00, 20.00it/s]\n",
      "Iteration: 100%|██████████| 44/44 [00:02<00:00, 19.48it/s]s]\n",
      "Iteration:  81%|████████  | 316/392 [00:25<00:06, 12.52it/s]"
     ]
    },
    {
     "name": "stdout",
     "output_type": "stream",
     "text": [
      "{'Train':  best_epoch_indx:86\n",
      " auc:0.9914416688745825 \n",
      " apur:0.9594921521737305 \n",
      " f1:0.840232310269071 \n",
      " precision:0.7365009151921904 \n",
      " recall:0.9779735682819384 \n",
      ", 'Validation':  best_epoch_indx:86\n",
      " auc:0.9224631373435731 \n",
      " apur:0.7562235343604962 \n",
      " f1:0.6705494078819647 \n",
      " precision:0.5840378762259046 \n",
      " recall:0.7871467639015497 \n",
      ", 'Test':  best_epoch_indx:86\n",
      " auc:0.9269920500434801 \n",
      " apur:0.7639068277538701 \n",
      " f1:0.6800683017696367 \n",
      " precision:0.5921870775885374 \n",
      " recall:0.7985781990521327 \n",
      "}\n",
      "=====Epoch 87\n",
      "Training...\n"
     ]
    },
    {
     "name": "stderr",
     "output_type": "stream",
     "text": [
      "Iteration: 100%|██████████| 392/392 [00:17<00:00, 22.00it/s]\n",
      "Iteration: 100%|██████████| 392/392 [00:31<00:00, 12.45it/s]\n",
      "Iteration:  42%|████▏     | 164/392 [00:13<00:19, 11.90it/s]"
     ]
    },
    {
     "name": "stdout",
     "output_type": "stream",
     "text": [
      "Evaluating...\n"
     ]
    },
    {
     "name": "stderr",
     "output_type": "stream",
     "text": [
      "Iteration: 100%|██████████| 109/109 [00:05<00:00, 19.91it/s]\n",
      "Iteration: 100%|██████████| 392/392 [00:32<00:00, 12.19it/s]\n",
      "Iteration:  17%|█▋        | 66/392 [00:04<00:20, 15.86it/s]]"
     ]
    },
    {
     "name": "stdout",
     "output_type": "stream",
     "text": [
      "Evaluating...\n"
     ]
    },
    {
     "name": "stderr",
     "output_type": "stream",
     "text": [
      "Iteration: 100%|██████████| 44/44 [00:02<00:00, 18.53it/s]s]\n",
      "Iteration:  56%|█████▋    | 221/392 [00:18<00:13, 12.58it/s]"
     ]
    },
    {
     "name": "stdout",
     "output_type": "stream",
     "text": [
      "{'Train':  best_epoch_indx:86\n",
      " auc:0.9891297544070903 \n",
      " apur:0.9495791780303704 \n",
      " f1:0.8210198155107618 \n",
      " precision:0.7098548905217295 \n",
      " recall:0.9734670109878981 \n",
      ", 'Validation':  best_epoch_indx:86\n",
      " auc:0.9244487434038613 \n",
      " apur:0.7662428512792967 \n",
      " f1:0.6719999999999999 \n",
      " precision:0.5772251308900523 \n",
      " recall:0.8040109389243391 \n",
      ", 'Test':  best_epoch_indx:86\n",
      " auc:0.924358472121029 \n",
      " apur:0.7635861192437875 \n",
      " f1:0.6653684841222288 \n",
      " precision:0.5647088736333588 \n",
      " recall:0.8096974115931462 \n",
      "}\n",
      "=====Epoch 87\n",
      "Training...\n"
     ]
    },
    {
     "name": "stderr",
     "output_type": "stream",
     "text": [
      "Iteration: 100%|██████████| 392/392 [00:18<00:00, 20.81it/s]\n",
      "Iteration: 100%|██████████| 392/392 [00:32<00:00, 12.19it/s]\n",
      "Iteration:  44%|████▍     | 172/392 [00:13<00:17, 12.72it/s]"
     ]
    },
    {
     "name": "stdout",
     "output_type": "stream",
     "text": [
      "Evaluating...\n"
     ]
    },
    {
     "name": "stderr",
     "output_type": "stream",
     "text": [
      "Iteration: 100%|██████████| 392/392 [00:18<00:00, 21.07it/s]\n",
      "Iteration: 100%|██████████| 109/109 [00:05<00:00, 20.59it/s]\n",
      "Iteration: 100%|██████████| 392/392 [00:31<00:00, 12.35it/s]\n",
      "Iteration:  38%|███▊      | 147/392 [00:06<00:11, 21.55it/s]"
     ]
    },
    {
     "name": "stdout",
     "output_type": "stream",
     "text": [
      "Evaluating...\n"
     ]
    },
    {
     "name": "stderr",
     "output_type": "stream",
     "text": [
      "Iteration: 100%|██████████| 44/44 [00:01<00:00, 22.19it/s]s]\n",
      "Iteration:  76%|███████▌  | 83/109 [00:04<00:01, 19.12it/s]]"
     ]
    },
    {
     "name": "stdout",
     "output_type": "stream",
     "text": [
      "{'Train':  best_epoch_indx:88\n",
      " auc:0.9943138174960399 \n",
      " apur:0.97238467489308 \n",
      " f1:0.8660156163103686 \n",
      " precision:0.7722980479289002 \n",
      " recall:0.9856195250392424 \n",
      ", 'Validation':  best_epoch_indx:88\n",
      " auc:0.931727306325539 \n",
      " apur:0.7823544465426748 \n",
      " f1:0.6883425852498017 \n",
      " precision:0.6091228070175438 \n",
      " recall:0.7912488605287147 \n",
      ", 'Test':  best_epoch_indx:88\n",
      " auc:0.928367351217806 \n",
      " apur:0.7737556551009434 \n",
      " f1:0.6875648081678233 \n",
      " precision:0.6112608140689264 \n",
      " recall:0.7856361647830842 \n",
      "}\n",
      "=====Epoch 89\n",
      "Training...\n"
     ]
    },
    {
     "name": "stderr",
     "output_type": "stream",
     "text": [
      "Iteration: 100%|██████████| 109/109 [00:05<00:00, 19.39it/s]\n",
      "Iteration: 100%|██████████| 44/44 [00:02<00:00, 19.03it/s]]]\n",
      "Iteration:   0%|          | 0/392 [00:00<?, ?it/s]21.80it/s]"
     ]
    },
    {
     "name": "stdout",
     "output_type": "stream",
     "text": [
      "{'Train':  best_epoch_indx:86\n",
      " auc:0.9910985642534574 \n",
      " apur:0.9583491961137085 \n",
      " f1:0.8340084460915281 \n",
      " precision:0.7258748077860706 \n",
      " recall:0.9799989872904957 \n",
      ", 'Validation':  best_epoch_indx:86\n",
      " auc:0.9214474421382108 \n",
      " apur:0.7596231389505352 \n",
      " f1:0.6669217524392577 \n",
      " precision:0.5748680738786279 \n",
      " recall:0.7940774487471526 \n",
      ", 'Test':  best_epoch_indx:86\n",
      " auc:0.9227484114528444 \n",
      " apur:0.7554239105064472 \n",
      " f1:0.6741019921544497 \n",
      " precision:0.5830228845130389 \n",
      " recall:0.7989061075660894 \n",
      "}\n",
      "=====Epoch 87\n",
      "Training...\n"
     ]
    },
    {
     "name": "stderr",
     "output_type": "stream",
     "text": [
      "Iteration: 100%|██████████| 392/392 [00:31<00:00, 12.44it/s]\n",
      "Iteration:  28%|██▊       | 108/392 [00:08<00:22, 12.68it/s]"
     ]
    },
    {
     "name": "stdout",
     "output_type": "stream",
     "text": [
      "Evaluating...\n"
     ]
    },
    {
     "name": "stderr",
     "output_type": "stream",
     "text": [
      "Iteration: 100%|██████████| 392/392 [00:18<00:00, 21.23it/s]\n",
      "Iteration: 100%|██████████| 109/109 [00:05<00:00, 21.31it/s]\n",
      "Iteration: 100%|██████████| 392/392 [00:18<00:00, 21.62it/s]\n",
      "Iteration: 100%|██████████| 44/44 [00:02<00:00, 20.74it/s]s]\n",
      "Iteration:   0%|          | 0/392 [00:00<?, ?it/s]12.60it/s]"
     ]
    },
    {
     "name": "stdout",
     "output_type": "stream",
     "text": [
      "{'Train':  best_epoch_indx:85\n",
      " auc:0.9896491488052738 \n",
      " apur:0.9517261938481458 \n",
      " f1:0.8290465727456809 \n",
      " precision:0.7214411577250402 \n",
      " recall:0.9743784495417489 \n",
      ", 'Validation':  best_epoch_indx:85\n",
      " auc:0.9211981511724441 \n",
      " apur:0.7561169773479505 \n",
      " f1:0.6747544771808203 \n",
      " precision:0.5841947315771924 \n",
      " recall:0.7985414767547858 \n",
      ", 'Test':  best_epoch_indx:85\n",
      " auc:0.9238294410675562 \n",
      " apur:0.7583742146534566 \n",
      " f1:0.6717897487128256 \n",
      " precision:0.5807094459944201 \n",
      " recall:0.7967553773240977 \n",
      "}\n",
      "=====Epoch 86\n",
      "Training...\n"
     ]
    },
    {
     "name": "stderr",
     "output_type": "stream",
     "text": [
      "Iteration: 100%|██████████| 109/109 [00:04<00:00, 21.93it/s]\n",
      "Iteration: 100%|██████████| 44/44 [00:02<00:00, 20.89it/s]]]\n",
      "Iteration:  20%|█▉        | 78/392 [00:06<00:24, 12.62it/s]]"
     ]
    },
    {
     "name": "stdout",
     "output_type": "stream",
     "text": [
      "{'Train':  best_epoch_indx:87\n",
      " auc:0.9940251247516799 \n",
      " apur:0.9706609199733354 \n",
      " f1:0.8564583837007407 \n",
      " precision:0.7566601941747573 \n",
      " recall:0.9865815990683072 \n",
      ", 'Validation':  best_epoch_indx:87\n",
      " auc:0.9248910868909519 \n",
      " apur:0.7615115140432459 \n",
      " f1:0.6752186588921282 \n",
      " precision:0.5886140291426635 \n",
      " recall:0.7917046490428441 \n",
      ", 'Test':  best_epoch_indx:87\n",
      " auc:0.9284054567090276 \n",
      " apur:0.7698316061040993 \n",
      " f1:0.6806716126513082 \n",
      " precision:0.5954365350457713 \n",
      " recall:0.7943857090776522 \n",
      "}\n",
      "=====Epoch 88\n",
      "Training...\n"
     ]
    },
    {
     "name": "stderr",
     "output_type": "stream",
     "text": [
      "Iteration: 100%|██████████| 392/392 [00:17<00:00, 21.94it/s]\n",
      "Iteration: 100%|██████████| 392/392 [00:31<00:00, 12.48it/s]\n",
      "Iteration:  41%|████▏     | 162/392 [00:13<00:18, 12.44it/s]"
     ]
    },
    {
     "name": "stdout",
     "output_type": "stream",
     "text": [
      "Evaluating...\n"
     ]
    },
    {
     "name": "stderr",
     "output_type": "stream",
     "text": [
      "Iteration: 100%|██████████| 109/109 [00:04<00:00, 22.37it/s]\n",
      "Iteration: 100%|██████████| 44/44 [00:01<00:00, 22.22it/s]s]\n",
      "Iteration:   1%|          | 2/392 [00:00<00:33, 11.57it/s]s]"
     ]
    },
    {
     "name": "stdout",
     "output_type": "stream",
     "text": [
      "{'Train':  best_epoch_indx:87\n",
      " auc:0.9924355508056101 \n",
      " apur:0.9632760846483303 \n",
      " f1:0.8434682482782595 \n",
      " precision:0.7386605783866058 \n",
      " recall:0.982935844852904 \n",
      ", 'Validation':  best_epoch_indx:87\n",
      " auc:0.9266423173940894 \n",
      " apur:0.7742460954087765 \n",
      " f1:0.6792817146167213 \n",
      " precision:0.5892797319932999 \n",
      " recall:0.8017319963536919 \n",
      ", 'Test':  best_epoch_indx:87\n",
      " auc:0.9244796031886227 \n",
      " apur:0.7638387232461439 \n",
      " f1:0.6716075794621027 \n",
      " precision:0.5781373322809787 \n",
      " recall:0.8011301494713817 \n",
      "}\n",
      "=====Epoch 88\n",
      "Training...\n"
     ]
    },
    {
     "name": "stderr",
     "output_type": "stream",
     "text": [
      "Iteration: 100%|██████████| 392/392 [00:32<00:00, 12.00it/s]\n",
      "Iteration:  57%|█████▋    | 222/392 [00:18<00:15, 10.83it/s]"
     ]
    },
    {
     "name": "stdout",
     "output_type": "stream",
     "text": [
      "Evaluating...\n"
     ]
    },
    {
     "name": "stderr",
     "output_type": "stream",
     "text": [
      "Iteration: 100%|██████████| 392/392 [00:17<00:00, 22.10it/s]\n",
      "Iteration: 100%|██████████| 392/392 [00:32<00:00, 12.11it/s]\n",
      "Iteration:  73%|███████▎  | 288/392 [00:13<00:04, 21.29it/s]"
     ]
    },
    {
     "name": "stdout",
     "output_type": "stream",
     "text": [
      "Evaluating...\n"
     ]
    },
    {
     "name": "stderr",
     "output_type": "stream",
     "text": [
      "Iteration: 100%|██████████| 109/109 [00:04<00:00, 22.33it/s]\n",
      "Iteration: 100%|██████████| 392/392 [00:19<00:00, 20.59it/s]\n",
      "Iteration: 100%|██████████| 392/392 [00:31<00:00, 12.40it/s]\n",
      "Iteration:  67%|██████▋   | 264/392 [00:21<00:10, 12.58it/s]"
     ]
    },
    {
     "name": "stdout",
     "output_type": "stream",
     "text": [
      "Evaluating...\n"
     ]
    },
    {
     "name": "stderr",
     "output_type": "stream",
     "text": [
      "Iteration: 100%|██████████| 109/109 [00:05<00:00, 19.51it/s]\n",
      "Iteration: 100%|██████████| 44/44 [00:02<00:00, 18.88it/s]s]\n",
      "Iteration:  49%|████▉     | 192/392 [00:09<00:13, 14.89it/s]"
     ]
    },
    {
     "name": "stdout",
     "output_type": "stream",
     "text": [
      "{'Train':  best_epoch_indx:87\n",
      " auc:0.9939394120370446 \n",
      " apur:0.9705264839410772 \n",
      " f1:0.8592268417213713 \n",
      " precision:0.7624146858084255 \n",
      " recall:0.9842017317332523 \n",
      ", 'Validation':  best_epoch_indx:87\n",
      " auc:0.9236155608710385 \n",
      " apur:0.7674929746177597 \n",
      " f1:0.6808259587020649 \n",
      " precision:0.5989619377162629 \n",
      " recall:0.7886104783599088 \n",
      ", 'Test':  best_epoch_indx:87\n",
      " auc:0.9263135871965716 \n",
      " apur:0.7705822289814573 \n",
      " f1:0.6840862584605698 \n",
      " precision:0.6018556986566957 \n",
      " recall:0.7923427529626254 \n",
      "}\n",
      "=====Epoch 88\n",
      "Training...\n"
     ]
    },
    {
     "name": "stderr",
     "output_type": "stream",
     "text": [
      "Iteration: 100%|██████████| 392/392 [00:31<00:00, 12.54it/s]\n",
      "Iteration:  54%|█████▍    | 213/392 [00:10<00:08, 20.71it/s]"
     ]
    },
    {
     "name": "stdout",
     "output_type": "stream",
     "text": [
      "Evaluating...\n"
     ]
    },
    {
     "name": "stderr",
     "output_type": "stream",
     "text": [
      "Iteration: 100%|██████████| 392/392 [00:18<00:00, 21.77it/s]\n",
      "Iteration: 100%|██████████| 392/392 [00:18<00:00, 20.93it/s]\n",
      "Iteration: 100%|██████████| 109/109 [00:04<00:00, 21.96it/s]\n",
      "Iteration: 100%|██████████| 44/44 [00:02<00:00, 19.72it/s]s]\n",
      "Iteration:   0%|          | 0/392 [00:00<?, ?it/s]16.07it/s]"
     ]
    },
    {
     "name": "stdout",
     "output_type": "stream",
     "text": [
      "{'Train':  best_epoch_indx:86\n",
      " auc:0.9925403804242584 \n",
      " apur:0.9642920846270837 \n",
      " f1:0.8565478432328245 \n",
      " precision:0.7614227193949897 \n",
      " recall:0.9788343713605753 \n",
      ", 'Validation':  best_epoch_indx:86\n",
      " auc:0.9242044466333106 \n",
      " apur:0.7644531823301288 \n",
      " f1:0.6810276679841897 \n",
      " precision:0.6011863224005582 \n",
      " recall:0.7853236098450319 \n",
      ", 'Test':  best_epoch_indx:86\n",
      " auc:0.9267629256584038 \n",
      " apur:0.7713578935901154 \n",
      " f1:0.6847765474388592 \n",
      " precision:0.60817885948776 \n",
      " recall:0.7834487787094422 \n",
      "}\n",
      "=====Epoch 87\n",
      "Training...\n"
     ]
    },
    {
     "name": "stderr",
     "output_type": "stream",
     "text": [
      "Iteration: 100%|██████████| 109/109 [00:04<00:00, 21.84it/s]\n",
      "Iteration: 100%|██████████| 44/44 [00:02<00:00, 19.63it/s]s]\n",
      "Iteration:   0%|          | 0/392 [00:00<?, ?it/s]2.33it/s]]"
     ]
    },
    {
     "name": "stdout",
     "output_type": "stream",
     "text": [
      "{'Train':  best_epoch_indx:88\n",
      " auc:0.9953619822942015 \n",
      " apur:0.9769623855297205 \n",
      " f1:0.8743257458761385 \n",
      " precision:0.7834737264340152 \n",
      " recall:0.9890121018785761 \n",
      ", 'Validation':  best_epoch_indx:88\n",
      " auc:0.9279410524708436 \n",
      " apur:0.7705099936019437 \n",
      " f1:0.6854534629886883 \n",
      " precision:0.6070298769771529 \n",
      " recall:0.7871467639015497 \n",
      ", 'Test':  best_epoch_indx:88\n",
      " auc:0.9306074507265966 \n",
      " apur:0.773614183964361 \n",
      " f1:0.6896386695381671 \n",
      " precision:0.6131045241809673 \n",
      " recall:0.7880058330295298 \n",
      "}\n",
      "=====Epoch 89\n",
      "Training...\n"
     ]
    },
    {
     "name": "stderr",
     "output_type": "stream",
     "text": [
      "Iteration: 100%|██████████| 392/392 [00:19<00:00, 20.07it/s]\n",
      "Iteration: 100%|██████████| 44/44 [00:02<00:00, 21.39it/s]]]\n",
      "Iteration:  37%|███▋      | 146/392 [00:11<00:19, 12.67it/s]"
     ]
    },
    {
     "name": "stdout",
     "output_type": "stream",
     "text": [
      "{'Train':  best_epoch_indx:89\n",
      " auc:0.9958441990458063 \n",
      " apur:0.9792813392838603 \n",
      " f1:0.8784253877056355 \n",
      " precision:0.7888584327636247 \n",
      " recall:0.9909362499367057 \n",
      ", 'Validation':  best_epoch_indx:89\n",
      " auc:0.9329188587374427 \n",
      " apur:0.7865135404651866 \n",
      " f1:0.6944609886837403 \n",
      " precision:0.6151952163207879 \n",
      " recall:0.7971741112123975 \n",
      ", 'Test':  best_epoch_indx:89\n",
      " auc:0.9295581184549414 \n",
      " apur:0.7793012126119374 \n",
      " f1:0.6928313976772127 \n",
      " precision:0.6179454207743963 \n",
      " recall:0.7883703973751367 \n",
      "}\n",
      "=====Epoch 90\n",
      "Training...\n"
     ]
    },
    {
     "name": "stderr",
     "output_type": "stream",
     "text": [
      "Iteration: 100%|██████████| 109/109 [00:04<00:00, 22.36it/s]\n",
      "Iteration: 100%|██████████| 44/44 [00:02<00:00, 21.47it/s]s]\n",
      "Iteration:  90%|█████████ | 354/392 [00:28<00:03, 12.01it/s]"
     ]
    },
    {
     "name": "stdout",
     "output_type": "stream",
     "text": [
      "{'Train':  best_epoch_indx:88\n",
      " auc:0.99461586859737 \n",
      " apur:0.9736083283654164 \n",
      " f1:0.872559811299562 \n",
      " precision:0.7841799240894776 \n",
      " recall:0.9833915641298293 \n",
      ", 'Validation':  best_epoch_indx:88\n",
      " auc:0.929440749800422 \n",
      " apur:0.7830438586386428 \n",
      " f1:0.6994513310302783 \n",
      " precision:0.6310964429776311 \n",
      " recall:0.784412032816773 \n",
      ", 'Test':  best_epoch_indx:88\n",
      " auc:0.9270483422255177 \n",
      " apur:0.7753345018651722 \n",
      " f1:0.6834451901565995 \n",
      " precision:0.6083926031294452 \n",
      " recall:0.7796208530805687 \n",
      "}\n",
      "=====Epoch 89\n",
      "Training...\n"
     ]
    },
    {
     "name": "stderr",
     "output_type": "stream",
     "text": [
      "Iteration: 100%|██████████| 392/392 [00:31<00:00, 12.26it/s]\n",
      "Iteration:  43%|████▎     | 170/392 [00:13<00:17, 12.57it/s]"
     ]
    },
    {
     "name": "stdout",
     "output_type": "stream",
     "text": [
      "Evaluating...\n"
     ]
    },
    {
     "name": "stderr",
     "output_type": "stream",
     "text": [
      "Iteration: 100%|██████████| 392/392 [00:32<00:00, 12.16it/s]\n",
      "Iteration:  82%|████████▏ | 322/392 [00:26<00:05, 12.18it/s]"
     ]
    },
    {
     "name": "stdout",
     "output_type": "stream",
     "text": [
      "Evaluating...\n"
     ]
    },
    {
     "name": "stderr",
     "output_type": "stream",
     "text": [
      "Iteration: 100%|██████████| 392/392 [00:31<00:00, 12.37it/s]\n",
      "Iteration:  29%|██▊       | 112/392 [00:05<00:14, 19.41it/s]"
     ]
    },
    {
     "name": "stdout",
     "output_type": "stream",
     "text": [
      "Evaluating...\n"
     ]
    },
    {
     "name": "stderr",
     "output_type": "stream",
     "text": [
      "Iteration: 100%|██████████| 392/392 [00:18<00:00, 20.99it/s]\n",
      "Iteration: 100%|██████████| 392/392 [00:32<00:00, 12.10it/s]\n",
      "Iteration:  62%|██████▏   | 242/392 [00:12<00:06, 21.60it/s]"
     ]
    },
    {
     "name": "stdout",
     "output_type": "stream",
     "text": [
      "Evaluating...\n"
     ]
    },
    {
     "name": "stderr",
     "output_type": "stream",
     "text": [
      "Iteration: 100%|██████████| 109/109 [00:04<00:00, 21.87it/s]\n",
      "Iteration:  48%|████▊     | 189/392 [00:09<00:09, 20.59it/s]\n",
      "Iteration:  97%|█████████▋| 379/392 [00:30<00:01, 12.66it/s]"
     ]
    },
    {
     "name": "stdout",
     "output_type": "stream",
     "text": [
      "{'Train':  best_epoch_indx:88\n",
      " auc:0.9959489224620792 \n",
      " apur:0.979875400850831 \n",
      " f1:0.8833800778069302 \n",
      " precision:0.7982667702244206 \n",
      " recall:0.9888095599777204 \n",
      ", 'Validation':  best_epoch_indx:88\n",
      " auc:0.9269167399129767 \n",
      " apur:0.7734228780468883 \n",
      " f1:0.6847716757191713 \n",
      " precision:0.6131123919308358 \n",
      " recall:0.7753986332574032 \n",
      ", 'Test':  best_epoch_indx:88\n",
      " auc:0.9273304016980304 \n",
      " apur:0.7733441551380483 \n",
      " f1:0.6921891475383243 \n",
      " precision:0.6234658094681473 \n",
      " recall:0.7779398359161349 \n",
      "}\n",
      "=====Epoch 89\n",
      "Training...\n"
     ]
    },
    {
     "name": "stderr",
     "output_type": "stream",
     "text": [
      "Iteration: 100%|██████████| 392/392 [00:31<00:00, 12.43it/s]\n",
      "Iteration:  85%|████████▍ | 332/392 [00:16<00:02, 21.06it/s]"
     ]
    },
    {
     "name": "stdout",
     "output_type": "stream",
     "text": [
      "Evaluating...\n"
     ]
    },
    {
     "name": "stderr",
     "output_type": "stream",
     "text": [
      "Iteration: 100%|██████████| 392/392 [00:19<00:00, 20.50it/s]\n",
      "Iteration: 100%|██████████| 392/392 [00:19<00:00, 20.05it/s]\n",
      "Iteration: 100%|██████████| 109/109 [00:05<00:00, 21.70it/s]\n",
      "Iteration: 100%|██████████| 44/44 [00:02<00:00, 20.01it/s]s]\n",
      "Iteration:  68%|██████▊   | 267/392 [00:12<00:05, 22.39it/s]"
     ]
    },
    {
     "name": "stdout",
     "output_type": "stream",
     "text": [
      "{'Train':  best_epoch_indx:87\n",
      " auc:0.9945803078095699 \n",
      " apur:0.9735232425761916 \n",
      " f1:0.8649824623717977 \n",
      " precision:0.7701308455548088 \n",
      " recall:0.9864803281178793 \n",
      ", 'Validation':  best_epoch_indx:87\n",
      " auc:0.9274840264269244 \n",
      " apur:0.7758702079802338 \n",
      " f1:0.6869288835915773 \n",
      " precision:0.6088028169014085 \n",
      " recall:0.7880583409298085 \n",
      ", 'Test':  best_epoch_indx:87\n",
      " auc:0.9286325863880586 \n",
      " apur:0.7755684575533284 \n",
      " f1:0.6897702885303235 \n",
      " precision:0.6115574348132488 \n",
      " recall:0.7909223477943857 \n",
      "}\n",
      "=====Epoch 88\n",
      "Training...\n"
     ]
    },
    {
     "name": "stderr",
     "output_type": "stream",
     "text": [
      "Iteration: 100%|██████████| 392/392 [00:17<00:00, 22.05it/s]\n",
      "Iteration: 100%|██████████| 109/109 [00:05<00:00, 21.74it/s]\n",
      "Iteration: 100%|██████████| 392/392 [00:17<00:00, 22.27it/s]\n",
      "Iteration: 100%|██████████| 109/109 [00:05<00:00, 21.67it/s]\n",
      "Iteration: 100%|██████████| 44/44 [00:01<00:00, 22.06it/s]s]\n",
      "Iteration:   1%|          | 2/392 [00:00<00:32, 12.09it/s]s]"
     ]
    },
    {
     "name": "stdout",
     "output_type": "stream",
     "text": [
      "{'Train':  best_epoch_indx:90\n",
      " auc:0.9953744873518062 \n",
      " apur:0.9768187709438073 \n",
      " f1:0.8848022521908913 \n",
      " precision:0.8019920154751615 \n",
      " recall:0.9866828700187351 \n",
      ", 'Validation':  best_epoch_indx:90\n",
      " auc:0.931761474732788 \n",
      " apur:0.7818334962800928 \n",
      " f1:0.6926512383272432 \n",
      " precision:0.6244509516837482 \n",
      " recall:0.7775752051048314 \n",
      ", 'Test':  best_epoch_indx:90\n",
      " auc:0.9279787960173557 \n",
      " apur:0.7728687223377138 \n",
      " f1:0.6911379986919555 \n",
      " precision:0.6265935369107619 \n",
      " recall:0.7705067444403937 \n",
      "}\n",
      "=====Epoch 91\n",
      "Training...\n"
     ]
    },
    {
     "name": "stderr",
     "output_type": "stream",
     "text": [
      "Iteration: 100%|██████████| 109/109 [00:05<00:00, 20.90it/s]\n",
      "Iteration: 100%|██████████| 392/392 [00:32<00:00, 12.05it/s]\n",
      "Iteration:  60%|█████▉    | 235/392 [00:19<00:12, 12.19it/s]"
     ]
    },
    {
     "name": "stdout",
     "output_type": "stream",
     "text": [
      "Evaluating...\n"
     ]
    },
    {
     "name": "stderr",
     "output_type": "stream",
     "text": [
      "Iteration: 100%|██████████| 392/392 [00:32<00:00, 12.11it/s]\n",
      "Iteration:  69%|██████▉   | 270/392 [00:21<00:09, 12.49it/s]"
     ]
    },
    {
     "name": "stdout",
     "output_type": "stream",
     "text": [
      "Evaluating...\n"
     ]
    },
    {
     "name": "stderr",
     "output_type": "stream",
     "text": [
      "Iteration: 100%|██████████| 392/392 [00:18<00:00, 21.50it/s]\n",
      "Iteration: 100%|██████████| 44/44 [00:02<00:00, 19.27it/s]s]\n",
      "Iteration:  31%|███       | 122/392 [00:05<00:12, 21.33it/s]"
     ]
    },
    {
     "name": "stdout",
     "output_type": "stream",
     "text": [
      "{'Train':  best_epoch_indx:89\n",
      " auc:0.9965616410243356 \n",
      " apur:0.9825598506351227 \n",
      " f1:0.8885164212910531 \n",
      " precision:0.8038195155936232 \n",
      " recall:0.9931642108461188 \n",
      ", 'Validation':  best_epoch_indx:89\n",
      " auc:0.9289016902139918 \n",
      " apur:0.7717118778140512 \n",
      " f1:0.6908134358559288 \n",
      " precision:0.62117903930131 \n",
      " recall:0.7780309936189608 \n",
      ", 'Test':  best_epoch_indx:89\n",
      " auc:0.931603294365527 \n",
      " apur:0.7772430506856434 \n",
      " f1:0.6923076923076923 \n",
      " precision:0.6217706821480407 \n",
      " recall:0.7808968282901932 \n",
      "}\n",
      "=====Epoch 90\n",
      "Training...\n"
     ]
    },
    {
     "name": "stderr",
     "output_type": "stream",
     "text": [
      "Iteration: 100%|██████████| 392/392 [00:31<00:00, 12.52it/s]\n",
      "Iteration:   0%|          | 0/392 [00:00<?, ?it/s]"
     ]
    },
    {
     "name": "stdout",
     "output_type": "stream",
     "text": [
      "Evaluating...\n"
     ]
    },
    {
     "name": "stderr",
     "output_type": "stream",
     "text": [
      "Iteration: 100%|██████████| 109/109 [00:05<00:00, 21.38it/s]\n",
      "Iteration: 100%|██████████| 44/44 [00:02<00:00, 19.60it/s]s]\n",
      "Iteration:   0%|          | 0/392 [00:00<?, ?it/s]22.12it/s]"
     ]
    },
    {
     "name": "stdout",
     "output_type": "stream",
     "text": [
      "{'Train':  best_epoch_indx:89\n",
      " auc:0.9958140584373159 \n",
      " apur:0.979045083745639 \n",
      " f1:0.8843050140538579 \n",
      " precision:0.8005088849673739 \n",
      " recall:0.9876955795230138 \n",
      ", 'Validation':  best_epoch_indx:89\n",
      " auc:0.9314976921118173 \n",
      " apur:0.7880931994531745 \n",
      " f1:0.704699363841576 \n",
      " precision:0.6409107876073161 \n",
      " recall:0.7825888787602553 \n",
      ", 'Test':  best_epoch_indx:89\n",
      " auc:0.9278418804164515 \n",
      " apur:0.777819149551704 \n",
      " f1:0.6854520570002415 \n",
      " precision:0.6138428262436915 \n",
      " recall:0.7759752096244987 \n",
      "}\n",
      "=====Epoch 90\n",
      "Training...\n"
     ]
    },
    {
     "name": "stderr",
     "output_type": "stream",
     "text": [
      "Iteration: 100%|██████████| 392/392 [00:18<00:00, 21.51it/s]\n",
      "Iteration: 100%|██████████| 109/109 [00:05<00:00, 21.74it/s]\n",
      "Iteration: 100%|██████████| 44/44 [00:02<00:00, 21.56it/s]s]\n",
      "Iteration:  99%|█████████▊| 387/392 [00:17<00:00, 21.93it/s]"
     ]
    },
    {
     "name": "stdout",
     "output_type": "stream",
     "text": [
      "{'Train':  best_epoch_indx:88\n",
      " auc:0.9961242330262726 \n",
      " apur:0.9807579062283022 \n",
      " f1:0.8998334412880541 \n",
      " precision:0.8283572554197368 \n",
      " recall:0.9848093574358195 \n",
      ", 'Validation':  best_epoch_indx:88\n",
      " auc:0.928248924712463 \n",
      " apur:0.7765108303169616 \n",
      " f1:0.6999790048288894 \n",
      " precision:0.6488906189178669 \n",
      " recall:0.759799453053783 \n",
      ", 'Test':  best_epoch_indx:88\n",
      " auc:0.9303093978137951 \n",
      " apur:0.7819777878941296 \n",
      " f1:0.7003519356460534 \n",
      " precision:0.6481079404466501 \n",
      " recall:0.7617572001458257 \n",
      "}\n",
      "=====Epoch 89\n",
      "Training...\n"
     ]
    },
    {
     "name": "stderr",
     "output_type": "stream",
     "text": [
      "Iteration: 100%|██████████| 392/392 [00:17<00:00, 22.09it/s]\n",
      "Iteration: 100%|██████████| 109/109 [00:05<00:00, 21.48it/s]\n",
      "Iteration: 100%|██████████| 44/44 [00:02<00:00, 20.30it/s]s]\n",
      "Iteration:  67%|██████▋   | 262/392 [00:21<00:10, 11.86it/s]"
     ]
    },
    {
     "name": "stdout",
     "output_type": "stream",
     "text": [
      "{'Train':  best_epoch_indx:91\n",
      " auc:0.9941130045469917 \n",
      " apur:0.9713953216266284 \n",
      " f1:0.8564461920347956 \n",
      " precision:0.7563436020796152 \n",
      " recall:0.9870879538204466 \n",
      ", 'Validation':  best_epoch_indx:91\n",
      " auc:0.9284510196196714 \n",
      " apur:0.774706739051931 \n",
      " f1:0.6802325581395349 \n",
      " precision:0.5917060013486176 \n",
      " recall:0.7999088422971741 \n",
      ", 'Test':  best_epoch_indx:91\n",
      " auc:0.9256789190435599 \n",
      " apur:0.768233818161525 \n",
      " f1:0.6825558604468835 \n",
      " precision:0.5988444077589765 \n",
      " recall:0.7934742982136347 \n",
      "}\n",
      "=====Epoch 92\n",
      "Training...\n"
     ]
    },
    {
     "name": "stderr",
     "output_type": "stream",
     "text": [
      "Iteration: 100%|██████████| 392/392 [00:31<00:00, 12.43it/s]\n",
      "Iteration:   1%|          | 2/392 [00:00<00:19, 19.95it/s]s]"
     ]
    },
    {
     "name": "stdout",
     "output_type": "stream",
     "text": [
      "Evaluating...\n"
     ]
    },
    {
     "name": "stderr",
     "output_type": "stream",
     "text": [
      "Iteration: 100%|██████████| 44/44 [00:02<00:00, 18.02it/s]s]\n",
      "Iteration:   1%|          | 2/392 [00:00<00:35, 11.04it/s]s]"
     ]
    },
    {
     "name": "stdout",
     "output_type": "stream",
     "text": [
      "{'Train':  best_epoch_indx:89\n",
      " auc:0.9970204655266727 \n",
      " apur:0.9849466668843326 \n",
      " f1:0.8923965701548889 \n",
      " precision:0.8100586340738294 \n",
      " recall:0.9933667527469745 \n",
      ", 'Validation':  best_epoch_indx:89\n",
      " auc:0.9285235808387653 \n",
      " apur:0.7783353889330128 \n",
      " f1:0.6994934143870314 \n",
      " precision:0.6299270072992701 \n",
      " recall:0.7863325740318906 \n",
      ", 'Test':  best_epoch_indx:89\n",
      " auc:0.9290297108327302 \n",
      " apur:0.7770889413234171 \n",
      " f1:0.6963023161316537 \n",
      " precision:0.6281524926686217 \n",
      " recall:0.7810391978122151 \n",
      "}\n",
      "=====Epoch 90\n",
      "Training...\n"
     ]
    },
    {
     "name": "stderr",
     "output_type": "stream",
     "text": [
      "Iteration: 100%|██████████| 392/392 [00:32<00:00, 12.13it/s]\n",
      "Iteration:  53%|█████▎    | 206/392 [00:10<00:08, 21.00it/s]"
     ]
    },
    {
     "name": "stdout",
     "output_type": "stream",
     "text": [
      "Evaluating...\n"
     ]
    },
    {
     "name": "stderr",
     "output_type": "stream",
     "text": [
      "Iteration: 100%|██████████| 392/392 [00:19<00:00, 20.32it/s]\n",
      "Iteration: 100%|██████████| 392/392 [00:31<00:00, 12.35it/s]\n",
      "Iteration:  30%|███       | 33/109 [00:01<00:03, 21.94it/s]]"
     ]
    },
    {
     "name": "stdout",
     "output_type": "stream",
     "text": [
      "Evaluating...\n"
     ]
    },
    {
     "name": "stderr",
     "output_type": "stream",
     "text": [
      "Iteration: 100%|██████████| 109/109 [00:05<00:00, 21.19it/s]\n",
      "Iteration: 100%|██████████| 44/44 [00:02<00:00, 20.37it/s]s]\n",
      "Iteration:   0%|          | 0/392 [00:00<?, ?it/s]12.13it/s]"
     ]
    },
    {
     "name": "stdout",
     "output_type": "stream",
     "text": [
      "{'Train':  best_epoch_indx:90\n",
      " auc:0.9963465119814474 \n",
      " apur:0.9816157712813587 \n",
      " f1:0.8899151443456105 \n",
      " precision:0.8079560475875743 \n",
      " recall:0.9903792597093524 \n",
      ", 'Validation':  best_epoch_indx:90\n",
      " auc:0.9279827299571564 \n",
      " apur:0.7701147658721633 \n",
      " f1:0.689501418727199 \n",
      " precision:0.6208029197080291 \n",
      " recall:0.7752962625341842 \n",
      ", 'Test':  best_epoch_indx:90\n",
      " auc:0.9303938015765626 \n",
      " apur:0.7742877878541836 \n",
      " f1:0.6900689096068099 \n",
      " precision:0.6214045846108921 \n",
      " recall:0.7757929274516953 \n",
      "}\n",
      "=====Epoch 91\n",
      "Training...\n"
     ]
    },
    {
     "name": "stderr",
     "output_type": "stream",
     "text": [
      "Iteration: 100%|██████████| 392/392 [00:18<00:00, 21.71it/s]\n",
      "Iteration: 100%|██████████| 392/392 [00:31<00:00, 12.26it/s]\n",
      "Iteration:   0%|          | 0/392 [00:00<?, ?it/s]"
     ]
    },
    {
     "name": "stdout",
     "output_type": "stream",
     "text": [
      "Evaluating...\n"
     ]
    },
    {
     "name": "stderr",
     "output_type": "stream",
     "text": [
      "Iteration: 100%|██████████| 109/109 [00:05<00:00, 20.15it/s]\n",
      "Iteration: 100%|██████████| 44/44 [00:02<00:00, 20.07it/s]s]\n",
      "Iteration:   0%|          | 0/392 [00:00<?, ?it/s]12.62it/s]"
     ]
    },
    {
     "name": "stdout",
     "output_type": "stream",
     "text": [
      "{'Train':  best_epoch_indx:90\n",
      " auc:0.995776149803721 \n",
      " apur:0.9790940644730081 \n",
      " f1:0.8863124872127123 \n",
      " precision:0.8042079207920793 \n",
      " recall:0.9870879538204466 \n",
      ", 'Validation':  best_epoch_indx:90\n",
      " auc:0.9296931429523099 \n",
      " apur:0.7847866291644943 \n",
      " f1:0.7009038619556285 \n",
      " precision:0.6379955123410621 \n",
      " recall:0.7775752051048314 \n",
      ", 'Test':  best_epoch_indx:90\n",
      " auc:0.9278540616441262 \n",
      " apur:0.7763309127887227 \n",
      " f1:0.6867900032456996 \n",
      " precision:0.6188944135712197 \n",
      " recall:0.7714181553044113 \n",
      "}\n",
      "=====Epoch 91\n",
      "Training...\n"
     ]
    },
    {
     "name": "stderr",
     "output_type": "stream",
     "text": [
      "Iteration: 100%|██████████| 392/392 [00:18<00:00, 20.99it/s]\n",
      "Iteration: 100%|██████████| 392/392 [00:31<00:00, 12.27it/s]\n",
      "Iteration:  12%|█▏        | 13/109 [00:00<00:04, 19.87it/s]]"
     ]
    },
    {
     "name": "stdout",
     "output_type": "stream",
     "text": [
      "Evaluating...\n"
     ]
    },
    {
     "name": "stderr",
     "output_type": "stream",
     "text": [
      "Iteration: 100%|██████████| 109/109 [00:05<00:00, 18.70it/s]\n",
      "Iteration: 100%|██████████| 392/392 [00:17<00:00, 22.28it/s]\n",
      "Iteration: 100%|██████████| 109/109 [00:04<00:00, 22.31it/s]\n",
      "Iteration: 100%|██████████| 44/44 [00:01<00:00, 22.48it/s]s]\n",
      "Iteration:   1%|          | 2/392 [00:00<00:34, 11.34it/s]s]"
     ]
    },
    {
     "name": "stdout",
     "output_type": "stream",
     "text": [
      "{'Train':  best_epoch_indx:92\n",
      " auc:0.9941193594871223 \n",
      " apur:0.9710541807150741 \n",
      " f1:0.862133085403108 \n",
      " precision:0.7658997050147492 \n",
      " recall:0.986024608840954 \n",
      ", 'Validation':  best_epoch_indx:92\n",
      " auc:0.9281103633261613 \n",
      " apur:0.7699473505138569 \n",
      " f1:0.6761551959446285 \n",
      " precision:0.5908006814310051 \n",
      " recall:0.7903372835004557 \n",
      ", 'Test':  best_epoch_indx:92\n",
      " auc:0.9246246604080905 \n",
      " apur:0.7633786747386305 \n",
      " f1:0.6821926489226869 \n",
      " precision:0.6032502101428971 \n",
      " recall:0.7849070360918702 \n",
      "}\n",
      "=====Epoch 93\n",
      "Training...\n"
     ]
    },
    {
     "name": "stderr",
     "output_type": "stream",
     "text": [
      "Iteration: 100%|██████████| 392/392 [00:31<00:00, 12.42it/s]\n",
      "Iteration:   8%|▊         | 30/392 [00:02<00:28, 12.52it/s]"
     ]
    },
    {
     "name": "stdout",
     "output_type": "stream",
     "text": [
      "Evaluating...\n"
     ]
    },
    {
     "name": "stderr",
     "output_type": "stream",
     "text": [
      "Iteration: 100%|██████████| 392/392 [00:19<00:00, 19.62it/s]\n",
      "Iteration: 100%|██████████| 109/109 [00:05<00:00, 21.67it/s]\n",
      "Iteration: 100%|██████████| 392/392 [00:31<00:00, 12.51it/s]\n",
      "Iteration:  38%|███▊      | 148/392 [00:11<00:19, 12.65it/s]"
     ]
    },
    {
     "name": "stdout",
     "output_type": "stream",
     "text": [
      "Evaluating...\n"
     ]
    },
    {
     "name": "stderr",
     "output_type": "stream",
     "text": [
      "Iteration: 100%|██████████| 44/44 [00:02<00:00, 15.32it/s]s]\n",
      "Iteration:  45%|████▍     | 176/392 [00:14<00:17, 12.53it/s]"
     ]
    },
    {
     "name": "stdout",
     "output_type": "stream",
     "text": [
      "{'Train':  best_epoch_indx:90\n",
      " auc:0.9964918842795014 \n",
      " apur:0.9822269911573716 \n",
      " f1:0.895014984786438 \n",
      " precision:0.8163341958100325 \n",
      " recall:0.9904805306597803 \n",
      ", 'Validation':  best_epoch_indx:90\n",
      " auc:0.9267772224663766 \n",
      " apur:0.775211246156621 \n",
      " f1:0.6933442221314822 \n",
      " precision:0.6281908990011099 \n",
      " recall:0.7735763097949886 \n",
      ", 'Test':  best_epoch_indx:90\n",
      " auc:0.9278924446508956 \n",
      " apur:0.7737368491682668 \n",
      " f1:0.6948456992777413 \n",
      " precision:0.6318853560232871 \n",
      " recall:0.7717411121239744 \n",
      "}\n",
      "=====Epoch 91\n",
      "Training...\n"
     ]
    },
    {
     "name": "stderr",
     "output_type": "stream",
     "text": [
      "Iteration: 100%|██████████| 392/392 [00:19<00:00, 19.98it/s]\n",
      "Iteration: 100%|██████████| 44/44 [00:02<00:00, 19.18it/s]]]\n",
      "Iteration:  70%|███████   | 276/392 [00:12<00:05, 21.05it/s]"
     ]
    },
    {
     "name": "stdout",
     "output_type": "stream",
     "text": [
      "{'Train':  best_epoch_indx:89\n",
      " auc:0.997117768499719 \n",
      " apur:0.9854205677236029 \n",
      " f1:0.9043590810336061 \n",
      " precision:0.8319088319088319 \n",
      " recall:0.990632437085422 \n",
      ", 'Validation':  best_epoch_indx:89\n",
      " auc:0.9293761885005376 \n",
      " apur:0.7819117459275879 \n",
      " f1:0.6963024511840464 \n",
      " precision:0.6396946564885496 \n",
      " recall:0.763901549680948 \n",
      ", 'Test':  best_epoch_indx:89\n",
      " auc:0.9312426778405548 \n",
      " apur:0.7849229086340195 \n",
      " f1:0.7033313948658304 \n",
      " precision:0.6461608914669517 \n",
      " recall:0.7716004374772147 \n",
      "}\n",
      "=====Epoch 90\n",
      "Training...\n"
     ]
    },
    {
     "name": "stderr",
     "output_type": "stream",
     "text": [
      "Iteration: 100%|██████████| 109/109 [00:04<00:00, 21.87it/s]\n",
      "Iteration: 100%|██████████| 392/392 [00:18<00:00, 21.57it/s]\n",
      "Iteration: 100%|██████████| 44/44 [00:02<00:00, 21.64it/s]]]\n",
      "Iteration:   0%|          | 0/392 [00:00<?, ?it/s]2.63it/s]]"
     ]
    },
    {
     "name": "stdout",
     "output_type": "stream",
     "text": [
      "{'Train':  best_epoch_indx:91\n",
      " auc:0.9957566670088112 \n",
      " apur:0.9790430292976972 \n",
      " f1:0.8823223765955044 \n",
      " precision:0.7965410344264969 \n",
      " recall:0.9888095599777204 \n",
      ", 'Validation':  best_epoch_indx:91\n",
      " auc:0.9268822932979162 \n",
      " apur:0.7718973757243347 \n",
      " f1:0.6875126084325197 \n",
      " precision:0.6167209554831705 \n",
      " recall:0.7766636280765725 \n",
      ", 'Test':  best_epoch_indx:91\n",
      " auc:0.9283225743292659 \n",
      " apur:0.7706637575609323 \n",
      " f1:0.6885192959793315 \n",
      " precision:0.6179710144927536 \n",
      " recall:0.7772511848341233 \n",
      "}\n",
      "=====Epoch 92\n",
      "Training...\n"
     ]
    },
    {
     "name": "stderr",
     "output_type": "stream",
     "text": [
      "Iteration: 100%|██████████| 392/392 [00:31<00:00, 12.49it/s]\n",
      "Iteration:  54%|█████▍    | 212/392 [00:17<00:14, 12.23it/s]"
     ]
    },
    {
     "name": "stdout",
     "output_type": "stream",
     "text": [
      "Evaluating...\n"
     ]
    },
    {
     "name": "stderr",
     "output_type": "stream",
     "text": [
      "Iteration: 100%|██████████| 109/109 [00:04<00:00, 22.10it/s]\n",
      "Iteration: 100%|██████████| 44/44 [00:02<00:00, 19.40it/s]s]\n",
      "Iteration:  43%|████▎     | 169/392 [00:07<00:09, 22.61it/s]"
     ]
    },
    {
     "name": "stdout",
     "output_type": "stream",
     "text": [
      "{'Train':  best_epoch_indx:91\n",
      " auc:0.9944907411306675 \n",
      " apur:0.9730328277958968 \n",
      " f1:0.8775117232630315 \n",
      " precision:0.7939657292776913 \n",
      " recall:0.9807078839434908 \n",
      ", 'Validation':  best_epoch_indx:91\n",
      " auc:0.9277671061225842 \n",
      " apur:0.7734443934569556 \n",
      " f1:0.6901234567901234 \n",
      " precision:0.6290322580645161 \n",
      " recall:0.7643573381950775 \n",
      ", 'Test':  best_epoch_indx:91\n",
      " auc:0.925287044086514 \n",
      " apur:0.7670218279890908 \n",
      " f1:0.6806071370902632 \n",
      " precision:0.6108695652173913 \n",
      " recall:0.7683193583667517 \n",
      "}\n",
      "=====Epoch 92\n",
      "Training...\n"
     ]
    },
    {
     "name": "stderr",
     "output_type": "stream",
     "text": [
      "Iteration: 100%|██████████| 392/392 [00:32<00:00, 12.22it/s]\n",
      "Iteration:  49%|████▉     | 194/392 [00:15<00:16, 12.00it/s]"
     ]
    },
    {
     "name": "stdout",
     "output_type": "stream",
     "text": [
      "Evaluating...\n"
     ]
    },
    {
     "name": "stderr",
     "output_type": "stream",
     "text": [
      "Iteration: 100%|██████████| 392/392 [00:17<00:00, 21.82it/s]\n",
      "Iteration: 100%|██████████| 392/392 [00:31<00:00, 12.39it/s]\n",
      "Iteration:   0%|          | 0/392 [00:00<?, ?it/s]"
     ]
    },
    {
     "name": "stdout",
     "output_type": "stream",
     "text": [
      "Evaluating...\n"
     ]
    },
    {
     "name": "stderr",
     "output_type": "stream",
     "text": [
      "Iteration: 100%|██████████| 109/109 [00:05<00:00, 19.28it/s]\n",
      "Iteration: 100%|██████████| 44/44 [00:02<00:00, 20.64it/s]s]\n",
      "Iteration:  68%|██████▊   | 268/392 [00:12<00:05, 21.09it/s]"
     ]
    },
    {
     "name": "stdout",
     "output_type": "stream",
     "text": [
      "{'Train':  best_epoch_indx:93\n",
      " auc:0.9911016487635558 \n",
      " apur:0.9585764657846085 \n",
      " f1:0.85734812087468 \n",
      " precision:0.7701367321421368 \n",
      " recall:0.9668337637348726 \n",
      ", 'Validation':  best_epoch_indx:93\n",
      " auc:0.9255275757294819 \n",
      " apur:0.7645202304700052 \n",
      " f1:0.6788000000000001 \n",
      " precision:0.604775481111903 \n",
      " recall:0.7734731084776664 \n",
      ", 'Test':  best_epoch_indx:93\n",
      " auc:0.922363372165564 \n",
      " apur:0.7561926957415523 \n",
      " f1:0.6800520240611282 \n",
      " precision:0.6137030516431925 \n",
      " recall:0.7624863288370397 \n",
      "}\n",
      "=====Epoch 94\n",
      "Training...\n"
     ]
    },
    {
     "name": "stderr",
     "output_type": "stream",
     "text": [
      "Iteration: 100%|██████████| 392/392 [00:31<00:00, 12.38it/s]\n",
      "Iteration:  87%|████████▋ | 340/392 [00:16<00:02, 21.42it/s]"
     ]
    },
    {
     "name": "stdout",
     "output_type": "stream",
     "text": [
      "Evaluating...\n"
     ]
    },
    {
     "name": "stderr",
     "output_type": "stream",
     "text": [
      "Iteration: 100%|██████████| 392/392 [00:18<00:00, 20.79it/s]\n",
      "Iteration: 100%|██████████| 392/392 [00:32<00:00, 12.17it/s]\n",
      "Iteration:  45%|████▌     | 177/392 [00:09<00:10, 20.45it/s]"
     ]
    },
    {
     "name": "stdout",
     "output_type": "stream",
     "text": [
      "Evaluating...\n"
     ]
    },
    {
     "name": "stderr",
     "output_type": "stream",
     "text": [
      "Iteration: 100%|██████████| 109/109 [00:05<00:00, 19.61it/s]\n",
      "Iteration: 100%|██████████| 392/392 [00:18<00:00, 21.24it/s]\n",
      "Iteration: 100%|██████████| 44/44 [00:02<00:00, 21.07it/s]s]\n",
      "Iteration:  64%|██████▎   | 249/392 [00:12<00:06, 21.98it/s]"
     ]
    },
    {
     "name": "stdout",
     "output_type": "stream",
     "text": [
      "{'Train':  best_epoch_indx:91\n",
      " auc:0.996214057493609 \n",
      " apur:0.9809004910972258 \n",
      " f1:0.8928032899246059 \n",
      " precision:0.8134132633945298 \n",
      " recall:0.9893665502050737 \n",
      ", 'Validation':  best_epoch_indx:91\n",
      " auc:0.9248201831045925 \n",
      " apur:0.7675804146849003 \n",
      " f1:0.6887881286067602 \n",
      " precision:0.6289047798268724 \n",
      " recall:0.7612756264236902 \n",
      ", 'Test':  best_epoch_indx:91\n",
      " auc:0.9256807527021748 \n",
      " apur:0.7661030477625164 \n",
      " f1:0.6877612919091729 \n",
      " precision:0.6248138218647602 \n",
      " recall:0.764813126709207 \n",
      "}\n",
      "=====Epoch 92\n",
      "Training...\n"
     ]
    },
    {
     "name": "stderr",
     "output_type": "stream",
     "text": [
      "Iteration: 100%|██████████| 109/109 [00:05<00:00, 21.39it/s]\n",
      "Iteration: 100%|██████████| 392/392 [00:18<00:00, 20.71it/s]\n",
      "Iteration: 100%|██████████| 109/109 [00:04<00:00, 22.05it/s]\n",
      "Iteration: 100%|██████████| 392/392 [00:17<00:00, 22.04it/s]\n",
      "Iteration: 100%|██████████| 392/392 [00:31<00:00, 12.60it/s]\n",
      "Iteration:   0%|          | 0/392 [00:00<?, ?it/s]"
     ]
    },
    {
     "name": "stdout",
     "output_type": "stream",
     "text": [
      "Evaluating...\n"
     ]
    },
    {
     "name": "stderr",
     "output_type": "stream",
     "text": [
      "\r",
      "Iteration:  98%|█████████▊| 43/44 [00:02<00:00, 18.80it/s]\r",
      "Iteration: 100%|██████████| 44/44 [00:02<00:00, 18.94it/s]\n",
      "\r",
      "Iteration:  48%|████▊     | 190/392 [00:15<00:16, 12.34it/s]\r",
      "Iteration:   1%|          | 3/392 [00:00<00:18, 21.01it/s]\r",
      "Iteration:   0%|          | 0/109 [00:00<?, ?it/s]\r",
      "Iteration:   0%|          | 0/392 [00:00<?, ?it/s]\r",
      "Iteration:   2%|▏         | 6/392 [00:00<00:17, 21.60it/s]"
     ]
    },
    {
     "name": "stdout",
     "output_type": "stream",
     "text": [
      "{'Train':  best_epoch_indx:92\n",
      " auc:0.9944669347317239 \n",
      " apur:0.9731969975645458 \n",
      " f1:0.8726929388755256 \n",
      " precision:0.784749737203849 \n",
      " recall:0.9828345739024761 \n",
      ", 'Validation':  best_epoch_indx:92\n",
      " auc:0.924106220328126 \n",
      " apur:0.7616682008819012 \n",
      " f1:0.6746746746746747 \n",
      " precision:0.6015708675473045 \n",
      " recall:0.768003646308113 \n",
      ", 'Test':  best_epoch_indx:92\n",
      " auc:0.9270804594812818 \n",
      " apur:0.7649340817096282 \n",
      " f1:0.6823829244982478 \n",
      " precision:0.6059405940594059 \n",
      " recall:0.7808968282901932 \n",
      "}\n",
      "=====Epoch 93\n",
      "Training...\n"
     ]
    },
    {
     "name": "stderr",
     "output_type": "stream",
     "text": [
      "Iteration: 100%|██████████| 109/109 [00:05<00:00, 21.31it/s]\n",
      "Iteration: 100%|██████████| 44/44 [00:02<00:00, 18.13it/s]s]\n",
      "Iteration:  47%|████▋     | 186/392 [00:08<00:09, 22.05it/s]"
     ]
    },
    {
     "name": "stdout",
     "output_type": "stream",
     "text": [
      "{'Train':  best_epoch_indx:92\n",
      " auc:0.993386219384595 \n",
      " apur:0.9677317471332082 \n",
      " f1:0.8502577995280959 \n",
      " precision:0.7477615955116628 \n",
      " recall:0.9853157121879589 \n",
      ", 'Validation':  best_epoch_indx:92\n",
      " auc:0.9274278761345947 \n",
      " apur:0.7754131135519418 \n",
      " f1:0.6891444162931202 \n",
      " precision:0.6019748042219952 \n",
      " recall:0.8058340929808568 \n",
      ", 'Test':  best_epoch_indx:92\n",
      " auc:0.9233456953219253 \n",
      " apur:0.7635015462901604 \n",
      " f1:0.672933199784267 \n",
      " precision:0.5828106232483652 \n",
      " recall:0.7960262486328837 \n",
      "}\n",
      "=====Epoch 93\n",
      "Training...\n"
     ]
    },
    {
     "name": "stderr",
     "output_type": "stream",
     "text": [
      "Iteration: 100%|██████████| 392/392 [00:31<00:00, 12.26it/s]\n",
      "Iteration:  91%|█████████▏| 358/392 [00:16<00:01, 21.92it/s]"
     ]
    },
    {
     "name": "stdout",
     "output_type": "stream",
     "text": [
      "Evaluating...\n"
     ]
    },
    {
     "name": "stderr",
     "output_type": "stream",
     "text": [
      "Iteration: 100%|██████████| 392/392 [00:18<00:00, 21.57it/s]\n",
      "Iteration: 100%|██████████| 109/109 [00:05<00:00, 21.29it/s]\n",
      "Iteration: 100%|██████████| 44/44 [00:02<00:00, 19.13it/s]s]\n",
      "Iteration:  57%|█████▋    | 222/392 [00:17<00:13, 12.52it/s]"
     ]
    },
    {
     "name": "stdout",
     "output_type": "stream",
     "text": [
      "{'Train':  best_epoch_indx:90\n",
      " auc:0.9969588348501689 \n",
      " apur:0.9846834543820857 \n",
      " f1:0.9125008780350746 \n",
      " precision:0.8486933797909407 \n",
      " recall:0.9866828700187351 \n",
      ", 'Validation':  best_epoch_indx:90\n",
      " auc:0.9283854515158902 \n",
      " apur:0.7783362989068171 \n",
      " f1:0.6989589972381559 \n",
      " precision:0.6545961002785515 \n",
      " recall:0.7497721057429353 \n",
      ", 'Test':  best_epoch_indx:90\n",
      " auc:0.9316165979059295 \n",
      " apur:0.7852863550586449 \n",
      " f1:0.7024765157984628 \n",
      " precision:0.6608290488431876 \n",
      " recall:0.7497265767407948 \n",
      "}\n",
      "=====Epoch 91\n",
      "Training...\n"
     ]
    },
    {
     "name": "stderr",
     "output_type": "stream",
     "text": [
      "Iteration: 100%|██████████| 44/44 [00:01<00:00, 22.47it/s]]]\n",
      "Iteration:  85%|████████▍ | 332/392 [00:26<00:04, 12.55it/s]"
     ]
    },
    {
     "name": "stdout",
     "output_type": "stream",
     "text": [
      "{'Train':  best_epoch_indx:94\n",
      " auc:0.9876036607595595 \n",
      " apur:0.9432020465689153 \n",
      " f1:0.8221340464073147 \n",
      " precision:0.7159974458175262 \n",
      " recall:0.9652134285280267 \n",
      ", 'Validation':  best_epoch_indx:94\n",
      " auc:0.9242566745854589 \n",
      " apur:0.762781196500164 \n",
      " f1:0.6643625192012288 \n",
      " precision:0.5739880557398805 \n",
      " recall:0.7885141294439381 \n",
      ", 'Test':  best_epoch_indx:94\n",
      " auc:0.9189122093376557 \n",
      " apur:0.7458470886117339 \n",
      " f1:0.6617466174661748 \n",
      " precision:0.5721882478064345 \n",
      " recall:0.7845424717462632 \n",
      "}\n",
      "=====Epoch 95\n",
      "Training...\n"
     ]
    },
    {
     "name": "stderr",
     "output_type": "stream",
     "text": [
      "Iteration: 100%|██████████| 392/392 [00:31<00:00, 12.40it/s]\n",
      "Iteration:  16%|█▌        | 62/392 [00:04<00:25, 12.85it/s]"
     ]
    },
    {
     "name": "stdout",
     "output_type": "stream",
     "text": [
      "Evaluating...\n"
     ]
    },
    {
     "name": "stderr",
     "output_type": "stream",
     "text": [
      "Iteration: 100%|██████████| 392/392 [00:19<00:00, 20.27it/s]\n",
      "Iteration: 100%|██████████| 392/392 [00:31<00:00, 12.55it/s]\n",
      "Iteration:  44%|████▎     | 171/392 [00:07<00:10, 21.77it/s]"
     ]
    },
    {
     "name": "stdout",
     "output_type": "stream",
     "text": [
      "Evaluating...\n"
     ]
    },
    {
     "name": "stderr",
     "output_type": "stream",
     "text": [
      "Iteration: 100%|██████████| 109/109 [00:05<00:00, 21.79it/s]\n",
      "Iteration: 100%|██████████| 44/44 [00:02<00:00, 21.94it/s]s]\n",
      "Iteration:  59%|█████▊    | 230/392 [00:18<00:13, 12.09it/s]"
     ]
    },
    {
     "name": "stdout",
     "output_type": "stream",
     "text": [
      "{'Train':  best_epoch_indx:92\n",
      " auc:0.9947046942182463 \n",
      " apur:0.9746068122150093 \n",
      " f1:0.8796731358529111 \n",
      " precision:0.7972105652925203 \n",
      " recall:0.9811636032204162 \n",
      ", 'Validation':  best_epoch_indx:92\n",
      " auc:0.9250916277790265 \n",
      " apur:0.7723360503105943 \n",
      " f1:0.6903512313282197 \n",
      " precision:0.6197897789054005 \n",
      " recall:0.7790432801822323 \n",
      ", 'Test':  best_epoch_indx:92\n",
      " auc:0.9262980608514586 \n",
      " apur:0.7681722951923495 \n",
      " f1:0.6889233531956575 \n",
      " precision:0.6237067691398167 \n",
      " recall:0.7693710118505014 \n",
      "}\n",
      "=====Epoch 93\n",
      "Training...\n"
     ]
    },
    {
     "name": "stderr",
     "output_type": "stream",
     "text": [
      "Iteration: 100%|██████████| 392/392 [00:18<00:00, 21.03it/s]\n",
      "Iteration: 100%|██████████| 109/109 [00:04<00:00, 21.96it/s]\n",
      "Iteration: 100%|██████████| 392/392 [00:31<00:00, 12.36it/s]\n",
      "Iteration:  41%|████▏     | 162/392 [00:13<00:18, 12.21it/s]"
     ]
    },
    {
     "name": "stdout",
     "output_type": "stream",
     "text": [
      "Evaluating...\n"
     ]
    },
    {
     "name": "stderr",
     "output_type": "stream",
     "text": [
      "Iteration: 100%|██████████| 392/392 [00:18<00:00, 21.35it/s]\n",
      "Iteration: 100%|██████████| 392/392 [00:31<00:00, 12.61it/s]\n",
      "Iteration:   1%|          | 3/392 [00:00<00:18, 21.24it/s]s]"
     ]
    },
    {
     "name": "stdout",
     "output_type": "stream",
     "text": [
      "Evaluating...\n"
     ]
    },
    {
     "name": "stderr",
     "output_type": "stream",
     "text": [
      "Iteration: 100%|██████████| 44/44 [00:02<00:00, 19.96it/s]]]\n",
      "Iteration:   7%|▋         | 27/392 [00:01<00:16, 21.71it/s]]"
     ]
    },
    {
     "name": "stdout",
     "output_type": "stream",
     "text": [
      "{'Train':  best_epoch_indx:93\n",
      " auc:0.9922751914397101 \n",
      " apur:0.9636318037034658 \n",
      " f1:0.8682283044967005 \n",
      " precision:0.7862012320328542 \n",
      " recall:0.9693655374955694 \n",
      ", 'Validation':  best_epoch_indx:93\n",
      " auc:0.92227885028029 \n",
      " apur:0.7559466459341316 \n",
      " f1:0.6745852959246366 \n",
      " precision:0.612495351431759 \n",
      " recall:0.7506836827711941 \n",
      ", 'Test':  best_epoch_indx:93\n",
      " auc:0.9255567096491237 \n",
      " apur:0.7605544367126673 \n",
      " f1:0.6862343199147332 \n",
      " precision:0.6236030397854269 \n",
      " recall:0.7628508931826468 \n",
      "}\n",
      "=====Epoch 94\n",
      "Training...\n"
     ]
    },
    {
     "name": "stderr",
     "output_type": "stream",
     "text": [
      "Iteration: 100%|██████████| 109/109 [00:05<00:00, 20.15it/s]\n",
      "Iteration: 100%|██████████| 44/44 [00:02<00:00, 15.81it/s]s]\n",
      "Iteration:  73%|███████▎  | 286/392 [00:23<00:08, 12.34it/s]"
     ]
    },
    {
     "name": "stdout",
     "output_type": "stream",
     "text": [
      "{'Train':  best_epoch_indx:93\n",
      " auc:0.9912971234421711 \n",
      " apur:0.9587153070275536 \n",
      " f1:0.8580791416964065 \n",
      " precision:0.7706418319625867 \n",
      " recall:0.9678971087143653 \n",
      ", 'Validation':  best_epoch_indx:93\n",
      " auc:0.9246085525474027 \n",
      " apur:0.7651589565823945 \n",
      " f1:0.6883169934640523 \n",
      " precision:0.6236121391561806 \n",
      " recall:0.768003646308113 \n",
      ", 'Test':  best_epoch_indx:93\n",
      " auc:0.9224220965188131 \n",
      " apur:0.761244620055074 \n",
      " f1:0.6798647996137133 \n",
      " precision:0.6086455331412104 \n",
      " recall:0.7699598979219833 \n",
      "}\n",
      "=====Epoch 94\n",
      "Training...\n"
     ]
    },
    {
     "name": "stderr",
     "output_type": "stream",
     "text": [
      "Iteration: 100%|██████████| 392/392 [00:18<00:00, 21.64it/s]\n",
      "Iteration: 100%|██████████| 392/392 [00:18<00:00, 21.16it/s]\n",
      "Iteration: 100%|██████████| 392/392 [00:32<00:00, 12.20it/s]\n",
      "Iteration:   0%|          | 0/392 [00:00<?, ?it/s]"
     ]
    },
    {
     "name": "stdout",
     "output_type": "stream",
     "text": [
      "Evaluating...\n"
     ]
    },
    {
     "name": "stderr",
     "output_type": "stream",
     "text": [
      "Iteration: 100%|██████████| 109/109 [00:04<00:00, 21.87it/s]\n",
      "Iteration: 100%|██████████| 109/109 [00:05<00:00, 20.85it/s]\n",
      "Iteration: 100%|██████████| 44/44 [00:02<00:00, 16.36it/s]s]\n",
      "Iteration:   0%|          | 0/392 [00:00<?, ?it/s]12.59it/s]"
     ]
    },
    {
     "name": "stdout",
     "output_type": "stream",
     "text": [
      "{'Train':  best_epoch_indx:91\n",
      " auc:0.995730435560373 \n",
      " apur:0.978953011331622 \n",
      " f1:0.8928398923568784 \n",
      " precision:0.8179787592717465 \n",
      " recall:0.9827839384272622 \n",
      ", 'Validation':  best_epoch_indx:91\n",
      " auc:0.9270670627880665 \n",
      " apur:0.7729911353280242 \n",
      " f1:0.697346600331675 \n",
      " precision:0.6395437262357414 \n",
      " recall:0.7666362807657247 \n",
      ", 'Test':  best_epoch_indx:91\n",
      " auc:0.9277527527561118 \n",
      " apur:0.7744997529242573 \n",
      " f1:0.6950448952444297 \n",
      " precision:0.6389483338428615 \n",
      " recall:0.7619394823186293 \n",
      "}\n",
      "=====Epoch 92\n",
      "Training...\n"
     ]
    },
    {
     "name": "stderr",
     "output_type": "stream",
     "text": [
      "Iteration: 100%|██████████| 44/44 [00:02<00:00, 21.09it/s]s]\n",
      "Iteration:  50%|█████     | 197/392 [00:09<00:09, 21.06it/s]"
     ]
    },
    {
     "name": "stdout",
     "output_type": "stream",
     "text": [
      "{'Train':  best_epoch_indx:95\n",
      " auc:0.9908702035633625 \n",
      " apur:0.9573293002710934 \n",
      " f1:0.8503762726870296 \n",
      " precision:0.7553772954268413 \n",
      " recall:0.9727074788596891 \n",
      ", 'Validation':  best_epoch_indx:95\n",
      " auc:0.9272545800138519 \n",
      " apur:0.7708216153149886 \n",
      " f1:0.6783649052841476 \n",
      " precision:0.6029776674937966 \n",
      " recall:0.7752962625341842 \n",
      ", 'Test':  best_epoch_indx:95\n",
      " auc:0.9230154676950875 \n",
      " apur:0.759966849726029 \n",
      " f1:0.6842988413903316 \n",
      " precision:0.6091904965144401 \n",
      " recall:0.7805322639445862 \n",
      "}\n",
      "=====Epoch 96\n",
      "Training...\n"
     ]
    },
    {
     "name": "stderr",
     "output_type": "stream",
     "text": [
      "Iteration: 100%|██████████| 392/392 [00:32<00:00, 12.16it/s]\n",
      "Iteration:   1%|          | 3/392 [00:00<00:18, 20.97it/s]]]"
     ]
    },
    {
     "name": "stdout",
     "output_type": "stream",
     "text": [
      "Evaluating...\n"
     ]
    },
    {
     "name": "stderr",
     "output_type": "stream",
     "text": [
      "Iteration: 100%|██████████| 392/392 [00:18<00:00, 20.82it/s]\n",
      "Iteration: 100%|██████████| 392/392 [00:31<00:00, 12.51it/s]\n",
      "Iteration:  45%|████▍     | 176/392 [00:14<00:16, 12.75it/s]"
     ]
    },
    {
     "name": "stdout",
     "output_type": "stream",
     "text": [
      "Evaluating...\n"
     ]
    },
    {
     "name": "stderr",
     "output_type": "stream",
     "text": [
      "Iteration: 100%|██████████| 109/109 [00:05<00:00, 19.97it/s]\n",
      "Iteration: 100%|██████████| 44/44 [00:02<00:00, 21.40it/s]s]\n",
      "Iteration:  71%|███████   | 277/392 [00:13<00:05, 21.67it/s]"
     ]
    },
    {
     "name": "stdout",
     "output_type": "stream",
     "text": [
      "{'Train':  best_epoch_indx:93\n",
      " auc:0.9927829354125243 \n",
      " apur:0.965946568226414 \n",
      " f1:0.8488789630408128 \n",
      " precision:0.747791536473402 \n",
      " recall:0.9815686870221277 \n",
      ", 'Validation':  best_epoch_indx:93\n",
      " auc:0.9229304283064002 \n",
      " apur:0.7607017912956955 \n",
      " f1:0.6767383304280457 \n",
      " precision:0.5886118598382749 \n",
      " recall:0.7958997722095672 \n",
      ", 'Test':  best_epoch_indx:93\n",
      " auc:0.9237387244365741 \n",
      " apur:0.7601901095236252 \n",
      " f1:0.6743860739819707 \n",
      " precision:0.5877014763646214 \n",
      " recall:0.7910665451230628 \n",
      "}\n",
      "=====Epoch 94\n",
      "Training...\n"
     ]
    },
    {
     "name": "stderr",
     "output_type": "stream",
     "text": [
      "Iteration: 100%|██████████| 392/392 [00:18<00:00, 20.99it/s]\n",
      "Iteration: 100%|██████████| 109/109 [00:05<00:00, 21.56it/s]\n",
      "Iteration: 100%|██████████| 392/392 [00:31<00:00, 12.48it/s]\n",
      "Iteration:  98%|█████████▊| 386/392 [00:30<00:00, 12.71it/s]"
     ]
    },
    {
     "name": "stdout",
     "output_type": "stream",
     "text": [
      "Evaluating...\n"
     ]
    },
    {
     "name": "stderr",
     "output_type": "stream",
     "text": [
      "Iteration: 100%|██████████| 392/392 [00:31<00:00, 12.46it/s]\n",
      "Iteration:  96%|█████████▌| 377/392 [00:18<00:00, 21.83it/s]"
     ]
    },
    {
     "name": "stdout",
     "output_type": "stream",
     "text": [
      "Evaluating...\n"
     ]
    },
    {
     "name": "stderr",
     "output_type": "stream",
     "text": [
      "Iteration: 100%|██████████| 392/392 [00:18<00:00, 20.89it/s]\n",
      "Iteration: 100%|██████████| 44/44 [00:02<00:00, 19.64it/s]]]\n",
      "Iteration:   1%|          | 2/392 [00:00<00:33, 11.51it/s]]]"
     ]
    },
    {
     "name": "stdout",
     "output_type": "stream",
     "text": [
      "{'Train':  best_epoch_indx:94\n",
      " auc:0.9886336742826297 \n",
      " apur:0.9480257259347664 \n",
      " f1:0.8385859743465421 \n",
      " precision:0.7424390243902439 \n",
      " recall:0.9633399159451111 \n",
      ", 'Validation':  best_epoch_indx:94\n",
      " auc:0.9169314630832279 \n",
      " apur:0.7442074605966236 \n",
      " f1:0.6647024160282852 \n",
      " precision:0.5840524680704177 \n",
      " recall:0.7711941659070192 \n",
      ", 'Test':  best_epoch_indx:94\n",
      " auc:0.922233692685398 \n",
      " apur:0.751851549730751 \n",
      " f1:0.6737857933871223 \n",
      " precision:0.5951648965902739 \n",
      " recall:0.7763397739701057 \n",
      "}\n",
      "=====Epoch 95\n",
      "Training...\n"
     ]
    },
    {
     "name": "stderr",
     "output_type": "stream",
     "text": [
      "Iteration: 100%|██████████| 109/109 [00:05<00:00, 19.34it/s]\n",
      "Iteration: 100%|██████████| 44/44 [00:02<00:00, 19.75it/s]s]\n",
      "Iteration:  71%|███████   | 278/392 [00:22<00:09, 12.11it/s]"
     ]
    },
    {
     "name": "stdout",
     "output_type": "stream",
     "text": [
      "{'Train':  best_epoch_indx:94\n",
      " auc:0.9888423614576138 \n",
      " apur:0.9496744918292178 \n",
      " f1:0.8376914949815109 \n",
      " precision:0.7409181170424016 \n",
      " recall:0.9635424578459669 \n",
      ", 'Validation':  best_epoch_indx:94\n",
      " auc:0.9209438073380063 \n",
      " apur:0.7599485977606157 \n",
      " f1:0.6700929037359161 \n",
      " precision:0.5916230366492147 \n",
      " recall:0.7725615314494074 \n",
      ", 'Test':  best_epoch_indx:94\n",
      " auc:0.9183476235129506 \n",
      " apur:0.7512438599872514 \n",
      " f1:0.6638052130482285 \n",
      " precision:0.5803766375545851 \n",
      " recall:0.7752460809332847 \n",
      "}\n",
      "=====Epoch 95\n",
      "Training...\n"
     ]
    },
    {
     "name": "stderr",
     "output_type": "stream",
     "text": [
      "Iteration: 100%|██████████| 392/392 [00:18<00:00, 21.63it/s]\n",
      "Iteration: 100%|██████████| 392/392 [00:17<00:00, 21.78it/s]\n",
      "Iteration: 100%|██████████| 392/392 [00:32<00:00, 12.22it/s]\n",
      "Iteration:   1%|          | 3/392 [00:00<00:18, 20.87it/s]]]"
     ]
    },
    {
     "name": "stdout",
     "output_type": "stream",
     "text": [
      "Evaluating...\n"
     ]
    },
    {
     "name": "stderr",
     "output_type": "stream",
     "text": [
      "Iteration: 100%|██████████| 109/109 [00:05<00:00, 20.51it/s]\n",
      "Iteration: 100%|██████████| 109/109 [00:05<00:00, 21.14it/s]\n",
      "Iteration: 100%|██████████| 44/44 [00:02<00:00, 21.83it/s]s]\n",
      "Iteration:  51%|█████     | 200/392 [00:16<00:15, 12.48it/s]"
     ]
    },
    {
     "name": "stdout",
     "output_type": "stream",
     "text": [
      "{'Train':  best_epoch_indx:92\n",
      " auc:0.9940050822236027 \n",
      " apur:0.9714688831933151 \n",
      " f1:0.8636191578900492 \n",
      " precision:0.7707256974803275 \n",
      " recall:0.9819737708238392 \n",
      ", 'Validation':  best_epoch_indx:92\n",
      " auc:0.9227507057066064 \n",
      " apur:0.7650153739269899 \n",
      " f1:0.6743814844373504 \n",
      " precision:0.5997161107168204 \n",
      " recall:0.7702825888787602 \n",
      ", 'Test':  best_epoch_indx:92\n",
      " auc:0.9252305171498262 \n",
      " apur:0.765851632985523 \n",
      " f1:0.6818832511531733 \n",
      " precision:0.6048250564334086 \n",
      " recall:0.7814436748086038 \n",
      "}\n",
      "=====Epoch 93\n",
      "Training...\n"
     ]
    },
    {
     "name": "stderr",
     "output_type": "stream",
     "text": [
      "Iteration: 100%|██████████| 44/44 [00:02<00:00, 19.93it/s]s]\n",
      "Iteration:   0%|          | 0/392 [00:00<?, ?it/s]21.32it/s]"
     ]
    },
    {
     "name": "stdout",
     "output_type": "stream",
     "text": [
      "{'Train':  best_epoch_indx:96\n",
      " auc:0.9930062472629698 \n",
      " apur:0.9664593030863184 \n",
      " f1:0.8527472527472527 \n",
      " precision:0.7533688012116034 \n",
      " recall:0.9823282191503367 \n",
      ", 'Validation':  best_epoch_indx:96\n",
      " auc:0.9290945560854794 \n",
      " apur:0.7769603200249835 \n",
      " f1:0.6777950310559006 \n",
      " precision:0.59026369168357 \n",
      " recall:0.7958067456700091 \n",
      ", 'Test':  best_epoch_indx:96\n",
      " auc:0.9241240170075261 \n",
      " apur:0.7651408777861292 \n",
      " f1:0.6798518635253329 \n",
      " precision:0.5987508674531575 \n",
      " recall:0.7863652934742982 \n",
      "}\n",
      "=====Epoch 97\n",
      "Training...\n"
     ]
    },
    {
     "name": "stderr",
     "output_type": "stream",
     "text": [
      "Iteration: 100%|██████████| 392/392 [00:31<00:00, 12.37it/s]\n",
      "Iteration:  21%|██        | 82/392 [00:06<00:24, 12.62it/s]]"
     ]
    },
    {
     "name": "stdout",
     "output_type": "stream",
     "text": [
      "Evaluating...\n"
     ]
    },
    {
     "name": "stderr",
     "output_type": "stream",
     "text": [
      "Iteration: 100%|██████████| 392/392 [00:19<00:00, 20.13it/s]\n",
      "Iteration: 100%|██████████| 392/392 [00:31<00:00, 12.50it/s]\n",
      "Iteration:  47%|████▋     | 184/392 [00:14<00:16, 12.50it/s]"
     ]
    },
    {
     "name": "stdout",
     "output_type": "stream",
     "text": [
      "Evaluating...\n"
     ]
    },
    {
     "name": "stderr",
     "output_type": "stream",
     "text": [
      "Iteration: 100%|██████████| 109/109 [00:05<00:00, 19.41it/s]\n",
      "Iteration: 100%|██████████| 44/44 [00:02<00:00, 19.07it/s]s]\n",
      "Iteration:  41%|████      | 161/392 [00:07<00:10, 22.41it/s]"
     ]
    },
    {
     "name": "stdout",
     "output_type": "stream",
     "text": [
      "{'Train':  best_epoch_indx:94\n",
      " auc:0.9919027917408914 \n",
      " apur:0.962588937526508 \n",
      " f1:0.8660331571904837 \n",
      " precision:0.784300032862307 \n",
      " recall:0.9667831282596587 \n",
      ", 'Validation':  best_epoch_indx:94\n",
      " auc:0.9179914603748646 \n",
      " apur:0.7518383173279308 \n",
      " f1:0.67461949814891 \n",
      " precision:0.6149231346081739 \n",
      " recall:0.7471526195899773 \n",
      ", 'Test':  best_epoch_indx:94\n",
      " auc:0.9194250050009195 \n",
      " apur:0.752984223547813 \n",
      " f1:0.6777550184350677 \n",
      " precision:0.6154761904761905 \n",
      " recall:0.754056517775752 \n",
      "}\n",
      "=====Epoch 95\n",
      "Training...\n"
     ]
    },
    {
     "name": "stderr",
     "output_type": "stream",
     "text": [
      "Iteration: 100%|██████████| 392/392 [00:17<00:00, 21.89it/s]\n",
      "Iteration: 100%|██████████| 109/109 [00:05<00:00, 20.68it/s]\n",
      "Iteration: 100%|██████████| 392/392 [00:31<00:00, 12.36it/s]\n",
      "Iteration:  99%|█████████▉| 388/392 [00:31<00:00, 12.64it/s]"
     ]
    },
    {
     "name": "stdout",
     "output_type": "stream",
     "text": [
      "Evaluating...\n"
     ]
    },
    {
     "name": "stderr",
     "output_type": "stream",
     "text": [
      "Iteration: 100%|██████████| 392/392 [00:31<00:00, 12.46it/s]\n",
      "Iteration:  96%|█████████▌| 377/392 [00:16<00:00, 21.94it/s]"
     ]
    },
    {
     "name": "stdout",
     "output_type": "stream",
     "text": [
      "Evaluating...\n"
     ]
    },
    {
     "name": "stderr",
     "output_type": "stream",
     "text": [
      "Iteration: 100%|██████████| 392/392 [00:17<00:00, 22.30it/s]\n",
      "Iteration: 100%|██████████| 44/44 [00:02<00:00, 20.21it/s]]]\n",
      "Iteration:   1%|          | 2/392 [00:00<00:34, 11.44it/s]]]"
     ]
    },
    {
     "name": "stdout",
     "output_type": "stream",
     "text": [
      "{'Train':  best_epoch_indx:95\n",
      " auc:0.9922882376848657 \n",
      " apur:0.9639833643585736 \n",
      " f1:0.8485674107927579 \n",
      " precision:0.7495245118969064 \n",
      " recall:0.9777710263810826 \n",
      ", 'Validation':  best_epoch_indx:95\n",
      " auc:0.9242773560155064 \n",
      " apur:0.7632266153658592 \n",
      " f1:0.677115987460815 \n",
      " precision:0.5938144329896907 \n",
      " recall:0.7876025524156791 \n",
      ", 'Test':  best_epoch_indx:95\n",
      " auc:0.9268576690403552 \n",
      " apur:0.7616446210374594 \n",
      " f1:0.6786712201179758 \n",
      " precision:0.590970532576372 \n",
      " recall:0.7969376594969012 \n",
      "}\n",
      "=====Epoch 96\n",
      "Training...\n"
     ]
    },
    {
     "name": "stderr",
     "output_type": "stream",
     "text": [
      "Iteration: 100%|██████████| 109/109 [00:05<00:00, 19.71it/s]\n",
      "Iteration: 100%|██████████| 44/44 [00:02<00:00, 20.28it/s]s]\n",
      "Iteration:  26%|██▌       | 100/392 [00:08<00:23, 12.32it/s]"
     ]
    },
    {
     "name": "stdout",
     "output_type": "stream",
     "text": [
      "{'Train':  best_epoch_indx:95\n",
      " auc:0.9907929321676555 \n",
      " apur:0.9569504050895316 \n",
      " f1:0.8362199939228198 \n",
      " precision:0.7317758784425451 \n",
      " recall:0.9754417945212416 \n",
      ", 'Validation':  best_epoch_indx:95\n",
      " auc:0.9251777743005757 \n",
      " apur:0.7669306674728215 \n",
      " f1:0.6761165048543689 \n",
      " precision:0.5889715832205683 \n",
      " recall:0.7935278030993619 \n",
      ", 'Test':  best_epoch_indx:95\n",
      " auc:0.9222394519293187 \n",
      " apur:0.7601796860583984 \n",
      " f1:0.6714746048795458 \n",
      " precision:0.5797562268150503 \n",
      " recall:0.7976667881881152 \n",
      "}\n",
      "=====Epoch 96\n",
      "Training...\n"
     ]
    },
    {
     "name": "stderr",
     "output_type": "stream",
     "text": [
      "Iteration: 100%|██████████| 392/392 [00:18<00:00, 20.94it/s]\n",
      "Iteration: 100%|██████████| 392/392 [00:18<00:00, 21.21it/s]\n",
      "Iteration: 100%|██████████| 392/392 [00:32<00:00, 12.22it/s]\n",
      "Iteration:   0%|          | 0/392 [00:00<?, ?it/s]"
     ]
    },
    {
     "name": "stdout",
     "output_type": "stream",
     "text": [
      "Evaluating...\n"
     ]
    },
    {
     "name": "stderr",
     "output_type": "stream",
     "text": [
      "Iteration: 100%|██████████| 109/109 [00:05<00:00, 21.76it/s]\n",
      "Iteration: 100%|██████████| 109/109 [00:05<00:00, 21.39it/s]\n",
      "Iteration: 100%|██████████| 44/44 [00:02<00:00, 21.57it/s]s]\n",
      "Iteration:  79%|███████▊  | 308/392 [00:25<00:06, 12.38it/s]"
     ]
    },
    {
     "name": "stdout",
     "output_type": "stream",
     "text": [
      "{'Train':  best_epoch_indx:97\n",
      " auc:0.994359756291925 \n",
      " apur:0.9723159438884565 \n",
      " f1:0.8745640679491506 \n",
      " precision:0.7869695497246517 \n",
      " recall:0.9841004607828244 \n",
      ", 'Validation':  best_epoch_indx:97\n",
      " auc:0.9289609028681746 \n",
      " apur:0.771807625022379 \n",
      " f1:0.6816901408450704 \n",
      " precision:0.6102305475504323 \n",
      " recall:0.772105742935278 \n",
      ", 'Test':  best_epoch_indx:97\n",
      " auc:0.9262460448647847 \n",
      " apur:0.7664555401557517 \n",
      " f1:0.6895772829945144 \n",
      " precision:0.6185238784370477 \n",
      " recall:0.7790740065621582 \n",
      "}\n",
      "=====Epoch 98\n",
      "Training...\n"
     ]
    },
    {
     "name": "stderr",
     "output_type": "stream",
     "text": [
      "\r",
      "Iteration:   1%|          | 2/392 [00:00<00:35, 11.02it/s]\r",
      "Iteration: 100%|██████████| 44/44 [00:02<00:00, 16.36it/s]\n",
      "\r",
      "Iteration:  28%|██▊       | 111/392 [00:05<00:13, 21.30it/s]\r",
      "Iteration:  56%|█████▌    | 218/392 [00:17<00:14, 12.38it/s]\r",
      "Iteration:  79%|███████▉  | 310/392 [00:25<00:06, 12.35it/s]\r",
      "Iteration:   1%|          | 4/392 [00:00<00:33, 11.73it/s]\r",
      "Iteration:   0%|          | 0/392 [00:00<?, ?it/s]"
     ]
    },
    {
     "name": "stdout",
     "output_type": "stream",
     "text": [
      "{'Train':  best_epoch_indx:93\n",
      " auc:0.9940012532177833 \n",
      " apur:0.9715463002496292 \n",
      " f1:0.8812014927081664 \n",
      " precision:0.8042206435436691 \n",
      " recall:0.9744797204921768 \n",
      ", 'Validation':  best_epoch_indx:93\n",
      " auc:0.9232308253149093 \n",
      " apur:0.7594094519135841 \n",
      " f1:0.685383980181668 \n",
      " precision:0.6264150943396226 \n",
      " recall:0.7566089334548769 \n",
      ", 'Test':  best_epoch_indx:93\n",
      " auc:0.9261469649347085 \n",
      " apur:0.7692392760243068 \n",
      " f1:0.6863602607475865 \n",
      " precision:0.6270164329865823 \n",
      " recall:0.7581115566897557 \n",
      "}\n",
      "=====Epoch 94\n",
      "Training...\n"
     ]
    },
    {
     "name": "stderr",
     "output_type": "stream",
     "text": [
      "Iteration: 100%|██████████| 392/392 [00:32<00:00, 12.11it/s]\n",
      "Iteration:  67%|██████▋   | 261/392 [00:12<00:06, 21.45it/s]"
     ]
    },
    {
     "name": "stdout",
     "output_type": "stream",
     "text": [
      "Evaluating...\n"
     ]
    },
    {
     "name": "stderr",
     "output_type": "stream",
     "text": [
      "Iteration: 100%|██████████| 392/392 [00:18<00:00, 21.53it/s]\n",
      "Iteration: 100%|██████████| 392/392 [00:31<00:00, 12.46it/s]\n",
      "Iteration:   0%|          | 0/109 [00:00<?, ?it/s]21.85it/s]"
     ]
    },
    {
     "name": "stdout",
     "output_type": "stream",
     "text": [
      "Evaluating...\n"
     ]
    },
    {
     "name": "stderr",
     "output_type": "stream",
     "text": [
      "Iteration: 100%|██████████| 109/109 [00:05<00:00, 20.22it/s]\n",
      "Iteration: 100%|██████████| 44/44 [00:02<00:00, 19.51it/s]s]\n",
      "Iteration:  70%|███████   | 276/392 [00:22<00:09, 12.60it/s]"
     ]
    },
    {
     "name": "stdout",
     "output_type": "stream",
     "text": [
      "{'Train':  best_epoch_indx:95\n",
      " auc:0.9933820349512219 \n",
      " apur:0.9691407836357339 \n",
      " f1:0.8736573821227017 \n",
      " precision:0.7933870634428601 \n",
      " recall:0.971998582206694 \n",
      ", 'Validation':  best_epoch_indx:95\n",
      " auc:0.923410583029445 \n",
      " apur:0.7603369040538434 \n",
      " f1:0.6851889683350357 \n",
      " precision:0.6211111111111111 \n",
      " recall:0.7640091116173121 \n",
      ", 'Test':  best_epoch_indx:95\n",
      " auc:0.9242544199403112 \n",
      " apur:0.7599560016967346 \n",
      " f1:0.6826789081072219 \n",
      " precision:0.6201966041108132 \n",
      " recall:0.7591613491340018 \n",
      "}\n",
      "=====Epoch 96\n",
      "Training...\n"
     ]
    },
    {
     "name": "stderr",
     "output_type": "stream",
     "text": [
      "Iteration: 100%|██████████| 392/392 [00:19<00:00, 20.55it/s]\n",
      "Iteration: 100%|██████████| 392/392 [00:31<00:00, 12.45it/s]\n",
      "Iteration:  28%|██▊       | 110/392 [00:09<00:23, 12.18it/s]"
     ]
    },
    {
     "name": "stdout",
     "output_type": "stream",
     "text": [
      "Evaluating...\n"
     ]
    },
    {
     "name": "stderr",
     "output_type": "stream",
     "text": [
      "Iteration: 100%|██████████| 392/392 [00:31<00:00, 12.35it/s]\n",
      "Iteration:   4%|▍         | 16/392 [00:00<00:18, 20.32it/s]]"
     ]
    },
    {
     "name": "stdout",
     "output_type": "stream",
     "text": [
      "Evaluating...\n"
     ]
    },
    {
     "name": "stderr",
     "output_type": "stream",
     "text": [
      "Iteration: 100%|██████████| 392/392 [00:17<00:00, 21.80it/s]\n",
      "Iteration: 100%|██████████| 109/109 [00:05<00:00, 20.04it/s]\n",
      "Iteration: 100%|██████████| 44/44 [00:02<00:00, 21.60it/s]s]\n",
      "Iteration:  36%|███▌      | 39/109 [00:01<00:03, 22.26it/s]"
     ]
    },
    {
     "name": "stdout",
     "output_type": "stream",
     "text": [
      "{'Train':  best_epoch_indx:96\n",
      " auc:0.993546696830814 \n",
      " apur:0.9691158741571665 \n",
      " f1:0.8565883779909582 \n",
      " precision:0.7587513674011565 \n",
      " recall:0.9833915641298293 \n",
      ", 'Validation':  best_epoch_indx:96\n",
      " auc:0.9254491708760157 \n",
      " apur:0.7641573834592797 \n",
      " f1:0.6726597615790502 \n",
      " precision:0.5887786520697913 \n",
      " recall:0.784412032816773 \n",
      ", 'Test':  best_epoch_indx:96\n",
      " auc:0.9270382397379915 \n",
      " apur:0.7629110276560043 \n",
      " f1:0.6773167894532764 \n",
      " precision:0.5894182750708598 \n",
      " recall:0.7960262486328837 \n",
      "}\n",
      "=====Epoch 97\n",
      "Training...\n"
     ]
    },
    {
     "name": "stderr",
     "output_type": "stream",
     "text": [
      "Iteration: 100%|██████████| 109/109 [00:04<00:00, 22.45it/s]\n",
      "Iteration: 100%|██████████| 44/44 [00:01<00:00, 22.49it/s]s]\n",
      "Iteration:  57%|█████▋    | 224/392 [00:18<00:13, 12.29it/s]"
     ]
    },
    {
     "name": "stdout",
     "output_type": "stream",
     "text": [
      "{'Train':  best_epoch_indx:96\n",
      " auc:0.9934463402396816 \n",
      " apur:0.9686330716151745 \n",
      " f1:0.8728211164938652 \n",
      " precision:0.7892732855680655 \n",
      " recall:0.9761506911742367 \n",
      ", 'Validation':  best_epoch_indx:96\n",
      " auc:0.924420888496049 \n",
      " apur:0.7739110908524124 \n",
      " f1:0.6898373983739838 \n",
      " precision:0.6225238444607484 \n",
      " recall:0.7734731084776664 \n",
      ", 'Test':  best_epoch_indx:96\n",
      " auc:0.9245379891887073 \n",
      " apur:0.7684896960721841 \n",
      " f1:0.6809303833373855 \n",
      " precision:0.6130161972858602 \n",
      " recall:0.7657674079475028 \n",
      "}\n",
      "=====Epoch 97\n",
      "Training...\n"
     ]
    },
    {
     "name": "stderr",
     "output_type": "stream",
     "text": [
      "Iteration: 100%|██████████| 392/392 [00:17<00:00, 22.03it/s]\n",
      "Iteration: 100%|██████████| 392/392 [00:19<00:00, 20.54it/s]\n",
      "Iteration: 100%|██████████| 392/392 [00:32<00:00, 12.17it/s]\n",
      "Iteration:   1%|          | 2/392 [00:00<00:20, 18.70it/s]]]"
     ]
    },
    {
     "name": "stdout",
     "output_type": "stream",
     "text": [
      "Evaluating...\n"
     ]
    },
    {
     "name": "stderr",
     "output_type": "stream",
     "text": [
      "Iteration: 100%|██████████| 109/109 [00:05<00:00, 21.67it/s]\n",
      "Iteration: 100%|██████████| 109/109 [00:05<00:00, 21.41it/s]\n",
      "Iteration: 100%|██████████| 44/44 [00:02<00:00, 21.79it/s]s]\n",
      "Iteration:  14%|█▎        | 6/44 [00:00<00:01, 21.72it/s]/s]"
     ]
    },
    {
     "name": "stdout",
     "output_type": "stream",
     "text": [
      "{'Train':  best_epoch_indx:98\n",
      " auc:0.9964287157810102 \n",
      " apur:0.9821871643030746 \n",
      " f1:0.8845008124210146 \n",
      " precision:0.7978259984529577 \n",
      " recall:0.9923034077674819 \n",
      ", 'Validation':  best_epoch_indx:98\n",
      " auc:0.93229117943301 \n",
      " apur:0.7856054393682302 \n",
      " f1:0.6870259481037924 \n",
      " precision:0.6111505681818182 \n",
      " recall:0.784412032816773 \n",
      ", 'Test':  best_epoch_indx:98\n",
      " auc:0.9297280947857097 \n",
      " apur:0.7791085810061716 \n",
      " f1:0.6977043898509867 \n",
      " precision:0.6250541203636888 \n",
      " recall:0.7894640904119578 \n",
      "}\n",
      "=====Epoch 99\n",
      "Training...\n"
     ]
    },
    {
     "name": "stderr",
     "output_type": "stream",
     "text": [
      "Iteration: 100%|██████████| 44/44 [00:02<00:00, 21.77it/s]]]\n",
      "Iteration:  61%|██████    | 238/392 [00:19<00:12, 12.74it/s]"
     ]
    },
    {
     "name": "stdout",
     "output_type": "stream",
     "text": [
      "{'Train':  best_epoch_indx:94\n",
      " auc:0.9910877182289975 \n",
      " apur:0.958304809134243 \n",
      " f1:0.8672198221673638 \n",
      " precision:0.7904166666666667 \n",
      " recall:0.9605549648083447 \n",
      ", 'Validation':  best_epoch_indx:94\n",
      " auc:0.9204731055411549 \n",
      " apur:0.7552820687710827 \n",
      " f1:0.6811171321383911 \n",
      " precision:0.6274961597542242 \n",
      " recall:0.7447584320875114 \n",
      ", 'Test':  best_epoch_indx:94\n",
      " auc:0.9221374182079219 \n",
      " apur:0.7560415557792638 \n",
      " f1:0.681164213659666 \n",
      " precision:0.6233353510895884 \n",
      " recall:0.7508202697776157 \n",
      "}\n",
      "=====Epoch 95\n",
      "Training...\n"
     ]
    },
    {
     "name": "stderr",
     "output_type": "stream",
     "text": [
      "Iteration: 100%|██████████| 392/392 [00:31<00:00, 12.31it/s]\n",
      "Iteration:  83%|████████▎ | 326/392 [00:26<00:05, 12.62it/s]"
     ]
    },
    {
     "name": "stdout",
     "output_type": "stream",
     "text": [
      "Evaluating...\n"
     ]
    },
    {
     "name": "stderr",
     "output_type": "stream",
     "text": [
      "Iteration: 100%|██████████| 392/392 [00:31<00:00, 12.46it/s]\n",
      "Iteration:  29%|██▊       | 112/392 [00:05<00:14, 19.89it/s]"
     ]
    },
    {
     "name": "stdout",
     "output_type": "stream",
     "text": [
      "Evaluating...\n"
     ]
    },
    {
     "name": "stderr",
     "output_type": "stream",
     "text": [
      "Iteration: 100%|██████████| 392/392 [00:19<00:00, 20.38it/s]\n",
      "Iteration: 100%|██████████| 109/109 [00:05<00:00, 21.66it/s]\n",
      "Iteration: 100%|██████████| 44/44 [00:02<00:00, 18.63it/s]s]\n",
      "Iteration:   0%|          | 0/392 [00:00<?, ?it/s]12.51it/s]"
     ]
    },
    {
     "name": "stdout",
     "output_type": "stream",
     "text": [
      "{'Train':  best_epoch_indx:96\n",
      " auc:0.9942502269230474 \n",
      " apur:0.972459249025531 \n",
      " f1:0.8860125068971859 \n",
      " precision:0.8114288120604708 \n",
      " recall:0.9756949718973112 \n",
      ", 'Validation':  best_epoch_indx:96\n",
      " auc:0.9219394644408734 \n",
      " apur:0.7614945475285007 \n",
      " f1:0.6850114654992704 \n",
      " precision:0.6314373558800922 \n",
      " recall:0.7485193621867882 \n",
      ", 'Test':  best_epoch_indx:96\n",
      " auc:0.9239308100952792 \n",
      " apur:0.7623886308686488 \n",
      " f1:0.6870482678408241 \n",
      " precision:0.6311050061050061 \n",
      " recall:0.7538742023701003 \n",
      "}\n",
      "=====Epoch 97\n",
      "Training...\n"
     ]
    },
    {
     "name": "stderr",
     "output_type": "stream",
     "text": [
      "Iteration: 100%|██████████| 392/392 [00:19<00:00, 20.49it/s]\n",
      "Iteration: 100%|██████████| 392/392 [00:31<00:00, 12.53it/s]\n",
      "Iteration:  93%|█████████▎| 366/392 [00:29<00:02, 11.92it/s]"
     ]
    },
    {
     "name": "stdout",
     "output_type": "stream",
     "text": [
      "Evaluating...\n"
     ]
    },
    {
     "name": "stderr",
     "output_type": "stream",
     "text": [
      "Iteration: 100%|██████████| 392/392 [00:17<00:00, 22.45it/s]\n",
      "Iteration: 100%|██████████| 392/392 [00:31<00:00, 12.40it/s]\n",
      "Iteration:  82%|████████▏ | 89/109 [00:04<00:00, 21.69it/s]"
     ]
    },
    {
     "name": "stdout",
     "output_type": "stream",
     "text": [
      "Evaluating...\n"
     ]
    },
    {
     "name": "stderr",
     "output_type": "stream",
     "text": [
      "Iteration: 100%|██████████| 109/109 [00:05<00:00, 20.69it/s]\n",
      "Iteration: 100%|██████████| 44/44 [00:02<00:00, 16.07it/s]]]\n",
      "Iteration:  40%|███▉      | 156/392 [00:12<00:19, 12.24it/s]"
     ]
    },
    {
     "name": "stdout",
     "output_type": "stream",
     "text": [
      "{'Train':  best_epoch_indx:97\n",
      " auc:0.9957249189791224 \n",
      " apur:0.9789599802320109 \n",
      " f1:0.8915762179031184 \n",
      " precision:0.8152328997062526 \n",
      " recall:0.983695376981113 \n",
      ", 'Validation':  best_epoch_indx:97\n",
      " auc:0.9254540580699318 \n",
      " apur:0.7702907256832244 \n",
      " f1:0.686881188118812 \n",
      " precision:0.6273549359457423 \n",
      " recall:0.7588878760255242 \n",
      ", 'Test':  best_epoch_indx:97\n",
      " auc:0.9285811111103505 \n",
      " apur:0.7700116488993085 \n",
      " f1:0.6916071868077776 \n",
      " precision:0.6288229151126361 \n",
      " recall:0.7683193583667517 \n",
      "}\n",
      "=====Epoch 98\n",
      "Training...\n"
     ]
    },
    {
     "name": "stderr",
     "output_type": "stream",
     "text": [
      "Iteration: 100%|██████████| 109/109 [00:05<00:00, 18.96it/s]\n",
      "Iteration: 100%|██████████| 44/44 [00:02<00:00, 20.52it/s]s]\n",
      "Iteration:   0%|          | 0/392 [00:00<?, ?it/s]21.76it/s]"
     ]
    },
    {
     "name": "stdout",
     "output_type": "stream",
     "text": [
      "{'Train':  best_epoch_indx:97\n",
      " auc:0.9948119560585789 \n",
      " apur:0.9745756898599504 \n",
      " f1:0.8786032924979054 \n",
      " precision:0.7946911355071277 \n",
      " recall:0.9823282191503367 \n",
      ", 'Validation':  best_epoch_indx:97\n",
      " auc:0.9262033299199885 \n",
      " apur:0.7711558983448016 \n",
      " f1:0.6838788371620247 \n",
      " precision:0.6172477064220183 \n",
      " recall:0.7666362807657247 \n",
      ", 'Test':  best_epoch_indx:97\n",
      " auc:0.9242909518780434 \n",
      " apur:0.7660589013586858 \n",
      " f1:0.6829464861379756 \n",
      " precision:0.612106327650968 \n",
      " recall:0.7723295661684287 \n",
      "}\n",
      "=====Epoch 98\n",
      "Training...\n"
     ]
    },
    {
     "name": "stderr",
     "output_type": "stream",
     "text": [
      "Iteration: 100%|██████████| 392/392 [00:18<00:00, 20.81it/s]\n",
      "Iteration: 100%|██████████| 392/392 [00:18<00:00, 20.68it/s]\n",
      "Iteration: 100%|██████████| 109/109 [00:04<00:00, 22.49it/s]\n",
      "Iteration: 100%|██████████| 392/392 [00:32<00:00, 12.14it/s]\n",
      "Iteration:  51%|█████     | 200/392 [00:15<00:15, 12.54it/s]"
     ]
    },
    {
     "name": "stdout",
     "output_type": "stream",
     "text": [
      "Evaluating...\n"
     ]
    },
    {
     "name": "stderr",
     "output_type": "stream",
     "text": [
      "Iteration: 100%|██████████| 109/109 [00:05<00:00, 20.71it/s]\n",
      "Iteration: 100%|██████████| 44/44 [00:02<00:00, 19.95it/s]s]\n",
      "Iteration:  65%|██████▌   | 256/392 [00:20<00:10, 12.56it/s]"
     ]
    },
    {
     "name": "stdout",
     "output_type": "stream",
     "text": [
      "{'Train':  best_epoch_indx:95\n",
      " auc:0.9933575478035191 \n",
      " apur:0.9683712355571036 \n",
      " f1:0.8718899007932024 \n",
      " precision:0.787323483797241 \n",
      " recall:0.9768089523520178 \n",
      ", 'Validation':  best_epoch_indx:95\n",
      " auc:0.9243585925049324 \n",
      " apur:0.7666436812252704 \n",
      " f1:0.6874487284659556 \n",
      " precision:0.6249067859806114 \n",
      " recall:0.763901549680948 \n",
      ", 'Test':  best_epoch_indx:95\n",
      " auc:0.9257314642654457 \n",
      " apur:0.7666452075310157 \n",
      " f1:0.6872756933115824 \n",
      " precision:0.6219368172423974 \n",
      " recall:0.7679547940211447 \n",
      "}\n",
      "=====Epoch 96\n",
      "Training...\n"
     ]
    },
    {
     "name": "stderr",
     "output_type": "stream",
     "text": [
      "Iteration: 100%|██████████| 392/392 [00:31<00:00, 12.45it/s]\n",
      "Iteration:  65%|██████▌   | 255/392 [00:12<00:06, 21.72it/s]"
     ]
    },
    {
     "name": "stdout",
     "output_type": "stream",
     "text": [
      "Evaluating...\n"
     ]
    },
    {
     "name": "stderr",
     "output_type": "stream",
     "text": [
      "Iteration: 100%|██████████| 392/392 [00:31<00:00, 12.54it/s]\n",
      "Iteration:  18%|█▊        | 71/392 [00:03<00:14, 21.52it/s]]"
     ]
    },
    {
     "name": "stdout",
     "output_type": "stream",
     "text": [
      "Evaluating...\n"
     ]
    },
    {
     "name": "stderr",
     "output_type": "stream",
     "text": [
      "Iteration: 100%|██████████| 392/392 [00:18<00:00, 21.35it/s]\n",
      "Iteration: 100%|██████████| 109/109 [00:05<00:00, 20.73it/s]\n",
      "Iteration: 100%|██████████| 44/44 [00:02<00:00, 19.96it/s]s]\n",
      "Iteration:   0%|          | 0/392 [00:00<?, ?it/s]22.43it/s]"
     ]
    },
    {
     "name": "stdout",
     "output_type": "stream",
     "text": [
      "{'Train':  best_epoch_indx:97\n",
      " auc:0.9958490547151625 \n",
      " apur:0.979080795683493 \n",
      " f1:0.8975152410862738 \n",
      " precision:0.8250053067289322 \n",
      " recall:0.9839991898323965 \n",
      ", 'Validation':  best_epoch_indx:97\n",
      " auc:0.9240400260331925 \n",
      " apur:0.7726123915240125 \n",
      " f1:0.6926102256261644 \n",
      " precision:0.6346737481031867 \n",
      " recall:0.7621867881548975 \n",
      ", 'Test':  best_epoch_indx:97\n",
      " auc:0.9257744343590701 \n",
      " apur:0.7692494156982511 \n",
      " f1:0.6920889780899816 \n",
      " precision:0.6392708172408466 \n",
      " recall:0.7544211485870556 \n",
      "}\n",
      "=====Epoch 98\n",
      "Training...\n"
     ]
    },
    {
     "name": "stderr",
     "output_type": "stream",
     "text": [
      "Iteration: 100%|██████████| 392/392 [00:18<00:00, 20.84it/s]\n",
      "Iteration: 100%|██████████| 44/44 [00:02<00:00, 19.17it/s]s]\n",
      "Iteration: 100%|██████████| 392/392 [00:18<00:00, 21.30it/s]\n",
      "Iteration:  20%|██        | 80/392 [00:06<00:25, 12.17it/s]]"
     ]
    },
    {
     "name": "stdout",
     "output_type": "stream",
     "text": [
      "{'Train':  best_epoch_indx:99\n",
      " auc:0.9973026963880988 \n",
      " apur:0.9863724683992307 \n",
      " f1:0.9065081091085764 \n",
      " precision:0.8345829428303655 \n",
      " recall:0.9919995949161983 \n",
      ", 'Validation':  best_epoch_indx:99\n",
      " auc:0.9332496777178776 \n",
      " apur:0.7891443496396453 \n",
      " f1:0.6963880288957688 \n",
      " precision:0.6363636363636364 \n",
      " recall:0.768915223336372 \n",
      ", 'Test':  best_epoch_indx:99\n",
      " auc:0.930668818856757 \n",
      " apur:0.7819984629964076 \n",
      " f1:0.7030534986271736 \n",
      " precision:0.6467166692178172 \n",
      " recall:0.7701421800947867 \n",
      "}\n",
      "Finished training!\n"
     ]
    },
    {
     "name": "stderr",
     "output_type": "stream",
     "text": [
      "Iteration: 100%|██████████| 392/392 [00:31<00:00, 12.39it/s]\n",
      "Iteration:   1%|          | 2/392 [00:00<00:19, 20.00it/s]]"
     ]
    },
    {
     "name": "stdout",
     "output_type": "stream",
     "text": [
      "Evaluating...\n"
     ]
    },
    {
     "name": "stderr",
     "output_type": "stream",
     "text": [
      "Iteration: 100%|██████████| 109/109 [00:05<00:00, 21.70it/s]\n",
      "Iteration: 100%|██████████| 44/44 [00:02<00:00, 21.72it/s]]]\n",
      "Iteration:  96%|█████████▋| 105/109 [00:04<00:00, 22.24it/s]"
     ]
    },
    {
     "name": "stdout",
     "output_type": "stream",
     "text": [
      "{'Train':  best_epoch_indx:98\n",
      " auc:0.9971496211009235 \n",
      " apur:0.9856357702824398 \n",
      " f1:0.9115830205832303 \n",
      " precision:0.844622030237581 \n",
      " recall:0.9900754468580688 \n",
      ", 'Validation':  best_epoch_indx:98\n",
      " auc:0.9277544791237115 \n",
      " apur:0.7754200934678058 \n",
      " f1:0.6955053808820427 \n",
      " precision:0.6475442043222004 \n",
      " recall:0.7511394712853237 \n",
      ", 'Test':  best_epoch_indx:98\n",
      " auc:0.9302969656404381 \n",
      " apur:0.7742312421186149 \n",
      " f1:0.6982736842105263 \n",
      " precision:0.648927844733135 \n",
      " recall:0.7557418884433103 \n",
      "}\n",
      "=====Epoch 99\n",
      "Training...\n"
     ]
    },
    {
     "name": "stderr",
     "output_type": "stream",
     "text": [
      "Iteration: 100%|██████████| 109/109 [00:04<00:00, 22.04it/s]\n",
      "Iteration: 100%|██████████| 44/44 [00:02<00:00, 19.86it/s]]]\n",
      "Iteration:  36%|███▌      | 140/392 [00:06<00:11, 22.24it/s]"
     ]
    },
    {
     "name": "stdout",
     "output_type": "stream",
     "text": [
      "{'Train':  best_epoch_indx:98\n",
      " auc:0.9963975192212323 \n",
      " apur:0.9821267712096686 \n",
      " f1:0.9028804486362476 \n",
      " precision:0.83237908049906 \n",
      " recall:0.9864296926426654 \n",
      ", 'Validation':  best_epoch_indx:98\n",
      " auc:0.9273841011401635 \n",
      " apur:0.7790195874699782 \n",
      " f1:0.693069306930693 \n",
      " precision:0.6443399921660791 \n",
      " recall:0.7497721057429353 \n",
      ", 'Test':  best_epoch_indx:98\n",
      " auc:0.9262324852066874 \n",
      " apur:0.7739026828399135 \n",
      " f1:0.6911457898689811 \n",
      " precision:0.6373710943512391 \n",
      " recall:0.7548304775792928 \n",
      "}\n",
      "=====Epoch 99\n",
      "Training...\n"
     ]
    },
    {
     "name": "stderr",
     "output_type": "stream",
     "text": [
      "Iteration: 100%|██████████| 392/392 [00:17<00:00, 22.07it/s]\n",
      "Iteration: 100%|██████████| 109/109 [00:04<00:00, 22.66it/s]\n",
      "Iteration: 100%|██████████| 392/392 [00:32<00:00, 12.04it/s]\n",
      "Iteration:  57%|█████▋    | 222/392 [00:17<00:13, 12.64it/s]"
     ]
    },
    {
     "name": "stdout",
     "output_type": "stream",
     "text": [
      "Evaluating...\n"
     ]
    },
    {
     "name": "stderr",
     "output_type": "stream",
     "text": [
      "Iteration: 100%|██████████| 44/44 [00:01<00:00, 22.40it/s]]]\n",
      "Iteration:  63%|██████▎   | 248/392 [00:19<00:12, 11.26it/s]"
     ]
    },
    {
     "name": "stdout",
     "output_type": "stream",
     "text": [
      "{'Train':  best_epoch_indx:96\n",
      " auc:0.9950319531195948 \n",
      " apur:0.9752150794987866 \n",
      " f1:0.8953025108866858 \n",
      " precision:0.8250864534858899 \n",
      " recall:0.9785811939845055 \n",
      ", 'Validation':  best_epoch_indx:96\n",
      " auc:0.925806565284311 \n",
      " apur:0.7710940210318419 \n",
      " f1:0.6974789915966386 \n",
      " precision:0.646921278254092 \n",
      " recall:0.7566089334548769 \n",
      ", 'Test':  best_epoch_indx:96\n",
      " auc:0.926908607101112 \n",
      " apur:0.7695342982183598 \n",
      " f1:0.6938399732172749 \n",
      " precision:0.6414422779325286 \n",
      " recall:0.7555596062705068 \n",
      "}\n",
      "=====Epoch 97\n",
      "Training...\n"
     ]
    },
    {
     "name": "stderr",
     "output_type": "stream",
     "text": [
      "Iteration: 100%|██████████| 392/392 [00:31<00:00, 12.52it/s]\n",
      "Iteration:  28%|██▊       | 108/392 [00:08<00:23, 12.33it/s]"
     ]
    },
    {
     "name": "stdout",
     "output_type": "stream",
     "text": [
      "Evaluating...\n"
     ]
    },
    {
     "name": "stderr",
     "output_type": "stream",
     "text": [
      "Iteration: 100%|██████████| 392/392 [00:31<00:00, 12.45it/s]\n",
      "Iteration:  19%|█▉        | 75/392 [00:03<00:14, 22.49it/s]]"
     ]
    },
    {
     "name": "stdout",
     "output_type": "stream",
     "text": [
      "Evaluating...\n"
     ]
    },
    {
     "name": "stderr",
     "output_type": "stream",
     "text": [
      "Iteration: 100%|██████████| 392/392 [00:17<00:00, 22.28it/s]\n",
      "Iteration: 100%|██████████| 109/109 [00:04<00:00, 22.47it/s]\n",
      "Iteration: 100%|██████████| 44/44 [00:01<00:00, 22.39it/s]s]\n",
      "Iteration:  88%|████████▊ | 345/392 [00:15<00:02, 22.74it/s]"
     ]
    },
    {
     "name": "stdout",
     "output_type": "stream",
     "text": [
      "{'Train':  best_epoch_indx:98\n",
      " auc:0.9974558563491154 \n",
      " apur:0.9871460443511204 \n",
      " f1:0.9185233983483518 \n",
      " precision:0.8578711435352026 \n",
      " recall:0.9884044761760089 \n",
      ", 'Validation':  best_epoch_indx:98\n",
      " auc:0.9259764753540145 \n",
      " apur:0.7724804118080788 \n",
      " f1:0.6966148605492868 \n",
      " precision:0.653876898481215 \n",
      " recall:0.7453302961275626 \n",
      ", 'Test':  best_epoch_indx:98\n",
      " auc:0.9274606840452542 \n",
      " apur:0.77321683707548 \n",
      " f1:0.6971096288695058 \n",
      " precision:0.6564664197133194 \n",
      " recall:0.7431175934366454 \n",
      "}\n",
      "=====Epoch 99\n",
      "Training...\n"
     ]
    },
    {
     "name": "stderr",
     "output_type": "stream",
     "text": [
      "Iteration: 100%|██████████| 392/392 [00:17<00:00, 22.54it/s]\n",
      "Iteration: 100%|██████████| 392/392 [00:17<00:00, 22.17it/s]\n",
      "Iteration: 100%|██████████| 109/109 [00:05<00:00, 20.21it/s]\n",
      "Iteration: 100%|██████████| 392/392 [00:33<00:00, 11.59it/s]\n",
      "Iteration:  30%|███       | 118/392 [00:10<00:23, 11.73it/s]"
     ]
    },
    {
     "name": "stdout",
     "output_type": "stream",
     "text": [
      "Evaluating...\n"
     ]
    },
    {
     "name": "stderr",
     "output_type": "stream",
     "text": [
      "Iteration: 100%|██████████| 109/109 [00:04<00:00, 23.36it/s]\n",
      "Iteration: 100%|██████████| 392/392 [00:18<00:00, 21.22it/s]\n",
      "Iteration: 100%|██████████| 109/109 [00:04<00:00, 22.47it/s]\n",
      "Iteration: 100%|██████████| 44/44 [00:01<00:00, 22.41it/s]s]\n",
      "Iteration:  99%|█████████▉| 389/392 [00:37<00:00, 10.38it/s]"
     ]
    },
    {
     "name": "stdout",
     "output_type": "stream",
     "text": [
      "{'Train':  best_epoch_indx:97\n",
      " auc:0.9964601171351997 \n",
      " apur:0.982479645123699 \n",
      " f1:0.8968533480652808 \n",
      " precision:0.8221912720519963 \n",
      " recall:0.9864296926426654 \n",
      ", 'Validation':  best_epoch_indx:97\n",
      " auc:0.9265369805363832 \n",
      " apur:0.7734514439781189 \n",
      " f1:0.6951472418083782 \n",
      " precision:0.6377473363774734 \n",
      " recall:0.763901549680948 \n",
      ", 'Test':  best_epoch_indx:97\n",
      " auc:0.9287489221459149 \n",
      " apur:0.7748336365069551 \n",
      " f1:0.6929563492063492 \n",
      " precision:0.6340393343419062 \n",
      " recall:0.7639445862194677 \n",
      "}\n",
      "=====Epoch 98\n",
      "Training...\n"
     ]
    },
    {
     "name": "stderr",
     "output_type": "stream",
     "text": [
      "\r",
      "Iteration:   1%|          | 2/392 [00:00<00:34, 11.15it/s]\r",
      "Iteration: 100%|█████████▉| 391/392 [00:37<00:00, 10.71it/s]\r",
      "Iteration: 100%|██████████| 392/392 [00:37<00:00, 10.48it/s]\n",
      "\r",
      "Iteration:   0%|          | 0/392 [00:00<?, ?it/s]"
     ]
    },
    {
     "name": "stdout",
     "output_type": "stream",
     "text": [
      "Evaluating...\n"
     ]
    },
    {
     "name": "stderr",
     "output_type": "stream",
     "text": [
      "Iteration: 100%|██████████| 44/44 [00:02<00:00, 21.53it/s]]\n",
      "Iteration:  24%|██▍       | 96/392 [00:04<00:13, 22.13it/s]"
     ]
    },
    {
     "name": "stdout",
     "output_type": "stream",
     "text": [
      "{'Train':  best_epoch_indx:99\n",
      " auc:0.9978644275737624 \n",
      " apur:0.989088602094763 \n",
      " f1:0.9144801230367712 \n",
      " precision:0.847053744873732 \n",
      " recall:0.9935692946478303 \n",
      ", 'Validation':  best_epoch_indx:99\n",
      " auc:0.9297802734395484 \n",
      " apur:0.7805037982323941 \n",
      " f1:0.7007973143096936 \n",
      " precision:0.6493001555209953 \n",
      " recall:0.7611668185961714 \n",
      ", 'Test':  best_epoch_indx:99\n",
      " auc:0.9324859860050729 \n",
      " apur:0.7817297621092406 \n",
      " f1:0.7051046025104603 \n",
      " precision:0.6517636138613861 \n",
      " recall:0.7679547940211447 \n",
      "}\n",
      "Finished training!\n"
     ]
    },
    {
     "name": "stderr",
     "output_type": "stream",
     "text": [
      "Iteration: 100%|██████████| 44/44 [00:01<00:00, 22.01it/s]s]\n",
      "Iteration:  20%|█▉        | 78/392 [00:07<00:31, 10.06it/s]]"
     ]
    },
    {
     "name": "stdout",
     "output_type": "stream",
     "text": [
      "{'Train':  best_epoch_indx:99\n",
      " auc:0.9974826126534049 \n",
      " apur:0.9873875291909543 \n",
      " f1:0.9069217939214232 \n",
      " precision:0.8358597719800163 \n",
      " recall:0.9911894273127754 \n",
      ", 'Validation':  best_epoch_indx:99\n",
      " auc:0.9296618271561019 \n",
      " apur:0.7855259373895063 \n",
      " f1:0.7061275531471447 \n",
      " precision:0.6505376344086021 \n",
      " recall:0.772105742935278 \n",
      ", 'Test':  best_epoch_indx:99\n",
      " auc:0.9280285417909399 \n",
      " apur:0.7798934233406236 \n",
      " f1:0.6937159821870361 \n",
      " precision:0.6334337349397591 \n",
      " recall:0.7666788188115202 \n",
      "}\n",
      "Finished training!\n"
     ]
    },
    {
     "name": "stderr",
     "output_type": "stream",
     "text": [
      "Iteration:  82%|████████▏ | 321/392 [00:14<00:03, 22.61it/s]"
     ]
    },
    {
     "name": "stdout",
     "output_type": "stream",
     "text": [
      "<<< joined hyperparam search process\n",
      "released_gpu_num: 4\n"
     ]
    },
    {
     "name": "stderr",
     "output_type": "stream",
     "text": [
      "Iteration: 100%|██████████| 392/392 [00:17<00:00, 22.24it/s]\n",
      "Iteration: 100%|██████████| 109/109 [00:04<00:00, 24.23it/s]\n",
      "Iteration: 100%|██████████| 392/392 [00:40<00:00,  9.70it/s]\n",
      "Iteration:   0%|          | 0/392 [00:00<?, ?it/s]"
     ]
    },
    {
     "name": "stdout",
     "output_type": "stream",
     "text": [
      "Evaluating...\n"
     ]
    },
    {
     "name": "stderr",
     "output_type": "stream",
     "text": [
      "Iteration: 100%|██████████| 44/44 [00:01<00:00, 22.96it/s]s]\n",
      "Iteration:  81%|████████  | 318/392 [00:13<00:03, 23.73it/s]"
     ]
    },
    {
     "name": "stdout",
     "output_type": "stream",
     "text": [
      "{'Train':  best_epoch_indx:99\n",
      " auc:0.9981280397708489 \n",
      " apur:0.9904052615253707 \n",
      " f1:0.923992846385542 \n",
      " precision:0.8631028267463842 \n",
      " recall:0.9941262848751835 \n",
      ", 'Validation':  best_epoch_indx:99\n",
      " auc:0.9270206126858136 \n",
      " apur:0.7757491385072565 \n",
      " f1:0.6995305164319249 \n",
      " precision:0.6579686872741871 \n",
      " recall:0.7466970387243735 \n",
      ", 'Test':  best_epoch_indx:99\n",
      " auc:0.929222115342016 \n",
      " apur:0.7773215739412799 \n",
      " f1:0.7000764461054957 \n",
      " precision:0.6553753180661578 \n",
      " recall:0.7513217866909754 \n",
      "}\n",
      "Finished training!\n"
     ]
    },
    {
     "name": "stderr",
     "output_type": "stream",
     "text": [
      "Iteration: 100%|██████████| 392/392 [00:16<00:00, 23.23it/s]\n",
      "Iteration: 100%|██████████| 109/109 [00:04<00:00, 24.37it/s]\n",
      "Iteration: 100%|██████████| 44/44 [00:01<00:00, 25.68it/s]\n",
      "Iteration:   0%|          | 0/392 [00:00<?, ?it/s]"
     ]
    },
    {
     "name": "stdout",
     "output_type": "stream",
     "text": [
      "{'Train':  best_epoch_indx:98\n",
      " auc:0.9976543715433174 \n",
      " apur:0.9882069678540623 \n",
      " f1:0.9093399577461518 \n",
      " precision:0.8396501457725948 \n",
      " recall:0.9916451465897007 \n",
      ", 'Validation':  best_epoch_indx:98\n",
      " auc:0.9300760220842434 \n",
      " apur:0.7797062237016118 \n",
      " f1:0.7083508182962653 \n",
      " precision:0.656298600311042 \n",
      " recall:0.7693710118505014 \n",
      ", 'Test':  best_epoch_indx:98\n",
      " auc:0.9310461439669434 \n",
      " apur:0.781759983882258 \n",
      " f1:0.7014555077737347 \n",
      " precision:0.6419921283681501 \n",
      " recall:0.7730586948596427 \n",
      "}\n",
      "=====Epoch 99\n",
      "Training...\n"
     ]
    },
    {
     "name": "stderr",
     "output_type": "stream",
     "text": [
      "Iteration: 100%|██████████| 392/392 [00:42<00:00,  9.29it/s]\n",
      "Iteration:   1%|          | 2/392 [00:00<00:24, 15.97it/s]"
     ]
    },
    {
     "name": "stdout",
     "output_type": "stream",
     "text": [
      "Evaluating...\n"
     ]
    },
    {
     "name": "stderr",
     "output_type": "stream",
     "text": [
      "Iteration: 100%|██████████| 392/392 [00:16<00:00, 24.13it/s]\n",
      "Iteration: 100%|██████████| 109/109 [00:04<00:00, 25.87it/s]\n",
      "Iteration: 100%|██████████| 44/44 [00:01<00:00, 24.81it/s]\n"
     ]
    },
    {
     "name": "stdout",
     "output_type": "stream",
     "text": [
      "{'Train':  best_epoch_indx:99\n",
      " auc:0.9983234811825042 \n",
      " apur:0.9914408514076383 \n",
      " f1:0.9246176685439593 \n",
      " precision:0.8647302538787024 \n",
      " recall:0.9934173882221885 \n",
      ", 'Validation':  best_epoch_indx:99\n",
      " auc:0.930176136146735 \n",
      " apur:0.7816608583531538 \n",
      " f1:0.7042793272301469 \n",
      " precision:0.6608070315621255 \n",
      " recall:0.7538742023701003 \n",
      ", 'Test':  best_epoch_indx:99\n",
      " auc:0.9318919641212844 \n",
      " apur:0.7853231494098019 \n",
      " f1:0.7040408336877925 \n",
      " precision:0.6600733769341203 \n",
      " recall:0.7542836310608823 \n",
      "}\n",
      "Finished training!\n",
      "<<< joined hyperparam search process\n",
      "released_gpu_num: 3\n",
      "<<< joined hyperparam search process\n",
      "released_gpu_num: 0\n",
      "<<< joined hyperparam search process\n",
      "released_gpu_num: 2\n",
      "<<< joined hyperparam search process\n",
      "released_gpu_num: 1\n"
     ]
    }
   ],
   "source": [
    "import torch.multiprocessing as mp\n",
    "mp.set_start_method(\"spawn\", force=True)\n",
    "\n",
    "queue = mp.Queue()\n",
    "q_processes = []\n",
    "\n",
    "# partition = fold_partitions[0]\n",
    "time_stamp = datetime.datetime.now().strftime('%Y-%m-%d_%H-%M-%S')\n",
    "\n",
    "print(\"Start: \" + time_stamp)\n",
    "\n",
    "for q_i in range(min(n_gpu, len(fold_partitions))):\n",
    "#     device_gpu = get_device(True, index=q_i)\n",
    "    partition = fold_partitions[q_i]\n",
    "    exp_dir = create_directory(os.path.join(targetdata_dir_exp, \"fold_\"+str(q_i)+\"_\"+time_stamp))\n",
    "    create_directory(os.path.join(exp_dir, \"predictions\"))\n",
    "\n",
    "#     tphp = generate_tp_hp(tp, hyperparam_space[q_i], hp_names)\n",
    "    \n",
    "    q_process = create_q_process(queue, dataset, q_i, tp, exp_dir, partition)\n",
    "    q_processes.append(q_process)\n",
    "    spawn_q_process(q_process)\n",
    "\n",
    "spawned_processes = n_gpu\n",
    "    \n",
    "# for q_i in range(len(hyperparam_space)):\n",
    "for q_i in range(min(n_gpu, len(fold_partitions))):\n",
    "    join_q_process(q_processes[q_i])\n",
    "    released_gpu_num = queue.get()\n",
    "    print(\"released_gpu_num:\", released_gpu_num)\n",
    "#     if(spawned_processes < len(hyperparam_space)):\n",
    "# #         device_gpu = get_device(True, index=q_i)\n",
    "#         time_stamp = datetime.datetime.now().strftime('%Y-%m-%d_%H-%M-%S')\n",
    "#         exp_dir = create_directory(os.path.join(targetdata_dir_exp, \"exp_\"+str(q_i)+\"_\"+time_stamp))\n",
    "#         tphp = generate_tp_hp(tp, hyperparam_space[q_i], hp_names)\n",
    "\n",
    "#         q_process = create_q_process(queue, used_dataset, released_gpu_num, tphp, exp_dir, partition)\n",
    "#         q_processes.append(q_process)\n",
    "#         spawn_q_process(q_process)\n",
    "#         spawned_processes = spawned_processes + 1"
   ]
  },
  {
   "cell_type": "code",
   "execution_count": 40,
   "metadata": {},
   "outputs": [
    {
     "name": "stdout",
     "output_type": "stream",
     "text": [
      "End: 2022-03-31_15-26-03\n"
     ]
    }
   ],
   "source": [
    "print(\"End: \" + datetime.datetime.now().strftime('%Y-%m-%d_%H-%M-%S'))\n"
   ]
  },
  {
   "cell_type": "code",
   "execution_count": null,
   "metadata": {},
   "outputs": [],
   "source": []
  }
 ],
 "metadata": {
  "kernelspec": {
   "display_name": "Python 3 (ipykernel)",
   "language": "python",
   "name": "python3"
  },
  "language_info": {
   "codemirror_mode": {
    "name": "ipython",
    "version": 3
   },
   "file_extension": ".py",
   "mimetype": "text/x-python",
   "name": "python",
   "nbconvert_exporter": "python",
   "pygments_lexer": "ipython3",
   "version": "3.9.9"
  }
 },
 "nbformat": 4,
 "nbformat_minor": 4
}
