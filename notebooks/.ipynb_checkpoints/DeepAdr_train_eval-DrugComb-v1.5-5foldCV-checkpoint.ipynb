{
 "cells": [
  {
   "cell_type": "code",
   "execution_count": 1,
   "metadata": {
    "scrolled": false
   },
   "outputs": [],
   "source": [
    "%load_ext autoreload\n",
    "%autoreload 2"
   ]
  },
  {
   "cell_type": "code",
   "execution_count": 2,
   "metadata": {},
   "outputs": [],
   "source": [
    "import os\n",
    "import sys\n",
    "import numpy as np\n",
    "import pandas as pd\n",
    "import datetime\n",
    "import seaborn as sns\n",
    "import ogb\n",
    "from tqdm import tqdm\n",
    "import hiplot as hip\n",
    "from copy import deepcopy\n",
    "import datetime"
   ]
  },
  {
   "cell_type": "code",
   "execution_count": 3,
   "metadata": {},
   "outputs": [],
   "source": [
    "import torch\n",
    "from torch_geometric.data import Data\n",
    "from torch_geometric.loader import DataLoader\n",
    "from torch.utils.data import Subset, TensorDataset"
   ]
  },
  {
   "cell_type": "code",
   "execution_count": 4,
   "metadata": {},
   "outputs": [
    {
     "name": "stdout",
     "output_type": "stream",
     "text": [
      "/cluster/home/skyriakos/chemprop_run/git/notebooks\n"
     ]
    }
   ],
   "source": [
    "cwd = os.getcwd()\n",
    "print(cwd)"
   ]
  },
  {
   "cell_type": "code",
   "execution_count": 5,
   "metadata": {},
   "outputs": [],
   "source": [
    "os.chdir('..')\n",
    "import deepadr\n",
    "from deepadr.dataset import *\n",
    "from deepadr.utilities import *\n",
    "from deepadr.run_workflow import *\n",
    "from deepadr.chemfeatures import *\n",
    "from deepadr.hyphelper import *\n",
    "# from deepadr.model_gnn import GCN as testGCN\n",
    "from deepadr.model_gnn_ogb import GNN, DeepAdr_SiameseTrf, ExpressionNN\n",
    "# from deepadr.model_attn_siamese import *\n",
    "from ogb.graphproppred import Evaluator\n",
    "os.chdir(cwd)"
   ]
  },
  {
   "cell_type": "code",
   "execution_count": 6,
   "metadata": {},
   "outputs": [],
   "source": [
    "from rdkit.Chem.Draw import IPythonConsole\n",
    "from rdkit.Chem import Draw"
   ]
  },
  {
   "cell_type": "code",
   "execution_count": 7,
   "metadata": {},
   "outputs": [],
   "source": [
    "# from tdc.single_pred import Tox\n",
    "# from tdc.multi_pred import DDI"
   ]
  },
  {
   "cell_type": "code",
   "execution_count": 8,
   "metadata": {},
   "outputs": [],
   "source": [
    "rawdata_dir = '../data/raw/'\n",
    "processed_dir = '../data/processed/'\n",
    "up_dir = '..'"
   ]
  },
  {
   "cell_type": "code",
   "execution_count": 9,
   "metadata": {
    "scrolled": true
   },
   "outputs": [
    {
     "name": "stdout",
     "output_type": "stream",
     "text": [
      "number of GPUs available: 8\n",
      "cuda:0, name:GeForce GTX 1080 Ti\n",
      "total memory available: 10.91650390625 GB\n",
      "total memory allocated on device: 0.0 GB\n",
      "max memory allocated on device: 0.0 GB\n",
      "total memory cached on device: 0.0 GB\n",
      "max memory cached  on device: 0.0 GB\n",
      "\n",
      "cuda:1, name:GeForce GTX 1080 Ti\n",
      "total memory available: 10.91650390625 GB\n",
      "total memory allocated on device: 0.0 GB\n",
      "max memory allocated on device: 0.0 GB\n",
      "total memory cached on device: 0.0 GB\n",
      "max memory cached  on device: 0.0 GB\n",
      "\n",
      "cuda:2, name:GeForce GTX 1080 Ti\n",
      "total memory available: 10.91650390625 GB\n",
      "total memory allocated on device: 0.0 GB\n",
      "max memory allocated on device: 0.0 GB\n",
      "total memory cached on device: 0.0 GB\n",
      "max memory cached  on device: 0.0 GB\n",
      "\n",
      "cuda:3, name:GeForce GTX 1080 Ti\n",
      "total memory available: 10.91650390625 GB\n",
      "total memory allocated on device: 0.0 GB\n",
      "max memory allocated on device: 0.0 GB\n",
      "total memory cached on device: 0.0 GB\n",
      "max memory cached  on device: 0.0 GB\n",
      "\n",
      "cuda:4, name:GeForce GTX 1080 Ti\n",
      "total memory available: 10.91650390625 GB\n",
      "total memory allocated on device: 0.0 GB\n",
      "max memory allocated on device: 0.0 GB\n",
      "total memory cached on device: 0.0 GB\n",
      "max memory cached  on device: 0.0 GB\n",
      "\n",
      "cuda:5, name:GeForce GTX 1080 Ti\n",
      "total memory available: 10.91650390625 GB\n",
      "total memory allocated on device: 0.0 GB\n",
      "max memory allocated on device: 0.0 GB\n",
      "total memory cached on device: 0.0 GB\n",
      "max memory cached  on device: 0.0 GB\n",
      "\n",
      "cuda:6, name:GeForce GTX 1080 Ti\n",
      "total memory available: 10.91650390625 GB\n",
      "total memory allocated on device: 0.0 GB\n",
      "max memory allocated on device: 0.0 GB\n",
      "total memory cached on device: 0.0 GB\n",
      "max memory cached  on device: 0.0 GB\n",
      "\n",
      "cuda:7, name:GeForce GTX 1080 Ti\n",
      "total memory available: 10.91650390625 GB\n",
      "total memory allocated on device: 0.0 GB\n",
      "max memory allocated on device: 0.0 GB\n",
      "total memory cached on device: 0.0 GB\n",
      "max memory cached  on device: 0.0 GB\n",
      "\n"
     ]
    }
   ],
   "source": [
    "report_available_cuda_devices()"
   ]
  },
  {
   "cell_type": "code",
   "execution_count": 10,
   "metadata": {},
   "outputs": [
    {
     "data": {
      "text/plain": [
       "8"
      ]
     },
     "execution_count": 10,
     "metadata": {},
     "output_type": "execute_result"
    }
   ],
   "source": [
    "n_gpu = torch.cuda.device_count()\n",
    "n_gpu"
   ]
  },
  {
   "cell_type": "code",
   "execution_count": 11,
   "metadata": {},
   "outputs": [],
   "source": [
    "device_cpu = get_device(to_gpu=False)\n",
    "# device_gpu = get_device(True, index=0)\n",
    "\n",
    "# fdtype = torch.float32"
   ]
  },
  {
   "cell_type": "code",
   "execution_count": 12,
   "metadata": {},
   "outputs": [
    {
     "name": "stdout",
     "output_type": "stream",
     "text": [
      "torch: 1.9.1\n",
      "CUDA: 11.1\n",
      "3.9.9 | packaged by conda-forge | (main, Dec 20 2021, 02:41:03) \n",
      "[GCC 9.4.0]\n"
     ]
    }
   ],
   "source": [
    "print(\"torch:\", torch.__version__)\n",
    "print(\"CUDA:\", torch.version.cuda)\n",
    "print(sys.version)"
   ]
  },
  {
   "cell_type": "code",
   "execution_count": 13,
   "metadata": {},
   "outputs": [],
   "source": [
    "# print(torch.cuda.memory_summary(device=device_gpu))"
   ]
  },
  {
   "cell_type": "markdown",
   "metadata": {},
   "source": [
    "### Preparing dataset "
   ]
  },
  {
   "cell_type": "code",
   "execution_count": 14,
   "metadata": {},
   "outputs": [],
   "source": [
    "score = 'total_thresh'\n",
    "score_val = 4"
   ]
  },
  {
   "cell_type": "code",
   "execution_count": 15,
   "metadata": {},
   "outputs": [],
   "source": [
    "# TDC Tox\n",
    "# DSdataset_name = 'SynergxZloewe' #'OncoPolyPharmacology' #'DrugComb'\n",
    "DSdataset_name = f'DrugComb_{score}_{score_val}' #'DrugComb'\n",
    "\n",
    "\n",
    "#fname_suffix = ds_config[\"fname_suffix\"]\n",
    "similarity_types = ['chem']\n",
    "kernel_option = 'sqeuclidean'\n",
    "data_fname = 'data_v1'\n",
    "# interact_matfname = ds_config[\"interact_matfname\"]\n",
    "# exp_iden = 'simtypeall'\n",
    "# ddi_interaction_labels_pth = ds_config[\"ddi_interaction_labels_pth\"]\n",
    "\n",
    "# up_dir, processed_dir, DSdataset_name, data_fname"
   ]
  },
  {
   "cell_type": "code",
   "execution_count": 16,
   "metadata": {
    "scrolled": true
   },
   "outputs": [
    {
     "name": "stdout",
     "output_type": "stream",
     "text": [
      "path_current_dir /cluster/home/skyriakos/chemprop_run/git/deepadr\n",
      "path_current_dir /cluster/home/skyriakos/chemprop_run/git/deepadr\n",
      "path_current_dir /cluster/home/skyriakos/chemprop_run/git/deepadr\n",
      "path_current_dir /cluster/home/skyriakos/chemprop_run/git/deepadr\n",
      "/cluster/home/skyriakos/chemprop_run/git/data/processed/DrugComb_total_thresh_4/data_v1\n"
     ]
    }
   ],
   "source": [
    "targetdata_dir = create_directory(os.path.join(processed_dir, DSdataset_name, data_fname))\n",
    "targetdata_dir_raw = create_directory(os.path.join(targetdata_dir, \"raw\"))\n",
    "targetdata_dir_processed = create_directory(os.path.join(targetdata_dir, \"processed\"))\n",
    "targetdata_dir_exp = create_directory(os.path.join(targetdata_dir, \"experiments\"))\n",
    "# # ReaderWriter.dump_data(dpartitions, os.path.join(targetdata_dir, 'data_partitions.pkl'))\n",
    "print(targetdata_dir)"
   ]
  },
  {
   "cell_type": "code",
   "execution_count": 17,
   "metadata": {},
   "outputs": [
    {
     "name": "stdout",
     "output_type": "stream",
     "text": [
      "CPU times: user 5.08 ms, sys: 153 ms, total: 158 ms\n",
      "Wall time: 159 ms\n"
     ]
    }
   ],
   "source": [
    "%%time\n",
    "\n",
    "# Make sure to first run the \"data_generation\" notebook first\n",
    "\n",
    "dataset = MoleculeDataset(root=targetdata_dir)"
   ]
  },
  {
   "cell_type": "code",
   "execution_count": 18,
   "metadata": {},
   "outputs": [],
   "source": [
    "# print()\n",
    "# print(f'Dataset: {dataset}:')\n",
    "# print('====================')\n",
    "# print(f'Number of graphs: {len(dataset)}')\n",
    "# print(f'Number of features: {dataset.num_features}')\n",
    "# print(f'Number of classes: {dataset.num_classes}')\n",
    "\n",
    "# # data0 = dataset[0]  # Get the first graph object.\n",
    "\n",
    "# # print()\n",
    "# # print(data)\n",
    "# # print('=============================================================')\n",
    "\n",
    "# # # Gather some statistics about the first graph.\n",
    "# # print(f'Number of nodes: {data.num_nodes}')\n",
    "# # print(f'Number of edges: {data.num_edges}')\n",
    "# # print(f'Average node degree: {data.num_edges / data.num_nodes:.2f}')\n",
    "# # print(f'Contains isolated nodes: {data.contains_isolated_nodes()}')\n",
    "# # print(f'Contains self-loops: {data.contains_self_loops()}')\n",
    "# # print(f'Is undirected: {data.is_undirected()}')"
   ]
  },
  {
   "cell_type": "code",
   "execution_count": 19,
   "metadata": {
    "scrolled": true
   },
   "outputs": [],
   "source": [
    "# data0"
   ]
  },
  {
   "cell_type": "code",
   "execution_count": 20,
   "metadata": {},
   "outputs": [],
   "source": [
    "# data0.expression.shape"
   ]
  },
  {
   "cell_type": "code",
   "execution_count": 21,
   "metadata": {},
   "outputs": [],
   "source": [
    "# data0.y"
   ]
  },
  {
   "cell_type": "code",
   "execution_count": 22,
   "metadata": {},
   "outputs": [],
   "source": [
    "# dataset.tensors[1]"
   ]
  },
  {
   "cell_type": "code",
   "execution_count": 23,
   "metadata": {},
   "outputs": [],
   "source": [
    "# used_dataset = dataset\n",
    "\n",
    "# If you want to use a smaller subset of the dataset for testing\n",
    "# smaller_dataset_len = int(len(dataset)/1)\n",
    "# used_dataset = dataset[:smaller_dataset_len]"
   ]
  },
  {
   "cell_type": "code",
   "execution_count": 24,
   "metadata": {},
   "outputs": [],
   "source": [
    "# type(used_dataset)"
   ]
  },
  {
   "cell_type": "code",
   "execution_count": 25,
   "metadata": {
    "scrolled": true
   },
   "outputs": [
    {
     "name": "stdout",
     "output_type": "stream",
     "text": [
      "fold_num: 0\n",
      "train data\n",
      "class: 0 norm count: 0.5764128559102675\n",
      "class: 1 norm count: 0.4235871440897325\n",
      "validation data\n",
      "class: 0 norm count: 0.5764192139737991\n",
      "class: 1 norm count: 0.42358078602620086\n",
      "test data\n",
      "class: 0 norm count: 0.5764751552795031\n",
      "class: 1 norm count: 0.4235248447204969\n",
      "\n",
      "-------------------------\n",
      "fold_num: 1\n",
      "train data\n",
      "class: 0 norm count: 0.5764128559102675\n",
      "class: 1 norm count: 0.4235871440897325\n",
      "validation data\n",
      "class: 0 norm count: 0.5764192139737991\n",
      "class: 1 norm count: 0.42358078602620086\n",
      "test data\n",
      "class: 0 norm count: 0.5764751552795031\n",
      "class: 1 norm count: 0.4235248447204969\n",
      "\n",
      "-------------------------\n",
      "fold_num: 2\n",
      "train data\n",
      "class: 0 norm count: 0.5764356969533567\n",
      "class: 1 norm count: 0.4235643030466433\n",
      "validation data\n",
      "class: 0 norm count: 0.5764192139737991\n",
      "class: 1 norm count: 0.42358078602620086\n",
      "test data\n",
      "class: 0 norm count: 0.5763929334109882\n",
      "class: 1 norm count: 0.4236070665890118\n",
      "\n",
      "-------------------------\n",
      "fold_num: 3\n",
      "train data\n",
      "class: 0 norm count: 0.5764356969533567\n",
      "class: 1 norm count: 0.4235643030466433\n",
      "validation data\n",
      "class: 0 norm count: 0.5764192139737991\n",
      "class: 1 norm count: 0.42358078602620086\n",
      "test data\n",
      "class: 0 norm count: 0.5763929334109882\n",
      "class: 1 norm count: 0.4236070665890118\n",
      "\n",
      "-------------------------\n",
      "fold_num: 4\n",
      "train data\n",
      "class: 0 norm count: 0.5764356969533567\n",
      "class: 1 norm count: 0.4235643030466433\n",
      "validation data\n",
      "class: 0 norm count: 0.5764192139737991\n",
      "class: 1 norm count: 0.42358078602620086\n",
      "test data\n",
      "class: 0 norm count: 0.5763929334109882\n",
      "class: 1 norm count: 0.4236070665890118\n",
      "\n",
      "-------------------------\n"
     ]
    }
   ],
   "source": [
    "fold_partitions = get_stratified_partitions(dataset.data.y,\n",
    "                                            num_folds=5,\n",
    "                                            valid_set_portion=0.1,\n",
    "                                            random_state=42)"
   ]
  },
  {
   "cell_type": "code",
   "execution_count": 26,
   "metadata": {},
   "outputs": [],
   "source": [
    "# train_val_test_frac = [0.7, 0.1, 0.2]\n",
    "# assert sum(train_val_test_frac) == 1\n",
    "\n",
    "# torch.manual_seed(42)\n",
    "# used_dataset = used_dataset.shuffle()\n",
    "\n",
    "# num_train = round(train_val_test_frac[0] * len(used_dataset)) \n",
    "# num_trainval = round((train_val_test_frac[0]+train_val_test_frac[1]) * len(used_dataset))\n",
    "\n",
    "# train_dataset = used_dataset[:num_train]\n",
    "# val_dataset = used_dataset[num_train:num_trainval]\n",
    "# test_dataset = used_dataset[num_trainval:]"
   ]
  },
  {
   "cell_type": "code",
   "execution_count": 27,
   "metadata": {},
   "outputs": [],
   "source": [
    "# train_dataset = Subset(used_dataset, fold_partitions[0]['train'])\n",
    "# val_dataset = Subset(used_dataset, fold_partitions[0]['validation'])\n",
    "# test_dataset = Subset(used_dataset, fold_partitions[0]['test'])"
   ]
  },
  {
   "cell_type": "code",
   "execution_count": 28,
   "metadata": {},
   "outputs": [],
   "source": [
    "# print(f'Number of training graphs: {len(train_dataset)}')\n",
    "# print(f'Number of val graphs: {len(val_dataset)}')\n",
    "# print(f'Number of test graphs: {len(test_dataset)}')"
   ]
  },
  {
   "cell_type": "code",
   "execution_count": 29,
   "metadata": {},
   "outputs": [
    {
     "name": "stdout",
     "output_type": "stream",
     "text": [
      "Number of training graphs: 18544\n",
      "Number of validation graphs: 2061\n",
      "Number of testing graphs: 5152\n"
     ]
    }
   ],
   "source": [
    "print(\"Number of training graphs: \"+ str(len(fold_partitions[0]['train'])))\n",
    "print(\"Number of validation graphs: \"+ str(len(fold_partitions[0]['validation'])))\n",
    "print(\"Number of testing graphs: \"+ str(len(fold_partitions[0]['test'])))\n"
   ]
  },
  {
   "cell_type": "code",
   "execution_count": 30,
   "metadata": {},
   "outputs": [],
   "source": [
    "# print(dataset.num_classes)"
   ]
  },
  {
   "cell_type": "code",
   "execution_count": 31,
   "metadata": {},
   "outputs": [],
   "source": [
    "# training params total_thresh 4\n",
    "tp = {\n",
    "    \"batch_size\" : 300,\n",
    "    \"num_epochs\" : 20,\n",
    "    \n",
    "    \"emb_dim\" : 300,\n",
    "    \"gnn_type\" : \"gatv2\",\n",
    "    \"num_layer\" : 5,\n",
    "    \"graph_pooling\" : \"mean\", #attention\n",
    "    \n",
    "    \"input_embed_dim\" : None,\n",
    "    \"gene_embed_dim\": 1,\n",
    "    \"num_attn_heads\" : 2,\n",
    "    \"num_transformer_units\" : 1,\n",
    "    \"p_dropout\" : 0.3,\n",
    "#     \"nonlin_func\" : nn.ReLU(),\n",
    "    \"mlp_embed_factor\" : 2,\n",
    "    \"pooling_mode\" : 'attn',\n",
    "    \"dist_opt\" : 'cosine',\n",
    "\n",
    "    \"base_lr\" : 3e-5, #3e-4\n",
    "    \"max_lr_mul\": 15,\n",
    "    \"l2_reg\" : 1e-7,\n",
    "    \"loss_w\" : 0.95,\n",
    "    \"margin_v\" : 1.,\n",
    "\n",
    "    \"expression_dim\" : 64,\n",
    "    \"expression_input_size\" : 908,\n",
    "    \"exp_H1\" : 500,\n",
    "    \"exp_H2\" : 400\n",
    "}"
   ]
  },
  {
   "cell_type": "code",
   "execution_count": 32,
   "metadata": {},
   "outputs": [],
   "source": [
    "# # training params total_thresh 3\n",
    "# tp = {\n",
    "#     \"batch_size\" : 300,\n",
    "#     \"num_epochs\" : 200,\n",
    "    \n",
    "#     \"emb_dim\" : 300,\n",
    "#     \"gnn_type\" : \"gatv2\",\n",
    "#     \"num_layer\" : 5,\n",
    "#     \"graph_pooling\" : \"mean\", #attention\n",
    "    \n",
    "#     \"input_embed_dim\" : None,\n",
    "#     \"gene_embed_dim\": 1,\n",
    "#     \"num_attn_heads\" : 2,\n",
    "#     \"num_transformer_units\" : 1,\n",
    "#     \"p_dropout\" : 0.3,\n",
    "# #     \"nonlin_func\" : nn.ReLU(),\n",
    "#     \"mlp_embed_factor\" : 2,\n",
    "#     \"pooling_mode\" : 'attn',\n",
    "#     \"dist_opt\" : 'cosine',\n",
    "\n",
    "#     \"base_lr\" : 3e-5, #3e-4\n",
    "#     \"max_lr_mul\": 10,\n",
    "#     \"l2_reg\" : 1e-8,\n",
    "#     \"loss_w\" : 0.3,\n",
    "#     \"margin_v\" : 1.,\n",
    "\n",
    "#     \"expression_dim\" : 64,\n",
    "#     \"expression_input_size\" : 908,\n",
    "#     \"exp_H1\" : 500,\n",
    "#     \"exp_H2\" : 400\n",
    "# }"
   ]
  },
  {
   "cell_type": "code",
   "execution_count": 33,
   "metadata": {},
   "outputs": [],
   "source": [
    "# targetdata_dir_exp = create_directory(os.path.join(targetdata_dir, \"experiments\"))\n",
    "# targetdata_dir_exp"
   ]
  },
  {
   "cell_type": "code",
   "execution_count": 34,
   "metadata": {},
   "outputs": [],
   "source": [
    "# device_gpu = get_device(True, index=0)\n",
    "# exp_dir = create_directory(os.path.join(targetdata_dir_exp, \"exp0\"))\n",
    "# tphp = generate_tp_hp(tp, hyperparam_space[0], hp_names)\n",
    "# partition = fold_partitions[0]"
   ]
  },
  {
   "cell_type": "code",
   "execution_count": 35,
   "metadata": {},
   "outputs": [],
   "source": [
    "# run_exp(tphp, device_gpu, exp_dir,partition=fold_partitions[0], used_dataset=used_dataset)"
   ]
  },
  {
   "cell_type": "code",
   "execution_count": 36,
   "metadata": {},
   "outputs": [],
   "source": [
    "def spawn_q_process(q_process):\n",
    "    print(\">>> spawning hyperparam search process\")\n",
    "    q_process.start()\n",
    "    \n",
    "def join_q_process(q_process):\n",
    "    q_process.join()\n",
    "    print(\"<<< joined hyperparam search process\")\n",
    "    \n",
    "def create_q_process(queue, used_dataset, gpu_num, tphp, exp_dir, partition): #\n",
    "#     fold_gpu_map = {0:gpu_num}\n",
    "    return mp.Process(target=deepadr.hyphelper.run_exp, args=(queue, used_dataset, gpu_num, tphp, exp_dir, partition)) #"
   ]
  },
  {
   "cell_type": "code",
   "execution_count": 37,
   "metadata": {
    "scrolled": true
   },
   "outputs": [
    {
     "name": "stdout",
     "output_type": "stream",
     "text": [
      "Start: 2022-02-26_13-44-37\n",
      "path_current_dir /cluster/home/skyriakos/chemprop_run/git/deepadr\n",
      "path_current_dir /cluster/home/skyriakos/chemprop_run/git/deepadr\n",
      ">>> spawning hyperparam search process\n",
      "path_current_dir /cluster/home/skyriakos/chemprop_run/git/deepadr\n",
      "path_current_dir /cluster/home/skyriakos/chemprop_run/git/deepadr\n",
      ">>> spawning hyperparam search process\n"
     ]
    },
    {
     "name": "stderr",
     "output_type": "stream",
     "text": [
      "\r",
      "Iteration:   0%|          | 0/62 [00:00<?, ?it/s]"
     ]
    },
    {
     "name": "stdout",
     "output_type": "stream",
     "text": [
      "gpu: cuda:0\n",
      "GeneEmbAttention pooling, gene_embed_dim: 1\n",
      "updated\n",
      "num classes: 2\n",
      "=====Epoch 0\n",
      "Training...\n",
      "path_current_dir /cluster/home/skyriakos/chemprop_run/git/deepadr\n",
      "path_current_dir /cluster/home/skyriakos/chemprop_run/git/deepadr\n",
      ">>> spawning hyperparam search process\n"
     ]
    },
    {
     "name": "stderr",
     "output_type": "stream",
     "text": [
      "Iteration:   0%|          | 0/62 [00:00<?, ?it/s].26s/it]"
     ]
    },
    {
     "name": "stdout",
     "output_type": "stream",
     "text": [
      "gpu: cuda:1\n",
      "GeneEmbAttention pooling, gene_embed_dim: 1\n",
      "updated\n",
      "num classes: 2\n",
      "=====Epoch 0\n",
      "Training...\n",
      "path_current_dir /cluster/home/skyriakos/chemprop_run/git/deepadr\n",
      "path_current_dir /cluster/home/skyriakos/chemprop_run/git/deepadr\n",
      ">>> spawning hyperparam search process\n"
     ]
    },
    {
     "name": "stderr",
     "output_type": "stream",
     "text": [
      "Iteration:   2%|▏         | 1/62 [00:02<02:23,  2.35s/it]"
     ]
    },
    {
     "name": "stdout",
     "output_type": "stream",
     "text": [
      "gpu: cuda:2\n",
      "GeneEmbAttention pooling, gene_embed_dim: 1\n",
      "updated\n",
      "num classes: 2\n",
      "=====Epoch 0\n",
      "Training...\n"
     ]
    },
    {
     "name": "stderr",
     "output_type": "stream",
     "text": [
      "Iteration:   3%|▎         | 2/62 [00:04<02:04,  2.08s/it]"
     ]
    },
    {
     "name": "stdout",
     "output_type": "stream",
     "text": [
      "path_current_dir /cluster/home/skyriakos/chemprop_run/git/deepadr\n",
      "path_current_dir /cluster/home/skyriakos/chemprop_run/git/deepadr\n",
      ">>> spawning hyperparam search process\n"
     ]
    },
    {
     "name": "stderr",
     "output_type": "stream",
     "text": [
      "Iteration:   5%|▍         | 3/62 [00:06<02:00,  2.03s/it]"
     ]
    },
    {
     "name": "stdout",
     "output_type": "stream",
     "text": [
      "gpu: cuda:3\n",
      "GeneEmbAttention pooling, gene_embed_dim: 1\n",
      "updated\n",
      "num classes: 2\n",
      "=====Epoch 0\n",
      "Training...\n"
     ]
    },
    {
     "name": "stderr",
     "output_type": "stream",
     "text": [
      "Iteration:   8%|▊         | 5/62 [00:10<01:52,  1.98s/it]"
     ]
    },
    {
     "name": "stdout",
     "output_type": "stream",
     "text": [
      "gpu: cuda:4\n",
      "GeneEmbAttention pooling, gene_embed_dim: 1\n",
      "updated\n",
      "num classes: 2\n",
      "=====Epoch 0\n",
      "Training...\n"
     ]
    },
    {
     "name": "stderr",
     "output_type": "stream",
     "text": [
      "Iteration: 100%|██████████| 62/62 [00:29<00:00,  2.13it/s]\n",
      "Iteration:   0%|          | 0/62 [00:00<?, ?it/s]"
     ]
    },
    {
     "name": "stdout",
     "output_type": "stream",
     "text": [
      "Evaluating...\n"
     ]
    },
    {
     "name": "stderr",
     "output_type": "stream",
     "text": [
      "Iteration: 100%|██████████| 62/62 [00:04<00:00, 15.02it/s]\n",
      "Iteration: 100%|██████████| 62/62 [00:30<00:00,  2.02it/s]\n",
      "Iteration:  67%|██████▋   | 12/18 [00:01<00:00, 10.28it/s]"
     ]
    },
    {
     "name": "stdout",
     "output_type": "stream",
     "text": [
      "Evaluating...\n"
     ]
    },
    {
     "name": "stderr",
     "output_type": "stream",
     "text": [
      "Iteration: 100%|██████████| 18/18 [00:01<00:00, 10.70it/s]\n",
      "Iteration: 100%|██████████| 62/62 [00:30<00:00,  2.04it/s]\n",
      "Iteration:  69%|██████▉   | 43/62 [00:26<00:04,  4.14it/s]"
     ]
    },
    {
     "name": "stdout",
     "output_type": "stream",
     "text": [
      "Evaluating...\n"
     ]
    },
    {
     "name": "stderr",
     "output_type": "stream",
     "text": [
      "Iteration: 100%|██████████| 62/62 [00:04<00:00, 14.69it/s]\n",
      "Iteration: 100%|██████████| 18/18 [00:01<00:00, 10.75it/s]\n",
      "Iteration: 100%|██████████| 7/7 [00:00<00:00,  8.29it/s]s]\n",
      "Iteration:   0%|          | 0/62 [00:00<?, ?it/s]"
     ]
    },
    {
     "name": "stdout",
     "output_type": "stream",
     "text": [
      "{'Train':  best_epoch_indx:0\n",
      " auc:0.7033542814766592 \n",
      " apur:0.6538980745658444 \n",
      " f1:0.6179745256969805 \n",
      " precision:0.47523803000205495 \n",
      " recall:0.8832590706556334 \n",
      ", 'Validation':  best_epoch_indx:0\n",
      " auc:0.6899772833335263 \n",
      " apur:0.6356636646350082 \n",
      " f1:0.6088 \n",
      " precision:0.4677320221266134 \n",
      " recall:0.8717067583046965 \n",
      ", 'Test':  best_epoch_indx:0\n",
      " auc:0.6981637332691412 \n",
      " apur:0.6434714105239123 \n",
      " f1:0.61216 \n",
      " precision:0.47025565388397245 \n",
      " recall:0.8767186067827681 \n",
      "}\n",
      "=====Epoch 1\n",
      "Training...\n"
     ]
    },
    {
     "name": "stderr",
     "output_type": "stream",
     "text": [
      "Iteration: 100%|██████████| 62/62 [00:30<00:00,  2.02it/s]\n",
      "Iteration:  15%|█▍        | 9/62 [00:01<00:07,  6.79it/s]]"
     ]
    },
    {
     "name": "stdout",
     "output_type": "stream",
     "text": [
      "Evaluating...\n"
     ]
    },
    {
     "name": "stderr",
     "output_type": "stream",
     "text": [
      "Iteration: 100%|██████████| 62/62 [00:04<00:00, 14.65it/s]\n",
      "Iteration: 100%|██████████| 18/18 [00:01<00:00, 10.34it/s]\n",
      "Iteration: 100%|██████████| 62/62 [00:30<00:00,  2.01it/s]\n",
      "Iteration:  87%|████████▋ | 54/62 [00:03<00:00, 15.17it/s]"
     ]
    },
    {
     "name": "stdout",
     "output_type": "stream",
     "text": [
      "Evaluating...\n"
     ]
    },
    {
     "name": "stderr",
     "output_type": "stream",
     "text": [
      "Iteration: 100%|██████████| 62/62 [00:04<00:00, 14.47it/s]\n",
      "Iteration: 100%|██████████| 7/7 [00:00<00:00,  7.79it/s]s]\n",
      "Iteration:  61%|██████▏   | 38/62 [00:05<00:03,  6.79it/s]"
     ]
    },
    {
     "name": "stdout",
     "output_type": "stream",
     "text": [
      "{'Train':  best_epoch_indx:0\n",
      " auc:0.7153410536028193 \n",
      " apur:0.6521215561404704 \n",
      " f1:0.5694078491194009 \n",
      " precision:0.6252474493680524 \n",
      " recall:0.5227243793761935 \n",
      ", 'Validation':  best_epoch_indx:0\n",
      " auc:0.7100231023484174 \n",
      " apur:0.639384075891083 \n",
      " f1:0.5807243707796194 \n",
      " precision:0.6256613756613757 \n",
      " recall:0.5418098510882016 \n",
      ", 'Test':  best_epoch_indx:0\n",
      " auc:0.7121496819709469 \n",
      " apur:0.6502558909353975 \n",
      " f1:0.5777777777777776 \n",
      " precision:0.6263383297644539 \n",
      " recall:0.536205316223648 \n",
      "}\n",
      "=====Epoch 1\n",
      "Training...\n"
     ]
    },
    {
     "name": "stderr",
     "output_type": "stream",
     "text": [
      "Iteration: 100%|██████████| 18/18 [00:01<00:00, 10.57it/s]\n",
      "Iteration: 100%|██████████| 7/7 [00:00<00:00,  7.79it/s]s]\n",
      "Iteration:   0%|          | 0/62 [00:00<?, ?it/s]6.17it/s]"
     ]
    },
    {
     "name": "stdout",
     "output_type": "stream",
     "text": [
      "{'Train':  best_epoch_indx:0\n",
      " auc:0.7009477676240132 \n",
      " apur:0.642461766172967 \n",
      " f1:0.6124093473005641 \n",
      " precision:0.5588822355289421 \n",
      " recall:0.6772756206238065 \n",
      ", 'Validation':  best_epoch_indx:0\n",
      " auc:0.6792263991576706 \n",
      " apur:0.6141988633554851 \n",
      " f1:0.6046035805626598 \n",
      " precision:0.5462107208872459 \n",
      " recall:0.6769759450171822 \n",
      ", 'Test':  best_epoch_indx:0\n",
      " auc:0.7010825119575053 \n",
      " apur:0.6378159678196399 \n",
      " f1:0.610351966873706 \n",
      " precision:0.5566465256797583 \n",
      " recall:0.6755270394133822 \n",
      "}\n",
      "=====Epoch 1\n",
      "Training...\n"
     ]
    },
    {
     "name": "stderr",
     "output_type": "stream",
     "text": [
      "\r",
      "Iteration: 100%|██████████| 62/62 [00:04<00:00, 15.77it/s]\r",
      "Iteration: 100%|██████████| 62/62 [00:04<00:00, 14.73it/s]\n",
      "\r",
      "Iteration:  98%|█████████▊| 61/62 [00:09<00:00,  6.31it/s]\r",
      "Iteration:   2%|▏         | 1/62 [00:00<00:08,  6.95it/s]\r",
      "Iteration:  35%|███▌      | 22/62 [00:03<00:06,  6.17it/s]\r",
      "Iteration: 100%|██████████| 62/62 [00:09<00:00,  6.44it/s]\r",
      "Iteration: 100%|██████████| 62/62 [00:09<00:00,  6.73it/s]\n",
      "\r",
      "Iteration:   0%|          | 0/62 [00:00<?, ?it/s]\r",
      "Iteration:   0%|          | 0/18 [00:00<?, ?it/s]"
     ]
    },
    {
     "name": "stdout",
     "output_type": "stream",
     "text": [
      "Evaluating...\n"
     ]
    },
    {
     "name": "stderr",
     "output_type": "stream",
     "text": [
      "Iteration: 100%|██████████| 18/18 [00:01<00:00, 10.88it/s]\n",
      "Iteration: 100%|██████████| 7/7 [00:00<00:00,  8.18it/s]s]\n",
      "Iteration:  40%|████      | 25/62 [00:04<00:05,  6.24it/s]"
     ]
    },
    {
     "name": "stdout",
     "output_type": "stream",
     "text": [
      "{'Train':  best_epoch_indx:0\n",
      " auc:0.7253052848072435 \n",
      " apur:0.6589937256925782 \n",
      " f1:0.6439248754311997 \n",
      " precision:0.5162479834063148 \n",
      " recall:0.8555060471037556 \n",
      ", 'Validation':  best_epoch_indx:0\n",
      " auc:0.7041183117929968 \n",
      " apur:0.6380095690911752 \n",
      " f1:0.6278458844133099 \n",
      " precision:0.5081502480510276 \n",
      " recall:0.8213058419243986 \n",
      ", 'Test':  best_epoch_indx:0\n",
      " auc:0.7146797845997396 \n",
      " apur:0.6559004669835341 \n",
      " f1:0.6365049214298049 \n",
      " precision:0.5106677750069272 \n",
      " recall:0.8446379468377635 \n",
      "}\n",
      "=====Epoch 1\n",
      "Training...\n"
     ]
    },
    {
     "name": "stderr",
     "output_type": "stream",
     "text": [
      "Iteration: 100%|██████████| 62/62 [00:04<00:00, 15.05it/s]\n",
      "Iteration: 100%|██████████| 18/18 [00:01<00:00, 16.03it/s]\n",
      "Iteration: 100%|██████████| 62/62 [00:09<00:00,  6.21it/s]\n",
      "Iteration:  29%|██▉       | 18/62 [00:02<00:07,  6.16it/s]"
     ]
    },
    {
     "name": "stdout",
     "output_type": "stream",
     "text": [
      "Evaluating...\n"
     ]
    },
    {
     "name": "stderr",
     "output_type": "stream",
     "text": [
      "Iteration: 100%|██████████| 7/7 [00:00<00:00,  8.07it/s]s]\n",
      "Iteration:  37%|███▋      | 23/62 [00:03<00:06,  6.21it/s]"
     ]
    },
    {
     "name": "stdout",
     "output_type": "stream",
     "text": [
      "{'Train':  best_epoch_indx:0\n",
      " auc:0.7133557719160248 \n",
      " apur:0.6491390744980672 \n",
      " f1:0.6207216076909712 \n",
      " precision:0.5693795155121122 \n",
      " recall:0.682240611075748 \n",
      ", 'Validation':  best_epoch_indx:0\n",
      " auc:0.7134079435053089 \n",
      " apur:0.6512520909632525 \n",
      " f1:0.6135163674762406 \n",
      " precision:0.5690499510284035 \n",
      " recall:0.6655211912943871 \n",
      ", 'Test':  best_epoch_indx:0\n",
      " auc:0.7155026011220744 \n",
      " apur:0.6529135537462991 \n",
      " f1:0.6144174350377202 \n",
      " precision:0.566023166023166 \n",
      " recall:0.6718606782768103 \n",
      "}\n",
      "=====Epoch 1\n",
      "Training...\n"
     ]
    },
    {
     "name": "stderr",
     "output_type": "stream",
     "text": [
      "Iteration: 100%|██████████| 62/62 [00:09<00:00,  6.23it/s]\n",
      "Iteration:  26%|██▌       | 16/62 [00:02<00:07,  6.33it/s]"
     ]
    },
    {
     "name": "stdout",
     "output_type": "stream",
     "text": [
      "Evaluating...\n"
     ]
    },
    {
     "name": "stderr",
     "output_type": "stream",
     "text": [
      "Iteration: 100%|██████████| 62/62 [00:04<00:00, 15.25it/s]\n",
      "Iteration: 100%|██████████| 7/7 [00:00<00:00, 15.29it/s]s]\n",
      "Iteration:  35%|███▌      | 22/62 [00:03<00:06,  6.36it/s]"
     ]
    },
    {
     "name": "stdout",
     "output_type": "stream",
     "text": [
      "{'Train':  best_epoch_indx:1\n",
      " auc:0.7688110688519623 \n",
      " apur:0.7082086298151316 \n",
      " f1:0.6672639123102867 \n",
      " precision:0.5692833378293319 \n",
      " recall:0.8059834500318268 \n",
      ", 'Validation':  best_epoch_indx:1\n",
      " auc:0.753978309247496 \n",
      " apur:0.6834567846207501 \n",
      " f1:0.660559305689489 \n",
      " precision:0.5703580349708576 \n",
      " recall:0.7846506300114547 \n",
      ", 'Test':  best_epoch_indx:1\n",
      " auc:0.7667335592404336 \n",
      " apur:0.6980304437211926 \n",
      " f1:0.6638894148835447 \n",
      " precision:0.5656663439819296 \n",
      " recall:0.803391384051329 \n",
      "}\n",
      "=====Epoch 2\n",
      "Training...\n"
     ]
    },
    {
     "name": "stderr",
     "output_type": "stream",
     "text": [
      "Iteration: 100%|██████████| 18/18 [00:01<00:00, 16.23it/s]\n",
      "Iteration: 100%|██████████| 62/62 [00:10<00:00,  6.17it/s]\n",
      "Iteration:  32%|███▏      | 20/62 [00:03<00:06,  6.83it/s]"
     ]
    },
    {
     "name": "stdout",
     "output_type": "stream",
     "text": [
      "Evaluating...\n"
     ]
    },
    {
     "name": "stderr",
     "output_type": "stream",
     "text": [
      "Iteration: 100%|██████████| 62/62 [00:04<00:00, 15.06it/s]\n",
      "Iteration: 100%|██████████| 18/18 [00:01<00:00, 15.86it/s]\n",
      "Iteration: 100%|██████████| 7/7 [00:00<00:00, 15.38it/s]s]\n",
      "Iteration:  98%|█████████▊| 61/62 [00:09<00:00,  6.25it/s]"
     ]
    },
    {
     "name": "stdout",
     "output_type": "stream",
     "text": [
      "{'Train':  best_epoch_indx:1\n",
      " auc:0.7789311950827335 \n",
      " apur:0.7262268472505281 \n",
      " f1:0.6753429475905732 \n",
      " precision:0.6258828642833858 \n",
      " recall:0.7332908975175048 \n",
      ", 'Validation':  best_epoch_indx:1\n",
      " auc:0.7689774800313174 \n",
      " apur:0.7086536245544081 \n",
      " f1:0.6680606377417669 \n",
      " precision:0.614423076923077 \n",
      " recall:0.7319587628865979 \n",
      ", 'Test':  best_epoch_indx:1\n",
      " auc:0.7730061075157317 \n",
      " apur:0.7199057015448866 \n",
      " f1:0.6692111959287532 \n",
      " precision:0.6227308602999211 \n",
      " recall:0.7231897341888176 \n",
      "}\n",
      "=====Epoch 2\n",
      "Training...\n",
      "Evaluating...\n"
     ]
    },
    {
     "name": "stderr",
     "output_type": "stream",
     "text": [
      "Iteration: 100%|██████████| 62/62 [00:09<00:00,  6.28it/s]\n",
      "Iteration: 100%|██████████| 62/62 [00:04<00:00, 14.84it/s]\n",
      "Iteration: 100%|██████████| 18/18 [00:01<00:00, 15.91it/s]\n",
      "Iteration: 100%|██████████| 62/62 [00:09<00:00,  6.63it/s]\n",
      "Iteration:   3%|▎         | 2/62 [00:00<00:04, 14.27it/s]]"
     ]
    },
    {
     "name": "stdout",
     "output_type": "stream",
     "text": [
      "Evaluating...\n"
     ]
    },
    {
     "name": "stderr",
     "output_type": "stream",
     "text": [
      "Iteration: 100%|██████████| 7/7 [00:00<00:00, 15.26it/s]s]\n",
      "Iteration:  13%|█▎        | 8/62 [00:00<00:03, 14.32it/s]]"
     ]
    },
    {
     "name": "stdout",
     "output_type": "stream",
     "text": [
      "{'Train':  best_epoch_indx:1\n",
      " auc:0.7692982072753408 \n",
      " apur:0.7152287792461209 \n",
      " f1:0.6684670190760745 \n",
      " precision:0.6091737354696827 \n",
      " recall:0.7405474220241884 \n",
      ", 'Validation':  best_epoch_indx:1\n",
      " auc:0.7481284783690282 \n",
      " apur:0.682880374937358 \n",
      " f1:0.6496685364609892 \n",
      " precision:0.5854779411764706 \n",
      " recall:0.7296678121420389 \n",
      ", 'Test':  best_epoch_indx:1\n",
      " auc:0.7665449331450963 \n",
      " apur:0.7096053651275044 \n",
      " f1:0.6668054110301769 \n",
      " precision:0.6107510484178421 \n",
      " recall:0.7341888175985335 \n",
      "}\n",
      "=====Epoch 2\n",
      "Training...\n"
     ]
    },
    {
     "name": "stderr",
     "output_type": "stream",
     "text": [
      "Iteration: 100%|██████████| 62/62 [00:04<00:00, 15.36it/s]\n",
      "Iteration: 100%|██████████| 18/18 [00:01<00:00, 16.48it/s]\n",
      "Iteration: 100%|██████████| 62/62 [00:04<00:00, 14.63it/s]\n",
      "Iteration: 100%|██████████| 7/7 [00:00<00:00, 15.16it/s]s]\n",
      "Iteration:   0%|          | 0/18 [00:00<?, ?it/s]6.19it/s]"
     ]
    },
    {
     "name": "stdout",
     "output_type": "stream",
     "text": [
      "{'Train':  best_epoch_indx:1\n",
      " auc:0.7859413635473167 \n",
      " apur:0.7318641425905892 \n",
      " f1:0.6836146562371347 \n",
      " precision:0.5737237626328064 \n",
      " recall:0.8455760661998727 \n",
      ", 'Validation':  best_epoch_indx:1\n",
      " auc:0.7630317107693969 \n",
      " apur:0.7156531778098688 \n",
      " f1:0.6672862453531597 \n",
      " precision:0.5613760750586395 \n",
      " recall:0.8224513172966781 \n",
      ", 'Test':  best_epoch_indx:1\n",
      " auc:0.7792983962911589 \n",
      " apur:0.7339810171625832 \n",
      " f1:0.6775735294117647 \n",
      " precision:0.5656844689993862 \n",
      " recall:0.8446379468377635 \n",
      "}\n",
      "=====Epoch 2\n",
      "Training...\n"
     ]
    },
    {
     "name": "stderr",
     "output_type": "stream",
     "text": [
      "Iteration: 100%|██████████| 18/18 [00:01<00:00, 16.07it/s]\n",
      "Iteration: 100%|██████████| 62/62 [00:09<00:00,  6.23it/s]\n",
      "Iteration:  27%|██▋       | 17/62 [00:02<00:07,  6.13it/s]"
     ]
    },
    {
     "name": "stdout",
     "output_type": "stream",
     "text": [
      "Evaluating...\n"
     ]
    },
    {
     "name": "stderr",
     "output_type": "stream",
     "text": [
      "Iteration: 100%|██████████| 7/7 [00:00<00:00, 15.55it/s]s]\n",
      "Iteration:   2%|▏         | 1/62 [00:00<00:08,  7.05it/s]]"
     ]
    },
    {
     "name": "stdout",
     "output_type": "stream",
     "text": [
      "{'Train':  best_epoch_indx:1\n",
      " auc:0.7694526017938561 \n",
      " apur:0.7106638039353692 \n",
      " f1:0.6701748615907471 \n",
      " precision:0.5884674624566808 \n",
      " recall:0.7782304264799491 \n",
      ", 'Validation':  best_epoch_indx:1\n",
      " auc:0.7760258175492998 \n",
      " apur:0.7161421896068769 \n",
      " f1:0.6799601196410767 \n",
      " precision:0.6019417475728155 \n",
      " recall:0.7812142038946163 \n",
      ", 'Test':  best_epoch_indx:1\n",
      " auc:0.7708074329945952 \n",
      " apur:0.714658148677906 \n",
      " f1:0.671031746031746 \n",
      " precision:0.5916724982505248 \n",
      " recall:0.7749770852428964 \n",
      "}\n",
      "=====Epoch 2\n",
      "Training...\n"
     ]
    },
    {
     "name": "stderr",
     "output_type": "stream",
     "text": [
      "Iteration: 100%|██████████| 62/62 [00:09<00:00,  6.21it/s]\n",
      "Iteration:  29%|██▊       | 2/7 [00:00<00:00, 14.31it/s]s]"
     ]
    },
    {
     "name": "stdout",
     "output_type": "stream",
     "text": [
      "Evaluating...\n"
     ]
    },
    {
     "name": "stderr",
     "output_type": "stream",
     "text": [
      "Iteration: 100%|██████████| 7/7 [00:00<00:00, 15.44it/s]s]\n",
      "Iteration:  34%|███▍      | 21/62 [00:03<00:06,  6.29it/s]"
     ]
    },
    {
     "name": "stdout",
     "output_type": "stream",
     "text": [
      "{'Train':  best_epoch_indx:2\n",
      " auc:0.7920201074068005 \n",
      " apur:0.7317406301717342 \n",
      " f1:0.6870554026688821 \n",
      " precision:0.5801473167309716 \n",
      " recall:0.8422660725652451 \n",
      ", 'Validation':  best_epoch_indx:2\n",
      " auc:0.7753306258460899 \n",
      " apur:0.7070382686559294 \n",
      " f1:0.6767058823529413 \n",
      " precision:0.5742811501597445 \n",
      " recall:0.8235967926689576 \n",
      ", 'Test':  best_epoch_indx:2\n",
      " auc:0.7837542859082731 \n",
      " apur:0.7160864114729879 \n",
      " f1:0.6873030583873957 \n",
      " precision:0.5770308123249299 \n",
      " recall:0.84967919340055 \n",
      "}\n",
      "=====Epoch 3\n",
      "Training...\n"
     ]
    },
    {
     "name": "stderr",
     "output_type": "stream",
     "text": [
      "Iteration: 100%|██████████| 62/62 [00:04<00:00, 14.56it/s]\n",
      "Iteration: 100%|██████████| 18/18 [00:01<00:00, 16.24it/s]\n",
      "Iteration: 100%|██████████| 62/62 [00:10<00:00,  6.19it/s]\n",
      "Iteration:  97%|█████████▋| 60/62 [00:04<00:00, 15.24it/s]"
     ]
    },
    {
     "name": "stdout",
     "output_type": "stream",
     "text": [
      "Evaluating...\n"
     ]
    },
    {
     "name": "stderr",
     "output_type": "stream",
     "text": [
      "Iteration: 100%|██████████| 62/62 [00:04<00:00, 14.37it/s]\n",
      "Iteration: 100%|██████████| 18/18 [00:01<00:00, 16.04it/s]\n",
      "Iteration: 100%|██████████| 62/62 [00:09<00:00,  6.28it/s]\n",
      "Iteration:  57%|█████▋    | 4/7 [00:00<00:00, 14.96it/s]"
     ]
    },
    {
     "name": "stdout",
     "output_type": "stream",
     "text": [
      "Evaluating...\n"
     ]
    },
    {
     "name": "stderr",
     "output_type": "stream",
     "text": [
      "\r",
      "Iteration:  77%|███████▋  | 48/62 [00:03<00:00, 15.26it/s]\r",
      "Iteration:  73%|███████▎  | 45/62 [00:06<00:02,  6.76it/s]\r",
      "Iteration:   3%|▎         | 2/62 [00:00<00:04, 13.08it/s]\r",
      "Iteration:  86%|████████▌ | 6/7 [00:00<00:00, 15.18it/s]\r",
      "Iteration: 100%|██████████| 7/7 [00:00<00:00, 15.40it/s]\n",
      "\r",
      "Iteration:  81%|████████  | 50/62 [00:03<00:00, 15.23it/s]\r",
      "Iteration:   0%|          | 0/62 [00:00<?, ?it/s]\r",
      "Iteration:  74%|███████▍  | 46/62 [00:06<00:02,  6.86it/s]\r",
      "Iteration:   6%|▋         | 4/62 [00:00<00:04, 13.97it/s]"
     ]
    },
    {
     "name": "stdout",
     "output_type": "stream",
     "text": [
      "{'Train':  best_epoch_indx:2\n",
      " auc:0.8028436165152859 \n",
      " apur:0.7534402298943702 \n",
      " f1:0.6920178540374471 \n",
      " precision:0.6352703277990635 \n",
      " recall:0.7598981540420114 \n",
      ", 'Validation':  best_epoch_indx:2\n",
      " auc:0.7884100647559983 \n",
      " apur:0.7287888770708537 \n",
      " f1:0.6799163179916318 \n",
      " precision:0.6256015399422522 \n",
      " recall:0.7445589919816724 \n",
      ", 'Test':  best_epoch_indx:2\n",
      " auc:0.7915135158489879 \n",
      " apur:0.7371177370175366 \n",
      " f1:0.6849199663016006 \n",
      " precision:0.6336710833982853 \n",
      " recall:0.7451879010082493 \n",
      "}\n",
      "=====Epoch 3\n",
      "Training...\n"
     ]
    },
    {
     "name": "stderr",
     "output_type": "stream",
     "text": [
      "Iteration: 100%|██████████| 62/62 [00:04<00:00, 14.34it/s]\n",
      "Iteration: 100%|██████████| 18/18 [00:01<00:00, 16.01it/s]\n",
      "Iteration: 100%|██████████| 62/62 [00:09<00:00,  6.73it/s]\n",
      "Iteration:  24%|██▍       | 15/62 [00:02<00:07,  6.15it/s]"
     ]
    },
    {
     "name": "stdout",
     "output_type": "stream",
     "text": [
      "Evaluating...\n"
     ]
    },
    {
     "name": "stderr",
     "output_type": "stream",
     "text": [
      "Iteration: 100%|██████████| 7/7 [00:00<00:00, 15.33it/s]s]\n",
      "Iteration:  94%|█████████▎| 58/62 [00:03<00:00, 15.54it/s]"
     ]
    },
    {
     "name": "stdout",
     "output_type": "stream",
     "text": [
      "{'Train':  best_epoch_indx:2\n",
      " auc:0.7915634462090307 \n",
      " apur:0.7318924277016625 \n",
      " f1:0.6841952184282474 \n",
      " precision:0.6299271636675235 \n",
      " recall:0.7486950986632718 \n",
      ", 'Validation':  best_epoch_indx:2\n",
      " auc:0.7692272090897521 \n",
      " apur:0.696908891040414 \n",
      " f1:0.6635514018691588 \n",
      " precision:0.6068376068376068 \n",
      " recall:0.7319587628865979 \n",
      ", 'Test':  best_epoch_indx:2\n",
      " auc:0.7852878769589455 \n",
      " apur:0.7234409620178699 \n",
      " f1:0.6761446790717124 \n",
      " precision:0.621683967704729 \n",
      " recall:0.7410632447296058 \n",
      "}\n",
      "=====Epoch 3\n",
      "Training...\n"
     ]
    },
    {
     "name": "stderr",
     "output_type": "stream",
     "text": [
      "Iteration: 100%|██████████| 62/62 [00:04<00:00, 14.60it/s]\n",
      "Iteration: 100%|██████████| 18/18 [00:01<00:00, 16.48it/s]\n",
      "Iteration: 100%|██████████| 62/62 [00:04<00:00, 15.30it/s]\n",
      "Iteration: 100%|██████████| 7/7 [00:00<00:00, 15.29it/s]s]\n",
      "Iteration:  78%|███████▊  | 14/18 [00:00<00:00, 15.63it/s]"
     ]
    },
    {
     "name": "stdout",
     "output_type": "stream",
     "text": [
      "{'Train':  best_epoch_indx:2\n",
      " auc:0.8042645434467925 \n",
      " apur:0.7517505219862526 \n",
      " f1:0.6881665820213307 \n",
      " precision:0.572454583861428 \n",
      " recall:0.8625079567154679 \n",
      ", 'Validation':  best_epoch_indx:2\n",
      " auc:0.7854634547074411 \n",
      " apur:0.7343285451240992 \n",
      " f1:0.675811614083219 \n",
      " precision:0.5624048706240488 \n",
      " recall:0.8465063001145475 \n",
      ", 'Test':  best_epoch_indx:2\n",
      " auc:0.7969267829903812 \n",
      " apur:0.7495344857295865 \n",
      " f1:0.6837916063675832 \n",
      " precision:0.5648535564853556 \n",
      " recall:0.8661778185151238 \n",
      "}\n",
      "=====Epoch 3\n",
      "Training...\n"
     ]
    },
    {
     "name": "stderr",
     "output_type": "stream",
     "text": [
      "Iteration: 100%|██████████| 18/18 [00:01<00:00, 15.98it/s]\n",
      "Iteration: 100%|██████████| 62/62 [00:09<00:00,  6.22it/s]\n",
      "Iteration:  65%|██████▍   | 40/62 [00:06<00:03,  6.18it/s]"
     ]
    },
    {
     "name": "stdout",
     "output_type": "stream",
     "text": [
      "Evaluating...\n"
     ]
    },
    {
     "name": "stderr",
     "output_type": "stream",
     "text": [
      "Iteration: 100%|██████████| 7/7 [00:00<00:00, 15.58it/s]]]\n",
      "Iteration:  31%|███       | 19/62 [00:03<00:07,  6.13it/s]"
     ]
    },
    {
     "name": "stdout",
     "output_type": "stream",
     "text": [
      "{'Train':  best_epoch_indx:2\n",
      " auc:0.7949054274773296 \n",
      " apur:0.738886848056858 \n",
      " f1:0.6787502376576463 \n",
      " precision:0.6757950530035336 \n",
      " recall:0.6817313812858052 \n",
      ", 'Validation':  best_epoch_indx:2\n",
      " auc:0.7920422244591774 \n",
      " apur:0.7332084435995723 \n",
      " f1:0.6827864133563616 \n",
      " precision:0.6863425925925926 \n",
      " recall:0.6792668957617412 \n",
      ", 'Test':  best_epoch_indx:2\n",
      " auc:0.7948686997538573 \n",
      " apur:0.7413732602881028 \n",
      " f1:0.6726395589248793 \n",
      " precision:0.6743436204514048 \n",
      " recall:0.6709440879926672 \n",
      "}\n",
      "=====Epoch 3\n",
      "Training...\n"
     ]
    },
    {
     "name": "stderr",
     "output_type": "stream",
     "text": [
      "Iteration: 100%|██████████| 7/7 [00:00<00:00, 14.92it/s]s]\n",
      "Iteration:  26%|██▌       | 16/62 [00:02<00:07,  6.23it/s]"
     ]
    },
    {
     "name": "stdout",
     "output_type": "stream",
     "text": [
      "{'Train':  best_epoch_indx:3\n",
      " auc:0.8114400254067029 \n",
      " apur:0.7634318721238393 \n",
      " f1:0.6753912574203994 \n",
      " precision:0.7183240063136749 \n",
      " recall:0.6373010821133036 \n",
      ", 'Validation':  best_epoch_indx:3\n",
      " auc:0.7961854127375319 \n",
      " apur:0.7382744080024186 \n",
      " f1:0.6550652579241765 \n",
      " precision:0.7160326086956522 \n",
      " recall:0.6036655211912944 \n",
      ", 'Test':  best_epoch_indx:3\n",
      " auc:0.8086827640906468 \n",
      " apur:0.7555694547633576 \n",
      " f1:0.6694074969770254 \n",
      " precision:0.7086533538146441 \n",
      " recall:0.6342804766269478 \n",
      "}\n",
      "=====Epoch 4\n",
      "Training...\n"
     ]
    },
    {
     "name": "stderr",
     "output_type": "stream",
     "text": [
      "Iteration: 100%|██████████| 62/62 [00:10<00:00,  6.19it/s]\n",
      "Iteration:   3%|▎         | 2/62 [00:00<00:04, 13.21it/s]]"
     ]
    },
    {
     "name": "stdout",
     "output_type": "stream",
     "text": [
      "Evaluating...\n"
     ]
    },
    {
     "name": "stderr",
     "output_type": "stream",
     "text": [
      "Iteration: 100%|██████████| 62/62 [00:04<00:00, 15.32it/s]\n",
      "Iteration: 100%|██████████| 18/18 [00:01<00:00, 16.30it/s]\n",
      "Iteration: 100%|██████████| 62/62 [00:10<00:00,  6.15it/s]\n",
      "Iteration: 100%|██████████| 62/62 [00:04<00:00, 15.04it/s]\n"
     ]
    },
    {
     "name": "stdout",
     "output_type": "stream",
     "text": [
      "Evaluating...\n"
     ]
    },
    {
     "name": "stderr",
     "output_type": "stream",
     "text": [
      "Iteration: 100%|██████████| 18/18 [00:01<00:00, 15.85it/s]\n",
      "Iteration: 100%|██████████| 62/62 [00:09<00:00,  6.26it/s]\n",
      "Iteration:  77%|███████▋  | 48/62 [00:07<00:02,  6.17it/s]"
     ]
    },
    {
     "name": "stdout",
     "output_type": "stream",
     "text": [
      "Evaluating...\n"
     ]
    },
    {
     "name": "stderr",
     "output_type": "stream",
     "text": [
      "\r",
      "Iteration:  57%|█████▋    | 4/7 [00:00<00:00, 13.90it/s]\r",
      "Iteration:   3%|▎         | 2/62 [00:00<00:04, 13.18it/s]\r",
      "Iteration:  71%|███████   | 44/62 [00:02<00:01, 15.01it/s]\r",
      "Iteration:  79%|███████▉  | 49/62 [00:07<00:02,  6.19it/s]\r",
      "Iteration:  86%|████████▌ | 6/7 [00:00<00:00, 14.29it/s]\r",
      "Iteration:   6%|▋         | 4/62 [00:00<00:04, 13.94it/s]\r",
      "Iteration:  74%|███████▍  | 46/62 [00:03<00:01, 15.00it/s]\r",
      "Iteration: 100%|██████████| 7/7 [00:00<00:00, 14.49it/s]\n"
     ]
    },
    {
     "name": "stdout",
     "output_type": "stream",
     "text": [
      "{'Train':  best_epoch_indx:3\n",
      " auc:0.8157656737841046 \n",
      " apur:0.7677661991621085 \n",
      " f1:0.7068648936800331 \n",
      " precision:0.6609437306158618 \n",
      " recall:0.7596435391470401 \n",
      ", 'Validation':  best_epoch_indx:3\n",
      " auc:0.8058612084958019 \n",
      " apur:0.7427620676362634 \n",
      " f1:0.6920600858369099 \n",
      " precision:0.6508577194752775 \n",
      " recall:0.738831615120275 \n",
      ", 'Test':  best_epoch_indx:3\n",
      " auc:0.8052967808238203 \n",
      " apur:0.7524743631106297 \n",
      " f1:0.7017094017094017 \n",
      " precision:0.6573258606885508 \n",
      " recall:0.7525206232813932 \n",
      "}\n",
      "=====Epoch 4\n",
      "Training...\n"
     ]
    },
    {
     "name": "stderr",
     "output_type": "stream",
     "text": [
      "Iteration: 100%|██████████| 62/62 [00:04<00:00, 14.86it/s]\n",
      "Iteration: 100%|██████████| 62/62 [00:09<00:00,  6.39it/s]\n",
      "Iteration:  67%|██████▋   | 12/18 [00:00<00:00, 15.39it/s]"
     ]
    },
    {
     "name": "stdout",
     "output_type": "stream",
     "text": [
      "Evaluating...\n"
     ]
    },
    {
     "name": "stderr",
     "output_type": "stream",
     "text": [
      "Iteration: 100%|██████████| 18/18 [00:01<00:00, 15.78it/s]\n",
      "Iteration: 100%|██████████| 7/7 [00:00<00:00, 14.50it/s]s]\n"
     ]
    },
    {
     "name": "stdout",
     "output_type": "stream",
     "text": [
      "{'Train':  best_epoch_indx:3\n",
      " auc:0.8080402929857646 \n",
      " apur:0.7544334295526725 \n",
      " f1:0.6967265725288831 \n",
      " precision:0.6007748362697168 \n",
      " recall:0.8291534054742202 \n",
      ", 'Validation':  best_epoch_indx:3\n",
      " auc:0.7862357827993567 \n",
      " apur:0.7208028215000972 \n",
      " f1:0.6806482364156339 \n",
      " precision:0.5828571428571429 \n",
      " recall:0.8178694158075601 \n",
      ", 'Test':  best_epoch_indx:3\n",
      " auc:0.8055326673826917 \n",
      " apur:0.7511404466026619 \n",
      " f1:0.7010628019323673 \n",
      " precision:0.6060808553291013 \n",
      " recall:0.8313473877176902 \n",
      "}\n",
      "=====Epoch 4\n",
      "Training...\n"
     ]
    },
    {
     "name": "stderr",
     "output_type": "stream",
     "text": [
      "Iteration: 100%|██████████| 62/62 [00:04<00:00, 15.12it/s]\n",
      "Iteration: 100%|██████████| 18/18 [00:01<00:00, 16.22it/s]\n",
      "Iteration: 100%|██████████| 62/62 [00:04<00:00, 14.94it/s]\n",
      "Iteration: 100%|██████████| 18/18 [00:01<00:00, 15.81it/s]\n",
      "Iteration: 100%|██████████| 7/7 [00:00<00:00, 14.27it/s]s]\n",
      "Iteration:  79%|███████▉  | 49/62 [00:07<00:02,  6.33it/s]"
     ]
    },
    {
     "name": "stdout",
     "output_type": "stream",
     "text": [
      "{'Train':  best_epoch_indx:3\n",
      " auc:0.8105405802909256 \n",
      " apur:0.762872374515984 \n",
      " f1:0.6977457807152131 \n",
      " precision:0.6503134968650314 \n",
      " recall:0.7526416295353279 \n",
      ", 'Validation':  best_epoch_indx:3\n",
      " auc:0.790917961593792 \n",
      " apur:0.7428442267633664 \n",
      " f1:0.6798503474078031 \n",
      " precision:0.6372745490981964 \n",
      " recall:0.7285223367697594 \n",
      ", 'Test':  best_epoch_indx:3\n",
      " auc:0.7987008436397001 \n",
      " apur:0.7531843054353216 \n",
      " f1:0.6940235690235691 \n",
      " precision:0.6416342412451362 \n",
      " recall:0.7557286892758937 \n",
      "}\n",
      "=====Epoch 4\n",
      "Training...\n"
     ]
    },
    {
     "name": "stderr",
     "output_type": "stream",
     "text": [
      "Iteration: 100%|██████████| 62/62 [00:09<00:00,  6.27it/s]\n",
      "Iteration:   3%|▎         | 2/62 [00:00<00:04, 13.14it/s]]"
     ]
    },
    {
     "name": "stdout",
     "output_type": "stream",
     "text": [
      "Evaluating...\n"
     ]
    },
    {
     "name": "stderr",
     "output_type": "stream",
     "text": [
      "Iteration: 100%|██████████| 7/7 [00:00<00:00, 14.89it/s]s]\n",
      "Iteration:  27%|██▋       | 17/62 [00:02<00:07,  6.13it/s]"
     ]
    },
    {
     "name": "stdout",
     "output_type": "stream",
     "text": [
      "{'Train':  best_epoch_indx:3\n",
      " auc:0.8038401535311144 \n",
      " apur:0.7454282006458959 \n",
      " f1:0.6961306141977155 \n",
      " precision:0.6564403338596887 \n",
      " recall:0.7409293443666455 \n",
      ", 'Validation':  best_epoch_indx:3\n",
      " auc:0.7996054473717704 \n",
      " apur:0.7395845019155507 \n",
      " f1:0.6946688206785138 \n",
      " precision:0.6554878048780488 \n",
      " recall:0.738831615120275 \n",
      ", 'Test':  best_epoch_indx:3\n",
      " auc:0.8007352326006065 \n",
      " apur:0.7456827566190212 \n",
      " f1:0.6888309430682312 \n",
      " precision:0.6549586776859504 \n",
      " recall:0.726397800183318 \n",
      "}\n",
      "=====Epoch 4\n",
      "Training...\n"
     ]
    },
    {
     "name": "stderr",
     "output_type": "stream",
     "text": [
      "Iteration: 100%|██████████| 7/7 [00:00<00:00, 15.11it/s]s]\n",
      "Iteration:   2%|▏         | 1/62 [00:00<00:08,  6.81it/s]]"
     ]
    },
    {
     "name": "stdout",
     "output_type": "stream",
     "text": [
      "{'Train':  best_epoch_indx:4\n",
      " auc:0.8198811261200664 \n",
      " apur:0.7668187289377244 \n",
      " f1:0.696821356308335 \n",
      " precision:0.7149745512992232 \n",
      " recall:0.6795671546785487 \n",
      ", 'Validation':  best_epoch_indx:4\n",
      " auc:0.805024278678345 \n",
      " apur:0.7445278110421665 \n",
      " f1:0.6762589928057554 \n",
      " precision:0.7094339622641509 \n",
      " recall:0.6460481099656358 \n",
      ", 'Test':  best_epoch_indx:4\n",
      " auc:0.8129081835772944 \n",
      " apur:0.7560652562919146 \n",
      " f1:0.6945412311265969 \n",
      " precision:0.7041921808761187 \n",
      " recall:0.6851512373968836 \n",
      "}\n",
      "=====Epoch 5\n",
      "Training...\n"
     ]
    },
    {
     "name": "stderr",
     "output_type": "stream",
     "text": [
      "Iteration: 100%|██████████| 62/62 [00:10<00:00,  6.18it/s]\n",
      "Iteration:  97%|█████████▋| 60/62 [00:04<00:00, 15.40it/s]"
     ]
    },
    {
     "name": "stdout",
     "output_type": "stream",
     "text": [
      "Evaluating...\n"
     ]
    },
    {
     "name": "stderr",
     "output_type": "stream",
     "text": [
      "Iteration: 100%|██████████| 62/62 [00:04<00:00, 15.03it/s]\n",
      "Iteration: 100%|██████████| 18/18 [00:01<00:00, 16.05it/s]\n",
      "Iteration: 100%|██████████| 62/62 [00:10<00:00,  6.16it/s]\n",
      "Iteration: 100%|██████████| 62/62 [00:04<00:00, 14.97it/s]\n"
     ]
    },
    {
     "name": "stdout",
     "output_type": "stream",
     "text": [
      "Evaluating...\n"
     ]
    },
    {
     "name": "stderr",
     "output_type": "stream",
     "text": [
      "Iteration: 100%|██████████| 18/18 [00:01<00:00, 15.82it/s]\n",
      "Iteration: 100%|██████████| 62/62 [00:09<00:00,  6.25it/s]\n",
      "Iteration:   3%|▎         | 2/62 [00:00<00:04, 13.00it/s]]"
     ]
    },
    {
     "name": "stdout",
     "output_type": "stream",
     "text": [
      "Evaluating...\n"
     ]
    },
    {
     "name": "stderr",
     "output_type": "stream",
     "text": [
      "\r",
      "Iteration:  77%|███████▋  | 48/62 [00:07<00:02,  6.17it/s]\r",
      "Iteration:  86%|████████▌ | 6/7 [00:00<00:00, 14.93it/s]\r",
      "Iteration:  68%|██████▊   | 42/62 [00:02<00:01, 15.12it/s]\r",
      "Iteration: 100%|██████████| 7/7 [00:00<00:00, 15.13it/s]\n",
      "\r",
      "Iteration:   6%|▋         | 4/62 [00:00<00:04, 13.67it/s]\r",
      "Iteration:   0%|          | 0/62 [00:00<?, ?it/s]\r",
      "Iteration:  79%|███████▉  | 49/62 [00:07<00:02,  6.18it/s]"
     ]
    },
    {
     "name": "stdout",
     "output_type": "stream",
     "text": [
      "{'Train':  best_epoch_indx:4\n",
      " auc:0.8273727388531693 \n",
      " apur:0.7849751759587404 \n",
      " f1:0.7150968603874415 \n",
      " precision:0.6353744188347018 \n",
      " recall:0.8176957352005092 \n",
      ", 'Validation':  best_epoch_indx:4\n",
      " auc:0.8124949379244911 \n",
      " apur:0.7648150735043413 \n",
      " f1:0.6962663975782037 \n",
      " precision:0.6221821460775473 \n",
      " recall:0.7903780068728522 \n",
      ", 'Test':  best_epoch_indx:4\n",
      " auc:0.8153760334786915 \n",
      " apur:0.7633594224618004 \n",
      " f1:0.7052947052947052 \n",
      " precision:0.6252213956783563 \n",
      " recall:0.8088909257561869 \n",
      "}\n",
      "=====Epoch 5\n",
      "Training...\n"
     ]
    },
    {
     "name": "stderr",
     "output_type": "stream",
     "text": [
      "Iteration: 100%|██████████| 62/62 [00:04<00:00, 14.80it/s]\n",
      "Iteration: 100%|██████████| 62/62 [00:10<00:00,  6.09it/s]\n"
     ]
    },
    {
     "name": "stdout",
     "output_type": "stream",
     "text": [
      "Evaluating...\n"
     ]
    },
    {
     "name": "stderr",
     "output_type": "stream",
     "text": [
      "Iteration: 100%|██████████| 18/18 [00:01<00:00, 15.66it/s]\n",
      "Iteration: 100%|██████████| 62/62 [00:04<00:00, 15.03it/s]\n",
      "Iteration: 100%|██████████| 7/7 [00:00<00:00, 15.08it/s]\n",
      "Iteration:  39%|███▊      | 24/62 [00:01<00:02, 14.94it/s]"
     ]
    },
    {
     "name": "stdout",
     "output_type": "stream",
     "text": [
      "{'Train':  best_epoch_indx:4\n",
      " auc:0.8162903098072584 \n",
      " apur:0.7649514751670018 \n",
      " f1:0.7040952728156519 \n",
      " precision:0.6734859932581657 \n",
      " recall:0.7376193507320178 \n",
      ", 'Validation':  best_epoch_indx:4\n",
      " auc:0.7953089505208635 \n",
      " apur:0.734092091090238 \n",
      " f1:0.6897297297297298 \n",
      " precision:0.6530194472876152 \n",
      " recall:0.7308132875143184 \n",
      ", 'Test':  best_epoch_indx:4\n",
      " auc:0.8079478627145953 \n",
      " apur:0.7586448246708467 \n",
      " f1:0.7038342882327017 \n",
      " precision:0.6778438030560272 \n",
      " recall:0.731897341888176 \n",
      "}\n",
      "=====Epoch 5\n",
      "Training...\n"
     ]
    },
    {
     "name": "stderr",
     "output_type": "stream",
     "text": [
      "Iteration: 100%|██████████| 18/18 [00:01<00:00, 16.11it/s]\n",
      "Iteration: 100%|██████████| 62/62 [00:04<00:00, 14.92it/s]\n",
      "Iteration: 100%|██████████| 18/18 [00:01<00:00, 15.81it/s]\n",
      "Iteration: 100%|██████████| 7/7 [00:00<00:00, 14.93it/s]s]\n"
     ]
    },
    {
     "name": "stdout",
     "output_type": "stream",
     "text": [
      "{'Train':  best_epoch_indx:4\n",
      " auc:0.8240313528827872 \n",
      " apur:0.7738721214494625 \n",
      " f1:0.707524143054229 \n",
      " precision:0.6065872077154035 \n",
      " recall:0.8487587523870146 \n",
      ", 'Validation':  best_epoch_indx:4\n",
      " auc:0.8053308958234502 \n",
      " apur:0.7517849762479791 \n",
      " f1:0.6950694112015319 \n",
      " precision:0.5970394736842105 \n",
      " recall:0.8316151202749141 \n",
      ", 'Test':  best_epoch_indx:4\n",
      " auc:0.8193528360118413 \n",
      " apur:0.7727006542147369 \n",
      " f1:0.7022727272727273 \n",
      " precision:0.5984506132989025 \n",
      " recall:0.84967919340055 \n",
      "}\n",
      "=====Epoch 5\n",
      "Training...\n"
     ]
    },
    {
     "name": "stderr",
     "output_type": "stream",
     "text": [
      "Iteration: 100%|██████████| 62/62 [00:10<00:00,  6.10it/s]\n",
      "Iteration:  21%|██        | 13/62 [00:02<00:08,  6.11it/s]"
     ]
    },
    {
     "name": "stdout",
     "output_type": "stream",
     "text": [
      "Evaluating...\n"
     ]
    },
    {
     "name": "stderr",
     "output_type": "stream",
     "text": [
      "Iteration: 100%|██████████| 7/7 [00:00<00:00, 15.26it/s]s]\n",
      "Iteration:  10%|▉         | 6/62 [00:00<00:04, 13.98it/s]]"
     ]
    },
    {
     "name": "stdout",
     "output_type": "stream",
     "text": [
      "{'Train':  best_epoch_indx:4\n",
      " auc:0.8111948441079219 \n",
      " apur:0.7568214635663172 \n",
      " f1:0.699243415438876 \n",
      " precision:0.6320444261620732 \n",
      " recall:0.7824315722469765 \n",
      ", 'Validation':  best_epoch_indx:4\n",
      " auc:0.8071190137341341 \n",
      " apur:0.7506709429049747 \n",
      " f1:0.7081832218219248 \n",
      " precision:0.6429906542056075 \n",
      " recall:0.7880870561282932 \n",
      ", 'Test':  best_epoch_indx:4\n",
      " auc:0.8048142754691852 \n",
      " apur:0.7543148503306742 \n",
      " f1:0.6925472285654972 \n",
      " precision:0.6330170777988615 \n",
      " recall:0.7644362969752521 \n",
      "}\n",
      "=====Epoch 5\n",
      "Training...\n"
     ]
    },
    {
     "name": "stderr",
     "output_type": "stream",
     "text": [
      "Iteration: 100%|██████████| 7/7 [00:00<00:00, 15.18it/s]s]\n",
      "Iteration:   0%|          | 0/62 [00:00<?, ?it/s]5.30it/s]"
     ]
    },
    {
     "name": "stdout",
     "output_type": "stream",
     "text": [
      "{'Train':  best_epoch_indx:5\n",
      " auc:0.8310258218306725 \n",
      " apur:0.7841057095263584 \n",
      " f1:0.7196449704142013 \n",
      " precision:0.6723051409618573 \n",
      " recall:0.7741565881604073 \n",
      ", 'Validation':  best_epoch_indx:5\n",
      " auc:0.8125903942055145 \n",
      " apur:0.7560660918886738 \n",
      " f1:0.7046799354491662 \n",
      " precision:0.6643002028397565 \n",
      " recall:0.7502863688430699 \n",
      ", 'Test':  best_epoch_indx:5\n",
      " auc:0.8263717221095774 \n",
      " apur:0.7816441553644596 \n",
      " f1:0.7130508117225385 \n",
      " precision:0.6602889496290512 \n",
      " recall:0.7749770852428964 \n",
      "}\n",
      "=====Epoch 6\n",
      "Training...\n"
     ]
    },
    {
     "name": "stderr",
     "output_type": "stream",
     "text": [
      "Iteration: 100%|██████████| 62/62 [00:10<00:00,  6.04it/s]\n",
      "Iteration: 100%|██████████| 62/62 [00:04<00:00, 15.12it/s]\n",
      "Iteration:  11%|█▏        | 7/62 [00:01<00:08,  6.27it/s]]"
     ]
    },
    {
     "name": "stdout",
     "output_type": "stream",
     "text": [
      "Evaluating...\n"
     ]
    },
    {
     "name": "stderr",
     "output_type": "stream",
     "text": [
      "Iteration: 100%|██████████| 18/18 [00:01<00:00, 16.11it/s]\n",
      "Iteration: 100%|██████████| 62/62 [00:04<00:00, 14.94it/s]\n",
      "Iteration: 100%|██████████| 62/62 [00:10<00:00,  5.99it/s]\n",
      "Iteration:  53%|█████▎    | 33/62 [00:05<00:04,  6.18it/s]"
     ]
    },
    {
     "name": "stdout",
     "output_type": "stream",
     "text": [
      "Evaluating...\n"
     ]
    },
    {
     "name": "stderr",
     "output_type": "stream",
     "text": [
      "Iteration: 100%|██████████| 18/18 [00:01<00:00, 15.80it/s]\n",
      "Iteration: 100%|██████████| 62/62 [00:10<00:00,  6.09it/s]\n",
      "Iteration: 100%|██████████| 7/7 [00:00<00:00, 15.21it/s]]]\n"
     ]
    },
    {
     "name": "stdout",
     "output_type": "stream",
     "text": [
      "Evaluating...\n",
      "{'Train':  best_epoch_indx:5\n",
      " auc:0.8367653046294283 \n",
      " apur:0.79367352634398 \n",
      " f1:0.714578783667527 \n",
      " precision:0.7440738699007717 \n",
      " recall:0.6873329089751751 \n",
      ", 'Validation':  best_epoch_indx:5\n",
      " auc:0.8240808235080859 \n",
      " apur:0.7723525117274702 \n",
      " f1:0.6922155688622754 \n",
      " precision:0.7252195734002509 \n",
      " recall:0.6620847651775487 \n",
      ", 'Test':  best_epoch_indx:5\n",
      " auc:0.8259106494211903 \n",
      " apur:0.7744886174572434 \n",
      " f1:0.7049645390070921 \n",
      " precision:0.72802734375 \n",
      " recall:0.6833180568285976 \n",
      "}\n",
      "=====Epoch 6\n",
      "Training...\n"
     ]
    },
    {
     "name": "stderr",
     "output_type": "stream",
     "text": [
      "Iteration: 100%|██████████| 62/62 [00:04<00:00, 14.76it/s]\n",
      "Iteration: 100%|██████████| 62/62 [00:09<00:00,  6.22it/s]\n",
      "Iteration:  23%|██▎       | 14/62 [00:02<00:07,  6.21it/s]"
     ]
    },
    {
     "name": "stdout",
     "output_type": "stream",
     "text": [
      "Evaluating...\n"
     ]
    },
    {
     "name": "stderr",
     "output_type": "stream",
     "text": [
      "Iteration: 100%|██████████| 18/18 [00:01<00:00, 15.80it/s]\n",
      "Iteration: 100%|██████████| 62/62 [00:04<00:00, 15.11it/s]\n",
      "Iteration: 100%|██████████| 7/7 [00:00<00:00, 15.10it/s]\n",
      "Iteration:  40%|████      | 25/62 [00:04<00:06,  6.13it/s]"
     ]
    },
    {
     "name": "stdout",
     "output_type": "stream",
     "text": [
      "{'Train':  best_epoch_indx:5\n",
      " auc:0.8266641995142311 \n",
      " apur:0.7731465946876596 \n",
      " f1:0.7152845927379784 \n",
      " precision:0.6901408450704225 \n",
      " recall:0.7423297262889879 \n",
      ", 'Validation':  best_epoch_indx:5\n",
      " auc:0.8080904501293964 \n",
      " apur:0.743112934784588 \n",
      " f1:0.7015995587424158 \n",
      " precision:0.676595744680851 \n",
      " recall:0.7285223367697594 \n",
      ", 'Test':  best_epoch_indx:5\n",
      " auc:0.8200963886219316 \n",
      " apur:0.7670307441712217 \n",
      " f1:0.7186261558784677 \n",
      " precision:0.6915254237288135 \n",
      " recall:0.7479376718606783 \n",
      "}\n",
      "=====Epoch 6\n",
      "Training...\n"
     ]
    },
    {
     "name": "stderr",
     "output_type": "stream",
     "text": [
      "Iteration: 100%|██████████| 18/18 [00:01<00:00, 16.16it/s]\n",
      "Iteration: 100%|██████████| 62/62 [00:04<00:00, 14.96it/s]\n",
      "Iteration: 100%|██████████| 18/18 [00:01<00:00, 15.84it/s]\n",
      "Iteration: 100%|██████████| 7/7 [00:00<00:00, 15.08it/s]s]\n",
      "Iteration:   2%|▏         | 1/62 [00:00<00:09,  6.72it/s]]"
     ]
    },
    {
     "name": "stdout",
     "output_type": "stream",
     "text": [
      "{'Train':  best_epoch_indx:5\n",
      " auc:0.8270097219302858 \n",
      " apur:0.7782586963856299 \n",
      " f1:0.7183758459135866 \n",
      " precision:0.6582573669705322 \n",
      " recall:0.7905792488860598 \n",
      ", 'Validation':  best_epoch_indx:5\n",
      " auc:0.8058708505443899 \n",
      " apur:0.754008968448267 \n",
      " f1:0.6980146290491117 \n",
      " precision:0.6416906820365034 \n",
      " recall:0.7651775486827033 \n",
      ", 'Test':  best_epoch_indx:5\n",
      " auc:0.819418747775285 \n",
      " apur:0.7727348136499488 \n",
      " f1:0.7152619589977222 \n",
      " precision:0.6524367208160181 \n",
      " recall:0.7914757103574702 \n",
      "}\n",
      "=====Epoch 6\n",
      "Training...\n"
     ]
    },
    {
     "name": "stderr",
     "output_type": "stream",
     "text": [
      "Iteration: 100%|██████████| 62/62 [00:09<00:00,  6.22it/s]\n",
      "Iteration:  60%|█████▉    | 37/62 [00:05<00:04,  6.16it/s]"
     ]
    },
    {
     "name": "stdout",
     "output_type": "stream",
     "text": [
      "Evaluating...\n"
     ]
    },
    {
     "name": "stderr",
     "output_type": "stream",
     "text": [
      "Iteration: 100%|██████████| 7/7 [00:00<00:00, 15.30it/s]]]\n",
      "Iteration:   2%|▏         | 1/62 [00:00<00:08,  6.84it/s]]"
     ]
    },
    {
     "name": "stdout",
     "output_type": "stream",
     "text": [
      "{'Train':  best_epoch_indx:5\n",
      " auc:0.8220817268558573 \n",
      " apur:0.7704733907112835 \n",
      " f1:0.7121861604409063 \n",
      " precision:0.6861356932153392 \n",
      " recall:0.7402928071292171 \n",
      ", 'Validation':  best_epoch_indx:5\n",
      " auc:0.816129990242247 \n",
      " apur:0.7622351249204301 \n",
      " f1:0.7050279329608937 \n",
      " precision:0.688113413304253 \n",
      " recall:0.722794959908362 \n",
      ", 'Test':  best_epoch_indx:5\n",
      " auc:0.8197160453312398 \n",
      " apur:0.7718535633399856 \n",
      " f1:0.70229347584057 \n",
      " precision:0.6829796448679082 \n",
      " recall:0.7227314390467461 \n",
      "}\n",
      "=====Epoch 6\n",
      "Training...\n"
     ]
    },
    {
     "name": "stderr",
     "output_type": "stream",
     "text": [
      "Iteration: 100%|██████████| 7/7 [00:00<00:00, 14.90it/s]s]\n",
      "Iteration:  48%|████▊     | 30/62 [00:04<00:05,  6.18it/s]"
     ]
    },
    {
     "name": "stdout",
     "output_type": "stream",
     "text": [
      "{'Train':  best_epoch_indx:6\n",
      " auc:0.8379092374958009 \n",
      " apur:0.7978068149049976 \n",
      " f1:0.724100194552529 \n",
      " precision:0.6930059350634237 \n",
      " recall:0.7581158497772119 \n",
      ", 'Validation':  best_epoch_indx:6\n",
      " auc:0.82098572591127 \n",
      " apur:0.7686288429774315 \n",
      " f1:0.7069818581638263 \n",
      " precision:0.6797040169133193 \n",
      " recall:0.736540664375716 \n",
      ", 'Test':  best_epoch_indx:6\n",
      " auc:0.831172093683551 \n",
      " apur:0.7912062668151423 \n",
      " f1:0.7198964177816141 \n",
      " precision:0.6802610114192496 \n",
      " recall:0.7644362969752521 \n",
      "}\n",
      "=====Epoch 7\n",
      "Training...\n"
     ]
    },
    {
     "name": "stderr",
     "output_type": "stream",
     "text": [
      "Iteration: 100%|██████████| 62/62 [00:09<00:00,  6.24it/s]\n",
      "Iteration: 100%|██████████| 62/62 [00:04<00:00, 15.14it/s]\n",
      "Iteration:  11%|█▏        | 7/62 [00:01<00:08,  6.62it/s]]"
     ]
    },
    {
     "name": "stdout",
     "output_type": "stream",
     "text": [
      "Evaluating...\n"
     ]
    },
    {
     "name": "stderr",
     "output_type": "stream",
     "text": [
      "Iteration: 100%|██████████| 18/18 [00:01<00:00, 16.14it/s]\n",
      "Iteration: 100%|██████████| 7/7 [00:00<00:00, 15.66it/s]s]\n",
      "Iteration:  76%|███████▌  | 47/62 [00:07<00:02,  6.17it/s]"
     ]
    },
    {
     "name": "stdout",
     "output_type": "stream",
     "text": [
      "{'Train':  best_epoch_indx:6\n",
      " auc:0.8384236124646485 \n",
      " apur:0.7907355909459401 \n",
      " f1:0.7263719034179994 \n",
      " precision:0.7158220024721879 \n",
      " recall:0.7372374283895607 \n",
      ", 'Validation':  best_epoch_indx:6\n",
      " auc:0.8287687875316743 \n",
      " apur:0.7739298987584595 \n",
      " f1:0.7124220079410096 \n",
      " precision:0.7056179775280899 \n",
      " recall:0.7193585337915235 \n",
      ", 'Test':  best_epoch_indx:6\n",
      " auc:0.8261792998731587 \n",
      " apur:0.771702951992937 \n",
      " f1:0.7169726824899239 \n",
      " precision:0.7009632224168126 \n",
      " recall:0.733730522456462 \n",
      "}\n",
      "=====Epoch 7\n",
      "Training...\n"
     ]
    },
    {
     "name": "stderr",
     "output_type": "stream",
     "text": [
      "Iteration: 100%|██████████| 62/62 [00:04<00:00, 15.04it/s]\n",
      "Iteration: 100%|██████████| 62/62 [00:09<00:00,  6.24it/s]\n",
      "Iteration:   3%|▎         | 2/62 [00:00<00:04, 14.10it/s]]"
     ]
    },
    {
     "name": "stdout",
     "output_type": "stream",
     "text": [
      "Evaluating...\n"
     ]
    },
    {
     "name": "stderr",
     "output_type": "stream",
     "text": [
      "Iteration: 100%|██████████| 18/18 [00:01<00:00, 15.99it/s]\n",
      "Iteration: 100%|██████████| 62/62 [00:09<00:00,  6.27it/s]\n",
      "Iteration:   3%|▎         | 2/62 [00:00<00:04, 13.16it/s]]"
     ]
    },
    {
     "name": "stdout",
     "output_type": "stream",
     "text": [
      "Evaluating...\n"
     ]
    },
    {
     "name": "stderr",
     "output_type": "stream",
     "text": [
      "Iteration: 100%|██████████| 62/62 [00:04<00:00, 14.97it/s]\n",
      "Iteration: 100%|██████████| 62/62 [00:09<00:00,  6.35it/s]\n",
      "Iteration:  33%|███▎      | 6/18 [00:00<00:00, 14.95it/s]]"
     ]
    },
    {
     "name": "stdout",
     "output_type": "stream",
     "text": [
      "Evaluating...\n"
     ]
    },
    {
     "name": "stderr",
     "output_type": "stream",
     "text": [
      "Iteration: 100%|██████████| 18/18 [00:01<00:00, 15.86it/s]\n",
      "Iteration: 100%|██████████| 62/62 [00:04<00:00, 15.08it/s]\n",
      "Iteration: 100%|██████████| 7/7 [00:00<00:00, 14.97it/s]s]\n",
      "Iteration:   2%|▏         | 1/62 [00:00<00:08,  6.84it/s]]"
     ]
    },
    {
     "name": "stdout",
     "output_type": "stream",
     "text": [
      "{'Train':  best_epoch_indx:6\n",
      " auc:0.8305598907704483 \n",
      " apur:0.7840916570562201 \n",
      " f1:0.7192819918934569 \n",
      " precision:0.659691980881572 \n",
      " recall:0.7907065563335455 \n",
      ", 'Validation':  best_epoch_indx:6\n",
      " auc:0.8112164022816944 \n",
      " apur:0.755513588890168 \n",
      " f1:0.7077244258872653 \n",
      " precision:0.6500479386385427 \n",
      " recall:0.7766323024054983 \n",
      ", 'Test':  best_epoch_indx:6\n",
      " auc:0.8255948498060774 \n",
      " apur:0.7794980648374515 \n",
      " f1:0.7187957348944177 \n",
      " precision:0.6608996539792388 \n",
      " recall:0.7878093492208983 \n",
      "}\n",
      "=====Epoch 7\n",
      "Training...\n"
     ]
    },
    {
     "name": "stderr",
     "output_type": "stream",
     "text": [
      "Iteration: 100%|██████████| 62/62 [00:09<00:00,  6.23it/s]\n",
      "Iteration: 100%|██████████| 18/18 [00:01<00:00, 16.13it/s]\n",
      "Iteration:  13%|█▎        | 8/62 [00:01<00:08,  6.16it/s]]"
     ]
    },
    {
     "name": "stdout",
     "output_type": "stream",
     "text": [
      "Evaluating...\n"
     ]
    },
    {
     "name": "stderr",
     "output_type": "stream",
     "text": [
      "Iteration: 100%|██████████| 62/62 [00:04<00:00, 14.94it/s]\n",
      "Iteration: 100%|██████████| 18/18 [00:01<00:00, 15.85it/s]\n",
      "Iteration: 100%|██████████| 7/7 [00:00<00:00, 14.27it/s]s]\n",
      "Iteration:  45%|████▌     | 28/62 [00:04<00:05,  6.22it/s]"
     ]
    },
    {
     "name": "stdout",
     "output_type": "stream",
     "text": [
      "{'Train':  best_epoch_indx:6\n",
      " auc:0.8368001171847788 \n",
      " apur:0.7958504597885568 \n",
      " f1:0.7236249643773154 \n",
      " precision:0.6551083591331269 \n",
      " recall:0.8081476766390834 \n",
      ", 'Validation':  best_epoch_indx:6\n",
      " auc:0.8199723466046489 \n",
      " apur:0.7738055722311437 \n",
      " f1:0.7191815856777493 \n",
      " precision:0.6497227356746765 \n",
      " recall:0.8052691867124857 \n",
      ", 'Test':  best_epoch_indx:6\n",
      " auc:0.8337017651695076 \n",
      " apur:0.7916358338117211 \n",
      " f1:0.7225727661306737 \n",
      " precision:0.6499450750640791 \n",
      " recall:0.8134738771769019 \n",
      "}\n",
      "=====Epoch 7\n",
      "Training...\n"
     ]
    },
    {
     "name": "stderr",
     "output_type": "stream",
     "text": [
      "Iteration: 100%|██████████| 62/62 [00:04<00:00, 15.03it/s]\n",
      "Iteration: 100%|██████████| 7/7 [00:00<00:00, 14.74it/s]s]\n",
      "Iteration: 100%|██████████| 18/18 [00:01<00:00, 15.93it/s]\n",
      "Iteration:  66%|██████▌   | 41/62 [00:06<00:03,  6.14it/s]"
     ]
    },
    {
     "name": "stdout",
     "output_type": "stream",
     "text": [
      "{'Train':  best_epoch_indx:6\n",
      " auc:0.8279301940753805 \n",
      " apur:0.7820418749466256 \n",
      " f1:0.7116756350894756 \n",
      " precision:0.6997662113941183 \n",
      " recall:0.7239974538510503 \n",
      ", 'Validation':  best_epoch_indx:6\n",
      " auc:0.8206646456932825 \n",
      " apur:0.774027929920032 \n",
      " f1:0.7023675310033821 \n",
      " precision:0.6914539400665927 \n",
      " recall:0.713631156930126 \n",
      ", 'Test':  best_epoch_indx:6\n",
      " auc:0.822206799932946 \n",
      " apur:0.7801554643512563 \n",
      " f1:0.7042062415196744 \n",
      " precision:0.6950892857142857 \n",
      " recall:0.7135655362053163 \n",
      "}\n",
      "=====Epoch 7\n",
      "Training...\n"
     ]
    },
    {
     "name": "stderr",
     "output_type": "stream",
     "text": [
      "Iteration: 100%|██████████| 7/7 [00:00<00:00, 15.24it/s]s]\n",
      "Iteration:  90%|█████████ | 56/62 [00:09<00:00,  6.26it/s]"
     ]
    },
    {
     "name": "stdout",
     "output_type": "stream",
     "text": [
      "{'Train':  best_epoch_indx:7\n",
      " auc:0.8390607094784854 \n",
      " apur:0.7950880328042187 \n",
      " f1:0.7121182266009851 \n",
      " precision:0.7355495251017639 \n",
      " recall:0.6901336728198599 \n",
      ", 'Validation':  best_epoch_indx:7\n",
      " auc:0.8184759006637586 \n",
      " apur:0.7635798447823555 \n",
      " f1:0.693127962085308 \n",
      " precision:0.7177914110429447 \n",
      " recall:0.6701030927835051 \n",
      ", 'Test':  best_epoch_indx:7\n",
      " auc:0.8329213306298549 \n",
      " apur:0.7904954601260864 \n",
      " f1:0.7138490477310134 \n",
      " precision:0.7329792370835345 \n",
      " recall:0.6956920256645279 \n",
      "}\n",
      "=====Epoch 8\n",
      "Training...\n"
     ]
    },
    {
     "name": "stderr",
     "output_type": "stream",
     "text": [
      "Iteration: 100%|██████████| 62/62 [00:10<00:00,  6.19it/s]\n",
      "Iteration:  55%|█████▍    | 34/62 [00:05<00:04,  6.10it/s]"
     ]
    },
    {
     "name": "stdout",
     "output_type": "stream",
     "text": [
      "Evaluating...\n"
     ]
    },
    {
     "name": "stderr",
     "output_type": "stream",
     "text": [
      "Iteration: 100%|██████████| 7/7 [00:00<00:00, 14.66it/s]s]\n",
      "Iteration:  76%|███████▌  | 47/62 [00:07<00:02,  6.17it/s]"
     ]
    },
    {
     "name": "stdout",
     "output_type": "stream",
     "text": [
      "{'Train':  best_epoch_indx:7\n",
      " auc:0.844525348015673 \n",
      " apur:0.8048028088043907 \n",
      " f1:0.7332007473030796 \n",
      " precision:0.6961547264820325 \n",
      " recall:0.7744112030553787 \n",
      ", 'Validation':  best_epoch_indx:7\n",
      " auc:0.8327278126819937 \n",
      " apur:0.7870960396009334 \n",
      " f1:0.7227993439037725 \n",
      " precision:0.6914225941422594 \n",
      " recall:0.7571592210767468 \n",
      ", 'Test':  best_epoch_indx:7\n",
      " auc:0.8340468541201813 \n",
      " apur:0.7879544810507673 \n",
      " f1:0.7251461988304094 \n",
      " precision:0.6874743326488706 \n",
      " recall:0.7671860678276811 \n",
      "}\n",
      "=====Epoch 8\n",
      "Training...\n"
     ]
    },
    {
     "name": "stderr",
     "output_type": "stream",
     "text": [
      "Iteration: 100%|██████████| 62/62 [00:04<00:00, 14.99it/s]\n",
      "Iteration: 100%|██████████| 62/62 [00:10<00:00,  6.15it/s]\n",
      "Iteration:  56%|█████▋    | 35/62 [00:05<00:04,  6.35it/s]"
     ]
    },
    {
     "name": "stdout",
     "output_type": "stream",
     "text": [
      "Evaluating...\n"
     ]
    },
    {
     "name": "stderr",
     "output_type": "stream",
     "text": [
      "Iteration: 100%|██████████| 18/18 [00:01<00:00, 15.89it/s]\n",
      "Iteration: 100%|██████████| 62/62 [00:09<00:00,  6.29it/s]\n",
      "Iteration:  76%|███████▌  | 47/62 [00:07<00:02,  6.18it/s]"
     ]
    },
    {
     "name": "stdout",
     "output_type": "stream",
     "text": [
      "Evaluating...\n"
     ]
    },
    {
     "name": "stderr",
     "output_type": "stream",
     "text": [
      "Iteration: 100%|██████████| 62/62 [00:04<00:00, 14.83it/s]\n",
      "Iteration: 100%|██████████| 62/62 [00:09<00:00,  6.28it/s]\n",
      "Iteration:   0%|          | 0/18 [00:00<?, ?it/s]6.20it/s]"
     ]
    },
    {
     "name": "stdout",
     "output_type": "stream",
     "text": [
      "Evaluating...\n"
     ]
    },
    {
     "name": "stderr",
     "output_type": "stream",
     "text": [
      "Iteration: 100%|██████████| 18/18 [00:01<00:00, 15.71it/s]\n",
      "Iteration: 100%|██████████| 62/62 [00:04<00:00, 15.11it/s]\n",
      "Iteration: 100%|██████████| 7/7 [00:00<00:00, 15.11it/s]s]\n",
      "Iteration:   0%|          | 0/62 [00:00<?, ?it/s]"
     ]
    },
    {
     "name": "stdout",
     "output_type": "stream",
     "text": [
      "{'Train':  best_epoch_indx:7\n",
      " auc:0.8334781728463576 \n",
      " apur:0.7920968973835625 \n",
      " f1:0.7231483072692901 \n",
      " precision:0.6573630493647157 \n",
      " recall:0.803564608529599 \n",
      ", 'Validation':  best_epoch_indx:7\n",
      " auc:0.8119704104812924 \n",
      " apur:0.7622833531180007 \n",
      " f1:0.7087827426810478 \n",
      " precision:0.6424581005586593 \n",
      " recall:0.7903780068728522 \n",
      ", 'Test':  best_epoch_indx:7\n",
      " auc:0.8266262068258654 \n",
      " apur:0.7832079197461055 \n",
      " f1:0.715079201810327 \n",
      " precision:0.648749533407988 \n",
      " recall:0.7965169569202566 \n",
      "}\n",
      "=====Epoch 8\n",
      "Training...\n"
     ]
    },
    {
     "name": "stderr",
     "output_type": "stream",
     "text": [
      "Iteration: 100%|██████████| 18/18 [00:01<00:00, 16.18it/s]\n",
      "Iteration: 100%|██████████| 62/62 [00:09<00:00,  6.24it/s]\n",
      "Iteration:   0%|          | 0/62 [00:00<?, ?it/s]"
     ]
    },
    {
     "name": "stdout",
     "output_type": "stream",
     "text": [
      "Evaluating...\n"
     ]
    },
    {
     "name": "stderr",
     "output_type": "stream",
     "text": [
      "Iteration: 100%|██████████| 62/62 [00:04<00:00, 14.22it/s]\n",
      "Iteration: 100%|██████████| 18/18 [00:01<00:00, 15.82it/s]\n",
      "Iteration: 100%|██████████| 7/7 [00:00<00:00, 15.03it/s]s]\n"
     ]
    },
    {
     "name": "stdout",
     "output_type": "stream",
     "text": [
      "{'Train':  best_epoch_indx:7\n",
      " auc:0.8439152280071621 \n",
      " apur:0.8028753815109742 \n",
      " f1:0.7343430208759723 \n",
      " precision:0.6791044776119403 \n",
      " recall:0.7993634627625716 \n",
      ", 'Validation':  best_epoch_indx:7\n",
      " auc:0.8247625163432724 \n",
      " apur:0.779192602187994 \n",
      " f1:0.7209668943772991 \n",
      " precision:0.6660194174757281 \n",
      " recall:0.7857961053837342 \n",
      ", 'Test':  best_epoch_indx:7\n",
      " auc:0.8377865193618506 \n",
      " apur:0.79472485667976 \n",
      " f1:0.7293327738145194 \n",
      " precision:0.6726006191950464 \n",
      " recall:0.7965169569202566 \n",
      "}\n",
      "=====Epoch 8\n",
      "Training...\n"
     ]
    },
    {
     "name": "stderr",
     "output_type": "stream",
     "text": [
      "Iteration: 100%|██████████| 62/62 [00:04<00:00, 14.41it/s]\n",
      "Iteration: 100%|██████████| 7/7 [00:00<00:00, 15.36it/s]s]\n",
      "Iteration:   0%|          | 0/62 [00:00<?, ?it/s]6.11it/s]"
     ]
    },
    {
     "name": "stdout",
     "output_type": "stream",
     "text": [
      "{'Train':  best_epoch_indx:7\n",
      " auc:0.8351673723754747 \n",
      " apur:0.7876927714344867 \n",
      " f1:0.7231135622963148 \n",
      " precision:0.7121343044068633 \n",
      " recall:0.7344366645448759 \n",
      ", 'Validation':  best_epoch_indx:7\n",
      " auc:0.8264865146308447 \n",
      " apur:0.7755738697131447 \n",
      " f1:0.7046101309049517 \n",
      " precision:0.7002262443438914 \n",
      " recall:0.709049255441008 \n",
      ", 'Test':  best_epoch_indx:7\n",
      " auc:0.8284715046621381 \n",
      " apur:0.7850401913659801 \n",
      " f1:0.7089995431703976 \n",
      " precision:0.7067395264116576 \n",
      " recall:0.7112740604949588 \n",
      "}\n",
      "=====Epoch 8\n",
      "Training...\n"
     ]
    },
    {
     "name": "stderr",
     "output_type": "stream",
     "text": [
      "Iteration: 100%|██████████| 18/18 [00:01<00:00, 16.04it/s]\n",
      "Iteration: 100%|██████████| 7/7 [00:00<00:00, 15.28it/s]s]\n",
      "Iteration:  92%|█████████▏| 57/62 [00:09<00:00,  6.15it/s]"
     ]
    },
    {
     "name": "stdout",
     "output_type": "stream",
     "text": [
      "{'Train':  best_epoch_indx:8\n",
      " auc:0.8444916065993827 \n",
      " apur:0.7990197595345742 \n",
      " f1:0.7287716405605935 \n",
      " precision:0.7260550922415971 \n",
      " recall:0.7315085932527052 \n",
      ", 'Validation':  best_epoch_indx:8\n",
      " auc:0.8249543931101778 \n",
      " apur:0.7704394738915623 \n",
      " f1:0.710376282782212 \n",
      " precision:0.7071509648127128 \n",
      " recall:0.713631156930126 \n",
      ", 'Test':  best_epoch_indx:8\n",
      " auc:0.8377269486802026 \n",
      " apur:0.7953848061720035 \n",
      " f1:0.7273966378918674 \n",
      " precision:0.7211711711711711 \n",
      " recall:0.733730522456462 \n",
      "}\n",
      "=====Epoch 9\n",
      "Training...\n"
     ]
    },
    {
     "name": "stderr",
     "output_type": "stream",
     "text": [
      "Iteration: 100%|██████████| 62/62 [00:10<00:00,  6.16it/s]\n",
      "Iteration:  11%|█▏        | 7/62 [00:01<00:08,  6.22it/s]]"
     ]
    },
    {
     "name": "stdout",
     "output_type": "stream",
     "text": [
      "Evaluating...\n"
     ]
    },
    {
     "name": "stderr",
     "output_type": "stream",
     "text": [
      "Iteration: 100%|██████████| 7/7 [00:00<00:00, 15.38it/s]s]\n",
      "Iteration:   2%|▏         | 1/62 [00:00<00:08,  6.95it/s]]"
     ]
    },
    {
     "name": "stdout",
     "output_type": "stream",
     "text": [
      "{'Train':  best_epoch_indx:8\n",
      " auc:0.847408154834631 \n",
      " apur:0.8059648292687142 \n",
      " f1:0.7300948909696475 \n",
      " precision:0.7208984859766692 \n",
      " recall:0.739528962444303 \n",
      ", 'Validation':  best_epoch_indx:8\n",
      " auc:0.833637057863862 \n",
      " apur:0.7858536856043263 \n",
      " f1:0.7151790790221718 \n",
      " precision:0.7099322799097065 \n",
      " recall:0.720504009163803 \n",
      ", 'Test':  best_epoch_indx:8\n",
      " auc:0.8358616720211588 \n",
      " apur:0.7899554021406715 \n",
      " f1:0.7255605381165919 \n",
      " precision:0.7102721685689201 \n",
      " recall:0.7415215398716773 \n",
      "}\n",
      "=====Epoch 9\n",
      "Training...\n"
     ]
    },
    {
     "name": "stderr",
     "output_type": "stream",
     "text": [
      "Iteration: 100%|██████████| 62/62 [00:04<00:00, 14.37it/s]\n",
      "Iteration: 100%|██████████| 62/62 [00:10<00:00,  6.19it/s]\n",
      "Iteration:  84%|████████▍ | 52/62 [00:08<00:01,  6.19it/s]"
     ]
    },
    {
     "name": "stdout",
     "output_type": "stream",
     "text": [
      "Evaluating...\n"
     ]
    },
    {
     "name": "stderr",
     "output_type": "stream",
     "text": [
      "Iteration: 100%|██████████| 18/18 [00:01<00:00, 15.87it/s]\n",
      "Iteration: 100%|██████████| 62/62 [00:09<00:00,  6.26it/s]\n",
      "Iteration:  35%|███▌      | 22/62 [00:01<00:02, 14.67it/s]"
     ]
    },
    {
     "name": "stdout",
     "output_type": "stream",
     "text": [
      "Evaluating...\n"
     ]
    },
    {
     "name": "stderr",
     "output_type": "stream",
     "text": [
      "Iteration: 100%|██████████| 62/62 [00:04<00:00, 14.24it/s]\n",
      "Iteration: 100%|██████████| 62/62 [00:09<00:00,  6.24it/s]\n",
      "Iteration:   0%|          | 0/62 [00:00<?, ?it/s]"
     ]
    },
    {
     "name": "stdout",
     "output_type": "stream",
     "text": [
      "Evaluating...\n"
     ]
    },
    {
     "name": "stderr",
     "output_type": "stream",
     "text": [
      "Iteration: 100%|██████████| 18/18 [00:01<00:00, 15.82it/s]\n",
      "Iteration: 100%|██████████| 62/62 [00:04<00:00, 14.37it/s]\n",
      "Iteration: 100%|██████████| 7/7 [00:00<00:00, 15.21it/s]s]\n",
      "Iteration:  22%|██▏       | 4/18 [00:00<00:00, 14.90it/s]]"
     ]
    },
    {
     "name": "stdout",
     "output_type": "stream",
     "text": [
      "{'Train':  best_epoch_indx:8\n",
      " auc:0.8391462898334464 \n",
      " apur:0.7989221692186835 \n",
      " f1:0.7289730689553122 \n",
      " precision:0.6811946902654867 \n",
      " recall:0.7839592616168046 \n",
      ", 'Validation':  best_epoch_indx:8\n",
      " auc:0.8185337529552879 \n",
      " apur:0.7684600592891015 \n",
      " f1:0.7145135566188197 \n",
      " precision:0.6666666666666666 \n",
      " recall:0.7697594501718213 \n",
      ", 'Test':  best_epoch_indx:8\n",
      " auc:0.8324031336335534 \n",
      " apur:0.790951874527045 \n",
      " f1:0.7242553191489361 \n",
      " precision:0.675933280381255 \n",
      " recall:0.7800183318056828 \n",
      "}\n",
      "=====Epoch 9\n",
      "Training...\n"
     ]
    },
    {
     "name": "stderr",
     "output_type": "stream",
     "text": [
      "Iteration: 100%|██████████| 18/18 [00:01<00:00, 16.09it/s]\n",
      "Iteration: 100%|██████████| 62/62 [00:09<00:00,  6.26it/s]\n",
      "Iteration:   3%|▎         | 2/62 [00:00<00:04, 13.06it/s]]"
     ]
    },
    {
     "name": "stdout",
     "output_type": "stream",
     "text": [
      "Evaluating...\n"
     ]
    },
    {
     "name": "stderr",
     "output_type": "stream",
     "text": [
      "Iteration: 100%|██████████| 62/62 [00:04<00:00, 14.97it/s]\n",
      "Iteration: 100%|██████████| 18/18 [00:01<00:00, 15.85it/s]\n",
      "Iteration: 100%|██████████| 7/7 [00:00<00:00, 15.12it/s]s]\n",
      "Iteration:  47%|████▋     | 29/62 [00:04<00:05,  6.14it/s]"
     ]
    },
    {
     "name": "stdout",
     "output_type": "stream",
     "text": [
      "{'Train':  best_epoch_indx:8\n",
      " auc:0.8467261264297526 \n",
      " apur:0.8062705480910235 \n",
      " f1:0.7346492490073084 \n",
      " precision:0.6703423650493594 \n",
      " recall:0.8126034373010821 \n",
      ", 'Validation':  best_epoch_indx:8\n",
      " auc:0.828381177178428 \n",
      " apur:0.7829512379319675 \n",
      " f1:0.721564590838909 \n",
      " precision:0.6551401869158878 \n",
      " recall:0.8029782359679267 \n",
      ", 'Test':  best_epoch_indx:8\n",
      " auc:0.8403272094564703 \n",
      " apur:0.7963642467676341 \n",
      " f1:0.7258496395468589 \n",
      " precision:0.6591844369622147 \n",
      " recall:0.8075160403299725 \n",
      "}\n",
      "=====Epoch 9\n",
      "Training...\n"
     ]
    },
    {
     "name": "stderr",
     "output_type": "stream",
     "text": [
      "Iteration: 100%|██████████| 62/62 [00:04<00:00, 14.97it/s]\n",
      "Iteration: 100%|██████████| 7/7 [00:00<00:00, 15.60it/s]s]\n",
      "Iteration:  63%|██████▎   | 39/62 [00:06<00:03,  6.13it/s]"
     ]
    },
    {
     "name": "stdout",
     "output_type": "stream",
     "text": [
      "{'Train':  best_epoch_indx:8\n",
      " auc:0.8390281940146445 \n",
      " apur:0.7948313759687432 \n",
      " f1:0.72422124991837 \n",
      " precision:0.7434969160632877 \n",
      " recall:0.705919796308084 \n",
      ", 'Validation':  best_epoch_indx:8\n",
      " auc:0.8301042112611414 \n",
      " apur:0.7820494298622275 \n",
      " f1:0.7049180327868853 \n",
      " precision:0.7209580838323353 \n",
      " recall:0.6895761741122566 \n",
      ", 'Test':  best_epoch_indx:8\n",
      " auc:0.8339441105292421 \n",
      " apur:0.7943899499901573 \n",
      " f1:0.7074733096085409 \n",
      " precision:0.7333989178553861 \n",
      " recall:0.6833180568285976 \n",
      "}\n",
      "=====Epoch 9\n",
      "Training...\n"
     ]
    },
    {
     "name": "stderr",
     "output_type": "stream",
     "text": [
      "Iteration: 100%|██████████| 18/18 [00:01<00:00, 15.94it/s]\n",
      "Iteration: 100%|██████████| 7/7 [00:00<00:00, 14.74it/s]s]\n",
      "Iteration:  42%|████▏     | 26/62 [00:04<00:05,  6.18it/s]"
     ]
    },
    {
     "name": "stdout",
     "output_type": "stream",
     "text": [
      "{'Train':  best_epoch_indx:9\n",
      " auc:0.8468296795119273 \n",
      " apur:0.8038090906659371 \n",
      " f1:0.7315034310667499 \n",
      " precision:0.7171865443425076 \n",
      " recall:0.7464035646085296 \n",
      ", 'Validation':  best_epoch_indx:9\n",
      " auc:0.8282529379322049 \n",
      " apur:0.7761910927455906 \n",
      " f1:0.7136465324384788 \n",
      " precision:0.6972677595628415 \n",
      " recall:0.7308132875143184 \n",
      ", 'Test':  best_epoch_indx:9\n",
      " auc:0.8400012961882805 \n",
      " apur:0.798460202932124 \n",
      " f1:0.7323503127792671 \n",
      " precision:0.7144725370531823 \n",
      " recall:0.7511457378551787 \n",
      "}\n",
      "=====Epoch 10\n",
      "Training...\n"
     ]
    },
    {
     "name": "stderr",
     "output_type": "stream",
     "text": [
      "Iteration: 100%|██████████| 62/62 [00:10<00:00,  6.15it/s]\n",
      "Iteration:  13%|█▎        | 8/62 [00:01<00:08,  6.22it/s]]"
     ]
    },
    {
     "name": "stdout",
     "output_type": "stream",
     "text": [
      "Evaluating...\n"
     ]
    },
    {
     "name": "stderr",
     "output_type": "stream",
     "text": [
      "Iteration: 100%|██████████| 7/7 [00:00<00:00, 15.30it/s]s]\n",
      "Iteration:   2%|▏         | 1/62 [00:00<00:08,  6.89it/s]]"
     ]
    },
    {
     "name": "stdout",
     "output_type": "stream",
     "text": [
      "{'Train':  best_epoch_indx:9\n",
      " auc:0.8501264469401342 \n",
      " apur:0.8112925543201616 \n",
      " f1:0.7340814525280545 \n",
      " precision:0.7271137754464844 \n",
      " recall:0.7411839592616168 \n",
      ", 'Validation':  best_epoch_indx:9\n",
      " auc:0.8377339643089928 \n",
      " apur:0.7929070256661133 \n",
      " f1:0.7133831131533602 \n",
      " precision:0.7154377880184332 \n",
      " recall:0.711340206185567 \n",
      ", 'Test':  best_epoch_indx:9\n",
      " auc:0.8386939977224122 \n",
      " apur:0.7946260202192471 \n",
      " f1:0.728668171557562 \n",
      " precision:0.7179715302491103 \n",
      " recall:0.7396883593033914 \n",
      "}\n",
      "=====Epoch 10\n",
      "Training...\n"
     ]
    },
    {
     "name": "stderr",
     "output_type": "stream",
     "text": [
      "Iteration: 100%|██████████| 62/62 [00:04<00:00, 15.01it/s]\n",
      "Iteration: 100%|██████████| 62/62 [00:09<00:00,  6.23it/s]\n",
      "Iteration:   3%|▎         | 2/62 [00:00<00:04, 13.08it/s]]"
     ]
    },
    {
     "name": "stdout",
     "output_type": "stream",
     "text": [
      "Evaluating...\n"
     ]
    },
    {
     "name": "stderr",
     "output_type": "stream",
     "text": [
      "Iteration: 100%|██████████| 18/18 [00:01<00:00, 15.87it/s]\n",
      "Iteration: 100%|██████████| 7/7 [00:00<00:00, 15.52it/s]s]\n",
      "Iteration: 100%|██████████| 62/62 [00:09<00:00,  6.28it/s]\n",
      "Iteration:   0%|          | 0/62 [00:00<?, ?it/s]"
     ]
    },
    {
     "name": "stdout",
     "output_type": "stream",
     "text": [
      "{'Train':  best_epoch_indx:9\n",
      " auc:0.8394168151820979 \n",
      " apur:0.7994192113167228 \n",
      " f1:0.7274195552242515 \n",
      " precision:0.71029964818634 \n",
      " recall:0.7453851050286442 \n",
      ", 'Validation':  best_epoch_indx:9\n",
      " auc:0.8194280529618443 \n",
      " apur:0.768399160043866 \n",
      " f1:0.7126309983452842 \n",
      " precision:0.6872340425531915 \n",
      " recall:0.7399770904925544 \n",
      ", 'Test':  best_epoch_indx:9\n",
      " auc:0.8317662438537666 \n",
      " apur:0.7904571146487506 \n",
      " f1:0.7248382057576434 \n",
      " precision:0.706394084384515 \n",
      " recall:0.7442713107241063 \n",
      "}\n",
      "=====Epoch 10\n",
      "Training...\n",
      "Evaluating...\n"
     ]
    },
    {
     "name": "stderr",
     "output_type": "stream",
     "text": [
      "Iteration: 100%|██████████| 62/62 [00:04<00:00, 14.88it/s]\n",
      "Iteration: 100%|██████████| 62/62 [00:09<00:00,  6.26it/s]\n",
      "Iteration:  71%|███████   | 44/62 [00:07<00:02,  6.28it/s]"
     ]
    },
    {
     "name": "stdout",
     "output_type": "stream",
     "text": [
      "Evaluating...\n"
     ]
    },
    {
     "name": "stderr",
     "output_type": "stream",
     "text": [
      "Iteration: 100%|██████████| 18/18 [00:01<00:00, 15.81it/s]\n",
      "Iteration: 100%|██████████| 62/62 [00:04<00:00, 15.20it/s]\n",
      "Iteration: 100%|██████████| 18/18 [00:01<00:00, 16.14it/s]\n",
      "Iteration: 100%|██████████| 62/62 [00:09<00:00,  6.25it/s]\n",
      "Iteration:  58%|█████▊    | 36/62 [00:05<00:04,  6.14it/s]"
     ]
    },
    {
     "name": "stdout",
     "output_type": "stream",
     "text": [
      "Evaluating...\n"
     ]
    },
    {
     "name": "stderr",
     "output_type": "stream",
     "text": [
      "Iteration: 100%|██████████| 62/62 [00:04<00:00, 14.35it/s]\n",
      "Iteration: 100%|██████████| 18/18 [00:01<00:00, 15.90it/s]\n",
      "Iteration: 100%|██████████| 7/7 [00:00<00:00, 14.08it/s]s]\n",
      "Iteration:  87%|████████▋ | 54/62 [00:03<00:00, 10.78it/s]"
     ]
    },
    {
     "name": "stdout",
     "output_type": "stream",
     "text": [
      "{'Train':  best_epoch_indx:9\n",
      " auc:0.8481158616862342 \n",
      " apur:0.8099544473662192 \n",
      " f1:0.7352595724688747 \n",
      " precision:0.6824375885751662 \n",
      " recall:0.7969446212603437 \n",
      ", 'Validation':  best_epoch_indx:9\n",
      " auc:0.8283406805743576 \n",
      " apur:0.7848362982971696 \n",
      " f1:0.7175170962651235 \n",
      " precision:0.6634241245136187 \n",
      " recall:0.7812142038946163 \n",
      ", 'Test':  best_epoch_indx:9\n",
      " auc:0.8414216225778198 \n",
      " apur:0.8000951333708438 \n",
      " f1:0.7319130985024256 \n",
      " precision:0.677999218444705 \n",
      " recall:0.7951420714940421 \n",
      "}\n",
      "=====Epoch 10\n",
      "Training...\n"
     ]
    },
    {
     "name": "stderr",
     "output_type": "stream",
     "text": [
      "Iteration: 100%|██████████| 62/62 [00:04<00:00, 14.40it/s]\n",
      "Iteration: 100%|██████████| 62/62 [00:10<00:00,  6.18it/s]\n",
      "Iteration:   8%|▊         | 5/62 [00:00<00:09,  6.03it/s]"
     ]
    },
    {
     "name": "stdout",
     "output_type": "stream",
     "text": [
      "Evaluating...\n"
     ]
    },
    {
     "name": "stderr",
     "output_type": "stream",
     "text": [
      "Iteration: 100%|██████████| 7/7 [00:00<00:00, 14.67it/s]s]\n",
      "Iteration:   0%|          | 0/62 [00:00<?, ?it/s].09it/s]"
     ]
    },
    {
     "name": "stdout",
     "output_type": "stream",
     "text": [
      "{'Train':  best_epoch_indx:9\n",
      " auc:0.8408013104688047 \n",
      " apur:0.7975453453927639 \n",
      " f1:0.7267411642411643 \n",
      " precision:0.7420724426164257 \n",
      " recall:0.7120305537873965 \n",
      ", 'Validation':  best_epoch_indx:9\n",
      " auc:0.8311841207030212 \n",
      " apur:0.7859911348811474 \n",
      " f1:0.7130333138515487 \n",
      " precision:0.7279236276849642 \n",
      " recall:0.6987399770904925 \n",
      ", 'Test':  best_epoch_indx:9\n",
      " auc:0.834391986364446 \n",
      " apur:0.7947347290432261 \n",
      " f1:0.716276872194661 \n",
      " precision:0.7391516333495856 \n",
      " recall:0.694775435380385 \n",
      "}\n",
      "=====Epoch 10\n",
      "Training...\n"
     ]
    },
    {
     "name": "stderr",
     "output_type": "stream",
     "text": [
      "Iteration: 100%|██████████| 18/18 [00:01<00:00, 15.93it/s]\n",
      "Iteration: 100%|██████████| 7/7 [00:00<00:00, 15.20it/s]s]\n",
      "Iteration:   2%|▏         | 1/62 [00:00<00:08,  6.87it/s]]"
     ]
    },
    {
     "name": "stdout",
     "output_type": "stream",
     "text": [
      "{'Train':  best_epoch_indx:10\n",
      " auc:0.8529825571884551 \n",
      " apur:0.813147027919881 \n",
      " f1:0.737047038874584 \n",
      " precision:0.7273177987109569 \n",
      " recall:0.747040101845958 \n",
      ", 'Validation':  best_epoch_indx:10\n",
      " auc:0.8344643456327305 \n",
      " apur:0.7861976315756415 \n",
      " f1:0.7182697780307343 \n",
      " precision:0.7138009049773756 \n",
      " recall:0.722794959908362 \n",
      ", 'Test':  best_epoch_indx:10\n",
      " auc:0.8443640499094212 \n",
      " apur:0.805578039581702 \n",
      " f1:0.7342863626049467 \n",
      " precision:0.7271910112359551 \n",
      " recall:0.7415215398716773 \n",
      "}\n",
      "=====Epoch 11\n",
      "Training...\n"
     ]
    },
    {
     "name": "stderr",
     "output_type": "stream",
     "text": [
      "Iteration: 100%|██████████| 62/62 [00:04<00:00, 14.16it/s]\n",
      "Iteration: 100%|██████████| 18/18 [00:01<00:00, 15.87it/s]\n",
      "Iteration: 100%|██████████| 7/7 [00:00<00:00, 14.57it/s]s]\n",
      "Iteration:  58%|█████▊    | 36/62 [00:05<00:04,  6.21it/s]"
     ]
    },
    {
     "name": "stdout",
     "output_type": "stream",
     "text": [
      "{'Train':  best_epoch_indx:10\n",
      " auc:0.8509436252156405 \n",
      " apur:0.8130629180716857 \n",
      " f1:0.7249220977259166 \n",
      " precision:0.7563641394576647 \n",
      " recall:0.6959898154042011 \n",
      ", 'Validation':  best_epoch_indx:10\n",
      " auc:0.8381852121829213 \n",
      " apur:0.7953922040288535 \n",
      " f1:0.7073608617594255 \n",
      " precision:0.7406015037593985 \n",
      " recall:0.6769759450171822 \n",
      ", 'Test':  best_epoch_indx:10\n",
      " auc:0.8406929052208613 \n",
      " apur:0.7981714270309662 \n",
      " f1:0.7231316725978647 \n",
      " precision:0.749631087063453 \n",
      " recall:0.6984417965169569 \n",
      "}\n",
      "=====Epoch 11\n",
      "Training...\n"
     ]
    },
    {
     "name": "stderr",
     "output_type": "stream",
     "text": [
      "Iteration: 100%|██████████| 62/62 [00:10<00:00,  6.19it/s]\n",
      "Iteration:   3%|▎         | 2/62 [00:00<00:04, 13.01it/s]]"
     ]
    },
    {
     "name": "stdout",
     "output_type": "stream",
     "text": [
      "Evaluating...\n"
     ]
    },
    {
     "name": "stderr",
     "output_type": "stream",
     "text": [
      "Iteration: 100%|██████████| 62/62 [00:09<00:00,  6.25it/s]\n",
      "Iteration:  57%|█████▋    | 4/7 [00:00<00:00, 14.36it/s]s]"
     ]
    },
    {
     "name": "stdout",
     "output_type": "stream",
     "text": [
      "Evaluating...\n"
     ]
    },
    {
     "name": "stderr",
     "output_type": "stream",
     "text": [
      "\r",
      "Iteration:  35%|███▌      | 22/62 [00:01<00:02, 14.91it/s]\r",
      "Iteration:  44%|████▎     | 27/62 [00:04<00:05,  6.26it/s]\r",
      "Iteration:   3%|▎         | 2/62 [00:00<00:04, 13.20it/s]\r",
      "Iteration:  74%|███████▍  | 46/62 [00:07<00:02,  6.45it/s]\r",
      "Iteration:  86%|████████▌ | 6/7 [00:00<00:00, 14.49it/s]\r",
      "Iteration: 100%|██████████| 7/7 [00:00<00:00, 14.75it/s]\n",
      "\r",
      "Iteration:  39%|███▊      | 24/62 [00:01<00:02, 15.01it/s]\r",
      "Iteration:   0%|          | 0/62 [00:00<?, ?it/s]\r",
      "Iteration:   6%|▋         | 4/62 [00:00<00:04, 13.96it/s]\r",
      "Iteration:  45%|████▌     | 28/62 [00:04<00:05,  6.21it/s]"
     ]
    },
    {
     "name": "stdout",
     "output_type": "stream",
     "text": [
      "{'Train':  best_epoch_indx:10\n",
      " auc:0.8398181194582109 \n",
      " apur:0.7998120954258342 \n",
      " f1:0.7274360663592262 \n",
      " precision:0.6868355575661615 \n",
      " recall:0.773138128580522 \n",
      ", 'Validation':  best_epoch_indx:10\n",
      " auc:0.8184421534936999 \n",
      " apur:0.7690522105885195 \n",
      " f1:0.7190170940170941 \n",
      " precision:0.6736736736736737 \n",
      " recall:0.7709049255441008 \n",
      ", 'Test':  best_epoch_indx:10\n",
      " auc:0.8341104335388689 \n",
      " apur:0.7907664358724218 \n",
      " f1:0.7281323877068557 \n",
      " precision:0.6855524079320113 \n",
      " recall:0.7763519706691109 \n",
      "}\n",
      "=====Epoch 11\n",
      "Training...\n"
     ]
    },
    {
     "name": "stderr",
     "output_type": "stream",
     "text": [
      "Iteration: 100%|██████████| 62/62 [00:09<00:00,  6.30it/s]\n",
      "Iteration:   0%|          | 0/62 [00:00<?, ?it/s]"
     ]
    },
    {
     "name": "stdout",
     "output_type": "stream",
     "text": [
      "Evaluating...\n"
     ]
    },
    {
     "name": "stderr",
     "output_type": "stream",
     "text": [
      "Iteration: 100%|██████████| 62/62 [00:04<00:00, 14.29it/s]\n",
      "Iteration: 100%|██████████| 18/18 [00:01<00:00, 15.87it/s]\n",
      "Iteration: 100%|██████████| 62/62 [00:04<00:00, 14.54it/s]\n",
      "Iteration: 100%|██████████| 18/18 [00:01<00:00, 16.16it/s]\n",
      "Iteration: 100%|██████████| 62/62 [00:09<00:00,  6.24it/s]\n",
      "Iteration:  74%|███████▍  | 46/62 [00:03<00:01, 15.23it/s]"
     ]
    },
    {
     "name": "stdout",
     "output_type": "stream",
     "text": [
      "Evaluating...\n"
     ]
    },
    {
     "name": "stderr",
     "output_type": "stream",
     "text": [
      "Iteration: 100%|██████████| 62/62 [00:04<00:00, 15.01it/s]\n",
      "Iteration: 100%|██████████| 18/18 [00:01<00:00, 15.91it/s]\n",
      "Iteration: 100%|██████████| 7/7 [00:00<00:00, 15.41it/s]s]\n"
     ]
    },
    {
     "name": "stdout",
     "output_type": "stream",
     "text": [
      "{'Train':  best_epoch_indx:10\n",
      " auc:0.8494988921632083 \n",
      " apur:0.8103968321915153 \n",
      " f1:0.7396744412050534 \n",
      " precision:0.7072830758508537 \n",
      " recall:0.7751750477402928 \n",
      ", 'Validation':  best_epoch_indx:10\n",
      " auc:0.8311069843143153 \n",
      " apur:0.7865725991824082 \n",
      " f1:0.7186477644492911 \n",
      " precision:0.6857440166493236 \n",
      " recall:0.7548682703321878 \n",
      ", 'Test':  best_epoch_indx:10\n",
      " auc:0.8417481713730547 \n",
      " apur:0.7998880638372226 \n",
      " f1:0.7339890710382514 \n",
      " precision:0.7016297534475554 \n",
      " recall:0.7694775435380385 \n",
      "}\n",
      "=====Epoch 11\n",
      "Training...\n"
     ]
    },
    {
     "name": "stderr",
     "output_type": "stream",
     "text": [
      "Iteration: 100%|██████████| 62/62 [00:04<00:00, 15.01it/s]\n",
      "Iteration: 100%|██████████| 62/62 [00:10<00:00,  6.17it/s]\n",
      "Iteration:  33%|███▎      | 6/18 [00:00<00:00, 15.09it/s]"
     ]
    },
    {
     "name": "stdout",
     "output_type": "stream",
     "text": [
      "Evaluating...\n"
     ]
    },
    {
     "name": "stderr",
     "output_type": "stream",
     "text": [
      "Iteration: 100%|██████████| 7/7 [00:00<00:00, 15.38it/s]]]\n"
     ]
    },
    {
     "name": "stdout",
     "output_type": "stream",
     "text": [
      "{'Train':  best_epoch_indx:10\n",
      " auc:0.8409117071047439 \n",
      " apur:0.7984380104301652 \n",
      " f1:0.7318875696631936 \n",
      " precision:0.6981393736276436 \n",
      " recall:0.7690642902609802 \n",
      ", 'Validation':  best_epoch_indx:10\n",
      " auc:0.830838935363563 \n",
      " apur:0.7861736525916306 \n",
      " f1:0.7255008121277747 \n",
      " precision:0.6878850102669405 \n",
      " recall:0.7674684994272624 \n",
      ", 'Test':  best_epoch_indx:10\n",
      " auc:0.8336208032961439 \n",
      " apur:0.7957215524482779 \n",
      " f1:0.7219039224327898 \n",
      " precision:0.6952461799660441 \n",
      " recall:0.7506874427131073 \n",
      "}\n",
      "=====Epoch 11\n",
      "Training...\n"
     ]
    },
    {
     "name": "stderr",
     "output_type": "stream",
     "text": [
      "Iteration: 100%|██████████| 18/18 [00:01<00:00, 16.02it/s]\n",
      "Iteration: 100%|██████████| 7/7 [00:00<00:00, 15.56it/s]]]\n",
      "Iteration:  35%|███▌      | 22/62 [00:01<00:02, 14.88it/s]"
     ]
    },
    {
     "name": "stdout",
     "output_type": "stream",
     "text": [
      "{'Train':  best_epoch_indx:11\n",
      " auc:0.848182867518968 \n",
      " apur:0.8102970463581988 \n",
      " f1:0.7281521235009606 \n",
      " precision:0.7591876208897486 \n",
      " recall:0.6995544239338001 \n",
      ", 'Validation':  best_epoch_indx:11\n",
      " auc:0.8358788341606211 \n",
      " apur:0.7937469736950753 \n",
      " f1:0.7050359712230215 \n",
      " precision:0.7396226415094339 \n",
      " recall:0.6735395189003437 \n",
      ", 'Test':  best_epoch_indx:11\n",
      " auc:0.8370006203186771 \n",
      " apur:0.7944059426113758 \n",
      " f1:0.7224460772694952 \n",
      " precision:0.748159057437408 \n",
      " recall:0.6984417965169569 \n",
      "}\n",
      "=====Epoch 12\n",
      "Training...\n"
     ]
    },
    {
     "name": "stderr",
     "output_type": "stream",
     "text": [
      "Iteration: 100%|██████████| 7/7 [00:00<00:00, 15.34it/s]s]\n",
      "Iteration:   2%|▏         | 1/62 [00:00<00:08,  6.91it/s]]"
     ]
    },
    {
     "name": "stdout",
     "output_type": "stream",
     "text": [
      "{'Train':  best_epoch_indx:11\n",
      " auc:0.8539487908204293 \n",
      " apur:0.8148678983665033 \n",
      " f1:0.7414240067522759 \n",
      " precision:0.7041914796152084 \n",
      " recall:0.7828134945894335 \n",
      ", 'Validation':  best_epoch_indx:11\n",
      " auc:0.8368044708250895 \n",
      " apur:0.7870266204556402 \n",
      " f1:0.72986301369863 \n",
      " precision:0.6995798319327731 \n",
      " recall:0.7628865979381443 \n",
      ", 'Test':  best_epoch_indx:11\n",
      " auc:0.8460348983263741 \n",
      " apur:0.8071342586416239 \n",
      " f1:0.741907639188606 \n",
      " precision:0.7010603588907015 \n",
      " recall:0.7878093492208983 \n",
      "}\n",
      "=====Epoch 12\n",
      "Training...\n"
     ]
    },
    {
     "name": "stderr",
     "output_type": "stream",
     "text": [
      "Iteration: 100%|██████████| 62/62 [00:04<00:00, 14.98it/s]\n",
      "Iteration: 100%|██████████| 18/18 [00:01<00:00, 16.02it/s]\n",
      "Iteration: 100%|██████████| 62/62 [00:10<00:00,  6.20it/s]\n",
      "Iteration:  81%|████████  | 50/62 [00:08<00:01,  6.21it/s]"
     ]
    },
    {
     "name": "stdout",
     "output_type": "stream",
     "text": [
      "Evaluating...\n"
     ]
    },
    {
     "name": "stderr",
     "output_type": "stream",
     "text": [
      "Iteration: 100%|██████████| 62/62 [00:09<00:00,  6.25it/s]\n",
      "Iteration:  76%|███████▌  | 47/62 [00:07<00:02,  6.36it/s]"
     ]
    },
    {
     "name": "stdout",
     "output_type": "stream",
     "text": [
      "Evaluating...\n"
     ]
    },
    {
     "name": "stderr",
     "output_type": "stream",
     "text": [
      "\r",
      "Iteration: 100%|██████████| 7/7 [00:00<00:00, 15.12it/s]\n",
      "\r",
      "Iteration:   0%|          | 0/62 [00:00<?, ?it/s]\r",
      "Iteration:  35%|███▌      | 22/62 [00:01<00:02, 14.74it/s]\r",
      "Iteration:   6%|▋         | 4/62 [00:00<00:04, 13.91it/s]\r",
      "Iteration:  77%|███████▋  | 48/62 [00:07<00:02,  6.39it/s]\r",
      "Iteration:  95%|█████████▌| 59/62 [00:09<00:00,  6.28it/s]\r",
      "Iteration:   2%|▏         | 1/62 [00:00<00:09,  6.68it/s]\r",
      "Iteration:  39%|███▊      | 24/62 [00:01<00:02, 14.84it/s]"
     ]
    },
    {
     "name": "stdout",
     "output_type": "stream",
     "text": [
      "{'Train':  best_epoch_indx:11\n",
      " auc:0.8409927420464107 \n",
      " apur:0.8013367432914271 \n",
      " f1:0.7288866970780422 \n",
      " precision:0.706585395004183 \n",
      " recall:0.7526416295353279 \n",
      ", 'Validation':  best_epoch_indx:11\n",
      " auc:0.8185771421739347 \n",
      " apur:0.7707666439338825 \n",
      " f1:0.7139737991266376 \n",
      " precision:0.6819603753910324 \n",
      " recall:0.7491408934707904 \n",
      ", 'Test':  best_epoch_indx:11\n",
      " auc:0.8332992712042157 \n",
      " apur:0.7921787769034789 \n",
      " f1:0.7227262668732021 \n",
      " precision:0.6987590928540864 \n",
      " recall:0.7483959670027498 \n",
      "}\n",
      "=====Epoch 12\n",
      "Training...\n"
     ]
    },
    {
     "name": "stderr",
     "output_type": "stream",
     "text": [
      "Iteration: 100%|██████████| 62/62 [00:09<00:00,  6.26it/s]\n",
      "Iteration:  19%|█▉        | 12/62 [00:00<00:03, 14.25it/s]"
     ]
    },
    {
     "name": "stdout",
     "output_type": "stream",
     "text": [
      "Evaluating...\n"
     ]
    },
    {
     "name": "stderr",
     "output_type": "stream",
     "text": [
      "Iteration: 100%|██████████| 62/62 [00:09<00:00,  6.28it/s]\n",
      "Iteration:  24%|██▍       | 15/62 [00:02<00:07,  6.13it/s]"
     ]
    },
    {
     "name": "stdout",
     "output_type": "stream",
     "text": [
      "Evaluating...\n"
     ]
    },
    {
     "name": "stderr",
     "output_type": "stream",
     "text": [
      "Iteration: 100%|██████████| 62/62 [00:04<00:00, 14.81it/s]\n",
      "Iteration: 100%|██████████| 62/62 [00:04<00:00, 15.13it/s]\n",
      "Iteration: 100%|██████████| 18/18 [00:01<00:00, 15.84it/s]\n",
      "Iteration: 100%|██████████| 62/62 [00:04<00:00, 15.10it/s]\n",
      "Iteration: 100%|██████████| 18/18 [00:01<00:00, 16.07it/s]\n",
      "Iteration: 100%|██████████| 7/7 [00:00<00:00, 15.58it/s]s]\n",
      "Iteration:  58%|█████▊    | 36/62 [00:05<00:04,  6.16it/s]"
     ]
    },
    {
     "name": "stdout",
     "output_type": "stream",
     "text": [
      "{'Train':  best_epoch_indx:11\n",
      " auc:0.8404179411801485 \n",
      " apur:0.7982461119937326 \n",
      " f1:0.7331043787562861 \n",
      " precision:0.7072535794580523 \n",
      " recall:0.7609166136218969 \n",
      ", 'Validation':  best_epoch_indx:11\n",
      " auc:0.8321714664784539 \n",
      " apur:0.789084206431396 \n",
      " f1:0.7241569928137092 \n",
      " precision:0.6997863247863247 \n",
      " recall:0.7502863688430699 \n",
      ", 'Test':  best_epoch_indx:11\n",
      " auc:0.833605753186224 \n",
      " apur:0.7952953206517182 \n",
      " f1:0.7177653631284916 \n",
      " precision:0.7003924989097252 \n",
      " recall:0.7360219981668195 \n",
      "}\n",
      "=====Epoch 12\n",
      "Training...\n"
     ]
    },
    {
     "name": "stderr",
     "output_type": "stream",
     "text": [
      "Iteration: 100%|██████████| 18/18 [00:01<00:00, 16.05it/s]\n",
      "Iteration: 100%|██████████| 62/62 [00:04<00:00, 15.02it/s]\n",
      "Iteration: 100%|██████████| 7/7 [00:00<00:00, 15.59it/s]s]\n",
      "Iteration:   0%|          | 0/62 [00:00<?, ?it/s].23it/s]"
     ]
    },
    {
     "name": "stdout",
     "output_type": "stream",
     "text": [
      "{'Train':  best_epoch_indx:12\n",
      " auc:0.8510304441545914 \n",
      " apur:0.8132698931993954 \n",
      " f1:0.7339719029374202 \n",
      " precision:0.736322869955157 \n",
      " recall:0.7316359007001909 \n",
      ", 'Validation':  best_epoch_indx:12\n",
      " auc:0.8408290619058088 \n",
      " apur:0.8015051670761812 \n",
      " f1:0.7177419354838709 \n",
      " precision:0.7219003476245655 \n",
      " recall:0.713631156930126 \n",
      ", 'Test':  best_epoch_indx:12\n",
      " auc:0.8388694460646798 \n",
      " apur:0.7952624240771873 \n",
      " f1:0.7277714285714286 \n",
      " precision:0.7259461924304605 \n",
      " recall:0.7296058661778185 \n",
      "}\n",
      "=====Epoch 13\n",
      "Training...\n"
     ]
    },
    {
     "name": "stderr",
     "output_type": "stream",
     "text": [
      "Iteration: 100%|██████████| 18/18 [00:01<00:00, 15.84it/s]\n",
      "Iteration: 100%|██████████| 7/7 [00:00<00:00, 14.92it/s]s]\n",
      "Iteration:  29%|██▉       | 18/62 [00:02<00:07,  6.25it/s]"
     ]
    },
    {
     "name": "stdout",
     "output_type": "stream",
     "text": [
      "{'Train':  best_epoch_indx:11\n",
      " auc:0.8502397286172018 \n",
      " apur:0.8120261659053238 \n",
      " f1:0.7393726535061159 \n",
      " precision:0.7050467721445894 \n",
      " recall:0.7772119669000637 \n",
      ", 'Validation':  best_epoch_indx:11\n",
      " auc:0.8325012245401706 \n",
      " apur:0.7868687560329184 \n",
      " f1:0.7277628032345013 \n",
      " precision:0.6873727087576375 \n",
      " recall:0.7731958762886598 \n",
      ", 'Test':  best_epoch_indx:11\n",
      " auc:0.8421104545318429 \n",
      " apur:0.800711966846255 \n",
      " f1:0.735906331309627 \n",
      " precision:0.6983539094650206 \n",
      " recall:0.7777268560953254 \n",
      "}\n",
      "=====Epoch 12\n",
      "Training...\n"
     ]
    },
    {
     "name": "stderr",
     "output_type": "stream",
     "text": [
      "Iteration: 100%|██████████| 62/62 [00:10<00:00,  6.18it/s]\n",
      "Iteration:   8%|▊         | 5/62 [00:00<00:09,  6.17it/s]]"
     ]
    },
    {
     "name": "stdout",
     "output_type": "stream",
     "text": [
      "Evaluating...\n"
     ]
    },
    {
     "name": "stderr",
     "output_type": "stream",
     "text": [
      "Iteration: 100%|██████████| 7/7 [00:00<00:00, 14.81it/s]s]\n",
      "Iteration:  77%|███████▋  | 48/62 [00:03<00:00, 15.21it/s]"
     ]
    },
    {
     "name": "stdout",
     "output_type": "stream",
     "text": [
      "{'Train':  best_epoch_indx:12\n",
      " auc:0.8535172806252631 \n",
      " apur:0.8162154024010594 \n",
      " f1:0.7362238728623252 \n",
      " precision:0.6720984020185029 \n",
      " recall:0.8138765117759389 \n",
      ", 'Validation':  best_epoch_indx:12\n",
      " auc:0.8336380220687207 \n",
      " apur:0.7899626788846037 \n",
      " f1:0.7219917012448134 \n",
      " precision:0.6597156398104266 \n",
      " recall:0.7972508591065293 \n",
      ", 'Test':  best_epoch_indx:12\n",
      " auc:0.8465124048304615 \n",
      " apur:0.8092340534344484 \n",
      " f1:0.7312629399585923 \n",
      " precision:0.6669184290030211 \n",
      " recall:0.8093492208982584 \n",
      "}\n",
      "=====Epoch 13\n",
      "Training...\n"
     ]
    },
    {
     "name": "stderr",
     "output_type": "stream",
     "text": [
      "Iteration: 100%|██████████| 62/62 [00:04<00:00, 14.96it/s]\n",
      "Iteration: 100%|██████████| 18/18 [00:01<00:00, 15.89it/s]\n",
      "Iteration: 100%|██████████| 62/62 [00:09<00:00,  6.26it/s]\n",
      "Iteration:  90%|█████████ | 56/62 [00:09<00:01,  5.90it/s]"
     ]
    },
    {
     "name": "stdout",
     "output_type": "stream",
     "text": [
      "Evaluating...\n"
     ]
    },
    {
     "name": "stderr",
     "output_type": "stream",
     "text": [
      "Iteration: 100%|██████████| 62/62 [00:10<00:00,  6.12it/s]\n",
      "Iteration:   0%|          | 0/62 [00:00<?, ?it/s]"
     ]
    },
    {
     "name": "stdout",
     "output_type": "stream",
     "text": [
      "Evaluating...\n"
     ]
    },
    {
     "name": "stderr",
     "output_type": "stream",
     "text": [
      "Iteration: 100%|██████████| 62/62 [00:10<00:00,  6.18it/s]\n",
      "Iteration:   0%|          | 0/62 [00:00<?, ?it/s]"
     ]
    },
    {
     "name": "stdout",
     "output_type": "stream",
     "text": [
      "Evaluating...\n"
     ]
    },
    {
     "name": "stderr",
     "output_type": "stream",
     "text": [
      "Iteration: 100%|██████████| 62/62 [00:04<00:00, 15.09it/s]\n",
      "Iteration: 100%|██████████| 62/62 [00:04<00:00, 15.07it/s]\n",
      "Iteration: 100%|██████████| 7/7 [00:00<00:00, 15.12it/s]\n",
      "Iteration:  78%|███████▊  | 14/18 [00:00<00:00, 15.77it/s]"
     ]
    },
    {
     "name": "stdout",
     "output_type": "stream",
     "text": [
      "{'Train':  best_epoch_indx:12\n",
      " auc:0.8420952971866722 \n",
      " apur:0.8010887374071425 \n",
      " f1:0.7284713638236506 \n",
      " precision:0.6774687978979637 \n",
      " recall:0.7877784850413749 \n",
      ", 'Validation':  best_epoch_indx:12\n",
      " auc:0.8228717106151242 \n",
      " apur:0.773057174979072 \n",
      " f1:0.7089276281035394 \n",
      " precision:0.657843137254902 \n",
      " recall:0.7686139747995419 \n",
      ", 'Test':  best_epoch_indx:12\n",
      " auc:0.8355435127234402 \n",
      " apur:0.7925235129089718 \n",
      " f1:0.7231160033869602 \n",
      " precision:0.6719118804091266 \n",
      " recall:0.7827681026581118 \n",
      "}\n",
      "=====Epoch 13\n",
      "Training...\n"
     ]
    },
    {
     "name": "stderr",
     "output_type": "stream",
     "text": [
      "Iteration: 100%|██████████| 18/18 [00:01<00:00, 16.17it/s]\n",
      "Iteration: 100%|██████████| 7/7 [00:00<00:00, 15.52it/s]s]\n",
      "Iteration:  10%|▉         | 6/62 [00:00<00:09,  6.19it/s]]"
     ]
    },
    {
     "name": "stdout",
     "output_type": "stream",
     "text": [
      "{'Train':  best_epoch_indx:12\n",
      " auc:0.8374328137625423 \n",
      " apur:0.7944685914881532 \n",
      " f1:0.7286974763990868 \n",
      " precision:0.7070162835249042 \n",
      " recall:0.7517504774029281 \n",
      ", 'Validation':  best_epoch_indx:12\n",
      " auc:0.8272434154450191 \n",
      " apur:0.783877838793636 \n",
      " f1:0.7195592286501378 \n",
      " precision:0.6932059447983014 \n",
      " recall:0.7479954180985109 \n",
      ", 'Test':  best_epoch_indx:12\n",
      " auc:0.831215409830701 \n",
      " apur:0.7933477380913218 \n",
      " f1:0.7125869418891632 \n",
      " precision:0.6980219780219781 \n",
      " recall:0.7277726856095326 \n",
      "}\n",
      "=====Epoch 13\n",
      "Training...\n"
     ]
    },
    {
     "name": "stderr",
     "output_type": "stream",
     "text": [
      "Iteration: 100%|██████████| 18/18 [00:01<00:00, 16.04it/s]\n",
      "Iteration: 100%|██████████| 7/7 [00:00<00:00, 15.68it/s]s]\n",
      "Iteration:  77%|███████▋  | 48/62 [00:03<00:00, 15.24it/s]"
     ]
    },
    {
     "name": "stdout",
     "output_type": "stream",
     "text": [
      "{'Train':  best_epoch_indx:13\n",
      " auc:0.845906554618486 \n",
      " apur:0.803771057793788 \n",
      " f1:0.7088119969732407 \n",
      " precision:0.7710266387309189 \n",
      " recall:0.6558879694462126 \n",
      ", 'Validation':  best_epoch_indx:13\n",
      " auc:0.8318031402223842 \n",
      " apur:0.7847652077145398 \n",
      " f1:0.6968944099378882 \n",
      " precision:0.7611940298507462 \n",
      " recall:0.6426116838487973 \n",
      ", 'Test':  best_epoch_indx:13\n",
      " auc:0.8345265980921343 \n",
      " apur:0.785648417385424 \n",
      " f1:0.7035027133695116 \n",
      " precision:0.7617521367521367 \n",
      " recall:0.6535288725939505 \n",
      "}\n",
      "=====Epoch 14\n",
      "Training...\n"
     ]
    },
    {
     "name": "stderr",
     "output_type": "stream",
     "text": [
      "Iteration: 100%|██████████| 62/62 [00:10<00:00,  6.13it/s]\n",
      "Iteration:  18%|█▊        | 11/62 [00:01<00:07,  6.41it/s]"
     ]
    },
    {
     "name": "stdout",
     "output_type": "stream",
     "text": [
      "Evaluating...\n"
     ]
    },
    {
     "name": "stderr",
     "output_type": "stream",
     "text": [
      "Iteration: 100%|██████████| 62/62 [00:04<00:00, 14.91it/s]\n",
      "Iteration: 100%|██████████| 18/18 [00:01<00:00, 15.96it/s]\n",
      "Iteration: 100%|██████████| 7/7 [00:00<00:00, 15.39it/s]s]\n",
      "Iteration:  55%|█████▍    | 34/62 [00:02<00:01, 15.20it/s]"
     ]
    },
    {
     "name": "stdout",
     "output_type": "stream",
     "text": [
      "{'Train':  best_epoch_indx:12\n",
      " auc:0.8476015110167386 \n",
      " apur:0.8037449193704562 \n",
      " f1:0.7371405886689728 \n",
      " precision:0.664655348742074 \n",
      " recall:0.8273711012094207 \n",
      ", 'Validation':  best_epoch_indx:12\n",
      " auc:0.8301943644154413 \n",
      " apur:0.7771111663369705 \n",
      " f1:0.7267175572519083 \n",
      " precision:0.6538461538461539 \n",
      " recall:0.8178694158075601 \n",
      ", 'Test':  best_epoch_indx:12\n",
      " auc:0.8378201698640304 \n",
      " apur:0.78794090513976 \n",
      " f1:0.7259742909610284 \n",
      " precision:0.6542846634792203 \n",
      " recall:0.8153070577451879 \n",
      "}\n",
      "=====Epoch 13\n",
      "Training...\n"
     ]
    },
    {
     "name": "stderr",
     "output_type": "stream",
     "text": [
      "Iteration: 100%|██████████| 62/62 [00:04<00:00, 15.15it/s]\n",
      "Iteration: 100%|██████████| 18/18 [00:01<00:00, 16.04it/s]\n",
      "Iteration: 100%|██████████| 7/7 [00:00<00:00, 15.52it/s]s]\n",
      "Iteration:   2%|▏         | 1/62 [00:00<00:08,  6.87it/s]]"
     ]
    },
    {
     "name": "stdout",
     "output_type": "stream",
     "text": [
      "{'Train':  best_epoch_indx:13\n",
      " auc:0.8535218362524184 \n",
      " apur:0.8177729100472126 \n",
      " f1:0.683099120763508 \n",
      " precision:0.8336390315480557 \n",
      " recall:0.5786123488224061 \n",
      ", 'Validation':  best_epoch_indx:13\n",
      " auc:0.8290628700136146 \n",
      " apur:0.7864400081394224 \n",
      " f1:0.6588881262868909 \n",
      " precision:0.821917808219178 \n",
      " recall:0.5498281786941581 \n",
      ", 'Test':  best_epoch_indx:13\n",
      " auc:0.8433156804834165 \n",
      " apur:0.80825977706025 \n",
      " f1:0.6800858829844336 \n",
      " precision:0.8205958549222798 \n",
      " recall:0.580659945004583 \n",
      "}\n",
      "=====Epoch 14\n",
      "Training...\n"
     ]
    },
    {
     "name": "stderr",
     "output_type": "stream",
     "text": [
      "Iteration: 100%|██████████| 62/62 [00:10<00:00,  6.14it/s]\n",
      "Iteration:  19%|█▉        | 12/62 [00:01<00:07,  6.44it/s]"
     ]
    },
    {
     "name": "stdout",
     "output_type": "stream",
     "text": [
      "Evaluating...\n"
     ]
    },
    {
     "name": "stderr",
     "output_type": "stream",
     "text": [
      "Iteration: 100%|██████████| 62/62 [00:10<00:00,  6.14it/s]\n",
      "Iteration:  26%|██▌       | 16/62 [00:02<00:07,  6.29it/s]"
     ]
    },
    {
     "name": "stdout",
     "output_type": "stream",
     "text": [
      "Evaluating...\n"
     ]
    },
    {
     "name": "stderr",
     "output_type": "stream",
     "text": [
      "Iteration: 100%|██████████| 62/62 [00:09<00:00,  6.30it/s]\n",
      "Iteration:   0%|          | 0/62 [00:00<?, ?it/s]"
     ]
    },
    {
     "name": "stdout",
     "output_type": "stream",
     "text": [
      "Evaluating...\n"
     ]
    },
    {
     "name": "stderr",
     "output_type": "stream",
     "text": [
      "Iteration: 100%|██████████| 62/62 [00:04<00:00, 14.97it/s]\n",
      "Iteration: 100%|██████████| 62/62 [00:10<00:00,  6.08it/s]\n",
      "Iteration:  77%|███████▋  | 48/62 [00:03<00:00, 15.36it/s]"
     ]
    },
    {
     "name": "stdout",
     "output_type": "stream",
     "text": [
      "Evaluating...\n"
     ]
    },
    {
     "name": "stderr",
     "output_type": "stream",
     "text": [
      "Iteration: 100%|██████████| 62/62 [00:04<00:00, 15.01it/s]\n",
      "Iteration: 100%|██████████| 18/18 [00:01<00:00, 15.91it/s]\n",
      "Iteration: 100%|██████████| 62/62 [00:04<00:00, 15.10it/s]\n",
      "Iteration: 100%|██████████| 18/18 [00:01<00:00, 16.13it/s]\n",
      "Iteration: 100%|██████████| 7/7 [00:00<00:00, 15.58it/s]s]\n",
      "Iteration:  48%|████▊     | 30/62 [00:02<00:02, 14.99it/s]"
     ]
    },
    {
     "name": "stdout",
     "output_type": "stream",
     "text": [
      "{'Train':  best_epoch_indx:13\n",
      " auc:0.8396220731344963 \n",
      " apur:0.7931351500293142 \n",
      " f1:0.7294647750106557 \n",
      " precision:0.6991129785247432 \n",
      " recall:0.7625716104392107 \n",
      ", 'Validation':  best_epoch_indx:13\n",
      " auc:0.8266263243353736 \n",
      " apur:0.774872288317062 \n",
      " f1:0.7213114754098361 \n",
      " precision:0.6896551724137931 \n",
      " recall:0.7560137457044673 \n",
      ", 'Test':  best_epoch_indx:13\n",
      " auc:0.8279020702468126 \n",
      " apur:0.785965814396246 \n",
      " f1:0.7186876524052317 \n",
      " precision:0.6960068699012452 \n",
      " recall:0.7428964252978918 \n",
      "}\n",
      "=====Epoch 14\n",
      "Training...\n"
     ]
    },
    {
     "name": "stderr",
     "output_type": "stream",
     "text": [
      "Iteration: 100%|██████████| 18/18 [00:01<00:00, 15.94it/s]\n",
      "Iteration: 100%|██████████| 7/7 [00:00<00:00, 15.13it/s]s]\n",
      "Iteration:   8%|▊         | 5/62 [00:00<00:09,  6.24it/s]]"
     ]
    },
    {
     "name": "stdout",
     "output_type": "stream",
     "text": [
      "{'Train':  best_epoch_indx:14\n",
      " auc:0.8445160581093172 \n",
      " apur:0.8072244905892472 \n",
      " f1:0.7327895192188851 \n",
      " precision:0.7120211360634082 \n",
      " recall:0.7548058561425843 \n",
      ", 'Validation':  best_epoch_indx:14\n",
      " auc:0.8292287132493317 \n",
      " apur:0.7897372646573431 \n",
      " f1:0.7158962795941376 \n",
      " precision:0.704772475027747 \n",
      " recall:0.7273768613974799 \n",
      ", 'Test':  best_epoch_indx:14\n",
      " auc:0.8325031556012308 \n",
      " apur:0.7891200479784096 \n",
      " f1:0.7188264058679706 \n",
      " precision:0.6978851963746223 \n",
      " recall:0.7410632447296058 \n",
      "}\n",
      "=====Epoch 15\n",
      "Training...\n"
     ]
    },
    {
     "name": "stderr",
     "output_type": "stream",
     "text": [
      "Iteration: 100%|██████████| 62/62 [00:09<00:00,  6.25it/s]\n",
      "Iteration:  87%|████████▋ | 54/62 [00:03<00:00, 15.07it/s]"
     ]
    },
    {
     "name": "stdout",
     "output_type": "stream",
     "text": [
      "Evaluating...\n"
     ]
    },
    {
     "name": "stderr",
     "output_type": "stream",
     "text": [
      "Iteration: 100%|██████████| 62/62 [00:04<00:00, 14.83it/s]\n",
      "Iteration: 100%|██████████| 18/18 [00:01<00:00, 15.87it/s]\n",
      "Iteration: 100%|██████████| 7/7 [00:00<00:00, 15.33it/s]s]\n",
      "Iteration: 100%|██████████| 7/7 [00:00<00:00, 14.29it/s]s]\n"
     ]
    },
    {
     "name": "stdout",
     "output_type": "stream",
     "text": [
      "{'Train':  best_epoch_indx:13\n",
      " auc:0.8466829443151984 \n",
      " apur:0.8072592326995865 \n",
      " f1:0.736398562399306 \n",
      " precision:0.7173729325123748 \n",
      " recall:0.7564608529598982 \n",
      ", 'Validation':  best_epoch_indx:13\n",
      " auc:0.8302613766531293 \n",
      " apur:0.7848293692226912 \n",
      " f1:0.7101449275362319 \n",
      " precision:0.6916395222584147 \n",
      " recall:0.7296678121420389 \n",
      ", 'Test':  best_epoch_indx:13\n",
      " auc:0.8407648975249593 \n",
      " apur:0.7969231961370872 \n",
      " f1:0.733822548365577 \n",
      " precision:0.712742980561555 \n",
      " recall:0.7561869844179652 \n",
      "}\n",
      "=====Epoch 14\n",
      "Training...\n",
      "{'Train':  best_epoch_indx:13\n",
      " auc:0.8396413419324413 \n",
      " apur:0.8016570944761704 \n",
      " f1:0.7237125514000392 \n",
      " precision:0.7425663005625502 \n",
      " recall:0.7057924888605983 \n",
      ", 'Validation':  best_epoch_indx:13\n",
      " auc:0.8197255101607908 \n",
      " apur:0.7711647986770573 \n",
      " f1:0.6873173582700176 \n",
      " precision:0.7016706443914081 \n",
      " recall:0.6735395189003437 \n",
      ", 'Test':  best_epoch_indx:13\n",
      " auc:0.8356152129906992 \n",
      " apur:0.7957635195363479 \n",
      " f1:0.7211493170042393 \n",
      " precision:0.7417635658914729 \n",
      " recall:0.7016498625114573 \n",
      "}\n",
      "=====Epoch 14\n",
      "Training...\n"
     ]
    },
    {
     "name": "stderr",
     "output_type": "stream",
     "text": [
      "Iteration: 100%|██████████| 62/62 [00:04<00:00, 15.05it/s]\n",
      "Iteration: 100%|██████████| 18/18 [00:01<00:00, 16.06it/s]\n",
      "Iteration: 100%|██████████| 7/7 [00:00<00:00, 15.42it/s]s]\n",
      "Iteration:  34%|███▍      | 21/62 [00:03<00:06,  6.34it/s]"
     ]
    },
    {
     "name": "stdout",
     "output_type": "stream",
     "text": [
      "{'Train':  best_epoch_indx:14\n",
      " auc:0.843738278564869 \n",
      " apur:0.8078132364151115 \n",
      " f1:0.7359800605305323 \n",
      " precision:0.6893063583815029 \n",
      " recall:0.7894334818586888 \n",
      ", 'Validation':  best_epoch_indx:14\n",
      " auc:0.8282105129184167 \n",
      " apur:0.7833844408362471 \n",
      " f1:0.7272727272727272 \n",
      " precision:0.6785714285714286 \n",
      " recall:0.7835051546391752 \n",
      ", 'Test':  best_epoch_indx:14\n",
      " auc:0.8395121394204803 \n",
      " apur:0.804754894724188 \n",
      " f1:0.7303754266211605 \n",
      " precision:0.6831604150039904 \n",
      " recall:0.7846012832263978 \n",
      "}\n",
      "=====Epoch 15\n",
      "Training...\n"
     ]
    },
    {
     "name": "stderr",
     "output_type": "stream",
     "text": [
      "Iteration: 100%|██████████| 62/62 [00:09<00:00,  6.23it/s]\n",
      "Iteration:  27%|██▋       | 17/62 [00:02<00:07,  6.18it/s]"
     ]
    },
    {
     "name": "stdout",
     "output_type": "stream",
     "text": [
      "Evaluating...\n"
     ]
    },
    {
     "name": "stderr",
     "output_type": "stream",
     "text": [
      "Iteration: 100%|██████████| 62/62 [00:09<00:00,  6.30it/s]\n",
      "Iteration:  34%|███▍      | 21/62 [00:03<00:06,  6.26it/s]"
     ]
    },
    {
     "name": "stdout",
     "output_type": "stream",
     "text": [
      "Evaluating...\n"
     ]
    },
    {
     "name": "stderr",
     "output_type": "stream",
     "text": [
      "Iteration: 100%|██████████| 62/62 [00:10<00:00,  6.20it/s]\n",
      "Iteration: 100%|██████████| 62/62 [00:09<00:00,  6.23it/s]\n",
      "Iteration: 100%|██████████| 62/62 [00:04<00:00, 15.19it/s]\n",
      "Iteration:  84%|████████▍ | 52/62 [00:03<00:00, 15.50it/s]"
     ]
    },
    {
     "name": "stdout",
     "output_type": "stream",
     "text": [
      "Evaluating...\n",
      "Evaluating...\n"
     ]
    },
    {
     "name": "stderr",
     "output_type": "stream",
     "text": [
      "Iteration: 100%|██████████| 62/62 [00:04<00:00, 15.17it/s]\n",
      "Iteration: 100%|██████████| 18/18 [00:01<00:00, 16.16it/s]\n",
      "Iteration: 100%|██████████| 7/7 [00:00<00:00, 15.61it/s]s]\n",
      "Iteration:  45%|████▌     | 28/62 [00:01<00:02, 14.85it/s]"
     ]
    },
    {
     "name": "stdout",
     "output_type": "stream",
     "text": [
      "{'Train':  best_epoch_indx:14\n",
      " auc:0.8421390926158702 \n",
      " apur:0.8001753659090299 \n",
      " f1:0.7349569312759497 \n",
      " precision:0.7160106254527892 \n",
      " recall:0.75493316359007 \n",
      ", 'Validation':  best_epoch_indx:14\n",
      " auc:0.8322640301449006 \n",
      " apur:0.7912062904274787 \n",
      " f1:0.7279693486590039 \n",
      " precision:0.6970649895178197 \n",
      " recall:0.7617411225658648 \n",
      ", 'Test':  best_epoch_indx:14\n",
      " auc:0.8317243350861439 \n",
      " apur:0.7952019309341304 \n",
      " f1:0.7203428055931439 \n",
      " precision:0.7091474245115453 \n",
      " recall:0.731897341888176 \n",
      "}\n",
      "=====Epoch 15\n",
      "Training...\n"
     ]
    },
    {
     "name": "stderr",
     "output_type": "stream",
     "text": [
      "Iteration: 100%|██████████| 18/18 [00:01<00:00, 16.02it/s]\n",
      "Iteration: 100%|██████████| 7/7 [00:00<00:00, 15.63it/s]s]\n",
      "Iteration:  61%|██████▏   | 38/62 [00:02<00:01, 15.18it/s]"
     ]
    },
    {
     "name": "stdout",
     "output_type": "stream",
     "text": [
      "{'Train':  best_epoch_indx:15\n",
      " auc:0.8514765859522682 \n",
      " apur:0.8127473618202923 \n",
      " f1:0.7376085845682167 \n",
      " precision:0.7401615177541341 \n",
      " recall:0.7350732017823043 \n",
      ", 'Validation':  best_epoch_indx:15\n",
      " auc:0.8386273001106908 \n",
      " apur:0.7961314399746618 \n",
      " f1:0.7194910352805091 \n",
      " precision:0.7266355140186916 \n",
      " recall:0.7124856815578465 \n",
      ", 'Test':  best_epoch_indx:15\n",
      " auc:0.8400472800106163 \n",
      " apur:0.7979769225139838 \n",
      " f1:0.7283978913591566 \n",
      " precision:0.7285648784961027 \n",
      " recall:0.7282309807516041 \n",
      "}\n",
      "=====Epoch 16\n",
      "Training...\n"
     ]
    },
    {
     "name": "stderr",
     "output_type": "stream",
     "text": [
      "Iteration: 100%|██████████| 62/62 [00:09<00:00,  6.22it/s]\n",
      "Iteration:  81%|████████  | 50/62 [00:03<00:00, 15.15it/s]"
     ]
    },
    {
     "name": "stdout",
     "output_type": "stream",
     "text": [
      "Evaluating...\n"
     ]
    },
    {
     "name": "stderr",
     "output_type": "stream",
     "text": [
      "Iteration: 100%|██████████| 62/62 [00:04<00:00, 14.92it/s]\n",
      "Iteration: 100%|██████████| 62/62 [00:04<00:00, 14.81it/s]\n",
      "Iteration: 100%|██████████| 18/18 [00:01<00:00, 15.88it/s]\n",
      "Iteration: 100%|██████████| 18/18 [00:01<00:00, 15.88it/s]\n",
      "Iteration: 100%|██████████| 62/62 [00:04<00:00, 14.98it/s]\n",
      "Iteration: 100%|██████████| 18/18 [00:01<00:00, 15.77it/s]\n",
      "Iteration: 100%|██████████| 7/7 [00:00<00:00, 14.95it/s]s]\n",
      "Iteration: 100%|██████████| 7/7 [00:00<00:00, 14.52it/s]\n",
      "Iteration:  84%|████████▍ | 52/62 [00:08<00:01,  6.22it/s]"
     ]
    },
    {
     "name": "stdout",
     "output_type": "stream",
     "text": [
      "{'Train':  best_epoch_indx:14\n",
      " auc:0.8425677876430794 \n",
      " apur:0.8035749162927419 \n",
      " f1:0.7339595996807269 \n",
      " precision:0.7088472485768501 \n",
      " recall:0.7609166136218969 \n",
      ", 'Validation':  best_epoch_indx:14\n",
      " auc:0.8226325878101365 \n",
      " apur:0.7723690331279851 \n",
      " f1:0.7147577092511014 \n",
      " precision:0.6882290562036055 \n",
      " recall:0.7434135166093929 \n",
      ", 'Test':  best_epoch_indx:14\n",
      " auc:0.8361296952098047 \n",
      " apur:0.7956547358076778 \n",
      " f1:0.7227262668732021 \n",
      " precision:0.6987590928540864 \n",
      " recall:0.7483959670027498 \n",
      "}\n",
      "=====Epoch 15\n",
      "Training...\n",
      "{'Train':  best_epoch_indx:14\n",
      " auc:0.8513067531896827 \n",
      " apur:0.8122552240610683 \n",
      " f1:0.7413538279633461 \n",
      " precision:0.6920529801324503 \n",
      " recall:0.7982176957352005 \n",
      ", 'Validation':  best_epoch_indx:14\n",
      " auc:0.8283556257496694 \n",
      " apur:0.7850619113563109 \n",
      " f1:0.721102863202545 \n",
      " precision:0.6712734452122409 \n",
      " recall:0.7789232531500573 \n",
      ", 'Test':  best_epoch_indx:14\n",
      " auc:0.8435152086377442 \n",
      " apur:0.8009722795339371 \n",
      " f1:0.7374681393372983 \n",
      " precision:0.6872525732383215 \n",
      " recall:0.7956003666361137 \n",
      "}\n",
      "=====Epoch 15\n",
      "Training...\n"
     ]
    },
    {
     "name": "stderr",
     "output_type": "stream",
     "text": [
      "Iteration: 100%|██████████| 62/62 [00:09<00:00,  6.23it/s]\n",
      "Iteration:  94%|█████████▎| 58/62 [00:09<00:00,  6.25it/s]"
     ]
    },
    {
     "name": "stdout",
     "output_type": "stream",
     "text": [
      "Evaluating...\n"
     ]
    },
    {
     "name": "stderr",
     "output_type": "stream",
     "text": [
      "Iteration: 100%|██████████| 62/62 [00:09<00:00,  6.23it/s]\n",
      "Iteration:  19%|█▉        | 12/62 [00:00<00:03, 14.36it/s]"
     ]
    },
    {
     "name": "stdout",
     "output_type": "stream",
     "text": [
      "Evaluating...\n"
     ]
    },
    {
     "name": "stderr",
     "output_type": "stream",
     "text": [
      "Iteration: 100%|██████████| 7/7 [00:00<00:00, 14.81it/s]s]\n",
      "Iteration:  61%|██████▏   | 38/62 [00:02<00:01, 15.29it/s]"
     ]
    },
    {
     "name": "stdout",
     "output_type": "stream",
     "text": [
      "{'Train':  best_epoch_indx:15\n",
      " auc:0.8593723989378779 \n",
      " apur:0.8249068442117926 \n",
      " f1:0.7474303368783791 \n",
      " precision:0.7007575757575758 \n",
      " recall:0.800763844684914 \n",
      ", 'Validation':  best_epoch_indx:15\n",
      " auc:0.8390819227016248 \n",
      " apur:0.7980975976224208 \n",
      " f1:0.7353579175704991 \n",
      " precision:0.698249227600412 \n",
      " recall:0.7766323024054983 \n",
      ", 'Test':  best_epoch_indx:15\n",
      " auc:0.851217954059384 \n",
      " apur:0.8168503769997804 \n",
      " f1:0.744762719110731 \n",
      " precision:0.6979166666666666 \n",
      " recall:0.7983501374885427 \n",
      "}\n",
      "=====Epoch 16\n",
      "Training...\n"
     ]
    },
    {
     "name": "stderr",
     "output_type": "stream",
     "text": [
      "Iteration: 100%|██████████| 62/62 [00:04<00:00, 15.14it/s]\n",
      "Iteration: 100%|██████████| 62/62 [00:04<00:00, 14.43it/s]\n",
      "Iteration: 100%|██████████| 18/18 [00:01<00:00, 16.11it/s]\n",
      "Iteration: 100%|██████████| 7/7 [00:00<00:00, 15.64it/s]s]\n",
      "Iteration:  69%|██████▉   | 43/62 [00:06<00:03,  6.24it/s]"
     ]
    },
    {
     "name": "stdout",
     "output_type": "stream",
     "text": [
      "{'Train':  best_epoch_indx:15\n",
      " auc:0.8432072902270396 \n",
      " apur:0.799132475174005 \n",
      " f1:0.7262318281229898 \n",
      " precision:0.733974775711871 \n",
      " recall:0.7186505410566518 \n",
      ", 'Validation':  best_epoch_indx:15\n",
      " auc:0.8322847605493653 \n",
      " apur:0.7834913317866528 \n",
      " f1:0.7113702623906706 \n",
      " precision:0.7244655581947743 \n",
      " recall:0.6987399770904925 \n",
      ", 'Test':  best_epoch_indx:15\n",
      " auc:0.8335294992959635 \n",
      " apur:0.7937915815269658 \n",
      " f1:0.7091932457786116 \n",
      " precision:0.7262247838616714 \n",
      " recall:0.692942254812099 \n",
      "}\n",
      "=====Epoch 16\n",
      "Training...\n"
     ]
    },
    {
     "name": "stderr",
     "output_type": "stream",
     "text": [
      "Iteration: 100%|██████████| 18/18 [00:01<00:00, 16.05it/s]\n",
      "Iteration: 100%|██████████| 62/62 [00:09<00:00,  6.22it/s]\n",
      "Iteration: 100%|██████████| 62/62 [00:10<00:00,  6.18it/s]\n",
      "Iteration:   3%|▎         | 2/62 [00:00<00:04, 12.97it/s]]"
     ]
    },
    {
     "name": "stdout",
     "output_type": "stream",
     "text": [
      "Evaluating...\n",
      "Evaluating...\n"
     ]
    },
    {
     "name": "stderr",
     "output_type": "stream",
     "text": [
      "Iteration: 100%|██████████| 7/7 [00:00<00:00, 14.66it/s]s]\n"
     ]
    },
    {
     "name": "stdout",
     "output_type": "stream",
     "text": [
      "{'Train':  best_epoch_indx:16\n",
      " auc:0.8521192985953959 \n",
      " apur:0.8128434842331747 \n",
      " f1:0.7426337943475647 \n",
      " precision:0.7037037037037037 \n",
      " recall:0.7861234882240611 \n",
      ", 'Validation':  best_epoch_indx:16\n",
      " auc:0.8408049567843381 \n",
      " apur:0.7973440603515379 \n",
      " f1:0.723519826181423 \n",
      " precision:0.6880165289256198 \n",
      " recall:0.7628865979381443 \n",
      ", 'Test':  best_epoch_indx:16\n",
      " auc:0.842652155530249 \n",
      " apur:0.8021588881882441 \n",
      " f1:0.7347114556416883 \n",
      " precision:0.6929325751421609 \n",
      " recall:0.7818515123739689 \n",
      "}\n",
      "=====Epoch 17\n",
      "Training...\n"
     ]
    },
    {
     "name": "stderr",
     "output_type": "stream",
     "text": [
      "Iteration: 100%|██████████| 62/62 [00:09<00:00,  6.33it/s]\n",
      "Iteration:   6%|▋         | 4/62 [00:00<00:09,  6.35it/s]]"
     ]
    },
    {
     "name": "stdout",
     "output_type": "stream",
     "text": [
      "Evaluating...\n"
     ]
    },
    {
     "name": "stderr",
     "output_type": "stream",
     "text": [
      "Iteration: 100%|██████████| 62/62 [00:04<00:00, 15.00it/s]\n",
      "Iteration: 100%|██████████| 62/62 [00:04<00:00, 14.83it/s]\n",
      "Iteration: 100%|██████████| 18/18 [00:01<00:00, 15.96it/s]\n",
      "Iteration: 100%|██████████| 18/18 [00:01<00:00, 15.89it/s]\n",
      "Iteration: 100%|██████████| 7/7 [00:00<00:00, 15.48it/s]s]\n",
      "Iteration:  68%|██████▊   | 42/62 [00:03<00:01, 15.26it/s]"
     ]
    },
    {
     "name": "stdout",
     "output_type": "stream",
     "text": [
      "{'Train':  best_epoch_indx:15\n",
      " auc:0.8506265098407229 \n",
      " apur:0.8150071367324299 \n",
      " f1:0.7395008041937213 \n",
      " precision:0.6949171518137035 \n",
      " recall:0.7901973265436028 \n",
      ", 'Validation':  best_epoch_indx:15\n",
      " auc:0.8327832544613759 \n",
      " apur:0.7891465831298544 \n",
      " f1:0.7161290322580646 \n",
      " precision:0.6747720364741642 \n",
      " recall:0.7628865979381443 \n",
      ", 'Test':  best_epoch_indx:15\n",
      " auc:0.8418038181897326 \n",
      " apur:0.8015786984012945 \n",
      " f1:0.7301722304911759 \n",
      " precision:0.6810789369297897 \n",
      " recall:0.7868927589367553 \n",
      "}\n",
      "=====Epoch 16\n",
      "Training...\n"
     ]
    },
    {
     "name": "stderr",
     "output_type": "stream",
     "text": [
      "Iteration: 100%|██████████| 62/62 [00:09<00:00,  6.31it/s]\n",
      "Iteration:  87%|████████▋ | 54/62 [00:03<00:00, 15.20it/s]"
     ]
    },
    {
     "name": "stdout",
     "output_type": "stream",
     "text": [
      "Evaluating...\n"
     ]
    },
    {
     "name": "stderr",
     "output_type": "stream",
     "text": [
      "Iteration: 100%|██████████| 62/62 [00:04<00:00, 14.28it/s]\n",
      "Iteration: 100%|██████████| 18/18 [00:01<00:00, 15.94it/s]\n",
      "Iteration: 100%|██████████| 7/7 [00:00<00:00, 15.14it/s]s]\n",
      "Iteration:   0%|          | 0/62 [00:00<?, ?it/s]"
     ]
    },
    {
     "name": "stdout",
     "output_type": "stream",
     "text": [
      "{'Train':  best_epoch_indx:15\n",
      " auc:0.8395594674047085 \n",
      " apur:0.8011880095133725 \n",
      " f1:0.722981523664895 \n",
      " precision:0.7187067555667379 \n",
      " recall:0.7273074474856779 \n",
      ", 'Validation':  best_epoch_indx:15\n",
      " auc:0.8189358263814163 \n",
      " apur:0.7703351006244155 \n",
      " f1:0.6895368782161235 \n",
      " precision:0.6883561643835616 \n",
      " recall:0.6907216494845361 \n",
      ", 'Test':  best_epoch_indx:15\n",
      " auc:0.8371632904510681 \n",
      " apur:0.7955370649160303 \n",
      " f1:0.716506630086877 \n",
      " precision:0.7148722627737226 \n",
      " recall:0.7181484876260311 \n",
      "}\n",
      "=====Epoch 16\n",
      "Training...\n"
     ]
    },
    {
     "name": "stderr",
     "output_type": "stream",
     "text": [
      "Iteration: 100%|██████████| 62/62 [00:04<00:00, 14.37it/s]\n",
      "Iteration: 100%|██████████| 18/18 [00:01<00:00, 16.11it/s]\n",
      "Iteration: 100%|██████████| 62/62 [00:09<00:00,  6.20it/s]\n",
      "Iteration:  19%|█▉        | 12/62 [00:01<00:07,  6.29it/s]"
     ]
    },
    {
     "name": "stdout",
     "output_type": "stream",
     "text": [
      "Evaluating...\n"
     ]
    },
    {
     "name": "stderr",
     "output_type": "stream",
     "text": [
      "Iteration: 100%|██████████| 7/7 [00:00<00:00, 15.27it/s]s]\n",
      "Iteration:  35%|███▌      | 22/62 [00:03<00:06,  6.14it/s]"
     ]
    },
    {
     "name": "stdout",
     "output_type": "stream",
     "text": [
      "{'Train':  best_epoch_indx:16\n",
      " auc:0.8668800486695812 \n",
      " apur:0.8318226376874012 \n",
      " f1:0.7549782488818088 \n",
      " precision:0.7277344672808883 \n",
      " recall:0.7843411839592617 \n",
      ", 'Validation':  best_epoch_indx:16\n",
      " auc:0.8472776640016044 \n",
      " apur:0.806591751014112 \n",
      " f1:0.7295946696279845 \n",
      " precision:0.7079741379310345 \n",
      " recall:0.7525773195876289 \n",
      ", 'Test':  best_epoch_indx:16\n",
      " auc:0.8589333604915639 \n",
      " apur:0.8236124891933592 \n",
      " f1:0.7487359859309739 \n",
      " precision:0.719476130122518 \n",
      " recall:0.7804766269477543 \n",
      "}\n",
      "=====Epoch 17\n",
      "Training...\n"
     ]
    },
    {
     "name": "stderr",
     "output_type": "stream",
     "text": [
      "Iteration: 100%|██████████| 62/62 [00:10<00:00,  6.15it/s]\n",
      "Iteration:  56%|█████▋    | 35/62 [00:05<00:04,  6.32it/s]"
     ]
    },
    {
     "name": "stdout",
     "output_type": "stream",
     "text": [
      "Evaluating...\n"
     ]
    },
    {
     "name": "stderr",
     "output_type": "stream",
     "text": [
      "Iteration: 100%|██████████| 62/62 [00:04<00:00, 15.03it/s]\n",
      "Iteration: 100%|██████████| 7/7 [00:00<00:00, 14.67it/s]s]\n"
     ]
    },
    {
     "name": "stdout",
     "output_type": "stream",
     "text": [
      "{'Train':  best_epoch_indx:16\n",
      " auc:0.8492561922449638 \n",
      " apur:0.8074707101185734 \n",
      " f1:0.7376987604857894 \n",
      " precision:0.725705136100505 \n",
      " recall:0.7500954805856143 \n",
      ", 'Validation':  best_epoch_indx:16\n",
      " auc:0.8386306748276966 \n",
      " apur:0.7946950555524973 \n",
      " f1:0.7265625 \n",
      " precision:0.7083786724700761 \n",
      " recall:0.7457044673539519 \n",
      ", 'Test':  best_epoch_indx:16\n",
      " auc:0.8428214371604656 \n",
      " apur:0.8071160287562879 \n",
      " f1:0.7243662936743548 \n",
      " precision:0.7218934911242604 \n",
      " recall:0.7268560953253895 \n",
      "}\n",
      "=====Epoch 17\n",
      "Training...\n"
     ]
    },
    {
     "name": "stderr",
     "output_type": "stream",
     "text": [
      "Iteration: 100%|██████████| 18/18 [00:01<00:00, 15.85it/s]\n",
      "Iteration: 100%|██████████| 62/62 [00:04<00:00, 14.23it/s]\n",
      "Iteration: 100%|██████████| 62/62 [00:09<00:00,  6.22it/s]\n",
      "Iteration:   0%|          | 0/18 [00:00<?, ?it/s]"
     ]
    },
    {
     "name": "stdout",
     "output_type": "stream",
     "text": [
      "Evaluating...\n"
     ]
    },
    {
     "name": "stderr",
     "output_type": "stream",
     "text": [
      "Iteration: 100%|██████████| 18/18 [00:01<00:00, 15.79it/s]\n",
      "Iteration: 100%|██████████| 7/7 [00:00<00:00, 15.53it/s]s]\n"
     ]
    },
    {
     "name": "stdout",
     "output_type": "stream",
     "text": [
      "{'Train':  best_epoch_indx:17\n",
      " auc:0.85654306267608 \n",
      " apur:0.8184209110627345 \n",
      " f1:0.7439570842537077 \n",
      " precision:0.7376720901126408 \n",
      " recall:0.7503500954805856 \n",
      ", 'Validation':  best_epoch_indx:17\n",
      " auc:0.845517990134256 \n",
      " apur:0.8052795398817788 \n",
      " f1:0.7269624573378839 \n",
      " precision:0.7220338983050848 \n",
      " recall:0.7319587628865979 \n",
      ", 'Test':  best_epoch_indx:17\n",
      " auc:0.8459470970011759 \n",
      " apur:0.8023540080825372 \n",
      " f1:0.7396021699819167 \n",
      " precision:0.7297056199821588 \n",
      " recall:0.7497708524289642 \n",
      "}\n",
      "=====Epoch 18\n",
      "Training...\n"
     ]
    },
    {
     "name": "stderr",
     "output_type": "stream",
     "text": [
      "Iteration: 100%|██████████| 62/62 [00:09<00:00,  6.21it/s]\n",
      "Iteration:  66%|██████▌   | 41/62 [00:06<00:03,  6.25it/s]"
     ]
    },
    {
     "name": "stdout",
     "output_type": "stream",
     "text": [
      "Evaluating...\n"
     ]
    },
    {
     "name": "stderr",
     "output_type": "stream",
     "text": [
      "Iteration: 100%|██████████| 62/62 [00:04<00:00, 14.13it/s]\n",
      "Iteration: 100%|██████████| 18/18 [00:01<00:00, 15.84it/s]\n",
      "Iteration: 100%|██████████| 7/7 [00:00<00:00, 14.99it/s]s]\n",
      "Iteration:  40%|████      | 25/62 [00:03<00:05,  6.27it/s]"
     ]
    },
    {
     "name": "stdout",
     "output_type": "stream",
     "text": [
      "{'Train':  best_epoch_indx:16\n",
      " auc:0.850449220226998 \n",
      " apur:0.8158820259125474 \n",
      " f1:0.736015368968245 \n",
      " precision:0.6616885096007314 \n",
      " recall:0.8291534054742202 \n",
      ", 'Validation':  best_epoch_indx:16\n",
      " auc:0.8296953884010011 \n",
      " apur:0.7865253822501641 \n",
      " f1:0.7177419354838709 \n",
      " precision:0.6408640864086409 \n",
      " recall:0.8155784650630011 \n",
      ", 'Test':  best_epoch_indx:16\n",
      " auc:0.8441002334233458 \n",
      " apur:0.8062539811840428 \n",
      " f1:0.7326732673267328 \n",
      " precision:0.6552222623780267 \n",
      " recall:0.8308890925756187 \n",
      "}\n",
      "=====Epoch 17\n",
      "Training...\n"
     ]
    },
    {
     "name": "stderr",
     "output_type": "stream",
     "text": [
      "Iteration: 100%|██████████| 62/62 [00:09<00:00,  6.24it/s]\n",
      "Iteration:   3%|▎         | 2/62 [00:00<00:04, 13.05it/s]]"
     ]
    },
    {
     "name": "stdout",
     "output_type": "stream",
     "text": [
      "Evaluating...\n"
     ]
    },
    {
     "name": "stderr",
     "output_type": "stream",
     "text": [
      "Iteration: 100%|██████████| 62/62 [00:04<00:00, 14.92it/s]\n",
      "Iteration: 100%|██████████| 18/18 [00:01<00:00, 15.81it/s]\n",
      "Iteration: 100%|██████████| 7/7 [00:00<00:00, 14.52it/s]s]\n",
      "Iteration: 100%|██████████| 62/62 [00:04<00:00, 15.05it/s]\n",
      "Iteration:  45%|████▌     | 28/62 [00:04<00:05,  6.15it/s]"
     ]
    },
    {
     "name": "stdout",
     "output_type": "stream",
     "text": [
      "{'Train':  best_epoch_indx:16\n",
      " auc:0.8490207806483153 \n",
      " apur:0.8122743381591582 \n",
      " f1:0.7365904493348863 \n",
      " precision:0.7103334121541736 \n",
      " recall:0.7648631444939529 \n",
      ", 'Validation':  best_epoch_indx:16\n",
      " auc:0.8308832887870689 \n",
      " apur:0.7850477412985564 \n",
      " f1:0.7229840921557873 \n",
      " precision:0.6936842105263158 \n",
      " recall:0.7548682703321878 \n",
      ", 'Test':  best_epoch_indx:16\n",
      " auc:0.8437644230220065 \n",
      " apur:0.8049243125998823 \n",
      " f1:0.735001106929378 \n",
      " precision:0.7109207708779444 \n",
      " recall:0.7607699358386801 \n",
      "}\n",
      "=====Epoch 17\n",
      "Training...\n"
     ]
    },
    {
     "name": "stderr",
     "output_type": "stream",
     "text": [
      "Iteration: 100%|██████████| 18/18 [00:01<00:00, 16.19it/s]\n",
      "Iteration: 100%|██████████| 62/62 [00:09<00:00,  6.30it/s]\n",
      "Iteration:  60%|█████▉    | 37/62 [00:06<00:04,  6.19it/s]"
     ]
    },
    {
     "name": "stdout",
     "output_type": "stream",
     "text": [
      "Evaluating...\n"
     ]
    },
    {
     "name": "stderr",
     "output_type": "stream",
     "text": [
      "Iteration: 100%|██████████| 7/7 [00:00<00:00, 15.12it/s]s]\n",
      "Iteration:  34%|███▍      | 21/62 [00:03<00:06,  6.30it/s]"
     ]
    },
    {
     "name": "stdout",
     "output_type": "stream",
     "text": [
      "{'Train':  best_epoch_indx:17\n",
      " auc:0.870501682932042 \n",
      " apur:0.8358973907270193 \n",
      " f1:0.7568155638039166 \n",
      " precision:0.7609059323124437 \n",
      " recall:0.7527689369828134 \n",
      ", 'Validation':  best_epoch_indx:17\n",
      " auc:0.8511807652701123 \n",
      " apur:0.8110924112819099 \n",
      " f1:0.7447552447552448 \n",
      " precision:0.7580071174377224 \n",
      " recall:0.7319587628865979 \n",
      ", 'Test':  best_epoch_indx:17\n",
      " auc:0.8614360840300346 \n",
      " apur:0.826813149718286 \n",
      " f1:0.7488457987072947 \n",
      " precision:0.7544186046511628 \n",
      " recall:0.7433547204399633 \n",
      "}\n",
      "=====Epoch 18\n",
      "Training...\n"
     ]
    },
    {
     "name": "stderr",
     "output_type": "stream",
     "text": [
      "Iteration: 100%|██████████| 62/62 [00:10<00:00,  6.15it/s]\n",
      "Iteration:  97%|█████████▋| 60/62 [00:04<00:00, 14.03it/s]"
     ]
    },
    {
     "name": "stdout",
     "output_type": "stream",
     "text": [
      "Evaluating...\n"
     ]
    },
    {
     "name": "stderr",
     "output_type": "stream",
     "text": [
      "Iteration: 100%|██████████| 62/62 [00:04<00:00, 14.51it/s]\n",
      "Iteration: 100%|██████████| 7/7 [00:00<00:00, 15.31it/s]s]\n",
      "Iteration:  68%|██████▊   | 42/62 [00:06<00:03,  6.46it/s]"
     ]
    },
    {
     "name": "stdout",
     "output_type": "stream",
     "text": [
      "{'Train':  best_epoch_indx:17\n",
      " auc:0.8509128682344099 \n",
      " apur:0.8110314834755845 \n",
      " f1:0.7395872895303202 \n",
      " precision:0.7354903688782576 \n",
      " recall:0.7437301082113303 \n",
      ", 'Validation':  best_epoch_indx:17\n",
      " auc:0.8396734623825116 \n",
      " apur:0.8012163248235562 \n",
      " f1:0.7235955056179776 \n",
      " precision:0.7100330760749725 \n",
      " recall:0.7376861397479955 \n",
      ", 'Test':  best_epoch_indx:17\n",
      " auc:0.8434513807356742 \n",
      " apur:0.8069627479010546 \n",
      " f1:0.7255535055350553 \n",
      " precision:0.7302692664809657 \n",
      " recall:0.7208982584784601 \n",
      "}\n",
      "=====Epoch 18\n",
      "Training...\n"
     ]
    },
    {
     "name": "stderr",
     "output_type": "stream",
     "text": [
      "Iteration: 100%|██████████| 18/18 [00:01<00:00, 15.98it/s]\n",
      "Iteration: 100%|██████████| 62/62 [00:04<00:00, 14.82it/s]\n",
      "Iteration: 100%|██████████| 62/62 [00:09<00:00,  6.29it/s]\n",
      "Iteration:  11%|█         | 2/18 [00:00<00:01, 15.24it/s]]"
     ]
    },
    {
     "name": "stdout",
     "output_type": "stream",
     "text": [
      "Evaluating...\n"
     ]
    },
    {
     "name": "stderr",
     "output_type": "stream",
     "text": [
      "Iteration: 100%|██████████| 18/18 [00:01<00:00, 15.83it/s]\n",
      "Iteration: 100%|██████████| 7/7 [00:00<00:00, 15.41it/s]s]\n",
      "Iteration:  45%|████▌     | 28/62 [00:01<00:02, 15.19it/s]"
     ]
    },
    {
     "name": "stdout",
     "output_type": "stream",
     "text": [
      "{'Train':  best_epoch_indx:17\n",
      " auc:0.8559470977415136 \n",
      " apur:0.8200530022406007 \n",
      " f1:0.7463990554899647 \n",
      " precision:0.6958723170060539 \n",
      " recall:0.8048376830044558 \n",
      ", 'Validation':  best_epoch_indx:17\n",
      " auc:0.8333222449774569 \n",
      " apur:0.7910988811285671 \n",
      " f1:0.7201689545934531 \n",
      " precision:0.6679725759059746 \n",
      " recall:0.7812142038946163 \n",
      ", 'Test':  best_epoch_indx:17\n",
      " auc:0.8450282463550177 \n",
      " apur:0.8043487461344362 \n",
      " f1:0.7295064604956577 \n",
      " precision:0.6782197715636077 \n",
      " recall:0.7891842346471127 \n",
      "}\n",
      "=====Epoch 18\n",
      "Training...\n"
     ]
    },
    {
     "name": "stderr",
     "output_type": "stream",
     "text": [
      "Iteration: 100%|██████████| 7/7 [00:00<00:00, 15.40it/s]s]\n",
      "Iteration:  58%|█████▊    | 36/62 [00:05<00:04,  6.19it/s]"
     ]
    },
    {
     "name": "stdout",
     "output_type": "stream",
     "text": [
      "{'Train':  best_epoch_indx:18\n",
      " auc:0.8584365421086741 \n",
      " apur:0.8223567968730785 \n",
      " f1:0.7403484142683939 \n",
      " precision:0.742195496417605 \n",
      " recall:0.7385105028644176 \n",
      ", 'Validation':  best_epoch_indx:18\n",
      " auc:0.8458978868486314 \n",
      " apur:0.8072553918761425 \n",
      " f1:0.7211040828062104 \n",
      " precision:0.7240184757505773 \n",
      " recall:0.718213058419244 \n",
      ", 'Test':  best_epoch_indx:18\n",
      " auc:0.8481495369213059 \n",
      " apur:0.8085784743348656 \n",
      " f1:0.7371546015071934 \n",
      " precision:0.7346381429221666 \n",
      " recall:0.7396883593033914 \n",
      "}\n",
      "=====Epoch 19\n",
      "Training...\n"
     ]
    },
    {
     "name": "stderr",
     "output_type": "stream",
     "text": [
      "Iteration: 100%|██████████| 62/62 [00:10<00:00,  6.19it/s]\n",
      "Iteration:  18%|█▊        | 11/62 [00:01<00:08,  6.16it/s]"
     ]
    },
    {
     "name": "stdout",
     "output_type": "stream",
     "text": [
      "Evaluating...\n"
     ]
    },
    {
     "name": "stderr",
     "output_type": "stream",
     "text": [
      "Iteration: 100%|██████████| 62/62 [00:04<00:00, 15.01it/s]\n",
      "Iteration: 100%|██████████| 18/18 [00:01<00:00, 15.95it/s]\n",
      "Iteration: 100%|██████████| 62/62 [00:09<00:00,  6.25it/s]\n",
      "Iteration:  81%|████████  | 50/62 [00:03<00:00, 15.26it/s]"
     ]
    },
    {
     "name": "stdout",
     "output_type": "stream",
     "text": [
      "Evaluating...\n"
     ]
    },
    {
     "name": "stderr",
     "output_type": "stream",
     "text": [
      "Iteration: 100%|██████████| 62/62 [00:04<00:00, 14.42it/s]\n",
      "Iteration: 100%|██████████| 18/18 [00:01<00:00, 15.90it/s]\n",
      "Iteration: 100%|██████████| 7/7 [00:00<00:00, 15.25it/s]s]\n",
      "Iteration:   0%|          | 0/62 [00:00<?, ?it/s]6.15it/s]"
     ]
    },
    {
     "name": "stdout",
     "output_type": "stream",
     "text": [
      "{'Train':  best_epoch_indx:17\n",
      " auc:0.8558748159311754 \n",
      " apur:0.8193923564558572 \n",
      " f1:0.743381356975742 \n",
      " precision:0.7198044592822225 \n",
      " recall:0.7685550604710376 \n",
      ", 'Validation':  best_epoch_indx:17\n",
      " auc:0.8372827164350647 \n",
      " apur:0.7942349247640816 \n",
      " f1:0.7203107658157601 \n",
      " precision:0.6986006458557589 \n",
      " recall:0.7434135166093929 \n",
      ", 'Test':  best_epoch_indx:17\n",
      " auc:0.8494082914219931 \n",
      " apur:0.8108970549380542 \n",
      " f1:0.7348384240814521 \n",
      " precision:0.7106164383561644 \n",
      " recall:0.7607699358386801 \n",
      "}\n",
      "=====Epoch 18\n",
      "Training...\n"
     ]
    },
    {
     "name": "stderr",
     "output_type": "stream",
     "text": [
      "Iteration: 100%|██████████| 62/62 [00:04<00:00, 14.31it/s]\n",
      "Iteration: 100%|██████████| 62/62 [00:10<00:00,  6.14it/s]\n",
      "Iteration:   3%|▎         | 2/62 [00:00<00:04, 12.84it/s]]"
     ]
    },
    {
     "name": "stdout",
     "output_type": "stream",
     "text": [
      "Evaluating...\n"
     ]
    },
    {
     "name": "stderr",
     "output_type": "stream",
     "text": [
      "Iteration: 100%|██████████| 18/18 [00:01<00:00, 16.03it/s]\n",
      "Iteration: 100%|██████████| 62/62 [00:09<00:00,  6.24it/s]\n",
      "Iteration:  13%|█▎        | 8/62 [00:00<00:03, 13.84it/s]]"
     ]
    },
    {
     "name": "stdout",
     "output_type": "stream",
     "text": [
      "Evaluating...\n"
     ]
    },
    {
     "name": "stderr",
     "output_type": "stream",
     "text": [
      "Iteration: 100%|██████████| 7/7 [00:00<00:00, 14.31it/s]s]\n",
      "Iteration:   0%|          | 0/62 [00:00<?, ?it/s]4.98it/s]"
     ]
    },
    {
     "name": "stdout",
     "output_type": "stream",
     "text": [
      "{'Train':  best_epoch_indx:18\n",
      " auc:0.8722737325694411 \n",
      " apur:0.8387146595715311 \n",
      " f1:0.7577916847388313 \n",
      " precision:0.7381699661999034 \n",
      " recall:0.7784850413749205 \n",
      ", 'Validation':  best_epoch_indx:18\n",
      " auc:0.8529867209706843 \n",
      " apur:0.813729358745764 \n",
      " f1:0.7448979591836734 \n",
      " precision:0.7373737373737373 \n",
      " recall:0.7525773195876289 \n",
      ", 'Test':  best_epoch_indx:18\n",
      " auc:0.8625653109154483 \n",
      " apur:0.8283979194483186 \n",
      " f1:0.7569258266309203 \n",
      " precision:0.7384481255448997 \n",
      " recall:0.7763519706691109 \n",
      "}\n",
      "=====Epoch 19\n",
      "Training...\n"
     ]
    },
    {
     "name": "stderr",
     "output_type": "stream",
     "text": [
      "Iteration: 100%|██████████| 62/62 [00:04<00:00, 14.14it/s]\n",
      "Iteration: 100%|██████████| 62/62 [00:04<00:00, 14.93it/s]\n",
      "Iteration: 100%|██████████| 18/18 [00:01<00:00, 15.84it/s]\n",
      "Iteration: 100%|██████████| 7/7 [00:00<00:00, 15.51it/s]s]\n",
      "Iteration:  32%|███▏      | 20/62 [00:03<00:06,  6.21it/s]"
     ]
    },
    {
     "name": "stdout",
     "output_type": "stream",
     "text": [
      "{'Train':  best_epoch_indx:18\n",
      " auc:0.8518221280350886 \n",
      " apur:0.8120003345150041 \n",
      " f1:0.7445014662756598 \n",
      " precision:0.7157288852343475 \n",
      " recall:0.7756842775302355 \n",
      ", 'Validation':  best_epoch_indx:18\n",
      " auc:0.8397264936497467 \n",
      " apur:0.7993006855799594 \n",
      " f1:0.7288693743139407 \n",
      " precision:0.6996838777660696 \n",
      " recall:0.7605956471935853 \n",
      ", 'Test':  best_epoch_indx:18\n",
      " auc:0.8445924877878006 \n",
      " apur:0.8084634780991574 \n",
      " f1:0.7290596381505473 \n",
      " precision:0.7111111111111111 \n",
      " recall:0.7479376718606783 \n",
      "}\n",
      "=====Epoch 19\n",
      "Training...\n"
     ]
    },
    {
     "name": "stderr",
     "output_type": "stream",
     "text": [
      "Iteration: 100%|██████████| 18/18 [00:01<00:00, 15.98it/s]\n",
      "Iteration: 100%|██████████| 7/7 [00:00<00:00, 15.53it/s]s]\n",
      "Iteration:  79%|███████▉  | 49/62 [00:07<00:02,  6.19it/s]"
     ]
    },
    {
     "name": "stdout",
     "output_type": "stream",
     "text": [
      "{'Train':  best_epoch_indx:19\n",
      " auc:0.8586626024517372 \n",
      " apur:0.8226398891600515 \n",
      " f1:0.74413011834694 \n",
      " precision:0.7398691165366222 \n",
      " recall:0.7484404837683004 \n",
      ", 'Validation':  best_epoch_indx:19\n",
      " auc:0.8469874383390993 \n",
      " apur:0.808292469233503 \n",
      " f1:0.7329902801600915 \n",
      " precision:0.7317351598173516 \n",
      " recall:0.7342497136311569 \n",
      ", 'Test':  best_epoch_indx:19\n",
      " auc:0.8473975934104258 \n",
      " apur:0.8079102440291018 \n",
      " f1:0.7397820163487738 \n",
      " precision:0.7331233123312331 \n",
      " recall:0.7465627864344638 \n",
      "}\n",
      "Finished training!\n"
     ]
    },
    {
     "name": "stderr",
     "output_type": "stream",
     "text": [
      "Iteration: 100%|██████████| 62/62 [00:09<00:00,  6.21it/s]\n",
      "Iteration:   3%|▎         | 2/62 [00:00<00:04, 12.97it/s]]"
     ]
    },
    {
     "name": "stdout",
     "output_type": "stream",
     "text": [
      "Evaluating...\n"
     ]
    },
    {
     "name": "stderr",
     "output_type": "stream",
     "text": [
      "Iteration: 100%|██████████| 7/7 [00:00<00:00, 14.62it/s]s]\n",
      "Iteration:  52%|█████▏    | 32/62 [00:02<00:01, 15.40it/s]"
     ]
    },
    {
     "name": "stdout",
     "output_type": "stream",
     "text": [
      "{'Train':  best_epoch_indx:18\n",
      " auc:0.8562174980454318 \n",
      " apur:0.8220664073378057 \n",
      " f1:0.7457065024280469 \n",
      " precision:0.6971542464843318 \n",
      " recall:0.8015276893698281 \n",
      ", 'Validation':  best_epoch_indx:18\n",
      " auc:0.8365812574002723 \n",
      " apur:0.794732260679973 \n",
      " f1:0.7295730100158144 \n",
      " precision:0.67578125 \n",
      " recall:0.7926689576174112 \n",
      ", 'Test':  best_epoch_indx:18\n",
      " auc:0.8477876647138056 \n",
      " apur:0.8079146612143077 \n",
      " f1:0.7365739758013161 \n",
      " precision:0.686041913799921 \n",
      " recall:0.7951420714940421 \n",
      "}\n",
      "=====Epoch 19\n",
      "Training...\n"
     ]
    },
    {
     "name": "stderr",
     "output_type": "stream",
     "text": [
      "Iteration: 100%|██████████| 62/62 [00:09<00:00,  6.22it/s]\n",
      "Iteration:  69%|██████▉   | 43/62 [00:06<00:03,  6.23it/s]"
     ]
    },
    {
     "name": "stdout",
     "output_type": "stream",
     "text": [
      "Evaluating...\n"
     ]
    },
    {
     "name": "stderr",
     "output_type": "stream",
     "text": [
      "Iteration: 100%|██████████| 62/62 [00:04<00:00, 14.61it/s]\n",
      "Iteration: 100%|██████████| 18/18 [00:01<00:00, 16.06it/s]\n",
      "Iteration: 100%|██████████| 7/7 [00:00<00:00, 15.78it/s]s]\n",
      "Iteration:  40%|████      | 25/62 [00:04<00:06,  6.16it/s]"
     ]
    },
    {
     "name": "stdout",
     "output_type": "stream",
     "text": [
      "{'Train':  best_epoch_indx:18\n",
      " auc:0.8511042581304383 \n",
      " apur:0.8144312244651357 \n",
      " f1:0.7395380185037682 \n",
      " precision:0.7128514056224899 \n",
      " recall:0.7683004455760662 \n",
      ", 'Validation':  best_epoch_indx:18\n",
      " auc:0.8311961732637564 \n",
      " apur:0.7852602645226221 \n",
      " f1:0.7186813186813187 \n",
      " precision:0.6906019007391764 \n",
      " recall:0.7491408934707904 \n",
      ", 'Test':  best_epoch_indx:18\n",
      " auc:0.8467278282552462 \n",
      " apur:0.807045943781314 \n",
      " f1:0.733142982648803 \n",
      " precision:0.7039223956136651 \n",
      " recall:0.7648945921173236 \n",
      "}\n",
      "=====Epoch 19\n",
      "Training...\n"
     ]
    },
    {
     "name": "stderr",
     "output_type": "stream",
     "text": [
      "Iteration: 100%|██████████| 62/62 [00:09<00:00,  6.23it/s]\n",
      "Iteration:   3%|▎         | 2/62 [00:00<00:04, 13.41it/s]]"
     ]
    },
    {
     "name": "stdout",
     "output_type": "stream",
     "text": [
      "Evaluating...\n"
     ]
    },
    {
     "name": "stderr",
     "output_type": "stream",
     "text": [
      "Iteration: 100%|██████████| 62/62 [00:04<00:00, 15.28it/s]\n",
      "Iteration: 100%|██████████| 18/18 [00:01<00:00, 16.18it/s]\n",
      "Iteration: 100%|██████████| 62/62 [00:04<00:00, 15.34it/s]\n",
      "Iteration: 100%|██████████| 62/62 [00:10<00:00,  6.13it/s]\n",
      "Iteration:  61%|██████▏   | 38/62 [00:06<00:03,  6.20it/s]"
     ]
    },
    {
     "name": "stdout",
     "output_type": "stream",
     "text": [
      "Evaluating...\n"
     ]
    },
    {
     "name": "stderr",
     "output_type": "stream",
     "text": [
      "Iteration: 100%|██████████| 18/18 [00:01<00:00, 16.43it/s]\n",
      "Iteration: 100%|██████████| 7/7 [00:00<00:00, 15.44it/s]s]\n",
      "Iteration:  85%|████████▌ | 53/62 [00:08<00:01,  6.09it/s]"
     ]
    },
    {
     "name": "stdout",
     "output_type": "stream",
     "text": [
      "{'Train':  best_epoch_indx:19\n",
      " auc:0.8747610990411805 \n",
      " apur:0.8398612366453159 \n",
      " f1:0.7563167491534254 \n",
      " precision:0.7741634448740168 \n",
      " recall:0.7392743475493316 \n",
      ", 'Validation':  best_epoch_indx:19\n",
      " auc:0.856211986223441 \n",
      " apur:0.8165797478971841 \n",
      " f1:0.7462863933452168 \n",
      " precision:0.7753086419753087 \n",
      " recall:0.7193585337915235 \n",
      ", 'Test':  best_epoch_indx:19\n",
      " auc:0.8656702990800149 \n",
      " apur:0.8311827386414293 \n",
      " f1:0.7548583469913369 \n",
      " precision:0.771661081857348 \n",
      " recall:0.7387717690192483 \n",
      "}\n",
      "Finished training!\n"
     ]
    },
    {
     "name": "stderr",
     "output_type": "stream",
     "text": [
      "Iteration: 100%|██████████| 62/62 [00:10<00:00,  6.14it/s]\n",
      "Iteration:  97%|█████████▋| 60/62 [00:04<00:00, 14.92it/s]"
     ]
    },
    {
     "name": "stdout",
     "output_type": "stream",
     "text": [
      "Evaluating...\n"
     ]
    },
    {
     "name": "stderr",
     "output_type": "stream",
     "text": [
      "\r",
      "Iteration:   3%|▎         | 2/62 [00:00<00:04, 12.74it/s]\r",
      "Iteration: 100%|██████████| 62/62 [00:04<00:00, 15.30it/s]\r",
      "Iteration: 100%|██████████| 62/62 [00:04<00:00, 14.82it/s]\n",
      "\r",
      "Iteration:   6%|▋         | 4/62 [00:00<00:04, 13.51it/s]"
     ]
    },
    {
     "name": "stdout",
     "output_type": "stream",
     "text": [
      "<<< joined hyperparam search process\n",
      "released_gpu_num: 1\n",
      "<<< joined hyperparam search process\n",
      "released_gpu_num: 0\n"
     ]
    },
    {
     "name": "stderr",
     "output_type": "stream",
     "text": [
      "Iteration: 100%|██████████| 7/7 [00:00<00:00, 15.03it/s]s]\n",
      "Iteration: 100%|██████████| 18/18 [00:01<00:00, 16.31it/s]\n",
      "Iteration:  35%|███▌      | 22/62 [00:01<00:02, 15.29it/s]"
     ]
    },
    {
     "name": "stdout",
     "output_type": "stream",
     "text": [
      "{'Train':  best_epoch_indx:19\n",
      " auc:0.8538867475805333 \n",
      " apur:0.813525781625641 \n",
      " f1:0.7431852599697123 \n",
      " precision:0.7367696734642812 \n",
      " recall:0.7497135582431572 \n",
      ", 'Validation':  best_epoch_indx:19\n",
      " auc:0.8429334390101858 \n",
      " apur:0.8020014204700263 \n",
      " f1:0.7280949689089881 \n",
      " precision:0.71875 \n",
      " recall:0.7376861397479955 \n",
      ", 'Test':  best_epoch_indx:19\n",
      " auc:0.8472183074785307 \n",
      " apur:0.8104055130350197 \n",
      " f1:0.7258027258027259 \n",
      " precision:0.7317186772240335 \n",
      " recall:0.7199816681943172 \n",
      "}\n",
      "Finished training!\n"
     ]
    },
    {
     "name": "stderr",
     "output_type": "stream",
     "text": [
      "Iteration: 100%|██████████| 62/62 [00:04<00:00, 15.25it/s]\n",
      "Iteration: 100%|██████████| 18/18 [00:01<00:00, 16.63it/s]\n",
      "Iteration: 100%|██████████| 7/7 [00:00<00:00, 16.23it/s]\n",
      "Iteration:   0%|          | 0/7 [00:00<?, ?it/s]"
     ]
    },
    {
     "name": "stdout",
     "output_type": "stream",
     "text": [
      "{'Train':  best_epoch_indx:19\n",
      " auc:0.8536849313355552 \n",
      " apur:0.8171114793083776 \n",
      " f1:0.7402985074626866 \n",
      " precision:0.7236474164133738 \n",
      " recall:0.757733927434755 \n",
      ", 'Validation':  best_epoch_indx:19\n",
      " auc:0.8347989247187413 \n",
      " apur:0.7893223282258983 \n",
      " f1:0.7220982142857142 \n",
      " precision:0.7040261153427638 \n",
      " recall:0.7411225658648339 \n",
      ", 'Test':  best_epoch_indx:19\n",
      " auc:0.8485244254794194 \n",
      " apur:0.8090574062305417 \n",
      " f1:0.7355650415636936 \n",
      " precision:0.7214631996474218 \n",
      " recall:0.7502291475710358 \n",
      "}\n",
      "Finished training!\n"
     ]
    },
    {
     "name": "stderr",
     "output_type": "stream",
     "text": [
      "Iteration: 100%|██████████| 7/7 [00:00<00:00, 15.66it/s]\n"
     ]
    },
    {
     "name": "stdout",
     "output_type": "stream",
     "text": [
      "{'Train':  best_epoch_indx:19\n",
      " auc:0.8579939311622787 \n",
      " apur:0.823763206085669 \n",
      " f1:0.7463971775399151 \n",
      " precision:0.703766350924673 \n",
      " recall:0.7945257797581159 \n",
      ", 'Validation':  best_epoch_indx:19\n",
      " auc:0.8358638889853094 \n",
      " apur:0.7949261263322005 \n",
      " f1:0.7242666666666667 \n",
      " precision:0.6776447105788423 \n",
      " recall:0.7777777777777778 \n",
      ", 'Test':  best_epoch_indx:19\n",
      " auc:0.8479498200006854 \n",
      " apur:0.8078911661840362 \n",
      " f1:0.73840206185567 \n",
      " precision:0.6948261924009701 \n",
      " recall:0.7878093492208983 \n",
      "}\n",
      "Finished training!\n",
      "<<< joined hyperparam search process\n",
      "released_gpu_num: 4\n",
      "<<< joined hyperparam search process\n",
      "released_gpu_num: 2\n",
      "<<< joined hyperparam search process\n",
      "released_gpu_num: 3\n"
     ]
    }
   ],
   "source": [
    "import torch.multiprocessing as mp\n",
    "mp.set_start_method(\"spawn\", force=True)\n",
    "\n",
    "queue = mp.Queue()\n",
    "q_processes = []\n",
    "\n",
    "# partition = fold_partitions[0]\n",
    "time_stamp = datetime.datetime.now().strftime('%Y-%m-%d_%H-%M-%S')\n",
    "\n",
    "print(\"Start: \" + time_stamp)\n",
    "\n",
    "for q_i in range(min(n_gpu, len(fold_partitions))):\n",
    "#     device_gpu = get_device(True, index=q_i)\n",
    "    partition = fold_partitions[q_i]\n",
    "    exp_dir = create_directory(os.path.join(targetdata_dir_exp, \"fold_\"+str(q_i)+\"_\"+time_stamp))\n",
    "    create_directory(os.path.join(exp_dir, \"predictions\"))\n",
    "\n",
    "#     tphp = generate_tp_hp(tp, hyperparam_space[q_i], hp_names)\n",
    "    \n",
    "    q_process = create_q_process(queue, dataset, q_i, tp, exp_dir, partition)\n",
    "    q_processes.append(q_process)\n",
    "    spawn_q_process(q_process)\n",
    "\n",
    "spawned_processes = n_gpu\n",
    "    \n",
    "# for q_i in range(len(hyperparam_space)):\n",
    "for q_i in range(min(n_gpu, len(fold_partitions))):\n",
    "    join_q_process(q_processes[q_i])\n",
    "    released_gpu_num = queue.get()\n",
    "    print(\"released_gpu_num:\", released_gpu_num)\n",
    "#     if(spawned_processes < len(hyperparam_space)):\n",
    "# #         device_gpu = get_device(True, index=q_i)\n",
    "#         time_stamp = datetime.datetime.now().strftime('%Y-%m-%d_%H-%M-%S')\n",
    "#         exp_dir = create_directory(os.path.join(targetdata_dir_exp, \"exp_\"+str(q_i)+\"_\"+time_stamp))\n",
    "#         tphp = generate_tp_hp(tp, hyperparam_space[q_i], hp_names)\n",
    "\n",
    "#         q_process = create_q_process(queue, used_dataset, released_gpu_num, tphp, exp_dir, partition)\n",
    "#         q_processes.append(q_process)\n",
    "#         spawn_q_process(q_process)\n",
    "#         spawned_processes = spawned_processes + 1"
   ]
  },
  {
   "cell_type": "code",
   "execution_count": 38,
   "metadata": {},
   "outputs": [
    {
     "name": "stdout",
     "output_type": "stream",
     "text": [
      "End: 2022-02-26_13-51-57\n"
     ]
    }
   ],
   "source": [
    "print(\"End: \" + datetime.datetime.now().strftime('%Y-%m-%d_%H-%M-%S'))\n"
   ]
  },
  {
   "cell_type": "code",
   "execution_count": null,
   "metadata": {},
   "outputs": [],
   "source": []
  },
  {
   "cell_type": "code",
   "execution_count": null,
   "metadata": {},
   "outputs": [],
   "source": []
  },
  {
   "cell_type": "markdown",
   "metadata": {},
   "source": [
    "### Hyper Parameters"
   ]
  },
  {
   "cell_type": "code",
   "execution_count": 42,
   "metadata": {},
   "outputs": [
    {
     "data": {
      "text/plain": [
       "5"
      ]
     },
     "execution_count": 42,
     "metadata": {},
     "output_type": "execute_result"
    }
   ],
   "source": [
    "time_stamp = \"2022-02-26_13-44-37\"\n",
    "\n",
    "import glob\n",
    "exp_dirs = glob.glob(targetdata_dir_exp+\"/fold_*_\"+time_stamp)\n",
    "len(exp_dirs)"
   ]
  },
  {
   "cell_type": "code",
   "execution_count": 43,
   "metadata": {},
   "outputs": [],
   "source": [
    "folds = []\n",
    "\n",
    "for edir in exp_dirs:\n",
    "    fold = edir.split(\"/\")[-1].split('_')[1]\n",
    "    df_curves = pd.read_csv(edir + \"/curves.csv\")\n",
    "#     le = df_curves.tail(1)\n",
    "#     folds.append([fold, le.test_aupr.values[0], le.test_auc.values[0]])\n",
    "    df_curves[\"fold\"] = [fold] * len(df_curves)\n",
    "    folds.append(df_curves)"
   ]
  },
  {
   "cell_type": "code",
   "execution_count": 44,
   "metadata": {},
   "outputs": [
    {
     "data": {
      "text/html": [
       "<div>\n",
       "<style scoped>\n",
       "    .dataframe tbody tr th:only-of-type {\n",
       "        vertical-align: middle;\n",
       "    }\n",
       "\n",
       "    .dataframe tbody tr th {\n",
       "        vertical-align: top;\n",
       "    }\n",
       "\n",
       "    .dataframe thead th {\n",
       "        text-align: right;\n",
       "    }\n",
       "</style>\n",
       "<table border=\"1\" class=\"dataframe\">\n",
       "  <thead>\n",
       "    <tr style=\"text-align: right;\">\n",
       "      <th></th>\n",
       "      <th>epoch</th>\n",
       "      <th>train_aupr</th>\n",
       "      <th>valid_aupr</th>\n",
       "      <th>test_aupr</th>\n",
       "      <th>train_auc</th>\n",
       "      <th>valid_auc</th>\n",
       "      <th>test_auc</th>\n",
       "      <th>fold</th>\n",
       "    </tr>\n",
       "  </thead>\n",
       "  <tbody>\n",
       "    <tr>\n",
       "      <th>0</th>\n",
       "      <td>0</td>\n",
       "      <td>0.653898</td>\n",
       "      <td>0.635664</td>\n",
       "      <td>0.643471</td>\n",
       "      <td>0.703354</td>\n",
       "      <td>0.689977</td>\n",
       "      <td>0.698164</td>\n",
       "      <td>0</td>\n",
       "    </tr>\n",
       "    <tr>\n",
       "      <th>1</th>\n",
       "      <td>1</td>\n",
       "      <td>0.708209</td>\n",
       "      <td>0.683457</td>\n",
       "      <td>0.698030</td>\n",
       "      <td>0.768811</td>\n",
       "      <td>0.753978</td>\n",
       "      <td>0.766734</td>\n",
       "      <td>0</td>\n",
       "    </tr>\n",
       "    <tr>\n",
       "      <th>2</th>\n",
       "      <td>2</td>\n",
       "      <td>0.731741</td>\n",
       "      <td>0.707038</td>\n",
       "      <td>0.716086</td>\n",
       "      <td>0.792020</td>\n",
       "      <td>0.775331</td>\n",
       "      <td>0.783754</td>\n",
       "      <td>0</td>\n",
       "    </tr>\n",
       "    <tr>\n",
       "      <th>3</th>\n",
       "      <td>3</td>\n",
       "      <td>0.763432</td>\n",
       "      <td>0.738274</td>\n",
       "      <td>0.755569</td>\n",
       "      <td>0.811440</td>\n",
       "      <td>0.796185</td>\n",
       "      <td>0.808683</td>\n",
       "      <td>0</td>\n",
       "    </tr>\n",
       "    <tr>\n",
       "      <th>4</th>\n",
       "      <td>4</td>\n",
       "      <td>0.766819</td>\n",
       "      <td>0.744528</td>\n",
       "      <td>0.756065</td>\n",
       "      <td>0.819881</td>\n",
       "      <td>0.805024</td>\n",
       "      <td>0.812908</td>\n",
       "      <td>0</td>\n",
       "    </tr>\n",
       "    <tr>\n",
       "      <th>...</th>\n",
       "      <td>...</td>\n",
       "      <td>...</td>\n",
       "      <td>...</td>\n",
       "      <td>...</td>\n",
       "      <td>...</td>\n",
       "      <td>...</td>\n",
       "      <td>...</td>\n",
       "      <td>...</td>\n",
       "    </tr>\n",
       "    <tr>\n",
       "      <th>15</th>\n",
       "      <td>15</td>\n",
       "      <td>0.799132</td>\n",
       "      <td>0.783491</td>\n",
       "      <td>0.793792</td>\n",
       "      <td>0.843207</td>\n",
       "      <td>0.832285</td>\n",
       "      <td>0.833529</td>\n",
       "      <td>4</td>\n",
       "    </tr>\n",
       "    <tr>\n",
       "      <th>16</th>\n",
       "      <td>16</td>\n",
       "      <td>0.807471</td>\n",
       "      <td>0.794695</td>\n",
       "      <td>0.807116</td>\n",
       "      <td>0.849256</td>\n",
       "      <td>0.838631</td>\n",
       "      <td>0.842821</td>\n",
       "      <td>4</td>\n",
       "    </tr>\n",
       "    <tr>\n",
       "      <th>17</th>\n",
       "      <td>17</td>\n",
       "      <td>0.811031</td>\n",
       "      <td>0.801216</td>\n",
       "      <td>0.806963</td>\n",
       "      <td>0.850913</td>\n",
       "      <td>0.839673</td>\n",
       "      <td>0.843451</td>\n",
       "      <td>4</td>\n",
       "    </tr>\n",
       "    <tr>\n",
       "      <th>18</th>\n",
       "      <td>18</td>\n",
       "      <td>0.812000</td>\n",
       "      <td>0.799301</td>\n",
       "      <td>0.808463</td>\n",
       "      <td>0.851822</td>\n",
       "      <td>0.839726</td>\n",
       "      <td>0.844592</td>\n",
       "      <td>4</td>\n",
       "    </tr>\n",
       "    <tr>\n",
       "      <th>19</th>\n",
       "      <td>19</td>\n",
       "      <td>0.813526</td>\n",
       "      <td>0.802001</td>\n",
       "      <td>0.810406</td>\n",
       "      <td>0.853887</td>\n",
       "      <td>0.842933</td>\n",
       "      <td>0.847218</td>\n",
       "      <td>4</td>\n",
       "    </tr>\n",
       "  </tbody>\n",
       "</table>\n",
       "<p>100 rows × 8 columns</p>\n",
       "</div>"
      ],
      "text/plain": [
       "    epoch  train_aupr  valid_aupr  test_aupr  train_auc  valid_auc  test_auc  \\\n",
       "0       0    0.653898    0.635664   0.643471   0.703354   0.689977  0.698164   \n",
       "1       1    0.708209    0.683457   0.698030   0.768811   0.753978  0.766734   \n",
       "2       2    0.731741    0.707038   0.716086   0.792020   0.775331  0.783754   \n",
       "3       3    0.763432    0.738274   0.755569   0.811440   0.796185  0.808683   \n",
       "4       4    0.766819    0.744528   0.756065   0.819881   0.805024  0.812908   \n",
       "..    ...         ...         ...        ...        ...        ...       ...   \n",
       "15     15    0.799132    0.783491   0.793792   0.843207   0.832285  0.833529   \n",
       "16     16    0.807471    0.794695   0.807116   0.849256   0.838631  0.842821   \n",
       "17     17    0.811031    0.801216   0.806963   0.850913   0.839673  0.843451   \n",
       "18     18    0.812000    0.799301   0.808463   0.851822   0.839726  0.844592   \n",
       "19     19    0.813526    0.802001   0.810406   0.853887   0.842933  0.847218   \n",
       "\n",
       "   fold  \n",
       "0     0  \n",
       "1     0  \n",
       "2     0  \n",
       "3     0  \n",
       "4     0  \n",
       "..  ...  \n",
       "15    4  \n",
       "16    4  \n",
       "17    4  \n",
       "18    4  \n",
       "19    4  \n",
       "\n",
       "[100 rows x 8 columns]"
      ]
     },
     "execution_count": 44,
     "metadata": {},
     "output_type": "execute_result"
    }
   ],
   "source": [
    "df_folds = pd.concat(folds)\n",
    "df_folds"
   ]
  },
  {
   "cell_type": "code",
   "execution_count": 45,
   "metadata": {},
   "outputs": [
    {
     "data": {
      "text/html": [
       "<div>\n",
       "<style scoped>\n",
       "    .dataframe tbody tr th:only-of-type {\n",
       "        vertical-align: middle;\n",
       "    }\n",
       "\n",
       "    .dataframe tbody tr th {\n",
       "        vertical-align: top;\n",
       "    }\n",
       "\n",
       "    .dataframe thead th {\n",
       "        text-align: right;\n",
       "    }\n",
       "</style>\n",
       "<table border=\"1\" class=\"dataframe\">\n",
       "  <thead>\n",
       "    <tr style=\"text-align: right;\">\n",
       "      <th></th>\n",
       "      <th>test_aupr</th>\n",
       "      <th>test_auc</th>\n",
       "      <th>Fscore</th>\n",
       "    </tr>\n",
       "    <tr>\n",
       "      <th>epoch</th>\n",
       "      <th></th>\n",
       "      <th></th>\n",
       "      <th></th>\n",
       "    </tr>\n",
       "  </thead>\n",
       "  <tbody>\n",
       "    <tr>\n",
       "      <th>0</th>\n",
       "      <td>0.648071</td>\n",
       "      <td>0.708316</td>\n",
       "      <td>0.676856</td>\n",
       "    </tr>\n",
       "    <tr>\n",
       "      <th>1</th>\n",
       "      <td>0.715236</td>\n",
       "      <td>0.771278</td>\n",
       "      <td>0.742201</td>\n",
       "    </tr>\n",
       "    <tr>\n",
       "      <th>2</th>\n",
       "      <td>0.733511</td>\n",
       "      <td>0.790470</td>\n",
       "      <td>0.760926</td>\n",
       "    </tr>\n",
       "    <tr>\n",
       "      <th>3</th>\n",
       "      <td>0.751610</td>\n",
       "      <td>0.803790</td>\n",
       "      <td>0.776825</td>\n",
       "    </tr>\n",
       "    <tr>\n",
       "      <th>4</th>\n",
       "      <td>0.761017</td>\n",
       "      <td>0.812080</td>\n",
       "      <td>0.785720</td>\n",
       "    </tr>\n",
       "    <tr>\n",
       "      <th>5</th>\n",
       "      <td>0.773550</td>\n",
       "      <td>0.822303</td>\n",
       "      <td>0.797182</td>\n",
       "    </tr>\n",
       "    <tr>\n",
       "      <th>6</th>\n",
       "      <td>0.782840</td>\n",
       "      <td>0.827771</td>\n",
       "      <td>0.804679</td>\n",
       "    </tr>\n",
       "    <tr>\n",
       "      <th>7</th>\n",
       "      <td>0.788285</td>\n",
       "      <td>0.831970</td>\n",
       "      <td>0.809539</td>\n",
       "    </tr>\n",
       "    <tr>\n",
       "      <th>8</th>\n",
       "      <td>0.793409</td>\n",
       "      <td>0.836053</td>\n",
       "      <td>0.814173</td>\n",
       "    </tr>\n",
       "    <tr>\n",
       "      <th>9</th>\n",
       "      <td>0.795675</td>\n",
       "      <td>0.837255</td>\n",
       "      <td>0.815935</td>\n",
       "    </tr>\n",
       "    <tr>\n",
       "      <th>10</th>\n",
       "      <td>0.798025</td>\n",
       "      <td>0.838907</td>\n",
       "      <td>0.817956</td>\n",
       "    </tr>\n",
       "    <tr>\n",
       "      <th>11</th>\n",
       "      <td>0.797945</td>\n",
       "      <td>0.838410</td>\n",
       "      <td>0.817677</td>\n",
       "    </tr>\n",
       "    <tr>\n",
       "      <th>12</th>\n",
       "      <td>0.795662</td>\n",
       "      <td>0.837992</td>\n",
       "      <td>0.816279</td>\n",
       "    </tr>\n",
       "    <tr>\n",
       "      <th>13</th>\n",
       "      <td>0.794512</td>\n",
       "      <td>0.836425</td>\n",
       "      <td>0.814930</td>\n",
       "    </tr>\n",
       "    <tr>\n",
       "      <th>14</th>\n",
       "      <td>0.797141</td>\n",
       "      <td>0.836677</td>\n",
       "      <td>0.816430</td>\n",
       "    </tr>\n",
       "    <tr>\n",
       "      <th>15</th>\n",
       "      <td>0.801147</td>\n",
       "      <td>0.840752</td>\n",
       "      <td>0.820472</td>\n",
       "    </tr>\n",
       "    <tr>\n",
       "      <th>16</th>\n",
       "      <td>0.808813</td>\n",
       "      <td>0.846454</td>\n",
       "      <td>0.827206</td>\n",
       "    </tr>\n",
       "    <tr>\n",
       "      <th>17</th>\n",
       "      <td>0.810275</td>\n",
       "      <td>0.849054</td>\n",
       "      <td>0.829212</td>\n",
       "    </tr>\n",
       "    <tr>\n",
       "      <th>18</th>\n",
       "      <td>0.812080</td>\n",
       "      <td>0.849965</td>\n",
       "      <td>0.830591</td>\n",
       "    </tr>\n",
       "    <tr>\n",
       "      <th>19</th>\n",
       "      <td>0.813289</td>\n",
       "      <td>0.851352</td>\n",
       "      <td>0.831886</td>\n",
       "    </tr>\n",
       "  </tbody>\n",
       "</table>\n",
       "</div>"
      ],
      "text/plain": [
       "       test_aupr  test_auc    Fscore\n",
       "epoch                               \n",
       "0       0.648071  0.708316  0.676856\n",
       "1       0.715236  0.771278  0.742201\n",
       "2       0.733511  0.790470  0.760926\n",
       "3       0.751610  0.803790  0.776825\n",
       "4       0.761017  0.812080  0.785720\n",
       "5       0.773550  0.822303  0.797182\n",
       "6       0.782840  0.827771  0.804679\n",
       "7       0.788285  0.831970  0.809539\n",
       "8       0.793409  0.836053  0.814173\n",
       "9       0.795675  0.837255  0.815935\n",
       "10      0.798025  0.838907  0.817956\n",
       "11      0.797945  0.838410  0.817677\n",
       "12      0.795662  0.837992  0.816279\n",
       "13      0.794512  0.836425  0.814930\n",
       "14      0.797141  0.836677  0.816430\n",
       "15      0.801147  0.840752  0.820472\n",
       "16      0.808813  0.846454  0.827206\n",
       "17      0.810275  0.849054  0.829212\n",
       "18      0.812080  0.849965  0.830591\n",
       "19      0.813289  0.851352  0.831886"
      ]
     },
     "execution_count": 45,
     "metadata": {},
     "output_type": "execute_result"
    }
   ],
   "source": [
    "df_folds_epoch = df_folds.groupby(\"epoch\")[[\"test_aupr\", \"test_auc\"]].mean()\n",
    "df_folds_epoch[\"Fscore\"] = df_folds_epoch.apply(lambda x: (2*x[0]*x[1])/(x[0]+x[1]), axis=1) # harmonic mean of AUC, AUPR\n",
    "df_folds_epoch"
   ]
  },
  {
   "cell_type": "code",
   "execution_count": 46,
   "metadata": {},
   "outputs": [
    {
     "data": {
      "text/plain": [
       "test_aupr    0.813289\n",
       "test_auc     0.851352\n",
       "Fscore       0.831886\n",
       "Name: 19, dtype: float64"
      ]
     },
     "execution_count": 46,
     "metadata": {},
     "output_type": "execute_result"
    }
   ],
   "source": [
    "best_epoch = df_folds_epoch.Fscore.idxmax()\n",
    "df_folds_epoch.loc[best_epoch]"
   ]
  },
  {
   "cell_type": "markdown",
   "metadata": {},
   "source": [
    "### Attention Scores"
   ]
  },
  {
   "cell_type": "code",
   "execution_count": 47,
   "metadata": {},
   "outputs": [],
   "source": [
    "l_attn = []\n",
    "\n",
    "for edir in exp_dirs:\n",
    "    attn_scores = pd.read_csv(exp_dir + \"/fattn_w_scores_e_ids_test.csv\")\n",
    "    l_attn.append(attn_scores)"
   ]
  },
  {
   "cell_type": "code",
   "execution_count": null,
   "metadata": {},
   "outputs": [],
   "source": []
  }
 ],
 "metadata": {
  "kernelspec": {
   "display_name": "Python 3 (ipykernel)",
   "language": "python",
   "name": "python3"
  },
  "language_info": {
   "codemirror_mode": {
    "name": "ipython",
    "version": 3
   },
   "file_extension": ".py",
   "mimetype": "text/x-python",
   "name": "python",
   "nbconvert_exporter": "python",
   "pygments_lexer": "ipython3",
   "version": "3.9.9"
  }
 },
 "nbformat": 4,
 "nbformat_minor": 4
}
