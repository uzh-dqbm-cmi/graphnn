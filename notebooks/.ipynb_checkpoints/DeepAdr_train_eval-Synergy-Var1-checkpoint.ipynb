{
 "cells": [
  {
   "cell_type": "code",
   "execution_count": 1,
   "metadata": {
    "scrolled": false
   },
   "outputs": [],
   "source": [
    "%load_ext autoreload\n",
    "%autoreload 2"
   ]
  },
  {
   "cell_type": "code",
   "execution_count": 2,
   "metadata": {},
   "outputs": [],
   "source": [
    "import os\n",
    "import sys\n",
    "import numpy as np\n",
    "import pandas as pd\n",
    "import datetime\n",
    "import seaborn as sns\n",
    "import ogb\n",
    "from tqdm import tqdm"
   ]
  },
  {
   "cell_type": "code",
   "execution_count": 3,
   "metadata": {},
   "outputs": [],
   "source": [
    "import torch\n",
    "from torch_geometric.data import Data\n",
    "from torch_geometric.loader import DataLoader\n",
    "from torch.utils.data import Subset"
   ]
  },
  {
   "cell_type": "code",
   "execution_count": 4,
   "metadata": {},
   "outputs": [
    {
     "name": "stdout",
     "output_type": "stream",
     "text": [
      "/cluster/home/skyriakos/chemprop_run/git/notebooks\n"
     ]
    }
   ],
   "source": [
    "cwd = os.getcwd()\n",
    "print(cwd)"
   ]
  },
  {
   "cell_type": "code",
   "execution_count": 5,
   "metadata": {},
   "outputs": [],
   "source": [
    "os.chdir('..')\n",
    "import deepadr\n",
    "from deepadr.dataset import *\n",
    "from deepadr.utilities import *\n",
    "from deepadr.run_workflow import *\n",
    "from deepadr.chemfeatures import *\n",
    "# from deepadr.model_gnn import GCN as testGCN\n",
    "from deepadr.model_gnn_ogb import GNN, DeepAdr_SiameseTrf, ExpressionNN\n",
    "# from deepadr.model_attn_siamese import *\n",
    "from ogb.graphproppred import Evaluator\n",
    "os.chdir(cwd)"
   ]
  },
  {
   "cell_type": "code",
   "execution_count": 6,
   "metadata": {},
   "outputs": [],
   "source": [
    "from rdkit.Chem.Draw import IPythonConsole\n",
    "from rdkit.Chem import Draw"
   ]
  },
  {
   "cell_type": "code",
   "execution_count": 7,
   "metadata": {},
   "outputs": [],
   "source": [
    "# from tdc.single_pred import Tox\n",
    "# from tdc.multi_pred import DDI"
   ]
  },
  {
   "cell_type": "code",
   "execution_count": 8,
   "metadata": {},
   "outputs": [],
   "source": [
    "rawdata_dir = '../data/raw/'\n",
    "processed_dir = '../data/processed/'\n",
    "up_dir = '..'"
   ]
  },
  {
   "cell_type": "code",
   "execution_count": 9,
   "metadata": {
    "scrolled": true
   },
   "outputs": [
    {
     "name": "stdout",
     "output_type": "stream",
     "text": [
      "number of GPUs available: 1\n",
      "cuda:0, name:GeForce GTX 1080 Ti\n",
      "total memory available: 10.91650390625 GB\n",
      "total memory allocated on device: 0.0 GB\n",
      "max memory allocated on device: 0.0 GB\n",
      "total memory cached on device: 0.0 GB\n",
      "max memory cached  on device: 0.0 GB\n",
      "\n"
     ]
    }
   ],
   "source": [
    "report_available_cuda_devices()"
   ]
  },
  {
   "cell_type": "code",
   "execution_count": 10,
   "metadata": {},
   "outputs": [
    {
     "data": {
      "text/plain": [
       "1"
      ]
     },
     "execution_count": 10,
     "metadata": {},
     "output_type": "execute_result"
    }
   ],
   "source": [
    "n_gpu = torch.cuda.device_count()\n",
    "n_gpu"
   ]
  },
  {
   "cell_type": "code",
   "execution_count": 11,
   "metadata": {},
   "outputs": [],
   "source": [
    "device_cpu = get_device(to_gpu=False)\n",
    "device_gpu = get_device(True, index=0)\n",
    "\n",
    "fdtype = torch.float32"
   ]
  },
  {
   "cell_type": "code",
   "execution_count": 12,
   "metadata": {},
   "outputs": [
    {
     "name": "stdout",
     "output_type": "stream",
     "text": [
      "torch: 1.9.1\n",
      "CUDA: 11.1\n"
     ]
    }
   ],
   "source": [
    "print(\"torch:\", torch.__version__)\n",
    "print(\"CUDA:\", torch.version.cuda)"
   ]
  },
  {
   "cell_type": "code",
   "execution_count": 13,
   "metadata": {},
   "outputs": [],
   "source": [
    "# print(torch.cuda.memory_summary(device=device_gpu))"
   ]
  },
  {
   "cell_type": "markdown",
   "metadata": {},
   "source": [
    "### Preparing dataset "
   ]
  },
  {
   "cell_type": "code",
   "execution_count": 14,
   "metadata": {},
   "outputs": [],
   "source": [
    "# TDC Tox\n",
    "DSdataset_name = 'MatchMakerDrugComb' #'OncoPolyPharmacology' #'DrugComb'\n",
    "\n",
    "#fname_suffix = ds_config[\"fname_suffix\"]\n",
    "similarity_types = ['chem']\n",
    "kernel_option = 'sqeuclidean'\n",
    "data_fname = 'data_v1'\n",
    "# interact_matfname = ds_config[\"interact_matfname\"]\n",
    "# exp_iden = 'simtypeall'\n",
    "# ddi_interaction_labels_pth = ds_config[\"ddi_interaction_labels_pth\"]\n",
    "\n",
    "# up_dir, processed_dir, DSdataset_name, data_fname"
   ]
  },
  {
   "cell_type": "code",
   "execution_count": 15,
   "metadata": {
    "scrolled": true
   },
   "outputs": [
    {
     "name": "stdout",
     "output_type": "stream",
     "text": [
      "path_current_dir /cluster/home/skyriakos/chemprop_run/git/deepadr\n",
      "path_current_dir /cluster/home/skyriakos/chemprop_run/git/deepadr\n",
      "path_current_dir /cluster/home/skyriakos/chemprop_run/git/deepadr\n",
      "/cluster/home/skyriakos/chemprop_run/git/data/processed/MatchMakerDrugComb/data_v1\n"
     ]
    }
   ],
   "source": [
    "targetdata_dir = create_directory(os.path.join(processed_dir, DSdataset_name, data_fname))\n",
    "targetdata_dir_raw = create_directory(os.path.join(targetdata_dir, \"raw\"))\n",
    "targetdata_dir_processed = create_directory(os.path.join(targetdata_dir, \"processed\"))\n",
    "# # ReaderWriter.dump_data(dpartitions, os.path.join(targetdata_dir, 'data_partitions.pkl'))\n",
    "print(targetdata_dir)"
   ]
  },
  {
   "cell_type": "code",
   "execution_count": 16,
   "metadata": {},
   "outputs": [
    {
     "name": "stdout",
     "output_type": "stream",
     "text": [
      "CPU times: user 17.5 ms, sys: 454 ms, total: 472 ms\n",
      "Wall time: 457 ms\n"
     ]
    }
   ],
   "source": [
    "%%time\n",
    "\n",
    "# Make sure to first run the \"data_generation\" notebook first\n",
    "\n",
    "dataset = MoleculeDataset(root=targetdata_dir)"
   ]
  },
  {
   "cell_type": "code",
   "execution_count": 17,
   "metadata": {},
   "outputs": [
    {
     "name": "stdout",
     "output_type": "stream",
     "text": [
      "\n",
      "Dataset: MoleculeDataset(96671):\n",
      "====================\n",
      "Number of graphs: 96671\n",
      "Number of features: 9\n",
      "Number of classes: 2\n"
     ]
    }
   ],
   "source": [
    "print()\n",
    "print(f'Dataset: {dataset}:')\n",
    "print('====================')\n",
    "print(f'Number of graphs: {len(dataset)}')\n",
    "print(f'Number of features: {dataset.num_features}')\n",
    "print(f'Number of classes: {dataset.num_classes}')\n",
    "\n",
    "data0 = dataset[0]  # Get the first graph object.\n",
    "\n",
    "# print()\n",
    "# print(data)\n",
    "# print('=============================================================')\n",
    "\n",
    "# # Gather some statistics about the first graph.\n",
    "# print(f'Number of nodes: {data.num_nodes}')\n",
    "# print(f'Number of edges: {data.num_edges}')\n",
    "# print(f'Average node degree: {data.num_edges / data.num_nodes:.2f}')\n",
    "# print(f'Contains isolated nodes: {data.contains_isolated_nodes()}')\n",
    "# print(f'Contains self-loops: {data.contains_self_loops()}')\n",
    "# print(f'Is undirected: {data.is_undirected()}')"
   ]
  },
  {
   "cell_type": "code",
   "execution_count": 18,
   "metadata": {
    "scrolled": true
   },
   "outputs": [
    {
     "data": {
      "text/plain": [
       "PairData(edge_index_a=[2, 68], x_a=[31, 9], edge_attr_a=[68, 3], edge_index_b=[2, 76], x_b=[35, 9], edge_attr_b=[76, 3], id=[1], y=[1], expression=[1, 972])"
      ]
     },
     "execution_count": 18,
     "metadata": {},
     "output_type": "execute_result"
    }
   ],
   "source": [
    "data0"
   ]
  },
  {
   "cell_type": "code",
   "execution_count": 19,
   "metadata": {},
   "outputs": [
    {
     "data": {
      "text/plain": [
       "torch.Size([1, 972])"
      ]
     },
     "execution_count": 19,
     "metadata": {},
     "output_type": "execute_result"
    }
   ],
   "source": [
    "data0.expression.shape"
   ]
  },
  {
   "cell_type": "code",
   "execution_count": 20,
   "metadata": {},
   "outputs": [
    {
     "data": {
      "text/plain": [
       "tensor([0], dtype=torch.int32)"
      ]
     },
     "execution_count": 20,
     "metadata": {},
     "output_type": "execute_result"
    }
   ],
   "source": [
    "data0.y"
   ]
  },
  {
   "cell_type": "code",
   "execution_count": 21,
   "metadata": {},
   "outputs": [
    {
     "data": {
      "text/plain": [
       "96671"
      ]
     },
     "execution_count": 21,
     "metadata": {},
     "output_type": "execute_result"
    }
   ],
   "source": [
    "len(dataset)"
   ]
  },
  {
   "cell_type": "code",
   "execution_count": 22,
   "metadata": {},
   "outputs": [],
   "source": [
    "# used_dataset = dataset\n",
    "\n",
    "# If you want to use a smaller subset of the dataset for testing\n",
    "smaller_dataset_len = int(len(dataset)/1)\n",
    "used_dataset = dataset[:smaller_dataset_len]"
   ]
  },
  {
   "cell_type": "code",
   "execution_count": 23,
   "metadata": {},
   "outputs": [
    {
     "name": "stdout",
     "output_type": "stream",
     "text": [
      "fold_num: 0\n",
      "train data\n",
      "class: 0 norm count: 0.9410649119278182\n",
      "class: 1 norm count: 0.058935088072181833\n",
      "validation data\n",
      "class: 0 norm count: 0.9410395655546936\n",
      "class: 1 norm count: 0.05896043444530644\n",
      "test data\n",
      "class: 0 norm count: 0.9410395655546936\n",
      "class: 1 norm count: 0.05896043444530644\n",
      "\n",
      "-------------------------\n",
      "fold_num: 1\n",
      "train data\n",
      "class: 0 norm count: 0.9410513914630116\n",
      "class: 1 norm count: 0.05894860853698835\n",
      "validation data\n",
      "class: 0 norm count: 0.9410395655546936\n",
      "class: 1 norm count: 0.05896043444530644\n",
      "test data\n",
      "class: 0 norm count: 0.941088238336609\n",
      "class: 1 norm count: 0.05891176166339092\n",
      "\n",
      "-------------------------\n",
      "fold_num: 2\n",
      "train data\n",
      "class: 0 norm count: 0.9410513914630116\n",
      "class: 1 norm count: 0.05894860853698835\n",
      "validation data\n",
      "class: 0 norm count: 0.9410395655546936\n",
      "class: 1 norm count: 0.05896043444530644\n",
      "test data\n",
      "class: 0 norm count: 0.941088238336609\n",
      "class: 1 norm count: 0.05891176166339092\n",
      "\n",
      "-------------------------\n",
      "fold_num: 3\n",
      "train data\n",
      "class: 0 norm count: 0.9410657586598279\n",
      "class: 1 norm count: 0.05893424134017212\n",
      "validation data\n",
      "class: 0 norm count: 0.9410395655546936\n",
      "class: 1 norm count: 0.05896043444530644\n",
      "test data\n",
      "class: 0 norm count: 0.9410365159822075\n",
      "class: 1 norm count: 0.05896348401779249\n",
      "\n",
      "-------------------------\n",
      "fold_num: 4\n",
      "train data\n",
      "class: 0 norm count: 0.9410657586598279\n",
      "class: 1 norm count: 0.05893424134017212\n",
      "validation data\n",
      "class: 0 norm count: 0.9410395655546936\n",
      "class: 1 norm count: 0.05896043444530644\n",
      "test data\n",
      "class: 0 norm count: 0.9410365159822075\n",
      "class: 1 norm count: 0.05896348401779249\n",
      "\n",
      "-------------------------\n"
     ]
    }
   ],
   "source": [
    "fold_partitions = get_stratified_partitions(used_dataset.data.y[:smaller_dataset_len],\n",
    "                                            num_folds=5, valid_set_portion=0.1, random_state=42)"
   ]
  },
  {
   "cell_type": "code",
   "execution_count": 24,
   "metadata": {},
   "outputs": [],
   "source": [
    "# train_val_test_frac = [0.7, 0.1, 0.2]\n",
    "# assert sum(train_val_test_frac) == 1\n",
    "\n",
    "# torch.manual_seed(42)\n",
    "# used_dataset = used_dataset.shuffle()\n",
    "\n",
    "# num_train = round(train_val_test_frac[0] * len(used_dataset)) \n",
    "# num_trainval = round((train_val_test_frac[0]+train_val_test_frac[1]) * len(used_dataset))\n",
    "\n",
    "# train_dataset = used_dataset[:num_train]\n",
    "# val_dataset = used_dataset[num_train:num_trainval]\n",
    "# test_dataset = used_dataset[num_trainval:]"
   ]
  },
  {
   "cell_type": "code",
   "execution_count": 25,
   "metadata": {},
   "outputs": [],
   "source": [
    "train_dataset = Subset(used_dataset, fold_partitions[0]['train'])\n",
    "val_dataset = Subset(used_dataset, fold_partitions[0]['validation'])\n",
    "test_dataset = Subset(used_dataset, fold_partitions[0]['test'])"
   ]
  },
  {
   "cell_type": "code",
   "execution_count": 26,
   "metadata": {},
   "outputs": [
    {
     "name": "stdout",
     "output_type": "stream",
     "text": [
      "Number of training graphs: 69602\n",
      "Number of val graphs: 7734\n",
      "Number of test graphs: 19335\n"
     ]
    }
   ],
   "source": [
    "print(f'Number of training graphs: {len(train_dataset)}')\n",
    "print(f'Number of val graphs: {len(val_dataset)}')\n",
    "print(f'Number of test graphs: {len(test_dataset)}')"
   ]
  },
  {
   "cell_type": "code",
   "execution_count": 27,
   "metadata": {},
   "outputs": [
    {
     "name": "stdout",
     "output_type": "stream",
     "text": [
      "2\n"
     ]
    }
   ],
   "source": [
    "print(dataset.num_classes)"
   ]
  },
  {
   "cell_type": "code",
   "execution_count": 28,
   "metadata": {},
   "outputs": [],
   "source": [
    "# train_dataset[3]"
   ]
  },
  {
   "cell_type": "code",
   "execution_count": 29,
   "metadata": {},
   "outputs": [],
   "source": [
    "# training params\n",
    "tp = {\n",
    "    \"batch_size\" : 512,\n",
    "    \"num_epochs\" : 100,\n",
    "    \n",
    "    \"emb_dim\" : 300,\n",
    "    \"gnn_type\" : \"gatv2\",\n",
    "    \"num_layer\" : 5,\n",
    "    \"graph_pooling\" : \"mean\", #attention\n",
    "    \n",
    "    \"input_embed_dim\" : None,\n",
    "    \"num_attn_heads\" : 2,\n",
    "    \"num_transformer_units\" : 1,\n",
    "    \"p_dropout\" : 0.3,\n",
    "    \"nonlin_func\" : nn.ReLU(),\n",
    "    \"mlp_embed_factor\" : 2,\n",
    "    \"pooling_mode\" : 'attn',\n",
    "    \"dist_opt\" : 'cosine',\n",
    "\n",
    "    \"base_lr\" : 3e-5, #3e-4\n",
    "    \"l2_reg\" : 1e-7,\n",
    "    \"loss_w\" : 0.1,\n",
    "    \"margin_v\" : 1.,\n",
    "\n",
    "    \"expression_dim\" : 64,\n",
    "    \"expression_input_size\" : 972,\n",
    "    \"exp_H1\" : 500,\n",
    "    \"exp_H2\" : 400\n",
    "}"
   ]
  },
  {
   "cell_type": "code",
   "execution_count": 30,
   "metadata": {},
   "outputs": [],
   "source": [
    "train_loader = DataLoader(train_dataset, batch_size=tp[\"batch_size\"], shuffle=True, follow_batch=['x_a', 'x_b'])\n",
    "valid_loader = DataLoader(val_dataset, batch_size=tp[\"batch_size\"], shuffle=False, follow_batch=['x_a', 'x_b'])\n",
    "test_loader = DataLoader(test_dataset, batch_size=tp[\"batch_size\"], shuffle=False, follow_batch=['x_a', 'x_b'])"
   ]
  },
  {
   "cell_type": "code",
   "execution_count": 31,
   "metadata": {},
   "outputs": [],
   "source": [
    "gnn_model = GNN(gnn_type = tp[\"gnn_type\"], \n",
    "#                 num_tasks = dataset.num_classes, \n",
    "                num_layer = tp[\"num_layer\"], \n",
    "                emb_dim = tp[\"emb_dim\"], \n",
    "                drop_ratio = 0.5, \n",
    "                JK = \"last\",\n",
    "                graph_pooling = tp[\"graph_pooling\"],\n",
    "                virtual_node = False,\n",
    "                with_edge_attr=False).to(device=device_gpu, dtype=fdtype)"
   ]
  },
  {
   "cell_type": "code",
   "execution_count": 32,
   "metadata": {},
   "outputs": [],
   "source": [
    "transformer_model = DeepAdr_Transformer(input_size=tp[\"expression_input_size\"],\n",
    "                                        input_embed_dim=tp[\"input_embed_dim\"],\n",
    "                                        num_attn_heads=tp[\"num_attn_heads\"],\n",
    "                                        mlp_embed_factor=tp[\"mlp_embed_factor\"],\n",
    "                                        nonlin_func=tp[\"nonlin_func\"],\n",
    "                                        pdropout=tp[\"p_dropout\"],\n",
    "                                        num_transformer_units=tp[\"num_transformer_units\"],\n",
    "                                        pooling_mode=tp[\"pooling_mode\"]).to(device=device_gpu, dtype=fdtype)"
   ]
  },
  {
   "cell_type": "code",
   "execution_count": 33,
   "metadata": {},
   "outputs": [],
   "source": [
    "# expression_model = ExpressionNN(D_in=tp[\"expression_input_size\"],\n",
    "#                                 H1=tp[\"exp_H1\"], H2=tp[\"exp_H2\"],\n",
    "#                                 D_out=tp[\"expression_dim\"], drop=0.5).to(device=device_gpu, dtype=fdtype)"
   ]
  },
  {
   "cell_type": "code",
   "execution_count": 34,
   "metadata": {},
   "outputs": [
    {
     "name": "stdout",
     "output_type": "stream",
     "text": [
      "updated\n",
      "num classes: 2\n"
     ]
    }
   ],
   "source": [
    "siamese_model = DeepAdr_SiameseTrf(input_dim=tp[\"emb_dim\"],\n",
    "                                   dist=tp[\"dist_opt\"],\n",
    "                                   expression_dim=tp[\"expression_input_size\"],\n",
    "                                   num_classes=dataset.num_classes).to(device=device_gpu, dtype=fdtype)"
   ]
  },
  {
   "cell_type": "code",
   "execution_count": 35,
   "metadata": {},
   "outputs": [],
   "source": [
    "# lasso_input_dim = 2*tp[\"emb_dim\"]+1+expression_input_size\n",
    "# lasso_out_dim = dataset.num_classes\n",
    "\n",
    "# lassonet_model = LassoNet(lasso_input_dim, lasso_out_dim)"
   ]
  },
  {
   "cell_type": "code",
   "execution_count": 36,
   "metadata": {},
   "outputs": [],
   "source": [
    "# models_param = list(gnn_model.parameters()) + list(transformer_model.parameters()) + list(siamese_model.parameters()) + list(expression_model.parameters())\n",
    "models_param = list(gnn_model.parameters()) + list(transformer_model.parameters()) + list(siamese_model.parameters())\n",
    "\n",
    "\n",
    "model_name = \"ogb\"\n",
    "models = [(gnn_model, f'{model_name}_GNN'),\n",
    "          (transformer_model, f'{model_name}_Transformer'),\n",
    "          (siamese_model, f'{model_name}_Siamese'),\n",
    "#           (expression_model, f'{model_name}_Expression'),\n",
    "#           (lassonet_model, f'{model_name}_LassoNet')\n",
    "         ]\n",
    "#models"
   ]
  },
  {
   "cell_type": "code",
   "execution_count": 37,
   "metadata": {},
   "outputs": [
    {
     "data": {
      "text/plain": [
       "tensor([0.5313, 8.4829], device='cuda:0')"
      ]
     },
     "execution_count": 37,
     "metadata": {},
     "output_type": "execute_result"
    }
   ],
   "source": [
    "y_weights = ReaderWriter.read_data(os.path.join(targetdata_dir_raw, 'y_weights.pkl'))\n",
    "class_weights = torch.tensor(y_weights).type(fdtype).to(device_gpu)\n",
    "class_weights"
   ]
  },
  {
   "cell_type": "code",
   "execution_count": 38,
   "metadata": {},
   "outputs": [],
   "source": [
    "# from IPython.display import Javascript\n",
    "# display(Javascript('''google.colab.output.setIframeHeight(0, true, {maxHeight: 300})'''))\n",
    "\n",
    "num_iter = len(train_loader)  # num_train_samples/batch_size\n",
    "c_step_size = int(np.ceil(5*num_iter))  # this should be 2-10 times num_iter\n",
    "\n",
    "base_lr = tp['base_lr']\n",
    "max_lr = 10*base_lr  # 3-5 times base_lr\n",
    "optimizer = torch.optim.Adam(models_param, weight_decay=tp[\"l2_reg\"], lr=base_lr)\n",
    "cyc_scheduler = torch.optim.lr_scheduler.CyclicLR(optimizer, base_lr, max_lr, step_size_up=c_step_size,\n",
    "                                                mode='triangular', cycle_momentum=False)\n",
    "# optimizer = torch.optim.Adam(models_param, lr=0.001)\n",
    "# criterion = torch.nn.CrossEntropyLoss()\n",
    "\n",
    "# loss_nlll = torch.nn.NLLLoss(weight=class_weights, reduction='mean')  # negative log likelihood loss\n",
    "loss_nlll = torch.nn.NLLLoss(weight=class_weights, reduction='mean')  # negative log likelihood loss\n",
    "loss_contrastive = ContrastiveLoss(0.5, reduction='mean')\n",
    "# loss_mse = torch.nn.MSELoss()  # this is for regression mean squared loss\n",
    "\n",
    "\n",
    "# evaluator = Evaluator(DSdataset_name)"
   ]
  },
  {
   "cell_type": "code",
   "execution_count": 39,
   "metadata": {},
   "outputs": [],
   "source": [
    "def train():\n",
    "    for m, m_name in models:\n",
    "        m.train()\n",
    "\n",
    "        #            for i_batch, samples_batch in enumerate(data_loader):\n",
    "\n",
    "#     for data in train_loader:  # Iterate in batches over the training dataset.\n",
    "    for i_batch, batch in enumerate(tqdm(train_loader, desc=\"Iteration\")):\n",
    "        batch = batch.to(device_gpu)\n",
    "\n",
    "#         print(\"running batch:\", i_batch)\n",
    "        # x, edge_index, edge_attr, batch\n",
    "        h_a = gnn_model(batch.x_a, batch.edge_index_a, batch.edge_attr_a, batch.x_a_batch)\n",
    "        h_b = gnn_model(batch.x_b, batch.edge_index_b, batch.edge_attr_b, batch.x_b_batch)\n",
    "        \n",
    "#         print(\"h_a shape:\", h_a.shape)\n",
    "        \n",
    "#         z_a, fattn_w_scores_a = transformer_model(h_a)\n",
    "#         z_b, fattn_w_scores_b = transformer_model(h_b)\n",
    "        \n",
    "#         z_e = expression_model(batch.expression.type(fdtype))\n",
    "        \n",
    "        transformer_input = torch.unsqueeze(batch.expression.type(fdtype), dim=1)\n",
    "        z_e, fattn_w_scores_e = transformer_model(transformer_input)\n",
    "        \n",
    "#         print(\"h_a shape:\", h_a.shape)\n",
    "#         print(\"h_b shape:\", h_b.shape)\n",
    "#         print(\"transformer_input shape:\", transformer_input.shape)\n",
    "#         print(\"z_e shape:\", z_e.shape)\n",
    "        \n",
    "#         print(\"h_a dtype:\", h_a.dtype)\n",
    "#         print(\"h_b dtype:\", h_b.dtype)\n",
    "#         print(\"z_e dtype:\", z_e.dtype)\n",
    "        \n",
    "#         if (i_batch == 0):\n",
    "#             print(torch.cuda.memory_summary(device=device_gpu))\n",
    "        \n",
    "        logsoftmax_scores, dist = siamese_model(h_a, h_b, z_e)\n",
    "#         out = model(data.x, data.edge_index, data.batch)  # Perform a single forward pass.\n",
    "#         loss = criterion(out, samples_batch.y)  # Compute the loss.\n",
    "#         print(pd.Series(batch.y.cpu()).value_counts())\n",
    "        cl = loss_nlll(logsoftmax_scores, batch.y.type(torch.long))            \n",
    "        dl = loss_contrastive(dist.reshape(-1), batch.y.type(fdtype))          \n",
    "        loss = tp[\"loss_w\"]*cl + (1-tp[\"loss_w\"])*dl\n",
    "        loss.backward()  # Derive gradients.\n",
    "        optimizer.step()  # Update parameters based on gradients.\n",
    "        cyc_scheduler.step() # after each batch step the scheduler\n",
    "        optimizer.zero_grad()  # Clear gradients.\n",
    "\n",
    "def eval(loader, dsettype):\n",
    "    for m, m_name in models:\n",
    "        m.eval()\n",
    "        \n",
    "    pred_class = []\n",
    "    ref_class = []\n",
    "    prob_scores = []\n",
    "    \n",
    "#     for data in loader:  # Iterate in batches over the training/test dataset.\n",
    "    for i_batch, batch in enumerate(tqdm(loader, desc=\"Iteration\")):\n",
    "        batch = batch.to(device_gpu)\n",
    "#         out = model(data.x, data.edge_index, data.batch)  \n",
    "        h_a = gnn_model(batch.x_a, batch.edge_index_a, batch.edge_attr_a, batch.x_a_batch)\n",
    "        h_b = gnn_model(batch.x_b, batch.edge_index_b, batch.edge_attr_b, batch.x_b_batch)\n",
    "        \n",
    "#         z_a, fattn_w_scores_a = transformer_model(h_a)\n",
    "#         z_b, fattn_w_scores_b = transformer_model(h_b)\n",
    "        \n",
    "#         z_e = expression_model(batch.expression.type(fdtype))\n",
    "\n",
    "        transformer_input = torch.unsqueeze(batch.expression.type(fdtype), dim=1)\n",
    "        z_e, fattn_w_scores_e = transformer_model(transformer_input)\n",
    "\n",
    "        \n",
    "#         logsoftmax_scores, dist = deepadr_siamese(z_a, z_b)\n",
    "        \n",
    "#         __, y_pred_clss = torch.max(logsoftmax_scores, -1)\n",
    "#         y_pred_prob  = torch.exp(logsoftmax_scores.detach().cpu()).numpy()\n",
    "\n",
    "#         pred_class.extend(y_pred_clss.view(-1).tolist())\n",
    "#         ref_class.extend(batch.y.view(-1).tolist())\n",
    "# #         prob_scores.append(y_pred_prob)\n",
    "#         prob_scores.extend(y_pred_prob.view(-1).tolist())\n",
    "    \n",
    "        logsoftmax_scores, dist = siamese_model(h_a, h_b, z_e)\n",
    "\n",
    "        __, y_pred_clss = torch.max(logsoftmax_scores, -1)\n",
    "\n",
    "        y_pred_prob  = torch.exp(logsoftmax_scores.detach().cpu()).numpy()\n",
    "\n",
    "        pred_class.extend(y_pred_clss.view(-1).tolist())\n",
    "        ref_class.extend(batch.y.view(-1).tolist())\n",
    "        prob_scores.append(y_pred_prob)\n",
    "\n",
    "    prob_scores_arr = np.concatenate(prob_scores, axis=0)\n",
    "#     print(\"pred_class\", pred_class)\n",
    "#     print(\"ref_class\", ref_class)\n",
    "    modelscore = perfmetric_report(pred_class, ref_class, prob_scores_arr[:,1], epoch,\n",
    "                                  outlog = os.path.join(targetdata_dir_processed, dsettype + \".log\"))\n",
    "#     modelscore = perfmetric_report(pred_class, ref_class, prob_scores, epoch, \"\")        \n",
    "    \n",
    "#         pred = out.argmax(dim=1)  # Use the class with highest probability.\n",
    "#         correct += int((pred == samples_batch.y).sum())  # Check against ground-truth labels.\n",
    "#     return correct / len(loader.dataset)  # Derive ratio of correct predictions.\n",
    "    return modelscore"
   ]
  },
  {
   "cell_type": "code",
   "execution_count": 40,
   "metadata": {},
   "outputs": [],
   "source": [
    "valid_curve = []\n",
    "test_curve = []\n",
    "train_curve = []"
   ]
  },
  {
   "cell_type": "code",
   "execution_count": 41,
   "metadata": {
    "scrolled": true
   },
   "outputs": [
    {
     "name": "stdout",
     "output_type": "stream",
     "text": [
      "=====Epoch 0\n",
      "Training...\n"
     ]
    },
    {
     "name": "stderr",
     "output_type": "stream",
     "text": [
      "Iteration:   0%|                                                                                                                                                                                                      | 0/136 [00:00<?, ?it/s]/opt/conda/envs/graphnn/lib/python3.9/site-packages/torch_geometric/data/storage.py:244: UserWarning: Unable to accurately infer 'num_nodes' from the attribute set '{'x_b', 'id', 'y', 'x_a', 'edge_index_a', 'edge_index_b', 'edge_attr_b', 'expression', 'edge_attr_a'}'. Please explicitly set 'num_nodes' as an attribute of 'data' to suppress this warning\n",
      "  warnings.warn(\n",
      "Iteration: 100%|████████████████████████████████████████████████████████████████████████████████████████████████████████████████████████████████████████████████████████████████████████████████████████████| 136/136 [01:02<00:00,  2.16it/s]\n"
     ]
    },
    {
     "name": "stdout",
     "output_type": "stream",
     "text": [
      "Evaluating...\n"
     ]
    },
    {
     "name": "stderr",
     "output_type": "stream",
     "text": [
      "Iteration: 100%|████████████████████████████████████████████████████████████████████████████████████████████████████████████████████████████████████████████████████████████████████████████████████████████| 136/136 [00:11<00:00, 11.54it/s]\n",
      "Iteration:   0%|                                                                                                                                                                                                       | 0/16 [00:00<?, ?it/s]/opt/conda/envs/graphnn/lib/python3.9/site-packages/torch_geometric/data/storage.py:244: UserWarning: Unable to accurately infer 'num_nodes' from the attribute set '{'x_b', 'id', 'y', 'x_a', 'edge_index_a', 'edge_index_b', 'edge_attr_b', 'expression', 'edge_attr_a'}'. Please explicitly set 'num_nodes' as an attribute of 'data' to suppress this warning\n",
      "  warnings.warn(\n",
      "Iteration: 100%|██████████████████████████████████████████████████████████████████████████████████████████████████████████████████████████████████████████████████████████████████████████████████████████████| 16/16 [00:02<00:00,  5.93it/s]\n",
      "Iteration:   0%|                                                                                                                                                                                                       | 0/38 [00:00<?, ?it/s]/opt/conda/envs/graphnn/lib/python3.9/site-packages/torch_geometric/data/storage.py:244: UserWarning: Unable to accurately infer 'num_nodes' from the attribute set '{'x_b', 'id', 'y', 'x_a', 'edge_index_a', 'edge_index_b', 'edge_attr_b', 'expression', 'edge_attr_a'}'. Please explicitly set 'num_nodes' as an attribute of 'data' to suppress this warning\n",
      "  warnings.warn(\n",
      "Iteration: 100%|██████████████████████████████████████████████████████████████████████████████████████████████████████████████████████████████████████████████████████████████████████████████████████████████| 38/38 [00:06<00:00,  5.76it/s]\n"
     ]
    },
    {
     "name": "stdout",
     "output_type": "stream",
     "text": [
      "{'Train':  best_epoch_indx:0\n",
      " auc:0.7180144948842679 \n",
      " apur:0.1326715220753492 \n",
      " f1:0.16275120294367393 \n",
      " precision:0.09009244268031545 \n",
      " recall:0.841053144807411 \n",
      ", 'Validation':  best_epoch_indx:0\n",
      " auc:0.7217578932905222 \n",
      " apur:0.1403624766877668 \n",
      " f1:0.16350862252501597 \n",
      " precision:0.09054468285781656 \n",
      " recall:0.8421052631578947 \n",
      ", 'Test':  best_epoch_indx:0\n",
      " auc:0.7126180558568722 \n",
      " apur:0.12591809878090518 \n",
      " f1:0.16165191740412982 \n",
      " precision:0.08941724941724942 \n",
      " recall:0.8412280701754385 \n",
      "}\n",
      "=====Epoch 1\n",
      "Training...\n"
     ]
    },
    {
     "name": "stderr",
     "output_type": "stream",
     "text": [
      "Iteration:   0%|                                                                                                                                                                                                      | 0/136 [00:00<?, ?it/s]/opt/conda/envs/graphnn/lib/python3.9/site-packages/torch_geometric/data/storage.py:244: UserWarning: Unable to accurately infer 'num_nodes' from the attribute set '{'x_b', 'id', 'y', 'x_a', 'edge_index_a', 'edge_index_b', 'edge_attr_b', 'expression', 'edge_attr_a'}'. Please explicitly set 'num_nodes' as an attribute of 'data' to suppress this warning\n",
      "  warnings.warn(\n",
      "Iteration: 100%|████████████████████████████████████████████████████████████████████████████████████████████████████████████████████████████████████████████████████████████████████████████████████████████| 136/136 [00:30<00:00,  4.49it/s]\n"
     ]
    },
    {
     "name": "stdout",
     "output_type": "stream",
     "text": [
      "Evaluating...\n"
     ]
    },
    {
     "name": "stderr",
     "output_type": "stream",
     "text": [
      "Iteration: 100%|████████████████████████████████████████████████████████████████████████████████████████████████████████████████████████████████████████████████████████████████████████████████████████████| 136/136 [00:12<00:00, 11.17it/s]\n",
      "Iteration:   0%|                                                                                                                                                                                                       | 0/16 [00:00<?, ?it/s]/opt/conda/envs/graphnn/lib/python3.9/site-packages/torch_geometric/data/storage.py:244: UserWarning: Unable to accurately infer 'num_nodes' from the attribute set '{'x_b', 'id', 'y', 'x_a', 'edge_index_a', 'edge_index_b', 'edge_attr_b', 'expression', 'edge_attr_a'}'. Please explicitly set 'num_nodes' as an attribute of 'data' to suppress this warning\n",
      "  warnings.warn(\n",
      "Iteration: 100%|██████████████████████████████████████████████████████████████████████████████████████████████████████████████████████████████████████████████████████████████████████████████████████████████| 16/16 [00:01<00:00, 12.29it/s]\n",
      "Iteration:   0%|                                                                                                                                                                                                       | 0/38 [00:00<?, ?it/s]/opt/conda/envs/graphnn/lib/python3.9/site-packages/torch_geometric/data/storage.py:244: UserWarning: Unable to accurately infer 'num_nodes' from the attribute set '{'x_b', 'id', 'y', 'x_a', 'edge_index_a', 'edge_index_b', 'edge_attr_b', 'expression', 'edge_attr_a'}'. Please explicitly set 'num_nodes' as an attribute of 'data' to suppress this warning\n",
      "  warnings.warn(\n",
      "Iteration: 100%|██████████████████████████████████████████████████████████████████████████████████████████████████████████████████████████████████████████████████████████████████████████████████████████████| 38/38 [00:03<00:00, 11.84it/s]\n"
     ]
    },
    {
     "name": "stdout",
     "output_type": "stream",
     "text": [
      "{'Train':  best_epoch_indx:1\n",
      " auc:0.7438134423349623 \n",
      " apur:0.17814505679182469 \n",
      " f1:0.17801915565305795 \n",
      " precision:0.09998196898665705 \n",
      " recall:0.8110677718186251 \n",
      ", 'Validation':  best_epoch_indx:1\n",
      " auc:0.744368994759501 \n",
      " apur:0.1954256121271527 \n",
      " f1:0.17839013778100074 \n",
      " precision:0.10024449877750612 \n",
      " recall:0.8092105263157895 \n",
      ", 'Test':  best_epoch_indx:1\n",
      " auc:0.7405795162542245 \n",
      " apur:0.1761632807286487 \n",
      " f1:0.17596936333173765 \n",
      " precision:0.09876410531972057 \n",
      " recall:0.8061403508771929 \n",
      "}\n",
      "=====Epoch 2\n",
      "Training...\n"
     ]
    },
    {
     "name": "stderr",
     "output_type": "stream",
     "text": [
      "Iteration:   0%|                                                                                                                                                                                                      | 0/136 [00:00<?, ?it/s]/opt/conda/envs/graphnn/lib/python3.9/site-packages/torch_geometric/data/storage.py:244: UserWarning: Unable to accurately infer 'num_nodes' from the attribute set '{'x_b', 'id', 'y', 'x_a', 'edge_index_a', 'edge_index_b', 'edge_attr_b', 'expression', 'edge_attr_a'}'. Please explicitly set 'num_nodes' as an attribute of 'data' to suppress this warning\n",
      "  warnings.warn(\n",
      "Iteration: 100%|████████████████████████████████████████████████████████████████████████████████████████████████████████████████████████████████████████████████████████████████████████████████████████████| 136/136 [00:30<00:00,  4.44it/s]\n"
     ]
    },
    {
     "name": "stdout",
     "output_type": "stream",
     "text": [
      "Evaluating...\n"
     ]
    },
    {
     "name": "stderr",
     "output_type": "stream",
     "text": [
      "Iteration: 100%|████████████████████████████████████████████████████████████████████████████████████████████████████████████████████████████████████████████████████████████████████████████████████████████| 136/136 [00:11<00:00, 11.53it/s]\n",
      "Iteration:   0%|                                                                                                                                                                                                       | 0/16 [00:00<?, ?it/s]/opt/conda/envs/graphnn/lib/python3.9/site-packages/torch_geometric/data/storage.py:244: UserWarning: Unable to accurately infer 'num_nodes' from the attribute set '{'x_b', 'id', 'y', 'x_a', 'edge_index_a', 'edge_index_b', 'edge_attr_b', 'expression', 'edge_attr_a'}'. Please explicitly set 'num_nodes' as an attribute of 'data' to suppress this warning\n",
      "  warnings.warn(\n",
      "Iteration: 100%|██████████████████████████████████████████████████████████████████████████████████████████████████████████████████████████████████████████████████████████████████████████████████████████████| 16/16 [00:01<00:00, 12.29it/s]\n",
      "Iteration:   0%|                                                                                                                                                                                                       | 0/38 [00:00<?, ?it/s]/opt/conda/envs/graphnn/lib/python3.9/site-packages/torch_geometric/data/storage.py:244: UserWarning: Unable to accurately infer 'num_nodes' from the attribute set '{'x_b', 'id', 'y', 'x_a', 'edge_index_a', 'edge_index_b', 'edge_attr_b', 'expression', 'edge_attr_a'}'. Please explicitly set 'num_nodes' as an attribute of 'data' to suppress this warning\n",
      "  warnings.warn(\n",
      "Iteration: 100%|██████████████████████████████████████████████████████████████████████████████████████████████████████████████████████████████████████████████████████████████████████████████████████████████| 38/38 [00:03<00:00, 11.81it/s]\n"
     ]
    },
    {
     "name": "stdout",
     "output_type": "stream",
     "text": [
      "{'Train':  best_epoch_indx:2\n",
      " auc:0.7646550314313256 \n",
      " apur:0.2292473850509735 \n",
      " f1:0.16363345008355656 \n",
      " precision:0.09029584901846846 \n",
      " recall:0.871282301316431 \n",
      ", 'Validation':  best_epoch_indx:2\n",
      " auc:0.7598990046908973 \n",
      " apur:0.24283077382069554 \n",
      " f1:0.1641852770885029 \n",
      " precision:0.09063926940639269 \n",
      " recall:0.8706140350877193 \n",
      ", 'Test':  best_epoch_indx:2\n",
      " auc:0.7618418401045207 \n",
      " apur:0.21726297396091343 \n",
      " f1:0.16288846756244332 \n",
      " precision:0.08989172959694296 \n",
      " recall:0.8666666666666667 \n",
      "}\n",
      "=====Epoch 3\n",
      "Training...\n"
     ]
    },
    {
     "name": "stderr",
     "output_type": "stream",
     "text": [
      "Iteration:   0%|                                                                                                                                                                                                      | 0/136 [00:00<?, ?it/s]/opt/conda/envs/graphnn/lib/python3.9/site-packages/torch_geometric/data/storage.py:244: UserWarning: Unable to accurately infer 'num_nodes' from the attribute set '{'x_b', 'id', 'y', 'x_a', 'edge_index_a', 'edge_index_b', 'edge_attr_b', 'expression', 'edge_attr_a'}'. Please explicitly set 'num_nodes' as an attribute of 'data' to suppress this warning\n",
      "  warnings.warn(\n",
      "Iteration: 100%|████████████████████████████████████████████████████████████████████████████████████████████████████████████████████████████████████████████████████████████████████████████████████████████| 136/136 [00:30<00:00,  4.44it/s]\n"
     ]
    },
    {
     "name": "stdout",
     "output_type": "stream",
     "text": [
      "Evaluating...\n"
     ]
    },
    {
     "name": "stderr",
     "output_type": "stream",
     "text": [
      "Iteration: 100%|████████████████████████████████████████████████████████████████████████████████████████████████████████████████████████████████████████████████████████████████████████████████████████████| 136/136 [00:11<00:00, 11.60it/s]\n",
      "Iteration:   0%|                                                                                                                                                                                                       | 0/16 [00:00<?, ?it/s]/opt/conda/envs/graphnn/lib/python3.9/site-packages/torch_geometric/data/storage.py:244: UserWarning: Unable to accurately infer 'num_nodes' from the attribute set '{'x_b', 'id', 'y', 'x_a', 'edge_index_a', 'edge_index_b', 'edge_attr_b', 'expression', 'edge_attr_a'}'. Please explicitly set 'num_nodes' as an attribute of 'data' to suppress this warning\n",
      "  warnings.warn(\n",
      "Iteration: 100%|██████████████████████████████████████████████████████████████████████████████████████████████████████████████████████████████████████████████████████████████████████████████████████████████| 16/16 [00:01<00:00, 12.33it/s]\n",
      "Iteration:   0%|                                                                                                                                                                                                       | 0/38 [00:00<?, ?it/s]/opt/conda/envs/graphnn/lib/python3.9/site-packages/torch_geometric/data/storage.py:244: UserWarning: Unable to accurately infer 'num_nodes' from the attribute set '{'x_b', 'id', 'y', 'x_a', 'edge_index_a', 'edge_index_b', 'edge_attr_b', 'expression', 'edge_attr_a'}'. Please explicitly set 'num_nodes' as an attribute of 'data' to suppress this warning\n",
      "  warnings.warn(\n",
      "Iteration: 100%|██████████████████████████████████████████████████████████████████████████████████████████████████████████████████████████████████████████████████████████████████████████████████████████████| 38/38 [00:03<00:00, 11.88it/s]\n"
     ]
    },
    {
     "name": "stdout",
     "output_type": "stream",
     "text": [
      "{'Train':  best_epoch_indx:3\n",
      " auc:0.7795452320781894 \n",
      " apur:0.24443747442894637 \n",
      " f1:0.18244333359782064 \n",
      " precision:0.10232295962263031 \n",
      " recall:0.840809361287177 \n",
      ", 'Validation':  best_epoch_indx:3\n",
      " auc:0.7799358075044716 \n",
      " apur:0.25977644499995206 \n",
      " f1:0.18130042714760322 \n",
      " precision:0.10164981373070782 \n",
      " recall:0.8377192982456141 \n",
      ", 'Test':  best_epoch_indx:3\n",
      " auc:0.7763533455788413 \n",
      " apur:0.2317942375541933 \n",
      " f1:0.1823679485968062 \n",
      " precision:0.10219209996823043 \n",
      " recall:0.8464912280701754 \n",
      "}\n",
      "=====Epoch 4\n",
      "Training...\n"
     ]
    },
    {
     "name": "stderr",
     "output_type": "stream",
     "text": [
      "Iteration:   0%|                                                                                                                                                                                                      | 0/136 [00:00<?, ?it/s]/opt/conda/envs/graphnn/lib/python3.9/site-packages/torch_geometric/data/storage.py:244: UserWarning: Unable to accurately infer 'num_nodes' from the attribute set '{'x_b', 'id', 'y', 'x_a', 'edge_index_a', 'edge_index_b', 'edge_attr_b', 'expression', 'edge_attr_a'}'. Please explicitly set 'num_nodes' as an attribute of 'data' to suppress this warning\n",
      "  warnings.warn(\n",
      "Iteration: 100%|████████████████████████████████████████████████████████████████████████████████████████████████████████████████████████████████████████████████████████████████████████████████████████████| 136/136 [00:30<00:00,  4.47it/s]\n"
     ]
    },
    {
     "name": "stdout",
     "output_type": "stream",
     "text": [
      "Evaluating...\n"
     ]
    },
    {
     "name": "stderr",
     "output_type": "stream",
     "text": [
      "Iteration: 100%|████████████████████████████████████████████████████████████████████████████████████████████████████████████████████████████████████████████████████████████████████████████████████████████| 136/136 [00:12<00:00, 11.23it/s]\n",
      "Iteration:   0%|                                                                                                                                                                                                       | 0/16 [00:00<?, ?it/s]/opt/conda/envs/graphnn/lib/python3.9/site-packages/torch_geometric/data/storage.py:244: UserWarning: Unable to accurately infer 'num_nodes' from the attribute set '{'x_b', 'id', 'y', 'x_a', 'edge_index_a', 'edge_index_b', 'edge_attr_b', 'expression', 'edge_attr_a'}'. Please explicitly set 'num_nodes' as an attribute of 'data' to suppress this warning\n",
      "  warnings.warn(\n",
      "Iteration: 100%|██████████████████████████████████████████████████████████████████████████████████████████████████████████████████████████████████████████████████████████████████████████████████████████████| 16/16 [00:01<00:00, 12.41it/s]\n",
      "Iteration:   0%|                                                                                                                                                                                                       | 0/38 [00:00<?, ?it/s]/opt/conda/envs/graphnn/lib/python3.9/site-packages/torch_geometric/data/storage.py:244: UserWarning: Unable to accurately infer 'num_nodes' from the attribute set '{'x_b', 'id', 'y', 'x_a', 'edge_index_a', 'edge_index_b', 'edge_attr_b', 'expression', 'edge_attr_a'}'. Please explicitly set 'num_nodes' as an attribute of 'data' to suppress this warning\n",
      "  warnings.warn(\n",
      "Iteration: 100%|██████████████████████████████████████████████████████████████████████████████████████████████████████████████████████████████████████████████████████████████████████████████████████████████| 38/38 [00:03<00:00, 11.89it/s]\n"
     ]
    },
    {
     "name": "stdout",
     "output_type": "stream",
     "text": [
      "{'Train':  best_epoch_indx:4\n",
      " auc:0.7963279632724308 \n",
      " apur:0.27405494413869647 \n",
      " f1:0.18364628763939309 \n",
      " precision:0.10284009476732282 \n",
      " recall:0.8571428571428571 \n",
      ", 'Validation':  best_epoch_indx:4\n",
      " auc:0.7986201506101059 \n",
      " apur:0.2884476645887763 \n",
      " f1:0.18297271872060206 \n",
      " precision:0.10247629083245521 \n",
      " recall:0.8530701754385965 \n",
      ", 'Test':  best_epoch_indx:4\n",
      " auc:0.792012144265583 \n",
      " apur:0.2632236383989415 \n",
      " f1:0.18358390139135308 \n",
      " precision:0.10272755773853068 \n",
      " recall:0.862280701754386 \n",
      "}\n",
      "=====Epoch 5\n",
      "Training...\n"
     ]
    },
    {
     "name": "stderr",
     "output_type": "stream",
     "text": [
      "Iteration:   0%|                                                                                                                                                                                                      | 0/136 [00:00<?, ?it/s]/opt/conda/envs/graphnn/lib/python3.9/site-packages/torch_geometric/data/storage.py:244: UserWarning: Unable to accurately infer 'num_nodes' from the attribute set '{'x_b', 'id', 'y', 'x_a', 'edge_index_a', 'edge_index_b', 'edge_attr_b', 'expression', 'edge_attr_a'}'. Please explicitly set 'num_nodes' as an attribute of 'data' to suppress this warning\n",
      "  warnings.warn(\n",
      "Iteration: 100%|████████████████████████████████████████████████████████████████████████████████████████████████████████████████████████████████████████████████████████████████████████████████████████████| 136/136 [00:30<00:00,  4.41it/s]\n"
     ]
    },
    {
     "name": "stdout",
     "output_type": "stream",
     "text": [
      "Evaluating...\n"
     ]
    },
    {
     "name": "stderr",
     "output_type": "stream",
     "text": [
      "Iteration: 100%|████████████████████████████████████████████████████████████████████████████████████████████████████████████████████████████████████████████████████████████████████████████████████████████| 136/136 [00:11<00:00, 11.50it/s]\n",
      "Iteration:   0%|                                                                                                                                                                                                       | 0/16 [00:00<?, ?it/s]/opt/conda/envs/graphnn/lib/python3.9/site-packages/torch_geometric/data/storage.py:244: UserWarning: Unable to accurately infer 'num_nodes' from the attribute set '{'x_b', 'id', 'y', 'x_a', 'edge_index_a', 'edge_index_b', 'edge_attr_b', 'expression', 'edge_attr_a'}'. Please explicitly set 'num_nodes' as an attribute of 'data' to suppress this warning\n",
      "  warnings.warn(\n",
      "Iteration: 100%|██████████████████████████████████████████████████████████████████████████████████████████████████████████████████████████████████████████████████████████████████████████████████████████████| 16/16 [00:01<00:00, 12.34it/s]\n",
      "Iteration:   0%|                                                                                                                                                                                                       | 0/38 [00:00<?, ?it/s]/opt/conda/envs/graphnn/lib/python3.9/site-packages/torch_geometric/data/storage.py:244: UserWarning: Unable to accurately infer 'num_nodes' from the attribute set '{'x_b', 'id', 'y', 'x_a', 'edge_index_a', 'edge_index_b', 'edge_attr_b', 'expression', 'edge_attr_a'}'. Please explicitly set 'num_nodes' as an attribute of 'data' to suppress this warning\n",
      "  warnings.warn(\n",
      "Iteration: 100%|██████████████████████████████████████████████████████████████████████████████████████████████████████████████████████████████████████████████████████████████████████████████████████████████| 38/38 [00:03<00:00, 11.92it/s]\n"
     ]
    },
    {
     "name": "stdout",
     "output_type": "stream",
     "text": [
      "{'Train':  best_epoch_indx:5\n",
      " auc:0.8129977854779459 \n",
      " apur:0.28720015384965314 \n",
      " f1:0.25981820554081675 \n",
      " precision:0.15811762214811287 \n",
      " recall:0.7281813749390541 \n",
      ", 'Validation':  best_epoch_indx:5\n",
      " auc:0.8159892466119958 \n",
      " apur:0.31096186754125665 \n",
      " f1:0.26138147566718994 \n",
      " precision:0.15917782026768643 \n",
      " recall:0.7302631578947368 \n",
      ", 'Test':  best_epoch_indx:5\n",
      " auc:0.8084626584322857 \n",
      " apur:0.27179044151673537 \n",
      " f1:0.25474929928371226 \n",
      " precision:0.15486558121923513 \n",
      " recall:0.7175438596491228 \n",
      "}\n",
      "=====Epoch 6\n",
      "Training...\n"
     ]
    },
    {
     "name": "stderr",
     "output_type": "stream",
     "text": [
      "Iteration:   0%|                                                                                                                                                                                                      | 0/136 [00:00<?, ?it/s]/opt/conda/envs/graphnn/lib/python3.9/site-packages/torch_geometric/data/storage.py:244: UserWarning: Unable to accurately infer 'num_nodes' from the attribute set '{'x_b', 'id', 'y', 'x_a', 'edge_index_a', 'edge_index_b', 'edge_attr_b', 'expression', 'edge_attr_a'}'. Please explicitly set 'num_nodes' as an attribute of 'data' to suppress this warning\n",
      "  warnings.warn(\n",
      "Iteration: 100%|████████████████████████████████████████████████████████████████████████████████████████████████████████████████████████████████████████████████████████████████████████████████████████████| 136/136 [00:30<00:00,  4.45it/s]\n"
     ]
    },
    {
     "name": "stdout",
     "output_type": "stream",
     "text": [
      "Evaluating...\n"
     ]
    },
    {
     "name": "stderr",
     "output_type": "stream",
     "text": [
      "Iteration: 100%|████████████████████████████████████████████████████████████████████████████████████████████████████████████████████████████████████████████████████████████████████████████████████████████| 136/136 [00:11<00:00, 11.52it/s]\n",
      "Iteration:   0%|                                                                                                                                                                                                       | 0/16 [00:00<?, ?it/s]/opt/conda/envs/graphnn/lib/python3.9/site-packages/torch_geometric/data/storage.py:244: UserWarning: Unable to accurately infer 'num_nodes' from the attribute set '{'x_b', 'id', 'y', 'x_a', 'edge_index_a', 'edge_index_b', 'edge_attr_b', 'expression', 'edge_attr_a'}'. Please explicitly set 'num_nodes' as an attribute of 'data' to suppress this warning\n",
      "  warnings.warn(\n",
      "Iteration: 100%|██████████████████████████████████████████████████████████████████████████████████████████████████████████████████████████████████████████████████████████████████████████████████████████████| 16/16 [00:01<00:00, 12.27it/s]\n",
      "Iteration:   0%|                                                                                                                                                                                                       | 0/38 [00:00<?, ?it/s]/opt/conda/envs/graphnn/lib/python3.9/site-packages/torch_geometric/data/storage.py:244: UserWarning: Unable to accurately infer 'num_nodes' from the attribute set '{'x_b', 'id', 'y', 'x_a', 'edge_index_a', 'edge_index_b', 'edge_attr_b', 'expression', 'edge_attr_a'}'. Please explicitly set 'num_nodes' as an attribute of 'data' to suppress this warning\n",
      "  warnings.warn(\n",
      "Iteration: 100%|██████████████████████████████████████████████████████████████████████████████████████████████████████████████████████████████████████████████████████████████████████████████████████████████| 38/38 [00:03<00:00, 11.81it/s]\n"
     ]
    },
    {
     "name": "stdout",
     "output_type": "stream",
     "text": [
      "{'Train':  best_epoch_indx:6\n",
      " auc:0.8158319940747577 \n",
      " apur:0.2909583080428251 \n",
      " f1:0.20981542598704314 \n",
      " precision:0.11994270141848927 \n",
      " recall:0.8369088249634324 \n",
      ", 'Validation':  best_epoch_indx:6\n",
      " auc:0.818495899683256 \n",
      " apur:0.3143031786138791 \n",
      " f1:0.21003307607497243 \n",
      " precision:0.12011349306431274 \n",
      " recall:0.8355263157894737 \n",
      ", 'Test':  best_epoch_indx:6\n",
      " auc:0.8129933517498058 \n",
      " apur:0.27855910768151027 \n",
      " f1:0.20870327743066974 \n",
      " precision:0.11925341350369535 \n",
      " recall:0.8350877192982457 \n",
      "}\n",
      "=====Epoch 7\n",
      "Training...\n"
     ]
    },
    {
     "name": "stderr",
     "output_type": "stream",
     "text": [
      "Iteration:   0%|                                                                                                                                                                                                      | 0/136 [00:00<?, ?it/s]/opt/conda/envs/graphnn/lib/python3.9/site-packages/torch_geometric/data/storage.py:244: UserWarning: Unable to accurately infer 'num_nodes' from the attribute set '{'x_b', 'id', 'y', 'x_a', 'edge_index_a', 'edge_index_b', 'edge_attr_b', 'expression', 'edge_attr_a'}'. Please explicitly set 'num_nodes' as an attribute of 'data' to suppress this warning\n",
      "  warnings.warn(\n",
      "Iteration: 100%|████████████████████████████████████████████████████████████████████████████████████████████████████████████████████████████████████████████████████████████████████████████████████████████| 136/136 [00:30<00:00,  4.50it/s]\n"
     ]
    },
    {
     "name": "stdout",
     "output_type": "stream",
     "text": [
      "Evaluating...\n"
     ]
    },
    {
     "name": "stderr",
     "output_type": "stream",
     "text": [
      "Iteration: 100%|████████████████████████████████████████████████████████████████████████████████████████████████████████████████████████████████████████████████████████████████████████████████████████████| 136/136 [00:12<00:00, 11.20it/s]\n",
      "Iteration:   0%|                                                                                                                                                                                                       | 0/16 [00:00<?, ?it/s]/opt/conda/envs/graphnn/lib/python3.9/site-packages/torch_geometric/data/storage.py:244: UserWarning: Unable to accurately infer 'num_nodes' from the attribute set '{'x_b', 'id', 'y', 'x_a', 'edge_index_a', 'edge_index_b', 'edge_attr_b', 'expression', 'edge_attr_a'}'. Please explicitly set 'num_nodes' as an attribute of 'data' to suppress this warning\n",
      "  warnings.warn(\n",
      "Iteration: 100%|██████████████████████████████████████████████████████████████████████████████████████████████████████████████████████████████████████████████████████████████████████████████████████████████| 16/16 [00:01<00:00, 12.35it/s]\n",
      "Iteration:   0%|                                                                                                                                                                                                       | 0/38 [00:00<?, ?it/s]/opt/conda/envs/graphnn/lib/python3.9/site-packages/torch_geometric/data/storage.py:244: UserWarning: Unable to accurately infer 'num_nodes' from the attribute set '{'x_b', 'id', 'y', 'x_a', 'edge_index_a', 'edge_index_b', 'edge_attr_b', 'expression', 'edge_attr_a'}'. Please explicitly set 'num_nodes' as an attribute of 'data' to suppress this warning\n",
      "  warnings.warn(\n",
      "Iteration: 100%|██████████████████████████████████████████████████████████████████████████████████████████████████████████████████████████████████████████████████████████████████████████████████████████████| 38/38 [00:03<00:00, 11.86it/s]\n"
     ]
    },
    {
     "name": "stdout",
     "output_type": "stream",
     "text": [
      "{'Train':  best_epoch_indx:7\n",
      " auc:0.8212527849010537 \n",
      " apur:0.29503895067852437 \n",
      " f1:0.19410231792621038 \n",
      " precision:0.10935616480697308 \n",
      " recall:0.8625060945880059 \n",
      ", 'Validation':  best_epoch_indx:7\n",
      " auc:0.8214117407423478 \n",
      " apur:0.3088653969782589 \n",
      " f1:0.1934531134629584 \n",
      " precision:0.10895481009148877 \n",
      " recall:0.8618421052631579 \n",
      ", 'Test':  best_epoch_indx:7\n",
      " auc:0.8175419071173399 \n",
      " apur:0.27725153164888144 \n",
      " f1:0.1925911368772723 \n",
      " precision:0.10844306738962045 \n",
      " recall:0.8596491228070176 \n",
      "}\n",
      "=====Epoch 8\n",
      "Training...\n"
     ]
    },
    {
     "name": "stderr",
     "output_type": "stream",
     "text": [
      "Iteration:   0%|                                                                                                                                                                                                      | 0/136 [00:00<?, ?it/s]/opt/conda/envs/graphnn/lib/python3.9/site-packages/torch_geometric/data/storage.py:244: UserWarning: Unable to accurately infer 'num_nodes' from the attribute set '{'x_b', 'id', 'y', 'x_a', 'edge_index_a', 'edge_index_b', 'edge_attr_b', 'expression', 'edge_attr_a'}'. Please explicitly set 'num_nodes' as an attribute of 'data' to suppress this warning\n",
      "  warnings.warn(\n",
      "Iteration: 100%|████████████████████████████████████████████████████████████████████████████████████████████████████████████████████████████████████████████████████████████████████████████████████████████| 136/136 [00:30<00:00,  4.43it/s]\n"
     ]
    },
    {
     "name": "stdout",
     "output_type": "stream",
     "text": [
      "Evaluating...\n"
     ]
    },
    {
     "name": "stderr",
     "output_type": "stream",
     "text": [
      "Iteration: 100%|████████████████████████████████████████████████████████████████████████████████████████████████████████████████████████████████████████████████████████████████████████████████████████████| 136/136 [00:11<00:00, 11.61it/s]\n",
      "Iteration:   0%|                                                                                                                                                                                                       | 0/16 [00:00<?, ?it/s]/opt/conda/envs/graphnn/lib/python3.9/site-packages/torch_geometric/data/storage.py:244: UserWarning: Unable to accurately infer 'num_nodes' from the attribute set '{'x_b', 'id', 'y', 'x_a', 'edge_index_a', 'edge_index_b', 'edge_attr_b', 'expression', 'edge_attr_a'}'. Please explicitly set 'num_nodes' as an attribute of 'data' to suppress this warning\n",
      "  warnings.warn(\n",
      "Iteration: 100%|██████████████████████████████████████████████████████████████████████████████████████████████████████████████████████████████████████████████████████████████████████████████████████████████| 16/16 [00:01<00:00, 12.40it/s]\n",
      "Iteration:   0%|                                                                                                                                                                                                       | 0/38 [00:00<?, ?it/s]/opt/conda/envs/graphnn/lib/python3.9/site-packages/torch_geometric/data/storage.py:244: UserWarning: Unable to accurately infer 'num_nodes' from the attribute set '{'x_b', 'id', 'y', 'x_a', 'edge_index_a', 'edge_index_b', 'edge_attr_b', 'expression', 'edge_attr_a'}'. Please explicitly set 'num_nodes' as an attribute of 'data' to suppress this warning\n",
      "  warnings.warn(\n",
      "Iteration: 100%|██████████████████████████████████████████████████████████████████████████████████████████████████████████████████████████████████████████████████████████████████████████████████████████████| 38/38 [00:03<00:00, 11.95it/s]\n"
     ]
    },
    {
     "name": "stdout",
     "output_type": "stream",
     "text": [
      "{'Train':  best_epoch_indx:8\n",
      " auc:0.8240398409266007 \n",
      " apur:0.2984580536148213 \n",
      " f1:0.19097659705653702 \n",
      " precision:0.10728592512273727 \n",
      " recall:0.8683568990736226 \n",
      ", 'Validation':  best_epoch_indx:8\n",
      " auc:0.8241208785910916 \n",
      " apur:0.31105308710185986 \n",
      " f1:0.1907990314769976 \n",
      " precision:0.10724006532389765 \n",
      " recall:0.8640350877192983 \n",
      ", 'Test':  best_epoch_indx:8\n",
      " auc:0.8190239992671979 \n",
      " apur:0.287192593801859 \n",
      " f1:0.19029238637460197 \n",
      " precision:0.10690664642740974 \n",
      " recall:0.8649122807017544 \n",
      "}\n",
      "=====Epoch 9\n",
      "Training...\n"
     ]
    },
    {
     "name": "stderr",
     "output_type": "stream",
     "text": [
      "Iteration:   0%|                                                                                                                                                                                                      | 0/136 [00:00<?, ?it/s]/opt/conda/envs/graphnn/lib/python3.9/site-packages/torch_geometric/data/storage.py:244: UserWarning: Unable to accurately infer 'num_nodes' from the attribute set '{'x_b', 'id', 'y', 'x_a', 'edge_index_a', 'edge_index_b', 'edge_attr_b', 'expression', 'edge_attr_a'}'. Please explicitly set 'num_nodes' as an attribute of 'data' to suppress this warning\n",
      "  warnings.warn(\n",
      "Iteration: 100%|████████████████████████████████████████████████████████████████████████████████████████████████████████████████████████████████████████████████████████████████████████████████████████████| 136/136 [00:30<00:00,  4.43it/s]\n"
     ]
    },
    {
     "name": "stdout",
     "output_type": "stream",
     "text": [
      "Evaluating...\n"
     ]
    },
    {
     "name": "stderr",
     "output_type": "stream",
     "text": [
      "Iteration: 100%|████████████████████████████████████████████████████████████████████████████████████████████████████████████████████████████████████████████████████████████████████████████████████████████| 136/136 [00:11<00:00, 11.52it/s]\n",
      "Iteration:   0%|                                                                                                                                                                                                       | 0/16 [00:00<?, ?it/s]/opt/conda/envs/graphnn/lib/python3.9/site-packages/torch_geometric/data/storage.py:244: UserWarning: Unable to accurately infer 'num_nodes' from the attribute set '{'x_b', 'id', 'y', 'x_a', 'edge_index_a', 'edge_index_b', 'edge_attr_b', 'expression', 'edge_attr_a'}'. Please explicitly set 'num_nodes' as an attribute of 'data' to suppress this warning\n",
      "  warnings.warn(\n",
      "Iteration: 100%|██████████████████████████████████████████████████████████████████████████████████████████████████████████████████████████████████████████████████████████████████████████████████████████████| 16/16 [00:01<00:00, 12.35it/s]\n",
      "Iteration:   0%|                                                                                                                                                                                                       | 0/38 [00:00<?, ?it/s]/opt/conda/envs/graphnn/lib/python3.9/site-packages/torch_geometric/data/storage.py:244: UserWarning: Unable to accurately infer 'num_nodes' from the attribute set '{'x_b', 'id', 'y', 'x_a', 'edge_index_a', 'edge_index_b', 'edge_attr_b', 'expression', 'edge_attr_a'}'. Please explicitly set 'num_nodes' as an attribute of 'data' to suppress this warning\n",
      "  warnings.warn(\n",
      "Iteration: 100%|██████████████████████████████████████████████████████████████████████████████████████████████████████████████████████████████████████████████████████████████████████████████████████████████| 38/38 [00:03<00:00, 11.89it/s]\n"
     ]
    },
    {
     "name": "stdout",
     "output_type": "stream",
     "text": [
      "{'Train':  best_epoch_indx:9\n",
      " auc:0.824882345606872 \n",
      " apur:0.29833300504674753 \n",
      " f1:0.1992079207920792 \n",
      " precision:0.11267921146953405 \n",
      " recall:0.8583617747440273 \n",
      ", 'Validation':  best_epoch_indx:9\n",
      " auc:0.8242102189728236 \n",
      " apur:0.3130771300143256 \n",
      " f1:0.19954069915794845 \n",
      " precision:0.11290788333814612 \n",
      " recall:0.8574561403508771 \n",
      ", 'Test':  best_epoch_indx:9\n",
      " auc:0.8201078231440101 \n",
      " apur:0.28224555054090594 \n",
      " f1:0.19667170953101362 \n",
      " precision:0.1111111111111111 \n",
      " recall:0.8552631578947368 \n",
      "}\n",
      "=====Epoch 10\n",
      "Training...\n"
     ]
    },
    {
     "name": "stderr",
     "output_type": "stream",
     "text": [
      "Iteration:   0%|                                                                                                                                                                                                      | 0/136 [00:00<?, ?it/s]/opt/conda/envs/graphnn/lib/python3.9/site-packages/torch_geometric/data/storage.py:244: UserWarning: Unable to accurately infer 'num_nodes' from the attribute set '{'x_b', 'id', 'y', 'x_a', 'edge_index_a', 'edge_index_b', 'edge_attr_b', 'expression', 'edge_attr_a'}'. Please explicitly set 'num_nodes' as an attribute of 'data' to suppress this warning\n",
      "  warnings.warn(\n",
      "Iteration: 100%|████████████████████████████████████████████████████████████████████████████████████████████████████████████████████████████████████████████████████████████████████████████████████████████| 136/136 [00:30<00:00,  4.52it/s]\n"
     ]
    },
    {
     "name": "stdout",
     "output_type": "stream",
     "text": [
      "Evaluating...\n"
     ]
    },
    {
     "name": "stderr",
     "output_type": "stream",
     "text": [
      "Iteration: 100%|████████████████████████████████████████████████████████████████████████████████████████████████████████████████████████████████████████████████████████████████████████████████████████████| 136/136 [00:12<00:00, 11.11it/s]\n",
      "Iteration:   0%|                                                                                                                                                                                                       | 0/16 [00:00<?, ?it/s]/opt/conda/envs/graphnn/lib/python3.9/site-packages/torch_geometric/data/storage.py:244: UserWarning: Unable to accurately infer 'num_nodes' from the attribute set '{'x_b', 'id', 'y', 'x_a', 'edge_index_a', 'edge_index_b', 'edge_attr_b', 'expression', 'edge_attr_a'}'. Please explicitly set 'num_nodes' as an attribute of 'data' to suppress this warning\n",
      "  warnings.warn(\n",
      "Iteration: 100%|██████████████████████████████████████████████████████████████████████████████████████████████████████████████████████████████████████████████████████████████████████████████████████████████| 16/16 [00:01<00:00, 12.33it/s]\n",
      "Iteration:   0%|                                                                                                                                                                                                       | 0/38 [00:00<?, ?it/s]/opt/conda/envs/graphnn/lib/python3.9/site-packages/torch_geometric/data/storage.py:244: UserWarning: Unable to accurately infer 'num_nodes' from the attribute set '{'x_b', 'id', 'y', 'x_a', 'edge_index_a', 'edge_index_b', 'edge_attr_b', 'expression', 'edge_attr_a'}'. Please explicitly set 'num_nodes' as an attribute of 'data' to suppress this warning\n",
      "  warnings.warn(\n",
      "Iteration: 100%|██████████████████████████████████████████████████████████████████████████████████████████████████████████████████████████████████████████████████████████████████████████████████████████████| 38/38 [00:03<00:00, 11.80it/s]\n"
     ]
    },
    {
     "name": "stdout",
     "output_type": "stream",
     "text": [
      "{'Train':  best_epoch_indx:10\n",
      " auc:0.8259655223108444 \n",
      " apur:0.3043066585430386 \n",
      " f1:0.20665976024863106 \n",
      " precision:0.11760940605733922 \n",
      " recall:0.8510482691370064 \n",
      ", 'Validation':  best_epoch_indx:10\n",
      " auc:0.8290754279901458 \n",
      " apur:0.31824987279021666 \n",
      " f1:0.20761245674740486 \n",
      " precision:0.11814601635867919 \n",
      " recall:0.8552631578947368 \n",
      ", 'Test':  best_epoch_indx:10\n",
      " auc:0.822814345564378 \n",
      " apur:0.2898615652085906 \n",
      " f1:0.2042409536870978 \n",
      " precision:0.1160810648758844 \n",
      " recall:0.8491228070175438 \n",
      "}\n",
      "=====Epoch 11\n",
      "Training...\n"
     ]
    },
    {
     "name": "stderr",
     "output_type": "stream",
     "text": [
      "Iteration:   0%|                                                                                                                                                                                                      | 0/136 [00:00<?, ?it/s]/opt/conda/envs/graphnn/lib/python3.9/site-packages/torch_geometric/data/storage.py:244: UserWarning: Unable to accurately infer 'num_nodes' from the attribute set '{'x_b', 'id', 'y', 'x_a', 'edge_index_a', 'edge_index_b', 'edge_attr_b', 'expression', 'edge_attr_a'}'. Please explicitly set 'num_nodes' as an attribute of 'data' to suppress this warning\n",
      "  warnings.warn(\n",
      "Iteration: 100%|████████████████████████████████████████████████████████████████████████████████████████████████████████████████████████████████████████████████████████████████████████████████████████████| 136/136 [00:30<00:00,  4.43it/s]\n"
     ]
    },
    {
     "name": "stdout",
     "output_type": "stream",
     "text": [
      "Evaluating...\n"
     ]
    },
    {
     "name": "stderr",
     "output_type": "stream",
     "text": [
      "Iteration: 100%|████████████████████████████████████████████████████████████████████████████████████████████████████████████████████████████████████████████████████████████████████████████████████████████| 136/136 [00:11<00:00, 11.57it/s]\n",
      "Iteration:   0%|                                                                                                                                                                                                       | 0/16 [00:00<?, ?it/s]/opt/conda/envs/graphnn/lib/python3.9/site-packages/torch_geometric/data/storage.py:244: UserWarning: Unable to accurately infer 'num_nodes' from the attribute set '{'x_b', 'id', 'y', 'x_a', 'edge_index_a', 'edge_index_b', 'edge_attr_b', 'expression', 'edge_attr_a'}'. Please explicitly set 'num_nodes' as an attribute of 'data' to suppress this warning\n",
      "  warnings.warn(\n",
      "Iteration: 100%|██████████████████████████████████████████████████████████████████████████████████████████████████████████████████████████████████████████████████████████████████████████████████████████████| 16/16 [00:01<00:00, 12.23it/s]\n",
      "Iteration:   0%|                                                                                                                                                                                                       | 0/38 [00:00<?, ?it/s]/opt/conda/envs/graphnn/lib/python3.9/site-packages/torch_geometric/data/storage.py:244: UserWarning: Unable to accurately infer 'num_nodes' from the attribute set '{'x_b', 'id', 'y', 'x_a', 'edge_index_a', 'edge_index_b', 'edge_attr_b', 'expression', 'edge_attr_a'}'. Please explicitly set 'num_nodes' as an attribute of 'data' to suppress this warning\n",
      "  warnings.warn(\n",
      "Iteration: 100%|██████████████████████████████████████████████████████████████████████████████████████████████████████████████████████████████████████████████████████████████████████████████████████████████| 38/38 [00:03<00:00, 10.70it/s]\n"
     ]
    },
    {
     "name": "stdout",
     "output_type": "stream",
     "text": [
      "{'Train':  best_epoch_indx:11\n",
      " auc:0.8277286745248083 \n",
      " apur:0.30366246086883963 \n",
      " f1:0.20995277878677807 \n",
      " precision:0.11985898942420682 \n",
      " recall:0.8454412481716236 \n",
      ", 'Validation':  best_epoch_indx:11\n",
      " auc:0.8246035878374143 \n",
      " apur:0.31614291973739433 \n",
      " f1:0.20892274211099018 \n",
      " precision:0.11925465838509317 \n",
      " recall:0.8421052631578947 \n",
      ", 'Test':  best_epoch_indx:11\n",
      " auc:0.8228860348177396 \n",
      " apur:0.2883447741448468 \n",
      " f1:0.20656057161416044 \n",
      " precision:0.11782141533901445 \n",
      " recall:0.8368421052631579 \n",
      "}\n",
      "=====Epoch 12\n",
      "Training...\n"
     ]
    },
    {
     "name": "stderr",
     "output_type": "stream",
     "text": [
      "Iteration:   0%|                                                                                                                                                                                                      | 0/136 [00:00<?, ?it/s]/opt/conda/envs/graphnn/lib/python3.9/site-packages/torch_geometric/data/storage.py:244: UserWarning: Unable to accurately infer 'num_nodes' from the attribute set '{'x_b', 'id', 'y', 'x_a', 'edge_index_a', 'edge_index_b', 'edge_attr_b', 'expression', 'edge_attr_a'}'. Please explicitly set 'num_nodes' as an attribute of 'data' to suppress this warning\n",
      "  warnings.warn(\n",
      "Iteration: 100%|████████████████████████████████████████████████████████████████████████████████████████████████████████████████████████████████████████████████████████████████████████████████████████████| 136/136 [00:30<00:00,  4.48it/s]\n"
     ]
    },
    {
     "name": "stdout",
     "output_type": "stream",
     "text": [
      "Evaluating...\n"
     ]
    },
    {
     "name": "stderr",
     "output_type": "stream",
     "text": [
      "Iteration: 100%|████████████████████████████████████████████████████████████████████████████████████████████████████████████████████████████████████████████████████████████████████████████████████████████| 136/136 [00:11<00:00, 11.50it/s]\n",
      "Iteration:   0%|                                                                                                                                                                                                       | 0/16 [00:00<?, ?it/s]/opt/conda/envs/graphnn/lib/python3.9/site-packages/torch_geometric/data/storage.py:244: UserWarning: Unable to accurately infer 'num_nodes' from the attribute set '{'x_b', 'id', 'y', 'x_a', 'edge_index_a', 'edge_index_b', 'edge_attr_b', 'expression', 'edge_attr_a'}'. Please explicitly set 'num_nodes' as an attribute of 'data' to suppress this warning\n",
      "  warnings.warn(\n",
      "Iteration: 100%|██████████████████████████████████████████████████████████████████████████████████████████████████████████████████████████████████████████████████████████████████████████████████████████████| 16/16 [00:01<00:00, 12.29it/s]\n",
      "Iteration:   0%|                                                                                                                                                                                                       | 0/38 [00:00<?, ?it/s]/opt/conda/envs/graphnn/lib/python3.9/site-packages/torch_geometric/data/storage.py:244: UserWarning: Unable to accurately infer 'num_nodes' from the attribute set '{'x_b', 'id', 'y', 'x_a', 'edge_index_a', 'edge_index_b', 'edge_attr_b', 'expression', 'edge_attr_a'}'. Please explicitly set 'num_nodes' as an attribute of 'data' to suppress this warning\n",
      "  warnings.warn(\n",
      "Iteration: 100%|██████████████████████████████████████████████████████████████████████████████████████████████████████████████████████████████████████████████████████████████████████████████████████████████| 38/38 [00:03<00:00, 11.88it/s]\n"
     ]
    },
    {
     "name": "stdout",
     "output_type": "stream",
     "text": [
      "{'Train':  best_epoch_indx:12\n",
      " auc:0.8271006621234847 \n",
      " apur:0.30978615453641944 \n",
      " f1:0.22140581312178945 \n",
      " precision:0.12773859543817526 \n",
      " recall:0.8300828863968795 \n",
      ", 'Validation':  best_epoch_indx:12\n",
      " auc:0.8248916465387156 \n",
      " apur:0.32083361268242216 \n",
      " f1:0.22183304144775248 \n",
      " precision:0.12794612794612795 \n",
      " recall:0.8333333333333334 \n",
      ", 'Test':  best_epoch_indx:12\n",
      " auc:0.8216720421554022 \n",
      " apur:0.288820319486919 \n",
      " f1:0.21726052753354927 \n",
      " precision:0.12513326226012794 \n",
      " recall:0.8236842105263158 \n",
      "}\n",
      "=====Epoch 13\n",
      "Training...\n"
     ]
    },
    {
     "name": "stderr",
     "output_type": "stream",
     "text": [
      "Iteration:   0%|                                                                                                                                                                                                      | 0/136 [00:00<?, ?it/s]/opt/conda/envs/graphnn/lib/python3.9/site-packages/torch_geometric/data/storage.py:244: UserWarning: Unable to accurately infer 'num_nodes' from the attribute set '{'x_b', 'id', 'y', 'x_a', 'edge_index_a', 'edge_index_b', 'edge_attr_b', 'expression', 'edge_attr_a'}'. Please explicitly set 'num_nodes' as an attribute of 'data' to suppress this warning\n",
      "  warnings.warn(\n",
      "Iteration: 100%|████████████████████████████████████████████████████████████████████████████████████████████████████████████████████████████████████████████████████████████████████████████████████████████| 136/136 [00:30<00:00,  4.46it/s]\n"
     ]
    },
    {
     "name": "stdout",
     "output_type": "stream",
     "text": [
      "Evaluating...\n"
     ]
    },
    {
     "name": "stderr",
     "output_type": "stream",
     "text": [
      "Iteration: 100%|████████████████████████████████████████████████████████████████████████████████████████████████████████████████████████████████████████████████████████████████████████████████████████████| 136/136 [00:12<00:00, 11.20it/s]\n",
      "Iteration:   0%|                                                                                                                                                                                                       | 0/16 [00:00<?, ?it/s]/opt/conda/envs/graphnn/lib/python3.9/site-packages/torch_geometric/data/storage.py:244: UserWarning: Unable to accurately infer 'num_nodes' from the attribute set '{'x_b', 'id', 'y', 'x_a', 'edge_index_a', 'edge_index_b', 'edge_attr_b', 'expression', 'edge_attr_a'}'. Please explicitly set 'num_nodes' as an attribute of 'data' to suppress this warning\n",
      "  warnings.warn(\n",
      "Iteration: 100%|██████████████████████████████████████████████████████████████████████████████████████████████████████████████████████████████████████████████████████████████████████████████████████████████| 16/16 [00:01<00:00, 12.35it/s]\n",
      "Iteration:   0%|                                                                                                                                                                                                       | 0/38 [00:00<?, ?it/s]/opt/conda/envs/graphnn/lib/python3.9/site-packages/torch_geometric/data/storage.py:244: UserWarning: Unable to accurately infer 'num_nodes' from the attribute set '{'x_b', 'id', 'y', 'x_a', 'edge_index_a', 'edge_index_b', 'edge_attr_b', 'expression', 'edge_attr_a'}'. Please explicitly set 'num_nodes' as an attribute of 'data' to suppress this warning\n",
      "  warnings.warn(\n",
      "Iteration: 100%|██████████████████████████████████████████████████████████████████████████████████████████████████████████████████████████████████████████████████████████████████████████████████████████████| 38/38 [00:03<00:00, 11.89it/s]\n"
     ]
    },
    {
     "name": "stdout",
     "output_type": "stream",
     "text": [
      "{'Train':  best_epoch_indx:13\n",
      " auc:0.8325020395934212 \n",
      " apur:0.31688509693380706 \n",
      " f1:0.18566766874791232 \n",
      " precision:0.10377114627911653 \n",
      " recall:0.8807898586055583 \n",
      ", 'Validation':  best_epoch_indx:13\n",
      " auc:0.8308369250276006 \n",
      " apur:0.33696210148139355 \n",
      " f1:0.18512548929311537 \n",
      " precision:0.10342166195009005 \n",
      " recall:0.881578947368421 \n",
      ", 'Test':  best_epoch_indx:13\n",
      " auc:0.8281561350477045 \n",
      " apur:0.29987784420230135 \n",
      " f1:0.1846946284032377 \n",
      " precision:0.10316481709823264 \n",
      " recall:0.8807017543859649 \n",
      "}\n",
      "=====Epoch 14\n",
      "Training...\n"
     ]
    },
    {
     "name": "stderr",
     "output_type": "stream",
     "text": [
      "Iteration:   0%|                                                                                                                                                                                                      | 0/136 [00:00<?, ?it/s]/opt/conda/envs/graphnn/lib/python3.9/site-packages/torch_geometric/data/storage.py:244: UserWarning: Unable to accurately infer 'num_nodes' from the attribute set '{'x_b', 'id', 'y', 'x_a', 'edge_index_a', 'edge_index_b', 'edge_attr_b', 'expression', 'edge_attr_a'}'. Please explicitly set 'num_nodes' as an attribute of 'data' to suppress this warning\n",
      "  warnings.warn(\n",
      "Iteration: 100%|████████████████████████████████████████████████████████████████████████████████████████████████████████████████████████████████████████████████████████████████████████████████████████████| 136/136 [00:30<00:00,  4.43it/s]\n"
     ]
    },
    {
     "name": "stdout",
     "output_type": "stream",
     "text": [
      "Evaluating...\n"
     ]
    },
    {
     "name": "stderr",
     "output_type": "stream",
     "text": [
      "Iteration: 100%|████████████████████████████████████████████████████████████████████████████████████████████████████████████████████████████████████████████████████████████████████████████████████████████| 136/136 [00:11<00:00, 11.47it/s]\n",
      "Iteration:   0%|                                                                                                                                                                                                       | 0/16 [00:00<?, ?it/s]/opt/conda/envs/graphnn/lib/python3.9/site-packages/torch_geometric/data/storage.py:244: UserWarning: Unable to accurately infer 'num_nodes' from the attribute set '{'x_b', 'id', 'y', 'x_a', 'edge_index_a', 'edge_index_b', 'edge_attr_b', 'expression', 'edge_attr_a'}'. Please explicitly set 'num_nodes' as an attribute of 'data' to suppress this warning\n",
      "  warnings.warn(\n",
      "Iteration: 100%|██████████████████████████████████████████████████████████████████████████████████████████████████████████████████████████████████████████████████████████████████████████████████████████████| 16/16 [00:01<00:00, 12.29it/s]\n",
      "Iteration:   0%|                                                                                                                                                                                                       | 0/38 [00:00<?, ?it/s]/opt/conda/envs/graphnn/lib/python3.9/site-packages/torch_geometric/data/storage.py:244: UserWarning: Unable to accurately infer 'num_nodes' from the attribute set '{'x_b', 'id', 'y', 'x_a', 'edge_index_a', 'edge_index_b', 'edge_attr_b', 'expression', 'edge_attr_a'}'. Please explicitly set 'num_nodes' as an attribute of 'data' to suppress this warning\n",
      "  warnings.warn(\n",
      "Iteration: 100%|██████████████████████████████████████████████████████████████████████████████████████████████████████████████████████████████████████████████████████████████████████████████████████████████| 38/38 [00:03<00:00, 10.74it/s]\n"
     ]
    },
    {
     "name": "stdout",
     "output_type": "stream",
     "text": [
      "{'Train':  best_epoch_indx:14\n",
      " auc:0.8348536517282575 \n",
      " apur:0.32961695000973323 \n",
      " f1:0.21898272856916493 \n",
      " precision:0.12585145521436636 \n",
      " recall:0.8422720624085812 \n",
      ", 'Validation':  best_epoch_indx:14\n",
      " auc:0.8291837513197667 \n",
      " apur:0.3431405655483033 \n",
      " f1:0.2189739180280883 \n",
      " precision:0.12594790636333664 \n",
      " recall:0.8377192982456141 \n",
      ", 'Test':  best_epoch_indx:14\n",
      " auc:0.8307416246028647 \n",
      " apur:0.3115408678280243 \n",
      " f1:0.21550650820599887 \n",
      " precision:0.12371669915529565 \n",
      " recall:0.8350877192982457 \n",
      "}\n",
      "=====Epoch 15\n",
      "Training...\n"
     ]
    },
    {
     "name": "stderr",
     "output_type": "stream",
     "text": [
      "Iteration:   0%|                                                                                                                                                                                                      | 0/136 [00:00<?, ?it/s]/opt/conda/envs/graphnn/lib/python3.9/site-packages/torch_geometric/data/storage.py:244: UserWarning: Unable to accurately infer 'num_nodes' from the attribute set '{'x_b', 'id', 'y', 'x_a', 'edge_index_a', 'edge_index_b', 'edge_attr_b', 'expression', 'edge_attr_a'}'. Please explicitly set 'num_nodes' as an attribute of 'data' to suppress this warning\n",
      "  warnings.warn(\n",
      "Iteration: 100%|████████████████████████████████████████████████████████████████████████████████████████████████████████████████████████████████████████████████████████████████████████████████████████████| 136/136 [00:30<00:00,  4.50it/s]\n"
     ]
    },
    {
     "name": "stdout",
     "output_type": "stream",
     "text": [
      "Evaluating...\n"
     ]
    },
    {
     "name": "stderr",
     "output_type": "stream",
     "text": [
      "Iteration: 100%|████████████████████████████████████████████████████████████████████████████████████████████████████████████████████████████████████████████████████████████████████████████████████████████| 136/136 [00:11<00:00, 11.54it/s]\n",
      "Iteration:   0%|                                                                                                                                                                                                       | 0/16 [00:00<?, ?it/s]/opt/conda/envs/graphnn/lib/python3.9/site-packages/torch_geometric/data/storage.py:244: UserWarning: Unable to accurately infer 'num_nodes' from the attribute set '{'x_b', 'id', 'y', 'x_a', 'edge_index_a', 'edge_index_b', 'edge_attr_b', 'expression', 'edge_attr_a'}'. Please explicitly set 'num_nodes' as an attribute of 'data' to suppress this warning\n",
      "  warnings.warn(\n",
      "Iteration: 100%|██████████████████████████████████████████████████████████████████████████████████████████████████████████████████████████████████████████████████████████████████████████████████████████████| 16/16 [00:01<00:00, 12.13it/s]\n",
      "Iteration:   0%|                                                                                                                                                                                                       | 0/38 [00:00<?, ?it/s]/opt/conda/envs/graphnn/lib/python3.9/site-packages/torch_geometric/data/storage.py:244: UserWarning: Unable to accurately infer 'num_nodes' from the attribute set '{'x_b', 'id', 'y', 'x_a', 'edge_index_a', 'edge_index_b', 'edge_attr_b', 'expression', 'edge_attr_a'}'. Please explicitly set 'num_nodes' as an attribute of 'data' to suppress this warning\n",
      "  warnings.warn(\n",
      "Iteration: 100%|██████████████████████████████████████████████████████████████████████████████████████████████████████████████████████████████████████████████████████████████████████████████████████████████| 38/38 [00:03<00:00, 11.79it/s]\n"
     ]
    },
    {
     "name": "stdout",
     "output_type": "stream",
     "text": [
      "{'Train':  best_epoch_indx:15\n",
      " auc:0.8334806406109847 \n",
      " apur:0.3135576029643683 \n",
      " f1:0.1873866404104265 \n",
      " precision:0.10483590397773397 \n",
      " recall:0.8815212091662603 \n",
      ", 'Validation':  best_epoch_indx:15\n",
      " auc:0.824217299913703 \n",
      " apur:0.3196607674019353 \n",
      " f1:0.18509949097639983 \n",
      " precision:0.10346611484738748 \n",
      " recall:0.8771929824561403 \n",
      ", 'Test':  best_epoch_indx:15\n",
      " auc:0.8273802326646514 \n",
      " apur:0.29420819438108137 \n",
      " f1:0.18634357095895557 \n",
      " precision:0.10434416745555906 \n",
      " recall:0.8701754385964913 \n",
      "}\n",
      "=====Epoch 16\n",
      "Training...\n"
     ]
    },
    {
     "name": "stderr",
     "output_type": "stream",
     "text": [
      "Iteration:   0%|                                                                                                                                                                                                      | 0/136 [00:00<?, ?it/s]/opt/conda/envs/graphnn/lib/python3.9/site-packages/torch_geometric/data/storage.py:244: UserWarning: Unable to accurately infer 'num_nodes' from the attribute set '{'x_b', 'id', 'y', 'x_a', 'edge_index_a', 'edge_index_b', 'edge_attr_b', 'expression', 'edge_attr_a'}'. Please explicitly set 'num_nodes' as an attribute of 'data' to suppress this warning\n",
      "  warnings.warn(\n",
      "Iteration: 100%|████████████████████████████████████████████████████████████████████████████████████████████████████████████████████████████████████████████████████████████████████████████████████████████| 136/136 [00:30<00:00,  4.48it/s]\n"
     ]
    },
    {
     "name": "stdout",
     "output_type": "stream",
     "text": [
      "Evaluating...\n"
     ]
    },
    {
     "name": "stderr",
     "output_type": "stream",
     "text": [
      "Iteration: 100%|████████████████████████████████████████████████████████████████████████████████████████████████████████████████████████████████████████████████████████████████████████████████████████████| 136/136 [00:12<00:00, 11.16it/s]\n",
      "Iteration:   0%|                                                                                                                                                                                                       | 0/16 [00:00<?, ?it/s]/opt/conda/envs/graphnn/lib/python3.9/site-packages/torch_geometric/data/storage.py:244: UserWarning: Unable to accurately infer 'num_nodes' from the attribute set '{'x_b', 'id', 'y', 'x_a', 'edge_index_a', 'edge_index_b', 'edge_attr_b', 'expression', 'edge_attr_a'}'. Please explicitly set 'num_nodes' as an attribute of 'data' to suppress this warning\n",
      "  warnings.warn(\n",
      "Iteration: 100%|██████████████████████████████████████████████████████████████████████████████████████████████████████████████████████████████████████████████████████████████████████████████████████████████| 16/16 [00:01<00:00, 12.22it/s]\n",
      "Iteration:   0%|                                                                                                                                                                                                       | 0/38 [00:00<?, ?it/s]/opt/conda/envs/graphnn/lib/python3.9/site-packages/torch_geometric/data/storage.py:244: UserWarning: Unable to accurately infer 'num_nodes' from the attribute set '{'x_b', 'id', 'y', 'x_a', 'edge_index_a', 'edge_index_b', 'edge_attr_b', 'expression', 'edge_attr_a'}'. Please explicitly set 'num_nodes' as an attribute of 'data' to suppress this warning\n",
      "  warnings.warn(\n",
      "Iteration: 100%|██████████████████████████████████████████████████████████████████████████████████████████████████████████████████████████████████████████████████████████████████████████████████████████████| 38/38 [00:03<00:00, 11.88it/s]\n"
     ]
    },
    {
     "name": "stdout",
     "output_type": "stream",
     "text": [
      "{'Train':  best_epoch_indx:16\n",
      " auc:0.8418629489989988 \n",
      " apur:0.3464258655734564 \n",
      " f1:0.1811190342914162 \n",
      " precision:0.10060291453754022 \n",
      " recall:0.9071184787908337 \n",
      ", 'Validation':  best_epoch_indx:16\n",
      " auc:0.8420980315586988 \n",
      " apur:0.3625144050919593 \n",
      " f1:0.1774087830456631 \n",
      " precision:0.09851977675321524 \n",
      " recall:0.8903508771929824 \n",
      ", 'Test':  best_epoch_indx:16\n",
      " auc:0.8417370301268423 \n",
      " apur:0.33609778202467905 \n",
      " f1:0.17897950283471434 \n",
      " precision:0.09937046004842615 \n",
      " recall:0.9 \n",
      "}\n",
      "=====Epoch 17\n",
      "Training...\n"
     ]
    },
    {
     "name": "stderr",
     "output_type": "stream",
     "text": [
      "Iteration:   0%|                                                                                                                                                                                                      | 0/136 [00:00<?, ?it/s]/opt/conda/envs/graphnn/lib/python3.9/site-packages/torch_geometric/data/storage.py:244: UserWarning: Unable to accurately infer 'num_nodes' from the attribute set '{'x_b', 'id', 'y', 'x_a', 'edge_index_a', 'edge_index_b', 'edge_attr_b', 'expression', 'edge_attr_a'}'. Please explicitly set 'num_nodes' as an attribute of 'data' to suppress this warning\n",
      "  warnings.warn(\n",
      "Iteration: 100%|████████████████████████████████████████████████████████████████████████████████████████████████████████████████████████████████████████████████████████████████████████████████████████████| 136/136 [00:30<00:00,  4.40it/s]\n"
     ]
    },
    {
     "name": "stdout",
     "output_type": "stream",
     "text": [
      "Evaluating...\n"
     ]
    },
    {
     "name": "stderr",
     "output_type": "stream",
     "text": [
      "Iteration: 100%|████████████████████████████████████████████████████████████████████████████████████████████████████████████████████████████████████████████████████████████████████████████████████████████| 136/136 [00:11<00:00, 11.55it/s]\n",
      "Iteration:   0%|                                                                                                                                                                                                       | 0/16 [00:00<?, ?it/s]/opt/conda/envs/graphnn/lib/python3.9/site-packages/torch_geometric/data/storage.py:244: UserWarning: Unable to accurately infer 'num_nodes' from the attribute set '{'x_b', 'id', 'y', 'x_a', 'edge_index_a', 'edge_index_b', 'edge_attr_b', 'expression', 'edge_attr_a'}'. Please explicitly set 'num_nodes' as an attribute of 'data' to suppress this warning\n",
      "  warnings.warn(\n",
      "Iteration: 100%|██████████████████████████████████████████████████████████████████████████████████████████████████████████████████████████████████████████████████████████████████████████████████████████████| 16/16 [00:01<00:00, 12.32it/s]\n",
      "Iteration:   0%|                                                                                                                                                                                                       | 0/38 [00:00<?, ?it/s]/opt/conda/envs/graphnn/lib/python3.9/site-packages/torch_geometric/data/storage.py:244: UserWarning: Unable to accurately infer 'num_nodes' from the attribute set '{'x_b', 'id', 'y', 'x_a', 'edge_index_a', 'edge_index_b', 'edge_attr_b', 'expression', 'edge_attr_a'}'. Please explicitly set 'num_nodes' as an attribute of 'data' to suppress this warning\n",
      "  warnings.warn(\n",
      "Iteration: 100%|██████████████████████████████████████████████████████████████████████████████████████████████████████████████████████████████████████████████████████████████████████████████████████████████| 38/38 [00:03<00:00, 10.82it/s]\n"
     ]
    },
    {
     "name": "stdout",
     "output_type": "stream",
     "text": [
      "{'Train':  best_epoch_indx:17\n",
      " auc:0.8440286678254137 \n",
      " apur:0.374453508684778 \n",
      " f1:0.2126368396001904 \n",
      " precision:0.12109507352442908 \n",
      " recall:0.871282301316431 \n",
      ", 'Validation':  best_epoch_indx:17\n",
      " auc:0.8436713563587452 \n",
      " apur:0.3845563611668023 \n",
      " f1:0.21193470698421193 \n",
      " precision:0.12069491008838769 \n",
      " recall:0.868421052631579 \n",
      ", 'Test':  best_epoch_indx:17\n",
      " auc:0.8441988834410842 \n",
      " apur:0.3640499404381484 \n",
      " f1:0.20974418851501964 \n",
      " precision:0.11930926216640503 \n",
      " recall:0.8666666666666667 \n",
      "}\n",
      "=====Epoch 18\n",
      "Training...\n"
     ]
    },
    {
     "name": "stderr",
     "output_type": "stream",
     "text": [
      "Iteration:   0%|                                                                                                                                                                                                      | 0/136 [00:00<?, ?it/s]/opt/conda/envs/graphnn/lib/python3.9/site-packages/torch_geometric/data/storage.py:244: UserWarning: Unable to accurately infer 'num_nodes' from the attribute set '{'x_b', 'id', 'y', 'x_a', 'edge_index_a', 'edge_index_b', 'edge_attr_b', 'expression', 'edge_attr_a'}'. Please explicitly set 'num_nodes' as an attribute of 'data' to suppress this warning\n",
      "  warnings.warn(\n",
      "Iteration: 100%|████████████████████████████████████████████████████████████████████████████████████████████████████████████████████████████████████████████████████████████████████████████████████████████| 136/136 [00:30<00:00,  4.49it/s]\n"
     ]
    },
    {
     "name": "stdout",
     "output_type": "stream",
     "text": [
      "Evaluating...\n"
     ]
    },
    {
     "name": "stderr",
     "output_type": "stream",
     "text": [
      "Iteration: 100%|████████████████████████████████████████████████████████████████████████████████████████████████████████████████████████████████████████████████████████████████████████████████████████████| 136/136 [00:11<00:00, 11.46it/s]\n",
      "Iteration:   0%|                                                                                                                                                                                                       | 0/16 [00:00<?, ?it/s]/opt/conda/envs/graphnn/lib/python3.9/site-packages/torch_geometric/data/storage.py:244: UserWarning: Unable to accurately infer 'num_nodes' from the attribute set '{'x_b', 'id', 'y', 'x_a', 'edge_index_a', 'edge_index_b', 'edge_attr_b', 'expression', 'edge_attr_a'}'. Please explicitly set 'num_nodes' as an attribute of 'data' to suppress this warning\n",
      "  warnings.warn(\n",
      "Iteration: 100%|██████████████████████████████████████████████████████████████████████████████████████████████████████████████████████████████████████████████████████████████████████████████████████████████| 16/16 [00:01<00:00, 12.22it/s]\n",
      "Iteration:   0%|                                                                                                                                                                                                       | 0/38 [00:00<?, ?it/s]/opt/conda/envs/graphnn/lib/python3.9/site-packages/torch_geometric/data/storage.py:244: UserWarning: Unable to accurately infer 'num_nodes' from the attribute set '{'x_b', 'id', 'y', 'x_a', 'edge_index_a', 'edge_index_b', 'edge_attr_b', 'expression', 'edge_attr_a'}'. Please explicitly set 'num_nodes' as an attribute of 'data' to suppress this warning\n",
      "  warnings.warn(\n",
      "Iteration: 100%|██████████████████████████████████████████████████████████████████████████████████████████████████████████████████████████████████████████████████████████████████████████████████████████████| 38/38 [00:03<00:00, 11.81it/s]\n"
     ]
    },
    {
     "name": "stdout",
     "output_type": "stream",
     "text": [
      "{'Train':  best_epoch_indx:18\n",
      " auc:0.8446975632813635 \n",
      " apur:0.36626518441524936 \n",
      " f1:0.20333570919458305 \n",
      " precision:0.11513253478836406 \n",
      " recall:0.8693320331545588 \n",
      ", 'Validation':  best_epoch_indx:18\n",
      " auc:0.8436452924699769 \n",
      " apur:0.3756853778166246 \n",
      " f1:0.2052334530528476 \n",
      " precision:0.11621150493898896 \n",
      " recall:0.8771929824561403 \n",
      ", 'Test':  best_epoch_indx:18\n",
      " auc:0.8440643998013722 \n",
      " apur:0.3530009118660678 \n",
      " f1:0.2010592788755347 \n",
      " precision:0.11373588384420373 \n",
      " recall:0.8657894736842106 \n",
      "}\n",
      "=====Epoch 19\n",
      "Training...\n"
     ]
    },
    {
     "name": "stderr",
     "output_type": "stream",
     "text": [
      "Iteration:   0%|                                                                                                                                                                                                      | 0/136 [00:00<?, ?it/s]/opt/conda/envs/graphnn/lib/python3.9/site-packages/torch_geometric/data/storage.py:244: UserWarning: Unable to accurately infer 'num_nodes' from the attribute set '{'x_b', 'id', 'y', 'x_a', 'edge_index_a', 'edge_index_b', 'edge_attr_b', 'expression', 'edge_attr_a'}'. Please explicitly set 'num_nodes' as an attribute of 'data' to suppress this warning\n",
      "  warnings.warn(\n",
      "Iteration: 100%|████████████████████████████████████████████████████████████████████████████████████████████████████████████████████████████████████████████████████████████████████████████████████████████| 136/136 [00:30<00:00,  4.50it/s]\n"
     ]
    },
    {
     "name": "stdout",
     "output_type": "stream",
     "text": [
      "Evaluating...\n"
     ]
    },
    {
     "name": "stderr",
     "output_type": "stream",
     "text": [
      "Iteration: 100%|████████████████████████████████████████████████████████████████████████████████████████████████████████████████████████████████████████████████████████████████████████████████████████████| 136/136 [00:12<00:00, 11.15it/s]\n",
      "Iteration:   0%|                                                                                                                                                                                                       | 0/16 [00:00<?, ?it/s]/opt/conda/envs/graphnn/lib/python3.9/site-packages/torch_geometric/data/storage.py:244: UserWarning: Unable to accurately infer 'num_nodes' from the attribute set '{'x_b', 'id', 'y', 'x_a', 'edge_index_a', 'edge_index_b', 'edge_attr_b', 'expression', 'edge_attr_a'}'. Please explicitly set 'num_nodes' as an attribute of 'data' to suppress this warning\n",
      "  warnings.warn(\n",
      "Iteration: 100%|██████████████████████████████████████████████████████████████████████████████████████████████████████████████████████████████████████████████████████████████████████████████████████████████| 16/16 [00:01<00:00, 12.15it/s]\n",
      "Iteration:   0%|                                                                                                                                                                                                       | 0/38 [00:00<?, ?it/s]/opt/conda/envs/graphnn/lib/python3.9/site-packages/torch_geometric/data/storage.py:244: UserWarning: Unable to accurately infer 'num_nodes' from the attribute set '{'x_b', 'id', 'y', 'x_a', 'edge_index_a', 'edge_index_b', 'edge_attr_b', 'expression', 'edge_attr_a'}'. Please explicitly set 'num_nodes' as an attribute of 'data' to suppress this warning\n",
      "  warnings.warn(\n",
      "Iteration: 100%|██████████████████████████████████████████████████████████████████████████████████████████████████████████████████████████████████████████████████████████████████████████████████████████████| 38/38 [00:03<00:00, 11.78it/s]\n"
     ]
    },
    {
     "name": "stdout",
     "output_type": "stream",
     "text": [
      "{'Train':  best_epoch_indx:19\n",
      " auc:0.8457112542382974 \n",
      " apur:0.3769343603402696 \n",
      " f1:0.20975767747254365 \n",
      " precision:0.11928602525032651 \n",
      " recall:0.8683568990736226 \n",
      ", 'Validation':  best_epoch_indx:19\n",
      " auc:0.8409726139338454 \n",
      " apur:0.38121053496618873 \n",
      " f1:0.20900236904448538 \n",
      " precision:0.11875560873466946 \n",
      " recall:0.8706140350877193 \n",
      ", 'Test':  best_epoch_indx:19\n",
      " auc:0.8427415956764679 \n",
      " apur:0.36394443553622247 \n",
      " f1:0.20612051740456408 \n",
      " precision:0.11709881706297048 \n",
      " recall:0.8596491228070176 \n",
      "}\n",
      "=====Epoch 20\n",
      "Training...\n"
     ]
    },
    {
     "name": "stderr",
     "output_type": "stream",
     "text": [
      "Iteration:   0%|                                                                                                                                                                                                      | 0/136 [00:00<?, ?it/s]/opt/conda/envs/graphnn/lib/python3.9/site-packages/torch_geometric/data/storage.py:244: UserWarning: Unable to accurately infer 'num_nodes' from the attribute set '{'x_b', 'id', 'y', 'x_a', 'edge_index_a', 'edge_index_b', 'edge_attr_b', 'expression', 'edge_attr_a'}'. Please explicitly set 'num_nodes' as an attribute of 'data' to suppress this warning\n",
      "  warnings.warn(\n",
      "Iteration: 100%|████████████████████████████████████████████████████████████████████████████████████████████████████████████████████████████████████████████████████████████████████████████████████████████| 136/136 [00:30<00:00,  4.42it/s]\n"
     ]
    },
    {
     "name": "stdout",
     "output_type": "stream",
     "text": [
      "Evaluating...\n"
     ]
    },
    {
     "name": "stderr",
     "output_type": "stream",
     "text": [
      "Iteration: 100%|████████████████████████████████████████████████████████████████████████████████████████████████████████████████████████████████████████████████████████████████████████████████████████████| 136/136 [00:11<00:00, 11.58it/s]\n",
      "Iteration:   0%|                                                                                                                                                                                                       | 0/16 [00:00<?, ?it/s]/opt/conda/envs/graphnn/lib/python3.9/site-packages/torch_geometric/data/storage.py:244: UserWarning: Unable to accurately infer 'num_nodes' from the attribute set '{'x_b', 'id', 'y', 'x_a', 'edge_index_a', 'edge_index_b', 'edge_attr_b', 'expression', 'edge_attr_a'}'. Please explicitly set 'num_nodes' as an attribute of 'data' to suppress this warning\n",
      "  warnings.warn(\n",
      "Iteration: 100%|██████████████████████████████████████████████████████████████████████████████████████████████████████████████████████████████████████████████████████████████████████████████████████████████| 16/16 [00:01<00:00, 12.31it/s]\n",
      "Iteration:   0%|                                                                                                                                                                                                       | 0/38 [00:00<?, ?it/s]/opt/conda/envs/graphnn/lib/python3.9/site-packages/torch_geometric/data/storage.py:244: UserWarning: Unable to accurately infer 'num_nodes' from the attribute set '{'x_b', 'id', 'y', 'x_a', 'edge_index_a', 'edge_index_b', 'edge_attr_b', 'expression', 'edge_attr_a'}'. Please explicitly set 'num_nodes' as an attribute of 'data' to suppress this warning\n",
      "  warnings.warn(\n",
      "Iteration: 100%|██████████████████████████████████████████████████████████████████████████████████████████████████████████████████████████████████████████████████████████████████████████████████████████████| 38/38 [00:03<00:00, 10.73it/s]\n"
     ]
    },
    {
     "name": "stdout",
     "output_type": "stream",
     "text": [
      "{'Train':  best_epoch_indx:20\n",
      " auc:0.8465805267212789 \n",
      " apur:0.3847302925499977 \n",
      " f1:0.19776463566816774 \n",
      " precision:0.11126373626373626 \n",
      " recall:0.8885909312530473 \n",
      ", 'Validation':  best_epoch_indx:20\n",
      " auc:0.8422964485616349 \n",
      " apur:0.38896855017548115 \n",
      " f1:0.19664967225054625 \n",
      " precision:0.11056511056511056 \n",
      " recall:0.8881578947368421 \n",
      ", 'Test':  best_epoch_indx:20\n",
      " auc:0.84399712182352 \n",
      " apur:0.3741965839196324 \n",
      " f1:0.19600973236009733 \n",
      " precision:0.11023535851122059 \n",
      " recall:0.8833333333333333 \n",
      "}\n",
      "=====Epoch 21\n",
      "Training...\n"
     ]
    },
    {
     "name": "stderr",
     "output_type": "stream",
     "text": [
      "Iteration:   0%|                                                                                                                                                                                                      | 0/136 [00:00<?, ?it/s]/opt/conda/envs/graphnn/lib/python3.9/site-packages/torch_geometric/data/storage.py:244: UserWarning: Unable to accurately infer 'num_nodes' from the attribute set '{'x_b', 'id', 'y', 'x_a', 'edge_index_a', 'edge_index_b', 'edge_attr_b', 'expression', 'edge_attr_a'}'. Please explicitly set 'num_nodes' as an attribute of 'data' to suppress this warning\n",
      "  warnings.warn(\n",
      "Iteration: 100%|████████████████████████████████████████████████████████████████████████████████████████████████████████████████████████████████████████████████████████████████████████████████████████████| 136/136 [00:30<00:00,  4.47it/s]\n"
     ]
    },
    {
     "name": "stdout",
     "output_type": "stream",
     "text": [
      "Evaluating...\n"
     ]
    },
    {
     "name": "stderr",
     "output_type": "stream",
     "text": [
      "Iteration: 100%|████████████████████████████████████████████████████████████████████████████████████████████████████████████████████████████████████████████████████████████████████████████████████████████| 136/136 [00:11<00:00, 11.58it/s]\n",
      "Iteration:   0%|                                                                                                                                                                                                       | 0/16 [00:00<?, ?it/s]/opt/conda/envs/graphnn/lib/python3.9/site-packages/torch_geometric/data/storage.py:244: UserWarning: Unable to accurately infer 'num_nodes' from the attribute set '{'x_b', 'id', 'y', 'x_a', 'edge_index_a', 'edge_index_b', 'edge_attr_b', 'expression', 'edge_attr_a'}'. Please explicitly set 'num_nodes' as an attribute of 'data' to suppress this warning\n",
      "  warnings.warn(\n",
      "Iteration: 100%|██████████████████████████████████████████████████████████████████████████████████████████████████████████████████████████████████████████████████████████████████████████████████████████████| 16/16 [00:01<00:00, 12.31it/s]\n",
      "Iteration:   0%|                                                                                                                                                                                                       | 0/38 [00:00<?, ?it/s]/opt/conda/envs/graphnn/lib/python3.9/site-packages/torch_geometric/data/storage.py:244: UserWarning: Unable to accurately infer 'num_nodes' from the attribute set '{'x_b', 'id', 'y', 'x_a', 'edge_index_a', 'edge_index_b', 'edge_attr_b', 'expression', 'edge_attr_a'}'. Please explicitly set 'num_nodes' as an attribute of 'data' to suppress this warning\n",
      "  warnings.warn(\n",
      "Iteration: 100%|██████████████████████████████████████████████████████████████████████████████████████████████████████████████████████████████████████████████████████████████████████████████████████████████| 38/38 [00:03<00:00, 11.90it/s]\n"
     ]
    },
    {
     "name": "stdout",
     "output_type": "stream",
     "text": [
      "{'Train':  best_epoch_indx:21\n",
      " auc:0.8481786802937311 \n",
      " apur:0.3904101382670944 \n",
      " f1:0.1974529167341212 \n",
      " precision:0.11101334951456311 \n",
      " recall:0.8920039005363237 \n",
      ", 'Validation':  best_epoch_indx:21\n",
      " auc:0.8451365084874869 \n",
      " apur:0.39572971290790926 \n",
      " f1:0.19777562862669248 \n",
      " precision:0.11114130434782608 \n",
      " recall:0.8969298245614035 \n",
      ", 'Test':  best_epoch_indx:21\n",
      " auc:0.8461704584351785 \n",
      " apur:0.38055284467917744 \n",
      " f1:0.1962598804704068 \n",
      " precision:0.11024474767164825 \n",
      " recall:0.8929824561403509 \n",
      "}\n",
      "=====Epoch 22\n",
      "Training...\n"
     ]
    },
    {
     "name": "stderr",
     "output_type": "stream",
     "text": [
      "Iteration:   0%|                                                                                                                                                                                                      | 0/136 [00:00<?, ?it/s]/opt/conda/envs/graphnn/lib/python3.9/site-packages/torch_geometric/data/storage.py:244: UserWarning: Unable to accurately infer 'num_nodes' from the attribute set '{'x_b', 'id', 'y', 'x_a', 'edge_index_a', 'edge_index_b', 'edge_attr_b', 'expression', 'edge_attr_a'}'. Please explicitly set 'num_nodes' as an attribute of 'data' to suppress this warning\n",
      "  warnings.warn(\n",
      "Iteration: 100%|████████████████████████████████████████████████████████████████████████████████████████████████████████████████████████████████████████████████████████████████████████████████████████████| 136/136 [00:30<00:00,  4.48it/s]\n"
     ]
    },
    {
     "name": "stdout",
     "output_type": "stream",
     "text": [
      "Evaluating...\n"
     ]
    },
    {
     "name": "stderr",
     "output_type": "stream",
     "text": [
      "Iteration: 100%|████████████████████████████████████████████████████████████████████████████████████████████████████████████████████████████████████████████████████████████████████████████████████████████| 136/136 [00:12<00:00, 10.97it/s]\n",
      "Iteration:   0%|                                                                                                                                                                                                       | 0/16 [00:00<?, ?it/s]/opt/conda/envs/graphnn/lib/python3.9/site-packages/torch_geometric/data/storage.py:244: UserWarning: Unable to accurately infer 'num_nodes' from the attribute set '{'x_b', 'id', 'y', 'x_a', 'edge_index_a', 'edge_index_b', 'edge_attr_b', 'expression', 'edge_attr_a'}'. Please explicitly set 'num_nodes' as an attribute of 'data' to suppress this warning\n",
      "  warnings.warn(\n",
      "Iteration: 100%|██████████████████████████████████████████████████████████████████████████████████████████████████████████████████████████████████████████████████████████████████████████████████████████████| 16/16 [00:01<00:00, 12.27it/s]\n",
      "Iteration:   0%|                                                                                                                                                                                                       | 0/38 [00:00<?, ?it/s]/opt/conda/envs/graphnn/lib/python3.9/site-packages/torch_geometric/data/storage.py:244: UserWarning: Unable to accurately infer 'num_nodes' from the attribute set '{'x_b', 'id', 'y', 'x_a', 'edge_index_a', 'edge_index_b', 'edge_attr_b', 'expression', 'edge_attr_a'}'. Please explicitly set 'num_nodes' as an attribute of 'data' to suppress this warning\n",
      "  warnings.warn(\n",
      "Iteration: 100%|██████████████████████████████████████████████████████████████████████████████████████████████████████████████████████████████████████████████████████████████████████████████████████████████| 38/38 [00:03<00:00, 11.88it/s]\n"
     ]
    },
    {
     "name": "stdout",
     "output_type": "stream",
     "text": [
      "{'Train':  best_epoch_indx:22\n",
      " auc:0.8451871885246816 \n",
      " apur:0.3844457452378127 \n",
      " f1:0.1969995945398027 \n",
      " precision:0.11078344936612654 \n",
      " recall:0.8883471477328133 \n",
      ", 'Validation':  best_epoch_indx:22\n",
      " auc:0.8450647951287948 \n",
      " apur:0.39364714965176456 \n",
      " f1:0.19773330118157706 \n",
      " precision:0.11108100785694934 \n",
      " recall:0.8991228070175439 \n",
      ", 'Test':  best_epoch_indx:22\n",
      " auc:0.8442804076693521 \n",
      " apur:0.36906827136810466 \n",
      " f1:0.19721871049304682 \n",
      " precision:0.11090451711692005 \n",
      " recall:0.8894736842105263 \n",
      "}\n",
      "=====Epoch 23\n",
      "Training...\n"
     ]
    },
    {
     "name": "stderr",
     "output_type": "stream",
     "text": [
      "Iteration:   0%|                                                                                                                                                                                                      | 0/136 [00:00<?, ?it/s]/opt/conda/envs/graphnn/lib/python3.9/site-packages/torch_geometric/data/storage.py:244: UserWarning: Unable to accurately infer 'num_nodes' from the attribute set '{'x_b', 'id', 'y', 'x_a', 'edge_index_a', 'edge_index_b', 'edge_attr_b', 'expression', 'edge_attr_a'}'. Please explicitly set 'num_nodes' as an attribute of 'data' to suppress this warning\n",
      "  warnings.warn(\n",
      "Iteration: 100%|████████████████████████████████████████████████████████████████████████████████████████████████████████████████████████████████████████████████████████████████████████████████████████████| 136/136 [00:30<00:00,  4.43it/s]\n"
     ]
    },
    {
     "name": "stdout",
     "output_type": "stream",
     "text": [
      "Evaluating...\n"
     ]
    },
    {
     "name": "stderr",
     "output_type": "stream",
     "text": [
      "Iteration: 100%|████████████████████████████████████████████████████████████████████████████████████████████████████████████████████████████████████████████████████████████████████████████████████████████| 136/136 [00:11<00:00, 11.51it/s]\n",
      "Iteration:   0%|                                                                                                                                                                                                       | 0/16 [00:00<?, ?it/s]/opt/conda/envs/graphnn/lib/python3.9/site-packages/torch_geometric/data/storage.py:244: UserWarning: Unable to accurately infer 'num_nodes' from the attribute set '{'x_b', 'id', 'y', 'x_a', 'edge_index_a', 'edge_index_b', 'edge_attr_b', 'expression', 'edge_attr_a'}'. Please explicitly set 'num_nodes' as an attribute of 'data' to suppress this warning\n",
      "  warnings.warn(\n",
      "Iteration: 100%|██████████████████████████████████████████████████████████████████████████████████████████████████████████████████████████████████████████████████████████████████████████████████████████████| 16/16 [00:01<00:00, 12.07it/s]\n",
      "Iteration:   0%|                                                                                                                                                                                                       | 0/38 [00:00<?, ?it/s]/opt/conda/envs/graphnn/lib/python3.9/site-packages/torch_geometric/data/storage.py:244: UserWarning: Unable to accurately infer 'num_nodes' from the attribute set '{'x_b', 'id', 'y', 'x_a', 'edge_index_a', 'edge_index_b', 'edge_attr_b', 'expression', 'edge_attr_a'}'. Please explicitly set 'num_nodes' as an attribute of 'data' to suppress this warning\n",
      "  warnings.warn(\n",
      "Iteration: 100%|██████████████████████████████████████████████████████████████████████████████████████████████████████████████████████████████████████████████████████████████████████████████████████████████| 38/38 [00:03<00:00, 10.68it/s]\n"
     ]
    },
    {
     "name": "stdout",
     "output_type": "stream",
     "text": [
      "{'Train':  best_epoch_indx:23\n",
      " auc:0.8473732251257067 \n",
      " apur:0.3777888910054239 \n",
      " f1:0.22566069629099894 \n",
      " precision:0.13019016541014966 \n",
      " recall:0.8461725987323256 \n",
      ", 'Validation':  best_epoch_indx:23\n",
      " auc:0.8449661139314348 \n",
      " apur:0.3830213033923691 \n",
      " f1:0.22538483880336913 \n",
      " precision:0.12989621694007364 \n",
      " recall:0.8508771929824561 \n",
      ", 'Test':  best_epoch_indx:23\n",
      " auc:0.8440974723150277 \n",
      " apur:0.3639697366388371 \n",
      " f1:0.22292250233426705 \n",
      " precision:0.12856758212170166 \n",
      " recall:0.8377192982456141 \n",
      "}\n",
      "=====Epoch 24\n",
      "Training...\n"
     ]
    },
    {
     "name": "stderr",
     "output_type": "stream",
     "text": [
      "Iteration:   0%|                                                                                                                                                                                                      | 0/136 [00:00<?, ?it/s]/opt/conda/envs/graphnn/lib/python3.9/site-packages/torch_geometric/data/storage.py:244: UserWarning: Unable to accurately infer 'num_nodes' from the attribute set '{'x_b', 'id', 'y', 'x_a', 'edge_index_a', 'edge_index_b', 'edge_attr_b', 'expression', 'edge_attr_a'}'. Please explicitly set 'num_nodes' as an attribute of 'data' to suppress this warning\n",
      "  warnings.warn(\n",
      "Iteration: 100%|████████████████████████████████████████████████████████████████████████████████████████████████████████████████████████████████████████████████████████████████████████████████████████████| 136/136 [00:30<00:00,  4.48it/s]\n"
     ]
    },
    {
     "name": "stdout",
     "output_type": "stream",
     "text": [
      "Evaluating...\n"
     ]
    },
    {
     "name": "stderr",
     "output_type": "stream",
     "text": [
      "Iteration: 100%|████████████████████████████████████████████████████████████████████████████████████████████████████████████████████████████████████████████████████████████████████████████████████████████| 136/136 [00:11<00:00, 11.57it/s]\n",
      "Iteration:   0%|                                                                                                                                                                                                       | 0/16 [00:00<?, ?it/s]/opt/conda/envs/graphnn/lib/python3.9/site-packages/torch_geometric/data/storage.py:244: UserWarning: Unable to accurately infer 'num_nodes' from the attribute set '{'x_b', 'id', 'y', 'x_a', 'edge_index_a', 'edge_index_b', 'edge_attr_b', 'expression', 'edge_attr_a'}'. Please explicitly set 'num_nodes' as an attribute of 'data' to suppress this warning\n",
      "  warnings.warn(\n",
      "Iteration: 100%|██████████████████████████████████████████████████████████████████████████████████████████████████████████████████████████████████████████████████████████████████████████████████████████████| 16/16 [00:01<00:00, 12.29it/s]\n",
      "Iteration:   0%|                                                                                                                                                                                                       | 0/38 [00:00<?, ?it/s]/opt/conda/envs/graphnn/lib/python3.9/site-packages/torch_geometric/data/storage.py:244: UserWarning: Unable to accurately infer 'num_nodes' from the attribute set '{'x_b', 'id', 'y', 'x_a', 'edge_index_a', 'edge_index_b', 'edge_attr_b', 'expression', 'edge_attr_a'}'. Please explicitly set 'num_nodes' as an attribute of 'data' to suppress this warning\n",
      "  warnings.warn(\n",
      "Iteration: 100%|██████████████████████████████████████████████████████████████████████████████████████████████████████████████████████████████████████████████████████████████████████████████████████████████| 38/38 [00:03<00:00, 11.86it/s]\n"
     ]
    },
    {
     "name": "stdout",
     "output_type": "stream",
     "text": [
      "{'Train':  best_epoch_indx:24\n",
      " auc:0.8456895835581972 \n",
      " apur:0.38277111966218524 \n",
      " f1:0.21973066082054493 \n",
      " precision:0.12606008336926836 \n",
      " recall:0.8551925889809849 \n",
      ", 'Validation':  best_epoch_indx:24\n",
      " auc:0.842996859075416 \n",
      " apur:0.3844698219878366 \n",
      " f1:0.22077922077922077 \n",
      " precision:0.12670123136746597 \n",
      " recall:0.8574561403508771 \n",
      ", 'Test':  best_epoch_indx:24\n",
      " auc:0.8415164904566996 \n",
      " apur:0.3741488219919668 \n",
      " f1:0.2195838986883763 \n",
      " precision:0.12603842159916925 \n",
      " recall:0.8517543859649123 \n",
      "}\n",
      "=====Epoch 25\n",
      "Training...\n"
     ]
    },
    {
     "name": "stderr",
     "output_type": "stream",
     "text": [
      "Iteration:   0%|                                                                                                                                                                                                      | 0/136 [00:00<?, ?it/s]/opt/conda/envs/graphnn/lib/python3.9/site-packages/torch_geometric/data/storage.py:244: UserWarning: Unable to accurately infer 'num_nodes' from the attribute set '{'x_b', 'id', 'y', 'x_a', 'edge_index_a', 'edge_index_b', 'edge_attr_b', 'expression', 'edge_attr_a'}'. Please explicitly set 'num_nodes' as an attribute of 'data' to suppress this warning\n",
      "  warnings.warn(\n",
      "Iteration: 100%|████████████████████████████████████████████████████████████████████████████████████████████████████████████████████████████████████████████████████████████████████████████████████████████| 136/136 [00:30<00:00,  4.45it/s]\n"
     ]
    },
    {
     "name": "stdout",
     "output_type": "stream",
     "text": [
      "Evaluating...\n"
     ]
    },
    {
     "name": "stderr",
     "output_type": "stream",
     "text": [
      "Iteration: 100%|████████████████████████████████████████████████████████████████████████████████████████████████████████████████████████████████████████████████████████████████████████████████████████████| 136/136 [00:12<00:00, 11.10it/s]\n",
      "Iteration:   0%|                                                                                                                                                                                                       | 0/16 [00:00<?, ?it/s]/opt/conda/envs/graphnn/lib/python3.9/site-packages/torch_geometric/data/storage.py:244: UserWarning: Unable to accurately infer 'num_nodes' from the attribute set '{'x_b', 'id', 'y', 'x_a', 'edge_index_a', 'edge_index_b', 'edge_attr_b', 'expression', 'edge_attr_a'}'. Please explicitly set 'num_nodes' as an attribute of 'data' to suppress this warning\n",
      "  warnings.warn(\n",
      "Iteration: 100%|██████████████████████████████████████████████████████████████████████████████████████████████████████████████████████████████████████████████████████████████████████████████████████████████| 16/16 [00:01<00:00, 12.33it/s]\n",
      "Iteration:   0%|                                                                                                                                                                                                       | 0/38 [00:00<?, ?it/s]/opt/conda/envs/graphnn/lib/python3.9/site-packages/torch_geometric/data/storage.py:244: UserWarning: Unable to accurately infer 'num_nodes' from the attribute set '{'x_b', 'id', 'y', 'x_a', 'edge_index_a', 'edge_index_b', 'edge_attr_b', 'expression', 'edge_attr_a'}'. Please explicitly set 'num_nodes' as an attribute of 'data' to suppress this warning\n",
      "  warnings.warn(\n",
      "Iteration: 100%|██████████████████████████████████████████████████████████████████████████████████████████████████████████████████████████████████████████████████████████████████████████████████████████████| 38/38 [00:03<00:00, 11.89it/s]\n"
     ]
    },
    {
     "name": "stdout",
     "output_type": "stream",
     "text": [
      "{'Train':  best_epoch_indx:25\n",
      " auc:0.8486081058950949 \n",
      " apur:0.38507579526133706 \n",
      " f1:0.24319275810043822 \n",
      " precision:0.14261038085608357 \n",
      " recall:0.8252072159921989 \n",
      ", 'Validation':  best_epoch_indx:25\n",
      " auc:0.8422938873702532 \n",
      " apur:0.38488261470512547 \n",
      " f1:0.23987034035656402 \n",
      " precision:0.1407379231647014 \n",
      " recall:0.8114035087719298 \n",
      ", 'Test':  best_epoch_indx:25\n",
      " auc:0.8448118096835934 \n",
      " apur:0.3729229015749604 \n",
      " f1:0.23913323874629175 \n",
      " precision:0.14017843641312566 \n",
      " recall:0.8131578947368421 \n",
      "}\n",
      "=====Epoch 26\n",
      "Training...\n"
     ]
    },
    {
     "name": "stderr",
     "output_type": "stream",
     "text": [
      "Iteration:   0%|                                                                                                                                                                                                      | 0/136 [00:00<?, ?it/s]/opt/conda/envs/graphnn/lib/python3.9/site-packages/torch_geometric/data/storage.py:244: UserWarning: Unable to accurately infer 'num_nodes' from the attribute set '{'x_b', 'id', 'y', 'x_a', 'edge_index_a', 'edge_index_b', 'edge_attr_b', 'expression', 'edge_attr_a'}'. Please explicitly set 'num_nodes' as an attribute of 'data' to suppress this warning\n",
      "  warnings.warn(\n",
      "Iteration: 100%|████████████████████████████████████████████████████████████████████████████████████████████████████████████████████████████████████████████████████████████████████████████████████████████| 136/136 [00:30<00:00,  4.42it/s]\n"
     ]
    },
    {
     "name": "stdout",
     "output_type": "stream",
     "text": [
      "Evaluating...\n"
     ]
    },
    {
     "name": "stderr",
     "output_type": "stream",
     "text": [
      "Iteration: 100%|████████████████████████████████████████████████████████████████████████████████████████████████████████████████████████████████████████████████████████████████████████████████████████████| 136/136 [00:11<00:00, 11.44it/s]\n",
      "Iteration:   0%|                                                                                                                                                                                                       | 0/16 [00:00<?, ?it/s]/opt/conda/envs/graphnn/lib/python3.9/site-packages/torch_geometric/data/storage.py:244: UserWarning: Unable to accurately infer 'num_nodes' from the attribute set '{'x_b', 'id', 'y', 'x_a', 'edge_index_a', 'edge_index_b', 'edge_attr_b', 'expression', 'edge_attr_a'}'. Please explicitly set 'num_nodes' as an attribute of 'data' to suppress this warning\n",
      "  warnings.warn(\n",
      "Iteration: 100%|██████████████████████████████████████████████████████████████████████████████████████████████████████████████████████████████████████████████████████████████████████████████████████████████| 16/16 [00:01<00:00, 12.26it/s]\n",
      "Iteration:   0%|                                                                                                                                                                                                       | 0/38 [00:00<?, ?it/s]/opt/conda/envs/graphnn/lib/python3.9/site-packages/torch_geometric/data/storage.py:244: UserWarning: Unable to accurately infer 'num_nodes' from the attribute set '{'x_b', 'id', 'y', 'x_a', 'edge_index_a', 'edge_index_b', 'edge_attr_b', 'expression', 'edge_attr_a'}'. Please explicitly set 'num_nodes' as an attribute of 'data' to suppress this warning\n",
      "  warnings.warn(\n",
      "Iteration: 100%|██████████████████████████████████████████████████████████████████████████████████████████████████████████████████████████████████████████████████████████████████████████████████████████████| 38/38 [00:03<00:00, 10.73it/s]\n"
     ]
    },
    {
     "name": "stdout",
     "output_type": "stream",
     "text": [
      "{'Train':  best_epoch_indx:26\n",
      " auc:0.8480283123853193 \n",
      " apur:0.39064467915103995 \n",
      " f1:0.25631474799208476 \n",
      " precision:0.15241567071201145 \n",
      " recall:0.8052169673330083 \n",
      ", 'Validation':  best_epoch_indx:26\n",
      " auc:0.8409346480380671 \n",
      " apur:0.3913075721849004 \n",
      " f1:0.2529059528002818 \n",
      " precision:0.1506504406210659 \n",
      " recall:0.7872807017543859 \n",
      ", 'Test':  best_epoch_indx:26\n",
      " auc:0.8463955058021531 \n",
      " apur:0.3792638105569016 \n",
      " f1:0.25201668984700976 \n",
      " precision:0.1497520661157025 \n",
      " recall:0.7947368421052632 \n",
      "}\n",
      "=====Epoch 27\n",
      "Training...\n"
     ]
    },
    {
     "name": "stderr",
     "output_type": "stream",
     "text": [
      "Iteration:   0%|                                                                                                                                                                                                      | 0/136 [00:00<?, ?it/s]/opt/conda/envs/graphnn/lib/python3.9/site-packages/torch_geometric/data/storage.py:244: UserWarning: Unable to accurately infer 'num_nodes' from the attribute set '{'x_b', 'id', 'y', 'x_a', 'edge_index_a', 'edge_index_b', 'edge_attr_b', 'expression', 'edge_attr_a'}'. Please explicitly set 'num_nodes' as an attribute of 'data' to suppress this warning\n",
      "  warnings.warn(\n",
      "Iteration: 100%|████████████████████████████████████████████████████████████████████████████████████████████████████████████████████████████████████████████████████████████████████████████████████████████| 136/136 [00:30<00:00,  4.49it/s]\n"
     ]
    },
    {
     "name": "stdout",
     "output_type": "stream",
     "text": [
      "Evaluating...\n"
     ]
    },
    {
     "name": "stderr",
     "output_type": "stream",
     "text": [
      "Iteration: 100%|████████████████████████████████████████████████████████████████████████████████████████████████████████████████████████████████████████████████████████████████████████████████████████████| 136/136 [00:11<00:00, 11.51it/s]\n",
      "Iteration:   0%|                                                                                                                                                                                                       | 0/16 [00:00<?, ?it/s]/opt/conda/envs/graphnn/lib/python3.9/site-packages/torch_geometric/data/storage.py:244: UserWarning: Unable to accurately infer 'num_nodes' from the attribute set '{'x_b', 'id', 'y', 'x_a', 'edge_index_a', 'edge_index_b', 'edge_attr_b', 'expression', 'edge_attr_a'}'. Please explicitly set 'num_nodes' as an attribute of 'data' to suppress this warning\n",
      "  warnings.warn(\n",
      "Iteration: 100%|██████████████████████████████████████████████████████████████████████████████████████████████████████████████████████████████████████████████████████████████████████████████████████████████| 16/16 [00:01<00:00, 12.12it/s]\n",
      "Iteration:   0%|                                                                                                                                                                                                       | 0/38 [00:00<?, ?it/s]/opt/conda/envs/graphnn/lib/python3.9/site-packages/torch_geometric/data/storage.py:244: UserWarning: Unable to accurately infer 'num_nodes' from the attribute set '{'x_b', 'id', 'y', 'x_a', 'edge_index_a', 'edge_index_b', 'edge_attr_b', 'expression', 'edge_attr_a'}'. Please explicitly set 'num_nodes' as an attribute of 'data' to suppress this warning\n",
      "  warnings.warn(\n",
      "Iteration: 100%|██████████████████████████████████████████████████████████████████████████████████████████████████████████████████████████████████████████████████████████████████████████████████████████████| 38/38 [00:03<00:00, 11.76it/s]\n"
     ]
    },
    {
     "name": "stdout",
     "output_type": "stream",
     "text": [
      "{'Train':  best_epoch_indx:27\n",
      " auc:0.8530456545122282 \n",
      " apur:0.4028973712514363 \n",
      " f1:0.2211758874914813 \n",
      " precision:0.12668559261887863 \n",
      " recall:0.8703071672354948 \n",
      ", 'Validation':  best_epoch_indx:27\n",
      " auc:0.8547301287706762 \n",
      " apur:0.40970941148988044 \n",
      " f1:0.22240663900414936 \n",
      " precision:0.12725546058879392 \n",
      " recall:0.881578947368421 \n",
      ", 'Test':  best_epoch_indx:27\n",
      " auc:0.8522950926367856 \n",
      " apur:0.39769391515658226 \n",
      " f1:0.2211591945711425 \n",
      " precision:0.12664033634857944 \n",
      " recall:0.8719298245614036 \n",
      "}\n",
      "=====Epoch 28\n",
      "Training...\n"
     ]
    },
    {
     "name": "stderr",
     "output_type": "stream",
     "text": [
      "Iteration:   0%|                                                                                                                                                                                                      | 0/136 [00:00<?, ?it/s]/opt/conda/envs/graphnn/lib/python3.9/site-packages/torch_geometric/data/storage.py:244: UserWarning: Unable to accurately infer 'num_nodes' from the attribute set '{'x_b', 'id', 'y', 'x_a', 'edge_index_a', 'edge_index_b', 'edge_attr_b', 'expression', 'edge_attr_a'}'. Please explicitly set 'num_nodes' as an attribute of 'data' to suppress this warning\n",
      "  warnings.warn(\n",
      "Iteration: 100%|████████████████████████████████████████████████████████████████████████████████████████████████████████████████████████████████████████████████████████████████████████████████████████████| 136/136 [00:30<00:00,  4.48it/s]\n"
     ]
    },
    {
     "name": "stdout",
     "output_type": "stream",
     "text": [
      "Evaluating...\n"
     ]
    },
    {
     "name": "stderr",
     "output_type": "stream",
     "text": [
      "Iteration: 100%|████████████████████████████████████████████████████████████████████████████████████████████████████████████████████████████████████████████████████████████████████████████████████████████| 136/136 [00:12<00:00, 11.19it/s]\n",
      "Iteration:   0%|                                                                                                                                                                                                       | 0/16 [00:00<?, ?it/s]/opt/conda/envs/graphnn/lib/python3.9/site-packages/torch_geometric/data/storage.py:244: UserWarning: Unable to accurately infer 'num_nodes' from the attribute set '{'x_b', 'id', 'y', 'x_a', 'edge_index_a', 'edge_index_b', 'edge_attr_b', 'expression', 'edge_attr_a'}'. Please explicitly set 'num_nodes' as an attribute of 'data' to suppress this warning\n",
      "  warnings.warn(\n",
      "Iteration: 100%|██████████████████████████████████████████████████████████████████████████████████████████████████████████████████████████████████████████████████████████████████████████████████████████████| 16/16 [00:01<00:00, 12.21it/s]\n",
      "Iteration:   0%|                                                                                                                                                                                                       | 0/38 [00:00<?, ?it/s]/opt/conda/envs/graphnn/lib/python3.9/site-packages/torch_geometric/data/storage.py:244: UserWarning: Unable to accurately infer 'num_nodes' from the attribute set '{'x_b', 'id', 'y', 'x_a', 'edge_index_a', 'edge_index_b', 'edge_attr_b', 'expression', 'edge_attr_a'}'. Please explicitly set 'num_nodes' as an attribute of 'data' to suppress this warning\n",
      "  warnings.warn(\n",
      "Iteration: 100%|██████████████████████████████████████████████████████████████████████████████████████████████████████████████████████████████████████████████████████████████████████████████████████████████| 38/38 [00:03<00:00, 11.86it/s]\n"
     ]
    },
    {
     "name": "stdout",
     "output_type": "stream",
     "text": [
      "{'Train':  best_epoch_indx:28\n",
      " auc:0.8525773128728864 \n",
      " apur:0.3972087334470533 \n",
      " f1:0.23762647916309382 \n",
      " precision:0.13826687422663952 \n",
      " recall:0.8444661140906875 \n",
      ", 'Validation':  best_epoch_indx:28\n",
      " auc:0.8502573846680456 \n",
      " apur:0.40269254063282195 \n",
      " f1:0.2384639207184887 \n",
      " precision:0.13883880274071403 \n",
      " recall:0.8442982456140351 \n",
      ", 'Test':  best_epoch_indx:28\n",
      " auc:0.8504501188392801 \n",
      " apur:0.3885454272447051 \n",
      " f1:0.23864339645995788 \n",
      " precision:0.13892491713503385 \n",
      " recall:0.8456140350877193 \n",
      "}\n",
      "=====Epoch 29\n",
      "Training...\n"
     ]
    },
    {
     "name": "stderr",
     "output_type": "stream",
     "text": [
      "Iteration:   0%|                                                                                                                                                                                                      | 0/136 [00:00<?, ?it/s]/opt/conda/envs/graphnn/lib/python3.9/site-packages/torch_geometric/data/storage.py:244: UserWarning: Unable to accurately infer 'num_nodes' from the attribute set '{'x_b', 'id', 'y', 'x_a', 'edge_index_a', 'edge_index_b', 'edge_attr_b', 'expression', 'edge_attr_a'}'. Please explicitly set 'num_nodes' as an attribute of 'data' to suppress this warning\n",
      "  warnings.warn(\n",
      "Iteration: 100%|████████████████████████████████████████████████████████████████████████████████████████████████████████████████████████████████████████████████████████████████████████████████████████████| 136/136 [00:30<00:00,  4.40it/s]\n"
     ]
    },
    {
     "name": "stdout",
     "output_type": "stream",
     "text": [
      "Evaluating...\n"
     ]
    },
    {
     "name": "stderr",
     "output_type": "stream",
     "text": [
      "Iteration: 100%|████████████████████████████████████████████████████████████████████████████████████████████████████████████████████████████████████████████████████████████████████████████████████████████| 136/136 [00:11<00:00, 11.53it/s]\n",
      "Iteration:   0%|                                                                                                                                                                                                       | 0/16 [00:00<?, ?it/s]/opt/conda/envs/graphnn/lib/python3.9/site-packages/torch_geometric/data/storage.py:244: UserWarning: Unable to accurately infer 'num_nodes' from the attribute set '{'x_b', 'id', 'y', 'x_a', 'edge_index_a', 'edge_index_b', 'edge_attr_b', 'expression', 'edge_attr_a'}'. Please explicitly set 'num_nodes' as an attribute of 'data' to suppress this warning\n",
      "  warnings.warn(\n",
      "Iteration: 100%|██████████████████████████████████████████████████████████████████████████████████████████████████████████████████████████████████████████████████████████████████████████████████████████████| 16/16 [00:01<00:00, 12.31it/s]\n",
      "Iteration:   0%|                                                                                                                                                                                                       | 0/38 [00:00<?, ?it/s]/opt/conda/envs/graphnn/lib/python3.9/site-packages/torch_geometric/data/storage.py:244: UserWarning: Unable to accurately infer 'num_nodes' from the attribute set '{'x_b', 'id', 'y', 'x_a', 'edge_index_a', 'edge_index_b', 'edge_attr_b', 'expression', 'edge_attr_a'}'. Please explicitly set 'num_nodes' as an attribute of 'data' to suppress this warning\n",
      "  warnings.warn(\n",
      "Iteration: 100%|██████████████████████████████████████████████████████████████████████████████████████████████████████████████████████████████████████████████████████████████████████████████████████████████| 38/38 [00:03<00:00, 10.81it/s]\n"
     ]
    },
    {
     "name": "stdout",
     "output_type": "stream",
     "text": [
      "{'Train':  best_epoch_indx:29\n",
      " auc:0.8552581686088707 \n",
      " apur:0.40294752905400977 \n",
      " f1:0.23452396938364445 \n",
      " precision:0.1359884762127229 \n",
      " recall:0.8515358361774744 \n",
      ", 'Validation':  best_epoch_indx:29\n",
      " auc:0.8555049644928481 \n",
      " apur:0.4109909331662547 \n",
      " f1:0.23650075414781296 \n",
      " precision:0.13711087792934593 \n",
      " recall:0.8596491228070176 \n",
      ", 'Test':  best_epoch_indx:29\n",
      " auc:0.8543037175240933 \n",
      " apur:0.3963003148491044 \n",
      " f1:0.23591718825228694 \n",
      " precision:0.13671875 \n",
      " recall:0.8596491228070176 \n",
      "}\n",
      "=====Epoch 30\n",
      "Training...\n"
     ]
    },
    {
     "name": "stderr",
     "output_type": "stream",
     "text": [
      "Iteration:   0%|                                                                                                                                                                                                      | 0/136 [00:00<?, ?it/s]/opt/conda/envs/graphnn/lib/python3.9/site-packages/torch_geometric/data/storage.py:244: UserWarning: Unable to accurately infer 'num_nodes' from the attribute set '{'x_b', 'id', 'y', 'x_a', 'edge_index_a', 'edge_index_b', 'edge_attr_b', 'expression', 'edge_attr_a'}'. Please explicitly set 'num_nodes' as an attribute of 'data' to suppress this warning\n",
      "  warnings.warn(\n",
      "Iteration: 100%|████████████████████████████████████████████████████████████████████████████████████████████████████████████████████████████████████████████████████████████████████████████████████████████| 136/136 [00:30<00:00,  4.49it/s]\n"
     ]
    },
    {
     "name": "stdout",
     "output_type": "stream",
     "text": [
      "Evaluating...\n"
     ]
    },
    {
     "name": "stderr",
     "output_type": "stream",
     "text": [
      "Iteration: 100%|████████████████████████████████████████████████████████████████████████████████████████████████████████████████████████████████████████████████████████████████████████████████████████████| 136/136 [00:11<00:00, 11.43it/s]\n",
      "Iteration:   0%|                                                                                                                                                                                                       | 0/16 [00:00<?, ?it/s]/opt/conda/envs/graphnn/lib/python3.9/site-packages/torch_geometric/data/storage.py:244: UserWarning: Unable to accurately infer 'num_nodes' from the attribute set '{'x_b', 'id', 'y', 'x_a', 'edge_index_a', 'edge_index_b', 'edge_attr_b', 'expression', 'edge_attr_a'}'. Please explicitly set 'num_nodes' as an attribute of 'data' to suppress this warning\n",
      "  warnings.warn(\n",
      "Iteration: 100%|██████████████████████████████████████████████████████████████████████████████████████████████████████████████████████████████████████████████████████████████████████████████████████████████| 16/16 [00:01<00:00, 12.26it/s]\n",
      "Iteration:   0%|                                                                                                                                                                                                       | 0/38 [00:00<?, ?it/s]/opt/conda/envs/graphnn/lib/python3.9/site-packages/torch_geometric/data/storage.py:244: UserWarning: Unable to accurately infer 'num_nodes' from the attribute set '{'x_b', 'id', 'y', 'x_a', 'edge_index_a', 'edge_index_b', 'edge_attr_b', 'expression', 'edge_attr_a'}'. Please explicitly set 'num_nodes' as an attribute of 'data' to suppress this warning\n",
      "  warnings.warn(\n",
      "Iteration: 100%|██████████████████████████████████████████████████████████████████████████████████████████████████████████████████████████████████████████████████████████████████████████████████████████████| 38/38 [00:03<00:00, 11.81it/s]\n"
     ]
    },
    {
     "name": "stdout",
     "output_type": "stream",
     "text": [
      "{'Train':  best_epoch_indx:30\n",
      " auc:0.85619268202813 \n",
      " apur:0.4049977322775116 \n",
      " f1:0.22864711202997806 \n",
      " precision:0.13178669844343488 \n",
      " recall:0.8627498781082399 \n",
      ", 'Validation':  best_epoch_indx:30\n",
      " auc:0.8579406574969989 \n",
      " apur:0.4114400796573086 \n",
      " f1:0.2329084588644264 \n",
      " precision:0.1341789052069426 \n",
      " recall:0.881578947368421 \n",
      ", 'Test':  best_epoch_indx:30\n",
      " auc:0.8538804761284912 \n",
      " apur:0.3979428112215572 \n",
      " f1:0.22824701656818447 \n",
      " precision:0.13149112268055 \n",
      " recall:0.8640350877192983 \n",
      "}\n",
      "=====Epoch 31\n",
      "Training...\n"
     ]
    },
    {
     "name": "stderr",
     "output_type": "stream",
     "text": [
      "Iteration:   0%|                                                                                                                                                                                                      | 0/136 [00:00<?, ?it/s]/opt/conda/envs/graphnn/lib/python3.9/site-packages/torch_geometric/data/storage.py:244: UserWarning: Unable to accurately infer 'num_nodes' from the attribute set '{'x_b', 'id', 'y', 'x_a', 'edge_index_a', 'edge_index_b', 'edge_attr_b', 'expression', 'edge_attr_a'}'. Please explicitly set 'num_nodes' as an attribute of 'data' to suppress this warning\n",
      "  warnings.warn(\n",
      "Iteration: 100%|████████████████████████████████████████████████████████████████████████████████████████████████████████████████████████████████████████████████████████████████████████████████████████████| 136/136 [00:30<00:00,  4.50it/s]\n"
     ]
    },
    {
     "name": "stdout",
     "output_type": "stream",
     "text": [
      "Evaluating...\n"
     ]
    },
    {
     "name": "stderr",
     "output_type": "stream",
     "text": [
      "Iteration: 100%|████████████████████████████████████████████████████████████████████████████████████████████████████████████████████████████████████████████████████████████████████████████████████████████| 136/136 [00:12<00:00, 11.14it/s]\n",
      "Iteration:   0%|                                                                                                                                                                                                       | 0/16 [00:00<?, ?it/s]/opt/conda/envs/graphnn/lib/python3.9/site-packages/torch_geometric/data/storage.py:244: UserWarning: Unable to accurately infer 'num_nodes' from the attribute set '{'x_b', 'id', 'y', 'x_a', 'edge_index_a', 'edge_index_b', 'edge_attr_b', 'expression', 'edge_attr_a'}'. Please explicitly set 'num_nodes' as an attribute of 'data' to suppress this warning\n",
      "  warnings.warn(\n",
      "Iteration: 100%|██████████████████████████████████████████████████████████████████████████████████████████████████████████████████████████████████████████████████████████████████████████████████████████████| 16/16 [00:01<00:00, 12.14it/s]\n",
      "Iteration:   0%|                                                                                                                                                                                                       | 0/38 [00:00<?, ?it/s]/opt/conda/envs/graphnn/lib/python3.9/site-packages/torch_geometric/data/storage.py:244: UserWarning: Unable to accurately infer 'num_nodes' from the attribute set '{'x_b', 'id', 'y', 'x_a', 'edge_index_a', 'edge_index_b', 'edge_attr_b', 'expression', 'edge_attr_a'}'. Please explicitly set 'num_nodes' as an attribute of 'data' to suppress this warning\n",
      "  warnings.warn(\n",
      "Iteration: 100%|██████████████████████████████████████████████████████████████████████████████████████████████████████████████████████████████████████████████████████████████████████████████████████████████| 38/38 [00:03<00:00, 11.77it/s]\n"
     ]
    },
    {
     "name": "stdout",
     "output_type": "stream",
     "text": [
      "{'Train':  best_epoch_indx:31\n",
      " auc:0.8527149426271302 \n",
      " apur:0.39825369453829695 \n",
      " f1:0.22541827541827542 \n",
      " precision:0.1298465416265105 \n",
      " recall:0.8539736713798147 \n",
      ", 'Validation':  best_epoch_indx:31\n",
      " auc:0.848863493923046 \n",
      " apur:0.39621191109448434 \n",
      " f1:0.22785547785547786 \n",
      " precision:0.13138440860215053 \n",
      " recall:0.8574561403508771 \n",
      ", 'Test':  best_epoch_indx:31\n",
      " auc:0.8498785573441712 \n",
      " apur:0.3881789944487667 \n",
      " f1:0.2245630281282556 \n",
      " precision:0.12935058007734365 \n",
      " recall:0.8508771929824561 \n",
      "}\n",
      "=====Epoch 32\n",
      "Training...\n"
     ]
    },
    {
     "name": "stderr",
     "output_type": "stream",
     "text": [
      "Iteration:   0%|                                                                                                                                                                                                      | 0/136 [00:00<?, ?it/s]/opt/conda/envs/graphnn/lib/python3.9/site-packages/torch_geometric/data/storage.py:244: UserWarning: Unable to accurately infer 'num_nodes' from the attribute set '{'x_b', 'id', 'y', 'x_a', 'edge_index_a', 'edge_index_b', 'edge_attr_b', 'expression', 'edge_attr_a'}'. Please explicitly set 'num_nodes' as an attribute of 'data' to suppress this warning\n",
      "  warnings.warn(\n",
      "Iteration: 100%|████████████████████████████████████████████████████████████████████████████████████████████████████████████████████████████████████████████████████████████████████████████████████████████| 136/136 [00:30<00:00,  4.41it/s]\n"
     ]
    },
    {
     "name": "stdout",
     "output_type": "stream",
     "text": [
      "Evaluating...\n"
     ]
    },
    {
     "name": "stderr",
     "output_type": "stream",
     "text": [
      "Iteration: 100%|████████████████████████████████████████████████████████████████████████████████████████████████████████████████████████████████████████████████████████████████████████████████████████████| 136/136 [00:11<00:00, 11.57it/s]\n",
      "Iteration:   0%|                                                                                                                                                                                                       | 0/16 [00:00<?, ?it/s]/opt/conda/envs/graphnn/lib/python3.9/site-packages/torch_geometric/data/storage.py:244: UserWarning: Unable to accurately infer 'num_nodes' from the attribute set '{'x_b', 'id', 'y', 'x_a', 'edge_index_a', 'edge_index_b', 'edge_attr_b', 'expression', 'edge_attr_a'}'. Please explicitly set 'num_nodes' as an attribute of 'data' to suppress this warning\n",
      "  warnings.warn(\n",
      "Iteration: 100%|██████████████████████████████████████████████████████████████████████████████████████████████████████████████████████████████████████████████████████████████████████████████████████████████| 16/16 [00:01<00:00, 12.28it/s]\n",
      "Iteration:   0%|                                                                                                                                                                                                       | 0/38 [00:00<?, ?it/s]/opt/conda/envs/graphnn/lib/python3.9/site-packages/torch_geometric/data/storage.py:244: UserWarning: Unable to accurately infer 'num_nodes' from the attribute set '{'x_b', 'id', 'y', 'x_a', 'edge_index_a', 'edge_index_b', 'edge_attr_b', 'expression', 'edge_attr_a'}'. Please explicitly set 'num_nodes' as an attribute of 'data' to suppress this warning\n",
      "  warnings.warn(\n",
      "Iteration: 100%|██████████████████████████████████████████████████████████████████████████████████████████████████████████████████████████████████████████████████████████████████████████████████████████████| 38/38 [00:03<00:00, 10.72it/s]\n"
     ]
    },
    {
     "name": "stdout",
     "output_type": "stream",
     "text": [
      "{'Train':  best_epoch_indx:32\n",
      " auc:0.8574169758933455 \n",
      " apur:0.4040248313731947 \n",
      " f1:0.248768115942029 \n",
      " precision:0.14609754021618862 \n",
      " recall:0.8369088249634324 \n",
      ", 'Validation':  best_epoch_indx:32\n",
      " auc:0.857626685565246 \n",
      " apur:0.41055887097528976 \n",
      " f1:0.2476376669925057 \n",
      " precision:0.14542671259089168 \n",
      " recall:0.8333333333333334 \n",
      ", 'Test':  best_epoch_indx:32\n",
      " auc:0.8557319824706036 \n",
      " apur:0.3961398257469795 \n",
      " f1:0.24941421504816452 \n",
      " precision:0.1464383980434118 \n",
      " recall:0.8403508771929824 \n",
      "}\n",
      "=====Epoch 33\n",
      "Training...\n"
     ]
    },
    {
     "name": "stderr",
     "output_type": "stream",
     "text": [
      "Iteration:   0%|                                                                                                                                                                                                      | 0/136 [00:00<?, ?it/s]/opt/conda/envs/graphnn/lib/python3.9/site-packages/torch_geometric/data/storage.py:244: UserWarning: Unable to accurately infer 'num_nodes' from the attribute set '{'x_b', 'id', 'y', 'x_a', 'edge_index_a', 'edge_index_b', 'edge_attr_b', 'expression', 'edge_attr_a'}'. Please explicitly set 'num_nodes' as an attribute of 'data' to suppress this warning\n",
      "  warnings.warn(\n",
      "Iteration: 100%|████████████████████████████████████████████████████████████████████████████████████████████████████████████████████████████████████████████████████████████████████████████████████████████| 136/136 [00:30<00:00,  4.47it/s]\n"
     ]
    },
    {
     "name": "stdout",
     "output_type": "stream",
     "text": [
      "Evaluating...\n"
     ]
    },
    {
     "name": "stderr",
     "output_type": "stream",
     "text": [
      "Iteration: 100%|████████████████████████████████████████████████████████████████████████████████████████████████████████████████████████████████████████████████████████████████████████████████████████████| 136/136 [00:11<00:00, 11.55it/s]\n",
      "Iteration:   0%|                                                                                                                                                                                                       | 0/16 [00:00<?, ?it/s]/opt/conda/envs/graphnn/lib/python3.9/site-packages/torch_geometric/data/storage.py:244: UserWarning: Unable to accurately infer 'num_nodes' from the attribute set '{'x_b', 'id', 'y', 'x_a', 'edge_index_a', 'edge_index_b', 'edge_attr_b', 'expression', 'edge_attr_a'}'. Please explicitly set 'num_nodes' as an attribute of 'data' to suppress this warning\n",
      "  warnings.warn(\n",
      "Iteration: 100%|██████████████████████████████████████████████████████████████████████████████████████████████████████████████████████████████████████████████████████████████████████████████████████████████| 16/16 [00:01<00:00, 12.33it/s]\n",
      "Iteration:   0%|                                                                                                                                                                                                       | 0/38 [00:00<?, ?it/s]/opt/conda/envs/graphnn/lib/python3.9/site-packages/torch_geometric/data/storage.py:244: UserWarning: Unable to accurately infer 'num_nodes' from the attribute set '{'x_b', 'id', 'y', 'x_a', 'edge_index_a', 'edge_index_b', 'edge_attr_b', 'expression', 'edge_attr_a'}'. Please explicitly set 'num_nodes' as an attribute of 'data' to suppress this warning\n",
      "  warnings.warn(\n",
      "Iteration: 100%|██████████████████████████████████████████████████████████████████████████████████████████████████████████████████████████████████████████████████████████████████████████████████████████████| 38/38 [00:03<00:00, 11.89it/s]\n"
     ]
    },
    {
     "name": "stdout",
     "output_type": "stream",
     "text": [
      "{'Train':  best_epoch_indx:33\n",
      " auc:0.855112819663467 \n",
      " apur:0.39623627129079164 \n",
      " f1:0.22547370425619703 \n",
      " precision:0.12961138478379858 \n",
      " recall:0.8659190638712823 \n",
      ", 'Validation':  best_epoch_indx:33\n",
      " auc:0.8559814967481909 \n",
      " apur:0.3999659826874219 \n",
      " f1:0.22568755316132694 \n",
      " precision:0.12959947899706936 \n",
      " recall:0.8728070175438597 \n",
      ", 'Test':  best_epoch_indx:33\n",
      " auc:0.8519836517647512 \n",
      " apur:0.38427157908071885 \n",
      " f1:0.2216160927378111 \n",
      " precision:0.127301214257736 \n",
      " recall:0.8552631578947368 \n",
      "}\n",
      "=====Epoch 34\n",
      "Training...\n"
     ]
    },
    {
     "name": "stderr",
     "output_type": "stream",
     "text": [
      "Iteration:   0%|                                                                                                                                                                                                      | 0/136 [00:00<?, ?it/s]/opt/conda/envs/graphnn/lib/python3.9/site-packages/torch_geometric/data/storage.py:244: UserWarning: Unable to accurately infer 'num_nodes' from the attribute set '{'x_b', 'id', 'y', 'x_a', 'edge_index_a', 'edge_index_b', 'edge_attr_b', 'expression', 'edge_attr_a'}'. Please explicitly set 'num_nodes' as an attribute of 'data' to suppress this warning\n",
      "  warnings.warn(\n",
      "Iteration: 100%|████████████████████████████████████████████████████████████████████████████████████████████████████████████████████████████████████████████████████████████████████████████████████████████| 136/136 [00:30<00:00,  4.49it/s]\n"
     ]
    },
    {
     "name": "stdout",
     "output_type": "stream",
     "text": [
      "Evaluating...\n"
     ]
    },
    {
     "name": "stderr",
     "output_type": "stream",
     "text": [
      "Iteration: 100%|████████████████████████████████████████████████████████████████████████████████████████████████████████████████████████████████████████████████████████████████████████████████████████████| 136/136 [00:12<00:00, 11.06it/s]\n",
      "Iteration:   0%|                                                                                                                                                                                                       | 0/16 [00:00<?, ?it/s]/opt/conda/envs/graphnn/lib/python3.9/site-packages/torch_geometric/data/storage.py:244: UserWarning: Unable to accurately infer 'num_nodes' from the attribute set '{'x_b', 'id', 'y', 'x_a', 'edge_index_a', 'edge_index_b', 'edge_attr_b', 'expression', 'edge_attr_a'}'. Please explicitly set 'num_nodes' as an attribute of 'data' to suppress this warning\n",
      "  warnings.warn(\n",
      "Iteration: 100%|██████████████████████████████████████████████████████████████████████████████████████████████████████████████████████████████████████████████████████████████████████████████████████████████| 16/16 [00:01<00:00, 12.27it/s]\n",
      "Iteration:   0%|                                                                                                                                                                                                       | 0/38 [00:00<?, ?it/s]/opt/conda/envs/graphnn/lib/python3.9/site-packages/torch_geometric/data/storage.py:244: UserWarning: Unable to accurately infer 'num_nodes' from the attribute set '{'x_b', 'id', 'y', 'x_a', 'edge_index_a', 'edge_index_b', 'edge_attr_b', 'expression', 'edge_attr_a'}'. Please explicitly set 'num_nodes' as an attribute of 'data' to suppress this warning\n",
      "  warnings.warn(\n",
      "Iteration: 100%|██████████████████████████████████████████████████████████████████████████████████████████████████████████████████████████████████████████████████████████████████████████████████████████████| 38/38 [00:03<00:00, 11.87it/s]\n"
     ]
    },
    {
     "name": "stdout",
     "output_type": "stream",
     "text": [
      "{'Train':  best_epoch_indx:34\n",
      " auc:0.8535945526479357 \n",
      " apur:0.38966469138877347 \n",
      " f1:0.27794355870065646 \n",
      " precision:0.16842322793965694 \n",
      " recall:0.7947342759629449 \n",
      ", 'Validation':  best_epoch_indx:34\n",
      " auc:0.8542171372027211 \n",
      " apur:0.3955319006161669 \n",
      " f1:0.27591463414634143 \n",
      " precision:0.1669741697416974 \n",
      " recall:0.793859649122807 \n",
      ", 'Test':  best_epoch_indx:34\n",
      " auc:0.8496790857330191 \n",
      " apur:0.3776409373909416 \n",
      " f1:0.2719975301018833 \n",
      " precision:0.16504308729861372 \n",
      " recall:0.7728070175438596 \n",
      "}\n",
      "=====Epoch 35\n",
      "Training...\n"
     ]
    },
    {
     "name": "stderr",
     "output_type": "stream",
     "text": [
      "Iteration:   0%|                                                                                                                                                                                                      | 0/136 [00:00<?, ?it/s]/opt/conda/envs/graphnn/lib/python3.9/site-packages/torch_geometric/data/storage.py:244: UserWarning: Unable to accurately infer 'num_nodes' from the attribute set '{'x_b', 'id', 'y', 'x_a', 'edge_index_a', 'edge_index_b', 'edge_attr_b', 'expression', 'edge_attr_a'}'. Please explicitly set 'num_nodes' as an attribute of 'data' to suppress this warning\n",
      "  warnings.warn(\n",
      "Iteration: 100%|████████████████████████████████████████████████████████████████████████████████████████████████████████████████████████████████████████████████████████████████████████████████████████████| 136/136 [00:30<00:00,  4.43it/s]\n"
     ]
    },
    {
     "name": "stdout",
     "output_type": "stream",
     "text": [
      "Evaluating...\n"
     ]
    },
    {
     "name": "stderr",
     "output_type": "stream",
     "text": [
      "Iteration: 100%|████████████████████████████████████████████████████████████████████████████████████████████████████████████████████████████████████████████████████████████████████████████████████████████| 136/136 [00:11<00:00, 11.49it/s]\n",
      "Iteration:   0%|                                                                                                                                                                                                       | 0/16 [00:00<?, ?it/s]/opt/conda/envs/graphnn/lib/python3.9/site-packages/torch_geometric/data/storage.py:244: UserWarning: Unable to accurately infer 'num_nodes' from the attribute set '{'x_b', 'id', 'y', 'x_a', 'edge_index_a', 'edge_index_b', 'edge_attr_b', 'expression', 'edge_attr_a'}'. Please explicitly set 'num_nodes' as an attribute of 'data' to suppress this warning\n",
      "  warnings.warn(\n",
      "Iteration: 100%|██████████████████████████████████████████████████████████████████████████████████████████████████████████████████████████████████████████████████████████████████████████████████████████████| 16/16 [00:01<00:00, 12.12it/s]\n",
      "Iteration:   0%|                                                                                                                                                                                                       | 0/38 [00:00<?, ?it/s]/opt/conda/envs/graphnn/lib/python3.9/site-packages/torch_geometric/data/storage.py:244: UserWarning: Unable to accurately infer 'num_nodes' from the attribute set '{'x_b', 'id', 'y', 'x_a', 'edge_index_a', 'edge_index_b', 'edge_attr_b', 'expression', 'edge_attr_a'}'. Please explicitly set 'num_nodes' as an attribute of 'data' to suppress this warning\n",
      "  warnings.warn(\n",
      "Iteration: 100%|██████████████████████████████████████████████████████████████████████████████████████████████████████████████████████████████████████████████████████████████████████████████████████████████| 38/38 [00:03<00:00, 10.68it/s]\n"
     ]
    },
    {
     "name": "stdout",
     "output_type": "stream",
     "text": [
      "{'Train':  best_epoch_indx:35\n",
      " auc:0.8559779757407483 \n",
      " apur:0.4084021564774969 \n",
      " f1:0.24093029733305482 \n",
      " precision:0.14053614947197401 \n",
      " recall:0.8434909800097513 \n",
      ", 'Validation':  best_epoch_indx:35\n",
      " auc:0.8573970822907777 \n",
      " apur:0.4039962789080725 \n",
      " f1:0.24544883866917763 \n",
      " precision:0.14322344322344321 \n",
      " recall:0.8574561403508771 \n",
      ", 'Test':  best_epoch_indx:35\n",
      " auc:0.8540802128982802 \n",
      " apur:0.3992511450825739 \n",
      " f1:0.2420430242797836 \n",
      " precision:0.141283595241592 \n",
      " recall:0.843859649122807 \n",
      "}\n",
      "=====Epoch 36\n",
      "Training...\n"
     ]
    },
    {
     "name": "stderr",
     "output_type": "stream",
     "text": [
      "Iteration:   0%|                                                                                                                                                                                                      | 0/136 [00:00<?, ?it/s]/opt/conda/envs/graphnn/lib/python3.9/site-packages/torch_geometric/data/storage.py:244: UserWarning: Unable to accurately infer 'num_nodes' from the attribute set '{'x_b', 'id', 'y', 'x_a', 'edge_index_a', 'edge_index_b', 'edge_attr_b', 'expression', 'edge_attr_a'}'. Please explicitly set 'num_nodes' as an attribute of 'data' to suppress this warning\n",
      "  warnings.warn(\n",
      "Iteration: 100%|████████████████████████████████████████████████████████████████████████████████████████████████████████████████████████████████████████████████████████████████████████████████████████████| 136/136 [00:30<00:00,  4.48it/s]\n"
     ]
    },
    {
     "name": "stdout",
     "output_type": "stream",
     "text": [
      "Evaluating...\n"
     ]
    },
    {
     "name": "stderr",
     "output_type": "stream",
     "text": [
      "Iteration: 100%|████████████████████████████████████████████████████████████████████████████████████████████████████████████████████████████████████████████████████████████████████████████████████████████| 136/136 [00:11<00:00, 11.59it/s]\n",
      "Iteration:   0%|                                                                                                                                                                                                       | 0/16 [00:00<?, ?it/s]/opt/conda/envs/graphnn/lib/python3.9/site-packages/torch_geometric/data/storage.py:244: UserWarning: Unable to accurately infer 'num_nodes' from the attribute set '{'x_b', 'id', 'y', 'x_a', 'edge_index_a', 'edge_index_b', 'edge_attr_b', 'expression', 'edge_attr_a'}'. Please explicitly set 'num_nodes' as an attribute of 'data' to suppress this warning\n",
      "  warnings.warn(\n",
      "Iteration: 100%|██████████████████████████████████████████████████████████████████████████████████████████████████████████████████████████████████████████████████████████████████████████████████████████████| 16/16 [00:01<00:00, 12.31it/s]\n",
      "Iteration:   0%|                                                                                                                                                                                                       | 0/38 [00:00<?, ?it/s]/opt/conda/envs/graphnn/lib/python3.9/site-packages/torch_geometric/data/storage.py:244: UserWarning: Unable to accurately infer 'num_nodes' from the attribute set '{'x_b', 'id', 'y', 'x_a', 'edge_index_a', 'edge_index_b', 'edge_attr_b', 'expression', 'edge_attr_a'}'. Please explicitly set 'num_nodes' as an attribute of 'data' to suppress this warning\n",
      "  warnings.warn(\n",
      "Iteration: 100%|██████████████████████████████████████████████████████████████████████████████████████████████████████████████████████████████████████████████████████████████████████████████████████████████| 38/38 [00:03<00:00, 11.81it/s]\n"
     ]
    },
    {
     "name": "stdout",
     "output_type": "stream",
     "text": [
      "{'Train':  best_epoch_indx:36\n",
      " auc:0.8558625526181606 \n",
      " apur:0.4033652754280776 \n",
      " f1:0.25098154331633216 \n",
      " precision:0.14772580018141765 \n",
      " recall:0.8337396392003901 \n",
      ", 'Validation':  best_epoch_indx:36\n",
      " auc:0.8579418627635315 \n",
      " apur:0.4022849457588442 \n",
      " f1:0.2528052805280528 \n",
      " precision:0.1487956487956488 \n",
      " recall:0.8399122807017544 \n",
      ", 'Test':  best_epoch_indx:36\n",
      " auc:0.854047743017891 \n",
      " apur:0.39497166615049945 \n",
      " f1:0.24887833201372397 \n",
      " precision:0.14647406026716372 \n",
      " recall:0.8271929824561404 \n",
      "}\n",
      "=====Epoch 37\n",
      "Training...\n"
     ]
    },
    {
     "name": "stderr",
     "output_type": "stream",
     "text": [
      "Iteration:   0%|                                                                                                                                                                                                      | 0/136 [00:00<?, ?it/s]/opt/conda/envs/graphnn/lib/python3.9/site-packages/torch_geometric/data/storage.py:244: UserWarning: Unable to accurately infer 'num_nodes' from the attribute set '{'x_b', 'id', 'y', 'x_a', 'edge_index_a', 'edge_index_b', 'edge_attr_b', 'expression', 'edge_attr_a'}'. Please explicitly set 'num_nodes' as an attribute of 'data' to suppress this warning\n",
      "  warnings.warn(\n",
      "Iteration: 100%|████████████████████████████████████████████████████████████████████████████████████████████████████████████████████████████████████████████████████████████████████████████████████████████| 136/136 [00:30<00:00,  4.50it/s]\n"
     ]
    },
    {
     "name": "stdout",
     "output_type": "stream",
     "text": [
      "Evaluating...\n"
     ]
    },
    {
     "name": "stderr",
     "output_type": "stream",
     "text": [
      "Iteration: 100%|████████████████████████████████████████████████████████████████████████████████████████████████████████████████████████████████████████████████████████████████████████████████████████████| 136/136 [00:12<00:00, 11.20it/s]\n",
      "Iteration:   0%|                                                                                                                                                                                                       | 0/16 [00:00<?, ?it/s]/opt/conda/envs/graphnn/lib/python3.9/site-packages/torch_geometric/data/storage.py:244: UserWarning: Unable to accurately infer 'num_nodes' from the attribute set '{'x_b', 'id', 'y', 'x_a', 'edge_index_a', 'edge_index_b', 'edge_attr_b', 'expression', 'edge_attr_a'}'. Please explicitly set 'num_nodes' as an attribute of 'data' to suppress this warning\n",
      "  warnings.warn(\n",
      "Iteration: 100%|██████████████████████████████████████████████████████████████████████████████████████████████████████████████████████████████████████████████████████████████████████████████████████████████| 16/16 [00:01<00:00, 12.39it/s]\n",
      "Iteration:   0%|                                                                                                                                                                                                       | 0/38 [00:00<?, ?it/s]/opt/conda/envs/graphnn/lib/python3.9/site-packages/torch_geometric/data/storage.py:244: UserWarning: Unable to accurately infer 'num_nodes' from the attribute set '{'x_b', 'id', 'y', 'x_a', 'edge_index_a', 'edge_index_b', 'edge_attr_b', 'expression', 'edge_attr_a'}'. Please explicitly set 'num_nodes' as an attribute of 'data' to suppress this warning\n",
      "  warnings.warn(\n",
      "Iteration: 100%|██████████████████████████████████████████████████████████████████████████████████████████████████████████████████████████████████████████████████████████████████████████████████████████████| 38/38 [00:03<00:00, 11.93it/s]\n"
     ]
    },
    {
     "name": "stdout",
     "output_type": "stream",
     "text": [
      "{'Train':  best_epoch_indx:37\n",
      " auc:0.8608789028625023 \n",
      " apur:0.4121643723184171 \n",
      " f1:0.23454981353223225 \n",
      " precision:0.13582722715001927 \n",
      " recall:0.8586055582642613 \n",
      ", 'Validation':  best_epoch_indx:37\n",
      " auc:0.8610118272804849 \n",
      " apur:0.4125544793595341 \n",
      " f1:0.23399821375409344 \n",
      " precision:0.13537719600413364 \n",
      " recall:0.8618421052631579 \n",
      ", 'Test':  best_epoch_indx:37\n",
      " auc:0.8571631882674535 \n",
      " apur:0.40162569210091104 \n",
      " f1:0.2335329341317365 \n",
      " precision:0.13522884882108183 \n",
      " recall:0.8552631578947368 \n",
      "}\n",
      "=====Epoch 38\n",
      "Training...\n"
     ]
    },
    {
     "name": "stderr",
     "output_type": "stream",
     "text": [
      "Iteration:   0%|                                                                                                                                                                                                      | 0/136 [00:00<?, ?it/s]/opt/conda/envs/graphnn/lib/python3.9/site-packages/torch_geometric/data/storage.py:244: UserWarning: Unable to accurately infer 'num_nodes' from the attribute set '{'x_b', 'id', 'y', 'x_a', 'edge_index_a', 'edge_index_b', 'edge_attr_b', 'expression', 'edge_attr_a'}'. Please explicitly set 'num_nodes' as an attribute of 'data' to suppress this warning\n",
      "  warnings.warn(\n",
      "Iteration: 100%|████████████████████████████████████████████████████████████████████████████████████████████████████████████████████████████████████████████████████████████████████████████████████████████| 136/136 [00:30<00:00,  4.43it/s]\n"
     ]
    },
    {
     "name": "stdout",
     "output_type": "stream",
     "text": [
      "Evaluating...\n"
     ]
    },
    {
     "name": "stderr",
     "output_type": "stream",
     "text": [
      "Iteration: 100%|████████████████████████████████████████████████████████████████████████████████████████████████████████████████████████████████████████████████████████████████████████████████████████████| 136/136 [00:11<00:00, 11.39it/s]\n",
      "Iteration:   0%|                                                                                                                                                                                                       | 0/16 [00:00<?, ?it/s]/opt/conda/envs/graphnn/lib/python3.9/site-packages/torch_geometric/data/storage.py:244: UserWarning: Unable to accurately infer 'num_nodes' from the attribute set '{'x_b', 'id', 'y', 'x_a', 'edge_index_a', 'edge_index_b', 'edge_attr_b', 'expression', 'edge_attr_a'}'. Please explicitly set 'num_nodes' as an attribute of 'data' to suppress this warning\n",
      "  warnings.warn(\n",
      "Iteration: 100%|██████████████████████████████████████████████████████████████████████████████████████████████████████████████████████████████████████████████████████████████████████████████████████████████| 16/16 [00:01<00:00, 12.24it/s]\n",
      "Iteration:   0%|                                                                                                                                                                                                       | 0/38 [00:00<?, ?it/s]/opt/conda/envs/graphnn/lib/python3.9/site-packages/torch_geometric/data/storage.py:244: UserWarning: Unable to accurately infer 'num_nodes' from the attribute set '{'x_b', 'id', 'y', 'x_a', 'edge_index_a', 'edge_index_b', 'edge_attr_b', 'expression', 'edge_attr_a'}'. Please explicitly set 'num_nodes' as an attribute of 'data' to suppress this warning\n",
      "  warnings.warn(\n",
      "Iteration: 100%|██████████████████████████████████████████████████████████████████████████████████████████████████████████████████████████████████████████████████████████████████████████████████████████████| 38/38 [00:03<00:00, 10.74it/s]\n"
     ]
    },
    {
     "name": "stdout",
     "output_type": "stream",
     "text": [
      "{'Train':  best_epoch_indx:38\n",
      " auc:0.8657468261618797 \n",
      " apur:0.4316239679596243 \n",
      " f1:0.2541013488880787 \n",
      " precision:0.14939128943758573 \n",
      " recall:0.8495855680156021 \n",
      ", 'Validation':  best_epoch_indx:38\n",
      " auc:0.8662868269189048 \n",
      " apur:0.43632436797354557 \n",
      " f1:0.2553745928338762 \n",
      " precision:0.1499617444529457 \n",
      " recall:0.8596491228070176 \n",
      ", 'Test':  best_epoch_indx:38\n",
      " auc:0.863607483258848 \n",
      " apur:0.42122471677834694 \n",
      " f1:0.2554639445098809 \n",
      " precision:0.15013074911552068 \n",
      " recall:0.856140350877193 \n",
      "}\n",
      "=====Epoch 39\n",
      "Training...\n"
     ]
    },
    {
     "name": "stderr",
     "output_type": "stream",
     "text": [
      "Iteration:   0%|                                                                                                                                                                                                      | 0/136 [00:00<?, ?it/s]/opt/conda/envs/graphnn/lib/python3.9/site-packages/torch_geometric/data/storage.py:244: UserWarning: Unable to accurately infer 'num_nodes' from the attribute set '{'x_b', 'id', 'y', 'x_a', 'edge_index_a', 'edge_index_b', 'edge_attr_b', 'expression', 'edge_attr_a'}'. Please explicitly set 'num_nodes' as an attribute of 'data' to suppress this warning\n",
      "  warnings.warn(\n",
      "Iteration: 100%|████████████████████████████████████████████████████████████████████████████████████████████████████████████████████████████████████████████████████████████████████████████████████████████| 136/136 [00:30<00:00,  4.49it/s]\n"
     ]
    },
    {
     "name": "stdout",
     "output_type": "stream",
     "text": [
      "Evaluating...\n"
     ]
    },
    {
     "name": "stderr",
     "output_type": "stream",
     "text": [
      "Iteration: 100%|████████████████████████████████████████████████████████████████████████████████████████████████████████████████████████████████████████████████████████████████████████████████████████████| 136/136 [00:11<00:00, 11.54it/s]\n",
      "Iteration:   0%|                                                                                                                                                                                                       | 0/16 [00:00<?, ?it/s]/opt/conda/envs/graphnn/lib/python3.9/site-packages/torch_geometric/data/storage.py:244: UserWarning: Unable to accurately infer 'num_nodes' from the attribute set '{'x_b', 'id', 'y', 'x_a', 'edge_index_a', 'edge_index_b', 'edge_attr_b', 'expression', 'edge_attr_a'}'. Please explicitly set 'num_nodes' as an attribute of 'data' to suppress this warning\n",
      "  warnings.warn(\n",
      "Iteration: 100%|██████████████████████████████████████████████████████████████████████████████████████████████████████████████████████████████████████████████████████████████████████████████████████████████| 16/16 [00:01<00:00, 12.12it/s]\n",
      "Iteration:   0%|                                                                                                                                                                                                       | 0/38 [00:00<?, ?it/s]/opt/conda/envs/graphnn/lib/python3.9/site-packages/torch_geometric/data/storage.py:244: UserWarning: Unable to accurately infer 'num_nodes' from the attribute set '{'x_b', 'id', 'y', 'x_a', 'edge_index_a', 'edge_index_b', 'edge_attr_b', 'expression', 'edge_attr_a'}'. Please explicitly set 'num_nodes' as an attribute of 'data' to suppress this warning\n",
      "  warnings.warn(\n",
      "Iteration: 100%|██████████████████████████████████████████████████████████████████████████████████████████████████████████████████████████████████████████████████████████████████████████████████████████████| 38/38 [00:03<00:00, 11.78it/s]\n"
     ]
    },
    {
     "name": "stdout",
     "output_type": "stream",
     "text": [
      "{'Train':  best_epoch_indx:39\n",
      " auc:0.8678835477759872 \n",
      " apur:0.4390002211271132 \n",
      " f1:0.2998269329716076 \n",
      " precision:0.1855067430688198 \n",
      " recall:0.7813261823500731 \n",
      ", 'Validation':  best_epoch_indx:39\n",
      " auc:0.8667583874498006 \n",
      " apur:0.44512370400147755 \n",
      " f1:0.30168516235100695 \n",
      " precision:0.18563480020232676 \n",
      " recall:0.8048245614035088 \n",
      ", 'Test':  best_epoch_indx:39\n",
      " auc:0.865597739884198 \n",
      " apur:0.4305875706100535 \n",
      " f1:0.29760107364536154 \n",
      " precision:0.18398672474590333 \n",
      " recall:0.7780701754385965 \n",
      "}\n",
      "=====Epoch 40\n",
      "Training...\n"
     ]
    },
    {
     "name": "stderr",
     "output_type": "stream",
     "text": [
      "Iteration:   0%|                                                                                                                                                                                                      | 0/136 [00:00<?, ?it/s]/opt/conda/envs/graphnn/lib/python3.9/site-packages/torch_geometric/data/storage.py:244: UserWarning: Unable to accurately infer 'num_nodes' from the attribute set '{'x_b', 'id', 'y', 'x_a', 'edge_index_a', 'edge_index_b', 'edge_attr_b', 'expression', 'edge_attr_a'}'. Please explicitly set 'num_nodes' as an attribute of 'data' to suppress this warning\n",
      "  warnings.warn(\n",
      "Iteration: 100%|████████████████████████████████████████████████████████████████████████████████████████████████████████████████████████████████████████████████████████████████████████████████████████████| 136/136 [00:30<00:00,  4.48it/s]\n"
     ]
    },
    {
     "name": "stdout",
     "output_type": "stream",
     "text": [
      "Evaluating...\n"
     ]
    },
    {
     "name": "stderr",
     "output_type": "stream",
     "text": [
      "Iteration: 100%|████████████████████████████████████████████████████████████████████████████████████████████████████████████████████████████████████████████████████████████████████████████████████████████| 136/136 [00:12<00:00, 11.20it/s]\n",
      "Iteration:   0%|                                                                                                                                                                                                       | 0/16 [00:00<?, ?it/s]/opt/conda/envs/graphnn/lib/python3.9/site-packages/torch_geometric/data/storage.py:244: UserWarning: Unable to accurately infer 'num_nodes' from the attribute set '{'x_b', 'id', 'y', 'x_a', 'edge_index_a', 'edge_index_b', 'edge_attr_b', 'expression', 'edge_attr_a'}'. Please explicitly set 'num_nodes' as an attribute of 'data' to suppress this warning\n",
      "  warnings.warn(\n",
      "Iteration: 100%|██████████████████████████████████████████████████████████████████████████████████████████████████████████████████████████████████████████████████████████████████████████████████████████████| 16/16 [00:01<00:00, 12.28it/s]\n",
      "Iteration:   0%|                                                                                                                                                                                                       | 0/38 [00:00<?, ?it/s]/opt/conda/envs/graphnn/lib/python3.9/site-packages/torch_geometric/data/storage.py:244: UserWarning: Unable to accurately infer 'num_nodes' from the attribute set '{'x_b', 'id', 'y', 'x_a', 'edge_index_a', 'edge_index_b', 'edge_attr_b', 'expression', 'edge_attr_a'}'. Please explicitly set 'num_nodes' as an attribute of 'data' to suppress this warning\n",
      "  warnings.warn(\n",
      "Iteration: 100%|██████████████████████████████████████████████████████████████████████████████████████████████████████████████████████████████████████████████████████████████████████████████████████████████| 38/38 [00:03<00:00, 11.87it/s]\n"
     ]
    },
    {
     "name": "stdout",
     "output_type": "stream",
     "text": [
      "{'Train':  best_epoch_indx:40\n",
      " auc:0.8692957094100437 \n",
      " apur:0.44698290062311574 \n",
      " f1:0.2482112015790772 \n",
      " precision:0.14508220363426594 \n",
      " recall:0.8583617747440273 \n",
      ", 'Validation':  best_epoch_indx:40\n",
      " auc:0.8640727522984432 \n",
      " apur:0.4498725506011765 \n",
      " f1:0.24756519007225888 \n",
      " precision:0.1444811147781445 \n",
      " recall:0.8640350877192983 \n",
      ", 'Test':  best_epoch_indx:40\n",
      " auc:0.8657159042150581 \n",
      " apur:0.4338218868236726 \n",
      " f1:0.24808151968801112 \n",
      " precision:0.1448083419004259 \n",
      " recall:0.8649122807017544 \n",
      "}\n",
      "=====Epoch 41\n",
      "Training...\n"
     ]
    },
    {
     "name": "stderr",
     "output_type": "stream",
     "text": [
      "Iteration:   0%|                                                                                                                                                                                                      | 0/136 [00:00<?, ?it/s]/opt/conda/envs/graphnn/lib/python3.9/site-packages/torch_geometric/data/storage.py:244: UserWarning: Unable to accurately infer 'num_nodes' from the attribute set '{'x_b', 'id', 'y', 'x_a', 'edge_index_a', 'edge_index_b', 'edge_attr_b', 'expression', 'edge_attr_a'}'. Please explicitly set 'num_nodes' as an attribute of 'data' to suppress this warning\n",
      "  warnings.warn(\n",
      "Iteration: 100%|████████████████████████████████████████████████████████████████████████████████████████████████████████████████████████████████████████████████████████████████████████████████████████████| 136/136 [00:30<00:00,  4.40it/s]\n"
     ]
    },
    {
     "name": "stdout",
     "output_type": "stream",
     "text": [
      "Evaluating...\n"
     ]
    },
    {
     "name": "stderr",
     "output_type": "stream",
     "text": [
      "Iteration: 100%|████████████████████████████████████████████████████████████████████████████████████████████████████████████████████████████████████████████████████████████████████████████████████████████| 136/136 [00:11<00:00, 11.54it/s]\n",
      "Iteration:   0%|                                                                                                                                                                                                       | 0/16 [00:00<?, ?it/s]/opt/conda/envs/graphnn/lib/python3.9/site-packages/torch_geometric/data/storage.py:244: UserWarning: Unable to accurately infer 'num_nodes' from the attribute set '{'x_b', 'id', 'y', 'x_a', 'edge_index_a', 'edge_index_b', 'edge_attr_b', 'expression', 'edge_attr_a'}'. Please explicitly set 'num_nodes' as an attribute of 'data' to suppress this warning\n",
      "  warnings.warn(\n",
      "Iteration: 100%|██████████████████████████████████████████████████████████████████████████████████████████████████████████████████████████████████████████████████████████████████████████████████████████████| 16/16 [00:01<00:00, 12.31it/s]\n",
      "Iteration:   0%|                                                                                                                                                                                                       | 0/38 [00:00<?, ?it/s]/opt/conda/envs/graphnn/lib/python3.9/site-packages/torch_geometric/data/storage.py:244: UserWarning: Unable to accurately infer 'num_nodes' from the attribute set '{'x_b', 'id', 'y', 'x_a', 'edge_index_a', 'edge_index_b', 'edge_attr_b', 'expression', 'edge_attr_a'}'. Please explicitly set 'num_nodes' as an attribute of 'data' to suppress this warning\n",
      "  warnings.warn(\n",
      "Iteration: 100%|██████████████████████████████████████████████████████████████████████████████████████████████████████████████████████████████████████████████████████████████████████████████████████████████| 38/38 [00:03<00:00, 10.81it/s]\n"
     ]
    },
    {
     "name": "stdout",
     "output_type": "stream",
     "text": [
      "{'Train':  best_epoch_indx:41\n",
      " auc:0.8639066886009803 \n",
      " apur:0.42698276943711355 \n",
      " f1:0.27532831089704 \n",
      " precision:0.16563475159740454 \n",
      " recall:0.8152120916626036 \n",
      ", 'Validation':  best_epoch_indx:41\n",
      " auc:0.8627927592407786 \n",
      " apur:0.4297771947829853 \n",
      " f1:0.27425237053245805 \n",
      " precision:0.16447944006999124 \n",
      " recall:0.8245614035087719 \n",
      ", 'Test':  best_epoch_indx:41\n",
      " auc:0.8609134232944272 \n",
      " apur:0.4187624978486161 \n",
      " f1:0.27457980068421833 \n",
      " precision:0.16532330288375424 \n",
      " recall:0.8096491228070175 \n",
      "}\n",
      "=====Epoch 42\n",
      "Training...\n"
     ]
    },
    {
     "name": "stderr",
     "output_type": "stream",
     "text": [
      "Iteration:   0%|                                                                                                                                                                                                      | 0/136 [00:00<?, ?it/s]/opt/conda/envs/graphnn/lib/python3.9/site-packages/torch_geometric/data/storage.py:244: UserWarning: Unable to accurately infer 'num_nodes' from the attribute set '{'x_b', 'id', 'y', 'x_a', 'edge_index_a', 'edge_index_b', 'edge_attr_b', 'expression', 'edge_attr_a'}'. Please explicitly set 'num_nodes' as an attribute of 'data' to suppress this warning\n",
      "  warnings.warn(\n",
      "Iteration: 100%|████████████████████████████████████████████████████████████████████████████████████████████████████████████████████████████████████████████████████████████████████████████████████████████| 136/136 [00:30<00:00,  4.48it/s]\n"
     ]
    },
    {
     "name": "stdout",
     "output_type": "stream",
     "text": [
      "Evaluating...\n"
     ]
    },
    {
     "name": "stderr",
     "output_type": "stream",
     "text": [
      "Iteration: 100%|████████████████████████████████████████████████████████████████████████████████████████████████████████████████████████████████████████████████████████████████████████████████████████████| 136/136 [00:11<00:00, 11.46it/s]\n",
      "Iteration:   0%|                                                                                                                                                                                                       | 0/16 [00:00<?, ?it/s]/opt/conda/envs/graphnn/lib/python3.9/site-packages/torch_geometric/data/storage.py:244: UserWarning: Unable to accurately infer 'num_nodes' from the attribute set '{'x_b', 'id', 'y', 'x_a', 'edge_index_a', 'edge_index_b', 'edge_attr_b', 'expression', 'edge_attr_a'}'. Please explicitly set 'num_nodes' as an attribute of 'data' to suppress this warning\n",
      "  warnings.warn(\n",
      "Iteration: 100%|██████████████████████████████████████████████████████████████████████████████████████████████████████████████████████████████████████████████████████████████████████████████████████████████| 16/16 [00:01<00:00, 12.27it/s]\n",
      "Iteration:   0%|                                                                                                                                                                                                       | 0/38 [00:00<?, ?it/s]/opt/conda/envs/graphnn/lib/python3.9/site-packages/torch_geometric/data/storage.py:244: UserWarning: Unable to accurately infer 'num_nodes' from the attribute set '{'x_b', 'id', 'y', 'x_a', 'edge_index_a', 'edge_index_b', 'edge_attr_b', 'expression', 'edge_attr_a'}'. Please explicitly set 'num_nodes' as an attribute of 'data' to suppress this warning\n",
      "  warnings.warn(\n",
      "Iteration: 100%|██████████████████████████████████████████████████████████████████████████████████████████████████████████████████████████████████████████████████████████████████████████████████████████████| 38/38 [00:03<00:00, 11.84it/s]\n"
     ]
    },
    {
     "name": "stdout",
     "output_type": "stream",
     "text": [
      "{'Train':  best_epoch_indx:42\n",
      " auc:0.865548808810448 \n",
      " apur:0.43359818518593163 \n",
      " f1:0.21218323867731428 \n",
      " precision:0.1203204185058035 \n",
      " recall:0.8971233544612384 \n",
      ", 'Validation':  best_epoch_indx:42\n",
      " auc:0.8643276661700969 \n",
      " apur:0.44047535597285603 \n",
      " f1:0.2103634957463264 \n",
      " precision:0.11919368974583698 \n",
      " recall:0.8947368421052632 \n",
      ", 'Test':  best_epoch_indx:42\n",
      " auc:0.8623245252455127 \n",
      " apur:0.4233584005347094 \n",
      " f1:0.21138716356107656 \n",
      " precision:0.1198356807511737 \n",
      " recall:0.8956140350877193 \n",
      "}\n",
      "=====Epoch 43\n",
      "Training...\n"
     ]
    },
    {
     "name": "stderr",
     "output_type": "stream",
     "text": [
      "Iteration:   0%|                                                                                                                                                                                                      | 0/136 [00:00<?, ?it/s]/opt/conda/envs/graphnn/lib/python3.9/site-packages/torch_geometric/data/storage.py:244: UserWarning: Unable to accurately infer 'num_nodes' from the attribute set '{'x_b', 'id', 'y', 'x_a', 'edge_index_a', 'edge_index_b', 'edge_attr_b', 'expression', 'edge_attr_a'}'. Please explicitly set 'num_nodes' as an attribute of 'data' to suppress this warning\n",
      "  warnings.warn(\n",
      "Iteration: 100%|████████████████████████████████████████████████████████████████████████████████████████████████████████████████████████████████████████████████████████████████████████████████████████████| 136/136 [00:30<00:00,  4.49it/s]\n"
     ]
    },
    {
     "name": "stdout",
     "output_type": "stream",
     "text": [
      "Evaluating...\n"
     ]
    },
    {
     "name": "stderr",
     "output_type": "stream",
     "text": [
      "Iteration: 100%|████████████████████████████████████████████████████████████████████████████████████████████████████████████████████████████████████████████████████████████████████████████████████████████| 136/136 [00:12<00:00, 11.12it/s]\n",
      "Iteration:   0%|                                                                                                                                                                                                       | 0/16 [00:00<?, ?it/s]/opt/conda/envs/graphnn/lib/python3.9/site-packages/torch_geometric/data/storage.py:244: UserWarning: Unable to accurately infer 'num_nodes' from the attribute set '{'x_b', 'id', 'y', 'x_a', 'edge_index_a', 'edge_index_b', 'edge_attr_b', 'expression', 'edge_attr_a'}'. Please explicitly set 'num_nodes' as an attribute of 'data' to suppress this warning\n",
      "  warnings.warn(\n",
      "Iteration: 100%|██████████████████████████████████████████████████████████████████████████████████████████████████████████████████████████████████████████████████████████████████████████████████████████████| 16/16 [00:01<00:00, 12.29it/s]\n",
      "Iteration:   0%|                                                                                                                                                                                                       | 0/38 [00:00<?, ?it/s]/opt/conda/envs/graphnn/lib/python3.9/site-packages/torch_geometric/data/storage.py:244: UserWarning: Unable to accurately infer 'num_nodes' from the attribute set '{'x_b', 'id', 'y', 'x_a', 'edge_index_a', 'edge_index_b', 'edge_attr_b', 'expression', 'edge_attr_a'}'. Please explicitly set 'num_nodes' as an attribute of 'data' to suppress this warning\n",
      "  warnings.warn(\n",
      "Iteration: 100%|██████████████████████████████████████████████████████████████████████████████████████████████████████████████████████████████████████████████████████████████████████████████████████████████| 38/38 [00:03<00:00, 11.81it/s]\n"
     ]
    },
    {
     "name": "stdout",
     "output_type": "stream",
     "text": [
      "{'Train':  best_epoch_indx:43\n",
      " auc:0.8666606570617201 \n",
      " apur:0.4442042185602458 \n",
      " f1:0.26871524026727484 \n",
      " precision:0.16073907424249678 \n",
      " recall:0.8186250609458801 \n",
      ", 'Validation':  best_epoch_indx:43\n",
      " auc:0.8658221966705717 \n",
      " apur:0.45045533534658955 \n",
      " f1:0.2722063037249284 \n",
      " precision:0.16267123287671234 \n",
      " recall:0.8333333333333334 \n",
      ", 'Test':  best_epoch_indx:43\n",
      " auc:0.8632931979577962 \n",
      " apur:0.4363354749402959 \n",
      " f1:0.2703484169437617 \n",
      " precision:0.16184871040332352 \n",
      " recall:0.8201754385964912 \n",
      "}\n",
      "=====Epoch 44\n",
      "Training...\n"
     ]
    },
    {
     "name": "stderr",
     "output_type": "stream",
     "text": [
      "Iteration:   0%|                                                                                                                                                                                                      | 0/136 [00:00<?, ?it/s]/opt/conda/envs/graphnn/lib/python3.9/site-packages/torch_geometric/data/storage.py:244: UserWarning: Unable to accurately infer 'num_nodes' from the attribute set '{'x_b', 'id', 'y', 'x_a', 'edge_index_a', 'edge_index_b', 'edge_attr_b', 'expression', 'edge_attr_a'}'. Please explicitly set 'num_nodes' as an attribute of 'data' to suppress this warning\n",
      "  warnings.warn(\n",
      "Iteration: 100%|████████████████████████████████████████████████████████████████████████████████████████████████████████████████████████████████████████████████████████████████████████████████████████████| 136/136 [00:30<00:00,  4.41it/s]\n"
     ]
    },
    {
     "name": "stdout",
     "output_type": "stream",
     "text": [
      "Evaluating...\n"
     ]
    },
    {
     "name": "stderr",
     "output_type": "stream",
     "text": [
      "Iteration: 100%|████████████████████████████████████████████████████████████████████████████████████████████████████████████████████████████████████████████████████████████████████████████████████████████| 136/136 [00:11<00:00, 11.52it/s]\n",
      "Iteration:   0%|                                                                                                                                                                                                       | 0/16 [00:00<?, ?it/s]/opt/conda/envs/graphnn/lib/python3.9/site-packages/torch_geometric/data/storage.py:244: UserWarning: Unable to accurately infer 'num_nodes' from the attribute set '{'x_b', 'id', 'y', 'x_a', 'edge_index_a', 'edge_index_b', 'edge_attr_b', 'expression', 'edge_attr_a'}'. Please explicitly set 'num_nodes' as an attribute of 'data' to suppress this warning\n",
      "  warnings.warn(\n",
      "Iteration: 100%|██████████████████████████████████████████████████████████████████████████████████████████████████████████████████████████████████████████████████████████████████████████████████████████████| 16/16 [00:01<00:00, 12.32it/s]\n",
      "Iteration:   0%|                                                                                                                                                                                                       | 0/38 [00:00<?, ?it/s]/opt/conda/envs/graphnn/lib/python3.9/site-packages/torch_geometric/data/storage.py:244: UserWarning: Unable to accurately infer 'num_nodes' from the attribute set '{'x_b', 'id', 'y', 'x_a', 'edge_index_a', 'edge_index_b', 'edge_attr_b', 'expression', 'edge_attr_a'}'. Please explicitly set 'num_nodes' as an attribute of 'data' to suppress this warning\n",
      "  warnings.warn(\n",
      "Iteration: 100%|██████████████████████████████████████████████████████████████████████████████████████████████████████████████████████████████████████████████████████████████████████████████████████████████| 38/38 [00:03<00:00, 10.74it/s]\n"
     ]
    },
    {
     "name": "stdout",
     "output_type": "stream",
     "text": [
      "{'Train':  best_epoch_indx:44\n",
      " auc:0.8610977292774704 \n",
      " apur:0.42162174723625745 \n",
      " f1:0.284027239031118 \n",
      " precision:0.1725130890052356 \n",
      " recall:0.803266699171136 \n",
      ", 'Validation':  best_epoch_indx:44\n",
      " auc:0.8644189651099445 \n",
      " apur:0.42806997819816056 \n",
      " f1:0.2861514919663351 \n",
      " precision:0.17330861909175163 \n",
      " recall:0.8201754385964912 \n",
      ", 'Test':  best_epoch_indx:44\n",
      " auc:0.857208072393129 \n",
      " apur:0.41539885933170445 \n",
      " f1:0.2800186886777761 \n",
      " precision:0.17023291043363 \n",
      " recall:0.7885964912280702 \n",
      "}\n",
      "=====Epoch 45\n",
      "Training...\n"
     ]
    },
    {
     "name": "stderr",
     "output_type": "stream",
     "text": [
      "Iteration:   0%|                                                                                                                                                                                                      | 0/136 [00:00<?, ?it/s]/opt/conda/envs/graphnn/lib/python3.9/site-packages/torch_geometric/data/storage.py:244: UserWarning: Unable to accurately infer 'num_nodes' from the attribute set '{'x_b', 'id', 'y', 'x_a', 'edge_index_a', 'edge_index_b', 'edge_attr_b', 'expression', 'edge_attr_a'}'. Please explicitly set 'num_nodes' as an attribute of 'data' to suppress this warning\n",
      "  warnings.warn(\n",
      "Iteration: 100%|████████████████████████████████████████████████████████████████████████████████████████████████████████████████████████████████████████████████████████████████████████████████████████████| 136/136 [00:30<00:00,  4.46it/s]\n"
     ]
    },
    {
     "name": "stdout",
     "output_type": "stream",
     "text": [
      "Evaluating...\n"
     ]
    },
    {
     "name": "stderr",
     "output_type": "stream",
     "text": [
      "Iteration: 100%|████████████████████████████████████████████████████████████████████████████████████████████████████████████████████████████████████████████████████████████████████████████████████████████| 136/136 [00:11<00:00, 11.57it/s]\n",
      "Iteration:   0%|                                                                                                                                                                                                       | 0/16 [00:00<?, ?it/s]/opt/conda/envs/graphnn/lib/python3.9/site-packages/torch_geometric/data/storage.py:244: UserWarning: Unable to accurately infer 'num_nodes' from the attribute set '{'x_b', 'id', 'y', 'x_a', 'edge_index_a', 'edge_index_b', 'edge_attr_b', 'expression', 'edge_attr_a'}'. Please explicitly set 'num_nodes' as an attribute of 'data' to suppress this warning\n",
      "  warnings.warn(\n",
      "Iteration: 100%|██████████████████████████████████████████████████████████████████████████████████████████████████████████████████████████████████████████████████████████████████████████████████████████████| 16/16 [00:01<00:00, 12.35it/s]\n",
      "Iteration:   0%|                                                                                                                                                                                                       | 0/38 [00:00<?, ?it/s]/opt/conda/envs/graphnn/lib/python3.9/site-packages/torch_geometric/data/storage.py:244: UserWarning: Unable to accurately infer 'num_nodes' from the attribute set '{'x_b', 'id', 'y', 'x_a', 'edge_index_a', 'edge_index_b', 'edge_attr_b', 'expression', 'edge_attr_a'}'. Please explicitly set 'num_nodes' as an attribute of 'data' to suppress this warning\n",
      "  warnings.warn(\n",
      "Iteration: 100%|██████████████████████████████████████████████████████████████████████████████████████████████████████████████████████████████████████████████████████████████████████████████████████████████| 38/38 [00:03<00:00, 11.91it/s]\n"
     ]
    },
    {
     "name": "stdout",
     "output_type": "stream",
     "text": [
      "{'Train':  best_epoch_indx:45\n",
      " auc:0.863142017857608 \n",
      " apur:0.4298476077289913 \n",
      " f1:0.28374325134973 \n",
      " precision:0.17212518195050946 \n",
      " recall:0.8071672354948806 \n",
      ", 'Validation':  best_epoch_indx:45\n",
      " auc:0.8614503936400496 \n",
      " apur:0.4293491298665404 \n",
      " f1:0.2827977315689981 \n",
      " precision:0.1708542713567839 \n",
      " recall:0.8201754385964912 \n",
      ", 'Test':  best_epoch_indx:45\n",
      " auc:0.8606005119972231 \n",
      " apur:0.42514151866237254 \n",
      " f1:0.28505321610365575 \n",
      " precision:0.1729365524985963 \n",
      " recall:0.8105263157894737 \n",
      "}\n",
      "=====Epoch 46\n",
      "Training...\n"
     ]
    },
    {
     "name": "stderr",
     "output_type": "stream",
     "text": [
      "Iteration:   0%|                                                                                                                                                                                                      | 0/136 [00:00<?, ?it/s]/opt/conda/envs/graphnn/lib/python3.9/site-packages/torch_geometric/data/storage.py:244: UserWarning: Unable to accurately infer 'num_nodes' from the attribute set '{'x_b', 'id', 'y', 'x_a', 'edge_index_a', 'edge_index_b', 'edge_attr_b', 'expression', 'edge_attr_a'}'. Please explicitly set 'num_nodes' as an attribute of 'data' to suppress this warning\n",
      "  warnings.warn(\n",
      "Iteration: 100%|████████████████████████████████████████████████████████████████████████████████████████████████████████████████████████████████████████████████████████████████████████████████████████████| 136/136 [00:30<00:00,  4.47it/s]\n"
     ]
    },
    {
     "name": "stdout",
     "output_type": "stream",
     "text": [
      "Evaluating...\n"
     ]
    },
    {
     "name": "stderr",
     "output_type": "stream",
     "text": [
      "Iteration: 100%|████████████████████████████████████████████████████████████████████████████████████████████████████████████████████████████████████████████████████████████████████████████████████████████| 136/136 [00:12<00:00, 11.09it/s]\n",
      "Iteration:   0%|                                                                                                                                                                                                       | 0/16 [00:00<?, ?it/s]/opt/conda/envs/graphnn/lib/python3.9/site-packages/torch_geometric/data/storage.py:244: UserWarning: Unable to accurately infer 'num_nodes' from the attribute set '{'x_b', 'id', 'y', 'x_a', 'edge_index_a', 'edge_index_b', 'edge_attr_b', 'expression', 'edge_attr_a'}'. Please explicitly set 'num_nodes' as an attribute of 'data' to suppress this warning\n",
      "  warnings.warn(\n",
      "Iteration: 100%|██████████████████████████████████████████████████████████████████████████████████████████████████████████████████████████████████████████████████████████████████████████████████████████████| 16/16 [00:01<00:00, 12.33it/s]\n",
      "Iteration:   0%|                                                                                                                                                                                                       | 0/38 [00:00<?, ?it/s]/opt/conda/envs/graphnn/lib/python3.9/site-packages/torch_geometric/data/storage.py:244: UserWarning: Unable to accurately infer 'num_nodes' from the attribute set '{'x_b', 'id', 'y', 'x_a', 'edge_index_a', 'edge_index_b', 'edge_attr_b', 'expression', 'edge_attr_a'}'. Please explicitly set 'num_nodes' as an attribute of 'data' to suppress this warning\n",
      "  warnings.warn(\n",
      "Iteration: 100%|██████████████████████████████████████████████████████████████████████████████████████████████████████████████████████████████████████████████████████████████████████████████████████████████| 38/38 [00:03<00:00, 11.89it/s]\n"
     ]
    },
    {
     "name": "stdout",
     "output_type": "stream",
     "text": [
      "{'Train':  best_epoch_indx:46\n",
      " auc:0.8740061373896927 \n",
      " apur:0.46327656269188644 \n",
      " f1:0.2414220198841763 \n",
      " precision:0.13992472158627914 \n",
      " recall:0.87908337396392 \n",
      ", 'Validation':  best_epoch_indx:46\n",
      " auc:0.8698729468284617 \n",
      " apur:0.4734437598115178 \n",
      " f1:0.24213365298172007 \n",
      " precision:0.1402290871225269 \n",
      " recall:0.8859649122807017 \n",
      ", 'Test':  best_epoch_indx:46\n",
      " auc:0.8712964811038313 \n",
      " apur:0.45460460243764134 \n",
      " f1:0.2409725565719788 \n",
      " precision:0.1396484375 \n",
      " recall:0.8780701754385964 \n",
      "}\n",
      "=====Epoch 47\n",
      "Training...\n"
     ]
    },
    {
     "name": "stderr",
     "output_type": "stream",
     "text": [
      "Iteration:   0%|                                                                                                                                                                                                      | 0/136 [00:00<?, ?it/s]/opt/conda/envs/graphnn/lib/python3.9/site-packages/torch_geometric/data/storage.py:244: UserWarning: Unable to accurately infer 'num_nodes' from the attribute set '{'x_b', 'id', 'y', 'x_a', 'edge_index_a', 'edge_index_b', 'edge_attr_b', 'expression', 'edge_attr_a'}'. Please explicitly set 'num_nodes' as an attribute of 'data' to suppress this warning\n",
      "  warnings.warn(\n",
      "Iteration: 100%|████████████████████████████████████████████████████████████████████████████████████████████████████████████████████████████████████████████████████████████████████████████████████████████| 136/136 [00:30<00:00,  4.43it/s]\n"
     ]
    },
    {
     "name": "stdout",
     "output_type": "stream",
     "text": [
      "Evaluating...\n"
     ]
    },
    {
     "name": "stderr",
     "output_type": "stream",
     "text": [
      "Iteration: 100%|████████████████████████████████████████████████████████████████████████████████████████████████████████████████████████████████████████████████████████████████████████████████████████████| 136/136 [00:11<00:00, 11.48it/s]\n",
      "Iteration:   0%|                                                                                                                                                                                                       | 0/16 [00:00<?, ?it/s]/opt/conda/envs/graphnn/lib/python3.9/site-packages/torch_geometric/data/storage.py:244: UserWarning: Unable to accurately infer 'num_nodes' from the attribute set '{'x_b', 'id', 'y', 'x_a', 'edge_index_a', 'edge_index_b', 'edge_attr_b', 'expression', 'edge_attr_a'}'. Please explicitly set 'num_nodes' as an attribute of 'data' to suppress this warning\n",
      "  warnings.warn(\n",
      "Iteration: 100%|██████████████████████████████████████████████████████████████████████████████████████████████████████████████████████████████████████████████████████████████████████████████████████████████| 16/16 [00:01<00:00, 11.50it/s]\n",
      "Iteration:   0%|                                                                                                                                                                                                       | 0/38 [00:00<?, ?it/s]/opt/conda/envs/graphnn/lib/python3.9/site-packages/torch_geometric/data/storage.py:244: UserWarning: Unable to accurately infer 'num_nodes' from the attribute set '{'x_b', 'id', 'y', 'x_a', 'edge_index_a', 'edge_index_b', 'edge_attr_b', 'expression', 'edge_attr_a'}'. Please explicitly set 'num_nodes' as an attribute of 'data' to suppress this warning\n",
      "  warnings.warn(\n",
      "Iteration: 100%|██████████████████████████████████████████████████████████████████████████████████████████████████████████████████████████████████████████████████████████████████████████████████████████████| 38/38 [00:03<00:00, 10.45it/s]\n"
     ]
    },
    {
     "name": "stdout",
     "output_type": "stream",
     "text": [
      "{'Train':  best_epoch_indx:47\n",
      " auc:0.8746905791626503 \n",
      " apur:0.4754353352109994 \n",
      " f1:0.2763424313598445 \n",
      " precision:0.16569541569541568 \n",
      " recall:0.8317893710385178 \n",
      ", 'Validation':  best_epoch_indx:47\n",
      " auc:0.8735045655496255 \n",
      " apur:0.48441802341227763 \n",
      " f1:0.272337383845604 \n",
      " precision:0.16268146883005977 \n",
      " recall:0.8355263157894737 \n",
      ", 'Test':  best_epoch_indx:47\n",
      " auc:0.8697073612858748 \n",
      " apur:0.4643268945146432 \n",
      " f1:0.2747204878757079 \n",
      " precision:0.1646076213676701 \n",
      " recall:0.8298245614035088 \n",
      "}\n",
      "=====Epoch 48\n",
      "Training...\n"
     ]
    },
    {
     "name": "stderr",
     "output_type": "stream",
     "text": [
      "Iteration:   0%|                                                                                                                                                                                                      | 0/136 [00:00<?, ?it/s]/opt/conda/envs/graphnn/lib/python3.9/site-packages/torch_geometric/data/storage.py:244: UserWarning: Unable to accurately infer 'num_nodes' from the attribute set '{'x_b', 'id', 'y', 'x_a', 'edge_index_a', 'edge_index_b', 'edge_attr_b', 'expression', 'edge_attr_a'}'. Please explicitly set 'num_nodes' as an attribute of 'data' to suppress this warning\n",
      "  warnings.warn(\n",
      "Iteration: 100%|████████████████████████████████████████████████████████████████████████████████████████████████████████████████████████████████████████████████████████████████████████████████████████████| 136/136 [00:30<00:00,  4.50it/s]\n"
     ]
    },
    {
     "name": "stdout",
     "output_type": "stream",
     "text": [
      "Evaluating...\n"
     ]
    },
    {
     "name": "stderr",
     "output_type": "stream",
     "text": [
      "Iteration: 100%|████████████████████████████████████████████████████████████████████████████████████████████████████████████████████████████████████████████████████████████████████████████████████████████| 136/136 [00:11<00:00, 11.57it/s]\n",
      "Iteration:   0%|                                                                                                                                                                                                       | 0/16 [00:00<?, ?it/s]/opt/conda/envs/graphnn/lib/python3.9/site-packages/torch_geometric/data/storage.py:244: UserWarning: Unable to accurately infer 'num_nodes' from the attribute set '{'x_b', 'id', 'y', 'x_a', 'edge_index_a', 'edge_index_b', 'edge_attr_b', 'expression', 'edge_attr_a'}'. Please explicitly set 'num_nodes' as an attribute of 'data' to suppress this warning\n",
      "  warnings.warn(\n",
      "Iteration: 100%|██████████████████████████████████████████████████████████████████████████████████████████████████████████████████████████████████████████████████████████████████████████████████████████████| 16/16 [00:01<00:00, 12.35it/s]\n",
      "Iteration:   0%|                                                                                                                                                                                                       | 0/38 [00:00<?, ?it/s]/opt/conda/envs/graphnn/lib/python3.9/site-packages/torch_geometric/data/storage.py:244: UserWarning: Unable to accurately infer 'num_nodes' from the attribute set '{'x_b', 'id', 'y', 'x_a', 'edge_index_a', 'edge_index_b', 'edge_attr_b', 'expression', 'edge_attr_a'}'. Please explicitly set 'num_nodes' as an attribute of 'data' to suppress this warning\n",
      "  warnings.warn(\n",
      "Iteration: 100%|██████████████████████████████████████████████████████████████████████████████████████████████████████████████████████████████████████████████████████████████████████████████████████████████| 38/38 [00:03<00:00, 11.87it/s]\n"
     ]
    },
    {
     "name": "stdout",
     "output_type": "stream",
     "text": [
      "{'Train':  best_epoch_indx:48\n",
      " auc:0.8767232182402179 \n",
      " apur:0.48220603515520444 \n",
      " f1:0.24208828865148155 \n",
      " precision:0.14039120947630923 \n",
      " recall:0.8783520234032179 \n",
      ", 'Validation':  best_epoch_indx:48\n",
      " auc:0.8732993689224435 \n",
      " apur:0.5007256727261026 \n",
      " f1:0.23885064351990426 \n",
      " precision:0.13830155979202774 \n",
      " recall:0.875 \n",
      ", 'Test':  best_epoch_indx:48\n",
      " auc:0.8730410079885067 \n",
      " apur:0.472702359388526 \n",
      " f1:0.241271370093908 \n",
      " precision:0.13982696064750208 \n",
      " recall:0.8789473684210526 \n",
      "}\n",
      "=====Epoch 49\n",
      "Training...\n"
     ]
    },
    {
     "name": "stderr",
     "output_type": "stream",
     "text": [
      "Iteration:   0%|                                                                                                                                                                                                      | 0/136 [00:00<?, ?it/s]/opt/conda/envs/graphnn/lib/python3.9/site-packages/torch_geometric/data/storage.py:244: UserWarning: Unable to accurately infer 'num_nodes' from the attribute set '{'x_b', 'id', 'y', 'x_a', 'edge_index_a', 'edge_index_b', 'edge_attr_b', 'expression', 'edge_attr_a'}'. Please explicitly set 'num_nodes' as an attribute of 'data' to suppress this warning\n",
      "  warnings.warn(\n",
      "Iteration: 100%|████████████████████████████████████████████████████████████████████████████████████████████████████████████████████████████████████████████████████████████████████████████████████████████| 136/136 [00:30<00:00,  4.47it/s]\n"
     ]
    },
    {
     "name": "stdout",
     "output_type": "stream",
     "text": [
      "Evaluating...\n"
     ]
    },
    {
     "name": "stderr",
     "output_type": "stream",
     "text": [
      "Iteration: 100%|████████████████████████████████████████████████████████████████████████████████████████████████████████████████████████████████████████████████████████████████████████████████████████████| 136/136 [00:12<00:00, 11.22it/s]\n",
      "Iteration:   0%|                                                                                                                                                                                                       | 0/16 [00:00<?, ?it/s]/opt/conda/envs/graphnn/lib/python3.9/site-packages/torch_geometric/data/storage.py:244: UserWarning: Unable to accurately infer 'num_nodes' from the attribute set '{'x_b', 'id', 'y', 'x_a', 'edge_index_a', 'edge_index_b', 'edge_attr_b', 'expression', 'edge_attr_a'}'. Please explicitly set 'num_nodes' as an attribute of 'data' to suppress this warning\n",
      "  warnings.warn(\n",
      "Iteration: 100%|██████████████████████████████████████████████████████████████████████████████████████████████████████████████████████████████████████████████████████████████████████████████████████████████| 16/16 [00:01<00:00, 12.25it/s]\n",
      "Iteration:   0%|                                                                                                                                                                                                       | 0/38 [00:00<?, ?it/s]/opt/conda/envs/graphnn/lib/python3.9/site-packages/torch_geometric/data/storage.py:244: UserWarning: Unable to accurately infer 'num_nodes' from the attribute set '{'x_b', 'id', 'y', 'x_a', 'edge_index_a', 'edge_index_b', 'edge_attr_b', 'expression', 'edge_attr_a'}'. Please explicitly set 'num_nodes' as an attribute of 'data' to suppress this warning\n",
      "  warnings.warn(\n",
      "Iteration: 100%|██████████████████████████████████████████████████████████████████████████████████████████████████████████████████████████████████████████████████████████████████████████████████████████████| 38/38 [00:03<00:00, 11.93it/s]\n"
     ]
    },
    {
     "name": "stdout",
     "output_type": "stream",
     "text": [
      "{'Train':  best_epoch_indx:49\n",
      " auc:0.8783019993970546 \n",
      " apur:0.49747434740747704 \n",
      " f1:0.2943826179120297 \n",
      " precision:0.1797540718369108 \n",
      " recall:0.8125304729400292 \n",
      ", 'Validation':  best_epoch_indx:49\n",
      " auc:0.8759530645106859 \n",
      " apur:0.516353650480941 \n",
      " f1:0.29290972491282447 \n",
      " precision:0.17788235294117646 \n",
      " recall:0.8289473684210527 \n",
      ", 'Test':  best_epoch_indx:49\n",
      " auc:0.8752300853810812 \n",
      " apur:0.49069782723367705 \n",
      " f1:0.2944435649833782 \n",
      " precision:0.17964071856287425 \n",
      " recall:0.8157894736842105 \n",
      "}\n",
      "=====Epoch 50\n",
      "Training...\n"
     ]
    },
    {
     "name": "stderr",
     "output_type": "stream",
     "text": [
      "Iteration:   0%|                                                                                                                                                                                                      | 0/136 [00:00<?, ?it/s]/opt/conda/envs/graphnn/lib/python3.9/site-packages/torch_geometric/data/storage.py:244: UserWarning: Unable to accurately infer 'num_nodes' from the attribute set '{'x_b', 'id', 'y', 'x_a', 'edge_index_a', 'edge_index_b', 'edge_attr_b', 'expression', 'edge_attr_a'}'. Please explicitly set 'num_nodes' as an attribute of 'data' to suppress this warning\n",
      "  warnings.warn(\n",
      "Iteration: 100%|████████████████████████████████████████████████████████████████████████████████████████████████████████████████████████████████████████████████████████████████████████████████████████████| 136/136 [00:30<00:00,  4.41it/s]\n"
     ]
    },
    {
     "name": "stdout",
     "output_type": "stream",
     "text": [
      "Evaluating...\n"
     ]
    },
    {
     "name": "stderr",
     "output_type": "stream",
     "text": [
      "Iteration: 100%|████████████████████████████████████████████████████████████████████████████████████████████████████████████████████████████████████████████████████████████████████████████████████████████| 136/136 [00:11<00:00, 11.49it/s]\n",
      "Iteration:   0%|                                                                                                                                                                                                       | 0/16 [00:00<?, ?it/s]/opt/conda/envs/graphnn/lib/python3.9/site-packages/torch_geometric/data/storage.py:244: UserWarning: Unable to accurately infer 'num_nodes' from the attribute set '{'x_b', 'id', 'y', 'x_a', 'edge_index_a', 'edge_index_b', 'edge_attr_b', 'expression', 'edge_attr_a'}'. Please explicitly set 'num_nodes' as an attribute of 'data' to suppress this warning\n",
      "  warnings.warn(\n",
      "Iteration: 100%|██████████████████████████████████████████████████████████████████████████████████████████████████████████████████████████████████████████████████████████████████████████████████████████████| 16/16 [00:01<00:00, 12.31it/s]\n",
      "Iteration:   0%|                                                                                                                                                                                                       | 0/38 [00:00<?, ?it/s]/opt/conda/envs/graphnn/lib/python3.9/site-packages/torch_geometric/data/storage.py:244: UserWarning: Unable to accurately infer 'num_nodes' from the attribute set '{'x_b', 'id', 'y', 'x_a', 'edge_index_a', 'edge_index_b', 'edge_attr_b', 'expression', 'edge_attr_a'}'. Please explicitly set 'num_nodes' as an attribute of 'data' to suppress this warning\n",
      "  warnings.warn(\n",
      "Iteration: 100%|██████████████████████████████████████████████████████████████████████████████████████████████████████████████████████████████████████████████████████████████████████████████████████████████| 38/38 [00:03<00:00, 10.81it/s]\n"
     ]
    },
    {
     "name": "stdout",
     "output_type": "stream",
     "text": [
      "{'Train':  best_epoch_indx:50\n",
      " auc:0.8792998183719726 \n",
      " apur:0.4964450207524147 \n",
      " f1:0.34065813928063843 \n",
      " precision:0.21956031567080045 \n",
      " recall:0.7596294490492442 \n",
      ", 'Validation':  best_epoch_indx:50\n",
      " auc:0.8775446189670383 \n",
      " apur:0.5204407002275434 \n",
      " f1:0.33192289609779035 \n",
      " precision:0.21125074805505686 \n",
      " recall:0.7741228070175439 \n",
      ", 'Test':  best_epoch_indx:50\n",
      " auc:0.8762454983295006 \n",
      " apur:0.49427465481930455 \n",
      " f1:0.3394690951366014 \n",
      " precision:0.21785625466301914 \n",
      " recall:0.7684210526315789 \n",
      "}\n",
      "=====Epoch 51\n",
      "Training...\n"
     ]
    },
    {
     "name": "stderr",
     "output_type": "stream",
     "text": [
      "Iteration:   0%|                                                                                                                                                                                                      | 0/136 [00:00<?, ?it/s]/opt/conda/envs/graphnn/lib/python3.9/site-packages/torch_geometric/data/storage.py:244: UserWarning: Unable to accurately infer 'num_nodes' from the attribute set '{'x_b', 'id', 'y', 'x_a', 'edge_index_a', 'edge_index_b', 'edge_attr_b', 'expression', 'edge_attr_a'}'. Please explicitly set 'num_nodes' as an attribute of 'data' to suppress this warning\n",
      "  warnings.warn(\n",
      "Iteration: 100%|████████████████████████████████████████████████████████████████████████████████████████████████████████████████████████████████████████████████████████████████████████████████████████████| 136/136 [00:30<00:00,  4.50it/s]\n"
     ]
    },
    {
     "name": "stdout",
     "output_type": "stream",
     "text": [
      "Evaluating...\n"
     ]
    },
    {
     "name": "stderr",
     "output_type": "stream",
     "text": [
      "Iteration: 100%|████████████████████████████████████████████████████████████████████████████████████████████████████████████████████████████████████████████████████████████████████████████████████████████| 136/136 [00:11<00:00, 11.51it/s]\n",
      "Iteration:   0%|                                                                                                                                                                                                       | 0/16 [00:00<?, ?it/s]/opt/conda/envs/graphnn/lib/python3.9/site-packages/torch_geometric/data/storage.py:244: UserWarning: Unable to accurately infer 'num_nodes' from the attribute set '{'x_b', 'id', 'y', 'x_a', 'edge_index_a', 'edge_index_b', 'edge_attr_b', 'expression', 'edge_attr_a'}'. Please explicitly set 'num_nodes' as an attribute of 'data' to suppress this warning\n",
      "  warnings.warn(\n",
      "Iteration: 100%|██████████████████████████████████████████████████████████████████████████████████████████████████████████████████████████████████████████████████████████████████████████████████████████████| 16/16 [00:01<00:00, 12.23it/s]\n",
      "Iteration:   0%|                                                                                                                                                                                                       | 0/38 [00:00<?, ?it/s]/opt/conda/envs/graphnn/lib/python3.9/site-packages/torch_geometric/data/storage.py:244: UserWarning: Unable to accurately infer 'num_nodes' from the attribute set '{'x_b', 'id', 'y', 'x_a', 'edge_index_a', 'edge_index_b', 'edge_attr_b', 'expression', 'edge_attr_a'}'. Please explicitly set 'num_nodes' as an attribute of 'data' to suppress this warning\n",
      "  warnings.warn(\n",
      "Iteration: 100%|██████████████████████████████████████████████████████████████████████████████████████████████████████████████████████████████████████████████████████████████████████████████████████████████| 38/38 [00:03<00:00, 11.78it/s]\n"
     ]
    },
    {
     "name": "stdout",
     "output_type": "stream",
     "text": [
      "{'Train':  best_epoch_indx:51\n",
      " auc:0.8812861571901252 \n",
      " apur:0.5022007023178771 \n",
      " f1:0.30983675569484076 \n",
      " precision:0.19169994790762285 \n",
      " recall:0.8074110190151146 \n",
      ", 'Validation':  best_epoch_indx:51\n",
      " auc:0.8786100745818932 \n",
      " apur:0.5262836459067154 \n",
      " f1:0.3033524121013901 \n",
      " precision:0.18643216080402011 \n",
      " recall:0.8135964912280702 \n",
      ", 'Test':  best_epoch_indx:51\n",
      " auc:0.8782840379321484 \n",
      " apur:0.4993599774244552 \n",
      " f1:0.3070539419087137 \n",
      " precision:0.18935516888433981 \n",
      " recall:0.8114035087719298 \n",
      "}\n",
      "=====Epoch 52\n",
      "Training...\n"
     ]
    },
    {
     "name": "stderr",
     "output_type": "stream",
     "text": [
      "Iteration:   0%|                                                                                                                                                                                                      | 0/136 [00:00<?, ?it/s]/opt/conda/envs/graphnn/lib/python3.9/site-packages/torch_geometric/data/storage.py:244: UserWarning: Unable to accurately infer 'num_nodes' from the attribute set '{'x_b', 'id', 'y', 'x_a', 'edge_index_a', 'edge_index_b', 'edge_attr_b', 'expression', 'edge_attr_a'}'. Please explicitly set 'num_nodes' as an attribute of 'data' to suppress this warning\n",
      "  warnings.warn(\n",
      "Iteration: 100%|████████████████████████████████████████████████████████████████████████████████████████████████████████████████████████████████████████████████████████████████████████████████████████████| 136/136 [00:30<00:00,  4.49it/s]\n"
     ]
    },
    {
     "name": "stdout",
     "output_type": "stream",
     "text": [
      "Evaluating...\n"
     ]
    },
    {
     "name": "stderr",
     "output_type": "stream",
     "text": [
      "Iteration: 100%|████████████████████████████████████████████████████████████████████████████████████████████████████████████████████████████████████████████████████████████████████████████████████████████| 136/136 [00:12<00:00, 11.21it/s]\n",
      "Iteration:   0%|                                                                                                                                                                                                       | 0/16 [00:00<?, ?it/s]/opt/conda/envs/graphnn/lib/python3.9/site-packages/torch_geometric/data/storage.py:244: UserWarning: Unable to accurately infer 'num_nodes' from the attribute set '{'x_b', 'id', 'y', 'x_a', 'edge_index_a', 'edge_index_b', 'edge_attr_b', 'expression', 'edge_attr_a'}'. Please explicitly set 'num_nodes' as an attribute of 'data' to suppress this warning\n",
      "  warnings.warn(\n",
      "Iteration: 100%|██████████████████████████████████████████████████████████████████████████████████████████████████████████████████████████████████████████████████████████████████████████████████████████████| 16/16 [00:01<00:00, 12.32it/s]\n",
      "Iteration:   0%|                                                                                                                                                                                                       | 0/38 [00:00<?, ?it/s]/opt/conda/envs/graphnn/lib/python3.9/site-packages/torch_geometric/data/storage.py:244: UserWarning: Unable to accurately infer 'num_nodes' from the attribute set '{'x_b', 'id', 'y', 'x_a', 'edge_index_a', 'edge_index_b', 'edge_attr_b', 'expression', 'edge_attr_a'}'. Please explicitly set 'num_nodes' as an attribute of 'data' to suppress this warning\n",
      "  warnings.warn(\n",
      "Iteration: 100%|██████████████████████████████████████████████████████████████████████████████████████████████████████████████████████████████████████████████████████████████████████████████████████████████| 38/38 [00:03<00:00, 11.88it/s]\n"
     ]
    },
    {
     "name": "stdout",
     "output_type": "stream",
     "text": [
      "{'Train':  best_epoch_indx:52\n",
      " auc:0.861887734897518 \n",
      " apur:0.42160668907728927 \n",
      " f1:0.30536030220437044 \n",
      " precision:0.1899351615013979 \n",
      " recall:0.7784007801072648 \n",
      ", 'Validation':  best_epoch_indx:52\n",
      " auc:0.8574100389060038 \n",
      " apur:0.40743323220663 \n",
      " f1:0.30164765525982257 \n",
      " precision:0.18681318681318682 \n",
      " recall:0.7828947368421053 \n",
      ", 'Test':  best_epoch_indx:52\n",
      " auc:0.8560564402211905 \n",
      " apur:0.4158433192868399 \n",
      " f1:0.30037891836031694 \n",
      " precision:0.18688384054864982 \n",
      " recall:0.7649122807017544 \n",
      "}\n",
      "=====Epoch 53\n",
      "Training...\n"
     ]
    },
    {
     "name": "stderr",
     "output_type": "stream",
     "text": [
      "Iteration:   0%|                                                                                                                                                                                                      | 0/136 [00:00<?, ?it/s]/opt/conda/envs/graphnn/lib/python3.9/site-packages/torch_geometric/data/storage.py:244: UserWarning: Unable to accurately infer 'num_nodes' from the attribute set '{'x_b', 'id', 'y', 'x_a', 'edge_index_a', 'edge_index_b', 'edge_attr_b', 'expression', 'edge_attr_a'}'. Please explicitly set 'num_nodes' as an attribute of 'data' to suppress this warning\n",
      "  warnings.warn(\n",
      "Iteration: 100%|████████████████████████████████████████████████████████████████████████████████████████████████████████████████████████████████████████████████████████████████████████████████████████████| 136/136 [00:30<00:00,  4.42it/s]\n"
     ]
    },
    {
     "name": "stdout",
     "output_type": "stream",
     "text": [
      "Evaluating...\n"
     ]
    },
    {
     "name": "stderr",
     "output_type": "stream",
     "text": [
      "Iteration: 100%|████████████████████████████████████████████████████████████████████████████████████████████████████████████████████████████████████████████████████████████████████████████████████████████| 136/136 [00:11<00:00, 11.58it/s]\n",
      "Iteration:   0%|                                                                                                                                                                                                       | 0/16 [00:00<?, ?it/s]/opt/conda/envs/graphnn/lib/python3.9/site-packages/torch_geometric/data/storage.py:244: UserWarning: Unable to accurately infer 'num_nodes' from the attribute set '{'x_b', 'id', 'y', 'x_a', 'edge_index_a', 'edge_index_b', 'edge_attr_b', 'expression', 'edge_attr_a'}'. Please explicitly set 'num_nodes' as an attribute of 'data' to suppress this warning\n",
      "  warnings.warn(\n",
      "Iteration: 100%|██████████████████████████████████████████████████████████████████████████████████████████████████████████████████████████████████████████████████████████████████████████████████████████████| 16/16 [00:01<00:00, 12.35it/s]\n",
      "Iteration:   0%|                                                                                                                                                                                                       | 0/38 [00:00<?, ?it/s]/opt/conda/envs/graphnn/lib/python3.9/site-packages/torch_geometric/data/storage.py:244: UserWarning: Unable to accurately infer 'num_nodes' from the attribute set '{'x_b', 'id', 'y', 'x_a', 'edge_index_a', 'edge_index_b', 'edge_attr_b', 'expression', 'edge_attr_a'}'. Please explicitly set 'num_nodes' as an attribute of 'data' to suppress this warning\n",
      "  warnings.warn(\n",
      "Iteration: 100%|██████████████████████████████████████████████████████████████████████████████████████████████████████████████████████████████████████████████████████████████████████████████████████████████| 38/38 [00:03<00:00, 10.82it/s]\n"
     ]
    },
    {
     "name": "stdout",
     "output_type": "stream",
     "text": [
      "{'Train':  best_epoch_indx:53\n",
      " auc:0.8719164492465044 \n",
      " apur:0.4654255088554592 \n",
      " f1:0.299169229356956 \n",
      " precision:0.18428046366977666 \n",
      " recall:0.7944904924427109 \n",
      ", 'Validation':  best_epoch_indx:53\n",
      " auc:0.8693301249138234 \n",
      " apur:0.47676236693534674 \n",
      " f1:0.2990196078431373 \n",
      " precision:0.18373493975903615 \n",
      " recall:0.8026315789473685 \n",
      ", 'Test':  best_epoch_indx:53\n",
      " auc:0.8711427855155889 \n",
      " apur:0.4608786562868112 \n",
      " f1:0.3012978478725152 \n",
      " precision:0.18536486759652315 \n",
      " recall:0.8043859649122806 \n",
      "}\n",
      "=====Epoch 54\n",
      "Training...\n"
     ]
    },
    {
     "name": "stderr",
     "output_type": "stream",
     "text": [
      "Iteration:   0%|                                                                                                                                                                                                      | 0/136 [00:00<?, ?it/s]/opt/conda/envs/graphnn/lib/python3.9/site-packages/torch_geometric/data/storage.py:244: UserWarning: Unable to accurately infer 'num_nodes' from the attribute set '{'x_b', 'id', 'y', 'x_a', 'edge_index_a', 'edge_index_b', 'edge_attr_b', 'expression', 'edge_attr_a'}'. Please explicitly set 'num_nodes' as an attribute of 'data' to suppress this warning\n",
      "  warnings.warn(\n",
      "Iteration: 100%|████████████████████████████████████████████████████████████████████████████████████████████████████████████████████████████████████████████████████████████████████████████████████████████| 136/136 [00:30<00:00,  4.48it/s]\n"
     ]
    },
    {
     "name": "stdout",
     "output_type": "stream",
     "text": [
      "Evaluating...\n"
     ]
    },
    {
     "name": "stderr",
     "output_type": "stream",
     "text": [
      "Iteration: 100%|████████████████████████████████████████████████████████████████████████████████████████████████████████████████████████████████████████████████████████████████████████████████████████████| 136/136 [00:11<00:00, 11.50it/s]\n",
      "Iteration:   0%|                                                                                                                                                                                                       | 0/16 [00:00<?, ?it/s]/opt/conda/envs/graphnn/lib/python3.9/site-packages/torch_geometric/data/storage.py:244: UserWarning: Unable to accurately infer 'num_nodes' from the attribute set '{'x_b', 'id', 'y', 'x_a', 'edge_index_a', 'edge_index_b', 'edge_attr_b', 'expression', 'edge_attr_a'}'. Please explicitly set 'num_nodes' as an attribute of 'data' to suppress this warning\n",
      "  warnings.warn(\n",
      "Iteration: 100%|██████████████████████████████████████████████████████████████████████████████████████████████████████████████████████████████████████████████████████████████████████████████████████████████| 16/16 [00:01<00:00, 12.28it/s]\n",
      "Iteration:   0%|                                                                                                                                                                                                       | 0/38 [00:00<?, ?it/s]/opt/conda/envs/graphnn/lib/python3.9/site-packages/torch_geometric/data/storage.py:244: UserWarning: Unable to accurately infer 'num_nodes' from the attribute set '{'x_b', 'id', 'y', 'x_a', 'edge_index_a', 'edge_index_b', 'edge_attr_b', 'expression', 'edge_attr_a'}'. Please explicitly set 'num_nodes' as an attribute of 'data' to suppress this warning\n",
      "  warnings.warn(\n",
      "Iteration: 100%|██████████████████████████████████████████████████████████████████████████████████████████████████████████████████████████████████████████████████████████████████████████████████████████████| 38/38 [00:03<00:00, 11.83it/s]\n"
     ]
    },
    {
     "name": "stdout",
     "output_type": "stream",
     "text": [
      "{'Train':  best_epoch_indx:54\n",
      " auc:0.8763280860946624 \n",
      " apur:0.49309232743294396 \n",
      " f1:0.3511185617665761 \n",
      " precision:0.23012805940744108 \n",
      " recall:0.7403705509507558 \n",
      ", 'Validation':  best_epoch_indx:54\n",
      " auc:0.8760271884024433 \n",
      " apur:0.5178177596936319 \n",
      " f1:0.34655951783023603 \n",
      " precision:0.2247557003257329 \n",
      " recall:0.756578947368421 \n",
      ", 'Test':  best_epoch_indx:54\n",
      " auc:0.8731763353147916 \n",
      " apur:0.4875233651255597 \n",
      " f1:0.34743694060211555 \n",
      " precision:0.22616525423728814 \n",
      " recall:0.7491228070175439 \n",
      "}\n",
      "=====Epoch 55\n",
      "Training...\n"
     ]
    },
    {
     "name": "stderr",
     "output_type": "stream",
     "text": [
      "Iteration:   0%|                                                                                                                                                                                                      | 0/136 [00:00<?, ?it/s]/opt/conda/envs/graphnn/lib/python3.9/site-packages/torch_geometric/data/storage.py:244: UserWarning: Unable to accurately infer 'num_nodes' from the attribute set '{'x_b', 'id', 'y', 'x_a', 'edge_index_a', 'edge_index_b', 'edge_attr_b', 'expression', 'edge_attr_a'}'. Please explicitly set 'num_nodes' as an attribute of 'data' to suppress this warning\n",
      "  warnings.warn(\n",
      "Iteration: 100%|████████████████████████████████████████████████████████████████████████████████████████████████████████████████████████████████████████████████████████████████████████████████████████████| 136/136 [00:30<00:00,  4.50it/s]\n"
     ]
    },
    {
     "name": "stdout",
     "output_type": "stream",
     "text": [
      "Evaluating...\n"
     ]
    },
    {
     "name": "stderr",
     "output_type": "stream",
     "text": [
      "Iteration: 100%|████████████████████████████████████████████████████████████████████████████████████████████████████████████████████████████████████████████████████████████████████████████████████████████| 136/136 [00:12<00:00, 11.11it/s]\n",
      "Iteration:   0%|                                                                                                                                                                                                       | 0/16 [00:00<?, ?it/s]/opt/conda/envs/graphnn/lib/python3.9/site-packages/torch_geometric/data/storage.py:244: UserWarning: Unable to accurately infer 'num_nodes' from the attribute set '{'x_b', 'id', 'y', 'x_a', 'edge_index_a', 'edge_index_b', 'edge_attr_b', 'expression', 'edge_attr_a'}'. Please explicitly set 'num_nodes' as an attribute of 'data' to suppress this warning\n",
      "  warnings.warn(\n",
      "Iteration: 100%|██████████████████████████████████████████████████████████████████████████████████████████████████████████████████████████████████████████████████████████████████████████████████████████████| 16/16 [00:01<00:00, 12.26it/s]\n",
      "Iteration:   0%|                                                                                                                                                                                                       | 0/38 [00:00<?, ?it/s]/opt/conda/envs/graphnn/lib/python3.9/site-packages/torch_geometric/data/storage.py:244: UserWarning: Unable to accurately infer 'num_nodes' from the attribute set '{'x_b', 'id', 'y', 'x_a', 'edge_index_a', 'edge_index_b', 'edge_attr_b', 'expression', 'edge_attr_a'}'. Please explicitly set 'num_nodes' as an attribute of 'data' to suppress this warning\n",
      "  warnings.warn(\n",
      "Iteration: 100%|██████████████████████████████████████████████████████████████████████████████████████████████████████████████████████████████████████████████████████████████████████████████████████████████| 38/38 [00:03<00:00, 11.76it/s]\n"
     ]
    },
    {
     "name": "stdout",
     "output_type": "stream",
     "text": [
      "{'Train':  best_epoch_indx:55\n",
      " auc:0.8783522653257954 \n",
      " apur:0.5020234715400609 \n",
      " f1:0.28173710094190213 \n",
      " precision:0.16991755479589785 \n",
      " recall:0.8239882983910287 \n",
      ", 'Validation':  best_epoch_indx:55\n",
      " auc:0.8727487127753433 \n",
      " apur:0.5151007917599587 \n",
      " f1:0.27661909989023054 \n",
      " precision:0.16600790513833993 \n",
      " recall:0.8289473684210527 \n",
      ", 'Test':  best_epoch_indx:55\n",
      " auc:0.873346760002507 \n",
      " apur:0.49163031308137495 \n",
      " f1:0.27857886130518805 \n",
      " precision:0.16771075711473063 \n",
      " recall:0.8219298245614035 \n",
      "}\n",
      "=====Epoch 56\n",
      "Training...\n"
     ]
    },
    {
     "name": "stderr",
     "output_type": "stream",
     "text": [
      "Iteration:   0%|                                                                                                                                                                                                      | 0/136 [00:00<?, ?it/s]/opt/conda/envs/graphnn/lib/python3.9/site-packages/torch_geometric/data/storage.py:244: UserWarning: Unable to accurately infer 'num_nodes' from the attribute set '{'x_b', 'id', 'y', 'x_a', 'edge_index_a', 'edge_index_b', 'edge_attr_b', 'expression', 'edge_attr_a'}'. Please explicitly set 'num_nodes' as an attribute of 'data' to suppress this warning\n",
      "  warnings.warn(\n",
      "Iteration: 100%|████████████████████████████████████████████████████████████████████████████████████████████████████████████████████████████████████████████████████████████████████████████████████████████| 136/136 [00:30<00:00,  4.42it/s]\n"
     ]
    },
    {
     "name": "stdout",
     "output_type": "stream",
     "text": [
      "Evaluating...\n"
     ]
    },
    {
     "name": "stderr",
     "output_type": "stream",
     "text": [
      "Iteration: 100%|████████████████████████████████████████████████████████████████████████████████████████████████████████████████████████████████████████████████████████████████████████████████████████████| 136/136 [00:11<00:00, 11.54it/s]\n",
      "Iteration:   0%|                                                                                                                                                                                                       | 0/16 [00:00<?, ?it/s]/opt/conda/envs/graphnn/lib/python3.9/site-packages/torch_geometric/data/storage.py:244: UserWarning: Unable to accurately infer 'num_nodes' from the attribute set '{'x_b', 'id', 'y', 'x_a', 'edge_index_a', 'edge_index_b', 'edge_attr_b', 'expression', 'edge_attr_a'}'. Please explicitly set 'num_nodes' as an attribute of 'data' to suppress this warning\n",
      "  warnings.warn(\n",
      "Iteration: 100%|██████████████████████████████████████████████████████████████████████████████████████████████████████████████████████████████████████████████████████████████████████████████████████████████| 16/16 [00:01<00:00, 12.25it/s]\n",
      "Iteration:   0%|                                                                                                                                                                                                       | 0/38 [00:00<?, ?it/s]/opt/conda/envs/graphnn/lib/python3.9/site-packages/torch_geometric/data/storage.py:244: UserWarning: Unable to accurately infer 'num_nodes' from the attribute set '{'x_b', 'id', 'y', 'x_a', 'edge_index_a', 'edge_index_b', 'edge_attr_b', 'expression', 'edge_attr_a'}'. Please explicitly set 'num_nodes' as an attribute of 'data' to suppress this warning\n",
      "  warnings.warn(\n",
      "Iteration: 100%|██████████████████████████████████████████████████████████████████████████████████████████████████████████████████████████████████████████████████████████████████████████████████████████████| 38/38 [00:03<00:00, 10.73it/s]\n"
     ]
    },
    {
     "name": "stdout",
     "output_type": "stream",
     "text": [
      "{'Train':  best_epoch_indx:56\n",
      " auc:0.8784724338527846 \n",
      " apur:0.5065625111945593 \n",
      " f1:0.3058954911358243 \n",
      " precision:0.18902754614986486 \n",
      " recall:0.8013164310092638 \n",
      ", 'Validation':  best_epoch_indx:56\n",
      " auc:0.8754552894327052 \n",
      " apur:0.5241854099904137 \n",
      " f1:0.2969894222945484 \n",
      " precision:0.1823176823176823 \n",
      " recall:0.8004385964912281 \n",
      ", 'Test':  best_epoch_indx:56\n",
      " auc:0.8736316126948314 \n",
      " apur:0.501412870094768 \n",
      " f1:0.30191188694929344 \n",
      " precision:0.18625641025641027 \n",
      " recall:0.7964912280701755 \n",
      "}\n",
      "=====Epoch 57\n",
      "Training...\n"
     ]
    },
    {
     "name": "stderr",
     "output_type": "stream",
     "text": [
      "Iteration:   0%|                                                                                                                                                                                                      | 0/136 [00:00<?, ?it/s]/opt/conda/envs/graphnn/lib/python3.9/site-packages/torch_geometric/data/storage.py:244: UserWarning: Unable to accurately infer 'num_nodes' from the attribute set '{'x_b', 'id', 'y', 'x_a', 'edge_index_a', 'edge_index_b', 'edge_attr_b', 'expression', 'edge_attr_a'}'. Please explicitly set 'num_nodes' as an attribute of 'data' to suppress this warning\n",
      "  warnings.warn(\n",
      "Iteration: 100%|████████████████████████████████████████████████████████████████████████████████████████████████████████████████████████████████████████████████████████████████████████████████████████████| 136/136 [00:30<00:00,  4.46it/s]\n"
     ]
    },
    {
     "name": "stdout",
     "output_type": "stream",
     "text": [
      "Evaluating...\n"
     ]
    },
    {
     "name": "stderr",
     "output_type": "stream",
     "text": [
      "Iteration: 100%|████████████████████████████████████████████████████████████████████████████████████████████████████████████████████████████████████████████████████████████████████████████████████████████| 136/136 [00:11<00:00, 11.60it/s]\n",
      "Iteration:   0%|                                                                                                                                                                                                       | 0/16 [00:00<?, ?it/s]/opt/conda/envs/graphnn/lib/python3.9/site-packages/torch_geometric/data/storage.py:244: UserWarning: Unable to accurately infer 'num_nodes' from the attribute set '{'x_b', 'id', 'y', 'x_a', 'edge_index_a', 'edge_index_b', 'edge_attr_b', 'expression', 'edge_attr_a'}'. Please explicitly set 'num_nodes' as an attribute of 'data' to suppress this warning\n",
      "  warnings.warn(\n",
      "Iteration: 100%|██████████████████████████████████████████████████████████████████████████████████████████████████████████████████████████████████████████████████████████████████████████████████████████████| 16/16 [00:01<00:00, 12.33it/s]\n",
      "Iteration:   0%|                                                                                                                                                                                                       | 0/38 [00:00<?, ?it/s]/opt/conda/envs/graphnn/lib/python3.9/site-packages/torch_geometric/data/storage.py:244: UserWarning: Unable to accurately infer 'num_nodes' from the attribute set '{'x_b', 'id', 'y', 'x_a', 'edge_index_a', 'edge_index_b', 'edge_attr_b', 'expression', 'edge_attr_a'}'. Please explicitly set 'num_nodes' as an attribute of 'data' to suppress this warning\n",
      "  warnings.warn(\n",
      "Iteration: 100%|██████████████████████████████████████████████████████████████████████████████████████████████████████████████████████████████████████████████████████████████████████████████████████████████| 38/38 [00:03<00:00, 11.88it/s]\n"
     ]
    },
    {
     "name": "stdout",
     "output_type": "stream",
     "text": [
      "{'Train':  best_epoch_indx:57\n",
      " auc:0.8822862651248135 \n",
      " apur:0.5065972322499983 \n",
      " f1:0.2933961852385317 \n",
      " precision:0.17869105215588282 \n",
      " recall:0.8193564115065821 \n",
      ", 'Validation':  best_epoch_indx:57\n",
      " auc:0.8800594075873939 \n",
      " apur:0.5317592820129023 \n",
      " f1:0.28723404255319146 \n",
      " precision:0.17371323529411764 \n",
      " recall:0.8289473684210527 \n",
      ", 'Test':  best_epoch_indx:57\n",
      " auc:0.879506612092198 \n",
      " apur:0.5014131198612566 \n",
      " f1:0.2960762857589495 \n",
      " precision:0.18014076469469278 \n",
      " recall:0.8307017543859649 \n",
      "}\n",
      "=====Epoch 58\n",
      "Training...\n"
     ]
    },
    {
     "name": "stderr",
     "output_type": "stream",
     "text": [
      "Iteration:   0%|                                                                                                                                                                                                      | 0/136 [00:00<?, ?it/s]/opt/conda/envs/graphnn/lib/python3.9/site-packages/torch_geometric/data/storage.py:244: UserWarning: Unable to accurately infer 'num_nodes' from the attribute set '{'x_b', 'id', 'y', 'x_a', 'edge_index_a', 'edge_index_b', 'edge_attr_b', 'expression', 'edge_attr_a'}'. Please explicitly set 'num_nodes' as an attribute of 'data' to suppress this warning\n",
      "  warnings.warn(\n",
      "Iteration: 100%|████████████████████████████████████████████████████████████████████████████████████████████████████████████████████████████████████████████████████████████████████████████████████████████| 136/136 [00:30<00:00,  4.47it/s]\n"
     ]
    },
    {
     "name": "stdout",
     "output_type": "stream",
     "text": [
      "Evaluating...\n"
     ]
    },
    {
     "name": "stderr",
     "output_type": "stream",
     "text": [
      "Iteration: 100%|████████████████████████████████████████████████████████████████████████████████████████████████████████████████████████████████████████████████████████████████████████████████████████████| 136/136 [00:12<00:00, 11.09it/s]\n",
      "Iteration:   0%|                                                                                                                                                                                                       | 0/16 [00:00<?, ?it/s]/opt/conda/envs/graphnn/lib/python3.9/site-packages/torch_geometric/data/storage.py:244: UserWarning: Unable to accurately infer 'num_nodes' from the attribute set '{'x_b', 'id', 'y', 'x_a', 'edge_index_a', 'edge_index_b', 'edge_attr_b', 'expression', 'edge_attr_a'}'. Please explicitly set 'num_nodes' as an attribute of 'data' to suppress this warning\n",
      "  warnings.warn(\n",
      "Iteration: 100%|██████████████████████████████████████████████████████████████████████████████████████████████████████████████████████████████████████████████████████████████████████████████████████████████| 16/16 [00:01<00:00, 12.31it/s]\n",
      "Iteration:   0%|                                                                                                                                                                                                       | 0/38 [00:00<?, ?it/s]/opt/conda/envs/graphnn/lib/python3.9/site-packages/torch_geometric/data/storage.py:244: UserWarning: Unable to accurately infer 'num_nodes' from the attribute set '{'x_b', 'id', 'y', 'x_a', 'edge_index_a', 'edge_index_b', 'edge_attr_b', 'expression', 'edge_attr_a'}'. Please explicitly set 'num_nodes' as an attribute of 'data' to suppress this warning\n",
      "  warnings.warn(\n",
      "Iteration: 100%|██████████████████████████████████████████████████████████████████████████████████████████████████████████████████████████████████████████████████████████████████████████████████████████████| 38/38 [00:03<00:00, 11.89it/s]\n"
     ]
    },
    {
     "name": "stdout",
     "output_type": "stream",
     "text": [
      "{'Train':  best_epoch_indx:58\n",
      " auc:0.8845272330384358 \n",
      " apur:0.5149361515965557 \n",
      " f1:0.3141645623898232 \n",
      " precision:0.19523894119737076 \n",
      " recall:0.8037542662116041 \n",
      ", 'Validation':  best_epoch_indx:58\n",
      " auc:0.8819248588632891 \n",
      " apur:0.5396857659499436 \n",
      " f1:0.3064784053156146 \n",
      " precision:0.18903688524590165 \n",
      " recall:0.8092105263157895 \n",
      ", 'Test':  best_epoch_indx:58\n",
      " auc:0.8809502803449956 \n",
      " apur:0.5097358561304239 \n",
      " f1:0.31217199932283735 \n",
      " precision:0.1934130480385987 \n",
      " recall:0.8087719298245614 \n",
      "}\n",
      "=====Epoch 59\n",
      "Training...\n"
     ]
    },
    {
     "name": "stderr",
     "output_type": "stream",
     "text": [
      "Iteration:   0%|                                                                                                                                                                                                      | 0/136 [00:00<?, ?it/s]/opt/conda/envs/graphnn/lib/python3.9/site-packages/torch_geometric/data/storage.py:244: UserWarning: Unable to accurately infer 'num_nodes' from the attribute set '{'x_b', 'id', 'y', 'x_a', 'edge_index_a', 'edge_index_b', 'edge_attr_b', 'expression', 'edge_attr_a'}'. Please explicitly set 'num_nodes' as an attribute of 'data' to suppress this warning\n",
      "  warnings.warn(\n",
      "Iteration: 100%|████████████████████████████████████████████████████████████████████████████████████████████████████████████████████████████████████████████████████████████████████████████████████████████| 136/136 [00:30<00:00,  4.43it/s]\n"
     ]
    },
    {
     "name": "stdout",
     "output_type": "stream",
     "text": [
      "Evaluating...\n"
     ]
    },
    {
     "name": "stderr",
     "output_type": "stream",
     "text": [
      "Iteration: 100%|████████████████████████████████████████████████████████████████████████████████████████████████████████████████████████████████████████████████████████████████████████████████████████████| 136/136 [00:11<00:00, 11.47it/s]\n",
      "Iteration:   0%|                                                                                                                                                                                                       | 0/16 [00:00<?, ?it/s]/opt/conda/envs/graphnn/lib/python3.9/site-packages/torch_geometric/data/storage.py:244: UserWarning: Unable to accurately infer 'num_nodes' from the attribute set '{'x_b', 'id', 'y', 'x_a', 'edge_index_a', 'edge_index_b', 'edge_attr_b', 'expression', 'edge_attr_a'}'. Please explicitly set 'num_nodes' as an attribute of 'data' to suppress this warning\n",
      "  warnings.warn(\n",
      "Iteration: 100%|██████████████████████████████████████████████████████████████████████████████████████████████████████████████████████████████████████████████████████████████████████████████████████████████| 16/16 [00:01<00:00, 12.17it/s]\n",
      "Iteration:   0%|                                                                                                                                                                                                       | 0/38 [00:00<?, ?it/s]/opt/conda/envs/graphnn/lib/python3.9/site-packages/torch_geometric/data/storage.py:244: UserWarning: Unable to accurately infer 'num_nodes' from the attribute set '{'x_b', 'id', 'y', 'x_a', 'edge_index_a', 'edge_index_b', 'edge_attr_b', 'expression', 'edge_attr_a'}'. Please explicitly set 'num_nodes' as an attribute of 'data' to suppress this warning\n",
      "  warnings.warn(\n",
      "Iteration: 100%|██████████████████████████████████████████████████████████████████████████████████████████████████████████████████████████████████████████████████████████████████████████████████████████████| 38/38 [00:03<00:00, 10.61it/s]\n"
     ]
    },
    {
     "name": "stdout",
     "output_type": "stream",
     "text": [
      "{'Train':  best_epoch_indx:59\n",
      " auc:0.8860450087650411 \n",
      " apur:0.5169874799073105 \n",
      " f1:0.28813986719341006 \n",
      " precision:0.17408084501320334 \n",
      " recall:0.8356899073622623 \n",
      ", 'Validation':  best_epoch_indx:59\n",
      " auc:0.881401773188123 \n",
      " apur:0.5387227820308369 \n",
      " f1:0.2827535159141376 \n",
      " precision:0.170080142475512 \n",
      " recall:0.8377192982456141 \n",
      ", 'Test':  best_epoch_indx:59\n",
      " auc:0.8829867950998684 \n",
      " apur:0.5102471768685194 \n",
      " f1:0.2864427114577085 \n",
      " precision:0.17275687409551374 \n",
      " recall:0.8377192982456141 \n",
      "}\n",
      "=====Epoch 60\n",
      "Training...\n"
     ]
    },
    {
     "name": "stderr",
     "output_type": "stream",
     "text": [
      "Iteration:   0%|                                                                                                                                                                                                      | 0/136 [00:00<?, ?it/s]/opt/conda/envs/graphnn/lib/python3.9/site-packages/torch_geometric/data/storage.py:244: UserWarning: Unable to accurately infer 'num_nodes' from the attribute set '{'x_b', 'id', 'y', 'x_a', 'edge_index_a', 'edge_index_b', 'edge_attr_b', 'expression', 'edge_attr_a'}'. Please explicitly set 'num_nodes' as an attribute of 'data' to suppress this warning\n",
      "  warnings.warn(\n",
      "Iteration: 100%|████████████████████████████████████████████████████████████████████████████████████████████████████████████████████████████████████████████████████████████████████████████████████████████| 136/136 [00:30<00:00,  4.49it/s]\n"
     ]
    },
    {
     "name": "stdout",
     "output_type": "stream",
     "text": [
      "Evaluating...\n"
     ]
    },
    {
     "name": "stderr",
     "output_type": "stream",
     "text": [
      "Iteration: 100%|████████████████████████████████████████████████████████████████████████████████████████████████████████████████████████████████████████████████████████████████████████████████████████████| 136/136 [00:11<00:00, 11.54it/s]\n",
      "Iteration:   0%|                                                                                                                                                                                                       | 0/16 [00:00<?, ?it/s]/opt/conda/envs/graphnn/lib/python3.9/site-packages/torch_geometric/data/storage.py:244: UserWarning: Unable to accurately infer 'num_nodes' from the attribute set '{'x_b', 'id', 'y', 'x_a', 'edge_index_a', 'edge_index_b', 'edge_attr_b', 'expression', 'edge_attr_a'}'. Please explicitly set 'num_nodes' as an attribute of 'data' to suppress this warning\n",
      "  warnings.warn(\n",
      "Iteration: 100%|██████████████████████████████████████████████████████████████████████████████████████████████████████████████████████████████████████████████████████████████████████████████████████████████| 16/16 [00:01<00:00, 12.32it/s]\n",
      "Iteration:   0%|                                                                                                                                                                                                       | 0/38 [00:00<?, ?it/s]/opt/conda/envs/graphnn/lib/python3.9/site-packages/torch_geometric/data/storage.py:244: UserWarning: Unable to accurately infer 'num_nodes' from the attribute set '{'x_b', 'id', 'y', 'x_a', 'edge_index_a', 'edge_index_b', 'edge_attr_b', 'expression', 'edge_attr_a'}'. Please explicitly set 'num_nodes' as an attribute of 'data' to suppress this warning\n",
      "  warnings.warn(\n",
      "Iteration: 100%|██████████████████████████████████████████████████████████████████████████████████████████████████████████████████████████████████████████████████████████████████████████████████████████████| 38/38 [00:03<00:00, 11.87it/s]\n"
     ]
    },
    {
     "name": "stdout",
     "output_type": "stream",
     "text": [
      "{'Train':  best_epoch_indx:60\n",
      " auc:0.8864147669541202 \n",
      " apur:0.5177950407539883 \n",
      " f1:0.26549004881712357 \n",
      " precision:0.15691583806818182 \n",
      " recall:0.8617747440273038 \n",
      ", 'Validation':  best_epoch_indx:60\n",
      " auc:0.8812357477232516 \n",
      " apur:0.5390626745783221 \n",
      " f1:0.259946949602122 \n",
      " precision:0.153125 \n",
      " recall:0.8596491228070176 \n",
      ", 'Test':  best_epoch_indx:60\n",
      " auc:0.8829240007135177 \n",
      " apur:0.5110056524525484 \n",
      " f1:0.26654089745317344 \n",
      " precision:0.15745900334341664 \n",
      " recall:0.8675438596491228 \n",
      "}\n",
      "=====Epoch 61\n",
      "Training...\n"
     ]
    },
    {
     "name": "stderr",
     "output_type": "stream",
     "text": [
      "Iteration:   0%|                                                                                                                                                                                                      | 0/136 [00:00<?, ?it/s]/opt/conda/envs/graphnn/lib/python3.9/site-packages/torch_geometric/data/storage.py:244: UserWarning: Unable to accurately infer 'num_nodes' from the attribute set '{'x_b', 'id', 'y', 'x_a', 'edge_index_a', 'edge_index_b', 'edge_attr_b', 'expression', 'edge_attr_a'}'. Please explicitly set 'num_nodes' as an attribute of 'data' to suppress this warning\n",
      "  warnings.warn(\n",
      "Iteration: 100%|████████████████████████████████████████████████████████████████████████████████████████████████████████████████████████████████████████████████████████████████████████████████████████████| 136/136 [00:30<00:00,  4.46it/s]\n"
     ]
    },
    {
     "name": "stdout",
     "output_type": "stream",
     "text": [
      "Evaluating...\n"
     ]
    },
    {
     "name": "stderr",
     "output_type": "stream",
     "text": [
      "Iteration: 100%|████████████████████████████████████████████████████████████████████████████████████████████████████████████████████████████████████████████████████████████████████████████████████████████| 136/136 [00:12<00:00, 11.20it/s]\n",
      "Iteration:   0%|                                                                                                                                                                                                       | 0/16 [00:00<?, ?it/s]/opt/conda/envs/graphnn/lib/python3.9/site-packages/torch_geometric/data/storage.py:244: UserWarning: Unable to accurately infer 'num_nodes' from the attribute set '{'x_b', 'id', 'y', 'x_a', 'edge_index_a', 'edge_index_b', 'edge_attr_b', 'expression', 'edge_attr_a'}'. Please explicitly set 'num_nodes' as an attribute of 'data' to suppress this warning\n",
      "  warnings.warn(\n",
      "Iteration: 100%|██████████████████████████████████████████████████████████████████████████████████████████████████████████████████████████████████████████████████████████████████████████████████████████████| 16/16 [00:01<00:00, 12.37it/s]\n",
      "Iteration:   0%|                                                                                                                                                                                                       | 0/38 [00:00<?, ?it/s]/opt/conda/envs/graphnn/lib/python3.9/site-packages/torch_geometric/data/storage.py:244: UserWarning: Unable to accurately infer 'num_nodes' from the attribute set '{'x_b', 'id', 'y', 'x_a', 'edge_index_a', 'edge_index_b', 'edge_attr_b', 'expression', 'edge_attr_a'}'. Please explicitly set 'num_nodes' as an attribute of 'data' to suppress this warning\n",
      "  warnings.warn(\n",
      "Iteration: 100%|██████████████████████████████████████████████████████████████████████████████████████████████████████████████████████████████████████████████████████████████████████████████████████████████| 38/38 [00:03<00:00, 11.91it/s]\n"
     ]
    },
    {
     "name": "stdout",
     "output_type": "stream",
     "text": [
      "{'Train':  best_epoch_indx:61\n",
      " auc:0.8850378422739233 \n",
      " apur:0.5077705250033974 \n",
      " f1:0.268559283437073 \n",
      " precision:0.15903982738469838 \n",
      " recall:0.8625060945880059 \n",
      ", 'Validation':  best_epoch_indx:61\n",
      " auc:0.8777950130891945 \n",
      " apur:0.5303660892691289 \n",
      " f1:0.26101468624833113 \n",
      " precision:0.15393700787401574 \n",
      " recall:0.8574561403508771 \n",
      ", 'Test':  best_epoch_indx:61\n",
      " auc:0.8816973527525878 \n",
      " apur:0.49810944794572815 \n",
      " f1:0.2692517749863462 \n",
      " precision:0.1594437257438551 \n",
      " recall:0.8649122807017544 \n",
      "}\n",
      "=====Epoch 62\n",
      "Training...\n"
     ]
    },
    {
     "name": "stderr",
     "output_type": "stream",
     "text": [
      "Iteration:   0%|                                                                                                                                                                                                      | 0/136 [00:00<?, ?it/s]/opt/conda/envs/graphnn/lib/python3.9/site-packages/torch_geometric/data/storage.py:244: UserWarning: Unable to accurately infer 'num_nodes' from the attribute set '{'x_b', 'id', 'y', 'x_a', 'edge_index_a', 'edge_index_b', 'edge_attr_b', 'expression', 'edge_attr_a'}'. Please explicitly set 'num_nodes' as an attribute of 'data' to suppress this warning\n",
      "  warnings.warn(\n",
      "Iteration: 100%|████████████████████████████████████████████████████████████████████████████████████████████████████████████████████████████████████████████████████████████████████████████████████████████| 136/136 [00:30<00:00,  4.40it/s]\n"
     ]
    },
    {
     "name": "stdout",
     "output_type": "stream",
     "text": [
      "Evaluating...\n"
     ]
    },
    {
     "name": "stderr",
     "output_type": "stream",
     "text": [
      "Iteration: 100%|████████████████████████████████████████████████████████████████████████████████████████████████████████████████████████████████████████████████████████████████████████████████████████████| 136/136 [00:11<00:00, 11.45it/s]\n",
      "Iteration:   0%|                                                                                                                                                                                                       | 0/16 [00:00<?, ?it/s]/opt/conda/envs/graphnn/lib/python3.9/site-packages/torch_geometric/data/storage.py:244: UserWarning: Unable to accurately infer 'num_nodes' from the attribute set '{'x_b', 'id', 'y', 'x_a', 'edge_index_a', 'edge_index_b', 'edge_attr_b', 'expression', 'edge_attr_a'}'. Please explicitly set 'num_nodes' as an attribute of 'data' to suppress this warning\n",
      "  warnings.warn(\n",
      "Iteration: 100%|██████████████████████████████████████████████████████████████████████████████████████████████████████████████████████████████████████████████████████████████████████████████████████████████| 16/16 [00:01<00:00, 12.29it/s]\n",
      "Iteration:   0%|                                                                                                                                                                                                       | 0/38 [00:00<?, ?it/s]/opt/conda/envs/graphnn/lib/python3.9/site-packages/torch_geometric/data/storage.py:244: UserWarning: Unable to accurately infer 'num_nodes' from the attribute set '{'x_b', 'id', 'y', 'x_a', 'edge_index_a', 'edge_index_b', 'edge_attr_b', 'expression', 'edge_attr_a'}'. Please explicitly set 'num_nodes' as an attribute of 'data' to suppress this warning\n",
      "  warnings.warn(\n",
      "Iteration: 100%|██████████████████████████████████████████████████████████████████████████████████████████████████████████████████████████████████████████████████████████████████████████████████████████████| 38/38 [00:03<00:00, 10.81it/s]\n"
     ]
    },
    {
     "name": "stdout",
     "output_type": "stream",
     "text": [
      "{'Train':  best_epoch_indx:62\n",
      " auc:0.882878757708956 \n",
      " apur:0.5090407014148103 \n",
      " f1:0.29888488892791293 \n",
      " precision:0.18226600985221675 \n",
      " recall:0.8298391028766455 \n",
      ", 'Validation':  best_epoch_indx:62\n",
      " auc:0.8818908100837419 \n",
      " apur:0.5312080569123124 \n",
      " f1:0.2853872567722243 \n",
      " precision:0.17274826789838338 \n",
      " recall:0.8201754385964912 \n",
      ", 'Test':  best_epoch_indx:62\n",
      " auc:0.880532679596766 \n",
      " apur:0.5057906649987912 \n",
      " f1:0.29536527886881386 \n",
      " precision:0.1799043062200957 \n",
      " recall:0.8245614035087719 \n",
      "}\n",
      "=====Epoch 63\n",
      "Training...\n"
     ]
    },
    {
     "name": "stderr",
     "output_type": "stream",
     "text": [
      "Iteration:   0%|                                                                                                                                                                                                      | 0/136 [00:00<?, ?it/s]/opt/conda/envs/graphnn/lib/python3.9/site-packages/torch_geometric/data/storage.py:244: UserWarning: Unable to accurately infer 'num_nodes' from the attribute set '{'x_b', 'id', 'y', 'x_a', 'edge_index_a', 'edge_index_b', 'edge_attr_b', 'expression', 'edge_attr_a'}'. Please explicitly set 'num_nodes' as an attribute of 'data' to suppress this warning\n",
      "  warnings.warn(\n",
      "Iteration: 100%|████████████████████████████████████████████████████████████████████████████████████████████████████████████████████████████████████████████████████████████████████████████████████████████| 136/136 [00:30<00:00,  4.49it/s]\n"
     ]
    },
    {
     "name": "stdout",
     "output_type": "stream",
     "text": [
      "Evaluating...\n"
     ]
    },
    {
     "name": "stderr",
     "output_type": "stream",
     "text": [
      "Iteration: 100%|████████████████████████████████████████████████████████████████████████████████████████████████████████████████████████████████████████████████████████████████████████████████████████████| 136/136 [00:11<00:00, 11.49it/s]\n",
      "Iteration:   0%|                                                                                                                                                                                                       | 0/16 [00:00<?, ?it/s]/opt/conda/envs/graphnn/lib/python3.9/site-packages/torch_geometric/data/storage.py:244: UserWarning: Unable to accurately infer 'num_nodes' from the attribute set '{'x_b', 'id', 'y', 'x_a', 'edge_index_a', 'edge_index_b', 'edge_attr_b', 'expression', 'edge_attr_a'}'. Please explicitly set 'num_nodes' as an attribute of 'data' to suppress this warning\n",
      "  warnings.warn(\n",
      "Iteration: 100%|██████████████████████████████████████████████████████████████████████████████████████████████████████████████████████████████████████████████████████████████████████████████████████████████| 16/16 [00:01<00:00, 12.21it/s]\n",
      "Iteration:   0%|                                                                                                                                                                                                       | 0/38 [00:00<?, ?it/s]/opt/conda/envs/graphnn/lib/python3.9/site-packages/torch_geometric/data/storage.py:244: UserWarning: Unable to accurately infer 'num_nodes' from the attribute set '{'x_b', 'id', 'y', 'x_a', 'edge_index_a', 'edge_index_b', 'edge_attr_b', 'expression', 'edge_attr_a'}'. Please explicitly set 'num_nodes' as an attribute of 'data' to suppress this warning\n",
      "  warnings.warn(\n",
      "Iteration: 100%|██████████████████████████████████████████████████████████████████████████████████████████████████████████████████████████████████████████████████████████████████████████████████████████████| 38/38 [00:03<00:00, 11.76it/s]\n"
     ]
    },
    {
     "name": "stdout",
     "output_type": "stream",
     "text": [
      "{'Train':  best_epoch_indx:63\n",
      " auc:0.879440207904541 \n",
      " apur:0.5067046385226434 \n",
      " f1:0.32585186696592533 \n",
      " precision:0.20603793058960135 \n",
      " recall:0.7786445636274988 \n",
      ", 'Validation':  best_epoch_indx:63\n",
      " auc:0.8771993101054365 \n",
      " apur:0.5306086921291722 \n",
      " f1:0.3200354609929078 \n",
      " precision:0.20055555555555554 \n",
      " recall:0.7916666666666666 \n",
      ", 'Test':  best_epoch_indx:63\n",
      " auc:0.8787365673044937 \n",
      " apur:0.5045512850679502 \n",
      " f1:0.3217391304347826 \n",
      " precision:0.20273972602739726 \n",
      " recall:0.7789473684210526 \n",
      "}\n",
      "=====Epoch 64\n",
      "Training...\n"
     ]
    },
    {
     "name": "stderr",
     "output_type": "stream",
     "text": [
      "Iteration:   0%|                                                                                                                                                                                                      | 0/136 [00:00<?, ?it/s]/opt/conda/envs/graphnn/lib/python3.9/site-packages/torch_geometric/data/storage.py:244: UserWarning: Unable to accurately infer 'num_nodes' from the attribute set '{'x_b', 'id', 'y', 'x_a', 'edge_index_a', 'edge_index_b', 'edge_attr_b', 'expression', 'edge_attr_a'}'. Please explicitly set 'num_nodes' as an attribute of 'data' to suppress this warning\n",
      "  warnings.warn(\n",
      "Iteration: 100%|████████████████████████████████████████████████████████████████████████████████████████████████████████████████████████████████████████████████████████████████████████████████████████████| 136/136 [00:30<00:00,  4.49it/s]\n"
     ]
    },
    {
     "name": "stdout",
     "output_type": "stream",
     "text": [
      "Evaluating...\n"
     ]
    },
    {
     "name": "stderr",
     "output_type": "stream",
     "text": [
      "Iteration: 100%|████████████████████████████████████████████████████████████████████████████████████████████████████████████████████████████████████████████████████████████████████████████████████████████| 136/136 [00:12<00:00, 11.11it/s]\n",
      "Iteration:   0%|                                                                                                                                                                                                       | 0/16 [00:00<?, ?it/s]/opt/conda/envs/graphnn/lib/python3.9/site-packages/torch_geometric/data/storage.py:244: UserWarning: Unable to accurately infer 'num_nodes' from the attribute set '{'x_b', 'id', 'y', 'x_a', 'edge_index_a', 'edge_index_b', 'edge_attr_b', 'expression', 'edge_attr_a'}'. Please explicitly set 'num_nodes' as an attribute of 'data' to suppress this warning\n",
      "  warnings.warn(\n",
      "Iteration: 100%|██████████████████████████████████████████████████████████████████████████████████████████████████████████████████████████████████████████████████████████████████████████████████████████████| 16/16 [00:01<00:00, 12.30it/s]\n",
      "Iteration:   0%|                                                                                                                                                                                                       | 0/38 [00:00<?, ?it/s]/opt/conda/envs/graphnn/lib/python3.9/site-packages/torch_geometric/data/storage.py:244: UserWarning: Unable to accurately infer 'num_nodes' from the attribute set '{'x_b', 'id', 'y', 'x_a', 'edge_index_a', 'edge_index_b', 'edge_attr_b', 'expression', 'edge_attr_a'}'. Please explicitly set 'num_nodes' as an attribute of 'data' to suppress this warning\n",
      "  warnings.warn(\n",
      "Iteration: 100%|██████████████████████████████████████████████████████████████████████████████████████████████████████████████████████████████████████████████████████████████████████████████████████████████| 38/38 [00:03<00:00, 11.86it/s]\n"
     ]
    },
    {
     "name": "stdout",
     "output_type": "stream",
     "text": [
      "{'Train':  best_epoch_indx:64\n",
      " auc:0.8810197371604246 \n",
      " apur:0.5119521885435991 \n",
      " f1:0.37681886603110887 \n",
      " precision:0.2536733659854754 \n",
      " recall:0.7323256947830327 \n",
      ", 'Validation':  best_epoch_indx:64\n",
      " auc:0.873368069114804 \n",
      " apur:0.52952408151807 \n",
      " f1:0.3671444321940463 \n",
      " precision:0.24521354933726067 \n",
      " recall:0.7302631578947368 \n",
      ", 'Test':  best_epoch_indx:64\n",
      " auc:0.8760846193527236 \n",
      " apur:0.5073502353468737 \n",
      " f1:0.3730105357543152 \n",
      " precision:0.25052694971394157 \n",
      " recall:0.7298245614035088 \n",
      "}\n",
      "=====Epoch 65\n",
      "Training...\n"
     ]
    },
    {
     "name": "stderr",
     "output_type": "stream",
     "text": [
      "Iteration:   0%|                                                                                                                                                                                                      | 0/136 [00:00<?, ?it/s]/opt/conda/envs/graphnn/lib/python3.9/site-packages/torch_geometric/data/storage.py:244: UserWarning: Unable to accurately infer 'num_nodes' from the attribute set '{'x_b', 'id', 'y', 'x_a', 'edge_index_a', 'edge_index_b', 'edge_attr_b', 'expression', 'edge_attr_a'}'. Please explicitly set 'num_nodes' as an attribute of 'data' to suppress this warning\n",
      "  warnings.warn(\n",
      "Iteration: 100%|████████████████████████████████████████████████████████████████████████████████████████████████████████████████████████████████████████████████████████████████████████████████████████████| 136/136 [00:30<00:00,  4.40it/s]\n"
     ]
    },
    {
     "name": "stdout",
     "output_type": "stream",
     "text": [
      "Evaluating...\n"
     ]
    },
    {
     "name": "stderr",
     "output_type": "stream",
     "text": [
      "Iteration: 100%|████████████████████████████████████████████████████████████████████████████████████████████████████████████████████████████████████████████████████████████████████████████████████████████| 136/136 [00:11<00:00, 11.56it/s]\n",
      "Iteration:   0%|                                                                                                                                                                                                       | 0/16 [00:00<?, ?it/s]/opt/conda/envs/graphnn/lib/python3.9/site-packages/torch_geometric/data/storage.py:244: UserWarning: Unable to accurately infer 'num_nodes' from the attribute set '{'x_b', 'id', 'y', 'x_a', 'edge_index_a', 'edge_index_b', 'edge_attr_b', 'expression', 'edge_attr_a'}'. Please explicitly set 'num_nodes' as an attribute of 'data' to suppress this warning\n",
      "  warnings.warn(\n",
      "Iteration: 100%|██████████████████████████████████████████████████████████████████████████████████████████████████████████████████████████████████████████████████████████████████████████████████████████████| 16/16 [00:01<00:00, 12.32it/s]\n",
      "Iteration:   0%|                                                                                                                                                                                                       | 0/38 [00:00<?, ?it/s]/opt/conda/envs/graphnn/lib/python3.9/site-packages/torch_geometric/data/storage.py:244: UserWarning: Unable to accurately infer 'num_nodes' from the attribute set '{'x_b', 'id', 'y', 'x_a', 'edge_index_a', 'edge_index_b', 'edge_attr_b', 'expression', 'edge_attr_a'}'. Please explicitly set 'num_nodes' as an attribute of 'data' to suppress this warning\n",
      "  warnings.warn(\n",
      "Iteration: 100%|██████████████████████████████████████████████████████████████████████████████████████████████████████████████████████████████████████████████████████████████████████████████████████████████| 38/38 [00:03<00:00, 10.78it/s]\n"
     ]
    },
    {
     "name": "stdout",
     "output_type": "stream",
     "text": [
      "{'Train':  best_epoch_indx:65\n",
      " auc:0.8816642598471793 \n",
      " apur:0.5153139036802874 \n",
      " f1:0.30616192318319974 \n",
      " precision:0.1887349534408358 \n",
      " recall:0.8103364212579229 \n",
      ", 'Validation':  best_epoch_indx:65\n",
      " auc:0.8775181031033202 \n",
      " apur:0.5365485256002673 \n",
      " f1:0.30052652895909276 \n",
      " precision:0.18430203676105317 \n",
      " recall:0.8135964912280702 \n",
      ", 'Test':  best_epoch_indx:65\n",
      " auc:0.8780476369544361 \n",
      " apur:0.5156111696089508 \n",
      " f1:0.3056291390728477 \n",
      " precision:0.18836734693877552 \n",
      " recall:0.8096491228070175 \n",
      "}\n",
      "=====Epoch 66\n",
      "Training...\n"
     ]
    },
    {
     "name": "stderr",
     "output_type": "stream",
     "text": [
      "Iteration:   0%|                                                                                                                                                                                                      | 0/136 [00:00<?, ?it/s]/opt/conda/envs/graphnn/lib/python3.9/site-packages/torch_geometric/data/storage.py:244: UserWarning: Unable to accurately infer 'num_nodes' from the attribute set '{'x_b', 'id', 'y', 'x_a', 'edge_index_a', 'edge_index_b', 'edge_attr_b', 'expression', 'edge_attr_a'}'. Please explicitly set 'num_nodes' as an attribute of 'data' to suppress this warning\n",
      "  warnings.warn(\n",
      "Iteration: 100%|████████████████████████████████████████████████████████████████████████████████████████████████████████████████████████████████████████████████████████████████████████████████████████████| 136/136 [00:30<00:00,  4.48it/s]\n"
     ]
    },
    {
     "name": "stdout",
     "output_type": "stream",
     "text": [
      "Evaluating...\n"
     ]
    },
    {
     "name": "stderr",
     "output_type": "stream",
     "text": [
      "Iteration: 100%|████████████████████████████████████████████████████████████████████████████████████████████████████████████████████████████████████████████████████████████████████████████████████████████| 136/136 [00:11<00:00, 11.49it/s]\n",
      "Iteration:   0%|                                                                                                                                                                                                       | 0/16 [00:00<?, ?it/s]/opt/conda/envs/graphnn/lib/python3.9/site-packages/torch_geometric/data/storage.py:244: UserWarning: Unable to accurately infer 'num_nodes' from the attribute set '{'x_b', 'id', 'y', 'x_a', 'edge_index_a', 'edge_index_b', 'edge_attr_b', 'expression', 'edge_attr_a'}'. Please explicitly set 'num_nodes' as an attribute of 'data' to suppress this warning\n",
      "  warnings.warn(\n",
      "Iteration: 100%|██████████████████████████████████████████████████████████████████████████████████████████████████████████████████████████████████████████████████████████████████████████████████████████████| 16/16 [00:01<00:00, 12.27it/s]\n",
      "Iteration:   0%|                                                                                                                                                                                                       | 0/38 [00:00<?, ?it/s]/opt/conda/envs/graphnn/lib/python3.9/site-packages/torch_geometric/data/storage.py:244: UserWarning: Unable to accurately infer 'num_nodes' from the attribute set '{'x_b', 'id', 'y', 'x_a', 'edge_index_a', 'edge_index_b', 'edge_attr_b', 'expression', 'edge_attr_a'}'. Please explicitly set 'num_nodes' as an attribute of 'data' to suppress this warning\n",
      "  warnings.warn(\n",
      "Iteration: 100%|██████████████████████████████████████████████████████████████████████████████████████████████████████████████████████████████████████████████████████████████████████████████████████████████| 38/38 [00:03<00:00, 11.85it/s]\n"
     ]
    },
    {
     "name": "stdout",
     "output_type": "stream",
     "text": [
      "{'Train':  best_epoch_indx:66\n",
      " auc:0.883608526468191 \n",
      " apur:0.5194177847360558 \n",
      " f1:0.3960503915560095 \n",
      " precision:0.27478030804119813 \n",
      " recall:0.7089224768405655 \n",
      ", 'Validation':  best_epoch_indx:66\n",
      " auc:0.8810106641982807 \n",
      " apur:0.5375916483189527 \n",
      " f1:0.3937761819269898 \n",
      " precision:0.2707818930041152 \n",
      " recall:0.7214912280701754 \n",
      ", 'Test':  best_epoch_indx:66\n",
      " auc:0.8802358947657686 \n",
      " apur:0.5189504918402338 \n",
      " f1:0.3893203883495146 \n",
      " precision:0.2691275167785235 \n",
      " recall:0.7035087719298245 \n",
      "}\n",
      "=====Epoch 67\n",
      "Training...\n"
     ]
    },
    {
     "name": "stderr",
     "output_type": "stream",
     "text": [
      "Iteration:   0%|                                                                                                                                                                                                      | 0/136 [00:00<?, ?it/s]/opt/conda/envs/graphnn/lib/python3.9/site-packages/torch_geometric/data/storage.py:244: UserWarning: Unable to accurately infer 'num_nodes' from the attribute set '{'x_b', 'id', 'y', 'x_a', 'edge_index_a', 'edge_index_b', 'edge_attr_b', 'expression', 'edge_attr_a'}'. Please explicitly set 'num_nodes' as an attribute of 'data' to suppress this warning\n",
      "  warnings.warn(\n",
      "Iteration: 100%|████████████████████████████████████████████████████████████████████████████████████████████████████████████████████████████████████████████████████████████████████████████████████████████| 136/136 [00:30<00:00,  4.49it/s]\n"
     ]
    },
    {
     "name": "stdout",
     "output_type": "stream",
     "text": [
      "Evaluating...\n"
     ]
    },
    {
     "name": "stderr",
     "output_type": "stream",
     "text": [
      "Iteration: 100%|████████████████████████████████████████████████████████████████████████████████████████████████████████████████████████████████████████████████████████████████████████████████████████████| 136/136 [00:12<00:00, 11.10it/s]\n",
      "Iteration:   0%|                                                                                                                                                                                                       | 0/16 [00:00<?, ?it/s]/opt/conda/envs/graphnn/lib/python3.9/site-packages/torch_geometric/data/storage.py:244: UserWarning: Unable to accurately infer 'num_nodes' from the attribute set '{'x_b', 'id', 'y', 'x_a', 'edge_index_a', 'edge_index_b', 'edge_attr_b', 'expression', 'edge_attr_a'}'. Please explicitly set 'num_nodes' as an attribute of 'data' to suppress this warning\n",
      "  warnings.warn(\n",
      "Iteration: 100%|██████████████████████████████████████████████████████████████████████████████████████████████████████████████████████████████████████████████████████████████████████████████████████████████| 16/16 [00:01<00:00, 12.26it/s]\n",
      "Iteration:   0%|                                                                                                                                                                                                       | 0/38 [00:00<?, ?it/s]/opt/conda/envs/graphnn/lib/python3.9/site-packages/torch_geometric/data/storage.py:244: UserWarning: Unable to accurately infer 'num_nodes' from the attribute set '{'x_b', 'id', 'y', 'x_a', 'edge_index_a', 'edge_index_b', 'edge_attr_b', 'expression', 'edge_attr_a'}'. Please explicitly set 'num_nodes' as an attribute of 'data' to suppress this warning\n",
      "  warnings.warn(\n",
      "Iteration: 100%|██████████████████████████████████████████████████████████████████████████████████████████████████████████████████████████████████████████████████████████████████████████████████████████████| 38/38 [00:03<00:00, 11.80it/s]\n"
     ]
    },
    {
     "name": "stdout",
     "output_type": "stream",
     "text": [
      "{'Train':  best_epoch_indx:67\n",
      " auc:0.8860996032469732 \n",
      " apur:0.5256976050083718 \n",
      " f1:0.25696761002905416 \n",
      " precision:0.1506497876098751 \n",
      " recall:0.8732325694783033 \n",
      ", 'Validation':  best_epoch_indx:67\n",
      " auc:0.8827400710143041 \n",
      " apur:0.543901253737269 \n",
      " f1:0.2531565656565657 \n",
      " precision:0.14786135693215338 \n",
      " recall:0.8793859649122807 \n",
      ", 'Test':  best_epoch_indx:67\n",
      " auc:0.8839437767267854 \n",
      " apur:0.5243942052419073 \n",
      " f1:0.2572721396250808 \n",
      " precision:0.1508718726307809 \n",
      " recall:0.8728070175438597 \n",
      "}\n",
      "=====Epoch 68\n",
      "Training...\n"
     ]
    },
    {
     "name": "stderr",
     "output_type": "stream",
     "text": [
      "Iteration:   0%|                                                                                                                                                                                                      | 0/136 [00:00<?, ?it/s]/opt/conda/envs/graphnn/lib/python3.9/site-packages/torch_geometric/data/storage.py:244: UserWarning: Unable to accurately infer 'num_nodes' from the attribute set '{'x_b', 'id', 'y', 'x_a', 'edge_index_a', 'edge_index_b', 'edge_attr_b', 'expression', 'edge_attr_a'}'. Please explicitly set 'num_nodes' as an attribute of 'data' to suppress this warning\n",
      "  warnings.warn(\n",
      "Iteration: 100%|████████████████████████████████████████████████████████████████████████████████████████████████████████████████████████████████████████████████████████████████████████████████████████████| 136/136 [00:30<00:00,  4.42it/s]\n"
     ]
    },
    {
     "name": "stdout",
     "output_type": "stream",
     "text": [
      "Evaluating...\n"
     ]
    },
    {
     "name": "stderr",
     "output_type": "stream",
     "text": [
      "Iteration: 100%|████████████████████████████████████████████████████████████████████████████████████████████████████████████████████████████████████████████████████████████████████████████████████████████| 136/136 [00:11<00:00, 11.53it/s]\n",
      "Iteration:   0%|                                                                                                                                                                                                       | 0/16 [00:00<?, ?it/s]/opt/conda/envs/graphnn/lib/python3.9/site-packages/torch_geometric/data/storage.py:244: UserWarning: Unable to accurately infer 'num_nodes' from the attribute set '{'x_b', 'id', 'y', 'x_a', 'edge_index_a', 'edge_index_b', 'edge_attr_b', 'expression', 'edge_attr_a'}'. Please explicitly set 'num_nodes' as an attribute of 'data' to suppress this warning\n",
      "  warnings.warn(\n",
      "Iteration: 100%|██████████████████████████████████████████████████████████████████████████████████████████████████████████████████████████████████████████████████████████████████████████████████████████████| 16/16 [00:01<00:00, 12.28it/s]\n",
      "Iteration:   0%|                                                                                                                                                                                                       | 0/38 [00:00<?, ?it/s]/opt/conda/envs/graphnn/lib/python3.9/site-packages/torch_geometric/data/storage.py:244: UserWarning: Unable to accurately infer 'num_nodes' from the attribute set '{'x_b', 'id', 'y', 'x_a', 'edge_index_a', 'edge_index_b', 'edge_attr_b', 'expression', 'edge_attr_a'}'. Please explicitly set 'num_nodes' as an attribute of 'data' to suppress this warning\n",
      "  warnings.warn(\n",
      "Iteration: 100%|██████████████████████████████████████████████████████████████████████████████████████████████████████████████████████████████████████████████████████████████████████████████████████████████| 38/38 [00:03<00:00, 10.72it/s]\n"
     ]
    },
    {
     "name": "stdout",
     "output_type": "stream",
     "text": [
      "{'Train':  best_epoch_indx:68\n",
      " auc:0.888218958541914 \n",
      " apur:0.5249411699858713 \n",
      " f1:0.2577345398619407 \n",
      " precision:0.1510248564362661 \n",
      " recall:0.8783520234032179 \n",
      ", 'Validation':  best_epoch_indx:68\n",
      " auc:0.884311437256235 \n",
      " apur:0.5468711880962354 \n",
      " f1:0.2530844669408415 \n",
      " precision:0.1478743068391867 \n",
      " recall:0.8771929824561403 \n",
      ", 'Test':  best_epoch_indx:68\n",
      " auc:0.8844951138494767 \n",
      " apur:0.5229971896028991 \n",
      " f1:0.25584983286191826 \n",
      " precision:0.1498945465501657 \n",
      " recall:0.8728070175438597 \n",
      "}\n",
      "=====Epoch 69\n",
      "Training...\n"
     ]
    },
    {
     "name": "stderr",
     "output_type": "stream",
     "text": [
      "Iteration:   0%|                                                                                                                                                                                                      | 0/136 [00:00<?, ?it/s]/opt/conda/envs/graphnn/lib/python3.9/site-packages/torch_geometric/data/storage.py:244: UserWarning: Unable to accurately infer 'num_nodes' from the attribute set '{'x_b', 'id', 'y', 'x_a', 'edge_index_a', 'edge_index_b', 'edge_attr_b', 'expression', 'edge_attr_a'}'. Please explicitly set 'num_nodes' as an attribute of 'data' to suppress this warning\n",
      "  warnings.warn(\n",
      "Iteration: 100%|████████████████████████████████████████████████████████████████████████████████████████████████████████████████████████████████████████████████████████████████████████████████████████████| 136/136 [00:30<00:00,  4.47it/s]\n"
     ]
    },
    {
     "name": "stdout",
     "output_type": "stream",
     "text": [
      "Evaluating...\n"
     ]
    },
    {
     "name": "stderr",
     "output_type": "stream",
     "text": [
      "Iteration: 100%|████████████████████████████████████████████████████████████████████████████████████████████████████████████████████████████████████████████████████████████████████████████████████████████| 136/136 [00:11<00:00, 11.55it/s]\n",
      "Iteration:   0%|                                                                                                                                                                                                       | 0/16 [00:00<?, ?it/s]/opt/conda/envs/graphnn/lib/python3.9/site-packages/torch_geometric/data/storage.py:244: UserWarning: Unable to accurately infer 'num_nodes' from the attribute set '{'x_b', 'id', 'y', 'x_a', 'edge_index_a', 'edge_index_b', 'edge_attr_b', 'expression', 'edge_attr_a'}'. Please explicitly set 'num_nodes' as an attribute of 'data' to suppress this warning\n",
      "  warnings.warn(\n",
      "Iteration: 100%|██████████████████████████████████████████████████████████████████████████████████████████████████████████████████████████████████████████████████████████████████████████████████████████████| 16/16 [00:01<00:00, 12.31it/s]\n",
      "Iteration:   0%|                                                                                                                                                                                                       | 0/38 [00:00<?, ?it/s]/opt/conda/envs/graphnn/lib/python3.9/site-packages/torch_geometric/data/storage.py:244: UserWarning: Unable to accurately infer 'num_nodes' from the attribute set '{'x_b', 'id', 'y', 'x_a', 'edge_index_a', 'edge_index_b', 'edge_attr_b', 'expression', 'edge_attr_a'}'. Please explicitly set 'num_nodes' as an attribute of 'data' to suppress this warning\n",
      "  warnings.warn(\n",
      "Iteration: 100%|██████████████████████████████████████████████████████████████████████████████████████████████████████████████████████████████████████████████████████████████████████████████████████████████| 38/38 [00:03<00:00, 11.88it/s]\n"
     ]
    },
    {
     "name": "stdout",
     "output_type": "stream",
     "text": [
      "{'Train':  best_epoch_indx:69\n",
      " auc:0.8892244259921617 \n",
      " apur:0.5249872626267245 \n",
      " f1:0.3308827257516605 \n",
      " precision:0.20888547468151847 \n",
      " recall:0.795465626523647 \n",
      ", 'Validation':  best_epoch_indx:69\n",
      " auc:0.8845466148884163 \n",
      " apur:0.5453749683431365 \n",
      " f1:0.3233480176211454 \n",
      " precision:0.20231532524807055 \n",
      " recall:0.8048245614035088 \n",
      ", 'Test':  best_epoch_indx:69\n",
      " auc:0.8862064959045043 \n",
      " apur:0.5228244416237819 \n",
      " f1:0.33381712626995647 \n",
      " precision:0.21043000914913082 \n",
      " recall:0.8070175438596491 \n",
      "}\n",
      "=====Epoch 70\n",
      "Training...\n"
     ]
    },
    {
     "name": "stderr",
     "output_type": "stream",
     "text": [
      "Iteration:   0%|                                                                                                                                                                                                      | 0/136 [00:00<?, ?it/s]/opt/conda/envs/graphnn/lib/python3.9/site-packages/torch_geometric/data/storage.py:244: UserWarning: Unable to accurately infer 'num_nodes' from the attribute set '{'x_b', 'id', 'y', 'x_a', 'edge_index_a', 'edge_index_b', 'edge_attr_b', 'expression', 'edge_attr_a'}'. Please explicitly set 'num_nodes' as an attribute of 'data' to suppress this warning\n",
      "  warnings.warn(\n",
      "Iteration: 100%|████████████████████████████████████████████████████████████████████████████████████████████████████████████████████████████████████████████████████████████████████████████████████████████| 136/136 [00:30<00:00,  4.47it/s]\n"
     ]
    },
    {
     "name": "stdout",
     "output_type": "stream",
     "text": [
      "Evaluating...\n"
     ]
    },
    {
     "name": "stderr",
     "output_type": "stream",
     "text": [
      "Iteration: 100%|████████████████████████████████████████████████████████████████████████████████████████████████████████████████████████████████████████████████████████████████████████████████████████████| 136/136 [00:12<00:00, 11.07it/s]\n",
      "Iteration:   0%|                                                                                                                                                                                                       | 0/16 [00:00<?, ?it/s]/opt/conda/envs/graphnn/lib/python3.9/site-packages/torch_geometric/data/storage.py:244: UserWarning: Unable to accurately infer 'num_nodes' from the attribute set '{'x_b', 'id', 'y', 'x_a', 'edge_index_a', 'edge_index_b', 'edge_attr_b', 'expression', 'edge_attr_a'}'. Please explicitly set 'num_nodes' as an attribute of 'data' to suppress this warning\n",
      "  warnings.warn(\n",
      "Iteration: 100%|██████████████████████████████████████████████████████████████████████████████████████████████████████████████████████████████████████████████████████████████████████████████████████████████| 16/16 [00:01<00:00, 12.27it/s]\n",
      "Iteration:   0%|                                                                                                                                                                                                       | 0/38 [00:00<?, ?it/s]/opt/conda/envs/graphnn/lib/python3.9/site-packages/torch_geometric/data/storage.py:244: UserWarning: Unable to accurately infer 'num_nodes' from the attribute set '{'x_b', 'id', 'y', 'x_a', 'edge_index_a', 'edge_index_b', 'edge_attr_b', 'expression', 'edge_attr_a'}'. Please explicitly set 'num_nodes' as an attribute of 'data' to suppress this warning\n",
      "  warnings.warn(\n",
      "Iteration: 100%|██████████████████████████████████████████████████████████████████████████████████████████████████████████████████████████████████████████████████████████████████████████████████████████████| 38/38 [00:03<00:00, 11.86it/s]\n"
     ]
    },
    {
     "name": "stdout",
     "output_type": "stream",
     "text": [
      "{'Train':  best_epoch_indx:70\n",
      " auc:0.8893669016417238 \n",
      " apur:0.5222335506224082 \n",
      " f1:0.2604456321548517 \n",
      " precision:0.15286786213913264 \n",
      " recall:0.87908337396392 \n",
      ", 'Validation':  best_epoch_indx:70\n",
      " auc:0.8821403002559985 \n",
      " apur:0.535086028479152 \n",
      " f1:0.25088 \n",
      " precision:0.14687148744848258 \n",
      " recall:0.8596491228070176 \n",
      ", 'Test':  best_epoch_indx:70\n",
      " auc:0.8854108271503159 \n",
      " apur:0.515203693356715 \n",
      " f1:0.25950434669780714 \n",
      " precision:0.15227653418608192 \n",
      " recall:0.8771929824561403 \n",
      "}\n",
      "=====Epoch 71\n",
      "Training...\n"
     ]
    },
    {
     "name": "stderr",
     "output_type": "stream",
     "text": [
      "Iteration:   0%|                                                                                                                                                                                                      | 0/136 [00:00<?, ?it/s]/opt/conda/envs/graphnn/lib/python3.9/site-packages/torch_geometric/data/storage.py:244: UserWarning: Unable to accurately infer 'num_nodes' from the attribute set '{'x_b', 'id', 'y', 'x_a', 'edge_index_a', 'edge_index_b', 'edge_attr_b', 'expression', 'edge_attr_a'}'. Please explicitly set 'num_nodes' as an attribute of 'data' to suppress this warning\n",
      "  warnings.warn(\n",
      "Iteration: 100%|████████████████████████████████████████████████████████████████████████████████████████████████████████████████████████████████████████████████████████████████████████████████████████████| 136/136 [00:30<00:00,  4.43it/s]\n"
     ]
    },
    {
     "name": "stdout",
     "output_type": "stream",
     "text": [
      "Evaluating...\n"
     ]
    },
    {
     "name": "stderr",
     "output_type": "stream",
     "text": [
      "Iteration: 100%|████████████████████████████████████████████████████████████████████████████████████████████████████████████████████████████████████████████████████████████████████████████████████████████| 136/136 [00:11<00:00, 11.46it/s]\n",
      "Iteration:   0%|                                                                                                                                                                                                       | 0/16 [00:00<?, ?it/s]/opt/conda/envs/graphnn/lib/python3.9/site-packages/torch_geometric/data/storage.py:244: UserWarning: Unable to accurately infer 'num_nodes' from the attribute set '{'x_b', 'id', 'y', 'x_a', 'edge_index_a', 'edge_index_b', 'edge_attr_b', 'expression', 'edge_attr_a'}'. Please explicitly set 'num_nodes' as an attribute of 'data' to suppress this warning\n",
      "  warnings.warn(\n",
      "Iteration: 100%|██████████████████████████████████████████████████████████████████████████████████████████████████████████████████████████████████████████████████████████████████████████████████████████████| 16/16 [00:01<00:00, 12.17it/s]\n",
      "Iteration:   0%|                                                                                                                                                                                                       | 0/38 [00:00<?, ?it/s]/opt/conda/envs/graphnn/lib/python3.9/site-packages/torch_geometric/data/storage.py:244: UserWarning: Unable to accurately infer 'num_nodes' from the attribute set '{'x_b', 'id', 'y', 'x_a', 'edge_index_a', 'edge_index_b', 'edge_attr_b', 'expression', 'edge_attr_a'}'. Please explicitly set 'num_nodes' as an attribute of 'data' to suppress this warning\n",
      "  warnings.warn(\n",
      "Iteration: 100%|██████████████████████████████████████████████████████████████████████████████████████████████████████████████████████████████████████████████████████████████████████████████████████████████| 38/38 [00:03<00:00, 10.64it/s]\n"
     ]
    },
    {
     "name": "stdout",
     "output_type": "stream",
     "text": [
      "{'Train':  best_epoch_indx:71\n",
      " auc:0.8871809525050152 \n",
      " apur:0.5096239472651306 \n",
      " f1:0.31591528421857823 \n",
      " precision:0.19649122807017544 \n",
      " recall:0.8054607508532423 \n",
      ", 'Validation':  best_epoch_indx:71\n",
      " auc:0.8789602045096252 \n",
      " apur:0.5310092227019035 \n",
      " f1:0.30814441645675905 \n",
      " precision:0.1905503634475597 \n",
      " recall:0.8048245614035088 \n",
      ", 'Test':  best_epoch_indx:71\n",
      " auc:0.8854812147158223 \n",
      " apur:0.49965264462272196 \n",
      " f1:0.3163282716260024 \n",
      " precision:0.19635670408811692 \n",
      " recall:0.8131578947368421 \n",
      "}\n",
      "=====Epoch 72\n",
      "Training...\n"
     ]
    },
    {
     "name": "stderr",
     "output_type": "stream",
     "text": [
      "Iteration:   0%|                                                                                                                                                                                                      | 0/136 [00:00<?, ?it/s]/opt/conda/envs/graphnn/lib/python3.9/site-packages/torch_geometric/data/storage.py:244: UserWarning: Unable to accurately infer 'num_nodes' from the attribute set '{'x_b', 'id', 'y', 'x_a', 'edge_index_a', 'edge_index_b', 'edge_attr_b', 'expression', 'edge_attr_a'}'. Please explicitly set 'num_nodes' as an attribute of 'data' to suppress this warning\n",
      "  warnings.warn(\n",
      "Iteration: 100%|████████████████████████████████████████████████████████████████████████████████████████████████████████████████████████████████████████████████████████████████████████████████████████████| 136/136 [00:30<00:00,  4.50it/s]\n"
     ]
    },
    {
     "name": "stdout",
     "output_type": "stream",
     "text": [
      "Evaluating...\n"
     ]
    },
    {
     "name": "stderr",
     "output_type": "stream",
     "text": [
      "Iteration: 100%|████████████████████████████████████████████████████████████████████████████████████████████████████████████████████████████████████████████████████████████████████████████████████████████| 136/136 [00:11<00:00, 11.55it/s]\n",
      "Iteration:   0%|                                                                                                                                                                                                       | 0/16 [00:00<?, ?it/s]/opt/conda/envs/graphnn/lib/python3.9/site-packages/torch_geometric/data/storage.py:244: UserWarning: Unable to accurately infer 'num_nodes' from the attribute set '{'x_b', 'id', 'y', 'x_a', 'edge_index_a', 'edge_index_b', 'edge_attr_b', 'expression', 'edge_attr_a'}'. Please explicitly set 'num_nodes' as an attribute of 'data' to suppress this warning\n",
      "  warnings.warn(\n",
      "Iteration: 100%|██████████████████████████████████████████████████████████████████████████████████████████████████████████████████████████████████████████████████████████████████████████████████████████████| 16/16 [00:01<00:00, 12.31it/s]\n",
      "Iteration:   0%|                                                                                                                                                                                                       | 0/38 [00:00<?, ?it/s]/opt/conda/envs/graphnn/lib/python3.9/site-packages/torch_geometric/data/storage.py:244: UserWarning: Unable to accurately infer 'num_nodes' from the attribute set '{'x_b', 'id', 'y', 'x_a', 'edge_index_a', 'edge_index_b', 'edge_attr_b', 'expression', 'edge_attr_a'}'. Please explicitly set 'num_nodes' as an attribute of 'data' to suppress this warning\n",
      "  warnings.warn(\n",
      "Iteration: 100%|██████████████████████████████████████████████████████████████████████████████████████████████████████████████████████████████████████████████████████████████████████████████████████████████| 38/38 [00:03<00:00, 11.86it/s]\n"
     ]
    },
    {
     "name": "stdout",
     "output_type": "stream",
     "text": [
      "{'Train':  best_epoch_indx:72\n",
      " auc:0.8860981461286804 \n",
      " apur:0.525497055332875 \n",
      " f1:0.30426110607434276 \n",
      " precision:0.18688049894197573 \n",
      " recall:0.818137493905412 \n",
      ", 'Validation':  best_epoch_indx:72\n",
      " auc:0.8832340796343702 \n",
      " apur:0.5457367669839817 \n",
      " f1:0.30234438156831045 \n",
      " precision:0.18533201189296333 \n",
      " recall:0.8201754385964912 \n",
      ", 'Test':  best_epoch_indx:72\n",
      " auc:0.8838432333926325 \n",
      " apur:0.5230146759141046 \n",
      " f1:0.30510686898352096 \n",
      " precision:0.18741230707556625 \n",
      " recall:0.8201754385964912 \n",
      "}\n",
      "=====Epoch 73\n",
      "Training...\n"
     ]
    },
    {
     "name": "stderr",
     "output_type": "stream",
     "text": [
      "Iteration:   0%|                                                                                                                                                                                                      | 0/136 [00:00<?, ?it/s]/opt/conda/envs/graphnn/lib/python3.9/site-packages/torch_geometric/data/storage.py:244: UserWarning: Unable to accurately infer 'num_nodes' from the attribute set '{'x_b', 'id', 'y', 'x_a', 'edge_index_a', 'edge_index_b', 'edge_attr_b', 'expression', 'edge_attr_a'}'. Please explicitly set 'num_nodes' as an attribute of 'data' to suppress this warning\n",
      "  warnings.warn(\n",
      "Iteration: 100%|████████████████████████████████████████████████████████████████████████████████████████████████████████████████████████████████████████████████████████████████████████████████████████████| 136/136 [00:30<00:00,  4.45it/s]\n"
     ]
    },
    {
     "name": "stdout",
     "output_type": "stream",
     "text": [
      "Evaluating...\n"
     ]
    },
    {
     "name": "stderr",
     "output_type": "stream",
     "text": [
      "Iteration: 100%|████████████████████████████████████████████████████████████████████████████████████████████████████████████████████████████████████████████████████████████████████████████████████████████| 136/136 [00:12<00:00, 11.12it/s]\n",
      "Iteration:   0%|                                                                                                                                                                                                       | 0/16 [00:00<?, ?it/s]/opt/conda/envs/graphnn/lib/python3.9/site-packages/torch_geometric/data/storage.py:244: UserWarning: Unable to accurately infer 'num_nodes' from the attribute set '{'x_b', 'id', 'y', 'x_a', 'edge_index_a', 'edge_index_b', 'edge_attr_b', 'expression', 'edge_attr_a'}'. Please explicitly set 'num_nodes' as an attribute of 'data' to suppress this warning\n",
      "  warnings.warn(\n",
      "Iteration: 100%|██████████████████████████████████████████████████████████████████████████████████████████████████████████████████████████████████████████████████████████████████████████████████████████████| 16/16 [00:01<00:00, 12.34it/s]\n",
      "Iteration:   0%|                                                                                                                                                                                                       | 0/38 [00:00<?, ?it/s]/opt/conda/envs/graphnn/lib/python3.9/site-packages/torch_geometric/data/storage.py:244: UserWarning: Unable to accurately infer 'num_nodes' from the attribute set '{'x_b', 'id', 'y', 'x_a', 'edge_index_a', 'edge_index_b', 'edge_attr_b', 'expression', 'edge_attr_a'}'. Please explicitly set 'num_nodes' as an attribute of 'data' to suppress this warning\n",
      "  warnings.warn(\n",
      "Iteration: 100%|██████████████████████████████████████████████████████████████████████████████████████████████████████████████████████████████████████████████████████████████████████████████████████████████| 38/38 [00:03<00:00, 11.90it/s]\n"
     ]
    },
    {
     "name": "stdout",
     "output_type": "stream",
     "text": [
      "{'Train':  best_epoch_indx:73\n",
      " auc:0.8839084881327672 \n",
      " apur:0.4882598648881204 \n",
      " f1:0.3107785831190087 \n",
      " precision:0.19226986055661632 \n",
      " recall:0.8100926377376889 \n",
      ", 'Validation':  best_epoch_indx:73\n",
      " auc:0.8808247518356208 \n",
      " apur:0.48539200656973847 \n",
      " f1:0.30322844299141805 \n",
      " precision:0.18633852335509793 \n",
      " recall:0.8135964912280702 \n",
      ", 'Test':  best_epoch_indx:73\n",
      " auc:0.8811126779576035 \n",
      " apur:0.486019790984053 \n",
      " f1:0.30904564315352695 \n",
      " precision:0.19058341862845446 \n",
      " recall:0.8166666666666667 \n",
      "}\n",
      "=====Epoch 74\n",
      "Training...\n"
     ]
    },
    {
     "name": "stderr",
     "output_type": "stream",
     "text": [
      "Iteration:   0%|                                                                                                                                                                                                      | 0/136 [00:00<?, ?it/s]/opt/conda/envs/graphnn/lib/python3.9/site-packages/torch_geometric/data/storage.py:244: UserWarning: Unable to accurately infer 'num_nodes' from the attribute set '{'x_b', 'id', 'y', 'x_a', 'edge_index_a', 'edge_index_b', 'edge_attr_b', 'expression', 'edge_attr_a'}'. Please explicitly set 'num_nodes' as an attribute of 'data' to suppress this warning\n",
      "  warnings.warn(\n",
      "Iteration: 100%|████████████████████████████████████████████████████████████████████████████████████████████████████████████████████████████████████████████████████████████████████████████████████████████| 136/136 [00:30<00:00,  4.40it/s]\n"
     ]
    },
    {
     "name": "stdout",
     "output_type": "stream",
     "text": [
      "Evaluating...\n"
     ]
    },
    {
     "name": "stderr",
     "output_type": "stream",
     "text": [
      "Iteration: 100%|████████████████████████████████████████████████████████████████████████████████████████████████████████████████████████████████████████████████████████████████████████████████████████████| 136/136 [00:11<00:00, 11.45it/s]\n",
      "Iteration:   0%|                                                                                                                                                                                                       | 0/16 [00:00<?, ?it/s]/opt/conda/envs/graphnn/lib/python3.9/site-packages/torch_geometric/data/storage.py:244: UserWarning: Unable to accurately infer 'num_nodes' from the attribute set '{'x_b', 'id', 'y', 'x_a', 'edge_index_a', 'edge_index_b', 'edge_attr_b', 'expression', 'edge_attr_a'}'. Please explicitly set 'num_nodes' as an attribute of 'data' to suppress this warning\n",
      "  warnings.warn(\n",
      "Iteration: 100%|██████████████████████████████████████████████████████████████████████████████████████████████████████████████████████████████████████████████████████████████████████████████████████████████| 16/16 [00:01<00:00, 12.29it/s]\n",
      "Iteration:   0%|                                                                                                                                                                                                       | 0/38 [00:00<?, ?it/s]/opt/conda/envs/graphnn/lib/python3.9/site-packages/torch_geometric/data/storage.py:244: UserWarning: Unable to accurately infer 'num_nodes' from the attribute set '{'x_b', 'id', 'y', 'x_a', 'edge_index_a', 'edge_index_b', 'edge_attr_b', 'expression', 'edge_attr_a'}'. Please explicitly set 'num_nodes' as an attribute of 'data' to suppress this warning\n",
      "  warnings.warn(\n",
      "Iteration: 100%|██████████████████████████████████████████████████████████████████████████████████████████████████████████████████████████████████████████████████████████████████████████████████████████████| 38/38 [00:03<00:00, 10.80it/s]\n"
     ]
    },
    {
     "name": "stdout",
     "output_type": "stream",
     "text": [
      "{'Train':  best_epoch_indx:74\n",
      " auc:0.8863736717520033 \n",
      " apur:0.5042884175643644 \n",
      " f1:0.28026453746269864 \n",
      " precision:0.1679068419018168 \n",
      " recall:0.8471477328132618 \n",
      ", 'Validation':  best_epoch_indx:74\n",
      " auc:0.8848874040005206 \n",
      " apur:0.5364784301093025 \n",
      " f1:0.2740899357601713 \n",
      " precision:0.1636828644501279 \n",
      " recall:0.8421052631578947 \n",
      ", 'Test':  best_epoch_indx:74\n",
      " auc:0.8851197793880138 \n",
      " apur:0.4954960352729622 \n",
      " f1:0.28351935063052613 \n",
      " precision:0.16982114950512242 \n",
      " recall:0.8578947368421053 \n",
      "}\n",
      "=====Epoch 75\n",
      "Training...\n"
     ]
    },
    {
     "name": "stderr",
     "output_type": "stream",
     "text": [
      "Iteration:   0%|                                                                                                                                                                                                      | 0/136 [00:00<?, ?it/s]/opt/conda/envs/graphnn/lib/python3.9/site-packages/torch_geometric/data/storage.py:244: UserWarning: Unable to accurately infer 'num_nodes' from the attribute set '{'x_b', 'id', 'y', 'x_a', 'edge_index_a', 'edge_index_b', 'edge_attr_b', 'expression', 'edge_attr_a'}'. Please explicitly set 'num_nodes' as an attribute of 'data' to suppress this warning\n",
      "  warnings.warn(\n",
      "Iteration: 100%|████████████████████████████████████████████████████████████████████████████████████████████████████████████████████████████████████████████████████████████████████████████████████████████| 136/136 [00:30<00:00,  4.49it/s]\n"
     ]
    },
    {
     "name": "stdout",
     "output_type": "stream",
     "text": [
      "Evaluating...\n"
     ]
    },
    {
     "name": "stderr",
     "output_type": "stream",
     "text": [
      "Iteration: 100%|████████████████████████████████████████████████████████████████████████████████████████████████████████████████████████████████████████████████████████████████████████████████████████████| 136/136 [00:11<00:00, 11.47it/s]\n",
      "Iteration:   0%|                                                                                                                                                                                                       | 0/16 [00:00<?, ?it/s]/opt/conda/envs/graphnn/lib/python3.9/site-packages/torch_geometric/data/storage.py:244: UserWarning: Unable to accurately infer 'num_nodes' from the attribute set '{'x_b', 'id', 'y', 'x_a', 'edge_index_a', 'edge_index_b', 'edge_attr_b', 'expression', 'edge_attr_a'}'. Please explicitly set 'num_nodes' as an attribute of 'data' to suppress this warning\n",
      "  warnings.warn(\n",
      "Iteration: 100%|██████████████████████████████████████████████████████████████████████████████████████████████████████████████████████████████████████████████████████████████████████████████████████████████| 16/16 [00:01<00:00, 12.13it/s]\n",
      "Iteration:   0%|                                                                                                                                                                                                       | 0/38 [00:00<?, ?it/s]/opt/conda/envs/graphnn/lib/python3.9/site-packages/torch_geometric/data/storage.py:244: UserWarning: Unable to accurately infer 'num_nodes' from the attribute set '{'x_b', 'id', 'y', 'x_a', 'edge_index_a', 'edge_index_b', 'edge_attr_b', 'expression', 'edge_attr_a'}'. Please explicitly set 'num_nodes' as an attribute of 'data' to suppress this warning\n",
      "  warnings.warn(\n",
      "Iteration: 100%|██████████████████████████████████████████████████████████████████████████████████████████████████████████████████████████████████████████████████████████████████████████████████████████████| 38/38 [00:03<00:00, 11.71it/s]\n"
     ]
    },
    {
     "name": "stdout",
     "output_type": "stream",
     "text": [
      "{'Train':  best_epoch_indx:75\n",
      " auc:0.8863095231892095 \n",
      " apur:0.5047639622306775 \n",
      " f1:0.2971667319493406 \n",
      " precision:0.18087417218543048 \n",
      " recall:0.8322769380789858 \n",
      ", 'Validation':  best_epoch_indx:75\n",
      " auc:0.8823786417128285 \n",
      " apur:0.5300979932082819 \n",
      " f1:0.29003489724699494 \n",
      " precision:0.17616580310880828 \n",
      " recall:0.8201754385964912 \n",
      ", 'Test':  best_epoch_indx:75\n",
      " auc:0.8844415518047661 \n",
      " apur:0.4954666047966529 \n",
      " f1:0.2966998754669988 \n",
      " precision:0.1803557910673732 \n",
      " recall:0.8359649122807018 \n",
      "}\n",
      "=====Epoch 76\n",
      "Training...\n"
     ]
    },
    {
     "name": "stderr",
     "output_type": "stream",
     "text": [
      "Iteration:   0%|                                                                                                                                                                                                      | 0/136 [00:00<?, ?it/s]/opt/conda/envs/graphnn/lib/python3.9/site-packages/torch_geometric/data/storage.py:244: UserWarning: Unable to accurately infer 'num_nodes' from the attribute set '{'x_b', 'id', 'y', 'x_a', 'edge_index_a', 'edge_index_b', 'edge_attr_b', 'expression', 'edge_attr_a'}'. Please explicitly set 'num_nodes' as an attribute of 'data' to suppress this warning\n",
      "  warnings.warn(\n",
      "Iteration: 100%|████████████████████████████████████████████████████████████████████████████████████████████████████████████████████████████████████████████████████████████████████████████████████████████| 136/136 [00:30<00:00,  4.49it/s]\n"
     ]
    },
    {
     "name": "stdout",
     "output_type": "stream",
     "text": [
      "Evaluating...\n"
     ]
    },
    {
     "name": "stderr",
     "output_type": "stream",
     "text": [
      "Iteration: 100%|████████████████████████████████████████████████████████████████████████████████████████████████████████████████████████████████████████████████████████████████████████████████████████████| 136/136 [00:12<00:00, 11.12it/s]\n",
      "Iteration:   0%|                                                                                                                                                                                                       | 0/16 [00:00<?, ?it/s]/opt/conda/envs/graphnn/lib/python3.9/site-packages/torch_geometric/data/storage.py:244: UserWarning: Unable to accurately infer 'num_nodes' from the attribute set '{'x_b', 'id', 'y', 'x_a', 'edge_index_a', 'edge_index_b', 'edge_attr_b', 'expression', 'edge_attr_a'}'. Please explicitly set 'num_nodes' as an attribute of 'data' to suppress this warning\n",
      "  warnings.warn(\n",
      "Iteration: 100%|██████████████████████████████████████████████████████████████████████████████████████████████████████████████████████████████████████████████████████████████████████████████████████████████| 16/16 [00:01<00:00, 12.30it/s]\n",
      "Iteration:   0%|                                                                                                                                                                                                       | 0/38 [00:00<?, ?it/s]/opt/conda/envs/graphnn/lib/python3.9/site-packages/torch_geometric/data/storage.py:244: UserWarning: Unable to accurately infer 'num_nodes' from the attribute set '{'x_b', 'id', 'y', 'x_a', 'edge_index_a', 'edge_index_b', 'edge_attr_b', 'expression', 'edge_attr_a'}'. Please explicitly set 'num_nodes' as an attribute of 'data' to suppress this warning\n",
      "  warnings.warn(\n",
      "Iteration: 100%|██████████████████████████████████████████████████████████████████████████████████████████████████████████████████████████████████████████████████████████████████████████████████████████████| 38/38 [00:03<00:00, 11.86it/s]\n"
     ]
    },
    {
     "name": "stdout",
     "output_type": "stream",
     "text": [
      "{'Train':  best_epoch_indx:76\n",
      " auc:0.8870062564900383 \n",
      " apur:0.5190821044112711 \n",
      " f1:0.26378402268793044 \n",
      " precision:0.15536465790272896 \n",
      " recall:0.8729887859580693 \n",
      ", 'Validation':  best_epoch_indx:76\n",
      " auc:0.888596009121457 \n",
      " apur:0.5415328177581682 \n",
      " f1:0.25827597509013434 \n",
      " precision:0.15183044315992292 \n",
      " recall:0.8640350877192983 \n",
      ", 'Test':  best_epoch_indx:76\n",
      " auc:0.8863575158010442 \n",
      " apur:0.5119581803183958 \n",
      " f1:0.26306735477041154 \n",
      " precision:0.1549010441016051 \n",
      " recall:0.8719298245614036 \n",
      "}\n",
      "=====Epoch 77\n",
      "Training...\n"
     ]
    },
    {
     "name": "stderr",
     "output_type": "stream",
     "text": [
      "Iteration:   0%|                                                                                                                                                                                                      | 0/136 [00:00<?, ?it/s]/opt/conda/envs/graphnn/lib/python3.9/site-packages/torch_geometric/data/storage.py:244: UserWarning: Unable to accurately infer 'num_nodes' from the attribute set '{'x_b', 'id', 'y', 'x_a', 'edge_index_a', 'edge_index_b', 'edge_attr_b', 'expression', 'edge_attr_a'}'. Please explicitly set 'num_nodes' as an attribute of 'data' to suppress this warning\n",
      "  warnings.warn(\n",
      "Iteration: 100%|████████████████████████████████████████████████████████████████████████████████████████████████████████████████████████████████████████████████████████████████████████████████████████████| 136/136 [00:31<00:00,  4.38it/s]\n"
     ]
    },
    {
     "name": "stdout",
     "output_type": "stream",
     "text": [
      "Evaluating...\n"
     ]
    },
    {
     "name": "stderr",
     "output_type": "stream",
     "text": [
      "Iteration: 100%|████████████████████████████████████████████████████████████████████████████████████████████████████████████████████████████████████████████████████████████████████████████████████████████| 136/136 [00:11<00:00, 11.56it/s]\n",
      "Iteration:   0%|                                                                                                                                                                                                       | 0/16 [00:00<?, ?it/s]/opt/conda/envs/graphnn/lib/python3.9/site-packages/torch_geometric/data/storage.py:244: UserWarning: Unable to accurately infer 'num_nodes' from the attribute set '{'x_b', 'id', 'y', 'x_a', 'edge_index_a', 'edge_index_b', 'edge_attr_b', 'expression', 'edge_attr_a'}'. Please explicitly set 'num_nodes' as an attribute of 'data' to suppress this warning\n",
      "  warnings.warn(\n",
      "Iteration: 100%|██████████████████████████████████████████████████████████████████████████████████████████████████████████████████████████████████████████████████████████████████████████████████████████████| 16/16 [00:01<00:00, 12.31it/s]\n",
      "Iteration:   0%|                                                                                                                                                                                                       | 0/38 [00:00<?, ?it/s]/opt/conda/envs/graphnn/lib/python3.9/site-packages/torch_geometric/data/storage.py:244: UserWarning: Unable to accurately infer 'num_nodes' from the attribute set '{'x_b', 'id', 'y', 'x_a', 'edge_index_a', 'edge_index_b', 'edge_attr_b', 'expression', 'edge_attr_a'}'. Please explicitly set 'num_nodes' as an attribute of 'data' to suppress this warning\n",
      "  warnings.warn(\n",
      "Iteration: 100%|██████████████████████████████████████████████████████████████████████████████████████████████████████████████████████████████████████████████████████████████████████████████████████████████| 38/38 [00:03<00:00, 10.77it/s]\n"
     ]
    },
    {
     "name": "stdout",
     "output_type": "stream",
     "text": [
      "{'Train':  best_epoch_indx:77\n",
      " auc:0.8890661397716995 \n",
      " apur:0.5237562170636085 \n",
      " f1:0.2762317698068585 \n",
      " precision:0.1647545608425804 \n",
      " recall:0.8542174549000487 \n",
      ", 'Validation':  best_epoch_indx:77\n",
      " auc:0.8846897402891675 \n",
      " apur:0.5462339945349186 \n",
      " f1:0.2699686083013603 \n",
      " precision:0.1605143094151804 \n",
      " recall:0.8486842105263158 \n",
      ", 'Test':  best_epoch_indx:77\n",
      " auc:0.8860546805320527 \n",
      " apur:0.5188520795866374 \n",
      " f1:0.27662282562579554 \n",
      " precision:0.16489630753667173 \n",
      " recall:0.8578947368421053 \n",
      "}\n",
      "=====Epoch 78\n",
      "Training...\n"
     ]
    },
    {
     "name": "stderr",
     "output_type": "stream",
     "text": [
      "Iteration:   0%|                                                                                                                                                                                                      | 0/136 [00:00<?, ?it/s]/opt/conda/envs/graphnn/lib/python3.9/site-packages/torch_geometric/data/storage.py:244: UserWarning: Unable to accurately infer 'num_nodes' from the attribute set '{'x_b', 'id', 'y', 'x_a', 'edge_index_a', 'edge_index_b', 'edge_attr_b', 'expression', 'edge_attr_a'}'. Please explicitly set 'num_nodes' as an attribute of 'data' to suppress this warning\n",
      "  warnings.warn(\n",
      "Iteration: 100%|████████████████████████████████████████████████████████████████████████████████████████████████████████████████████████████████████████████████████████████████████████████████████████████| 136/136 [00:30<00:00,  4.49it/s]\n"
     ]
    },
    {
     "name": "stdout",
     "output_type": "stream",
     "text": [
      "Evaluating...\n"
     ]
    },
    {
     "name": "stderr",
     "output_type": "stream",
     "text": [
      "Iteration: 100%|████████████████████████████████████████████████████████████████████████████████████████████████████████████████████████████████████████████████████████████████████████████████████████████| 136/136 [00:11<00:00, 11.49it/s]\n",
      "Iteration:   0%|                                                                                                                                                                                                       | 0/16 [00:00<?, ?it/s]/opt/conda/envs/graphnn/lib/python3.9/site-packages/torch_geometric/data/storage.py:244: UserWarning: Unable to accurately infer 'num_nodes' from the attribute set '{'x_b', 'id', 'y', 'x_a', 'edge_index_a', 'edge_index_b', 'edge_attr_b', 'expression', 'edge_attr_a'}'. Please explicitly set 'num_nodes' as an attribute of 'data' to suppress this warning\n",
      "  warnings.warn(\n",
      "Iteration: 100%|██████████████████████████████████████████████████████████████████████████████████████████████████████████████████████████████████████████████████████████████████████████████████████████████| 16/16 [00:01<00:00, 12.29it/s]\n",
      "Iteration:   0%|                                                                                                                                                                                                       | 0/38 [00:00<?, ?it/s]/opt/conda/envs/graphnn/lib/python3.9/site-packages/torch_geometric/data/storage.py:244: UserWarning: Unable to accurately infer 'num_nodes' from the attribute set '{'x_b', 'id', 'y', 'x_a', 'edge_index_a', 'edge_index_b', 'edge_attr_b', 'expression', 'edge_attr_a'}'. Please explicitly set 'num_nodes' as an attribute of 'data' to suppress this warning\n",
      "  warnings.warn(\n",
      "Iteration: 100%|██████████████████████████████████████████████████████████████████████████████████████████████████████████████████████████████████████████████████████████████████████████████████████████████| 38/38 [00:03<00:00, 11.87it/s]\n"
     ]
    },
    {
     "name": "stdout",
     "output_type": "stream",
     "text": [
      "{'Train':  best_epoch_indx:78\n",
      " auc:0.8888563780096099 \n",
      " apur:0.528094805155996 \n",
      " f1:0.33191359902646794 \n",
      " precision:0.20953905249679897 \n",
      " recall:0.7979034617259874 \n",
      ", 'Validation':  best_epoch_indx:78\n",
      " auc:0.8844188566359564 \n",
      " apur:0.549659970570303 \n",
      " f1:0.3257474341811691 \n",
      " precision:0.20448179271708683 \n",
      " recall:0.8004385964912281 \n",
      ", 'Test':  best_epoch_indx:78\n",
      " auc:0.8856109496053957 \n",
      " apur:0.524525911522915 \n",
      " f1:0.33157990204970067 \n",
      " precision:0.2090098330665447 \n",
      " recall:0.8017543859649123 \n",
      "}\n",
      "=====Epoch 79\n",
      "Training...\n"
     ]
    },
    {
     "name": "stderr",
     "output_type": "stream",
     "text": [
      "Iteration:   0%|                                                                                                                                                                                                      | 0/136 [00:00<?, ?it/s]/opt/conda/envs/graphnn/lib/python3.9/site-packages/torch_geometric/data/storage.py:244: UserWarning: Unable to accurately infer 'num_nodes' from the attribute set '{'x_b', 'id', 'y', 'x_a', 'edge_index_a', 'edge_index_b', 'edge_attr_b', 'expression', 'edge_attr_a'}'. Please explicitly set 'num_nodes' as an attribute of 'data' to suppress this warning\n",
      "  warnings.warn(\n",
      "Iteration: 100%|████████████████████████████████████████████████████████████████████████████████████████████████████████████████████████████████████████████████████████████████████████████████████████████| 136/136 [00:30<00:00,  4.51it/s]\n"
     ]
    },
    {
     "name": "stdout",
     "output_type": "stream",
     "text": [
      "Evaluating...\n"
     ]
    },
    {
     "name": "stderr",
     "output_type": "stream",
     "text": [
      "Iteration: 100%|████████████████████████████████████████████████████████████████████████████████████████████████████████████████████████████████████████████████████████████████████████████████████████████| 136/136 [00:12<00:00, 11.11it/s]\n",
      "Iteration:   0%|                                                                                                                                                                                                       | 0/16 [00:00<?, ?it/s]/opt/conda/envs/graphnn/lib/python3.9/site-packages/torch_geometric/data/storage.py:244: UserWarning: Unable to accurately infer 'num_nodes' from the attribute set '{'x_b', 'id', 'y', 'x_a', 'edge_index_a', 'edge_index_b', 'edge_attr_b', 'expression', 'edge_attr_a'}'. Please explicitly set 'num_nodes' as an attribute of 'data' to suppress this warning\n",
      "  warnings.warn(\n",
      "Iteration: 100%|██████████████████████████████████████████████████████████████████████████████████████████████████████████████████████████████████████████████████████████████████████████████████████████████| 16/16 [00:01<00:00, 12.26it/s]\n",
      "Iteration:   0%|                                                                                                                                                                                                       | 0/38 [00:00<?, ?it/s]/opt/conda/envs/graphnn/lib/python3.9/site-packages/torch_geometric/data/storage.py:244: UserWarning: Unable to accurately infer 'num_nodes' from the attribute set '{'x_b', 'id', 'y', 'x_a', 'edge_index_a', 'edge_index_b', 'edge_attr_b', 'expression', 'edge_attr_a'}'. Please explicitly set 'num_nodes' as an attribute of 'data' to suppress this warning\n",
      "  warnings.warn(\n",
      "Iteration: 100%|██████████████████████████████████████████████████████████████████████████████████████████████████████████████████████████████████████████████████████████████████████████████████████████████| 38/38 [00:03<00:00, 11.80it/s]\n"
     ]
    },
    {
     "name": "stdout",
     "output_type": "stream",
     "text": [
      "{'Train':  best_epoch_indx:79\n",
      " auc:0.8915519147241524 \n",
      " apur:0.5297294318868009 \n",
      " f1:0.32206197622295846 \n",
      " precision:0.201254414809402 \n",
      " recall:0.8057045343734763 \n",
      ", 'Validation':  best_epoch_indx:79\n",
      " auc:0.8871337195007304 \n",
      " apur:0.5524560045286513 \n",
      " f1:0.3197278911564626 \n",
      " precision:0.19831223628691982 \n",
      " recall:0.8245614035087719 \n",
      ", 'Test':  best_epoch_indx:79\n",
      " auc:0.8893843739604576 \n",
      " apur:0.5265833366987376 \n",
      " f1:0.3280680437424059 \n",
      " precision:0.2045011902185674 \n",
      " recall:0.8289473684210527 \n",
      "}\n",
      "=====Epoch 80\n",
      "Training...\n"
     ]
    },
    {
     "name": "stderr",
     "output_type": "stream",
     "text": [
      "Iteration:   0%|                                                                                                                                                                                                      | 0/136 [00:00<?, ?it/s]/opt/conda/envs/graphnn/lib/python3.9/site-packages/torch_geometric/data/storage.py:244: UserWarning: Unable to accurately infer 'num_nodes' from the attribute set '{'x_b', 'id', 'y', 'x_a', 'edge_index_a', 'edge_index_b', 'edge_attr_b', 'expression', 'edge_attr_a'}'. Please explicitly set 'num_nodes' as an attribute of 'data' to suppress this warning\n",
      "  warnings.warn(\n",
      "Iteration: 100%|████████████████████████████████████████████████████████████████████████████████████████████████████████████████████████████████████████████████████████████████████████████████████████████| 136/136 [00:30<00:00,  4.43it/s]\n"
     ]
    },
    {
     "name": "stdout",
     "output_type": "stream",
     "text": [
      "Evaluating...\n"
     ]
    },
    {
     "name": "stderr",
     "output_type": "stream",
     "text": [
      "Iteration: 100%|████████████████████████████████████████████████████████████████████████████████████████████████████████████████████████████████████████████████████████████████████████████████████████████| 136/136 [00:11<00:00, 11.54it/s]\n",
      "Iteration:   0%|                                                                                                                                                                                                       | 0/16 [00:00<?, ?it/s]/opt/conda/envs/graphnn/lib/python3.9/site-packages/torch_geometric/data/storage.py:244: UserWarning: Unable to accurately infer 'num_nodes' from the attribute set '{'x_b', 'id', 'y', 'x_a', 'edge_index_a', 'edge_index_b', 'edge_attr_b', 'expression', 'edge_attr_a'}'. Please explicitly set 'num_nodes' as an attribute of 'data' to suppress this warning\n",
      "  warnings.warn(\n",
      "Iteration: 100%|██████████████████████████████████████████████████████████████████████████████████████████████████████████████████████████████████████████████████████████████████████████████████████████████| 16/16 [00:01<00:00, 12.33it/s]\n",
      "Iteration:   0%|                                                                                                                                                                                                       | 0/38 [00:00<?, ?it/s]/opt/conda/envs/graphnn/lib/python3.9/site-packages/torch_geometric/data/storage.py:244: UserWarning: Unable to accurately infer 'num_nodes' from the attribute set '{'x_b', 'id', 'y', 'x_a', 'edge_index_a', 'edge_index_b', 'edge_attr_b', 'expression', 'edge_attr_a'}'. Please explicitly set 'num_nodes' as an attribute of 'data' to suppress this warning\n",
      "  warnings.warn(\n",
      "Iteration: 100%|██████████████████████████████████████████████████████████████████████████████████████████████████████████████████████████████████████████████████████████████████████████████████████████████| 38/38 [00:03<00:00, 10.73it/s]\n"
     ]
    },
    {
     "name": "stdout",
     "output_type": "stream",
     "text": [
      "{'Train':  best_epoch_indx:80\n",
      " auc:0.890413168404167 \n",
      " apur:0.5331677266905127 \n",
      " f1:0.3040171781336673 \n",
      " precision:0.18617137847907078 \n",
      " recall:0.8283764017552413 \n",
      ", 'Validation':  best_epoch_indx:80\n",
      " auc:0.8859730478297971 \n",
      " apur:0.5494927823668369 \n",
      " f1:0.30023828435266087 \n",
      " precision:0.18331716779825413 \n",
      " recall:0.8289473684210527 \n",
      ", 'Test':  best_epoch_indx:80\n",
      " auc:0.8874029398861265 \n",
      " apur:0.5275050721014112 \n",
      " f1:0.3075196408529742 \n",
      " precision:0.18814989209338825 \n",
      " recall:0.8412280701754385 \n",
      "}\n",
      "=====Epoch 81\n",
      "Training...\n"
     ]
    },
    {
     "name": "stderr",
     "output_type": "stream",
     "text": [
      "Iteration:   0%|                                                                                                                                                                                                      | 0/136 [00:00<?, ?it/s]/opt/conda/envs/graphnn/lib/python3.9/site-packages/torch_geometric/data/storage.py:244: UserWarning: Unable to accurately infer 'num_nodes' from the attribute set '{'x_b', 'id', 'y', 'x_a', 'edge_index_a', 'edge_index_b', 'edge_attr_b', 'expression', 'edge_attr_a'}'. Please explicitly set 'num_nodes' as an attribute of 'data' to suppress this warning\n",
      "  warnings.warn(\n",
      "Iteration: 100%|████████████████████████████████████████████████████████████████████████████████████████████████████████████████████████████████████████████████████████████████████████████████████████████| 136/136 [00:30<00:00,  4.49it/s]\n"
     ]
    },
    {
     "name": "stdout",
     "output_type": "stream",
     "text": [
      "Evaluating...\n"
     ]
    },
    {
     "name": "stderr",
     "output_type": "stream",
     "text": [
      "Iteration: 100%|████████████████████████████████████████████████████████████████████████████████████████████████████████████████████████████████████████████████████████████████████████████████████████████| 136/136 [00:11<00:00, 11.66it/s]\n",
      "Iteration:   0%|                                                                                                                                                                                                       | 0/16 [00:00<?, ?it/s]/opt/conda/envs/graphnn/lib/python3.9/site-packages/torch_geometric/data/storage.py:244: UserWarning: Unable to accurately infer 'num_nodes' from the attribute set '{'x_b', 'id', 'y', 'x_a', 'edge_index_a', 'edge_index_b', 'edge_attr_b', 'expression', 'edge_attr_a'}'. Please explicitly set 'num_nodes' as an attribute of 'data' to suppress this warning\n",
      "  warnings.warn(\n",
      "Iteration: 100%|██████████████████████████████████████████████████████████████████████████████████████████████████████████████████████████████████████████████████████████████████████████████████████████████| 16/16 [00:01<00:00, 12.33it/s]\n",
      "Iteration:   0%|                                                                                                                                                                                                       | 0/38 [00:00<?, ?it/s]/opt/conda/envs/graphnn/lib/python3.9/site-packages/torch_geometric/data/storage.py:244: UserWarning: Unable to accurately infer 'num_nodes' from the attribute set '{'x_b', 'id', 'y', 'x_a', 'edge_index_a', 'edge_index_b', 'edge_attr_b', 'expression', 'edge_attr_a'}'. Please explicitly set 'num_nodes' as an attribute of 'data' to suppress this warning\n",
      "  warnings.warn(\n",
      "Iteration: 100%|██████████████████████████████████████████████████████████████████████████████████████████████████████████████████████████████████████████████████████████████████████████████████████████████| 38/38 [00:03<00:00, 11.89it/s]\n"
     ]
    },
    {
     "name": "stdout",
     "output_type": "stream",
     "text": [
      "{'Train':  best_epoch_indx:81\n",
      " auc:0.891459647314101 \n",
      " apur:0.5260407950854382 \n",
      " f1:0.30262457882603294 \n",
      " precision:0.18494635309418012 \n",
      " recall:0.8320331545587518 \n",
      ", 'Validation':  best_epoch_indx:81\n",
      " auc:0.8857181339581435 \n",
      " apur:0.545796882002026 \n",
      " f1:0.29559748427672955 \n",
      " precision:0.18007662835249041 \n",
      " recall:0.8245614035087719 \n",
      ", 'Test':  best_epoch_indx:81\n",
      " auc:0.8899743278228548 \n",
      " apur:0.5218232651326864 \n",
      " f1:0.3049555273189326 \n",
      " precision:0.18619084561675717 \n",
      " recall:0.8421052631578947 \n",
      "}\n",
      "=====Epoch 82\n",
      "Training...\n"
     ]
    },
    {
     "name": "stderr",
     "output_type": "stream",
     "text": [
      "Iteration:   0%|                                                                                                                                                                                                      | 0/136 [00:00<?, ?it/s]/opt/conda/envs/graphnn/lib/python3.9/site-packages/torch_geometric/data/storage.py:244: UserWarning: Unable to accurately infer 'num_nodes' from the attribute set '{'x_b', 'id', 'y', 'x_a', 'edge_index_a', 'edge_index_b', 'edge_attr_b', 'expression', 'edge_attr_a'}'. Please explicitly set 'num_nodes' as an attribute of 'data' to suppress this warning\n",
      "  warnings.warn(\n",
      "Iteration: 100%|████████████████████████████████████████████████████████████████████████████████████████████████████████████████████████████████████████████████████████████████████████████████████████████| 136/136 [00:30<00:00,  4.47it/s]\n"
     ]
    },
    {
     "name": "stdout",
     "output_type": "stream",
     "text": [
      "Evaluating...\n"
     ]
    },
    {
     "name": "stderr",
     "output_type": "stream",
     "text": [
      "Iteration: 100%|████████████████████████████████████████████████████████████████████████████████████████████████████████████████████████████████████████████████████████████████████████████████████████████| 136/136 [00:12<00:00, 11.09it/s]\n",
      "Iteration:   0%|                                                                                                                                                                                                       | 0/16 [00:00<?, ?it/s]/opt/conda/envs/graphnn/lib/python3.9/site-packages/torch_geometric/data/storage.py:244: UserWarning: Unable to accurately infer 'num_nodes' from the attribute set '{'x_b', 'id', 'y', 'x_a', 'edge_index_a', 'edge_index_b', 'edge_attr_b', 'expression', 'edge_attr_a'}'. Please explicitly set 'num_nodes' as an attribute of 'data' to suppress this warning\n",
      "  warnings.warn(\n",
      "Iteration: 100%|██████████████████████████████████████████████████████████████████████████████████████████████████████████████████████████████████████████████████████████████████████████████████████████████| 16/16 [00:01<00:00, 12.30it/s]\n",
      "Iteration:   0%|                                                                                                                                                                                                       | 0/38 [00:00<?, ?it/s]/opt/conda/envs/graphnn/lib/python3.9/site-packages/torch_geometric/data/storage.py:244: UserWarning: Unable to accurately infer 'num_nodes' from the attribute set '{'x_b', 'id', 'y', 'x_a', 'edge_index_a', 'edge_index_b', 'edge_attr_b', 'expression', 'edge_attr_a'}'. Please explicitly set 'num_nodes' as an attribute of 'data' to suppress this warning\n",
      "  warnings.warn(\n",
      "Iteration: 100%|██████████████████████████████████████████████████████████████████████████████████████████████████████████████████████████████████████████████████████████████████████████████████████████████| 38/38 [00:03<00:00, 11.89it/s]\n"
     ]
    },
    {
     "name": "stdout",
     "output_type": "stream",
     "text": [
      "{'Train':  best_epoch_indx:82\n",
      " auc:0.8878432806934617 \n",
      " apur:0.5191511026844514 \n",
      " f1:0.33811635794416905 \n",
      " precision:0.21509659430392353 \n",
      " recall:0.7898586055582643 \n",
      ", 'Validation':  best_epoch_indx:82\n",
      " auc:0.8837264310129543 \n",
      " apur:0.5426001507486787 \n",
      " f1:0.3327188940092166 \n",
      " precision:0.21061843640606767 \n",
      " recall:0.7916666666666666 \n",
      ", 'Test':  best_epoch_indx:82\n",
      " auc:0.8870801695086852 \n",
      " apur:0.5082327568382515 \n",
      " f1:0.3339517625231911 \n",
      " precision:0.21176470588235294 \n",
      " recall:0.7894736842105263 \n",
      "}\n",
      "=====Epoch 83\n",
      "Training...\n"
     ]
    },
    {
     "name": "stderr",
     "output_type": "stream",
     "text": [
      "Iteration:   0%|                                                                                                                                                                                                      | 0/136 [00:00<?, ?it/s]/opt/conda/envs/graphnn/lib/python3.9/site-packages/torch_geometric/data/storage.py:244: UserWarning: Unable to accurately infer 'num_nodes' from the attribute set '{'x_b', 'id', 'y', 'x_a', 'edge_index_a', 'edge_index_b', 'edge_attr_b', 'expression', 'edge_attr_a'}'. Please explicitly set 'num_nodes' as an attribute of 'data' to suppress this warning\n",
      "  warnings.warn(\n",
      "Iteration: 100%|████████████████████████████████████████████████████████████████████████████████████████████████████████████████████████████████████████████████████████████████████████████████████████████| 136/136 [00:30<00:00,  4.45it/s]\n"
     ]
    },
    {
     "name": "stdout",
     "output_type": "stream",
     "text": [
      "Evaluating...\n"
     ]
    },
    {
     "name": "stderr",
     "output_type": "stream",
     "text": [
      "Iteration: 100%|████████████████████████████████████████████████████████████████████████████████████████████████████████████████████████████████████████████████████████████████████████████████████████████| 136/136 [00:11<00:00, 11.46it/s]\n",
      "Iteration:   0%|                                                                                                                                                                                                       | 0/16 [00:00<?, ?it/s]/opt/conda/envs/graphnn/lib/python3.9/site-packages/torch_geometric/data/storage.py:244: UserWarning: Unable to accurately infer 'num_nodes' from the attribute set '{'x_b', 'id', 'y', 'x_a', 'edge_index_a', 'edge_index_b', 'edge_attr_b', 'expression', 'edge_attr_a'}'. Please explicitly set 'num_nodes' as an attribute of 'data' to suppress this warning\n",
      "  warnings.warn(\n",
      "Iteration: 100%|██████████████████████████████████████████████████████████████████████████████████████████████████████████████████████████████████████████████████████████████████████████████████████████████| 16/16 [00:01<00:00, 12.19it/s]\n",
      "Iteration:   0%|                                                                                                                                                                                                       | 0/38 [00:00<?, ?it/s]/opt/conda/envs/graphnn/lib/python3.9/site-packages/torch_geometric/data/storage.py:244: UserWarning: Unable to accurately infer 'num_nodes' from the attribute set '{'x_b', 'id', 'y', 'x_a', 'edge_index_a', 'edge_index_b', 'edge_attr_b', 'expression', 'edge_attr_a'}'. Please explicitly set 'num_nodes' as an attribute of 'data' to suppress this warning\n",
      "  warnings.warn(\n",
      "Iteration: 100%|██████████████████████████████████████████████████████████████████████████████████████████████████████████████████████████████████████████████████████████████████████████████████████████████| 38/38 [00:03<00:00, 10.62it/s]\n"
     ]
    },
    {
     "name": "stdout",
     "output_type": "stream",
     "text": [
      "{'Train':  best_epoch_indx:83\n",
      " auc:0.8842004607694627 \n",
      " apur:0.5209986324675915 \n",
      " f1:0.2969744528729619 \n",
      " precision:0.18082395413038863 \n",
      " recall:0.8303266699171136 \n",
      ", 'Validation':  best_epoch_indx:83\n",
      " auc:0.8828158521475438 \n",
      " apur:0.5451520206774676 \n",
      " f1:0.29709864603481617 \n",
      " precision:0.18036636918741192 \n",
      " recall:0.8421052631578947 \n",
      ", 'Test':  best_epoch_indx:83\n",
      " auc:0.8816378849018672 \n",
      " apur:0.5167049757740012 \n",
      " f1:0.29761156505342556 \n",
      " precision:0.18127871362940276 \n",
      " recall:0.8307017543859649 \n",
      "}\n",
      "=====Epoch 84\n",
      "Training...\n"
     ]
    },
    {
     "name": "stderr",
     "output_type": "stream",
     "text": [
      "Iteration:   0%|                                                                                                                                                                                                      | 0/136 [00:00<?, ?it/s]/opt/conda/envs/graphnn/lib/python3.9/site-packages/torch_geometric/data/storage.py:244: UserWarning: Unable to accurately infer 'num_nodes' from the attribute set '{'x_b', 'id', 'y', 'x_a', 'edge_index_a', 'edge_index_b', 'edge_attr_b', 'expression', 'edge_attr_a'}'. Please explicitly set 'num_nodes' as an attribute of 'data' to suppress this warning\n",
      "  warnings.warn(\n",
      "Iteration: 100%|████████████████████████████████████████████████████████████████████████████████████████████████████████████████████████████████████████████████████████████████████████████████████████████| 136/136 [00:30<00:00,  4.49it/s]\n"
     ]
    },
    {
     "name": "stdout",
     "output_type": "stream",
     "text": [
      "Evaluating...\n"
     ]
    },
    {
     "name": "stderr",
     "output_type": "stream",
     "text": [
      "Iteration: 100%|████████████████████████████████████████████████████████████████████████████████████████████████████████████████████████████████████████████████████████████████████████████████████████████| 136/136 [00:11<00:00, 11.54it/s]\n",
      "Iteration:   0%|                                                                                                                                                                                                       | 0/16 [00:00<?, ?it/s]/opt/conda/envs/graphnn/lib/python3.9/site-packages/torch_geometric/data/storage.py:244: UserWarning: Unable to accurately infer 'num_nodes' from the attribute set '{'x_b', 'id', 'y', 'x_a', 'edge_index_a', 'edge_index_b', 'edge_attr_b', 'expression', 'edge_attr_a'}'. Please explicitly set 'num_nodes' as an attribute of 'data' to suppress this warning\n",
      "  warnings.warn(\n",
      "Iteration: 100%|██████████████████████████████████████████████████████████████████████████████████████████████████████████████████████████████████████████████████████████████████████████████████████████████| 16/16 [00:01<00:00, 12.28it/s]\n",
      "Iteration:   0%|                                                                                                                                                                                                       | 0/38 [00:00<?, ?it/s]/opt/conda/envs/graphnn/lib/python3.9/site-packages/torch_geometric/data/storage.py:244: UserWarning: Unable to accurately infer 'num_nodes' from the attribute set '{'x_b', 'id', 'y', 'x_a', 'edge_index_a', 'edge_index_b', 'edge_attr_b', 'expression', 'edge_attr_a'}'. Please explicitly set 'num_nodes' as an attribute of 'data' to suppress this warning\n",
      "  warnings.warn(\n",
      "Iteration: 100%|██████████████████████████████████████████████████████████████████████████████████████████████████████████████████████████████████████████████████████████████████████████████████████████████| 38/38 [00:03<00:00, 11.86it/s]\n"
     ]
    },
    {
     "name": "stdout",
     "output_type": "stream",
     "text": [
      "{'Train':  best_epoch_indx:84\n",
      " auc:0.8861047766682423 \n",
      " apur:0.525436449894914 \n",
      " f1:0.410435040391314 \n",
      " precision:0.2948567777659461 \n",
      " recall:0.6750365675280351 \n",
      ", 'Validation':  best_epoch_indx:84\n",
      " auc:0.8847819431789146 \n",
      " apur:0.5400039260939796 \n",
      " f1:0.4146023468057366 \n",
      " precision:0.2949907235621521 \n",
      " recall:0.6973684210526315 \n",
      ", 'Test':  best_epoch_indx:84\n",
      " auc:0.882382353933749 \n",
      " apur:0.5212119691702047 \n",
      " f1:0.40509689408016986 \n",
      " precision:0.2904453749524172 \n",
      " recall:0.6692982456140351 \n",
      "}\n",
      "=====Epoch 85\n",
      "Training...\n"
     ]
    },
    {
     "name": "stderr",
     "output_type": "stream",
     "text": [
      "Iteration:   0%|                                                                                                                                                                                                      | 0/136 [00:00<?, ?it/s]/opt/conda/envs/graphnn/lib/python3.9/site-packages/torch_geometric/data/storage.py:244: UserWarning: Unable to accurately infer 'num_nodes' from the attribute set '{'x_b', 'id', 'y', 'x_a', 'edge_index_a', 'edge_index_b', 'edge_attr_b', 'expression', 'edge_attr_a'}'. Please explicitly set 'num_nodes' as an attribute of 'data' to suppress this warning\n",
      "  warnings.warn(\n",
      "Iteration: 100%|████████████████████████████████████████████████████████████████████████████████████████████████████████████████████████████████████████████████████████████████████████████████████████████| 136/136 [00:30<00:00,  4.47it/s]\n"
     ]
    },
    {
     "name": "stdout",
     "output_type": "stream",
     "text": [
      "Evaluating...\n"
     ]
    },
    {
     "name": "stderr",
     "output_type": "stream",
     "text": [
      "Iteration: 100%|████████████████████████████████████████████████████████████████████████████████████████████████████████████████████████████████████████████████████████████████████████████████████████████| 136/136 [00:12<00:00, 11.13it/s]\n",
      "Iteration:   0%|                                                                                                                                                                                                       | 0/16 [00:00<?, ?it/s]/opt/conda/envs/graphnn/lib/python3.9/site-packages/torch_geometric/data/storage.py:244: UserWarning: Unable to accurately infer 'num_nodes' from the attribute set '{'x_b', 'id', 'y', 'x_a', 'edge_index_a', 'edge_index_b', 'edge_attr_b', 'expression', 'edge_attr_a'}'. Please explicitly set 'num_nodes' as an attribute of 'data' to suppress this warning\n",
      "  warnings.warn(\n",
      "Iteration: 100%|██████████████████████████████████████████████████████████████████████████████████████████████████████████████████████████████████████████████████████████████████████████████████████████████| 16/16 [00:01<00:00, 12.36it/s]\n",
      "Iteration:   0%|                                                                                                                                                                                                       | 0/38 [00:00<?, ?it/s]/opt/conda/envs/graphnn/lib/python3.9/site-packages/torch_geometric/data/storage.py:244: UserWarning: Unable to accurately infer 'num_nodes' from the attribute set '{'x_b', 'id', 'y', 'x_a', 'edge_index_a', 'edge_index_b', 'edge_attr_b', 'expression', 'edge_attr_a'}'. Please explicitly set 'num_nodes' as an attribute of 'data' to suppress this warning\n",
      "  warnings.warn(\n",
      "Iteration: 100%|██████████████████████████████████████████████████████████████████████████████████████████████████████████████████████████████████████████████████████████████████████████████████████████████| 38/38 [00:03<00:00, 11.90it/s]\n"
     ]
    },
    {
     "name": "stdout",
     "output_type": "stream",
     "text": [
      "{'Train':  best_epoch_indx:85\n",
      " auc:0.884894681797373 \n",
      " apur:0.5258566956889259 \n",
      " f1:0.22480271251537795 \n",
      " precision:0.12817792985457657 \n",
      " recall:0.9132130667966846 \n",
      ", 'Validation':  best_epoch_indx:85\n",
      " auc:0.8844229244105041 \n",
      " apur:0.5507682878608116 \n",
      " f1:0.22021276595744685 \n",
      " precision:0.12530266343825666 \n",
      " recall:0.9078947368421053 \n",
      ", 'Test':  best_epoch_indx:85\n",
      " auc:0.8840638212734365 \n",
      " apur:0.5261700746704168 \n",
      " f1:0.22373247033441207 \n",
      " precision:0.12755227552275522 \n",
      " recall:0.9096491228070176 \n",
      "}\n",
      "=====Epoch 86\n",
      "Training...\n"
     ]
    },
    {
     "name": "stderr",
     "output_type": "stream",
     "text": [
      "Iteration:   0%|                                                                                                                                                                                                      | 0/136 [00:00<?, ?it/s]/opt/conda/envs/graphnn/lib/python3.9/site-packages/torch_geometric/data/storage.py:244: UserWarning: Unable to accurately infer 'num_nodes' from the attribute set '{'x_b', 'id', 'y', 'x_a', 'edge_index_a', 'edge_index_b', 'edge_attr_b', 'expression', 'edge_attr_a'}'. Please explicitly set 'num_nodes' as an attribute of 'data' to suppress this warning\n",
      "  warnings.warn(\n",
      "Iteration: 100%|████████████████████████████████████████████████████████████████████████████████████████████████████████████████████████████████████████████████████████████████████████████████████████████| 136/136 [00:30<00:00,  4.40it/s]\n"
     ]
    },
    {
     "name": "stdout",
     "output_type": "stream",
     "text": [
      "Evaluating...\n"
     ]
    },
    {
     "name": "stderr",
     "output_type": "stream",
     "text": [
      "Iteration: 100%|████████████████████████████████████████████████████████████████████████████████████████████████████████████████████████████████████████████████████████████████████████████████████████████| 136/136 [00:11<00:00, 11.46it/s]\n",
      "Iteration:   0%|                                                                                                                                                                                                       | 0/16 [00:00<?, ?it/s]/opt/conda/envs/graphnn/lib/python3.9/site-packages/torch_geometric/data/storage.py:244: UserWarning: Unable to accurately infer 'num_nodes' from the attribute set '{'x_b', 'id', 'y', 'x_a', 'edge_index_a', 'edge_index_b', 'edge_attr_b', 'expression', 'edge_attr_a'}'. Please explicitly set 'num_nodes' as an attribute of 'data' to suppress this warning\n",
      "  warnings.warn(\n",
      "Iteration: 100%|██████████████████████████████████████████████████████████████████████████████████████████████████████████████████████████████████████████████████████████████████████████████████████████████| 16/16 [00:01<00:00, 12.29it/s]\n",
      "Iteration:   0%|                                                                                                                                                                                                       | 0/38 [00:00<?, ?it/s]/opt/conda/envs/graphnn/lib/python3.9/site-packages/torch_geometric/data/storage.py:244: UserWarning: Unable to accurately infer 'num_nodes' from the attribute set '{'x_b', 'id', 'y', 'x_a', 'edge_index_a', 'edge_index_b', 'edge_attr_b', 'expression', 'edge_attr_a'}'. Please explicitly set 'num_nodes' as an attribute of 'data' to suppress this warning\n",
      "  warnings.warn(\n",
      "Iteration: 100%|██████████████████████████████████████████████████████████████████████████████████████████████████████████████████████████████████████████████████████████████████████████████████████████████| 38/38 [00:03<00:00, 10.81it/s]\n"
     ]
    },
    {
     "name": "stdout",
     "output_type": "stream",
     "text": [
      "{'Train':  best_epoch_indx:86\n",
      " auc:0.8888644470580354 \n",
      " apur:0.5308816636706657 \n",
      " f1:0.3024925313238507 \n",
      " precision:0.18510231923601636 \n",
      " recall:0.8269137006338372 \n",
      ", 'Validation':  best_epoch_indx:86\n",
      " auc:0.8854876267337759 \n",
      " apur:0.5500650703246924 \n",
      " f1:0.2974358974358974 \n",
      " precision:0.18133718133718132 \n",
      " recall:0.8267543859649122 \n",
      ", 'Test':  best_epoch_indx:86\n",
      " auc:0.8864182612342892 \n",
      " apur:0.5274273772123164 \n",
      " f1:0.302121550486521 \n",
      " precision:0.18463638136088906 \n",
      " recall:0.8307017543859649 \n",
      "}\n",
      "=====Epoch 87\n",
      "Training...\n"
     ]
    },
    {
     "name": "stderr",
     "output_type": "stream",
     "text": [
      "Iteration:   0%|                                                                                                                                                                                                      | 0/136 [00:00<?, ?it/s]/opt/conda/envs/graphnn/lib/python3.9/site-packages/torch_geometric/data/storage.py:244: UserWarning: Unable to accurately infer 'num_nodes' from the attribute set '{'x_b', 'id', 'y', 'x_a', 'edge_index_a', 'edge_index_b', 'edge_attr_b', 'expression', 'edge_attr_a'}'. Please explicitly set 'num_nodes' as an attribute of 'data' to suppress this warning\n",
      "  warnings.warn(\n",
      "Iteration: 100%|████████████████████████████████████████████████████████████████████████████████████████████████████████████████████████████████████████████████████████████████████████████████████████████| 136/136 [00:30<00:00,  4.50it/s]\n"
     ]
    },
    {
     "name": "stdout",
     "output_type": "stream",
     "text": [
      "Evaluating...\n"
     ]
    },
    {
     "name": "stderr",
     "output_type": "stream",
     "text": [
      "Iteration: 100%|████████████████████████████████████████████████████████████████████████████████████████████████████████████████████████████████████████████████████████████████████████████████████████████| 136/136 [00:11<00:00, 11.50it/s]\n",
      "Iteration:   0%|                                                                                                                                                                                                       | 0/16 [00:00<?, ?it/s]/opt/conda/envs/graphnn/lib/python3.9/site-packages/torch_geometric/data/storage.py:244: UserWarning: Unable to accurately infer 'num_nodes' from the attribute set '{'x_b', 'id', 'y', 'x_a', 'edge_index_a', 'edge_index_b', 'edge_attr_b', 'expression', 'edge_attr_a'}'. Please explicitly set 'num_nodes' as an attribute of 'data' to suppress this warning\n",
      "  warnings.warn(\n",
      "Iteration: 100%|██████████████████████████████████████████████████████████████████████████████████████████████████████████████████████████████████████████████████████████████████████████████████████████████| 16/16 [00:01<00:00, 12.25it/s]\n",
      "Iteration:   0%|                                                                                                                                                                                                       | 0/38 [00:00<?, ?it/s]/opt/conda/envs/graphnn/lib/python3.9/site-packages/torch_geometric/data/storage.py:244: UserWarning: Unable to accurately infer 'num_nodes' from the attribute set '{'x_b', 'id', 'y', 'x_a', 'edge_index_a', 'edge_index_b', 'edge_attr_b', 'expression', 'edge_attr_a'}'. Please explicitly set 'num_nodes' as an attribute of 'data' to suppress this warning\n",
      "  warnings.warn(\n",
      "Iteration: 100%|██████████████████████████████████████████████████████████████████████████████████████████████████████████████████████████████████████████████████████████████████████████████████████████████| 38/38 [00:03<00:00, 11.79it/s]\n"
     ]
    },
    {
     "name": "stdout",
     "output_type": "stream",
     "text": [
      "{'Train':  best_epoch_indx:87\n",
      " auc:0.8875377194516918 \n",
      " apur:0.525418422405941 \n",
      " f1:0.2662499058522257 \n",
      " precision:0.15744699804026369 \n",
      " recall:0.8617747440273038 \n",
      ", 'Validation':  best_epoch_indx:87\n",
      " auc:0.8849190422470026 \n",
      " apur:0.5417849321335266 \n",
      " f1:0.2674731182795699 \n",
      " precision:0.15793650793650793 \n",
      " recall:0.8728070175438597 \n",
      ", 'Test':  best_epoch_indx:87\n",
      " auc:0.8837872367095259 \n",
      " apur:0.5209526061568437 \n",
      " f1:0.267100977198697 \n",
      " precision:0.1579961464354528 \n",
      " recall:0.8631578947368421 \n",
      "}\n",
      "=====Epoch 88\n",
      "Training...\n"
     ]
    },
    {
     "name": "stderr",
     "output_type": "stream",
     "text": [
      "Iteration:   0%|                                                                                                                                                                                                      | 0/136 [00:00<?, ?it/s]/opt/conda/envs/graphnn/lib/python3.9/site-packages/torch_geometric/data/storage.py:244: UserWarning: Unable to accurately infer 'num_nodes' from the attribute set '{'x_b', 'id', 'y', 'x_a', 'edge_index_a', 'edge_index_b', 'edge_attr_b', 'expression', 'edge_attr_a'}'. Please explicitly set 'num_nodes' as an attribute of 'data' to suppress this warning\n",
      "  warnings.warn(\n",
      "Iteration: 100%|████████████████████████████████████████████████████████████████████████████████████████████████████████████████████████████████████████████████████████████████████████████████████████████| 136/136 [00:30<00:00,  4.51it/s]\n"
     ]
    },
    {
     "name": "stdout",
     "output_type": "stream",
     "text": [
      "Evaluating...\n"
     ]
    },
    {
     "name": "stderr",
     "output_type": "stream",
     "text": [
      "Iteration: 100%|████████████████████████████████████████████████████████████████████████████████████████████████████████████████████████████████████████████████████████████████████████████████████████████| 136/136 [00:12<00:00, 11.16it/s]\n",
      "Iteration:   0%|                                                                                                                                                                                                       | 0/16 [00:00<?, ?it/s]/opt/conda/envs/graphnn/lib/python3.9/site-packages/torch_geometric/data/storage.py:244: UserWarning: Unable to accurately infer 'num_nodes' from the attribute set '{'x_b', 'id', 'y', 'x_a', 'edge_index_a', 'edge_index_b', 'edge_attr_b', 'expression', 'edge_attr_a'}'. Please explicitly set 'num_nodes' as an attribute of 'data' to suppress this warning\n",
      "  warnings.warn(\n",
      "Iteration: 100%|██████████████████████████████████████████████████████████████████████████████████████████████████████████████████████████████████████████████████████████████████████████████████████████████| 16/16 [00:01<00:00, 12.29it/s]\n",
      "Iteration:   0%|                                                                                                                                                                                                       | 0/38 [00:00<?, ?it/s]/opt/conda/envs/graphnn/lib/python3.9/site-packages/torch_geometric/data/storage.py:244: UserWarning: Unable to accurately infer 'num_nodes' from the attribute set '{'x_b', 'id', 'y', 'x_a', 'edge_index_a', 'edge_index_b', 'edge_attr_b', 'expression', 'edge_attr_a'}'. Please explicitly set 'num_nodes' as an attribute of 'data' to suppress this warning\n",
      "  warnings.warn(\n",
      "Iteration: 100%|██████████████████████████████████████████████████████████████████████████████████████████████████████████████████████████████████████████████████████████████████████████████████████████████| 38/38 [00:03<00:00, 11.86it/s]\n"
     ]
    },
    {
     "name": "stdout",
     "output_type": "stream",
     "text": [
      "{'Train':  best_epoch_indx:88\n",
      " auc:0.889861778465913 \n",
      " apur:0.5323535197052427 \n",
      " f1:0.334207144692881 \n",
      " precision:0.21175014655116264 \n",
      " recall:0.7925402242808386 \n",
      ", 'Validation':  best_epoch_indx:88\n",
      " auc:0.8867980527713899 \n",
      " apur:0.5520810625355561 \n",
      " f1:0.32778027915353447 \n",
      " precision:0.20623229461756373 \n",
      " recall:0.7982456140350878 \n",
      ", 'Test':  best_epoch_indx:88\n",
      " auc:0.8862520549794382 \n",
      " apur:0.5267206135633318 \n",
      " f1:0.3330266789328427 \n",
      " precision:0.21071012805587894 \n",
      " recall:0.793859649122807 \n",
      "}\n",
      "=====Epoch 89\n",
      "Training...\n"
     ]
    },
    {
     "name": "stderr",
     "output_type": "stream",
     "text": [
      "Iteration:   0%|                                                                                                                                                                                                      | 0/136 [00:00<?, ?it/s]/opt/conda/envs/graphnn/lib/python3.9/site-packages/torch_geometric/data/storage.py:244: UserWarning: Unable to accurately infer 'num_nodes' from the attribute set '{'x_b', 'id', 'y', 'x_a', 'edge_index_a', 'edge_index_b', 'edge_attr_b', 'expression', 'edge_attr_a'}'. Please explicitly set 'num_nodes' as an attribute of 'data' to suppress this warning\n",
      "  warnings.warn(\n",
      "Iteration: 100%|████████████████████████████████████████████████████████████████████████████████████████████████████████████████████████████████████████████████████████████████████████████████████████████| 136/136 [00:30<00:00,  4.43it/s]\n"
     ]
    },
    {
     "name": "stdout",
     "output_type": "stream",
     "text": [
      "Evaluating...\n"
     ]
    },
    {
     "name": "stderr",
     "output_type": "stream",
     "text": [
      "Iteration: 100%|████████████████████████████████████████████████████████████████████████████████████████████████████████████████████████████████████████████████████████████████████████████████████████████| 136/136 [00:11<00:00, 11.55it/s]\n",
      "Iteration:   0%|                                                                                                                                                                                                       | 0/16 [00:00<?, ?it/s]/opt/conda/envs/graphnn/lib/python3.9/site-packages/torch_geometric/data/storage.py:244: UserWarning: Unable to accurately infer 'num_nodes' from the attribute set '{'x_b', 'id', 'y', 'x_a', 'edge_index_a', 'edge_index_b', 'edge_attr_b', 'expression', 'edge_attr_a'}'. Please explicitly set 'num_nodes' as an attribute of 'data' to suppress this warning\n",
      "  warnings.warn(\n",
      "Iteration: 100%|██████████████████████████████████████████████████████████████████████████████████████████████████████████████████████████████████████████████████████████████████████████████████████████████| 16/16 [00:01<00:00, 12.31it/s]\n",
      "Iteration:   0%|                                                                                                                                                                                                       | 0/38 [00:00<?, ?it/s]/opt/conda/envs/graphnn/lib/python3.9/site-packages/torch_geometric/data/storage.py:244: UserWarning: Unable to accurately infer 'num_nodes' from the attribute set '{'x_b', 'id', 'y', 'x_a', 'edge_index_a', 'edge_index_b', 'edge_attr_b', 'expression', 'edge_attr_a'}'. Please explicitly set 'num_nodes' as an attribute of 'data' to suppress this warning\n",
      "  warnings.warn(\n",
      "Iteration: 100%|██████████████████████████████████████████████████████████████████████████████████████████████████████████████████████████████████████████████████████████████████████████████████████████████| 38/38 [00:03<00:00, 10.77it/s]\n"
     ]
    },
    {
     "name": "stdout",
     "output_type": "stream",
     "text": [
      "{'Train':  best_epoch_indx:89\n",
      " auc:0.8933543700522181 \n",
      " apur:0.5371074507256739 \n",
      " f1:0.27731289590990854 \n",
      " precision:0.165145305514158 \n",
      " recall:0.8644563627498781 \n",
      ", 'Validation':  best_epoch_indx:89\n",
      " auc:0.8888132584139657 \n",
      " apur:0.5557562740970242 \n",
      " f1:0.27231677665856197 \n",
      " precision:0.16178291374329343 \n",
      " recall:0.8596491228070176 \n",
      ", 'Test':  best_epoch_indx:89\n",
      " auc:0.8903875414009055 \n",
      " apur:0.5329080408224285 \n",
      " f1:0.2776060691205395 \n",
      " precision:0.16527266644362662 \n",
      " recall:0.8666666666666667 \n",
      "}\n",
      "=====Epoch 90\n",
      "Training...\n"
     ]
    },
    {
     "name": "stderr",
     "output_type": "stream",
     "text": [
      "Iteration:   0%|                                                                                                                                                                                                      | 0/136 [00:00<?, ?it/s]/opt/conda/envs/graphnn/lib/python3.9/site-packages/torch_geometric/data/storage.py:244: UserWarning: Unable to accurately infer 'num_nodes' from the attribute set '{'x_b', 'id', 'y', 'x_a', 'edge_index_a', 'edge_index_b', 'edge_attr_b', 'expression', 'edge_attr_a'}'. Please explicitly set 'num_nodes' as an attribute of 'data' to suppress this warning\n",
      "  warnings.warn(\n",
      "Iteration: 100%|████████████████████████████████████████████████████████████████████████████████████████████████████████████████████████████████████████████████████████████████████████████████████████████| 136/136 [00:30<00:00,  4.50it/s]\n"
     ]
    },
    {
     "name": "stdout",
     "output_type": "stream",
     "text": [
      "Evaluating...\n"
     ]
    },
    {
     "name": "stderr",
     "output_type": "stream",
     "text": [
      "Iteration: 100%|████████████████████████████████████████████████████████████████████████████████████████████████████████████████████████████████████████████████████████████████████████████████████████████| 136/136 [00:11<00:00, 11.49it/s]\n",
      "Iteration:   0%|                                                                                                                                                                                                       | 0/16 [00:00<?, ?it/s]/opt/conda/envs/graphnn/lib/python3.9/site-packages/torch_geometric/data/storage.py:244: UserWarning: Unable to accurately infer 'num_nodes' from the attribute set '{'x_b', 'id', 'y', 'x_a', 'edge_index_a', 'edge_index_b', 'edge_attr_b', 'expression', 'edge_attr_a'}'. Please explicitly set 'num_nodes' as an attribute of 'data' to suppress this warning\n",
      "  warnings.warn(\n",
      "Iteration: 100%|██████████████████████████████████████████████████████████████████████████████████████████████████████████████████████████████████████████████████████████████████████████████████████████████| 16/16 [00:01<00:00, 12.27it/s]\n",
      "Iteration:   0%|                                                                                                                                                                                                       | 0/38 [00:00<?, ?it/s]/opt/conda/envs/graphnn/lib/python3.9/site-packages/torch_geometric/data/storage.py:244: UserWarning: Unable to accurately infer 'num_nodes' from the attribute set '{'x_b', 'id', 'y', 'x_a', 'edge_index_a', 'edge_index_b', 'edge_attr_b', 'expression', 'edge_attr_a'}'. Please explicitly set 'num_nodes' as an attribute of 'data' to suppress this warning\n",
      "  warnings.warn(\n",
      "Iteration: 100%|██████████████████████████████████████████████████████████████████████████████████████████████████████████████████████████████████████████████████████████████████████████████████████████████| 38/38 [00:03<00:00, 11.86it/s]\n"
     ]
    },
    {
     "name": "stdout",
     "output_type": "stream",
     "text": [
      "{'Train':  best_epoch_indx:90\n",
      " auc:0.8927668964310836 \n",
      " apur:0.5350777659870493 \n",
      " f1:0.34810470294341256 \n",
      " precision:0.22393795416433762 \n",
      " recall:0.7813261823500731 \n",
      ", 'Validation':  best_epoch_indx:90\n",
      " auc:0.886326492240494 \n",
      " apur:0.5526719301950769 \n",
      " f1:0.33691087260849273 \n",
      " precision:0.21398933017190278 \n",
      " recall:0.7916666666666666 \n",
      ", 'Test':  best_epoch_indx:90\n",
      " auc:0.8905228446218598 \n",
      " apur:0.5292605163823783 \n",
      " f1:0.3516998827667057 \n",
      " precision:0.22624434389140272 \n",
      " recall:0.7894736842105263 \n",
      "}\n",
      "=====Epoch 91\n",
      "Training...\n"
     ]
    },
    {
     "name": "stderr",
     "output_type": "stream",
     "text": [
      "Iteration:   0%|                                                                                                                                                                                                      | 0/136 [00:00<?, ?it/s]/opt/conda/envs/graphnn/lib/python3.9/site-packages/torch_geometric/data/storage.py:244: UserWarning: Unable to accurately infer 'num_nodes' from the attribute set '{'x_b', 'id', 'y', 'x_a', 'edge_index_a', 'edge_index_b', 'edge_attr_b', 'expression', 'edge_attr_a'}'. Please explicitly set 'num_nodes' as an attribute of 'data' to suppress this warning\n",
      "  warnings.warn(\n",
      "Iteration: 100%|████████████████████████████████████████████████████████████████████████████████████████████████████████████████████████████████████████████████████████████████████████████████████████████| 136/136 [00:30<00:00,  4.53it/s]\n"
     ]
    },
    {
     "name": "stdout",
     "output_type": "stream",
     "text": [
      "Evaluating...\n"
     ]
    },
    {
     "name": "stderr",
     "output_type": "stream",
     "text": [
      "Iteration: 100%|████████████████████████████████████████████████████████████████████████████████████████████████████████████████████████████████████████████████████████████████████████████████████████████| 136/136 [00:12<00:00, 11.09it/s]\n",
      "Iteration:   0%|                                                                                                                                                                                                       | 0/16 [00:00<?, ?it/s]/opt/conda/envs/graphnn/lib/python3.9/site-packages/torch_geometric/data/storage.py:244: UserWarning: Unable to accurately infer 'num_nodes' from the attribute set '{'x_b', 'id', 'y', 'x_a', 'edge_index_a', 'edge_index_b', 'edge_attr_b', 'expression', 'edge_attr_a'}'. Please explicitly set 'num_nodes' as an attribute of 'data' to suppress this warning\n",
      "  warnings.warn(\n",
      "Iteration: 100%|██████████████████████████████████████████████████████████████████████████████████████████████████████████████████████████████████████████████████████████████████████████████████████████████| 16/16 [00:01<00:00, 12.29it/s]\n",
      "Iteration:   0%|                                                                                                                                                                                                       | 0/38 [00:00<?, ?it/s]/opt/conda/envs/graphnn/lib/python3.9/site-packages/torch_geometric/data/storage.py:244: UserWarning: Unable to accurately infer 'num_nodes' from the attribute set '{'x_b', 'id', 'y', 'x_a', 'edge_index_a', 'edge_index_b', 'edge_attr_b', 'expression', 'edge_attr_a'}'. Please explicitly set 'num_nodes' as an attribute of 'data' to suppress this warning\n",
      "  warnings.warn(\n",
      "Iteration: 100%|██████████████████████████████████████████████████████████████████████████████████████████████████████████████████████████████████████████████████████████████████████████████████████████████| 38/38 [00:03<00:00, 11.81it/s]\n"
     ]
    },
    {
     "name": "stdout",
     "output_type": "stream",
     "text": [
      "{'Train':  best_epoch_indx:91\n",
      " auc:0.8920624327734377 \n",
      " apur:0.5295876942995019 \n",
      " f1:0.35495865475331595 \n",
      " precision:0.22979090321189913 \n",
      " recall:0.7796196977084349 \n",
      ", 'Validation':  best_epoch_indx:91\n",
      " auc:0.887988253472373 \n",
      " apur:0.5395411248663686 \n",
      " f1:0.35034347399411186 \n",
      " precision:0.22566371681415928 \n",
      " recall:0.7828947368421053 \n",
      ", 'Test':  best_epoch_indx:91\n",
      " auc:0.8884021299470167 \n",
      " apur:0.5225878152980552 \n",
      " f1:0.35401387512388505 \n",
      " precision:0.22868117797695262 \n",
      " recall:0.7833333333333333 \n",
      "}\n",
      "=====Epoch 92\n",
      "Training...\n"
     ]
    },
    {
     "name": "stderr",
     "output_type": "stream",
     "text": [
      "Iteration:   0%|                                                                                                                                                                                                      | 0/136 [00:00<?, ?it/s]/opt/conda/envs/graphnn/lib/python3.9/site-packages/torch_geometric/data/storage.py:244: UserWarning: Unable to accurately infer 'num_nodes' from the attribute set '{'x_b', 'id', 'y', 'x_a', 'edge_index_a', 'edge_index_b', 'edge_attr_b', 'expression', 'edge_attr_a'}'. Please explicitly set 'num_nodes' as an attribute of 'data' to suppress this warning\n",
      "  warnings.warn(\n",
      "Iteration: 100%|████████████████████████████████████████████████████████████████████████████████████████████████████████████████████████████████████████████████████████████████████████████████████████████| 136/136 [00:30<00:00,  4.46it/s]\n"
     ]
    },
    {
     "name": "stdout",
     "output_type": "stream",
     "text": [
      "Evaluating...\n"
     ]
    },
    {
     "name": "stderr",
     "output_type": "stream",
     "text": [
      "Iteration: 100%|████████████████████████████████████████████████████████████████████████████████████████████████████████████████████████████████████████████████████████████████████████████████████████████| 136/136 [00:11<00:00, 11.53it/s]\n",
      "Iteration:   0%|                                                                                                                                                                                                       | 0/16 [00:00<?, ?it/s]/opt/conda/envs/graphnn/lib/python3.9/site-packages/torch_geometric/data/storage.py:244: UserWarning: Unable to accurately infer 'num_nodes' from the attribute set '{'x_b', 'id', 'y', 'x_a', 'edge_index_a', 'edge_index_b', 'edge_attr_b', 'expression', 'edge_attr_a'}'. Please explicitly set 'num_nodes' as an attribute of 'data' to suppress this warning\n",
      "  warnings.warn(\n",
      "Iteration: 100%|██████████████████████████████████████████████████████████████████████████████████████████████████████████████████████████████████████████████████████████████████████████████████████████████| 16/16 [00:01<00:00, 12.26it/s]\n",
      "Iteration:   0%|                                                                                                                                                                                                       | 0/38 [00:00<?, ?it/s]/opt/conda/envs/graphnn/lib/python3.9/site-packages/torch_geometric/data/storage.py:244: UserWarning: Unable to accurately infer 'num_nodes' from the attribute set '{'x_b', 'id', 'y', 'x_a', 'edge_index_a', 'edge_index_b', 'edge_attr_b', 'expression', 'edge_attr_a'}'. Please explicitly set 'num_nodes' as an attribute of 'data' to suppress this warning\n",
      "  warnings.warn(\n",
      "Iteration: 100%|██████████████████████████████████████████████████████████████████████████████████████████████████████████████████████████████████████████████████████████████████████████████████████████████| 38/38 [00:03<00:00, 10.72it/s]\n"
     ]
    },
    {
     "name": "stdout",
     "output_type": "stream",
     "text": [
      "{'Train':  best_epoch_indx:92\n",
      " auc:0.8882698088067262 \n",
      " apur:0.5255857337398739 \n",
      " f1:0.3544173255414232 \n",
      " precision:0.23165068903535052 \n",
      " recall:0.7540224280838616 \n",
      ", 'Validation':  best_epoch_indx:92\n",
      " auc:0.8836752071853169 \n",
      " apur:0.5504086386762043 \n",
      " f1:0.35516888433981575 \n",
      " precision:0.23164218958611482 \n",
      " recall:0.7609649122807017 \n",
      ", 'Test':  best_epoch_indx:92\n",
      " auc:0.8847842090799959 \n",
      " apur:0.5218896560244212 \n",
      " f1:0.356153050672182 \n",
      " precision:0.23301759133964817 \n",
      " recall:0.7552631578947369 \n",
      "}\n",
      "=====Epoch 93\n",
      "Training...\n"
     ]
    },
    {
     "name": "stderr",
     "output_type": "stream",
     "text": [
      "Iteration:   0%|                                                                                                                                                                                                      | 0/136 [00:00<?, ?it/s]/opt/conda/envs/graphnn/lib/python3.9/site-packages/torch_geometric/data/storage.py:244: UserWarning: Unable to accurately infer 'num_nodes' from the attribute set '{'x_b', 'id', 'y', 'x_a', 'edge_index_a', 'edge_index_b', 'edge_attr_b', 'expression', 'edge_attr_a'}'. Please explicitly set 'num_nodes' as an attribute of 'data' to suppress this warning\n",
      "  warnings.warn(\n",
      "Iteration: 100%|████████████████████████████████████████████████████████████████████████████████████████████████████████████████████████████████████████████████████████████████████████████████████████████| 136/136 [00:30<00:00,  4.50it/s]\n"
     ]
    },
    {
     "name": "stdout",
     "output_type": "stream",
     "text": [
      "Evaluating...\n"
     ]
    },
    {
     "name": "stderr",
     "output_type": "stream",
     "text": [
      "Iteration: 100%|████████████████████████████████████████████████████████████████████████████████████████████████████████████████████████████████████████████████████████████████████████████████████████████| 136/136 [00:11<00:00, 11.59it/s]\n",
      "Iteration:   0%|                                                                                                                                                                                                       | 0/16 [00:00<?, ?it/s]/opt/conda/envs/graphnn/lib/python3.9/site-packages/torch_geometric/data/storage.py:244: UserWarning: Unable to accurately infer 'num_nodes' from the attribute set '{'x_b', 'id', 'y', 'x_a', 'edge_index_a', 'edge_index_b', 'edge_attr_b', 'expression', 'edge_attr_a'}'. Please explicitly set 'num_nodes' as an attribute of 'data' to suppress this warning\n",
      "  warnings.warn(\n",
      "Iteration: 100%|██████████████████████████████████████████████████████████████████████████████████████████████████████████████████████████████████████████████████████████████████████████████████████████████| 16/16 [00:01<00:00, 12.31it/s]\n",
      "Iteration:   0%|                                                                                                                                                                                                       | 0/38 [00:00<?, ?it/s]/opt/conda/envs/graphnn/lib/python3.9/site-packages/torch_geometric/data/storage.py:244: UserWarning: Unable to accurately infer 'num_nodes' from the attribute set '{'x_b', 'id', 'y', 'x_a', 'edge_index_a', 'edge_index_b', 'edge_attr_b', 'expression', 'edge_attr_a'}'. Please explicitly set 'num_nodes' as an attribute of 'data' to suppress this warning\n",
      "  warnings.warn(\n",
      "Iteration: 100%|██████████████████████████████████████████████████████████████████████████████████████████████████████████████████████████████████████████████████████████████████████████████████████████████| 38/38 [00:03<00:00, 11.89it/s]\n"
     ]
    },
    {
     "name": "stdout",
     "output_type": "stream",
     "text": [
      "{'Train':  best_epoch_indx:93\n",
      " auc:0.8881130801954735 \n",
      " apur:0.5236467154788667 \n",
      " f1:0.3623644630989857 \n",
      " precision:0.2381244253754214 \n",
      " recall:0.757679180887372 \n",
      ", 'Validation':  best_epoch_indx:93\n",
      " auc:0.8792726698582124 \n",
      " apur:0.5403775781358956 \n",
      " f1:0.3530612244897959 \n",
      " precision:0.2300531914893617 \n",
      " recall:0.7587719298245614 \n",
      ", 'Test':  best_epoch_indx:93\n",
      " auc:0.8846439883715884 \n",
      " apur:0.5205257741241617 \n",
      " f1:0.36503642039542145 \n",
      " precision:0.2392905866302865 \n",
      " recall:0.769298245614035 \n",
      "}\n",
      "=====Epoch 94\n",
      "Training...\n"
     ]
    },
    {
     "name": "stderr",
     "output_type": "stream",
     "text": [
      "Iteration:   0%|                                                                                                                                                                                                      | 0/136 [00:00<?, ?it/s]/opt/conda/envs/graphnn/lib/python3.9/site-packages/torch_geometric/data/storage.py:244: UserWarning: Unable to accurately infer 'num_nodes' from the attribute set '{'x_b', 'id', 'y', 'x_a', 'edge_index_a', 'edge_index_b', 'edge_attr_b', 'expression', 'edge_attr_a'}'. Please explicitly set 'num_nodes' as an attribute of 'data' to suppress this warning\n",
      "  warnings.warn(\n",
      "Iteration: 100%|████████████████████████████████████████████████████████████████████████████████████████████████████████████████████████████████████████████████████████████████████████████████████████████| 136/136 [00:30<00:00,  4.50it/s]\n"
     ]
    },
    {
     "name": "stdout",
     "output_type": "stream",
     "text": [
      "Evaluating...\n"
     ]
    },
    {
     "name": "stderr",
     "output_type": "stream",
     "text": [
      "Iteration: 100%|████████████████████████████████████████████████████████████████████████████████████████████████████████████████████████████████████████████████████████████████████████████████████████████| 136/136 [00:12<00:00, 11.02it/s]\n",
      "Iteration:   0%|                                                                                                                                                                                                       | 0/16 [00:00<?, ?it/s]/opt/conda/envs/graphnn/lib/python3.9/site-packages/torch_geometric/data/storage.py:244: UserWarning: Unable to accurately infer 'num_nodes' from the attribute set '{'x_b', 'id', 'y', 'x_a', 'edge_index_a', 'edge_index_b', 'edge_attr_b', 'expression', 'edge_attr_a'}'. Please explicitly set 'num_nodes' as an attribute of 'data' to suppress this warning\n",
      "  warnings.warn(\n",
      "Iteration: 100%|██████████████████████████████████████████████████████████████████████████████████████████████████████████████████████████████████████████████████████████████████████████████████████████████| 16/16 [00:01<00:00, 12.25it/s]\n",
      "Iteration:   0%|                                                                                                                                                                                                       | 0/38 [00:00<?, ?it/s]/opt/conda/envs/graphnn/lib/python3.9/site-packages/torch_geometric/data/storage.py:244: UserWarning: Unable to accurately infer 'num_nodes' from the attribute set '{'x_b', 'id', 'y', 'x_a', 'edge_index_a', 'edge_index_b', 'edge_attr_b', 'expression', 'edge_attr_a'}'. Please explicitly set 'num_nodes' as an attribute of 'data' to suppress this warning\n",
      "  warnings.warn(\n",
      "Iteration: 100%|██████████████████████████████████████████████████████████████████████████████████████████████████████████████████████████████████████████████████████████████████████████████████████████████| 38/38 [00:03<00:00, 11.88it/s]\n"
     ]
    },
    {
     "name": "stdout",
     "output_type": "stream",
     "text": [
      "{'Train':  best_epoch_indx:94\n",
      " auc:0.8881824580078234 \n",
      " apur:0.5280202061571332 \n",
      " f1:0.3096179796193756 \n",
      " precision:0.1913278509402496 \n",
      " recall:0.8110677718186251 \n",
      ", 'Validation':  best_epoch_indx:94\n",
      " auc:0.881735029384398 \n",
      " apur:0.5454003988757095 \n",
      " f1:0.3026851098454028 \n",
      " precision:0.18581418581418582 \n",
      " recall:0.8157894736842105 \n",
      ", 'Test':  best_epoch_indx:94\n",
      " auc:0.8843336322394335 \n",
      " apur:0.5210700939925135 \n",
      " f1:0.3076923076923077 \n",
      " precision:0.18960244648318042 \n",
      " recall:0.8157894736842105 \n",
      "}\n",
      "=====Epoch 95\n",
      "Training...\n"
     ]
    },
    {
     "name": "stderr",
     "output_type": "stream",
     "text": [
      "Iteration:   0%|                                                                                                                                                                                                      | 0/136 [00:00<?, ?it/s]/opt/conda/envs/graphnn/lib/python3.9/site-packages/torch_geometric/data/storage.py:244: UserWarning: Unable to accurately infer 'num_nodes' from the attribute set '{'x_b', 'id', 'y', 'x_a', 'edge_index_a', 'edge_index_b', 'edge_attr_b', 'expression', 'edge_attr_a'}'. Please explicitly set 'num_nodes' as an attribute of 'data' to suppress this warning\n",
      "  warnings.warn(\n",
      "Iteration: 100%|████████████████████████████████████████████████████████████████████████████████████████████████████████████████████████████████████████████████████████████████████████████████████████████| 136/136 [00:30<00:00,  4.46it/s]\n"
     ]
    },
    {
     "name": "stdout",
     "output_type": "stream",
     "text": [
      "Evaluating...\n"
     ]
    },
    {
     "name": "stderr",
     "output_type": "stream",
     "text": [
      "Iteration: 100%|████████████████████████████████████████████████████████████████████████████████████████████████████████████████████████████████████████████████████████████████████████████████████████████| 136/136 [00:11<00:00, 11.46it/s]\n",
      "Iteration:   0%|                                                                                                                                                                                                       | 0/16 [00:00<?, ?it/s]/opt/conda/envs/graphnn/lib/python3.9/site-packages/torch_geometric/data/storage.py:244: UserWarning: Unable to accurately infer 'num_nodes' from the attribute set '{'x_b', 'id', 'y', 'x_a', 'edge_index_a', 'edge_index_b', 'edge_attr_b', 'expression', 'edge_attr_a'}'. Please explicitly set 'num_nodes' as an attribute of 'data' to suppress this warning\n",
      "  warnings.warn(\n",
      "Iteration: 100%|██████████████████████████████████████████████████████████████████████████████████████████████████████████████████████████████████████████████████████████████████████████████████████████████| 16/16 [00:01<00:00, 12.19it/s]\n",
      "Iteration:   0%|                                                                                                                                                                                                       | 0/38 [00:00<?, ?it/s]/opt/conda/envs/graphnn/lib/python3.9/site-packages/torch_geometric/data/storage.py:244: UserWarning: Unable to accurately infer 'num_nodes' from the attribute set '{'x_b', 'id', 'y', 'x_a', 'edge_index_a', 'edge_index_b', 'edge_attr_b', 'expression', 'edge_attr_a'}'. Please explicitly set 'num_nodes' as an attribute of 'data' to suppress this warning\n",
      "  warnings.warn(\n",
      "Iteration: 100%|██████████████████████████████████████████████████████████████████████████████████████████████████████████████████████████████████████████████████████████████████████████████████████████████| 38/38 [00:03<00:00, 10.65it/s]\n"
     ]
    },
    {
     "name": "stdout",
     "output_type": "stream",
     "text": [
      "{'Train':  best_epoch_indx:95\n",
      " auc:0.8899414119345991 \n",
      " apur:0.5323465250061326 \n",
      " f1:0.34166399658229196 \n",
      " precision:0.21875 \n",
      " recall:0.7798634812286689 \n",
      ", 'Validation':  best_epoch_indx:95\n",
      " auc:0.8852390405114188 \n",
      " apur:0.548927976585823 \n",
      " f1:0.33706816059757233 \n",
      " precision:0.21411625148279953 \n",
      " recall:0.7916666666666666 \n",
      ", 'Test':  best_epoch_indx:95\n",
      " auc:0.8884312973971064 \n",
      " apur:0.5310655947397952 \n",
      " f1:0.3431073876618431 \n",
      " precision:0.2191147859922179 \n",
      " recall:0.7903508771929825 \n",
      "}\n",
      "=====Epoch 96\n",
      "Training...\n"
     ]
    },
    {
     "name": "stderr",
     "output_type": "stream",
     "text": [
      "Iteration:   0%|                                                                                                                                                                                                      | 0/136 [00:00<?, ?it/s]/opt/conda/envs/graphnn/lib/python3.9/site-packages/torch_geometric/data/storage.py:244: UserWarning: Unable to accurately infer 'num_nodes' from the attribute set '{'x_b', 'id', 'y', 'x_a', 'edge_index_a', 'edge_index_b', 'edge_attr_b', 'expression', 'edge_attr_a'}'. Please explicitly set 'num_nodes' as an attribute of 'data' to suppress this warning\n",
      "  warnings.warn(\n",
      "Iteration: 100%|████████████████████████████████████████████████████████████████████████████████████████████████████████████████████████████████████████████████████████████████████████████████████████████| 136/136 [00:30<00:00,  4.52it/s]\n"
     ]
    },
    {
     "name": "stdout",
     "output_type": "stream",
     "text": [
      "Evaluating...\n"
     ]
    },
    {
     "name": "stderr",
     "output_type": "stream",
     "text": [
      "Iteration: 100%|████████████████████████████████████████████████████████████████████████████████████████████████████████████████████████████████████████████████████████████████████████████████████████████| 136/136 [00:11<00:00, 11.54it/s]\n",
      "Iteration:   0%|                                                                                                                                                                                                       | 0/16 [00:00<?, ?it/s]/opt/conda/envs/graphnn/lib/python3.9/site-packages/torch_geometric/data/storage.py:244: UserWarning: Unable to accurately infer 'num_nodes' from the attribute set '{'x_b', 'id', 'y', 'x_a', 'edge_index_a', 'edge_index_b', 'edge_attr_b', 'expression', 'edge_attr_a'}'. Please explicitly set 'num_nodes' as an attribute of 'data' to suppress this warning\n",
      "  warnings.warn(\n",
      "Iteration: 100%|██████████████████████████████████████████████████████████████████████████████████████████████████████████████████████████████████████████████████████████████████████████████████████████████| 16/16 [00:01<00:00, 12.32it/s]\n",
      "Iteration:   0%|                                                                                                                                                                                                       | 0/38 [00:00<?, ?it/s]/opt/conda/envs/graphnn/lib/python3.9/site-packages/torch_geometric/data/storage.py:244: UserWarning: Unable to accurately infer 'num_nodes' from the attribute set '{'x_b', 'id', 'y', 'x_a', 'edge_index_a', 'edge_index_b', 'edge_attr_b', 'expression', 'edge_attr_a'}'. Please explicitly set 'num_nodes' as an attribute of 'data' to suppress this warning\n",
      "  warnings.warn(\n",
      "Iteration: 100%|██████████████████████████████████████████████████████████████████████████████████████████████████████████████████████████████████████████████████████████████████████████████████████████████| 38/38 [00:03<00:00, 11.84it/s]\n"
     ]
    },
    {
     "name": "stdout",
     "output_type": "stream",
     "text": [
      "{'Train':  best_epoch_indx:96\n",
      " auc:0.8897057886489926 \n",
      " apur:0.5335894215334354 \n",
      " f1:0.344481783752067 \n",
      " precision:0.22048480710139978 \n",
      " recall:0.7871769868356899 \n",
      ", 'Validation':  best_epoch_indx:96\n",
      " auc:0.8869218939076188 \n",
      " apur:0.5541610086757172 \n",
      " f1:0.34258823529411764 \n",
      " precision:0.21809466746554823 \n",
      " recall:0.7982456140350878 \n",
      ", 'Test':  best_epoch_indx:96\n",
      " auc:0.8878246385405668 \n",
      " apur:0.5300901004812774 \n",
      " f1:0.34096109839816935 \n",
      " precision:0.21783625730994152 \n",
      " recall:0.7842105263157895 \n",
      "}\n",
      "=====Epoch 97\n",
      "Training...\n"
     ]
    },
    {
     "name": "stderr",
     "output_type": "stream",
     "text": [
      "Iteration:   0%|                                                                                                                                                                                                      | 0/136 [00:00<?, ?it/s]/opt/conda/envs/graphnn/lib/python3.9/site-packages/torch_geometric/data/storage.py:244: UserWarning: Unable to accurately infer 'num_nodes' from the attribute set '{'x_b', 'id', 'y', 'x_a', 'edge_index_a', 'edge_index_b', 'edge_attr_b', 'expression', 'edge_attr_a'}'. Please explicitly set 'num_nodes' as an attribute of 'data' to suppress this warning\n",
      "  warnings.warn(\n",
      "Iteration: 100%|████████████████████████████████████████████████████████████████████████████████████████████████████████████████████████████████████████████████████████████████████████████████████████████| 136/136 [00:30<00:00,  4.49it/s]\n"
     ]
    },
    {
     "name": "stdout",
     "output_type": "stream",
     "text": [
      "Evaluating...\n"
     ]
    },
    {
     "name": "stderr",
     "output_type": "stream",
     "text": [
      "Iteration: 100%|████████████████████████████████████████████████████████████████████████████████████████████████████████████████████████████████████████████████████████████████████████████████████████████| 136/136 [00:12<00:00, 11.15it/s]\n",
      "Iteration:   0%|                                                                                                                                                                                                       | 0/16 [00:00<?, ?it/s]/opt/conda/envs/graphnn/lib/python3.9/site-packages/torch_geometric/data/storage.py:244: UserWarning: Unable to accurately infer 'num_nodes' from the attribute set '{'x_b', 'id', 'y', 'x_a', 'edge_index_a', 'edge_index_b', 'edge_attr_b', 'expression', 'edge_attr_a'}'. Please explicitly set 'num_nodes' as an attribute of 'data' to suppress this warning\n",
      "  warnings.warn(\n",
      "Iteration: 100%|██████████████████████████████████████████████████████████████████████████████████████████████████████████████████████████████████████████████████████████████████████████████████████████████| 16/16 [00:01<00:00, 12.38it/s]\n",
      "Iteration:   0%|                                                                                                                                                                                                       | 0/38 [00:00<?, ?it/s]/opt/conda/envs/graphnn/lib/python3.9/site-packages/torch_geometric/data/storage.py:244: UserWarning: Unable to accurately infer 'num_nodes' from the attribute set '{'x_b', 'id', 'y', 'x_a', 'edge_index_a', 'edge_index_b', 'edge_attr_b', 'expression', 'edge_attr_a'}'. Please explicitly set 'num_nodes' as an attribute of 'data' to suppress this warning\n",
      "  warnings.warn(\n",
      "Iteration: 100%|██████████████████████████████████████████████████████████████████████████████████████████████████████████████████████████████████████████████████████████████████████████████████████████████| 38/38 [00:03<00:00, 11.88it/s]\n"
     ]
    },
    {
     "name": "stdout",
     "output_type": "stream",
     "text": [
      "{'Train':  best_epoch_indx:97\n",
      " auc:0.8927671197442322 \n",
      " apur:0.5336096567818249 \n",
      " f1:0.30900860117700313 \n",
      " precision:0.189737602846342 \n",
      " recall:0.8320331545587518 \n",
      ", 'Validation':  best_epoch_indx:97\n",
      " auc:0.8874407611499207 \n",
      " apur:0.5578510656705278 \n",
      " f1:0.30356427713255907 \n",
      " precision:0.18569328760411563 \n",
      " recall:0.831140350877193 \n",
      ", 'Test':  best_epoch_indx:97\n",
      " auc:0.8897736268398394 \n",
      " apur:0.5291029531710428 \n",
      " f1:0.3080889461811151 \n",
      " precision:0.18870904066324518 \n",
      " recall:0.8385964912280702 \n",
      "}\n",
      "=====Epoch 98\n",
      "Training...\n"
     ]
    },
    {
     "name": "stderr",
     "output_type": "stream",
     "text": [
      "Iteration:   0%|                                                                                                                                                                                                      | 0/136 [00:00<?, ?it/s]/opt/conda/envs/graphnn/lib/python3.9/site-packages/torch_geometric/data/storage.py:244: UserWarning: Unable to accurately infer 'num_nodes' from the attribute set '{'x_b', 'id', 'y', 'x_a', 'edge_index_a', 'edge_index_b', 'edge_attr_b', 'expression', 'edge_attr_a'}'. Please explicitly set 'num_nodes' as an attribute of 'data' to suppress this warning\n",
      "  warnings.warn(\n",
      "Iteration: 100%|████████████████████████████████████████████████████████████████████████████████████████████████████████████████████████████████████████████████████████████████████████████████████████████| 136/136 [00:30<00:00,  4.44it/s]\n"
     ]
    },
    {
     "name": "stdout",
     "output_type": "stream",
     "text": [
      "Evaluating...\n"
     ]
    },
    {
     "name": "stderr",
     "output_type": "stream",
     "text": [
      "Iteration: 100%|████████████████████████████████████████████████████████████████████████████████████████████████████████████████████████████████████████████████████████████████████████████████████████████| 136/136 [00:11<00:00, 11.46it/s]\n",
      "Iteration:   0%|                                                                                                                                                                                                       | 0/16 [00:00<?, ?it/s]/opt/conda/envs/graphnn/lib/python3.9/site-packages/torch_geometric/data/storage.py:244: UserWarning: Unable to accurately infer 'num_nodes' from the attribute set '{'x_b', 'id', 'y', 'x_a', 'edge_index_a', 'edge_index_b', 'edge_attr_b', 'expression', 'edge_attr_a'}'. Please explicitly set 'num_nodes' as an attribute of 'data' to suppress this warning\n",
      "  warnings.warn(\n",
      "Iteration: 100%|██████████████████████████████████████████████████████████████████████████████████████████████████████████████████████████████████████████████████████████████████████████████████████████████| 16/16 [00:01<00:00, 12.29it/s]\n",
      "Iteration:   0%|                                                                                                                                                                                                       | 0/38 [00:00<?, ?it/s]/opt/conda/envs/graphnn/lib/python3.9/site-packages/torch_geometric/data/storage.py:244: UserWarning: Unable to accurately infer 'num_nodes' from the attribute set '{'x_b', 'id', 'y', 'x_a', 'edge_index_a', 'edge_index_b', 'edge_attr_b', 'expression', 'edge_attr_a'}'. Please explicitly set 'num_nodes' as an attribute of 'data' to suppress this warning\n",
      "  warnings.warn(\n",
      "Iteration: 100%|██████████████████████████████████████████████████████████████████████████████████████████████████████████████████████████████████████████████████████████████████████████████████████████████| 38/38 [00:03<00:00, 10.79it/s]\n"
     ]
    },
    {
     "name": "stdout",
     "output_type": "stream",
     "text": [
      "{'Train':  best_epoch_indx:98\n",
      " auc:0.8919535527260952 \n",
      " apur:0.5392722506054133 \n",
      " f1:0.31005624914254354 \n",
      " precision:0.19082465522094005 \n",
      " recall:0.8264261335933691 \n",
      ", 'Validation':  best_epoch_indx:98\n",
      " auc:0.8859251384851246 \n",
      " apur:0.5520963407977214 \n",
      " f1:0.30907604251839743 \n",
      " precision:0.1899497487437186 \n",
      " recall:0.8289473684210527 \n",
      ", 'Test':  best_epoch_indx:98\n",
      " auc:0.8879253506120343 \n",
      " apur:0.5325301103057398 \n",
      " f1:0.31085714285714283 \n",
      " precision:0.19097291875626882 \n",
      " recall:0.8350877192982457 \n",
      "}\n",
      "=====Epoch 99\n",
      "Training...\n"
     ]
    },
    {
     "name": "stderr",
     "output_type": "stream",
     "text": [
      "Iteration:   0%|                                                                                                                                                                                                      | 0/136 [00:00<?, ?it/s]/opt/conda/envs/graphnn/lib/python3.9/site-packages/torch_geometric/data/storage.py:244: UserWarning: Unable to accurately infer 'num_nodes' from the attribute set '{'x_b', 'id', 'y', 'x_a', 'edge_index_a', 'edge_index_b', 'edge_attr_b', 'expression', 'edge_attr_a'}'. Please explicitly set 'num_nodes' as an attribute of 'data' to suppress this warning\n",
      "  warnings.warn(\n",
      "Iteration: 100%|████████████████████████████████████████████████████████████████████████████████████████████████████████████████████████████████████████████████████████████████████████████████████████████| 136/136 [00:30<00:00,  4.53it/s]\n"
     ]
    },
    {
     "name": "stdout",
     "output_type": "stream",
     "text": [
      "Evaluating...\n"
     ]
    },
    {
     "name": "stderr",
     "output_type": "stream",
     "text": [
      "Iteration: 100%|████████████████████████████████████████████████████████████████████████████████████████████████████████████████████████████████████████████████████████████████████████████████████████████| 136/136 [00:11<00:00, 11.47it/s]\n",
      "Iteration:   0%|                                                                                                                                                                                                       | 0/16 [00:00<?, ?it/s]/opt/conda/envs/graphnn/lib/python3.9/site-packages/torch_geometric/data/storage.py:244: UserWarning: Unable to accurately infer 'num_nodes' from the attribute set '{'x_b', 'id', 'y', 'x_a', 'edge_index_a', 'edge_index_b', 'edge_attr_b', 'expression', 'edge_attr_a'}'. Please explicitly set 'num_nodes' as an attribute of 'data' to suppress this warning\n",
      "  warnings.warn(\n",
      "Iteration: 100%|██████████████████████████████████████████████████████████████████████████████████████████████████████████████████████████████████████████████████████████████████████████████████████████████| 16/16 [00:01<00:00, 12.23it/s]\n",
      "Iteration:   0%|                                                                                                                                                                                                       | 0/38 [00:00<?, ?it/s]/opt/conda/envs/graphnn/lib/python3.9/site-packages/torch_geometric/data/storage.py:244: UserWarning: Unable to accurately infer 'num_nodes' from the attribute set '{'x_b', 'id', 'y', 'x_a', 'edge_index_a', 'edge_index_b', 'edge_attr_b', 'expression', 'edge_attr_a'}'. Please explicitly set 'num_nodes' as an attribute of 'data' to suppress this warning\n",
      "  warnings.warn(\n",
      "Iteration: 100%|██████████████████████████████████████████████████████████████████████████████████████████████████████████████████████████████████████████████████████████████████████████████████████████████| 38/38 [00:03<00:00, 11.76it/s]\n"
     ]
    },
    {
     "name": "stdout",
     "output_type": "stream",
     "text": [
      "{'Train':  best_epoch_indx:99\n",
      " auc:0.8941450623601966 \n",
      " apur:0.54109302631878 \n",
      " f1:0.3171213546566322 \n",
      " precision:0.19646811982748572 \n",
      " recall:0.8217942467089224 \n",
      ", 'Validation':  best_epoch_indx:99\n",
      " auc:0.8882764628319907 \n",
      " apur:0.5580245697798839 \n",
      " f1:0.3159224936815501 \n",
      " precision:0.19551616266944735 \n",
      " recall:0.8223684210526315 \n",
      ", 'Test':  best_epoch_indx:99\n",
      " auc:0.8909271633328993 \n",
      " apur:0.5352647946527446 \n",
      " f1:0.31896696293811844 \n",
      " precision:0.1971801783122538 \n",
      " recall:0.8342105263157895 \n",
      "}\n",
      "Finished training!\n",
      "Best validation score: 0.5580245697798839\n",
      "Test score: 0.5352647946527446\n",
      "CPU times: user 1h 8min 41s, sys: 11min 50s, total: 1h 20min 31s\n",
      "Wall time: 1h 20min 14s\n"
     ]
    }
   ],
   "source": [
    "%%time\n",
    "\n",
    "for epoch in range(tp[\"num_epochs\"]):\n",
    "# for epoch in range(60,70):\n",
    "    print(\"=====Epoch {}\".format(epoch))\n",
    "    print('Training...')\n",
    "#     train(model, device, train_loader, optimizer, dataset.task_type)\n",
    "    train()\n",
    "\n",
    "    print('Evaluating...')\n",
    "#     train_perf = eval(model, device, train_loader, evaluator)\n",
    "#     valid_perf = eval(model, device, valid_loader, evaluator)\n",
    "#     test_perf = eval(model, device, test_loader, evaluator)\n",
    "    train_perf = eval(train_loader, dsettype=\"train\")\n",
    "    valid_perf = eval(valid_loader, dsettype=\"valid\")\n",
    "    test_perf = eval(test_loader, dsettype=\"test\")\n",
    "\n",
    "    print({'Train': train_perf, 'Validation': valid_perf, 'Test': test_perf})\n",
    "\n",
    "    train_curve.append(train_perf.s_aupr)\n",
    "    valid_curve.append(valid_perf.s_aupr)\n",
    "    test_curve.append(test_perf.s_aupr)\n",
    "\n",
    "# if 'classification' in dataset.task_type:\n",
    "best_val_epoch = np.argmax(np.array(valid_curve))\n",
    "best_train = max(train_curve)\n",
    "# else:\n",
    "#     best_val_epoch = np.argmin(np.array(valid_curve))\n",
    "#     best_train = min(train_curve)\n",
    "\n",
    "print('Finished training!')\n",
    "print('Best validation score: {}'.format(valid_curve[best_val_epoch]))\n",
    "print('Test score: {}'.format(test_curve[best_val_epoch]))"
   ]
  },
  {
   "cell_type": "code",
   "execution_count": 42,
   "metadata": {},
   "outputs": [],
   "source": [
    "df_curves = pd.DataFrame(np.array([train_curve, valid_curve, test_curve]).T)\n",
    "df_curves.columns = ['train', 'valid', 'test']\n",
    "df_curves.index.name = \"epoch\""
   ]
  },
  {
   "cell_type": "code",
   "execution_count": 43,
   "metadata": {
    "scrolled": false
   },
   "outputs": [
    {
     "data": {
      "text/plain": [
       "<AxesSubplot:xlabel='epoch'>"
      ]
     },
     "execution_count": 43,
     "metadata": {},
     "output_type": "execute_result"
    },
    {
     "data": {
      "image/png": "[encoded data removed]",
      "text/plain": [
       "<Figure size 432x288 with 1 Axes>"
      ]
     },
     "metadata": {
      "needs_background": "light"
     },
     "output_type": "display_data"
    }
   ],
   "source": [
    "sns.lineplot(data=df_curves)"
   ]
  },
  {
   "cell_type": "code",
   "execution_count": 44,
   "metadata": {
    "scrolled": true
   },
   "outputs": [
    {
     "data": {
      "text/plain": [
       "[0.12591809878090518,\n",
       " 0.1761632807286487,\n",
       " 0.21726297396091343,\n",
       " 0.2317942375541933,\n",
       " 0.2632236383989415,\n",
       " 0.27179044151673537,\n",
       " 0.27855910768151027,\n",
       " 0.27725153164888144,\n",
       " 0.287192593801859,\n",
       " 0.28224555054090594,\n",
       " 0.2898615652085906,\n",
       " 0.2883447741448468,\n",
       " 0.288820319486919,\n",
       " 0.29987784420230135,\n",
       " 0.3115408678280243,\n",
       " 0.29420819438108137,\n",
       " 0.33609778202467905,\n",
       " 0.3640499404381484,\n",
       " 0.3530009118660678,\n",
       " 0.36394443553622247,\n",
       " 0.3741965839196324,\n",
       " 0.38055284467917744,\n",
       " 0.36906827136810466,\n",
       " 0.3639697366388371,\n",
       " 0.3741488219919668,\n",
       " 0.3729229015749604,\n",
       " 0.3792638105569016,\n",
       " 0.39769391515658226,\n",
       " 0.3885454272447051,\n",
       " 0.3963003148491044,\n",
       " 0.3979428112215572,\n",
       " 0.3881789944487667,\n",
       " 0.3961398257469795,\n",
       " 0.38427157908071885,\n",
       " 0.3776409373909416,\n",
       " 0.3992511450825739,\n",
       " 0.39497166615049945,\n",
       " 0.40162569210091104,\n",
       " 0.42122471677834694,\n",
       " 0.4305875706100535,\n",
       " 0.4338218868236726,\n",
       " 0.4187624978486161,\n",
       " 0.4233584005347094,\n",
       " 0.4363354749402959,\n",
       " 0.41539885933170445,\n",
       " 0.42514151866237254,\n",
       " 0.45460460243764134,\n",
       " 0.4643268945146432,\n",
       " 0.472702359388526,\n",
       " 0.49069782723367705,\n",
       " 0.49427465481930455,\n",
       " 0.4993599774244552,\n",
       " 0.4158433192868399,\n",
       " 0.4608786562868112,\n",
       " 0.4875233651255597,\n",
       " 0.49163031308137495,\n",
       " 0.501412870094768,\n",
       " 0.5014131198612566,\n",
       " 0.5097358561304239,\n",
       " 0.5102471768685194,\n",
       " 0.5110056524525484,\n",
       " 0.49810944794572815,\n",
       " 0.5057906649987912,\n",
       " 0.5045512850679502,\n",
       " 0.5073502353468737,\n",
       " 0.5156111696089508,\n",
       " 0.5189504918402338,\n",
       " 0.5243942052419073,\n",
       " 0.5229971896028991,\n",
       " 0.5228244416237819,\n",
       " 0.515203693356715,\n",
       " 0.49965264462272196,\n",
       " 0.5230146759141046,\n",
       " 0.486019790984053,\n",
       " 0.4954960352729622,\n",
       " 0.4954666047966529,\n",
       " 0.5119581803183958,\n",
       " 0.5188520795866374,\n",
       " 0.524525911522915,\n",
       " 0.5265833366987376,\n",
       " 0.5275050721014112,\n",
       " 0.5218232651326864,\n",
       " 0.5082327568382515,\n",
       " 0.5167049757740012,\n",
       " 0.5212119691702047,\n",
       " 0.5261700746704168,\n",
       " 0.5274273772123164,\n",
       " 0.5209526061568437,\n",
       " 0.5267206135633318,\n",
       " 0.5329080408224285,\n",
       " 0.5292605163823783,\n",
       " 0.5225878152980552,\n",
       " 0.5218896560244212,\n",
       " 0.5205257741241617,\n",
       " 0.5210700939925135,\n",
       " 0.5310655947397952,\n",
       " 0.5300901004812774,\n",
       " 0.5291029531710428,\n",
       " 0.5325301103057398,\n",
       " 0.5352647946527446]"
      ]
     },
     "execution_count": 44,
     "metadata": {},
     "output_type": "execute_result"
    }
   ],
   "source": [
    "test_curve"
   ]
  },
  {
   "cell_type": "code",
   "execution_count": 45,
   "metadata": {},
   "outputs": [
    {
     "data": {
      "text/html": [
       "<div>\n",
       "<style scoped>\n",
       "    .dataframe tbody tr th:only-of-type {\n",
       "        vertical-align: middle;\n",
       "    }\n",
       "\n",
       "    .dataframe tbody tr th {\n",
       "        vertical-align: top;\n",
       "    }\n",
       "\n",
       "    .dataframe thead th {\n",
       "        text-align: right;\n",
       "    }\n",
       "</style>\n",
       "<table border=\"1\" class=\"dataframe\">\n",
       "  <thead>\n",
       "    <tr style=\"text-align: right;\">\n",
       "      <th></th>\n",
       "      <th>train</th>\n",
       "      <th>valid</th>\n",
       "      <th>test</th>\n",
       "    </tr>\n",
       "    <tr>\n",
       "      <th>epoch</th>\n",
       "      <th></th>\n",
       "      <th></th>\n",
       "      <th></th>\n",
       "    </tr>\n",
       "  </thead>\n",
       "  <tbody>\n",
       "    <tr>\n",
       "      <th>0</th>\n",
       "      <td>0.132672</td>\n",
       "      <td>0.140362</td>\n",
       "      <td>0.125918</td>\n",
       "    </tr>\n",
       "    <tr>\n",
       "      <th>1</th>\n",
       "      <td>0.178145</td>\n",
       "      <td>0.195426</td>\n",
       "      <td>0.176163</td>\n",
       "    </tr>\n",
       "    <tr>\n",
       "      <th>2</th>\n",
       "      <td>0.229247</td>\n",
       "      <td>0.242831</td>\n",
       "      <td>0.217263</td>\n",
       "    </tr>\n",
       "    <tr>\n",
       "      <th>3</th>\n",
       "      <td>0.244437</td>\n",
       "      <td>0.259776</td>\n",
       "      <td>0.231794</td>\n",
       "    </tr>\n",
       "    <tr>\n",
       "      <th>4</th>\n",
       "      <td>0.274055</td>\n",
       "      <td>0.288448</td>\n",
       "      <td>0.263224</td>\n",
       "    </tr>\n",
       "    <tr>\n",
       "      <th>...</th>\n",
       "      <td>...</td>\n",
       "      <td>...</td>\n",
       "      <td>...</td>\n",
       "    </tr>\n",
       "    <tr>\n",
       "      <th>95</th>\n",
       "      <td>0.532347</td>\n",
       "      <td>0.548928</td>\n",
       "      <td>0.531066</td>\n",
       "    </tr>\n",
       "    <tr>\n",
       "      <th>96</th>\n",
       "      <td>0.533589</td>\n",
       "      <td>0.554161</td>\n",
       "      <td>0.530090</td>\n",
       "    </tr>\n",
       "    <tr>\n",
       "      <th>97</th>\n",
       "      <td>0.533610</td>\n",
       "      <td>0.557851</td>\n",
       "      <td>0.529103</td>\n",
       "    </tr>\n",
       "    <tr>\n",
       "      <th>98</th>\n",
       "      <td>0.539272</td>\n",
       "      <td>0.552096</td>\n",
       "      <td>0.532530</td>\n",
       "    </tr>\n",
       "    <tr>\n",
       "      <th>99</th>\n",
       "      <td>0.541093</td>\n",
       "      <td>0.558025</td>\n",
       "      <td>0.535265</td>\n",
       "    </tr>\n",
       "  </tbody>\n",
       "</table>\n",
       "<p>100 rows × 3 columns</p>\n",
       "</div>"
      ],
      "text/plain": [
       "          train     valid      test\n",
       "epoch                              \n",
       "0      0.132672  0.140362  0.125918\n",
       "1      0.178145  0.195426  0.176163\n",
       "2      0.229247  0.242831  0.217263\n",
       "3      0.244437  0.259776  0.231794\n",
       "4      0.274055  0.288448  0.263224\n",
       "...         ...       ...       ...\n",
       "95     0.532347  0.548928  0.531066\n",
       "96     0.533589  0.554161  0.530090\n",
       "97     0.533610  0.557851  0.529103\n",
       "98     0.539272  0.552096  0.532530\n",
       "99     0.541093  0.558025  0.535265\n",
       "\n",
       "[100 rows x 3 columns]"
      ]
     },
     "execution_count": 45,
     "metadata": {},
     "output_type": "execute_result"
    }
   ],
   "source": [
    "df_curves"
   ]
  },
  {
   "cell_type": "code",
   "execution_count": null,
   "metadata": {},
   "outputs": [],
   "source": []
  }
 ],
 "metadata": {
  "kernelspec": {
   "display_name": "Python 3 (ipykernel)",
   "language": "python",
   "name": "python3"
  },
  "language_info": {
   "codemirror_mode": {
    "name": "ipython",
    "version": 3
   },
   "file_extension": ".py",
   "mimetype": "text/x-python",
   "name": "python",
   "nbconvert_exporter": "python",
   "pygments_lexer": "ipython3",
   "version": "3.9.9"
  }
 },
 "nbformat": 4,
 "nbformat_minor": 4
}
