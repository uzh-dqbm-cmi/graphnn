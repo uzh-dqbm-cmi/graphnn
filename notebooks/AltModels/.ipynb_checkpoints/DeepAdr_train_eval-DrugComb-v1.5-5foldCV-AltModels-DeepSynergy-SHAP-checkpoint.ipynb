{
 "cells": [
  {
   "cell_type": "code",
   "execution_count": 1,
   "metadata": {
    "scrolled": false
   },
   "outputs": [],
   "source": [
    "%load_ext autoreload\n",
    "%autoreload 2"
   ]
  },
  {
   "cell_type": "code",
   "execution_count": 2,
   "metadata": {},
   "outputs": [],
   "source": [
    "import os\n",
    "import sys\n",
    "import numpy as np\n",
    "import pandas as pd\n",
    "import datetime\n",
    "import seaborn as sns\n",
    "import ogb\n",
    "from tqdm import tqdm\n",
    "import hiplot as hip\n",
    "from copy import deepcopy\n",
    "import datetime"
   ]
  },
  {
   "cell_type": "code",
   "execution_count": 3,
   "metadata": {},
   "outputs": [],
   "source": [
    "pd.set_option('display.max_rows', 10)"
   ]
  },
  {
   "cell_type": "code",
   "execution_count": 4,
   "metadata": {},
   "outputs": [],
   "source": [
    "import torch\n",
    "from torch_geometric.data import Data\n",
    "from torch_geometric.loader import DataLoader\n",
    "from torch.utils.data import Subset, TensorDataset"
   ]
  },
  {
   "cell_type": "code",
   "execution_count": 5,
   "metadata": {},
   "outputs": [
    {
     "name": "stdout",
     "output_type": "stream",
     "text": [
      "/opt/data/chemprop_run/git/notebooks/AltModels\n",
      "/opt/data/chemprop_run/git\n"
     ]
    }
   ],
   "source": [
    "cwd = os.getcwd()\n",
    "print(cwd)\n",
    "# cwd_parent = os.path.abspath(os.path.join(cwd, os.pardir))\n",
    "cwd_parent = os.path.abspath(os.path.join(cwd, '../../'))\n",
    "print(cwd_parent)\n",
    "\n",
    "sys.path.append(cwd_parent)"
   ]
  },
  {
   "cell_type": "code",
   "execution_count": 6,
   "metadata": {},
   "outputs": [],
   "source": [
    "import deepadr\n",
    "from deepadr.dataset import *\n",
    "from deepadr.utilities import *\n",
    "from deepadr.run_workflow import *\n",
    "from deepadr.chemfeatures import *\n",
    "from deepadr.hyphelperflat import *\n",
    "from deepadr.model_gnn_ogb import GNN, DeepAdr_SiameseTrf, ExpressionNN\n",
    "from ogb.graphproppred import Evaluator"
   ]
  },
  {
   "cell_type": "code",
   "execution_count": 7,
   "metadata": {},
   "outputs": [],
   "source": [
    "from rdkit.Chem.Draw import IPythonConsole\n",
    "from rdkit.Chem import Draw"
   ]
  },
  {
   "cell_type": "code",
   "execution_count": 8,
   "metadata": {},
   "outputs": [],
   "source": [
    "rawdata_dir = '../data/raw/'\n",
    "processed_dir = '../data/processed/'\n",
    "up_dir = '..'"
   ]
  },
  {
   "cell_type": "code",
   "execution_count": 9,
   "metadata": {
    "scrolled": true
   },
   "outputs": [
    {
     "name": "stdout",
     "output_type": "stream",
     "text": [
      "number of GPUs available: 1\n",
      "cuda:0, name:NVIDIA GeForce GTX 1080 Ti\n",
      "total memory available: 10.91656494140625 GB\n",
      "total memory allocated on device: 0.0 GB\n",
      "max memory allocated on device: 0.0 GB\n",
      "total memory cached on device: 0.0 GB\n",
      "max memory cached  on device: 0.0 GB\n",
      "\n"
     ]
    }
   ],
   "source": [
    "report_available_cuda_devices()"
   ]
  },
  {
   "cell_type": "code",
   "execution_count": 10,
   "metadata": {},
   "outputs": [
    {
     "data": {
      "text/plain": [
       "1"
      ]
     },
     "execution_count": 10,
     "metadata": {},
     "output_type": "execute_result"
    }
   ],
   "source": [
    "n_gpu = torch.cuda.device_count()\n",
    "n_gpu"
   ]
  },
  {
   "cell_type": "code",
   "execution_count": 11,
   "metadata": {},
   "outputs": [],
   "source": [
    "device_cpu = get_device(to_gpu=False)\n",
    "# device_gpu = get_device(True, index=0)\n",
    "\n",
    "# fdtype = torch.float32"
   ]
  },
  {
   "cell_type": "code",
   "execution_count": 12,
   "metadata": {},
   "outputs": [
    {
     "name": "stdout",
     "output_type": "stream",
     "text": [
      "torch: 1.9.1\n",
      "CUDA: 11.1\n",
      "3.9.9 | packaged by conda-forge | (main, Dec 20 2021, 02:41:03) \n",
      "[GCC 9.4.0]\n"
     ]
    }
   ],
   "source": [
    "print(\"torch:\", torch.__version__)\n",
    "print(\"CUDA:\", torch.version.cuda)\n",
    "print(sys.version)"
   ]
  },
  {
   "cell_type": "markdown",
   "metadata": {},
   "source": [
    "### Preparing dataset "
   ]
  },
  {
   "cell_type": "code",
   "execution_count": 13,
   "metadata": {},
   "outputs": [],
   "source": [
    "score = 'total_thresh' #'total_thresh'\n",
    "score_val = 4"
   ]
  },
  {
   "cell_type": "code",
   "execution_count": 14,
   "metadata": {},
   "outputs": [],
   "source": [
    "DSdataset_name = f'DrugComb_{score}_{score_val}'\n",
    "\n",
    "# v_1: GNN\n",
    "# v_2: Alt Models (Baseline)\n",
    "data_fname = 'data_v2'"
   ]
  },
  {
   "cell_type": "code",
   "execution_count": 15,
   "metadata": {
    "scrolled": true
   },
   "outputs": [
    {
     "name": "stdout",
     "output_type": "stream",
     "text": [
      "path_current_dir /opt/data/chemprop_run/git/deepadr\n",
      "path_current_dir /opt/data/chemprop_run/git/deepadr\n",
      "path_current_dir /opt/data/chemprop_run/git/deepadr\n",
      "path_current_dir /opt/data/chemprop_run/git/deepadr\n",
      "/opt/data/chemprop_run/git/data/processed/DrugComb_total_thresh_4/data_v2\n"
     ]
    }
   ],
   "source": [
    "targetdata_dir = create_directory(os.path.join(processed_dir, DSdataset_name, data_fname))\n",
    "targetdata_dir_raw = create_directory(os.path.join(targetdata_dir, \"raw\"))\n",
    "targetdata_dir_processed = create_directory(os.path.join(targetdata_dir, \"processed\"))\n",
    "targetdata_dir_exp = create_directory(os.path.join(targetdata_dir, \"experiments\"))\n",
    "print(targetdata_dir)"
   ]
  },
  {
   "cell_type": "code",
   "execution_count": 16,
   "metadata": {},
   "outputs": [],
   "source": [
    "xFlat = ReaderWriter.read_data(os.path.join(targetdata_dir_raw, 'X_flat.pkl'))\n",
    "y = ReaderWriter.read_data(os.path.join(targetdata_dir_raw, 'y.pkl'))\n",
    "expression = ReaderWriter.read_data(os.path.join(targetdata_dir_raw, 'expression.pkl'))"
   ]
  },
  {
   "cell_type": "code",
   "execution_count": 17,
   "metadata": {},
   "outputs": [
    {
     "data": {
      "text/plain": [
       "torch.Size([25757, 18])"
      ]
     },
     "execution_count": 17,
     "metadata": {},
     "output_type": "execute_result"
    }
   ],
   "source": [
    "xFlatMat = torch.stack([torch.cat(i) for i in list(xFlat.values())])\n",
    "xFlatMat.shape"
   ]
  },
  {
   "cell_type": "code",
   "execution_count": 18,
   "metadata": {},
   "outputs": [
    {
     "data": {
      "text/plain": [
       "tensor([[ 0.1661,  0.2518,  1.3373,  ..., -0.4085,  0.8581,  0.8979],\n",
       "        [ 0.1661,  0.2518,  1.3373,  ..., -0.4085,  0.8581,  0.8979],\n",
       "        [ 0.1661,  0.2518,  1.3373,  ..., -0.4085,  0.8581,  0.8979],\n",
       "        ...,\n",
       "        [-0.0373, -1.4322,  1.5411,  ..., -1.2711,  1.2013,  0.9537],\n",
       "        [-0.0373, -1.4322,  1.5411,  ..., -1.2711,  1.2013,  0.9537],\n",
       "        [-0.0373, -1.4322,  1.5411,  ..., -1.2711,  1.2013,  0.9537]],\n",
       "       dtype=torch.float64)"
      ]
     },
     "execution_count": 18,
     "metadata": {},
     "output_type": "execute_result"
    }
   ],
   "source": [
    "torch.tensor(expression)"
   ]
  },
  {
   "cell_type": "code",
   "execution_count": 19,
   "metadata": {
    "scrolled": false
   },
   "outputs": [
    {
     "data": {
      "text/plain": [
       "torch.Size([25757, 926])"
      ]
     },
     "execution_count": 19,
     "metadata": {},
     "output_type": "execute_result"
    }
   ],
   "source": [
    "x = torch.cat([xFlatMat, torch.tensor(expression)], dim=1)\n",
    "x.shape"
   ]
  },
  {
   "cell_type": "code",
   "execution_count": 20,
   "metadata": {},
   "outputs": [
    {
     "data": {
      "text/plain": [
       "array([0, 0, 0, ..., 0, 1, 1])"
      ]
     },
     "execution_count": 20,
     "metadata": {},
     "output_type": "execute_result"
    }
   ],
   "source": [
    "y"
   ]
  },
  {
   "cell_type": "code",
   "execution_count": 21,
   "metadata": {},
   "outputs": [
    {
     "data": {
      "text/plain": [
       "torch.Size([25757, 926])"
      ]
     },
     "execution_count": 21,
     "metadata": {},
     "output_type": "execute_result"
    }
   ],
   "source": [
    "x.shape"
   ]
  },
  {
   "cell_type": "code",
   "execution_count": 22,
   "metadata": {},
   "outputs": [
    {
     "data": {
      "text/plain": [
       "(25757,)"
      ]
     },
     "execution_count": 22,
     "metadata": {},
     "output_type": "execute_result"
    }
   ],
   "source": [
    "y.shape"
   ]
  },
  {
   "cell_type": "code",
   "execution_count": 23,
   "metadata": {},
   "outputs": [
    {
     "name": "stdout",
     "output_type": "stream",
     "text": [
      "fold_num: 0\n",
      "train data\n",
      "class: 0 norm count: 0.5764128559102675\n",
      "class: 1 norm count: 0.4235871440897325\n",
      "validation data\n",
      "class: 0 norm count: 0.5764192139737991\n",
      "class: 1 norm count: 0.42358078602620086\n",
      "test data\n",
      "class: 0 norm count: 0.5764751552795031\n",
      "class: 1 norm count: 0.4235248447204969\n",
      "\n",
      "-------------------------\n",
      "fold_num: 1\n",
      "train data\n",
      "class: 0 norm count: 0.5764128559102675\n",
      "class: 1 norm count: 0.4235871440897325\n",
      "validation data\n",
      "class: 0 norm count: 0.5764192139737991\n",
      "class: 1 norm count: 0.42358078602620086\n",
      "test data\n",
      "class: 0 norm count: 0.5764751552795031\n",
      "class: 1 norm count: 0.4235248447204969\n",
      "\n",
      "-------------------------\n",
      "fold_num: 2\n",
      "train data\n",
      "class: 0 norm count: 0.5764356969533567\n",
      "class: 1 norm count: 0.4235643030466433\n",
      "validation data\n",
      "class: 0 norm count: 0.5764192139737991\n",
      "class: 1 norm count: 0.42358078602620086\n",
      "test data\n",
      "class: 0 norm count: 0.5763929334109882\n",
      "class: 1 norm count: 0.4236070665890118\n",
      "\n",
      "-------------------------\n",
      "fold_num: 3\n",
      "train data\n",
      "class: 0 norm count: 0.5764356969533567\n",
      "class: 1 norm count: 0.4235643030466433\n",
      "validation data\n",
      "class: 0 norm count: 0.5764192139737991\n",
      "class: 1 norm count: 0.42358078602620086\n",
      "test data\n",
      "class: 0 norm count: 0.5763929334109882\n",
      "class: 1 norm count: 0.4236070665890118\n",
      "\n",
      "-------------------------\n",
      "fold_num: 4\n",
      "train data\n",
      "class: 0 norm count: 0.5764356969533567\n",
      "class: 1 norm count: 0.4235643030466433\n",
      "validation data\n",
      "class: 0 norm count: 0.5764192139737991\n",
      "class: 1 norm count: 0.42358078602620086\n",
      "test data\n",
      "class: 0 norm count: 0.5763929334109882\n",
      "class: 1 norm count: 0.4236070665890118\n",
      "\n",
      "-------------------------\n"
     ]
    }
   ],
   "source": [
    "fold_partitions = get_stratified_partitions(y,\n",
    "                                            num_folds=5,\n",
    "                                            valid_set_portion=0.1,\n",
    "                                            random_state=42)"
   ]
  },
  {
   "cell_type": "code",
   "execution_count": 24,
   "metadata": {},
   "outputs": [
    {
     "name": "stdout",
     "output_type": "stream",
     "text": [
      "Number of training graphs: 18544\n",
      "Number of validation graphs: 2061\n",
      "Number of testing graphs: 5152\n"
     ]
    }
   ],
   "source": [
    "print(\"Number of training graphs: \"+ str(len(fold_partitions[0]['train'])))\n",
    "print(\"Number of validation graphs: \"+ str(len(fold_partitions[0]['validation'])))\n",
    "print(\"Number of testing graphs: \"+ str(len(fold_partitions[0]['test'])))\n"
   ]
  },
  {
   "cell_type": "markdown",
   "metadata": {},
   "source": [
    "### Preprocessing"
   ]
  },
  {
   "cell_type": "code",
   "execution_count": 25,
   "metadata": {},
   "outputs": [],
   "source": [
    "from sklearn.preprocessing import StandardScaler\n",
    "scaler = StandardScaler()"
   ]
  },
  {
   "cell_type": "code",
   "execution_count": 26,
   "metadata": {},
   "outputs": [],
   "source": [
    "x_np = x.numpy()\n",
    "y_np = y"
   ]
  },
  {
   "cell_type": "code",
   "execution_count": 27,
   "metadata": {},
   "outputs": [],
   "source": [
    "pipeline = compose(scaler.fit_transform, np.tanh, scaler.fit_transform)"
   ]
  },
  {
   "cell_type": "code",
   "execution_count": 28,
   "metadata": {},
   "outputs": [],
   "source": [
    "x_np_norm = pipeline(x_np)"
   ]
  },
  {
   "cell_type": "code",
   "execution_count": 29,
   "metadata": {},
   "outputs": [
    {
     "data": {
      "text/plain": [
       "926"
      ]
     },
     "execution_count": 29,
     "metadata": {},
     "output_type": "execute_result"
    }
   ],
   "source": [
    "deepsynergy_input_size = x_np_norm.shape[1]\n",
    "deepsynergy_input_size"
   ]
  },
  {
   "cell_type": "code",
   "execution_count": 30,
   "metadata": {},
   "outputs": [],
   "source": [
    "ids = list(range(len(y)))"
   ]
  },
  {
   "cell_type": "code",
   "execution_count": 31,
   "metadata": {},
   "outputs": [
    {
     "data": {
      "text/plain": [
       "<torch.utils.data.dataset.TensorDataset at 0x14ec9b617070>"
      ]
     },
     "execution_count": 31,
     "metadata": {},
     "output_type": "execute_result"
    }
   ],
   "source": [
    "dataset = TensorDataset(torch.tensor(x_np_norm),torch.tensor(y), torch.tensor(ids))\n",
    "dataset"
   ]
  },
  {
   "cell_type": "code",
   "execution_count": 32,
   "metadata": {},
   "outputs": [
    {
     "data": {
      "text/plain": [
       "(25757, 926)"
      ]
     },
     "execution_count": 32,
     "metadata": {},
     "output_type": "execute_result"
    }
   ],
   "source": [
    "x_np_norm.shape"
   ]
  },
  {
   "cell_type": "code",
   "execution_count": null,
   "metadata": {},
   "outputs": [],
   "source": []
  },
  {
   "cell_type": "markdown",
   "metadata": {},
   "source": [
    "### Get Predictions"
   ]
  },
  {
   "cell_type": "code",
   "execution_count": 33,
   "metadata": {},
   "outputs": [],
   "source": [
    "time_stamp = '2022-06-22_16-02-28'"
   ]
  },
  {
   "cell_type": "code",
   "execution_count": 34,
   "metadata": {},
   "outputs": [
    {
     "data": {
      "text/plain": [
       "5"
      ]
     },
     "execution_count": 34,
     "metadata": {},
     "output_type": "execute_result"
    }
   ],
   "source": [
    "import glob\n",
    "exp_dirs = glob.glob(targetdata_dir_exp+\"/fold_*_\"+time_stamp)\n",
    "len(exp_dirs)"
   ]
  },
  {
   "cell_type": "code",
   "execution_count": 35,
   "metadata": {},
   "outputs": [
    {
     "name": "stdout",
     "output_type": "stream",
     "text": [
      "[2, 3, 4, 0, 1]\n"
     ]
    }
   ],
   "source": [
    "fold_order = []\n",
    "\n",
    "for edir in exp_dirs:\n",
    "    fold = edir.split(\"/\")[-1].split('_')[1]\n",
    "    fold_order.append(int(fold))\n",
    "    \n",
    "print(fold_order)"
   ]
  },
  {
   "cell_type": "code",
   "execution_count": 36,
   "metadata": {},
   "outputs": [],
   "source": [
    "best_epoch = 99"
   ]
  },
  {
   "cell_type": "code",
   "execution_count": 37,
   "metadata": {},
   "outputs": [
    {
     "name": "stdout",
     "output_type": "stream",
     "text": [
      "best epoch: 99\n"
     ]
    }
   ],
   "source": [
    "print(\"best epoch:\", best_epoch)\n",
    "\n",
    "l_pred = []\n",
    "\n",
    "for edir in exp_dirs:\n",
    "    predictions = pd.read_csv(edir + f\"/predictions/epoch_{best_epoch}_predictions_test.csv\")\n",
    "    l_pred.append(predictions)"
   ]
  },
  {
   "cell_type": "code",
   "execution_count": 38,
   "metadata": {},
   "outputs": [
    {
     "data": {
      "text/html": [
       "<div>\n",
       "<style scoped>\n",
       "    .dataframe tbody tr th:only-of-type {\n",
       "        vertical-align: middle;\n",
       "    }\n",
       "\n",
       "    .dataframe tbody tr th {\n",
       "        vertical-align: top;\n",
       "    }\n",
       "\n",
       "    .dataframe thead th {\n",
       "        text-align: right;\n",
       "    }\n",
       "</style>\n",
       "<table border=\"1\" class=\"dataframe\">\n",
       "  <thead>\n",
       "    <tr style=\"text-align: right;\">\n",
       "      <th></th>\n",
       "      <th>id</th>\n",
       "      <th>true_class</th>\n",
       "      <th>pred_class</th>\n",
       "      <th>prob_score_class0</th>\n",
       "      <th>prob_score_class1</th>\n",
       "    </tr>\n",
       "  </thead>\n",
       "  <tbody>\n",
       "    <tr>\n",
       "      <th>0</th>\n",
       "      <td>10</td>\n",
       "      <td>0.0</td>\n",
       "      <td>1</td>\n",
       "      <td>0.478081</td>\n",
       "      <td>5.219193e-01</td>\n",
       "    </tr>\n",
       "    <tr>\n",
       "      <th>1</th>\n",
       "      <td>12</td>\n",
       "      <td>1.0</td>\n",
       "      <td>0</td>\n",
       "      <td>0.868957</td>\n",
       "      <td>1.310435e-01</td>\n",
       "    </tr>\n",
       "    <tr>\n",
       "      <th>2</th>\n",
       "      <td>17</td>\n",
       "      <td>0.0</td>\n",
       "      <td>0</td>\n",
       "      <td>1.000000</td>\n",
       "      <td>1.058048e-10</td>\n",
       "    </tr>\n",
       "    <tr>\n",
       "      <th>3</th>\n",
       "      <td>28</td>\n",
       "      <td>1.0</td>\n",
       "      <td>1</td>\n",
       "      <td>0.153701</td>\n",
       "      <td>8.462992e-01</td>\n",
       "    </tr>\n",
       "    <tr>\n",
       "      <th>4</th>\n",
       "      <td>35</td>\n",
       "      <td>0.0</td>\n",
       "      <td>0</td>\n",
       "      <td>0.986174</td>\n",
       "      <td>1.382562e-02</td>\n",
       "    </tr>\n",
       "    <tr>\n",
       "      <th>...</th>\n",
       "      <td>...</td>\n",
       "      <td>...</td>\n",
       "      <td>...</td>\n",
       "      <td>...</td>\n",
       "      <td>...</td>\n",
       "    </tr>\n",
       "    <tr>\n",
       "      <th>5146</th>\n",
       "      <td>25737</td>\n",
       "      <td>1.0</td>\n",
       "      <td>1</td>\n",
       "      <td>0.000620</td>\n",
       "      <td>9.993798e-01</td>\n",
       "    </tr>\n",
       "    <tr>\n",
       "      <th>5147</th>\n",
       "      <td>25744</td>\n",
       "      <td>1.0</td>\n",
       "      <td>1</td>\n",
       "      <td>0.000002</td>\n",
       "      <td>9.999983e-01</td>\n",
       "    </tr>\n",
       "    <tr>\n",
       "      <th>5148</th>\n",
       "      <td>25745</td>\n",
       "      <td>1.0</td>\n",
       "      <td>1</td>\n",
       "      <td>0.003959</td>\n",
       "      <td>9.960411e-01</td>\n",
       "    </tr>\n",
       "    <tr>\n",
       "      <th>5149</th>\n",
       "      <td>25747</td>\n",
       "      <td>1.0</td>\n",
       "      <td>1</td>\n",
       "      <td>0.021445</td>\n",
       "      <td>9.785548e-01</td>\n",
       "    </tr>\n",
       "    <tr>\n",
       "      <th>5150</th>\n",
       "      <td>25754</td>\n",
       "      <td>0.0</td>\n",
       "      <td>1</td>\n",
       "      <td>0.390352</td>\n",
       "      <td>6.096478e-01</td>\n",
       "    </tr>\n",
       "  </tbody>\n",
       "</table>\n",
       "<p>5151 rows × 5 columns</p>\n",
       "</div>"
      ],
      "text/plain": [
       "         id  true_class  pred_class  prob_score_class0  prob_score_class1\n",
       "0        10         0.0           1           0.478081       5.219193e-01\n",
       "1        12         1.0           0           0.868957       1.310435e-01\n",
       "2        17         0.0           0           1.000000       1.058048e-10\n",
       "3        28         1.0           1           0.153701       8.462992e-01\n",
       "4        35         0.0           0           0.986174       1.382562e-02\n",
       "...     ...         ...         ...                ...                ...\n",
       "5146  25737         1.0           1           0.000620       9.993798e-01\n",
       "5147  25744         1.0           1           0.000002       9.999983e-01\n",
       "5148  25745         1.0           1           0.003959       9.960411e-01\n",
       "5149  25747         1.0           1           0.021445       9.785548e-01\n",
       "5150  25754         0.0           1           0.390352       6.096478e-01\n",
       "\n",
       "[5151 rows x 5 columns]"
      ]
     },
     "execution_count": 38,
     "metadata": {},
     "output_type": "execute_result"
    }
   ],
   "source": [
    "l_pred[0]"
   ]
  },
  {
   "cell_type": "code",
   "execution_count": 39,
   "metadata": {
    "scrolled": true
   },
   "outputs": [
    {
     "data": {
      "text/html": [
       "<div>\n",
       "<style scoped>\n",
       "    .dataframe tbody tr th:only-of-type {\n",
       "        vertical-align: middle;\n",
       "    }\n",
       "\n",
       "    .dataframe tbody tr th {\n",
       "        vertical-align: top;\n",
       "    }\n",
       "\n",
       "    .dataframe thead th {\n",
       "        text-align: right;\n",
       "    }\n",
       "</style>\n",
       "<table border=\"1\" class=\"dataframe\">\n",
       "  <thead>\n",
       "    <tr style=\"text-align: right;\">\n",
       "      <th></th>\n",
       "      <th>true_class</th>\n",
       "      <th>pred_class</th>\n",
       "      <th>prob_score_class0</th>\n",
       "      <th>prob_score_class1</th>\n",
       "    </tr>\n",
       "    <tr>\n",
       "      <th>id</th>\n",
       "      <th></th>\n",
       "      <th></th>\n",
       "      <th></th>\n",
       "      <th></th>\n",
       "    </tr>\n",
       "  </thead>\n",
       "  <tbody>\n",
       "    <tr>\n",
       "      <th>10</th>\n",
       "      <td>0</td>\n",
       "      <td>1</td>\n",
       "      <td>0.478081</td>\n",
       "      <td>5.219193e-01</td>\n",
       "    </tr>\n",
       "    <tr>\n",
       "      <th>12</th>\n",
       "      <td>1</td>\n",
       "      <td>0</td>\n",
       "      <td>0.868957</td>\n",
       "      <td>1.310435e-01</td>\n",
       "    </tr>\n",
       "    <tr>\n",
       "      <th>17</th>\n",
       "      <td>0</td>\n",
       "      <td>0</td>\n",
       "      <td>1.000000</td>\n",
       "      <td>1.058048e-10</td>\n",
       "    </tr>\n",
       "    <tr>\n",
       "      <th>28</th>\n",
       "      <td>1</td>\n",
       "      <td>1</td>\n",
       "      <td>0.153701</td>\n",
       "      <td>8.462992e-01</td>\n",
       "    </tr>\n",
       "    <tr>\n",
       "      <th>35</th>\n",
       "      <td>0</td>\n",
       "      <td>0</td>\n",
       "      <td>0.986174</td>\n",
       "      <td>1.382562e-02</td>\n",
       "    </tr>\n",
       "    <tr>\n",
       "      <th>...</th>\n",
       "      <td>...</td>\n",
       "      <td>...</td>\n",
       "      <td>...</td>\n",
       "      <td>...</td>\n",
       "    </tr>\n",
       "    <tr>\n",
       "      <th>25735</th>\n",
       "      <td>0</td>\n",
       "      <td>0</td>\n",
       "      <td>0.948470</td>\n",
       "      <td>5.152988e-02</td>\n",
       "    </tr>\n",
       "    <tr>\n",
       "      <th>25741</th>\n",
       "      <td>1</td>\n",
       "      <td>1</td>\n",
       "      <td>0.000873</td>\n",
       "      <td>9.991272e-01</td>\n",
       "    </tr>\n",
       "    <tr>\n",
       "      <th>25742</th>\n",
       "      <td>1</td>\n",
       "      <td>1</td>\n",
       "      <td>0.000433</td>\n",
       "      <td>9.995673e-01</td>\n",
       "    </tr>\n",
       "    <tr>\n",
       "      <th>25750</th>\n",
       "      <td>0</td>\n",
       "      <td>0</td>\n",
       "      <td>0.976813</td>\n",
       "      <td>2.318656e-02</td>\n",
       "    </tr>\n",
       "    <tr>\n",
       "      <th>25752</th>\n",
       "      <td>0</td>\n",
       "      <td>0</td>\n",
       "      <td>0.991160</td>\n",
       "      <td>8.839890e-03</td>\n",
       "    </tr>\n",
       "  </tbody>\n",
       "</table>\n",
       "<p>25757 rows × 4 columns</p>\n",
       "</div>"
      ],
      "text/plain": [
       "       true_class  pred_class  prob_score_class0  prob_score_class1\n",
       "id                                                                 \n",
       "10              0           1           0.478081       5.219193e-01\n",
       "12              1           0           0.868957       1.310435e-01\n",
       "17              0           0           1.000000       1.058048e-10\n",
       "28              1           1           0.153701       8.462992e-01\n",
       "35              0           0           0.986174       1.382562e-02\n",
       "...           ...         ...                ...                ...\n",
       "25735           0           0           0.948470       5.152988e-02\n",
       "25741           1           1           0.000873       9.991272e-01\n",
       "25742           1           1           0.000433       9.995673e-01\n",
       "25750           0           0           0.976813       2.318656e-02\n",
       "25752           0           0           0.991160       8.839890e-03\n",
       "\n",
       "[25757 rows x 4 columns]"
      ]
     },
     "execution_count": 39,
     "metadata": {},
     "output_type": "execute_result"
    }
   ],
   "source": [
    "df_pred = pd.concat(l_pred, axis=0).astype({\"id\":int, \"true_class\":int}).set_index(\"id\")\n",
    "df_pred"
   ]
  },
  {
   "cell_type": "code",
   "execution_count": 40,
   "metadata": {},
   "outputs": [],
   "source": [
    "# df_pred.sort_index()"
   ]
  },
  {
   "cell_type": "markdown",
   "metadata": {},
   "source": [
    "### Get Drug and Cell Line names"
   ]
  },
  {
   "cell_type": "code",
   "execution_count": 41,
   "metadata": {
    "scrolled": true
   },
   "outputs": [
    {
     "data": {
      "text/html": [
       "<div>\n",
       "<style scoped>\n",
       "    .dataframe tbody tr th:only-of-type {\n",
       "        vertical-align: middle;\n",
       "    }\n",
       "\n",
       "    .dataframe tbody tr th {\n",
       "        vertical-align: top;\n",
       "    }\n",
       "\n",
       "    .dataframe thead th {\n",
       "        text-align: right;\n",
       "    }\n",
       "</style>\n",
       "<table border=\"1\" class=\"dataframe\">\n",
       "  <thead>\n",
       "    <tr style=\"text-align: right;\">\n",
       "      <th></th>\n",
       "      <th>Drug1_ID</th>\n",
       "      <th>Drug2_ID</th>\n",
       "      <th>Cell_Line_ID</th>\n",
       "      <th>Cosmic_ID</th>\n",
       "      <th>Drug1</th>\n",
       "      <th>Drug2</th>\n",
       "      <th>Y</th>\n",
       "    </tr>\n",
       "  </thead>\n",
       "  <tbody>\n",
       "    <tr>\n",
       "      <th>0</th>\n",
       "      <td>dacarbazine</td>\n",
       "      <td>717906-29-1</td>\n",
       "      <td>A-673</td>\n",
       "      <td>684052</td>\n",
       "      <td>CN(C)N=NC1=C(NC=N1)C(=O)N</td>\n",
       "      <td>CN(C1=CC=CC=C1CNC2=NC(=NC=C2C(F)(F)F)NC3=CC4=C...</td>\n",
       "      <td>0</td>\n",
       "    </tr>\n",
       "    <tr>\n",
       "      <th>1</th>\n",
       "      <td>Nesbuvir</td>\n",
       "      <td>717906-29-1</td>\n",
       "      <td>A-673</td>\n",
       "      <td>684052</td>\n",
       "      <td>CNC(=O)C1=C(OC2=CC(=C(C=C21)C3CC3)N(CCO)S(=O)(...</td>\n",
       "      <td>CN(C1=CC=CC=C1CNC2=NC(=NC=C2C(F)(F)F)NC3=CC4=C...</td>\n",
       "      <td>0</td>\n",
       "    </tr>\n",
       "    <tr>\n",
       "      <th>2</th>\n",
       "      <td>Avagacestat</td>\n",
       "      <td>717906-29-1</td>\n",
       "      <td>A-673</td>\n",
       "      <td>684052</td>\n",
       "      <td>C1=CC(=CC=C1S(=O)(=O)N(CC2=C(C=C(C=C2)C3=NOC=N...</td>\n",
       "      <td>CN(C1=CC=CC=C1CNC2=NC(=NC=C2C(F)(F)F)NC3=CC4=C...</td>\n",
       "      <td>0</td>\n",
       "    </tr>\n",
       "    <tr>\n",
       "      <th>3</th>\n",
       "      <td>AS601245</td>\n",
       "      <td>717906-29-1</td>\n",
       "      <td>A-673</td>\n",
       "      <td>684052</td>\n",
       "      <td>C1=CC=C2C(=C1)N=C(S2)C(C#N)C3=NC(=NC=C3)NCCC4=...</td>\n",
       "      <td>CN(C1=CC=CC=C1CNC2=NC(=NC=C2C(F)(F)F)NC3=CC4=C...</td>\n",
       "      <td>1</td>\n",
       "    </tr>\n",
       "    <tr>\n",
       "      <th>4</th>\n",
       "      <td>CHEMBL166161</td>\n",
       "      <td>717906-29-1</td>\n",
       "      <td>A-673</td>\n",
       "      <td>684052</td>\n",
       "      <td>COC1(CCN(CC1)CCC2=CNC3=C2C=C(C=C3)F)CS(=O)C4=C...</td>\n",
       "      <td>CN(C1=CC=CC=C1CNC2=NC(=NC=C2C(F)(F)F)NC3=CC4=C...</td>\n",
       "      <td>0</td>\n",
       "    </tr>\n",
       "    <tr>\n",
       "      <th>...</th>\n",
       "      <td>...</td>\n",
       "      <td>...</td>\n",
       "      <td>...</td>\n",
       "      <td>...</td>\n",
       "      <td>...</td>\n",
       "      <td>...</td>\n",
       "      <td>...</td>\n",
       "    </tr>\n",
       "    <tr>\n",
       "      <th>25752</th>\n",
       "      <td>AZD7762</td>\n",
       "      <td>AZD2014</td>\n",
       "      <td>VM-CUB-1</td>\n",
       "      <td>909780</td>\n",
       "      <td>C1CC(CNC1)NC(=O)C2=C(C=C(S2)C3=CC(=CC=C3)F)NC(...</td>\n",
       "      <td>CC1COCCN1C2=NC(=NC3=C2C=CC(=N3)C4=CC(=CC=C4)C(...</td>\n",
       "      <td>0</td>\n",
       "    </tr>\n",
       "    <tr>\n",
       "      <th>25753</th>\n",
       "      <td>AZD-4877</td>\n",
       "      <td>Onalespib</td>\n",
       "      <td>VM-CUB-1</td>\n",
       "      <td>909780</td>\n",
       "      <td>CC1=CC=C(C=C1)C(=O)N(CCCN)C(C2=NC3=C(C(=NS3)C)...</td>\n",
       "      <td>CC(C)C1=C(C=C(C(=C1)C(=O)N2CC3=C(C2)C=C(C=C3)C...</td>\n",
       "      <td>0</td>\n",
       "    </tr>\n",
       "    <tr>\n",
       "      <th>25754</th>\n",
       "      <td>Sapitinib</td>\n",
       "      <td>Vorinostat</td>\n",
       "      <td>VM-CUB-1</td>\n",
       "      <td>909780</td>\n",
       "      <td>CNC(=O)CN1CCC(CC1)OC2=C(C=C3C(=C2)C(=NC=N3)NC4...</td>\n",
       "      <td>C1=CC=C(C=C1)NC(=O)CCCCCCC(=O)NO</td>\n",
       "      <td>0</td>\n",
       "    </tr>\n",
       "    <tr>\n",
       "      <th>25755</th>\n",
       "      <td>957054-30-7</td>\n",
       "      <td>Sapitinib</td>\n",
       "      <td>VM-CUB-1</td>\n",
       "      <td>909780</td>\n",
       "      <td>CS(=O)(=O)N1CCN(CC1)CC2=CC3=C(S2)C(=NC(=N3)C4=...</td>\n",
       "      <td>CNC(=O)CN1CCC(CC1)OC2=C(C=C3C(=C2)C(=NC=N3)NC4...</td>\n",
       "      <td>1</td>\n",
       "    </tr>\n",
       "    <tr>\n",
       "      <th>25756</th>\n",
       "      <td>957054-30-7</td>\n",
       "      <td>Selumetinib</td>\n",
       "      <td>VM-CUB-1</td>\n",
       "      <td>909780</td>\n",
       "      <td>CS(=O)(=O)N1CCN(CC1)CC2=CC3=C(S2)C(=NC(=N3)C4=...</td>\n",
       "      <td>CN1C=NC2=C1C=C(C(=C2F)NC3=C(C=C(C=C3)Br)Cl)C(=...</td>\n",
       "      <td>1</td>\n",
       "    </tr>\n",
       "  </tbody>\n",
       "</table>\n",
       "<p>25757 rows × 7 columns</p>\n",
       "</div>"
      ],
      "text/plain": [
       "           Drug1_ID     Drug2_ID Cell_Line_ID  Cosmic_ID  \\\n",
       "0       dacarbazine  717906-29-1        A-673     684052   \n",
       "1          Nesbuvir  717906-29-1        A-673     684052   \n",
       "2       Avagacestat  717906-29-1        A-673     684052   \n",
       "3          AS601245  717906-29-1        A-673     684052   \n",
       "4      CHEMBL166161  717906-29-1        A-673     684052   \n",
       "...             ...          ...          ...        ...   \n",
       "25752       AZD7762      AZD2014     VM-CUB-1     909780   \n",
       "25753      AZD-4877    Onalespib     VM-CUB-1     909780   \n",
       "25754     Sapitinib   Vorinostat     VM-CUB-1     909780   \n",
       "25755   957054-30-7    Sapitinib     VM-CUB-1     909780   \n",
       "25756   957054-30-7  Selumetinib     VM-CUB-1     909780   \n",
       "\n",
       "                                                   Drug1  \\\n",
       "0                              CN(C)N=NC1=C(NC=N1)C(=O)N   \n",
       "1      CNC(=O)C1=C(OC2=CC(=C(C=C21)C3CC3)N(CCO)S(=O)(...   \n",
       "2      C1=CC(=CC=C1S(=O)(=O)N(CC2=C(C=C(C=C2)C3=NOC=N...   \n",
       "3      C1=CC=C2C(=C1)N=C(S2)C(C#N)C3=NC(=NC=C3)NCCC4=...   \n",
       "4      COC1(CCN(CC1)CCC2=CNC3=C2C=C(C=C3)F)CS(=O)C4=C...   \n",
       "...                                                  ...   \n",
       "25752  C1CC(CNC1)NC(=O)C2=C(C=C(S2)C3=CC(=CC=C3)F)NC(...   \n",
       "25753  CC1=CC=C(C=C1)C(=O)N(CCCN)C(C2=NC3=C(C(=NS3)C)...   \n",
       "25754  CNC(=O)CN1CCC(CC1)OC2=C(C=C3C(=C2)C(=NC=N3)NC4...   \n",
       "25755  CS(=O)(=O)N1CCN(CC1)CC2=CC3=C(S2)C(=NC(=N3)C4=...   \n",
       "25756  CS(=O)(=O)N1CCN(CC1)CC2=CC3=C(S2)C(=NC(=N3)C4=...   \n",
       "\n",
       "                                                   Drug2  Y  \n",
       "0      CN(C1=CC=CC=C1CNC2=NC(=NC=C2C(F)(F)F)NC3=CC4=C...  0  \n",
       "1      CN(C1=CC=CC=C1CNC2=NC(=NC=C2C(F)(F)F)NC3=CC4=C...  0  \n",
       "2      CN(C1=CC=CC=C1CNC2=NC(=NC=C2C(F)(F)F)NC3=CC4=C...  0  \n",
       "3      CN(C1=CC=CC=C1CNC2=NC(=NC=C2C(F)(F)F)NC3=CC4=C...  1  \n",
       "4      CN(C1=CC=CC=C1CNC2=NC(=NC=C2C(F)(F)F)NC3=CC4=C...  0  \n",
       "...                                                  ... ..  \n",
       "25752  CC1COCCN1C2=NC(=NC3=C2C=CC(=N3)C4=CC(=CC=C4)C(...  0  \n",
       "25753  CC(C)C1=C(C=C(C(=C1)C(=O)N2CC3=C(C2)C=C(C=C3)C...  0  \n",
       "25754                   C1=CC=C(C=C1)NC(=O)CCCCCCC(=O)NO  0  \n",
       "25755  CNC(=O)CN1CCC(CC1)OC2=C(C=C3C(=C2)C(=NC=N3)NC4...  1  \n",
       "25756  CN1C=NC2=C1C=C(C(=C2F)NC3=C(C=C(C=C3)Br)Cl)C(=...  1  \n",
       "\n",
       "[25757 rows x 7 columns]"
      ]
     },
     "execution_count": 41,
     "metadata": {},
     "output_type": "execute_result"
    }
   ],
   "source": [
    "data_pairs = ReaderWriter.read_data(os.path.join(targetdata_dir_raw, 'data_pairs.pkl'))\n",
    "data_pairs"
   ]
  },
  {
   "cell_type": "code",
   "execution_count": 42,
   "metadata": {
    "scrolled": false
   },
   "outputs": [
    {
     "data": {
      "text/html": [
       "<div>\n",
       "<style scoped>\n",
       "    .dataframe tbody tr th:only-of-type {\n",
       "        vertical-align: middle;\n",
       "    }\n",
       "\n",
       "    .dataframe tbody tr th {\n",
       "        vertical-align: top;\n",
       "    }\n",
       "\n",
       "    .dataframe thead th {\n",
       "        text-align: right;\n",
       "    }\n",
       "</style>\n",
       "<table border=\"1\" class=\"dataframe\">\n",
       "  <thead>\n",
       "    <tr style=\"text-align: right;\">\n",
       "      <th></th>\n",
       "      <th>true_class</th>\n",
       "      <th>pred_class</th>\n",
       "      <th>prob_score_class0</th>\n",
       "      <th>prob_score_class1</th>\n",
       "      <th>Drug1_ID</th>\n",
       "      <th>Drug2_ID</th>\n",
       "      <th>Cell_Line_ID</th>\n",
       "      <th>Cosmic_ID</th>\n",
       "      <th>Drug1</th>\n",
       "      <th>Drug2</th>\n",
       "      <th>Y</th>\n",
       "    </tr>\n",
       "  </thead>\n",
       "  <tbody>\n",
       "    <tr>\n",
       "      <th>0</th>\n",
       "      <td>0</td>\n",
       "      <td>0</td>\n",
       "      <td>0.999812</td>\n",
       "      <td>0.000188</td>\n",
       "      <td>dacarbazine</td>\n",
       "      <td>717906-29-1</td>\n",
       "      <td>A-673</td>\n",
       "      <td>684052</td>\n",
       "      <td>CN(C)N=NC1=C(NC=N1)C(=O)N</td>\n",
       "      <td>CN(C1=CC=CC=C1CNC2=NC(=NC=C2C(F)(F)F)NC3=CC4=C...</td>\n",
       "      <td>0</td>\n",
       "    </tr>\n",
       "    <tr>\n",
       "      <th>1</th>\n",
       "      <td>0</td>\n",
       "      <td>0</td>\n",
       "      <td>0.996824</td>\n",
       "      <td>0.003176</td>\n",
       "      <td>Nesbuvir</td>\n",
       "      <td>717906-29-1</td>\n",
       "      <td>A-673</td>\n",
       "      <td>684052</td>\n",
       "      <td>CNC(=O)C1=C(OC2=CC(=C(C=C21)C3CC3)N(CCO)S(=O)(...</td>\n",
       "      <td>CN(C1=CC=CC=C1CNC2=NC(=NC=C2C(F)(F)F)NC3=CC4=C...</td>\n",
       "      <td>0</td>\n",
       "    </tr>\n",
       "    <tr>\n",
       "      <th>2</th>\n",
       "      <td>0</td>\n",
       "      <td>0</td>\n",
       "      <td>0.838370</td>\n",
       "      <td>0.161630</td>\n",
       "      <td>Avagacestat</td>\n",
       "      <td>717906-29-1</td>\n",
       "      <td>A-673</td>\n",
       "      <td>684052</td>\n",
       "      <td>C1=CC(=CC=C1S(=O)(=O)N(CC2=C(C=C(C=C2)C3=NOC=N...</td>\n",
       "      <td>CN(C1=CC=CC=C1CNC2=NC(=NC=C2C(F)(F)F)NC3=CC4=C...</td>\n",
       "      <td>0</td>\n",
       "    </tr>\n",
       "    <tr>\n",
       "      <th>3</th>\n",
       "      <td>1</td>\n",
       "      <td>0</td>\n",
       "      <td>0.999247</td>\n",
       "      <td>0.000753</td>\n",
       "      <td>AS601245</td>\n",
       "      <td>717906-29-1</td>\n",
       "      <td>A-673</td>\n",
       "      <td>684052</td>\n",
       "      <td>C1=CC=C2C(=C1)N=C(S2)C(C#N)C3=NC(=NC=C3)NCCC4=...</td>\n",
       "      <td>CN(C1=CC=CC=C1CNC2=NC(=NC=C2C(F)(F)F)NC3=CC4=C...</td>\n",
       "      <td>1</td>\n",
       "    </tr>\n",
       "    <tr>\n",
       "      <th>4</th>\n",
       "      <td>0</td>\n",
       "      <td>1</td>\n",
       "      <td>0.000050</td>\n",
       "      <td>0.999950</td>\n",
       "      <td>CHEMBL166161</td>\n",
       "      <td>717906-29-1</td>\n",
       "      <td>A-673</td>\n",
       "      <td>684052</td>\n",
       "      <td>COC1(CCN(CC1)CCC2=CNC3=C2C=C(C=C3)F)CS(=O)C4=C...</td>\n",
       "      <td>CN(C1=CC=CC=C1CNC2=NC(=NC=C2C(F)(F)F)NC3=CC4=C...</td>\n",
       "      <td>0</td>\n",
       "    </tr>\n",
       "    <tr>\n",
       "      <th>...</th>\n",
       "      <td>...</td>\n",
       "      <td>...</td>\n",
       "      <td>...</td>\n",
       "      <td>...</td>\n",
       "      <td>...</td>\n",
       "      <td>...</td>\n",
       "      <td>...</td>\n",
       "      <td>...</td>\n",
       "      <td>...</td>\n",
       "      <td>...</td>\n",
       "      <td>...</td>\n",
       "    </tr>\n",
       "    <tr>\n",
       "      <th>25752</th>\n",
       "      <td>0</td>\n",
       "      <td>0</td>\n",
       "      <td>0.991160</td>\n",
       "      <td>0.008840</td>\n",
       "      <td>AZD7762</td>\n",
       "      <td>AZD2014</td>\n",
       "      <td>VM-CUB-1</td>\n",
       "      <td>909780</td>\n",
       "      <td>C1CC(CNC1)NC(=O)C2=C(C=C(S2)C3=CC(=CC=C3)F)NC(...</td>\n",
       "      <td>CC1COCCN1C2=NC(=NC3=C2C=CC(=N3)C4=CC(=CC=C4)C(...</td>\n",
       "      <td>0</td>\n",
       "    </tr>\n",
       "    <tr>\n",
       "      <th>25753</th>\n",
       "      <td>0</td>\n",
       "      <td>0</td>\n",
       "      <td>0.993270</td>\n",
       "      <td>0.006730</td>\n",
       "      <td>AZD-4877</td>\n",
       "      <td>Onalespib</td>\n",
       "      <td>VM-CUB-1</td>\n",
       "      <td>909780</td>\n",
       "      <td>CC1=CC=C(C=C1)C(=O)N(CCCN)C(C2=NC3=C(C(=NS3)C)...</td>\n",
       "      <td>CC(C)C1=C(C=C(C(=C1)C(=O)N2CC3=C(C2)C=C(C=C3)C...</td>\n",
       "      <td>0</td>\n",
       "    </tr>\n",
       "    <tr>\n",
       "      <th>25754</th>\n",
       "      <td>0</td>\n",
       "      <td>1</td>\n",
       "      <td>0.390352</td>\n",
       "      <td>0.609648</td>\n",
       "      <td>Sapitinib</td>\n",
       "      <td>Vorinostat</td>\n",
       "      <td>VM-CUB-1</td>\n",
       "      <td>909780</td>\n",
       "      <td>CNC(=O)CN1CCC(CC1)OC2=C(C=C3C(=C2)C(=NC=N3)NC4...</td>\n",
       "      <td>C1=CC=C(C=C1)NC(=O)CCCCCCC(=O)NO</td>\n",
       "      <td>0</td>\n",
       "    </tr>\n",
       "    <tr>\n",
       "      <th>25755</th>\n",
       "      <td>1</td>\n",
       "      <td>0</td>\n",
       "      <td>0.991512</td>\n",
       "      <td>0.008488</td>\n",
       "      <td>957054-30-7</td>\n",
       "      <td>Sapitinib</td>\n",
       "      <td>VM-CUB-1</td>\n",
       "      <td>909780</td>\n",
       "      <td>CS(=O)(=O)N1CCN(CC1)CC2=CC3=C(S2)C(=NC(=N3)C4=...</td>\n",
       "      <td>CNC(=O)CN1CCC(CC1)OC2=C(C=C3C(=C2)C(=NC=N3)NC4...</td>\n",
       "      <td>1</td>\n",
       "    </tr>\n",
       "    <tr>\n",
       "      <th>25756</th>\n",
       "      <td>1</td>\n",
       "      <td>1</td>\n",
       "      <td>0.022664</td>\n",
       "      <td>0.977336</td>\n",
       "      <td>957054-30-7</td>\n",
       "      <td>Selumetinib</td>\n",
       "      <td>VM-CUB-1</td>\n",
       "      <td>909780</td>\n",
       "      <td>CS(=O)(=O)N1CCN(CC1)CC2=CC3=C(S2)C(=NC(=N3)C4=...</td>\n",
       "      <td>CN1C=NC2=C1C=C(C(=C2F)NC3=C(C=C(C=C3)Br)Cl)C(=...</td>\n",
       "      <td>1</td>\n",
       "    </tr>\n",
       "  </tbody>\n",
       "</table>\n",
       "<p>25757 rows × 11 columns</p>\n",
       "</div>"
      ],
      "text/plain": [
       "       true_class  pred_class  prob_score_class0  prob_score_class1  \\\n",
       "0               0           0           0.999812           0.000188   \n",
       "1               0           0           0.996824           0.003176   \n",
       "2               0           0           0.838370           0.161630   \n",
       "3               1           0           0.999247           0.000753   \n",
       "4               0           1           0.000050           0.999950   \n",
       "...           ...         ...                ...                ...   \n",
       "25752           0           0           0.991160           0.008840   \n",
       "25753           0           0           0.993270           0.006730   \n",
       "25754           0           1           0.390352           0.609648   \n",
       "25755           1           0           0.991512           0.008488   \n",
       "25756           1           1           0.022664           0.977336   \n",
       "\n",
       "           Drug1_ID     Drug2_ID Cell_Line_ID  Cosmic_ID  \\\n",
       "0       dacarbazine  717906-29-1        A-673     684052   \n",
       "1          Nesbuvir  717906-29-1        A-673     684052   \n",
       "2       Avagacestat  717906-29-1        A-673     684052   \n",
       "3          AS601245  717906-29-1        A-673     684052   \n",
       "4      CHEMBL166161  717906-29-1        A-673     684052   \n",
       "...             ...          ...          ...        ...   \n",
       "25752       AZD7762      AZD2014     VM-CUB-1     909780   \n",
       "25753      AZD-4877    Onalespib     VM-CUB-1     909780   \n",
       "25754     Sapitinib   Vorinostat     VM-CUB-1     909780   \n",
       "25755   957054-30-7    Sapitinib     VM-CUB-1     909780   \n",
       "25756   957054-30-7  Selumetinib     VM-CUB-1     909780   \n",
       "\n",
       "                                                   Drug1  \\\n",
       "0                              CN(C)N=NC1=C(NC=N1)C(=O)N   \n",
       "1      CNC(=O)C1=C(OC2=CC(=C(C=C21)C3CC3)N(CCO)S(=O)(...   \n",
       "2      C1=CC(=CC=C1S(=O)(=O)N(CC2=C(C=C(C=C2)C3=NOC=N...   \n",
       "3      C1=CC=C2C(=C1)N=C(S2)C(C#N)C3=NC(=NC=C3)NCCC4=...   \n",
       "4      COC1(CCN(CC1)CCC2=CNC3=C2C=C(C=C3)F)CS(=O)C4=C...   \n",
       "...                                                  ...   \n",
       "25752  C1CC(CNC1)NC(=O)C2=C(C=C(S2)C3=CC(=CC=C3)F)NC(...   \n",
       "25753  CC1=CC=C(C=C1)C(=O)N(CCCN)C(C2=NC3=C(C(=NS3)C)...   \n",
       "25754  CNC(=O)CN1CCC(CC1)OC2=C(C=C3C(=C2)C(=NC=N3)NC4...   \n",
       "25755  CS(=O)(=O)N1CCN(CC1)CC2=CC3=C(S2)C(=NC(=N3)C4=...   \n",
       "25756  CS(=O)(=O)N1CCN(CC1)CC2=CC3=C(S2)C(=NC(=N3)C4=...   \n",
       "\n",
       "                                                   Drug2  Y  \n",
       "0      CN(C1=CC=CC=C1CNC2=NC(=NC=C2C(F)(F)F)NC3=CC4=C...  0  \n",
       "1      CN(C1=CC=CC=C1CNC2=NC(=NC=C2C(F)(F)F)NC3=CC4=C...  0  \n",
       "2      CN(C1=CC=CC=C1CNC2=NC(=NC=C2C(F)(F)F)NC3=CC4=C...  0  \n",
       "3      CN(C1=CC=CC=C1CNC2=NC(=NC=C2C(F)(F)F)NC3=CC4=C...  1  \n",
       "4      CN(C1=CC=CC=C1CNC2=NC(=NC=C2C(F)(F)F)NC3=CC4=C...  0  \n",
       "...                                                  ... ..  \n",
       "25752  CC1COCCN1C2=NC(=NC3=C2C=CC(=N3)C4=CC(=CC=C4)C(...  0  \n",
       "25753  CC(C)C1=C(C=C(C(=C1)C(=O)N2CC3=C(C2)C=C(C=C3)C...  0  \n",
       "25754                   C1=CC=C(C=C1)NC(=O)CCCCCCC(=O)NO  0  \n",
       "25755  CNC(=O)CN1CCC(CC1)OC2=C(C=C3C(=C2)C(=NC=N3)NC4...  1  \n",
       "25756  CN1C=NC2=C1C=C(C(=C2F)NC3=C(C=C(C=C3)Br)Cl)C(=...  1  \n",
       "\n",
       "[25757 rows x 11 columns]"
      ]
     },
     "execution_count": 42,
     "metadata": {},
     "output_type": "execute_result"
    }
   ],
   "source": [
    "df_all = pd.concat([df_pred.sort_index(), data_pairs.sort_index()], axis=1)\n",
    "df_all"
   ]
  },
  {
   "cell_type": "code",
   "execution_count": 43,
   "metadata": {
    "scrolled": true
   },
   "outputs": [
    {
     "data": {
      "text/html": [
       "<div>\n",
       "<style scoped>\n",
       "    .dataframe tbody tr th:only-of-type {\n",
       "        vertical-align: middle;\n",
       "    }\n",
       "\n",
       "    .dataframe tbody tr th {\n",
       "        vertical-align: top;\n",
       "    }\n",
       "\n",
       "    .dataframe thead th {\n",
       "        text-align: right;\n",
       "    }\n",
       "</style>\n",
       "<table border=\"1\" class=\"dataframe\">\n",
       "  <thead>\n",
       "    <tr style=\"text-align: right;\">\n",
       "      <th></th>\n",
       "      <th>true_class</th>\n",
       "      <th>pred_class</th>\n",
       "      <th>prob_score_class0</th>\n",
       "      <th>prob_score_class1</th>\n",
       "      <th>Drug1_ID</th>\n",
       "      <th>Drug2_ID</th>\n",
       "      <th>Cell_Line_ID</th>\n",
       "      <th>Cosmic_ID</th>\n",
       "      <th>Drug1</th>\n",
       "      <th>Drug2</th>\n",
       "      <th>Y</th>\n",
       "    </tr>\n",
       "  </thead>\n",
       "  <tbody>\n",
       "    <tr>\n",
       "      <th>0</th>\n",
       "      <td>0</td>\n",
       "      <td>0</td>\n",
       "      <td>0.999812</td>\n",
       "      <td>0.000188</td>\n",
       "      <td>dacarbazine</td>\n",
       "      <td>717906-29-1</td>\n",
       "      <td>A-673</td>\n",
       "      <td>684052</td>\n",
       "      <td>CN(C)N=NC1=C(NC=N1)C(=O)N</td>\n",
       "      <td>CN(C1=CC=CC=C1CNC2=NC(=NC=C2C(F)(F)F)NC3=CC4=C...</td>\n",
       "      <td>0</td>\n",
       "    </tr>\n",
       "    <tr>\n",
       "      <th>1</th>\n",
       "      <td>0</td>\n",
       "      <td>0</td>\n",
       "      <td>0.996824</td>\n",
       "      <td>0.003176</td>\n",
       "      <td>Nesbuvir</td>\n",
       "      <td>717906-29-1</td>\n",
       "      <td>A-673</td>\n",
       "      <td>684052</td>\n",
       "      <td>CNC(=O)C1=C(OC2=CC(=C(C=C21)C3CC3)N(CCO)S(=O)(...</td>\n",
       "      <td>CN(C1=CC=CC=C1CNC2=NC(=NC=C2C(F)(F)F)NC3=CC4=C...</td>\n",
       "      <td>0</td>\n",
       "    </tr>\n",
       "    <tr>\n",
       "      <th>2</th>\n",
       "      <td>0</td>\n",
       "      <td>0</td>\n",
       "      <td>0.838370</td>\n",
       "      <td>0.161630</td>\n",
       "      <td>Avagacestat</td>\n",
       "      <td>717906-29-1</td>\n",
       "      <td>A-673</td>\n",
       "      <td>684052</td>\n",
       "      <td>C1=CC(=CC=C1S(=O)(=O)N(CC2=C(C=C(C=C2)C3=NOC=N...</td>\n",
       "      <td>CN(C1=CC=CC=C1CNC2=NC(=NC=C2C(F)(F)F)NC3=CC4=C...</td>\n",
       "      <td>0</td>\n",
       "    </tr>\n",
       "    <tr>\n",
       "      <th>6</th>\n",
       "      <td>1</td>\n",
       "      <td>1</td>\n",
       "      <td>0.010439</td>\n",
       "      <td>0.989561</td>\n",
       "      <td>AT7519</td>\n",
       "      <td>PF-3758309</td>\n",
       "      <td>TC-71</td>\n",
       "      <td>1240221</td>\n",
       "      <td>C1CNCCC1NC(=O)C2=C(C=NN2)NC(=O)C3=C(C=CC=C3Cl)Cl</td>\n",
       "      <td>CC1=NC2=C(C(=N1)NC3=NNC4=C3CN(C4(C)C)C(=O)NC(C...</td>\n",
       "      <td>1</td>\n",
       "    </tr>\n",
       "    <tr>\n",
       "      <th>7</th>\n",
       "      <td>1</td>\n",
       "      <td>1</td>\n",
       "      <td>0.000052</td>\n",
       "      <td>0.999948</td>\n",
       "      <td>ZINC34894448</td>\n",
       "      <td>PF-3758309</td>\n",
       "      <td>TC-71</td>\n",
       "      <td>1240221</td>\n",
       "      <td>CCC1=C2N=C(C=C(N2N=C1)NCC3=C[N+](=CC=C3)[O-])N...</td>\n",
       "      <td>CC1=NC2=C(C(=N1)NC3=NNC4=C3CN(C4(C)C)C(=O)NC(C...</td>\n",
       "      <td>1</td>\n",
       "    </tr>\n",
       "    <tr>\n",
       "      <th>...</th>\n",
       "      <td>...</td>\n",
       "      <td>...</td>\n",
       "      <td>...</td>\n",
       "      <td>...</td>\n",
       "      <td>...</td>\n",
       "      <td>...</td>\n",
       "      <td>...</td>\n",
       "      <td>...</td>\n",
       "      <td>...</td>\n",
       "      <td>...</td>\n",
       "      <td>...</td>\n",
       "    </tr>\n",
       "    <tr>\n",
       "      <th>25750</th>\n",
       "      <td>0</td>\n",
       "      <td>0</td>\n",
       "      <td>0.976813</td>\n",
       "      <td>0.023187</td>\n",
       "      <td>AZD7762</td>\n",
       "      <td>AZD6738</td>\n",
       "      <td>VM-CUB-1</td>\n",
       "      <td>909780</td>\n",
       "      <td>C1CC(CNC1)NC(=O)C2=C(C=C(S2)C3=CC(=CC=C3)F)NC(...</td>\n",
       "      <td>CC1COCCN1C2=NC(=NC(=C2)C3(CC3)S(=N)(=O)C)C4=C5...</td>\n",
       "      <td>0</td>\n",
       "    </tr>\n",
       "    <tr>\n",
       "      <th>25751</th>\n",
       "      <td>0</td>\n",
       "      <td>0</td>\n",
       "      <td>0.989993</td>\n",
       "      <td>0.010007</td>\n",
       "      <td>AZD7762</td>\n",
       "      <td>AZD4547</td>\n",
       "      <td>VM-CUB-1</td>\n",
       "      <td>909780</td>\n",
       "      <td>C1CC(CNC1)NC(=O)C2=C(C=C(S2)C3=CC(=CC=C3)F)NC(...</td>\n",
       "      <td>CC1CN(CC(N1)C)C2=CC=C(C=C2)C(=O)NC3=NNC(=C3)CC...</td>\n",
       "      <td>0</td>\n",
       "    </tr>\n",
       "    <tr>\n",
       "      <th>25752</th>\n",
       "      <td>0</td>\n",
       "      <td>0</td>\n",
       "      <td>0.991160</td>\n",
       "      <td>0.008840</td>\n",
       "      <td>AZD7762</td>\n",
       "      <td>AZD2014</td>\n",
       "      <td>VM-CUB-1</td>\n",
       "      <td>909780</td>\n",
       "      <td>C1CC(CNC1)NC(=O)C2=C(C=C(S2)C3=CC(=CC=C3)F)NC(...</td>\n",
       "      <td>CC1COCCN1C2=NC(=NC3=C2C=CC(=N3)C4=CC(=CC=C4)C(...</td>\n",
       "      <td>0</td>\n",
       "    </tr>\n",
       "    <tr>\n",
       "      <th>25753</th>\n",
       "      <td>0</td>\n",
       "      <td>0</td>\n",
       "      <td>0.993270</td>\n",
       "      <td>0.006730</td>\n",
       "      <td>AZD-4877</td>\n",
       "      <td>Onalespib</td>\n",
       "      <td>VM-CUB-1</td>\n",
       "      <td>909780</td>\n",
       "      <td>CC1=CC=C(C=C1)C(=O)N(CCCN)C(C2=NC3=C(C(=NS3)C)...</td>\n",
       "      <td>CC(C)C1=C(C=C(C(=C1)C(=O)N2CC3=C(C2)C=C(C=C3)C...</td>\n",
       "      <td>0</td>\n",
       "    </tr>\n",
       "    <tr>\n",
       "      <th>25756</th>\n",
       "      <td>1</td>\n",
       "      <td>1</td>\n",
       "      <td>0.022664</td>\n",
       "      <td>0.977336</td>\n",
       "      <td>957054-30-7</td>\n",
       "      <td>Selumetinib</td>\n",
       "      <td>VM-CUB-1</td>\n",
       "      <td>909780</td>\n",
       "      <td>CS(=O)(=O)N1CCN(CC1)CC2=CC3=C(S2)C(=NC(=N3)C4=...</td>\n",
       "      <td>CN1C=NC2=C1C=C(C(=C2F)NC3=C(C=C(C=C3)Br)Cl)C(=...</td>\n",
       "      <td>1</td>\n",
       "    </tr>\n",
       "  </tbody>\n",
       "</table>\n",
       "<p>21018 rows × 11 columns</p>\n",
       "</div>"
      ],
      "text/plain": [
       "       true_class  pred_class  prob_score_class0  prob_score_class1  \\\n",
       "0               0           0           0.999812           0.000188   \n",
       "1               0           0           0.996824           0.003176   \n",
       "2               0           0           0.838370           0.161630   \n",
       "6               1           1           0.010439           0.989561   \n",
       "7               1           1           0.000052           0.999948   \n",
       "...           ...         ...                ...                ...   \n",
       "25750           0           0           0.976813           0.023187   \n",
       "25751           0           0           0.989993           0.010007   \n",
       "25752           0           0           0.991160           0.008840   \n",
       "25753           0           0           0.993270           0.006730   \n",
       "25756           1           1           0.022664           0.977336   \n",
       "\n",
       "           Drug1_ID     Drug2_ID Cell_Line_ID  Cosmic_ID  \\\n",
       "0       dacarbazine  717906-29-1        A-673     684052   \n",
       "1          Nesbuvir  717906-29-1        A-673     684052   \n",
       "2       Avagacestat  717906-29-1        A-673     684052   \n",
       "6            AT7519   PF-3758309        TC-71    1240221   \n",
       "7      ZINC34894448   PF-3758309        TC-71    1240221   \n",
       "...             ...          ...          ...        ...   \n",
       "25750       AZD7762      AZD6738     VM-CUB-1     909780   \n",
       "25751       AZD7762      AZD4547     VM-CUB-1     909780   \n",
       "25752       AZD7762      AZD2014     VM-CUB-1     909780   \n",
       "25753      AZD-4877    Onalespib     VM-CUB-1     909780   \n",
       "25756   957054-30-7  Selumetinib     VM-CUB-1     909780   \n",
       "\n",
       "                                                   Drug1  \\\n",
       "0                              CN(C)N=NC1=C(NC=N1)C(=O)N   \n",
       "1      CNC(=O)C1=C(OC2=CC(=C(C=C21)C3CC3)N(CCO)S(=O)(...   \n",
       "2      C1=CC(=CC=C1S(=O)(=O)N(CC2=C(C=C(C=C2)C3=NOC=N...   \n",
       "6       C1CNCCC1NC(=O)C2=C(C=NN2)NC(=O)C3=C(C=CC=C3Cl)Cl   \n",
       "7      CCC1=C2N=C(C=C(N2N=C1)NCC3=C[N+](=CC=C3)[O-])N...   \n",
       "...                                                  ...   \n",
       "25750  C1CC(CNC1)NC(=O)C2=C(C=C(S2)C3=CC(=CC=C3)F)NC(...   \n",
       "25751  C1CC(CNC1)NC(=O)C2=C(C=C(S2)C3=CC(=CC=C3)F)NC(...   \n",
       "25752  C1CC(CNC1)NC(=O)C2=C(C=C(S2)C3=CC(=CC=C3)F)NC(...   \n",
       "25753  CC1=CC=C(C=C1)C(=O)N(CCCN)C(C2=NC3=C(C(=NS3)C)...   \n",
       "25756  CS(=O)(=O)N1CCN(CC1)CC2=CC3=C(S2)C(=NC(=N3)C4=...   \n",
       "\n",
       "                                                   Drug2  Y  \n",
       "0      CN(C1=CC=CC=C1CNC2=NC(=NC=C2C(F)(F)F)NC3=CC4=C...  0  \n",
       "1      CN(C1=CC=CC=C1CNC2=NC(=NC=C2C(F)(F)F)NC3=CC4=C...  0  \n",
       "2      CN(C1=CC=CC=C1CNC2=NC(=NC=C2C(F)(F)F)NC3=CC4=C...  0  \n",
       "6      CC1=NC2=C(C(=N1)NC3=NNC4=C3CN(C4(C)C)C(=O)NC(C...  1  \n",
       "7      CC1=NC2=C(C(=N1)NC3=NNC4=C3CN(C4(C)C)C(=O)NC(C...  1  \n",
       "...                                                  ... ..  \n",
       "25750  CC1COCCN1C2=NC(=NC(=C2)C3(CC3)S(=N)(=O)C)C4=C5...  0  \n",
       "25751  CC1CN(CC(N1)C)C2=CC=C(C=C2)C(=O)NC3=NNC(=C3)CC...  0  \n",
       "25752  CC1COCCN1C2=NC(=NC3=C2C=CC(=N3)C4=CC(=CC=C4)C(...  0  \n",
       "25753  CC(C)C1=C(C=C(C(=C1)C(=O)N2CC3=C(C2)C=C(C=C3)C...  0  \n",
       "25756  CN1C=NC2=C1C=C(C(=C2F)NC3=C(C=C(C=C3)Br)Cl)C(=...  1  \n",
       "\n",
       "[21018 rows x 11 columns]"
      ]
     },
     "execution_count": 43,
     "metadata": {},
     "output_type": "execute_result"
    }
   ],
   "source": [
    "df_pred_TP = df_all[((df_all.true_class == 0) & (df_all.pred_class == 0)) |\n",
    "                     ((df_all.true_class == 1) & (df_all.pred_class == 1))]\n",
    "df_pred_TP"
   ]
  },
  {
   "cell_type": "code",
   "execution_count": 44,
   "metadata": {
    "scrolled": true
   },
   "outputs": [],
   "source": [
    "# df_pred_TP.index.values"
   ]
  },
  {
   "cell_type": "code",
   "execution_count": 45,
   "metadata": {
    "scrolled": true
   },
   "outputs": [
    {
     "data": {
      "text/html": [
       "<div>\n",
       "<style scoped>\n",
       "    .dataframe tbody tr th:only-of-type {\n",
       "        vertical-align: middle;\n",
       "    }\n",
       "\n",
       "    .dataframe tbody tr th {\n",
       "        vertical-align: top;\n",
       "    }\n",
       "\n",
       "    .dataframe thead th {\n",
       "        text-align: right;\n",
       "    }\n",
       "</style>\n",
       "<table border=\"1\" class=\"dataframe\">\n",
       "  <thead>\n",
       "    <tr style=\"text-align: right;\">\n",
       "      <th></th>\n",
       "      <th>index</th>\n",
       "      <th>true_class</th>\n",
       "      <th>pred_class</th>\n",
       "      <th>prob_score_class0</th>\n",
       "      <th>prob_score_class1</th>\n",
       "      <th>Drug1_ID</th>\n",
       "      <th>Drug2_ID</th>\n",
       "      <th>Cell_Line_ID</th>\n",
       "      <th>Cosmic_ID</th>\n",
       "      <th>Drug1</th>\n",
       "      <th>Drug2</th>\n",
       "      <th>Y</th>\n",
       "    </tr>\n",
       "  </thead>\n",
       "  <tbody>\n",
       "    <tr>\n",
       "      <th>0</th>\n",
       "      <td>0</td>\n",
       "      <td>0</td>\n",
       "      <td>0</td>\n",
       "      <td>0.999812</td>\n",
       "      <td>0.000188</td>\n",
       "      <td>dacarbazine</td>\n",
       "      <td>717906-29-1</td>\n",
       "      <td>A-673</td>\n",
       "      <td>684052</td>\n",
       "      <td>CN(C)N=NC1=C(NC=N1)C(=O)N</td>\n",
       "      <td>CN(C1=CC=CC=C1CNC2=NC(=NC=C2C(F)(F)F)NC3=CC4=C...</td>\n",
       "      <td>0</td>\n",
       "    </tr>\n",
       "    <tr>\n",
       "      <th>1</th>\n",
       "      <td>1</td>\n",
       "      <td>0</td>\n",
       "      <td>0</td>\n",
       "      <td>0.996824</td>\n",
       "      <td>0.003176</td>\n",
       "      <td>Nesbuvir</td>\n",
       "      <td>717906-29-1</td>\n",
       "      <td>A-673</td>\n",
       "      <td>684052</td>\n",
       "      <td>CNC(=O)C1=C(OC2=CC(=C(C=C21)C3CC3)N(CCO)S(=O)(...</td>\n",
       "      <td>CN(C1=CC=CC=C1CNC2=NC(=NC=C2C(F)(F)F)NC3=CC4=C...</td>\n",
       "      <td>0</td>\n",
       "    </tr>\n",
       "    <tr>\n",
       "      <th>2</th>\n",
       "      <td>2</td>\n",
       "      <td>0</td>\n",
       "      <td>0</td>\n",
       "      <td>0.838370</td>\n",
       "      <td>0.161630</td>\n",
       "      <td>Avagacestat</td>\n",
       "      <td>717906-29-1</td>\n",
       "      <td>A-673</td>\n",
       "      <td>684052</td>\n",
       "      <td>C1=CC(=CC=C1S(=O)(=O)N(CC2=C(C=C(C=C2)C3=NOC=N...</td>\n",
       "      <td>CN(C1=CC=CC=C1CNC2=NC(=NC=C2C(F)(F)F)NC3=CC4=C...</td>\n",
       "      <td>0</td>\n",
       "    </tr>\n",
       "    <tr>\n",
       "      <th>3</th>\n",
       "      <td>6</td>\n",
       "      <td>1</td>\n",
       "      <td>1</td>\n",
       "      <td>0.010439</td>\n",
       "      <td>0.989561</td>\n",
       "      <td>AT7519</td>\n",
       "      <td>PF-3758309</td>\n",
       "      <td>TC-71</td>\n",
       "      <td>1240221</td>\n",
       "      <td>C1CNCCC1NC(=O)C2=C(C=NN2)NC(=O)C3=C(C=CC=C3Cl)Cl</td>\n",
       "      <td>CC1=NC2=C(C(=N1)NC3=NNC4=C3CN(C4(C)C)C(=O)NC(C...</td>\n",
       "      <td>1</td>\n",
       "    </tr>\n",
       "    <tr>\n",
       "      <th>4</th>\n",
       "      <td>7</td>\n",
       "      <td>1</td>\n",
       "      <td>1</td>\n",
       "      <td>0.000052</td>\n",
       "      <td>0.999948</td>\n",
       "      <td>ZINC34894448</td>\n",
       "      <td>PF-3758309</td>\n",
       "      <td>TC-71</td>\n",
       "      <td>1240221</td>\n",
       "      <td>CCC1=C2N=C(C=C(N2N=C1)NCC3=C[N+](=CC=C3)[O-])N...</td>\n",
       "      <td>CC1=NC2=C(C(=N1)NC3=NNC4=C3CN(C4(C)C)C(=O)NC(C...</td>\n",
       "      <td>1</td>\n",
       "    </tr>\n",
       "    <tr>\n",
       "      <th>...</th>\n",
       "      <td>...</td>\n",
       "      <td>...</td>\n",
       "      <td>...</td>\n",
       "      <td>...</td>\n",
       "      <td>...</td>\n",
       "      <td>...</td>\n",
       "      <td>...</td>\n",
       "      <td>...</td>\n",
       "      <td>...</td>\n",
       "      <td>...</td>\n",
       "      <td>...</td>\n",
       "      <td>...</td>\n",
       "    </tr>\n",
       "    <tr>\n",
       "      <th>21013</th>\n",
       "      <td>25750</td>\n",
       "      <td>0</td>\n",
       "      <td>0</td>\n",
       "      <td>0.976813</td>\n",
       "      <td>0.023187</td>\n",
       "      <td>AZD7762</td>\n",
       "      <td>AZD6738</td>\n",
       "      <td>VM-CUB-1</td>\n",
       "      <td>909780</td>\n",
       "      <td>C1CC(CNC1)NC(=O)C2=C(C=C(S2)C3=CC(=CC=C3)F)NC(...</td>\n",
       "      <td>CC1COCCN1C2=NC(=NC(=C2)C3(CC3)S(=N)(=O)C)C4=C5...</td>\n",
       "      <td>0</td>\n",
       "    </tr>\n",
       "    <tr>\n",
       "      <th>21014</th>\n",
       "      <td>25751</td>\n",
       "      <td>0</td>\n",
       "      <td>0</td>\n",
       "      <td>0.989993</td>\n",
       "      <td>0.010007</td>\n",
       "      <td>AZD7762</td>\n",
       "      <td>AZD4547</td>\n",
       "      <td>VM-CUB-1</td>\n",
       "      <td>909780</td>\n",
       "      <td>C1CC(CNC1)NC(=O)C2=C(C=C(S2)C3=CC(=CC=C3)F)NC(...</td>\n",
       "      <td>CC1CN(CC(N1)C)C2=CC=C(C=C2)C(=O)NC3=NNC(=C3)CC...</td>\n",
       "      <td>0</td>\n",
       "    </tr>\n",
       "    <tr>\n",
       "      <th>21015</th>\n",
       "      <td>25752</td>\n",
       "      <td>0</td>\n",
       "      <td>0</td>\n",
       "      <td>0.991160</td>\n",
       "      <td>0.008840</td>\n",
       "      <td>AZD7762</td>\n",
       "      <td>AZD2014</td>\n",
       "      <td>VM-CUB-1</td>\n",
       "      <td>909780</td>\n",
       "      <td>C1CC(CNC1)NC(=O)C2=C(C=C(S2)C3=CC(=CC=C3)F)NC(...</td>\n",
       "      <td>CC1COCCN1C2=NC(=NC3=C2C=CC(=N3)C4=CC(=CC=C4)C(...</td>\n",
       "      <td>0</td>\n",
       "    </tr>\n",
       "    <tr>\n",
       "      <th>21016</th>\n",
       "      <td>25753</td>\n",
       "      <td>0</td>\n",
       "      <td>0</td>\n",
       "      <td>0.993270</td>\n",
       "      <td>0.006730</td>\n",
       "      <td>AZD-4877</td>\n",
       "      <td>Onalespib</td>\n",
       "      <td>VM-CUB-1</td>\n",
       "      <td>909780</td>\n",
       "      <td>CC1=CC=C(C=C1)C(=O)N(CCCN)C(C2=NC3=C(C(=NS3)C)...</td>\n",
       "      <td>CC(C)C1=C(C=C(C(=C1)C(=O)N2CC3=C(C2)C=C(C=C3)C...</td>\n",
       "      <td>0</td>\n",
       "    </tr>\n",
       "    <tr>\n",
       "      <th>21017</th>\n",
       "      <td>25756</td>\n",
       "      <td>1</td>\n",
       "      <td>1</td>\n",
       "      <td>0.022664</td>\n",
       "      <td>0.977336</td>\n",
       "      <td>957054-30-7</td>\n",
       "      <td>Selumetinib</td>\n",
       "      <td>VM-CUB-1</td>\n",
       "      <td>909780</td>\n",
       "      <td>CS(=O)(=O)N1CCN(CC1)CC2=CC3=C(S2)C(=NC(=N3)C4=...</td>\n",
       "      <td>CN1C=NC2=C1C=C(C(=C2F)NC3=C(C=C(C=C3)Br)Cl)C(=...</td>\n",
       "      <td>1</td>\n",
       "    </tr>\n",
       "  </tbody>\n",
       "</table>\n",
       "<p>21018 rows × 12 columns</p>\n",
       "</div>"
      ],
      "text/plain": [
       "       index  true_class  pred_class  prob_score_class0  prob_score_class1  \\\n",
       "0          0           0           0           0.999812           0.000188   \n",
       "1          1           0           0           0.996824           0.003176   \n",
       "2          2           0           0           0.838370           0.161630   \n",
       "3          6           1           1           0.010439           0.989561   \n",
       "4          7           1           1           0.000052           0.999948   \n",
       "...      ...         ...         ...                ...                ...   \n",
       "21013  25750           0           0           0.976813           0.023187   \n",
       "21014  25751           0           0           0.989993           0.010007   \n",
       "21015  25752           0           0           0.991160           0.008840   \n",
       "21016  25753           0           0           0.993270           0.006730   \n",
       "21017  25756           1           1           0.022664           0.977336   \n",
       "\n",
       "           Drug1_ID     Drug2_ID Cell_Line_ID  Cosmic_ID  \\\n",
       "0       dacarbazine  717906-29-1        A-673     684052   \n",
       "1          Nesbuvir  717906-29-1        A-673     684052   \n",
       "2       Avagacestat  717906-29-1        A-673     684052   \n",
       "3            AT7519   PF-3758309        TC-71    1240221   \n",
       "4      ZINC34894448   PF-3758309        TC-71    1240221   \n",
       "...             ...          ...          ...        ...   \n",
       "21013       AZD7762      AZD6738     VM-CUB-1     909780   \n",
       "21014       AZD7762      AZD4547     VM-CUB-1     909780   \n",
       "21015       AZD7762      AZD2014     VM-CUB-1     909780   \n",
       "21016      AZD-4877    Onalespib     VM-CUB-1     909780   \n",
       "21017   957054-30-7  Selumetinib     VM-CUB-1     909780   \n",
       "\n",
       "                                                   Drug1  \\\n",
       "0                              CN(C)N=NC1=C(NC=N1)C(=O)N   \n",
       "1      CNC(=O)C1=C(OC2=CC(=C(C=C21)C3CC3)N(CCO)S(=O)(...   \n",
       "2      C1=CC(=CC=C1S(=O)(=O)N(CC2=C(C=C(C=C2)C3=NOC=N...   \n",
       "3       C1CNCCC1NC(=O)C2=C(C=NN2)NC(=O)C3=C(C=CC=C3Cl)Cl   \n",
       "4      CCC1=C2N=C(C=C(N2N=C1)NCC3=C[N+](=CC=C3)[O-])N...   \n",
       "...                                                  ...   \n",
       "21013  C1CC(CNC1)NC(=O)C2=C(C=C(S2)C3=CC(=CC=C3)F)NC(...   \n",
       "21014  C1CC(CNC1)NC(=O)C2=C(C=C(S2)C3=CC(=CC=C3)F)NC(...   \n",
       "21015  C1CC(CNC1)NC(=O)C2=C(C=C(S2)C3=CC(=CC=C3)F)NC(...   \n",
       "21016  CC1=CC=C(C=C1)C(=O)N(CCCN)C(C2=NC3=C(C(=NS3)C)...   \n",
       "21017  CS(=O)(=O)N1CCN(CC1)CC2=CC3=C(S2)C(=NC(=N3)C4=...   \n",
       "\n",
       "                                                   Drug2  Y  \n",
       "0      CN(C1=CC=CC=C1CNC2=NC(=NC=C2C(F)(F)F)NC3=CC4=C...  0  \n",
       "1      CN(C1=CC=CC=C1CNC2=NC(=NC=C2C(F)(F)F)NC3=CC4=C...  0  \n",
       "2      CN(C1=CC=CC=C1CNC2=NC(=NC=C2C(F)(F)F)NC3=CC4=C...  0  \n",
       "3      CC1=NC2=C(C(=N1)NC3=NNC4=C3CN(C4(C)C)C(=O)NC(C...  1  \n",
       "4      CC1=NC2=C(C(=N1)NC3=NNC4=C3CN(C4(C)C)C(=O)NC(C...  1  \n",
       "...                                                  ... ..  \n",
       "21013  CC1COCCN1C2=NC(=NC(=C2)C3(CC3)S(=N)(=O)C)C4=C5...  0  \n",
       "21014  CC1CN(CC(N1)C)C2=CC=C(C=C2)C(=O)NC3=NNC(=C3)CC...  0  \n",
       "21015  CC1COCCN1C2=NC(=NC3=C2C=CC(=N3)C4=CC(=CC=C4)C(...  0  \n",
       "21016  CC(C)C1=C(C=C(C(=C1)C(=O)N2CC3=C(C2)C=C(C=C3)C...  0  \n",
       "21017  CN1C=NC2=C1C=C(C(=C2F)NC3=C(C=C(C=C3)Br)Cl)C(=...  1  \n",
       "\n",
       "[21018 rows x 12 columns]"
      ]
     },
     "execution_count": 45,
     "metadata": {},
     "output_type": "execute_result"
    }
   ],
   "source": [
    "df_pred_TP_RI = df_pred_TP.reset_index()#.drop(columns=[\"index\"])\n",
    "df_pred_TP_RI"
   ]
  },
  {
   "cell_type": "code",
   "execution_count": 46,
   "metadata": {},
   "outputs": [
    {
     "data": {
      "text/plain": [
       "0            0\n",
       "1            1\n",
       "2            2\n",
       "3            6\n",
       "4            7\n",
       "         ...  \n",
       "21013    25750\n",
       "21014    25751\n",
       "21015    25752\n",
       "21016    25753\n",
       "21017    25756\n",
       "Name: index, Length: 21018, dtype: int64"
      ]
     },
     "execution_count": 46,
     "metadata": {},
     "output_type": "execute_result"
    }
   ],
   "source": [
    "df_pred_TP_RI['index']"
   ]
  },
  {
   "cell_type": "code",
   "execution_count": 47,
   "metadata": {},
   "outputs": [],
   "source": [
    "fold_partitions_TP_test = {}\n",
    "\n",
    "for fold, part in fold_partitions.items():\n",
    "    fold_partitions_TP_test[fold] = df_pred_TP_RI['index'][df_pred_TP_RI['index'].isin(fold_partitions[fold]['test'])].index.values"
   ]
  },
  {
   "cell_type": "code",
   "execution_count": 48,
   "metadata": {},
   "outputs": [
    {
     "data": {
      "text/plain": [
       "4170"
      ]
     },
     "execution_count": 48,
     "metadata": {},
     "output_type": "execute_result"
    }
   ],
   "source": [
    "len(fold_partitions_TP_test[3])"
   ]
  },
  {
   "cell_type": "code",
   "execution_count": 49,
   "metadata": {},
   "outputs": [
    {
     "data": {
      "text/html": [
       "<div>\n",
       "<style scoped>\n",
       "    .dataframe tbody tr th:only-of-type {\n",
       "        vertical-align: middle;\n",
       "    }\n",
       "\n",
       "    .dataframe tbody tr th {\n",
       "        vertical-align: top;\n",
       "    }\n",
       "\n",
       "    .dataframe thead th {\n",
       "        text-align: right;\n",
       "    }\n",
       "</style>\n",
       "<table border=\"1\" class=\"dataframe\">\n",
       "  <thead>\n",
       "    <tr style=\"text-align: right;\">\n",
       "      <th></th>\n",
       "      <th>true_class</th>\n",
       "      <th>pred_class</th>\n",
       "      <th>prob_score_class0</th>\n",
       "      <th>prob_score_class1</th>\n",
       "      <th>Drug1_ID</th>\n",
       "      <th>Drug2_ID</th>\n",
       "      <th>Cell_Line_ID</th>\n",
       "      <th>Cosmic_ID</th>\n",
       "      <th>Drug1</th>\n",
       "      <th>Drug2</th>\n",
       "      <th>Y</th>\n",
       "    </tr>\n",
       "  </thead>\n",
       "  <tbody>\n",
       "    <tr>\n",
       "      <th>0</th>\n",
       "      <td>0</td>\n",
       "      <td>0</td>\n",
       "      <td>0.999812</td>\n",
       "      <td>0.000188</td>\n",
       "      <td>dacarbazine</td>\n",
       "      <td>717906-29-1</td>\n",
       "      <td>A-673</td>\n",
       "      <td>684052</td>\n",
       "      <td>CN(C)N=NC1=C(NC=N1)C(=O)N</td>\n",
       "      <td>CN(C1=CC=CC=C1CNC2=NC(=NC=C2C(F)(F)F)NC3=CC4=C...</td>\n",
       "      <td>0</td>\n",
       "    </tr>\n",
       "    <tr>\n",
       "      <th>1</th>\n",
       "      <td>0</td>\n",
       "      <td>0</td>\n",
       "      <td>0.996824</td>\n",
       "      <td>0.003176</td>\n",
       "      <td>Nesbuvir</td>\n",
       "      <td>717906-29-1</td>\n",
       "      <td>A-673</td>\n",
       "      <td>684052</td>\n",
       "      <td>CNC(=O)C1=C(OC2=CC(=C(C=C21)C3CC3)N(CCO)S(=O)(...</td>\n",
       "      <td>CN(C1=CC=CC=C1CNC2=NC(=NC=C2C(F)(F)F)NC3=CC4=C...</td>\n",
       "      <td>0</td>\n",
       "    </tr>\n",
       "    <tr>\n",
       "      <th>2</th>\n",
       "      <td>0</td>\n",
       "      <td>0</td>\n",
       "      <td>0.838370</td>\n",
       "      <td>0.161630</td>\n",
       "      <td>Avagacestat</td>\n",
       "      <td>717906-29-1</td>\n",
       "      <td>A-673</td>\n",
       "      <td>684052</td>\n",
       "      <td>C1=CC(=CC=C1S(=O)(=O)N(CC2=C(C=C(C=C2)C3=NOC=N...</td>\n",
       "      <td>CN(C1=CC=CC=C1CNC2=NC(=NC=C2C(F)(F)F)NC3=CC4=C...</td>\n",
       "      <td>0</td>\n",
       "    </tr>\n",
       "    <tr>\n",
       "      <th>3</th>\n",
       "      <td>1</td>\n",
       "      <td>1</td>\n",
       "      <td>0.010439</td>\n",
       "      <td>0.989561</td>\n",
       "      <td>AT7519</td>\n",
       "      <td>PF-3758309</td>\n",
       "      <td>TC-71</td>\n",
       "      <td>1240221</td>\n",
       "      <td>C1CNCCC1NC(=O)C2=C(C=NN2)NC(=O)C3=C(C=CC=C3Cl)Cl</td>\n",
       "      <td>CC1=NC2=C(C(=N1)NC3=NNC4=C3CN(C4(C)C)C(=O)NC(C...</td>\n",
       "      <td>1</td>\n",
       "    </tr>\n",
       "    <tr>\n",
       "      <th>4</th>\n",
       "      <td>1</td>\n",
       "      <td>1</td>\n",
       "      <td>0.000052</td>\n",
       "      <td>0.999948</td>\n",
       "      <td>ZINC34894448</td>\n",
       "      <td>PF-3758309</td>\n",
       "      <td>TC-71</td>\n",
       "      <td>1240221</td>\n",
       "      <td>CCC1=C2N=C(C=C(N2N=C1)NCC3=C[N+](=CC=C3)[O-])N...</td>\n",
       "      <td>CC1=NC2=C(C(=N1)NC3=NNC4=C3CN(C4(C)C)C(=O)NC(C...</td>\n",
       "      <td>1</td>\n",
       "    </tr>\n",
       "    <tr>\n",
       "      <th>...</th>\n",
       "      <td>...</td>\n",
       "      <td>...</td>\n",
       "      <td>...</td>\n",
       "      <td>...</td>\n",
       "      <td>...</td>\n",
       "      <td>...</td>\n",
       "      <td>...</td>\n",
       "      <td>...</td>\n",
       "      <td>...</td>\n",
       "      <td>...</td>\n",
       "      <td>...</td>\n",
       "    </tr>\n",
       "    <tr>\n",
       "      <th>21013</th>\n",
       "      <td>0</td>\n",
       "      <td>0</td>\n",
       "      <td>0.976813</td>\n",
       "      <td>0.023187</td>\n",
       "      <td>AZD7762</td>\n",
       "      <td>AZD6738</td>\n",
       "      <td>VM-CUB-1</td>\n",
       "      <td>909780</td>\n",
       "      <td>C1CC(CNC1)NC(=O)C2=C(C=C(S2)C3=CC(=CC=C3)F)NC(...</td>\n",
       "      <td>CC1COCCN1C2=NC(=NC(=C2)C3(CC3)S(=N)(=O)C)C4=C5...</td>\n",
       "      <td>0</td>\n",
       "    </tr>\n",
       "    <tr>\n",
       "      <th>21014</th>\n",
       "      <td>0</td>\n",
       "      <td>0</td>\n",
       "      <td>0.989993</td>\n",
       "      <td>0.010007</td>\n",
       "      <td>AZD7762</td>\n",
       "      <td>AZD4547</td>\n",
       "      <td>VM-CUB-1</td>\n",
       "      <td>909780</td>\n",
       "      <td>C1CC(CNC1)NC(=O)C2=C(C=C(S2)C3=CC(=CC=C3)F)NC(...</td>\n",
       "      <td>CC1CN(CC(N1)C)C2=CC=C(C=C2)C(=O)NC3=NNC(=C3)CC...</td>\n",
       "      <td>0</td>\n",
       "    </tr>\n",
       "    <tr>\n",
       "      <th>21015</th>\n",
       "      <td>0</td>\n",
       "      <td>0</td>\n",
       "      <td>0.991160</td>\n",
       "      <td>0.008840</td>\n",
       "      <td>AZD7762</td>\n",
       "      <td>AZD2014</td>\n",
       "      <td>VM-CUB-1</td>\n",
       "      <td>909780</td>\n",
       "      <td>C1CC(CNC1)NC(=O)C2=C(C=C(S2)C3=CC(=CC=C3)F)NC(...</td>\n",
       "      <td>CC1COCCN1C2=NC(=NC3=C2C=CC(=N3)C4=CC(=CC=C4)C(...</td>\n",
       "      <td>0</td>\n",
       "    </tr>\n",
       "    <tr>\n",
       "      <th>21016</th>\n",
       "      <td>0</td>\n",
       "      <td>0</td>\n",
       "      <td>0.993270</td>\n",
       "      <td>0.006730</td>\n",
       "      <td>AZD-4877</td>\n",
       "      <td>Onalespib</td>\n",
       "      <td>VM-CUB-1</td>\n",
       "      <td>909780</td>\n",
       "      <td>CC1=CC=C(C=C1)C(=O)N(CCCN)C(C2=NC3=C(C(=NS3)C)...</td>\n",
       "      <td>CC(C)C1=C(C=C(C(=C1)C(=O)N2CC3=C(C2)C=C(C=C3)C...</td>\n",
       "      <td>0</td>\n",
       "    </tr>\n",
       "    <tr>\n",
       "      <th>21017</th>\n",
       "      <td>1</td>\n",
       "      <td>1</td>\n",
       "      <td>0.022664</td>\n",
       "      <td>0.977336</td>\n",
       "      <td>957054-30-7</td>\n",
       "      <td>Selumetinib</td>\n",
       "      <td>VM-CUB-1</td>\n",
       "      <td>909780</td>\n",
       "      <td>CS(=O)(=O)N1CCN(CC1)CC2=CC3=C(S2)C(=NC(=N3)C4=...</td>\n",
       "      <td>CN1C=NC2=C1C=C(C(=C2F)NC3=C(C=C(C=C3)Br)Cl)C(=...</td>\n",
       "      <td>1</td>\n",
       "    </tr>\n",
       "  </tbody>\n",
       "</table>\n",
       "<p>21018 rows × 11 columns</p>\n",
       "</div>"
      ],
      "text/plain": [
       "       true_class  pred_class  prob_score_class0  prob_score_class1  \\\n",
       "0               0           0           0.999812           0.000188   \n",
       "1               0           0           0.996824           0.003176   \n",
       "2               0           0           0.838370           0.161630   \n",
       "3               1           1           0.010439           0.989561   \n",
       "4               1           1           0.000052           0.999948   \n",
       "...           ...         ...                ...                ...   \n",
       "21013           0           0           0.976813           0.023187   \n",
       "21014           0           0           0.989993           0.010007   \n",
       "21015           0           0           0.991160           0.008840   \n",
       "21016           0           0           0.993270           0.006730   \n",
       "21017           1           1           0.022664           0.977336   \n",
       "\n",
       "           Drug1_ID     Drug2_ID Cell_Line_ID  Cosmic_ID  \\\n",
       "0       dacarbazine  717906-29-1        A-673     684052   \n",
       "1          Nesbuvir  717906-29-1        A-673     684052   \n",
       "2       Avagacestat  717906-29-1        A-673     684052   \n",
       "3            AT7519   PF-3758309        TC-71    1240221   \n",
       "4      ZINC34894448   PF-3758309        TC-71    1240221   \n",
       "...             ...          ...          ...        ...   \n",
       "21013       AZD7762      AZD6738     VM-CUB-1     909780   \n",
       "21014       AZD7762      AZD4547     VM-CUB-1     909780   \n",
       "21015       AZD7762      AZD2014     VM-CUB-1     909780   \n",
       "21016      AZD-4877    Onalespib     VM-CUB-1     909780   \n",
       "21017   957054-30-7  Selumetinib     VM-CUB-1     909780   \n",
       "\n",
       "                                                   Drug1  \\\n",
       "0                              CN(C)N=NC1=C(NC=N1)C(=O)N   \n",
       "1      CNC(=O)C1=C(OC2=CC(=C(C=C21)C3CC3)N(CCO)S(=O)(...   \n",
       "2      C1=CC(=CC=C1S(=O)(=O)N(CC2=C(C=C(C=C2)C3=NOC=N...   \n",
       "3       C1CNCCC1NC(=O)C2=C(C=NN2)NC(=O)C3=C(C=CC=C3Cl)Cl   \n",
       "4      CCC1=C2N=C(C=C(N2N=C1)NCC3=C[N+](=CC=C3)[O-])N...   \n",
       "...                                                  ...   \n",
       "21013  C1CC(CNC1)NC(=O)C2=C(C=C(S2)C3=CC(=CC=C3)F)NC(...   \n",
       "21014  C1CC(CNC1)NC(=O)C2=C(C=C(S2)C3=CC(=CC=C3)F)NC(...   \n",
       "21015  C1CC(CNC1)NC(=O)C2=C(C=C(S2)C3=CC(=CC=C3)F)NC(...   \n",
       "21016  CC1=CC=C(C=C1)C(=O)N(CCCN)C(C2=NC3=C(C(=NS3)C)...   \n",
       "21017  CS(=O)(=O)N1CCN(CC1)CC2=CC3=C(S2)C(=NC(=N3)C4=...   \n",
       "\n",
       "                                                   Drug2  Y  \n",
       "0      CN(C1=CC=CC=C1CNC2=NC(=NC=C2C(F)(F)F)NC3=CC4=C...  0  \n",
       "1      CN(C1=CC=CC=C1CNC2=NC(=NC=C2C(F)(F)F)NC3=CC4=C...  0  \n",
       "2      CN(C1=CC=CC=C1CNC2=NC(=NC=C2C(F)(F)F)NC3=CC4=C...  0  \n",
       "3      CC1=NC2=C(C(=N1)NC3=NNC4=C3CN(C4(C)C)C(=O)NC(C...  1  \n",
       "4      CC1=NC2=C(C(=N1)NC3=NNC4=C3CN(C4(C)C)C(=O)NC(C...  1  \n",
       "...                                                  ... ..  \n",
       "21013  CC1COCCN1C2=NC(=NC(=C2)C3(CC3)S(=N)(=O)C)C4=C5...  0  \n",
       "21014  CC1CN(CC(N1)C)C2=CC=C(C=C2)C(=O)NC3=NNC(=C3)CC...  0  \n",
       "21015  CC1COCCN1C2=NC(=NC3=C2C=CC(=N3)C4=CC(=CC=C4)C(...  0  \n",
       "21016  CC(C)C1=C(C=C(C(=C1)C(=O)N2CC3=C(C2)C=C(C=C3)C...  0  \n",
       "21017  CN1C=NC2=C1C=C(C(=C2F)NC3=C(C=C(C=C3)Br)Cl)C(=...  1  \n",
       "\n",
       "[21018 rows x 11 columns]"
      ]
     },
     "execution_count": 49,
     "metadata": {},
     "output_type": "execute_result"
    }
   ],
   "source": [
    "df_pred_TP_RI = df_pred_TP_RI.drop(columns=[\"index\"])\n",
    "df_pred_TP_RI"
   ]
  },
  {
   "cell_type": "code",
   "execution_count": 50,
   "metadata": {
    "scrolled": true
   },
   "outputs": [
    {
     "data": {
      "text/plain": [
       "COLO 800     1180\n",
       "A101D         973\n",
       "LOX IMVI      840\n",
       "RVH-421       820\n",
       "WM115         787\n",
       "             ... \n",
       "CAL-51          1\n",
       "KU-19-19        1\n",
       "NCI-H2126       1\n",
       "HCC1937         1\n",
       "HCC38           1\n",
       "Name: Cell_Line_ID, Length: 146, dtype: int64"
      ]
     },
     "execution_count": 50,
     "metadata": {},
     "output_type": "execute_result"
    }
   ],
   "source": [
    "df_pred_TP_RI.Cell_Line_ID.value_counts()"
   ]
  },
  {
   "cell_type": "code",
   "execution_count": null,
   "metadata": {},
   "outputs": [],
   "source": []
  },
  {
   "cell_type": "code",
   "execution_count": null,
   "metadata": {},
   "outputs": [],
   "source": []
  },
  {
   "cell_type": "code",
   "execution_count": 51,
   "metadata": {},
   "outputs": [],
   "source": [
    "df_pred_TP_zeros = df_pred_TP_RI[df_pred_TP_RI.true_class == 0]\n",
    "df_pred_TP_ones = df_pred_TP_RI[df_pred_TP_RI.true_class == 1]"
   ]
  },
  {
   "cell_type": "code",
   "execution_count": 52,
   "metadata": {},
   "outputs": [],
   "source": [
    "sel_CellLine = \"A101D\"\n",
    "sel_Drug1_ID = \"Navitoclax\"\n",
    "sel_Drug2_ID = \"Silmitasertib\" # Silmitasertib  Decitabine Dovitinib Fludarabine Cediranib "
   ]
  },
  {
   "cell_type": "code",
   "execution_count": 53,
   "metadata": {},
   "outputs": [
    {
     "name": "stdout",
     "output_type": "stream",
     "text": [
      "858\n",
      "115\n"
     ]
    }
   ],
   "source": [
    "df_pred_TP_CellLine_zeros = df_pred_TP_zeros[df_pred_TP_zeros.Cell_Line_ID == sel_CellLine]\n",
    "print(len(df_pred_TP_CellLine_zeros))\n",
    "\n",
    "df_pred_TP_CellLine_ones = df_pred_TP_ones[df_pred_TP_ones.Cell_Line_ID == sel_CellLine]\n",
    "print(len(df_pred_TP_CellLine_ones))\n",
    "\n",
    "df_pred_TP_Instance = df_pred_TP_RI[(df_pred_TP_RI.Cell_Line_ID == sel_CellLine) &\n",
    "                                 (df_pred_TP_RI.Drug1_ID == sel_Drug1_ID) & \n",
    "                                 (df_pred_TP_RI.Drug2_ID == sel_Drug2_ID)]"
   ]
  },
  {
   "cell_type": "code",
   "execution_count": 54,
   "metadata": {},
   "outputs": [
    {
     "data": {
      "text/html": [
       "<div>\n",
       "<style scoped>\n",
       "    .dataframe tbody tr th:only-of-type {\n",
       "        vertical-align: middle;\n",
       "    }\n",
       "\n",
       "    .dataframe tbody tr th {\n",
       "        vertical-align: top;\n",
       "    }\n",
       "\n",
       "    .dataframe thead th {\n",
       "        text-align: right;\n",
       "    }\n",
       "</style>\n",
       "<table border=\"1\" class=\"dataframe\">\n",
       "  <thead>\n",
       "    <tr style=\"text-align: right;\">\n",
       "      <th></th>\n",
       "      <th>true_class</th>\n",
       "      <th>pred_class</th>\n",
       "      <th>prob_score_class0</th>\n",
       "      <th>prob_score_class1</th>\n",
       "      <th>Drug1_ID</th>\n",
       "      <th>Drug2_ID</th>\n",
       "      <th>Cell_Line_ID</th>\n",
       "      <th>Cosmic_ID</th>\n",
       "      <th>Drug1</th>\n",
       "      <th>Drug2</th>\n",
       "      <th>Y</th>\n",
       "    </tr>\n",
       "  </thead>\n",
       "  <tbody>\n",
       "    <tr>\n",
       "      <th>12649</th>\n",
       "      <td>1</td>\n",
       "      <td>1</td>\n",
       "      <td>0.302058</td>\n",
       "      <td>0.697942</td>\n",
       "      <td>Navitoclax</td>\n",
       "      <td>Silmitasertib</td>\n",
       "      <td>A101D</td>\n",
       "      <td>910921</td>\n",
       "      <td>CC1(CCC(=C(C1)CN2CCN(CC2)C3=CC=C(C=C3)C(=O)NS(...</td>\n",
       "      <td>C1=CC(=CC(=C1)Cl)NC2=C3C=CN=CC3=C4C=CC(=CC4=N2...</td>\n",
       "      <td>1</td>\n",
       "    </tr>\n",
       "  </tbody>\n",
       "</table>\n",
       "</div>"
      ],
      "text/plain": [
       "       true_class  pred_class  prob_score_class0  prob_score_class1  \\\n",
       "12649           1           1           0.302058           0.697942   \n",
       "\n",
       "         Drug1_ID       Drug2_ID Cell_Line_ID  Cosmic_ID  \\\n",
       "12649  Navitoclax  Silmitasertib        A101D     910921   \n",
       "\n",
       "                                                   Drug1  \\\n",
       "12649  CC1(CCC(=C(C1)CN2CCN(CC2)C3=CC=C(C=C3)C(=O)NS(...   \n",
       "\n",
       "                                                   Drug2  Y  \n",
       "12649  C1=CC(=CC(=C1)Cl)NC2=C3C=CN=CC3=C4C=CC(=CC4=N2...  1  "
      ]
     },
     "execution_count": 54,
     "metadata": {},
     "output_type": "execute_result"
    }
   ],
   "source": [
    "df_pred_TP_Instance"
   ]
  },
  {
   "cell_type": "code",
   "execution_count": null,
   "metadata": {},
   "outputs": [],
   "source": []
  },
  {
   "cell_type": "markdown",
   "metadata": {},
   "source": [
    "### Run Attributions"
   ]
  },
  {
   "cell_type": "code",
   "execution_count": 57,
   "metadata": {},
   "outputs": [],
   "source": [
    "# attrAlgName = 'IntegratedGradients'\n",
    "attrAlgName = 'GradientShap'"
   ]
  },
  {
   "cell_type": "code",
   "execution_count": 58,
   "metadata": {},
   "outputs": [],
   "source": [
    "def spawn_q_process(q_process):\n",
    "    print(\">>> spawning hyperparam search process\")\n",
    "    q_process.start()\n",
    "    \n",
    "def join_q_process(q_process):\n",
    "    q_process.join()\n",
    "    print(\"<<< joined hyperparam search process\")\n",
    "    \n",
    "def create_q_process(queue, used_dataset, gpu_num, tphp, exp_dir, partition): #\n",
    "#     fold_gpu_map = {0:gpu_num}\n",
    "    return mp.Process(target=deepadr.hyphelperflat.run_exp_flat, args=(queue, used_dataset, gpu_num, tphp, exp_dir, partition)) #\n",
    "\n",
    "def create_q_process_attr(queue, x_np_norm, gpu_num, tphp, exp_dir, test_partition_TP, train_partition, labels, attrAlgName): #\n",
    "#     fold_gpu_map = {0:gpu_num}\n",
    "    return mp.Process(target=deepadr.hyphelperflat.run_attribution, args=(queue, x_np_norm, gpu_num, tphp, exp_dir, test_partition_TP, train_partition, labels, attrAlgName)) #"
   ]
  },
  {
   "cell_type": "code",
   "execution_count": 61,
   "metadata": {
    "scrolled": false
   },
   "outputs": [],
   "source": [
    "# import torch.multiprocessing as mp\n",
    "# mp.set_start_method(\"spawn\", force=True)\n",
    "\n",
    "# queue = mp.Queue()\n",
    "# # q_attr = mp.Queue()\n",
    "# q_processes = []\n",
    "\n",
    "# l_attr = []\n",
    "\n",
    "# # partition = fold_partitions[0]\n",
    "# # time_stamp = datetime.datetime.now().strftime('%Y-%m-%d_%H-%M-%S')\n",
    "\n",
    "# print(\"Time stamp: \" + time_stamp)\n",
    "\n",
    "# for q_i in range(min(n_gpu, len(fold_partitions))):\n",
    "# #     device_gpu = get_device(True, index=q_i)\n",
    "#     train_partition = fold_partitions[q_i]['train']\n",
    "#     test_partition = fold_partitions[q_i]['test']\n",
    "#     test_partition_TP = np.intersect1d(test_partition, df_pred_TP.index.values)\n",
    "# #     test_partition_TP_zeros = np.intersect1d(test_partition, df_pred_TP_zeros.index.values)\n",
    "# #     test_partition_TP_ones = np.intersect1d(test_partition, df_pred_TP_ones.index.values)\n",
    "#     exp_dir = create_directory(os.path.join(targetdata_dir_exp, \"fold_\"+str(q_i)+\"_\"+time_stamp))\n",
    "# #     create_directory(os.path.join(exp_dir, \"predictions\"))\n",
    "# #     create_directory(os.path.join(exp_dir, \"modelstates\"))\n",
    "#     create_directory(os.path.join(exp_dir, \"attributions\"))\n",
    "\n",
    "\n",
    "# #     tphp = generate_tp_hp(tp, hyperparam_space[q_i], hp_names)\n",
    "#     q_process = create_q_process_attr(queue,\n",
    "#                                       x_np_norm,\n",
    "#                                       q_i,\n",
    "#                                       tp,\n",
    "#                                       exp_dir,\n",
    "#                                       test_partition_TP,\n",
    "#                                       train_partition,\n",
    "#                                       y_np,\n",
    "#                                       attrAlgName)\n",
    "# #     q_process = create_q_process_attr(queue, x_np_norm, q_i, tp, exp_dir, (test_partition_TP_zeros, test_partition_TP_ones), y_np)\n",
    "#     q_processes.append(q_process)\n",
    "#     spawn_q_process(q_process)\n",
    "\n",
    "# spawned_processes = n_gpu\n",
    "    \n",
    "# # for q_i in range(len(hyperparam_space)):\n",
    "# for q_i in range(min(n_gpu, len(fold_partitions))):\n",
    "#     join_q_process(q_processes[q_i])\n",
    "#     released_gpu_num = queue.get()\n",
    "# #     l_attr.append(q_attr.get())\n",
    "#     print(\"released_gpu_num:\", released_gpu_num)\n",
    "# #     if(spawned_processes < len(hyperparam_space)):\n",
    "# # #         device_gpu = get_device(True, index=q_i)\n",
    "# #         time_stamp = datetime.datetime.now().strftime('%Y-%m-%d_%H-%M-%S')\n",
    "# #         exp_dir = create_directory(os.path.join(targetdata_dir_exp, \"exp_\"+str(q_i)+\"_\"+time_stamp))\n",
    "# #         tphp = generate_tp_hp(tp, hyperparam_space[q_i], hp_names)\n",
    "\n",
    "# #         q_process = create_q_process(queue, used_dataset, released_gpu_num, tphp, exp_dir, partition)\n",
    "# #         q_processes.append(q_process)\n",
    "# #         spawn_q_process(q_process)\n",
    "# #         spawned_processes = spawned_processes + 1"
   ]
  },
  {
   "cell_type": "code",
   "execution_count": 59,
   "metadata": {},
   "outputs": [
    {
     "name": "stdout",
     "output_type": "stream",
     "text": [
      "End: 2022-07-13_15-55-42\n"
     ]
    }
   ],
   "source": [
    "print(\"End: \" + datetime.datetime.now().strftime('%Y-%m-%d_%H-%M-%S'))"
   ]
  },
  {
   "cell_type": "markdown",
   "metadata": {},
   "source": [
    "### Load Attributions"
   ]
  },
  {
   "cell_type": "code",
   "execution_count": 60,
   "metadata": {},
   "outputs": [],
   "source": [
    "# sel_fold = 0"
   ]
  },
  {
   "cell_type": "code",
   "execution_count": 61,
   "metadata": {},
   "outputs": [
    {
     "name": "stdout",
     "output_type": "stream",
     "text": [
      "fold nr 2\n",
      "fold nr 3\n",
      "fold nr 4\n",
      "fold nr 0\n",
      "fold nr 1\n",
      "5 5\n"
     ]
    }
   ],
   "source": [
    "folds_min = []\n",
    "\n",
    "deltas_min = []\n",
    "\n",
    "for edir in exp_dirs:\n",
    "    fold = int(edir.split(\"/\")[-1].split('_')[1])\n",
    "    print(\"fold nr\", fold)\n",
    "    \n",
    "#     if (fold == sel_fold):\n",
    "\n",
    "    for labels in ['all']:\n",
    "\n",
    "        # Attributions\n",
    "        fold_attr_min = ReaderWriter.read_tensor(os.path.join(edir, 'attributions', f'{attrAlgName}_attributions_min_{labels}.tensor'), device_cpu)\n",
    "\n",
    "        attributions_min = fold_attr_min.detach().cpu().numpy()\n",
    "\n",
    "        df_attributions_min = pd.DataFrame(attributions_min)\n",
    "#         idx = np.intersect1d(fold_partitions[fold]['test'], df_pred_TP.index)\n",
    "        idx = fold_partitions_TP_test[fold]\n",
    "        df_attributions_min.index = idx\n",
    "\n",
    "        folds_min.append(df_attributions_min)\n",
    "\n",
    "        # Deltas\n",
    "        fold_deltas_min = ReaderWriter.read_tensor(os.path.join(edir, 'attributions', f'{attrAlgName}_deltas_min_{labels}.tensor'), device_cpu)\n",
    "\n",
    "        deltas_min_np = fold_deltas_min.detach().cpu().numpy()\n",
    "\n",
    "        if (attrAlgName == \"GradientShap\"):\n",
    "            deltas_min_np = np.mean(np.reshape(deltas_min_np, (-1, 5)), axis=1)\n",
    "\n",
    "        df_deltas_min = pd.Series(deltas_min_np)\n",
    "        df_deltas_min.index = idx\n",
    "\n",
    "        deltas_min.append(df_deltas_min)\n",
    "\n",
    "print(len(folds_min), len(deltas_min))"
   ]
  },
  {
   "cell_type": "code",
   "execution_count": 62,
   "metadata": {},
   "outputs": [
    {
     "name": "stdout",
     "output_type": "stream",
     "text": [
      "(21018, 926) (21018,)\n"
     ]
    }
   ],
   "source": [
    "concat_folds_min = pd.concat(folds_min, axis=0).sort_index()\n",
    "concat_deltas_min = pd.concat(deltas_min, axis=0).sort_index()\n",
    "\n",
    "print(concat_folds_min.shape, concat_deltas_min.shape)"
   ]
  },
  {
   "cell_type": "code",
   "execution_count": 63,
   "metadata": {},
   "outputs": [
    {
     "data": {
      "text/plain": [
       "0        0.444471\n",
       "1        0.650267\n",
       "2       -0.566543\n",
       "3        1.950083\n",
       "4       -0.774433\n",
       "           ...   \n",
       "21013    1.094977\n",
       "21014    0.002656\n",
       "21015   -3.470619\n",
       "21016    1.404737\n",
       "21017   -1.103345\n",
       "Length: 21018, dtype: float32"
      ]
     },
     "execution_count": 63,
     "metadata": {},
     "output_type": "execute_result"
    }
   ],
   "source": [
    "concat_deltas_min"
   ]
  },
  {
   "cell_type": "code",
   "execution_count": 64,
   "metadata": {},
   "outputs": [
    {
     "data": {
      "text/plain": [
       "<seaborn.axisgrid.FacetGrid at 0x14eb53039a30>"
      ]
     },
     "execution_count": 64,
     "metadata": {},
     "output_type": "execute_result"
    },
    {
     "data": {
      "image/png": "[encoded data removed]",
      "text/plain": [
       "<Figure size 360x360 with 1 Axes>"
      ]
     },
     "metadata": {
      "needs_background": "light"
     },
     "output_type": "display_data"
    }
   ],
   "source": [
    "sns.displot(concat_deltas_min)"
   ]
  },
  {
   "cell_type": "code",
   "execution_count": 65,
   "metadata": {},
   "outputs": [],
   "source": [
    "delta_thresh = 1.0"
   ]
  },
  {
   "cell_type": "code",
   "execution_count": 66,
   "metadata": {},
   "outputs": [
    {
     "name": "stdout",
     "output_type": "stream",
     "text": [
      "12487 21018\n"
     ]
    }
   ],
   "source": [
    "# sel_deltas = np.where(np.logical_and(concat_deltas_min>=-delta_thresh, concat_deltas_min<=delta_thresh))\n",
    "sel_deltas = concat_deltas_min[(concat_deltas_min>=-delta_thresh) & (concat_deltas_min<=delta_thresh)].index.values\n",
    "print(len(sel_deltas), len(concat_deltas_min))"
   ]
  },
  {
   "cell_type": "code",
   "execution_count": 67,
   "metadata": {},
   "outputs": [
    {
     "data": {
      "text/plain": [
       "array([    0,     1,     2, ..., 21010, 21011, 21014])"
      ]
     },
     "execution_count": 67,
     "metadata": {},
     "output_type": "execute_result"
    }
   ],
   "source": [
    "sel_deltas"
   ]
  },
  {
   "cell_type": "code",
   "execution_count": 68,
   "metadata": {},
   "outputs": [
    {
     "name": "stdout",
     "output_type": "stream",
     "text": [
      "(7739,) 12241\n",
      "(4748,) 8777\n",
      "(524,) 858\n",
      "(68,) 115\n"
     ]
    }
   ],
   "source": [
    "sel_idx_zeros = np.intersect1d(df_pred_TP_zeros.index, sel_deltas)\n",
    "sel_idx_ones = np.intersect1d(df_pred_TP_ones.index, sel_deltas)\n",
    "\n",
    "sel_idx_CellLine_zeros = np.intersect1d(df_pred_TP_CellLine_zeros.index, sel_deltas)\n",
    "sel_idx_CellLine_ones = np.intersect1d(df_pred_TP_CellLine_ones.index, sel_deltas)\n",
    "\n",
    "print(sel_idx_zeros.shape, len(df_pred_TP_zeros.index))\n",
    "print(sel_idx_ones.shape, len(df_pred_TP_ones.index))\n",
    "\n",
    "print(sel_idx_CellLine_zeros.shape, len(df_pred_TP_CellLine_zeros.index))\n",
    "print(sel_idx_CellLine_ones.shape, len(df_pred_TP_CellLine_ones.index))"
   ]
  },
  {
   "cell_type": "code",
   "execution_count": 69,
   "metadata": {},
   "outputs": [
    {
     "data": {
      "text/plain": [
       "array([    0,     1,     2, ..., 20998, 21011, 21014])"
      ]
     },
     "execution_count": 69,
     "metadata": {},
     "output_type": "execute_result"
    }
   ],
   "source": [
    "sel_idx_zeros"
   ]
  },
  {
   "cell_type": "code",
   "execution_count": 70,
   "metadata": {},
   "outputs": [
    {
     "data": {
      "text/plain": [
       "(21018, 926)"
      ]
     },
     "execution_count": 70,
     "metadata": {},
     "output_type": "execute_result"
    }
   ],
   "source": [
    "test_features_TP = np.take(x_np_norm, df_pred_TP.index.values, axis=0)\n",
    "test_features_TP.shape"
   ]
  },
  {
   "cell_type": "code",
   "execution_count": 71,
   "metadata": {
    "scrolled": true
   },
   "outputs": [
    {
     "name": "stdout",
     "output_type": "stream",
     "text": [
      "(7739, 926)\n",
      "(4748, 926)\n",
      "(524, 926)\n",
      "(68, 926)\n",
      "(1, 926)\n"
     ]
    }
   ],
   "source": [
    "test_features_TP_zeros_delta_thresh = np.take(test_features_TP, sel_idx_zeros, axis=0)\n",
    "print(test_features_TP_zeros_delta_thresh.shape)\n",
    "\n",
    "test_features_TP_ones_delta_thresh = np.take(test_features_TP, sel_idx_ones, axis=0)\n",
    "print(test_features_TP_ones_delta_thresh.shape)\n",
    "\n",
    "test_features_TP_CellLine_zeros_delta_thresh = np.take(test_features_TP, sel_idx_CellLine_zeros, axis=0)\n",
    "print(test_features_TP_CellLine_zeros_delta_thresh.shape)\n",
    "\n",
    "test_features_TP_CellLine_ones_delta_thresh = np.take(test_features_TP, sel_idx_CellLine_ones, axis=0)\n",
    "print(test_features_TP_CellLine_ones_delta_thresh.shape)\n",
    "\n",
    "test_features_TP_Instance = np.take(test_features_TP, df_pred_TP_Instance.index, axis=0)\n",
    "print(test_features_TP_Instance.shape)"
   ]
  },
  {
   "cell_type": "code",
   "execution_count": 72,
   "metadata": {},
   "outputs": [
    {
     "data": {
      "text/plain": [
       "array([[ 2.72215959e-02,  0.00000000e+00, -1.08046986e-01, ...,\n",
       "        -3.74124432e-03, -2.80874083e-03, -5.83763327e-03],\n",
       "       [ 3.64424169e-01,  0.00000000e+00, -2.72381902e-01, ...,\n",
       "         3.30555858e-03, -1.03453016e-02,  6.92967093e-03],\n",
       "       [ 2.62968272e-01, -7.27464318e-01,  1.15868187e+00, ...,\n",
       "        -4.22136253e-03,  2.06375844e-03, -5.88342128e-03],\n",
       "       ...,\n",
       "       [ 1.29564106e-01,  0.00000000e+00,  3.42033356e-01, ...,\n",
       "         1.76101290e-02, -1.12227416e-02,  1.15031074e-03],\n",
       "       [ 1.87911820e-02,  0.00000000e+00, -3.38993706e-02, ...,\n",
       "         2.02373578e-03,  1.51831014e-02,  8.98659416e-03],\n",
       "       [-2.04806570e-02,  0.00000000e+00,  1.20519377e-01, ...,\n",
       "        -1.01823593e-04,  9.18076094e-03, -4.37302573e-04]], dtype=float32)"
      ]
     },
     "execution_count": 72,
     "metadata": {},
     "output_type": "execute_result"
    }
   ],
   "source": [
    "concat_folds_min.loc[sel_idx_zeros].values"
   ]
  },
  {
   "cell_type": "code",
   "execution_count": 101,
   "metadata": {},
   "outputs": [
    {
     "name": "stdout",
     "output_type": "stream",
     "text": [
      "(7739, 926)\n",
      "(4748, 926)\n",
      "(524, 926)\n",
      "(68, 926)\n",
      "(1, 926)\n"
     ]
    }
   ],
   "source": [
    "# concat_folds_min_zeros_delta_thresh = np.take(concat_folds_min, sel_idx_zeros, axis=0).values\n",
    "concat_folds_min_zeros_delta_thresh = concat_folds_min.loc[sel_idx_zeros].values\n",
    "print(concat_folds_min_zeros_delta_thresh.shape)\n",
    "\n",
    "# concat_folds_min_ones_delta_thresh = np.take(concat_folds_min, sel_idx_ones, axis=0).values\n",
    "concat_folds_min_ones_delta_thresh = concat_folds_min.loc[sel_idx_ones].values\n",
    "print(concat_folds_min_ones_delta_thresh.shape)\n",
    "\n",
    "# concat_folds_min_CellLine_zeros_delta_thresh = np.take(concat_folds_min, sel_idx_CellLine_zeros, axis=0).values\n",
    "concat_folds_min_CellLine_zeros_delta_thresh = concat_folds_min.loc[sel_idx_CellLine_zeros].values\n",
    "print(concat_folds_min_CellLine_zeros_delta_thresh.shape)\n",
    "\n",
    "# concat_folds_min_CellLine_ones_delta_thresh = np.take(concat_folds_min, sel_idx_CellLine_ones, axis=0).values\n",
    "concat_folds_min_CellLine_ones_delta_thresh = concat_folds_min.loc[sel_idx_CellLine_ones].values\n",
    "print(concat_folds_min_CellLine_ones_delta_thresh.shape)\n",
    "\n",
    "concat_folds_min_Instance = np.take(concat_folds_min, df_pred_TP_Instance.index, axis=0).values\n",
    "concat_folds_min_Instance = concat_folds_min.loc[df_pred_TP_Instance.index].values\n",
    "print(concat_folds_min_Instance.shape)"
   ]
  },
  {
   "cell_type": "code",
   "execution_count": null,
   "metadata": {},
   "outputs": [],
   "source": []
  },
  {
   "cell_type": "markdown",
   "metadata": {},
   "source": [
    "### Plots"
   ]
  },
  {
   "cell_type": "code",
   "execution_count": 102,
   "metadata": {},
   "outputs": [],
   "source": [
    "import shap"
   ]
  },
  {
   "cell_type": "code",
   "execution_count": 103,
   "metadata": {},
   "outputs": [],
   "source": [
    "# source: https://github.com/snap-stanford/ogb/blob/68a303f320220cda859e83e3a8660f2b9debedf6/ogb/utils/features.py#L52\n",
    "\n",
    "atomic_features = ['AtomicNum', 'ChiralTag', 'TotalDegree', \n",
    "                   'FormalCharge', 'TotalNumHs', 'NumRadicalElectrons',\n",
    "                   'Hybridization', 'IsAromatic', 'IsInRing']"
   ]
  },
  {
   "cell_type": "code",
   "execution_count": 104,
   "metadata": {},
   "outputs": [],
   "source": [
    "nr_drug_feat = len(atomic_features)*2"
   ]
  },
  {
   "cell_type": "code",
   "execution_count": 105,
   "metadata": {},
   "outputs": [],
   "source": [
    "def list_prefix(l, pre):\n",
    "    return [pre+i for i in l]"
   ]
  },
  {
   "cell_type": "code",
   "execution_count": 106,
   "metadata": {},
   "outputs": [
    {
     "data": {
      "text/plain": [
       "926"
      ]
     },
     "execution_count": 106,
     "metadata": {},
     "output_type": "execute_result"
    }
   ],
   "source": [
    "gene_gex = pd.read_csv('../../data/preprocessing/gene_gex.tsv', sep='\\t')\n",
    "all_feat = list_prefix(atomic_features, \"Drug1_\")+list_prefix(atomic_features, \"Drug2_\")+list(gene_gex.GENE_SYMBOLS)\n",
    "len(all_feat)"
   ]
  },
  {
   "cell_type": "code",
   "execution_count": null,
   "metadata": {},
   "outputs": [],
   "source": []
  },
  {
   "cell_type": "code",
   "execution_count": 107,
   "metadata": {},
   "outputs": [],
   "source": [
    "# Helper method to print importances and visualize distribution\n",
    "def visualize_importances(feature_names, importances, title=\"\", plot=True, orient=\"v\", printvals=False):\n",
    "    if printvals:\n",
    "        print(title)\n",
    "        for i in range(len(feature_names)):\n",
    "            print(feature_names[i], \": \", '%.3f'%(importances[i]))\n",
    "    \n",
    "    if plot:\n",
    "        x_pos = (np.arange(len(feature_names)))\n",
    "        if (orient == \"v\"):\n",
    "            plt.figure(figsize=(5,10))\n",
    "            plt.barh(x_pos, importances, align='center')\n",
    "            plt.yticks(x_pos, feature_names, wrap=True)\n",
    "            plt.ylabel(\"Features\")\n",
    "            plt.xlabel(\"Avg. Feature Attributions\")\n",
    "            plt.title(title)\n",
    "        elif (orient == \"h\"):\n",
    "            plt.figure(figsize=(60,20))\n",
    "            plt.bar(x_pos, importances, align='center')\n",
    "            plt.xticks(x_pos, feature_names, wrap=True)\n",
    "            plt.xlabel(\"Features\")\n",
    "            plt.ylabel(\"Avg. Feature Attributions\")\n",
    "            plt.title(title)"
   ]
  },
  {
   "cell_type": "code",
   "execution_count": 108,
   "metadata": {},
   "outputs": [],
   "source": [
    "def viz_top_importances(feature_names, importances, nr_feat, title):\n",
    "    ser = pd.Series(np.mean(importances, axis=0))\n",
    "    ser.index= feature_names\n",
    "    ser = ser.sort_values(ascending=False, key=abs).head(nr_feat)\n",
    "    ser = ser.sort_values(ascending=True, key=abs)\n",
    "#     print(ser)\n",
    "    visualize_importances(ser.index, ser.values, title)"
   ]
  },
  {
   "cell_type": "markdown",
   "metadata": {},
   "source": [
    "### Attributions 0s, 1s, separately"
   ]
  },
  {
   "cell_type": "code",
   "execution_count": 129,
   "metadata": {
    "scrolled": false
   },
   "outputs": [],
   "source": [
    "# shap.summary_plot(concat_folds_min_zeros_delta_thresh[:, :nr_drug_feat],\n",
    "#                   test_features_TP_zeros_delta_thresh[:, :nr_drug_feat],\n",
    "#                   feature_names=all_feat[:nr_drug_feat],\n",
    "#                   max_display=nr_drug_feat, show=False)\n",
    "# plt.title(\"Baseline (0's): Min values\")\n",
    "# plt.xlabel(\"Attribution\")\n",
    "# plt.show()"
   ]
  },
  {
   "cell_type": "code",
   "execution_count": 130,
   "metadata": {
    "scrolled": false
   },
   "outputs": [],
   "source": [
    "# shap.summary_plot(concat_folds_min_zeros_delta_thresh[:, nr_drug_feat:],\n",
    "#                   test_features_TP_zeros_delta_thresh[:, nr_drug_feat:],\n",
    "#                   feature_names=all_feat[nr_drug_feat:],\n",
    "#                   max_display=nr_drug_feat, show=False)\n",
    "# plt.title(\"Baseline (0's): Min values\")\n",
    "# plt.xlabel(\"Attribution\")\n",
    "# plt.show()"
   ]
  },
  {
   "cell_type": "code",
   "execution_count": 131,
   "metadata": {},
   "outputs": [],
   "source": [
    "# viz_top_importances(feature_names=all_feat[:nr_drug_feat],\n",
    "#                     importances=concat_folds_min_zeros_delta_thresh[:, :nr_drug_feat],\n",
    "#                     nr_feat=nr_drug_feat,\n",
    "#                     title=\"Baseline (0's): Min values\")"
   ]
  },
  {
   "cell_type": "code",
   "execution_count": 132,
   "metadata": {},
   "outputs": [],
   "source": [
    "# viz_top_importances(feature_names=all_feat[nr_drug_feat:],\n",
    "#                     importances=concat_folds_min_zeros_delta_thresh[:, nr_drug_feat:],\n",
    "#                     nr_feat=nr_drug_feat,\n",
    "#                     title=\"Baseline (0's): Min values\")"
   ]
  },
  {
   "cell_type": "code",
   "execution_count": null,
   "metadata": {},
   "outputs": [],
   "source": []
  },
  {
   "cell_type": "code",
   "execution_count": 146,
   "metadata": {},
   "outputs": [
    {
     "data": {
      "image/png": "[encoded data removed]",
      "text/plain": [
       "<Figure size 800x870 with 1 Axes>"
      ]
     },
     "metadata": {},
     "output_type": "display_data"
    }
   ],
   "source": [
    "shap.summary_plot(concat_folds_min_ones_delta_thresh[:, :nr_drug_feat],\n",
    "                  test_features_TP_ones_delta_thresh[:, :nr_drug_feat],\n",
    "                  feature_names=all_feat[:nr_drug_feat],\n",
    "                  max_display=nr_drug_feat, show=False, plot_type=\"bar\")\n",
    "plt.title(\"Drug Features\")\n",
    "# plt.xlabel(\"Attribution\")\n",
    "plt.show()"
   ]
  },
  {
   "cell_type": "code",
   "execution_count": 147,
   "metadata": {},
   "outputs": [
    {
     "data": {
      "image/png": "[encoded data removed]",
      "text/plain": [
       "<Figure size 800x870 with 1 Axes>"
      ]
     },
     "metadata": {},
     "output_type": "display_data"
    }
   ],
   "source": [
    "shap.summary_plot(concat_folds_min_ones_delta_thresh[:, nr_drug_feat:],\n",
    "                  test_features_TP_ones_delta_thresh[:, nr_drug_feat:],\n",
    "                  feature_names=all_feat[nr_drug_feat:],\n",
    "                  max_display=nr_drug_feat, show=False, plot_type=\"bar\")\n",
    "plt.title(\"Gene Features\")\n",
    "# plt.xlabel(\"Attribution\")\n",
    "plt.show()"
   ]
  },
  {
   "cell_type": "code",
   "execution_count": 148,
   "metadata": {},
   "outputs": [],
   "source": [
    "# viz_top_importances(feature_names=all_feat[:nr_drug_feat],\n",
    "#                     importances=concat_folds_min_ones_delta_thresh[:, :nr_drug_feat],\n",
    "#                     nr_feat=nr_drug_feat,\n",
    "#                     title=\"Baseline (1's): Min values\")"
   ]
  },
  {
   "cell_type": "code",
   "execution_count": 149,
   "metadata": {},
   "outputs": [],
   "source": [
    "# viz_top_importances(feature_names=all_feat[nr_drug_feat:],\n",
    "#                     importances=concat_folds_min_ones_delta_thresh[:, nr_drug_feat:],\n",
    "#                     nr_feat=nr_drug_feat,\n",
    "#                     title=\"Baseline (1's): Min values\")"
   ]
  },
  {
   "cell_type": "code",
   "execution_count": null,
   "metadata": {},
   "outputs": [],
   "source": []
  },
  {
   "cell_type": "code",
   "execution_count": null,
   "metadata": {},
   "outputs": [],
   "source": []
  },
  {
   "cell_type": "code",
   "execution_count": null,
   "metadata": {},
   "outputs": [],
   "source": []
  },
  {
   "cell_type": "markdown",
   "metadata": {},
   "source": [
    "### Attributions for Cell Line"
   ]
  },
  {
   "cell_type": "code",
   "execution_count": 117,
   "metadata": {},
   "outputs": [],
   "source": [
    "# shap.summary_plot(concat_folds_min_CellLine_zeros_delta_thresh[:, :nr_drug_feat],\n",
    "#                   test_features_TP_CellLine_zeros_delta_thresh[:, :nr_drug_feat],\n",
    "#                   feature_names=all_feat[:nr_drug_feat],\n",
    "#                   max_display=nr_drug_feat, show=False)\n",
    "# plt.title(f\"Baseline (0's) for Cell Line ({sel_CellLine}): Min values\")\n",
    "# plt.xlabel(\"Attribution\")\n",
    "# plt.show()"
   ]
  },
  {
   "cell_type": "code",
   "execution_count": 118,
   "metadata": {},
   "outputs": [],
   "source": [
    "# shap.summary_plot(concat_folds_min_CellLine_zeros_delta_thresh[:, nr_drug_feat:],\n",
    "#                   test_features_TP_CellLine_zeros_delta_thresh[:, nr_drug_feat:],\n",
    "#                   feature_names=all_feat[nr_drug_feat:],\n",
    "#                   max_display=nr_drug_feat, show=False)\n",
    "# plt.title(f\"Baseline (0's) for Cell Line ({sel_CellLine}): Min values\")\n",
    "# plt.xlabel(\"Attribution\")\n",
    "# plt.show()"
   ]
  },
  {
   "cell_type": "code",
   "execution_count": 150,
   "metadata": {},
   "outputs": [],
   "source": [
    "# viz_top_importances(feature_names=all_feat[:nr_drug_feat],\n",
    "#                     importances=concat_folds_min_CellLine_zeros_delta_thresh[:, :nr_drug_feat],\n",
    "#                     nr_feat=nr_drug_feat,\n",
    "#                     title=f\"Baseline (0's) for Cell Line ({sel_CellLine}): Min values\")"
   ]
  },
  {
   "cell_type": "code",
   "execution_count": 151,
   "metadata": {},
   "outputs": [],
   "source": [
    "# viz_top_importances(feature_names=all_feat[nr_drug_feat:],\n",
    "#                     importances=concat_folds_min_CellLine_zeros_delta_thresh[:, nr_drug_feat:],\n",
    "#                     nr_feat=nr_drug_feat,\n",
    "#                     title=f\"Baseline (0's) for Cell Line ({sel_CellLine}): Min values\")"
   ]
  },
  {
   "cell_type": "code",
   "execution_count": null,
   "metadata": {},
   "outputs": [],
   "source": []
  },
  {
   "cell_type": "code",
   "execution_count": 155,
   "metadata": {},
   "outputs": [
    {
     "data": {
      "image/png": "[encoded data removed]",
      "text/plain": [
       "<Figure size 800x870 with 1 Axes>"
      ]
     },
     "metadata": {},
     "output_type": "display_data"
    }
   ],
   "source": [
    "shap.summary_plot(concat_folds_min_CellLine_ones_delta_thresh[:, :nr_drug_feat],\n",
    "                  test_features_TP_CellLine_ones_delta_thresh[:, :nr_drug_feat],\n",
    "                  feature_names=all_feat[:nr_drug_feat],\n",
    "                  max_display=nr_drug_feat, show=False, plot_type=\"bar\")\n",
    "plt.title(f\"Drug Features for Cell Line ({sel_CellLine})\")\n",
    "# plt.xlabel(\"Attribution\")\n",
    "plt.show()"
   ]
  },
  {
   "cell_type": "code",
   "execution_count": 153,
   "metadata": {},
   "outputs": [
    {
     "data": {
      "image/png": "[encoded data removed]",
      "text/plain": [
       "<Figure size 800x870 with 1 Axes>"
      ]
     },
     "metadata": {},
     "output_type": "display_data"
    }
   ],
   "source": [
    "shap.summary_plot(concat_folds_min_CellLine_ones_delta_thresh[:, nr_drug_feat:],\n",
    "                  test_features_TP_CellLine_ones_delta_thresh[:, nr_drug_feat:],\n",
    "                  feature_names=all_feat[nr_drug_feat:],\n",
    "                  max_display=nr_drug_feat, show=False, plot_type=\"bar\")\n",
    "plt.title(f\"Gene Features for Cell Line ({sel_CellLine})\")\n",
    "# plt.xlabel(\"Attribution\")\n",
    "plt.show()"
   ]
  },
  {
   "cell_type": "code",
   "execution_count": 156,
   "metadata": {},
   "outputs": [],
   "source": [
    "# viz_top_importances(feature_names=all_feat[:nr_drug_feat],\n",
    "#                     importances=concat_folds_min_CellLine_ones_delta_thresh[:, :nr_drug_feat],\n",
    "#                     nr_feat=nr_drug_feat,\n",
    "#                     title=f\"Baseline (1's) for Cell Line ({sel_CellLine}): Min values\")"
   ]
  },
  {
   "cell_type": "code",
   "execution_count": 157,
   "metadata": {},
   "outputs": [],
   "source": [
    "# viz_top_importances(feature_names=all_feat[nr_drug_feat:],\n",
    "#                     importances=concat_folds_min_CellLine_ones_delta_thresh[:, nr_drug_feat:],\n",
    "#                     nr_feat=nr_drug_feat,\n",
    "#                     title=f\"Baseline (1's) for Cell Line ({sel_CellLine}): Min values\")"
   ]
  },
  {
   "cell_type": "code",
   "execution_count": null,
   "metadata": {},
   "outputs": [],
   "source": []
  },
  {
   "cell_type": "code",
   "execution_count": null,
   "metadata": {},
   "outputs": [],
   "source": []
  },
  {
   "cell_type": "markdown",
   "metadata": {},
   "source": [
    "### Attributions for Instance"
   ]
  },
  {
   "cell_type": "code",
   "execution_count": 159,
   "metadata": {},
   "outputs": [
    {
     "data": {
      "image/png": "[encoded data removed]",
      "text/plain": [
       "<Figure size 800x870 with 1 Axes>"
      ]
     },
     "metadata": {},
     "output_type": "display_data"
    }
   ],
   "source": [
    "shap.summary_plot(concat_folds_min_Instance[:, :nr_drug_feat],\n",
    "                  test_features_TP_Instance[:, :nr_drug_feat],\n",
    "                  feature_names=all_feat[:nr_drug_feat],\n",
    "                  max_display=nr_drug_feat, show=False, plot_type=\"bar\")\n",
    "plt.title(f\"Drug Features for Drugs ({sel_Drug1_ID}, {sel_Drug2_ID}) in Cell Line ({sel_CellLine})\")\n",
    "# plt.xlabel(\"Attribution\")\n",
    "plt.show()"
   ]
  },
  {
   "cell_type": "code",
   "execution_count": 160,
   "metadata": {},
   "outputs": [
    {
     "data": {
      "image/png": "[encoded data removed]",
      "text/plain": [
       "<Figure size 800x870 with 1 Axes>"
      ]
     },
     "metadata": {},
     "output_type": "display_data"
    }
   ],
   "source": [
    "shap.summary_plot(concat_folds_min_Instance[:, nr_drug_feat:],\n",
    "                  test_features_TP_Instance[:, nr_drug_feat:],\n",
    "                  feature_names=all_feat[nr_drug_feat:],\n",
    "                  max_display=nr_drug_feat, show=False, plot_type=\"bar\")\n",
    "plt.title(f\"Gene Features for Drugs ({sel_Drug1_ID}, {sel_Drug2_ID}) in Cell Line ({sel_CellLine})\")\n",
    "# plt.xlabel(\"Attribution\")\n",
    "plt.show()"
   ]
  },
  {
   "cell_type": "code",
   "execution_count": 161,
   "metadata": {},
   "outputs": [],
   "source": [
    "# viz_top_importances(feature_names=all_feat[:nr_drug_feat],\n",
    "#                     importances=concat_folds_min_Instance[:, :nr_drug_feat],\n",
    "#                     nr_feat=nr_drug_feat,\n",
    "#                     title=f\"Combniation ({sel_Drug1_ID}, {sel_Drug2_ID}) in Cell Line ({sel_CellLine})\")"
   ]
  },
  {
   "cell_type": "code",
   "execution_count": 162,
   "metadata": {},
   "outputs": [],
   "source": [
    "# viz_top_importances(feature_names=all_feat[nr_drug_feat:],\n",
    "#                     importances=concat_folds_min_Instance[:, nr_drug_feat:],\n",
    "#                     nr_feat=nr_drug_feat,\n",
    "#                     title=f\"Combniation ({sel_Drug1_ID}, {sel_Drug2_ID}) in Cell Line ({sel_CellLine})\")"
   ]
  },
  {
   "cell_type": "code",
   "execution_count": null,
   "metadata": {},
   "outputs": [],
   "source": []
  }
 ],
 "metadata": {
  "kernelspec": {
   "display_name": "Python 3 (ipykernel)",
   "language": "python",
   "name": "python3"
  },
  "language_info": {
   "codemirror_mode": {
    "name": "ipython",
    "version": 3
   },
   "file_extension": ".py",
   "mimetype": "text/x-python",
   "name": "python",
   "nbconvert_exporter": "python",
   "pygments_lexer": "ipython3",
   "version": "3.9.9"
  }
 },
 "nbformat": 4,
 "nbformat_minor": 4
}
