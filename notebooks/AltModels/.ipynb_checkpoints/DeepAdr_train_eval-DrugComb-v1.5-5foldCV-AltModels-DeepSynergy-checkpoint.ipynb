{
 "cells": [
  {
   "cell_type": "code",
   "execution_count": 1,
   "metadata": {
    "scrolled": false
   },
   "outputs": [],
   "source": [
    "%load_ext autoreload\n",
    "%autoreload 2"
   ]
  },
  {
   "cell_type": "code",
   "execution_count": 2,
   "metadata": {},
   "outputs": [],
   "source": [
    "import os\n",
    "import sys\n",
    "import numpy as np\n",
    "import pandas as pd\n",
    "import datetime\n",
    "import seaborn as sns\n",
    "import ogb\n",
    "from tqdm import tqdm\n",
    "import hiplot as hip\n",
    "from copy import deepcopy\n",
    "import datetime"
   ]
  },
  {
   "cell_type": "code",
   "execution_count": 3,
   "metadata": {},
   "outputs": [],
   "source": [
    "pd.set_option('display.max_rows', 10)"
   ]
  },
  {
   "cell_type": "code",
   "execution_count": 4,
   "metadata": {},
   "outputs": [],
   "source": [
    "import torch\n",
    "from torch_geometric.data import Data\n",
    "from torch_geometric.loader import DataLoader\n",
    "from torch.utils.data import Subset, TensorDataset"
   ]
  },
  {
   "cell_type": "code",
   "execution_count": 5,
   "metadata": {},
   "outputs": [
    {
     "name": "stdout",
     "output_type": "stream",
     "text": [
      "/cluster/work/medinfmk/lm1-homes/skyriakos-lm1-home/data_to_migrate/chemprop_run/git/notebooks/AltModels\n",
      "/cluster/work/medinfmk/lm1-homes/skyriakos-lm1-home/data_to_migrate/chemprop_run/git\n"
     ]
    }
   ],
   "source": [
    "cwd = os.getcwd()\n",
    "print(cwd)\n",
    "# cwd_parent = os.path.abspath(os.path.join(cwd, os.pardir))\n",
    "cwd_parent = os.path.abspath(os.path.join(cwd, '../../'))\n",
    "print(cwd_parent)\n",
    "\n",
    "sys.path.append(cwd_parent)"
   ]
  },
  {
   "cell_type": "code",
   "execution_count": 6,
   "metadata": {},
   "outputs": [],
   "source": [
    "import deepadr\n",
    "from deepadr.dataset import *\n",
    "from deepadr.utilities import *\n",
    "from deepadr.run_workflow import *\n",
    "from deepadr.chemfeatures import *\n",
    "from deepadr.hyphelperflat import *\n",
    "from deepadr.model_gnn_ogb import GNN, DeepAdr_SiameseTrf, ExpressionNN\n",
    "from ogb.graphproppred import Evaluator"
   ]
  },
  {
   "cell_type": "code",
   "execution_count": 7,
   "metadata": {},
   "outputs": [],
   "source": [
    "from rdkit.Chem.Draw import IPythonConsole\n",
    "from rdkit.Chem import Draw"
   ]
  },
  {
   "cell_type": "code",
   "execution_count": 8,
   "metadata": {},
   "outputs": [],
   "source": [
    "rawdata_dir = '../data/raw/'\n",
    "processed_dir = '../data/processed/'\n",
    "up_dir = '..'"
   ]
  },
  {
   "cell_type": "code",
   "execution_count": 9,
   "metadata": {
    "scrolled": true
   },
   "outputs": [
    {
     "name": "stdout",
     "output_type": "stream",
     "text": [
      "number of GPUs available: 5\n",
      "cuda:0, name:NVIDIA GeForce GTX 1080 Ti\n",
      "total memory available: 10.91656494140625 GB\n",
      "total memory allocated on device: 0.0 GB\n",
      "max memory allocated on device: 0.0 GB\n",
      "total memory cached on device: 0.0 GB\n",
      "max memory cached  on device: 0.0 GB\n",
      "\n",
      "cuda:1, name:NVIDIA GeForce GTX 1080 Ti\n",
      "total memory available: 10.91656494140625 GB\n",
      "total memory allocated on device: 0.0 GB\n",
      "max memory allocated on device: 0.0 GB\n",
      "total memory cached on device: 0.0 GB\n",
      "max memory cached  on device: 0.0 GB\n",
      "\n",
      "cuda:2, name:NVIDIA GeForce GTX 1080 Ti\n",
      "total memory available: 10.91656494140625 GB\n",
      "total memory allocated on device: 0.0 GB\n",
      "max memory allocated on device: 0.0 GB\n",
      "total memory cached on device: 0.0 GB\n",
      "max memory cached  on device: 0.0 GB\n",
      "\n",
      "cuda:3, name:NVIDIA GeForce GTX 1080 Ti\n",
      "total memory available: 10.91656494140625 GB\n",
      "total memory allocated on device: 0.0 GB\n",
      "max memory allocated on device: 0.0 GB\n",
      "total memory cached on device: 0.0 GB\n",
      "max memory cached  on device: 0.0 GB\n",
      "\n",
      "cuda:4, name:NVIDIA GeForce GTX 1080 Ti\n",
      "total memory available: 10.91656494140625 GB\n",
      "total memory allocated on device: 0.0 GB\n",
      "max memory allocated on device: 0.0 GB\n",
      "total memory cached on device: 0.0 GB\n",
      "max memory cached  on device: 0.0 GB\n",
      "\n"
     ]
    }
   ],
   "source": [
    "report_available_cuda_devices()"
   ]
  },
  {
   "cell_type": "code",
   "execution_count": 10,
   "metadata": {},
   "outputs": [
    {
     "data": {
      "text/plain": [
       "5"
      ]
     },
     "execution_count": 10,
     "metadata": {},
     "output_type": "execute_result"
    }
   ],
   "source": [
    "n_gpu = torch.cuda.device_count()\n",
    "n_gpu"
   ]
  },
  {
   "cell_type": "code",
   "execution_count": 11,
   "metadata": {},
   "outputs": [],
   "source": [
    "device_cpu = get_device(to_gpu=False)\n",
    "# device_gpu = get_device(True, index=0)\n",
    "\n",
    "# fdtype = torch.float32"
   ]
  },
  {
   "cell_type": "code",
   "execution_count": 12,
   "metadata": {},
   "outputs": [
    {
     "name": "stdout",
     "output_type": "stream",
     "text": [
      "torch: 1.11.0+cu115\n",
      "CUDA: 11.5\n",
      "3.8.10 (default, Jun 22 2022, 20:18:18) \n",
      "[GCC 9.4.0]\n"
     ]
    }
   ],
   "source": [
    "print(\"torch:\", torch.__version__)\n",
    "print(\"CUDA:\", torch.version.cuda)\n",
    "print(sys.version)"
   ]
  },
  {
   "cell_type": "markdown",
   "metadata": {},
   "source": [
    "### Preparing dataset "
   ]
  },
  {
   "cell_type": "code",
   "execution_count": 13,
   "metadata": {},
   "outputs": [],
   "source": [
    "# options: \n",
    "# 'total_thresh' + 4,3,2\n",
    "# 'loewe_thresh', 'hsa_thresh', 'bliss_thresh', 'zip_thresh' + 1\n",
    "\n",
    "score = 'hsa_thresh'\n",
    "score_val = 1"
   ]
  },
  {
   "cell_type": "code",
   "execution_count": 14,
   "metadata": {},
   "outputs": [],
   "source": [
    "DSdataset_name = f'DrugComb_{score}_{score_val}'\n",
    "\n",
    "data_fname = 'data_v4' # v2 for baseline models, v3 for additive samples, v4 for additive baseline"
   ]
  },
  {
   "cell_type": "code",
   "execution_count": 15,
   "metadata": {
    "scrolled": true
   },
   "outputs": [
    {
     "name": "stdout",
     "output_type": "stream",
     "text": [
      "path_current_dir /cluster/work/medinfmk/lm1-homes/skyriakos-lm1-home/data_to_migrate/chemprop_run/git/deepadr\n",
      "path_current_dir /cluster/work/medinfmk/lm1-homes/skyriakos-lm1-home/data_to_migrate/chemprop_run/git/deepadr\n",
      "path_current_dir /cluster/work/medinfmk/lm1-homes/skyriakos-lm1-home/data_to_migrate/chemprop_run/git/deepadr\n",
      "path_current_dir /cluster/work/medinfmk/lm1-homes/skyriakos-lm1-home/data_to_migrate/chemprop_run/git/deepadr\n",
      "/cluster/work/medinfmk/lm1-homes/skyriakos-lm1-home/data_to_migrate/chemprop_run/git/data/processed/DrugComb_loewe_thresh_1/data_v4\n"
     ]
    }
   ],
   "source": [
    "targetdata_dir = create_directory(os.path.join(processed_dir, DSdataset_name, data_fname))\n",
    "targetdata_dir_raw = create_directory(os.path.join(targetdata_dir, \"raw\"))\n",
    "targetdata_dir_processed = create_directory(os.path.join(targetdata_dir, \"processed\"))\n",
    "targetdata_dir_exp = create_directory(os.path.join(targetdata_dir, \"experiments\"))\n",
    "print(targetdata_dir)"
   ]
  },
  {
   "cell_type": "code",
   "execution_count": 16,
   "metadata": {},
   "outputs": [],
   "source": [
    "xFlat = ReaderWriter.read_data(os.path.join(targetdata_dir_raw, 'X_flat.pkl'))\n",
    "y = ReaderWriter.read_data(os.path.join(targetdata_dir_raw, 'y.pkl'))\n",
    "expression = ReaderWriter.read_data(os.path.join(targetdata_dir_raw, 'expression.pkl'))"
   ]
  },
  {
   "cell_type": "code",
   "execution_count": 17,
   "metadata": {},
   "outputs": [
    {
     "data": {
      "text/plain": [
       "torch.Size([418189, 18])"
      ]
     },
     "execution_count": 17,
     "metadata": {},
     "output_type": "execute_result"
    }
   ],
   "source": [
    "xFlatMat = torch.stack([torch.cat(i) for i in list(xFlat.values())])\n",
    "xFlatMat.shape"
   ]
  },
  {
   "cell_type": "code",
   "execution_count": 18,
   "metadata": {},
   "outputs": [
    {
     "data": {
      "text/plain": [
       "tensor([[7.3013, 4.1251, 7.1277,  ..., 4.4361, 6.3370, 6.6896],\n",
       "        [7.3013, 4.1251, 7.1277,  ..., 4.4361, 6.3370, 6.6896],\n",
       "        [7.3013, 4.1251, 7.1277,  ..., 4.4361, 6.3370, 6.6896],\n",
       "        ...,\n",
       "        [7.1871, 3.5130, 7.6483,  ..., 3.6550, 6.8683, 6.7297],\n",
       "        [7.1871, 3.5130, 7.6483,  ..., 3.6550, 6.8683, 6.7297],\n",
       "        [7.1871, 3.5130, 7.6483,  ..., 3.6550, 6.8683, 6.7297]],\n",
       "       dtype=torch.float64)"
      ]
     },
     "execution_count": 18,
     "metadata": {},
     "output_type": "execute_result"
    }
   ],
   "source": [
    "torch.tensor(expression)"
   ]
  },
  {
   "cell_type": "code",
   "execution_count": 19,
   "metadata": {
    "scrolled": false
   },
   "outputs": [
    {
     "data": {
      "text/plain": [
       "torch.Size([418189, 926])"
      ]
     },
     "execution_count": 19,
     "metadata": {},
     "output_type": "execute_result"
    }
   ],
   "source": [
    "x = torch.cat([xFlatMat, torch.tensor(expression)], dim=1)\n",
    "x.shape"
   ]
  },
  {
   "cell_type": "code",
   "execution_count": 20,
   "metadata": {},
   "outputs": [
    {
     "data": {
      "text/plain": [
       "array([0, 0, 0, ..., 0, 0, 0])"
      ]
     },
     "execution_count": 20,
     "metadata": {},
     "output_type": "execute_result"
    }
   ],
   "source": [
    "y"
   ]
  },
  {
   "cell_type": "code",
   "execution_count": 21,
   "metadata": {},
   "outputs": [
    {
     "data": {
      "text/plain": [
       "torch.Size([418189, 926])"
      ]
     },
     "execution_count": 21,
     "metadata": {},
     "output_type": "execute_result"
    }
   ],
   "source": [
    "x.shape"
   ]
  },
  {
   "cell_type": "code",
   "execution_count": 22,
   "metadata": {},
   "outputs": [
    {
     "data": {
      "text/plain": [
       "(418189,)"
      ]
     },
     "execution_count": 22,
     "metadata": {},
     "output_type": "execute_result"
    }
   ],
   "source": [
    "y.shape"
   ]
  },
  {
   "cell_type": "code",
   "execution_count": 23,
   "metadata": {},
   "outputs": [
    {
     "name": "stdout",
     "output_type": "stream",
     "text": [
      "fold_num: 0\n",
      "train data\n",
      "class: 0 norm count: 0.9474584433484449\n",
      "class: 1 norm count: 0.05254155665155516\n",
      "validation data\n",
      "class: 0 norm count: 0.9474533715925395\n",
      "class: 1 norm count: 0.05254662840746054\n",
      "test data\n",
      "class: 0 norm count: 0.9474640713551257\n",
      "class: 1 norm count: 0.05253592864487434\n",
      "\n",
      "-------------------------\n",
      "fold_num: 1\n",
      "train data\n",
      "class: 0 norm count: 0.9474584433484449\n",
      "class: 1 norm count: 0.05254155665155516\n",
      "validation data\n",
      "class: 0 norm count: 0.9474533715925395\n",
      "class: 1 norm count: 0.05254662840746054\n",
      "test data\n",
      "class: 0 norm count: 0.9474640713551257\n",
      "class: 1 norm count: 0.05253592864487434\n",
      "\n",
      "-------------------------\n",
      "fold_num: 2\n",
      "train data\n",
      "class: 0 norm count: 0.9474617645593584\n",
      "class: 1 norm count: 0.05253823544064166\n",
      "validation data\n",
      "class: 0 norm count: 0.9474533715925395\n",
      "class: 1 norm count: 0.05254662840746054\n",
      "test data\n",
      "class: 0 norm count: 0.9474521150673139\n",
      "class: 1 norm count: 0.0525478849326861\n",
      "\n",
      "-------------------------\n",
      "fold_num: 3\n",
      "train data\n",
      "class: 0 norm count: 0.9474617645593584\n",
      "class: 1 norm count: 0.05253823544064166\n",
      "validation data\n",
      "class: 0 norm count: 0.9474533715925395\n",
      "class: 1 norm count: 0.05254662840746054\n",
      "test data\n",
      "class: 0 norm count: 0.9474521150673139\n",
      "class: 1 norm count: 0.0525478849326861\n",
      "\n",
      "-------------------------\n",
      "fold_num: 4\n",
      "train data\n",
      "class: 0 norm count: 0.9474586178494566\n",
      "class: 1 norm count: 0.052541382150543346\n",
      "validation data\n",
      "class: 0 norm count: 0.9474533715925395\n",
      "class: 1 norm count: 0.05254662840746054\n",
      "test data\n",
      "class: 0 norm count: 0.9474634432129321\n",
      "class: 1 norm count: 0.05253655678706792\n",
      "\n",
      "-------------------------\n"
     ]
    }
   ],
   "source": [
    "fold_partitions = get_stratified_partitions(y,\n",
    "                                            num_folds=5,\n",
    "                                            valid_set_portion=0.1,\n",
    "                                            random_state=42)"
   ]
  },
  {
   "cell_type": "code",
   "execution_count": 24,
   "metadata": {},
   "outputs": [
    {
     "name": "stdout",
     "output_type": "stream",
     "text": [
      "Number of training graphs: 301095\n",
      "Number of validation graphs: 33456\n",
      "Number of testing graphs: 83638\n"
     ]
    }
   ],
   "source": [
    "print(\"Number of training graphs: \"+ str(len(fold_partitions[0]['train'])))\n",
    "print(\"Number of validation graphs: \"+ str(len(fold_partitions[0]['validation'])))\n",
    "print(\"Number of testing graphs: \"+ str(len(fold_partitions[0]['test'])))\n"
   ]
  },
  {
   "cell_type": "markdown",
   "metadata": {},
   "source": [
    "### Preprocessing"
   ]
  },
  {
   "cell_type": "code",
   "execution_count": 25,
   "metadata": {},
   "outputs": [],
   "source": [
    "# from sklearn.preprocessing import StandardScaler\n",
    "# scaler = StandardScaler()"
   ]
  },
  {
   "cell_type": "code",
   "execution_count": 26,
   "metadata": {},
   "outputs": [],
   "source": [
    "x_np = x.numpy()\n",
    "y_np = y"
   ]
  },
  {
   "cell_type": "code",
   "execution_count": 27,
   "metadata": {},
   "outputs": [],
   "source": [
    "# pipeline = compose(scaler.fit_transform, np.tanh, scaler.fit_transform)"
   ]
  },
  {
   "cell_type": "code",
   "execution_count": 28,
   "metadata": {},
   "outputs": [],
   "source": [
    "# x_np_norm = pipeline(x_np)"
   ]
  },
  {
   "cell_type": "code",
   "execution_count": null,
   "metadata": {},
   "outputs": [],
   "source": []
  },
  {
   "cell_type": "code",
   "execution_count": 29,
   "metadata": {},
   "outputs": [
    {
     "data": {
      "text/plain": [
       "926"
      ]
     },
     "execution_count": 29,
     "metadata": {},
     "output_type": "execute_result"
    }
   ],
   "source": [
    "deepsynergy_input_size = x_np.shape[1]\n",
    "deepsynergy_input_size"
   ]
  },
  {
   "cell_type": "code",
   "execution_count": 30,
   "metadata": {},
   "outputs": [],
   "source": [
    "ids = list(range(len(y)))"
   ]
  },
  {
   "cell_type": "code",
   "execution_count": 31,
   "metadata": {},
   "outputs": [
    {
     "data": {
      "text/plain": [
       "<torch.utils.data.dataset.TensorDataset at 0x152a7fb13e20>"
      ]
     },
     "execution_count": 31,
     "metadata": {},
     "output_type": "execute_result"
    }
   ],
   "source": [
    "dataset = TensorDataset(torch.tensor(x_np),torch.tensor(y), torch.tensor(ids))\n",
    "dataset"
   ]
  },
  {
   "cell_type": "code",
   "execution_count": 32,
   "metadata": {},
   "outputs": [
    {
     "data": {
      "text/plain": [
       "(418189, 926)"
      ]
     },
     "execution_count": 32,
     "metadata": {},
     "output_type": "execute_result"
    }
   ],
   "source": [
    "x_np.shape"
   ]
  },
  {
   "cell_type": "code",
   "execution_count": 33,
   "metadata": {
    "scrolled": true
   },
   "outputs": [
    {
     "data": {
      "text/plain": [
       "array([     0,      8,      9, ..., 418170, 418172, 418180])"
      ]
     },
     "execution_count": 33,
     "metadata": {},
     "output_type": "execute_result"
    }
   ],
   "source": [
    "fold_partitions[0]['test']"
   ]
  },
  {
   "cell_type": "code",
   "execution_count": 34,
   "metadata": {},
   "outputs": [
    {
     "data": {
      "text/plain": [
       "tensor([[6.3333, 0.0000, 2.6667,  ..., 4.4361, 6.3370, 6.6896],\n",
       "        [5.2727, 0.0000, 3.0909,  ..., 4.4361, 6.3370, 6.6896],\n",
       "        [6.2593, 0.0000, 2.8889,  ..., 4.4361, 6.3370, 6.6896],\n",
       "        ...,\n",
       "        [5.5152, 0.0000, 2.9394,  ..., 3.6550, 6.8683, 6.7297],\n",
       "        [5.6296, 0.0000, 3.0000,  ..., 3.6550, 6.8683, 6.7297],\n",
       "        [5.6842, 0.0000, 3.1053,  ..., 3.6550, 6.8683, 6.7297]],\n",
       "       dtype=torch.float64)"
      ]
     },
     "execution_count": 34,
     "metadata": {},
     "output_type": "execute_result"
    }
   ],
   "source": [
    "foldx = dataset[fold_partitions[0]['test']][0]\n",
    "foldx"
   ]
  },
  {
   "cell_type": "markdown",
   "metadata": {},
   "source": [
    "### Deep Synergy"
   ]
  },
  {
   "cell_type": "code",
   "execution_count": 35,
   "metadata": {},
   "outputs": [],
   "source": [
    "# training params total_thresh 4\n",
    "tp = {\n",
    "    \"batch_size\" : 300,\n",
    "    \"num_epochs\" : 100,\n",
    "    \n",
    "    \"emb_dim\" : 300,\n",
    "    \"gnn_type\" : \"gatv2\",\n",
    "    \"num_layer\" : 5,\n",
    "    \"graph_pooling\" : \"mean\", #attention\n",
    "    \n",
    "    \"input_embed_dim\" : None,\n",
    "    \"gene_embed_dim\": 1,\n",
    "    \"num_attn_heads\" : 2,\n",
    "    \"num_transformer_units\" : 1,\n",
    "    \"p_dropout\" : 0.3,\n",
    "#     \"nonlin_func\" : nn.ReLU(),\n",
    "    \"mlp_embed_factor\" : 2,\n",
    "    \"pooling_mode\" : 'attn',\n",
    "    \"dist_opt\" : 'cosine',\n",
    "\n",
    "    \"base_lr\" : 3e-5, #3e-4\n",
    "    \"max_lr_mul\": 5,\n",
    "    \"l2_reg\" : 1e-5,\n",
    "    \"loss_w\" : 1.,\n",
    "    \"margin_v\" : 1.,\n",
    "\n",
    "    \"expression_dim\" : 64,\n",
    "    \"expression_input_size\" : 908,\n",
    "    \"exp_H1\" : 8192,\n",
    "    \"exp_H2\" : 4096\n",
    "}"
   ]
  },
  {
   "cell_type": "code",
   "execution_count": 36,
   "metadata": {},
   "outputs": [
    {
     "data": {
      "text/plain": [
       "926"
      ]
     },
     "execution_count": 36,
     "metadata": {},
     "output_type": "execute_result"
    }
   ],
   "source": [
    "tp['deepsynergy_input_size'] = deepsynergy_input_size\n",
    "tp['deepsynergy_input_size']"
   ]
  },
  {
   "cell_type": "code",
   "execution_count": 37,
   "metadata": {},
   "outputs": [],
   "source": [
    "def spawn_q_process(q_process):\n",
    "    print(\">>> spawning hyperparam search process\")\n",
    "    q_process.start()\n",
    "    \n",
    "def join_q_process(q_process):\n",
    "    q_process.join()\n",
    "    print(\"<<< joined hyperparam search process\")\n",
    "    \n",
    "def create_q_process(queue, used_dataset, gpu_num, tphp, exp_dir, partition): #\n",
    "#     fold_gpu_map = {0:gpu_num}\n",
    "    return mp.Process(target=deepadr.hyphelperflat.run_exp_flat, args=(queue, used_dataset, gpu_num, tphp, exp_dir, partition)) #\n",
    "\n",
    "# def create_q_process_attr(queue, x_np_norm, gpu_num, tphp, exp_dir, partition, labels): #\n",
    "# #     fold_gpu_map = {0:gpu_num}\n",
    "#     return mp.Process(target=deepadr.hyphelperflat.run_attribution, args=(queue, x_np_norm, gpu_num, tphp, exp_dir, partition, labels)) #"
   ]
  },
  {
   "cell_type": "code",
   "execution_count": 38,
   "metadata": {},
   "outputs": [
    {
     "name": "stdout",
     "output_type": "stream",
     "text": [
      "Start: 2022-09-14_11-39-11\n",
      "path_current_dir /cluster/work/medinfmk/lm1-homes/skyriakos-lm1-home/data_to_migrate/chemprop_run/git/deepadr\n",
      "path_current_dir /cluster/work/medinfmk/lm1-homes/skyriakos-lm1-home/data_to_migrate/chemprop_run/git/deepadr\n",
      "path_current_dir /cluster/work/medinfmk/lm1-homes/skyriakos-lm1-home/data_to_migrate/chemprop_run/git/deepadr\n",
      ">>> spawning hyperparam search process\n",
      "path_current_dir /cluster/work/medinfmk/lm1-homes/skyriakos-lm1-home/data_to_migrate/chemprop_run/git/deepadr\n",
      "path_current_dir /cluster/work/medinfmk/lm1-homes/skyriakos-lm1-home/data_to_migrate/chemprop_run/git/deepadr\n",
      "path_current_dir /cluster/work/medinfmk/lm1-homes/skyriakos-lm1-home/data_to_migrate/chemprop_run/git/deepadr\n",
      ">>> spawning hyperparam search process\n",
      "path_current_dir /cluster/work/medinfmk/lm1-homes/skyriakos-lm1-home/data_to_migrate/chemprop_run/git/deepadr\n",
      "path_current_dir /cluster/work/medinfmk/lm1-homes/skyriakos-lm1-home/data_to_migrate/chemprop_run/git/deepadr\n",
      "path_current_dir /cluster/work/medinfmk/lm1-homes/skyriakos-lm1-home/data_to_migrate/chemprop_run/git/deepadr\n",
      ">>> spawning hyperparam search process\n",
      "gpu: cuda:0\n",
      "Dropout(p=0.5, inplace=False) Dropout(p=0.2, inplace=False)\n",
      "DS model:\n",
      " ExpressionNN(\n",
      "  (fc1): Linear(in_features=926, out_features=8192, bias=True)\n",
      "  (fc2): Linear(in_features=8192, out_features=4096, bias=True)\n",
      "  (fc3): Linear(in_features=4096, out_features=2, bias=True)\n",
      "  (drop_in): Dropout(p=0.2, inplace=False)\n",
      "  (drop): Dropout(p=0.5, inplace=False)\n",
      "  (log_softmax): LogSoftmax(dim=-1)\n",
      ")\n",
      "=====Epoch 0\n",
      "Training...\n"
     ]
    },
    {
     "name": "stderr",
     "output_type": "stream",
     "text": [
      "Iteration:  21%|██        | 206/1004 [00:05<00:17, 45.44it/s]"
     ]
    },
    {
     "name": "stdout",
     "output_type": "stream",
     "text": [
      "path_current_dir /cluster/work/medinfmk/lm1-homes/skyriakos-lm1-home/data_to_migrate/chemprop_run/git/deepadr\n",
      "path_current_dir /cluster/work/medinfmk/lm1-homes/skyriakos-lm1-home/data_to_migrate/chemprop_run/git/deepadr\n",
      "path_current_dir /cluster/work/medinfmk/lm1-homes/skyriakos-lm1-home/data_to_migrate/chemprop_run/git/deepadr\n",
      ">>> spawning hyperparam search process\n"
     ]
    },
    {
     "name": "stderr",
     "output_type": "stream",
     "text": [
      "Iteration:  26%|██▌       | 259/1004 [00:06<00:28, 25.97it/s]"
     ]
    },
    {
     "name": "stdout",
     "output_type": "stream",
     "text": [
      "gpu: cuda:1\n",
      "Dropout(p=0.5, inplace=False) Dropout(p=0.2, inplace=False)\n",
      "DS model:\n",
      " ExpressionNN(\n",
      "  (fc1): Linear(in_features=926, out_features=8192, bias=True)\n",
      "  (fc2): Linear(in_features=8192, out_features=4096, bias=True)\n",
      "  (fc3): Linear(in_features=4096, out_features=2, bias=True)\n",
      "  (drop_in): Dropout(p=0.2, inplace=False)\n",
      "  (drop): Dropout(p=0.5, inplace=False)\n",
      "  (log_softmax): LogSoftmax(dim=-1)\n",
      ")\n",
      "=====Epoch 0\n",
      "Training...\n"
     ]
    },
    {
     "name": "stderr",
     "output_type": "stream",
     "text": [
      "Iteration:  45%|████▌     | 453/1004 [00:11<00:12, 45.19it/s]"
     ]
    },
    {
     "name": "stdout",
     "output_type": "stream",
     "text": [
      "path_current_dir /cluster/work/medinfmk/lm1-homes/skyriakos-lm1-home/data_to_migrate/chemprop_run/git/deepadr\n",
      "path_current_dir /cluster/work/medinfmk/lm1-homes/skyriakos-lm1-home/data_to_migrate/chemprop_run/git/deepadr\n",
      "path_current_dir /cluster/work/medinfmk/lm1-homes/skyriakos-lm1-home/data_to_migrate/chemprop_run/git/deepadr\n",
      ">>> spawning hyperparam search process\n"
     ]
    },
    {
     "name": "stderr",
     "output_type": "stream",
     "text": [
      "Iteration:   0%|          | 1/1004 [00:00<03:02,  5.48it/s]s]"
     ]
    },
    {
     "name": "stdout",
     "output_type": "stream",
     "text": [
      "gpu: cuda:2\n",
      "Dropout(p=0.5, inplace=False) Dropout(p=0.2, inplace=False)\n",
      "DS model:\n",
      " ExpressionNN(\n",
      "  (fc1): Linear(in_features=926, out_features=8192, bias=True)\n",
      "  (fc2): Linear(in_features=8192, out_features=4096, bias=True)\n",
      "  (fc3): Linear(in_features=4096, out_features=2, bias=True)\n",
      "  (drop_in): Dropout(p=0.2, inplace=False)\n",
      "  (drop): Dropout(p=0.5, inplace=False)\n",
      "  (log_softmax): LogSoftmax(dim=-1)\n",
      ")\n",
      "=====Epoch 0\n",
      "Training...\n"
     ]
    },
    {
     "name": "stderr",
     "output_type": "stream",
     "text": [
      "Iteration:   0%|          | 0/1004 [00:00<?, ?it/s]40.02it/s]"
     ]
    },
    {
     "name": "stdout",
     "output_type": "stream",
     "text": [
      "gpu: cuda:3\n",
      "Dropout(p=0.5, inplace=False) Dropout(p=0.2, inplace=False)\n",
      "DS model:\n",
      " ExpressionNN(\n",
      "  (fc1): Linear(in_features=926, out_features=8192, bias=True)\n",
      "  (fc2): Linear(in_features=8192, out_features=4096, bias=True)\n",
      "  (fc3): Linear(in_features=4096, out_features=2, bias=True)\n",
      "  (drop_in): Dropout(p=0.2, inplace=False)\n",
      "  (drop): Dropout(p=0.5, inplace=False)\n",
      "  (log_softmax): LogSoftmax(dim=-1)\n",
      ")\n",
      "=====Epoch 0\n",
      "Training...\n"
     ]
    },
    {
     "name": "stderr",
     "output_type": "stream",
     "text": [
      "Iteration: 100%|██████████| 1004/1004 [00:24<00:00, 40.24it/s]\n",
      "Iteration:  24%|██▍       | 240/1004 [00:06<00:16, 45.03it/s]"
     ]
    },
    {
     "name": "stdout",
     "output_type": "stream",
     "text": [
      "Evaluating...\n"
     ]
    },
    {
     "name": "stderr",
     "output_type": "stream",
     "text": [
      "Iteration:  26%|██▌       | 260/1004 [00:07<00:24, 30.56it/s]"
     ]
    },
    {
     "name": "stdout",
     "output_type": "stream",
     "text": [
      "gpu: cuda:4\n",
      "Dropout(p=0.5, inplace=False) Dropout(p=0.2, inplace=False)\n",
      "DS model:\n",
      " ExpressionNN(\n",
      "  (fc1): Linear(in_features=926, out_features=8192, bias=True)\n",
      "  (fc2): Linear(in_features=8192, out_features=4096, bias=True)\n",
      "  (fc3): Linear(in_features=4096, out_features=2, bias=True)\n",
      "  (drop_in): Dropout(p=0.2, inplace=False)\n",
      "  (drop): Dropout(p=0.5, inplace=False)\n",
      "  (log_softmax): LogSoftmax(dim=-1)\n",
      ")\n",
      "=====Epoch 0\n",
      "Training...\n"
     ]
    },
    {
     "name": "stderr",
     "output_type": "stream",
     "text": [
      "Iteration:  23%|██▎       | 226/1004 [00:05<00:17, 43.90it/s]]"
     ]
    },
    {
     "name": "stdout",
     "output_type": "stream",
     "text": [
      "Evaluating...\n"
     ]
    },
    {
     "name": "stderr",
     "output_type": "stream",
     "text": [
      "Iteration: 100%|██████████| 1004/1004 [00:24<00:00, 41.34it/s]\n",
      "Iteration: 100%|██████████| 1004/1004 [00:24<00:00, 41.16it/s]\n",
      "Iteration:  57%|█████▋    | 568/1004 [00:11<00:08, 50.39it/s]"
     ]
    },
    {
     "name": "stdout",
     "output_type": "stream",
     "text": [
      "Evaluating...\n"
     ]
    },
    {
     "name": "stderr",
     "output_type": "stream",
     "text": [
      "Iteration: 100%|██████████| 1004/1004 [00:24<00:00, 41.50it/s]\n",
      "Iteration:  57%|█████▋    | 577/1004 [00:11<00:09, 45.79it/s]"
     ]
    },
    {
     "name": "stdout",
     "output_type": "stream",
     "text": [
      "Evaluating...\n"
     ]
    },
    {
     "name": "stderr",
     "output_type": "stream",
     "text": [
      "Iteration:  86%|████████▋ | 866/1004 [00:17<00:02, 52.07it/s]]\n",
      "Iteration: 100%|██████████| 1004/1004 [00:23<00:00, 43.08it/s]\n",
      "Iteration:   0%|          | 5/1004 [00:00<00:22, 44.39it/s]s]"
     ]
    },
    {
     "name": "stdout",
     "output_type": "stream",
     "text": [
      "Evaluating...\n"
     ]
    },
    {
     "name": "stderr",
     "output_type": "stream",
     "text": [
      "Iteration:  15%|█▍        | 150/1004 [00:03<00:15, 56.04it/s]]\n",
      "Iteration:  47%|████▋     | 467/1004 [00:09<00:09, 53.72it/s]"
     ]
    },
    {
     "name": "stdout",
     "output_type": "stream",
     "text": [
      "{'Train':  best_epoch_indx:0\n",
      " auc:0.7752004040282731 \n",
      " apur:0.15694746546351035 \n",
      " f1:0.20184686611478753 \n",
      " precision:0.11636317922037734 \n",
      " recall:0.7606194690265486 \n",
      ", 'Validation':  best_epoch_indx:0\n",
      " auc:0.7712965134336989 \n",
      " apur:0.15746031517544187 \n",
      " f1:0.1984917043740573 \n",
      " precision:0.11441488436793601 \n",
      " recall:0.7485779294653014 \n",
      "}\n",
      "=====Epoch 1\n",
      "Training...\n"
     ]
    },
    {
     "name": "stderr",
     "output_type": "stream",
     "text": [
      "Iteration:  88%|████████▊ | 888/1004 [00:18<00:02, 52.14it/s]\n",
      "Iteration:  76%|███████▌  | 759/1004 [00:15<00:05, 41.59it/s]]\n",
      "Iteration:  76%|███████▋  | 766/1004 [00:15<00:05, 45.83it/s]"
     ]
    },
    {
     "name": "stdout",
     "output_type": "stream",
     "text": [
      "{'Train':  best_epoch_indx:0\n",
      " auc:0.7738086447293244 \n",
      " apur:0.1534583611227021 \n",
      " f1:0.2066145846587102 \n",
      " precision:0.11931890546776264 \n",
      " recall:0.7698482932996207 \n",
      ", 'Validation':  best_epoch_indx:0\n",
      " auc:0.7712913003415124 \n",
      " apur:0.1533886584475384 \n",
      " f1:0.20567592310039673 \n",
      " precision:0.11876651982378855 \n",
      " recall:0.7667804323094426 \n",
      "}\n",
      "=====Epoch 1\n",
      "Training...\n"
     ]
    },
    {
     "name": "stderr",
     "output_type": "stream",
     "text": [
      "Iteration:  57%|█████▋    | 577/1004 [00:11<00:07, 54.37it/s]\n",
      "Iteration:  25%|██▌       | 253/1004 [00:05<00:16, 45.06it/s]]\n",
      "Iteration:   0%|          | 4/1004 [00:00<00:29, 33.50it/s]s]"
     ]
    },
    {
     "name": "stdout",
     "output_type": "stream",
     "text": [
      "{'Train':  best_epoch_indx:0\n",
      " auc:0.7781672050473185 \n",
      " apur:0.15846667185476465 \n",
      " f1:0.20348389085864038 \n",
      " precision:0.11672282517638737 \n",
      " recall:0.7927176180542386 \n",
      ", 'Validation':  best_epoch_indx:0\n",
      " auc:0.7752712763968199 \n",
      " apur:0.15836121161829436 \n",
      " f1:0.20353917321389234 \n",
      " precision:0.11685355366326616 \n",
      " recall:0.78839590443686 \n",
      "}\n",
      "=====Epoch 1\n",
      "Training...\n"
     ]
    },
    {
     "name": "stderr",
     "output_type": "stream",
     "text": [
      "Iteration:  59%|█████▉    | 593/1004 [00:13<00:10, 39.49it/s]\n",
      "Iteration:  49%|████▉     | 493/1004 [00:11<00:11, 45.28it/s]]\n",
      "Iteration:  25%|██▍       | 249/1004 [00:05<00:16, 45.01it/s]"
     ]
    },
    {
     "name": "stdout",
     "output_type": "stream",
     "text": [
      "{'Train':  best_epoch_indx:0\n",
      " auc:0.7750314208463955 \n",
      " apur:0.1553957699485808 \n",
      " f1:0.19651185755738873 \n",
      " precision:0.11167517072875927 \n",
      " recall:0.8176875908717365 \n",
      ", 'Validation':  best_epoch_indx:0\n",
      " auc:0.7732927957542424 \n",
      " apur:0.1606293869493967 \n",
      " f1:0.19547635366689514 \n",
      " precision:0.1111284289276808 \n",
      " recall:0.8111490329920364 \n",
      "}\n",
      "=====Epoch 1\n",
      "Training...\n"
     ]
    },
    {
     "name": "stderr",
     "output_type": "stream",
     "text": [
      "Iteration:  61%|██████    | 608/1004 [00:13<00:09, 43.22it/s]\n",
      "Iteration: 100%|██████████| 1004/1004 [00:22<00:00, 43.83it/s]\n",
      "Iteration:   0%|          | 4/1004 [00:00<00:27, 36.36it/s]s]\n",
      "Iteration:   0%|          | 0/1004 [00:00<?, ?it/s]"
     ]
    },
    {
     "name": "stdout",
     "output_type": "stream",
     "text": [
      "Evaluating...\n",
      "{'Train':  best_epoch_indx:0\n",
      " auc:0.7740587767387385 \n",
      " apur:0.15513514575272686 \n",
      " f1:0.19865280535762958 \n",
      " precision:0.11328211732314934 \n",
      " recall:0.8062579013906448 \n",
      ", 'Validation':  best_epoch_indx:0\n",
      " auc:0.7739046387081263 \n",
      " apur:0.15668462640883582 \n",
      " f1:0.19800589804802696 \n",
      " precision:0.11294456904838193 \n",
      " recall:0.8020477815699659 \n",
      "}\n",
      "=====Epoch 1\n",
      "Training...\n"
     ]
    },
    {
     "name": "stderr",
     "output_type": "stream",
     "text": [
      "Iteration: 100%|██████████| 1004/1004 [00:22<00:00, 44.16it/s]\n",
      "Iteration:  24%|██▍       | 243/1004 [00:05<00:17, 43.80it/s]"
     ]
    },
    {
     "name": "stdout",
     "output_type": "stream",
     "text": [
      "Evaluating...\n"
     ]
    },
    {
     "name": "stderr",
     "output_type": "stream",
     "text": [
      "Iteration: 100%|██████████| 1004/1004 [00:22<00:00, 43.75it/s]\n",
      "Iteration:  50%|████▉     | 498/1004 [00:11<00:11, 44.09it/s]"
     ]
    },
    {
     "name": "stdout",
     "output_type": "stream",
     "text": [
      "Evaluating...\n"
     ]
    },
    {
     "name": "stderr",
     "output_type": "stream",
     "text": [
      "Iteration: 100%|██████████| 1004/1004 [00:23<00:00, 43.35it/s]\n",
      "Iteration:  83%|████████▎ | 834/1004 [00:17<00:03, 45.74it/s]"
     ]
    },
    {
     "name": "stdout",
     "output_type": "stream",
     "text": [
      "Evaluating...\n"
     ]
    },
    {
     "name": "stderr",
     "output_type": "stream",
     "text": [
      "Iteration: 100%|██████████| 1004/1004 [00:23<00:00, 42.87it/s]\n",
      "Iteration:  57%|█████▋    | 574/1004 [00:12<00:09, 47.76it/s]"
     ]
    },
    {
     "name": "stdout",
     "output_type": "stream",
     "text": [
      "Evaluating...\n"
     ]
    },
    {
     "name": "stderr",
     "output_type": "stream",
     "text": [
      "Iteration:  34%|███▎      | 338/1004 [00:07<00:13, 50.79it/s]\n",
      "Iteration:  50%|█████     | 503/1004 [00:10<00:08, 60.62it/s]]\n",
      "Iteration:   0%|          | 4/1004 [00:00<00:30, 33.00it/s]s]"
     ]
    },
    {
     "name": "stdout",
     "output_type": "stream",
     "text": [
      "{'Train':  best_epoch_indx:1\n",
      " auc:0.7772321847495391 \n",
      " apur:0.1565766902472238 \n",
      " f1:0.20416484636668125 \n",
      " precision:0.11706529604957973 \n",
      " recall:0.797597977243995 \n",
      ", 'Validation':  best_epoch_indx:1\n",
      " auc:0.7736726695647511 \n",
      " apur:0.15825752043291735 \n",
      " f1:0.20363050797833407 \n",
      " precision:0.11685147849462366 \n",
      " recall:0.7912400455062572 \n",
      "}\n",
      "=====Epoch 2\n",
      "Training...\n"
     ]
    },
    {
     "name": "stderr",
     "output_type": "stream",
     "text": [
      "Iteration:  10%|▉         | 99/1004 [00:02<00:20, 44.20it/s]]\n",
      "Iteration:  24%|██▍       | 239/1004 [00:05<00:17, 44.47it/s]]\n",
      "Iteration:  24%|██▍       | 244/1004 [00:05<00:17, 44.53it/s]"
     ]
    },
    {
     "name": "stdout",
     "output_type": "stream",
     "text": [
      "{'Train':  best_epoch_indx:1\n",
      " auc:0.7793307902271424 \n",
      " apur:0.1584490219021309 \n",
      " f1:0.20379297116074255 \n",
      " precision:0.11738370193878139 \n",
      " recall:0.7723135271807838 \n",
      ", 'Validation':  best_epoch_indx:1\n",
      " auc:0.7697627606985751 \n",
      " apur:0.15555940974597116 \n",
      " f1:0.20269259536275241 \n",
      " precision:0.11668963141577678 \n",
      " recall:0.7707622298065984 \n",
      "}\n",
      "=====Epoch 2\n",
      "Training...\n"
     ]
    },
    {
     "name": "stderr",
     "output_type": "stream",
     "text": [
      "Iteration:  90%|█████████ | 904/1004 [00:18<00:01, 51.35it/s]\n",
      "Iteration:  48%|████▊     | 479/1004 [00:11<00:11, 44.65it/s]]\n",
      "Iteration:   0%|          | 0/1004 [00:00<?, ?it/s]"
     ]
    },
    {
     "name": "stdout",
     "output_type": "stream",
     "text": [
      "{'Train':  best_epoch_indx:1\n",
      " auc:0.7787822934978629 \n",
      " apur:0.16028981819427016 \n",
      " f1:0.20426989345460717 \n",
      " precision:0.11709792735557244 \n",
      " recall:0.7992919906441621 \n",
      ", 'Validation':  best_epoch_indx:1\n",
      " auc:0.7768778060522978 \n",
      " apur:0.16236251928746387 \n",
      " f1:0.20332798131659613 \n",
      " precision:0.11662759544541192 \n",
      " recall:0.7923777019340159 \n",
      "}\n",
      "=====Epoch 2\n",
      "Training...\n"
     ]
    },
    {
     "name": "stderr",
     "output_type": "stream",
     "text": [
      "Iteration:  32%|███▏      | 323/1004 [00:07<00:17, 38.78it/s]\n",
      "Iteration:  71%|███████   | 709/1004 [00:16<00:06, 44.36it/s]]\n",
      "Iteration:   0%|          | 0/1004 [00:00<?, ?it/s]"
     ]
    },
    {
     "name": "stdout",
     "output_type": "stream",
     "text": [
      "{'Train':  best_epoch_indx:1\n",
      " auc:0.7776000321720905 \n",
      " apur:0.15775059270190395 \n",
      " f1:0.20007518015243975 \n",
      " precision:0.11452744153679931 \n",
      " recall:0.7906947341804159 \n",
      ", 'Validation':  best_epoch_indx:1\n",
      " auc:0.7752842597778767 \n",
      " apur:0.16134555216324103 \n",
      " f1:0.19974208339303626 \n",
      " precision:0.11426229508196721 \n",
      " recall:0.7929465301478953 \n",
      "}\n",
      "=====Epoch 2\n",
      "Training...\n"
     ]
    },
    {
     "name": "stderr",
     "output_type": "stream",
     "text": [
      "Iteration:  57%|█████▋    | 573/1004 [00:13<00:09, 45.11it/s]\n",
      "Iteration:  95%|█████████▍| 949/1004 [00:21<00:01, 44.67it/s]\n",
      "Iteration:  95%|█████████▌| 954/1004 [00:21<00:01, 44.01it/s]"
     ]
    },
    {
     "name": "stdout",
     "output_type": "stream",
     "text": [
      "{'Train':  best_epoch_indx:1\n",
      " auc:0.7786890251149688 \n",
      " apur:0.15966837857869387 \n",
      " f1:0.20039632611977856 \n",
      " precision:0.11443402665517118 \n",
      " recall:0.8054361567635904 \n",
      ", 'Validation':  best_epoch_indx:1\n",
      " auc:0.7763041326236494 \n",
      " apur:0.1582307623066549 \n",
      " f1:0.20042492917847027 \n",
      " precision:0.1144636790163404 \n",
      " recall:0.8048919226393629 \n",
      "}\n",
      "=====Epoch 2\n",
      "Training...\n"
     ]
    },
    {
     "name": "stderr",
     "output_type": "stream",
     "text": [
      "Iteration: 100%|██████████| 1004/1004 [00:23<00:00, 43.52it/s]\n",
      "Iteration:   0%|          | 0/1004 [00:00<?, ?it/s]"
     ]
    },
    {
     "name": "stdout",
     "output_type": "stream",
     "text": [
      "Evaluating...\n"
     ]
    },
    {
     "name": "stderr",
     "output_type": "stream",
     "text": [
      "Iteration: 100%|██████████| 1004/1004 [00:22<00:00, 43.83it/s]\n",
      "Iteration:  29%|██▉       | 292/1004 [00:06<00:16, 43.94it/s]"
     ]
    },
    {
     "name": "stdout",
     "output_type": "stream",
     "text": [
      "Evaluating...\n"
     ]
    },
    {
     "name": "stderr",
     "output_type": "stream",
     "text": [
      "Iteration: 100%|██████████| 1004/1004 [00:23<00:00, 43.49it/s]\n",
      "Iteration:  30%|██▉       | 297/1004 [00:05<00:13, 51.58it/s]"
     ]
    },
    {
     "name": "stdout",
     "output_type": "stream",
     "text": [
      "Evaluating...\n"
     ]
    },
    {
     "name": "stderr",
     "output_type": "stream",
     "text": [
      "Iteration: 100%|██████████| 1004/1004 [00:23<00:00, 43.12it/s]\n",
      "Iteration:  55%|█████▌    | 554/1004 [00:11<00:09, 47.01it/s]"
     ]
    },
    {
     "name": "stdout",
     "output_type": "stream",
     "text": [
      "Evaluating...\n"
     ]
    },
    {
     "name": "stderr",
     "output_type": "stream",
     "text": [
      "Iteration:  53%|█████▎    | 530/1004 [00:11<00:09, 51.94it/s]]\n",
      "Iteration:  53%|█████▎    | 536/1004 [00:11<00:08, 52.50it/s]"
     ]
    },
    {
     "name": "stdout",
     "output_type": "stream",
     "text": [
      "Evaluating...\n"
     ]
    },
    {
     "name": "stderr",
     "output_type": "stream",
     "text": [
      "Iteration:   9%|▉         | 95/1004 [00:01<00:17, 51.24it/s]]\n",
      "Iteration:  53%|█████▎    | 532/1004 [00:10<00:08, 56.99it/s]]\n",
      "Iteration:  54%|█████▎    | 538/1004 [00:10<00:08, 54.41it/s]"
     ]
    },
    {
     "name": "stdout",
     "output_type": "stream",
     "text": [
      "{'Train':  best_epoch_indx:2\n",
      " auc:0.7803307677368112 \n",
      " apur:0.16114417877591208 \n",
      " f1:0.20598578438267978 \n",
      " precision:0.11850561252177887 \n",
      " recall:0.7867888748419722 \n",
      ", 'Validation':  best_epoch_indx:2\n",
      " auc:0.7758870852487184 \n",
      " apur:0.16001767879427486 \n",
      " f1:0.20461159614954105 \n",
      " precision:0.11775315640298892 \n",
      " recall:0.7798634812286689 \n",
      "}\n",
      "=====Epoch 3\n",
      "Training...\n"
     ]
    },
    {
     "name": "stderr",
     "output_type": "stream",
     "text": [
      "Iteration:   7%|▋         | 73/1004 [00:01<00:27, 33.52it/s]]\n",
      "Iteration:  79%|███████▊  | 790/1004 [00:15<00:03, 54.85it/s]]\n",
      "Iteration:  79%|███████▉  | 796/1004 [00:15<00:03, 52.98it/s]"
     ]
    },
    {
     "name": "stdout",
     "output_type": "stream",
     "text": [
      "{'Train':  best_epoch_indx:2\n",
      " auc:0.7789585841106808 \n",
      " apur:0.15808371154380946 \n",
      " f1:0.20511863113549844 \n",
      " precision:0.1176695195432914 \n",
      " recall:0.7986725663716814 \n",
      ", 'Validation':  best_epoch_indx:2\n",
      " auc:0.7729016523330857 \n",
      " apur:0.15601922053557332 \n",
      " f1:0.20223569810769346 \n",
      " precision:0.11601978372034538 \n",
      " recall:0.7872582480091013 \n",
      "}\n",
      "=====Epoch 3\n",
      "Training...\n"
     ]
    },
    {
     "name": "stderr",
     "output_type": "stream",
     "text": [
      "Iteration:  10%|▉         | 99/1004 [00:02<00:20, 43.35it/s]]\n",
      "Iteration:  22%|██▏       | 219/1004 [00:05<00:17, 44.44it/s]]\n",
      "Iteration:   0%|          | 4/1004 [00:00<00:29, 33.69it/s]s]"
     ]
    },
    {
     "name": "stdout",
     "output_type": "stream",
     "text": [
      "{'Train':  best_epoch_indx:2\n",
      " auc:0.7816470289844623 \n",
      " apur:0.16138912201443073 \n",
      " f1:0.20011256331686572 \n",
      " precision:0.11417459793593734 \n",
      " recall:0.8091535495290474 \n",
      ", 'Validation':  best_epoch_indx:2\n",
      " auc:0.7779967725127162 \n",
      " apur:0.1596458097889118 \n",
      " f1:0.20001414527194286 \n",
      " precision:0.11420725304902674 \n",
      " recall:0.8043230944254836 \n",
      "}\n",
      "=====Epoch 3\n",
      "Training...\n"
     ]
    },
    {
     "name": "stderr",
     "output_type": "stream",
     "text": [
      "Iteration:  89%|████████▉ | 893/1004 [00:17<00:02, 47.61it/s]\n",
      "Iteration:  66%|██████▌   | 658/1004 [00:15<00:07, 44.74it/s]]\n",
      "Iteration:  22%|██▏       | 218/1004 [00:05<00:17, 44.69it/s]"
     ]
    },
    {
     "name": "stdout",
     "output_type": "stream",
     "text": [
      "{'Train':  best_epoch_indx:2\n",
      " auc:0.7813143680409413 \n",
      " apur:0.1591645926432705 \n",
      " f1:0.20417904710037563 \n",
      " precision:0.11689991012637332 \n",
      " recall:0.8058031481130287 \n",
      ", 'Validation':  best_epoch_indx:2\n",
      " auc:0.7753390824857258 \n",
      " apur:0.15861552291713357 \n",
      " f1:0.20204788001153737 \n",
      " precision:0.1156895127993394 \n",
      " recall:0.7969283276450512 \n",
      "}\n",
      "=====Epoch 3\n",
      "Training...\n"
     ]
    },
    {
     "name": "stderr",
     "output_type": "stream",
     "text": [
      "Iteration:  33%|███▎      | 333/1004 [00:07<00:15, 44.62it/s]\n",
      "Iteration:  66%|██████▌   | 664/1004 [00:15<00:07, 45.28it/s]\n",
      "Iteration:  67%|██████▋   | 669/1004 [00:15<00:07, 45.28it/s]"
     ]
    },
    {
     "name": "stdout",
     "output_type": "stream",
     "text": [
      "{'Train':  best_epoch_indx:2\n",
      " auc:0.7790777283547653 \n",
      " apur:0.15786896496175928 \n",
      " f1:0.2114734678234208 \n",
      " precision:0.12263598157277944 \n",
      " recall:0.7673198482932996 \n",
      ", 'Validation':  best_epoch_indx:2\n",
      " auc:0.7717893256114249 \n",
      " apur:0.157578824359216 \n",
      " f1:0.2115611482500983 \n",
      " precision:0.12275257826047276 \n",
      " recall:0.7650739476678043 \n",
      "}\n",
      "=====Epoch 3\n",
      "Training...\n"
     ]
    },
    {
     "name": "stderr",
     "output_type": "stream",
     "text": [
      "Iteration: 100%|██████████| 1004/1004 [00:23<00:00, 43.47it/s]\n",
      "Iteration:   0%|          | 0/1004 [00:00<?, ?it/s]"
     ]
    },
    {
     "name": "stdout",
     "output_type": "stream",
     "text": [
      "Evaluating...\n"
     ]
    },
    {
     "name": "stderr",
     "output_type": "stream",
     "text": [
      "Iteration: 100%|██████████| 1004/1004 [00:22<00:00, 43.73it/s]\n",
      "Iteration:  25%|██▍       | 246/1004 [00:04<00:15, 50.47it/s]"
     ]
    },
    {
     "name": "stdout",
     "output_type": "stream",
     "text": [
      "Evaluating...\n"
     ]
    },
    {
     "name": "stderr",
     "output_type": "stream",
     "text": [
      "Iteration: 100%|██████████| 1004/1004 [00:23<00:00, 43.48it/s]\n",
      "Iteration:   0%|          | 0/1004 [00:00<?, ?it/s]"
     ]
    },
    {
     "name": "stdout",
     "output_type": "stream",
     "text": [
      "Evaluating...\n"
     ]
    },
    {
     "name": "stderr",
     "output_type": "stream",
     "text": [
      "Iteration: 100%|██████████| 1004/1004 [00:23<00:00, 43.33it/s]\n",
      "Iteration:  78%|███████▊  | 784/1004 [00:18<00:04, 44.04it/s]"
     ]
    },
    {
     "name": "stdout",
     "output_type": "stream",
     "text": [
      "Evaluating...\n"
     ]
    },
    {
     "name": "stderr",
     "output_type": "stream",
     "text": [
      "Iteration: 100%|██████████| 1004/1004 [00:23<00:00, 42.98it/s]\n",
      "Iteration:   0%|          | 4/1004 [00:00<00:25, 39.79it/s]/s]"
     ]
    },
    {
     "name": "stdout",
     "output_type": "stream",
     "text": [
      "Evaluating...\n"
     ]
    },
    {
     "name": "stderr",
     "output_type": "stream",
     "text": [
      "Iteration:  68%|██████▊   | 679/1004 [00:13<00:06, 51.91it/s]]\n",
      "Iteration:  30%|██▉       | 300/1004 [00:05<00:11, 58.73it/s]]\n",
      "Iteration:   0%|          | 0/1004 [00:00<?, ?it/s]"
     ]
    },
    {
     "name": "stdout",
     "output_type": "stream",
     "text": [
      "{'Train':  best_epoch_indx:3\n",
      " auc:0.7812094758301509 \n",
      " apur:0.15911550842375405 \n",
      " f1:0.2099300290542748 \n",
      " precision:0.12148556420001194 \n",
      " recall:0.7718710493046776 \n",
      ", 'Validation':  best_epoch_indx:3\n",
      " auc:0.7767483221739064 \n",
      " apur:0.1578373391881184 \n",
      " f1:0.20840466926070036 \n",
      " precision:0.1207176343310494 \n",
      " recall:0.7616609783845278 \n",
      "}\n",
      "=====Epoch 4\n",
      "Training...\n"
     ]
    },
    {
     "name": "stderr",
     "output_type": "stream",
     "text": [
      "Iteration:  66%|██████▋   | 667/1004 [00:13<00:08, 41.55it/s]\n",
      "Iteration:  82%|████████▏ | 827/1004 [00:16<00:03, 53.13it/s]]\n",
      "Iteration:   0%|          | 4/1004 [00:00<00:29, 33.38it/s]s]"
     ]
    },
    {
     "name": "stdout",
     "output_type": "stream",
     "text": [
      "{'Train':  best_epoch_indx:3\n",
      " auc:0.7841331551685495 \n",
      " apur:0.15995746195333915 \n",
      " f1:0.21148689559726666 \n",
      " precision:0.12250726525703978 \n",
      " recall:0.77275600505689 \n",
      ", 'Validation':  best_epoch_indx:3\n",
      " auc:0.7772722334523533 \n",
      " apur:0.1562775692940271 \n",
      " f1:0.2081911262798635 \n",
      " precision:0.12053170468834201 \n",
      " recall:0.7633674630261661 \n",
      "}\n",
      "=====Epoch 4\n",
      "Training...\n"
     ]
    },
    {
     "name": "stderr",
     "output_type": "stream",
     "text": [
      "Iteration:  32%|███▏      | 319/1004 [00:07<00:15, 44.72it/s]\n",
      "Iteration:  83%|████████▎ | 832/1004 [00:16<00:03, 57.12it/s]]\n",
      "Iteration:  46%|████▌     | 459/1004 [00:10<00:13, 41.41it/s]"
     ]
    },
    {
     "name": "stdout",
     "output_type": "stream",
     "text": [
      "{'Train':  best_epoch_indx:3\n",
      " auc:0.7805024011043067 \n",
      " apur:0.16229187412683055 \n",
      " f1:0.2066682866743198 \n",
      " precision:0.11912443731767161 \n",
      " recall:0.7795688728743916 \n",
      ", 'Validation':  best_epoch_indx:3\n",
      " auc:0.7728501225767556 \n",
      " apur:0.16372056343488717 \n",
      " f1:0.2057687940040881 \n",
      " precision:0.11867959130206969 \n",
      " recall:0.773037542662116 \n",
      "}\n",
      "=====Epoch 4\n",
      "Training...\n"
     ]
    },
    {
     "name": "stderr",
     "output_type": "stream",
     "text": [
      "Iteration:   7%|▋         | 69/1004 [00:01<00:20, 44.85it/s]]\n",
      "Iteration:  43%|████▎     | 434/1004 [00:09<00:12, 44.94it/s]]\n",
      "Iteration:   0%|          | 0/1004 [00:00<?, ?it/s]"
     ]
    },
    {
     "name": "stdout",
     "output_type": "stream",
     "text": [
      "{'Train':  best_epoch_indx:3\n",
      " auc:0.7827006654125628 \n",
      " apur:0.16242573492257373 \n",
      " f1:0.20535372537522498 \n",
      " precision:0.11786041468020267 \n",
      " recall:0.7970162462861117 \n",
      ", 'Validation':  best_epoch_indx:3\n",
      " auc:0.7789332179382628 \n",
      " apur:0.16269209878422716 \n",
      " f1:0.20191534468893924 \n",
      " precision:0.1158459860749937 \n",
      " recall:0.785551763367463 \n",
      "}\n",
      "=====Epoch 4\n",
      "Training...\n"
     ]
    },
    {
     "name": "stderr",
     "output_type": "stream",
     "text": [
      "Iteration:  75%|███████▍  | 749/1004 [00:17<00:05, 44.45it/s]\n",
      "Iteration:  40%|████      | 404/1004 [00:09<00:13, 44.31it/s]\n",
      "Iteration:  19%|█▉        | 189/1004 [00:04<00:21, 37.67it/s]"
     ]
    },
    {
     "name": "stdout",
     "output_type": "stream",
     "text": [
      "{'Train':  best_epoch_indx:3\n",
      " auc:0.7821849828256013 \n",
      " apur:0.16259229207031053 \n",
      " f1:0.1998825969553477 \n",
      " precision:0.11406494260574389 \n",
      " recall:0.8071428571428572 \n",
      ", 'Validation':  best_epoch_indx:3\n",
      " auc:0.7737648991251409 \n",
      " apur:0.1562740846903329 \n",
      " f1:0.19970362006915532 \n",
      " precision:0.11399339402239587 \n",
      " recall:0.8048919226393629 \n",
      "}\n",
      "=====Epoch 4\n",
      "Training...\n"
     ]
    },
    {
     "name": "stderr",
     "output_type": "stream",
     "text": [
      "Iteration: 100%|██████████| 1004/1004 [00:23<00:00, 43.43it/s]\n",
      "Iteration:  34%|███▍      | 339/1004 [00:07<00:15, 43.93it/s]"
     ]
    },
    {
     "name": "stdout",
     "output_type": "stream",
     "text": [
      "Evaluating...\n"
     ]
    },
    {
     "name": "stderr",
     "output_type": "stream",
     "text": [
      "Iteration: 100%|██████████| 1004/1004 [00:22<00:00, 43.97it/s]\n",
      "Iteration:  78%|███████▊  | 779/1004 [00:17<00:05, 43.92it/s]"
     ]
    },
    {
     "name": "stdout",
     "output_type": "stream",
     "text": [
      "Evaluating...\n"
     ]
    },
    {
     "name": "stderr",
     "output_type": "stream",
     "text": [
      "Iteration: 100%|██████████| 1004/1004 [00:23<00:00, 43.37it/s]\n",
      "Iteration:   0%|          | 5/1004 [00:00<00:21, 46.85it/s]s]"
     ]
    },
    {
     "name": "stdout",
     "output_type": "stream",
     "text": [
      "Evaluating...\n"
     ]
    },
    {
     "name": "stderr",
     "output_type": "stream",
     "text": [
      "Iteration:  81%|████████▏ | 818/1004 [00:18<00:04, 43.94it/s]"
     ]
    },
    {
     "name": "stdout",
     "output_type": "stream",
     "text": [
      "Evaluating...\n"
     ]
    },
    {
     "name": "stderr",
     "output_type": "stream",
     "text": [
      "Iteration: 100%|██████████| 1004/1004 [00:23<00:00, 43.00it/s]\n",
      "Iteration: 100%|██████████| 1004/1004 [00:23<00:00, 42.75it/s]\n",
      "Iteration:  72%|███████▏  | 719/1004 [00:14<00:05, 48.19it/s]"
     ]
    },
    {
     "name": "stdout",
     "output_type": "stream",
     "text": [
      "Evaluating...\n"
     ]
    },
    {
     "name": "stderr",
     "output_type": "stream",
     "text": [
      "Iteration:  90%|████████▉ | 899/1004 [00:18<00:01, 54.27it/s]]\n",
      "Iteration:  56%|█████▋    | 565/1004 [00:11<00:07, 56.95it/s]]\n",
      "Iteration:   0%|          | 4/1004 [00:00<00:30, 32.63it/s]s]"
     ]
    },
    {
     "name": "stdout",
     "output_type": "stream",
     "text": [
      "{'Train':  best_epoch_indx:4\n",
      " auc:0.7826938041132045 \n",
      " apur:0.16353085714324972 \n",
      " f1:0.21079938167409962 \n",
      " precision:0.12263546339749024 \n",
      " recall:0.7499367888748419 \n",
      ", 'Validation':  best_epoch_indx:4\n",
      " auc:0.7773475406515313 \n",
      " apur:0.16175778939184646 \n",
      " f1:0.21045050812194926 \n",
      " precision:0.12245087997020207 \n",
      " recall:0.7480091012514221 \n",
      "}\n",
      "=====Epoch 5\n",
      "Training...\n"
     ]
    },
    {
     "name": "stderr",
     "output_type": "stream",
     "text": [
      "Iteration:   8%|▊         | 78/1004 [00:01<00:21, 43.85it/s]]\n",
      "Iteration:  58%|█████▊    | 587/1004 [00:11<00:07, 58.49it/s]]\n",
      "Iteration:  80%|████████  | 806/1004 [00:16<00:03, 55.17it/s]"
     ]
    },
    {
     "name": "stdout",
     "output_type": "stream",
     "text": [
      "{'Train':  best_epoch_indx:4\n",
      " auc:0.7824999919677389 \n",
      " apur:0.16268108108448875 \n",
      " f1:0.20933474412589645 \n",
      " precision:0.1207026786233077 \n",
      " recall:0.7878634639696587 \n",
      ", 'Validation':  best_epoch_indx:4\n",
      " auc:0.7763171339499463 \n",
      " apur:0.1555472275047373 \n",
      " f1:0.20689655172413796 \n",
      " precision:0.11930926216640503 \n",
      " recall:0.7781569965870307 \n",
      "}\n",
      "=====Epoch 5\n",
      "Training...\n"
     ]
    },
    {
     "name": "stderr",
     "output_type": "stream",
     "text": [
      "Iteration:  10%|█         | 104/1004 [00:02<00:19, 45.16it/s]\n",
      "Iteration:  42%|████▏     | 423/1004 [00:09<00:12, 45.33it/s]]\n",
      "Iteration:   0%|          | 4/1004 [00:00<00:29, 34.42it/s]s]"
     ]
    },
    {
     "name": "stdout",
     "output_type": "stream",
     "text": [
      "{'Train':  best_epoch_indx:4\n",
      " auc:0.7826242689517909 \n",
      " apur:0.16420406594887885 \n",
      " f1:0.20717545293556738 \n",
      " precision:0.11971034170626839 \n",
      " recall:0.7691383778999937 \n",
      ", 'Validation':  best_epoch_indx:4\n",
      " auc:0.7778602989633897 \n",
      " apur:0.16001174465823817 \n",
      " f1:0.20569840166782488 \n",
      " precision:0.11900294827124096 \n",
      " recall:0.757679180887372 \n",
      "}\n",
      "=====Epoch 5\n",
      "Training...\n"
     ]
    },
    {
     "name": "stderr",
     "output_type": "stream",
     "text": [
      "Iteration:   9%|▉         | 88/1004 [00:02<00:20, 44.80it/s]]\n",
      "Iteration:  66%|██████▌   | 663/1004 [00:15<00:07, 44.30it/s]]\n",
      "Iteration:   0%|          | 4/1004 [00:00<00:28, 34.69it/s]s]"
     ]
    },
    {
     "name": "stdout",
     "output_type": "stream",
     "text": [
      "{'Train':  best_epoch_indx:4\n",
      " auc:0.784790765709483 \n",
      " apur:0.16137347245031072 \n",
      " f1:0.20730989370400654 \n",
      " precision:0.11905410354898996 \n",
      " recall:0.8013780896390417 \n",
      ", 'Validation':  best_epoch_indx:4\n",
      " auc:0.7785474132259719 \n",
      " apur:0.16498327433819246 \n",
      " f1:0.20378521126760565 \n",
      " precision:0.11697827185447196 \n",
      " recall:0.7901023890784983 \n",
      "}\n",
      "=====Epoch 5\n",
      "Training...\n"
     ]
    },
    {
     "name": "stderr",
     "output_type": "stream",
     "text": [
      "Iteration:  27%|██▋       | 273/1004 [00:06<00:16, 44.13it/s]\n",
      "Iteration:  42%|████▏     | 418/1004 [00:09<00:13, 44.64it/s]\n",
      "Iteration:  42%|████▏     | 423/1004 [00:09<00:13, 44.66it/s]"
     ]
    },
    {
     "name": "stdout",
     "output_type": "stream",
     "text": [
      "{'Train':  best_epoch_indx:4\n",
      " auc:0.7854522051428661 \n",
      " apur:0.16135240162987985 \n",
      " f1:0.2019278513836235 \n",
      " precision:0.11534617358653665 \n",
      " recall:0.8097345132743363 \n",
      ", 'Validation':  best_epoch_indx:4\n",
      " auc:0.7815150444636386 \n",
      " apur:0.1599973486047928 \n",
      " f1:0.20179563916203502 \n",
      " precision:0.11534701857282502 \n",
      " recall:0.8054607508532423 \n",
      "}\n",
      "=====Epoch 5\n",
      "Training...\n"
     ]
    },
    {
     "name": "stderr",
     "output_type": "stream",
     "text": [
      "Iteration: 100%|██████████| 1004/1004 [00:22<00:00, 43.72it/s]\n",
      "Iteration:  34%|███▍      | 344/1004 [00:07<00:14, 44.31it/s]"
     ]
    },
    {
     "name": "stdout",
     "output_type": "stream",
     "text": [
      "Evaluating...\n"
     ]
    },
    {
     "name": "stderr",
     "output_type": "stream",
     "text": [
      "Iteration: 100%|██████████| 1004/1004 [00:22<00:00, 43.84it/s]\n",
      "Iteration:   0%|          | 0/1004 [00:00<?, ?it/s]"
     ]
    },
    {
     "name": "stdout",
     "output_type": "stream",
     "text": [
      "Evaluating...\n"
     ]
    },
    {
     "name": "stderr",
     "output_type": "stream",
     "text": [
      "Iteration: 100%|██████████| 1004/1004 [00:23<00:00, 43.47it/s]\n",
      "Iteration:  48%|████▊     | 482/1004 [00:09<00:11, 45.61it/s]"
     ]
    },
    {
     "name": "stdout",
     "output_type": "stream",
     "text": [
      "Evaluating...\n"
     ]
    },
    {
     "name": "stderr",
     "output_type": "stream",
     "text": [
      "Iteration: 100%|██████████| 1004/1004 [00:23<00:00, 43.09it/s]"
     ]
    },
    {
     "name": "stdout",
     "output_type": "stream",
     "text": [
      "Evaluating...\n"
     ]
    },
    {
     "name": "stderr",
     "output_type": "stream",
     "text": [
      "\n",
      "Iteration: 100%|██████████| 1004/1004 [00:23<00:00, 43.01it/s]\n",
      "Iteration:   0%|          | 0/1004 [00:00<?, ?it/s]"
     ]
    },
    {
     "name": "stdout",
     "output_type": "stream",
     "text": [
      "Evaluating...\n"
     ]
    },
    {
     "name": "stderr",
     "output_type": "stream",
     "text": [
      "Iteration:  22%|██▏       | 221/1004 [00:04<00:17, 45.35it/s]]\n",
      "Iteration:  38%|███▊      | 386/1004 [00:07<00:10, 60.10it/s]]\n",
      "Iteration:  87%|████████▋ | 870/1004 [00:17<00:02, 55.31it/s]"
     ]
    },
    {
     "name": "stdout",
     "output_type": "stream",
     "text": [
      "{'Train':  best_epoch_indx:5\n",
      " auc:0.7896617163933797 \n",
      " apur:0.16646475135272334 \n",
      " f1:0.21344417721077763 \n",
      " precision:0.12378709468747473 \n",
      " recall:0.7741466498103666 \n",
      ", 'Validation':  best_epoch_indx:5\n",
      " auc:0.7824927908587809 \n",
      " apur:0.1649736556313094 \n",
      " f1:0.21183116271771535 \n",
      " precision:0.12286130323989806 \n",
      " recall:0.7679180887372014 \n",
      "}\n",
      "=====Epoch 6\n",
      "Training...\n"
     ]
    },
    {
     "name": "stderr",
     "output_type": "stream",
     "text": [
      "Iteration:   5%|▍         | 48/1004 [00:01<00:22, 43.43it/s]]\n",
      "Iteration:  77%|███████▋  | 776/1004 [00:15<00:04, 54.73it/s]]\n",
      "Iteration:  17%|█▋        | 168/1004 [00:03<00:18, 44.85it/s]"
     ]
    },
    {
     "name": "stdout",
     "output_type": "stream",
     "text": [
      "{'Train':  best_epoch_indx:5\n",
      " auc:0.786327770983285 \n",
      " apur:0.1601096172520896 \n",
      " f1:0.2114202799590304 \n",
      " precision:0.1222123544503651 \n",
      " recall:0.7828697850821744 \n",
      ", 'Validation':  best_epoch_indx:5\n",
      " auc:0.779188174933931 \n",
      " apur:0.154507310087981 \n",
      " f1:0.20961034960726938 \n",
      " precision:0.12121482009262557 \n",
      " recall:0.7741751990898749 \n",
      "}\n",
      "=====Epoch 6\n",
      "Training...\n"
     ]
    },
    {
     "name": "stderr",
     "output_type": "stream",
     "text": [
      "Iteration:  71%|███████   | 712/1004 [00:13<00:05, 53.17it/s]\n",
      "Iteration:  84%|████████▍ | 841/1004 [00:16<00:02, 60.14it/s]]\n",
      "Iteration:   0%|          | 0/1004 [00:00<?, ?it/s]"
     ]
    },
    {
     "name": "stdout",
     "output_type": "stream",
     "text": [
      "{'Train':  best_epoch_indx:5\n",
      " auc:0.7871355067675647 \n",
      " apur:0.1664661769535603 \n",
      " f1:0.20632093821040798 \n",
      " precision:0.11855135339054984 \n",
      " recall:0.7946140716859473 \n",
      ", 'Validation':  best_epoch_indx:5\n",
      " auc:0.7789095302216144 \n",
      " apur:0.16339081249547593 \n",
      " f1:0.20558394430867216 \n",
      " precision:0.11817794806300554 \n",
      " recall:0.7895335608646189 \n",
      "}\n",
      "=====Epoch 6\n",
      "Training...\n"
     ]
    },
    {
     "name": "stderr",
     "output_type": "stream",
     "text": [
      "Iteration:  34%|███▍      | 339/1004 [00:07<00:14, 45.12it/s]\n",
      "Iteration:  63%|██████▎   | 633/1004 [00:14<00:08, 44.85it/s]]\n",
      "Iteration:  26%|██▌       | 259/1004 [00:05<00:16, 44.24it/s]"
     ]
    },
    {
     "name": "stdout",
     "output_type": "stream",
     "text": [
      "{'Train':  best_epoch_indx:5\n",
      " auc:0.7877169285060488 \n",
      " apur:0.16665276956156877 \n",
      " f1:0.20885440438156092 \n",
      " precision:0.120207095504652 \n",
      " recall:0.7954990833807447 \n",
      ", 'Validation':  best_epoch_indx:5\n",
      " auc:0.7831800666285222 \n",
      " apur:0.16733895668262871 \n",
      " f1:0.2053458417094781 \n",
      " precision:0.11813586909963163 \n",
      " recall:0.7844141069397043 \n",
      "}\n",
      "=====Epoch 6\n",
      "Training...\n"
     ]
    },
    {
     "name": "stderr",
     "output_type": "stream",
     "text": [
      "Iteration:  66%|██████▌   | 658/1004 [00:15<00:07, 44.62it/s]\n",
      "Iteration:  38%|███▊      | 384/1004 [00:08<00:14, 43.98it/s]\n",
      "Iteration:  39%|███▉      | 394/1004 [00:08<00:13, 44.91it/s]"
     ]
    },
    {
     "name": "stdout",
     "output_type": "stream",
     "text": [
      "{'Train':  best_epoch_indx:5\n",
      " auc:0.7896931873582571 \n",
      " apur:0.16199924294445825 \n",
      " f1:0.2111453947256269 \n",
      " precision:0.12202715217434139 \n",
      " recall:0.7829329962073325 \n",
      ", 'Validation':  best_epoch_indx:5\n",
      " auc:0.7841096838902925 \n",
      " apur:0.15927562692545263 \n",
      " f1:0.21175566653860928 \n",
      " precision:0.12241272097361641 \n",
      " recall:0.7838452787258248 \n",
      "}\n",
      "=====Epoch 6\n",
      "Training...\n"
     ]
    },
    {
     "name": "stderr",
     "output_type": "stream",
     "text": [
      "Iteration: 100%|██████████| 1004/1004 [00:22<00:00, 43.89it/s]\n",
      "Iteration:  24%|██▎       | 238/1004 [00:05<00:17, 44.47it/s]"
     ]
    },
    {
     "name": "stdout",
     "output_type": "stream",
     "text": [
      "Evaluating...\n"
     ]
    },
    {
     "name": "stderr",
     "output_type": "stream",
     "text": [
      "Iteration: 100%|██████████| 1004/1004 [00:22<00:00, 44.04it/s]\n",
      "Iteration:  52%|█████▏    | 524/1004 [00:12<00:14, 32.00it/s]"
     ]
    },
    {
     "name": "stdout",
     "output_type": "stream",
     "text": [
      "Evaluating...\n"
     ]
    },
    {
     "name": "stderr",
     "output_type": "stream",
     "text": [
      "Iteration: 100%|██████████| 1004/1004 [00:22<00:00, 43.79it/s]\n",
      "Iteration:  75%|███████▍  | 749/1004 [00:17<00:05, 44.19it/s]"
     ]
    },
    {
     "name": "stdout",
     "output_type": "stream",
     "text": [
      "Evaluating...\n"
     ]
    },
    {
     "name": "stderr",
     "output_type": "stream",
     "text": [
      "Iteration: 100%|██████████| 1004/1004 [00:23<00:00, 43.37it/s]\n",
      "Iteration:  29%|██▊       | 287/1004 [00:06<00:15, 45.72it/s]"
     ]
    },
    {
     "name": "stdout",
     "output_type": "stream",
     "text": [
      "Evaluating...\n"
     ]
    },
    {
     "name": "stderr",
     "output_type": "stream",
     "text": [
      "Iteration: 100%|██████████| 1004/1004 [00:23<00:00, 43.06it/s]\n",
      "Iteration:   0%|          | 0/1004 [00:00<?, ?it/s]"
     ]
    },
    {
     "name": "stdout",
     "output_type": "stream",
     "text": [
      "Evaluating...\n"
     ]
    },
    {
     "name": "stderr",
     "output_type": "stream",
     "text": [
      "Iteration:  98%|█████████▊| 988/1004 [00:20<00:00, 54.60it/s]]\n",
      "Iteration:  90%|████████▉ | 899/1004 [00:18<00:01, 59.78it/s]]\n",
      "Iteration:  64%|██████▍   | 642/1004 [00:12<00:06, 56.85it/s]"
     ]
    },
    {
     "name": "stdout",
     "output_type": "stream",
     "text": [
      "{'Train':  best_epoch_indx:6\n",
      " auc:0.7908324666431276 \n",
      " apur:0.17038820653189735 \n",
      " f1:0.21007768847425207 \n",
      " precision:0.1211136262503144 \n",
      " recall:0.7914032869785083 \n",
      ", 'Validation':  best_epoch_indx:6\n",
      " auc:0.7849801895318812 \n",
      " apur:0.16905135210315184 \n",
      " f1:0.20961756910261264 \n",
      " precision:0.12090504062199703 \n",
      " recall:0.7872582480091013 \n",
      "}\n",
      "=====Epoch 7\n",
      "Training...\n"
     ]
    },
    {
     "name": "stderr",
     "output_type": "stream",
     "text": [
      "Iteration:  65%|██████▍   | 648/1004 [00:12<00:06, 57.30it/s]\n",
      "Iteration:  80%|████████  | 806/1004 [00:16<00:03, 56.98it/s]]\n",
      "Iteration:  15%|█▍        | 146/1004 [00:03<00:19, 44.17it/s]"
     ]
    },
    {
     "name": "stdout",
     "output_type": "stream",
     "text": [
      "{'Train':  best_epoch_indx:6\n",
      " auc:0.7919645569000391 \n",
      " apur:0.16829545890021239 \n",
      " f1:0.20915325727760345 \n",
      " precision:0.12039037259362634 \n",
      " recall:0.7961441213653603 \n",
      ", 'Validation':  best_epoch_indx:6\n",
      " auc:0.783823690602243 \n",
      " apur:0.16308678223815015 \n",
      " f1:0.20785254008691745 \n",
      " precision:0.11969278564031757 \n",
      " recall:0.7889647326507395 \n",
      "}\n",
      "=====Epoch 7\n",
      "Training...\n"
     ]
    },
    {
     "name": "stderr",
     "output_type": "stream",
     "text": [
      "Iteration:  75%|███████▌  | 754/1004 [00:14<00:04, 55.51it/s]\n",
      "Iteration:  36%|███▋      | 366/1004 [00:08<00:14, 44.24it/s]]\n",
      "Iteration:  22%|██▏       | 224/1004 [00:05<00:17, 44.06it/s]"
     ]
    },
    {
     "name": "stdout",
     "output_type": "stream",
     "text": [
      "{'Train':  best_epoch_indx:6\n",
      " auc:0.7938488031151196 \n",
      " apur:0.1717241626474251 \n",
      " f1:0.20754160660463897 \n",
      " precision:0.11921676374003783 \n",
      " recall:0.800935583791643 \n",
      ", 'Validation':  best_epoch_indx:6\n",
      " auc:0.7854280758015547 \n",
      " apur:0.16406271787796634 \n",
      " f1:0.20755136859283438 \n",
      " precision:0.11933805339930052 \n",
      " recall:0.7957906712172924 \n",
      "}\n",
      "=====Epoch 7\n",
      "Training...\n"
     ]
    },
    {
     "name": "stderr",
     "output_type": "stream",
     "text": [
      "Iteration:  30%|███       | 304/1004 [00:07<00:16, 41.97it/s]]\n",
      "Iteration:  43%|████▎     | 429/1004 [00:09<00:12, 45.08it/s]\n",
      "Iteration:  21%|██▏       | 214/1004 [00:04<00:17, 44.24it/s]\n",
      "Iteration:  22%|██▏       | 25/112 [00:00<00:01, 49.17it/s]s]"
     ]
    },
    {
     "name": "stdout",
     "output_type": "stream",
     "text": [
      "{'Train':  best_epoch_indx:6\n",
      " auc:0.792909691299439 \n",
      " apur:0.16931933420802497 \n",
      " f1:0.21053516626728885 \n",
      " precision:0.12141665696885061 \n",
      " recall:0.7914533156330994 \n",
      ", 'Validation':  best_epoch_indx:6\n",
      " auc:0.7892085815429188 \n",
      " apur:0.16944776656452026 \n",
      " f1:0.2090250528222155 \n",
      " precision:0.12049765094832086 \n",
      " recall:0.7878270762229806 \n",
      "}\n",
      "=====Epoch 7\n",
      "Training...\n"
     ]
    },
    {
     "name": "stderr",
     "output_type": "stream",
     "text": [
      "Iteration:  12%|█▏        | 123/1004 [00:02<00:20, 43.93it/s]\n",
      "Iteration:  13%|█▎        | 128/1004 [00:03<00:20, 43.48it/s]"
     ]
    },
    {
     "name": "stdout",
     "output_type": "stream",
     "text": [
      "{'Train':  best_epoch_indx:6\n",
      " auc:0.7921129220188371 \n",
      " apur:0.1677433366075282 \n",
      " f1:0.21279783688828802 \n",
      " precision:0.1231793757289974 \n",
      " recall:0.7810366624525916 \n",
      ", 'Validation':  best_epoch_indx:6\n",
      " auc:0.7832221033529533 \n",
      " apur:0.16235811236567918 \n",
      " f1:0.21216582719876015 \n",
      " precision:0.12281331299901319 \n",
      " recall:0.7787258248009101 \n",
      "}\n",
      "=====Epoch 7\n",
      "Training...\n"
     ]
    },
    {
     "name": "stderr",
     "output_type": "stream",
     "text": [
      "Iteration: 100%|██████████| 1004/1004 [00:22<00:00, 43.67it/s]\n",
      "Iteration:  63%|██████▎   | 634/1004 [00:14<00:08, 44.59it/s]"
     ]
    },
    {
     "name": "stdout",
     "output_type": "stream",
     "text": [
      "Evaluating...\n"
     ]
    },
    {
     "name": "stderr",
     "output_type": "stream",
     "text": [
      "Iteration: 100%|██████████| 1004/1004 [00:22<00:00, 43.94it/s]\n",
      "Iteration:  42%|████▏     | 424/1004 [00:09<00:13, 43.57it/s]"
     ]
    },
    {
     "name": "stdout",
     "output_type": "stream",
     "text": [
      "Evaluating...\n"
     ]
    },
    {
     "name": "stderr",
     "output_type": "stream",
     "text": [
      "Iteration: 100%|██████████| 1004/1004 [00:23<00:00, 43.62it/s]\n",
      "Iteration:  26%|██▌       | 257/1004 [00:05<00:16, 46.40it/s]"
     ]
    },
    {
     "name": "stdout",
     "output_type": "stream",
     "text": [
      "Evaluating...\n"
     ]
    },
    {
     "name": "stderr",
     "output_type": "stream",
     "text": [
      "Iteration: 100%|██████████| 1004/1004 [00:23<00:00, 43.11it/s]\n",
      "Iteration:  25%|██▌       | 252/1004 [00:05<00:16, 46.59it/s]"
     ]
    },
    {
     "name": "stdout",
     "output_type": "stream",
     "text": [
      "Evaluating...\n"
     ]
    },
    {
     "name": "stderr",
     "output_type": "stream",
     "text": [
      "Iteration: 100%|██████████| 1004/1004 [00:23<00:00, 43.30it/s]\n",
      "Iteration:   0%|          | 4/1004 [00:00<00:26, 37.05it/s]s]"
     ]
    },
    {
     "name": "stdout",
     "output_type": "stream",
     "text": [
      "Evaluating...\n"
     ]
    },
    {
     "name": "stderr",
     "output_type": "stream",
     "text": [
      "Iteration:  73%|███████▎  | 732/1004 [00:15<00:05, 50.46it/s]]\n",
      "Iteration:  65%|██████▌   | 655/1004 [00:13<00:05, 60.00it/s]]\n",
      "Iteration:  89%|████████▉ | 897/1004 [00:18<00:01, 56.56it/s]"
     ]
    },
    {
     "name": "stdout",
     "output_type": "stream",
     "text": [
      "{'Train':  best_epoch_indx:7\n",
      " auc:0.7961629205124117 \n",
      " apur:0.1727974530363689 \n",
      " f1:0.21170222661964802 \n",
      " precision:0.1221993341859398 \n",
      " recall:0.7912136536030341 \n",
      ", 'Validation':  best_epoch_indx:7\n",
      " auc:0.7874269332640216 \n",
      " apur:0.17075346549525838 \n",
      " f1:0.21120195613968062 \n",
      " precision:0.12198781887192162 \n",
      " recall:0.7861205915813424 \n",
      "}\n",
      "=====Epoch 8\n",
      "Training...\n"
     ]
    },
    {
     "name": "stderr",
     "output_type": "stream",
     "text": [
      "Iteration:  90%|█████████ | 904/1004 [00:18<00:01, 57.60it/s]\n",
      "Iteration:  82%|████████▏ | 824/1004 [00:16<00:03, 47.89it/s]]\n",
      "Iteration:  14%|█▍        | 144/1004 [00:03<00:19, 44.26it/s]"
     ]
    },
    {
     "name": "stdout",
     "output_type": "stream",
     "text": [
      "{'Train':  best_epoch_indx:7\n",
      " auc:0.7977502351236707 \n",
      " apur:0.17364385134575508 \n",
      " f1:0.2104091521537187 \n",
      " precision:0.12125859690752476 \n",
      " recall:0.7946270543615677 \n",
      ", 'Validation':  best_epoch_indx:7\n",
      " auc:0.7900437888976534 \n",
      " apur:0.16368230096250547 \n",
      " f1:0.20677173667144255 \n",
      " precision:0.11918629922628879 \n",
      " recall:0.7798634812286689 \n",
      "}\n",
      "=====Epoch 8\n",
      "Training...\n"
     ]
    },
    {
     "name": "stderr",
     "output_type": "stream",
     "text": [
      "Iteration:  79%|███████▉  | 793/1004 [00:15<00:03, 53.14it/s]\n",
      "Iteration:  23%|██▎       | 227/1004 [00:05<00:17, 45.17it/s]]\n",
      "Iteration:  95%|█████████▌| 955/1004 [00:19<00:01, 48.26it/s]"
     ]
    },
    {
     "name": "stdout",
     "output_type": "stream",
     "text": [
      "{'Train':  best_epoch_indx:7\n",
      " auc:0.7974436697487599 \n",
      " apur:0.17302025973499738 \n",
      " f1:0.20589135301412442 \n",
      " precision:0.11797384716185413 \n",
      " recall:0.808142107592136 \n",
      ", 'Validation':  best_epoch_indx:7\n",
      " auc:0.7915056350565572 \n",
      " apur:0.1681448602276019 \n",
      " f1:0.20449421860228348 \n",
      " precision:0.11723505378137247 \n",
      " recall:0.7997724687144482 \n",
      "}\n",
      "=====Epoch 8\n",
      "Training...\n"
     ]
    },
    {
     "name": "stderr",
     "output_type": "stream",
     "text": [
      "Iteration:  29%|██▉       | 292/1004 [00:06<00:15, 45.15it/s]]\n",
      "Iteration:  18%|█▊        | 177/1004 [00:04<00:18, 45.15it/s]\n",
      "Iteration:  43%|████▎     | 427/1004 [00:09<00:13, 44.04it/s]\n",
      "Iteration:   0%|          | 4/1004 [00:00<00:29, 34.01it/s]s]"
     ]
    },
    {
     "name": "stdout",
     "output_type": "stream",
     "text": [
      "{'Train':  best_epoch_indx:7\n",
      " auc:0.7963838421273071 \n",
      " apur:0.1726525260057037 \n",
      " f1:0.2138262412882559 \n",
      " precision:0.12387897999719118 \n",
      " recall:0.7806435299323599 \n",
      ", 'Validation':  best_epoch_indx:7\n",
      " auc:0.7880008399807886 \n",
      " apur:0.16975545135939846 \n",
      " f1:0.21243482997432106 \n",
      " precision:0.1230505724330659 \n",
      " recall:0.7764505119453925 \n",
      "}\n",
      "=====Epoch 8\n",
      "Training...\n"
     ]
    },
    {
     "name": "stderr",
     "output_type": "stream",
     "text": [
      "Iteration:  69%|██████▉   | 694/1004 [00:15<00:07, 43.00it/s]\n",
      "Iteration:  12%|█▏        | 117/1004 [00:02<00:20, 43.60it/s]"
     ]
    },
    {
     "name": "stdout",
     "output_type": "stream",
     "text": [
      "{'Train':  best_epoch_indx:7\n",
      " auc:0.7965826528115367 \n",
      " apur:0.17182413867703197 \n",
      " f1:0.20972773327343963 \n",
      " precision:0.12075522305135401 \n",
      " recall:0.7968394437420986 \n",
      ", 'Validation':  best_epoch_indx:7\n",
      " auc:0.7871109803979837 \n",
      " apur:0.16783770830573486 \n",
      " f1:0.20960960960960962 \n",
      " precision:0.12074035633973361 \n",
      " recall:0.7940841865756542 \n",
      "}\n",
      "=====Epoch 8\n",
      "Training...\n"
     ]
    },
    {
     "name": "stderr",
     "output_type": "stream",
     "text": [
      "Iteration: 100%|██████████| 1004/1004 [00:23<00:00, 43.47it/s]\n",
      "Iteration:  44%|████▎     | 437/1004 [00:10<00:12, 43.96it/s]"
     ]
    },
    {
     "name": "stdout",
     "output_type": "stream",
     "text": [
      "Evaluating...\n"
     ]
    },
    {
     "name": "stderr",
     "output_type": "stream",
     "text": [
      "Iteration: 100%|██████████| 1004/1004 [00:22<00:00, 43.82it/s]\n",
      "Iteration:   0%|          | 0/1004 [00:00<?, ?it/s]"
     ]
    },
    {
     "name": "stdout",
     "output_type": "stream",
     "text": [
      "Evaluating...\n"
     ]
    },
    {
     "name": "stderr",
     "output_type": "stream",
     "text": [
      "Iteration: 100%|██████████| 1004/1004 [00:23<00:00, 43.60it/s]\n",
      "Iteration:  68%|██████▊   | 684/1004 [00:15<00:07, 44.56it/s]"
     ]
    },
    {
     "name": "stdout",
     "output_type": "stream",
     "text": [
      "Evaluating...\n"
     ]
    },
    {
     "name": "stderr",
     "output_type": "stream",
     "text": [
      "Iteration: 100%|██████████| 1004/1004 [00:23<00:00, 43.20it/s]\n",
      "Iteration:   0%|          | 0/1004 [00:00<?, ?it/s]"
     ]
    },
    {
     "name": "stdout",
     "output_type": "stream",
     "text": [
      "Evaluating...\n"
     ]
    },
    {
     "name": "stderr",
     "output_type": "stream",
     "text": [
      "Iteration: 100%|██████████| 1004/1004 [00:23<00:00, 43.17it/s]\n",
      "Iteration:  62%|██████▏   | 627/1004 [00:12<00:10, 36.42it/s]"
     ]
    },
    {
     "name": "stdout",
     "output_type": "stream",
     "text": [
      "Evaluating...\n"
     ]
    },
    {
     "name": "stderr",
     "output_type": "stream",
     "text": [
      "Iteration:  39%|███▊      | 387/1004 [00:07<00:11, 54.81it/s]]\n",
      "Iteration:  51%|█████▏    | 515/1004 [00:10<00:08, 56.05it/s]]\n",
      "Iteration:   0%|          | 4/1004 [00:00<00:30, 33.05it/s]s]"
     ]
    },
    {
     "name": "stdout",
     "output_type": "stream",
     "text": [
      "{'Train':  best_epoch_indx:8\n",
      " auc:0.7996482092323141 \n",
      " apur:0.17376674919911367 \n",
      " f1:0.2134068330714476 \n",
      " precision:0.1234760490048985 \n",
      " recall:0.7855246523388116 \n",
      ", 'Validation':  best_epoch_indx:8\n",
      " auc:0.7920287298265895 \n",
      " apur:0.170315170728627 \n",
      " f1:0.21183028801486528 \n",
      " precision:0.12260261695644381 \n",
      " recall:0.7781569965870307 \n",
      "}\n",
      "=====Epoch 9\n",
      "Training...\n"
     ]
    },
    {
     "name": "stderr",
     "output_type": "stream",
     "text": [
      "Iteration:  55%|█████▍    | 551/1004 [00:11<00:08, 54.09it/s]\n",
      "Iteration:  17%|█▋        | 169/1004 [00:04<00:20, 41.49it/s]]\n",
      "Iteration:   0%|          | 0/1004 [00:00<?, ?it/s]"
     ]
    },
    {
     "name": "stdout",
     "output_type": "stream",
     "text": [
      "{'Train':  best_epoch_indx:8\n",
      " auc:0.8004101416547411 \n",
      " apur:0.17610908512230786 \n",
      " f1:0.21047806374183223 \n",
      " precision:0.12122230329096424 \n",
      " recall:0.7981668773704171 \n",
      ", 'Validation':  best_epoch_indx:8\n",
      " auc:0.793072801828347 \n",
      " apur:0.16981209123123706 \n",
      " f1:0.20845491956603068 \n",
      " precision:0.12001378478504351 \n",
      " recall:0.7923777019340159 \n",
      "}\n",
      "=====Epoch 9\n",
      "Training...\n"
     ]
    },
    {
     "name": "stderr",
     "output_type": "stream",
     "text": [
      "Iteration:  25%|██▌       | 254/1004 [00:05<00:16, 45.09it/s]\n",
      "Iteration:  39%|███▉      | 394/1004 [00:09<00:13, 44.79it/s]]\n",
      "Iteration:  40%|███▉      | 399/1004 [00:09<00:13, 43.54it/s]"
     ]
    },
    {
     "name": "stdout",
     "output_type": "stream",
     "text": [
      "{'Train':  best_epoch_indx:8\n",
      " auc:0.7998695975509863 \n",
      " apur:0.17380318820322888 \n",
      " f1:0.21413301968595197 \n",
      " precision:0.12389231074905623 \n",
      " recall:0.7883557747013086 \n",
      ", 'Validation':  best_epoch_indx:8\n",
      " auc:0.7917692147399904 \n",
      " apur:0.17274604905741017 \n",
      " f1:0.21163529320629018 \n",
      " precision:0.12250022419513945 \n",
      " recall:0.7770193401592719 \n",
      "}\n",
      "=====Epoch 9\n",
      "Training...\n"
     ]
    },
    {
     "name": "stderr",
     "output_type": "stream",
     "text": [
      "Iteration:  44%|████▍     | 444/1004 [00:10<00:12, 43.63it/s]]\n",
      "Iteration:  15%|█▍        | 149/1004 [00:03<00:25, 34.10it/s]\n",
      "Iteration:  18%|█▊        | 184/1004 [00:04<00:18, 43.81it/s]\n",
      "Iteration:  43%|████▎     | 48/112 [00:00<00:01, 48.61it/s]s]"
     ]
    },
    {
     "name": "stdout",
     "output_type": "stream",
     "text": [
      "{'Train':  best_epoch_indx:8\n",
      " auc:0.8007982048685454 \n",
      " apur:0.17543258011966414 \n",
      " f1:0.20903973455271804 \n",
      " precision:0.12021645227132483 \n",
      " recall:0.8004930779442443 \n",
      ", 'Validation':  best_epoch_indx:8\n",
      " auc:0.7933501365381522 \n",
      " apur:0.1749402131680231 \n",
      " f1:0.20631859982201128 \n",
      " precision:0.11862527716186252 \n",
      " recall:0.7912400455062572 \n",
      "}\n",
      "=====Epoch 9\n",
      "Training...\n"
     ]
    },
    {
     "name": "stderr",
     "output_type": "stream",
     "text": [
      "Iteration:  11%|█         | 109/1004 [00:02<00:20, 43.95it/s]\n",
      "Iteration:  30%|███       | 304/1004 [00:06<00:15, 44.50it/s]"
     ]
    },
    {
     "name": "stdout",
     "output_type": "stream",
     "text": [
      "{'Train':  best_epoch_indx:8\n",
      " auc:0.8007750192999601 \n",
      " apur:0.17611877851716085 \n",
      " f1:0.2136918511597325 \n",
      " precision:0.12378842703499153 \n",
      " recall:0.7806573957016435 \n",
      ", 'Validation':  best_epoch_indx:8\n",
      " auc:0.7905176060389608 \n",
      " apur:0.1693245654020303 \n",
      " f1:0.21353477143524646 \n",
      " precision:0.12370296851033113 \n",
      " recall:0.7798634812286689 \n",
      "}\n",
      "=====Epoch 9\n",
      "Training...\n"
     ]
    },
    {
     "name": "stderr",
     "output_type": "stream",
     "text": [
      "Iteration: 100%|██████████| 1004/1004 [00:23<00:00, 43.50it/s]\n",
      "Iteration:  62%|██████▏   | 619/1004 [00:14<00:08, 44.79it/s]"
     ]
    },
    {
     "name": "stdout",
     "output_type": "stream",
     "text": [
      "Evaluating...\n"
     ]
    },
    {
     "name": "stderr",
     "output_type": "stream",
     "text": [
      "Iteration: 100%|██████████| 1004/1004 [00:22<00:00, 43.86it/s]\n",
      "Iteration:  19%|█▉        | 192/1004 [00:03<00:16, 48.18it/s]"
     ]
    },
    {
     "name": "stdout",
     "output_type": "stream",
     "text": [
      "Evaluating...\n"
     ]
    },
    {
     "name": "stderr",
     "output_type": "stream",
     "text": [
      "Iteration: 100%|██████████| 1004/1004 [00:23<00:00, 43.62it/s]\n",
      "Iteration:   0%|          | 5/1004 [00:00<00:22, 44.41it/s]s]"
     ]
    },
    {
     "name": "stdout",
     "output_type": "stream",
     "text": [
      "Evaluating...\n"
     ]
    },
    {
     "name": "stderr",
     "output_type": "stream",
     "text": [
      "Iteration: 100%|██████████| 1004/1004 [00:23<00:00, 43.17it/s]\n",
      "Iteration:  90%|█████████ | 904/1004 [00:20<00:02, 43.30it/s]"
     ]
    },
    {
     "name": "stdout",
     "output_type": "stream",
     "text": [
      "Evaluating...\n"
     ]
    },
    {
     "name": "stderr",
     "output_type": "stream",
     "text": [
      "Iteration: 100%|██████████| 1004/1004 [00:23<00:00, 43.20it/s]\n",
      "Iteration:   0%|          | 0/1004 [00:00<?, ?it/s]"
     ]
    },
    {
     "name": "stdout",
     "output_type": "stream",
     "text": [
      "Evaluating...\n"
     ]
    },
    {
     "name": "stderr",
     "output_type": "stream",
     "text": [
      "Iteration:  38%|███▊      | 386/1004 [00:07<00:11, 54.24it/s]]\n",
      "Iteration:  89%|████████▉ | 897/1004 [00:18<00:01, 54.75it/s]]\n",
      "Iteration:   0%|          | 0/1004 [00:00<?, ?it/s]"
     ]
    },
    {
     "name": "stdout",
     "output_type": "stream",
     "text": [
      "{'Train':  best_epoch_indx:9\n",
      " auc:0.8041616472051443 \n",
      " apur:0.17995813092110194 \n",
      " f1:0.21433167191400654 \n",
      " precision:0.12399376656376865 \n",
      " recall:0.7896333754740834 \n",
      ", 'Validation':  best_epoch_indx:9\n",
      " auc:0.7962590509509146 \n",
      " apur:0.1768580229802518 \n",
      " f1:0.21300309597523218 \n",
      " precision:0.12327539867407275 \n",
      " recall:0.782707622298066 \n",
      "}\n",
      "=====Epoch 10\n",
      "Training...\n"
     ]
    },
    {
     "name": "stderr",
     "output_type": "stream",
     "text": [
      "Iteration:  91%|█████████ | 909/1004 [00:18<00:01, 50.26it/s]\n",
      "Iteration:  86%|████████▌ | 865/1004 [00:17<00:02, 52.31it/s]]"
     ]
    },
    {
     "name": "stdout",
     "output_type": "stream",
     "text": [
      "{'Train':  best_epoch_indx:9\n",
      " auc:0.8042033121499527 \n",
      " apur:0.17955018321926786 \n",
      " f1:0.21103381545801844 \n",
      " precision:0.12155747314204447 \n",
      " recall:0.7996207332490518 \n",
      ", 'Validation':  best_epoch_indx:9\n",
      " auc:0.796765546374053 \n",
      " apur:0.17127967432109062 \n",
      " f1:0.2078313253012048 \n",
      " precision:0.11977087311230689 \n",
      " recall:0.7849829351535836 \n",
      "}\n",
      "=====Epoch 10\n",
      "Training...\n"
     ]
    },
    {
     "name": "stderr",
     "output_type": "stream",
     "text": [
      "\n",
      "Iteration:   8%|▊         | 83/1004 [00:01<00:20, 45.09it/s]]\n",
      "Iteration:  35%|███▍      | 349/1004 [00:08<00:14, 45.09it/s]]\n",
      "Iteration:  97%|█████████▋| 973/1004 [00:19<00:00, 48.56it/s]"
     ]
    },
    {
     "name": "stdout",
     "output_type": "stream",
     "text": [
      "{'Train':  best_epoch_indx:9\n",
      " auc:0.8049048553617353 \n",
      " apur:0.17955251027085564 \n",
      " f1:0.21379087852752401 \n",
      " precision:0.12347870431209486 \n",
      " recall:0.7959415892281434 \n",
      ", 'Validation':  best_epoch_indx:9\n",
      " auc:0.7942732217326043 \n",
      " apur:0.17158122453204425 \n",
      " f1:0.2105585309869931 \n",
      " precision:0.12164073550212164 \n",
      " recall:0.782707622298066 \n",
      "}\n",
      "=====Epoch 10\n",
      "Training...\n"
     ]
    },
    {
     "name": "stderr",
     "output_type": "stream",
     "text": [
      "Iteration:  40%|████      | 404/1004 [00:09<00:13, 44.42it/s]]\n",
      "Iteration:  52%|█████▏    | 524/1004 [00:11<00:10, 44.89it/s]\n",
      "Iteration:  19%|█▉        | 189/1004 [00:04<00:18, 44.37it/s]\n",
      "Iteration:  55%|█████▍    | 549/1004 [00:12<00:10, 44.42it/s]"
     ]
    },
    {
     "name": "stdout",
     "output_type": "stream",
     "text": [
      "{'Train':  best_epoch_indx:9\n",
      " auc:0.804941148724609 \n",
      " apur:0.1801788495083218 \n",
      " f1:0.21283760915183106 \n",
      " precision:0.122864260245201 \n",
      " recall:0.795056577533346 \n",
      ", 'Validation':  best_epoch_indx:9\n",
      " auc:0.7962779113980338 \n",
      " apur:0.1759759242643881 \n",
      " f1:0.20957720866798 \n",
      " precision:0.1208916083916084 \n",
      " recall:0.7866894197952219 \n",
      "}\n",
      "=====Epoch 10\n",
      "Training...\n"
     ]
    },
    {
     "name": "stderr",
     "output_type": "stream",
     "text": [
      "Iteration:  12%|█▏        | 123/1004 [00:02<00:20, 43.95it/s]\n",
      "Iteration:  13%|█▎        | 128/1004 [00:02<00:19, 44.10it/s]"
     ]
    },
    {
     "name": "stdout",
     "output_type": "stream",
     "text": [
      "{'Train':  best_epoch_indx:9\n",
      " auc:0.8043739437004329 \n",
      " apur:0.17934407353439344 \n",
      " f1:0.21053245562869766 \n",
      " precision:0.12124964008062195 \n",
      " recall:0.7985461441213654 \n",
      ", 'Validation':  best_epoch_indx:9\n",
      " auc:0.794341386726308 \n",
      " apur:0.17232371533038163 \n",
      " f1:0.2080264542311739 \n",
      " precision:0.1198475926567371 \n",
      " recall:0.7872582480091013 \n",
      "}\n",
      "=====Epoch 10\n",
      "Training...\n"
     ]
    },
    {
     "name": "stderr",
     "output_type": "stream",
     "text": [
      "Iteration: 100%|██████████| 1004/1004 [00:23<00:00, 43.51it/s]\n",
      "Iteration:   0%|          | 0/1004 [00:00<?, ?it/s]"
     ]
    },
    {
     "name": "stdout",
     "output_type": "stream",
     "text": [
      "Evaluating...\n"
     ]
    },
    {
     "name": "stderr",
     "output_type": "stream",
     "text": [
      "Iteration: 100%|██████████| 1004/1004 [00:22<00:00, 43.90it/s]\n",
      "Iteration:   0%|          | 4/1004 [00:00<00:25, 38.74it/s]s]"
     ]
    },
    {
     "name": "stdout",
     "output_type": "stream",
     "text": [
      "Evaluating...\n"
     ]
    },
    {
     "name": "stderr",
     "output_type": "stream",
     "text": [
      "Iteration: 100%|██████████| 1004/1004 [00:23<00:00, 43.44it/s]\n",
      "Iteration:  81%|████████▏ | 818/1004 [00:18<00:04, 44.14it/s]"
     ]
    },
    {
     "name": "stdout",
     "output_type": "stream",
     "text": [
      "Evaluating...\n"
     ]
    },
    {
     "name": "stderr",
     "output_type": "stream",
     "text": [
      "Iteration: 100%|██████████| 1004/1004 [00:23<00:00, 43.18it/s]\n",
      "Iteration:   0%|          | 4/1004 [00:00<00:25, 39.27it/s]s]"
     ]
    },
    {
     "name": "stdout",
     "output_type": "stream",
     "text": [
      "Evaluating...\n"
     ]
    },
    {
     "name": "stderr",
     "output_type": "stream",
     "text": [
      "Iteration: 100%|██████████| 1004/1004 [00:23<00:00, 43.16it/s]\n",
      "Iteration:  36%|███▋      | 366/1004 [00:07<00:12, 49.96it/s]"
     ]
    },
    {
     "name": "stdout",
     "output_type": "stream",
     "text": [
      "Evaluating...\n"
     ]
    },
    {
     "name": "stderr",
     "output_type": "stream",
     "text": [
      "Iteration:  78%|███████▊  | 780/1004 [00:15<00:04, 53.10it/s]]\n",
      "Iteration:  56%|█████▋    | 565/1004 [00:11<00:07, 57.67it/s]\n",
      "Iteration:  92%|█████████▏| 923/1004 [00:18<00:01, 58.65it/s]"
     ]
    },
    {
     "name": "stdout",
     "output_type": "stream",
     "text": [
      "{'Train':  best_epoch_indx:10\n",
      " auc:0.8041842669387369 \n",
      " apur:0.1802836306415346 \n",
      " f1:0.2161339686293604 \n",
      " precision:0.12530244374546334 \n",
      " recall:0.7856510745891276 \n",
      ", 'Validation':  best_epoch_indx:10\n",
      " auc:0.7966856810839441 \n",
      " apur:0.17643631143573069 \n",
      " f1:0.2149122807017544 \n",
      " precision:0.124613987284287 \n",
      " recall:0.7804323094425484 \n",
      "}\n",
      "=====Epoch 11\n",
      "Training...\n"
     ]
    },
    {
     "name": "stderr",
     "output_type": "stream",
     "text": [
      "Iteration:  72%|███████▏  | 726/1004 [00:14<00:05, 54.15it/s]\n",
      "Iteration:  84%|████████▍ | 848/1004 [00:16<00:02, 58.62it/s]]\n",
      "Iteration:  13%|█▎        | 134/1004 [00:03<00:19, 45.04it/s]"
     ]
    },
    {
     "name": "stdout",
     "output_type": "stream",
     "text": [
      "{'Train':  best_epoch_indx:10\n",
      " auc:0.8045926105856781 \n",
      " apur:0.17895263321590982 \n",
      " f1:0.21551932158985143 \n",
      " precision:0.12477049572922487 \n",
      " recall:0.7903919089759798 \n",
      ", 'Validation':  best_epoch_indx:10\n",
      " auc:0.7950394116947406 \n",
      " apur:0.16965382048906041 \n",
      " f1:0.211523528498214 \n",
      " precision:0.12248201438848921 \n",
      " recall:0.7747440273037542 \n",
      "}\n",
      "=====Epoch 11\n",
      "Training...\n"
     ]
    },
    {
     "name": "stderr",
     "output_type": "stream",
     "text": [
      "Iteration:  22%|██▏       | 219/1004 [00:04<00:17, 45.09it/s]\n",
      "Iteration:  23%|██▎       | 229/1004 [00:05<00:17, 45.13it/s]]\n",
      "Iteration:   0%|          | 4/1004 [00:00<00:28, 35.16it/s]s]"
     ]
    },
    {
     "name": "stdout",
     "output_type": "stream",
     "text": [
      "{'Train':  best_epoch_indx:10\n",
      " auc:0.8040570816801189 \n",
      " apur:0.1789982873541794 \n",
      " f1:0.21282202888757495 \n",
      " precision:0.12282224020434626 \n",
      " recall:0.7963840950755421 \n",
      ", 'Validation':  best_epoch_indx:10\n",
      " auc:0.7957373379643538 \n",
      " apur:0.17415395549748477 \n",
      " f1:0.21172340100747977 \n",
      " precision:0.1222672778561354 \n",
      " recall:0.7889647326507395 \n",
      "}\n",
      "=====Epoch 11\n",
      "Training...\n"
     ]
    },
    {
     "name": "stderr",
     "output_type": "stream",
     "text": [
      "Iteration:  27%|██▋       | 274/1004 [00:06<00:17, 41.06it/s]]\n",
      "Iteration:  51%|█████     | 514/1004 [00:11<00:10, 44.69it/s]\n",
      "Iteration:  36%|███▌      | 40/112 [00:00<00:01, 52.00it/s]s]\n",
      "Iteration:  54%|█████▍    | 544/1004 [00:12<00:11, 41.11it/s]"
     ]
    },
    {
     "name": "stdout",
     "output_type": "stream",
     "text": [
      "{'Train':  best_epoch_indx:10\n",
      " auc:0.8035280349622033 \n",
      " apur:0.17871906348438796 \n",
      " f1:0.21362893338782182 \n",
      " precision:0.1234392986805986 \n",
      " recall:0.7930969087805804 \n",
      ", 'Validation':  best_epoch_indx:10\n",
      " auc:0.796126480491263 \n",
      " apur:0.17657168601844822 \n",
      " f1:0.20806955991152468 \n",
      " precision:0.12014445521007663 \n",
      " recall:0.7758816837315131 \n",
      "}\n",
      "=====Epoch 11\n",
      "Training...\n"
     ]
    },
    {
     "name": "stderr",
     "output_type": "stream",
     "text": [
      "Iteration:  50%|████▉     | 499/1004 [00:11<00:11, 44.23it/s]\n",
      "Iteration:  27%|██▋       | 269/1004 [00:06<00:19, 37.83it/s]"
     ]
    },
    {
     "name": "stdout",
     "output_type": "stream",
     "text": [
      "{'Train':  best_epoch_indx:10\n",
      " auc:0.8036721722715566 \n",
      " apur:0.17870174720191362 \n",
      " f1:0.21031232367486474 \n",
      " precision:0.1210456942003515 \n",
      " recall:0.8010745891276865 \n",
      ", 'Validation':  best_epoch_indx:10\n",
      " auc:0.7933181760659168 \n",
      " apur:0.17041576495901825 \n",
      " f1:0.207994023160254 \n",
      " precision:0.11972133826438462 \n",
      " recall:0.7918088737201365 \n",
      "}\n",
      "=====Epoch 11\n",
      "Training...\n"
     ]
    },
    {
     "name": "stderr",
     "output_type": "stream",
     "text": [
      "Iteration:  64%|██████▎   | 639/1004 [00:14<00:08, 44.60it/s]]\n",
      "Iteration:   0%|          | 0/1004 [00:00<?, ?it/s]"
     ]
    },
    {
     "name": "stdout",
     "output_type": "stream",
     "text": [
      "Evaluating...\n"
     ]
    },
    {
     "name": "stderr",
     "output_type": "stream",
     "text": [
      "Iteration: 100%|██████████| 1004/1004 [00:22<00:00, 43.86it/s]\n",
      "Iteration:  57%|█████▋    | 577/1004 [00:13<00:09, 43.35it/s]"
     ]
    },
    {
     "name": "stdout",
     "output_type": "stream",
     "text": [
      "Evaluating...\n"
     ]
    },
    {
     "name": "stderr",
     "output_type": "stream",
     "text": [
      "Iteration: 100%|██████████| 1004/1004 [00:23<00:00, 43.25it/s]\n",
      "Iteration:  82%|████████▏ | 822/1004 [00:19<00:04, 43.38it/s]"
     ]
    },
    {
     "name": "stdout",
     "output_type": "stream",
     "text": [
      "Evaluating...\n"
     ]
    },
    {
     "name": "stderr",
     "output_type": "stream",
     "text": [
      "Iteration: 100%|██████████| 1004/1004 [00:23<00:00, 43.03it/s]\n",
      "Iteration:  20%|█▉        | 200/1004 [00:04<00:18, 43.45it/s]"
     ]
    },
    {
     "name": "stdout",
     "output_type": "stream",
     "text": [
      "Evaluating...\n"
     ]
    },
    {
     "name": "stderr",
     "output_type": "stream",
     "text": [
      "Iteration: 100%|██████████| 1004/1004 [00:23<00:00, 42.92it/s]\n",
      "Iteration:  10%|▉         | 98/1004 [00:02<00:17, 50.94it/s]]"
     ]
    },
    {
     "name": "stdout",
     "output_type": "stream",
     "text": [
      "Evaluating...\n"
     ]
    },
    {
     "name": "stderr",
     "output_type": "stream",
     "text": [
      "Iteration:  49%|████▊     | 489/1004 [00:10<00:08, 60.36it/s]]\n",
      "Iteration:  61%|██████    | 610/1004 [00:12<00:07, 56.16it/s]\n",
      "Iteration:  72%|███████▏  | 721/1004 [00:14<00:05, 54.10it/s]\n",
      "Iteration:   0%|          | 0/112 [00:00<?, ?it/s]"
     ]
    },
    {
     "name": "stdout",
     "output_type": "stream",
     "text": [
      "{'Train':  best_epoch_indx:11\n",
      " auc:0.8016119062926506 \n",
      " apur:0.17549784114066697 \n",
      " f1:0.21916103964011072 \n",
      " precision:0.12780879677822993 \n",
      " recall:0.7683312262958281 \n",
      ", 'Validation':  best_epoch_indx:11\n",
      " auc:0.793932046831908 \n",
      " apur:0.17452206937131423 \n",
      " f1:0.21942708755984744 \n",
      " precision:0.12796971131093232 \n",
      " recall:0.7690557451649602 \n",
      "}\n",
      "=====Epoch 12\n",
      "Training...\n"
     ]
    },
    {
     "name": "stderr",
     "output_type": "stream",
     "text": [
      "Iteration:  84%|████████▍ | 844/1004 [00:17<00:03, 52.39it/s]]\n",
      "Iteration:   0%|          | 0/1004 [00:00<?, ?it/s]"
     ]
    },
    {
     "name": "stdout",
     "output_type": "stream",
     "text": [
      "{'Train':  best_epoch_indx:11\n",
      " auc:0.801859003018025 \n",
      " apur:0.17729690546419583 \n",
      " f1:0.21789102785987519 \n",
      " precision:0.126741076498952 \n",
      " recall:0.7759165613147914 \n",
      ", 'Validation':  best_epoch_indx:11\n",
      " auc:0.79438792770595 \n",
      " apur:0.16889967628695543 \n",
      " f1:0.21460530520933205 \n",
      " precision:0.12483733035880275 \n",
      " recall:0.7639362912400455 \n",
      "}\n",
      "=====Epoch 12\n",
      "Training...\n"
     ]
    },
    {
     "name": "stderr",
     "output_type": "stream",
     "text": [
      "Iteration:  99%|█████████▊| 990/1004 [00:20<00:00, 51.90it/s]\n",
      "Iteration: 100%|█████████▉| 1001/1004 [00:20<00:00, 51.46it/s]\n",
      "Iteration:   0%|          | 4/1004 [00:00<00:27, 36.18it/s]/s]"
     ]
    },
    {
     "name": "stdout",
     "output_type": "stream",
     "text": [
      "{'Train':  best_epoch_indx:11\n",
      " auc:0.804001597379516 \n",
      " apur:0.17894135949821222 \n",
      " f1:0.2156586399204531 \n",
      " precision:0.12491486037100845 \n",
      " recall:0.7883557747013086 \n",
      ", 'Validation':  best_epoch_indx:11\n",
      " auc:0.792040798000412 \n",
      " apur:0.17300536684444495 \n",
      " f1:0.21225126804525948 \n",
      " precision:0.12299900515510537 \n",
      " recall:0.7736063708759955 \n",
      "}\n",
      "=====Epoch 12\n",
      "Training...\n"
     ]
    },
    {
     "name": "stderr",
     "output_type": "stream",
     "text": [
      "Iteration:  38%|███▊      | 378/1004 [00:08<00:14, 44.58it/s]\n",
      "Iteration:  48%|████▊     | 483/1004 [00:11<00:11, 44.90it/s]\n",
      "Iteration:   6%|▋         | 7/112 [00:00<00:01, 59.25it/s]/s]\n",
      "Iteration:  49%|████▉     | 493/1004 [00:11<00:11, 42.70it/s]"
     ]
    },
    {
     "name": "stdout",
     "output_type": "stream",
     "text": [
      "{'Train':  best_epoch_indx:11\n",
      " auc:0.8038043736517698 \n",
      " apur:0.179237271954607 \n",
      " f1:0.21288970041252453 \n",
      " precision:0.12287635274256663 \n",
      " recall:0.7960048043492003 \n",
      ", 'Validation':  best_epoch_indx:11\n",
      " auc:0.794080014307381 \n",
      " apur:0.17358403930558572 \n",
      " f1:0.20951947164654977 \n",
      " precision:0.12089356110381078 \n",
      " recall:0.7849829351535836 \n",
      "}\n",
      "=====Epoch 12\n",
      "Training...\n"
     ]
    },
    {
     "name": "stderr",
     "output_type": "stream",
     "text": [
      "Iteration:  60%|█████▉    | 598/1004 [00:13<00:09, 44.62it/s]\n",
      "Iteration:  10%|█         | 103/1004 [00:02<00:20, 44.27it/s]"
     ]
    },
    {
     "name": "stdout",
     "output_type": "stream",
     "text": [
      "{'Train':  best_epoch_indx:11\n",
      " auc:0.8036716829146885 \n",
      " apur:0.1772301544545117 \n",
      " f1:0.20453685007571934 \n",
      " precision:0.11684870768898022 \n",
      " recall:0.8195954487989886 \n",
      ", 'Validation':  best_epoch_indx:11\n",
      " auc:0.7937131687410288 \n",
      " apur:0.16990972702632473 \n",
      " f1:0.20147874306839186 \n",
      " precision:0.11512837179070523 \n",
      " recall:0.8060295790671217 \n",
      "}\n",
      "=====Epoch 12\n",
      "Training...\n"
     ]
    },
    {
     "name": "stderr",
     "output_type": "stream",
     "text": [
      "Iteration: 100%|██████████| 1004/1004 [00:23<00:00, 43.33it/s]\n",
      "Iteration:  67%|██████▋   | 669/1004 [00:15<00:07, 44.31it/s]"
     ]
    },
    {
     "name": "stdout",
     "output_type": "stream",
     "text": [
      "Evaluating...\n"
     ]
    },
    {
     "name": "stderr",
     "output_type": "stream",
     "text": [
      "Iteration: 100%|██████████| 1004/1004 [00:22<00:00, 43.74it/s]\n",
      "Iteration:  51%|█████     | 514/1004 [00:11<00:11, 44.06it/s]"
     ]
    },
    {
     "name": "stdout",
     "output_type": "stream",
     "text": [
      "Evaluating...\n"
     ]
    },
    {
     "name": "stderr",
     "output_type": "stream",
     "text": [
      "Iteration: 100%|██████████| 1004/1004 [00:23<00:00, 43.42it/s]\n",
      "Iteration:  85%|████████▍ | 853/1004 [00:19<00:03, 43.75it/s]"
     ]
    },
    {
     "name": "stdout",
     "output_type": "stream",
     "text": [
      "Evaluating...\n"
     ]
    },
    {
     "name": "stderr",
     "output_type": "stream",
     "text": [
      "Iteration: 100%|██████████| 1004/1004 [00:23<00:00, 43.02it/s]\n",
      "Iteration:  90%|████████▉ | 899/1004 [00:20<00:02, 42.97it/s]"
     ]
    },
    {
     "name": "stdout",
     "output_type": "stream",
     "text": [
      "Evaluating...\n"
     ]
    },
    {
     "name": "stderr",
     "output_type": "stream",
     "text": [
      "Iteration: 100%|██████████| 1004/1004 [00:23<00:00, 42.94it/s]\n",
      "Iteration:  54%|█████▍    | 547/1004 [00:11<00:10, 45.13it/s]"
     ]
    },
    {
     "name": "stdout",
     "output_type": "stream",
     "text": [
      "Evaluating...\n"
     ]
    },
    {
     "name": "stderr",
     "output_type": "stream",
     "text": [
      "Iteration:  78%|███████▊  | 785/1004 [00:16<00:03, 59.45it/s]]\n",
      "Iteration:  75%|███████▍  | 748/1004 [00:15<00:04, 59.11it/s]\n",
      "Iteration:  92%|█████████▏| 920/1004 [00:19<00:01, 56.68it/s]"
     ]
    },
    {
     "name": "stdout",
     "output_type": "stream",
     "text": [
      "{'Train':  best_epoch_indx:12\n",
      " auc:0.8002796625032226 \n",
      " apur:0.17539436362250863 \n",
      " f1:0.2196647802267344 \n",
      " precision:0.12816211996539864 \n",
      " recall:0.7679519595448799 \n",
      ", 'Validation':  best_epoch_indx:12\n",
      " auc:0.792550658156029 \n",
      " apur:0.1724722605951089 \n",
      " f1:0.21840110830413167 \n",
      " precision:0.12746123846666033 \n",
      " recall:0.7622298065984073 \n",
      "}\n",
      "=====Epoch 13\n",
      "Training...\n"
     ]
    },
    {
     "name": "stderr",
     "output_type": "stream",
     "text": [
      "Iteration:  75%|███████▌  | 754/1004 [00:15<00:04, 55.61it/s]\n",
      "Iteration:  88%|████████▊ | 882/1004 [00:18<00:02, 55.20it/s]]\n",
      "Iteration:  13%|█▎        | 129/1004 [00:02<00:19, 45.14it/s]"
     ]
    },
    {
     "name": "stdout",
     "output_type": "stream",
     "text": [
      "{'Train':  best_epoch_indx:12\n",
      " auc:0.8016305350449767 \n",
      " apur:0.1781728760739372 \n",
      " f1:0.21457402397600672 \n",
      " precision:0.12428037925890327 \n",
      " recall:0.7846396965865993 \n",
      ", 'Validation':  best_epoch_indx:12\n",
      " auc:0.7917617136297184 \n",
      " apur:0.16887011765390342 \n",
      " f1:0.2130637636080871 \n",
      " precision:0.12340118897495947 \n",
      " recall:0.7792946530147895 \n",
      "}\n",
      "=====Epoch 13\n",
      "Training...\n"
     ]
    },
    {
     "name": "stderr",
     "output_type": "stream",
     "text": [
      "Iteration:  99%|█████████▊| 990/1004 [00:20<00:00, 54.39it/s]\n",
      "Iteration:  36%|███▋      | 364/1004 [00:08<00:14, 43.98it/s]]\n",
      "Iteration:  24%|██▍       | 244/1004 [00:05<00:16, 45.45it/s]\n",
      "Iteration:   0%|          | 4/1004 [00:00<00:28, 34.94it/s]s]"
     ]
    },
    {
     "name": "stdout",
     "output_type": "stream",
     "text": [
      "{'Train':  best_epoch_indx:12\n",
      " auc:0.8030633155398443 \n",
      " apur:0.17895885840145775 \n",
      " f1:0.21518844797865613 \n",
      " precision:0.12467879225889344 \n",
      " recall:0.7851950186484608 \n",
      ", 'Validation':  best_epoch_indx:12\n",
      " auc:0.7935425723180605 \n",
      " apur:0.17624619571688965 \n",
      " f1:0.21354207436399217 \n",
      " precision:0.12380865934464917 \n",
      " recall:0.7758816837315131 \n",
      "}\n",
      "=====Epoch 13\n",
      "Training...\n"
     ]
    },
    {
     "name": "stderr",
     "output_type": "stream",
     "text": [
      "Iteration:  36%|███▌      | 359/1004 [00:08<00:14, 44.92it/s]\n",
      "Iteration:   0%|          | 0/1004 [00:00<?, ?it/s]\n",
      "Iteration:   0%|          | 4/1004 [00:00<00:28, 35.66it/s]s]"
     ]
    },
    {
     "name": "stdout",
     "output_type": "stream",
     "text": [
      "{'Train':  best_epoch_indx:12\n",
      " auc:0.8032328789404478 \n",
      " apur:0.1756413146404703 \n",
      " f1:0.20724637681159422 \n",
      " precision:0.1187477509895646 \n",
      " recall:0.8135786080030343 \n",
      ", 'Validation':  best_epoch_indx:12\n",
      " auc:0.7938105306400257 \n",
      " apur:0.17029088494299016 \n",
      " f1:0.20222768696658472 \n",
      " precision:0.1158435531985416 \n",
      " recall:0.7952218430034129 \n",
      "}\n",
      "=====Epoch 13\n",
      "Training...\n"
     ]
    },
    {
     "name": "stderr",
     "output_type": "stream",
     "text": [
      "Iteration:  23%|██▎       | 234/1004 [00:05<00:17, 44.70it/s]\n",
      "Iteration:  12%|█▏        | 124/1004 [00:02<00:19, 44.59it/s]"
     ]
    },
    {
     "name": "stdout",
     "output_type": "stream",
     "text": [
      "{'Train':  best_epoch_indx:12\n",
      " auc:0.8035344480601383 \n",
      " apur:0.18019096517042998 \n",
      " f1:0.21296013051901702 \n",
      " precision:0.12301696379486374 \n",
      " recall:0.7920986093552466 \n",
      ", 'Validation':  best_epoch_indx:12\n",
      " auc:0.7929870953626557 \n",
      " apur:0.1718368970078261 \n",
      " f1:0.20980947279822482 \n",
      " precision:0.12120944213597383 \n",
      " recall:0.7798634812286689 \n",
      "}\n",
      "=====Epoch 13\n",
      "Training...\n"
     ]
    },
    {
     "name": "stderr",
     "output_type": "stream",
     "text": [
      "Iteration: 100%|██████████| 1004/1004 [00:22<00:00, 43.92it/s]\n",
      "Iteration:  64%|██████▍   | 644/1004 [00:14<00:08, 43.81it/s]"
     ]
    },
    {
     "name": "stdout",
     "output_type": "stream",
     "text": [
      "Evaluating...\n"
     ]
    },
    {
     "name": "stderr",
     "output_type": "stream",
     "text": [
      "Iteration: 100%|██████████| 1004/1004 [00:22<00:00, 44.16it/s]\n",
      "Iteration:  52%|█████▏    | 524/1004 [00:12<00:11, 40.79it/s]"
     ]
    },
    {
     "name": "stdout",
     "output_type": "stream",
     "text": [
      "Evaluating...\n"
     ]
    },
    {
     "name": "stderr",
     "output_type": "stream",
     "text": [
      "Iteration: 100%|██████████| 1004/1004 [00:22<00:00, 43.80it/s]\n",
      "Iteration:  89%|████████▊ | 889/1004 [00:20<00:02, 43.42it/s]"
     ]
    },
    {
     "name": "stdout",
     "output_type": "stream",
     "text": [
      "Evaluating...\n"
     ]
    },
    {
     "name": "stderr",
     "output_type": "stream",
     "text": [
      "Iteration: 100%|██████████| 1004/1004 [00:23<00:00, 43.39it/s]\n",
      "Iteration:  55%|█████▍    | 551/1004 [00:11<00:09, 46.85it/s]"
     ]
    },
    {
     "name": "stdout",
     "output_type": "stream",
     "text": [
      "Evaluating...\n"
     ]
    },
    {
     "name": "stderr",
     "output_type": "stream",
     "text": [
      "Iteration: 100%|██████████| 1004/1004 [00:23<00:00, 43.12it/s]\n",
      "Iteration:  28%|██▊       | 282/1004 [00:05<00:14, 49.88it/s]"
     ]
    },
    {
     "name": "stdout",
     "output_type": "stream",
     "text": [
      "Evaluating...\n"
     ]
    },
    {
     "name": "stderr",
     "output_type": "stream",
     "text": [
      "Iteration:  50%|████▉     | 501/1004 [00:10<00:08, 59.08it/s]]\n",
      "Iteration:  88%|████████▊ | 883/1004 [00:18<00:02, 45.46it/s]\n",
      "Iteration:  76%|███████▋  | 767/1004 [00:15<00:04, 56.82it/s]"
     ]
    },
    {
     "name": "stdout",
     "output_type": "stream",
     "text": [
      "{'Train':  best_epoch_indx:13\n",
      " auc:0.8015144569066976 \n",
      " apur:0.17706042452886026 \n",
      " f1:0.2100001657852418 \n",
      " precision:0.1208475643496346 \n",
      " recall:0.8006953223767383 \n",
      ", 'Validation':  best_epoch_indx:13\n",
      " auc:0.7957557049173762 \n",
      " apur:0.17103586254357306 \n",
      " f1:0.21023533806499814 \n",
      " precision:0.12101143889223359 \n",
      " recall:0.8003412969283277 \n",
      "}\n",
      "=====Epoch 14\n",
      "Training...\n"
     ]
    },
    {
     "name": "stderr",
     "output_type": "stream",
     "text": [
      "Iteration:  89%|████████▉ | 895/1004 [00:18<00:02, 46.15it/s]\n",
      "Iteration:  77%|███████▋  | 770/1004 [00:15<00:04, 55.96it/s]]\n",
      "Iteration:   0%|          | 4/1004 [00:00<00:25, 38.82it/s]s]"
     ]
    },
    {
     "name": "stdout",
     "output_type": "stream",
     "text": [
      "{'Train':  best_epoch_indx:13\n",
      " auc:0.7993474295268799 \n",
      " apur:0.17465539707708944 \n",
      " f1:0.20789591894454887 \n",
      " precision:0.1197003659214131 \n",
      " recall:0.7898862199747155 \n",
      ", 'Validation':  best_epoch_indx:13\n",
      " auc:0.7922660376788306 \n",
      " apur:0.16888573825549522 \n",
      " f1:0.2061005770816158 \n",
      " precision:0.11868795856711264 \n",
      " recall:0.7821387940841866 \n",
      "}\n",
      "=====Epoch 14\n",
      "Training...\n"
     ]
    },
    {
     "name": "stderr",
     "output_type": "stream",
     "text": [
      "Iteration:  12%|█▏        | 123/1004 [00:02<00:19, 45.05it/s]]\n",
      "Iteration:  34%|███▍      | 343/1004 [00:07<00:14, 45.39it/s]]\n",
      "Iteration:  22%|██▏       | 223/1004 [00:05<00:17, 45.04it/s]\n",
      "Iteration:   0%|          | 4/1004 [00:00<00:27, 36.49it/s]s]"
     ]
    },
    {
     "name": "stdout",
     "output_type": "stream",
     "text": [
      "{'Train':  best_epoch_indx:13\n",
      " auc:0.8017256623408207 \n",
      " apur:0.17614490718661607 \n",
      " f1:0.21049400638765609 \n",
      " precision:0.12114470141130187 \n",
      " recall:0.8020102408496113 \n",
      ", 'Validation':  best_epoch_indx:13\n",
      " auc:0.7905973816028702 \n",
      " apur:0.16843883431496837 \n",
      " f1:0.20731524509069105 \n",
      " precision:0.11938881215469613 \n",
      " recall:0.7866894197952219 \n",
      "}\n",
      "=====Epoch 14\n",
      "Training...\n"
     ]
    },
    {
     "name": "stderr",
     "output_type": "stream",
     "text": [
      "Iteration:  32%|███▏      | 323/1004 [00:07<00:14, 45.45it/s]\n",
      "Iteration:   0%|          | 0/1004 [00:00<?, ?it/s]\n",
      "Iteration:   6%|▋         | 7/112 [00:00<00:01, 64.75it/s]]s]"
     ]
    },
    {
     "name": "stdout",
     "output_type": "stream",
     "text": [
      "{'Train':  best_epoch_indx:13\n",
      " auc:0.8018600103169553 \n",
      " apur:0.1773223028219954 \n",
      " f1:0.2117446722417049 \n",
      " precision:0.12216331890472254 \n",
      " recall:0.7939187053543207 \n",
      ", 'Validation':  best_epoch_indx:13\n",
      " auc:0.792593915156772 \n",
      " apur:0.1727292929483261 \n",
      " f1:0.20797095969144672 \n",
      " precision:0.11993022241604885 \n",
      " recall:0.7821387940841866 \n",
      "}\n",
      "=====Epoch 14\n",
      "Training...\n"
     ]
    },
    {
     "name": "stderr",
     "output_type": "stream",
     "text": [
      "Iteration:  56%|█████▌    | 558/1004 [00:12<00:09, 44.88it/s]\n",
      "Iteration:  11%|█▏        | 114/1004 [00:02<00:20, 44.19it/s]"
     ]
    },
    {
     "name": "stdout",
     "output_type": "stream",
     "text": [
      "{'Train':  best_epoch_indx:13\n",
      " auc:0.80288614216509 \n",
      " apur:0.1796410519706933 \n",
      " f1:0.21340793628999039 \n",
      " precision:0.12346586169916987 \n",
      " recall:0.7859671302149178 \n",
      ", 'Validation':  best_epoch_indx:13\n",
      " auc:0.7921232474050645 \n",
      " apur:0.1722535643216899 \n",
      " f1:0.20964620267864056 \n",
      " precision:0.12133703736893987 \n",
      " recall:0.770193401592719 \n",
      "}\n",
      "=====Epoch 14\n",
      "Training...\n"
     ]
    },
    {
     "name": "stderr",
     "output_type": "stream",
     "text": [
      "Iteration: 100%|██████████| 1004/1004 [00:23<00:00, 43.52it/s]\n",
      "Iteration:  44%|████▎     | 438/1004 [00:10<00:13, 42.78it/s]"
     ]
    },
    {
     "name": "stdout",
     "output_type": "stream",
     "text": [
      "Evaluating...\n"
     ]
    },
    {
     "name": "stderr",
     "output_type": "stream",
     "text": [
      "Iteration: 100%|██████████| 1004/1004 [00:22<00:00, 43.90it/s]\n",
      "Iteration:  78%|███████▊  | 779/1004 [00:17<00:05, 44.91it/s]"
     ]
    },
    {
     "name": "stdout",
     "output_type": "stream",
     "text": [
      "Evaluating...\n"
     ]
    },
    {
     "name": "stderr",
     "output_type": "stream",
     "text": [
      "Iteration: 100%|██████████| 1004/1004 [00:23<00:00, 43.41it/s]\n",
      "Iteration:  41%|████      | 407/1004 [00:08<00:11, 51.11it/s]"
     ]
    },
    {
     "name": "stdout",
     "output_type": "stream",
     "text": [
      "Evaluating...\n"
     ]
    },
    {
     "name": "stderr",
     "output_type": "stream",
     "text": [
      "Iteration: 100%|██████████| 1004/1004 [00:23<00:00, 43.22it/s]\n",
      "Iteration:  38%|███▊      | 379/1004 [00:07<00:12, 48.59it/s]"
     ]
    },
    {
     "name": "stdout",
     "output_type": "stream",
     "text": [
      "Evaluating...\n"
     ]
    },
    {
     "name": "stderr",
     "output_type": "stream",
     "text": [
      "Iteration: 100%|██████████| 1004/1004 [00:23<00:00, 43.26it/s]\n",
      "Iteration:   0%|          | 5/1004 [00:00<00:23, 42.75it/s]s]"
     ]
    },
    {
     "name": "stdout",
     "output_type": "stream",
     "text": [
      "Evaluating...\n"
     ]
    },
    {
     "name": "stderr",
     "output_type": "stream",
     "text": [
      "Iteration:  77%|███████▋  | 772/1004 [00:16<00:03, 59.73it/s]]\n",
      "Iteration:  79%|███████▉  | 797/1004 [00:16<00:03, 57.05it/s]\n",
      "Iteration:   0%|          | 0/1004 [00:00<?, ?it/s]\n",
      "Iteration:  68%|██████▊   | 686/1004 [00:14<00:06, 52.39it/s]"
     ]
    },
    {
     "name": "stdout",
     "output_type": "stream",
     "text": [
      "{'Train':  best_epoch_indx:14\n",
      " auc:0.7982057356770105 \n",
      " apur:0.17486901924188306 \n",
      " f1:0.21818771567841277 \n",
      " precision:0.12722897643090567 \n",
      " recall:0.7653603034134008 \n",
      ", 'Validation':  best_epoch_indx:14\n",
      " auc:0.7898435200205352 \n",
      " apur:0.17393076258866788 \n",
      " f1:0.21866363192976754 \n",
      " precision:0.12756069802731412 \n",
      " recall:0.7650739476678043 \n",
      "}\n",
      "=====Epoch 15\n",
      "Training...\n"
     ]
    },
    {
     "name": "stderr",
     "output_type": "stream",
     "text": [
      "Iteration:  12%|█▏        | 117/1004 [00:02<00:19, 44.83it/s]]\n",
      "Iteration:  12%|█▏        | 122/1004 [00:02<00:19, 44.17it/s]"
     ]
    },
    {
     "name": "stdout",
     "output_type": "stream",
     "text": [
      "{'Train':  best_epoch_indx:14\n",
      " auc:0.7963590324327192 \n",
      " apur:0.16771465691858634 \n",
      " f1:0.20119194731655432 \n",
      " precision:0.11480033560042129 \n",
      " recall:0.8130214917825538 \n",
      ", 'Validation':  best_epoch_indx:14\n",
      " auc:0.7876677673559003 \n",
      " apur:0.159696154040356 \n",
      " f1:0.19859254046446165 \n",
      " precision:0.1133151300995824 \n",
      " recall:0.8026166097838453 \n",
      "}\n",
      "=====Epoch 15\n",
      "Training...\n"
     ]
    },
    {
     "name": "stderr",
     "output_type": "stream",
     "text": [
      "Iteration:  22%|██▏       | 222/1004 [00:05<00:19, 40.65it/s]]\n",
      "Iteration:  19%|█▉        | 193/1004 [00:04<00:17, 45.27it/s]]\n",
      "Iteration:  21%|██        | 208/1004 [00:04<00:23, 34.45it/s]\n",
      "Iteration:   0%|          | 4/1004 [00:00<00:27, 36.28it/s]s]"
     ]
    },
    {
     "name": "stdout",
     "output_type": "stream",
     "text": [
      "{'Train':  best_epoch_indx:14\n",
      " auc:0.7999788267591385 \n",
      " apur:0.17624452814913252 \n",
      " f1:0.21403837396138548 \n",
      " precision:0.12385394085240946 \n",
      " recall:0.7873443327643972 \n",
      ", 'Validation':  best_epoch_indx:14\n",
      " auc:0.7882314004228329 \n",
      " apur:0.1732994788135303 \n",
      " f1:0.21293190858747368 \n",
      " precision:0.12338425381903642 \n",
      " recall:0.7764505119453925 \n",
      "}\n",
      "=====Epoch 15\n",
      "Training...\n"
     ]
    },
    {
     "name": "stderr",
     "output_type": "stream",
     "text": [
      "Iteration:  41%|████      | 407/1004 [00:09<00:13, 44.56it/s]\n",
      "Iteration:   9%|▉         | 89/1004 [00:02<00:20, 44.73it/s]]\n",
      "Iteration:  42%|████▏     | 422/1004 [00:09<00:13, 44.06it/s]"
     ]
    },
    {
     "name": "stdout",
     "output_type": "stream",
     "text": [
      "{'Train':  best_epoch_indx:14\n",
      " auc:0.8005139299419552 \n",
      " apur:0.17700554211129038 \n",
      " f1:0.21144604630843164 \n",
      " precision:0.12192735129688302 \n",
      " recall:0.7954990833807447 \n",
      ", 'Validation':  best_epoch_indx:14\n",
      " auc:0.7934022674600185 \n",
      " apur:0.17443361164447244 \n",
      " f1:0.20821047856656838 \n",
      " precision:0.12006277792309704 \n",
      " recall:0.7832764505119454 \n",
      "}\n",
      "=====Epoch 15\n",
      "Training...\n"
     ]
    },
    {
     "name": "stderr",
     "output_type": "stream",
     "text": [
      "Iteration:  20%|█▉        | 199/1004 [00:04<00:18, 44.47it/s]\n",
      "Iteration:  54%|█████▍    | 542/1004 [00:12<00:10, 43.78it/s]"
     ]
    },
    {
     "name": "stdout",
     "output_type": "stream",
     "text": [
      "{'Train':  best_epoch_indx:14\n",
      " auc:0.7964987021285341 \n",
      " apur:0.17685431602548937 \n",
      " f1:0.2187750386643561 \n",
      " precision:0.1282973097012479 \n",
      " recall:0.7421618204804046 \n",
      ", 'Validation':  best_epoch_indx:14\n",
      " auc:0.7860724893658303 \n",
      " apur:0.166369998497358 \n",
      " f1:0.21787662610155265 \n",
      " precision:0.12779363985428768 \n",
      " recall:0.7383390216154722 \n",
      "}\n",
      "=====Epoch 15\n",
      "Training...\n"
     ]
    },
    {
     "name": "stderr",
     "output_type": "stream",
     "text": [
      "Iteration: 100%|██████████| 1004/1004 [00:23<00:00, 43.50it/s]\n",
      "Iteration:  59%|█████▊    | 589/1004 [00:13<00:09, 44.15it/s]"
     ]
    },
    {
     "name": "stdout",
     "output_type": "stream",
     "text": [
      "Evaluating...\n"
     ]
    },
    {
     "name": "stderr",
     "output_type": "stream",
     "text": [
      "Iteration: 100%|██████████| 1004/1004 [00:22<00:00, 43.78it/s]\n",
      "Iteration:   0%|          | 0/1004 [00:00<?, ?it/s]"
     ]
    },
    {
     "name": "stdout",
     "output_type": "stream",
     "text": [
      "Evaluating...\n"
     ]
    },
    {
     "name": "stderr",
     "output_type": "stream",
     "text": [
      "Iteration: 100%|██████████| 1004/1004 [00:23<00:00, 43.27it/s]\n",
      "Iteration:   0%|          | 0/1004 [00:00<?, ?it/s]"
     ]
    },
    {
     "name": "stdout",
     "output_type": "stream",
     "text": [
      "Evaluating...\n"
     ]
    },
    {
     "name": "stderr",
     "output_type": "stream",
     "text": [
      "Iteration: 100%|██████████| 1004/1004 [00:23<00:00, 42.97it/s]\n",
      "Iteration:   0%|          | 0/1004 [00:00<?, ?it/s]"
     ]
    },
    {
     "name": "stdout",
     "output_type": "stream",
     "text": [
      "Evaluating...\n"
     ]
    },
    {
     "name": "stderr",
     "output_type": "stream",
     "text": [
      "Iteration: 100%|██████████| 1004/1004 [00:23<00:00, 42.97it/s]\n",
      "Iteration:   0%|          | 0/1004 [00:00<?, ?it/s]"
     ]
    },
    {
     "name": "stdout",
     "output_type": "stream",
     "text": [
      "Evaluating...\n"
     ]
    },
    {
     "name": "stderr",
     "output_type": "stream",
     "text": [
      "Iteration:  69%|██████▉   | 694/1004 [00:14<00:05, 57.26it/s]]\n",
      "Iteration:  92%|█████████▏| 927/1004 [00:18<00:01, 59.45it/s]\n",
      "Iteration:  70%|███████   | 703/1004 [00:14<00:05, 55.44it/s]\n",
      "Iteration:   0%|          | 0/112 [00:00<?, ?it/s]"
     ]
    },
    {
     "name": "stdout",
     "output_type": "stream",
     "text": [
      "{'Train':  best_epoch_indx:15\n",
      " auc:0.8027650985735701 \n",
      " apur:0.177507306827304 \n",
      " f1:0.21521876871533593 \n",
      " precision:0.12473715452798487 \n",
      " recall:0.7836915297092288 \n",
      ", 'Validation':  best_epoch_indx:15\n",
      " auc:0.79130834508926 \n",
      " apur:0.16878516000289098 \n",
      " f1:0.2129694973731671 \n",
      " precision:0.1235106866757617 \n",
      " recall:0.7724687144482366 \n",
      "}\n",
      "=====Epoch 16\n",
      "Training...\n"
     ]
    },
    {
     "name": "stderr",
     "output_type": "stream",
     "text": [
      "Iteration:  12%|█▏        | 119/1004 [00:02<00:19, 44.61it/s]]\n",
      "Iteration:  82%|████████▏ | 826/1004 [00:16<00:03, 57.36it/s]"
     ]
    },
    {
     "name": "stdout",
     "output_type": "stream",
     "text": [
      "{'Train':  best_epoch_indx:15\n",
      " auc:0.8018763172492752 \n",
      " apur:0.1776552173631089 \n",
      " f1:0.21434657257196957 \n",
      " precision:0.12406475716064758 \n",
      " recall:0.7871681415929204 \n",
      ", 'Validation':  best_epoch_indx:15\n",
      " auc:0.7949668411446451 \n",
      " apur:0.1686458178980369 \n",
      " f1:0.21217283568220538 \n",
      " precision:0.12280387235568305 \n",
      " recall:0.7792946530147895 \n",
      "}\n",
      "=====Epoch 16\n",
      "Training...\n"
     ]
    },
    {
     "name": "stderr",
     "output_type": "stream",
     "text": [
      "Iteration:  10%|▉         | 99/1004 [00:02<00:20, 45.23it/s]]]\n",
      "Iteration:  18%|█▊        | 179/1004 [00:04<00:18, 45.10it/s]]\n",
      "Iteration:  29%|██▊       | 32/112 [00:00<00:01, 61.68it/s]s]\n",
      "Iteration:  21%|██        | 209/1004 [00:04<00:17, 45.04it/s]"
     ]
    },
    {
     "name": "stdout",
     "output_type": "stream",
     "text": [
      "{'Train':  best_epoch_indx:15\n",
      " auc:0.8030262268802422 \n",
      " apur:0.17631188321328606 \n",
      " f1:0.2157056277056277 \n",
      " precision:0.1249686499934792 \n",
      " recall:0.7874707630065112 \n",
      ", 'Validation':  best_epoch_indx:15\n",
      " auc:0.7941871384168753 \n",
      " apur:0.17092852878377207 \n",
      " f1:0.21207152338564847 \n",
      " precision:0.12290705041180197 \n",
      " recall:0.7724687144482366 \n",
      "}\n",
      "=====Epoch 16\n",
      "Training...\n"
     ]
    },
    {
     "name": "stderr",
     "output_type": "stream",
     "text": [
      "Iteration:   8%|▊         | 83/1004 [00:01<00:20, 44.87it/s]]\n",
      "Iteration:   0%|          | 0/1004 [00:00<?, ?it/s]\n",
      "Iteration:   5%|▌         | 6/112 [00:00<00:01, 59.59it/s]]]]"
     ]
    },
    {
     "name": "stdout",
     "output_type": "stream",
     "text": [
      "{'Train':  best_epoch_indx:15\n",
      " auc:0.8036598624304981 \n",
      " apur:0.17701529057715681 \n",
      " f1:0.21687996624709938 \n",
      " precision:0.12595330222871087 \n",
      " recall:0.7798849484796764 \n",
      ", 'Validation':  best_epoch_indx:15\n",
      " auc:0.7927470957244317 \n",
      " apur:0.1722179486004872 \n",
      " f1:0.2123503465658475 \n",
      " precision:0.12324008045346499 \n",
      " recall:0.7667804323094426 \n",
      "}\n",
      "=====Epoch 16\n",
      "Training...\n"
     ]
    },
    {
     "name": "stderr",
     "output_type": "stream",
     "text": [
      "Iteration:  20%|█▉        | 198/1004 [00:04<00:17, 44.93it/s]\n",
      "Iteration:  11%|█▏        | 114/1004 [00:02<00:20, 44.10it/s]"
     ]
    },
    {
     "name": "stdout",
     "output_type": "stream",
     "text": [
      "{'Train':  best_epoch_indx:15\n",
      " auc:0.8039813068822795 \n",
      " apur:0.17942215034733583 \n",
      " f1:0.21544380800526866 \n",
      " precision:0.12483555769790819 \n",
      " recall:0.7857774968394438 \n",
      ", 'Validation':  best_epoch_indx:15\n",
      " auc:0.792221605264875 \n",
      " apur:0.1722805237849067 \n",
      " f1:0.21374522193618847 \n",
      " precision:0.12385860229635656 \n",
      " recall:0.7792946530147895 \n",
      "}\n",
      "=====Epoch 16\n",
      "Training...\n"
     ]
    },
    {
     "name": "stderr",
     "output_type": "stream",
     "text": [
      "Iteration:  89%|████████▊ | 889/1004 [00:20<00:02, 44.58it/s]]\n",
      "Iteration:  68%|██████▊   | 678/1004 [00:15<00:07, 45.06it/s]"
     ]
    },
    {
     "name": "stdout",
     "output_type": "stream",
     "text": [
      "Evaluating...\n"
     ]
    },
    {
     "name": "stderr",
     "output_type": "stream",
     "text": [
      "Iteration: 100%|██████████| 1004/1004 [00:22<00:00, 43.96it/s]\n",
      "Iteration:  59%|█████▉    | 594/1004 [00:13<00:09, 44.62it/s]"
     ]
    },
    {
     "name": "stdout",
     "output_type": "stream",
     "text": [
      "Evaluating...\n"
     ]
    },
    {
     "name": "stderr",
     "output_type": "stream",
     "text": [
      "Iteration: 100%|██████████| 1004/1004 [00:22<00:00, 43.71it/s]\n",
      "Iteration:  80%|████████  | 804/1004 [00:18<00:04, 43.92it/s]"
     ]
    },
    {
     "name": "stdout",
     "output_type": "stream",
     "text": [
      "Evaluating...\n"
     ]
    },
    {
     "name": "stderr",
     "output_type": "stream",
     "text": [
      "Iteration: 100%|██████████| 1004/1004 [00:23<00:00, 43.42it/s]\n",
      "Iteration:  33%|███▎      | 332/1004 [00:06<00:14, 47.10it/s]"
     ]
    },
    {
     "name": "stdout",
     "output_type": "stream",
     "text": [
      "Evaluating...\n"
     ]
    },
    {
     "name": "stderr",
     "output_type": "stream",
     "text": [
      "Iteration: 100%|██████████| 1004/1004 [00:23<00:00, 43.12it/s]\n",
      "Iteration:  14%|█▎        | 136/1004 [00:02<00:16, 51.71it/s]"
     ]
    },
    {
     "name": "stdout",
     "output_type": "stream",
     "text": [
      "Evaluating...\n"
     ]
    },
    {
     "name": "stderr",
     "output_type": "stream",
     "text": [
      "Iteration:  71%|███████▏  | 716/1004 [00:14<00:05, 56.72it/s]]\n",
      "Iteration:  84%|████████▎ | 839/1004 [00:17<00:03, 54.28it/s]"
     ]
    },
    {
     "name": "stdout",
     "output_type": "stream",
     "text": [
      "{'Train':  best_epoch_indx:16\n",
      " auc:0.8075671303700237 \n",
      " apur:0.18235262499002158 \n",
      " f1:0.2086534180596592 \n",
      " precision:0.119649073945133 \n",
      " recall:0.8146649810366624 \n",
      ", 'Validation':  best_epoch_indx:16\n",
      " auc:0.7979867109756174 \n",
      " apur:0.1762331200003316 \n",
      " f1:0.20807815689705456 \n",
      " precision:0.11933433684562636 \n",
      " recall:0.8117178612059158 \n",
      "}\n",
      "=====Epoch 17\n",
      "Training...\n"
     ]
    },
    {
     "name": "stderr",
     "output_type": "stream",
     "text": [
      "\n",
      "Iteration:  95%|█████████▍| 952/1004 [00:19<00:00, 56.46it/s]\n",
      "Iteration:  14%|█▍        | 143/1004 [00:03<00:19, 44.41it/s]]\n",
      "Iteration:   0%|          | 4/1004 [00:00<00:27, 35.88it/s]s]"
     ]
    },
    {
     "name": "stdout",
     "output_type": "stream",
     "text": [
      "{'Train':  best_epoch_indx:16\n",
      " auc:0.8061978112143882 \n",
      " apur:0.18172542790007654 \n",
      " f1:0.2149037597459839 \n",
      " precision:0.12427862961899766 \n",
      " recall:0.7936156763590392 \n",
      ", 'Validation':  best_epoch_indx:16\n",
      " auc:0.7954514882382233 \n",
      " apur:0.17270446036706094 \n",
      " f1:0.21126976815599569 \n",
      " precision:0.12211572594959176 \n",
      " recall:0.782707622298066 \n",
      "}\n",
      "=====Epoch 17\n",
      "Training...\n"
     ]
    },
    {
     "name": "stderr",
     "output_type": "stream",
     "text": [
      "Iteration:   4%|▍         | 44/1004 [00:01<00:22, 42.94it/s]]\n",
      "Iteration:  11%|█▏        | 114/1004 [00:02<00:19, 45.29it/s]]\n",
      "Iteration:  44%|████▍     | 49/112 [00:00<00:01, 62.71it/s]s]\n",
      "Iteration:   0%|          | 0/1004 [00:00<?, ?it/s]"
     ]
    },
    {
     "name": "stdout",
     "output_type": "stream",
     "text": [
      "{'Train':  best_epoch_indx:16\n",
      " auc:0.8059448724718584 \n",
      " apur:0.1807159921225523 \n",
      " f1:0.21431309577558375 \n",
      " precision:0.12384562370778773 \n",
      " recall:0.7951830077754599 \n",
      ", 'Validation':  best_epoch_indx:16\n",
      " auc:0.7973551731209593 \n",
      " apur:0.17516538074372004 \n",
      " f1:0.21354606121040115 \n",
      " precision:0.12341519638265804 \n",
      " recall:0.7918088737201365 \n",
      "}\n",
      "=====Epoch 17\n",
      "Training...\n"
     ]
    },
    {
     "name": "stderr",
     "output_type": "stream",
     "text": [
      "Iteration:  36%|███▌      | 363/1004 [00:08<00:14, 44.88it/s]\n",
      "Iteration:  38%|███▊      | 383/1004 [00:08<00:13, 44.78it/s]\n",
      "Iteration:  39%|███▉      | 393/1004 [00:09<00:13, 44.87it/s]"
     ]
    },
    {
     "name": "stdout",
     "output_type": "stream",
     "text": [
      "{'Train':  best_epoch_indx:16\n",
      " auc:0.8068295157685474 \n",
      " apur:0.18311187428839398 \n",
      " f1:0.2066317961514468 \n",
      " precision:0.11828045598132125 \n",
      " recall:0.8166129338137682 \n",
      ", 'Validation':  best_epoch_indx:16\n",
      " auc:0.7976000807822918 \n",
      " apur:0.17785882012744034 \n",
      " f1:0.20445533847595704 \n",
      " precision:0.11706431107075044 \n",
      " recall:0.8065984072810012 \n",
      "}\n",
      "=====Epoch 17\n",
      "Training...\n"
     ]
    },
    {
     "name": "stderr",
     "output_type": "stream",
     "text": [
      "Iteration:  11%|█▏        | 113/1004 [00:02<00:20, 43.82it/s]\n",
      "Iteration:  12%|█▏        | 118/1004 [00:02<00:20, 42.23it/s]"
     ]
    },
    {
     "name": "stdout",
     "output_type": "stream",
     "text": [
      "{'Train':  best_epoch_indx:16\n",
      " auc:0.8066574317480891 \n",
      " apur:0.18208857480755755 \n",
      " f1:0.2114586216440631 \n",
      " precision:0.12190428299277625 \n",
      " recall:0.7968394437420986 \n",
      ", 'Validation':  best_epoch_indx:16\n",
      " auc:0.7945889054200439 \n",
      " apur:0.1724830971055885 \n",
      " f1:0.20947176684881605 \n",
      " precision:0.1208617971623752 \n",
      " recall:0.7849829351535836 \n",
      "}\n",
      "=====Epoch 17\n",
      "Training...\n"
     ]
    },
    {
     "name": "stderr",
     "output_type": "stream",
     "text": [
      "Iteration: 100%|██████████| 1004/1004 [00:23<00:00, 43.64it/s]\n",
      "Iteration:  61%|██████    | 613/1004 [00:14<00:08, 44.54it/s]"
     ]
    },
    {
     "name": "stdout",
     "output_type": "stream",
     "text": [
      "Evaluating...\n"
     ]
    },
    {
     "name": "stderr",
     "output_type": "stream",
     "text": [
      "Iteration: 100%|██████████| 1004/1004 [00:22<00:00, 43.90it/s]\n",
      "Iteration:  17%|█▋        | 168/1004 [00:03<00:16, 51.43it/s]"
     ]
    },
    {
     "name": "stdout",
     "output_type": "stream",
     "text": [
      "Evaluating...\n"
     ]
    },
    {
     "name": "stderr",
     "output_type": "stream",
     "text": [
      "Iteration: 100%|██████████| 1004/1004 [00:23<00:00, 43.50it/s]\n",
      "Iteration:  91%|█████████ | 913/1004 [00:21<00:02, 43.43it/s]"
     ]
    },
    {
     "name": "stdout",
     "output_type": "stream",
     "text": [
      "Evaluating...\n"
     ]
    },
    {
     "name": "stderr",
     "output_type": "stream",
     "text": [
      "Iteration:  88%|████████▊ | 883/1004 [00:20<00:02, 43.04it/s]]\n",
      "Iteration:  88%|████████▊ | 888/1004 [00:20<00:02, 42.97it/s]"
     ]
    },
    {
     "name": "stdout",
     "output_type": "stream",
     "text": [
      "Evaluating...\n"
     ]
    },
    {
     "name": "stderr",
     "output_type": "stream",
     "text": [
      "Iteration: 100%|██████████| 1004/1004 [00:23<00:00, 42.95it/s]\n",
      "Iteration:  14%|█▍        | 142/1004 [00:02<00:17, 50.04it/s]"
     ]
    },
    {
     "name": "stdout",
     "output_type": "stream",
     "text": [
      "Evaluating...\n"
     ]
    },
    {
     "name": "stderr",
     "output_type": "stream",
     "text": [
      "Iteration:  99%|█████████▉| 993/1004 [00:21<00:00, 51.87it/s]]\n",
      "Iteration:  71%|███████   | 713/1004 [00:14<00:04, 60.75it/s]]\n",
      "Iteration:   0%|          | 4/1004 [00:00<00:29, 34.21it/s]s]"
     ]
    },
    {
     "name": "stdout",
     "output_type": "stream",
     "text": [
      "{'Train':  best_epoch_indx:17\n",
      " auc:0.8090575938602947 \n",
      " apur:0.1821600722231809 \n",
      " f1:0.21406805485017777 \n",
      " precision:0.12358287724784989 \n",
      " recall:0.7993046776232617 \n",
      ", 'Validation':  best_epoch_indx:17\n",
      " auc:0.7998677848560982 \n",
      " apur:0.17473565333940091 \n",
      " f1:0.2122368019530058 \n",
      " precision:0.12255506607929516 \n",
      " recall:0.7912400455062572 \n",
      "}\n",
      "=====Epoch 18\n",
      "Training...\n"
     ]
    },
    {
     "name": "stderr",
     "output_type": "stream",
     "text": [
      "Iteration:   3%|▎         | 34/1004 [00:00<00:22, 43.19it/s]]\n",
      "Iteration:  17%|█▋        | 174/1004 [00:03<00:18, 44.94it/s]]\n",
      "Iteration:   0%|          | 4/1004 [00:00<00:27, 35.93it/s]s]"
     ]
    },
    {
     "name": "stdout",
     "output_type": "stream",
     "text": [
      "{'Train':  best_epoch_indx:17\n",
      " auc:0.8098394675619074 \n",
      " apur:0.18565939802175346 \n",
      " f1:0.22105877598670917 \n",
      " precision:0.12883236510179516 \n",
      " recall:0.7780025284450063 \n",
      ", 'Validation':  best_epoch_indx:17\n",
      " auc:0.7996699744768442 \n",
      " apur:0.1768292726863901 \n",
      " f1:0.21606380407637155 \n",
      " precision:0.12585640544345378 \n",
      " recall:0.7627986348122867 \n",
      "}\n",
      "=====Epoch 18\n",
      "Training...\n"
     ]
    },
    {
     "name": "stderr",
     "output_type": "stream",
     "text": [
      "Iteration:   1%|          | 9/1004 [00:00<00:25, 39.20it/s]s]\n",
      "Iteration:   9%|▉         | 89/1004 [00:02<00:20, 45.14it/s]]]\n",
      "Iteration:  32%|███▏      | 324/1004 [00:07<00:15, 44.23it/s]\n",
      "Iteration:   0%|          | 4/1004 [00:00<00:27, 36.68it/s]s]"
     ]
    },
    {
     "name": "stdout",
     "output_type": "stream",
     "text": [
      "{'Train':  best_epoch_indx:17\n",
      " auc:0.8087347124568359 \n",
      " apur:0.18416982312028932 \n",
      " f1:0.20628222416118028 \n",
      " precision:0.1179399733335752 \n",
      " recall:0.8219862191036096 \n",
      ", 'Validation':  best_epoch_indx:17\n",
      " auc:0.7990417206010852 \n",
      " apur:0.1765169482572257 \n",
      " f1:0.2047458599182737 \n",
      " precision:0.11713559183003855 \n",
      " recall:0.8122866894197952 \n",
      "}\n",
      "=====Epoch 18\n",
      "Training...\n"
     ]
    },
    {
     "name": "stderr",
     "output_type": "stream",
     "text": [
      "Iteration:  20%|█▉        | 199/1004 [00:04<00:17, 45.07it/s]\n",
      "Iteration:  22%|██▏       | 219/1004 [00:04<00:17, 44.59it/s]\n",
      "Iteration:  40%|███▉      | 399/1004 [00:08<00:14, 43.10it/s]"
     ]
    },
    {
     "name": "stdout",
     "output_type": "stream",
     "text": [
      "{'Train':  best_epoch_indx:17\n",
      " auc:0.8100361272480119 \n",
      " apur:0.18292412842870812 \n",
      " f1:0.2164082023895108 \n",
      " precision:0.12514724078198466 \n",
      " recall:0.7992287755231051 \n",
      ", 'Validation':  best_epoch_indx:17\n",
      " auc:0.8000790541652659 \n",
      " apur:0.17853934832994284 \n",
      " f1:0.2110367120757331 \n",
      " precision:0.12202937249666222 \n",
      " recall:0.7798634812286689 \n",
      "}\n",
      "=====Epoch 18\n",
      "Training...\n"
     ]
    },
    {
     "name": "stderr",
     "output_type": "stream",
     "text": [
      "Iteration:  20%|█▉        | 199/1004 [00:04<00:18, 44.53it/s]\n",
      "Iteration:  21%|██        | 209/1004 [00:04<00:17, 44.45it/s]"
     ]
    },
    {
     "name": "stdout",
     "output_type": "stream",
     "text": [
      "{'Train':  best_epoch_indx:17\n",
      " auc:0.8086839196947587 \n",
      " apur:0.18386843373200715 \n",
      " f1:0.2172568491659044 \n",
      " precision:0.12599141197272037 \n",
      " recall:0.7882427307206068 \n",
      ", 'Validation':  best_epoch_indx:17\n",
      " auc:0.794171229961717 \n",
      " apur:0.17288387590214205 \n",
      " f1:0.21397688860938605 \n",
      " precision:0.12414485086199033 \n",
      " recall:0.7741751990898749 \n",
      "}\n",
      "=====Epoch 18\n",
      "Training...\n"
     ]
    },
    {
     "name": "stderr",
     "output_type": "stream",
     "text": [
      "Iteration: 100%|██████████| 1004/1004 [00:22<00:00, 43.67it/s]\n",
      "Iteration:  49%|████▊     | 489/1004 [00:11<00:11, 43.64it/s]"
     ]
    },
    {
     "name": "stdout",
     "output_type": "stream",
     "text": [
      "Evaluating...\n"
     ]
    },
    {
     "name": "stderr",
     "output_type": "stream",
     "text": [
      "Iteration:  78%|███████▊  | 779/1004 [00:17<00:05, 40.37it/s]"
     ]
    },
    {
     "name": "stdout",
     "output_type": "stream",
     "text": [
      "Evaluating...\n"
     ]
    },
    {
     "name": "stderr",
     "output_type": "stream",
     "text": [
      "Iteration: 100%|██████████| 1004/1004 [00:22<00:00, 43.82it/s]\n",
      "Iteration: 100%|██████████| 1004/1004 [00:23<00:00, 43.61it/s]\n",
      "Iteration:   0%|          | 0/1004 [00:00<?, ?it/s]"
     ]
    },
    {
     "name": "stdout",
     "output_type": "stream",
     "text": [
      "Evaluating...\n"
     ]
    },
    {
     "name": "stderr",
     "output_type": "stream",
     "text": [
      "Iteration: 100%|██████████| 1004/1004 [00:23<00:00, 43.49it/s]\n",
      "Iteration:  45%|████▍     | 448/1004 [00:09<00:11, 50.03it/s]"
     ]
    },
    {
     "name": "stdout",
     "output_type": "stream",
     "text": [
      "Evaluating...\n"
     ]
    },
    {
     "name": "stderr",
     "output_type": "stream",
     "text": [
      "Iteration: 100%|██████████| 1004/1004 [00:23<00:00, 43.12it/s]\n",
      "Iteration:   0%|          | 4/1004 [00:00<00:26, 37.66it/s]s]"
     ]
    },
    {
     "name": "stdout",
     "output_type": "stream",
     "text": [
      "Evaluating...\n"
     ]
    },
    {
     "name": "stderr",
     "output_type": "stream",
     "text": [
      "Iteration:  82%|████████▏ | 824/1004 [00:17<00:03, 51.35it/s]]\n",
      "Iteration:  76%|███████▌  | 759/1004 [00:15<00:04, 60.85it/s]]\n",
      "Iteration:  90%|█████████ | 908/1004 [00:18<00:01, 55.96it/s]"
     ]
    },
    {
     "name": "stdout",
     "output_type": "stream",
     "text": [
      "{'Train':  best_epoch_indx:18\n",
      " auc:0.8117923269416107 \n",
      " apur:0.18729313395748887 \n",
      " f1:0.22499838296850022 \n",
      " precision:0.13175979134876573 \n",
      " recall:0.7695954487989887 \n",
      ", 'Validation':  best_epoch_indx:18\n",
      " auc:0.8014812593194116 \n",
      " apur:0.18084838849228663 \n",
      " f1:0.22061392563014723 \n",
      " precision:0.12920198772288805 \n",
      " recall:0.7542662116040956 \n",
      "}\n",
      "=====Epoch 19\n",
      "Training...\n"
     ]
    },
    {
     "name": "stderr",
     "output_type": "stream",
     "text": [
      "Iteration: 100%|█████████▉| 1002/1004 [00:20<00:00, 51.51it/s]\n",
      "Iteration:  14%|█▍        | 144/1004 [00:03<00:26, 32.63it/s]]\n",
      "Iteration:   0%|          | 0/1004 [00:00<?, ?it/s]"
     ]
    },
    {
     "name": "stdout",
     "output_type": "stream",
     "text": [
      "{'Train':  best_epoch_indx:18\n",
      " auc:0.8122908769799939 \n",
      " apur:0.18712268797474485 \n",
      " f1:0.21999946889964858 \n",
      " precision:0.1279116445194693 \n",
      " recall:0.7855246523388116 \n",
      ", 'Validation':  best_epoch_indx:18\n",
      " auc:0.8009935166719534 \n",
      " apur:0.1793478169568565 \n",
      " f1:0.2140867489056904 \n",
      " precision:0.12445637087073193 \n",
      " recall:0.7650739476678043 \n",
      "}\n",
      "=====Epoch 19\n",
      "Training...\n"
     ]
    },
    {
     "name": "stderr",
     "output_type": "stream",
     "text": [
      "Iteration:   0%|          | 4/1004 [00:00<00:28, 34.85it/s]s]\n",
      "Iteration:  21%|██        | 209/1004 [00:04<00:17, 44.76it/s]]\n",
      "Iteration:  29%|██▉       | 289/1004 [00:06<00:15, 44.83it/s]\n",
      "Iteration: 100%|██████████| 112/112 [00:01<00:00, 58.63it/s]]"
     ]
    },
    {
     "name": "stdout",
     "output_type": "stream",
     "text": [
      "{'Train':  best_epoch_indx:18\n",
      " auc:0.8119366882139384 \n",
      " apur:0.18820992718453092 \n",
      " f1:0.21936574457220334 \n",
      " precision:0.12743062303734543 \n",
      " recall:0.7875339781275681 \n",
      ", 'Validation':  best_epoch_indx:18\n",
      " auc:0.8009367558781967 \n",
      " apur:0.17851725560276605 \n",
      " f1:0.216667993313699 \n",
      " precision:0.12596020360944007 \n",
      " recall:0.7741751990898749 \n",
      "}\n",
      "=====Epoch 19\n",
      "Training...\n"
     ]
    },
    {
     "name": "stderr",
     "output_type": "stream",
     "text": [
      "Iteration:  34%|███▍      | 339/1004 [00:07<00:14, 44.39it/s]\n",
      "Iteration:   4%|▍         | 44/1004 [00:01<00:21, 44.07it/s]\n",
      "Iteration:   5%|▌         | 6/112 [00:00<00:01, 54.33it/s]s]]"
     ]
    },
    {
     "name": "stdout",
     "output_type": "stream",
     "text": [
      "{'Train':  best_epoch_indx:18\n",
      " auc:0.8120061647732804 \n",
      " apur:0.18887194154711515 \n",
      " f1:0.21332602594124192 \n",
      " precision:0.1227929297274561 \n",
      " recall:0.8119982299766104 \n",
      ", 'Validation':  best_epoch_indx:18\n",
      " auc:0.7997063494780914 \n",
      " apur:0.18003845058139537 \n",
      " f1:0.20832086201736008 \n",
      " precision:0.11993796312252283 \n",
      " recall:0.7918088737201365 \n",
      "}\n",
      "=====Epoch 19\n",
      "Training...\n"
     ]
    },
    {
     "name": "stderr",
     "output_type": "stream",
     "text": [
      "Iteration:  48%|████▊     | 484/1004 [00:11<00:11, 44.36it/s]\n",
      "Iteration:  34%|███▍      | 339/1004 [00:07<00:15, 43.42it/s]"
     ]
    },
    {
     "name": "stdout",
     "output_type": "stream",
     "text": [
      "{'Train':  best_epoch_indx:18\n",
      " auc:0.8125582287033619 \n",
      " apur:0.1895625609894358 \n",
      " f1:0.21538882757086508 \n",
      " precision:0.12455346982396073 \n",
      " recall:0.795638432364096 \n",
      ", 'Validation':  best_epoch_indx:18\n",
      " auc:0.7987075802344237 \n",
      " apur:0.17949294450638978 \n",
      " f1:0.21245364647713227 \n",
      " precision:0.12292150902914357 \n",
      " recall:0.7821387940841866 \n",
      "}\n",
      "=====Epoch 19\n",
      "Training...\n"
     ]
    },
    {
     "name": "stderr",
     "output_type": "stream",
     "text": [
      "Iteration: 100%|██████████| 1004/1004 [00:23<00:00, 43.18it/s]\n",
      "Iteration:  70%|███████   | 704/1004 [00:16<00:06, 43.65it/s]"
     ]
    },
    {
     "name": "stdout",
     "output_type": "stream",
     "text": [
      "Evaluating...\n"
     ]
    },
    {
     "name": "stderr",
     "output_type": "stream",
     "text": [
      "Iteration: 100%|██████████| 1004/1004 [00:23<00:00, 42.94it/s]\n",
      "Iteration:  86%|████████▌ | 859/1004 [00:20<00:03, 43.45it/s]"
     ]
    },
    {
     "name": "stdout",
     "output_type": "stream",
     "text": [
      "Evaluating...\n"
     ]
    },
    {
     "name": "stderr",
     "output_type": "stream",
     "text": [
      "Iteration: 100%|██████████| 1004/1004 [00:23<00:00, 42.32it/s]\n",
      "Iteration:   0%|          | 0/1004 [00:00<?, ?it/s]"
     ]
    },
    {
     "name": "stdout",
     "output_type": "stream",
     "text": [
      "Evaluating...\n"
     ]
    },
    {
     "name": "stderr",
     "output_type": "stream",
     "text": [
      "Iteration: 100%|██████████| 1004/1004 [00:23<00:00, 42.20it/s]\n",
      "Iteration:   5%|▍         | 50/1004 [00:01<00:20, 46.46it/s]]"
     ]
    },
    {
     "name": "stdout",
     "output_type": "stream",
     "text": [
      "Evaluating...\n"
     ]
    },
    {
     "name": "stderr",
     "output_type": "stream",
     "text": [
      "Iteration: 100%|██████████| 1004/1004 [00:23<00:00, 42.01it/s]\n",
      "Iteration:  17%|█▋        | 166/1004 [00:03<00:18, 45.06it/s]"
     ]
    },
    {
     "name": "stdout",
     "output_type": "stream",
     "text": [
      "Evaluating...\n"
     ]
    },
    {
     "name": "stderr",
     "output_type": "stream",
     "text": [
      "Iteration:  61%|██████    | 613/1004 [00:13<00:07, 50.76it/s]]\n",
      "Iteration:  78%|███████▊  | 781/1004 [00:17<00:04, 49.50it/s]]"
     ]
    },
    {
     "name": "stdout",
     "output_type": "stream",
     "text": [
      "{'Train':  best_epoch_indx:19\n",
      " auc:0.8147966301285572 \n",
      " apur:0.19066859922929752 \n",
      " f1:0.22205570126139626 \n",
      " precision:0.12927148465900828 \n",
      " recall:0.7867256637168142 \n",
      ", 'Validation':  best_epoch_indx:19\n",
      " auc:0.8025383954558059 \n",
      " apur:0.18604574631039889 \n",
      " f1:0.21952786253412557 \n",
      " precision:0.12780478683620045 \n",
      " recall:0.7775881683731513 \n",
      "}\n",
      "=====Epoch 20\n",
      "Training...\n"
     ]
    },
    {
     "name": "stderr",
     "output_type": "stream",
     "text": [
      "\n",
      "Iteration:  79%|███████▉  | 791/1004 [00:17<00:04, 48.43it/s]\n",
      "Iteration:  11%|█▏        | 114/1004 [00:02<00:19, 45.14it/s]]\n",
      "Iteration:  93%|█████████▎| 932/1004 [00:19<00:01, 57.60it/s]"
     ]
    },
    {
     "name": "stdout",
     "output_type": "stream",
     "text": [
      "{'Train':  best_epoch_indx:19\n",
      " auc:0.8144590501480096 \n",
      " apur:0.1884692467029227 \n",
      " f1:0.21413451804255249 \n",
      " precision:0.12340048021754434 \n",
      " recall:0.8089127686472819 \n",
      ", 'Validation':  best_epoch_indx:19\n",
      " auc:0.8014646779177579 \n",
      " apur:0.17368445899733737 \n",
      " f1:0.20915720622509584 \n",
      " precision:0.12050593433249589 \n",
      " recall:0.7912400455062572 \n",
      "}\n",
      "=====Epoch 20\n",
      "Training...\n"
     ]
    },
    {
     "name": "stderr",
     "output_type": "stream",
     "text": [
      "Iteration:  97%|█████████▋| 969/1004 [00:20<00:00, 52.98it/s]\n",
      "Iteration:  99%|█████████▉| 998/1004 [00:21<00:00, 50.95it/s]\n",
      "Iteration:  18%|█▊        | 179/1004 [00:04<00:18, 45.30it/s]]\n",
      "Iteration:  29%|██▉       | 294/1004 [00:06<00:16, 44.25it/s]"
     ]
    },
    {
     "name": "stdout",
     "output_type": "stream",
     "text": [
      "{'Train':  best_epoch_indx:19\n",
      " auc:0.815534383369476 \n",
      " apur:0.19215071238301937 \n",
      " f1:0.216609559995929 \n",
      " precision:0.1250869339497889 \n",
      " recall:0.8072570958973386 \n",
      ", 'Validation':  best_epoch_indx:19\n",
      " auc:0.802874285483356 \n",
      " apur:0.1835567192292477 \n",
      " f1:0.21339874290970412 \n",
      " precision:0.12331679659815734 \n",
      " recall:0.7918088737201365 \n",
      "}\n",
      "=====Epoch 20\n",
      "Training...\n"
     ]
    },
    {
     "name": "stderr",
     "output_type": "stream",
     "text": [
      "Iteration:   2%|▏         | 24/1004 [00:00<00:24, 40.59it/s]]\n",
      "Iteration:  21%|██▏       | 214/1004 [00:04<00:21, 36.54it/s]\n",
      "Iteration:  33%|███▎      | 334/1004 [00:07<00:15, 42.72it/s]"
     ]
    },
    {
     "name": "stdout",
     "output_type": "stream",
     "text": [
      "{'Train':  best_epoch_indx:19\n",
      " auc:0.8159870351777696 \n",
      " apur:0.1915143857540421 \n",
      " f1:0.21842820304252264 \n",
      " precision:0.12653519545231245 \n",
      " recall:0.797838042859852 \n",
      ", 'Validation':  best_epoch_indx:19\n",
      " auc:0.803465222232774 \n",
      " apur:0.18306406956251917 \n",
      " f1:0.21325019485580668 \n",
      " precision:0.12355491329479769 \n",
      " recall:0.7781569965870307 \n",
      "}\n",
      "=====Epoch 20\n",
      "Training...\n"
     ]
    },
    {
     "name": "stderr",
     "output_type": "stream",
     "text": [
      "Iteration:  18%|█▊        | 179/1004 [00:04<00:18, 43.95it/s]\n",
      "Iteration:  48%|████▊     | 479/1004 [00:10<00:12, 41.75it/s]"
     ]
    },
    {
     "name": "stdout",
     "output_type": "stream",
     "text": [
      "{'Train':  best_epoch_indx:19\n",
      " auc:0.8159613052174248 \n",
      " apur:0.19285351130999231 \n",
      " f1:0.21701005694066317 \n",
      " precision:0.12556526233141516 \n",
      " recall:0.7986093552465234 \n",
      ", 'Validation':  best_epoch_indx:19\n",
      " auc:0.8003894260616997 \n",
      " apur:0.18072818256704412 \n",
      " f1:0.21383258548661613 \n",
      " precision:0.12374641833810889 \n",
      " recall:0.7861205915813424 \n",
      "}\n",
      "=====Epoch 20\n",
      "Training...\n"
     ]
    },
    {
     "name": "stderr",
     "output_type": "stream",
     "text": [
      "Iteration: 100%|██████████| 1004/1004 [00:23<00:00, 43.48it/s]\n",
      "Iteration:  89%|████████▉ | 894/1004 [00:20<00:02, 44.34it/s]"
     ]
    },
    {
     "name": "stdout",
     "output_type": "stream",
     "text": [
      "Evaluating...\n"
     ]
    },
    {
     "name": "stderr",
     "output_type": "stream",
     "text": [
      "Iteration: 100%|██████████| 1004/1004 [00:23<00:00, 43.21it/s]\n",
      "Iteration:   0%|          | 4/1004 [00:00<00:25, 38.62it/s]s]"
     ]
    },
    {
     "name": "stdout",
     "output_type": "stream",
     "text": [
      "Evaluating...\n"
     ]
    },
    {
     "name": "stderr",
     "output_type": "stream",
     "text": [
      "Iteration: 100%|██████████| 1004/1004 [00:23<00:00, 43.01it/s]\n",
      "Iteration:   0%|          | 0/1004 [00:00<?, ?it/s]"
     ]
    },
    {
     "name": "stdout",
     "output_type": "stream",
     "text": [
      "Evaluating...\n"
     ]
    },
    {
     "name": "stderr",
     "output_type": "stream",
     "text": [
      "Iteration: 100%|██████████| 1004/1004 [00:23<00:00, 42.71it/s]\n",
      "Iteration:  25%|██▍       | 247/1004 [00:05<00:16, 45.59it/s]"
     ]
    },
    {
     "name": "stdout",
     "output_type": "stream",
     "text": [
      "Evaluating...\n"
     ]
    },
    {
     "name": "stderr",
     "output_type": "stream",
     "text": [
      "Iteration: 100%|██████████| 1004/1004 [00:23<00:00, 42.87it/s]\n",
      "Iteration:  15%|█▍        | 148/1004 [00:03<00:18, 45.42it/s]"
     ]
    },
    {
     "name": "stdout",
     "output_type": "stream",
     "text": [
      "Evaluating...\n"
     ]
    },
    {
     "name": "stderr",
     "output_type": "stream",
     "text": [
      "Iteration:  78%|███████▊  | 785/1004 [00:16<00:03, 57.44it/s]]\n",
      "Iteration:  92%|█████████▏| 920/1004 [00:19<00:01, 56.04it/s]\n",
      "Iteration:  97%|█████████▋| 975/1004 [00:20<00:00, 41.25it/s]"
     ]
    },
    {
     "name": "stdout",
     "output_type": "stream",
     "text": [
      "{'Train':  best_epoch_indx:20\n",
      " auc:0.8139037309686652 \n",
      " apur:0.1897945315984202 \n",
      " f1:0.21668757195140811 \n",
      " precision:0.12538527312135855 \n",
      " recall:0.7971554993678888 \n",
      ", 'Validation':  best_epoch_indx:20\n",
      " auc:0.801155750613135 \n",
      " apur:0.18047712453289189 \n",
      " f1:0.21598639455782312 \n",
      " precision:0.12497763463947038 \n",
      " recall:0.7946530147895335 \n",
      "}\n",
      "=====Epoch 21\n",
      "Training...\n"
     ]
    },
    {
     "name": "stderr",
     "output_type": "stream",
     "text": [
      "Iteration:  78%|███████▊  | 785/1004 [00:16<00:03, 56.72it/s]\n",
      "Iteration:  12%|█▏        | 117/1004 [00:02<00:19, 45.34it/s]]\n",
      "Iteration:   0%|          | 4/1004 [00:00<00:27, 36.36it/s]s]"
     ]
    },
    {
     "name": "stdout",
     "output_type": "stream",
     "text": [
      "{'Train':  best_epoch_indx:20\n",
      " auc:0.8148348607000964 \n",
      " apur:0.1908980494048089 \n",
      " f1:0.21727225126395935 \n",
      " precision:0.1257064531828882 \n",
      " recall:0.8 \n",
      ", 'Validation':  best_epoch_indx:20\n",
      " auc:0.8020832593092189 \n",
      " apur:0.17604125057764758 \n",
      " f1:0.21168108776266992 \n",
      " precision:0.12247452172358304 \n",
      " recall:0.7792946530147895 \n",
      "}\n",
      "=====Epoch 21\n",
      "Training...\n"
     ]
    },
    {
     "name": "stderr",
     "output_type": "stream",
     "text": [
      "Iteration:  98%|█████████▊| 983/1004 [00:20<00:00, 48.55it/s]\n",
      "Iteration:  22%|██▏       | 217/1004 [00:04<00:17, 44.85it/s]]\n",
      "Iteration:  15%|█▌        | 154/1004 [00:03<00:18, 45.24it/s]\n",
      "Iteration:  73%|███████▎  | 82/112 [00:01<00:00, 56.63it/s]s]"
     ]
    },
    {
     "name": "stdout",
     "output_type": "stream",
     "text": [
      "{'Train':  best_epoch_indx:20\n",
      " auc:0.8138496162766633 \n",
      " apur:0.19032613447377633 \n",
      " f1:0.2159426187811578 \n",
      " precision:0.12469523837499633 \n",
      " recall:0.8050445666603452 \n",
      ", 'Validation':  best_epoch_indx:20\n",
      " auc:0.8005733378526625 \n",
      " apur:0.176760725515611 \n",
      " f1:0.21326977781194742 \n",
      " precision:0.1232998488754556 \n",
      " recall:0.7889647326507395 \n",
      "}\n",
      "=====Epoch 21\n",
      "Training...\n"
     ]
    },
    {
     "name": "stderr",
     "output_type": "stream",
     "text": [
      "Iteration:  32%|███▏      | 322/1004 [00:07<00:15, 44.87it/s]\n",
      "Iteration:   8%|▊         | 78/1004 [00:01<00:21, 43.34it/s]]\n",
      "Iteration:  37%|███▋      | 41/112 [00:00<00:01, 45.97it/s]s]"
     ]
    },
    {
     "name": "stdout",
     "output_type": "stream",
     "text": [
      "{'Train':  best_epoch_indx:20\n",
      " auc:0.8157737626988667 \n",
      " apur:0.1919388567562604 \n",
      " f1:0.2151652624756967 \n",
      " precision:0.12410672673605717 \n",
      " recall:0.8080156773500221 \n",
      ", 'Validation':  best_epoch_indx:20\n",
      " auc:0.8040649700949756 \n",
      " apur:0.18367400889508628 \n",
      " f1:0.21071808106877182 \n",
      " precision:0.12158374211632796 \n",
      " recall:0.7895335608646189 \n",
      "}\n",
      "=====Epoch 21\n",
      "Training...\n"
     ]
    },
    {
     "name": "stderr",
     "output_type": "stream",
     "text": [
      "Iteration:   8%|▊         | 84/1004 [00:01<00:20, 44.12it/s]]\n",
      "Iteration:   0%|          | 0/1004 [00:00<?, ?it/s]"
     ]
    },
    {
     "name": "stdout",
     "output_type": "stream",
     "text": [
      "{'Train':  best_epoch_indx:20\n",
      " auc:0.8147545728953526 \n",
      " apur:0.19124012594877005 \n",
      " f1:0.21732931223697968 \n",
      " precision:0.12587209593305507 \n",
      " recall:0.7948798988621998 \n",
      ", 'Validation':  best_epoch_indx:20\n",
      " auc:0.7998092833740726 \n",
      " apur:0.18017898909935132 \n",
      " f1:0.2135831381733021 \n",
      " precision:0.1237785016286645 \n",
      " recall:0.7781569965870307 \n",
      "}\n",
      "=====Epoch 21\n",
      "Training...\n"
     ]
    },
    {
     "name": "stderr",
     "output_type": "stream",
     "text": [
      "Iteration: 100%|██████████| 1004/1004 [00:22<00:00, 43.99it/s]\n",
      "Iteration:  56%|█████▌    | 559/1004 [00:12<00:10, 41.94it/s]"
     ]
    },
    {
     "name": "stdout",
     "output_type": "stream",
     "text": [
      "Evaluating...\n"
     ]
    },
    {
     "name": "stderr",
     "output_type": "stream",
     "text": [
      "Iteration: 100%|██████████| 1004/1004 [00:22<00:00, 43.96it/s]\n",
      "Iteration:  77%|███████▋  | 769/1004 [00:17<00:05, 43.75it/s]"
     ]
    },
    {
     "name": "stdout",
     "output_type": "stream",
     "text": [
      "Evaluating...\n"
     ]
    },
    {
     "name": "stderr",
     "output_type": "stream",
     "text": [
      "Iteration: 100%|██████████| 1004/1004 [00:23<00:00, 43.54it/s]\n",
      "Iteration:  93%|█████████▎| 929/1004 [00:21<00:01, 43.93it/s]"
     ]
    },
    {
     "name": "stdout",
     "output_type": "stream",
     "text": [
      "Evaluating...\n"
     ]
    },
    {
     "name": "stderr",
     "output_type": "stream",
     "text": [
      "Iteration: 100%|██████████| 1004/1004 [00:23<00:00, 43.58it/s]\n",
      "Iteration:  91%|█████████ | 914/1004 [00:21<00:02, 43.01it/s]"
     ]
    },
    {
     "name": "stdout",
     "output_type": "stream",
     "text": [
      "Evaluating...\n"
     ]
    },
    {
     "name": "stderr",
     "output_type": "stream",
     "text": [
      "Iteration: 100%|██████████| 1004/1004 [00:23<00:00, 43.29it/s]\n",
      "Iteration:  38%|███▊      | 377/1004 [00:07<00:12, 48.26it/s]"
     ]
    },
    {
     "name": "stdout",
     "output_type": "stream",
     "text": [
      "Evaluating...\n"
     ]
    },
    {
     "name": "stderr",
     "output_type": "stream",
     "text": [
      "Iteration:  76%|███████▌  | 759/1004 [00:15<00:05, 48.06it/s]]\n",
      "Iteration:  88%|████████▊ | 888/1004 [00:18<00:02, 55.04it/s]\n",
      "Iteration:  89%|████████▉ | 894/1004 [00:18<00:02, 52.79it/s]\n",
      "Iteration:  98%|█████████▊| 986/1004 [00:20<00:00, 48.73it/s]"
     ]
    },
    {
     "name": "stdout",
     "output_type": "stream",
     "text": [
      "{'Train':  best_epoch_indx:21\n",
      " auc:0.8110228119539101 \n",
      " apur:0.18660556746928136 \n",
      " f1:0.2178898090219188 \n",
      " precision:0.12622439669951777 \n",
      " recall:0.7958280657395702 \n",
      ", 'Validation':  best_epoch_indx:21\n",
      " auc:0.7984092585665729 \n",
      " apur:0.1795234315190585 \n",
      " f1:0.2132358659304767 \n",
      " precision:0.12350238717232681 \n",
      " recall:0.7798634812286689 \n",
      "}\n",
      "=====Epoch 22\n",
      "Training...\n"
     ]
    },
    {
     "name": "stderr",
     "output_type": "stream",
     "text": [
      "Iteration:  91%|█████████ | 910/1004 [00:18<00:01, 57.73it/s]]\n",
      "Iteration:  91%|█████████ | 916/1004 [00:18<00:01, 58.21it/s]"
     ]
    },
    {
     "name": "stdout",
     "output_type": "stream",
     "text": [
      "{'Train':  best_epoch_indx:21\n",
      " auc:0.8119810243647838 \n",
      " apur:0.18857417649323632 \n",
      " f1:0.21820710033459345 \n",
      " precision:0.12649503753337699 \n",
      " recall:0.7935524652338811 \n",
      ", 'Validation':  best_epoch_indx:21\n",
      " auc:0.7966099611442488 \n",
      " apur:0.17275393388932747 \n",
      " f1:0.2137380691597559 \n",
      " precision:0.12391146589259797 \n",
      " recall:0.7770193401592719 \n",
      "}\n",
      "=====Epoch 22\n",
      "Training...\n"
     ]
    },
    {
     "name": "stderr",
     "output_type": "stream",
     "text": [
      "Iteration:  16%|█▌        | 158/1004 [00:03<00:19, 44.00it/s]\n",
      "Iteration:  22%|██▏       | 223/1004 [00:05<00:17, 45.04it/s]]\n",
      "Iteration:  16%|█▌        | 159/1004 [00:03<00:18, 44.98it/s]\n",
      "Iteration:  48%|████▊     | 54/112 [00:00<00:01, 53.41it/s]s]"
     ]
    },
    {
     "name": "stdout",
     "output_type": "stream",
     "text": [
      "{'Train':  best_epoch_indx:21\n",
      " auc:0.8124646337262004 \n",
      " apur:0.19001057314887637 \n",
      " f1:0.2211390823067309 \n",
      " precision:0.1287512603819087 \n",
      " recall:0.7829824894114672 \n",
      ", 'Validation':  best_epoch_indx:21\n",
      " auc:0.7993877586617905 \n",
      " apur:0.17892058026418547 \n",
      " f1:0.21871713985278657 \n",
      " precision:0.1274870344177275 \n",
      " recall:0.7690557451649602 \n",
      "}\n",
      "=====Epoch 22\n",
      "Training...\n"
     ]
    },
    {
     "name": "stderr",
     "output_type": "stream",
     "text": [
      "Iteration:   4%|▍         | 39/1004 [00:01<00:23, 41.27it/s]]\n",
      "Iteration:  33%|███▎      | 328/1004 [00:07<00:15, 44.55it/s]\n",
      "Iteration:  33%|███▎      | 37/112 [00:00<00:01, 54.04it/s]]]"
     ]
    },
    {
     "name": "stdout",
     "output_type": "stream",
     "text": [
      "{'Train':  best_epoch_indx:21\n",
      " auc:0.8138354508431143 \n",
      " apur:0.18963794532854367 \n",
      " f1:0.2130605822187254 \n",
      " precision:0.12259115948382669 \n",
      " recall:0.8131361021556356 \n",
      ", 'Validation':  best_epoch_indx:21\n",
      " auc:0.8005408300506106 \n",
      " apur:0.17755140429407568 \n",
      " f1:0.20802023658953944 \n",
      " precision:0.11966104596422152 \n",
      " recall:0.7952218430034129 \n",
      "}\n",
      "=====Epoch 22\n",
      "Training...\n"
     ]
    },
    {
     "name": "stderr",
     "output_type": "stream",
     "text": [
      "Iteration:  41%|████      | 413/1004 [00:09<00:13, 44.78it/s]\n",
      "Iteration:   8%|▊         | 78/1004 [00:01<00:21, 43.88it/s]"
     ]
    },
    {
     "name": "stdout",
     "output_type": "stream",
     "text": [
      "{'Train':  best_epoch_indx:21\n",
      " auc:0.8131799011542113 \n",
      " apur:0.19071006001502216 \n",
      " f1:0.22315285671552496 \n",
      " precision:0.13025534661742452 \n",
      " recall:0.7780657395701643 \n",
      ", 'Validation':  best_epoch_indx:21\n",
      " auc:0.7975901391193954 \n",
      " apur:0.17563106694310515 \n",
      " f1:0.21766819072501634 \n",
      " precision:0.12707340324118208 \n",
      " recall:0.7582480091012515 \n",
      "}\n",
      "=====Epoch 22\n",
      "Training...\n"
     ]
    },
    {
     "name": "stderr",
     "output_type": "stream",
     "text": [
      "Iteration: 100%|██████████| 1004/1004 [00:22<00:00, 43.72it/s]\n",
      "Iteration:  67%|██████▋   | 668/1004 [00:15<00:07, 44.57it/s]"
     ]
    },
    {
     "name": "stdout",
     "output_type": "stream",
     "text": [
      "Evaluating...\n"
     ]
    },
    {
     "name": "stderr",
     "output_type": "stream",
     "text": [
      "Iteration: 100%|██████████| 1004/1004 [00:22<00:00, 43.98it/s]\n",
      "Iteration:  83%|████████▎ | 834/1004 [00:19<00:03, 44.27it/s]"
     ]
    },
    {
     "name": "stdout",
     "output_type": "stream",
     "text": [
      "Evaluating...\n"
     ]
    },
    {
     "name": "stderr",
     "output_type": "stream",
     "text": [
      "Iteration: 100%|██████████| 1004/1004 [00:23<00:00, 43.54it/s]\n",
      "Iteration:   0%|          | 0/1004 [00:00<?, ?it/s]"
     ]
    },
    {
     "name": "stdout",
     "output_type": "stream",
     "text": [
      "Evaluating...\n"
     ]
    },
    {
     "name": "stderr",
     "output_type": "stream",
     "text": [
      "Iteration: 100%|██████████| 1004/1004 [00:23<00:00, 43.24it/s]\n",
      "Iteration:  28%|██▊       | 281/1004 [00:05<00:14, 48.62it/s]"
     ]
    },
    {
     "name": "stdout",
     "output_type": "stream",
     "text": [
      "Evaluating...\n"
     ]
    },
    {
     "name": "stderr",
     "output_type": "stream",
     "text": [
      "Iteration: 100%|██████████| 1004/1004 [00:23<00:00, 43.18it/s]\n",
      "Iteration:  37%|███▋      | 369/1004 [00:07<00:13, 48.22it/s]"
     ]
    },
    {
     "name": "stdout",
     "output_type": "stream",
     "text": [
      "Evaluating...\n"
     ]
    },
    {
     "name": "stderr",
     "output_type": "stream",
     "text": [
      "Iteration:  79%|███████▊  | 790/1004 [00:16<00:03, 55.17it/s]]\n",
      "Iteration:  97%|█████████▋| 975/1004 [00:20<00:00, 52.37it/s]\n",
      "Iteration:  91%|█████████▏| 917/1004 [00:19<00:01, 51.55it/s]]\n",
      "Iteration:  92%|█████████▏| 923/1004 [00:19<00:01, 52.18it/s]"
     ]
    },
    {
     "name": "stdout",
     "output_type": "stream",
     "text": [
      "{'Train':  best_epoch_indx:22\n",
      " auc:0.8100911972954878 \n",
      " apur:0.18595914834302749 \n",
      " f1:0.21879540004550946 \n",
      " precision:0.12697832226082365 \n",
      " recall:0.7901390644753477 \n",
      ", 'Validation':  best_epoch_indx:22\n",
      " auc:0.8001258374056465 \n",
      " apur:0.17965858008347763 \n",
      " f1:0.21694165943001498 \n",
      " precision:0.12595104959207992 \n",
      " recall:0.7815699658703071 \n",
      "}\n",
      "=====Epoch 23\n",
      "Training...\n"
     ]
    },
    {
     "name": "stderr",
     "output_type": "stream",
     "text": [
      "Iteration:   8%|▊         | 84/1004 [00:01<00:20, 44.89it/s]]]\n",
      "Iteration:   0%|          | 4/1004 [00:00<00:26, 38.38it/s]s]"
     ]
    },
    {
     "name": "stdout",
     "output_type": "stream",
     "text": [
      "{'Train':  best_epoch_indx:22\n",
      " auc:0.8100259829798049 \n",
      " apur:0.18414414571321674 \n",
      " f1:0.21966816910850218 \n",
      " precision:0.12764605180879746 \n",
      " recall:0.7871049304677623 \n",
      ", 'Validation':  best_epoch_indx:22\n",
      " auc:0.7980418387525446 \n",
      " apur:0.17037422304788064 \n",
      " f1:0.2115689381933439 \n",
      " precision:0.12290554225741115 \n",
      " recall:0.7593856655290102 \n",
      "}\n",
      "=====Epoch 23\n",
      "Training...\n"
     ]
    },
    {
     "name": "stderr",
     "output_type": "stream",
     "text": [
      "Iteration:   4%|▍         | 44/1004 [00:01<00:21, 44.46it/s]]\n",
      "Iteration:  78%|███████▊  | 87/112 [00:01<00:00, 55.34it/s]s]]\n",
      "Iteration:  46%|████▋     | 52/112 [00:00<00:01, 56.05it/s]s]\n",
      "Iteration:  25%|██▍       | 249/1004 [00:05<00:16, 44.68it/s]"
     ]
    },
    {
     "name": "stdout",
     "output_type": "stream",
     "text": [
      "{'Train':  best_epoch_indx:22\n",
      " auc:0.8091346649434294 \n",
      " apur:0.1862116512209205 \n",
      " f1:0.2222989864097087 \n",
      " precision:0.12981759497165185 \n",
      " recall:0.7729312851634111 \n",
      ", 'Validation':  best_epoch_indx:22\n",
      " auc:0.7981872131408541 \n",
      " apur:0.1781898788749741 \n",
      " f1:0.21910807023328663 \n",
      " precision:0.12812108358237734 \n",
      " recall:0.7559726962457338 \n",
      "}\n",
      "=====Epoch 23\n",
      "Training...\n"
     ]
    },
    {
     "name": "stderr",
     "output_type": "stream",
     "text": [
      "Iteration:  27%|██▋       | 274/1004 [00:06<00:16, 45.01it/s]\n",
      "Iteration:  23%|██▎       | 234/1004 [00:05<00:17, 45.01it/s]\n",
      "Iteration:   8%|▊         | 79/1004 [00:01<00:20, 44.63it/s]]"
     ]
    },
    {
     "name": "stdout",
     "output_type": "stream",
     "text": [
      "{'Train':  best_epoch_indx:22\n",
      " auc:0.8106287886188878 \n",
      " apur:0.18147719569530474 \n",
      " f1:0.20551103304424195 \n",
      " precision:0.11730688318547629 \n",
      " recall:0.8283709463303622 \n",
      ", 'Validation':  best_epoch_indx:22\n",
      " auc:0.7973055814505366 \n",
      " apur:0.16842310628963025 \n",
      " f1:0.19918355855855857 \n",
      " precision:0.11365461847389559 \n",
      " recall:0.8048919226393629 \n",
      "}\n",
      "=====Epoch 23\n",
      "Training...\n"
     ]
    },
    {
     "name": "stderr",
     "output_type": "stream",
     "text": [
      "Iteration:   7%|▋         | 68/1004 [00:01<00:21, 44.51it/s]]\n",
      "Iteration:   0%|          | 4/1004 [00:00<00:29, 34.34it/s]s]"
     ]
    },
    {
     "name": "stdout",
     "output_type": "stream",
     "text": [
      "{'Train':  best_epoch_indx:22\n",
      " auc:0.8124155233996206 \n",
      " apur:0.1852534280929472 \n",
      " f1:0.2149995314243847 \n",
      " precision:0.1242454976023317 \n",
      " recall:0.797597977243995 \n",
      ", 'Validation':  best_epoch_indx:22\n",
      " auc:0.7988932147684157 \n",
      " apur:0.17797879238655454 \n",
      " f1:0.21369820893227767 \n",
      " precision:0.12354457381566084 \n",
      " recall:0.7906712172923777 \n",
      "}\n",
      "=====Epoch 23\n",
      "Training...\n"
     ]
    },
    {
     "name": "stderr",
     "output_type": "stream",
     "text": [
      "Iteration: 100%|██████████| 1004/1004 [00:22<00:00, 43.84it/s]\n",
      "Iteration:  61%|██████    | 614/1004 [00:14<00:08, 44.38it/s]"
     ]
    },
    {
     "name": "stdout",
     "output_type": "stream",
     "text": [
      "Evaluating...\n"
     ]
    },
    {
     "name": "stderr",
     "output_type": "stream",
     "text": [
      "Iteration: 100%|██████████| 1004/1004 [00:22<00:00, 44.23it/s]\n",
      "Iteration:  84%|████████▎ | 839/1004 [00:19<00:03, 44.26it/s]"
     ]
    },
    {
     "name": "stdout",
     "output_type": "stream",
     "text": [
      "Evaluating...\n"
     ]
    },
    {
     "name": "stderr",
     "output_type": "stream",
     "text": [
      "Iteration: 100%|██████████| 1004/1004 [00:23<00:00, 43.62it/s]\n",
      "Iteration:  86%|████████▌ | 864/1004 [00:19<00:03, 42.24it/s]"
     ]
    },
    {
     "name": "stdout",
     "output_type": "stream",
     "text": [
      "Evaluating...\n"
     ]
    },
    {
     "name": "stderr",
     "output_type": "stream",
     "text": [
      "Iteration:  26%|██▋       | 264/1004 [00:05<00:15, 48.25it/s]]\n",
      "Iteration:  94%|█████████▎| 939/1004 [00:21<00:01, 43.53it/s]"
     ]
    },
    {
     "name": "stdout",
     "output_type": "stream",
     "text": [
      "Evaluating...\n"
     ]
    },
    {
     "name": "stderr",
     "output_type": "stream",
     "text": [
      "Iteration: 100%|██████████| 1004/1004 [00:23<00:00, 43.26it/s]\n",
      "Iteration:  44%|████▍     | 443/1004 [00:09<00:11, 49.18it/s]"
     ]
    },
    {
     "name": "stdout",
     "output_type": "stream",
     "text": [
      "Evaluating...\n"
     ]
    },
    {
     "name": "stderr",
     "output_type": "stream",
     "text": [
      "Iteration:  90%|█████████ | 905/1004 [00:18<00:01, 60.33it/s]]\n",
      "Iteration:  98%|█████████▊| 984/1004 [00:20<00:00, 52.33it/s]\n",
      "Iteration:  96%|█████████▌| 959/1004 [00:19<00:00, 58.94it/s]]\n",
      "Iteration:   0%|          | 0/1004 [00:00<?, ?it/s]"
     ]
    },
    {
     "name": "stdout",
     "output_type": "stream",
     "text": [
      "{'Train':  best_epoch_indx:23\n",
      " auc:0.8055968269134148 \n",
      " apur:0.1837215682187913 \n",
      " f1:0.22165842497601299 \n",
      " precision:0.12976926068357603 \n",
      " recall:0.7593552465233881 \n",
      ", 'Validation':  best_epoch_indx:23\n",
      " auc:0.7985303620179379 \n",
      " apur:0.18313053373924623 \n",
      " f1:0.2203966475811136 \n",
      " precision:0.12901972214126106 \n",
      " recall:0.7554038680318543 \n",
      "}\n",
      "=====Epoch 24\n",
      "Training...\n"
     ]
    },
    {
     "name": "stderr",
     "output_type": "stream",
     "text": [
      "Iteration:   6%|▌         | 58/1004 [00:01<00:21, 44.70it/s]]]\n",
      "Iteration:   0%|          | 0/1004 [00:00<?, ?it/s]"
     ]
    },
    {
     "name": "stdout",
     "output_type": "stream",
     "text": [
      "{'Train':  best_epoch_indx:23\n",
      " auc:0.8108925174890023 \n",
      " apur:0.18440332502360016 \n",
      " f1:0.21497623562021204 \n",
      " precision:0.12419321564351184 \n",
      " recall:0.7991150442477876 \n",
      ", 'Validation':  best_epoch_indx:23\n",
      " auc:0.7988516087297419 \n",
      " apur:0.1700201244026987 \n",
      " f1:0.21032475490196081 \n",
      " precision:0.12152593379359179 \n",
      " recall:0.7810011376564278 \n",
      "}\n",
      "=====Epoch 24\n",
      "Training...\n"
     ]
    },
    {
     "name": "stderr",
     "output_type": "stream",
     "text": [
      "Iteration:  11%|█         | 108/1004 [00:02<00:19, 44.96it/s]]\n",
      "Iteration:  66%|██████▌   | 74/112 [00:01<00:00, 53.42it/s]s]\n",
      "Iteration:  15%|█▍        | 149/1004 [00:03<00:22, 37.47it/s]\n",
      "Iteration:  22%|██▏       | 218/1004 [00:05<00:17, 44.52it/s]"
     ]
    },
    {
     "name": "stdout",
     "output_type": "stream",
     "text": [
      "{'Train':  best_epoch_indx:23\n",
      " auc:0.8075903563603074 \n",
      " apur:0.18752073982088185 \n",
      " f1:0.21215568713098212 \n",
      " precision:0.12212003594577542 \n",
      " recall:0.8075099563815664 \n",
      ", 'Validation':  best_epoch_indx:23\n",
      " auc:0.7983816498150097 \n",
      " apur:0.17909811258818575 \n",
      " f1:0.21011497707973248 \n",
      " precision:0.12104944151008745 \n",
      " recall:0.7952218430034129 \n",
      "}\n",
      "=====Epoch 24\n",
      "Training...\n"
     ]
    },
    {
     "name": "stderr",
     "output_type": "stream",
     "text": [
      "Iteration:  17%|█▋        | 169/1004 [00:03<00:19, 42.73it/s]\n",
      "Iteration:  21%|██        | 209/1004 [00:04<00:17, 44.85it/s]\n",
      "Iteration:  28%|██▊       | 278/1004 [00:06<00:16, 43.84it/s]"
     ]
    },
    {
     "name": "stdout",
     "output_type": "stream",
     "text": [
      "{'Train':  best_epoch_indx:23\n",
      " auc:0.8086922228039743 \n",
      " apur:0.17919119709760975 \n",
      " f1:0.22024154374080843 \n",
      " precision:0.1281958163858222 \n",
      " recall:0.7810228206587015 \n",
      ", 'Validation':  best_epoch_indx:23\n",
      " auc:0.7953559746989345 \n",
      " apur:0.16848160611443372 \n",
      " f1:0.21511906664535718 \n",
      " precision:0.12513945704722945 \n",
      " recall:0.7656427758816837 \n",
      "}\n",
      "=====Epoch 24\n",
      "Training...\n"
     ]
    },
    {
     "name": "stderr",
     "output_type": "stream",
     "text": [
      "Iteration:  34%|███▍      | 343/1004 [00:07<00:14, 44.25it/s]\n",
      "Iteration:   0%|          | 0/1004 [00:00<?, ?it/s]"
     ]
    },
    {
     "name": "stdout",
     "output_type": "stream",
     "text": [
      "{'Train':  best_epoch_indx:23\n",
      " auc:0.8084354861640943 \n",
      " apur:0.1832327141625894 \n",
      " f1:0.21640051791109197 \n",
      " precision:0.12531240627811657 \n",
      " recall:0.7923514538558787 \n",
      ", 'Validation':  best_epoch_indx:23\n",
      " auc:0.7957955433499212 \n",
      " apur:0.17209348488017626 \n",
      " f1:0.2128620367486764 \n",
      " precision:0.12330867761140177 \n",
      " recall:0.7775881683731513 \n",
      "}\n",
      "=====Epoch 24\n",
      "Training...\n"
     ]
    },
    {
     "name": "stderr",
     "output_type": "stream",
     "text": [
      "Iteration: 100%|██████████| 1004/1004 [00:23<00:00, 43.61it/s]\n",
      "Iteration:   0%|          | 5/1004 [00:00<00:23, 43.25it/s]s]"
     ]
    },
    {
     "name": "stdout",
     "output_type": "stream",
     "text": [
      "Evaluating...\n"
     ]
    },
    {
     "name": "stderr",
     "output_type": "stream",
     "text": [
      "Iteration: 100%|██████████| 1004/1004 [00:22<00:00, 44.05it/s]\n",
      "Iteration:   6%|▌         | 59/1004 [00:01<00:18, 51.54it/s]]"
     ]
    },
    {
     "name": "stdout",
     "output_type": "stream",
     "text": [
      "Evaluating...\n"
     ]
    },
    {
     "name": "stderr",
     "output_type": "stream",
     "text": [
      "Iteration: 100%|██████████| 1004/1004 [00:23<00:00, 43.46it/s]\n",
      "Iteration:  20%|█▉        | 197/1004 [00:03<00:16, 49.71it/s]"
     ]
    },
    {
     "name": "stdout",
     "output_type": "stream",
     "text": [
      "Evaluating...\n"
     ]
    },
    {
     "name": "stderr",
     "output_type": "stream",
     "text": [
      "Iteration: 100%|██████████| 1004/1004 [00:23<00:00, 43.33it/s]\n",
      "Iteration:   0%|          | 4/1004 [00:00<00:28, 34.88it/s]s]"
     ]
    },
    {
     "name": "stdout",
     "output_type": "stream",
     "text": [
      "Evaluating...\n"
     ]
    },
    {
     "name": "stderr",
     "output_type": "stream",
     "text": [
      "Iteration: 100%|██████████| 1004/1004 [00:23<00:00, 43.17it/s]\n",
      "Iteration:  17%|█▋        | 173/1004 [00:03<00:16, 51.89it/s]"
     ]
    },
    {
     "name": "stdout",
     "output_type": "stream",
     "text": [
      "Evaluating...\n"
     ]
    },
    {
     "name": "stderr",
     "output_type": "stream",
     "text": [
      "Iteration:  79%|███████▊  | 790/1004 [00:16<00:03, 63.58it/s]]\n",
      "Iteration:  46%|████▌     | 51/112 [00:01<00:01, 54.66it/s]s]]\n",
      "Iteration:  71%|███████   | 79/112 [00:01<00:00, 67.42it/s]s]]\n",
      "Iteration:   0%|          | 0/1004 [00:00<?, ?it/s]"
     ]
    },
    {
     "name": "stdout",
     "output_type": "stream",
     "text": [
      "{'Train':  best_epoch_indx:24\n",
      " auc:0.8070413838710646 \n",
      " apur:0.17970763336650833 \n",
      " f1:0.2181024701056123 \n",
      " precision:0.12652151898734176 \n",
      " recall:0.7897597977243995 \n",
      ", 'Validation':  best_epoch_indx:24\n",
      " auc:0.7957046596825228 \n",
      " apur:0.1692742764194744 \n",
      " f1:0.21620348563353745 \n",
      " precision:0.12540983606557377 \n",
      " recall:0.7832764505119454 \n",
      "}\n",
      "=====Epoch 25\n",
      "Training...\n"
     ]
    },
    {
     "name": "stderr",
     "output_type": "stream",
     "text": [
      "Iteration:  98%|█████████▊| 983/1004 [00:19<00:00, 63.14it/s]\n",
      "Iteration:   4%|▍         | 39/1004 [00:00<00:21, 43.93it/s]]"
     ]
    },
    {
     "name": "stdout",
     "output_type": "stream",
     "text": [
      "{'Train':  best_epoch_indx:24\n",
      " auc:0.8065077228805659 \n",
      " apur:0.18164079187600002 \n",
      " f1:0.19696050431359782 \n",
      " precision:0.11153568974475003 \n",
      " recall:0.8413400758533502 \n",
      ", 'Validation':  best_epoch_indx:24\n",
      " auc:0.7943914898360674 \n",
      " apur:0.1721711997429104 \n",
      " f1:0.19223856752978766 \n",
      " precision:0.10885789672069356 \n",
      " recall:0.8213879408418657 \n",
      "}\n",
      "=====Epoch 25\n",
      "Training...\n"
     ]
    },
    {
     "name": "stderr",
     "output_type": "stream",
     "text": [
      "Iteration:   2%|▏         | 24/1004 [00:00<00:23, 42.36it/s]s]\n",
      "Iteration:   8%|▊         | 84/1004 [00:01<00:20, 45.38it/s]]\n",
      "Iteration:  46%|████▋     | 52/112 [00:00<00:01, 57.92it/s]s]\n",
      "Iteration:   0%|          | 4/1004 [00:00<00:30, 32.42it/s]s]"
     ]
    },
    {
     "name": "stdout",
     "output_type": "stream",
     "text": [
      "{'Train':  best_epoch_indx:24\n",
      " auc:0.8090220450323271 \n",
      " apur:0.18403852907007043 \n",
      " f1:0.21305431159298294 \n",
      " precision:0.12289151946551172 \n",
      " recall:0.7999873569757886 \n",
      ", 'Validation':  best_epoch_indx:24\n",
      " auc:0.8007282411633512 \n",
      " apur:0.17718359986252147 \n",
      " f1:0.21141810410624334 \n",
      " precision:0.12209097320169253 \n",
      " recall:0.7878270762229806 \n",
      "}\n",
      "=====Epoch 25\n",
      "Training...\n"
     ]
    },
    {
     "name": "stderr",
     "output_type": "stream",
     "text": [
      "Iteration:  15%|█▌        | 154/1004 [00:03<00:18, 45.33it/s]\n",
      "Iteration:  20%|█▉        | 199/1004 [00:04<00:18, 44.25it/s]\n",
      "Iteration:  46%|████▌     | 51/112 [00:01<00:01, 47.13it/s]]]"
     ]
    },
    {
     "name": "stdout",
     "output_type": "stream",
     "text": [
      "{'Train':  best_epoch_indx:24\n",
      " auc:0.8097170632415907 \n",
      " apur:0.18079822418918745 \n",
      " f1:0.21857538827049142 \n",
      " precision:0.12696011285343364 \n",
      " recall:0.7851318035274037 \n",
      ", 'Validation':  best_epoch_indx:24\n",
      " auc:0.797562557285692 \n",
      " apur:0.1736428678717414 \n",
      " f1:0.21382152480583297 \n",
      " precision:0.12421731123388582 \n",
      " recall:0.767349260523322 \n",
      "}\n",
      "=====Epoch 25\n",
      "Training...\n"
     ]
    },
    {
     "name": "stderr",
     "output_type": "stream",
     "text": [
      "Iteration:   7%|▋         | 73/1004 [00:01<00:21, 44.26it/s]]\n",
      "Iteration:   0%|          | 0/1004 [00:00<?, ?it/s]"
     ]
    },
    {
     "name": "stdout",
     "output_type": "stream",
     "text": [
      "{'Train':  best_epoch_indx:24\n",
      " auc:0.8086213255558806 \n",
      " apur:0.18851764948181396 \n",
      " f1:0.20484836094576847 \n",
      " precision:0.11697513402839516 \n",
      " recall:0.8233881163084703 \n",
      ", 'Validation':  best_epoch_indx:24\n",
      " auc:0.7962444524982681 \n",
      " apur:0.17912725425940673 \n",
      " f1:0.20018482974337098 \n",
      " precision:0.11438784629133154 \n",
      " recall:0.800910125142207 \n",
      "}\n",
      "=====Epoch 25\n",
      "Training...\n"
     ]
    },
    {
     "name": "stderr",
     "output_type": "stream",
     "text": [
      "Iteration: 100%|██████████| 1004/1004 [00:22<00:00, 43.78it/s]\n",
      "Iteration:   0%|          | 0/1004 [00:00<?, ?it/s]"
     ]
    },
    {
     "name": "stdout",
     "output_type": "stream",
     "text": [
      "Evaluating...\n"
     ]
    },
    {
     "name": "stderr",
     "output_type": "stream",
     "text": [
      "Iteration:  87%|████████▋ | 869/1004 [00:19<00:03, 43.82it/s]]\n",
      "Iteration:   5%|▍         | 46/1004 [00:00<00:18, 51.41it/s]]"
     ]
    },
    {
     "name": "stdout",
     "output_type": "stream",
     "text": [
      "Evaluating...\n"
     ]
    },
    {
     "name": "stderr",
     "output_type": "stream",
     "text": [
      "Iteration: 100%|██████████| 1004/1004 [00:23<00:00, 43.42it/s]\n",
      "Iteration:  87%|████████▋ | 869/1004 [00:19<00:03, 44.01it/s]"
     ]
    },
    {
     "name": "stdout",
     "output_type": "stream",
     "text": [
      "Evaluating...\n"
     ]
    },
    {
     "name": "stderr",
     "output_type": "stream",
     "text": [
      "Iteration: 100%|██████████| 1004/1004 [00:23<00:00, 43.10it/s]\n",
      "Iteration:   0%|          | 5/1004 [00:00<00:22, 43.58it/s]s]"
     ]
    },
    {
     "name": "stdout",
     "output_type": "stream",
     "text": [
      "Evaluating...\n"
     ]
    },
    {
     "name": "stderr",
     "output_type": "stream",
     "text": [
      "Iteration: 100%|██████████| 1004/1004 [00:23<00:00, 43.30it/s]\n",
      "Iteration:   8%|▊         | 85/1004 [00:01<00:18, 48.57it/s]]"
     ]
    },
    {
     "name": "stdout",
     "output_type": "stream",
     "text": [
      "Evaluating...\n"
     ]
    },
    {
     "name": "stderr",
     "output_type": "stream",
     "text": [
      "Iteration:  85%|████████▍ | 851/1004 [00:17<00:02, 63.67it/s]]\n",
      "Iteration:  94%|█████████▍| 943/1004 [00:19<00:01, 57.72it/s]]\n",
      "Iteration:  89%|████████▉ | 100/112 [00:01<00:00, 60.39it/s]]]\n",
      "Iteration: 100%|██████████| 112/112 [00:02<00:00, 55.96it/s]]"
     ]
    },
    {
     "name": "stdout",
     "output_type": "stream",
     "text": [
      "{'Train':  best_epoch_indx:25\n",
      " auc:0.8092216953920635 \n",
      " apur:0.18439630608193103 \n",
      " f1:0.21763130757298715 \n",
      " precision:0.1261034174558382 \n",
      " recall:0.7937420986093553 \n",
      ", 'Validation':  best_epoch_indx:25\n",
      " auc:0.7996423118895613 \n",
      " apur:0.17591452670871685 \n",
      " f1:0.2142243734873917 \n",
      " precision:0.12415166048321419 \n",
      " recall:0.7804323094425484 \n",
      "}\n",
      "=====Epoch 26\n",
      "Training...\n"
     ]
    },
    {
     "name": "stderr",
     "output_type": "stream",
     "text": [
      "Iteration:   1%|▏         | 14/1004 [00:00<00:24, 40.73it/s]]\n",
      "Iteration: 100%|██████████| 1004/1004 [00:20<00:00, 49.80it/s]"
     ]
    },
    {
     "name": "stdout",
     "output_type": "stream",
     "text": [
      "{'Train':  best_epoch_indx:25\n",
      " auc:0.8120528929379363 \n",
      " apur:0.18839740867882657 \n",
      " f1:0.22503404133127078 \n",
      " precision:0.13183628726787283 \n",
      " recall:0.7678255372945638 \n",
      ", 'Validation':  best_epoch_indx:25\n",
      " auc:0.8008509327684459 \n",
      " apur:0.17700148804016091 \n",
      " f1:0.22048293089092427 \n",
      " precision:0.129145532579009 \n",
      " recall:0.7531285551763367 \n",
      "}\n",
      "=====Epoch 26\n",
      "Training...\n"
     ]
    },
    {
     "name": "stderr",
     "output_type": "stream",
     "text": [
      "Iteration:   3%|▎         | 34/1004 [00:00<00:22, 43.22it/s]\n",
      "Iteration:  86%|████████▌ | 96/112 [00:01<00:00, 64.95it/s]]]\n",
      "Iteration:  13%|█▎        | 134/1004 [00:03<00:19, 44.98it/s]\n",
      "Iteration:  42%|████▏     | 47/112 [00:00<00:01, 62.27it/s]s]"
     ]
    },
    {
     "name": "stdout",
     "output_type": "stream",
     "text": [
      "{'Train':  best_epoch_indx:25\n",
      " auc:0.8071097988107929 \n",
      " apur:0.18504773281371545 \n",
      " f1:0.21430218555433142 \n",
      " precision:0.12388908638464273 \n",
      " recall:0.7930969087805804 \n",
      ", 'Validation':  best_epoch_indx:25\n",
      " auc:0.7951173658168016 \n",
      " apur:0.1730641844316145 \n",
      " f1:0.21213524779990736 \n",
      " precision:0.1227224008574491 \n",
      " recall:0.7815699658703071 \n",
      "}\n",
      "=====Epoch 26\n",
      "Training...\n"
     ]
    },
    {
     "name": "stderr",
     "output_type": "stream",
     "text": [
      "Iteration:   2%|▏         | 19/1004 [00:00<00:23, 41.74it/s]]\n",
      "Iteration:  21%|██▏       | 214/1004 [00:04<00:17, 45.13it/s]\n",
      "Iteration:  22%|██▏       | 219/1004 [00:04<00:17, 44.69it/s]"
     ]
    },
    {
     "name": "stdout",
     "output_type": "stream",
     "text": [
      "{'Train':  best_epoch_indx:25\n",
      " auc:0.810718559537541 \n",
      " apur:0.1840156917816113 \n",
      " f1:0.21057397087754248 \n",
      " precision:0.1210489457546277 \n",
      " recall:0.8085846134395347 \n",
      ", 'Validation':  best_epoch_indx:25\n",
      " auc:0.796810849132143 \n",
      " apur:0.1752654484277115 \n",
      " f1:0.2038188277087034 \n",
      " precision:0.11715160796324656 \n",
      " recall:0.7832764505119454 \n",
      "}\n",
      "=====Epoch 26\n",
      "Training...\n"
     ]
    },
    {
     "name": "stderr",
     "output_type": "stream",
     "text": [
      "Iteration:  26%|██▋       | 264/1004 [00:06<00:18, 39.30it/s]\n",
      "Iteration:   0%|          | 0/1004 [00:00<?, ?it/s]"
     ]
    },
    {
     "name": "stdout",
     "output_type": "stream",
     "text": [
      "{'Train':  best_epoch_indx:25\n",
      " auc:0.810133196425086 \n",
      " apur:0.19045120910451052 \n",
      " f1:0.22619926898092907 \n",
      " precision:0.13302742075601987 \n",
      " recall:0.7549936788874841 \n",
      ", 'Validation':  best_epoch_indx:25\n",
      " auc:0.7971596866502706 \n",
      " apur:0.179932402846209 \n",
      " f1:0.22188112901850432 \n",
      " precision:0.13050456414886147 \n",
      " recall:0.7400455062571104 \n",
      "}\n",
      "=====Epoch 26\n",
      "Training...\n"
     ]
    },
    {
     "name": "stderr",
     "output_type": "stream",
     "text": [
      "Iteration: 100%|██████████| 1004/1004 [00:22<00:00, 44.07it/s]\n",
      "Iteration:  73%|███████▎  | 729/1004 [00:16<00:06, 44.56it/s]"
     ]
    },
    {
     "name": "stdout",
     "output_type": "stream",
     "text": [
      "Evaluating...\n"
     ]
    },
    {
     "name": "stderr",
     "output_type": "stream",
     "text": [
      "Iteration: 100%|██████████| 1004/1004 [00:22<00:00, 44.18it/s]\n",
      "Iteration:  75%|███████▍  | 749/1004 [00:17<00:05, 44.12it/s]"
     ]
    },
    {
     "name": "stdout",
     "output_type": "stream",
     "text": [
      "Evaluating...\n"
     ]
    },
    {
     "name": "stderr",
     "output_type": "stream",
     "text": [
      "Iteration: 100%|██████████| 1004/1004 [00:22<00:00, 43.79it/s]\n",
      "Iteration:  16%|█▌        | 156/1004 [00:03<00:16, 52.53it/s]"
     ]
    },
    {
     "name": "stdout",
     "output_type": "stream",
     "text": [
      "Evaluating...\n"
     ]
    },
    {
     "name": "stderr",
     "output_type": "stream",
     "text": [
      "Iteration: 100%|██████████| 1004/1004 [00:23<00:00, 43.54it/s]\n",
      "Iteration:   9%|▉         | 91/1004 [00:01<00:19, 46.11it/s]]"
     ]
    },
    {
     "name": "stdout",
     "output_type": "stream",
     "text": [
      "Evaluating...\n"
     ]
    },
    {
     "name": "stderr",
     "output_type": "stream",
     "text": [
      "Iteration: 100%|██████████| 1004/1004 [00:23<00:00, 43.53it/s]\n",
      "Iteration:  30%|██▉       | 301/1004 [00:06<00:13, 50.58it/s]"
     ]
    },
    {
     "name": "stdout",
     "output_type": "stream",
     "text": [
      "Evaluating...\n"
     ]
    },
    {
     "name": "stderr",
     "output_type": "stream",
     "text": [
      "Iteration:  95%|█████████▌| 954/1004 [00:19<00:00, 71.10it/s]]\n",
      "Iteration:   0%|          | 0/112 [00:00<?, ?it/s]\n",
      "Iteration: 100%|██████████| 112/112 [00:01<00:00, 58.46it/s]s]\n",
      "Iteration:   0%|          | 0/1004 [00:00<?, ?it/s]\n",
      "Iteration:   0%|          | 4/1004 [00:00<00:26, 37.38it/s]\n",
      "Iteration:   0%|          | 4/1004 [00:00<00:27, 36.44it/s]"
     ]
    },
    {
     "name": "stdout",
     "output_type": "stream",
     "text": [
      "{'Train':  best_epoch_indx:26\n",
      " auc:0.8127576714463974 \n",
      " apur:0.1863453391374461 \n",
      " f1:0.21330487724174443 \n",
      " precision:0.122711006205505 \n",
      " recall:0.8149810366624526 \n",
      ", 'Validation':  best_epoch_indx:26\n",
      " auc:0.7972952898554626 \n",
      " apur:0.1734359294966207 \n",
      " f1:0.2103381498584835 \n",
      " precision:0.12101474117243743 \n",
      " recall:0.8031854379977247 \n",
      "}\n",
      "=====Epoch 27\n",
      "Training...\n",
      "{'Train':  best_epoch_indx:26\n",
      " auc:0.8117354631861531 \n",
      " apur:0.18374193067099326 \n",
      " f1:0.22414720659438858 \n",
      " precision:0.13096570022056708 \n",
      " recall:0.7769279393173198 \n",
      ", 'Validation':  best_epoch_indx:26\n",
      " auc:0.7980457149243598 \n",
      " apur:0.16974432308708307 \n",
      " f1:0.21942800788954633 \n",
      " precision:0.1282420749279539 \n",
      " recall:0.7593856655290102 \n",
      "}\n",
      "=====Epoch 27\n",
      "Training...\n"
     ]
    },
    {
     "name": "stderr",
     "output_type": "stream",
     "text": [
      "Iteration:   7%|▋         | 69/1004 [00:01<00:21, 44.50it/s]\n",
      "Iteration:  46%|████▋     | 52/112 [00:00<00:00, 61.25it/s]s]\n",
      "Iteration:  13%|█▎        | 129/1004 [00:03<00:19, 45.08it/s]\n",
      "Iteration:  13%|█▎        | 129/1004 [00:03<00:20, 43.15it/s]"
     ]
    },
    {
     "name": "stdout",
     "output_type": "stream",
     "text": [
      "{'Train':  best_epoch_indx:26\n",
      " auc:0.8131916765337308 \n",
      " apur:0.19220476888485566 \n",
      " f1:0.2194316738911511 \n",
      " precision:0.12735829877205823 \n",
      " recall:0.7920222517226121 \n",
      ", 'Validation':  best_epoch_indx:26\n",
      " auc:0.8030626297485707 \n",
      " apur:0.18422641817144708 \n",
      " f1:0.21581822500197925 \n",
      " precision:0.12535638738158741 \n",
      " recall:0.7753128555176336 \n",
      "}\n",
      "=====Epoch 27\n",
      "Training...\n"
     ]
    },
    {
     "name": "stderr",
     "output_type": "stream",
     "text": [
      "Iteration:  18%|█▊        | 179/1004 [00:04<00:18, 45.04it/s]\n",
      "Iteration:  68%|██████▊   | 76/112 [00:01<00:00, 51.56it/s]]"
     ]
    },
    {
     "name": "stdout",
     "output_type": "stream",
     "text": [
      "{'Train':  best_epoch_indx:26\n",
      " auc:0.8136555636533558 \n",
      " apur:0.18976381782589846 \n",
      " f1:0.22383641247738612 \n",
      " precision:0.13082764587138326 \n",
      " recall:0.7743220178266641 \n",
      ", 'Validation':  best_epoch_indx:26\n",
      " auc:0.800485307478406 \n",
      " apur:0.17913952166151878 \n",
      " f1:0.2188809465122011 \n",
      " precision:0.12791702679343128 \n",
      " recall:0.757679180887372 \n",
      "}\n",
      "=====Epoch 27\n",
      "Training...\n"
     ]
    },
    {
     "name": "stderr",
     "output_type": "stream",
     "text": [
      "Iteration:   9%|▉         | 89/1004 [00:02<00:20, 44.23it/s]]\n",
      "Iteration:   0%|          | 4/1004 [00:00<00:28, 34.70it/s]]]"
     ]
    },
    {
     "name": "stdout",
     "output_type": "stream",
     "text": [
      "{'Train':  best_epoch_indx:26\n",
      " auc:0.8128430530132338 \n",
      " apur:0.19217751254161813 \n",
      " f1:0.22073345259391772 \n",
      " precision:0.12855803292352574 \n",
      " recall:0.7799620733249052 \n",
      ", 'Validation':  best_epoch_indx:26\n",
      " auc:0.8000006424395878 \n",
      " apur:0.18009507546625272 \n",
      " f1:0.21748914965439642 \n",
      " precision:0.12663796330962188 \n",
      " recall:0.7696245733788396 \n",
      "}\n",
      "=====Epoch 27\n",
      "Training...\n"
     ]
    },
    {
     "name": "stderr",
     "output_type": "stream",
     "text": [
      "Iteration: 100%|██████████| 1004/1004 [00:22<00:00, 43.89it/s]\n",
      "Iteration: 100%|██████████| 1004/1004 [00:22<00:00, 43.69it/s]\n",
      "Iteration:   0%|          | 5/1004 [00:00<00:23, 41.71it/s]s]"
     ]
    },
    {
     "name": "stdout",
     "output_type": "stream",
     "text": [
      "Evaluating...\n",
      "Evaluating...\n"
     ]
    },
    {
     "name": "stderr",
     "output_type": "stream",
     "text": [
      "Iteration:  16%|█▌        | 163/1004 [00:03<00:17, 47.72it/s]]\n",
      "Iteration:   0%|          | 0/1004 [00:00<?, ?it/s]"
     ]
    },
    {
     "name": "stdout",
     "output_type": "stream",
     "text": [
      "Evaluating...\n"
     ]
    },
    {
     "name": "stderr",
     "output_type": "stream",
     "text": [
      "Iteration:  95%|█████████▌| 954/1004 [00:22<00:01, 43.71it/s]]\n",
      "Iteration:   0%|          | 0/1004 [00:00<?, ?it/s]"
     ]
    },
    {
     "name": "stdout",
     "output_type": "stream",
     "text": [
      "Evaluating...\n"
     ]
    },
    {
     "name": "stderr",
     "output_type": "stream",
     "text": [
      "Iteration: 100%|██████████| 1004/1004 [00:23<00:00, 43.06it/s]\n",
      "Iteration:  28%|██▊       | 280/1004 [00:05<00:14, 49.89it/s]"
     ]
    },
    {
     "name": "stdout",
     "output_type": "stream",
     "text": [
      "Evaluating...\n"
     ]
    },
    {
     "name": "stderr",
     "output_type": "stream",
     "text": [
      "Iteration:  98%|█████████▊| 983/1004 [00:19<00:00, 66.01it/s]]\n",
      "Iteration:   5%|▌         | 6/112 [00:00<00:01, 55.83it/s]/s]\n",
      "Iteration: 100%|██████████| 112/112 [00:01<00:00, 58.04it/s]s]\n",
      "Iteration:   0%|          | 4/1004 [00:00<00:27, 36.83it/s]"
     ]
    },
    {
     "name": "stdout",
     "output_type": "stream",
     "text": [
      "{'Train':  best_epoch_indx:27\n",
      " auc:0.8146412716853046 \n",
      " apur:0.19009015678082003 \n",
      " f1:0.22204795979290495 \n",
      " precision:0.1292440792954284 \n",
      " recall:0.7875474083438685 \n",
      ", 'Validation':  best_epoch_indx:27\n",
      " auc:0.8028170850312222 \n",
      " apur:0.18568439623989866 \n",
      " f1:0.22066859530697527 \n",
      " precision:0.12848586936178177 \n",
      " recall:0.7810011376564278 \n",
      "}\n",
      "=====Epoch 28\n",
      "Training...\n"
     ]
    },
    {
     "name": "stderr",
     "output_type": "stream",
     "text": [
      "Iteration:   1%|▏         | 14/1004 [00:00<00:24, 40.61it/s]\n",
      "Iteration:   2%|▏         | 24/1004 [00:00<00:23, 42.02it/s]\n",
      "Iteration:   0%|          | 0/1004 [00:00<?, ?it/s]"
     ]
    },
    {
     "name": "stdout",
     "output_type": "stream",
     "text": [
      "{'Train':  best_epoch_indx:27\n",
      " auc:0.8146242620152377 \n",
      " apur:0.1929485786427622 \n",
      " f1:0.22119057724957555 \n",
      " precision:0.12858288440185878 \n",
      " recall:0.7905815423514538 \n",
      ", 'Validation':  best_epoch_indx:27\n",
      " auc:0.7992630571898285 \n",
      " apur:0.1802374171344445 \n",
      " f1:0.2164357381748686 \n",
      " precision:0.12583333333333332 \n",
      " recall:0.773037542662116 \n",
      "}\n",
      "=====Epoch 28\n",
      "Training...\n"
     ]
    },
    {
     "name": "stderr",
     "output_type": "stream",
     "text": [
      "Iteration:  29%|██▉       | 33/112 [00:00<00:01, 54.28it/s]]\n",
      "Iteration:  11%|█         | 109/1004 [00:02<00:20, 44.00it/s]\n",
      "Iteration:  13%|█▎        | 134/1004 [00:03<00:19, 44.22it/s]\n",
      "Iteration:  27%|██▋       | 30/112 [00:00<00:01, 51.50it/s]"
     ]
    },
    {
     "name": "stdout",
     "output_type": "stream",
     "text": [
      "{'Train':  best_epoch_indx:27\n",
      " auc:0.8166361170790275 \n",
      " apur:0.19323523959909658 \n",
      " f1:0.21674074576731248 \n",
      " precision:0.12516532285717086 \n",
      " recall:0.8076363866236804 \n",
      ", 'Validation':  best_epoch_indx:27\n",
      " auc:0.8031426744910783 \n",
      " apur:0.18079973076877798 \n",
      " f1:0.2156230816451811 \n",
      " precision:0.12462302643249956 \n",
      " recall:0.7992036405005688 \n",
      "}\n",
      "=====Epoch 28\n",
      "Training...\n"
     ]
    },
    {
     "name": "stderr",
     "output_type": "stream",
     "text": [
      "Iteration:  13%|█▎        | 134/1004 [00:03<00:19, 45.21it/s]\n",
      "Iteration:  16%|█▋        | 164/1004 [00:03<00:18, 44.63it/s]"
     ]
    },
    {
     "name": "stdout",
     "output_type": "stream",
     "text": [
      "{'Train':  best_epoch_indx:27\n",
      " auc:0.8164752012284866 \n",
      " apur:0.19337825652650292 \n",
      " f1:0.22222023500795882 \n",
      " precision:0.12941764662993324 \n",
      " recall:0.7854478791326885 \n",
      ", 'Validation':  best_epoch_indx:27\n",
      " auc:0.8020200113112436 \n",
      " apur:0.17782486662993194 \n",
      " f1:0.21611222444889777 \n",
      " precision:0.12578146869459736 \n",
      " recall:0.7667804323094426 \n",
      "}\n",
      "=====Epoch 28\n",
      "Training...\n"
     ]
    },
    {
     "name": "stderr",
     "output_type": "stream",
     "text": [
      "Iteration:   9%|▉         | 93/1004 [00:02<00:20, 44.36it/s]]\n",
      "Iteration:   0%|          | 3/1004 [00:00<00:33, 29.61it/s]]]"
     ]
    },
    {
     "name": "stdout",
     "output_type": "stream",
     "text": [
      "{'Train':  best_epoch_indx:27\n",
      " auc:0.8172027805476609 \n",
      " apur:0.19578151309981387 \n",
      " f1:0.2230632634392208 \n",
      " precision:0.129972199577768 \n",
      " recall:0.7860935524652339 \n",
      ", 'Validation':  best_epoch_indx:27\n",
      " auc:0.8017576160136431 \n",
      " apur:0.18178930172697433 \n",
      " f1:0.2167662736230011 \n",
      " precision:0.12631777108433734 \n",
      " recall:0.7633674630261661 \n",
      "}\n",
      "=====Epoch 28\n",
      "Training...\n"
     ]
    },
    {
     "name": "stderr",
     "output_type": "stream",
     "text": [
      "Iteration: 100%|██████████| 1004/1004 [00:22<00:00, 43.76it/s]\n",
      "Iteration:   0%|          | 0/1004 [00:00<?, ?it/s]"
     ]
    },
    {
     "name": "stdout",
     "output_type": "stream",
     "text": [
      "Evaluating...\n"
     ]
    },
    {
     "name": "stderr",
     "output_type": "stream",
     "text": [
      "Iteration: 100%|██████████| 1004/1004 [00:22<00:00, 44.10it/s]\n",
      "Iteration:   0%|          | 0/1004 [00:00<?, ?it/s]"
     ]
    },
    {
     "name": "stdout",
     "output_type": "stream",
     "text": [
      "Evaluating...\n"
     ]
    },
    {
     "name": "stderr",
     "output_type": "stream",
     "text": [
      "Iteration: 100%|██████████| 1004/1004 [00:22<00:00, 43.78it/s]\n",
      "Iteration:  13%|█▎        | 134/1004 [00:02<00:20, 41.83it/s]"
     ]
    },
    {
     "name": "stdout",
     "output_type": "stream",
     "text": [
      "Evaluating...\n"
     ]
    },
    {
     "name": "stderr",
     "output_type": "stream",
     "text": [
      "Iteration: 100%|██████████| 1004/1004 [00:23<00:00, 43.60it/s]\n",
      "Iteration:   0%|          | 5/1004 [00:00<00:21, 46.61it/s]s]"
     ]
    },
    {
     "name": "stdout",
     "output_type": "stream",
     "text": [
      "Evaluating...\n"
     ]
    },
    {
     "name": "stderr",
     "output_type": "stream",
     "text": [
      "Iteration: 100%|██████████| 1004/1004 [00:23<00:00, 43.46it/s]\n",
      "Iteration:  12%|█▏        | 118/1004 [00:02<00:18, 47.29it/s]"
     ]
    },
    {
     "name": "stdout",
     "output_type": "stream",
     "text": [
      "Evaluating...\n"
     ]
    },
    {
     "name": "stderr",
     "output_type": "stream",
     "text": [
      "Iteration:  87%|████████▋ | 874/1004 [00:18<00:02, 47.19it/s]]\n",
      "Iteration:  26%|██▌       | 29/112 [00:00<00:01, 70.19it/s]s]]\n",
      "Iteration: 100%|██████████| 112/112 [00:01<00:00, 63.10it/s]s]\n",
      "Iteration:   0%|          | 0/112 [00:00<?, ?it/s]\n",
      "Iteration:   0%|          | 4/1004 [00:00<00:27, 35.80it/s]"
     ]
    },
    {
     "name": "stdout",
     "output_type": "stream",
     "text": [
      "{'Train':  best_epoch_indx:28\n",
      " auc:0.8178220637017024 \n",
      " apur:0.19507458657134435 \n",
      " f1:0.2194528350737896 \n",
      " precision:0.12707646176911544 \n",
      " recall:0.8036662452591656 \n",
      ", 'Validation':  best_epoch_indx:28\n",
      " auc:0.8059547204989409 \n",
      " apur:0.1900311086218372 \n",
      " f1:0.21834333359308036 \n",
      " precision:0.12650112866817156 \n",
      " recall:0.7969283276450512 \n",
      "}\n",
      "=====Epoch 29\n",
      "Training...\n"
     ]
    },
    {
     "name": "stderr",
     "output_type": "stream",
     "text": [
      "Iteration:  21%|██        | 23/112 [00:00<00:01, 70.63it/s]\n",
      "Iteration:   1%|▏         | 14/1004 [00:00<00:24, 40.62it/s]\n",
      "Iteration:  34%|███▍      | 38/112 [00:00<00:01, 56.61it/s]]"
     ]
    },
    {
     "name": "stdout",
     "output_type": "stream",
     "text": [
      "{'Train':  best_epoch_indx:28\n",
      " auc:0.8204812886538717 \n",
      " apur:0.1984465117763817 \n",
      " f1:0.22423276707987866 \n",
      " precision:0.13073555809827736 \n",
      " recall:0.7872313527180784 \n",
      ", 'Validation':  best_epoch_indx:28\n",
      " auc:0.8058956627144788 \n",
      " apur:0.1834551044699805 \n",
      " f1:0.21723998381222176 \n",
      " precision:0.1266396149853732 \n",
      " recall:0.7633674630261661 \n",
      "}\n",
      "=====Epoch 29\n",
      "Training...\n"
     ]
    },
    {
     "name": "stderr",
     "output_type": "stream",
     "text": [
      "Iteration:   9%|▉         | 89/1004 [00:02<00:20, 45.42it/s]]\n",
      "Iteration:  12%|█▏        | 119/1004 [00:02<00:19, 44.99it/s]\n",
      "Iteration:  19%|█▉        | 21/112 [00:00<00:01, 63.20it/s]s]"
     ]
    },
    {
     "name": "stdout",
     "output_type": "stream",
     "text": [
      "{'Train':  best_epoch_indx:28\n",
      " auc:0.821020860723151 \n",
      " apur:0.19883018491562052 \n",
      " f1:0.2189423579066323 \n",
      " precision:0.1266190042381273 \n",
      " recall:0.8083317529553069 \n",
      ", 'Validation':  best_epoch_indx:28\n",
      " auc:0.8045862613683992 \n",
      " apur:0.18251086169143005 \n",
      " f1:0.21188271604938272 \n",
      " precision:0.12256739867880735 \n",
      " recall:0.7810011376564278 \n",
      "}\n",
      "=====Epoch 29\n",
      "Training...\n",
      "{'Train':  best_epoch_indx:28\n",
      " auc:0.8199029323435528 \n",
      " apur:0.1996822143361565 \n",
      " f1:0.22152109516047044 \n",
      " precision:0.12858785344362708 \n",
      " recall:0.7989126999178203 \n",
      ", 'Validation':  best_epoch_indx:28\n",
      " auc:0.8061862499839391 \n",
      " apur:0.18864924651148798 \n",
      " f1:0.21878960709759188 \n",
      " precision:0.1270936867292472 \n",
      " recall:0.785551763367463 \n",
      "}\n",
      "=====Epoch 29\n",
      "Training...\n"
     ]
    },
    {
     "name": "stderr",
     "output_type": "stream",
     "text": [
      "Iteration:  25%|██▌       | 28/112 [00:00<00:01, 58.11it/s]s]\n",
      "Iteration:  12%|█▏        | 123/1004 [00:02<00:19, 44.55it/s]\n",
      "Iteration:  13%|█▎        | 128/1004 [00:02<00:19, 44.64it/s]"
     ]
    },
    {
     "name": "stdout",
     "output_type": "stream",
     "text": [
      "{'Train':  best_epoch_indx:28\n",
      " auc:0.8212837429563854 \n",
      " apur:0.20083935884894327 \n",
      " f1:0.21818989526201582 \n",
      " precision:0.12614339056048363 \n",
      " recall:0.8072060682680152 \n",
      ", 'Validation':  best_epoch_indx:28\n",
      " auc:0.8043061989821317 \n",
      " apur:0.1860215781342932 \n",
      " f1:0.21355172680213244 \n",
      " precision:0.12355833705856058 \n",
      " recall:0.7861205915813424 \n",
      "}\n",
      "=====Epoch 29\n",
      "Training...\n"
     ]
    },
    {
     "name": "stderr",
     "output_type": "stream",
     "text": [
      "Iteration: 100%|██████████| 1004/1004 [00:23<00:00, 43.57it/s]\n",
      "Iteration:   0%|          | 0/1004 [00:00<?, ?it/s]"
     ]
    },
    {
     "name": "stdout",
     "output_type": "stream",
     "text": [
      "Evaluating...\n"
     ]
    },
    {
     "name": "stderr",
     "output_type": "stream",
     "text": [
      "Iteration: 100%|██████████| 1004/1004 [00:22<00:00, 43.77it/s]\n",
      "Iteration:   2%|▏         | 22/1004 [00:00<00:19, 49.50it/s]]"
     ]
    },
    {
     "name": "stdout",
     "output_type": "stream",
     "text": [
      "Evaluating...\n"
     ]
    },
    {
     "name": "stderr",
     "output_type": "stream",
     "text": [
      "Iteration: 100%|██████████| 1004/1004 [00:23<00:00, 43.41it/s]\n",
      "Iteration:   0%|          | 4/1004 [00:00<00:25, 39.23it/s]s]"
     ]
    },
    {
     "name": "stdout",
     "output_type": "stream",
     "text": [
      "Evaluating...\n",
      "Evaluating...\n"
     ]
    },
    {
     "name": "stderr",
     "output_type": "stream",
     "text": [
      "Iteration: 100%|██████████| 1004/1004 [00:23<00:00, 43.54it/s]\n",
      "Iteration: 100%|██████████| 1004/1004 [00:23<00:00, 43.22it/s]\n",
      "Iteration:   0%|          | 0/1004 [00:00<?, ?it/s]"
     ]
    },
    {
     "name": "stdout",
     "output_type": "stream",
     "text": [
      "Evaluating...\n"
     ]
    },
    {
     "name": "stderr",
     "output_type": "stream",
     "text": [
      "Iteration:  91%|█████████ | 916/1004 [00:18<00:01, 76.27it/s]]\n",
      "Iteration:  92%|█████████▏| 924/1004 [00:18<00:01, 74.60it/s]\n",
      "Iteration: 100%|██████████| 112/112 [00:01<00:00, 62.32it/s]s]\n",
      "Iteration:   0%|          | 0/1004 [00:00<?, ?it/s]\n",
      "Iteration:   0%|          | 4/1004 [00:00<00:28, 35.64it/s]"
     ]
    },
    {
     "name": "stdout",
     "output_type": "stream",
     "text": [
      "{'Train':  best_epoch_indx:29\n",
      " auc:0.8217608660705216 \n",
      " apur:0.20015298608510323 \n",
      " f1:0.22239743488659358 \n",
      " precision:0.12908967018214731 \n",
      " recall:0.8023388116308471 \n",
      ", 'Validation':  best_epoch_indx:29\n",
      " auc:0.8062600587555866 \n",
      " apur:0.18892201234853293 \n",
      " f1:0.21928582664778984 \n",
      " precision:0.12723621759766338 \n",
      " recall:0.7929465301478953 \n",
      "}\n",
      "=====Epoch 30\n",
      "Training...\n"
     ]
    },
    {
     "name": "stderr",
     "output_type": "stream",
     "text": [
      "Iteration:   1%|          | 9/1004 [00:00<00:25, 39.47it/s]\n",
      "Iteration:   3%|▎         | 29/1004 [00:00<00:23, 42.34it/s]\n",
      "Iteration:   0%|          | 4/1004 [00:00<00:28, 34.53it/s]]"
     ]
    },
    {
     "name": "stdout",
     "output_type": "stream",
     "text": [
      "{'Train':  best_epoch_indx:29\n",
      " auc:0.8237890700536145 \n",
      " apur:0.20363191443561188 \n",
      " f1:0.2250724482129441 \n",
      " precision:0.13108434739123187 \n",
      " recall:0.795322376738306 \n",
      ", 'Validation':  best_epoch_indx:29\n",
      " auc:0.8076941256831484 \n",
      " apur:0.18425931728254086 \n",
      " f1:0.2190652998627815 \n",
      " precision:0.12764556485749223 \n",
      " recall:0.7718998862343572 \n",
      "}\n",
      "=====Epoch 30\n",
      "Training...\n"
     ]
    },
    {
     "name": "stderr",
     "output_type": "stream",
     "text": [
      "Iteration:  10%|▉         | 99/1004 [00:02<00:20, 45.17it/s]\n",
      "Iteration:  13%|█▎        | 134/1004 [00:03<00:20, 42.93it/s]\n",
      "Iteration:  14%|█▍        | 144/1004 [00:03<00:19, 43.25it/s]"
     ]
    },
    {
     "name": "stdout",
     "output_type": "stream",
     "text": [
      "{'Train':  best_epoch_indx:29\n",
      " auc:0.8238224420267264 \n",
      " apur:0.20441787081194002 \n",
      " f1:0.2265709384331914 \n",
      " precision:0.1322784407656273 \n",
      " recall:0.7889879259118782 \n",
      ", 'Validation':  best_epoch_indx:29\n",
      " auc:0.8063675597151185 \n",
      " apur:0.18720105531758208 \n",
      " f1:0.2199200587323599 \n",
      " precision:0.12836872678792496 \n",
      " recall:0.7667804323094426 \n",
      "}\n",
      "=====Epoch 30\n",
      "Training...\n"
     ]
    },
    {
     "name": "stderr",
     "output_type": "stream",
     "text": [
      "Iteration:  12%|█▏        | 124/1004 [00:02<00:19, 44.35it/s]\n",
      "Iteration:  16%|█▋        | 164/1004 [00:03<00:19, 43.13it/s]"
     ]
    },
    {
     "name": "stdout",
     "output_type": "stream",
     "text": [
      "{'Train':  best_epoch_indx:29\n",
      " auc:0.8230118660283932 \n",
      " apur:0.2064103293277632 \n",
      " f1:0.22243484519974366 \n",
      " precision:0.12915129151291513 \n",
      " recall:0.800935583791643 \n",
      ", 'Validation':  best_epoch_indx:29\n",
      " auc:0.8075589531637134 \n",
      " apur:0.18926986973819399 \n",
      " f1:0.218973462577467 \n",
      " precision:0.12726265238271148 \n",
      " recall:0.7838452787258248 \n",
      "}\n",
      "=====Epoch 30\n",
      "Training...\n"
     ]
    },
    {
     "name": "stderr",
     "output_type": "stream",
     "text": [
      "Iteration:   8%|▊         | 84/1004 [00:01<00:20, 43.94it/s]]\n",
      "Iteration:   9%|▉         | 94/1004 [00:02<00:20, 43.66it/s]]"
     ]
    },
    {
     "name": "stdout",
     "output_type": "stream",
     "text": [
      "{'Train':  best_epoch_indx:29\n",
      " auc:0.824017911396436 \n",
      " apur:0.2048023725216911 \n",
      " f1:0.22131190496986636 \n",
      " precision:0.12839768926725448 \n",
      " recall:0.8008217446270544 \n",
      ", 'Validation':  best_epoch_indx:29\n",
      " auc:0.805946106783796 \n",
      " apur:0.1869862731879558 \n",
      " f1:0.21658366927515613 \n",
      " precision:0.12576884237583769 \n",
      " recall:0.7792946530147895 \n",
      "}\n",
      "=====Epoch 30\n",
      "Training...\n"
     ]
    },
    {
     "name": "stderr",
     "output_type": "stream",
     "text": [
      "Iteration: 100%|██████████| 1004/1004 [00:23<00:00, 43.46it/s]\n",
      "Iteration:   0%|          | 0/1004 [00:00<?, ?it/s]"
     ]
    },
    {
     "name": "stdout",
     "output_type": "stream",
     "text": [
      "Evaluating...\n"
     ]
    },
    {
     "name": "stderr",
     "output_type": "stream",
     "text": [
      "Iteration: 100%|██████████| 1004/1004 [00:22<00:00, 43.70it/s]\n",
      "Iteration:  90%|████████▉ | 899/1004 [00:20<00:02, 43.65it/s]"
     ]
    },
    {
     "name": "stdout",
     "output_type": "stream",
     "text": [
      "Evaluating...\n"
     ]
    },
    {
     "name": "stderr",
     "output_type": "stream",
     "text": [
      "Iteration: 100%|██████████| 1004/1004 [00:23<00:00, 43.16it/s]\n",
      "Iteration:  16%|█▌        | 161/1004 [00:03<00:17, 47.60it/s]"
     ]
    },
    {
     "name": "stdout",
     "output_type": "stream",
     "text": [
      "Evaluating...\n"
     ]
    },
    {
     "name": "stderr",
     "output_type": "stream",
     "text": [
      "Iteration: 100%|██████████| 1004/1004 [00:23<00:00, 43.12it/s]\n",
      "Iteration:  17%|█▋        | 166/1004 [00:03<00:17, 48.39it/s]"
     ]
    },
    {
     "name": "stdout",
     "output_type": "stream",
     "text": [
      "Evaluating...\n"
     ]
    },
    {
     "name": "stderr",
     "output_type": "stream",
     "text": [
      "Iteration: 100%|██████████| 1004/1004 [00:23<00:00, 42.93it/s]\n",
      "Iteration:  13%|█▎        | 131/1004 [00:02<00:17, 49.51it/s]"
     ]
    },
    {
     "name": "stdout",
     "output_type": "stream",
     "text": [
      "Evaluating...\n"
     ]
    },
    {
     "name": "stderr",
     "output_type": "stream",
     "text": [
      "Iteration: 100%|█████████▉| 1001/1004 [00:21<00:00, 62.45it/s]\n",
      "Iteration:  92%|█████████▏| 920/1004 [00:19<00:01, 67.88it/s]]\n",
      "Iteration: 100%|██████████| 112/112 [00:01<00:00, 62.18it/s]s]"
     ]
    },
    {
     "name": "stdout",
     "output_type": "stream",
     "text": [
      "{'Train':  best_epoch_indx:30\n",
      " auc:0.8215253311479673 \n",
      " apur:0.1999522381053389 \n",
      " f1:0.22410983786093971 \n",
      " precision:0.13042667191758817 \n",
      " recall:0.79551201011378 \n",
      ", 'Validation':  best_epoch_indx:30\n",
      " auc:0.8071728254371047 \n",
      " apur:0.18933680034722378 \n",
      " f1:0.22093862815884474 \n",
      " precision:0.1286074530680863 \n",
      " recall:0.7832764505119454 \n",
      "}\n",
      "=====Epoch 31\n",
      "Training...\n"
     ]
    },
    {
     "name": "stderr",
     "output_type": "stream",
     "text": [
      "\n",
      "\r",
      "Iteration:   0%|          | 0/1004 [00:00<?, ?it/s]\r",
      "Iteration:   0%|          | 4/1004 [00:00<00:28, 35.23it/s]"
     ]
    },
    {
     "name": "stdout",
     "output_type": "stream",
     "text": [
      "{'Train':  best_epoch_indx:30\n",
      " auc:0.8234066627439688 \n",
      " apur:0.20277412468876804 \n",
      " f1:0.22188830018240255 \n",
      " precision:0.12861746047729333 \n",
      " recall:0.8073957016434893 \n",
      ", 'Validation':  best_epoch_indx:30\n",
      " auc:0.8075605592626831 \n",
      " apur:0.18318763910209626 \n",
      " f1:0.21456059059137675 \n",
      " precision:0.12446469248291572 \n",
      " recall:0.7770193401592719 \n",
      "}\n",
      "=====Epoch 31\n",
      "Training...\n"
     ]
    },
    {
     "name": "stderr",
     "output_type": "stream",
     "text": [
      "\n",
      "Iteration:   1%|▏         | 14/1004 [00:00<00:24, 41.20it/s]\n",
      "Iteration:   3%|▎         | 34/1004 [00:00<00:22, 42.86it/s]\n",
      "Iteration:  11%|█         | 109/1004 [00:02<00:19, 45.25it/s]\n",
      "Iteration:  92%|█████████▏| 103/112 [00:02<00:00, 46.35it/s]]\n",
      "Iteration:  96%|█████████▋| 108/112 [00:02<00:00, 46.16it/s]]"
     ]
    },
    {
     "name": "stdout",
     "output_type": "stream",
     "text": [
      "{'Train':  best_epoch_indx:30\n",
      " auc:0.8223405324382053 \n",
      " apur:0.20290623016697162 \n",
      " f1:0.22392495255827274 \n",
      " precision:0.13043160891373035 \n",
      " recall:0.7906947341804159 \n",
      ", 'Validation':  best_epoch_indx:30\n",
      " auc:0.8044670870303219 \n",
      " apur:0.18724369779217154 \n",
      " f1:0.21806149624727625 \n",
      " precision:0.12705727452271232 \n",
      " recall:0.7684869169510807 \n",
      "}\n",
      "=====Epoch 31\n",
      "Training...\n"
     ]
    },
    {
     "name": "stderr",
     "output_type": "stream",
     "text": [
      "Iteration:  15%|█▌        | 154/1004 [00:03<00:19, 42.85it/s]\n",
      "Iteration:  16%|█▌        | 159/1004 [00:03<00:20, 42.07it/s]"
     ]
    },
    {
     "name": "stdout",
     "output_type": "stream",
     "text": [
      "{'Train':  best_epoch_indx:30\n",
      " auc:0.8232343826960996 \n",
      " apur:0.20317877966390097 \n",
      " f1:0.21943412697054243 \n",
      " precision:0.1268967701703505 \n",
      " recall:0.8104178519501865 \n",
      ", 'Validation':  best_epoch_indx:30\n",
      " auc:0.8059572776956245 \n",
      " apur:0.1867826197871925 \n",
      " f1:0.21603271352519096 \n",
      " precision:0.12496652682317236 \n",
      " recall:0.7963594994311718 \n",
      "}\n",
      "=====Epoch 31\n",
      "Training...\n"
     ]
    },
    {
     "name": "stderr",
     "output_type": "stream",
     "text": [
      "Iteration:  11%|█▏        | 114/1004 [00:02<00:20, 43.76it/s]\n",
      "Iteration:  12%|█▏        | 119/1004 [00:02<00:20, 42.80it/s]"
     ]
    },
    {
     "name": "stdout",
     "output_type": "stream",
     "text": [
      "{'Train':  best_epoch_indx:30\n",
      " auc:0.8235446770478658 \n",
      " apur:0.20542784919575138 \n",
      " f1:0.2244270991480165 \n",
      " precision:0.13067579091873452 \n",
      " recall:0.7942477876106194 \n",
      ", 'Validation':  best_epoch_indx:30\n",
      " auc:0.8043330181431401 \n",
      " apur:0.18801031138822633 \n",
      " f1:0.2182140268942749 \n",
      " precision:0.1270987712222118 \n",
      " recall:0.7707622298065984 \n",
      "}\n",
      "=====Epoch 31\n",
      "Training...\n"
     ]
    },
    {
     "name": "stderr",
     "output_type": "stream",
     "text": [
      "Iteration: 100%|██████████| 1004/1004 [00:23<00:00, 42.35it/s]\n",
      "Iteration: 100%|██████████| 1004/1004 [00:23<00:00, 42.65it/s]\n",
      "Iteration:  74%|███████▍  | 745/1004 [00:17<00:06, 41.05it/s]"
     ]
    },
    {
     "name": "stdout",
     "output_type": "stream",
     "text": [
      "Evaluating...\n",
      "Evaluating...\n"
     ]
    },
    {
     "name": "stderr",
     "output_type": "stream",
     "text": [
      "Iteration: 100%|██████████| 1004/1004 [00:23<00:00, 42.23it/s]\n",
      "Iteration:  88%|████████▊ | 884/1004 [00:21<00:02, 40.95it/s]"
     ]
    },
    {
     "name": "stdout",
     "output_type": "stream",
     "text": [
      "Evaluating...\n"
     ]
    },
    {
     "name": "stderr",
     "output_type": "stream",
     "text": [
      "Iteration: 100%|██████████| 1004/1004 [00:23<00:00, 41.89it/s]\n",
      "Iteration:   0%|          | 0/1004 [00:00<?, ?it/s]"
     ]
    },
    {
     "name": "stdout",
     "output_type": "stream",
     "text": [
      "Evaluating...\n"
     ]
    },
    {
     "name": "stderr",
     "output_type": "stream",
     "text": [
      "Iteration: 100%|██████████| 1004/1004 [00:24<00:00, 41.64it/s]\n",
      "Iteration:   0%|          | 0/1004 [00:00<?, ?it/s]"
     ]
    },
    {
     "name": "stdout",
     "output_type": "stream",
     "text": [
      "Evaluating...\n"
     ]
    },
    {
     "name": "stderr",
     "output_type": "stream",
     "text": [
      "Iteration:  97%|█████████▋| 974/1004 [00:22<00:00, 55.24it/s]]\n",
      "Iteration:  12%|█▎        | 14/112 [00:00<00:01, 59.87it/s]s]\n",
      "Iteration: 100%|██████████| 1004/1004 [00:22<00:00, 43.89it/s]\n",
      "Iteration:   0%|          | 4/1004 [00:00<00:27, 36.99it/s]"
     ]
    },
    {
     "name": "stdout",
     "output_type": "stream",
     "text": [
      "{'Train':  best_epoch_indx:31\n",
      " auc:0.8236067917919376 \n",
      " apur:0.20393373042707366 \n",
      " f1:0.22371590506553313 \n",
      " precision:0.1300823892893924 \n",
      " recall:0.7984197218710493 \n",
      ", 'Validation':  best_epoch_indx:31\n",
      " auc:0.8052564084066701 \n",
      " apur:0.18341198496582709 \n",
      " f1:0.21547049441786284 \n",
      " precision:0.12530142830643665 \n",
      " recall:0.7684869169510807 \n",
      "}\n",
      "=====Epoch 32\n",
      "Training...\n"
     ]
    },
    {
     "name": "stderr",
     "output_type": "stream",
     "text": [
      "\r",
      "Iteration:   1%|          | 9/1004 [00:00<00:25, 39.79it/s]\n",
      "\r",
      "Iteration:   0%|          | 0/1004 [00:00<?, ?it/s]\r",
      "Iteration:   1%|▏         | 14/1004 [00:00<00:24, 40.54it/s]\r",
      "Iteration:   0%|          | 4/1004 [00:00<00:27, 36.10it/s]\n",
      "\r",
      "Iteration:   0%|          | 0/112 [00:00<?, ?it/s]"
     ]
    },
    {
     "name": "stdout",
     "output_type": "stream",
     "text": [
      "{'Train':  best_epoch_indx:31\n",
      " auc:0.8204470215877264 \n",
      " apur:0.19542906916318553 \n",
      " f1:0.22247565575927714 \n",
      " precision:0.12916369563002955 \n",
      " recall:0.8015170670037927 \n",
      ", 'Validation':  best_epoch_indx:31\n",
      " auc:0.8050987863921389 \n",
      " apur:0.1823506350480933 \n",
      " f1:0.21976459435974405 \n",
      " precision:0.1276029722043849 \n",
      " recall:0.7912400455062572 \n",
      "}\n",
      "=====Epoch 32\n",
      "Training...\n"
     ]
    },
    {
     "name": "stderr",
     "output_type": "stream",
     "text": [
      "Iteration:   5%|▌         | 54/1004 [00:01<00:22, 42.81it/s]\n",
      "Iteration:  12%|█▏        | 119/1004 [00:02<00:19, 44.75it/s]\n",
      "Iteration:  99%|█████████▉| 111/112 [00:02<00:00, 48.03it/s]]\n",
      "Iteration:  44%|████▍     | 49/112 [00:01<00:01, 46.01it/s]s]"
     ]
    },
    {
     "name": "stdout",
     "output_type": "stream",
     "text": [
      "{'Train':  best_epoch_indx:31\n",
      " auc:0.8221018656406145 \n",
      " apur:0.20010506805958628 \n",
      " f1:0.220011189051943 \n",
      " precision:0.12734392124823146 \n",
      " recall:0.8079524622289652 \n",
      ", 'Validation':  best_epoch_indx:31\n",
      " auc:0.8058124147466516 \n",
      " apur:0.18754154570983222 \n",
      " f1:0.21493370551290997 \n",
      " precision:0.12442768650686777 \n",
      " recall:0.78839590443686 \n",
      "}\n",
      "=====Epoch 32\n",
      "Training...\n"
     ]
    },
    {
     "name": "stderr",
     "output_type": "stream",
     "text": [
      "Iteration:  54%|█████▎    | 60/112 [00:01<00:01, 45.87it/s]s]\n",
      "Iteration:  18%|█▊        | 184/1004 [00:04<00:19, 43.06it/s]"
     ]
    },
    {
     "name": "stdout",
     "output_type": "stream",
     "text": [
      "{'Train':  best_epoch_indx:31\n",
      " auc:0.8206144459243568 \n",
      " apur:0.20161704219649612 \n",
      " f1:0.21916169711053776 \n",
      " precision:0.12670532565422268 \n",
      " recall:0.8107971426765282 \n",
      ", 'Validation':  best_epoch_indx:31\n",
      " auc:0.8032249803338117 \n",
      " apur:0.18618269764888234 \n",
      " f1:0.21513203748160767 \n",
      " precision:0.12451815329448677 \n",
      " recall:0.7901023890784983 \n",
      "}\n",
      "=====Epoch 32\n",
      "Training...\n"
     ]
    },
    {
     "name": "stderr",
     "output_type": "stream",
     "text": [
      "Iteration:   9%|▉         | 89/1004 [00:02<00:20, 43.72it/s]]\n",
      "Iteration:   0%|          | 0/1004 [00:00<?, ?it/s]"
     ]
    },
    {
     "name": "stdout",
     "output_type": "stream",
     "text": [
      "{'Train':  best_epoch_indx:31\n",
      " auc:0.8210527709462067 \n",
      " apur:0.2014389459398006 \n",
      " f1:0.22219686663448457 \n",
      " precision:0.12901187382153595 \n",
      " recall:0.800126422250316 \n",
      ", 'Validation':  best_epoch_indx:31\n",
      " auc:0.8061145587505979 \n",
      " apur:0.18798376175657722 \n",
      " f1:0.21675731063293135 \n",
      " precision:0.1258120596577912 \n",
      " recall:0.7821387940841866 \n",
      "}\n",
      "=====Epoch 32\n",
      "Training...\n"
     ]
    },
    {
     "name": "stderr",
     "output_type": "stream",
     "text": [
      "Iteration:  71%|███████▏  | 716/1004 [00:17<00:06, 41.75it/s]]\n",
      "Iteration:  99%|█████████▊| 989/1004 [00:23<00:00, 41.24it/s]"
     ]
    },
    {
     "name": "stdout",
     "output_type": "stream",
     "text": [
      "Evaluating...\n"
     ]
    },
    {
     "name": "stderr",
     "output_type": "stream",
     "text": [
      "Iteration: 100%|██████████| 1004/1004 [00:24<00:00, 41.47it/s]\n",
      "Iteration:  85%|████████▍ | 849/1004 [00:20<00:03, 40.73it/s]"
     ]
    },
    {
     "name": "stdout",
     "output_type": "stream",
     "text": [
      "Evaluating...\n"
     ]
    },
    {
     "name": "stderr",
     "output_type": "stream",
     "text": [
      "Iteration: 100%|██████████| 1004/1004 [00:24<00:00, 41.63it/s]\n",
      "Iteration: 100%|██████████| 1004/1004 [00:24<00:00, 40.86it/s]\n",
      "Iteration:  89%|████████▉ | 896/1004 [00:22<00:02, 41.11it/s]"
     ]
    },
    {
     "name": "stdout",
     "output_type": "stream",
     "text": [
      "Evaluating...\n",
      "Evaluating...\n"
     ]
    },
    {
     "name": "stderr",
     "output_type": "stream",
     "text": [
      "Iteration: 100%|██████████| 1004/1004 [00:24<00:00, 40.59it/s]\n",
      "Iteration:   0%|          | 4/1004 [00:00<00:26, 38.10it/s]s]"
     ]
    },
    {
     "name": "stdout",
     "output_type": "stream",
     "text": [
      "Evaluating...\n"
     ]
    },
    {
     "name": "stderr",
     "output_type": "stream",
     "text": [
      "Iteration:  86%|████████▌ | 861/1004 [00:19<00:02, 56.68it/s]]\n",
      "Iteration:   6%|▋         | 7/112 [00:00<00:01, 64.69it/s]t/s]\n",
      "Iteration: 100%|██████████| 1004/1004 [00:22<00:00, 44.97it/s]\n",
      "Iteration:   0%|          | 0/1004 [00:00<?, ?it/s]"
     ]
    },
    {
     "name": "stdout",
     "output_type": "stream",
     "text": [
      "{'Train':  best_epoch_indx:32\n",
      " auc:0.8187822109457894 \n",
      " apur:0.19830696979484572 \n",
      " f1:0.217101737732527 \n",
      " precision:0.12542875957030675 \n",
      " recall:0.806700379266751 \n",
      ", 'Validation':  best_epoch_indx:32\n",
      " auc:0.8062658550680695 \n",
      " apur:0.18181083326141134 \n",
      " f1:0.21311099212116574 \n",
      " precision:0.12311091471498012 \n",
      " recall:0.7923777019340159 \n",
      "}\n",
      "=====Epoch 33\n",
      "Training...\n"
     ]
    },
    {
     "name": "stderr",
     "output_type": "stream",
     "text": [
      "\r",
      "Iteration:   0%|          | 4/1004 [00:00<00:28, 35.22it/s]\r",
      "Iteration:   1%|          | 9/1004 [00:00<00:25, 39.16it/s]\n",
      "\r",
      "Iteration:   0%|          | 0/1004 [00:00<?, ?it/s]"
     ]
    },
    {
     "name": "stdout",
     "output_type": "stream",
     "text": [
      "{'Train':  best_epoch_indx:32\n",
      " auc:0.818417199187113 \n",
      " apur:0.19628736929601268 \n",
      " f1:0.2180324776651748 \n",
      " precision:0.12612335588311147 \n",
      " recall:0.8037294563843237 \n",
      ", 'Validation':  best_epoch_indx:32\n",
      " auc:0.8042016320693208 \n",
      " apur:0.18810253110441552 \n",
      " f1:0.21474853440296204 \n",
      " precision:0.12421916830269498 \n",
      " recall:0.7918088737201365 \n",
      "}\n",
      "=====Epoch 33\n",
      "Training...\n"
     ]
    },
    {
     "name": "stderr",
     "output_type": "stream",
     "text": [
      "Iteration:   2%|▏         | 19/1004 [00:00<00:23, 41.41it/s]\n",
      "Iteration:   6%|▌         | 59/1004 [00:01<00:21, 43.38it/s]\n",
      "Iteration:  77%|███████▋  | 86/112 [00:01<00:00, 42.42it/s]s]\n",
      "Iteration:  86%|████████▌ | 96/112 [00:02<00:00, 41.88it/s]s]\n",
      "Iteration:   0%|          | 3/1004 [00:00<00:35, 28.16it/s]]]"
     ]
    },
    {
     "name": "stdout",
     "output_type": "stream",
     "text": [
      "{'Train':  best_epoch_indx:32\n",
      " auc:0.8221742077278589 \n",
      " apur:0.20045754060916082 \n",
      " f1:0.2217265146432213 \n",
      " precision:0.12858788809831825 \n",
      " recall:0.8042859852076617 \n",
      ", 'Validation':  best_epoch_indx:32\n",
      " auc:0.8055364618203177 \n",
      " apur:0.18608581223457576 \n",
      " f1:0.21397688860938605 \n",
      " precision:0.12414485086199033 \n",
      " recall:0.7741751990898749 \n",
      "}\n",
      "=====Epoch 33\n",
      "Training...\n"
     ]
    },
    {
     "name": "stderr",
     "output_type": "stream",
     "text": [
      "Iteration:  18%|█▊        | 184/1004 [00:04<00:19, 41.10it/s]\n",
      "Iteration:  47%|████▋     | 53/112 [00:01<00:01, 42.29it/s]]]"
     ]
    },
    {
     "name": "stdout",
     "output_type": "stream",
     "text": [
      "{'Train':  best_epoch_indx:32\n",
      " auc:0.8166871267552683 \n",
      " apur:0.19646781830452695 \n",
      " f1:0.22050113895216403 \n",
      " precision:0.1279889342053071 \n",
      " recall:0.7954990833807447 \n",
      ", 'Validation':  best_epoch_indx:32\n",
      " auc:0.8030682914717546 \n",
      " apur:0.18294064424658543 \n",
      " f1:0.21618625277161863 \n",
      " precision:0.12557497700091996 \n",
      " recall:0.7764505119453925 \n",
      "}\n",
      "=====Epoch 33\n",
      "Training...\n"
     ]
    },
    {
     "name": "stderr",
     "output_type": "stream",
     "text": [
      "Iteration:  11%|█         | 112/1004 [00:02<00:20, 43.60it/s]\n",
      "Iteration:   0%|          | 4/1004 [00:00<00:28, 34.96it/s]]]"
     ]
    },
    {
     "name": "stdout",
     "output_type": "stream",
     "text": [
      "{'Train':  best_epoch_indx:32\n",
      " auc:0.8185854752739375 \n",
      " apur:0.20036000288816713 \n",
      " f1:0.21919204131332148 \n",
      " precision:0.12693792634379564 \n",
      " recall:0.802212389380531 \n",
      ", 'Validation':  best_epoch_indx:32\n",
      " auc:0.7999822665139454 \n",
      " apur:0.18091241859724344 \n",
      " f1:0.2143469117532518 \n",
      " precision:0.12417651836476852 \n",
      " recall:0.782707622298066 \n",
      "}\n",
      "=====Epoch 33\n",
      "Training...\n"
     ]
    },
    {
     "name": "stderr",
     "output_type": "stream",
     "text": [
      "Iteration: 100%|██████████| 1004/1004 [00:23<00:00, 41.98it/s]\n",
      "Iteration:   0%|          | 4/1004 [00:00<00:27, 36.59it/s]s]"
     ]
    },
    {
     "name": "stdout",
     "output_type": "stream",
     "text": [
      "Evaluating...\n"
     ]
    },
    {
     "name": "stderr",
     "output_type": "stream",
     "text": [
      "\r",
      "Iteration:  82%|████████▏ | 820/1004 [00:19<00:04, 38.28it/s]\r",
      "Iteration:  76%|███████▌  | 759/1004 [00:17<00:05, 43.81it/s]\r",
      "Iteration:  85%|████████▌ | 854/1004 [00:20<00:03, 39.66it/s]\r",
      "Iteration:   1%|          | 10/1004 [00:00<00:20, 47.96it/s]\r",
      "Iteration: 100%|█████████▉| 1002/1004 [00:23<00:00, 42.26it/s]\r",
      "Iteration:  82%|████████▏ | 824/1004 [00:19<00:04, 38.47it/s]\r",
      "Iteration: 100%|██████████| 1004/1004 [00:23<00:00, 41.92it/s]\n",
      "\r",
      "Iteration:   0%|          | 0/1004 [00:00<?, ?it/s]\r",
      "Iteration:   1%|▏         | 15/1004 [00:00<00:20, 48.65it/s]\r",
      "Iteration:  86%|████████▌ | 859/1004 [00:20<00:03, 40.09it/s]"
     ]
    },
    {
     "name": "stdout",
     "output_type": "stream",
     "text": [
      "Evaluating...\n"
     ]
    },
    {
     "name": "stderr",
     "output_type": "stream",
     "text": [
      "Iteration: 100%|██████████| 1004/1004 [00:24<00:00, 41.57it/s]\n",
      "Iteration:  17%|█▋        | 167/1004 [00:03<00:19, 42.13it/s]"
     ]
    },
    {
     "name": "stdout",
     "output_type": "stream",
     "text": [
      "Evaluating...\n"
     ]
    },
    {
     "name": "stderr",
     "output_type": "stream",
     "text": [
      "Iteration:   4%|▎         | 36/1004 [00:00<00:20, 46.37it/s]s]\n",
      "Iteration:   0%|          | 0/1004 [00:00<?, ?it/s]"
     ]
    },
    {
     "name": "stdout",
     "output_type": "stream",
     "text": [
      "Evaluating...\n"
     ]
    },
    {
     "name": "stderr",
     "output_type": "stream",
     "text": [
      "Iteration: 100%|██████████| 1004/1004 [00:23<00:00, 42.30it/s]\n",
      "Iteration:   0%|          | 3/1004 [00:00<00:34, 29.31it/s]]]"
     ]
    },
    {
     "name": "stdout",
     "output_type": "stream",
     "text": [
      "Evaluating...\n"
     ]
    },
    {
     "name": "stderr",
     "output_type": "stream",
     "text": [
      "Iteration:  92%|█████████▏| 924/1004 [00:20<00:01, 63.11it/s]]\n",
      "Iteration:   5%|▌         | 6/112 [00:00<00:02, 52.25it/s]/s]\n",
      "Iteration: 100%|██████████| 112/112 [00:01<00:00, 60.62it/s]s]\n",
      "Iteration:   0%|          | 0/1004 [00:00<?, ?it/s]\n",
      "Iteration:   0%|          | 4/1004 [00:00<00:26, 37.52it/s]"
     ]
    },
    {
     "name": "stdout",
     "output_type": "stream",
     "text": [
      "{'Train':  best_epoch_indx:33\n",
      " auc:0.8177764089943155 \n",
      " apur:0.19993934535029437 \n",
      " f1:0.2206724738370308 \n",
      " precision:0.12811554641107387 \n",
      " recall:0.7950695322376738 \n",
      ", 'Validation':  best_epoch_indx:33\n",
      " auc:0.8025444968373668 \n",
      " apur:0.18369251328259006 \n",
      " f1:0.2149888853604319 \n",
      " precision:0.12493079904041336 \n",
      " recall:0.770193401592719 \n",
      "}\n",
      "=====Epoch 34\n",
      "Training...\n",
      "{'Train':  best_epoch_indx:33\n",
      " auc:0.8145463370064218 \n",
      " apur:0.19228718663033978 \n",
      " f1:0.2239036664270309 \n",
      " precision:0.13050492352817933 \n",
      " recall:0.7874841972187105 \n",
      ", 'Validation':  best_epoch_indx:33\n",
      " auc:0.8014347003945297 \n",
      " apur:0.18301430373115923 \n",
      " f1:0.22080336215954094 \n",
      " precision:0.12868582195007067 \n",
      " recall:0.7770193401592719 \n",
      "}\n",
      "=====Epoch 34\n",
      "Training...\n"
     ]
    },
    {
     "name": "stderr",
     "output_type": "stream",
     "text": [
      "Iteration:   2%|▏         | 19/1004 [00:00<00:23, 42.05it/s]\n",
      "Iteration:   6%|▌         | 59/1004 [00:01<00:20, 45.28it/s]\n",
      "Iteration:  44%|████▍     | 49/112 [00:00<00:01, 52.27it/s]]\n",
      "Iteration:  12%|█▏        | 124/1004 [00:02<00:20, 43.73it/s]"
     ]
    },
    {
     "name": "stdout",
     "output_type": "stream",
     "text": [
      "{'Train':  best_epoch_indx:33\n",
      " auc:0.8172266456187498 \n",
      " apur:0.19786639952401677 \n",
      " f1:0.22088812319808734 \n",
      " precision:0.12828104421688838 \n",
      " recall:0.7942979960806625 \n",
      ", 'Validation':  best_epoch_indx:33\n",
      " auc:0.8031681118686156 \n",
      " apur:0.18556659193703345 \n",
      " f1:0.21520689928000633 \n",
      " precision:0.12498851208528627 \n",
      " recall:0.7736063708759955 \n",
      "}\n",
      "=====Epoch 34\n",
      "Training...\n"
     ]
    },
    {
     "name": "stderr",
     "output_type": "stream",
     "text": [
      "\n",
      "Iteration:  73%|███████▎  | 82/112 [00:01<00:00, 46.97it/s]]]\n",
      "Iteration:  18%|█▊        | 179/1004 [00:04<00:18, 43.87it/s]"
     ]
    },
    {
     "name": "stdout",
     "output_type": "stream",
     "text": [
      "{'Train':  best_epoch_indx:33\n",
      " auc:0.8165003181129299 \n",
      " apur:0.19408020782678737 \n",
      " f1:0.21872167795951838 \n",
      " precision:0.1266544044144108 \n",
      " recall:0.800935583791643 \n",
      ", 'Validation':  best_epoch_indx:33\n",
      " auc:0.8027319348679672 \n",
      " apur:0.1836402608471041 \n",
      " f1:0.21537980618943417 \n",
      " precision:0.12484145678564958 \n",
      " recall:0.7838452787258248 \n",
      "}\n",
      "=====Epoch 34\n",
      "Training...\n"
     ]
    },
    {
     "name": "stderr",
     "output_type": "stream",
     "text": [
      "Iteration:  21%|██        | 208/1004 [00:04<00:18, 43.96it/s]\n",
      "Iteration:   4%|▍         | 44/1004 [00:01<00:22, 43.56it/s]"
     ]
    },
    {
     "name": "stdout",
     "output_type": "stream",
     "text": [
      "{'Train':  best_epoch_indx:33\n",
      " auc:0.8188908471435892 \n",
      " apur:0.19728229608909273 \n",
      " f1:0.21965418217467877 \n",
      " precision:0.12729905574047445 \n",
      " recall:0.8001896333754741 \n",
      ", 'Validation':  best_epoch_indx:33\n",
      " auc:0.8009100623338675 \n",
      " apur:0.18028855142242503 \n",
      " f1:0.21494081680645918 \n",
      " precision:0.12464769524502227 \n",
      " recall:0.7798634812286689 \n",
      "}\n",
      "=====Epoch 34\n",
      "Training...\n"
     ]
    },
    {
     "name": "stderr",
     "output_type": "stream",
     "text": [
      "Iteration: 100%|██████████| 1004/1004 [00:23<00:00, 43.13it/s]\n",
      "Iteration:   0%|          | 0/1004 [00:00<?, ?it/s]"
     ]
    },
    {
     "name": "stdout",
     "output_type": "stream",
     "text": [
      "Evaluating...\n"
     ]
    },
    {
     "name": "stderr",
     "output_type": "stream",
     "text": [
      "Iteration: 100%|██████████| 1004/1004 [00:23<00:00, 42.68it/s]\n",
      "Iteration:  88%|████████▊ | 884/1004 [00:20<00:02, 42.70it/s]"
     ]
    },
    {
     "name": "stdout",
     "output_type": "stream",
     "text": [
      "Evaluating...\n"
     ]
    },
    {
     "name": "stderr",
     "output_type": "stream",
     "text": [
      "Iteration: 100%|██████████| 1004/1004 [00:23<00:00, 42.36it/s]\n",
      "Iteration:  15%|█▍        | 149/1004 [00:03<00:17, 47.54it/s]"
     ]
    },
    {
     "name": "stdout",
     "output_type": "stream",
     "text": [
      "Evaluating...\n"
     ]
    },
    {
     "name": "stderr",
     "output_type": "stream",
     "text": [
      "Iteration: 100%|██████████| 1004/1004 [00:23<00:00, 42.80it/s]\n",
      "Iteration:   0%|          | 5/1004 [00:00<00:20, 47.99it/s]]]"
     ]
    },
    {
     "name": "stdout",
     "output_type": "stream",
     "text": [
      "Evaluating...\n"
     ]
    },
    {
     "name": "stderr",
     "output_type": "stream",
     "text": [
      "Iteration: 100%|██████████| 1004/1004 [00:23<00:00, 42.57it/s]\n",
      "Iteration:  24%|██▍       | 240/1004 [00:05<00:16, 45.37it/s]"
     ]
    },
    {
     "name": "stdout",
     "output_type": "stream",
     "text": [
      "Evaluating...\n"
     ]
    },
    {
     "name": "stderr",
     "output_type": "stream",
     "text": [
      "Iteration:  91%|█████████ | 916/1004 [00:19<00:01, 63.00it/s]]\n",
      "Iteration:  96%|█████████▌| 960/1004 [00:20<00:00, 68.72it/s]]\n",
      "Iteration:  79%|███████▉  | 89/112 [00:01<00:00, 74.89it/s]]s]\n",
      "Iteration:   0%|          | 4/1004 [00:00<00:27, 35.86it/s]"
     ]
    },
    {
     "name": "stdout",
     "output_type": "stream",
     "text": [
      "{'Train':  best_epoch_indx:34\n",
      " auc:0.8161035248774637 \n",
      " apur:0.19466086396006405 \n",
      " f1:0.22062413290483468 \n",
      " precision:0.12810760100340587 \n",
      " recall:0.7941213653603034 \n",
      ", 'Validation':  best_epoch_indx:34\n",
      " auc:0.7996178525275978 \n",
      " apur:0.17730722803629032 \n",
      " f1:0.21551587928582716 \n",
      " precision:0.12513761467889908 \n",
      " recall:0.7758816837315131 \n",
      "}\n",
      "=====Epoch 35\n",
      "Training...\n"
     ]
    },
    {
     "name": "stderr",
     "output_type": "stream",
     "text": [
      "Iteration:   2%|▏         | 19/1004 [00:00<00:23, 41.67it/s]\n",
      "Iteration:   3%|▎         | 29/1004 [00:00<00:22, 43.04it/s]"
     ]
    },
    {
     "name": "stdout",
     "output_type": "stream",
     "text": [
      "{'Train':  best_epoch_indx:34\n",
      " auc:0.8125197619658808 \n",
      " apur:0.18755801728311972 \n",
      " f1:0.22220633061884884 \n",
      " precision:0.12940270070484858 \n",
      " recall:0.7856510745891276 \n",
      ", 'Validation':  best_epoch_indx:34\n",
      " auc:0.8030827104720021 \n",
      " apur:0.18477133775204105 \n",
      " f1:0.22157809983896945 \n",
      " precision:0.12905646220221348 \n",
      " recall:0.782707622298066 \n",
      "}\n",
      "=====Epoch 35\n",
      "Training...\n"
     ]
    },
    {
     "name": "stderr",
     "output_type": "stream",
     "text": [
      "Iteration:   3%|▎         | 34/1004 [00:00<00:22, 43.31it/s]\n",
      "Iteration:   6%|▌         | 59/1004 [00:01<00:21, 44.54it/s]\n",
      "Iteration:   9%|▉         | 89/1004 [00:02<00:20, 43.93it/s]\n",
      "Iteration:  96%|█████████▌| 107/112 [00:02<00:00, 52.88it/s]]\n",
      "Iteration:  16%|█▌        | 159/1004 [00:03<00:19, 44.28it/s]"
     ]
    },
    {
     "name": "stdout",
     "output_type": "stream",
     "text": [
      "{'Train':  best_epoch_indx:34\n",
      " auc:0.816420073249182 \n",
      " apur:0.19478609284601056 \n",
      " f1:0.22314123565533414 \n",
      " precision:0.12997549402992856 \n",
      " recall:0.7879132688539099 \n",
      ", 'Validation':  best_epoch_indx:34\n",
      " auc:0.800792942725757 \n",
      " apur:0.1797871797199607 \n",
      " f1:0.2170555108608206 \n",
      " precision:0.1264055472263868 \n",
      " recall:0.767349260523322 \n",
      "}\n",
      "=====Epoch 35\n",
      "Training...\n"
     ]
    },
    {
     "name": "stderr",
     "output_type": "stream",
     "text": [
      "Iteration:  15%|█▌        | 154/1004 [00:03<00:19, 44.66it/s]\n",
      "Iteration:   2%|▏         | 18/1004 [00:00<00:24, 40.94it/s]]"
     ]
    },
    {
     "name": "stdout",
     "output_type": "stream",
     "text": [
      "{'Train':  best_epoch_indx:34\n",
      " auc:0.8149592188590129 \n",
      " apur:0.1898578768517054 \n",
      " f1:0.2155957495294604 \n",
      " precision:0.12440825232315754 \n",
      " recall:0.8073835261394525 \n",
      ", 'Validation':  best_epoch_indx:34\n",
      " auc:0.8034542666638241 \n",
      " apur:0.17798447584978436 \n",
      " f1:0.21170895750535004 \n",
      " precision:0.1222850079463182 \n",
      " recall:0.7878270762229806 \n",
      "}\n",
      "=====Epoch 35\n",
      "Training...\n"
     ]
    },
    {
     "name": "stderr",
     "output_type": "stream",
     "text": [
      "Iteration:  19%|█▉        | 189/1004 [00:04<00:18, 44.21it/s]\n",
      "Iteration:   4%|▍         | 39/1004 [00:00<00:23, 40.93it/s]]"
     ]
    },
    {
     "name": "stdout",
     "output_type": "stream",
     "text": [
      "{'Train':  best_epoch_indx:34\n",
      " auc:0.8158868886287494 \n",
      " apur:0.19222800872883145 \n",
      " f1:0.21402152544067174 \n",
      " precision:0.12325376112987411 \n",
      " recall:0.8120101137800253 \n",
      ", 'Validation':  best_epoch_indx:34\n",
      " auc:0.7998601222386673 \n",
      " apur:0.17353618789501063 \n",
      " f1:0.20928829915560915 \n",
      " precision:0.12063271336693898 \n",
      " recall:0.7895335608646189 \n",
      "}\n",
      "=====Epoch 35\n",
      "Training...\n"
     ]
    },
    {
     "name": "stderr",
     "output_type": "stream",
     "text": [
      "Iteration: 100%|██████████| 1004/1004 [00:23<00:00, 43.60it/s]\n",
      "Iteration:  83%|████████▎ | 829/1004 [00:19<00:03, 44.01it/s]"
     ]
    },
    {
     "name": "stdout",
     "output_type": "stream",
     "text": [
      "Evaluating...\n"
     ]
    },
    {
     "name": "stderr",
     "output_type": "stream",
     "text": [
      "Iteration:  85%|████████▌ | 854/1004 [00:19<00:03, 44.47it/s]]\n",
      "Iteration:  86%|████████▌ | 859/1004 [00:19<00:03, 44.11it/s]"
     ]
    },
    {
     "name": "stdout",
     "output_type": "stream",
     "text": [
      "Evaluating...\n"
     ]
    },
    {
     "name": "stderr",
     "output_type": "stream",
     "text": [
      "Iteration: 100%|██████████| 1004/1004 [00:23<00:00, 42.93it/s]"
     ]
    },
    {
     "name": "stdout",
     "output_type": "stream",
     "text": [
      "Evaluating...\n"
     ]
    },
    {
     "name": "stderr",
     "output_type": "stream",
     "text": [
      "\n",
      "Iteration: 100%|██████████| 1004/1004 [00:23<00:00, 43.30it/s]\n",
      "Iteration:  19%|█▊        | 186/1004 [00:03<00:16, 49.82it/s]"
     ]
    },
    {
     "name": "stdout",
     "output_type": "stream",
     "text": [
      "Evaluating...\n"
     ]
    },
    {
     "name": "stderr",
     "output_type": "stream",
     "text": [
      "Iteration: 100%|██████████| 1004/1004 [00:23<00:00, 43.15it/s]\n",
      "Iteration:  23%|██▎       | 228/1004 [00:04<00:15, 49.55it/s]"
     ]
    },
    {
     "name": "stdout",
     "output_type": "stream",
     "text": [
      "Evaluating...\n"
     ]
    },
    {
     "name": "stderr",
     "output_type": "stream",
     "text": [
      "Iteration:  98%|█████████▊| 981/1004 [00:20<00:00, 44.54it/s]]\n",
      "Iteration:  97%|█████████▋| 972/1004 [00:19<00:00, 57.23it/s]]\n",
      "Iteration:  91%|█████████ | 102/112 [00:01<00:00, 79.13it/s]s]\n",
      "Iteration:   0%|          | 0/1004 [00:00<?, ?it/s]"
     ]
    },
    {
     "name": "stdout",
     "output_type": "stream",
     "text": [
      "{'Train':  best_epoch_indx:35\n",
      " auc:0.8168635520475565 \n",
      " apur:0.1959918552398878 \n",
      " f1:0.22063450215308905 \n",
      " precision:0.1281310605287333 \n",
      " recall:0.7934892541087232 \n",
      ", 'Validation':  best_epoch_indx:35\n",
      " auc:0.8011100171692878 \n",
      " apur:0.17893474844406143 \n",
      " f1:0.21382852627419993 \n",
      " precision:0.12416261356336607 \n",
      " recall:0.7696245733788396 \n",
      "}\n",
      "=====Epoch 36\n",
      "Training...\n"
     ]
    },
    {
     "name": "stderr",
     "output_type": "stream",
     "text": [
      "Iteration:   1%|▏         | 14/1004 [00:00<00:24, 40.84it/s]\n",
      "Iteration:   0%|          | 4/1004 [00:00<00:25, 39.55it/s]]"
     ]
    },
    {
     "name": "stdout",
     "output_type": "stream",
     "text": [
      "{'Train':  best_epoch_indx:35\n",
      " auc:0.8153890319862364 \n",
      " apur:0.1921399797186715 \n",
      " f1:0.22051934736879322 \n",
      " precision:0.12818273360596782 \n",
      " recall:0.788558786346397 \n",
      ", 'Validation':  best_epoch_indx:35\n",
      " auc:0.8017328336373616 \n",
      " apur:0.18648436236328986 \n",
      " f1:0.21752265861027192 \n",
      " precision:0.12643253234750462 \n",
      " recall:0.7781569965870307 \n",
      "}\n",
      "=====Epoch 36\n",
      "Training...\n"
     ]
    },
    {
     "name": "stderr",
     "output_type": "stream",
     "text": [
      "Iteration:   3%|▎         | 34/1004 [00:00<00:21, 44.20it/s]\n",
      "Iteration:   6%|▌         | 59/1004 [00:01<00:21, 44.55it/s]\n",
      "Iteration:   8%|▊         | 79/1004 [00:01<00:20, 44.16it/s]\n",
      "Iteration:  16%|█▋        | 164/1004 [00:03<00:19, 43.64it/s]\n",
      "Iteration:   0%|          | 4/1004 [00:00<00:28, 35.49it/s]s]"
     ]
    },
    {
     "name": "stdout",
     "output_type": "stream",
     "text": [
      "{'Train':  best_epoch_indx:35\n",
      " auc:0.8188460950067756 \n",
      " apur:0.1971278805928742 \n",
      " f1:0.2204987409065473 \n",
      " precision:0.12794650376969832 \n",
      " recall:0.7970794614071686 \n",
      ", 'Validation':  best_epoch_indx:35\n",
      " auc:0.8043417215844842 \n",
      " apur:0.18555743791673035 \n",
      " f1:0.21313409359024774 \n",
      " precision:0.12366523683490006 \n",
      " recall:0.7707622298065984 \n",
      "}\n",
      "=====Epoch 36\n",
      "Training...\n"
     ]
    },
    {
     "name": "stderr",
     "output_type": "stream",
     "text": [
      "Iteration:   2%|▏         | 24/1004 [00:00<00:23, 41.72it/s]]\n",
      "Iteration:   0%|          | 0/1004 [00:00<?, ?it/s]"
     ]
    },
    {
     "name": "stdout",
     "output_type": "stream",
     "text": [
      "{'Train':  best_epoch_indx:35\n",
      " auc:0.815820523332264 \n",
      " apur:0.1995522675779209 \n",
      " f1:0.22391207105885358 \n",
      " precision:0.13085228970167725 \n",
      " recall:0.7752702446425185 \n",
      ", 'Validation':  best_epoch_indx:35\n",
      " auc:0.8010767646397805 \n",
      " apur:0.1872038680457596 \n",
      " f1:0.2209196730785107 \n",
      " precision:0.12921294060840174 \n",
      " recall:0.7610921501706485 \n",
      "}\n",
      "=====Epoch 36\n",
      "Training...\n"
     ]
    },
    {
     "name": "stderr",
     "output_type": "stream",
     "text": [
      "Iteration:  20%|██        | 204/1004 [00:04<00:17, 44.97it/s]\n",
      "Iteration:   2%|▏         | 18/1004 [00:00<00:24, 40.68it/s]]"
     ]
    },
    {
     "name": "stdout",
     "output_type": "stream",
     "text": [
      "{'Train':  best_epoch_indx:35\n",
      " auc:0.8171094855526077 \n",
      " apur:0.1968491710069474 \n",
      " f1:0.21327337829960863 \n",
      " precision:0.1228157667593747 \n",
      " recall:0.8094816687737042 \n",
      ", 'Validation':  best_epoch_indx:35\n",
      " auc:0.8013125292013916 \n",
      " apur:0.18303328454397633 \n",
      " f1:0.20821380039257137 \n",
      " precision:0.1200383008356546 \n",
      " recall:0.7844141069397043 \n",
      "}\n",
      "=====Epoch 36\n",
      "Training...\n"
     ]
    },
    {
     "name": "stderr",
     "output_type": "stream",
     "text": [
      "Iteration: 100%|██████████| 1004/1004 [00:22<00:00, 44.16it/s]\n",
      "Iteration:  80%|████████  | 808/1004 [00:18<00:04, 43.96it/s]"
     ]
    },
    {
     "name": "stdout",
     "output_type": "stream",
     "text": [
      "Evaluating...\n"
     ]
    },
    {
     "name": "stderr",
     "output_type": "stream",
     "text": [
      "Iteration: 100%|██████████| 1004/1004 [00:22<00:00, 43.68it/s]\n",
      "Iteration:  82%|████████▏ | 819/1004 [00:18<00:04, 44.50it/s]"
     ]
    },
    {
     "name": "stdout",
     "output_type": "stream",
     "text": [
      "Evaluating...\n"
     ]
    },
    {
     "name": "stderr",
     "output_type": "stream",
     "text": [
      "Iteration: 100%|██████████| 1004/1004 [00:23<00:00, 43.45it/s]\n",
      "Iteration:  20%|█▉        | 200/1004 [00:04<00:16, 48.63it/s]"
     ]
    },
    {
     "name": "stdout",
     "output_type": "stream",
     "text": [
      "Evaluating...\n"
     ]
    },
    {
     "name": "stderr",
     "output_type": "stream",
     "text": [
      "Iteration: 100%|██████████| 1004/1004 [00:22<00:00, 43.78it/s]\n",
      "Iteration:   2%|▏         | 17/1004 [00:00<00:22, 43.05it/s]]"
     ]
    },
    {
     "name": "stdout",
     "output_type": "stream",
     "text": [
      "Evaluating...\n"
     ]
    },
    {
     "name": "stderr",
     "output_type": "stream",
     "text": [
      "Iteration: 100%|██████████| 1004/1004 [00:23<00:00, 43.56it/s]\n",
      "Iteration:   2%|▏         | 16/1004 [00:00<00:24, 39.93it/s]]"
     ]
    },
    {
     "name": "stdout",
     "output_type": "stream",
     "text": [
      "Evaluating...\n"
     ]
    },
    {
     "name": "stderr",
     "output_type": "stream",
     "text": [
      "Iteration:  98%|█████████▊| 980/1004 [00:20<00:00, 59.28it/s]]\n",
      "Iteration:  98%|█████████▊| 979/1004 [00:20<00:00, 55.03it/s]]\n",
      "Iteration:  95%|█████████▍| 106/112 [00:01<00:00, 72.10it/s]s]\n",
      "Iteration: 100%|██████████| 112/112 [00:01<00:00, 65.41it/s]"
     ]
    },
    {
     "name": "stdout",
     "output_type": "stream",
     "text": [
      "{'Train':  best_epoch_indx:36\n",
      " auc:0.821496267768331 \n",
      " apur:0.20053298155482796 \n",
      " f1:0.21831785918668908 \n",
      " precision:0.12621349635086956 \n",
      " recall:0.8078381795195955 \n",
      ", 'Validation':  best_epoch_indx:36\n",
      " auc:0.8048123713909521 \n",
      " apur:0.18386137161517582 \n",
      " f1:0.21261483826140662 \n",
      " precision:0.12300133988387674 \n",
      " recall:0.7832764505119454 \n",
      "}\n",
      "=====Epoch 37\n",
      "Training...\n"
     ]
    },
    {
     "name": "stderr",
     "output_type": "stream",
     "text": [
      "Iteration:   1%|          | 9/1004 [00:00<00:24, 40.00it/s]\n",
      "Iteration:   0%|          | 4/1004 [00:00<00:26, 37.85it/s]]"
     ]
    },
    {
     "name": "stdout",
     "output_type": "stream",
     "text": [
      "{'Train':  best_epoch_indx:36\n",
      " auc:0.8187014707679429 \n",
      " apur:0.19561212234554526 \n",
      " f1:0.21592746303981866 \n",
      " precision:0.12435924510914431 \n",
      " recall:0.8189001264222503 \n",
      ", 'Validation':  best_epoch_indx:36\n",
      " auc:0.8051014243424022 \n",
      " apur:0.18644066493808134 \n",
      " f1:0.21253731343283583 \n",
      " precision:0.12231575330699193 \n",
      " recall:0.8100113765642776 \n",
      "}\n",
      "=====Epoch 37\n",
      "Training...\n"
     ]
    },
    {
     "name": "stderr",
     "output_type": "stream",
     "text": [
      "Iteration:   4%|▍         | 44/1004 [00:01<00:22, 42.15it/s]\n",
      "Iteration:   7%|▋         | 74/1004 [00:01<00:20, 44.89it/s]\n",
      "Iteration:  43%|████▎     | 48/112 [00:00<00:01, 54.72it/s]]\n",
      "Iteration:  14%|█▍        | 144/1004 [00:03<00:19, 44.71it/s]\n",
      "Iteration:  82%|████████▏ | 92/112 [00:01<00:00, 50.16it/s]]]"
     ]
    },
    {
     "name": "stdout",
     "output_type": "stream",
     "text": [
      "{'Train':  best_epoch_indx:36\n",
      " auc:0.8200390902900629 \n",
      " apur:0.19456271207370932 \n",
      " f1:0.21067604283202812 \n",
      " precision:0.12058067525909935 \n",
      " recall:0.8333017257728048 \n",
      ", 'Validation':  best_epoch_indx:36\n",
      " auc:0.8033459043327777 \n",
      " apur:0.18283025735101674 \n",
      " f1:0.2043858391858965 \n",
      " precision:0.11692358150213185 \n",
      " recall:0.8111490329920364 \n",
      "}\n",
      "=====Epoch 37\n",
      "Training...\n"
     ]
    },
    {
     "name": "stderr",
     "output_type": "stream",
     "text": [
      "Iteration:  17%|█▋        | 174/1004 [00:04<00:18, 44.87it/s]\n",
      "Iteration:   0%|          | 4/1004 [00:00<00:28, 35.16it/s]s]"
     ]
    },
    {
     "name": "stdout",
     "output_type": "stream",
     "text": [
      "{'Train':  best_epoch_indx:36\n",
      " auc:0.8211369749318598 \n",
      " apur:0.20351617914789838 \n",
      " f1:0.21973880951763597 \n",
      " precision:0.12727017881099698 \n",
      " recall:0.8035906188760351 \n",
      ", 'Validation':  best_epoch_indx:36\n",
      " auc:0.8079266062658604 \n",
      " apur:0.1864591165933683 \n",
      " f1:0.21726888784608164 \n",
      " precision:0.12595212187159957 \n",
      " recall:0.7901023890784983 \n",
      "}\n",
      "=====Epoch 37\n",
      "Training...\n",
      "{'Train':  best_epoch_indx:36\n",
      " auc:0.8215061313346709 \n",
      " apur:0.20225192517067855 \n",
      " f1:0.22356392779835058 \n",
      " precision:0.13020692241972118 \n",
      " recall:0.7899494310998736 \n",
      ", 'Validation':  best_epoch_indx:36\n",
      " auc:0.8043408871308297 \n",
      " apur:0.18673264529054995 \n",
      " f1:0.2182667525773196 \n",
      " precision:0.12713454681929068 \n",
      " recall:0.7707622298065984 \n",
      "}\n",
      "=====Epoch 37\n",
      "Training...\n"
     ]
    },
    {
     "name": "stderr",
     "output_type": "stream",
     "text": [
      "Iteration:   3%|▎         | 31/1004 [00:00<00:27, 35.73it/s]]\n",
      "Iteration: 100%|██████████| 1004/1004 [00:22<00:00, 43.96it/s]\n",
      "Iteration:  80%|███████▉  | 803/1004 [00:18<00:04, 41.47it/s]"
     ]
    },
    {
     "name": "stdout",
     "output_type": "stream",
     "text": [
      "Evaluating...\n"
     ]
    },
    {
     "name": "stderr",
     "output_type": "stream",
     "text": [
      "Iteration: 100%|██████████| 1004/1004 [00:23<00:00, 43.59it/s]\n",
      "Iteration:  82%|████████▏ | 823/1004 [00:18<00:04, 42.73it/s]"
     ]
    },
    {
     "name": "stdout",
     "output_type": "stream",
     "text": [
      "Evaluating...\n"
     ]
    },
    {
     "name": "stderr",
     "output_type": "stream",
     "text": [
      "Iteration: 100%|██████████| 1004/1004 [00:23<00:00, 43.45it/s]\n",
      "Iteration:  18%|█▊        | 176/1004 [00:03<00:16, 50.36it/s]"
     ]
    },
    {
     "name": "stdout",
     "output_type": "stream",
     "text": [
      "Evaluating...\n"
     ]
    },
    {
     "name": "stderr",
     "output_type": "stream",
     "text": [
      "Iteration: 100%|██████████| 1004/1004 [00:23<00:00, 43.51it/s]\n",
      "Iteration:  23%|██▎       | 227/1004 [00:04<00:16, 46.71it/s]"
     ]
    },
    {
     "name": "stdout",
     "output_type": "stream",
     "text": [
      "Evaluating...\n"
     ]
    },
    {
     "name": "stderr",
     "output_type": "stream",
     "text": [
      "\r",
      "Iteration:   4%|▍         | 41/1004 [00:00<00:19, 48.76it/s]\r",
      "Iteration:   1%|          | 9/1004 [00:00<00:22, 44.10it/s]\r",
      "Iteration:  21%|██        | 210/1004 [00:04<00:16, 48.12it/s]\r",
      "Iteration:  23%|██▎       | 232/1004 [00:04<00:16, 47.32it/s]\r",
      "Iteration:   5%|▍         | 46/1004 [00:00<00:19, 48.90it/s]\r",
      "Iteration: 100%|██████████| 1004/1004 [00:23<00:00, 39.13it/s]\r",
      "Iteration: 100%|██████████| 1004/1004 [00:23<00:00, 43.30it/s]\n",
      "\r",
      "Iteration:   0%|          | 0/1004 [00:00<?, ?it/s]\r",
      "Iteration:   1%|▏         | 15/1004 [00:00<00:19, 49.57it/s]\r",
      "Iteration:  21%|██▏       | 215/1004 [00:04<00:17, 45.84it/s]\r",
      "Iteration:  24%|██▎       | 238/1004 [00:05<00:15, 49.10it/s]"
     ]
    },
    {
     "name": "stdout",
     "output_type": "stream",
     "text": [
      "Evaluating...\n"
     ]
    },
    {
     "name": "stderr",
     "output_type": "stream",
     "text": [
      "Iteration:  98%|█████████▊| 982/1004 [00:20<00:00, 60.13it/s]]\n",
      "Iteration:  99%|█████████▊| 991/1004 [00:20<00:00, 58.04it/s]]\n",
      "Iteration: 100%|██████████| 112/112 [00:01<00:00, 65.27it/s]s]\n",
      "Iteration:   0%|          | 4/1004 [00:00<00:29, 34.01it/s]"
     ]
    },
    {
     "name": "stdout",
     "output_type": "stream",
     "text": [
      "{'Train':  best_epoch_indx:37\n",
      " auc:0.8235262953516695 \n",
      " apur:0.20602397161166142 \n",
      " f1:0.22061183291060615 \n",
      " precision:0.12773992447099727 \n",
      " recall:0.8082174462705436 \n",
      ", 'Validation':  best_epoch_indx:37\n",
      " auc:0.8070057731990139 \n",
      " apur:0.18696239141263118 \n",
      " f1:0.2138022251614409 \n",
      " precision:0.1238395673726904 \n",
      " recall:0.7815699658703071 \n",
      "}\n",
      "=====Epoch 38\n",
      "Training...\n"
     ]
    },
    {
     "name": "stderr",
     "output_type": "stream",
     "text": [
      "Iteration:   1%|▏         | 14/1004 [00:00<00:24, 39.65it/s]\n",
      "Iteration:   0%|          | 0/1004 [00:00<?, ?it/s]\n",
      "Iteration:   2%|▏         | 24/1004 [00:00<00:23, 42.42it/s]"
     ]
    },
    {
     "name": "stdout",
     "output_type": "stream",
     "text": [
      "{'Train':  best_epoch_indx:37\n",
      " auc:0.8229262597438252 \n",
      " apur:0.20232911721676622 \n",
      " f1:0.22344335288712983 \n",
      " precision:0.12987306412521055 \n",
      " recall:0.7993678887484197 \n",
      ", 'Validation':  best_epoch_indx:37\n",
      " auc:0.8089327151126412 \n",
      " apur:0.19199938983519915 \n",
      " f1:0.21848205779612576 \n",
      " precision:0.1269606938549548 \n",
      " recall:0.782707622298066 \n",
      "}\n",
      "=====Epoch 38\n",
      "Training...\n"
     ]
    },
    {
     "name": "stderr",
     "output_type": "stream",
     "text": [
      "Iteration:  38%|███▊      | 43/112 [00:00<00:01, 64.07it/s]]\n",
      "Iteration:  45%|████▍     | 50/112 [00:00<00:01, 60.98it/s]]\n",
      "Iteration:  16%|█▌        | 159/1004 [00:03<00:18, 44.94it/s]\n",
      "Iteration:   0%|          | 4/1004 [00:00<00:27, 36.75it/s]s]"
     ]
    },
    {
     "name": "stdout",
     "output_type": "stream",
     "text": [
      "{'Train':  best_epoch_indx:37\n",
      " auc:0.8233237284888755 \n",
      " apur:0.20385826868566764 \n",
      " f1:0.2312085517293205 \n",
      " precision:0.13578040357903332 \n",
      " recall:0.7779884948479676 \n",
      ", 'Validation':  best_epoch_indx:37\n",
      " auc:0.8068233149724818 \n",
      " apur:0.18820250492587 \n",
      " f1:0.22505487084247847 \n",
      " precision:0.13213719270420302 \n",
      " recall:0.7582480091012515 \n",
      "}\n",
      "=====Epoch 38\n",
      "Training...\n"
     ]
    },
    {
     "name": "stderr",
     "output_type": "stream",
     "text": [
      "Iteration:   3%|▎         | 34/1004 [00:00<00:23, 42.14it/s]]\n",
      "Iteration:  18%|█▊        | 179/1004 [00:04<00:19, 43.09it/s]\n",
      "Iteration:   0%|          | 3/1004 [00:00<00:34, 28.96it/s]s]"
     ]
    },
    {
     "name": "stdout",
     "output_type": "stream",
     "text": [
      "{'Train':  best_epoch_indx:37\n",
      " auc:0.823377632500089 \n",
      " apur:0.21035242468728063 \n",
      " f1:0.22096224095843214 \n",
      " precision:0.1280101902650873 \n",
      " recall:0.8068145900499399 \n",
      ", 'Validation':  best_epoch_indx:37\n",
      " auc:0.8071745930432332 \n",
      " apur:0.19042350629620683 \n",
      " f1:0.21619927933573554 \n",
      " precision:0.12536337209302326 \n",
      " recall:0.7849829351535836 \n",
      "}\n",
      "=====Epoch 38\n",
      "Training...\n",
      "{'Train':  best_epoch_indx:37\n",
      " auc:0.8250228586270808 \n",
      " apur:0.21013770652696054 \n",
      " f1:0.22117671568201938 \n",
      " precision:0.12819222796884747 \n",
      " recall:0.8053097345132744 \n",
      ", 'Validation':  best_epoch_indx:37\n",
      " auc:0.8078127347461692 \n",
      " apur:0.19097579937485412 \n",
      " f1:0.2152663371773751 \n",
      " precision:0.12485212485212485 \n",
      " recall:0.7804323094425484 \n",
      "}\n",
      "=====Epoch 38\n",
      "Training...\n"
     ]
    },
    {
     "name": "stderr",
     "output_type": "stream",
     "text": [
      "Iteration: 100%|██████████| 1004/1004 [00:22<00:00, 43.99it/s]\n",
      "Iteration:  83%|████████▎ | 834/1004 [00:19<00:03, 44.36it/s]"
     ]
    },
    {
     "name": "stdout",
     "output_type": "stream",
     "text": [
      "Evaluating...\n"
     ]
    },
    {
     "name": "stderr",
     "output_type": "stream",
     "text": [
      "Iteration: 100%|██████████| 1004/1004 [00:22<00:00, 43.89it/s]\n",
      "Iteration:   0%|          | 0/1004 [00:00<?, ?it/s]"
     ]
    },
    {
     "name": "stdout",
     "output_type": "stream",
     "text": [
      "Evaluating...\n"
     ]
    },
    {
     "name": "stderr",
     "output_type": "stream",
     "text": [
      "Iteration: 100%|██████████| 1004/1004 [00:23<00:00, 43.54it/s]\n",
      "Iteration:  97%|█████████▋| 973/1004 [00:22<00:00, 44.11it/s]"
     ]
    },
    {
     "name": "stdout",
     "output_type": "stream",
     "text": [
      "Evaluating...\n"
     ]
    },
    {
     "name": "stderr",
     "output_type": "stream",
     "text": [
      "Iteration: 100%|██████████| 1004/1004 [00:22<00:00, 43.86it/s]\n",
      "Iteration:  20%|██        | 203/1004 [00:04<00:16, 49.75it/s]"
     ]
    },
    {
     "name": "stdout",
     "output_type": "stream",
     "text": [
      "Evaluating...\n"
     ]
    },
    {
     "name": "stderr",
     "output_type": "stream",
     "text": [
      "\r",
      "Iteration:  22%|██▏       | 225/1004 [00:04<00:16, 47.08it/s]\r",
      "Iteration: 100%|█████████▉| 1003/1004 [00:23<00:00, 44.26it/s]\r",
      "Iteration:   1%|          | 10/1004 [00:00<00:21, 45.40it/s]\r",
      "Iteration: 100%|██████████| 1004/1004 [00:23<00:00, 43.53it/s]\n",
      "\r",
      "Iteration:   0%|          | 0/1004 [00:00<?, ?it/s]\r",
      "Iteration:   4%|▍         | 45/1004 [00:00<00:18, 51.14it/s]\r",
      "Iteration:  21%|██        | 209/1004 [00:04<00:15, 50.44it/s]\r",
      "Iteration:  23%|██▎       | 230/1004 [00:04<00:17, 44.18it/s]\r",
      "Iteration:   2%|▏         | 16/1004 [00:00<00:20, 47.86it/s]\r",
      "Iteration:   5%|▌         | 51/1004 [00:01<00:17, 53.04it/s]\r",
      "Iteration:   0%|          | 4/1004 [00:00<00:27, 36.14it/s]"
     ]
    },
    {
     "name": "stdout",
     "output_type": "stream",
     "text": [
      "Evaluating...\n"
     ]
    },
    {
     "name": "stderr",
     "output_type": "stream",
     "text": [
      "Iteration:  96%|█████████▌| 964/1004 [00:19<00:00, 59.10it/s]]\n",
      "Iteration:  97%|█████████▋| 978/1004 [00:19<00:00, 61.31it/s]\n",
      "Iteration: 100%|██████████| 112/112 [00:01<00:00, 69.21it/s]s]\n",
      "Iteration:   0%|          | 4/1004 [00:00<00:29, 33.70it/s]\n",
      "Iteration:   0%|          | 0/1004 [00:00<?, ?it/s]"
     ]
    },
    {
     "name": "stdout",
     "output_type": "stream",
     "text": [
      "{'Train':  best_epoch_indx:38\n",
      " auc:0.828011175921918 \n",
      " apur:0.21136605354330298 \n",
      " f1:0.22886969760129044 \n",
      " precision:0.13358580783023558 \n",
      " recall:0.7982300884955752 \n",
      ", 'Validation':  best_epoch_indx:38\n",
      " auc:0.8088455371372791 \n",
      " apur:0.1906924344735904 \n",
      " f1:0.22282076395690498 \n",
      " precision:0.13007432818753573 \n",
      " recall:0.7764505119453925 \n",
      "}\n",
      "=====Epoch 39\n",
      "Training...\n",
      "{'Train':  best_epoch_indx:38\n",
      " auc:0.8262541889349566 \n",
      " apur:0.206772499127427 \n",
      " f1:0.2211332782232979 \n",
      " precision:0.12779621950138395 \n",
      " recall:0.8201011378002528 \n",
      ", 'Validation':  best_epoch_indx:38\n",
      " auc:0.8110259555642841 \n",
      " apur:0.1941662389036985 \n",
      " f1:0.21712796135858317 \n",
      " precision:0.12547629596809926 \n",
      " recall:0.8054607508532423 \n",
      "}\n",
      "=====Epoch 39\n",
      "Training...\n"
     ]
    },
    {
     "name": "stderr",
     "output_type": "stream",
     "text": [
      "Iteration:   1%|          | 9/1004 [00:00<00:26, 38.16it/s]\n",
      "Iteration:  34%|███▍      | 38/112 [00:00<00:01, 54.59it/s]]\n",
      "Iteration:   5%|▌         | 6/112 [00:00<00:01, 57.13it/s]]]\n",
      "Iteration:  14%|█▍        | 144/1004 [00:03<00:25, 33.85it/s]\n",
      "Iteration:  15%|█▍        | 149/1004 [00:03<00:23, 36.53it/s]"
     ]
    },
    {
     "name": "stdout",
     "output_type": "stream",
     "text": [
      "{'Train':  best_epoch_indx:38\n",
      " auc:0.8279115155536891 \n",
      " apur:0.21247236326778657 \n",
      " f1:0.23044824836334638 \n",
      " precision:0.13503145952642273 \n",
      " recall:0.7855110942537455 \n",
      ", 'Validation':  best_epoch_indx:38\n",
      " auc:0.808646344974554 \n",
      " apur:0.1929741196310801 \n",
      " f1:0.22279792746113988 \n",
      " precision:0.13058385579937304 \n",
      " recall:0.7582480091012515 \n",
      "}\n",
      "=====Epoch 39\n",
      "Training...\n",
      "{'Train':  best_epoch_indx:38\n",
      " auc:0.8278927174063776 \n",
      " apur:0.21337776597813368 \n",
      " f1:0.22146952881201482 \n",
      " precision:0.12816532839815728 \n",
      " recall:0.8142225031605562 \n",
      ", 'Validation':  best_epoch_indx:38\n",
      " auc:0.8074816450702883 \n",
      " apur:0.18975225195889267 \n",
      " f1:0.21542056074766355 \n",
      " precision:0.12479696805630752 \n",
      " recall:0.7866894197952219 \n",
      "}\n",
      "=====Epoch 39\n",
      "Training...\n"
     ]
    },
    {
     "name": "stderr",
     "output_type": "stream",
     "text": [
      "Iteration:  15%|█▌        | 154/1004 [00:03<00:21, 38.82it/s]\n",
      "Iteration:   2%|▏         | 24/1004 [00:00<00:23, 41.72it/s]]\n",
      "Iteration:   0%|          | 0/1004 [00:00<?, ?it/s]"
     ]
    },
    {
     "name": "stdout",
     "output_type": "stream",
     "text": [
      "{'Train':  best_epoch_indx:38\n",
      " auc:0.8275657865043984 \n",
      " apur:0.2144475999178444 \n",
      " f1:0.22680263904015266 \n",
      " precision:0.1322285426418421 \n",
      " recall:0.796447310196599 \n",
      ", 'Validation':  best_epoch_indx:38\n",
      " auc:0.8104925063908384 \n",
      " apur:0.1908646335200598 \n",
      " f1:0.22245762711864409 \n",
      " precision:0.12982689747003995 \n",
      " recall:0.7764505119453925 \n",
      "}\n",
      "=====Epoch 39\n",
      "Training...\n"
     ]
    },
    {
     "name": "stderr",
     "output_type": "stream",
     "text": [
      "Iteration: 100%|██████████| 1004/1004 [00:22<00:00, 43.66it/s]\n",
      "Iteration:  84%|████████▍ | 844/1004 [00:19<00:03, 43.97it/s]"
     ]
    },
    {
     "name": "stdout",
     "output_type": "stream",
     "text": [
      "Evaluating...\n"
     ]
    },
    {
     "name": "stderr",
     "output_type": "stream",
     "text": [
      "\r",
      "Iteration:  82%|████████▏ | 823/1004 [00:18<00:04, 44.60it/s]\r",
      "Iteration: 100%|█████████▉| 999/1004 [00:22<00:00, 43.95it/s]\r",
      "Iteration:   0%|          | 4/1004 [00:00<00:27, 35.89it/s]\r",
      "Iteration:  85%|████████▌ | 854/1004 [00:19<00:03, 44.29it/s]\r",
      "Iteration:  85%|████████▍ | 849/1004 [00:19<00:03, 42.84it/s]\r",
      "Iteration:  82%|████████▏ | 828/1004 [00:18<00:03, 44.51it/s]\r",
      "Iteration:  86%|████████▌ | 859/1004 [00:19<00:03, 44.44it/s]\r",
      "Iteration:   1%|          | 10/1004 [00:00<00:21, 46.23it/s]\r",
      "Iteration: 100%|██████████| 1004/1004 [00:23<00:00, 41.89it/s]\r",
      "Iteration: 100%|██████████| 1004/1004 [00:23<00:00, 43.58it/s]\n",
      "\r",
      "Iteration:   0%|          | 0/1004 [00:00<?, ?it/s]\r",
      "Iteration:  85%|████████▌ | 854/1004 [00:19<00:03, 41.97it/s]"
     ]
    },
    {
     "name": "stdout",
     "output_type": "stream",
     "text": [
      "Evaluating...\n"
     ]
    },
    {
     "name": "stderr",
     "output_type": "stream",
     "text": [
      "Iteration: 100%|██████████| 1004/1004 [00:23<00:00, 43.33it/s]\n",
      "Iteration: 100%|██████████| 1004/1004 [00:23<00:00, 43.45it/s]\n",
      "Iteration:   0%|          | 4/1004 [00:00<00:30, 33.00it/s]s]"
     ]
    },
    {
     "name": "stdout",
     "output_type": "stream",
     "text": [
      "Evaluating...\n",
      "Evaluating...\n"
     ]
    },
    {
     "name": "stderr",
     "output_type": "stream",
     "text": [
      "Iteration: 100%|██████████| 1004/1004 [00:23<00:00, 43.65it/s]\n",
      "Iteration:   0%|          | 0/1004 [00:00<?, ?it/s]"
     ]
    },
    {
     "name": "stdout",
     "output_type": "stream",
     "text": [
      "Evaluating...\n"
     ]
    },
    {
     "name": "stderr",
     "output_type": "stream",
     "text": [
      "Iteration:  98%|█████████▊| 986/1004 [00:20<00:00, 65.74it/s]]\n",
      "Iteration:   0%|          | 0/112 [00:00<?, ?it/s]\n",
      "Iteration: 100%|██████████| 112/112 [00:01<00:00, 67.67it/s]s]\n",
      "\n",
      "Iteration:   0%|          | 4/1004 [00:00<00:28, 34.67it/s]"
     ]
    },
    {
     "name": "stdout",
     "output_type": "stream",
     "text": [
      "{'Train':  best_epoch_indx:39\n",
      " auc:0.8310095496383211 \n",
      " apur:0.21419683636178546 \n",
      " f1:0.22952266851629988 \n",
      " precision:0.1338333701007427 \n",
      " recall:0.8053097345132744 \n",
      ", 'Validation':  best_epoch_indx:39\n",
      " auc:0.812880640969514 \n",
      " apur:0.19678037438401663 \n",
      " f1:0.2251666395708015 \n",
      " precision:0.13135432473444614 \n",
      " recall:0.7878270762229806 \n",
      "}\n",
      "=====Epoch 40\n",
      "Training...\n",
      "{'Train':  best_epoch_indx:39\n",
      " auc:0.8326779700337942 \n",
      " apur:0.2169074316009359 \n",
      " f1:0.225298512673696 \n",
      " precision:0.13069631790010938 \n",
      " recall:0.815802781289507 \n",
      ", 'Validation':  best_epoch_indx:39\n",
      " auc:0.8127812063953103 \n",
      " apur:0.19160049670300477 \n",
      " f1:0.21794972815380978 \n",
      " precision:0.12649775907802066 \n",
      " recall:0.7866894197952219 \n",
      "}\n",
      "=====Epoch 40\n",
      "Training...\n"
     ]
    },
    {
     "name": "stderr",
     "output_type": "stream",
     "text": [
      "Iteration:   1%|          | 9/1004 [00:00<00:26, 38.09it/s]\n",
      "Iteration:   0%|          | 0/112 [00:00<?, ?it/s]\n",
      "Iteration:   2%|▏         | 24/1004 [00:00<00:23, 41.57it/s]\n",
      "Iteration:  16%|█▋        | 164/1004 [00:03<00:18, 44.72it/s]\n",
      "Iteration:   0%|          | 4/1004 [00:00<00:29, 33.79it/s]s]"
     ]
    },
    {
     "name": "stdout",
     "output_type": "stream",
     "text": [
      "{'Train':  best_epoch_indx:39\n",
      " auc:0.8329360778150496 \n",
      " apur:0.2190941814219417 \n",
      " f1:0.2305502242193256 \n",
      " precision:0.13465155072941126 \n",
      " recall:0.8010745891276865 \n",
      ", 'Validation':  best_epoch_indx:39\n",
      " auc:0.8097262446477425 \n",
      " apur:0.19704210867321564 \n",
      " f1:0.2223684210526316 \n",
      " precision:0.12997500480676794 \n",
      " recall:0.7690557451649602 \n",
      "}\n",
      "=====Epoch 40\n",
      "Training...\n",
      "{'Train':  best_epoch_indx:39\n",
      " auc:0.831223551048935 \n",
      " apur:0.2187211508750795 \n",
      " f1:0.22816168058445713 \n",
      " precision:0.1330391847883181 \n",
      " recall:0.8005562930653012 \n",
      ", 'Validation':  best_epoch_indx:39\n",
      " auc:0.8133675760811775 \n",
      " apur:0.19705210144274043 \n",
      " f1:0.2247519921938527 \n",
      " precision:0.13111954459203037 \n",
      " recall:0.7861205915813424 \n",
      "}\n",
      "=====Epoch 40\n",
      "Training...\n"
     ]
    },
    {
     "name": "stderr",
     "output_type": "stream",
     "text": [
      "\r",
      "Iteration:  17%|█▋        | 173/1004 [00:03<00:18, 43.76it/s]\n",
      "\r",
      "Iteration:   0%|          | 0/1004 [00:00<?, ?it/s]\r",
      "Iteration:  17%|█▋        | 174/1004 [00:04<00:18, 43.80it/s]\r",
      "Iteration:   1%|          | 9/1004 [00:00<00:25, 38.47it/s]\r",
      "Iteration:  18%|█▊        | 178/1004 [00:04<00:18, 44.10it/s]\r",
      "Iteration:   0%|          | 4/1004 [00:00<00:28, 34.59it/s]\r",
      "Iteration:  18%|█▊        | 179/1004 [00:04<00:18, 44.44it/s]\r",
      "Iteration:   1%|▏         | 14/1004 [00:00<00:24, 39.96it/s]"
     ]
    },
    {
     "name": "stdout",
     "output_type": "stream",
     "text": [
      "{'Train':  best_epoch_indx:39\n",
      " auc:0.8328904021384647 \n",
      " apur:0.21897771065001553 \n",
      " f1:0.22937940457356537 \n",
      " precision:0.13370149535256579 \n",
      " recall:0.8065617295657121 \n",
      ", 'Validation':  best_epoch_indx:39\n",
      " auc:0.8122534996986276 \n",
      " apur:0.19630791693936828 \n",
      " f1:0.2226205997392438 \n",
      " precision:0.12992200875023777 \n",
      " recall:0.7770193401592719 \n",
      "}\n",
      "=====Epoch 40\n",
      "Training...\n"
     ]
    },
    {
     "name": "stderr",
     "output_type": "stream",
     "text": [
      "Iteration:  18%|█▊        | 183/1004 [00:04<00:19, 41.12it/s]\n",
      "Iteration: 100%|██████████| 1004/1004 [00:22<00:00, 43.76it/s]\n",
      "Iteration:  83%|████████▎ | 834/1004 [00:19<00:03, 44.33it/s]"
     ]
    },
    {
     "name": "stdout",
     "output_type": "stream",
     "text": [
      "Evaluating...\n",
      "Evaluating...\n"
     ]
    },
    {
     "name": "stderr",
     "output_type": "stream",
     "text": [
      "Iteration: 100%|██████████| 1004/1004 [00:23<00:00, 43.40it/s]\n",
      "Iteration: 100%|██████████| 1004/1004 [00:23<00:00, 43.25it/s]\n",
      "Iteration: 100%|██████████| 1004/1004 [00:23<00:00, 43.39it/s]\n",
      "Iteration:  99%|█████████▉| 993/1004 [00:22<00:00, 40.53it/s]"
     ]
    },
    {
     "name": "stdout",
     "output_type": "stream",
     "text": [
      "Evaluating...\n",
      "Evaluating...\n"
     ]
    },
    {
     "name": "stderr",
     "output_type": "stream",
     "text": [
      "Iteration: 100%|██████████| 1004/1004 [00:23<00:00, 43.25it/s]\n",
      "Iteration:   2%|▏         | 24/1004 [00:00<00:20, 48.18it/s]]"
     ]
    },
    {
     "name": "stdout",
     "output_type": "stream",
     "text": [
      "Evaluating...\n"
     ]
    },
    {
     "name": "stderr",
     "output_type": "stream",
     "text": [
      "Iteration:  97%|█████████▋| 970/1004 [00:20<00:00, 64.97it/s]]\n",
      "Iteration:  13%|█▎        | 15/112 [00:00<00:01, 66.07it/s]s]\n",
      "Iteration: 100%|██████████| 112/112 [00:01<00:00, 64.76it/s]s]\n",
      "Iteration:   0%|          | 0/1004 [00:00<?, ?it/s]"
     ]
    },
    {
     "name": "stdout",
     "output_type": "stream",
     "text": [
      "{'Train':  best_epoch_indx:40\n",
      " auc:0.8310909471321006 \n",
      " apur:0.21527018596564293 \n",
      " f1:0.2301351916883495 \n",
      " precision:0.13441305872600906 \n",
      " recall:0.7994943109987358 \n",
      ", 'Validation':  best_epoch_indx:40\n",
      " auc:0.8096281918570101 \n",
      " apur:0.18893330502384192 \n",
      " f1:0.22247838616714696 \n",
      " precision:0.13006642919033407 \n",
      " recall:0.7684869169510807 \n",
      "}\n",
      "=====Epoch 41\n",
      "Training...\n"
     ]
    },
    {
     "name": "stderr",
     "output_type": "stream",
     "text": [
      "Iteration:   3%|▎         | 34/1004 [00:00<00:23, 41.54it/s]\n",
      "Iteration:   4%|▍         | 39/1004 [00:00<00:22, 42.51it/s]"
     ]
    },
    {
     "name": "stdout",
     "output_type": "stream",
     "text": [
      "{'Train':  best_epoch_indx:40\n",
      " auc:0.8301760409062562 \n",
      " apur:0.21430270606704083 \n",
      " f1:0.23558205089136067 \n",
      " precision:0.13868457640041262 \n",
      " recall:0.781858407079646 \n",
      ", 'Validation':  best_epoch_indx:40\n",
      " auc:0.8124877478874684 \n",
      " apur:0.20083641534376645 \n",
      " f1:0.2307032590051458 \n",
      " precision:0.13583114522318723 \n",
      " recall:0.7650739476678043 \n",
      "}\n",
      "=====Epoch 41\n",
      "Training...\n"
     ]
    },
    {
     "name": "stderr",
     "output_type": "stream",
     "text": [
      "Iteration:   3%|▎         | 34/1004 [00:00<00:22, 43.52it/s]\n",
      "Iteration:   8%|▊         | 79/1004 [00:01<00:20, 45.10it/s]\n",
      "Iteration:   7%|▋         | 8/112 [00:00<00:01, 68.42it/s]s]\n",
      "Iteration:  19%|█▉        | 194/1004 [00:04<00:18, 44.44it/s]\n",
      "Iteration:   0%|          | 0/1004 [00:00<?, ?it/s]\n",
      "Iteration:   0%|          | 0/1004 [00:00<?, ?it/s]\n",
      "Iteration:   0%|          | 4/1004 [00:00<00:28, 35.33it/s]s]"
     ]
    },
    {
     "name": "stdout",
     "output_type": "stream",
     "text": [
      "{'Train':  best_epoch_indx:40\n",
      " auc:0.832369971354642 \n",
      " apur:0.21640867004487876 \n",
      " f1:0.2256452445759196 \n",
      " precision:0.13095419498369548 \n",
      " recall:0.8148546144121366 \n",
      ", 'Validation':  best_epoch_indx:40\n",
      " auc:0.8084517467932395 \n",
      " apur:0.18898220893051254 \n",
      " f1:0.21825083030207182 \n",
      " precision:0.12674504041146217 \n",
      " recall:0.7849829351535836 \n",
      "}\n",
      "=====Epoch 41\n",
      "Training...\n",
      "{'Train':  best_epoch_indx:40\n",
      " auc:0.8323631043420949 \n",
      " apur:0.214528546051224 \n",
      " f1:0.22558890329542194 \n",
      " precision:0.13079981432521343 \n",
      " recall:0.8193943991402743 \n",
      ", 'Validation':  best_epoch_indx:40\n",
      " auc:0.8119708621704366 \n",
      " apur:0.19142957615005926 \n",
      " f1:0.21856805664830845 \n",
      " precision:0.12682615047479912 \n",
      " recall:0.7901023890784983 \n",
      "}\n",
      "=====Epoch 41\n",
      "Training...\n",
      "{'Train':  best_epoch_indx:40\n",
      " auc:0.8317855890639129 \n",
      " apur:0.21873078734571066 \n",
      " f1:0.21685293422350477 \n",
      " precision:0.12447826005577704 \n",
      " recall:0.8408243251785827 \n",
      ", 'Validation':  best_epoch_indx:40\n",
      " auc:0.8112849681841663 \n",
      " apur:0.1928618793081181 \n",
      " f1:0.2116745283018868 \n",
      " precision:0.12159187129551227 \n",
      " recall:0.8168373151308305 \n",
      "}\n",
      "=====Epoch 41\n",
      "Training...\n"
     ]
    },
    {
     "name": "stderr",
     "output_type": "stream",
     "text": [
      "Iteration: 100%|██████████| 1004/1004 [00:22<00:00, 43.74it/s]\n",
      "Iteration:  80%|████████  | 808/1004 [00:18<00:04, 43.06it/s]"
     ]
    },
    {
     "name": "stdout",
     "output_type": "stream",
     "text": [
      "Evaluating...\n"
     ]
    },
    {
     "name": "stderr",
     "output_type": "stream",
     "text": [
      "Iteration: 100%|██████████| 1004/1004 [00:22<00:00, 43.67it/s]\n",
      "Iteration:   0%|          | 0/1004 [00:00<?, ?it/s]"
     ]
    },
    {
     "name": "stdout",
     "output_type": "stream",
     "text": [
      "Evaluating...\n"
     ]
    },
    {
     "name": "stderr",
     "output_type": "stream",
     "text": [
      "Iteration: 100%|██████████| 1004/1004 [00:23<00:00, 43.55it/s]\n",
      "Iteration: 100%|██████████| 1004/1004 [00:23<00:00, 43.64it/s]\n",
      "Iteration: 100%|██████████| 1004/1004 [00:23<00:00, 43.40it/s]\n",
      "Iteration:  23%|██▎       | 228/1004 [00:04<00:16, 46.58it/s]"
     ]
    },
    {
     "name": "stdout",
     "output_type": "stream",
     "text": [
      "Evaluating...\n",
      "Evaluating...\n",
      "Evaluating...\n"
     ]
    },
    {
     "name": "stderr",
     "output_type": "stream",
     "text": [
      "Iteration:  97%|█████████▋| 971/1004 [00:20<00:00, 62.37it/s]]\n",
      "Iteration:  31%|███▏      | 35/112 [00:00<00:01, 60.00it/s]s]]\n",
      "Iteration:  86%|████████▌ | 96/112 [00:01<00:00, 74.02it/s]]s]\n",
      "Iteration:   0%|          | 0/1004 [00:00<?, ?it/s]"
     ]
    },
    {
     "name": "stdout",
     "output_type": "stream",
     "text": [
      "{'Train':  best_epoch_indx:41\n",
      " auc:0.8313847350035193 \n",
      " apur:0.2148523526253892 \n",
      " f1:0.23342328630255949 \n",
      " precision:0.13694082587402628 \n",
      " recall:0.7900758533501896 \n",
      ", 'Validation':  best_epoch_indx:41\n",
      " auc:0.8116724687216264 \n",
      " apur:0.1897900923272895 \n",
      " f1:0.22610742203916956 \n",
      " precision:0.1326560804813098 \n",
      " recall:0.7650739476678043 \n",
      "}\n",
      "=====Epoch 42\n",
      "Training...\n"
     ]
    },
    {
     "name": "stderr",
     "output_type": "stream",
     "text": [
      "Iteration:   1%|▏         | 14/1004 [00:00<00:24, 40.57it/s]\n",
      "Iteration:   0%|          | 0/1004 [00:00<?, ?it/s]"
     ]
    },
    {
     "name": "stdout",
     "output_type": "stream",
     "text": [
      "{'Train':  best_epoch_indx:41\n",
      " auc:0.8284235789074375 \n",
      " apur:0.2095461169409782 \n",
      " f1:0.22823098901296993 \n",
      " precision:0.13309295798336995 \n",
      " recall:0.8003160556257901 \n",
      ", 'Validation':  best_epoch_indx:41\n",
      " auc:0.8121623199347712 \n",
      " apur:0.19501186642043677 \n",
      " f1:0.22478527607361962 \n",
      " precision:0.13126970478647176 \n",
      " recall:0.7815699658703071 \n",
      "}\n",
      "=====Epoch 42\n",
      "Training...\n"
     ]
    },
    {
     "name": "stderr",
     "output_type": "stream",
     "text": [
      "Iteration:   5%|▌         | 54/1004 [00:01<00:21, 43.53it/s]\n",
      "Iteration:   4%|▍         | 44/1004 [00:01<00:22, 41.87it/s]\n",
      "Iteration:   5%|▍         | 49/1004 [00:01<00:22, 42.09it/s]\n",
      "Iteration:  15%|█▍        | 149/1004 [00:03<00:18, 45.03it/s]\n",
      "Iteration:  15%|█▌        | 154/1004 [00:03<00:18, 45.07it/s]"
     ]
    },
    {
     "name": "stdout",
     "output_type": "stream",
     "text": [
      "{'Train':  best_epoch_indx:41\n",
      " auc:0.8283690882743391 \n",
      " apur:0.21179862092575533 \n",
      " f1:0.2257890882137531 \n",
      " precision:0.13120974689256265 \n",
      " recall:0.8087742588027056 \n",
      ", 'Validation':  best_epoch_indx:41\n",
      " auc:0.8092952448488009 \n",
      " apur:0.19279180370318424 \n",
      " f1:0.21907339595605793 \n",
      " precision:0.12736023694927803 \n",
      " recall:0.782707622298066 \n",
      "}\n",
      "=====Epoch 42\n",
      "Training...\n"
     ]
    },
    {
     "name": "stderr",
     "output_type": "stream",
     "text": [
      "\r",
      "Iteration:  18%|█▊        | 179/1004 [00:04<00:18, 45.38it/s]\r",
      "Iteration:  16%|█▌        | 159/1004 [00:03<00:18, 45.16it/s]\r",
      "Iteration:   1%|          | 9/1004 [00:00<00:24, 40.14it/s]\n",
      "\r",
      "Iteration:   0%|          | 0/1004 [00:00<?, ?it/s]\r",
      "Iteration:  18%|█▊        | 184/1004 [00:04<00:18, 44.75it/s]\n",
      "\r",
      "Iteration:   0%|          | 0/1004 [00:00<?, ?it/s]\r",
      "Iteration:  16%|█▋        | 164/1004 [00:03<00:18, 45.13it/s]\r",
      "Iteration:   1%|▏         | 14/1004 [00:00<00:24, 41.07it/s]\r",
      "Iteration:   0%|          | 4/1004 [00:00<00:28, 34.61it/s]"
     ]
    },
    {
     "name": "stdout",
     "output_type": "stream",
     "text": [
      "{'Train':  best_epoch_indx:41\n",
      " auc:0.8279318761692618 \n",
      " apur:0.21571745474178045 \n",
      " f1:0.22779466089203498 \n",
      " precision:0.13304707345329322 \n",
      " recall:0.7913268853909855 \n",
      ", 'Validation':  best_epoch_indx:41\n",
      " auc:0.8090451061500419 \n",
      " apur:0.195113940786208 \n",
      " f1:0.22185648452929557 \n",
      " precision:0.1296902058880123 \n",
      " recall:0.7667804323094426 \n",
      "}\n",
      "=====Epoch 42\n",
      "Training...\n",
      "{'Train':  best_epoch_indx:41\n",
      " auc:0.8300980795247874 \n",
      " apur:0.2158715384974007 \n",
      " f1:0.2268477969434266 \n",
      " precision:0.13210159258873738 \n",
      " recall:0.802212389380531 \n",
      ", 'Validation':  best_epoch_indx:41\n",
      " auc:0.8087516386695801 \n",
      " apur:0.1914842500707076 \n",
      " f1:0.21807354952925082 \n",
      " precision:0.12700346799137688 \n",
      " recall:0.7707622298065984 \n",
      "}\n",
      "=====Epoch 42\n",
      "Training...\n"
     ]
    },
    {
     "name": "stderr",
     "output_type": "stream",
     "text": [
      "Iteration: 100%|██████████| 1004/1004 [00:22<00:00, 43.77it/s]\n",
      "Iteration:  80%|████████  | 804/1004 [00:18<00:04, 41.09it/s]"
     ]
    },
    {
     "name": "stdout",
     "output_type": "stream",
     "text": [
      "Evaluating...\n"
     ]
    },
    {
     "name": "stderr",
     "output_type": "stream",
     "text": [
      "Iteration: 100%|██████████| 1004/1004 [00:23<00:00, 43.61it/s]\n",
      "Iteration:   0%|          | 5/1004 [00:00<00:22, 45.13it/s]s]"
     ]
    },
    {
     "name": "stdout",
     "output_type": "stream",
     "text": [
      "Evaluating...\n"
     ]
    },
    {
     "name": "stderr",
     "output_type": "stream",
     "text": [
      "Iteration: 100%|█████████▉| 999/1004 [00:22<00:00, 44.26it/s]]\n",
      "Iteration:  19%|█▊        | 186/1004 [00:03<00:16, 49.70it/s]"
     ]
    },
    {
     "name": "stdout",
     "output_type": "stream",
     "text": [
      "Evaluating...\n",
      "Evaluating...\n"
     ]
    },
    {
     "name": "stderr",
     "output_type": "stream",
     "text": [
      "\r",
      "Iteration:   0%|          | 4/1004 [00:00<00:28, 35.29it/s]\r",
      "Iteration: 100%|██████████| 1004/1004 [00:23<00:00, 42.09it/s]\r",
      "Iteration: 100%|██████████| 1004/1004 [00:23<00:00, 43.44it/s]\r",
      "Iteration: 100%|█████████▉| 999/1004 [00:23<00:00, 44.02it/s]\n",
      "\r",
      "Iteration:   0%|          | 0/1004 [00:00<?, ?it/s]\r",
      "Iteration:  19%|█▉        | 191/1004 [00:03<00:17, 47.43it/s]\r",
      "Iteration:  22%|██▏       | 220/1004 [00:04<00:16, 48.35it/s]\r",
      "Iteration:   1%|          | 9/1004 [00:00<00:24, 40.66it/s]\r",
      "Iteration:   0%|          | 4/1004 [00:00<00:27, 36.00it/s]\r",
      "Iteration:  20%|█▉        | 196/1004 [00:03<00:16, 47.84it/s]\r",
      "Iteration: 100%|██████████| 1004/1004 [00:23<00:00, 42.33it/s]\r",
      "Iteration: 100%|██████████| 1004/1004 [00:23<00:00, 43.29it/s]\n",
      "\r",
      "Iteration:   0%|          | 0/1004 [00:00<?, ?it/s]\r",
      "Iteration:  22%|██▏       | 225/1004 [00:04<00:16, 47.02it/s]"
     ]
    },
    {
     "name": "stdout",
     "output_type": "stream",
     "text": [
      "Evaluating...\n"
     ]
    },
    {
     "name": "stderr",
     "output_type": "stream",
     "text": [
      "Iteration:  97%|█████████▋| 978/1004 [00:20<00:00, 58.99it/s]]\n",
      "Iteration:  99%|█████████▊| 990/1004 [00:20<00:00, 55.43it/s]\n",
      "Iteration: 100%|██████████| 112/112 [00:01<00:00, 60.68it/s]s]\n",
      "Iteration:   0%|          | 4/1004 [00:00<00:26, 37.39it/s]"
     ]
    },
    {
     "name": "stdout",
     "output_type": "stream",
     "text": [
      "{'Train':  best_epoch_indx:42\n",
      " auc:0.8286780474758703 \n",
      " apur:0.20676064207126243 \n",
      " f1:0.20984811480938756 \n",
      " precision:0.11959278537279404 \n",
      " recall:0.8554361567635904 \n",
      ", 'Validation':  best_epoch_indx:42\n",
      " auc:0.8068742166454159 \n",
      " apur:0.18212131980034163 \n",
      " f1:0.20334222721527873 \n",
      " precision:0.11598846523550144 \n",
      " recall:0.8236632536973834 \n",
      "}\n",
      "=====Epoch 43\n",
      "Training...\n"
     ]
    },
    {
     "name": "stderr",
     "output_type": "stream",
     "text": [
      "\r",
      "Iteration:   1%|          | 9/1004 [00:00<00:24, 39.87it/s]\n",
      "\r",
      "Iteration:   0%|          | 0/1004 [00:00<?, ?it/s]\r",
      "Iteration:   0%|          | 4/1004 [00:00<00:26, 38.23it/s]\r",
      "Iteration:   1%|▏         | 14/1004 [00:00<00:24, 40.78it/s]"
     ]
    },
    {
     "name": "stdout",
     "output_type": "stream",
     "text": [
      "{'Train':  best_epoch_indx:42\n",
      " auc:0.8244903621175966 \n",
      " apur:0.2022051831921669 \n",
      " f1:0.22908821023117734 \n",
      " precision:0.1339627291918943 \n",
      " recall:0.7902022756005057 \n",
      ", 'Validation':  best_epoch_indx:42\n",
      " auc:0.8091023155747956 \n",
      " apur:0.18804844210045638 \n",
      " f1:0.2243765017814235 \n",
      " precision:0.1313160702162739 \n",
      " recall:0.770193401592719 \n",
      "}\n",
      "=====Epoch 43\n",
      "Training...\n"
     ]
    },
    {
     "name": "stderr",
     "output_type": "stream",
     "text": [
      "Iteration:   5%|▌         | 54/1004 [00:01<00:21, 44.26it/s]\n",
      "Iteration:   0%|          | 0/112 [00:00<?, ?it/s]\n",
      "Iteration:   6%|▋         | 64/1004 [00:01<00:21, 43.86it/s]\n",
      "Iteration:  17%|█▋        | 174/1004 [00:03<00:18, 44.78it/s]\n",
      "Iteration:   0%|          | 0/1004 [00:00<?, ?it/s]\n",
      "Iteration:   0%|          | 0/1004 [00:00<?, ?it/s]"
     ]
    },
    {
     "name": "stdout",
     "output_type": "stream",
     "text": [
      "{'Train':  best_epoch_indx:42\n",
      " auc:0.827113305322597 \n",
      " apur:0.20996067080747496 \n",
      " f1:0.22184253218735978 \n",
      " precision:0.12845650327287264 \n",
      " recall:0.812567166066123 \n",
      ", 'Validation':  best_epoch_indx:42\n",
      " auc:0.8046529548524324 \n",
      " apur:0.1895499464062196 \n",
      " f1:0.2128682170542636 \n",
      " precision:0.12322742775085263 \n",
      " recall:0.7810011376564278 \n",
      "}\n",
      "=====Epoch 43\n",
      "Training...\n",
      "{'Train':  best_epoch_indx:42\n",
      " auc:0.8236069728979301 \n",
      " apur:0.20054196816478287 \n",
      " f1:0.21882151029748284 \n",
      " precision:0.12620699694308313 \n",
      " recall:0.8221126493457235 \n",
      ", 'Validation':  best_epoch_indx:42\n",
      " auc:0.8070797703956804 \n",
      " apur:0.18080226026779497 \n",
      " f1:0.21317711503347536 \n",
      " precision:0.12304584577551379 \n",
      " recall:0.7969283276450512 \n",
      "}\n",
      "=====Epoch 43\n",
      "Training...\n",
      "{'Train':  best_epoch_indx:42\n",
      " auc:0.827266882929387 \n",
      " apur:0.20934531899162068 \n",
      " f1:0.2253968253968254 \n",
      " precision:0.13096946095511375 \n",
      " recall:0.8078381795195955 \n",
      ", 'Validation':  best_epoch_indx:42\n",
      " auc:0.8056845100493704 \n",
      " apur:0.18591708630920467 \n",
      " f1:0.21699761715647337 \n",
      " precision:0.12610782865583456 \n",
      " recall:0.7770193401592719 \n",
      "}\n",
      "=====Epoch 43\n",
      "Training...\n"
     ]
    },
    {
     "name": "stderr",
     "output_type": "stream",
     "text": [
      "Iteration:   0%|          | 4/1004 [00:00<00:30, 33.30it/s]s]\n",
      "Iteration: 100%|██████████| 1004/1004 [00:22<00:00, 43.92it/s]\n",
      "Iteration:   0%|          | 5/1004 [00:00<00:22, 43.57it/s]s]"
     ]
    },
    {
     "name": "stdout",
     "output_type": "stream",
     "text": [
      "Evaluating...\n"
     ]
    },
    {
     "name": "stderr",
     "output_type": "stream",
     "text": [
      "\r",
      "Iteration:  82%|████████▏ | 819/1004 [00:18<00:04, 43.55it/s]\r",
      "Iteration: 100%|█████████▉| 999/1004 [00:22<00:00, 44.25it/s]\r",
      "Iteration:  82%|████████▏ | 828/1004 [00:19<00:04, 43.58it/s]\r",
      "Iteration:  83%|████████▎ | 833/1004 [00:19<00:03, 44.52it/s]\r",
      "Iteration:   1%|          | 11/1004 [00:00<00:20, 48.46it/s]\r",
      "Iteration:  82%|████████▏ | 824/1004 [00:18<00:04, 43.82it/s]\r",
      "Iteration:  83%|████████▎ | 833/1004 [00:19<00:03, 43.27it/s]\r",
      "Iteration: 100%|██████████| 1004/1004 [00:22<00:00, 40.34it/s]\r",
      "Iteration: 100%|██████████| 1004/1004 [00:22<00:00, 43.73it/s]\n",
      "\r",
      "Iteration:   0%|          | 0/1004 [00:00<?, ?it/s]\r",
      "Iteration:  83%|████████▎ | 838/1004 [00:19<00:03, 44.30it/s]\r",
      "Iteration:   2%|▏         | 17/1004 [00:00<00:20, 48.88it/s]"
     ]
    },
    {
     "name": "stdout",
     "output_type": "stream",
     "text": [
      "Evaluating...\n"
     ]
    },
    {
     "name": "stderr",
     "output_type": "stream",
     "text": [
      "Iteration: 100%|██████████| 1004/1004 [00:22<00:00, 43.75it/s]\n",
      "Iteration:  99%|█████████▉| 994/1004 [00:22<00:00, 44.61it/s]"
     ]
    },
    {
     "name": "stdout",
     "output_type": "stream",
     "text": [
      "Evaluating...\n",
      "Evaluating...\n"
     ]
    },
    {
     "name": "stderr",
     "output_type": "stream",
     "text": [
      "\r",
      "Iteration: 100%|█████████▉| 1003/1004 [00:23<00:00, 44.16it/s]\r",
      "Iteration:  18%|█▊        | 182/1004 [00:03<00:17, 46.53it/s]\r",
      "Iteration:   0%|          | 3/1004 [00:00<00:36, 27.44it/s]\r",
      "Iteration:  20%|██        | 202/1004 [00:04<00:15, 50.29it/s]\r",
      "Iteration: 100%|██████████| 1004/1004 [00:23<00:00, 43.53it/s]\n",
      "\r",
      "Iteration:   0%|          | 0/1004 [00:00<?, ?it/s]\r",
      "Iteration: 100%|█████████▉| 999/1004 [00:22<00:00, 42.59it/s]\r",
      "Iteration:  19%|█▊        | 188/1004 [00:03<00:16, 49.74it/s]\r",
      "Iteration:   1%|          | 9/1004 [00:00<00:21, 45.39it/s]\r",
      "Iteration:   0%|          | 4/1004 [00:00<00:25, 39.80it/s]\r",
      "Iteration:  21%|██        | 208/1004 [00:04<00:15, 50.29it/s]"
     ]
    },
    {
     "name": "stdout",
     "output_type": "stream",
     "text": [
      "Evaluating...\n"
     ]
    },
    {
     "name": "stderr",
     "output_type": "stream",
     "text": [
      "Iteration: 100%|██████████| 1004/1004 [00:23<00:00, 43.48it/s]\n",
      "Iteration:  96%|█████████▋| 968/1004 [00:20<00:00, 60.46it/s]]\n",
      "Iteration:  97%|█████████▋| 971/1004 [00:20<00:00, 59.15it/s]\n",
      "Iteration: 100%|██████████| 112/112 [00:01<00:00, 65.72it/s]s]\n",
      "Iteration:   0%|          | 4/1004 [00:00<00:27, 36.05it/s]\n",
      "Iteration:   0%|          | 0/1004 [00:00<?, ?it/s]"
     ]
    },
    {
     "name": "stdout",
     "output_type": "stream",
     "text": [
      "{'Train':  best_epoch_indx:43\n",
      " auc:0.8224868525180474 \n",
      " apur:0.19865022833261575 \n",
      " f1:0.22530886238663145 \n",
      " precision:0.1311795767327762 \n",
      " recall:0.797724399494311 \n",
      ", 'Validation':  best_epoch_indx:43\n",
      " auc:0.8075308419454335 \n",
      " apur:0.18259735031795626 \n",
      " f1:0.21889586351199097 \n",
      " precision:0.1274840644919385 \n",
      " recall:0.7736063708759955 \n",
      "}\n",
      "=====Epoch 44\n",
      "Training...\n",
      "{'Train':  best_epoch_indx:43\n",
      " auc:0.8232937726932149 \n",
      " apur:0.20328842191637772 \n",
      " f1:0.21598140894571313 \n",
      " precision:0.12411404411140158 \n",
      " recall:0.8312895069532238 \n",
      ", 'Validation':  best_epoch_indx:43\n",
      " auc:0.8081933353388933 \n",
      " apur:0.1977818115881638 \n",
      " f1:0.21220865704772476 \n",
      " precision:0.12196989027813218 \n",
      " recall:0.8156996587030717 \n",
      "}\n",
      "=====Epoch 44\n",
      "Training...\n"
     ]
    },
    {
     "name": "stderr",
     "output_type": "stream",
     "text": [
      "Iteration:   6%|▌         | 59/1004 [00:01<00:21, 44.76it/s]\n",
      "Iteration:   6%|▋         | 7/112 [00:00<00:01, 63.29it/s]s]\n",
      "Iteration:   7%|▋         | 69/1004 [00:01<00:20, 44.79it/s]\n",
      "Iteration:  17%|█▋        | 174/1004 [00:04<00:19, 43.43it/s]\n",
      "Iteration:  17%|█▋        | 174/1004 [00:04<00:19, 43.42it/s]\n",
      "Iteration:   0%|          | 0/1004 [00:00<?, ?it/s]\n",
      "Iteration:   0%|          | 0/1004 [00:00<?, ?it/s]"
     ]
    },
    {
     "name": "stdout",
     "output_type": "stream",
     "text": [
      "{'Train':  best_epoch_indx:43\n",
      " auc:0.8244868818634401 \n",
      " apur:0.21095315655239288 \n",
      " f1:0.21732681978532103 \n",
      " precision:0.12526805896331214 \n",
      " recall:0.8197736898666161 \n",
      ", 'Validation':  best_epoch_indx:43\n",
      " auc:0.8078684906064924 \n",
      " apur:0.19301746957691232 \n",
      " f1:0.21307249014255383 \n",
      " precision:0.12292213473315836 \n",
      " recall:0.7992036405005688 \n",
      "}\n",
      "=====Epoch 44\n",
      "Training...\n",
      "{'Train':  best_epoch_indx:43\n",
      " auc:0.8241340968151338 \n",
      " apur:0.20174263364436526 \n",
      " f1:0.225519874242084 \n",
      " precision:0.13143814459975917 \n",
      " recall:0.7934892541087232 \n",
      ", 'Validation':  best_epoch_indx:43\n",
      " auc:0.8057560397755524 \n",
      " apur:0.17948546522837178 \n",
      " f1:0.22004410683655964 \n",
      " precision:0.1284692417739628 \n",
      " recall:0.7662116040955631 \n",
      "}\n",
      "=====Epoch 44\n",
      "Training...\n",
      "{'Train':  best_epoch_indx:43\n",
      " auc:0.8221482276284796 \n",
      " apur:0.2043041438526186 \n",
      " f1:0.22477871363624186 \n",
      " precision:0.13088204701477013 \n",
      " recall:0.7954358682596877 \n",
      ", 'Validation':  best_epoch_indx:43\n",
      " auc:0.8005479094477453 \n",
      " apur:0.18156404636101148 \n",
      " f1:0.21576830249396622 \n",
      " precision:0.12565592203898052 \n",
      " recall:0.7627986348122867 \n",
      "}\n",
      "=====Epoch 44\n",
      "Training...\n"
     ]
    },
    {
     "name": "stderr",
     "output_type": "stream",
     "text": [
      "Iteration: 100%|██████████| 1004/1004 [00:22<00:00, 43.72it/s]\n",
      "Iteration: 100%|██████████| 1004/1004 [00:22<00:00, 43.74it/s]\n",
      "Iteration:  82%|████████▏ | 823/1004 [00:18<00:04, 44.47it/s]"
     ]
    },
    {
     "name": "stdout",
     "output_type": "stream",
     "text": [
      "Evaluating...\n",
      "Evaluating...\n"
     ]
    },
    {
     "name": "stderr",
     "output_type": "stream",
     "text": [
      "Iteration: 100%|██████████| 1004/1004 [00:23<00:00, 43.52it/s]\n",
      "Iteration:  99%|█████████▉| 998/1004 [00:22<00:00, 44.51it/s]"
     ]
    },
    {
     "name": "stdout",
     "output_type": "stream",
     "text": [
      "Evaluating...\n"
     ]
    },
    {
     "name": "stderr",
     "output_type": "stream",
     "text": [
      "\r",
      "Iteration:  21%|██        | 207/1004 [00:04<00:17, 45.04it/s]\r",
      "Iteration:   0%|          | 5/1004 [00:00<00:22, 45.29it/s]\r",
      "Iteration: 100%|█████████▉| 999/1004 [00:23<00:00, 44.00it/s]\r",
      "Iteration:  22%|██▏       | 220/1004 [00:04<00:17, 45.79it/s]\r",
      "Iteration: 100%|█████████▉| 1003/1004 [00:23<00:00, 43.84it/s]\r",
      "Iteration:  21%|██        | 213/1004 [00:04<00:16, 48.90it/s]\r",
      "Iteration: 100%|██████████| 1004/1004 [00:23<00:00, 43.44it/s]\n",
      "\r",
      "Iteration:   0%|          | 0/1004 [00:00<?, ?it/s]\r",
      "Iteration:   1%|          | 11/1004 [00:00<00:19, 51.23it/s]\r",
      "Iteration:  22%|██▏       | 225/1004 [00:04<00:16, 46.36it/s]\r",
      "Iteration: 100%|██████████| 1004/1004 [00:23<00:00, 40.82it/s]\r",
      "Iteration: 100%|██████████| 1004/1004 [00:23<00:00, 43.34it/s]\n",
      "\r",
      "Iteration:   0%|          | 0/1004 [00:00<?, ?it/s]"
     ]
    },
    {
     "name": "stdout",
     "output_type": "stream",
     "text": [
      "Evaluating...\n",
      "Evaluating...\n"
     ]
    },
    {
     "name": "stderr",
     "output_type": "stream",
     "text": [
      "Iteration:  96%|█████████▌| 964/1004 [00:19<00:00, 59.03it/s]]\n",
      "Iteration:  98%|█████████▊| 982/1004 [00:20<00:00, 56.00it/s]\n",
      "Iteration: 100%|██████████| 112/112 [00:01<00:00, 64.87it/s]s]\n",
      "Iteration:   0%|          | 4/1004 [00:00<00:26, 37.09it/s]"
     ]
    },
    {
     "name": "stdout",
     "output_type": "stream",
     "text": [
      "{'Train':  best_epoch_indx:44\n",
      " auc:0.8215881575001209 \n",
      " apur:0.19821657501595707 \n",
      " f1:0.2170703190245532 \n",
      " precision:0.12505773672055429 \n",
      " recall:0.8214917825537295 \n",
      ", 'Validation':  best_epoch_indx:44\n",
      " auc:0.8010103672522054 \n",
      " apur:0.17132292881508154 \n",
      " f1:0.20978179082016554 \n",
      " precision:0.12088102670828997 \n",
      " recall:0.7929465301478953 \n",
      "}\n",
      "=====Epoch 45\n",
      "Training...\n"
     ]
    },
    {
     "name": "stderr",
     "output_type": "stream",
     "text": [
      "\r",
      "Iteration:   1%|          | 9/1004 [00:00<00:25, 39.58it/s]\n",
      "\r",
      "Iteration:   0%|          | 0/1004 [00:00<?, ?it/s]\r",
      "Iteration:   0%|          | 4/1004 [00:00<00:26, 37.17it/s]\r",
      "Iteration:   1%|▏         | 14/1004 [00:00<00:24, 40.71it/s]"
     ]
    },
    {
     "name": "stdout",
     "output_type": "stream",
     "text": [
      "{'Train':  best_epoch_indx:44\n",
      " auc:0.8175202376973179 \n",
      " apur:0.19815559638522354 \n",
      " f1:0.23252014918763592 \n",
      " precision:0.1376971222770027 \n",
      " recall:0.7467762326169406 \n",
      ", 'Validation':  best_epoch_indx:44\n",
      " auc:0.8017870462070545 \n",
      " apur:0.18918351560005647 \n",
      " f1:0.22764805114090383 \n",
      " precision:0.13487638085218306 \n",
      " recall:0.7292377701934016 \n",
      "}\n",
      "=====Epoch 45\n",
      "Training...\n"
     ]
    },
    {
     "name": "stderr",
     "output_type": "stream",
     "text": [
      "Iteration:   5%|▌         | 54/1004 [00:01<00:21, 44.65it/s]\n",
      "Iteration:   5%|▌         | 6/112 [00:00<00:01, 58.87it/s]s]\n",
      "Iteration:   7%|▋         | 74/1004 [00:01<00:20, 44.47it/s]\n",
      "Iteration:  18%|█▊        | 179/1004 [00:04<00:18, 44.10it/s]\n",
      "Iteration:   0%|          | 0/1004 [00:00<?, ?it/s]\n",
      "Iteration:   0%|          | 4/1004 [00:00<00:28, 35.57it/s]s]\n",
      "Iteration:   0%|          | 4/1004 [00:00<00:29, 34.10it/s]"
     ]
    },
    {
     "name": "stdout",
     "output_type": "stream",
     "text": [
      "{'Train':  best_epoch_indx:44\n",
      " auc:0.8187995443326013 \n",
      " apur:0.20133354537430473 \n",
      " f1:0.22068279574583177 \n",
      " precision:0.12800866414299886 \n",
      " recall:0.7994816360073329 \n",
      ", 'Validation':  best_epoch_indx:44\n",
      " auc:0.8054120654174339 \n",
      " apur:0.19487481037317222 \n",
      " f1:0.2142407057340895 \n",
      " precision:0.1243371731577985 \n",
      " recall:0.7736063708759955 \n",
      "}\n",
      "=====Epoch 45\n",
      "Training...\n",
      "{'Train':  best_epoch_indx:44\n",
      " auc:0.8205628450383999 \n",
      " apur:0.19934965457621154 \n",
      " f1:0.22052670017613954 \n",
      " precision:0.12760774019052165 \n",
      " recall:0.8112396485239269 \n",
      ", 'Validation':  best_epoch_indx:44\n",
      " auc:0.7999892651575007 \n",
      " apur:0.17509900772317707 \n",
      " f1:0.21218226906385615 \n",
      " precision:0.12282433159877983 \n",
      " recall:0.7787258248009101 \n",
      "}\n",
      "=====Epoch 45\n",
      "Training...\n",
      "{'Train':  best_epoch_indx:44\n",
      " auc:0.820949493159675 \n",
      " apur:0.20223699588902314 \n",
      " f1:0.2281356843051322 \n",
      " precision:0.13365976527299772 \n",
      " recall:0.7781921618204805 \n",
      ", 'Validation':  best_epoch_indx:44\n",
      " auc:0.8041245303461544 \n",
      " apur:0.18214675705520908 \n",
      " f1:0.22417251755265796 \n",
      " precision:0.13139329805996472 \n",
      " recall:0.7627986348122867 \n",
      "}\n",
      "=====Epoch 45\n",
      "Training...\n"
     ]
    },
    {
     "name": "stderr",
     "output_type": "stream",
     "text": [
      "Iteration: 100%|██████████| 1004/1004 [00:23<00:00, 43.64it/s]\n",
      "Iteration:  81%|████████  | 809/1004 [00:18<00:04, 44.32it/s]"
     ]
    },
    {
     "name": "stdout",
     "output_type": "stream",
     "text": [
      "Evaluating...\n"
     ]
    },
    {
     "name": "stderr",
     "output_type": "stream",
     "text": [
      "Iteration: 100%|██████████| 1004/1004 [00:23<00:00, 43.46it/s]\n",
      "Iteration:  83%|████████▎ | 833/1004 [00:19<00:03, 44.03it/s]"
     ]
    },
    {
     "name": "stdout",
     "output_type": "stream",
     "text": [
      "Evaluating...\n"
     ]
    },
    {
     "name": "stderr",
     "output_type": "stream",
     "text": [
      "Iteration: 100%|██████████| 1004/1004 [00:23<00:00, 43.50it/s]\n",
      "Iteration:  99%|█████████▉| 996/1004 [00:23<00:00, 40.95it/s]"
     ]
    },
    {
     "name": "stdout",
     "output_type": "stream",
     "text": [
      "Evaluating...\n",
      "Evaluating...\n"
     ]
    },
    {
     "name": "stderr",
     "output_type": "stream",
     "text": [
      "\r",
      "Iteration:  21%|██        | 209/1004 [00:04<00:16, 48.85it/s]\r",
      "Iteration:   0%|          | 4/1004 [00:00<00:26, 38.02it/s]\r",
      "Iteration: 100%|██████████| 1004/1004 [00:23<00:00, 40.24it/s]\r",
      "Iteration: 100%|██████████| 1004/1004 [00:23<00:00, 43.27it/s]\n",
      "\r",
      "Iteration:   0%|          | 0/1004 [00:00<?, ?it/s]\r",
      "Iteration:  23%|██▎       | 229/1004 [00:04<00:14, 52.12it/s]\r",
      "Iteration: 100%|█████████▉| 1001/1004 [00:23<00:00, 40.40it/s]\r",
      "Iteration:  21%|██▏       | 214/1004 [00:04<00:16, 48.95it/s]\r",
      "Iteration:   1%|          | 10/1004 [00:00<00:21, 46.57it/s]\r",
      "Iteration:   0%|          | 5/1004 [00:00<00:20, 48.73it/s]\r",
      "Iteration: 100%|██████████| 1004/1004 [00:23<00:00, 43.19it/s]\n",
      "\r",
      "Iteration:   0%|          | 0/1004 [00:00<?, ?it/s]"
     ]
    },
    {
     "name": "stdout",
     "output_type": "stream",
     "text": [
      "Evaluating...\n"
     ]
    },
    {
     "name": "stderr",
     "output_type": "stream",
     "text": [
      "Iteration:  94%|█████████▎| 939/1004 [00:19<00:01, 59.15it/s]]\n",
      "Iteration:  24%|██▍       | 27/112 [00:00<00:01, 54.65it/s]s]\n",
      "Iteration:  96%|█████████▋| 108/112 [00:01<00:00, 75.21it/s]s]\n",
      "Iteration: 100%|██████████| 112/112 [00:01<00:00, 65.08it/s]"
     ]
    },
    {
     "name": "stdout",
     "output_type": "stream",
     "text": [
      "{'Train':  best_epoch_indx:45\n",
      " auc:0.8249119650888019 \n",
      " apur:0.20871510057518647 \n",
      " f1:0.21617320380623986 \n",
      " precision:0.12439899259711516 \n",
      " recall:0.8242730720606827 \n",
      ", 'Validation':  best_epoch_indx:45\n",
      " auc:0.8065317855779275 \n",
      " apur:0.1876609328890918 \n",
      " f1:0.2104399701715138 \n",
      " precision:0.12109509097150704 \n",
      " recall:0.8026166097838453 \n",
      "}\n",
      "=====Epoch 46\n",
      "Training...\n"
     ]
    },
    {
     "name": "stderr",
     "output_type": "stream",
     "text": [
      "\r",
      "Iteration:   0%|          | 4/1004 [00:00<00:28, 35.22it/s]\r",
      "Iteration:   1%|          | 9/1004 [00:00<00:25, 38.91it/s]"
     ]
    },
    {
     "name": "stdout",
     "output_type": "stream",
     "text": [
      "{'Train':  best_epoch_indx:45\n",
      " auc:0.8204784030225233 \n",
      " apur:0.20230434948616416 \n",
      " f1:0.21669615196139502 \n",
      " precision:0.12473823616596066 \n",
      " recall:0.8245891276864729 \n",
      ", 'Validation':  best_epoch_indx:45\n",
      " auc:0.8040313496880508 \n",
      " apur:0.19022089304171924 \n",
      " f1:0.21054201148139864 \n",
      " precision:0.12114972114972115 \n",
      " recall:0.8031854379977247 \n",
      "}\n",
      "=====Epoch 46\n",
      "Training...\n"
     ]
    },
    {
     "name": "stderr",
     "output_type": "stream",
     "text": [
      "\n",
      "Iteration:   8%|▊         | 79/1004 [00:01<00:20, 45.29it/s]\n",
      "Iteration:   9%|▉         | 89/1004 [00:02<00:20, 45.22it/s]\n",
      "Iteration:   6%|▋         | 7/112 [00:00<00:01, 61.66it/s]s]\n",
      "Iteration:  18%|█▊        | 179/1004 [00:04<00:18, 44.17it/s]\n",
      "Iteration:   0%|          | 4/1004 [00:00<00:27, 36.27it/s]s]"
     ]
    },
    {
     "name": "stdout",
     "output_type": "stream",
     "text": [
      "{'Train':  best_epoch_indx:45\n",
      " auc:0.8239768992213485 \n",
      " apur:0.2097432931703678 \n",
      " f1:0.22901001930324477 \n",
      " precision:0.13398801776898173 \n",
      " recall:0.7874707630065112 \n",
      ", 'Validation':  best_epoch_indx:45\n",
      " auc:0.8066934811619125 \n",
      " apur:0.18750782509727365 \n",
      " f1:0.22270306258322237 \n",
      " precision:0.13043478260869565 \n",
      " recall:0.7610921501706485 \n",
      "}\n",
      "=====Epoch 46\n",
      "Training...\n"
     ]
    },
    {
     "name": "stderr",
     "output_type": "stream",
     "text": [
      "\r",
      "Iteration:  20%|██        | 204/1004 [00:04<00:17, 45.16it/s]\r",
      "Iteration:  19%|█▉        | 189/1004 [00:04<00:18, 44.62it/s]\n",
      "\r",
      "Iteration:   0%|          | 0/1004 [00:00<?, ?it/s]\r",
      "Iteration:   1%|          | 9/1004 [00:00<00:25, 39.25it/s]\n",
      "\r",
      "Iteration:   0%|          | 0/1004 [00:00<?, ?it/s]\r",
      "Iteration:  21%|██        | 209/1004 [00:04<00:17, 44.29it/s]\r",
      "Iteration:  19%|█▉        | 194/1004 [00:04<00:18, 44.07it/s]\r",
      "Iteration:   0%|          | 4/1004 [00:00<00:27, 36.28it/s]\r",
      "Iteration:   1%|▏         | 14/1004 [00:00<00:24, 40.10it/s]"
     ]
    },
    {
     "name": "stdout",
     "output_type": "stream",
     "text": [
      "{'Train':  best_epoch_indx:45\n",
      " auc:0.822877077950851 \n",
      " apur:0.20616533407505058 \n",
      " f1:0.22534117285790412 \n",
      " precision:0.1314527771045616 \n",
      " recall:0.788558786346397 \n",
      ", 'Validation':  best_epoch_indx:45\n",
      " auc:0.8019876470711107 \n",
      " apur:0.1858800565500673 \n",
      " f1:0.21834488381573583 \n",
      " precision:0.12743885029028268 \n",
      " recall:0.7616609783845278 \n",
      "}\n",
      "=====Epoch 46\n",
      "Training...\n",
      "{'Train':  best_epoch_indx:45\n",
      " auc:0.8235793337329043 \n",
      " apur:0.20536495551132194 \n",
      " f1:0.22355321020228672 \n",
      " precision:0.12984133795118563 \n",
      " recall:0.8034009735128643 \n",
      ", 'Validation':  best_epoch_indx:45\n",
      " auc:0.8062665100693254 \n",
      " apur:0.187007830949788 \n",
      " f1:0.21844197138314786 \n",
      " precision:0.12696359268157456 \n",
      " recall:0.7815699658703071 \n",
      "}\n",
      "=====Epoch 46\n",
      "Training...\n"
     ]
    },
    {
     "name": "stderr",
     "output_type": "stream",
     "text": [
      "Iteration: 100%|██████████| 1004/1004 [00:22<00:00, 44.02it/s]\n",
      "Iteration:  78%|███████▊  | 784/1004 [00:18<00:04, 44.53it/s]"
     ]
    },
    {
     "name": "stdout",
     "output_type": "stream",
     "text": [
      "Evaluating...\n"
     ]
    },
    {
     "name": "stderr",
     "output_type": "stream",
     "text": [
      "Iteration: 100%|██████████| 1004/1004 [00:22<00:00, 43.70it/s]\n",
      "Iteration:   0%|          | 0/1004 [00:00<?, ?it/s]"
     ]
    },
    {
     "name": "stdout",
     "output_type": "stream",
     "text": [
      "Evaluating...\n"
     ]
    },
    {
     "name": "stderr",
     "output_type": "stream",
     "text": [
      "Iteration: 100%|██████████| 1004/1004 [00:23<00:00, 43.65it/s]\n",
      "Iteration:  22%|██▏       | 221/1004 [00:04<00:15, 51.57it/s]"
     ]
    },
    {
     "name": "stdout",
     "output_type": "stream",
     "text": [
      "Evaluating...\n"
     ]
    },
    {
     "name": "stderr",
     "output_type": "stream",
     "text": [
      "\r",
      "Iteration:  23%|██▎       | 231/1004 [00:04<00:14, 52.00it/s]\r",
      "Iteration:   0%|          | 4/1004 [00:00<00:59, 16.78it/s]\r",
      "Iteration: 100%|█████████▉| 999/1004 [00:22<00:00, 43.36it/s]\r",
      "Iteration: 100%|█████████▉| 999/1004 [00:23<00:00, 44.29it/s]\r",
      "Iteration:  23%|██▎       | 227/1004 [00:04<00:15, 50.05it/s]\r",
      "Iteration:   1%|          | 10/1004 [00:00<00:31, 31.42it/s]\r",
      "Iteration:  24%|██▎       | 237/1004 [00:04<00:15, 50.53it/s]\r",
      "Iteration: 100%|██████████| 1004/1004 [00:23<00:00, 40.79it/s]\r",
      "Iteration: 100%|██████████| 1004/1004 [00:23<00:00, 43.48it/s]\n",
      "\r",
      "Iteration:   0%|          | 0/1004 [00:00<?, ?it/s]\r",
      "Iteration: 100%|██████████| 1004/1004 [00:23<00:00, 42.66it/s]\r",
      "Iteration: 100%|██████████| 1004/1004 [00:23<00:00, 43.32it/s]\n",
      "\r",
      "Iteration:   0%|          | 0/1004 [00:00<?, ?it/s]"
     ]
    },
    {
     "name": "stdout",
     "output_type": "stream",
     "text": [
      "Evaluating...\n",
      "Evaluating...\n"
     ]
    },
    {
     "name": "stderr",
     "output_type": "stream",
     "text": [
      "Iteration:  96%|█████████▌| 964/1004 [00:19<00:00, 64.83it/s]]\n",
      "Iteration:  95%|█████████▍| 950/1004 [00:19<00:00, 62.70it/s]\n",
      "Iteration: 100%|██████████| 112/112 [00:01<00:00, 61.74it/s]s]"
     ]
    },
    {
     "name": "stdout",
     "output_type": "stream",
     "text": [
      "{'Train':  best_epoch_indx:46\n",
      " auc:0.82728040978048 \n",
      " apur:0.20866876132060325 \n",
      " f1:0.23315208124135578 \n",
      " precision:0.137126429096744 \n",
      " recall:0.7778761061946903 \n",
      ", 'Validation':  best_epoch_indx:46\n",
      " auc:0.8113260268930237 \n",
      " apur:0.19809538472452554 \n",
      " f1:0.2276839051032599 \n",
      " precision:0.13393574297188754 \n",
      " recall:0.7588168373151308 \n",
      "}\n",
      "=====Epoch 47\n",
      "Training...\n",
      "{'Train':  best_epoch_indx:46\n",
      " auc:0.828993676117739 \n",
      " apur:0.21353649137490235 \n",
      " f1:0.22785675109468703 \n",
      " precision:0.1328210987536557 \n",
      " recall:0.8009481668773705 \n",
      ", 'Validation':  best_epoch_indx:46\n",
      " auc:0.8095334050999367 \n",
      " apur:0.18938016635636268 \n",
      " f1:0.21937368164854779 \n",
      " precision:0.1279333838001514 \n",
      " recall:0.7690557451649602 \n",
      "}\n",
      "=====Epoch 47\n",
      "Training...\n"
     ]
    },
    {
     "name": "stderr",
     "output_type": "stream",
     "text": [
      "\n",
      "Iteration:   0%|          | 0/1004 [00:00<?, ?it/s]\n",
      "Iteration:   6%|▋         | 64/1004 [00:01<00:21, 44.40it/s]\n",
      "Iteration:   6%|▋         | 64/1004 [00:01<00:21, 44.08it/s]\n",
      "Iteration:   9%|▉         | 89/1004 [00:02<00:20, 44.76it/s]\n",
      "Iteration:  17%|█▋        | 174/1004 [00:04<00:18, 44.65it/s]\n",
      "Iteration:  18%|█▊        | 184/1004 [00:04<00:18, 44.90it/s]\n",
      "Iteration:   0%|          | 0/1004 [00:00<?, ?it/s]"
     ]
    },
    {
     "name": "stdout",
     "output_type": "stream",
     "text": [
      "{'Train':  best_epoch_indx:46\n",
      " auc:0.8301075476463998 \n",
      " apur:0.21555698252224365 \n",
      " f1:0.22384601365951873 \n",
      " precision:0.1297328290347242 \n",
      " recall:0.8152854162715721 \n",
      ", 'Validation':  best_epoch_indx:46\n",
      " auc:0.810892703185517 \n",
      " apur:0.1904897817387899 \n",
      " f1:0.21907297212652677 \n",
      " precision:0.12702015616488105 \n",
      " recall:0.7957906712172924 \n",
      "}\n",
      "=====Epoch 47\n",
      "Training...\n",
      "{'Train':  best_epoch_indx:46\n",
      " auc:0.8271025093190849 \n",
      " apur:0.21359450381024575 \n",
      " f1:0.2271338724168913 \n",
      " precision:0.13238235879389618 \n",
      " recall:0.7990391301599342 \n",
      ", 'Validation':  best_epoch_indx:46\n",
      " auc:0.8081357939272015 \n",
      " apur:0.19116478125354264 \n",
      " f1:0.219555412371134 \n",
      " precision:0.12788515668981046 \n",
      " recall:0.7753128555176336 \n",
      "}\n",
      "=====Epoch 47\n",
      "Training...\n"
     ]
    },
    {
     "name": "stderr",
     "output_type": "stream",
     "text": [
      "Iteration:   1%|▏         | 14/1004 [00:00<00:25, 39.54it/s]]\n",
      "Iteration:   2%|▏         | 19/1004 [00:00<00:33, 29.81it/s]]"
     ]
    },
    {
     "name": "stdout",
     "output_type": "stream",
     "text": [
      "{'Train':  best_epoch_indx:46\n",
      " auc:0.8276951429776463 \n",
      " apur:0.21149884396801938 \n",
      " f1:0.21983364672799036 \n",
      " precision:0.12692435593982904 \n",
      " recall:0.8202907711757269 \n",
      ", 'Validation':  best_epoch_indx:46\n",
      " auc:0.8077263014982624 \n",
      " apur:0.18870493244054054 \n",
      " f1:0.21440073613986657 \n",
      " precision:0.12390321722946025 \n",
      " recall:0.7952218430034129 \n",
      "}\n",
      "=====Epoch 47\n",
      "Training...\n"
     ]
    },
    {
     "name": "stderr",
     "output_type": "stream",
     "text": [
      "Iteration: 100%|██████████| 1004/1004 [00:23<00:00, 43.58it/s]\n",
      "Iteration: 100%|██████████| 1004/1004 [00:23<00:00, 43.62it/s]\n",
      "Iteration:  82%|████████▏ | 824/1004 [00:18<00:04, 43.17it/s]"
     ]
    },
    {
     "name": "stdout",
     "output_type": "stream",
     "text": [
      "Evaluating...\n",
      "Evaluating...\n"
     ]
    },
    {
     "name": "stderr",
     "output_type": "stream",
     "text": [
      "Iteration: 100%|██████████| 1004/1004 [00:23<00:00, 43.41it/s]\n",
      "Iteration:  99%|█████████▉| 998/1004 [00:23<00:00, 44.11it/s]"
     ]
    },
    {
     "name": "stdout",
     "output_type": "stream",
     "text": [
      "Evaluating...\n"
     ]
    },
    {
     "name": "stderr",
     "output_type": "stream",
     "text": [
      "\r",
      "Iteration:  21%|██        | 206/1004 [00:04<00:16, 47.40it/s]\r",
      "Iteration:  98%|█████████▊| 983/1004 [00:22<00:00, 43.65it/s]\r",
      "Iteration:  21%|██        | 207/1004 [00:04<00:16, 47.25it/s]\r",
      "Iteration: 100%|█████████▉| 1003/1004 [00:23<00:00, 44.33it/s]\r",
      "Iteration:   1%|          | 10/1004 [00:00<00:21, 46.61it/s]\r",
      "Iteration: 100%|██████████| 1004/1004 [00:23<00:00, 43.19it/s]\n",
      "\r",
      "Iteration:   0%|          | 0/1004 [00:00<?, ?it/s]\r",
      "Iteration:  98%|█████████▊| 988/1004 [00:22<00:00, 43.15it/s]\r",
      "Iteration:  21%|██        | 212/1004 [00:04<00:16, 47.33it/s]\r",
      "Iteration:  21%|██        | 211/1004 [00:04<00:17, 44.76it/s]\r",
      "Iteration:   2%|▏         | 16/1004 [00:00<00:20, 47.93it/s]"
     ]
    },
    {
     "name": "stdout",
     "output_type": "stream",
     "text": [
      "Evaluating...\n"
     ]
    },
    {
     "name": "stderr",
     "output_type": "stream",
     "text": [
      "Iteration: 100%|██████████| 1004/1004 [00:23<00:00, 43.09it/s]\n",
      "Iteration:  23%|██▎       | 232/1004 [00:04<00:16, 47.36it/s]"
     ]
    },
    {
     "name": "stdout",
     "output_type": "stream",
     "text": [
      "Evaluating...\n"
     ]
    },
    {
     "name": "stderr",
     "output_type": "stream",
     "text": [
      "Iteration:  98%|█████████▊| 980/1004 [00:20<00:00, 60.35it/s]]\n",
      "Iteration:   6%|▋         | 7/112 [00:00<00:01, 69.15it/s]/s]\n",
      "Iteration: 100%|██████████| 112/112 [00:01<00:00, 58.18it/s]s]\n",
      "Iteration:   0%|          | 4/1004 [00:00<00:26, 38.22it/s]"
     ]
    },
    {
     "name": "stdout",
     "output_type": "stream",
     "text": [
      "{'Train':  best_epoch_indx:47\n",
      " auc:0.8316762338467074 \n",
      " apur:0.21356080844258518 \n",
      " f1:0.23448340345956056 \n",
      " precision:0.13759464501261934 \n",
      " recall:0.7926042983565107 \n",
      ", 'Validation':  best_epoch_indx:47\n",
      " auc:0.8137270910170364 \n",
      " apur:0.2006751315411671 \n",
      " f1:0.22877418264763033 \n",
      " precision:0.13433872407976982 \n",
      " recall:0.770193401592719 \n",
      "}\n",
      "=====Epoch 48\n",
      "Training...\n"
     ]
    },
    {
     "name": "stderr",
     "output_type": "stream",
     "text": [
      "Iteration:   4%|▍         | 39/1004 [00:00<00:21, 43.96it/s]\n",
      "Iteration:   0%|          | 4/1004 [00:00<00:27, 35.78it/s]]"
     ]
    },
    {
     "name": "stdout",
     "output_type": "stream",
     "text": [
      "{'Train':  best_epoch_indx:47\n",
      " auc:0.8351686513368286 \n",
      " apur:0.22154694384825246 \n",
      " f1:0.2154523911764238 \n",
      " precision:0.1232284825440719 \n",
      " recall:0.8563211125158028 \n",
      ", 'Validation':  best_epoch_indx:47\n",
      " auc:0.8120560661694113 \n",
      " apur:0.19526880583217754 \n",
      " f1:0.2065458712311108 \n",
      " precision:0.11814829987709954 \n",
      " recall:0.820250284414107 \n",
      "}\n",
      "=====Epoch 48\n",
      "Training...\n"
     ]
    },
    {
     "name": "stderr",
     "output_type": "stream",
     "text": [
      "Iteration:   1%|▏         | 14/1004 [00:00<00:24, 40.37it/s]\n",
      "Iteration:   3%|▎         | 29/1004 [00:00<00:22, 42.98it/s]\n",
      "Iteration:   5%|▌         | 6/112 [00:00<00:01, 56.22it/s]s]\n",
      "Iteration:  18%|█▊        | 179/1004 [00:04<00:18, 45.10it/s]\n",
      "Iteration:  14%|█▍        | 144/1004 [00:03<00:19, 44.85it/s]"
     ]
    },
    {
     "name": "stdout",
     "output_type": "stream",
     "text": [
      "{'Train':  best_epoch_indx:47\n",
      " auc:0.831254939564934 \n",
      " apur:0.22001994865241878 \n",
      " f1:0.2334537606155867 \n",
      " precision:0.13707491239283273 \n",
      " recall:0.7863328908274859 \n",
      ", 'Validation':  best_epoch_indx:47\n",
      " auc:0.8122817544788267 \n",
      " apur:0.19411115045866595 \n",
      " f1:0.22600119037496813 \n",
      " precision:0.13286014195741278 \n",
      " recall:0.7559726962457338 \n",
      "}\n",
      "=====Epoch 48\n",
      "Training...\n"
     ]
    },
    {
     "name": "stderr",
     "output_type": "stream",
     "text": [
      "\r",
      "Iteration:  19%|█▉        | 189/1004 [00:04<00:18, 44.60it/s]\r",
      "Iteration:   1%|          | 9/1004 [00:00<00:25, 39.33it/s]\r",
      "Iteration:  15%|█▍        | 149/1004 [00:03<00:18, 45.08it/s]\n",
      "\r",
      "Iteration:   0%|          | 0/1004 [00:00<?, ?it/s]\r",
      "Iteration:  19%|█▉        | 194/1004 [00:04<00:18, 44.32it/s]\r",
      "Iteration:   1%|▏         | 14/1004 [00:00<00:24, 40.31it/s]\r",
      "Iteration:  15%|█▌        | 154/1004 [00:03<00:19, 43.96it/s]"
     ]
    },
    {
     "name": "stdout",
     "output_type": "stream",
     "text": [
      "{'Train':  best_epoch_indx:47\n",
      " auc:0.8322416448707277 \n",
      " apur:0.21733336994171515 \n",
      " f1:0.2300287694284112 \n",
      " precision:0.13422372380298792 \n",
      " recall:0.8036538339970921 \n",
      ", 'Validation':  best_epoch_indx:47\n",
      " auc:0.8106219633513697 \n",
      " apur:0.19014584689254405 \n",
      " f1:0.22066492829204695 \n",
      " precision:0.1287806733878638 \n",
      " recall:0.770193401592719 \n",
      "}\n",
      "=====Epoch 48\n",
      "Training...\n",
      "{'Train':  best_epoch_indx:47\n",
      " auc:0.8317034061444947 \n",
      " apur:0.21782098797083344 \n",
      " f1:0.22578552391639783 \n",
      " precision:0.13107161760514638 \n",
      " recall:0.8139696586599241 \n",
      ", 'Validation':  best_epoch_indx:47\n",
      " auc:0.8105906399351501 \n",
      " apur:0.19380533028031194 \n",
      " f1:0.21714285714285714 \n",
      " precision:0.1261759822910902 \n",
      " recall:0.7781569965870307 \n",
      "}\n",
      "=====Epoch 48\n",
      "Training...\n"
     ]
    },
    {
     "name": "stderr",
     "output_type": "stream",
     "text": [
      "Iteration:  20%|█▉        | 199/1004 [00:04<00:18, 44.65it/s]\n",
      "Iteration: 100%|██████████| 1004/1004 [00:22<00:00, 43.87it/s]\n",
      "Iteration:   0%|          | 0/1004 [00:00<?, ?it/s]"
     ]
    },
    {
     "name": "stdout",
     "output_type": "stream",
     "text": [
      "Evaluating...\n"
     ]
    },
    {
     "name": "stderr",
     "output_type": "stream",
     "text": [
      "Iteration:   4%|▍         | 42/1004 [00:00<00:20, 47.50it/s]s]\n",
      "Iteration:   0%|          | 0/1004 [00:00<?, ?it/s]"
     ]
    },
    {
     "name": "stdout",
     "output_type": "stream",
     "text": [
      "Evaluating...\n"
     ]
    },
    {
     "name": "stderr",
     "output_type": "stream",
     "text": [
      "Iteration: 100%|██████████| 1004/1004 [00:22<00:00, 43.82it/s]\n",
      "Iteration:  98%|█████████▊| 982/1004 [00:22<00:00, 44.55it/s]"
     ]
    },
    {
     "name": "stdout",
     "output_type": "stream",
     "text": [
      "Evaluating...\n"
     ]
    },
    {
     "name": "stderr",
     "output_type": "stream",
     "text": [
      "Iteration: 100%|██████████| 1004/1004 [00:23<00:00, 43.33it/s]\n",
      "Iteration: 100%|██████████| 1004/1004 [00:23<00:00, 43.33it/s]\n",
      "Iteration:   0%|          | 0/1004 [00:00<?, ?it/s]"
     ]
    },
    {
     "name": "stdout",
     "output_type": "stream",
     "text": [
      "Evaluating...\n",
      "Evaluating...\n"
     ]
    },
    {
     "name": "stderr",
     "output_type": "stream",
     "text": [
      "Iteration:  96%|█████████▌| 960/1004 [00:19<00:00, 60.45it/s]]\n",
      "Iteration: 100%|██████████| 1004/1004 [00:20<00:00, 48.69it/s]\n",
      "Iteration: 100%|██████████| 112/112 [00:01<00:00, 78.08it/s]"
     ]
    },
    {
     "name": "stdout",
     "output_type": "stream",
     "text": [
      "{'Train':  best_epoch_indx:48\n",
      " auc:0.8354075862878114 \n",
      " apur:0.220280104889182 \n",
      " f1:0.22661542865569617 \n",
      " precision:0.13133049799414834 \n",
      " recall:0.8256637168141593 \n",
      ", 'Validation':  best_epoch_indx:48\n",
      " auc:0.8182202919604393 \n",
      " apur:0.20906733131723387 \n",
      " f1:0.2200889721376727 \n",
      " precision:0.12754409769335143 \n",
      " recall:0.8020477815699659 \n",
      "}\n",
      "=====Epoch 49\n",
      "Training...\n"
     ]
    },
    {
     "name": "stderr",
     "output_type": "stream",
     "text": [
      "\n",
      "Iteration:   2%|▏         | 24/1004 [00:00<00:22, 42.69it/s]\n",
      "Iteration:   0%|          | 0/112 [00:00<?, ?it/s]\n",
      "Iteration:   0%|          | 0/1004 [00:00<?, ?it/s]"
     ]
    },
    {
     "name": "stdout",
     "output_type": "stream",
     "text": [
      "{'Train':  best_epoch_indx:48\n",
      " auc:0.8373017583118116 \n",
      " apur:0.226916525489127 \n",
      " f1:0.2287177862272919 \n",
      " precision:0.13285819460918646 \n",
      " recall:0.8213021491782554 \n",
      ", 'Validation':  best_epoch_indx:48\n",
      " auc:0.816446467806132 \n",
      " apur:0.19929263650284873 \n",
      " f1:0.219539316918189 \n",
      " precision:0.12758493353028064 \n",
      " recall:0.7861205915813424 \n",
      "}\n",
      "=====Epoch 49\n",
      "Training...\n"
     ]
    },
    {
     "name": "stderr",
     "output_type": "stream",
     "text": [
      "Iteration:   4%|▍         | 44/1004 [00:01<00:21, 43.74it/s]\n",
      "Iteration:   0%|          | 0/112 [00:00<?, ?it/s]\n",
      "Iteration:  16%|█▋        | 164/1004 [00:03<00:20, 41.37it/s]"
     ]
    },
    {
     "name": "stdout",
     "output_type": "stream",
     "text": [
      "{'Train':  best_epoch_indx:48\n",
      " auc:0.8359061837301938 \n",
      " apur:0.22788654395389063 \n",
      " f1:0.22729313577899268 \n",
      " precision:0.13203436637005217 \n",
      " recall:0.8160439977242556 \n",
      ", 'Validation':  best_epoch_indx:48\n",
      " auc:0.8138639144985407 \n",
      " apur:0.2018242742845524 \n",
      " f1:0.22104009527590313 \n",
      " precision:0.12844883270277752 \n",
      " recall:0.7918088737201365 \n",
      "}\n",
      "=====Epoch 49\n",
      "Training...\n"
     ]
    },
    {
     "name": "stderr",
     "output_type": "stream",
     "text": [
      "\n",
      "Iteration:  16%|█▌        | 159/1004 [00:03<00:21, 38.60it/s]\n",
      "Iteration:  18%|█▊        | 184/1004 [00:04<00:19, 41.89it/s]"
     ]
    },
    {
     "name": "stdout",
     "output_type": "stream",
     "text": [
      "{'Train':  best_epoch_indx:48\n",
      " auc:0.8369058779223146 \n",
      " apur:0.22540635920252633 \n",
      " f1:0.2267039986000525 \n",
      " precision:0.13156157650475775 \n",
      " recall:0.8189518932928757 \n",
      ", 'Validation':  best_epoch_indx:48\n",
      " auc:0.814130571790614 \n",
      " apur:0.19823398518563498 \n",
      " f1:0.21669570727071127 \n",
      " precision:0.1258741258741259 \n",
      " recall:0.7781569965870307 \n",
      "}\n",
      "=====Epoch 49\n",
      "Training...\n",
      "{'Train':  best_epoch_indx:48\n",
      " auc:0.8373776051666796 \n",
      " apur:0.2247117571061284 \n",
      " f1:0.2276364525822909 \n",
      " precision:0.1320703077484491 \n",
      " recall:0.8235777496839444 \n",
      ", 'Validation':  best_epoch_indx:48\n",
      " auc:0.8126926107459972 \n",
      " apur:0.1984496930380827 \n",
      " f1:0.21859474804826118 \n",
      " precision:0.1268882175226586 \n",
      " recall:0.78839590443686 \n",
      "}\n",
      "=====Epoch 49\n",
      "Training...\n"
     ]
    },
    {
     "name": "stderr",
     "output_type": "stream",
     "text": [
      "Iteration:  19%|█▉        | 189/1004 [00:04<00:19, 42.51it/s]\n",
      "Iteration: 100%|██████████| 1004/1004 [00:23<00:00, 43.30it/s]\n",
      "Iteration:  80%|████████  | 808/1004 [00:18<00:04, 44.50it/s]"
     ]
    },
    {
     "name": "stdout",
     "output_type": "stream",
     "text": [
      "Evaluating...\n"
     ]
    },
    {
     "name": "stderr",
     "output_type": "stream",
     "text": [
      "Iteration: 100%|██████████| 1004/1004 [00:23<00:00, 43.48it/s]\n",
      "Iteration:   3%|▎         | 33/1004 [00:00<00:20, 48.02it/s]]"
     ]
    },
    {
     "name": "stdout",
     "output_type": "stream",
     "text": [
      "Evaluating...\n"
     ]
    },
    {
     "name": "stderr",
     "output_type": "stream",
     "text": [
      "Iteration: 100%|██████████| 1004/1004 [00:23<00:00, 43.35it/s]\n",
      "Iteration:  99%|█████████▉| 992/1004 [00:22<00:00, 43.61it/s]"
     ]
    },
    {
     "name": "stdout",
     "output_type": "stream",
     "text": [
      "Evaluating...\n"
     ]
    },
    {
     "name": "stderr",
     "output_type": "stream",
     "text": [
      "Iteration:  18%|█▊        | 183/1004 [00:03<00:18, 44.53it/s]]\n",
      "Iteration:  19%|█▊        | 188/1004 [00:03<00:18, 43.73it/s]"
     ]
    },
    {
     "name": "stdout",
     "output_type": "stream",
     "text": [
      "Evaluating...\n"
     ]
    },
    {
     "name": "stderr",
     "output_type": "stream",
     "text": [
      "\r",
      "Iteration:  99%|█████████▉| 998/1004 [00:23<00:00, 40.99it/s]\r",
      "Iteration:  22%|██▏       | 218/1004 [00:04<00:17, 45.83it/s]\r",
      "Iteration:   3%|▎         | 31/1004 [00:00<00:19, 50.32it/s]\r",
      "Iteration:   1%|          | 10/1004 [00:00<00:21, 45.35it/s]\r",
      "Iteration:  19%|█▉        | 193/1004 [00:04<00:17, 45.23it/s]\r",
      "Iteration: 100%|█████████▉| 1003/1004 [00:23<00:00, 42.01it/s]\r",
      "Iteration:  22%|██▏       | 223/1004 [00:04<00:16, 46.49it/s]\r",
      "Iteration:   1%|▏         | 15/1004 [00:00<00:21, 46.36it/s]\r",
      "Iteration:  20%|█▉        | 198/1004 [00:04<00:17, 45.05it/s]\r",
      "Iteration:   4%|▎         | 37/1004 [00:00<00:19, 49.77it/s]\r",
      "Iteration: 100%|██████████| 1004/1004 [00:23<00:00, 42.93it/s]\n",
      "\r",
      "Iteration:   0%|          | 0/1004 [00:00<?, ?it/s]"
     ]
    },
    {
     "name": "stdout",
     "output_type": "stream",
     "text": [
      "Evaluating...\n"
     ]
    },
    {
     "name": "stderr",
     "output_type": "stream",
     "text": [
      "Iteration:  98%|█████████▊| 987/1004 [00:20<00:00, 59.04it/s]]\n",
      "Iteration: 100%|█████████▉| 1000/1004 [00:20<00:00, 63.15it/s]\n",
      "Iteration:  86%|████████▌ | 96/112 [00:01<00:00, 73.40it/s]]s]\n",
      "Iteration:   0%|          | 0/1004 [00:00<?, ?it/s]"
     ]
    },
    {
     "name": "stdout",
     "output_type": "stream",
     "text": [
      "{'Train':  best_epoch_indx:49\n",
      " auc:0.839289258784053 \n",
      " apur:0.227497591874612 \n",
      " f1:0.2324743846001477 \n",
      " precision:0.1355437498687609 \n",
      " recall:0.816055625790139 \n",
      ", 'Validation':  best_epoch_indx:49\n",
      " auc:0.8174521459671554 \n",
      " apur:0.2068499650650984 \n",
      " f1:0.22698939528859385 \n",
      " precision:0.13232656913638507 \n",
      " recall:0.7974971558589306 \n",
      "}\n",
      "=====Epoch 50\n",
      "Training...\n"
     ]
    },
    {
     "name": "stderr",
     "output_type": "stream",
     "text": [
      "Iteration:   4%|▍         | 44/1004 [00:01<00:21, 44.49it/s]\n",
      "Iteration:   5%|▍         | 49/1004 [00:01<00:21, 44.49it/s]"
     ]
    },
    {
     "name": "stdout",
     "output_type": "stream",
     "text": [
      "{'Train':  best_epoch_indx:49\n",
      " auc:0.8431407053831992 \n",
      " apur:0.2347033195230502 \n",
      " f1:0.23069346981128758 \n",
      " precision:0.13398639400192036 \n",
      " recall:0.8291403286978508 \n",
      ", 'Validation':  best_epoch_indx:49\n",
      " auc:0.8190445078557441 \n",
      " apur:0.19942622991256745 \n",
      " f1:0.22160312027381995 \n",
      " precision:0.12882924571957427 \n",
      " recall:0.7918088737201365 \n",
      "}\n",
      "=====Epoch 50\n",
      "Training...\n"
     ]
    },
    {
     "name": "stderr",
     "output_type": "stream",
     "text": [
      "Iteration:   1%|          | 9/1004 [00:00<00:26, 38.16it/s]]\n",
      "Iteration:   0%|          | 0/112 [00:00<?, ?it/s]\n",
      "Iteration:  12%|█▎        | 14/112 [00:00<00:01, 58.01it/s]]\n",
      "Iteration:  16%|█▌        | 158/1004 [00:03<00:19, 42.95it/s]\n",
      "Iteration:   0%|          | 0/1004 [00:00<?, ?it/s]\n",
      "Iteration:  21%|██        | 209/1004 [00:04<00:24, 32.42it/s]"
     ]
    },
    {
     "name": "stdout",
     "output_type": "stream",
     "text": [
      "{'Train':  best_epoch_indx:49\n",
      " auc:0.8421810191861814 \n",
      " apur:0.23288200847387913 \n",
      " f1:0.23234175799597406 \n",
      " precision:0.13532243945141523 \n",
      " recall:0.8208483469245844 \n",
      ", 'Validation':  best_epoch_indx:49\n",
      " auc:0.8172536716140257 \n",
      " apur:0.20228003137295886 \n",
      " f1:0.22267075730663655 \n",
      " precision:0.12975159954836282 \n",
      " recall:0.7844141069397043 \n",
      "}\n",
      "=====Epoch 50\n",
      "Training...\n",
      "{'Train':  best_epoch_indx:49\n",
      " auc:0.8411378242130376 \n",
      " apur:0.23660861665967703 \n",
      " f1:0.23138295512029747 \n",
      " precision:0.13458600041296717 \n",
      " recall:0.8240723180984891 \n",
      ", 'Validation':  best_epoch_indx:49\n",
      " auc:0.817480957049791 \n",
      " apur:0.20591504738241975 \n",
      " f1:0.2233389168062535 \n",
      " precision:0.12988217830967622 \n",
      " recall:0.7963594994311718 \n",
      "}\n",
      "=====Epoch 50\n",
      "Training...\n"
     ]
    },
    {
     "name": "stderr",
     "output_type": "stream",
     "text": [
      "Iteration:  22%|██▏       | 224/1004 [00:05<00:20, 38.99it/s]\n",
      "Iteration:   0%|          | 4/1004 [00:00<00:27, 35.88it/s]s]"
     ]
    },
    {
     "name": "stdout",
     "output_type": "stream",
     "text": [
      "{'Train':  best_epoch_indx:49\n",
      " auc:0.8416520065674551 \n",
      " apur:0.23163521254895852 \n",
      " f1:0.2309827284459137 \n",
      " precision:0.13426639537990423 \n",
      " recall:0.8259165613147914 \n",
      ", 'Validation':  best_epoch_indx:49\n",
      " auc:0.8157537366834656 \n",
      " apur:0.20297846843806902 \n",
      " f1:0.22080204505512063 \n",
      " precision:0.12843866171003718 \n",
      " recall:0.7861205915813424 \n",
      "}\n",
      "=====Epoch 50\n",
      "Training...\n"
     ]
    },
    {
     "name": "stderr",
     "output_type": "stream",
     "text": [
      "Iteration:  96%|█████████▌| 963/1004 [00:22<00:00, 45.00it/s]]\n",
      "Iteration:  80%|████████  | 804/1004 [00:18<00:04, 44.44it/s]"
     ]
    },
    {
     "name": "stdout",
     "output_type": "stream",
     "text": [
      "Evaluating...\n"
     ]
    },
    {
     "name": "stderr",
     "output_type": "stream",
     "text": [
      "Iteration:  84%|████████▍ | 847/1004 [00:19<00:03, 43.38it/s]]\n",
      "Iteration:  85%|████████▌ | 854/1004 [00:19<00:03, 43.55it/s]"
     ]
    },
    {
     "name": "stdout",
     "output_type": "stream",
     "text": [
      "Evaluating...\n"
     ]
    },
    {
     "name": "stderr",
     "output_type": "stream",
     "text": [
      "Iteration: 100%|██████████| 1004/1004 [00:23<00:00, 43.20it/s]\n",
      "Iteration: 100%|██████████| 1004/1004 [00:23<00:00, 43.14it/s]\n",
      "Iteration:  24%|██▎       | 237/1004 [00:04<00:18, 41.26it/s]"
     ]
    },
    {
     "name": "stdout",
     "output_type": "stream",
     "text": [
      "Evaluating...\n",
      "Evaluating...\n"
     ]
    },
    {
     "name": "stderr",
     "output_type": "stream",
     "text": [
      "Iteration: 100%|██████████| 1004/1004 [00:23<00:00, 43.05it/s]\n",
      "Iteration:   4%|▎         | 36/1004 [00:00<00:19, 49.57it/s]]"
     ]
    },
    {
     "name": "stdout",
     "output_type": "stream",
     "text": [
      "Evaluating...\n"
     ]
    },
    {
     "name": "stderr",
     "output_type": "stream",
     "text": [
      "Iteration:  95%|█████████▍| 951/1004 [00:19<00:00, 60.52it/s]]\n",
      "Iteration:  97%|█████████▋| 969/1004 [00:20<00:00, 50.62it/s]\n",
      "Iteration:  66%|██████▌   | 74/112 [00:01<00:00, 72.11it/s]]s]\n",
      "Iteration:   0%|          | 0/1004 [00:00<?, ?it/s]"
     ]
    },
    {
     "name": "stdout",
     "output_type": "stream",
     "text": [
      "{'Train':  best_epoch_indx:50\n",
      " auc:0.8389486937936989 \n",
      " apur:0.22716382314036104 \n",
      " f1:0.23453407131839213 \n",
      " precision:0.13692128403432566 \n",
      " recall:0.8169405815423515 \n",
      ", 'Validation':  best_epoch_indx:50\n",
      " auc:0.8169140130860998 \n",
      " apur:0.20837319064256324 \n",
      " f1:0.2261409094619969 \n",
      " precision:0.13201792012200933 \n",
      " recall:0.7878270762229806 \n",
      "}\n",
      "=====Epoch 51\n",
      "Training...\n"
     ]
    },
    {
     "name": "stderr",
     "output_type": "stream",
     "text": [
      "Iteration:   3%|▎         | 29/1004 [00:00<00:22, 43.20it/s]\n",
      "Iteration:   0%|          | 4/1004 [00:00<00:26, 37.42it/s]]"
     ]
    },
    {
     "name": "stdout",
     "output_type": "stream",
     "text": [
      "{'Train':  best_epoch_indx:50\n",
      " auc:0.8422231532751516 \n",
      " apur:0.23323024009025106 \n",
      " f1:0.22753800333981788 \n",
      " precision:0.13170376865894734 \n",
      " recall:0.8354614412136536 \n",
      ", 'Validation':  best_epoch_indx:50\n",
      " auc:0.8168380688309056 \n",
      " apur:0.19861569164056386 \n",
      " f1:0.21813668450857188 \n",
      " precision:0.12629120632354263 \n",
      " recall:0.7997724687144482 \n",
      "}\n",
      "=====Epoch 51\n",
      "Training...\n"
     ]
    },
    {
     "name": "stderr",
     "output_type": "stream",
     "text": [
      "Iteration:   9%|▉         | 89/1004 [00:02<00:20, 45.09it/s]\n",
      "Iteration:   6%|▌         | 59/1004 [00:01<00:21, 44.98it/s]\n",
      "Iteration:   8%|▊         | 79/1004 [00:01<00:20, 44.50it/s]]\n",
      "Iteration:  17%|█▋        | 174/1004 [00:03<00:18, 44.51it/s]\n",
      "Iteration:   0%|          | 0/1004 [00:00<?, ?it/s]"
     ]
    },
    {
     "name": "stdout",
     "output_type": "stream",
     "text": [
      "{'Train':  best_epoch_indx:50\n",
      " auc:0.8418263914113358 \n",
      " apur:0.23712216353157725 \n",
      " f1:0.22437894065199687 \n",
      " precision:0.1293711032800217 \n",
      " recall:0.844743662684114 \n",
      ", 'Validation':  best_epoch_indx:50\n",
      " auc:0.8172017201445582 \n",
      " apur:0.20550591375867303 \n",
      " f1:0.21820929353985646 \n",
      " precision:0.12581685109349133 \n",
      " recall:0.8213879408418657 \n",
      "}\n",
      "=====Epoch 51\n",
      "Training...\n"
     ]
    },
    {
     "name": "stderr",
     "output_type": "stream",
     "text": [
      "Iteration:   3%|▎         | 29/1004 [00:00<00:23, 42.17it/s]]"
     ]
    },
    {
     "name": "stdout",
     "output_type": "stream",
     "text": [
      "{'Train':  best_epoch_indx:50\n",
      " auc:0.8415178724545271 \n",
      " apur:0.2337737385165828 \n",
      " f1:0.22869842261982273 \n",
      " precision:0.13255242925572597 \n",
      " recall:0.8326695745622353 \n",
      ", 'Validation':  best_epoch_indx:50\n",
      " auc:0.8166454356533586 \n",
      " apur:0.20746389664718964 \n",
      " f1:0.21834675842652695 \n",
      " precision:0.12657539214797353 \n",
      " recall:0.7940841865756542 \n",
      "}\n",
      "=====Epoch 51\n",
      "Training...\n"
     ]
    },
    {
     "name": "stderr",
     "output_type": "stream",
     "text": [
      "\n",
      "Iteration:  22%|██▏       | 224/1004 [00:05<00:17, 44.71it/s]\n",
      "Iteration:   0%|          | 0/1004 [00:00<?, ?it/s]"
     ]
    },
    {
     "name": "stdout",
     "output_type": "stream",
     "text": [
      "{'Train':  best_epoch_indx:50\n",
      " auc:0.8407370592329341 \n",
      " apur:0.23115221424242768 \n",
      " f1:0.23858189553297093 \n",
      " precision:0.14027013506753377 \n",
      " recall:0.797597977243995 \n",
      ", 'Validation':  best_epoch_indx:50\n",
      " auc:0.8148763400697611 \n",
      " apur:0.20402214428040674 \n",
      " f1:0.22759091685163052 \n",
      " precision:0.1338891120932101 \n",
      " recall:0.7582480091012515 \n",
      "}\n",
      "=====Epoch 51\n",
      "Training...\n"
     ]
    },
    {
     "name": "stderr",
     "output_type": "stream",
     "text": [
      "Iteration: 100%|██████████| 1004/1004 [00:22<00:00, 43.75it/s]\n",
      "Iteration:  76%|███████▌  | 763/1004 [00:17<00:05, 44.07it/s]"
     ]
    },
    {
     "name": "stdout",
     "output_type": "stream",
     "text": [
      "Evaluating...\n"
     ]
    },
    {
     "name": "stderr",
     "output_type": "stream",
     "text": [
      "Iteration: 100%|██████████| 1004/1004 [00:22<00:00, 43.80it/s]\n",
      "Iteration:  83%|████████▎ | 829/1004 [00:18<00:04, 43.54it/s]"
     ]
    },
    {
     "name": "stdout",
     "output_type": "stream",
     "text": [
      "Evaluating...\n"
     ]
    },
    {
     "name": "stderr",
     "output_type": "stream",
     "text": [
      "Iteration: 100%|██████████| 1004/1004 [00:22<00:00, 43.76it/s]\n",
      "Iteration:  96%|█████████▋| 968/1004 [00:22<00:00, 43.53it/s]"
     ]
    },
    {
     "name": "stdout",
     "output_type": "stream",
     "text": [
      "Evaluating...\n"
     ]
    },
    {
     "name": "stderr",
     "output_type": "stream",
     "text": [
      "Iteration: 100%|██████████| 1004/1004 [00:23<00:00, 43.49it/s]\n",
      "Iteration:  98%|█████████▊| 988/1004 [00:22<00:00, 43.10it/s]"
     ]
    },
    {
     "name": "stdout",
     "output_type": "stream",
     "text": [
      "Evaluating...\n"
     ]
    },
    {
     "name": "stderr",
     "output_type": "stream",
     "text": [
      "Iteration: 100%|██████████| 1004/1004 [00:23<00:00, 43.45it/s]\n",
      "Iteration:  26%|██▌       | 260/1004 [00:05<00:15, 49.51it/s]"
     ]
    },
    {
     "name": "stdout",
     "output_type": "stream",
     "text": [
      "Evaluating...\n"
     ]
    },
    {
     "name": "stderr",
     "output_type": "stream",
     "text": [
      "Iteration:  91%|█████████ | 911/1004 [00:19<00:01, 62.43it/s]]\n",
      "Iteration:  99%|█████████▉| 997/1004 [00:20<00:00, 51.42it/s]\n",
      "Iteration:  93%|█████████▎| 104/112 [00:01<00:00, 72.13it/s]s]\n",
      "Iteration:   0%|          | 0/1004 [00:00<?, ?it/s]"
     ]
    },
    {
     "name": "stdout",
     "output_type": "stream",
     "text": [
      "{'Train':  best_epoch_indx:51\n",
      " auc:0.8366460198041215 \n",
      " apur:0.22148779058492676 \n",
      " f1:0.23136440837893943 \n",
      " precision:0.13485370682701475 \n",
      " recall:0.8137168141592921 \n",
      ", 'Validation':  best_epoch_indx:51\n",
      " auc:0.8152998297858106 \n",
      " apur:0.2012530590319767 \n",
      " f1:0.22322946175637395 \n",
      " precision:0.13013116919882986 \n",
      " recall:0.7844141069397043 \n",
      "}\n",
      "=====Epoch 52\n",
      "Training...\n"
     ]
    },
    {
     "name": "stderr",
     "output_type": "stream",
     "text": [
      "Iteration:   1%|▏         | 14/1004 [00:00<00:24, 40.06it/s]\n",
      "Iteration:   0%|          | 4/1004 [00:00<00:28, 35.54it/s]"
     ]
    },
    {
     "name": "stdout",
     "output_type": "stream",
     "text": [
      "{'Train':  best_epoch_indx:51\n",
      " auc:0.8407999771994574 \n",
      " apur:0.22749928485674142 \n",
      " f1:0.23681604930274736 \n",
      " precision:0.1387145381421618 \n",
      " recall:0.8088495575221238 \n",
      ", 'Validation':  best_epoch_indx:51\n",
      " auc:0.8156423057163988 \n",
      " apur:0.19237835919311247 \n",
      " f1:0.22420701168614357 \n",
      " precision:0.13138329094110743 \n",
      " recall:0.7639362912400455 \n",
      "}\n",
      "=====Epoch 52\n",
      "Training...\n"
     ]
    },
    {
     "name": "stderr",
     "output_type": "stream",
     "text": [
      "Iteration:   6%|▌         | 59/1004 [00:01<00:21, 43.78it/s]\n",
      "Iteration:  10%|█         | 104/1004 [00:02<00:20, 44.76it/s]\n",
      "Iteration:  21%|██▏       | 24/112 [00:00<00:01, 52.24it/s]s]\n",
      "Iteration:  17%|█▋        | 169/1004 [00:03<00:18, 44.57it/s]\n",
      "Iteration:  54%|█████▎    | 60/112 [00:01<00:01, 51.95it/s]s]"
     ]
    },
    {
     "name": "stdout",
     "output_type": "stream",
     "text": [
      "{'Train':  best_epoch_indx:51\n",
      " auc:0.8371244238677935 \n",
      " apur:0.22888133527299803 \n",
      " f1:0.22421066956995098 \n",
      " precision:0.12953444259894445 \n",
      " recall:0.8331752955306909 \n",
      ", 'Validation':  best_epoch_indx:51\n",
      " auc:0.8122425172118178 \n",
      " apur:0.19726902066076635 \n",
      " f1:0.2159956893233777 \n",
      " precision:0.12489984866019763 \n",
      " recall:0.79806598407281 \n",
      "}\n",
      "=====Epoch 52\n",
      "Training...\n"
     ]
    },
    {
     "name": "stderr",
     "output_type": "stream",
     "text": [
      "Iteration:  22%|██▏       | 219/1004 [00:05<00:17, 44.82it/s]\n",
      "Iteration:  22%|██▏       | 224/1004 [00:05<00:17, 45.19it/s]"
     ]
    },
    {
     "name": "stdout",
     "output_type": "stream",
     "text": [
      "{'Train':  best_epoch_indx:51\n",
      " auc:0.8394966920757168 \n",
      " apur:0.22938333745438977 \n",
      " f1:0.2262370184110363 \n",
      " precision:0.1309579590656684 \n",
      " recall:0.8303938302041849 \n",
      ", 'Validation':  best_epoch_indx:51\n",
      " auc:0.8147687404114097 \n",
      " apur:0.19717170607330806 \n",
      " f1:0.21628321326206523 \n",
      " precision:0.12519056586853197 \n",
      " recall:0.7940841865756542 \n",
      "}\n",
      "=====Epoch 52\n",
      "Training...\n"
     ]
    },
    {
     "name": "stderr",
     "output_type": "stream",
     "text": [
      "Iteration:   1%|▏         | 14/1004 [00:00<00:25, 39.57it/s]]\n",
      "Iteration:  24%|██▍       | 244/1004 [00:05<00:17, 44.69it/s]"
     ]
    },
    {
     "name": "stdout",
     "output_type": "stream",
     "text": [
      "{'Train':  best_epoch_indx:51\n",
      " auc:0.8379402875692729 \n",
      " apur:0.2267658530956006 \n",
      " f1:0.22786369116282298 \n",
      " precision:0.1320506247675342 \n",
      " recall:0.8303413400758534 \n",
      ", 'Validation':  best_epoch_indx:51\n",
      " auc:0.8130736240792387 \n",
      " apur:0.19931871058681325 \n",
      " f1:0.21947788025637016 \n",
      " precision:0.12722000724900326 \n",
      " recall:0.7986348122866894 \n",
      "}\n",
      "=====Epoch 52\n",
      "Training...\n"
     ]
    },
    {
     "name": "stderr",
     "output_type": "stream",
     "text": [
      "Iteration: 100%|██████████| 1004/1004 [00:23<00:00, 43.65it/s]\n",
      "Iteration:   0%|          | 5/1004 [00:00<00:22, 43.49it/s]s]"
     ]
    },
    {
     "name": "stdout",
     "output_type": "stream",
     "text": [
      "Evaluating...\n"
     ]
    },
    {
     "name": "stderr",
     "output_type": "stream",
     "text": [
      "Iteration: 100%|██████████| 1004/1004 [00:22<00:00, 43.75it/s]\n",
      "Iteration:  85%|████████▍ | 849/1004 [00:19<00:03, 44.06it/s]"
     ]
    },
    {
     "name": "stdout",
     "output_type": "stream",
     "text": [
      "Evaluating...\n"
     ]
    },
    {
     "name": "stderr",
     "output_type": "stream",
     "text": [
      "Iteration: 100%|██████████| 1004/1004 [00:23<00:00, 43.55it/s]\n",
      "Iteration:  18%|█▊        | 184/1004 [00:03<00:16, 48.64it/s]"
     ]
    },
    {
     "name": "stdout",
     "output_type": "stream",
     "text": [
      "Evaluating...\n"
     ]
    },
    {
     "name": "stderr",
     "output_type": "stream",
     "text": [
      "Iteration: 100%|██████████| 1004/1004 [00:23<00:00, 43.46it/s]\n",
      "Iteration:  24%|██▍       | 243/1004 [00:04<00:15, 49.94it/s]"
     ]
    },
    {
     "name": "stdout",
     "output_type": "stream",
     "text": [
      "Evaluating...\n"
     ]
    },
    {
     "name": "stderr",
     "output_type": "stream",
     "text": [
      "Iteration: 100%|██████████| 1004/1004 [00:23<00:00, 43.33it/s]\n",
      "Iteration:  26%|██▋       | 266/1004 [00:05<00:15, 48.53it/s]"
     ]
    },
    {
     "name": "stdout",
     "output_type": "stream",
     "text": [
      "Evaluating...\n"
     ]
    },
    {
     "name": "stderr",
     "output_type": "stream",
     "text": [
      "Iteration:  98%|█████████▊| 979/1004 [00:20<00:00, 58.90it/s]]\n",
      "Iteration:  92%|█████████▏| 927/1004 [00:19<00:01, 55.09it/s]]\n",
      "Iteration:  93%|█████████▎| 104/112 [00:01<00:00, 71.02it/s]s]\n",
      "Iteration:   0%|          | 0/1004 [00:00<?, ?it/s]"
     ]
    },
    {
     "name": "stdout",
     "output_type": "stream",
     "text": [
      "{'Train':  best_epoch_indx:52\n",
      " auc:0.8315354129097381 \n",
      " apur:0.21623573734025942 \n",
      " f1:0.2082796379469426 \n",
      " precision:0.11842595884531004 \n",
      " recall:0.8632743362831858 \n",
      ", 'Validation':  best_epoch_indx:52\n",
      " auc:0.8099740145748368 \n",
      " apur:0.19639434078559287 \n",
      " f1:0.1988957807920387 \n",
      " precision:0.11298691241384651 \n",
      " recall:0.8299203640500569 \n",
      "}\n",
      "=====Epoch 53\n",
      "Training...\n"
     ]
    },
    {
     "name": "stderr",
     "output_type": "stream",
     "text": [
      "Iteration:   1%|▏         | 14/1004 [00:00<00:24, 40.98it/s]\n",
      "Iteration:   0%|          | 4/1004 [00:00<00:27, 36.22it/s]]"
     ]
    },
    {
     "name": "stdout",
     "output_type": "stream",
     "text": [
      "{'Train':  best_epoch_indx:52\n",
      " auc:0.8355810936527299 \n",
      " apur:0.22295519809085354 \n",
      " f1:0.22988979482125255 \n",
      " precision:0.13392838500887358 \n",
      " recall:0.8109355246523388 \n",
      ", 'Validation':  best_epoch_indx:52\n",
      " auc:0.8135250096706897 \n",
      " apur:0.19738287004472582 \n",
      " f1:0.22007099064214264 \n",
      " precision:0.12821959014852416 \n",
      " recall:0.7758816837315131 \n",
      "}\n",
      "=====Epoch 53\n",
      "Training...\n"
     ]
    },
    {
     "name": "stderr",
     "output_type": "stream",
     "text": [
      "Iteration:   3%|▎         | 28/1004 [00:00<00:23, 42.19it/s]\n",
      "Iteration:   9%|▉         | 89/1004 [00:02<00:20, 44.81it/s]\n",
      "Iteration:  16%|█▌        | 18/112 [00:00<00:01, 47.85it/s]s]\n",
      "Iteration:  75%|███████▌  | 84/112 [00:01<00:00, 51.74it/s]s]\n",
      "Iteration:   0%|          | 0/1004 [00:00<?, ?it/s]"
     ]
    },
    {
     "name": "stdout",
     "output_type": "stream",
     "text": [
      "{'Train':  best_epoch_indx:52\n",
      " auc:0.8348843044377936 \n",
      " apur:0.2283702552797427 \n",
      " f1:0.22729218912471713 \n",
      " precision:0.13187459441920832 \n",
      " recall:0.8221758644667805 \n",
      ", 'Validation':  best_epoch_indx:52\n",
      " auc:0.8120110505351593 \n",
      " apur:0.19931157027112845 \n",
      " f1:0.21832205257358728 \n",
      " precision:0.12668980635732555 \n",
      " recall:0.7889647326507395 \n",
      "}\n",
      "=====Epoch 53\n",
      "Training...\n"
     ]
    },
    {
     "name": "stderr",
     "output_type": "stream",
     "text": [
      "Iteration:   4%|▍         | 42/1004 [00:01<00:21, 43.93it/s]]\n",
      "Iteration:   0%|          | 4/1004 [00:00<00:27, 35.74it/s]]]"
     ]
    },
    {
     "name": "stdout",
     "output_type": "stream",
     "text": [
      "{'Train':  best_epoch_indx:52\n",
      " auc:0.8390065397775146 \n",
      " apur:0.2275002039220074 \n",
      " f1:0.2237468708646949 \n",
      " precision:0.12908464949817164 \n",
      " recall:0.8390543017889879 \n",
      ", 'Validation':  best_epoch_indx:52\n",
      " auc:0.8153319427925851 \n",
      " apur:0.20163159695364868 \n",
      " f1:0.2162450472416946 \n",
      " precision:0.12484603202533873 \n",
      " recall:0.8071672354948806 \n",
      "}\n",
      "=====Epoch 53\n",
      "Training...\n"
     ]
    },
    {
     "name": "stderr",
     "output_type": "stream",
     "text": [
      "\r",
      "Iteration:  20%|█▉        | 198/1004 [00:04<00:18, 44.45it/s]\r",
      "Iteration:  22%|██▏       | 219/1004 [00:04<00:17, 44.55it/s]\r",
      "Iteration:   5%|▌         | 52/1004 [00:01<00:21, 44.31it/s]\r",
      "Iteration:   1%|          | 9/1004 [00:00<00:25, 38.47it/s]\r",
      "Iteration:  20%|██        | 203/1004 [00:04<00:17, 45.15it/s]\r",
      "Iteration:  22%|██▏       | 224/1004 [00:05<00:17, 44.89it/s]\r",
      "Iteration:   6%|▌         | 57/1004 [00:01<00:21, 44.09it/s]\n",
      "\r",
      "Iteration:   0%|          | 0/1004 [00:00<?, ?it/s]"
     ]
    },
    {
     "name": "stdout",
     "output_type": "stream",
     "text": [
      "{'Train':  best_epoch_indx:52\n",
      " auc:0.8346859092910472 \n",
      " apur:0.2186037574712718 \n",
      " f1:0.23006552442069017 \n",
      " precision:0.1341623655800948 \n",
      " recall:0.8067635903919089 \n",
      ", 'Validation':  best_epoch_indx:52\n",
      " auc:0.8117774842654342 \n",
      " apur:0.19596836089225325 \n",
      " f1:0.2217692621280065 \n",
      " precision:0.12943751784524601 \n",
      " recall:0.7736063708759955 \n",
      "}\n",
      "=====Epoch 53\n",
      "Training...\n"
     ]
    },
    {
     "name": "stderr",
     "output_type": "stream",
     "text": [
      "Iteration: 100%|██████████| 1004/1004 [00:22<00:00, 43.85it/s]\n",
      "Iteration:  84%|████████▍ | 842/1004 [00:19<00:03, 44.32it/s]"
     ]
    },
    {
     "name": "stdout",
     "output_type": "stream",
     "text": [
      "Evaluating...\n"
     ]
    },
    {
     "name": "stderr",
     "output_type": "stream",
     "text": [
      "\r",
      "Iteration:  77%|███████▋  | 778/1004 [00:17<00:05, 40.14it/s]\r",
      "Iteration:  99%|█████████▉| 998/1004 [00:22<00:00, 43.77it/s]\r",
      "Iteration:  80%|███████▉  | 799/1004 [00:18<00:04, 43.68it/s]\r",
      "Iteration:   1%|          | 9/1004 [00:00<00:24, 40.71it/s]\r",
      "Iteration:  84%|████████▍ | 847/1004 [00:19<00:03, 44.06it/s]\r",
      "Iteration: 100%|█████████▉| 1003/1004 [00:22<00:00, 44.20it/s]\r",
      "Iteration:  78%|███████▊  | 783/1004 [00:18<00:05, 40.75it/s]\r",
      "Iteration:  80%|████████  | 804/1004 [00:18<00:04, 44.03it/s]\r",
      "Iteration:   1%|▏         | 15/1004 [00:00<00:20, 47.17it/s]\r",
      "Iteration: 100%|██████████| 1004/1004 [00:22<00:00, 43.97it/s]\n",
      "\r",
      "Iteration:   0%|          | 0/1004 [00:00<?, ?it/s]\r",
      "Iteration:  85%|████████▍ | 852/1004 [00:19<00:03, 44.33it/s]"
     ]
    },
    {
     "name": "stdout",
     "output_type": "stream",
     "text": [
      "Evaluating...\n"
     ]
    },
    {
     "name": "stderr",
     "output_type": "stream",
     "text": [
      "Iteration: 100%|██████████| 1004/1004 [00:23<00:00, 43.57it/s]\n",
      "Iteration:   0%|          | 4/1004 [00:00<00:27, 36.05it/s]s]"
     ]
    },
    {
     "name": "stdout",
     "output_type": "stream",
     "text": [
      "Evaluating...\n"
     ]
    },
    {
     "name": "stderr",
     "output_type": "stream",
     "text": [
      "Iteration: 100%|██████████| 1004/1004 [00:23<00:00, 43.55it/s]\n",
      "Iteration:  22%|██▏       | 221/1004 [00:04<00:17, 45.55it/s]"
     ]
    },
    {
     "name": "stdout",
     "output_type": "stream",
     "text": [
      "Evaluating...\n"
     ]
    },
    {
     "name": "stderr",
     "output_type": "stream",
     "text": [
      "Iteration: 100%|██████████| 1004/1004 [00:23<00:00, 43.31it/s]\n",
      "Iteration:   0%|          | 4/1004 [00:00<00:25, 39.79it/s]]"
     ]
    },
    {
     "name": "stdout",
     "output_type": "stream",
     "text": [
      "Evaluating...\n"
     ]
    },
    {
     "name": "stderr",
     "output_type": "stream",
     "text": [
      "Iteration:  92%|█████████▏| 925/1004 [00:19<00:01, 65.12it/s]]\n",
      "Iteration:  13%|█▎        | 15/112 [00:00<00:01, 62.96it/s]s]\n",
      "Iteration: 100%|██████████| 112/112 [00:01<00:00, 63.67it/s]s]\n",
      "Iteration:   0%|          | 0/1004 [00:00<?, ?it/s]"
     ]
    },
    {
     "name": "stdout",
     "output_type": "stream",
     "text": [
      "{'Train':  best_epoch_indx:53\n",
      " auc:0.8321441298961756 \n",
      " apur:0.21488443317157763 \n",
      " f1:0.22052774154710542 \n",
      " precision:0.1270716102674786 \n",
      " recall:0.8336283185840708 \n",
      ", 'Validation':  best_epoch_indx:53\n",
      " auc:0.8110056056622543 \n",
      " apur:0.19171636493209138 \n",
      " f1:0.2140645063826573 \n",
      " precision:0.12342130476439335 \n",
      " recall:0.8060295790671217 \n",
      "}\n",
      "=====Epoch 54\n",
      "Training...\n",
      "{'Train':  best_epoch_indx:53\n",
      " auc:0.8340302078383568 \n",
      " apur:0.22080296407851469 \n",
      " f1:0.21868972506456572 \n",
      " precision:0.1255819629045581 \n",
      " recall:0.8457016434892541 \n",
      ", 'Validation':  best_epoch_indx:53\n",
      " auc:0.8129740100526364 \n",
      " apur:0.1941813437045186 \n",
      " f1:0.21059612408812908 \n",
      " precision:0.12096842461694743 \n",
      " recall:0.8128555176336746 \n",
      "}\n",
      "=====Epoch 54\n",
      "Training...\n"
     ]
    },
    {
     "name": "stderr",
     "output_type": "stream",
     "text": [
      "Iteration:   0%|          | 4/1004 [00:00<00:28, 34.61it/s]\n",
      "Iteration:   3%|▎         | 29/1004 [00:00<00:22, 43.08it/s]\n",
      "Iteration:  56%|█████▋    | 63/112 [00:01<00:00, 61.23it/s]]\n",
      "Iteration:  26%|██▌       | 29/112 [00:00<00:01, 56.45it/s]]\n",
      "Iteration:  13%|█▎        | 134/1004 [00:03<00:19, 44.12it/s]\n",
      "Iteration:  13%|█▎        | 134/1004 [00:03<00:19, 44.30it/s]"
     ]
    },
    {
     "name": "stdout",
     "output_type": "stream",
     "text": [
      "{'Train':  best_epoch_indx:53\n",
      " auc:0.8338952202219895 \n",
      " apur:0.223638537108209 \n",
      " f1:0.22076265888726818 \n",
      " precision:0.12714581973194056 \n",
      " recall:0.8371578481572792 \n",
      ", 'Validation':  best_epoch_indx:53\n",
      " auc:0.8089546890588807 \n",
      " apur:0.19015280378363084 \n",
      " f1:0.21318499586559422 \n",
      " precision:0.12282373321784322 \n",
      " recall:0.8065984072810012 \n",
      "}\n",
      "=====Epoch 54\n",
      "Training...\n"
     ]
    },
    {
     "name": "stderr",
     "output_type": "stream",
     "text": [
      "Iteration:  92%|█████████▏| 103/112 [00:01<00:00, 56.22it/s]]\n",
      "Iteration:   5%|▌         | 54/1004 [00:01<00:21, 44.01it/s]]"
     ]
    },
    {
     "name": "stdout",
     "output_type": "stream",
     "text": [
      "{'Train':  best_epoch_indx:53\n",
      " auc:0.8318300910014191 \n",
      " apur:0.2173991033731587 \n",
      " f1:0.2274904129923834 \n",
      " precision:0.13222741513019362 \n",
      " recall:0.8137682533662052 \n",
      ", 'Validation':  best_epoch_indx:53\n",
      " auc:0.8086188259491902 \n",
      " apur:0.1958966113769013 \n",
      " f1:0.21849407648882885 \n",
      " precision:0.12699879841020428 \n",
      " recall:0.7815699658703071 \n",
      "}\n",
      "=====Epoch 54\n",
      "Training...\n"
     ]
    },
    {
     "name": "stderr",
     "output_type": "stream",
     "text": [
      "Iteration:  21%|██        | 209/1004 [00:04<00:17, 44.76it/s]\n",
      "Iteration:   8%|▊         | 84/1004 [00:01<00:20, 43.98it/s]]"
     ]
    },
    {
     "name": "stdout",
     "output_type": "stream",
     "text": [
      "{'Train':  best_epoch_indx:53\n",
      " auc:0.8321448921229236 \n",
      " apur:0.2183953326174309 \n",
      " f1:0.24274316414080668 \n",
      " precision:0.14424405584409397 \n",
      " recall:0.7654235145385588 \n",
      ", 'Validation':  best_epoch_indx:53\n",
      " auc:0.8115431014872941 \n",
      " apur:0.19571951688991773 \n",
      " f1:0.2315408947130592 \n",
      " precision:0.13763833673579026 \n",
      " recall:0.7286689419795221 \n",
      "}\n",
      "=====Epoch 54\n",
      "Training...\n"
     ]
    },
    {
     "name": "stderr",
     "output_type": "stream",
     "text": [
      "Iteration: 100%|██████████| 1004/1004 [00:22<00:00, 43.71it/s]\n",
      "Iteration: 100%|██████████| 1004/1004 [00:22<00:00, 43.85it/s]\n",
      "Iteration:  79%|███████▉  | 794/1004 [00:18<00:04, 44.12it/s]"
     ]
    },
    {
     "name": "stdout",
     "output_type": "stream",
     "text": [
      "Evaluating...\n",
      "Evaluating...\n"
     ]
    },
    {
     "name": "stderr",
     "output_type": "stream",
     "text": [
      "Iteration: 100%|██████████| 1004/1004 [00:23<00:00, 43.45it/s]\n",
      "Iteration:  16%|█▌        | 162/1004 [00:03<00:16, 49.93it/s]"
     ]
    },
    {
     "name": "stdout",
     "output_type": "stream",
     "text": [
      "Evaluating...\n"
     ]
    },
    {
     "name": "stderr",
     "output_type": "stream",
     "text": [
      "Iteration: 100%|██████████| 1004/1004 [00:23<00:00, 43.32it/s]"
     ]
    },
    {
     "name": "stdout",
     "output_type": "stream",
     "text": [
      "Evaluating...\n"
     ]
    },
    {
     "name": "stderr",
     "output_type": "stream",
     "text": [
      "\n",
      "Iteration: 100%|██████████| 1004/1004 [00:23<00:00, 43.33it/s]\n",
      "Iteration:   0%|          | 0/1004 [00:00<?, ?it/s]"
     ]
    },
    {
     "name": "stdout",
     "output_type": "stream",
     "text": [
      "Evaluating...\n"
     ]
    },
    {
     "name": "stderr",
     "output_type": "stream",
     "text": [
      "Iteration:  92%|█████████▏| 928/1004 [00:18<00:01, 69.80it/s]]\n",
      "Iteration:  93%|█████████▎| 935/1004 [00:19<00:01, 67.53it/s]\n",
      "Iteration: 100%|██████████| 112/112 [00:01<00:00, 61.93it/s]s]\n",
      "Iteration:   0%|          | 0/1004 [00:00<?, ?it/s]\n",
      "Iteration:   0%|          | 4/1004 [00:00<00:28, 35.29it/s]"
     ]
    },
    {
     "name": "stdout",
     "output_type": "stream",
     "text": [
      "{'Train':  best_epoch_indx:54\n",
      " auc:0.826007004353264 \n",
      " apur:0.20497334823871283 \n",
      " f1:0.2319990271008541 \n",
      " precision:0.13614853365833307 \n",
      " recall:0.7838179519595448 \n",
      ", 'Validation':  best_epoch_indx:54\n",
      " auc:0.8110985709774793 \n",
      " apur:0.19783335780527184 \n",
      " f1:0.22713093331085069 \n",
      " precision:0.13332673463327724 \n",
      " recall:0.7662116040955631 \n",
      "}\n",
      "=====Epoch 55\n",
      "Training...\n",
      "{'Train':  best_epoch_indx:54\n",
      " auc:0.8297697827666675 \n",
      " apur:0.2111943646560936 \n",
      " f1:0.23099140797973633 \n",
      " precision:0.1349472496353784 \n",
      " recall:0.8012642225031605 \n",
      ", 'Validation':  best_epoch_indx:54\n",
      " auc:0.8073186753742713 \n",
      " apur:0.18464567845126964 \n",
      " f1:0.2224415926291543 \n",
      " precision:0.13002500480861703 \n",
      " recall:0.7690557451649602 \n",
      "}\n",
      "=====Epoch 55\n",
      "Training...\n"
     ]
    },
    {
     "name": "stderr",
     "output_type": "stream",
     "text": [
      "Iteration:   2%|▏         | 24/1004 [00:00<00:23, 42.23it/s]\n",
      "Iteration:   6%|▌         | 59/1004 [00:01<00:20, 45.16it/s]\n",
      "Iteration:   9%|▉         | 94/1004 [00:02<00:20, 45.00it/s]\n",
      "Iteration:  14%|█▍        | 139/1004 [00:03<00:19, 44.59it/s]\n",
      "Iteration:  48%|████▊     | 54/112 [00:01<00:01, 48.58it/s]s]"
     ]
    },
    {
     "name": "stdout",
     "output_type": "stream",
     "text": [
      "{'Train':  best_epoch_indx:54\n",
      " auc:0.8312672673290018 \n",
      " apur:0.22120072682075587 \n",
      " f1:0.2229805615550756 \n",
      " precision:0.12913910598312836 \n",
      " recall:0.8157911372400278 \n",
      ", 'Validation':  best_epoch_indx:54\n",
      " auc:0.8135578045965798 \n",
      " apur:0.19986897249871893 \n",
      " f1:0.21827847705417874 \n",
      " precision:0.12652950240188526 \n",
      " recall:0.7940841865756542 \n",
      "}\n",
      "=====Epoch 55\n",
      "Training...\n"
     ]
    },
    {
     "name": "stderr",
     "output_type": "stream",
     "text": [
      "Iteration:  82%|████████▏ | 92/112 [00:01<00:00, 51.28it/s]s]\n",
      "Iteration:  88%|████████▊ | 98/112 [00:02<00:00, 47.65it/s]]]"
     ]
    },
    {
     "name": "stdout",
     "output_type": "stream",
     "text": [
      "{'Train':  best_epoch_indx:54\n",
      " auc:0.8276078744094281 \n",
      " apur:0.2072706150002745 \n",
      " f1:0.24320433745573758 \n",
      " precision:0.14584383506401855 \n",
      " recall:0.7315885959921613 \n",
      ", 'Validation':  best_epoch_indx:54\n",
      " auc:0.8084824152082032 \n",
      " apur:0.18323832716864796 \n",
      " f1:0.23112364833098265 \n",
      " precision:0.1384476737636589 \n",
      " recall:0.699089874857793 \n",
      "}\n",
      "=====Epoch 55\n",
      "Training...\n"
     ]
    },
    {
     "name": "stderr",
     "output_type": "stream",
     "text": [
      "Iteration:  21%|██        | 209/1004 [00:04<00:23, 33.94it/s]\n",
      "Iteration:  21%|██▏       | 214/1004 [00:04<00:21, 36.62it/s]"
     ]
    },
    {
     "name": "stdout",
     "output_type": "stream",
     "text": [
      "{'Train':  best_epoch_indx:54\n",
      " auc:0.8300292276670997 \n",
      " apur:0.2147008113618778 \n",
      " f1:0.2119419888633718 \n",
      " precision:0.12102974992814027 \n",
      " recall:0.8517067003792668 \n",
      ", 'Validation':  best_epoch_indx:54\n",
      " auc:0.8076034124955289 \n",
      " apur:0.19247996583429938 \n",
      " f1:0.2050587816173851 \n",
      " precision:0.11721104504357742 \n",
      " recall:0.8185437997724687 \n",
      "}\n",
      "=====Epoch 55\n",
      "Training...\n"
     ]
    },
    {
     "name": "stderr",
     "output_type": "stream",
     "text": [
      "Iteration: 100%|██████████| 1004/1004 [00:22<00:00, 43.87it/s]\n",
      "Iteration: 100%|██████████| 1004/1004 [00:22<00:00, 43.76it/s]\n",
      "Iteration:  82%|████████▏ | 824/1004 [00:18<00:04, 44.19it/s]"
     ]
    },
    {
     "name": "stdout",
     "output_type": "stream",
     "text": [
      "Evaluating...\n",
      "Evaluating...\n"
     ]
    },
    {
     "name": "stderr",
     "output_type": "stream",
     "text": [
      "Iteration: 100%|██████████| 1004/1004 [00:23<00:00, 43.34it/s]\n",
      "Iteration:   0%|          | 0/1004 [00:00<?, ?it/s]"
     ]
    },
    {
     "name": "stdout",
     "output_type": "stream",
     "text": [
      "Evaluating...\n"
     ]
    },
    {
     "name": "stderr",
     "output_type": "stream",
     "text": [
      "Iteration: 100%|██████████| 1004/1004 [00:23<00:00, 43.30it/s]\n",
      "Iteration:  98%|█████████▊| 979/1004 [00:22<00:00, 37.27it/s]"
     ]
    },
    {
     "name": "stdout",
     "output_type": "stream",
     "text": [
      "Evaluating...\n"
     ]
    },
    {
     "name": "stderr",
     "output_type": "stream",
     "text": [
      "Iteration: 100%|██████████| 1004/1004 [00:23<00:00, 43.27it/s]\n",
      "Iteration:  25%|██▌       | 254/1004 [00:05<00:16, 44.94it/s]"
     ]
    },
    {
     "name": "stdout",
     "output_type": "stream",
     "text": [
      "Evaluating...\n"
     ]
    },
    {
     "name": "stderr",
     "output_type": "stream",
     "text": [
      "Iteration: 100%|██████████| 1004/1004 [00:20<00:00, 47.95it/s]\n",
      "Iteration:  95%|█████████▍| 953/1004 [00:19<00:00, 59.91it/s]\n",
      "Iteration: 100%|██████████| 112/112 [00:01<00:00, 64.53it/s]s]\n",
      "Iteration:   0%|          | 4/1004 [00:00<00:28, 35.17it/s]\n",
      "Iteration:   0%|          | 0/1004 [00:00<?, ?it/s]"
     ]
    },
    {
     "name": "stdout",
     "output_type": "stream",
     "text": [
      "{'Train':  best_epoch_indx:55\n",
      " auc:0.831522166880251 \n",
      " apur:0.21596057248361483 \n",
      " f1:0.2214015279561896 \n",
      " precision:0.1277851484762165 \n",
      " recall:0.8280025284450063 \n",
      ", 'Validation':  best_epoch_indx:55\n",
      " auc:0.8129951136547412 \n",
      " apur:0.20310280881149 \n",
      " f1:0.21509462643459754 \n",
      " precision:0.1241336959382402 \n",
      " recall:0.8048919226393629 \n",
      "}\n",
      "=====Epoch 56\n",
      "Training...\n",
      "{'Train':  best_epoch_indx:55\n",
      " auc:0.8325345381134113 \n",
      " apur:0.21558068136841196 \n",
      " f1:0.23099247614108828 \n",
      " precision:0.1349139717525532 \n",
      " recall:0.8024652338811631 \n",
      ", 'Validation':  best_epoch_indx:55\n",
      " auc:0.8107261175236631 \n",
      " apur:0.1845292197124242 \n",
      " f1:0.2222222222222222 \n",
      " precision:0.12981045376220562 \n",
      " recall:0.7713310580204779 \n",
      "}\n",
      "=====Epoch 56\n",
      "Training...\n"
     ]
    },
    {
     "name": "stderr",
     "output_type": "stream",
     "text": [
      "Iteration:   4%|▍         | 44/1004 [00:01<00:21, 44.23it/s]\n",
      "Iteration:   7%|▋         | 74/1004 [00:01<00:20, 44.43it/s]\n",
      "Iteration:   9%|▉         | 94/1004 [00:02<00:20, 44.03it/s]\n",
      "Iteration:  62%|██████▏   | 69/112 [00:01<00:00, 55.64it/s]s]\n",
      "Iteration:   0%|          | 4/1004 [00:00<00:28, 35.41it/s]s]"
     ]
    },
    {
     "name": "stdout",
     "output_type": "stream",
     "text": [
      "{'Train':  best_epoch_indx:55\n",
      " auc:0.8320701346661656 \n",
      " apur:0.21958851340024935 \n",
      " f1:0.22341170243644248 \n",
      " precision:0.12914655691430038 \n",
      " recall:0.8271698590302801 \n",
      ", 'Validation':  best_epoch_indx:55\n",
      " auc:0.8133073069930231 \n",
      " apur:0.1926540101821965 \n",
      " f1:0.21771644437591547 \n",
      " precision:0.1259252653170427 \n",
      " recall:0.8031854379977247 \n",
      "}\n",
      "=====Epoch 56\n",
      "Training...\n"
     ]
    },
    {
     "name": "stderr",
     "output_type": "stream",
     "text": [
      "Iteration:  18%|█▊        | 179/1004 [00:04<00:18, 45.24it/s]\n",
      "Iteration:   0%|          | 0/1004 [00:00<?, ?it/s]"
     ]
    },
    {
     "name": "stdout",
     "output_type": "stream",
     "text": [
      "{'Train':  best_epoch_indx:55\n",
      " auc:0.8316326208624272 \n",
      " apur:0.21856321430361136 \n",
      " f1:0.22646888032518608 \n",
      " precision:0.1315426363719989 \n",
      " recall:0.8135786080030343 \n",
      ", 'Validation':  best_epoch_indx:55\n",
      " auc:0.8117702882242402 \n",
      " apur:0.19682098787257696 \n",
      " f1:0.21889838556505226 \n",
      " precision:0.12713734142305572 \n",
      " recall:0.7866894197952219 \n",
      "}\n",
      "=====Epoch 56\n",
      "Training...\n"
     ]
    },
    {
     "name": "stderr",
     "output_type": "stream",
     "text": [
      "Iteration:   1%|▏         | 13/1004 [00:00<00:24, 40.43it/s]]\n",
      "Iteration:   2%|▏         | 18/1004 [00:00<00:23, 41.34it/s]]"
     ]
    },
    {
     "name": "stdout",
     "output_type": "stream",
     "text": [
      "{'Train':  best_epoch_indx:55\n",
      " auc:0.8322503243205166 \n",
      " apur:0.21684209723398032 \n",
      " f1:0.2275520777503841 \n",
      " precision:0.13250041611185087 \n",
      " recall:0.8051201011378003 \n",
      ", 'Validation':  best_epoch_indx:55\n",
      " auc:0.809997558729566 \n",
      " apur:0.19582999487202216 \n",
      " f1:0.21911384217335056 \n",
      " precision:0.12770970782280866 \n",
      " recall:0.7707622298065984 \n",
      "}\n",
      "=====Epoch 56\n",
      "Training...\n"
     ]
    },
    {
     "name": "stderr",
     "output_type": "stream",
     "text": [
      "Iteration: 100%|██████████| 1004/1004 [00:22<00:00, 44.03it/s]\n",
      "Iteration:  81%|████████  | 813/1004 [00:18<00:04, 44.56it/s]"
     ]
    },
    {
     "name": "stdout",
     "output_type": "stream",
     "text": [
      "Evaluating...\n",
      "Evaluating...\n"
     ]
    },
    {
     "name": "stderr",
     "output_type": "stream",
     "text": [
      "Iteration: 100%|██████████| 1004/1004 [00:22<00:00, 44.21it/s]\n",
      "Iteration: 100%|██████████| 1004/1004 [00:22<00:00, 43.72it/s]\n",
      "Iteration:  95%|█████████▌| 954/1004 [00:21<00:01, 43.17it/s]"
     ]
    },
    {
     "name": "stdout",
     "output_type": "stream",
     "text": [
      "Evaluating...\n"
     ]
    },
    {
     "name": "stderr",
     "output_type": "stream",
     "text": [
      "Iteration: 100%|██████████| 1004/1004 [00:23<00:00, 43.59it/s]\n",
      "Iteration:  22%|██▏       | 216/1004 [00:04<00:15, 50.44it/s]"
     ]
    },
    {
     "name": "stdout",
     "output_type": "stream",
     "text": [
      "Evaluating...\n"
     ]
    },
    {
     "name": "stderr",
     "output_type": "stream",
     "text": [
      "Iteration: 100%|██████████| 1004/1004 [00:23<00:00, 43.45it/s]\n",
      "Iteration:   2%|▏         | 25/1004 [00:00<00:22, 43.09it/s]]"
     ]
    },
    {
     "name": "stdout",
     "output_type": "stream",
     "text": [
      "Evaluating...\n"
     ]
    },
    {
     "name": "stderr",
     "output_type": "stream",
     "text": [
      "Iteration:  97%|█████████▋| 975/1004 [00:19<00:00, 64.34it/s]]\n",
      "Iteration:   0%|          | 0/112 [00:00<?, ?it/s]\n",
      "Iteration: 100%|██████████| 112/112 [00:01<00:00, 63.04it/s]s]\n",
      "Iteration:   0%|          | 0/1004 [00:00<?, ?it/s]\n",
      "Iteration:   0%|          | 4/1004 [00:00<00:25, 38.53it/s]"
     ]
    },
    {
     "name": "stdout",
     "output_type": "stream",
     "text": [
      "{'Train':  best_epoch_indx:56\n",
      " auc:0.8393319386742959 \n",
      " apur:0.22742337216753272 \n",
      " f1:0.23041139184318463 \n",
      " precision:0.1340294561153457 \n",
      " recall:0.8202907711757269 \n",
      ", 'Validation':  best_epoch_indx:56\n",
      " auc:0.8154067385524265 \n",
      " apur:0.19732841163772374 \n",
      " f1:0.22222222222222224 \n",
      " precision:0.12933930571108623 \n",
      " recall:0.78839590443686 \n",
      "}\n",
      "=====Epoch 57\n",
      "Training...\n",
      "{'Train':  best_epoch_indx:56\n",
      " auc:0.8339899909163436 \n",
      " apur:0.21915472763444283 \n",
      " f1:0.22631944444444443 \n",
      " precision:0.1311732743006641 \n",
      " recall:0.8240202275600506 \n",
      ", 'Validation':  best_epoch_indx:56\n",
      " auc:0.8153591836667308 \n",
      " apur:0.20582519663586782 \n",
      " f1:0.2218574108818011 \n",
      " precision:0.12860250135943446 \n",
      " recall:0.8071672354948806 \n",
      "}\n",
      "=====Epoch 57\n",
      "Training...\n"
     ]
    },
    {
     "name": "stderr",
     "output_type": "stream",
     "text": [
      "Iteration:   2%|▏         | 24/1004 [00:00<00:28, 34.81it/s]\n",
      "Iteration:   6%|▌         | 59/1004 [00:01<00:21, 44.16it/s]\n",
      "Iteration:  29%|██▊       | 32/112 [00:00<00:01, 60.20it/s]]\n",
      "Iteration:  77%|███████▋  | 86/112 [00:01<00:00, 53.13it/s]s]\n",
      "Iteration:   0%|          | 0/1004 [00:00<?, ?it/s]"
     ]
    },
    {
     "name": "stdout",
     "output_type": "stream",
     "text": [
      "{'Train':  best_epoch_indx:56\n",
      " auc:0.8361419267209633 \n",
      " apur:0.23320845877899835 \n",
      " f1:0.22099705181804552 \n",
      " precision:0.1272648793822838 \n",
      " recall:0.8387382261837032 \n",
      ", 'Validation':  best_epoch_indx:56\n",
      " auc:0.8146226392408846 \n",
      " apur:0.20168859392726962 \n",
      " f1:0.21573067632850243 \n",
      " precision:0.12436901653611836 \n",
      " recall:0.8128555176336746 \n",
      "}\n",
      "=====Epoch 57\n",
      "Training...\n"
     ]
    },
    {
     "name": "stderr",
     "output_type": "stream",
     "text": [
      "Iteration:   3%|▎         | 29/1004 [00:00<00:26, 36.99it/s]]\n",
      "Iteration:  92%|█████████▏| 103/112 [00:01<00:00, 50.47it/s]]"
     ]
    },
    {
     "name": "stdout",
     "output_type": "stream",
     "text": [
      "{'Train':  best_epoch_indx:56\n",
      " auc:0.8375547963988479 \n",
      " apur:0.21976079304379856 \n",
      " f1:0.22272057839068152 \n",
      " precision:0.1283502917490476 \n",
      " recall:0.8412668310259814 \n",
      ", 'Validation':  best_epoch_indx:56\n",
      " auc:0.8124780574579303 \n",
      " apur:0.19224080260362386 \n",
      " f1:0.21353224834237491 \n",
      " precision:0.12306756991488622 \n",
      " recall:0.8060295790671217 \n",
      "}\n",
      "=====Epoch 57\n",
      "Training...\n"
     ]
    },
    {
     "name": "stderr",
     "output_type": "stream",
     "text": [
      "Iteration:  20%|█▉        | 199/1004 [00:04<00:17, 44.91it/s]\n",
      "Iteration:   2%|▏         | 24/1004 [00:00<00:28, 34.02it/s]]"
     ]
    },
    {
     "name": "stdout",
     "output_type": "stream",
     "text": [
      "{'Train':  best_epoch_indx:56\n",
      " auc:0.8366800853925851 \n",
      " apur:0.22689356354004328 \n",
      " f1:0.22924198949996005 \n",
      " precision:0.13336296265671674 \n",
      " recall:0.8156131479140328 \n",
      ", 'Validation':  best_epoch_indx:56\n",
      " auc:0.8102193977850262 \n",
      " apur:0.19314089250019267 \n",
      " f1:0.22047748758211824 \n",
      " precision:0.12831033196568445 \n",
      " recall:0.782707622298066 \n",
      "}\n",
      "=====Epoch 57\n",
      "Training...\n"
     ]
    },
    {
     "name": "stderr",
     "output_type": "stream",
     "text": [
      "Iteration: 100%|██████████| 1004/1004 [00:22<00:00, 43.85it/s]\n",
      "Iteration:  79%|███████▊  | 789/1004 [00:18<00:05, 36.25it/s]"
     ]
    },
    {
     "name": "stdout",
     "output_type": "stream",
     "text": [
      "Evaluating...\n",
      "Evaluating...\n"
     ]
    },
    {
     "name": "stderr",
     "output_type": "stream",
     "text": [
      "Iteration: 100%|██████████| 1004/1004 [00:22<00:00, 43.73it/s]\n",
      "Iteration: 100%|██████████| 1004/1004 [00:23<00:00, 43.49it/s]\n",
      "Iteration:   0%|          | 0/1004 [00:00<?, ?it/s]"
     ]
    },
    {
     "name": "stdout",
     "output_type": "stream",
     "text": [
      "Evaluating...\n"
     ]
    },
    {
     "name": "stderr",
     "output_type": "stream",
     "text": [
      "Iteration: 100%|██████████| 1004/1004 [00:23<00:00, 43.33it/s]\n",
      "Iteration:  21%|██        | 206/1004 [00:04<00:17, 45.10it/s]"
     ]
    },
    {
     "name": "stdout",
     "output_type": "stream",
     "text": [
      "Evaluating...\n"
     ]
    },
    {
     "name": "stderr",
     "output_type": "stream",
     "text": [
      "Iteration:  23%|██▎       | 230/1004 [00:04<00:15, 49.43it/s]"
     ]
    },
    {
     "name": "stdout",
     "output_type": "stream",
     "text": [
      "Evaluating...\n"
     ]
    },
    {
     "name": "stderr",
     "output_type": "stream",
     "text": [
      "Iteration: 100%|██████████| 1004/1004 [00:23<00:00, 43.13it/s]\n",
      "Iteration:  96%|█████████▋| 968/1004 [00:19<00:00, 68.59it/s]]\n",
      "Iteration:   6%|▋         | 7/112 [00:00<00:01, 63.52it/s]/s]\n",
      "Iteration: 100%|██████████| 112/112 [00:01<00:00, 59.98it/s]s]\n",
      "Iteration:   0%|          | 0/1004 [00:00<?, ?it/s]\n",
      "Iteration:   0%|          | 4/1004 [00:00<00:26, 38.32it/s]"
     ]
    },
    {
     "name": "stdout",
     "output_type": "stream",
     "text": [
      "{'Train':  best_epoch_indx:57\n",
      " auc:0.8375446594271435 \n",
      " apur:0.22560975432442182 \n",
      " f1:0.2329358215748748 \n",
      " precision:0.13606295863022438 \n",
      " recall:0.8087231352718078 \n",
      ", 'Validation':  best_epoch_indx:57\n",
      " auc:0.8167052650831357 \n",
      " apur:0.2081304691476017 \n",
      " f1:0.22712003277345352 \n",
      " precision:0.1326696659328037 \n",
      " recall:0.78839590443686 \n",
      "}\n",
      "=====Epoch 58\n",
      "Training...\n",
      "{'Train':  best_epoch_indx:57\n",
      " auc:0.8402754567005177 \n",
      " apur:0.22974995694518313 \n",
      " f1:0.22692957358061291 \n",
      " precision:0.13137622734892632 \n",
      " recall:0.8322376738305942 \n",
      ", 'Validation':  best_epoch_indx:57\n",
      " auc:0.8162357009636809 \n",
      " apur:0.1978104688987838 \n",
      " f1:0.21836845788941597 \n",
      " precision:0.12647509233402396 \n",
      " recall:0.7986348122866894 \n",
      "}\n",
      "=====Epoch 58\n",
      "Training...\n"
     ]
    },
    {
     "name": "stderr",
     "output_type": "stream",
     "text": [
      "Iteration:   2%|▏         | 24/1004 [00:00<00:22, 42.80it/s]\n",
      "Iteration:   7%|▋         | 69/1004 [00:01<00:20, 45.17it/s]\n",
      "Iteration:   8%|▊         | 84/1004 [00:01<00:20, 45.09it/s]\n",
      "Iteration:  14%|█▍        | 139/1004 [00:03<00:19, 44.89it/s]\n",
      "Iteration:  14%|█▍        | 144/1004 [00:03<00:19, 44.40it/s]"
     ]
    },
    {
     "name": "stdout",
     "output_type": "stream",
     "text": [
      "{'Train':  best_epoch_indx:57\n",
      " auc:0.8410623458114312 \n",
      " apur:0.23535126364690193 \n",
      " f1:0.22914782608695652 \n",
      " precision:0.13284802532743167 \n",
      " recall:0.8329224350464631 \n",
      ", 'Validation':  best_epoch_indx:57\n",
      " auc:0.8176599159545458 \n",
      " apur:0.19979541151651584 \n",
      " f1:0.22114482327181734 \n",
      " precision:0.12819582955575703 \n",
      " recall:0.8043230944254836 \n",
      "}\n",
      "=====Epoch 58\n",
      "Training...\n"
     ]
    },
    {
     "name": "stderr",
     "output_type": "stream",
     "text": [
      "Iteration:  19%|█▉        | 189/1004 [00:04<00:18, 44.40it/s]\n",
      "Iteration:   0%|          | 4/1004 [00:00<00:26, 37.49it/s]s]"
     ]
    },
    {
     "name": "stdout",
     "output_type": "stream",
     "text": [
      "{'Train':  best_epoch_indx:57\n",
      " auc:0.8414966728884354 \n",
      " apur:0.2291971584902667 \n",
      " f1:0.22668528018773393 \n",
      " precision:0.13110499098492204 \n",
      " recall:0.8365889120677666 \n",
      ", 'Validation':  best_epoch_indx:57\n",
      " auc:0.8172116707800746 \n",
      " apur:0.19728629330067637 \n",
      " f1:0.21811145510835914 \n",
      " precision:0.12623185808994805 \n",
      " recall:0.8014789533560864 \n",
      "}\n",
      "=====Epoch 58\n",
      "Training...\n"
     ]
    },
    {
     "name": "stderr",
     "output_type": "stream",
     "text": [
      "\r",
      "Iteration:  20%|█▉        | 199/1004 [00:04<00:17, 45.18it/s]\r",
      "Iteration:   5%|▌         | 54/1004 [00:01<00:21, 43.66it/s]\r",
      "Iteration:   1%|          | 8/1004 [00:00<00:25, 38.85it/s]\r",
      "Iteration:  20%|█▉        | 199/1004 [00:04<00:17, 44.93it/s]\n",
      "\r",
      "Iteration:   0%|          | 0/1004 [00:00<?, ?it/s]\r",
      "Iteration:  20%|██        | 204/1004 [00:04<00:17, 44.50it/s]\r",
      "Iteration:   6%|▌         | 59/1004 [00:01<00:21, 44.28it/s]\r",
      "Iteration:   1%|▏         | 13/1004 [00:00<00:24, 40.39it/s]\r",
      "Iteration:  20%|██        | 204/1004 [00:04<00:18, 44.01it/s]"
     ]
    },
    {
     "name": "stdout",
     "output_type": "stream",
     "text": [
      "{'Train':  best_epoch_indx:57\n",
      " auc:0.8404586017694506 \n",
      " apur:0.23154780817935938 \n",
      " f1:0.2319702069755783 \n",
      " precision:0.13512160527303826 \n",
      " recall:0.8189633375474084 \n",
      ", 'Validation':  best_epoch_indx:57\n",
      " auc:0.8140791317604832 \n",
      " apur:0.20043255892383738 \n",
      " f1:0.2202771699489424 \n",
      " precision:0.12843776580663455 \n",
      " recall:0.773037542662116 \n",
      "}\n",
      "=====Epoch 58\n",
      "Training...\n"
     ]
    },
    {
     "name": "stderr",
     "output_type": "stream",
     "text": [
      "Iteration: 100%|██████████| 1004/1004 [00:22<00:00, 43.80it/s]\n",
      "Iteration: 100%|██████████| 1004/1004 [00:22<00:00, 43.84it/s]\n",
      "Iteration:  86%|████████▌ | 859/1004 [00:19<00:03, 44.81it/s]"
     ]
    },
    {
     "name": "stdout",
     "output_type": "stream",
     "text": [
      "Evaluating...\n",
      "Evaluating...\n"
     ]
    },
    {
     "name": "stderr",
     "output_type": "stream",
     "text": [
      "Iteration: 100%|██████████| 1004/1004 [00:23<00:00, 43.61it/s]\n",
      "Iteration:  94%|█████████▍| 944/1004 [00:21<00:01, 43.36it/s]"
     ]
    },
    {
     "name": "stdout",
     "output_type": "stream",
     "text": [
      "Evaluating...\n"
     ]
    },
    {
     "name": "stderr",
     "output_type": "stream",
     "text": [
      "Iteration: 100%|██████████| 1004/1004 [00:23<00:00, 43.44it/s]\n",
      "Iteration:   0%|          | 5/1004 [00:00<00:24, 40.50it/s]s]"
     ]
    },
    {
     "name": "stdout",
     "output_type": "stream",
     "text": [
      "Evaluating...\n"
     ]
    },
    {
     "name": "stderr",
     "output_type": "stream",
     "text": [
      "\r",
      "Iteration:   7%|▋         | 68/1004 [00:01<00:19, 49.07it/s]\r",
      "Iteration:  24%|██▎       | 237/1004 [00:04<00:15, 48.26it/s]\r",
      "Iteration: 100%|██████████| 1004/1004 [00:23<00:00, 40.65it/s]\r",
      "Iteration: 100%|██████████| 1004/1004 [00:23<00:00, 43.49it/s]\n",
      "\r",
      "Iteration:   0%|          | 0/1004 [00:00<?, ?it/s]\r",
      "Iteration:  23%|██▎       | 233/1004 [00:04<00:15, 49.05it/s]\r",
      "Iteration:   1%|          | 11/1004 [00:00<00:20, 49.29it/s]\r",
      "Iteration:   7%|▋         | 73/1004 [00:01<00:19, 47.58it/s]\r",
      "Iteration:   0%|          | 4/1004 [00:00<00:26, 38.35it/s]\r",
      "Iteration:  24%|██▍       | 243/1004 [00:04<00:15, 49.56it/s]\r",
      "Iteration:  24%|██▎       | 238/1004 [00:04<00:16, 47.71it/s]\r",
      "Iteration:   2%|▏         | 17/1004 [00:00<00:19, 49.54it/s]"
     ]
    },
    {
     "name": "stdout",
     "output_type": "stream",
     "text": [
      "Evaluating...\n"
     ]
    },
    {
     "name": "stderr",
     "output_type": "stream",
     "text": [
      "Iteration:  97%|█████████▋| 973/1004 [00:19<00:00, 66.15it/s]]\n",
      "Iteration:   0%|          | 0/112 [00:00<?, ?it/s]\n",
      "Iteration: 100%|██████████| 112/112 [00:01<00:00, 67.04it/s]s]\n",
      "Iteration:   8%|▊         | 9/112 [00:00<00:01, 81.52it/s]\n",
      "Iteration:   0%|          | 0/1004 [00:00<?, ?it/s]\n",
      "Iteration:  22%|██▏       | 25/112 [00:00<00:01, 59.90it/s]"
     ]
    },
    {
     "name": "stdout",
     "output_type": "stream",
     "text": [
      "{'Train':  best_epoch_indx:58\n",
      " auc:0.8479255975531407 \n",
      " apur:0.24376245461015705 \n",
      " f1:0.23119075444747436 \n",
      " precision:0.1339385124630122 \n",
      " recall:0.8440581542351454 \n",
      ", 'Validation':  best_epoch_indx:58\n",
      " auc:0.8221294381539201 \n",
      " apur:0.20731999190487943 \n",
      " f1:0.21952935657884454 \n",
      " precision:0.12725459983685308 \n",
      " recall:0.7986348122866894 \n",
      "}\n",
      "=====Epoch 59\n",
      "Training...\n",
      "{'Train':  best_epoch_indx:58\n",
      " auc:0.8453897517876212 \n",
      " apur:0.2346594728634299 \n",
      " f1:0.23790585533869113 \n",
      " precision:0.13917575627317177 \n",
      " recall:0.8186472819216182 \n",
      ", 'Validation':  best_epoch_indx:58\n",
      " auc:0.8231806972242518 \n",
      " apur:0.2148016901458974 \n",
      " f1:0.23010610079575594 \n",
      " precision:0.1346788278672618 \n",
      " recall:0.7895335608646189 \n",
      "}\n",
      "=====Epoch 59\n",
      "Training...\n"
     ]
    },
    {
     "name": "stderr",
     "output_type": "stream",
     "text": [
      "Iteration:  54%|█████▎    | 60/112 [00:00<00:00, 60.20it/s]]\n",
      "Iteration:   4%|▍         | 39/1004 [00:00<00:21, 44.32it/s]\n",
      "Iteration:  60%|█████▉    | 67/112 [00:01<00:00, 56.29it/s]]\n",
      "Iteration:   0%|          | 0/1004 [00:00<?, ?it/s]"
     ]
    },
    {
     "name": "stdout",
     "output_type": "stream",
     "text": [
      "{'Train':  best_epoch_indx:58\n",
      " auc:0.8460020528972955 \n",
      " apur:0.24372830807314302 \n",
      " f1:0.22726655348047536 \n",
      " precision:0.13125974446220373 \n",
      " recall:0.846197610468424 \n",
      ", 'Validation':  best_epoch_indx:58\n",
      " auc:0.8201124470265491 \n",
      " apur:0.2050498861088435 \n",
      " f1:0.21911314984709485 \n",
      " precision:0.12656774421480305 \n",
      " recall:0.8151308304891922 \n",
      "}\n",
      "=====Epoch 59\n",
      "Training...\n"
     ]
    },
    {
     "name": "stderr",
     "output_type": "stream",
     "text": [
      "Iteration:  17%|█▋        | 169/1004 [00:03<00:19, 42.52it/s]\n",
      "Iteration:   0%|          | 4/1004 [00:00<00:30, 32.48it/s]]]\n",
      "Iteration:  18%|█▊        | 179/1004 [00:04<00:18, 43.58it/s]"
     ]
    },
    {
     "name": "stdout",
     "output_type": "stream",
     "text": [
      "{'Train':  best_epoch_indx:58\n",
      " auc:0.8446779765812187 \n",
      " apur:0.23995371680960467 \n",
      " f1:0.23809925172552657 \n",
      " precision:0.1397537379067722 \n",
      " recall:0.8035906188760351 \n",
      ", 'Validation':  best_epoch_indx:58\n",
      " auc:0.8187013320608004 \n",
      " apur:0.20889333169026011 \n",
      " f1:0.2277923617579812 \n",
      " precision:0.13381753059397075 \n",
      " recall:0.7650739476678043 \n",
      "}\n",
      "=====Epoch 59\n",
      "Training...\n",
      "{'Train':  best_epoch_indx:58\n",
      " auc:0.8429846499574596 \n",
      " apur:0.2371563489674356 \n",
      " f1:0.22945733746988578 \n",
      " precision:0.1329563942394601 \n",
      " recall:0.8368520859671302 \n",
      ", 'Validation':  best_epoch_indx:58\n",
      " auc:0.8135067683343465 \n",
      " apur:0.2052565631017665 \n",
      " f1:0.21822729404408317 \n",
      " precision:0.1264951069227981 \n",
      " recall:0.7940841865756542 \n",
      "}\n",
      "=====Epoch 59\n",
      "Training...\n"
     ]
    },
    {
     "name": "stderr",
     "output_type": "stream",
     "text": [
      "Iteration: 100%|██████████| 1004/1004 [00:23<00:00, 43.55it/s]\n",
      "Iteration: 100%|██████████| 1004/1004 [00:23<00:00, 43.53it/s]\n",
      "Iteration:  91%|█████████ | 914/1004 [00:21<00:02, 37.03it/s]"
     ]
    },
    {
     "name": "stdout",
     "output_type": "stream",
     "text": [
      "Evaluating...\n",
      "Evaluating...\n"
     ]
    },
    {
     "name": "stderr",
     "output_type": "stream",
     "text": [
      "Iteration: 100%|██████████| 1004/1004 [00:23<00:00, 43.43it/s]\n",
      "Iteration:   0%|          | 0/1004 [00:00<?, ?it/s]"
     ]
    },
    {
     "name": "stdout",
     "output_type": "stream",
     "text": [
      "Evaluating...\n"
     ]
    },
    {
     "name": "stderr",
     "output_type": "stream",
     "text": [
      "Iteration: 100%|██████████| 1004/1004 [00:23<00:00, 43.09it/s]\n",
      "Iteration:   0%|          | 0/1004 [00:00<?, ?it/s]48.82it/s]"
     ]
    },
    {
     "name": "stdout",
     "output_type": "stream",
     "text": [
      "Evaluating...\n",
      "Evaluating...\n"
     ]
    },
    {
     "name": "stderr",
     "output_type": "stream",
     "text": [
      "Iteration: 100%|██████████| 1004/1004 [00:23<00:00, 43.22it/s]\n",
      "Iteration:  98%|█████████▊| 983/1004 [00:20<00:00, 65.45it/s]]\n",
      "Iteration:   6%|▋         | 7/112 [00:00<00:01, 60.73it/s]/s]\n",
      "Iteration:  93%|█████████▎| 104/112 [00:01<00:00, 71.48it/s]s]\n",
      "Iteration:  64%|██████▍   | 72/112 [00:01<00:00, 66.97it/s]]\n",
      "Iteration:  71%|███████▏  | 80/112 [00:01<00:00, 68.53it/s]\n",
      "Iteration:   0%|          | 3/1004 [00:00<00:34, 29.14it/s]"
     ]
    },
    {
     "name": "stdout",
     "output_type": "stream",
     "text": [
      "{'Train':  best_epoch_indx:59\n",
      " auc:0.8515588578058233 \n",
      " apur:0.2497100012773211 \n",
      " f1:0.23687991666367325 \n",
      " precision:0.13805267124434767 \n",
      " recall:0.8336915297092288 \n",
      ", 'Validation':  best_epoch_indx:59\n",
      " auc:0.8233964618160109 \n",
      " apur:0.21106450773776714 \n",
      " f1:0.2263447828904731 \n",
      " precision:0.131966748535802 \n",
      " recall:0.7946530147895335 \n",
      "}\n",
      "=====Epoch 60\n",
      "Training...\n",
      "{'Train':  best_epoch_indx:59\n",
      " auc:0.849268678247673 \n",
      " apur:0.24331805567504658 \n",
      " f1:0.23311822698813275 \n",
      " precision:0.13524220594344305 \n",
      " recall:0.8437420986093552 \n",
      ", 'Validation':  best_epoch_indx:59\n",
      " auc:0.8241025352245319 \n",
      " apur:0.21643365038748458 \n",
      " f1:0.2220304409226424 \n",
      " precision:0.12877684746996723 \n",
      " recall:0.8048919226393629 \n",
      "}\n",
      "=====Epoch 60\n",
      "Training...\n"
     ]
    },
    {
     "name": "stderr",
     "output_type": "stream",
     "text": [
      "Iteration: 100%|██████████| 112/112 [00:01<00:00, 68.69it/s]\n",
      "Iteration:   2%|▏         | 18/1004 [00:00<00:24, 40.71it/s]\n",
      "Iteration:  42%|████▏     | 47/112 [00:01<00:01, 47.32it/s]]\n",
      "Iteration:  46%|████▋     | 52/112 [00:01<00:01, 44.12it/s]]"
     ]
    },
    {
     "name": "stdout",
     "output_type": "stream",
     "text": [
      "{'Train':  best_epoch_indx:59\n",
      " auc:0.8498817555306147 \n",
      " apur:0.25273356543716907 \n",
      " f1:0.24066382312950507 \n",
      " precision:0.1411221179785712 \n",
      " recall:0.8168025791769391 \n",
      ", 'Validation':  best_epoch_indx:59\n",
      " auc:0.8232740752799942 \n",
      " apur:0.21449805063300675 \n",
      " f1:0.23066599563831575 \n",
      " precision:0.13528138528138528 \n",
      " recall:0.7821387940841866 \n",
      "}\n",
      "=====Epoch 60\n",
      "Training...\n"
     ]
    },
    {
     "name": "stderr",
     "output_type": "stream",
     "text": [
      "Iteration:  16%|█▋        | 164/1004 [00:03<00:18, 44.66it/s]\n",
      "Iteration:  16%|█▌        | 163/1004 [00:03<00:19, 43.84it/s]\n",
      "Iteration:  17%|█▋        | 168/1004 [00:03<00:19, 43.75it/s]"
     ]
    },
    {
     "name": "stdout",
     "output_type": "stream",
     "text": [
      "{'Train':  best_epoch_indx:59\n",
      " auc:0.850867953831974 \n",
      " apur:0.25141176710433927 \n",
      " f1:0.23568252377671806 \n",
      " precision:0.13726941115164148 \n",
      " recall:0.8326063594411783 \n",
      ", 'Validation':  best_epoch_indx:59\n",
      " auc:0.8214684790784703 \n",
      " apur:0.21293798670679126 \n",
      " f1:0.22312110670657714 \n",
      " precision:0.13005753088748467 \n",
      " recall:0.7844141069397043 \n",
      "}\n",
      "=====Epoch 60\n",
      "Training...\n",
      "{'Train':  best_epoch_indx:59\n",
      " auc:0.85043692621827 \n",
      " apur:0.24766328571228552 \n",
      " f1:0.23940905708221932 \n",
      " precision:0.1400621351708717 \n",
      " recall:0.8235777496839444 \n",
      ", 'Validation':  best_epoch_indx:59\n",
      " auc:0.8198726896490637 \n",
      " apur:0.20950462809074588 \n",
      " f1:0.22799734307539024 \n",
      " precision:0.13348240326657593 \n",
      " recall:0.7810011376564278 \n",
      "}\n",
      "=====Epoch 60\n",
      "Training...\n"
     ]
    },
    {
     "name": "stderr",
     "output_type": "stream",
     "text": [
      "Iteration: 100%|██████████| 1004/1004 [00:23<00:00, 43.60it/s]\n",
      "Iteration: 100%|██████████| 1004/1004 [00:23<00:00, 43.38it/s]\n",
      "Iteration:  84%|████████▍ | 844/1004 [00:19<00:03, 43.71it/s]"
     ]
    },
    {
     "name": "stdout",
     "output_type": "stream",
     "text": [
      "Evaluating...\n",
      "Evaluating...\n"
     ]
    },
    {
     "name": "stderr",
     "output_type": "stream",
     "text": [
      "Iteration: 100%|██████████| 1004/1004 [00:23<00:00, 43.49it/s]\n",
      "Iteration:  91%|█████████ | 909/1004 [00:20<00:02, 41.32it/s]"
     ]
    },
    {
     "name": "stdout",
     "output_type": "stream",
     "text": [
      "Evaluating...\n"
     ]
    },
    {
     "name": "stderr",
     "output_type": "stream",
     "text": [
      "Iteration: 100%|██████████| 1004/1004 [00:23<00:00, 43.18it/s]\n",
      "Iteration:   0%|          | 0/1004 [00:00<?, ?it/s]"
     ]
    },
    {
     "name": "stdout",
     "output_type": "stream",
     "text": [
      "Evaluating...\n",
      "Evaluating...\n"
     ]
    },
    {
     "name": "stderr",
     "output_type": "stream",
     "text": [
      "Iteration: 100%|██████████| 1004/1004 [00:23<00:00, 43.03it/s]\n",
      "Iteration: 100%|██████████| 1004/1004 [00:20<00:00, 48.51it/s]\n",
      "Iteration:   0%|          | 0/112 [00:00<?, ?it/s]\n",
      "Iteration:  93%|█████████▎| 104/112 [00:01<00:00, 73.94it/s]\n",
      "Iteration:  27%|██▋       | 30/112 [00:00<00:01, 72.27it/s]]\n",
      "Iteration:   0%|          | 4/1004 [00:00<00:28, 35.31it/s]"
     ]
    },
    {
     "name": "stdout",
     "output_type": "stream",
     "text": [
      "{'Train':  best_epoch_indx:60\n",
      " auc:0.8504630745877981 \n",
      " apur:0.25031118964175686 \n",
      " f1:0.2399384107373088 \n",
      " precision:0.1406007109391136 \n",
      " recall:0.8175726927939317 \n",
      ", 'Validation':  best_epoch_indx:60\n",
      " auc:0.8224686121603694 \n",
      " apur:0.21106745217627398 \n",
      " f1:0.2289449425961619 \n",
      " precision:0.13425061425061424 \n",
      " recall:0.7770193401592719 \n",
      "}\n",
      "=====Epoch 61\n",
      "Training...\n"
     ]
    },
    {
     "name": "stderr",
     "output_type": "stream",
     "text": [
      "Iteration:   3%|▎         | 29/1004 [00:00<00:23, 40.73it/s]\n",
      "Iteration:   0%|          | 4/1004 [00:00<00:29, 33.85it/s]]"
     ]
    },
    {
     "name": "stdout",
     "output_type": "stream",
     "text": [
      "{'Train':  best_epoch_indx:60\n",
      " auc:0.8480402864980128 \n",
      " apur:0.24168329303564715 \n",
      " f1:0.24408962680825602 \n",
      " precision:0.14362683180380278 \n",
      " recall:0.8121997471554994 \n",
      ", 'Validation':  best_epoch_indx:60\n",
      " auc:0.8229928464531342 \n",
      " apur:0.2179114953968511 \n",
      " f1:0.23437633947706815 \n",
      " precision:0.13798324417078833 \n",
      " recall:0.7775881683731513 \n",
      "}\n",
      "=====Epoch 61\n",
      "Training...\n"
     ]
    },
    {
     "name": "stderr",
     "output_type": "stream",
     "text": [
      "Iteration:   1%|▏         | 14/1004 [00:00<00:24, 40.18it/s]\n",
      "Iteration:   5%|▌         | 6/112 [00:00<00:01, 56.61it/s]s]\n",
      "Iteration:   4%|▍         | 39/1004 [00:00<00:21, 44.09it/s]\n",
      "Iteration:   0%|          | 4/1004 [00:00<00:30, 32.91it/s]]"
     ]
    },
    {
     "name": "stdout",
     "output_type": "stream",
     "text": [
      "{'Train':  best_epoch_indx:60\n",
      " auc:0.8495180571849609 \n",
      " apur:0.25239521128753817 \n",
      " f1:0.24251556216862705 \n",
      " precision:0.14248406515580736 \n",
      " recall:0.8139578987293761 \n",
      ", 'Validation':  best_epoch_indx:60\n",
      " auc:0.8217124535873288 \n",
      " apur:0.21241050600310446 \n",
      " f1:0.23304436511983684 \n",
      " precision:0.13699040767386092 \n",
      " recall:0.7798634812286689 \n",
      "}\n",
      "=====Epoch 61\n",
      "Training...\n"
     ]
    },
    {
     "name": "stderr",
     "output_type": "stream",
     "text": [
      "Iteration:  13%|█▎        | 129/1004 [00:02<00:19, 45.06it/s]\n",
      "Iteration:   0%|          | 4/1004 [00:00<00:27, 36.45it/s]s]"
     ]
    },
    {
     "name": "stdout",
     "output_type": "stream",
     "text": [
      "{'Train':  best_epoch_indx:60\n",
      " auc:0.850503711032695 \n",
      " apur:0.2508791838372827 \n",
      " f1:0.23373052245646195 \n",
      " precision:0.13579804393466127 \n",
      " recall:0.8382325052152475 \n",
      ", 'Validation':  best_epoch_indx:60\n",
      " auc:0.8210494308092924 \n",
      " apur:0.21090766122689403 \n",
      " f1:0.22473881489751976 \n",
      " precision:0.1306928856321306 \n",
      " recall:0.8014789533560864 \n",
      "}\n",
      "=====Epoch 61\n",
      "Training...\n",
      "{'Train':  best_epoch_indx:60\n",
      " auc:0.8492619236537167 \n",
      " apur:0.24246649279895938 \n",
      " f1:0.23653219744424955 \n",
      " precision:0.13776999416228838 \n",
      " recall:0.8353982300884956 \n",
      ", 'Validation':  best_epoch_indx:60\n",
      " auc:0.8188442479512459 \n",
      " apur:0.20747658974545005 \n",
      " f1:0.22355128101511357 \n",
      " precision:0.13028732925105982 \n",
      " recall:0.7866894197952219 \n",
      "}\n",
      "=====Epoch 61\n",
      "Training...\n"
     ]
    },
    {
     "name": "stderr",
     "output_type": "stream",
     "text": [
      "Iteration:  17%|█▋        | 169/1004 [00:03<00:18, 45.23it/s]\n",
      "Iteration: 100%|██████████| 1004/1004 [00:22<00:00, 43.74it/s]\n",
      "Iteration:  83%|████████▎ | 829/1004 [00:19<00:04, 42.50it/s]"
     ]
    },
    {
     "name": "stdout",
     "output_type": "stream",
     "text": [
      "Evaluating...\n"
     ]
    },
    {
     "name": "stderr",
     "output_type": "stream",
     "text": [
      "Iteration: 100%|██████████| 1004/1004 [00:22<00:00, 43.87it/s]\n",
      "Iteration:  86%|████████▌ | 859/1004 [00:19<00:03, 43.95it/s]"
     ]
    },
    {
     "name": "stdout",
     "output_type": "stream",
     "text": [
      "Evaluating...\n"
     ]
    },
    {
     "name": "stderr",
     "output_type": "stream",
     "text": [
      "Iteration: 100%|██████████| 1004/1004 [00:22<00:00, 43.78it/s]\n",
      "Iteration:  92%|█████████▏| 919/1004 [00:21<00:01, 43.51it/s]"
     ]
    },
    {
     "name": "stdout",
     "output_type": "stream",
     "text": [
      "Evaluating...\n"
     ]
    },
    {
     "name": "stderr",
     "output_type": "stream",
     "text": [
      "Iteration: 100%|██████████| 1004/1004 [00:23<00:00, 43.55it/s]\n",
      "Iteration:  99%|█████████▉| 994/1004 [00:22<00:00, 43.70it/s]"
     ]
    },
    {
     "name": "stdout",
     "output_type": "stream",
     "text": [
      "Evaluating...\n"
     ]
    },
    {
     "name": "stderr",
     "output_type": "stream",
     "text": [
      "Iteration: 100%|██████████| 1004/1004 [00:23<00:00, 43.36it/s]\n",
      "Iteration:   2%|▏         | 16/1004 [00:00<00:23, 41.96it/s]]"
     ]
    },
    {
     "name": "stdout",
     "output_type": "stream",
     "text": [
      "Evaluating...\n"
     ]
    },
    {
     "name": "stderr",
     "output_type": "stream",
     "text": [
      "Iteration: 100%|██████████| 1004/1004 [00:20<00:00, 48.69it/s]\n",
      "Iteration:  21%|██▏       | 24/112 [00:00<00:01, 74.17it/s]\n",
      "Iteration:  61%|██████    | 68/112 [00:00<00:00, 70.95it/s]\n",
      "Iteration:  33%|███▎      | 37/112 [00:00<00:01, 71.62it/s]]\n",
      "Iteration:  40%|████      | 45/112 [00:00<00:00, 67.46it/s]]"
     ]
    },
    {
     "name": "stdout",
     "output_type": "stream",
     "text": [
      "{'Train':  best_epoch_indx:61\n",
      " auc:0.8480617574520826 \n",
      " apur:0.23808639736329534 \n",
      " f1:0.23650279128399065 \n",
      " precision:0.1378937421251575 \n",
      " recall:0.8301517067003793 \n",
      ", 'Validation':  best_epoch_indx:61\n",
      " auc:0.8201294501413401 \n",
      " apur:0.2045804326242398 \n",
      " f1:0.22436316133246245 \n",
      " precision:0.1309818875119161 \n",
      " recall:0.7815699658703071 \n",
      "}\n",
      "=====Epoch 62\n",
      "Training...\n"
     ]
    },
    {
     "name": "stderr",
     "output_type": "stream",
     "text": [
      "\r",
      "Iteration:  46%|████▋     | 52/112 [00:00<00:00, 65.41it/s]\r",
      "Iteration:   1%|          | 9/1004 [00:00<00:25, 39.19it/s]\r",
      "Iteration:  53%|█████▎    | 59/112 [00:00<00:00, 65.47it/s]\r",
      "Iteration:   1%|▏         | 14/1004 [00:00<00:24, 40.59it/s]\n",
      "\r",
      "Iteration:   0%|          | 0/1004 [00:00<?, ?it/s]"
     ]
    },
    {
     "name": "stdout",
     "output_type": "stream",
     "text": [
      "{'Train':  best_epoch_indx:61\n",
      " auc:0.8447854249581297 \n",
      " apur:0.23734563917390944 \n",
      " f1:0.23469642857142858 \n",
      " precision:0.13665003119151592 \n",
      " recall:0.8307838179519595 \n",
      ", 'Validation':  best_epoch_indx:61\n",
      " auc:0.8217365899349743 \n",
      " apur:0.21361492633422147 \n",
      " f1:0.2268157323252634 \n",
      " precision:0.13208430913348945 \n",
      " recall:0.8020477815699659 \n",
      "}\n",
      "=====Epoch 62\n",
      "Training...\n"
     ]
    },
    {
     "name": "stderr",
     "output_type": "stream",
     "text": [
      "Iteration:   2%|▏         | 18/1004 [00:00<00:34, 28.55it/s]\n",
      "Iteration:   0%|          | 0/112 [00:00<?, ?it/s]\n",
      "Iteration:   6%|▋         | 64/1004 [00:01<00:21, 43.86it/s]\n",
      "Iteration:   5%|▌         | 53/1004 [00:01<00:22, 42.14it/s]"
     ]
    },
    {
     "name": "stdout",
     "output_type": "stream",
     "text": [
      "{'Train':  best_epoch_indx:61\n",
      " auc:0.8462258922527064 \n",
      " apur:0.24491560214618505 \n",
      " f1:0.2260528038402793 \n",
      " precision:0.1303283368331414 \n",
      " recall:0.8513812503950945 \n",
      ", 'Validation':  best_epoch_indx:61\n",
      " auc:0.818063315974544 \n",
      " apur:0.20005040459776025 \n",
      " f1:0.21711521016026608 \n",
      " precision:0.12519616390584132 \n",
      " recall:0.8168373151308305 \n",
      "}\n",
      "=====Epoch 62\n",
      "Training...\n"
     ]
    },
    {
     "name": "stderr",
     "output_type": "stream",
     "text": [
      "Iteration:  14%|█▎        | 138/1004 [00:03<00:19, 45.22it/s]\n",
      "Iteration:  16%|█▌        | 159/1004 [00:03<00:18, 44.92it/s]\n",
      "Iteration:   0%|          | 0/1004 [00:00<?, ?it/s]"
     ]
    },
    {
     "name": "stdout",
     "output_type": "stream",
     "text": [
      "{'Train':  best_epoch_indx:61\n",
      " auc:0.8472848453509986 \n",
      " apur:0.24133882967814543 \n",
      " f1:0.23721925909800082 \n",
      " precision:0.1384817419300178 \n",
      " recall:0.8265486725663717 \n",
      ", 'Validation':  best_epoch_indx:61\n",
      " auc:0.8163447093233632 \n",
      " apur:0.20617311633637214 \n",
      " f1:0.22356891327491607 \n",
      " precision:0.13058452119008898 \n",
      " recall:0.7764505119453925 \n",
      "}\n",
      "=====Epoch 62\n",
      "Training...\n",
      "{'Train':  best_epoch_indx:61\n",
      " auc:0.8468497022653245 \n",
      " apur:0.23970144810283434 \n",
      " f1:0.2334102992825358 \n",
      " precision:0.13569503589870188 \n",
      " recall:0.8339338769833744 \n",
      ", 'Validation':  best_epoch_indx:61\n",
      " auc:0.8189042209429421 \n",
      " apur:0.20847737146520023 \n",
      " f1:0.22169059011164272 \n",
      " precision:0.12891856798367649 \n",
      " recall:0.7906712172923777 \n",
      "}\n",
      "=====Epoch 62\n",
      "Training...\n"
     ]
    },
    {
     "name": "stderr",
     "output_type": "stream",
     "text": [
      "Iteration:  83%|████████▎ | 837/1004 [00:19<00:03, 44.27it/s]]\n",
      "Iteration:   0%|          | 0/1004 [00:00<?, ?it/s]"
     ]
    },
    {
     "name": "stdout",
     "output_type": "stream",
     "text": [
      "Evaluating...\n"
     ]
    },
    {
     "name": "stderr",
     "output_type": "stream",
     "text": [
      "Iteration: 100%|██████████| 1004/1004 [00:23<00:00, 43.05it/s]\n",
      "Iteration:   0%|          | 3/1004 [00:00<00:35, 28.47it/s]s]"
     ]
    },
    {
     "name": "stdout",
     "output_type": "stream",
     "text": [
      "Evaluating...\n"
     ]
    },
    {
     "name": "stderr",
     "output_type": "stream",
     "text": [
      "Iteration: 100%|██████████| 1004/1004 [00:23<00:00, 43.07it/s]\n",
      "Iteration:   0%|          | 4/1004 [00:00<00:25, 39.98it/s]s]"
     ]
    },
    {
     "name": "stdout",
     "output_type": "stream",
     "text": [
      "Evaluating...\n"
     ]
    },
    {
     "name": "stderr",
     "output_type": "stream",
     "text": [
      "Iteration: 100%|██████████| 1004/1004 [00:23<00:00, 42.81it/s]\n",
      "Iteration:   0%|          | 0/1004 [00:00<?, ?it/s]"
     ]
    },
    {
     "name": "stdout",
     "output_type": "stream",
     "text": [
      "Evaluating...\n",
      "Evaluating...\n"
     ]
    },
    {
     "name": "stderr",
     "output_type": "stream",
     "text": [
      "Iteration: 100%|██████████| 1004/1004 [00:23<00:00, 42.46it/s]\n",
      "Iteration: 100%|██████████| 1004/1004 [00:21<00:00, 46.95it/s]\n",
      "Iteration:  21%|██        | 23/112 [00:00<00:01, 72.44it/s]/s]\n",
      "Iteration:  55%|█████▌    | 62/112 [00:00<00:00, 73.61it/s]\n",
      "Iteration:  38%|███▊      | 42/112 [00:00<00:01, 67.95it/s]]\n",
      "Iteration:   0%|          | 4/1004 [00:00<00:27, 36.43it/s]]"
     ]
    },
    {
     "name": "stdout",
     "output_type": "stream",
     "text": [
      "{'Train':  best_epoch_indx:62\n",
      " auc:0.8462527125499705 \n",
      " apur:0.23600287620709914 \n",
      " f1:0.22582079659011772 \n",
      " precision:0.13019165465398644 \n",
      " recall:0.8506321112515802 \n",
      ", 'Validation':  best_epoch_indx:62\n",
      " auc:0.8173272650427947 \n",
      " apur:0.1988732161642043 \n",
      " f1:0.21177537601088356 \n",
      " precision:0.12211278654231675 \n",
      " recall:0.7969283276450512 \n",
      "}\n",
      "=====Epoch 63\n",
      "Training...\n"
     ]
    },
    {
     "name": "stderr",
     "output_type": "stream",
     "text": [
      "Iteration:   1%|▏         | 14/1004 [00:00<00:23, 41.26it/s]\n",
      "Iteration:   0%|          | 4/1004 [00:00<00:27, 36.13it/s]]"
     ]
    },
    {
     "name": "stdout",
     "output_type": "stream",
     "text": [
      "{'Train':  best_epoch_indx:62\n",
      " auc:0.8425790735113644 \n",
      " apur:0.23163863642402086 \n",
      " f1:0.24010785432124374 \n",
      " precision:0.14109851632705073 \n",
      " recall:0.8049304677623261 \n",
      ", 'Validation':  best_epoch_indx:62\n",
      " auc:0.8178637379891613 \n",
      " apur:0.20692798800948986 \n",
      " f1:0.23027100732912903 \n",
      " precision:0.1354250200481155 \n",
      " recall:0.7684869169510807 \n",
      "}\n",
      "=====Epoch 63\n",
      "Training...\n"
     ]
    },
    {
     "name": "stderr",
     "output_type": "stream",
     "text": [
      "Iteration:  96%|█████████▋| 108/112 [00:01<00:00, 49.57it/s]\n",
      "Iteration:   0%|          | 0/112 [00:00<?, ?it/s]\n",
      "Iteration:  16%|█▌        | 18/112 [00:00<00:01, 53.94it/s]]\n",
      "Iteration:  27%|██▋       | 30/112 [00:00<00:01, 49.39it/s]]"
     ]
    },
    {
     "name": "stdout",
     "output_type": "stream",
     "text": [
      "{'Train':  best_epoch_indx:62\n",
      " auc:0.8424605371791222 \n",
      " apur:0.24370521725223615 \n",
      " f1:0.2395243649190681 \n",
      " precision:0.14089692101740295 \n",
      " recall:0.7984069789493647 \n",
      ", 'Validation':  best_epoch_indx:62\n",
      " auc:0.816970980250115 \n",
      " apur:0.20591483692657175 \n",
      " f1:0.23001450388192135 \n",
      " precision:0.13530061226538193 \n",
      " recall:0.7667804323094426 \n",
      "}\n",
      "=====Epoch 63\n",
      "Training...\n"
     ]
    },
    {
     "name": "stderr",
     "output_type": "stream",
     "text": [
      "Iteration:  16%|█▋        | 164/1004 [00:03<00:18, 44.96it/s]\n",
      "Iteration:  17%|█▋        | 169/1004 [00:03<00:18, 44.41it/s]\n",
      "Iteration:   0%|          | 4/1004 [00:00<00:31, 31.89it/s]"
     ]
    },
    {
     "name": "stdout",
     "output_type": "stream",
     "text": [
      "{'Train':  best_epoch_indx:62\n",
      " auc:0.8435902183905863 \n",
      " apur:0.2348995664081335 \n",
      " f1:0.23306551352890406 \n",
      " precision:0.13562323312864377 \n",
      " recall:0.8278761061946903 \n",
      ", 'Validation':  best_epoch_indx:62\n",
      " auc:0.8170732501722204 \n",
      " apur:0.20638015836989507 \n",
      " f1:0.22077189589879945 \n",
      " precision:0.1286022716605651 \n",
      " recall:0.7792946530147895 \n",
      "}\n",
      "=====Epoch 63\n",
      "Training...\n",
      "{'Train':  best_epoch_indx:62\n",
      " auc:0.8454697452190414 \n",
      " apur:0.23606974921280924 \n",
      " f1:0.21946554194111198 \n",
      " precision:0.12563914597269313 \n",
      " recall:0.866742524811935 \n",
      ", 'Validation':  best_epoch_indx:62\n",
      " auc:0.817488287680284 \n",
      " apur:0.19979873384905728 \n",
      " f1:0.21198290226762298 \n",
      " precision:0.12146118721461187 \n",
      " recall:0.8321956769055745 \n",
      "}\n",
      "=====Epoch 63\n",
      "Training...\n"
     ]
    },
    {
     "name": "stderr",
     "output_type": "stream",
     "text": [
      "Iteration: 100%|██████████| 1004/1004 [00:23<00:00, 43.61it/s]\n",
      "Iteration:   0%|          | 0/1004 [00:00<?, ?it/s]"
     ]
    },
    {
     "name": "stdout",
     "output_type": "stream",
     "text": [
      "Evaluating...\n"
     ]
    },
    {
     "name": "stderr",
     "output_type": "stream",
     "text": [
      "Iteration:   2%|▏         | 21/1004 [00:00<00:20, 48.62it/s]s]\n",
      "Iteration:   0%|          | 0/1004 [00:00<?, ?it/s]"
     ]
    },
    {
     "name": "stdout",
     "output_type": "stream",
     "text": [
      "Evaluating...\n"
     ]
    },
    {
     "name": "stderr",
     "output_type": "stream",
     "text": [
      "Iteration: 100%|██████████| 1004/1004 [00:23<00:00, 43.28it/s]\n",
      "Iteration:   8%|▊         | 83/1004 [00:01<00:19, 47.69it/s]]"
     ]
    },
    {
     "name": "stdout",
     "output_type": "stream",
     "text": [
      "Evaluating...\n"
     ]
    },
    {
     "name": "stderr",
     "output_type": "stream",
     "text": [
      "Iteration: 100%|██████████| 1004/1004 [00:23<00:00, 43.15it/s]\n",
      "Iteration: 100%|██████████| 1004/1004 [00:23<00:00, 43.14it/s]\n",
      "Iteration:  12%|█▏        | 125/1004 [00:02<00:17, 49.71it/s]"
     ]
    },
    {
     "name": "stdout",
     "output_type": "stream",
     "text": [
      "Evaluating...\n",
      "Evaluating...\n"
     ]
    },
    {
     "name": "stderr",
     "output_type": "stream",
     "text": [
      "Iteration: 100%|██████████| 1004/1004 [00:20<00:00, 48.29it/s]\n",
      "Iteration:  28%|██▊       | 31/112 [00:00<00:01, 73.45it/s]\n",
      "Iteration:  78%|███████▊  | 87/112 [00:01<00:00, 69.63it/s]\n",
      "Iteration:  88%|████████▊ | 99/112 [00:01<00:00, 67.65it/s]]\n",
      "Iteration:  95%|█████████▍| 106/112 [00:01<00:00, 63.63it/s]"
     ]
    },
    {
     "name": "stdout",
     "output_type": "stream",
     "text": [
      "{'Train':  best_epoch_indx:63\n",
      " auc:0.8447450990189451 \n",
      " apur:0.23897671823985817 \n",
      " f1:0.21219438116932424 \n",
      " precision:0.12058163617535382 \n",
      " recall:0.8832490518331226 \n",
      ", 'Validation':  best_epoch_indx:63\n",
      " auc:0.8174626887955879 \n",
      " apur:0.20326142119731871 \n",
      " f1:0.20245356726749364 \n",
      " precision:0.11509389854281929 \n",
      " recall:0.8401592718998863 \n",
      "}\n",
      "=====Epoch 64\n",
      "Training...\n"
     ]
    },
    {
     "name": "stderr",
     "output_type": "stream",
     "text": [
      "Iteration:   2%|▏         | 19/1004 [00:00<00:23, 41.75it/s]\n",
      "Iteration:   0%|          | 4/1004 [00:00<00:26, 37.43it/s]]"
     ]
    },
    {
     "name": "stdout",
     "output_type": "stream",
     "text": [
      "{'Train':  best_epoch_indx:63\n",
      " auc:0.8388044441337406 \n",
      " apur:0.22551088671435593 \n",
      " f1:0.22850299816899083 \n",
      " precision:0.13243207902069062 \n",
      " recall:0.8322376738305942 \n",
      ", 'Validation':  best_epoch_indx:63\n",
      " auc:0.8172304415009943 \n",
      " apur:0.20469120791793965 \n",
      " f1:0.22043178973717142 \n",
      " precision:0.12778886268819153 \n",
      " recall:0.8014789533560864 \n",
      "}\n",
      "=====Epoch 64\n",
      "Training...\n"
     ]
    },
    {
     "name": "stderr",
     "output_type": "stream",
     "text": [
      "Iteration:   1%|          | 9/1004 [00:00<00:24, 40.17it/s]]\n",
      "Iteration:  82%|████████▏ | 92/112 [00:01<00:00, 61.03it/s]]\n",
      "Iteration:   6%|▋         | 64/1004 [00:01<00:21, 44.22it/s]\n",
      "Iteration:  41%|████      | 46/112 [00:00<00:01, 50.46it/s]]"
     ]
    },
    {
     "name": "stdout",
     "output_type": "stream",
     "text": [
      "{'Train':  best_epoch_indx:63\n",
      " auc:0.8392070259059526 \n",
      " apur:0.23674255812057898 \n",
      " f1:0.21177050746636666 \n",
      " precision:0.12058299623562033 \n",
      " recall:0.8687021935647007 \n",
      ", 'Validation':  best_epoch_indx:63\n",
      " auc:0.8149823156839029 \n",
      " apur:0.19783580897349579 \n",
      " f1:0.20449641539639452 \n",
      " precision:0.11650408438417004 \n",
      " recall:0.835608646188851 \n",
      "}\n",
      "=====Epoch 64\n",
      "Training...\n"
     ]
    },
    {
     "name": "stderr",
     "output_type": "stream",
     "text": [
      "Iteration:   8%|▊         | 79/1004 [00:01<00:20, 44.43it/s]]\n",
      "Iteration:  14%|█▍        | 144/1004 [00:03<00:24, 34.97it/s]\n",
      "Iteration:   0%|          | 0/1004 [00:00<?, ?it/s]"
     ]
    },
    {
     "name": "stdout",
     "output_type": "stream",
     "text": [
      "{'Train':  best_epoch_indx:63\n",
      " auc:0.8413001382036474 \n",
      " apur:0.23343442281693427 \n",
      " f1:0.22800821212332104 \n",
      " precision:0.1321961405384685 \n",
      " recall:0.8284341614514191 \n",
      ", 'Validation':  best_epoch_indx:63\n",
      " auc:0.8162092227622303 \n",
      " apur:0.19847398533506908 \n",
      " f1:0.21988707653701378 \n",
      " precision:0.12752410405675824 \n",
      " recall:0.7974971558589306 \n",
      "}\n",
      "=====Epoch 64\n",
      "Training...\n",
      "{'Train':  best_epoch_indx:63\n",
      " auc:0.8378155724731295 \n",
      " apur:0.22348086876824724 \n",
      " f1:0.2135830644526639 \n",
      " precision:0.12197752808988764 \n",
      " recall:0.8577749683944375 \n",
      ", 'Validation':  best_epoch_indx:63\n",
      " auc:0.8094703634722201 \n",
      " apur:0.1953611605557722 \n",
      " f1:0.20368133039584962 \n",
      " precision:0.1163810606675871 \n",
      " recall:0.8151308304891922 \n",
      "}\n",
      "=====Epoch 64\n",
      "Training...\n"
     ]
    },
    {
     "name": "stderr",
     "output_type": "stream",
     "text": [
      "Iteration:  97%|█████████▋| 974/1004 [00:22<00:00, 44.22it/s]]\n",
      "Iteration:  84%|████████▍ | 844/1004 [00:19<00:03, 43.35it/s]"
     ]
    },
    {
     "name": "stdout",
     "output_type": "stream",
     "text": [
      "Evaluating...\n"
     ]
    },
    {
     "name": "stderr",
     "output_type": "stream",
     "text": [
      "Iteration: 100%|██████████| 1004/1004 [00:23<00:00, 43.40it/s]\n",
      "Iteration:   0%|          | 0/1004 [00:00<?, ?it/s]"
     ]
    },
    {
     "name": "stdout",
     "output_type": "stream",
     "text": [
      "Evaluating...\n"
     ]
    },
    {
     "name": "stderr",
     "output_type": "stream",
     "text": [
      "Iteration: 100%|██████████| 1004/1004 [00:23<00:00, 43.01it/s]\n",
      "Iteration:   7%|▋         | 70/1004 [00:01<00:19, 48.11it/s]]"
     ]
    },
    {
     "name": "stdout",
     "output_type": "stream",
     "text": [
      "Evaluating...\n"
     ]
    },
    {
     "name": "stderr",
     "output_type": "stream",
     "text": [
      "Iteration: 100%|██████████| 1004/1004 [00:23<00:00, 42.99it/s]\n",
      "Iteration: 100%|██████████| 1004/1004 [00:23<00:00, 42.85it/s]\n",
      "Iteration:  20%|██        | 203/1004 [00:03<00:16, 49.57it/s]"
     ]
    },
    {
     "name": "stdout",
     "output_type": "stream",
     "text": [
      "Evaluating...\n",
      "Evaluating...\n"
     ]
    },
    {
     "name": "stderr",
     "output_type": "stream",
     "text": [
      "Iteration:  99%|█████████▉| 998/1004 [00:20<00:00, 68.76it/s]]\n",
      "Iteration:  50%|█████     | 56/112 [00:00<00:00, 73.43it/s]/s]\n",
      "Iteration:  55%|█████▌    | 62/112 [00:00<00:00, 70.47it/s]]\n",
      "Iteration:   0%|          | 0/112 [00:00<?, ?it/s]\n",
      "Iteration:   0%|          | 4/1004 [00:00<00:29, 34.46it/s]"
     ]
    },
    {
     "name": "stdout",
     "output_type": "stream",
     "text": [
      "{'Train':  best_epoch_indx:64\n",
      " auc:0.8376470947976319 \n",
      " apur:0.21300759232710326 \n",
      " f1:0.2348977844868054 \n",
      " precision:0.13746592978033462 \n",
      " recall:0.8065739570164349 \n",
      ", 'Validation':  best_epoch_indx:64\n",
      " auc:0.8133616720972552 \n",
      " apur:0.18729571025373137 \n",
      " f1:0.22626397463707656 \n",
      " precision:0.13257723895189674 \n",
      " recall:0.7713310580204779 \n",
      "}\n",
      "=====Epoch 65\n",
      "Training...\n"
     ]
    },
    {
     "name": "stderr",
     "output_type": "stream",
     "text": [
      "Iteration:  57%|█████▋    | 64/112 [00:01<00:00, 63.27it/s]]\n",
      "Iteration:   0%|          | 0/1004 [00:00<?, ?it/s]\n",
      "Iteration:   5%|▌         | 54/1004 [00:01<00:21, 44.92it/s]"
     ]
    },
    {
     "name": "stdout",
     "output_type": "stream",
     "text": [
      "{'Train':  best_epoch_indx:64\n",
      " auc:0.8369661939302474 \n",
      " apur:0.21729651569897374 \n",
      " f1:0.21980826489546182 \n",
      " precision:0.12624022850270594 \n",
      " recall:0.8493046776232617 \n",
      ", 'Validation':  best_epoch_indx:64\n",
      " auc:0.8164615059171556 \n",
      " apur:0.19925083591400095 \n",
      " f1:0.2128632541672813 \n",
      " precision:0.12228813559322034 \n",
      " recall:0.8208191126279863 \n",
      "}\n",
      "=====Epoch 65\n",
      "Training...\n"
     ]
    },
    {
     "name": "stderr",
     "output_type": "stream",
     "text": [
      "Iteration:  11%|█         | 12/112 [00:00<00:01, 53.74it/s]\n",
      "Iteration:  42%|████▏     | 47/112 [00:01<00:01, 48.99it/s]s]\n",
      "Iteration:   0%|          | 0/1004 [00:00<?, ?it/s]"
     ]
    },
    {
     "name": "stdout",
     "output_type": "stream",
     "text": [
      "{'Train':  best_epoch_indx:64\n",
      " auc:0.8336291824975146 \n",
      " apur:0.22966201728184413 \n",
      " f1:0.2187303997623213 \n",
      " precision:0.12578664110181959 \n",
      " recall:0.8377267842467918 \n",
      ", 'Validation':  best_epoch_indx:64\n",
      " auc:0.8135218782263297 \n",
      " apur:0.20204061687902908 \n",
      " f1:0.21444560513356214 \n",
      " precision:0.1234111989007214 \n",
      " recall:0.8174061433447098 \n",
      "}\n",
      "=====Epoch 65\n",
      "Training...\n"
     ]
    },
    {
     "name": "stderr",
     "output_type": "stream",
     "text": [
      "Iteration: 100%|██████████| 112/112 [00:02<00:00, 48.63it/s]]\n",
      "Iteration:   5%|▌         | 54/1004 [00:01<00:21, 43.25it/s]]"
     ]
    },
    {
     "name": "stdout",
     "output_type": "stream",
     "text": [
      "{'Train':  best_epoch_indx:64\n",
      " auc:0.8389580444045138 \n",
      " apur:0.22788791139053022 \n",
      " f1:0.228664597356398 \n",
      " precision:0.13262468014523682 \n",
      " recall:0.8289398824198748 \n",
      ", 'Validation':  best_epoch_indx:64\n",
      " auc:0.8163622597679707 \n",
      " apur:0.20548050514061195 \n",
      " f1:0.21889055472263866 \n",
      " precision:0.1270728355474118 \n",
      " recall:0.7889647326507395 \n",
      "}\n",
      "=====Epoch 65\n",
      "Training...\n"
     ]
    },
    {
     "name": "stderr",
     "output_type": "stream",
     "text": [
      "Iteration:  17%|█▋        | 174/1004 [00:03<00:18, 45.19it/s]\n",
      "Iteration:   7%|▋         | 74/1004 [00:01<00:20, 44.38it/s]]"
     ]
    },
    {
     "name": "stdout",
     "output_type": "stream",
     "text": [
      "{'Train':  best_epoch_indx:64\n",
      " auc:0.8374162564932128 \n",
      " apur:0.22667719776376327 \n",
      " f1:0.23842030159281113 \n",
      " precision:0.14066624192227178 \n",
      " recall:0.7815423514538559 \n",
      ", 'Validation':  best_epoch_indx:64\n",
      " auc:0.8117349361016665 \n",
      " apur:0.19875061408823114 \n",
      " f1:0.22912111937035418 \n",
      " precision:0.1353725328097551 \n",
      " recall:0.745164960182025 \n",
      "}\n",
      "=====Epoch 65\n",
      "Training...\n"
     ]
    },
    {
     "name": "stderr",
     "output_type": "stream",
     "text": [
      "Iteration: 100%|██████████| 1004/1004 [00:22<00:00, 43.74it/s]\n",
      "Iteration:  84%|████████▍ | 844/1004 [00:19<00:03, 42.84it/s]"
     ]
    },
    {
     "name": "stdout",
     "output_type": "stream",
     "text": [
      "Evaluating...\n"
     ]
    },
    {
     "name": "stderr",
     "output_type": "stream",
     "text": [
      "Iteration: 100%|██████████| 1004/1004 [00:22<00:00, 43.68it/s]\n",
      "Iteration:  89%|████████▉ | 894/1004 [00:20<00:02, 44.00it/s]"
     ]
    },
    {
     "name": "stdout",
     "output_type": "stream",
     "text": [
      "Evaluating...\n"
     ]
    },
    {
     "name": "stderr",
     "output_type": "stream",
     "text": [
      "Iteration: 100%|██████████| 1004/1004 [00:23<00:00, 43.20it/s]\n",
      "Iteration:   0%|          | 0/1004 [00:00<?, ?it/s]"
     ]
    },
    {
     "name": "stdout",
     "output_type": "stream",
     "text": [
      "Evaluating...\n"
     ]
    },
    {
     "name": "stderr",
     "output_type": "stream",
     "text": [
      "Iteration: 100%|██████████| 1004/1004 [00:23<00:00, 43.26it/s]\n",
      "Iteration:  14%|█▍        | 141/1004 [00:02<00:18, 45.72it/s]"
     ]
    },
    {
     "name": "stdout",
     "output_type": "stream",
     "text": [
      "Evaluating...\n"
     ]
    },
    {
     "name": "stderr",
     "output_type": "stream",
     "text": [
      "Iteration: 100%|██████████| 1004/1004 [00:23<00:00, 43.07it/s]\n",
      "Iteration:  16%|█▌        | 161/1004 [00:03<00:18, 45.70it/s]"
     ]
    },
    {
     "name": "stdout",
     "output_type": "stream",
     "text": [
      "Evaluating...\n"
     ]
    },
    {
     "name": "stderr",
     "output_type": "stream",
     "text": [
      "Iteration:  99%|█████████▉| 993/1004 [00:20<00:00, 56.65it/s]]\n",
      "Iteration:  80%|████████  | 90/112 [00:01<00:00, 76.34it/s]/s]\n",
      "Iteration:  37%|███▋      | 41/112 [00:00<00:00, 74.99it/s]]\n",
      "Iteration:   0%|          | 4/1004 [00:00<00:26, 37.68it/s]"
     ]
    },
    {
     "name": "stdout",
     "output_type": "stream",
     "text": [
      "{'Train':  best_epoch_indx:65\n",
      " auc:0.8402638277590734 \n",
      " apur:0.22812342771153546 \n",
      " f1:0.22808640107871697 \n",
      " precision:0.13210777687663333 \n",
      " recall:0.834007585335019 \n",
      ", 'Validation':  best_epoch_indx:65\n",
      " auc:0.8162189849727278 \n",
      " apur:0.20124487987158718 \n",
      " f1:0.21859706362153344 \n",
      " precision:0.12658569500674763 \n",
      " recall:0.8003412969283277 \n",
      "}\n",
      "=====Epoch 66\n",
      "Training...\n"
     ]
    },
    {
     "name": "stderr",
     "output_type": "stream",
     "text": [
      "Iteration:   2%|▏         | 23/1004 [00:00<00:23, 42.14it/s]\n",
      "Iteration:   6%|▌         | 58/1004 [00:01<00:21, 44.99it/s]\n",
      "Iteration:   0%|          | 4/1004 [00:00<00:28, 35.58it/s]]\n",
      "Iteration:   0%|          | 0/112 [00:00<?, ?it/s]"
     ]
    },
    {
     "name": "stdout",
     "output_type": "stream",
     "text": [
      "{'Train':  best_epoch_indx:65\n",
      " auc:0.8391002533652128 \n",
      " apur:0.22689975947745508 \n",
      " f1:0.23317052070003422 \n",
      " precision:0.1359699829735354 \n",
      " recall:0.8177623261694058 \n",
      ", 'Validation':  best_epoch_indx:65\n",
      " auc:0.8155664242695443 \n",
      " apur:0.21337001403135125 \n",
      " f1:0.22475384490194483 \n",
      " precision:0.13113664419333396 \n",
      " recall:0.785551763367463 \n",
      "}\n",
      "=====Epoch 66\n",
      "Training...\n"
     ]
    },
    {
     "name": "stderr",
     "output_type": "stream",
     "text": [
      "Iteration:   7%|▋         | 68/1004 [00:01<00:20, 45.13it/s]\n",
      "Iteration:  13%|█▎        | 133/1004 [00:03<00:19, 45.24it/s]\n",
      "Iteration:  68%|██████▊   | 76/112 [00:01<00:00, 48.64it/s]"
     ]
    },
    {
     "name": "stdout",
     "output_type": "stream",
     "text": [
      "{'Train':  best_epoch_indx:65\n",
      " auc:0.8390087945955305 \n",
      " apur:0.23273262022061464 \n",
      " f1:0.2119005697326639 \n",
      " precision:0.12062113758512631 \n",
      " recall:0.871104368164865 \n",
      ", 'Validation':  best_epoch_indx:65\n",
      " auc:0.8155062359349696 \n",
      " apur:0.1952856167262691 \n",
      " f1:0.2059639389736477 \n",
      " precision:0.1172800505449376 \n",
      " recall:0.8447098976109215 \n",
      "}\n",
      "=====Epoch 66\n",
      "Training...\n"
     ]
    },
    {
     "name": "stderr",
     "output_type": "stream",
     "text": [
      "Iteration:  12%|█▏        | 118/1004 [00:02<00:19, 44.79it/s]\n",
      "Iteration:   0%|          | 0/1004 [00:00<?, ?it/s]\n",
      "Iteration:   5%|▍         | 49/1004 [00:01<00:21, 44.46it/s]"
     ]
    },
    {
     "name": "stdout",
     "output_type": "stream",
     "text": [
      "{'Train':  best_epoch_indx:65\n",
      " auc:0.8391579923947226 \n",
      " apur:0.23337073351679638 \n",
      " f1:0.233812158745282 \n",
      " precision:0.1367196288717229 \n",
      " recall:0.806688159807826 \n",
      ", 'Validation':  best_epoch_indx:65\n",
      " auc:0.8162709813052951 \n",
      " apur:0.20358064843832382 \n",
      " f1:0.22562489654030787 \n",
      " precision:0.13202247191011235 \n",
      " recall:0.7753128555176336 \n",
      "}\n",
      "=====Epoch 66\n",
      "Training...\n",
      "{'Train':  best_epoch_indx:65\n",
      " auc:0.8391441704982522 \n",
      " apur:0.22421000080886633 \n",
      " f1:0.23511531453997783 \n",
      " precision:0.13746881791805401 \n",
      " recall:0.8116308470290771 \n",
      ", 'Validation':  best_epoch_indx:65\n",
      " auc:0.81503587325234 \n",
      " apur:0.20023181354967098 \n",
      " f1:0.22470607716509358 \n",
      " precision:0.1314922480620155 \n",
      " recall:0.7718998862343572 \n",
      "}\n",
      "=====Epoch 66\n",
      "Training...\n"
     ]
    },
    {
     "name": "stderr",
     "output_type": "stream",
     "text": [
      "Iteration: 100%|██████████| 1004/1004 [00:22<00:00, 44.06it/s]\n",
      "Iteration:  82%|████████▏ | 819/1004 [00:18<00:04, 44.33it/s]"
     ]
    },
    {
     "name": "stdout",
     "output_type": "stream",
     "text": [
      "Evaluating...\n"
     ]
    },
    {
     "name": "stderr",
     "output_type": "stream",
     "text": [
      "Iteration: 100%|██████████| 1004/1004 [00:22<00:00, 43.74it/s]\n",
      "Iteration:  88%|████████▊ | 884/1004 [00:20<00:02, 44.29it/s]"
     ]
    },
    {
     "name": "stdout",
     "output_type": "stream",
     "text": [
      "Evaluating...\n"
     ]
    },
    {
     "name": "stderr",
     "output_type": "stream",
     "text": [
      "Iteration: 100%|██████████| 1004/1004 [00:22<00:00, 43.78it/s]\n",
      "Iteration:  95%|█████████▌| 954/1004 [00:21<00:01, 44.04it/s]"
     ]
    },
    {
     "name": "stdout",
     "output_type": "stream",
     "text": [
      "Evaluating...\n"
     ]
    },
    {
     "name": "stderr",
     "output_type": "stream",
     "text": [
      "Iteration: 100%|██████████| 1004/1004 [00:23<00:00, 43.44it/s]\n",
      "Iteration: 100%|██████████| 1004/1004 [00:23<00:00, 43.41it/s]\n",
      "Iteration:  22%|██▏       | 216/1004 [00:04<00:15, 49.44it/s]"
     ]
    },
    {
     "name": "stdout",
     "output_type": "stream",
     "text": [
      "Evaluating...\n",
      "Evaluating...\n"
     ]
    },
    {
     "name": "stderr",
     "output_type": "stream",
     "text": [
      "Iteration:  97%|█████████▋| 974/1004 [00:20<00:00, 71.14it/s]]\n",
      "Iteration:  48%|████▊     | 54/112 [00:00<00:00, 74.41it/s]/s]\n",
      "Iteration:  64%|██████▍   | 72/112 [00:00<00:00, 73.70it/s]]\n",
      "Iteration:  71%|███████▏  | 80/112 [00:01<00:00, 71.26it/s]"
     ]
    },
    {
     "name": "stdout",
     "output_type": "stream",
     "text": [
      "{'Train':  best_epoch_indx:66\n",
      " auc:0.8442934427611657 \n",
      " apur:0.23396212204127792 \n",
      " f1:0.22717201955113572 \n",
      " precision:0.1311283362945897 \n",
      " recall:0.8490518331226296 \n",
      ", 'Validation':  best_epoch_indx:66\n",
      " auc:0.8183963437363325 \n",
      " apur:0.19258153299293634 \n",
      " f1:0.21880003049477775 \n",
      " precision:0.126331543269654 \n",
      " recall:0.8162684869169511 \n",
      "}\n",
      "=====Epoch 67\n",
      "Training...\n"
     ]
    },
    {
     "name": "stderr",
     "output_type": "stream",
     "text": [
      "Iteration: 100%|██████████| 112/112 [00:01<00:00, 71.37it/s]\n",
      "Iteration:   3%|▎         | 34/1004 [00:00<00:24, 39.57it/s]\n",
      "Iteration:   0%|          | 4/1004 [00:00<00:27, 36.56it/s]]"
     ]
    },
    {
     "name": "stdout",
     "output_type": "stream",
     "text": [
      "{'Train':  best_epoch_indx:66\n",
      " auc:0.8425339379650194 \n",
      " apur:0.23200385216857242 \n",
      " f1:0.22836187073114436 \n",
      " precision:0.13203704985122725 \n",
      " recall:0.8443109987357775 \n",
      ", 'Validation':  best_epoch_indx:66\n",
      " auc:0.8201245780087115 \n",
      " apur:0.21578160183241715 \n",
      " f1:0.2209194692995989 \n",
      " precision:0.1277886846332322 \n",
      " recall:0.8145620022753128 \n",
      "}\n",
      "=====Epoch 67\n",
      "Training...\n"
     ]
    },
    {
     "name": "stderr",
     "output_type": "stream",
     "text": [
      "Iteration:   7%|▋         | 69/1004 [00:01<00:20, 44.89it/s]\n",
      "Iteration:   3%|▎         | 29/1004 [00:00<00:26, 37.08it/s]\n",
      "Iteration:  66%|██████▌   | 74/112 [00:01<00:00, 55.36it/s]s]\n",
      "Iteration:  71%|███████▏  | 80/112 [00:01<00:00, 50.02it/s]]]"
     ]
    },
    {
     "name": "stdout",
     "output_type": "stream",
     "text": [
      "{'Train':  best_epoch_indx:66\n",
      " auc:0.842024765316755 \n",
      " apur:0.23788769046109065 \n",
      " f1:0.22890334978381446 \n",
      " precision:0.13280157298360123 \n",
      " recall:0.8283077312093052 \n",
      ", 'Validation':  best_epoch_indx:66\n",
      " auc:0.8191089043490719 \n",
      " apur:0.20652578602288146 \n",
      " f1:0.22103274559193958 \n",
      " precision:0.12826603325415678 \n",
      " recall:0.7986348122866894 \n",
      "}\n",
      "=====Epoch 67\n",
      "Training...\n"
     ]
    },
    {
     "name": "stderr",
     "output_type": "stream",
     "text": [
      "Iteration:  18%|█▊        | 184/1004 [00:04<00:18, 45.30it/s]\n",
      "Iteration:   0%|          | 0/1004 [00:00<?, ?it/s]\n",
      "Iteration:   0%|          | 4/1004 [00:00<00:28, 34.65it/s]s]"
     ]
    },
    {
     "name": "stdout",
     "output_type": "stream",
     "text": [
      "{'Train':  best_epoch_indx:66\n",
      " auc:0.8427705743793227 \n",
      " apur:0.23975123748798252 \n",
      " f1:0.23685852368492114 \n",
      " precision:0.13888828218848967 \n",
      " recall:0.8039699096023769 \n",
      ", 'Validation':  best_epoch_indx:66\n",
      " auc:0.8172990102625954 \n",
      " apur:0.21183620390721522 \n",
      " f1:0.22782055574154667 \n",
      " precision:0.13356231599607457 \n",
      " recall:0.7741751990898749 \n",
      "}\n",
      "=====Epoch 67\n",
      "Training...\n",
      "{'Train':  best_epoch_indx:66\n",
      " auc:0.8442152527463855 \n",
      " apur:0.2361568984556624 \n",
      " f1:0.22664342292329565 \n",
      " precision:0.13083792550904758 \n",
      " recall:0.8464601769911504 \n",
      ", 'Validation':  best_epoch_indx:66\n",
      " auc:0.8174852818526035 \n",
      " apur:0.20338251669312785 \n",
      " f1:0.21676234213547646 \n",
      " precision:0.12523215707084107 \n",
      " recall:0.8054607508532423 \n",
      "}\n",
      "=====Epoch 67\n",
      "Training...\n"
     ]
    },
    {
     "name": "stderr",
     "output_type": "stream",
     "text": [
      "Iteration: 100%|██████████| 1004/1004 [00:22<00:00, 43.83it/s]\n",
      "Iteration:  96%|█████████▌| 962/1004 [00:22<00:00, 44.80it/s]"
     ]
    },
    {
     "name": "stdout",
     "output_type": "stream",
     "text": [
      "Evaluating...\n"
     ]
    },
    {
     "name": "stderr",
     "output_type": "stream",
     "text": [
      "Iteration:  90%|█████████ | 904/1004 [00:20<00:02, 43.56it/s]]\n",
      "Iteration:  86%|████████▌ | 859/1004 [00:19<00:03, 44.58it/s]"
     ]
    },
    {
     "name": "stdout",
     "output_type": "stream",
     "text": [
      "Evaluating...\n"
     ]
    },
    {
     "name": "stderr",
     "output_type": "stream",
     "text": [
      "Iteration: 100%|██████████| 1004/1004 [00:23<00:00, 43.44it/s]\n",
      "Iteration:   0%|          | 4/1004 [00:00<00:27, 36.98it/s]s]"
     ]
    },
    {
     "name": "stdout",
     "output_type": "stream",
     "text": [
      "Evaluating...\n"
     ]
    },
    {
     "name": "stderr",
     "output_type": "stream",
     "text": [
      "Iteration: 100%|██████████| 1004/1004 [00:23<00:00, 43.25it/s]\n",
      "Iteration: 100%|██████████| 1004/1004 [00:23<00:00, 43.19it/s]\n",
      "Iteration:   1%|          | 6/1004 [00:00<00:19, 50.06it/s]s]"
     ]
    },
    {
     "name": "stdout",
     "output_type": "stream",
     "text": [
      "Evaluating...\n",
      "Evaluating...\n"
     ]
    },
    {
     "name": "stderr",
     "output_type": "stream",
     "text": [
      "Iteration:  94%|█████████▍| 943/1004 [00:19<00:00, 62.18it/s]]\n",
      "Iteration: 100%|██████████| 1004/1004 [00:20<00:00, 48.34it/s]\n",
      "Iteration:  50%|█████     | 56/112 [00:00<00:00, 74.98it/s]]\n",
      "Iteration:   0%|          | 0/1004 [00:00<?, ?it/s]"
     ]
    },
    {
     "name": "stdout",
     "output_type": "stream",
     "text": [
      "{'Train':  best_epoch_indx:67\n",
      " auc:0.8506282811371155 \n",
      " apur:0.24973063593713643 \n",
      " f1:0.22784470544838745 \n",
      " precision:0.1313416390400433 \n",
      " recall:0.85897597977244 \n",
      ", 'Validation':  best_epoch_indx:67\n",
      " auc:0.8218834448055745 \n",
      " apur:0.20971691678981536 \n",
      " f1:0.21783227369058428 \n",
      " precision:0.1256329666492055 \n",
      " recall:0.8185437997724687 \n",
      "}\n",
      "=====Epoch 68\n",
      "Training...\n"
     ]
    },
    {
     "name": "stderr",
     "output_type": "stream",
     "text": [
      "Iteration:   5%|▍         | 49/1004 [00:01<00:21, 44.79it/s]\n",
      "Iteration:   5%|▌         | 54/1004 [00:01<00:21, 44.62it/s]\n",
      "Iteration:  12%|█▎        | 14/112 [00:00<00:01, 62.20it/s]]"
     ]
    },
    {
     "name": "stdout",
     "output_type": "stream",
     "text": [
      "{'Train':  best_epoch_indx:67\n",
      " auc:0.8451876030414461 \n",
      " apur:0.23641960105678356 \n",
      " f1:0.2426837972876517 \n",
      " precision:0.14284914010419583 \n",
      " recall:0.8059418457648546 \n",
      ", 'Validation':  best_epoch_indx:67\n",
      " auc:0.8206999562351489 \n",
      " apur:0.21387754207161827 \n",
      " f1:0.23015669149755974 \n",
      " precision:0.13547021469609918 \n",
      " recall:0.764505119453925 \n",
      "}\n",
      "=====Epoch 68\n",
      "Training...\n"
     ]
    },
    {
     "name": "stderr",
     "output_type": "stream",
     "text": [
      "Iteration:   3%|▎         | 34/1004 [00:00<00:22, 43.25it/s]\n",
      "Iteration:   9%|▉         | 94/1004 [00:02<00:20, 45.28it/s]\n",
      "Iteration:  79%|███████▊  | 88/112 [00:01<00:00, 51.15it/s]s]\n"
     ]
    },
    {
     "name": "stdout",
     "output_type": "stream",
     "text": [
      "{'Train':  best_epoch_indx:67\n",
      " auc:0.8465627141559142 \n",
      " apur:0.2464224277020566 \n",
      " f1:0.22421250237758533 \n",
      " precision:0.12897946756484177 \n",
      " recall:0.8569441810481067 \n",
      ", 'Validation':  best_epoch_indx:67\n",
      " auc:0.8213605833236608 \n",
      " apur:0.21194818781408453 \n",
      " f1:0.2155751156198717 \n",
      " precision:0.12405563186813187 \n",
      " recall:0.8219567690557452 \n",
      "}\n",
      "=====Epoch 68\n",
      "Training...\n"
     ]
    },
    {
     "name": "stderr",
     "output_type": "stream",
     "text": [
      "Iteration:  15%|█▌        | 154/1004 [00:03<00:18, 45.06it/s]\n",
      "Iteration:  22%|██▏       | 219/1004 [00:04<00:17, 45.26it/s]"
     ]
    },
    {
     "name": "stdout",
     "output_type": "stream",
     "text": [
      "{'Train':  best_epoch_indx:67\n",
      " auc:0.8478797714077616 \n",
      " apur:0.24491539476627178 \n",
      " f1:0.23964272673651094 \n",
      " precision:0.1406528189910979 \n",
      " recall:0.8090271192869334 \n",
      ", 'Validation':  best_epoch_indx:67\n",
      " auc:0.8209464969133111 \n",
      " apur:0.20638227667969544 \n",
      " f1:0.22920704474593412 \n",
      " precision:0.13453358393510734 \n",
      " recall:0.7736063708759955 \n",
      "}\n",
      "=====Epoch 68\n",
      "Training...\n"
     ]
    },
    {
     "name": "stderr",
     "output_type": "stream",
     "text": [
      "Iteration:   3%|▎         | 29/1004 [00:00<00:22, 42.65it/s]]\n",
      "Iteration:   0%|          | 4/1004 [00:00<00:27, 36.72it/s]]]"
     ]
    },
    {
     "name": "stdout",
     "output_type": "stream",
     "text": [
      "{'Train':  best_epoch_indx:67\n",
      " auc:0.8468896949424842 \n",
      " apur:0.2406621418069202 \n",
      " f1:0.24261233815689262 \n",
      " precision:0.1428155122169917 \n",
      " recall:0.8054361567635904 \n",
      ", 'Validation':  best_epoch_indx:67\n",
      " auc:0.8193721161550874 \n",
      " apur:0.21291443703597834 \n",
      " f1:0.2289146289146289 \n",
      " precision:0.13478831969283622 \n",
      " recall:0.7588168373151308 \n",
      "}\n",
      "=====Epoch 68\n",
      "Training...\n"
     ]
    },
    {
     "name": "stderr",
     "output_type": "stream",
     "text": [
      "Iteration: 100%|██████████| 1004/1004 [00:22<00:00, 44.12it/s]\n",
      "Iteration:  79%|███████▊  | 789/1004 [00:18<00:05, 42.06it/s]"
     ]
    },
    {
     "name": "stdout",
     "output_type": "stream",
     "text": [
      "Evaluating...\n"
     ]
    },
    {
     "name": "stderr",
     "output_type": "stream",
     "text": [
      "Iteration:  84%|████████▍ | 844/1004 [00:19<00:03, 44.43it/s]]\n",
      "Iteration:   7%|▋         | 75/1004 [00:01<00:19, 47.28it/s]]"
     ]
    },
    {
     "name": "stdout",
     "output_type": "stream",
     "text": [
      "Evaluating...\n"
     ]
    },
    {
     "name": "stderr",
     "output_type": "stream",
     "text": [
      "Iteration: 100%|██████████| 1004/1004 [00:23<00:00, 43.59it/s]\n",
      "Iteration:  21%|██▏       | 215/1004 [00:04<00:15, 50.43it/s]"
     ]
    },
    {
     "name": "stdout",
     "output_type": "stream",
     "text": [
      "Evaluating...\n"
     ]
    },
    {
     "name": "stderr",
     "output_type": "stream",
     "text": [
      "Iteration: 100%|██████████| 1004/1004 [00:22<00:00, 43.68it/s]\n",
      "Iteration:   5%|▍         | 50/1004 [00:01<00:20, 47.65it/s]]"
     ]
    },
    {
     "name": "stdout",
     "output_type": "stream",
     "text": [
      "Evaluating...\n"
     ]
    },
    {
     "name": "stderr",
     "output_type": "stream",
     "text": [
      "Iteration: 100%|██████████| 1004/1004 [00:23<00:00, 43.39it/s]\n",
      "Iteration:  10%|▉         | 97/1004 [00:01<00:18, 49.14it/s]]"
     ]
    },
    {
     "name": "stdout",
     "output_type": "stream",
     "text": [
      "Evaluating...\n"
     ]
    },
    {
     "name": "stderr",
     "output_type": "stream",
     "text": [
      "Iteration:  88%|████████▊ | 883/1004 [00:18<00:02, 49.54it/s]]\n",
      "Iteration:  69%|██████▉   | 77/112 [00:01<00:00, 62.41it/s]s]]\n",
      "Iteration: 100%|██████████| 112/112 [00:01<00:00, 74.59it/s]s]\n",
      "Iteration:   0%|          | 0/1004 [00:00<?, ?it/s]"
     ]
    },
    {
     "name": "stdout",
     "output_type": "stream",
     "text": [
      "{'Train':  best_epoch_indx:68\n",
      " auc:0.8535517509719868 \n",
      " apur:0.259090657128114 \n",
      " f1:0.23757722025106714 \n",
      " precision:0.13852309243273897 \n",
      " recall:0.8338179519595449 \n",
      ", 'Validation':  best_epoch_indx:68\n",
      " auc:0.8262207285322353 \n",
      " apur:0.21927750911390181 \n",
      " f1:0.2275946275946276 \n",
      " precision:0.13280136791108577 \n",
      " recall:0.7952218430034129 \n",
      "}\n",
      "=====Epoch 69\n",
      "Training...\n"
     ]
    },
    {
     "name": "stderr",
     "output_type": "stream",
     "text": [
      "Iteration:   4%|▍         | 39/1004 [00:00<00:21, 44.21it/s]\n",
      "Iteration:   4%|▍         | 44/1004 [00:01<00:21, 44.49it/s]\n",
      "Iteration:  11%|█         | 12/112 [00:00<00:01, 55.30it/s]]"
     ]
    },
    {
     "name": "stdout",
     "output_type": "stream",
     "text": [
      "{'Train':  best_epoch_indx:68\n",
      " auc:0.8515299873112432 \n",
      " apur:0.25009258889717106 \n",
      " f1:0.23727963757151424 \n",
      " precision:0.13821697906561942 \n",
      " recall:0.8376106194690266 \n",
      ", 'Validation':  best_epoch_indx:68\n",
      " auc:0.8236405619415487 \n",
      " apur:0.22236085338718686 \n",
      " f1:0.2264272485707384 \n",
      " precision:0.1318825626113873 \n",
      " recall:0.7997724687144482 \n",
      "}\n",
      "=====Epoch 69\n",
      "Training...\n"
     ]
    },
    {
     "name": "stderr",
     "output_type": "stream",
     "text": [
      "Iteration:   1%|▏         | 14/1004 [00:00<00:24, 40.47it/s]\n",
      "Iteration:  63%|██████▎   | 71/112 [00:01<00:00, 51.21it/s]]\n",
      "Iteration:  15%|█▍        | 149/1004 [00:03<00:22, 37.46it/s]\n",
      "Iteration:  59%|█████▉    | 66/112 [00:01<00:00, 52.33it/s]s]"
     ]
    },
    {
     "name": "stdout",
     "output_type": "stream",
     "text": [
      "{'Train':  best_epoch_indx:68\n",
      " auc:0.8532060717014482 \n",
      " apur:0.2559535824442767 \n",
      " f1:0.2364552258802094 \n",
      " precision:0.1376803303412625 \n",
      " recall:0.8367785574309374 \n",
      ", 'Validation':  best_epoch_indx:68\n",
      " auc:0.8259925906975752 \n",
      " apur:0.21152786685201225 \n",
      " f1:0.22674933569530556 \n",
      " precision:0.1320701622737079 \n",
      " recall:0.800910125142207 \n",
      "}\n",
      "=====Epoch 69\n",
      "Training...\n"
     ]
    },
    {
     "name": "stderr",
     "output_type": "stream",
     "text": [
      "Iteration:   5%|▍         | 48/1004 [00:01<00:21, 43.48it/s]]\n",
      "Iteration:  16%|█▌        | 159/1004 [00:03<00:20, 41.00it/s]"
     ]
    },
    {
     "name": "stdout",
     "output_type": "stream",
     "text": [
      "{'Train':  best_epoch_indx:68\n",
      " auc:0.8529147138918889 \n",
      " apur:0.25464305004902965 \n",
      " f1:0.23655740785482265 \n",
      " precision:0.1377822252798799 \n",
      " recall:0.8355774701308553 \n",
      ", 'Validation':  best_epoch_indx:68\n",
      " auc:0.82230599239653 \n",
      " apur:0.21402124002320333 \n",
      " f1:0.2259050683829445 \n",
      " precision:0.1315592203898051 \n",
      " recall:0.7986348122866894 \n",
      "}\n",
      "=====Epoch 69\n",
      "Training...\n",
      "{'Train':  best_epoch_indx:68\n",
      " auc:0.8536027376615196 \n",
      " apur:0.25199078323486584 \n",
      " f1:0.23285365285175372 \n",
      " precision:0.13484168324651824 \n",
      " recall:0.8525284450063211 \n",
      ", 'Validation':  best_epoch_indx:68\n",
      " auc:0.8211209695080944 \n",
      " apur:0.20580111585695499 \n",
      " f1:0.21979734996102884 \n",
      " precision:0.12734826589595374 \n",
      " recall:0.8020477815699659 \n",
      "}\n",
      "=====Epoch 69\n",
      "Training...\n"
     ]
    },
    {
     "name": "stderr",
     "output_type": "stream",
     "text": [
      "Iteration:  21%|██        | 209/1004 [00:04<00:17, 45.02it/s]\n",
      "Iteration: 100%|██████████| 1004/1004 [00:22<00:00, 43.80it/s]\n",
      "Iteration:  80%|███████▉  | 799/1004 [00:18<00:04, 44.96it/s]"
     ]
    },
    {
     "name": "stdout",
     "output_type": "stream",
     "text": [
      "Evaluating...\n"
     ]
    },
    {
     "name": "stderr",
     "output_type": "stream",
     "text": [
      "Iteration: 100%|██████████| 1004/1004 [00:23<00:00, 43.59it/s]\n",
      "Iteration:  85%|████████▍ | 849/1004 [00:19<00:03, 44.44it/s]"
     ]
    },
    {
     "name": "stdout",
     "output_type": "stream",
     "text": [
      "Evaluating...\n"
     ]
    },
    {
     "name": "stderr",
     "output_type": "stream",
     "text": [
      "Iteration: 100%|██████████| 1004/1004 [00:23<00:00, 43.53it/s]\n",
      "Iteration:  19%|█▉        | 192/1004 [00:03<00:15, 51.85it/s]"
     ]
    },
    {
     "name": "stdout",
     "output_type": "stream",
     "text": [
      "Evaluating...\n"
     ]
    },
    {
     "name": "stderr",
     "output_type": "stream",
     "text": [
      "Iteration: 100%|██████████| 1004/1004 [00:23<00:00, 43.41it/s]\n",
      "Iteration:   0%|          | 4/1004 [00:00<00:27, 36.24it/s]]]"
     ]
    },
    {
     "name": "stdout",
     "output_type": "stream",
     "text": [
      "Evaluating...\n"
     ]
    },
    {
     "name": "stderr",
     "output_type": "stream",
     "text": [
      "\r",
      "Iteration:  20%|█▉        | 197/1004 [00:03<00:16, 47.51it/s]\r",
      "Iteration:  26%|██▌       | 257/1004 [00:05<00:16, 44.29it/s]\r",
      "Iteration:   7%|▋         | 66/1004 [00:01<00:19, 47.64it/s]\r",
      "Iteration:   1%|          | 9/1004 [00:00<00:23, 43.07it/s]\r",
      "Iteration: 100%|█████████▉| 1003/1004 [00:23<00:00, 42.52it/s]\r",
      "Iteration:  20%|██        | 202/1004 [00:03<00:16, 47.42it/s]\r",
      "Iteration: 100%|██████████| 1004/1004 [00:23<00:00, 43.20it/s]\n",
      "\r",
      "Iteration:   0%|          | 0/1004 [00:00<?, ?it/s]\r",
      "Iteration:  26%|██▌       | 263/1004 [00:05<00:15, 46.79it/s]\r",
      "Iteration:   7%|▋         | 72/1004 [00:01<00:18, 49.29it/s]\r",
      "Iteration:   1%|▏         | 14/1004 [00:00<00:22, 43.22it/s]"
     ]
    },
    {
     "name": "stdout",
     "output_type": "stream",
     "text": [
      "Evaluating...\n"
     ]
    },
    {
     "name": "stderr",
     "output_type": "stream",
     "text": [
      "Iteration:  93%|█████████▎| 938/1004 [00:19<00:01, 58.54it/s]]\n",
      "Iteration: 100%|█████████▉| 1000/1004 [00:20<00:00, 57.76it/s]\n",
      "Iteration: 100%|██████████| 112/112 [00:01<00:00, 69.91it/s]s]\n",
      "Iteration:   0%|          | 4/1004 [00:00<00:29, 34.23it/s]"
     ]
    },
    {
     "name": "stdout",
     "output_type": "stream",
     "text": [
      "{'Train':  best_epoch_indx:69\n",
      " auc:0.8597278370804847 \n",
      " apur:0.26720129474834714 \n",
      " f1:0.2457521718394943 \n",
      " precision:0.14421019129251403 \n",
      " recall:0.8305941845764855 \n",
      ", 'Validation':  best_epoch_indx:69\n",
      " auc:0.8280789401771023 \n",
      " apur:0.2214577019662535 \n",
      " f1:0.23229845190762205 \n",
      " precision:0.13644042532048098 \n",
      " recall:0.7810011376564278 \n",
      "}\n",
      "=====Epoch 70\n",
      "Training...\n"
     ]
    },
    {
     "name": "stderr",
     "output_type": "stream",
     "text": [
      "Iteration:   2%|▏         | 19/1004 [00:00<00:23, 41.31it/s]\n",
      "Iteration:   3%|▎         | 34/1004 [00:00<00:22, 43.26it/s]\n",
      "Iteration:   0%|          | 0/1004 [00:00<?, ?it/s]"
     ]
    },
    {
     "name": "stdout",
     "output_type": "stream",
     "text": [
      "{'Train':  best_epoch_indx:69\n",
      " auc:0.8577321800409723 \n",
      " apur:0.25887656300711465 \n",
      " f1:0.24383561643835616 \n",
      " precision:0.1426681011296396 \n",
      " recall:0.8382427307206068 \n",
      ", 'Validation':  best_epoch_indx:69\n",
      " auc:0.8285785356555047 \n",
      " apur:0.22931841376387968 \n",
      " f1:0.23148455662570575 \n",
      " precision:0.13552401322185495 \n",
      " recall:0.7929465301478953 \n",
      "}\n",
      "=====Epoch 70\n",
      "Training...\n"
     ]
    },
    {
     "name": "stderr",
     "output_type": "stream",
     "text": [
      "Iteration:   6%|▌         | 59/1004 [00:01<00:21, 44.35it/s]\n",
      "Iteration:   0%|          | 0/112 [00:00<?, ?it/s]\n",
      "Iteration:  13%|█▎        | 129/1004 [00:03<00:19, 44.13it/s]\n",
      "Iteration:  17%|█▋        | 174/1004 [00:03<00:18, 44.69it/s]"
     ]
    },
    {
     "name": "stdout",
     "output_type": "stream",
     "text": [
      "{'Train':  best_epoch_indx:69\n",
      " auc:0.857861861400781 \n",
      " apur:0.2681597693128796 \n",
      " f1:0.2341775977754942 \n",
      " precision:0.13561441059390691 \n",
      " recall:0.8571338264112776 \n",
      ", 'Validation':  best_epoch_indx:69\n",
      " auc:0.8274805202626522 \n",
      " apur:0.21683901778211676 \n",
      " f1:0.22580143168378464 \n",
      " precision:0.13079141878492878 \n",
      " recall:0.8253697383390216 \n",
      "}\n",
      "=====Epoch 70\n",
      "Training...\n"
     ]
    },
    {
     "name": "stderr",
     "output_type": "stream",
     "text": [
      "Iteration:   3%|▎         | 34/1004 [00:00<00:22, 42.99it/s]]\n",
      "Iteration:  17%|█▋        | 174/1004 [00:04<00:19, 42.90it/s]\n",
      "Iteration:  21%|██        | 209/1004 [00:04<00:25, 31.61it/s]"
     ]
    },
    {
     "name": "stdout",
     "output_type": "stream",
     "text": [
      "{'Train':  best_epoch_indx:69\n",
      " auc:0.8582870025679004 \n",
      " apur:0.26555707661164996 \n",
      " f1:0.24402698572440268 \n",
      " precision:0.1431085172191438 \n",
      " recall:0.8277387951197926 \n",
      ", 'Validation':  best_epoch_indx:69\n",
      " auc:0.8262609707326776 \n",
      " apur:0.22330520180668284 \n",
      " f1:0.23108573347888153 \n",
      " precision:0.13555314747315536 \n",
      " recall:0.782707622298066 \n",
      "}\n",
      "=====Epoch 70\n",
      "Training...\n",
      "{'Train':  best_epoch_indx:69\n",
      " auc:0.8575583707575563 \n",
      " apur:0.26048371688748717 \n",
      " f1:0.23892371251513642 \n",
      " precision:0.13904779670853543 \n",
      " recall:0.8481036662452591 \n",
      ", 'Validation':  best_epoch_indx:69\n",
      " auc:0.8237799336471165 \n",
      " apur:0.22136840558080553 \n",
      " f1:0.2264242034116511 \n",
      " precision:0.13186504217432052 \n",
      " recall:0.8003412969283277 \n",
      "}\n",
      "=====Epoch 70\n",
      "Training...\n"
     ]
    },
    {
     "name": "stderr",
     "output_type": "stream",
     "text": [
      "Iteration: 100%|██████████| 1004/1004 [00:22<00:00, 43.66it/s]\n",
      "Iteration:   0%|          | 0/1004 [00:00<?, ?it/s]"
     ]
    },
    {
     "name": "stdout",
     "output_type": "stream",
     "text": [
      "Evaluating...\n"
     ]
    },
    {
     "name": "stderr",
     "output_type": "stream",
     "text": [
      "Iteration:  83%|████████▎ | 834/1004 [00:19<00:03, 44.31it/s]]\n",
      "Iteration:  84%|████████▎ | 839/1004 [00:19<00:03, 43.46it/s]"
     ]
    },
    {
     "name": "stdout",
     "output_type": "stream",
     "text": [
      "Evaluating...\n"
     ]
    },
    {
     "name": "stderr",
     "output_type": "stream",
     "text": [
      "Iteration: 100%|██████████| 1004/1004 [00:23<00:00, 43.36it/s]\n",
      "Iteration:  15%|█▌        | 155/1004 [00:03<00:16, 51.15it/s]"
     ]
    },
    {
     "name": "stdout",
     "output_type": "stream",
     "text": [
      "Evaluating...\n"
     ]
    },
    {
     "name": "stderr",
     "output_type": "stream",
     "text": [
      "Iteration: 100%|██████████| 1004/1004 [00:23<00:00, 43.19it/s]\n",
      "Iteration:   0%|          | 0/1004 [00:00<?, ?it/s]"
     ]
    },
    {
     "name": "stdout",
     "output_type": "stream",
     "text": [
      "Evaluating...\n",
      "Evaluating...\n"
     ]
    },
    {
     "name": "stderr",
     "output_type": "stream",
     "text": [
      "Iteration: 100%|██████████| 1004/1004 [00:23<00:00, 43.28it/s]\n",
      "Iteration:  94%|█████████▎| 941/1004 [00:19<00:00, 64.12it/s]]\n",
      "Iteration:  47%|████▋     | 53/112 [00:00<00:00, 63.89it/s]s]]\n",
      "Iteration:  68%|██████▊   | 76/112 [00:01<00:00, 74.39it/s]]s]\n",
      "Iteration:   0%|          | 4/1004 [00:00<00:27, 36.18it/s]"
     ]
    },
    {
     "name": "stdout",
     "output_type": "stream",
     "text": [
      "{'Train':  best_epoch_indx:70\n",
      " auc:0.8592406757912415 \n",
      " apur:0.2606474141302479 \n",
      " f1:0.2371081812625513 \n",
      " precision:0.13755445243642994 \n",
      " recall:0.8582806573957017 \n",
      ", 'Validation':  best_epoch_indx:70\n",
      " auc:0.8252623988866485 \n",
      " apur:0.21581799635183974 \n",
      " f1:0.22308117062396465 \n",
      " precision:0.12949903837347743 \n",
      " recall:0.8043230944254836 \n",
      "}\n",
      "=====Epoch 71\n",
      "Training...\n"
     ]
    },
    {
     "name": "stderr",
     "output_type": "stream",
     "text": [
      "Iteration:   3%|▎         | 29/1004 [00:00<00:22, 42.68it/s]\n",
      "Iteration:   0%|          | 0/1004 [00:00<?, ?it/s]"
     ]
    },
    {
     "name": "stdout",
     "output_type": "stream",
     "text": [
      "{'Train':  best_epoch_indx:70\n",
      " auc:0.8575468705701388 \n",
      " apur:0.25818753150403095 \n",
      " f1:0.23648913982529474 \n",
      " precision:0.13718323833436263 \n",
      " recall:0.8565107458912768 \n",
      ", 'Validation':  best_epoch_indx:70\n",
      " auc:0.8253891281707176 \n",
      " apur:0.22357710589213123 \n",
      " f1:0.22318135446912032 \n",
      " precision:0.1294492489758762 \n",
      " recall:0.8088737201365188 \n",
      "}\n",
      "=====Epoch 71\n",
      "Training...\n"
     ]
    },
    {
     "name": "stderr",
     "output_type": "stream",
     "text": [
      "Iteration:   6%|▌         | 59/1004 [00:01<00:20, 45.03it/s]\n",
      "Iteration:  19%|█▉        | 21/112 [00:00<00:01, 60.75it/s]]\n",
      "Iteration:  10%|▉         | 99/1004 [00:02<00:20, 44.70it/s]\n",
      "Iteration:  71%|███████   | 79/112 [00:01<00:00, 51.60it/s]]]\n",
      "Iteration:   0%|          | 0/1004 [00:00<?, ?it/s]"
     ]
    },
    {
     "name": "stdout",
     "output_type": "stream",
     "text": [
      "{'Train':  best_epoch_indx:70\n",
      " auc:0.855279495807065 \n",
      " apur:0.2591591680314394 \n",
      " f1:0.24692704297835297 \n",
      " precision:0.14547688284754626 \n",
      " recall:0.8159175674821417 \n",
      ", 'Validation':  best_epoch_indx:70\n",
      " auc:0.8251231797156197 \n",
      " apur:0.21652759054188875 \n",
      " f1:0.23657587548638132 \n",
      " precision:0.13949219944937288 \n",
      " recall:0.7781569965870307 \n",
      "}\n",
      "=====Epoch 71\n",
      "Training...\n"
     ]
    },
    {
     "name": "stderr",
     "output_type": "stream",
     "text": [
      "Iteration:  92%|█████████▏| 103/112 [00:02<00:00, 53.77it/s]]\n",
      "Iteration:   2%|▏         | 19/1004 [00:00<00:23, 41.83it/s]"
     ]
    },
    {
     "name": "stdout",
     "output_type": "stream",
     "text": [
      "{'Train':  best_epoch_indx:70\n",
      " auc:0.85680362049491 \n",
      " apur:0.25845722510876734 \n",
      " f1:0.24051925980166156 \n",
      " precision:0.14032700421940927 \n",
      " recall:0.8409507554206966 \n",
      ", 'Validation':  best_epoch_indx:70\n",
      " auc:0.8234280903013086 \n",
      " apur:0.21870282508572342 \n",
      " f1:0.22645485491976008 \n",
      " precision:0.1320415879017013 \n",
      " recall:0.7946530147895335 \n",
      "}\n",
      "=====Epoch 71\n",
      "Training...\n"
     ]
    },
    {
     "name": "stderr",
     "output_type": "stream",
     "text": [
      "Iteration:   2%|▏         | 19/1004 [00:00<00:23, 41.80it/s]]\n",
      "Iteration:   3%|▎         | 29/1004 [00:00<00:22, 43.35it/s]]"
     ]
    },
    {
     "name": "stdout",
     "output_type": "stream",
     "text": [
      "{'Train':  best_epoch_indx:70\n",
      " auc:0.8560710601301333 \n",
      " apur:0.2579919429282553 \n",
      " f1:0.25097322165860564 \n",
      " precision:0.14859610728254796 \n",
      " recall:0.806890012642225 \n",
      ", 'Validation':  best_epoch_indx:70\n",
      " auc:0.8223899850918125 \n",
      " apur:0.21755655380415762 \n",
      " f1:0.23456790123456792 \n",
      " precision:0.13880192026716762 \n",
      " recall:0.7565415244596132 \n",
      "}\n",
      "=====Epoch 71\n",
      "Training...\n"
     ]
    },
    {
     "name": "stderr",
     "output_type": "stream",
     "text": [
      "Iteration: 100%|██████████| 1004/1004 [00:22<00:00, 44.11it/s]\n",
      "Iteration:  82%|████████▏ | 824/1004 [00:18<00:04, 44.44it/s]"
     ]
    },
    {
     "name": "stdout",
     "output_type": "stream",
     "text": [
      "Evaluating...\n"
     ]
    },
    {
     "name": "stderr",
     "output_type": "stream",
     "text": [
      "Iteration:  81%|████████▏ | 818/1004 [00:18<00:04, 44.03it/s]]\n",
      "Iteration:  86%|████████▌ | 864/1004 [00:19<00:03, 43.56it/s]"
     ]
    },
    {
     "name": "stdout",
     "output_type": "stream",
     "text": [
      "Evaluating...\n"
     ]
    },
    {
     "name": "stderr",
     "output_type": "stream",
     "text": [
      "Iteration: 100%|██████████| 1004/1004 [00:22<00:00, 43.69it/s]\n",
      "Iteration:   0%|          | 0/1004 [00:00<?, ?it/s]"
     ]
    },
    {
     "name": "stdout",
     "output_type": "stream",
     "text": [
      "Evaluating...\n"
     ]
    },
    {
     "name": "stderr",
     "output_type": "stream",
     "text": [
      "Iteration: 100%|██████████| 1004/1004 [00:23<00:00, 43.57it/s]\n",
      "Iteration:   3%|▎         | 28/1004 [00:00<00:19, 50.86it/s]]"
     ]
    },
    {
     "name": "stdout",
     "output_type": "stream",
     "text": [
      "Evaluating...\n"
     ]
    },
    {
     "name": "stderr",
     "output_type": "stream",
     "text": [
      "Iteration: 100%|██████████| 1004/1004 [00:23<00:00, 43.52it/s]\n",
      "Iteration:  25%|██▌       | 255/1004 [00:05<00:15, 49.88it/s]"
     ]
    },
    {
     "name": "stdout",
     "output_type": "stream",
     "text": [
      "Evaluating...\n"
     ]
    },
    {
     "name": "stderr",
     "output_type": "stream",
     "text": [
      "Iteration:  94%|█████████▍| 947/1004 [00:19<00:01, 54.35it/s]]\n",
      "Iteration:  31%|███▏      | 35/112 [00:00<00:01, 54.05it/s]s]]\n",
      "Iteration:  83%|████████▎ | 93/112 [00:01<00:00, 76.64it/s]]s]\n",
      "Iteration:   0%|          | 0/1004 [00:00<?, ?it/s]"
     ]
    },
    {
     "name": "stdout",
     "output_type": "stream",
     "text": [
      "{'Train':  best_epoch_indx:71\n",
      " auc:0.8565540069848542 \n",
      " apur:0.25593886018613443 \n",
      " f1:0.23998132720482618 \n",
      " precision:0.13985267651613442 \n",
      " recall:0.8448798988621997 \n",
      ", 'Validation':  best_epoch_indx:71\n",
      " auc:0.823167103705039 \n",
      " apur:0.2124977268654944 \n",
      " f1:0.2275458827350983 \n",
      " precision:0.13272072754831377 \n",
      " recall:0.7969283276450512 \n",
      "}\n",
      "=====Epoch 72\n",
      "Training...\n"
     ]
    },
    {
     "name": "stderr",
     "output_type": "stream",
     "text": [
      "Iteration:   1%|▏         | 14/1004 [00:00<00:24, 40.87it/s]\n",
      "Iteration:   2%|▏         | 19/1004 [00:00<00:33, 29.48it/s]"
     ]
    },
    {
     "name": "stdout",
     "output_type": "stream",
     "text": [
      "{'Train':  best_epoch_indx:71\n",
      " auc:0.8531762394415927 \n",
      " apur:0.2523647034850132 \n",
      " f1:0.23649864192740483 \n",
      " precision:0.1374210871525785 \n",
      " recall:0.847597977243995 \n",
      ", 'Validation':  best_epoch_indx:71\n",
      " auc:0.8223346688898665 \n",
      " apur:0.22301836676103742 \n",
      " f1:0.22301871764237355 \n",
      " precision:0.12966564786514773 \n",
      " recall:0.7963594994311718 \n",
      "}\n",
      "=====Epoch 72\n",
      "Training...\n"
     ]
    },
    {
     "name": "stderr",
     "output_type": "stream",
     "text": [
      "Iteration:   6%|▌         | 59/1004 [00:01<00:21, 43.97it/s]\n",
      "Iteration:  24%|██▍       | 27/112 [00:00<00:01, 56.68it/s]]\n",
      "Iteration:  10%|▉         | 99/1004 [00:02<00:20, 44.56it/s]\n",
      "Iteration:  17%|█▋        | 174/1004 [00:04<00:18, 44.77it/s]\n",
      "Iteration:  18%|█▊        | 179/1004 [00:04<00:19, 42.80it/s]"
     ]
    },
    {
     "name": "stdout",
     "output_type": "stream",
     "text": [
      "{'Train':  best_epoch_indx:71\n",
      " auc:0.8538121315730292 \n",
      " apur:0.2575271109598338 \n",
      " f1:0.2406662626485226 \n",
      " precision:0.14078227894335407 \n",
      " recall:0.8284341614514191 \n",
      ", 'Validation':  best_epoch_indx:71\n",
      " auc:0.8195346013296274 \n",
      " apur:0.2127845475097345 \n",
      " f1:0.22682967123740294 \n",
      " precision:0.13268264398917665 \n",
      " recall:0.7810011376564278 \n",
      "}\n",
      "=====Epoch 72\n",
      "Training...\n"
     ]
    },
    {
     "name": "stderr",
     "output_type": "stream",
     "text": [
      "\r",
      "Iteration:  20%|██        | 204/1004 [00:04<00:17, 45.30it/s]\r",
      "Iteration:  18%|█▊        | 184/1004 [00:04<00:18, 43.26it/s]\r",
      "Iteration:   1%|          | 9/1004 [00:00<00:25, 38.95it/s]\n",
      "\r",
      "Iteration:   0%|          | 0/1004 [00:00<?, ?it/s]\r",
      "Iteration:  21%|██        | 209/1004 [00:04<00:17, 45.33it/s]\r",
      "Iteration:  19%|█▉        | 189/1004 [00:04<00:18, 43.78it/s]\r",
      "Iteration:   1%|▏         | 13/1004 [00:00<00:25, 38.82it/s]"
     ]
    },
    {
     "name": "stdout",
     "output_type": "stream",
     "text": [
      "{'Train':  best_epoch_indx:71\n",
      " auc:0.8544005304946942 \n",
      " apur:0.26138706726090083 \n",
      " f1:0.23821553345874763 \n",
      " precision:0.1387732097567085 \n",
      " recall:0.840508249573298 \n",
      ", 'Validation':  best_epoch_indx:71\n",
      " auc:0.8267974347064242 \n",
      " apur:0.2176398843788548 \n",
      " f1:0.228714794431855 \n",
      " precision:0.13332704283827138 \n",
      " recall:0.8037542662116041 \n",
      "}\n",
      "=====Epoch 72\n",
      "Training...\n",
      "{'Train':  best_epoch_indx:71\n",
      " auc:0.8538283290727268 \n",
      " apur:0.24952842936241165 \n",
      " f1:0.23436683504615918 \n",
      " precision:0.1359090909090909 \n",
      " recall:0.8505056890012642 \n",
      ", 'Validation':  best_epoch_indx:71\n",
      " auc:0.820469153532366 \n",
      " apur:0.21545930978071698 \n",
      " f1:0.22225732564568362 \n",
      " precision:0.1290470512702926 \n",
      " recall:0.8003412969283277 \n",
      "}\n",
      "=====Epoch 72\n",
      "Training...\n"
     ]
    },
    {
     "name": "stderr",
     "output_type": "stream",
     "text": [
      "Iteration:   0%|          | 4/1004 [00:00<00:31, 32.25it/s]s]\n",
      "Iteration: 100%|██████████| 1004/1004 [00:22<00:00, 43.79it/s]\n",
      "Iteration:   0%|          | 5/1004 [00:00<00:21, 45.63it/s]s]"
     ]
    },
    {
     "name": "stdout",
     "output_type": "stream",
     "text": [
      "Evaluating...\n"
     ]
    },
    {
     "name": "stderr",
     "output_type": "stream",
     "text": [
      "Iteration:  79%|███████▉  | 797/1004 [00:18<00:05, 39.43it/s]]\n",
      "Iteration:   0%|          | 0/1004 [00:00<?, ?it/s]"
     ]
    },
    {
     "name": "stdout",
     "output_type": "stream",
     "text": [
      "Evaluating...\n"
     ]
    },
    {
     "name": "stderr",
     "output_type": "stream",
     "text": [
      "Iteration: 100%|██████████| 1004/1004 [00:23<00:00, 43.29it/s]\n",
      "Iteration:   0%|          | 5/1004 [00:00<00:21, 46.25it/s]s]"
     ]
    },
    {
     "name": "stdout",
     "output_type": "stream",
     "text": [
      "Evaluating...\n",
      "Evaluating...\n"
     ]
    },
    {
     "name": "stderr",
     "output_type": "stream",
     "text": [
      "Iteration: 100%|██████████| 1004/1004 [00:23<00:00, 43.44it/s]\n",
      "Iteration: 100%|██████████| 1004/1004 [00:23<00:00, 43.03it/s]\n",
      "Iteration:  26%|██▌       | 262/1004 [00:05<00:14, 51.27it/s]"
     ]
    },
    {
     "name": "stdout",
     "output_type": "stream",
     "text": [
      "Evaluating...\n"
     ]
    },
    {
     "name": "stderr",
     "output_type": "stream",
     "text": [
      "Iteration:  92%|█████████▏| 924/1004 [00:19<00:01, 56.13it/s]]\n",
      "Iteration:  95%|█████████▌| 958/1004 [00:19<00:00, 56.80it/s]\n",
      "Iteration: 100%|██████████| 112/112 [00:01<00:00, 57.71it/s]s]\n",
      "Iteration:   0%|          | 4/1004 [00:00<00:26, 37.47it/s]"
     ]
    },
    {
     "name": "stdout",
     "output_type": "stream",
     "text": [
      "{'Train':  best_epoch_indx:72\n",
      " auc:0.848449186863741 \n",
      " apur:0.24353896749277248 \n",
      " f1:0.23391053904138814 \n",
      " precision:0.13609375646489305 \n",
      " recall:0.8316687737041719 \n",
      ", 'Validation':  best_epoch_indx:72\n",
      " auc:0.8216535214195461 \n",
      " apur:0.20996937603974206 \n",
      " f1:0.22314978327179322 \n",
      " precision:0.12990654205607477 \n",
      " recall:0.7906712172923777 \n",
      "}\n",
      "=====Epoch 73\n",
      "Training...\n",
      "{'Train':  best_epoch_indx:72\n",
      " auc:0.8509927380604315 \n",
      " apur:0.24900509835582896 \n",
      " f1:0.24090385058796404 \n",
      " precision:0.14102910210031855 \n",
      " recall:0.8255372945638433 \n",
      ", 'Validation':  best_epoch_indx:72\n",
      " auc:0.820097023092868 \n",
      " apur:0.21708704201405177 \n",
      " f1:0.22524690845713338 \n",
      " precision:0.13186279273151297 \n",
      " recall:0.7718998862343572 \n",
      "}\n",
      "=====Epoch 73\n",
      "Training...\n"
     ]
    },
    {
     "name": "stderr",
     "output_type": "stream",
     "text": [
      "\n",
      "Iteration:   7%|▋         | 69/1004 [00:01<00:20, 44.86it/s]\n",
      "Iteration:   7%|▋         | 74/1004 [00:01<00:20, 44.75it/s]\n",
      "Iteration:   8%|▊         | 84/1004 [00:01<00:21, 42.89it/s]\n",
      "Iteration:  19%|█▉        | 189/1004 [00:04<00:18, 44.44it/s]\n",
      "Iteration:   0%|          | 0/1004 [00:00<?, ?it/s]\n",
      "Iteration:   0%|          | 4/1004 [00:00<00:27, 37.01it/s]s]"
     ]
    },
    {
     "name": "stdout",
     "output_type": "stream",
     "text": [
      "{'Train':  best_epoch_indx:72\n",
      " auc:0.8466820094407399 \n",
      " apur:0.2457009849117746 \n",
      " f1:0.2370750901737895 \n",
      " precision:0.13849248156306868 \n",
      " recall:0.8226815854352361 \n",
      ", 'Validation':  best_epoch_indx:72\n",
      " auc:0.8186727811841434 \n",
      " apur:0.2048786869536589 \n",
      " f1:0.2273098937040065 \n",
      " precision:0.13273491214667685 \n",
      " recall:0.7906712172923777 \n",
      "}\n",
      "=====Epoch 73\n",
      "Training...\n",
      "{'Train':  best_epoch_indx:72\n",
      " auc:0.850617465277582 \n",
      " apur:0.25105628146141756 \n",
      " f1:0.2455266752564835 \n",
      " precision:0.1449819230241179 \n",
      " recall:0.8010620140337569 \n",
      ", 'Validation':  best_epoch_indx:72\n",
      " auc:0.824617976349753 \n",
      " apur:0.21400092084080574 \n",
      " f1:0.2357049323439546 \n",
      " precision:0.1392183149427658 \n",
      " recall:0.7679180887372014 \n",
      "}\n",
      "=====Epoch 73\n",
      "Training...\n"
     ]
    },
    {
     "name": "stderr",
     "output_type": "stream",
     "text": [
      "\r",
      "Iteration:   0%|          | 4/1004 [00:00<00:28, 35.45it/s]\r",
      "Iteration:  21%|██        | 209/1004 [00:04<00:17, 44.94it/s]\r",
      "Iteration:  20%|█▉        | 199/1004 [00:04<00:18, 44.69it/s]\r",
      "Iteration:   1%|          | 9/1004 [00:00<00:25, 39.22it/s]\r",
      "Iteration:   1%|          | 8/1004 [00:00<00:26, 37.97it/s]\n",
      "\r",
      "Iteration:   0%|          | 0/1004 [00:00<?, ?it/s]\r",
      "Iteration:  21%|██▏       | 214/1004 [00:04<00:17, 45.06it/s]\r",
      "Iteration:  20%|██        | 204/1004 [00:04<00:17, 44.51it/s]\r",
      "Iteration:   1%|▏         | 14/1004 [00:00<00:24, 39.74it/s]"
     ]
    },
    {
     "name": "stdout",
     "output_type": "stream",
     "text": [
      "{'Train':  best_epoch_indx:72\n",
      " auc:0.8502566456856323 \n",
      " apur:0.24612533942275197 \n",
      " f1:0.247655634357762 \n",
      " precision:0.14668611435239207 \n",
      " recall:0.7946270543615677 \n",
      ", 'Validation':  best_epoch_indx:72\n",
      " auc:0.8194107253387002 \n",
      " apur:0.21280543792512507 \n",
      " f1:0.2329374224428293 \n",
      " precision:0.1379672406551869 \n",
      " recall:0.7474402730375427 \n",
      "}\n",
      "=====Epoch 73\n",
      "Training...\n"
     ]
    },
    {
     "name": "stderr",
     "output_type": "stream",
     "text": [
      "Iteration: 100%|██████████| 1004/1004 [00:22<00:00, 43.95it/s]\n",
      "Iteration:   0%|          | 0/1004 [00:00<?, ?it/s]"
     ]
    },
    {
     "name": "stdout",
     "output_type": "stream",
     "text": [
      "Evaluating...\n"
     ]
    },
    {
     "name": "stderr",
     "output_type": "stream",
     "text": [
      "Iteration: 100%|██████████| 1004/1004 [00:22<00:00, 43.83it/s]\n",
      "Iteration:   2%|▏         | 22/1004 [00:00<00:19, 51.20it/s]]"
     ]
    },
    {
     "name": "stdout",
     "output_type": "stream",
     "text": [
      "Evaluating...\n"
     ]
    },
    {
     "name": "stderr",
     "output_type": "stream",
     "text": [
      "Iteration: 100%|██████████| 1004/1004 [00:22<00:00, 43.80it/s]\n",
      "Iteration:  23%|██▎       | 229/1004 [00:04<00:15, 49.14it/s]]\n",
      "Iteration:   0%|          | 4/1004 [00:00<00:25, 39.49it/s]s]"
     ]
    },
    {
     "name": "stdout",
     "output_type": "stream",
     "text": [
      "Evaluating...\n",
      "Evaluating...\n"
     ]
    },
    {
     "name": "stderr",
     "output_type": "stream",
     "text": [
      "\r",
      "Iteration:  23%|██▎       | 235/1004 [00:04<00:15, 49.90it/s]\r",
      "Iteration:   0%|          | 4/1004 [00:00<00:28, 34.93it/s]\r",
      "Iteration:  22%|██▏       | 222/1004 [00:04<00:15, 48.99it/s]\r",
      "Iteration: 100%|█████████▉| 999/1004 [00:22<00:00, 43.55it/s]\r",
      "Iteration:   1%|          | 10/1004 [00:00<00:20, 47.49it/s]\r",
      "Iteration:   1%|          | 9/1004 [00:00<00:23, 42.17it/s]\r",
      "Iteration:  24%|██▍       | 241/1004 [00:04<00:15, 49.99it/s]\r",
      "Iteration:  23%|██▎       | 228/1004 [00:04<00:15, 50.25it/s]\r",
      "Iteration:   1%|▏         | 15/1004 [00:00<00:20, 47.78it/s]\r",
      "Iteration: 100%|██████████| 1004/1004 [00:23<00:00, 40.00it/s]\r",
      "Iteration: 100%|██████████| 1004/1004 [00:23<00:00, 43.53it/s]\n",
      "\r",
      "Iteration:   0%|          | 0/1004 [00:00<?, ?it/s]"
     ]
    },
    {
     "name": "stdout",
     "output_type": "stream",
     "text": [
      "Evaluating...\n"
     ]
    },
    {
     "name": "stderr",
     "output_type": "stream",
     "text": [
      "Iteration:  95%|█████████▌| 955/1004 [00:19<00:00, 63.97it/s]]\n",
      "Iteration:  18%|█▊        | 20/112 [00:00<00:01, 54.79it/s]s]\n",
      "Iteration: 100%|██████████| 112/112 [00:01<00:00, 62.74it/s]s]\n",
      "Iteration:   0%|          | 0/1004 [00:00<?, ?it/s]"
     ]
    },
    {
     "name": "stdout",
     "output_type": "stream",
     "text": [
      "{'Train':  best_epoch_indx:73\n",
      " auc:0.8495506304438649 \n",
      " apur:0.24777105309914743 \n",
      " f1:0.2346121900789934 \n",
      " precision:0.13636830535982086 \n",
      " recall:0.8391908975979773 \n",
      ", 'Validation':  best_epoch_indx:73\n",
      " auc:0.8229358882617386 \n",
      " apur:0.21080262818327092 \n",
      " f1:0.22390438247011954 \n",
      " precision:0.13018902891030393 \n",
      " recall:0.7992036405005688 \n",
      "}\n",
      "=====Epoch 74\n",
      "Training...\n"
     ]
    },
    {
     "name": "stderr",
     "output_type": "stream",
     "text": [
      "\r",
      "Iteration:   0%|          | 4/1004 [00:00<00:26, 37.20it/s]\r",
      "Iteration:   1%|          | 9/1004 [00:00<00:25, 39.71it/s]\n",
      "\r",
      "Iteration:   0%|          | 0/1004 [00:00<?, ?it/s]"
     ]
    },
    {
     "name": "stdout",
     "output_type": "stream",
     "text": [
      "{'Train':  best_epoch_indx:73\n",
      " auc:0.8451457205054541 \n",
      " apur:0.23167289440295669 \n",
      " f1:0.22776895258052524 \n",
      " precision:0.13145677278402 \n",
      " recall:0.8519595448798989 \n",
      ", 'Validation':  best_epoch_indx:73\n",
      " auc:0.8183994662080725 \n",
      " apur:0.2053031839562017 \n",
      " f1:0.2172398121496743 \n",
      " precision:0.12530583711988816 \n",
      " recall:0.8156996587030717 \n",
      "}\n",
      "=====Epoch 74\n",
      "Training...\n"
     ]
    },
    {
     "name": "stderr",
     "output_type": "stream",
     "text": [
      "Iteration:   6%|▋         | 64/1004 [00:01<00:21, 44.47it/s]\n",
      "Iteration:   7%|▋         | 69/1004 [00:01<00:20, 44.58it/s]\n",
      "Iteration:   9%|▉         | 89/1004 [00:02<00:20, 43.61it/s]\n",
      "Iteration:  19%|█▉        | 189/1004 [00:04<00:18, 44.05it/s]\n",
      "Iteration:  18%|█▊        | 184/1004 [00:04<00:18, 44.00it/s]\n",
      "Iteration:   0%|          | 0/1004 [00:00<?, ?it/s]"
     ]
    },
    {
     "name": "stdout",
     "output_type": "stream",
     "text": [
      "{'Train':  best_epoch_indx:73\n",
      " auc:0.8451950075377953 \n",
      " apur:0.24537513287673485 \n",
      " f1:0.2287110102471264 \n",
      " precision:0.13251294816718193 \n",
      " recall:0.834566028193944 \n",
      ", 'Validation':  best_epoch_indx:73\n",
      " auc:0.81700303044855 \n",
      " apur:0.20718880255075933 \n",
      " f1:0.21821868663235064 \n",
      " precision:0.1264461315979754 \n",
      " recall:0.7957906712172924 \n",
      "}\n",
      "=====Epoch 74\n",
      "Training...\n",
      "{'Train':  best_epoch_indx:73\n",
      " auc:0.8467403426497817 \n",
      " apur:0.24464321105513778 \n",
      " f1:0.23954605299757079 \n",
      " precision:0.1403596457869289 \n",
      " recall:0.8166129338137682 \n",
      ", 'Validation':  best_epoch_indx:73\n",
      " auc:0.8196922053989187 \n",
      " apur:0.20709572362959477 \n",
      " f1:0.22942892872030007 \n",
      " precision:0.13441437921265995 \n",
      " recall:0.782707622298066 \n",
      "}\n",
      "=====Epoch 74\n",
      "Training...\n",
      "{'Train':  best_epoch_indx:73\n",
      " auc:0.8461554721845966 \n",
      " apur:0.2426233237921623 \n",
      " f1:0.2292582820287306 \n",
      " precision:0.1327355871957186 \n",
      " recall:0.8403286978508218 \n",
      ", 'Validation':  best_epoch_indx:73\n",
      " auc:0.8178640430582392 \n",
      " apur:0.2074111610528087 \n",
      " f1:0.22078529136802744 \n",
      " precision:0.12791117530240115 \n",
      " recall:0.8060295790671217 \n",
      "}\n",
      "=====Epoch 74\n",
      "Training...\n"
     ]
    },
    {
     "name": "stderr",
     "output_type": "stream",
     "text": [
      "Iteration:   0%|          | 4/1004 [00:00<00:27, 36.36it/s]s]\n",
      "Iteration: 100%|██████████| 1004/1004 [00:23<00:00, 43.65it/s]\n",
      "Iteration:  80%|████████  | 804/1004 [00:18<00:04, 44.04it/s]"
     ]
    },
    {
     "name": "stdout",
     "output_type": "stream",
     "text": [
      "Evaluating...\n"
     ]
    },
    {
     "name": "stderr",
     "output_type": "stream",
     "text": [
      "\r",
      "Iteration:  81%|████████  | 814/1004 [00:18<00:04, 44.89it/s]\r",
      "Iteration:   1%|          | 9/1004 [00:00<00:22, 44.60it/s]\r",
      "Iteration: 100%|██████████| 1004/1004 [00:23<00:00, 41.32it/s]\r",
      "Iteration: 100%|██████████| 1004/1004 [00:23<00:00, 43.59it/s]\n",
      "\r",
      "Iteration:   0%|          | 0/1004 [00:00<?, ?it/s]\r",
      "Iteration:  82%|████████▏ | 819/1004 [00:18<00:04, 44.27it/s]\r",
      "Iteration:  81%|████████  | 809/1004 [00:18<00:04, 44.30it/s]\r",
      "Iteration:  82%|████████▏ | 819/1004 [00:18<00:04, 45.03it/s]\r",
      "Iteration:   1%|▏         | 14/1004 [00:00<00:21, 45.39it/s]\r",
      "Iteration:   0%|          | 4/1004 [00:00<00:25, 38.56it/s]\r",
      "Iteration:  82%|████████▏ | 824/1004 [00:18<00:04, 44.73it/s]\r",
      "Iteration:  81%|████████  | 814/1004 [00:18<00:04, 44.40it/s]"
     ]
    },
    {
     "name": "stdout",
     "output_type": "stream",
     "text": [
      "Evaluating...\n"
     ]
    },
    {
     "name": "stderr",
     "output_type": "stream",
     "text": [
      "Iteration: 100%|██████████| 1004/1004 [00:23<00:00, 43.47it/s]\n",
      "Iteration:  23%|██▎       | 235/1004 [00:04<00:15, 50.18it/s]"
     ]
    },
    {
     "name": "stdout",
     "output_type": "stream",
     "text": [
      "Evaluating...\n",
      "Evaluating...\n"
     ]
    },
    {
     "name": "stderr",
     "output_type": "stream",
     "text": [
      "Iteration: 100%|██████████| 1004/1004 [00:23<00:00, 43.46it/s]\n",
      "Iteration: 100%|██████████| 1004/1004 [00:23<00:00, 43.22it/s]\n",
      "Iteration:  25%|██▌       | 256/1004 [00:05<00:15, 48.59it/s]"
     ]
    },
    {
     "name": "stdout",
     "output_type": "stream",
     "text": [
      "Evaluating...\n"
     ]
    },
    {
     "name": "stderr",
     "output_type": "stream",
     "text": [
      "Iteration:  93%|█████████▎| 938/1004 [00:19<00:01, 57.76it/s]]\n",
      "Iteration:  21%|██▏       | 24/112 [00:00<00:02, 37.28it/s]s]\n",
      "Iteration:  93%|█████████▎| 104/112 [00:01<00:00, 74.68it/s]s]\n",
      "Iteration:   0%|          | 0/1004 [00:00<?, ?it/s]"
     ]
    },
    {
     "name": "stdout",
     "output_type": "stream",
     "text": [
      "{'Train':  best_epoch_indx:74\n",
      " auc:0.8479491606619516 \n",
      " apur:0.24439096333165075 \n",
      " f1:0.22294244745629546 \n",
      " precision:0.1280508442706179 \n",
      " recall:0.8609355246523388 \n",
      ", 'Validation':  best_epoch_indx:74\n",
      " auc:0.8198941431833463 \n",
      " apur:0.2033250529006513 \n",
      " f1:0.2120854826823876 \n",
      " precision:0.12182526244497122 \n",
      " recall:0.8185437997724687 \n",
      "}\n",
      "=====Epoch 75\n",
      "Training...\n"
     ]
    },
    {
     "name": "stderr",
     "output_type": "stream",
     "text": [
      "Iteration:   1%|▏         | 14/1004 [00:00<00:24, 40.86it/s]\n",
      "Iteration:   0%|          | 4/1004 [00:00<00:27, 36.98it/s]]"
     ]
    },
    {
     "name": "stdout",
     "output_type": "stream",
     "text": [
      "{'Train':  best_epoch_indx:74\n",
      " auc:0.8401207746290452 \n",
      " apur:0.22835798586247422 \n",
      " f1:0.21653621204086962 \n",
      " precision:0.12376394379958926 \n",
      " recall:0.8647281921618205 \n",
      ", 'Validation':  best_epoch_indx:74\n",
      " auc:0.8149279774975305 \n",
      " apur:0.20027142319878322 \n",
      " f1:0.20729366602687138 \n",
      " precision:0.11844991469656349 \n",
      " recall:0.8293515358361775 \n",
      "}\n",
      "=====Epoch 75\n",
      "Training...\n"
     ]
    },
    {
     "name": "stderr",
     "output_type": "stream",
     "text": [
      "Iteration:   8%|▊         | 84/1004 [00:01<00:20, 45.32it/s]\n",
      "Iteration:   0%|          | 0/112 [00:00<?, ?it/s]\n",
      "Iteration:   9%|▉         | 94/1004 [00:02<00:20, 44.71it/s]\n",
      "Iteration:  18%|█▊        | 179/1004 [00:04<00:18, 44.14it/s]"
     ]
    },
    {
     "name": "stdout",
     "output_type": "stream",
     "text": [
      "{'Train':  best_epoch_indx:74\n",
      " auc:0.8428934605153332 \n",
      " apur:0.23379526948308677 \n",
      " f1:0.24127136087310325 \n",
      " precision:0.14216731539459582 \n",
      " recall:0.7965233881163085 \n",
      ", 'Validation':  best_epoch_indx:74\n",
      " auc:0.815621004716655 \n",
      " apur:0.20060493565341306 \n",
      " f1:0.23072263089571615 \n",
      " precision:0.13606205981422884 \n",
      " recall:0.7582480091012515 \n",
      "}\n",
      "=====Epoch 75\n",
      "Training...\n",
      "{'Train':  best_epoch_indx:74\n",
      " auc:0.845339087650183 \n",
      " apur:0.23724803436687156 \n",
      " f1:0.2276171646287135 \n",
      " precision:0.13145411063629592 \n",
      " recall:0.8478412036159049 \n",
      ", 'Validation':  best_epoch_indx:74\n",
      " auc:0.8176728993356027 \n",
      " apur:0.19615198728128852 \n",
      " f1:0.21596459096459097 \n",
      " precision:0.12471355543803984 \n",
      " recall:0.8048919226393629 \n",
      "}\n",
      "=====Epoch 75\n",
      "Training...\n"
     ]
    },
    {
     "name": "stderr",
     "output_type": "stream",
     "text": [
      "\n",
      "Iteration:  18%|█▊        | 184/1004 [00:04<00:18, 44.38it/s]\n",
      "Iteration:   1%|          | 9/1004 [00:00<00:25, 39.46it/s]s]\n",
      "Iteration:  20%|█▉        | 199/1004 [00:04<00:18, 44.01it/s]"
     ]
    },
    {
     "name": "stdout",
     "output_type": "stream",
     "text": [
      "{'Train':  best_epoch_indx:74\n",
      " auc:0.8426949051862753 \n",
      " apur:0.23585534836127314 \n",
      " f1:0.22443086988450497 \n",
      " precision:0.12928191668349148 \n",
      " recall:0.8500537328528984 \n",
      ", 'Validation':  best_epoch_indx:74\n",
      " auc:0.8167186881225698 \n",
      " apur:0.19233140053915587 \n",
      " f1:0.2160126534608722 \n",
      " precision:0.12448997308794166 \n",
      " recall:0.8156996587030717 \n",
      "}\n",
      "=====Epoch 75\n",
      "Training...\n"
     ]
    },
    {
     "name": "stderr",
     "output_type": "stream",
     "text": [
      "Iteration: 100%|██████████| 1004/1004 [00:22<00:00, 43.74it/s]\n",
      "Iteration:  80%|███████▉  | 799/1004 [00:18<00:04, 43.24it/s]"
     ]
    },
    {
     "name": "stdout",
     "output_type": "stream",
     "text": [
      "Evaluating...\n"
     ]
    },
    {
     "name": "stderr",
     "output_type": "stream",
     "text": [
      "Iteration: 100%|██████████| 1004/1004 [00:23<00:00, 43.43it/s]\n",
      "Iteration:  82%|████████▏ | 819/1004 [00:18<00:04, 44.10it/s]"
     ]
    },
    {
     "name": "stdout",
     "output_type": "stream",
     "text": [
      "Evaluating...\n"
     ]
    },
    {
     "name": "stderr",
     "output_type": "stream",
     "text": [
      "Iteration: 100%|██████████| 1004/1004 [00:23<00:00, 43.06it/s]\n",
      "Iteration: 100%|██████████| 1004/1004 [00:23<00:00, 43.15it/s]\n",
      "Iteration:   0%|          | 0/1004 [00:00<?, ?it/s]"
     ]
    },
    {
     "name": "stdout",
     "output_type": "stream",
     "text": [
      "Evaluating...\n",
      "Evaluating...\n",
      "Evaluating...\n"
     ]
    },
    {
     "name": "stderr",
     "output_type": "stream",
     "text": [
      "Iteration: 100%|██████████| 1004/1004 [00:23<00:00, 43.31it/s]\n",
      "Iteration:  95%|█████████▍| 953/1004 [00:19<00:00, 58.82it/s]]\n",
      "Iteration:  18%|█▊        | 20/112 [00:00<00:01, 53.06it/s]s]\n",
      "Iteration: 100%|██████████| 112/112 [00:01<00:00, 59.95it/s]s]\n",
      "Iteration:   0%|          | 4/1004 [00:00<00:27, 36.66it/s]"
     ]
    },
    {
     "name": "stdout",
     "output_type": "stream",
     "text": [
      "{'Train':  best_epoch_indx:75\n",
      " auc:0.8457982400152624 \n",
      " apur:0.2430522977985154 \n",
      " f1:0.22249583425677394 \n",
      " precision:0.1278500476383635 \n",
      " recall:0.8567003792667509 \n",
      ", 'Validation':  best_epoch_indx:75\n",
      " auc:0.820966658390322 \n",
      " apur:0.21193724901102828 \n",
      " f1:0.2147611300103535 \n",
      " precision:0.12342740564433866 \n",
      " recall:0.825938566552901 \n",
      "}\n",
      "=====Epoch 76\n",
      "Training...\n"
     ]
    },
    {
     "name": "stderr",
     "output_type": "stream",
     "text": [
      "\r",
      "Iteration:   1%|          | 9/1004 [00:00<00:25, 39.47it/s]\n",
      "\r",
      "Iteration:   0%|          | 0/1004 [00:00<?, ?it/s]\r",
      "Iteration:   1%|▏         | 14/1004 [00:00<00:24, 40.45it/s]\r",
      "Iteration:   0%|          | 4/1004 [00:00<00:27, 36.94it/s]"
     ]
    },
    {
     "name": "stdout",
     "output_type": "stream",
     "text": [
      "{'Train':  best_epoch_indx:75\n",
      " auc:0.8442510983424626 \n",
      " apur:0.23530316164894505 \n",
      " f1:0.23302597013346496 \n",
      " precision:0.13539511155729475 \n",
      " recall:0.8354614412136536 \n",
      ", 'Validation':  best_epoch_indx:75\n",
      " auc:0.8210435178527502 \n",
      " apur:0.21159630984864583 \n",
      " f1:0.22379738770309016 \n",
      " precision:0.1301166882756066 \n",
      " recall:0.7992036405005688 \n",
      "}\n",
      "=====Epoch 76\n",
      "Training...\n"
     ]
    },
    {
     "name": "stderr",
     "output_type": "stream",
     "text": [
      "Iteration:   6%|▋         | 64/1004 [00:01<00:21, 44.57it/s]\n",
      "Iteration:   8%|▊         | 84/1004 [00:01<00:20, 45.47it/s]\n",
      "Iteration:   8%|▊         | 79/1004 [00:01<00:20, 44.65it/s]\n",
      "Iteration: 100%|██████████| 112/112 [00:02<00:00, 48.75it/s]]\n",
      "Iteration:  20%|█▉        | 199/1004 [00:04<00:18, 44.25it/s]"
     ]
    },
    {
     "name": "stdout",
     "output_type": "stream",
     "text": [
      "{'Train':  best_epoch_indx:75\n",
      " auc:0.8436639018996908 \n",
      " apur:0.23516827430472229 \n",
      " f1:0.23265262482625895 \n",
      " precision:0.13541180497215222 \n",
      " recall:0.8253366205196283 \n",
      ", 'Validation':  best_epoch_indx:75\n",
      " auc:0.8202071799479028 \n",
      " apur:0.2041057853420095 \n",
      " f1:0.22356155576984893 \n",
      " precision:0.13017031630170317 \n",
      " recall:0.7912400455062572 \n",
      "}\n",
      "=====Epoch 76\n",
      "Training...\n",
      "{'Train':  best_epoch_indx:75\n",
      " auc:0.8441169875163722 \n",
      " apur:0.23937428392457863 \n",
      " f1:0.23868574258721065 \n",
      " precision:0.14004671513636213 \n",
      " recall:0.8072692793931732 \n",
      ", 'Validation':  best_epoch_indx:75\n",
      " auc:0.8162648619784942 \n",
      " apur:0.2050206871296824 \n",
      " f1:0.22689999154620002 \n",
      " precision:0.13325389732896437 \n",
      " recall:0.7633674630261661 \n",
      "}\n",
      "=====Epoch 76\n",
      "Training...\n"
     ]
    },
    {
     "name": "stderr",
     "output_type": "stream",
     "text": [
      "\n",
      "\r",
      "Iteration:   0%|          | 0/1004 [00:00<?, ?it/s]\r",
      "Iteration:  19%|█▉        | 189/1004 [00:04<00:18, 44.52it/s]\r",
      "Iteration:   1%|          | 9/1004 [00:00<00:25, 39.25it/s]\r",
      "Iteration:  20%|██        | 204/1004 [00:04<00:17, 44.83it/s]\r",
      "Iteration:   0%|          | 4/1004 [00:00<00:29, 34.27it/s]\r",
      "Iteration:  19%|█▉        | 194/1004 [00:04<00:18, 44.46it/s]\r",
      "Iteration:   1%|▏         | 14/1004 [00:00<00:24, 40.49it/s]\n",
      "\r",
      "Iteration:   0%|          | 0/1004 [00:00<?, ?it/s]\r",
      "Iteration:  21%|██        | 209/1004 [00:04<00:17, 44.70it/s]"
     ]
    },
    {
     "name": "stdout",
     "output_type": "stream",
     "text": [
      "{'Train':  best_epoch_indx:75\n",
      " auc:0.8449556453818503 \n",
      " apur:0.2321279227421591 \n",
      " f1:0.22467026130236414 \n",
      " precision:0.12930268974802112 \n",
      " recall:0.8560591693533093 \n",
      ", 'Validation':  best_epoch_indx:75\n",
      " auc:0.8212776045344319 \n",
      " apur:0.20047838967130366 \n",
      " f1:0.21888605314517343 \n",
      " precision:0.12608094085091665 \n",
      " recall:0.8293515358361775 \n",
      "}\n",
      "=====Epoch 76\n",
      "Training...\n"
     ]
    },
    {
     "name": "stderr",
     "output_type": "stream",
     "text": [
      "Iteration: 100%|██████████| 1004/1004 [00:22<00:00, 43.79it/s]\n",
      "Iteration:  79%|███████▉  | 798/1004 [00:18<00:04, 42.37it/s]"
     ]
    },
    {
     "name": "stdout",
     "output_type": "stream",
     "text": [
      "Evaluating...\n"
     ]
    },
    {
     "name": "stderr",
     "output_type": "stream",
     "text": [
      "Iteration: 100%|██████████| 1004/1004 [00:23<00:00, 43.50it/s]\n",
      "Iteration:  81%|████████▏ | 818/1004 [00:18<00:04, 43.26it/s]"
     ]
    },
    {
     "name": "stdout",
     "output_type": "stream",
     "text": [
      "Evaluating...\n"
     ]
    },
    {
     "name": "stderr",
     "output_type": "stream",
     "text": [
      "Iteration:  21%|██        | 207/1004 [00:04<00:17, 46.57it/s]]\n",
      "Iteration: 100%|██████████| 1004/1004 [00:23<00:00, 43.35it/s]\n",
      "Iteration:   0%|          | 0/1004 [00:00<?, ?it/s]"
     ]
    },
    {
     "name": "stdout",
     "output_type": "stream",
     "text": [
      "Evaluating...\n",
      "Evaluating...\n",
      "Evaluating...\n"
     ]
    },
    {
     "name": "stderr",
     "output_type": "stream",
     "text": [
      "Iteration: 100%|██████████| 1004/1004 [00:23<00:00, 43.52it/s]\n",
      "Iteration:  96%|█████████▌| 965/1004 [00:19<00:00, 63.95it/s]]\n",
      "Iteration:  96%|█████████▌| 962/1004 [00:19<00:00, 56.85it/s]\n",
      "Iteration: 100%|██████████| 112/112 [00:01<00:00, 61.27it/s]s]"
     ]
    },
    {
     "name": "stdout",
     "output_type": "stream",
     "text": [
      "{'Train':  best_epoch_indx:76\n",
      " auc:0.8508489229181017 \n",
      " apur:0.2493050018176286 \n",
      " f1:0.2398125863630956 \n",
      " precision:0.14020351605551215 \n",
      " recall:0.8282553729456384 \n",
      ", 'Validation':  best_epoch_indx:76\n",
      " auc:0.8252924840813161 \n",
      " apur:0.22009009902165647 \n",
      " f1:0.22772929359459904 \n",
      " precision:0.1331343858298036 \n",
      " recall:0.7866894197952219 \n",
      "}\n",
      "=====Epoch 77\n",
      "Training...\n",
      "{'Train':  best_epoch_indx:76\n",
      " auc:0.8465785082617622 \n",
      " apur:0.24128038324396986 \n",
      " f1:0.25407957413998883 \n",
      " precision:0.1525253934237056 \n",
      " recall:0.7603034134007586 \n",
      ", 'Validation':  best_epoch_indx:76\n",
      " auc:0.8215933510302111 \n",
      " apur:0.21002775360388617 \n",
      " f1:0.242274412855377 \n",
      " precision:0.14545039388057998 \n",
      " recall:0.7246871444823664 \n",
      "}\n",
      "=====Epoch 77\n",
      "Training...\n"
     ]
    },
    {
     "name": "stderr",
     "output_type": "stream",
     "text": [
      "\n",
      "Iteration:   0%|          | 0/1004 [00:00<?, ?it/s]\n",
      "Iteration:   6%|▋         | 64/1004 [00:01<00:21, 44.20it/s]\n",
      "Iteration:   0%|          | 0/112 [00:00<?, ?it/s]\n",
      "Iteration:   6%|▋         | 7/112 [00:00<00:01, 58.87it/s]s]\n",
      "Iteration:  18%|█▊        | 179/1004 [00:04<00:18, 44.68it/s]\n",
      "Iteration:  18%|█▊        | 184/1004 [00:04<00:18, 44.66it/s]\n",
      "Iteration:   0%|          | 4/1004 [00:00<00:28, 35.06it/s]"
     ]
    },
    {
     "name": "stdout",
     "output_type": "stream",
     "text": [
      "{'Train':  best_epoch_indx:76\n",
      " auc:0.8504677598091772 \n",
      " apur:0.24448933726694982 \n",
      " f1:0.23201571110938082 \n",
      " precision:0.13440181220431402 \n",
      " recall:0.8476515582527341 \n",
      ", 'Validation':  best_epoch_indx:76\n",
      " auc:0.8200861751953572 \n",
      " apur:0.2112309408711935 \n",
      " f1:0.21946654188114176 \n",
      " precision:0.1271691973969631 \n",
      " recall:0.8003412969283277 \n",
      "}\n",
      "=====Epoch 77\n",
      "Training...\n",
      "{'Train':  best_epoch_indx:76\n",
      " auc:0.8506925124246789 \n",
      " apur:0.2449920624604233 \n",
      " f1:0.2280465054300753 \n",
      " precision:0.13132601772627864 \n",
      " recall:0.8654235145385588 \n",
      ", 'Validation':  best_epoch_indx:76\n",
      " auc:0.817766726022342 \n",
      " apur:0.20645549285045173 \n",
      " f1:0.21581759349838214 \n",
      " precision:0.1243604197380973 \n",
      " recall:0.8156996587030717 \n",
      "}\n",
      "=====Epoch 77\n",
      "Training...\n"
     ]
    },
    {
     "name": "stderr",
     "output_type": "stream",
     "text": [
      "\r",
      "Iteration:  18%|█▊        | 184/1004 [00:04<00:18, 44.51it/s]\r",
      "Iteration:  19%|█▉        | 189/1004 [00:04<00:18, 44.81it/s]\n",
      "\r",
      "Iteration:   0%|          | 0/1004 [00:00<?, ?it/s]\r",
      "Iteration:   0%|          | 4/1004 [00:00<00:29, 34.36it/s]\r",
      "Iteration:   1%|          | 9/1004 [00:00<00:25, 38.54it/s]\r",
      "Iteration:  19%|█▉        | 189/1004 [00:04<00:18, 44.08it/s]\r",
      "Iteration:  19%|█▉        | 194/1004 [00:04<00:18, 44.92it/s]\r",
      "Iteration:   0%|          | 4/1004 [00:00<00:29, 33.96it/s]\r",
      "Iteration:   1%|▏         | 13/1004 [00:00<00:25, 39.01it/s]\r",
      "Iteration:   1%|          | 9/1004 [00:00<00:26, 37.72it/s]"
     ]
    },
    {
     "name": "stdout",
     "output_type": "stream",
     "text": [
      "{'Train':  best_epoch_indx:76\n",
      " auc:0.8505203568657784 \n",
      " apur:0.2531694176143565 \n",
      " f1:0.22674229198165613 \n",
      " precision:0.13063314532119275 \n",
      " recall:0.857955622985018 \n",
      ", 'Validation':  best_epoch_indx:76\n",
      " auc:0.8233242322254732 \n",
      " apur:0.20845789010672866 \n",
      " f1:0.21876416377096242 \n",
      " precision:0.12613240418118468 \n",
      " recall:0.8236632536973834 \n",
      "}\n",
      "=====Epoch 77\n",
      "Training...\n"
     ]
    },
    {
     "name": "stderr",
     "output_type": "stream",
     "text": [
      "Iteration: 100%|██████████| 1004/1004 [00:22<00:00, 43.87it/s]\n",
      "Iteration:  80%|████████  | 804/1004 [00:18<00:04, 41.28it/s]"
     ]
    },
    {
     "name": "stdout",
     "output_type": "stream",
     "text": [
      "Evaluating...\n"
     ]
    },
    {
     "name": "stderr",
     "output_type": "stream",
     "text": [
      "\r",
      "Iteration:  81%|████████  | 813/1004 [00:18<00:04, 42.36it/s]\r",
      "Iteration:  80%|████████  | 808/1004 [00:18<00:04, 42.18it/s]\r",
      "Iteration:   1%|          | 11/1004 [00:00<00:20, 49.43it/s]\r",
      "Iteration: 100%|██████████| 1004/1004 [00:23<00:00, 41.45it/s]\r",
      "Iteration: 100%|██████████| 1004/1004 [00:23<00:00, 43.41it/s]\r",
      "Iteration:  81%|████████  | 809/1004 [00:18<00:04, 42.00it/s]\n",
      "\r",
      "Iteration:   0%|          | 0/1004 [00:00<?, ?it/s]\r",
      "Iteration:  81%|████████▏ | 818/1004 [00:18<00:04, 42.76it/s]\r",
      "Iteration:  81%|████████  | 813/1004 [00:18<00:04, 42.78it/s]\r",
      "Iteration:   2%|▏         | 16/1004 [00:00<00:20, 47.74it/s]\r",
      "Iteration:   0%|          | 4/1004 [00:00<00:25, 39.22it/s]\r",
      "Iteration:  81%|████████  | 814/1004 [00:18<00:04, 43.03it/s]"
     ]
    },
    {
     "name": "stdout",
     "output_type": "stream",
     "text": [
      "Evaluating...\n"
     ]
    },
    {
     "name": "stderr",
     "output_type": "stream",
     "text": [
      "Iteration: 100%|██████████| 1004/1004 [00:23<00:00, 43.11it/s]\n",
      "Iteration: 100%|██████████| 1004/1004 [00:23<00:00, 43.46it/s]\n",
      "Iteration:  23%|██▎       | 230/1004 [00:04<00:15, 49.71it/s]"
     ]
    },
    {
     "name": "stdout",
     "output_type": "stream",
     "text": [
      "Evaluating...\n",
      "Evaluating...\n",
      "Evaluating...\n"
     ]
    },
    {
     "name": "stderr",
     "output_type": "stream",
     "text": [
      "Iteration: 100%|██████████| 1004/1004 [00:23<00:00, 43.11it/s]\n",
      "Iteration:  93%|█████████▎| 933/1004 [00:19<00:01, 60.84it/s]]\n",
      "Iteration:  98%|█████████▊| 979/1004 [00:20<00:00, 54.74it/s]\n",
      "Iteration:  93%|█████████▎| 104/112 [00:01<00:00, 82.07it/s]s]\n",
      "Iteration: 100%|██████████| 112/112 [00:01<00:00, 64.09it/s]"
     ]
    },
    {
     "name": "stdout",
     "output_type": "stream",
     "text": [
      "{'Train':  best_epoch_indx:77\n",
      " auc:0.856881719138751 \n",
      " apur:0.2609396999626692 \n",
      " f1:0.2365108309768581 \n",
      " precision:0.13740442388200252 \n",
      " recall:0.8485461441213653 \n",
      ", 'Validation':  best_epoch_indx:77\n",
      " auc:0.8278437588357875 \n",
      " apur:0.21968671897865757 \n",
      " f1:0.22427377636291285 \n",
      " precision:0.13037845840658832 \n",
      " recall:0.8014789533560864 \n",
      "}\n",
      "=====Epoch 78\n",
      "Training...\n"
     ]
    },
    {
     "name": "stderr",
     "output_type": "stream",
     "text": [
      "Iteration:   1%|▏         | 14/1004 [00:00<00:24, 40.84it/s]\n",
      "Iteration:   0%|          | 4/1004 [00:00<00:25, 39.98it/s]]"
     ]
    },
    {
     "name": "stdout",
     "output_type": "stream",
     "text": [
      "{'Train':  best_epoch_indx:77\n",
      " auc:0.854706613520057 \n",
      " apur:0.25330776162419827 \n",
      " f1:0.2353227347754322 \n",
      " precision:0.13640850035250277 \n",
      " recall:0.8561314791403287 \n",
      ", 'Validation':  best_epoch_indx:77\n",
      " auc:0.8282606985392791 \n",
      " apur:0.2220558285161988 \n",
      " f1:0.22420262664165103 \n",
      " precision:0.12996193583469276 \n",
      " recall:0.8156996587030717 \n",
      "}\n",
      "=====Epoch 78\n",
      "Training...\n"
     ]
    },
    {
     "name": "stderr",
     "output_type": "stream",
     "text": [
      "Iteration:   6%|▋         | 64/1004 [00:01<00:20, 45.03it/s]\n",
      "Iteration:   6%|▋         | 7/112 [00:00<00:01, 69.66it/s]s]\n",
      "Iteration:   9%|▉         | 89/1004 [00:02<00:20, 45.06it/s]\n",
      "Iteration:  18%|█▊        | 184/1004 [00:04<00:18, 44.89it/s]\n",
      "Iteration:   0%|          | 4/1004 [00:00<00:28, 34.57it/s]s]\n",
      "Iteration:   0%|          | 0/1004 [00:00<?, ?it/s]"
     ]
    },
    {
     "name": "stdout",
     "output_type": "stream",
     "text": [
      "{'Train':  best_epoch_indx:77\n",
      " auc:0.854841588786819 \n",
      " apur:0.25558681483154094 \n",
      " f1:0.2326063843580634 \n",
      " precision:0.13472514268549113 \n",
      " recall:0.8505594538213541 \n",
      ", 'Validation':  best_epoch_indx:77\n",
      " auc:0.8247955086079367 \n",
      " apur:0.2140256840150307 \n",
      " f1:0.221839530332681 \n",
      " precision:0.12861940637197058 \n",
      " recall:0.8060295790671217 \n",
      "}\n",
      "=====Epoch 78\n",
      "Training...\n",
      "{'Train':  best_epoch_indx:77\n",
      " auc:0.8572813159989193 \n",
      " apur:0.2569012614597801 \n",
      " f1:0.2295567897020008 \n",
      " precision:0.13219090726019123 \n",
      " recall:0.8713653603034134 \n",
      ", 'Validation':  best_epoch_indx:77\n",
      " auc:0.8209317100356457 \n",
      " apur:0.2085198867433434 \n",
      " f1:0.21593559551576255 \n",
      " precision:0.12442556143241135 \n",
      " recall:0.8162684869169511 \n",
      "}\n",
      "=====Epoch 78\n",
      "Training...\n"
     ]
    },
    {
     "name": "stderr",
     "output_type": "stream",
     "text": [
      "Iteration:  22%|██▏       | 224/1004 [00:05<00:17, 44.84it/s]\n",
      "Iteration:   0%|          | 4/1004 [00:00<00:27, 36.65it/s]s]"
     ]
    },
    {
     "name": "stdout",
     "output_type": "stream",
     "text": [
      "{'Train':  best_epoch_indx:77\n",
      " auc:0.8530718428314689 \n",
      " apur:0.26210256470340915 \n",
      " f1:0.24351934980862827 \n",
      " precision:0.14316191830748035 \n",
      " recall:0.8144636196978318 \n",
      ", 'Validation':  best_epoch_indx:77\n",
      " auc:0.8245047329134577 \n",
      " apur:0.22590415599280714 \n",
      " f1:0.2329666581393366 \n",
      " precision:0.13702477680810513 \n",
      " recall:0.7770193401592719 \n",
      "}\n",
      "=====Epoch 78\n",
      "Training...\n"
     ]
    },
    {
     "name": "stderr",
     "output_type": "stream",
     "text": [
      "Iteration: 100%|██████████| 1004/1004 [00:22<00:00, 44.00it/s]\n",
      "Iteration:  79%|███████▉  | 793/1004 [00:18<00:05, 41.72it/s]"
     ]
    },
    {
     "name": "stdout",
     "output_type": "stream",
     "text": [
      "Evaluating...\n"
     ]
    },
    {
     "name": "stderr",
     "output_type": "stream",
     "text": [
      "Iteration: 100%|██████████| 1004/1004 [00:22<00:00, 43.86it/s]\n",
      "Iteration:   3%|▎         | 29/1004 [00:00<00:18, 52.03it/s]]"
     ]
    },
    {
     "name": "stdout",
     "output_type": "stream",
     "text": [
      "Evaluating...\n"
     ]
    },
    {
     "name": "stderr",
     "output_type": "stream",
     "text": [
      "Iteration: 100%|██████████| 1004/1004 [00:23<00:00, 43.36it/s]\n",
      "Iteration: 100%|██████████| 1004/1004 [00:23<00:00, 43.30it/s]\n",
      "Iteration:   0%|          | 0/1004 [00:00<?, ?it/s]"
     ]
    },
    {
     "name": "stdout",
     "output_type": "stream",
     "text": [
      "Evaluating...\n",
      "Evaluating...\n"
     ]
    },
    {
     "name": "stderr",
     "output_type": "stream",
     "text": [
      "Iteration:   4%|▍         | 39/1004 [00:00<00:19, 48.78it/s]s]\n",
      "Iteration:   0%|          | 0/1004 [00:00<?, ?it/s]"
     ]
    },
    {
     "name": "stdout",
     "output_type": "stream",
     "text": [
      "Evaluating...\n"
     ]
    },
    {
     "name": "stderr",
     "output_type": "stream",
     "text": [
      "Iteration:  94%|█████████▎| 941/1004 [00:19<00:01, 62.02it/s]]\n",
      "Iteration:  95%|█████████▌| 954/1004 [00:19<00:00, 57.06it/s]\n",
      "Iteration: 100%|██████████| 112/112 [00:01<00:00, 56.71it/s]s]\n",
      "Iteration:   0%|          | 4/1004 [00:00<00:27, 36.68it/s]"
     ]
    },
    {
     "name": "stdout",
     "output_type": "stream",
     "text": [
      "{'Train':  best_epoch_indx:78\n",
      " auc:0.8575790439304856 \n",
      " apur:0.2614977362232495 \n",
      " f1:0.2470451077220553 \n",
      " precision:0.14531182052339908 \n",
      " recall:0.8237673830594184 \n",
      ", 'Validation':  best_epoch_indx:78\n",
      " auc:0.8266153264120696 \n",
      " apur:0.22925911519103848 \n",
      " f1:0.23482058747966086 \n",
      " precision:0.13821957858655107 \n",
      " recall:0.7798634812286689 \n",
      "}\n",
      "=====Epoch 79\n",
      "Training...\n"
     ]
    },
    {
     "name": "stderr",
     "output_type": "stream",
     "text": [
      "Iteration:   2%|▏         | 18/1004 [00:00<00:24, 40.90it/s]\n",
      "Iteration:   0%|          | 4/1004 [00:00<00:26, 37.20it/s]]"
     ]
    },
    {
     "name": "stdout",
     "output_type": "stream",
     "text": [
      "{'Train':  best_epoch_indx:78\n",
      " auc:0.862016094989409 \n",
      " apur:0.27089881775023994 \n",
      " f1:0.24188041118228418 \n",
      " precision:0.1410424787501182 \n",
      " recall:0.8485461441213653 \n",
      ", 'Validation':  best_epoch_indx:78\n",
      " auc:0.8282518874264954 \n",
      " apur:0.22685733397112756 \n",
      " f1:0.2269503546099291 \n",
      " precision:0.13245789323437054 \n",
      " recall:0.7918088737201365 \n",
      "}\n",
      "=====Epoch 79\n",
      "Training...\n"
     ]
    },
    {
     "name": "stderr",
     "output_type": "stream",
     "text": [
      "Iteration:   7%|▋         | 73/1004 [00:01<00:20, 44.86it/s]\n",
      "Iteration:   0%|          | 0/112 [00:00<?, ?it/s]\n",
      "Iteration:  38%|███▊      | 42/112 [00:00<00:01, 53.72it/s]s]\n",
      "Iteration:  16%|█▌        | 159/1004 [00:03<00:20, 40.26it/s]\n",
      "Iteration:   0%|          | 4/1004 [00:00<00:28, 34.90it/s]s]"
     ]
    },
    {
     "name": "stdout",
     "output_type": "stream",
     "text": [
      "{'Train':  best_epoch_indx:78\n",
      " auc:0.8594620235937502 \n",
      " apur:0.2613390683432439 \n",
      " f1:0.2466075375619037 \n",
      " precision:0.1446451429384156 \n",
      " recall:0.8357142857142857 \n",
      ", 'Validation':  best_epoch_indx:78\n",
      " auc:0.8234882606906433 \n",
      " apur:0.2158077821677344 \n",
      " f1:0.2297615048706752 \n",
      " precision:0.13477832512315271 \n",
      " recall:0.7781569965870307 \n",
      "}\n",
      "=====Epoch 79\n",
      "Training...\n"
     ]
    },
    {
     "name": "stderr",
     "output_type": "stream",
     "text": [
      "Iteration:   3%|▎         | 29/1004 [00:00<00:23, 42.29it/s]]\n",
      "Iteration:   3%|▎         | 34/1004 [00:00<00:22, 43.33it/s]]"
     ]
    },
    {
     "name": "stdout",
     "output_type": "stream",
     "text": [
      "{'Train':  best_epoch_indx:78\n",
      " auc:0.8586121880767233 \n",
      " apur:0.2689039282909401 \n",
      " f1:0.24073973838520524 \n",
      " precision:0.1404068146183877 \n",
      " recall:0.8434793602629749 \n",
      ", 'Validation':  best_epoch_indx:78\n",
      " auc:0.8278935658490887 \n",
      " apur:0.22908634007487116 \n",
      " f1:0.22897158211871996 \n",
      " precision:0.1336120878076594 \n",
      " recall:0.7997724687144482 \n",
      "}\n",
      "=====Epoch 79\n",
      "Training...\n"
     ]
    },
    {
     "name": "stderr",
     "output_type": "stream",
     "text": [
      "Iteration:   3%|▎         | 29/1004 [00:00<00:23, 42.20it/s]]\n",
      "Iteration:   6%|▋         | 64/1004 [00:01<00:21, 43.22it/s]]"
     ]
    },
    {
     "name": "stdout",
     "output_type": "stream",
     "text": [
      "{'Train':  best_epoch_indx:78\n",
      " auc:0.8596397229725645 \n",
      " apur:0.27225046098711947 \n",
      " f1:0.241211495065387 \n",
      " precision:0.1407896407261648 \n",
      " recall:0.8412668310259814 \n",
      ", 'Validation':  best_epoch_indx:78\n",
      " auc:0.8301155633969077 \n",
      " apur:0.23058958653294287 \n",
      " f1:0.22989631806678096 \n",
      " precision:0.134210275474216 \n",
      " recall:0.800910125142207 \n",
      "}\n",
      "=====Epoch 79\n",
      "Training...\n"
     ]
    },
    {
     "name": "stderr",
     "output_type": "stream",
     "text": [
      "Iteration: 100%|██████████| 1004/1004 [00:23<00:00, 43.40it/s]\n",
      "Iteration:  79%|███████▊  | 789/1004 [00:18<00:04, 43.91it/s]"
     ]
    },
    {
     "name": "stdout",
     "output_type": "stream",
     "text": [
      "Evaluating...\n"
     ]
    },
    {
     "name": "stderr",
     "output_type": "stream",
     "text": [
      "Iteration:  83%|████████▎ | 834/1004 [00:19<00:03, 44.00it/s]]\n",
      "Iteration:  81%|████████  | 809/1004 [00:18<00:04, 42.57it/s]"
     ]
    },
    {
     "name": "stdout",
     "output_type": "stream",
     "text": [
      "Evaluating...\n"
     ]
    },
    {
     "name": "stderr",
     "output_type": "stream",
     "text": [
      "Iteration: 100%|██████████| 1004/1004 [00:23<00:00, 43.19it/s]\n",
      "Iteration:  98%|█████████▊| 979/1004 [00:22<00:00, 43.43it/s]"
     ]
    },
    {
     "name": "stdout",
     "output_type": "stream",
     "text": [
      "Evaluating...\n"
     ]
    },
    {
     "name": "stderr",
     "output_type": "stream",
     "text": [
      "Iteration: 100%|██████████| 1004/1004 [00:23<00:00, 43.12it/s]\n",
      "Iteration:   0%|          | 4/1004 [00:00<00:25, 38.96it/s]]]"
     ]
    },
    {
     "name": "stdout",
     "output_type": "stream",
     "text": [
      "Evaluating...\n"
     ]
    },
    {
     "name": "stderr",
     "output_type": "stream",
     "text": [
      "Iteration: 100%|██████████| 1004/1004 [00:23<00:00, 43.43it/s]\n",
      "Iteration:  26%|██▌       | 260/1004 [00:05<00:16, 44.71it/s]"
     ]
    },
    {
     "name": "stdout",
     "output_type": "stream",
     "text": [
      "Evaluating...\n"
     ]
    },
    {
     "name": "stderr",
     "output_type": "stream",
     "text": [
      "Iteration:  97%|█████████▋| 977/1004 [00:20<00:00, 58.10it/s]]\n",
      "Iteration:  97%|█████████▋| 971/1004 [00:19<00:00, 54.79it/s]\n",
      "Iteration: 100%|██████████| 112/112 [00:01<00:00, 60.18it/s]s]\n",
      "Iteration:   0%|          | 4/1004 [00:00<00:27, 36.13it/s]"
     ]
    },
    {
     "name": "stdout",
     "output_type": "stream",
     "text": [
      "{'Train':  best_epoch_indx:79\n",
      " auc:0.8634438181004179 \n",
      " apur:0.2720832224621387 \n",
      " f1:0.25004478217009685 \n",
      " precision:0.1469379162095979 \n",
      " recall:0.8382427307206068 \n",
      ", 'Validation':  best_epoch_indx:79\n",
      " auc:0.8300696415280415 \n",
      " apur:0.23267117634588838 \n",
      " f1:0.23548497267759563 \n",
      " precision:0.13853727144866385 \n",
      " recall:0.7844141069397043 \n",
      "}\n",
      "=====Epoch 80\n",
      "Training...\n"
     ]
    },
    {
     "name": "stderr",
     "output_type": "stream",
     "text": [
      "\r",
      "Iteration:   1%|          | 9/1004 [00:00<00:25, 39.19it/s]\n",
      "\r",
      "Iteration:   0%|          | 0/1004 [00:00<?, ?it/s]\r",
      "Iteration:   1%|▏         | 14/1004 [00:00<00:24, 40.04it/s]\r",
      "Iteration:   0%|          | 3/1004 [00:00<00:33, 29.72it/s]"
     ]
    },
    {
     "name": "stdout",
     "output_type": "stream",
     "text": [
      "{'Train':  best_epoch_indx:79\n",
      " auc:0.8670304870286738 \n",
      " apur:0.28222969518168983 \n",
      " f1:0.24524186071876533 \n",
      " precision:0.14321351988280503 \n",
      " recall:0.8527812895069532 \n",
      ", 'Validation':  best_epoch_indx:79\n",
      " auc:0.8319209352829329 \n",
      " apur:0.2334652615472838 \n",
      " f1:0.22950279881461966 \n",
      " precision:0.134167468719923 \n",
      " recall:0.7929465301478953 \n",
      "}\n",
      "=====Epoch 80\n",
      "Training...\n"
     ]
    },
    {
     "name": "stderr",
     "output_type": "stream",
     "text": [
      "Iteration:   2%|▏         | 24/1004 [00:00<00:23, 41.98it/s]\n",
      "Iteration:   4%|▍         | 44/1004 [00:01<00:21, 44.15it/s]\n",
      "Iteration:   7%|▋         | 68/1004 [00:01<00:20, 44.72it/s]\n",
      "Iteration:  96%|█████████▌| 107/112 [00:02<00:00, 50.91it/s]]\n",
      "Iteration: 100%|██████████| 112/112 [00:02<00:00, 48.20it/s]]"
     ]
    },
    {
     "name": "stdout",
     "output_type": "stream",
     "text": [
      "{'Train':  best_epoch_indx:79\n",
      " auc:0.8651336127495685 \n",
      " apur:0.2752978675553095 \n",
      " f1:0.24692830728856013 \n",
      " precision:0.14443048980774803 \n",
      " recall:0.8505056890012642 \n",
      ", 'Validation':  best_epoch_indx:79\n",
      " auc:0.8272791298080412 \n",
      " apur:0.22237563085706652 \n",
      " f1:0.23196816448350188 \n",
      " precision:0.1357725155279503 \n",
      " recall:0.7957906712172924 \n",
      "}\n",
      "=====Epoch 80\n",
      "Training...\n"
     ]
    },
    {
     "name": "stderr",
     "output_type": "stream",
     "text": [
      "Iteration:   1%|▏         | 14/1004 [00:00<00:24, 39.98it/s]]\n",
      "Iteration:  20%|█▉        | 199/1004 [00:04<00:18, 43.84it/s]\n",
      "Iteration:  20%|██        | 204/1004 [00:04<00:18, 44.37it/s]"
     ]
    },
    {
     "name": "stdout",
     "output_type": "stream",
     "text": [
      "{'Train':  best_epoch_indx:79\n",
      " auc:0.8639314533514956 \n",
      " apur:0.27785594743937686 \n",
      " f1:0.24643986974793813 \n",
      " precision:0.14441351715739573 \n",
      " recall:0.8396232378785006 \n",
      ", 'Validation':  best_epoch_indx:79\n",
      " auc:0.8294046537462376 \n",
      " apur:0.23121416666025207 \n",
      " f1:0.2317610847683221 \n",
      " precision:0.13573029328656339 \n",
      " recall:0.7923777019340159 \n",
      "}\n",
      "=====Epoch 80\n",
      "Training...\n",
      "{'Train':  best_epoch_indx:79\n",
      " auc:0.8641399267941084 \n",
      " apur:0.28235044779722535 \n",
      " f1:0.24329938050448519 \n",
      " precision:0.14202812605896306 \n",
      " recall:0.8478412036159049 \n",
      ", 'Validation':  best_epoch_indx:79\n",
      " auc:0.83006988378878 \n",
      " apur:0.23039131839570112 \n",
      " f1:0.23020408163265307 \n",
      " precision:0.13438810522302708 \n",
      " recall:0.8020477815699659 \n",
      "}\n",
      "=====Epoch 80\n",
      "Training...\n"
     ]
    },
    {
     "name": "stderr",
     "output_type": "stream",
     "text": [
      "Iteration: 100%|██████████| 1004/1004 [00:23<00:00, 43.60it/s]\n",
      "Iteration:   0%|          | 4/1004 [00:00<00:26, 37.78it/s]s]"
     ]
    },
    {
     "name": "stdout",
     "output_type": "stream",
     "text": [
      "Evaluating...\n"
     ]
    },
    {
     "name": "stderr",
     "output_type": "stream",
     "text": [
      "\r",
      "Iteration:  99%|█████████▉| 998/1004 [00:22<00:00, 42.66it/s]\r",
      "Iteration:  81%|████████  | 812/1004 [00:18<00:04, 44.67it/s]\r",
      "Iteration:  81%|████████  | 809/1004 [00:18<00:04, 44.19it/s]\r",
      "Iteration:  82%|████████▏ | 824/1004 [00:19<00:04, 44.57it/s]\r",
      "Iteration:   1%|          | 10/1004 [00:00<00:22, 45.18it/s]\r",
      "Iteration: 100%|█████████▉| 1003/1004 [00:22<00:00, 43.32it/s]\r",
      "Iteration:  81%|████████▏ | 817/1004 [00:18<00:04, 44.31it/s]\r",
      "Iteration:  81%|████████  | 814/1004 [00:18<00:04, 44.61it/s]\r",
      "Iteration: 100%|██████████| 1004/1004 [00:23<00:00, 43.65it/s]\r",
      "Iteration:  83%|████████▎ | 829/1004 [00:19<00:03, 44.18it/s]\n",
      "\r",
      "Iteration:   0%|          | 0/1004 [00:00<?, ?it/s]"
     ]
    },
    {
     "name": "stdout",
     "output_type": "stream",
     "text": [
      "Evaluating...\n"
     ]
    },
    {
     "name": "stderr",
     "output_type": "stream",
     "text": [
      "Iteration: 100%|██████████| 1004/1004 [00:23<00:00, 43.02it/s]\n",
      "Iteration: 100%|█████████▉| 1002/1004 [00:23<00:00, 42.19it/s]"
     ]
    },
    {
     "name": "stdout",
     "output_type": "stream",
     "text": [
      "Evaluating...\n"
     ]
    },
    {
     "name": "stderr",
     "output_type": "stream",
     "text": [
      "\r",
      "Iteration:  22%|██▏       | 216/1004 [00:04<00:15, 49.65it/s]\r",
      "Iteration:  23%|██▎       | 229/1004 [00:04<00:14, 52.57it/s]\r",
      "Iteration:   1%|          | 9/1004 [00:00<00:22, 43.42it/s]\r",
      "Iteration: 100%|██████████| 1004/1004 [00:23<00:00, 43.44it/s]\n",
      "\r",
      "Iteration:   0%|          | 0/1004 [00:00<?, ?it/s]\r",
      "Iteration: 100%|█████████▉| 1003/1004 [00:23<00:00, 42.53it/s]\r",
      "Iteration: 100%|██████████| 1004/1004 [00:23<00:00, 43.22it/s]\n",
      "\r",
      "Iteration:   0%|          | 0/1004 [00:00<?, ?it/s]\r",
      "Iteration:  22%|██▏       | 222/1004 [00:04<00:15, 49.76it/s]\r",
      "Iteration:   1%|▏         | 15/1004 [00:00<00:21, 46.65it/s]\r",
      "Iteration:   0%|          | 5/1004 [00:00<00:24, 40.21it/s]"
     ]
    },
    {
     "name": "stdout",
     "output_type": "stream",
     "text": [
      "Evaluating...\n",
      "Evaluating...\n"
     ]
    },
    {
     "name": "stderr",
     "output_type": "stream",
     "text": [
      "Iteration:  96%|█████████▌| 961/1004 [00:19<00:00, 62.48it/s]]\n",
      "Iteration:  21%|██▏       | 24/112 [00:00<00:01, 57.53it/s]s]\n",
      "Iteration: 100%|██████████| 112/112 [00:01<00:00, 63.69it/s]s]"
     ]
    },
    {
     "name": "stdout",
     "output_type": "stream",
     "text": [
      "{'Train':  best_epoch_indx:80\n",
      " auc:0.8644877696360809 \n",
      " apur:0.2762108658604742 \n",
      " f1:0.24716166910525436 \n",
      " precision:0.1447930907276002 \n",
      " recall:0.8435524652338812 \n",
      ", 'Validation':  best_epoch_indx:80\n",
      " auc:0.8289623394735482 \n",
      " apur:0.22722505825513611 \n",
      " f1:0.23240561674934837 \n",
      " precision:0.13635915145535274 \n",
      " recall:0.7861205915813424 \n",
      "}\n",
      "=====Epoch 81\n",
      "Training...\n"
     ]
    },
    {
     "name": "stderr",
     "output_type": "stream",
     "text": [
      "\n",
      "Iteration:   1%|          | 9/1004 [00:00<00:25, 39.26it/s]\n",
      "Iteration:   0%|          | 4/1004 [00:00<00:27, 36.51it/s]]"
     ]
    },
    {
     "name": "stdout",
     "output_type": "stream",
     "text": [
      "{'Train':  best_epoch_indx:80\n",
      " auc:0.8639999806117835 \n",
      " apur:0.2696826149461595 \n",
      " f1:0.24818081587651597 \n",
      " precision:0.14519458181036335 \n",
      " recall:0.8537294563843236 \n",
      ", 'Validation':  best_epoch_indx:80\n",
      " auc:0.8285937801367873 \n",
      " apur:0.23335820786230135 \n",
      " f1:0.23241944835583533 \n",
      " precision:0.1360155113911779 \n",
      " recall:0.79806598407281 \n",
      "}\n",
      "=====Epoch 81\n",
      "Training...\n"
     ]
    },
    {
     "name": "stderr",
     "output_type": "stream",
     "text": [
      "Iteration:   5%|▌         | 53/1004 [00:01<00:21, 44.59it/s]\n",
      "Iteration:   5%|▌         | 6/112 [00:00<00:01, 56.08it/s]s]\n",
      "Iteration:   7%|▋         | 74/1004 [00:01<00:21, 44.25it/s]\n",
      "Iteration:  18%|█▊        | 184/1004 [00:04<00:18, 45.39it/s]\n",
      "Iteration:  17%|█▋        | 168/1004 [00:03<00:18, 44.16it/s]"
     ]
    },
    {
     "name": "stdout",
     "output_type": "stream",
     "text": [
      "{'Train':  best_epoch_indx:80\n",
      " auc:0.8646480270425099 \n",
      " apur:0.272283294011423 \n",
      " f1:0.2509494237492579 \n",
      " precision:0.1474578335935856 \n",
      " recall:0.8416561314791403 \n",
      ", 'Validation':  best_epoch_indx:80\n",
      " auc:0.8253234485927379 \n",
      " apur:0.2194297450212502 \n",
      " f1:0.2315467595345282 \n",
      " precision:0.1360958562156765 \n",
      " recall:0.7753128555176336 \n",
      "}\n",
      "=====Epoch 81\n",
      "Training...\n",
      "{'Train':  best_epoch_indx:80\n",
      " auc:0.8635249253187565 \n",
      " apur:0.276759084659867 \n",
      " f1:0.2466809102189713 \n",
      " precision:0.1446959415086905 \n",
      " recall:0.8357039003729693 \n",
      ", 'Validation':  best_epoch_indx:80\n",
      " auc:0.8263535861157247 \n",
      " apur:0.22494535823181383 \n",
      " f1:0.23292029470864034 \n",
      " precision:0.13655998429216573 \n",
      " recall:0.7912400455062572 \n",
      "}\n",
      "=====Epoch 81\n",
      "Training...\n"
     ]
    },
    {
     "name": "stderr",
     "output_type": "stream",
     "text": [
      "Iteration:  19%|█▉        | 189/1004 [00:04<00:17, 45.39it/s]\n",
      "Iteration:   3%|▎         | 29/1004 [00:00<00:22, 42.78it/s]]\n",
      "Iteration:   0%|          | 0/1004 [00:00<?, ?it/s]"
     ]
    },
    {
     "name": "stdout",
     "output_type": "stream",
     "text": [
      "{'Train':  best_epoch_indx:80\n",
      " auc:0.8632863199023842 \n",
      " apur:0.2794022273762412 \n",
      " f1:0.23962607297551375 \n",
      " precision:0.13915306122448978 \n",
      " recall:0.8620646058537202 \n",
      ", 'Validation':  best_epoch_indx:80\n",
      " auc:0.8307932025728305 \n",
      " apur:0.2306258922021564 \n",
      " f1:0.22789195999685016 \n",
      " precision:0.13225482131432229 \n",
      " recall:0.823094425483504 \n",
      "}\n",
      "=====Epoch 81\n",
      "Training...\n"
     ]
    },
    {
     "name": "stderr",
     "output_type": "stream",
     "text": [
      "Iteration: 100%|██████████| 1004/1004 [00:22<00:00, 43.88it/s]\n",
      "Iteration:  79%|███████▊  | 789/1004 [00:18<00:04, 44.55it/s]"
     ]
    },
    {
     "name": "stdout",
     "output_type": "stream",
     "text": [
      "Evaluating...\n"
     ]
    },
    {
     "name": "stderr",
     "output_type": "stream",
     "text": [
      "\r",
      "Iteration:  82%|████████▏ | 819/1004 [00:18<00:04, 44.12it/s]\r",
      "Iteration:  81%|████████▏ | 818/1004 [00:18<00:04, 44.47it/s]\r",
      "Iteration:   0%|          | 4/1004 [00:00<00:55, 17.95it/s]\r",
      "Iteration: 100%|█████████▉| 1003/1004 [00:22<00:00, 45.10it/s]\r",
      "Iteration:  79%|███████▉  | 794/1004 [00:18<00:04, 43.77it/s]\r",
      "Iteration: 100%|██████████| 1004/1004 [00:22<00:00, 43.92it/s]\n",
      "\r",
      "Iteration:   0%|          | 0/1004 [00:00<?, ?it/s]\r",
      "Iteration:  82%|████████▏ | 824/1004 [00:19<00:04, 44.07it/s]\r",
      "Iteration:  82%|████████▏ | 823/1004 [00:18<00:04, 43.54it/s]\r",
      "Iteration:   1%|          | 10/1004 [00:00<00:29, 34.16it/s]\r",
      "Iteration:  80%|███████▉  | 799/1004 [00:18<00:04, 43.58it/s]"
     ]
    },
    {
     "name": "stdout",
     "output_type": "stream",
     "text": [
      "Evaluating...\n"
     ]
    },
    {
     "name": "stderr",
     "output_type": "stream",
     "text": [
      "Iteration: 100%|██████████| 1004/1004 [00:23<00:00, 43.62it/s]\n",
      "Iteration: 100%|██████████| 1004/1004 [00:23<00:00, 43.36it/s]\n",
      "Iteration:  98%|█████████▊| 984/1004 [00:22<00:00, 43.99it/s]"
     ]
    },
    {
     "name": "stdout",
     "output_type": "stream",
     "text": [
      "Evaluating...\n",
      "Evaluating...\n"
     ]
    },
    {
     "name": "stderr",
     "output_type": "stream",
     "text": [
      "Iteration: 100%|██████████| 1004/1004 [00:22<00:00, 43.66it/s]\n",
      "Iteration:   0%|          | 0/1004 [00:00<?, ?it/s]"
     ]
    },
    {
     "name": "stdout",
     "output_type": "stream",
     "text": [
      "Evaluating...\n"
     ]
    },
    {
     "name": "stderr",
     "output_type": "stream",
     "text": [
      "Iteration:  96%|█████████▌| 966/1004 [00:20<00:00, 61.89it/s]]\n",
      "Iteration:  98%|█████████▊| 979/1004 [00:20<00:00, 56.00it/s]\n",
      "Iteration: 100%|██████████| 112/112 [00:01<00:00, 66.49it/s]s]\n",
      "Iteration:   0%|          | 4/1004 [00:00<00:27, 36.51it/s]\n",
      "Iteration:   0%|          | 0/1004 [00:00<?, ?it/s]"
     ]
    },
    {
     "name": "stdout",
     "output_type": "stream",
     "text": [
      "{'Train':  best_epoch_indx:81\n",
      " auc:0.8627598516790361 \n",
      " apur:0.27357286180950635 \n",
      " f1:0.24732215271886562 \n",
      " precision:0.14505352710253802 \n",
      " recall:0.838495575221239 \n",
      ", 'Validation':  best_epoch_indx:81\n",
      " auc:0.8282433096018303 \n",
      " apur:0.21928853947927296 \n",
      " f1:0.23107235683742766 \n",
      " precision:0.13550988297767724 \n",
      " recall:0.7838452787258248 \n",
      "}\n",
      "=====Epoch 82\n",
      "Training...\n",
      "{'Train':  best_epoch_indx:81\n",
      " auc:0.8592395734326482 \n",
      " apur:0.26384549197578344 \n",
      " f1:0.24643571262497094 \n",
      " precision:0.14447412900059975 \n",
      " recall:0.8374841972187105 \n",
      ", 'Validation':  best_epoch_indx:81\n",
      " auc:0.8286558168310703 \n",
      " apur:0.2292157043702106 \n",
      " f1:0.2330877427997321 \n",
      " precision:0.1366581582564304 \n",
      " recall:0.7918088737201365 \n",
      "}\n",
      "=====Epoch 82\n",
      "Training...\n"
     ]
    },
    {
     "name": "stderr",
     "output_type": "stream",
     "text": [
      "Iteration:   6%|▌         | 59/1004 [00:01<00:21, 43.60it/s]\n",
      "Iteration:   6%|▋         | 7/112 [00:00<00:01, 67.21it/s]s]\n",
      "Iteration:   7%|▋         | 69/1004 [00:01<00:21, 43.90it/s]\n",
      "Iteration:  18%|█▊        | 179/1004 [00:04<00:18, 45.06it/s]\n",
      "Iteration:   0%|          | 0/1004 [00:00<?, ?it/s]"
     ]
    },
    {
     "name": "stdout",
     "output_type": "stream",
     "text": [
      "{'Train':  best_epoch_indx:81\n",
      " auc:0.8610922723952126 \n",
      " apur:0.262886110330776 \n",
      " f1:0.2465335009545095 \n",
      " precision:0.1445623921542931 \n",
      " recall:0.8367785574309374 \n",
      ", 'Validation':  best_epoch_indx:81\n",
      " auc:0.8282772978861728 \n",
      " apur:0.21885800267147754 \n",
      " f1:0.23273764577565234 \n",
      " precision:0.13650231276449168 \n",
      " recall:0.7889647326507395 \n",
      "}\n",
      "=====Epoch 82\n",
      "Training...\n"
     ]
    },
    {
     "name": "stderr",
     "output_type": "stream",
     "text": [
      "Iteration:  20%|██        | 204/1004 [00:04<00:17, 44.78it/s]\n",
      "Iteration:   0%|          | 4/1004 [00:00<00:29, 33.98it/s]s]"
     ]
    },
    {
     "name": "stdout",
     "output_type": "stream",
     "text": [
      "{'Train':  best_epoch_indx:81\n",
      " auc:0.8604760563323608 \n",
      " apur:0.268621192831161 \n",
      " f1:0.23972481607243915 \n",
      " precision:0.13935723979109266 \n",
      " recall:0.856826801517067 \n",
      ", 'Validation':  best_epoch_indx:81\n",
      " auc:0.8234467802686489 \n",
      " apur:0.2246156614416549 \n",
      " f1:0.22673299101412067 \n",
      " precision:0.1319820661311414 \n",
      " recall:0.8037542662116041 \n",
      "}\n",
      "=====Epoch 82\n",
      "Training...\n"
     ]
    },
    {
     "name": "stderr",
     "output_type": "stream",
     "text": [
      "\r",
      "Iteration:   2%|▏         | 23/1004 [00:00<00:30, 32.15it/s]\r",
      "Iteration:  22%|██▏       | 219/1004 [00:05<00:17, 43.83it/s]\r",
      "Iteration:   1%|          | 8/1004 [00:00<00:26, 37.26it/s]\r",
      "Iteration:  21%|██▏       | 214/1004 [00:05<00:18, 42.69it/s]\n",
      "\r",
      "Iteration:   0%|          | 0/1004 [00:00<?, ?it/s]\r",
      "Iteration:   3%|▎         | 28/1004 [00:00<00:28, 34.81it/s]\r",
      "Iteration:  22%|██▏       | 224/1004 [00:05<00:18, 43.26it/s]\r",
      "Iteration:  22%|██▏       | 219/1004 [00:05<00:18, 42.28it/s]\r",
      "Iteration:   1%|▏         | 13/1004 [00:00<00:25, 39.08it/s]"
     ]
    },
    {
     "name": "stdout",
     "output_type": "stream",
     "text": [
      "{'Train':  best_epoch_indx:81\n",
      " auc:0.8590229103080765 \n",
      " apur:0.2746284623408536 \n",
      " f1:0.2436977930596304 \n",
      " precision:0.14298244652274497 \n",
      " recall:0.8243883937037739 \n",
      ", 'Validation':  best_epoch_indx:81\n",
      " auc:0.8276264419807784 \n",
      " apur:0.231059959602337 \n",
      " f1:0.2332119569819629 \n",
      " precision:0.13700129340364142 \n",
      " recall:0.7832764505119454 \n",
      "}\n",
      "=====Epoch 82\n",
      "Training...\n"
     ]
    },
    {
     "name": "stderr",
     "output_type": "stream",
     "text": [
      "Iteration: 100%|██████████| 1004/1004 [00:23<00:00, 43.61it/s]\n",
      "Iteration: 100%|█████████▉| 999/1004 [00:22<00:00, 44.47it/s]"
     ]
    },
    {
     "name": "stdout",
     "output_type": "stream",
     "text": [
      "Evaluating...\n",
      "Evaluating...\n"
     ]
    },
    {
     "name": "stderr",
     "output_type": "stream",
     "text": [
      "Iteration: 100%|██████████| 1004/1004 [00:23<00:00, 43.57it/s]\n",
      "Iteration: 100%|██████████| 1004/1004 [00:23<00:00, 43.09it/s]\n",
      "Iteration:   0%|          | 0/1004 [00:00<?, ?it/s]"
     ]
    },
    {
     "name": "stdout",
     "output_type": "stream",
     "text": [
      "Evaluating...\n"
     ]
    },
    {
     "name": "stderr",
     "output_type": "stream",
     "text": [
      "Iteration: 100%|██████████| 1004/1004 [00:23<00:00, 43.18it/s]\n",
      "Iteration:   0%|          | 0/1004 [00:00<?, ?it/s]"
     ]
    },
    {
     "name": "stdout",
     "output_type": "stream",
     "text": [
      "Evaluating...\n"
     ]
    },
    {
     "name": "stderr",
     "output_type": "stream",
     "text": [
      "\r",
      "Iteration:  25%|██▍       | 250/1004 [00:05<00:15, 48.38it/s]\r",
      "Iteration:  24%|██▍       | 242/1004 [00:05<00:15, 48.09it/s]\r",
      "Iteration:  99%|█████████▉| 998/1004 [00:23<00:00, 43.18it/s]\r",
      "Iteration:   3%|▎         | 29/1004 [00:00<00:18, 52.26it/s]\r",
      "Iteration:   0%|          | 5/1004 [00:00<00:21, 46.93it/s]\r",
      "Iteration:  25%|██▌       | 256/1004 [00:05<00:15, 48.59it/s]\r",
      "Iteration:  25%|██▍       | 247/1004 [00:05<00:15, 47.83it/s]\r",
      "Iteration: 100%|█████████▉| 1003/1004 [00:23<00:00, 43.28it/s]\r",
      "Iteration:   1%|          | 11/1004 [00:00<00:19, 52.20it/s]\r",
      "Iteration:   3%|▎         | 35/1004 [00:00<00:20, 48.33it/s]\r",
      "Iteration: 100%|██████████| 1004/1004 [00:23<00:00, 43.22it/s]\n",
      "\r",
      "Iteration:   0%|          | 0/1004 [00:00<?, ?it/s]"
     ]
    },
    {
     "name": "stdout",
     "output_type": "stream",
     "text": [
      "Evaluating...\n"
     ]
    },
    {
     "name": "stderr",
     "output_type": "stream",
     "text": [
      "Iteration:  92%|█████████▏| 927/1004 [00:18<00:01, 62.88it/s]]\n",
      "Iteration:  99%|█████████▊| 989/1004 [00:20<00:00, 60.05it/s]\n",
      "Iteration: 100%|██████████| 112/112 [00:01<00:00, 56.24it/s]s]\n",
      "Iteration:   0%|          | 0/1004 [00:00<?, ?it/s]"
     ]
    },
    {
     "name": "stdout",
     "output_type": "stream",
     "text": [
      "{'Train':  best_epoch_indx:82\n",
      " auc:0.857035123360574 \n",
      " apur:0.2610026898783317 \n",
      " f1:0.23412532999861052 \n",
      " precision:0.13570651955059798 \n",
      " recall:0.8520859671302149 \n",
      ", 'Validation':  best_epoch_indx:82\n",
      " auc:0.8253803350031739 \n",
      " apur:0.21654914966387104 \n",
      " f1:0.2209311454816676 \n",
      " precision:0.12815374806448676 \n",
      " recall:0.8003412969283277 \n",
      "}\n",
      "=====Epoch 83\n",
      "Training...\n"
     ]
    },
    {
     "name": "stderr",
     "output_type": "stream",
     "text": [
      "\r",
      "Iteration:   0%|          | 4/1004 [00:00<00:27, 36.75it/s]\n",
      "\r",
      "Iteration:   0%|          | 0/1004 [00:00<?, ?it/s]\r",
      "Iteration:   1%|          | 9/1004 [00:00<00:25, 39.46it/s]\r",
      "Iteration:   0%|          | 4/1004 [00:00<00:25, 38.50it/s]"
     ]
    },
    {
     "name": "stdout",
     "output_type": "stream",
     "text": [
      "{'Train':  best_epoch_indx:82\n",
      " auc:0.8566531845810279 \n",
      " apur:0.25390434055770245 \n",
      " f1:0.22727495707628162 \n",
      " precision:0.13051929758662786 \n",
      " recall:0.8785714285714286 \n",
      ", 'Validation':  best_epoch_indx:82\n",
      " auc:0.8263772828049931 \n",
      " apur:0.21373596738831882 \n",
      " f1:0.21544566095965906 \n",
      " precision:0.12370264112733102 \n",
      " recall:0.8339021615472128 \n",
      "}\n",
      "=====Epoch 83\n",
      "Training...\n"
     ]
    },
    {
     "name": "stderr",
     "output_type": "stream",
     "text": [
      "Iteration:   5%|▌         | 54/1004 [00:01<00:21, 44.74it/s]\n",
      "Iteration:  39%|███▉      | 44/112 [00:00<00:01, 67.90it/s]]\n",
      "Iteration:   9%|▉         | 94/1004 [00:02<00:20, 45.46it/s]\n",
      "Iteration:  16%|█▋        | 164/1004 [00:03<00:18, 44.98it/s]\n",
      "Iteration:  73%|███████▎  | 82/112 [00:01<00:00, 49.50it/s]s]"
     ]
    },
    {
     "name": "stdout",
     "output_type": "stream",
     "text": [
      "{'Train':  best_epoch_indx:82\n",
      " auc:0.8555633308718533 \n",
      " apur:0.26305068183217056 \n",
      " f1:0.2431013170001766 \n",
      " precision:0.14250223374812038 \n",
      " recall:0.8267273531828814 \n",
      ", 'Validation':  best_epoch_indx:82\n",
      " auc:0.8249476393790631 \n",
      " apur:0.22395303659067078 \n",
      " f1:0.2292119792538063 \n",
      " precision:0.13436641820321696 \n",
      " recall:0.7792946530147895 \n",
      "}\n",
      "=====Epoch 83\n",
      "Training...\n"
     ]
    },
    {
     "name": "stderr",
     "output_type": "stream",
     "text": [
      "Iteration:  20%|██        | 204/1004 [00:04<00:18, 44.35it/s]\n",
      "Iteration:  21%|██        | 209/1004 [00:04<00:17, 44.54it/s]"
     ]
    },
    {
     "name": "stdout",
     "output_type": "stream",
     "text": [
      "{'Train':  best_epoch_indx:82\n",
      " auc:0.8579889927254604 \n",
      " apur:0.2566885001765417 \n",
      " f1:0.24657636688260093 \n",
      " precision:0.14468444551707493 \n",
      " recall:0.8336915297092288 \n",
      ", 'Validation':  best_epoch_indx:82\n",
      " auc:0.8186600221185849 \n",
      " apur:0.21157854064637918 \n",
      " f1:0.22915783224493258 \n",
      " precision:0.1346556363998804 \n",
      " recall:0.7684869169510807 \n",
      "}\n",
      "=====Epoch 83\n",
      "Training...\n",
      "{'Train':  best_epoch_indx:82\n",
      " auc:0.8585527957646687 \n",
      " apur:0.2670937022942311 \n",
      " f1:0.2275838887659149 \n",
      " precision:0.13074850694248197 \n",
      " recall:0.8774258802705607 \n",
      ", 'Validation':  best_epoch_indx:82\n",
      " auc:0.8272092151534486 \n",
      " apur:0.21409424042362407 \n",
      " f1:0.21679817122631073 \n",
      " precision:0.12454460730322799 \n",
      " recall:0.8361774744027304 \n",
      "}\n",
      "=====Epoch 83\n",
      "Training...\n"
     ]
    },
    {
     "name": "stderr",
     "output_type": "stream",
     "text": [
      "Iteration:  21%|██▏       | 214/1004 [00:04<00:17, 44.76it/s]\n",
      "Iteration: 100%|██████████| 1004/1004 [00:22<00:00, 44.03it/s]\n",
      "Iteration:   0%|          | 4/1004 [00:00<00:25, 39.99it/s]s]"
     ]
    },
    {
     "name": "stdout",
     "output_type": "stream",
     "text": [
      "Evaluating...\n"
     ]
    },
    {
     "name": "stderr",
     "output_type": "stream",
     "text": [
      "\r",
      "Iteration:  79%|███████▉  | 794/1004 [00:18<00:05, 41.86it/s]\r",
      "Iteration:  79%|███████▉  | 793/1004 [00:18<00:04, 43.42it/s]\r",
      "Iteration: 100%|█████████▉| 999/1004 [00:22<00:00, 44.84it/s]\r",
      "Iteration:  83%|████████▎ | 838/1004 [00:19<00:03, 44.44it/s]\r",
      "Iteration:   1%|          | 10/1004 [00:00<00:20, 48.50it/s]\r",
      "Iteration:  80%|███████▉  | 799/1004 [00:18<00:04, 42.57it/s]\r",
      "Iteration:  79%|███████▉  | 798/1004 [00:18<00:04, 43.63it/s]\r",
      "Iteration:   1%|▏         | 15/1004 [00:00<00:20, 48.04it/s]\r",
      "Iteration: 100%|██████████| 1004/1004 [00:22<00:00, 42.28it/s]\r",
      "Iteration: 100%|██████████| 1004/1004 [00:22<00:00, 43.79it/s]\r",
      "Iteration:  84%|████████▍ | 843/1004 [00:19<00:03, 44.10it/s]\n",
      "\r",
      "Iteration:   0%|          | 0/1004 [00:00<?, ?it/s]"
     ]
    },
    {
     "name": "stdout",
     "output_type": "stream",
     "text": [
      "Evaluating...\n"
     ]
    },
    {
     "name": "stderr",
     "output_type": "stream",
     "text": [
      "Iteration: 100%|██████████| 1004/1004 [00:23<00:00, 43.57it/s]\n",
      "Iteration:  18%|█▊        | 183/1004 [00:03<00:16, 48.92it/s]"
     ]
    },
    {
     "name": "stdout",
     "output_type": "stream",
     "text": [
      "Evaluating...\n"
     ]
    },
    {
     "name": "stderr",
     "output_type": "stream",
     "text": [
      "Iteration: 100%|██████████| 1004/1004 [00:22<00:00, 43.76it/s]\n",
      "Iteration: 100%|██████████| 1004/1004 [00:23<00:00, 43.40it/s]\n",
      "Iteration:   5%|▍         | 50/1004 [00:01<00:19, 48.29it/s]"
     ]
    },
    {
     "name": "stdout",
     "output_type": "stream",
     "text": [
      "Evaluating...\n",
      "Evaluating...\n"
     ]
    },
    {
     "name": "stderr",
     "output_type": "stream",
     "text": [
      "Iteration:  95%|█████████▍| 949/1004 [00:19<00:00, 59.18it/s]]\n",
      "Iteration:  96%|█████████▌| 961/1004 [00:19<00:00, 58.85it/s]\n",
      "Iteration: 100%|██████████| 112/112 [00:01<00:00, 59.81it/s]s]"
     ]
    },
    {
     "name": "stdout",
     "output_type": "stream",
     "text": [
      "{'Train':  best_epoch_indx:83\n",
      " auc:0.8551056106063959 \n",
      " apur:0.25454895674039657 \n",
      " f1:0.22509368764296492 \n",
      " precision:0.1291154082373304 \n",
      " recall:0.8770543615676359 \n",
      ", 'Validation':  best_epoch_indx:83\n",
      " auc:0.8253061852719685 \n",
      " apur:0.2132243583504334 \n",
      " f1:0.21541617819460726 \n",
      " precision:0.12363330529857022 \n",
      " recall:0.8361774744027304 \n",
      "}\n",
      "=====Epoch 84\n",
      "Training...\n",
      "{'Train':  best_epoch_indx:83\n",
      " auc:0.8512821063048153 \n",
      " apur:0.24363483646838457 \n",
      " f1:0.22250764624190222 \n",
      " precision:0.12743790861693227 \n",
      " recall:0.8760429835651075 \n",
      ", 'Validation':  best_epoch_indx:83\n",
      " auc:0.8215501747830475 \n",
      " apur:0.20637548793624122 \n",
      " f1:0.21223723181391316 \n",
      " precision:0.12155564749689698 \n",
      " recall:0.835608646188851 \n",
      "}\n",
      "=====Epoch 84\n",
      "Training...\n"
     ]
    },
    {
     "name": "stderr",
     "output_type": "stream",
     "text": [
      "\n",
      "Iteration:   0%|          | 4/1004 [00:00<00:28, 35.67it/s]\n",
      "Iteration:   5%|▍         | 49/1004 [00:01<00:21, 44.44it/s]\n",
      "Iteration:   8%|▊         | 79/1004 [00:01<00:20, 44.69it/s]\n",
      "Iteration:  16%|█▌        | 18/112 [00:00<00:01, 47.52it/s]]\n",
      "Iteration:  91%|█████████ | 102/112 [00:02<00:00, 54.23it/s]]\n",
      "Iteration:  16%|█▋        | 164/1004 [00:03<00:20, 41.54it/s]"
     ]
    },
    {
     "name": "stdout",
     "output_type": "stream",
     "text": [
      "{'Train':  best_epoch_indx:83\n",
      " auc:0.8527057095128145 \n",
      " apur:0.2569597564157308 \n",
      " f1:0.2446360080507348 \n",
      " precision:0.14393440058985846 \n",
      " recall:0.8144636196978318 \n",
      ", 'Validation':  best_epoch_indx:83\n",
      " auc:0.822825982640062 \n",
      " apur:0.22227065263865886 \n",
      " f1:0.2281730850973391 \n",
      " precision:0.13413293353323338 \n",
      " recall:0.7633674630261661 \n",
      "}\n",
      "=====Epoch 84\n",
      "Training...\n"
     ]
    },
    {
     "name": "stderr",
     "output_type": "stream",
     "text": [
      "Iteration:   2%|▏         | 18/1004 [00:00<00:24, 40.41it/s]]\n",
      "Iteration:   2%|▏         | 23/1004 [00:00<00:23, 41.58it/s]]"
     ]
    },
    {
     "name": "stdout",
     "output_type": "stream",
     "text": [
      "{'Train':  best_epoch_indx:83\n",
      " auc:0.8524403132413972 \n",
      " apur:0.25121314216108026 \n",
      " f1:0.24205840882491178 \n",
      " precision:0.14168581631442104 \n",
      " recall:0.8301517067003793 \n",
      ", 'Validation':  best_epoch_indx:83\n",
      " auc:0.8164915641939633 \n",
      " apur:0.20604552594569864 \n",
      " f1:0.22552520136178694 \n",
      " precision:0.13203694701020904 \n",
      " recall:0.7724687144482366 \n",
      "}\n",
      "=====Epoch 84\n",
      "Training...\n"
     ]
    },
    {
     "name": "stderr",
     "output_type": "stream",
     "text": [
      "\r",
      "Iteration:   0%|          | 4/1004 [00:00<00:28, 35.59it/s]\r",
      "Iteration:  19%|█▉        | 194/1004 [00:04<00:18, 44.45it/s]\r",
      "Iteration:  19%|█▉        | 189/1004 [00:04<00:18, 44.71it/s]\r",
      "Iteration:   3%|▎         | 28/1004 [00:00<00:23, 41.53it/s]\r",
      "Iteration:   1%|          | 9/1004 [00:00<00:25, 39.29it/s]\r",
      "Iteration:  20%|█▉        | 199/1004 [00:04<00:18, 44.12it/s]\r",
      "Iteration:  19%|█▉        | 194/1004 [00:04<00:18, 44.20it/s]\r",
      "Iteration:   3%|▎         | 33/1004 [00:00<00:22, 42.86it/s]"
     ]
    },
    {
     "name": "stdout",
     "output_type": "stream",
     "text": [
      "{'Train':  best_epoch_indx:83\n",
      " auc:0.8498157651807403 \n",
      " apur:0.24805054160675302 \n",
      " f1:0.24359119782214156 \n",
      " precision:0.14320962955553332 \n",
      " recall:0.8145268348188887 \n",
      ", 'Validation':  best_epoch_indx:83\n",
      " auc:0.8224536817207847 \n",
      " apur:0.20251975369777786 \n",
      " f1:0.23517364962880788 \n",
      " precision:0.13833952414416223 \n",
      " recall:0.7838452787258248 \n",
      "}\n",
      "=====Epoch 84\n",
      "Training...\n"
     ]
    },
    {
     "name": "stderr",
     "output_type": "stream",
     "text": [
      "\n",
      "Iteration: 100%|██████████| 1004/1004 [00:22<00:00, 43.75it/s]\n",
      "Iteration:  83%|████████▎ | 833/1004 [00:19<00:03, 43.77it/s]"
     ]
    },
    {
     "name": "stdout",
     "output_type": "stream",
     "text": [
      "Evaluating...\n"
     ]
    },
    {
     "name": "stderr",
     "output_type": "stream",
     "text": [
      "\r",
      "Iteration:  81%|████████  | 809/1004 [00:18<00:04, 44.48it/s]\r",
      "Iteration:   0%|          | 4/1004 [00:00<00:25, 38.52it/s]\r",
      "Iteration: 100%|█████████▉| 999/1004 [00:22<00:00, 43.86it/s]\r",
      "Iteration:  80%|███████▉  | 803/1004 [00:18<00:04, 44.19it/s]\r",
      "Iteration:  83%|████████▎ | 838/1004 [00:19<00:03, 44.05it/s]\r",
      "Iteration:  81%|████████  | 814/1004 [00:18<00:04, 43.82it/s]\r",
      "Iteration:   1%|          | 9/1004 [00:00<00:24, 40.18it/s]\r",
      "Iteration:  80%|████████  | 808/1004 [00:18<00:04, 43.98it/s]\r",
      "Iteration: 100%|██████████| 1004/1004 [00:23<00:00, 39.12it/s]\r",
      "Iteration: 100%|██████████| 1004/1004 [00:23<00:00, 43.46it/s]\n",
      "\r",
      "Iteration:   0%|          | 0/1004 [00:00<?, ?it/s]\r",
      "Iteration:  84%|████████▍ | 843/1004 [00:19<00:03, 43.45it/s]"
     ]
    },
    {
     "name": "stdout",
     "output_type": "stream",
     "text": [
      "Evaluating...\n"
     ]
    },
    {
     "name": "stderr",
     "output_type": "stream",
     "text": [
      "Iteration: 100%|██████████| 1004/1004 [00:23<00:00, 43.33it/s]\n",
      "Iteration:  20%|█▉        | 197/1004 [00:04<00:17, 47.35it/s]"
     ]
    },
    {
     "name": "stdout",
     "output_type": "stream",
     "text": [
      "Evaluating...\n"
     ]
    },
    {
     "name": "stderr",
     "output_type": "stream",
     "text": [
      "Iteration: 100%|██████████| 1004/1004 [00:23<00:00, 43.16it/s]\n",
      "Iteration:  22%|██▏       | 220/1004 [00:04<00:15, 50.10it/s]"
     ]
    },
    {
     "name": "stdout",
     "output_type": "stream",
     "text": [
      "Evaluating...\n",
      "Evaluating...\n"
     ]
    },
    {
     "name": "stderr",
     "output_type": "stream",
     "text": [
      "Iteration:   0%|          | 5/1004 [00:00<00:22, 45.28it/s]/s]\n",
      "Iteration:  95%|█████████▌| 956/1004 [00:19<00:00, 57.46it/s]]\n",
      "Iteration:  16%|█▌        | 18/112 [00:00<00:01, 52.31it/s]s]]\n",
      "Iteration: 100%|██████████| 112/112 [00:01<00:00, 62.81it/s]s]\n",
      "Iteration:   0%|          | 0/1004 [00:00<?, ?it/s]"
     ]
    },
    {
     "name": "stdout",
     "output_type": "stream",
     "text": [
      "{'Train':  best_epoch_indx:84\n",
      " auc:0.8488916053565099 \n",
      " apur:0.24219388571888267 \n",
      " f1:0.23520115070098646 \n",
      " precision:0.13681861848833246 \n",
      " recall:0.8372313527180784 \n",
      ", 'Validation':  best_epoch_indx:84\n",
      " auc:0.820966191814085 \n",
      " apur:0.20601913720852247 \n",
      " f1:0.22264783337323438 \n",
      " precision:0.12949039264828738 \n",
      " recall:0.7935153583617748 \n",
      "}\n",
      "=====Epoch 85\n",
      "Training...\n"
     ]
    },
    {
     "name": "stderr",
     "output_type": "stream",
     "text": [
      "\r",
      "Iteration:   0%|          | 4/1004 [00:00<00:29, 33.98it/s]\n",
      "\r",
      "Iteration:   0%|          | 0/1004 [00:00<?, ?it/s]\r",
      "Iteration:   1%|          | 9/1004 [00:00<00:25, 38.48it/s]"
     ]
    },
    {
     "name": "stdout",
     "output_type": "stream",
     "text": [
      "{'Train':  best_epoch_indx:84\n",
      " auc:0.8460330040623301 \n",
      " apur:0.2329848025074502 \n",
      " f1:0.23537872801370896 \n",
      " precision:0.13692191680353694 \n",
      " recall:0.8378634639696586 \n",
      ", 'Validation':  best_epoch_indx:84\n",
      " auc:0.8188420317141201 \n",
      " apur:0.20281459120131684 \n",
      " f1:0.22320282413350448 \n",
      " precision:0.129927143657762 \n",
      " recall:0.7912400455062572 \n",
      "}\n",
      "=====Epoch 85\n",
      "Training...\n"
     ]
    },
    {
     "name": "stderr",
     "output_type": "stream",
     "text": [
      "Iteration:   5%|▍         | 49/1004 [00:01<00:21, 44.73it/s]\n",
      "Iteration:   7%|▋         | 74/1004 [00:01<00:20, 45.07it/s]\n",
      "Iteration:   6%|▋         | 7/112 [00:00<00:01, 58.86it/s]s]\n",
      "Iteration:  88%|████████▊ | 98/112 [00:02<00:00, 51.98it/s]s]\n",
      "Iteration:   0%|          | 0/1004 [00:00<?, ?it/s]"
     ]
    },
    {
     "name": "stdout",
     "output_type": "stream",
     "text": [
      "{'Train':  best_epoch_indx:84\n",
      " auc:0.8457459717826274 \n",
      " apur:0.23736498485735197 \n",
      " f1:0.2220085557139947 \n",
      " precision:0.12742970460030306 \n",
      " recall:0.8611795941589229 \n",
      ", 'Validation':  best_epoch_indx:84\n",
      " auc:0.8144941423506873 \n",
      " apur:0.2014746895224333 \n",
      " f1:0.21176470588235294 \n",
      " precision:0.12160108089849687 \n",
      " recall:0.8191126279863481 \n",
      "}\n",
      "=====Epoch 85\n",
      "Training...\n"
     ]
    },
    {
     "name": "stderr",
     "output_type": "stream",
     "text": [
      "Iteration:  18%|█▊        | 179/1004 [00:04<00:18, 44.57it/s]\n",
      "Iteration:  18%|█▊        | 184/1004 [00:04<00:18, 43.87it/s]"
     ]
    },
    {
     "name": "stdout",
     "output_type": "stream",
     "text": [
      "{'Train':  best_epoch_indx:84\n",
      " auc:0.8485861896219598 \n",
      " apur:0.23539193136524775 \n",
      " f1:0.2354369147079409 \n",
      " precision:0.13690739920248116 \n",
      " recall:0.8398862199747156 \n",
      ", 'Validation':  best_epoch_indx:84\n",
      " auc:0.8134520174074569 \n",
      " apur:0.19842142322552203 \n",
      " f1:0.2217223650385604 \n",
      " precision:0.12909260991580918 \n",
      " recall:0.7849829351535836 \n",
      "}\n",
      "=====Epoch 85\n",
      "Training...\n",
      "{'Train':  best_epoch_indx:84\n",
      " auc:0.8458277058611046 \n",
      " apur:0.2446004398003319 \n",
      " f1:0.246916286391806 \n",
      " precision:0.14655753604504004 \n",
      " recall:0.783298565016752 \n",
      ", 'Validation':  best_epoch_indx:84\n",
      " auc:0.8176218541007494 \n",
      " apur:0.20499554417025492 \n",
      " f1:0.2366501575866727 \n",
      " precision:0.14057986519738955 \n",
      " recall:0.7474402730375427 \n",
      "}\n",
      "=====Epoch 85\n",
      "Training...\n"
     ]
    },
    {
     "name": "stderr",
     "output_type": "stream",
     "text": [
      "Iteration:   0%|          | 4/1004 [00:00<00:27, 36.08it/s]\n",
      "Iteration: 100%|██████████| 1004/1004 [00:22<00:00, 43.83it/s]\n",
      "Iteration:  99%|█████████▊| 989/1004 [00:22<00:00, 41.55it/s]"
     ]
    },
    {
     "name": "stdout",
     "output_type": "stream",
     "text": [
      "Evaluating...\n"
     ]
    },
    {
     "name": "stderr",
     "output_type": "stream",
     "text": [
      "Iteration: 100%|██████████| 1004/1004 [00:23<00:00, 43.56it/s]\n",
      "Iteration:   0%|          | 5/1004 [00:00<00:22, 45.22it/s]s]"
     ]
    },
    {
     "name": "stdout",
     "output_type": "stream",
     "text": [
      "Evaluating...\n"
     ]
    },
    {
     "name": "stderr",
     "output_type": "stream",
     "text": [
      "Iteration: 100%|██████████| 1004/1004 [00:23<00:00, 43.32it/s]\n",
      "Iteration:  97%|█████████▋| 978/1004 [00:22<00:00, 35.73it/s]"
     ]
    },
    {
     "name": "stdout",
     "output_type": "stream",
     "text": [
      "Evaluating...\n"
     ]
    },
    {
     "name": "stderr",
     "output_type": "stream",
     "text": [
      "Iteration: 100%|██████████| 1004/1004 [00:23<00:00, 43.53it/s]\n",
      "Iteration: 100%|██████████| 1004/1004 [00:23<00:00, 43.15it/s]\n",
      "Iteration:   0%|          | 4/1004 [00:00<00:25, 38.96it/s]s]"
     ]
    },
    {
     "name": "stdout",
     "output_type": "stream",
     "text": [
      "Evaluating...\n",
      "Evaluating...\n"
     ]
    },
    {
     "name": "stderr",
     "output_type": "stream",
     "text": [
      "Iteration:  96%|█████████▌| 962/1004 [00:19<00:00, 63.06it/s]]\n",
      "Iteration:  96%|█████████▋| 967/1004 [00:19<00:00, 55.55it/s]\n",
      "Iteration: 100%|██████████| 112/112 [00:01<00:00, 67.34it/s]s]\n",
      "Iteration:   0%|          | 4/1004 [00:00<00:27, 36.57it/s]"
     ]
    },
    {
     "name": "stdout",
     "output_type": "stream",
     "text": [
      "{'Train':  best_epoch_indx:85\n",
      " auc:0.8511844305752838 \n",
      " apur:0.2531559905229547 \n",
      " f1:0.23716517857142858 \n",
      " precision:0.13827085344863776 \n",
      " recall:0.8328065739570164 \n",
      ", 'Validation':  best_epoch_indx:85\n",
      " auc:0.8226750900904878 \n",
      " apur:0.21533943758730598 \n",
      " f1:0.22559688159818095 \n",
      " precision:0.13158393330807125 \n",
      " recall:0.7901023890784983 \n",
      "}\n",
      "=====Epoch 86\n",
      "Training...\n"
     ]
    },
    {
     "name": "stderr",
     "output_type": "stream",
     "text": [
      "\r",
      "Iteration:   1%|          | 9/1004 [00:00<00:25, 39.48it/s]\n",
      "\r",
      "Iteration:   0%|          | 0/1004 [00:00<?, ?it/s]\r",
      "Iteration:   1%|▏         | 14/1004 [00:00<00:24, 40.82it/s]\r",
      "Iteration:   0%|          | 4/1004 [00:00<00:26, 37.46it/s]"
     ]
    },
    {
     "name": "stdout",
     "output_type": "stream",
     "text": [
      "{'Train':  best_epoch_indx:85\n",
      " auc:0.8511277659091118 \n",
      " apur:0.24418476206390638 \n",
      " f1:0.2293557149705232 \n",
      " precision:0.1322766207184223 \n",
      " recall:0.8619469026548673 \n",
      ", 'Validation':  best_epoch_indx:85\n",
      " auc:0.8231755828308845 \n",
      " apur:0.21735572785477897 \n",
      " f1:0.21921331316187595 \n",
      " precision:0.12641772814517535 \n",
      " recall:0.8242320819112628 \n",
      "}\n",
      "=====Epoch 86\n",
      "Training...\n"
     ]
    },
    {
     "name": "stderr",
     "output_type": "stream",
     "text": [
      "Iteration:   4%|▍         | 44/1004 [00:01<00:21, 44.17it/s]\n",
      "Iteration:   7%|▋         | 69/1004 [00:01<00:20, 44.77it/s]\n",
      "Iteration:   8%|▊         | 84/1004 [00:01<00:20, 44.91it/s]\n",
      "Iteration:  84%|████████▍ | 94/112 [00:01<00:00, 47.58it/s]s]\n",
      "Iteration:  88%|████████▊ | 99/112 [00:02<00:00, 46.55it/s]s]"
     ]
    },
    {
     "name": "stdout",
     "output_type": "stream",
     "text": [
      "{'Train':  best_epoch_indx:85\n",
      " auc:0.8512622063965574 \n",
      " apur:0.2508093362944078 \n",
      " f1:0.23182083605262255 \n",
      " precision:0.13413095107966572 \n",
      " recall:0.8532777040268033 \n",
      ", 'Validation':  best_epoch_indx:85\n",
      " auc:0.8198280957279491 \n",
      " apur:0.20270940392808906 \n",
      " f1:0.220256111757858 \n",
      " precision:0.1275276354812618 \n",
      " recall:0.8071672354948806 \n",
      "}\n",
      "=====Epoch 86\n",
      "Training...\n"
     ]
    },
    {
     "name": "stderr",
     "output_type": "stream",
     "text": [
      "Iteration:  20%|█▉        | 199/1004 [00:04<00:18, 44.36it/s]\n",
      "Iteration:   0%|          | 4/1004 [00:00<00:26, 37.86it/s]s]"
     ]
    },
    {
     "name": "stdout",
     "output_type": "stream",
     "text": [
      "{'Train':  best_epoch_indx:85\n",
      " auc:0.849177264670322 \n",
      " apur:0.2504838199692315 \n",
      " f1:0.22795475629165 \n",
      " precision:0.13170990774798874 \n",
      " recall:0.8465769011947658 \n",
      ", 'Validation':  best_epoch_indx:85\n",
      " auc:0.8203741155419345 \n",
      " apur:0.2069392909005427 \n",
      " f1:0.2173511767420397 \n",
      " precision:0.12566702241195304 \n",
      " recall:0.8037542662116041 \n",
      "}\n",
      "=====Epoch 86\n",
      "Training...\n"
     ]
    },
    {
     "name": "stderr",
     "output_type": "stream",
     "text": [
      "\r",
      "Iteration:  19%|█▉        | 194/1004 [00:04<00:18, 44.78it/s]\r",
      "Iteration:   3%|▎         | 33/1004 [00:00<00:22, 42.65it/s]\r",
      "Iteration:  21%|██        | 209/1004 [00:04<00:17, 45.13it/s]\n",
      "\r",
      "Iteration:   0%|          | 0/1004 [00:00<?, ?it/s]\r",
      "Iteration:   1%|          | 9/1004 [00:00<00:24, 40.16it/s]\r",
      "Iteration:  20%|█▉        | 199/1004 [00:04<00:17, 44.84it/s]\r",
      "Iteration:   4%|▍         | 38/1004 [00:00<00:22, 43.29it/s]\r",
      "Iteration:  21%|██▏       | 214/1004 [00:04<00:17, 45.26it/s]\r",
      "Iteration:   0%|          | 4/1004 [00:00<00:31, 31.97it/s]"
     ]
    },
    {
     "name": "stdout",
     "output_type": "stream",
     "text": [
      "{'Train':  best_epoch_indx:85\n",
      " auc:0.8503741242384402 \n",
      " apur:0.24945701443276833 \n",
      " f1:0.23693361151233083 \n",
      " precision:0.13792065436276443 \n",
      " recall:0.8398862199747156 \n",
      ", 'Validation':  best_epoch_indx:85\n",
      " auc:0.8167716983611905 \n",
      " apur:0.20977499868453972 \n",
      " f1:0.22174260591526782 \n",
      " precision:0.12899925595238096 \n",
      " recall:0.7889647326507395 \n",
      "}\n",
      "=====Epoch 86\n",
      "Training...\n"
     ]
    },
    {
     "name": "stderr",
     "output_type": "stream",
     "text": [
      "Iteration: 100%|██████████| 1004/1004 [00:22<00:00, 43.88it/s]\n",
      "Iteration:   0%|          | 0/1004 [00:00<?, ?it/s]"
     ]
    },
    {
     "name": "stdout",
     "output_type": "stream",
     "text": [
      "Evaluating...\n"
     ]
    },
    {
     "name": "stderr",
     "output_type": "stream",
     "text": [
      "Iteration: 100%|██████████| 1004/1004 [00:22<00:00, 43.75it/s]\n",
      "Iteration:  81%|████████▏ | 818/1004 [00:18<00:04, 42.89it/s]"
     ]
    },
    {
     "name": "stdout",
     "output_type": "stream",
     "text": [
      "Evaluating...\n"
     ]
    },
    {
     "name": "stderr",
     "output_type": "stream",
     "text": [
      "Iteration: 100%|██████████| 1004/1004 [00:23<00:00, 43.51it/s]\n",
      "Iteration:   0%|          | 0/1004 [00:00<?, ?it/s]"
     ]
    },
    {
     "name": "stdout",
     "output_type": "stream",
     "text": [
      "Evaluating...\n"
     ]
    },
    {
     "name": "stderr",
     "output_type": "stream",
     "text": [
      "Iteration: 100%|██████████| 1004/1004 [00:22<00:00, 43.71it/s]\n",
      "Iteration:   3%|▎         | 27/1004 [00:00<00:21, 45.45it/s]]"
     ]
    },
    {
     "name": "stdout",
     "output_type": "stream",
     "text": [
      "Evaluating...\n"
     ]
    },
    {
     "name": "stderr",
     "output_type": "stream",
     "text": [
      "\r",
      "Iteration:  22%|██▏       | 222/1004 [00:04<00:14, 54.06it/s]\r",
      "Iteration:   0%|          | 4/1004 [00:00<00:54, 18.31it/s]\r",
      "Iteration:  24%|██▎       | 236/1004 [00:04<00:15, 50.33it/s]\r",
      "Iteration: 100%|█████████▉| 999/1004 [00:22<00:00, 42.33it/s]\r",
      "Iteration:   3%|▎         | 33/1004 [00:00<00:19, 48.77it/s]\r",
      "Iteration:  23%|██▎       | 228/1004 [00:04<00:14, 53.45it/s]\r",
      "Iteration:   1%|          | 11/1004 [00:00<00:28, 35.39it/s]\r",
      "Iteration:   4%|▍         | 39/1004 [00:00<00:19, 48.48it/s]\r",
      "Iteration: 100%|██████████| 1004/1004 [00:23<00:00, 40.95it/s]\r",
      "Iteration: 100%|██████████| 1004/1004 [00:23<00:00, 43.42it/s]\n",
      "\r",
      "Iteration:   0%|          | 0/1004 [00:00<?, ?it/s]\r",
      "Iteration:  24%|██▍       | 242/1004 [00:05<00:15, 47.77it/s]"
     ]
    },
    {
     "name": "stdout",
     "output_type": "stream",
     "text": [
      "Evaluating...\n"
     ]
    },
    {
     "name": "stderr",
     "output_type": "stream",
     "text": [
      "Iteration:  97%|█████████▋| 971/1004 [00:19<00:00, 59.63it/s]]\n",
      "Iteration:   0%|          | 0/112 [00:00<?, ?it/s]\n",
      "Iteration: 100%|██████████| 112/112 [00:01<00:00, 59.63it/s]s]\n",
      "Iteration:   0%|          | 0/1004 [00:00<?, ?it/s]\n",
      "Iteration:   0%|          | 4/1004 [00:00<00:28, 34.81it/s]"
     ]
    },
    {
     "name": "stdout",
     "output_type": "stream",
     "text": [
      "{'Train':  best_epoch_indx:86\n",
      " auc:0.8579648583591076 \n",
      " apur:0.26410014718270575 \n",
      " f1:0.2313573425923579 \n",
      " precision:0.13352380766642938 \n",
      " recall:0.8655499367888748 \n",
      ", 'Validation':  best_epoch_indx:86\n",
      " auc:0.8284326408552386 \n",
      " apur:0.22455157084641403 \n",
      " f1:0.2208307880268784 \n",
      " precision:0.1275357205856412 \n",
      " recall:0.8225255972696246 \n",
      "}\n",
      "=====Epoch 87\n",
      "Training...\n",
      "{'Train':  best_epoch_indx:86\n",
      " auc:0.8545070952563018 \n",
      " apur:0.2497634681749174 \n",
      " f1:0.24043972309719575 \n",
      " precision:0.14024448024258504 \n",
      " recall:0.8419721871049305 \n",
      ", 'Validation':  best_epoch_indx:86\n",
      " auc:0.826698538489417 \n",
      " apur:0.21437783911294991 \n",
      " f1:0.23048869438366157 \n",
      " precision:0.13439183442018712 \n",
      " recall:0.8088737201365188 \n",
      "}\n",
      "=====Epoch 87\n",
      "Training...\n"
     ]
    },
    {
     "name": "stderr",
     "output_type": "stream",
     "text": [
      "Iteration:   4%|▍         | 44/1004 [00:01<00:22, 42.12it/s]\n",
      "Iteration:   6%|▋         | 64/1004 [00:01<00:21, 44.46it/s]\n",
      "Iteration:   7%|▋         | 74/1004 [00:01<00:21, 43.67it/s]\n",
      "Iteration:  16%|█▌        | 159/1004 [00:03<00:18, 45.09it/s]\n",
      "Iteration:   0%|          | 4/1004 [00:00<00:29, 33.34it/s]]]"
     ]
    },
    {
     "name": "stdout",
     "output_type": "stream",
     "text": [
      "{'Train':  best_epoch_indx:86\n",
      " auc:0.8547263836627657 \n",
      " apur:0.2575666574167602 \n",
      " f1:0.23555137921646804 \n",
      " precision:0.13677715451300357 \n",
      " recall:0.847777988494848 \n",
      ", 'Validation':  best_epoch_indx:86\n",
      " auc:0.8235440524414462 \n",
      " apur:0.21459693026050436 \n",
      " f1:0.22411750769959726 \n",
      " precision:0.13012379642365887 \n",
      " recall:0.8071672354948806 \n",
      "}\n",
      "=====Epoch 87\n",
      "Training...\n"
     ]
    },
    {
     "name": "stderr",
     "output_type": "stream",
     "text": [
      "Iteration:  18%|█▊        | 179/1004 [00:04<00:18, 44.46it/s]\n",
      "Iteration:   2%|▏         | 19/1004 [00:00<00:33, 29.68it/s]]"
     ]
    },
    {
     "name": "stdout",
     "output_type": "stream",
     "text": [
      "{'Train':  best_epoch_indx:86\n",
      " auc:0.8556647661055901 \n",
      " apur:0.2630777024092072 \n",
      " f1:0.22442120985810307 \n",
      " precision:0.12874293324888936 \n",
      " recall:0.8738226183703142 \n",
      ", 'Validation':  best_epoch_indx:86\n",
      " auc:0.8272482729680586 \n",
      " apur:0.21790179875103818 \n",
      " f1:0.2172955513140508 \n",
      " precision:0.12474713418745785 \n",
      " recall:0.8418657565415245 \n",
      "}\n",
      "=====Epoch 87\n",
      "Training...\n"
     ]
    },
    {
     "name": "stderr",
     "output_type": "stream",
     "text": [
      "\r",
      "Iteration:  19%|█▉        | 189/1004 [00:04<00:18, 45.16it/s]\r",
      "Iteration:  19%|█▉        | 189/1004 [00:04<00:18, 44.40it/s]\r",
      "Iteration:   1%|          | 9/1004 [00:00<00:25, 38.88it/s]\r",
      "Iteration:   2%|▏         | 24/1004 [00:00<00:28, 33.86it/s]\n",
      "\r",
      "Iteration:   0%|          | 0/1004 [00:00<?, ?it/s]\r",
      "Iteration:  19%|█▉        | 194/1004 [00:04<00:17, 45.25it/s]\r",
      "Iteration:  19%|█▉        | 194/1004 [00:04<00:18, 44.20it/s]\r",
      "Iteration:   3%|▎         | 29/1004 [00:00<00:26, 36.88it/s]\r",
      "Iteration:   1%|▏         | 14/1004 [00:00<00:24, 40.43it/s]"
     ]
    },
    {
     "name": "stdout",
     "output_type": "stream",
     "text": [
      "{'Train':  best_epoch_indx:86\n",
      " auc:0.8560622254494146 \n",
      " apur:0.2591617214294808 \n",
      " f1:0.24368211039680782 \n",
      " precision:0.14269179178746053 \n",
      " recall:0.8338179519595449 \n",
      ", 'Validation':  best_epoch_indx:86\n",
      " auc:0.822749257766933 \n",
      " apur:0.21819958686247243 \n",
      " f1:0.22954640033291723 \n",
      " precision:0.13444476942575803 \n",
      " recall:0.7844141069397043 \n",
      "}\n",
      "=====Epoch 87\n",
      "Training...\n"
     ]
    },
    {
     "name": "stderr",
     "output_type": "stream",
     "text": [
      "Iteration: 100%|██████████| 1004/1004 [00:22<00:00, 43.75it/s]\n",
      "Iteration:  83%|████████▎ | 829/1004 [00:19<00:04, 42.85it/s]"
     ]
    },
    {
     "name": "stdout",
     "output_type": "stream",
     "text": [
      "Evaluating...\n",
      "Evaluating...\n"
     ]
    },
    {
     "name": "stderr",
     "output_type": "stream",
     "text": [
      "Iteration: 100%|██████████| 1004/1004 [00:23<00:00, 43.59it/s]\n",
      "Iteration: 100%|██████████| 1004/1004 [00:23<00:00, 43.30it/s]\n",
      "Iteration:  19%|█▉        | 191/1004 [00:03<00:16, 48.32it/s]"
     ]
    },
    {
     "name": "stdout",
     "output_type": "stream",
     "text": [
      "Evaluating...\n"
     ]
    },
    {
     "name": "stderr",
     "output_type": "stream",
     "text": [
      "Iteration: 100%|██████████| 1004/1004 [00:23<00:00, 43.44it/s]\n",
      "Iteration:  21%|██        | 211/1004 [00:04<00:16, 48.03it/s]"
     ]
    },
    {
     "name": "stdout",
     "output_type": "stream",
     "text": [
      "Evaluating...\n"
     ]
    },
    {
     "name": "stderr",
     "output_type": "stream",
     "text": [
      "\r",
      "Iteration:  22%|██▏       | 225/1004 [00:04<00:16, 47.44it/s]\r",
      "Iteration:   1%|          | 9/1004 [00:00<00:22, 44.66it/s]\r",
      "Iteration:  99%|█████████▉| 998/1004 [00:23<00:00, 44.53it/s]\r",
      "Iteration:  22%|██▏       | 216/1004 [00:04<00:16, 48.50it/s]\r",
      "Iteration:   3%|▎         | 30/1004 [00:00<00:20, 48.02it/s]\r",
      "Iteration:  23%|██▎       | 230/1004 [00:04<00:16, 47.82it/s]\r",
      "Iteration:   1%|▏         | 14/1004 [00:00<00:21, 45.61it/s]\r",
      "Iteration:   4%|▎         | 36/1004 [00:00<00:19, 50.09it/s]\r",
      "Iteration: 100%|█████████▉| 1003/1004 [00:23<00:00, 44.02it/s]\r",
      "Iteration:  22%|██▏       | 222/1004 [00:04<00:15, 49.79it/s]\r",
      "Iteration: 100%|██████████| 1004/1004 [00:23<00:00, 43.25it/s]\n",
      "\r",
      "Iteration:   0%|          | 0/1004 [00:00<?, ?it/s]"
     ]
    },
    {
     "name": "stdout",
     "output_type": "stream",
     "text": [
      "Evaluating...\n"
     ]
    },
    {
     "name": "stderr",
     "output_type": "stream",
     "text": [
      "Iteration:  98%|█████████▊| 986/1004 [00:20<00:00, 59.42it/s]]\n",
      "Iteration: 100%|██████████| 1004/1004 [00:20<00:00, 48.85it/s]\n",
      "Iteration: 100%|██████████| 112/112 [00:01<00:00, 64.15it/s]s]\n",
      "Iteration:   0%|          | 0/1004 [00:00<?, ?it/s]\n",
      "Iteration:   0%|          | 4/1004 [00:00<00:25, 38.69it/s]"
     ]
    },
    {
     "name": "stdout",
     "output_type": "stream",
     "text": [
      "{'Train':  best_epoch_indx:87\n",
      " auc:0.8604318211152303 \n",
      " apur:0.26847896504417246 \n",
      " f1:0.25373968826939486 \n",
      " precision:0.15017358087475471 \n",
      " recall:0.8175726927939317 \n",
      ", 'Validation':  best_epoch_indx:87\n",
      " auc:0.8290892033469165 \n",
      " apur:0.2270068129589367 \n",
      " f1:0.23878205128205124 \n",
      " precision:0.1415452818239392 \n",
      " recall:0.7627986348122867 \n",
      "}\n",
      "=====Epoch 88\n",
      "Training...\n",
      "{'Train':  best_epoch_indx:87\n",
      " auc:0.859202183977334 \n",
      " apur:0.26159513014125 \n",
      " f1:0.25064705601451703 \n",
      " precision:0.14762895876694607 \n",
      " recall:0.829456384323641 \n",
      ", 'Validation':  best_epoch_indx:87\n",
      " auc:0.8268903102954498 \n",
      " apur:0.22333649037462525 \n",
      " f1:0.2359958506224066 \n",
      " precision:0.13914373088685014 \n",
      " recall:0.7764505119453925 \n",
      "}\n",
      "=====Epoch 88\n",
      "Training...\n"
     ]
    },
    {
     "name": "stderr",
     "output_type": "stream",
     "text": [
      "Iteration:   4%|▍         | 38/1004 [00:00<00:21, 44.07it/s]\n",
      "Iteration:   5%|▌         | 54/1004 [00:01<00:21, 44.61it/s]\n",
      "Iteration:  12%|█▎        | 14/112 [00:00<00:01, 54.27it/s]]\n",
      "Iteration:  16%|█▌        | 158/1004 [00:03<00:19, 44.51it/s]\n",
      "Iteration:   0%|          | 4/1004 [00:00<00:28, 34.50it/s]s]"
     ]
    },
    {
     "name": "stdout",
     "output_type": "stream",
     "text": [
      "{'Train':  best_epoch_indx:87\n",
      " auc:0.8595228228848233 \n",
      " apur:0.2703220888871824 \n",
      " f1:0.24041316514009103 \n",
      " precision:0.14015505177134585 \n",
      " recall:0.8445540173209432 \n",
      ", 'Validation':  best_epoch_indx:87\n",
      " auc:0.8261414733802824 \n",
      " apur:0.2227844685655377 \n",
      " f1:0.22697448359659778 \n",
      " precision:0.1323321054122981 \n",
      " recall:0.7969283276450512 \n",
      "}\n",
      "=====Epoch 88\n",
      "Training...\n"
     ]
    },
    {
     "name": "stderr",
     "output_type": "stream",
     "text": [
      "\r",
      "Iteration: 100%|██████████| 112/112 [00:02<00:00, 48.78it/s]\r",
      "Iteration:  17%|█▋        | 169/1004 [00:03<00:18, 44.74it/s]\r",
      "Iteration:  17%|█▋        | 168/1004 [00:03<00:18, 44.87it/s]\n",
      "\r",
      "Iteration:   0%|          | 0/1004 [00:00<?, ?it/s]\r",
      "Iteration:   1%|          | 9/1004 [00:00<00:25, 39.61it/s]\r",
      "Iteration:  17%|█▋        | 174/1004 [00:03<00:18, 45.11it/s]\r",
      "Iteration:  17%|█▋        | 173/1004 [00:03<00:18, 44.94it/s]\r",
      "Iteration:   0%|          | 4/1004 [00:00<00:27, 35.82it/s]\r",
      "Iteration:   1%|▏         | 14/1004 [00:00<00:24, 40.82it/s]"
     ]
    },
    {
     "name": "stdout",
     "output_type": "stream",
     "text": [
      "{'Train':  best_epoch_indx:87\n",
      " auc:0.8598593070805322 \n",
      " apur:0.27559272219441655 \n",
      " f1:0.2363518916182196 \n",
      " precision:0.1371089437810794 \n",
      " recall:0.8558063088690815 \n",
      ", 'Validation':  best_epoch_indx:87\n",
      " auc:0.8303428847231528 \n",
      " apur:0.21631112551617337 \n",
      " f1:0.22847211249802496 \n",
      " precision:0.1326605504587156 \n",
      " recall:0.8225255972696246 \n",
      "}\n",
      "=====Epoch 88\n",
      "Training...\n"
     ]
    },
    {
     "name": "stderr",
     "output_type": "stream",
     "text": [
      "\r",
      "Iteration:  18%|█▊        | 179/1004 [00:04<00:18, 45.22it/s]\r",
      "Iteration:   1%|          | 8/1004 [00:00<00:26, 38.07it/s]\r",
      "Iteration:  18%|█▊        | 178/1004 [00:04<00:18, 44.67it/s]\r",
      "Iteration:   2%|▏         | 19/1004 [00:00<00:23, 41.53it/s]\n",
      "\r",
      "Iteration:   0%|          | 0/1004 [00:00<?, ?it/s]\r",
      "Iteration:  18%|█▊        | 184/1004 [00:04<00:18, 45.29it/s]\r",
      "Iteration:   1%|▏         | 13/1004 [00:00<00:24, 40.45it/s]\r",
      "Iteration:  18%|█▊        | 183/1004 [00:04<00:18, 44.03it/s]\r",
      "Iteration:   2%|▏         | 24/1004 [00:00<00:23, 41.51it/s]"
     ]
    },
    {
     "name": "stdout",
     "output_type": "stream",
     "text": [
      "{'Train':  best_epoch_indx:87\n",
      " auc:0.8616183132004139 \n",
      " apur:0.26975824803323073 \n",
      " f1:0.23892735080185787 \n",
      " precision:0.13869162681859803 \n",
      " recall:0.8616940581542352 \n",
      ", 'Validation':  best_epoch_indx:87\n",
      " auc:0.8241485557922175 \n",
      " apur:0.21802437880201023 \n",
      " f1:0.22420462619404752 \n",
      " precision:0.13016775139792833 \n",
      " recall:0.8077360637087599 \n",
      "}\n",
      "=====Epoch 88\n",
      "Training...\n"
     ]
    },
    {
     "name": "stderr",
     "output_type": "stream",
     "text": [
      "Iteration: 100%|██████████| 1004/1004 [00:22<00:00, 43.94it/s]\n",
      "Iteration:  83%|████████▎ | 838/1004 [00:19<00:03, 43.64it/s]]\n",
      "Iteration:   0%|          | 0/1004 [00:00<?, ?it/s]"
     ]
    },
    {
     "name": "stdout",
     "output_type": "stream",
     "text": [
      "Evaluating...\n",
      "Evaluating...\n"
     ]
    },
    {
     "name": "stderr",
     "output_type": "stream",
     "text": [
      "Iteration: 100%|██████████| 1004/1004 [00:23<00:00, 43.56it/s]\n",
      "Iteration: 100%|██████████| 1004/1004 [00:22<00:00, 43.84it/s]\n",
      "Iteration:   0%|          | 5/1004 [00:00<00:24, 40.18it/s]s]"
     ]
    },
    {
     "name": "stdout",
     "output_type": "stream",
     "text": [
      "Evaluating...\n",
      "Evaluating...\n"
     ]
    },
    {
     "name": "stderr",
     "output_type": "stream",
     "text": [
      "Iteration: 100%|██████████| 1004/1004 [00:23<00:00, 43.50it/s]\n",
      "Iteration:  21%|██        | 210/1004 [00:04<00:16, 47.85it/s]"
     ]
    },
    {
     "name": "stdout",
     "output_type": "stream",
     "text": [
      "Evaluating...\n"
     ]
    },
    {
     "name": "stderr",
     "output_type": "stream",
     "text": [
      "Iteration:  97%|█████████▋| 977/1004 [00:20<00:00, 63.07it/s]]\n",
      "Iteration:  13%|█▎        | 15/112 [00:00<00:01, 70.51it/s]s]]\n",
      "Iteration: 100%|██████████| 112/112 [00:01<00:00, 73.38it/s]s]\n",
      "Iteration:   0%|          | 4/1004 [00:00<00:29, 34.46it/s]\n",
      "Iteration:   0%|          | 0/1004 [00:00<?, ?it/s]"
     ]
    },
    {
     "name": "stdout",
     "output_type": "stream",
     "text": [
      "{'Train':  best_epoch_indx:88\n",
      " auc:0.8686498882518597 \n",
      " apur:0.2856399052045427 \n",
      " f1:0.2508564295569092 \n",
      " precision:0.14729903997707408 \n",
      " recall:0.8447534766118837 \n",
      ", 'Validation':  best_epoch_indx:88\n",
      " auc:0.8318177411809734 \n",
      " apur:0.23515610004681475 \n",
      " f1:0.2320790056189341 \n",
      " precision:0.13646375650780937 \n",
      " recall:0.7753128555176336 \n",
      "}\n",
      "=====Epoch 89\n",
      "Training...\n",
      "{'Train':  best_epoch_indx:88\n",
      " auc:0.8661481470238367 \n",
      " apur:0.27641844939055865 \n",
      " f1:0.24510978043912177 \n",
      " precision:0.14309322033898306 \n",
      " recall:0.8538558786346397 \n",
      ", 'Validation':  best_epoch_indx:88\n",
      " auc:0.8330512162170989 \n",
      " apur:0.2349637125581197 \n",
      " f1:0.2330192544039328 \n",
      " precision:0.13611563128170767 \n",
      " recall:0.8088737201365188 \n",
      "}\n",
      "=====Epoch 89\n",
      "Training...\n"
     ]
    },
    {
     "name": "stderr",
     "output_type": "stream",
     "text": [
      "Iteration:   0%|          | 4/1004 [00:00<00:28, 34.85it/s]\n",
      "Iteration:   2%|▏         | 19/1004 [00:00<00:23, 41.07it/s]\n",
      "Iteration:  19%|█▉        | 21/112 [00:00<00:01, 56.69it/s]]\n",
      "Iteration:  12%|█▏        | 119/1004 [00:02<00:19, 44.66it/s]\n",
      "Iteration:   0%|          | 4/1004 [00:00<00:27, 35.78it/s]s]"
     ]
    },
    {
     "name": "stdout",
     "output_type": "stream",
     "text": [
      "{'Train':  best_epoch_indx:88\n",
      " auc:0.8646757964665834 \n",
      " apur:0.2787531241321751 \n",
      " f1:0.24383395378748762 \n",
      " precision:0.14230736699653218 \n",
      " recall:0.8508755294266388 \n",
      ", 'Validation':  best_epoch_indx:88\n",
      " auc:0.830431256056967 \n",
      " apur:0.2257959323778465 \n",
      " f1:0.23140764849471113 \n",
      " precision:0.13501709077098367 \n",
      " recall:0.8088737201365188 \n",
      "}\n",
      "=====Epoch 89\n",
      "Training...\n"
     ]
    },
    {
     "name": "stderr",
     "output_type": "stream",
     "text": [
      "Iteration:  15%|█▍        | 149/1004 [00:03<00:23, 36.69it/s]\n",
      "Iteration:  16%|█▌        | 159/1004 [00:03<00:21, 40.19it/s]"
     ]
    },
    {
     "name": "stdout",
     "output_type": "stream",
     "text": [
      "{'Train':  best_epoch_indx:88\n",
      " auc:0.8653518385723835 \n",
      " apur:0.2839372118163548 \n",
      " f1:0.2417803942556418 \n",
      " precision:0.1407504335815393 \n",
      " recall:0.8567545356849359 \n",
      ", 'Validation':  best_epoch_indx:88\n",
      " auc:0.8318219762575862 \n",
      " apur:0.2334373215761909 \n",
      " f1:0.2317092780189741 \n",
      " precision:0.1349250936329588 \n",
      " recall:0.8196814562002275 \n",
      "}\n",
      "=====Epoch 89\n",
      "Training...\n"
     ]
    },
    {
     "name": "stderr",
     "output_type": "stream",
     "text": [
      "\r",
      "Iteration:  15%|█▌        | 154/1004 [00:03<00:21, 38.87it/s]\r",
      "Iteration:   0%|          | 4/1004 [00:00<00:29, 33.57it/s]\r",
      "Iteration:   4%|▍         | 39/1004 [00:00<00:22, 42.90it/s]\r",
      "Iteration:  16%|█▋        | 164/1004 [00:03<00:20, 40.50it/s]\r",
      "Iteration:  16%|█▌        | 159/1004 [00:03<00:21, 40.18it/s]\n",
      "\r",
      "Iteration:   0%|          | 0/1004 [00:00<?, ?it/s]\r",
      "Iteration:   4%|▍         | 44/1004 [00:01<00:21, 43.72it/s]\r",
      "Iteration:   1%|          | 9/1004 [00:00<00:26, 37.93it/s]"
     ]
    },
    {
     "name": "stdout",
     "output_type": "stream",
     "text": [
      "{'Train':  best_epoch_indx:88\n",
      " auc:0.8655911960983547 \n",
      " apur:0.2742846640960063 \n",
      " f1:0.24525299287496832 \n",
      " precision:0.1430952983877775 \n",
      " recall:0.8572692793931732 \n",
      ", 'Validation':  best_epoch_indx:88\n",
      " auc:0.8266082739327948 \n",
      " apur:0.22821191732118315 \n",
      " f1:0.22789976328462982 \n",
      " precision:0.13304107500238255 \n",
      " recall:0.7940841865756542 \n",
      "}\n",
      "=====Epoch 89\n",
      "Training...\n"
     ]
    },
    {
     "name": "stderr",
     "output_type": "stream",
     "text": [
      "Iteration: 100%|██████████| 1004/1004 [00:23<00:00, 43.56it/s]\n",
      "Iteration:   0%|          | 0/1004 [00:00<?, ?it/s]"
     ]
    },
    {
     "name": "stdout",
     "output_type": "stream",
     "text": [
      "Evaluating...\n",
      "Evaluating...\n"
     ]
    },
    {
     "name": "stderr",
     "output_type": "stream",
     "text": [
      "Iteration: 100%|██████████| 1004/1004 [00:22<00:00, 43.67it/s]\n",
      "Iteration: 100%|██████████| 1004/1004 [00:23<00:00, 43.53it/s]\n",
      "Iteration:  14%|█▍        | 140/1004 [00:02<00:18, 46.31it/s]"
     ]
    },
    {
     "name": "stdout",
     "output_type": "stream",
     "text": [
      "Evaluating...\n"
     ]
    },
    {
     "name": "stderr",
     "output_type": "stream",
     "text": [
      "Iteration: 100%|██████████| 1004/1004 [00:23<00:00, 43.59it/s]\n",
      "Iteration:   4%|▍         | 43/1004 [00:00<00:21, 45.06it/s]]"
     ]
    },
    {
     "name": "stdout",
     "output_type": "stream",
     "text": [
      "Evaluating...\n"
     ]
    },
    {
     "name": "stderr",
     "output_type": "stream",
     "text": [
      "\r",
      "Iteration: 100%|█████████▉| 999/1004 [00:23<00:00, 43.82it/s]\r",
      "Iteration:   1%|          | 10/1004 [00:00<00:20, 49.19it/s]\r",
      "Iteration:  20%|█▉        | 196/1004 [00:03<00:16, 47.59it/s]\r",
      "Iteration:  19%|█▉        | 190/1004 [00:03<00:15, 51.62it/s]\r",
      "Iteration:   5%|▍         | 49/1004 [00:01<00:20, 46.56it/s]\r",
      "Iteration:   1%|▏         | 15/1004 [00:00<00:20, 47.64it/s]\r",
      "Iteration: 100%|██████████| 1004/1004 [00:23<00:00, 41.25it/s]\r",
      "Iteration: 100%|██████████| 1004/1004 [00:23<00:00, 43.38it/s]\n",
      "\r",
      "Iteration:   0%|          | 0/1004 [00:00<?, ?it/s]\r",
      "Iteration:  20%|██        | 202/1004 [00:04<00:16, 48.45it/s]\r",
      "Iteration:   5%|▌         | 55/1004 [00:01<00:19, 49.70it/s]\r",
      "Iteration:  20%|█▉        | 196/1004 [00:03<00:16, 49.70it/s]"
     ]
    },
    {
     "name": "stdout",
     "output_type": "stream",
     "text": [
      "Evaluating...\n"
     ]
    },
    {
     "name": "stderr",
     "output_type": "stream",
     "text": [
      "Iteration:  99%|█████████▉| 992/1004 [00:20<00:00, 71.75it/s]]\n",
      "Iteration: 100%|█████████▉| 1000/1004 [00:20<00:00, 73.15it/s]\n",
      "Iteration: 100%|██████████| 112/112 [00:01<00:00, 67.82it/s]s]\n",
      "Iteration:  21%|██        | 23/112 [00:00<00:01, 45.72it/s]\n",
      "Iteration:  27%|██▋       | 30/112 [00:00<00:01, 50.41it/s]\n",
      "Iteration:   0%|          | 0/1004 [00:00<?, ?it/s]"
     ]
    },
    {
     "name": "stdout",
     "output_type": "stream",
     "text": [
      "{'Train':  best_epoch_indx:89\n",
      " auc:0.8730385850989258 \n",
      " apur:0.2928022786651389 \n",
      " f1:0.25180774138664397 \n",
      " precision:0.14747741697896583 \n",
      " recall:0.8606826801517067 \n",
      ", 'Validation':  best_epoch_indx:89\n",
      " auc:0.8351455154378951 \n",
      " apur:0.23935716551390537 \n",
      " f1:0.23572805767457453 \n",
      " precision:0.13823616163602398 \n",
      " recall:0.7997724687144482 \n",
      "}\n",
      "=====Epoch 90\n",
      "Training...\n",
      "{'Train':  best_epoch_indx:89\n",
      " auc:0.8700991886751545 \n",
      " apur:0.2851846019090017 \n",
      " f1:0.25557317236241384 \n",
      " precision:0.1505321901932987 \n",
      " recall:0.8457016434892541 \n",
      ", 'Validation':  best_epoch_indx:89\n",
      " auc:0.8332233200402174 \n",
      " apur:0.24276200028597728 \n",
      " f1:0.23965367965367965 \n",
      " precision:0.14133986928104575 \n",
      " recall:0.7872582480091013 \n",
      "}\n",
      "=====Epoch 90\n",
      "Training...\n"
     ]
    },
    {
     "name": "stderr",
     "output_type": "stream",
     "text": [
      "Iteration:   0%|          | 4/1004 [00:00<00:27, 36.47it/s]\n",
      "Iteration:   1%|▏         | 14/1004 [00:00<00:24, 39.64it/s]\n",
      "Iteration:  12%|█▏        | 119/1004 [00:02<00:19, 45.02it/s]\n",
      "Iteration:  12%|█▏        | 118/1004 [00:02<00:19, 44.83it/s]"
     ]
    },
    {
     "name": "stdout",
     "output_type": "stream",
     "text": [
      "{'Train':  best_epoch_indx:89\n",
      " auc:0.8690794821996687 \n",
      " apur:0.29277718952102494 \n",
      " f1:0.24958117717136372 \n",
      " precision:0.1463356070941337 \n",
      " recall:0.8475883431316771 \n",
      ", 'Validation':  best_epoch_indx:89\n",
      " auc:0.8319256638536425 \n",
      " apur:0.23753829724875394 \n",
      " f1:0.23221476510067116 \n",
      " precision:0.13619366266482977 \n",
      " recall:0.7872582480091013 \n",
      "}\n",
      "=====Epoch 90\n",
      "Training...\n",
      "{'Train':  best_epoch_indx:89\n",
      " auc:0.8690792468680649 \n",
      " apur:0.29347933941546966 \n",
      " f1:0.24599872831319827 \n",
      " precision:0.1436390830690244 \n",
      " recall:0.8559959542322524 \n",
      ", 'Validation':  best_epoch_indx:89\n",
      " auc:0.8339766163474963 \n",
      " apur:0.23111399867101934 \n",
      " f1:0.23323805634953043 \n",
      " precision:0.136168589682464 \n",
      " recall:0.8122866894197952 \n",
      "}\n",
      "=====Epoch 90\n",
      "Training...\n"
     ]
    },
    {
     "name": "stderr",
     "output_type": "stream",
     "text": [
      "Iteration:  12%|█▏        | 123/1004 [00:02<00:19, 45.10it/s]\n",
      "Iteration:   3%|▎         | 29/1004 [00:00<00:23, 41.98it/s]]\n",
      "Iteration:   4%|▍         | 39/1004 [00:00<00:22, 42.49it/s]]"
     ]
    },
    {
     "name": "stdout",
     "output_type": "stream",
     "text": [
      "{'Train':  best_epoch_indx:89\n",
      " auc:0.8708179716047248 \n",
      " apur:0.2893933544393802 \n",
      " f1:0.252390200179265 \n",
      " precision:0.14806537837956268 \n",
      " recall:0.8543615676359039 \n",
      ", 'Validation':  best_epoch_indx:89\n",
      " auc:0.829595985893893 \n",
      " apur:0.23328325465603245 \n",
      " f1:0.23432231962238703 \n",
      " precision:0.13754205422521273 \n",
      " recall:0.7906712172923777 \n",
      "}\n",
      "=====Epoch 90\n",
      "Training...\n"
     ]
    },
    {
     "name": "stderr",
     "output_type": "stream",
     "text": [
      "Iteration: 100%|██████████| 1004/1004 [00:22<00:00, 43.74it/s]\n",
      "Iteration: 100%|██████████| 1004/1004 [00:23<00:00, 43.64it/s]\n",
      "Iteration:  84%|████████▍ | 843/1004 [00:19<00:03, 44.17it/s]"
     ]
    },
    {
     "name": "stdout",
     "output_type": "stream",
     "text": [
      "Evaluating...\n",
      "Evaluating...\n"
     ]
    },
    {
     "name": "stderr",
     "output_type": "stream",
     "text": [
      "Iteration: 100%|██████████| 1004/1004 [00:23<00:00, 43.30it/s]\n",
      "Iteration: 100%|██████████| 1004/1004 [00:23<00:00, 43.52it/s]\n",
      "Iteration:  15%|█▌        | 154/1004 [00:03<00:16, 51.09it/s]"
     ]
    },
    {
     "name": "stdout",
     "output_type": "stream",
     "text": [
      "Evaluating...\n",
      "Evaluating...\n"
     ]
    },
    {
     "name": "stderr",
     "output_type": "stream",
     "text": [
      "Iteration: 100%|██████████| 1004/1004 [00:23<00:00, 43.19it/s]\n",
      "Iteration:   0%|          | 0/1004 [00:00<?, ?it/s]"
     ]
    },
    {
     "name": "stdout",
     "output_type": "stream",
     "text": [
      "Evaluating...\n"
     ]
    },
    {
     "name": "stderr",
     "output_type": "stream",
     "text": [
      "Iteration:  98%|█████████▊| 986/1004 [00:20<00:00, 52.38it/s]]\n",
      "Iteration: 100%|█████████▉| 1000/1004 [00:20<00:00, 58.17it/s]\n",
      "Iteration: 100%|██████████| 112/112 [00:01<00:00, 73.93it/s]s]\n",
      "Iteration:   0%|          | 4/1004 [00:00<00:28, 35.36it/s]\n",
      "Iteration:   0%|          | 0/1004 [00:00<?, ?it/s]"
     ]
    },
    {
     "name": "stdout",
     "output_type": "stream",
     "text": [
      "{'Train':  best_epoch_indx:90\n",
      " auc:0.8704333294076811 \n",
      " apur:0.2913317469951294 \n",
      " f1:0.26130441331525833 \n",
      " precision:0.15532740404703635 \n",
      " recall:0.8224399494310999 \n",
      ", 'Validation':  best_epoch_indx:90\n",
      " auc:0.8332946254509009 \n",
      " apur:0.23349890205031432 \n",
      " f1:0.24115024115024114 \n",
      " precision:0.1435380782147113 \n",
      " recall:0.7536973833902162 \n",
      "}\n",
      "=====Epoch 91\n",
      "Training...\n",
      "{'Train':  best_epoch_indx:90\n",
      " auc:0.868231539066536 \n",
      " apur:0.2808032947324958 \n",
      " f1:0.25283489567583917 \n",
      " precision:0.14863783831829697 \n",
      " recall:0.8456384323640961 \n",
      ", 'Validation':  best_epoch_indx:90\n",
      " auc:0.8331235624516959 \n",
      " apur:0.24035025792085968 \n",
      " f1:0.23745305565039262 \n",
      " precision:0.13968668407310705 \n",
      " recall:0.7912400455062572 \n",
      "}\n",
      "=====Epoch 91\n",
      "Training...\n"
     ]
    },
    {
     "name": "stderr",
     "output_type": "stream",
     "text": [
      "Iteration:   3%|▎         | 33/1004 [00:00<00:22, 43.28it/s]\n",
      "Iteration:   3%|▎         | 34/1004 [00:00<00:22, 43.60it/s]\n",
      "Iteration:  21%|██▏       | 24/112 [00:00<00:01, 51.66it/s]]\n",
      "Iteration:  17%|█▋        | 169/1004 [00:03<00:18, 44.28it/s]\n",
      "Iteration:   0%|          | 0/1004 [00:00<?, ?it/s]\n",
      "Iteration:   0%|          | 0/1004 [00:00<?, ?it/s]"
     ]
    },
    {
     "name": "stdout",
     "output_type": "stream",
     "text": [
      "{'Train':  best_epoch_indx:90\n",
      " auc:0.8691657569371761 \n",
      " apur:0.28897465761445407 \n",
      " f1:0.24678287852514375 \n",
      " precision:0.14421179507418588 \n",
      " recall:0.8546684366900562 \n",
      ", 'Validation':  best_epoch_indx:90\n",
      " auc:0.8315246146600694 \n",
      " apur:0.23759708146031808 \n",
      " f1:0.23182004089979552 \n",
      " precision:0.1353778542084647 \n",
      " recall:0.8060295790671217 \n",
      "}\n",
      "=====Epoch 91\n",
      "Training...\n",
      "{'Train':  best_epoch_indx:90\n",
      " auc:0.8696930821969397 \n",
      " apur:0.2880823082176946 \n",
      " f1:0.24758161213836877 \n",
      " precision:0.14438333981766754 \n",
      " recall:0.8679519595448799 \n",
      ", 'Validation':  best_epoch_indx:90\n",
      " auc:0.8282590744950693 \n",
      " apur:0.2265531942138384 \n",
      " f1:0.22952155839921753 \n",
      " precision:0.13395490438588145 \n",
      " recall:0.800910125142207 \n",
      "}\n",
      "=====Epoch 91\n",
      "Training...\n"
     ]
    },
    {
     "name": "stderr",
     "output_type": "stream",
     "text": [
      "\r",
      "Iteration:  18%|█▊        | 183/1004 [00:04<00:18, 44.54it/s]\r",
      "Iteration:  17%|█▋        | 174/1004 [00:03<00:18, 43.70it/s]\r",
      "Iteration:   0%|          | 4/1004 [00:00<00:30, 33.17it/s]\r",
      "Iteration:   0%|          | 4/1004 [00:00<00:29, 33.70it/s]\r",
      "Iteration:  19%|█▊        | 188/1004 [00:04<00:18, 43.68it/s]\r",
      "Iteration:  18%|█▊        | 179/1004 [00:04<00:18, 43.60it/s]\n",
      "\r",
      "Iteration:   0%|          | 0/1004 [00:00<?, ?it/s]\r",
      "Iteration:   1%|          | 8/1004 [00:00<00:27, 36.78it/s]\r",
      "Iteration:   1%|          | 9/1004 [00:00<00:25, 38.57it/s]"
     ]
    },
    {
     "name": "stdout",
     "output_type": "stream",
     "text": [
      "{'Train':  best_epoch_indx:90\n",
      " auc:0.8685585943087913 \n",
      " apur:0.28896366483498853 \n",
      " f1:0.251679152063633 \n",
      " precision:0.1479486439059064 \n",
      " recall:0.8420886275997218 \n",
      ", 'Validation':  best_epoch_indx:90\n",
      " auc:0.8338007529966217 \n",
      " apur:0.23587032589792467 \n",
      " f1:0.23993860845839018 \n",
      " precision:0.141123370110331 \n",
      " recall:0.8003412969283277 \n",
      "}\n",
      "=====Epoch 91\n",
      "Training...\n"
     ]
    },
    {
     "name": "stderr",
     "output_type": "stream",
     "text": [
      "Iteration: 100%|██████████| 1004/1004 [00:22<00:00, 43.94it/s]\n",
      "Iteration: 100%|██████████| 1004/1004 [00:22<00:00, 43.91it/s]\n",
      "Iteration:   0%|          | 0/1004 [00:00<?, ?it/s]"
     ]
    },
    {
     "name": "stdout",
     "output_type": "stream",
     "text": [
      "Evaluating...\n",
      "Evaluating...\n"
     ]
    },
    {
     "name": "stderr",
     "output_type": "stream",
     "text": [
      "Iteration: 100%|██████████| 1004/1004 [00:23<00:00, 43.54it/s]\n",
      "Iteration: 100%|██████████| 1004/1004 [00:23<00:00, 43.44it/s]\n",
      "Iteration:   0%|          | 0/1004 [00:00<?, ?it/s]"
     ]
    },
    {
     "name": "stdout",
     "output_type": "stream",
     "text": [
      "Evaluating...\n",
      "Evaluating...\n",
      "Evaluating...\n"
     ]
    },
    {
     "name": "stderr",
     "output_type": "stream",
     "text": [
      "Iteration: 100%|██████████| 1004/1004 [00:22<00:00, 43.67it/s]\n",
      "Iteration:  94%|█████████▍| 948/1004 [00:19<00:00, 62.20it/s]]\n",
      "Iteration:  23%|██▎       | 26/112 [00:00<00:01, 56.04it/s]s]\n",
      "Iteration:  98%|█████████▊| 110/112 [00:01<00:00, 76.90it/s]s]\n",
      "Iteration:   0%|          | 4/1004 [00:00<00:26, 37.57it/s]]"
     ]
    },
    {
     "name": "stdout",
     "output_type": "stream",
     "text": [
      "{'Train':  best_epoch_indx:91\n",
      " auc:0.8673501478656176 \n",
      " apur:0.2829288849693775 \n",
      " f1:0.2512742099898063 \n",
      " precision:0.1476899520681697 \n",
      " recall:0.8414032869785082 \n",
      ", 'Validation':  best_epoch_indx:91\n",
      " auc:0.8307282497770664 \n",
      " apur:0.2289410605776824 \n",
      " f1:0.23244717109747784 \n",
      " precision:0.1367007416315895 \n",
      " recall:0.7758816837315131 \n",
      "}\n",
      "=====Epoch 92\n",
      "Training...\n"
     ]
    },
    {
     "name": "stderr",
     "output_type": "stream",
     "text": [
      "\r",
      "Iteration:   1%|          | 8/1004 [00:00<00:25, 38.93it/s]\r",
      "Iteration:   1%|▏         | 13/1004 [00:00<00:24, 40.72it/s]\n",
      "\r",
      "Iteration:   0%|          | 0/1004 [00:00<?, ?it/s]"
     ]
    },
    {
     "name": "stdout",
     "output_type": "stream",
     "text": [
      "{'Train':  best_epoch_indx:91\n",
      " auc:0.8651966092557573 \n",
      " apur:0.2707542157643521 \n",
      " f1:0.24667169509546447 \n",
      " precision:0.1440443213296399 \n",
      " recall:0.8579013906447535 \n",
      ", 'Validation':  best_epoch_indx:91\n",
      " auc:0.8272480217347004 \n",
      " apur:0.230526101479669 \n",
      " f1:0.23167809633975048 \n",
      " precision:0.13552440792653456 \n",
      " recall:0.7974971558589306 \n",
      "}\n",
      "=====Epoch 92\n",
      "Training...\n"
     ]
    },
    {
     "name": "stderr",
     "output_type": "stream",
     "text": [
      "Iteration:   8%|▊         | 78/1004 [00:01<00:20, 44.96it/s]\n",
      "Iteration:   6%|▋         | 64/1004 [00:01<00:21, 44.28it/s]\n",
      "Iteration:   0%|          | 0/112 [00:00<?, ?it/s]\n",
      "Iteration:  17%|█▋        | 174/1004 [00:04<00:18, 44.22it/s]\n",
      "Iteration:   0%|          | 0/1004 [00:00<?, ?it/s]\n",
      "Iteration:   0%|          | 0/1004 [00:00<?, ?it/s]\n",
      "Iteration:   0%|          | 4/1004 [00:00<00:28, 34.76it/s]s]"
     ]
    },
    {
     "name": "stdout",
     "output_type": "stream",
     "text": [
      "{'Train':  best_epoch_indx:91\n",
      " auc:0.866341607627871 \n",
      " apur:0.2820621080790903 \n",
      " f1:0.23952804413274625 \n",
      " precision:0.13888160151756704 \n",
      " recall:0.8700379266750948 \n",
      ", 'Validation':  best_epoch_indx:91\n",
      " auc:0.8272150204385514 \n",
      " apur:0.2304793779614786 \n",
      " f1:0.22389581862398997 \n",
      " precision:0.12985712985712985 \n",
      " recall:0.8117178612059158 \n",
      "}\n",
      "=====Epoch 92\n",
      "Training...\n",
      "{'Train':  best_epoch_indx:91\n",
      " auc:0.8656300313293019 \n",
      " apur:0.2809738897412748 \n",
      " f1:0.2423404010038398 \n",
      " precision:0.14094153566860584 \n",
      " recall:0.863771414122258 \n",
      ", 'Validation':  best_epoch_indx:91\n",
      " auc:0.8284719588758269 \n",
      " apur:0.22604239436029094 \n",
      " f1:0.2254894127047543 \n",
      " precision:0.1311704006693316 \n",
      " recall:0.8026166097838453 \n",
      "}\n",
      "=====Epoch 92\n",
      "Training...\n",
      "{'Train':  best_epoch_indx:91\n",
      " auc:0.8664435833195722 \n",
      " apur:0.28657420836970565 \n",
      " f1:0.22937944434919622 \n",
      " precision:0.13169835377057787 \n",
      " recall:0.8880460206081294 \n",
      ", 'Validation':  best_epoch_indx:91\n",
      " auc:0.8291390013875978 \n",
      " apur:0.2302962830073228 \n",
      " f1:0.21863062004114014 \n",
      " precision:0.12552724818626623 \n",
      " recall:0.8464163822525598 \n",
      "}\n",
      "=====Epoch 92\n",
      "Training...\n"
     ]
    },
    {
     "name": "stderr",
     "output_type": "stream",
     "text": [
      "Iteration:  79%|███████▉  | 794/1004 [00:18<00:05, 38.56it/s]]\n",
      "Iteration:  80%|███████▉  | 799/1004 [00:18<00:05, 39.80it/s]"
     ]
    },
    {
     "name": "stdout",
     "output_type": "stream",
     "text": [
      "Evaluating...\n"
     ]
    },
    {
     "name": "stderr",
     "output_type": "stream",
     "text": [
      "Iteration: 100%|██████████| 1004/1004 [00:23<00:00, 43.30it/s]\n",
      "Iteration:  82%|████████▏ | 819/1004 [00:18<00:04, 42.95it/s]"
     ]
    },
    {
     "name": "stdout",
     "output_type": "stream",
     "text": [
      "Evaluating...\n"
     ]
    },
    {
     "name": "stderr",
     "output_type": "stream",
     "text": [
      "Iteration: 100%|██████████| 1004/1004 [00:23<00:00, 43.36it/s]\n",
      "Iteration: 100%|██████████| 1004/1004 [00:23<00:00, 43.42it/s]\n",
      "Iteration:  22%|██▏       | 225/1004 [00:04<00:16, 47.90it/s]"
     ]
    },
    {
     "name": "stdout",
     "output_type": "stream",
     "text": [
      "Evaluating...\n",
      "Evaluating...\n",
      "Evaluating...\n"
     ]
    },
    {
     "name": "stderr",
     "output_type": "stream",
     "text": [
      "Iteration: 100%|██████████| 1004/1004 [00:23<00:00, 43.20it/s]\n",
      "Iteration:  95%|█████████▍| 952/1004 [00:19<00:00, 59.46it/s]]\n",
      "Iteration:  97%|█████████▋| 970/1004 [00:20<00:00, 53.78it/s]\n",
      "Iteration: 100%|██████████| 112/112 [00:01<00:00, 58.18it/s]s]\n",
      "Iteration:   0%|          | 4/1004 [00:00<00:27, 36.54it/s]"
     ]
    },
    {
     "name": "stdout",
     "output_type": "stream",
     "text": [
      "{'Train':  best_epoch_indx:92\n",
      " auc:0.8659862157536238 \n",
      " apur:0.2729039217198154 \n",
      " f1:0.24351769693384595 \n",
      " precision:0.14187545037753385 \n",
      " recall:0.8587231352718079 \n",
      ", 'Validation':  best_epoch_indx:92\n",
      " auc:0.8292843847485272 \n",
      " apur:0.2314927362546833 \n",
      " f1:0.2260279505614347 \n",
      " precision:0.13172017700781471 \n",
      " recall:0.7957906712172924 \n",
      "}\n",
      "=====Epoch 93\n",
      "Training...\n"
     ]
    },
    {
     "name": "stderr",
     "output_type": "stream",
     "text": [
      "\r",
      "Iteration:   1%|          | 9/1004 [00:00<00:25, 39.65it/s]\n",
      "\r",
      "Iteration:   0%|          | 0/1004 [00:00<?, ?it/s]\r",
      "Iteration:   1%|▏         | 14/1004 [00:00<00:24, 40.70it/s]\r",
      "Iteration:   0%|          | 4/1004 [00:00<00:27, 35.78it/s]"
     ]
    },
    {
     "name": "stdout",
     "output_type": "stream",
     "text": [
      "{'Train':  best_epoch_indx:92\n",
      " auc:0.8623403656794889 \n",
      " apur:0.26634634686971714 \n",
      " f1:0.2522795478297554 \n",
      " precision:0.14869401087288223 \n",
      " recall:0.8316055625790139 \n",
      ", 'Validation':  best_epoch_indx:92\n",
      " auc:0.8283701555299583 \n",
      " apur:0.23128746043103815 \n",
      " f1:0.23578219533275716 \n",
      " precision:0.13901345291479822 \n",
      " recall:0.7758816837315131 \n",
      "}\n",
      "=====Epoch 93\n",
      "Training...\n"
     ]
    },
    {
     "name": "stderr",
     "output_type": "stream",
     "text": [
      "Iteration:   8%|▊         | 79/1004 [00:01<00:20, 45.33it/s]\n",
      "Iteration:   7%|▋         | 74/1004 [00:01<00:20, 44.61it/s]\n",
      "Iteration:   9%|▉         | 89/1004 [00:02<00:20, 45.46it/s]\n",
      "Iteration:  20%|██        | 204/1004 [00:04<00:17, 45.08it/s]\n",
      "Iteration:   0%|          | 0/1004 [00:00<?, ?it/s]"
     ]
    },
    {
     "name": "stdout",
     "output_type": "stream",
     "text": [
      "{'Train':  best_epoch_indx:92\n",
      " auc:0.8585729848673775 \n",
      " apur:0.2692663425860521 \n",
      " f1:0.23459454773978242 \n",
      " precision:0.13593715468225745 \n",
      " recall:0.8554270181427397 \n",
      ", 'Validation':  best_epoch_indx:92\n",
      " auc:0.8255575532196595 \n",
      " apur:0.21579118890996268 \n",
      " f1:0.22230938186382176 \n",
      " precision:0.1289353958143767 \n",
      " recall:0.8060295790671217 \n",
      "}\n",
      "=====Epoch 93\n",
      "Training...\n",
      "{'Train':  best_epoch_indx:92\n",
      " auc:0.8613097893717635 \n",
      " apur:0.27059746156132863 \n",
      " f1:0.24471373923254042 \n",
      " precision:0.14312848082928242 \n",
      " recall:0.843109987357775 \n",
      ", 'Validation':  best_epoch_indx:92\n",
      " auc:0.8258640040811782 \n",
      " apur:0.2215395462581765 \n",
      " f1:0.23011788145442472 \n",
      " precision:0.13472006220839813 \n",
      " recall:0.78839590443686 \n",
      "}\n",
      "=====Epoch 93\n",
      "Training...\n",
      "{'Train':  best_epoch_indx:92\n",
      " auc:0.8611000546252073 \n",
      " apur:0.27050609566290745 \n",
      " f1:0.24904054413496982 \n",
      " precision:0.14654160471330033 \n",
      " recall:0.82862380681459 \n",
      ", 'Validation':  best_epoch_indx:92\n",
      " auc:0.8235808850463107 \n",
      " apur:0.2217363355050158 \n",
      " f1:0.23185191503881258 \n",
      " precision:0.1363773206221776 \n",
      " recall:0.773037542662116 \n",
      "}\n",
      "=====Epoch 93\n",
      "Training...\n"
     ]
    },
    {
     "name": "stderr",
     "output_type": "stream",
     "text": [
      "\n",
      "Iteration:  21%|██        | 209/1004 [00:04<00:17, 44.63it/s]\n",
      "Iteration: 100%|██████████| 1004/1004 [00:22<00:00, 43.73it/s]\n",
      "Iteration:  79%|███████▉  | 794/1004 [00:18<00:04, 42.18it/s]"
     ]
    },
    {
     "name": "stdout",
     "output_type": "stream",
     "text": [
      "Evaluating...\n"
     ]
    },
    {
     "name": "stderr",
     "output_type": "stream",
     "text": [
      "\r",
      "Iteration:  80%|███████▉  | 803/1004 [00:18<00:04, 43.65it/s]\r",
      "Iteration:  79%|███████▉  | 793/1004 [00:18<00:04, 42.52it/s]\r",
      "Iteration: 100%|█████████▉| 999/1004 [00:22<00:00, 44.94it/s]\r",
      "Iteration:   1%|          | 10/1004 [00:00<00:22, 43.52it/s]\r",
      "Iteration:  80%|███████▉  | 799/1004 [00:18<00:04, 42.48it/s]\r",
      "Iteration:  80%|████████  | 808/1004 [00:18<00:04, 43.22it/s]\r",
      "Iteration:  79%|███████▉  | 798/1004 [00:18<00:04, 43.14it/s]\r",
      "Iteration:   2%|▏         | 16/1004 [00:00<00:20, 47.80it/s]\r",
      "Iteration: 100%|██████████| 1004/1004 [00:23<00:00, 42.18it/s]\r",
      "Iteration: 100%|██████████| 1004/1004 [00:23<00:00, 43.63it/s]\n",
      "\r",
      "Iteration:   0%|          | 0/1004 [00:00<?, ?it/s]"
     ]
    },
    {
     "name": "stdout",
     "output_type": "stream",
     "text": [
      "Evaluating...\n"
     ]
    },
    {
     "name": "stderr",
     "output_type": "stream",
     "text": [
      "Iteration: 100%|██████████| 1004/1004 [00:23<00:00, 43.49it/s]\n",
      "Iteration:   0%|          | 0/1004 [00:00<?, ?it/s]"
     ]
    },
    {
     "name": "stdout",
     "output_type": "stream",
     "text": [
      "Evaluating...\n",
      "Evaluating...\n"
     ]
    },
    {
     "name": "stderr",
     "output_type": "stream",
     "text": [
      "\r",
      "Iteration:  23%|██▎       | 230/1004 [00:04<00:15, 49.01it/s]\r",
      "Iteration: 100%|█████████▉| 999/1004 [00:23<00:00, 43.82it/s]\r",
      "Iteration:  99%|█████████▉| 998/1004 [00:23<00:00, 44.54it/s]\r",
      "Iteration:  21%|██▏       | 214/1004 [00:04<00:17, 45.75it/s]\r",
      "Iteration:   0%|          | 4/1004 [00:00<00:28, 34.98it/s]\r",
      "Iteration:  23%|██▎       | 235/1004 [00:04<00:15, 48.82it/s]\r",
      "Iteration: 100%|█████████▉| 1003/1004 [00:23<00:00, 44.21it/s]\r",
      "Iteration: 100%|██████████| 1004/1004 [00:23<00:00, 41.00it/s]\r",
      "Iteration: 100%|██████████| 1004/1004 [00:23<00:00, 43.25it/s]\n",
      "\r",
      "Iteration:   0%|          | 0/1004 [00:00<?, ?it/s]\r",
      "Iteration:  22%|██▏       | 220/1004 [00:04<00:16, 47.43it/s]\r",
      "Iteration:   1%|          | 10/1004 [00:00<00:20, 47.53it/s]\r",
      "Iteration: 100%|██████████| 1004/1004 [00:23<00:00, 43.25it/s]\n",
      "\r",
      "Iteration:   0%|          | 0/1004 [00:00<?, ?it/s]"
     ]
    },
    {
     "name": "stdout",
     "output_type": "stream",
     "text": [
      "Evaluating...\n"
     ]
    },
    {
     "name": "stderr",
     "output_type": "stream",
     "text": [
      "Iteration:  94%|█████████▎| 941/1004 [00:19<00:01, 62.66it/s]]\n",
      "Iteration:  96%|█████████▋| 967/1004 [00:20<00:00, 51.61it/s]\n",
      "Iteration:  95%|█████████▍| 106/112 [00:01<00:00, 79.32it/s]s]\n",
      "Iteration:   0%|          | 4/1004 [00:00<00:26, 38.05it/s]]"
     ]
    },
    {
     "name": "stdout",
     "output_type": "stream",
     "text": [
      "{'Train':  best_epoch_indx:93\n",
      " auc:0.8572465580653263 \n",
      " apur:0.2651828945463056 \n",
      " f1:0.23716010745347677 \n",
      " precision:0.13792498943004755 \n",
      " recall:0.845448798988622 \n",
      ", 'Validation':  best_epoch_indx:93\n",
      " auc:0.8255624791880081 \n",
      " apur:0.22125019818181807 \n",
      " f1:0.22268370607028753 \n",
      " precision:0.12952982716967107 \n",
      " recall:0.7929465301478953 \n",
      "}\n",
      "=====Epoch 94\n",
      "Training...\n"
     ]
    },
    {
     "name": "stderr",
     "output_type": "stream",
     "text": [
      "\r",
      "Iteration:   1%|          | 9/1004 [00:00<00:24, 40.50it/s]\n",
      "\r",
      "Iteration:   0%|          | 0/1004 [00:00<?, ?it/s]\r",
      "Iteration:   1%|▏         | 14/1004 [00:00<00:24, 40.76it/s]"
     ]
    },
    {
     "name": "stdout",
     "output_type": "stream",
     "text": [
      "{'Train':  best_epoch_indx:93\n",
      " auc:0.8585435996118369 \n",
      " apur:0.26127779197849316 \n",
      " f1:0.24523552678892482 \n",
      " precision:0.1435572491067477 \n",
      " recall:0.8406447534766119 \n",
      ", 'Validation':  best_epoch_indx:93\n",
      " auc:0.8268035001975054 \n",
      " apur:0.2263499298034856 \n",
      " f1:0.23099197484901135 \n",
      " precision:0.13515345144738117 \n",
      " recall:0.7940841865756542 \n",
      "}\n",
      "=====Epoch 94\n",
      "Training...\n"
     ]
    },
    {
     "name": "stderr",
     "output_type": "stream",
     "text": [
      "Iteration:   7%|▋         | 69/1004 [00:01<00:20, 44.75it/s]\n",
      "Iteration:   6%|▋         | 7/112 [00:00<00:01, 68.79it/s]s]\n",
      "Iteration:   0%|          | 0/112 [00:00<?, ?it/s]\n",
      "Iteration:  18%|█▊        | 179/1004 [00:04<00:18, 43.49it/s]\n",
      "Iteration:   0%|          | 4/1004 [00:00<00:27, 36.27it/s]s]\n",
      "Iteration:   0%|          | 0/1004 [00:00<?, ?it/s]"
     ]
    },
    {
     "name": "stdout",
     "output_type": "stream",
     "text": [
      "{'Train':  best_epoch_indx:93\n",
      " auc:0.8573994256082635 \n",
      " apur:0.2575133648170059 \n",
      " f1:0.2270860045570737 \n",
      " precision:0.13038911345156481 \n",
      " recall:0.8788242730720607 \n",
      ", 'Validation':  best_epoch_indx:93\n",
      " auc:0.8192107346128003 \n",
      " apur:0.21584158643870238 \n",
      " f1:0.21389423789068288 \n",
      " precision:0.12295640326975477 \n",
      " recall:0.8213879408418657 \n",
      "}\n",
      "=====Epoch 94\n",
      "Training...\n",
      "{'Train':  best_epoch_indx:93\n",
      " auc:0.8592970156741334 \n",
      " apur:0.2694199973104811 \n",
      " f1:0.23716696308886534 \n",
      " precision:0.1376627339300244 \n",
      " recall:0.8556166635059106 \n",
      ", 'Validation':  best_epoch_indx:93\n",
      " auc:0.82881523336959 \n",
      " apur:0.21994306222555782 \n",
      " f1:0.22658298244220226 \n",
      " precision:0.13168344260781237 \n",
      " recall:0.8111490329920364 \n",
      "}\n",
      "=====Epoch 94\n",
      "Training...\n"
     ]
    },
    {
     "name": "stderr",
     "output_type": "stream",
     "text": [
      "\r",
      "Iteration:  20%|██        | 204/1004 [00:04<00:17, 44.74it/s]\r",
      "Iteration:  19%|█▉        | 189/1004 [00:04<00:18, 43.98it/s]\n",
      "\r",
      "Iteration:   0%|          | 0/1004 [00:00<?, ?it/s]\r",
      "Iteration:   1%|          | 9/1004 [00:00<00:25, 38.74it/s]\r",
      "Iteration:   0%|          | 4/1004 [00:00<00:28, 35.50it/s]\r",
      "Iteration:  21%|██        | 209/1004 [00:04<00:17, 44.90it/s]\r",
      "Iteration:  19%|█▉        | 194/1004 [00:04<00:18, 43.76it/s]\r",
      "Iteration:   0%|          | 4/1004 [00:00<00:28, 35.17it/s]\r",
      "Iteration:   1%|▏         | 14/1004 [00:00<00:24, 41.13it/s]"
     ]
    },
    {
     "name": "stdout",
     "output_type": "stream",
     "text": [
      "{'Train':  best_epoch_indx:93\n",
      " auc:0.8544715859030718 \n",
      " apur:0.2647627172354101 \n",
      " f1:0.244398379346085 \n",
      " precision:0.1436037691975507 \n",
      " recall:0.819836904987673 \n",
      ", 'Validation':  best_epoch_indx:93\n",
      " auc:0.8229980236548409 \n",
      " apur:0.21277291856544323 \n",
      " f1:0.23181005871840699 \n",
      " precision:0.13629540678474933 \n",
      " recall:0.7747440273037542 \n",
      "}\n",
      "=====Epoch 94\n",
      "Training...\n"
     ]
    },
    {
     "name": "stderr",
     "output_type": "stream",
     "text": [
      "Iteration: 100%|██████████| 1004/1004 [00:23<00:00, 43.64it/s]\n",
      "Iteration:   1%|          | 6/1004 [00:00<00:19, 51.40it/s]s]"
     ]
    },
    {
     "name": "stdout",
     "output_type": "stream",
     "text": [
      "Evaluating...\n"
     ]
    },
    {
     "name": "stderr",
     "output_type": "stream",
     "text": [
      "Iteration: 100%|██████████| 1004/1004 [00:23<00:00, 43.46it/s]\n",
      "Iteration:   3%|▎         | 27/1004 [00:00<00:20, 46.54it/s]]"
     ]
    },
    {
     "name": "stdout",
     "output_type": "stream",
     "text": [
      "Evaluating...\n"
     ]
    },
    {
     "name": "stderr",
     "output_type": "stream",
     "text": [
      "Iteration: 100%|██████████| 1004/1004 [00:23<00:00, 43.19it/s]\n",
      "Iteration: 100%|██████████| 1004/1004 [00:23<00:00, 43.33it/s]\n",
      "Iteration:   0%|          | 4/1004 [00:00<00:27, 36.12it/s]"
     ]
    },
    {
     "name": "stdout",
     "output_type": "stream",
     "text": [
      "Evaluating...\n",
      "Evaluating...\n"
     ]
    },
    {
     "name": "stderr",
     "output_type": "stream",
     "text": [
      "\r",
      "Iteration:  22%|██▏       | 220/1004 [00:04<00:16, 48.84it/s]\r",
      "Iteration:   0%|          | 5/1004 [00:00<00:21, 45.73it/s]\r",
      "Iteration: 100%|██████████| 1004/1004 [00:23<00:00, 40.97it/s]\r",
      "Iteration: 100%|██████████| 1004/1004 [00:23<00:00, 43.23it/s]\n",
      "\r",
      "Iteration:   0%|          | 0/1004 [00:00<?, ?it/s]\r",
      "Iteration:  24%|██▍       | 244/1004 [00:04<00:16, 47.38it/s]\r",
      "Iteration:   1%|          | 9/1004 [00:00<00:23, 41.74it/s]\r",
      "Iteration:  23%|██▎       | 226/1004 [00:04<00:15, 49.99it/s]\r",
      "Iteration:   0%|          | 4/1004 [00:00<00:25, 38.82it/s]\r",
      "Iteration:   1%|          | 11/1004 [00:00<00:19, 49.97it/s]\r",
      "Iteration:  25%|██▍       | 249/1004 [00:05<00:16, 46.60it/s]\r",
      "Iteration:   1%|▏         | 14/1004 [00:00<00:22, 44.84it/s]"
     ]
    },
    {
     "name": "stdout",
     "output_type": "stream",
     "text": [
      "Evaluating...\n"
     ]
    },
    {
     "name": "stderr",
     "output_type": "stream",
     "text": [
      "Iteration:  96%|█████████▌| 959/1004 [00:19<00:00, 59.80it/s]]\n",
      "Iteration:  96%|█████████▌| 966/1004 [00:19<00:00, 57.06it/s]\n",
      "Iteration: 100%|██████████| 112/112 [00:01<00:00, 60.24it/s]s]\n",
      "Iteration:   0%|          | 4/1004 [00:00<00:26, 37.54it/s]\n",
      "Iteration:   0%|          | 0/1004 [00:00<?, ?it/s]"
     ]
    },
    {
     "name": "stdout",
     "output_type": "stream",
     "text": [
      "{'Train':  best_epoch_indx:94\n",
      " auc:0.8516368952662949 \n",
      " apur:0.2515445984342205 \n",
      " f1:0.25531295790162845 \n",
      " precision:0.15277276854005248 \n",
      " recall:0.7764854614412137 \n",
      ", 'Validation':  best_epoch_indx:94\n",
      " auc:0.820805258902795 \n",
      " apur:0.21246434367325634 \n",
      " f1:0.23875562218890556 \n",
      " precision:0.14292124747588064 \n",
      " recall:0.7246871444823664 \n",
      "}\n",
      "=====Epoch 95\n",
      "Training...\n",
      "{'Train':  best_epoch_indx:94\n",
      " auc:0.8496976455282297 \n",
      " apur:0.24758447159859903 \n",
      " f1:0.2398652051683562 \n",
      " precision:0.14025036676911215 \n",
      " recall:0.8278761061946903 \n",
      ", 'Validation':  best_epoch_indx:94\n",
      " auc:0.8204444698549042 \n",
      " apur:0.221141583642797 \n",
      " f1:0.22692466035405517 \n",
      " precision:0.13266583229036297 \n",
      " recall:0.7838452787258248 \n",
      "}\n",
      "=====Epoch 95\n",
      "Training...\n"
     ]
    },
    {
     "name": "stderr",
     "output_type": "stream",
     "text": [
      "Iteration:   6%|▌         | 58/1004 [00:01<00:21, 44.37it/s]\n",
      "Iteration:   7%|▋         | 68/1004 [00:01<00:21, 44.50it/s]\n",
      "Iteration:   0%|          | 0/112 [00:00<?, ?it/s]\n",
      "Iteration: 100%|██████████| 112/112 [00:02<00:00, 46.65it/s]]\n",
      "Iteration:  18%|█▊        | 184/1004 [00:04<00:18, 44.25it/s]"
     ]
    },
    {
     "name": "stdout",
     "output_type": "stream",
     "text": [
      "{'Train':  best_epoch_indx:94\n",
      " auc:0.8519092342963841 \n",
      " apur:0.2500897408408893 \n",
      " f1:0.2509242695289207 \n",
      " precision:0.1488679245283019 \n",
      " recall:0.7979772439949431 \n",
      ", 'Validation':  best_epoch_indx:94\n",
      " auc:0.8170761483284619 \n",
      " apur:0.20393757357501752 \n",
      " f1:0.23322884012539186 \n",
      " precision:0.13840756883172106 \n",
      " recall:0.7406143344709898 \n",
      "}\n",
      "=====Epoch 95\n",
      "Training...\n"
     ]
    },
    {
     "name": "stderr",
     "output_type": "stream",
     "text": [
      "\r",
      "Iteration:   0%|          | 4/1004 [00:00<00:29, 33.34it/s]\r",
      "Iteration:  18%|█▊        | 183/1004 [00:04<00:18, 44.77it/s]\r",
      "Iteration:  19%|█▉        | 189/1004 [00:04<00:18, 44.59it/s]\r",
      "Iteration:   1%|          | 9/1004 [00:00<00:26, 37.89it/s]\r",
      "Iteration:  19%|█▊        | 188/1004 [00:04<00:18, 44.95it/s]\n",
      "\r",
      "Iteration:   0%|          | 0/1004 [00:00<?, ?it/s]\n",
      "\r",
      "Iteration:   0%|          | 0/1004 [00:00<?, ?it/s]\r",
      "Iteration:  19%|█▉        | 194/1004 [00:04<00:18, 44.37it/s]"
     ]
    },
    {
     "name": "stdout",
     "output_type": "stream",
     "text": [
      "{'Train':  best_epoch_indx:94\n",
      " auc:0.849016602543591 \n",
      " apur:0.2455375536010492 \n",
      " f1:0.24019876978624805 \n",
      " precision:0.1408306235132363 \n",
      " recall:0.8158543523610847 \n",
      ", 'Validation':  best_epoch_indx:94\n",
      " auc:0.8207104631731016 \n",
      " apur:0.21616055883915533 \n",
      " f1:0.22672268907563026 \n",
      " precision:0.13301124038651155 \n",
      " recall:0.767349260523322 \n",
      "}\n",
      "=====Epoch 95\n",
      "Training...\n",
      "{'Train':  best_epoch_indx:94\n",
      " auc:0.8520714636958576 \n",
      " apur:0.2525769333681278 \n",
      " f1:0.2252357712853657 \n",
      " precision:0.12950656491444282 \n",
      " recall:0.8635817687590872 \n",
      ", 'Validation':  best_epoch_indx:94\n",
      " auc:0.8236799248252368 \n",
      " apur:0.20171051907874937 \n",
      " f1:0.21693003932042437 \n",
      " precision:0.12473338452350483 \n",
      " recall:0.8316268486916951 \n",
      "}\n",
      "=====Epoch 95\n",
      "Training...\n"
     ]
    },
    {
     "name": "stderr",
     "output_type": "stream",
     "text": [
      "Iteration: 100%|██████████| 1004/1004 [00:23<00:00, 43.63it/s]\n",
      "Iteration:  99%|█████████▉| 998/1004 [00:22<00:00, 42.24it/s]"
     ]
    },
    {
     "name": "stdout",
     "output_type": "stream",
     "text": [
      "Evaluating...\n",
      "Evaluating...\n"
     ]
    },
    {
     "name": "stderr",
     "output_type": "stream",
     "text": [
      "Iteration: 100%|██████████| 1004/1004 [00:23<00:00, 43.56it/s]\n",
      "Iteration: 100%|██████████| 1004/1004 [00:23<00:00, 43.18it/s]\n",
      "Iteration:  22%|██▏       | 224/1004 [00:04<00:16, 46.85it/s]"
     ]
    },
    {
     "name": "stdout",
     "output_type": "stream",
     "text": [
      "Evaluating...\n"
     ]
    },
    {
     "name": "stderr",
     "output_type": "stream",
     "text": [
      "\r",
      "Iteration:   1%|          | 10/1004 [00:00<00:20, 47.65it/s]\r",
      "Iteration:  99%|█████████▉| 998/1004 [00:23<00:00, 41.10it/s]\r",
      "Iteration:  22%|██▏       | 223/1004 [00:04<00:16, 47.40it/s]\r",
      "Iteration: 100%|█████████▉| 1003/1004 [00:23<00:00, 40.76it/s]\r",
      "Iteration: 100%|██████████| 1004/1004 [00:23<00:00, 43.17it/s]\n",
      "\r",
      "Iteration:   0%|          | 0/1004 [00:00<?, ?it/s]\r",
      "Iteration: 100%|█████████▉| 1003/1004 [00:23<00:00, 42.03it/s]\r",
      "Iteration:   2%|▏         | 16/1004 [00:00<00:20, 48.81it/s]\r",
      "Iteration:  23%|██▎       | 228/1004 [00:04<00:16, 45.85it/s]\r",
      "Iteration:  23%|██▎       | 230/1004 [00:04<00:20, 37.32it/s]\r",
      "Iteration: 100%|██████████| 1004/1004 [00:23<00:00, 43.00it/s]\n",
      "\r",
      "Iteration:   0%|          | 0/1004 [00:00<?, ?it/s]\r",
      "Iteration:   0%|          | 4/1004 [00:00<00:25, 38.83it/s]"
     ]
    },
    {
     "name": "stdout",
     "output_type": "stream",
     "text": [
      "Evaluating...\n",
      "Evaluating...\n"
     ]
    },
    {
     "name": "stderr",
     "output_type": "stream",
     "text": [
      "Iteration:  95%|█████████▍| 949/1004 [00:19<00:00, 63.18it/s]]\n",
      "Iteration:   6%|▋         | 7/112 [00:00<00:01, 60.89it/s]/s]\n",
      "Iteration: 100%|██████████| 112/112 [00:01<00:00, 63.86it/s]s]\n",
      "Iteration:   0%|          | 0/1004 [00:00<?, ?it/s]\n",
      "Iteration:   0%|          | 4/1004 [00:00<00:27, 35.90it/s]"
     ]
    },
    {
     "name": "stdout",
     "output_type": "stream",
     "text": [
      "{'Train':  best_epoch_indx:95\n",
      " auc:0.8539361722187685 \n",
      " apur:0.2467405518536431 \n",
      " f1:0.24581508538632507 \n",
      " precision:0.14431854470174976 \n",
      " recall:0.8284450063211125 \n",
      ", 'Validation':  best_epoch_indx:95\n",
      " auc:0.8257613573090352 \n",
      " apur:0.21934903451955326 \n",
      " f1:0.23422659430122114 \n",
      " precision:0.13763205102650986 \n",
      " recall:0.785551763367463 \n",
      "}\n",
      "=====Epoch 96\n",
      "Training...\n",
      "{'Train':  best_epoch_indx:95\n",
      " auc:0.8591446873904912 \n",
      " apur:0.2688169105659173 \n",
      " f1:0.23521909287860787 \n",
      " precision:0.1364696103474841 \n",
      " recall:0.8510113780025285 \n",
      ", 'Validation':  best_epoch_indx:95\n",
      " auc:0.8264153715766495 \n",
      " apur:0.22322604714551397 \n",
      " f1:0.22253787878787876 \n",
      " precision:0.12919186366135238 \n",
      " recall:0.8020477815699659 \n",
      "}\n",
      "=====Epoch 96\n",
      "Training...\n"
     ]
    },
    {
     "name": "stderr",
     "output_type": "stream",
     "text": [
      "Iteration:   7%|▋         | 69/1004 [00:01<00:20, 44.94it/s]\n",
      "Iteration:   7%|▋         | 74/1004 [00:01<00:20, 44.90it/s]\n",
      "Iteration:  17%|█▋        | 19/112 [00:00<00:01, 54.32it/s]]\n",
      "Iteration: 100%|██████████| 112/112 [00:02<00:00, 50.28it/s]]"
     ]
    },
    {
     "name": "stdout",
     "output_type": "stream",
     "text": [
      "{'Train':  best_epoch_indx:95\n",
      " auc:0.8537310887556379 \n",
      " apur:0.25017465772153374 \n",
      " f1:0.24597755130794155 \n",
      " precision:0.14445363781786089 \n",
      " recall:0.8276864728192161 \n",
      ", 'Validation':  best_epoch_indx:95\n",
      " auc:0.8191134444947628 \n",
      " apur:0.21143016672911627 \n",
      " f1:0.23222950540563544 \n",
      " precision:0.13655020522574832 \n",
      " recall:0.7758816837315131 \n",
      "}\n",
      "=====Epoch 96\n",
      "Training...\n",
      "{'Train':  best_epoch_indx:95\n",
      " auc:0.8570688517322179 \n",
      " apur:0.2676519907686146 \n",
      " f1:0.23607670830014618 \n",
      " precision:0.1370082899869961 \n",
      " recall:0.8525191225741198 \n",
      ", 'Validation':  best_epoch_indx:95\n",
      " auc:0.8270352001622824 \n",
      " apur:0.2209776125789078 \n",
      " f1:0.22330785596091718 \n",
      " precision:0.12960760998810938 \n",
      " recall:0.8060295790671217 \n",
      "}\n",
      "=====Epoch 96\n",
      "Training...\n"
     ]
    },
    {
     "name": "stderr",
     "output_type": "stream",
     "text": [
      "\n",
      "Iteration:  18%|█▊        | 184/1004 [00:04<00:18, 45.02it/s]\n",
      "Iteration:   1%|          | 9/1004 [00:00<00:24, 39.85it/s]s]\n",
      "Iteration:   0%|          | 4/1004 [00:00<00:28, 35.14it/s]]]"
     ]
    },
    {
     "name": "stdout",
     "output_type": "stream",
     "text": [
      "{'Train':  best_epoch_indx:95\n",
      " auc:0.8555055930827917 \n",
      " apur:0.26074273623001887 \n",
      " f1:0.2381619701337999 \n",
      " precision:0.1386596545201322 \n",
      " recall:0.843352930020861 \n",
      ", 'Validation':  best_epoch_indx:95\n",
      " auc:0.8248619059955118 \n",
      " apur:0.21157496501168882 \n",
      " f1:0.22521223770623097 \n",
      " precision:0.13105891126025354 \n",
      " recall:0.7997724687144482 \n",
      "}\n",
      "=====Epoch 96\n",
      "Training...\n"
     ]
    },
    {
     "name": "stderr",
     "output_type": "stream",
     "text": [
      "Iteration: 100%|██████████| 1004/1004 [00:22<00:00, 43.95it/s]\n",
      "Iteration: 100%|██████████| 1004/1004 [00:22<00:00, 43.73it/s]\n",
      "Iteration:  81%|████████  | 814/1004 [00:18<00:04, 44.25it/s]"
     ]
    },
    {
     "name": "stdout",
     "output_type": "stream",
     "text": [
      "Evaluating...\n",
      "Evaluating...\n"
     ]
    },
    {
     "name": "stderr",
     "output_type": "stream",
     "text": [
      "Iteration: 100%|██████████| 1004/1004 [00:23<00:00, 43.61it/s]\n",
      "Iteration: 100%|██████████| 1004/1004 [00:23<00:00, 43.25it/s]\n",
      "Iteration:   0%|          | 0/1004 [00:00<?, ?it/s]"
     ]
    },
    {
     "name": "stdout",
     "output_type": "stream",
     "text": [
      "Evaluating...\n",
      "Evaluating...\n"
     ]
    },
    {
     "name": "stderr",
     "output_type": "stream",
     "text": [
      "\r",
      "Iteration:  22%|██▏       | 223/1004 [00:04<00:14, 53.11it/s]\r",
      "Iteration:  23%|██▎       | 230/1004 [00:04<00:14, 52.17it/s]\r",
      "Iteration:   0%|          | 4/1004 [00:00<00:57, 17.29it/s]\r",
      "Iteration: 100%|██████████| 1004/1004 [00:23<00:00, 41.53it/s]\r",
      "Iteration: 100%|██████████| 1004/1004 [00:23<00:00, 43.59it/s]\n",
      "\r",
      "Iteration:   0%|          | 0/1004 [00:00<?, ?it/s]\r",
      "Iteration:  23%|██▎       | 229/1004 [00:04<00:14, 53.05it/s]\r",
      "Iteration:  24%|██▎       | 236/1004 [00:04<00:14, 51.75it/s]\r",
      "Iteration:   1%|          | 11/1004 [00:00<00:28, 35.25it/s]"
     ]
    },
    {
     "name": "stdout",
     "output_type": "stream",
     "text": [
      "Evaluating...\n"
     ]
    },
    {
     "name": "stderr",
     "output_type": "stream",
     "text": [
      "Iteration:  95%|█████████▌| 955/1004 [00:19<00:00, 63.18it/s]]\n",
      "Iteration:  12%|█▎        | 14/112 [00:00<00:01, 56.84it/s]s]\n",
      "Iteration: 100%|██████████| 112/112 [00:01<00:00, 62.05it/s]s]\n",
      "Iteration:   0%|          | 4/1004 [00:00<00:28, 35.11it/s]\n",
      "Iteration:   0%|          | 0/1004 [00:00<?, ?it/s]"
     ]
    },
    {
     "name": "stdout",
     "output_type": "stream",
     "text": [
      "{'Train':  best_epoch_indx:96\n",
      " auc:0.858806244689706 \n",
      " apur:0.26418822355283555 \n",
      " f1:0.2498615804647078 \n",
      " precision:0.14715406930982528 \n",
      " recall:0.82724399494311 \n",
      ", 'Validation':  best_epoch_indx:96\n",
      " auc:0.8251492990122725 \n",
      " apur:0.21600786004902553 \n",
      " f1:0.23473693274778265 \n",
      " precision:0.13830542871638762 \n",
      " recall:0.7753128555176336 \n",
      "}\n",
      "=====Epoch 97\n",
      "Training...\n",
      "{'Train':  best_epoch_indx:96\n",
      " auc:0.8613753436838343 \n",
      " apur:0.27039280527100795 \n",
      " f1:0.2364767337961372 \n",
      " precision:0.13683729069721196 \n",
      " recall:0.8699115044247787 \n",
      ", 'Validation':  best_epoch_indx:96\n",
      " auc:0.8260921419158381 \n",
      " apur:0.22761131595197984 \n",
      " f1:0.22210200927357035 \n",
      " precision:0.12851010552673942 \n",
      " recall:0.8174061433447098 \n",
      "}\n",
      "=====Epoch 97\n",
      "Training...\n"
     ]
    },
    {
     "name": "stderr",
     "output_type": "stream",
     "text": [
      "Iteration:   7%|▋         | 69/1004 [00:01<00:20, 44.85it/s]\n",
      "Iteration:   7%|▋         | 74/1004 [00:01<00:20, 44.76it/s]\n",
      "Iteration:   7%|▋         | 68/1004 [00:01<00:21, 44.44it/s]\n",
      "Iteration:  17%|█▋        | 173/1004 [00:04<00:18, 45.03it/s]\n",
      "Iteration:   0%|          | 0/1004 [00:00<?, ?it/s]"
     ]
    },
    {
     "name": "stdout",
     "output_type": "stream",
     "text": [
      "{'Train':  best_epoch_indx:96\n",
      " auc:0.8605270777901273 \n",
      " apur:0.27138746297916305 \n",
      " f1:0.2298348393075828 \n",
      " precision:0.13222511020345987 \n",
      " recall:0.8779316012390164 \n",
      ", 'Validation':  best_epoch_indx:96\n",
      " auc:0.8278387700590996 \n",
      " apur:0.21661746102440751 \n",
      " f1:0.2182468694096601 \n",
      " precision:0.12557900154400412 \n",
      " recall:0.8327645051194539 \n",
      "}\n",
      "=====Epoch 97\n",
      "Training...\n",
      "{'Train':  best_epoch_indx:96\n",
      " auc:0.8576441249339727 \n",
      " apur:0.2611625485528455 \n",
      " f1:0.24731764237128953 \n",
      " precision:0.14549290115188857 \n",
      " recall:0.8240091029774322 \n",
      ", 'Validation':  best_epoch_indx:96\n",
      " auc:0.8264023164146329 \n",
      " apur:0.21787411526297829 \n",
      " f1:0.23484135807748224 \n",
      " precision:0.13819828887770508 \n",
      " recall:0.7810011376564278 \n",
      "}\n",
      "=====Epoch 97\n",
      "Training...\n"
     ]
    },
    {
     "name": "stderr",
     "output_type": "stream",
     "text": [
      "\r",
      "Iteration:  18%|█▊        | 184/1004 [00:04<00:18, 44.93it/s]\r",
      "Iteration:  18%|█▊        | 178/1004 [00:04<00:18, 45.08it/s]\n",
      "\r",
      "Iteration:   0%|          | 0/1004 [00:00<?, ?it/s]\r",
      "Iteration:   0%|          | 4/1004 [00:00<00:26, 37.59it/s]\r",
      "Iteration:  19%|█▉        | 189/1004 [00:04<00:18, 45.06it/s]\r",
      "Iteration:  18%|█▊        | 183/1004 [00:04<00:18, 44.69it/s]\r",
      "Iteration:   0%|          | 4/1004 [00:00<00:27, 36.07it/s]\n",
      "\r",
      "Iteration:   0%|          | 0/1004 [00:00<?, ?it/s]\r",
      "Iteration:   1%|          | 9/1004 [00:00<00:24, 40.00it/s]"
     ]
    },
    {
     "name": "stdout",
     "output_type": "stream",
     "text": [
      "{'Train':  best_epoch_indx:96\n",
      " auc:0.8612820205575884 \n",
      " apur:0.26777089107413704 \n",
      " f1:0.2466495870367459 \n",
      " precision:0.14446214017182912 \n",
      " recall:0.8428571428571429 \n",
      ", 'Validation':  best_epoch_indx:96\n",
      " auc:0.8217485504373577 \n",
      " apur:0.2221445757758689 \n",
      " f1:0.22872384762857378 \n",
      " precision:0.13399746068952045 \n",
      " recall:0.7804323094425484 \n",
      "}\n",
      "=====Epoch 97\n",
      "Training...\n"
     ]
    },
    {
     "name": "stderr",
     "output_type": "stream",
     "text": [
      "Iteration: 100%|██████████| 1004/1004 [00:23<00:00, 43.54it/s]\n",
      "Iteration: 100%|██████████| 1004/1004 [00:23<00:00, 43.54it/s]\n",
      "Iteration:   0%|          | 0/1004 [00:00<?, ?it/s]"
     ]
    },
    {
     "name": "stdout",
     "output_type": "stream",
     "text": [
      "Evaluating...\n",
      "Evaluating...\n"
     ]
    },
    {
     "name": "stderr",
     "output_type": "stream",
     "text": [
      "Iteration: 100%|██████████| 1004/1004 [00:23<00:00, 43.51it/s]\n",
      "Iteration:   0%|          | 4/1004 [00:00<00:26, 37.17it/s]s]"
     ]
    },
    {
     "name": "stdout",
     "output_type": "stream",
     "text": [
      "Evaluating...\n"
     ]
    },
    {
     "name": "stderr",
     "output_type": "stream",
     "text": [
      "\r",
      "Iteration: 100%|█████████▉| 1003/1004 [00:23<00:00, 43.83it/s]\r",
      "Iteration:  22%|██▏       | 224/1004 [00:04<00:15, 48.95it/s]\r",
      "Iteration: 100%|█████████▉| 999/1004 [00:23<00:00, 44.17it/s]\r",
      "Iteration:  22%|██▏       | 218/1004 [00:04<00:15, 49.87it/s]\r",
      "Iteration: 100%|██████████| 1004/1004 [00:23<00:00, 43.28it/s]\n",
      "\r",
      "Iteration:   0%|          | 0/1004 [00:00<?, ?it/s]\r",
      "Iteration:   1%|          | 10/1004 [00:00<00:21, 45.29it/s]\r",
      "Iteration:  23%|██▎       | 230/1004 [00:04<00:15, 50.11it/s]\r",
      "Iteration:   0%|          | 4/1004 [00:00<00:27, 36.14it/s]\r",
      "Iteration:  22%|██▏       | 224/1004 [00:04<00:16, 47.93it/s]\r",
      "Iteration:   2%|▏         | 16/1004 [00:00<00:19, 49.96it/s]\r",
      "Iteration: 100%|██████████| 1004/1004 [00:23<00:00, 39.79it/s]\r",
      "Iteration: 100%|██████████| 1004/1004 [00:23<00:00, 43.27it/s]\n",
      "\r",
      "Iteration:   0%|          | 0/1004 [00:00<?, ?it/s]"
     ]
    },
    {
     "name": "stdout",
     "output_type": "stream",
     "text": [
      "Evaluating...\n",
      "Evaluating...\n"
     ]
    },
    {
     "name": "stderr",
     "output_type": "stream",
     "text": [
      "Iteration:  96%|█████████▌| 962/1004 [00:19<00:00, 57.96it/s]]\n",
      "Iteration:  98%|█████████▊| 982/1004 [00:19<00:00, 58.47it/s]\n",
      "Iteration: 100%|██████████| 112/112 [00:01<00:00, 61.47it/s]s]\n",
      "Iteration:   0%|          | 0/1004 [00:00<?, ?it/s]\n",
      "Iteration:   0%|          | 4/1004 [00:00<00:29, 34.43it/s]"
     ]
    },
    {
     "name": "stdout",
     "output_type": "stream",
     "text": [
      "{'Train':  best_epoch_indx:97\n",
      " auc:0.8673645530888697 \n",
      " apur:0.28088387223311106 \n",
      " f1:0.25156852940343993 \n",
      " precision:0.14785241374721364 \n",
      " recall:0.8427307206068269 \n",
      ", 'Validation':  best_epoch_indx:97\n",
      " auc:0.8314211065164119 \n",
      " apur:0.22831478834593016 \n",
      " f1:0.2357473035439137 \n",
      " precision:0.13875453446191052 \n",
      " recall:0.7832764505119454 \n",
      "}\n",
      "=====Epoch 98\n",
      "Training...\n",
      "{'Train':  best_epoch_indx:97\n",
      " auc:0.8654606109548297 \n",
      " apur:0.27175821464114075 \n",
      " f1:0.25111939949708817 \n",
      " precision:0.1473501760698575 \n",
      " recall:0.8490518331226296 \n",
      ", 'Validation':  best_epoch_indx:97\n",
      " auc:0.8316942869031836 \n",
      " apur:0.23569266889208174 \n",
      " f1:0.2379377596879505 \n",
      " precision:0.13981066268061784 \n",
      " recall:0.79806598407281 \n",
      "}\n",
      "=====Epoch 98\n",
      "Training...\n"
     ]
    },
    {
     "name": "stderr",
     "output_type": "stream",
     "text": [
      "Iteration:   5%|▌         | 54/1004 [00:01<00:21, 44.41it/s]\n",
      "Iteration:   6%|▋         | 7/112 [00:00<00:01, 60.42it/s]s]\n",
      "Iteration:   6%|▋         | 64/1004 [00:01<00:20, 45.04it/s]\n",
      "Iteration:  17%|█▋        | 174/1004 [00:03<00:18, 44.71it/s]\n",
      "Iteration:  18%|█▊        | 179/1004 [00:04<00:18, 44.64it/s]\n",
      "Iteration:  18%|█▊        | 184/1004 [00:04<00:18, 45.00it/s]\n",
      "Iteration:  18%|█▊        | 184/1004 [00:04<00:18, 43.18it/s]"
     ]
    },
    {
     "name": "stdout",
     "output_type": "stream",
     "text": [
      "{'Train':  best_epoch_indx:97\n",
      " auc:0.8641079797533381 \n",
      " apur:0.2754424505451387 \n",
      " f1:0.2523796206108416 \n",
      " precision:0.1489063886929012 \n",
      " recall:0.8271698590302801 \n",
      ", 'Validation':  best_epoch_indx:97\n",
      " auc:0.8308341356650086 \n",
      " apur:0.22626700874459324 \n",
      " f1:0.2383258388101003 \n",
      " precision:0.14052620844380992 \n",
      " recall:0.7838452787258248 \n",
      "}\n",
      "=====Epoch 98\n",
      "Training...\n",
      "{'Train':  best_epoch_indx:97\n",
      " auc:0.8659097341306772 \n",
      " apur:0.2826021921030393 \n",
      " f1:0.24164172875245307 \n",
      " precision:0.14056656404322582 \n",
      " recall:0.8601049371009546 \n",
      ", 'Validation':  best_epoch_indx:97\n",
      " auc:0.8306525926457103 \n",
      " apur:0.224643496812846 \n",
      " f1:0.22945314998401023 \n",
      " precision:0.13348837209302325 \n",
      " recall:0.8162684869169511 \n",
      "}\n",
      "=====Epoch 98\n",
      "Training...\n",
      "{'Train':  best_epoch_indx:97\n",
      " auc:0.8649214595410599 \n",
      " apur:0.2799966066987122 \n",
      " f1:0.2493064407287996 \n",
      " precision:0.14635327259122322 \n",
      " recall:0.8407079646017699 \n",
      ", 'Validation':  best_epoch_indx:97\n",
      " auc:0.8272311173187286 \n",
      " apur:0.22652551827075723 \n",
      " f1:0.23092539333446113 \n",
      " precision:0.13563195548489665 \n",
      " recall:0.7764505119453925 \n",
      "}\n",
      "=====Epoch 98\n",
      "Training...\n"
     ]
    },
    {
     "name": "stderr",
     "output_type": "stream",
     "text": [
      "Iteration: 100%|██████████| 1004/1004 [00:22<00:00, 44.12it/s]\n",
      "Iteration:   0%|          | 0/1004 [00:00<?, ?it/s]"
     ]
    },
    {
     "name": "stdout",
     "output_type": "stream",
     "text": [
      "Evaluating...\n"
     ]
    },
    {
     "name": "stderr",
     "output_type": "stream",
     "text": [
      "\r",
      "Iteration:  81%|████████  | 814/1004 [00:18<00:04, 43.61it/s]\r",
      "Iteration:  81%|████████  | 809/1004 [00:18<00:04, 43.56it/s]\r",
      "Iteration:  82%|████████▏ | 819/1004 [00:18<00:04, 44.06it/s]\r",
      "Iteration: 100%|█████████▉| 999/1004 [00:22<00:00, 43.54it/s]\r",
      "Iteration:   0%|          | 5/1004 [00:00<00:23, 42.57it/s]\r",
      "Iteration:  82%|████████▏ | 819/1004 [00:18<00:04, 44.20it/s]\r",
      "Iteration:  81%|████████  | 814/1004 [00:18<00:04, 44.18it/s]\r",
      "Iteration:  82%|████████▏ | 824/1004 [00:18<00:04, 43.90it/s]\r",
      "Iteration:   1%|          | 11/1004 [00:00<00:19, 50.45it/s]\r",
      "Iteration: 100%|██████████| 1004/1004 [00:22<00:00, 41.35it/s]\r",
      "Iteration: 100%|██████████| 1004/1004 [00:22<00:00, 43.75it/s]\n",
      "\r",
      "Iteration:   0%|          | 0/1004 [00:00<?, ?it/s]"
     ]
    },
    {
     "name": "stdout",
     "output_type": "stream",
     "text": [
      "Evaluating...\n"
     ]
    },
    {
     "name": "stderr",
     "output_type": "stream",
     "text": [
      "Iteration: 100%|██████████| 1004/1004 [00:22<00:00, 43.86it/s]\n",
      "Iteration:   0%|          | 0/1004 [00:00<?, ?it/s]"
     ]
    },
    {
     "name": "stdout",
     "output_type": "stream",
     "text": [
      "Evaluating...\n",
      "Evaluating...\n"
     ]
    },
    {
     "name": "stderr",
     "output_type": "stream",
     "text": [
      "\r",
      "Iteration:  21%|██        | 213/1004 [00:04<00:17, 45.49it/s]\r",
      "Iteration: 100%|█████████▉| 999/1004 [00:22<00:00, 43.51it/s]\r",
      "Iteration:  20%|█▉        | 200/1004 [00:04<00:15, 50.53it/s]\r",
      "Iteration:   0%|          | 4/1004 [00:00<00:26, 37.52it/s]\r",
      "Iteration: 100%|██████████| 1004/1004 [00:23<00:00, 41.16it/s]\r",
      "Iteration: 100%|██████████| 1004/1004 [00:23<00:00, 43.45it/s]\n",
      "\r",
      "Iteration:   0%|          | 0/1004 [00:00<?, ?it/s]\r",
      "Iteration:  22%|██▏       | 220/1004 [00:04<00:15, 50.84it/s]\r",
      "Iteration:   1%|          | 10/1004 [00:00<00:20, 49.11it/s]\r",
      "Iteration: 100%|██████████| 1004/1004 [00:23<00:00, 39.95it/s]\r",
      "Iteration: 100%|██████████| 1004/1004 [00:23<00:00, 43.53it/s]\n",
      "\r",
      "Iteration:   0%|          | 0/1004 [00:00<?, ?it/s]\r",
      "Iteration:  21%|██        | 206/1004 [00:04<00:17, 45.84it/s]\r",
      "Iteration:   0%|          | 5/1004 [00:00<00:24, 40.85it/s]"
     ]
    },
    {
     "name": "stdout",
     "output_type": "stream",
     "text": [
      "Evaluating...\n"
     ]
    },
    {
     "name": "stderr",
     "output_type": "stream",
     "text": [
      "Iteration:  97%|█████████▋| 974/1004 [00:20<00:00, 64.73it/s]]\n",
      "Iteration:  12%|█▎        | 14/112 [00:00<00:01, 59.68it/s]s]\n",
      "Iteration: 100%|██████████| 112/112 [00:01<00:00, 68.90it/s]s]\n",
      "Iteration:   0%|          | 4/1004 [00:00<00:29, 33.59it/s]"
     ]
    },
    {
     "name": "stdout",
     "output_type": "stream",
     "text": [
      "{'Train':  best_epoch_indx:98\n",
      " auc:0.8697427212480782 \n",
      " apur:0.2845199966189394 \n",
      " f1:0.2581288688526193 \n",
      " precision:0.15268570899709621 \n",
      " recall:0.8342604298356511 \n",
      ", 'Validation':  best_epoch_indx:98\n",
      " auc:0.8333675728510341 \n",
      " apur:0.23980388803662045 \n",
      " f1:0.2425257959255666 \n",
      " precision:0.14351320321469574 \n",
      " recall:0.7821387940841866 \n",
      "}\n",
      "=====Epoch 99\n",
      "Training...\n"
     ]
    },
    {
     "name": "stderr",
     "output_type": "stream",
     "text": [
      "Iteration:   2%|▏         | 19/1004 [00:00<00:23, 41.74it/s]\n",
      "Iteration:   2%|▏         | 24/1004 [00:00<00:23, 42.33it/s]"
     ]
    },
    {
     "name": "stdout",
     "output_type": "stream",
     "text": [
      "{'Train':  best_epoch_indx:98\n",
      " auc:0.8731285974974133 \n",
      " apur:0.29426382645677984 \n",
      " f1:0.25337948148631884 \n",
      " precision:0.14862483720217576 \n",
      " recall:0.8584070796460177 \n",
      ", 'Validation':  best_epoch_indx:98\n",
      " auc:0.8353297771610358 \n",
      " apur:0.2397346152613296 \n",
      " f1:0.23467748753064505 \n",
      " precision:0.1378214675801807 \n",
      " recall:0.7895335608646189 \n",
      "}\n",
      "=====Epoch 99\n",
      "Training...\n"
     ]
    },
    {
     "name": "stderr",
     "output_type": "stream",
     "text": [
      "Iteration:   3%|▎         | 34/1004 [00:00<00:22, 43.74it/s]\n",
      "Iteration:   4%|▍         | 44/1004 [00:01<00:21, 44.30it/s]\n",
      "Iteration:   0%|          | 0/112 [00:00<?, ?it/s]\n",
      "Iteration:  14%|█▍        | 144/1004 [00:03<00:24, 34.40it/s]\n",
      "Iteration:  18%|█▊        | 179/1004 [00:04<00:18, 43.80it/s]\n",
      "Iteration:  15%|█▌        | 154/1004 [00:03<00:21, 39.19it/s]\n",
      "Iteration:   0%|          | 0/1004 [00:00<?, ?it/s]"
     ]
    },
    {
     "name": "stdout",
     "output_type": "stream",
     "text": [
      "{'Train':  best_epoch_indx:98\n",
      " auc:0.867244004825686 \n",
      " apur:0.28767069086201136 \n",
      " f1:0.24851136564204032 \n",
      " precision:0.14566045954481108 \n",
      " recall:0.8455654592578544 \n",
      ", 'Validation':  best_epoch_indx:98\n",
      " auc:0.8306635212968007 \n",
      " apur:0.2330905793484063 \n",
      " f1:0.2330908786890728 \n",
      " precision:0.13662648240713515 \n",
      " recall:0.7929465301478953 \n",
      "}\n",
      "=====Epoch 99\n",
      "Training...\n",
      "{'Train':  best_epoch_indx:98\n",
      " auc:0.8702948541502515 \n",
      " apur:0.29444018179452885 \n",
      " f1:0.25124577742110077 \n",
      " precision:0.14737856212298697 \n",
      " recall:0.8510019596687528 \n",
      ", 'Validation':  best_epoch_indx:98\n",
      " auc:0.8341854002409399 \n",
      " apur:0.23130968885486752 \n",
      " f1:0.2378197064989518 \n",
      " precision:0.139470837021737 \n",
      " recall:0.8065984072810012 \n",
      "}\n",
      "=====Epoch 99\n",
      "Training...\n",
      "{'Train':  best_epoch_indx:98\n",
      " auc:0.8715969509617134 \n",
      " apur:0.2916943136698062 \n",
      " f1:0.2491403135917106 \n",
      " precision:0.14557683903083796 \n",
      " recall:0.8632743362831858 \n",
      ", 'Validation':  best_epoch_indx:98\n",
      " auc:0.8285307564543106 \n",
      " apur:0.22764888340691036 \n",
      " f1:0.23154251812788398 \n",
      " precision:0.13538253998843708 \n",
      " recall:0.7992036405005688 \n",
      "}\n",
      "=====Epoch 99\n",
      "Training...\n"
     ]
    },
    {
     "name": "stderr",
     "output_type": "stream",
     "text": [
      "Iteration: 100%|██████████| 1004/1004 [00:23<00:00, 43.50it/s]\n",
      "Iteration:  83%|████████▎ | 829/1004 [00:19<00:04, 43.32it/s]"
     ]
    },
    {
     "name": "stdout",
     "output_type": "stream",
     "text": [
      "Evaluating...\n"
     ]
    },
    {
     "name": "stderr",
     "output_type": "stream",
     "text": [
      "Iteration:  84%|████████▍ | 844/1004 [00:19<00:03, 43.63it/s]]\n",
      "Iteration:   0%|          | 5/1004 [00:00<00:22, 43.85it/s]s]"
     ]
    },
    {
     "name": "stdout",
     "output_type": "stream",
     "text": [
      "Evaluating...\n"
     ]
    },
    {
     "name": "stderr",
     "output_type": "stream",
     "text": [
      "Iteration: 100%|██████████| 1004/1004 [00:23<00:00, 43.40it/s]\n",
      "Iteration: 100%|██████████| 1004/1004 [00:23<00:00, 43.05it/s]\n",
      "Iteration:   0%|          | 4/1004 [00:00<00:28, 35.71it/s]s]"
     ]
    },
    {
     "name": "stdout",
     "output_type": "stream",
     "text": [
      "Evaluating...\n",
      "Evaluating...\n"
     ]
    },
    {
     "name": "stderr",
     "output_type": "stream",
     "text": [
      "\r",
      "Iteration:   1%|          | 9/1004 [00:00<00:22, 43.90it/s]\r",
      "Iteration: 100%|██████████| 1004/1004 [00:23<00:00, 41.80it/s]\r",
      "Iteration: 100%|██████████| 1004/1004 [00:23<00:00, 43.10it/s]\n",
      "\r",
      "Iteration:   0%|          | 0/1004 [00:00<?, ?it/s]\r",
      "Iteration:  22%|██▏       | 223/1004 [00:04<00:15, 49.27it/s]\r",
      "Iteration:   1%|          | 9/1004 [00:00<00:23, 42.23it/s]\r",
      "Iteration:  21%|██        | 207/1004 [00:04<00:16, 48.23it/s]\r",
      "Iteration:   1%|▏         | 15/1004 [00:00<00:20, 48.23it/s]\r",
      "Iteration:  23%|██▎       | 228/1004 [00:04<00:16, 48.18it/s]\r",
      "Iteration:   0%|          | 5/1004 [00:00<00:24, 41.00it/s]\r",
      "Iteration:   1%|▏         | 14/1004 [00:00<00:22, 43.71it/s]\r",
      "Iteration:  21%|██        | 213/1004 [00:04<00:15, 50.26it/s]"
     ]
    },
    {
     "name": "stdout",
     "output_type": "stream",
     "text": [
      "Evaluating...\n"
     ]
    },
    {
     "name": "stderr",
     "output_type": "stream",
     "text": [
      "Iteration:  96%|█████████▌| 966/1004 [00:20<00:00, 56.02it/s]]\n",
      "Iteration:  16%|█▌        | 18/112 [00:00<00:01, 50.21it/s]s]\n",
      "Iteration: 100%|██████████| 112/112 [00:01<00:00, 64.95it/s]s]"
     ]
    },
    {
     "name": "stdout",
     "output_type": "stream",
     "text": [
      "{'Train':  best_epoch_indx:99\n",
      " auc:0.8751094319684657 \n",
      " apur:0.29821775952660895 \n",
      " f1:0.2557781492920763 \n",
      " precision:0.1503559015246577 \n",
      " recall:0.8558786346396966 \n",
      ", 'Validation':  best_epoch_indx:99\n",
      " auc:0.8355107279874177 \n",
      " apur:0.2502748396449358 \n",
      " f1:0.23880597014925375 \n",
      " precision:0.14046352964783787 \n",
      " recall:0.7963594994311718 \n",
      "}\n",
      "Finished training and validating!\n"
     ]
    },
    {
     "name": "stderr",
     "output_type": "stream",
     "text": [
      "\n",
      "Iteration:   5%|▌         | 14/279 [00:00<00:03, 68.55it/s]\n",
      "Iteration:   3%|▎         | 7/279 [00:00<00:04, 66.92it/s]]"
     ]
    },
    {
     "name": "stdout",
     "output_type": "stream",
     "text": [
      "{'Train':  best_epoch_indx:99\n",
      " auc:0.8778800246086322 \n",
      " apur:0.3067440908583416 \n",
      " f1:0.25355458965669664 \n",
      " precision:0.14839606777907127 \n",
      " recall:0.8702275600505689 \n",
      ", 'Validation':  best_epoch_indx:99\n",
      " auc:0.835347551921142 \n",
      " apur:0.24217637613887288 \n",
      " f1:0.2341951626355296 \n",
      " precision:0.13721657544956997 \n",
      " recall:0.7986348122866894 \n",
      "}\n",
      "Finished training and validating!\n"
     ]
    },
    {
     "name": "stderr",
     "output_type": "stream",
     "text": [
      "Iteration:  15%|█▌        | 43/279 [00:00<00:03, 68.95it/s]\n",
      "Iteration:   0%|          | 0/112 [00:00<?, ?it/s]\n",
      "Iteration:  11%|█         | 30/279 [00:00<00:03, 71.01it/s]\n",
      "Iteration:  89%|████████▊ | 247/279 [00:04<00:00, 60.77it/s]\n",
      "Iteration:   0%|          | 0/279 [00:00<?, ?it/s]\n",
      "Iteration:  91%|█████████ | 254/279 [00:04<00:00, 61.31it/s]\n",
      "Iteration:   2%|▏         | 5/279 [00:00<00:05, 48.46it/s]"
     ]
    },
    {
     "name": "stdout",
     "output_type": "stream",
     "text": [
      "{'Train':  best_epoch_indx:99\n",
      " auc:0.8734262177954673 \n",
      " apur:0.30041594178793574 \n",
      " f1:0.2521050670640834 \n",
      " precision:0.1478353961612829 \n",
      " recall:0.8554902332637967 \n",
      ", 'Validation':  best_epoch_indx:99\n",
      " auc:0.8325115669632727 \n",
      " apur:0.24070446379662386 \n",
      " f1:0.23530398322851154 \n",
      " precision:0.13799547555817843 \n",
      " recall:0.79806598407281 \n",
      "}\n",
      "Finished training and validating!\n",
      "{'Train':  best_epoch_indx:99\n",
      " auc:0.8746134104484596 \n",
      " apur:0.30437703714666325 \n",
      " f1:0.25732660684715214 \n",
      " precision:0.15177912298833604 \n",
      " recall:0.8448068778051709 \n",
      ", 'Validation':  best_epoch_indx:99\n",
      " auc:0.8372942874343625 \n",
      " apur:0.24250316918386505 \n",
      " f1:0.24219292158223457 \n",
      " precision:0.1428863868986694 \n",
      " recall:0.7940841865756542 \n",
      "}\n",
      "Finished training and validating!\n",
      "{'Train':  best_epoch_indx:99\n",
      " auc:0.8759513476416185 \n",
      " apur:0.3015216577711248 \n",
      " f1:0.2555420219244823 \n",
      " precision:0.15000549994500054 \n",
      " recall:0.8620101137800252 \n",
      ", 'Validation':  best_epoch_indx:99\n",
      " auc:0.8311492451047718 \n",
      " apur:0.23587849052529308 \n",
      " f1:0.23452823807913425 \n",
      " precision:0.13773584905660377 \n",
      " recall:0.7889647326507395 \n",
      "}\n",
      "Finished training and validating!\n"
     ]
    },
    {
     "name": "stderr",
     "output_type": "stream",
     "text": [
      "Iteration:  48%|████▊     | 134/279 [00:02<00:02, 62.22it/s]\n",
      "Iteration:  49%|████▉     | 137/279 [00:02<00:02, 55.87it/s]"
     ]
    },
    {
     "name": "stdout",
     "output_type": "stream",
     "text": [
      "{'Test':  best_epoch_indx:99\n",
      " auc:0.8334829411608339 \n",
      " apur:0.23100865625358857 \n",
      " f1:0.23709759836484412 \n",
      " precision:0.1394174912864068 \n",
      " recall:0.7919890760127446 \n",
      "}\n",
      "Finished testing!\n",
      "{'Test':  best_epoch_indx:99\n",
      " auc:0.8353694144991057 \n",
      " apur:0.23207794063738005 \n",
      " f1:0.2339759433185039 \n",
      " precision:0.13679626989326038 \n",
      " recall:0.8079198907601275 \n",
      "}\n",
      "Finished testing!\n"
     ]
    },
    {
     "name": "stderr",
     "output_type": "stream",
     "text": [
      "Iteration:  54%|█████▍    | 151/279 [00:02<00:02, 60.51it/s]\n",
      "Iteration:  69%|██████▉   | 192/279 [00:03<00:01, 62.43it/s]"
     ]
    },
    {
     "name": "stdout",
     "output_type": "stream",
     "text": [
      "<<< joined hyperparam search process\n",
      "released_gpu_num: 0\n"
     ]
    },
    {
     "name": "stderr",
     "output_type": "stream",
     "text": [
      "\r",
      "Iteration:  70%|███████   | 196/279 [00:03<00:01, 62.75it/s]\r",
      "Iteration:  71%|███████▏  | 199/279 [00:03<00:01, 59.89it/s]\r",
      "Iteration:  73%|███████▎  | 205/279 [00:03<00:01, 67.79it/s]\r",
      "Iteration:  75%|███████▍  | 208/279 [00:03<00:01, 49.69it/s]"
     ]
    },
    {
     "name": "stdout",
     "output_type": "stream",
     "text": [
      "<<< joined hyperparam search process\n",
      "released_gpu_num: 1\n"
     ]
    },
    {
     "name": "stderr",
     "output_type": "stream",
     "text": [
      "Iteration: 100%|██████████| 279/279 [00:04<00:00, 59.94it/s]\n",
      "\n"
     ]
    },
    {
     "name": "stdout",
     "output_type": "stream",
     "text": [
      "{'Test':  best_epoch_indx:99\n",
      " auc:0.8322867993910007 \n",
      " apur:0.23409214115426452 \n",
      " f1:0.23858204528802207 \n",
      " precision:0.14089672793208605 \n",
      " recall:0.777929465301479 \n",
      "}\n",
      "Finished testing!\n",
      "{'Test':  best_epoch_indx:99\n",
      " auc:0.8386863971840137 \n",
      " apur:0.23395516911472405 \n",
      " f1:0.23894104139933817 \n",
      " precision:0.14028548770816812 \n",
      " recall:0.8051888939462903 \n",
      "}\n",
      "Finished testing!\n",
      "{'Test':  best_epoch_indx:99\n",
      " auc:0.8333386553079907 \n",
      " apur:0.24370446076219224 \n",
      " f1:0.23360655737704916 \n",
      " precision:0.1370354313640484 \n",
      " recall:0.7911262798634813 \n",
      "}\n",
      "Finished testing!\n"
     ]
    },
    {
     "name": "stderr",
     "output_type": "stream",
     "text": [
      "\n"
     ]
    },
    {
     "name": "stdout",
     "output_type": "stream",
     "text": [
      "<<< joined hyperparam search process\n",
      "released_gpu_num: 2\n",
      "<<< joined hyperparam search process\n",
      "released_gpu_num: 4\n",
      "<<< joined hyperparam search process\n",
      "released_gpu_num: 3\n"
     ]
    }
   ],
   "source": [
    "import torch.multiprocessing as mp\n",
    "mp.set_start_method(\"spawn\", force=True)\n",
    "\n",
    "queue = mp.Queue()\n",
    "q_processes = []\n",
    "\n",
    "# partition = fold_partitions[0]\n",
    "time_stamp = datetime.datetime.now().strftime('%Y-%m-%d_%H-%M-%S')\n",
    "\n",
    "print(\"Start: \" + time_stamp)\n",
    "\n",
    "for q_i in range(min(n_gpu, len(fold_partitions))):\n",
    "#     device_gpu = get_device(True, index=q_i)\n",
    "    partition = fold_partitions[q_i]\n",
    "    exp_dir = create_directory(os.path.join(targetdata_dir_exp, \"fold_\"+str(q_i)+\"_\"+time_stamp))\n",
    "    create_directory(os.path.join(exp_dir, \"predictions\"))\n",
    "    create_directory(os.path.join(exp_dir, \"modelstates\"))\n",
    "\n",
    "#     tphp = generate_tp_hp(tp, hyperparam_space[q_i], hp_names)\n",
    "    \n",
    "    q_process = create_q_process(queue, dataset, q_i, tp, exp_dir, partition)\n",
    "    q_processes.append(q_process)\n",
    "    spawn_q_process(q_process)\n",
    "\n",
    "spawned_processes = n_gpu\n",
    "    \n",
    "# for q_i in range(len(hyperparam_space)):\n",
    "for q_i in range(min(n_gpu, len(fold_partitions))):\n",
    "    join_q_process(q_processes[q_i])\n",
    "    released_gpu_num = queue.get()\n",
    "    print(\"released_gpu_num:\", released_gpu_num)\n",
    "#     if(spawned_processes < len(hyperparam_space)):\n",
    "# #         device_gpu = get_device(True, index=q_i)\n",
    "#         time_stamp = datetime.datetime.now().strftime('%Y-%m-%d_%H-%M-%S')\n",
    "#         exp_dir = create_directory(os.path.join(targetdata_dir_exp, \"exp_\"+str(q_i)+\"_\"+time_stamp))\n",
    "#         tphp = generate_tp_hp(tp, hyperparam_space[q_i], hp_names)\n",
    "\n",
    "#         q_process = create_q_process(queue, used_dataset, released_gpu_num, tphp, exp_dir, partition)\n",
    "#         q_processes.append(q_process)\n",
    "#         spawn_q_process(q_process)\n",
    "#         spawned_processes = spawned_processes + 1"
   ]
  },
  {
   "cell_type": "code",
   "execution_count": 39,
   "metadata": {},
   "outputs": [
    {
     "name": "stdout",
     "output_type": "stream",
     "text": [
      "End: 2022-09-14_13-02-47\n"
     ]
    }
   ],
   "source": [
    "print(\"End: \" + datetime.datetime.now().strftime('%Y-%m-%d_%H-%M-%S'))"
   ]
  },
  {
   "cell_type": "code",
   "execution_count": null,
   "metadata": {},
   "outputs": [],
   "source": []
  }
 ],
 "metadata": {
  "kernelspec": {
   "display_name": "Python 3 (ipykernel)",
   "language": "python",
   "name": "python3"
  },
  "language_info": {
   "codemirror_mode": {
    "name": "ipython",
    "version": 3
   },
   "file_extension": ".py",
   "mimetype": "text/x-python",
   "name": "python",
   "nbconvert_exporter": "python",
   "pygments_lexer": "ipython3",
   "version": "3.8.10"
  }
 },
 "nbformat": 4,
 "nbformat_minor": 4
}
