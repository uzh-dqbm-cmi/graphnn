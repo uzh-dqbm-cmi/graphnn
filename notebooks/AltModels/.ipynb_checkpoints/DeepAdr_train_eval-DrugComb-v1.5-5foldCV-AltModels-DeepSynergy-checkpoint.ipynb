{
 "cells": [
  {
   "cell_type": "code",
   "execution_count": 1,
   "metadata": {
    "scrolled": false
   },
   "outputs": [],
   "source": [
    "%load_ext autoreload\n",
    "%autoreload 2"
   ]
  },
  {
   "cell_type": "code",
   "execution_count": 2,
   "metadata": {},
   "outputs": [],
   "source": [
    "import os\n",
    "import sys\n",
    "import numpy as np\n",
    "import pandas as pd\n",
    "import datetime\n",
    "import seaborn as sns\n",
    "import ogb\n",
    "from tqdm import tqdm\n",
    "import hiplot as hip\n",
    "from copy import deepcopy\n",
    "import datetime"
   ]
  },
  {
   "cell_type": "code",
   "execution_count": 3,
   "metadata": {},
   "outputs": [],
   "source": [
    "import torch\n",
    "from torch_geometric.data import Data\n",
    "from torch_geometric.loader import DataLoader\n",
    "from torch.utils.data import Subset, TensorDataset"
   ]
  },
  {
   "cell_type": "code",
   "execution_count": 4,
   "metadata": {},
   "outputs": [
    {
     "name": "stdout",
     "output_type": "stream",
     "text": [
      "/opt/data/chemprop_run/git/notebooks/AltModels\n",
      "/opt/data/chemprop_run/git\n"
     ]
    }
   ],
   "source": [
    "cwd = os.getcwd()\n",
    "print(cwd)\n",
    "# cwd_parent = os.path.abspath(os.path.join(cwd, os.pardir))\n",
    "cwd_parent = os.path.abspath(os.path.join(cwd, '../../'))\n",
    "print(cwd_parent)\n",
    "\n",
    "sys.path.append(cwd_parent)"
   ]
  },
  {
   "cell_type": "code",
   "execution_count": 5,
   "metadata": {},
   "outputs": [],
   "source": [
    "import deepadr\n",
    "from deepadr.dataset import *\n",
    "from deepadr.utilities import *\n",
    "from deepadr.run_workflow import *\n",
    "from deepadr.chemfeatures import *\n",
    "from deepadr.hyphelperflat import *\n",
    "from deepadr.model_gnn_ogb import GNN, DeepAdr_SiameseTrf, ExpressionNN\n",
    "from ogb.graphproppred import Evaluator"
   ]
  },
  {
   "cell_type": "code",
   "execution_count": 6,
   "metadata": {},
   "outputs": [],
   "source": [
    "from rdkit.Chem.Draw import IPythonConsole\n",
    "from rdkit.Chem import Draw"
   ]
  },
  {
   "cell_type": "code",
   "execution_count": 7,
   "metadata": {},
   "outputs": [],
   "source": [
    "rawdata_dir = '../data/raw/'\n",
    "processed_dir = '../data/processed/'\n",
    "up_dir = '..'"
   ]
  },
  {
   "cell_type": "code",
   "execution_count": 8,
   "metadata": {
    "scrolled": true
   },
   "outputs": [
    {
     "name": "stdout",
     "output_type": "stream",
     "text": [
      "number of GPUs available: 5\n",
      "cuda:0, name:NVIDIA GeForce GTX 1080 Ti\n",
      "total memory available: 10.91656494140625 GB\n",
      "total memory allocated on device: 0.0 GB\n",
      "max memory allocated on device: 0.0 GB\n",
      "total memory cached on device: 0.0 GB\n",
      "max memory cached  on device: 0.0 GB\n",
      "\n",
      "cuda:1, name:NVIDIA GeForce GTX 1080 Ti\n",
      "total memory available: 10.91656494140625 GB\n",
      "total memory allocated on device: 0.0 GB\n",
      "max memory allocated on device: 0.0 GB\n",
      "total memory cached on device: 0.0 GB\n",
      "max memory cached  on device: 0.0 GB\n",
      "\n",
      "cuda:2, name:NVIDIA GeForce GTX 1080 Ti\n",
      "total memory available: 10.91656494140625 GB\n",
      "total memory allocated on device: 0.0 GB\n",
      "max memory allocated on device: 0.0 GB\n",
      "total memory cached on device: 0.0 GB\n",
      "max memory cached  on device: 0.0 GB\n",
      "\n",
      "cuda:3, name:NVIDIA GeForce GTX 1080 Ti\n",
      "total memory available: 10.91656494140625 GB\n",
      "total memory allocated on device: 0.0 GB\n",
      "max memory allocated on device: 0.0 GB\n",
      "total memory cached on device: 0.0 GB\n",
      "max memory cached  on device: 0.0 GB\n",
      "\n",
      "cuda:4, name:NVIDIA GeForce GTX 1080 Ti\n",
      "total memory available: 10.91656494140625 GB\n",
      "total memory allocated on device: 0.0 GB\n",
      "max memory allocated on device: 0.0 GB\n",
      "total memory cached on device: 0.0 GB\n",
      "max memory cached  on device: 0.0 GB\n",
      "\n"
     ]
    }
   ],
   "source": [
    "report_available_cuda_devices()"
   ]
  },
  {
   "cell_type": "code",
   "execution_count": 9,
   "metadata": {},
   "outputs": [
    {
     "data": {
      "text/plain": [
       "5"
      ]
     },
     "execution_count": 9,
     "metadata": {},
     "output_type": "execute_result"
    }
   ],
   "source": [
    "n_gpu = torch.cuda.device_count()\n",
    "n_gpu"
   ]
  },
  {
   "cell_type": "code",
   "execution_count": 10,
   "metadata": {},
   "outputs": [],
   "source": [
    "device_cpu = get_device(to_gpu=False)\n",
    "# device_gpu = get_device(True, index=0)\n",
    "\n",
    "# fdtype = torch.float32"
   ]
  },
  {
   "cell_type": "code",
   "execution_count": 11,
   "metadata": {},
   "outputs": [
    {
     "name": "stdout",
     "output_type": "stream",
     "text": [
      "torch: 1.9.1\n",
      "CUDA: 11.1\n",
      "3.9.9 | packaged by conda-forge | (main, Dec 20 2021, 02:41:03) \n",
      "[GCC 9.4.0]\n"
     ]
    }
   ],
   "source": [
    "print(\"torch:\", torch.__version__)\n",
    "print(\"CUDA:\", torch.version.cuda)\n",
    "print(sys.version)"
   ]
  },
  {
   "cell_type": "markdown",
   "metadata": {},
   "source": [
    "### Preparing dataset "
   ]
  },
  {
   "cell_type": "code",
   "execution_count": 12,
   "metadata": {},
   "outputs": [],
   "source": [
    "score = 'total_thresh' #'total_thresh'\n",
    "score_val = 4"
   ]
  },
  {
   "cell_type": "code",
   "execution_count": 13,
   "metadata": {},
   "outputs": [],
   "source": [
    "DSdataset_name = f'DrugComb_{score}_{score_val}'\n",
    "\n",
    "# v_1: GNN\n",
    "# v_2: Alt Models (Baseline)\n",
    "data_fname = 'data_v2'"
   ]
  },
  {
   "cell_type": "code",
   "execution_count": 14,
   "metadata": {
    "scrolled": true
   },
   "outputs": [
    {
     "name": "stdout",
     "output_type": "stream",
     "text": [
      "path_current_dir /opt/data/chemprop_run/git/deepadr\n",
      "path_current_dir /opt/data/chemprop_run/git/deepadr\n",
      "path_current_dir /opt/data/chemprop_run/git/deepadr\n",
      "path_current_dir /opt/data/chemprop_run/git/deepadr\n",
      "/opt/data/chemprop_run/git/data/processed/DrugComb_total_thresh_4/data_v2\n"
     ]
    }
   ],
   "source": [
    "targetdata_dir = create_directory(os.path.join(processed_dir, DSdataset_name, data_fname))\n",
    "targetdata_dir_raw = create_directory(os.path.join(targetdata_dir, \"raw\"))\n",
    "targetdata_dir_processed = create_directory(os.path.join(targetdata_dir, \"processed\"))\n",
    "targetdata_dir_exp = create_directory(os.path.join(targetdata_dir, \"experiments\"))\n",
    "print(targetdata_dir)"
   ]
  },
  {
   "cell_type": "code",
   "execution_count": 15,
   "metadata": {},
   "outputs": [],
   "source": [
    "xFlat = ReaderWriter.read_data(os.path.join(targetdata_dir_raw, 'X_flat.pkl'))\n",
    "y = ReaderWriter.read_data(os.path.join(targetdata_dir_raw, 'y.pkl'))\n",
    "expression = ReaderWriter.read_data(os.path.join(targetdata_dir_raw, 'expression.pkl'))"
   ]
  },
  {
   "cell_type": "code",
   "execution_count": 16,
   "metadata": {},
   "outputs": [
    {
     "data": {
      "text/plain": [
       "torch.Size([25757, 18])"
      ]
     },
     "execution_count": 16,
     "metadata": {},
     "output_type": "execute_result"
    }
   ],
   "source": [
    "xFlatMat = torch.stack([torch.cat(i) for i in list(xFlat.values())])\n",
    "xFlatMat.shape"
   ]
  },
  {
   "cell_type": "code",
   "execution_count": 17,
   "metadata": {},
   "outputs": [
    {
     "data": {
      "text/plain": [
       "tensor([[ 0.1661,  0.2518,  1.3373,  ..., -0.4085,  0.8581,  0.8979],\n",
       "        [ 0.1661,  0.2518,  1.3373,  ..., -0.4085,  0.8581,  0.8979],\n",
       "        [ 0.1661,  0.2518,  1.3373,  ..., -0.4085,  0.8581,  0.8979],\n",
       "        ...,\n",
       "        [-0.0373, -1.4322,  1.5411,  ..., -1.2711,  1.2013,  0.9537],\n",
       "        [-0.0373, -1.4322,  1.5411,  ..., -1.2711,  1.2013,  0.9537],\n",
       "        [-0.0373, -1.4322,  1.5411,  ..., -1.2711,  1.2013,  0.9537]],\n",
       "       dtype=torch.float64)"
      ]
     },
     "execution_count": 17,
     "metadata": {},
     "output_type": "execute_result"
    }
   ],
   "source": [
    "torch.tensor(expression)"
   ]
  },
  {
   "cell_type": "code",
   "execution_count": 18,
   "metadata": {
    "scrolled": false
   },
   "outputs": [
    {
     "data": {
      "text/plain": [
       "torch.Size([25757, 926])"
      ]
     },
     "execution_count": 18,
     "metadata": {},
     "output_type": "execute_result"
    }
   ],
   "source": [
    "x = torch.cat([xFlatMat, torch.tensor(expression)], dim=1)\n",
    "x.shape"
   ]
  },
  {
   "cell_type": "code",
   "execution_count": 19,
   "metadata": {},
   "outputs": [
    {
     "data": {
      "text/plain": [
       "array([0, 0, 0, ..., 0, 1, 1])"
      ]
     },
     "execution_count": 19,
     "metadata": {},
     "output_type": "execute_result"
    }
   ],
   "source": [
    "y"
   ]
  },
  {
   "cell_type": "code",
   "execution_count": 20,
   "metadata": {},
   "outputs": [
    {
     "data": {
      "text/plain": [
       "torch.Size([25757, 926])"
      ]
     },
     "execution_count": 20,
     "metadata": {},
     "output_type": "execute_result"
    }
   ],
   "source": [
    "x.shape"
   ]
  },
  {
   "cell_type": "code",
   "execution_count": 21,
   "metadata": {},
   "outputs": [
    {
     "data": {
      "text/plain": [
       "(25757,)"
      ]
     },
     "execution_count": 21,
     "metadata": {},
     "output_type": "execute_result"
    }
   ],
   "source": [
    "y.shape"
   ]
  },
  {
   "cell_type": "code",
   "execution_count": 22,
   "metadata": {},
   "outputs": [
    {
     "name": "stdout",
     "output_type": "stream",
     "text": [
      "fold_num: 0\n",
      "train data\n",
      "class: 0 norm count: 0.5764128559102675\n",
      "class: 1 norm count: 0.4235871440897325\n",
      "validation data\n",
      "class: 0 norm count: 0.5764192139737991\n",
      "class: 1 norm count: 0.42358078602620086\n",
      "test data\n",
      "class: 0 norm count: 0.5764751552795031\n",
      "class: 1 norm count: 0.4235248447204969\n",
      "\n",
      "-------------------------\n",
      "fold_num: 1\n",
      "train data\n",
      "class: 0 norm count: 0.5764128559102675\n",
      "class: 1 norm count: 0.4235871440897325\n",
      "validation data\n",
      "class: 0 norm count: 0.5764192139737991\n",
      "class: 1 norm count: 0.42358078602620086\n",
      "test data\n",
      "class: 0 norm count: 0.5764751552795031\n",
      "class: 1 norm count: 0.4235248447204969\n",
      "\n",
      "-------------------------\n",
      "fold_num: 2\n",
      "train data\n",
      "class: 0 norm count: 0.5764356969533567\n",
      "class: 1 norm count: 0.4235643030466433\n",
      "validation data\n",
      "class: 0 norm count: 0.5764192139737991\n",
      "class: 1 norm count: 0.42358078602620086\n",
      "test data\n",
      "class: 0 norm count: 0.5763929334109882\n",
      "class: 1 norm count: 0.4236070665890118\n",
      "\n",
      "-------------------------\n",
      "fold_num: 3\n",
      "train data\n",
      "class: 0 norm count: 0.5764356969533567\n",
      "class: 1 norm count: 0.4235643030466433\n",
      "validation data\n",
      "class: 0 norm count: 0.5764192139737991\n",
      "class: 1 norm count: 0.42358078602620086\n",
      "test data\n",
      "class: 0 norm count: 0.5763929334109882\n",
      "class: 1 norm count: 0.4236070665890118\n",
      "\n",
      "-------------------------\n",
      "fold_num: 4\n",
      "train data\n",
      "class: 0 norm count: 0.5764356969533567\n",
      "class: 1 norm count: 0.4235643030466433\n",
      "validation data\n",
      "class: 0 norm count: 0.5764192139737991\n",
      "class: 1 norm count: 0.42358078602620086\n",
      "test data\n",
      "class: 0 norm count: 0.5763929334109882\n",
      "class: 1 norm count: 0.4236070665890118\n",
      "\n",
      "-------------------------\n"
     ]
    }
   ],
   "source": [
    "fold_partitions = get_stratified_partitions(y,\n",
    "                                            num_folds=5,\n",
    "                                            valid_set_portion=0.1,\n",
    "                                            random_state=42)"
   ]
  },
  {
   "cell_type": "code",
   "execution_count": 23,
   "metadata": {},
   "outputs": [
    {
     "name": "stdout",
     "output_type": "stream",
     "text": [
      "Number of training graphs: 18544\n",
      "Number of validation graphs: 2061\n",
      "Number of testing graphs: 5152\n"
     ]
    }
   ],
   "source": [
    "print(\"Number of training graphs: \"+ str(len(fold_partitions[0]['train'])))\n",
    "print(\"Number of validation graphs: \"+ str(len(fold_partitions[0]['validation'])))\n",
    "print(\"Number of testing graphs: \"+ str(len(fold_partitions[0]['test'])))\n"
   ]
  },
  {
   "cell_type": "code",
   "execution_count": 24,
   "metadata": {},
   "outputs": [
    {
     "data": {
      "text/plain": [
       "array([    4,    13,    16, ..., 25731, 25743, 25753])"
      ]
     },
     "execution_count": 24,
     "metadata": {},
     "output_type": "execute_result"
    }
   ],
   "source": [
    "fold_partitions[0]['test']"
   ]
  },
  {
   "cell_type": "markdown",
   "metadata": {},
   "source": [
    "### Preprocessing"
   ]
  },
  {
   "cell_type": "code",
   "execution_count": 25,
   "metadata": {},
   "outputs": [],
   "source": [
    "from sklearn.preprocessing import StandardScaler\n",
    "scaler = StandardScaler()"
   ]
  },
  {
   "cell_type": "code",
   "execution_count": 26,
   "metadata": {},
   "outputs": [],
   "source": [
    "x_np = x.numpy()\n",
    "y_np = y"
   ]
  },
  {
   "cell_type": "code",
   "execution_count": 27,
   "metadata": {},
   "outputs": [],
   "source": [
    "pipeline = compose(scaler.fit_transform, np.tanh, scaler.fit_transform)"
   ]
  },
  {
   "cell_type": "code",
   "execution_count": 28,
   "metadata": {},
   "outputs": [],
   "source": [
    "x_np_norm = pipeline(x_np)"
   ]
  },
  {
   "cell_type": "code",
   "execution_count": 29,
   "metadata": {},
   "outputs": [
    {
     "data": {
      "text/plain": [
       "926"
      ]
     },
     "execution_count": 29,
     "metadata": {},
     "output_type": "execute_result"
    }
   ],
   "source": [
    "deepsynergy_input_size = x_np_norm.shape[1]\n",
    "deepsynergy_input_size"
   ]
  },
  {
   "cell_type": "code",
   "execution_count": 30,
   "metadata": {},
   "outputs": [],
   "source": [
    "ids = list(range(len(y)))"
   ]
  },
  {
   "cell_type": "code",
   "execution_count": 31,
   "metadata": {},
   "outputs": [
    {
     "data": {
      "text/plain": [
       "<torch.utils.data.dataset.TensorDataset at 0x1479110f9d90>"
      ]
     },
     "execution_count": 31,
     "metadata": {},
     "output_type": "execute_result"
    }
   ],
   "source": [
    "dataset = TensorDataset(torch.tensor(x_np_norm),torch.tensor(y), torch.tensor(ids))\n",
    "dataset"
   ]
  },
  {
   "cell_type": "code",
   "execution_count": 32,
   "metadata": {},
   "outputs": [
    {
     "data": {
      "text/plain": [
       "(25757, 926)"
      ]
     },
     "execution_count": 32,
     "metadata": {},
     "output_type": "execute_result"
    }
   ],
   "source": [
    "x_np_norm.shape"
   ]
  },
  {
   "cell_type": "code",
   "execution_count": 33,
   "metadata": {},
   "outputs": [
    {
     "data": {
      "text/plain": [
       "array([[-0.24771092, -0.16778051,  1.08542757, ..., -0.54753865,\n",
       "         1.00156924,  1.03730128],\n",
       "       [-0.52000601, -0.16778051,  0.88217988, ...,  0.13588219,\n",
       "         0.73121597, -0.67645394],\n",
       "       [-0.45946008, -0.16778051, -1.08878137, ...,  0.13588219,\n",
       "         0.73121597, -0.67645394],\n",
       "       ...,\n",
       "       [-0.78013155, -0.16778051,  1.38267408, ..., -1.10153143,\n",
       "         0.87510362, -0.63287422],\n",
       "       [ 0.06292934, -0.16778051, -0.09645783, ..., -0.6017063 ,\n",
       "         1.14208744, -1.22221096],\n",
       "       [-0.45708559, -0.16778051,  0.85635857, ..., -1.24509042,\n",
       "         1.20596684,  1.0750056 ]])"
      ]
     },
     "execution_count": 33,
     "metadata": {},
     "output_type": "execute_result"
    }
   ],
   "source": [
    "np.take(x_np_norm, fold_partitions[0]['test'], axis=0)"
   ]
  },
  {
   "cell_type": "markdown",
   "metadata": {},
   "source": [
    "### Deep Synergy"
   ]
  },
  {
   "cell_type": "code",
   "execution_count": 34,
   "metadata": {},
   "outputs": [],
   "source": [
    "# training params total_thresh 4\n",
    "tp = {\n",
    "    \"batch_size\" : 300,\n",
    "    \"num_epochs\" : 100,\n",
    "    \n",
    "    \"emb_dim\" : 300,\n",
    "    \"gnn_type\" : \"gatv2\",\n",
    "    \"num_layer\" : 5,\n",
    "    \"graph_pooling\" : \"mean\", #attention\n",
    "    \n",
    "    \"input_embed_dim\" : None,\n",
    "    \"gene_embed_dim\": 1,\n",
    "    \"num_attn_heads\" : 2,\n",
    "    \"num_transformer_units\" : 1,\n",
    "    \"p_dropout\" : 0.3,\n",
    "#     \"nonlin_func\" : nn.ReLU(),\n",
    "    \"mlp_embed_factor\" : 2,\n",
    "    \"pooling_mode\" : 'attn',\n",
    "    \"dist_opt\" : 'cosine',\n",
    "\n",
    "    \"base_lr\" : 3e-5, #3e-4\n",
    "    \"max_lr_mul\": 5,\n",
    "    \"l2_reg\" : 1e-5,\n",
    "    \"loss_w\" : 1.,\n",
    "    \"margin_v\" : 1.,\n",
    "\n",
    "    \"expression_dim\" : 64,\n",
    "    \"expression_input_size\" : 908,\n",
    "    \"exp_H1\" : 8192,\n",
    "    \"exp_H2\" : 4096\n",
    "}"
   ]
  },
  {
   "cell_type": "code",
   "execution_count": 35,
   "metadata": {},
   "outputs": [
    {
     "data": {
      "text/plain": [
       "926"
      ]
     },
     "execution_count": 35,
     "metadata": {},
     "output_type": "execute_result"
    }
   ],
   "source": [
    "tp['deepsynergy_input_size'] = deepsynergy_input_size\n",
    "tp['deepsynergy_input_size']"
   ]
  },
  {
   "cell_type": "code",
   "execution_count": 36,
   "metadata": {},
   "outputs": [],
   "source": [
    "def spawn_q_process(q_process):\n",
    "    print(\">>> spawning hyperparam search process\")\n",
    "    q_process.start()\n",
    "    \n",
    "def join_q_process(q_process):\n",
    "    q_process.join()\n",
    "    print(\"<<< joined hyperparam search process\")\n",
    "    \n",
    "def create_q_process(queue, used_dataset, gpu_num, tphp, exp_dir, partition): #\n",
    "#     fold_gpu_map = {0:gpu_num}\n",
    "    return mp.Process(target=deepadr.hyphelperflat.run_exp_flat, args=(queue, used_dataset, gpu_num, tphp, exp_dir, partition)) #\n",
    "\n",
    "def create_q_process_attr(queue, x_np_norm, gpu_num, tphp, exp_dir, partition): #\n",
    "#     fold_gpu_map = {0:gpu_num}\n",
    "    return mp.Process(target=deepadr.hyphelperflat.run_attribution, args=(queue, x_np_norm, gpu_num, tphp, exp_dir, partition)) #"
   ]
  },
  {
   "cell_type": "code",
   "execution_count": null,
   "metadata": {},
   "outputs": [],
   "source": [
    "import torch.multiprocessing as mp\n",
    "mp.set_start_method(\"spawn\", force=True)\n",
    "\n",
    "queue = mp.Queue()\n",
    "q_processes = []\n",
    "\n",
    "# partition = fold_partitions[0]\n",
    "time_stamp = datetime.datetime.now().strftime('%Y-%m-%d_%H-%M-%S')\n",
    "\n",
    "print(\"Start: \" + time_stamp)\n",
    "\n",
    "for q_i in range(min(n_gpu, len(fold_partitions))):\n",
    "#     device_gpu = get_device(True, index=q_i)\n",
    "    partition = fold_partitions[q_i]\n",
    "    exp_dir = create_directory(os.path.join(targetdata_dir_exp, \"fold_\"+str(q_i)+\"_\"+time_stamp))\n",
    "    create_directory(os.path.join(exp_dir, \"predictions\"))\n",
    "    create_directory(os.path.join(exp_dir, \"modelstates\"))\n",
    "\n",
    "#     tphp = generate_tp_hp(tp, hyperparam_space[q_i], hp_names)\n",
    "    \n",
    "    q_process = create_q_process(queue, dataset, q_i, tp, exp_dir, partition)\n",
    "    q_processes.append(q_process)\n",
    "    spawn_q_process(q_process)\n",
    "\n",
    "spawned_processes = n_gpu\n",
    "    \n",
    "# for q_i in range(len(hyperparam_space)):\n",
    "for q_i in range(min(n_gpu, len(fold_partitions))):\n",
    "    join_q_process(q_processes[q_i])\n",
    "    released_gpu_num = queue.get()\n",
    "    print(\"released_gpu_num:\", released_gpu_num)\n",
    "#     if(spawned_processes < len(hyperparam_space)):\n",
    "# #         device_gpu = get_device(True, index=q_i)\n",
    "#         time_stamp = datetime.datetime.now().strftime('%Y-%m-%d_%H-%M-%S')\n",
    "#         exp_dir = create_directory(os.path.join(targetdata_dir_exp, \"exp_\"+str(q_i)+\"_\"+time_stamp))\n",
    "#         tphp = generate_tp_hp(tp, hyperparam_space[q_i], hp_names)\n",
    "\n",
    "#         q_process = create_q_process(queue, used_dataset, released_gpu_num, tphp, exp_dir, partition)\n",
    "#         q_processes.append(q_process)\n",
    "#         spawn_q_process(q_process)\n",
    "#         spawned_processes = spawned_processes + 1"
   ]
  },
  {
   "cell_type": "code",
   "execution_count": 38,
   "metadata": {},
   "outputs": [
    {
     "name": "stdout",
     "output_type": "stream",
     "text": [
      "End: 2022-06-21_16-36-40\n"
     ]
    }
   ],
   "source": [
    "print(\"End: \" + datetime.datetime.now().strftime('%Y-%m-%d_%H-%M-%S'))"
   ]
  },
  {
   "cell_type": "code",
   "execution_count": null,
   "metadata": {},
   "outputs": [],
   "source": []
  },
  {
   "cell_type": "code",
   "execution_count": null,
   "metadata": {},
   "outputs": [],
   "source": []
  },
  {
   "cell_type": "markdown",
   "metadata": {},
   "source": [
    "### Run Attributions"
   ]
  },
  {
   "cell_type": "code",
   "execution_count": null,
   "metadata": {},
   "outputs": [],
   "source": [
    "import torch.multiprocessing as mp\n",
    "mp.set_start_method(\"spawn\", force=True)\n",
    "\n",
    "queue = mp.Queue()\n",
    "# q_attr = mp.Queue()\n",
    "q_processes = []\n",
    "\n",
    "l_attr = []\n",
    "\n",
    "# partition = fold_partitions[0]\n",
    "# time_stamp = datetime.datetime.now().strftime('%Y-%m-%d_%H-%M-%S')\n",
    "\n",
    "print(\"Time stamp: \" + time_stamp)\n",
    "\n",
    "for q_i in range(min(n_gpu, len(fold_partitions))):\n",
    "#     device_gpu = get_device(True, index=q_i)\n",
    "    partition = fold_partitions[q_i]\n",
    "    exp_dir = create_directory(os.path.join(targetdata_dir_exp, \"fold_\"+str(q_i)+\"_\"+time_stamp))\n",
    "#     create_directory(os.path.join(exp_dir, \"predictions\"))\n",
    "#     create_directory(os.path.join(exp_dir, \"modelstates\"))\n",
    "    create_directory(os.path.join(exp_dir, \"attributions\"))\n",
    "\n",
    "\n",
    "#     tphp = generate_tp_hp(tp, hyperparam_space[q_i], hp_names)\n",
    "    \n",
    "    q_process = create_q_process_attr(queue, x_np_norm, q_i, tp, exp_dir, partition)\n",
    "    q_processes.append(q_process)\n",
    "    spawn_q_process(q_process)\n",
    "\n",
    "spawned_processes = n_gpu\n",
    "    \n",
    "# for q_i in range(len(hyperparam_space)):\n",
    "for q_i in range(min(n_gpu, len(fold_partitions))):\n",
    "    join_q_process(q_processes[q_i])\n",
    "    released_gpu_num = queue.get()\n",
    "#     l_attr.append(q_attr.get())\n",
    "    print(\"released_gpu_num:\", released_gpu_num)\n",
    "#     if(spawned_processes < len(hyperparam_space)):\n",
    "# #         device_gpu = get_device(True, index=q_i)\n",
    "#         time_stamp = datetime.datetime.now().strftime('%Y-%m-%d_%H-%M-%S')\n",
    "#         exp_dir = create_directory(os.path.join(targetdata_dir_exp, \"exp_\"+str(q_i)+\"_\"+time_stamp))\n",
    "#         tphp = generate_tp_hp(tp, hyperparam_space[q_i], hp_names)\n",
    "\n",
    "#         q_process = create_q_process(queue, used_dataset, released_gpu_num, tphp, exp_dir, partition)\n",
    "#         q_processes.append(q_process)\n",
    "#         spawn_q_process(q_process)\n",
    "#         spawned_processes = spawned_processes + 1"
   ]
  },
  {
   "cell_type": "code",
   "execution_count": 40,
   "metadata": {},
   "outputs": [
    {
     "name": "stdout",
     "output_type": "stream",
     "text": [
      "End: 2022-06-21_16-37-57\n"
     ]
    }
   ],
   "source": [
    "print(\"End: \" + datetime.datetime.now().strftime('%Y-%m-%d_%H-%M-%S'))"
   ]
  },
  {
   "cell_type": "markdown",
   "metadata": {},
   "source": [
    "### Load Attributions"
   ]
  },
  {
   "cell_type": "code",
   "execution_count": 41,
   "metadata": {},
   "outputs": [
    {
     "data": {
      "text/plain": [
       "5"
      ]
     },
     "execution_count": 41,
     "metadata": {},
     "output_type": "execute_result"
    }
   ],
   "source": [
    "import glob\n",
    "exp_dirs = glob.glob(targetdata_dir_exp+\"/fold_*_\"+time_stamp)\n",
    "len(exp_dirs)"
   ]
  },
  {
   "cell_type": "code",
   "execution_count": 42,
   "metadata": {},
   "outputs": [],
   "source": [
    "attrAlgName = 'IntegratedGradients'"
   ]
  },
  {
   "cell_type": "code",
   "execution_count": 44,
   "metadata": {},
   "outputs": [],
   "source": [
    "folds = []\n",
    "\n",
    "for edir in exp_dirs:\n",
    "    fold = edir.split(\"/\")[-1].split('_')[1]\n",
    "    fold_attr = ReaderWriter.read_tensor(os.path.join(edir, 'attributions', f'{attrAlgName}_attributions.tensor'), device_cpu)\n",
    "    attributions = fold_attr.detach().cpu().numpy()\n",
    "    folds.append(attributions)"
   ]
  },
  {
   "cell_type": "code",
   "execution_count": 45,
   "metadata": {},
   "outputs": [
    {
     "data": {
      "text/plain": [
       "5"
      ]
     },
     "execution_count": 45,
     "metadata": {},
     "output_type": "execute_result"
    }
   ],
   "source": [
    "len(folds)"
   ]
  },
  {
   "cell_type": "code",
   "execution_count": 47,
   "metadata": {},
   "outputs": [
    {
     "data": {
      "text/plain": [
       "(25757, 926)"
      ]
     },
     "execution_count": 47,
     "metadata": {},
     "output_type": "execute_result"
    }
   ],
   "source": [
    "concat_folds = np.concatenate(folds, axis=0)\n",
    "concat_folds.shape"
   ]
  },
  {
   "cell_type": "code",
   "execution_count": 48,
   "metadata": {},
   "outputs": [
    {
     "data": {
      "text/plain": [
       "(926,)"
      ]
     },
     "execution_count": 48,
     "metadata": {},
     "output_type": "execute_result"
    }
   ],
   "source": [
    "mean_folds = np.mean(concat_folds, axis=0)\n",
    "mean_folds.shape"
   ]
  },
  {
   "cell_type": "code",
   "execution_count": 49,
   "metadata": {},
   "outputs": [],
   "source": [
    "# import shap"
   ]
  },
  {
   "cell_type": "code",
   "execution_count": 50,
   "metadata": {},
   "outputs": [],
   "source": [
    "# source: https://github.com/snap-stanford/ogb/blob/68a303f320220cda859e83e3a8660f2b9debedf6/ogb/utils/features.py#L52\n",
    "\n",
    "atomic_features = ['AtomicNum', 'ChiralTag', 'TotalDegree', \n",
    "                   'FormalCharge', 'TotalNumHs', 'NumRadicalElectrons',\n",
    "                   'Hybridization', 'IsAromatic', 'IsInRing']"
   ]
  },
  {
   "cell_type": "code",
   "execution_count": 51,
   "metadata": {},
   "outputs": [],
   "source": [
    "def list_prefix(l, pre):\n",
    "    return [pre+i for i in l]"
   ]
  },
  {
   "cell_type": "code",
   "execution_count": 52,
   "metadata": {},
   "outputs": [
    {
     "data": {
      "text/plain": [
       "926"
      ]
     },
     "execution_count": 52,
     "metadata": {},
     "output_type": "execute_result"
    }
   ],
   "source": [
    "gene_gex = pd.read_csv('../../data/preprocessing/gene_gex.tsv', sep='\\t')\n",
    "all_feat = list_prefix(atomic_features, \"Drug1_\")+list_prefix(atomic_features, \"Drug2_\")+list(gene_gex.GENE_SYMBOLS)\n",
    "len(all_feat)"
   ]
  },
  {
   "cell_type": "code",
   "execution_count": 56,
   "metadata": {},
   "outputs": [],
   "source": [
    "# Helper method to print importances and visualize distribution\n",
    "def visualize_importances(feature_names, importances, title=\"Average Feature Importances\", plot=True, axis_title=\"Features\"):\n",
    "    print(title)\n",
    "    for i in range(len(feature_names)):\n",
    "        print(feature_names[i], \": \", '%.3f'%(importances[i]))\n",
    "    x_pos = (np.arange(len(feature_names)))\n",
    "    if plot:\n",
    "        plt.figure(figsize=(60,20))\n",
    "        plt.bar(x_pos, importances, align='center')\n",
    "        plt.xticks(x_pos, feature_names, wrap=True)\n",
    "        plt.xlabel(axis_title)\n",
    "        plt.title(title)\n"
   ]
  },
  {
   "cell_type": "code",
   "execution_count": 65,
   "metadata": {},
   "outputs": [
    {
     "name": "stdout",
     "output_type": "stream",
     "text": [
      "Average Feature Importances\n",
      "TSPAN6 :  -0.000\n",
      "SCYL3 :  -0.001\n",
      "BAD :  -0.001\n",
      "LAP3 :  -0.001\n",
      "SNX11 :  -0.000\n",
      "CASP10 :  -0.002\n",
      "CFLAR :  -0.001\n",
      "FKBP4 :  -0.001\n",
      "RBM6 :  -0.000\n",
      "SLC25A13 :  -0.000\n",
      "ST7 :  -0.000\n",
      "CIAPIN1 :  0.000\n",
      "MYCBP2 :  0.000\n",
      "RALA :  -0.000\n",
      "ETV1 :  0.000\n",
      "TBXA2R :  -0.000\n",
      "PAF1 :  -0.002\n",
      "ELAC2 :  -0.001\n",
      "PAFAH1B1 :  -0.000\n",
      "KIAA0100 :  -0.001\n",
      "TRAPPC6A :  -0.000\n",
      "E2F2 :  -0.001\n",
      "SYPL1 :  -0.000\n",
      "CYB561 :  -0.001\n",
      "UBE3C :  -0.000\n",
      "NCAPD2 :  -0.000\n",
      "NISCH :  0.000\n",
      "BTK :  0.000\n",
      "FYN :  -0.000\n",
      "AKAP8L :  -0.000\n",
      "BRCA1 :  -0.000\n",
      "UBR7 :  -0.000\n",
      "MVP :  -0.000\n",
      "HEBP1 :  -0.000\n",
      "MAMLD1 :  -0.001\n",
      "CAPN1 :  -0.000\n",
      "BID :  -0.000\n",
      "NUDCD3 :  -0.000\n",
      "ATP2C1 :  -0.001\n",
      "ZDHHC6 :  -0.000\n",
      "RNH1 :  -0.001\n",
      "ALAS1 :  -0.001\n",
      "DERA :  -0.000\n",
      "TOMM34 :  -0.000\n",
      "FAS :  -0.000\n",
      "CD44 :  -0.001\n",
      "TBPL1 :  -0.000\n",
      "GRN :  0.000\n",
      "TIMP2 :  0.000\n",
      "RAI14 :  -0.001\n",
      "PNKP :  -0.001\n",
      "EPHA3 :  -0.000\n",
      "DSG2 :  -0.001\n",
      "RFC2 :  -0.000\n",
      "MAPK9 :  0.000\n",
      "HERPUD1 :  -0.001\n",
      "RRP12 :  0.000\n",
      "AKR7A2 :  -0.000\n",
      "LAMA3 :  -0.000\n",
      "TRAPPC3 :  -0.002\n",
      "ARID4B :  -0.000\n",
      "SYNE2 :  -0.000\n",
      "ATP11B :  -0.001\n",
      "TARBP1 :  -0.000\n",
      "GNA15 :  -0.001\n",
      "ACAA1 :  -0.001\n",
      "SPAG4 :  -0.000\n",
      "CDH3 :  0.000\n",
      "APPBP2 :  -0.001\n",
      "GPC1 :  -0.000\n",
      "LPAR2 :  0.000\n",
      "HMG20B :  -0.000\n",
      "TRAM2 :  -0.001\n",
      "ERBB3 :  -0.000\n",
      "ADAT1 :  -0.000\n",
      "PDIA5 :  -0.000\n",
      "SPEN :  -0.001\n",
      "MYLK :  -0.001\n",
      "PRKCQ :  -0.002\n",
      "MTHFD2 :  0.000\n",
      "PPP2R5A :  -0.001\n",
      "ELAVL1 :  -0.001\n",
      "FGFR2 :  -0.002\n",
      "ISOC1 :  0.001\n",
      "MTFR1 :  -0.000\n",
      "PHKA1 :  -0.000\n",
      "DHX29 :  -0.000\n",
      "DNTTIP2 :  -0.000\n",
      "TP53BP1 :  -0.001\n",
      "RHOA :  0.000\n",
      "IARS2 :  -0.001\n",
      "COASY :  -0.000\n",
      "NUP133 :  -0.001\n",
      "PIGB :  -0.000\n",
      "GNB5 :  -0.001\n",
      "RAB27A :  -0.001\n",
      "IKBKAP :  -0.000\n",
      "NUCB2 :  -0.000\n",
      "JMJD6 :  -0.000\n",
      "POLB :  -0.002\n",
      "ST6GALNAC2 :  -0.000\n",
      "CSNK2A2 :  -0.000\n",
      "CDC42 :  -0.001\n",
      "NCK2 :  -0.001\n",
      "MAP4K4 :  -0.000\n",
      "SNX13 :  -0.000\n",
      "PRKACA :  -0.000\n",
      "EPN2 :  -0.001\n",
      "SMC1A :  -0.000\n",
      "HSD17B10 :  -0.001\n",
      "P4HA2 :  -0.001\n",
      "NFATC3 :  -0.001\n",
      "STK10 :  -0.000\n",
      "SCARB1 :  0.001\n",
      "KDM5A :  -0.001\n",
      "PTGS2 :  -0.000\n",
      "IGF2BP2 :  -0.000\n",
      "GLI2 :  -0.001\n",
      "EED :  -0.001\n",
      "ICAM3 :  0.000\n",
      "RAP1GAP :  -0.001\n",
      "STXBP2 :  0.000\n",
      "TM9SF3 :  -0.000\n",
      "NFKB2 :  -0.000\n",
      "IL4R :  0.001\n",
      "UBE2A :  -0.002\n",
      "PIK3C3 :  -0.001\n",
      "EDN1 :  0.001\n",
      "PCM1 :  -0.001\n",
      "MKNK1 :  0.000\n",
      "FDFT1 :  -0.001\n",
      "PAFAH1B3 :  -0.001\n",
      "PGM1 :  -0.000\n",
      "EPB41L2 :  0.000\n",
      "KEAP1 :  -0.001\n",
      "RAB21 :  -0.001\n",
      "SESN1 :  -0.001\n",
      "CNOT4 :  -0.000\n",
      "MOK :  -0.002\n",
      "CXCL2 :  0.000\n",
      "MEF2C :  -0.001\n",
      "PTPRC :  -0.000\n",
      "ME2 :  -0.001\n",
      "ITGB5 :  0.000\n",
      "KAT6A :  -0.000\n",
      "ITGAE :  -0.001\n",
      "OXCT1 :  -0.001\n",
      "ZNF586 :  -0.001\n",
      "RPS5 :  -0.000\n",
      "FAT1 :  -0.000\n",
      "PPIE :  -0.001\n",
      "TXLNA :  -0.001\n",
      "MAP3K4 :  0.000\n",
      "CPNE3 :  -0.001\n",
      "CTTN :  -0.000\n",
      "ORC1 :  -0.000\n",
      "MAST2 :  -0.000\n",
      "BAX :  -0.000\n",
      "MMP2 :  -0.001\n",
      "GNAS :  0.000\n",
      "DNM1L :  -0.001\n",
      "AURKA :  -0.000\n",
      "GNA11 :  -0.001\n",
      "ANKRD10 :  -0.000\n",
      "PPP1R13B :  -0.000\n",
      "MAPKAPK5 :  -0.001\n",
      "PXN :  -0.001\n",
      "BIRC5 :  -0.001\n",
      "ICAM1 :  -0.000\n",
      "MCOLN1 :  -0.001\n",
      "AARS :  -0.000\n",
      "DLD :  -0.000\n",
      "WDR7 :  -0.000\n",
      "SPAG7 :  -0.001\n",
      "PSME1 :  0.000\n",
      "PPP2R3C :  -0.000\n",
      "PHGDH :  -0.001\n",
      "CDC45 :  -0.001\n",
      "HDAC6 :  -0.001\n",
      "HOOK2 :  -0.002\n",
      "BAMBI :  -0.001\n",
      "ABL1 :  -0.001\n",
      "CIRBP :  -0.001\n",
      "GADD45B :  -0.002\n",
      "CRKL :  -0.001\n",
      "MICALL1 :  0.000\n",
      "XBP1 :  -0.000\n",
      "FBXO7 :  -0.000\n",
      "HMOX1 :  -0.000\n",
      "CERK :  0.000\n",
      "ABHD4 :  -0.000\n",
      "POLE2 :  -0.000\n",
      "PYGL :  -0.001\n",
      "CGRRF1 :  0.000\n",
      "ATP6V1D :  -0.000\n",
      "TIMM9 :  -0.000\n",
      "GSTZ1 :  -0.000\n",
      "SPTLC2 :  -0.000\n",
      "LGMN :  -0.001\n",
      "DHRS7 :  -0.000\n",
      "EIF5 :  -0.000\n",
      "PCK2 :  -0.000\n",
      "NFKBIA :  -0.001\n",
      "NFATC4 :  -0.000\n",
      "CD40 :  -0.001\n",
      "MYBL2 :  -0.001\n",
      "RAE1 :  -0.001\n",
      "TPD52L2 :  -0.000\n",
      "TCFL5 :  -0.000\n",
      "CDC25B :  -0.001\n",
      "TRIB3 :  -0.001\n",
      "MYL9 :  -0.001\n",
      "USP14 :  -0.001\n",
      "RNMT :  -0.001\n",
      "PSMD10 :  -0.001\n",
      "PGRMC1 :  -0.001\n",
      "SUV39H1 :  -0.001\n",
      "PLP2 :  -0.001\n",
      "SLC25A14 :  -0.001\n",
      "HTATSF1 :  -0.000\n",
      "CORO1A :  -0.001\n",
      "PHKB :  0.000\n",
      "LYRM1 :  -0.000\n",
      "NUP93 :  -0.000\n",
      "ACD :  0.000\n",
      "COG4 :  -0.000\n",
      "PLA2G15 :  -0.001\n",
      "AXIN1 :  -0.001\n",
      "NARFL :  -0.001\n",
      "DNAJA3 :  -0.001\n",
      "STX4 :  -0.001\n",
      "CCP110 :  -0.000\n",
      "CSK :  -0.001\n",
      "FAH :  0.000\n",
      "HOMER2 :  -0.000\n",
      "GABPB1 :  -0.000\n",
      "TJP1 :  -0.000\n",
      "DECR1 :  0.000\n",
      "IKBKB :  -0.000\n",
      "TSTA3 :  -0.000\n",
      "ASAH1 :  -0.000\n",
      "BNIP3L :  -0.001\n",
      "MAN2B1 :  -0.001\n",
      "ECH1 :  -0.000\n",
      "NFKBIB :  -0.002\n",
      "RELB :  -0.000\n",
      "PIH1D1 :  0.000\n",
      "PLEKHJ1 :  -0.000\n",
      "AKAP8 :  -0.001\n",
      "POP4 :  -0.001\n",
      "FSD1 :  -0.001\n",
      "POLR2I :  -0.001\n",
      "ETFB :  -0.001\n",
      "GRWD1 :  -0.001\n",
      "LIG1 :  -0.000\n",
      "LSR :  -0.001\n",
      "CDK6 :  -0.000\n",
      "H2AFV :  -0.001\n",
      "DNAJB6 :  -0.001\n",
      "GRB10 :  -0.001\n",
      "FKBP14 :  -0.000\n",
      "STX1A :  -0.000\n",
      "CASP2 :  -0.000\n",
      "LSM5 :  -0.000\n",
      "SERPINE1 :  0.000\n",
      "PLOD3 :  -0.000\n",
      "RPA3 :  -0.000\n",
      "EZH2 :  -0.001\n",
      "MEST :  0.000\n",
      "BLVRA :  -0.000\n",
      "RHEB :  -0.002\n",
      "PRKAG2 :  -0.000\n",
      "BCL7B :  -0.001\n",
      "YKT6 :  0.000\n",
      "C5 :  -0.001\n",
      "DNM1 :  0.000\n",
      "TESK1 :  -0.000\n",
      "NPDC1 :  -0.001\n",
      "PDLIM1 :  -0.001\n",
      "GATA3 :  -0.000\n",
      "RAB11FIP2 :  0.000\n",
      "LIPA :  -0.001\n",
      "XPNPEP1 :  -0.000\n",
      "SMC3 :  -0.000\n",
      "ZMIZ1 :  -0.000\n",
      "CASC3 :  -0.001\n",
      "RAD51C :  -0.001\n",
      "RNF167 :  -0.000\n",
      "NUP88 :  -0.001\n",
      "BLMH :  -0.001\n",
      "SMARCD2 :  -0.001\n",
      "CYTH1 :  -0.001\n",
      "CCL2 :  0.000\n",
      "COL1A1 :  -0.000\n",
      "VAT1 :  0.000\n",
      "DUSP3 :  -0.000\n",
      "TMEM97 :  -0.002\n",
      "DCUN1D4 :  -0.000\n",
      "CHIC2 :  0.000\n",
      "INPP4B :  0.001\n",
      "WFS1 :  -0.001\n",
      "TRIM2 :  -0.000\n",
      "MFSD10 :  -0.001\n",
      "UGDH :  -0.000\n",
      "HSPA8 :  0.000\n",
      "CCND1 :  -0.001\n",
      "CCDC86 :  0.000\n",
      "TMEM109 :  -0.000\n",
      "BIRC2 :  -0.001\n",
      "PDHX :  -0.001\n",
      "SLC35F2 :  -0.001\n",
      "SLC11A2 :  -0.001\n",
      "MLEC :  -0.000\n",
      "CDKN1B :  0.000\n",
      "RFC5 :  -0.000\n",
      "TIMELESS :  -0.000\n",
      "GAPDH :  -0.001\n",
      "COPS7A :  -0.001\n",
      "PTPN6 :  -0.002\n",
      "GOLT1B :  -0.000\n",
      "C2CD5 :  -0.000\n",
      "PPARD :  0.000\n",
      "MCM3 :  -0.000\n",
      "ZNF451 :  -0.000\n",
      "ASCC3 :  -0.000\n",
      "GMNN :  0.000\n",
      "CCND3 :  -0.001\n",
      "TBP :  -0.001\n",
      "DUSP22 :  -0.000\n",
      "SENP6 :  -0.001\n",
      "PAPD7 :  -0.000\n",
      "GHR :  -0.001\n",
      "HMGCS1 :  -0.000\n",
      "KIF20A :  -0.001\n",
      "NNT :  -0.000\n",
      "HMGCR :  -0.001\n",
      "GNPDA1 :  -0.001\n",
      "SKP1 :  -0.001\n",
      "NR3C1 :  -0.001\n",
      "TCERG1 :  -0.000\n",
      "CSNK1A1 :  -0.000\n",
      "SMC4 :  0.000\n",
      "PCCB :  -0.001\n",
      "HES1 :  -0.002\n",
      "GNAI2 :  -0.000\n",
      "NPRL2 :  -0.001\n",
      "CBLB :  -0.000\n",
      "MAPKAPK3 :  -0.000\n",
      "ABCC5 :  -0.001\n",
      "MRPL19 :  -0.001\n",
      "STAT1 :  -0.000\n",
      "PECR :  -0.000\n",
      "TXNDC9 :  -0.001\n",
      "ST3GAL5 :  0.000\n",
      "KDM3A :  -0.001\n",
      "FHL2 :  -0.001\n",
      "STK25 :  -0.001\n",
      "ID2 :  -0.002\n",
      "CEBPZ :  -0.001\n",
      "SLC1A4 :  0.001\n",
      "TRAK2 :  0.000\n",
      "NFE2L2 :  -0.001\n",
      "MSH6 :  -0.000\n",
      "SPR :  -0.001\n",
      "SCP2 :  -0.001\n",
      "FAM20B :  -0.000\n",
      "ICMT :  -0.000\n",
      "ARHGEF2 :  -0.001\n",
      "PLA2G4A :  0.001\n",
      "GADD45A :  0.000\n",
      "RGS2 :  -0.001\n",
      "CRYZ :  -0.001\n",
      "LGALS8 :  -0.000\n",
      "SDHB :  -0.001\n",
      "KDM5B :  -0.001\n",
      "GALE :  -0.001\n",
      "EBNA1BP2 :  -0.000\n",
      "CDC20 :  -0.000\n",
      "IPO13 :  -0.000\n",
      "ATP6V0B :  -0.000\n",
      "PIK3R3 :  -0.001\n",
      "SLC35A3 :  -0.000\n",
      "STMN1 :  -0.001\n",
      "RPS6KA1 :  -0.001\n",
      "DHDDS :  -0.000\n",
      "NENF :  -0.001\n",
      "RPA2 :  -0.001\n",
      "KIF14 :  -0.001\n",
      "CAMSAP2 :  -0.000\n",
      "ATF6 :  -0.001\n",
      "CREB1 :  -0.000\n",
      "TMEM5 :  -0.001\n",
      "FOXO3 :  -0.001\n",
      "SPP1 :  -0.000\n",
      "ITGB1BP1 :  -0.001\n",
      "CCDC92 :  -0.001\n",
      "HEATR1 :  -0.000\n",
      "CTNNAL1 :  -0.001\n",
      "TGFB3 :  -0.001\n",
      "DNMT3A :  -0.001\n",
      "IDE :  -0.000\n",
      "SMNDC1 :  -0.001\n",
      "PCMT1 :  -0.000\n",
      "ACAT2 :  -0.000\n",
      "DNAJC15 :  -0.001\n",
      "UFM1 :  -0.001\n",
      "EGR1 :  -0.001\n",
      "PLS1 :  -0.000\n",
      "SOCS2 :  -0.000\n",
      "DUSP4 :  -0.001\n",
      "SORBS3 :  -0.001\n",
      "PTK2B :  0.001\n",
      "TBX2 :  -0.001\n",
      "SLC35B1 :  -0.000\n",
      "CAT :  -0.001\n",
      "ZMYM2 :  -0.000\n",
      "PIK3CA :  -0.001\n",
      "PDS5A :  -0.000\n",
      "CXCR4 :  -0.001\n",
      "MRPS2 :  -0.000\n",
      "CISD1 :  -0.000\n",
      "ECD :  0.000\n",
      "ACOT9 :  -0.001\n",
      "ATF1 :  -0.000\n",
      "CDK2 :  0.000\n",
      "LPGAT1 :  -0.001\n",
      "NCOA3 :  -0.001\n",
      "VAPB :  -0.001\n",
      "STAMBP :  0.000\n",
      "USP22 :  -0.001\n",
      "SPDEF :  -0.001\n",
      "SOX4 :  0.000\n",
      "TM9SF2 :  -0.001\n",
      "BMP4 :  -0.001\n",
      "NUP85 :  -0.000\n",
      "MBOAT7 :  -0.001\n",
      "IL1B :  -0.000\n",
      "PAX8 :  -0.004\n",
      "RTN2 :  -0.001\n",
      "PSMF1 :  -0.001\n",
      "BECN1 :  0.001\n",
      "TRAP1 :  -0.000\n",
      "TIMM17B :  0.000\n",
      "KTN1 :  -0.002\n",
      "PIN1 :  -0.001\n",
      "FBXL12 :  -0.000\n",
      "SYNGR3 :  -0.000\n",
      "MACF1 :  -0.001\n",
      "SMARCA4 :  -0.000\n",
      "TICAM1 :  -0.000\n",
      "PTPN12 :  -0.001\n",
      "GNAI1 :  -0.001\n",
      "ZFP36 :  -0.000\n",
      "PAICS :  -0.001\n",
      "CALU :  0.000\n",
      "CHN1 :  -0.001\n",
      "HAT1 :  -0.000\n",
      "CHAC1 :  -0.000\n",
      "ARPP19 :  -0.001\n",
      "LOXL1 :  0.000\n",
      "DCTD :  -0.001\n",
      "PARP2 :  -0.000\n",
      "SNX6 :  0.000\n",
      "EAPP :  -0.000\n",
      "REEP5 :  -0.001\n",
      "ITFG1 :  -0.001\n",
      "APOE :  -0.001\n",
      "XPO7 :  -0.002\n",
      "FCHO1 :  -0.002\n",
      "PAK4 :  -0.000\n",
      "DNMT1 :  -0.000\n",
      "PRR7 :  0.000\n",
      "SH3BP5 :  -0.001\n",
      "NR1H2 :  0.000\n",
      "ACLY :  -0.001\n",
      "IL13RA1 :  -0.001\n",
      "TOP2A :  -0.000\n",
      "DNAJB1 :  -0.001\n",
      "LRRC41 :  -0.001\n",
      "PPARG :  -0.001\n",
      "ENOSF1 :  -0.000\n",
      "ARFIP2 :  -0.001\n",
      "RRP8 :  -0.001\n",
      "RPA1 :  -0.000\n",
      "SNAP25 :  -0.000\n",
      "PCNA :  -0.001\n",
      "KIAA0907 :  -0.001\n",
      "IGHMBP2 :  0.000\n",
      "DPH2 :  -0.000\n",
      "WASF3 :  -0.001\n",
      "PIK3C2B :  -0.001\n",
      "CCNA1 :  -0.000\n",
      "TCEAL4 :  -0.000\n",
      "EPHB2 :  -0.001\n",
      "CNDP2 :  -0.001\n",
      "CCNB1 :  -0.001\n",
      "CDK7 :  -0.000\n",
      "BHLHE40 :  -0.000\n",
      "EDEM1 :  -0.000\n",
      "VAV3 :  -0.000\n",
      "PSRC1 :  0.000\n",
      "CCNH :  -0.001\n",
      "DDB2 :  0.000\n",
      "ETS1 :  -0.001\n",
      "TMEM2 :  -0.000\n",
      "FBXO21 :  -0.000\n",
      "DMTF1 :  -0.000\n",
      "TES :  -0.001\n",
      "CDK4 :  -0.001\n",
      "PAN2 :  -0.001\n",
      "MAP7 :  -0.000\n",
      "KCNK1 :  -0.000\n",
      "COG2 :  -0.000\n",
      "DNAJB2 :  -0.000\n",
      "CAB39 :  -0.001\n",
      "PWP1 :  -0.000\n",
      "SCRN1 :  -0.000\n",
      "BZW2 :  -0.000\n",
      "NMT1 :  -0.001\n",
      "EPRS :  -0.000\n",
      "YME1L1 :  -0.001\n",
      "TOR1A :  -0.001\n",
      "STXBP1 :  0.001\n",
      "TLR4 :  0.000\n",
      "PRPF4 :  -0.001\n",
      "FPGS :  -0.001\n",
      "TEX10 :  -0.001\n",
      "MYC :  -0.000\n",
      "RPS6 :  -0.001\n",
      "CNPY3 :  -0.000\n",
      "TFAP2A :  -0.001\n",
      "BPHL :  0.000\n",
      "IER3 :  -0.000\n",
      "PRCP :  -0.001\n",
      "SLC37A4 :  -0.001\n",
      "MAP2K5 :  -0.002\n",
      "SQRDL :  -0.002\n",
      "NUSAP1 :  -0.001\n",
      "PAK6 :  0.000\n",
      "ADAM10 :  -0.000\n",
      "SLC5A6 :  -0.000\n",
      "FBXO11 :  -0.001\n",
      "ANXA7 :  -0.001\n",
      "HERC6 :  -0.000\n",
      "CENPE :  -0.000\n",
      "HADH :  -0.000\n",
      "EGF :  -0.001\n",
      "DUSP6 :  -0.001\n",
      "RB1 :  -0.002\n",
      "MBNL2 :  -0.001\n",
      "GTF2A2 :  -0.001\n",
      "TSPAN3 :  -0.000\n",
      "WDR61 :  -0.001\n",
      "TPM1 :  -0.001\n",
      "IGF1R :  -0.000\n",
      "IQGAP1 :  -0.000\n",
      "PMM2 :  -0.001\n",
      "TXNL4B :  -0.001\n",
      "NOL3 :  -0.001\n",
      "MBTPS1 :  -0.001\n",
      "CLTC :  -0.000\n",
      "NPC1 :  -0.000\n",
      "TP53 :  -0.000\n",
      "PMAIP1 :  -0.000\n",
      "PIP4K2B :  -0.000\n",
      "ERBB2 :  -0.001\n",
      "GRB7 :  -0.000\n",
      "PFKL :  -0.000\n",
      "SIRT3 :  -0.000\n",
      "IFNAR1 :  -0.000\n",
      "APP :  -0.001\n",
      "AKT1 :  -0.001\n",
      "NOSIP :  -0.000\n",
      "WDTC1 :  -0.002\n",
      "KIF2C :  -0.000\n",
      "PTPRF :  -0.000\n",
      "MTF2 :  -0.000\n",
      "ATP1B1 :  -0.000\n",
      "MPC2 :  -0.000\n",
      "CREG1 :  -0.000\n",
      "TMCO1 :  -0.001\n",
      "PPOX :  -0.001\n",
      "RFX5 :  -0.001\n",
      "IKBKE :  -0.000\n",
      "DYRK3 :  -0.001\n",
      "TP53BP2 :  0.000\n",
      "SLC27A3 :  -0.000\n",
      "INTS3 :  -0.000\n",
      "SCCPDH :  -0.000\n",
      "NVL :  -0.000\n",
      "PARP1 :  -0.001\n",
      "LBR :  -0.000\n",
      "DUSP11 :  -0.000\n",
      "RALB :  0.000\n",
      "HSPD1 :  -0.000\n",
      "VGLL4 :  -0.001\n",
      "ATG3 :  -0.000\n",
      "TCTA :  0.000\n",
      "ENOPH1 :  -0.001\n",
      "SNCA :  -0.000\n",
      "CCNA2 :  -0.001\n",
      "MYO10 :  0.000\n",
      "SSBP2 :  -0.000\n",
      "RASA1 :  -0.000\n",
      "TNIP1 :  -0.001\n",
      "G3BP1 :  0.000\n",
      "GFOD1 :  -0.001\n",
      "TNFRSF21 :  -0.000\n",
      "NFKBIE :  -0.001\n",
      "EGFR :  -0.000\n",
      "IGFBP3 :  0.000\n",
      "TLK2 :  -0.001\n",
      "CASK :  0.000\n",
      "EBP :  -0.001\n",
      "NSDHL :  -0.001\n",
      "POLR2K :  -0.000\n",
      "CDKN2A :  -0.000\n",
      "NOTCH1 :  -0.002\n",
      "USP6NL :  0.000\n",
      "RSU1 :  -0.001\n",
      "PAK1 :  -0.000\n",
      "HYOU1 :  -0.000\n",
      "EML3 :  -0.001\n",
      "CHEK1 :  -0.000\n",
      "YTHDF1 :  -0.001\n",
      "PLCB3 :  0.000\n",
      "ALDOA :  -0.001\n",
      "HMGA2 :  -0.000\n",
      "ARID5B :  -0.001\n",
      "PRSS23 :  -0.000\n",
      "UBE3B :  -0.001\n",
      "INPP1 :  -0.000\n",
      "SLC25A4 :  -0.001\n",
      "BAG3 :  -0.000\n",
      "MBNL1 :  -0.000\n",
      "PTPRK :  0.000\n",
      "CAST :  -0.001\n",
      "CETN3 :  -0.000\n",
      "RPIA :  -0.001\n",
      "HS2ST1 :  -0.001\n",
      "PPP2R5E :  -0.001\n",
      "FAM69A :  -0.001\n",
      "TSEN2 :  -0.001\n",
      "CDK19 :  -0.001\n",
      "OXA1L :  -0.000\n",
      "FZD7 :  -0.001\n",
      "RRAGA :  -0.001\n",
      "DCK :  -0.001\n",
      "TIAM1 :  -0.000\n",
      "SUPV3L1 :  -0.000\n",
      "HK1 :  -0.001\n",
      "UBE2L6 :  -0.001\n",
      "KAT6B :  -0.000\n",
      "UTP14A :  -0.000\n",
      "MAPK13 :  0.000\n",
      "PHKG2 :  -0.001\n",
      "TATDN2 :  -0.001\n",
      "FZD1 :  -0.001\n",
      "KIT :  -0.002\n",
      "TSC22D3 :  -0.000\n",
      "C2CD2 :  -0.000\n",
      "FAIM :  -0.001\n",
      "GDPD5 :  -0.001\n",
      "NIT1 :  -0.001\n",
      "CSRP1 :  0.000\n",
      "CBR1 :  0.001\n",
      "CBR3 :  -0.001\n",
      "PSMD4 :  -0.001\n",
      "EFCAB14 :  0.000\n",
      "CALM3 :  -0.001\n",
      "DFFA :  -0.001\n",
      "NR2F6 :  -0.001\n",
      "RRP1B :  -0.000\n",
      "RALGDS :  -0.000\n",
      "SLC2A6 :  -0.000\n",
      "SHC1 :  -0.000\n",
      "ANO10 :  -0.001\n",
      "FGFR4 :  -0.000\n",
      "CPSF4 :  -0.001\n",
      "VPS28 :  -0.000\n",
      "SQSTM1 :  -0.000\n",
      "BDH1 :  -0.001\n",
      "DUSP14 :  -0.000\n",
      "CCNF :  -0.000\n",
      "AMDHD2 :  0.000\n",
      "KLHL21 :  -0.000\n",
      "USP1 :  0.000\n",
      "SNX7 :  0.000\n",
      "AGL :  -0.001\n",
      "DENND2D :  -0.001\n",
      "MAPKAPK2 :  -0.001\n",
      "SGCB :  -0.001\n",
      "VPS72 :  -0.001\n",
      "TGFBR2 :  -0.000\n",
      "GTPBP8 :  -0.000\n",
      "TIPARP :  -0.000\n",
      "ABHD6 :  0.000\n",
      "APBB2 :  -0.001\n",
      "TOPBP1 :  0.000\n",
      "RPN1 :  -0.001\n",
      "RPL39L :  -0.001\n",
      "PRKCD :  -0.001\n",
      "LRPAP1 :  0.001\n",
      "CDC25A :  -0.000\n",
      "ZNF589 :  -0.000\n",
      "LSM6 :  0.000\n",
      "SLC25A46 :  -0.001\n",
      "CASP3 :  -0.000\n",
      "TERT :  -0.000\n",
      "SLC35A1 :  -0.001\n",
      "NOS3 :  -0.001\n",
      "ALDH7A1 :  -0.001\n",
      "PSIP1 :  -0.000\n",
      "SYK :  -0.000\n",
      "NFIL3 :  -0.000\n",
      "DYNLT3 :  0.000\n",
      "MELK :  -0.001\n",
      "KLHDC2 :  -0.000\n",
      "HPRT1 :  -0.001\n",
      "CASP7 :  -0.001\n",
      "PACSIN3 :  -0.002\n",
      "HTRA1 :  0.000\n",
      "CEP57 :  -0.001\n",
      "NOLC1 :  -0.000\n",
      "FRS2 :  -0.001\n",
      "PCBD1 :  -0.000\n",
      "ILK :  -0.001\n",
      "KIAA0355 :  -0.001\n",
      "ATMIN :  -0.001\n",
      "BLCAP :  -0.001\n",
      "PEX11A :  -0.000\n",
      "TERF2IP :  -0.001\n",
      "PLK1 :  -0.000\n",
      "CLPX :  -0.001\n",
      "SMAD3 :  0.000\n",
      "PRR15L :  -0.000\n",
      "CRK :  -0.001\n",
      "FAM57A :  -0.001\n",
      "GLOD4 :  -0.000\n",
      "CD320 :  0.000\n",
      "KCTD5 :  -0.001\n",
      "RAB4A :  0.000\n",
      "MAPK1IP1L :  -0.000\n",
      "DDIT4 :  -0.001\n",
      "NT5DC2 :  -0.001\n",
      "KIF5C :  -0.000\n",
      "THAP11 :  -0.000\n",
      "COG7 :  -0.000\n",
      "RAB31 :  -0.001\n",
      "STAT3 :  -0.001\n",
      "PKIG :  -0.000\n",
      "MAT2A :  -0.000\n",
      "PPIC :  -0.000\n",
      "ATF5 :  -0.001\n",
      "ADRB2 :  -0.000\n",
      "PTK2 :  0.000\n",
      "CLIC4 :  0.000\n",
      "DFFB :  -0.001\n",
      "RFNG :  -0.001\n",
      "CRTAP :  0.000\n",
      "CDK1 :  -0.000\n",
      "FOS :  -0.001\n",
      "TMED10 :  -0.000\n",
      "NUDT9 :  -0.000\n",
      "ELOVL6 :  -0.000\n",
      "HSPA4 :  -0.000\n",
      "CDCA4 :  -0.000\n",
      "FEZ2 :  -0.000\n",
      "RBKS :  -0.001\n",
      "SCAND1 :  -0.000\n",
      "GAA :  -0.001\n",
      "CANT1 :  -0.001\n",
      "POLR1C :  -0.001\n",
      "ZNF318 :  -0.000\n",
      "WIPF2 :  -0.000\n",
      "CLSTN1 :  -0.000\n",
      "ZNF274 :  -0.001\n",
      "TCEA2 :  -0.000\n",
      "BCL2 :  0.000\n",
      "MALT1 :  -0.000\n",
      "ZNF131 :  0.000\n",
      "C2CD2L :  -0.001\n",
      "ARNT2 :  0.000\n",
      "RAD9A :  -0.001\n",
      "OXSR1 :  -0.000\n",
      "GLRX :  -0.000\n",
      "TRIB1 :  -0.002\n",
      "DAG1 :  -0.000\n",
      "SMARCC1 :  -0.001\n",
      "STAT5B :  -0.001\n",
      "NET1 :  -0.000\n",
      "FUT1 :  -0.000\n",
      "UBE2C :  -0.001\n",
      "ARHGAP1 :  -0.001\n",
      "CCNE2 :  0.000\n",
      "CLTB :  0.000\n",
      "DRAP1 :  -0.000\n",
      "FOSL1 :  -0.001\n",
      "CCDC85B :  0.000\n",
      "RUVBL1 :  -0.001\n",
      "SFN :  -0.001\n",
      "MSRA :  -0.000\n",
      "TUBB6 :  -0.001\n",
      "CHMP6 :  -0.000\n",
      "BNIP3 :  -0.001\n",
      "CDK5R1 :  -0.001\n",
      "TIMM22 :  -0.001\n",
      "JUN :  -0.001\n",
      "STAP2 :  -0.000\n",
      "DDX10 :  -0.000\n",
      "P4HTM :  -0.001\n",
      "SUZ12 :  -0.001\n",
      "EXOSC4 :  -0.000\n",
      "AURKB :  -0.000\n",
      "RRS1 :  -0.000\n",
      "GATA2 :  -0.000\n",
      "RBM15B :  -0.002\n",
      "PUF60 :  -0.001\n",
      "NRIP1 :  0.000\n",
      "ADO :  -0.000\n",
      "WRB :  -0.000\n",
      "MRPS16 :  -0.000\n",
      "EXT1 :  -0.000\n",
      "BACE2 :  0.000\n",
      "ADI1 :  -0.001\n",
      "TSKU :  -0.001\n",
      "ACBD3 :  0.000\n",
      "MTA1 :  -0.000\n",
      "PYCR1 :  -0.000\n",
      "PSMG1 :  -0.000\n",
      "TMEM50A :  -0.000\n",
      "CHEK2 :  -0.000\n",
      "PRKX :  -0.001\n",
      "NIPSNAP1 :  -0.000\n",
      "CRELD2 :  0.000\n",
      "COPB2 :  -0.000\n",
      "FOXO4 :  0.000\n",
      "PROS1 :  -0.000\n",
      "HIST2H2BE :  -0.001\n",
      "MUC1 :  -0.003\n",
      "IKZF1 :  -0.000\n",
      "INSIG1 :  -0.000\n",
      "GPATCH8 :  -0.000\n",
      "ZNF395 :  -0.000\n",
      "CHP1 :  -0.002\n",
      "COL4A1 :  -0.000\n",
      "USP7 :  -0.001\n",
      "EIF4EBP1 :  -0.001\n",
      "UBQLN2 :  -0.000\n",
      "ARL4C :  -0.001\n",
      "PLSCR1 :  -0.001\n",
      "S100A13 :  -0.001\n",
      "S100A4 :  -0.000\n",
      "PTPN1 :  -0.000\n",
      "EVL :  -0.001\n",
      "PIK3R4 :  -0.001\n",
      "HDAC2 :  -0.000\n",
      "MMP1 :  -0.001\n",
      "TLE1 :  -0.001\n",
      "ARHGEF12 :  0.000\n",
      "LAGE3 :  -0.002\n",
      "IGF2R :  -0.000\n",
      "SRC :  -0.001\n",
      "TBC1D9B :  -0.000\n",
      "GTF2E2 :  -0.001\n",
      "LRP10 :  -0.000\n",
      "PDGFA :  -0.001\n",
      "SPTAN1 :  -0.000\n",
      "ADH5 :  -0.000\n",
      "HIST1H2BK :  -0.000\n",
      "MPZL1 :  -0.001\n",
      "TFDP1 :  -0.001\n",
      "DDX42 :  -0.001\n",
      "SPRED2 :  -0.002\n",
      "GFPT1 :  -0.000\n",
      "TXNRD1 :  -0.000\n",
      "CTNND1 :  -0.000\n",
      "KLHL9 :  -0.002\n",
      "PNP :  -0.001\n",
      "FOXJ3 :  -0.001\n",
      "UBE2J1 :  -0.001\n",
      "KIAA0753 :  -0.001\n",
      "DAXX :  -0.000\n",
      "PSMB8 :  -0.001\n",
      "HLA-DRA :  -0.000\n",
      "SKIV2L :  -0.000\n",
      "HSPA1A :  -0.001\n",
      "ABCF1 :  -0.001\n",
      "DDR1 :  -0.000\n",
      "TCTN1 :  -0.000\n",
      "TRIM13 :  -0.002\n",
      "RNPS1 :  -0.001\n",
      "HN1L :  -0.000\n",
      "SACM1L :  -0.000\n",
      "MLLT11 :  -0.001\n",
      "NRAS :  -0.000\n",
      "CSNK1E :  0.001\n",
      "TSPAN4 :  -0.000\n",
      "MYCBP :  0.001\n",
      "FIS1 :  -0.000\n",
      "IFRD2 :  -0.001\n",
      "NPEPL1 :  -0.000\n",
      "CEBPD :  -0.001\n",
      "PLEKHM1 :  -0.000\n",
      "MIF :  0.000\n",
      "PRAF2 :  0.000\n",
      "LYN :  -0.001\n",
      "POLG2 :  -0.000\n"
     ]
    },
    {
     "data": {
      "image/png": "[encoded data removed]",
      "text/plain": [
       "<Figure size 4320x1440 with 1 Axes>"
      ]
     },
     "metadata": {
      "needs_background": "light"
     },
     "output_type": "display_data"
    }
   ],
   "source": [
    "# visualize_importances(all_feat, np.mean(folds[0], axis=0))\n",
    "# visualize_importances(all_feat, mean_folds)\n",
    "visualize_importances(all_feat[18:], mean_folds[18:])"
   ]
  }
 ],
 "metadata": {
  "kernelspec": {
   "display_name": "Python 3 (ipykernel)",
   "language": "python",
   "name": "python3"
  },
  "language_info": {
   "codemirror_mode": {
    "name": "ipython",
    "version": 3
   },
   "file_extension": ".py",
   "mimetype": "text/x-python",
   "name": "python",
   "nbconvert_exporter": "python",
   "pygments_lexer": "ipython3",
   "version": "3.9.9"
  }
 },
 "nbformat": 4,
 "nbformat_minor": 4
}
