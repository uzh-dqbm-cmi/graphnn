{
 "cells": [
  {
   "cell_type": "code",
   "execution_count": 1,
   "metadata": {
    "scrolled": false
   },
   "outputs": [],
   "source": [
    "%load_ext autoreload\n",
    "%autoreload 2"
   ]
  },
  {
   "cell_type": "code",
   "execution_count": 2,
   "metadata": {},
   "outputs": [],
   "source": [
    "import os\n",
    "import sys\n",
    "import numpy as np\n",
    "import pandas as pd\n",
    "import datetime\n",
    "import seaborn as sns\n",
    "import ogb\n",
    "from tqdm import tqdm\n",
    "import hiplot as hip\n",
    "from copy import deepcopy\n",
    "import datetime"
   ]
  },
  {
   "cell_type": "code",
   "execution_count": 3,
   "metadata": {},
   "outputs": [],
   "source": [
    "import torch\n",
    "from torch_geometric.data import Data\n",
    "from torch_geometric.loader import DataLoader\n",
    "from torch.utils.data import Subset, TensorDataset"
   ]
  },
  {
   "cell_type": "code",
   "execution_count": 4,
   "metadata": {},
   "outputs": [
    {
     "name": "stdout",
     "output_type": "stream",
     "text": [
      "/opt/data/chemprop_run/git/notebooks/AltModels\n",
      "/opt/data/chemprop_run/git\n"
     ]
    }
   ],
   "source": [
    "cwd = os.getcwd()\n",
    "print(cwd)\n",
    "# cwd_parent = os.path.abspath(os.path.join(cwd, os.pardir))\n",
    "cwd_parent = os.path.abspath(os.path.join(cwd, '../../'))\n",
    "print(cwd_parent)\n",
    "\n",
    "sys.path.append(cwd_parent)"
   ]
  },
  {
   "cell_type": "code",
   "execution_count": 5,
   "metadata": {},
   "outputs": [],
   "source": [
    "import deepadr\n",
    "from deepadr.dataset import *\n",
    "from deepadr.utilities import *\n",
    "from deepadr.run_workflow import *\n",
    "from deepadr.chemfeatures import *\n",
    "from deepadr.hyphelperflat import *\n",
    "from deepadr.model_gnn_ogb import GNN, DeepAdr_SiameseTrf, ExpressionNN\n",
    "from ogb.graphproppred import Evaluator"
   ]
  },
  {
   "cell_type": "code",
   "execution_count": 6,
   "metadata": {},
   "outputs": [],
   "source": [
    "from rdkit.Chem.Draw import IPythonConsole\n",
    "from rdkit.Chem import Draw"
   ]
  },
  {
   "cell_type": "code",
   "execution_count": 7,
   "metadata": {},
   "outputs": [],
   "source": [
    "rawdata_dir = '../data/raw/'\n",
    "processed_dir = '../data/processed/'\n",
    "up_dir = '..'"
   ]
  },
  {
   "cell_type": "code",
   "execution_count": 8,
   "metadata": {
    "scrolled": true
   },
   "outputs": [
    {
     "name": "stdout",
     "output_type": "stream",
     "text": [
      "number of GPUs available: 5\n",
      "cuda:0, name:NVIDIA GeForce GTX 1080 Ti\n",
      "total memory available: 10.91656494140625 GB\n",
      "total memory allocated on device: 0.0 GB\n",
      "max memory allocated on device: 0.0 GB\n",
      "total memory cached on device: 0.0 GB\n",
      "max memory cached  on device: 0.0 GB\n",
      "\n",
      "cuda:1, name:NVIDIA GeForce GTX 1080 Ti\n",
      "total memory available: 10.91656494140625 GB\n",
      "total memory allocated on device: 0.0 GB\n",
      "max memory allocated on device: 0.0 GB\n",
      "total memory cached on device: 0.0 GB\n",
      "max memory cached  on device: 0.0 GB\n",
      "\n",
      "cuda:2, name:NVIDIA GeForce GTX 1080 Ti\n",
      "total memory available: 10.91656494140625 GB\n",
      "total memory allocated on device: 0.0 GB\n",
      "max memory allocated on device: 0.0 GB\n",
      "total memory cached on device: 0.0 GB\n",
      "max memory cached  on device: 0.0 GB\n",
      "\n",
      "cuda:3, name:NVIDIA GeForce GTX 1080 Ti\n",
      "total memory available: 10.91656494140625 GB\n",
      "total memory allocated on device: 0.0 GB\n",
      "max memory allocated on device: 0.0 GB\n",
      "total memory cached on device: 0.0 GB\n",
      "max memory cached  on device: 0.0 GB\n",
      "\n",
      "cuda:4, name:NVIDIA GeForce GTX 1080 Ti\n",
      "total memory available: 10.91656494140625 GB\n",
      "total memory allocated on device: 0.0 GB\n",
      "max memory allocated on device: 0.0 GB\n",
      "total memory cached on device: 0.0 GB\n",
      "max memory cached  on device: 0.0 GB\n",
      "\n"
     ]
    }
   ],
   "source": [
    "report_available_cuda_devices()"
   ]
  },
  {
   "cell_type": "code",
   "execution_count": 9,
   "metadata": {},
   "outputs": [
    {
     "data": {
      "text/plain": [
       "5"
      ]
     },
     "execution_count": 9,
     "metadata": {},
     "output_type": "execute_result"
    }
   ],
   "source": [
    "n_gpu = torch.cuda.device_count()\n",
    "n_gpu"
   ]
  },
  {
   "cell_type": "code",
   "execution_count": 10,
   "metadata": {},
   "outputs": [],
   "source": [
    "device_cpu = get_device(to_gpu=False)\n",
    "# device_gpu = get_device(True, index=0)\n",
    "\n",
    "# fdtype = torch.float32"
   ]
  },
  {
   "cell_type": "code",
   "execution_count": 11,
   "metadata": {},
   "outputs": [
    {
     "name": "stdout",
     "output_type": "stream",
     "text": [
      "torch: 1.9.1\n",
      "CUDA: 11.1\n",
      "3.9.9 | packaged by conda-forge | (main, Dec 20 2021, 02:41:03) \n",
      "[GCC 9.4.0]\n"
     ]
    }
   ],
   "source": [
    "print(\"torch:\", torch.__version__)\n",
    "print(\"CUDA:\", torch.version.cuda)\n",
    "print(sys.version)"
   ]
  },
  {
   "cell_type": "markdown",
   "metadata": {},
   "source": [
    "### Preparing dataset "
   ]
  },
  {
   "cell_type": "code",
   "execution_count": 12,
   "metadata": {},
   "outputs": [],
   "source": [
    "score = 'total_thresh' #'total_thresh'\n",
    "score_val = 4"
   ]
  },
  {
   "cell_type": "code",
   "execution_count": 13,
   "metadata": {},
   "outputs": [],
   "source": [
    "DSdataset_name = f'DrugComb_{score}_{score_val}'\n",
    "\n",
    "# v_1: GNN\n",
    "# v_2: Alt Models (Baseline)\n",
    "data_fname = 'data_v2'"
   ]
  },
  {
   "cell_type": "code",
   "execution_count": 14,
   "metadata": {
    "scrolled": true
   },
   "outputs": [
    {
     "name": "stdout",
     "output_type": "stream",
     "text": [
      "path_current_dir /opt/data/chemprop_run/git/deepadr\n",
      "path_current_dir /opt/data/chemprop_run/git/deepadr\n",
      "path_current_dir /opt/data/chemprop_run/git/deepadr\n",
      "path_current_dir /opt/data/chemprop_run/git/deepadr\n",
      "/opt/data/chemprop_run/git/data/processed/DrugComb_total_thresh_4/data_v2\n"
     ]
    }
   ],
   "source": [
    "targetdata_dir = create_directory(os.path.join(processed_dir, DSdataset_name, data_fname))\n",
    "targetdata_dir_raw = create_directory(os.path.join(targetdata_dir, \"raw\"))\n",
    "targetdata_dir_processed = create_directory(os.path.join(targetdata_dir, \"processed\"))\n",
    "targetdata_dir_exp = create_directory(os.path.join(targetdata_dir, \"experiments\"))\n",
    "print(targetdata_dir)"
   ]
  },
  {
   "cell_type": "code",
   "execution_count": 15,
   "metadata": {},
   "outputs": [],
   "source": [
    "xFlat = ReaderWriter.read_data(os.path.join(targetdata_dir_raw, 'X_flat.pkl'))\n",
    "y = ReaderWriter.read_data(os.path.join(targetdata_dir_raw, 'y.pkl'))\n",
    "expression = ReaderWriter.read_data(os.path.join(targetdata_dir_raw, 'expression.pkl'))"
   ]
  },
  {
   "cell_type": "code",
   "execution_count": 16,
   "metadata": {},
   "outputs": [
    {
     "data": {
      "text/plain": [
       "torch.Size([25757, 18])"
      ]
     },
     "execution_count": 16,
     "metadata": {},
     "output_type": "execute_result"
    }
   ],
   "source": [
    "xFlatMat = torch.stack([torch.cat(i) for i in list(xFlat.values())])\n",
    "xFlatMat.shape"
   ]
  },
  {
   "cell_type": "code",
   "execution_count": 17,
   "metadata": {},
   "outputs": [
    {
     "data": {
      "text/plain": [
       "tensor([[ 0.1661,  0.2518,  1.3373,  ..., -0.4085,  0.8581,  0.8979],\n",
       "        [ 0.1661,  0.2518,  1.3373,  ..., -0.4085,  0.8581,  0.8979],\n",
       "        [ 0.1661,  0.2518,  1.3373,  ..., -0.4085,  0.8581,  0.8979],\n",
       "        ...,\n",
       "        [-0.0373, -1.4322,  1.5411,  ..., -1.2711,  1.2013,  0.9537],\n",
       "        [-0.0373, -1.4322,  1.5411,  ..., -1.2711,  1.2013,  0.9537],\n",
       "        [-0.0373, -1.4322,  1.5411,  ..., -1.2711,  1.2013,  0.9537]],\n",
       "       dtype=torch.float64)"
      ]
     },
     "execution_count": 17,
     "metadata": {},
     "output_type": "execute_result"
    }
   ],
   "source": [
    "torch.tensor(expression)"
   ]
  },
  {
   "cell_type": "code",
   "execution_count": 18,
   "metadata": {
    "scrolled": false
   },
   "outputs": [
    {
     "data": {
      "text/plain": [
       "torch.Size([25757, 926])"
      ]
     },
     "execution_count": 18,
     "metadata": {},
     "output_type": "execute_result"
    }
   ],
   "source": [
    "x = torch.cat([xFlatMat, torch.tensor(expression)], dim=1)\n",
    "x.shape"
   ]
  },
  {
   "cell_type": "code",
   "execution_count": 19,
   "metadata": {},
   "outputs": [
    {
     "data": {
      "text/plain": [
       "array([0, 0, 0, ..., 0, 1, 1])"
      ]
     },
     "execution_count": 19,
     "metadata": {},
     "output_type": "execute_result"
    }
   ],
   "source": [
    "y"
   ]
  },
  {
   "cell_type": "code",
   "execution_count": 20,
   "metadata": {},
   "outputs": [
    {
     "data": {
      "text/plain": [
       "torch.Size([25757, 926])"
      ]
     },
     "execution_count": 20,
     "metadata": {},
     "output_type": "execute_result"
    }
   ],
   "source": [
    "x.shape"
   ]
  },
  {
   "cell_type": "code",
   "execution_count": 21,
   "metadata": {},
   "outputs": [
    {
     "data": {
      "text/plain": [
       "(25757,)"
      ]
     },
     "execution_count": 21,
     "metadata": {},
     "output_type": "execute_result"
    }
   ],
   "source": [
    "y.shape"
   ]
  },
  {
   "cell_type": "code",
   "execution_count": 22,
   "metadata": {},
   "outputs": [
    {
     "name": "stdout",
     "output_type": "stream",
     "text": [
      "fold_num: 0\n",
      "train data\n",
      "class: 0 norm count: 0.5764128559102675\n",
      "class: 1 norm count: 0.4235871440897325\n",
      "validation data\n",
      "class: 0 norm count: 0.5764192139737991\n",
      "class: 1 norm count: 0.42358078602620086\n",
      "test data\n",
      "class: 0 norm count: 0.5764751552795031\n",
      "class: 1 norm count: 0.4235248447204969\n",
      "\n",
      "-------------------------\n",
      "fold_num: 1\n",
      "train data\n",
      "class: 0 norm count: 0.5764128559102675\n",
      "class: 1 norm count: 0.4235871440897325\n",
      "validation data\n",
      "class: 0 norm count: 0.5764192139737991\n",
      "class: 1 norm count: 0.42358078602620086\n",
      "test data\n",
      "class: 0 norm count: 0.5764751552795031\n",
      "class: 1 norm count: 0.4235248447204969\n",
      "\n",
      "-------------------------\n",
      "fold_num: 2\n",
      "train data\n",
      "class: 0 norm count: 0.5764356969533567\n",
      "class: 1 norm count: 0.4235643030466433\n",
      "validation data\n",
      "class: 0 norm count: 0.5764192139737991\n",
      "class: 1 norm count: 0.42358078602620086\n",
      "test data\n",
      "class: 0 norm count: 0.5763929334109882\n",
      "class: 1 norm count: 0.4236070665890118\n",
      "\n",
      "-------------------------\n",
      "fold_num: 3\n",
      "train data\n",
      "class: 0 norm count: 0.5764356969533567\n",
      "class: 1 norm count: 0.4235643030466433\n",
      "validation data\n",
      "class: 0 norm count: 0.5764192139737991\n",
      "class: 1 norm count: 0.42358078602620086\n",
      "test data\n",
      "class: 0 norm count: 0.5763929334109882\n",
      "class: 1 norm count: 0.4236070665890118\n",
      "\n",
      "-------------------------\n",
      "fold_num: 4\n",
      "train data\n",
      "class: 0 norm count: 0.5764356969533567\n",
      "class: 1 norm count: 0.4235643030466433\n",
      "validation data\n",
      "class: 0 norm count: 0.5764192139737991\n",
      "class: 1 norm count: 0.42358078602620086\n",
      "test data\n",
      "class: 0 norm count: 0.5763929334109882\n",
      "class: 1 norm count: 0.4236070665890118\n",
      "\n",
      "-------------------------\n"
     ]
    }
   ],
   "source": [
    "fold_partitions = get_stratified_partitions(y,\n",
    "                                            num_folds=5,\n",
    "                                            valid_set_portion=0.1,\n",
    "                                            random_state=42)"
   ]
  },
  {
   "cell_type": "code",
   "execution_count": 23,
   "metadata": {},
   "outputs": [
    {
     "name": "stdout",
     "output_type": "stream",
     "text": [
      "Number of training graphs: 18544\n",
      "Number of validation graphs: 2061\n",
      "Number of testing graphs: 5152\n"
     ]
    }
   ],
   "source": [
    "print(\"Number of training graphs: \"+ str(len(fold_partitions[0]['train'])))\n",
    "print(\"Number of validation graphs: \"+ str(len(fold_partitions[0]['validation'])))\n",
    "print(\"Number of testing graphs: \"+ str(len(fold_partitions[0]['test'])))\n"
   ]
  },
  {
   "cell_type": "markdown",
   "metadata": {},
   "source": [
    "### Preprocessing"
   ]
  },
  {
   "cell_type": "code",
   "execution_count": 24,
   "metadata": {},
   "outputs": [],
   "source": [
    "from sklearn.preprocessing import StandardScaler\n",
    "scaler = StandardScaler()"
   ]
  },
  {
   "cell_type": "code",
   "execution_count": 25,
   "metadata": {},
   "outputs": [],
   "source": [
    "x_np = x.numpy()\n",
    "y_np = y"
   ]
  },
  {
   "cell_type": "code",
   "execution_count": 26,
   "metadata": {},
   "outputs": [],
   "source": [
    "pipeline = compose(scaler.fit_transform, np.tanh, scaler.fit_transform)"
   ]
  },
  {
   "cell_type": "code",
   "execution_count": 27,
   "metadata": {},
   "outputs": [],
   "source": [
    "x_np_norm = pipeline(x_np)"
   ]
  },
  {
   "cell_type": "code",
   "execution_count": 28,
   "metadata": {},
   "outputs": [
    {
     "data": {
      "text/plain": [
       "926"
      ]
     },
     "execution_count": 28,
     "metadata": {},
     "output_type": "execute_result"
    }
   ],
   "source": [
    "deepsynergy_input_size = x_np_norm.shape[1]\n",
    "deepsynergy_input_size"
   ]
  },
  {
   "cell_type": "code",
   "execution_count": 29,
   "metadata": {},
   "outputs": [],
   "source": [
    "ids = list(range(len(y)))"
   ]
  },
  {
   "cell_type": "code",
   "execution_count": 30,
   "metadata": {},
   "outputs": [
    {
     "data": {
      "text/plain": [
       "<torch.utils.data.dataset.TensorDataset at 0x145ddc0fd790>"
      ]
     },
     "execution_count": 30,
     "metadata": {},
     "output_type": "execute_result"
    }
   ],
   "source": [
    "dataset = TensorDataset(torch.tensor(x_np_norm),torch.tensor(y), torch.tensor(ids))\n",
    "dataset"
   ]
  },
  {
   "cell_type": "code",
   "execution_count": 31,
   "metadata": {},
   "outputs": [
    {
     "data": {
      "text/plain": [
       "(25757, 926)"
      ]
     },
     "execution_count": 31,
     "metadata": {},
     "output_type": "execute_result"
    }
   ],
   "source": [
    "x_np_norm.shape"
   ]
  },
  {
   "cell_type": "code",
   "execution_count": 32,
   "metadata": {},
   "outputs": [
    {
     "data": {
      "text/plain": [
       "{0: {'train': array([21963, 17491, 19884, ..., 11325, 21339, 25680]),\n",
       "  'validation': array([18723, 23213,  4725, ..., 10639, 19324, 23851]),\n",
       "  'test': array([    4,    13,    16, ..., 25731, 25743, 25753])},\n",
       " 1: {'train': array([21879, 17520, 19930, ..., 11381, 21340, 25649]),\n",
       "  'validation': array([18761, 23201,  4837, ..., 10678, 19346, 23809]),\n",
       "  'test': array([    0,     5,     6, ..., 25742, 25750, 25752])},\n",
       " 2: {'train': array([14700, 17473, 19805, ..., 11386, 21309,  6998]),\n",
       "  'validation': array([18663, 23185,  4710, ..., 10657, 19221, 23769]),\n",
       "  'test': array([   10,    12,    17, ..., 25745, 25747, 25754])},\n",
       " 3: {'train': array([14697, 17467, 19782, ..., 11338, 21272,  7027]),\n",
       "  'validation': array([18642, 23193,  4827, ..., 10576, 19214, 23817]),\n",
       "  'test': array([    1,     3,     7, ..., 25740, 25748, 25755])},\n",
       " 4: {'train': array([14726, 17420, 19775, ..., 11305, 21306,  7019]),\n",
       "  'validation': array([18613, 23218,  4759, ..., 10537, 19243, 23831]),\n",
       "  'test': array([    2,    11,    18, ..., 25749, 25751, 25756])}}"
      ]
     },
     "execution_count": 32,
     "metadata": {},
     "output_type": "execute_result"
    }
   ],
   "source": [
    "fold_partitions"
   ]
  },
  {
   "cell_type": "code",
   "execution_count": 33,
   "metadata": {},
   "outputs": [
    {
     "data": {
      "text/plain": [
       "(25757,)"
      ]
     },
     "execution_count": 33,
     "metadata": {},
     "output_type": "execute_result"
    }
   ],
   "source": [
    "idxs = []\n",
    "\n",
    "for fold in fold_partitions.values():\n",
    "#     print(fold)\n",
    "    idxs.append(fold['test'])\n",
    "    \n",
    "test_idxs = np.concatenate(idxs)\n",
    "test_idxs.shape"
   ]
  },
  {
   "cell_type": "code",
   "execution_count": 34,
   "metadata": {},
   "outputs": [
    {
     "data": {
      "text/plain": [
       "(25757, 926)"
      ]
     },
     "execution_count": 34,
     "metadata": {},
     "output_type": "execute_result"
    }
   ],
   "source": [
    "test_features = np.take(x_np_norm, test_idxs, axis=0)\n",
    "test_features.shape"
   ]
  },
  {
   "cell_type": "markdown",
   "metadata": {},
   "source": [
    "### Deep Synergy"
   ]
  },
  {
   "cell_type": "code",
   "execution_count": 38,
   "metadata": {},
   "outputs": [],
   "source": [
    "# training params total_thresh 4\n",
    "tp = {\n",
    "    \"batch_size\" : 300,\n",
    "    \"num_epochs\" : 100,\n",
    "    \n",
    "    \"emb_dim\" : 300,\n",
    "    \"gnn_type\" : \"gatv2\",\n",
    "    \"num_layer\" : 5,\n",
    "    \"graph_pooling\" : \"mean\", #attention\n",
    "    \n",
    "    \"input_embed_dim\" : None,\n",
    "    \"gene_embed_dim\": 1,\n",
    "    \"num_attn_heads\" : 2,\n",
    "    \"num_transformer_units\" : 1,\n",
    "    \"p_dropout\" : 0.3,\n",
    "#     \"nonlin_func\" : nn.ReLU(),\n",
    "    \"mlp_embed_factor\" : 2,\n",
    "    \"pooling_mode\" : 'attn',\n",
    "    \"dist_opt\" : 'cosine',\n",
    "\n",
    "    \"base_lr\" : 3e-5, #3e-4\n",
    "    \"max_lr_mul\": 5,\n",
    "    \"l2_reg\" : 1e-5,\n",
    "    \"loss_w\" : 1.,\n",
    "    \"margin_v\" : 1.,\n",
    "\n",
    "    \"expression_dim\" : 64,\n",
    "    \"expression_input_size\" : 908,\n",
    "    \"exp_H1\" : 8192,\n",
    "    \"exp_H2\" : 4096\n",
    "}"
   ]
  },
  {
   "cell_type": "code",
   "execution_count": 39,
   "metadata": {},
   "outputs": [
    {
     "data": {
      "text/plain": [
       "926"
      ]
     },
     "execution_count": 39,
     "metadata": {},
     "output_type": "execute_result"
    }
   ],
   "source": [
    "tp['deepsynergy_input_size'] = deepsynergy_input_size\n",
    "tp['deepsynergy_input_size']"
   ]
  },
  {
   "cell_type": "code",
   "execution_count": 40,
   "metadata": {},
   "outputs": [],
   "source": [
    "def spawn_q_process(q_process):\n",
    "    print(\">>> spawning hyperparam search process\")\n",
    "    q_process.start()\n",
    "    \n",
    "def join_q_process(q_process):\n",
    "    q_process.join()\n",
    "    print(\"<<< joined hyperparam search process\")\n",
    "    \n",
    "def create_q_process(queue, used_dataset, gpu_num, tphp, exp_dir, partition): #\n",
    "#     fold_gpu_map = {0:gpu_num}\n",
    "    return mp.Process(target=deepadr.hyphelperflat.run_exp_flat, args=(queue, used_dataset, gpu_num, tphp, exp_dir, partition)) #\n",
    "\n",
    "def create_q_process_attr(queue, x_np_norm, gpu_num, tphp, exp_dir, partition): #\n",
    "#     fold_gpu_map = {0:gpu_num}\n",
    "    return mp.Process(target=deepadr.hyphelperflat.run_attribution, args=(queue, x_np_norm, gpu_num, tphp, exp_dir, partition)) #"
   ]
  },
  {
   "cell_type": "code",
   "execution_count": 41,
   "metadata": {},
   "outputs": [],
   "source": [
    "# import torch.multiprocessing as mp\n",
    "# mp.set_start_method(\"spawn\", force=True)\n",
    "\n",
    "# queue = mp.Queue()\n",
    "# q_processes = []\n",
    "\n",
    "# # partition = fold_partitions[0]\n",
    "# time_stamp = datetime.datetime.now().strftime('%Y-%m-%d_%H-%M-%S')\n",
    "\n",
    "# print(\"Start: \" + time_stamp)\n",
    "\n",
    "# for q_i in range(min(n_gpu, len(fold_partitions))):\n",
    "# #     device_gpu = get_device(True, index=q_i)\n",
    "#     partition = fold_partitions[q_i]\n",
    "#     exp_dir = create_directory(os.path.join(targetdata_dir_exp, \"fold_\"+str(q_i)+\"_\"+time_stamp))\n",
    "#     create_directory(os.path.join(exp_dir, \"predictions\"))\n",
    "#     create_directory(os.path.join(exp_dir, \"modelstates\"))\n",
    "\n",
    "# #     tphp = generate_tp_hp(tp, hyperparam_space[q_i], hp_names)\n",
    "    \n",
    "#     q_process = create_q_process(queue, dataset, q_i, tp, exp_dir, partition)\n",
    "#     q_processes.append(q_process)\n",
    "#     spawn_q_process(q_process)\n",
    "\n",
    "# spawned_processes = n_gpu\n",
    "    \n",
    "# # for q_i in range(len(hyperparam_space)):\n",
    "# for q_i in range(min(n_gpu, len(fold_partitions))):\n",
    "#     join_q_process(q_processes[q_i])\n",
    "#     released_gpu_num = queue.get()\n",
    "#     print(\"released_gpu_num:\", released_gpu_num)\n",
    "# #     if(spawned_processes < len(hyperparam_space)):\n",
    "# # #         device_gpu = get_device(True, index=q_i)\n",
    "# #         time_stamp = datetime.datetime.now().strftime('%Y-%m-%d_%H-%M-%S')\n",
    "# #         exp_dir = create_directory(os.path.join(targetdata_dir_exp, \"exp_\"+str(q_i)+\"_\"+time_stamp))\n",
    "# #         tphp = generate_tp_hp(tp, hyperparam_space[q_i], hp_names)\n",
    "\n",
    "# #         q_process = create_q_process(queue, used_dataset, released_gpu_num, tphp, exp_dir, partition)\n",
    "# #         q_processes.append(q_process)\n",
    "# #         spawn_q_process(q_process)\n",
    "# #         spawned_processes = spawned_processes + 1"
   ]
  },
  {
   "cell_type": "code",
   "execution_count": 42,
   "metadata": {},
   "outputs": [
    {
     "name": "stdout",
     "output_type": "stream",
     "text": [
      "End: 2022-06-22_11-54-01\n"
     ]
    }
   ],
   "source": [
    "print(\"End: \" + datetime.datetime.now().strftime('%Y-%m-%d_%H-%M-%S'))"
   ]
  },
  {
   "cell_type": "code",
   "execution_count": null,
   "metadata": {},
   "outputs": [],
   "source": []
  },
  {
   "cell_type": "code",
   "execution_count": null,
   "metadata": {},
   "outputs": [],
   "source": []
  },
  {
   "cell_type": "markdown",
   "metadata": {},
   "source": [
    "### Run Attributions"
   ]
  },
  {
   "cell_type": "code",
   "execution_count": 43,
   "metadata": {},
   "outputs": [],
   "source": [
    "time_stamp = '2022-06-21_16-16-26'"
   ]
  },
  {
   "cell_type": "code",
   "execution_count": 44,
   "metadata": {},
   "outputs": [
    {
     "name": "stdout",
     "output_type": "stream",
     "text": [
      "Time stamp: 2022-06-21_16-16-26\n",
      "path_current_dir /opt/data/chemprop_run/git/deepadr\n",
      "path_current_dir /opt/data/chemprop_run/git/deepadr\n",
      ">>> spawning hyperparam search process\n",
      "path_current_dir /opt/data/chemprop_run/git/deepadr\n",
      "path_current_dir /opt/data/chemprop_run/git/deepadr\n",
      ">>> spawning hyperparam search process\n"
     ]
    },
    {
     "name": "stderr",
     "output_type": "stream",
     "text": [
      "/opt/conda/envs/graphnn/lib/python3.9/site-packages/captum/attr/_utils/batching.py:45: UserWarning: Internal batch size cannot be less than the number of input examples. Defaulting to internal batch size of 5152 equal to the number of examples.\n",
      "  warnings.warn(\n"
     ]
    },
    {
     "name": "stdout",
     "output_type": "stream",
     "text": [
      "path_current_dir /opt/data/chemprop_run/git/deepadr\n",
      "path_current_dir /opt/data/chemprop_run/git/deepadr\n",
      ">>> spawning hyperparam search process\n"
     ]
    },
    {
     "name": "stderr",
     "output_type": "stream",
     "text": [
      "/opt/conda/envs/graphnn/lib/python3.9/site-packages/captum/attr/_utils/batching.py:45: UserWarning: Internal batch size cannot be less than the number of input examples. Defaulting to internal batch size of 5152 equal to the number of examples.\n",
      "  warnings.warn(\n"
     ]
    },
    {
     "name": "stdout",
     "output_type": "stream",
     "text": [
      "path_current_dir /opt/data/chemprop_run/git/deepadr\n",
      "path_current_dir /opt/data/chemprop_run/git/deepadr\n",
      ">>> spawning hyperparam search process\n"
     ]
    },
    {
     "name": "stderr",
     "output_type": "stream",
     "text": [
      "/opt/conda/envs/graphnn/lib/python3.9/site-packages/captum/attr/_utils/batching.py:45: UserWarning: Internal batch size cannot be less than the number of input examples. Defaulting to internal batch size of 5151 equal to the number of examples.\n",
      "  warnings.warn(\n"
     ]
    },
    {
     "name": "stdout",
     "output_type": "stream",
     "text": [
      "path_current_dir /opt/data/chemprop_run/git/deepadr\n",
      "path_current_dir /opt/data/chemprop_run/git/deepadr\n",
      ">>> spawning hyperparam search process\n"
     ]
    },
    {
     "name": "stderr",
     "output_type": "stream",
     "text": [
      "/opt/conda/envs/graphnn/lib/python3.9/site-packages/captum/attr/_utils/batching.py:45: UserWarning: Internal batch size cannot be less than the number of input examples. Defaulting to internal batch size of 5151 equal to the number of examples.\n",
      "  warnings.warn(\n",
      "/opt/conda/envs/graphnn/lib/python3.9/site-packages/captum/attr/_utils/batching.py:45: UserWarning: Internal batch size cannot be less than the number of input examples. Defaulting to internal batch size of 5151 equal to the number of examples.\n",
      "  warnings.warn(\n"
     ]
    },
    {
     "name": "stdout",
     "output_type": "stream",
     "text": [
      "gpu: cuda:0\n",
      "Testbline shape: torch.Size([5152, 926])\n",
      "Dropout(p=0.5, inplace=False) Dropout(p=0.2, inplace=False)\n",
      "DS model:\n",
      " ExpressionNN(\n",
      "  (fc1): Linear(in_features=926, out_features=8192, bias=True)\n",
      "  (fc2): Linear(in_features=8192, out_features=4096, bias=True)\n",
      "  (fc3): Linear(in_features=4096, out_features=2, bias=True)\n",
      "  (drop_in): Dropout(p=0.2, inplace=False)\n",
      "  (drop): Dropout(p=0.5, inplace=False)\n",
      "  (log_softmax): LogSoftmax(dim=-1)\n",
      ")\n",
      "Loading pre-trained model from: /opt/data/chemprop_run/git/data/processed/DrugComb_total_thresh_4/data_v2/experiments/fold_0_2022-06-21_16-16-26/modelstates/deepsynergy_model_statedict.pt\n",
      "Starting attr calc...\n",
      "gpu: cuda:1\n",
      "Testbline shape: torch.Size([5152, 926])\n",
      "Dropout(p=0.5, inplace=False) Dropout(p=0.2, inplace=False)\n",
      "DS model:\n",
      " ExpressionNN(\n",
      "  (fc1): Linear(in_features=926, out_features=8192, bias=True)\n",
      "  (fc2): Linear(in_features=8192, out_features=4096, bias=True)\n",
      "  (fc3): Linear(in_features=4096, out_features=2, bias=True)\n",
      "  (drop_in): Dropout(p=0.2, inplace=False)\n",
      "  (drop): Dropout(p=0.5, inplace=False)\n",
      "  (log_softmax): LogSoftmax(dim=-1)\n",
      ")\n",
      "Loading pre-trained model from: /opt/data/chemprop_run/git/data/processed/DrugComb_total_thresh_4/data_v2/experiments/fold_1_2022-06-21_16-16-26/modelstates/deepsynergy_model_statedict.pt\n",
      "Starting attr calc...\n",
      "<<< joined hyperparam search process\n",
      "released_gpu_num: 0\n",
      "<<< joined hyperparam search process\n",
      "released_gpu_num: 1\n",
      "gpu: cuda:2\n",
      "Testbline shape: torch.Size([5151, 926])\n",
      "Dropout(p=0.5, inplace=False) Dropout(p=0.2, inplace=False)\n",
      "DS model:\n",
      " ExpressionNN(\n",
      "  (fc1): Linear(in_features=926, out_features=8192, bias=True)\n",
      "  (fc2): Linear(in_features=8192, out_features=4096, bias=True)\n",
      "  (fc3): Linear(in_features=4096, out_features=2, bias=True)\n",
      "  (drop_in): Dropout(p=0.2, inplace=False)\n",
      "  (drop): Dropout(p=0.5, inplace=False)\n",
      "  (log_softmax): LogSoftmax(dim=-1)\n",
      ")\n",
      "Loading pre-trained model from: /opt/data/chemprop_run/git/data/processed/DrugComb_total_thresh_4/data_v2/experiments/fold_2_2022-06-21_16-16-26/modelstates/deepsynergy_model_statedict.pt\n",
      "Starting attr calc...\n",
      "<<< joined hyperparam search process\n",
      "released_gpu_num: 2\n",
      "gpu: cuda:3\n",
      "Testbline shape: torch.Size([5151, 926])\n",
      "Dropout(p=0.5, inplace=False) Dropout(p=0.2, inplace=False)\n",
      "DS model:\n",
      " ExpressionNN(\n",
      "  (fc1): Linear(in_features=926, out_features=8192, bias=True)\n",
      "  (fc2): Linear(in_features=8192, out_features=4096, bias=True)\n",
      "  (fc3): Linear(in_features=4096, out_features=2, bias=True)\n",
      "  (drop_in): Dropout(p=0.2, inplace=False)\n",
      "  (drop): Dropout(p=0.5, inplace=False)\n",
      "  (log_softmax): LogSoftmax(dim=-1)\n",
      ")\n",
      "Loading pre-trained model from: /opt/data/chemprop_run/git/data/processed/DrugComb_total_thresh_4/data_v2/experiments/fold_3_2022-06-21_16-16-26/modelstates/deepsynergy_model_statedict.pt\n",
      "Starting attr calc...\n",
      "<<< joined hyperparam search process\n",
      "released_gpu_num: 3\n",
      "gpu: cuda:4\n",
      "Testbline shape: torch.Size([5151, 926])\n",
      "Dropout(p=0.5, inplace=False) Dropout(p=0.2, inplace=False)\n",
      "DS model:\n",
      " ExpressionNN(\n",
      "  (fc1): Linear(in_features=926, out_features=8192, bias=True)\n",
      "  (fc2): Linear(in_features=8192, out_features=4096, bias=True)\n",
      "  (fc3): Linear(in_features=4096, out_features=2, bias=True)\n",
      "  (drop_in): Dropout(p=0.2, inplace=False)\n",
      "  (drop): Dropout(p=0.5, inplace=False)\n",
      "  (log_softmax): LogSoftmax(dim=-1)\n",
      ")\n",
      "Loading pre-trained model from: /opt/data/chemprop_run/git/data/processed/DrugComb_total_thresh_4/data_v2/experiments/fold_4_2022-06-21_16-16-26/modelstates/deepsynergy_model_statedict.pt\n",
      "Starting attr calc...\n",
      "<<< joined hyperparam search process\n",
      "released_gpu_num: 4\n"
     ]
    }
   ],
   "source": [
    "import torch.multiprocessing as mp\n",
    "mp.set_start_method(\"spawn\", force=True)\n",
    "\n",
    "queue = mp.Queue()\n",
    "# q_attr = mp.Queue()\n",
    "q_processes = []\n",
    "\n",
    "l_attr = []\n",
    "\n",
    "# partition = fold_partitions[0]\n",
    "# time_stamp = datetime.datetime.now().strftime('%Y-%m-%d_%H-%M-%S')\n",
    "\n",
    "print(\"Time stamp: \" + time_stamp)\n",
    "\n",
    "for q_i in range(min(n_gpu, len(fold_partitions))):\n",
    "#     device_gpu = get_device(True, index=q_i)\n",
    "    partition = fold_partitions[q_i]\n",
    "    exp_dir = create_directory(os.path.join(targetdata_dir_exp, \"fold_\"+str(q_i)+\"_\"+time_stamp))\n",
    "#     create_directory(os.path.join(exp_dir, \"predictions\"))\n",
    "#     create_directory(os.path.join(exp_dir, \"modelstates\"))\n",
    "    create_directory(os.path.join(exp_dir, \"attributions\"))\n",
    "\n",
    "\n",
    "#     tphp = generate_tp_hp(tp, hyperparam_space[q_i], hp_names)\n",
    "    \n",
    "    q_process = create_q_process_attr(queue, x_np_norm, q_i, tp, exp_dir, partition)\n",
    "    q_processes.append(q_process)\n",
    "    spawn_q_process(q_process)\n",
    "\n",
    "spawned_processes = n_gpu\n",
    "    \n",
    "# for q_i in range(len(hyperparam_space)):\n",
    "for q_i in range(min(n_gpu, len(fold_partitions))):\n",
    "    join_q_process(q_processes[q_i])\n",
    "    released_gpu_num = queue.get()\n",
    "#     l_attr.append(q_attr.get())\n",
    "    print(\"released_gpu_num:\", released_gpu_num)\n",
    "#     if(spawned_processes < len(hyperparam_space)):\n",
    "# #         device_gpu = get_device(True, index=q_i)\n",
    "#         time_stamp = datetime.datetime.now().strftime('%Y-%m-%d_%H-%M-%S')\n",
    "#         exp_dir = create_directory(os.path.join(targetdata_dir_exp, \"exp_\"+str(q_i)+\"_\"+time_stamp))\n",
    "#         tphp = generate_tp_hp(tp, hyperparam_space[q_i], hp_names)\n",
    "\n",
    "#         q_process = create_q_process(queue, used_dataset, released_gpu_num, tphp, exp_dir, partition)\n",
    "#         q_processes.append(q_process)\n",
    "#         spawn_q_process(q_process)\n",
    "#         spawned_processes = spawned_processes + 1"
   ]
  },
  {
   "cell_type": "code",
   "execution_count": 45,
   "metadata": {},
   "outputs": [
    {
     "name": "stdout",
     "output_type": "stream",
     "text": [
      "End: 2022-06-22_11-55-20\n"
     ]
    }
   ],
   "source": [
    "print(\"End: \" + datetime.datetime.now().strftime('%Y-%m-%d_%H-%M-%S'))"
   ]
  },
  {
   "cell_type": "markdown",
   "metadata": {},
   "source": [
    "### Load Attributions"
   ]
  },
  {
   "cell_type": "code",
   "execution_count": 46,
   "metadata": {},
   "outputs": [
    {
     "data": {
      "text/plain": [
       "5"
      ]
     },
     "execution_count": 46,
     "metadata": {},
     "output_type": "execute_result"
    }
   ],
   "source": [
    "import glob\n",
    "exp_dirs = glob.glob(targetdata_dir_exp+\"/fold_*_\"+time_stamp)\n",
    "len(exp_dirs)"
   ]
  },
  {
   "cell_type": "code",
   "execution_count": 47,
   "metadata": {},
   "outputs": [],
   "source": [
    "attrAlgName = 'IntegratedGradients'"
   ]
  },
  {
   "cell_type": "code",
   "execution_count": 48,
   "metadata": {},
   "outputs": [],
   "source": [
    "folds = []\n",
    "\n",
    "for edir in exp_dirs:\n",
    "    fold = edir.split(\"/\")[-1].split('_')[1]\n",
    "    fold_attr = ReaderWriter.read_tensor(os.path.join(edir, 'attributions', f'{attrAlgName}_attributions.tensor'), device_cpu)\n",
    "    attributions = fold_attr.detach().cpu().numpy()\n",
    "    folds.append(attributions)"
   ]
  },
  {
   "cell_type": "code",
   "execution_count": 49,
   "metadata": {},
   "outputs": [
    {
     "data": {
      "text/plain": [
       "5"
      ]
     },
     "execution_count": 49,
     "metadata": {},
     "output_type": "execute_result"
    }
   ],
   "source": [
    "len(folds)"
   ]
  },
  {
   "cell_type": "code",
   "execution_count": 50,
   "metadata": {},
   "outputs": [
    {
     "data": {
      "text/plain": [
       "(25757, 926)"
      ]
     },
     "execution_count": 50,
     "metadata": {},
     "output_type": "execute_result"
    }
   ],
   "source": [
    "concat_folds = np.concatenate(folds, axis=0)\n",
    "concat_folds.shape"
   ]
  },
  {
   "cell_type": "code",
   "execution_count": 51,
   "metadata": {},
   "outputs": [
    {
     "data": {
      "text/plain": [
       "(926,)"
      ]
     },
     "execution_count": 51,
     "metadata": {},
     "output_type": "execute_result"
    }
   ],
   "source": [
    "mean_folds = np.mean(concat_folds, axis=0)\n",
    "mean_folds.shape"
   ]
  },
  {
   "cell_type": "code",
   "execution_count": 52,
   "metadata": {},
   "outputs": [],
   "source": [
    "import shap"
   ]
  },
  {
   "cell_type": "code",
   "execution_count": 53,
   "metadata": {},
   "outputs": [],
   "source": [
    "# source: https://github.com/snap-stanford/ogb/blob/68a303f320220cda859e83e3a8660f2b9debedf6/ogb/utils/features.py#L52\n",
    "\n",
    "atomic_features = ['AtomicNum', 'ChiralTag', 'TotalDegree', \n",
    "                   'FormalCharge', 'TotalNumHs', 'NumRadicalElectrons',\n",
    "                   'Hybridization', 'IsAromatic', 'IsInRing']"
   ]
  },
  {
   "cell_type": "code",
   "execution_count": 54,
   "metadata": {},
   "outputs": [],
   "source": [
    "def list_prefix(l, pre):\n",
    "    return [pre+i for i in l]"
   ]
  },
  {
   "cell_type": "code",
   "execution_count": 55,
   "metadata": {},
   "outputs": [
    {
     "data": {
      "text/plain": [
       "926"
      ]
     },
     "execution_count": 55,
     "metadata": {},
     "output_type": "execute_result"
    }
   ],
   "source": [
    "gene_gex = pd.read_csv('../../data/preprocessing/gene_gex.tsv', sep='\\t')\n",
    "all_feat = list_prefix(atomic_features, \"Drug1_\")+list_prefix(atomic_features, \"Drug2_\")+list(gene_gex.GENE_SYMBOLS)\n",
    "len(all_feat)"
   ]
  },
  {
   "cell_type": "code",
   "execution_count": 56,
   "metadata": {},
   "outputs": [],
   "source": [
    "# Helper method to print importances and visualize distribution\n",
    "def visualize_importances(feature_names, importances, title=\"Average Feature Importances\", plot=True, axis_title=\"Features\"):\n",
    "    print(title)\n",
    "    for i in range(len(feature_names)):\n",
    "        print(feature_names[i], \": \", '%.3f'%(importances[i]))\n",
    "    x_pos = (np.arange(len(feature_names)))\n",
    "    if plot:\n",
    "        plt.figure(figsize=(60,20))\n",
    "        plt.bar(x_pos, importances, align='center')\n",
    "        plt.xticks(x_pos, feature_names, wrap=True)\n",
    "        plt.xlabel(axis_title)\n",
    "        plt.title(title)\n"
   ]
  },
  {
   "cell_type": "code",
   "execution_count": 57,
   "metadata": {},
   "outputs": [
    {
     "name": "stdout",
     "output_type": "stream",
     "text": [
      "Average Feature Importances\n",
      "TSPAN6 :  0.008\n",
      "SCYL3 :  -0.023\n",
      "BAD :  0.015\n",
      "LAP3 :  -0.019\n",
      "SNX11 :  0.020\n",
      "CASP10 :  -0.035\n",
      "CFLAR :  -0.033\n",
      "FKBP4 :  0.005\n",
      "RBM6 :  -0.010\n",
      "SLC25A13 :  0.022\n",
      "ST7 :  0.025\n",
      "CIAPIN1 :  -0.012\n",
      "MYCBP2 :  -0.007\n",
      "RALA :  0.024\n",
      "ETV1 :  -0.038\n",
      "TBXA2R :  -0.010\n",
      "PAF1 :  -0.007\n",
      "ELAC2 :  -0.007\n",
      "PAFAH1B1 :  0.023\n",
      "KIAA0100 :  0.000\n",
      "TRAPPC6A :  0.005\n",
      "E2F2 :  -0.025\n",
      "SYPL1 :  -0.033\n",
      "CYB561 :  -0.025\n",
      "UBE3C :  -0.005\n",
      "NCAPD2 :  0.001\n",
      "NISCH :  0.033\n",
      "BTK :  -0.028\n",
      "FYN :  0.031\n",
      "AKAP8L :  0.028\n",
      "BRCA1 :  0.005\n",
      "UBR7 :  0.008\n",
      "MVP :  -0.037\n",
      "HEBP1 :  -0.004\n",
      "MAMLD1 :  0.021\n",
      "CAPN1 :  0.001\n",
      "BID :  0.006\n",
      "NUDCD3 :  0.009\n",
      "ATP2C1 :  -0.020\n",
      "ZDHHC6 :  -0.011\n",
      "RNH1 :  0.018\n",
      "ALAS1 :  0.018\n",
      "DERA :  0.031\n",
      "TOMM34 :  0.016\n",
      "FAS :  -0.007\n",
      "CD44 :  -0.014\n",
      "TBPL1 :  0.037\n",
      "GRN :  -0.022\n",
      "TIMP2 :  -0.009\n",
      "RAI14 :  0.022\n",
      "PNKP :  -0.013\n",
      "EPHA3 :  0.011\n",
      "DSG2 :  -0.015\n",
      "RFC2 :  -0.005\n",
      "MAPK9 :  0.030\n",
      "HERPUD1 :  0.019\n",
      "RRP12 :  -0.011\n",
      "AKR7A2 :  -0.045\n",
      "LAMA3 :  0.004\n",
      "TRAPPC3 :  -0.045\n",
      "ARID4B :  -0.003\n",
      "SYNE2 :  -0.007\n",
      "ATP11B :  0.001\n",
      "TARBP1 :  0.026\n",
      "GNA15 :  0.018\n",
      "ACAA1 :  -0.014\n",
      "SPAG4 :  -0.022\n",
      "CDH3 :  0.008\n",
      "APPBP2 :  -0.003\n",
      "GPC1 :  0.026\n",
      "LPAR2 :  0.014\n",
      "HMG20B :  -0.011\n",
      "TRAM2 :  0.003\n",
      "ERBB3 :  0.019\n",
      "ADAT1 :  0.007\n",
      "PDIA5 :  0.005\n",
      "SPEN :  -0.004\n",
      "MYLK :  0.006\n",
      "PRKCQ :  -0.008\n",
      "MTHFD2 :  0.037\n",
      "PPP2R5A :  -0.031\n",
      "ELAVL1 :  -0.002\n",
      "FGFR2 :  -0.013\n",
      "ISOC1 :  0.014\n",
      "MTFR1 :  0.027\n",
      "PHKA1 :  0.029\n",
      "DHX29 :  0.043\n",
      "DNTTIP2 :  0.036\n",
      "TP53BP1 :  0.028\n",
      "RHOA :  0.041\n",
      "IARS2 :  0.049\n",
      "COASY :  -0.011\n",
      "NUP133 :  0.005\n",
      "PIGB :  -0.013\n",
      "GNB5 :  -0.008\n",
      "RAB27A :  -0.000\n",
      "IKBKAP :  0.023\n",
      "NUCB2 :  -0.007\n",
      "JMJD6 :  -0.026\n",
      "POLB :  -0.005\n",
      "ST6GALNAC2 :  -0.006\n",
      "CSNK2A2 :  -0.016\n",
      "CDC42 :  0.036\n",
      "NCK2 :  0.007\n",
      "MAP4K4 :  0.000\n",
      "SNX13 :  0.022\n",
      "PRKACA :  -0.002\n",
      "EPN2 :  0.013\n",
      "SMC1A :  -0.004\n",
      "HSD17B10 :  -0.052\n",
      "P4HA2 :  -0.025\n",
      "NFATC3 :  -0.022\n",
      "STK10 :  -0.032\n",
      "SCARB1 :  -0.024\n",
      "KDM5A :  0.030\n",
      "PTGS2 :  -0.000\n",
      "IGF2BP2 :  0.007\n",
      "GLI2 :  0.016\n",
      "EED :  -0.037\n",
      "ICAM3 :  -0.011\n",
      "RAP1GAP :  0.014\n",
      "STXBP2 :  -0.002\n",
      "TM9SF3 :  -0.005\n",
      "NFKB2 :  -0.014\n",
      "IL4R :  0.035\n",
      "UBE2A :  -0.059\n",
      "PIK3C3 :  0.005\n",
      "EDN1 :  0.043\n",
      "PCM1 :  -0.018\n",
      "MKNK1 :  -0.006\n",
      "FDFT1 :  -0.003\n",
      "PAFAH1B3 :  0.014\n",
      "PGM1 :  0.008\n",
      "EPB41L2 :  -0.005\n",
      "KEAP1 :  -0.014\n",
      "RAB21 :  -0.019\n",
      "SESN1 :  0.005\n",
      "CNOT4 :  -0.023\n",
      "MOK :  -0.018\n",
      "CXCL2 :  -0.014\n",
      "MEF2C :  -0.002\n",
      "PTPRC :  -0.033\n",
      "ME2 :  0.011\n",
      "ITGB5 :  -0.020\n",
      "KAT6A :  -0.002\n",
      "ITGAE :  0.028\n",
      "OXCT1 :  0.028\n",
      "ZNF586 :  0.010\n",
      "RPS5 :  -0.010\n",
      "FAT1 :  0.001\n",
      "PPIE :  0.008\n",
      "TXLNA :  -0.043\n",
      "MAP3K4 :  0.019\n",
      "CPNE3 :  0.014\n",
      "CTTN :  0.003\n",
      "ORC1 :  -0.025\n",
      "MAST2 :  0.033\n",
      "BAX :  0.026\n",
      "MMP2 :  0.004\n",
      "GNAS :  0.001\n",
      "DNM1L :  -0.009\n",
      "AURKA :  0.002\n",
      "GNA11 :  0.016\n",
      "ANKRD10 :  -0.005\n",
      "PPP1R13B :  -0.009\n",
      "MAPKAPK5 :  0.003\n",
      "PXN :  -0.001\n",
      "BIRC5 :  -0.023\n",
      "ICAM1 :  -0.014\n",
      "MCOLN1 :  0.037\n",
      "AARS :  -0.029\n",
      "DLD :  0.033\n",
      "WDR7 :  -0.059\n",
      "SPAG7 :  0.035\n",
      "PSME1 :  -0.010\n",
      "PPP2R3C :  -0.004\n",
      "PHGDH :  0.043\n",
      "CDC45 :  -0.009\n",
      "HDAC6 :  -0.021\n",
      "HOOK2 :  -0.032\n",
      "BAMBI :  -0.003\n",
      "ABL1 :  -0.006\n",
      "CIRBP :  -0.012\n",
      "GADD45B :  -0.029\n",
      "CRKL :  -0.020\n",
      "MICALL1 :  0.029\n",
      "XBP1 :  0.009\n",
      "FBXO7 :  -0.002\n",
      "HMOX1 :  0.014\n",
      "CERK :  0.013\n",
      "ABHD4 :  0.015\n",
      "POLE2 :  0.020\n",
      "PYGL :  -0.025\n",
      "CGRRF1 :  -0.007\n",
      "ATP6V1D :  0.025\n",
      "TIMM9 :  -0.023\n",
      "GSTZ1 :  -0.007\n",
      "SPTLC2 :  0.006\n",
      "LGMN :  -0.009\n",
      "DHRS7 :  -0.040\n",
      "EIF5 :  0.021\n",
      "PCK2 :  0.008\n",
      "NFKBIA :  -0.036\n",
      "NFATC4 :  -0.018\n",
      "CD40 :  -0.035\n",
      "MYBL2 :  -0.009\n",
      "RAE1 :  -0.004\n",
      "TPD52L2 :  0.038\n",
      "TCFL5 :  0.018\n",
      "CDC25B :  -0.012\n",
      "TRIB3 :  0.030\n",
      "MYL9 :  0.004\n",
      "USP14 :  -0.010\n",
      "RNMT :  0.016\n",
      "PSMD10 :  -0.000\n",
      "PGRMC1 :  -0.030\n",
      "SUV39H1 :  -0.023\n",
      "PLP2 :  -0.044\n",
      "SLC25A14 :  -0.045\n",
      "HTATSF1 :  -0.003\n",
      "CORO1A :  -0.024\n",
      "PHKB :  0.017\n",
      "LYRM1 :  -0.020\n",
      "NUP93 :  0.028\n",
      "ACD :  0.012\n",
      "COG4 :  0.010\n",
      "PLA2G15 :  -0.034\n",
      "AXIN1 :  -0.006\n",
      "NARFL :  -0.008\n",
      "DNAJA3 :  -0.012\n",
      "STX4 :  -0.024\n",
      "CCP110 :  -0.043\n",
      "CSK :  0.022\n",
      "FAH :  -0.018\n",
      "HOMER2 :  0.011\n",
      "GABPB1 :  0.040\n",
      "TJP1 :  0.015\n",
      "DECR1 :  0.018\n",
      "IKBKB :  0.012\n",
      "TSTA3 :  0.025\n",
      "ASAH1 :  -0.006\n",
      "BNIP3L :  0.010\n",
      "MAN2B1 :  -0.008\n",
      "ECH1 :  -0.021\n",
      "NFKBIB :  -0.031\n",
      "RELB :  -0.008\n",
      "PIH1D1 :  0.012\n",
      "PLEKHJ1 :  0.006\n",
      "AKAP8 :  -0.005\n",
      "POP4 :  0.002\n",
      "FSD1 :  0.029\n",
      "POLR2I :  -0.021\n",
      "ETFB :  0.001\n",
      "GRWD1 :  0.007\n",
      "LIG1 :  -0.012\n",
      "LSR :  -0.002\n",
      "CDK6 :  -0.040\n",
      "H2AFV :  -0.029\n",
      "DNAJB6 :  -0.021\n",
      "GRB10 :  0.022\n",
      "FKBP14 :  0.019\n",
      "STX1A :  -0.035\n",
      "CASP2 :  -0.015\n",
      "LSM5 :  0.000\n",
      "SERPINE1 :  0.007\n",
      "PLOD3 :  0.000\n",
      "RPA3 :  0.002\n",
      "EZH2 :  -0.010\n",
      "MEST :  -0.003\n",
      "BLVRA :  -0.014\n",
      "RHEB :  -0.007\n",
      "PRKAG2 :  0.035\n",
      "BCL7B :  -0.015\n",
      "YKT6 :  0.026\n",
      "C5 :  -0.034\n",
      "DNM1 :  -0.005\n",
      "TESK1 :  -0.021\n",
      "NPDC1 :  0.034\n",
      "PDLIM1 :  -0.035\n",
      "GATA3 :  -0.001\n",
      "RAB11FIP2 :  -0.004\n",
      "LIPA :  0.021\n",
      "XPNPEP1 :  -0.011\n",
      "SMC3 :  0.007\n",
      "ZMIZ1 :  0.001\n",
      "CASC3 :  -0.002\n",
      "RAD51C :  0.026\n",
      "RNF167 :  -0.017\n",
      "NUP88 :  0.026\n",
      "BLMH :  0.024\n",
      "SMARCD2 :  0.009\n",
      "CYTH1 :  -0.014\n",
      "CCL2 :  -0.000\n",
      "COL1A1 :  0.010\n",
      "VAT1 :  0.001\n",
      "DUSP3 :  -0.010\n",
      "TMEM97 :  0.005\n",
      "DCUN1D4 :  -0.018\n",
      "CHIC2 :  -0.008\n",
      "INPP4B :  -0.022\n",
      "WFS1 :  -0.005\n",
      "TRIM2 :  -0.023\n",
      "MFSD10 :  -0.033\n",
      "UGDH :  0.035\n",
      "HSPA8 :  -0.007\n",
      "CCND1 :  -0.001\n",
      "CCDC86 :  -0.038\n",
      "TMEM109 :  -0.022\n",
      "BIRC2 :  -0.047\n",
      "PDHX :  -0.007\n",
      "SLC35F2 :  -0.022\n",
      "SLC11A2 :  -0.031\n",
      "MLEC :  0.005\n",
      "CDKN1B :  -0.014\n",
      "RFC5 :  0.001\n",
      "TIMELESS :  0.006\n",
      "GAPDH :  -0.018\n",
      "COPS7A :  0.009\n",
      "PTPN6 :  -0.016\n",
      "GOLT1B :  -0.003\n",
      "C2CD5 :  -0.014\n",
      "PPARD :  0.012\n",
      "MCM3 :  -0.006\n",
      "ZNF451 :  0.015\n",
      "ASCC3 :  0.000\n",
      "GMNN :  0.020\n",
      "CCND3 :  -0.021\n",
      "TBP :  -0.036\n",
      "DUSP22 :  -0.011\n",
      "SENP6 :  -0.028\n",
      "PAPD7 :  0.004\n",
      "GHR :  0.025\n",
      "HMGCS1 :  0.015\n",
      "KIF20A :  0.003\n",
      "NNT :  0.015\n",
      "HMGCR :  -0.001\n",
      "GNPDA1 :  0.010\n",
      "SKP1 :  -0.007\n",
      "NR3C1 :  -0.024\n",
      "TCERG1 :  0.013\n",
      "CSNK1A1 :  0.018\n",
      "SMC4 :  0.008\n",
      "PCCB :  0.019\n",
      "HES1 :  0.004\n",
      "GNAI2 :  -0.011\n",
      "NPRL2 :  0.012\n",
      "CBLB :  -0.019\n",
      "MAPKAPK3 :  0.012\n",
      "ABCC5 :  0.013\n",
      "MRPL19 :  0.050\n",
      "STAT1 :  -0.003\n",
      "PECR :  0.007\n",
      "TXNDC9 :  0.003\n",
      "ST3GAL5 :  0.012\n",
      "KDM3A :  -0.045\n",
      "FHL2 :  0.000\n",
      "STK25 :  0.016\n",
      "ID2 :  -0.050\n",
      "CEBPZ :  -0.004\n",
      "SLC1A4 :  -0.021\n",
      "TRAK2 :  -0.023\n",
      "NFE2L2 :  0.029\n",
      "MSH6 :  0.004\n",
      "SPR :  -0.008\n",
      "SCP2 :  0.004\n",
      "FAM20B :  -0.030\n",
      "ICMT :  0.032\n",
      "ARHGEF2 :  0.003\n",
      "PLA2G4A :  -0.018\n",
      "GADD45A :  0.013\n",
      "RGS2 :  0.013\n",
      "CRYZ :  0.004\n",
      "LGALS8 :  0.024\n",
      "SDHB :  -0.009\n",
      "KDM5B :  -0.014\n",
      "GALE :  -0.007\n",
      "EBNA1BP2 :  -0.020\n",
      "CDC20 :  0.008\n",
      "IPO13 :  0.015\n",
      "ATP6V0B :  -0.011\n",
      "PIK3R3 :  0.001\n",
      "SLC35A3 :  -0.007\n",
      "STMN1 :  -0.021\n",
      "RPS6KA1 :  -0.003\n",
      "DHDDS :  -0.019\n",
      "NENF :  0.011\n",
      "RPA2 :  -0.008\n",
      "KIF14 :  -0.017\n",
      "CAMSAP2 :  -0.009\n",
      "ATF6 :  0.029\n",
      "CREB1 :  0.033\n",
      "TMEM5 :  -0.004\n",
      "FOXO3 :  0.017\n",
      "SPP1 :  0.012\n",
      "ITGB1BP1 :  0.041\n",
      "CCDC92 :  0.003\n",
      "HEATR1 :  -0.026\n",
      "CTNNAL1 :  -0.024\n",
      "TGFB3 :  -0.038\n",
      "DNMT3A :  -0.004\n",
      "IDE :  0.007\n",
      "SMNDC1 :  0.014\n",
      "PCMT1 :  -0.035\n",
      "ACAT2 :  0.019\n",
      "DNAJC15 :  -0.018\n",
      "UFM1 :  0.024\n",
      "EGR1 :  -0.046\n",
      "PLS1 :  0.019\n",
      "SOCS2 :  -0.000\n",
      "DUSP4 :  0.008\n",
      "SORBS3 :  0.052\n",
      "PTK2B :  0.013\n",
      "TBX2 :  0.015\n",
      "SLC35B1 :  -0.020\n",
      "CAT :  0.036\n",
      "ZMYM2 :  0.006\n",
      "PIK3CA :  -0.003\n",
      "PDS5A :  -0.002\n",
      "CXCR4 :  0.011\n",
      "MRPS2 :  -0.013\n",
      "CISD1 :  -0.005\n",
      "ECD :  0.017\n",
      "ACOT9 :  0.010\n",
      "ATF1 :  0.010\n",
      "CDK2 :  -0.005\n",
      "LPGAT1 :  0.014\n",
      "NCOA3 :  -0.000\n",
      "VAPB :  0.025\n",
      "STAMBP :  -0.051\n",
      "USP22 :  -0.002\n",
      "SPDEF :  0.007\n",
      "SOX4 :  0.012\n",
      "TM9SF2 :  -0.017\n",
      "BMP4 :  -0.000\n",
      "NUP85 :  0.011\n",
      "MBOAT7 :  -0.041\n",
      "IL1B :  0.005\n",
      "PAX8 :  -0.059\n",
      "RTN2 :  0.000\n",
      "PSMF1 :  0.047\n",
      "BECN1 :  0.011\n",
      "TRAP1 :  -0.009\n",
      "TIMM17B :  0.013\n",
      "KTN1 :  -0.012\n",
      "PIN1 :  -0.017\n",
      "FBXL12 :  0.006\n",
      "SYNGR3 :  -0.017\n",
      "MACF1 :  -0.027\n",
      "SMARCA4 :  -0.039\n",
      "TICAM1 :  0.002\n",
      "PTPN12 :  0.036\n",
      "GNAI1 :  -0.016\n",
      "ZFP36 :  -0.034\n",
      "PAICS :  -0.008\n",
      "CALU :  -0.001\n",
      "CHN1 :  -0.002\n",
      "HAT1 :  0.013\n",
      "CHAC1 :  -0.014\n",
      "ARPP19 :  -0.014\n",
      "LOXL1 :  0.014\n",
      "DCTD :  -0.005\n",
      "PARP2 :  0.000\n",
      "SNX6 :  0.038\n",
      "EAPP :  0.044\n",
      "REEP5 :  -0.010\n",
      "ITFG1 :  -0.011\n",
      "APOE :  0.008\n",
      "XPO7 :  0.009\n",
      "FCHO1 :  -0.040\n",
      "PAK4 :  -0.023\n",
      "DNMT1 :  -0.034\n",
      "PRR7 :  -0.054\n",
      "SH3BP5 :  0.005\n",
      "NR1H2 :  -0.020\n",
      "ACLY :  0.025\n",
      "IL13RA1 :  0.014\n",
      "TOP2A :  0.011\n",
      "DNAJB1 :  -0.021\n",
      "LRRC41 :  -0.008\n",
      "PPARG :  0.023\n",
      "ENOSF1 :  -0.025\n",
      "ARFIP2 :  -0.014\n",
      "RRP8 :  -0.035\n",
      "RPA1 :  0.004\n",
      "SNAP25 :  -0.004\n",
      "PCNA :  0.022\n",
      "KIAA0907 :  -0.030\n",
      "IGHMBP2 :  -0.006\n",
      "DPH2 :  0.035\n",
      "WASF3 :  0.048\n",
      "PIK3C2B :  0.007\n",
      "CCNA1 :  -0.013\n",
      "TCEAL4 :  -0.013\n",
      "EPHB2 :  -0.019\n",
      "CNDP2 :  0.015\n",
      "CCNB1 :  0.036\n",
      "CDK7 :  0.013\n",
      "BHLHE40 :  0.009\n",
      "EDEM1 :  0.019\n",
      "VAV3 :  0.008\n",
      "PSRC1 :  -0.024\n",
      "CCNH :  -0.013\n",
      "DDB2 :  -0.021\n",
      "ETS1 :  0.015\n",
      "TMEM2 :  -0.014\n",
      "FBXO21 :  -0.006\n",
      "DMTF1 :  -0.029\n",
      "TES :  0.003\n",
      "CDK4 :  -0.008\n",
      "PAN2 :  0.002\n",
      "MAP7 :  0.006\n",
      "KCNK1 :  0.003\n",
      "COG2 :  -0.006\n",
      "DNAJB2 :  -0.001\n",
      "CAB39 :  -0.021\n",
      "PWP1 :  -0.004\n",
      "SCRN1 :  0.009\n",
      "BZW2 :  -0.034\n",
      "NMT1 :  -0.010\n",
      "EPRS :  -0.020\n",
      "YME1L1 :  0.007\n",
      "TOR1A :  -0.022\n",
      "STXBP1 :  -0.014\n",
      "TLR4 :  -0.027\n",
      "PRPF4 :  0.037\n",
      "FPGS :  0.014\n",
      "TEX10 :  0.014\n",
      "MYC :  -0.033\n",
      "RPS6 :  -0.009\n",
      "CNPY3 :  -0.018\n",
      "TFAP2A :  0.041\n",
      "BPHL :  0.007\n",
      "IER3 :  0.010\n",
      "PRCP :  -0.017\n",
      "SLC37A4 :  -0.003\n",
      "MAP2K5 :  0.013\n",
      "SQRDL :  -0.047\n",
      "NUSAP1 :  0.001\n",
      "PAK6 :  -0.017\n",
      "ADAM10 :  0.037\n",
      "SLC5A6 :  -0.005\n",
      "FBXO11 :  0.006\n",
      "ANXA7 :  -0.002\n",
      "HERC6 :  0.031\n",
      "CENPE :  0.021\n",
      "HADH :  -0.015\n",
      "EGF :  0.019\n",
      "DUSP6 :  0.016\n",
      "RB1 :  0.030\n",
      "MBNL2 :  -0.019\n",
      "GTF2A2 :  0.027\n",
      "TSPAN3 :  0.012\n",
      "WDR61 :  0.014\n",
      "TPM1 :  -0.011\n",
      "IGF1R :  0.002\n",
      "IQGAP1 :  0.002\n",
      "PMM2 :  0.032\n",
      "TXNL4B :  -0.024\n",
      "NOL3 :  -0.019\n",
      "MBTPS1 :  0.004\n",
      "CLTC :  -0.003\n",
      "NPC1 :  -0.004\n",
      "TP53 :  -0.017\n",
      "PMAIP1 :  -0.009\n",
      "PIP4K2B :  0.008\n",
      "ERBB2 :  0.007\n",
      "GRB7 :  0.007\n",
      "PFKL :  -0.019\n",
      "SIRT3 :  0.005\n",
      "IFNAR1 :  -0.002\n",
      "APP :  0.014\n",
      "AKT1 :  -0.018\n",
      "NOSIP :  -0.025\n",
      "WDTC1 :  -0.078\n",
      "KIF2C :  -0.004\n",
      "PTPRF :  0.004\n",
      "MTF2 :  -0.015\n",
      "ATP1B1 :  0.004\n",
      "MPC2 :  0.013\n",
      "CREG1 :  -0.011\n",
      "TMCO1 :  -0.019\n",
      "PPOX :  0.009\n",
      "RFX5 :  0.007\n",
      "IKBKE :  0.016\n",
      "DYRK3 :  -0.020\n",
      "TP53BP2 :  0.006\n",
      "SLC27A3 :  0.000\n",
      "INTS3 :  -0.004\n",
      "SCCPDH :  0.010\n",
      "NVL :  0.028\n",
      "PARP1 :  0.004\n",
      "LBR :  0.001\n",
      "DUSP11 :  0.024\n",
      "RALB :  -0.001\n",
      "HSPD1 :  0.034\n",
      "VGLL4 :  0.011\n",
      "ATG3 :  0.019\n",
      "TCTA :  -0.019\n",
      "ENOPH1 :  -0.015\n",
      "SNCA :  0.023\n",
      "CCNA2 :  0.002\n",
      "MYO10 :  0.029\n",
      "SSBP2 :  0.041\n",
      "RASA1 :  0.017\n",
      "TNIP1 :  -0.001\n",
      "G3BP1 :  -0.015\n",
      "GFOD1 :  -0.007\n",
      "TNFRSF21 :  0.021\n",
      "NFKBIE :  -0.002\n",
      "EGFR :  -0.013\n",
      "IGFBP3 :  0.018\n",
      "TLK2 :  -0.019\n",
      "CASK :  0.041\n",
      "EBP :  0.004\n",
      "NSDHL :  -0.010\n",
      "POLR2K :  -0.012\n",
      "CDKN2A :  -0.005\n",
      "NOTCH1 :  -0.023\n",
      "USP6NL :  -0.012\n",
      "RSU1 :  0.017\n",
      "PAK1 :  -0.013\n",
      "HYOU1 :  -0.008\n",
      "EML3 :  -0.007\n",
      "CHEK1 :  0.013\n",
      "YTHDF1 :  -0.012\n",
      "PLCB3 :  0.014\n",
      "ALDOA :  0.013\n",
      "HMGA2 :  -0.014\n",
      "ARID5B :  0.022\n",
      "PRSS23 :  0.001\n",
      "UBE3B :  -0.005\n",
      "INPP1 :  -0.022\n",
      "SLC25A4 :  0.028\n",
      "BAG3 :  0.031\n",
      "MBNL1 :  -0.047\n",
      "PTPRK :  0.015\n",
      "CAST :  0.015\n",
      "CETN3 :  -0.004\n",
      "RPIA :  -0.001\n",
      "HS2ST1 :  -0.043\n",
      "PPP2R5E :  -0.008\n",
      "FAM69A :  0.017\n",
      "TSEN2 :  -0.000\n",
      "CDK19 :  -0.014\n",
      "OXA1L :  0.033\n",
      "FZD7 :  0.028\n",
      "RRAGA :  0.007\n",
      "DCK :  -0.023\n",
      "TIAM1 :  0.024\n",
      "SUPV3L1 :  0.013\n",
      "HK1 :  0.016\n",
      "UBE2L6 :  -0.023\n",
      "KAT6B :  0.042\n",
      "UTP14A :  -0.019\n",
      "MAPK13 :  -0.007\n",
      "PHKG2 :  0.026\n",
      "TATDN2 :  0.001\n",
      "FZD1 :  0.004\n",
      "KIT :  0.030\n",
      "TSC22D3 :  0.012\n",
      "C2CD2 :  0.014\n",
      "FAIM :  -0.035\n",
      "GDPD5 :  0.004\n",
      "NIT1 :  -0.021\n",
      "CSRP1 :  -0.004\n",
      "CBR1 :  -0.005\n",
      "CBR3 :  0.031\n",
      "PSMD4 :  0.012\n",
      "EFCAB14 :  -0.012\n",
      "CALM3 :  -0.019\n",
      "DFFA :  0.026\n",
      "NR2F6 :  0.048\n",
      "RRP1B :  0.018\n",
      "RALGDS :  -0.026\n",
      "SLC2A6 :  0.040\n",
      "SHC1 :  0.007\n",
      "ANO10 :  0.005\n",
      "FGFR4 :  0.032\n",
      "CPSF4 :  0.023\n",
      "VPS28 :  0.008\n",
      "SQSTM1 :  -0.006\n",
      "BDH1 :  -0.001\n",
      "DUSP14 :  -0.003\n",
      "CCNF :  0.007\n",
      "AMDHD2 :  0.007\n",
      "KLHL21 :  -0.008\n",
      "USP1 :  0.023\n",
      "SNX7 :  0.013\n",
      "AGL :  -0.024\n",
      "DENND2D :  -0.009\n",
      "MAPKAPK2 :  0.008\n",
      "SGCB :  -0.028\n",
      "VPS72 :  0.011\n",
      "TGFBR2 :  -0.015\n",
      "GTPBP8 :  0.004\n",
      "TIPARP :  -0.005\n",
      "ABHD6 :  0.009\n",
      "APBB2 :  -0.020\n",
      "TOPBP1 :  -0.005\n",
      "RPN1 :  -0.008\n",
      "RPL39L :  -0.015\n",
      "PRKCD :  0.017\n",
      "LRPAP1 :  -0.014\n",
      "CDC25A :  0.017\n",
      "ZNF589 :  -0.010\n",
      "LSM6 :  0.028\n",
      "SLC25A46 :  -0.010\n",
      "CASP3 :  0.040\n",
      "TERT :  0.020\n",
      "SLC35A1 :  -0.026\n",
      "NOS3 :  0.016\n",
      "ALDH7A1 :  -0.011\n",
      "PSIP1 :  -0.028\n",
      "SYK :  -0.029\n",
      "NFIL3 :  0.008\n",
      "DYNLT3 :  -0.016\n",
      "MELK :  0.004\n",
      "KLHDC2 :  -0.014\n",
      "HPRT1 :  -0.023\n",
      "CASP7 :  -0.026\n",
      "PACSIN3 :  0.049\n",
      "HTRA1 :  0.030\n",
      "CEP57 :  -0.021\n",
      "NOLC1 :  -0.005\n",
      "FRS2 :  0.030\n",
      "PCBD1 :  0.018\n",
      "ILK :  0.002\n",
      "KIAA0355 :  -0.001\n",
      "ATMIN :  0.002\n",
      "BLCAP :  0.027\n",
      "PEX11A :  0.020\n",
      "TERF2IP :  -0.001\n",
      "PLK1 :  -0.007\n",
      "CLPX :  0.048\n",
      "SMAD3 :  -0.007\n",
      "PRR15L :  0.005\n",
      "CRK :  0.021\n",
      "FAM57A :  0.018\n",
      "GLOD4 :  0.017\n",
      "CD320 :  0.001\n",
      "KCTD5 :  -0.040\n",
      "RAB4A :  0.012\n",
      "MAPK1IP1L :  -0.018\n",
      "DDIT4 :  0.002\n",
      "NT5DC2 :  0.019\n",
      "KIF5C :  0.003\n",
      "THAP11 :  0.011\n",
      "COG7 :  -0.026\n",
      "RAB31 :  0.018\n",
      "STAT3 :  0.003\n",
      "PKIG :  0.022\n",
      "MAT2A :  -0.001\n",
      "PPIC :  0.013\n",
      "ATF5 :  -0.026\n",
      "ADRB2 :  0.004\n",
      "PTK2 :  0.029\n",
      "CLIC4 :  -0.009\n",
      "DFFB :  -0.014\n",
      "RFNG :  0.001\n",
      "CRTAP :  -0.026\n",
      "CDK1 :  0.001\n",
      "FOS :  -0.042\n",
      "TMED10 :  -0.020\n",
      "NUDT9 :  -0.011\n",
      "ELOVL6 :  -0.020\n",
      "HSPA4 :  0.004\n",
      "CDCA4 :  0.003\n",
      "FEZ2 :  0.004\n",
      "RBKS :  -0.002\n",
      "SCAND1 :  0.012\n",
      "GAA :  0.002\n",
      "CANT1 :  -0.036\n",
      "POLR1C :  -0.001\n",
      "ZNF318 :  0.004\n",
      "WIPF2 :  -0.013\n",
      "CLSTN1 :  -0.030\n",
      "ZNF274 :  -0.030\n",
      "TCEA2 :  0.038\n",
      "BCL2 :  -0.020\n",
      "MALT1 :  0.024\n",
      "ZNF131 :  0.028\n",
      "C2CD2L :  -0.025\n",
      "ARNT2 :  -0.018\n",
      "RAD9A :  -0.026\n",
      "OXSR1 :  0.015\n",
      "GLRX :  -0.015\n",
      "TRIB1 :  0.003\n",
      "DAG1 :  0.018\n",
      "SMARCC1 :  -0.001\n",
      "STAT5B :  0.028\n",
      "NET1 :  -0.020\n",
      "FUT1 :  -0.023\n",
      "UBE2C :  0.026\n",
      "ARHGAP1 :  0.007\n",
      "CCNE2 :  -0.000\n",
      "CLTB :  0.018\n",
      "DRAP1 :  -0.003\n",
      "FOSL1 :  0.009\n",
      "CCDC85B :  -0.034\n",
      "RUVBL1 :  0.026\n",
      "SFN :  0.017\n",
      "MSRA :  -0.026\n",
      "TUBB6 :  -0.049\n",
      "CHMP6 :  0.020\n",
      "BNIP3 :  -0.009\n",
      "CDK5R1 :  0.002\n",
      "TIMM22 :  0.025\n",
      "JUN :  -0.018\n",
      "STAP2 :  0.008\n",
      "DDX10 :  -0.001\n",
      "P4HTM :  -0.012\n",
      "SUZ12 :  -0.012\n",
      "EXOSC4 :  0.007\n",
      "AURKB :  0.008\n",
      "RRS1 :  0.014\n",
      "GATA2 :  0.008\n",
      "RBM15B :  0.040\n",
      "PUF60 :  0.017\n",
      "NRIP1 :  0.012\n",
      "ADO :  0.012\n",
      "WRB :  -0.026\n",
      "MRPS16 :  0.033\n",
      "EXT1 :  0.018\n",
      "BACE2 :  -0.010\n",
      "ADI1 :  0.054\n",
      "TSKU :  0.030\n",
      "ACBD3 :  0.007\n",
      "MTA1 :  -0.007\n",
      "PYCR1 :  -0.000\n",
      "PSMG1 :  -0.018\n",
      "TMEM50A :  -0.035\n",
      "CHEK2 :  0.019\n",
      "PRKX :  -0.001\n",
      "NIPSNAP1 :  0.016\n",
      "CRELD2 :  0.002\n",
      "COPB2 :  -0.004\n",
      "FOXO4 :  -0.037\n",
      "PROS1 :  0.004\n",
      "HIST2H2BE :  -0.019\n",
      "MUC1 :  -0.023\n",
      "IKZF1 :  -0.017\n",
      "INSIG1 :  -0.010\n",
      "GPATCH8 :  -0.008\n",
      "ZNF395 :  0.011\n",
      "CHP1 :  0.003\n",
      "COL4A1 :  0.016\n",
      "USP7 :  -0.001\n",
      "EIF4EBP1 :  -0.004\n",
      "UBQLN2 :  0.013\n",
      "ARL4C :  -0.023\n",
      "PLSCR1 :  0.000\n",
      "S100A13 :  0.036\n",
      "S100A4 :  0.010\n",
      "PTPN1 :  -0.003\n",
      "EVL :  0.018\n",
      "PIK3R4 :  0.018\n",
      "HDAC2 :  0.021\n",
      "MMP1 :  0.008\n",
      "TLE1 :  -0.009\n",
      "ARHGEF12 :  -0.007\n",
      "LAGE3 :  -0.051\n",
      "IGF2R :  -0.020\n",
      "SRC :  0.041\n",
      "TBC1D9B :  0.011\n",
      "GTF2E2 :  0.038\n",
      "LRP10 :  -0.013\n",
      "PDGFA :  0.021\n",
      "SPTAN1 :  0.002\n",
      "ADH5 :  -0.030\n",
      "HIST1H2BK :  0.013\n",
      "MPZL1 :  0.003\n",
      "TFDP1 :  -0.024\n",
      "DDX42 :  -0.033\n",
      "SPRED2 :  -0.010\n",
      "GFPT1 :  0.016\n",
      "TXNRD1 :  0.018\n",
      "CTNND1 :  -0.022\n",
      "KLHL9 :  0.045\n",
      "PNP :  0.013\n",
      "FOXJ3 :  -0.015\n",
      "UBE2J1 :  -0.024\n",
      "KIAA0753 :  -0.004\n",
      "DAXX :  -0.007\n",
      "PSMB8 :  -0.034\n",
      "HLA-DRA :  -0.030\n",
      "SKIV2L :  -0.032\n",
      "HSPA1A :  -0.008\n",
      "ABCF1 :  -0.004\n",
      "DDR1 :  0.007\n",
      "TCTN1 :  -0.030\n",
      "TRIM13 :  0.030\n",
      "RNPS1 :  -0.017\n",
      "HN1L :  0.002\n",
      "SACM1L :  0.031\n",
      "MLLT11 :  -0.012\n",
      "NRAS :  -0.026\n",
      "CSNK1E :  -0.013\n",
      "TSPAN4 :  0.026\n",
      "MYCBP :  0.014\n",
      "FIS1 :  -0.007\n",
      "IFRD2 :  0.018\n",
      "NPEPL1 :  0.004\n",
      "CEBPD :  -0.010\n",
      "PLEKHM1 :  -0.024\n",
      "MIF :  -0.009\n",
      "PRAF2 :  -0.011\n",
      "LYN :  0.025\n",
      "POLG2 :  -0.012\n"
     ]
    },
    {
     "data": {
      "image/png": "[encoded data removed]",
      "text/plain": [
       "<Figure size 4320x1440 with 1 Axes>"
      ]
     },
     "metadata": {
      "needs_background": "light"
     },
     "output_type": "display_data"
    }
   ],
   "source": [
    "# visualize_importances(all_feat, np.mean(folds[0], axis=0))\n",
    "# visualize_importances(all_feat, mean_folds)\n",
    "visualize_importances(all_feat[18:], mean_folds[18:])"
   ]
  },
  {
   "cell_type": "code",
   "execution_count": 58,
   "metadata": {},
   "outputs": [
    {
     "data": {
      "image/png": "[encoded data removed]",
      "text/plain": [
       "<Figure size 576x1548 with 2 Axes>"
      ]
     },
     "metadata": {
      "needs_background": "light"
     },
     "output_type": "display_data"
    }
   ],
   "source": [
    "shap.summary_plot(concat_folds, test_features, feature_names=all_feat, max_display=50)"
   ]
  },
  {
   "cell_type": "code",
   "execution_count": null,
   "metadata": {},
   "outputs": [],
   "source": []
  }
 ],
 "metadata": {
  "kernelspec": {
   "display_name": "Python 3 (ipykernel)",
   "language": "python",
   "name": "python3"
  },
  "language_info": {
   "codemirror_mode": {
    "name": "ipython",
    "version": 3
   },
   "file_extension": ".py",
   "mimetype": "text/x-python",
   "name": "python",
   "nbconvert_exporter": "python",
   "pygments_lexer": "ipython3",
   "version": "3.9.9"
  }
 },
 "nbformat": 4,
 "nbformat_minor": 4
}
