{
 "cells": [
  {
   "cell_type": "code",
   "execution_count": 1,
   "metadata": {
    "scrolled": false
   },
   "outputs": [],
   "source": [
    "%load_ext autoreload\n",
    "%autoreload 2"
   ]
  },
  {
   "cell_type": "code",
   "execution_count": 2,
   "metadata": {},
   "outputs": [],
   "source": [
    "import os\n",
    "import sys\n",
    "import numpy as np\n",
    "import pandas as pd\n",
    "import datetime\n",
    "import seaborn as sns\n",
    "import ogb\n",
    "from tqdm import tqdm\n",
    "import hiplot as hip\n",
    "from copy import deepcopy\n",
    "import datetime"
   ]
  },
  {
   "cell_type": "code",
   "execution_count": 3,
   "metadata": {},
   "outputs": [],
   "source": [
    "from joblib import dump as jdump\n",
    "from joblib import load as jload"
   ]
  },
  {
   "cell_type": "code",
   "execution_count": 4,
   "metadata": {},
   "outputs": [
    {
     "name": "stdout",
     "output_type": "stream",
     "text": [
      "torch: 1.9.1\n",
      "CUDA: 11.1\n",
      "3.9.9 | packaged by conda-forge | (main, Dec 20 2021, 02:41:03) \n",
      "[GCC 9.4.0]\n"
     ]
    }
   ],
   "source": [
    "import torch\n",
    "\n",
    "\n",
    "print(\"torch:\", torch.__version__)\n",
    "print(\"CUDA:\", torch.version.cuda)\n",
    "print(sys.version)"
   ]
  },
  {
   "cell_type": "code",
   "execution_count": 5,
   "metadata": {},
   "outputs": [],
   "source": [
    "import torch\n",
    "from torch_geometric.data import Data\n",
    "from torch_geometric.loader import DataLoader\n",
    "from torch.utils.data import Subset, TensorDataset"
   ]
  },
  {
   "cell_type": "code",
   "execution_count": 6,
   "metadata": {},
   "outputs": [
    {
     "name": "stdout",
     "output_type": "stream",
     "text": [
      "/opt/data/chemprop_run/git/notebooks/AltModels\n",
      "/opt/data/chemprop_run/git\n"
     ]
    }
   ],
   "source": [
    "cwd = os.getcwd()\n",
    "print(cwd)\n",
    "# cwd_parent = os.path.abspath(os.path.join(cwd, os.pardir))\n",
    "cwd_parent = os.path.abspath(os.path.join(cwd, '../../'))\n",
    "print(cwd_parent)\n",
    "\n",
    "sys.path.append(cwd_parent)"
   ]
  },
  {
   "cell_type": "code",
   "execution_count": 7,
   "metadata": {},
   "outputs": [],
   "source": [
    "import deepadr\n",
    "from deepadr.dataset import *\n",
    "from deepadr.utilities import *\n",
    "from deepadr.run_workflow import *\n",
    "from deepadr.chemfeatures import *\n",
    "from deepadr.hyphelper import *\n",
    "from deepadr.model_gnn_ogb import GNN, DeepAdr_SiameseTrf, ExpressionNN\n",
    "from ogb.graphproppred import Evaluator"
   ]
  },
  {
   "cell_type": "code",
   "execution_count": 8,
   "metadata": {},
   "outputs": [],
   "source": [
    "from rdkit.Chem.Draw import IPythonConsole\n",
    "from rdkit.Chem import Draw"
   ]
  },
  {
   "cell_type": "code",
   "execution_count": 9,
   "metadata": {},
   "outputs": [],
   "source": [
    "rawdata_dir = '../data/raw/'\n",
    "processed_dir = '../data/processed/'\n",
    "up_dir = '..'"
   ]
  },
  {
   "cell_type": "code",
   "execution_count": 10,
   "metadata": {
    "scrolled": true
   },
   "outputs": [
    {
     "name": "stdout",
     "output_type": "stream",
     "text": [
      "number of GPUs available: 5\n",
      "cuda:0, name:NVIDIA GeForce GTX 1080 Ti\n",
      "total memory available: 10.91656494140625 GB\n",
      "total memory allocated on device: 0.0 GB\n",
      "max memory allocated on device: 0.0 GB\n",
      "total memory cached on device: 0.0 GB\n",
      "max memory cached  on device: 0.0 GB\n",
      "\n",
      "cuda:1, name:NVIDIA GeForce GTX 1080 Ti\n",
      "total memory available: 10.91656494140625 GB\n",
      "total memory allocated on device: 0.0 GB\n",
      "max memory allocated on device: 0.0 GB\n",
      "total memory cached on device: 0.0 GB\n",
      "max memory cached  on device: 0.0 GB\n",
      "\n",
      "cuda:2, name:NVIDIA GeForce GTX 1080 Ti\n",
      "total memory available: 10.91656494140625 GB\n",
      "total memory allocated on device: 0.0 GB\n",
      "max memory allocated on device: 0.0 GB\n",
      "total memory cached on device: 0.0 GB\n",
      "max memory cached  on device: 0.0 GB\n",
      "\n",
      "cuda:3, name:NVIDIA GeForce GTX 1080 Ti\n",
      "total memory available: 10.91656494140625 GB\n",
      "total memory allocated on device: 0.0 GB\n",
      "max memory allocated on device: 0.0 GB\n",
      "total memory cached on device: 0.0 GB\n",
      "max memory cached  on device: 0.0 GB\n",
      "\n",
      "cuda:4, name:NVIDIA GeForce GTX 1080 Ti\n",
      "total memory available: 10.91656494140625 GB\n",
      "total memory allocated on device: 0.0 GB\n",
      "max memory allocated on device: 0.0 GB\n",
      "total memory cached on device: 0.0 GB\n",
      "max memory cached  on device: 0.0 GB\n",
      "\n"
     ]
    }
   ],
   "source": [
    "report_available_cuda_devices()"
   ]
  },
  {
   "cell_type": "code",
   "execution_count": 11,
   "metadata": {},
   "outputs": [
    {
     "data": {
      "text/plain": [
       "5"
      ]
     },
     "execution_count": 11,
     "metadata": {},
     "output_type": "execute_result"
    }
   ],
   "source": [
    "n_gpu = torch.cuda.device_count()\n",
    "n_gpu"
   ]
  },
  {
   "cell_type": "markdown",
   "metadata": {},
   "source": [
    "### Preparing dataset "
   ]
  },
  {
   "cell_type": "code",
   "execution_count": 12,
   "metadata": {},
   "outputs": [],
   "source": [
    "score = 'total_thresh'\n",
    "score_val = 4"
   ]
  },
  {
   "cell_type": "code",
   "execution_count": 13,
   "metadata": {},
   "outputs": [],
   "source": [
    "DSdataset_name = f'DrugComb_{score}_{score_val}'\n",
    "\n",
    "# v_1: GNN\n",
    "# v_2: Alt Models (Baseline)\n",
    "data_fname = 'data_v2'"
   ]
  },
  {
   "cell_type": "code",
   "execution_count": 14,
   "metadata": {
    "scrolled": true
   },
   "outputs": [
    {
     "name": "stdout",
     "output_type": "stream",
     "text": [
      "path_current_dir /opt/data/chemprop_run/git/deepadr\n",
      "path_current_dir /opt/data/chemprop_run/git/deepadr\n",
      "path_current_dir /opt/data/chemprop_run/git/deepadr\n",
      "path_current_dir /opt/data/chemprop_run/git/deepadr\n"
     ]
    }
   ],
   "source": [
    "targetdata_dir = create_directory(os.path.join(processed_dir, DSdataset_name, data_fname))\n",
    "targetdata_dir_raw = create_directory(os.path.join(targetdata_dir, \"raw\"))\n",
    "targetdata_dir_processed = create_directory(os.path.join(targetdata_dir, \"processed\"))\n",
    "targetdata_dir_exp = create_directory(os.path.join(targetdata_dir, \"experiments\"))\n",
    "# print(targetdata_dir)"
   ]
  },
  {
   "cell_type": "code",
   "execution_count": 15,
   "metadata": {},
   "outputs": [],
   "source": [
    "xFlat = ReaderWriter.read_data(os.path.join(targetdata_dir_raw, 'X_flat.pkl'))\n",
    "y = ReaderWriter.read_data(os.path.join(targetdata_dir_raw, 'y.pkl'))\n",
    "expression = ReaderWriter.read_data(os.path.join(targetdata_dir_raw, 'expression.pkl'))"
   ]
  },
  {
   "cell_type": "code",
   "execution_count": 16,
   "metadata": {},
   "outputs": [
    {
     "data": {
      "text/plain": [
       "torch.Size([25757, 18])"
      ]
     },
     "execution_count": 16,
     "metadata": {},
     "output_type": "execute_result"
    }
   ],
   "source": [
    "xFlatMat = torch.stack([torch.cat(i) for i in list(xFlat.values())])\n",
    "xFlatMat.shape"
   ]
  },
  {
   "cell_type": "code",
   "execution_count": 17,
   "metadata": {
    "scrolled": true
   },
   "outputs": [
    {
     "data": {
      "text/plain": [
       "torch.Size([25757, 926])"
      ]
     },
     "execution_count": 17,
     "metadata": {},
     "output_type": "execute_result"
    }
   ],
   "source": [
    "x = torch.cat([xFlatMat, torch.tensor(expression)], dim=1)\n",
    "x.shape"
   ]
  },
  {
   "cell_type": "code",
   "execution_count": 18,
   "metadata": {},
   "outputs": [
    {
     "data": {
      "text/plain": [
       "array([0, 0, 0, ..., 0, 1, 1])"
      ]
     },
     "execution_count": 18,
     "metadata": {},
     "output_type": "execute_result"
    }
   ],
   "source": [
    "y"
   ]
  },
  {
   "cell_type": "code",
   "execution_count": 19,
   "metadata": {},
   "outputs": [
    {
     "name": "stdout",
     "output_type": "stream",
     "text": [
      "fold_num: 0\n",
      "train data\n",
      "class: 0 norm count: 0.5764128559102675\n",
      "class: 1 norm count: 0.4235871440897325\n",
      "validation data\n",
      "class: 0 norm count: 0.5764192139737991\n",
      "class: 1 norm count: 0.42358078602620086\n",
      "test data\n",
      "class: 0 norm count: 0.5764751552795031\n",
      "class: 1 norm count: 0.4235248447204969\n",
      "\n",
      "-------------------------\n",
      "fold_num: 1\n",
      "train data\n",
      "class: 0 norm count: 0.5764128559102675\n",
      "class: 1 norm count: 0.4235871440897325\n",
      "validation data\n",
      "class: 0 norm count: 0.5764192139737991\n",
      "class: 1 norm count: 0.42358078602620086\n",
      "test data\n",
      "class: 0 norm count: 0.5764751552795031\n",
      "class: 1 norm count: 0.4235248447204969\n",
      "\n",
      "-------------------------\n",
      "fold_num: 2\n",
      "train data\n",
      "class: 0 norm count: 0.5764356969533567\n",
      "class: 1 norm count: 0.4235643030466433\n",
      "validation data\n",
      "class: 0 norm count: 0.5764192139737991\n",
      "class: 1 norm count: 0.42358078602620086\n",
      "test data\n",
      "class: 0 norm count: 0.5763929334109882\n",
      "class: 1 norm count: 0.4236070665890118\n",
      "\n",
      "-------------------------\n",
      "fold_num: 3\n",
      "train data\n",
      "class: 0 norm count: 0.5764356969533567\n",
      "class: 1 norm count: 0.4235643030466433\n",
      "validation data\n",
      "class: 0 norm count: 0.5764192139737991\n",
      "class: 1 norm count: 0.42358078602620086\n",
      "test data\n",
      "class: 0 norm count: 0.5763929334109882\n",
      "class: 1 norm count: 0.4236070665890118\n",
      "\n",
      "-------------------------\n",
      "fold_num: 4\n",
      "train data\n",
      "class: 0 norm count: 0.5764356969533567\n",
      "class: 1 norm count: 0.4235643030466433\n",
      "validation data\n",
      "class: 0 norm count: 0.5764192139737991\n",
      "class: 1 norm count: 0.42358078602620086\n",
      "test data\n",
      "class: 0 norm count: 0.5763929334109882\n",
      "class: 1 norm count: 0.4236070665890118\n",
      "\n",
      "-------------------------\n"
     ]
    }
   ],
   "source": [
    "fold_partitions = get_stratified_partitions(y,\n",
    "                                            num_folds=5,\n",
    "                                            valid_set_portion=0.1,\n",
    "                                            random_state=42)"
   ]
  },
  {
   "cell_type": "code",
   "execution_count": 20,
   "metadata": {},
   "outputs": [
    {
     "name": "stdout",
     "output_type": "stream",
     "text": [
      "Number of training graphs: 18544\n",
      "Number of validation graphs: 2061\n",
      "Number of testing graphs: 5152\n"
     ]
    }
   ],
   "source": [
    "print(\"Number of training graphs: \"+ str(len(fold_partitions[0]['train'])))\n",
    "print(\"Number of validation graphs: \"+ str(len(fold_partitions[0]['validation'])))\n",
    "print(\"Number of testing graphs: \"+ str(len(fold_partitions[0]['test'])))\n"
   ]
  },
  {
   "cell_type": "markdown",
   "metadata": {},
   "source": [
    "### Alt Models"
   ]
  },
  {
   "cell_type": "code",
   "execution_count": 21,
   "metadata": {},
   "outputs": [],
   "source": [
    "from sklearn.linear_model import LogisticRegression\n",
    "from sklearn.preprocessing import StandardScaler\n",
    "from sklearn.ensemble import GradientBoostingClassifier\n",
    "from sklearn.tree import DecisionTreeClassifier\n",
    "from sklearn.neighbors import KNeighborsClassifier\n",
    "from sklearn.linear_model import SGDClassifier\n",
    "# from sklearn.inspection import permutation_importance"
   ]
  },
  {
   "cell_type": "code",
   "execution_count": 22,
   "metadata": {},
   "outputs": [],
   "source": [
    "x_np = x.numpy()\n",
    "y_np = y"
   ]
  },
  {
   "cell_type": "code",
   "execution_count": 23,
   "metadata": {},
   "outputs": [],
   "source": [
    "scaler = StandardScaler()\n",
    "x_np_scale = scaler.fit_transform(x_np)"
   ]
  },
  {
   "cell_type": "code",
   "execution_count": 24,
   "metadata": {},
   "outputs": [
    {
     "data": {
      "text/plain": [
       "'/opt/data/chemprop_run/git/data/processed/DrugComb_total_thresh_4/data_v2/experiments'"
      ]
     },
     "execution_count": 24,
     "metadata": {},
     "output_type": "execute_result"
    }
   ],
   "source": [
    "targetdata_dir_exp"
   ]
  },
  {
   "cell_type": "code",
   "execution_count": 25,
   "metadata": {},
   "outputs": [],
   "source": [
    "model_name = \"Default\""
   ]
  },
  {
   "cell_type": "code",
   "execution_count": 26,
   "metadata": {},
   "outputs": [],
   "source": [
    "# model = LogisticRegression(max_iter=10000,\n",
    "#                                       random_state=42,\n",
    "#                                       solver=\"lbfgs\",\n",
    "#                                       penalty='l2',\n",
    "#                                       l1_ratio=None,\n",
    "#                                       verbose=1)"
   ]
  },
  {
   "cell_type": "code",
   "execution_count": 27,
   "metadata": {},
   "outputs": [],
   "source": [
    "# model = DecisionTreeClassifier()"
   ]
  },
  {
   "cell_type": "code",
   "execution_count": 28,
   "metadata": {},
   "outputs": [],
   "source": [
    "# model = KNeighborsClassifier()"
   ]
  },
  {
   "cell_type": "code",
   "execution_count": 29,
   "metadata": {},
   "outputs": [],
   "source": [
    "# model = DecisionTreeClassifier()"
   ]
  },
  {
   "cell_type": "code",
   "execution_count": 30,
   "metadata": {},
   "outputs": [],
   "source": [
    "model = GradientBoostingClassifier()\n",
    "model_name = \"GradBoost\""
   ]
  },
  {
   "cell_type": "code",
   "execution_count": 31,
   "metadata": {},
   "outputs": [],
   "source": [
    "# time_stamp = datetime.datetime.now().strftime('%Y-%m-%d_%H-%M-%S')\n",
    "# print(\"Start: \" + time_stamp)\n",
    "\n",
    "# q_i = 0\n",
    "\n",
    "# # for q_i in range(len(fold_partitions)):\n",
    "# partition = fold_partitions[q_i]\n",
    "\n",
    "# ids_train = partition['train']\n",
    "# ids_test = partition['test']\n",
    "\n",
    "# part_train_x = np.take(x_np_scale, ids_train, axis=0)\n",
    "# part_train_y = np.take(y_np, ids_train, axis=0)\n",
    "\n",
    "# part_test_x = np.take(x_np_scale, ids_test, axis=0)\n",
    "# part_test_y = np.take(y_np, ids_test, axis=0)\n",
    "\n",
    "# exp_dir = create_directory(os.path.join(targetdata_dir_exp, \"fold_\"+str(q_i)+\"_\"+time_stamp))\n",
    "# create_directory(os.path.join(exp_dir, \"predictions\"))\n",
    "\n",
    "# model_fit = model.fit(part_train_x, part_train_y)\n",
    "\n",
    "# prob_scores_arr = model_fit.predict_proba(part_test_x)\n",
    "# pred_class = model_fit.predict(part_test_x)\n",
    "# ref_class = part_test_y\n",
    "# epoch = 0\n",
    "# dsettype = 'test'\n",
    "\n",
    "# dset_perf = perfmetric_report(pred_class, ref_class, prob_scores_arr[:,1], epoch,\n",
    "#                           outlog = os.path.join(exp_dir, dsettype + \".log\"))\n",
    "\n",
    "# predictions_df = build_predictions_df(ids_test, ref_class, pred_class, prob_scores_arr)\n",
    "# predictions_df.to_csv(os.path.join(exp_dir, 'predictions', f'epoch_{epoch}_predictions_{dsettype}.csv'))\n",
    "    \n",
    "# print(\"End: \" + datetime.datetime.now().strftime('%Y-%m-%d_%H-%M-%S'))"
   ]
  },
  {
   "cell_type": "code",
   "execution_count": 32,
   "metadata": {},
   "outputs": [
    {
     "name": "stdout",
     "output_type": "stream",
     "text": [
      "Start: 2022-06-29_15-59-39\n",
      "path_current_dir /opt/data/chemprop_run/git/deepadr\n",
      "path_current_dir /opt/data/chemprop_run/git/deepadr\n",
      "path_current_dir /opt/data/chemprop_run/git/deepadr\n",
      "path_current_dir /opt/data/chemprop_run/git/deepadr\n",
      "path_current_dir /opt/data/chemprop_run/git/deepadr\n",
      "path_current_dir /opt/data/chemprop_run/git/deepadr\n",
      "path_current_dir /opt/data/chemprop_run/git/deepadr\n",
      "path_current_dir /opt/data/chemprop_run/git/deepadr\n",
      "path_current_dir /opt/data/chemprop_run/git/deepadr\n",
      "path_current_dir /opt/data/chemprop_run/git/deepadr\n",
      "path_current_dir /opt/data/chemprop_run/git/deepadr\n",
      "path_current_dir /opt/data/chemprop_run/git/deepadr\n",
      "path_current_dir /opt/data/chemprop_run/git/deepadr\n",
      "path_current_dir /opt/data/chemprop_run/git/deepadr\n",
      "path_current_dir /opt/data/chemprop_run/git/deepadr\n",
      "End: 2022-06-29_16-09-15\n"
     ]
    }
   ],
   "source": [
    "time_stamp = datetime.datetime.now().strftime('%Y-%m-%d_%H-%M-%S')\n",
    "print(\"Start: \" + time_stamp)\n",
    "\n",
    "for q_i in range(len(fold_partitions)):\n",
    "    partition = fold_partitions[q_i]\n",
    "    \n",
    "    ids_train = partition['train']\n",
    "    ids_test = partition['test']\n",
    "    \n",
    "    part_train_x = np.take(x_np_scale, ids_train, axis=0)\n",
    "    part_train_y = np.take(y_np, ids_train, axis=0)\n",
    "    \n",
    "    part_test_x = np.take(x_np_scale, ids_test, axis=0)\n",
    "    part_test_y = np.take(y_np, ids_test, axis=0)\n",
    "    \n",
    "    exp_dir = create_directory(os.path.join(targetdata_dir_exp, \"fold_\"+str(q_i)+\"_\"+time_stamp))\n",
    "    create_directory(os.path.join(exp_dir, \"predictions\"))\n",
    "    create_directory(os.path.join(exp_dir, \"modelStates\"))\n",
    "    \n",
    "    model_fit = model.fit(part_train_x, part_train_y)\n",
    "    \n",
    "    prob_scores_arr = model_fit.predict_proba(part_test_x)\n",
    "    pred_class = model_fit.predict(part_test_x)\n",
    "    ref_class = part_test_y\n",
    "    epoch = 0\n",
    "    dsettype = 'test'\n",
    "\n",
    "    dset_perf = perfmetric_report(pred_class, ref_class, prob_scores_arr[:,1], epoch,\n",
    "                              outlog = os.path.join(exp_dir, dsettype + \".log\"))\n",
    "    \n",
    "    predictions_df = build_predictions_df(ids_test, ref_class, pred_class, prob_scores_arr)\n",
    "    predictions_df.to_csv(os.path.join(exp_dir, 'predictions', f'epoch_{epoch}_predictions_{dsettype}.csv'))\n",
    "    \n",
    "    jdump(model_fit, os.path.join(exp_dir, 'modelStates', f'{model_name}_modelFit.joblib')) \n",
    "    \n",
    "print(\"End: \" + datetime.datetime.now().strftime('%Y-%m-%d_%H-%M-%S'))"
   ]
  },
  {
   "cell_type": "code",
   "execution_count": 41,
   "metadata": {},
   "outputs": [],
   "source": []
  },
  {
   "cell_type": "markdown",
   "metadata": {},
   "source": [
    "### SHAP values"
   ]
  },
  {
   "cell_type": "code",
   "execution_count": 38,
   "metadata": {},
   "outputs": [],
   "source": [
    "import shap"
   ]
  },
  {
   "cell_type": "code",
   "execution_count": 39,
   "metadata": {},
   "outputs": [],
   "source": [
    "# source: https://github.com/snap-stanford/ogb/blob/68a303f320220cda859e83e3a8660f2b9debedf6/ogb/utils/features.py#L52\n",
    "\n",
    "atomic_features = ['AtomicNum', 'ChiralTag', 'TotalDegree', \n",
    "                   'FormalCharge', 'TotalNumHs', 'NumRadicalElectrons',\n",
    "                   'Hybridization', 'IsAromatic', 'IsInRing']"
   ]
  },
  {
   "cell_type": "code",
   "execution_count": 40,
   "metadata": {},
   "outputs": [],
   "source": [
    "def list_prefix(l, pre):\n",
    "    return [pre+i for i in l]"
   ]
  },
  {
   "cell_type": "code",
   "execution_count": 41,
   "metadata": {},
   "outputs": [
    {
     "data": {
      "text/plain": [
       "926"
      ]
     },
     "execution_count": 41,
     "metadata": {},
     "output_type": "execute_result"
    }
   ],
   "source": [
    "gene_gex = pd.read_csv('../../data/preprocessing/gene_gex.tsv', sep='\\t')\n",
    "all_feat = list_prefix(atomic_features, \"Drug1_\")+list_prefix(atomic_features, \"Drug2_\")+list(gene_gex.GENE_SYMBOLS)\n",
    "len(all_feat)"
   ]
  },
  {
   "cell_type": "code",
   "execution_count": 42,
   "metadata": {},
   "outputs": [
    {
     "data": {
      "text/plain": [
       "['Drug1_AtomicNum',\n",
       " 'Drug1_ChiralTag',\n",
       " 'Drug1_TotalDegree',\n",
       " 'Drug1_FormalCharge',\n",
       " 'Drug1_TotalNumHs',\n",
       " 'Drug1_NumRadicalElectrons',\n",
       " 'Drug1_Hybridization',\n",
       " 'Drug1_IsAromatic',\n",
       " 'Drug1_IsInRing',\n",
       " 'Drug2_AtomicNum',\n",
       " 'Drug2_ChiralTag',\n",
       " 'Drug2_TotalDegree',\n",
       " 'Drug2_FormalCharge',\n",
       " 'Drug2_TotalNumHs',\n",
       " 'Drug2_NumRadicalElectrons',\n",
       " 'Drug2_Hybridization',\n",
       " 'Drug2_IsAromatic',\n",
       " 'Drug2_IsInRing',\n",
       " 'TSPAN6',\n",
       " 'SCYL3',\n",
       " 'BAD',\n",
       " 'LAP3',\n",
       " 'SNX11',\n",
       " 'CASP10',\n",
       " 'CFLAR',\n",
       " 'FKBP4',\n",
       " 'RBM6',\n",
       " 'SLC25A13',\n",
       " 'ST7',\n",
       " 'CIAPIN1',\n",
       " 'MYCBP2',\n",
       " 'RALA',\n",
       " 'ETV1',\n",
       " 'TBXA2R',\n",
       " 'PAF1',\n",
       " 'ELAC2',\n",
       " 'PAFAH1B1',\n",
       " 'KIAA0100',\n",
       " 'TRAPPC6A',\n",
       " 'E2F2',\n",
       " 'SYPL1',\n",
       " 'CYB561',\n",
       " 'UBE3C',\n",
       " 'NCAPD2',\n",
       " 'NISCH',\n",
       " 'BTK',\n",
       " 'FYN',\n",
       " 'AKAP8L',\n",
       " 'BRCA1',\n",
       " 'UBR7',\n",
       " 'MVP',\n",
       " 'HEBP1',\n",
       " 'MAMLD1',\n",
       " 'CAPN1',\n",
       " 'BID',\n",
       " 'NUDCD3',\n",
       " 'ATP2C1',\n",
       " 'ZDHHC6',\n",
       " 'RNH1',\n",
       " 'ALAS1',\n",
       " 'DERA',\n",
       " 'TOMM34',\n",
       " 'FAS',\n",
       " 'CD44',\n",
       " 'TBPL1',\n",
       " 'GRN',\n",
       " 'TIMP2',\n",
       " 'RAI14',\n",
       " 'PNKP',\n",
       " 'EPHA3',\n",
       " 'DSG2',\n",
       " 'RFC2',\n",
       " 'MAPK9',\n",
       " 'HERPUD1',\n",
       " 'RRP12',\n",
       " 'AKR7A2',\n",
       " 'LAMA3',\n",
       " 'TRAPPC3',\n",
       " 'ARID4B',\n",
       " 'SYNE2',\n",
       " 'ATP11B',\n",
       " 'TARBP1',\n",
       " 'GNA15',\n",
       " 'ACAA1',\n",
       " 'SPAG4',\n",
       " 'CDH3',\n",
       " 'APPBP2',\n",
       " 'GPC1',\n",
       " 'LPAR2',\n",
       " 'HMG20B',\n",
       " 'TRAM2',\n",
       " 'ERBB3',\n",
       " 'ADAT1',\n",
       " 'PDIA5',\n",
       " 'SPEN',\n",
       " 'MYLK',\n",
       " 'PRKCQ',\n",
       " 'MTHFD2',\n",
       " 'PPP2R5A',\n",
       " 'ELAVL1',\n",
       " 'FGFR2',\n",
       " 'ISOC1',\n",
       " 'MTFR1',\n",
       " 'PHKA1',\n",
       " 'DHX29',\n",
       " 'DNTTIP2',\n",
       " 'TP53BP1',\n",
       " 'RHOA',\n",
       " 'IARS2',\n",
       " 'COASY',\n",
       " 'NUP133',\n",
       " 'PIGB',\n",
       " 'GNB5',\n",
       " 'RAB27A',\n",
       " 'IKBKAP',\n",
       " 'NUCB2',\n",
       " 'JMJD6',\n",
       " 'POLB',\n",
       " 'ST6GALNAC2',\n",
       " 'CSNK2A2',\n",
       " 'CDC42',\n",
       " 'NCK2',\n",
       " 'MAP4K4',\n",
       " 'SNX13',\n",
       " 'PRKACA',\n",
       " 'EPN2',\n",
       " 'SMC1A',\n",
       " 'HSD17B10',\n",
       " 'P4HA2',\n",
       " 'NFATC3',\n",
       " 'STK10',\n",
       " 'SCARB1',\n",
       " 'KDM5A',\n",
       " 'PTGS2',\n",
       " 'IGF2BP2',\n",
       " 'GLI2',\n",
       " 'EED',\n",
       " 'ICAM3',\n",
       " 'RAP1GAP',\n",
       " 'STXBP2',\n",
       " 'TM9SF3',\n",
       " 'NFKB2',\n",
       " 'IL4R',\n",
       " 'UBE2A',\n",
       " 'PIK3C3',\n",
       " 'EDN1',\n",
       " 'PCM1',\n",
       " 'MKNK1',\n",
       " 'FDFT1',\n",
       " 'PAFAH1B3',\n",
       " 'PGM1',\n",
       " 'EPB41L2',\n",
       " 'KEAP1',\n",
       " 'RAB21',\n",
       " 'SESN1',\n",
       " 'CNOT4',\n",
       " 'MOK',\n",
       " 'CXCL2',\n",
       " 'MEF2C',\n",
       " 'PTPRC',\n",
       " 'ME2',\n",
       " 'ITGB5',\n",
       " 'KAT6A',\n",
       " 'ITGAE',\n",
       " 'OXCT1',\n",
       " 'ZNF586',\n",
       " 'RPS5',\n",
       " 'FAT1',\n",
       " 'PPIE',\n",
       " 'TXLNA',\n",
       " 'MAP3K4',\n",
       " 'CPNE3',\n",
       " 'CTTN',\n",
       " 'ORC1',\n",
       " 'MAST2',\n",
       " 'BAX',\n",
       " 'MMP2',\n",
       " 'GNAS',\n",
       " 'DNM1L',\n",
       " 'AURKA',\n",
       " 'GNA11',\n",
       " 'ANKRD10',\n",
       " 'PPP1R13B',\n",
       " 'MAPKAPK5',\n",
       " 'PXN',\n",
       " 'BIRC5',\n",
       " 'ICAM1',\n",
       " 'MCOLN1',\n",
       " 'AARS',\n",
       " 'DLD',\n",
       " 'WDR7',\n",
       " 'SPAG7',\n",
       " 'PSME1',\n",
       " 'PPP2R3C',\n",
       " 'PHGDH',\n",
       " 'CDC45',\n",
       " 'HDAC6',\n",
       " 'HOOK2',\n",
       " 'BAMBI',\n",
       " 'ABL1',\n",
       " 'CIRBP',\n",
       " 'GADD45B',\n",
       " 'CRKL',\n",
       " 'MICALL1',\n",
       " 'XBP1',\n",
       " 'FBXO7',\n",
       " 'HMOX1',\n",
       " 'CERK',\n",
       " 'ABHD4',\n",
       " 'POLE2',\n",
       " 'PYGL',\n",
       " 'CGRRF1',\n",
       " 'ATP6V1D',\n",
       " 'TIMM9',\n",
       " 'GSTZ1',\n",
       " 'SPTLC2',\n",
       " 'LGMN',\n",
       " 'DHRS7',\n",
       " 'EIF5',\n",
       " 'PCK2',\n",
       " 'NFKBIA',\n",
       " 'NFATC4',\n",
       " 'CD40',\n",
       " 'MYBL2',\n",
       " 'RAE1',\n",
       " 'TPD52L2',\n",
       " 'TCFL5',\n",
       " 'CDC25B',\n",
       " 'TRIB3',\n",
       " 'MYL9',\n",
       " 'USP14',\n",
       " 'RNMT',\n",
       " 'PSMD10',\n",
       " 'PGRMC1',\n",
       " 'SUV39H1',\n",
       " 'PLP2',\n",
       " 'SLC25A14',\n",
       " 'HTATSF1',\n",
       " 'CORO1A',\n",
       " 'PHKB',\n",
       " 'LYRM1',\n",
       " 'NUP93',\n",
       " 'ACD',\n",
       " 'COG4',\n",
       " 'PLA2G15',\n",
       " 'AXIN1',\n",
       " 'NARFL',\n",
       " 'DNAJA3',\n",
       " 'STX4',\n",
       " 'CCP110',\n",
       " 'CSK',\n",
       " 'FAH',\n",
       " 'HOMER2',\n",
       " 'GABPB1',\n",
       " 'TJP1',\n",
       " 'DECR1',\n",
       " 'IKBKB',\n",
       " 'TSTA3',\n",
       " 'ASAH1',\n",
       " 'BNIP3L',\n",
       " 'MAN2B1',\n",
       " 'ECH1',\n",
       " 'NFKBIB',\n",
       " 'RELB',\n",
       " 'PIH1D1',\n",
       " 'PLEKHJ1',\n",
       " 'AKAP8',\n",
       " 'POP4',\n",
       " 'FSD1',\n",
       " 'POLR2I',\n",
       " 'ETFB',\n",
       " 'GRWD1',\n",
       " 'LIG1',\n",
       " 'LSR',\n",
       " 'CDK6',\n",
       " 'H2AFV',\n",
       " 'DNAJB6',\n",
       " 'GRB10',\n",
       " 'FKBP14',\n",
       " 'STX1A',\n",
       " 'CASP2',\n",
       " 'LSM5',\n",
       " 'SERPINE1',\n",
       " 'PLOD3',\n",
       " 'RPA3',\n",
       " 'EZH2',\n",
       " 'MEST',\n",
       " 'BLVRA',\n",
       " 'RHEB',\n",
       " 'PRKAG2',\n",
       " 'BCL7B',\n",
       " 'YKT6',\n",
       " 'C5',\n",
       " 'DNM1',\n",
       " 'TESK1',\n",
       " 'NPDC1',\n",
       " 'PDLIM1',\n",
       " 'GATA3',\n",
       " 'RAB11FIP2',\n",
       " 'LIPA',\n",
       " 'XPNPEP1',\n",
       " 'SMC3',\n",
       " 'ZMIZ1',\n",
       " 'CASC3',\n",
       " 'RAD51C',\n",
       " 'RNF167',\n",
       " 'NUP88',\n",
       " 'BLMH',\n",
       " 'SMARCD2',\n",
       " 'CYTH1',\n",
       " 'CCL2',\n",
       " 'COL1A1',\n",
       " 'VAT1',\n",
       " 'DUSP3',\n",
       " 'TMEM97',\n",
       " 'DCUN1D4',\n",
       " 'CHIC2',\n",
       " 'INPP4B',\n",
       " 'WFS1',\n",
       " 'TRIM2',\n",
       " 'MFSD10',\n",
       " 'UGDH',\n",
       " 'HSPA8',\n",
       " 'CCND1',\n",
       " 'CCDC86',\n",
       " 'TMEM109',\n",
       " 'BIRC2',\n",
       " 'PDHX',\n",
       " 'SLC35F2',\n",
       " 'SLC11A2',\n",
       " 'MLEC',\n",
       " 'CDKN1B',\n",
       " 'RFC5',\n",
       " 'TIMELESS',\n",
       " 'GAPDH',\n",
       " 'COPS7A',\n",
       " 'PTPN6',\n",
       " 'GOLT1B',\n",
       " 'C2CD5',\n",
       " 'PPARD',\n",
       " 'MCM3',\n",
       " 'ZNF451',\n",
       " 'ASCC3',\n",
       " 'GMNN',\n",
       " 'CCND3',\n",
       " 'TBP',\n",
       " 'DUSP22',\n",
       " 'SENP6',\n",
       " 'PAPD7',\n",
       " 'GHR',\n",
       " 'HMGCS1',\n",
       " 'KIF20A',\n",
       " 'NNT',\n",
       " 'HMGCR',\n",
       " 'GNPDA1',\n",
       " 'SKP1',\n",
       " 'NR3C1',\n",
       " 'TCERG1',\n",
       " 'CSNK1A1',\n",
       " 'SMC4',\n",
       " 'PCCB',\n",
       " 'HES1',\n",
       " 'GNAI2',\n",
       " 'NPRL2',\n",
       " 'CBLB',\n",
       " 'MAPKAPK3',\n",
       " 'ABCC5',\n",
       " 'MRPL19',\n",
       " 'STAT1',\n",
       " 'PECR',\n",
       " 'TXNDC9',\n",
       " 'ST3GAL5',\n",
       " 'KDM3A',\n",
       " 'FHL2',\n",
       " 'STK25',\n",
       " 'ID2',\n",
       " 'CEBPZ',\n",
       " 'SLC1A4',\n",
       " 'TRAK2',\n",
       " 'NFE2L2',\n",
       " 'MSH6',\n",
       " 'SPR',\n",
       " 'SCP2',\n",
       " 'FAM20B',\n",
       " 'ICMT',\n",
       " 'ARHGEF2',\n",
       " 'PLA2G4A',\n",
       " 'GADD45A',\n",
       " 'RGS2',\n",
       " 'CRYZ',\n",
       " 'LGALS8',\n",
       " 'SDHB',\n",
       " 'KDM5B',\n",
       " 'GALE',\n",
       " 'EBNA1BP2',\n",
       " 'CDC20',\n",
       " 'IPO13',\n",
       " 'ATP6V0B',\n",
       " 'PIK3R3',\n",
       " 'SLC35A3',\n",
       " 'STMN1',\n",
       " 'RPS6KA1',\n",
       " 'DHDDS',\n",
       " 'NENF',\n",
       " 'RPA2',\n",
       " 'KIF14',\n",
       " 'CAMSAP2',\n",
       " 'ATF6',\n",
       " 'CREB1',\n",
       " 'TMEM5',\n",
       " 'FOXO3',\n",
       " 'SPP1',\n",
       " 'ITGB1BP1',\n",
       " 'CCDC92',\n",
       " 'HEATR1',\n",
       " 'CTNNAL1',\n",
       " 'TGFB3',\n",
       " 'DNMT3A',\n",
       " 'IDE',\n",
       " 'SMNDC1',\n",
       " 'PCMT1',\n",
       " 'ACAT2',\n",
       " 'DNAJC15',\n",
       " 'UFM1',\n",
       " 'EGR1',\n",
       " 'PLS1',\n",
       " 'SOCS2',\n",
       " 'DUSP4',\n",
       " 'SORBS3',\n",
       " 'PTK2B',\n",
       " 'TBX2',\n",
       " 'SLC35B1',\n",
       " 'CAT',\n",
       " 'ZMYM2',\n",
       " 'PIK3CA',\n",
       " 'PDS5A',\n",
       " 'CXCR4',\n",
       " 'MRPS2',\n",
       " 'CISD1',\n",
       " 'ECD',\n",
       " 'ACOT9',\n",
       " 'ATF1',\n",
       " 'CDK2',\n",
       " 'LPGAT1',\n",
       " 'NCOA3',\n",
       " 'VAPB',\n",
       " 'STAMBP',\n",
       " 'USP22',\n",
       " 'SPDEF',\n",
       " 'SOX4',\n",
       " 'TM9SF2',\n",
       " 'BMP4',\n",
       " 'NUP85',\n",
       " 'MBOAT7',\n",
       " 'IL1B',\n",
       " 'PAX8',\n",
       " 'RTN2',\n",
       " 'PSMF1',\n",
       " 'BECN1',\n",
       " 'TRAP1',\n",
       " 'TIMM17B',\n",
       " 'KTN1',\n",
       " 'PIN1',\n",
       " 'FBXL12',\n",
       " 'SYNGR3',\n",
       " 'MACF1',\n",
       " 'SMARCA4',\n",
       " 'TICAM1',\n",
       " 'PTPN12',\n",
       " 'GNAI1',\n",
       " 'ZFP36',\n",
       " 'PAICS',\n",
       " 'CALU',\n",
       " 'CHN1',\n",
       " 'HAT1',\n",
       " 'CHAC1',\n",
       " 'ARPP19',\n",
       " 'LOXL1',\n",
       " 'DCTD',\n",
       " 'PARP2',\n",
       " 'SNX6',\n",
       " 'EAPP',\n",
       " 'REEP5',\n",
       " 'ITFG1',\n",
       " 'APOE',\n",
       " 'XPO7',\n",
       " 'FCHO1',\n",
       " 'PAK4',\n",
       " 'DNMT1',\n",
       " 'PRR7',\n",
       " 'SH3BP5',\n",
       " 'NR1H2',\n",
       " 'ACLY',\n",
       " 'IL13RA1',\n",
       " 'TOP2A',\n",
       " 'DNAJB1',\n",
       " 'LRRC41',\n",
       " 'PPARG',\n",
       " 'ENOSF1',\n",
       " 'ARFIP2',\n",
       " 'RRP8',\n",
       " 'RPA1',\n",
       " 'SNAP25',\n",
       " 'PCNA',\n",
       " 'KIAA0907',\n",
       " 'IGHMBP2',\n",
       " 'DPH2',\n",
       " 'WASF3',\n",
       " 'PIK3C2B',\n",
       " 'CCNA1',\n",
       " 'TCEAL4',\n",
       " 'EPHB2',\n",
       " 'CNDP2',\n",
       " 'CCNB1',\n",
       " 'CDK7',\n",
       " 'BHLHE40',\n",
       " 'EDEM1',\n",
       " 'VAV3',\n",
       " 'PSRC1',\n",
       " 'CCNH',\n",
       " 'DDB2',\n",
       " 'ETS1',\n",
       " 'TMEM2',\n",
       " 'FBXO21',\n",
       " 'DMTF1',\n",
       " 'TES',\n",
       " 'CDK4',\n",
       " 'PAN2',\n",
       " 'MAP7',\n",
       " 'KCNK1',\n",
       " 'COG2',\n",
       " 'DNAJB2',\n",
       " 'CAB39',\n",
       " 'PWP1',\n",
       " 'SCRN1',\n",
       " 'BZW2',\n",
       " 'NMT1',\n",
       " 'EPRS',\n",
       " 'YME1L1',\n",
       " 'TOR1A',\n",
       " 'STXBP1',\n",
       " 'TLR4',\n",
       " 'PRPF4',\n",
       " 'FPGS',\n",
       " 'TEX10',\n",
       " 'MYC',\n",
       " 'RPS6',\n",
       " 'CNPY3',\n",
       " 'TFAP2A',\n",
       " 'BPHL',\n",
       " 'IER3',\n",
       " 'PRCP',\n",
       " 'SLC37A4',\n",
       " 'MAP2K5',\n",
       " 'SQRDL',\n",
       " 'NUSAP1',\n",
       " 'PAK6',\n",
       " 'ADAM10',\n",
       " 'SLC5A6',\n",
       " 'FBXO11',\n",
       " 'ANXA7',\n",
       " 'HERC6',\n",
       " 'CENPE',\n",
       " 'HADH',\n",
       " 'EGF',\n",
       " 'DUSP6',\n",
       " 'RB1',\n",
       " 'MBNL2',\n",
       " 'GTF2A2',\n",
       " 'TSPAN3',\n",
       " 'WDR61',\n",
       " 'TPM1',\n",
       " 'IGF1R',\n",
       " 'IQGAP1',\n",
       " 'PMM2',\n",
       " 'TXNL4B',\n",
       " 'NOL3',\n",
       " 'MBTPS1',\n",
       " 'CLTC',\n",
       " 'NPC1',\n",
       " 'TP53',\n",
       " 'PMAIP1',\n",
       " 'PIP4K2B',\n",
       " 'ERBB2',\n",
       " 'GRB7',\n",
       " 'PFKL',\n",
       " 'SIRT3',\n",
       " 'IFNAR1',\n",
       " 'APP',\n",
       " 'AKT1',\n",
       " 'NOSIP',\n",
       " 'WDTC1',\n",
       " 'KIF2C',\n",
       " 'PTPRF',\n",
       " 'MTF2',\n",
       " 'ATP1B1',\n",
       " 'MPC2',\n",
       " 'CREG1',\n",
       " 'TMCO1',\n",
       " 'PPOX',\n",
       " 'RFX5',\n",
       " 'IKBKE',\n",
       " 'DYRK3',\n",
       " 'TP53BP2',\n",
       " 'SLC27A3',\n",
       " 'INTS3',\n",
       " 'SCCPDH',\n",
       " 'NVL',\n",
       " 'PARP1',\n",
       " 'LBR',\n",
       " 'DUSP11',\n",
       " 'RALB',\n",
       " 'HSPD1',\n",
       " 'VGLL4',\n",
       " 'ATG3',\n",
       " 'TCTA',\n",
       " 'ENOPH1',\n",
       " 'SNCA',\n",
       " 'CCNA2',\n",
       " 'MYO10',\n",
       " 'SSBP2',\n",
       " 'RASA1',\n",
       " 'TNIP1',\n",
       " 'G3BP1',\n",
       " 'GFOD1',\n",
       " 'TNFRSF21',\n",
       " 'NFKBIE',\n",
       " 'EGFR',\n",
       " 'IGFBP3',\n",
       " 'TLK2',\n",
       " 'CASK',\n",
       " 'EBP',\n",
       " 'NSDHL',\n",
       " 'POLR2K',\n",
       " 'CDKN2A',\n",
       " 'NOTCH1',\n",
       " 'USP6NL',\n",
       " 'RSU1',\n",
       " 'PAK1',\n",
       " 'HYOU1',\n",
       " 'EML3',\n",
       " 'CHEK1',\n",
       " 'YTHDF1',\n",
       " 'PLCB3',\n",
       " 'ALDOA',\n",
       " 'HMGA2',\n",
       " 'ARID5B',\n",
       " 'PRSS23',\n",
       " 'UBE3B',\n",
       " 'INPP1',\n",
       " 'SLC25A4',\n",
       " 'BAG3',\n",
       " 'MBNL1',\n",
       " 'PTPRK',\n",
       " 'CAST',\n",
       " 'CETN3',\n",
       " 'RPIA',\n",
       " 'HS2ST1',\n",
       " 'PPP2R5E',\n",
       " 'FAM69A',\n",
       " 'TSEN2',\n",
       " 'CDK19',\n",
       " 'OXA1L',\n",
       " 'FZD7',\n",
       " 'RRAGA',\n",
       " 'DCK',\n",
       " 'TIAM1',\n",
       " 'SUPV3L1',\n",
       " 'HK1',\n",
       " 'UBE2L6',\n",
       " 'KAT6B',\n",
       " 'UTP14A',\n",
       " 'MAPK13',\n",
       " 'PHKG2',\n",
       " 'TATDN2',\n",
       " 'FZD1',\n",
       " 'KIT',\n",
       " 'TSC22D3',\n",
       " 'C2CD2',\n",
       " 'FAIM',\n",
       " 'GDPD5',\n",
       " 'NIT1',\n",
       " 'CSRP1',\n",
       " 'CBR1',\n",
       " 'CBR3',\n",
       " 'PSMD4',\n",
       " 'EFCAB14',\n",
       " 'CALM3',\n",
       " 'DFFA',\n",
       " 'NR2F6',\n",
       " 'RRP1B',\n",
       " 'RALGDS',\n",
       " 'SLC2A6',\n",
       " 'SHC1',\n",
       " 'ANO10',\n",
       " 'FGFR4',\n",
       " 'CPSF4',\n",
       " 'VPS28',\n",
       " 'SQSTM1',\n",
       " 'BDH1',\n",
       " 'DUSP14',\n",
       " 'CCNF',\n",
       " 'AMDHD2',\n",
       " 'KLHL21',\n",
       " 'USP1',\n",
       " 'SNX7',\n",
       " 'AGL',\n",
       " 'DENND2D',\n",
       " 'MAPKAPK2',\n",
       " 'SGCB',\n",
       " 'VPS72',\n",
       " 'TGFBR2',\n",
       " 'GTPBP8',\n",
       " 'TIPARP',\n",
       " 'ABHD6',\n",
       " 'APBB2',\n",
       " 'TOPBP1',\n",
       " 'RPN1',\n",
       " 'RPL39L',\n",
       " 'PRKCD',\n",
       " 'LRPAP1',\n",
       " 'CDC25A',\n",
       " 'ZNF589',\n",
       " 'LSM6',\n",
       " 'SLC25A46',\n",
       " 'CASP3',\n",
       " 'TERT',\n",
       " 'SLC35A1',\n",
       " 'NOS3',\n",
       " 'ALDH7A1',\n",
       " 'PSIP1',\n",
       " 'SYK',\n",
       " 'NFIL3',\n",
       " 'DYNLT3',\n",
       " 'MELK',\n",
       " 'KLHDC2',\n",
       " 'HPRT1',\n",
       " 'CASP7',\n",
       " 'PACSIN3',\n",
       " 'HTRA1',\n",
       " 'CEP57',\n",
       " 'NOLC1',\n",
       " 'FRS2',\n",
       " 'PCBD1',\n",
       " 'ILK',\n",
       " 'KIAA0355',\n",
       " 'ATMIN',\n",
       " 'BLCAP',\n",
       " 'PEX11A',\n",
       " 'TERF2IP',\n",
       " 'PLK1',\n",
       " 'CLPX',\n",
       " 'SMAD3',\n",
       " 'PRR15L',\n",
       " 'CRK',\n",
       " 'FAM57A',\n",
       " 'GLOD4',\n",
       " 'CD320',\n",
       " 'KCTD5',\n",
       " 'RAB4A',\n",
       " 'MAPK1IP1L',\n",
       " 'DDIT4',\n",
       " 'NT5DC2',\n",
       " 'KIF5C',\n",
       " 'THAP11',\n",
       " 'COG7',\n",
       " 'RAB31',\n",
       " 'STAT3',\n",
       " 'PKIG',\n",
       " 'MAT2A',\n",
       " 'PPIC',\n",
       " 'ATF5',\n",
       " 'ADRB2',\n",
       " 'PTK2',\n",
       " 'CLIC4',\n",
       " 'DFFB',\n",
       " 'RFNG',\n",
       " 'CRTAP',\n",
       " 'CDK1',\n",
       " 'FOS',\n",
       " 'TMED10',\n",
       " 'NUDT9',\n",
       " 'ELOVL6',\n",
       " 'HSPA4',\n",
       " 'CDCA4',\n",
       " 'FEZ2',\n",
       " 'RBKS',\n",
       " 'SCAND1',\n",
       " 'GAA',\n",
       " 'CANT1',\n",
       " 'POLR1C',\n",
       " 'ZNF318',\n",
       " 'WIPF2',\n",
       " 'CLSTN1',\n",
       " 'ZNF274',\n",
       " 'TCEA2',\n",
       " 'BCL2',\n",
       " 'MALT1',\n",
       " 'ZNF131',\n",
       " 'C2CD2L',\n",
       " 'ARNT2',\n",
       " 'RAD9A',\n",
       " 'OXSR1',\n",
       " 'GLRX',\n",
       " 'TRIB1',\n",
       " 'DAG1',\n",
       " 'SMARCC1',\n",
       " 'STAT5B',\n",
       " 'NET1',\n",
       " 'FUT1',\n",
       " 'UBE2C',\n",
       " 'ARHGAP1',\n",
       " 'CCNE2',\n",
       " 'CLTB',\n",
       " 'DRAP1',\n",
       " 'FOSL1',\n",
       " 'CCDC85B',\n",
       " 'RUVBL1',\n",
       " 'SFN',\n",
       " 'MSRA',\n",
       " 'TUBB6',\n",
       " 'CHMP6',\n",
       " 'BNIP3',\n",
       " 'CDK5R1',\n",
       " 'TIMM22',\n",
       " 'JUN',\n",
       " 'STAP2',\n",
       " 'DDX10',\n",
       " 'P4HTM',\n",
       " 'SUZ12',\n",
       " 'EXOSC4',\n",
       " 'AURKB',\n",
       " 'RRS1',\n",
       " 'GATA2',\n",
       " 'RBM15B',\n",
       " 'PUF60',\n",
       " 'NRIP1',\n",
       " 'ADO',\n",
       " 'WRB',\n",
       " 'MRPS16',\n",
       " 'EXT1',\n",
       " 'BACE2',\n",
       " 'ADI1',\n",
       " 'TSKU',\n",
       " 'ACBD3',\n",
       " 'MTA1',\n",
       " 'PYCR1',\n",
       " 'PSMG1',\n",
       " 'TMEM50A',\n",
       " 'CHEK2',\n",
       " 'PRKX',\n",
       " 'NIPSNAP1',\n",
       " 'CRELD2',\n",
       " 'COPB2',\n",
       " 'FOXO4',\n",
       " 'PROS1',\n",
       " 'HIST2H2BE',\n",
       " 'MUC1',\n",
       " 'IKZF1',\n",
       " 'INSIG1',\n",
       " 'GPATCH8',\n",
       " 'ZNF395',\n",
       " 'CHP1',\n",
       " 'COL4A1',\n",
       " 'USP7',\n",
       " 'EIF4EBP1',\n",
       " 'UBQLN2',\n",
       " 'ARL4C',\n",
       " 'PLSCR1',\n",
       " 'S100A13',\n",
       " 'S100A4',\n",
       " 'PTPN1',\n",
       " 'EVL',\n",
       " 'PIK3R4',\n",
       " 'HDAC2',\n",
       " 'MMP1',\n",
       " 'TLE1',\n",
       " 'ARHGEF12',\n",
       " 'LAGE3',\n",
       " 'IGF2R',\n",
       " 'SRC',\n",
       " 'TBC1D9B',\n",
       " 'GTF2E2',\n",
       " 'LRP10',\n",
       " 'PDGFA',\n",
       " 'SPTAN1',\n",
       " 'ADH5',\n",
       " 'HIST1H2BK',\n",
       " 'MPZL1',\n",
       " 'TFDP1',\n",
       " 'DDX42',\n",
       " 'SPRED2',\n",
       " 'GFPT1',\n",
       " 'TXNRD1',\n",
       " 'CTNND1',\n",
       " 'KLHL9',\n",
       " 'PNP',\n",
       " 'FOXJ3',\n",
       " 'UBE2J1',\n",
       " 'KIAA0753',\n",
       " 'DAXX',\n",
       " 'PSMB8',\n",
       " 'HLA-DRA',\n",
       " 'SKIV2L',\n",
       " 'HSPA1A',\n",
       " 'ABCF1',\n",
       " 'DDR1',\n",
       " 'TCTN1',\n",
       " 'TRIM13',\n",
       " 'RNPS1',\n",
       " 'HN1L',\n",
       " 'SACM1L',\n",
       " 'MLLT11',\n",
       " 'NRAS',\n",
       " 'CSNK1E',\n",
       " 'TSPAN4',\n",
       " 'MYCBP',\n",
       " 'FIS1',\n",
       " 'IFRD2',\n",
       " 'NPEPL1',\n",
       " 'CEBPD',\n",
       " 'PLEKHM1',\n",
       " 'MIF',\n",
       " 'PRAF2',\n",
       " 'LYN',\n",
       " 'POLG2']"
      ]
     },
     "execution_count": 42,
     "metadata": {},
     "output_type": "execute_result"
    }
   ],
   "source": [
    "all_feat"
   ]
  },
  {
   "cell_type": "code",
   "execution_count": null,
   "metadata": {},
   "outputs": [],
   "source": []
  },
  {
   "cell_type": "code",
   "execution_count": 43,
   "metadata": {},
   "outputs": [
    {
     "data": {
      "text/plain": [
       "5"
      ]
     },
     "execution_count": 43,
     "metadata": {},
     "output_type": "execute_result"
    }
   ],
   "source": [
    "time_stamp = \"2022-06-29_15-59-39\" #\"2022-06-20_18-27-11\"\n",
    "\n",
    "import glob\n",
    "exp_dirs = glob.glob(targetdata_dir_exp+\"/fold_*_\"+time_stamp)\n",
    "len(exp_dirs)"
   ]
  },
  {
   "cell_type": "code",
   "execution_count": 44,
   "metadata": {},
   "outputs": [
    {
     "name": "stdout",
     "output_type": "stream",
     "text": [
      "3\n",
      "0\n",
      "2\n",
      "4\n",
      "1\n"
     ]
    }
   ],
   "source": [
    "for edir in exp_dirs:\n",
    "    fold = int(edir.split(\"/\")[-1].split('_')[1])\n",
    "    print(fold)"
   ]
  },
  {
   "cell_type": "code",
   "execution_count": null,
   "metadata": {},
   "outputs": [
    {
     "name": "stdout",
     "output_type": "stream",
     "text": [
      "Start: 2022-06-29_16-26-39\n",
      "fold: 3\n",
      "path_current_dir /opt/data/chemprop_run/git/deepadr\n"
     ]
    },
    {
     "name": "stderr",
     "output_type": "stream",
     "text": [
      "Permutation explainer:   1%|█▍                                                                                                                                                                           | 42/5151 [02:32<5:31:57,  3.90s/it]\n"
     ]
    }
   ],
   "source": [
    "time_stamp = datetime.datetime.now().strftime('%Y-%m-%d_%H-%M-%S')\n",
    "print(\"Start: \" + time_stamp)\n",
    "\n",
    "for edir in exp_dirs:\n",
    "    fold = edir.split(\"/\")[-1].split('_')[1]\n",
    "    q_i = int(fold)\n",
    "    print(\"fold:\", fold)\n",
    "# for q_i in range(len(fold_partitions)):\n",
    "    partition = fold_partitions[q_i]\n",
    "    \n",
    "    ids_train = partition['train']\n",
    "    ids_test = partition['test']\n",
    "    \n",
    "    part_train_x = np.take(x_np_scale, ids_train, axis=0)\n",
    "    part_train_y = np.take(y_np, ids_train, axis=0)\n",
    "    \n",
    "    part_test_x = np.take(x_np_scale, ids_test, axis=0)\n",
    "    part_test_y = np.take(y_np, ids_test, axis=0)\n",
    "    \n",
    "#     exp_dir = create_directory(os.path.join(targetdata_dir_exp, \"fold_\"+str(q_i)+\"_\"+time_stamp))\n",
    "#     create_directory(os.path.join(exp_dir, \"predictions\"))\n",
    "    create_directory(os.path.join(edir, \"Shap\"))\n",
    "    \n",
    "    model_fit = jload(os.path.join(edir, 'modelStates', f'{model_name}_modelFit.joblib')) \n",
    "#     model_fit = model.fit(part_train_x, part_train_y)\n",
    "    \n",
    "    explainer = shap.Explainer(model_fit.predict, part_test_x)\n",
    "    # Calculates the SHAP values - It takes some time\n",
    "    shap_values = explainer(part_test_x, max_evals=2000)\n",
    "    \n",
    "    jdump(shap_values, os.path.join(edir, 'Shap', f'{model_name}_shapValues.joblib')) \n",
    "    \n",
    "print(\"End: \" + datetime.datetime.now().strftime('%Y-%m-%d_%H-%M-%S'))"
   ]
  },
  {
   "cell_type": "code",
   "execution_count": 19,
   "metadata": {},
   "outputs": [
    {
     "ename": "NameError",
     "evalue": "name 'model_fit' is not defined",
     "output_type": "error",
     "traceback": [
      "\u001b[0;31m---------------------------------------------------------------------------\u001b[0m",
      "\u001b[0;31mNameError\u001b[0m                                 Traceback (most recent call last)",
      "Input \u001b[0;32mIn [19]\u001b[0m, in \u001b[0;36m<cell line: 2>\u001b[0;34m()\u001b[0m\n\u001b[1;32m      1\u001b[0m \u001b[38;5;66;03m# Fits the explainer\u001b[39;00m\n\u001b[0;32m----> 2\u001b[0m explainer \u001b[38;5;241m=\u001b[39m shap\u001b[38;5;241m.\u001b[39mExplainer(\u001b[43mmodel_fit\u001b[49m\u001b[38;5;241m.\u001b[39mpredict, part_test_x)\n\u001b[1;32m      3\u001b[0m \u001b[38;5;66;03m# Calculates the SHAP values - It takes some time\u001b[39;00m\n\u001b[1;32m      4\u001b[0m shap_values \u001b[38;5;241m=\u001b[39m explainer(part_test_x, max_evals\u001b[38;5;241m=\u001b[39m\u001b[38;5;241m2000\u001b[39m)\n",
      "\u001b[0;31mNameError\u001b[0m: name 'model_fit' is not defined"
     ]
    }
   ],
   "source": [
    "# Fits the explainer\n",
    "explainer = shap.Explainer(model_fit.predict, part_test_x)\n",
    "# Calculates the SHAP values - It takes some time\n",
    "shap_values = explainer(part_test_x, max_evals=2000)"
   ]
  },
  {
   "cell_type": "code",
   "execution_count": 33,
   "metadata": {},
   "outputs": [],
   "source": [
    "# ReaderWriter.dump_data(shap_values, os.path.join(exp_dir, f'shap_values.pkl'))"
   ]
  },
  {
   "cell_type": "code",
   "execution_count": 62,
   "metadata": {},
   "outputs": [
    {
     "data": {
      "text/plain": [
       ".values =\n",
       "array([[ 0.   ,  0.   ,  0.18 , ...,  0.005,  0.   ,  0.   ],\n",
       "       [-0.015,  0.01 ,  0.11 , ..., -0.005,  0.   ,  0.005],\n",
       "       [-0.005,  0.01 , -0.145, ...,  0.   ,  0.   ,  0.   ],\n",
       "       ...,\n",
       "       [-0.005,  0.01 ,  0.145, ...,  0.01 ,  0.   ,  0.   ],\n",
       "       [-0.005,  0.01 , -0.015, ...,  0.005,  0.005,  0.   ],\n",
       "       [ 0.   ,  0.01 ,  0.03 , ...,  0.02 ,  0.   ,  0.   ]])\n",
       "\n",
       ".base_values =\n",
       "array([0.3, 0.3, 0.3, ..., 0.3, 0.3, 0.3])\n",
       "\n",
       ".data =\n",
       "array([[-0.17084287, -0.15152021,  0.77687611, ..., -0.40845414,\n",
       "         0.85813763,  0.89785037],\n",
       "       [-0.2449715 , -0.15152021,  0.59276845, ...,  0.0704298 ,\n",
       "         0.56510498, -0.51746101],\n",
       "       [-0.2282867 , -0.15152021, -0.72883753, ...,  0.0704298 ,\n",
       "         0.56510498, -0.51746101],\n",
       "       ...,\n",
       "       [-0.31833381, -0.15152021,  1.17222452, ..., -0.99148492,\n",
       "         0.70802992, -0.47901196],\n",
       "       [-0.0884473 , -0.15152021, -0.04125095, ..., -0.45184989,\n",
       "         1.07328074, -1.27451317],\n",
       "       [-0.22763496, -0.15152021,  0.57191226, ..., -1.27108439,\n",
       "         1.2013354 ,  0.95369764]])"
      ]
     },
     "execution_count": 62,
     "metadata": {},
     "output_type": "execute_result"
    }
   ],
   "source": [
    "shap_values = ReaderWriter.read_data(os.path.join(exp_dirs[0], f'shap_values.pkl'))\n",
    "shap_values"
   ]
  },
  {
   "cell_type": "code",
   "execution_count": 65,
   "metadata": {},
   "outputs": [
    {
     "data": {
      "image/png": "[encoded data removed]",
      "text/plain": [
       "<Figure size 576x684 with 2 Axes>"
      ]
     },
     "metadata": {
      "needs_background": "light"
     },
     "output_type": "display_data"
    }
   ],
   "source": [
    "shap.summary_plot(shap_values, feature_names=all_feat)"
   ]
  },
  {
   "cell_type": "code",
   "execution_count": 66,
   "metadata": {},
   "outputs": [
    {
     "ename": "KeyboardInterrupt",
     "evalue": "",
     "output_type": "error",
     "traceback": [
      "\u001b[0;31m---------------------------------------------------------------------------\u001b[0m",
      "\u001b[0;31mKeyboardInterrupt\u001b[0m                         Traceback (most recent call last)",
      "    \u001b[0;31m[... skipping hidden 1 frame]\u001b[0m\n",
      "Input \u001b[0;32mIn [66]\u001b[0m, in \u001b[0;36m<cell line: 1>\u001b[0;34m()\u001b[0m\n\u001b[0;32m----> 1\u001b[0m \u001b[43mshap\u001b[49m\u001b[38;5;241;43m.\u001b[39;49m\u001b[43mbar_plot\u001b[49m\u001b[43m(\u001b[49m\u001b[43mshap_values\u001b[49m\u001b[43m,\u001b[49m\u001b[43m \u001b[49m\u001b[43mfeature_names\u001b[49m\u001b[38;5;241;43m=\u001b[39;49m\u001b[43mall_feat\u001b[49m\u001b[43m)\u001b[49m\n",
      "File \u001b[0;32m/opt/conda/envs/graphnn/lib/python3.9/site-packages/shap/plots/_bar.py:366\u001b[0m, in \u001b[0;36mbar_legacy\u001b[0;34m(shap_values, features, feature_names, max_display, show)\u001b[0m\n\u001b[1;32m    363\u001b[0m     max_display \u001b[38;5;241m=\u001b[39m \u001b[38;5;28mmin\u001b[39m(\u001b[38;5;28mlen\u001b[39m(feature_names), max_display)\n\u001b[0;32m--> 366\u001b[0m feature_order \u001b[38;5;241m=\u001b[39m np\u001b[38;5;241m.\u001b[39margsort(\u001b[38;5;241m-\u001b[39m\u001b[43mnp\u001b[49m\u001b[38;5;241;43m.\u001b[39;49m\u001b[43mabs\u001b[49m\u001b[43m(\u001b[49m\u001b[43mshap_values\u001b[49m\u001b[43m)\u001b[49m)\n\u001b[1;32m    368\u001b[0m \u001b[38;5;66;03m# \u001b[39;00m\n",
      "File \u001b[0;32m/opt/conda/envs/graphnn/lib/python3.9/site-packages/shap/_explanation.py:421\u001b[0m, in \u001b[0;36mExplanation.__getitem__\u001b[0;34m(self, item)\u001b[0m\n\u001b[1;32m    420\u001b[0m     new_self \u001b[38;5;241m=\u001b[39m copy\u001b[38;5;241m.\u001b[39mcopy(\u001b[38;5;28mself\u001b[39m)\n\u001b[0;32m--> 421\u001b[0m new_self\u001b[38;5;241m.\u001b[39m_s \u001b[38;5;241m=\u001b[39m \u001b[43mnew_self\u001b[49m\u001b[38;5;241;43m.\u001b[39;49m\u001b[43m_s\u001b[49m\u001b[38;5;241;43m.\u001b[39;49m\u001b[38;5;21;43m__getitem__\u001b[39;49m\u001b[43m(\u001b[49m\u001b[43mitem\u001b[49m\u001b[43m)\u001b[49m\n\u001b[1;32m    422\u001b[0m new_self\u001b[38;5;241m.\u001b[39mop_history\u001b[38;5;241m.\u001b[39mappend({\n\u001b[1;32m    423\u001b[0m     \u001b[38;5;124m\"\u001b[39m\u001b[38;5;124mname\u001b[39m\u001b[38;5;124m\"\u001b[39m: \u001b[38;5;124m\"\u001b[39m\u001b[38;5;124m__getitem__\u001b[39m\u001b[38;5;124m\"\u001b[39m,\n\u001b[1;32m    424\u001b[0m     \u001b[38;5;124m\"\u001b[39m\u001b[38;5;124margs\u001b[39m\u001b[38;5;124m\"\u001b[39m: (item,),\n\u001b[1;32m    425\u001b[0m     \u001b[38;5;124m\"\u001b[39m\u001b[38;5;124mprev_shape\u001b[39m\u001b[38;5;124m\"\u001b[39m: \u001b[38;5;28mself\u001b[39m\u001b[38;5;241m.\u001b[39mshape\n\u001b[1;32m    426\u001b[0m })\n",
      "File \u001b[0;32m/opt/conda/envs/graphnn/lib/python3.9/site-packages/slicer/slicer.py:123\u001b[0m, in \u001b[0;36mSlicer.__getitem__\u001b[0;34m(self, item)\u001b[0m\n\u001b[1;32m    121\u001b[0m         new_kwargs[name] \u001b[38;5;241m=\u001b[39m new_tracked\n\u001b[0;32m--> 123\u001b[0m \u001b[38;5;28;01mreturn\u001b[39;00m \u001b[38;5;28;43mself\u001b[39;49m\u001b[38;5;241;43m.\u001b[39;49m\u001b[38;5;18;43m__class__\u001b[39;49m\u001b[38;5;241;43m.\u001b[39;49m\u001b[43mfrom_slicer\u001b[49m\u001b[43m(\u001b[49m\u001b[38;5;241;43m*\u001b[39;49m\u001b[43mnew_args\u001b[49m\u001b[43m,\u001b[49m\u001b[43m \u001b[49m\u001b[38;5;241;43m*\u001b[39;49m\u001b[38;5;241;43m*\u001b[39;49m\u001b[43mnew_kwargs\u001b[49m\u001b[43m)\u001b[49m\n",
      "File \u001b[0;32m/opt/conda/envs/graphnn/lib/python3.9/site-packages/slicer/slicer.py:68\u001b[0m, in \u001b[0;36mSlicer.from_slicer\u001b[0;34m(cls, *args, **kwargs)\u001b[0m\n\u001b[1;32m     67\u001b[0m slicer_instance \u001b[38;5;241m=\u001b[39m \u001b[38;5;28mcls\u001b[39m\u001b[38;5;241m.\u001b[39m\u001b[38;5;21m__new__\u001b[39m(\u001b[38;5;28mcls\u001b[39m)\n\u001b[0;32m---> 68\u001b[0m \u001b[38;5;28;43mcls\u001b[39;49m\u001b[38;5;241;43m.\u001b[39;49m\u001b[43m_init_slicer\u001b[49m\u001b[43m(\u001b[49m\u001b[43mslicer_instance\u001b[49m\u001b[43m,\u001b[49m\u001b[43m \u001b[49m\u001b[38;5;241;43m*\u001b[39;49m\u001b[43margs\u001b[49m\u001b[43m,\u001b[49m\u001b[43m \u001b[49m\u001b[38;5;241;43m*\u001b[39;49m\u001b[38;5;241;43m*\u001b[39;49m\u001b[43mkwargs\u001b[49m\u001b[43m)\u001b[49m\n\u001b[1;32m     69\u001b[0m \u001b[38;5;28;01mreturn\u001b[39;00m slicer_instance\n",
      "File \u001b[0;32m/opt/conda/envs/graphnn/lib/python3.9/site-packages/slicer/slicer.py:80\u001b[0m, in \u001b[0;36mSlicer._init_slicer\u001b[0;34m(cls, slicer_instance, *args, **kwargs)\u001b[0m\n\u001b[1;32m     79\u001b[0m slicer_instance\u001b[38;5;241m.\u001b[39m_aliases \u001b[38;5;241m=\u001b[39m {}\n\u001b[0;32m---> 80\u001b[0m slicer_instance\u001b[38;5;241m.\u001b[39m_alias_lookup \u001b[38;5;241m=\u001b[39m \u001b[38;5;28;01mNone\u001b[39;00m\n\u001b[1;32m     82\u001b[0m \u001b[38;5;66;03m# Go through unnamed objects / aliases\u001b[39;00m\n",
      "File \u001b[0;32m/opt/conda/envs/graphnn/lib/python3.9/site-packages/slicer/slicer.py:156\u001b[0m, in \u001b[0;36mSlicer.__setattr__\u001b[0;34m(self, key, value)\u001b[0m\n\u001b[1;32m    155\u001b[0m \u001b[38;5;28;01mif\u001b[39;00m key\u001b[38;5;241m.\u001b[39mstartswith(\u001b[38;5;124m\"\u001b[39m\u001b[38;5;124m_\u001b[39m\u001b[38;5;124m\"\u001b[39m):\n\u001b[0;32m--> 156\u001b[0m     \u001b[38;5;28;01mreturn\u001b[39;00m \u001b[38;5;28;43msuper\u001b[39;49m\u001b[43m(\u001b[49m\u001b[43mSlicer\u001b[49m\u001b[43m,\u001b[49m\u001b[43m \u001b[49m\u001b[38;5;28;43mself\u001b[39;49m\u001b[43m)\u001b[49m\u001b[38;5;241m.\u001b[39m\u001b[38;5;21m__setattr__\u001b[39m(key, value)\n\u001b[1;32m    158\u001b[0m \u001b[38;5;66;03m# Grab previous objects if they exist:\u001b[39;00m\n",
      "\u001b[0;31mKeyboardInterrupt\u001b[0m: ",
      "\nDuring handling of the above exception, another exception occurred:\n",
      "\u001b[0;31mKeyboardInterrupt\u001b[0m                         Traceback (most recent call last)",
      "\u001b[0;31mKeyboardInterrupt\u001b[0m: "
     ]
    }
   ],
   "source": [
    "shap.bar_plot(shap_values, feature_names=all_feat)"
   ]
  },
  {
   "cell_type": "code",
   "execution_count": 64,
   "metadata": {},
   "outputs": [
    {
     "ename": "TypeError",
     "evalue": "bar() got an unexpected keyword argument 'feature_names'",
     "output_type": "error",
     "traceback": [
      "\u001b[0;31m---------------------------------------------------------------------------\u001b[0m",
      "\u001b[0;31mTypeError\u001b[0m                                 Traceback (most recent call last)",
      "Input \u001b[0;32mIn [64]\u001b[0m, in \u001b[0;36m<cell line: 1>\u001b[0;34m()\u001b[0m\n\u001b[0;32m----> 1\u001b[0m \u001b[43mshap\u001b[49m\u001b[38;5;241;43m.\u001b[39;49m\u001b[43mplots\u001b[49m\u001b[38;5;241;43m.\u001b[39;49m\u001b[43mbar\u001b[49m\u001b[43m(\u001b[49m\u001b[43mshap_values\u001b[49m\u001b[43m,\u001b[49m\u001b[43m \u001b[49m\u001b[43mfeature_names\u001b[49m\u001b[38;5;241;43m=\u001b[39;49m\u001b[43mall_feat\u001b[49m\u001b[43m)\u001b[49m\n",
      "\u001b[0;31mTypeError\u001b[0m: bar() got an unexpected keyword argument 'feature_names'"
     ]
    }
   ],
   "source": [
    "shap.plots.bar(shap_values, feature_names=all_feat)\n"
   ]
  },
  {
   "cell_type": "code",
   "execution_count": 21,
   "metadata": {},
   "outputs": [
    {
     "data": {
      "image/png": "[encoded data removed]",
      "text/plain": [
       "<Figure size 576x396 with 2 Axes>"
      ]
     },
     "metadata": {
      "needs_background": "light"
     },
     "output_type": "display_data"
    }
   ],
   "source": [
    "shap.plots.beeswarm(shap_values)\n"
   ]
  },
  {
   "cell_type": "code",
   "execution_count": 37,
   "metadata": {},
   "outputs": [
    {
     "ename": "KeyboardInterrupt",
     "evalue": "",
     "output_type": "error",
     "traceback": [
      "\u001b[0;31m---------------------------------------------------------------------------\u001b[0m",
      "\u001b[0;31mKeyboardInterrupt\u001b[0m                         Traceback (most recent call last)",
      "Input \u001b[0;32mIn [37]\u001b[0m, in \u001b[0;36m<cell line: 1>\u001b[0;34m()\u001b[0m\n\u001b[0;32m----> 1\u001b[0m \u001b[43mshap\u001b[49m\u001b[38;5;241;43m.\u001b[39;49m\u001b[43mplots\u001b[49m\u001b[38;5;241;43m.\u001b[39;49m\u001b[43mheatmap\u001b[49m\u001b[43m(\u001b[49m\u001b[43mshap_values\u001b[49m\u001b[43m)\u001b[49m\n",
      "File \u001b[0;32m/opt/conda/envs/graphnn/lib/python3.9/site-packages/shap/plots/_heatmap.py:64\u001b[0m, in \u001b[0;36mheatmap\u001b[0;34m(shap_values, instance_order, feature_values, feature_order, max_display, cmap, show, plot_width)\u001b[0m\n\u001b[1;32m     62\u001b[0m     \u001b[38;5;28;01mraise\u001b[39;00m \u001b[38;5;167;01mException\u001b[39;00m(\u001b[38;5;124m\"\u001b[39m\u001b[38;5;124mUnsupported feature_order: \u001b[39m\u001b[38;5;132;01m%s\u001b[39;00m\u001b[38;5;124m!\u001b[39m\u001b[38;5;124m\"\u001b[39m \u001b[38;5;241m%\u001b[39m \u001b[38;5;28mstr\u001b[39m(feature_order))\n\u001b[1;32m     63\u001b[0m xlabel \u001b[38;5;241m=\u001b[39m \u001b[38;5;124m\"\u001b[39m\u001b[38;5;124mInstances\u001b[39m\u001b[38;5;124m\"\u001b[39m\n\u001b[0;32m---> 64\u001b[0m instance_order \u001b[38;5;241m=\u001b[39m \u001b[43mconvert_ordering\u001b[49m\u001b[43m(\u001b[49m\u001b[43minstance_order\u001b[49m\u001b[43m,\u001b[49m\u001b[43m \u001b[49m\u001b[43mshap_values\u001b[49m\u001b[43m)\u001b[49m\n\u001b[1;32m     65\u001b[0m \u001b[38;5;66;03m# if issubclass(type(instance_order), OpChain):\u001b[39;00m\n\u001b[1;32m     66\u001b[0m \u001b[38;5;66;03m#     #xlabel += \" \" + instance_order.summary_string(\"SHAP values\")\u001b[39;00m\n\u001b[1;32m     67\u001b[0m \u001b[38;5;66;03m#     instance_order = instance_order.apply(Explanation(values))\u001b[39;00m\n\u001b[0;32m   (...)\u001b[0m\n\u001b[1;32m     70\u001b[0m \u001b[38;5;66;03m# else:\u001b[39;00m\n\u001b[1;32m     71\u001b[0m \u001b[38;5;66;03m#     instance_order_ops = None\u001b[39;00m\n\u001b[1;32m     73\u001b[0m feature_names \u001b[38;5;241m=\u001b[39m np\u001b[38;5;241m.\u001b[39marray(shap_values\u001b[38;5;241m.\u001b[39mfeature_names)[feature_order]\n",
      "File \u001b[0;32m/opt/conda/envs/graphnn/lib/python3.9/site-packages/shap/plots/_utils.py:22\u001b[0m, in \u001b[0;36mconvert_ordering\u001b[0;34m(ordering, shap_values)\u001b[0m\n\u001b[1;32m     20\u001b[0m \u001b[38;5;28;01mdef\u001b[39;00m \u001b[38;5;21mconvert_ordering\u001b[39m(ordering, shap_values):\n\u001b[1;32m     21\u001b[0m     \u001b[38;5;28;01mif\u001b[39;00m \u001b[38;5;28missubclass\u001b[39m(\u001b[38;5;28mtype\u001b[39m(ordering), OpChain):\n\u001b[0;32m---> 22\u001b[0m         ordering \u001b[38;5;241m=\u001b[39m \u001b[43mordering\u001b[49m\u001b[38;5;241;43m.\u001b[39;49m\u001b[43mapply\u001b[49m\u001b[43m(\u001b[49m\u001b[43mExplanation\u001b[49m\u001b[43m(\u001b[49m\u001b[43mshap_values\u001b[49m\u001b[43m)\u001b[49m\u001b[43m)\u001b[49m\n\u001b[1;32m     23\u001b[0m     \u001b[38;5;28;01mif\u001b[39;00m \u001b[38;5;28missubclass\u001b[39m(\u001b[38;5;28mtype\u001b[39m(ordering), Explanation):\n\u001b[1;32m     24\u001b[0m         \u001b[38;5;28;01mif\u001b[39;00m \u001b[38;5;124m\"\u001b[39m\u001b[38;5;124margsort\u001b[39m\u001b[38;5;124m\"\u001b[39m \u001b[38;5;129;01min\u001b[39;00m [op[\u001b[38;5;124m\"\u001b[39m\u001b[38;5;124mname\u001b[39m\u001b[38;5;124m\"\u001b[39m] \u001b[38;5;28;01mfor\u001b[39;00m op \u001b[38;5;129;01min\u001b[39;00m ordering\u001b[38;5;241m.\u001b[39mop_history]:\n",
      "File \u001b[0;32m/opt/conda/envs/graphnn/lib/python3.9/site-packages/shap/utils/_general.py:260\u001b[0m, in \u001b[0;36mOpChain.apply\u001b[0;34m(self, obj)\u001b[0m\n\u001b[1;32m    258\u001b[0m op,args,kwargs \u001b[38;5;241m=\u001b[39m o\n\u001b[1;32m    259\u001b[0m \u001b[38;5;28;01mif\u001b[39;00m args \u001b[38;5;129;01mis\u001b[39;00m \u001b[38;5;129;01mnot\u001b[39;00m \u001b[38;5;28;01mNone\u001b[39;00m:\n\u001b[0;32m--> 260\u001b[0m     obj \u001b[38;5;241m=\u001b[39m \u001b[38;5;28;43mgetattr\u001b[39;49m\u001b[43m(\u001b[49m\u001b[43mobj\u001b[49m\u001b[43m,\u001b[49m\u001b[43m \u001b[49m\u001b[43mop\u001b[49m\u001b[43m)\u001b[49m\u001b[43m(\u001b[49m\u001b[38;5;241;43m*\u001b[39;49m\u001b[43margs\u001b[49m\u001b[43m,\u001b[49m\u001b[43m \u001b[49m\u001b[38;5;241;43m*\u001b[39;49m\u001b[38;5;241;43m*\u001b[39;49m\u001b[43mkwargs\u001b[49m\u001b[43m)\u001b[49m\n\u001b[1;32m    261\u001b[0m \u001b[38;5;28;01melse\u001b[39;00m:\n\u001b[1;32m    262\u001b[0m     obj \u001b[38;5;241m=\u001b[39m \u001b[38;5;28mgetattr\u001b[39m(obj, op)\n",
      "File \u001b[0;32m/opt/conda/envs/graphnn/lib/python3.9/site-packages/shap/_explanation.py:650\u001b[0m, in \u001b[0;36mExplanation.hclust\u001b[0;34m(self, metric, axis)\u001b[0m\n\u001b[1;32m    648\u001b[0m D \u001b[38;5;241m=\u001b[39m sp\u001b[38;5;241m.\u001b[39mspatial\u001b[38;5;241m.\u001b[39mdistance\u001b[38;5;241m.\u001b[39mpdist(values, metric)\n\u001b[1;32m    649\u001b[0m cluster_matrix \u001b[38;5;241m=\u001b[39m sp\u001b[38;5;241m.\u001b[39mcluster\u001b[38;5;241m.\u001b[39mhierarchy\u001b[38;5;241m.\u001b[39mcomplete(D)\n\u001b[0;32m--> 650\u001b[0m inds \u001b[38;5;241m=\u001b[39m sp\u001b[38;5;241m.\u001b[39mcluster\u001b[38;5;241m.\u001b[39mhierarchy\u001b[38;5;241m.\u001b[39mleaves_list(\u001b[43msp\u001b[49m\u001b[38;5;241;43m.\u001b[39;49m\u001b[43mcluster\u001b[49m\u001b[38;5;241;43m.\u001b[39;49m\u001b[43mhierarchy\u001b[49m\u001b[38;5;241;43m.\u001b[39;49m\u001b[43moptimal_leaf_ordering\u001b[49m\u001b[43m(\u001b[49m\u001b[43mcluster_matrix\u001b[49m\u001b[43m,\u001b[49m\u001b[43m \u001b[49m\u001b[43mD\u001b[49m\u001b[43m)\u001b[49m)\n\u001b[1;32m    651\u001b[0m \u001b[38;5;28;01mreturn\u001b[39;00m inds\n",
      "File \u001b[0;32m/opt/conda/envs/graphnn/lib/python3.9/site-packages/scipy/cluster/hierarchy.py:1559\u001b[0m, in \u001b[0;36moptimal_leaf_ordering\u001b[0;34m(Z, y, metric)\u001b[0m\n\u001b[1;32m   1555\u001b[0m \u001b[38;5;28;01mif\u001b[39;00m \u001b[38;5;129;01mnot\u001b[39;00m np\u001b[38;5;241m.\u001b[39mall(np\u001b[38;5;241m.\u001b[39misfinite(y)):\n\u001b[1;32m   1556\u001b[0m     \u001b[38;5;28;01mraise\u001b[39;00m \u001b[38;5;167;01mValueError\u001b[39;00m(\u001b[38;5;124m\"\u001b[39m\u001b[38;5;124mThe condensed distance matrix must contain only \u001b[39m\u001b[38;5;124m\"\u001b[39m\n\u001b[1;32m   1557\u001b[0m                      \u001b[38;5;124m\"\u001b[39m\u001b[38;5;124mfinite values.\u001b[39m\u001b[38;5;124m\"\u001b[39m)\n\u001b[0;32m-> 1559\u001b[0m \u001b[38;5;28;01mreturn\u001b[39;00m \u001b[43m_optimal_leaf_ordering\u001b[49m\u001b[38;5;241;43m.\u001b[39;49m\u001b[43moptimal_leaf_ordering\u001b[49m\u001b[43m(\u001b[49m\u001b[43mZ\u001b[49m\u001b[43m,\u001b[49m\u001b[43m \u001b[49m\u001b[43my\u001b[49m\u001b[43m)\u001b[49m\n",
      "File \u001b[0;32m_optimal_leaf_ordering.pyx:473\u001b[0m, in \u001b[0;36mscipy.cluster._optimal_leaf_ordering.optimal_leaf_ordering\u001b[0;34m()\u001b[0m\n",
      "File \u001b[0;32m/opt/conda/envs/graphnn/lib/python3.9/site-packages/numpy/core/_methods.py:46\u001b[0m, in \u001b[0;36m_sum\u001b[0;34m(a, axis, dtype, out, keepdims, initial, where)\u001b[0m\n\u001b[1;32m     42\u001b[0m \u001b[38;5;28;01mdef\u001b[39;00m \u001b[38;5;21m_amin\u001b[39m(a, axis\u001b[38;5;241m=\u001b[39m\u001b[38;5;28;01mNone\u001b[39;00m, out\u001b[38;5;241m=\u001b[39m\u001b[38;5;28;01mNone\u001b[39;00m, keepdims\u001b[38;5;241m=\u001b[39m\u001b[38;5;28;01mFalse\u001b[39;00m,\n\u001b[1;32m     43\u001b[0m           initial\u001b[38;5;241m=\u001b[39m_NoValue, where\u001b[38;5;241m=\u001b[39m\u001b[38;5;28;01mTrue\u001b[39;00m):\n\u001b[1;32m     44\u001b[0m     \u001b[38;5;28;01mreturn\u001b[39;00m umr_minimum(a, axis, \u001b[38;5;28;01mNone\u001b[39;00m, out, keepdims, initial, where)\n\u001b[0;32m---> 46\u001b[0m \u001b[38;5;28;01mdef\u001b[39;00m \u001b[38;5;21m_sum\u001b[39m(a, axis\u001b[38;5;241m=\u001b[39m\u001b[38;5;28;01mNone\u001b[39;00m, dtype\u001b[38;5;241m=\u001b[39m\u001b[38;5;28;01mNone\u001b[39;00m, out\u001b[38;5;241m=\u001b[39m\u001b[38;5;28;01mNone\u001b[39;00m, keepdims\u001b[38;5;241m=\u001b[39m\u001b[38;5;28;01mFalse\u001b[39;00m,\n\u001b[1;32m     47\u001b[0m          initial\u001b[38;5;241m=\u001b[39m_NoValue, where\u001b[38;5;241m=\u001b[39m\u001b[38;5;28;01mTrue\u001b[39;00m):\n\u001b[1;32m     48\u001b[0m     \u001b[38;5;28;01mreturn\u001b[39;00m umr_sum(a, axis, dtype, out, keepdims, initial, where)\n\u001b[1;32m     50\u001b[0m \u001b[38;5;28;01mdef\u001b[39;00m \u001b[38;5;21m_prod\u001b[39m(a, axis\u001b[38;5;241m=\u001b[39m\u001b[38;5;28;01mNone\u001b[39;00m, dtype\u001b[38;5;241m=\u001b[39m\u001b[38;5;28;01mNone\u001b[39;00m, out\u001b[38;5;241m=\u001b[39m\u001b[38;5;28;01mNone\u001b[39;00m, keepdims\u001b[38;5;241m=\u001b[39m\u001b[38;5;28;01mFalse\u001b[39;00m,\n\u001b[1;32m     51\u001b[0m           initial\u001b[38;5;241m=\u001b[39m_NoValue, where\u001b[38;5;241m=\u001b[39m\u001b[38;5;28;01mTrue\u001b[39;00m):\n",
      "\u001b[0;31mKeyboardInterrupt\u001b[0m: "
     ]
    }
   ],
   "source": [
    "shap.plots.heatmap(shap_values)\n"
   ]
  },
  {
   "cell_type": "code",
   "execution_count": null,
   "metadata": {},
   "outputs": [],
   "source": []
  },
  {
   "cell_type": "code",
   "execution_count": null,
   "metadata": {},
   "outputs": [],
   "source": []
  },
  {
   "cell_type": "code",
   "execution_count": null,
   "metadata": {},
   "outputs": [],
   "source": []
  },
  {
   "cell_type": "code",
   "execution_count": null,
   "metadata": {},
   "outputs": [],
   "source": []
  },
  {
   "cell_type": "markdown",
   "metadata": {},
   "source": [
    "### Scores"
   ]
  },
  {
   "cell_type": "code",
   "execution_count": 33,
   "metadata": {},
   "outputs": [
    {
     "data": {
      "text/plain": [
       "5"
      ]
     },
     "execution_count": 33,
     "metadata": {},
     "output_type": "execute_result"
    }
   ],
   "source": [
    "time_stamp = \"2022-06-29_15-59-39\" #\"2022-06-20_18-27-11\"\n",
    "\n",
    "import glob\n",
    "exp_dirs = glob.glob(targetdata_dir_exp+\"/fold_*_\"+time_stamp)\n",
    "len(exp_dirs)"
   ]
  },
  {
   "cell_type": "code",
   "execution_count": 34,
   "metadata": {},
   "outputs": [],
   "source": [
    "folds = []\n",
    "\n",
    "for edir in exp_dirs:\n",
    "    fold = edir.split(\"/\")[-1].split('_')[1]\n",
    "    with open(os.path.join(edir, \"test.log\")) as f:\n",
    "        lines = f.read().splitlines()\n",
    "        folds.append([fold, float(lines[18]), float(lines[22])])"
   ]
  },
  {
   "cell_type": "code",
   "execution_count": null,
   "metadata": {},
   "outputs": [],
   "source": []
  },
  {
   "cell_type": "code",
   "execution_count": 35,
   "metadata": {},
   "outputs": [
    {
     "data": {
      "text/html": [
       "<div>\n",
       "<style scoped>\n",
       "    .dataframe tbody tr th:only-of-type {\n",
       "        vertical-align: middle;\n",
       "    }\n",
       "\n",
       "    .dataframe tbody tr th {\n",
       "        vertical-align: top;\n",
       "    }\n",
       "\n",
       "    .dataframe thead th {\n",
       "        text-align: right;\n",
       "    }\n",
       "</style>\n",
       "<table border=\"1\" class=\"dataframe\">\n",
       "  <thead>\n",
       "    <tr style=\"text-align: right;\">\n",
       "      <th></th>\n",
       "      <th>AUPR</th>\n",
       "      <th>AUC</th>\n",
       "    </tr>\n",
       "    <tr>\n",
       "      <th>Fold</th>\n",
       "      <th></th>\n",
       "      <th></th>\n",
       "    </tr>\n",
       "  </thead>\n",
       "  <tbody>\n",
       "    <tr>\n",
       "      <th>3</th>\n",
       "      <td>0.840756</td>\n",
       "      <td>0.871496</td>\n",
       "    </tr>\n",
       "    <tr>\n",
       "      <th>0</th>\n",
       "      <td>0.840745</td>\n",
       "      <td>0.874953</td>\n",
       "    </tr>\n",
       "    <tr>\n",
       "      <th>2</th>\n",
       "      <td>0.841387</td>\n",
       "      <td>0.878924</td>\n",
       "    </tr>\n",
       "    <tr>\n",
       "      <th>4</th>\n",
       "      <td>0.853758</td>\n",
       "      <td>0.882281</td>\n",
       "    </tr>\n",
       "    <tr>\n",
       "      <th>1</th>\n",
       "      <td>0.844245</td>\n",
       "      <td>0.876269</td>\n",
       "    </tr>\n",
       "  </tbody>\n",
       "</table>\n",
       "</div>"
      ],
      "text/plain": [
       "          AUPR       AUC\n",
       "Fold                    \n",
       "3     0.840756  0.871496\n",
       "0     0.840745  0.874953\n",
       "2     0.841387  0.878924\n",
       "4     0.853758  0.882281\n",
       "1     0.844245  0.876269"
      ]
     },
     "execution_count": 35,
     "metadata": {},
     "output_type": "execute_result"
    }
   ],
   "source": [
    "df_folds = pd.DataFrame(data=folds, columns=[\"Fold\",\"AUPR\", \"AUC\"]).set_index(\"Fold\")\n",
    "# df_folds[\"Fscore\"] = df_folds.apply(lambda x: (2*x[0]*x[1])/(x[0]+x[1]), axis=1) # harmonic mean of AUC, AUPR\n",
    "df_folds"
   ]
  },
  {
   "cell_type": "code",
   "execution_count": 36,
   "metadata": {},
   "outputs": [
    {
     "data": {
      "text/plain": [
       "array([0.84417827, 0.87678461])"
      ]
     },
     "execution_count": 36,
     "metadata": {},
     "output_type": "execute_result"
    }
   ],
   "source": [
    "df_folds.mean(axis=0).values"
   ]
  },
  {
   "cell_type": "code",
   "execution_count": 37,
   "metadata": {},
   "outputs": [
    {
     "data": {
      "text/plain": [
       "0.8601725480143804"
      ]
     },
     "execution_count": 37,
     "metadata": {},
     "output_type": "execute_result"
    }
   ],
   "source": [
    "F_score(*df_folds.mean(axis=0).values)"
   ]
  },
  {
   "cell_type": "code",
   "execution_count": null,
   "metadata": {},
   "outputs": [],
   "source": []
  }
 ],
 "metadata": {
  "kernelspec": {
   "display_name": "Python 3 (ipykernel)",
   "language": "python",
   "name": "python3"
  },
  "language_info": {
   "codemirror_mode": {
    "name": "ipython",
    "version": 3
   },
   "file_extension": ".py",
   "mimetype": "text/x-python",
   "name": "python",
   "nbconvert_exporter": "python",
   "pygments_lexer": "ipython3",
   "version": "3.9.9"
  }
 },
 "nbformat": 4,
 "nbformat_minor": 4
}
