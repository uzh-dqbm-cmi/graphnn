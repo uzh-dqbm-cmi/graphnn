{
 "cells": [
  {
   "cell_type": "code",
   "execution_count": 1,
   "metadata": {
    "scrolled": false
   },
   "outputs": [],
   "source": [
    "%load_ext autoreload\n",
    "%autoreload 2"
   ]
  },
  {
   "cell_type": "code",
   "execution_count": 2,
   "metadata": {},
   "outputs": [],
   "source": [
    "import os\n",
    "import sys\n",
    "import numpy as np\n",
    "import pandas as pd\n",
    "import datetime\n",
    "import matplotlib\n",
    "import seaborn as sns\n",
    "import datetime\n",
    "import shap"
   ]
  },
  {
   "cell_type": "code",
   "execution_count": 3,
   "metadata": {},
   "outputs": [],
   "source": [
    "pd.set_option('display.max_rows', 10)"
   ]
  },
  {
   "cell_type": "code",
   "execution_count": 4,
   "metadata": {},
   "outputs": [
    {
     "name": "stdout",
     "output_type": "stream",
     "text": [
      "/opt/data/chemprop_run/git/notebooks/AltModels\n",
      "/opt/data/chemprop_run/git\n"
     ]
    }
   ],
   "source": [
    "cwd = os.getcwd()\n",
    "print(cwd)\n",
    "cwd_parent = os.path.abspath(os.path.join(cwd, '../../'))\n",
    "print(cwd_parent)\n",
    "\n",
    "sys.path.append(cwd_parent)"
   ]
  },
  {
   "cell_type": "code",
   "execution_count": 5,
   "metadata": {},
   "outputs": [],
   "source": [
    "import deepadr\n",
    "from deepadr.dataset import *\n",
    "from deepadr.utilities import *\n",
    "from deepadr.run_workflow import *\n",
    "from deepadr.chemfeatures import *\n",
    "from deepadr.hyphelperflat import *"
   ]
  },
  {
   "cell_type": "code",
   "execution_count": 6,
   "metadata": {},
   "outputs": [],
   "source": [
    "rawdata_dir = '../data/raw/'\n",
    "processed_dir = '../data/processed/'\n",
    "up_dir = '..'"
   ]
  },
  {
   "cell_type": "code",
   "execution_count": 7,
   "metadata": {
    "scrolled": true
   },
   "outputs": [
    {
     "name": "stdout",
     "output_type": "stream",
     "text": [
      "number of GPUs available: 1\n",
      "cuda:0, name:NVIDIA GeForce GTX 1080 Ti\n",
      "total memory available: 10.91656494140625 GB\n",
      "total memory allocated on device: 0.0 GB\n",
      "max memory allocated on device: 0.0 GB\n",
      "total memory cached on device: 0.0 GB\n",
      "max memory cached  on device: 0.0 GB\n",
      "\n"
     ]
    }
   ],
   "source": [
    "report_available_cuda_devices()"
   ]
  },
  {
   "cell_type": "code",
   "execution_count": 8,
   "metadata": {},
   "outputs": [
    {
     "data": {
      "text/plain": [
       "1"
      ]
     },
     "execution_count": 8,
     "metadata": {},
     "output_type": "execute_result"
    }
   ],
   "source": [
    "n_gpu = torch.cuda.device_count()\n",
    "n_gpu"
   ]
  },
  {
   "cell_type": "code",
   "execution_count": 9,
   "metadata": {},
   "outputs": [],
   "source": [
    "device_cpu = get_device(to_gpu=False)\n",
    "# device_gpu = get_device(True, index=0)\n",
    "\n",
    "# fdtype = torch.float32"
   ]
  },
  {
   "cell_type": "code",
   "execution_count": 10,
   "metadata": {},
   "outputs": [
    {
     "name": "stdout",
     "output_type": "stream",
     "text": [
      "torch: 1.9.1\n",
      "CUDA: 11.1\n",
      "3.9.9 | packaged by conda-forge | (main, Dec 20 2021, 02:41:03) \n",
      "[GCC 9.4.0]\n"
     ]
    }
   ],
   "source": [
    "print(\"torch:\", torch.__version__)\n",
    "print(\"CUDA:\", torch.version.cuda)\n",
    "print(sys.version)"
   ]
  },
  {
   "cell_type": "markdown",
   "metadata": {},
   "source": [
    "### Preparing dataset "
   ]
  },
  {
   "cell_type": "code",
   "execution_count": 11,
   "metadata": {},
   "outputs": [],
   "source": [
    "score = 'total_thresh'\n",
    "score_val = 4"
   ]
  },
  {
   "cell_type": "code",
   "execution_count": 12,
   "metadata": {},
   "outputs": [],
   "source": [
    "DSdataset_name = f'DrugComb_{score}_{score_val}'\n",
    "\n",
    "# v_1: GNN\n",
    "# v_2: Alt Models (Baseline)\n",
    "data_fname = 'data_v2'"
   ]
  },
  {
   "cell_type": "code",
   "execution_count": 13,
   "metadata": {
    "scrolled": true
   },
   "outputs": [
    {
     "name": "stdout",
     "output_type": "stream",
     "text": [
      "path_current_dir /opt/data/chemprop_run/git/deepadr\n",
      "path_current_dir /opt/data/chemprop_run/git/deepadr\n",
      "path_current_dir /opt/data/chemprop_run/git/deepadr\n",
      "path_current_dir /opt/data/chemprop_run/git/deepadr\n",
      "/opt/data/chemprop_run/git/data/processed/DrugComb_total_thresh_4/data_v2\n"
     ]
    }
   ],
   "source": [
    "targetdata_dir = create_directory(os.path.join(processed_dir, DSdataset_name, data_fname))\n",
    "targetdata_dir_raw = create_directory(os.path.join(targetdata_dir, \"raw\"))\n",
    "targetdata_dir_processed = create_directory(os.path.join(targetdata_dir, \"processed\"))\n",
    "targetdata_dir_exp = create_directory(os.path.join(targetdata_dir, \"experiments\"))\n",
    "print(targetdata_dir)"
   ]
  },
  {
   "cell_type": "code",
   "execution_count": 14,
   "metadata": {},
   "outputs": [],
   "source": [
    "x_np_norm = ReaderWriter.read_data(os.path.join(targetdata_dir_raw, 'x_np_norm.pkl'))\n",
    "y = ReaderWriter.read_data(os.path.join(targetdata_dir_raw, 'y.pkl'))"
   ]
  },
  {
   "cell_type": "code",
   "execution_count": 15,
   "metadata": {},
   "outputs": [
    {
     "name": "stdout",
     "output_type": "stream",
     "text": [
      "fold_num: 0\n",
      "train data\n",
      "class: 0 norm count: 0.5764128559102675\n",
      "class: 1 norm count: 0.4235871440897325\n",
      "validation data\n",
      "class: 0 norm count: 0.5764192139737991\n",
      "class: 1 norm count: 0.42358078602620086\n",
      "test data\n",
      "class: 0 norm count: 0.5764751552795031\n",
      "class: 1 norm count: 0.4235248447204969\n",
      "\n",
      "-------------------------\n",
      "fold_num: 1\n",
      "train data\n",
      "class: 0 norm count: 0.5764128559102675\n",
      "class: 1 norm count: 0.4235871440897325\n",
      "validation data\n",
      "class: 0 norm count: 0.5764192139737991\n",
      "class: 1 norm count: 0.42358078602620086\n",
      "test data\n",
      "class: 0 norm count: 0.5764751552795031\n",
      "class: 1 norm count: 0.4235248447204969\n",
      "\n",
      "-------------------------\n",
      "fold_num: 2\n",
      "train data\n",
      "class: 0 norm count: 0.5764356969533567\n",
      "class: 1 norm count: 0.4235643030466433\n",
      "validation data\n",
      "class: 0 norm count: 0.5764192139737991\n",
      "class: 1 norm count: 0.42358078602620086\n",
      "test data\n",
      "class: 0 norm count: 0.5763929334109882\n",
      "class: 1 norm count: 0.4236070665890118\n",
      "\n",
      "-------------------------\n",
      "fold_num: 3\n",
      "train data\n",
      "class: 0 norm count: 0.5764356969533567\n",
      "class: 1 norm count: 0.4235643030466433\n",
      "validation data\n",
      "class: 0 norm count: 0.5764192139737991\n",
      "class: 1 norm count: 0.42358078602620086\n",
      "test data\n",
      "class: 0 norm count: 0.5763929334109882\n",
      "class: 1 norm count: 0.4236070665890118\n",
      "\n",
      "-------------------------\n",
      "fold_num: 4\n",
      "train data\n",
      "class: 0 norm count: 0.5764356969533567\n",
      "class: 1 norm count: 0.4235643030466433\n",
      "validation data\n",
      "class: 0 norm count: 0.5764192139737991\n",
      "class: 1 norm count: 0.42358078602620086\n",
      "test data\n",
      "class: 0 norm count: 0.5763929334109882\n",
      "class: 1 norm count: 0.4236070665890118\n",
      "\n",
      "-------------------------\n"
     ]
    }
   ],
   "source": [
    "fold_partitions = get_stratified_partitions(y,\n",
    "                                            num_folds=5,\n",
    "                                            valid_set_portion=0.1,\n",
    "                                            random_state=42)"
   ]
  },
  {
   "cell_type": "code",
   "execution_count": null,
   "metadata": {},
   "outputs": [],
   "source": []
  },
  {
   "cell_type": "markdown",
   "metadata": {},
   "source": [
    "### Preprocessing"
   ]
  },
  {
   "cell_type": "code",
   "execution_count": 16,
   "metadata": {},
   "outputs": [
    {
     "data": {
      "text/plain": [
       "926"
      ]
     },
     "execution_count": 16,
     "metadata": {},
     "output_type": "execute_result"
    }
   ],
   "source": [
    "deepsynergy_input_size = x_np_norm.shape[1]\n",
    "deepsynergy_input_size"
   ]
  },
  {
   "cell_type": "code",
   "execution_count": 17,
   "metadata": {},
   "outputs": [],
   "source": [
    "ids = list(range(len(y)))"
   ]
  },
  {
   "cell_type": "markdown",
   "metadata": {},
   "source": [
    "### Get Drug and Cell Line names"
   ]
  },
  {
   "cell_type": "code",
   "execution_count": 18,
   "metadata": {},
   "outputs": [
    {
     "data": {
      "text/html": [
       "<div>\n",
       "<style scoped>\n",
       "    .dataframe tbody tr th:only-of-type {\n",
       "        vertical-align: middle;\n",
       "    }\n",
       "\n",
       "    .dataframe tbody tr th {\n",
       "        vertical-align: top;\n",
       "    }\n",
       "\n",
       "    .dataframe thead th {\n",
       "        text-align: right;\n",
       "    }\n",
       "</style>\n",
       "<table border=\"1\" class=\"dataframe\">\n",
       "  <thead>\n",
       "    <tr style=\"text-align: right;\">\n",
       "      <th></th>\n",
       "      <th>true_class</th>\n",
       "      <th>pred_class</th>\n",
       "      <th>prob_score_class0</th>\n",
       "      <th>prob_score_class1</th>\n",
       "      <th>Drug1_ID</th>\n",
       "      <th>Drug2_ID</th>\n",
       "      <th>Cell_Line_ID</th>\n",
       "      <th>Cosmic_ID</th>\n",
       "      <th>Drug1</th>\n",
       "      <th>Drug2</th>\n",
       "      <th>Y</th>\n",
       "    </tr>\n",
       "  </thead>\n",
       "  <tbody>\n",
       "    <tr>\n",
       "      <th>0</th>\n",
       "      <td>0</td>\n",
       "      <td>0</td>\n",
       "      <td>0.999812</td>\n",
       "      <td>0.000188</td>\n",
       "      <td>dacarbazine</td>\n",
       "      <td>717906-29-1</td>\n",
       "      <td>A-673</td>\n",
       "      <td>684052</td>\n",
       "      <td>CN(C)N=NC1=C(NC=N1)C(=O)N</td>\n",
       "      <td>CN(C1=CC=CC=C1CNC2=NC(=NC=C2C(F)(F)F)NC3=CC4=C...</td>\n",
       "      <td>0</td>\n",
       "    </tr>\n",
       "    <tr>\n",
       "      <th>1</th>\n",
       "      <td>0</td>\n",
       "      <td>0</td>\n",
       "      <td>0.996824</td>\n",
       "      <td>0.003176</td>\n",
       "      <td>Nesbuvir</td>\n",
       "      <td>717906-29-1</td>\n",
       "      <td>A-673</td>\n",
       "      <td>684052</td>\n",
       "      <td>CNC(=O)C1=C(OC2=CC(=C(C=C21)C3CC3)N(CCO)S(=O)(...</td>\n",
       "      <td>CN(C1=CC=CC=C1CNC2=NC(=NC=C2C(F)(F)F)NC3=CC4=C...</td>\n",
       "      <td>0</td>\n",
       "    </tr>\n",
       "    <tr>\n",
       "      <th>2</th>\n",
       "      <td>0</td>\n",
       "      <td>0</td>\n",
       "      <td>0.838370</td>\n",
       "      <td>0.161630</td>\n",
       "      <td>Avagacestat</td>\n",
       "      <td>717906-29-1</td>\n",
       "      <td>A-673</td>\n",
       "      <td>684052</td>\n",
       "      <td>C1=CC(=CC=C1S(=O)(=O)N(CC2=C(C=C(C=C2)C3=NOC=N...</td>\n",
       "      <td>CN(C1=CC=CC=C1CNC2=NC(=NC=C2C(F)(F)F)NC3=CC4=C...</td>\n",
       "      <td>0</td>\n",
       "    </tr>\n",
       "    <tr>\n",
       "      <th>3</th>\n",
       "      <td>1</td>\n",
       "      <td>0</td>\n",
       "      <td>0.999247</td>\n",
       "      <td>0.000753</td>\n",
       "      <td>AS601245</td>\n",
       "      <td>717906-29-1</td>\n",
       "      <td>A-673</td>\n",
       "      <td>684052</td>\n",
       "      <td>C1=CC=C2C(=C1)N=C(S2)C(C#N)C3=NC(=NC=C3)NCCC4=...</td>\n",
       "      <td>CN(C1=CC=CC=C1CNC2=NC(=NC=C2C(F)(F)F)NC3=CC4=C...</td>\n",
       "      <td>1</td>\n",
       "    </tr>\n",
       "    <tr>\n",
       "      <th>4</th>\n",
       "      <td>0</td>\n",
       "      <td>1</td>\n",
       "      <td>0.000050</td>\n",
       "      <td>0.999950</td>\n",
       "      <td>CHEMBL166161</td>\n",
       "      <td>717906-29-1</td>\n",
       "      <td>A-673</td>\n",
       "      <td>684052</td>\n",
       "      <td>COC1(CCN(CC1)CCC2=CNC3=C2C=C(C=C3)F)CS(=O)C4=C...</td>\n",
       "      <td>CN(C1=CC=CC=C1CNC2=NC(=NC=C2C(F)(F)F)NC3=CC4=C...</td>\n",
       "      <td>0</td>\n",
       "    </tr>\n",
       "    <tr>\n",
       "      <th>...</th>\n",
       "      <td>...</td>\n",
       "      <td>...</td>\n",
       "      <td>...</td>\n",
       "      <td>...</td>\n",
       "      <td>...</td>\n",
       "      <td>...</td>\n",
       "      <td>...</td>\n",
       "      <td>...</td>\n",
       "      <td>...</td>\n",
       "      <td>...</td>\n",
       "      <td>...</td>\n",
       "    </tr>\n",
       "    <tr>\n",
       "      <th>25752</th>\n",
       "      <td>0</td>\n",
       "      <td>0</td>\n",
       "      <td>0.991160</td>\n",
       "      <td>0.008840</td>\n",
       "      <td>AZD7762</td>\n",
       "      <td>AZD2014</td>\n",
       "      <td>VM-CUB-1</td>\n",
       "      <td>909780</td>\n",
       "      <td>C1CC(CNC1)NC(=O)C2=C(C=C(S2)C3=CC(=CC=C3)F)NC(...</td>\n",
       "      <td>CC1COCCN1C2=NC(=NC3=C2C=CC(=N3)C4=CC(=CC=C4)C(...</td>\n",
       "      <td>0</td>\n",
       "    </tr>\n",
       "    <tr>\n",
       "      <th>25753</th>\n",
       "      <td>0</td>\n",
       "      <td>0</td>\n",
       "      <td>0.993270</td>\n",
       "      <td>0.006730</td>\n",
       "      <td>AZD-4877</td>\n",
       "      <td>Onalespib</td>\n",
       "      <td>VM-CUB-1</td>\n",
       "      <td>909780</td>\n",
       "      <td>CC1=CC=C(C=C1)C(=O)N(CCCN)C(C2=NC3=C(C(=NS3)C)...</td>\n",
       "      <td>CC(C)C1=C(C=C(C(=C1)C(=O)N2CC3=C(C2)C=C(C=C3)C...</td>\n",
       "      <td>0</td>\n",
       "    </tr>\n",
       "    <tr>\n",
       "      <th>25754</th>\n",
       "      <td>0</td>\n",
       "      <td>1</td>\n",
       "      <td>0.390352</td>\n",
       "      <td>0.609648</td>\n",
       "      <td>Sapitinib</td>\n",
       "      <td>Vorinostat</td>\n",
       "      <td>VM-CUB-1</td>\n",
       "      <td>909780</td>\n",
       "      <td>CNC(=O)CN1CCC(CC1)OC2=C(C=C3C(=C2)C(=NC=N3)NC4...</td>\n",
       "      <td>C1=CC=C(C=C1)NC(=O)CCCCCCC(=O)NO</td>\n",
       "      <td>0</td>\n",
       "    </tr>\n",
       "    <tr>\n",
       "      <th>25755</th>\n",
       "      <td>1</td>\n",
       "      <td>0</td>\n",
       "      <td>0.991512</td>\n",
       "      <td>0.008488</td>\n",
       "      <td>957054-30-7</td>\n",
       "      <td>Sapitinib</td>\n",
       "      <td>VM-CUB-1</td>\n",
       "      <td>909780</td>\n",
       "      <td>CS(=O)(=O)N1CCN(CC1)CC2=CC3=C(S2)C(=NC(=N3)C4=...</td>\n",
       "      <td>CNC(=O)CN1CCC(CC1)OC2=C(C=C3C(=C2)C(=NC=N3)NC4...</td>\n",
       "      <td>1</td>\n",
       "    </tr>\n",
       "    <tr>\n",
       "      <th>25756</th>\n",
       "      <td>1</td>\n",
       "      <td>1</td>\n",
       "      <td>0.022664</td>\n",
       "      <td>0.977336</td>\n",
       "      <td>957054-30-7</td>\n",
       "      <td>Selumetinib</td>\n",
       "      <td>VM-CUB-1</td>\n",
       "      <td>909780</td>\n",
       "      <td>CS(=O)(=O)N1CCN(CC1)CC2=CC3=C(S2)C(=NC(=N3)C4=...</td>\n",
       "      <td>CN1C=NC2=C1C=C(C(=C2F)NC3=C(C=C(C=C3)Br)Cl)C(=...</td>\n",
       "      <td>1</td>\n",
       "    </tr>\n",
       "  </tbody>\n",
       "</table>\n",
       "<p>25757 rows × 11 columns</p>\n",
       "</div>"
      ],
      "text/plain": [
       "       true_class  pred_class  prob_score_class0  prob_score_class1  \\\n",
       "0               0           0           0.999812           0.000188   \n",
       "1               0           0           0.996824           0.003176   \n",
       "2               0           0           0.838370           0.161630   \n",
       "3               1           0           0.999247           0.000753   \n",
       "4               0           1           0.000050           0.999950   \n",
       "...           ...         ...                ...                ...   \n",
       "25752           0           0           0.991160           0.008840   \n",
       "25753           0           0           0.993270           0.006730   \n",
       "25754           0           1           0.390352           0.609648   \n",
       "25755           1           0           0.991512           0.008488   \n",
       "25756           1           1           0.022664           0.977336   \n",
       "\n",
       "           Drug1_ID     Drug2_ID Cell_Line_ID  Cosmic_ID  \\\n",
       "0       dacarbazine  717906-29-1        A-673     684052   \n",
       "1          Nesbuvir  717906-29-1        A-673     684052   \n",
       "2       Avagacestat  717906-29-1        A-673     684052   \n",
       "3          AS601245  717906-29-1        A-673     684052   \n",
       "4      CHEMBL166161  717906-29-1        A-673     684052   \n",
       "...             ...          ...          ...        ...   \n",
       "25752       AZD7762      AZD2014     VM-CUB-1     909780   \n",
       "25753      AZD-4877    Onalespib     VM-CUB-1     909780   \n",
       "25754     Sapitinib   Vorinostat     VM-CUB-1     909780   \n",
       "25755   957054-30-7    Sapitinib     VM-CUB-1     909780   \n",
       "25756   957054-30-7  Selumetinib     VM-CUB-1     909780   \n",
       "\n",
       "                                                   Drug1  \\\n",
       "0                              CN(C)N=NC1=C(NC=N1)C(=O)N   \n",
       "1      CNC(=O)C1=C(OC2=CC(=C(C=C21)C3CC3)N(CCO)S(=O)(...   \n",
       "2      C1=CC(=CC=C1S(=O)(=O)N(CC2=C(C=C(C=C2)C3=NOC=N...   \n",
       "3      C1=CC=C2C(=C1)N=C(S2)C(C#N)C3=NC(=NC=C3)NCCC4=...   \n",
       "4      COC1(CCN(CC1)CCC2=CNC3=C2C=C(C=C3)F)CS(=O)C4=C...   \n",
       "...                                                  ...   \n",
       "25752  C1CC(CNC1)NC(=O)C2=C(C=C(S2)C3=CC(=CC=C3)F)NC(...   \n",
       "25753  CC1=CC=C(C=C1)C(=O)N(CCCN)C(C2=NC3=C(C(=NS3)C)...   \n",
       "25754  CNC(=O)CN1CCC(CC1)OC2=C(C=C3C(=C2)C(=NC=N3)NC4...   \n",
       "25755  CS(=O)(=O)N1CCN(CC1)CC2=CC3=C(S2)C(=NC(=N3)C4=...   \n",
       "25756  CS(=O)(=O)N1CCN(CC1)CC2=CC3=C(S2)C(=NC(=N3)C4=...   \n",
       "\n",
       "                                                   Drug2  Y  \n",
       "0      CN(C1=CC=CC=C1CNC2=NC(=NC=C2C(F)(F)F)NC3=CC4=C...  0  \n",
       "1      CN(C1=CC=CC=C1CNC2=NC(=NC=C2C(F)(F)F)NC3=CC4=C...  0  \n",
       "2      CN(C1=CC=CC=C1CNC2=NC(=NC=C2C(F)(F)F)NC3=CC4=C...  0  \n",
       "3      CN(C1=CC=CC=C1CNC2=NC(=NC=C2C(F)(F)F)NC3=CC4=C...  1  \n",
       "4      CN(C1=CC=CC=C1CNC2=NC(=NC=C2C(F)(F)F)NC3=CC4=C...  0  \n",
       "...                                                  ... ..  \n",
       "25752  CC1COCCN1C2=NC(=NC3=C2C=CC(=N3)C4=CC(=CC=C4)C(...  0  \n",
       "25753  CC(C)C1=C(C=C(C(=C1)C(=O)N2CC3=C(C2)C=C(C=C3)C...  0  \n",
       "25754                   C1=CC=C(C=C1)NC(=O)CCCCCCC(=O)NO  0  \n",
       "25755  CNC(=O)CN1CCC(CC1)OC2=C(C=C3C(=C2)C(=NC=N3)NC4...  1  \n",
       "25756  CN1C=NC2=C1C=C(C(=C2F)NC3=C(C=C(C=C3)Br)Cl)C(=...  1  \n",
       "\n",
       "[25757 rows x 11 columns]"
      ]
     },
     "execution_count": 18,
     "metadata": {},
     "output_type": "execute_result"
    }
   ],
   "source": [
    "df_all = pd.read_pickle(os.path.join(targetdata_dir_processed, 'total_thresh_4_v2_predictions.pkl'))\n",
    "df_all"
   ]
  },
  {
   "cell_type": "code",
   "execution_count": 19,
   "metadata": {
    "scrolled": true
   },
   "outputs": [
    {
     "data": {
      "text/html": [
       "<div>\n",
       "<style scoped>\n",
       "    .dataframe tbody tr th:only-of-type {\n",
       "        vertical-align: middle;\n",
       "    }\n",
       "\n",
       "    .dataframe tbody tr th {\n",
       "        vertical-align: top;\n",
       "    }\n",
       "\n",
       "    .dataframe thead th {\n",
       "        text-align: right;\n",
       "    }\n",
       "</style>\n",
       "<table border=\"1\" class=\"dataframe\">\n",
       "  <thead>\n",
       "    <tr style=\"text-align: right;\">\n",
       "      <th></th>\n",
       "      <th>true_class</th>\n",
       "      <th>pred_class</th>\n",
       "      <th>prob_score_class0</th>\n",
       "      <th>prob_score_class1</th>\n",
       "      <th>Drug1_ID</th>\n",
       "      <th>Drug2_ID</th>\n",
       "      <th>Cell_Line_ID</th>\n",
       "      <th>Cosmic_ID</th>\n",
       "      <th>Drug1</th>\n",
       "      <th>Drug2</th>\n",
       "      <th>Y</th>\n",
       "    </tr>\n",
       "  </thead>\n",
       "  <tbody>\n",
       "    <tr>\n",
       "      <th>0</th>\n",
       "      <td>0</td>\n",
       "      <td>0</td>\n",
       "      <td>0.999812</td>\n",
       "      <td>0.000188</td>\n",
       "      <td>dacarbazine</td>\n",
       "      <td>717906-29-1</td>\n",
       "      <td>A-673</td>\n",
       "      <td>684052</td>\n",
       "      <td>CN(C)N=NC1=C(NC=N1)C(=O)N</td>\n",
       "      <td>CN(C1=CC=CC=C1CNC2=NC(=NC=C2C(F)(F)F)NC3=CC4=C...</td>\n",
       "      <td>0</td>\n",
       "    </tr>\n",
       "    <tr>\n",
       "      <th>1</th>\n",
       "      <td>0</td>\n",
       "      <td>0</td>\n",
       "      <td>0.996824</td>\n",
       "      <td>0.003176</td>\n",
       "      <td>Nesbuvir</td>\n",
       "      <td>717906-29-1</td>\n",
       "      <td>A-673</td>\n",
       "      <td>684052</td>\n",
       "      <td>CNC(=O)C1=C(OC2=CC(=C(C=C21)C3CC3)N(CCO)S(=O)(...</td>\n",
       "      <td>CN(C1=CC=CC=C1CNC2=NC(=NC=C2C(F)(F)F)NC3=CC4=C...</td>\n",
       "      <td>0</td>\n",
       "    </tr>\n",
       "    <tr>\n",
       "      <th>2</th>\n",
       "      <td>0</td>\n",
       "      <td>0</td>\n",
       "      <td>0.838370</td>\n",
       "      <td>0.161630</td>\n",
       "      <td>Avagacestat</td>\n",
       "      <td>717906-29-1</td>\n",
       "      <td>A-673</td>\n",
       "      <td>684052</td>\n",
       "      <td>C1=CC(=CC=C1S(=O)(=O)N(CC2=C(C=C(C=C2)C3=NOC=N...</td>\n",
       "      <td>CN(C1=CC=CC=C1CNC2=NC(=NC=C2C(F)(F)F)NC3=CC4=C...</td>\n",
       "      <td>0</td>\n",
       "    </tr>\n",
       "    <tr>\n",
       "      <th>6</th>\n",
       "      <td>1</td>\n",
       "      <td>1</td>\n",
       "      <td>0.010439</td>\n",
       "      <td>0.989561</td>\n",
       "      <td>AT7519</td>\n",
       "      <td>PF-3758309</td>\n",
       "      <td>TC-71</td>\n",
       "      <td>1240221</td>\n",
       "      <td>C1CNCCC1NC(=O)C2=C(C=NN2)NC(=O)C3=C(C=CC=C3Cl)Cl</td>\n",
       "      <td>CC1=NC2=C(C(=N1)NC3=NNC4=C3CN(C4(C)C)C(=O)NC(C...</td>\n",
       "      <td>1</td>\n",
       "    </tr>\n",
       "    <tr>\n",
       "      <th>7</th>\n",
       "      <td>1</td>\n",
       "      <td>1</td>\n",
       "      <td>0.000052</td>\n",
       "      <td>0.999948</td>\n",
       "      <td>ZINC34894448</td>\n",
       "      <td>PF-3758309</td>\n",
       "      <td>TC-71</td>\n",
       "      <td>1240221</td>\n",
       "      <td>CCC1=C2N=C(C=C(N2N=C1)NCC3=C[N+](=CC=C3)[O-])N...</td>\n",
       "      <td>CC1=NC2=C(C(=N1)NC3=NNC4=C3CN(C4(C)C)C(=O)NC(C...</td>\n",
       "      <td>1</td>\n",
       "    </tr>\n",
       "    <tr>\n",
       "      <th>...</th>\n",
       "      <td>...</td>\n",
       "      <td>...</td>\n",
       "      <td>...</td>\n",
       "      <td>...</td>\n",
       "      <td>...</td>\n",
       "      <td>...</td>\n",
       "      <td>...</td>\n",
       "      <td>...</td>\n",
       "      <td>...</td>\n",
       "      <td>...</td>\n",
       "      <td>...</td>\n",
       "    </tr>\n",
       "    <tr>\n",
       "      <th>25750</th>\n",
       "      <td>0</td>\n",
       "      <td>0</td>\n",
       "      <td>0.976813</td>\n",
       "      <td>0.023187</td>\n",
       "      <td>AZD7762</td>\n",
       "      <td>AZD6738</td>\n",
       "      <td>VM-CUB-1</td>\n",
       "      <td>909780</td>\n",
       "      <td>C1CC(CNC1)NC(=O)C2=C(C=C(S2)C3=CC(=CC=C3)F)NC(...</td>\n",
       "      <td>CC1COCCN1C2=NC(=NC(=C2)C3(CC3)S(=N)(=O)C)C4=C5...</td>\n",
       "      <td>0</td>\n",
       "    </tr>\n",
       "    <tr>\n",
       "      <th>25751</th>\n",
       "      <td>0</td>\n",
       "      <td>0</td>\n",
       "      <td>0.989993</td>\n",
       "      <td>0.010007</td>\n",
       "      <td>AZD7762</td>\n",
       "      <td>AZD4547</td>\n",
       "      <td>VM-CUB-1</td>\n",
       "      <td>909780</td>\n",
       "      <td>C1CC(CNC1)NC(=O)C2=C(C=C(S2)C3=CC(=CC=C3)F)NC(...</td>\n",
       "      <td>CC1CN(CC(N1)C)C2=CC=C(C=C2)C(=O)NC3=NNC(=C3)CC...</td>\n",
       "      <td>0</td>\n",
       "    </tr>\n",
       "    <tr>\n",
       "      <th>25752</th>\n",
       "      <td>0</td>\n",
       "      <td>0</td>\n",
       "      <td>0.991160</td>\n",
       "      <td>0.008840</td>\n",
       "      <td>AZD7762</td>\n",
       "      <td>AZD2014</td>\n",
       "      <td>VM-CUB-1</td>\n",
       "      <td>909780</td>\n",
       "      <td>C1CC(CNC1)NC(=O)C2=C(C=C(S2)C3=CC(=CC=C3)F)NC(...</td>\n",
       "      <td>CC1COCCN1C2=NC(=NC3=C2C=CC(=N3)C4=CC(=CC=C4)C(...</td>\n",
       "      <td>0</td>\n",
       "    </tr>\n",
       "    <tr>\n",
       "      <th>25753</th>\n",
       "      <td>0</td>\n",
       "      <td>0</td>\n",
       "      <td>0.993270</td>\n",
       "      <td>0.006730</td>\n",
       "      <td>AZD-4877</td>\n",
       "      <td>Onalespib</td>\n",
       "      <td>VM-CUB-1</td>\n",
       "      <td>909780</td>\n",
       "      <td>CC1=CC=C(C=C1)C(=O)N(CCCN)C(C2=NC3=C(C(=NS3)C)...</td>\n",
       "      <td>CC(C)C1=C(C=C(C(=C1)C(=O)N2CC3=C(C2)C=C(C=C3)C...</td>\n",
       "      <td>0</td>\n",
       "    </tr>\n",
       "    <tr>\n",
       "      <th>25756</th>\n",
       "      <td>1</td>\n",
       "      <td>1</td>\n",
       "      <td>0.022664</td>\n",
       "      <td>0.977336</td>\n",
       "      <td>957054-30-7</td>\n",
       "      <td>Selumetinib</td>\n",
       "      <td>VM-CUB-1</td>\n",
       "      <td>909780</td>\n",
       "      <td>CS(=O)(=O)N1CCN(CC1)CC2=CC3=C(S2)C(=NC(=N3)C4=...</td>\n",
       "      <td>CN1C=NC2=C1C=C(C(=C2F)NC3=C(C=C(C=C3)Br)Cl)C(=...</td>\n",
       "      <td>1</td>\n",
       "    </tr>\n",
       "  </tbody>\n",
       "</table>\n",
       "<p>21018 rows × 11 columns</p>\n",
       "</div>"
      ],
      "text/plain": [
       "       true_class  pred_class  prob_score_class0  prob_score_class1  \\\n",
       "0               0           0           0.999812           0.000188   \n",
       "1               0           0           0.996824           0.003176   \n",
       "2               0           0           0.838370           0.161630   \n",
       "6               1           1           0.010439           0.989561   \n",
       "7               1           1           0.000052           0.999948   \n",
       "...           ...         ...                ...                ...   \n",
       "25750           0           0           0.976813           0.023187   \n",
       "25751           0           0           0.989993           0.010007   \n",
       "25752           0           0           0.991160           0.008840   \n",
       "25753           0           0           0.993270           0.006730   \n",
       "25756           1           1           0.022664           0.977336   \n",
       "\n",
       "           Drug1_ID     Drug2_ID Cell_Line_ID  Cosmic_ID  \\\n",
       "0       dacarbazine  717906-29-1        A-673     684052   \n",
       "1          Nesbuvir  717906-29-1        A-673     684052   \n",
       "2       Avagacestat  717906-29-1        A-673     684052   \n",
       "6            AT7519   PF-3758309        TC-71    1240221   \n",
       "7      ZINC34894448   PF-3758309        TC-71    1240221   \n",
       "...             ...          ...          ...        ...   \n",
       "25750       AZD7762      AZD6738     VM-CUB-1     909780   \n",
       "25751       AZD7762      AZD4547     VM-CUB-1     909780   \n",
       "25752       AZD7762      AZD2014     VM-CUB-1     909780   \n",
       "25753      AZD-4877    Onalespib     VM-CUB-1     909780   \n",
       "25756   957054-30-7  Selumetinib     VM-CUB-1     909780   \n",
       "\n",
       "                                                   Drug1  \\\n",
       "0                              CN(C)N=NC1=C(NC=N1)C(=O)N   \n",
       "1      CNC(=O)C1=C(OC2=CC(=C(C=C21)C3CC3)N(CCO)S(=O)(...   \n",
       "2      C1=CC(=CC=C1S(=O)(=O)N(CC2=C(C=C(C=C2)C3=NOC=N...   \n",
       "6       C1CNCCC1NC(=O)C2=C(C=NN2)NC(=O)C3=C(C=CC=C3Cl)Cl   \n",
       "7      CCC1=C2N=C(C=C(N2N=C1)NCC3=C[N+](=CC=C3)[O-])N...   \n",
       "...                                                  ...   \n",
       "25750  C1CC(CNC1)NC(=O)C2=C(C=C(S2)C3=CC(=CC=C3)F)NC(...   \n",
       "25751  C1CC(CNC1)NC(=O)C2=C(C=C(S2)C3=CC(=CC=C3)F)NC(...   \n",
       "25752  C1CC(CNC1)NC(=O)C2=C(C=C(S2)C3=CC(=CC=C3)F)NC(...   \n",
       "25753  CC1=CC=C(C=C1)C(=O)N(CCCN)C(C2=NC3=C(C(=NS3)C)...   \n",
       "25756  CS(=O)(=O)N1CCN(CC1)CC2=CC3=C(S2)C(=NC(=N3)C4=...   \n",
       "\n",
       "                                                   Drug2  Y  \n",
       "0      CN(C1=CC=CC=C1CNC2=NC(=NC=C2C(F)(F)F)NC3=CC4=C...  0  \n",
       "1      CN(C1=CC=CC=C1CNC2=NC(=NC=C2C(F)(F)F)NC3=CC4=C...  0  \n",
       "2      CN(C1=CC=CC=C1CNC2=NC(=NC=C2C(F)(F)F)NC3=CC4=C...  0  \n",
       "6      CC1=NC2=C(C(=N1)NC3=NNC4=C3CN(C4(C)C)C(=O)NC(C...  1  \n",
       "7      CC1=NC2=C(C(=N1)NC3=NNC4=C3CN(C4(C)C)C(=O)NC(C...  1  \n",
       "...                                                  ... ..  \n",
       "25750  CC1COCCN1C2=NC(=NC(=C2)C3(CC3)S(=N)(=O)C)C4=C5...  0  \n",
       "25751  CC1CN(CC(N1)C)C2=CC=C(C=C2)C(=O)NC3=NNC(=C3)CC...  0  \n",
       "25752  CC1COCCN1C2=NC(=NC3=C2C=CC(=N3)C4=CC(=CC=C4)C(...  0  \n",
       "25753  CC(C)C1=C(C=C(C(=C1)C(=O)N2CC3=C(C2)C=C(C=C3)C...  0  \n",
       "25756  CN1C=NC2=C1C=C(C(=C2F)NC3=C(C=C(C=C3)Br)Cl)C(=...  1  \n",
       "\n",
       "[21018 rows x 11 columns]"
      ]
     },
     "execution_count": 19,
     "metadata": {},
     "output_type": "execute_result"
    }
   ],
   "source": [
    "df_pred_TP = df_all[((df_all.true_class == 0) & (df_all.pred_class == 0)) |\n",
    "                     ((df_all.true_class == 1) & (df_all.pred_class == 1))]\n",
    "df_pred_TP"
   ]
  },
  {
   "cell_type": "code",
   "execution_count": 20,
   "metadata": {
    "scrolled": true
   },
   "outputs": [
    {
     "data": {
      "text/html": [
       "<div>\n",
       "<style scoped>\n",
       "    .dataframe tbody tr th:only-of-type {\n",
       "        vertical-align: middle;\n",
       "    }\n",
       "\n",
       "    .dataframe tbody tr th {\n",
       "        vertical-align: top;\n",
       "    }\n",
       "\n",
       "    .dataframe thead th {\n",
       "        text-align: right;\n",
       "    }\n",
       "</style>\n",
       "<table border=\"1\" class=\"dataframe\">\n",
       "  <thead>\n",
       "    <tr style=\"text-align: right;\">\n",
       "      <th></th>\n",
       "      <th>index</th>\n",
       "      <th>true_class</th>\n",
       "      <th>pred_class</th>\n",
       "      <th>prob_score_class0</th>\n",
       "      <th>prob_score_class1</th>\n",
       "      <th>Drug1_ID</th>\n",
       "      <th>Drug2_ID</th>\n",
       "      <th>Cell_Line_ID</th>\n",
       "      <th>Cosmic_ID</th>\n",
       "      <th>Drug1</th>\n",
       "      <th>Drug2</th>\n",
       "      <th>Y</th>\n",
       "    </tr>\n",
       "  </thead>\n",
       "  <tbody>\n",
       "    <tr>\n",
       "      <th>0</th>\n",
       "      <td>0</td>\n",
       "      <td>0</td>\n",
       "      <td>0</td>\n",
       "      <td>0.999812</td>\n",
       "      <td>0.000188</td>\n",
       "      <td>dacarbazine</td>\n",
       "      <td>717906-29-1</td>\n",
       "      <td>A-673</td>\n",
       "      <td>684052</td>\n",
       "      <td>CN(C)N=NC1=C(NC=N1)C(=O)N</td>\n",
       "      <td>CN(C1=CC=CC=C1CNC2=NC(=NC=C2C(F)(F)F)NC3=CC4=C...</td>\n",
       "      <td>0</td>\n",
       "    </tr>\n",
       "    <tr>\n",
       "      <th>1</th>\n",
       "      <td>1</td>\n",
       "      <td>0</td>\n",
       "      <td>0</td>\n",
       "      <td>0.996824</td>\n",
       "      <td>0.003176</td>\n",
       "      <td>Nesbuvir</td>\n",
       "      <td>717906-29-1</td>\n",
       "      <td>A-673</td>\n",
       "      <td>684052</td>\n",
       "      <td>CNC(=O)C1=C(OC2=CC(=C(C=C21)C3CC3)N(CCO)S(=O)(...</td>\n",
       "      <td>CN(C1=CC=CC=C1CNC2=NC(=NC=C2C(F)(F)F)NC3=CC4=C...</td>\n",
       "      <td>0</td>\n",
       "    </tr>\n",
       "    <tr>\n",
       "      <th>2</th>\n",
       "      <td>2</td>\n",
       "      <td>0</td>\n",
       "      <td>0</td>\n",
       "      <td>0.838370</td>\n",
       "      <td>0.161630</td>\n",
       "      <td>Avagacestat</td>\n",
       "      <td>717906-29-1</td>\n",
       "      <td>A-673</td>\n",
       "      <td>684052</td>\n",
       "      <td>C1=CC(=CC=C1S(=O)(=O)N(CC2=C(C=C(C=C2)C3=NOC=N...</td>\n",
       "      <td>CN(C1=CC=CC=C1CNC2=NC(=NC=C2C(F)(F)F)NC3=CC4=C...</td>\n",
       "      <td>0</td>\n",
       "    </tr>\n",
       "    <tr>\n",
       "      <th>3</th>\n",
       "      <td>6</td>\n",
       "      <td>1</td>\n",
       "      <td>1</td>\n",
       "      <td>0.010439</td>\n",
       "      <td>0.989561</td>\n",
       "      <td>AT7519</td>\n",
       "      <td>PF-3758309</td>\n",
       "      <td>TC-71</td>\n",
       "      <td>1240221</td>\n",
       "      <td>C1CNCCC1NC(=O)C2=C(C=NN2)NC(=O)C3=C(C=CC=C3Cl)Cl</td>\n",
       "      <td>CC1=NC2=C(C(=N1)NC3=NNC4=C3CN(C4(C)C)C(=O)NC(C...</td>\n",
       "      <td>1</td>\n",
       "    </tr>\n",
       "    <tr>\n",
       "      <th>4</th>\n",
       "      <td>7</td>\n",
       "      <td>1</td>\n",
       "      <td>1</td>\n",
       "      <td>0.000052</td>\n",
       "      <td>0.999948</td>\n",
       "      <td>ZINC34894448</td>\n",
       "      <td>PF-3758309</td>\n",
       "      <td>TC-71</td>\n",
       "      <td>1240221</td>\n",
       "      <td>CCC1=C2N=C(C=C(N2N=C1)NCC3=C[N+](=CC=C3)[O-])N...</td>\n",
       "      <td>CC1=NC2=C(C(=N1)NC3=NNC4=C3CN(C4(C)C)C(=O)NC(C...</td>\n",
       "      <td>1</td>\n",
       "    </tr>\n",
       "    <tr>\n",
       "      <th>...</th>\n",
       "      <td>...</td>\n",
       "      <td>...</td>\n",
       "      <td>...</td>\n",
       "      <td>...</td>\n",
       "      <td>...</td>\n",
       "      <td>...</td>\n",
       "      <td>...</td>\n",
       "      <td>...</td>\n",
       "      <td>...</td>\n",
       "      <td>...</td>\n",
       "      <td>...</td>\n",
       "      <td>...</td>\n",
       "    </tr>\n",
       "    <tr>\n",
       "      <th>21013</th>\n",
       "      <td>25750</td>\n",
       "      <td>0</td>\n",
       "      <td>0</td>\n",
       "      <td>0.976813</td>\n",
       "      <td>0.023187</td>\n",
       "      <td>AZD7762</td>\n",
       "      <td>AZD6738</td>\n",
       "      <td>VM-CUB-1</td>\n",
       "      <td>909780</td>\n",
       "      <td>C1CC(CNC1)NC(=O)C2=C(C=C(S2)C3=CC(=CC=C3)F)NC(...</td>\n",
       "      <td>CC1COCCN1C2=NC(=NC(=C2)C3(CC3)S(=N)(=O)C)C4=C5...</td>\n",
       "      <td>0</td>\n",
       "    </tr>\n",
       "    <tr>\n",
       "      <th>21014</th>\n",
       "      <td>25751</td>\n",
       "      <td>0</td>\n",
       "      <td>0</td>\n",
       "      <td>0.989993</td>\n",
       "      <td>0.010007</td>\n",
       "      <td>AZD7762</td>\n",
       "      <td>AZD4547</td>\n",
       "      <td>VM-CUB-1</td>\n",
       "      <td>909780</td>\n",
       "      <td>C1CC(CNC1)NC(=O)C2=C(C=C(S2)C3=CC(=CC=C3)F)NC(...</td>\n",
       "      <td>CC1CN(CC(N1)C)C2=CC=C(C=C2)C(=O)NC3=NNC(=C3)CC...</td>\n",
       "      <td>0</td>\n",
       "    </tr>\n",
       "    <tr>\n",
       "      <th>21015</th>\n",
       "      <td>25752</td>\n",
       "      <td>0</td>\n",
       "      <td>0</td>\n",
       "      <td>0.991160</td>\n",
       "      <td>0.008840</td>\n",
       "      <td>AZD7762</td>\n",
       "      <td>AZD2014</td>\n",
       "      <td>VM-CUB-1</td>\n",
       "      <td>909780</td>\n",
       "      <td>C1CC(CNC1)NC(=O)C2=C(C=C(S2)C3=CC(=CC=C3)F)NC(...</td>\n",
       "      <td>CC1COCCN1C2=NC(=NC3=C2C=CC(=N3)C4=CC(=CC=C4)C(...</td>\n",
       "      <td>0</td>\n",
       "    </tr>\n",
       "    <tr>\n",
       "      <th>21016</th>\n",
       "      <td>25753</td>\n",
       "      <td>0</td>\n",
       "      <td>0</td>\n",
       "      <td>0.993270</td>\n",
       "      <td>0.006730</td>\n",
       "      <td>AZD-4877</td>\n",
       "      <td>Onalespib</td>\n",
       "      <td>VM-CUB-1</td>\n",
       "      <td>909780</td>\n",
       "      <td>CC1=CC=C(C=C1)C(=O)N(CCCN)C(C2=NC3=C(C(=NS3)C)...</td>\n",
       "      <td>CC(C)C1=C(C=C(C(=C1)C(=O)N2CC3=C(C2)C=C(C=C3)C...</td>\n",
       "      <td>0</td>\n",
       "    </tr>\n",
       "    <tr>\n",
       "      <th>21017</th>\n",
       "      <td>25756</td>\n",
       "      <td>1</td>\n",
       "      <td>1</td>\n",
       "      <td>0.022664</td>\n",
       "      <td>0.977336</td>\n",
       "      <td>957054-30-7</td>\n",
       "      <td>Selumetinib</td>\n",
       "      <td>VM-CUB-1</td>\n",
       "      <td>909780</td>\n",
       "      <td>CS(=O)(=O)N1CCN(CC1)CC2=CC3=C(S2)C(=NC(=N3)C4=...</td>\n",
       "      <td>CN1C=NC2=C1C=C(C(=C2F)NC3=C(C=C(C=C3)Br)Cl)C(=...</td>\n",
       "      <td>1</td>\n",
       "    </tr>\n",
       "  </tbody>\n",
       "</table>\n",
       "<p>21018 rows × 12 columns</p>\n",
       "</div>"
      ],
      "text/plain": [
       "       index  true_class  pred_class  prob_score_class0  prob_score_class1  \\\n",
       "0          0           0           0           0.999812           0.000188   \n",
       "1          1           0           0           0.996824           0.003176   \n",
       "2          2           0           0           0.838370           0.161630   \n",
       "3          6           1           1           0.010439           0.989561   \n",
       "4          7           1           1           0.000052           0.999948   \n",
       "...      ...         ...         ...                ...                ...   \n",
       "21013  25750           0           0           0.976813           0.023187   \n",
       "21014  25751           0           0           0.989993           0.010007   \n",
       "21015  25752           0           0           0.991160           0.008840   \n",
       "21016  25753           0           0           0.993270           0.006730   \n",
       "21017  25756           1           1           0.022664           0.977336   \n",
       "\n",
       "           Drug1_ID     Drug2_ID Cell_Line_ID  Cosmic_ID  \\\n",
       "0       dacarbazine  717906-29-1        A-673     684052   \n",
       "1          Nesbuvir  717906-29-1        A-673     684052   \n",
       "2       Avagacestat  717906-29-1        A-673     684052   \n",
       "3            AT7519   PF-3758309        TC-71    1240221   \n",
       "4      ZINC34894448   PF-3758309        TC-71    1240221   \n",
       "...             ...          ...          ...        ...   \n",
       "21013       AZD7762      AZD6738     VM-CUB-1     909780   \n",
       "21014       AZD7762      AZD4547     VM-CUB-1     909780   \n",
       "21015       AZD7762      AZD2014     VM-CUB-1     909780   \n",
       "21016      AZD-4877    Onalespib     VM-CUB-1     909780   \n",
       "21017   957054-30-7  Selumetinib     VM-CUB-1     909780   \n",
       "\n",
       "                                                   Drug1  \\\n",
       "0                              CN(C)N=NC1=C(NC=N1)C(=O)N   \n",
       "1      CNC(=O)C1=C(OC2=CC(=C(C=C21)C3CC3)N(CCO)S(=O)(...   \n",
       "2      C1=CC(=CC=C1S(=O)(=O)N(CC2=C(C=C(C=C2)C3=NOC=N...   \n",
       "3       C1CNCCC1NC(=O)C2=C(C=NN2)NC(=O)C3=C(C=CC=C3Cl)Cl   \n",
       "4      CCC1=C2N=C(C=C(N2N=C1)NCC3=C[N+](=CC=C3)[O-])N...   \n",
       "...                                                  ...   \n",
       "21013  C1CC(CNC1)NC(=O)C2=C(C=C(S2)C3=CC(=CC=C3)F)NC(...   \n",
       "21014  C1CC(CNC1)NC(=O)C2=C(C=C(S2)C3=CC(=CC=C3)F)NC(...   \n",
       "21015  C1CC(CNC1)NC(=O)C2=C(C=C(S2)C3=CC(=CC=C3)F)NC(...   \n",
       "21016  CC1=CC=C(C=C1)C(=O)N(CCCN)C(C2=NC3=C(C(=NS3)C)...   \n",
       "21017  CS(=O)(=O)N1CCN(CC1)CC2=CC3=C(S2)C(=NC(=N3)C4=...   \n",
       "\n",
       "                                                   Drug2  Y  \n",
       "0      CN(C1=CC=CC=C1CNC2=NC(=NC=C2C(F)(F)F)NC3=CC4=C...  0  \n",
       "1      CN(C1=CC=CC=C1CNC2=NC(=NC=C2C(F)(F)F)NC3=CC4=C...  0  \n",
       "2      CN(C1=CC=CC=C1CNC2=NC(=NC=C2C(F)(F)F)NC3=CC4=C...  0  \n",
       "3      CC1=NC2=C(C(=N1)NC3=NNC4=C3CN(C4(C)C)C(=O)NC(C...  1  \n",
       "4      CC1=NC2=C(C(=N1)NC3=NNC4=C3CN(C4(C)C)C(=O)NC(C...  1  \n",
       "...                                                  ... ..  \n",
       "21013  CC1COCCN1C2=NC(=NC(=C2)C3(CC3)S(=N)(=O)C)C4=C5...  0  \n",
       "21014  CC1CN(CC(N1)C)C2=CC=C(C=C2)C(=O)NC3=NNC(=C3)CC...  0  \n",
       "21015  CC1COCCN1C2=NC(=NC3=C2C=CC(=N3)C4=CC(=CC=C4)C(...  0  \n",
       "21016  CC(C)C1=C(C=C(C(=C1)C(=O)N2CC3=C(C2)C=C(C=C3)C...  0  \n",
       "21017  CN1C=NC2=C1C=C(C(=C2F)NC3=C(C=C(C=C3)Br)Cl)C(=...  1  \n",
       "\n",
       "[21018 rows x 12 columns]"
      ]
     },
     "execution_count": 20,
     "metadata": {},
     "output_type": "execute_result"
    }
   ],
   "source": [
    "df_pred_TP_RI = df_pred_TP.reset_index()\n",
    "df_pred_TP_RI"
   ]
  },
  {
   "cell_type": "code",
   "execution_count": 21,
   "metadata": {},
   "outputs": [],
   "source": [
    "fold_partitions_TP_test = {}\n",
    "\n",
    "for fold, part in fold_partitions.items():\n",
    "    fold_partitions_TP_test[fold] = df_pred_TP_RI['index'][df_pred_TP_RI['index'].isin(fold_partitions[fold]['test'])].index.values"
   ]
  },
  {
   "cell_type": "code",
   "execution_count": 22,
   "metadata": {},
   "outputs": [
    {
     "data": {
      "text/html": [
       "<div>\n",
       "<style scoped>\n",
       "    .dataframe tbody tr th:only-of-type {\n",
       "        vertical-align: middle;\n",
       "    }\n",
       "\n",
       "    .dataframe tbody tr th {\n",
       "        vertical-align: top;\n",
       "    }\n",
       "\n",
       "    .dataframe thead th {\n",
       "        text-align: right;\n",
       "    }\n",
       "</style>\n",
       "<table border=\"1\" class=\"dataframe\">\n",
       "  <thead>\n",
       "    <tr style=\"text-align: right;\">\n",
       "      <th></th>\n",
       "      <th>true_class</th>\n",
       "      <th>pred_class</th>\n",
       "      <th>prob_score_class0</th>\n",
       "      <th>prob_score_class1</th>\n",
       "      <th>Drug1_ID</th>\n",
       "      <th>Drug2_ID</th>\n",
       "      <th>Cell_Line_ID</th>\n",
       "      <th>Cosmic_ID</th>\n",
       "      <th>Drug1</th>\n",
       "      <th>Drug2</th>\n",
       "      <th>Y</th>\n",
       "    </tr>\n",
       "  </thead>\n",
       "  <tbody>\n",
       "    <tr>\n",
       "      <th>0</th>\n",
       "      <td>0</td>\n",
       "      <td>0</td>\n",
       "      <td>0.999812</td>\n",
       "      <td>0.000188</td>\n",
       "      <td>dacarbazine</td>\n",
       "      <td>717906-29-1</td>\n",
       "      <td>A-673</td>\n",
       "      <td>684052</td>\n",
       "      <td>CN(C)N=NC1=C(NC=N1)C(=O)N</td>\n",
       "      <td>CN(C1=CC=CC=C1CNC2=NC(=NC=C2C(F)(F)F)NC3=CC4=C...</td>\n",
       "      <td>0</td>\n",
       "    </tr>\n",
       "    <tr>\n",
       "      <th>1</th>\n",
       "      <td>0</td>\n",
       "      <td>0</td>\n",
       "      <td>0.996824</td>\n",
       "      <td>0.003176</td>\n",
       "      <td>Nesbuvir</td>\n",
       "      <td>717906-29-1</td>\n",
       "      <td>A-673</td>\n",
       "      <td>684052</td>\n",
       "      <td>CNC(=O)C1=C(OC2=CC(=C(C=C21)C3CC3)N(CCO)S(=O)(...</td>\n",
       "      <td>CN(C1=CC=CC=C1CNC2=NC(=NC=C2C(F)(F)F)NC3=CC4=C...</td>\n",
       "      <td>0</td>\n",
       "    </tr>\n",
       "    <tr>\n",
       "      <th>2</th>\n",
       "      <td>0</td>\n",
       "      <td>0</td>\n",
       "      <td>0.838370</td>\n",
       "      <td>0.161630</td>\n",
       "      <td>Avagacestat</td>\n",
       "      <td>717906-29-1</td>\n",
       "      <td>A-673</td>\n",
       "      <td>684052</td>\n",
       "      <td>C1=CC(=CC=C1S(=O)(=O)N(CC2=C(C=C(C=C2)C3=NOC=N...</td>\n",
       "      <td>CN(C1=CC=CC=C1CNC2=NC(=NC=C2C(F)(F)F)NC3=CC4=C...</td>\n",
       "      <td>0</td>\n",
       "    </tr>\n",
       "    <tr>\n",
       "      <th>3</th>\n",
       "      <td>1</td>\n",
       "      <td>1</td>\n",
       "      <td>0.010439</td>\n",
       "      <td>0.989561</td>\n",
       "      <td>AT7519</td>\n",
       "      <td>PF-3758309</td>\n",
       "      <td>TC-71</td>\n",
       "      <td>1240221</td>\n",
       "      <td>C1CNCCC1NC(=O)C2=C(C=NN2)NC(=O)C3=C(C=CC=C3Cl)Cl</td>\n",
       "      <td>CC1=NC2=C(C(=N1)NC3=NNC4=C3CN(C4(C)C)C(=O)NC(C...</td>\n",
       "      <td>1</td>\n",
       "    </tr>\n",
       "    <tr>\n",
       "      <th>4</th>\n",
       "      <td>1</td>\n",
       "      <td>1</td>\n",
       "      <td>0.000052</td>\n",
       "      <td>0.999948</td>\n",
       "      <td>ZINC34894448</td>\n",
       "      <td>PF-3758309</td>\n",
       "      <td>TC-71</td>\n",
       "      <td>1240221</td>\n",
       "      <td>CCC1=C2N=C(C=C(N2N=C1)NCC3=C[N+](=CC=C3)[O-])N...</td>\n",
       "      <td>CC1=NC2=C(C(=N1)NC3=NNC4=C3CN(C4(C)C)C(=O)NC(C...</td>\n",
       "      <td>1</td>\n",
       "    </tr>\n",
       "    <tr>\n",
       "      <th>...</th>\n",
       "      <td>...</td>\n",
       "      <td>...</td>\n",
       "      <td>...</td>\n",
       "      <td>...</td>\n",
       "      <td>...</td>\n",
       "      <td>...</td>\n",
       "      <td>...</td>\n",
       "      <td>...</td>\n",
       "      <td>...</td>\n",
       "      <td>...</td>\n",
       "      <td>...</td>\n",
       "    </tr>\n",
       "    <tr>\n",
       "      <th>21013</th>\n",
       "      <td>0</td>\n",
       "      <td>0</td>\n",
       "      <td>0.976813</td>\n",
       "      <td>0.023187</td>\n",
       "      <td>AZD7762</td>\n",
       "      <td>AZD6738</td>\n",
       "      <td>VM-CUB-1</td>\n",
       "      <td>909780</td>\n",
       "      <td>C1CC(CNC1)NC(=O)C2=C(C=C(S2)C3=CC(=CC=C3)F)NC(...</td>\n",
       "      <td>CC1COCCN1C2=NC(=NC(=C2)C3(CC3)S(=N)(=O)C)C4=C5...</td>\n",
       "      <td>0</td>\n",
       "    </tr>\n",
       "    <tr>\n",
       "      <th>21014</th>\n",
       "      <td>0</td>\n",
       "      <td>0</td>\n",
       "      <td>0.989993</td>\n",
       "      <td>0.010007</td>\n",
       "      <td>AZD7762</td>\n",
       "      <td>AZD4547</td>\n",
       "      <td>VM-CUB-1</td>\n",
       "      <td>909780</td>\n",
       "      <td>C1CC(CNC1)NC(=O)C2=C(C=C(S2)C3=CC(=CC=C3)F)NC(...</td>\n",
       "      <td>CC1CN(CC(N1)C)C2=CC=C(C=C2)C(=O)NC3=NNC(=C3)CC...</td>\n",
       "      <td>0</td>\n",
       "    </tr>\n",
       "    <tr>\n",
       "      <th>21015</th>\n",
       "      <td>0</td>\n",
       "      <td>0</td>\n",
       "      <td>0.991160</td>\n",
       "      <td>0.008840</td>\n",
       "      <td>AZD7762</td>\n",
       "      <td>AZD2014</td>\n",
       "      <td>VM-CUB-1</td>\n",
       "      <td>909780</td>\n",
       "      <td>C1CC(CNC1)NC(=O)C2=C(C=C(S2)C3=CC(=CC=C3)F)NC(...</td>\n",
       "      <td>CC1COCCN1C2=NC(=NC3=C2C=CC(=N3)C4=CC(=CC=C4)C(...</td>\n",
       "      <td>0</td>\n",
       "    </tr>\n",
       "    <tr>\n",
       "      <th>21016</th>\n",
       "      <td>0</td>\n",
       "      <td>0</td>\n",
       "      <td>0.993270</td>\n",
       "      <td>0.006730</td>\n",
       "      <td>AZD-4877</td>\n",
       "      <td>Onalespib</td>\n",
       "      <td>VM-CUB-1</td>\n",
       "      <td>909780</td>\n",
       "      <td>CC1=CC=C(C=C1)C(=O)N(CCCN)C(C2=NC3=C(C(=NS3)C)...</td>\n",
       "      <td>CC(C)C1=C(C=C(C(=C1)C(=O)N2CC3=C(C2)C=C(C=C3)C...</td>\n",
       "      <td>0</td>\n",
       "    </tr>\n",
       "    <tr>\n",
       "      <th>21017</th>\n",
       "      <td>1</td>\n",
       "      <td>1</td>\n",
       "      <td>0.022664</td>\n",
       "      <td>0.977336</td>\n",
       "      <td>957054-30-7</td>\n",
       "      <td>Selumetinib</td>\n",
       "      <td>VM-CUB-1</td>\n",
       "      <td>909780</td>\n",
       "      <td>CS(=O)(=O)N1CCN(CC1)CC2=CC3=C(S2)C(=NC(=N3)C4=...</td>\n",
       "      <td>CN1C=NC2=C1C=C(C(=C2F)NC3=C(C=C(C=C3)Br)Cl)C(=...</td>\n",
       "      <td>1</td>\n",
       "    </tr>\n",
       "  </tbody>\n",
       "</table>\n",
       "<p>21018 rows × 11 columns</p>\n",
       "</div>"
      ],
      "text/plain": [
       "       true_class  pred_class  prob_score_class0  prob_score_class1  \\\n",
       "0               0           0           0.999812           0.000188   \n",
       "1               0           0           0.996824           0.003176   \n",
       "2               0           0           0.838370           0.161630   \n",
       "3               1           1           0.010439           0.989561   \n",
       "4               1           1           0.000052           0.999948   \n",
       "...           ...         ...                ...                ...   \n",
       "21013           0           0           0.976813           0.023187   \n",
       "21014           0           0           0.989993           0.010007   \n",
       "21015           0           0           0.991160           0.008840   \n",
       "21016           0           0           0.993270           0.006730   \n",
       "21017           1           1           0.022664           0.977336   \n",
       "\n",
       "           Drug1_ID     Drug2_ID Cell_Line_ID  Cosmic_ID  \\\n",
       "0       dacarbazine  717906-29-1        A-673     684052   \n",
       "1          Nesbuvir  717906-29-1        A-673     684052   \n",
       "2       Avagacestat  717906-29-1        A-673     684052   \n",
       "3            AT7519   PF-3758309        TC-71    1240221   \n",
       "4      ZINC34894448   PF-3758309        TC-71    1240221   \n",
       "...             ...          ...          ...        ...   \n",
       "21013       AZD7762      AZD6738     VM-CUB-1     909780   \n",
       "21014       AZD7762      AZD4547     VM-CUB-1     909780   \n",
       "21015       AZD7762      AZD2014     VM-CUB-1     909780   \n",
       "21016      AZD-4877    Onalespib     VM-CUB-1     909780   \n",
       "21017   957054-30-7  Selumetinib     VM-CUB-1     909780   \n",
       "\n",
       "                                                   Drug1  \\\n",
       "0                              CN(C)N=NC1=C(NC=N1)C(=O)N   \n",
       "1      CNC(=O)C1=C(OC2=CC(=C(C=C21)C3CC3)N(CCO)S(=O)(...   \n",
       "2      C1=CC(=CC=C1S(=O)(=O)N(CC2=C(C=C(C=C2)C3=NOC=N...   \n",
       "3       C1CNCCC1NC(=O)C2=C(C=NN2)NC(=O)C3=C(C=CC=C3Cl)Cl   \n",
       "4      CCC1=C2N=C(C=C(N2N=C1)NCC3=C[N+](=CC=C3)[O-])N...   \n",
       "...                                                  ...   \n",
       "21013  C1CC(CNC1)NC(=O)C2=C(C=C(S2)C3=CC(=CC=C3)F)NC(...   \n",
       "21014  C1CC(CNC1)NC(=O)C2=C(C=C(S2)C3=CC(=CC=C3)F)NC(...   \n",
       "21015  C1CC(CNC1)NC(=O)C2=C(C=C(S2)C3=CC(=CC=C3)F)NC(...   \n",
       "21016  CC1=CC=C(C=C1)C(=O)N(CCCN)C(C2=NC3=C(C(=NS3)C)...   \n",
       "21017  CS(=O)(=O)N1CCN(CC1)CC2=CC3=C(S2)C(=NC(=N3)C4=...   \n",
       "\n",
       "                                                   Drug2  Y  \n",
       "0      CN(C1=CC=CC=C1CNC2=NC(=NC=C2C(F)(F)F)NC3=CC4=C...  0  \n",
       "1      CN(C1=CC=CC=C1CNC2=NC(=NC=C2C(F)(F)F)NC3=CC4=C...  0  \n",
       "2      CN(C1=CC=CC=C1CNC2=NC(=NC=C2C(F)(F)F)NC3=CC4=C...  0  \n",
       "3      CC1=NC2=C(C(=N1)NC3=NNC4=C3CN(C4(C)C)C(=O)NC(C...  1  \n",
       "4      CC1=NC2=C(C(=N1)NC3=NNC4=C3CN(C4(C)C)C(=O)NC(C...  1  \n",
       "...                                                  ... ..  \n",
       "21013  CC1COCCN1C2=NC(=NC(=C2)C3(CC3)S(=N)(=O)C)C4=C5...  0  \n",
       "21014  CC1CN(CC(N1)C)C2=CC=C(C=C2)C(=O)NC3=NNC(=C3)CC...  0  \n",
       "21015  CC1COCCN1C2=NC(=NC3=C2C=CC(=N3)C4=CC(=CC=C4)C(...  0  \n",
       "21016  CC(C)C1=C(C=C(C(=C1)C(=O)N2CC3=C(C2)C=C(C=C3)C...  0  \n",
       "21017  CN1C=NC2=C1C=C(C(=C2F)NC3=C(C=C(C=C3)Br)Cl)C(=...  1  \n",
       "\n",
       "[21018 rows x 11 columns]"
      ]
     },
     "execution_count": 22,
     "metadata": {},
     "output_type": "execute_result"
    }
   ],
   "source": [
    "df_pred_TP_RI = df_pred_TP_RI.drop(columns=[\"index\"])\n",
    "df_pred_TP_RI"
   ]
  },
  {
   "cell_type": "code",
   "execution_count": 23,
   "metadata": {},
   "outputs": [],
   "source": [
    "df_pred_TP_zeros = df_pred_TP_RI[df_pred_TP_RI.true_class == 0]\n",
    "df_pred_TP_ones = df_pred_TP_RI[df_pred_TP_RI.true_class == 1]"
   ]
  },
  {
   "cell_type": "code",
   "execution_count": null,
   "metadata": {},
   "outputs": [],
   "source": []
  },
  {
   "cell_type": "code",
   "execution_count": 24,
   "metadata": {},
   "outputs": [],
   "source": [
    "sel_CellLine = \"A101D\"\n",
    "sel_Drug1_ID = \"Navitoclax\"\n",
    "sel_Drug2_ID = \"Silmitasertib\" # Silmitasertib  Decitabine Dovitinib Fludarabine Cediranib "
   ]
  },
  {
   "cell_type": "code",
   "execution_count": 25,
   "metadata": {},
   "outputs": [
    {
     "name": "stdout",
     "output_type": "stream",
     "text": [
      "858\n",
      "115\n"
     ]
    }
   ],
   "source": [
    "df_pred_TP_CellLine_zeros = df_pred_TP_zeros[df_pred_TP_zeros.Cell_Line_ID == sel_CellLine]\n",
    "print(len(df_pred_TP_CellLine_zeros))\n",
    "\n",
    "df_pred_TP_CellLine_ones = df_pred_TP_ones[df_pred_TP_ones.Cell_Line_ID == sel_CellLine]\n",
    "print(len(df_pred_TP_CellLine_ones))\n",
    "\n",
    "df_pred_TP_Instance = df_pred_TP_RI[(df_pred_TP_RI.Cell_Line_ID == sel_CellLine) &\n",
    "                                 (df_pred_TP_RI.Drug1_ID == sel_Drug1_ID) & \n",
    "                                 (df_pred_TP_RI.Drug2_ID == sel_Drug2_ID)]"
   ]
  },
  {
   "cell_type": "code",
   "execution_count": 26,
   "metadata": {},
   "outputs": [
    {
     "data": {
      "text/html": [
       "<div>\n",
       "<style scoped>\n",
       "    .dataframe tbody tr th:only-of-type {\n",
       "        vertical-align: middle;\n",
       "    }\n",
       "\n",
       "    .dataframe tbody tr th {\n",
       "        vertical-align: top;\n",
       "    }\n",
       "\n",
       "    .dataframe thead th {\n",
       "        text-align: right;\n",
       "    }\n",
       "</style>\n",
       "<table border=\"1\" class=\"dataframe\">\n",
       "  <thead>\n",
       "    <tr style=\"text-align: right;\">\n",
       "      <th></th>\n",
       "      <th>true_class</th>\n",
       "      <th>pred_class</th>\n",
       "      <th>prob_score_class0</th>\n",
       "      <th>prob_score_class1</th>\n",
       "      <th>Drug1_ID</th>\n",
       "      <th>Drug2_ID</th>\n",
       "      <th>Cell_Line_ID</th>\n",
       "      <th>Cosmic_ID</th>\n",
       "      <th>Drug1</th>\n",
       "      <th>Drug2</th>\n",
       "      <th>Y</th>\n",
       "    </tr>\n",
       "  </thead>\n",
       "  <tbody>\n",
       "    <tr>\n",
       "      <th>12649</th>\n",
       "      <td>1</td>\n",
       "      <td>1</td>\n",
       "      <td>0.302058</td>\n",
       "      <td>0.697942</td>\n",
       "      <td>Navitoclax</td>\n",
       "      <td>Silmitasertib</td>\n",
       "      <td>A101D</td>\n",
       "      <td>910921</td>\n",
       "      <td>CC1(CCC(=C(C1)CN2CCN(CC2)C3=CC=C(C=C3)C(=O)NS(...</td>\n",
       "      <td>C1=CC(=CC(=C1)Cl)NC2=C3C=CN=CC3=C4C=CC(=CC4=N2...</td>\n",
       "      <td>1</td>\n",
       "    </tr>\n",
       "  </tbody>\n",
       "</table>\n",
       "</div>"
      ],
      "text/plain": [
       "       true_class  pred_class  prob_score_class0  prob_score_class1  \\\n",
       "12649           1           1           0.302058           0.697942   \n",
       "\n",
       "         Drug1_ID       Drug2_ID Cell_Line_ID  Cosmic_ID  \\\n",
       "12649  Navitoclax  Silmitasertib        A101D     910921   \n",
       "\n",
       "                                                   Drug1  \\\n",
       "12649  CC1(CCC(=C(C1)CN2CCN(CC2)C3=CC=C(C=C3)C(=O)NS(...   \n",
       "\n",
       "                                                   Drug2  Y  \n",
       "12649  C1=CC(=CC(=C1)Cl)NC2=C3C=CN=CC3=C4C=CC(=CC4=N2...  1  "
      ]
     },
     "execution_count": 26,
     "metadata": {},
     "output_type": "execute_result"
    }
   ],
   "source": [
    "df_pred_TP_Instance"
   ]
  },
  {
   "cell_type": "code",
   "execution_count": null,
   "metadata": {},
   "outputs": [],
   "source": []
  },
  {
   "cell_type": "markdown",
   "metadata": {},
   "source": [
    "### Load Attributions"
   ]
  },
  {
   "cell_type": "code",
   "execution_count": 27,
   "metadata": {},
   "outputs": [],
   "source": [
    "concat_folds_min = pd.read_pickle(os.path.join(targetdata_dir_processed, 'total_thresh_4_v2_attributions.pkl'))\n",
    "concat_deltas_min = pd.read_pickle(os.path.join(targetdata_dir_processed, 'total_thresh_4_v2_deltas.pkl'))\n"
   ]
  },
  {
   "cell_type": "code",
   "execution_count": 28,
   "metadata": {},
   "outputs": [],
   "source": [
    "delta_thresh = 1.0"
   ]
  },
  {
   "cell_type": "code",
   "execution_count": 29,
   "metadata": {},
   "outputs": [
    {
     "name": "stdout",
     "output_type": "stream",
     "text": [
      "12487 21018\n"
     ]
    }
   ],
   "source": [
    "sel_deltas = concat_deltas_min[(concat_deltas_min>=-delta_thresh) & (concat_deltas_min<=delta_thresh)].index.values\n",
    "print(len(sel_deltas), len(concat_deltas_min))"
   ]
  },
  {
   "cell_type": "code",
   "execution_count": 30,
   "metadata": {},
   "outputs": [
    {
     "name": "stdout",
     "output_type": "stream",
     "text": [
      "(7739,) 12241\n",
      "(4748,) 8777\n",
      "(524,) 858\n",
      "(68,) 115\n"
     ]
    }
   ],
   "source": [
    "sel_idx_zeros = np.intersect1d(df_pred_TP_zeros.index, sel_deltas)\n",
    "sel_idx_ones = np.intersect1d(df_pred_TP_ones.index, sel_deltas)\n",
    "\n",
    "sel_idx_CellLine_zeros = np.intersect1d(df_pred_TP_CellLine_zeros.index, sel_deltas)\n",
    "sel_idx_CellLine_ones = np.intersect1d(df_pred_TP_CellLine_ones.index, sel_deltas)\n",
    "\n",
    "print(sel_idx_zeros.shape, len(df_pred_TP_zeros.index))\n",
    "print(sel_idx_ones.shape, len(df_pred_TP_ones.index))\n",
    "\n",
    "print(sel_idx_CellLine_zeros.shape, len(df_pred_TP_CellLine_zeros.index))\n",
    "print(sel_idx_CellLine_ones.shape, len(df_pred_TP_CellLine_ones.index))"
   ]
  },
  {
   "cell_type": "code",
   "execution_count": 31,
   "metadata": {},
   "outputs": [
    {
     "data": {
      "text/plain": [
       "(21018, 926)"
      ]
     },
     "execution_count": 31,
     "metadata": {},
     "output_type": "execute_result"
    }
   ],
   "source": [
    "test_features_TP = np.take(x_np_norm, df_pred_TP.index.values, axis=0)\n",
    "test_features_TP.shape"
   ]
  },
  {
   "cell_type": "code",
   "execution_count": 32,
   "metadata": {
    "scrolled": true
   },
   "outputs": [
    {
     "name": "stdout",
     "output_type": "stream",
     "text": [
      "(7739, 926)\n",
      "(4748, 926)\n",
      "(524, 926)\n",
      "(68, 926)\n",
      "(1, 926)\n"
     ]
    }
   ],
   "source": [
    "test_features_TP_zeros_delta_thresh = np.take(test_features_TP, sel_idx_zeros, axis=0)\n",
    "print(test_features_TP_zeros_delta_thresh.shape)\n",
    "\n",
    "test_features_TP_ones_delta_thresh = np.take(test_features_TP, sel_idx_ones, axis=0)\n",
    "print(test_features_TP_ones_delta_thresh.shape)\n",
    "\n",
    "test_features_TP_CellLine_zeros_delta_thresh = np.take(test_features_TP, sel_idx_CellLine_zeros, axis=0)\n",
    "print(test_features_TP_CellLine_zeros_delta_thresh.shape)\n",
    "\n",
    "test_features_TP_CellLine_ones_delta_thresh = np.take(test_features_TP, sel_idx_CellLine_ones, axis=0)\n",
    "print(test_features_TP_CellLine_ones_delta_thresh.shape)\n",
    "\n",
    "test_features_TP_Instance = np.take(test_features_TP, df_pred_TP_Instance.index, axis=0)\n",
    "print(test_features_TP_Instance.shape)"
   ]
  },
  {
   "cell_type": "code",
   "execution_count": 33,
   "metadata": {},
   "outputs": [
    {
     "name": "stdout",
     "output_type": "stream",
     "text": [
      "(7739, 926)\n",
      "(4748, 926)\n",
      "(524, 926)\n",
      "(68, 926)\n",
      "(1, 926)\n"
     ]
    }
   ],
   "source": [
    "concat_folds_min_zeros_delta_thresh = concat_folds_min.loc[sel_idx_zeros].values\n",
    "print(concat_folds_min_zeros_delta_thresh.shape)\n",
    "\n",
    "concat_folds_min_ones_delta_thresh = concat_folds_min.loc[sel_idx_ones].values\n",
    "print(concat_folds_min_ones_delta_thresh.shape)\n",
    "\n",
    "concat_folds_min_CellLine_zeros_delta_thresh = concat_folds_min.loc[sel_idx_CellLine_zeros].values\n",
    "print(concat_folds_min_CellLine_zeros_delta_thresh.shape)\n",
    "\n",
    "concat_folds_min_CellLine_ones_delta_thresh = concat_folds_min.loc[sel_idx_CellLine_ones].values\n",
    "print(concat_folds_min_CellLine_ones_delta_thresh.shape)\n",
    "\n",
    "concat_folds_min_Instance = np.take(concat_folds_min, df_pred_TP_Instance.index, axis=0).values\n",
    "concat_folds_min_Instance = concat_folds_min.loc[df_pred_TP_Instance.index].values\n",
    "print(concat_folds_min_Instance.shape)"
   ]
  },
  {
   "cell_type": "code",
   "execution_count": null,
   "metadata": {},
   "outputs": [],
   "source": []
  },
  {
   "cell_type": "markdown",
   "metadata": {},
   "source": [
    "### Plots"
   ]
  },
  {
   "cell_type": "code",
   "execution_count": 64,
   "metadata": {},
   "outputs": [],
   "source": [
    "matplotlib.rcParams['axes.titlesize'] = 20\n",
    "# matplotlib.rcParams['axes.labelsize'] = 33\n",
    "# matplotlib.rcParams['legend.fontsize'] = 18\n",
    "# matplotlib.rcParams['lines.linewidth'] = 3\n",
    "# matplotlib.rcParams['xtick.labelsize'] = 22\n",
    "# matplotlib.rcParams['ytick.labelsize'] = 22\n",
    "\n",
    "shap_plot_size = 0.5 #[11,8]"
   ]
  },
  {
   "cell_type": "code",
   "execution_count": 65,
   "metadata": {},
   "outputs": [],
   "source": [
    "# source: https://github.com/snap-stanford/ogb/blob/68a303f320220cda859e83e3a8660f2b9debedf6/ogb/utils/features.py#L52\n",
    "\n",
    "atomic_features = ['AtomicNum', 'ChiralTag', 'TotalDegree', \n",
    "                   'FormalCharge', 'TotalNumHs', 'NumRadicalElectrons',\n",
    "                   'Hybridization', 'IsAromatic', 'IsInRing']"
   ]
  },
  {
   "cell_type": "code",
   "execution_count": 66,
   "metadata": {},
   "outputs": [],
   "source": [
    "nr_drug_feat = len(atomic_features)*2"
   ]
  },
  {
   "cell_type": "code",
   "execution_count": 67,
   "metadata": {},
   "outputs": [],
   "source": [
    "def list_prefix(l, pre):\n",
    "    return [pre+i for i in l]"
   ]
  },
  {
   "cell_type": "code",
   "execution_count": 68,
   "metadata": {},
   "outputs": [
    {
     "data": {
      "text/plain": [
       "926"
      ]
     },
     "execution_count": 68,
     "metadata": {},
     "output_type": "execute_result"
    }
   ],
   "source": [
    "gene_gex = pd.read_csv('../../data/preprocessing/gene_gex.tsv', sep='\\t')\n",
    "all_feat = list_prefix(atomic_features, \"Drug_A_\")+list_prefix(atomic_features, \"Drug_B_\")+list(gene_gex.GENE_SYMBOLS)\n",
    "len(all_feat)"
   ]
  },
  {
   "cell_type": "code",
   "execution_count": 69,
   "metadata": {},
   "outputs": [],
   "source": [
    "# \", \".join(sorted(list(gene_gex.GENE_SYMBOLS)))"
   ]
  },
  {
   "cell_type": "code",
   "execution_count": 70,
   "metadata": {},
   "outputs": [
    {
     "data": {
      "text/plain": [
       "{'AtomicNum': ['Drug_A_AtomicNum', 'Drug_B_AtomicNum'],\n",
       " 'ChiralTag': ['Drug_A_ChiralTag', 'Drug_B_ChiralTag'],\n",
       " 'TotalDegree': ['Drug_A_TotalDegree', 'Drug_B_TotalDegree'],\n",
       " 'FormalCharge': ['Drug_A_FormalCharge', 'Drug_B_FormalCharge'],\n",
       " 'TotalNumHs': ['Drug_A_TotalNumHs', 'Drug_B_TotalNumHs'],\n",
       " 'NumRadicalElectrons': ['Drug_A_NumRadicalElectrons',\n",
       "  'Drug_B_NumRadicalElectrons'],\n",
       " 'Hybridization': ['Drug_A_Hybridization', 'Drug_B_Hybridization'],\n",
       " 'IsAromatic': ['Drug_A_IsAromatic', 'Drug_B_IsAromatic'],\n",
       " 'IsInRing': ['Drug_A_IsInRing', 'Drug_B_IsInRing']}"
      ]
     },
     "execution_count": 70,
     "metadata": {},
     "output_type": "execute_result"
    }
   ],
   "source": [
    "grouped_feats = {af:[\"Drug_A_\"+af, \"Drug_B_\"+af] for af in atomic_features}\n",
    "grouped_feats"
   ]
  },
  {
   "cell_type": "markdown",
   "metadata": {},
   "source": [
    "### SHAP top features"
   ]
  },
  {
   "cell_type": "code",
   "execution_count": 71,
   "metadata": {},
   "outputs": [
    {
     "data": {
      "image/png": "[encoded data removed]",
      "text/plain": [
       "<Figure size 792x576 with 1 Axes>"
      ]
     },
     "metadata": {
      "needs_background": "light"
     },
     "output_type": "display_data"
    }
   ],
   "source": [
    "sp = shap.summary_plot(concat_folds_min_ones_delta_thresh[:, :nr_drug_feat],\n",
    "                  test_features_TP_ones_delta_thresh[:, :nr_drug_feat],\n",
    "                  feature_names=all_feat[:nr_drug_feat],\n",
    "                  max_display=nr_drug_feat, show=False, plot_type=\"bar\", plot_size=shap_plot_size)\n",
    "plt.title(\"Drug Features for all samples\")\n",
    "plt.show()"
   ]
  },
  {
   "cell_type": "code",
   "execution_count": 72,
   "metadata": {},
   "outputs": [
    {
     "data": {
      "image/png": "[encoded data removed]",
      "text/plain": [
       "<Figure size 792x576 with 1 Axes>"
      ]
     },
     "metadata": {
      "needs_background": "light"
     },
     "output_type": "display_data"
    }
   ],
   "source": [
    "shap.summary_plot(concat_folds_min_ones_delta_thresh[:, nr_drug_feat:],\n",
    "                  test_features_TP_ones_delta_thresh[:, nr_drug_feat:],\n",
    "                  feature_names=all_feat[nr_drug_feat:],\n",
    "                  max_display=10, show=False, plot_type=\"bar\", plot_size=shap_plot_size)\n",
    "plt.title(\"Gene Features for all samples\")\n",
    "plt.show()"
   ]
  },
  {
   "cell_type": "code",
   "execution_count": null,
   "metadata": {},
   "outputs": [],
   "source": []
  },
  {
   "cell_type": "markdown",
   "metadata": {},
   "source": [
    "### Attributions for Cell Line"
   ]
  },
  {
   "cell_type": "code",
   "execution_count": 73,
   "metadata": {},
   "outputs": [
    {
     "data": {
      "image/png": "[encoded data removed]",
      "text/plain": [
       "<Figure size 792x576 with 1 Axes>"
      ]
     },
     "metadata": {
      "needs_background": "light"
     },
     "output_type": "display_data"
    }
   ],
   "source": [
    "shap.summary_plot(concat_folds_min_CellLine_ones_delta_thresh[:, :nr_drug_feat],\n",
    "                  test_features_TP_CellLine_ones_delta_thresh[:, :nr_drug_feat],\n",
    "                  feature_names=all_feat[:nr_drug_feat],\n",
    "                  max_display=nr_drug_feat, show=False, plot_type=\"bar\", plot_size=shap_plot_size)\n",
    "plt.title(f\"Drug Features for Cell Line ({sel_CellLine})\")\n",
    "plt.show()"
   ]
  },
  {
   "cell_type": "code",
   "execution_count": 74,
   "metadata": {},
   "outputs": [
    {
     "data": {
      "image/png": "[encoded data removed]",
      "text/plain": [
       "<Figure size 792x576 with 1 Axes>"
      ]
     },
     "metadata": {
      "needs_background": "light"
     },
     "output_type": "display_data"
    }
   ],
   "source": [
    "shap.summary_plot(concat_folds_min_CellLine_ones_delta_thresh[:, nr_drug_feat:],\n",
    "                  test_features_TP_CellLine_ones_delta_thresh[:, nr_drug_feat:],\n",
    "                  feature_names=all_feat[nr_drug_feat:],\n",
    "                  max_display=nr_drug_feat, show=False, plot_type=\"bar\", plot_size=shap_plot_size)\n",
    "plt.title(f\"Gene Features for Cell Line ({sel_CellLine})\")\n",
    "plt.show()"
   ]
  },
  {
   "cell_type": "code",
   "execution_count": null,
   "metadata": {},
   "outputs": [],
   "source": []
  },
  {
   "cell_type": "markdown",
   "metadata": {},
   "source": [
    "### Attributions for Instance"
   ]
  },
  {
   "cell_type": "code",
   "execution_count": 75,
   "metadata": {
    "scrolled": true
   },
   "outputs": [
    {
     "data": {
      "image/png": "[encoded data removed]",
      "text/plain": [
       "<Figure size 792x576 with 1 Axes>"
      ]
     },
     "metadata": {
      "needs_background": "light"
     },
     "output_type": "display_data"
    }
   ],
   "source": [
    "shap.summary_plot(concat_folds_min_Instance[:, :nr_drug_feat],\n",
    "                  test_features_TP_Instance[:, :nr_drug_feat],\n",
    "                  feature_names=all_feat[:nr_drug_feat],\n",
    "                  max_display=nr_drug_feat, show=False, plot_type=\"bar\", plot_size=shap_plot_size)\n",
    "plt.title(f\"Drug Features for Drugs ({sel_Drug1_ID}, {sel_Drug2_ID}) in Cell Line ({sel_CellLine})\")\n",
    "plt.show()"
   ]
  },
  {
   "cell_type": "code",
   "execution_count": 76,
   "metadata": {
    "scrolled": true
   },
   "outputs": [
    {
     "data": {
      "image/png": "[encoded data removed]",
      "text/plain": [
       "<Figure size 792x576 with 1 Axes>"
      ]
     },
     "metadata": {
      "needs_background": "light"
     },
     "output_type": "display_data"
    }
   ],
   "source": [
    "shap.summary_plot(concat_folds_min_Instance[:, nr_drug_feat:],\n",
    "                  test_features_TP_Instance[:, nr_drug_feat:],\n",
    "                  feature_names=all_feat[nr_drug_feat:],\n",
    "                  max_display=nr_drug_feat, show=False, plot_type=\"bar\", plot_size=shap_plot_size)\n",
    "plt.title(f\"Gene Features for Drugs ({sel_Drug1_ID}, {sel_Drug2_ID}) in Cell Line ({sel_CellLine})\")\n",
    "plt.show()"
   ]
  },
  {
   "cell_type": "code",
   "execution_count": null,
   "metadata": {},
   "outputs": [],
   "source": []
  },
  {
   "cell_type": "markdown",
   "metadata": {},
   "source": [
    "### Grouped SHAP"
   ]
  },
  {
   "cell_type": "code",
   "execution_count": 77,
   "metadata": {},
   "outputs": [],
   "source": [
    "from itertools import repeat, chain\n",
    "revert_dict = lambda d: dict(chain(*[zip(val, repeat(key)) for key, val in d.items()]))"
   ]
  },
  {
   "cell_type": "code",
   "execution_count": 78,
   "metadata": {},
   "outputs": [],
   "source": [
    "# source: https://www.kaggle.com/code/estevaouyra/shap-advanced-uses-grouping-and-correlation/notebook\n",
    "\n",
    "def grouped_shap(shap_vals, features, groups):\n",
    "    groupmap = revert_dict(groups)\n",
    "    shap_Tdf = pd.DataFrame(shap_vals, columns=pd.Index(features, name='features')).T\n",
    "    shap_Tdf['group'] = shap_Tdf.reset_index().features.map(groupmap).values\n",
    "    shap_grouped = shap_Tdf.groupby('group').sum().T\n",
    "    return shap_grouped"
   ]
  },
  {
   "cell_type": "code",
   "execution_count": 79,
   "metadata": {},
   "outputs": [],
   "source": [
    "drug_shap_grouped = grouped_shap(concat_folds_min_ones_delta_thresh[:, :nr_drug_feat],\n",
    "                                 all_feat[:nr_drug_feat],\n",
    "                                 grouped_feats)\n",
    "# drug_shap_grouped"
   ]
  },
  {
   "cell_type": "code",
   "execution_count": null,
   "metadata": {},
   "outputs": [],
   "source": []
  },
  {
   "cell_type": "code",
   "execution_count": 80,
   "metadata": {},
   "outputs": [
    {
     "data": {
      "image/png": "[encoded data removed]",
      "text/plain": [
       "<Figure size 792x576 with 1 Axes>"
      ]
     },
     "metadata": {
      "needs_background": "light"
     },
     "output_type": "display_data"
    }
   ],
   "source": [
    "sp = shap.summary_plot(drug_shap_grouped.values, features=drug_shap_grouped.columns,\n",
    "                       show=False, plot_type=\"bar\", plot_size=shap_plot_size)\n",
    "plt.title(\"Drug Features for all samples\")\n",
    "plt.show()"
   ]
  },
  {
   "cell_type": "code",
   "execution_count": null,
   "metadata": {},
   "outputs": [],
   "source": []
  }
 ],
 "metadata": {
  "kernelspec": {
   "display_name": "Python 3 (ipykernel)",
   "language": "python",
   "name": "python3"
  },
  "language_info": {
   "codemirror_mode": {
    "name": "ipython",
    "version": 3
   },
   "file_extension": ".py",
   "mimetype": "text/x-python",
   "name": "python",
   "nbconvert_exporter": "python",
   "pygments_lexer": "ipython3",
   "version": "3.9.9"
  }
 },
 "nbformat": 4,
 "nbformat_minor": 4
}
