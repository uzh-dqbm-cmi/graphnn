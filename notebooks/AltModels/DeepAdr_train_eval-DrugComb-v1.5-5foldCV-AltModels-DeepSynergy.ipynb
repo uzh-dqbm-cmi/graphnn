{
 "cells": [
  {
   "cell_type": "code",
   "execution_count": 1,
   "metadata": {
    "scrolled": false
   },
   "outputs": [],
   "source": [
    "%load_ext autoreload\n",
    "%autoreload 2"
   ]
  },
  {
   "cell_type": "code",
   "execution_count": 2,
   "metadata": {},
   "outputs": [],
   "source": [
    "import os\n",
    "import sys\n",
    "import numpy as np\n",
    "import pandas as pd\n",
    "import datetime\n",
    "import seaborn as sns\n",
    "import ogb\n",
    "from tqdm import tqdm\n",
    "import hiplot as hip\n",
    "from copy import deepcopy\n",
    "import datetime"
   ]
  },
  {
   "cell_type": "code",
   "execution_count": 3,
   "metadata": {},
   "outputs": [],
   "source": [
    "pd.set_option('display.max_rows', 10)"
   ]
  },
  {
   "cell_type": "code",
   "execution_count": 4,
   "metadata": {},
   "outputs": [],
   "source": [
    "import torch\n",
    "from torch_geometric.data import Data\n",
    "from torch_geometric.loader import DataLoader\n",
    "from torch.utils.data import Subset, TensorDataset"
   ]
  },
  {
   "cell_type": "code",
   "execution_count": 5,
   "metadata": {},
   "outputs": [
    {
     "name": "stdout",
     "output_type": "stream",
     "text": [
      "/cluster/work/medinfmk/lm1-homes/skyriakos-lm1-home/data_to_migrate/chemprop_run/git/notebooks/AltModels\n",
      "/cluster/work/medinfmk/lm1-homes/skyriakos-lm1-home/data_to_migrate/chemprop_run/git\n"
     ]
    }
   ],
   "source": [
    "cwd = os.getcwd()\n",
    "print(cwd)\n",
    "# cwd_parent = os.path.abspath(os.path.join(cwd, os.pardir))\n",
    "cwd_parent = os.path.abspath(os.path.join(cwd, '../../'))\n",
    "print(cwd_parent)\n",
    "\n",
    "sys.path.append(cwd_parent)"
   ]
  },
  {
   "cell_type": "code",
   "execution_count": 6,
   "metadata": {},
   "outputs": [],
   "source": [
    "import deepadr\n",
    "from deepadr.dataset import *\n",
    "from deepadr.utilities import *\n",
    "from deepadr.run_workflow import *\n",
    "from deepadr.chemfeatures import *\n",
    "from deepadr.hyphelperflat import *\n",
    "from deepadr.model_gnn_ogb import GNN, DeepAdr_SiameseTrf, ExpressionNN\n",
    "from ogb.graphproppred import Evaluator"
   ]
  },
  {
   "cell_type": "code",
   "execution_count": 7,
   "metadata": {},
   "outputs": [],
   "source": [
    "from rdkit.Chem.Draw import IPythonConsole\n",
    "from rdkit.Chem import Draw"
   ]
  },
  {
   "cell_type": "code",
   "execution_count": 8,
   "metadata": {},
   "outputs": [],
   "source": [
    "rawdata_dir = '../data/raw/'\n",
    "processed_dir = '../data/processed/'\n",
    "up_dir = '..'"
   ]
  },
  {
   "cell_type": "code",
   "execution_count": 9,
   "metadata": {
    "scrolled": true
   },
   "outputs": [
    {
     "name": "stdout",
     "output_type": "stream",
     "text": [
      "number of GPUs available: 5\n",
      "cuda:0, name:NVIDIA GeForce GTX 1080 Ti\n",
      "total memory available: 10.91656494140625 GB\n",
      "total memory allocated on device: 0.0 GB\n",
      "max memory allocated on device: 0.0 GB\n",
      "total memory cached on device: 0.0 GB\n",
      "max memory cached  on device: 0.0 GB\n",
      "\n",
      "cuda:1, name:NVIDIA GeForce GTX 1080 Ti\n",
      "total memory available: 10.91656494140625 GB\n",
      "total memory allocated on device: 0.0 GB\n",
      "max memory allocated on device: 0.0 GB\n",
      "total memory cached on device: 0.0 GB\n",
      "max memory cached  on device: 0.0 GB\n",
      "\n",
      "cuda:2, name:NVIDIA GeForce GTX 1080 Ti\n",
      "total memory available: 10.91656494140625 GB\n",
      "total memory allocated on device: 0.0 GB\n",
      "max memory allocated on device: 0.0 GB\n",
      "total memory cached on device: 0.0 GB\n",
      "max memory cached  on device: 0.0 GB\n",
      "\n",
      "cuda:3, name:NVIDIA GeForce GTX 1080 Ti\n",
      "total memory available: 10.91656494140625 GB\n",
      "total memory allocated on device: 0.0 GB\n",
      "max memory allocated on device: 0.0 GB\n",
      "total memory cached on device: 0.0 GB\n",
      "max memory cached  on device: 0.0 GB\n",
      "\n",
      "cuda:4, name:NVIDIA GeForce GTX 1080 Ti\n",
      "total memory available: 10.91656494140625 GB\n",
      "total memory allocated on device: 0.0 GB\n",
      "max memory allocated on device: 0.0 GB\n",
      "total memory cached on device: 0.0 GB\n",
      "max memory cached  on device: 0.0 GB\n",
      "\n"
     ]
    }
   ],
   "source": [
    "report_available_cuda_devices()"
   ]
  },
  {
   "cell_type": "code",
   "execution_count": 10,
   "metadata": {},
   "outputs": [
    {
     "data": {
      "text/plain": [
       "5"
      ]
     },
     "execution_count": 10,
     "metadata": {},
     "output_type": "execute_result"
    }
   ],
   "source": [
    "n_gpu = torch.cuda.device_count()\n",
    "n_gpu"
   ]
  },
  {
   "cell_type": "code",
   "execution_count": 11,
   "metadata": {},
   "outputs": [],
   "source": [
    "device_cpu = get_device(to_gpu=False)\n",
    "# device_gpu = get_device(True, index=0)\n",
    "\n",
    "# fdtype = torch.float32"
   ]
  },
  {
   "cell_type": "code",
   "execution_count": 12,
   "metadata": {},
   "outputs": [
    {
     "name": "stdout",
     "output_type": "stream",
     "text": [
      "torch: 1.11.0+cu115\n",
      "CUDA: 11.5\n",
      "3.8.10 (default, Jun 22 2022, 20:18:18) \n",
      "[GCC 9.4.0]\n"
     ]
    }
   ],
   "source": [
    "print(\"torch:\", torch.__version__)\n",
    "print(\"CUDA:\", torch.version.cuda)\n",
    "print(sys.version)"
   ]
  },
  {
   "cell_type": "markdown",
   "metadata": {},
   "source": [
    "### Preparing dataset "
   ]
  },
  {
   "cell_type": "code",
   "execution_count": 13,
   "metadata": {},
   "outputs": [],
   "source": [
    "# options: \n",
    "# 'total_thresh' + 4,3,2\n",
    "# 'loewe_thresh', 'hsa_thresh', 'bliss_thresh', 'zip_thresh' + 1\n",
    "\n",
    "score = 'zip_thresh'\n",
    "score_val = 1"
   ]
  },
  {
   "cell_type": "code",
   "execution_count": 14,
   "metadata": {},
   "outputs": [],
   "source": [
    "DSdataset_name = f'DrugComb_{score}_{score_val}'\n",
    "\n",
    "data_fname = 'data_v4' # v2 for baseline models, v3 for additive samples, v4 for additive baseline"
   ]
  },
  {
   "cell_type": "code",
   "execution_count": 15,
   "metadata": {
    "scrolled": true
   },
   "outputs": [
    {
     "name": "stdout",
     "output_type": "stream",
     "text": [
      "path_current_dir /cluster/work/medinfmk/lm1-homes/skyriakos-lm1-home/data_to_migrate/chemprop_run/git/deepadr\n",
      "path_current_dir /cluster/work/medinfmk/lm1-homes/skyriakos-lm1-home/data_to_migrate/chemprop_run/git/deepadr\n",
      "path_current_dir /cluster/work/medinfmk/lm1-homes/skyriakos-lm1-home/data_to_migrate/chemprop_run/git/deepadr\n",
      "path_current_dir /cluster/work/medinfmk/lm1-homes/skyriakos-lm1-home/data_to_migrate/chemprop_run/git/deepadr\n",
      "/cluster/work/medinfmk/lm1-homes/skyriakos-lm1-home/data_to_migrate/chemprop_run/git/data/processed/DrugComb_zip_thresh_1/data_v4\n"
     ]
    }
   ],
   "source": [
    "targetdata_dir = create_directory(os.path.join(processed_dir, DSdataset_name, data_fname))\n",
    "targetdata_dir_raw = create_directory(os.path.join(targetdata_dir, \"raw\"))\n",
    "targetdata_dir_processed = create_directory(os.path.join(targetdata_dir, \"processed\"))\n",
    "targetdata_dir_exp = create_directory(os.path.join(targetdata_dir, \"experiments\"))\n",
    "print(targetdata_dir)"
   ]
  },
  {
   "cell_type": "code",
   "execution_count": 16,
   "metadata": {},
   "outputs": [],
   "source": [
    "xFlat = ReaderWriter.read_data(os.path.join(targetdata_dir_raw, 'X_flat.pkl'))\n",
    "y = ReaderWriter.read_data(os.path.join(targetdata_dir_raw, 'y.pkl'))\n",
    "expression = ReaderWriter.read_data(os.path.join(targetdata_dir_raw, 'expression.pkl'))"
   ]
  },
  {
   "cell_type": "code",
   "execution_count": 17,
   "metadata": {},
   "outputs": [
    {
     "data": {
      "text/plain": [
       "torch.Size([416957, 18])"
      ]
     },
     "execution_count": 17,
     "metadata": {},
     "output_type": "execute_result"
    }
   ],
   "source": [
    "xFlatMat = torch.stack([torch.cat(i) for i in list(xFlat.values())])\n",
    "xFlatMat.shape"
   ]
  },
  {
   "cell_type": "code",
   "execution_count": 18,
   "metadata": {},
   "outputs": [
    {
     "data": {
      "text/plain": [
       "tensor([[7.3013, 4.1251, 7.1277,  ..., 4.4361, 6.3370, 6.6896],\n",
       "        [7.3013, 4.1251, 7.1277,  ..., 4.4361, 6.3370, 6.6896],\n",
       "        [7.3013, 4.1251, 7.1277,  ..., 4.4361, 6.3370, 6.6896],\n",
       "        ...,\n",
       "        [7.1871, 3.5130, 7.6483,  ..., 3.6550, 6.8683, 6.7297],\n",
       "        [7.1871, 3.5130, 7.6483,  ..., 3.6550, 6.8683, 6.7297],\n",
       "        [7.1871, 3.5130, 7.6483,  ..., 3.6550, 6.8683, 6.7297]],\n",
       "       dtype=torch.float64)"
      ]
     },
     "execution_count": 18,
     "metadata": {},
     "output_type": "execute_result"
    }
   ],
   "source": [
    "torch.tensor(expression)"
   ]
  },
  {
   "cell_type": "code",
   "execution_count": 19,
   "metadata": {
    "scrolled": false
   },
   "outputs": [
    {
     "data": {
      "text/plain": [
       "torch.Size([416957, 926])"
      ]
     },
     "execution_count": 19,
     "metadata": {},
     "output_type": "execute_result"
    }
   ],
   "source": [
    "x = torch.cat([xFlatMat, torch.tensor(expression)], dim=1)\n",
    "x.shape"
   ]
  },
  {
   "cell_type": "code",
   "execution_count": 20,
   "metadata": {},
   "outputs": [
    {
     "data": {
      "text/plain": [
       "array([0, 0, 0, ..., 0, 0, 0])"
      ]
     },
     "execution_count": 20,
     "metadata": {},
     "output_type": "execute_result"
    }
   ],
   "source": [
    "y"
   ]
  },
  {
   "cell_type": "code",
   "execution_count": 21,
   "metadata": {},
   "outputs": [
    {
     "data": {
      "text/plain": [
       "torch.Size([416957, 926])"
      ]
     },
     "execution_count": 21,
     "metadata": {},
     "output_type": "execute_result"
    }
   ],
   "source": [
    "x.shape"
   ]
  },
  {
   "cell_type": "code",
   "execution_count": 22,
   "metadata": {},
   "outputs": [
    {
     "data": {
      "text/plain": [
       "(416957,)"
      ]
     },
     "execution_count": 22,
     "metadata": {},
     "output_type": "execute_result"
    }
   ],
   "source": [
    "y.shape"
   ]
  },
  {
   "cell_type": "code",
   "execution_count": 23,
   "metadata": {},
   "outputs": [
    {
     "name": "stdout",
     "output_type": "stream",
     "text": [
      "fold_num: 0\n",
      "train data\n",
      "class: 0 norm count: 0.8809858498107979\n",
      "class: 1 norm count: 0.11901415018920215\n",
      "validation data\n",
      "class: 0 norm count: 0.8809845010042869\n",
      "class: 1 norm count: 0.11901549899571304\n",
      "test data\n",
      "class: 0 norm count: 0.8809837874136608\n",
      "class: 1 norm count: 0.11901621258633922\n",
      "\n",
      "-------------------------\n",
      "fold_num: 1\n",
      "train data\n",
      "class: 0 norm count: 0.8809858498107979\n",
      "class: 1 norm count: 0.11901415018920215\n",
      "validation data\n",
      "class: 0 norm count: 0.8809845010042869\n",
      "class: 1 norm count: 0.11901549899571304\n",
      "test data\n",
      "class: 0 norm count: 0.8809837874136608\n",
      "class: 1 norm count: 0.11901621258633922\n",
      "\n",
      "-------------------------\n",
      "fold_num: 2\n",
      "train data\n",
      "class: 0 norm count: 0.8809829152357191\n",
      "class: 1 norm count: 0.11901708476428088\n",
      "validation data\n",
      "class: 0 norm count: 0.8809845010042869\n",
      "class: 1 norm count: 0.11901549899571304\n",
      "test data\n",
      "class: 0 norm count: 0.8809943519084793\n",
      "class: 1 norm count: 0.11900564809152067\n",
      "\n",
      "-------------------------\n",
      "fold_num: 3\n",
      "train data\n",
      "class: 0 norm count: 0.8809862462484469\n",
      "class: 1 norm count: 0.11901375375155308\n",
      "validation data\n",
      "class: 0 norm count: 0.8809845010042869\n",
      "class: 1 norm count: 0.11901549899571304\n",
      "test data\n",
      "class: 0 norm count: 0.8809823602067369\n",
      "class: 1 norm count: 0.11901763979326306\n",
      "\n",
      "-------------------------\n",
      "fold_num: 4\n",
      "train data\n",
      "class: 0 norm count: 0.8809862462484469\n",
      "class: 1 norm count: 0.11901375375155308\n",
      "validation data\n",
      "class: 0 norm count: 0.8809845010042869\n",
      "class: 1 norm count: 0.11901549899571304\n",
      "test data\n",
      "class: 0 norm count: 0.8809823602067369\n",
      "class: 1 norm count: 0.11901763979326306\n",
      "\n",
      "-------------------------\n"
     ]
    }
   ],
   "source": [
    "fold_partitions = get_stratified_partitions(y,\n",
    "                                            num_folds=5,\n",
    "                                            valid_set_portion=0.1,\n",
    "                                            random_state=42)"
   ]
  },
  {
   "cell_type": "code",
   "execution_count": 24,
   "metadata": {},
   "outputs": [
    {
     "name": "stdout",
     "output_type": "stream",
     "text": [
      "Number of training graphs: 300208\n",
      "Number of validation graphs: 33357\n",
      "Number of testing graphs: 83392\n"
     ]
    }
   ],
   "source": [
    "print(\"Number of training graphs: \"+ str(len(fold_partitions[0]['train'])))\n",
    "print(\"Number of validation graphs: \"+ str(len(fold_partitions[0]['validation'])))\n",
    "print(\"Number of testing graphs: \"+ str(len(fold_partitions[0]['test'])))\n"
   ]
  },
  {
   "cell_type": "markdown",
   "metadata": {},
   "source": [
    "### Preprocessing"
   ]
  },
  {
   "cell_type": "code",
   "execution_count": 25,
   "metadata": {},
   "outputs": [],
   "source": [
    "# from sklearn.preprocessing import StandardScaler\n",
    "# scaler = StandardScaler()"
   ]
  },
  {
   "cell_type": "code",
   "execution_count": 26,
   "metadata": {},
   "outputs": [],
   "source": [
    "x_np = x.numpy()\n",
    "y_np = y"
   ]
  },
  {
   "cell_type": "code",
   "execution_count": 27,
   "metadata": {},
   "outputs": [],
   "source": [
    "# pipeline = compose(scaler.fit_transform, np.tanh, scaler.fit_transform)"
   ]
  },
  {
   "cell_type": "code",
   "execution_count": 28,
   "metadata": {},
   "outputs": [],
   "source": [
    "# x_np_norm = pipeline(x_np)"
   ]
  },
  {
   "cell_type": "code",
   "execution_count": null,
   "metadata": {},
   "outputs": [],
   "source": []
  },
  {
   "cell_type": "code",
   "execution_count": 29,
   "metadata": {},
   "outputs": [
    {
     "data": {
      "text/plain": [
       "926"
      ]
     },
     "execution_count": 29,
     "metadata": {},
     "output_type": "execute_result"
    }
   ],
   "source": [
    "deepsynergy_input_size = x_np.shape[1]\n",
    "deepsynergy_input_size"
   ]
  },
  {
   "cell_type": "code",
   "execution_count": 30,
   "metadata": {},
   "outputs": [],
   "source": [
    "ids = list(range(len(y)))"
   ]
  },
  {
   "cell_type": "code",
   "execution_count": 31,
   "metadata": {},
   "outputs": [
    {
     "data": {
      "text/plain": [
       "<torch.utils.data.dataset.TensorDataset at 0x14783f37ea90>"
      ]
     },
     "execution_count": 31,
     "metadata": {},
     "output_type": "execute_result"
    }
   ],
   "source": [
    "dataset = TensorDataset(torch.tensor(x_np),torch.tensor(y), torch.tensor(ids))\n",
    "dataset"
   ]
  },
  {
   "cell_type": "code",
   "execution_count": 32,
   "metadata": {},
   "outputs": [
    {
     "data": {
      "text/plain": [
       "(416957, 926)"
      ]
     },
     "execution_count": 32,
     "metadata": {},
     "output_type": "execute_result"
    }
   ],
   "source": [
    "x_np.shape"
   ]
  },
  {
   "cell_type": "code",
   "execution_count": 33,
   "metadata": {
    "scrolled": true
   },
   "outputs": [
    {
     "data": {
      "text/plain": [
       "array([     2,      3,      4, ..., 416940, 416942, 416948])"
      ]
     },
     "execution_count": 33,
     "metadata": {},
     "output_type": "execute_result"
    }
   ],
   "source": [
    "fold_partitions[0]['test']"
   ]
  },
  {
   "cell_type": "code",
   "execution_count": 34,
   "metadata": {},
   "outputs": [
    {
     "data": {
      "text/plain": [
       "tensor([[5.4583, 0.0000, 2.7917,  ..., 4.4361, 6.3370, 6.6896],\n",
       "        [5.4737, 0.0000, 2.8947,  ..., 4.4361, 6.3370, 6.6896],\n",
       "        [5.5500, 0.0000, 2.7500,  ..., 4.4361, 6.3370, 6.6896],\n",
       "        ...,\n",
       "        [5.6296, 0.0000, 3.0000,  ..., 3.6550, 6.8683, 6.7297],\n",
       "        [5.6296, 0.0000, 3.0000,  ..., 3.6550, 6.8683, 6.7297],\n",
       "        [5.6842, 0.0000, 3.1053,  ..., 3.6550, 6.8683, 6.7297]],\n",
       "       dtype=torch.float64)"
      ]
     },
     "execution_count": 34,
     "metadata": {},
     "output_type": "execute_result"
    }
   ],
   "source": [
    "foldx = dataset[fold_partitions[0]['test']][0]\n",
    "foldx"
   ]
  },
  {
   "cell_type": "markdown",
   "metadata": {},
   "source": [
    "### Deep Synergy"
   ]
  },
  {
   "cell_type": "code",
   "execution_count": 35,
   "metadata": {},
   "outputs": [],
   "source": [
    "# training params total_thresh 4\n",
    "tp = {\n",
    "    \"batch_size\" : 300,\n",
    "    \"num_epochs\" : 100,\n",
    "    \n",
    "    \"emb_dim\" : 300,\n",
    "    \"gnn_type\" : \"gatv2\",\n",
    "    \"num_layer\" : 5,\n",
    "    \"graph_pooling\" : \"mean\", #attention\n",
    "    \n",
    "    \"input_embed_dim\" : None,\n",
    "    \"gene_embed_dim\": 1,\n",
    "    \"num_attn_heads\" : 2,\n",
    "    \"num_transformer_units\" : 1,\n",
    "    \"p_dropout\" : 0.3,\n",
    "#     \"nonlin_func\" : nn.ReLU(),\n",
    "    \"mlp_embed_factor\" : 2,\n",
    "    \"pooling_mode\" : 'attn',\n",
    "    \"dist_opt\" : 'cosine',\n",
    "\n",
    "    \"base_lr\" : 3e-5, #3e-4\n",
    "    \"max_lr_mul\": 5,\n",
    "    \"l2_reg\" : 1e-5,\n",
    "    \"loss_w\" : 1.,\n",
    "    \"margin_v\" : 1.,\n",
    "\n",
    "    \"expression_dim\" : 64,\n",
    "    \"expression_input_size\" : 908,\n",
    "    \"exp_H1\" : 8192,\n",
    "    \"exp_H2\" : 4096\n",
    "}"
   ]
  },
  {
   "cell_type": "code",
   "execution_count": 36,
   "metadata": {},
   "outputs": [
    {
     "data": {
      "text/plain": [
       "926"
      ]
     },
     "execution_count": 36,
     "metadata": {},
     "output_type": "execute_result"
    }
   ],
   "source": [
    "tp['deepsynergy_input_size'] = deepsynergy_input_size\n",
    "tp['deepsynergy_input_size']"
   ]
  },
  {
   "cell_type": "code",
   "execution_count": 37,
   "metadata": {},
   "outputs": [],
   "source": [
    "def spawn_q_process(q_process):\n",
    "    print(\">>> spawning hyperparam search process\")\n",
    "    q_process.start()\n",
    "    \n",
    "def join_q_process(q_process):\n",
    "    q_process.join()\n",
    "    print(\"<<< joined hyperparam search process\")\n",
    "    \n",
    "def create_q_process(queue, used_dataset, gpu_num, tphp, exp_dir, partition): #\n",
    "#     fold_gpu_map = {0:gpu_num}\n",
    "    return mp.Process(target=deepadr.hyphelperflat.run_exp_flat, args=(queue, used_dataset, gpu_num, tphp, exp_dir, partition)) #\n",
    "\n",
    "# def create_q_process_attr(queue, x_np_norm, gpu_num, tphp, exp_dir, partition, labels): #\n",
    "# #     fold_gpu_map = {0:gpu_num}\n",
    "#     return mp.Process(target=deepadr.hyphelperflat.run_attribution, args=(queue, x_np_norm, gpu_num, tphp, exp_dir, partition, labels)) #"
   ]
  },
  {
   "cell_type": "code",
   "execution_count": 38,
   "metadata": {},
   "outputs": [
    {
     "name": "stdout",
     "output_type": "stream",
     "text": [
      "Start: 2022-09-14_17-49-43\n",
      "path_current_dir /cluster/work/medinfmk/lm1-homes/skyriakos-lm1-home/data_to_migrate/chemprop_run/git/deepadr\n",
      "path_current_dir /cluster/work/medinfmk/lm1-homes/skyriakos-lm1-home/data_to_migrate/chemprop_run/git/deepadr\n",
      "path_current_dir /cluster/work/medinfmk/lm1-homes/skyriakos-lm1-home/data_to_migrate/chemprop_run/git/deepadr\n",
      ">>> spawning hyperparam search process\n",
      "path_current_dir /cluster/work/medinfmk/lm1-homes/skyriakos-lm1-home/data_to_migrate/chemprop_run/git/deepadr\n",
      "path_current_dir /cluster/work/medinfmk/lm1-homes/skyriakos-lm1-home/data_to_migrate/chemprop_run/git/deepadr\n",
      "path_current_dir /cluster/work/medinfmk/lm1-homes/skyriakos-lm1-home/data_to_migrate/chemprop_run/git/deepadr\n",
      ">>> spawning hyperparam search process\n",
      "path_current_dir /cluster/work/medinfmk/lm1-homes/skyriakos-lm1-home/data_to_migrate/chemprop_run/git/deepadr\n",
      "path_current_dir /cluster/work/medinfmk/lm1-homes/skyriakos-lm1-home/data_to_migrate/chemprop_run/git/deepadr\n",
      "path_current_dir /cluster/work/medinfmk/lm1-homes/skyriakos-lm1-home/data_to_migrate/chemprop_run/git/deepadr\n",
      ">>> spawning hyperparam search process\n",
      "path_current_dir /cluster/work/medinfmk/lm1-homes/skyriakos-lm1-home/data_to_migrate/chemprop_run/git/deepadr\n",
      "path_current_dir /cluster/work/medinfmk/lm1-homes/skyriakos-lm1-home/data_to_migrate/chemprop_run/git/deepadr\n",
      "path_current_dir /cluster/work/medinfmk/lm1-homes/skyriakos-lm1-home/data_to_migrate/chemprop_run/git/deepadr\n",
      ">>> spawning hyperparam search process\n",
      "gpu: cuda:0\n",
      "Dropout(p=0.5, inplace=False) Dropout(p=0.2, inplace=False)\n",
      "DS model:\n",
      " ExpressionNN(\n",
      "  (fc1): Linear(in_features=926, out_features=8192, bias=True)\n",
      "  (fc2): Linear(in_features=8192, out_features=4096, bias=True)\n",
      "  (fc3): Linear(in_features=4096, out_features=2, bias=True)\n",
      "  (drop_in): Dropout(p=0.2, inplace=False)\n",
      "  (drop): Dropout(p=0.5, inplace=False)\n",
      "  (log_softmax): LogSoftmax(dim=-1)\n",
      ")\n",
      "=====Epoch 0\n",
      "Training...\n"
     ]
    },
    {
     "name": "stderr",
     "output_type": "stream",
     "text": [
      "Iteration:   0%|          | 1/1001 [00:00<02:48,  5.92it/s]"
     ]
    },
    {
     "name": "stdout",
     "output_type": "stream",
     "text": [
      "gpu: cuda:1\n",
      "Dropout(p=0.5, inplace=False) Dropout(p=0.2, inplace=False)\n",
      "DS model:\n",
      " ExpressionNN(\n",
      "  (fc1): Linear(in_features=926, out_features=8192, bias=True)\n",
      "  (fc2): Linear(in_features=8192, out_features=4096, bias=True)\n",
      "  (fc3): Linear(in_features=4096, out_features=2, bias=True)\n",
      "  (drop_in): Dropout(p=0.2, inplace=False)\n",
      "  (drop): Dropout(p=0.5, inplace=False)\n",
      "  (log_softmax): LogSoftmax(dim=-1)\n",
      ")\n",
      "=====Epoch 0\n",
      "Training...\n"
     ]
    },
    {
     "name": "stderr",
     "output_type": "stream",
     "text": [
      "Iteration:  13%|█▎        | 126/1001 [00:03<00:21, 41.52it/s]"
     ]
    },
    {
     "name": "stdout",
     "output_type": "stream",
     "text": [
      "gpu: cuda:2\n",
      "Dropout(p=0.5, inplace=False) Dropout(p=0.2, inplace=False)\n",
      "DS model:\n",
      " ExpressionNN(\n",
      "  (fc1): Linear(in_features=926, out_features=8192, bias=True)\n",
      "  (fc2): Linear(in_features=8192, out_features=4096, bias=True)\n",
      "  (fc3): Linear(in_features=4096, out_features=2, bias=True)\n",
      "  (drop_in): Dropout(p=0.2, inplace=False)\n",
      "  (drop): Dropout(p=0.5, inplace=False)\n",
      "  (log_softmax): LogSoftmax(dim=-1)\n",
      ")\n",
      "=====Epoch 0\n",
      "Training...\n",
      "path_current_dir /cluster/work/medinfmk/lm1-homes/skyriakos-lm1-home/data_to_migrate/chemprop_run/git/deepadr\n",
      "path_current_dir /cluster/work/medinfmk/lm1-homes/skyriakos-lm1-home/data_to_migrate/chemprop_run/git/deepadr\n",
      "path_current_dir /cluster/work/medinfmk/lm1-homes/skyriakos-lm1-home/data_to_migrate/chemprop_run/git/deepadr\n",
      ">>> spawning hyperparam search process\n"
     ]
    },
    {
     "name": "stderr",
     "output_type": "stream",
     "text": [
      "Iteration:  42%|████▏     | 424/1001 [00:10<00:14, 40.55it/s]"
     ]
    },
    {
     "name": "stdout",
     "output_type": "stream",
     "text": [
      "gpu: cuda:3\n",
      "Dropout(p=0.5, inplace=False) Dropout(p=0.2, inplace=False)\n",
      "DS model:\n",
      " ExpressionNN(\n",
      "  (fc1): Linear(in_features=926, out_features=8192, bias=True)\n",
      "  (fc2): Linear(in_features=8192, out_features=4096, bias=True)\n",
      "  (fc3): Linear(in_features=4096, out_features=2, bias=True)\n",
      "  (drop_in): Dropout(p=0.2, inplace=False)\n",
      "  (drop): Dropout(p=0.5, inplace=False)\n",
      "  (log_softmax): LogSoftmax(dim=-1)\n",
      ")\n",
      "=====Epoch 0\n",
      "Training...\n"
     ]
    },
    {
     "name": "stderr",
     "output_type": "stream",
     "text": [
      "Iteration:  70%|██████▉   | 699/1001 [00:17<00:07, 41.02it/s]"
     ]
    },
    {
     "name": "stdout",
     "output_type": "stream",
     "text": [
      "gpu: cuda:4\n",
      "Dropout(p=0.5, inplace=False) Dropout(p=0.2, inplace=False)\n",
      "DS model:\n",
      " ExpressionNN(\n",
      "  (fc1): Linear(in_features=926, out_features=8192, bias=True)\n",
      "  (fc2): Linear(in_features=8192, out_features=4096, bias=True)\n",
      "  (fc3): Linear(in_features=4096, out_features=2, bias=True)\n",
      "  (drop_in): Dropout(p=0.2, inplace=False)\n",
      "  (drop): Dropout(p=0.5, inplace=False)\n",
      "  (log_softmax): LogSoftmax(dim=-1)\n",
      ")\n",
      "=====Epoch 0\n",
      "Training...\n"
     ]
    },
    {
     "name": "stderr",
     "output_type": "stream",
     "text": [
      "Iteration: 100%|██████████| 1001/1001 [00:24<00:00, 41.13it/s]\n",
      "Iteration:  55%|█████▌    | 552/1001 [00:13<00:10, 44.78it/s]"
     ]
    },
    {
     "name": "stdout",
     "output_type": "stream",
     "text": [
      "Evaluating...\n"
     ]
    },
    {
     "name": "stderr",
     "output_type": "stream",
     "text": [
      "\r",
      "Iteration:  29%|██▉       | 291/1001 [00:06<00:16, 43.42it/s]\r",
      "Iteration: 100%|█████████▉| 999/1001 [00:24<00:00, 44.70it/s]\r",
      "Iteration:  86%|████████▌ | 857/1001 [00:21<00:03, 43.04it/s]\r",
      "Iteration:   1%|          | 9/1001 [00:00<00:21, 45.44it/s]\r",
      "Iteration:  56%|█████▌    | 557/1001 [00:13<00:09, 45.02it/s]\r",
      "Iteration: 100%|██████████| 1001/1001 [00:24<00:00, 41.40it/s]\n",
      "\r",
      "Iteration:   0%|          | 0/1001 [00:00<?, ?it/s]\r",
      "Iteration:  30%|██▉       | 296/1001 [00:06<00:16, 43.82it/s]\r",
      "Iteration:  86%|████████▌ | 862/1001 [00:21<00:03, 43.55it/s]\r",
      "Iteration:   1%|▏         | 14/1001 [00:00<00:22, 44.55it/s]\r",
      "Iteration:  56%|█████▌    | 562/1001 [00:13<00:09, 44.58it/s]\r",
      "Iteration:   0%|          | 5/1001 [00:00<00:23, 43.19it/s]"
     ]
    },
    {
     "name": "stdout",
     "output_type": "stream",
     "text": [
      "Evaluating...\n"
     ]
    },
    {
     "name": "stderr",
     "output_type": "stream",
     "text": [
      "Iteration: 100%|██████████| 1001/1001 [00:24<00:00, 41.03it/s]\n",
      "Iteration:   0%|          | 0/1001 [00:00<?, ?it/s]"
     ]
    },
    {
     "name": "stdout",
     "output_type": "stream",
     "text": [
      "Evaluating...\n"
     ]
    },
    {
     "name": "stderr",
     "output_type": "stream",
     "text": [
      "Iteration: 100%|██████████| 1001/1001 [00:24<00:00, 41.63it/s]\n",
      "Iteration:  50%|█████     | 505/1001 [00:10<00:09, 50.22it/s]"
     ]
    },
    {
     "name": "stdout",
     "output_type": "stream",
     "text": [
      "Evaluating...\n"
     ]
    },
    {
     "name": "stderr",
     "output_type": "stream",
     "text": [
      "Iteration: 100%|██████████| 1001/1001 [00:23<00:00, 43.15it/s]\n",
      "Iteration:   0%|          | 0/1001 [00:00<?, ?it/s]"
     ]
    },
    {
     "name": "stdout",
     "output_type": "stream",
     "text": [
      "Evaluating...\n"
     ]
    },
    {
     "name": "stderr",
     "output_type": "stream",
     "text": [
      "Iteration:  40%|████      | 405/1001 [00:07<00:08, 67.30it/s]]\n",
      "Iteration:  70%|███████   | 704/1001 [00:13<00:04, 68.59it/s]\n",
      "Iteration:  54%|█████▍    | 541/1001 [00:10<00:07, 63.83it/s]\n",
      "Iteration:  33%|███▎      | 37/112 [00:00<00:01, 49.26it/s]s]\n",
      "Iteration:   0%|          | 0/1001 [00:00<?, ?it/s]"
     ]
    },
    {
     "name": "stdout",
     "output_type": "stream",
     "text": [
      "{'Train':  best_epoch_indx:0\n",
      " auc:0.8225685410965164 \n",
      " apur:0.3474416257543111 \n",
      " f1:0.4179728612902542 \n",
      " precision:0.27953514739229024 \n",
      " recall:0.8280668364633771 \n",
      ", 'Validation':  best_epoch_indx:0\n",
      " auc:0.8214883395294909 \n",
      " apur:0.35048392355433805 \n",
      " f1:0.4151135423955219 \n",
      " precision:0.27767849544719597 \n",
      " recall:0.8219143576826197 \n",
      "}\n",
      "=====Epoch 1\n",
      "Training...\n",
      "{'Train':  best_epoch_indx:0\n",
      " auc:0.8212975180491995 \n",
      " apur:0.3505354935781869 \n",
      " f1:0.4278886394392859 \n",
      " precision:0.29693403396013374 \n",
      " recall:0.7654846203364214 \n",
      ", 'Validation':  best_epoch_indx:0\n",
      " auc:0.8239519196574094 \n",
      " apur:0.35878762241434653 \n",
      " f1:0.42784738842742503 \n",
      " precision:0.29689331770222743 \n",
      " recall:0.7654911838790932 \n",
      "}\n",
      "=====Epoch 1\n",
      "Training...\n"
     ]
    },
    {
     "name": "stderr",
     "output_type": "stream",
     "text": [
      "\n",
      "Iteration:  11%|█         | 108/1001 [00:02<00:20, 43.97it/s]\n",
      "Iteration:   0%|          | 3/1001 [00:00<00:37, 26.90it/s]s]]"
     ]
    },
    {
     "name": "stdout",
     "output_type": "stream",
     "text": [
      "{'Train':  best_epoch_indx:0\n",
      " auc:0.8222973032183218 \n",
      " apur:0.3472184198059996 \n",
      " f1:0.4183234081539166 \n",
      " precision:0.2795554090331088 \n",
      " recall:0.8306465155331654 \n",
      ", 'Validation':  best_epoch_indx:0\n",
      " auc:0.8215912869164805 \n",
      " apur:0.3516261718557104 \n",
      " f1:0.4177986543100165 \n",
      " precision:0.27927698574338083 \n",
      " recall:0.8289672544080604 \n",
      "}\n",
      "=====Epoch 1\n",
      "Training...\n"
     ]
    },
    {
     "name": "stderr",
     "output_type": "stream",
     "text": [
      "Iteration:  24%|██▍       | 243/1001 [00:05<00:16, 44.90it/s]\n",
      "Iteration:  39%|███▉      | 388/1001 [00:08<00:13, 44.67it/s]]\n",
      "Iteration:   0%|          | 3/1001 [00:00<00:33, 29.36it/s]s]"
     ]
    },
    {
     "name": "stdout",
     "output_type": "stream",
     "text": [
      "{'Train':  best_epoch_indx:0\n",
      " auc:0.8219410231765517 \n",
      " apur:0.3521134565981414 \n",
      " f1:0.40653578008895247 \n",
      " precision:0.2678584133760228 \n",
      " recall:0.8429567018388424 \n",
      ", 'Validation':  best_epoch_indx:0\n",
      " auc:0.822193264058312 \n",
      " apur:0.36444864355665446 \n",
      " f1:0.4050909090909091 \n",
      " precision:0.2667198723064645 \n",
      " recall:0.8418136020151133 \n",
      "}\n",
      "=====Epoch 1\n",
      "Training...\n"
     ]
    },
    {
     "name": "stderr",
     "output_type": "stream",
     "text": [
      "Iteration:  50%|█████     | 503/1001 [00:11<00:11, 44.73it/s]\n",
      "Iteration:  66%|██████▌   | 663/1001 [00:15<00:07, 44.81it/s]\n",
      "Iteration:   0%|          | 0/1001 [00:00<?, ?it/s]"
     ]
    },
    {
     "name": "stdout",
     "output_type": "stream",
     "text": [
      "{'Train':  best_epoch_indx:0\n",
      " auc:0.8222320180099109 \n",
      " apur:0.35163221126271527 \n",
      " f1:0.4161169201189821 \n",
      " precision:0.27700283801079556 \n",
      " recall:0.8359315961823729 \n",
      ", 'Validation':  best_epoch_indx:0\n",
      " auc:0.8222165398277945 \n",
      " apur:0.35774932780777136 \n",
      " f1:0.4170010030090271 \n",
      " precision:0.2775830412285094 \n",
      " recall:0.8377833753148615 \n",
      "}\n",
      "=====Epoch 1\n",
      "Training...\n"
     ]
    },
    {
     "name": "stderr",
     "output_type": "stream",
     "text": [
      "Iteration: 100%|██████████| 1001/1001 [00:22<00:00, 43.83it/s]\n",
      "Iteration: 100%|██████████| 1001/1001 [00:22<00:00, 43.70it/s]\n",
      "Iteration:  90%|████████▉ | 898/1001 [00:20<00:02, 44.18it/s]"
     ]
    },
    {
     "name": "stdout",
     "output_type": "stream",
     "text": [
      "Evaluating...\n",
      "Evaluating...\n"
     ]
    },
    {
     "name": "stderr",
     "output_type": "stream",
     "text": [
      "Iteration: 100%|██████████| 1001/1001 [00:22<00:00, 43.76it/s]\n",
      "Iteration:  72%|███████▏  | 723/1001 [00:16<00:06, 44.49it/s]"
     ]
    },
    {
     "name": "stdout",
     "output_type": "stream",
     "text": [
      "Evaluating...\n"
     ]
    },
    {
     "name": "stderr",
     "output_type": "stream",
     "text": [
      "Iteration: 100%|██████████| 1001/1001 [00:23<00:00, 43.43it/s]\n",
      "Iteration:   0%|          | 4/1001 [00:00<00:26, 38.16it/s]s]"
     ]
    },
    {
     "name": "stdout",
     "output_type": "stream",
     "text": [
      "Evaluating...\n"
     ]
    },
    {
     "name": "stderr",
     "output_type": "stream",
     "text": [
      "Iteration: 100%|██████████| 1001/1001 [00:23<00:00, 43.18it/s]\n",
      "Iteration:  31%|███▏      | 313/1001 [00:06<00:14, 48.68it/s]"
     ]
    },
    {
     "name": "stdout",
     "output_type": "stream",
     "text": [
      "Evaluating...\n"
     ]
    },
    {
     "name": "stderr",
     "output_type": "stream",
     "text": [
      "Iteration:  76%|███████▌  | 758/1001 [00:14<00:03, 73.58it/s]]\n",
      "Iteration:   0%|          | 0/112 [00:00<?, ?it/s]\n",
      "Iteration:  56%|█████▋    | 564/1001 [00:10<00:08, 50.08it/s]\n",
      "Iteration:  61%|██████    | 68/112 [00:01<00:00, 58.35it/s]s]\n",
      "Iteration:   0%|          | 0/1001 [00:00<?, ?it/s]\n",
      "Iteration:  93%|█████████▎| 935/1001 [00:17<00:01, 55.26it/s]"
     ]
    },
    {
     "name": "stdout",
     "output_type": "stream",
     "text": [
      "{'Train':  best_epoch_indx:1\n",
      " auc:0.823429960699257 \n",
      " apur:0.35859856443654914 \n",
      " f1:0.41779416368126326 \n",
      " precision:0.2779886323662822 \n",
      " recall:0.8404937165887655 \n",
      ", 'Validation':  best_epoch_indx:1\n",
      " auc:0.8261272591017859 \n",
      " apur:0.3647827867526654 \n",
      " f1:0.4174915424132315 \n",
      " precision:0.2778519012675117 \n",
      " recall:0.839294710327456 \n",
      "}\n",
      "=====Epoch 2\n",
      "Training...\n",
      "{'Train':  best_epoch_indx:1\n",
      " auc:0.8254859372788589 \n",
      " apur:0.3610995741387685 \n",
      " f1:0.4156397908071037 \n",
      " precision:0.2758106016903369 \n",
      " recall:0.843040667245095 \n",
      ", 'Validation':  best_epoch_indx:1\n",
      " auc:0.8227184195893951 \n",
      " apur:0.366767514256781 \n",
      " f1:0.41533109703068705 \n",
      " precision:0.27564313984168864 \n",
      " recall:0.8420654911838791 \n",
      "}\n",
      "=====Epoch 2\n",
      "Training...\n"
     ]
    },
    {
     "name": "stderr",
     "output_type": "stream",
     "text": [
      "Iteration:  72%|███████▏  | 724/1001 [00:13<00:05, 46.70it/s]]\n",
      "Iteration:  73%|███████▎  | 730/1001 [00:13<00:05, 47.53it/s]"
     ]
    },
    {
     "name": "stdout",
     "output_type": "stream",
     "text": [
      "{'Train':  best_epoch_indx:1\n",
      " auc:0.8243789443990346 \n",
      " apur:0.35627078650406774 \n",
      " f1:0.4245466487601182 \n",
      " precision:0.2877164712084589 \n",
      " recall:0.8095438007276798 \n",
      ", 'Validation':  best_epoch_indx:1\n",
      " auc:0.8229726916209544 \n",
      " apur:0.3642247037668894 \n",
      " f1:0.42265996827075625 \n",
      " precision:0.28652088187847286 \n",
      " recall:0.8052896725440806 \n",
      "}\n",
      "=====Epoch 2\n",
      "Training...\n"
     ]
    },
    {
     "name": "stderr",
     "output_type": "stream",
     "text": [
      "Iteration:  19%|█▉        | 192/1001 [00:04<00:17, 45.21it/s]\n",
      "Iteration:  22%|██▏       | 223/1001 [00:05<00:17, 44.71it/s]\n",
      "Iteration:  98%|█████████▊| 983/1001 [00:18<00:00, 46.95it/s]"
     ]
    },
    {
     "name": "stdout",
     "output_type": "stream",
     "text": [
      "{'Train':  best_epoch_indx:1\n",
      " auc:0.8239563209742824 \n",
      " apur:0.3552139659754588 \n",
      " f1:0.42364496020929404 \n",
      " precision:0.2866722050795158 \n",
      " recall:0.8112737552128523 \n",
      ", 'Validation':  best_epoch_indx:1\n",
      " auc:0.8234878614140713 \n",
      " apur:0.3585014090639023 \n",
      " f1:0.42158538188510586 \n",
      " precision:0.2852187833511206 \n",
      " recall:0.8078085642317381 \n",
      "}\n",
      "=====Epoch 2\n",
      "Training...\n"
     ]
    },
    {
     "name": "stderr",
     "output_type": "stream",
     "text": [
      "Iteration:  15%|█▌        | 153/1001 [00:03<00:19, 43.07it/s]]\n",
      "Iteration:  29%|██▉       | 293/1001 [00:06<00:16, 43.76it/s]\n",
      "Iteration:  53%|█████▎    | 528/1001 [00:11<00:10, 44.80it/s]"
     ]
    },
    {
     "name": "stdout",
     "output_type": "stream",
     "text": [
      "{'Train':  best_epoch_indx:1\n",
      " auc:0.8224681371157117 \n",
      " apur:0.35676480321966353 \n",
      " f1:0.42332084491139577 \n",
      " precision:0.28678574266867995 \n",
      " recall:0.807999104369 \n",
      ", 'Validation':  best_epoch_indx:1\n",
      " auc:0.8215344753531845 \n",
      " apur:0.3582987801703937 \n",
      " f1:0.4238498149127446 \n",
      " precision:0.28732747804265996 \n",
      " recall:0.8075566750629722 \n",
      "}\n",
      "=====Epoch 2\n",
      "Training...\n"
     ]
    },
    {
     "name": "stderr",
     "output_type": "stream",
     "text": [
      "Iteration: 100%|██████████| 1001/1001 [00:22<00:00, 43.73it/s]\n",
      "Iteration:   0%|          | 0/1001 [00:00<?, ?it/s]\n",
      "Iteration:  92%|█████████▏| 918/1001 [00:21<00:01, 42.54it/s]"
     ]
    },
    {
     "name": "stdout",
     "output_type": "stream",
     "text": [
      "Evaluating...\n",
      "Evaluating...\n"
     ]
    },
    {
     "name": "stderr",
     "output_type": "stream",
     "text": [
      "Iteration: 100%|██████████| 1001/1001 [00:23<00:00, 43.44it/s]\n",
      "Iteration:  11%|█         | 111/1001 [00:02<00:17, 50.09it/s]"
     ]
    },
    {
     "name": "stdout",
     "output_type": "stream",
     "text": [
      "Evaluating...\n"
     ]
    },
    {
     "name": "stderr",
     "output_type": "stream",
     "text": [
      "Iteration: 100%|██████████| 1001/1001 [00:23<00:00, 43.09it/s]\n",
      "Iteration:  72%|███████▏  | 718/1001 [00:16<00:06, 43.46it/s]"
     ]
    },
    {
     "name": "stdout",
     "output_type": "stream",
     "text": [
      "Evaluating...\n"
     ]
    },
    {
     "name": "stderr",
     "output_type": "stream",
     "text": [
      "Iteration: 100%|██████████| 1001/1001 [00:23<00:00, 42.87it/s]\n",
      "Iteration:  69%|██████▊   | 687/1001 [00:14<00:08, 36.05it/s]"
     ]
    },
    {
     "name": "stdout",
     "output_type": "stream",
     "text": [
      "Evaluating...\n"
     ]
    },
    {
     "name": "stderr",
     "output_type": "stream",
     "text": [
      "Iteration:  51%|█████     | 509/1001 [00:09<00:06, 74.11it/s]]\n",
      "Iteration:  12%|█▏        | 13/112 [00:00<00:01, 61.70it/s]s]\n",
      "Iteration:  72%|███████▏  | 81/112 [00:01<00:00, 53.56it/s]s]\n",
      "Iteration:  64%|██████▍   | 639/1001 [00:12<00:07, 48.30it/s]\n",
      "Iteration:  96%|█████████▌| 963/1001 [00:19<00:00, 47.95it/s]"
     ]
    },
    {
     "name": "stdout",
     "output_type": "stream",
     "text": [
      "{'Train':  best_epoch_indx:2\n",
      " auc:0.8238564961308726 \n",
      " apur:0.35605643543385795 \n",
      " f1:0.4171518882049576 \n",
      " precision:0.27723775740544526 \n",
      " recall:0.8421730247138179 \n",
      ", 'Validation':  best_epoch_indx:2\n",
      " auc:0.8227938269110752 \n",
      " apur:0.35469584329503956 \n",
      " f1:0.4168431543540551 \n",
      " precision:0.2768950678583251 \n",
      " recall:0.8428211586901764 \n",
      "}\n",
      "=====Epoch 3\n",
      "Training...\n"
     ]
    },
    {
     "name": "stderr",
     "output_type": "stream",
     "text": [
      "\r",
      "Iteration:  64%|██████▍   | 644/1001 [00:12<00:07, 47.51it/s]\r",
      "Iteration:   0%|          | 4/1001 [00:00<00:30, 32.88it/s]\r",
      "Iteration:  38%|███▊      | 42/112 [00:00<00:01, 52.61it/s]\r",
      "Iteration:  97%|█████████▋| 969/1001 [00:19<00:00, 49.70it/s]\r",
      "Iteration:  65%|██████▍   | 650/1001 [00:12<00:06, 50.55it/s]\r",
      "Iteration:   1%|          | 9/1001 [00:00<00:27, 36.71it/s]\r",
      "Iteration:  43%|████▎     | 48/112 [00:00<00:01, 50.96it/s]\r",
      "Iteration:  97%|█████████▋| 975/1001 [00:19<00:00, 51.11it/s]\n",
      "\r",
      "Iteration:   0%|          | 0/1001 [00:00<?, ?it/s]"
     ]
    },
    {
     "name": "stdout",
     "output_type": "stream",
     "text": [
      "{'Train':  best_epoch_indx:2\n",
      " auc:0.8222647660631575 \n",
      " apur:0.34633490162385155 \n",
      " f1:0.4142959236964349 \n",
      " precision:0.27455712919531855 \n",
      " recall:0.843712390495116 \n",
      ", 'Validation':  best_epoch_indx:2\n",
      " auc:0.8222732656766014 \n",
      " apur:0.35771934233120367 \n",
      " f1:0.41387397395544034 \n",
      " precision:0.27409466197989046 \n",
      " recall:0.8445843828715365 \n",
      "}\n",
      "=====Epoch 3\n",
      "Training...\n"
     ]
    },
    {
     "name": "stderr",
     "output_type": "stream",
     "text": [
      "Iteration:  76%|███████▌  | 759/1001 [00:14<00:04, 52.65it/s]]\n",
      "Iteration:  77%|███████▋  | 766/1001 [00:14<00:04, 56.08it/s]"
     ]
    },
    {
     "name": "stdout",
     "output_type": "stream",
     "text": [
      "{'Train':  best_epoch_indx:2\n",
      " auc:0.8249381764051541 \n",
      " apur:0.3601713429511162 \n",
      " f1:0.41541434390335447 \n",
      " precision:0.2763372050011097 \n",
      " recall:0.8363280156731039 \n",
      ", 'Validation':  best_epoch_indx:2\n",
      " auc:0.8213111333949735 \n",
      " apur:0.3648897982086499 \n",
      " f1:0.4130040637699281 \n",
      " precision:0.2746777546777547 \n",
      " recall:0.8319899244332494 \n",
      "}\n",
      "=====Epoch 3\n",
      "Training...\n"
     ]
    },
    {
     "name": "stderr",
     "output_type": "stream",
     "text": [
      "Iteration:  83%|████████▎ | 834/1001 [00:16<00:03, 49.84it/s]\n",
      "Iteration:  99%|█████████▉| 993/1001 [00:19<00:00, 47.86it/s]\n",
      "Iteration:   0%|          | 0/1001 [00:00<?, ?it/s]"
     ]
    },
    {
     "name": "stdout",
     "output_type": "stream",
     "text": [
      "{'Train':  best_epoch_indx:2\n",
      " auc:0.8257269440713354 \n",
      " apur:0.3594266705974451 \n",
      " f1:0.4302260540113213 \n",
      " precision:0.29325701039103647 \n",
      " recall:0.8072714041814772 \n",
      ", 'Validation':  best_epoch_indx:2\n",
      " auc:0.827026099804751 \n",
      " apur:0.3681279635614825 \n",
      " f1:0.43211206896551724 \n",
      " precision:0.29490715205000917 \n",
      " recall:0.8080604534005038 \n",
      "}\n",
      "=====Epoch 3\n",
      "Training...\n"
     ]
    },
    {
     "name": "stderr",
     "output_type": "stream",
     "text": [
      "Iteration:  45%|████▌     | 454/1001 [00:10<00:12, 44.64it/s]]\n",
      "Iteration:  59%|█████▉    | 589/1001 [00:13<00:09, 41.52it/s]"
     ]
    },
    {
     "name": "stdout",
     "output_type": "stream",
     "text": [
      "{'Train':  best_epoch_indx:2\n",
      " auc:0.8246397875711626 \n",
      " apur:0.36724936020780363 \n",
      " f1:0.4325717544193119 \n",
      " precision:0.2969539437972358 \n",
      " recall:0.7961879705561309 \n",
      ", 'Validation':  best_epoch_indx:2\n",
      " auc:0.8243842035396827 \n",
      " apur:0.3734487266466468 \n",
      " f1:0.4331601968288682 \n",
      " precision:0.29722378540611516 \n",
      " recall:0.7982367758186398 \n",
      "}\n",
      "=====Epoch 3\n",
      "Training...\n"
     ]
    },
    {
     "name": "stderr",
     "output_type": "stream",
     "text": [
      "\n",
      "Iteration: 100%|██████████| 1001/1001 [00:22<00:00, 43.70it/s]\n",
      "Iteration:  69%|██████▉   | 689/1001 [00:15<00:07, 43.76it/s]"
     ]
    },
    {
     "name": "stdout",
     "output_type": "stream",
     "text": [
      "Evaluating...\n",
      "Evaluating...\n"
     ]
    },
    {
     "name": "stderr",
     "output_type": "stream",
     "text": [
      "Iteration: 100%|██████████| 1001/1001 [00:22<00:00, 43.97it/s]\n",
      "Iteration: 100%|██████████| 1001/1001 [00:22<00:00, 43.73it/s]\n",
      "Iteration:  51%|█████     | 513/1001 [00:11<00:10, 44.62it/s]"
     ]
    },
    {
     "name": "stdout",
     "output_type": "stream",
     "text": [
      "Evaluating...\n"
     ]
    },
    {
     "name": "stderr",
     "output_type": "stream",
     "text": [
      "Iteration: 100%|██████████| 1001/1001 [00:23<00:00, 43.40it/s]\n",
      "Iteration:  36%|███▌      | 361/1001 [00:07<00:13, 47.07it/s]"
     ]
    },
    {
     "name": "stdout",
     "output_type": "stream",
     "text": [
      "Evaluating...\n"
     ]
    },
    {
     "name": "stderr",
     "output_type": "stream",
     "text": [
      "Iteration: 100%|██████████| 1001/1001 [00:23<00:00, 43.06it/s]\n",
      "Iteration:  31%|███▏      | 314/1001 [00:06<00:13, 49.25it/s]"
     ]
    },
    {
     "name": "stdout",
     "output_type": "stream",
     "text": [
      "Evaluating...\n"
     ]
    },
    {
     "name": "stderr",
     "output_type": "stream",
     "text": [
      "Iteration:  51%|█████▏    | 514/1001 [00:09<00:06, 70.67it/s]]\n",
      "Iteration:  84%|████████▍ | 842/1001 [00:17<00:02, 60.51it/s]\n",
      "Iteration:  95%|█████████▍| 950/1001 [00:19<00:00, 56.04it/s]\n",
      "Iteration:  31%|███▏      | 35/112 [00:00<00:01, 62.42it/s]s]\n",
      "Iteration:  98%|█████████▊| 985/1001 [00:19<00:00, 53.63it/s]"
     ]
    },
    {
     "name": "stdout",
     "output_type": "stream",
     "text": [
      "{'Train':  best_epoch_indx:3\n",
      " auc:0.8264254457771878 \n",
      " apur:0.36417841656500993 \n",
      " f1:0.4252275211954908 \n",
      " precision:0.28680535208516456 \n",
      " recall:0.8219093733381847 \n",
      ", 'Validation':  best_epoch_indx:3\n",
      " auc:0.8259766330303011 \n",
      " apur:0.37143527501959944 \n",
      " f1:0.4255679229317191 \n",
      " precision:0.2869305714034934 \n",
      " recall:0.8234256926952142 \n",
      "}\n",
      "=====Epoch 4\n",
      "Training...\n"
     ]
    },
    {
     "name": "stderr",
     "output_type": "stream",
     "text": [
      "Iteration: 100%|██████████| 1001/1001 [00:20<00:00, 49.58it/s]\n",
      "Iteration:  54%|█████▎    | 60/112 [00:01<00:00, 57.58it/s]s]"
     ]
    },
    {
     "name": "stdout",
     "output_type": "stream",
     "text": [
      "{'Train':  best_epoch_indx:3\n",
      " auc:0.8279256293531032 \n",
      " apur:0.36378686132508875 \n",
      " f1:0.4233565197559725 \n",
      " precision:0.2839945306598587 \n",
      " recall:0.8312855103697276 \n",
      ", 'Validation':  best_epoch_indx:3\n",
      " auc:0.8290365331437787 \n",
      " apur:0.374731631420386 \n",
      " f1:0.4231485644550067 \n",
      " precision:0.2839899991378567 \n",
      " recall:0.8297229219143577 \n",
      "}\n",
      "=====Epoch 4\n",
      "Training...\n"
     ]
    },
    {
     "name": "stderr",
     "output_type": "stream",
     "text": [
      "Iteration:  78%|███████▊  | 776/1001 [00:14<00:03, 58.30it/s]\n",
      "Iteration:   0%|          | 3/1001 [00:00<00:36, 27.50it/s]s]"
     ]
    },
    {
     "name": "stdout",
     "output_type": "stream",
     "text": [
      "{'Train':  best_epoch_indx:3\n",
      " auc:0.826223654609187 \n",
      " apur:0.35523108419942295 \n",
      " f1:0.4344601038465614 \n",
      " precision:0.29775490724986514 \n",
      " recall:0.8032465715085363 \n",
      ", 'Validation':  best_epoch_indx:3\n",
      " auc:0.8233237181676745 \n",
      " apur:0.36062795522986946 \n",
      " f1:0.43268376068376074 \n",
      " precision:0.2969497888315345 \n",
      " recall:0.7969773299748111 \n",
      "}\n",
      "=====Epoch 4\n",
      "Training...\n"
     ]
    },
    {
     "name": "stderr",
     "output_type": "stream",
     "text": [
      "Iteration:  87%|████████▋ | 868/1001 [00:16<00:02, 53.81it/s]\n",
      "Iteration:  21%|██        | 207/1001 [00:04<00:17, 44.94it/s]]\n",
      "Iteration:   0%|          | 0/1001 [00:00<?, ?it/s]"
     ]
    },
    {
     "name": "stdout",
     "output_type": "stream",
     "text": [
      "{'Train':  best_epoch_indx:3\n",
      " auc:0.8267885230498586 \n",
      " apur:0.3644937250746053 \n",
      " f1:0.4305416453376659 \n",
      " precision:0.29291165307276107 \n",
      " recall:0.8121413977441294 \n",
      ", 'Validation':  best_epoch_indx:3\n",
      " auc:0.8274472450891812 \n",
      " apur:0.3697102087039242 \n",
      " f1:0.43016201080072003 \n",
      " precision:0.29250158672590443 \n",
      " recall:0.8125944584382871 \n",
      "}\n",
      "=====Epoch 4\n",
      "Training...\n"
     ]
    },
    {
     "name": "stderr",
     "output_type": "stream",
     "text": [
      "Iteration:  33%|███▎      | 327/1001 [00:07<00:14, 44.96it/s]\n",
      "Iteration:  22%|██▏       | 224/1001 [00:05<00:17, 44.68it/s]\n",
      "Iteration:  45%|████▍     | 447/1001 [00:10<00:12, 44.75it/s]"
     ]
    },
    {
     "name": "stdout",
     "output_type": "stream",
     "text": [
      "{'Train':  best_epoch_indx:3\n",
      " auc:0.8286175899068603 \n",
      " apur:0.36826721391882317 \n",
      " f1:0.42906271219854114 \n",
      " precision:0.2902499259112911 \n",
      " recall:0.8223571888381986 \n",
      ", 'Validation':  best_epoch_indx:3\n",
      " auc:0.8266889932910413 \n",
      " apur:0.3698266623976204 \n",
      " f1:0.42817752100840334 \n",
      " precision:0.2895578050079915 \n",
      " recall:0.8214105793450882 \n",
      "}\n",
      "=====Epoch 4\n",
      "Training...\n"
     ]
    },
    {
     "name": "stderr",
     "output_type": "stream",
     "text": [
      "Iteration: 100%|██████████| 1001/1001 [00:22<00:00, 43.62it/s]\n",
      "Iteration:  93%|█████████▎| 927/1001 [00:21<00:01, 43.94it/s]"
     ]
    },
    {
     "name": "stdout",
     "output_type": "stream",
     "text": [
      "Evaluating...\n"
     ]
    },
    {
     "name": "stderr",
     "output_type": "stream",
     "text": [
      "Iteration: 100%|██████████| 1001/1001 [00:22<00:00, 43.63it/s]\n",
      "Iteration:  95%|█████████▍| 947/1001 [00:21<00:01, 44.63it/s]"
     ]
    },
    {
     "name": "stdout",
     "output_type": "stream",
     "text": [
      "Evaluating...\n"
     ]
    },
    {
     "name": "stderr",
     "output_type": "stream",
     "text": [
      "Iteration: 100%|██████████| 1001/1001 [00:23<00:00, 43.49it/s]\n",
      "Iteration:   9%|▉         | 91/1001 [00:01<00:16, 54.46it/s]]"
     ]
    },
    {
     "name": "stdout",
     "output_type": "stream",
     "text": [
      "Evaluating...\n"
     ]
    },
    {
     "name": "stderr",
     "output_type": "stream",
     "text": [
      "Iteration: 100%|██████████| 1001/1001 [00:23<00:00, 43.31it/s]\n",
      "Iteration:  32%|███▏      | 321/1001 [00:06<00:14, 47.20it/s]"
     ]
    },
    {
     "name": "stdout",
     "output_type": "stream",
     "text": [
      "Evaluating...\n"
     ]
    },
    {
     "name": "stderr",
     "output_type": "stream",
     "text": [
      "Iteration: 100%|██████████| 1001/1001 [00:23<00:00, 43.20it/s]\n",
      "Iteration:  59%|█████▉    | 591/1001 [00:12<00:09, 45.04it/s]"
     ]
    },
    {
     "name": "stdout",
     "output_type": "stream",
     "text": [
      "Evaluating...\n"
     ]
    },
    {
     "name": "stderr",
     "output_type": "stream",
     "text": [
      "Iteration:  86%|████████▌ | 859/1001 [00:17<00:01, 71.15it/s]]\n",
      "Iteration:  89%|████████▊ | 888/1001 [00:17<00:01, 66.33it/s]\n",
      "Iteration:  56%|█████▋    | 63/112 [00:01<00:00, 55.42it/s]s]\n",
      "Iteration:  74%|███████▍  | 739/1001 [00:14<00:05, 51.77it/s]\n",
      "Iteration:  38%|███▊      | 42/112 [00:00<00:01, 51.48it/s]]]"
     ]
    },
    {
     "name": "stdout",
     "output_type": "stream",
     "text": [
      "{'Train':  best_epoch_indx:4\n",
      " auc:0.8290179341131474 \n",
      " apur:0.363870871872581 \n",
      " f1:0.43741457641354564 \n",
      " precision:0.30075811667856694 \n",
      " recall:0.8016737104313023 \n",
      ", 'Validation':  best_epoch_indx:4\n",
      " auc:0.8289384757683853 \n",
      " apur:0.3635557385271377 \n",
      " f1:0.4375772558714462 \n",
      " precision:0.3007930513595166 \n",
      " recall:0.8025188916876574 \n",
      "}\n",
      "=====Epoch 5\n",
      "Training...\n"
     ]
    },
    {
     "name": "stderr",
     "output_type": "stream",
     "text": [
      "Iteration:  60%|█████▉    | 67/112 [00:01<00:00, 56.41it/s]]]]\n",
      "Iteration:   0%|          | 0/1001 [00:00<?, ?it/s]"
     ]
    },
    {
     "name": "stdout",
     "output_type": "stream",
     "text": [
      "{'Train':  best_epoch_indx:4\n",
      " auc:0.8276267454945877 \n",
      " apur:0.3664487945920359 \n",
      " f1:0.42142735576104834 \n",
      " precision:0.28221907737897367 \n",
      " recall:0.831649360463489 \n",
      ", 'Validation':  best_epoch_indx:4\n",
      " auc:0.8281755739592183 \n",
      " apur:0.37117750149674267 \n",
      " f1:0.4218172550019116 \n",
      " precision:0.2823268509041283 \n",
      " recall:0.8337531486146096 \n",
      "}\n",
      "=====Epoch 5\n",
      "Training...\n"
     ]
    },
    {
     "name": "stderr",
     "output_type": "stream",
     "text": [
      "Iteration:   7%|▋         | 73/1001 [00:01<00:21, 43.39it/s]]\n",
      "Iteration:   0%|          | 4/1001 [00:00<00:30, 33.21it/s]]]"
     ]
    },
    {
     "name": "stdout",
     "output_type": "stream",
     "text": [
      "{'Train':  best_epoch_indx:4\n",
      " auc:0.8285827986342961 \n",
      " apur:0.36782913249041216 \n",
      " f1:0.42850152279815074 \n",
      " precision:0.2899030527033571 \n",
      " recall:0.8210187517492303 \n",
      ", 'Validation':  best_epoch_indx:4\n",
      " auc:0.8264180112198551 \n",
      " apur:0.37761301676437764 \n",
      " f1:0.42888143618070623 \n",
      " precision:0.2902020112129572 \n",
      " recall:0.8214105793450882 \n",
      "}\n",
      "=====Epoch 5\n",
      "Training...\n"
     ]
    },
    {
     "name": "stderr",
     "output_type": "stream",
     "text": [
      "Iteration:   5%|▍         | 49/1001 [00:01<00:21, 44.69it/s]]\n",
      "Iteration:  26%|██▋       | 263/1001 [00:06<00:16, 45.12it/s]]\n",
      "Iteration:  29%|██▉       | 294/1001 [00:06<00:15, 45.03it/s]"
     ]
    },
    {
     "name": "stdout",
     "output_type": "stream",
     "text": [
      "{'Train':  best_epoch_indx:4\n",
      " auc:0.8299393764031167 \n",
      " apur:0.37499016391314133 \n",
      " f1:0.43417392219665873 \n",
      " precision:0.2968244014269119 \n",
      " recall:0.8081110582440034 \n",
      ", 'Validation':  best_epoch_indx:4\n",
      " auc:0.8304950166024678 \n",
      " apur:0.3787022296511833 \n",
      " f1:0.4354718515005759 \n",
      " precision:0.29784079325363727 \n",
      " recall:0.8095717884130983 \n",
      "}\n",
      "=====Epoch 5\n",
      "Training...\n"
     ]
    },
    {
     "name": "stderr",
     "output_type": "stream",
     "text": [
      "Iteration:   7%|▋         | 68/1001 [00:01<00:20, 44.50it/s]]\n",
      "Iteration:  37%|███▋      | 369/1001 [00:08<00:14, 44.82it/s]"
     ]
    },
    {
     "name": "stdout",
     "output_type": "stream",
     "text": [
      "{'Train':  best_epoch_indx:4\n",
      " auc:0.8272810027404826 \n",
      " apur:0.36856013860413617 \n",
      " f1:0.42763066533156946 \n",
      " precision:0.2893856959145316 \n",
      " recall:0.8187746648380867 \n",
      ", 'Validation':  best_epoch_indx:4\n",
      " auc:0.8247740458927374 \n",
      " apur:0.36705030306720415 \n",
      " f1:0.4263479345898733 \n",
      " precision:0.2883539131207249 \n",
      " recall:0.8176322418136021 \n",
      "}\n",
      "=====Epoch 5\n",
      "Training...\n"
     ]
    },
    {
     "name": "stderr",
     "output_type": "stream",
     "text": [
      "\n",
      "Iteration: 100%|██████████| 1001/1001 [00:22<00:00, 43.72it/s]\n",
      "Iteration:   0%|          | 5/1001 [00:00<00:24, 40.02it/s]s]"
     ]
    },
    {
     "name": "stdout",
     "output_type": "stream",
     "text": [
      "Evaluating...\n"
     ]
    },
    {
     "name": "stderr",
     "output_type": "stream",
     "text": [
      "\r",
      "Iteration:  91%|█████████ | 909/1001 [00:20<00:02, 43.06it/s]\r",
      "Iteration:  99%|█████████▉| 993/1001 [00:22<00:00, 44.43it/s]\r",
      "Iteration:   1%|          | 10/1001 [00:00<00:22, 45.01it/s]\r",
      "Iteration:  72%|███████▏  | 718/1001 [00:16<00:06, 44.33it/s]\r",
      "Iteration:  54%|█████▍    | 539/1001 [00:12<00:10, 44.18it/s]\r",
      "Iteration:  91%|█████████▏| 914/1001 [00:20<00:01, 44.25it/s]\r",
      "Iteration: 100%|█████████▉| 998/1001 [00:22<00:00, 44.62it/s]\r",
      "Iteration:   2%|▏         | 16/1001 [00:00<00:19, 49.60it/s]\r",
      "Iteration:  72%|███████▏  | 723/1001 [00:16<00:06, 44.51it/s]\r",
      "Iteration:  54%|█████▍    | 544/1001 [00:12<00:10, 43.65it/s]"
     ]
    },
    {
     "name": "stdout",
     "output_type": "stream",
     "text": [
      "Evaluating...\n"
     ]
    },
    {
     "name": "stderr",
     "output_type": "stream",
     "text": [
      "Iteration: 100%|██████████| 1001/1001 [00:22<00:00, 43.92it/s]\n",
      "Iteration: 100%|██████████| 1001/1001 [00:22<00:00, 43.61it/s]\n",
      "Iteration:  10%|█         | 101/1001 [00:01<00:17, 50.41it/s]"
     ]
    },
    {
     "name": "stdout",
     "output_type": "stream",
     "text": [
      "Evaluating...\n"
     ]
    },
    {
     "name": "stderr",
     "output_type": "stream",
     "text": [
      "Iteration: 100%|██████████| 1001/1001 [00:23<00:00, 43.30it/s]\n",
      "Iteration:  83%|████████▎ | 829/1001 [00:19<00:03, 44.58it/s]"
     ]
    },
    {
     "name": "stdout",
     "output_type": "stream",
     "text": [
      "Evaluating...\n"
     ]
    },
    {
     "name": "stderr",
     "output_type": "stream",
     "text": [
      "Iteration: 100%|██████████| 1001/1001 [00:23<00:00, 43.11it/s]\n",
      "Iteration:  53%|█████▎    | 528/1001 [00:10<00:10, 45.01it/s]"
     ]
    },
    {
     "name": "stdout",
     "output_type": "stream",
     "text": [
      "Evaluating...\n"
     ]
    },
    {
     "name": "stderr",
     "output_type": "stream",
     "text": [
      "Iteration:  67%|██████▋   | 671/1001 [00:13<00:04, 67.27it/s]]\n",
      "Iteration:  14%|█▍        | 16/112 [00:00<00:01, 69.06it/s]s]\n",
      "Iteration:  76%|███████▌  | 763/1001 [00:15<00:04, 51.78it/s]\n",
      "Iteration:  64%|██████▍   | 72/112 [00:01<00:00, 59.46it/s]s]]\n",
      "Iteration:   0%|          | 4/1001 [00:00<00:28, 35.17it/s]s]"
     ]
    },
    {
     "name": "stdout",
     "output_type": "stream",
     "text": [
      "{'Train':  best_epoch_indx:5\n",
      " auc:0.831999049225328 \n",
      " apur:0.3801013006788585 \n",
      " f1:0.42515880572411147 \n",
      " precision:0.2849089125693988 \n",
      " recall:0.8373590080886675 \n",
      ", 'Validation':  best_epoch_indx:5\n",
      " auc:0.8305037894804151 \n",
      " apur:0.3879003481196567 \n",
      " f1:0.4241571236645128 \n",
      " precision:0.2842809364548495 \n",
      " recall:0.8350125944584383 \n",
      "}\n",
      "=====Epoch 6\n",
      "Training...\n"
     ]
    },
    {
     "name": "stderr",
     "output_type": "stream",
     "text": [
      "\r",
      "Iteration:  84%|████████▍ | 845/1001 [00:16<00:02, 55.25it/s]\r",
      "Iteration:  77%|███████▋  | 86/112 [00:01<00:00, 59.38it/s]\r",
      "Iteration:   1%|          | 9/1001 [00:00<00:25, 39.17it/s]\n",
      "\r",
      "Iteration:   0%|          | 0/1001 [00:00<?, ?it/s]\r",
      "Iteration:  85%|████████▌ | 851/1001 [00:17<00:02, 53.35it/s]\r",
      "Iteration:  82%|████████▏ | 92/112 [00:01<00:00, 57.20it/s]\r",
      "Iteration:   1%|▏         | 13/1001 [00:00<00:25, 39.18it/s]\r",
      "Iteration:   0%|          | 4/1001 [00:00<00:29, 34.11it/s]"
     ]
    },
    {
     "name": "stdout",
     "output_type": "stream",
     "text": [
      "{'Train':  best_epoch_indx:5\n",
      " auc:0.8329338595205531 \n",
      " apur:0.3777561890412091 \n",
      " f1:0.42651552559450967 \n",
      " precision:0.2865164218137066 \n",
      " recall:0.8340563687760643 \n",
      ", 'Validation':  best_epoch_indx:5\n",
      " auc:0.835315415176556 \n",
      " apur:0.38896965794552274 \n",
      " f1:0.4263246100296506 \n",
      " precision:0.28646916146916146 \n",
      " recall:0.8329974811083123 \n",
      "}\n",
      "=====Epoch 6\n",
      "Training...\n"
     ]
    },
    {
     "name": "stderr",
     "output_type": "stream",
     "text": [
      "Iteration:  92%|█████████▏| 918/1001 [00:18<00:01, 51.04it/s]\n",
      "Iteration:   6%|▋         | 64/1001 [00:01<00:21, 43.92it/s]]"
     ]
    },
    {
     "name": "stdout",
     "output_type": "stream",
     "text": [
      "{'Train':  best_epoch_indx:5\n",
      " auc:0.8329251083077414 \n",
      " apur:0.37963092189283465 \n",
      " f1:0.4283904782703647 \n",
      " precision:0.28949232585596224 \n",
      " recall:0.8235096557514694 \n",
      ", 'Validation':  best_epoch_indx:5\n",
      " auc:0.8276134111975179 \n",
      " apur:0.3785881025996317 \n",
      " f1:0.4259781112785897 \n",
      " precision:0.28789086721587387 \n",
      " recall:0.818639798488665 \n",
      "}\n",
      "=====Epoch 6\n",
      "Training...\n"
     ]
    },
    {
     "name": "stderr",
     "output_type": "stream",
     "text": [
      "Iteration:  12%|█▏        | 122/1001 [00:02<00:22, 39.16it/s]\n",
      "Iteration:  26%|██▌       | 262/1001 [00:06<00:16, 44.95it/s]]\n",
      "Iteration:  26%|██▌       | 259/1001 [00:05<00:16, 44.60it/s]"
     ]
    },
    {
     "name": "stdout",
     "output_type": "stream",
     "text": [
      "{'Train':  best_epoch_indx:5\n",
      " auc:0.8321934668043808 \n",
      " apur:0.379941484674747 \n",
      " f1:0.42967925683801994 \n",
      " precision:0.2917535070140281 \n",
      " recall:0.8149402446192169 \n",
      ", 'Validation':  best_epoch_indx:5\n",
      " auc:0.8326404331187415 \n",
      " apur:0.38553662512830295 \n",
      " f1:0.43050757374435294 \n",
      " precision:0.292365998917163 \n",
      " recall:0.8161209068010076 \n",
      "}\n",
      "=====Epoch 6\n",
      "Training...\n"
     ]
    },
    {
     "name": "stderr",
     "output_type": "stream",
     "text": [
      "Iteration:  21%|██        | 209/1001 [00:04<00:17, 44.32it/s]\n",
      "Iteration:  35%|███▌      | 354/1001 [00:08<00:14, 44.48it/s]\n",
      "Iteration:   0%|          | 4/1001 [00:00<00:30, 32.31it/s]s]"
     ]
    },
    {
     "name": "stdout",
     "output_type": "stream",
     "text": [
      "{'Train':  best_epoch_indx:5\n",
      " auc:0.8345600332717367 \n",
      " apur:0.3857497063776152 \n",
      " f1:0.4354810704714453 \n",
      " precision:0.29816200793913333 \n",
      " recall:0.8072714041814772 \n",
      ", 'Validation':  best_epoch_indx:5\n",
      " auc:0.8314214445137112 \n",
      " apur:0.38959296474468885 \n",
      " f1:0.43571622723566183 \n",
      " precision:0.29834356970035364 \n",
      " recall:0.8075566750629722 \n",
      "}\n",
      "=====Epoch 6\n",
      "Training...\n"
     ]
    },
    {
     "name": "stderr",
     "output_type": "stream",
     "text": [
      "Iteration: 100%|██████████| 1001/1001 [00:23<00:00, 43.44it/s]\n",
      "Iteration: 100%|██████████| 1001/1001 [00:22<00:00, 43.85it/s]\n",
      "Iteration:   0%|          | 4/1001 [00:00<00:30, 32.98it/s]s]"
     ]
    },
    {
     "name": "stdout",
     "output_type": "stream",
     "text": [
      "Evaluating...\n",
      "Evaluating...\n"
     ]
    },
    {
     "name": "stderr",
     "output_type": "stream",
     "text": [
      "Iteration: 100%|██████████| 1001/1001 [00:22<00:00, 43.80it/s]\n",
      "Iteration:  80%|████████  | 804/1001 [00:18<00:04, 43.40it/s]"
     ]
    },
    {
     "name": "stdout",
     "output_type": "stream",
     "text": [
      "Evaluating...\n"
     ]
    },
    {
     "name": "stderr",
     "output_type": "stream",
     "text": [
      "Iteration: 100%|██████████| 1001/1001 [00:23<00:00, 43.33it/s]\n",
      "Iteration:  31%|███       | 308/1001 [00:06<00:15, 44.23it/s]"
     ]
    },
    {
     "name": "stdout",
     "output_type": "stream",
     "text": [
      "Evaluating...\n"
     ]
    },
    {
     "name": "stderr",
     "output_type": "stream",
     "text": [
      "Iteration: 100%|██████████| 1001/1001 [00:23<00:00, 43.18it/s]\n",
      "Iteration:  41%|████      | 409/1001 [00:08<00:12, 47.62it/s]"
     ]
    },
    {
     "name": "stdout",
     "output_type": "stream",
     "text": [
      "Evaluating...\n"
     ]
    },
    {
     "name": "stderr",
     "output_type": "stream",
     "text": [
      "Iteration:  89%|████████▉ | 894/1001 [00:17<00:01, 66.38it/s]]\n",
      "Iteration:  91%|█████████ | 908/1001 [00:18<00:01, 63.87it/s]\n",
      "Iteration:  60%|█████▉    | 67/112 [00:01<00:00, 54.64it/s]s]\n",
      "Iteration: 100%|██████████| 112/112 [00:01<00:00, 61.39it/s]]]\n",
      "Iteration:   0%|          | 0/1001 [00:00<?, ?it/s]"
     ]
    },
    {
     "name": "stdout",
     "output_type": "stream",
     "text": [
      "{'Train':  best_epoch_indx:6\n",
      " auc:0.8342705486233052 \n",
      " apur:0.38335259385107723 \n",
      " f1:0.4348687247762439 \n",
      " precision:0.2962493278819913 \n",
      " recall:0.8172912759942903 \n",
      ", 'Validation':  best_epoch_indx:6\n",
      " auc:0.8341369909534356 \n",
      " apur:0.3943584675043815 \n",
      " f1:0.43261320313022544 \n",
      " precision:0.29450869683999636 \n",
      " recall:0.8146095717884131 \n",
      "}\n",
      "=====Epoch 7\n",
      "Training...\n",
      "{'Train':  best_epoch_indx:6\n",
      " auc:0.8354585866264189 \n",
      " apur:0.39016719594524807 \n",
      " f1:0.43128010809540596 \n",
      " precision:0.29234322578076 \n",
      " recall:0.8218813848694337 \n",
      ", 'Validation':  best_epoch_indx:6\n",
      " auc:0.835964929573976 \n",
      " apur:0.397025735254261 \n",
      " f1:0.4296550359474969 \n",
      " precision:0.29103744080064337 \n",
      " recall:0.8204030226700252 \n",
      "}\n",
      "=====Epoch 7\n",
      "Training...\n"
     ]
    },
    {
     "name": "stderr",
     "output_type": "stream",
     "text": [
      "Iteration:   0%|          | 4/1001 [00:00<00:27, 36.40it/s]s]\n",
      "Iteration:   4%|▍         | 39/1001 [00:00<00:21, 43.98it/s]]\n",
      "Iteration:   3%|▎         | 34/1001 [00:00<00:22, 42.91it/s]]"
     ]
    },
    {
     "name": "stdout",
     "output_type": "stream",
     "text": [
      "{'Train':  best_epoch_indx:6\n",
      " auc:0.8354869069365422 \n",
      " apur:0.3918793408174427 \n",
      " f1:0.4302939565455542 \n",
      " precision:0.29111122091012404 \n",
      " recall:0.8244892247411139 \n",
      ", 'Validation':  best_epoch_indx:6\n",
      " auc:0.8325231499834701 \n",
      " apur:0.3930861540439553 \n",
      " f1:0.4313027426160338 \n",
      " precision:0.2921057331666369 \n",
      " recall:0.8239294710327456 \n",
      "}\n",
      "=====Epoch 7\n",
      "Training...\n"
     ]
    },
    {
     "name": "stderr",
     "output_type": "stream",
     "text": [
      "Iteration:   5%|▌         | 54/1001 [00:01<00:21, 44.74it/s]s]\n",
      "Iteration:  22%|██▏       | 224/1001 [00:05<00:17, 44.93it/s]\n",
      "Iteration:  22%|██▏       | 219/1001 [00:05<00:17, 45.06it/s]\n",
      "Iteration:  18%|█▊        | 184/1001 [00:04<00:18, 44.77it/s]"
     ]
    },
    {
     "name": "stdout",
     "output_type": "stream",
     "text": [
      "{'Train':  best_epoch_indx:6\n",
      " auc:0.8355258524897301 \n",
      " apur:0.38800569184715616 \n",
      " f1:0.4282062608166724 \n",
      " precision:0.2888304939043451 \n",
      " recall:0.8275350555571105 \n",
      ", 'Validation':  best_epoch_indx:6\n",
      " auc:0.8343096199342416 \n",
      " apur:0.3875288714873826 \n",
      " f1:0.42857142857142855 \n",
      " precision:0.28908035871285387 \n",
      " recall:0.8282115869017632 \n",
      "}\n",
      "=====Epoch 7\n",
      "Training...\n"
     ]
    },
    {
     "name": "stderr",
     "output_type": "stream",
     "text": [
      "Iteration:  29%|██▉       | 294/1001 [00:06<00:15, 44.93it/s]\n",
      "Iteration:  34%|███▍      | 344/1001 [00:07<00:14, 44.26it/s]"
     ]
    },
    {
     "name": "stdout",
     "output_type": "stream",
     "text": [
      "{'Train':  best_epoch_indx:6\n",
      " auc:0.8348673812738214 \n",
      " apur:0.38942631900675057 \n",
      " f1:0.43240847442602603 \n",
      " precision:0.2937286111417761 \n",
      " recall:0.8191665034005989 \n",
      ", 'Validation':  best_epoch_indx:6\n",
      " auc:0.8321717977216917 \n",
      " apur:0.3885461320188861 \n",
      " f1:0.4309553886044811 \n",
      " precision:0.2927468160057809 \n",
      " recall:0.8163727959697733 \n",
      "}\n",
      "=====Epoch 7\n",
      "Training...\n"
     ]
    },
    {
     "name": "stderr",
     "output_type": "stream",
     "text": [
      "Iteration: 100%|██████████| 1001/1001 [00:22<00:00, 43.91it/s]\n",
      "Iteration: 100%|██████████| 1001/1001 [00:22<00:00, 43.58it/s]\n",
      "Iteration:   0%|          | 0/1001 [00:00<?, ?it/s]"
     ]
    },
    {
     "name": "stdout",
     "output_type": "stream",
     "text": [
      "Evaluating...\n",
      "Evaluating...\n"
     ]
    },
    {
     "name": "stderr",
     "output_type": "stream",
     "text": [
      "Iteration: 100%|██████████| 1001/1001 [00:22<00:00, 43.59it/s]\n",
      "Iteration:   0%|          | 0/1001 [00:00<?, ?it/s]"
     ]
    },
    {
     "name": "stdout",
     "output_type": "stream",
     "text": [
      "Evaluating...\n"
     ]
    },
    {
     "name": "stderr",
     "output_type": "stream",
     "text": [
      "Iteration: 100%|██████████| 1001/1001 [00:23<00:00, 43.32it/s]\n",
      "Iteration:  26%|██▌       | 259/1001 [00:05<00:16, 45.00it/s]"
     ]
    },
    {
     "name": "stdout",
     "output_type": "stream",
     "text": [
      "Evaluating...\n"
     ]
    },
    {
     "name": "stderr",
     "output_type": "stream",
     "text": [
      "Iteration: 100%|██████████| 1001/1001 [00:23<00:00, 43.15it/s]\n",
      "Iteration:   0%|          | 4/1001 [00:00<00:27, 35.95it/s]s]"
     ]
    },
    {
     "name": "stdout",
     "output_type": "stream",
     "text": [
      "Evaluating...\n"
     ]
    },
    {
     "name": "stderr",
     "output_type": "stream",
     "text": [
      "Iteration:  81%|████████  | 806/1001 [00:16<00:02, 65.59it/s]]\n",
      "Iteration:  12%|█▎        | 14/112 [00:00<00:01, 66.75it/s]s]\n",
      "Iteration:  35%|███▍      | 39/112 [00:00<00:01, 53.06it/s]/s]\n",
      "Iteration:  99%|█████████▊| 986/1001 [00:19<00:00, 71.51it/s]"
     ]
    },
    {
     "name": "stdout",
     "output_type": "stream",
     "text": [
      "{'Train':  best_epoch_indx:7\n",
      " auc:0.8375598353180167 \n",
      " apur:0.3942184796409804 \n",
      " f1:0.4330386691573389 \n",
      " precision:0.2936904583769764 \n",
      " recall:0.8240085084945002 \n",
      ", 'Validation':  best_epoch_indx:7\n",
      " auc:0.8379928015257865 \n",
      " apur:0.4019504945763057 \n",
      " f1:0.4304701448125372 \n",
      " precision:0.29184972653097824 \n",
      " recall:0.8198992443324937 \n",
      "}\n",
      "=====Epoch 8\n",
      "Training...\n"
     ]
    },
    {
     "name": "stderr",
     "output_type": "stream",
     "text": [
      "\n",
      "Iteration:   2%|▏         | 24/1001 [00:00<00:23, 42.35it/s]s]\n",
      "Iteration:   0%|          | 0/1001 [00:00<?, ?it/s]"
     ]
    },
    {
     "name": "stdout",
     "output_type": "stream",
     "text": [
      "{'Train':  best_epoch_indx:7\n",
      " auc:0.8395884364715558 \n",
      " apur:0.3980916407217331 \n",
      " f1:0.43233284152885126 \n",
      " precision:0.293016128871775 \n",
      " recall:0.8242093478869298 \n",
      ", 'Validation':  best_epoch_indx:7\n",
      " auc:0.8348508855035286 \n",
      " apur:0.3971552432734833 \n",
      " f1:0.43138551031200423 \n",
      " precision:0.29243592041584515 \n",
      " recall:0.8219143576826197 \n",
      "}\n",
      "=====Epoch 8\n",
      "Training...\n"
     ]
    },
    {
     "name": "stderr",
     "output_type": "stream",
     "text": [
      "Iteration:   3%|▎         | 34/1001 [00:00<00:22, 43.64it/s]\n",
      "Iteration:   3%|▎         | 29/1001 [00:00<00:22, 42.54it/s]"
     ]
    },
    {
     "name": "stdout",
     "output_type": "stream",
     "text": [
      "{'Train':  best_epoch_indx:7\n",
      " auc:0.837821397637788 \n",
      " apur:0.3989446431857528 \n",
      " f1:0.43119372809122775 \n",
      " precision:0.2912855079441502 \n",
      " recall:0.8297181561196787 \n",
      ", 'Validation':  best_epoch_indx:7\n",
      " auc:0.836541715227496 \n",
      " apur:0.4129558727444441 \n",
      " f1:0.4318628092682288 \n",
      " precision:0.29174036080650867 \n",
      " recall:0.8309823677581863 \n",
      "}\n",
      "=====Epoch 8\n",
      "Training...\n"
     ]
    },
    {
     "name": "stderr",
     "output_type": "stream",
     "text": [
      "\n",
      "Iteration:  13%|█▎        | 134/1001 [00:03<00:20, 42.98it/s]\n",
      "Iteration:  14%|█▍        | 144/1001 [00:03<00:19, 44.28it/s]\n",
      "Iteration:  40%|████      | 45/112 [00:00<00:01, 50.18it/s]"
     ]
    },
    {
     "name": "stdout",
     "output_type": "stream",
     "text": [
      "{'Train':  best_epoch_indx:7\n",
      " auc:0.8396166974759939 \n",
      " apur:0.40144462052617313 \n",
      " f1:0.4361301715816491 \n",
      " precision:0.2976406904299867 \n",
      " recall:0.8156399563379888 \n",
      ", 'Validation':  best_epoch_indx:7\n",
      " auc:0.8376588835910668 \n",
      " apur:0.4014414499903262 \n",
      " f1:0.43448461228329527 \n",
      " precision:0.29627932551319647 \n",
      " recall:0.8143576826196474 \n",
      "}\n",
      "=====Epoch 8\n",
      "Training...\n"
     ]
    },
    {
     "name": "stderr",
     "output_type": "stream",
     "text": [
      "Iteration:  25%|██▍       | 249/1001 [00:05<00:16, 44.67it/s]\n",
      "Iteration:  25%|██▌       | 254/1001 [00:05<00:16, 44.41it/s]"
     ]
    },
    {
     "name": "stdout",
     "output_type": "stream",
     "text": [
      "{'Train':  best_epoch_indx:7\n",
      " auc:0.8386571230686835 \n",
      " apur:0.40051036058135714 \n",
      " f1:0.4326322066716239 \n",
      " precision:0.29352647352647354 \n",
      " recall:0.8223571888381986 \n",
      ", 'Validation':  best_epoch_indx:7\n",
      " auc:0.8338432473997008 \n",
      " apur:0.3975179548366167 \n",
      " f1:0.4309180023844218 \n",
      " precision:0.2923256649892164 \n",
      " recall:0.8193954659949623 \n",
      "}\n",
      "=====Epoch 8\n",
      "Training...\n"
     ]
    },
    {
     "name": "stderr",
     "output_type": "stream",
     "text": [
      "Iteration: 100%|██████████| 1001/1001 [00:22<00:00, 43.87it/s]\n",
      "Iteration:   0%|          | 0/1001 [00:00<?, ?it/s]"
     ]
    },
    {
     "name": "stdout",
     "output_type": "stream",
     "text": [
      "Evaluating...\n"
     ]
    },
    {
     "name": "stderr",
     "output_type": "stream",
     "text": [
      "Iteration:   3%|▎         | 31/1001 [00:00<00:19, 48.96it/s]s]\n",
      "Iteration:  74%|███████▍  | 744/1001 [00:17<00:05, 44.27it/s]"
     ]
    },
    {
     "name": "stdout",
     "output_type": "stream",
     "text": [
      "Evaluating...\n"
     ]
    },
    {
     "name": "stderr",
     "output_type": "stream",
     "text": [
      "Iteration: 100%|██████████| 1001/1001 [00:22<00:00, 43.63it/s]\n",
      "Iteration:   8%|▊         | 79/1001 [00:01<00:18, 51.21it/s]]"
     ]
    },
    {
     "name": "stdout",
     "output_type": "stream",
     "text": [
      "Evaluating...\n"
     ]
    },
    {
     "name": "stderr",
     "output_type": "stream",
     "text": [
      "Iteration: 100%|██████████| 1001/1001 [00:23<00:00, 43.46it/s]\n",
      "Iteration:  90%|████████▉ | 899/1001 [00:20<00:02, 40.49it/s]"
     ]
    },
    {
     "name": "stdout",
     "output_type": "stream",
     "text": [
      "Evaluating...\n"
     ]
    },
    {
     "name": "stderr",
     "output_type": "stream",
     "text": [
      "Iteration:  32%|███▏      | 324/1001 [00:06<00:13, 50.88it/s]]\n",
      "Iteration:  30%|██▉       | 299/1001 [00:06<00:14, 49.85it/s]"
     ]
    },
    {
     "name": "stdout",
     "output_type": "stream",
     "text": [
      "Evaluating...\n"
     ]
    },
    {
     "name": "stderr",
     "output_type": "stream",
     "text": [
      "Iteration:  89%|████████▊ | 887/1001 [00:17<00:01, 70.61it/s]]\n",
      "Iteration:  28%|██▊       | 31/112 [00:00<00:01, 74.56it/s]s]\n",
      "Iteration:  55%|█████▌    | 62/112 [00:00<00:00, 68.00it/s]s]\n",
      "Iteration: 100%|██████████| 112/112 [00:01<00:00, 60.61it/s]s]"
     ]
    },
    {
     "name": "stdout",
     "output_type": "stream",
     "text": [
      "{'Train':  best_epoch_indx:8\n",
      " auc:0.8417057937804782 \n",
      " apur:0.40571952234511177 \n",
      " f1:0.43357165880387966 \n",
      " precision:0.2936425247323351 \n",
      " recall:0.8282627557446333 \n",
      ", 'Validation':  best_epoch_indx:8\n",
      " auc:0.8416540873511215 \n",
      " apur:0.4139951283536826 \n",
      " f1:0.4314216105880029 \n",
      " precision:0.29205669965231346 \n",
      " recall:0.8251889168765743 \n",
      "}\n",
      "=====Epoch 9\n",
      "Training...\n"
     ]
    },
    {
     "name": "stderr",
     "output_type": "stream",
     "text": [
      "\n",
      "Iteration:   0%|          | 0/1001 [00:00<?, ?it/s]\n",
      "Iteration:  19%|█▉        | 21/112 [00:00<00:01, 58.39it/s]]\n",
      "Iteration:   0%|          | 0/1001 [00:00<?, ?it/s]"
     ]
    },
    {
     "name": "stdout",
     "output_type": "stream",
     "text": [
      "{'Train':  best_epoch_indx:8\n",
      " auc:0.8414932860936497 \n",
      " apur:0.4046905663856389 \n",
      " f1:0.4355969120893775 \n",
      " precision:0.29620748025149124 \n",
      " recall:0.8227819759305905 \n",
      ", 'Validation':  best_epoch_indx:8\n",
      " auc:0.8351296204502427 \n",
      " apur:0.40156761718674516 \n",
      " f1:0.43475939397984376 \n",
      " precision:0.295741396531372 \n",
      " recall:0.8204030226700252 \n",
      "}\n",
      "=====Epoch 9\n",
      "Training...\n"
     ]
    },
    {
     "name": "stderr",
     "output_type": "stream",
     "text": [
      "Iteration:  47%|████▋     | 53/112 [00:00<00:01, 54.58it/s]]\n",
      "Iteration:   3%|▎         | 29/1001 [00:00<00:22, 42.35it/s]"
     ]
    },
    {
     "name": "stdout",
     "output_type": "stream",
     "text": [
      "{'Train':  best_epoch_indx:8\n",
      " auc:0.8416493681982324 \n",
      " apur:0.40600551576199045 \n",
      " f1:0.4432881768624136 \n",
      " precision:0.30658586291966106 \n",
      " recall:0.7999944023062499 \n",
      ", 'Validation':  best_epoch_indx:8\n",
      " auc:0.8394801750529864 \n",
      " apur:0.4145134004640488 \n",
      " f1:0.44332704797821076 \n",
      " precision:0.30669629915933905 \n",
      " recall:0.7994962216624685 \n",
      "}\n",
      "=====Epoch 9\n",
      "Training...\n"
     ]
    },
    {
     "name": "stderr",
     "output_type": "stream",
     "text": [
      "Iteration:   9%|▉         | 94/1001 [00:02<00:19, 45.38it/s]\n",
      "Iteration:  41%|████      | 46/112 [00:00<00:01, 48.26it/s]s]\n",
      "Iteration:  46%|████▌     | 51/112 [00:00<00:01, 47.39it/s]s]"
     ]
    },
    {
     "name": "stdout",
     "output_type": "stream",
     "text": [
      "{'Train':  best_epoch_indx:8\n",
      " auc:0.841327970479006 \n",
      " apur:0.404055801526224 \n",
      " f1:0.4359382436934793 \n",
      " precision:0.2968450903934775 \n",
      " recall:0.8203140306193848 \n",
      ", 'Validation':  best_epoch_indx:8\n",
      " auc:0.8383560595300841 \n",
      " apur:0.4056889001676264 \n",
      " f1:0.43593342690996595 \n",
      " precision:0.2966972977891002 \n",
      " recall:0.8214105793450882 \n",
      "}\n",
      "=====Epoch 9\n",
      "Training...\n"
     ]
    },
    {
     "name": "stderr",
     "output_type": "stream",
     "text": [
      "Iteration:  23%|██▎       | 234/1001 [00:05<00:17, 45.09it/s]\n",
      "Iteration:   0%|          | 0/1001 [00:00<?, ?it/s]"
     ]
    },
    {
     "name": "stdout",
     "output_type": "stream",
     "text": [
      "{'Train':  best_epoch_indx:8\n",
      " auc:0.8407534714421192 \n",
      " apur:0.40281969066458634 \n",
      " f1:0.43533674686742796 \n",
      " precision:0.296047327259534 \n",
      " recall:0.8221612695569426 \n",
      ", 'Validation':  best_epoch_indx:8\n",
      " auc:0.8358632421899743 \n",
      " apur:0.3999136859494551 \n",
      " f1:0.4327313920170587 \n",
      " precision:0.29419226239014223 \n",
      " recall:0.8178841309823678 \n",
      "}\n",
      "=====Epoch 9\n",
      "Training...\n"
     ]
    },
    {
     "name": "stderr",
     "output_type": "stream",
     "text": [
      "Iteration: 100%|██████████| 1001/1001 [00:22<00:00, 43.94it/s]\n",
      "Iteration:   0%|          | 0/1001 [00:00<?, ?it/s]"
     ]
    },
    {
     "name": "stdout",
     "output_type": "stream",
     "text": [
      "Evaluating...\n"
     ]
    },
    {
     "name": "stderr",
     "output_type": "stream",
     "text": [
      "Iteration: 100%|██████████| 1001/1001 [00:22<00:00, 43.63it/s]\n",
      "Iteration:   0%|          | 5/1001 [00:00<00:23, 42.81it/s]s]"
     ]
    },
    {
     "name": "stdout",
     "output_type": "stream",
     "text": [
      "Evaluating...\n"
     ]
    },
    {
     "name": "stderr",
     "output_type": "stream",
     "text": [
      "Iteration: 100%|██████████| 1001/1001 [00:22<00:00, 43.75it/s]\n",
      "Iteration:   6%|▌         | 59/1001 [00:01<00:19, 48.44it/s]]"
     ]
    },
    {
     "name": "stdout",
     "output_type": "stream",
     "text": [
      "Evaluating...\n"
     ]
    },
    {
     "name": "stderr",
     "output_type": "stream",
     "text": [
      "Iteration: 100%|██████████| 1001/1001 [00:23<00:00, 43.48it/s]\n",
      "Iteration:  12%|█▏        | 120/1001 [00:02<00:18, 48.12it/s]"
     ]
    },
    {
     "name": "stdout",
     "output_type": "stream",
     "text": [
      "Evaluating...\n"
     ]
    },
    {
     "name": "stderr",
     "output_type": "stream",
     "text": [
      "Iteration: 100%|██████████| 1001/1001 [00:23<00:00, 43.25it/s]\n",
      "Iteration:  23%|██▎       | 234/1001 [00:04<00:17, 44.91it/s]"
     ]
    },
    {
     "name": "stdout",
     "output_type": "stream",
     "text": [
      "Evaluating...\n"
     ]
    },
    {
     "name": "stderr",
     "output_type": "stream",
     "text": [
      "Iteration:  92%|█████████▏| 925/1001 [00:18<00:01, 73.66it/s]]\n",
      "Iteration:  95%|█████████▍| 949/1001 [00:18<00:00, 64.15it/s]\n",
      "Iteration:  47%|████▋     | 53/112 [00:00<00:00, 64.00it/s]s]\n",
      "Iteration: 100%|██████████| 112/112 [00:01<00:00, 65.93it/s]s]\n",
      "Iteration:  23%|██▎       | 26/112 [00:00<00:01, 78.89it/s]\n",
      "Iteration:   0%|          | 4/1001 [00:00<00:28, 34.95it/s]"
     ]
    },
    {
     "name": "stdout",
     "output_type": "stream",
     "text": [
      "{'Train':  best_epoch_indx:9\n",
      " auc:0.8444776653545893 \n",
      " apur:0.4148471776855972 \n",
      " f1:0.431919990157979 \n",
      " precision:0.2912721806859664 \n",
      " recall:0.835231884463601 \n",
      ", 'Validation':  best_epoch_indx:9\n",
      " auc:0.8440366630012295 \n",
      " apur:0.4232029077579538 \n",
      " f1:0.4301159307020972 \n",
      " precision:0.2900562192550949 \n",
      " recall:0.8317380352644836 \n",
      "}\n",
      "=====Epoch 10\n",
      "Training...\n"
     ]
    },
    {
     "name": "stderr",
     "output_type": "stream",
     "text": [
      "\r",
      "Iteration:  38%|███▊      | 42/112 [00:00<00:01, 66.90it/s]\r",
      "Iteration:   1%|          | 9/1001 [00:00<00:25, 38.85it/s]\n",
      "\r",
      "Iteration:   0%|          | 0/1001 [00:00<?, ?it/s]\r",
      "Iteration:   1%|▏         | 14/1001 [00:00<00:24, 40.38it/s]\r",
      "Iteration:  44%|████▍     | 49/112 [00:00<00:00, 63.32it/s]\r",
      "Iteration:   0%|          | 4/1001 [00:00<00:28, 34.50it/s]"
     ]
    },
    {
     "name": "stdout",
     "output_type": "stream",
     "text": [
      "{'Train':  best_epoch_indx:9\n",
      " auc:0.8444740846455465 \n",
      " apur:0.41094093389972886 \n",
      " f1:0.4350873576251095 \n",
      " precision:0.2952013667562518 \n",
      " recall:0.8269521410579345 \n",
      ", 'Validation':  best_epoch_indx:9\n",
      " auc:0.8371436280834609 \n",
      " apur:0.40553136000831713 \n",
      " f1:0.4336741468596467 \n",
      " precision:0.29444644789037144 \n",
      " recall:0.8226700251889169 \n",
      "}\n",
      "=====Epoch 10\n",
      "Training...\n"
     ]
    },
    {
     "name": "stderr",
     "output_type": "stream",
     "text": [
      "\r",
      "Iteration:   2%|▏         | 19/1001 [00:00<00:23, 41.62it/s]\r",
      "Iteration:  50%|█████     | 56/112 [00:00<00:00, 59.88it/s]\r",
      "Iteration:   1%|          | 9/1001 [00:00<00:25, 38.79it/s]\r",
      "Iteration:   2%|▏         | 24/1001 [00:00<00:23, 42.34it/s]\n",
      "\r",
      "Iteration:   0%|          | 0/1001 [00:00<?, ?it/s]\r",
      "Iteration:   1%|▏         | 14/1001 [00:00<00:25, 39.24it/s]\r",
      "Iteration:  56%|█████▋    | 63/112 [00:01<00:00, 54.06it/s]"
     ]
    },
    {
     "name": "stdout",
     "output_type": "stream",
     "text": [
      "{'Train':  best_epoch_indx:9\n",
      " auc:0.8446741848747858 \n",
      " apur:0.41387042299225363 \n",
      " f1:0.43476798186272725 \n",
      " precision:0.29427954774963866 \n",
      " recall:0.8319292451509978 \n",
      ", 'Validation':  best_epoch_indx:9\n",
      " auc:0.8405807105199707 \n",
      " apur:0.42126159643916816 \n",
      " f1:0.43463944682252226 \n",
      " precision:0.29424877396344185 \n",
      " recall:0.8312342569269522 \n",
      "}\n",
      "=====Epoch 10\n",
      "Training...\n"
     ]
    },
    {
     "name": "stderr",
     "output_type": "stream",
     "text": [
      "Iteration:   6%|▋         | 64/1001 [00:01<00:20, 45.41it/s]\n",
      "Iteration:  11%|█▏        | 114/1001 [00:02<00:22, 39.16it/s]\n",
      "Iteration:  10%|▉         | 99/1001 [00:02<00:20, 43.35it/s]]"
     ]
    },
    {
     "name": "stdout",
     "output_type": "stream",
     "text": [
      "{'Train':  best_epoch_indx:9\n",
      " auc:0.844114201219515 \n",
      " apur:0.41588277415369085 \n",
      " f1:0.43799006404501106 \n",
      " precision:0.29889611649494013 \n",
      " recall:0.8192224803381007 \n",
      ", 'Validation':  best_epoch_indx:9\n",
      " auc:0.8406680621556903 \n",
      " apur:0.41363071154180053 \n",
      " f1:0.4362289562289563 \n",
      " precision:0.29770220588235297 \n",
      " recall:0.8158690176322418 \n",
      "}\n",
      "=====Epoch 10\n",
      "Training...\n"
     ]
    },
    {
     "name": "stderr",
     "output_type": "stream",
     "text": [
      "Iteration:  20%|█▉        | 199/1001 [00:04<00:17, 44.80it/s]\n",
      "Iteration:   0%|          | 0/1001 [00:00<?, ?it/s]"
     ]
    },
    {
     "name": "stdout",
     "output_type": "stream",
     "text": [
      "{'Train':  best_epoch_indx:9\n",
      " auc:0.8447972734613254 \n",
      " apur:0.4146727368520889 \n",
      " f1:0.43672132121869495 \n",
      " precision:0.29726722899852337 \n",
      " recall:0.8226370735257074 \n",
      ", 'Validation':  best_epoch_indx:9\n",
      " auc:0.8393267032604678 \n",
      " apur:0.41008654198724204 \n",
      " f1:0.4330571886691609 \n",
      " precision:0.29468994362611384 \n",
      " recall:0.8163727959697733 \n",
      "}\n",
      "=====Epoch 10\n",
      "Training...\n"
     ]
    },
    {
     "name": "stderr",
     "output_type": "stream",
     "text": [
      "Iteration: 100%|██████████| 1001/1001 [00:22<00:00, 43.97it/s]\n",
      "Iteration:  99%|█████████▉| 994/1001 [00:22<00:00, 44.21it/s]"
     ]
    },
    {
     "name": "stdout",
     "output_type": "stream",
     "text": [
      "Evaluating...\n"
     ]
    },
    {
     "name": "stderr",
     "output_type": "stream",
     "text": [
      "\r",
      "Iteration:  98%|█████████▊| 979/1001 [00:22<00:00, 44.18it/s]\r",
      "Iteration:   1%|          | 10/1001 [00:00<00:21, 45.52it/s]\r",
      "Iteration:  88%|████████▊ | 884/1001 [00:20<00:02, 40.16it/s]\r",
      "Iteration:  80%|████████  | 803/1001 [00:18<00:04, 43.82it/s]\r",
      "Iteration: 100%|█████████▉| 999/1001 [00:22<00:00, 44.16it/s]\r",
      "Iteration:  98%|█████████▊| 984/1001 [00:22<00:00, 44.62it/s]\r",
      "Iteration:   1%|▏         | 15/1001 [00:00<00:21, 45.77it/s]\r",
      "Iteration:  89%|████████▉ | 889/1001 [00:20<00:02, 41.42it/s]\r",
      "Iteration:  81%|████████  | 808/1001 [00:18<00:04, 43.40it/s]\r",
      "Iteration: 100%|██████████| 1001/1001 [00:22<00:00, 43.78it/s]\n",
      "\r",
      "Iteration:   0%|          | 0/1001 [00:00<?, ?it/s]"
     ]
    },
    {
     "name": "stdout",
     "output_type": "stream",
     "text": [
      "Evaluating...\n"
     ]
    },
    {
     "name": "stderr",
     "output_type": "stream",
     "text": [
      "Iteration: 100%|██████████| 1001/1001 [00:22<00:00, 43.74it/s]\n",
      "Iteration:   0%|          | 5/1001 [00:00<00:23, 43.20it/s]s]"
     ]
    },
    {
     "name": "stdout",
     "output_type": "stream",
     "text": [
      "Evaluating...\n"
     ]
    },
    {
     "name": "stderr",
     "output_type": "stream",
     "text": [
      "Iteration: 100%|██████████| 1001/1001 [00:23<00:00, 43.49it/s]\n",
      "Iteration:  14%|█▍        | 139/1001 [00:02<00:17, 49.64it/s]"
     ]
    },
    {
     "name": "stdout",
     "output_type": "stream",
     "text": [
      "Evaluating...\n"
     ]
    },
    {
     "name": "stderr",
     "output_type": "stream",
     "text": [
      "Iteration: 100%|██████████| 1001/1001 [00:23<00:00, 43.38it/s]\n",
      "Iteration:  20%|██        | 203/1001 [00:04<00:17, 44.78it/s]"
     ]
    },
    {
     "name": "stdout",
     "output_type": "stream",
     "text": [
      "Evaluating...\n"
     ]
    },
    {
     "name": "stderr",
     "output_type": "stream",
     "text": [
      "Iteration:  96%|█████████▌| 958/1001 [00:19<00:00, 70.78it/s]]\n",
      "Iteration:  26%|██▌       | 29/112 [00:00<00:01, 68.26it/s]s]\n",
      "Iteration: 100%|██████████| 1001/1001 [00:19<00:00, 50.06it/s]\n",
      "Iteration:  83%|████████▎ | 93/112 [00:01<00:00, 71.72it/s]]\n",
      "Iteration:   0%|          | 0/1001 [00:00<?, ?it/s]"
     ]
    },
    {
     "name": "stdout",
     "output_type": "stream",
     "text": [
      "{'Train':  best_epoch_indx:10\n",
      " auc:0.8433824254875044 \n",
      " apur:0.41330201596017435 \n",
      " f1:0.4389766719436065 \n",
      " precision:0.2993573487325206 \n",
      " recall:0.8226650619944583 \n",
      ", 'Validation':  best_epoch_indx:10\n",
      " auc:0.8423358946822647 \n",
      " apur:0.41863630235407184 \n",
      " f1:0.437651494748182 \n",
      " precision:0.29865833486491455 \n",
      " recall:0.818639798488665 \n",
      "}\n",
      "=====Epoch 11\n",
      "Training...\n"
     ]
    },
    {
     "name": "stderr",
     "output_type": "stream",
     "text": [
      "Iteration:   1%|▏         | 14/1001 [00:00<00:24, 40.81it/s]\n",
      "Iteration:   2%|▏         | 19/1001 [00:00<00:23, 41.22it/s]"
     ]
    },
    {
     "name": "stdout",
     "output_type": "stream",
     "text": [
      "{'Train':  best_epoch_indx:10\n",
      " auc:0.8434605824814283 \n",
      " apur:0.40798775943867394 \n",
      " f1:0.43944989940846174 \n",
      " precision:0.30025748079152265 \n",
      " recall:0.8192224803381007 \n",
      ", 'Validation':  best_epoch_indx:10\n",
      " auc:0.8396198339556064 \n",
      " apur:0.4155249887318971 \n",
      " f1:0.4389289809131989 \n",
      " precision:0.2997144699272359 \n",
      " recall:0.819647355163728 \n",
      "}\n",
      "=====Epoch 11\n",
      "Training...\n"
     ]
    },
    {
     "name": "stderr",
     "output_type": "stream",
     "text": [
      "\n",
      "Iteration:  40%|████      | 45/112 [00:00<00:01, 59.14it/s]]\n",
      "Iteration:   0%|          | 4/1001 [00:00<00:27, 35.62it/s]]"
     ]
    },
    {
     "name": "stdout",
     "output_type": "stream",
     "text": [
      "{'Train':  best_epoch_indx:10\n",
      " auc:0.8446171712229543 \n",
      " apur:0.41416812598655434 \n",
      " f1:0.4410370403973961 \n",
      " precision:0.30214128103925164 \n",
      " recall:0.8162888329135181 \n",
      ", 'Validation':  best_epoch_indx:10\n",
      " auc:0.838534444238825 \n",
      " apur:0.4115370272768573 \n",
      " f1:0.4390077688428513 \n",
      " precision:0.3009155455904335 \n",
      " recall:0.8113350125944584 \n",
      "}\n",
      "=====Epoch 11\n",
      "Training...\n"
     ]
    },
    {
     "name": "stderr",
     "output_type": "stream",
     "text": [
      "Iteration:   2%|▏         | 19/1001 [00:00<00:24, 40.72it/s]\n",
      "Iteration:  54%|█████▎    | 60/112 [00:01<00:00, 52.68it/s]s]\n",
      "Iteration:   0%|          | 0/1001 [00:00<?, ?it/s]"
     ]
    },
    {
     "name": "stdout",
     "output_type": "stream",
     "text": [
      "{'Train':  best_epoch_indx:10\n",
      " auc:0.8442088980256649 \n",
      " apur:0.41332492450959646 \n",
      " f1:0.43474040300044126 \n",
      " precision:0.2948399517211798 \n",
      " recall:0.8272831593383526 \n",
      ", 'Validation':  best_epoch_indx:10\n",
      " auc:0.8407096165399478 \n",
      " apur:0.41016209053424585 \n",
      " f1:0.4324467732307488 \n",
      " precision:0.2935085981813271 \n",
      " recall:0.8211586901763224 \n",
      "}\n",
      "=====Epoch 11\n",
      "Training...\n"
     ]
    },
    {
     "name": "stderr",
     "output_type": "stream",
     "text": [
      "Iteration:  14%|█▍        | 144/1001 [00:03<00:19, 43.73it/s]\n",
      "Iteration:   0%|          | 4/1001 [00:00<00:28, 35.21it/s]]]"
     ]
    },
    {
     "name": "stdout",
     "output_type": "stream",
     "text": [
      "{'Train':  best_epoch_indx:10\n",
      " auc:0.8442959719213349 \n",
      " apur:0.41576743961047247 \n",
      " f1:0.4359567787490602 \n",
      " precision:0.2959027465105808 \n",
      " recall:0.8277309748383666 \n",
      ", 'Validation':  best_epoch_indx:10\n",
      " auc:0.8398534916525658 \n",
      " apur:0.40990685610270833 \n",
      " f1:0.43429784974780994 \n",
      " precision:0.2948278969183637 \n",
      " recall:0.8241813602015113 \n",
      "}\n",
      "=====Epoch 11\n",
      "Training...\n"
     ]
    },
    {
     "name": "stderr",
     "output_type": "stream",
     "text": [
      "Iteration: 100%|██████████| 1001/1001 [00:22<00:00, 43.81it/s]\n",
      "Iteration:   0%|          | 4/1001 [00:00<00:27, 36.69it/s]s]"
     ]
    },
    {
     "name": "stdout",
     "output_type": "stream",
     "text": [
      "Evaluating...\n"
     ]
    },
    {
     "name": "stderr",
     "output_type": "stream",
     "text": [
      "Iteration: 100%|██████████| 1001/1001 [00:22<00:00, 43.61it/s]\n",
      "Iteration:   4%|▎         | 37/1001 [00:00<00:19, 49.30it/s]]"
     ]
    },
    {
     "name": "stdout",
     "output_type": "stream",
     "text": [
      "Evaluating...\n"
     ]
    },
    {
     "name": "stderr",
     "output_type": "stream",
     "text": [
      "Iteration: 100%|██████████| 1001/1001 [00:23<00:00, 43.45it/s]\n",
      "Iteration:   4%|▍         | 41/1001 [00:00<00:18, 50.68it/s]]"
     ]
    },
    {
     "name": "stdout",
     "output_type": "stream",
     "text": [
      "Evaluating...\n"
     ]
    },
    {
     "name": "stderr",
     "output_type": "stream",
     "text": [
      "Iteration: 100%|██████████| 1001/1001 [00:23<00:00, 43.49it/s]\n",
      "Iteration:  15%|█▌        | 153/1001 [00:03<00:17, 48.26it/s]"
     ]
    },
    {
     "name": "stdout",
     "output_type": "stream",
     "text": [
      "Evaluating...\n"
     ]
    },
    {
     "name": "stderr",
     "output_type": "stream",
     "text": [
      "Iteration: 100%|██████████| 1001/1001 [00:23<00:00, 43.33it/s]\n",
      "Iteration:  18%|█▊        | 182/1001 [00:03<00:22, 36.66it/s]"
     ]
    },
    {
     "name": "stdout",
     "output_type": "stream",
     "text": [
      "Evaluating...\n"
     ]
    },
    {
     "name": "stderr",
     "output_type": "stream",
     "text": [
      "Iteration:  99%|█████████▉| 995/1001 [00:20<00:00, 78.23it/s]]\n",
      "Iteration:  29%|██▉       | 33/112 [00:00<00:00, 81.80it/s]/s]\n",
      "Iteration:  64%|██████▍   | 72/112 [00:00<00:00, 71.74it/s]]\n",
      "Iteration:  92%|█████████▏| 103/112 [00:01<00:00, 69.46it/s]\n",
      "Iteration:   0%|          | 0/1001 [00:00<?, ?it/s]"
     ]
    },
    {
     "name": "stdout",
     "output_type": "stream",
     "text": [
      "{'Train':  best_epoch_indx:11\n",
      " auc:0.8431564157900437 \n",
      " apur:0.4090901223289757 \n",
      " f1:0.43493474075646554 \n",
      " precision:0.2944885011895321 \n",
      " recall:0.8314814296509838 \n",
      ", 'Validation':  best_epoch_indx:11\n",
      " auc:0.8423191589282911 \n",
      " apur:0.41404674209376613 \n",
      " f1:0.43228652314174726 \n",
      " precision:0.29262857652197166 \n",
      " recall:0.8269521410579345 \n",
      "}\n",
      "=====Epoch 12\n",
      "Training...\n"
     ]
    },
    {
     "name": "stderr",
     "output_type": "stream",
     "text": [
      "Iteration: 100%|██████████| 112/112 [00:01<00:00, 69.01it/s]\n",
      "Iteration:   2%|▏         | 19/1001 [00:00<00:23, 41.95it/s]\n",
      "Iteration:  19%|█▉        | 21/112 [00:00<00:01, 63.98it/s]"
     ]
    },
    {
     "name": "stdout",
     "output_type": "stream",
     "text": [
      "{'Train':  best_epoch_indx:11\n",
      " auc:0.8436019994425163 \n",
      " apur:0.4042795761807887 \n",
      " f1:0.4337960063502236 \n",
      " precision:0.29318134837433185 \n",
      " recall:0.8336085532760502 \n",
      ", 'Validation':  best_epoch_indx:11\n",
      " auc:0.8404508959264103 \n",
      " apur:0.4077745708069513 \n",
      " f1:0.4329248312471329 \n",
      " precision:0.29258570289662506 \n",
      " recall:0.8319899244332494 \n",
      "}\n",
      "=====Epoch 12\n",
      "Training...\n"
     ]
    },
    {
     "name": "stderr",
     "output_type": "stream",
     "text": [
      "Iteration:   2%|▏         | 24/1001 [00:00<00:23, 41.29it/s]\n",
      "Iteration:  33%|███▎      | 37/112 [00:00<00:01, 49.17it/s]]\n",
      "Iteration:  38%|███▊      | 42/112 [00:00<00:01, 46.96it/s]]"
     ]
    },
    {
     "name": "stdout",
     "output_type": "stream",
     "text": [
      "{'Train':  best_epoch_indx:11\n",
      " auc:0.8437904010970384 \n",
      " apur:0.41136882762751104 \n",
      " f1:0.43805346045671906 \n",
      " precision:0.29862785186089325 \n",
      " recall:0.8216904561992723 \n",
      ", 'Validation':  best_epoch_indx:11\n",
      " auc:0.8386256530265487 \n",
      " apur:0.41051215883511694 \n",
      " f1:0.4383930978700458 \n",
      " precision:0.2992821645499724 \n",
      " recall:0.8191435768261964 \n",
      "}\n",
      "=====Epoch 12\n",
      "Training...\n"
     ]
    },
    {
     "name": "stderr",
     "output_type": "stream",
     "text": [
      "Iteration:   4%|▍         | 38/1001 [00:00<00:21, 44.05it/s]]\n",
      "Iteration:  13%|█▎        | 129/1001 [00:03<00:20, 43.06it/s]"
     ]
    },
    {
     "name": "stdout",
     "output_type": "stream",
     "text": [
      "{'Train':  best_epoch_indx:11\n",
      " auc:0.843748090608206 \n",
      " apur:0.4118581888325328 \n",
      " f1:0.4376132885626839 \n",
      " precision:0.29786717635994053 \n",
      " recall:0.8243723585882616 \n",
      ", 'Validation':  best_epoch_indx:11\n",
      " auc:0.8407028879525629 \n",
      " apur:0.4080703007944463 \n",
      " f1:0.43683683683683683 \n",
      " precision:0.29714026327734905 \n",
      " recall:0.8244332493702771 \n",
      "}\n",
      "=====Epoch 12\n",
      "Training...\n"
     ]
    },
    {
     "name": "stderr",
     "output_type": "stream",
     "text": [
      "Iteration:  16%|█▋        | 164/1001 [00:03<00:18, 45.16it/s]\n",
      "Iteration:   0%|          | 4/1001 [00:00<00:29, 34.30it/s]s]"
     ]
    },
    {
     "name": "stdout",
     "output_type": "stream",
     "text": [
      "{'Train':  best_epoch_indx:11\n",
      " auc:0.8427289084770637 \n",
      " apur:0.41343510716838067 \n",
      " f1:0.4380012982458758 \n",
      " precision:0.29860220960752 \n",
      " recall:0.8215175347756725 \n",
      ", 'Validation':  best_epoch_indx:11\n",
      " auc:0.8372416511730585 \n",
      " apur:0.40832699163274455 \n",
      " f1:0.4364781559903511 \n",
      " precision:0.29733430710242836 \n",
      " recall:0.8204030226700252 \n",
      "}\n",
      "=====Epoch 12\n",
      "Training...\n"
     ]
    },
    {
     "name": "stderr",
     "output_type": "stream",
     "text": [
      "Iteration: 100%|██████████| 1001/1001 [00:22<00:00, 43.88it/s]\n",
      "Iteration:   0%|          | 5/1001 [00:00<00:23, 41.93it/s]s]"
     ]
    },
    {
     "name": "stdout",
     "output_type": "stream",
     "text": [
      "Evaluating...\n"
     ]
    },
    {
     "name": "stderr",
     "output_type": "stream",
     "text": [
      "Iteration: 100%|██████████| 1001/1001 [00:22<00:00, 43.72it/s]\n",
      "Iteration:   4%|▍         | 41/1001 [00:00<00:18, 52.29it/s]]"
     ]
    },
    {
     "name": "stdout",
     "output_type": "stream",
     "text": [
      "Evaluating...\n"
     ]
    },
    {
     "name": "stderr",
     "output_type": "stream",
     "text": [
      "Iteration: 100%|██████████| 1001/1001 [00:22<00:00, 43.71it/s]\n",
      "Iteration:   0%|          | 4/1001 [00:00<00:30, 32.79it/s]s]"
     ]
    },
    {
     "name": "stdout",
     "output_type": "stream",
     "text": [
      "Evaluating...\n"
     ]
    },
    {
     "name": "stderr",
     "output_type": "stream",
     "text": [
      "Iteration:  12%|█▏        | 122/1001 [00:02<00:18, 47.58it/s]"
     ]
    },
    {
     "name": "stdout",
     "output_type": "stream",
     "text": [
      "Evaluating...\n"
     ]
    },
    {
     "name": "stderr",
     "output_type": "stream",
     "text": [
      "Iteration: 100%|██████████| 1001/1001 [00:23<00:00, 43.35it/s]\n",
      "Iteration: 100%|██████████| 1001/1001 [00:23<00:00, 43.41it/s]\n",
      "Iteration:  21%|██        | 208/1001 [00:04<00:17, 46.57it/s]"
     ]
    },
    {
     "name": "stdout",
     "output_type": "stream",
     "text": [
      "Evaluating...\n"
     ]
    },
    {
     "name": "stderr",
     "output_type": "stream",
     "text": [
      "Iteration: 100%|██████████| 1001/1001 [00:20<00:00, 48.42it/s]\n",
      "Iteration:  16%|█▌        | 18/112 [00:00<00:01, 80.15it/s]\n",
      "Iteration:  88%|████████▊ | 99/112 [00:01<00:00, 79.25it/s]]\n",
      "Iteration: 100%|██████████| 112/112 [00:01<00:00, 77.11it/s]\n",
      "Iteration:   7%|▋         | 8/112 [00:00<00:01, 77.64it/s]"
     ]
    },
    {
     "name": "stdout",
     "output_type": "stream",
     "text": [
      "{'Train':  best_epoch_indx:12\n",
      " auc:0.8424660900008124 \n",
      " apur:0.41241300318659985 \n",
      " f1:0.44170975578181043 \n",
      " precision:0.30340628530777924 \n",
      " recall:0.8117215707128663 \n",
      ", 'Validation':  best_epoch_indx:12\n",
      " auc:0.8420320453902791 \n",
      " apur:0.4129799134565129 \n",
      " f1:0.4388770677465852 \n",
      " precision:0.301632229455609 \n",
      " recall:0.8052896725440806 \n",
      "}\n",
      "=====Epoch 13\n",
      "Training...\n"
     ]
    },
    {
     "name": "stderr",
     "output_type": "stream",
     "text": [
      "\r",
      "Iteration:   0%|          | 4/1001 [00:00<00:25, 38.64it/s]\r",
      "Iteration:  14%|█▍        | 16/112 [00:00<00:01, 73.60it/s]\r",
      "Iteration:   1%|          | 9/1001 [00:00<00:24, 41.24it/s]\r",
      "Iteration:  21%|██▏       | 24/112 [00:00<00:01, 73.65it/s]"
     ]
    },
    {
     "name": "stdout",
     "output_type": "stream",
     "text": [
      "{'Train':  best_epoch_indx:12\n",
      " auc:0.8432536335450772 \n",
      " apur:0.4131307391875216 \n",
      " f1:0.43186997029046126 \n",
      " precision:0.2908778303398836 \n",
      " recall:0.8381146967449411 \n",
      ", 'Validation':  best_epoch_indx:12\n",
      " auc:0.8385363642433781 \n",
      " apur:0.41563698958595885 \n",
      " f1:0.4307052864008313 \n",
      " precision:0.2901645082254113 \n",
      " recall:0.8352644836272041 \n",
      "}\n",
      "=====Epoch 13\n",
      "Training...\n"
     ]
    },
    {
     "name": "stderr",
     "output_type": "stream",
     "text": [
      "\n",
      "Iteration:  35%|███▍      | 39/112 [00:00<00:01, 64.49it/s]]\n",
      "Iteration:   4%|▍         | 39/1001 [00:00<00:21, 44.20it/s]\n",
      "Iteration:  11%|█▏        | 114/1001 [00:02<00:24, 36.72it/s]\n",
      "Iteration:  87%|████████▋ | 97/112 [00:01<00:00, 56.90it/s]\n",
      "Iteration:   0%|          | 4/1001 [00:00<00:32, 30.54it/s]]]"
     ]
    },
    {
     "name": "stdout",
     "output_type": "stream",
     "text": [
      "{'Train':  best_epoch_indx:12\n",
      " auc:0.8445853693438216 \n",
      " apur:0.41492445997031535 \n",
      " f1:0.4402902416419901 \n",
      " precision:0.30124655881716106 \n",
      " recall:0.8177162048698573 \n",
      ", 'Validation':  best_epoch_indx:12\n",
      " auc:0.838857523576413 \n",
      " apur:0.41459429238271306 \n",
      " f1:0.4383543012580755 \n",
      " precision:0.3002328830926875 \n",
      " recall:0.81183879093199 \n",
      "}\n",
      "=====Epoch 13\n",
      "Training...\n",
      "{'Train':  best_epoch_indx:12\n",
      " auc:0.8418133335765604 \n",
      " apur:0.4066837741452099 \n",
      " f1:0.43372837688627164 \n",
      " precision:0.29425395271721216 \n",
      " recall:0.8245682778695178 \n",
      ", 'Validation':  best_epoch_indx:12\n",
      " auc:0.839461347865482 \n",
      " apur:0.4012099307258296 \n",
      " f1:0.4316137566137566 \n",
      " precision:0.2926457399103139 \n",
      " recall:0.8219143576826197 \n",
      "}\n",
      "=====Epoch 13\n",
      "Training...\n"
     ]
    },
    {
     "name": "stderr",
     "output_type": "stream",
     "text": [
      "Iteration:  16%|█▌        | 159/1001 [00:03<00:18, 44.86it/s]\n",
      "Iteration:   3%|▎         | 34/1001 [00:00<00:22, 43.45it/s]]"
     ]
    },
    {
     "name": "stdout",
     "output_type": "stream",
     "text": [
      "{'Train':  best_epoch_indx:12\n",
      " auc:0.8421730484185102 \n",
      " apur:0.4122792553815243 \n",
      " f1:0.4352017689331122 \n",
      " precision:0.2953895103355812 \n",
      " recall:0.826303562932072 \n",
      ", 'Validation':  best_epoch_indx:12\n",
      " auc:0.836802797275205 \n",
      " apur:0.404754110017378 \n",
      " f1:0.4330102244057894 \n",
      " precision:0.2939956725567977 \n",
      " recall:0.8214105793450882 \n",
      "}\n",
      "=====Epoch 13\n",
      "Training...\n"
     ]
    },
    {
     "name": "stderr",
     "output_type": "stream",
     "text": [
      "Iteration: 100%|██████████| 1001/1001 [00:22<00:00, 43.88it/s]\n",
      "Iteration:   0%|          | 0/1001 [00:00<?, ?it/s]"
     ]
    },
    {
     "name": "stdout",
     "output_type": "stream",
     "text": [
      "Evaluating...\n"
     ]
    },
    {
     "name": "stderr",
     "output_type": "stream",
     "text": [
      "Iteration: 100%|██████████| 1001/1001 [00:22<00:00, 43.70it/s]\n",
      "Iteration:  88%|████████▊ | 879/1001 [00:20<00:03, 36.59it/s]"
     ]
    },
    {
     "name": "stdout",
     "output_type": "stream",
     "text": [
      "Evaluating...\n"
     ]
    },
    {
     "name": "stderr",
     "output_type": "stream",
     "text": [
      "Iteration: 100%|██████████| 1001/1001 [00:23<00:00, 43.49it/s]\n",
      "Iteration: 100%|██████████| 1001/1001 [00:22<00:00, 43.53it/s]\n",
      "Iteration:  16%|█▋        | 164/1001 [00:03<00:17, 48.28it/s]"
     ]
    },
    {
     "name": "stdout",
     "output_type": "stream",
     "text": [
      "Evaluating...\n",
      "Evaluating...\n"
     ]
    },
    {
     "name": "stderr",
     "output_type": "stream",
     "text": [
      "Iteration: 100%|██████████| 1001/1001 [00:22<00:00, 43.54it/s]\n",
      "Iteration:   0%|          | 4/1001 [00:00<00:26, 37.95it/s]]]"
     ]
    },
    {
     "name": "stdout",
     "output_type": "stream",
     "text": [
      "Evaluating...\n"
     ]
    },
    {
     "name": "stderr",
     "output_type": "stream",
     "text": [
      "Iteration: 100%|█████████▉| 996/1001 [00:20<00:00, 64.49it/s]]\n",
      "Iteration:  21%|██        | 23/112 [00:00<00:01, 74.31it/s]/s]\n",
      "Iteration:  93%|█████████▎| 104/112 [00:01<00:00, 74.29it/s]\n",
      "Iteration:   0%|          | 4/1001 [00:00<00:27, 36.53it/s]]"
     ]
    },
    {
     "name": "stdout",
     "output_type": "stream",
     "text": [
      "{'Train':  best_epoch_indx:13\n",
      " auc:0.8405866937276448 \n",
      " apur:0.40559762419668205 \n",
      " f1:0.43980175371711777 \n",
      " precision:0.3022395489462487 \n",
      " recall:0.8071874387752246 \n",
      ", 'Validation':  best_epoch_indx:13\n",
      " auc:0.8415513328217321 \n",
      " apur:0.41361100346888113 \n",
      " f1:0.4391822124320231 \n",
      " precision:0.30216917684948374 \n",
      " recall:0.8035264483627204 \n",
      "}\n",
      "=====Epoch 14\n",
      "Training...\n"
     ]
    },
    {
     "name": "stderr",
     "output_type": "stream",
     "text": [
      "\r",
      "Iteration:   1%|          | 9/1001 [00:00<00:25, 39.46it/s]\n",
      "\r",
      "Iteration:   0%|          | 0/1001 [00:00<?, ?it/s]\r",
      "Iteration:   1%|▏         | 14/1001 [00:00<00:24, 40.79it/s]"
     ]
    },
    {
     "name": "stdout",
     "output_type": "stream",
     "text": [
      "{'Train':  best_epoch_indx:13\n",
      " auc:0.841590886384898 \n",
      " apur:0.40488085663067785 \n",
      " f1:0.4346492965391782 \n",
      " precision:0.2945117647643568 \n",
      " recall:0.829214363682163 \n",
      ", 'Validation':  best_epoch_indx:13\n",
      " auc:0.8379232013607347 \n",
      " apur:0.4087328163997506 \n",
      " f1:0.4339908952959029 \n",
      " precision:0.29400196656833827 \n",
      " recall:0.828463476070529 \n",
      "}\n",
      "=====Epoch 14\n",
      "Training...\n"
     ]
    },
    {
     "name": "stderr",
     "output_type": "stream",
     "text": [
      "Iteration:   2%|▏         | 19/1001 [00:00<00:23, 42.03it/s]\n",
      "Iteration:   2%|▏         | 24/1001 [00:00<00:23, 41.85it/s]\n",
      "Iteration:  12%|█▏        | 13/112 [00:00<00:01, 54.88it/s]]\n",
      "Iteration: 100%|██████████| 112/112 [00:02<00:00, 49.51it/s]]\n",
      "Iteration:  15%|█▍        | 149/1001 [00:03<00:19, 44.48it/s]"
     ]
    },
    {
     "name": "stdout",
     "output_type": "stream",
     "text": [
      "{'Train':  best_epoch_indx:13\n",
      " auc:0.8417529009531338 \n",
      " apur:0.4032916500119466 \n",
      " f1:0.4399606448194959 \n",
      " precision:0.30151452282157676 \n",
      " recall:0.8134900643716765 \n",
      ", 'Validation':  best_epoch_indx:13\n",
      " auc:0.8360873684357594 \n",
      " apur:0.40395639240724346 \n",
      " f1:0.4374530812802839 \n",
      " precision:0.30000936066647943 \n",
      " recall:0.8073047858942065 \n",
      "}\n",
      "=====Epoch 14\n",
      "Training...\n",
      "{'Train':  best_epoch_indx:13\n",
      " auc:0.8411216030371772 \n",
      " apur:0.40895548657553765 \n",
      " f1:0.4330976349391663 \n",
      " precision:0.2935637355417969 \n",
      " recall:0.8254359204007948 \n",
      ", 'Validation':  best_epoch_indx:13\n",
      " auc:0.8372994270243554 \n",
      " apur:0.4050177253837845 \n",
      " f1:0.4322610476253385 \n",
      " precision:0.2929537111648312 \n",
      " recall:0.8241813602015113 \n",
      "}\n",
      "=====Epoch 14\n",
      "Training...\n"
     ]
    },
    {
     "name": "stderr",
     "output_type": "stream",
     "text": [
      "Iteration:   0%|          | 4/1001 [00:00<00:27, 36.43it/s]s]\n",
      "Iteration:  14%|█▍        | 144/1001 [00:03<00:19, 43.97it/s]\n",
      "Iteration:  17%|█▋        | 169/1001 [00:03<00:19, 42.41it/s]"
     ]
    },
    {
     "name": "stdout",
     "output_type": "stream",
     "text": [
      "{'Train':  best_epoch_indx:13\n",
      " auc:0.8425049999333729 \n",
      " apur:0.41162871545515073 \n",
      " f1:0.4417764506571568 \n",
      " precision:0.30525978191148173 \n",
      " recall:0.7991827367124744 \n",
      ", 'Validation':  best_epoch_indx:13\n",
      " auc:0.8372464254700946 \n",
      " apur:0.4068670909976847 \n",
      " f1:0.44075598019387685 \n",
      " precision:0.30475455685215547 \n",
      " recall:0.7959697732997482 \n",
      "}\n",
      "=====Epoch 14\n",
      "Training...\n"
     ]
    },
    {
     "name": "stderr",
     "output_type": "stream",
     "text": [
      "Iteration: 100%|██████████| 1001/1001 [00:22<00:00, 43.76it/s]\n",
      "Iteration:   0%|          | 4/1001 [00:00<00:27, 35.83it/s]s]"
     ]
    },
    {
     "name": "stdout",
     "output_type": "stream",
     "text": [
      "Evaluating...\n"
     ]
    },
    {
     "name": "stderr",
     "output_type": "stream",
     "text": [
      "Iteration: 100%|██████████| 1001/1001 [00:22<00:00, 43.54it/s]\n",
      "Iteration:   3%|▎         | 28/1001 [00:00<00:19, 49.26it/s]]"
     ]
    },
    {
     "name": "stdout",
     "output_type": "stream",
     "text": [
      "Evaluating...\n"
     ]
    },
    {
     "name": "stderr",
     "output_type": "stream",
     "text": [
      "Iteration: 100%|██████████| 1001/1001 [00:22<00:00, 43.53it/s]\n",
      "Iteration: 100%|█████████▉| 999/1001 [00:23<00:00, 43.20it/s]"
     ]
    },
    {
     "name": "stdout",
     "output_type": "stream",
     "text": [
      "Evaluating...\n"
     ]
    },
    {
     "name": "stderr",
     "output_type": "stream",
     "text": [
      "\r",
      "Iteration:  99%|█████████▉| 992/1001 [00:22<00:00, 44.22it/s]\r",
      "Iteration:  17%|█▋        | 168/1001 [00:03<00:16, 50.22it/s]\r",
      "Iteration: 100%|██████████| 1001/1001 [00:23<00:00, 43.36it/s]\n",
      "\r",
      "Iteration:   0%|          | 0/1001 [00:00<?, ?it/s]\r",
      "Iteration:   1%|          | 10/1001 [00:00<00:21, 46.32it/s]\r",
      "Iteration: 100%|█████████▉| 997/1001 [00:22<00:00, 44.20it/s]\r",
      "Iteration:  17%|█▋        | 174/1001 [00:03<00:16, 48.67it/s]\r",
      "Iteration:   1%|▏         | 15/1001 [00:00<00:20, 47.58it/s]\r",
      "Iteration:  19%|█▉        | 188/1001 [00:03<00:19, 40.87it/s]\r",
      "Iteration:   0%|          | 5/1001 [00:00<00:24, 41.26it/s]"
     ]
    },
    {
     "name": "stdout",
     "output_type": "stream",
     "text": [
      "Evaluating...\n",
      "Evaluating...\n"
     ]
    },
    {
     "name": "stderr",
     "output_type": "stream",
     "text": [
      "Iteration: 100%|██████████| 1001/1001 [00:23<00:00, 43.36it/s]\n",
      "Iteration: 100%|██████████| 1001/1001 [00:20<00:00, 48.94it/s]\n",
      "Iteration:   0%|          | 0/112 [00:00<?, ?it/s]\n",
      "Iteration: 100%|██████████| 112/112 [00:01<00:00, 74.82it/s]\n",
      "Iteration:   0%|          | 0/1001 [00:00<?, ?it/s]\n",
      "Iteration:   0%|          | 4/1001 [00:00<00:27, 36.67it/s]"
     ]
    },
    {
     "name": "stdout",
     "output_type": "stream",
     "text": [
      "{'Train':  best_epoch_indx:14\n",
      " auc:0.8411385787758101 \n",
      " apur:0.4052801569696691 \n",
      " f1:0.43889788331234636 \n",
      " precision:0.2997123465763101 \n",
      " recall:0.8194463880881077 \n",
      ", 'Validation':  best_epoch_indx:14\n",
      " auc:0.8410126172584923 \n",
      " apur:0.4111816921503717 \n",
      " f1:0.4372929484145764 \n",
      " precision:0.2988633213196562 \n",
      " recall:0.8146095717884131 \n",
      "}\n",
      "=====Epoch 15\n",
      "Training...\n",
      "{'Train':  best_epoch_indx:14\n",
      " auc:0.8399728623170348 \n",
      " apur:0.39738006425583283 \n",
      " f1:0.43371731577985007 \n",
      " precision:0.29357598320725575 \n",
      " recall:0.8298580984634331 \n",
      ", 'Validation':  best_epoch_indx:14\n",
      " auc:0.8360737955464294 \n",
      " apur:0.40659607911136847 \n",
      " f1:0.43238621415416995 \n",
      " precision:0.2925939113405733 \n",
      " recall:0.8279596977329975 \n",
      "}\n",
      "=====Epoch 15\n",
      "Training...\n"
     ]
    },
    {
     "name": "stderr",
     "output_type": "stream",
     "text": [
      "Iteration:   3%|▎         | 34/1001 [00:00<00:21, 44.28it/s]\n",
      "Iteration:   4%|▍         | 39/1001 [00:00<00:21, 44.27it/s]\n",
      "Iteration:   0%|          | 0/112 [00:00<?, ?it/s].26it/s]\n",
      "Iteration:  14%|█▍        | 144/1001 [00:03<00:19, 43.09it/s]\n",
      "Iteration:  15%|█▍        | 149/1001 [00:03<00:19, 43.76it/s]"
     ]
    },
    {
     "name": "stdout",
     "output_type": "stream",
     "text": [
      "{'Train':  best_epoch_indx:14\n",
      " auc:0.8384613496629566 \n",
      " apur:0.3889520829671315 \n",
      " f1:0.43611377010010166 \n",
      " precision:0.2967293730372704 \n",
      " recall:0.8224461237055696 \n",
      ", 'Validation':  best_epoch_indx:14\n",
      " auc:0.8330290583260527 \n",
      " apur:0.3835325483393309 \n",
      " f1:0.4338829183632601 \n",
      " precision:0.29515938606847697 \n",
      " recall:0.818639798488665 \n",
      "}\n",
      "=====Epoch 15\n",
      "Training...\n",
      "{'Train':  best_epoch_indx:14\n",
      " auc:0.8426613817986601 \n",
      " apur:0.40999366234433865 \n",
      " f1:0.43470612582781465 \n",
      " precision:0.29534886056625187 \n",
      " recall:0.8230569005569706 \n",
      ", 'Validation':  best_epoch_indx:14\n",
      " auc:0.8396925969853014 \n",
      " apur:0.40648871447150786 \n",
      " f1:0.43029053919287275 \n",
      " precision:0.2922951856200885 \n",
      " recall:0.8151133501259445 \n",
      "}\n",
      "=====Epoch 15\n",
      "Training...\n",
      "{'Train':  best_epoch_indx:14\n",
      " auc:0.8404524656621871 \n",
      " apur:0.4073058004599328 \n",
      " f1:0.42973975544676885 \n",
      " precision:0.28972153972153974 \n",
      " recall:0.8316773489322399 \n",
      ", 'Validation':  best_epoch_indx:14\n",
      " auc:0.836658955505523 \n",
      " apur:0.39997153389187284 \n",
      " f1:0.4284601402233186 \n",
      " precision:0.28861290886828755 \n",
      " recall:0.8312342569269522 \n",
      "}\n",
      "=====Epoch 15\n",
      "Training...\n"
     ]
    },
    {
     "name": "stderr",
     "output_type": "stream",
     "text": [
      "Iteration:  15%|█▌        | 154/1001 [00:03<00:18, 44.59it/s]\n",
      "Iteration:  15%|█▌        | 154/1001 [00:03<00:19, 44.09it/s]\n",
      "Iteration: 100%|██████████| 1001/1001 [00:22<00:00, 43.78it/s]\n",
      "Iteration:   0%|          | 4/1001 [00:00<00:26, 38.18it/s]s]"
     ]
    },
    {
     "name": "stdout",
     "output_type": "stream",
     "text": [
      "Evaluating...\n",
      "Evaluating...\n"
     ]
    },
    {
     "name": "stderr",
     "output_type": "stream",
     "text": [
      "Iteration: 100%|██████████| 1001/1001 [00:22<00:00, 43.55it/s]\n",
      "Iteration:  99%|█████████▊| 988/1001 [00:22<00:00, 43.55it/s]]\n",
      "Iteration:   0%|          | 0/1001 [00:00<?, ?it/s]"
     ]
    },
    {
     "name": "stdout",
     "output_type": "stream",
     "text": [
      "Evaluating...\n"
     ]
    },
    {
     "name": "stderr",
     "output_type": "stream",
     "text": [
      "Iteration: 100%|██████████| 1001/1001 [00:23<00:00, 43.39it/s]\n",
      "Iteration: 100%|██████████| 1001/1001 [00:23<00:00, 43.42it/s]\n",
      "Iteration:  20%|██        | 203/1001 [00:04<00:18, 43.59it/s]"
     ]
    },
    {
     "name": "stdout",
     "output_type": "stream",
     "text": [
      "Evaluating...\n",
      "Evaluating...\n"
     ]
    },
    {
     "name": "stderr",
     "output_type": "stream",
     "text": [
      "Iteration:  99%|█████████▊| 988/1001 [00:20<00:00, 61.14it/s]]\n",
      "Iteration:  99%|█████████▉| 994/1001 [00:20<00:00, 62.56it/s]\n",
      "Iteration: 100%|██████████| 112/112 [00:01<00:00, 73.53it/s]s]"
     ]
    },
    {
     "name": "stdout",
     "output_type": "stream",
     "text": [
      "{'Train':  best_epoch_indx:15\n",
      " auc:0.8431483479627819 \n",
      " apur:0.4086582709917623 \n",
      " f1:0.4361350441888844 \n",
      " precision:0.29638341073115815 \n",
      " recall:0.8252679895882896 \n",
      ", 'Validation':  best_epoch_indx:15\n",
      " auc:0.8424638106998938 \n",
      " apur:0.4132188617603718 \n",
      " f1:0.4348290598290598 \n",
      " precision:0.29583863347265127 \n",
      " recall:0.8201511335012595 \n",
      "}\n",
      "=====Epoch 16\n",
      "Training...\n"
     ]
    },
    {
     "name": "stderr",
     "output_type": "stream",
     "text": [
      "\n",
      "Iteration:   3%|▎         | 33/1001 [00:00<00:22, 43.65it/s]\n",
      "Iteration:   0%|          | 0/1001 [00:00<?, ?it/s]"
     ]
    },
    {
     "name": "stdout",
     "output_type": "stream",
     "text": [
      "{'Train':  best_epoch_indx:15\n",
      " auc:0.8454472690841563 \n",
      " apur:0.41354568350682286 \n",
      " f1:0.4386871870943816 \n",
      " precision:0.2984277871962541 \n",
      " recall:0.8277029863696157 \n",
      ", 'Validation':  best_epoch_indx:15\n",
      " auc:0.8423600447395347 \n",
      " apur:0.4216399089987637 \n",
      " f1:0.4360821990926074 \n",
      " precision:0.29660555454710474 \n",
      " recall:0.8231738035264483 \n",
      "}\n",
      "=====Epoch 16\n",
      "Training...\n"
     ]
    },
    {
     "name": "stderr",
     "output_type": "stream",
     "text": [
      "Iteration:   1%|          | 9/1001 [00:00<00:25, 39.59it/s]]\n",
      "Iteration:   2%|▏         | 24/1001 [00:00<00:23, 42.43it/s]\n",
      "Iteration:   6%|▋         | 7/112 [00:00<00:01, 61.26it/s]s]\n",
      "Iteration:  15%|█▌        | 153/1001 [00:03<00:19, 44.01it/s]\n",
      "Iteration:   0%|          | 4/1001 [00:00<00:28, 34.44it/s]s]"
     ]
    },
    {
     "name": "stdout",
     "output_type": "stream",
     "text": [
      "{'Train':  best_epoch_indx:15\n",
      " auc:0.8437854913286011 \n",
      " apur:0.41448946429418543 \n",
      " f1:0.429185414491919 \n",
      " precision:0.28890719651078267 \n",
      " recall:0.834256926952141 \n",
      ", 'Validation':  best_epoch_indx:15\n",
      " auc:0.8371785395948225 \n",
      " apur:0.4109348165392411 \n",
      " f1:0.42810880829015546 \n",
      " precision:0.2881429816913688 \n",
      " recall:0.8324937027707808 \n",
      "}\n",
      "=====Epoch 16\n",
      "Training...\n"
     ]
    },
    {
     "name": "stderr",
     "output_type": "stream",
     "text": [
      "Iteration:   1%|▏         | 14/1001 [00:00<00:24, 40.45it/s]]\n",
      "Iteration:   2%|▏         | 24/1001 [00:00<00:23, 42.30it/s]]"
     ]
    },
    {
     "name": "stdout",
     "output_type": "stream",
     "text": [
      "{'Train':  best_epoch_indx:15\n",
      " auc:0.845010098791506 \n",
      " apur:0.4150886634007307 \n",
      " f1:0.43796347208393405 \n",
      " precision:0.2981295458913741 \n",
      " recall:0.8248481625570265 \n",
      ", 'Validation':  best_epoch_indx:15\n",
      " auc:0.8424289977601946 \n",
      " apur:0.4125378579206061 \n",
      " f1:0.43663571380853766 \n",
      " precision:0.2971179198108919 \n",
      " recall:0.8231738035264483 \n",
      "}\n",
      "=====Epoch 16\n",
      "Training...\n"
     ]
    },
    {
     "name": "stderr",
     "output_type": "stream",
     "text": [
      "Iteration:   2%|▏         | 23/1001 [00:00<00:23, 42.10it/s]]\n",
      "Iteration:   4%|▍         | 44/1001 [00:01<00:21, 43.94it/s]]"
     ]
    },
    {
     "name": "stdout",
     "output_type": "stream",
     "text": [
      "{'Train':  best_epoch_indx:15\n",
      " auc:0.8446422956228422 \n",
      " apur:0.4148577794417115 \n",
      " f1:0.4377432339271022 \n",
      " precision:0.29772516436090835 \n",
      " recall:0.8263875283383246 \n",
      ", 'Validation':  best_epoch_indx:15\n",
      " auc:0.8398930360320568 \n",
      " apur:0.4113617098024005 \n",
      " f1:0.4355614973262032 \n",
      " precision:0.2964513193812557 \n",
      " recall:0.8206549118387909 \n",
      "}\n",
      "=====Epoch 16\n",
      "Training...\n"
     ]
    },
    {
     "name": "stderr",
     "output_type": "stream",
     "text": [
      "Iteration: 100%|██████████| 1001/1001 [00:22<00:00, 43.92it/s]\n",
      "Iteration:  83%|████████▎ | 828/1001 [00:18<00:03, 43.61it/s]"
     ]
    },
    {
     "name": "stdout",
     "output_type": "stream",
     "text": [
      "Evaluating...\n"
     ]
    },
    {
     "name": "stderr",
     "output_type": "stream",
     "text": [
      "Iteration: 100%|██████████| 1001/1001 [00:22<00:00, 43.76it/s]\n",
      "Iteration:   0%|          | 0/1001 [00:00<?, ?it/s]"
     ]
    },
    {
     "name": "stdout",
     "output_type": "stream",
     "text": [
      "Evaluating...\n"
     ]
    },
    {
     "name": "stderr",
     "output_type": "stream",
     "text": [
      "Iteration: 100%|██████████| 1001/1001 [00:22<00:00, 43.79it/s]\n",
      "Iteration:  15%|█▍        | 146/1001 [00:02<00:17, 49.41it/s]"
     ]
    },
    {
     "name": "stdout",
     "output_type": "stream",
     "text": [
      "Evaluating...\n"
     ]
    },
    {
     "name": "stderr",
     "output_type": "stream",
     "text": [
      "Iteration: 100%|██████████| 1001/1001 [00:22<00:00, 43.55it/s]\n",
      "Iteration:  18%|█▊        | 180/1001 [00:03<00:15, 52.36it/s]"
     ]
    },
    {
     "name": "stdout",
     "output_type": "stream",
     "text": [
      "Evaluating...\n"
     ]
    },
    {
     "name": "stderr",
     "output_type": "stream",
     "text": [
      "Iteration: 100%|██████████| 1001/1001 [00:23<00:00, 43.39it/s]\n",
      "Iteration:   4%|▍         | 39/1001 [00:00<00:18, 50.93it/s]]"
     ]
    },
    {
     "name": "stdout",
     "output_type": "stream",
     "text": [
      "Evaluating...\n"
     ]
    },
    {
     "name": "stderr",
     "output_type": "stream",
     "text": [
      "Iteration:  97%|█████████▋| 968/1001 [00:19<00:00, 60.09it/s]]\n",
      "Iteration:  48%|████▊     | 54/112 [00:00<00:00, 66.40it/s]s]]\n",
      "Iteration: 100%|██████████| 112/112 [00:01<00:00, 75.66it/s]s]\n",
      "Iteration:   0%|          | 4/1001 [00:00<00:28, 35.10it/s]"
     ]
    },
    {
     "name": "stdout",
     "output_type": "stream",
     "text": [
      "{'Train':  best_epoch_indx:16\n",
      " auc:0.8457891942124631 \n",
      " apur:0.41934550637804624 \n",
      " f1:0.44066397514595745 \n",
      " precision:0.30104891878313117 \n",
      " recall:0.8217694309944303 \n",
      ", 'Validation':  best_epoch_indx:16\n",
      " auc:0.845253881602062 \n",
      " apur:0.42323301190233875 \n",
      " f1:0.43758026360256846 \n",
      " precision:0.29903002309468824 \n",
      " recall:0.8153652392947103 \n",
      "}\n",
      "=====Epoch 17\n",
      "Training...\n"
     ]
    },
    {
     "name": "stderr",
     "output_type": "stream",
     "text": [
      "Iteration:   2%|▏         | 24/1001 [00:00<00:23, 42.20it/s]\n",
      "Iteration:   0%|          | 0/1001 [00:00<?, ?it/s]\n",
      "Iteration:   0%|          | 0/112 [00:00<?, ?it/s]"
     ]
    },
    {
     "name": "stdout",
     "output_type": "stream",
     "text": [
      "{'Train':  best_epoch_indx:16\n",
      " auc:0.8463863456051659 \n",
      " apur:0.41835883305471555 \n",
      " f1:0.44592050854779985 \n",
      " precision:0.3078012673731296 \n",
      " recall:0.808894735369028 \n",
      ", 'Validation':  best_epoch_indx:16\n",
      " auc:0.8413811124180667 \n",
      " apur:0.4291374072850878 \n",
      " f1:0.4413334257398294 \n",
      " precision:0.30442680944640976 \n",
      " recall:0.802015113350126 \n",
      "}\n",
      "=====Epoch 17\n",
      "Training...\n"
     ]
    },
    {
     "name": "stderr",
     "output_type": "stream",
     "text": [
      "Iteration:   4%|▍         | 39/1001 [00:00<00:21, 43.77it/s]\n",
      "Iteration:   4%|▍         | 43/1001 [00:01<00:21, 43.93it/s]\n",
      "Iteration:  67%|██████▋   | 75/112 [00:01<00:00, 50.81it/s]s]\n",
      "Iteration:  11%|█         | 108/1001 [00:02<00:25, 35.23it/s]"
     ]
    },
    {
     "name": "stdout",
     "output_type": "stream",
     "text": [
      "{'Train':  best_epoch_indx:16\n",
      " auc:0.8468452062347034 \n",
      " apur:0.4177840491823649 \n",
      " f1:0.43924942520210636 \n",
      " precision:0.29880928355196773 \n",
      " recall:0.8287713406101316 \n",
      ", 'Validation':  best_epoch_indx:16\n",
      " auc:0.8384810998266081 \n",
      " apur:0.4124270062343395 \n",
      " f1:0.43628827383340024 \n",
      " precision:0.2969603203494722 \n",
      " recall:0.8219143576826197 \n",
      "}\n",
      "=====Epoch 17\n",
      "Training...\n"
     ]
    },
    {
     "name": "stderr",
     "output_type": "stream",
     "text": [
      "Iteration:  15%|█▍        | 148/1001 [00:03<00:19, 44.30it/s]"
     ]
    },
    {
     "name": "stdout",
     "output_type": "stream",
     "text": [
      "{'Train':  best_epoch_indx:16\n",
      " auc:0.8474377950567488 \n",
      " apur:0.4253582334204629 \n",
      " f1:0.43995084348117525 \n",
      " precision:0.2997381667613867 \n",
      " recall:0.8266394245570825 \n",
      ", 'Validation':  best_epoch_indx:16\n",
      " auc:0.8437769138138242 \n",
      " apur:0.4206534172783092 \n",
      " f1:0.43856712420488786 \n",
      " precision:0.29867761057911535 \n",
      " recall:0.8249370277078085 \n",
      "}\n",
      "=====Epoch 17\n",
      "Training...\n",
      "{'Train':  best_epoch_indx:16\n",
      " auc:0.846879634002769 \n",
      " apur:0.4174286018656613 \n",
      " f1:0.43440935570058253 \n",
      " precision:0.2938463513633625 \n",
      " recall:0.832768899213524 \n",
      ", 'Validation':  best_epoch_indx:16\n",
      " auc:0.8404434559087668 \n",
      " apur:0.4064810208093716 \n",
      " f1:0.43123604360961515 \n",
      " precision:0.2916666666666667 \n",
      " recall:0.8269521410579345 \n",
      "}\n",
      "=====Epoch 17\n",
      "Training...\n"
     ]
    },
    {
     "name": "stderr",
     "output_type": "stream",
     "text": [
      "\n",
      "Iteration:   4%|▍         | 44/1001 [00:01<00:21, 43.95it/s]]\n",
      "Iteration: 100%|██████████| 1001/1001 [00:22<00:00, 43.80it/s]\n",
      "Iteration:  82%|████████▏ | 824/1001 [00:18<00:03, 44.63it/s]"
     ]
    },
    {
     "name": "stdout",
     "output_type": "stream",
     "text": [
      "Evaluating...\n"
     ]
    },
    {
     "name": "stderr",
     "output_type": "stream",
     "text": [
      "Iteration: 100%|██████████| 1001/1001 [00:22<00:00, 43.56it/s]\n",
      "Iteration:  85%|████████▌ | 854/1001 [00:19<00:03, 43.48it/s]"
     ]
    },
    {
     "name": "stdout",
     "output_type": "stream",
     "text": [
      "Evaluating...\n"
     ]
    },
    {
     "name": "stderr",
     "output_type": "stream",
     "text": [
      "Iteration: 100%|██████████| 1001/1001 [00:23<00:00, 43.48it/s]\n",
      "Iteration:   0%|          | 5/1001 [00:00<00:22, 44.72it/s]s]"
     ]
    },
    {
     "name": "stdout",
     "output_type": "stream",
     "text": [
      "Evaluating...\n"
     ]
    },
    {
     "name": "stderr",
     "output_type": "stream",
     "text": [
      "Iteration: 100%|██████████| 1001/1001 [00:23<00:00, 43.44it/s]\n",
      "Iteration: 100%|██████████| 1001/1001 [00:23<00:00, 43.49it/s]\n",
      "Iteration:   5%|▌         | 51/1001 [00:01<00:19, 48.23it/s]"
     ]
    },
    {
     "name": "stdout",
     "output_type": "stream",
     "text": [
      "Evaluating...\n",
      "Evaluating...\n"
     ]
    },
    {
     "name": "stderr",
     "output_type": "stream",
     "text": [
      "Iteration:  95%|█████████▌| 952/1001 [00:19<00:00, 54.51it/s]]\n",
      "Iteration: 100%|██████████| 1001/1001 [00:20<00:00, 47.96it/s]\n",
      "Iteration: 100%|██████████| 112/112 [00:01<00:00, 75.86it/s]"
     ]
    },
    {
     "name": "stdout",
     "output_type": "stream",
     "text": [
      "{'Train':  best_epoch_indx:17\n",
      " auc:0.8497603629261195 \n",
      " apur:0.431624660423988 \n",
      " f1:0.44395759399173185 \n",
      " precision:0.3032781843901839 \n",
      " recall:0.8280668364633771 \n",
      ", 'Validation':  best_epoch_indx:17\n",
      " auc:0.8470912273877678 \n",
      " apur:0.43241475092810533 \n",
      " f1:0.4402838796890841 \n",
      " precision:0.30087759815242493 \n",
      " recall:0.8204030226700252 \n",
      "}\n",
      "=====Epoch 18\n",
      "Training...\n"
     ]
    },
    {
     "name": "stderr",
     "output_type": "stream",
     "text": [
      "\n",
      "Iteration:   1%|          | 9/1001 [00:00<00:25, 39.29it/s]\n",
      "Iteration:  19%|█▉        | 21/112 [00:00<00:01, 61.34it/s]]\n",
      "Iteration:  30%|███       | 34/112 [00:00<00:01, 58.44it/s]]"
     ]
    },
    {
     "name": "stdout",
     "output_type": "stream",
     "text": [
      "{'Train':  best_epoch_indx:17\n",
      " auc:0.8508756776745128 \n",
      " apur:0.4291062943714903 \n",
      " f1:0.436606694286484 \n",
      " precision:0.2950635751682872 \n",
      " recall:0.8391502700887234 \n",
      ", 'Validation':  best_epoch_indx:17\n",
      " auc:0.8455958266986747 \n",
      " apur:0.4364374170486506 \n",
      " f1:0.4347996857816182 \n",
      " precision:0.2937378383159384 \n",
      " recall:0.8365239294710327 \n",
      "}\n",
      "=====Epoch 18\n",
      "Training...\n"
     ]
    },
    {
     "name": "stderr",
     "output_type": "stream",
     "text": [
      "Iteration:   2%|▏         | 19/1001 [00:00<00:23, 41.63it/s]\n",
      "Iteration:   5%|▌         | 6/112 [00:00<00:01, 57.98it/s]s]\n",
      "Iteration:  15%|█▍        | 149/1001 [00:03<00:19, 44.28it/s]\n",
      "Iteration:  12%|█▏        | 119/1001 [00:02<00:22, 39.75it/s]"
     ]
    },
    {
     "name": "stdout",
     "output_type": "stream",
     "text": [
      "{'Train':  best_epoch_indx:17\n",
      " auc:0.849534104282906 \n",
      " apur:0.4240312792111646 \n",
      " f1:0.4419267269423194 \n",
      " precision:0.3015338456357346 \n",
      " recall:0.8269521410579345 \n",
      ", 'Validation':  best_epoch_indx:17\n",
      " auc:0.8418756293050639 \n",
      " apur:0.4159186743052093 \n",
      " f1:0.44065963773992967 \n",
      " precision:0.3011269166820617 \n",
      " recall:0.8211586901763224 \n",
      "}\n",
      "=====Epoch 18\n",
      "Training...\n"
     ]
    },
    {
     "name": "stderr",
     "output_type": "stream",
     "text": [
      "Iteration:  19%|█▉        | 189/1001 [00:04<00:19, 40.79it/s]\n",
      "Iteration:  16%|█▌        | 159/1001 [00:03<00:19, 43.60it/s]"
     ]
    },
    {
     "name": "stdout",
     "output_type": "stream",
     "text": [
      "{'Train':  best_epoch_indx:17\n",
      " auc:0.8494890369989101 \n",
      " apur:0.430215577885257 \n",
      " f1:0.43883379758588664 \n",
      " precision:0.2986875101116324 \n",
      " recall:0.826751378432086 \n",
      ", 'Validation':  best_epoch_indx:17\n",
      " auc:0.8420359839710476 \n",
      " apur:0.4221622016769493 \n",
      " f1:0.43589743589743585 \n",
      " precision:0.2965655097219698 \n",
      " recall:0.8221662468513854 \n",
      "}\n",
      "=====Epoch 18\n",
      "Training...\n",
      "{'Train':  best_epoch_indx:17\n",
      " auc:0.8491165392429403 \n",
      " apur:0.4287398425919407 \n",
      " f1:0.44376285881307936 \n",
      " precision:0.30446921554328576 \n",
      " recall:0.8179909877130622 \n",
      ", 'Validation':  best_epoch_indx:17\n",
      " auc:0.8452888016848727 \n",
      " apur:0.42146142934658415 \n",
      " f1:0.44488593546619165 \n",
      " precision:0.3055424861202597 \n",
      " recall:0.8178841309823678 \n",
      "}\n",
      "=====Epoch 18\n",
      "Training...\n"
     ]
    },
    {
     "name": "stderr",
     "output_type": "stream",
     "text": [
      "Iteration:  16%|█▋        | 164/1001 [00:03<00:19, 43.99it/s]\n",
      "Iteration: 100%|██████████| 1001/1001 [00:22<00:00, 43.86it/s]\n",
      "Iteration:  81%|████████  | 809/1001 [00:18<00:04, 43.78it/s]"
     ]
    },
    {
     "name": "stdout",
     "output_type": "stream",
     "text": [
      "Evaluating...\n"
     ]
    },
    {
     "name": "stderr",
     "output_type": "stream",
     "text": [
      "Iteration: 100%|██████████| 1001/1001 [00:23<00:00, 43.51it/s]\n",
      "Iteration:  84%|████████▍ | 839/1001 [00:19<00:03, 44.71it/s]"
     ]
    },
    {
     "name": "stdout",
     "output_type": "stream",
     "text": [
      "Evaluating...\n"
     ]
    },
    {
     "name": "stderr",
     "output_type": "stream",
     "text": [
      "Iteration: 100%|██████████| 1001/1001 [00:23<00:00, 43.48it/s]\n",
      "Iteration:  96%|█████████▋| 964/1001 [00:22<00:00, 44.84it/s]"
     ]
    },
    {
     "name": "stdout",
     "output_type": "stream",
     "text": [
      "Evaluating...\n"
     ]
    },
    {
     "name": "stderr",
     "output_type": "stream",
     "text": [
      "Iteration: 100%|██████████| 1001/1001 [00:23<00:00, 43.45it/s]\n",
      "Iteration: 100%|██████████| 1001/1001 [00:23<00:00, 43.50it/s]\n",
      "Iteration:  24%|██▎       | 237/1001 [00:04<00:16, 47.60it/s]"
     ]
    },
    {
     "name": "stdout",
     "output_type": "stream",
     "text": [
      "Evaluating...\n",
      "Evaluating...\n"
     ]
    },
    {
     "name": "stderr",
     "output_type": "stream",
     "text": [
      "Iteration:  94%|█████████▍| 942/1001 [00:19<00:01, 46.86it/s]]\n",
      "Iteration:  98%|█████████▊| 985/1001 [00:20<00:00, 59.46it/s]\n",
      "Iteration: 100%|██████████| 112/112 [00:01<00:00, 73.56it/s]s]\n",
      "Iteration:   0%|          | 4/1001 [00:00<00:29, 33.24it/s]"
     ]
    },
    {
     "name": "stdout",
     "output_type": "stream",
     "text": [
      "{'Train':  best_epoch_indx:18\n",
      " auc:0.8522032603313354 \n",
      " apur:0.43744590321979987 \n",
      " f1:0.4436918752429653 \n",
      " precision:0.30269801601468865 \n",
      " recall:0.830557810182205 \n",
      ", 'Validation':  best_epoch_indx:18\n",
      " auc:0.8482178243451263 \n",
      " apur:0.43546454182366257 \n",
      " f1:0.4396609713440064 \n",
      " precision:0.2999265785609398 \n",
      " recall:0.8231738035264483 \n",
      "}\n",
      "=====Epoch 19\n",
      "Training...\n"
     ]
    },
    {
     "name": "stderr",
     "output_type": "stream",
     "text": [
      "Iteration:   1%|          | 9/1001 [00:00<00:26, 37.97it/s]\n",
      "Iteration:  13%|█▎        | 15/112 [00:00<00:01, 68.66it/s]]\n",
      "Iteration:   2%|▏         | 23/1001 [00:00<00:23, 41.29it/s]"
     ]
    },
    {
     "name": "stdout",
     "output_type": "stream",
     "text": [
      "{'Train':  best_epoch_indx:18\n",
      " auc:0.8529808677623061 \n",
      " apur:0.4363994838508537 \n",
      " f1:0.4477936701156421 \n",
      " precision:0.3074777193843968 \n",
      " recall:0.8236726468694898 \n",
      ", 'Validation':  best_epoch_indx:18\n",
      " auc:0.8471740832985404 \n",
      " apur:0.44139914561437016 \n",
      " f1:0.44316467845879615 \n",
      " precision:0.3044461190655614 \n",
      " recall:0.8141057934508816 \n",
      "}\n",
      "=====Epoch 19\n",
      "Training...\n"
     ]
    },
    {
     "name": "stderr",
     "output_type": "stream",
     "text": [
      "Iteration:   5%|▌         | 53/1001 [00:01<00:21, 43.13it/s]\n",
      "Iteration:   6%|▋         | 63/1001 [00:01<00:21, 43.82it/s]\n",
      "Iteration:  11%|█▏        | 114/1001 [00:02<00:24, 35.65it/s]"
     ]
    },
    {
     "name": "stdout",
     "output_type": "stream",
     "text": [
      "{'Train':  best_epoch_indx:18\n",
      " auc:0.8531338109643352 \n",
      " apur:0.43808256987012373 \n",
      " f1:0.44518663158450256 \n",
      " precision:0.3046609775980023 \n",
      " recall:0.8263364119787293 \n",
      ", 'Validation':  best_epoch_indx:18\n",
      " auc:0.8447304575036564 \n",
      " apur:0.4289860747623153 \n",
      " f1:0.44110650445184524 \n",
      " precision:0.30205715349529927 \n",
      " recall:0.8173803526448362 \n",
      "}\n",
      "=====Epoch 19\n",
      "Training...\n"
     ]
    },
    {
     "name": "stderr",
     "output_type": "stream",
     "text": [
      "\n",
      "Iteration:  17%|█▋        | 169/1001 [00:04<00:18, 43.90it/s]\n",
      "Iteration:  17%|█▋        | 174/1001 [00:04<00:18, 44.38it/s]\n",
      "Iteration:   0%|          | 4/1001 [00:00<00:28, 34.77it/s]"
     ]
    },
    {
     "name": "stdout",
     "output_type": "stream",
     "text": [
      "{'Train':  best_epoch_indx:18\n",
      " auc:0.8531744185687693 \n",
      " apur:0.4418052500081247 \n",
      " f1:0.44678233896414465 \n",
      " precision:0.30726791231425626 \n",
      " recall:0.8183548378068236 \n",
      ", 'Validation':  best_epoch_indx:18\n",
      " auc:0.8488027014464065 \n",
      " apur:0.4379705746823796 \n",
      " f1:0.44586512683027424 \n",
      " precision:0.3066086792096058 \n",
      " recall:0.8168765743073048 \n",
      "}\n",
      "=====Epoch 19\n",
      "Training...\n",
      "{'Train':  best_epoch_indx:18\n",
      " auc:0.8527952908008676 \n",
      " apur:0.4403504345714352 \n",
      " f1:0.44603789704940044 \n",
      " precision:0.30657592567347924 \n",
      " recall:0.818270872400571 \n",
      ", 'Validation':  best_epoch_indx:18\n",
      " auc:0.8452391387099576 \n",
      " apur:0.43114473559861666 \n",
      " f1:0.4431055730521704 \n",
      " precision:0.30424971793907485 \n",
      " recall:0.8151133501259445 \n",
      "}\n",
      "=====Epoch 19\n",
      "Training...\n"
     ]
    },
    {
     "name": "stderr",
     "output_type": "stream",
     "text": [
      "Iteration: 100%|██████████| 1001/1001 [00:22<00:00, 43.80it/s]\n",
      "Iteration:  79%|███████▉  | 794/1001 [00:18<00:04, 44.36it/s]"
     ]
    },
    {
     "name": "stdout",
     "output_type": "stream",
     "text": [
      "Evaluating...\n"
     ]
    },
    {
     "name": "stderr",
     "output_type": "stream",
     "text": [
      "Iteration: 100%|██████████| 1001/1001 [00:23<00:00, 43.38it/s]\n",
      "Iteration:   0%|          | 4/1001 [00:00<00:27, 36.07it/s]s]"
     ]
    },
    {
     "name": "stdout",
     "output_type": "stream",
     "text": [
      "Evaluating...\n"
     ]
    },
    {
     "name": "stderr",
     "output_type": "stream",
     "text": [
      "Iteration: 100%|██████████| 1001/1001 [00:22<00:00, 43.60it/s]\n",
      "Iteration:  94%|█████████▍| 944/1001 [00:21<00:01, 44.41it/s]"
     ]
    },
    {
     "name": "stdout",
     "output_type": "stream",
     "text": [
      "Evaluating...\n"
     ]
    },
    {
     "name": "stderr",
     "output_type": "stream",
     "text": [
      "Iteration: 100%|██████████| 1001/1001 [00:23<00:00, 43.36it/s]\n",
      "Iteration: 100%|██████████| 1001/1001 [00:23<00:00, 43.49it/s]\n",
      "Iteration:   7%|▋         | 69/1001 [00:01<00:18, 49.51it/s]]"
     ]
    },
    {
     "name": "stdout",
     "output_type": "stream",
     "text": [
      "Evaluating...\n",
      "Evaluating...\n"
     ]
    },
    {
     "name": "stderr",
     "output_type": "stream",
     "text": [
      "Iteration:  95%|█████████▍| 946/1001 [00:19<00:01, 54.81it/s]]\n",
      "Iteration: 100%|██████████| 1001/1001 [00:20<00:00, 49.27it/s]\n",
      "Iteration: 100%|██████████| 112/112 [00:01<00:00, 76.22it/s]s]"
     ]
    },
    {
     "name": "stdout",
     "output_type": "stream",
     "text": [
      "{'Train':  best_epoch_indx:19\n",
      " auc:0.8560248735126834 \n",
      " apur:0.447879770017268 \n",
      " f1:0.4452636831482598 \n",
      " precision:0.3033528850642366 \n",
      " recall:0.8366592963698956 \n",
      ", 'Validation':  best_epoch_indx:19\n",
      " auc:0.8506460472463407 \n",
      " apur:0.4436943365893078 \n",
      " f1:0.4409152086137281 \n",
      " precision:0.30082644628099175 \n",
      " recall:0.8251889168765743 \n",
      "}\n",
      "=====Epoch 20\n",
      "Training...\n"
     ]
    },
    {
     "name": "stderr",
     "output_type": "stream",
     "text": [
      "\n",
      "Iteration:   1%|▏         | 14/1001 [00:00<00:24, 41.00it/s]\n",
      "Iteration:   3%|▎         | 29/1001 [00:00<00:22, 42.97it/s]\n",
      "Iteration:  27%|██▋       | 30/112 [00:00<00:01, 62.93it/s]]"
     ]
    },
    {
     "name": "stdout",
     "output_type": "stream",
     "text": [
      "{'Train':  best_epoch_indx:19\n",
      " auc:0.8570643695745632 \n",
      " apur:0.44858617262356293 \n",
      " f1:0.4485070448113565 \n",
      " precision:0.3073476795436868 \n",
      " recall:0.8294662599009208 \n",
      ", 'Validation':  best_epoch_indx:19\n",
      " auc:0.8496511806013711 \n",
      " apur:0.452591566249014 \n",
      " f1:0.44495912806539506 \n",
      " precision:0.30494864612511674 \n",
      " recall:0.8226700251889169 \n",
      "}\n",
      "=====Epoch 20\n",
      "Training...\n"
     ]
    },
    {
     "name": "stderr",
     "output_type": "stream",
     "text": [
      "Iteration:   5%|▌         | 54/1001 [00:01<00:21, 44.73it/s]\n",
      "Iteration:  51%|█████     | 57/112 [00:00<00:01, 53.76it/s]]\n",
      "Iteration: 100%|██████████| 112/112 [00:02<00:00, 52.14it/s]]\n",
      "Iteration:   0%|          | 4/1001 [00:00<00:26, 36.93it/s]]]"
     ]
    },
    {
     "name": "stdout",
     "output_type": "stream",
     "text": [
      "{'Train':  best_epoch_indx:19\n",
      " auc:0.8558378455207407 \n",
      " apur:0.44590712619607176 \n",
      " f1:0.4415160624122649 \n",
      " precision:0.2993730876182313 \n",
      " recall:0.8406661069129583 \n",
      ", 'Validation':  best_epoch_indx:19\n",
      " auc:0.846612644824272 \n",
      " apur:0.4371685958195938 \n",
      " f1:0.43849061608859996 \n",
      " precision:0.2975965433432352 \n",
      " recall:0.8327455919395466 \n",
      "}\n",
      "=====Epoch 20\n",
      "Training...\n"
     ]
    },
    {
     "name": "stderr",
     "output_type": "stream",
     "text": [
      "Iteration:   4%|▍         | 39/1001 [00:00<00:22, 43.56it/s]]\n",
      "Iteration:   4%|▍         | 44/1001 [00:01<00:22, 43.23it/s]]"
     ]
    },
    {
     "name": "stdout",
     "output_type": "stream",
     "text": [
      "{'Train':  best_epoch_indx:19\n",
      " auc:0.8559370897024667 \n",
      " apur:0.44849242114303145 \n",
      " f1:0.4450751603069484 \n",
      " precision:0.30412609155182496 \n",
      " recall:0.8295222368384225 \n",
      ", 'Validation':  best_epoch_indx:19\n",
      " auc:0.850336793655825 \n",
      " apur:0.4405975973039099 \n",
      " f1:0.4413996910470817 \n",
      " precision:0.3009433098269072 \n",
      " recall:0.8277078085642318 \n",
      "}\n",
      "=====Epoch 20\n",
      "Training...\n"
     ]
    },
    {
     "name": "stderr",
     "output_type": "stream",
     "text": [
      "\r",
      "Iteration:   0%|          | 4/1001 [00:00<00:31, 32.01it/s]\r",
      "Iteration:  19%|█▉        | 194/1001 [00:04<00:18, 42.86it/s]\r",
      "Iteration:  16%|█▌        | 159/1001 [00:03<00:20, 40.61it/s]\r",
      "Iteration:   5%|▍         | 49/1001 [00:01<00:21, 43.87it/s]\r",
      "Iteration:   1%|          | 9/1001 [00:00<00:26, 36.94it/s]\n",
      "\r",
      "Iteration:   0%|          | 0/1001 [00:00<?, ?it/s]\r",
      "Iteration:  20%|█▉        | 199/1001 [00:04<00:19, 41.41it/s]\r",
      "Iteration:  16%|█▋        | 164/1001 [00:03<00:21, 39.50it/s]\r",
      "Iteration:   5%|▌         | 54/1001 [00:01<00:21, 43.34it/s]"
     ]
    },
    {
     "name": "stdout",
     "output_type": "stream",
     "text": [
      "{'Train':  best_epoch_indx:19\n",
      " auc:0.8566608046973455 \n",
      " apur:0.44803665374550866 \n",
      " f1:0.44303186472899003 \n",
      " precision:0.3015141407402915 \n",
      " recall:0.8348960228385905 \n",
      ", 'Validation':  best_epoch_indx:19\n",
      " auc:0.848337066056471 \n",
      " apur:0.4360689039237768 \n",
      " f1:0.44070512820512825 \n",
      " precision:0.2998364528439033 \n",
      " recall:0.8312342569269522 \n",
      "}\n",
      "=====Epoch 20\n",
      "Training...\n"
     ]
    },
    {
     "name": "stderr",
     "output_type": "stream",
     "text": [
      "Iteration:  96%|█████████▋| 964/1001 [00:22<00:00, 43.34it/s]]\n",
      "Iteration:  80%|███████▉  | 799/1001 [00:18<00:04, 44.21it/s]"
     ]
    },
    {
     "name": "stdout",
     "output_type": "stream",
     "text": [
      "Evaluating...\n"
     ]
    },
    {
     "name": "stderr",
     "output_type": "stream",
     "text": [
      "Iteration: 100%|██████████| 1001/1001 [00:23<00:00, 43.46it/s]\n",
      "Iteration:   0%|          | 5/1001 [00:00<00:22, 45.21it/s]s]"
     ]
    },
    {
     "name": "stdout",
     "output_type": "stream",
     "text": [
      "Evaluating...\n"
     ]
    },
    {
     "name": "stderr",
     "output_type": "stream",
     "text": [
      "Iteration: 100%|██████████| 1001/1001 [00:23<00:00, 43.35it/s]\n",
      "Iteration:   0%|          | 0/1001 [00:00<?, ?it/s]"
     ]
    },
    {
     "name": "stdout",
     "output_type": "stream",
     "text": [
      "Evaluating...\n"
     ]
    },
    {
     "name": "stderr",
     "output_type": "stream",
     "text": [
      "Iteration: 100%|██████████| 1001/1001 [00:23<00:00, 43.19it/s]\n",
      "Iteration:  99%|█████████▉| 994/1001 [00:22<00:00, 44.34it/s]"
     ]
    },
    {
     "name": "stdout",
     "output_type": "stream",
     "text": [
      "Evaluating...\n"
     ]
    },
    {
     "name": "stderr",
     "output_type": "stream",
     "text": [
      "\r",
      "Iteration:  22%|██▏       | 222/1001 [00:04<00:15, 49.42it/s]\r",
      "Iteration:   6%|▌         | 58/1001 [00:01<00:17, 55.37it/s]\r",
      "Iteration:   0%|          | 5/1001 [00:00<00:21, 46.44it/s]\r",
      "Iteration:  18%|█▊        | 185/1001 [00:03<00:22, 37.04it/s]\r",
      "Iteration: 100%|█████████▉| 999/1001 [00:23<00:00, 44.23it/s]\r",
      "Iteration:   6%|▋         | 64/1001 [00:01<00:17, 52.72it/s]\r",
      "Iteration:  23%|██▎       | 228/1001 [00:04<00:16, 47.73it/s]\r",
      "Iteration:   1%|          | 10/1001 [00:00<00:20, 47.27it/s]\r",
      "Iteration: 100%|██████████| 1001/1001 [00:23<00:00, 43.23it/s]\n",
      "\r",
      "Iteration:   0%|          | 0/1001 [00:00<?, ?it/s]\r",
      "Iteration:  19%|█▉        | 191/1001 [00:04<00:19, 41.00it/s]"
     ]
    },
    {
     "name": "stdout",
     "output_type": "stream",
     "text": [
      "Evaluating...\n"
     ]
    },
    {
     "name": "stderr",
     "output_type": "stream",
     "text": [
      "Iteration:  96%|█████████▌| 963/1001 [00:19<00:00, 63.54it/s]]\n",
      "Iteration: 100%|██████████| 1001/1001 [00:20<00:00, 49.50it/s]\n",
      "Iteration:  78%|███████▊  | 87/112 [00:01<00:00, 73.91it/s]]\n",
      "Iteration:   0%|          | 4/1001 [00:00<00:26, 37.48it/s]"
     ]
    },
    {
     "name": "stdout",
     "output_type": "stream",
     "text": [
      "{'Train':  best_epoch_indx:20\n",
      " auc:0.8554735277483057 \n",
      " apur:0.4447677694478783 \n",
      " f1:0.4486043588229058 \n",
      " precision:0.3075006488450558 \n",
      " recall:0.8290184444009068 \n",
      ", 'Validation':  best_epoch_indx:20\n",
      " auc:0.8502102576414681 \n",
      " apur:0.43621687396622033 \n",
      " f1:0.44452031410037557 \n",
      " precision:0.30491803278688523 \n",
      " recall:0.8198992443324937 \n",
      "}\n",
      "=====Epoch 21\n",
      "Training...\n"
     ]
    },
    {
     "name": "stderr",
     "output_type": "stream",
     "text": [
      "Iteration:   2%|▏         | 19/1001 [00:00<00:23, 42.06it/s]"
     ]
    },
    {
     "name": "stdout",
     "output_type": "stream",
     "text": [
      "{'Train':  best_epoch_indx:20\n",
      " auc:0.8573934569761216 \n",
      " apur:0.44990827183193993 \n",
      " f1:0.44907309080979396 \n",
      " precision:0.3080108628924012 \n",
      " recall:0.8285146519633911 \n",
      ", 'Validation':  best_epoch_indx:20\n",
      " auc:0.8493828728222413 \n",
      " apur:0.45197572839782973 \n",
      " f1:0.4441561987984708 \n",
      " precision:0.3046450646188425 \n",
      " recall:0.8193954659949623 \n",
      "}\n",
      "=====Epoch 21\n",
      "Training...\n"
     ]
    },
    {
     "name": "stderr",
     "output_type": "stream",
     "text": [
      "\n",
      "Iteration:   4%|▍         | 39/1001 [00:00<00:21, 44.33it/s]\n",
      "Iteration:   7%|▋         | 74/1001 [00:01<00:20, 45.32it/s]\n",
      "Iteration:   5%|▍         | 49/1001 [00:01<00:21, 44.22it/s]\n",
      "Iteration:  79%|███████▉  | 89/112 [00:01<00:00, 56.10it/s]s]\n",
      "Iteration:  87%|████████▋ | 97/112 [00:01<00:00, 51.88it/s]]]"
     ]
    },
    {
     "name": "stdout",
     "output_type": "stream",
     "text": [
      "{'Train':  best_epoch_indx:20\n",
      " auc:0.8559808126780699 \n",
      " apur:0.4431828352570352 \n",
      " f1:0.4451926674148896 \n",
      " precision:0.3038194444444444 \n",
      " recall:0.832633641197873 \n",
      ", 'Validation':  best_epoch_indx:20\n",
      " auc:0.8455726795009256 \n",
      " apur:0.43213837607414585 \n",
      " f1:0.44143232854541775 \n",
      " precision:0.30140896951837187 \n",
      " recall:0.8244332493702771 \n",
      "}\n",
      "=====Epoch 21\n",
      "Training...\n"
     ]
    },
    {
     "name": "stderr",
     "output_type": "stream",
     "text": [
      "Iteration:   3%|▎         | 34/1001 [00:00<00:22, 43.68it/s]]\n",
      "Iteration:   0%|          | 0/1001 [00:00<?, ?it/s]"
     ]
    },
    {
     "name": "stdout",
     "output_type": "stream",
     "text": [
      "{'Train':  best_epoch_indx:20\n",
      " auc:0.8565689111297881 \n",
      " apur:0.44615453813140543 \n",
      " f1:0.44865387102418386 \n",
      " precision:0.3080587534736006 \n",
      " recall:0.8253239665257913 \n",
      ", 'Validation':  best_epoch_indx:20\n",
      " auc:0.8465383389337752 \n",
      " apur:0.4289378632586482 \n",
      " f1:0.44461149456707444 \n",
      " precision:0.30507361905655067 \n",
      " recall:0.8193954659949623 \n",
      "}\n",
      "=====Epoch 21\n",
      "Training...\n"
     ]
    },
    {
     "name": "stderr",
     "output_type": "stream",
     "text": [
      "Iteration:   2%|▏         | 24/1001 [00:00<00:23, 41.04it/s]]\n",
      "Iteration:   0%|          | 4/1001 [00:00<00:26, 37.34it/s]]]"
     ]
    },
    {
     "name": "stdout",
     "output_type": "stream",
     "text": [
      "{'Train':  best_epoch_indx:20\n",
      " auc:0.8555019709753146 \n",
      " apur:0.4474259830575139 \n",
      " f1:0.44787416384789236 \n",
      " precision:0.30717295188556565 \n",
      " recall:0.8264155168070755 \n",
      ", 'Validation':  best_epoch_indx:20\n",
      " auc:0.8504258038669062 \n",
      " apur:0.44085347155527466 \n",
      " f1:0.4457905124889403 \n",
      " precision:0.3054182598153502 \n",
      " recall:0.8249370277078085 \n",
      "}\n",
      "=====Epoch 21\n",
      "Training...\n"
     ]
    },
    {
     "name": "stderr",
     "output_type": "stream",
     "text": [
      "Iteration: 100%|██████████| 1001/1001 [00:22<00:00, 43.89it/s]\n",
      "Iteration:   1%|          | 6/1001 [00:00<00:19, 52.27it/s]s]"
     ]
    },
    {
     "name": "stdout",
     "output_type": "stream",
     "text": [
      "Evaluating...\n"
     ]
    },
    {
     "name": "stderr",
     "output_type": "stream",
     "text": [
      "Iteration: 100%|██████████| 1001/1001 [00:23<00:00, 43.44it/s]\n",
      "Iteration:   0%|          | 0/1001 [00:00<?, ?it/s]"
     ]
    },
    {
     "name": "stdout",
     "output_type": "stream",
     "text": [
      "Evaluating...\n"
     ]
    },
    {
     "name": "stderr",
     "output_type": "stream",
     "text": [
      "Iteration: 100%|██████████| 1001/1001 [00:22<00:00, 43.67it/s]\n",
      "Iteration:   0%|          | 4/1001 [00:00<00:25, 38.86it/s]s]"
     ]
    },
    {
     "name": "stdout",
     "output_type": "stream",
     "text": [
      "Evaluating...\n"
     ]
    },
    {
     "name": "stderr",
     "output_type": "stream",
     "text": [
      "Iteration: 100%|██████████| 1001/1001 [00:23<00:00, 43.41it/s]\n",
      "Iteration:   0%|          | 4/1001 [00:00<00:25, 39.64it/s]]]"
     ]
    },
    {
     "name": "stdout",
     "output_type": "stream",
     "text": [
      "Evaluating...\n"
     ]
    },
    {
     "name": "stderr",
     "output_type": "stream",
     "text": [
      "Iteration: 100%|██████████| 1001/1001 [00:23<00:00, 43.33it/s]\n",
      "Iteration:   0%|          | 3/1001 [00:00<00:33, 29.99it/s]]]"
     ]
    },
    {
     "name": "stdout",
     "output_type": "stream",
     "text": [
      "Evaluating...\n"
     ]
    },
    {
     "name": "stderr",
     "output_type": "stream",
     "text": [
      "Iteration: 100%|██████████| 1001/1001 [00:20<00:00, 48.88it/s]\n",
      "Iteration:  31%|███▏      | 35/112 [00:00<00:01, 62.04it/s]s]\n",
      "Iteration:  90%|█████████ | 101/112 [00:01<00:00, 74.62it/s]s]\n",
      "Iteration:   0%|          | 4/1001 [00:00<00:27, 36.16it/s]]"
     ]
    },
    {
     "name": "stdout",
     "output_type": "stream",
     "text": [
      "{'Train':  best_epoch_indx:21\n",
      " auc:0.8544447657725219 \n",
      " apur:0.44067985449668784 \n",
      " f1:0.45067173189169235 \n",
      " precision:0.3107053484327947 \n",
      " recall:0.8201181113381287 \n",
      ", 'Validation':  best_epoch_indx:21\n",
      " auc:0.8495536246557386 \n",
      " apur:0.4345378224622305 \n",
      " f1:0.4463543110618242 \n",
      " precision:0.3078982597054886 \n",
      " recall:0.8110831234256927 \n",
      "}\n",
      "=====Epoch 22\n",
      "Training...\n"
     ]
    },
    {
     "name": "stderr",
     "output_type": "stream",
     "text": [
      "\r",
      "Iteration:   1%|          | 9/1001 [00:00<00:25, 39.22it/s]\r",
      "Iteration:   1%|▏         | 14/1001 [00:00<00:24, 40.52it/s]\n",
      "\r",
      "Iteration:   0%|          | 0/1001 [00:00<?, ?it/s]"
     ]
    },
    {
     "name": "stdout",
     "output_type": "stream",
     "text": [
      "{'Train':  best_epoch_indx:21\n",
      " auc:0.8559287518392487 \n",
      " apur:0.4476338202251838 \n",
      " f1:0.45107855862537866 \n",
      " precision:0.3115375174754277 \n",
      " recall:0.8170393797755324 \n",
      ", 'Validation':  best_epoch_indx:21\n",
      " auc:0.8494698901714539 \n",
      " apur:0.4482442482133228 \n",
      " f1:0.4463667820069204 \n",
      " precision:0.3077290076335878 \n",
      " recall:0.8123425692695214 \n",
      "}\n",
      "=====Epoch 22\n",
      "Training...\n"
     ]
    },
    {
     "name": "stderr",
     "output_type": "stream",
     "text": [
      "Iteration:   3%|▎         | 34/1001 [00:00<00:22, 43.59it/s]\n",
      "Iteration:   8%|▊         | 79/1001 [00:01<00:20, 44.45it/s]\n",
      "Iteration:  25%|██▌       | 28/112 [00:00<00:01, 49.40it/s]]\n",
      "Iteration:  38%|███▊      | 42/112 [00:00<00:01, 50.12it/s]s]\n",
      "Iteration:  43%|████▎     | 48/112 [00:00<00:01, 46.73it/s]s]"
     ]
    },
    {
     "name": "stdout",
     "output_type": "stream",
     "text": [
      "{'Train':  best_epoch_indx:21\n",
      " auc:0.8549224498760464 \n",
      " apur:0.4441934669197678 \n",
      " f1:0.4399081360990023 \n",
      " precision:0.29777016456423155 \n",
      " recall:0.8416736635880213 \n",
      ", 'Validation':  best_epoch_indx:21\n",
      " auc:0.8452529901713768 \n",
      " apur:0.4343120325838964 \n",
      " f1:0.4359583168447434 \n",
      " precision:0.29530021443888493 \n",
      " recall:0.8324937027707808 \n",
      "}\n",
      "=====Epoch 22\n",
      "Training...\n"
     ]
    },
    {
     "name": "stderr",
     "output_type": "stream",
     "text": [
      "Iteration:  88%|████████▊ | 98/112 [00:01<00:00, 53.23it/s]]]\n",
      "Iteration:  93%|█████████▎| 104/112 [00:02<00:00, 50.55it/s]]"
     ]
    },
    {
     "name": "stdout",
     "output_type": "stream",
     "text": [
      "{'Train':  best_epoch_indx:21\n",
      " auc:0.8546094184105404 \n",
      " apur:0.442926262511954 \n",
      " f1:0.4481063980096446 \n",
      " precision:0.30876517211822346 \n",
      " recall:0.8166475412130202 \n",
      ", 'Validation':  best_epoch_indx:21\n",
      " auc:0.8465931962067225 \n",
      " apur:0.4301380593582624 \n",
      " f1:0.44528770525734784 \n",
      " precision:0.306632459141011 \n",
      " recall:0.8128463476070529 \n",
      "}\n",
      "=====Epoch 22\n",
      "Training...\n"
     ]
    },
    {
     "name": "stderr",
     "output_type": "stream",
     "text": [
      "Iteration:  21%|██▏       | 214/1001 [00:04<00:17, 45.31it/s]\n",
      "Iteration:   8%|▊         | 83/1001 [00:01<00:20, 44.97it/s]]"
     ]
    },
    {
     "name": "stdout",
     "output_type": "stream",
     "text": [
      "{'Train':  best_epoch_indx:21\n",
      " auc:0.8544717927242409 \n",
      " apur:0.4440132499085226 \n",
      " f1:0.4494772718569295 \n",
      " precision:0.30940781981526005 \n",
      " recall:0.8212656385569146 \n",
      ", 'Validation':  best_epoch_indx:21\n",
      " auc:0.8491232136350495 \n",
      " apur:0.43889079306340373 \n",
      " f1:0.446932747131964 \n",
      " precision:0.30726362520071787 \n",
      " recall:0.8193954659949623 \n",
      "}\n",
      "=====Epoch 22\n",
      "Training...\n"
     ]
    },
    {
     "name": "stderr",
     "output_type": "stream",
     "text": [
      "Iteration: 100%|██████████| 1001/1001 [00:22<00:00, 43.83it/s]\n",
      "Iteration:  99%|█████████▉| 989/1001 [00:22<00:00, 44.81it/s]"
     ]
    },
    {
     "name": "stdout",
     "output_type": "stream",
     "text": [
      "Evaluating...\n"
     ]
    },
    {
     "name": "stderr",
     "output_type": "stream",
     "text": [
      "Iteration: 100%|██████████| 1001/1001 [00:22<00:00, 43.75it/s]\n",
      "Iteration:   1%|          | 9/1001 [00:00<00:22, 44.10it/s]s]"
     ]
    },
    {
     "name": "stdout",
     "output_type": "stream",
     "text": [
      "Evaluating...\n"
     ]
    },
    {
     "name": "stderr",
     "output_type": "stream",
     "text": [
      "Iteration:  92%|█████████▏| 919/1001 [00:21<00:01, 43.63it/s]"
     ]
    },
    {
     "name": "stdout",
     "output_type": "stream",
     "text": [
      "Evaluating...\n"
     ]
    },
    {
     "name": "stderr",
     "output_type": "stream",
     "text": [
      "Iteration: 100%|██████████| 1001/1001 [00:22<00:00, 43.72it/s]\n",
      "Iteration: 100%|██████████| 1001/1001 [00:23<00:00, 43.43it/s]\n",
      "Iteration:  98%|█████████▊| 984/1001 [00:22<00:00, 41.50it/s]"
     ]
    },
    {
     "name": "stdout",
     "output_type": "stream",
     "text": [
      "Evaluating...\n"
     ]
    },
    {
     "name": "stderr",
     "output_type": "stream",
     "text": [
      "Iteration: 100%|██████████| 1001/1001 [00:23<00:00, 43.48it/s]\n",
      "Iteration:   0%|          | 4/1001 [00:00<00:25, 39.52it/s]s]"
     ]
    },
    {
     "name": "stdout",
     "output_type": "stream",
     "text": [
      "Evaluating...\n"
     ]
    },
    {
     "name": "stderr",
     "output_type": "stream",
     "text": [
      "Iteration:  97%|█████████▋| 969/1001 [00:19<00:00, 63.53it/s]]\n",
      "Iteration:   0%|          | 0/112 [00:00<?, ?it/s]\n",
      "Iteration: 100%|██████████| 112/112 [00:01<00:00, 62.32it/s]s]\n",
      "Iteration:   0%|          | 4/1001 [00:00<00:26, 38.10it/s]\n",
      "Iteration:   0%|          | 0/1001 [00:00<?, ?it/s]"
     ]
    },
    {
     "name": "stdout",
     "output_type": "stream",
     "text": [
      "{'Train':  best_epoch_indx:22\n",
      " auc:0.8540304979888158 \n",
      " apur:0.4401492236740592 \n",
      " f1:0.44490475976043586 \n",
      " precision:0.3039594720703906 \n",
      " recall:0.8295782137759243 \n",
      ", 'Validation':  best_epoch_indx:22\n",
      " auc:0.8471181503087565 \n",
      " apur:0.4367291405446014 \n",
      " f1:0.44093638264858664 \n",
      " precision:0.3011148991062379 \n",
      " recall:0.8231738035264483 \n",
      "}\n",
      "=====Epoch 23\n",
      "Training...\n",
      "{'Train':  best_epoch_indx:22\n",
      " auc:0.8542240307594113 \n",
      " apur:0.43703199710861257 \n",
      " f1:0.4442970921092825 \n",
      " precision:0.3027352475327945 \n",
      " recall:0.8345321727448292 \n",
      ", 'Validation':  best_epoch_indx:22\n",
      " auc:0.848997663337316 \n",
      " apur:0.43084141753253064 \n",
      " f1:0.4404666130329847 \n",
      " precision:0.3001096290882514 \n",
      " recall:0.827455919395466 \n",
      "}\n",
      "=====Epoch 23\n",
      "Training...\n"
     ]
    },
    {
     "name": "stderr",
     "output_type": "stream",
     "text": [
      "Iteration:   2%|▏         | 19/1001 [00:00<00:23, 42.01it/s]\n",
      "Iteration:  45%|████▍     | 50/112 [00:00<00:01, 50.17it/s]]\n",
      "Iteration:   8%|▊         | 84/1001 [00:01<00:20, 45.15it/s]\n",
      "Iteration:  55%|█████▌    | 62/112 [00:01<00:00, 55.32it/s]s]\n",
      "Iteration:   0%|          | 0/1001 [00:00<?, ?it/s]"
     ]
    },
    {
     "name": "stdout",
     "output_type": "stream",
     "text": [
      "{'Train':  best_epoch_indx:22\n",
      " auc:0.85332073735635 \n",
      " apur:0.43471051721214105 \n",
      " f1:0.4404849160045735 \n",
      " precision:0.29838341310348937 \n",
      " recall:0.8410019591379793 \n",
      ", 'Validation':  best_epoch_indx:22\n",
      " auc:0.8443048979230436 \n",
      " apur:0.4199787019851925 \n",
      " f1:0.4380636604774536 \n",
      " precision:0.2972997299729973 \n",
      " recall:0.8319899244332494 \n",
      "}\n",
      "=====Epoch 23\n",
      "Training...\n"
     ]
    },
    {
     "name": "stderr",
     "output_type": "stream",
     "text": [
      "Iteration:  17%|█▋        | 174/1001 [00:04<00:18, 44.18it/s]\n",
      "Iteration:   0%|          | 4/1001 [00:00<00:26, 37.16it/s]s]"
     ]
    },
    {
     "name": "stdout",
     "output_type": "stream",
     "text": [
      "{'Train':  best_epoch_indx:22\n",
      " auc:0.8521913842413441 \n",
      " apur:0.43704923956297037 \n",
      " f1:0.4527508450100767 \n",
      " precision:0.3159404241182659 \n",
      " recall:0.7985390019312043 \n",
      ", 'Validation':  best_epoch_indx:22\n",
      " auc:0.8455944552668511 \n",
      " apur:0.4308160053864493 \n",
      " f1:0.44806400914416344 \n",
      " precision:0.3127243717590746 \n",
      " recall:0.7899244332493702 \n",
      "}\n",
      "=====Epoch 23\n",
      "Training...\n"
     ]
    },
    {
     "name": "stderr",
     "output_type": "stream",
     "text": [
      "\r",
      "Iteration:   5%|▍         | 48/1001 [00:01<00:21, 44.66it/s]\r",
      "Iteration:  18%|█▊        | 179/1001 [00:04<00:18, 44.82it/s]\r",
      "Iteration:  18%|█▊        | 184/1001 [00:04<00:18, 44.64it/s]\r",
      "Iteration:   1%|          | 9/1001 [00:00<00:25, 39.66it/s]\r",
      "Iteration:   5%|▌         | 53/1001 [00:01<00:21, 44.62it/s]\r",
      "Iteration:  18%|█▊        | 184/1001 [00:04<00:18, 44.80it/s]\n",
      "\r",
      "Iteration:   0%|          | 0/1001 [00:00<?, ?it/s]\r",
      "Iteration:  19%|█▉        | 189/1001 [00:04<00:18, 44.28it/s]"
     ]
    },
    {
     "name": "stdout",
     "output_type": "stream",
     "text": [
      "{'Train':  best_epoch_indx:22\n",
      " auc:0.853869863972063 \n",
      " apur:0.4407280235032629 \n",
      " f1:0.4387977623968901 \n",
      " precision:0.2967193387386321 \n",
      " recall:0.8419491169638109 \n",
      ", 'Validation':  best_epoch_indx:22\n",
      " auc:0.8482347872424955 \n",
      " apur:0.43216349190551445 \n",
      " f1:0.43558523173605657 \n",
      " precision:0.29426852998407926 \n",
      " recall:0.8380352644836272 \n",
      "}\n",
      "=====Epoch 23\n",
      "Training...\n"
     ]
    },
    {
     "name": "stderr",
     "output_type": "stream",
     "text": [
      "Iteration: 100%|██████████| 1001/1001 [00:22<00:00, 44.06it/s]\n",
      "Iteration:  87%|████████▋ | 868/1001 [00:19<00:02, 44.69it/s]"
     ]
    },
    {
     "name": "stdout",
     "output_type": "stream",
     "text": [
      "Evaluating...\n",
      "Evaluating...\n"
     ]
    },
    {
     "name": "stderr",
     "output_type": "stream",
     "text": [
      "Iteration: 100%|██████████| 1001/1001 [00:22<00:00, 43.64it/s]\n",
      "Iteration: 100%|██████████| 1001/1001 [00:22<00:00, 43.73it/s]\n",
      "Iteration:  16%|█▌        | 159/1001 [00:03<00:18, 45.76it/s]"
     ]
    },
    {
     "name": "stdout",
     "output_type": "stream",
     "text": [
      "Evaluating...\n"
     ]
    },
    {
     "name": "stderr",
     "output_type": "stream",
     "text": [
      "Iteration: 100%|██████████| 1001/1001 [00:22<00:00, 43.59it/s]\n",
      "Iteration:  21%|██        | 208/1001 [00:04<00:16, 48.06it/s]"
     ]
    },
    {
     "name": "stdout",
     "output_type": "stream",
     "text": [
      "Evaluating...\n"
     ]
    },
    {
     "name": "stderr",
     "output_type": "stream",
     "text": [
      "Iteration: 100%|██████████| 1001/1001 [00:22<00:00, 43.54it/s]\n",
      "Iteration:   0%|          | 5/1001 [00:00<00:23, 42.38it/s]]]"
     ]
    },
    {
     "name": "stdout",
     "output_type": "stream",
     "text": [
      "Evaluating...\n"
     ]
    },
    {
     "name": "stderr",
     "output_type": "stream",
     "text": [
      "Iteration:  97%|█████████▋| 975/1001 [00:20<00:00, 68.19it/s]]\n",
      "Iteration:  98%|█████████▊| 983/1001 [00:20<00:00, 68.41it/s]\n",
      "Iteration: 100%|██████████| 112/112 [00:01<00:00, 66.87it/s]s]\n",
      "Iteration:   0%|          | 0/1001 [00:00<?, ?it/s]\n",
      "Iteration:   0%|          | 4/1001 [00:00<00:27, 36.48it/s]"
     ]
    },
    {
     "name": "stdout",
     "output_type": "stream",
     "text": [
      "{'Train':  best_epoch_indx:23\n",
      " auc:0.8523190133209309 \n",
      " apur:0.43847886677772024 \n",
      " f1:0.4418635855385762 \n",
      " precision:0.30113492039300555 \n",
      " recall:0.8295222368384225 \n",
      ", 'Validation':  best_epoch_indx:23\n",
      " auc:0.846524286043307 \n",
      " apur:0.4377979714865665 \n",
      " f1:0.4376801877304727 \n",
      " precision:0.2982183645500228 \n",
      " recall:0.8221662468513854 \n",
      "}\n",
      "=====Epoch 24\n",
      "Training...\n",
      "{'Train':  best_epoch_indx:23\n",
      " auc:0.853172389806528 \n",
      " apur:0.4406758007676638 \n",
      " f1:0.4425624710609252 \n",
      " precision:0.3018141444185265 \n",
      " recall:0.8292983290884156 \n",
      ", 'Validation':  best_epoch_indx:23\n",
      " auc:0.8487105455135793 \n",
      " apur:0.43555735503159304 \n",
      " f1:0.43969342476805157 \n",
      " precision:0.2998899486426999 \n",
      " recall:0.8236775818639799 \n",
      "}\n",
      "=====Epoch 24\n",
      "Training...\n"
     ]
    },
    {
     "name": "stderr",
     "output_type": "stream",
     "text": [
      "Iteration:   2%|▏         | 24/1001 [00:00<00:22, 43.50it/s]\n",
      "Iteration:  41%|████      | 46/112 [00:00<00:01, 53.30it/s]]\n",
      "Iteration:   0%|          | 0/112 [00:00<?, ?it/s]\n",
      "Iteration:  13%|█▎        | 129/1001 [00:03<00:20, 43.00it/s]\n",
      "Iteration:   0%|          | 0/1001 [00:00<?, ?it/s]"
     ]
    },
    {
     "name": "stdout",
     "output_type": "stream",
     "text": [
      "{'Train':  best_epoch_indx:23\n",
      " auc:0.8528487860835771 \n",
      " apur:0.4387799098773924 \n",
      " f1:0.445115627720374 \n",
      " precision:0.30506874189364463 \n",
      " recall:0.8228659389868458 \n",
      ", 'Validation':  best_epoch_indx:23\n",
      " auc:0.843718477960962 \n",
      " apur:0.4306750842861845 \n",
      " f1:0.443048347446053 \n",
      " precision:0.30391605771032415 \n",
      " recall:0.8171284634760705 \n",
      "}\n",
      "=====Epoch 24\n",
      "Training...\n"
     ]
    },
    {
     "name": "stderr",
     "output_type": "stream",
     "text": [
      "Iteration:  17%|█▋        | 169/1001 [00:03<00:18, 44.70it/s]\n",
      "Iteration:   4%|▍         | 38/1001 [00:00<00:22, 43.72it/s]\n",
      "Iteration:   0%|          | 0/1001 [00:00<?, ?it/s]"
     ]
    },
    {
     "name": "stdout",
     "output_type": "stream",
     "text": [
      "{'Train':  best_epoch_indx:23\n",
      " auc:0.8523076767099722 \n",
      " apur:0.4380305675668446 \n",
      " f1:0.435209022925095 \n",
      " precision:0.29313192150767436 \n",
      " recall:0.8445520445576422 \n",
      ", 'Validation':  best_epoch_indx:23\n",
      " auc:0.8466269891440028 \n",
      " apur:0.42615198309177166 \n",
      " f1:0.43170036288232244 \n",
      " precision:0.29061245855871576 \n",
      " recall:0.8390428211586902 \n",
      "}\n",
      "=====Epoch 24\n",
      "Training...\n",
      "{'Train':  best_epoch_indx:23\n",
      " auc:0.8495561033406566 \n",
      " apur:0.43310331616249936 \n",
      " f1:0.4393519995844248 \n",
      " precision:0.2989376312813055 \n",
      " recall:0.8285146519633911 \n",
      ", 'Validation':  best_epoch_indx:23\n",
      " auc:0.8407703195410434 \n",
      " apur:0.41883859613674856 \n",
      " f1:0.43359348942698955 \n",
      " precision:0.29489157063787313 \n",
      " recall:0.818639798488665 \n",
      "}\n",
      "=====Epoch 24\n",
      "Training...\n"
     ]
    },
    {
     "name": "stderr",
     "output_type": "stream",
     "text": [
      "Iteration: 100%|██████████| 1001/1001 [00:22<00:00, 43.86it/s]\n",
      "Iteration: 100%|██████████| 1001/1001 [00:22<00:00, 43.93it/s]\n",
      "Iteration:   0%|          | 4/1001 [00:00<00:27, 36.91it/s]s]"
     ]
    },
    {
     "name": "stdout",
     "output_type": "stream",
     "text": [
      "Evaluating...\n",
      "Evaluating...\n"
     ]
    },
    {
     "name": "stderr",
     "output_type": "stream",
     "text": [
      "Iteration: 100%|██████████| 1001/1001 [00:23<00:00, 43.45it/s]\n",
      "Iteration:  97%|█████████▋| 969/1001 [00:22<00:00, 44.56it/s]"
     ]
    },
    {
     "name": "stdout",
     "output_type": "stream",
     "text": [
      "Evaluating...\n"
     ]
    },
    {
     "name": "stderr",
     "output_type": "stream",
     "text": [
      "Iteration: 100%|██████████| 1001/1001 [00:23<00:00, 43.37it/s]\n",
      "Iteration:   0%|          | 0/1001 [00:00<?, ?it/s]\n",
      "Iteration:   0%|          | 5/1001 [00:00<00:22, 44.07it/s]s]"
     ]
    },
    {
     "name": "stdout",
     "output_type": "stream",
     "text": [
      "Evaluating...\n",
      "Evaluating...\n"
     ]
    },
    {
     "name": "stderr",
     "output_type": "stream",
     "text": [
      "Iteration: 100%|█████████▉| 997/1001 [00:20<00:00, 61.71it/s]]\n",
      "Iteration:  98%|█████████▊| 983/1001 [00:20<00:00, 60.87it/s]]\n",
      "Iteration: 100%|██████████| 112/112 [00:01<00:00, 66.08it/s]s]"
     ]
    },
    {
     "name": "stdout",
     "output_type": "stream",
     "text": [
      "{'Train':  best_epoch_indx:24\n",
      " auc:0.8515368027705462 \n",
      " apur:0.43423849933905606 \n",
      " f1:0.4381207503531461 \n",
      " precision:0.29663032705649156 \n",
      " recall:0.837694869713678 \n",
      ", 'Validation':  best_epoch_indx:24\n",
      " auc:0.8441900790793304 \n",
      " apur:0.43199558994117393 \n",
      " f1:0.43375394321766564 \n",
      " precision:0.293437666725947 \n",
      " recall:0.8312342569269522 \n",
      "}\n",
      "=====Epoch 25\n",
      "Training...\n"
     ]
    },
    {
     "name": "stderr",
     "output_type": "stream",
     "text": [
      "\n",
      "Iteration:   1%|          | 9/1001 [00:00<00:24, 40.59it/s]\n",
      "Iteration:   0%|          | 4/1001 [00:00<00:27, 35.76it/s]]"
     ]
    },
    {
     "name": "stdout",
     "output_type": "stream",
     "text": [
      "{'Train':  best_epoch_indx:24\n",
      " auc:0.8514592604606644 \n",
      " apur:0.43309797308726244 \n",
      " f1:0.4418212478920743 \n",
      " precision:0.30025634581553157 \n",
      " recall:0.8359595846511237 \n",
      ", 'Validation':  best_epoch_indx:24\n",
      " auc:0.847782819027828 \n",
      " apur:0.43513592974047416 \n",
      " f1:0.4386478573329784 \n",
      " precision:0.2980647495026225 \n",
      " recall:0.8302267002518892 \n",
      "}\n",
      "=====Epoch 25\n",
      "Training...\n"
     ]
    },
    {
     "name": "stderr",
     "output_type": "stream",
     "text": [
      "Iteration:   5%|▍         | 49/1001 [00:01<00:21, 44.60it/s]\n",
      "Iteration:   5%|▌         | 54/1001 [00:01<00:21, 44.70it/s]\n",
      "Iteration:  42%|████▏     | 47/112 [00:00<00:01, 53.60it/s]]\n",
      "Iteration:  73%|███████▎  | 82/112 [00:01<00:00, 51.29it/s]s]\n",
      "Iteration: 100%|██████████| 112/112 [00:02<00:00, 49.83it/s]]"
     ]
    },
    {
     "name": "stdout",
     "output_type": "stream",
     "text": [
      "{'Train':  best_epoch_indx:24\n",
      " auc:0.8506157982338542 \n",
      " apur:0.43459816517278366 \n",
      " f1:0.4474817507101188 \n",
      " precision:0.3076842304219081 \n",
      " recall:0.8200951581304227 \n",
      ", 'Validation':  best_epoch_indx:24\n",
      " auc:0.8426235182214861 \n",
      " apur:0.42907882317460455 \n",
      " f1:0.44493513662710465 \n",
      " precision:0.3064056263067858 \n",
      " recall:0.8120906801007557 \n",
      "}\n",
      "=====Epoch 25\n",
      "Training...\n"
     ]
    },
    {
     "name": "stderr",
     "output_type": "stream",
     "text": [
      "Iteration:  93%|█████████▎| 104/112 [00:02<00:00, 48.87it/s]]\n",
      "Iteration: 100%|██████████| 112/112 [00:02<00:00, 49.94it/s]]"
     ]
    },
    {
     "name": "stdout",
     "output_type": "stream",
     "text": [
      "{'Train':  best_epoch_indx:24\n",
      " auc:0.8491512673049122 \n",
      " apur:0.43030255311880944 \n",
      " f1:0.4379436784980933 \n",
      " precision:0.2967177112420626 \n",
      " recall:0.8357076884323659 \n",
      ", 'Validation':  best_epoch_indx:24\n",
      " auc:0.8433756457193884 \n",
      " apur:0.427847129978582 \n",
      " f1:0.43304692663582284 \n",
      " precision:0.29354838709677417 \n",
      " recall:0.8251889168765743 \n",
      "}\n",
      "=====Epoch 25\n",
      "Training...\n"
     ]
    },
    {
     "name": "stderr",
     "output_type": "stream",
     "text": [
      "Iteration:  18%|█▊        | 184/1001 [00:04<00:18, 44.51it/s]\n",
      "Iteration:   4%|▍         | 43/1001 [00:01<00:22, 43.08it/s]]"
     ]
    },
    {
     "name": "stdout",
     "output_type": "stream",
     "text": [
      "{'Train':  best_epoch_indx:24\n",
      " auc:0.8474295910109233 \n",
      " apur:0.42562959549714197 \n",
      " f1:0.44781200763243945 \n",
      " precision:0.3122308830348665 \n",
      " recall:0.7915138962747348 \n",
      ", 'Validation':  best_epoch_indx:24\n",
      " auc:0.8451575942308663 \n",
      " apur:0.4221379979197699 \n",
      " f1:0.4473384571591233 \n",
      " precision:0.3117437016464987 \n",
      " recall:0.7916876574307304 \n",
      "}\n",
      "=====Epoch 25\n",
      "Training...\n"
     ]
    },
    {
     "name": "stderr",
     "output_type": "stream",
     "text": [
      "Iteration: 100%|██████████| 1001/1001 [00:22<00:00, 43.54it/s]\n",
      "Iteration:  82%|████████▏ | 824/1001 [00:18<00:04, 43.04it/s]"
     ]
    },
    {
     "name": "stdout",
     "output_type": "stream",
     "text": [
      "Evaluating...\n",
      "Evaluating...\n"
     ]
    },
    {
     "name": "stderr",
     "output_type": "stream",
     "text": [
      "Iteration: 100%|██████████| 1001/1001 [00:22<00:00, 43.83it/s]\n",
      "Iteration: 100%|██████████| 1001/1001 [00:23<00:00, 43.40it/s]\n",
      "Iteration:  18%|█▊        | 185/1001 [00:03<00:21, 37.18it/s]"
     ]
    },
    {
     "name": "stdout",
     "output_type": "stream",
     "text": [
      "Evaluating...\n"
     ]
    },
    {
     "name": "stderr",
     "output_type": "stream",
     "text": [
      "Iteration: 100%|██████████| 1001/1001 [00:23<00:00, 43.43it/s]\n",
      "Iteration:   0%|          | 5/1001 [00:00<00:23, 42.54it/s]s]"
     ]
    },
    {
     "name": "stdout",
     "output_type": "stream",
     "text": [
      "Evaluating...\n"
     ]
    },
    {
     "name": "stderr",
     "output_type": "stream",
     "text": [
      "Iteration: 100%|██████████| 1001/1001 [00:23<00:00, 43.26it/s]\n",
      "Iteration:  23%|██▎       | 230/1001 [00:04<00:17, 45.33it/s]"
     ]
    },
    {
     "name": "stdout",
     "output_type": "stream",
     "text": [
      "Evaluating...\n"
     ]
    },
    {
     "name": "stderr",
     "output_type": "stream",
     "text": [
      "Iteration:  99%|█████████▊| 987/1001 [00:20<00:00, 68.51it/s]]\n",
      "Iteration:  96%|█████████▌| 961/1001 [00:19<00:00, 61.87it/s]\n",
      "Iteration: 100%|██████████| 112/112 [00:01<00:00, 65.81it/s]s]"
     ]
    },
    {
     "name": "stdout",
     "output_type": "stream",
     "text": [
      "{'Train':  best_epoch_indx:25\n",
      " auc:0.8532738623582546 \n",
      " apur:0.4348345452348967 \n",
      " f1:0.43996098362338926 \n",
      " precision:0.2980899189060264 \n",
      " recall:0.8395141201824848 \n",
      ", 'Validation':  best_epoch_indx:25\n",
      " auc:0.8458920516868655 \n",
      " apur:0.43425030426742844 \n",
      " f1:0.43633243118357645 \n",
      " precision:0.2956436174970928 \n",
      " recall:0.8324937027707808 \n",
      "}\n",
      "=====Epoch 26\n",
      "Training...\n",
      "{'Train':  best_epoch_indx:25\n",
      " auc:0.8537885433333356 \n",
      " apur:0.44152263836693934 \n",
      " f1:0.44982017272581487 \n",
      " precision:0.309293289929644 \n",
      " recall:0.8243723585882616 \n",
      ", 'Validation':  best_epoch_indx:25\n",
      " auc:0.8496356919932124 \n",
      " apur:0.4314470915170228 \n",
      " f1:0.44528665931642786 \n",
      " precision:0.3064883323847467 \n",
      " recall:0.8138539042821159 \n",
      "}\n",
      "=====Epoch 26\n",
      "Training...\n"
     ]
    },
    {
     "name": "stderr",
     "output_type": "stream",
     "text": [
      "\n",
      "Iteration:   0%|          | 0/1001 [00:00<?, ?it/s]\n",
      "Iteration:   3%|▎         | 33/1001 [00:00<00:22, 43.42it/s]\n",
      "Iteration:   5%|▌         | 53/1001 [00:01<00:21, 43.90it/s]\n",
      "Iteration:  46%|████▋     | 52/112 [00:00<00:01, 49.52it/s]]\n",
      "Iteration:  92%|█████████▏| 103/112 [00:02<00:00, 55.15it/s]]"
     ]
    },
    {
     "name": "stdout",
     "output_type": "stream",
     "text": [
      "{'Train':  best_epoch_indx:25\n",
      " auc:0.8515013797061488 \n",
      " apur:0.43621249555400493 \n",
      " f1:0.4362249346120314 \n",
      " precision:0.29458345599057995 \n",
      " recall:0.8402183039462636 \n",
      ", 'Validation':  best_epoch_indx:25\n",
      " auc:0.8423542204400084 \n",
      " apur:0.4244253922339656 \n",
      " f1:0.4317290086319644 \n",
      " precision:0.2915562621444974 \n",
      " recall:0.8314861460957179 \n",
      "}\n",
      "=====Epoch 26\n",
      "Training...\n"
     ]
    },
    {
     "name": "stderr",
     "output_type": "stream",
     "text": [
      "\n",
      "Iteration:   1%|▏         | 14/1001 [00:00<00:25, 38.56it/s]]\n",
      "Iteration:   0%|          | 0/1001 [00:00<?, ?it/s]"
     ]
    },
    {
     "name": "stdout",
     "output_type": "stream",
     "text": [
      "{'Train':  best_epoch_indx:25\n",
      " auc:0.8533915457185541 \n",
      " apur:0.4424274221480565 \n",
      " f1:0.44723606584902353 \n",
      " precision:0.30745660979244055 \n",
      " recall:0.8200621344006269 \n",
      ", 'Validation':  best_epoch_indx:25\n",
      " auc:0.8444995169559976 \n",
      " apur:0.4270658211003029 \n",
      " f1:0.44436822609411447 \n",
      " precision:0.3053355957767723 \n",
      " recall:0.8158690176322418 \n",
      "}\n",
      "=====Epoch 26\n",
      "Training...\n"
     ]
    },
    {
     "name": "stderr",
     "output_type": "stream",
     "text": [
      "Iteration:   4%|▍         | 44/1001 [00:01<00:21, 44.20it/s]]\n",
      "Iteration:   0%|          | 0/1001 [00:00<?, ?it/s]"
     ]
    },
    {
     "name": "stdout",
     "output_type": "stream",
     "text": [
      "{'Train':  best_epoch_indx:25\n",
      " auc:0.8536498251135536 \n",
      " apur:0.44614558876219096 \n",
      " f1:0.4466263808751166 \n",
      " precision:0.3062852270127493 \n",
      " recall:0.8243443701195108 \n",
      ", 'Validation':  best_epoch_indx:25\n",
      " auc:0.8488643473068807 \n",
      " apur:0.4404040572447372 \n",
      " f1:0.44375000000000003 \n",
      " precision:0.3038139534883721 \n",
      " recall:0.8226700251889169 \n",
      "}\n",
      "=====Epoch 26\n",
      "Training...\n"
     ]
    },
    {
     "name": "stderr",
     "output_type": "stream",
     "text": [
      "Iteration:  83%|████████▎ | 833/1001 [00:19<00:03, 44.40it/s]]\n",
      "Iteration: 100%|██████████| 1001/1001 [00:22<00:00, 43.88it/s]\n",
      "Iteration:   0%|          | 5/1001 [00:00<00:23, 41.98it/s]s]"
     ]
    },
    {
     "name": "stdout",
     "output_type": "stream",
     "text": [
      "Evaluating...\n",
      "Evaluating...\n"
     ]
    },
    {
     "name": "stderr",
     "output_type": "stream",
     "text": [
      "Iteration: 100%|██████████| 1001/1001 [00:22<00:00, 43.65it/s]\n",
      "Iteration:  18%|█▊        | 176/1001 [00:03<00:17, 47.85it/s]"
     ]
    },
    {
     "name": "stdout",
     "output_type": "stream",
     "text": [
      "Evaluating...\n"
     ]
    },
    {
     "name": "stderr",
     "output_type": "stream",
     "text": [
      "Iteration: 100%|██████████| 1001/1001 [00:22<00:00, 43.55it/s]\n",
      "Iteration:   0%|          | 0/1001 [00:00<?, ?it/s]"
     ]
    },
    {
     "name": "stdout",
     "output_type": "stream",
     "text": [
      "Evaluating...\n"
     ]
    },
    {
     "name": "stderr",
     "output_type": "stream",
     "text": [
      "Iteration: 100%|██████████| 1001/1001 [00:23<00:00, 43.50it/s]\n",
      "Iteration:   6%|▌         | 56/1001 [00:01<00:19, 49.24it/s]"
     ]
    },
    {
     "name": "stdout",
     "output_type": "stream",
     "text": [
      "Evaluating...\n"
     ]
    },
    {
     "name": "stderr",
     "output_type": "stream",
     "text": [
      "Iteration:  98%|█████████▊| 977/1001 [00:20<00:00, 57.51it/s]]\n",
      "Iteration:  12%|█▎        | 14/112 [00:00<00:01, 63.89it/s]s]\n",
      "Iteration: 100%|██████████| 112/112 [00:01<00:00, 69.99it/s]s]\n",
      "Iteration:   0%|          | 4/1001 [00:00<00:27, 36.15it/s]\n",
      "Iteration:   0%|          | 0/1001 [00:00<?, ?it/s]"
     ]
    },
    {
     "name": "stdout",
     "output_type": "stream",
     "text": [
      "{'Train':  best_epoch_indx:26\n",
      " auc:0.8582429921229843 \n",
      " apur:0.44607775330761607 \n",
      " f1:0.44241934298522817 \n",
      " precision:0.2999770781634626 \n",
      " recall:0.8424529094013267 \n",
      ", 'Validation':  best_epoch_indx:26\n",
      " auc:0.8519682918105207 \n",
      " apur:0.44880445757959603 \n",
      " f1:0.44025991247845114 \n",
      " precision:0.298776097912167 \n",
      " recall:0.836272040302267 \n",
      "}\n",
      "=====Epoch 27\n",
      "Training...\n",
      "{'Train':  best_epoch_indx:26\n",
      " auc:0.8561671437400935 \n",
      " apur:0.4470938639077869 \n",
      " f1:0.4436272871119431 \n",
      " precision:0.30195987217345577 \n",
      " recall:0.8357076884323659 \n",
      ", 'Validation':  best_epoch_indx:26\n",
      " auc:0.8508301362543231 \n",
      " apur:0.4355984353281546 \n",
      " f1:0.44012598003082487 \n",
      " precision:0.29982653154386923 \n",
      " recall:0.8272040302267003 \n",
      "}\n",
      "=====Epoch 27\n",
      "Training...\n"
     ]
    },
    {
     "name": "stderr",
     "output_type": "stream",
     "text": [
      "Iteration:   4%|▍         | 39/1001 [00:00<00:21, 44.33it/s]\n",
      "Iteration:  25%|██▌       | 28/112 [00:00<00:01, 58.87it/s]]\n",
      "Iteration:  12%|█▎        | 14/112 [00:00<00:01, 56.67it/s]]\n",
      "Iteration:  78%|███████▊  | 87/112 [00:01<00:00, 51.65it/s]s]\n",
      "Iteration:   0%|          | 4/1001 [00:00<00:27, 35.87it/s]s]"
     ]
    },
    {
     "name": "stdout",
     "output_type": "stream",
     "text": [
      "{'Train':  best_epoch_indx:26\n",
      " auc:0.8562870617396738 \n",
      " apur:0.4437791350035158 \n",
      " f1:0.45172589380776773 \n",
      " precision:0.31182097055941377 \n",
      " recall:0.8193394906241254 \n",
      ", 'Validation':  best_epoch_indx:26\n",
      " auc:0.8469142441109218 \n",
      " apur:0.42796264311999277 \n",
      " f1:0.447952159098811 \n",
      " precision:0.3093843050619537 \n",
      " recall:0.8113350125944584 \n",
      "}\n",
      "=====Epoch 27\n",
      "Training...\n"
     ]
    },
    {
     "name": "stderr",
     "output_type": "stream",
     "text": [
      "Iteration:  16%|█▋        | 164/1001 [00:03<00:18, 44.59it/s]\n",
      "Iteration:   3%|▎         | 34/1001 [00:00<00:22, 43.93it/s]]"
     ]
    },
    {
     "name": "stdout",
     "output_type": "stream",
     "text": [
      "{'Train':  best_epoch_indx:26\n",
      " auc:0.8553547189616559 \n",
      " apur:0.4453823644270764 \n",
      " f1:0.43930186701460916 \n",
      " precision:0.2975906725459818 \n",
      " recall:0.8386744661199586 \n",
      ", 'Validation':  best_epoch_indx:26\n",
      " auc:0.8465794047454456 \n",
      " apur:0.43033087341879095 \n",
      " f1:0.43584682195025665 \n",
      " precision:0.29497684360527254 \n",
      " recall:0.834256926952141 \n",
      "}\n",
      "=====Epoch 27\n",
      "Training...\n"
     ]
    },
    {
     "name": "stderr",
     "output_type": "stream",
     "text": [
      "Iteration:  14%|█▍        | 144/1001 [00:03<00:20, 42.64it/s]\n",
      "Iteration:  30%|██▉       | 299/1001 [00:06<00:15, 44.57it/s]"
     ]
    },
    {
     "name": "stdout",
     "output_type": "stream",
     "text": [
      "{'Train':  best_epoch_indx:26\n",
      " auc:0.8560590832024877 \n",
      " apur:0.4484974133795418 \n",
      " f1:0.4431590623162188 \n",
      " precision:0.30187014462181294 \n",
      " recall:0.8330767723697836 \n",
      ", 'Validation':  best_epoch_indx:26\n",
      " auc:0.8515492551025191 \n",
      " apur:0.44399447680797693 \n",
      " f1:0.44199706314243753 \n",
      " precision:0.3006719941881584 \n",
      " recall:0.8340050377833753 \n",
      "}\n",
      "=====Epoch 27\n",
      "Training...\n"
     ]
    },
    {
     "name": "stderr",
     "output_type": "stream",
     "text": [
      "Iteration: 100%|██████████| 1001/1001 [00:22<00:00, 43.79it/s]\n",
      "Iteration:  85%|████████▌ | 854/1001 [00:19<00:03, 43.96it/s]"
     ]
    },
    {
     "name": "stdout",
     "output_type": "stream",
     "text": [
      "Evaluating...\n",
      "Evaluating...\n"
     ]
    },
    {
     "name": "stderr",
     "output_type": "stream",
     "text": [
      "Iteration: 100%|██████████| 1001/1001 [00:22<00:00, 44.00it/s]\n",
      "Iteration: 100%|██████████| 1001/1001 [00:22<00:00, 43.66it/s]\n",
      "Iteration:  98%|█████████▊| 978/1001 [00:22<00:00, 44.87it/s]"
     ]
    },
    {
     "name": "stdout",
     "output_type": "stream",
     "text": [
      "Evaluating...\n"
     ]
    },
    {
     "name": "stderr",
     "output_type": "stream",
     "text": [
      "Iteration: 100%|██████████| 1001/1001 [00:23<00:00, 43.52it/s]\n",
      "Iteration:  88%|████████▊ | 879/1001 [00:20<00:03, 34.54it/s]"
     ]
    },
    {
     "name": "stdout",
     "output_type": "stream",
     "text": [
      "Evaluating...\n"
     ]
    },
    {
     "name": "stderr",
     "output_type": "stream",
     "text": [
      "Iteration: 100%|██████████| 1001/1001 [00:23<00:00, 43.11it/s]\n",
      "Iteration:  15%|█▍        | 150/1001 [00:03<00:17, 47.66it/s]"
     ]
    },
    {
     "name": "stdout",
     "output_type": "stream",
     "text": [
      "Evaluating...\n"
     ]
    },
    {
     "name": "stderr",
     "output_type": "stream",
     "text": [
      "Iteration:  99%|█████████▊| 987/1001 [00:20<00:00, 68.79it/s]]\n",
      "Iteration:  99%|█████████▉| 994/1001 [00:20<00:00, 66.11it/s]\n",
      "Iteration: 100%|██████████| 1001/1001 [00:19<00:00, 50.99it/s]\n",
      "Iteration:   0%|          | 0/1001 [00:00<?, ?it/s]\n",
      "Iteration:   0%|          | 0/1001 [00:00<?, ?it/s]\n",
      "Iteration:   6%|▋         | 7/112 [00:00<00:01, 63.73it/s]]"
     ]
    },
    {
     "name": "stdout",
     "output_type": "stream",
     "text": [
      "{'Train':  best_epoch_indx:27\n",
      " auc:0.8602656792519929 \n",
      " apur:0.45867510659589555 \n",
      " f1:0.448193024338243 \n",
      " precision:0.3062363429321789 \n",
      " recall:0.8354837806823588 \n",
      ", 'Validation':  best_epoch_indx:27\n",
      " auc:0.8522382795936345 \n",
      " apur:0.4597686120180351 \n",
      " f1:0.4428687196110211 \n",
      " precision:0.3025465953127883 \n",
      " recall:0.8259445843828715 \n",
      "}\n",
      "=====Epoch 28\n",
      "Training...\n",
      "{'Train':  best_epoch_indx:27\n",
      " auc:0.8609480016084257 \n",
      " apur:0.46284460927768006 \n",
      " f1:0.4540365373244358 \n",
      " precision:0.31285584269900735 \n",
      " recall:0.827423101682107 \n",
      ", 'Validation':  best_epoch_indx:27\n",
      " auc:0.8536288514627048 \n",
      " apur:0.44981605538719527 \n",
      " f1:0.4481253032088155 \n",
      " precision:0.3091117697676642 \n",
      " recall:0.8143576826196474 \n",
      "}\n",
      "=====Epoch 28\n",
      "Training...\n"
     ]
    },
    {
     "name": "stderr",
     "output_type": "stream",
     "text": [
      "Iteration:   1%|▏         | 14/1001 [00:00<00:24, 39.75it/s]\n",
      "Iteration:  12%|█▏        | 119/1001 [00:02<00:21, 40.83it/s]\n",
      "Iteration:  13%|█▎        | 134/1001 [00:03<00:20, 43.28it/s]\n",
      "Iteration:  25%|██▌       | 28/112 [00:00<00:01, 54.19it/s]s]"
     ]
    },
    {
     "name": "stdout",
     "output_type": "stream",
     "text": [
      "{'Train':  best_epoch_indx:27\n",
      " auc:0.8602127753945139 \n",
      " apur:0.45497266545017645 \n",
      " f1:0.44726604631096634 \n",
      " precision:0.3045821556291726 \n",
      " recall:0.8414497621046739 \n",
      ", 'Validation':  best_epoch_indx:27\n",
      " auc:0.8493216041055183 \n",
      " apur:0.4375822481530355 \n",
      " f1:0.44192292198200617 \n",
      " precision:0.3012632735261809 \n",
      " recall:0.8289672544080604 \n",
      "}\n",
      "=====Epoch 28\n",
      "Training...\n"
     ]
    },
    {
     "name": "stderr",
     "output_type": "stream",
     "text": [
      "\r",
      "Iteration:  14%|█▍        | 144/1001 [00:03<00:19, 43.71it/s]\r",
      "Iteration:   1%|          | 9/1001 [00:00<00:26, 37.43it/s]\n",
      "\r",
      "Iteration:   0%|          | 0/1001 [00:00<?, ?it/s]\r",
      "Iteration:  14%|█▍        | 144/1001 [00:03<00:20, 42.11it/s]\r",
      "Iteration:  30%|███       | 34/112 [00:00<00:01, 50.97it/s]\r",
      "Iteration:  15%|█▍        | 149/1001 [00:03<00:19, 43.66it/s]\r",
      "Iteration:   0%|          | 3/1001 [00:00<00:34, 28.54it/s]\r",
      "Iteration:   1%|▏         | 14/1001 [00:00<00:25, 38.82it/s]\r",
      "Iteration:  15%|█▍        | 149/1001 [00:03<00:19, 42.77it/s]"
     ]
    },
    {
     "name": "stdout",
     "output_type": "stream",
     "text": [
      "{'Train':  best_epoch_indx:27\n",
      " auc:0.860565052166747 \n",
      " apur:0.46049070849169416 \n",
      " f1:0.45014956272881573 \n",
      " precision:0.30914546176845714 \n",
      " recall:0.827647009432114 \n",
      ", 'Validation':  best_epoch_indx:27\n",
      " auc:0.8513718603961261 \n",
      " apur:0.4446390259442625 \n",
      " f1:0.4467866675792212 \n",
      " precision:0.30673808852551454 \n",
      " recall:0.8221662468513854 \n",
      "}\n",
      "=====Epoch 28\n",
      "Training...\n"
     ]
    },
    {
     "name": "stderr",
     "output_type": "stream",
     "text": [
      "Iteration:  12%|█▏        | 119/1001 [00:02<00:21, 40.59it/s]\n",
      "Iteration:   0%|          | 0/1001 [00:00<?, ?it/s]"
     ]
    },
    {
     "name": "stdout",
     "output_type": "stream",
     "text": [
      "{'Train':  best_epoch_indx:27\n",
      " auc:0.859398826866634 \n",
      " apur:0.4571064580764453 \n",
      " f1:0.4519242573041984 \n",
      " precision:0.3112983183062564 \n",
      " recall:0.824288393182009 \n",
      ", 'Validation':  best_epoch_indx:27\n",
      " auc:0.8533533008092561 \n",
      " apur:0.44617356736537905 \n",
      " f1:0.4502509798528501 \n",
      " precision:0.3096566726567672 \n",
      " recall:0.8246851385390428 \n",
      "}\n",
      "=====Epoch 28\n",
      "Training...\n"
     ]
    },
    {
     "name": "stderr",
     "output_type": "stream",
     "text": [
      "Iteration: 100%|██████████| 1001/1001 [00:22<00:00, 43.72it/s]\n",
      "Iteration: 100%|██████████| 1001/1001 [00:22<00:00, 43.82it/s]\n",
      "Iteration:  85%|████████▌ | 852/1001 [00:19<00:03, 42.17it/s]"
     ]
    },
    {
     "name": "stdout",
     "output_type": "stream",
     "text": [
      "Evaluating...\n",
      "Evaluating...\n"
     ]
    },
    {
     "name": "stderr",
     "output_type": "stream",
     "text": [
      "Iteration: 100%|██████████| 1001/1001 [00:23<00:00, 43.52it/s]\n",
      "Iteration:  99%|█████████▉| 992/1001 [00:22<00:00, 43.51it/s]"
     ]
    },
    {
     "name": "stdout",
     "output_type": "stream",
     "text": [
      "Evaluating...\n"
     ]
    },
    {
     "name": "stderr",
     "output_type": "stream",
     "text": [
      "\r",
      "Iteration:  17%|█▋        | 172/1001 [00:03<00:17, 47.20it/s]\r",
      "Iteration:  88%|████████▊ | 884/1001 [00:20<00:02, 39.97it/s]\r",
      "Iteration:  18%|█▊        | 177/1001 [00:03<00:15, 52.95it/s]\r",
      "Iteration:   1%|          | 10/1001 [00:00<00:21, 46.97it/s]\r",
      "Iteration: 100%|█████████▉| 997/1001 [00:22<00:00, 44.06it/s]\r",
      "Iteration:  18%|█▊        | 177/1001 [00:03<00:17, 47.20it/s]\r",
      "Iteration:  89%|████████▉ | 889/1001 [00:20<00:02, 41.94it/s]\r",
      "Iteration:  18%|█▊        | 183/1001 [00:03<00:15, 51.85it/s]\r",
      "Iteration: 100%|██████████| 1001/1001 [00:23<00:00, 43.38it/s]\n",
      "\r",
      "Iteration:   0%|          | 0/1001 [00:00<?, ?it/s]\r",
      "Iteration:   1%|▏         | 15/1001 [00:00<00:21, 45.00it/s]"
     ]
    },
    {
     "name": "stdout",
     "output_type": "stream",
     "text": [
      "Evaluating...\n"
     ]
    },
    {
     "name": "stderr",
     "output_type": "stream",
     "text": [
      "Iteration: 100%|██████████| 1001/1001 [00:23<00:00, 43.42it/s]\n",
      "Iteration:  31%|███       | 308/1001 [00:06<00:14, 46.70it/s]"
     ]
    },
    {
     "name": "stdout",
     "output_type": "stream",
     "text": [
      "Evaluating...\n"
     ]
    },
    {
     "name": "stderr",
     "output_type": "stream",
     "text": [
      "Iteration:  89%|████████▉ | 893/1001 [00:17<00:01, 67.15it/s]]\n",
      "Iteration:   7%|▋         | 8/112 [00:00<00:01, 76.74it/s]/s]\n",
      "Iteration: 100%|██████████| 112/112 [00:01<00:00, 64.18it/s]s]\n",
      "Iteration:   0%|          | 0/112 [00:00<?, ?it/s]\n",
      "Iteration:   6%|▋         | 7/112 [00:00<00:02, 51.17it/s]"
     ]
    },
    {
     "name": "stdout",
     "output_type": "stream",
     "text": [
      "{'Train':  best_epoch_indx:28\n",
      " auc:0.8647148919304748 \n",
      " apur:0.46614907324316557 \n",
      " f1:0.4574793692611677 \n",
      " precision:0.31631056725885603 \n",
      " recall:0.8262195975258194 \n",
      ", 'Validation':  best_epoch_indx:28\n",
      " auc:0.8553795098999806 \n",
      " apur:0.4648129108585773 \n",
      " f1:0.45168476747424113 \n",
      " precision:0.3121031364248605 \n",
      " recall:0.8171284634760705 \n",
      "}\n",
      "=====Epoch 29\n",
      "Training...\n",
      "{'Train':  best_epoch_indx:28\n",
      " auc:0.8645546702516684 \n",
      " apur:0.46906945916099163 \n",
      " f1:0.45573203574488924 \n",
      " precision:0.313587786259542 \n",
      " recall:0.8335805648072994 \n",
      ", 'Validation':  best_epoch_indx:28\n",
      " auc:0.856821604748377 \n",
      " apur:0.4587526433881219 \n",
      " f1:0.4487011644732309 \n",
      " precision:0.30883050365171205 \n",
      " recall:0.8201511335012595 \n",
      "}\n",
      "=====Epoch 29\n",
      "Training...\n"
     ]
    },
    {
     "name": "stderr",
     "output_type": "stream",
     "text": [
      "Iteration:  12%|█▏        | 13/112 [00:00<00:01, 50.37it/s]\n",
      "Iteration:   0%|          | 0/1001 [00:00<?, ?it/s]\n",
      "Iteration: 100%|██████████| 112/112 [00:02<00:00, 49.72it/s]\n",
      "Iteration:  12%|█▏        | 124/1001 [00:02<00:21, 40.16it/s]\n",
      "Iteration:   0%|          | 3/1001 [00:00<00:34, 28.96it/s]s]"
     ]
    },
    {
     "name": "stdout",
     "output_type": "stream",
     "text": [
      "{'Train':  best_epoch_indx:28\n",
      " auc:0.8644252432725366 \n",
      " apur:0.4668507961316752 \n",
      " f1:0.4494926954089678 \n",
      " precision:0.3061009462444026 \n",
      " recall:0.845619927232018 \n",
      ", 'Validation':  best_epoch_indx:28\n",
      " auc:0.8530162371527911 \n",
      " apur:0.4482232669727523 \n",
      " f1:0.44663845792195583 \n",
      " precision:0.304515065482187 \n",
      " recall:0.8375314861460957 \n",
      "}\n",
      "=====Epoch 29\n",
      "Training...\n",
      "{'Train':  best_epoch_indx:28\n",
      " auc:0.8642684733248642 \n",
      " apur:0.46926707720126437 \n",
      " f1:0.44952154549831486 \n",
      " precision:0.30737970555252625 \n",
      " recall:0.8362114808698816 \n",
      ", 'Validation':  best_epoch_indx:28\n",
      " auc:0.8533700365632297 \n",
      " apur:0.4526753411633604 \n",
      " f1:0.44632577040298 \n",
      " precision:0.30523390458545624 \n",
      " recall:0.8299748110831234 \n",
      "}\n",
      "=====Epoch 29\n",
      "Training...\n"
     ]
    },
    {
     "name": "stderr",
     "output_type": "stream",
     "text": [
      "Iteration:  58%|█████▊    | 65/112 [00:01<00:00, 53.26it/s]\n",
      "Iteration:   9%|▉         | 93/1001 [00:02<00:20, 44.49it/s]]\n",
      "Iteration:   0%|          | 0/1001 [00:00<?, ?it/s]"
     ]
    },
    {
     "name": "stdout",
     "output_type": "stream",
     "text": [
      "{'Train':  best_epoch_indx:28\n",
      " auc:0.8639204451078316 \n",
      " apur:0.4689045064167792 \n",
      " f1:0.4511724502511045 \n",
      " precision:0.3089485551165629 \n",
      " recall:0.8360435500573764 \n",
      ", 'Validation':  best_epoch_indx:28\n",
      " auc:0.8565323869196604 \n",
      " apur:0.4504012116286116 \n",
      " f1:0.44908191611897824 \n",
      " precision:0.3071647047919177 \n",
      " recall:0.8347607052896725 \n",
      "}\n",
      "=====Epoch 29\n",
      "Training...\n"
     ]
    },
    {
     "name": "stderr",
     "output_type": "stream",
     "text": [
      "Iteration: 100%|██████████| 1001/1001 [00:22<00:00, 43.92it/s]\n",
      "Iteration: 100%|██████████| 1001/1001 [00:22<00:00, 43.56it/s]\n",
      "Iteration:   0%|          | 5/1001 [00:00<00:20, 47.91it/s]s]"
     ]
    },
    {
     "name": "stdout",
     "output_type": "stream",
     "text": [
      "Evaluating...\n",
      "Evaluating...\n"
     ]
    },
    {
     "name": "stderr",
     "output_type": "stream",
     "text": [
      "Iteration: 100%|██████████| 1001/1001 [00:22<00:00, 43.70it/s]\n",
      "Iteration:  99%|█████████▊| 988/1001 [00:22<00:00, 42.95it/s]"
     ]
    },
    {
     "name": "stdout",
     "output_type": "stream",
     "text": [
      "Evaluating...\n"
     ]
    },
    {
     "name": "stderr",
     "output_type": "stream",
     "text": [
      "Iteration: 100%|██████████| 1001/1001 [00:23<00:00, 43.39it/s]\n",
      "Iteration:  92%|█████████▏| 924/1001 [00:21<00:01, 43.50it/s]"
     ]
    },
    {
     "name": "stdout",
     "output_type": "stream",
     "text": [
      "Evaluating...\n"
     ]
    },
    {
     "name": "stderr",
     "output_type": "stream",
     "text": [
      "Iteration: 100%|██████████| 1001/1001 [00:22<00:00, 43.59it/s]\n",
      "Iteration:  27%|██▋       | 268/1001 [00:05<00:14, 49.14it/s]"
     ]
    },
    {
     "name": "stdout",
     "output_type": "stream",
     "text": [
      "Evaluating...\n"
     ]
    },
    {
     "name": "stderr",
     "output_type": "stream",
     "text": [
      "Iteration:  93%|█████████▎| 926/1001 [00:18<00:01, 71.10it/s]]\n",
      "Iteration:   0%|          | 0/112 [00:00<?, ?it/s]\n",
      "Iteration: 100%|██████████| 112/112 [00:01<00:00, 64.29it/s]s]\n",
      "Iteration:  21%|██▏       | 24/112 [00:00<00:01, 73.45it/s]\n",
      "Iteration:   0%|          | 0/1001 [00:00<?, ?it/s]\n",
      "Iteration:   0%|          | 0/112 [00:00<?, ?it/s]"
     ]
    },
    {
     "name": "stdout",
     "output_type": "stream",
     "text": [
      "{'Train':  best_epoch_indx:29\n",
      " auc:0.8690688854633432 \n",
      " apur:0.4811500264410214 \n",
      " f1:0.4641976483274264 \n",
      " precision:0.32383786534504505 \n",
      " recall:0.8193064457443533 \n",
      ", 'Validation':  best_epoch_indx:29\n",
      " auc:0.8577481269455582 \n",
      " apur:0.47927709917971084 \n",
      " f1:0.4572121904218114 \n",
      " precision:0.31899213225774325 \n",
      " recall:0.806801007556675 \n",
      "}\n",
      "=====Epoch 30\n",
      "Training...\n",
      "{'Train':  best_epoch_indx:29\n",
      " auc:0.8695464194049711 \n",
      " apur:0.48589848843890615 \n",
      " f1:0.45828068160061275 \n",
      " precision:0.3154587436475972 \n",
      " recall:0.8374149850261692 \n",
      ", 'Validation':  best_epoch_indx:29\n",
      " auc:0.8596344542759916 \n",
      " apur:0.46726233393911104 \n",
      " f1:0.4511174150695358 \n",
      " precision:0.3109796813889154 \n",
      " recall:0.8211586901763224 \n",
      "}\n",
      "=====Epoch 30\n",
      "Training...\n"
     ]
    },
    {
     "name": "stderr",
     "output_type": "stream",
     "text": [
      "\n",
      "Iteration:  95%|█████████▍| 106/112 [00:01<00:00, 51.89it/s]\n",
      "Iteration:  11%|█         | 109/1001 [00:02<00:24, 36.70it/s]\n",
      "Iteration:  11%|█▏        | 114/1001 [00:02<00:22, 38.89it/s]"
     ]
    },
    {
     "name": "stdout",
     "output_type": "stream",
     "text": [
      "{'Train':  best_epoch_indx:29\n",
      " auc:0.8687011932664849 \n",
      " apur:0.4778791916920616 \n",
      " f1:0.4584812903126845 \n",
      " precision:0.31577168091107893 \n",
      " recall:0.8365519171564512 \n",
      ", 'Validation':  best_epoch_indx:29\n",
      " auc:0.8557116578305027 \n",
      " apur:0.457166664767437 \n",
      " f1:0.45246174087667057 \n",
      " precision:0.31200458408938975 \n",
      " recall:0.8229219143576826 \n",
      "}\n",
      "=====Epoch 30\n",
      "Training...\n"
     ]
    },
    {
     "name": "stderr",
     "output_type": "stream",
     "text": [
      "Iteration:   2%|▏         | 19/1001 [00:00<00:24, 40.66it/s]]\n",
      "Iteration:   0%|          | 0/1001 [00:00<?, ?it/s]"
     ]
    },
    {
     "name": "stdout",
     "output_type": "stream",
     "text": [
      "{'Train':  best_epoch_indx:29\n",
      " auc:0.8686953574567688 \n",
      " apur:0.4835130971854179 \n",
      " f1:0.4561274227595471 \n",
      " precision:0.31424914856260444 \n",
      " recall:0.8315653950572364 \n",
      ", 'Validation':  best_epoch_indx:29\n",
      " auc:0.8572029527955738 \n",
      " apur:0.465188765799784 \n",
      " f1:0.4504554236820315 \n",
      " precision:0.3102071849458278 \n",
      " recall:0.8221662468513854 \n",
      "}\n",
      "=====Epoch 30\n",
      "Training...\n"
     ]
    },
    {
     "name": "stderr",
     "output_type": "stream",
     "text": [
      "Iteration:   8%|▊         | 84/1001 [00:01<00:20, 44.65it/s]]\n",
      "Iteration:   9%|▉         | 89/1001 [00:02<00:20, 44.65it/s]]"
     ]
    },
    {
     "name": "stdout",
     "output_type": "stream",
     "text": [
      "{'Train':  best_epoch_indx:29\n",
      " auc:0.8670201738952518 \n",
      " apur:0.47937668134983846 \n",
      " f1:0.4545703630413274 \n",
      " precision:0.3121752856440974 \n",
      " recall:0.8358196423073694 \n",
      ", 'Validation':  best_epoch_indx:29\n",
      " auc:0.8588311895139638 \n",
      " apur:0.4635467785119567 \n",
      " f1:0.44792802617230093 \n",
      " precision:0.3070454120725098 \n",
      " recall:0.8277078085642318 \n",
      "}\n",
      "=====Epoch 30\n",
      "Training...\n"
     ]
    },
    {
     "name": "stderr",
     "output_type": "stream",
     "text": [
      "Iteration: 100%|██████████| 1001/1001 [00:22<00:00, 43.62it/s]\n",
      "Iteration: 100%|██████████| 1001/1001 [00:22<00:00, 43.80it/s]\n",
      "Iteration:  86%|████████▌ | 859/1001 [00:19<00:03, 42.71it/s]"
     ]
    },
    {
     "name": "stdout",
     "output_type": "stream",
     "text": [
      "Evaluating...\n",
      "Evaluating...\n"
     ]
    },
    {
     "name": "stderr",
     "output_type": "stream",
     "text": [
      "Iteration: 100%|██████████| 1001/1001 [00:23<00:00, 43.42it/s]\n",
      "Iteration:   0%|          | 0/1001 [00:00<?, ?it/s]"
     ]
    },
    {
     "name": "stdout",
     "output_type": "stream",
     "text": [
      "Evaluating...\n"
     ]
    },
    {
     "name": "stderr",
     "output_type": "stream",
     "text": [
      "Iteration: 100%|██████████| 1001/1001 [00:23<00:00, 43.32it/s]\n",
      "Iteration:   3%|▎         | 31/1001 [00:00<00:20, 47.81it/s]]"
     ]
    },
    {
     "name": "stdout",
     "output_type": "stream",
     "text": [
      "Evaluating...\n"
     ]
    },
    {
     "name": "stderr",
     "output_type": "stream",
     "text": [
      "Iteration:  23%|██▎       | 231/1001 [00:04<00:16, 46.58it/s]]\n",
      "Iteration:  10%|█         | 104/1001 [00:02<00:18, 47.57it/s]"
     ]
    },
    {
     "name": "stdout",
     "output_type": "stream",
     "text": [
      "Evaluating...\n"
     ]
    },
    {
     "name": "stderr",
     "output_type": "stream",
     "text": [
      "Iteration:  94%|█████████▍| 943/1001 [00:19<00:01, 53.68it/s]]\n",
      "Iteration:   0%|          | 0/112 [00:00<?, ?it/s]\n",
      "Iteration: 100%|██████████| 112/112 [00:01<00:00, 66.59it/s]s]\n",
      "Iteration:   0%|          | 0/1001 [00:00<?, ?it/s]\n",
      "Iteration:   0%|          | 4/1001 [00:00<00:29, 34.29it/s]"
     ]
    },
    {
     "name": "stdout",
     "output_type": "stream",
     "text": [
      "{'Train':  best_epoch_indx:30\n",
      " auc:0.8677111685258871 \n",
      " apur:0.4778114270475835 \n",
      " f1:0.4601850424055513 \n",
      " precision:0.3175766991944323 \n",
      " recall:0.8352598729323518 \n",
      ", 'Validation':  best_epoch_indx:30\n",
      " auc:0.8583007153988393 \n",
      " apur:0.45686822741889765 \n",
      " f1:0.453886876567289 \n",
      " precision:0.31369150779896016 \n",
      " recall:0.8206549118387909 \n",
      "}\n",
      "=====Epoch 31\n",
      "Training...\n",
      "{'Train':  best_epoch_indx:30\n",
      " auc:0.8690484853820586 \n",
      " apur:0.4805818737689757 \n",
      " f1:0.45750291285950817 \n",
      " precision:0.31503161717356193 \n",
      " recall:0.835231884463601 \n",
      ", 'Validation':  best_epoch_indx:30\n",
      " auc:0.857801578500886 \n",
      " apur:0.473176769139181 \n",
      " f1:0.4512834667402705 \n",
      " precision:0.3107774187416841 \n",
      " recall:0.8236775818639799 \n",
      "}\n",
      "=====Epoch 31\n",
      "Training...\n"
     ]
    },
    {
     "name": "stderr",
     "output_type": "stream",
     "text": [
      "Iteration:   2%|▏         | 19/1001 [00:00<00:23, 42.54it/s]\n",
      "Iteration:  21%|██▏       | 24/112 [00:00<00:01, 69.47it/s]]\n",
      "Iteration:   9%|▉         | 89/1001 [00:02<00:20, 45.03it/s]\n",
      "Iteration:  34%|███▍      | 38/112 [00:00<00:01, 50.16it/s]s]\n",
      "Iteration:   0%|          | 0/1001 [00:00<?, ?it/s]"
     ]
    },
    {
     "name": "stdout",
     "output_type": "stream",
     "text": [
      "{'Train':  best_epoch_indx:30\n",
      " auc:0.8681935622160466 \n",
      " apur:0.47608599348436303 \n",
      " f1:0.45422755938219855 \n",
      " precision:0.31105249547452807 \n",
      " recall:0.8416176882171844 \n",
      ", 'Validation':  best_epoch_indx:30\n",
      " auc:0.8540205623916194 \n",
      " apur:0.4519993823279748 \n",
      " f1:0.44855491329479774 \n",
      " precision:0.3072193758733116 \n",
      " recall:0.8307304785894206 \n",
      "}\n",
      "=====Epoch 31\n",
      "Training...\n"
     ]
    },
    {
     "name": "stderr",
     "output_type": "stream",
     "text": [
      "Iteration:  14%|█▍        | 144/1001 [00:03<00:19, 43.68it/s]\n",
      "Iteration:  66%|██████▌   | 74/112 [00:01<00:00, 47.41it/s]s]"
     ]
    },
    {
     "name": "stdout",
     "output_type": "stream",
     "text": [
      "{'Train':  best_epoch_indx:30\n",
      " auc:0.867756974515187 \n",
      " apur:0.4770797752790063 \n",
      " f1:0.46129418298148606 \n",
      " precision:0.32010421189752497 \n",
      " recall:0.8253239665257913 \n",
      ", 'Validation':  best_epoch_indx:30\n",
      " auc:0.8552356981303699 \n",
      " apur:0.4543546844063282 \n",
      " f1:0.4534327518289251 \n",
      " precision:0.31456178020691 \n",
      " recall:0.81183879093199 \n",
      "}\n",
      "=====Epoch 31\n",
      "Training...\n"
     ]
    },
    {
     "name": "stderr",
     "output_type": "stream",
     "text": [
      "Iteration:  23%|██▎       | 234/1001 [00:05<00:17, 44.39it/s]\n",
      "Iteration:   0%|          | 4/1001 [00:00<00:27, 36.11it/s]s]"
     ]
    },
    {
     "name": "stdout",
     "output_type": "stream",
     "text": [
      "{'Train':  best_epoch_indx:30\n",
      " auc:0.867512520881929 \n",
      " apur:0.47967538172505175 \n",
      " f1:0.45175992779783386 \n",
      " precision:0.30888296942333204 \n",
      " recall:0.840577681995018 \n",
      ", 'Validation':  best_epoch_indx:30\n",
      " auc:0.8599874136844382 \n",
      " apur:0.4657798321930334 \n",
      " f1:0.44828750928865774 \n",
      " precision:0.30628634727222376 \n",
      " recall:0.8357682619647355 \n",
      "}\n",
      "=====Epoch 31\n",
      "Training...\n"
     ]
    },
    {
     "name": "stderr",
     "output_type": "stream",
     "text": [
      "Iteration: 100%|██████████| 1001/1001 [00:22<00:00, 43.80it/s]\n",
      "Iteration: 100%|██████████| 1001/1001 [00:23<00:00, 43.52it/s]\n",
      "Iteration:  85%|████████▌ | 854/1001 [00:19<00:03, 44.36it/s]"
     ]
    },
    {
     "name": "stdout",
     "output_type": "stream",
     "text": [
      "Evaluating...\n",
      "Evaluating...\n"
     ]
    },
    {
     "name": "stderr",
     "output_type": "stream",
     "text": [
      "Iteration: 100%|██████████| 1001/1001 [00:23<00:00, 43.45it/s]\n",
      "Iteration:  16%|█▌        | 161/1001 [00:03<00:16, 49.92it/s]"
     ]
    },
    {
     "name": "stdout",
     "output_type": "stream",
     "text": [
      "Evaluating...\n"
     ]
    },
    {
     "name": "stderr",
     "output_type": "stream",
     "text": [
      "Iteration: 100%|██████████| 1001/1001 [00:23<00:00, 43.39it/s]\n",
      "Iteration:  18%|█▊        | 180/1001 [00:03<00:16, 51.00it/s]"
     ]
    },
    {
     "name": "stdout",
     "output_type": "stream",
     "text": [
      "Evaluating...\n"
     ]
    },
    {
     "name": "stderr",
     "output_type": "stream",
     "text": [
      "Iteration: 100%|██████████| 1001/1001 [00:23<00:00, 43.30it/s]\n",
      "Iteration:  10%|█         | 105/1001 [00:02<00:18, 47.97it/s]"
     ]
    },
    {
     "name": "stdout",
     "output_type": "stream",
     "text": [
      "Evaluating...\n"
     ]
    },
    {
     "name": "stderr",
     "output_type": "stream",
     "text": [
      "Iteration:  92%|█████████▏| 916/1001 [00:18<00:01, 75.79it/s]]\n",
      "Iteration:   0%|          | 0/112 [00:00<?, ?it/s]\n",
      "Iteration: 100%|██████████| 112/112 [00:01<00:00, 64.23it/s]s]\n",
      "Iteration:   0%|          | 0/1001 [00:00<?, ?it/s]\n",
      "Iteration:   0%|          | 4/1001 [00:00<00:28, 34.90it/s]"
     ]
    },
    {
     "name": "stdout",
     "output_type": "stream",
     "text": [
      "{'Train':  best_epoch_indx:31\n",
      " auc:0.8670307055132811 \n",
      " apur:0.478134946658351 \n",
      " f1:0.4567479339158888 \n",
      " precision:0.31419736205482046 \n",
      " recall:0.8360715385261273 \n",
      ", 'Validation':  best_epoch_indx:31\n",
      " auc:0.8575436850321674 \n",
      " apur:0.46300842104674556 \n",
      " f1:0.44935011347225084 \n",
      " precision:0.3090530697190427 \n",
      " recall:0.8229219143576826 \n",
      "}\n",
      "=====Epoch 32\n",
      "Training...\n",
      "{'Train':  best_epoch_indx:31\n",
      " auc:0.8663182897246337 \n",
      " apur:0.4715902476286926 \n",
      " f1:0.4615529945210655 \n",
      " precision:0.32108473982234975 \n",
      " recall:0.820509949900641 \n",
      ", 'Validation':  best_epoch_indx:31\n",
      " auc:0.8565765984530763 \n",
      " apur:0.4703001004513344 \n",
      " f1:0.45509236322457364 \n",
      " precision:0.3164681563145979 \n",
      " recall:0.809823677581864 \n",
      "}\n",
      "=====Epoch 32\n",
      "Training...\n"
     ]
    },
    {
     "name": "stderr",
     "output_type": "stream",
     "text": [
      "Iteration:   1%|          | 9/1001 [00:00<00:25, 38.78it/s]\n",
      "Iteration:   3%|▎         | 34/1001 [00:00<00:22, 43.12it/s]\n",
      "Iteration:  10%|█         | 104/1001 [00:02<00:25, 34.84it/s]\n",
      "Iteration:  11%|█▏        | 114/1001 [00:02<00:22, 39.43it/s]\n",
      "Iteration:  12%|█▏        | 119/1001 [00:02<00:21, 40.11it/s]"
     ]
    },
    {
     "name": "stdout",
     "output_type": "stream",
     "text": [
      "{'Train':  best_epoch_indx:31\n",
      " auc:0.8675865075214062 \n",
      " apur:0.4745386028616329 \n",
      " f1:0.4555469567988346 \n",
      " precision:0.31248438670996753 \n",
      " recall:0.8402183039462636 \n",
      ", 'Validation':  best_epoch_indx:31\n",
      " auc:0.854272305845754 \n",
      " apur:0.44961341057634285 \n",
      " f1:0.44778166358088184 \n",
      " precision:0.3076415716574013 \n",
      " recall:0.8224181360201511 \n",
      "}\n",
      "=====Epoch 32\n",
      "Training...\n"
     ]
    },
    {
     "name": "stderr",
     "output_type": "stream",
     "text": [
      "Iteration:  33%|███▎      | 37/112 [00:00<00:01, 51.51it/s]s]\n",
      "Iteration:   2%|▏         | 24/1001 [00:00<00:23, 42.03it/s]]"
     ]
    },
    {
     "name": "stdout",
     "output_type": "stream",
     "text": [
      "{'Train':  best_epoch_indx:31\n",
      " auc:0.8679850627569874 \n",
      " apur:0.478330152453998 \n",
      " f1:0.4578908866900242 \n",
      " precision:0.3158409110223506 \n",
      " recall:0.8321531529010048 \n",
      ", 'Validation':  best_epoch_indx:31\n",
      " auc:0.8565068654305668 \n",
      " apur:0.45915554018561977 \n",
      " f1:0.4544257295348999 \n",
      " precision:0.3134742277899971 \n",
      " recall:0.8256926952141058 \n",
      "}\n",
      "=====Epoch 32\n",
      "Training...\n"
     ]
    },
    {
     "name": "stderr",
     "output_type": "stream",
     "text": [
      "Iteration:   8%|▊         | 83/1001 [00:01<00:20, 44.03it/s]]\n",
      "Iteration:  11%|█         | 109/1001 [00:02<00:24, 36.35it/s]"
     ]
    },
    {
     "name": "stdout",
     "output_type": "stream",
     "text": [
      "{'Train':  best_epoch_indx:31\n",
      " auc:0.8653396404280952 \n",
      " apur:0.47236205201476295 \n",
      " f1:0.4578942460132425 \n",
      " precision:0.3169548237167418 \n",
      " recall:0.8245402894007668 \n",
      ", 'Validation':  best_epoch_indx:31\n",
      " auc:0.8583817713053434 \n",
      " apur:0.4606663617712874 \n",
      " f1:0.4552186670392623 \n",
      " precision:0.31496519721577726 \n",
      " recall:0.8206549118387909 \n",
      "}\n",
      "=====Epoch 32\n",
      "Training...\n"
     ]
    },
    {
     "name": "stderr",
     "output_type": "stream",
     "text": [
      "Iteration: 100%|██████████| 1001/1001 [00:22<00:00, 43.69it/s]\n",
      "Iteration:  77%|███████▋  | 769/1001 [00:17<00:05, 43.69it/s]"
     ]
    },
    {
     "name": "stdout",
     "output_type": "stream",
     "text": [
      "Evaluating...\n",
      "Evaluating...\n"
     ]
    },
    {
     "name": "stderr",
     "output_type": "stream",
     "text": [
      "Iteration: 100%|██████████| 1001/1001 [00:22<00:00, 43.57it/s]\n",
      "Iteration: 100%|██████████| 1001/1001 [00:23<00:00, 43.31it/s]\n",
      "Iteration:  89%|████████▉ | 894/1001 [00:20<00:02, 41.95it/s]"
     ]
    },
    {
     "name": "stdout",
     "output_type": "stream",
     "text": [
      "Evaluating...\n"
     ]
    },
    {
     "name": "stderr",
     "output_type": "stream",
     "text": [
      "Iteration: 100%|██████████| 1001/1001 [00:23<00:00, 43.24it/s]\n",
      "Iteration:  92%|█████████▏| 924/1001 [00:21<00:01, 43.45it/s]"
     ]
    },
    {
     "name": "stdout",
     "output_type": "stream",
     "text": [
      "Evaluating...\n"
     ]
    },
    {
     "name": "stderr",
     "output_type": "stream",
     "text": [
      "Iteration: 100%|██████████| 1001/1001 [00:23<00:00, 43.06it/s]\n",
      "Iteration:  10%|█         | 102/1001 [00:02<00:19, 46.53it/s]"
     ]
    },
    {
     "name": "stdout",
     "output_type": "stream",
     "text": [
      "Evaluating...\n"
     ]
    },
    {
     "name": "stderr",
     "output_type": "stream",
     "text": [
      "Iteration:  92%|█████████▏| 923/1001 [00:19<00:01, 66.58it/s]]\n",
      "Iteration:   0%|          | 0/112 [00:00<?, ?it/s]\n",
      "Iteration: 100%|██████████| 112/112 [00:01<00:00, 62.30it/s]s]\n",
      "Iteration:   0%|          | 0/1001 [00:00<?, ?it/s]\n",
      "Iteration:   0%|          | 4/1001 [00:00<00:26, 37.53it/s]"
     ]
    },
    {
     "name": "stdout",
     "output_type": "stream",
     "text": [
      "{'Train':  best_epoch_indx:32\n",
      " auc:0.865231297587173 \n",
      " apur:0.47204208176694507 \n",
      " f1:0.45253421567152957 \n",
      " precision:0.3093952761411194 \n",
      " recall:0.842145036245067 \n",
      ", 'Validation':  best_epoch_indx:32\n",
      " auc:0.8560451343356043 \n",
      " apur:0.45775332446815103 \n",
      " f1:0.4459560574110605 \n",
      " precision:0.30547013325878297 \n",
      " recall:0.8256926952141058 \n",
      "}\n",
      "=====Epoch 33\n",
      "Training...\n",
      "{'Train':  best_epoch_indx:32\n",
      " auc:0.8634896900148334 \n",
      " apur:0.4636191286244377 \n",
      " f1:0.4586082994762923 \n",
      " precision:0.3183428608689982 \n",
      " recall:0.8198382266506199 \n",
      ", 'Validation':  best_epoch_indx:32\n",
      " auc:0.8554692443984939 \n",
      " apur:0.46147434150398 \n",
      " f1:0.4524128214159916 \n",
      " precision:0.3140342298288509 \n",
      " recall:0.808816120906801 \n",
      "}\n",
      "=====Epoch 33\n",
      "Training...\n"
     ]
    },
    {
     "name": "stderr",
     "output_type": "stream",
     "text": [
      "Iteration:   1%|          | 9/1001 [00:00<00:24, 40.05it/s]\n",
      "Iteration:   3%|▎         | 29/1001 [00:00<00:22, 43.62it/s]\n",
      "Iteration:  10%|▉         | 99/1001 [00:02<00:20, 44.87it/s]\n",
      "Iteration:  22%|██▏       | 25/112 [00:00<00:01, 54.36it/s]s]\n",
      "Iteration: 100%|██████████| 112/112 [00:02<00:00, 52.96it/s]]"
     ]
    },
    {
     "name": "stdout",
     "output_type": "stream",
     "text": [
      "{'Train':  best_epoch_indx:32\n",
      " auc:0.8652457410664942 \n",
      " apur:0.4674948400421257 \n",
      " f1:0.4564868743141724 \n",
      " precision:0.3144618182202628 \n",
      " recall:0.8324657150853625 \n",
      ", 'Validation':  best_epoch_indx:32\n",
      " auc:0.8527104292847323 \n",
      " apur:0.4501773518613615 \n",
      " f1:0.44894293215420755 \n",
      " precision:0.3093107387661843 \n",
      " recall:0.8183879093198992 \n",
      "}\n",
      "=====Epoch 33\n",
      "Training...\n"
     ]
    },
    {
     "name": "stderr",
     "output_type": "stream",
     "text": [
      "Iteration:  13%|█▎        | 134/1001 [00:03<00:20, 42.24it/s]\n",
      "Iteration:  14%|█▍        | 139/1001 [00:03<00:19, 43.32it/s]"
     ]
    },
    {
     "name": "stdout",
     "output_type": "stream",
     "text": [
      "{'Train':  best_epoch_indx:32\n",
      " auc:0.8638693626601521 \n",
      " apur:0.46807389661870663 \n",
      " f1:0.4493669459368073 \n",
      " precision:0.307140802826739 \n",
      " recall:0.8369111925886534 \n",
      ", 'Validation':  best_epoch_indx:32\n",
      " auc:0.8534631139268131 \n",
      " apur:0.44963155695638996 \n",
      " f1:0.44581164221486036 \n",
      " precision:0.30468533407263654 \n",
      " recall:0.8304785894206549 \n",
      "}\n",
      "=====Epoch 33\n",
      "Training...\n"
     ]
    },
    {
     "name": "stderr",
     "output_type": "stream",
     "text": [
      "Iteration:   9%|▉         | 89/1001 [00:02<00:20, 44.66it/s]]\n",
      "Iteration:   0%|          | 0/1001 [00:00<?, ?it/s]"
     ]
    },
    {
     "name": "stdout",
     "output_type": "stream",
     "text": [
      "{'Train':  best_epoch_indx:32\n",
      " auc:0.8634182832145025 \n",
      " apur:0.46778697519089285 \n",
      " f1:0.4538149245546018 \n",
      " precision:0.31174783900876957 \n",
      " recall:0.8337764840885555 \n",
      ", 'Validation':  best_epoch_indx:32\n",
      " auc:0.857167505568656 \n",
      " apur:0.45697479424756215 \n",
      " f1:0.44928429559619204 \n",
      " precision:0.30853165271376165 \n",
      " recall:0.8261964735516373 \n",
      "}\n",
      "=====Epoch 33\n",
      "Training...\n"
     ]
    },
    {
     "name": "stderr",
     "output_type": "stream",
     "text": [
      "Iteration: 100%|██████████| 1001/1001 [00:23<00:00, 43.39it/s]\n",
      "Iteration:   0%|          | 4/1001 [00:00<00:27, 36.88it/s]s]"
     ]
    },
    {
     "name": "stdout",
     "output_type": "stream",
     "text": [
      "Evaluating...\n",
      "Evaluating...\n"
     ]
    },
    {
     "name": "stderr",
     "output_type": "stream",
     "text": [
      "Iteration: 100%|██████████| 1001/1001 [00:23<00:00, 43.20it/s]\n",
      "Iteration: 100%|██████████| 1001/1001 [00:23<00:00, 43.14it/s]\n",
      "Iteration:  14%|█▍        | 142/1001 [00:02<00:18, 45.75it/s]"
     ]
    },
    {
     "name": "stdout",
     "output_type": "stream",
     "text": [
      "Evaluating...\n"
     ]
    },
    {
     "name": "stderr",
     "output_type": "stream",
     "text": [
      "Iteration: 100%|██████████| 1001/1001 [00:23<00:00, 42.83it/s]\n",
      "Iteration:   0%|          | 0/1001 [00:00<?, ?it/s]"
     ]
    },
    {
     "name": "stdout",
     "output_type": "stream",
     "text": [
      "Evaluating...\n"
     ]
    },
    {
     "name": "stderr",
     "output_type": "stream",
     "text": [
      "Iteration: 100%|██████████| 1001/1001 [00:23<00:00, 42.78it/s]\n",
      "Iteration:  24%|██▍       | 243/1001 [00:05<00:18, 41.36it/s]"
     ]
    },
    {
     "name": "stdout",
     "output_type": "stream",
     "text": [
      "Evaluating...\n"
     ]
    },
    {
     "name": "stderr",
     "output_type": "stream",
     "text": [
      "Iteration:  95%|█████████▍| 948/1001 [00:20<00:00, 60.83it/s]]\n",
      "Iteration:  96%|█████████▌| 956/1001 [00:20<00:00, 62.84it/s]\n",
      "Iteration: 100%|██████████| 112/112 [00:01<00:00, 69.11it/s]s]\n",
      "Iteration:   0%|          | 0/1001 [00:00<?, ?it/s]\n",
      "Iteration:   0%|          | 4/1001 [00:00<00:27, 36.29it/s]"
     ]
    },
    {
     "name": "stdout",
     "output_type": "stream",
     "text": [
      "{'Train':  best_epoch_indx:33\n",
      " auc:0.8635252382454102 \n",
      " apur:0.46224272250276344 \n",
      " f1:0.4588144366114715 \n",
      " precision:0.3181503215608151 \n",
      " recall:0.8224411542444513 \n",
      ", 'Validation':  best_epoch_indx:33\n",
      " auc:0.8536373157684917 \n",
      " apur:0.45686712576821065 \n",
      " f1:0.45232256708470536 \n",
      " precision:0.3133068038435407 \n",
      " recall:0.8130982367758186 \n",
      "}\n",
      "=====Epoch 34\n",
      "Training...\n",
      "{'Train':  best_epoch_indx:33\n",
      " auc:0.8629228202639634 \n",
      " apur:0.46594790654444085 \n",
      " f1:0.44760726687432 \n",
      " precision:0.3050096984837868 \n",
      " recall:0.8406056704637689 \n",
      ", 'Validation':  best_epoch_indx:33\n",
      " auc:0.8549962289910572 \n",
      " apur:0.4480984051782916 \n",
      " f1:0.44170132832416475 \n",
      " precision:0.3010241404535479 \n",
      " recall:0.8292191435768262 \n",
      "}\n",
      "=====Epoch 34\n",
      "Training...\n"
     ]
    },
    {
     "name": "stderr",
     "output_type": "stream",
     "text": [
      "Iteration:   0%|          | 3/1001 [00:00<00:39, 25.40it/s]\n",
      "Iteration:   2%|▏         | 23/1001 [00:00<00:23, 41.16it/s]\n",
      "Iteration:   9%|▉         | 93/1001 [00:02<00:21, 42.96it/s]\n",
      "Iteration:  97%|█████████▋| 109/112 [00:02<00:00, 54.43it/s]]\n",
      "Iteration: 100%|██████████| 112/112 [00:02<00:00, 52.79it/s]]"
     ]
    },
    {
     "name": "stdout",
     "output_type": "stream",
     "text": [
      "{'Train':  best_epoch_indx:33\n",
      " auc:0.8622633149728957 \n",
      " apur:0.4590310975763162 \n",
      " f1:0.4497671023620862 \n",
      " precision:0.30758226037195996 \n",
      " recall:0.8364119787293591 \n",
      ", 'Validation':  best_epoch_indx:33\n",
      " auc:0.849496294519784 \n",
      " apur:0.43836228561189 \n",
      " f1:0.4445197127760466 \n",
      " precision:0.30402149740548556 \n",
      " recall:0.826448362720403 \n",
      "}\n",
      "=====Epoch 34\n",
      "Training...\n"
     ]
    },
    {
     "name": "stderr",
     "output_type": "stream",
     "text": [
      "Iteration:  13%|█▎        | 128/1001 [00:03<00:21, 41.28it/s]\n",
      "Iteration:  54%|█████▍    | 61/112 [00:01<00:00, 51.37it/s]]]"
     ]
    },
    {
     "name": "stdout",
     "output_type": "stream",
     "text": [
      "{'Train':  best_epoch_indx:33\n",
      " auc:0.8624129381683252 \n",
      " apur:0.4649590788724585 \n",
      " f1:0.45486175542772306 \n",
      " precision:0.3142393197089961 \n",
      " recall:0.8232808083069775 \n",
      ", 'Validation':  best_epoch_indx:33\n",
      " auc:0.8528325467171823 \n",
      " apur:0.44501853444840994 \n",
      " f1:0.4504629951959897 \n",
      " precision:0.31126719907630135 \n",
      " recall:0.8148614609571788 \n",
      "}\n",
      "=====Epoch 34\n",
      "Training...\n"
     ]
    },
    {
     "name": "stderr",
     "output_type": "stream",
     "text": [
      "Iteration:   8%|▊         | 84/1001 [00:01<00:20, 44.66it/s]]\n",
      "Iteration:   7%|▋         | 74/1001 [00:01<00:21, 43.89it/s]]"
     ]
    },
    {
     "name": "stdout",
     "output_type": "stream",
     "text": [
      "{'Train':  best_epoch_indx:33\n",
      " auc:0.860811788487789 \n",
      " apur:0.4595117184748336 \n",
      " f1:0.45155440812625813 \n",
      " precision:0.31121514134107203 \n",
      " recall:0.8224131657757004 \n",
      ", 'Validation':  best_epoch_indx:33\n",
      " auc:0.8538210962043139 \n",
      " apur:0.45364448621965775 \n",
      " f1:0.447508099538154 \n",
      " precision:0.3080573218183544 \n",
      " recall:0.8176322418136021 \n",
      "}\n",
      "=====Epoch 34\n",
      "Training...\n"
     ]
    },
    {
     "name": "stderr",
     "output_type": "stream",
     "text": [
      "Iteration: 100%|██████████| 1001/1001 [00:23<00:00, 43.42it/s]\n",
      "Iteration: 100%|██████████| 1001/1001 [00:23<00:00, 43.12it/s]\n",
      "Iteration:  88%|████████▊ | 884/1001 [00:20<00:02, 40.17it/s]"
     ]
    },
    {
     "name": "stdout",
     "output_type": "stream",
     "text": [
      "Evaluating...\n",
      "Evaluating...\n"
     ]
    },
    {
     "name": "stderr",
     "output_type": "stream",
     "text": [
      "Iteration: 100%|██████████| 1001/1001 [00:23<00:00, 43.14it/s]\n",
      "Iteration:  14%|█▍        | 138/1001 [00:02<00:18, 47.91it/s]"
     ]
    },
    {
     "name": "stdout",
     "output_type": "stream",
     "text": [
      "Evaluating...\n"
     ]
    },
    {
     "name": "stderr",
     "output_type": "stream",
     "text": [
      "Iteration: 100%|██████████| 1001/1001 [00:23<00:00, 42.95it/s]\n",
      "Iteration:   0%|          | 0/1001 [00:00<?, ?it/s]"
     ]
    },
    {
     "name": "stdout",
     "output_type": "stream",
     "text": [
      "Evaluating...\n"
     ]
    },
    {
     "name": "stderr",
     "output_type": "stream",
     "text": [
      "Iteration: 100%|██████████| 1001/1001 [00:23<00:00, 42.91it/s]\n",
      "Iteration:   0%|          | 4/1001 [00:00<00:25, 39.84it/s]s]"
     ]
    },
    {
     "name": "stdout",
     "output_type": "stream",
     "text": [
      "Evaluating...\n"
     ]
    },
    {
     "name": "stderr",
     "output_type": "stream",
     "text": [
      "Iteration:  96%|█████████▌| 957/1001 [00:19<00:00, 60.79it/s]]\n",
      "Iteration:  97%|█████████▋| 973/1001 [00:20<00:00, 66.78it/s]\n",
      "Iteration: 100%|██████████| 112/112 [00:01<00:00, 72.50it/s]s]\n",
      "Iteration:   0%|          | 0/1001 [00:00<?, ?it/s]"
     ]
    },
    {
     "name": "stdout",
     "output_type": "stream",
     "text": [
      "{'Train':  best_epoch_indx:34\n",
      " auc:0.8611900499189593 \n",
      " apur:0.4529486642939832 \n",
      " f1:0.45212996061109717 \n",
      " precision:0.31017139763000606 \n",
      " recall:0.8336925186823029 \n",
      ", 'Validation':  best_epoch_indx:34\n",
      " auc:0.8540759039514292 \n",
      " apur:0.4502257949248884 \n",
      " f1:0.447472948911108 \n",
      " precision:0.3072799097065463 \n",
      " recall:0.8229219143576826 \n",
      "}\n",
      "=====Epoch 35\n",
      "Training...\n",
      "{'Train':  best_epoch_indx:34\n",
      " auc:0.8617182135178449 \n",
      " apur:0.4565513139405193 \n",
      " f1:0.45305757846447325 \n",
      " precision:0.31051479210119437 \n",
      " recall:0.8375269389011727 \n",
      ", 'Validation':  best_epoch_indx:34\n",
      " auc:0.8527148007236702 \n",
      " apur:0.44635446373927606 \n",
      " f1:0.44839128355762 \n",
      " precision:0.3076202080794826 \n",
      " recall:0.8267002518891687 \n",
      "}\n",
      "=====Epoch 35\n",
      "Training...\n"
     ]
    },
    {
     "name": "stderr",
     "output_type": "stream",
     "text": [
      "Iteration:   0%|          | 4/1001 [00:00<00:29, 33.85it/s]\n",
      "Iteration:   1%|          | 9/1001 [00:00<00:27, 36.40it/s]]\n",
      "Iteration:  21%|██▏       | 24/112 [00:00<00:01, 48.88it/s]]\n",
      "Iteration:   7%|▋         | 69/1001 [00:01<00:21, 44.30it/s]\n",
      "Iteration:  96%|█████████▌| 107/112 [00:02<00:00, 50.33it/s]]\n",
      "Iteration:  12%|█▏        | 124/1001 [00:03<00:22, 39.53it/s]"
     ]
    },
    {
     "name": "stdout",
     "output_type": "stream",
     "text": [
      "{'Train':  best_epoch_indx:34\n",
      " auc:0.8612063162159005 \n",
      " apur:0.4539474399287504 \n",
      " f1:0.453207497867304 \n",
      " precision:0.31238412069458715 \n",
      " recall:0.8252169045619927 \n",
      ", 'Validation':  best_epoch_indx:34\n",
      " auc:0.8490975292884266 \n",
      " apur:0.43333758583931864 \n",
      " f1:0.44694978558583487 \n",
      " precision:0.3080663615560641 \n",
      " recall:0.8138539042821159 \n",
      "}\n",
      "=====Epoch 35\n",
      "Training...\n"
     ]
    },
    {
     "name": "stderr",
     "output_type": "stream",
     "text": [
      "Iteration:  74%|███████▍  | 83/112 [00:01<00:00, 48.25it/s]s]\n",
      "Iteration:  14%|█▍        | 144/1001 [00:03<00:19, 43.65it/s]"
     ]
    },
    {
     "name": "stdout",
     "output_type": "stream",
     "text": [
      "{'Train':  best_epoch_indx:34\n",
      " auc:0.8609145312908456 \n",
      " apur:0.45820329527325526 \n",
      " f1:0.44506348890510194 \n",
      " precision:0.3020687447481093 \n",
      " recall:0.8451398024014106 \n",
      ", 'Validation':  best_epoch_indx:34\n",
      " auc:0.8524890673312168 \n",
      " apur:0.4483451987436404 \n",
      " f1:0.43961703532518986 \n",
      " precision:0.2978970917225951 \n",
      " recall:0.8385390428211587 \n",
      "}\n",
      "=====Epoch 35\n",
      "Training...\n"
     ]
    },
    {
     "name": "stderr",
     "output_type": "stream",
     "text": [
      "Iteration:  19%|█▉        | 189/1001 [00:04<00:18, 44.14it/s]"
     ]
    },
    {
     "name": "stdout",
     "output_type": "stream",
     "text": [
      "{'Train':  best_epoch_indx:34\n",
      " auc:0.8580452980413812 \n",
      " apur:0.45176141004369064 \n",
      " f1:0.44753773074379166 \n",
      " precision:0.3059217624513199 \n",
      " recall:0.8332726916510398 \n",
      ", 'Validation':  best_epoch_indx:34\n",
      " auc:0.8515517836799442 \n",
      " apur:0.4420558520206675 \n",
      " f1:0.4433072986803124 \n",
      " precision:0.3025179195000919 \n",
      " recall:0.8292191435768262 \n",
      "}\n",
      "=====Epoch 35\n",
      "Training...\n"
     ]
    },
    {
     "name": "stderr",
     "output_type": "stream",
     "text": [
      "Iteration:   4%|▍         | 39/1001 [00:00<00:22, 43.41it/s]\n",
      "Iteration: 100%|██████████| 1001/1001 [00:23<00:00, 43.08it/s]\n",
      "Iteration: 100%|█████████▉| 999/1001 [00:23<00:00, 44.44it/s]"
     ]
    },
    {
     "name": "stdout",
     "output_type": "stream",
     "text": [
      "Evaluating...\n",
      "Evaluating...\n"
     ]
    },
    {
     "name": "stderr",
     "output_type": "stream",
     "text": [
      "Iteration: 100%|██████████| 1001/1001 [00:23<00:00, 43.25it/s]\n",
      "Iteration: 100%|██████████| 1001/1001 [00:23<00:00, 43.35it/s]\n",
      "Iteration:  94%|█████████▍| 942/1001 [00:21<00:01, 42.93it/s]"
     ]
    },
    {
     "name": "stdout",
     "output_type": "stream",
     "text": [
      "Evaluating...\n"
     ]
    },
    {
     "name": "stderr",
     "output_type": "stream",
     "text": [
      "Iteration: 100%|██████████| 1001/1001 [00:23<00:00, 42.85it/s]\n",
      "Iteration:  18%|█▊        | 182/1001 [00:03<00:22, 36.58it/s]"
     ]
    },
    {
     "name": "stdout",
     "output_type": "stream",
     "text": [
      "Evaluating...\n"
     ]
    },
    {
     "name": "stderr",
     "output_type": "stream",
     "text": [
      "Iteration: 100%|██████████| 1001/1001 [00:23<00:00, 42.95it/s]\n",
      "Iteration:  23%|██▎       | 226/1001 [00:04<00:16, 48.16it/s]"
     ]
    },
    {
     "name": "stdout",
     "output_type": "stream",
     "text": [
      "Evaluating...\n"
     ]
    },
    {
     "name": "stderr",
     "output_type": "stream",
     "text": [
      "Iteration:  96%|█████████▌| 959/1001 [00:20<00:00, 58.78it/s]]\n",
      "Iteration:  98%|█████████▊| 983/1001 [00:20<00:00, 67.41it/s]]\n",
      "Iteration: 100%|██████████| 112/112 [00:01<00:00, 72.44it/s]s]\n",
      "Iteration:   0%|          | 4/1001 [00:00<00:27, 36.44it/s]"
     ]
    },
    {
     "name": "stdout",
     "output_type": "stream",
     "text": [
      "{'Train':  best_epoch_indx:35\n",
      " auc:0.8630469488196852 \n",
      " apur:0.4654066759897778 \n",
      " f1:0.45649558941459506 \n",
      " precision:0.3150416671101225 \n",
      " recall:0.8284866634946402 \n",
      ", 'Validation':  best_epoch_indx:35\n",
      " auc:0.8547291255004975 \n",
      " apur:0.44547538901517336 \n",
      " f1:0.452827567041823 \n",
      " precision:0.3126438986953185 \n",
      " recall:0.8209068010075566 \n",
      "}\n",
      "=====Epoch 36\n",
      "Training...\n"
     ]
    },
    {
     "name": "stderr",
     "output_type": "stream",
     "text": [
      "\r",
      "Iteration:   1%|          | 9/1001 [00:00<00:24, 39.96it/s]\n",
      "\r",
      "Iteration:   0%|          | 0/1001 [00:00<?, ?it/s]\r",
      "Iteration:   1%|▏         | 14/1001 [00:00<00:24, 41.03it/s]\r",
      "Iteration:   0%|          | 4/1001 [00:00<00:27, 35.68it/s]"
     ]
    },
    {
     "name": "stdout",
     "output_type": "stream",
     "text": [
      "{'Train':  best_epoch_indx:35\n",
      " auc:0.8646808968393216 \n",
      " apur:0.4706694201905959 \n",
      " f1:0.4528804528804529 \n",
      " precision:0.3103637853593768 \n",
      " recall:0.8374149850261692 \n",
      ", 'Validation':  best_epoch_indx:35\n",
      " auc:0.8565477855276057 \n",
      " apur:0.4671393447067524 \n",
      " f1:0.4484732824427481 \n",
      " precision:0.3074191739861708 \n",
      " recall:0.8287153652392947 \n",
      "}\n",
      "=====Epoch 36\n",
      "Training...\n"
     ]
    },
    {
     "name": "stderr",
     "output_type": "stream",
     "text": [
      "Iteration:   3%|▎         | 29/1001 [00:00<00:22, 42.66it/s]\n",
      "Iteration:   4%|▍         | 44/1001 [00:01<00:21, 44.46it/s]\n",
      "Iteration:  21%|██▏       | 24/112 [00:00<00:01, 50.86it/s]]\n",
      "Iteration:  83%|████████▎ | 93/112 [00:01<00:00, 49.44it/s]s]\n",
      "Iteration:  14%|█▍        | 138/1001 [00:03<00:20, 43.08it/s]"
     ]
    },
    {
     "name": "stdout",
     "output_type": "stream",
     "text": [
      "{'Train':  best_epoch_indx:35\n",
      " auc:0.8634582291586272 \n",
      " apur:0.45991418116302757 \n",
      " f1:0.4508408408408408 \n",
      " precision:0.30805376013132246 \n",
      " recall:0.8403582423733558 \n",
      ", 'Validation':  best_epoch_indx:35\n",
      " auc:0.8504738296950818 \n",
      " apur:0.43617417843936934 \n",
      " f1:0.4457839485269218 \n",
      " precision:0.3048633626679018 \n",
      " recall:0.8289672544080604 \n",
      "}\n",
      "=====Epoch 36\n",
      "Training...\n"
     ]
    },
    {
     "name": "stderr",
     "output_type": "stream",
     "text": [
      "Iteration: 100%|██████████| 112/112 [00:02<00:00, 51.29it/s]]\n",
      "Iteration:  16%|█▋        | 164/1001 [00:03<00:18, 44.87it/s]"
     ]
    },
    {
     "name": "stdout",
     "output_type": "stream",
     "text": [
      "{'Train':  best_epoch_indx:35\n",
      " auc:0.8629831775037662 \n",
      " apur:0.465043220704472 \n",
      " f1:0.4441413096888224 \n",
      " precision:0.3009222451900143 \n",
      " recall:0.847490833776484 \n",
      ", 'Validation':  best_epoch_indx:35\n",
      " auc:0.8523199697873569 \n",
      " apur:0.4454765751800177 \n",
      " f1:0.4392880685563612 \n",
      " precision:0.2975 \n",
      " recall:0.839294710327456 \n",
      "}\n",
      "=====Epoch 36\n",
      "Training...\n"
     ]
    },
    {
     "name": "stderr",
     "output_type": "stream",
     "text": [
      "\r",
      "Iteration:  18%|█▊        | 178/1001 [00:04<00:19, 42.98it/s]\r",
      "Iteration:   4%|▍         | 39/1001 [00:00<00:21, 44.01it/s]\r",
      "Iteration:   1%|          | 9/1001 [00:00<00:24, 39.70it/s]\r",
      "Iteration:  17%|█▋        | 169/1001 [00:03<00:18, 44.91it/s]\r",
      "Iteration:  18%|█▊        | 183/1001 [00:04<00:18, 43.95it/s]\n",
      "\r",
      "Iteration:   0%|          | 0/1001 [00:00<?, ?it/s]\r",
      "Iteration:   4%|▍         | 44/1001 [00:01<00:21, 43.95it/s]\r",
      "Iteration:   1%|▏         | 14/1001 [00:00<00:24, 40.54it/s]\r",
      "Iteration:  17%|█▋        | 174/1001 [00:04<00:18, 44.84it/s]"
     ]
    },
    {
     "name": "stdout",
     "output_type": "stream",
     "text": [
      "{'Train':  best_epoch_indx:35\n",
      " auc:0.8627835069549652 \n",
      " apur:0.46821284371302097 \n",
      " f1:0.449513515145568 \n",
      " precision:0.3077559120224905 \n",
      " recall:0.8333846455260433 \n",
      ", 'Validation':  best_epoch_indx:35\n",
      " auc:0.8564796210802443 \n",
      " apur:0.45428062733646163 \n",
      " f1:0.4470508474576271 \n",
      " precision:0.30584415584415586 \n",
      " recall:0.8304785894206549 \n",
      "}\n",
      "=====Epoch 36\n",
      "Training...\n"
     ]
    },
    {
     "name": "stderr",
     "output_type": "stream",
     "text": [
      "Iteration: 100%|██████████| 1001/1001 [00:23<00:00, 43.39it/s]\n",
      "Iteration:  99%|█████████▉| 989/1001 [00:22<00:00, 42.91it/s]"
     ]
    },
    {
     "name": "stdout",
     "output_type": "stream",
     "text": [
      "Evaluating...\n"
     ]
    },
    {
     "name": "stderr",
     "output_type": "stream",
     "text": [
      "Iteration: 100%|██████████| 1001/1001 [00:23<00:00, 43.32it/s]\n",
      "Iteration:  87%|████████▋ | 874/1001 [00:20<00:03, 36.89it/s]"
     ]
    },
    {
     "name": "stdout",
     "output_type": "stream",
     "text": [
      "Evaluating...\n"
     ]
    },
    {
     "name": "stderr",
     "output_type": "stream",
     "text": [
      "Iteration: 100%|██████████| 1001/1001 [00:23<00:00, 43.23it/s]\n",
      "Iteration:  17%|█▋        | 175/1001 [00:03<00:17, 47.39it/s]"
     ]
    },
    {
     "name": "stdout",
     "output_type": "stream",
     "text": [
      "Evaluating...\n"
     ]
    },
    {
     "name": "stderr",
     "output_type": "stream",
     "text": [
      "Iteration: 100%|██████████| 1001/1001 [00:23<00:00, 43.16it/s]\n",
      "Iteration:   0%|          | 0/1001 [00:00<?, ?it/s]"
     ]
    },
    {
     "name": "stdout",
     "output_type": "stream",
     "text": [
      "Evaluating...\n"
     ]
    },
    {
     "name": "stderr",
     "output_type": "stream",
     "text": [
      "Iteration: 100%|██████████| 1001/1001 [00:23<00:00, 43.05it/s]\n",
      "Iteration:   2%|▏         | 23/1001 [00:00<00:20, 46.88it/s]]"
     ]
    },
    {
     "name": "stdout",
     "output_type": "stream",
     "text": [
      "Evaluating...\n"
     ]
    },
    {
     "name": "stderr",
     "output_type": "stream",
     "text": [
      "Iteration:  96%|█████████▌| 963/1001 [00:19<00:00, 56.56it/s]]\n",
      "Iteration:  19%|█▉        | 21/112 [00:00<00:01, 62.01it/s]s]]\n",
      "Iteration: 100%|██████████| 112/112 [00:01<00:00, 74.80it/s]s]\n",
      "Iteration:   0%|          | 4/1001 [00:00<00:26, 37.41it/s]\n",
      "Iteration:   0%|          | 0/1001 [00:00<?, ?it/s]"
     ]
    },
    {
     "name": "stdout",
     "output_type": "stream",
     "text": [
      "{'Train':  best_epoch_indx:36\n",
      " auc:0.8682062392439664 \n",
      " apur:0.48108045392297044 \n",
      " f1:0.45380789975810937 \n",
      " precision:0.31014796332234645 \n",
      " recall:0.8453916986201685 \n",
      ", 'Validation':  best_epoch_indx:36\n",
      " auc:0.8576499795699516 \n",
      " apur:0.4616083959076662 \n",
      " f1:0.4467451617268913 \n",
      " precision:0.3054219096965211 \n",
      " recall:0.8314861460957179 \n",
      "}\n",
      "=====Epoch 37\n",
      "Training...\n",
      "{'Train':  best_epoch_indx:36\n",
      " auc:0.8678392790087482 \n",
      " apur:0.4789093506828252 \n",
      " f1:0.4510512040519683 \n",
      " precision:0.30796934630692574 \n",
      " recall:0.8424529094013267 \n",
      ", 'Validation':  best_epoch_indx:36\n",
      " auc:0.8581885922758046 \n",
      " apur:0.4754692326322708 \n",
      " f1:0.4464418463202 \n",
      " precision:0.3050706566916043 \n",
      " recall:0.8319899244332494 \n",
      "}\n",
      "=====Epoch 37\n",
      "Training...\n"
     ]
    },
    {
     "name": "stderr",
     "output_type": "stream",
     "text": [
      "Iteration:   5%|▍         | 49/1001 [00:01<00:21, 44.78it/s]\n",
      "Iteration:   6%|▋         | 64/1001 [00:01<00:20, 45.16it/s]\n",
      "Iteration:  22%|██▏       | 25/112 [00:00<00:01, 47.27it/s]]\n",
      "Iteration: 100%|██████████| 112/112 [00:02<00:00, 47.77it/s]]\n",
      "Iteration:  16%|█▌        | 159/1001 [00:03<00:19, 43.22it/s]"
     ]
    },
    {
     "name": "stdout",
     "output_type": "stream",
     "text": [
      "{'Train':  best_epoch_indx:36\n",
      " auc:0.867356194550227 \n",
      " apur:0.47087920643041636 \n",
      " f1:0.4599615036757033 \n",
      " precision:0.3177405401941623 \n",
      " recall:0.8326616288832913 \n",
      ", 'Validation':  best_epoch_indx:36\n",
      " auc:0.8532462262696223 \n",
      " apur:0.4495757975139258 \n",
      " f1:0.45139228138739607 \n",
      " precision:0.3121922965537214 \n",
      " recall:0.8146095717884131 \n",
      "}\n",
      "=====Epoch 37\n",
      "Training...\n"
     ]
    },
    {
     "name": "stderr",
     "output_type": "stream",
     "text": [
      "\r",
      "Iteration:   0%|          | 4/1001 [00:00<00:28, 34.42it/s]\r",
      "Iteration:  17%|█▋        | 174/1001 [00:04<00:18, 45.23it/s]\r",
      "Iteration:  16%|█▋        | 164/1001 [00:03<00:18, 44.35it/s]\r",
      "Iteration:   1%|          | 9/1001 [00:00<00:25, 38.46it/s]\r",
      "Iteration:  18%|█▊        | 179/1001 [00:04<00:18, 45.04it/s]\n",
      "\r",
      "Iteration:   0%|          | 0/1001 [00:00<?, ?it/s]\r",
      "Iteration:  17%|█▋        | 169/1001 [00:03<00:18, 44.45it/s]"
     ]
    },
    {
     "name": "stdout",
     "output_type": "stream",
     "text": [
      "{'Train':  best_epoch_indx:36\n",
      " auc:0.8667523415092848 \n",
      " apur:0.47522602886267057 \n",
      " f1:0.45344276418709045 \n",
      " precision:0.3105847275136657 \n",
      " recall:0.8396540625262392 \n",
      ", 'Validation':  best_epoch_indx:36\n",
      " auc:0.8562493062483548 \n",
      " apur:0.456496257826492 \n",
      " f1:0.44904632152588553 \n",
      " precision:0.307749766573296 \n",
      " recall:0.8302267002518892 \n",
      "}\n",
      "=====Epoch 37\n",
      "Training...\n",
      "{'Train':  best_epoch_indx:36\n",
      " auc:0.866107061848776 \n",
      " apur:0.4762341266698691 \n",
      " f1:0.45445469856196796 \n",
      " precision:0.31224605202530054 \n",
      " recall:0.8345321727448292 \n",
      ", 'Validation':  best_epoch_indx:36\n",
      " auc:0.8581661607940385 \n",
      " apur:0.4583884954264126 \n",
      " f1:0.44832050146487695 \n",
      " precision:0.307275614084244 \n",
      " recall:0.8287153652392947 \n",
      "}\n",
      "=====Epoch 37\n",
      "Training...\n"
     ]
    },
    {
     "name": "stderr",
     "output_type": "stream",
     "text": [
      "\n",
      "Iteration: 100%|██████████| 1001/1001 [00:22<00:00, 43.88it/s]\n",
      "Iteration:  83%|████████▎ | 834/1001 [00:19<00:03, 43.88it/s]"
     ]
    },
    {
     "name": "stdout",
     "output_type": "stream",
     "text": [
      "Evaluating...\n"
     ]
    },
    {
     "name": "stderr",
     "output_type": "stream",
     "text": [
      "\r",
      "Iteration:  82%|████████▏ | 818/1001 [00:18<00:04, 42.01it/s]\r",
      "Iteration:   1%|          | 9/1001 [00:00<00:24, 41.04it/s]\r",
      "Iteration:  82%|████████▏ | 824/1001 [00:18<00:04, 44.15it/s]\r",
      "Iteration: 100%|█████████▉| 999/1001 [00:22<00:00, 43.93it/s]\r",
      "Iteration:  84%|████████▍ | 839/1001 [00:19<00:03, 43.04it/s]\r",
      "Iteration:  82%|████████▏ | 823/1001 [00:18<00:04, 43.12it/s]\r",
      "Iteration:   1%|▏         | 14/1001 [00:00<00:24, 41.08it/s]\r",
      "Iteration: 100%|██████████| 1001/1001 [00:22<00:00, 43.58it/s]\n",
      "\r",
      "Iteration:   0%|          | 0/1001 [00:00<?, ?it/s]\r",
      "Iteration:  83%|████████▎ | 829/1001 [00:18<00:03, 43.78it/s]"
     ]
    },
    {
     "name": "stdout",
     "output_type": "stream",
     "text": [
      "Evaluating...\n"
     ]
    },
    {
     "name": "stderr",
     "output_type": "stream",
     "text": [
      "Iteration: 100%|██████████| 1001/1001 [00:23<00:00, 43.41it/s]\n",
      "Iteration:   0%|          | 0/1001 [00:00<?, ?it/s]"
     ]
    },
    {
     "name": "stdout",
     "output_type": "stream",
     "text": [
      "Evaluating...\n"
     ]
    },
    {
     "name": "stderr",
     "output_type": "stream",
     "text": [
      "Iteration: 100%|██████████| 1001/1001 [00:23<00:00, 43.38it/s]\n",
      "Iteration: 100%|██████████| 1001/1001 [00:23<00:00, 43.28it/s]\n",
      "Iteration:   0%|          | 0/1001 [00:00<?, ?it/s]"
     ]
    },
    {
     "name": "stdout",
     "output_type": "stream",
     "text": [
      "Evaluating...\n",
      "Evaluating...\n"
     ]
    },
    {
     "name": "stderr",
     "output_type": "stream",
     "text": [
      "Iteration:  98%|█████████▊| 984/1001 [00:20<00:00, 59.92it/s]]\n",
      "Iteration:  12%|█▎        | 14/112 [00:00<00:01, 58.32it/s]s]\n",
      "Iteration: 100%|██████████| 112/112 [00:01<00:00, 68.71it/s]s]\n",
      "Iteration:   0%|          | 4/1001 [00:00<00:29, 33.52it/s]\n",
      "Iteration:   0%|          | 0/1001 [00:00<?, ?it/s]"
     ]
    },
    {
     "name": "stdout",
     "output_type": "stream",
     "text": [
      "{'Train':  best_epoch_indx:37\n",
      " auc:0.8707268070601286 \n",
      " apur:0.48517168395150184 \n",
      " f1:0.4582988198281038 \n",
      " precision:0.3145563414074399 \n",
      " recall:0.8439642867138739 \n",
      ", 'Validation':  best_epoch_indx:37\n",
      " auc:0.8610599119420769 \n",
      " apur:0.4678357711925556 \n",
      " f1:0.45231233703856194 \n",
      " precision:0.3108261033572237 \n",
      " recall:0.8302267002518892 \n",
      "}\n",
      "=====Epoch 38\n",
      "Training...\n",
      "{'Train':  best_epoch_indx:37\n",
      " auc:0.872708398722132 \n",
      " apur:0.48934251331774314 \n",
      " f1:0.45851399066023774 \n",
      " precision:0.3146114248796449 \n",
      " recall:0.8450278485264071 \n",
      ", 'Validation':  best_epoch_indx:37\n",
      " auc:0.8601405683333478 \n",
      " apur:0.4821022515015688 \n",
      " f1:0.45 \n",
      " precision:0.3090310442144873 \n",
      " recall:0.827455919395466 \n",
      "}\n",
      "=====Epoch 38\n",
      "Training...\n"
     ]
    },
    {
     "name": "stderr",
     "output_type": "stream",
     "text": [
      "Iteration:   1%|▏         | 14/1001 [00:00<00:24, 40.52it/s]\n",
      "Iteration:  16%|█▌        | 18/112 [00:00<00:01, 53.46it/s]]\n",
      "Iteration:  32%|███▏      | 36/112 [00:00<00:01, 52.73it/s]]\n",
      "Iteration:  14%|█▍        | 139/1001 [00:03<00:19, 43.79it/s]\n",
      "Iteration:   0%|          | 0/1001 [00:00<?, ?it/s]"
     ]
    },
    {
     "name": "stdout",
     "output_type": "stream",
     "text": [
      "{'Train':  best_epoch_indx:37\n",
      " auc:0.8714921519182253 \n",
      " apur:0.48667466564130885 \n",
      " f1:0.458909744652325 \n",
      " precision:0.31526119129606567 \n",
      " recall:0.843040667245095 \n",
      ", 'Validation':  best_epoch_indx:37\n",
      " auc:0.859012222800414 \n",
      " apur:0.46150167584183016 \n",
      " f1:0.45082585155232685 \n",
      " precision:0.30966952264381886 \n",
      " recall:0.828463476070529 \n",
      "}\n",
      "=====Epoch 38\n",
      "Training...\n"
     ]
    },
    {
     "name": "stderr",
     "output_type": "stream",
     "text": [
      "\r",
      "Iteration:  15%|█▍        | 149/1001 [00:03<00:19, 44.69it/s]\r",
      "Iteration:  14%|█▍        | 144/1001 [00:03<00:19, 43.88it/s]\r",
      "Iteration:   0%|          | 4/1001 [00:00<00:29, 34.28it/s]\r",
      "Iteration:  15%|█▌        | 154/1001 [00:03<00:18, 44.84it/s]\r",
      "Iteration:  15%|█▍        | 149/1001 [00:03<00:19, 44.55it/s]\n",
      "\r",
      "Iteration:   0%|          | 0/1001 [00:00<?, ?it/s]\r",
      "Iteration:   1%|          | 9/1001 [00:00<00:25, 38.33it/s]"
     ]
    },
    {
     "name": "stdout",
     "output_type": "stream",
     "text": [
      "{'Train':  best_epoch_indx:37\n",
      " auc:0.8702186078034315 \n",
      " apur:0.48207601505789266 \n",
      " f1:0.4651631281575096 \n",
      " precision:0.3235538818583877 \n",
      " recall:0.8272040302267003 \n",
      ", 'Validation':  best_epoch_indx:37\n",
      " auc:0.8556885063470293 \n",
      " apur:0.45751659617174145 \n",
      " f1:0.45674985819625635 \n",
      " precision:0.3178409315176633 \n",
      " recall:0.8113350125944584 \n",
      "}\n",
      "=====Epoch 38\n",
      "Training...\n",
      "{'Train':  best_epoch_indx:37\n",
      " auc:0.8703845525549705 \n",
      " apur:0.48268777923994977 \n",
      " f1:0.46094734385937625 \n",
      " precision:0.3191693325147295 \n",
      " recall:0.8293543060259173 \n",
      ", 'Validation':  best_epoch_indx:37\n",
      " auc:0.8608567514602963 \n",
      " apur:0.45922492853106883 \n",
      " f1:0.45563247325361866 \n",
      " precision:0.31536153324944344 \n",
      " recall:0.8206549118387909 \n",
      "}\n",
      "=====Epoch 38\n",
      "Training...\n"
     ]
    },
    {
     "name": "stderr",
     "output_type": "stream",
     "text": [
      "Iteration:  16%|█▌        | 159/1001 [00:03<00:18, 44.94it/s]\n",
      "Iteration: 100%|██████████| 1001/1001 [00:22<00:00, 43.59it/s]\n",
      "Iteration:  84%|████████▍ | 844/1001 [00:19<00:03, 44.11it/s]"
     ]
    },
    {
     "name": "stdout",
     "output_type": "stream",
     "text": [
      "Evaluating...\n"
     ]
    },
    {
     "name": "stderr",
     "output_type": "stream",
     "text": [
      "\r",
      "Iteration:  84%|████████▍ | 844/1001 [00:19<00:03, 44.96it/s]\r",
      "Iteration: 100%|█████████▉| 999/1001 [00:22<00:00, 44.26it/s]\r",
      "Iteration:  86%|████████▌ | 859/1001 [00:19<00:03, 44.27it/s]\r",
      "Iteration:   1%|          | 10/1001 [00:00<00:21, 46.70it/s]\r",
      "Iteration:  85%|████████▍ | 849/1001 [00:19<00:03, 44.07it/s]\r",
      "Iteration: 100%|██████████| 1001/1001 [00:23<00:00, 43.44it/s]\n",
      "\r",
      "Iteration:   0%|          | 0/1001 [00:00<?, ?it/s]\r",
      "Iteration:  85%|████████▍ | 849/1001 [00:19<00:03, 44.98it/s]\r",
      "Iteration:  86%|████████▋ | 864/1001 [00:19<00:03, 44.41it/s]\r",
      "Iteration:   1%|▏         | 15/1001 [00:00<00:20, 47.49it/s]\r",
      "Iteration:  85%|████████▌ | 854/1001 [00:19<00:03, 43.99it/s]\r",
      "Iteration:   0%|          | 4/1001 [00:00<00:26, 38.11it/s]"
     ]
    },
    {
     "name": "stdout",
     "output_type": "stream",
     "text": [
      "Evaluating...\n"
     ]
    },
    {
     "name": "stderr",
     "output_type": "stream",
     "text": [
      "Iteration: 100%|██████████| 1001/1001 [00:23<00:00, 43.50it/s]\n",
      "Iteration:  99%|█████████▉| 994/1001 [00:22<00:00, 43.93it/s]"
     ]
    },
    {
     "name": "stdout",
     "output_type": "stream",
     "text": [
      "Evaluating...\n"
     ]
    },
    {
     "name": "stderr",
     "output_type": "stream",
     "text": [
      "\r",
      "Iteration:  18%|█▊        | 183/1001 [00:03<00:17, 47.25it/s]\r",
      "Iteration:   1%|          | 9/1001 [00:00<00:23, 41.41it/s]\r",
      "Iteration: 100%|██████████| 1001/1001 [00:23<00:00, 43.52it/s]\n",
      "\r",
      "Iteration:   0%|          | 0/1001 [00:00<?, ?it/s]\r",
      "Iteration:  17%|█▋        | 171/1001 [00:03<00:17, 46.51it/s]\r",
      "Iteration: 100%|█████████▉| 999/1001 [00:22<00:00, 44.48it/s]\r",
      "Iteration: 100%|██████████| 1001/1001 [00:23<00:00, 43.46it/s]\n",
      "\r",
      "Iteration:   0%|          | 0/1001 [00:00<?, ?it/s]\r",
      "Iteration:   0%|          | 5/1001 [00:00<00:23, 41.97it/s]\r",
      "Iteration:   1%|▏         | 15/1001 [00:00<00:21, 44.94it/s]\r",
      "Iteration:  18%|█▊        | 177/1001 [00:03<00:16, 48.48it/s]"
     ]
    },
    {
     "name": "stdout",
     "output_type": "stream",
     "text": [
      "Evaluating...\n",
      "Evaluating...\n"
     ]
    },
    {
     "name": "stderr",
     "output_type": "stream",
     "text": [
      "Iteration:  98%|█████████▊| 985/1001 [00:20<00:00, 62.07it/s]]\n",
      "Iteration:  14%|█▍        | 16/112 [00:00<00:01, 74.46it/s]/s]\n",
      "Iteration: 100%|██████████| 112/112 [00:01<00:00, 72.28it/s]"
     ]
    },
    {
     "name": "stdout",
     "output_type": "stream",
     "text": [
      "{'Train':  best_epoch_indx:38\n",
      " auc:0.8763343094045706 \n",
      " apur:0.5017297284299059 \n",
      " f1:0.462736543433989 \n",
      " precision:0.31803979953448386 \n",
      " recall:0.8490022110890313 \n",
      ", 'Validation':  best_epoch_indx:38\n",
      " auc:0.8638727057552735 \n",
      " apur:0.4739191361100816 \n",
      " f1:0.4519595013430677 \n",
      " precision:0.311024741681676 \n",
      " recall:0.826448362720403 \n",
      "}\n",
      "=====Epoch 39\n",
      "Training...\n"
     ]
    },
    {
     "name": "stderr",
     "output_type": "stream",
     "text": [
      "\n",
      "Iteration:   1%|          | 9/1001 [00:00<00:24, 39.75it/s]\n",
      "Iteration:   0%|          | 4/1001 [00:00<00:27, 36.55it/s]]\n",
      "Iteration:   0%|          | 0/112 [00:00<?, ?it/s]"
     ]
    },
    {
     "name": "stdout",
     "output_type": "stream",
     "text": [
      "{'Train':  best_epoch_indx:38\n",
      " auc:0.8760028924790701 \n",
      " apur:0.4999510169076668 \n",
      " f1:0.46407085949658167 \n",
      " precision:0.3207710750524468 \n",
      " recall:0.8387864199949621 \n",
      ", 'Validation':  best_epoch_indx:38\n",
      " auc:0.8634351847177237 \n",
      " apur:0.49212376737419994 \n",
      " f1:0.45478649176667596 \n",
      " precision:0.3145145724763559 \n",
      " recall:0.8209068010075566 \n",
      "}\n",
      "=====Epoch 39\n",
      "Training...\n"
     ]
    },
    {
     "name": "stderr",
     "output_type": "stream",
     "text": [
      "Iteration:   2%|▏         | 19/1001 [00:00<00:23, 41.95it/s]\n",
      "Iteration:  11%|█         | 12/112 [00:00<00:01, 50.65it/s]]\n",
      "Iteration:  15%|█▌        | 154/1001 [00:03<00:19, 44.02it/s]\n",
      "Iteration:  14%|█▍        | 143/1001 [00:03<00:19, 43.73it/s]"
     ]
    },
    {
     "name": "stdout",
     "output_type": "stream",
     "text": [
      "{'Train':  best_epoch_indx:38\n",
      " auc:0.8756269072377327 \n",
      " apur:0.4987689435155537 \n",
      " f1:0.4611083879664236 \n",
      " precision:0.31741496024800187 \n",
      " recall:0.8425132941505737 \n",
      ", 'Validation':  best_epoch_indx:38\n",
      " auc:0.8607725455463223 \n",
      " apur:0.46904294768528365 \n",
      " f1:0.45409892770667587 \n",
      " precision:0.31301859799713877 \n",
      " recall:0.8267002518891687 \n",
      "}\n",
      "=====Epoch 39\n",
      "Training...\n",
      "{'Train':  best_epoch_indx:38\n",
      " auc:0.8764882589939793 \n",
      " apur:0.5026528345179798 \n",
      " f1:0.46877326364140326 \n",
      " precision:0.32687953523817936 \n",
      " recall:0.8283467211508858 \n",
      ", 'Validation':  best_epoch_indx:38\n",
      " auc:0.8632057227449995 \n",
      " apur:0.4768661916702238 \n",
      " f1:0.46211959233126654 \n",
      " precision:0.3222343703409204 \n",
      " recall:0.816624685138539 \n",
      "}\n",
      "=====Epoch 39\n",
      "Training...\n"
     ]
    },
    {
     "name": "stderr",
     "output_type": "stream",
     "text": [
      "Iteration:  16%|█▌        | 159/1001 [00:03<00:19, 43.55it/s]\n",
      "Iteration:  17%|█▋        | 169/1001 [00:03<00:19, 43.63it/s]\n",
      "Iteration:   0%|          | 4/1001 [00:00<00:29, 33.55it/s]s]"
     ]
    },
    {
     "name": "stdout",
     "output_type": "stream",
     "text": [
      "{'Train':  best_epoch_indx:38\n",
      " auc:0.8738126406968725 \n",
      " apur:0.49796562236646225 \n",
      " f1:0.4628222229115612 \n",
      " precision:0.32010641607397633 \n",
      " recall:0.8351759075260993 \n",
      ", 'Validation':  best_epoch_indx:38\n",
      " auc:0.864941076860268 \n",
      " apur:0.4813607271694098 \n",
      " f1:0.4574379012001116 \n",
      " precision:0.31634819532908703 \n",
      " recall:0.8256926952141058 \n",
      "}\n",
      "=====Epoch 39\n",
      "Training...\n"
     ]
    },
    {
     "name": "stderr",
     "output_type": "stream",
     "text": [
      "Iteration: 100%|██████████| 1001/1001 [00:22<00:00, 43.69it/s]\n",
      "Iteration:  83%|████████▎ | 828/1001 [00:18<00:03, 43.69it/s]"
     ]
    },
    {
     "name": "stdout",
     "output_type": "stream",
     "text": [
      "Evaluating...\n"
     ]
    },
    {
     "name": "stderr",
     "output_type": "stream",
     "text": [
      "Iteration: 100%|██████████| 1001/1001 [00:22<00:00, 43.59it/s]\n",
      "Iteration:  85%|████████▍ | 848/1001 [00:19<00:03, 42.48it/s]"
     ]
    },
    {
     "name": "stdout",
     "output_type": "stream",
     "text": [
      "Evaluating...\n"
     ]
    },
    {
     "name": "stderr",
     "output_type": "stream",
     "text": [
      "Iteration: 100%|██████████| 1001/1001 [00:22<00:00, 43.60it/s]\n",
      "Iteration: 100%|██████████| 1001/1001 [00:23<00:00, 43.47it/s]"
     ]
    },
    {
     "name": "stdout",
     "output_type": "stream",
     "text": [
      "Evaluating...\n",
      "Evaluating...\n"
     ]
    },
    {
     "name": "stderr",
     "output_type": "stream",
     "text": [
      "\n",
      "Iteration: 100%|██████████| 1001/1001 [00:23<00:00, 43.49it/s]\n",
      "Iteration:   3%|▎         | 29/1001 [00:00<00:20, 48.33it/s]]"
     ]
    },
    {
     "name": "stdout",
     "output_type": "stream",
     "text": [
      "Evaluating...\n"
     ]
    },
    {
     "name": "stderr",
     "output_type": "stream",
     "text": [
      "Iteration:  98%|█████████▊| 984/1001 [00:20<00:00, 56.51it/s]]\n",
      "Iteration:  21%|██        | 23/112 [00:00<00:01, 69.78it/s]/s]\n",
      "Iteration: 100%|██████████| 112/112 [00:01<00:00, 74.31it/s]"
     ]
    },
    {
     "name": "stdout",
     "output_type": "stream",
     "text": [
      "{'Train':  best_epoch_indx:39\n",
      " auc:0.8805670295380317 \n",
      " apur:0.5169219762174825 \n",
      " f1:0.46794534944823957 \n",
      " precision:0.32321323725647183 \n",
      " recall:0.8474068683702315 \n",
      ", 'Validation':  best_epoch_indx:39\n",
      " auc:0.8675515416222274 \n",
      " apur:0.48962851430975934 \n",
      " f1:0.45664135961551855 \n",
      " precision:0.3155867911812843 \n",
      " recall:0.8256926952141058 \n",
      "}\n",
      "=====Epoch 40\n",
      "Training...\n"
     ]
    },
    {
     "name": "stderr",
     "output_type": "stream",
     "text": [
      "\n",
      "\r",
      "Iteration:   0%|          | 0/1001 [00:00<?, ?it/s]\r",
      "Iteration:   0%|          | 4/1001 [00:00<00:27, 35.92it/s]"
     ]
    },
    {
     "name": "stdout",
     "output_type": "stream",
     "text": [
      "{'Train':  best_epoch_indx:39\n",
      " auc:0.8804981255046376 \n",
      " apur:0.5118275186919258 \n",
      " f1:0.4678526599618787 \n",
      " precision:0.3234761552719831 \n",
      " recall:0.8449998600576563 \n",
      ", 'Validation':  best_epoch_indx:39\n",
      " auc:0.8669172415466013 \n",
      " apur:0.5019794251036669 \n",
      " f1:0.4580654179480012 \n",
      " precision:0.3169858773457148 \n",
      " recall:0.8254408060453401 \n",
      "}\n",
      "=====Epoch 40\n",
      "Training...\n"
     ]
    },
    {
     "name": "stderr",
     "output_type": "stream",
     "text": [
      "\n",
      "Iteration:   1%|          | 9/1001 [00:00<00:25, 38.66it/s]\n",
      "Iteration:   2%|▏         | 24/1001 [00:00<00:23, 41.47it/s]\n",
      "Iteration:   0%|          | 0/112 [00:00<?, ?it/s]\n",
      "Iteration:  14%|█▍        | 139/1001 [00:03<00:19, 43.61it/s]\n",
      "Iteration:  15%|█▍        | 149/1001 [00:03<00:19, 44.30it/s]"
     ]
    },
    {
     "name": "stdout",
     "output_type": "stream",
     "text": [
      "{'Train':  best_epoch_indx:39\n",
      " auc:0.8787423820611667 \n",
      " apur:0.5059847427359423 \n",
      " f1:0.46930022925406645 \n",
      " precision:0.32527672085783466 \n",
      " recall:0.8422054296109712 \n",
      ", 'Validation':  best_epoch_indx:39\n",
      " auc:0.8624835096037514 \n",
      " apur:0.47438559802338254 \n",
      " f1:0.45960983167828723 \n",
      " precision:0.31899501417538373 \n",
      " recall:0.8219143576826197 \n",
      "}\n",
      "=====Epoch 40\n",
      "Training...\n"
     ]
    },
    {
     "name": "stderr",
     "output_type": "stream",
     "text": [
      "Iteration:  15%|█▌        | 154/1001 [00:03<00:19, 42.53it/s]\n",
      "Iteration:   1%|▏         | 14/1001 [00:00<00:24, 40.33it/s]]\n",
      "Iteration:   0%|          | 4/1001 [00:00<00:30, 33.00it/s]]]"
     ]
    },
    {
     "name": "stdout",
     "output_type": "stream",
     "text": [
      "{'Train':  best_epoch_indx:39\n",
      " auc:0.8795550819118181 \n",
      " apur:0.5127907745413443 \n",
      " f1:0.46967433522557517 \n",
      " precision:0.32657970412324916 \n",
      " recall:0.8359595846511237 \n",
      ", 'Validation':  best_epoch_indx:39\n",
      " auc:0.8652388661378825 \n",
      " apur:0.4853852486716435 \n",
      " f1:0.462290206076057 \n",
      " precision:0.3215446754014383 \n",
      " recall:0.8221662468513854 \n",
      "}\n",
      "=====Epoch 40\n",
      "Training...\n",
      "{'Train':  best_epoch_indx:39\n",
      " auc:0.877918826851988 \n",
      " apur:0.5073802944435218 \n",
      " f1:0.4654616633395733 \n",
      " precision:0.32213047778781234 \n",
      " recall:0.838590500713706 \n",
      ", 'Validation':  best_epoch_indx:39\n",
      " auc:0.8683270906042434 \n",
      " apur:0.487040650909066 \n",
      " f1:0.46073371460454743 \n",
      " precision:0.3185763888888889 \n",
      " recall:0.8319899244332494 \n",
      "}\n",
      "=====Epoch 40\n",
      "Training...\n"
     ]
    },
    {
     "name": "stderr",
     "output_type": "stream",
     "text": [
      "Iteration: 100%|██████████| 1001/1001 [00:22<00:00, 43.81it/s]\n",
      "Iteration:   0%|          | 5/1001 [00:00<00:22, 43.68it/s]s]"
     ]
    },
    {
     "name": "stdout",
     "output_type": "stream",
     "text": [
      "Evaluating...\n"
     ]
    },
    {
     "name": "stderr",
     "output_type": "stream",
     "text": [
      "\r",
      "Iteration:  83%|████████▎ | 834/1001 [00:19<00:03, 44.70it/s]\r",
      "Iteration:  85%|████████▍ | 849/1001 [00:19<00:03, 45.13it/s]\r",
      "Iteration:  83%|████████▎ | 834/1001 [00:19<00:03, 44.54it/s]\r",
      "Iteration: 100%|█████████▉| 999/1001 [00:22<00:00, 44.69it/s]\r",
      "Iteration:   1%|          | 11/1001 [00:00<00:20, 48.56it/s]\r",
      "Iteration:  84%|████████▍ | 839/1001 [00:19<00:03, 44.66it/s]\r",
      "Iteration:  85%|████████▌ | 854/1001 [00:19<00:03, 45.14it/s]\r",
      "Iteration: 100%|██████████| 1001/1001 [00:22<00:00, 43.70it/s]\n",
      "\r",
      "Iteration:   0%|          | 0/1001 [00:00<?, ?it/s]\r",
      "Iteration:  84%|████████▍ | 839/1001 [00:19<00:03, 44.65it/s]"
     ]
    },
    {
     "name": "stdout",
     "output_type": "stream",
     "text": [
      "Evaluating...\n"
     ]
    },
    {
     "name": "stderr",
     "output_type": "stream",
     "text": [
      "Iteration: 100%|██████████| 1001/1001 [00:23<00:00, 43.52it/s]\n",
      "Iteration:  98%|█████████▊| 984/1001 [00:22<00:00, 44.44it/s]"
     ]
    },
    {
     "name": "stdout",
     "output_type": "stream",
     "text": [
      "Evaluating...\n"
     ]
    },
    {
     "name": "stderr",
     "output_type": "stream",
     "text": [
      "Iteration: 100%|██████████| 1001/1001 [00:23<00:00, 43.51it/s]\n",
      "Iteration: 100%|██████████| 1001/1001 [00:23<00:00, 43.44it/s]\n",
      "Iteration:   2%|▏         | 23/1001 [00:00<00:20, 48.09it/s]]"
     ]
    },
    {
     "name": "stdout",
     "output_type": "stream",
     "text": [
      "Evaluating...\n",
      "Evaluating...\n"
     ]
    },
    {
     "name": "stderr",
     "output_type": "stream",
     "text": [
      "Iteration:  99%|█████████▉| 989/1001 [00:20<00:00, 66.32it/s]]\n",
      "Iteration:   0%|          | 0/112 [00:00<?, ?it/s]\n",
      "Iteration: 100%|██████████| 112/112 [00:01<00:00, 74.21it/s]s]\n",
      "Iteration:   0%|          | 0/1001 [00:00<?, ?it/s]\n",
      "Iteration:   0%|          | 4/1001 [00:00<00:26, 37.75it/s]"
     ]
    },
    {
     "name": "stdout",
     "output_type": "stream",
     "text": [
      "{'Train':  best_epoch_indx:40\n",
      " auc:0.8797962085532911 \n",
      " apur:0.5094558682409464 \n",
      " f1:0.46820831804949625 \n",
      " precision:0.3246250081167074 \n",
      " recall:0.8395421086512357 \n",
      ", 'Validation':  best_epoch_indx:40\n",
      " auc:0.86607616383776 \n",
      " apur:0.4967729197254524 \n",
      " f1:0.4604225352112677 \n",
      " precision:0.3195503421309873 \n",
      " recall:0.8234256926952142 \n",
      "}\n",
      "=====Epoch 41\n",
      "Training...\n",
      "{'Train':  best_epoch_indx:40\n",
      " auc:0.8791025157855246 \n",
      " apur:0.5098122682583588 \n",
      " f1:0.45703194452675877 \n",
      " precision:0.31077527580474534 \n",
      " recall:0.8633323070894792 \n",
      ", 'Validation':  best_epoch_indx:40\n",
      " auc:0.8648170779947849 \n",
      " apur:0.4804942562999419 \n",
      " f1:0.44685263228309585 \n",
      " precision:0.3042171418161946 \n",
      " recall:0.8413098236775819 \n",
      "}\n",
      "=====Epoch 41\n",
      "Training...\n"
     ]
    },
    {
     "name": "stderr",
     "output_type": "stream",
     "text": [
      "Iteration:   4%|▍         | 39/1001 [00:00<00:22, 43.46it/s]\n",
      "Iteration:   6%|▌         | 58/1001 [00:01<00:21, 44.02it/s]\n",
      "Iteration:   6%|▌         | 59/1001 [00:01<00:21, 44.74it/s]\n",
      "Iteration:  97%|█████████▋| 109/112 [00:02<00:00, 49.97it/s]]\n",
      "Iteration:  16%|█▌        | 159/1001 [00:03<00:19, 43.03it/s]"
     ]
    },
    {
     "name": "stdout",
     "output_type": "stream",
     "text": [
      "{'Train':  best_epoch_indx:40\n",
      " auc:0.8773619119835883 \n",
      " apur:0.5013747041186422 \n",
      " f1:0.46799934381664365 \n",
      " precision:0.32459933032086086 \n",
      " recall:0.8383711167086482 \n",
      ", 'Validation':  best_epoch_indx:40\n",
      " auc:0.8603935075046035 \n",
      " apur:0.4651106678567626 \n",
      " f1:0.4586677932685537 \n",
      " precision:0.3183150899139953 \n",
      " recall:0.8204030226700252 \n",
      "}\n",
      "=====Epoch 41\n",
      "Training...\n"
     ]
    },
    {
     "name": "stderr",
     "output_type": "stream",
     "text": [
      "\r",
      "Iteration:  16%|█▋        | 163/1001 [00:03<00:18, 44.42it/s]\r",
      "Iteration:  16%|█▋        | 164/1001 [00:03<00:19, 43.86it/s]\r",
      "Iteration:   1%|          | 9/1001 [00:00<00:25, 38.42it/s]\r",
      "Iteration:  17%|█▋        | 168/1001 [00:03<00:18, 44.44it/s]\r",
      "Iteration:  17%|█▋        | 169/1001 [00:04<00:18, 44.28it/s]\r",
      "Iteration:   1%|▏         | 14/1001 [00:00<00:24, 40.17it/s]"
     ]
    },
    {
     "name": "stdout",
     "output_type": "stream",
     "text": [
      "{'Train':  best_epoch_indx:40\n",
      " auc:0.8787522234048888 \n",
      " apur:0.5075979023113565 \n",
      " f1:0.4627322105070975 \n",
      " precision:0.31772264298772523 \n",
      " recall:0.8512412885891013 \n",
      ", 'Validation':  best_epoch_indx:40\n",
      " auc:0.8638099541778913 \n",
      " apur:0.4780841885581531 \n",
      " f1:0.4527656078860898 \n",
      " precision:0.3108667042677195 \n",
      " recall:0.8329974811083123 \n",
      "}\n",
      "=====Epoch 41\n",
      "Training...\n",
      "{'Train':  best_epoch_indx:40\n",
      " auc:0.87724077275595 \n",
      " apur:0.5037586202056397 \n",
      " f1:0.47151550642177154 \n",
      " precision:0.3286921600211832 \n",
      " recall:0.8338324610260572 \n",
      ", 'Validation':  best_epoch_indx:40\n",
      " auc:0.8660934481644629 \n",
      " apur:0.4797719631717047 \n",
      " f1:0.46175617349465786 \n",
      " precision:0.3210666141887238 \n",
      " recall:0.8219143576826197 \n",
      "}\n",
      "=====Epoch 41\n",
      "Training...\n"
     ]
    },
    {
     "name": "stderr",
     "output_type": "stream",
     "text": [
      "\n",
      "Iteration:   0%|          | 0/1001 [00:00<?, ?it/s]\n",
      "Iteration: 100%|██████████| 1001/1001 [00:22<00:00, 43.79it/s]\n",
      "Iteration:  82%|████████▏ | 824/1001 [00:18<00:03, 44.25it/s]]\n",
      "Iteration:   0%|          | 4/1001 [00:00<00:25, 39.30it/s]"
     ]
    },
    {
     "name": "stdout",
     "output_type": "stream",
     "text": [
      "Evaluating...\n",
      "Evaluating...\n"
     ]
    },
    {
     "name": "stderr",
     "output_type": "stream",
     "text": [
      "Iteration: 100%|██████████| 1001/1001 [00:22<00:00, 43.71it/s]\n",
      "Iteration:   0%|          | 0/1001 [00:00<?, ?it/s]"
     ]
    },
    {
     "name": "stdout",
     "output_type": "stream",
     "text": [
      "Evaluating...\n"
     ]
    },
    {
     "name": "stderr",
     "output_type": "stream",
     "text": [
      "Iteration:  21%|██        | 206/1001 [00:04<00:16, 47.64it/s]]\n",
      "Iteration: 100%|██████████| 1001/1001 [00:23<00:00, 43.42it/s]\n",
      "Iteration:   0%|          | 4/1001 [00:00<00:26, 37.53it/s]s]"
     ]
    },
    {
     "name": "stdout",
     "output_type": "stream",
     "text": [
      "Evaluating...\n",
      "Evaluating...\n"
     ]
    },
    {
     "name": "stderr",
     "output_type": "stream",
     "text": [
      "Iteration:  95%|█████████▍| 950/1001 [00:19<00:00, 56.88it/s]]\n",
      "Iteration:  99%|█████████▉| 995/1001 [00:20<00:00, 53.87it/s]\n",
      "Iteration: 100%|██████████| 112/112 [00:01<00:00, 67.21it/s]s]\n",
      "Iteration:   0%|          | 4/1001 [00:00<00:29, 33.75it/s]\n",
      "Iteration:   0%|          | 0/1001 [00:00<?, ?it/s]"
     ]
    },
    {
     "name": "stdout",
     "output_type": "stream",
     "text": [
      "{'Train':  best_epoch_indx:41\n",
      " auc:0.8774213349297931 \n",
      " apur:0.5032148238001483 \n",
      " f1:0.47040752500019795 \n",
      " precision:0.3279894004637297 \n",
      " recall:0.831425452713482 \n",
      ", 'Validation':  best_epoch_indx:41\n",
      " auc:0.8641137134696634 \n",
      " apur:0.47285436101203193 \n",
      " f1:0.46201129297405474 \n",
      " precision:0.32252270232511726 \n",
      " recall:0.8141057934508816 \n",
      "}\n",
      "=====Epoch 42\n",
      "Training...\n",
      "{'Train':  best_epoch_indx:41\n",
      " auc:0.8779670884821517 \n",
      " apur:0.5042758559616408 \n",
      " f1:0.4623509239855211 \n",
      " precision:0.317667755717517 \n",
      " recall:0.8490581880265331 \n",
      ", 'Validation':  best_epoch_indx:41\n",
      " auc:0.8633102558500354 \n",
      " apur:0.4894170354798456 \n",
      " f1:0.45259896729776256 \n",
      " precision:0.3114163903363335 \n",
      " recall:0.8279596977329975 \n",
      "}\n",
      "=====Epoch 42\n",
      "Training...\n"
     ]
    },
    {
     "name": "stderr",
     "output_type": "stream",
     "text": [
      "Iteration:   5%|▍         | 49/1001 [00:01<00:21, 44.16it/s]\n",
      "Iteration:   8%|▊         | 79/1001 [00:01<00:20, 45.24it/s]\n",
      "Iteration:   7%|▋         | 74/1001 [00:01<00:20, 44.18it/s]\n",
      "Iteration:  88%|████████▊ | 98/112 [00:01<00:00, 53.32it/s]s]\n",
      "Iteration:  93%|█████████▎| 104/112 [00:02<00:00, 52.56it/s]]"
     ]
    },
    {
     "name": "stdout",
     "output_type": "stream",
     "text": [
      "{'Train':  best_epoch_indx:41\n",
      " auc:0.8762387909586571 \n",
      " apur:0.49722283958572433 \n",
      " f1:0.4746613065326634 \n",
      " precision:0.3329911444525918 \n",
      " recall:0.8261404981808005 \n",
      ", 'Validation':  best_epoch_indx:41\n",
      " auc:0.8609030544272435 \n",
      " apur:0.46862033573808337 \n",
      " f1:0.46717866975800604 \n",
      " precision:0.3279088689991863 \n",
      " recall:0.8120906801007557 \n",
      "}\n",
      "=====Epoch 42\n",
      "Training...\n"
     ]
    },
    {
     "name": "stderr",
     "output_type": "stream",
     "text": [
      "Iteration:  19%|█▉        | 189/1001 [00:04<00:17, 45.43it/s]\n",
      "Iteration:   0%|          | 0/1001 [00:00<?, ?it/s]\n",
      "Iteration:   0%|          | 0/1001 [00:00<?, ?it/s]"
     ]
    },
    {
     "name": "stdout",
     "output_type": "stream",
     "text": [
      "{'Train':  best_epoch_indx:41\n",
      " auc:0.8760846818996236 \n",
      " apur:0.4987211404243615 \n",
      " f1:0.47038699000700146 \n",
      " precision:0.3286052535043742 \n",
      " recall:0.8273671247446053 \n",
      ", 'Validation':  best_epoch_indx:41\n",
      " auc:0.8635504535625042 \n",
      " apur:0.4794179935545856 \n",
      " f1:0.4631714838987306 \n",
      " precision:0.3237741903138474 \n",
      " recall:0.8133501259445843 \n",
      "}\n",
      "=====Epoch 42\n",
      "Training...\n",
      "{'Train':  best_epoch_indx:41\n",
      " auc:0.8753088306565064 \n",
      " apur:0.5008344594708065 \n",
      " f1:0.4624859250407887 \n",
      " precision:0.3183754824829681 \n",
      " recall:0.8449438831201544 \n",
      ", 'Validation':  best_epoch_indx:41\n",
      " auc:0.8647585735703316 \n",
      " apur:0.47928700983689254 \n",
      " f1:0.45433931148216866 \n",
      " precision:0.3123877917414722 \n",
      " recall:0.8327455919395466 \n",
      "}\n",
      "=====Epoch 42\n",
      "Training...\n"
     ]
    },
    {
     "name": "stderr",
     "output_type": "stream",
     "text": [
      "Iteration: 100%|██████████| 1001/1001 [00:22<00:00, 43.84it/s]\n",
      "Iteration:   0%|          | 0/1001 [00:00<?, ?it/s]"
     ]
    },
    {
     "name": "stdout",
     "output_type": "stream",
     "text": [
      "Evaluating...\n"
     ]
    },
    {
     "name": "stderr",
     "output_type": "stream",
     "text": [
      "\r",
      "Iteration:  99%|█████████▉| 994/1001 [00:22<00:00, 44.46it/s]\r",
      "Iteration:  81%|████████  | 809/1001 [00:18<00:04, 44.27it/s]\r",
      "Iteration:  83%|████████▎ | 834/1001 [00:19<00:03, 44.93it/s]\r",
      "Iteration:   0%|          | 4/1001 [00:00<00:27, 36.71it/s]\r",
      "Iteration:  80%|████████  | 804/1001 [00:18<00:04, 44.61it/s]\r",
      "Iteration: 100%|█████████▉| 999/1001 [00:22<00:00, 44.60it/s]\r",
      "Iteration:  81%|████████▏ | 814/1001 [00:18<00:04, 44.71it/s]\r",
      "Iteration:   1%|          | 10/1001 [00:00<00:21, 46.54it/s]\r",
      "Iteration:  84%|████████▍ | 839/1001 [00:19<00:03, 44.41it/s]\r",
      "Iteration:  81%|████████  | 809/1001 [00:18<00:04, 44.33it/s]\r",
      "Iteration: 100%|██████████| 1001/1001 [00:22<00:00, 43.64it/s]\n",
      "\r",
      "Iteration:   0%|          | 0/1001 [00:00<?, ?it/s]"
     ]
    },
    {
     "name": "stdout",
     "output_type": "stream",
     "text": [
      "Evaluating...\n"
     ]
    },
    {
     "name": "stderr",
     "output_type": "stream",
     "text": [
      "Iteration: 100%|██████████| 1001/1001 [00:22<00:00, 43.53it/s]\n",
      "Iteration:  20%|██        | 202/1001 [00:04<00:17, 44.41it/s]"
     ]
    },
    {
     "name": "stdout",
     "output_type": "stream",
     "text": [
      "Evaluating...\n"
     ]
    },
    {
     "name": "stderr",
     "output_type": "stream",
     "text": [
      "Iteration: 100%|██████████| 1001/1001 [00:23<00:00, 43.46it/s]\n",
      "Iteration: 100%|██████████| 1001/1001 [00:23<00:00, 43.25it/s]\n",
      "Iteration:  23%|██▎       | 235/1001 [00:04<00:15, 50.48it/s]"
     ]
    },
    {
     "name": "stdout",
     "output_type": "stream",
     "text": [
      "Evaluating...\n",
      "Evaluating...\n"
     ]
    },
    {
     "name": "stderr",
     "output_type": "stream",
     "text": [
      "Iteration:  99%|█████████▉| 992/1001 [00:20<00:00, 60.36it/s]]\n",
      "Iteration:   5%|▌         | 6/112 [00:00<00:01, 54.01it/s]/s]\n",
      "Iteration: 100%|██████████| 112/112 [00:01<00:00, 67.36it/s]s]"
     ]
    },
    {
     "name": "stdout",
     "output_type": "stream",
     "text": [
      "{'Train':  best_epoch_indx:42\n",
      " auc:0.8736601803183537 \n",
      " apur:0.4925917481983206 \n",
      " f1:0.45582848685095756 \n",
      " precision:0.31096945280228466 \n",
      " recall:0.8533404237454169 \n",
      ", 'Validation':  best_epoch_indx:42\n",
      " auc:0.862216161826898 \n",
      " apur:0.4653438572246599 \n",
      " f1:0.45007773947137164 \n",
      " precision:0.30758569712648987 \n",
      " recall:0.8385390428211587 \n",
      "}\n",
      "=====Epoch 43\n",
      "Training...\n",
      "{'Train':  best_epoch_indx:42\n",
      " auc:0.874780565826478 \n",
      " apur:0.49696276020768715 \n",
      " f1:0.46285639247008653 \n",
      " precision:0.3196483441447593 \n",
      " recall:0.8385345237762042 \n",
      ", 'Validation':  best_epoch_indx:42\n",
      " auc:0.8629912136648782 \n",
      " apur:0.48854277721018113 \n",
      " f1:0.4570233530846985 \n",
      " precision:0.31595180722891564 \n",
      " recall:0.8256926952141058 \n",
      "}\n",
      "=====Epoch 43\n",
      "Training...\n"
     ]
    },
    {
     "name": "stderr",
     "output_type": "stream",
     "text": [
      "\n",
      "Iteration:   0%|          | 4/1001 [00:00<00:27, 36.62it/s]\n",
      "Iteration:   5%|▍         | 49/1001 [00:01<00:21, 44.64it/s]\n",
      "Iteration:  11%|█         | 12/112 [00:00<00:01, 58.92it/s]]\n",
      "Iteration:  21%|██▏       | 24/112 [00:00<00:01, 51.58it/s]]\n",
      "Iteration:  16%|█▌        | 159/1001 [00:03<00:19, 44.22it/s]\n",
      "Iteration:   0%|          | 4/1001 [00:00<00:27, 35.69it/s]s]"
     ]
    },
    {
     "name": "stdout",
     "output_type": "stream",
     "text": [
      "{'Train':  best_epoch_indx:42\n",
      " auc:0.8730747284597731 \n",
      " apur:0.4930717733077547 \n",
      " f1:0.46113238239198323 \n",
      " precision:0.3176527796864594 \n",
      " recall:0.8410019591379793 \n",
      ", 'Validation':  best_epoch_indx:42\n",
      " auc:0.8570761382091278 \n",
      " apur:0.4610614233845574 \n",
      " f1:0.4522968197879858 \n",
      " precision:0.3119564178533881 \n",
      " recall:0.8221662468513854 \n",
      "}\n",
      "=====Epoch 43\n",
      "Training...\n",
      "{'Train':  best_epoch_indx:42\n",
      " auc:0.8748425267135373 \n",
      " apur:0.4973392444686774 \n",
      " f1:0.4650862337338896 \n",
      " precision:0.3221142961868929 \n",
      " recall:0.8362674578073833 \n",
      ", 'Validation':  best_epoch_indx:42\n",
      " auc:0.8612918982065015 \n",
      " apur:0.4729925914543338 \n",
      " f1:0.45692779481460827 \n",
      " precision:0.3158604740797842 \n",
      " recall:0.8256926952141058 \n",
      "}\n",
      "=====Epoch 43\n",
      "Training...\n"
     ]
    },
    {
     "name": "stderr",
     "output_type": "stream",
     "text": [
      "\r",
      "Iteration:  17%|█▋        | 174/1001 [00:04<00:18, 45.13it/s]\n",
      "\r",
      "Iteration:   0%|          | 0/1001 [00:00<?, ?it/s]\r",
      "Iteration:  17%|█▋        | 169/1001 [00:03<00:18, 44.68it/s]\r",
      "Iteration:   1%|          | 9/1001 [00:00<00:25, 39.13it/s]\r",
      "Iteration:  18%|█▊        | 179/1001 [00:04<00:18, 45.21it/s]\r",
      "Iteration:   0%|          | 4/1001 [00:00<00:28, 34.94it/s]\r",
      "Iteration:  17%|█▋        | 174/1001 [00:04<00:18, 44.79it/s]\n",
      "\r",
      "Iteration:   0%|          | 0/1001 [00:00<?, ?it/s]\r",
      "Iteration:   1%|▏         | 14/1001 [00:00<00:24, 40.09it/s]"
     ]
    },
    {
     "name": "stdout",
     "output_type": "stream",
     "text": [
      "{'Train':  best_epoch_indx:42\n",
      " auc:0.8730227265921794 \n",
      " apur:0.49748943507942195 \n",
      " f1:0.4691542408402188 \n",
      " precision:0.32894944263033443 \n",
      " recall:0.8176551260880517 \n",
      ", 'Validation':  best_epoch_indx:42\n",
      " auc:0.8648945381784762 \n",
      " apur:0.47896577831454923 \n",
      " f1:0.46554961721796906 \n",
      " precision:0.32634669906844876 \n",
      " recall:0.81183879093199 \n",
      "}\n",
      "=====Epoch 43\n",
      "Training...\n"
     ]
    },
    {
     "name": "stderr",
     "output_type": "stream",
     "text": [
      "Iteration: 100%|██████████| 1001/1001 [00:22<00:00, 43.82it/s]\n",
      "Iteration:  82%|████████▏ | 818/1001 [00:18<00:04, 44.71it/s]"
     ]
    },
    {
     "name": "stdout",
     "output_type": "stream",
     "text": [
      "Evaluating...\n",
      "Evaluating...\n"
     ]
    },
    {
     "name": "stderr",
     "output_type": "stream",
     "text": [
      "Iteration: 100%|██████████| 1001/1001 [00:22<00:00, 43.75it/s]\n",
      "Iteration: 100%|██████████| 1001/1001 [00:22<00:00, 43.55it/s]\n",
      "Iteration:  19%|█▊        | 186/1001 [00:03<00:22, 36.52it/s]"
     ]
    },
    {
     "name": "stdout",
     "output_type": "stream",
     "text": [
      "Evaluating...\n",
      "Evaluating...\n"
     ]
    },
    {
     "name": "stderr",
     "output_type": "stream",
     "text": [
      "Iteration: 100%|██████████| 1001/1001 [00:23<00:00, 43.52it/s]\n",
      "Iteration: 100%|██████████| 1001/1001 [00:23<00:00, 43.35it/s]\n",
      "Iteration:   2%|▏         | 16/1001 [00:00<00:19, 49.90it/s]]"
     ]
    },
    {
     "name": "stdout",
     "output_type": "stream",
     "text": [
      "Evaluating...\n"
     ]
    },
    {
     "name": "stderr",
     "output_type": "stream",
     "text": [
      "Iteration:  98%|█████████▊| 982/1001 [00:20<00:00, 59.84it/s]]\n",
      "Iteration:  99%|█████████▉| 989/1001 [00:20<00:00, 58.70it/s]\n",
      "Iteration: 100%|██████████| 112/112 [00:01<00:00, 69.94it/s]s]"
     ]
    },
    {
     "name": "stdout",
     "output_type": "stream",
     "text": [
      "{'Train':  best_epoch_indx:43\n",
      " auc:0.8711947502480857 \n",
      " apur:0.4878767524878854 \n",
      " f1:0.4549453689569343 \n",
      " precision:0.31104119110782075 \n",
      " recall:0.8466511797139579 \n",
      ", 'Validation':  best_epoch_indx:43\n",
      " auc:0.8589892898888873 \n",
      " apur:0.46550708128259377 \n",
      " f1:0.4454649827784157 \n",
      " precision:0.30432776598689676 \n",
      " recall:0.8307304785894206 \n",
      "}\n",
      "=====Epoch 44\n",
      "Training...\n",
      "{'Train':  best_epoch_indx:43\n",
      " auc:0.8735130287049053 \n",
      " apur:0.49034869216457894 \n",
      " f1:0.4634093544646309 \n",
      " precision:0.32013116715266876 \n",
      " recall:0.8388423969324639 \n",
      ", 'Validation':  best_epoch_indx:43\n",
      " auc:0.8609368045072792 \n",
      " apur:0.48038004759668856 \n",
      " f1:0.4559614444366837 \n",
      " precision:0.3154537547115106 \n",
      " recall:0.8221662468513854 \n",
      "}\n",
      "=====Epoch 44\n",
      "Training...\n"
     ]
    },
    {
     "name": "stderr",
     "output_type": "stream",
     "text": [
      "\n",
      "Iteration:   0%|          | 0/1001 [00:00<?, ?it/s]\n",
      "Iteration:   5%|▌         | 54/1001 [00:01<00:21, 44.46it/s]\n",
      "Iteration:   6%|▋         | 7/112 [00:00<00:01, 69.86it/s]s]\n",
      "Iteration:   7%|▋         | 69/1001 [00:01<00:21, 43.92it/s]\n",
      "Iteration:  98%|█████████▊| 110/112 [00:02<00:00, 52.55it/s]]\n",
      "Iteration:  16%|█▋        | 164/1001 [00:03<00:18, 44.50it/s]"
     ]
    },
    {
     "name": "stdout",
     "output_type": "stream",
     "text": [
      "{'Train':  best_epoch_indx:43\n",
      " auc:0.8727599475028699 \n",
      " apur:0.4896135211468328 \n",
      " f1:0.46847589239729015 \n",
      " precision:0.32674219397623655 \n",
      " recall:0.8273719563392108 \n",
      ", 'Validation':  best_epoch_indx:43\n",
      " auc:0.8587674007912647 \n",
      " apur:0.46263892090054515 \n",
      " f1:0.4608782720640825 \n",
      " precision:0.32181382341190573 \n",
      " recall:0.8115869017632242 \n",
      "}\n",
      "=====Epoch 44\n",
      "Training...\n"
     ]
    },
    {
     "name": "stderr",
     "output_type": "stream",
     "text": [
      "\r",
      "Iteration:   0%|          | 4/1001 [00:00<00:27, 35.93it/s]\r",
      "Iteration:  17%|█▋        | 174/1001 [00:04<00:18, 44.13it/s]\r",
      "Iteration:  17%|█▋        | 169/1001 [00:03<00:18, 44.71it/s]\r",
      "Iteration:   1%|          | 9/1001 [00:00<00:25, 39.09it/s]\n",
      "\r",
      "Iteration:   0%|          | 0/1001 [00:00<?, ?it/s]\r",
      "Iteration:  18%|█▊        | 179/1001 [00:04<00:18, 44.61it/s]\r",
      "Iteration:  17%|█▋        | 174/1001 [00:04<00:18, 44.90it/s]"
     ]
    },
    {
     "name": "stdout",
     "output_type": "stream",
     "text": [
      "{'Train':  best_epoch_indx:43\n",
      " auc:0.8702880007508292 \n",
      " apur:0.4810923890714978 \n",
      " f1:0.4516287591045176 \n",
      " precision:0.3076868435740017 \n",
      " recall:0.8486383609952699 \n",
      ", 'Validation':  best_epoch_indx:43\n",
      " auc:0.8574227504596654 \n",
      " apur:0.4535994871458777 \n",
      " f1:0.44338737773013537 \n",
      " precision:0.302026286966046 \n",
      " recall:0.8335012594458439 \n",
      "}\n",
      "=====Epoch 44\n",
      "Training...\n",
      "{'Train':  best_epoch_indx:43\n",
      " auc:0.8705211559235053 \n",
      " apur:0.48579410432601255 \n",
      " f1:0.4537788671268917 \n",
      " precision:0.30987674542402033 \n",
      " recall:0.8472109490889753 \n",
      ", 'Validation':  best_epoch_indx:43\n",
      " auc:0.8617807836515725 \n",
      " apur:0.46769735101322196 \n",
      " f1:0.4484105603448276 \n",
      " precision:0.3060305203162346 \n",
      " recall:0.8385390428211587 \n",
      "}\n",
      "=====Epoch 44\n",
      "Training...\n"
     ]
    },
    {
     "name": "stderr",
     "output_type": "stream",
     "text": [
      "\n",
      "Iteration: 100%|██████████| 1001/1001 [00:22<00:00, 43.56it/s]\n",
      "Iteration: 100%|██████████| 1001/1001 [00:23<00:00, 43.44it/s]\n",
      "Iteration:   0%|          | 0/1001 [00:00<?, ?it/s]"
     ]
    },
    {
     "name": "stdout",
     "output_type": "stream",
     "text": [
      "Evaluating...\n",
      "Evaluating...\n"
     ]
    },
    {
     "name": "stderr",
     "output_type": "stream",
     "text": [
      "Iteration: 100%|██████████| 1001/1001 [00:23<00:00, 43.46it/s]\n",
      "Iteration:  19%|█▊        | 186/1001 [00:03<00:21, 37.80it/s]"
     ]
    },
    {
     "name": "stdout",
     "output_type": "stream",
     "text": [
      "Evaluating...\n"
     ]
    },
    {
     "name": "stderr",
     "output_type": "stream",
     "text": [
      "Iteration: 100%|██████████| 1001/1001 [00:23<00:00, 43.31it/s]\n",
      "Iteration: 100%|██████████| 1001/1001 [00:23<00:00, 43.32it/s]\n",
      "Iteration:  21%|██        | 209/1001 [00:04<00:17, 46.15it/s]"
     ]
    },
    {
     "name": "stdout",
     "output_type": "stream",
     "text": [
      "Evaluating...\n",
      "Evaluating...\n"
     ]
    },
    {
     "name": "stderr",
     "output_type": "stream",
     "text": [
      "Iteration:  99%|█████████▊| 988/1001 [00:20<00:00, 61.54it/s]]\n",
      "Iteration:  96%|█████████▋| 965/1001 [00:20<00:00, 55.32it/s]\n",
      "Iteration: 100%|██████████| 112/112 [00:01<00:00, 67.71it/s]s]"
     ]
    },
    {
     "name": "stdout",
     "output_type": "stream",
     "text": [
      "{'Train':  best_epoch_indx:44\n",
      " auc:0.8666997847479135 \n",
      " apur:0.4766570796117191 \n",
      " f1:0.46277766503801065 \n",
      " precision:0.3208684640611302 \n",
      " recall:0.8297461445884295 \n",
      ", 'Validation':  best_epoch_indx:44\n",
      " auc:0.857352237435306 \n",
      " apur:0.4621036252889492 \n",
      " f1:0.45524117110159373 \n",
      " precision:0.31558454200330965 \n",
      " recall:0.816624685138539 \n",
      "}\n",
      "=====Epoch 45\n",
      "Training...\n",
      "{'Train':  best_epoch_indx:44\n",
      " auc:0.8708910933682485 \n",
      " apur:0.4886406029167493 \n",
      " f1:0.4629648386066334 \n",
      " precision:0.32077692124981105 \n",
      " recall:0.8315653950572364 \n",
      ", 'Validation':  best_epoch_indx:44\n",
      " auc:0.8594421623914136 \n",
      " apur:0.4834815556395466 \n",
      " f1:0.4561723629728402 \n",
      " precision:0.31617861659694524 \n",
      " recall:0.818639798488665 \n",
      "}\n",
      "=====Epoch 45\n",
      "Training...\n"
     ]
    },
    {
     "name": "stderr",
     "output_type": "stream",
     "text": [
      "\n",
      "Iteration:   0%|          | 0/1001 [00:00<?, ?it/s]\n",
      "Iteration:   5%|▌         | 54/1001 [00:01<00:21, 44.84it/s]\n",
      "Iteration:   6%|▋         | 64/1001 [00:01<00:20, 44.73it/s]\n",
      "Iteration:   7%|▋         | 74/1001 [00:01<00:20, 45.07it/s]\n",
      "Iteration:  16%|█▌        | 159/1001 [00:03<00:19, 44.23it/s]\n",
      "Iteration: 100%|██████████| 112/112 [00:02<00:00, 50.05it/s]]"
     ]
    },
    {
     "name": "stdout",
     "output_type": "stream",
     "text": [
      "{'Train':  best_epoch_indx:44\n",
      " auc:0.865253381782181 \n",
      " apur:0.46843358387081435 \n",
      " f1:0.4604335745569283 \n",
      " precision:0.31994196954491905 \n",
      " recall:0.8209068010075566 \n",
      ", 'Validation':  best_epoch_indx:44\n",
      " auc:0.8521056192790399 \n",
      " apur:0.44237009776562436 \n",
      " f1:0.4544360263400127 \n",
      " precision:0.31606421747266816 \n",
      " recall:0.8083123425692695 \n",
      "}\n",
      "=====Epoch 45\n",
      "Training...\n"
     ]
    },
    {
     "name": "stderr",
     "output_type": "stream",
     "text": [
      "\r",
      "Iteration:  17%|█▋        | 169/1001 [00:03<00:19, 43.73it/s]\r",
      "Iteration:   1%|          | 9/1001 [00:00<00:25, 39.33it/s]\r",
      "Iteration:  17%|█▋        | 174/1001 [00:04<00:18, 44.55it/s]\r",
      "Iteration:  17%|█▋        | 174/1001 [00:04<00:18, 44.23it/s]\r",
      "Iteration:  18%|█▊        | 179/1001 [00:04<00:18, 45.53it/s]\r",
      "Iteration:   1%|▏         | 14/1001 [00:00<00:24, 40.68it/s]\n",
      "\r",
      "Iteration:   0%|          | 0/1001 [00:00<?, ?it/s]"
     ]
    },
    {
     "name": "stdout",
     "output_type": "stream",
     "text": [
      "{'Train':  best_epoch_indx:44\n",
      " auc:0.8710098967280533 \n",
      " apur:0.48448955564970925 \n",
      " f1:0.4635123668248531 \n",
      " precision:0.3222060799370815 \n",
      " recall:0.8255758627445492 \n",
      ", 'Validation':  best_epoch_indx:44\n",
      " auc:0.8601199282844014 \n",
      " apur:0.46796129924639884 \n",
      " f1:0.45750247489746854 \n",
      " precision:0.31802988596146287 \n",
      " recall:0.8148614609571788 \n",
      "}\n",
      "=====Epoch 45\n",
      "Training...\n",
      "{'Train':  best_epoch_indx:44\n",
      " auc:0.8679792158464953 \n",
      " apur:0.47900947436360525 \n",
      " f1:0.4600122360157055 \n",
      " precision:0.317993961326795 \n",
      " recall:0.8312575219009768 \n",
      ", 'Validation':  best_epoch_indx:44\n",
      " auc:0.8615025158488234 \n",
      " apur:0.46745735004758193 \n",
      " f1:0.45472249269717624 \n",
      " precision:0.3140853189853958 \n",
      " recall:0.8234256926952142 \n",
      "}\n",
      "=====Epoch 45\n",
      "Training...\n"
     ]
    },
    {
     "name": "stderr",
     "output_type": "stream",
     "text": [
      "Iteration:  18%|█▊        | 184/1001 [00:04<00:18, 45.24it/s]\n",
      "Iteration: 100%|██████████| 1001/1001 [00:22<00:00, 43.87it/s]\n",
      "Iteration: 100%|██████████| 1001/1001 [00:22<00:00, 43.64it/s]\n",
      "Iteration:   0%|          | 0/1001 [00:00<?, ?it/s]"
     ]
    },
    {
     "name": "stdout",
     "output_type": "stream",
     "text": [
      "Evaluating...\n",
      "Evaluating...\n"
     ]
    },
    {
     "name": "stderr",
     "output_type": "stream",
     "text": [
      "Iteration: 100%|██████████| 1001/1001 [00:22<00:00, 43.64it/s]\n",
      "Iteration:   0%|          | 4/1001 [00:00<00:25, 39.49it/s]s]"
     ]
    },
    {
     "name": "stdout",
     "output_type": "stream",
     "text": [
      "Evaluating...\n"
     ]
    },
    {
     "name": "stderr",
     "output_type": "stream",
     "text": [
      "Iteration: 100%|██████████| 1001/1001 [00:22<00:00, 43.56it/s]\n",
      "Iteration: 100%|██████████| 1001/1001 [00:23<00:00, 43.32it/s]\n",
      "Iteration:   0%|          | 0/1001 [00:00<?, ?it/s]"
     ]
    },
    {
     "name": "stdout",
     "output_type": "stream",
     "text": [
      "Evaluating...\n",
      "Evaluating...\n"
     ]
    },
    {
     "name": "stderr",
     "output_type": "stream",
     "text": [
      "Iteration:  95%|█████████▌| 952/1001 [00:19<00:00, 55.51it/s]]\n",
      "Iteration:  16%|█▌        | 18/112 [00:00<00:01, 49.34it/s]/s]\n",
      "Iteration: 100%|██████████| 112/112 [00:01<00:00, 69.15it/s]s]\n",
      "Iteration:   0%|          | 0/1001 [00:00<?, ?it/s]"
     ]
    },
    {
     "name": "stdout",
     "output_type": "stream",
     "text": [
      "{'Train':  best_epoch_indx:45\n",
      " auc:0.8718416845399567 \n",
      " apur:0.4906702540560432 \n",
      " f1:0.45564267332841724 \n",
      " precision:0.311591145324126 \n",
      " recall:0.8474068683702315 \n",
      ", 'Validation':  best_epoch_indx:45\n",
      " auc:0.8610045146678491 \n",
      " apur:0.47128374961415104 \n",
      " f1:0.4475989947700875 \n",
      " precision:0.30642611364270433 \n",
      " recall:0.8299748110831234 \n",
      "}\n",
      "=====Epoch 46\n",
      "Training...\n"
     ]
    },
    {
     "name": "stderr",
     "output_type": "stream",
     "text": [
      "\r",
      "Iteration:   0%|          | 4/1001 [00:00<00:28, 35.36it/s]\n",
      "\r",
      "Iteration:   0%|          | 0/1001 [00:00<?, ?it/s]\r",
      "Iteration:   1%|          | 9/1001 [00:00<00:25, 39.38it/s]\r",
      "Iteration:   0%|          | 4/1001 [00:00<00:26, 37.50it/s]"
     ]
    },
    {
     "name": "stdout",
     "output_type": "stream",
     "text": [
      "{'Train':  best_epoch_indx:45\n",
      " auc:0.8718209821168786 \n",
      " apur:0.48402347511881916 \n",
      " f1:0.46473685860263936 \n",
      " precision:0.32272564021636213 \n",
      " recall:0.8299420638696857 \n",
      ", 'Validation':  best_epoch_indx:45\n",
      " auc:0.8614913386794603 \n",
      " apur:0.47787152619340106 \n",
      " f1:0.4579656949248253 \n",
      " precision:0.31813278415220164 \n",
      " recall:0.8171284634760705 \n",
      "}\n",
      "=====Epoch 46\n",
      "Training...\n"
     ]
    },
    {
     "name": "stderr",
     "output_type": "stream",
     "text": [
      "Iteration:   5%|▌         | 54/1001 [00:01<00:21, 45.01it/s]\n",
      "Iteration:   7%|▋         | 69/1001 [00:01<00:20, 45.21it/s]\n",
      "Iteration:   8%|▊         | 84/1001 [00:01<00:20, 44.22it/s]\n",
      "Iteration:  96%|█████████▌| 107/112 [00:02<00:00, 53.04it/s]]\n",
      "Iteration: 100%|██████████| 112/112 [00:02<00:00, 49.43it/s]]"
     ]
    },
    {
     "name": "stdout",
     "output_type": "stream",
     "text": [
      "{'Train':  best_epoch_indx:45\n",
      " auc:0.871258179694693 \n",
      " apur:0.4881182322969524 \n",
      " f1:0.46770216172938356 \n",
      " precision:0.32755411012672425 \n",
      " recall:0.8174643157010916 \n",
      ", 'Validation':  best_epoch_indx:45\n",
      " auc:0.8577569126806786 \n",
      " apur:0.4657739689364838 \n",
      " f1:0.46198365043767636 \n",
      " precision:0.32406373693291385 \n",
      " recall:0.8042821158690177 \n",
      "}\n",
      "=====Epoch 46\n",
      "Training...\n"
     ]
    },
    {
     "name": "stderr",
     "output_type": "stream",
     "text": [
      "Iteration:  17%|█▋        | 169/1001 [00:03<00:18, 44.74it/s]\n",
      "Iteration:   0%|          | 4/1001 [00:00<00:29, 33.29it/s]s]"
     ]
    },
    {
     "name": "stdout",
     "output_type": "stream",
     "text": [
      "{'Train':  best_epoch_indx:45\n",
      " auc:0.8729347385314032 \n",
      " apur:0.4914479264573947 \n",
      " f1:0.46853085762843777 \n",
      " precision:0.32707233778329714 \n",
      " recall:0.8256038512133002 \n",
      ", 'Validation':  best_epoch_indx:45\n",
      " auc:0.8597264987799828 \n",
      " apur:0.47073964722437667 \n",
      " f1:0.460747196228302 \n",
      " precision:0.32156745438229134 \n",
      " recall:0.8123425692695214 \n",
      "}\n",
      "=====Epoch 46\n",
      "Training...\n"
     ]
    },
    {
     "name": "stderr",
     "output_type": "stream",
     "text": [
      "\r",
      "Iteration:   2%|▏         | 24/1001 [00:00<00:22, 42.61it/s]\r",
      "Iteration:  18%|█▊        | 179/1001 [00:04<00:18, 44.88it/s]\r",
      "Iteration:  19%|█▉        | 189/1001 [00:04<00:18, 44.72it/s]\r",
      "Iteration:   1%|          | 9/1001 [00:00<00:26, 37.90it/s]\r",
      "Iteration:   3%|▎         | 29/1001 [00:00<00:22, 43.13it/s]\n",
      "\r",
      "Iteration:   0%|          | 0/1001 [00:00<?, ?it/s]\r",
      "Iteration:  18%|█▊        | 184/1001 [00:04<00:18, 44.62it/s]\r",
      "Iteration:  19%|█▉        | 194/1001 [00:04<00:18, 43.84it/s]\r",
      "Iteration:   1%|▏         | 14/1001 [00:00<00:24, 39.68it/s]"
     ]
    },
    {
     "name": "stdout",
     "output_type": "stream",
     "text": [
      "{'Train':  best_epoch_indx:45\n",
      " auc:0.869513006739227 \n",
      " apur:0.4813963021247884 \n",
      " f1:0.4556013148449012 \n",
      " precision:0.31205101132434837 \n",
      " recall:0.8437403789638669 \n",
      ", 'Validation':  best_epoch_indx:45\n",
      " auc:0.8607779669877503 \n",
      " apur:0.4644855805592739 \n",
      " f1:0.4510494245091402 \n",
      " precision:0.30842592592592594 \n",
      " recall:0.8390428211586902 \n",
      "}\n",
      "=====Epoch 46\n",
      "Training...\n"
     ]
    },
    {
     "name": "stderr",
     "output_type": "stream",
     "text": [
      "Iteration: 100%|██████████| 1001/1001 [00:22<00:00, 43.87it/s]\n",
      "Iteration:   0%|          | 5/1001 [00:00<00:20, 47.50it/s]s]"
     ]
    },
    {
     "name": "stdout",
     "output_type": "stream",
     "text": [
      "Evaluating...\n"
     ]
    },
    {
     "name": "stderr",
     "output_type": "stream",
     "text": [
      "\r",
      "Iteration:  81%|████████  | 809/1001 [00:18<00:04, 44.36it/s]\r",
      "Iteration: 100%|█████████▉| 999/1001 [00:22<00:00, 44.54it/s]\r",
      "Iteration:  84%|████████▍ | 844/1001 [00:19<00:03, 42.98it/s]\r",
      "Iteration:  82%|████████▏ | 824/1001 [00:18<00:03, 44.55it/s]\r",
      "Iteration:   1%|          | 11/1001 [00:00<00:19, 49.97it/s]\r",
      "Iteration: 100%|██████████| 1001/1001 [00:22<00:00, 43.79it/s]\n",
      "\r",
      "Iteration:   0%|          | 0/1001 [00:00<?, ?it/s]\r",
      "Iteration:  81%|████████▏ | 814/1001 [00:18<00:04, 44.63it/s]\r",
      "Iteration:  85%|████████▍ | 849/1001 [00:19<00:03, 44.16it/s]\r",
      "Iteration:  83%|████████▎ | 829/1001 [00:18<00:03, 44.34it/s]\r",
      "Iteration:   2%|▏         | 17/1001 [00:00<00:19, 51.14it/s]\r",
      "Iteration:   0%|          | 5/1001 [00:00<00:21, 46.44it/s]"
     ]
    },
    {
     "name": "stdout",
     "output_type": "stream",
     "text": [
      "Evaluating...\n"
     ]
    },
    {
     "name": "stderr",
     "output_type": "stream",
     "text": [
      "Iteration:  18%|█▊        | 185/1001 [00:03<00:23, 34.05it/s]]\n",
      "Iteration:  19%|█▉        | 191/1001 [00:03<00:20, 38.86it/s]"
     ]
    },
    {
     "name": "stdout",
     "output_type": "stream",
     "text": [
      "Evaluating...\n"
     ]
    },
    {
     "name": "stderr",
     "output_type": "stream",
     "text": [
      "Iteration: 100%|██████████| 1001/1001 [00:22<00:00, 43.58it/s]\n",
      "Iteration:  21%|██▏       | 213/1001 [00:04<00:18, 43.19it/s]"
     ]
    },
    {
     "name": "stdout",
     "output_type": "stream",
     "text": [
      "Evaluating...\n"
     ]
    },
    {
     "name": "stderr",
     "output_type": "stream",
     "text": [
      "Iteration: 100%|██████████| 1001/1001 [00:23<00:00, 43.48it/s]\n",
      "Iteration:  23%|██▎       | 235/1001 [00:04<00:15, 50.21it/s]"
     ]
    },
    {
     "name": "stdout",
     "output_type": "stream",
     "text": [
      "Evaluating...\n"
     ]
    },
    {
     "name": "stderr",
     "output_type": "stream",
     "text": [
      "Iteration:  98%|█████████▊| 981/1001 [00:20<00:00, 59.98it/s]]\n",
      "Iteration:  99%|█████████▊| 988/1001 [00:20<00:00, 58.02it/s]\n",
      "Iteration: 100%|██████████| 112/112 [00:01<00:00, 65.41it/s]s]\n",
      "Iteration:   0%|          | 0/1001 [00:00<?, ?it/s]\n",
      "Iteration:   0%|          | 4/1001 [00:00<00:26, 37.61it/s]"
     ]
    },
    {
     "name": "stdout",
     "output_type": "stream",
     "text": [
      "{'Train':  best_epoch_indx:46\n",
      " auc:0.8753843020689405 \n",
      " apur:0.4967625788495924 \n",
      " f1:0.4667814596367659 \n",
      " precision:0.3234252521108208 \n",
      " recall:0.8383945814324498 \n",
      ", 'Validation':  best_epoch_indx:46\n",
      " auc:0.8624813924558735 \n",
      " apur:0.4696188967124055 \n",
      " f1:0.45521395055676167 \n",
      " precision:0.31525851197982346 \n",
      " recall:0.818639798488665 \n",
      "}\n",
      "=====Epoch 47\n",
      "Training...\n",
      "{'Train':  best_epoch_indx:46\n",
      " auc:0.8751062380462507 \n",
      " apur:0.49514471232747803 \n",
      " f1:0.4665162836599464 \n",
      " precision:0.3239001577029746 \n",
      " recall:0.8335245878697977 \n",
      ", 'Validation':  best_epoch_indx:46\n",
      " auc:0.8628524933359126 \n",
      " apur:0.48355904028178875 \n",
      " f1:0.4600932335075576 \n",
      " precision:0.31968983117393013 \n",
      " recall:0.8204030226700252 \n",
      "}\n",
      "=====Epoch 47\n",
      "Training...\n"
     ]
    },
    {
     "name": "stderr",
     "output_type": "stream",
     "text": [
      "Iteration:   5%|▌         | 54/1001 [00:01<00:21, 44.61it/s]\n",
      "Iteration:   6%|▋         | 64/1001 [00:01<00:21, 44.10it/s]\n",
      "Iteration:   7%|▋         | 74/1001 [00:01<00:20, 44.89it/s]\n",
      "Iteration:  16%|█▋        | 164/1001 [00:03<00:18, 44.93it/s]\n",
      "Iteration:  16%|█▋        | 164/1001 [00:03<00:18, 44.31it/s]"
     ]
    },
    {
     "name": "stdout",
     "output_type": "stream",
     "text": [
      "{'Train':  best_epoch_indx:46\n",
      " auc:0.8760263996766835 \n",
      " apur:0.49734709006522604 \n",
      " f1:0.45952888534000247 \n",
      " precision:0.3143817190447232 \n",
      " recall:0.8536523929471033 \n",
      ", 'Validation':  best_epoch_indx:46\n",
      " auc:0.8607095625398198 \n",
      " apur:0.4626666392269045 \n",
      " f1:0.4522176186918426 \n",
      " precision:0.3095880219473635 \n",
      " recall:0.8385390428211587 \n",
      "}\n",
      "=====Epoch 47\n",
      "Training...\n",
      "{'Train':  best_epoch_indx:46\n",
      " auc:0.8739527834193535 \n",
      " apur:0.5007261339185163 \n",
      " f1:0.4698479621821898 \n",
      " precision:0.3287040657855044 \n",
      " recall:0.823420750650732 \n",
      ", 'Validation':  best_epoch_indx:46\n",
      " auc:0.8613612412280862 \n",
      " apur:0.4744936655751677 \n",
      " f1:0.46214738054116294 \n",
      " precision:0.3234938545234737 \n",
      " recall:0.808816120906801 \n",
      "}\n",
      "=====Epoch 47\n",
      "Training...\n"
     ]
    },
    {
     "name": "stderr",
     "output_type": "stream",
     "text": [
      "Iteration:  17%|█▋        | 169/1001 [00:03<00:18, 44.61it/s]\n",
      "Iteration:  18%|█▊        | 184/1001 [00:04<00:18, 44.99it/s]"
     ]
    },
    {
     "name": "stdout",
     "output_type": "stream",
     "text": [
      "{'Train':  best_epoch_indx:46\n",
      " auc:0.873854266718458 \n",
      " apur:0.49212779806138546 \n",
      " f1:0.4522278873863888 \n",
      " precision:0.30722583106595314 \n",
      " recall:0.856447143776764 \n",
      ", 'Validation':  best_epoch_indx:46\n",
      " auc:0.8643522397495971 \n",
      " apur:0.47216335460081493 \n",
      " f1:0.4459216911520308 \n",
      " precision:0.30289894337577894 \n",
      " recall:0.8448362720403023 \n",
      "}\n",
      "=====Epoch 47\n",
      "Training...\n"
     ]
    },
    {
     "name": "stderr",
     "output_type": "stream",
     "text": [
      "\n",
      "Iteration: 100%|██████████| 1001/1001 [00:22<00:00, 43.64it/s]\n",
      "Iteration: 100%|██████████| 1001/1001 [00:22<00:00, 43.64it/s]\n",
      "Iteration:   0%|          | 0/1001 [00:00<?, ?it/s]"
     ]
    },
    {
     "name": "stdout",
     "output_type": "stream",
     "text": [
      "Evaluating...\n",
      "Evaluating...\n"
     ]
    },
    {
     "name": "stderr",
     "output_type": "stream",
     "text": [
      "Iteration: 100%|██████████| 1001/1001 [00:22<00:00, 43.57it/s]\n",
      "Iteration:  19%|█▉        | 191/1001 [00:03<00:20, 40.34it/s]"
     ]
    },
    {
     "name": "stdout",
     "output_type": "stream",
     "text": [
      "Evaluating...\n"
     ]
    },
    {
     "name": "stderr",
     "output_type": "stream",
     "text": [
      "\r",
      "Iteration:   0%|          | 4/1001 [00:00<00:25, 38.45it/s]\r",
      "Iteration:  98%|█████████▊| 979/1001 [00:22<00:00, 44.79it/s]\r",
      "Iteration:  20%|██        | 202/1001 [00:04<00:17, 45.05it/s]\r",
      "Iteration:  20%|█▉        | 196/1001 [00:04<00:19, 41.88it/s]\r",
      "Iteration: 100%|█████████▉| 999/1001 [00:22<00:00, 44.20it/s]\r",
      "Iteration:   1%|          | 10/1001 [00:00<00:21, 46.77it/s]\r",
      "Iteration:  98%|█████████▊| 984/1001 [00:22<00:00, 44.02it/s]\r",
      "Iteration:  21%|██        | 207/1001 [00:04<00:17, 45.28it/s]\r",
      "Iteration: 100%|██████████| 1001/1001 [00:23<00:00, 43.42it/s]\n",
      "\r",
      "Iteration:   0%|          | 0/1001 [00:00<?, ?it/s]\r",
      "Iteration:  20%|██        | 201/1001 [00:04<00:18, 43.51it/s]"
     ]
    },
    {
     "name": "stdout",
     "output_type": "stream",
     "text": [
      "Evaluating...\n"
     ]
    },
    {
     "name": "stderr",
     "output_type": "stream",
     "text": [
      "Iteration: 100%|██████████| 1001/1001 [00:23<00:00, 43.34it/s]\n",
      "Iteration:   0%|          | 5/1001 [00:00<00:20, 49.17it/s]]]"
     ]
    },
    {
     "name": "stdout",
     "output_type": "stream",
     "text": [
      "Evaluating...\n"
     ]
    },
    {
     "name": "stderr",
     "output_type": "stream",
     "text": [
      "Iteration:  98%|█████████▊| 983/1001 [00:20<00:00, 61.00it/s]]\n",
      "Iteration: 100%|█████████▉| 997/1001 [00:20<00:00, 54.56it/s]\n",
      "Iteration: 100%|██████████| 112/112 [00:01<00:00, 69.79it/s]s]\n",
      "Iteration:   0%|          | 0/1001 [00:00<?, ?it/s]"
     ]
    },
    {
     "name": "stdout",
     "output_type": "stream",
     "text": [
      "{'Train':  best_epoch_indx:47\n",
      " auc:0.879054077233215 \n",
      " apur:0.5149202109983804 \n",
      " f1:0.46733457595526556 \n",
      " precision:0.32340832625683913 \n",
      " recall:0.8420890593075653 \n",
      ", 'Validation':  best_epoch_indx:47\n",
      " auc:0.8656140084560772 \n",
      " apur:0.4810411831086762 \n",
      " f1:0.4593798232075207 \n",
      " precision:0.31835861532477633 \n",
      " recall:0.8246851385390428 \n",
      "}\n",
      "=====Epoch 48\n",
      "Training...\n"
     ]
    },
    {
     "name": "stderr",
     "output_type": "stream",
     "text": [
      "Iteration:   3%|▎         | 34/1001 [00:00<00:23, 41.67it/s]\n",
      "Iteration:   4%|▍         | 39/1001 [00:00<00:22, 42.76it/s]"
     ]
    },
    {
     "name": "stdout",
     "output_type": "stream",
     "text": [
      "{'Train':  best_epoch_indx:47\n",
      " auc:0.8808198704558414 \n",
      " apur:0.5108968003124278 \n",
      " f1:0.47333716725619795 \n",
      " precision:0.3293790018419437 \n",
      " recall:0.8408295782137759 \n",
      ", 'Validation':  best_epoch_indx:47\n",
      " auc:0.8679135867665057 \n",
      " apur:0.5029078408339285 \n",
      " f1:0.4655012486621477 \n",
      " precision:0.32473867595818817 \n",
      " recall:0.8216624685138539 \n",
      "}\n",
      "=====Epoch 48\n",
      "Training...\n"
     ]
    },
    {
     "name": "stderr",
     "output_type": "stream",
     "text": [
      "Iteration:   2%|▏         | 19/1001 [00:00<00:23, 41.08it/s]\n",
      "Iteration:   2%|▏         | 24/1001 [00:00<00:23, 41.90it/s]\n",
      "Iteration:  19%|█▉        | 21/112 [00:00<00:01, 52.94it/s]]\n",
      "Iteration: 100%|██████████| 112/112 [00:02<00:00, 51.40it/s]]\n",
      "Iteration:   0%|          | 4/1001 [00:00<00:28, 35.38it/s]s]\n",
      "Iteration:  13%|█▎        | 134/1001 [00:03<00:20, 43.16it/s]"
     ]
    },
    {
     "name": "stdout",
     "output_type": "stream",
     "text": [
      "{'Train':  best_epoch_indx:47\n",
      " auc:0.8767405114294978 \n",
      " apur:0.5012895947236728 \n",
      " f1:0.46920467873331845 \n",
      " precision:0.32726790333635497 \n",
      " recall:0.8285474391267842 \n",
      ", 'Validation':  best_epoch_indx:47\n",
      " auc:0.8609879460571292 \n",
      " apur:0.46961339296212495 \n",
      " f1:0.46173633440514467 \n",
      " precision:0.3222942643391521 \n",
      " recall:0.8138539042821159 \n",
      "}\n",
      "=====Epoch 48\n",
      "Training...\n",
      "{'Train':  best_epoch_indx:47\n",
      " auc:0.8795385670432276 \n",
      " apur:0.5087483679497863 \n",
      " f1:0.4695037998708743 \n",
      " precision:0.32510664885594864 \n",
      " recall:0.8446639984326457 \n",
      ", 'Validation':  best_epoch_indx:47\n",
      " auc:0.8647796936204164 \n",
      " apur:0.4809335105770871 \n",
      " f1:0.4618510474322147 \n",
      " precision:0.3199068232553625 \n",
      " recall:0.8302267002518892 \n",
      "}\n",
      "=====Epoch 48\n",
      "Training...\n"
     ]
    },
    {
     "name": "stderr",
     "output_type": "stream",
     "text": [
      "\r",
      "Iteration:  18%|█▊        | 179/1001 [00:04<00:18, 44.78it/s]\r",
      "Iteration:   1%|          | 9/1001 [00:00<00:25, 38.67it/s]\r",
      "Iteration:   0%|          | 4/1001 [00:00<00:28, 35.17it/s]\r",
      "Iteration:  14%|█▍        | 139/1001 [00:03<00:19, 43.79it/s]\r",
      "Iteration:  18%|█▊        | 184/1001 [00:04<00:18, 45.16it/s]\n",
      "\r",
      "Iteration:   0%|          | 0/1001 [00:00<?, ?it/s]\r",
      "Iteration:  14%|█▍        | 144/1001 [00:03<00:19, 44.20it/s]\r",
      "Iteration:   1%|          | 9/1001 [00:00<00:25, 38.96it/s]\r",
      "Iteration:   1%|▏         | 14/1001 [00:00<00:25, 39.41it/s]"
     ]
    },
    {
     "name": "stdout",
     "output_type": "stream",
     "text": [
      "{'Train':  best_epoch_indx:47\n",
      " auc:0.878548837092669 \n",
      " apur:0.5068528615733205 \n",
      " f1:0.4674121083912562 \n",
      " precision:0.32318210068365444 \n",
      " recall:0.8441322175263791 \n",
      ", 'Validation':  best_epoch_indx:47\n",
      " auc:0.8682859005065641 \n",
      " apur:0.4844689879632069 \n",
      " f1:0.4608224506807446 \n",
      " precision:0.3181469403414541 \n",
      " recall:0.8355163727959698 \n",
      "}\n",
      "=====Epoch 48\n",
      "Training...\n"
     ]
    },
    {
     "name": "stderr",
     "output_type": "stream",
     "text": [
      "Iteration: 100%|██████████| 1001/1001 [00:22<00:00, 43.71it/s]\n",
      "Iteration:  96%|█████████▌| 959/1001 [00:22<00:00, 44.82it/s]"
     ]
    },
    {
     "name": "stdout",
     "output_type": "stream",
     "text": [
      "Evaluating...\n"
     ]
    },
    {
     "name": "stderr",
     "output_type": "stream",
     "text": [
      "Iteration: 100%|██████████| 1001/1001 [00:22<00:00, 43.52it/s]\n",
      "Iteration:  86%|████████▌ | 856/1001 [00:19<00:03, 44.05it/s]"
     ]
    },
    {
     "name": "stdout",
     "output_type": "stream",
     "text": [
      "Evaluating...\n"
     ]
    },
    {
     "name": "stderr",
     "output_type": "stream",
     "text": [
      "Iteration: 100%|██████████| 1001/1001 [00:23<00:00, 43.49it/s]\n",
      "Iteration: 100%|█████████▉| 999/1001 [00:23<00:00, 44.60it/s]"
     ]
    },
    {
     "name": "stdout",
     "output_type": "stream",
     "text": [
      "Evaluating...\n",
      "Evaluating...\n"
     ]
    },
    {
     "name": "stderr",
     "output_type": "stream",
     "text": [
      "Iteration: 100%|██████████| 1001/1001 [00:23<00:00, 43.36it/s]\n",
      "Iteration:   2%|▏         | 20/1001 [00:00<00:20, 47.47it/s]s]\n",
      "Iteration:  18%|█▊        | 184/1001 [00:03<00:17, 47.53it/s]"
     ]
    },
    {
     "name": "stdout",
     "output_type": "stream",
     "text": [
      "Evaluating...\n"
     ]
    },
    {
     "name": "stderr",
     "output_type": "stream",
     "text": [
      "Iteration:  96%|█████████▌| 960/1001 [00:20<00:00, 52.19it/s]]\n",
      "Iteration: 100%|██████████| 1001/1001 [00:20<00:00, 47.94it/s]\n",
      "Iteration: 100%|██████████| 112/112 [00:01<00:00, 77.21it/s]\n",
      "Iteration:   0%|          | 4/1001 [00:00<00:29, 33.98it/s]"
     ]
    },
    {
     "name": "stdout",
     "output_type": "stream",
     "text": [
      "{'Train':  best_epoch_indx:48\n",
      " auc:0.8843701745778165 \n",
      " apur:0.5234011032879978 \n",
      " f1:0.47098718334065487 \n",
      " precision:0.3249808559516719 \n",
      " recall:0.8552156511517255 \n",
      ", 'Validation':  best_epoch_indx:48\n",
      " auc:0.8690333265647461 \n",
      " apur:0.4925528951984644 \n",
      " f1:0.45712698743317365 \n",
      " precision:0.31553723761142527 \n",
      " recall:0.8292191435768262 \n",
      "}\n",
      "=====Epoch 49\n",
      "Training...\n"
     ]
    },
    {
     "name": "stderr",
     "output_type": "stream",
     "text": [
      "Iteration:   2%|▏         | 19/1001 [00:00<00:23, 41.27it/s]\n",
      "Iteration:   0%|          | 4/1001 [00:00<00:28, 34.66it/s]]"
     ]
    },
    {
     "name": "stdout",
     "output_type": "stream",
     "text": [
      "{'Train':  best_epoch_indx:48\n",
      " auc:0.8850655916039007 \n",
      " apur:0.5230920642799739 \n",
      " f1:0.47439963751699143 \n",
      " precision:0.32904190643388925 \n",
      " recall:0.8498138766828067 \n",
      ", 'Validation':  best_epoch_indx:48\n",
      " auc:0.8694012474372439 \n",
      " apur:0.5043591979230023 \n",
      " f1:0.46396046593716916 \n",
      " precision:0.3223148602256008 \n",
      " recall:0.8277078085642318 \n",
      "}\n",
      "=====Epoch 49\n",
      "Training...\n"
     ]
    },
    {
     "name": "stderr",
     "output_type": "stream",
     "text": [
      "Iteration:   3%|▎         | 29/1001 [00:00<00:22, 42.69it/s]\n",
      "Iteration:   4%|▍         | 44/1001 [00:01<00:21, 44.25it/s]\n",
      "Iteration:  16%|█▌        | 18/112 [00:00<00:01, 51.68it/s]\n",
      "Iteration:  16%|█▋        | 164/1001 [00:03<00:19, 42.76it/s]\n",
      "Iteration:  17%|█▋        | 174/1001 [00:04<00:18, 44.09it/s]"
     ]
    },
    {
     "name": "stdout",
     "output_type": "stream",
     "text": [
      "{'Train':  best_epoch_indx:48\n",
      " auc:0.8837772482425875 \n",
      " apur:0.521996065070934 \n",
      " f1:0.47496754396317714 \n",
      " precision:0.33035626333935314 \n",
      " recall:0.8447523089840471 \n",
      ", 'Validation':  best_epoch_indx:48\n",
      " auc:0.8656952786488037 \n",
      " apur:0.4836737969044079 \n",
      " f1:0.4660620660337254 \n",
      " precision:0.32423107255520506 \n",
      " recall:0.828463476070529 \n",
      "}\n",
      "=====Epoch 49\n",
      "Training...\n"
     ]
    },
    {
     "name": "stderr",
     "output_type": "stream",
     "text": [
      "\r",
      "Iteration:   1%|          | 9/1001 [00:00<00:25, 39.25it/s]\r",
      "Iteration:  15%|█▌        | 153/1001 [00:03<00:19, 44.08it/s]\r",
      "Iteration:  18%|█▊        | 179/1001 [00:04<00:18, 44.31it/s]\r",
      "Iteration:   1%|▏         | 14/1001 [00:00<00:24, 40.73it/s]\r",
      "Iteration:  16%|█▌        | 158/1001 [00:03<00:19, 43.55it/s]\r",
      "Iteration:  18%|█▊        | 184/1001 [00:04<00:18, 44.36it/s]\n",
      "\r",
      "Iteration:   0%|          | 0/1001 [00:00<?, ?it/s]"
     ]
    },
    {
     "name": "stdout",
     "output_type": "stream",
     "text": [
      "{'Train':  best_epoch_indx:48\n",
      " auc:0.8845666507963752 \n",
      " apur:0.5270965441618609 \n",
      " f1:0.4747439844191745 \n",
      " precision:0.32995295119368606 \n",
      " recall:0.8459794564639369 \n",
      ", 'Validation':  best_epoch_indx:48\n",
      " auc:0.8681105800908042 \n",
      " apur:0.4940917855136397 \n",
      " f1:0.4647279416967381 \n",
      " precision:0.323132933189019 \n",
      " recall:0.8272040302267003 \n",
      "}\n",
      "=====Epoch 49\n",
      "Training...\n",
      "{'Train':  best_epoch_indx:48\n",
      " auc:0.8831498492796407 \n",
      " apur:0.5217069566970868 \n",
      " f1:0.4721046735951211 \n",
      " precision:0.3269125109078569 \n",
      " recall:0.849310084245291 \n",
      ", 'Validation':  best_epoch_indx:48\n",
      " auc:0.8730198774471379 \n",
      " apur:0.5004300523635571 \n",
      " f1:0.4623249299719888 \n",
      " precision:0.3201745877788555 \n",
      " recall:0.8314861460957179 \n",
      "}\n",
      "=====Epoch 49\n",
      "Training...\n"
     ]
    },
    {
     "name": "stderr",
     "output_type": "stream",
     "text": [
      "Iteration:  16%|█▋        | 163/1001 [00:03<00:19, 42.87it/s]\n",
      "Iteration: 100%|██████████| 1001/1001 [00:23<00:00, 43.17it/s]\n",
      "Iteration:  83%|████████▎ | 834/1001 [00:19<00:03, 44.74it/s]"
     ]
    },
    {
     "name": "stdout",
     "output_type": "stream",
     "text": [
      "Evaluating...\n"
     ]
    },
    {
     "name": "stderr",
     "output_type": "stream",
     "text": [
      "Iteration: 100%|██████████| 1001/1001 [00:23<00:00, 42.90it/s]\n",
      "Iteration:  86%|████████▋ | 864/1001 [00:19<00:03, 44.07it/s]"
     ]
    },
    {
     "name": "stdout",
     "output_type": "stream",
     "text": [
      "Evaluating...\n"
     ]
    },
    {
     "name": "stderr",
     "output_type": "stream",
     "text": [
      "Iteration: 100%|██████████| 1001/1001 [00:23<00:00, 43.11it/s]\n",
      "Iteration:  98%|█████████▊| 978/1001 [00:22<00:00, 42.79it/s]"
     ]
    },
    {
     "name": "stdout",
     "output_type": "stream",
     "text": [
      "Evaluating...\n"
     ]
    },
    {
     "name": "stderr",
     "output_type": "stream",
     "text": [
      "Iteration: 100%|█████████▉| 998/1001 [00:23<00:00, 42.15it/s]]\n",
      "Iteration:   0%|          | 0/1001 [00:00<?, ?it/s]"
     ]
    },
    {
     "name": "stdout",
     "output_type": "stream",
     "text": [
      "Evaluating...\n",
      "Evaluating...\n"
     ]
    },
    {
     "name": "stderr",
     "output_type": "stream",
     "text": [
      "Iteration: 100%|██████████| 1001/1001 [00:23<00:00, 42.74it/s]\n",
      "Iteration:  96%|█████████▋| 964/1001 [00:20<00:00, 57.77it/s]]\n",
      "Iteration:  99%|█████████▉| 995/1001 [00:21<00:00, 60.03it/s]]\n",
      "Iteration: 100%|██████████| 112/112 [00:01<00:00, 74.55it/s]s]\n",
      "Iteration:   0%|          | 4/1001 [00:00<00:28, 35.56it/s]"
     ]
    },
    {
     "name": "stdout",
     "output_type": "stream",
     "text": [
      "{'Train':  best_epoch_indx:49\n",
      " auc:0.8888636943508577 \n",
      " apur:0.5397984556865247 \n",
      " f1:0.4809061283892809 \n",
      " precision:0.3351745884739633 \n",
      " recall:0.8508494500265891 \n",
      ", 'Validation':  best_epoch_indx:49\n",
      " auc:0.872865505652485 \n",
      " apur:0.504692265111804 \n",
      " f1:0.465954415954416 \n",
      " precision:0.32482621648460774 \n",
      " recall:0.8239294710327456 \n",
      "}\n",
      "=====Epoch 50\n",
      "Training...\n"
     ]
    },
    {
     "name": "stderr",
     "output_type": "stream",
     "text": [
      "\r",
      "Iteration:   1%|          | 9/1001 [00:00<00:25, 38.82it/s]\r",
      "Iteration:   1%|▏         | 14/1001 [00:00<00:24, 40.26it/s]\n",
      "\r",
      "Iteration:   0%|          | 0/1001 [00:00<?, ?it/s]"
     ]
    },
    {
     "name": "stdout",
     "output_type": "stream",
     "text": [
      "{'Train':  best_epoch_indx:49\n",
      " auc:0.8888119275519332 \n",
      " apur:0.538163957491436 \n",
      " f1:0.4803800641398025 \n",
      " precision:0.3356127827073187 \n",
      " recall:0.8447759523076492 \n",
      ", 'Validation':  best_epoch_indx:49\n",
      " auc:0.8727897211870531 \n",
      " apur:0.5200646430693752 \n",
      " f1:0.4703176656604859 \n",
      " precision:0.32904263877715206 \n",
      " recall:0.8241813602015113 \n",
      "}\n",
      "=====Epoch 50\n",
      "Training...\n"
     ]
    },
    {
     "name": "stderr",
     "output_type": "stream",
     "text": [
      "Iteration:   3%|▎         | 29/1001 [00:00<00:22, 42.90it/s]\n",
      "Iteration:   2%|▏         | 24/1001 [00:00<00:23, 42.29it/s]\n",
      "Iteration:  25%|██▌       | 28/112 [00:00<00:01, 55.85it/s]]\n",
      "Iteration:  17%|█▋        | 169/1001 [00:03<00:18, 44.84it/s]\n",
      "Iteration:  15%|█▌        | 154/1001 [00:03<00:19, 44.50it/s]"
     ]
    },
    {
     "name": "stdout",
     "output_type": "stream",
     "text": [
      "{'Train':  best_epoch_indx:49\n",
      " auc:0.887211437425074 \n",
      " apur:0.5285657025225845 \n",
      " f1:0.4857614661075944 \n",
      " precision:0.34171146137026237 \n",
      " recall:0.839770500979569 \n",
      ", 'Validation':  best_epoch_indx:49\n",
      " auc:0.8690842281140267 \n",
      " apur:0.49064786159484197 \n",
      " f1:0.475105854869324 \n",
      " precision:0.3344983552631579 \n",
      " recall:0.819647355163728 \n",
      "}\n",
      "=====Epoch 50\n",
      "Training...\n",
      "{'Train':  best_epoch_indx:49\n",
      " auc:0.8877094450833988 \n",
      " apur:0.5346391202824062 \n",
      " f1:0.47734481374501214 \n",
      " precision:0.3320449369306237 \n",
      " recall:0.8487503148702734 \n",
      ", 'Validation':  best_epoch_indx:49\n",
      " auc:0.871533258207441 \n",
      " apur:0.5014620376299945 \n",
      " f1:0.466917239912063 \n",
      " precision:0.32494324351001874 \n",
      " recall:0.8292191435768262 \n",
      "}\n",
      "=====Epoch 50\n",
      "Training...\n"
     ]
    },
    {
     "name": "stderr",
     "output_type": "stream",
     "text": [
      "Iteration:  16%|█▌        | 159/1001 [00:03<00:18, 44.34it/s]\n",
      "Iteration:  17%|█▋        | 169/1001 [00:03<00:20, 41.32it/s]\n",
      "Iteration:  17%|█▋        | 174/1001 [00:04<00:19, 42.40it/s]"
     ]
    },
    {
     "name": "stdout",
     "output_type": "stream",
     "text": [
      "{'Train':  best_epoch_indx:49\n",
      " auc:0.887453212863717 \n",
      " apur:0.5353826184162701 \n",
      " f1:0.47602908988208714 \n",
      " precision:0.33071355381630296 \n",
      " recall:0.8491421534327857 \n",
      ", 'Validation':  best_epoch_indx:49\n",
      " auc:0.8750108578828916 \n",
      " apur:0.5106356110059835 \n",
      " f1:0.46629569627386064 \n",
      " precision:0.32365307519311626 \n",
      " recall:0.8337531486146096 \n",
      "}\n",
      "=====Epoch 50\n",
      "Training...\n"
     ]
    },
    {
     "name": "stderr",
     "output_type": "stream",
     "text": [
      "Iteration: 100%|██████████| 1001/1001 [00:22<00:00, 43.63it/s]\n",
      "Iteration:   0%|          | 0/1001 [00:00<?, ?it/s]"
     ]
    },
    {
     "name": "stdout",
     "output_type": "stream",
     "text": [
      "Evaluating...\n"
     ]
    },
    {
     "name": "stderr",
     "output_type": "stream",
     "text": [
      "Iteration: 100%|██████████| 1001/1001 [00:23<00:00, 43.48it/s]\n",
      "Iteration:   3%|▎         | 34/1001 [00:00<00:18, 52.86it/s]]"
     ]
    },
    {
     "name": "stdout",
     "output_type": "stream",
     "text": [
      "Evaluating...\n"
     ]
    },
    {
     "name": "stderr",
     "output_type": "stream",
     "text": [
      "Iteration:  98%|█████████▊| 984/1001 [00:22<00:00, 44.60it/s]]\n",
      "Iteration:  98%|█████████▊| 984/1001 [00:22<00:00, 43.52it/s]"
     ]
    },
    {
     "name": "stdout",
     "output_type": "stream",
     "text": [
      "Evaluating...\n"
     ]
    },
    {
     "name": "stderr",
     "output_type": "stream",
     "text": [
      "Iteration: 100%|██████████| 1001/1001 [00:23<00:00, 42.97it/s]\n",
      "Iteration: 100%|██████████| 1001/1001 [00:23<00:00, 43.36it/s]\n",
      "Iteration:  20%|██        | 202/1001 [00:04<00:17, 45.39it/s]"
     ]
    },
    {
     "name": "stdout",
     "output_type": "stream",
     "text": [
      "Evaluating...\n",
      "Evaluating...\n"
     ]
    },
    {
     "name": "stderr",
     "output_type": "stream",
     "text": [
      "Iteration: 100%|█████████▉| 996/1001 [00:20<00:00, 61.97it/s]]\n",
      "Iteration:  97%|█████████▋| 973/1001 [00:20<00:00, 57.26it/s]]\n",
      "Iteration: 100%|██████████| 112/112 [00:01<00:00, 67.97it/s]s]\n",
      "Iteration:   0%|          | 4/1001 [00:00<00:26, 37.77it/s]\n",
      "Iteration:   0%|          | 0/1001 [00:00<?, ?it/s]"
     ]
    },
    {
     "name": "stdout",
     "output_type": "stream",
     "text": [
      "{'Train':  best_epoch_indx:50\n",
      " auc:0.8891152505541509 \n",
      " apur:0.5417344642102488 \n",
      " f1:0.47021476958595343 \n",
      " precision:0.32265730038458734 \n",
      " recall:0.8664670155895771 \n",
      ", 'Validation':  best_epoch_indx:50\n",
      " auc:0.8711378229839801 \n",
      " apur:0.5045068684543915 \n",
      " f1:0.4561788506377725 \n",
      " precision:0.31341877120241235 \n",
      " recall:0.8377833753148615 \n",
      "}\n",
      "=====Epoch 51\n",
      "Training...\n",
      "{'Train':  best_epoch_indx:50\n",
      " auc:0.8873625703617993 \n",
      " apur:0.5290737333700224 \n",
      " f1:0.4744428661248632 \n",
      " precision:0.3282599355531686 \n",
      " recall:0.8553555934954798 \n",
      ", 'Validation':  best_epoch_indx:50\n",
      " auc:0.8700087617350635 \n",
      " apur:0.5083405143313748 \n",
      " f1:0.4634146341463414 \n",
      " precision:0.3210332103321033 \n",
      " recall:0.8327455919395466 \n",
      "}\n",
      "=====Epoch 51\n",
      "Training...\n"
     ]
    },
    {
     "name": "stderr",
     "output_type": "stream",
     "text": [
      "Iteration:   5%|▍         | 49/1001 [00:01<00:21, 44.54it/s]\n",
      "Iteration:   6%|▋         | 64/1001 [00:01<00:21, 44.07it/s]\n",
      "Iteration:   7%|▋         | 74/1001 [00:01<00:20, 44.97it/s]\n",
      "Iteration:  90%|█████████ | 101/112 [00:02<00:00, 51.90it/s]]\n",
      "Iteration:   0%|          | 0/1001 [00:00<?, ?it/s]"
     ]
    },
    {
     "name": "stdout",
     "output_type": "stream",
     "text": [
      "{'Train':  best_epoch_indx:50\n",
      " auc:0.8863947799099432 \n",
      " apur:0.5252335463557561 \n",
      " f1:0.47710510623607316 \n",
      " precision:0.3314799066745165 \n",
      " recall:0.8509375874615169 \n",
      ", 'Validation':  best_epoch_indx:50\n",
      " auc:0.8668172684523794 \n",
      " apur:0.48480565642501094 \n",
      " f1:0.46499470151889793 \n",
      " precision:0.32312223858615613 \n",
      " recall:0.8289672544080604 \n",
      "}\n",
      "=====Epoch 51\n",
      "Training...\n"
     ]
    },
    {
     "name": "stderr",
     "output_type": "stream",
     "text": [
      "Iteration:  17%|█▋        | 169/1001 [00:03<00:18, 44.46it/s]"
     ]
    },
    {
     "name": "stdout",
     "output_type": "stream",
     "text": [
      "{'Train':  best_epoch_indx:50\n",
      " auc:0.8873882195713829 \n",
      " apur:0.5334090985988285 \n",
      " f1:0.4800598721347759 \n",
      " precision:0.3354548691472316 \n",
      " recall:0.8437963559013686 \n",
      ", 'Validation':  best_epoch_indx:50\n",
      " auc:0.8710112869696234 \n",
      " apur:0.49763979650306445 \n",
      " f1:0.46801491681009755 \n",
      " precision:0.3271505915379988 \n",
      " recall:0.8219143576826197 \n",
      "}\n",
      "=====Epoch 51\n",
      "Training...\n",
      "{'Train':  best_epoch_indx:50\n",
      " auc:0.8862265682715369 \n",
      " apur:0.5291334405550443 \n",
      " f1:0.4758964876955742 \n",
      " precision:0.3304500152326239 \n",
      " recall:0.8500377844328136 \n",
      ", 'Validation':  best_epoch_indx:50\n",
      " auc:0.8737664549318789 \n",
      " apur:0.5039912361343573 \n",
      " f1:0.4677555618135736 \n",
      " precision:0.32460426030877465 \n",
      " recall:0.8367758186397984 \n",
      "}\n",
      "=====Epoch 51\n",
      "Training...\n"
     ]
    },
    {
     "name": "stderr",
     "output_type": "stream",
     "text": [
      "\n",
      "Iteration:  17%|█▋        | 174/1001 [00:04<00:18, 44.30it/s]\n",
      "Iteration:  81%|████████  | 809/1001 [00:18<00:04, 44.71it/s]]\n",
      "Iteration:  84%|████████▍ | 844/1001 [00:19<00:03, 44.26it/s]"
     ]
    },
    {
     "name": "stdout",
     "output_type": "stream",
     "text": [
      "Evaluating...\n"
     ]
    },
    {
     "name": "stderr",
     "output_type": "stream",
     "text": [
      "\r",
      "Iteration:   1%|          | 10/1001 [00:00<00:20, 48.93it/s]\r",
      "Iteration:  82%|████████▏ | 819/1001 [00:18<00:04, 44.77it/s]\r",
      "Iteration: 100%|█████████▉| 999/1001 [00:22<00:00, 44.62it/s]\r",
      "Iteration:  82%|████████▏ | 823/1001 [00:18<00:03, 44.51it/s]\r",
      "Iteration:  85%|████████▍ | 849/1001 [00:19<00:03, 44.82it/s]\r",
      "Iteration: 100%|██████████| 1001/1001 [00:22<00:00, 43.59it/s]\n",
      "\r",
      "Iteration:   0%|          | 0/1001 [00:00<?, ?it/s]\r",
      "Iteration:   2%|▏         | 16/1001 [00:00<00:19, 50.28it/s]\r",
      "Iteration:  82%|████████▏ | 824/1001 [00:18<00:03, 44.61it/s]\r",
      "Iteration:  83%|████████▎ | 828/1001 [00:18<00:03, 44.15it/s]\r",
      "Iteration:  85%|████████▌ | 854/1001 [00:19<00:03, 44.75it/s]\r",
      "Iteration:   0%|          | 4/1001 [00:00<00:27, 36.79it/s]"
     ]
    },
    {
     "name": "stdout",
     "output_type": "stream",
     "text": [
      "Evaluating...\n"
     ]
    },
    {
     "name": "stderr",
     "output_type": "stream",
     "text": [
      "Iteration: 100%|██████████| 1001/1001 [00:22<00:00, 43.72it/s]\n",
      "Iteration:  98%|█████████▊| 983/1001 [00:22<00:00, 44.01it/s]"
     ]
    },
    {
     "name": "stdout",
     "output_type": "stream",
     "text": [
      "Evaluating...\n"
     ]
    },
    {
     "name": "stderr",
     "output_type": "stream",
     "text": [
      "Iteration: 100%|██████████| 1001/1001 [00:23<00:00, 43.43it/s]\n",
      "Iteration: 100%|██████████| 1001/1001 [00:23<00:00, 43.36it/s]\n",
      "Iteration:   4%|▍         | 40/1001 [00:00<00:19, 48.30it/s]]"
     ]
    },
    {
     "name": "stdout",
     "output_type": "stream",
     "text": [
      "Evaluating...\n",
      "Evaluating...\n"
     ]
    },
    {
     "name": "stderr",
     "output_type": "stream",
     "text": [
      "Iteration:  96%|█████████▌| 956/1001 [00:19<00:00, 56.71it/s]]\n",
      "Iteration:  97%|█████████▋| 968/1001 [00:20<00:00, 54.29it/s]]\n",
      "Iteration: 100%|██████████| 112/112 [00:01<00:00, 65.59it/s]s]\n",
      "Iteration:   0%|          | 4/1001 [00:00<00:27, 35.71it/s]\n",
      "Iteration:   0%|          | 0/1001 [00:00<?, ?it/s]"
     ]
    },
    {
     "name": "stdout",
     "output_type": "stream",
     "text": [
      "{'Train':  best_epoch_indx:51\n",
      " auc:0.8846344263849916 \n",
      " apur:0.5277890132729399 \n",
      " f1:0.4729172523662262 \n",
      " precision:0.3279681119547675 \n",
      " recall:0.8474628453077332 \n",
      ", 'Validation':  best_epoch_indx:51\n",
      " auc:0.8690069565022112 \n",
      " apur:0.4945599862525121 \n",
      " f1:0.4605847129270869 \n",
      " precision:0.31970660146699265 \n",
      " recall:0.8234256926952142 \n",
      "}\n",
      "=====Epoch 52\n",
      "Training...\n",
      "{'Train':  best_epoch_indx:51\n",
      " auc:0.8858739895358273 \n",
      " apur:0.5224225879172462 \n",
      " f1:0.4773037944850341 \n",
      " precision:0.3317788141239174 \n",
      " recall:0.8502337037140698 \n",
      ", 'Validation':  best_epoch_indx:51\n",
      " auc:0.8695394191934798 \n",
      " apur:0.5096817648621548 \n",
      " f1:0.4664776754075124 \n",
      " precision:0.3245562130177515 \n",
      " recall:0.8289672544080604 \n",
      "}\n",
      "=====Epoch 52\n",
      "Training...\n"
     ]
    },
    {
     "name": "stderr",
     "output_type": "stream",
     "text": [
      "Iteration:   4%|▍         | 44/1001 [00:01<00:21, 44.63it/s]\n",
      "Iteration:   8%|▊         | 79/1001 [00:01<00:20, 45.15it/s]\n",
      "Iteration:   8%|▊         | 84/1001 [00:01<00:20, 44.97it/s]\n",
      "Iteration:  15%|█▍        | 148/1001 [00:03<00:19, 43.90it/s]\n",
      "Iteration:  89%|████████▉ | 100/112 [00:01<00:00, 50.61it/s]]"
     ]
    },
    {
     "name": "stdout",
     "output_type": "stream",
     "text": [
      "{'Train':  best_epoch_indx:51\n",
      " auc:0.8843257603786204 \n",
      " apur:0.520583443515604 \n",
      " f1:0.46890201395751463 \n",
      " precision:0.32280690651731375 \n",
      " recall:0.8565631122306185 \n",
      ", 'Validation':  best_epoch_indx:51\n",
      " auc:0.8655368825588929 \n",
      " apur:0.4803552662570561 \n",
      " f1:0.45625172508970463 \n",
      " precision:0.3141988215168219 \n",
      " recall:0.8327455919395466 \n",
      "}\n",
      "=====Epoch 52\n",
      "Training...\n"
     ]
    },
    {
     "name": "stderr",
     "output_type": "stream",
     "text": [
      "Iteration:   3%|▎         | 29/1001 [00:00<00:22, 42.63it/s]]\n",
      "Iteration:   3%|▎         | 34/1001 [00:00<00:22, 43.35it/s]]\n",
      "Iteration:   0%|          | 4/1001 [00:00<00:26, 37.19it/s]"
     ]
    },
    {
     "name": "stdout",
     "output_type": "stream",
     "text": [
      "{'Train':  best_epoch_indx:51\n",
      " auc:0.8832890283111404 \n",
      " apur:0.5207594202092678 \n",
      " f1:0.4743889479277364 \n",
      " precision:0.3300111712264254 \n",
      " recall:0.8433485404013547 \n",
      ", 'Validation':  best_epoch_indx:51\n",
      " auc:0.8674016484096233 \n",
      " apur:0.48917119511499335 \n",
      " f1:0.46604697367487397 \n",
      " precision:0.3244097599525832 \n",
      " recall:0.8272040302267003 \n",
      "}\n",
      "=====Epoch 52\n",
      "Training...\n",
      "{'Train':  best_epoch_indx:51\n",
      " auc:0.8842554637453073 \n",
      " apur:0.5295284785486586 \n",
      " f1:0.47063451659184524 \n",
      " precision:0.3248432059459287 \n",
      " recall:0.8538442161829326 \n",
      ", 'Validation':  best_epoch_indx:51\n",
      " auc:0.8721907611952338 \n",
      " apur:0.5036972604290627 \n",
      " f1:0.4607279029462738 \n",
      " precision:0.31783835485413675 \n",
      " recall:0.8370277078085643 \n",
      "}\n",
      "=====Epoch 52\n",
      "Training...\n"
     ]
    },
    {
     "name": "stderr",
     "output_type": "stream",
     "text": [
      "Iteration: 100%|██████████| 1001/1001 [00:22<00:00, 43.72it/s]\n",
      "Iteration:   0%|          | 0/1001 [00:00<?, ?it/s]"
     ]
    },
    {
     "name": "stdout",
     "output_type": "stream",
     "text": [
      "Evaluating...\n",
      "Evaluating...\n"
     ]
    },
    {
     "name": "stderr",
     "output_type": "stream",
     "text": [
      "Iteration: 100%|██████████| 1001/1001 [00:22<00:00, 43.74it/s]\n",
      "Iteration: 100%|██████████| 1001/1001 [00:22<00:00, 43.66it/s]\n",
      "Iteration:   0%|          | 5/1001 [00:00<00:20, 48.77it/s]s]"
     ]
    },
    {
     "name": "stdout",
     "output_type": "stream",
     "text": [
      "Evaluating...\n"
     ]
    },
    {
     "name": "stderr",
     "output_type": "stream",
     "text": [
      "Iteration: 100%|██████████| 1001/1001 [00:23<00:00, 43.28it/s]\n",
      "Iteration: 100%|██████████| 1001/1001 [00:23<00:00, 43.35it/s]\n",
      "Iteration:  23%|██▎       | 232/1001 [00:04<00:16, 46.53it/s]"
     ]
    },
    {
     "name": "stdout",
     "output_type": "stream",
     "text": [
      "Evaluating...\n",
      "Evaluating...\n"
     ]
    },
    {
     "name": "stderr",
     "output_type": "stream",
     "text": [
      "Iteration: 100%|██████████| 1001/1001 [00:20<00:00, 48.46it/s]\n",
      "Iteration:  96%|█████████▌| 957/1001 [00:19<00:00, 55.20it/s]\n",
      "Iteration: 100%|██████████| 112/112 [00:01<00:00, 64.91it/s]s]\n",
      "Iteration:   0%|          | 0/1001 [00:00<?, ?it/s]\n",
      "Iteration:   0%|          | 4/1001 [00:00<00:26, 37.65it/s]"
     ]
    },
    {
     "name": "stdout",
     "output_type": "stream",
     "text": [
      "{'Train':  best_epoch_indx:52\n",
      " auc:0.8818438713156069 \n",
      " apur:0.5132163453181304 \n",
      " f1:0.4705147913756643 \n",
      " precision:0.3262064488206016 \n",
      " recall:0.8437963559013686 \n",
      ", 'Validation':  best_epoch_indx:52\n",
      " auc:0.8670325489629018 \n",
      " apur:0.4979383988484378 \n",
      " f1:0.45972133814272587 \n",
      " precision:0.3195987806077294 \n",
      " recall:0.818639798488665 \n",
      "}\n",
      "=====Epoch 53\n",
      "Training...\n",
      "{'Train':  best_epoch_indx:52\n",
      " auc:0.8819520794646902 \n",
      " apur:0.5192099692672422 \n",
      " f1:0.4682654871334116 \n",
      " precision:0.3226622359564831 \n",
      " recall:0.8533404237454169 \n",
      ", 'Validation':  best_epoch_indx:52\n",
      " auc:0.8654510909268728 \n",
      " apur:0.4869353682739061 \n",
      " f1:0.4551628551628552 \n",
      " precision:0.3139579349904398 \n",
      " recall:0.8272040302267003 \n",
      "}\n",
      "=====Epoch 53\n",
      "Training...\n"
     ]
    },
    {
     "name": "stderr",
     "output_type": "stream",
     "text": [
      "Iteration:   3%|▎         | 34/1001 [00:00<00:22, 43.53it/s]\n",
      "Iteration:   8%|▊         | 79/1001 [00:01<00:20, 44.90it/s]\n",
      "Iteration:   0%|          | 0/112 [00:00<?, ?it/s]\n",
      "Iteration:  14%|█▍        | 144/1001 [00:03<00:19, 43.72it/s]\n",
      "Iteration:   0%|          | 4/1001 [00:00<00:30, 33.12it/s]s]"
     ]
    },
    {
     "name": "stdout",
     "output_type": "stream",
     "text": [
      "{'Train':  best_epoch_indx:52\n",
      " auc:0.8827484025178187 \n",
      " apur:0.5192684006833351 \n",
      " f1:0.47507919829990275 \n",
      " precision:0.3309594831097071 \n",
      " recall:0.8415337251609292 \n",
      ", 'Validation':  best_epoch_indx:52\n",
      " auc:0.8656579671317507 \n",
      " apur:0.4876974042197004 \n",
      " f1:0.46470420120034295 \n",
      " precision:0.3243566726511071 \n",
      " recall:0.8191435768261964 \n",
      "}\n",
      "=====Epoch 53\n",
      "Training...\n"
     ]
    },
    {
     "name": "stderr",
     "output_type": "stream",
     "text": [
      "Iteration:  19%|█▉        | 189/1001 [00:04<00:18, 44.93it/s]\n",
      "Iteration:   0%|          | 0/1001 [00:00<?, ?it/s]\n",
      "Iteration:   0%|          | 0/1001 [00:00<?, ?it/s]"
     ]
    },
    {
     "name": "stdout",
     "output_type": "stream",
     "text": [
      "{'Train':  best_epoch_indx:52\n",
      " auc:0.879877721874353 \n",
      " apur:0.5095425403452896 \n",
      " f1:0.48282225417910074 \n",
      " precision:0.3433997067587381 \n",
      " recall:0.8128411094629013 \n",
      ", 'Validation':  best_epoch_indx:52\n",
      " auc:0.868151277330172 \n",
      " apur:0.48738782288228577 \n",
      " f1:0.47287110978431235 \n",
      " precision:0.3359847279669106 \n",
      " recall:0.7979848866498741 \n",
      "}\n",
      "=====Epoch 53\n",
      "Training...\n",
      "{'Train':  best_epoch_indx:52\n",
      " auc:0.881902827329756 \n",
      " apur:0.5112741331989459 \n",
      " f1:0.46873320743709024 \n",
      " precision:0.32294234003617633 \n",
      " recall:0.8544879509642027 \n",
      ", 'Validation':  best_epoch_indx:52\n",
      " auc:0.8662763285981505 \n",
      " apur:0.4769482151684198 \n",
      " f1:0.4591229768986029 \n",
      " precision:0.31645690312738367 \n",
      " recall:0.8360201511335013 \n",
      "}\n",
      "=====Epoch 53\n",
      "Training...\n"
     ]
    },
    {
     "name": "stderr",
     "output_type": "stream",
     "text": [
      "Iteration:  80%|████████  | 804/1001 [00:18<00:04, 44.71it/s]]\n",
      "Iteration:  81%|████████  | 809/1001 [00:18<00:04, 44.11it/s]"
     ]
    },
    {
     "name": "stdout",
     "output_type": "stream",
     "text": [
      "Evaluating...\n",
      "Evaluating...\n"
     ]
    },
    {
     "name": "stderr",
     "output_type": "stream",
     "text": [
      "Iteration: 100%|██████████| 1001/1001 [00:22<00:00, 43.62it/s]\n",
      "Iteration: 100%|██████████| 1001/1001 [00:22<00:00, 43.72it/s]\n",
      "Iteration:   0%|          | 0/1001 [00:00<?, ?it/s]41.56it/s]"
     ]
    },
    {
     "name": "stdout",
     "output_type": "stream",
     "text": [
      "Evaluating...\n"
     ]
    },
    {
     "name": "stderr",
     "output_type": "stream",
     "text": [
      "Iteration: 100%|██████████| 1001/1001 [00:23<00:00, 43.35it/s]\n",
      "Iteration: 100%|██████████| 1001/1001 [00:23<00:00, 43.11it/s]\n",
      "Iteration:   7%|▋         | 68/1001 [00:01<00:18, 50.99it/s]]"
     ]
    },
    {
     "name": "stdout",
     "output_type": "stream",
     "text": [
      "Evaluating...\n",
      "Evaluating...\n"
     ]
    },
    {
     "name": "stderr",
     "output_type": "stream",
     "text": [
      "Iteration:  96%|█████████▌| 959/1001 [00:19<00:00, 65.50it/s]]\n",
      "Iteration:   0%|          | 0/112 [00:00<?, ?it/s]\n",
      "Iteration: 100%|██████████| 112/112 [00:01<00:00, 64.00it/s]s]\n",
      "Iteration:   0%|          | 0/1001 [00:00<?, ?it/s]\n",
      "Iteration:   0%|          | 4/1001 [00:00<00:28, 34.99it/s]"
     ]
    },
    {
     "name": "stdout",
     "output_type": "stream",
     "text": [
      "{'Train':  best_epoch_indx:53\n",
      " auc:0.8803880838330079 \n",
      " apur:0.5099187219716163 \n",
      " f1:0.4682785986690753 \n",
      " precision:0.3233196524705506 \n",
      " recall:0.8488622687452769 \n",
      ", 'Validation':  best_epoch_indx:53\n",
      " auc:0.8653215077624327 \n",
      " apur:0.4810228104285407 \n",
      " f1:0.45773569140788184 \n",
      " precision:0.3163010007698229 \n",
      " recall:0.8279596977329975 \n",
      "}\n",
      "=====Epoch 54\n",
      "Training...\n",
      "{'Train':  best_epoch_indx:53\n",
      " auc:0.8786890808968435 \n",
      " apur:0.5090368443231168 \n",
      " f1:0.48175146038244543 \n",
      " precision:0.3427911658475931 \n",
      " recall:0.8101822049315682 \n",
      ", 'Validation':  best_epoch_indx:53\n",
      " auc:0.8663851688562576 \n",
      " apur:0.49090663033460324 \n",
      " f1:0.47420350982902765 \n",
      " precision:0.3382400343827227 \n",
      " recall:0.7929471032745592 \n",
      "}\n",
      "=====Epoch 54\n",
      "Training...\n"
     ]
    },
    {
     "name": "stderr",
     "output_type": "stream",
     "text": [
      "Iteration:   3%|▎         | 34/1001 [00:00<00:22, 43.03it/s]\n",
      "Iteration:  40%|████      | 45/112 [00:00<00:01, 60.88it/s]]\n",
      "Iteration:  11%|█         | 12/112 [00:00<00:01, 58.51it/s]]\n",
      "Iteration:  75%|███████▌  | 84/112 [00:01<00:00, 54.83it/s]s]\n",
      "Iteration:  64%|██████▍   | 72/112 [00:01<00:00, 53.48it/s]s]"
     ]
    },
    {
     "name": "stdout",
     "output_type": "stream",
     "text": [
      "{'Train':  best_epoch_indx:53\n",
      " auc:0.8771339916468612 \n",
      " apur:0.4991834577229192 \n",
      " f1:0.4613519064472857 \n",
      " precision:0.31633702983880185 \n",
      " recall:0.8518611810803246 \n",
      ", 'Validation':  best_epoch_indx:53\n",
      " auc:0.8615220630380352 \n",
      " apur:0.45896937912227603 \n",
      " f1:0.45416638184428193 \n",
      " precision:0.31166150670794635 \n",
      " recall:0.8367758186397984 \n",
      "}\n",
      "=====Epoch 54\n",
      "Training...\n"
     ]
    },
    {
     "name": "stderr",
     "output_type": "stream",
     "text": [
      "Iteration:  17%|█▋        | 173/1001 [00:04<00:19, 43.20it/s]\n",
      "Iteration:  18%|█▊        | 178/1001 [00:04<00:18, 43.94it/s]"
     ]
    },
    {
     "name": "stdout",
     "output_type": "stream",
     "text": [
      "{'Train':  best_epoch_indx:53\n",
      " auc:0.8755124597301726 \n",
      " apur:0.4997324167617239 \n",
      " f1:0.47160955808901645 \n",
      " precision:0.32899728997289973 \n",
      " recall:0.8324610260572644 \n",
      ", 'Validation':  best_epoch_indx:53\n",
      " auc:0.8659546335495595 \n",
      " apur:0.4798509415720813 \n",
      " f1:0.4645124473928241 \n",
      " precision:0.3240123395362723 \n",
      " recall:0.8201511335012595 \n",
      "}\n",
      "=====Epoch 54\n",
      "Training...\n"
     ]
    },
    {
     "name": "stderr",
     "output_type": "stream",
     "text": [
      "\r",
      "Iteration:   0%|          | 4/1001 [00:00<00:28, 35.25it/s]\r",
      "Iteration:   4%|▍         | 42/1001 [00:00<00:21, 44.07it/s]\r",
      "Iteration:  18%|█▊        | 183/1001 [00:04<00:18, 45.05it/s]\r",
      "Iteration:  18%|█▊        | 183/1001 [00:04<00:18, 44.45it/s]\r",
      "Iteration:   1%|          | 9/1001 [00:00<00:25, 39.22it/s]\r",
      "Iteration:   5%|▍         | 47/1001 [00:01<00:21, 44.51it/s]\r",
      "Iteration:  19%|█▉        | 188/1001 [00:04<00:18, 45.11it/s]\n",
      "\r",
      "Iteration:   0%|          | 0/1001 [00:00<?, ?it/s]\r",
      "Iteration:  19%|█▉        | 188/1001 [00:04<00:18, 44.60it/s]"
     ]
    },
    {
     "name": "stdout",
     "output_type": "stream",
     "text": [
      "{'Train':  best_epoch_indx:53\n",
      " auc:0.8804135563359026 \n",
      " apur:0.5098330403377723 \n",
      " f1:0.4684200303018531 \n",
      " precision:0.3242127000516262 \n",
      " recall:0.8436844020263652 \n",
      ", 'Validation':  best_epoch_indx:53\n",
      " auc:0.8640990520063232 \n",
      " apur:0.48137275744663105 \n",
      " f1:0.4603351955307262 \n",
      " precision:0.3184541062801932 \n",
      " recall:0.8302267002518892 \n",
      "}\n",
      "=====Epoch 54\n",
      "Training...\n"
     ]
    },
    {
     "name": "stderr",
     "output_type": "stream",
     "text": [
      "Iteration: 100%|██████████| 1001/1001 [00:22<00:00, 43.71it/s]\n",
      "Iteration: 100%|██████████| 1001/1001 [00:23<00:00, 43.45it/s]\n",
      "Iteration:  82%|████████▏ | 823/1001 [00:18<00:04, 43.11it/s]"
     ]
    },
    {
     "name": "stdout",
     "output_type": "stream",
     "text": [
      "Evaluating...\n",
      "Evaluating...\n"
     ]
    },
    {
     "name": "stderr",
     "output_type": "stream",
     "text": [
      "Iteration: 100%|██████████| 1001/1001 [00:23<00:00, 43.32it/s]\n",
      "Iteration:  17%|█▋        | 167/1001 [00:03<00:18, 45.79it/s]"
     ]
    },
    {
     "name": "stdout",
     "output_type": "stream",
     "text": [
      "Evaluating...\n"
     ]
    },
    {
     "name": "stderr",
     "output_type": "stream",
     "text": [
      "Iteration: 100%|██████████| 1001/1001 [00:23<00:00, 43.37it/s]\n",
      "Iteration:   4%|▍         | 45/1001 [00:00<00:19, 48.21it/s]]"
     ]
    },
    {
     "name": "stdout",
     "output_type": "stream",
     "text": [
      "Evaluating...\n"
     ]
    },
    {
     "name": "stderr",
     "output_type": "stream",
     "text": [
      "\r",
      "Iteration:   0%|          | 4/1001 [00:00<00:27, 36.35it/s]\r",
      "Iteration:  99%|█████████▉| 994/1001 [00:22<00:00, 43.84it/s]\r",
      "Iteration:  21%|██        | 211/1001 [00:04<00:17, 45.90it/s]\r",
      "Iteration:  22%|██▏       | 219/1001 [00:04<00:16, 46.90it/s]\r",
      "Iteration:   5%|▍         | 50/1001 [00:01<00:19, 47.95it/s]\r",
      "Iteration:   1%|          | 9/1001 [00:00<00:23, 41.89it/s]\r",
      "Iteration: 100%|█████████▉| 999/1001 [00:23<00:00, 43.50it/s]\r",
      "Iteration:  22%|██▏       | 216/1001 [00:04<00:17, 45.40it/s]\r",
      "Iteration:  22%|██▏       | 224/1001 [00:04<00:16, 46.15it/s]\r",
      "Iteration: 100%|██████████| 1001/1001 [00:23<00:00, 43.27it/s]\r",
      "Iteration:   6%|▌         | 56/1001 [00:01<00:19, 49.65it/s]\n",
      "\r",
      "Iteration:   0%|          | 0/1001 [00:00<?, ?it/s]"
     ]
    },
    {
     "name": "stdout",
     "output_type": "stream",
     "text": [
      "Evaluating...\n"
     ]
    },
    {
     "name": "stderr",
     "output_type": "stream",
     "text": [
      "Iteration:  97%|█████████▋| 970/1001 [00:19<00:00, 63.13it/s]]\n",
      "Iteration:   0%|          | 0/112 [00:00<?, ?it/s]\n",
      "Iteration: 100%|██████████| 112/112 [00:01<00:00, 68.45it/s]s]\n",
      "Iteration:   0%|          | 0/1001 [00:00<?, ?it/s]\n",
      "Iteration:   0%|          | 4/1001 [00:00<00:27, 36.33it/s]"
     ]
    },
    {
     "name": "stdout",
     "output_type": "stream",
     "text": [
      "{'Train':  best_epoch_indx:54\n",
      " auc:0.8770621041466584 \n",
      " apur:0.5039945486788464 \n",
      " f1:0.46985496069064836 \n",
      " precision:0.32682285964528135 \n",
      " recall:0.8355117691511097 \n",
      ", 'Validation':  best_epoch_indx:54\n",
      " auc:0.8629745336253227 \n",
      " apur:0.47643348999953494 \n",
      " f1:0.46001988353927004 \n",
      " precision:0.3203125 \n",
      " recall:0.8158690176322418 \n",
      "}\n",
      "=====Epoch 55\n",
      "Training...\n",
      "{'Train':  best_epoch_indx:54\n",
      " auc:0.8766610570700824 \n",
      " apur:0.49943011124095477 \n",
      " f1:0.46288684256856577 \n",
      " precision:0.3185687795010115 \n",
      " recall:0.8462593411514456 \n",
      ", 'Validation':  best_epoch_indx:54\n",
      " auc:0.8640434490173219 \n",
      " apur:0.4871707927748624 \n",
      " f1:0.4541876683007664 \n",
      " precision:0.31285075620660135 \n",
      " recall:0.828463476070529 \n",
      "}\n",
      "=====Epoch 55\n",
      "Training...\n"
     ]
    },
    {
     "name": "stderr",
     "output_type": "stream",
     "text": [
      "Iteration:   3%|▎         | 29/1001 [00:00<00:22, 43.26it/s]\n",
      "Iteration:  35%|███▍      | 39/112 [00:00<00:01, 60.38it/s]]\n",
      "Iteration:   7%|▋         | 69/1001 [00:01<00:20, 44.97it/s]\n",
      "Iteration:  13%|█▎        | 134/1001 [00:03<00:20, 41.97it/s]\n",
      "Iteration:  14%|█▍        | 144/1001 [00:03<00:19, 43.18it/s]"
     ]
    },
    {
     "name": "stdout",
     "output_type": "stream",
     "text": [
      "{'Train':  best_epoch_indx:54\n",
      " auc:0.8781344163452968 \n",
      " apur:0.49858315094564426 \n",
      " f1:0.4648241782619006 \n",
      " precision:0.3198244192044127 \n",
      " recall:0.8503498460677302 \n",
      ", 'Validation':  best_epoch_indx:54\n",
      " auc:0.8616262661422882 \n",
      " apur:0.460127042535715 \n",
      " f1:0.45533061562910243 \n",
      " precision:0.3137198895553651 \n",
      " recall:0.8299748110831234 \n",
      "}\n",
      "=====Epoch 55\n",
      "Training...\n"
     ]
    },
    {
     "name": "stderr",
     "output_type": "stream",
     "text": [
      "Iteration:  17%|█▋        | 174/1001 [00:04<00:18, 45.08it/s]\n",
      "Iteration:  17%|█▋        | 174/1001 [00:04<00:18, 44.23it/s]\n",
      "Iteration:   0%|          | 0/1001 [00:00<?, ?it/s]"
     ]
    },
    {
     "name": "stdout",
     "output_type": "stream",
     "text": [
      "{'Train':  best_epoch_indx:54\n",
      " auc:0.8763487988396451 \n",
      " apur:0.5019624379338539 \n",
      " f1:0.4591936547896178 \n",
      " precision:0.31491419656786274 \n",
      " recall:0.8474628453077332 \n",
      ", 'Validation':  best_epoch_indx:54\n",
      " auc:0.8667783026456892 \n",
      " apur:0.4819185262044452 \n",
      " f1:0.4547382825863838 \n",
      " precision:0.3121653358384218 \n",
      " recall:0.8370277078085643 \n",
      "}\n",
      "=====Epoch 55\n",
      "Training...\n",
      "{'Train':  best_epoch_indx:54\n",
      " auc:0.8762975732643039 \n",
      " apur:0.5039384696609837 \n",
      " f1:0.466390261803815 \n",
      " precision:0.3234211210257299 \n",
      " recall:0.8359036077136219 \n",
      ", 'Validation':  best_epoch_indx:54\n",
      " auc:0.8638096027484866 \n",
      " apur:0.4785068650353861 \n",
      " f1:0.4579347214406303 \n",
      " precision:0.31768495022447785 \n",
      " recall:0.8198992443324937 \n",
      "}\n",
      "=====Epoch 55\n",
      "Training...\n"
     ]
    },
    {
     "name": "stderr",
     "output_type": "stream",
     "text": [
      "Iteration: 100%|██████████| 1001/1001 [00:22<00:00, 43.76it/s]\n",
      "Iteration: 100%|██████████| 1001/1001 [00:22<00:00, 43.69it/s]\n",
      "Iteration:   0%|          | 3/1001 [00:00<00:34, 28.83it/s]s]"
     ]
    },
    {
     "name": "stdout",
     "output_type": "stream",
     "text": [
      "Evaluating...\n",
      "Evaluating...\n"
     ]
    },
    {
     "name": "stderr",
     "output_type": "stream",
     "text": [
      "Iteration: 100%|██████████| 1001/1001 [00:22<00:00, 43.67it/s]\n",
      "Iteration:  97%|█████████▋| 968/1001 [00:22<00:00, 44.63it/s]"
     ]
    },
    {
     "name": "stdout",
     "output_type": "stream",
     "text": [
      "Evaluating...\n"
     ]
    },
    {
     "name": "stderr",
     "output_type": "stream",
     "text": [
      "Iteration: 100%|██████████| 1001/1001 [00:23<00:00, 43.38it/s]\n",
      "Iteration: 100%|██████████| 1001/1001 [00:23<00:00, 43.40it/s]\n",
      "Iteration:   0%|          | 4/1001 [00:00<00:27, 36.30it/s]]]"
     ]
    },
    {
     "name": "stdout",
     "output_type": "stream",
     "text": [
      "Evaluating...\n",
      "Evaluating...\n"
     ]
    },
    {
     "name": "stderr",
     "output_type": "stream",
     "text": [
      "Iteration:  96%|█████████▌| 959/1001 [00:19<00:00, 58.85it/s]]\n",
      "Iteration:  98%|█████████▊| 981/1001 [00:20<00:00, 64.94it/s]\n",
      "Iteration: 100%|██████████| 112/112 [00:01<00:00, 68.43it/s]s]\n",
      "Iteration:   0%|          | 0/1001 [00:00<?, ?it/s]"
     ]
    },
    {
     "name": "stdout",
     "output_type": "stream",
     "text": [
      "{'Train':  best_epoch_indx:55\n",
      " auc:0.8782143333253325 \n",
      " apur:0.5102204376766817 \n",
      " f1:0.4761282094744574 \n",
      " precision:0.3345432272407613 \n",
      " recall:0.8254918973382966 \n",
      ", 'Validation':  best_epoch_indx:55\n",
      " auc:0.8632747357658019 \n",
      " apur:0.4773175374213004 \n",
      " f1:0.4628687690742625 \n",
      " precision:0.325265522875817 \n",
      " recall:0.8022670025188917 \n",
      "}\n",
      "=====Epoch 56\n",
      "Training...\n",
      "{'Train':  best_epoch_indx:55\n",
      " auc:0.8779298214432407 \n",
      " apur:0.494255934944391 \n",
      " f1:0.4703997738462626 \n",
      " precision:0.32692265711977997 \n",
      " recall:0.8383106160261972 \n",
      ", 'Validation':  best_epoch_indx:55\n",
      " auc:0.8641314306545356 \n",
      " apur:0.48093442459994273 \n",
      " f1:0.4628474191718661 \n",
      " precision:0.32208407341622264 \n",
      " recall:0.8221662468513854 \n",
      "}\n",
      "=====Epoch 56\n",
      "Training...\n"
     ]
    },
    {
     "name": "stderr",
     "output_type": "stream",
     "text": [
      "Iteration:   0%|          | 4/1001 [00:00<00:28, 35.19it/s]\n",
      "Iteration:   4%|▍         | 39/1001 [00:00<00:21, 44.30it/s]\n",
      "Iteration:   7%|▋         | 69/1001 [00:01<00:20, 45.08it/s]\n",
      "Iteration:   7%|▋         | 74/1001 [00:01<00:21, 44.12it/s]\n",
      "Iteration:  79%|███████▉  | 89/112 [00:01<00:00, 53.63it/s]s]\n",
      "Iteration:  14%|█▍        | 144/1001 [00:03<00:19, 44.29it/s]"
     ]
    },
    {
     "name": "stdout",
     "output_type": "stream",
     "text": [
      "{'Train':  best_epoch_indx:55\n",
      " auc:0.8783145460046445 \n",
      " apur:0.5028642012951947 \n",
      " f1:0.4693745265410358 \n",
      " precision:0.3255196767659261 \n",
      " recall:0.8410579345088162 \n",
      ", 'Validation':  best_epoch_indx:55\n",
      " auc:0.8611998879883058 \n",
      " apur:0.47308225279007604 \n",
      " f1:0.45736379613356765 \n",
      " precision:0.3172111165285227 \n",
      " recall:0.8193954659949623 \n",
      "}\n",
      "=====Epoch 56\n",
      "Training...\n"
     ]
    },
    {
     "name": "stderr",
     "output_type": "stream",
     "text": [
      "Iteration: 100%|██████████| 112/112 [00:02<00:00, 51.38it/s]]\n",
      "Iteration:  18%|█▊        | 184/1001 [00:04<00:18, 44.74it/s]"
     ]
    },
    {
     "name": "stdout",
     "output_type": "stream",
     "text": [
      "{'Train':  best_epoch_indx:55\n",
      " auc:0.8784749417888953 \n",
      " apur:0.5050426285878807 \n",
      " f1:0.46093685249508365 \n",
      " precision:0.3153662157703728 \n",
      " recall:0.8561112821517535 \n",
      ", 'Validation':  best_epoch_indx:55\n",
      " auc:0.8692640356832847 \n",
      " apur:0.4850631898969372 \n",
      " f1:0.45501424888044517 \n",
      " precision:0.3113855869242199 \n",
      " recall:0.8445843828715365 \n",
      "}\n",
      "=====Epoch 56\n",
      "Training...\n"
     ]
    },
    {
     "name": "stderr",
     "output_type": "stream",
     "text": [
      "\r",
      "Iteration:  18%|█▊        | 179/1001 [00:04<00:18, 45.09it/s]\r",
      "Iteration:   4%|▍         | 43/1001 [00:01<00:22, 43.51it/s]\r",
      "Iteration:   1%|          | 9/1001 [00:00<00:25, 38.86it/s]\r",
      "Iteration:  19%|█▉        | 189/1001 [00:04<00:18, 45.01it/s]\n",
      "\r",
      "Iteration:   0%|          | 0/1001 [00:00<?, ?it/s]\r",
      "Iteration:  18%|█▊        | 184/1001 [00:04<00:18, 44.95it/s]\r",
      "Iteration:   5%|▍         | 48/1001 [00:01<00:21, 43.79it/s]\r",
      "Iteration:   1%|▏         | 14/1001 [00:00<00:24, 39.81it/s]\r",
      "Iteration:   0%|          | 4/1001 [00:00<00:28, 35.53it/s]\r",
      "Iteration:  19%|█▉        | 194/1001 [00:04<00:18, 44.20it/s]"
     ]
    },
    {
     "name": "stdout",
     "output_type": "stream",
     "text": [
      "{'Train':  best_epoch_indx:55\n",
      " auc:0.8764107780380328 \n",
      " apur:0.49979822529652834 \n",
      " f1:0.47036873760115877 \n",
      " precision:0.32722154678583554 \n",
      " recall:0.8361555039323798 \n",
      ", 'Validation':  best_epoch_indx:55\n",
      " auc:0.8608692229184429 \n",
      " apur:0.4745528410702192 \n",
      " f1:0.4615165944140431 \n",
      " precision:0.32145332145332145 \n",
      " recall:0.8178841309823678 \n",
      "}\n",
      "=====Epoch 56\n",
      "Training...\n"
     ]
    },
    {
     "name": "stderr",
     "output_type": "stream",
     "text": [
      "Iteration: 100%|██████████| 1001/1001 [00:22<00:00, 43.83it/s]\n",
      "Iteration:   0%|          | 0/1001 [00:00<?, ?it/s]"
     ]
    },
    {
     "name": "stdout",
     "output_type": "stream",
     "text": [
      "Evaluating...\n"
     ]
    },
    {
     "name": "stderr",
     "output_type": "stream",
     "text": [
      "Iteration: 100%|██████████| 1001/1001 [00:22<00:00, 43.53it/s]\n",
      "Iteration:   2%|▏         | 21/1001 [00:00<00:19, 49.06it/s]]"
     ]
    },
    {
     "name": "stdout",
     "output_type": "stream",
     "text": [
      "Evaluating...\n"
     ]
    },
    {
     "name": "stderr",
     "output_type": "stream",
     "text": [
      "Iteration: 100%|██████████| 1001/1001 [00:22<00:00, 43.63it/s]\n",
      "Iteration:  97%|█████████▋| 969/1001 [00:22<00:00, 44.38it/s]"
     ]
    },
    {
     "name": "stdout",
     "output_type": "stream",
     "text": [
      "Evaluating...\n"
     ]
    },
    {
     "name": "stderr",
     "output_type": "stream",
     "text": [
      "Iteration: 100%|██████████| 1001/1001 [00:23<00:00, 43.49it/s]\n",
      "Iteration:   5%|▌         | 54/1001 [00:01<00:18, 50.50it/s]]"
     ]
    },
    {
     "name": "stdout",
     "output_type": "stream",
     "text": [
      "Evaluating...\n"
     ]
    },
    {
     "name": "stderr",
     "output_type": "stream",
     "text": [
      "\r",
      "Iteration:   1%|          | 9/1001 [00:00<00:23, 42.94it/s]\r",
      "Iteration: 100%|██████████| 1001/1001 [00:23<00:00, 43.52it/s]\n",
      "\r",
      "Iteration:   0%|          | 0/1001 [00:00<?, ?it/s]\r",
      "Iteration:  23%|██▎       | 227/1001 [00:04<00:15, 49.69it/s]\r",
      "Iteration:  21%|██        | 209/1001 [00:04<00:16, 47.49it/s]\r",
      "Iteration:   6%|▌         | 60/1001 [00:01<00:19, 48.97it/s]\r",
      "Iteration:   1%|▏         | 15/1001 [00:00<00:20, 47.00it/s]\r",
      "Iteration:   0%|          | 4/1001 [00:00<00:29, 33.65it/s]\r",
      "Iteration:  23%|██▎       | 233/1001 [00:04<00:15, 49.29it/s]\r",
      "Iteration:  22%|██▏       | 216/1001 [00:04<00:15, 49.80it/s]"
     ]
    },
    {
     "name": "stdout",
     "output_type": "stream",
     "text": [
      "Evaluating...\n"
     ]
    },
    {
     "name": "stderr",
     "output_type": "stream",
     "text": [
      "Iteration:  95%|█████████▍| 948/1001 [00:19<00:00, 54.31it/s]]\n",
      "Iteration:  99%|█████████▊| 986/1001 [00:20<00:00, 62.93it/s]\n",
      "Iteration:  95%|█████████▍| 106/112 [00:01<00:00, 73.28it/s]s]\n",
      "Iteration:   0%|          | 4/1001 [00:00<00:28, 35.12it/s]]"
     ]
    },
    {
     "name": "stdout",
     "output_type": "stream",
     "text": [
      "{'Train':  best_epoch_indx:56\n",
      " auc:0.8819744110094838 \n",
      " apur:0.5204127236457331 \n",
      " f1:0.47225376044350126 \n",
      " precision:0.32784675262551366 \n",
      " recall:0.8440202636513756 \n",
      ", 'Validation':  best_epoch_indx:56\n",
      " auc:0.8682588918710864 \n",
      " apur:0.4904261683442888 \n",
      " f1:0.4616146607231303 \n",
      " precision:0.3209682180458526 \n",
      " recall:0.8216624685138539 \n",
      "}\n",
      "=====Epoch 57\n",
      "Training...\n"
     ]
    },
    {
     "name": "stderr",
     "output_type": "stream",
     "text": [
      "\r",
      "Iteration:   1%|          | 9/1001 [00:00<00:25, 39.08it/s]\r",
      "Iteration:   1%|▏         | 14/1001 [00:00<00:24, 40.53it/s]"
     ]
    },
    {
     "name": "stdout",
     "output_type": "stream",
     "text": [
      "{'Train':  best_epoch_indx:56\n",
      " auc:0.8835239850328553 \n",
      " apur:0.5223626486853784 \n",
      " f1:0.48249205298554415 \n",
      " precision:0.3407275749042057 \n",
      " recall:0.8262755744633211 \n",
      ", 'Validation':  best_epoch_indx:56\n",
      " auc:0.8699671730650104 \n",
      " apur:0.5095933697260744 \n",
      " f1:0.47338065661047024 \n",
      " precision:0.3350429139627381 \n",
      " recall:0.8062972292191436 \n",
      "}\n",
      "=====Epoch 57\n",
      "Training...\n"
     ]
    },
    {
     "name": "stderr",
     "output_type": "stream",
     "text": [
      "\n",
      "Iteration:   3%|▎         | 34/1001 [00:00<00:22, 43.03it/s]\n",
      "Iteration:  39%|███▉      | 44/112 [00:00<00:01, 51.29it/s]]\n",
      "Iteration:  49%|████▉     | 55/112 [00:01<00:01, 48.63it/s]]\n",
      "Iteration:  13%|█▎        | 129/1001 [00:03<00:20, 41.81it/s]\n",
      "Iteration:   0%|          | 0/1001 [00:00<?, ?it/s]"
     ]
    },
    {
     "name": "stdout",
     "output_type": "stream",
     "text": [
      "{'Train':  best_epoch_indx:56\n",
      " auc:0.8824294284187725 \n",
      " apur:0.5118836602731253 \n",
      " f1:0.46629543013414804 \n",
      " precision:0.3203374396868426 \n",
      " recall:0.856591099916037 \n",
      ", 'Validation':  best_epoch_indx:56\n",
      " auc:0.8657962674597202 \n",
      " apur:0.4780089735884887 \n",
      " f1:0.4547888774459321 \n",
      " precision:0.3126002831524304 \n",
      " recall:0.834256926952141 \n",
      "}\n",
      "=====Epoch 57\n",
      "Training...\n"
     ]
    },
    {
     "name": "stderr",
     "output_type": "stream",
     "text": [
      "Iteration:  18%|█▊        | 179/1001 [00:04<00:18, 45.04it/s]\n",
      "Iteration:   0%|          | 4/1001 [00:00<00:28, 35.54it/s]s]"
     ]
    },
    {
     "name": "stdout",
     "output_type": "stream",
     "text": [
      "{'Train':  best_epoch_indx:56\n",
      " auc:0.8840915392374373 \n",
      " apur:0.5258592104821981 \n",
      " f1:0.46986225385966535 \n",
      " precision:0.32415625830454425 \n",
      " recall:0.8535083545579222 \n",
      ", 'Validation':  best_epoch_indx:56\n",
      " auc:0.8682564318652528 \n",
      " apur:0.491526037932276 \n",
      " f1:0.45859607788788026 \n",
      " precision:0.31631775164898196 \n",
      " recall:0.8335012594458439 \n",
      "}\n",
      "=====Epoch 57\n",
      "Training...\n",
      "{'Train':  best_epoch_indx:56\n",
      " auc:0.8809852771616955 \n",
      " apur:0.5174267740429648 \n",
      " f1:0.4668393544135003 \n",
      " precision:0.3214327173718037 \n",
      " recall:0.8524727812141398 \n",
      ", 'Validation':  best_epoch_indx:56\n",
      " auc:0.869721596768358 \n",
      " apur:0.49039800059941197 \n",
      " f1:0.4588381057268723 \n",
      " precision:0.3156847887857549 \n",
      " recall:0.8395465994962217 \n",
      "}\n",
      "=====Epoch 57\n",
      "Training...\n"
     ]
    },
    {
     "name": "stderr",
     "output_type": "stream",
     "text": [
      "Iteration:  19%|█▉        | 189/1001 [00:04<00:17, 45.26it/s]\n",
      "Iteration: 100%|██████████| 1001/1001 [00:22<00:00, 43.98it/s]\n",
      "Iteration:   0%|          | 4/1001 [00:00<00:25, 38.44it/s]s]"
     ]
    },
    {
     "name": "stdout",
     "output_type": "stream",
     "text": [
      "Evaluating...\n"
     ]
    },
    {
     "name": "stderr",
     "output_type": "stream",
     "text": [
      "Iteration: 100%|██████████| 1001/1001 [00:22<00:00, 43.66it/s]\n",
      "Iteration:  83%|████████▎ | 834/1001 [00:19<00:03, 44.32it/s]"
     ]
    },
    {
     "name": "stdout",
     "output_type": "stream",
     "text": [
      "Evaluating...\n"
     ]
    },
    {
     "name": "stderr",
     "output_type": "stream",
     "text": [
      "Iteration: 100%|██████████| 1001/1001 [00:22<00:00, 43.79it/s]\n",
      "Iteration:   0%|          | 0/1001 [00:00<?, ?it/s]"
     ]
    },
    {
     "name": "stdout",
     "output_type": "stream",
     "text": [
      "Evaluating...\n"
     ]
    },
    {
     "name": "stderr",
     "output_type": "stream",
     "text": [
      "Iteration: 100%|██████████| 1001/1001 [00:23<00:00, 43.44it/s]\n",
      "Iteration:   0%|          | 0/1001 [00:00<?, ?it/s]"
     ]
    },
    {
     "name": "stdout",
     "output_type": "stream",
     "text": [
      "Evaluating...\n",
      "Evaluating...\n"
     ]
    },
    {
     "name": "stderr",
     "output_type": "stream",
     "text": [
      "Iteration: 100%|██████████| 1001/1001 [00:22<00:00, 43.53it/s]\n",
      "Iteration:  96%|█████████▌| 962/1001 [00:19<00:00, 57.08it/s]]\n",
      "Iteration:  98%|█████████▊| 983/1001 [00:20<00:00, 58.18it/s]\n",
      "Iteration: 100%|██████████| 112/112 [00:01<00:00, 72.11it/s]s]\n",
      "Iteration:   0%|          | 0/1001 [00:00<?, ?it/s]"
     ]
    },
    {
     "name": "stdout",
     "output_type": "stream",
     "text": [
      "{'Train':  best_epoch_indx:57\n",
      " auc:0.8876357197165137 \n",
      " apur:0.537466454726634 \n",
      " f1:0.477165243170749 \n",
      " precision:0.3314664284002005 \n",
      " recall:0.8514092194016065 \n",
      ", 'Validation':  best_epoch_indx:57\n",
      " auc:0.8709565582684095 \n",
      " apur:0.5015280263505809 \n",
      " f1:0.46347856889833516 \n",
      " precision:0.3224248398225727 \n",
      " recall:0.8239294710327456 \n",
      "}\n",
      "=====Epoch 58\n",
      "Training...\n"
     ]
    },
    {
     "name": "stderr",
     "output_type": "stream",
     "text": [
      "\r",
      "Iteration:   0%|          | 4/1001 [00:00<00:27, 36.39it/s]\r",
      "Iteration:   1%|          | 9/1001 [00:00<00:25, 39.59it/s]\n",
      "\r",
      "Iteration:   0%|          | 0/1001 [00:00<?, ?it/s]"
     ]
    },
    {
     "name": "stdout",
     "output_type": "stream",
     "text": [
      "{'Train':  best_epoch_indx:57\n",
      " auc:0.8876154719702003 \n",
      " apur:0.5326032753927955 \n",
      " f1:0.47504437511240394 \n",
      " precision:0.3296078473925215 \n",
      " recall:0.850177726776568 \n",
      ", 'Validation':  best_epoch_indx:57\n",
      " auc:0.8721699840031047 \n",
      " apur:0.5150369592140172 \n",
      " f1:0.4667137809187279 \n",
      " precision:0.3243614931237721 \n",
      " recall:0.8317380352644836 \n",
      "}\n",
      "=====Epoch 58\n",
      "Training...\n"
     ]
    },
    {
     "name": "stderr",
     "output_type": "stream",
     "text": [
      "Iteration:   4%|▍         | 44/1001 [00:01<00:21, 44.58it/s]\n",
      "Iteration:   6%|▋         | 64/1001 [00:01<00:20, 45.00it/s]\n",
      "Iteration:  11%|█         | 12/112 [00:00<00:01, 57.03it/s]]\n",
      "Iteration:  15%|█▌        | 154/1001 [00:03<00:19, 44.24it/s]\n",
      "Iteration:   0%|          | 0/1001 [00:00<?, ?it/s]"
     ]
    },
    {
     "name": "stdout",
     "output_type": "stream",
     "text": [
      "{'Train':  best_epoch_indx:57\n",
      " auc:0.8872514321988662 \n",
      " apur:0.5266689276903223 \n",
      " f1:0.47742438415965077 \n",
      " precision:0.3308698001080497 \n",
      " recall:0.8570389028827315 \n",
      ", 'Validation':  best_epoch_indx:57\n",
      " auc:0.8682546190038108 \n",
      " apur:0.4872389370747522 \n",
      " f1:0.4648352420431391 \n",
      " precision:0.32232290753191073 \n",
      " recall:0.8332493702770781 \n",
      "}\n",
      "=====Epoch 58\n",
      "Training...\n"
     ]
    },
    {
     "name": "stderr",
     "output_type": "stream",
     "text": [
      "Iteration:  18%|█▊        | 184/1001 [00:04<00:18, 44.56it/s]\n",
      "Iteration:  19%|█▉        | 189/1001 [00:04<00:18, 44.67it/s]"
     ]
    },
    {
     "name": "stdout",
     "output_type": "stream",
     "text": [
      "{'Train':  best_epoch_indx:57\n",
      " auc:0.8834770074200089 \n",
      " apur:0.5246556085518286 \n",
      " f1:0.47029214600309166 \n",
      " precision:0.3254773782900396 \n",
      " recall:0.8472669260264771 \n",
      ", 'Validation':  best_epoch_indx:57\n",
      " auc:0.8720136836324498 \n",
      " apur:0.5023866401385013 \n",
      " f1:0.46157065141581816 \n",
      " precision:0.3191550925925926 \n",
      " recall:0.8335012594458439 \n",
      "}\n",
      "=====Epoch 58\n",
      "Training...\n"
     ]
    },
    {
     "name": "stderr",
     "output_type": "stream",
     "text": [
      "Iteration:   2%|▏         | 18/1001 [00:00<00:24, 39.86it/s]]\n",
      "Iteration:  21%|██        | 209/1001 [00:04<00:17, 44.34it/s]"
     ]
    },
    {
     "name": "stdout",
     "output_type": "stream",
     "text": [
      "{'Train':  best_epoch_indx:57\n",
      " auc:0.8876980122785904 \n",
      " apur:0.5345022557312719 \n",
      " f1:0.46765680803992776 \n",
      " precision:0.3202150760004136 \n",
      " recall:0.8667469002770858 \n",
      ", 'Validation':  best_epoch_indx:57\n",
      " auc:0.8718884290497033 \n",
      " apur:0.5039884775665483 \n",
      " f1:0.4577168453916112 \n",
      " precision:0.3132664437012263 \n",
      " recall:0.8493702770780857 \n",
      "}\n",
      "=====Epoch 58\n",
      "Training...\n"
     ]
    },
    {
     "name": "stderr",
     "output_type": "stream",
     "text": [
      "Iteration: 100%|██████████| 1001/1001 [00:22<00:00, 43.71it/s]\n",
      "Iteration:  78%|███████▊  | 779/1001 [00:17<00:05, 43.78it/s]"
     ]
    },
    {
     "name": "stdout",
     "output_type": "stream",
     "text": [
      "Evaluating...\n"
     ]
    },
    {
     "name": "stderr",
     "output_type": "stream",
     "text": [
      "Iteration: 100%|██████████| 1001/1001 [00:22<00:00, 43.55it/s]\n",
      "Iteration:  80%|███████▉  | 799/1001 [00:18<00:04, 44.32it/s]"
     ]
    },
    {
     "name": "stdout",
     "output_type": "stream",
     "text": [
      "Evaluating...\n"
     ]
    },
    {
     "name": "stderr",
     "output_type": "stream",
     "text": [
      "Iteration: 100%|██████████| 1001/1001 [00:22<00:00, 43.76it/s]\n",
      "Iteration:   0%|          | 4/1001 [00:00<00:26, 37.46it/s]s]"
     ]
    },
    {
     "name": "stdout",
     "output_type": "stream",
     "text": [
      "Evaluating...\n"
     ]
    },
    {
     "name": "stderr",
     "output_type": "stream",
     "text": [
      "Iteration: 100%|██████████| 1001/1001 [00:23<00:00, 43.38it/s]\n",
      "Iteration:  22%|██▏       | 223/1001 [00:04<00:15, 49.56it/s]"
     ]
    },
    {
     "name": "stdout",
     "output_type": "stream",
     "text": [
      "Evaluating...\n"
     ]
    },
    {
     "name": "stderr",
     "output_type": "stream",
     "text": [
      "Iteration: 100%|██████████| 1001/1001 [00:23<00:00, 43.45it/s]\n",
      "Iteration:   0%|          | 4/1001 [00:00<00:26, 37.69it/s]s]"
     ]
    },
    {
     "name": "stdout",
     "output_type": "stream",
     "text": [
      "Evaluating...\n"
     ]
    },
    {
     "name": "stderr",
     "output_type": "stream",
     "text": [
      "Iteration:  94%|█████████▎| 938/1001 [00:19<00:01, 48.55it/s]]\n",
      "Iteration:  95%|█████████▍| 950/1001 [00:19<00:00, 51.63it/s]]\n",
      "Iteration: 100%|██████████| 112/112 [00:01<00:00, 60.83it/s]s]\n",
      "Iteration:   0%|          | 4/1001 [00:00<00:26, 37.15it/s]"
     ]
    },
    {
     "name": "stdout",
     "output_type": "stream",
     "text": [
      "{'Train':  best_epoch_indx:58\n",
      " auc:0.8914209422480176 \n",
      " apur:0.540237370213412 \n",
      " f1:0.4824710889880551 \n",
      " precision:0.33654377778269234 \n",
      " recall:0.8518290464328696 \n",
      ", 'Validation':  best_epoch_indx:58\n",
      " auc:0.8739834497321807 \n",
      " apur:0.5169704530443456 \n",
      " f1:0.4727559506739318 \n",
      " precision:0.33042693926638605 \n",
      " recall:0.8304785894206549 \n",
      "}\n",
      "=====Epoch 59\n",
      "Training...\n"
     ]
    },
    {
     "name": "stderr",
     "output_type": "stream",
     "text": [
      "Iteration:   2%|▏         | 19/1001 [00:00<00:23, 41.50it/s]\n",
      "Iteration:   2%|▏         | 24/1001 [00:00<00:23, 42.08it/s]"
     ]
    },
    {
     "name": "stdout",
     "output_type": "stream",
     "text": [
      "{'Train':  best_epoch_indx:58\n",
      " auc:0.8908666232796281 \n",
      " apur:0.5472675650377747 \n",
      " f1:0.4845187615009201 \n",
      " precision:0.3392298988359978 \n",
      " recall:0.847490833776484 \n",
      ", 'Validation':  best_epoch_indx:58\n",
      " auc:0.8739129452792703 \n",
      " apur:0.5140297891832121 \n",
      " f1:0.46943624451004395 \n",
      " precision:0.32866216352454886 \n",
      " recall:0.8211586901763224 \n",
      "}\n",
      "=====Epoch 59\n",
      "Training...\n"
     ]
    },
    {
     "name": "stderr",
     "output_type": "stream",
     "text": [
      "Iteration:   3%|▎         | 29/1001 [00:00<00:22, 42.82it/s]\n",
      "Iteration:  50%|█████     | 56/112 [00:01<00:01, 48.58it/s]]\n",
      "Iteration:   7%|▋         | 73/1001 [00:01<00:20, 44.79it/s]\n",
      "Iteration:  17%|█▋        | 169/1001 [00:03<00:18, 44.20it/s]\n",
      "Iteration:  82%|████████▏ | 92/112 [00:01<00:00, 53.78it/s]"
     ]
    },
    {
     "name": "stdout",
     "output_type": "stream",
     "text": [
      "{'Train':  best_epoch_indx:58\n",
      " auc:0.8908217846101216 \n",
      " apur:0.543248345378394 \n",
      " f1:0.48372727128612414 \n",
      " precision:0.337424805378627 \n",
      " recall:0.8540162328575427 \n",
      ", 'Validation':  best_epoch_indx:58\n",
      " auc:0.8712250760480375 \n",
      " apur:0.4981745179512915 \n",
      " f1:0.47028497780323647 \n",
      " precision:0.328531412565026 \n",
      " recall:0.8272040302267003 \n",
      "}\n",
      "=====Epoch 59\n",
      "Training...\n"
     ]
    },
    {
     "name": "stderr",
     "output_type": "stream",
     "text": [
      "Iteration:  22%|██▏       | 219/1001 [00:05<00:17, 44.66it/s]\n",
      "Iteration:   5%|▍         | 49/1001 [00:01<00:21, 44.07it/s]"
     ]
    },
    {
     "name": "stdout",
     "output_type": "stream",
     "text": [
      "{'Train':  best_epoch_indx:58\n",
      " auc:0.8898151171260694 \n",
      " apur:0.5446115821939 \n",
      " f1:0.4817157870506338 \n",
      " precision:0.33620670551997694 \n",
      " recall:0.84928209577654 \n",
      ", 'Validation':  best_epoch_indx:58\n",
      " auc:0.8765506672487251 \n",
      " apur:0.5184935498823556 \n",
      " f1:0.47078988715897735 \n",
      " precision:0.32854864433811803 \n",
      " recall:0.8302267002518892 \n",
      "}\n",
      "=====Epoch 59\n",
      "Training...\n"
     ]
    },
    {
     "name": "stderr",
     "output_type": "stream",
     "text": [
      "\r",
      "Iteration:  20%|█▉        | 198/1001 [00:04<00:17, 44.92it/s]\r",
      "Iteration:  22%|██▏       | 224/1001 [00:05<00:17, 44.62it/s]\r",
      "Iteration:   0%|          | 4/1001 [00:00<00:29, 34.14it/s]\r",
      "Iteration:   5%|▌         | 54/1001 [00:01<00:21, 44.49it/s]\r",
      "Iteration:  20%|██        | 203/1001 [00:04<00:18, 43.68it/s]\r",
      "Iteration:  23%|██▎       | 229/1001 [00:05<00:17, 45.08it/s]\r",
      "Iteration:   1%|          | 9/1001 [00:00<00:25, 38.71it/s]\r",
      "Iteration:   6%|▌         | 59/1001 [00:01<00:21, 44.27it/s]"
     ]
    },
    {
     "name": "stdout",
     "output_type": "stream",
     "text": [
      "{'Train':  best_epoch_indx:58\n",
      " auc:0.8896502868132304 \n",
      " apur:0.5412755298084437 \n",
      " f1:0.4859444246757028 \n",
      " precision:0.3417080854838893 \n",
      " recall:0.8408855551512777 \n",
      ", 'Validation':  best_epoch_indx:58\n",
      " auc:0.8728386898746074 \n",
      " apur:0.5086484320315933 \n",
      " f1:0.47524317998976096 \n",
      " precision:0.3348448933319592 \n",
      " recall:0.8183879093198992 \n",
      "}\n",
      "=====Epoch 59\n",
      "Training...\n"
     ]
    },
    {
     "name": "stderr",
     "output_type": "stream",
     "text": [
      "\n",
      "Iteration: 100%|██████████| 1001/1001 [00:22<00:00, 43.60it/s]\n",
      "Iteration:   0%|          | 5/1001 [00:00<00:22, 43.47it/s]s]"
     ]
    },
    {
     "name": "stdout",
     "output_type": "stream",
     "text": [
      "Evaluating...\n"
     ]
    },
    {
     "name": "stderr",
     "output_type": "stream",
     "text": [
      "Iteration: 100%|██████████| 1001/1001 [00:22<00:00, 43.85it/s]\n",
      "Iteration:   3%|▎         | 28/1001 [00:00<00:19, 49.17it/s]]"
     ]
    },
    {
     "name": "stdout",
     "output_type": "stream",
     "text": [
      "Evaluating...\n"
     ]
    },
    {
     "name": "stderr",
     "output_type": "stream",
     "text": [
      "Iteration: 100%|██████████| 1001/1001 [00:22<00:00, 43.59it/s]\n",
      "Iteration:   0%|          | 5/1001 [00:00<00:23, 41.85it/s]s]"
     ]
    },
    {
     "name": "stdout",
     "output_type": "stream",
     "text": [
      "Evaluating...\n"
     ]
    },
    {
     "name": "stderr",
     "output_type": "stream",
     "text": [
      "Iteration: 100%|██████████| 1001/1001 [00:23<00:00, 43.21it/s]\n",
      "Iteration:   0%|          | 4/1001 [00:00<00:26, 37.65it/s]]]"
     ]
    },
    {
     "name": "stdout",
     "output_type": "stream",
     "text": [
      "Evaluating...\n",
      "Evaluating...\n"
     ]
    },
    {
     "name": "stderr",
     "output_type": "stream",
     "text": [
      "Iteration: 100%|██████████| 1001/1001 [00:23<00:00, 43.40it/s]\n",
      "Iteration:  92%|█████████▏| 918/1001 [00:18<00:01, 58.61it/s]]\n",
      "Iteration:  26%|██▌       | 29/112 [00:00<00:01, 63.01it/s]s]]\n",
      "Iteration: 100%|██████████| 112/112 [00:01<00:00, 62.43it/s]s]\n",
      "Iteration:   0%|          | 4/1001 [00:00<00:29, 34.04it/s]"
     ]
    },
    {
     "name": "stdout",
     "output_type": "stream",
     "text": [
      "{'Train':  best_epoch_indx:59\n",
      " auc:0.8963118306234508 \n",
      " apur:0.5599751817478379 \n",
      " f1:0.48343037322635524 \n",
      " precision:0.33518404277195146 \n",
      " recall:0.8668028772145876 \n",
      ", 'Validation':  best_epoch_indx:59\n",
      " auc:0.8773232719380449 \n",
      " apur:0.5323548371664488 \n",
      " f1:0.4711626919538603 \n",
      " precision:0.32762523373683694 \n",
      " recall:0.8385390428211587 \n",
      "}\n",
      "=====Epoch 60\n",
      "Training...\n"
     ]
    },
    {
     "name": "stderr",
     "output_type": "stream",
     "text": [
      "\r",
      "Iteration:   1%|          | 9/1001 [00:00<00:25, 38.24it/s]\n",
      "\r",
      "Iteration:   0%|          | 0/112 [00:00<?, ?it/s]\r",
      "Iteration:   1%|▏         | 14/1001 [00:00<00:24, 39.92it/s]\n",
      "\r",
      "Iteration:   0%|          | 0/1001 [00:00<?, ?it/s]\r",
      "Iteration:   6%|▋         | 7/112 [00:00<00:01, 62.51it/s]"
     ]
    },
    {
     "name": "stdout",
     "output_type": "stream",
     "text": [
      "{'Train':  best_epoch_indx:59\n",
      " auc:0.8956389752055337 \n",
      " apur:0.5613060565482445 \n",
      " f1:0.48825769596953345 \n",
      " precision:0.3407115412297505 \n",
      " recall:0.8612051834644127 \n",
      ", 'Validation':  best_epoch_indx:59\n",
      " auc:0.8768234664670777 \n",
      " apur:0.5201613902217646 \n",
      " f1:0.47249748671549624 \n",
      " precision:0.3304539975893933 \n",
      " recall:0.8287153652392947 \n",
      "}\n",
      "=====Epoch 60\n",
      "Training...\n"
     ]
    },
    {
     "name": "stderr",
     "output_type": "stream",
     "text": [
      "Iteration:   7%|▋         | 69/1001 [00:01<00:20, 44.98it/s]\n",
      "Iteration:   6%|▌         | 57/1001 [00:01<00:21, 44.83it/s]\n",
      "Iteration:  78%|███████▊  | 87/112 [00:01<00:00, 51.59it/s]s]\n",
      "Iteration:  83%|████████▎ | 93/112 [00:01<00:00, 50.32it/s]s]"
     ]
    },
    {
     "name": "stdout",
     "output_type": "stream",
     "text": [
      "{'Train':  best_epoch_indx:59\n",
      " auc:0.8949965563259955 \n",
      " apur:0.5556636404229874 \n",
      " f1:0.48455642466884163 \n",
      " precision:0.33691172451489476 \n",
      " recall:0.8625524769101596 \n",
      ", 'Validation':  best_epoch_indx:59\n",
      " auc:0.8748508632177614 \n",
      " apur:0.5100160016177029 \n",
      " f1:0.47139717870560716 \n",
      " precision:0.3280063135049818 \n",
      " recall:0.8375314861460957 \n",
      "}\n",
      "=====Epoch 60\n",
      "Training...\n"
     ]
    },
    {
     "name": "stderr",
     "output_type": "stream",
     "text": [
      "Iteration:   6%|▋         | 64/1001 [00:01<00:21, 43.99it/s]]\n",
      "Iteration:   7%|▋         | 69/1001 [00:01<00:22, 41.51it/s]]"
     ]
    },
    {
     "name": "stdout",
     "output_type": "stream",
     "text": [
      "{'Train':  best_epoch_indx:59\n",
      " auc:0.8957821192399523 \n",
      " apur:0.5600958788047089 \n",
      " f1:0.4832787039137612 \n",
      " precision:0.3353781676836551 \n",
      " recall:0.8645358112457667 \n",
      ", 'Validation':  best_epoch_indx:59\n",
      " auc:0.8766307674386771 \n",
      " apur:0.5190112675222115 \n",
      " f1:0.4707129230551827 \n",
      " precision:0.3271138171462241 \n",
      " recall:0.8390428211586902 \n",
      "}\n",
      "=====Epoch 60\n",
      "Training...\n"
     ]
    },
    {
     "name": "stderr",
     "output_type": "stream",
     "text": [
      "\r",
      "Iteration:  20%|█▉        | 197/1001 [00:04<00:18, 43.05it/s]\r",
      "Iteration:  21%|██▏       | 214/1001 [00:05<00:18, 43.50it/s]\n",
      "\r",
      "Iteration:   0%|          | 0/1001 [00:00<?, ?it/s]\r",
      "Iteration:   7%|▋         | 74/1001 [00:01<00:22, 42.07it/s]\r",
      "Iteration:   1%|          | 9/1001 [00:00<00:27, 36.57it/s]\r",
      "Iteration:   0%|          | 3/1001 [00:00<00:34, 29.31it/s]\r",
      "Iteration:  20%|██        | 202/1001 [00:04<00:18, 43.01it/s]\r",
      "Iteration:  22%|██▏       | 219/1001 [00:05<00:18, 42.26it/s]\r",
      "Iteration:   8%|▊         | 79/1001 [00:01<00:21, 42.26it/s]\r",
      "Iteration:   1%|▏         | 14/1001 [00:00<00:25, 38.94it/s]"
     ]
    },
    {
     "name": "stdout",
     "output_type": "stream",
     "text": [
      "{'Train':  best_epoch_indx:59\n",
      " auc:0.894431669167427 \n",
      " apur:0.557400135034405 \n",
      " f1:0.4852476165569054 \n",
      " precision:0.338459327392929 \n",
      " recall:0.8568669708080271 \n",
      ", 'Validation':  best_epoch_indx:59\n",
      " auc:0.8801432400539693 \n",
      " apur:0.5287668729226767 \n",
      " f1:0.4739538855678907 \n",
      " precision:0.33029160880777625 \n",
      " recall:0.8387909319899244 \n",
      "}\n",
      "=====Epoch 60\n",
      "Training...\n"
     ]
    },
    {
     "name": "stderr",
     "output_type": "stream",
     "text": [
      "Iteration: 100%|██████████| 1001/1001 [00:23<00:00, 42.95it/s]\n",
      "Iteration:  80%|████████  | 803/1001 [00:18<00:04, 43.14it/s]"
     ]
    },
    {
     "name": "stdout",
     "output_type": "stream",
     "text": [
      "Evaluating...\n"
     ]
    },
    {
     "name": "stderr",
     "output_type": "stream",
     "text": [
      "\r",
      "Iteration:  79%|███████▉  | 794/1001 [00:18<00:04, 42.58it/s]\r",
      "Iteration: 100%|█████████▉| 1000/1001 [00:23<00:00, 44.36it/s]\r",
      "Iteration:   1%|          | 11/1001 [00:00<00:19, 51.46it/s]\r",
      "Iteration:  81%|████████  | 808/1001 [00:18<00:04, 43.46it/s]\r",
      "Iteration: 100%|██████████| 1001/1001 [00:23<00:00, 43.17it/s]\n",
      "\r",
      "Iteration:   0%|          | 0/1001 [00:00<?, ?it/s]\r",
      "Iteration:  87%|████████▋ | 869/1001 [00:20<00:03, 33.30it/s]\r",
      "Iteration:  80%|███████▉  | 799/1001 [00:18<00:04, 43.69it/s]\r",
      "Iteration:   2%|▏         | 17/1001 [00:00<00:19, 50.30it/s]\r",
      "Iteration:  81%|████████  | 813/1001 [00:18<00:04, 43.82it/s]\r",
      "Iteration:   0%|          | 4/1001 [00:00<00:26, 37.79it/s]"
     ]
    },
    {
     "name": "stdout",
     "output_type": "stream",
     "text": [
      "Evaluating...\n"
     ]
    },
    {
     "name": "stderr",
     "output_type": "stream",
     "text": [
      "Iteration: 100%|██████████| 1001/1001 [00:23<00:00, 42.75it/s]\n",
      "Iteration:  94%|█████████▍| 943/1001 [00:22<00:01, 44.49it/s]"
     ]
    },
    {
     "name": "stdout",
     "output_type": "stream",
     "text": [
      "Evaluating...\n"
     ]
    },
    {
     "name": "stderr",
     "output_type": "stream",
     "text": [
      "Iteration: 100%|██████████| 1001/1001 [00:23<00:00, 42.87it/s]\n",
      "Iteration:   8%|▊         | 82/1001 [00:01<00:17, 51.34it/s]]"
     ]
    },
    {
     "name": "stdout",
     "output_type": "stream",
     "text": [
      "Evaluating...\n"
     ]
    },
    {
     "name": "stderr",
     "output_type": "stream",
     "text": [
      "\r",
      "Iteration:   1%|          | 9/1001 [00:00<00:22, 43.24it/s]\r",
      "Iteration: 100%|█████████▉| 999/1001 [00:23<00:00, 44.61it/s]\r",
      "Iteration:  23%|██▎       | 229/1001 [00:04<00:17, 44.47it/s]\r",
      "Iteration:  23%|██▎       | 234/1001 [00:05<00:16, 46.90it/s]\r",
      "Iteration: 100%|██████████| 1001/1001 [00:23<00:00, 42.77it/s]\n",
      "\r",
      "Iteration:   0%|          | 0/1001 [00:00<?, ?it/s]\r",
      "Iteration:   9%|▉         | 88/1001 [00:01<00:17, 51.20it/s]\r",
      "Iteration:   1%|▏         | 15/1001 [00:00<00:20, 48.66it/s]\r",
      "Iteration:  23%|██▎       | 235/1001 [00:04<00:16, 45.45it/s]\r",
      "Iteration:  24%|██▍       | 240/1001 [00:05<00:15, 48.80it/s]\r",
      "Iteration:   0%|          | 4/1001 [00:00<00:26, 37.64it/s]\r",
      "Iteration:   9%|▉         | 94/1001 [00:01<00:17, 51.10it/s]"
     ]
    },
    {
     "name": "stdout",
     "output_type": "stream",
     "text": [
      "Evaluating...\n"
     ]
    },
    {
     "name": "stderr",
     "output_type": "stream",
     "text": [
      "Iteration:  95%|█████████▍| 946/1001 [00:19<00:00, 58.09it/s]]\n",
      "Iteration:  96%|█████████▌| 956/1001 [00:19<00:00, 56.87it/s]\n",
      "Iteration: 100%|██████████| 112/112 [00:01<00:00, 65.50it/s]s]"
     ]
    },
    {
     "name": "stdout",
     "output_type": "stream",
     "text": [
      "{'Train':  best_epoch_indx:60\n",
      " auc:0.8949204923684554 \n",
      " apur:0.5528446489815735 \n",
      " f1:0.4898343101078069 \n",
      " precision:0.3436160613579968 \n",
      " recall:0.8526687004953959 \n",
      ", 'Validation':  best_epoch_indx:60\n",
      " auc:0.8755345991249066 \n",
      " apur:0.5266921310088392 \n",
      " f1:0.47695449241540255 \n",
      " precision:0.3356600287415315 \n",
      " recall:0.8236775818639799 \n",
      "}\n",
      "=====Epoch 61\n",
      "Training...\n",
      "{'Train':  best_epoch_indx:60\n",
      " auc:0.8956434186880575 \n",
      " apur:0.558299464233638 \n",
      " f1:0.4955223880597015 \n",
      " precision:0.3496506716082918 \n",
      " recall:0.8502337037140698 \n",
      ", 'Validation':  best_epoch_indx:60\n",
      " auc:0.8755494748744689 \n",
      " apur:0.5147515935889084 \n",
      " f1:0.4771318973148421 \n",
      " precision:0.3373669935322345 \n",
      " recall:0.8146095717884131 \n",
      "}\n",
      "=====Epoch 61\n",
      "Training...\n"
     ]
    },
    {
     "name": "stderr",
     "output_type": "stream",
     "text": [
      "\n",
      "Iteration:   0%|          | 4/1001 [00:00<00:26, 37.18it/s]\n",
      "Iteration:   2%|▏         | 19/1001 [00:00<00:23, 42.12it/s]\n",
      "Iteration:  79%|███████▉  | 89/112 [00:01<00:00, 63.44it/s]]\n",
      "Iteration:   0%|          | 0/112 [00:00<?, ?it/s]\n",
      "Iteration:  11%|█         | 109/1001 [00:02<00:25, 34.77it/s]\n",
      "Iteration:  11%|█▏        | 114/1001 [00:02<00:23, 37.45it/s]"
     ]
    },
    {
     "name": "stdout",
     "output_type": "stream",
     "text": [
      "{'Train':  best_epoch_indx:60\n",
      " auc:0.8949853650190899 \n",
      " apur:0.5551468697112454 \n",
      " f1:0.4898416253399456 \n",
      " precision:0.34292753947810506 \n",
      " recall:0.8569829275118948 \n",
      ", 'Validation':  best_epoch_indx:60\n",
      " auc:0.8739873797415005 \n",
      " apur:0.5090669683280359 \n",
      " f1:0.47708816705336426 \n",
      " precision:0.3349623294644675 \n",
      " recall:0.8287153652392947 \n",
      "}\n",
      "=====Epoch 61\n",
      "Training...\n"
     ]
    },
    {
     "name": "stderr",
     "output_type": "stream",
     "text": [
      "Iteration:   7%|▋         | 74/1001 [00:01<00:20, 44.79it/s]]\n",
      "Iteration:  19%|█▉        | 189/1001 [00:04<00:17, 45.39it/s]\n",
      "Iteration:   0%|          | 4/1001 [00:00<00:27, 36.93it/s]s]"
     ]
    },
    {
     "name": "stdout",
     "output_type": "stream",
     "text": [
      "{'Train':  best_epoch_indx:60\n",
      " auc:0.8940046774458505 \n",
      " apur:0.55489045420948 \n",
      " f1:0.48436435103735753 \n",
      " precision:0.33784007871143196 \n",
      " recall:0.855327605026729 \n",
      ", 'Validation':  best_epoch_indx:60\n",
      " auc:0.8755535891699402 \n",
      " apur:0.5167112807348266 \n",
      " f1:0.4741441054290216 \n",
      " precision:0.3312650120096077 \n",
      " recall:0.8337531486146096 \n",
      "}\n",
      "=====Epoch 61\n",
      "Training...\n",
      "{'Train':  best_epoch_indx:60\n",
      " auc:0.8944142946333576 \n",
      " apur:0.5558846115550372 \n",
      " f1:0.4883926650249838 \n",
      " precision:0.3414074338176308 \n",
      " recall:0.8576226594643007 \n",
      ", 'Validation':  best_epoch_indx:60\n",
      " auc:0.8780795823030094 \n",
      " apur:0.519227361111227 \n",
      " f1:0.4779438307703415 \n",
      " precision:0.33498633741524136 \n",
      " recall:0.8337531486146096 \n",
      "}\n",
      "=====Epoch 61\n",
      "Training...\n"
     ]
    },
    {
     "name": "stderr",
     "output_type": "stream",
     "text": [
      "Iteration: 100%|██████████| 1001/1001 [00:22<00:00, 44.04it/s]\n",
      "Iteration:  80%|████████  | 804/1001 [00:18<00:04, 43.60it/s]]\n",
      "Iteration:   0%|          | 4/1001 [00:00<00:28, 35.47it/s]s]"
     ]
    },
    {
     "name": "stdout",
     "output_type": "stream",
     "text": [
      "Evaluating...\n",
      "Evaluating...\n"
     ]
    },
    {
     "name": "stderr",
     "output_type": "stream",
     "text": [
      "Iteration: 100%|██████████| 1001/1001 [00:22<00:00, 43.52it/s]\n",
      "Iteration:   0%|          | 4/1001 [00:00<00:26, 37.10it/s]s]"
     ]
    },
    {
     "name": "stdout",
     "output_type": "stream",
     "text": [
      "Evaluating...\n"
     ]
    },
    {
     "name": "stderr",
     "output_type": "stream",
     "text": [
      "Iteration: 100%|██████████| 1001/1001 [00:23<00:00, 43.52it/s]\n",
      "Iteration:   9%|▉         | 93/1001 [00:01<00:17, 51.09it/s]s]\n",
      "Iteration:   0%|          | 4/1001 [00:00<00:26, 37.92it/s]s]"
     ]
    },
    {
     "name": "stdout",
     "output_type": "stream",
     "text": [
      "Evaluating...\n",
      "Evaluating...\n"
     ]
    },
    {
     "name": "stderr",
     "output_type": "stream",
     "text": [
      "Iteration:  97%|█████████▋| 967/1001 [00:19<00:00, 70.01it/s]]\n",
      "Iteration:  97%|█████████▋| 975/1001 [00:19<00:00, 68.77it/s]\n",
      "Iteration: 100%|██████████| 112/112 [00:01<00:00, 70.34it/s]s]\n",
      "Iteration:   0%|          | 0/1001 [00:00<?, ?it/s]\n",
      "Iteration:   0%|          | 4/1001 [00:00<00:28, 34.81it/s]"
     ]
    },
    {
     "name": "stdout",
     "output_type": "stream",
     "text": [
      "{'Train':  best_epoch_indx:61\n",
      " auc:0.8894418005916265 \n",
      " apur:0.5429838737347626 \n",
      " f1:0.48618533994104873 \n",
      " precision:0.34205758691020133 \n",
      " recall:0.8402138319012566 \n",
      ", 'Validation':  best_epoch_indx:61\n",
      " auc:0.8720664280432437 \n",
      " apur:0.5054567259588627 \n",
      " f1:0.4706397896581946 \n",
      " precision:0.3314132894466159 \n",
      " recall:0.8115869017632242 \n",
      "}\n",
      "=====Epoch 62\n",
      "Training...\n",
      "{'Train':  best_epoch_indx:61\n",
      " auc:0.8917553359226642 \n",
      " apur:0.5396482431500326 \n",
      " f1:0.49256407725463097 \n",
      " precision:0.3487879034982468 \n",
      " recall:0.8380027428699376 \n",
      ", 'Validation':  best_epoch_indx:61\n",
      " auc:0.8732274093678565 \n",
      " apur:0.5136324390407588 \n",
      " f1:0.4817910447761194 \n",
      " precision:0.3423117709437964 \n",
      " recall:0.8130982367758186 \n",
      "}\n",
      "=====Epoch 62\n",
      "Training...\n"
     ]
    },
    {
     "name": "stderr",
     "output_type": "stream",
     "text": [
      "Iteration:   1%|▏         | 14/1001 [00:00<00:24, 40.21it/s]\n",
      "Iteration:   7%|▋         | 69/1001 [00:01<00:20, 45.18it/s]\n",
      "Iteration:   7%|▋         | 73/1001 [00:01<00:20, 44.55it/s]\n",
      "Iteration:  12%|█▏        | 119/1001 [00:02<00:22, 39.13it/s]\n",
      "Iteration:  59%|█████▉    | 66/112 [00:01<00:00, 52.05it/s]"
     ]
    },
    {
     "name": "stdout",
     "output_type": "stream",
     "text": [
      "{'Train':  best_epoch_indx:61\n",
      " auc:0.8918418939915698 \n",
      " apur:0.5464947117403093 \n",
      " f1:0.49236339321389844 \n",
      " precision:0.34739882397615734 \n",
      " recall:0.8449482227819759 \n",
      ", 'Validation':  best_epoch_indx:61\n",
      " auc:0.8715750140207476 \n",
      " apur:0.5059153722278449 \n",
      " f1:0.47800866436595935 \n",
      " precision:0.33734065706290806 \n",
      " recall:0.8198992443324937 \n",
      "}\n",
      "=====Epoch 62\n",
      "Training...\n"
     ]
    },
    {
     "name": "stderr",
     "output_type": "stream",
     "text": [
      "Iteration:   5%|▌         | 54/1001 [00:01<00:21, 44.87it/s]]\n",
      "Iteration:   6%|▌         | 59/1001 [00:01<00:21, 44.14it/s]]"
     ]
    },
    {
     "name": "stdout",
     "output_type": "stream",
     "text": [
      "{'Train':  best_epoch_indx:61\n",
      " auc:0.8906436237396025 \n",
      " apur:0.5476552586551708 \n",
      " f1:0.47057753110570255 \n",
      " precision:0.32271214642262896 \n",
      " recall:0.8685381622771419 \n",
      ", 'Validation':  best_epoch_indx:61\n",
      " auc:0.8756505665427721 \n",
      " apur:0.5142275108850065 \n",
      " f1:0.46107661868049404 \n",
      " precision:0.3161785346682886 \n",
      " recall:0.8511335012594459 \n",
      "}\n",
      "=====Epoch 62\n",
      "Training...\n",
      "{'Train':  best_epoch_indx:61\n",
      " auc:0.891828585641167 \n",
      " apur:0.5479405491012209 \n",
      " f1:0.4841572213226656 \n",
      " precision:0.33790536123821446 \n",
      " recall:0.8536203084329257 \n",
      ", 'Validation':  best_epoch_indx:61\n",
      " auc:0.8731691535154211 \n",
      " apur:0.5076774684510529 \n",
      " f1:0.47216450526617476 \n",
      " precision:0.3299289075798538 \n",
      " recall:0.8299748110831234 \n",
      "}\n",
      "=====Epoch 62\n",
      "Training...\n"
     ]
    },
    {
     "name": "stderr",
     "output_type": "stream",
     "text": [
      "Iteration:  18%|█▊        | 183/1001 [00:04<00:18, 44.32it/s]\n",
      "Iteration: 100%|██████████| 1001/1001 [00:22<00:00, 43.81it/s]\n",
      "Iteration:  87%|████████▋ | 874/1001 [00:19<00:03, 37.45it/s]"
     ]
    },
    {
     "name": "stdout",
     "output_type": "stream",
     "text": [
      "Evaluating...\n",
      "Evaluating...\n"
     ]
    },
    {
     "name": "stderr",
     "output_type": "stream",
     "text": [
      "Iteration: 100%|██████████| 1001/1001 [00:22<00:00, 43.65it/s]\n",
      "Iteration: 100%|██████████| 1001/1001 [00:22<00:00, 43.62it/s]\n",
      "Iteration:  15%|█▌        | 151/1001 [00:02<00:17, 48.50it/s]"
     ]
    },
    {
     "name": "stdout",
     "output_type": "stream",
     "text": [
      "Evaluating...\n"
     ]
    },
    {
     "name": "stderr",
     "output_type": "stream",
     "text": [
      "Iteration: 100%|██████████| 1001/1001 [00:23<00:00, 43.34it/s]\n",
      "Iteration:  21%|██▏       | 215/1001 [00:04<00:17, 45.22it/s]"
     ]
    },
    {
     "name": "stdout",
     "output_type": "stream",
     "text": [
      "Evaluating...\n"
     ]
    },
    {
     "name": "stderr",
     "output_type": "stream",
     "text": [
      "\r",
      "Iteration:  22%|██▏       | 221/1001 [00:04<00:15, 50.64it/s]\r",
      "Iteration:   0%|          | 4/1001 [00:00<00:31, 31.52it/s]\r",
      "Iteration: 100%|█████████▉| 999/1001 [00:23<00:00, 41.76it/s]\r",
      "Iteration:  22%|██▏       | 220/1001 [00:04<00:17, 45.41it/s]\r",
      "Iteration:   8%|▊         | 79/1001 [00:01<00:19, 46.78it/s]\r",
      "Iteration: 100%|██████████| 1001/1001 [00:23<00:00, 43.13it/s]\r",
      "Iteration:  23%|██▎       | 227/1001 [00:04<00:15, 50.46it/s]\n",
      "\r",
      "Iteration:   0%|          | 0/1001 [00:00<?, ?it/s]\r",
      "Iteration:   1%|          | 10/1001 [00:00<00:23, 42.96it/s]\r",
      "Iteration:  23%|██▎       | 226/1001 [00:04<00:16, 46.95it/s]\r",
      "Iteration:   8%|▊         | 84/1001 [00:01<00:19, 46.98it/s]"
     ]
    },
    {
     "name": "stdout",
     "output_type": "stream",
     "text": [
      "Evaluating...\n"
     ]
    },
    {
     "name": "stderr",
     "output_type": "stream",
     "text": [
      "Iteration:  95%|█████████▍| 949/1001 [00:20<00:00, 58.50it/s]]\n",
      "Iteration:  98%|█████████▊| 978/1001 [00:20<00:00, 61.97it/s]\n",
      "Iteration: 100%|██████████| 112/112 [00:01<00:00, 66.68it/s]s]"
     ]
    },
    {
     "name": "stdout",
     "output_type": "stream",
     "text": [
      "{'Train':  best_epoch_indx:62\n",
      " auc:0.8910267870722037 \n",
      " apur:0.5417796589444266 \n",
      " f1:0.4837423288467202 \n",
      " precision:0.33799386011745863 \n",
      " recall:0.8504855999328277 \n",
      ", 'Validation':  best_epoch_indx:62\n",
      " auc:0.8735399886805446 \n",
      " apur:0.5189631281522764 \n",
      " f1:0.471775647033379 \n",
      " precision:0.33047166952833046 \n",
      " recall:0.8241813602015113 \n",
      "}\n",
      "=====Epoch 63\n",
      "Training...\n",
      "{'Train':  best_epoch_indx:62\n",
      " auc:0.889273880573263 \n",
      " apur:0.539209061881265 \n",
      " f1:0.47758061883554465 \n",
      " precision:0.33059656523049114 \n",
      " recall:0.8598897254331216 \n",
      ", 'Validation':  best_epoch_indx:62\n",
      " auc:0.8691585125759013 \n",
      " apur:0.4892871721793355 \n",
      " f1:0.4629447335114611 \n",
      " precision:0.32110807647288336 \n",
      " recall:0.8292191435768262 \n",
      "}\n",
      "=====Epoch 63\n",
      "Training...\n"
     ]
    },
    {
     "name": "stderr",
     "output_type": "stream",
     "text": [
      "\n",
      "Iteration:   0%|          | 0/1001 [00:00<?, ?it/s]\n",
      "Iteration:   2%|▏         | 19/1001 [00:00<00:23, 41.66it/s]\n",
      "Iteration:  55%|█████▌    | 62/112 [00:01<00:00, 52.52it/s]]\n",
      "Iteration:   8%|▊         | 84/1001 [00:01<00:20, 45.03it/s]\n",
      "Iteration:  12%|█▏        | 124/1001 [00:02<00:21, 39.92it/s]\n",
      "Iteration:  13%|█▎        | 129/1001 [00:03<00:21, 40.51it/s]"
     ]
    },
    {
     "name": "stdout",
     "output_type": "stream",
     "text": [
      "{'Train':  best_epoch_indx:62\n",
      " auc:0.8883979280771903 \n",
      " apur:0.5366012643512289 \n",
      " f1:0.4755575475634824 \n",
      " precision:0.32847260771168707 \n",
      " recall:0.8611810803246571 \n",
      ", 'Validation':  best_epoch_indx:62\n",
      " auc:0.869527080592791 \n",
      " apur:0.49277930567183814 \n",
      " f1:0.4655425732876233 \n",
      " precision:0.3222900319674513 \n",
      " recall:0.8380352644836272 \n",
      "}\n",
      "=====Epoch 63\n",
      "Training...\n"
     ]
    },
    {
     "name": "stderr",
     "output_type": "stream",
     "text": [
      "Iteration:  18%|█▊        | 179/1001 [00:04<00:18, 44.53it/s]\n",
      "Iteration:  18%|█▊        | 184/1001 [00:04<00:18, 44.41it/s]"
     ]
    },
    {
     "name": "stdout",
     "output_type": "stream",
     "text": [
      "{'Train':  best_epoch_indx:62\n",
      " auc:0.8883591694795248 \n",
      " apur:0.536026453648165 \n",
      " f1:0.47564541213063766 \n",
      " precision:0.32931700961548815 \n",
      " recall:0.85599932827675 \n",
      ", 'Validation':  best_epoch_indx:62\n",
      " auc:0.8739528453738904 \n",
      " apur:0.5071417740366548 \n",
      " f1:0.46532156368221933 \n",
      " precision:0.32230201863354035 \n",
      " recall:0.8365239294710327 \n",
      "}\n",
      "=====Epoch 63\n",
      "Training...\n"
     ]
    },
    {
     "name": "stderr",
     "output_type": "stream",
     "text": [
      "\r",
      "Iteration:   0%|          | 4/1001 [00:00<00:28, 34.59it/s]\r",
      "Iteration:  19%|█▉        | 189/1001 [00:04<00:18, 44.81it/s]\r",
      "Iteration:   6%|▋         | 63/1001 [00:01<00:21, 44.47it/s]\r",
      "Iteration:  19%|█▉        | 189/1001 [00:04<00:18, 44.96it/s]\r",
      "Iteration:   1%|          | 9/1001 [00:00<00:25, 38.96it/s]\r",
      "Iteration:  19%|█▉        | 194/1001 [00:04<00:17, 44.86it/s]\n",
      "\r",
      "Iteration:   0%|          | 0/1001 [00:00<?, ?it/s]\r",
      "Iteration:   7%|▋         | 68/1001 [00:01<00:20, 44.59it/s]\r",
      "Iteration:  19%|█▉        | 194/1001 [00:04<00:18, 44.66it/s]"
     ]
    },
    {
     "name": "stdout",
     "output_type": "stream",
     "text": [
      "{'Train':  best_epoch_indx:62\n",
      " auc:0.8890226679950268 \n",
      " apur:0.5397503774978661 \n",
      " f1:0.47547245989720016 \n",
      " precision:0.3290066082845323 \n",
      " recall:0.8569789246830306 \n",
      ", 'Validation':  best_epoch_indx:62\n",
      " auc:0.871159114463043 \n",
      " apur:0.5043482384418763 \n",
      " f1:0.465031534688157 \n",
      " precision:0.3221359223300971 \n",
      " recall:0.8357682619647355 \n",
      "}\n",
      "=====Epoch 63\n",
      "Training...\n"
     ]
    },
    {
     "name": "stderr",
     "output_type": "stream",
     "text": [
      "Iteration: 100%|██████████| 1001/1001 [00:23<00:00, 43.19it/s]\n",
      "Iteration: 100%|██████████| 1001/1001 [00:23<00:00, 43.35it/s]\n",
      "Iteration:  82%|████████▏ | 824/1001 [00:19<00:04, 43.20it/s]"
     ]
    },
    {
     "name": "stdout",
     "output_type": "stream",
     "text": [
      "Evaluating...\n",
      "Evaluating...\n"
     ]
    },
    {
     "name": "stderr",
     "output_type": "stream",
     "text": [
      "Iteration: 100%|██████████| 1001/1001 [00:23<00:00, 43.20it/s]\n",
      "Iteration:  14%|█▍        | 145/1001 [00:03<00:17, 48.13it/s]"
     ]
    },
    {
     "name": "stdout",
     "output_type": "stream",
     "text": [
      "Evaluating...\n"
     ]
    },
    {
     "name": "stderr",
     "output_type": "stream",
     "text": [
      "Iteration: 100%|██████████| 1001/1001 [00:23<00:00, 43.04it/s]\n",
      "Iteration:  20%|██        | 205/1001 [00:04<00:17, 45.01it/s]"
     ]
    },
    {
     "name": "stdout",
     "output_type": "stream",
     "text": [
      "Evaluating...\n"
     ]
    },
    {
     "name": "stderr",
     "output_type": "stream",
     "text": [
      "Iteration: 100%|██████████| 1001/1001 [00:23<00:00, 42.96it/s]\n",
      "Iteration:  23%|██▎       | 226/1001 [00:04<00:15, 48.55it/s]"
     ]
    },
    {
     "name": "stdout",
     "output_type": "stream",
     "text": [
      "Evaluating...\n"
     ]
    },
    {
     "name": "stderr",
     "output_type": "stream",
     "text": [
      "Iteration:  97%|█████████▋| 970/1001 [00:20<00:00, 68.69it/s]]\n",
      "Iteration:  24%|██▍       | 27/112 [00:00<00:01, 58.30it/s]/s]\n",
      "Iteration: 100%|██████████| 112/112 [00:01<00:00, 72.35it/s]s]\n",
      "Iteration:   0%|          | 4/1001 [00:00<00:26, 38.22it/s]"
     ]
    },
    {
     "name": "stdout",
     "output_type": "stream",
     "text": [
      "{'Train':  best_epoch_indx:63\n",
      " auc:0.8851353887996112 \n",
      " apur:0.5254004565132734 \n",
      " f1:0.45907868584122524 \n",
      " precision:0.3106438948169978 \n",
      " recall:0.8791737804024742 \n",
      ", 'Validation':  best_epoch_indx:63\n",
      " auc:0.8678882024205943 \n",
      " apur:0.48192747747793085 \n",
      " f1:0.4455589283357529 \n",
      " precision:0.30185979971387694 \n",
      " recall:0.8503778337531486 \n",
      "}\n",
      "=====Epoch 64\n",
      "Training...\n"
     ]
    },
    {
     "name": "stderr",
     "output_type": "stream",
     "text": [
      "\r",
      "Iteration:   1%|          | 9/1001 [00:00<00:24, 40.68it/s]\r",
      "Iteration:   1%|▏         | 14/1001 [00:00<00:23, 41.66it/s]\n",
      "\r",
      "Iteration:   0%|          | 0/1001 [00:00<?, ?it/s]"
     ]
    },
    {
     "name": "stdout",
     "output_type": "stream",
     "text": [
      "{'Train':  best_epoch_indx:63\n",
      " auc:0.8861687710384457 \n",
      " apur:0.526715386533 \n",
      " f1:0.47487368724260615 \n",
      " precision:0.3289294881473652 \n",
      " recall:0.8536203084329257 \n",
      ", 'Validation':  best_epoch_indx:63\n",
      " auc:0.8709822897580015 \n",
      " apur:0.5099319311016632 \n",
      " f1:0.46591707659873505 \n",
      " precision:0.3230994152046784 \n",
      " recall:0.8350125944584383 \n",
      "}\n",
      "=====Epoch 64\n",
      "Training...\n"
     ]
    },
    {
     "name": "stderr",
     "output_type": "stream",
     "text": [
      "Iteration:   1%|▏         | 14/1001 [00:00<00:24, 40.61it/s]\n",
      "Iteration:   7%|▋         | 69/1001 [00:01<00:20, 45.27it/s]\n",
      "Iteration:   8%|▊         | 79/1001 [00:01<00:20, 45.27it/s]\n",
      "Iteration:  14%|█▍        | 144/1001 [00:03<00:19, 43.49it/s]\n",
      "Iteration:  88%|████████▊ | 99/112 [00:01<00:00, 51.08it/s]s]"
     ]
    },
    {
     "name": "stdout",
     "output_type": "stream",
     "text": [
      "{'Train':  best_epoch_indx:63\n",
      " auc:0.8842470705363145 \n",
      " apur:0.5154472626559164 \n",
      " f1:0.48127897681854515 \n",
      " precision:0.3368468166051248 \n",
      " recall:0.8425412818359922 \n",
      ", 'Validation':  best_epoch_indx:63\n",
      " auc:0.8666910067243874 \n",
      " apur:0.479260186916195 \n",
      " f1:0.470630734773499 \n",
      " precision:0.32995643805085606 \n",
      " recall:0.8204030226700252 \n",
      "}\n",
      "=====Epoch 64\n",
      "Training...\n"
     ]
    },
    {
     "name": "stderr",
     "output_type": "stream",
     "text": [
      "Iteration:  18%|█▊        | 179/1001 [00:04<00:18, 44.67it/s]\n",
      "Iteration:  16%|█▋        | 164/1001 [00:03<00:18, 44.89it/s]"
     ]
    },
    {
     "name": "stdout",
     "output_type": "stream",
     "text": [
      "{'Train':  best_epoch_indx:63\n",
      " auc:0.8850654189502962 \n",
      " apur:0.5213295607212397 \n",
      " f1:0.46861816354193636 \n",
      " precision:0.3218885018150624 \n",
      " recall:0.8611771949956618 \n",
      ", 'Validation':  best_epoch_indx:63\n",
      " auc:0.8713905264403913 \n",
      " apur:0.4942540465497688 \n",
      " f1:0.4601672836966955 \n",
      " precision:0.3161266013564431 \n",
      " recall:0.8453400503778338 \n",
      "}\n",
      "=====Epoch 64\n",
      "Training...\n",
      "{'Train':  best_epoch_indx:63\n",
      " auc:0.8863071427956437 \n",
      " apur:0.52438576674745 \n",
      " f1:0.4748337933983904 \n",
      " precision:0.32875016150566344 \n",
      " recall:0.8545719163704554 \n",
      ", 'Validation':  best_epoch_indx:63\n",
      " auc:0.8698221441496562 \n",
      " apur:0.49310457376666844 \n",
      " f1:0.46443837152266837 \n",
      " precision:0.32171633821959034 \n",
      " recall:0.8347607052896725 \n",
      "}\n",
      "=====Epoch 64\n",
      "Training...\n"
     ]
    },
    {
     "name": "stderr",
     "output_type": "stream",
     "text": [
      "Iteration:  17%|█▋        | 169/1001 [00:03<00:18, 44.82it/s]\n",
      "Iteration:  81%|████████  | 812/1001 [00:18<00:04, 43.81it/s]"
     ]
    },
    {
     "name": "stdout",
     "output_type": "stream",
     "text": [
      "Evaluating...\n"
     ]
    },
    {
     "name": "stderr",
     "output_type": "stream",
     "text": [
      "Iteration:  80%|████████  | 802/1001 [00:18<00:04, 44.35it/s]]\n",
      "Iteration: 100%|██████████| 1001/1001 [00:23<00:00, 43.27it/s]\n",
      "Iteration:  83%|████████▎ | 827/1001 [00:19<00:03, 44.41it/s]"
     ]
    },
    {
     "name": "stdout",
     "output_type": "stream",
     "text": [
      "Evaluating...\n"
     ]
    },
    {
     "name": "stderr",
     "output_type": "stream",
     "text": [
      "Iteration:  95%|█████████▌| 952/1001 [00:22<00:01, 42.63it/s]]\n",
      "Iteration:  16%|█▌        | 159/1001 [00:03<00:16, 50.27it/s]"
     ]
    },
    {
     "name": "stdout",
     "output_type": "stream",
     "text": [
      "Evaluating...\n"
     ]
    },
    {
     "name": "stderr",
     "output_type": "stream",
     "text": [
      "Iteration: 100%|██████████| 1001/1001 [00:23<00:00, 43.13it/s]\n",
      "Iteration:   5%|▌         | 53/1001 [00:01<00:18, 52.05it/s]]"
     ]
    },
    {
     "name": "stdout",
     "output_type": "stream",
     "text": [
      "Evaluating...\n"
     ]
    },
    {
     "name": "stderr",
     "output_type": "stream",
     "text": [
      "\r",
      "Iteration:  20%|█▉        | 199/1001 [00:04<00:18, 42.71it/s]\r",
      "Iteration:   1%|          | 10/1001 [00:00<00:20, 47.44it/s]\r",
      "Iteration:  23%|██▎       | 228/1001 [00:04<00:15, 49.92it/s]\r",
      "Iteration:   6%|▌         | 59/1001 [00:01<00:18, 52.10it/s]\r",
      "Iteration: 100%|██████████| 1001/1001 [00:23<00:00, 42.93it/s]\n",
      "\r",
      "Iteration:   0%|          | 0/1001 [00:00<?, ?it/s]\r",
      "Iteration:  20%|██        | 204/1001 [00:04<00:18, 43.93it/s]\r",
      "Iteration:   2%|▏         | 16/1001 [00:00<00:19, 51.40it/s]\r",
      "Iteration:  23%|██▎       | 234/1001 [00:04<00:14, 52.03it/s]\r",
      "Iteration:   0%|          | 4/1001 [00:00<00:26, 37.23it/s]\r",
      "Iteration:   6%|▋         | 65/1001 [00:01<00:18, 50.50it/s]"
     ]
    },
    {
     "name": "stdout",
     "output_type": "stream",
     "text": [
      "Evaluating...\n"
     ]
    },
    {
     "name": "stderr",
     "output_type": "stream",
     "text": [
      "Iteration:  94%|█████████▍| 945/1001 [00:19<00:01, 53.75it/s]]\n",
      "Iteration:  99%|█████████▊| 987/1001 [00:20<00:00, 61.30it/s]\n",
      "Iteration:  83%|████████▎ | 93/112 [00:01<00:00, 75.43it/s]]s]\n",
      "Iteration:   0%|          | 0/1001 [00:00<?, ?it/s]"
     ]
    },
    {
     "name": "stdout",
     "output_type": "stream",
     "text": [
      "{'Train':  best_epoch_indx:64\n",
      " auc:0.8821126256026981 \n",
      " apur:0.519552658479693 \n",
      " f1:0.46422622681469083 \n",
      " precision:0.3176520339962043 \n",
      " recall:0.8619608721206863 \n",
      ", 'Validation':  best_epoch_indx:64\n",
      " auc:0.8635160263380053 \n",
      " apur:0.47197345251927764 \n",
      " f1:0.4517184942716858 \n",
      " precision:0.30970637740789225 \n",
      " recall:0.834256926952141 \n",
      "}\n",
      "=====Epoch 65\n",
      "Training...\n"
     ]
    },
    {
     "name": "stderr",
     "output_type": "stream",
     "text": [
      "Iteration:   2%|▏         | 19/1001 [00:00<00:23, 41.77it/s]\n",
      "Iteration:   0%|          | 4/1001 [00:00<00:25, 39.03it/s]]"
     ]
    },
    {
     "name": "stdout",
     "output_type": "stream",
     "text": [
      "{'Train':  best_epoch_indx:64\n",
      " auc:0.8849482115032633 \n",
      " apur:0.5178117922123988 \n",
      " f1:0.4759991808056461 \n",
      " precision:0.331214031241436 \n",
      " recall:0.8456715833076772 \n",
      ", 'Validation':  best_epoch_indx:64\n",
      " auc:0.8696119550797792 \n",
      " apur:0.499473933674773 \n",
      " f1:0.46493728620296454 \n",
      " precision:0.32419002186444046 \n",
      " recall:0.8216624685138539 \n",
      "}\n",
      "=====Epoch 65\n",
      "Training...\n"
     ]
    },
    {
     "name": "stderr",
     "output_type": "stream",
     "text": [
      "Iteration:   2%|▏         | 24/1001 [00:00<00:22, 42.92it/s]\n",
      "Iteration:   5%|▌         | 54/1001 [00:01<00:21, 44.13it/s]\n",
      "Iteration:  48%|████▊     | 54/112 [00:00<00:01, 52.80it/s]]\n",
      "Iteration:  15%|█▌        | 154/1001 [00:03<00:19, 43.88it/s]\n",
      "Iteration:  79%|███████▉  | 89/112 [00:01<00:00, 52.03it/s]s]"
     ]
    },
    {
     "name": "stdout",
     "output_type": "stream",
     "text": [
      "{'Train':  best_epoch_indx:64\n",
      " auc:0.8799863729785231 \n",
      " apur:0.5102383319752101 \n",
      " f1:0.4643017171325937 \n",
      " precision:0.31860583888350374 \n",
      " recall:0.8555275678701372 \n",
      ", 'Validation':  best_epoch_indx:64\n",
      " auc:0.8615104530105029 \n",
      " apur:0.47089678966096576 \n",
      " f1:0.45419089976052 \n",
      " precision:0.31178957256928136 \n",
      " recall:0.8360201511335013 \n",
      "}\n",
      "=====Epoch 65\n",
      "Training...\n"
     ]
    },
    {
     "name": "stderr",
     "output_type": "stream",
     "text": [
      "Iteration:  18%|█▊        | 184/1001 [00:04<00:18, 45.06it/s]\n",
      "Iteration:   3%|▎         | 33/1001 [00:00<00:22, 43.62it/s]]"
     ]
    },
    {
     "name": "stdout",
     "output_type": "stream",
     "text": [
      "{'Train':  best_epoch_indx:64\n",
      " auc:0.8811149686546929 \n",
      " apur:0.5133155649046695 \n",
      " f1:0.47330881886768533 \n",
      " precision:0.33013100436681225 \n",
      " recall:0.8357916538386185 \n",
      ", 'Validation':  best_epoch_indx:64\n",
      " auc:0.8694536404186329 \n",
      " apur:0.48695521052357615 \n",
      " f1:0.46782372687665164 \n",
      " precision:0.32648788754859936 \n",
      " recall:0.8249370277078085 \n",
      "}\n",
      "=====Epoch 65\n",
      "Training...\n"
     ]
    },
    {
     "name": "stderr",
     "output_type": "stream",
     "text": [
      "\r",
      "Iteration:  17%|█▋        | 169/1001 [00:03<00:18, 44.62it/s]\r",
      "Iteration:  19%|█▉        | 194/1001 [00:04<00:18, 44.30it/s]\r",
      "Iteration:   1%|          | 9/1001 [00:00<00:25, 38.50it/s]\r",
      "Iteration:   4%|▍         | 38/1001 [00:00<00:22, 43.74it/s]\n",
      "\r",
      "Iteration:   0%|          | 0/1001 [00:00<?, ?it/s]\r",
      "Iteration:  17%|█▋        | 174/1001 [00:04<00:18, 44.30it/s]\r",
      "Iteration:  20%|█▉        | 199/1001 [00:04<00:17, 45.03it/s]\r",
      "Iteration:   1%|▏         | 13/1001 [00:00<00:25, 38.87it/s]\r",
      "Iteration:   4%|▍         | 43/1001 [00:01<00:21, 44.39it/s]\r",
      "Iteration:   0%|          | 4/1001 [00:00<00:28, 34.42it/s]"
     ]
    },
    {
     "name": "stdout",
     "output_type": "stream",
     "text": [
      "{'Train':  best_epoch_indx:64\n",
      " auc:0.8816631602982234 \n",
      " apur:0.5181908170514629 \n",
      " f1:0.47299164055161297 \n",
      " precision:0.32939727774479405 \n",
      " recall:0.8385345237762042 \n",
      ", 'Validation':  best_epoch_indx:64\n",
      " auc:0.8666156208313294 \n",
      " apur:0.48847869847697606 \n",
      " f1:0.46123147092360317 \n",
      " precision:0.3216060425362751 \n",
      " recall:0.8151133501259445 \n",
      "}\n",
      "=====Epoch 65\n",
      "Training...\n"
     ]
    },
    {
     "name": "stderr",
     "output_type": "stream",
     "text": [
      "Iteration: 100%|██████████| 1001/1001 [00:22<00:00, 43.79it/s]\n",
      "Iteration:   0%|          | 5/1001 [00:00<00:23, 42.86it/s]s]"
     ]
    },
    {
     "name": "stdout",
     "output_type": "stream",
     "text": [
      "Evaluating...\n"
     ]
    },
    {
     "name": "stderr",
     "output_type": "stream",
     "text": [
      "Iteration: 100%|██████████| 1001/1001 [00:23<00:00, 43.44it/s]\n",
      "Iteration:   0%|          | 5/1001 [00:00<00:22, 43.51it/s]s]"
     ]
    },
    {
     "name": "stdout",
     "output_type": "stream",
     "text": [
      "Evaluating...\n"
     ]
    },
    {
     "name": "stderr",
     "output_type": "stream",
     "text": [
      "Iteration: 100%|██████████| 1001/1001 [00:23<00:00, 43.49it/s]\n",
      "Iteration:  98%|█████████▊| 978/1001 [00:22<00:00, 43.31it/s]"
     ]
    },
    {
     "name": "stdout",
     "output_type": "stream",
     "text": [
      "Evaluating...\n"
     ]
    },
    {
     "name": "stderr",
     "output_type": "stream",
     "text": [
      "Iteration: 100%|██████████| 1001/1001 [00:23<00:00, 43.45it/s]\n",
      "Iteration:   0%|          | 4/1001 [00:00<00:26, 37.29it/s]s]"
     ]
    },
    {
     "name": "stdout",
     "output_type": "stream",
     "text": [
      "Evaluating...\n"
     ]
    },
    {
     "name": "stderr",
     "output_type": "stream",
     "text": [
      "\r",
      "Iteration:  19%|█▉        | 195/1001 [00:03<00:17, 45.26it/s]\r",
      "Iteration:  23%|██▎       | 230/1001 [00:04<00:16, 47.09it/s]\r",
      "Iteration:   4%|▍         | 41/1001 [00:00<00:20, 47.98it/s]\r",
      "Iteration:   1%|          | 9/1001 [00:00<00:23, 41.49it/s]\r",
      "Iteration: 100%|█████████▉| 999/1001 [00:23<00:00, 43.13it/s]\r",
      "Iteration:  20%|██        | 201/1001 [00:04<00:16, 47.64it/s]\r",
      "Iteration:   5%|▍         | 46/1001 [00:00<00:20, 47.50it/s]\r",
      "Iteration:  23%|██▎       | 235/1001 [00:04<00:17, 44.13it/s]\r",
      "Iteration: 100%|██████████| 1001/1001 [00:23<00:00, 43.37it/s]\n",
      "\r",
      "Iteration:   0%|          | 0/1001 [00:00<?, ?it/s]\r",
      "Iteration:   1%|▏         | 14/1001 [00:00<00:22, 44.07it/s]"
     ]
    },
    {
     "name": "stdout",
     "output_type": "stream",
     "text": [
      "Evaluating...\n"
     ]
    },
    {
     "name": "stderr",
     "output_type": "stream",
     "text": [
      "Iteration:  99%|█████████▉| 995/1001 [00:20<00:00, 59.46it/s]]\n",
      "Iteration:  98%|█████████▊| 977/1001 [00:20<00:00, 60.10it/s]]\n",
      "Iteration:  91%|█████████ | 102/112 [00:01<00:00, 78.15it/s]s]\n",
      "Iteration:   0%|          | 0/1001 [00:00<?, ?it/s]"
     ]
    },
    {
     "name": "stdout",
     "output_type": "stream",
     "text": [
      "{'Train':  best_epoch_indx:65\n",
      " auc:0.8837537541605631 \n",
      " apur:0.524835903651063 \n",
      " f1:0.4730317529360591 \n",
      " precision:0.32736655378164814 \n",
      " recall:0.8522488734641328 \n",
      ", 'Validation':  best_epoch_indx:65\n",
      " auc:0.8694163546159267 \n",
      " apur:0.49640246841499946 \n",
      " f1:0.4622103261252376 \n",
      " precision:0.3208174440207294 \n",
      " recall:0.826448362720403 \n",
      "}\n",
      "=====Epoch 66\n",
      "Training...\n"
     ]
    },
    {
     "name": "stderr",
     "output_type": "stream",
     "text": [
      "Iteration:   1%|▏         | 14/1001 [00:00<00:23, 41.16it/s]\n",
      "Iteration:   0%|          | 4/1001 [00:00<00:26, 38.22it/s]]"
     ]
    },
    {
     "name": "stdout",
     "output_type": "stream",
     "text": [
      "{'Train':  best_epoch_indx:65\n",
      " auc:0.8864482453369186 \n",
      " apur:0.5290752739410421 \n",
      " f1:0.4690234511725586 \n",
      " precision:0.3220716248837428 \n",
      " recall:0.8626046069019564 \n",
      ", 'Validation':  best_epoch_indx:65\n",
      " auc:0.8709533225464505 \n",
      " apur:0.5050106701924921 \n",
      " f1:0.45944084836799337 \n",
      " precision:0.3161485974222896 \n",
      " recall:0.8403022670025189 \n",
      "}\n",
      "=====Epoch 66\n",
      "Training...\n"
     ]
    },
    {
     "name": "stderr",
     "output_type": "stream",
     "text": [
      "Iteration:   4%|▍         | 44/1001 [00:01<00:21, 44.57it/s]\n",
      "Iteration:   8%|▊         | 84/1001 [00:01<00:20, 45.19it/s]\n",
      "Iteration:   0%|          | 0/112 [00:00<?, ?it/s]\n",
      "Iteration:  13%|█▎        | 129/1001 [00:03<00:20, 42.27it/s]\n",
      "Iteration:  13%|█▎        | 134/1001 [00:03<00:20, 42.62it/s]"
     ]
    },
    {
     "name": "stdout",
     "output_type": "stream",
     "text": [
      "{'Train':  best_epoch_indx:65\n",
      " auc:0.8850007311291934 \n",
      " apur:0.5209047783484585 \n",
      " f1:0.46710844100954 \n",
      " precision:0.3197920757290784 \n",
      " recall:0.8660789252728799 \n",
      ", 'Validation':  best_epoch_indx:65\n",
      " auc:0.865435640890234 \n",
      " apur:0.48318967199081253 \n",
      " f1:0.45502789495169405 \n",
      " precision:0.3117076808351976 \n",
      " recall:0.8423173803526448 \n",
      "}\n",
      "=====Epoch 66\n",
      "Training...\n"
     ]
    },
    {
     "name": "stderr",
     "output_type": "stream",
     "text": [
      "Iteration:  17%|█▋        | 169/1001 [00:03<00:18, 44.12it/s]\n",
      "Iteration:  17%|█▋        | 174/1001 [00:04<00:18, 44.40it/s]\n",
      "Iteration:   0%|          | 0/1001 [00:00<?, ?it/s]"
     ]
    },
    {
     "name": "stdout",
     "output_type": "stream",
     "text": [
      "{'Train':  best_epoch_indx:65\n",
      " auc:0.8814876296978953 \n",
      " apur:0.515042053250735 \n",
      " f1:0.4765472157274419 \n",
      " precision:0.33285192138913267 \n",
      " recall:0.838562512244955 \n",
      ", 'Validation':  best_epoch_indx:65\n",
      " auc:0.8696252451112955 \n",
      " apur:0.4928258629351252 \n",
      " f1:0.4676495848840538 \n",
      " precision:0.3266346730653869 \n",
      " recall:0.8229219143576826 \n",
      "}\n",
      "=====Epoch 66\n",
      "Training...\n",
      "{'Train':  best_epoch_indx:65\n",
      " auc:0.8856782411197102 \n",
      " apur:0.5313022069977456 \n",
      " f1:0.47582569383398216 \n",
      " precision:0.3306318786199675 \n",
      " recall:0.848386464776512 \n",
      ", 'Validation':  best_epoch_indx:65\n",
      " auc:0.8691348810912896 \n",
      " apur:0.4953899430833085 \n",
      " f1:0.4666998365200085 \n",
      " precision:0.32508169125656006 \n",
      " recall:0.8269521410579345 \n",
      "}\n",
      "=====Epoch 66\n",
      "Training...\n"
     ]
    },
    {
     "name": "stderr",
     "output_type": "stream",
     "text": [
      "Iteration: 100%|██████████| 1001/1001 [00:22<00:00, 43.92it/s]\n",
      "Iteration:   0%|          | 0/1001 [00:00<?, ?it/s]"
     ]
    },
    {
     "name": "stdout",
     "output_type": "stream",
     "text": [
      "Evaluating...\n"
     ]
    },
    {
     "name": "stderr",
     "output_type": "stream",
     "text": [
      "Iteration:  83%|████████▎ | 829/1001 [00:18<00:03, 44.41it/s]"
     ]
    },
    {
     "name": "stdout",
     "output_type": "stream",
     "text": [
      "Evaluating...\n"
     ]
    },
    {
     "name": "stderr",
     "output_type": "stream",
     "text": [
      "Iteration: 100%|██████████| 1001/1001 [00:23<00:00, 43.45it/s]\n",
      "Iteration: 100%|██████████| 1001/1001 [00:22<00:00, 43.71it/s]\n",
      "Iteration:  18%|█▊        | 184/1001 [00:03<00:17, 47.00it/s]"
     ]
    },
    {
     "name": "stdout",
     "output_type": "stream",
     "text": [
      "Evaluating...\n"
     ]
    },
    {
     "name": "stderr",
     "output_type": "stream",
     "text": [
      "Iteration: 100%|██████████| 1001/1001 [00:23<00:00, 43.49it/s]\n",
      "Iteration:  23%|██▎       | 234/1001 [00:04<00:15, 49.33it/s]"
     ]
    },
    {
     "name": "stdout",
     "output_type": "stream",
     "text": [
      "Evaluating...\n"
     ]
    },
    {
     "name": "stderr",
     "output_type": "stream",
     "text": [
      "\r",
      "Iteration: 100%|█████████▉| 997/1001 [00:23<00:00, 40.38it/s]\r",
      "Iteration:   1%|          | 10/1001 [00:00<00:20, 47.72it/s]\r",
      "Iteration:  21%|██        | 207/1001 [00:04<00:17, 45.78it/s]\r",
      "Iteration:   6%|▌         | 61/1001 [00:01<00:21, 44.69it/s]\r",
      "Iteration:  24%|██▍       | 240/1001 [00:04<00:15, 49.88it/s]\r",
      "Iteration: 100%|██████████| 1001/1001 [00:23<00:00, 43.02it/s]\n",
      "\r",
      "Iteration:   0%|          | 0/1001 [00:00<?, ?it/s]\r",
      "Iteration:   2%|▏         | 16/1001 [00:00<00:20, 48.24it/s]\r",
      "Iteration:  21%|██▏       | 213/1001 [00:04<00:16, 48.21it/s]\r",
      "Iteration:   7%|▋         | 66/1001 [00:01<00:21, 43.36it/s]"
     ]
    },
    {
     "name": "stdout",
     "output_type": "stream",
     "text": [
      "Evaluating...\n"
     ]
    },
    {
     "name": "stderr",
     "output_type": "stream",
     "text": [
      "Iteration: 100%|█████████▉| 998/1001 [00:20<00:00, 61.23it/s]]\n",
      "Iteration:  98%|█████████▊| 979/1001 [00:20<00:00, 60.00it/s]]\n",
      "Iteration:  81%|████████▏ | 91/112 [00:01<00:00, 74.82it/s]]s]\n",
      "Iteration:   0%|          | 4/1001 [00:00<00:26, 37.38it/s]"
     ]
    },
    {
     "name": "stdout",
     "output_type": "stream",
     "text": [
      "{'Train':  best_epoch_indx:66\n",
      " auc:0.8885143224288263 \n",
      " apur:0.537725045117215 \n",
      " f1:0.4765020867172867 \n",
      " precision:0.32984011534075014 \n",
      " recall:0.858014498026813 \n",
      ", 'Validation':  best_epoch_indx:66\n",
      " auc:0.8717667787612182 \n",
      " apur:0.4989166736008974 \n",
      " f1:0.46206799662826636 \n",
      " precision:0.32037794661991037 \n",
      " recall:0.828463476070529 \n",
      "}\n",
      "=====Epoch 67\n",
      "Training...\n"
     ]
    },
    {
     "name": "stderr",
     "output_type": "stream",
     "text": [
      "Iteration:   2%|▏         | 19/1001 [00:00<00:23, 42.13it/s]\n",
      "Iteration:   0%|          | 4/1001 [00:00<00:26, 37.18it/s]]"
     ]
    },
    {
     "name": "stdout",
     "output_type": "stream",
     "text": [
      "{'Train':  best_epoch_indx:66\n",
      " auc:0.8868708272024729 \n",
      " apur:0.532088243104459 \n",
      " f1:0.4819831826883466 \n",
      " precision:0.33875692615133074 \n",
      " recall:0.8350359651823449 \n",
      ", 'Validation':  best_epoch_indx:66\n",
      " auc:0.8721611639821889 \n",
      " apur:0.5116172190282875 \n",
      " f1:0.47434585586902495 \n",
      " precision:0.33412273476112025 \n",
      " recall:0.8173803526448362 \n",
      "}\n",
      "=====Epoch 67\n",
      "Training...\n"
     ]
    },
    {
     "name": "stderr",
     "output_type": "stream",
     "text": [
      "Iteration:   2%|▏         | 19/1001 [00:00<00:23, 42.04it/s]\n",
      "Iteration:   6%|▌         | 59/1001 [00:01<00:21, 44.75it/s]\n",
      "Iteration:   9%|▉         | 94/1001 [00:02<00:20, 45.23it/s]\n",
      "Iteration:  14%|█▍        | 144/1001 [00:03<00:20, 41.81it/s]\n",
      "Iteration:  62%|██████▏   | 69/112 [00:01<00:00, 49.06it/s]s]"
     ]
    },
    {
     "name": "stdout",
     "output_type": "stream",
     "text": [
      "{'Train':  best_epoch_indx:66\n",
      " auc:0.8887899811796389 \n",
      " apur:0.5367935359301309 \n",
      " f1:0.4863577097049402 \n",
      " precision:0.3413394188621266 \n",
      " recall:0.845619927232018 \n",
      ", 'Validation':  best_epoch_indx:66\n",
      " auc:0.8686583471040804 \n",
      " apur:0.4901237597154021 \n",
      " f1:0.47283043573143235 \n",
      " precision:0.332412805564079 \n",
      " recall:0.818639798488665 \n",
      "}\n",
      "=====Epoch 67\n",
      "Training...\n"
     ]
    },
    {
     "name": "stderr",
     "output_type": "stream",
     "text": [
      "Iteration:   4%|▍         | 38/1001 [00:00<00:22, 43.74it/s]]"
     ]
    },
    {
     "name": "stdout",
     "output_type": "stream",
     "text": [
      "{'Train':  best_epoch_indx:66\n",
      " auc:0.8878109583113705 \n",
      " apur:0.53549042782073 \n",
      " f1:0.4850927062471736 \n",
      " precision:0.3409078010964439 \n",
      " recall:0.8406336589325198 \n",
      ", 'Validation':  best_epoch_indx:66\n",
      " auc:0.8754610560933616 \n",
      " apur:0.5053639711780379 \n",
      " f1:0.47841306884480744 \n",
      " precision:0.3366865120098542 \n",
      " recall:0.8261964735516373 \n",
      "}\n",
      "=====Epoch 67\n",
      "Training...\n"
     ]
    },
    {
     "name": "stderr",
     "output_type": "stream",
     "text": [
      "\n",
      "\r",
      "Iteration:   0%|          | 0/1001 [00:00<?, ?it/s]\r",
      "Iteration:  19%|█▉        | 189/1001 [00:04<00:18, 44.70it/s]\r",
      "Iteration:  17%|█▋        | 169/1001 [00:03<00:18, 44.84it/s]\r",
      "Iteration:   4%|▍         | 43/1001 [00:01<00:21, 44.11it/s]\r",
      "Iteration:   0%|          | 4/1001 [00:00<00:27, 36.12it/s]\r",
      "Iteration:  19%|█▉        | 194/1001 [00:04<00:17, 45.11it/s]\r",
      "Iteration:  17%|█▋        | 174/1001 [00:04<00:18, 44.95it/s]\r",
      "Iteration:   5%|▍         | 48/1001 [00:01<00:21, 43.71it/s]"
     ]
    },
    {
     "name": "stdout",
     "output_type": "stream",
     "text": [
      "{'Train':  best_epoch_indx:66\n",
      " auc:0.8895396084940652 \n",
      " apur:0.5371280652146042 \n",
      " f1:0.47184806650903816 \n",
      " precision:0.32429938876715486 \n",
      " recall:0.8657393154020544 \n",
      ", 'Validation':  best_epoch_indx:66\n",
      " auc:0.8724703190010422 \n",
      " apur:0.5019350437022638 \n",
      " f1:0.4609895011322308 \n",
      " precision:0.3167971328869188 \n",
      " recall:0.846095717884131 \n",
      "}\n",
      "=====Epoch 67\n",
      "Training...\n"
     ]
    },
    {
     "name": "stderr",
     "output_type": "stream",
     "text": [
      "\n",
      "Iteration: 100%|██████████| 1001/1001 [00:22<00:00, 43.73it/s]\n",
      "Iteration:   0%|          | 4/1001 [00:00<00:28, 34.97it/s]s]"
     ]
    },
    {
     "name": "stdout",
     "output_type": "stream",
     "text": [
      "Evaluating...\n"
     ]
    },
    {
     "name": "stderr",
     "output_type": "stream",
     "text": [
      "Iteration: 100%|██████████| 1001/1001 [00:22<00:00, 43.54it/s]\n",
      "Iteration:  88%|████████▊ | 878/1001 [00:20<00:03, 36.24it/s]"
     ]
    },
    {
     "name": "stdout",
     "output_type": "stream",
     "text": [
      "Evaluating...\n"
     ]
    },
    {
     "name": "stderr",
     "output_type": "stream",
     "text": [
      "Iteration: 100%|██████████| 1001/1001 [00:23<00:00, 43.36it/s]\n",
      "Iteration:   0%|          | 0/1001 [00:00<?, ?it/s]"
     ]
    },
    {
     "name": "stdout",
     "output_type": "stream",
     "text": [
      "Evaluating...\n"
     ]
    },
    {
     "name": "stderr",
     "output_type": "stream",
     "text": [
      "Iteration: 100%|██████████| 1001/1001 [00:23<00:00, 43.41it/s]\n",
      "Iteration:  20%|█▉        | 197/1001 [00:04<00:18, 42.57it/s]"
     ]
    },
    {
     "name": "stdout",
     "output_type": "stream",
     "text": [
      "Evaluating...\n"
     ]
    },
    {
     "name": "stderr",
     "output_type": "stream",
     "text": [
      "\r",
      "Iteration: 100%|█████████▉| 998/1001 [00:23<00:00, 42.83it/s]\r",
      "Iteration:   6%|▌         | 58/1001 [00:01<00:19, 48.71it/s]\r",
      "Iteration:   1%|          | 10/1001 [00:00<00:19, 50.41it/s]\r",
      "Iteration:  24%|██▍       | 242/1001 [00:04<00:15, 49.09it/s]\r",
      "Iteration:  20%|██        | 202/1001 [00:04<00:18, 44.36it/s]\r",
      "Iteration: 100%|██████████| 1001/1001 [00:23<00:00, 43.34it/s]\n",
      "\r",
      "Iteration:   0%|          | 0/1001 [00:00<?, ?it/s]\r",
      "Iteration:   6%|▋         | 63/1001 [00:01<00:19, 48.09it/s]\r",
      "Iteration:  25%|██▍       | 247/1001 [00:04<00:15, 48.10it/s]\r",
      "Iteration:   2%|▏         | 16/1001 [00:00<00:20, 48.82it/s]\r",
      "Iteration:  21%|██        | 209/1001 [00:04<00:16, 48.89it/s]\r",
      "Iteration:   0%|          | 4/1001 [00:00<00:27, 36.57it/s]"
     ]
    },
    {
     "name": "stdout",
     "output_type": "stream",
     "text": [
      "Evaluating...\n"
     ]
    },
    {
     "name": "stderr",
     "output_type": "stream",
     "text": [
      "Iteration:  93%|█████████▎| 934/1001 [00:19<00:01, 48.56it/s]]\n",
      "Iteration:  99%|█████████▉| 990/1001 [00:20<00:00, 59.39it/s]]\n",
      "Iteration:  69%|██████▉   | 77/112 [00:01<00:00, 76.26it/s]]s]\n",
      "Iteration:   0%|          | 4/1001 [00:00<00:27, 35.89it/s]"
     ]
    },
    {
     "name": "stdout",
     "output_type": "stream",
     "text": [
      "{'Train':  best_epoch_indx:67\n",
      " auc:0.8927018141030707 \n",
      " apur:0.5527467597519523 \n",
      " f1:0.48272768057424853 \n",
      " precision:0.3357934387455652 \n",
      " recall:0.8582943827143217 \n",
      ", 'Validation':  best_epoch_indx:67\n",
      " auc:0.8752503398793773 \n",
      " apur:0.5179063590622589 \n",
      " f1:0.4668563300142247 \n",
      " precision:0.3252725470763132 \n",
      " recall:0.8267002518891687 \n",
      "}\n",
      "=====Epoch 68\n",
      "Training...\n"
     ]
    },
    {
     "name": "stderr",
     "output_type": "stream",
     "text": [
      "Iteration:   3%|▎         | 34/1001 [00:00<00:22, 43.24it/s]\n",
      "Iteration:   0%|          | 0/1001 [00:00<?, ?it/s]"
     ]
    },
    {
     "name": "stdout",
     "output_type": "stream",
     "text": [
      "{'Train':  best_epoch_indx:67\n",
      " auc:0.8940674534114373 \n",
      " apur:0.5513700407136741 \n",
      " f1:0.4769224897912452 \n",
      " precision:0.3278760783325987 \n",
      " recall:0.8744157407148255 \n",
      ", 'Validation':  best_epoch_indx:67\n",
      " auc:0.8755815278076231 \n",
      " apur:0.5247327384477851 \n",
      " f1:0.4640044217217079 \n",
      " precision:0.3196877380045697 \n",
      " recall:0.8458438287153652 \n",
      "}\n",
      "=====Epoch 68\n",
      "Training...\n"
     ]
    },
    {
     "name": "stderr",
     "output_type": "stream",
     "text": [
      "Iteration:   5%|▍         | 49/1001 [00:01<00:21, 44.53it/s]\n",
      "Iteration:  43%|████▎     | 48/112 [00:00<00:01, 58.11it/s]]\n",
      "Iteration:   6%|▋         | 64/1001 [00:01<00:20, 44.91it/s]\n",
      "Iteration:  15%|█▌        | 154/1001 [00:03<00:18, 44.66it/s]\n",
      "Iteration:  62%|██████▎   | 70/112 [00:01<00:00, 48.36it/s]s]"
     ]
    },
    {
     "name": "stdout",
     "output_type": "stream",
     "text": [
      "{'Train':  best_epoch_indx:67\n",
      " auc:0.8921354519316685 \n",
      " apur:0.5477431565110197 \n",
      " f1:0.4844636477206719 \n",
      " precision:0.33845880168551196 \n",
      " recall:0.8520011195074167 \n",
      ", 'Validation':  best_epoch_indx:67\n",
      " auc:0.8725821721234367 \n",
      " apur:0.5066671057983216 \n",
      " f1:0.47265681067891485 \n",
      " precision:0.33048976314733036 \n",
      " recall:0.829471032745592 \n",
      "}\n",
      "=====Epoch 68\n",
      "Training...\n"
     ]
    },
    {
     "name": "stderr",
     "output_type": "stream",
     "text": [
      "Iteration:  20%|█▉        | 199/1001 [00:04<00:17, 44.83it/s]\n",
      "Iteration:   0%|          | 0/1001 [00:00<?, ?it/s]"
     ]
    },
    {
     "name": "stdout",
     "output_type": "stream",
     "text": [
      "{'Train':  best_epoch_indx:67\n",
      " auc:0.893336655778763 \n",
      " apur:0.5520365865914413 \n",
      " f1:0.47185807600054314 \n",
      " precision:0.32296668008962404 \n",
      " recall:0.8754513140586079 \n",
      ", 'Validation':  best_epoch_indx:67\n",
      " auc:0.8782252883628268 \n",
      " apur:0.5135550934058393 \n",
      " f1:0.46460387623257404 \n",
      " precision:0.31821145784816024 \n",
      " recall:0.8604534005037784 \n",
      "}\n",
      "=====Epoch 68\n",
      "Training...\n"
     ]
    },
    {
     "name": "stderr",
     "output_type": "stream",
     "text": [
      "Iteration:   1%|▏         | 14/1001 [00:00<00:25, 39.40it/s]]\n",
      "Iteration:  22%|██▏       | 219/1001 [00:05<00:18, 43.19it/s]"
     ]
    },
    {
     "name": "stdout",
     "output_type": "stream",
     "text": [
      "{'Train':  best_epoch_indx:67\n",
      " auc:0.8931684636855206 \n",
      " apur:0.5494910607098605 \n",
      " f1:0.4715751212844891 \n",
      " precision:0.3222551806956861 \n",
      " recall:0.8787539533712111 \n",
      ", 'Validation':  best_epoch_indx:67\n",
      " auc:0.8759706544446948 \n",
      " apur:0.5143288558251864 \n",
      " f1:0.4592512501689417 \n",
      " precision:0.3138160325083118 \n",
      " recall:0.8559193954659949 \n",
      "}\n",
      "=====Epoch 68\n",
      "Training...\n"
     ]
    },
    {
     "name": "stderr",
     "output_type": "stream",
     "text": [
      "Iteration: 100%|██████████| 1001/1001 [00:22<00:00, 43.68it/s]\n",
      "Iteration:   0%|          | 5/1001 [00:00<00:21, 46.51it/s]s]"
     ]
    },
    {
     "name": "stdout",
     "output_type": "stream",
     "text": [
      "Evaluating...\n"
     ]
    },
    {
     "name": "stderr",
     "output_type": "stream",
     "text": [
      "Iteration: 100%|██████████| 1001/1001 [00:22<00:00, 43.58it/s]\n",
      "Iteration:   6%|▌         | 56/1001 [00:01<00:17, 52.56it/s]]"
     ]
    },
    {
     "name": "stdout",
     "output_type": "stream",
     "text": [
      "Evaluating...\n"
     ]
    },
    {
     "name": "stderr",
     "output_type": "stream",
     "text": [
      "Iteration:  18%|█▊        | 185/1001 [00:03<00:23, 35.30it/s]]\n",
      "Iteration:   0%|          | 0/1001 [00:00<?, ?it/s]"
     ]
    },
    {
     "name": "stdout",
     "output_type": "stream",
     "text": [
      "Evaluating...\n"
     ]
    },
    {
     "name": "stderr",
     "output_type": "stream",
     "text": [
      "Iteration: 100%|██████████| 1001/1001 [00:23<00:00, 43.29it/s]\n",
      "Iteration:  98%|█████████▊| 983/1001 [00:22<00:00, 42.46it/s]"
     ]
    },
    {
     "name": "stdout",
     "output_type": "stream",
     "text": [
      "Evaluating...\n"
     ]
    },
    {
     "name": "stderr",
     "output_type": "stream",
     "text": [
      "Iteration: 100%|██████████| 1001/1001 [00:23<00:00, 43.11it/s]\n",
      "Iteration:   0%|          | 0/1001 [00:00<?, ?it/s]"
     ]
    },
    {
     "name": "stdout",
     "output_type": "stream",
     "text": [
      "Evaluating...\n"
     ]
    },
    {
     "name": "stderr",
     "output_type": "stream",
     "text": [
      "Iteration:  99%|█████████▉| 990/1001 [00:20<00:00, 59.91it/s]]\n",
      "Iteration: 100%|██████████| 1001/1001 [00:20<00:00, 48.75it/s]\n",
      "Iteration: 100%|██████████| 112/112 [00:01<00:00, 69.95it/s]s]\n",
      "Iteration:   0%|          | 4/1001 [00:00<00:29, 33.60it/s]"
     ]
    },
    {
     "name": "stdout",
     "output_type": "stream",
     "text": [
      "{'Train':  best_epoch_indx:68\n",
      " auc:0.8985610751997006 \n",
      " apur:0.5699827499632363 \n",
      " f1:0.49737302977232917 \n",
      " precision:0.35077439220552414 \n",
      " recall:0.8544879509642027 \n",
      ", 'Validation':  best_epoch_indx:68\n",
      " auc:0.8781920054267558 \n",
      " apur:0.5240188522975113 \n",
      " f1:0.47746954351974163 \n",
      " precision:0.3368889809444905 \n",
      " recall:0.8193954659949623 \n",
      "}\n",
      "=====Epoch 69\n",
      "Training...\n"
     ]
    },
    {
     "name": "stderr",
     "output_type": "stream",
     "text": [
      "Iteration:   1%|▏         | 14/1001 [00:00<00:24, 40.04it/s]\n",
      "Iteration:   3%|▎         | 29/1001 [00:00<00:22, 42.53it/s]\n",
      "Iteration:   0%|          | 4/1001 [00:00<00:28, 35.01it/s]]"
     ]
    },
    {
     "name": "stdout",
     "output_type": "stream",
     "text": [
      "{'Train':  best_epoch_indx:68\n",
      " auc:0.8984520075406253 \n",
      " apur:0.5651241581115624 \n",
      " f1:0.4906879241350231 \n",
      " precision:0.3427774319758136 \n",
      " recall:0.863136387808223 \n",
      ", 'Validation':  best_epoch_indx:68\n",
      " auc:0.8790780360993428 \n",
      " apur:0.5334686615033213 \n",
      " f1:0.4768011527377521 \n",
      " precision:0.33390514631685164 \n",
      " recall:0.8335012594458439 \n",
      "}\n",
      "=====Epoch 69\n",
      "Training...\n"
     ]
    },
    {
     "name": "stderr",
     "output_type": "stream",
     "text": [
      "Iteration:  39%|███▉      | 44/112 [00:00<00:01, 53.80it/s]]\n",
      "Iteration:  11%|█         | 12/112 [00:00<00:01, 52.90it/s]]\n",
      "Iteration:  12%|█▏        | 123/1001 [00:02<00:21, 40.44it/s]\n",
      "Iteration:  13%|█▎        | 133/1001 [00:03<00:20, 42.45it/s]"
     ]
    },
    {
     "name": "stdout",
     "output_type": "stream",
     "text": [
      "{'Train':  best_epoch_indx:68\n",
      " auc:0.8977477041934322 \n",
      " apur:0.5625996510158338 \n",
      " f1:0.48884410083610197 \n",
      " precision:0.3400885110857944 \n",
      " recall:0.8689056815001399 \n",
      ", 'Validation':  best_epoch_indx:68\n",
      " auc:0.8755525348817255 \n",
      " apur:0.513643424431205 \n",
      " f1:0.47201253382709013 \n",
      " precision:0.32903097696584593 \n",
      " recall:0.8347607052896725 \n",
      "}\n",
      "=====Epoch 69\n",
      "Training...\n"
     ]
    },
    {
     "name": "stderr",
     "output_type": "stream",
     "text": [
      "Iteration:  16%|█▋        | 163/1001 [00:03<00:18, 44.83it/s]\n",
      "Iteration:   0%|          | 0/1001 [00:00<?, ?it/s]"
     ]
    },
    {
     "name": "stdout",
     "output_type": "stream",
     "text": [
      "{'Train':  best_epoch_indx:68\n",
      " auc:0.897240500797519 \n",
      " apur:0.5671071575493231 \n",
      " f1:0.49337858305727217 \n",
      " precision:0.34715161738892564 \n",
      " recall:0.8524447927453889 \n",
      ", 'Validation':  best_epoch_indx:68\n",
      " auc:0.8825194128317504 \n",
      " apur:0.5342680231438341 \n",
      " f1:0.48301059554256476 \n",
      " precision:0.3401955738548636 \n",
      " recall:0.8324937027707808 \n",
      "}\n",
      "=====Epoch 69\n",
      "Training...\n",
      "{'Train':  best_epoch_indx:68\n",
      " auc:0.8971815726787473 \n",
      " apur:0.5615834130815232 \n",
      " f1:0.48947974125957383 \n",
      " precision:0.3416125673010879 \n",
      " recall:0.8630524224019704 \n",
      ", 'Validation':  best_epoch_indx:68\n",
      " auc:0.8774130407223538 \n",
      " apur:0.5214920629219227 \n",
      " f1:0.47372189603322357 \n",
      " precision:0.33093237294917965 \n",
      " recall:0.8332493702770781 \n",
      "}\n",
      "=====Epoch 69\n",
      "Training...\n"
     ]
    },
    {
     "name": "stderr",
     "output_type": "stream",
     "text": [
      "Iteration:   0%|          | 4/1001 [00:00<00:30, 32.97it/s]s]\n",
      "Iteration: 100%|██████████| 1001/1001 [00:23<00:00, 43.51it/s]\n",
      "Iteration:  79%|███████▉  | 794/1001 [00:18<00:04, 43.73it/s]"
     ]
    },
    {
     "name": "stdout",
     "output_type": "stream",
     "text": [
      "Evaluating...\n"
     ]
    },
    {
     "name": "stderr",
     "output_type": "stream",
     "text": [
      "Iteration: 100%|██████████| 1001/1001 [00:22<00:00, 43.67it/s]\n",
      "Iteration:  82%|████████▏ | 824/1001 [00:19<00:04, 43.01it/s]"
     ]
    },
    {
     "name": "stdout",
     "output_type": "stream",
     "text": [
      "Evaluating...\n"
     ]
    },
    {
     "name": "stderr",
     "output_type": "stream",
     "text": [
      "Iteration: 100%|██████████| 1001/1001 [00:22<00:00, 43.53it/s]\n",
      "Iteration:  20%|██        | 205/1001 [00:03<00:17, 46.70it/s]"
     ]
    },
    {
     "name": "stdout",
     "output_type": "stream",
     "text": [
      "Evaluating...\n"
     ]
    },
    {
     "name": "stderr",
     "output_type": "stream",
     "text": [
      "Iteration: 100%|██████████| 1001/1001 [00:23<00:00, 43.22it/s]\n",
      "Iteration:  20%|██        | 202/1001 [00:04<00:18, 42.12it/s]"
     ]
    },
    {
     "name": "stdout",
     "output_type": "stream",
     "text": [
      "Evaluating...\n"
     ]
    },
    {
     "name": "stderr",
     "output_type": "stream",
     "text": [
      "\r",
      "Iteration:   0%|          | 4/1001 [00:00<00:28, 35.51it/s]\r",
      "Iteration:   5%|▌         | 54/1001 [00:01<00:19, 47.37it/s]\r",
      "Iteration:  25%|██▍       | 250/1001 [00:04<00:16, 46.13it/s]\r",
      "Iteration: 100%|█████████▉| 999/1001 [00:23<00:00, 43.36it/s]\r",
      "Iteration:  21%|██        | 207/1001 [00:04<00:18, 42.98it/s]\r",
      "Iteration:   1%|          | 9/1001 [00:00<00:23, 42.67it/s]\r",
      "Iteration:   6%|▌         | 59/1001 [00:01<00:19, 47.15it/s]\r",
      "Iteration: 100%|██████████| 1001/1001 [00:23<00:00, 43.03it/s]\n",
      "\r",
      "Iteration:   0%|          | 0/1001 [00:00<?, ?it/s]\r",
      "Iteration:  25%|██▌       | 255/1001 [00:05<00:16, 46.21it/s]\r",
      "Iteration:  21%|██        | 212/1001 [00:04<00:18, 43.61it/s]"
     ]
    },
    {
     "name": "stdout",
     "output_type": "stream",
     "text": [
      "Evaluating...\n"
     ]
    },
    {
     "name": "stderr",
     "output_type": "stream",
     "text": [
      "Iteration:  93%|█████████▎| 931/1001 [00:19<00:01, 46.03it/s]]\n",
      "Iteration:  98%|█████████▊| 982/1001 [00:20<00:00, 56.91it/s]]\n",
      "Iteration: 100%|██████████| 112/112 [00:01<00:00, 70.49it/s]s]"
     ]
    },
    {
     "name": "stdout",
     "output_type": "stream",
     "text": [
      "{'Train':  best_epoch_indx:69\n",
      " auc:0.902796115332861 \n",
      " apur:0.5839290822980188 \n",
      " f1:0.49206823362943164 \n",
      " precision:0.3421256873011882 \n",
      " recall:0.8759830949648745 \n",
      ", 'Validation':  best_epoch_indx:69\n",
      " auc:0.8818522026780806 \n",
      " apur:0.5386978062772642 \n",
      " f1:0.47457142857142853 \n",
      " precision:0.3312063808574277 \n",
      " recall:0.8367758186397984 \n",
      "}\n",
      "=====Epoch 70\n",
      "Training...\n"
     ]
    },
    {
     "name": "stderr",
     "output_type": "stream",
     "text": [
      "\n",
      "Iteration:   3%|▎         | 34/1001 [00:00<00:22, 43.95it/s]\n",
      "Iteration:   0%|          | 0/1001 [00:00<?, ?it/s]\n",
      "Iteration:   0%|          | 0/112 [00:00<?, ?it/s]"
     ]
    },
    {
     "name": "stdout",
     "output_type": "stream",
     "text": [
      "{'Train':  best_epoch_indx:69\n",
      " auc:0.9022089702682858 \n",
      " apur:0.5779395629473111 \n",
      " f1:0.49174726952065356 \n",
      " precision:0.3427144652424102 \n",
      " recall:0.8701335049959417 \n",
      ", 'Validation':  best_epoch_indx:69\n",
      " auc:0.8821013918404436 \n",
      " apur:0.5468263233110906 \n",
      " f1:0.47922636103151867 \n",
      " precision:0.33483483483483484 \n",
      " recall:0.8425692695214105 \n",
      "}\n",
      "=====Epoch 70\n",
      "Training...\n"
     ]
    },
    {
     "name": "stderr",
     "output_type": "stream",
     "text": [
      "Iteration:   7%|▋         | 69/1001 [00:01<00:20, 44.97it/s]\n",
      "Iteration:   3%|▎         | 34/1001 [00:00<00:22, 42.76it/s]\n",
      "Iteration:  13%|█▎        | 134/1001 [00:03<00:19, 43.37it/s]\n",
      "Iteration:   0%|          | 4/1001 [00:00<00:27, 36.91it/s]s]"
     ]
    },
    {
     "name": "stdout",
     "output_type": "stream",
     "text": [
      "{'Train':  best_epoch_indx:69\n",
      " auc:0.9015375485399895 \n",
      " apur:0.5753208299917049 \n",
      " f1:0.5028836006969724 \n",
      " precision:0.3552876446314427 \n",
      " recall:0.8602574867058495 \n",
      ", 'Validation':  best_epoch_indx:69\n",
      " auc:0.878675212286932 \n",
      " apur:0.5233139745850731 \n",
      " f1:0.48376839458699994 \n",
      " precision:0.34240552705956245 \n",
      " recall:0.8239294710327456 \n",
      "}\n",
      "=====Epoch 70\n",
      "Training...\n"
     ]
    },
    {
     "name": "stderr",
     "output_type": "stream",
     "text": [
      "Iteration:  20%|██        | 204/1001 [00:04<00:17, 45.23it/s]\n",
      "Iteration:   3%|▎         | 33/1001 [00:00<00:22, 42.63it/s]]"
     ]
    },
    {
     "name": "stdout",
     "output_type": "stream",
     "text": [
      "{'Train':  best_epoch_indx:69\n",
      " auc:0.9024715353949915 \n",
      " apur:0.5798283521719285 \n",
      " f1:0.4937799195001707 \n",
      " precision:0.3446483587117938 \n",
      " recall:0.8704133896834504 \n",
      ", 'Validation':  best_epoch_indx:69\n",
      " auc:0.8817319152499704 \n",
      " apur:0.5366545099860287 \n",
      " f1:0.47858113423442755 \n",
      " precision:0.3341655847398382 \n",
      " recall:0.8428211586901764 \n",
      "}\n",
      "=====Epoch 70\n",
      "Training...\n",
      "{'Train':  best_epoch_indx:69\n",
      " auc:0.9013905374585187 \n",
      " apur:0.579050298292348 \n",
      " f1:0.49404614734289887 \n",
      " precision:0.34546914736983003 \n",
      " recall:0.8668588541520893 \n",
      ", 'Validation':  best_epoch_indx:69\n",
      " auc:0.8847586738562836 \n",
      " apur:0.5373499443109677 \n",
      " f1:0.48428035765791744 \n",
      " precision:0.3392604566579107 \n",
      " recall:0.8458438287153652 \n",
      "}\n",
      "=====Epoch 70\n",
      "Training...\n"
     ]
    },
    {
     "name": "stderr",
     "output_type": "stream",
     "text": [
      "Iteration:  21%|██        | 209/1001 [00:04<00:17, 44.48it/s]\n",
      "Iteration: 100%|██████████| 1001/1001 [00:22<00:00, 43.63it/s]\n",
      "Iteration:  79%|███████▉  | 789/1001 [00:18<00:04, 45.02it/s]"
     ]
    },
    {
     "name": "stdout",
     "output_type": "stream",
     "text": [
      "Evaluating...\n"
     ]
    },
    {
     "name": "stderr",
     "output_type": "stream",
     "text": [
      "Iteration: 100%|██████████| 1001/1001 [00:23<00:00, 43.50it/s]\n",
      "Iteration:  83%|████████▎ | 829/1001 [00:19<00:03, 44.44it/s]"
     ]
    },
    {
     "name": "stdout",
     "output_type": "stream",
     "text": [
      "Evaluating...\n"
     ]
    },
    {
     "name": "stderr",
     "output_type": "stream",
     "text": [
      "Iteration: 100%|██████████| 1001/1001 [00:22<00:00, 43.58it/s]\n",
      "Iteration:  17%|█▋        | 169/1001 [00:03<00:16, 49.80it/s]"
     ]
    },
    {
     "name": "stdout",
     "output_type": "stream",
     "text": [
      "Evaluating...\n"
     ]
    },
    {
     "name": "stderr",
     "output_type": "stream",
     "text": [
      "Iteration: 100%|██████████| 1001/1001 [00:23<00:00, 43.41it/s]\n",
      "Iteration: 100%|██████████| 1001/1001 [00:23<00:00, 43.10it/s]\n",
      "Iteration:   0%|          | 5/1001 [00:00<00:21, 45.56it/s]s]"
     ]
    },
    {
     "name": "stdout",
     "output_type": "stream",
     "text": [
      "Evaluating...\n",
      "Evaluating...\n"
     ]
    },
    {
     "name": "stderr",
     "output_type": "stream",
     "text": [
      "Iteration:  93%|█████████▎| 927/1001 [00:18<00:01, 59.06it/s]]\n",
      "Iteration:  99%|█████████▉| 989/1001 [00:20<00:00, 57.70it/s]]\n",
      "Iteration:  60%|█████▉    | 67/112 [00:00<00:00, 71.71it/s]]s]\n",
      "Iteration:   0%|          | 4/1001 [00:00<00:25, 38.36it/s]"
     ]
    },
    {
     "name": "stdout",
     "output_type": "stream",
     "text": [
      "{'Train':  best_epoch_indx:70\n",
      " auc:0.9012177269830706 \n",
      " apur:0.5746789633750631 \n",
      " f1:0.4832546845649884 \n",
      " precision:0.3322797769680678 \n",
      " recall:0.8856671051526771 \n",
      ", 'Validation':  best_epoch_indx:70\n",
      " auc:0.8795742029902527 \n",
      " apur:0.5255482363674847 \n",
      " f1:0.46510667584308324 \n",
      " precision:0.31998106060606063 \n",
      " recall:0.8511335012594459 \n",
      "}\n",
      "=====Epoch 71\n",
      "Training...\n"
     ]
    },
    {
     "name": "stderr",
     "output_type": "stream",
     "text": [
      "Iteration:   4%|▍         | 39/1001 [00:00<00:21, 43.99it/s]\n",
      "Iteration:   0%|          | 4/1001 [00:00<00:28, 34.89it/s]]"
     ]
    },
    {
     "name": "stdout",
     "output_type": "stream",
     "text": [
      "{'Train':  best_epoch_indx:70\n",
      " auc:0.9008604524793883 \n",
      " apur:0.5715954414254801 \n",
      " f1:0.5017964761113898 \n",
      " precision:0.35525856248108223 \n",
      " recall:0.8540961124016905 \n",
      ", 'Validation':  best_epoch_indx:70\n",
      " auc:0.8797721606025523 \n",
      " apur:0.5364326617486842 \n",
      " f1:0.48543110514941507 \n",
      " precision:0.3446925600592655 \n",
      " recall:0.8204030226700252 \n",
      "}\n",
      "=====Epoch 71\n",
      "Training...\n"
     ]
    },
    {
     "name": "stderr",
     "output_type": "stream",
     "text": [
      "Iteration:   5%|▌         | 54/1001 [00:01<00:21, 44.86it/s]\n",
      "Iteration:  54%|█████▍    | 61/112 [00:01<00:00, 59.73it/s]]\n",
      "Iteration:   6%|▌         | 59/1001 [00:01<00:21, 44.75it/s]\n",
      "Iteration:  11%|█         | 109/1001 [00:02<00:25, 34.72it/s]\n",
      "Iteration:  71%|███████   | 79/112 [00:01<00:00, 56.97it/s]s]"
     ]
    },
    {
     "name": "stdout",
     "output_type": "stream",
     "text": [
      "{'Train':  best_epoch_indx:70\n",
      " auc:0.9006796754360572 \n",
      " apur:0.5721497550814341 \n",
      " f1:0.4976001157733095 \n",
      " precision:0.34907671656270095 \n",
      " recall:0.8661069129582983 \n",
      ", 'Validation':  best_epoch_indx:70\n",
      " auc:0.8779961221050895 \n",
      " apur:0.5197782990993359 \n",
      " f1:0.4810438564697354 \n",
      " precision:0.3377099236641221 \n",
      " recall:0.8357682619647355 \n",
      "}\n",
      "=====Epoch 71\n",
      "Training...\n"
     ]
    },
    {
     "name": "stderr",
     "output_type": "stream",
     "text": [
      "Iteration:   5%|▍         | 49/1001 [00:01<00:21, 44.35it/s]]\n",
      "Iteration:   5%|▌         | 54/1001 [00:01<00:21, 44.43it/s]]\n",
      "Iteration:   0%|          | 0/1001 [00:00<?, ?it/s]"
     ]
    },
    {
     "name": "stdout",
     "output_type": "stream",
     "text": [
      "{'Train':  best_epoch_indx:70\n",
      " auc:0.9005875920167473 \n",
      " apur:0.5722068773207063 \n",
      " f1:0.4915541342789748 \n",
      " precision:0.3426963191876828 \n",
      " recall:0.8690419547146576 \n",
      ", 'Validation':  best_epoch_indx:70\n",
      " auc:0.8799949154165136 \n",
      " apur:0.527168114650797 \n",
      " f1:0.47721600228196537 \n",
      " precision:0.3328359693623794 \n",
      " recall:0.8428211586901764 \n",
      "}\n",
      "=====Epoch 71\n",
      "Training...\n",
      "{'Train':  best_epoch_indx:70\n",
      " auc:0.899792472192322 \n",
      " apur:0.5736053247492138 \n",
      " f1:0.5007735097593891 \n",
      " precision:0.35465936243370827 \n",
      " recall:0.8516331271516135 \n",
      ", 'Validation':  best_epoch_indx:70\n",
      " auc:0.881164969619785 \n",
      " apur:0.5325993612663561 \n",
      " f1:0.48556800474883133 \n",
      " precision:0.34416745555906175 \n",
      " recall:0.8241813602015113 \n",
      "}\n",
      "=====Epoch 71\n",
      "Training...\n"
     ]
    },
    {
     "name": "stderr",
     "output_type": "stream",
     "text": [
      "Iteration: 100%|██████████| 1001/1001 [00:22<00:00, 43.63it/s]\n",
      "Iteration:   0%|          | 0/1001 [00:00<?, ?it/s]"
     ]
    },
    {
     "name": "stdout",
     "output_type": "stream",
     "text": [
      "Evaluating...\n"
     ]
    },
    {
     "name": "stderr",
     "output_type": "stream",
     "text": [
      "Iteration: 100%|██████████| 1001/1001 [00:23<00:00, 43.47it/s]\n",
      "Iteration:  84%|████████▎ | 838/1001 [00:19<00:03, 43.82it/s]"
     ]
    },
    {
     "name": "stdout",
     "output_type": "stream",
     "text": [
      "Evaluating...\n"
     ]
    },
    {
     "name": "stderr",
     "output_type": "stream",
     "text": [
      "Iteration: 100%|██████████| 1001/1001 [00:22<00:00, 43.57it/s]\n",
      "Iteration:   1%|          | 10/1001 [00:00<00:20, 49.24it/s]]"
     ]
    },
    {
     "name": "stdout",
     "output_type": "stream",
     "text": [
      "Evaluating...\n"
     ]
    },
    {
     "name": "stderr",
     "output_type": "stream",
     "text": [
      "Iteration: 100%|██████████| 1001/1001 [00:23<00:00, 43.16it/s]\n",
      "Iteration: 100%|██████████| 1001/1001 [00:23<00:00, 43.28it/s]\n",
      "Iteration:   0%|          | 4/1001 [00:00<00:28, 35.25it/s]]]"
     ]
    },
    {
     "name": "stdout",
     "output_type": "stream",
     "text": [
      "Evaluating...\n",
      "Evaluating...\n"
     ]
    },
    {
     "name": "stderr",
     "output_type": "stream",
     "text": [
      "Iteration:  93%|█████████▎| 926/1001 [00:19<00:01, 62.51it/s]]\n",
      "Iteration:  62%|██████▏   | 69/112 [00:01<00:00, 60.10it/s]s]]\n",
      "Iteration:  53%|█████▎    | 59/112 [00:00<00:00, 74.74it/s]]s]\n",
      "Iteration:  68%|██████▊   | 76/112 [00:01<00:00, 76.13it/s]"
     ]
    },
    {
     "name": "stdout",
     "output_type": "stream",
     "text": [
      "{'Train':  best_epoch_indx:71\n",
      " auc:0.8989070022560564 \n",
      " apur:0.5680869122429331 \n",
      " f1:0.49164363104883546 \n",
      " precision:0.3432339207879063 \n",
      " recall:0.8661591424333175 \n",
      ", 'Validation':  best_epoch_indx:71\n",
      " auc:0.8759768216021769 \n",
      " apur:0.5196797251586748 \n",
      " f1:0.4718066743383199 \n",
      " precision:0.3301791826051943 \n",
      " recall:0.8261964735516373 \n",
      "}\n",
      "=====Epoch 72\n",
      "Training...\n"
     ]
    },
    {
     "name": "stderr",
     "output_type": "stream",
     "text": [
      "Iteration:   3%|▎         | 34/1001 [00:00<00:22, 43.54it/s]\n",
      "Iteration:   0%|          | 4/1001 [00:00<00:25, 39.16it/s]]\n",
      "Iteration:   4%|▍         | 44/1001 [00:01<00:21, 44.18it/s]"
     ]
    },
    {
     "name": "stdout",
     "output_type": "stream",
     "text": [
      "{'Train':  best_epoch_indx:71\n",
      " auc:0.8983479704278118 \n",
      " apur:0.5646847640350005 \n",
      " f1:0.4997816719806883 \n",
      " precision:0.35413553147767607 \n",
      " recall:0.8489182456827787 \n",
      ", 'Validation':  best_epoch_indx:71\n",
      " auc:0.8788623184449265 \n",
      " apur:0.5365066421151881 \n",
      " f1:0.4861059096696877 \n",
      " precision:0.34591194968553457 \n",
      " recall:0.8173803526448362 \n",
      "}\n",
      "=====Epoch 72\n",
      "Training...\n"
     ]
    },
    {
     "name": "stderr",
     "output_type": "stream",
     "text": [
      "Iteration:  10%|▉         | 99/1001 [00:02<00:19, 45.26it/s]\n",
      "Iteration:   6%|▌         | 59/1001 [00:01<00:21, 44.51it/s]\n",
      "Iteration:  14%|█▍        | 144/1001 [00:03<00:19, 44.61it/s]\n",
      "Iteration:  55%|█████▌    | 62/112 [00:01<00:01, 49.65it/s]s]"
     ]
    },
    {
     "name": "stdout",
     "output_type": "stream",
     "text": [
      "{'Train':  best_epoch_indx:71\n",
      " auc:0.8975479295343058 \n",
      " apur:0.5616038835448359 \n",
      " f1:0.5007791693807047 \n",
      " precision:0.35496125208934814 \n",
      " recall:0.8499300307864539 \n",
      ", 'Validation':  best_epoch_indx:71\n",
      " auc:0.8758730727847155 \n",
      " apur:0.516070885785272 \n",
      " f1:0.48301998959649256 \n",
      " precision:0.3425740486982186 \n",
      " recall:0.818639798488665 \n",
      "}\n",
      "=====Epoch 72\n",
      "Training...\n"
     ]
    },
    {
     "name": "stderr",
     "output_type": "stream",
     "text": [
      "Iteration:  21%|██        | 209/1001 [00:04<00:17, 45.29it/s]\n",
      "Iteration:   0%|          | 0/1001 [00:00<?, ?it/s]"
     ]
    },
    {
     "name": "stdout",
     "output_type": "stream",
     "text": [
      "{'Train':  best_epoch_indx:71\n",
      " auc:0.8969615053534423 \n",
      " apur:0.566184955202903 \n",
      " f1:0.48845591971544716 \n",
      " precision:0.340944105161655 \n",
      " recall:0.8609532872456548 \n",
      ", 'Validation':  best_epoch_indx:71\n",
      " auc:0.8793342667069753 \n",
      " apur:0.5248453007472154 \n",
      " f1:0.47732150522249245 \n",
      " precision:0.3333333333333333 \n",
      " recall:0.8403022670025189 \n",
      "}\n",
      "=====Epoch 72\n",
      "Training...\n",
      "{'Train':  best_epoch_indx:71\n",
      " auc:0.8982452548137584 \n",
      " apur:0.5657538644154816 \n",
      " f1:0.487203865949004 \n",
      " precision:0.3386864184583115 \n",
      " recall:0.8676985082146156 \n",
      ", 'Validation':  best_epoch_indx:71\n",
      " auc:0.8773792649279711 \n",
      " apur:0.5220343590564299 \n",
      " f1:0.4719467271181639 \n",
      " precision:0.3283067218608319 \n",
      " recall:0.8390428211586902 \n",
      "}\n",
      "=====Epoch 72\n",
      "Training...\n"
     ]
    },
    {
     "name": "stderr",
     "output_type": "stream",
     "text": [
      "\n",
      "Iteration: 100%|██████████| 1001/1001 [00:22<00:00, 43.86it/s]\n",
      "Iteration:  95%|█████████▌| 954/1001 [00:21<00:01, 44.57it/s]"
     ]
    },
    {
     "name": "stdout",
     "output_type": "stream",
     "text": [
      "Evaluating...\n"
     ]
    },
    {
     "name": "stderr",
     "output_type": "stream",
     "text": [
      "Iteration: 100%|██████████| 1001/1001 [00:23<00:00, 43.52it/s]\n",
      "Iteration:  89%|████████▉ | 894/1001 [00:20<00:02, 41.86it/s]"
     ]
    },
    {
     "name": "stdout",
     "output_type": "stream",
     "text": [
      "Evaluating...\n"
     ]
    },
    {
     "name": "stderr",
     "output_type": "stream",
     "text": [
      "Iteration: 100%|██████████| 1001/1001 [00:22<00:00, 43.52it/s]\n",
      "Iteration:  18%|█▊        | 183/1001 [00:03<00:17, 46.46it/s]"
     ]
    },
    {
     "name": "stdout",
     "output_type": "stream",
     "text": [
      "Evaluating...\n"
     ]
    },
    {
     "name": "stderr",
     "output_type": "stream",
     "text": [
      "Iteration: 100%|██████████| 1001/1001 [00:23<00:00, 43.40it/s]\n",
      "Iteration: 100%|██████████| 1001/1001 [00:23<00:00, 43.20it/s]\n",
      "Iteration:   0%|          | 0/1001 [00:00<?, ?it/s]"
     ]
    },
    {
     "name": "stdout",
     "output_type": "stream",
     "text": [
      "Evaluating...\n",
      "Evaluating...\n"
     ]
    },
    {
     "name": "stderr",
     "output_type": "stream",
     "text": [
      "Iteration:  96%|█████████▌| 962/1001 [00:20<00:00, 63.89it/s]]\n",
      "Iteration:  31%|███▏      | 35/112 [00:00<00:01, 62.10it/s]s]\n",
      "Iteration:  84%|████████▍ | 94/112 [00:01<00:00, 73.57it/s]]s]\n",
      "Iteration:   0%|          | 4/1001 [00:00<00:26, 37.08it/s]]"
     ]
    },
    {
     "name": "stdout",
     "output_type": "stream",
     "text": [
      "{'Train':  best_epoch_indx:72\n",
      " auc:0.895252716314788 \n",
      " apur:0.555932547533931 \n",
      " f1:0.4924430408301376 \n",
      " precision:0.3457435375304033 \n",
      " recall:0.8553835819642307 \n",
      ", 'Validation':  best_epoch_indx:72\n",
      " auc:0.875652520833121 \n",
      " apur:0.5129303125326821 \n",
      " f1:0.47650273224043727 \n",
      " precision:0.3352127114300359 \n",
      " recall:0.8236775818639799 \n",
      "}\n",
      "=====Epoch 73\n",
      "Training...\n"
     ]
    },
    {
     "name": "stderr",
     "output_type": "stream",
     "text": [
      "Iteration:   2%|▏         | 19/1001 [00:00<00:23, 41.94it/s]\n",
      "Iteration:   0%|          | 0/1001 [00:00<?, ?it/s]"
     ]
    },
    {
     "name": "stdout",
     "output_type": "stream",
     "text": [
      "{'Train':  best_epoch_indx:72\n",
      " auc:0.8954551175310699 \n",
      " apur:0.5550926234968723 \n",
      " f1:0.49321259612101903 \n",
      " precision:0.34754218551315685 \n",
      " recall:0.8491141649640348 \n",
      ", 'Validation':  best_epoch_indx:72\n",
      " auc:0.8762124378752099 \n",
      " apur:0.5289438333679413 \n",
      " f1:0.4789848162546762 \n",
      " precision:0.3378867846424506 \n",
      " recall:0.8224181360201511 \n",
      "}\n",
      "=====Epoch 73\n",
      "Training...\n"
     ]
    },
    {
     "name": "stderr",
     "output_type": "stream",
     "text": [
      "Iteration:   2%|▏         | 24/1001 [00:00<00:22, 42.59it/s]\n",
      "Iteration:   5%|▍         | 49/1001 [00:01<00:21, 44.62it/s]\n",
      "Iteration:   7%|▋         | 74/1001 [00:01<00:20, 44.50it/s]\n",
      "Iteration:  65%|██████▌   | 73/112 [00:01<00:00, 56.11it/s]s]\n",
      "Iteration:  13%|█▎        | 129/1001 [00:03<00:21, 41.02it/s]"
     ]
    },
    {
     "name": "stdout",
     "output_type": "stream",
     "text": [
      "{'Train':  best_epoch_indx:72\n",
      " auc:0.8950615917495199 \n",
      " apur:0.5503241886044067 \n",
      " f1:0.5061615235767389 \n",
      " precision:0.36322443908499596 \n",
      " recall:0.834592779177162 \n",
      ", 'Validation':  best_epoch_indx:72\n",
      " auc:0.8724887861876929 \n",
      " apur:0.49714206306384895 \n",
      " f1:0.4860972807353504 \n",
      " precision:0.3492570170610897 \n",
      " recall:0.7992443324937027 \n",
      "}\n",
      "=====Epoch 73\n",
      "Training...\n"
     ]
    },
    {
     "name": "stderr",
     "output_type": "stream",
     "text": [
      "Iteration:  18%|█▊        | 179/1001 [00:04<00:18, 44.91it/s]\n",
      "Iteration:   5%|▍         | 49/1001 [00:01<00:21, 43.72it/s]"
     ]
    },
    {
     "name": "stdout",
     "output_type": "stream",
     "text": [
      "{'Train':  best_epoch_indx:72\n",
      " auc:0.8935562837206654 \n",
      " apur:0.5484832800959647 \n",
      " f1:0.4929157649748887 \n",
      " precision:0.34799252819223764 \n",
      " recall:0.8446919869013966 \n",
      ", 'Validation':  best_epoch_indx:72\n",
      " auc:0.8788438812583471 \n",
      " apur:0.5177715115584066 \n",
      " f1:0.4831799779168201 \n",
      " precision:0.34134165366614666 \n",
      " recall:0.8267002518891687 \n",
      "}\n",
      "=====Epoch 73\n",
      "Training...\n",
      "{'Train':  best_epoch_indx:72\n",
      " auc:0.8941326842125074 \n",
      " apur:0.5560566106918876 \n",
      " f1:0.4797702626343941 \n",
      " precision:0.33158930902398837 \n",
      " recall:0.867390635058356 \n",
      ", 'Validation':  best_epoch_indx:72\n",
      " auc:0.8736161931469724 \n",
      " apur:0.5150778389546622 \n",
      " f1:0.46515533165407225 \n",
      " precision:0.32203061422205 \n",
      " recall:0.83727959697733 \n",
      "}\n",
      "=====Epoch 73\n",
      "Training...\n"
     ]
    },
    {
     "name": "stderr",
     "output_type": "stream",
     "text": [
      "Iteration:  16%|█▌        | 159/1001 [00:03<00:18, 44.38it/s]\n",
      "Iteration: 100%|██████████| 1001/1001 [00:22<00:00, 43.62it/s]\n",
      "Iteration:  81%|████████  | 808/1001 [00:18<00:04, 44.50it/s]"
     ]
    },
    {
     "name": "stdout",
     "output_type": "stream",
     "text": [
      "Evaluating...\n"
     ]
    },
    {
     "name": "stderr",
     "output_type": "stream",
     "text": [
      "Iteration: 100%|██████████| 1001/1001 [00:23<00:00, 43.45it/s]\n",
      "Iteration:  84%|████████▎ | 838/1001 [00:19<00:03, 42.80it/s]"
     ]
    },
    {
     "name": "stdout",
     "output_type": "stream",
     "text": [
      "Evaluating...\n"
     ]
    },
    {
     "name": "stderr",
     "output_type": "stream",
     "text": [
      "Iteration: 100%|██████████| 1001/1001 [00:22<00:00, 43.63it/s]\n",
      "Iteration:   0%|          | 4/1001 [00:00<00:25, 39.65it/s]s]"
     ]
    },
    {
     "name": "stdout",
     "output_type": "stream",
     "text": [
      "Evaluating...\n"
     ]
    },
    {
     "name": "stderr",
     "output_type": "stream",
     "text": [
      "Iteration: 100%|██████████| 1001/1001 [00:23<00:00, 43.25it/s]\n",
      "Iteration: 100%|█████████▉| 998/1001 [00:23<00:00, 41.02it/s]"
     ]
    },
    {
     "name": "stdout",
     "output_type": "stream",
     "text": [
      "Evaluating...\n"
     ]
    },
    {
     "name": "stderr",
     "output_type": "stream",
     "text": [
      "\r",
      "Iteration:  19%|█▉        | 191/1001 [00:03<00:18, 43.11it/s]\r",
      "Iteration:  23%|██▎       | 227/1001 [00:04<00:16, 46.60it/s]\r",
      "Iteration:   1%|          | 11/1001 [00:00<00:19, 49.83it/s]\r",
      "Iteration: 100%|██████████| 1001/1001 [00:23<00:00, 43.00it/s]\r",
      "Iteration:   8%|▊         | 77/1001 [00:01<00:17, 51.58it/s]\n",
      "\r",
      "Iteration:   0%|          | 0/1001 [00:00<?, ?it/s]\r",
      "Iteration:  20%|█▉        | 197/1001 [00:04<00:17, 45.25it/s]\r",
      "Iteration:   2%|▏         | 16/1001 [00:00<00:19, 49.70it/s]\r",
      "Iteration:  23%|██▎       | 232/1001 [00:04<00:17, 44.04it/s]\r",
      "Iteration:   0%|          | 4/1001 [00:00<00:27, 36.88it/s]\r",
      "Iteration:   8%|▊         | 83/1001 [00:01<00:18, 49.54it/s]"
     ]
    },
    {
     "name": "stdout",
     "output_type": "stream",
     "text": [
      "Evaluating...\n"
     ]
    },
    {
     "name": "stderr",
     "output_type": "stream",
     "text": [
      "Iteration: 100%|█████████▉| 998/1001 [00:20<00:00, 69.17it/s]]\n",
      "Iteration:  99%|█████████▉| 991/1001 [00:20<00:00, 65.52it/s]]\n",
      "Iteration: 100%|██████████| 112/112 [00:01<00:00, 72.86it/s]s]\n",
      "Iteration:   0%|          | 4/1001 [00:00<00:28, 34.67it/s]"
     ]
    },
    {
     "name": "stdout",
     "output_type": "stream",
     "text": [
      "{'Train':  best_epoch_indx:73\n",
      " auc:0.8930707105639193 \n",
      " apur:0.5506342924827712 \n",
      " f1:0.4851173530714241 \n",
      " precision:0.3380801745897032 \n",
      " recall:0.8584903019955779 \n",
      ", 'Validation':  best_epoch_indx:73\n",
      " auc:0.8741907245094324 \n",
      " apur:0.5157106132086542 \n",
      " f1:0.46817922374429227 \n",
      " precision:0.32659765080629105 \n",
      " recall:0.826448362720403 \n",
      "}\n",
      "=====Epoch 74\n",
      "Training...\n"
     ]
    },
    {
     "name": "stderr",
     "output_type": "stream",
     "text": [
      "\n",
      "\r",
      "Iteration:   0%|          | 0/112 [00:00<?, ?it/s]\r",
      "Iteration:   1%|          | 9/1001 [00:00<00:25, 38.62it/s]\n",
      "\r",
      "Iteration:   0%|          | 0/1001 [00:00<?, ?it/s]\r",
      "Iteration:   6%|▋         | 7/112 [00:00<00:01, 62.81it/s]\r",
      "Iteration:   1%|▏         | 14/1001 [00:00<00:24, 40.34it/s]\r",
      "Iteration:   0%|          | 4/1001 [00:00<00:28, 35.51it/s]"
     ]
    },
    {
     "name": "stdout",
     "output_type": "stream",
     "text": [
      "{'Train':  best_epoch_indx:73\n",
      " auc:0.8910627324637013 \n",
      " apur:0.5443651417810099 \n",
      " f1:0.49565830799979843 \n",
      " precision:0.35406543569808874 \n",
      " recall:0.8259677013070615 \n",
      ", 'Validation':  best_epoch_indx:73\n",
      " auc:0.8742543503746023 \n",
      " apur:0.5169947592127707 \n",
      " f1:0.4834029624003037 \n",
      " precision:0.34605764002175093 \n",
      " recall:0.8015113350125944 \n",
      "}\n",
      "=====Epoch 74\n",
      "Training...\n"
     ]
    },
    {
     "name": "stderr",
     "output_type": "stream",
     "text": [
      "Iteration:  45%|████▍     | 50/112 [00:00<00:01, 48.09it/s]]\n",
      "Iteration:  64%|██████▍   | 72/112 [00:01<00:00, 52.36it/s]]\n",
      "Iteration:  49%|████▉     | 55/112 [00:01<00:01, 55.82it/s]s]\n",
      "Iteration:   0%|          | 4/1001 [00:00<00:29, 33.42it/s]s]"
     ]
    },
    {
     "name": "stdout",
     "output_type": "stream",
     "text": [
      "{'Train':  best_epoch_indx:73\n",
      " auc:0.892204421339363 \n",
      " apur:0.5470789673346301 \n",
      " f1:0.479288425268354 \n",
      " precision:0.3316042143248381 \n",
      " recall:0.8641477749790092 \n",
      ", 'Validation':  best_epoch_indx:73\n",
      " auc:0.871337109170859 \n",
      " apur:0.49638416051247547 \n",
      " f1:0.4649405178446466 \n",
      " precision:0.32189922480620153 \n",
      " recall:0.8367758186397984 \n",
      "}\n",
      "=====Epoch 74\n",
      "Training...\n"
     ]
    },
    {
     "name": "stderr",
     "output_type": "stream",
     "text": [
      "Iteration:  96%|█████████▋| 108/112 [00:02<00:00, 55.92it/s]]\n",
      "Iteration:  17%|█▋        | 169/1001 [00:03<00:18, 44.31it/s]"
     ]
    },
    {
     "name": "stdout",
     "output_type": "stream",
     "text": [
      "{'Train':  best_epoch_indx:73\n",
      " auc:0.8910845009608613 \n",
      " apur:0.5446017728115732 \n",
      " f1:0.47954029090965866 \n",
      " precision:0.33253205128205127 \n",
      " recall:0.8595258753393602 \n",
      ", 'Validation':  best_epoch_indx:73\n",
      " auc:0.8769896497183123 \n",
      " apur:0.5154001686110835 \n",
      " f1:0.46820768636267834 \n",
      " precision:0.32466140504725716 \n",
      " recall:0.839294710327456 \n",
      "}\n",
      "=====Epoch 74\n",
      "Training...\n"
     ]
    },
    {
     "name": "stderr",
     "output_type": "stream",
     "text": [
      "\r",
      "Iteration:   1%|          | 8/1001 [00:00<00:26, 37.87it/s]\r",
      "Iteration:  16%|█▌        | 159/1001 [00:03<00:19, 43.37it/s]\r",
      "Iteration:   5%|▌         | 54/1001 [00:01<00:21, 44.65it/s]\r",
      "Iteration:  17%|█▋        | 174/1001 [00:04<00:18, 45.27it/s]\r",
      "Iteration:   1%|▏         | 13/1001 [00:00<00:24, 40.03it/s]\r",
      "Iteration:  16%|█▋        | 164/1001 [00:03<00:18, 44.23it/s]\r",
      "Iteration:   6%|▌         | 59/1001 [00:01<00:21, 44.78it/s]\r",
      "Iteration:  18%|█▊        | 179/1001 [00:04<00:18, 45.16it/s]"
     ]
    },
    {
     "name": "stdout",
     "output_type": "stream",
     "text": [
      "{'Train':  best_epoch_indx:73\n",
      " auc:0.8904407812595849 \n",
      " apur:0.5422434928452038 \n",
      " f1:0.4810891624518878 \n",
      " precision:0.33601795176573834 \n",
      " recall:0.8465952027764561 \n",
      ", 'Validation':  best_epoch_indx:73\n",
      " auc:0.8735362086715807 \n",
      " apur:0.5059420372164188 \n",
      " f1:0.47087552969905916 \n",
      " precision:0.3293479352958907 \n",
      " recall:0.8256926952141058 \n",
      "}\n",
      "=====Epoch 74\n",
      "Training...\n"
     ]
    },
    {
     "name": "stderr",
     "output_type": "stream",
     "text": [
      "\n",
      "Iteration: 100%|██████████| 1001/1001 [00:22<00:00, 44.07it/s]\n",
      "Iteration:  87%|████████▋ | 868/1001 [00:19<00:04, 32.58it/s]"
     ]
    },
    {
     "name": "stdout",
     "output_type": "stream",
     "text": [
      "Evaluating...\n"
     ]
    },
    {
     "name": "stderr",
     "output_type": "stream",
     "text": [
      "Iteration: 100%|██████████| 1001/1001 [00:22<00:00, 43.64it/s]\n",
      "Iteration:  86%|████████▌ | 858/1001 [00:19<00:03, 44.07it/s]"
     ]
    },
    {
     "name": "stdout",
     "output_type": "stream",
     "text": [
      "Evaluating...\n"
     ]
    },
    {
     "name": "stderr",
     "output_type": "stream",
     "text": [
      "Iteration: 100%|██████████| 1001/1001 [00:22<00:00, 43.57it/s]\n",
      "Iteration:  94%|█████████▍| 939/1001 [00:21<00:01, 43.14it/s]"
     ]
    },
    {
     "name": "stdout",
     "output_type": "stream",
     "text": [
      "Evaluating...\n"
     ]
    },
    {
     "name": "stderr",
     "output_type": "stream",
     "text": [
      "Iteration: 100%|██████████| 1001/1001 [00:22<00:00, 43.56it/s]\n",
      "Iteration:   5%|▌         | 55/1001 [00:01<00:19, 49.23it/s]]"
     ]
    },
    {
     "name": "stdout",
     "output_type": "stream",
     "text": [
      "Evaluating...\n"
     ]
    },
    {
     "name": "stderr",
     "output_type": "stream",
     "text": [
      "Iteration: 100%|██████████| 1001/1001 [00:23<00:00, 43.44it/s]\n",
      "Iteration:   0%|          | 4/1001 [00:00<00:26, 37.51it/s]]]"
     ]
    },
    {
     "name": "stdout",
     "output_type": "stream",
     "text": [
      "Evaluating...\n"
     ]
    },
    {
     "name": "stderr",
     "output_type": "stream",
     "text": [
      "Iteration:  99%|█████████▊| 986/1001 [00:20<00:00, 67.41it/s]]\n",
      "Iteration:  12%|█▎        | 14/112 [00:00<00:01, 65.61it/s]/s]\n",
      "Iteration: 100%|██████████| 112/112 [00:01<00:00, 72.65it/s]s]\n",
      "Iteration:   0%|          | 0/1001 [00:00<?, ?it/s]"
     ]
    },
    {
     "name": "stdout",
     "output_type": "stream",
     "text": [
      "{'Train':  best_epoch_indx:74\n",
      " auc:0.8858841087262315 \n",
      " apur:0.5309144844168906 \n",
      " f1:0.4822980572597137 \n",
      " precision:0.3374657649097311 \n",
      " recall:0.8449158946514036 \n",
      ", 'Validation':  best_epoch_indx:74\n",
      " auc:0.8700376603750233 \n",
      " apur:0.49514063141447817 \n",
      " f1:0.46796256299496036 \n",
      " precision:0.3276209677419355 \n",
      " recall:0.818639798488665 \n",
      "}\n",
      "=====Epoch 75\n",
      "Training...\n",
      "{'Train':  best_epoch_indx:74\n",
      " auc:0.886136537244332 \n",
      " apur:0.5201071273838261 \n",
      " f1:0.4787713829063346 \n",
      " precision:0.33373043449485423 \n",
      " recall:0.8467911220577122 \n",
      ", 'Validation':  best_epoch_indx:74\n",
      " auc:0.8686275627453631 \n",
      " apur:0.4909021517775039 \n",
      " f1:0.4648493543758967 \n",
      " precision:0.324974924774323 \n",
      " recall:0.8161209068010076 \n",
      "}\n",
      "=====Epoch 75\n",
      "Training...\n"
     ]
    },
    {
     "name": "stderr",
     "output_type": "stream",
     "text": [
      "Iteration:   0%|          | 4/1001 [00:00<00:28, 35.33it/s]\n",
      "Iteration:   1%|▏         | 14/1001 [00:00<00:24, 40.85it/s]\n",
      "Iteration:   6%|▌         | 59/1001 [00:01<00:20, 45.03it/s]\n",
      "Iteration:   6%|▋         | 64/1001 [00:01<00:20, 44.76it/s]\n",
      "Iteration:  12%|█▏        | 124/1001 [00:03<00:22, 39.60it/s]\n",
      "Iteration:  76%|███████▌  | 85/112 [00:01<00:00, 50.72it/s]"
     ]
    },
    {
     "name": "stdout",
     "output_type": "stream",
     "text": [
      "{'Train':  best_epoch_indx:74\n",
      " auc:0.8871906425639086 \n",
      " apur:0.5305742124942645 \n",
      " f1:0.49055161295683825 \n",
      " precision:0.3488559001512859 \n",
      " recall:0.8260845228099636 \n",
      ", 'Validation':  best_epoch_indx:74\n",
      " auc:0.8667382054077444 \n",
      " apur:0.4885747628150745 \n",
      " f1:0.4738420026982461 \n",
      " precision:0.3372812633376014 \n",
      " recall:0.7962216624685139 \n",
      "}\n",
      "=====Epoch 75\n",
      "Training...\n"
     ]
    },
    {
     "name": "stderr",
     "output_type": "stream",
     "text": [
      "Iteration:  16%|█▌        | 159/1001 [00:03<00:19, 43.44it/s]\n",
      "Iteration:  17%|█▋        | 169/1001 [00:04<00:18, 44.30it/s]"
     ]
    },
    {
     "name": "stdout",
     "output_type": "stream",
     "text": [
      "{'Train':  best_epoch_indx:74\n",
      " auc:0.8865474830827655 \n",
      " apur:0.5403309917305161 \n",
      " f1:0.4832466215110762 \n",
      " precision:0.34140900421892156 \n",
      " recall:0.8266954014945842 \n",
      ", 'Validation':  best_epoch_indx:74\n",
      " auc:0.8728859399866578 \n",
      " apur:0.5092680025865146 \n",
      " f1:0.4732498157700811 \n",
      " precision:0.33447916666666666 \n",
      " recall:0.808816120906801 \n",
      "}\n",
      "=====Epoch 75\n",
      "Training...\n"
     ]
    },
    {
     "name": "stderr",
     "output_type": "stream",
     "text": [
      "\r",
      "Iteration:   5%|▌         | 51/1001 [00:01<00:21, 44.34it/s]\r",
      "Iteration:   1%|          | 9/1001 [00:00<00:25, 39.24it/s]\r",
      "Iteration:  18%|█▊        | 179/1001 [00:04<00:18, 43.60it/s]\r",
      "Iteration:  17%|█▋        | 174/1001 [00:04<00:18, 44.36it/s]\n",
      "\r",
      "Iteration:   0%|          | 0/1001 [00:00<?, ?it/s]\r",
      "Iteration:   1%|▏         | 13/1001 [00:00<00:25, 39.51it/s]\r",
      "Iteration:   6%|▌         | 56/1001 [00:01<00:21, 43.29it/s]\r",
      "Iteration:  18%|█▊        | 184/1001 [00:04<00:18, 43.95it/s]\r",
      "Iteration:  18%|█▊        | 179/1001 [00:04<00:18, 44.77it/s]\r",
      "Iteration:   0%|          | 4/1001 [00:00<00:28, 34.45it/s]"
     ]
    },
    {
     "name": "stdout",
     "output_type": "stream",
     "text": [
      "{'Train':  best_epoch_indx:74\n",
      " auc:0.8858190466740649 \n",
      " apur:0.5282136431049845 \n",
      " f1:0.4799309521504856 \n",
      " precision:0.3371258910055189 \n",
      " recall:0.8326289568697697 \n",
      ", 'Validation':  best_epoch_indx:74\n",
      " auc:0.8693223258215156 \n",
      " apur:0.49176334673858807 \n",
      " f1:0.46759292936640723 \n",
      " precision:0.3287306944870615 \n",
      " recall:0.8095717884130983 \n",
      "}\n",
      "=====Epoch 75\n",
      "Training...\n"
     ]
    },
    {
     "name": "stderr",
     "output_type": "stream",
     "text": [
      "Iteration: 100%|██████████| 1001/1001 [00:22<00:00, 43.61it/s]\n",
      "Iteration:  81%|████████  | 812/1001 [00:18<00:04, 44.03it/s]"
     ]
    },
    {
     "name": "stdout",
     "output_type": "stream",
     "text": [
      "Evaluating...\n",
      "Evaluating...\n"
     ]
    },
    {
     "name": "stderr",
     "output_type": "stream",
     "text": [
      "Iteration: 100%|██████████| 1001/1001 [00:22<00:00, 43.55it/s]\n",
      "Iteration: 100%|██████████| 1001/1001 [00:23<00:00, 43.48it/s]\n",
      "Iteration:   0%|          | 0/1001 [00:00<?, ?it/s]"
     ]
    },
    {
     "name": "stdout",
     "output_type": "stream",
     "text": [
      "Evaluating...\n"
     ]
    },
    {
     "name": "stderr",
     "output_type": "stream",
     "text": [
      "Iteration: 100%|██████████| 1001/1001 [00:23<00:00, 43.39it/s]\n",
      "Iteration:   0%|          | 5/1001 [00:00<00:21, 45.32it/s]s]"
     ]
    },
    {
     "name": "stdout",
     "output_type": "stream",
     "text": [
      "Evaluating...\n"
     ]
    },
    {
     "name": "stderr",
     "output_type": "stream",
     "text": [
      "Iteration: 100%|██████████| 1001/1001 [00:23<00:00, 43.16it/s]\n",
      "Iteration:  22%|██▏       | 216/1001 [00:04<00:16, 46.33it/s]"
     ]
    },
    {
     "name": "stdout",
     "output_type": "stream",
     "text": [
      "Evaluating...\n"
     ]
    },
    {
     "name": "stderr",
     "output_type": "stream",
     "text": [
      "Iteration: 100%|█████████▉| 997/1001 [00:20<00:00, 73.95it/s]]\n",
      "Iteration:  98%|█████████▊| 981/1001 [00:19<00:00, 72.68it/s]\n",
      "Iteration: 100%|██████████| 112/112 [00:01<00:00, 70.25it/s]s]\n",
      "Iteration:   0%|          | 0/1001 [00:00<?, ?it/s]\n",
      "Iteration:   0%|          | 4/1001 [00:00<00:26, 37.35it/s]"
     ]
    },
    {
     "name": "stdout",
     "output_type": "stream",
     "text": [
      "{'Train':  best_epoch_indx:75\n",
      " auc:0.8898842490750488 \n",
      " apur:0.5461353992926458 \n",
      " f1:0.4771483072532994 \n",
      " precision:0.3300011798397563 \n",
      " recall:0.86112121805816 \n",
      ", 'Validation':  best_epoch_indx:75\n",
      " auc:0.8723831687943718 \n",
      " apur:0.5142055522134283 \n",
      " f1:0.46432584269662924 \n",
      " precision:0.3219084712755599 \n",
      " recall:0.8327455919395466 \n",
      "}\n",
      "=====Epoch 76\n",
      "Training...\n",
      "{'Train':  best_epoch_indx:75\n",
      " auc:0.8900341693858529 \n",
      " apur:0.5327893327773355 \n",
      " f1:0.4813889503810759 \n",
      " precision:0.33545259214368356 \n",
      " recall:0.8520809426516275 \n",
      ", 'Validation':  best_epoch_indx:75\n",
      " auc:0.8716503827709077 \n",
      " apur:0.5106014607249338 \n",
      " f1:0.4695527728085867 \n",
      " precision:0.327936031984008 \n",
      " recall:0.826448362720403 \n",
      "}\n",
      "=====Epoch 76\n",
      "Training...\n"
     ]
    },
    {
     "name": "stderr",
     "output_type": "stream",
     "text": [
      "Iteration:   2%|▏         | 19/1001 [00:00<00:23, 42.42it/s]\n",
      "Iteration:  39%|███▉      | 44/112 [00:00<00:01, 60.34it/s]]\n",
      "Iteration:   6%|▌         | 59/1001 [00:01<00:21, 44.53it/s]\n",
      "Iteration:  12%|█▏        | 119/1001 [00:02<00:22, 40.01it/s]\n",
      "Iteration:  80%|████████  | 90/112 [00:01<00:00, 47.98it/s]s]"
     ]
    },
    {
     "name": "stdout",
     "output_type": "stream",
     "text": [
      "{'Train':  best_epoch_indx:75\n",
      " auc:0.8894494415530341 \n",
      " apur:0.5351628338152478 \n",
      " f1:0.4895972030485464 \n",
      " precision:0.3456955323051368 \n",
      " recall:0.8387349566190876 \n",
      ", 'Validation':  best_epoch_indx:75\n",
      " auc:0.8691995955304694 \n",
      " apur:0.487095588830768 \n",
      " f1:0.4738357074322828 \n",
      " precision:0.3351080488568744 \n",
      " recall:0.8085642317380353 \n",
      "}\n",
      "=====Epoch 76\n",
      "Training...\n"
     ]
    },
    {
     "name": "stderr",
     "output_type": "stream",
     "text": [
      "Iteration:   4%|▍         | 39/1001 [00:00<00:21, 43.84it/s]]\n",
      "Iteration:  16%|█▋        | 164/1001 [00:03<00:19, 44.01it/s]"
     ]
    },
    {
     "name": "stdout",
     "output_type": "stream",
     "text": [
      "{'Train':  best_epoch_indx:75\n",
      " auc:0.8898792474723645 \n",
      " apur:0.5449724748564474 \n",
      " f1:0.4790098731047863 \n",
      " precision:0.33242483142041196 \n",
      " recall:0.8568389823392762 \n",
      ", 'Validation':  best_epoch_indx:75\n",
      " auc:0.8762074407205022 \n",
      " apur:0.5112353542765128 \n",
      " f1:0.4690627202255109 \n",
      " precision:0.3256360078277887 \n",
      " recall:0.8382871536523929 \n",
      "}\n",
      "=====Epoch 76\n",
      "Training...\n",
      "{'Train':  best_epoch_indx:75\n",
      " auc:0.8898768063123631 \n",
      " apur:0.5452750878436606 \n",
      " f1:0.48693336383168184 \n",
      " precision:0.3438199395491567 \n",
      " recall:0.8341403341823169 \n",
      ", 'Validation':  best_epoch_indx:75\n",
      " auc:0.8724263946111643 \n",
      " apur:0.5078020869111176 \n",
      " f1:0.472363288437477 \n",
      " precision:0.33367994176978266 \n",
      " recall:0.8083123425692695 \n",
      "}\n",
      "=====Epoch 76\n",
      "Training...\n"
     ]
    },
    {
     "name": "stderr",
     "output_type": "stream",
     "text": [
      "Iteration:   4%|▍         | 44/1001 [00:01<00:21, 44.23it/s]]\n",
      "Iteration: 100%|██████████| 1001/1001 [00:22<00:00, 43.62it/s]\n",
      "Iteration:  87%|████████▋ | 869/1001 [00:20<00:04, 32.73it/s]"
     ]
    },
    {
     "name": "stdout",
     "output_type": "stream",
     "text": [
      "Evaluating...\n",
      "Evaluating...\n"
     ]
    },
    {
     "name": "stderr",
     "output_type": "stream",
     "text": [
      "Iteration:  83%|████████▎ | 834/1001 [00:19<00:03, 43.08it/s]]\n",
      "Iteration: 100%|██████████| 1001/1001 [00:23<00:00, 43.31it/s]\n",
      "Iteration:  95%|█████████▌| 954/1001 [00:22<00:01, 44.44it/s]"
     ]
    },
    {
     "name": "stdout",
     "output_type": "stream",
     "text": [
      "Evaluating...\n"
     ]
    },
    {
     "name": "stderr",
     "output_type": "stream",
     "text": [
      "Iteration: 100%|██████████| 1001/1001 [00:23<00:00, 43.28it/s]\n",
      "Iteration: 100%|██████████| 1001/1001 [00:23<00:00, 43.19it/s]\n",
      "Iteration:   6%|▌         | 57/1001 [00:01<00:18, 50.57it/s]"
     ]
    },
    {
     "name": "stdout",
     "output_type": "stream",
     "text": [
      "Evaluating...\n",
      "Evaluating...\n"
     ]
    },
    {
     "name": "stderr",
     "output_type": "stream",
     "text": [
      "Iteration: 100%|█████████▉| 997/1001 [00:20<00:00, 76.57it/s]]\n",
      "Iteration:   0%|          | 0/112 [00:00<?, ?it/s]\n",
      "Iteration: 100%|██████████| 112/112 [00:01<00:00, 75.16it/s]s]\n",
      "Iteration:   0%|          | 0/1001 [00:00<?, ?it/s]\n",
      "Iteration:   0%|          | 4/1001 [00:00<00:28, 35.49it/s]"
     ]
    },
    {
     "name": "stdout",
     "output_type": "stream",
     "text": [
      "{'Train':  best_epoch_indx:76\n",
      " auc:0.8942104958432812 \n",
      " apur:0.5571056371942394 \n",
      " f1:0.49236324598643433 \n",
      " precision:0.3470176202868312 \n",
      " recall:0.8472109490889753 \n",
      ", 'Validation':  best_epoch_indx:76\n",
      " auc:0.8770536912987537 \n",
      " apur:0.5299432755932606 \n",
      " f1:0.4804131316857249 \n",
      " precision:0.33969744392279605 \n",
      " recall:0.8201511335012595 \n",
      "}\n",
      "=====Epoch 77\n",
      "Training...\n",
      "{'Train':  best_epoch_indx:76\n",
      " auc:0.8940666416813963 \n",
      " apur:0.5541591256920538 \n",
      " f1:0.4870640990983828 \n",
      " precision:0.3401632517074796 \n",
      " recall:0.8572867978392902 \n",
      ", 'Validation':  best_epoch_indx:76\n",
      " auc:0.8762199121786488 \n",
      " apur:0.5165232272147917 \n",
      " f1:0.472423959157259 \n",
      " precision:0.33058267082620507 \n",
      " recall:0.827455919395466 \n",
      "}\n",
      "=====Epoch 77\n",
      "Training...\n"
     ]
    },
    {
     "name": "stderr",
     "output_type": "stream",
     "text": [
      "Iteration:   2%|▏         | 24/1001 [00:00<00:23, 41.99it/s]\n",
      "Iteration:   5%|▍         | 49/1001 [00:01<00:21, 44.37it/s]\n",
      "Iteration:   5%|▌         | 6/112 [00:00<00:02, 52.72it/s]]]\n",
      "Iteration:  12%|█▏        | 124/1001 [00:02<00:21, 40.63it/s]\n",
      "Iteration:  79%|███████▉  | 89/112 [00:01<00:00, 51.03it/s]"
     ]
    },
    {
     "name": "stdout",
     "output_type": "stream",
     "text": [
      "{'Train':  best_epoch_indx:76\n",
      " auc:0.8933741925455294 \n",
      " apur:0.5480116133734667 \n",
      " f1:0.4850883971801221 \n",
      " precision:0.337688287734399 \n",
      " recall:0.8608452280996362 \n",
      ", 'Validation':  best_epoch_indx:76\n",
      " auc:0.8734080526533821 \n",
      " apur:0.5023979131141559 \n",
      " f1:0.4709397453226151 \n",
      " precision:0.32814513730544265 \n",
      " recall:0.8337531486146096 \n",
      "}\n",
      "=====Epoch 77\n",
      "Training...\n"
     ]
    },
    {
     "name": "stderr",
     "output_type": "stream",
     "text": [
      "Iteration:   3%|▎         | 33/1001 [00:00<00:22, 43.70it/s]]\n",
      "Iteration:   4%|▍         | 38/1001 [00:00<00:21, 44.10it/s]]\n",
      "Iteration:   0%|          | 0/1001 [00:00<?, ?it/s]"
     ]
    },
    {
     "name": "stdout",
     "output_type": "stream",
     "text": [
      "{'Train':  best_epoch_indx:76\n",
      " auc:0.8939556605340426 \n",
      " apur:0.5506538896754711 \n",
      " f1:0.49388167127627275 \n",
      " precision:0.3493926937457907 \n",
      " recall:0.842145036245067 \n",
      ", 'Validation':  best_epoch_indx:76\n",
      " auc:0.8747457772542717 \n",
      " apur:0.5083867344443795 \n",
      " f1:0.4793596679759875 \n",
      " precision:0.33959886590360183 \n",
      " recall:0.8146095717884131 \n",
      "}\n",
      "=====Epoch 77\n",
      "Training...\n",
      "{'Train':  best_epoch_indx:76\n",
      " auc:0.892676092147555 \n",
      " apur:0.5498834376735968 \n",
      " f1:0.48277056549704384 \n",
      " precision:0.3358563729571047 \n",
      " recall:0.8581544403705673 \n",
      ", 'Validation':  best_epoch_indx:76\n",
      " auc:0.8770049497545951 \n",
      " apur:0.5154770332373168 \n",
      " f1:0.4734525837592276 \n",
      " precision:0.3296105949792449 \n",
      " recall:0.8400503778337531 \n",
      "}\n",
      "=====Epoch 77\n",
      "Training...\n"
     ]
    },
    {
     "name": "stderr",
     "output_type": "stream",
     "text": [
      "Iteration: 100%|██████████| 1001/1001 [00:22<00:00, 43.75it/s]\n",
      "Iteration:  83%|████████▎ | 829/1001 [00:19<00:04, 42.14it/s]"
     ]
    },
    {
     "name": "stdout",
     "output_type": "stream",
     "text": [
      "Evaluating...\n",
      "Evaluating...\n"
     ]
    },
    {
     "name": "stderr",
     "output_type": "stream",
     "text": [
      "Iteration: 100%|██████████| 1001/1001 [00:23<00:00, 43.48it/s]\n",
      "Iteration: 100%|██████████| 1001/1001 [00:23<00:00, 43.32it/s]\n",
      "Iteration:  97%|█████████▋| 969/1001 [00:22<00:00, 44.39it/s]"
     ]
    },
    {
     "name": "stdout",
     "output_type": "stream",
     "text": [
      "Evaluating...\n"
     ]
    },
    {
     "name": "stderr",
     "output_type": "stream",
     "text": [
      "Iteration: 100%|██████████| 1001/1001 [00:23<00:00, 43.27it/s]\n",
      "Iteration: 100%|██████████| 1001/1001 [00:23<00:00, 43.10it/s]\n",
      "Iteration:  20%|██        | 203/1001 [00:04<00:17, 46.15it/s]"
     ]
    },
    {
     "name": "stdout",
     "output_type": "stream",
     "text": [
      "Evaluating...\n",
      "Evaluating...\n"
     ]
    },
    {
     "name": "stderr",
     "output_type": "stream",
     "text": [
      "Iteration:  99%|█████████▊| 988/1001 [00:20<00:00, 68.81it/s]]\n",
      "Iteration:   0%|          | 0/112 [00:00<?, ?it/s]\n",
      "Iteration: 100%|██████████| 112/112 [00:01<00:00, 72.15it/s]s]\n",
      "Iteration:   0%|          | 0/1001 [00:00<?, ?it/s]\n",
      "Iteration:   0%|          | 4/1001 [00:00<00:28, 34.95it/s]"
     ]
    },
    {
     "name": "stdout",
     "output_type": "stream",
     "text": [
      "{'Train':  best_epoch_indx:77\n",
      " auc:0.8987974463737172 \n",
      " apur:0.5641052331866895 \n",
      " f1:0.48672469566032717 \n",
      " precision:0.3376150369093688 \n",
      " recall:0.8717288477147416 \n",
      ", 'Validation':  best_epoch_indx:77\n",
      " auc:0.8796961789937958 \n",
      " apur:0.5342695503635271 \n",
      " f1:0.4717514124293785 \n",
      " precision:0.3277723258096173 \n",
      " recall:0.8413098236775819 \n",
      "}\n",
      "=====Epoch 78\n",
      "Training...\n",
      "{'Train':  best_epoch_indx:77\n",
      " auc:0.898548871099655 \n",
      " apur:0.5684837454665375 \n",
      " f1:0.5036338114737078 \n",
      " precision:0.3580809751027543 \n",
      " recall:0.8485543955890174 \n",
      ", 'Validation':  best_epoch_indx:77\n",
      " auc:0.87823576267338 \n",
      " apur:0.5254731406999599 \n",
      " f1:0.48434802192027626 \n",
      " precision:0.3449898406587531 \n",
      " recall:0.8125944584382871 \n",
      "}\n",
      "=====Epoch 78\n",
      "Training...\n"
     ]
    },
    {
     "name": "stderr",
     "output_type": "stream",
     "text": [
      "Iteration:   3%|▎         | 29/1001 [00:00<00:22, 43.17it/s]\n",
      "Iteration:   6%|▌         | 59/1001 [00:01<00:21, 44.79it/s]\n",
      "Iteration:   6%|▋         | 64/1001 [00:01<00:20, 45.19it/s]\n",
      "Iteration:  77%|███████▋  | 86/112 [00:01<00:00, 53.51it/s]s]\n",
      "Iteration:  14%|█▍        | 139/1001 [00:03<00:19, 43.93it/s]"
     ]
    },
    {
     "name": "stdout",
     "output_type": "stream",
     "text": [
      "{'Train':  best_epoch_indx:77\n",
      " auc:0.8985277085276244 \n",
      " apur:0.565473200959607 \n",
      " f1:0.49438364401683704 \n",
      " precision:0.3464351929883701 \n",
      " recall:0.8628883291351805 \n",
      ", 'Validation':  best_epoch_indx:77\n",
      " auc:0.8771284857618376 \n",
      " apur:0.5139961387885466 \n",
      " f1:0.47667342799188633 \n",
      " precision:0.33455358958714665 \n",
      " recall:0.8287153652392947 \n",
      "}\n",
      "=====Epoch 78\n",
      "Training...\n"
     ]
    },
    {
     "name": "stderr",
     "output_type": "stream",
     "text": [
      "Iteration:  17%|█▋        | 169/1001 [00:03<00:18, 44.75it/s]\n",
      "Iteration:  17%|█▋        | 174/1001 [00:04<00:18, 44.21it/s]\n",
      "Iteration:   0%|          | 4/1001 [00:00<00:28, 35.38it/s]s]"
     ]
    },
    {
     "name": "stdout",
     "output_type": "stream",
     "text": [
      "{'Train':  best_epoch_indx:77\n",
      " auc:0.8979004651973889 \n",
      " apur:0.5674621954366975 \n",
      " f1:0.48727036820202846 \n",
      " precision:0.33964199450749427 \n",
      " recall:0.8619048951831846 \n",
      ", 'Validation':  best_epoch_indx:77\n",
      " auc:0.8784661417911362 \n",
      " apur:0.5266051350700586 \n",
      " f1:0.47453025648353225 \n",
      " precision:0.33120574448987733 \n",
      " recall:0.8365239294710327 \n",
      "}\n",
      "=====Epoch 78\n",
      "Training...\n",
      "{'Train':  best_epoch_indx:77\n",
      " auc:0.8979382437040295 \n",
      " apur:0.5637406222661198 \n",
      " f1:0.49761335541829516 \n",
      " precision:0.35118855668678306 \n",
      " recall:0.8534523776204204 \n",
      ", 'Validation':  best_epoch_indx:77\n",
      " auc:0.8813836915670401 \n",
      " apur:0.5246087462714901 \n",
      " f1:0.4859509020999705 \n",
      " precision:0.34393971111576305 \n",
      " recall:0.8277078085642318 \n",
      "}\n",
      "=====Epoch 78\n",
      "Training...\n"
     ]
    },
    {
     "name": "stderr",
     "output_type": "stream",
     "text": [
      "Iteration: 100%|██████████| 1001/1001 [00:22<00:00, 43.70it/s]\n",
      "Iteration: 100%|██████████| 1001/1001 [00:22<00:00, 43.74it/s]\n",
      "Iteration:   0%|          | 4/1001 [00:00<00:25, 38.96it/s]s]"
     ]
    },
    {
     "name": "stdout",
     "output_type": "stream",
     "text": [
      "Evaluating...\n",
      "Evaluating...\n"
     ]
    },
    {
     "name": "stderr",
     "output_type": "stream",
     "text": [
      "Iteration: 100%|██████████| 1001/1001 [00:22<00:00, 43.55it/s]\n",
      "Iteration:  17%|█▋        | 175/1001 [00:03<00:17, 46.80it/s]"
     ]
    },
    {
     "name": "stdout",
     "output_type": "stream",
     "text": [
      "Evaluating...\n"
     ]
    },
    {
     "name": "stderr",
     "output_type": "stream",
     "text": [
      "Iteration: 100%|██████████| 1001/1001 [00:23<00:00, 43.48it/s]\n",
      "Iteration:   0%|          | 0/1001 [00:00<?, ?it/s]"
     ]
    },
    {
     "name": "stdout",
     "output_type": "stream",
     "text": [
      "Evaluating...\n",
      "Evaluating...\n"
     ]
    },
    {
     "name": "stderr",
     "output_type": "stream",
     "text": [
      "Iteration: 100%|██████████| 1001/1001 [00:23<00:00, 43.36it/s]\n",
      "Iteration:  98%|█████████▊| 978/1001 [00:20<00:00, 63.69it/s]]\n",
      "Iteration:   0%|          | 0/112 [00:00<?, ?it/s]\n",
      "Iteration: 100%|██████████| 112/112 [00:01<00:00, 69.71it/s]s]\n",
      "Iteration:   0%|          | 4/1001 [00:00<00:26, 37.14it/s]"
     ]
    },
    {
     "name": "stdout",
     "output_type": "stream",
     "text": [
      "{'Train':  best_epoch_indx:78\n",
      " auc:0.904271124589184 \n",
      " apur:0.5872528556046689 \n",
      " f1:0.4988331528930591 \n",
      " precision:0.3495829867589866 \n",
      " recall:0.8704693666209522 \n",
      ", 'Validation':  best_epoch_indx:78\n",
      " auc:0.8811756153593165 \n",
      " apur:0.5343976674253244 \n",
      " f1:0.47905493549789824 \n",
      " precision:0.3362840862840863 \n",
      " recall:0.8324937027707808 \n",
      "}\n",
      "=====Epoch 79\n",
      "Training...\n"
     ]
    },
    {
     "name": "stderr",
     "output_type": "stream",
     "text": [
      "Iteration:   3%|▎         | 29/1001 [00:00<00:22, 43.17it/s]\n",
      "Iteration:   0%|          | 0/1001 [00:00<?, ?it/s]\n",
      "Iteration:   0%|          | 4/1001 [00:00<00:27, 36.86it/s]]"
     ]
    },
    {
     "name": "stdout",
     "output_type": "stream",
     "text": [
      "{'Train':  best_epoch_indx:78\n",
      " auc:0.9030991164685873 \n",
      " apur:0.5826673561886582 \n",
      " f1:0.5000570004722896 \n",
      " precision:0.35261894644969394 \n",
      " recall:0.8593859329956058 \n",
      ", 'Validation':  best_epoch_indx:78\n",
      " auc:0.8822769436853236 \n",
      " apur:0.5497257214101096 \n",
      " f1:0.48666175386882826 \n",
      " precision:0.3439583333333333 \n",
      " recall:0.8317380352644836 \n",
      "}\n",
      "=====Epoch 79\n",
      "Training...\n"
     ]
    },
    {
     "name": "stderr",
     "output_type": "stream",
     "text": [
      "Iteration:   3%|▎         | 29/1001 [00:00<00:22, 43.19it/s]\n",
      "Iteration:   5%|▌         | 6/112 [00:00<00:01, 54.69it/s]s]\n",
      "Iteration:  13%|█▎        | 134/1001 [00:03<00:20, 42.51it/s]\n",
      "Iteration:   0%|          | 4/1001 [00:00<00:27, 36.60it/s]s]"
     ]
    },
    {
     "name": "stdout",
     "output_type": "stream",
     "text": [
      "{'Train':  best_epoch_indx:78\n",
      " auc:0.9030181457132307 \n",
      " apur:0.5799607915560955 \n",
      " f1:0.4973270565706534 \n",
      " precision:0.3478236607142857 \n",
      " recall:0.8722362160649314 \n",
      ", 'Validation':  best_epoch_indx:78\n",
      " auc:0.8799750210836214 \n",
      " apur:0.5281659391895419 \n",
      " f1:0.47930910399424265 \n",
      " precision:0.3355163727959698 \n",
      " recall:0.8387909319899244 \n",
      "}\n",
      "=====Epoch 79\n",
      "Training...\n"
     ]
    },
    {
     "name": "stderr",
     "output_type": "stream",
     "text": [
      "Iteration:  17%|█▋        | 169/1001 [00:03<00:18, 44.53it/s]\n",
      "Iteration:   3%|▎         | 34/1001 [00:00<00:22, 42.26it/s]"
     ]
    },
    {
     "name": "stdout",
     "output_type": "stream",
     "text": [
      "{'Train':  best_epoch_indx:78\n",
      " auc:0.9013310062987262 \n",
      " apur:0.5801714135491093 \n",
      " f1:0.5069468375709183 \n",
      " precision:0.36226365230761837 \n",
      " recall:0.8440482521201265 \n",
      ", 'Validation':  best_epoch_indx:78\n",
      " auc:0.8831145928146059 \n",
      " apur:0.5425034425781077 \n",
      " f1:0.4916666666666667 \n",
      " precision:0.3515709642470206 \n",
      " recall:0.8173803526448362 \n",
      "}\n",
      "=====Epoch 79\n",
      "Training...\n"
     ]
    },
    {
     "name": "stderr",
     "output_type": "stream",
     "text": [
      "\r",
      "Iteration:  20%|██        | 204/1001 [00:04<00:18, 43.53it/s]\r",
      "Iteration:  17%|█▋        | 174/1001 [00:04<00:18, 44.46it/s]\r",
      "Iteration:   0%|          | 4/1001 [00:00<00:30, 32.87it/s]\r",
      "Iteration:   4%|▍         | 39/1001 [00:00<00:22, 42.09it/s]\r",
      "Iteration:  18%|█▊        | 179/1001 [00:04<00:19, 43.11it/s]\r",
      "Iteration:  21%|██        | 209/1001 [00:04<00:19, 40.09it/s]\r",
      "Iteration:   1%|          | 9/1001 [00:00<00:26, 37.71it/s]\n",
      "\r",
      "Iteration:   0%|          | 0/1001 [00:00<?, ?it/s]\r",
      "Iteration:   4%|▍         | 44/1001 [00:01<00:22, 43.01it/s]"
     ]
    },
    {
     "name": "stdout",
     "output_type": "stream",
     "text": [
      "{'Train':  best_epoch_indx:78\n",
      " auc:0.9036910056668268 \n",
      " apur:0.5849333983726512 \n",
      " f1:0.49318680624634864 \n",
      " precision:0.34347955177760425 \n",
      " recall:0.8742198214335694 \n",
      ", 'Validation':  best_epoch_indx:78\n",
      " auc:0.8825135799607754 \n",
      " apur:0.5420860666394329 \n",
      " f1:0.47802588536481294 \n",
      " precision:0.3330360681728102 \n",
      " recall:0.8465994962216624 \n",
      "}\n",
      "=====Epoch 79\n",
      "Training...\n"
     ]
    },
    {
     "name": "stderr",
     "output_type": "stream",
     "text": [
      "Iteration: 100%|██████████| 1001/1001 [00:22<00:00, 43.59it/s]\n",
      "Iteration:  84%|████████▍ | 839/1001 [00:19<00:03, 44.51it/s]"
     ]
    },
    {
     "name": "stdout",
     "output_type": "stream",
     "text": [
      "Evaluating...\n"
     ]
    },
    {
     "name": "stderr",
     "output_type": "stream",
     "text": [
      "Iteration: 100%|██████████| 1001/1001 [00:22<00:00, 43.54it/s]\n",
      "Iteration:   0%|          | 5/1001 [00:00<00:22, 44.26it/s]s]"
     ]
    },
    {
     "name": "stdout",
     "output_type": "stream",
     "text": [
      "Evaluating...\n"
     ]
    },
    {
     "name": "stderr",
     "output_type": "stream",
     "text": [
      "Iteration: 100%|██████████| 1001/1001 [00:23<00:00, 43.50it/s]\n",
      "Iteration:   0%|          | 4/1001 [00:00<00:25, 38.77it/s]s]"
     ]
    },
    {
     "name": "stdout",
     "output_type": "stream",
     "text": [
      "Evaluating...\n"
     ]
    },
    {
     "name": "stderr",
     "output_type": "stream",
     "text": [
      "Iteration: 100%|██████████| 1001/1001 [00:23<00:00, 43.18it/s]\n",
      "Iteration:   5%|▍         | 46/1001 [00:00<00:20, 47.25it/s]]"
     ]
    },
    {
     "name": "stdout",
     "output_type": "stream",
     "text": [
      "Evaluating...\n"
     ]
    },
    {
     "name": "stderr",
     "output_type": "stream",
     "text": [
      "\r",
      "Iteration:   0%|          | 4/1001 [00:00<00:25, 38.53it/s]\r",
      "Iteration:  20%|██        | 201/1001 [00:04<00:18, 44.28it/s]\r",
      "Iteration:  24%|██▍       | 240/1001 [00:05<00:16, 46.78it/s]\r",
      "Iteration: 100%|█████████▉| 999/1001 [00:23<00:00, 43.26it/s]\r",
      "Iteration:   5%|▌         | 52/1001 [00:01<00:19, 48.78it/s]\r",
      "Iteration:   1%|          | 10/1001 [00:00<00:20, 49.47it/s]\r",
      "Iteration: 100%|██████████| 1001/1001 [00:23<00:00, 43.23it/s]\n",
      "\r",
      "Iteration:   0%|          | 0/1001 [00:00<?, ?it/s]\r",
      "Iteration:  21%|██        | 206/1001 [00:04<00:17, 45.00it/s]\r",
      "Iteration:  24%|██▍       | 245/1001 [00:05<00:16, 45.38it/s]\r",
      "Iteration:   6%|▌         | 58/1001 [00:01<00:19, 48.56it/s]"
     ]
    },
    {
     "name": "stdout",
     "output_type": "stream",
     "text": [
      "Evaluating...\n"
     ]
    },
    {
     "name": "stderr",
     "output_type": "stream",
     "text": [
      "Iteration:  93%|█████████▎| 935/1001 [00:19<00:01, 52.20it/s]]\n",
      "Iteration:  61%|██████    | 68/112 [00:01<00:00, 60.65it/s]/s]\n",
      "Iteration: 100%|██████████| 112/112 [00:01<00:00, 74.75it/s]s]\n",
      "Iteration:   0%|          | 4/1001 [00:00<00:27, 36.02it/s]"
     ]
    },
    {
     "name": "stdout",
     "output_type": "stream",
     "text": [
      "{'Train':  best_epoch_indx:79\n",
      " auc:0.9086438093425451 \n",
      " apur:0.6018550738950417 \n",
      " f1:0.5067865212373412 \n",
      " precision:0.35708804361520574 \n",
      " recall:0.8725964902460186 \n",
      ", 'Validation':  best_epoch_indx:79\n",
      " auc:0.8849169456601855 \n",
      " apur:0.5494444552976491 \n",
      " f1:0.48692834523897194 \n",
      " precision:0.34405245082734937 \n",
      " recall:0.8327455919395466 \n",
      "}\n",
      "=====Epoch 80\n",
      "Training...\n"
     ]
    },
    {
     "name": "stderr",
     "output_type": "stream",
     "text": [
      "Iteration:   2%|▏         | 24/1001 [00:00<00:23, 42.15it/s]\n",
      "Iteration:  12%|█▎        | 14/112 [00:00<00:01, 60.12it/s]]\n",
      "Iteration:   0%|          | 0/1001 [00:00<?, ?it/s]"
     ]
    },
    {
     "name": "stdout",
     "output_type": "stream",
     "text": [
      "{'Train':  best_epoch_indx:79\n",
      " auc:0.907143575182318 \n",
      " apur:0.5976558463056216 \n",
      " f1:0.5019449274190287 \n",
      " precision:0.35295589472965905 \n",
      " recall:0.8685941392146436 \n",
      ", 'Validation':  best_epoch_indx:79\n",
      " auc:0.885041188811962 \n",
      " apur:0.5618251219721753 \n",
      " f1:0.4854753521126761 \n",
      " precision:0.3424756779134755 \n",
      " recall:0.8335012594458439 \n",
      "}\n",
      "=====Epoch 80\n",
      "Training...\n"
     ]
    },
    {
     "name": "stderr",
     "output_type": "stream",
     "text": [
      "Iteration:  48%|████▊     | 54/112 [00:00<00:00, 58.88it/s]]\n",
      "Iteration:   5%|▌         | 6/112 [00:00<00:01, 57.99it/s]]]\n",
      "Iteration:  16%|█▌        | 159/1001 [00:03<00:19, 43.22it/s]\n",
      "Iteration: 100%|██████████| 112/112 [00:02<00:00, 53.17it/s]]"
     ]
    },
    {
     "name": "stdout",
     "output_type": "stream",
     "text": [
      "{'Train':  best_epoch_indx:79\n",
      " auc:0.9080585569652089 \n",
      " apur:0.5974741372330323 \n",
      " f1:0.5107665947246157 \n",
      " precision:0.36190231602540157 \n",
      " recall:0.8676742233417296 \n",
      ", 'Validation':  best_epoch_indx:79\n",
      " auc:0.8834629236406475 \n",
      " apur:0.5399057356753549 \n",
      " f1:0.4887167647277873 \n",
      " precision:0.3469387755102041 \n",
      " recall:0.826448362720403 \n",
      "}\n",
      "=====Epoch 80\n",
      "Training...\n"
     ]
    },
    {
     "name": "stderr",
     "output_type": "stream",
     "text": [
      "Iteration:   4%|▍         | 39/1001 [00:00<00:22, 43.49it/s]]\n",
      "Iteration:   5%|▍         | 49/1001 [00:01<00:21, 44.15it/s]]\n",
      "Iteration:   0%|          | 0/1001 [00:00<?, ?it/s]"
     ]
    },
    {
     "name": "stdout",
     "output_type": "stream",
     "text": [
      "{'Train':  best_epoch_indx:79\n",
      " auc:0.9069256490751099 \n",
      " apur:0.5978404585680293 \n",
      " f1:0.49776214580511263 \n",
      " precision:0.3471295355106731 \n",
      " recall:0.8793417112149794 \n",
      ", 'Validation':  best_epoch_indx:79\n",
      " auc:0.8867391156956173 \n",
      " apur:0.5475730636099302 \n",
      " f1:0.4826649510329545 \n",
      " precision:0.3369597764247929 \n",
      " recall:0.8503778337531486 \n",
      "}\n",
      "=====Epoch 80\n",
      "Training...\n",
      "{'Train':  best_epoch_indx:79\n",
      " auc:0.9080913550943086 \n",
      " apur:0.5967614584991457 \n",
      " f1:0.5049546768900874 \n",
      " precision:0.35570508199160056 \n",
      " recall:0.8699935626521873 \n",
      ", 'Validation':  best_epoch_indx:79\n",
      " auc:0.8849337714143722 \n",
      " apur:0.5458556263267758 \n",
      " f1:0.487348252157379 \n",
      " precision:0.343363561417972 \n",
      " recall:0.839294710327456 \n",
      "}\n",
      "=====Epoch 80\n",
      "Training...\n"
     ]
    },
    {
     "name": "stderr",
     "output_type": "stream",
     "text": [
      "Iteration: 100%|██████████| 1001/1001 [00:22<00:00, 43.83it/s]\n"
     ]
    },
    {
     "name": "stdout",
     "output_type": "stream",
     "text": [
      "Evaluating...\n"
     ]
    },
    {
     "name": "stderr",
     "output_type": "stream",
     "text": [
      "Iteration: 100%|██████████| 1001/1001 [00:22<00:00, 43.62it/s]\n",
      "Iteration:  83%|████████▎ | 828/1001 [00:19<00:04, 41.86it/s]"
     ]
    },
    {
     "name": "stdout",
     "output_type": "stream",
     "text": [
      "Evaluating...\n"
     ]
    },
    {
     "name": "stderr",
     "output_type": "stream",
     "text": [
      "Iteration: 100%|██████████| 1001/1001 [00:22<00:00, 43.60it/s]\n",
      "Iteration:  95%|█████████▌| 953/1001 [00:22<00:01, 43.73it/s]"
     ]
    },
    {
     "name": "stdout",
     "output_type": "stream",
     "text": [
      "Evaluating...\n"
     ]
    },
    {
     "name": "stderr",
     "output_type": "stream",
     "text": [
      "Iteration: 100%|██████████| 1001/1001 [00:23<00:00, 43.19it/s]\n",
      "Iteration:  24%|██▍       | 240/1001 [00:05<00:15, 48.61it/s]"
     ]
    },
    {
     "name": "stdout",
     "output_type": "stream",
     "text": [
      "Evaluating...\n"
     ]
    },
    {
     "name": "stderr",
     "output_type": "stream",
     "text": [
      "\r",
      "Iteration:  20%|█▉        | 198/1001 [00:04<00:18, 43.43it/s]\r",
      "Iteration:   6%|▌         | 61/1001 [00:01<00:19, 48.00it/s]\r",
      "Iteration:   0%|          | 4/1001 [00:00<00:29, 33.67it/s]\r",
      "Iteration:  24%|██▍       | 245/1001 [00:05<00:15, 48.23it/s]\r",
      "Iteration: 100%|█████████▉| 998/1001 [00:23<00:00, 43.17it/s]\r",
      "Iteration:  20%|██        | 204/1001 [00:04<00:17, 46.03it/s]\r",
      "Iteration:   7%|▋         | 67/1001 [00:01<00:19, 48.55it/s]\r",
      "Iteration:   1%|          | 10/1001 [00:00<00:21, 46.30it/s]\r",
      "Iteration: 100%|██████████| 1001/1001 [00:23<00:00, 43.07it/s]\n",
      "\r",
      "Iteration:   0%|          | 0/1001 [00:00<?, ?it/s]\r",
      "Iteration:  25%|██▍       | 250/1001 [00:05<00:16, 45.14it/s]"
     ]
    },
    {
     "name": "stdout",
     "output_type": "stream",
     "text": [
      "Evaluating...\n"
     ]
    },
    {
     "name": "stderr",
     "output_type": "stream",
     "text": [
      "Iteration:  94%|█████████▍| 940/1001 [00:19<00:01, 51.54it/s]]\n",
      "Iteration: 100%|█████████▉| 997/1001 [00:20<00:00, 59.23it/s]]\n",
      "Iteration:  75%|███████▌  | 84/112 [00:01<00:00, 76.32it/s]]s]\n",
      "Iteration:   0%|          | 4/1001 [00:00<00:26, 37.91it/s]"
     ]
    },
    {
     "name": "stdout",
     "output_type": "stream",
     "text": [
      "{'Train':  best_epoch_indx:80\n",
      " auc:0.9071979182888955 \n",
      " apur:0.5948018354138134 \n",
      " f1:0.5095340289597672 \n",
      " precision:0.3607488822652757 \n",
      " recall:0.8671947157770998 \n",
      ", 'Validation':  best_epoch_indx:80\n",
      " auc:0.884089775127181 \n",
      " apur:0.5433092665308613 \n",
      " f1:0.48803329864724243 \n",
      " precision:0.34616195698017715 \n",
      " recall:0.8269521410579345 \n",
      "}\n",
      "=====Epoch 81\n",
      "Training...\n"
     ]
    },
    {
     "name": "stderr",
     "output_type": "stream",
     "text": [
      "Iteration:   2%|▏         | 24/1001 [00:00<00:22, 42.52it/s]\n",
      "Iteration:   0%|          | 0/1001 [00:00<?, ?it/s]"
     ]
    },
    {
     "name": "stdout",
     "output_type": "stream",
     "text": [
      "{'Train':  best_epoch_indx:80\n",
      " auc:0.9053987972012303 \n",
      " apur:0.5896690490055579 \n",
      " f1:0.5083663620835476 \n",
      " precision:0.3611867142671992 \n",
      " recall:0.8579865095580621 \n",
      ", 'Validation':  best_epoch_indx:80\n",
      " auc:0.882802999218541 \n",
      " apur:0.5519336600383737 \n",
      " f1:0.4936080613626109 \n",
      " precision:0.35184391080617494 \n",
      " recall:0.8267002518891687 \n",
      "}\n",
      "=====Epoch 81\n",
      "Training...\n"
     ]
    },
    {
     "name": "stderr",
     "output_type": "stream",
     "text": [
      "Iteration:   4%|▍         | 39/1001 [00:00<00:21, 44.00it/s]\n",
      "Iteration:  40%|████      | 45/112 [00:00<00:01, 55.82it/s]]\n",
      "Iteration:   8%|▊         | 84/1001 [00:01<00:20, 45.20it/s]\n",
      "Iteration:  12%|█▏        | 119/1001 [00:02<00:22, 39.27it/s]\n",
      "Iteration:  15%|█▍        | 148/1001 [00:03<00:19, 42.87it/s]"
     ]
    },
    {
     "name": "stdout",
     "output_type": "stream",
     "text": [
      "{'Train':  best_epoch_indx:80\n",
      " auc:0.9058090981924025 \n",
      " apur:0.5888886633671693 \n",
      " f1:0.5068562805498147 \n",
      " precision:0.3584719612073966 \n",
      " recall:0.8648474671144696 \n",
      ", 'Validation':  best_epoch_indx:80\n",
      " auc:0.8812494926773683 \n",
      " apur:0.5282833216323486 \n",
      " f1:0.48628613787991104 \n",
      " precision:0.3445378151260504 \n",
      " recall:0.8261964735516373 \n",
      "}\n",
      "=====Epoch 81\n",
      "Training...\n"
     ]
    },
    {
     "name": "stderr",
     "output_type": "stream",
     "text": [
      "Iteration:  16%|█▌        | 159/1001 [00:03<00:19, 43.86it/s]\n",
      "Iteration:  19%|█▉        | 188/1001 [00:04<00:18, 44.06it/s]"
     ]
    },
    {
     "name": "stdout",
     "output_type": "stream",
     "text": [
      "{'Train':  best_epoch_indx:80\n",
      " auc:0.9054580461277058 \n",
      " apur:0.5913392805026793 \n",
      " f1:0.49987544097911424 \n",
      " precision:0.350603088716041 \n",
      " recall:0.870497355089703 \n",
      ", 'Validation':  best_epoch_indx:80\n",
      " auc:0.8852022377653066 \n",
      " apur:0.5423182660655146 \n",
      " f1:0.4866000289729104 \n",
      " precision:0.3415006100040667 \n",
      " recall:0.846095717884131 \n",
      "}\n",
      "=====Epoch 81\n",
      "Training...\n",
      "{'Train':  best_epoch_indx:80\n",
      " auc:0.9075555043886953 \n",
      " apur:0.594069659928249 \n",
      " f1:0.49730957978950024 \n",
      " precision:0.3462649834646275 \n",
      " recall:0.8820845811525652 \n",
      ", 'Validation':  best_epoch_indx:80\n",
      " auc:0.8841767410477003 \n",
      " apur:0.5434568916064635 \n",
      " f1:0.47685415629666505 \n",
      " precision:0.33221044288120477 \n",
      " recall:0.8445843828715365 \n",
      "}\n",
      "=====Epoch 81\n",
      "Training...\n"
     ]
    },
    {
     "name": "stderr",
     "output_type": "stream",
     "text": [
      "Iteration:  16%|█▋        | 164/1001 [00:03<00:18, 44.05it/s]\n",
      "Iteration:  79%|███████▉  | 793/1001 [00:18<00:04, 43.73it/s]]\n",
      "Iteration:  81%|████████  | 812/1001 [00:18<00:04, 43.62it/s]"
     ]
    },
    {
     "name": "stdout",
     "output_type": "stream",
     "text": [
      "Evaluating...\n"
     ]
    },
    {
     "name": "stderr",
     "output_type": "stream",
     "text": [
      "Iteration: 100%|██████████| 1001/1001 [00:23<00:00, 43.28it/s]\n",
      "Iteration:   0%|          | 0/1001 [00:00<?, ?it/s]"
     ]
    },
    {
     "name": "stdout",
     "output_type": "stream",
     "text": [
      "Evaluating...\n"
     ]
    },
    {
     "name": "stderr",
     "output_type": "stream",
     "text": [
      "Iteration: 100%|██████████| 1001/1001 [00:23<00:00, 43.47it/s]\n",
      "Iteration:  96%|█████████▌| 962/1001 [00:22<00:00, 44.19it/s]"
     ]
    },
    {
     "name": "stdout",
     "output_type": "stream",
     "text": [
      "Evaluating...\n"
     ]
    },
    {
     "name": "stderr",
     "output_type": "stream",
     "text": [
      "Iteration: 100%|██████████| 1001/1001 [00:23<00:00, 43.25it/s]\n",
      "Iteration:  23%|██▎       | 226/1001 [00:04<00:16, 45.95it/s]"
     ]
    },
    {
     "name": "stdout",
     "output_type": "stream",
     "text": [
      "Evaluating...\n"
     ]
    },
    {
     "name": "stderr",
     "output_type": "stream",
     "text": [
      "\r",
      "Iteration:  99%|█████████▉| 993/1001 [00:23<00:00, 43.96it/s]\r",
      "Iteration:   6%|▌         | 58/1001 [00:01<00:19, 48.82it/s]\r",
      "Iteration:   0%|          | 5/1001 [00:00<00:21, 46.90it/s]\r",
      "Iteration:  19%|█▉        | 194/1001 [00:03<00:18, 43.68it/s]\r",
      "Iteration:  23%|██▎       | 231/1001 [00:04<00:17, 45.25it/s]\r",
      "Iteration: 100%|█████████▉| 998/1001 [00:23<00:00, 42.78it/s]\r",
      "Iteration:   6%|▋         | 64/1001 [00:01<00:18, 51.66it/s]\r",
      "Iteration:   1%|          | 10/1001 [00:00<00:21, 47.14it/s]\r",
      "Iteration:  24%|██▎       | 237/1001 [00:04<00:16, 47.15it/s]\r",
      "Iteration:  20%|█▉        | 200/1001 [00:04<00:17, 44.53it/s]"
     ]
    },
    {
     "name": "stdout",
     "output_type": "stream",
     "text": [
      "Evaluating...\n"
     ]
    },
    {
     "name": "stderr",
     "output_type": "stream",
     "text": [
      "Iteration: 100%|██████████| 1001/1001 [00:23<00:00, 42.91it/s]\n",
      "Iteration:  96%|█████████▌| 960/1001 [00:19<00:00, 66.07it/s]]\n",
      "Iteration:  98%|█████████▊| 981/1001 [00:20<00:00, 62.15it/s]\n",
      "Iteration: 100%|██████████| 112/112 [00:01<00:00, 65.97it/s]s]\n",
      "Iteration:   0%|          | 0/1001 [00:00<?, ?it/s]"
     ]
    },
    {
     "name": "stdout",
     "output_type": "stream",
     "text": [
      "{'Train':  best_epoch_indx:81\n",
      " auc:0.9034684541135232 \n",
      " apur:0.5810978340388628 \n",
      " f1:0.49357399581342076 \n",
      " precision:0.34382497303721965 \n",
      " recall:0.8744157407148255 \n",
      ", 'Validation':  best_epoch_indx:81\n",
      " auc:0.8803319362157345 \n",
      " apur:0.5316718125202535 \n",
      " f1:0.47416066718939337 \n",
      " precision:0.3306491698976041 \n",
      " recall:0.8377833753148615 \n",
      "}\n",
      "=====Epoch 82\n",
      "Training...\n"
     ]
    },
    {
     "name": "stderr",
     "output_type": "stream",
     "text": [
      "\r",
      "Iteration:   0%|          | 4/1001 [00:00<00:26, 37.03it/s]\r",
      "Iteration:   1%|          | 9/1001 [00:00<00:24, 39.93it/s]\n",
      "\r",
      "Iteration:   0%|          | 0/1001 [00:00<?, ?it/s]"
     ]
    },
    {
     "name": "stdout",
     "output_type": "stream",
     "text": [
      "{'Train':  best_epoch_indx:81\n",
      " auc:0.9041294786229712 \n",
      " apur:0.5813518497667592 \n",
      " f1:0.48441276255098537 \n",
      " precision:0.3328827696047613 \n",
      " recall:0.8891656637465364 \n",
      ", 'Validation':  best_epoch_indx:81\n",
      " auc:0.8812748341660352 \n",
      " apur:0.5433430014825521 \n",
      " f1:0.46891798759476216 \n",
      " precision:0.3227703984819734 \n",
      " recall:0.856926952141058 \n",
      "}\n",
      "=====Epoch 82\n",
      "Training...\n"
     ]
    },
    {
     "name": "stderr",
     "output_type": "stream",
     "text": [
      "Iteration:   1%|▏         | 14/1001 [00:00<00:24, 40.63it/s]\n",
      "Iteration:  51%|█████     | 57/112 [00:01<00:01, 53.55it/s]]\n",
      "Iteration:  68%|██████▊   | 76/112 [00:01<00:00, 54.52it/s]]\n",
      "Iteration:  63%|██████▎   | 71/112 [00:01<00:00, 51.92it/s]s]\n",
      "Iteration:  69%|██████▉   | 77/112 [00:01<00:00, 50.14it/s]s]"
     ]
    },
    {
     "name": "stdout",
     "output_type": "stream",
     "text": [
      "{'Train':  best_epoch_indx:81\n",
      " auc:0.9040082479030291 \n",
      " apur:0.5812115527473225 \n",
      " f1:0.5042190993814164 \n",
      " precision:0.355877338494148 \n",
      " recall:0.8646235656311223 \n",
      ", 'Validation':  best_epoch_indx:81\n",
      " auc:0.8800925185051153 \n",
      " apur:0.5269784293666615 \n",
      " f1:0.48308823529411765 \n",
      " precision:0.3411214953271028 \n",
      " recall:0.827455919395466 \n",
      "}\n",
      "=====Epoch 82\n",
      "Training...\n"
     ]
    },
    {
     "name": "stderr",
     "output_type": "stream",
     "text": [
      "Iteration:  97%|█████████▋| 109/112 [00:02<00:00, 54.93it/s]]\n",
      "Iteration:   0%|          | 4/1001 [00:00<00:28, 35.57it/s]s]"
     ]
    },
    {
     "name": "stdout",
     "output_type": "stream",
     "text": [
      "{'Train':  best_epoch_indx:81\n",
      " auc:0.9029421305222006 \n",
      " apur:0.5798865215080555 \n",
      " f1:0.49344201380379016 \n",
      " precision:0.3438484761673902 \n",
      " recall:0.8734361443085449 \n",
      ", 'Validation':  best_epoch_indx:81\n",
      " auc:0.8825916187172672 \n",
      " apur:0.5290181388231728 \n",
      " f1:0.477124183006536 \n",
      " precision:0.33227785473975857 \n",
      " recall:0.8458438287153652 \n",
      "}\n",
      "=====Epoch 82\n",
      "Training...\n"
     ]
    },
    {
     "name": "stderr",
     "output_type": "stream",
     "text": [
      "\r",
      "Iteration:  17%|█▋        | 174/1001 [00:04<00:19, 42.43it/s]\r",
      "Iteration:   5%|▌         | 54/1001 [00:01<00:21, 43.91it/s]\r",
      "Iteration:   1%|          | 8/1001 [00:00<00:26, 37.68it/s]\r",
      "Iteration:  19%|█▉        | 189/1001 [00:04<00:18, 43.99it/s]\r",
      "Iteration:  18%|█▊        | 179/1001 [00:04<00:19, 42.89it/s]\r",
      "Iteration:   6%|▌         | 59/1001 [00:01<00:21, 44.23it/s]\r",
      "Iteration:  19%|█▉        | 194/1001 [00:04<00:18, 44.44it/s]\r",
      "Iteration:   1%|▏         | 13/1001 [00:00<00:24, 39.62it/s]\n",
      "\r",
      "Iteration:   0%|          | 0/1001 [00:00<?, ?it/s]"
     ]
    },
    {
     "name": "stdout",
     "output_type": "stream",
     "text": [
      "{'Train':  best_epoch_indx:81\n",
      " auc:0.9050212409810208 \n",
      " apur:0.584987761009999 \n",
      " f1:0.4970208026729247 \n",
      " precision:0.34719258468925046 \n",
      " recall:0.8743317753085729 \n",
      ", 'Validation':  best_epoch_indx:81\n",
      " auc:0.8828019706446733 \n",
      " apur:0.5360221843878202 \n",
      " f1:0.4795874516544908 \n",
      " precision:0.33506805444355486 \n",
      " recall:0.8433249370277078 \n",
      "}\n",
      "=====Epoch 82\n",
      "Training...\n"
     ]
    },
    {
     "name": "stderr",
     "output_type": "stream",
     "text": [
      "Iteration: 100%|██████████| 1001/1001 [00:22<00:00, 43.78it/s]\n",
      "Iteration:  86%|████████▋ | 864/1001 [00:19<00:03, 44.36it/s]"
     ]
    },
    {
     "name": "stdout",
     "output_type": "stream",
     "text": [
      "Evaluating...\n"
     ]
    },
    {
     "name": "stderr",
     "output_type": "stream",
     "text": [
      "Iteration: 100%|██████████| 1001/1001 [00:23<00:00, 43.44it/s]\n",
      "Iteration:   3%|▎         | 28/1001 [00:00<00:17, 54.89it/s]]"
     ]
    },
    {
     "name": "stdout",
     "output_type": "stream",
     "text": [
      "Evaluating...\n"
     ]
    },
    {
     "name": "stderr",
     "output_type": "stream",
     "text": [
      "Iteration: 100%|██████████| 1001/1001 [00:23<00:00, 43.39it/s]\n",
      "Iteration:   0%|          | 4/1001 [00:00<00:28, 35.54it/s]s]"
     ]
    },
    {
     "name": "stdout",
     "output_type": "stream",
     "text": [
      "Evaluating...\n"
     ]
    },
    {
     "name": "stderr",
     "output_type": "stream",
     "text": [
      "Iteration: 100%|██████████| 1001/1001 [00:23<00:00, 43.08it/s]\n",
      "Iteration:   6%|▋         | 65/1001 [00:01<00:18, 50.40it/s]]"
     ]
    },
    {
     "name": "stdout",
     "output_type": "stream",
     "text": [
      "Evaluating...\n"
     ]
    },
    {
     "name": "stderr",
     "output_type": "stream",
     "text": [
      "Iteration: 100%|██████████| 1001/1001 [00:23<00:00, 42.93it/s]\n",
      "Iteration:   9%|▊         | 87/1001 [00:01<00:18, 48.19it/s]]"
     ]
    },
    {
     "name": "stdout",
     "output_type": "stream",
     "text": [
      "Evaluating...\n"
     ]
    },
    {
     "name": "stderr",
     "output_type": "stream",
     "text": [
      "Iteration:  94%|█████████▍| 944/1001 [00:19<00:01, 54.29it/s]]\n",
      "Iteration:  12%|█▏        | 13/112 [00:00<00:01, 65.23it/s]s]\n",
      "Iteration: 100%|██████████| 112/112 [00:01<00:00, 67.61it/s]s]\n",
      "Iteration:   0%|          | 4/1001 [00:00<00:25, 38.87it/s]"
     ]
    },
    {
     "name": "stdout",
     "output_type": "stream",
     "text": [
      "{'Train':  best_epoch_indx:82\n",
      " auc:0.9015696355284102 \n",
      " apur:0.5742939665407438 \n",
      " f1:0.4912542160169426 \n",
      " precision:0.3412669870642212 \n",
      " recall:0.8764588989336394 \n",
      ", 'Validation':  best_epoch_indx:82\n",
      " auc:0.8789685786969152 \n",
      " apur:0.5280308406296602 \n",
      " f1:0.47251029975848846 \n",
      " precision:0.3290462999604274 \n",
      " recall:0.8377833753148615 \n",
      "}\n",
      "=====Epoch 83\n",
      "Training...\n",
      "{'Train':  best_epoch_indx:82\n",
      " auc:0.8994642953279692 \n",
      " apur:0.5654283189378783 \n",
      " f1:0.4860066768587564 \n",
      " precision:0.3368910516355772 \n",
      " recall:0.8719527554647485 \n",
      ", 'Validation':  best_epoch_indx:82\n",
      " auc:0.8779030361700573 \n",
      " apur:0.5268607541241419 \n",
      " f1:0.4721985815602836 \n",
      " precision:0.3286278381046397 \n",
      " recall:0.8385390428211587 \n",
      "}\n",
      "=====Epoch 83\n",
      "Training...\n"
     ]
    },
    {
     "name": "stderr",
     "output_type": "stream",
     "text": [
      "\n",
      "Iteration:   1%|▏         | 14/1001 [00:00<00:23, 41.62it/s]\n",
      "Iteration:   7%|▋         | 69/1001 [00:01<00:20, 45.03it/s]\n",
      "Iteration:  11%|█         | 12/112 [00:00<00:01, 54.11it/s]]\n",
      "Iteration:  39%|███▉      | 44/112 [00:00<00:01, 55.47it/s]s]\n",
      "Iteration:   0%|          | 4/1001 [00:00<00:28, 35.52it/s]s]"
     ]
    },
    {
     "name": "stdout",
     "output_type": "stream",
     "text": [
      "{'Train':  best_epoch_indx:82\n",
      " auc:0.9013117216261309 \n",
      " apur:0.5737447888735535 \n",
      " f1:0.5033681043785357 \n",
      " precision:0.3555327158925561 \n",
      " recall:0.8616568709767702 \n",
      ", 'Validation':  best_epoch_indx:82\n",
      " auc:0.8774843294628385 \n",
      " apur:0.5215427092754514 \n",
      " f1:0.4817873469989677 \n",
      " precision:0.34059633027522934 \n",
      " recall:0.8229219143576826 \n",
      "}\n",
      "=====Epoch 83\n",
      "Training...\n"
     ]
    },
    {
     "name": "stderr",
     "output_type": "stream",
     "text": [
      "Iteration:  16%|█▋        | 164/1001 [00:03<00:19, 42.91it/s]\n",
      "Iteration:  17%|█▋        | 169/1001 [00:04<00:19, 43.36it/s]"
     ]
    },
    {
     "name": "stdout",
     "output_type": "stream",
     "text": [
      "{'Train':  best_epoch_indx:82\n",
      " auc:0.89992976437265 \n",
      " apur:0.5753170320926676 \n",
      " f1:0.4868754039385468 \n",
      " precision:0.3372710207780439 \n",
      " recall:0.8750034985585938 \n",
      ", 'Validation':  best_epoch_indx:82\n",
      " auc:0.880847140294647 \n",
      " apur:0.5276602450175221 \n",
      " f1:0.47388713634770413 \n",
      " precision:0.32831471588149586 \n",
      " recall:0.8513853904282116 \n",
      "}\n",
      "=====Epoch 83\n",
      "Training...\n"
     ]
    },
    {
     "name": "stderr",
     "output_type": "stream",
     "text": [
      "\r",
      "Iteration:   0%|          | 4/1001 [00:00<00:27, 36.86it/s]\r",
      "Iteration:  18%|█▊        | 184/1001 [00:04<00:18, 44.93it/s]\r",
      "Iteration:   7%|▋         | 69/1001 [00:01<00:21, 44.29it/s]\r",
      "Iteration:  17%|█▋        | 174/1001 [00:04<00:18, 43.86it/s]\r",
      "Iteration:   1%|          | 9/1001 [00:00<00:25, 38.88it/s]\r",
      "Iteration:  19%|█▉        | 189/1001 [00:04<00:17, 45.28it/s]\n",
      "\r",
      "Iteration:   0%|          | 0/1001 [00:00<?, ?it/s]"
     ]
    },
    {
     "name": "stdout",
     "output_type": "stream",
     "text": [
      "{'Train':  best_epoch_indx:82\n",
      " auc:0.900151951363068 \n",
      " apur:0.5710531044989549 \n",
      " f1:0.48646192416170486 \n",
      " precision:0.3377832903569758 \n",
      " recall:0.8689300008396541 \n",
      ", 'Validation':  best_epoch_indx:82\n",
      " auc:0.8795338614660143 \n",
      " apur:0.5289877893726278 \n",
      " f1:0.47161016949152545 \n",
      " precision:0.32767419038272816 \n",
      " recall:0.8410579345088162 \n",
      "}\n",
      "=====Epoch 83\n",
      "Training...\n"
     ]
    },
    {
     "name": "stderr",
     "output_type": "stream",
     "text": [
      "Iteration: 100%|██████████| 1001/1001 [00:22<00:00, 43.84it/s]\n",
      "Iteration:   0%|          | 5/1001 [00:00<00:22, 44.45it/s]s]"
     ]
    },
    {
     "name": "stdout",
     "output_type": "stream",
     "text": [
      "Evaluating...\n"
     ]
    },
    {
     "name": "stderr",
     "output_type": "stream",
     "text": [
      "\r",
      "Iteration:  99%|█████████▉| 994/1001 [00:22<00:00, 44.42it/s]\r",
      "Iteration:  82%|████████▏ | 824/1001 [00:18<00:04, 43.45it/s]\r",
      "Iteration:  88%|████████▊ | 884/1001 [00:20<00:03, 38.68it/s]\r",
      "Iteration:  81%|████████  | 809/1001 [00:18<00:04, 43.55it/s]\r",
      "Iteration:   1%|          | 11/1001 [00:00<00:20, 49.28it/s]\r",
      "Iteration: 100%|█████████▉| 999/1001 [00:22<00:00, 45.17it/s]\r",
      "Iteration:  83%|████████▎ | 829/1001 [00:18<00:03, 43.42it/s]\r",
      "Iteration:  89%|████████▉ | 889/1001 [00:20<00:02, 40.21it/s]\r",
      "Iteration:  81%|████████▏ | 814/1001 [00:18<00:04, 43.93it/s]\r",
      "Iteration:   2%|▏         | 17/1001 [00:00<00:18, 52.36it/s]\r",
      "Iteration: 100%|██████████| 1001/1001 [00:22<00:00, 43.58it/s]\n",
      "\r",
      "Iteration:   0%|          | 0/1001 [00:00<?, ?it/s]"
     ]
    },
    {
     "name": "stdout",
     "output_type": "stream",
     "text": [
      "Evaluating...\n"
     ]
    },
    {
     "name": "stderr",
     "output_type": "stream",
     "text": [
      "Iteration:  94%|█████████▍| 939/1001 [00:21<00:01, 43.68it/s]]\n",
      "Iteration:  13%|█▎        | 133/1001 [00:02<00:18, 47.91it/s]"
     ]
    },
    {
     "name": "stdout",
     "output_type": "stream",
     "text": [
      "Evaluating...\n"
     ]
    },
    {
     "name": "stderr",
     "output_type": "stream",
     "text": [
      "Iteration: 100%|██████████| 1001/1001 [00:23<00:00, 43.39it/s]\n",
      "Iteration:  98%|█████████▊| 984/1001 [00:22<00:00, 40.18it/s]"
     ]
    },
    {
     "name": "stdout",
     "output_type": "stream",
     "text": [
      "Evaluating...\n"
     ]
    },
    {
     "name": "stderr",
     "output_type": "stream",
     "text": [
      "Iteration: 100%|██████████| 1001/1001 [00:23<00:00, 43.06it/s]\n",
      "Iteration:   2%|▏         | 23/1001 [00:00<00:19, 49.90it/s]"
     ]
    },
    {
     "name": "stdout",
     "output_type": "stream",
     "text": [
      "Evaluating...\n"
     ]
    },
    {
     "name": "stderr",
     "output_type": "stream",
     "text": [
      "Iteration:  98%|█████████▊| 976/1001 [00:19<00:00, 70.47it/s]]\n",
      "Iteration:  99%|█████████▉| 992/1001 [00:19<00:00, 71.39it/s]\n",
      "Iteration: 100%|██████████| 112/112 [00:01<00:00, 75.05it/s]s]\n",
      "Iteration:   0%|          | 4/1001 [00:00<00:30, 33.09it/s]\n",
      "Iteration:   0%|          | 0/1001 [00:00<?, ?it/s]"
     ]
    },
    {
     "name": "stdout",
     "output_type": "stream",
     "text": [
      "{'Train':  best_epoch_indx:83\n",
      " auc:0.8946196515955378 \n",
      " apur:0.5586934678732559 \n",
      " f1:0.5057655514762914 \n",
      " precision:0.36539443372143704 \n",
      " recall:0.8212656385569146 \n",
      ", 'Validation':  best_epoch_indx:83\n",
      " auc:0.8754523003583122 \n",
      " apur:0.5183395479305426 \n",
      " f1:0.48867792389697307 \n",
      " precision:0.35356378786172726 \n",
      " recall:0.7909319899244333 \n",
      "}\n",
      "=====Epoch 84\n",
      "Training...\n",
      "{'Train':  best_epoch_indx:83\n",
      " auc:0.8969124006372493 \n",
      " apur:0.5542002912340045 \n",
      " f1:0.48819903195799896 \n",
      " precision:0.3398079561042524 \n",
      " recall:0.8666629348708332 \n",
      ", 'Validation':  best_epoch_indx:83\n",
      " auc:0.877678802781161 \n",
      " apur:0.5222495172972728 \n",
      " f1:0.474191475690726 \n",
      " precision:0.3308757596891501 \n",
      " recall:0.8365239294710327 \n",
      "}\n",
      "=====Epoch 84\n",
      "Training...\n"
     ]
    },
    {
     "name": "stderr",
     "output_type": "stream",
     "text": [
      "Iteration:   1%|          | 9/1001 [00:00<00:26, 38.01it/s]\n",
      "Iteration:   4%|▍         | 39/1001 [00:00<00:21, 44.27it/s]\n",
      "Iteration:  18%|█▊        | 20/112 [00:00<00:01, 56.57it/s]]\n",
      "Iteration:  71%|███████▏  | 80/112 [00:01<00:00, 57.79it/s]s]\n",
      "Iteration:  11%|█         | 109/1001 [00:02<00:24, 36.20it/s]"
     ]
    },
    {
     "name": "stdout",
     "output_type": "stream",
     "text": [
      "{'Train':  best_epoch_indx:83\n",
      " auc:0.8968618387479154 \n",
      " apur:0.5572498713129527 \n",
      " f1:0.48197375489218025 \n",
      " precision:0.3320257982660182 \n",
      " recall:0.8788972851945144 \n",
      ", 'Validation':  best_epoch_indx:83\n",
      " auc:0.8734961200050845 \n",
      " apur:0.5065444570920348 \n",
      " f1:0.46499376126438374 \n",
      " precision:0.3207727620504973 \n",
      " recall:0.8448362720403023 \n",
      "}\n",
      "=====Epoch 84\n",
      "Training...\n"
     ]
    },
    {
     "name": "stderr",
     "output_type": "stream",
     "text": [
      "Iteration:  14%|█▍        | 144/1001 [00:03<00:19, 43.96it/s]\n",
      "Iteration:  15%|█▌        | 154/1001 [00:03<00:19, 44.45it/s]"
     ]
    },
    {
     "name": "stdout",
     "output_type": "stream",
     "text": [
      "{'Train':  best_epoch_indx:83\n",
      " auc:0.893805083884387 \n",
      " apur:0.5536812236723684 \n",
      " f1:0.49138049589451116 \n",
      " precision:0.34557267369091776 \n",
      " recall:0.8500377844328136 \n",
      ", 'Validation':  best_epoch_indx:83\n",
      " auc:0.8772056245161953 \n",
      " apur:0.5118798859229767 \n",
      " f1:0.47868231178485526 \n",
      " precision:0.3367859706696749 \n",
      " recall:0.8272040302267003 \n",
      "}\n",
      "=====Epoch 84\n",
      "Training...\n"
     ]
    },
    {
     "name": "stderr",
     "output_type": "stream",
     "text": [
      "\r",
      "Iteration:  16%|█▋        | 164/1001 [00:03<00:18, 44.93it/s]\r",
      "Iteration:   5%|▌         | 53/1001 [00:01<00:21, 44.59it/s]\r",
      "Iteration:  16%|█▌        | 159/1001 [00:03<00:18, 44.67it/s]\r",
      "Iteration:   1%|          | 9/1001 [00:00<00:26, 37.79it/s]\r",
      "Iteration:  17%|█▋        | 169/1001 [00:03<00:18, 45.05it/s]\r",
      "Iteration:  16%|█▋        | 164/1001 [00:03<00:18, 44.76it/s]\r",
      "Iteration:   6%|▌         | 58/1001 [00:01<00:21, 44.49it/s]\n",
      "\r",
      "Iteration:   0%|          | 0/1001 [00:00<?, ?it/s]\r",
      "Iteration:   1%|▏         | 14/1001 [00:00<00:25, 39.47it/s]"
     ]
    },
    {
     "name": "stdout",
     "output_type": "stream",
     "text": [
      "{'Train':  best_epoch_indx:83\n",
      " auc:0.8969680600183165 \n",
      " apur:0.5653077227556431 \n",
      " f1:0.4835469399578789 \n",
      " precision:0.33567034065957957 \n",
      " recall:0.8643119034957597 \n",
      ", 'Validation':  best_epoch_indx:83\n",
      " auc:0.8784151330987442 \n",
      " apur:0.5300367727735583 \n",
      " f1:0.4704965644258695 \n",
      " precision:0.3272888538484281 \n",
      " recall:0.8365239294710327 \n",
      "}\n",
      "=====Epoch 84\n",
      "Training...\n"
     ]
    },
    {
     "name": "stderr",
     "output_type": "stream",
     "text": [
      "Iteration: 100%|██████████| 1001/1001 [00:22<00:00, 43.75it/s]\n",
      "Iteration:  84%|████████▍ | 839/1001 [00:19<00:03, 43.59it/s]"
     ]
    },
    {
     "name": "stdout",
     "output_type": "stream",
     "text": [
      "Evaluating...\n",
      "Evaluating...\n"
     ]
    },
    {
     "name": "stderr",
     "output_type": "stream",
     "text": [
      "Iteration: 100%|██████████| 1001/1001 [00:22<00:00, 43.62it/s]\n",
      "Iteration: 100%|██████████| 1001/1001 [00:23<00:00, 43.34it/s]\n",
      "Iteration:  96%|█████████▌| 959/1001 [00:22<00:00, 43.18it/s]"
     ]
    },
    {
     "name": "stdout",
     "output_type": "stream",
     "text": [
      "Evaluating...\n"
     ]
    },
    {
     "name": "stderr",
     "output_type": "stream",
     "text": [
      "Iteration: 100%|██████████| 1001/1001 [00:23<00:00, 43.25it/s]\n",
      "Iteration:   0%|          | 4/1001 [00:00<00:25, 39.48it/s]s]"
     ]
    },
    {
     "name": "stdout",
     "output_type": "stream",
     "text": [
      "Evaluating...\n"
     ]
    },
    {
     "name": "stderr",
     "output_type": "stream",
     "text": [
      "\r",
      "Iteration:   6%|▌         | 59/1001 [00:01<00:18, 49.88it/s]\r",
      "Iteration:  99%|█████████▉| 994/1001 [00:22<00:00, 44.12it/s]\r",
      "Iteration:  19%|█▉        | 192/1001 [00:03<00:19, 42.41it/s]\r",
      "Iteration:  21%|██        | 212/1001 [00:04<00:16, 47.13it/s]\r",
      "Iteration:   1%|          | 9/1001 [00:00<00:23, 42.82it/s]\r",
      "Iteration:   6%|▋         | 65/1001 [00:01<00:18, 50.93it/s]\r",
      "Iteration: 100%|█████████▉| 999/1001 [00:23<00:00, 44.58it/s]\r",
      "Iteration:  20%|█▉        | 198/1001 [00:03<00:17, 45.26it/s]\r",
      "Iteration:  22%|██▏       | 217/1001 [00:04<00:16, 47.29it/s]\r",
      "Iteration:   1%|▏         | 14/1001 [00:00<00:21, 45.60it/s]\r",
      "Iteration: 100%|██████████| 1001/1001 [00:23<00:00, 43.29it/s]\n",
      "\r",
      "Iteration:   0%|          | 0/1001 [00:00<?, ?it/s]"
     ]
    },
    {
     "name": "stdout",
     "output_type": "stream",
     "text": [
      "Evaluating...\n"
     ]
    },
    {
     "name": "stderr",
     "output_type": "stream",
     "text": [
      "Iteration:  97%|█████████▋| 967/1001 [00:19<00:00, 64.10it/s]]\n",
      "Iteration:  19%|█▉        | 21/112 [00:00<00:01, 63.90it/s]s]\n",
      "Iteration: 100%|██████████| 112/112 [00:01<00:00, 69.53it/s]s]\n",
      "Iteration:   0%|          | 4/1001 [00:00<00:27, 36.71it/s]"
     ]
    },
    {
     "name": "stdout",
     "output_type": "stream",
     "text": [
      "{'Train':  best_epoch_indx:84\n",
      " auc:0.8921782451576057 \n",
      " apur:0.5510035604639782 \n",
      " f1:0.4941269631780388 \n",
      " precision:0.35030349812287287 \n",
      " recall:0.8383106160261972 \n",
      ", 'Validation':  best_epoch_indx:84\n",
      " auc:0.8746536170357205 \n",
      " apur:0.5147224092946892 \n",
      " f1:0.47871150548057556 \n",
      " precision:0.3400063552589768 \n",
      " recall:0.8085642317380353 \n",
      "}\n",
      "=====Epoch 85\n",
      "Training...\n"
     ]
    },
    {
     "name": "stderr",
     "output_type": "stream",
     "text": [
      "\r",
      "Iteration:   1%|          | 9/1001 [00:00<00:28, 35.00it/s]\n",
      "\r",
      "Iteration:   0%|          | 0/1001 [00:00<?, ?it/s]\r",
      "Iteration:   1%|▏         | 14/1001 [00:00<00:25, 38.63it/s]"
     ]
    },
    {
     "name": "stdout",
     "output_type": "stream",
     "text": [
      "{'Train':  best_epoch_indx:84\n",
      " auc:0.889767124224116 \n",
      " apur:0.5462511990275067 \n",
      " f1:0.4956688060526204 \n",
      " precision:0.3559446194417991 \n",
      " recall:0.8159758179629992 \n",
      ", 'Validation':  best_epoch_indx:84\n",
      " auc:0.8733795268714495 \n",
      " apur:0.5138877194163621 \n",
      " f1:0.4855669309521977 \n",
      " precision:0.34962864427447066 \n",
      " recall:0.7944584382871537 \n",
      "}\n",
      "=====Epoch 85\n",
      "Training...\n"
     ]
    },
    {
     "name": "stderr",
     "output_type": "stream",
     "text": [
      "Iteration:   3%|▎         | 34/1001 [00:00<00:22, 43.33it/s]\n",
      "Iteration:   7%|▋         | 74/1001 [00:01<00:20, 45.24it/s]\n",
      "Iteration:   8%|▊         | 84/1001 [00:01<00:20, 44.79it/s]\n",
      "Iteration:  13%|█▎        | 134/1001 [00:03<00:20, 42.68it/s]\n",
      "Iteration:  64%|██████▍   | 72/112 [00:01<00:00, 51.12it/s]s]"
     ]
    },
    {
     "name": "stdout",
     "output_type": "stream",
     "text": [
      "{'Train':  best_epoch_indx:84\n",
      " auc:0.8921438961534763 \n",
      " apur:0.5474419138661121 \n",
      " f1:0.48738141401568646 \n",
      " precision:0.3408667313980871 \n",
      " recall:0.8547998880492583 \n",
      ", 'Validation':  best_epoch_indx:84\n",
      " auc:0.872497730494618 \n",
      " apur:0.5053989608577334 \n",
      " f1:0.4725701943844492 \n",
      " precision:0.3308467741935484 \n",
      " recall:0.8267002518891687 \n",
      "}\n",
      "=====Epoch 85\n",
      "Training...\n"
     ]
    },
    {
     "name": "stderr",
     "output_type": "stream",
     "text": [
      "Iteration:  17%|█▋        | 169/1001 [00:04<00:18, 43.82it/s]\n",
      "Iteration:   0%|          | 4/1001 [00:00<00:27, 36.53it/s]s]"
     ]
    },
    {
     "name": "stdout",
     "output_type": "stream",
     "text": [
      "{'Train':  best_epoch_indx:84\n",
      " auc:0.8900265771612198 \n",
      " apur:0.5336890838505323 \n",
      " f1:0.4762058470902887 \n",
      " precision:0.32823376100522317 \n",
      " recall:0.8671107503708472 \n",
      ", 'Validation':  best_epoch_indx:84\n",
      " auc:0.8746508313148286 \n",
      " apur:0.5057594989445604 \n",
      " f1:0.4653485952133194 \n",
      " precision:0.3211105792245093 \n",
      " recall:0.8448362720403023 \n",
      "}\n",
      "=====Epoch 85\n",
      "Training...\n",
      "{'Train':  best_epoch_indx:84\n",
      " auc:0.8928296316720898 \n",
      " apur:0.5483904546250713 \n",
      " f1:0.47632198721931973 \n",
      " precision:0.32808801149814 \n",
      " recall:0.8689020123709031 \n",
      ", 'Validation':  best_epoch_indx:84\n",
      " auc:0.8725102790958046 \n",
      " apur:0.504848468443158 \n",
      " f1:0.45885596140592694 \n",
      " precision:0.31584440227703986 \n",
      " recall:0.8385390428211587 \n",
      "}\n",
      "=====Epoch 85\n",
      "Training...\n"
     ]
    },
    {
     "name": "stderr",
     "output_type": "stream",
     "text": [
      "Iteration:   6%|▌         | 58/1001 [00:01<00:20, 44.91it/s]]\n",
      "Iteration: 100%|██████████| 1001/1001 [00:22<00:00, 43.98it/s]\n",
      "Iteration:  80%|████████  | 803/1001 [00:18<00:04, 44.38it/s]"
     ]
    },
    {
     "name": "stdout",
     "output_type": "stream",
     "text": [
      "Evaluating...\n"
     ]
    },
    {
     "name": "stderr",
     "output_type": "stream",
     "text": [
      "Iteration: 100%|██████████| 1001/1001 [00:22<00:00, 43.63it/s]\n",
      "Iteration:   3%|▎         | 28/1001 [00:00<00:20, 47.75it/s]]"
     ]
    },
    {
     "name": "stdout",
     "output_type": "stream",
     "text": [
      "Evaluating...\n"
     ]
    },
    {
     "name": "stderr",
     "output_type": "stream",
     "text": [
      "Iteration: 100%|██████████| 1001/1001 [00:22<00:00, 43.68it/s]\n",
      "Iteration:  95%|█████████▌| 954/1001 [00:21<00:01, 43.27it/s]"
     ]
    },
    {
     "name": "stdout",
     "output_type": "stream",
     "text": [
      "Evaluating...\n"
     ]
    },
    {
     "name": "stderr",
     "output_type": "stream",
     "text": [
      "Iteration: 100%|██████████| 1001/1001 [00:23<00:00, 43.47it/s]\n",
      "Iteration: 100%|██████████| 1001/1001 [00:23<00:00, 43.50it/s]\n",
      "Iteration:   7%|▋         | 71/1001 [00:01<00:18, 49.05it/s]"
     ]
    },
    {
     "name": "stdout",
     "output_type": "stream",
     "text": [
      "Evaluating...\n",
      "Evaluating...\n"
     ]
    },
    {
     "name": "stderr",
     "output_type": "stream",
     "text": [
      "Iteration:  95%|█████████▍| 947/1001 [00:19<00:01, 53.65it/s]]\n",
      "Iteration:  98%|█████████▊| 980/1001 [00:20<00:00, 54.75it/s]\n",
      "Iteration: 100%|██████████| 112/112 [00:01<00:00, 68.98it/s]s]\n",
      "Iteration:   0%|          | 0/1001 [00:00<?, ?it/s]"
     ]
    },
    {
     "name": "stdout",
     "output_type": "stream",
     "text": [
      "{'Train':  best_epoch_indx:85\n",
      " auc:0.8939981276657412 \n",
      " apur:0.5565798468664863 \n",
      " f1:0.48842967336444154 \n",
      " precision:0.34086151324169556 \n",
      " recall:0.8613171373394162 \n",
      ", 'Validation':  best_epoch_indx:85\n",
      " auc:0.8735896687983574 \n",
      " apur:0.5148453730718338 \n",
      " f1:0.4686317893084005 \n",
      " precision:0.32695946618862665 \n",
      " recall:0.8269521410579345 \n",
      "}\n",
      "=====Epoch 86\n",
      "Training...\n"
     ]
    },
    {
     "name": "stderr",
     "output_type": "stream",
     "text": [
      "\r",
      "Iteration:   0%|          | 4/1001 [00:00<00:29, 34.09it/s]\r",
      "Iteration:   1%|          | 9/1001 [00:00<00:25, 38.28it/s]\n",
      "\r",
      "Iteration:   0%|          | 0/1001 [00:00<?, ?it/s]"
     ]
    },
    {
     "name": "stdout",
     "output_type": "stream",
     "text": [
      "{'Train':  best_epoch_indx:85\n",
      " auc:0.8937295288883684 \n",
      " apur:0.5512244245261124 \n",
      " f1:0.4908145636816364 \n",
      " precision:0.34554154675437393 \n",
      " recall:0.8468470989952139 \n",
      ", 'Validation':  best_epoch_indx:85\n",
      " auc:0.8771054585643732 \n",
      " apur:0.5273039504135697 \n",
      " f1:0.47611371629542787 \n",
      " precision:0.33570985740855547 \n",
      " recall:0.8183879093198992 \n",
      "}\n",
      "=====Epoch 86\n",
      "Training...\n"
     ]
    },
    {
     "name": "stderr",
     "output_type": "stream",
     "text": [
      "Iteration:   2%|▏         | 19/1001 [00:00<00:23, 41.52it/s]\n",
      "Iteration:  45%|████▍     | 50/112 [00:00<00:01, 55.82it/s]]\n",
      "Iteration:   7%|▋         | 69/1001 [00:01<00:21, 44.01it/s]\n",
      "Iteration:  14%|█▍        | 139/1001 [00:03<00:19, 43.75it/s]\n",
      "Iteration:  14%|█▍        | 144/1001 [00:03<00:19, 43.97it/s]"
     ]
    },
    {
     "name": "stdout",
     "output_type": "stream",
     "text": [
      "{'Train':  best_epoch_indx:85\n",
      " auc:0.8943561707836736 \n",
      " apur:0.550730855409178 \n",
      " f1:0.4939767808745601 \n",
      " precision:0.3474139402560455 \n",
      " recall:0.8544360481388189 \n",
      ", 'Validation':  best_epoch_indx:85\n",
      " auc:0.8717059771884602 \n",
      " apur:0.5050761017461031 \n",
      " f1:0.4764271617571814 \n",
      " precision:0.33559880547832355 \n",
      " recall:0.8209068010075566 \n",
      "}\n",
      "=====Epoch 86\n",
      "Training...\n"
     ]
    },
    {
     "name": "stderr",
     "output_type": "stream",
     "text": [
      "Iteration:  18%|█▊        | 179/1001 [00:04<00:18, 44.85it/s]\n",
      "Iteration:  17%|█▋        | 169/1001 [00:03<00:18, 44.74it/s]"
     ]
    },
    {
     "name": "stdout",
     "output_type": "stream",
     "text": [
      "{'Train':  best_epoch_indx:85\n",
      " auc:0.8941358589480735 \n",
      " apur:0.5561068258971695 \n",
      " f1:0.4911830402469236 \n",
      " precision:0.3460050809054082 \n",
      " recall:0.8462593411514456 \n",
      ", 'Validation':  best_epoch_indx:85\n",
      " auc:0.8788912256563352 \n",
      " apur:0.5195435843319766 \n",
      " f1:0.480503328699978 \n",
      " precision:0.33859160738220434 \n",
      " recall:0.8272040302267003 \n",
      "}\n",
      "=====Epoch 86\n",
      "Training...\n",
      "{'Train':  best_epoch_indx:85\n",
      " auc:0.8960376337577473 \n",
      " apur:0.5543441428710595 \n",
      " f1:0.4860335635478765 \n",
      " precision:0.3381659982028185 \n",
      " recall:0.8636961571832406 \n",
      ", 'Validation':  best_epoch_indx:85\n",
      " auc:0.8763272781475453 \n",
      " apur:0.5153185361970944 \n",
      " f1:0.470997515086972 \n",
      " precision:0.32792881858625805 \n",
      " recall:0.8355163727959698 \n",
      "}\n",
      "=====Epoch 86\n",
      "Training...\n"
     ]
    },
    {
     "name": "stderr",
     "output_type": "stream",
     "text": [
      "Iteration:   0%|          | 4/1001 [00:00<00:29, 33.66it/s]s]\n",
      "Iteration: 100%|██████████| 1001/1001 [00:22<00:00, 43.70it/s]\n",
      "Iteration:  86%|████████▋ | 864/1001 [00:19<00:03, 44.40it/s]"
     ]
    },
    {
     "name": "stdout",
     "output_type": "stream",
     "text": [
      "Evaluating...\n"
     ]
    },
    {
     "name": "stderr",
     "output_type": "stream",
     "text": [
      "\r",
      "Iteration:   0%|          | 5/1001 [00:00<00:22, 44.65it/s]\r",
      "Iteration:  99%|█████████▉| 994/1001 [00:22<00:00, 44.76it/s]\r",
      "Iteration:  82%|████████▏ | 818/1001 [00:18<00:04, 44.04it/s]\r",
      "Iteration:  82%|████████▏ | 819/1001 [00:18<00:04, 44.73it/s]\r",
      "Iteration:   1%|          | 12/1001 [00:00<00:18, 54.66it/s]\r",
      "Iteration: 100%|█████████▉| 999/1001 [00:22<00:00, 44.60it/s]\r",
      "Iteration:  82%|████████▏ | 823/1001 [00:18<00:04, 44.13it/s]\r",
      "Iteration:  82%|████████▏ | 824/1001 [00:18<00:03, 44.80it/s]\r",
      "Iteration:  87%|████████▋ | 869/1001 [00:19<00:03, 33.97it/s]\r",
      "Iteration: 100%|██████████| 1001/1001 [00:22<00:00, 43.61it/s]\n",
      "\r",
      "Iteration:   0%|          | 0/1001 [00:00<?, ?it/s]"
     ]
    },
    {
     "name": "stdout",
     "output_type": "stream",
     "text": [
      "Evaluating...\n"
     ]
    },
    {
     "name": "stderr",
     "output_type": "stream",
     "text": [
      "Iteration: 100%|██████████| 1001/1001 [00:22<00:00, 43.76it/s]\n",
      "Iteration:   0%|          | 0/1001 [00:00<?, ?it/s]"
     ]
    },
    {
     "name": "stdout",
     "output_type": "stream",
     "text": [
      "Evaluating...\n"
     ]
    },
    {
     "name": "stderr",
     "output_type": "stream",
     "text": [
      "Iteration: 100%|██████████| 1001/1001 [00:23<00:00, 43.25it/s]\n",
      "Iteration:   0%|          | 0/1001 [00:00<?, ?it/s]"
     ]
    },
    {
     "name": "stdout",
     "output_type": "stream",
     "text": [
      "Evaluating...\n",
      "Evaluating...\n"
     ]
    },
    {
     "name": "stderr",
     "output_type": "stream",
     "text": [
      "Iteration: 100%|██████████| 1001/1001 [00:23<00:00, 43.42it/s]\n",
      "Iteration:  95%|█████████▌| 953/1001 [00:19<00:00, 59.59it/s]]\n",
      "Iteration:  98%|█████████▊| 982/1001 [00:20<00:00, 61.64it/s]\n",
      "Iteration: 100%|██████████| 112/112 [00:01<00:00, 68.47it/s]s]\n",
      "Iteration:   0%|          | 4/1001 [00:00<00:25, 38.36it/s]"
     ]
    },
    {
     "name": "stdout",
     "output_type": "stream",
     "text": [
      "{'Train':  best_epoch_indx:86\n",
      " auc:0.9000517845351808 \n",
      " apur:0.5730294959090279 \n",
      " f1:0.5031108760855016 \n",
      " precision:0.35692513306290885 \n",
      " recall:0.8521089311203784 \n",
      ", 'Validation':  best_epoch_indx:86\n",
      " auc:0.8795253200171874 \n",
      " apur:0.5280792613632037 \n",
      " f1:0.48496605237633356 \n",
      " precision:0.3445351425845436 \n",
      " recall:0.818639798488665 \n",
      "}\n",
      "=====Epoch 87\n",
      "Training...\n",
      "{'Train':  best_epoch_indx:86\n",
      " auc:0.9001109709837385 \n",
      " apur:0.566240954400905 \n",
      " f1:0.49385884509624195 \n",
      " precision:0.34524605509494516 \n",
      " recall:0.8671107503708472 \n",
      ", 'Validation':  best_epoch_indx:86\n",
      " auc:0.8802737360777171 \n",
      " apur:0.5330922670037167 \n",
      " f1:0.48040565012676567 \n",
      " precision:0.3371631926792069 \n",
      " recall:0.8352644836272041 \n",
      "}\n",
      "=====Epoch 87\n",
      "Training...\n"
     ]
    },
    {
     "name": "stderr",
     "output_type": "stream",
     "text": [
      "\n",
      "Iteration:   2%|▏         | 24/1001 [00:00<00:22, 42.75it/s]\n",
      "Iteration:   6%|▋         | 64/1001 [00:01<00:21, 43.40it/s]\n",
      "Iteration:   7%|▋         | 69/1001 [00:01<00:21, 44.00it/s]\n",
      "Iteration:  13%|█▎        | 129/1001 [00:03<00:21, 41.02it/s]\n",
      "Iteration:  71%|███████   | 79/112 [00:01<00:00, 54.36it/s]"
     ]
    },
    {
     "name": "stdout",
     "output_type": "stream",
     "text": [
      "{'Train':  best_epoch_indx:86\n",
      " auc:0.8996785070738174 \n",
      " apur:0.5690631936022488 \n",
      " f1:0.4920181269836256 \n",
      " precision:0.3426736462411472 \n",
      " recall:0.8720962776378394 \n",
      ", 'Validation':  best_epoch_indx:86\n",
      " auc:0.8772597960732307 \n",
      " apur:0.518743873526545 \n",
      " f1:0.4738452779161626 \n",
      " precision:0.3302251760738022 \n",
      " recall:0.8385390428211587 \n",
      "}\n",
      "=====Epoch 87\n",
      "Training...\n"
     ]
    },
    {
     "name": "stderr",
     "output_type": "stream",
     "text": [
      "Iteration:  18%|█▊        | 184/1001 [00:04<00:18, 44.74it/s]\n",
      "Iteration:  17%|█▋        | 174/1001 [00:04<00:18, 44.55it/s]\n",
      "Iteration:   0%|          | 4/1001 [00:00<00:29, 33.75it/s]]]"
     ]
    },
    {
     "name": "stdout",
     "output_type": "stream",
     "text": [
      "{'Train':  best_epoch_indx:86\n",
      " auc:0.8982449970252304 \n",
      " apur:0.5651303903312574 \n",
      " f1:0.48778494589858634 \n",
      " precision:0.3390945243193637 \n",
      " recall:0.8687060930896471 \n",
      ", 'Validation':  best_epoch_indx:86\n",
      " auc:0.8770513598646534 \n",
      " apur:0.5162995147357615 \n",
      " f1:0.47120197391610846 \n",
      " precision:0.32716593245227604 \n",
      " recall:0.8418136020151133 \n",
      "}\n",
      "=====Epoch 87\n",
      "Training...\n",
      "{'Train':  best_epoch_indx:86\n",
      " auc:0.8955992798692287 \n",
      " apur:0.5611107904653176 \n",
      " f1:0.489155988477987 \n",
      " precision:0.34287192639085734 \n",
      " recall:0.8531445044641608 \n",
      ", 'Validation':  best_epoch_indx:86\n",
      " auc:0.8787955082864909 \n",
      " apur:0.5215465751458986 \n",
      " f1:0.47881816206821637 \n",
      " precision:0.33600975708913505 \n",
      " recall:0.8327455919395466 \n",
      "}\n",
      "=====Epoch 87\n",
      "Training...\n"
     ]
    },
    {
     "name": "stderr",
     "output_type": "stream",
     "text": [
      "Iteration: 100%|██████████| 1001/1001 [00:22<00:00, 43.82it/s]\n",
      "Iteration:  86%|████████▌ | 859/1001 [00:19<00:03, 44.28it/s]"
     ]
    },
    {
     "name": "stdout",
     "output_type": "stream",
     "text": [
      "Evaluating...\n"
     ]
    },
    {
     "name": "stderr",
     "output_type": "stream",
     "text": [
      "\r",
      "Iteration:  82%|████████▏ | 819/1001 [00:18<00:04, 43.96it/s]\r",
      "Iteration:   1%|          | 10/1001 [00:00<00:21, 45.48it/s]\r",
      "Iteration:  82%|████████▏ | 819/1001 [00:18<00:04, 44.43it/s]\r",
      "Iteration: 100%|█████████▉| 999/1001 [00:22<00:00, 44.20it/s]\r",
      "Iteration:  86%|████████▋ | 864/1001 [00:19<00:03, 43.68it/s]\r",
      "Iteration: 100%|██████████| 1001/1001 [00:22<00:00, 43.67it/s]\n",
      "\r",
      "Iteration:   0%|          | 0/1001 [00:00<?, ?it/s]\r",
      "Iteration:  82%|████████▏ | 824/1001 [00:18<00:04, 44.16it/s]\r",
      "Iteration:   2%|▏         | 16/1001 [00:00<00:19, 49.27it/s]\r",
      "Iteration:  82%|████████▏ | 824/1001 [00:18<00:03, 44.55it/s]\r",
      "Iteration:  87%|████████▋ | 869/1001 [00:19<00:03, 43.06it/s]\r",
      "Iteration:   0%|          | 4/1001 [00:00<00:26, 38.07it/s]"
     ]
    },
    {
     "name": "stdout",
     "output_type": "stream",
     "text": [
      "Evaluating...\n"
     ]
    },
    {
     "name": "stderr",
     "output_type": "stream",
     "text": [
      "Iteration: 100%|██████████| 1001/1001 [00:23<00:00, 43.48it/s]\n",
      "Iteration:   0%|          | 4/1001 [00:00<00:27, 36.65it/s]s]"
     ]
    },
    {
     "name": "stdout",
     "output_type": "stream",
     "text": [
      "Evaluating...\n"
     ]
    },
    {
     "name": "stderr",
     "output_type": "stream",
     "text": [
      "Iteration: 100%|██████████| 1001/1001 [00:23<00:00, 43.44it/s]\n",
      "Iteration:   5%|▍         | 48/1001 [00:01<00:20, 47.18it/s]]"
     ]
    },
    {
     "name": "stdout",
     "output_type": "stream",
     "text": [
      "Evaluating...\n",
      "Evaluating...\n"
     ]
    },
    {
     "name": "stderr",
     "output_type": "stream",
     "text": [
      "Iteration: 100%|██████████| 1001/1001 [00:23<00:00, 43.40it/s]\n",
      "Iteration:  97%|█████████▋| 973/1001 [00:19<00:00, 65.62it/s]]\n",
      "Iteration: 100%|██████████| 1001/1001 [00:20<00:00, 49.40it/s]\n",
      "Iteration: 100%|██████████| 112/112 [00:01<00:00, 75.07it/s]s]\n",
      "Iteration:   0%|          | 0/1001 [00:00<?, ?it/s]"
     ]
    },
    {
     "name": "stdout",
     "output_type": "stream",
     "text": [
      "{'Train':  best_epoch_indx:87\n",
      " auc:0.9034161551739935 \n",
      " apur:0.5824480897281016 \n",
      " f1:0.5062424187412842 \n",
      " precision:0.35894825528329705 \n",
      " recall:0.8585462789330796 \n",
      ", 'Validation':  best_epoch_indx:87\n",
      " auc:0.8793161509497294 \n",
      " apur:0.5243950803389164 \n",
      " f1:0.48532697750633097 \n",
      " precision:0.34454314720812185 \n",
      " recall:0.8206549118387909 \n",
      "}\n",
      "=====Epoch 88\n",
      "Training...\n"
     ]
    },
    {
     "name": "stderr",
     "output_type": "stream",
     "text": [
      "\r",
      "Iteration:   0%|          | 4/1001 [00:00<00:27, 36.72it/s]\n",
      "\r",
      "Iteration:   0%|          | 0/1001 [00:00<?, ?it/s]\r",
      "Iteration:   1%|          | 9/1001 [00:00<00:25, 39.52it/s]"
     ]
    },
    {
     "name": "stdout",
     "output_type": "stream",
     "text": [
      "{'Train':  best_epoch_indx:87\n",
      " auc:0.9038061004757926 \n",
      " apur:0.5848014046164908 \n",
      " f1:0.4984134417414193 \n",
      " precision:0.3502451091643593 \n",
      " recall:0.8638640879957458 \n",
      ", 'Validation':  best_epoch_indx:87\n",
      " auc:0.8823568253033285 \n",
      " apur:0.5501188727722984 \n",
      " f1:0.48094958968347007 \n",
      " precision:0.33911965282083073 \n",
      " recall:0.8267002518891687 \n",
      "}\n",
      "=====Epoch 88\n",
      "Training...\n"
     ]
    },
    {
     "name": "stderr",
     "output_type": "stream",
     "text": [
      "Iteration:   3%|▎         | 29/1001 [00:00<00:22, 42.77it/s]\n",
      "Iteration:   6%|▋         | 64/1001 [00:01<00:21, 44.48it/s]\n",
      "Iteration:  11%|█         | 12/112 [00:00<00:01, 56.37it/s]]\n",
      "Iteration:  14%|█▍        | 139/1001 [00:03<00:19, 43.99it/s]\n",
      "Iteration:  14%|█▍        | 144/1001 [00:03<00:19, 44.22it/s]"
     ]
    },
    {
     "name": "stdout",
     "output_type": "stream",
     "text": [
      "{'Train':  best_epoch_indx:87\n",
      " auc:0.9019866467145292 \n",
      " apur:0.5783568162347009 \n",
      " f1:0.49904376012965956 \n",
      " precision:0.3512147827078818 \n",
      " recall:0.8617688217184439 \n",
      ", 'Validation':  best_epoch_indx:87\n",
      " auc:0.8792803180076114 \n",
      " apur:0.5268228842110392 \n",
      " f1:0.48176036259960514 \n",
      " precision:0.33937583685240497 \n",
      " recall:0.8299748110831234 \n",
      "}\n",
      "=====Epoch 88\n",
      "Training...\n"
     ]
    },
    {
     "name": "stderr",
     "output_type": "stream",
     "text": [
      "Iteration:   3%|▎         | 33/1001 [00:00<00:22, 43.06it/s]]\n",
      "Iteration:   4%|▍         | 38/1001 [00:00<00:22, 43.47it/s]]\n",
      "Iteration:   0%|          | 4/1001 [00:00<00:27, 36.82it/s]"
     ]
    },
    {
     "name": "stdout",
     "output_type": "stream",
     "text": [
      "{'Train':  best_epoch_indx:87\n",
      " auc:0.9034214256947554 \n",
      " apur:0.5784266882504222 \n",
      " f1:0.4968814305540047 \n",
      " precision:0.3474550747916876 \n",
      " recall:0.8718128131209941 \n",
      ", 'Validation':  best_epoch_indx:87\n",
      " auc:0.8813371614566972 \n",
      " apur:0.5302081190992171 \n",
      " f1:0.4801441441441442 \n",
      " precision:0.3362948006057547 \n",
      " recall:0.8390428211586902 \n",
      "}\n",
      "=====Epoch 88\n",
      "Training...\n",
      "{'Train':  best_epoch_indx:87\n",
      " auc:0.9016639298117948 \n",
      " apur:0.576423505774499 \n",
      " f1:0.5075090886298107 \n",
      " precision:0.361782999308915 \n",
      " recall:0.8498138766828067 \n",
      ", 'Validation':  best_epoch_indx:87\n",
      " auc:0.8837521328979152 \n",
      " apur:0.5397441102859986 \n",
      " f1:0.49544599171998494 \n",
      " precision:0.3533011272141707 \n",
      " recall:0.8289672544080604 \n",
      "}\n",
      "=====Epoch 88\n",
      "Training...\n"
     ]
    },
    {
     "name": "stderr",
     "output_type": "stream",
     "text": [
      "Iteration: 100%|██████████| 1001/1001 [00:22<00:00, 43.91it/s]\n",
      "Iteration:   0%|          | 0/1001 [00:00<?, ?it/s]"
     ]
    },
    {
     "name": "stdout",
     "output_type": "stream",
     "text": [
      "Evaluating...\n"
     ]
    },
    {
     "name": "stderr",
     "output_type": "stream",
     "text": [
      "Iteration: 100%|██████████| 1001/1001 [00:22<00:00, 43.77it/s]\n",
      "Iteration:  83%|████████▎ | 829/1001 [00:19<00:03, 44.54it/s]"
     ]
    },
    {
     "name": "stdout",
     "output_type": "stream",
     "text": [
      "Evaluating...\n"
     ]
    },
    {
     "name": "stderr",
     "output_type": "stream",
     "text": [
      "Iteration: 100%|██████████| 1001/1001 [00:22<00:00, 43.56it/s]\n",
      "Iteration:  96%|█████████▋| 964/1001 [00:22<00:00, 43.37it/s]"
     ]
    },
    {
     "name": "stdout",
     "output_type": "stream",
     "text": [
      "Evaluating...\n"
     ]
    },
    {
     "name": "stderr",
     "output_type": "stream",
     "text": [
      "Iteration: 100%|██████████| 1001/1001 [00:23<00:00, 43.39it/s]\n",
      "Iteration:   5%|▍         | 46/1001 [00:00<00:19, 48.01it/s]]"
     ]
    },
    {
     "name": "stdout",
     "output_type": "stream",
     "text": [
      "Evaluating...\n",
      "Evaluating...\n"
     ]
    },
    {
     "name": "stderr",
     "output_type": "stream",
     "text": [
      "Iteration: 100%|██████████| 1001/1001 [00:23<00:00, 43.41it/s]\n",
      "Iteration:  97%|█████████▋| 974/1001 [00:19<00:00, 63.76it/s]]\n",
      "Iteration:  19%|█▉        | 21/112 [00:00<00:01, 58.77it/s]s]\n",
      "Iteration: 100%|██████████| 112/112 [00:01<00:00, 75.21it/s]s]\n",
      "Iteration:   0%|          | 4/1001 [00:00<00:30, 32.56it/s]"
     ]
    },
    {
     "name": "stdout",
     "output_type": "stream",
     "text": [
      "{'Train':  best_epoch_indx:88\n",
      " auc:0.9097075567190736 \n",
      " apur:0.6043020302968595 \n",
      " f1:0.509915245917733 \n",
      " precision:0.36025986336365845 \n",
      " recall:0.8722606286210082 \n",
      ", 'Validation':  best_epoch_indx:88\n",
      " auc:0.884731120933801 \n",
      " apur:0.5501399640612803 \n",
      " f1:0.48661800486618007 \n",
      " precision:0.3440008339414156 \n",
      " recall:0.8312342569269522 \n",
      "}\n",
      "=====Epoch 89\n",
      "Training...\n"
     ]
    },
    {
     "name": "stderr",
     "output_type": "stream",
     "text": [
      "\r",
      "Iteration:   1%|          | 9/1001 [00:00<00:26, 37.63it/s]\n",
      "\r",
      "Iteration:   0%|          | 0/1001 [00:00<?, ?it/s]\n",
      "\r",
      "Iteration:   0%|          | 0/112 [00:00<?, ?it/s]\r",
      "Iteration:   1%|▏         | 14/1001 [00:00<00:24, 39.93it/s]\r",
      "Iteration:   6%|▋         | 7/112 [00:00<00:01, 66.92it/s]\r",
      "Iteration:   0%|          | 4/1001 [00:00<00:29, 34.36it/s]"
     ]
    },
    {
     "name": "stdout",
     "output_type": "stream",
     "text": [
      "{'Train':  best_epoch_indx:88\n",
      " auc:0.9085690418149517 \n",
      " apur:0.6003974316950274 \n",
      " f1:0.5062598700812398 \n",
      " precision:0.3569452575272335 \n",
      " recall:0.8703294242771978 \n",
      ", 'Validation':  best_epoch_indx:88\n",
      " auc:0.8861103399188061 \n",
      " apur:0.5625791174561137 \n",
      " f1:0.4886657313741417 \n",
      " precision:0.34565966781573176 \n",
      " recall:0.8335012594458439 \n",
      "}\n",
      "=====Epoch 89\n",
      "Training...\n"
     ]
    },
    {
     "name": "stderr",
     "output_type": "stream",
     "text": [
      "Iteration:  29%|██▊       | 32/112 [00:00<00:01, 53.25it/s]]\n",
      "Iteration:   4%|▍         | 39/1001 [00:00<00:22, 43.32it/s]\n",
      "Iteration:  15%|█▍        | 149/1001 [00:03<00:19, 44.38it/s]\n",
      "Iteration:   0%|          | 0/1001 [00:00<?, ?it/s]"
     ]
    },
    {
     "name": "stdout",
     "output_type": "stream",
     "text": [
      "{'Train':  best_epoch_indx:88\n",
      " auc:0.9070585608457 \n",
      " apur:0.5949632256782522 \n",
      " f1:0.5088111520252498 \n",
      " precision:0.3601833965601508 \n",
      " recall:0.8662748390708088 \n",
      ", 'Validation':  best_epoch_indx:88\n",
      " auc:0.8828730236703133 \n",
      " apur:0.5401500670965869 \n",
      " f1:0.4893016344725112 \n",
      " precision:0.3469968387776607 \n",
      " recall:0.829471032745592 \n",
      "}\n",
      "=====Epoch 89\n",
      "Training...\n"
     ]
    },
    {
     "name": "stderr",
     "output_type": "stream",
     "text": [
      "Iteration:  16%|█▋        | 164/1001 [00:03<00:19, 43.09it/s]\n",
      "Iteration:   0%|          | 0/1001 [00:00<?, ?it/s]\n",
      "Iteration:   0%|          | 0/1001 [00:00<?, ?it/s]"
     ]
    },
    {
     "name": "stdout",
     "output_type": "stream",
     "text": [
      "{'Train':  best_epoch_indx:88\n",
      " auc:0.9091050467319383 \n",
      " apur:0.6022289274048865 \n",
      " f1:0.5099822848432415 \n",
      " precision:0.3613783922649353 \n",
      " recall:0.8661591424333175 \n",
      ", 'Validation':  best_epoch_indx:88\n",
      " auc:0.8855041284812191 \n",
      " apur:0.5526199126384259 \n",
      " f1:0.48934748719471455 \n",
      " precision:0.34691085148931694 \n",
      " recall:0.8302267002518892 \n",
      "}\n",
      "=====Epoch 89\n",
      "Training...\n",
      "{'Train':  best_epoch_indx:88\n",
      " auc:0.9066847861206893 \n",
      " apur:0.5965807907852704 \n",
      " f1:0.5049525129417519 \n",
      " precision:0.3562390724210914 \n",
      " recall:0.8668028772145876 \n",
      ", 'Validation':  best_epoch_indx:88\n",
      " auc:0.8865566209771297 \n",
      " apur:0.5507245703342202 \n",
      " f1:0.49067136770971054 \n",
      " precision:0.3463293239319784 \n",
      " recall:0.8413098236775819 \n",
      "}\n",
      "=====Epoch 89\n",
      "Training...\n"
     ]
    },
    {
     "name": "stderr",
     "output_type": "stream",
     "text": [
      "Iteration: 100%|██████████| 1001/1001 [00:22<00:00, 43.86it/s]\n",
      "Iteration:   0%|          | 0/1001 [00:00<?, ?it/s]"
     ]
    },
    {
     "name": "stdout",
     "output_type": "stream",
     "text": [
      "Evaluating...\n"
     ]
    },
    {
     "name": "stderr",
     "output_type": "stream",
     "text": [
      "Iteration: 100%|██████████| 1001/1001 [00:22<00:00, 43.65it/s]\n",
      "Iteration:   2%|▏         | 22/1001 [00:00<00:19, 49.10it/s]]"
     ]
    },
    {
     "name": "stdout",
     "output_type": "stream",
     "text": [
      "Evaluating...\n"
     ]
    },
    {
     "name": "stderr",
     "output_type": "stream",
     "text": [
      "Iteration: 100%|██████████| 1001/1001 [00:22<00:00, 43.56it/s]\n",
      "Iteration:  97%|█████████▋| 972/1001 [00:22<00:00, 43.01it/s]"
     ]
    },
    {
     "name": "stdout",
     "output_type": "stream",
     "text": [
      "Evaluating...\n"
     ]
    },
    {
     "name": "stderr",
     "output_type": "stream",
     "text": [
      "Iteration: 100%|██████████| 1001/1001 [00:22<00:00, 43.52it/s]\n",
      "Iteration: 100%|██████████| 1001/1001 [00:23<00:00, 43.38it/s]\n",
      "Iteration:   0%|          | 0/1001 [00:00<?, ?it/s]"
     ]
    },
    {
     "name": "stdout",
     "output_type": "stream",
     "text": [
      "Evaluating...\n",
      "Evaluating...\n"
     ]
    },
    {
     "name": "stderr",
     "output_type": "stream",
     "text": [
      "Iteration:  96%|█████████▌| 959/1001 [00:19<00:00, 60.02it/s]]\n",
      "Iteration:  98%|█████████▊| 980/1001 [00:20<00:00, 58.74it/s]\n",
      "Iteration: 100%|██████████| 112/112 [00:01<00:00, 70.68it/s]s]"
     ]
    },
    {
     "name": "stdout",
     "output_type": "stream",
     "text": [
      "{'Train':  best_epoch_indx:89\n",
      " auc:0.9136521793576251 \n",
      " apur:0.6195673681691463 \n",
      " f1:0.5197415288684764 \n",
      " precision:0.37095037565200745 \n",
      " recall:0.86783845055837 \n",
      ", 'Validation':  best_epoch_indx:89\n",
      " auc:0.8882488264186457 \n",
      " apur:0.558125356974974 \n",
      " f1:0.49543499584999623 \n",
      " precision:0.3536572228805343 \n",
      " recall:0.8269521410579345 \n",
      "}\n",
      "=====Epoch 90\n",
      "Training...\n"
     ]
    },
    {
     "name": "stderr",
     "output_type": "stream",
     "text": [
      "\n",
      "Iteration:   0%|          | 4/1001 [00:00<00:29, 33.33it/s]\n",
      "Iteration:  12%|█▏        | 13/112 [00:00<00:01, 63.75it/s]]\n",
      "Iteration:   0%|          | 0/1001 [00:00<?, ?it/s]"
     ]
    },
    {
     "name": "stdout",
     "output_type": "stream",
     "text": [
      "{'Train':  best_epoch_indx:89\n",
      " auc:0.913326953401536 \n",
      " apur:0.614988648506842 \n",
      " f1:0.5181514021342812 \n",
      " precision:0.369109885407256 \n",
      " recall:0.8690699431834085 \n",
      ", 'Validation':  best_epoch_indx:89\n",
      " auc:0.8881559976270801 \n",
      " apur:0.5695494132962562 \n",
      " f1:0.49796041698141724 \n",
      " precision:0.3556322831247303 \n",
      " recall:0.8302267002518892 \n",
      "}\n",
      "=====Epoch 90\n",
      "Training...\n"
     ]
    },
    {
     "name": "stderr",
     "output_type": "stream",
     "text": [
      "Iteration:  43%|████▎     | 48/112 [00:00<00:01, 61.70it/s]]\n",
      "Iteration:   4%|▍         | 43/1001 [00:01<00:21, 44.27it/s]\n",
      "Iteration:  12%|█▏        | 119/1001 [00:02<00:21, 40.43it/s]\n",
      "Iteration:  13%|█▎        | 129/1001 [00:03<00:20, 41.73it/s]"
     ]
    },
    {
     "name": "stdout",
     "output_type": "stream",
     "text": [
      "{'Train':  best_epoch_indx:89\n",
      " auc:0.9128708147546882 \n",
      " apur:0.614712346567834 \n",
      " f1:0.508916920400174 \n",
      " precision:0.3572882736156352 \n",
      " recall:0.8841309823677582 \n",
      ", 'Validation':  best_epoch_indx:89\n",
      " auc:0.886816580165033 \n",
      " apur:0.5528971980667389 \n",
      " f1:0.4863098264216718 \n",
      " precision:0.34166751709358095 \n",
      " recall:0.8433249370277078 \n",
      "}\n",
      "=====Epoch 90\n",
      "Training...\n"
     ]
    },
    {
     "name": "stderr",
     "output_type": "stream",
     "text": [
      "Iteration:  15%|█▌        | 154/1001 [00:03<00:19, 43.93it/s]\n",
      "Iteration:  16%|█▌        | 159/1001 [00:03<00:19, 43.40it/s]"
     ]
    },
    {
     "name": "stdout",
     "output_type": "stream",
     "text": [
      "{'Train':  best_epoch_indx:89\n",
      " auc:0.9112934092599705 \n",
      " apur:0.6143630874906865 \n",
      " f1:0.505682366955346 \n",
      " precision:0.35490029938428513 \n",
      " recall:0.8792297573399759 \n",
      ", 'Validation':  best_epoch_indx:89\n",
      " auc:0.890627656345585 \n",
      " apur:0.5655690243801363 \n",
      " f1:0.4892722528269063 \n",
      " precision:0.34347649094239774 \n",
      " recall:0.8501259445843828 \n",
      "}\n",
      "=====Epoch 90\n",
      "Training...\n",
      "{'Train':  best_epoch_indx:89\n",
      " auc:0.913401772420156 \n",
      " apur:0.6149286209805913 \n",
      " f1:0.5130155496595175 \n",
      " precision:0.3630624346006278 \n",
      " recall:0.8739959136835623 \n",
      ", 'Validation':  best_epoch_indx:89\n",
      " auc:0.8888074191718798 \n",
      " apur:0.5594425839825445 \n",
      " f1:0.4916820702402957 \n",
      " precision:0.34798534798534797 \n",
      " recall:0.8375314861460957 \n",
      "}\n",
      "=====Epoch 90\n",
      "Training...\n"
     ]
    },
    {
     "name": "stderr",
     "output_type": "stream",
     "text": [
      "Iteration:  16%|█▋        | 164/1001 [00:03<00:19, 42.77it/s]\n",
      "Iteration: 100%|██████████| 1001/1001 [00:22<00:00, 43.83it/s]\n",
      "Iteration:   0%|          | 0/1001 [00:00<?, ?it/s]"
     ]
    },
    {
     "name": "stdout",
     "output_type": "stream",
     "text": [
      "Evaluating...\n"
     ]
    },
    {
     "name": "stderr",
     "output_type": "stream",
     "text": [
      "Iteration: 100%|██████████| 1001/1001 [00:22<00:00, 43.71it/s]\n",
      "Iteration:   3%|▎         | 32/1001 [00:00<00:19, 49.35it/s]]"
     ]
    },
    {
     "name": "stdout",
     "output_type": "stream",
     "text": [
      "Evaluating...\n"
     ]
    },
    {
     "name": "stderr",
     "output_type": "stream",
     "text": [
      "Iteration: 100%|██████████| 1001/1001 [00:22<00:00, 43.72it/s]\n",
      "Iteration:   0%|          | 0/1001 [00:00<?, ?it/s]"
     ]
    },
    {
     "name": "stdout",
     "output_type": "stream",
     "text": [
      "Evaluating...\n"
     ]
    },
    {
     "name": "stderr",
     "output_type": "stream",
     "text": [
      "Iteration: 100%|██████████| 1001/1001 [00:23<00:00, 43.42it/s]\n",
      "Iteration:  20%|█▉        | 199/1001 [00:04<00:19, 41.95it/s]"
     ]
    },
    {
     "name": "stdout",
     "output_type": "stream",
     "text": [
      "Evaluating...\n"
     ]
    },
    {
     "name": "stderr",
     "output_type": "stream",
     "text": [
      "\r",
      "Iteration:   6%|▌         | 57/1001 [00:01<00:19, 48.31it/s]\r",
      "Iteration:   1%|          | 10/1001 [00:00<00:20, 47.98it/s]\r",
      "Iteration: 100%|█████████▉| 998/1001 [00:23<00:00, 42.69it/s]\r",
      "Iteration:  20%|██        | 205/1001 [00:04<00:17, 44.42it/s]\r",
      "Iteration:  22%|██▏       | 224/1001 [00:04<00:17, 43.91it/s]\r",
      "Iteration:   1%|▏         | 15/1001 [00:00<00:20, 48.52it/s]\r",
      "Iteration:   6%|▋         | 63/1001 [00:01<00:19, 49.03it/s]\r",
      "Iteration: 100%|██████████| 1001/1001 [00:23<00:00, 43.10it/s]\n",
      "\r",
      "Iteration:   0%|          | 0/1001 [00:00<?, ?it/s]"
     ]
    },
    {
     "name": "stdout",
     "output_type": "stream",
     "text": [
      "Evaluating...\n"
     ]
    },
    {
     "name": "stderr",
     "output_type": "stream",
     "text": [
      "Iteration:  96%|█████████▌| 962/1001 [00:19<00:00, 60.01it/s]]\n",
      "Iteration:  97%|█████████▋| 969/1001 [00:19<00:00, 59.87it/s]\n",
      "Iteration:  88%|████████▊ | 98/112 [00:01<00:00, 73.28it/s]]s]\n",
      "Iteration:   0%|          | 0/1001 [00:00<?, ?it/s]"
     ]
    },
    {
     "name": "stdout",
     "output_type": "stream",
     "text": [
      "{'Train':  best_epoch_indx:90\n",
      " auc:0.9135213812922086 \n",
      " apur:0.615511282338728 \n",
      " f1:0.5039087226231168 \n",
      " precision:0.3512547570459434 \n",
      " recall:0.8912368104341012 \n",
      ", 'Validation':  best_epoch_indx:90\n",
      " auc:0.8861222242327033 \n",
      " apur:0.5530095592088639 \n",
      " f1:0.48122988916696463 \n",
      " precision:0.3359960059910135 \n",
      " recall:0.8476070528967254 \n",
      "}\n",
      "=====Epoch 91\n",
      "Training...\n"
     ]
    },
    {
     "name": "stderr",
     "output_type": "stream",
     "text": [
      "Iteration:   1%|▏         | 14/1001 [00:00<00:24, 40.12it/s]\n",
      "Iteration:   0%|          | 0/1001 [00:00<?, ?it/s]"
     ]
    },
    {
     "name": "stdout",
     "output_type": "stream",
     "text": [
      "{'Train':  best_epoch_indx:90\n",
      " auc:0.9114860764464583 \n",
      " apur:0.6079774569859052 \n",
      " f1:0.5092025039276498 \n",
      " precision:0.359018802084529 \n",
      " recall:0.8753953371211061 \n",
      ", 'Validation':  best_epoch_indx:90\n",
      " auc:0.8867439585642445 \n",
      " apur:0.5630703919091176 \n",
      " f1:0.4921396413019411 \n",
      " precision:0.34805303267564464 \n",
      " recall:0.8397984886649874 \n",
      "}\n",
      "=====Epoch 91\n",
      "Training...\n"
     ]
    },
    {
     "name": "stderr",
     "output_type": "stream",
     "text": [
      "Iteration:   3%|▎         | 34/1001 [00:00<00:22, 42.94it/s]\n",
      "Iteration:   7%|▋         | 69/1001 [00:01<00:20, 45.09it/s]\n",
      "Iteration:  51%|█████     | 57/112 [00:01<00:01, 49.31it/s]]\n",
      "Iteration:  62%|██████▏   | 69/112 [00:01<00:00, 50.59it/s]s]\n",
      "Iteration:  91%|█████████ | 102/112 [00:01<00:00, 55.23it/s]]"
     ]
    },
    {
     "name": "stdout",
     "output_type": "stream",
     "text": [
      "{'Train':  best_epoch_indx:90\n",
      " auc:0.9110775407354296 \n",
      " apur:0.6043400317137411 \n",
      " f1:0.5121715957951183 \n",
      " precision:0.36173848782966145 \n",
      " recall:0.8767982087881332 \n",
      ", 'Validation':  best_epoch_indx:90\n",
      " auc:0.8847228237712678 \n",
      " apur:0.5447889078219383 \n",
      " f1:0.49042938437661676 \n",
      " precision:0.3470348289927832 \n",
      " recall:0.8357682619647355 \n",
      "}\n",
      "=====Epoch 91\n",
      "Training...\n"
     ]
    },
    {
     "name": "stderr",
     "output_type": "stream",
     "text": [
      "Iteration:   3%|▎         | 29/1001 [00:00<00:22, 43.13it/s]]\n",
      "Iteration:   0%|          | 4/1001 [00:00<00:29, 34.17it/s]]]"
     ]
    },
    {
     "name": "stdout",
     "output_type": "stream",
     "text": [
      "{'Train':  best_epoch_indx:90\n",
      " auc:0.9101511840612291 \n",
      " apur:0.604439189087618 \n",
      " f1:0.5038357238278844 \n",
      " precision:0.3527329749103943 \n",
      " recall:0.8814128579025442 \n",
      ", 'Validation':  best_epoch_indx:90\n",
      " auc:0.8877718810018893 \n",
      " apur:0.5506003992224673 \n",
      " f1:0.4863889089464943 \n",
      " precision:0.3409251948577791 \n",
      " recall:0.8483627204030226 \n",
      "}\n",
      "=====Epoch 91\n",
      "Training...\n"
     ]
    },
    {
     "name": "stderr",
     "output_type": "stream",
     "text": [
      "Iteration:  17%|█▋        | 174/1001 [00:04<00:18, 44.91it/s]\n",
      "Iteration:   2%|▏         | 24/1001 [00:00<00:23, 40.93it/s]]"
     ]
    },
    {
     "name": "stdout",
     "output_type": "stream",
     "text": [
      "{'Train':  best_epoch_indx:90\n",
      " auc:0.9116221648214511 \n",
      " apur:0.6075812019783361 \n",
      " f1:0.517152737655639 \n",
      " precision:0.3689574422327893 \n",
      " recall:0.8643119034957597 \n",
      ", 'Validation':  best_epoch_indx:90\n",
      " auc:0.8859476752473442 \n",
      " apur:0.5526398958369885 \n",
      " f1:0.493394730882464 \n",
      " precision:0.3522690524954188 \n",
      " recall:0.8231738035264483 \n",
      "}\n",
      "=====Epoch 91\n",
      "Training...\n"
     ]
    },
    {
     "name": "stderr",
     "output_type": "stream",
     "text": [
      "Iteration: 100%|██████████| 1001/1001 [00:22<00:00, 43.88it/s]\n",
      "Iteration:  82%|████████▏ | 824/1001 [00:18<00:03, 44.64it/s]"
     ]
    },
    {
     "name": "stdout",
     "output_type": "stream",
     "text": [
      "Evaluating...\n"
     ]
    },
    {
     "name": "stderr",
     "output_type": "stream",
     "text": [
      "Iteration: 100%|██████████| 1001/1001 [00:22<00:00, 43.72it/s]\n",
      "Iteration:   0%|          | 5/1001 [00:00<00:23, 43.27it/s]s]"
     ]
    },
    {
     "name": "stdout",
     "output_type": "stream",
     "text": [
      "Evaluating...\n"
     ]
    },
    {
     "name": "stderr",
     "output_type": "stream",
     "text": [
      "Iteration: 100%|██████████| 1001/1001 [00:22<00:00, 43.68it/s]\n",
      "Iteration:  16%|█▌        | 162/1001 [00:03<00:16, 50.28it/s]"
     ]
    },
    {
     "name": "stdout",
     "output_type": "stream",
     "text": [
      "Evaluating...\n"
     ]
    },
    {
     "name": "stderr",
     "output_type": "stream",
     "text": [
      "Iteration: 100%|██████████| 1001/1001 [00:23<00:00, 43.45it/s]\n",
      "Iteration:   5%|▌         | 53/1001 [00:01<00:18, 50.94it/s]]"
     ]
    },
    {
     "name": "stdout",
     "output_type": "stream",
     "text": [
      "Evaluating...\n"
     ]
    },
    {
     "name": "stderr",
     "output_type": "stream",
     "text": [
      "Iteration: 100%|██████████| 1001/1001 [00:23<00:00, 43.36it/s]\n",
      "Iteration:   0%|          | 5/1001 [00:00<00:23, 42.86it/s]]]"
     ]
    },
    {
     "name": "stdout",
     "output_type": "stream",
     "text": [
      "Evaluating...\n"
     ]
    },
    {
     "name": "stderr",
     "output_type": "stream",
     "text": [
      "Iteration:  97%|█████████▋| 972/1001 [00:20<00:00, 62.34it/s]]\n",
      "Iteration:  98%|█████████▊| 981/1001 [00:19<00:00, 63.02it/s]\n",
      "Iteration: 100%|██████████| 112/112 [00:01<00:00, 71.21it/s]s]\n",
      "Iteration:   0%|          | 0/1001 [00:00<?, ?it/s]"
     ]
    },
    {
     "name": "stdout",
     "output_type": "stream",
     "text": [
      "{'Train':  best_epoch_indx:91\n",
      " auc:0.9090945395783028 \n",
      " apur:0.6015988991860347 \n",
      " f1:0.5175070678087682 \n",
      " precision:0.3704540511804364 \n",
      " recall:0.8581544403705673 \n",
      ", 'Validation':  best_epoch_indx:91\n",
      " auc:0.8833148347180366 \n",
      " apur:0.5470293526036518 \n",
      " f1:0.4917135472099741 \n",
      " precision:0.3521341463414634 \n",
      " recall:0.8146095717884131 \n",
      "}\n",
      "=====Epoch 92\n",
      "Training...\n"
     ]
    },
    {
     "name": "stderr",
     "output_type": "stream",
     "text": [
      "\r",
      "Iteration:   0%|          | 4/1001 [00:00<00:26, 37.12it/s]\r",
      "Iteration:   1%|          | 9/1001 [00:00<00:24, 39.81it/s]\n",
      "\r",
      "Iteration:   0%|          | 0/1001 [00:00<?, ?it/s]"
     ]
    },
    {
     "name": "stdout",
     "output_type": "stream",
     "text": [
      "{'Train':  best_epoch_indx:91\n",
      " auc:0.909005170010912 \n",
      " apur:0.602310641340295 \n",
      " f1:0.511433407454117 \n",
      " precision:0.36346482693555043 \n",
      " recall:0.8626046069019564 \n",
      ", 'Validation':  best_epoch_indx:91\n",
      " auc:0.8844253516372625 \n",
      " apur:0.5605582113916171 \n",
      " f1:0.49245778611632274 \n",
      " precision:0.35072153928380545 \n",
      " recall:0.826448362720403 \n",
      "}\n",
      "=====Epoch 92\n",
      "Training...\n"
     ]
    },
    {
     "name": "stderr",
     "output_type": "stream",
     "text": [
      "Iteration:   2%|▏         | 19/1001 [00:00<00:23, 41.68it/s]\n",
      "Iteration:  46%|████▌     | 51/112 [00:00<00:01, 49.87it/s]]\n",
      "Iteration:   8%|▊         | 84/1001 [00:01<00:20, 44.62it/s]\n",
      "Iteration:  72%|███████▏  | 81/112 [00:01<00:00, 49.37it/s]s]\n",
      "Iteration:   0%|          | 0/1001 [00:00<?, ?it/s]"
     ]
    },
    {
     "name": "stdout",
     "output_type": "stream",
     "text": [
      "{'Train':  best_epoch_indx:91\n",
      " auc:0.9078098647306811 \n",
      " apur:0.5981022653478375 \n",
      " f1:0.5044532449688838 \n",
      " precision:0.35463636363636364 \n",
      " recall:0.8734396865379234 \n",
      ", 'Validation':  best_epoch_indx:91\n",
      " auc:0.8823944068210219 \n",
      " apur:0.5368404611027818 \n",
      " f1:0.48517010758941564 \n",
      " precision:0.3409973431432659 \n",
      " recall:0.8405541561712846 \n",
      "}\n",
      "=====Epoch 92\n",
      "Training...\n"
     ]
    },
    {
     "name": "stderr",
     "output_type": "stream",
     "text": [
      "Iteration:   4%|▍         | 38/1001 [00:00<00:22, 42.28it/s]]\n",
      "Iteration:  19%|█▉        | 194/1001 [00:04<00:18, 43.62it/s]"
     ]
    },
    {
     "name": "stdout",
     "output_type": "stream",
     "text": [
      "{'Train':  best_epoch_indx:91\n",
      " auc:0.9084472435862172 \n",
      " apur:0.5979068399784466 \n",
      " f1:0.5125394452748713 \n",
      " precision:0.3643834645948212 \n",
      " recall:0.8637241456519914 \n",
      ", 'Validation':  best_epoch_indx:91\n",
      " auc:0.8878958927245457 \n",
      " apur:0.5465488898951076 \n",
      " f1:0.49681337632151157 \n",
      " precision:0.3536884808369809 \n",
      " recall:0.8345088161209068 \n",
      "}\n",
      "=====Epoch 92\n",
      "Training...\n"
     ]
    },
    {
     "name": "stderr",
     "output_type": "stream",
     "text": [
      "\r",
      "Iteration:   5%|▍         | 48/1001 [00:01<00:22, 43.29it/s]\r",
      "Iteration:  18%|█▊        | 184/1001 [00:04<00:18, 44.71it/s]\r",
      "Iteration:   1%|          | 9/1001 [00:00<00:25, 38.61it/s]\n",
      "\r",
      "Iteration:   0%|          | 0/1001 [00:00<?, ?it/s]\r",
      "Iteration:  20%|█▉        | 199/1001 [00:04<00:18, 43.66it/s]\r",
      "Iteration:   5%|▌         | 53/1001 [00:01<00:21, 43.60it/s]\r",
      "Iteration:  19%|█▉        | 189/1001 [00:04<00:18, 43.93it/s]\r",
      "Iteration:   1%|▏         | 14/1001 [00:00<00:25, 39.41it/s]\r",
      "Iteration:   0%|          | 4/1001 [00:00<00:28, 34.51it/s]\r",
      "Iteration:  20%|██        | 204/1001 [00:04<00:18, 44.21it/s]"
     ]
    },
    {
     "name": "stdout",
     "output_type": "stream",
     "text": [
      "{'Train':  best_epoch_indx:91\n",
      " auc:0.9093433295787641 \n",
      " apur:0.6027298673475415 \n",
      " f1:0.4952488122030508 \n",
      " precision:0.3435423194093605 \n",
      " recall:0.8868985977777156 \n",
      ", 'Validation':  best_epoch_indx:91\n",
      " auc:0.8849934758416713 \n",
      " apur:0.5511311618529998 \n",
      " f1:0.4772631282556666 \n",
      " precision:0.3311840562719812 \n",
      " recall:0.853904282115869 \n",
      "}\n",
      "=====Epoch 92\n",
      "Training...\n"
     ]
    },
    {
     "name": "stderr",
     "output_type": "stream",
     "text": [
      "Iteration: 100%|██████████| 1001/1001 [00:22<00:00, 43.82it/s]\n",
      "Iteration:  85%|████████▌ | 853/1001 [00:19<00:03, 43.72it/s]"
     ]
    },
    {
     "name": "stdout",
     "output_type": "stream",
     "text": [
      "Evaluating...\n"
     ]
    },
    {
     "name": "stderr",
     "output_type": "stream",
     "text": [
      "Iteration: 100%|██████████| 1001/1001 [00:22<00:00, 43.67it/s]\n",
      "Iteration:  81%|████████  | 813/1001 [00:18<00:04, 44.37it/s]"
     ]
    },
    {
     "name": "stdout",
     "output_type": "stream",
     "text": [
      "Evaluating...\n"
     ]
    },
    {
     "name": "stderr",
     "output_type": "stream",
     "text": [
      "Iteration: 100%|██████████| 1001/1001 [00:22<00:00, 43.62it/s]\n",
      "Iteration:  96%|█████████▌| 959/1001 [00:22<00:00, 44.46it/s]"
     ]
    },
    {
     "name": "stdout",
     "output_type": "stream",
     "text": [
      "Evaluating...\n"
     ]
    },
    {
     "name": "stderr",
     "output_type": "stream",
     "text": [
      "Iteration: 100%|██████████| 1001/1001 [00:23<00:00, 43.43it/s]\n",
      "Iteration:  99%|█████████▉| 993/1001 [00:22<00:00, 42.99it/s]"
     ]
    },
    {
     "name": "stdout",
     "output_type": "stream",
     "text": [
      "Evaluating...\n"
     ]
    },
    {
     "name": "stderr",
     "output_type": "stream",
     "text": [
      "\r",
      "Iteration:  22%|██▏       | 216/1001 [00:04<00:17, 45.43it/s]\r",
      "Iteration:  23%|██▎       | 232/1001 [00:04<00:17, 44.85it/s]\r",
      "Iteration:   6%|▌         | 59/1001 [00:01<00:20, 46.78it/s]\r",
      "Iteration: 100%|█████████▉| 998/1001 [00:23<00:00, 43.67it/s]\r",
      "Iteration:   1%|          | 10/1001 [00:00<00:20, 47.49it/s]\r",
      "Iteration:  22%|██▏       | 221/1001 [00:04<00:17, 44.87it/s]\r",
      "Iteration:  24%|██▍       | 238/1001 [00:04<00:16, 47.32it/s]\r",
      "Iteration: 100%|██████████| 1001/1001 [00:23<00:00, 43.33it/s]\n",
      "\r",
      "Iteration:   6%|▋         | 65/1001 [00:01<00:19, 48.28it/s]\r",
      "Iteration:   0%|          | 0/1001 [00:00<?, ?it/s]\r",
      "Iteration:   2%|▏         | 16/1001 [00:00<00:19, 50.83it/s]"
     ]
    },
    {
     "name": "stdout",
     "output_type": "stream",
     "text": [
      "Evaluating...\n"
     ]
    },
    {
     "name": "stderr",
     "output_type": "stream",
     "text": [
      "Iteration:  99%|█████████▊| 987/1001 [00:20<00:00, 62.39it/s]]\n",
      "Iteration: 100%|██████████| 1001/1001 [00:20<00:00, 47.87it/s]\n",
      "Iteration: 100%|██████████| 112/112 [00:01<00:00, 59.99it/s]s]\n",
      "Iteration:   0%|          | 0/1001 [00:00<?, ?it/s]"
     ]
    },
    {
     "name": "stdout",
     "output_type": "stream",
     "text": [
      "{'Train':  best_epoch_indx:92\n",
      " auc:0.9033117537588965 \n",
      " apur:0.5797064961284503 \n",
      " f1:0.5240861131834168 \n",
      " precision:0.3838448228758765 \n",
      " recall:0.8257997704945562 \n",
      ", 'Validation':  best_epoch_indx:92\n",
      " auc:0.8804440421958716 \n",
      " apur:0.5306847367810106 \n",
      " f1:0.5013175756607842 \n",
      " precision:0.3670057289839822 \n",
      " recall:0.7906801007556675 \n",
      "}\n",
      "=====Epoch 93\n",
      "Training...\n",
      "{'Train':  best_epoch_indx:92\n",
      " auc:0.9025901616798732 \n",
      " apur:0.5807511747961379 \n",
      " f1:0.496515117292117 \n",
      " precision:0.34878449594831984 \n",
      " recall:0.861345125808167 \n",
      ", 'Validation':  best_epoch_indx:92\n",
      " auc:0.8809784077487954 \n",
      " apur:0.544349481653005 \n",
      " f1:0.4835820895522388 \n",
      " precision:0.3400921658986175 \n",
      " recall:0.8365239294710327 \n",
      "}\n",
      "=====Epoch 93\n",
      "Training...\n"
     ]
    },
    {
     "name": "stderr",
     "output_type": "stream",
     "text": [
      "Iteration:   0%|          | 4/1001 [00:00<00:26, 37.41it/s]\n",
      "Iteration:   3%|▎         | 34/1001 [00:00<00:21, 44.11it/s]\n",
      "Iteration:   8%|▊         | 79/1001 [00:01<00:20, 44.90it/s]\n",
      "Iteration:   9%|▉         | 89/1001 [00:02<00:20, 44.45it/s]\n",
      "Iteration:  15%|█▍        | 149/1001 [00:03<00:19, 43.97it/s]\n",
      "Iteration:  64%|██████▍   | 72/112 [00:01<00:00, 48.79it/s]s]"
     ]
    },
    {
     "name": "stdout",
     "output_type": "stream",
     "text": [
      "{'Train':  best_epoch_indx:92\n",
      " auc:0.906135177918409 \n",
      " apur:0.5877337571658593 \n",
      " f1:0.49986013315323813 \n",
      " precision:0.34983051605902293 \n",
      " recall:0.8752029107192835 \n",
      ", 'Validation':  best_epoch_indx:92\n",
      " auc:0.8813084942458578 \n",
      " apur:0.5328875422813093 \n",
      " f1:0.4797983435361902 \n",
      " precision:0.33595562279374686 \n",
      " recall:0.8390428211586902 \n",
      "}\n",
      "=====Epoch 93\n",
      "Training...\n"
     ]
    },
    {
     "name": "stderr",
     "output_type": "stream",
     "text": [
      "Iteration:   4%|▍         | 44/1001 [00:01<00:21, 43.81it/s]]\n",
      "Iteration:   5%|▌         | 54/1001 [00:01<00:21, 44.00it/s]]\n",
      "Iteration:   0%|          | 0/1001 [00:00<?, ?it/s]"
     ]
    },
    {
     "name": "stdout",
     "output_type": "stream",
     "text": [
      "{'Train':  best_epoch_indx:92\n",
      " auc:0.9047213859898191 \n",
      " apur:0.5854284534123418 \n",
      " f1:0.5049078246620238 \n",
      " precision:0.3569467452879369 \n",
      " recall:0.8623806991519494 \n",
      ", 'Validation':  best_epoch_indx:92\n",
      " auc:0.8844243616349148 \n",
      " apur:0.5396871163011643 \n",
      " f1:0.4894888249612746 \n",
      " precision:0.34609366850943984 \n",
      " recall:0.8357682619647355 \n",
      "}\n",
      "=====Epoch 93\n",
      "Training...\n",
      "{'Train':  best_epoch_indx:92\n",
      " auc:0.9049690215017983 \n",
      " apur:0.5890028185891427 \n",
      " f1:0.49505841490369434 \n",
      " precision:0.3447680619234533 \n",
      " recall:0.8776344146211761 \n",
      ", 'Validation':  best_epoch_indx:92\n",
      " auc:0.8811397267027805 \n",
      " apur:0.536685389893723 \n",
      " f1:0.4749697358114363 \n",
      " precision:0.33108309341804826 \n",
      " recall:0.8400503778337531 \n",
      "}\n",
      "=====Epoch 93\n",
      "Training...\n"
     ]
    },
    {
     "name": "stderr",
     "output_type": "stream",
     "text": [
      "Iteration: 100%|██████████| 1001/1001 [00:22<00:00, 43.86it/s]\n",
      "Iteration:   0%|          | 0/1001 [00:00<?, ?it/s]"
     ]
    },
    {
     "name": "stdout",
     "output_type": "stream",
     "text": [
      "Evaluating...\n"
     ]
    },
    {
     "name": "stderr",
     "output_type": "stream",
     "text": [
      "Iteration: 100%|██████████| 1001/1001 [00:22<00:00, 43.60it/s]\n",
      "Iteration:  86%|████████▌ | 859/1001 [00:19<00:03, 43.40it/s]"
     ]
    },
    {
     "name": "stdout",
     "output_type": "stream",
     "text": [
      "Evaluating...\n"
     ]
    },
    {
     "name": "stderr",
     "output_type": "stream",
     "text": [
      "Iteration: 100%|██████████| 1001/1001 [00:23<00:00, 43.33it/s]\n",
      "Iteration:  95%|█████████▌| 954/1001 [00:21<00:01, 43.40it/s]"
     ]
    },
    {
     "name": "stdout",
     "output_type": "stream",
     "text": [
      "Evaluating...\n"
     ]
    },
    {
     "name": "stderr",
     "output_type": "stream",
     "text": [
      "Iteration: 100%|██████████| 1001/1001 [00:23<00:00, 43.25it/s]\n",
      "Iteration: 100%|██████████| 1001/1001 [00:23<00:00, 43.28it/s]\n",
      "Iteration:   0%|          | 0/1001 [00:00<?, ?it/s]"
     ]
    },
    {
     "name": "stdout",
     "output_type": "stream",
     "text": [
      "Evaluating...\n",
      "Evaluating...\n"
     ]
    },
    {
     "name": "stderr",
     "output_type": "stream",
     "text": [
      "Iteration:  93%|█████████▎| 928/1001 [00:19<00:01, 43.18it/s]]\n",
      "Iteration:  96%|█████████▌| 958/1001 [00:19<00:00, 53.71it/s]]\n",
      "Iteration:  88%|████████▊ | 99/112 [00:01<00:00, 74.44it/s]]s]\n",
      "Iteration:   0%|          | 0/1001 [00:00<?, ?it/s]"
     ]
    },
    {
     "name": "stdout",
     "output_type": "stream",
     "text": [
      "{'Train':  best_epoch_indx:93\n",
      " auc:0.9004186572002785 \n",
      " apur:0.573953544536844 \n",
      " f1:0.5033925579389174 \n",
      " precision:0.3577078593405557 \n",
      " recall:0.84928209577654 \n",
      ", 'Validation':  best_epoch_indx:93\n",
      " auc:0.8798786137121412 \n",
      " apur:0.5292552321195143 \n",
      " f1:0.486036036036036 \n",
      " precision:0.3462032085561497 \n",
      " recall:0.8153652392947103 \n",
      "}\n",
      "=====Epoch 94\n",
      "Training...\n"
     ]
    },
    {
     "name": "stderr",
     "output_type": "stream",
     "text": [
      "Iteration:   1%|▏         | 14/1001 [00:00<00:23, 41.20it/s]\n",
      "Iteration:   0%|          | 0/1001 [00:00<?, ?it/s]"
     ]
    },
    {
     "name": "stdout",
     "output_type": "stream",
     "text": [
      "{'Train':  best_epoch_indx:93\n",
      " auc:0.9017541552435675 \n",
      " apur:0.580425889903059 \n",
      " f1:0.4939599234367678 \n",
      " precision:0.3448325571080062 \n",
      " recall:0.8703574127459487 \n",
      ", 'Validation':  best_epoch_indx:93\n",
      " auc:0.8808952304086892 \n",
      " apur:0.5451629118007915 \n",
      " f1:0.47940453822806767 \n",
      " precision:0.33613700851236317 \n",
      " recall:0.8355163727959698 \n",
      "}\n",
      "=====Epoch 94\n",
      "Training...\n"
     ]
    },
    {
     "name": "stderr",
     "output_type": "stream",
     "text": [
      "Iteration:   4%|▍         | 44/1001 [00:01<00:21, 44.15it/s]\n",
      "Iteration:   7%|▋         | 74/1001 [00:01<00:20, 44.95it/s]\n",
      "Iteration:   0%|          | 0/112 [00:00<?, ?it/s]\n",
      "Iteration:  67%|██████▋   | 75/112 [00:01<00:00, 55.37it/s]s]\n",
      "Iteration:   0%|          | 0/1001 [00:00<?, ?it/s]"
     ]
    },
    {
     "name": "stdout",
     "output_type": "stream",
     "text": [
      "{'Train':  best_epoch_indx:93\n",
      " auc:0.9001624225770715 \n",
      " apur:0.5660743295015396 \n",
      " f1:0.5098112249216965 \n",
      " precision:0.3654368932038835 \n",
      " recall:0.8427651833193395 \n",
      ", 'Validation':  best_epoch_indx:93\n",
      " auc:0.8755775249409876 \n",
      " apur:0.5106956025809765 \n",
      " f1:0.48992366412213734 \n",
      " precision:0.35147864184008765 \n",
      " recall:0.8083123425692695 \n",
      "}\n",
      "=====Epoch 94\n",
      "Training...\n"
     ]
    },
    {
     "name": "stderr",
     "output_type": "stream",
     "text": [
      "Iteration:  18%|█▊        | 179/1001 [00:04<00:18, 44.27it/s]\n",
      "Iteration:  21%|██        | 209/1001 [00:04<00:17, 44.66it/s]\n",
      "Iteration:  19%|█▉        | 189/1001 [00:04<00:18, 44.64it/s]"
     ]
    },
    {
     "name": "stdout",
     "output_type": "stream",
     "text": [
      "{'Train':  best_epoch_indx:93\n",
      " auc:0.9016449781749206 \n",
      " apur:0.5781631145886986 \n",
      " f1:0.47867703163127323 \n",
      " precision:0.32782491721854307 \n",
      " recall:0.8867026784964595 \n",
      ", 'Validation':  best_epoch_indx:93\n",
      " auc:0.8823615310287737 \n",
      " apur:0.5327691653156249 \n",
      " f1:0.4658207122390503 \n",
      " precision:0.31942365269461076 \n",
      " recall:0.8599496221662468 \n",
      "}\n",
      "=====Epoch 94\n",
      "Training...\n",
      "{'Train':  best_epoch_indx:93\n",
      " auc:0.9019564013204902 \n",
      " apur:0.570946409698536 \n",
      " f1:0.4974004162548315 \n",
      " precision:0.34886263723876726 \n",
      " recall:0.8662151193708192 \n",
      ", 'Validation':  best_epoch_indx:93\n",
      " auc:0.8781741596701499 \n",
      " apur:0.5206340490261965 \n",
      " f1:0.47987234351200414 \n",
      " precision:0.33696648670673324 \n",
      " recall:0.8332493702770781 \n",
      "}\n",
      "=====Epoch 94\n",
      "Training...\n"
     ]
    },
    {
     "name": "stderr",
     "output_type": "stream",
     "text": [
      "Iteration: 100%|██████████| 1001/1001 [00:22<00:00, 43.93it/s]\n",
      "Iteration:  85%|████████▌ | 854/1001 [00:19<00:03, 43.83it/s]"
     ]
    },
    {
     "name": "stdout",
     "output_type": "stream",
     "text": [
      "Evaluating...\n"
     ]
    },
    {
     "name": "stderr",
     "output_type": "stream",
     "text": [
      "Iteration: 100%|██████████| 1001/1001 [00:22<00:00, 43.65it/s]\n",
      "Iteration:  81%|████████  | 813/1001 [00:18<00:04, 43.92it/s]"
     ]
    },
    {
     "name": "stdout",
     "output_type": "stream",
     "text": [
      "Evaluating...\n"
     ]
    },
    {
     "name": "stderr",
     "output_type": "stream",
     "text": [
      "Iteration: 100%|██████████| 1001/1001 [00:22<00:00, 43.69it/s]\n",
      "Iteration:   0%|          | 0/1001 [00:00<?, ?it/s]"
     ]
    },
    {
     "name": "stdout",
     "output_type": "stream",
     "text": [
      "Evaluating...\n"
     ]
    },
    {
     "name": "stderr",
     "output_type": "stream",
     "text": [
      "Iteration: 100%|██████████| 1001/1001 [00:23<00:00, 43.31it/s]\n",
      "Iteration:   7%|▋         | 69/1001 [00:01<00:17, 53.56it/s]"
     ]
    },
    {
     "name": "stdout",
     "output_type": "stream",
     "text": [
      "Evaluating...\n",
      "Evaluating...\n"
     ]
    },
    {
     "name": "stderr",
     "output_type": "stream",
     "text": [
      "Iteration: 100%|██████████| 1001/1001 [00:23<00:00, 43.23it/s]\n",
      "Iteration:  99%|█████████▉| 993/1001 [00:20<00:00, 58.60it/s]]\n",
      "Iteration:  97%|█████████▋| 968/1001 [00:20<00:00, 56.87it/s]]\n",
      "Iteration:  73%|███████▎  | 82/112 [00:01<00:00, 68.70it/s]]s]\n",
      "Iteration:   0%|          | 0/1001 [00:00<?, ?it/s]"
     ]
    },
    {
     "name": "stdout",
     "output_type": "stream",
     "text": [
      "{'Train':  best_epoch_indx:94\n",
      " auc:0.8993526277622841 \n",
      " apur:0.5687929670167591 \n",
      " f1:0.4964701886609359 \n",
      " precision:0.3490993040076423 \n",
      " recall:0.8591620252455988 \n",
      ", 'Validation':  best_epoch_indx:94\n",
      " auc:0.8773854449426265 \n",
      " apur:0.5274966836393967 \n",
      " f1:0.4767475870137467 \n",
      " precision:0.335874716670101 \n",
      " recall:0.8211586901763224 \n",
      "}\n",
      "=====Epoch 95\n",
      "Training...\n"
     ]
    },
    {
     "name": "stderr",
     "output_type": "stream",
     "text": [
      "Iteration:   3%|▎         | 29/1001 [00:00<00:22, 42.69it/s]\n",
      "Iteration:   0%|          | 4/1001 [00:00<00:27, 35.84it/s]]"
     ]
    },
    {
     "name": "stdout",
     "output_type": "stream",
     "text": [
      "{'Train':  best_epoch_indx:94\n",
      " auc:0.8972461131168924 \n",
      " apur:0.5608893907213508 \n",
      " f1:0.4958322522055007 \n",
      " precision:0.34903366476786263 \n",
      " recall:0.8557474320579921 \n",
      ", 'Validation':  best_epoch_indx:94\n",
      " auc:0.8760656218127602 \n",
      " apur:0.5242320744333424 \n",
      " f1:0.4807522774022922 \n",
      " precision:0.3393486828458826 \n",
      " recall:0.8241813602015113 \n",
      "}\n",
      "=====Epoch 95\n",
      "Training...\n"
     ]
    },
    {
     "name": "stderr",
     "output_type": "stream",
     "text": [
      "Iteration:   5%|▍         | 49/1001 [00:01<00:21, 44.63it/s]\n",
      "Iteration:   6%|▋         | 64/1001 [00:01<00:21, 44.61it/s]\n",
      "Iteration:   5%|▌         | 6/112 [00:00<00:01, 55.51it/s]s]\n",
      "Iteration:  60%|█████▉    | 67/112 [00:01<00:00, 48.64it/s]s]\n",
      "Iteration:  60%|█████▉    | 67/112 [00:01<00:00, 47.02it/s]s]"
     ]
    },
    {
     "name": "stdout",
     "output_type": "stream",
     "text": [
      "{'Train':  best_epoch_indx:94\n",
      " auc:0.8957657125338894 \n",
      " apur:0.5491004577592147 \n",
      " f1:0.4956654520775937 \n",
      " precision:0.3484093000011358 \n",
      " recall:0.8585222502099077 \n",
      ", 'Validation':  best_epoch_indx:94\n",
      " auc:0.8735402629669092 \n",
      " apur:0.5056195464512054 \n",
      " f1:0.47893084057547647 \n",
      " precision:0.33724159210120336 \n",
      " recall:0.8259445843828715 \n",
      "}\n",
      "=====Epoch 95\n",
      "Training...\n"
     ]
    },
    {
     "name": "stderr",
     "output_type": "stream",
     "text": [
      "Iteration:  17%|█▋        | 174/1001 [00:04<00:18, 43.90it/s]\n",
      "Iteration:   0%|          | 0/1001 [00:00<?, ?it/s]"
     ]
    },
    {
     "name": "stdout",
     "output_type": "stream",
     "text": [
      "{'Train':  best_epoch_indx:94\n",
      " auc:0.8969786721539813 \n",
      " apur:0.5641912703427148 \n",
      " f1:0.4851549576247932 \n",
      " precision:0.33696717562239986 \n",
      " recall:0.8659912116208123 \n",
      ", 'Validation':  best_epoch_indx:94\n",
      " auc:0.8793202352451291 \n",
      " apur:0.5213943736377317 \n",
      " f1:0.4738887711115822 \n",
      " precision:0.32933896473823787 \n",
      " recall:0.8445843828715365 \n",
      "}\n",
      "=====Epoch 95\n",
      "Training...\n",
      "{'Train':  best_epoch_indx:94\n",
      " auc:0.8966923778870135 \n",
      " apur:0.5626153966446039 \n",
      " f1:0.4856322513514994 \n",
      " precision:0.3370216739781957 \n",
      " recall:0.8686781046208962 \n",
      ", 'Validation':  best_epoch_indx:94\n",
      " auc:0.8748727118410023 \n",
      " apur:0.5153883936709204 \n",
      " f1:0.46873898639599637 \n",
      " precision:0.3254379954976999 \n",
      " recall:0.8375314861460957 \n",
      "}\n",
      "=====Epoch 95\n",
      "Training...\n"
     ]
    },
    {
     "name": "stderr",
     "output_type": "stream",
     "text": [
      "Iteration:   0%|          | 4/1001 [00:00<00:26, 37.92it/s]s]\n",
      "Iteration: 100%|██████████| 1001/1001 [00:22<00:00, 43.73it/s]\n",
      "Iteration:   0%|          | 5/1001 [00:00<00:22, 44.78it/s]s]"
     ]
    },
    {
     "name": "stdout",
     "output_type": "stream",
     "text": [
      "Evaluating...\n"
     ]
    },
    {
     "name": "stderr",
     "output_type": "stream",
     "text": [
      "Iteration: 100%|██████████| 1001/1001 [00:22<00:00, 43.56it/s]\n",
      "Iteration:  82%|████████▏ | 819/1001 [00:18<00:04, 44.27it/s]"
     ]
    },
    {
     "name": "stdout",
     "output_type": "stream",
     "text": [
      "Evaluating...\n"
     ]
    },
    {
     "name": "stderr",
     "output_type": "stream",
     "text": [
      "Iteration: 100%|██████████| 1001/1001 [00:22<00:00, 43.71it/s]\n",
      "Iteration:  14%|█▍        | 145/1001 [00:02<00:17, 50.26it/s]"
     ]
    },
    {
     "name": "stdout",
     "output_type": "stream",
     "text": [
      "Evaluating...\n"
     ]
    },
    {
     "name": "stderr",
     "output_type": "stream",
     "text": [
      "Iteration: 100%|██████████| 1001/1001 [00:23<00:00, 43.34it/s]\n",
      "Iteration:   0%|          | 0/1001 [00:00<?, ?it/s]"
     ]
    },
    {
     "name": "stdout",
     "output_type": "stream",
     "text": [
      "Evaluating...\n",
      "Evaluating...\n"
     ]
    },
    {
     "name": "stderr",
     "output_type": "stream",
     "text": [
      "Iteration: 100%|██████████| 1001/1001 [00:23<00:00, 43.43it/s]\n",
      "Iteration:  99%|█████████▉| 995/1001 [00:20<00:00, 62.66it/s]]\n",
      "Iteration:  28%|██▊       | 31/112 [00:00<00:01, 59.82it/s]s]]\n",
      "Iteration:  91%|█████████ | 102/112 [00:01<00:00, 71.58it/s]s]\n",
      "Iteration:   0%|          | 4/1001 [00:00<00:26, 37.72it/s]]"
     ]
    },
    {
     "name": "stdout",
     "output_type": "stream",
     "text": [
      "{'Train':  best_epoch_indx:95\n",
      " auc:0.9005759526613373 \n",
      " apur:0.5781069185459058 \n",
      " f1:0.49535947029659216 \n",
      " precision:0.34742667778804753 \n",
      " recall:0.8626885723082091 \n",
      ", 'Validation':  best_epoch_indx:95\n",
      " auc:0.8809353533609807 \n",
      " apur:0.5280140021862222 \n",
      " f1:0.47980309830606627 \n",
      " precision:0.3366517675741568 \n",
      " recall:0.8347607052896725 \n",
      "}\n",
      "=====Epoch 96\n",
      "Training...\n"
     ]
    },
    {
     "name": "stderr",
     "output_type": "stream",
     "text": [
      "\r",
      "Iteration:   1%|          | 9/1001 [00:00<00:24, 40.19it/s]\n",
      "\r",
      "Iteration:   0%|          | 0/1001 [00:00<?, ?it/s]\r",
      "Iteration:   1%|▏         | 14/1001 [00:00<00:24, 41.10it/s]"
     ]
    },
    {
     "name": "stdout",
     "output_type": "stream",
     "text": [
      "{'Train':  best_epoch_indx:95\n",
      " auc:0.8990327943265922 \n",
      " apur:0.5712219399837983 \n",
      " f1:0.49622162144555554 \n",
      " precision:0.3499167384438702 \n",
      " recall:0.8527806543703994 \n",
      ", 'Validation':  best_epoch_indx:95\n",
      " auc:0.8807713772578374 \n",
      " apur:0.5401873846312992 \n",
      " f1:0.4825705652590463 \n",
      " precision:0.3410771955412022 \n",
      " recall:0.8246851385390428 \n",
      "}\n",
      "=====Epoch 96\n",
      "Training...\n"
     ]
    },
    {
     "name": "stderr",
     "output_type": "stream",
     "text": [
      "Iteration:   2%|▏         | 24/1001 [00:00<00:23, 41.77it/s]\n",
      "Iteration:  42%|████▏     | 47/112 [00:00<00:01, 49.45it/s]]\n",
      "Iteration:  53%|█████▎    | 59/112 [00:01<00:01, 51.50it/s]]\n",
      "Iteration:  15%|█▍        | 149/1001 [00:03<00:19, 43.21it/s]\n",
      "Iteration:  64%|██████▍   | 72/112 [00:01<00:00, 54.55it/s]"
     ]
    },
    {
     "name": "stdout",
     "output_type": "stream",
     "text": [
      "{'Train':  best_epoch_indx:95\n",
      " auc:0.8996266433093055 \n",
      " apur:0.5695333309355407 \n",
      " f1:0.496797038467729 \n",
      " precision:0.34865017508189317 \n",
      " recall:0.8638678981248251 \n",
      ", 'Validation':  best_epoch_indx:95\n",
      " auc:0.8773335062480291 \n",
      " apur:0.5204887205013602 \n",
      " f1:0.48054786536500066 \n",
      " precision:0.3380483804838048 \n",
      " recall:0.8307304785894206 \n",
      "}\n",
      "=====Epoch 96\n",
      "Training...\n"
     ]
    },
    {
     "name": "stderr",
     "output_type": "stream",
     "text": [
      "Iteration:   4%|▍         | 39/1001 [00:00<00:21, 44.03it/s]]\n",
      "Iteration:  18%|█▊        | 184/1001 [00:04<00:18, 44.25it/s]\n",
      "Iteration:   5%|▍         | 49/1001 [00:01<00:21, 44.43it/s]]"
     ]
    },
    {
     "name": "stdout",
     "output_type": "stream",
     "text": [
      "{'Train':  best_epoch_indx:95\n",
      " auc:0.899365136752708 \n",
      " apur:0.5736322555704566 \n",
      " f1:0.4953384939501321 \n",
      " precision:0.34804555457247216 \n",
      " recall:0.8587701866830866 \n",
      ", 'Validation':  best_epoch_indx:95\n",
      " auc:0.8799097109287429 \n",
      " apur:0.5238118710787654 \n",
      " f1:0.4818679314118935 \n",
      " precision:0.3391884951206985 \n",
      " recall:0.8317380352644836 \n",
      "}\n",
      "=====Epoch 96\n",
      "Training...\n",
      "{'Train':  best_epoch_indx:95\n",
      " auc:0.9009568573098761 \n",
      " apur:0.5766630101081338 \n",
      " f1:0.49152810768012667 \n",
      " precision:0.3427145554316503 \n",
      " recall:0.8687620700271488 \n",
      ", 'Validation':  best_epoch_indx:95\n",
      " auc:0.8807799829925311 \n",
      " apur:0.5270568311699225 \n",
      " f1:0.47744146202170185 \n",
      " precision:0.3331340904562662 \n",
      " recall:0.8423173803526448 \n",
      "}\n",
      "=====Epoch 96\n",
      "Training...\n"
     ]
    },
    {
     "name": "stderr",
     "output_type": "stream",
     "text": [
      "Iteration: 100%|██████████| 1001/1001 [00:23<00:00, 43.48it/s]\n",
      "Iteration:   0%|          | 5/1001 [00:00<00:23, 42.53it/s]s]"
     ]
    },
    {
     "name": "stdout",
     "output_type": "stream",
     "text": [
      "Evaluating...\n"
     ]
    },
    {
     "name": "stderr",
     "output_type": "stream",
     "text": [
      "\r",
      "Iteration:  81%|████████▏ | 814/1001 [00:18<00:04, 44.76it/s]\r",
      "Iteration:  86%|████████▌ | 859/1001 [00:19<00:03, 43.20it/s]\r",
      "Iteration:  81%|████████  | 809/1001 [00:18<00:04, 44.37it/s]\r",
      "Iteration: 100%|█████████▉| 999/1001 [00:22<00:00, 43.03it/s]\r",
      "Iteration:   1%|          | 11/1001 [00:00<00:20, 49.07it/s]\r",
      "Iteration: 100%|██████████| 1001/1001 [00:22<00:00, 43.61it/s]\r",
      "Iteration:  82%|████████▏ | 819/1001 [00:18<00:04, 44.35it/s]\n",
      "\r",
      "Iteration:   0%|          | 0/1001 [00:00<?, ?it/s]\r",
      "Iteration:  86%|████████▋ | 864/1001 [00:19<00:03, 42.98it/s]\r",
      "Iteration:  81%|████████▏ | 814/1001 [00:18<00:04, 43.96it/s]\r",
      "Iteration:   2%|▏         | 16/1001 [00:00<00:20, 47.95it/s]"
     ]
    },
    {
     "name": "stdout",
     "output_type": "stream",
     "text": [
      "Evaluating...\n"
     ]
    },
    {
     "name": "stderr",
     "output_type": "stream",
     "text": [
      "Iteration: 100%|██████████| 1001/1001 [00:23<00:00, 43.32it/s]\n",
      "Iteration:  96%|█████████▋| 964/1001 [00:22<00:00, 43.10it/s]"
     ]
    },
    {
     "name": "stdout",
     "output_type": "stream",
     "text": [
      "Evaluating...\n"
     ]
    },
    {
     "name": "stderr",
     "output_type": "stream",
     "text": [
      "Iteration: 100%|██████████| 1001/1001 [00:23<00:00, 43.31it/s]\n",
      "Iteration:   0%|          | 0/1001 [00:00<?, ?it/s]"
     ]
    },
    {
     "name": "stdout",
     "output_type": "stream",
     "text": [
      "Evaluating...\n",
      "Evaluating...\n"
     ]
    },
    {
     "name": "stderr",
     "output_type": "stream",
     "text": [
      "Iteration: 100%|██████████| 1001/1001 [00:23<00:00, 43.22it/s]\n",
      "Iteration:  94%|█████████▍| 945/1001 [00:20<00:01, 55.10it/s]]\n",
      "Iteration:  98%|█████████▊| 980/1001 [00:20<00:00, 60.72it/s]]\n",
      "Iteration: 100%|██████████| 112/112 [00:01<00:00, 68.15it/s]s]\n",
      "Iteration:   0%|          | 0/1001 [00:00<?, ?it/s]\n",
      "Iteration:   0%|          | 4/1001 [00:00<00:26, 37.85it/s]"
     ]
    },
    {
     "name": "stdout",
     "output_type": "stream",
     "text": [
      "{'Train':  best_epoch_indx:96\n",
      " auc:0.9058875392187666 \n",
      " apur:0.5925246744387649 \n",
      " f1:0.499269373577674 \n",
      " precision:0.3492838468929457 \n",
      " recall:0.8750034985585938 \n",
      ", 'Validation':  best_epoch_indx:96\n",
      " auc:0.8826102444757227 \n",
      " apur:0.5415742800268879 \n",
      " f1:0.4796777210272642 \n",
      " precision:0.3357164434598731 \n",
      " recall:0.8397984886649874 \n",
      "}\n",
      "=====Epoch 97\n",
      "Training...\n",
      "{'Train':  best_epoch_indx:96\n",
      " auc:0.9050317780744447 \n",
      " apur:0.5887501974530869 \n",
      " f1:0.488275883360862 \n",
      " precision:0.33709888845075825 \n",
      " recall:0.8853032550589157 \n",
      ", 'Validation':  best_epoch_indx:96\n",
      " auc:0.8830879998943999 \n",
      " apur:0.5529229809678888 \n",
      " f1:0.4742354419773775 \n",
      " precision:0.32805255023183927 \n",
      " recall:0.8554156171284635 \n",
      "}\n",
      "=====Epoch 97\n",
      "Training...\n"
     ]
    },
    {
     "name": "stderr",
     "output_type": "stream",
     "text": [
      "Iteration:   4%|▍         | 39/1001 [00:00<00:21, 43.83it/s]\n",
      "Iteration:   6%|▌         | 59/1001 [00:01<00:21, 44.73it/s]\n",
      "Iteration:   9%|▉         | 89/1001 [00:02<00:20, 44.72it/s]\n",
      "Iteration:  14%|█▍        | 139/1001 [00:03<00:20, 42.84it/s]\n",
      "Iteration:  15%|█▍        | 149/1001 [00:03<00:19, 43.42it/s]"
     ]
    },
    {
     "name": "stdout",
     "output_type": "stream",
     "text": [
      "{'Train':  best_epoch_indx:96\n",
      " auc:0.9017069446782184 \n",
      " apur:0.5734739246627197 \n",
      " f1:0.5171793052117772 \n",
      " precision:0.37434850155357324 \n",
      " recall:0.8362440526168485 \n",
      ", 'Validation':  best_epoch_indx:96\n",
      " auc:0.8790264788342214 \n",
      " apur:0.5198352850288394 \n",
      " f1:0.493502451171115 \n",
      " precision:0.35705438576736853 \n",
      " recall:0.7987405541561713 \n",
      "}\n",
      "=====Epoch 97\n",
      "Training...\n"
     ]
    },
    {
     "name": "stderr",
     "output_type": "stream",
     "text": [
      "Iteration:   3%|▎         | 29/1001 [00:00<00:22, 42.92it/s]]\n",
      "Iteration:  18%|█▊        | 179/1001 [00:04<00:18, 44.46it/s]"
     ]
    },
    {
     "name": "stdout",
     "output_type": "stream",
     "text": [
      "{'Train':  best_epoch_indx:96\n",
      " auc:0.902067172923969 \n",
      " apur:0.5779459093792711 \n",
      " f1:0.49838915713952875 \n",
      " precision:0.349526707234618 \n",
      " recall:0.8681183352458787 \n",
      ", 'Validation':  best_epoch_indx:96\n",
      " auc:0.8834876008420248 \n",
      " apur:0.5376661891607045 \n",
      " f1:0.4842821961466029 \n",
      " precision:0.3398739324928833 \n",
      " recall:0.8420654911838791 \n",
      "}\n",
      "=====Epoch 97\n",
      "Training...\n"
     ]
    },
    {
     "name": "stderr",
     "output_type": "stream",
     "text": [
      "Iteration:   2%|▏         | 19/1001 [00:00<00:23, 41.07it/s]]\n",
      "Iteration:  20%|█▉        | 199/1001 [00:04<00:17, 44.79it/s]"
     ]
    },
    {
     "name": "stdout",
     "output_type": "stream",
     "text": [
      "{'Train':  best_epoch_indx:96\n",
      " auc:0.9054870074941707 \n",
      " apur:0.5851389858586447 \n",
      " f1:0.5017123840909825 \n",
      " precision:0.35261992619926197 \n",
      " recall:0.8692378739959137 \n",
      ", 'Validation':  best_epoch_indx:96\n",
      " auc:0.8830792013021059 \n",
      " apur:0.5386706266664443 \n",
      " f1:0.4826482357220807 \n",
      " precision:0.33933503836317136 \n",
      " recall:0.8355163727959698 \n",
      "}\n",
      "=====Epoch 97\n",
      "Training...\n"
     ]
    },
    {
     "name": "stderr",
     "output_type": "stream",
     "text": [
      "Iteration: 100%|██████████| 1001/1001 [00:22<00:00, 43.66it/s]\n",
      "Iteration:   0%|          | 0/1001 [00:00<?, ?it/s]"
     ]
    },
    {
     "name": "stdout",
     "output_type": "stream",
     "text": [
      "Evaluating...\n",
      "Evaluating...\n"
     ]
    },
    {
     "name": "stderr",
     "output_type": "stream",
     "text": [
      "Iteration: 100%|██████████| 1001/1001 [00:22<00:00, 43.67it/s]\n",
      "Iteration: 100%|██████████| 1001/1001 [00:23<00:00, 43.52it/s]\n",
      "Iteration:   1%|          | 9/1001 [00:00<00:21, 45.80it/s]s]"
     ]
    },
    {
     "name": "stdout",
     "output_type": "stream",
     "text": [
      "Evaluating...\n"
     ]
    },
    {
     "name": "stderr",
     "output_type": "stream",
     "text": [
      "Iteration: 100%|██████████| 1001/1001 [00:23<00:00, 43.31it/s]\n",
      "Iteration:  98%|█████████▊| 978/1001 [00:22<00:00, 44.49it/s]"
     ]
    },
    {
     "name": "stdout",
     "output_type": "stream",
     "text": [
      "Evaluating...\n"
     ]
    },
    {
     "name": "stderr",
     "output_type": "stream",
     "text": [
      "Iteration: 100%|██████████| 1001/1001 [00:23<00:00, 43.11it/s]\n",
      "Iteration:   3%|▎         | 33/1001 [00:00<00:18, 51.91it/s]]"
     ]
    },
    {
     "name": "stdout",
     "output_type": "stream",
     "text": [
      "Evaluating...\n"
     ]
    },
    {
     "name": "stderr",
     "output_type": "stream",
     "text": [
      "Iteration:  99%|█████████▉| 994/1001 [00:20<00:00, 60.97it/s]]\n",
      "Iteration:   5%|▌         | 6/112 [00:00<00:01, 59.57it/s]/s]\n",
      "Iteration: 100%|██████████| 112/112 [00:01<00:00, 67.51it/s]s]\n",
      "Iteration:   0%|          | 0/1001 [00:00<?, ?it/s]\n",
      "Iteration:   0%|          | 4/1001 [00:00<00:27, 35.76it/s]"
     ]
    },
    {
     "name": "stdout",
     "output_type": "stream",
     "text": [
      "{'Train':  best_epoch_indx:97\n",
      " auc:0.9075672966235127 \n",
      " apur:0.6003894171132741 \n",
      " f1:0.5130839944591361 \n",
      " precision:0.3664643945026743 \n",
      " recall:0.8552716280892272 \n",
      ", 'Validation':  best_epoch_indx:97\n",
      " auc:0.8846271621158416 \n",
      " apur:0.5612169531865774 \n",
      " f1:0.4953030303030303 \n",
      " precision:0.3541711809317443 \n",
      " recall:0.8234256926952142 \n",
      "}\n",
      "=====Epoch 98\n",
      "Training...\n",
      "{'Train':  best_epoch_indx:97\n",
      " auc:0.9101397496566836 \n",
      " apur:0.608417907514316 \n",
      " f1:0.5048290515742707 \n",
      " precision:0.3542968176323727 \n",
      " recall:0.8777743569649304 \n",
      ", 'Validation':  best_epoch_indx:97\n",
      " auc:0.8851184004236352 \n",
      " apur:0.550256362284218 \n",
      " f1:0.4860099096473332 \n",
      " precision:0.3419110108673365 \n",
      " recall:0.8400503778337531 \n",
      "}\n",
      "=====Epoch 98\n",
      "Training...\n"
     ]
    },
    {
     "name": "stderr",
     "output_type": "stream",
     "text": [
      "Iteration:   4%|▍         | 44/1001 [00:01<00:21, 44.23it/s]\n",
      "Iteration:  31%|███▏      | 35/112 [00:00<00:01, 59.98it/s]]\n",
      "Iteration:   8%|▊         | 79/1001 [00:01<00:20, 45.28it/s]\n",
      "Iteration:  75%|███████▌  | 84/112 [00:01<00:00, 52.60it/s]s]\n",
      "Iteration:  84%|████████▍ | 94/112 [00:01<00:00, 50.99it/s]s]"
     ]
    },
    {
     "name": "stdout",
     "output_type": "stream",
     "text": [
      "{'Train':  best_epoch_indx:97\n",
      " auc:0.9079931839167299 \n",
      " apur:0.6023345072888913 \n",
      " f1:0.51130061124898 \n",
      " precision:0.3639392071320182 \n",
      " recall:0.8591939546599496 \n",
      ", 'Validation':  best_epoch_indx:97\n",
      " auc:0.8837761072404828 \n",
      " apur:0.5447756609611869 \n",
      " f1:0.4888255587220639 \n",
      " precision:0.348035027765912 \n",
      " recall:0.8209068010075566 \n",
      "}\n",
      "=====Epoch 98\n",
      "Training...\n"
     ]
    },
    {
     "name": "stderr",
     "output_type": "stream",
     "text": [
      "Iteration:   3%|▎         | 29/1001 [00:00<00:23, 42.18it/s]]\n",
      "Iteration:   3%|▎         | 34/1001 [00:00<00:22, 42.93it/s]]\n",
      "Iteration:   4%|▍         | 39/1001 [00:00<00:22, 43.22it/s]]"
     ]
    },
    {
     "name": "stdout",
     "output_type": "stream",
     "text": [
      "{'Train':  best_epoch_indx:97\n",
      " auc:0.9069043815744646 \n",
      " apur:0.5963088180755796 \n",
      " f1:0.5024412325799463 \n",
      " precision:0.3532433876265927 \n",
      " recall:0.8698256318396821 \n",
      ", 'Validation':  best_epoch_indx:97\n",
      " auc:0.8873243056547819 \n",
      " apur:0.5533902183093932 \n",
      " f1:0.4876983549279371 \n",
      " precision:0.342956592956593 \n",
      " recall:0.8438287153652393 \n",
      "}\n",
      "=====Epoch 98\n",
      "Training...\n",
      "{'Train':  best_epoch_indx:97\n",
      " auc:0.9095298683101062 \n",
      " apur:0.5988511122549369 \n",
      " f1:0.5103392661713035 \n",
      " precision:0.3614303363714772 \n",
      " recall:0.8679224159646226 \n",
      ", 'Validation':  best_epoch_indx:97\n",
      " auc:0.8854899555904661 \n",
      " apur:0.5527798406994999 \n",
      " f1:0.490362602466583 \n",
      " precision:0.3468812036359837 \n",
      " recall:0.836272040302267 \n",
      "}\n",
      "=====Epoch 98\n",
      "Training...\n"
     ]
    },
    {
     "name": "stderr",
     "output_type": "stream",
     "text": [
      "Iteration: 100%|██████████| 1001/1001 [00:23<00:00, 43.51it/s]\n",
      "Iteration:  80%|████████  | 804/1001 [00:18<00:04, 41.96it/s]"
     ]
    },
    {
     "name": "stdout",
     "output_type": "stream",
     "text": [
      "Evaluating...\n",
      "Evaluating...\n"
     ]
    },
    {
     "name": "stderr",
     "output_type": "stream",
     "text": [
      "Iteration: 100%|██████████| 1001/1001 [00:23<00:00, 43.26it/s]\n",
      "Iteration: 100%|██████████| 1001/1001 [00:23<00:00, 42.57it/s]\n",
      "Iteration:   0%|          | 4/1001 [00:00<00:29, 34.34it/s]s]"
     ]
    },
    {
     "name": "stdout",
     "output_type": "stream",
     "text": [
      "Evaluating...\n"
     ]
    },
    {
     "name": "stderr",
     "output_type": "stream",
     "text": [
      "Iteration: 100%|██████████| 1001/1001 [00:23<00:00, 42.50it/s]\n",
      "Iteration: 100%|██████████| 1001/1001 [00:23<00:00, 42.42it/s]\n",
      "Iteration:  22%|██▏       | 218/1001 [00:04<00:17, 43.62it/s]"
     ]
    },
    {
     "name": "stdout",
     "output_type": "stream",
     "text": [
      "Evaluating...\n",
      "Evaluating...\n"
     ]
    },
    {
     "name": "stderr",
     "output_type": "stream",
     "text": [
      "Iteration:  98%|█████████▊| 979/1001 [00:22<00:00, 60.88it/s]]\n",
      "Iteration:  99%|█████████▊| 986/1001 [00:22<00:00, 56.17it/s]\n",
      "Iteration: 100%|██████████| 112/112 [00:02<00:00, 52.86it/s]s]\n",
      "Iteration:   0%|          | 0/1001 [00:00<?, ?it/s]\n",
      "Iteration:   0%|          | 4/1001 [00:00<00:27, 36.91it/s]"
     ]
    },
    {
     "name": "stdout",
     "output_type": "stream",
     "text": [
      "{'Train':  best_epoch_indx:98\n",
      " auc:0.9140016292197093 \n",
      " apur:0.618278742711698 \n",
      " f1:0.5226154404503676 \n",
      " precision:0.37412993039443154 \n",
      " recall:0.8665229925270789 \n",
      ", 'Validation':  best_epoch_indx:98\n",
      " auc:0.8876234620784959 \n",
      " apur:0.5602341918760733 \n",
      " f1:0.4997327224131347 \n",
      " precision:0.3585753424657534 \n",
      " recall:0.8241813602015113 \n",
      "}\n",
      "=====Epoch 99\n",
      "Training...\n",
      "{'Train':  best_epoch_indx:98\n",
      " auc:0.9135237582257142 \n",
      " apur:0.6179333040632597 \n",
      " f1:0.5202542501135045 \n",
      " precision:0.3718227595572594 \n",
      " recall:0.8659352346833105 \n",
      ", 'Validation':  best_epoch_indx:98\n",
      " auc:0.8894231449177437 \n",
      " apur:0.5736471759446874 \n",
      " f1:0.4998094657419404 \n",
      " precision:0.3583214949185881 \n",
      " recall:0.8259445843828715 \n",
      "}\n",
      "=====Epoch 99\n",
      "Training...\n"
     ]
    },
    {
     "name": "stderr",
     "output_type": "stream",
     "text": [
      "Iteration:   1%|▏         | 14/1001 [00:00<00:24, 40.10it/s]\n",
      "Iteration:   4%|▍         | 39/1001 [00:00<00:21, 44.28it/s]\n",
      "Iteration:  21%|██▏       | 24/112 [00:00<00:01, 54.23it/s]]\n",
      "Iteration:  16%|█▌        | 159/1001 [00:03<00:19, 42.78it/s]\n",
      "Iteration:   0%|          | 4/1001 [00:00<00:28, 35.19it/s]s]"
     ]
    },
    {
     "name": "stdout",
     "output_type": "stream",
     "text": [
      "{'Train':  best_epoch_indx:98\n",
      " auc:0.913312367135837 \n",
      " apur:0.6143356130098815 \n",
      " f1:0.5169683071288337 \n",
      " precision:0.3665083746608028 \n",
      " recall:0.8769941225860621 \n",
      ", 'Validation':  best_epoch_indx:98\n",
      " auc:0.8868455773766549 \n",
      " apur:0.5541387571311742 \n",
      " f1:0.49403519236504617 \n",
      " precision:0.3508790510485067 \n",
      " recall:0.8345088161209068 \n",
      "}\n",
      "=====Epoch 99\n",
      "Training...\n",
      "{'Train':  best_epoch_indx:98\n",
      " auc:0.9113691869702859 \n",
      " apur:0.6133763095653 \n",
      " f1:0.5159480484679991 \n",
      " precision:0.3681084956386665 \n",
      " recall:0.862240756808195 \n",
      ", 'Validation':  best_epoch_indx:98\n",
      " auc:0.890031477788933 \n",
      " apur:0.5628107340803051 \n",
      " f1:0.498457834950726 \n",
      " precision:0.35535771747291645 \n",
      " recall:0.8345088161209068 \n",
      "}\n",
      "=====Epoch 99\n",
      "Training...\n"
     ]
    },
    {
     "name": "stderr",
     "output_type": "stream",
     "text": [
      "Iteration:  17%|█▋        | 169/1001 [00:04<00:19, 43.57it/s]\n",
      "Iteration:  18%|█▊        | 184/1001 [00:04<00:18, 43.66it/s]\n",
      "Iteration:   1%|▏         | 13/1001 [00:00<00:25, 38.28it/s]"
     ]
    },
    {
     "name": "stdout",
     "output_type": "stream",
     "text": [
      "{'Train':  best_epoch_indx:98\n",
      " auc:0.9138138385986788 \n",
      " apur:0.6176718908281038 \n",
      " f1:0.5089917024505214 \n",
      " precision:0.35763302065492325 \n",
      " recall:0.8824764197150774 \n",
      ", 'Validation':  best_epoch_indx:98\n",
      " auc:0.8885208799209438 \n",
      " apur:0.5650736939036994 \n",
      " f1:0.4866559719994166 \n",
      " precision:0.3424671592775041 \n",
      " recall:0.8405541561712846 \n",
      "}\n",
      "=====Epoch 99\n",
      "Training...\n"
     ]
    },
    {
     "name": "stderr",
     "output_type": "stream",
     "text": [
      "Iteration: 100%|██████████| 1001/1001 [00:23<00:00, 41.98it/s]"
     ]
    },
    {
     "name": "stdout",
     "output_type": "stream",
     "text": [
      "Evaluating...\n",
      "Evaluating...\n"
     ]
    },
    {
     "name": "stderr",
     "output_type": "stream",
     "text": [
      "\n",
      "Iteration: 100%|██████████| 1001/1001 [00:23<00:00, 41.84it/s]\n",
      "Iteration: 100%|██████████| 1001/1001 [00:23<00:00, 41.85it/s]\n",
      "Iteration: 100%|██████████| 1001/1001 [00:23<00:00, 41.88it/s]\n",
      "Iteration:   0%|          | 0/1001 [00:00<?, ?it/s]"
     ]
    },
    {
     "name": "stdout",
     "output_type": "stream",
     "text": [
      "Evaluating...\n",
      "Evaluating...\n"
     ]
    },
    {
     "name": "stderr",
     "output_type": "stream",
     "text": [
      "Iteration: 100%|██████████| 1001/1001 [00:24<00:00, 41.54it/s]\n",
      "Iteration:   4%|▎         | 36/1001 [00:00<00:22, 42.48it/s]]"
     ]
    },
    {
     "name": "stdout",
     "output_type": "stream",
     "text": [
      "Evaluating...\n"
     ]
    },
    {
     "name": "stderr",
     "output_type": "stream",
     "text": [
      "Iteration:  98%|█████████▊| 976/1001 [00:21<00:00, 52.08it/s]]\n",
      "Iteration:  31%|███▏      | 35/112 [00:00<00:01, 51.44it/s]s]]\n",
      "Iteration: 100%|██████████| 112/112 [00:01<00:00, 68.82it/s]s]\n",
      "Iteration:   2%|▏         | 6/278 [00:00<00:05, 52.31it/s]"
     ]
    },
    {
     "name": "stdout",
     "output_type": "stream",
     "text": [
      "{'Train':  best_epoch_indx:99\n",
      " auc:0.918448571424554 \n",
      " apur:0.6360762526358329 \n",
      " f1:0.5266948831651843 \n",
      " precision:0.3765550930047886 \n",
      " recall:0.8759551064961236 \n",
      ", 'Validation':  best_epoch_indx:99\n",
      " auc:0.8906529378341097 \n",
      " apur:0.5728476482016394 \n",
      " f1:0.4993930197268588 \n",
      " precision:0.357328990228013 \n",
      " recall:0.8289672544080604 \n",
      "}\n",
      "Finished training and validating!\n"
     ]
    },
    {
     "name": "stderr",
     "output_type": "stream",
     "text": [
      "\r",
      "Iteration:   5%|▌         | 14/278 [00:00<00:04, 63.10it/s]\r",
      "Iteration:   8%|▊         | 22/278 [00:00<00:03, 66.41it/s]\n",
      "\r",
      "Iteration:   0%|          | 0/278 [00:00<?, ?it/s]\n",
      "\r",
      "Iteration:   0%|          | 0/112 [00:00<?, ?it/s]"
     ]
    },
    {
     "name": "stdout",
     "output_type": "stream",
     "text": [
      "{'Train':  best_epoch_indx:99\n",
      " auc:0.9174796842884259 \n",
      " apur:0.6317881899121953 \n",
      " f1:0.516693594022947 \n",
      " precision:0.36542387824230893 \n",
      " recall:0.8816647541213021 \n",
      ", 'Validation':  best_epoch_indx:99\n",
      " auc:0.8919136865381709 \n",
      " apur:0.5828810690768896 \n",
      " f1:0.49891928150853404 \n",
      " precision:0.3542923679474966 \n",
      " recall:0.8430730478589421 \n",
      "}\n",
      "Finished training and validating!\n"
     ]
    },
    {
     "name": "stderr",
     "output_type": "stream",
     "text": [
      "Iteration:  15%|█▌        | 43/278 [00:00<00:03, 60.09it/s]\n",
      "Iteration:  30%|███       | 34/112 [00:00<00:01, 44.37it/s]\n",
      "Iteration:  78%|███████▊  | 218/278 [00:04<00:00, 63.26it/s]\n",
      "Iteration:  67%|██████▋   | 187/278 [00:03<00:01, 58.68it/s]"
     ]
    },
    {
     "name": "stdout",
     "output_type": "stream",
     "text": [
      "{'Train':  best_epoch_indx:99\n",
      " auc:0.9179700065588554 \n",
      " apur:0.6307826021342404 \n",
      " f1:0.52799568584164 \n",
      " precision:0.377714017046619 \n",
      " recall:0.8768821718443884 \n",
      ", 'Validation':  best_epoch_indx:99\n",
      " auc:0.8902848112468381 \n",
      " apur:0.567034317950716 \n",
      " f1:0.5034975669099757 \n",
      " precision:0.3605968198649532 \n",
      " recall:0.8340050377833753 \n",
      "}\n",
      "Finished training and validating!\n"
     ]
    },
    {
     "name": "stderr",
     "output_type": "stream",
     "text": [
      "\r",
      "Iteration:  81%|████████  | 225/278 [00:04<00:00, 61.75it/s]\r",
      "Iteration:   2%|▏         | 6/278 [00:00<00:04, 54.59it/s]\r",
      "Iteration:  69%|██████▉   | 193/278 [00:04<00:01, 56.15it/s]\r",
      "Iteration:   4%|▍         | 12/278 [00:00<00:04, 56.68it/s]\r",
      "Iteration:  83%|████████▎ | 232/278 [00:04<00:00, 59.92it/s]\r",
      "Iteration:  72%|███████▏  | 199/278 [00:04<00:01, 54.47it/s]\n",
      "\r",
      "Iteration:   0%|          | 0/278 [00:00<?, ?it/s]"
     ]
    },
    {
     "name": "stdout",
     "output_type": "stream",
     "text": [
      "{'Train':  best_epoch_indx:99\n",
      " auc:0.9156622931424847 \n",
      " apur:0.6283328603297026 \n",
      " f1:0.5193657568734681 \n",
      " precision:0.36984268328880976 \n",
      " recall:0.871840801589745 \n",
      ", 'Validation':  best_epoch_indx:99\n",
      " auc:0.8927151341530325 \n",
      " apur:0.5760744197597802 \n",
      " f1:0.5012392039053699 \n",
      " precision:0.3570893525949706 \n",
      " recall:0.8405541561712846 \n",
      "}\n",
      "Finished training and validating!\n"
     ]
    },
    {
     "name": "stderr",
     "output_type": "stream",
     "text": [
      "Iteration:  13%|█▎        | 35/278 [00:00<00:05, 48.06it/s]]\n",
      "Iteration:   9%|▊         | 24/278 [00:00<00:05, 46.65it/s]]"
     ]
    },
    {
     "name": "stdout",
     "output_type": "stream",
     "text": [
      "{'Train':  best_epoch_indx:99\n",
      " auc:0.9179889470459526 \n",
      " apur:0.6303970785248572 \n",
      " f1:0.5211663853308178 \n",
      " precision:0.36995876555102614 \n",
      " recall:0.8814128579025442 \n",
      ", 'Validation':  best_epoch_indx:99\n",
      " auc:0.8916084229571171 \n",
      " apur:0.5728642394181215 \n",
      " f1:0.49581589958158995 \n",
      " precision:0.3524537922243467 \n",
      " recall:0.8357682619647355 \n",
      "}\n",
      "Finished training and validating!\n"
     ]
    },
    {
     "name": "stderr",
     "output_type": "stream",
     "text": [
      "Iteration:  55%|█████▍    | 152/278 [00:02<00:02, 54.10it/s]\n",
      "Iteration:  57%|█████▋    | 158/278 [00:03<00:02, 55.34it/s]"
     ]
    },
    {
     "name": "stdout",
     "output_type": "stream",
     "text": [
      "{'Test':  best_epoch_indx:99\n",
      " auc:0.8919917175925627 \n",
      " apur:0.5750640392326546 \n",
      " f1:0.5003477997882958 \n",
      " precision:0.357476231633535 \n",
      " recall:0.8334508816120907 \n",
      "}\n",
      "Finished testing!\n"
     ]
    },
    {
     "name": "stderr",
     "output_type": "stream",
     "text": [
      "Iteration:  68%|██████▊   | 190/278 [00:03<00:01, 57.51it/s]\n",
      "Iteration:  71%|███████   | 196/278 [00:03<00:01, 56.93it/s]"
     ]
    },
    {
     "name": "stdout",
     "output_type": "stream",
     "text": [
      "{'Test':  best_epoch_indx:99\n",
      " auc:0.890783892793896 \n",
      " apur:0.5723296126949077 \n",
      " f1:0.49133219721455007 \n",
      " precision:0.34679995022605664 \n",
      " recall:0.8424181360201511 \n",
      "}\n",
      "Finished testing!\n"
     ]
    },
    {
     "name": "stderr",
     "output_type": "stream",
     "text": [
      "Iteration:  92%|█████████▏| 256/278 [00:04<00:00, 68.20it/s]"
     ]
    },
    {
     "name": "stdout",
     "output_type": "stream",
     "text": [
      "<<< joined hyperparam search process\n",
      "released_gpu_num: 1\n",
      "<<< joined hyperparam search process\n",
      "released_gpu_num: 0\n"
     ]
    },
    {
     "name": "stderr",
     "output_type": "stream",
     "text": [
      "Iteration: 100%|██████████| 278/278 [00:04<00:00, 55.86it/s]\n"
     ]
    },
    {
     "name": "stdout",
     "output_type": "stream",
     "text": [
      "{'Test':  best_epoch_indx:99\n",
      " auc:0.891402199696171 \n",
      " apur:0.570868253164196 \n",
      " f1:0.5013255324984003 \n",
      " precision:0.35932381077185166 \n",
      " recall:0.8288996372430472 \n",
      "}\n",
      "Finished testing!\n",
      "{'Test':  best_epoch_indx:99\n",
      " auc:0.8922141299997167 \n",
      " apur:0.5784295597901283 \n",
      " f1:0.49837045896247567 \n",
      " precision:0.35433673469387755 \n",
      " recall:0.8396977329974811 \n",
      "}\n",
      "Finished testing!\n"
     ]
    },
    {
     "name": "stderr",
     "output_type": "stream",
     "text": [
      "\n"
     ]
    },
    {
     "name": "stdout",
     "output_type": "stream",
     "text": [
      "{'Test':  best_epoch_indx:99\n",
      " auc:0.8902437591549229 \n",
      " apur:0.5744225924076617 \n",
      " f1:0.49639985599423975 \n",
      " precision:0.35344127825009614 \n",
      " recall:0.833551637279597 \n",
      "}\n",
      "Finished testing!\n"
     ]
    },
    {
     "name": "stderr",
     "output_type": "stream",
     "text": [
      "\n"
     ]
    },
    {
     "name": "stdout",
     "output_type": "stream",
     "text": [
      "<<< joined hyperparam search process\n",
      "released_gpu_num: 2\n",
      "<<< joined hyperparam search process\n",
      "released_gpu_num: 3\n",
      "<<< joined hyperparam search process\n",
      "released_gpu_num: 4\n"
     ]
    }
   ],
   "source": [
    "import torch.multiprocessing as mp\n",
    "mp.set_start_method(\"spawn\", force=True)\n",
    "\n",
    "queue = mp.Queue()\n",
    "q_processes = []\n",
    "\n",
    "# partition = fold_partitions[0]\n",
    "time_stamp = datetime.datetime.now().strftime('%Y-%m-%d_%H-%M-%S')\n",
    "\n",
    "print(\"Start: \" + time_stamp)\n",
    "\n",
    "for q_i in range(min(n_gpu, len(fold_partitions))):\n",
    "#     device_gpu = get_device(True, index=q_i)\n",
    "    partition = fold_partitions[q_i]\n",
    "    exp_dir = create_directory(os.path.join(targetdata_dir_exp, \"fold_\"+str(q_i)+\"_\"+time_stamp))\n",
    "    create_directory(os.path.join(exp_dir, \"predictions\"))\n",
    "    create_directory(os.path.join(exp_dir, \"modelstates\"))\n",
    "\n",
    "#     tphp = generate_tp_hp(tp, hyperparam_space[q_i], hp_names)\n",
    "    \n",
    "    q_process = create_q_process(queue, dataset, q_i, tp, exp_dir, partition)\n",
    "    q_processes.append(q_process)\n",
    "    spawn_q_process(q_process)\n",
    "\n",
    "spawned_processes = n_gpu\n",
    "    \n",
    "# for q_i in range(len(hyperparam_space)):\n",
    "for q_i in range(min(n_gpu, len(fold_partitions))):\n",
    "    join_q_process(q_processes[q_i])\n",
    "    released_gpu_num = queue.get()\n",
    "    print(\"released_gpu_num:\", released_gpu_num)\n",
    "#     if(spawned_processes < len(hyperparam_space)):\n",
    "# #         device_gpu = get_device(True, index=q_i)\n",
    "#         time_stamp = datetime.datetime.now().strftime('%Y-%m-%d_%H-%M-%S')\n",
    "#         exp_dir = create_directory(os.path.join(targetdata_dir_exp, \"exp_\"+str(q_i)+\"_\"+time_stamp))\n",
    "#         tphp = generate_tp_hp(tp, hyperparam_space[q_i], hp_names)\n",
    "\n",
    "#         q_process = create_q_process(queue, used_dataset, released_gpu_num, tphp, exp_dir, partition)\n",
    "#         q_processes.append(q_process)\n",
    "#         spawn_q_process(q_process)\n",
    "#         spawned_processes = spawned_processes + 1"
   ]
  },
  {
   "cell_type": "code",
   "execution_count": 39,
   "metadata": {},
   "outputs": [
    {
     "name": "stdout",
     "output_type": "stream",
     "text": [
      "End: 2022-09-14_19-12-59\n"
     ]
    }
   ],
   "source": [
    "print(\"End: \" + datetime.datetime.now().strftime('%Y-%m-%d_%H-%M-%S'))"
   ]
  },
  {
   "cell_type": "code",
   "execution_count": null,
   "metadata": {},
   "outputs": [],
   "source": []
  }
 ],
 "metadata": {
  "kernelspec": {
   "display_name": "Python 3 (ipykernel)",
   "language": "python",
   "name": "python3"
  },
  "language_info": {
   "codemirror_mode": {
    "name": "ipython",
    "version": 3
   },
   "file_extension": ".py",
   "mimetype": "text/x-python",
   "name": "python",
   "nbconvert_exporter": "python",
   "pygments_lexer": "ipython3",
   "version": "3.8.10"
  }
 },
 "nbformat": 4,
 "nbformat_minor": 4
}
