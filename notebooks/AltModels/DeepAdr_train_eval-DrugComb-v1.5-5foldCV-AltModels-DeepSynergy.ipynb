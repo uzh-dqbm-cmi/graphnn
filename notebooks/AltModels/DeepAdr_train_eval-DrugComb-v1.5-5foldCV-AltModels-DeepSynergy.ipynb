{
 "cells": [
  {
   "cell_type": "code",
   "execution_count": 1,
   "metadata": {
    "scrolled": false
   },
   "outputs": [],
   "source": [
    "%load_ext autoreload\n",
    "%autoreload 2"
   ]
  },
  {
   "cell_type": "code",
   "execution_count": 2,
   "metadata": {},
   "outputs": [],
   "source": [
    "import os\n",
    "import sys\n",
    "import numpy as np\n",
    "import pandas as pd\n",
    "import datetime\n",
    "import seaborn as sns\n",
    "import ogb\n",
    "from tqdm import tqdm\n",
    "import hiplot as hip\n",
    "from copy import deepcopy\n",
    "import datetime"
   ]
  },
  {
   "cell_type": "code",
   "execution_count": 3,
   "metadata": {},
   "outputs": [],
   "source": [
    "pd.set_option('display.max_rows', 10)"
   ]
  },
  {
   "cell_type": "code",
   "execution_count": 4,
   "metadata": {},
   "outputs": [],
   "source": [
    "import torch\n",
    "from torch_geometric.data import Data\n",
    "from torch_geometric.loader import DataLoader\n",
    "from torch.utils.data import Subset, TensorDataset"
   ]
  },
  {
   "cell_type": "code",
   "execution_count": 5,
   "metadata": {},
   "outputs": [
    {
     "name": "stdout",
     "output_type": "stream",
     "text": [
      "/cluster/work/medinfmk/lm1-homes/skyriakos-lm1-home/data_to_migrate/chemprop_run/git/notebooks/AltModels\n",
      "/cluster/work/medinfmk/lm1-homes/skyriakos-lm1-home/data_to_migrate/chemprop_run/git\n"
     ]
    }
   ],
   "source": [
    "cwd = os.getcwd()\n",
    "print(cwd)\n",
    "# cwd_parent = os.path.abspath(os.path.join(cwd, os.pardir))\n",
    "cwd_parent = os.path.abspath(os.path.join(cwd, '../../'))\n",
    "print(cwd_parent)\n",
    "\n",
    "sys.path.append(cwd_parent)"
   ]
  },
  {
   "cell_type": "code",
   "execution_count": 6,
   "metadata": {},
   "outputs": [],
   "source": [
    "import deepadr\n",
    "from deepadr.dataset import *\n",
    "from deepadr.utilities import *\n",
    "from deepadr.run_workflow import *\n",
    "from deepadr.chemfeatures import *\n",
    "from deepadr.hyphelperflat import *\n",
    "from deepadr.model_gnn_ogb import GNN, DeepAdr_SiameseTrf, ExpressionNN\n",
    "from ogb.graphproppred import Evaluator"
   ]
  },
  {
   "cell_type": "code",
   "execution_count": 7,
   "metadata": {},
   "outputs": [],
   "source": [
    "from rdkit.Chem.Draw import IPythonConsole\n",
    "from rdkit.Chem import Draw"
   ]
  },
  {
   "cell_type": "code",
   "execution_count": 8,
   "metadata": {},
   "outputs": [],
   "source": [
    "rawdata_dir = '../data/raw/'\n",
    "processed_dir = '../data/processed/'\n",
    "up_dir = '..'"
   ]
  },
  {
   "cell_type": "code",
   "execution_count": 9,
   "metadata": {
    "scrolled": true
   },
   "outputs": [
    {
     "name": "stdout",
     "output_type": "stream",
     "text": [
      "number of GPUs available: 5\n",
      "cuda:0, name:NVIDIA GeForce GTX 1080 Ti\n",
      "total memory available: 10.91656494140625 GB\n",
      "total memory allocated on device: 0.0 GB\n",
      "max memory allocated on device: 0.0 GB\n",
      "total memory cached on device: 0.0 GB\n",
      "max memory cached  on device: 0.0 GB\n",
      "\n",
      "cuda:1, name:NVIDIA GeForce GTX 1080 Ti\n",
      "total memory available: 10.91656494140625 GB\n",
      "total memory allocated on device: 0.0 GB\n",
      "max memory allocated on device: 0.0 GB\n",
      "total memory cached on device: 0.0 GB\n",
      "max memory cached  on device: 0.0 GB\n",
      "\n",
      "cuda:2, name:NVIDIA GeForce GTX 1080 Ti\n",
      "total memory available: 10.91656494140625 GB\n",
      "total memory allocated on device: 0.0 GB\n",
      "max memory allocated on device: 0.0 GB\n",
      "total memory cached on device: 0.0 GB\n",
      "max memory cached  on device: 0.0 GB\n",
      "\n",
      "cuda:3, name:NVIDIA GeForce GTX 1080 Ti\n",
      "total memory available: 10.91656494140625 GB\n",
      "total memory allocated on device: 0.0 GB\n",
      "max memory allocated on device: 0.0 GB\n",
      "total memory cached on device: 0.0 GB\n",
      "max memory cached  on device: 0.0 GB\n",
      "\n",
      "cuda:4, name:NVIDIA GeForce GTX 1080 Ti\n",
      "total memory available: 10.91656494140625 GB\n",
      "total memory allocated on device: 0.0 GB\n",
      "max memory allocated on device: 0.0 GB\n",
      "total memory cached on device: 0.0 GB\n",
      "max memory cached  on device: 0.0 GB\n",
      "\n"
     ]
    }
   ],
   "source": [
    "report_available_cuda_devices()"
   ]
  },
  {
   "cell_type": "code",
   "execution_count": 10,
   "metadata": {},
   "outputs": [
    {
     "data": {
      "text/plain": [
       "5"
      ]
     },
     "execution_count": 10,
     "metadata": {},
     "output_type": "execute_result"
    }
   ],
   "source": [
    "n_gpu = torch.cuda.device_count()\n",
    "n_gpu"
   ]
  },
  {
   "cell_type": "code",
   "execution_count": 11,
   "metadata": {},
   "outputs": [],
   "source": [
    "device_cpu = get_device(to_gpu=False)\n",
    "# device_gpu = get_device(True, index=0)\n",
    "\n",
    "# fdtype = torch.float32"
   ]
  },
  {
   "cell_type": "code",
   "execution_count": 12,
   "metadata": {},
   "outputs": [
    {
     "name": "stdout",
     "output_type": "stream",
     "text": [
      "torch: 1.11.0+cu115\n",
      "CUDA: 11.5\n",
      "3.8.10 (default, Jun 22 2022, 20:18:18) \n",
      "[GCC 9.4.0]\n"
     ]
    }
   ],
   "source": [
    "print(\"torch:\", torch.__version__)\n",
    "print(\"CUDA:\", torch.version.cuda)\n",
    "print(sys.version)"
   ]
  },
  {
   "cell_type": "markdown",
   "metadata": {},
   "source": [
    "### Preparing dataset "
   ]
  },
  {
   "cell_type": "code",
   "execution_count": 13,
   "metadata": {},
   "outputs": [],
   "source": [
    "# options: \n",
    "# 'total_thresh' + 4,3,2\n",
    "# 'loewe_thresh', 'hsa_thresh', 'bliss_thresh', 'zip_thresh' + 1\n",
    "\n",
    "score = 'loewe_thresh'\n",
    "score_val = 1"
   ]
  },
  {
   "cell_type": "code",
   "execution_count": 14,
   "metadata": {},
   "outputs": [],
   "source": [
    "DSdataset_name = f'DrugComb_{score}_{score_val}'\n",
    "\n",
    "data_fname = 'data_v4' # v2 for baseline models, v3 for additive samples, v4 for additive baseline"
   ]
  },
  {
   "cell_type": "code",
   "execution_count": 15,
   "metadata": {
    "scrolled": true
   },
   "outputs": [
    {
     "name": "stdout",
     "output_type": "stream",
     "text": [
      "path_current_dir /cluster/work/medinfmk/lm1-homes/skyriakos-lm1-home/data_to_migrate/chemprop_run/git/deepadr\n",
      "path_current_dir /cluster/work/medinfmk/lm1-homes/skyriakos-lm1-home/data_to_migrate/chemprop_run/git/deepadr\n",
      "path_current_dir /cluster/work/medinfmk/lm1-homes/skyriakos-lm1-home/data_to_migrate/chemprop_run/git/deepadr\n",
      "path_current_dir /cluster/work/medinfmk/lm1-homes/skyriakos-lm1-home/data_to_migrate/chemprop_run/git/deepadr\n",
      "/cluster/work/medinfmk/lm1-homes/skyriakos-lm1-home/data_to_migrate/chemprop_run/git/data/processed/DrugComb_loewe_thresh_1/data_v4\n"
     ]
    }
   ],
   "source": [
    "targetdata_dir = create_directory(os.path.join(processed_dir, DSdataset_name, data_fname))\n",
    "targetdata_dir_raw = create_directory(os.path.join(targetdata_dir, \"raw\"))\n",
    "targetdata_dir_processed = create_directory(os.path.join(targetdata_dir, \"processed\"))\n",
    "targetdata_dir_exp = create_directory(os.path.join(targetdata_dir, \"experiments\"))\n",
    "print(targetdata_dir)"
   ]
  },
  {
   "cell_type": "code",
   "execution_count": 16,
   "metadata": {},
   "outputs": [],
   "source": [
    "xFlat = ReaderWriter.read_data(os.path.join(targetdata_dir_raw, 'X_flat.pkl'))\n",
    "y = ReaderWriter.read_data(os.path.join(targetdata_dir_raw, 'y.pkl'))\n",
    "expression = ReaderWriter.read_data(os.path.join(targetdata_dir_raw, 'expression.pkl'))"
   ]
  },
  {
   "cell_type": "code",
   "execution_count": 17,
   "metadata": {},
   "outputs": [
    {
     "data": {
      "text/plain": [
       "torch.Size([418189, 18])"
      ]
     },
     "execution_count": 17,
     "metadata": {},
     "output_type": "execute_result"
    }
   ],
   "source": [
    "xFlatMat = torch.stack([torch.cat(i) for i in list(xFlat.values())])\n",
    "xFlatMat.shape"
   ]
  },
  {
   "cell_type": "code",
   "execution_count": 18,
   "metadata": {},
   "outputs": [
    {
     "data": {
      "text/plain": [
       "tensor([[7.3013, 4.1251, 7.1277,  ..., 4.4361, 6.3370, 6.6896],\n",
       "        [7.3013, 4.1251, 7.1277,  ..., 4.4361, 6.3370, 6.6896],\n",
       "        [7.3013, 4.1251, 7.1277,  ..., 4.4361, 6.3370, 6.6896],\n",
       "        ...,\n",
       "        [7.1871, 3.5130, 7.6483,  ..., 3.6550, 6.8683, 6.7297],\n",
       "        [7.1871, 3.5130, 7.6483,  ..., 3.6550, 6.8683, 6.7297],\n",
       "        [7.1871, 3.5130, 7.6483,  ..., 3.6550, 6.8683, 6.7297]],\n",
       "       dtype=torch.float64)"
      ]
     },
     "execution_count": 18,
     "metadata": {},
     "output_type": "execute_result"
    }
   ],
   "source": [
    "torch.tensor(expression)"
   ]
  },
  {
   "cell_type": "code",
   "execution_count": 19,
   "metadata": {
    "scrolled": false
   },
   "outputs": [
    {
     "data": {
      "text/plain": [
       "torch.Size([418189, 926])"
      ]
     },
     "execution_count": 19,
     "metadata": {},
     "output_type": "execute_result"
    }
   ],
   "source": [
    "x = torch.cat([xFlatMat, torch.tensor(expression)], dim=1)\n",
    "x.shape"
   ]
  },
  {
   "cell_type": "code",
   "execution_count": 20,
   "metadata": {},
   "outputs": [
    {
     "data": {
      "text/plain": [
       "array([0, 0, 0, ..., 0, 0, 0])"
      ]
     },
     "execution_count": 20,
     "metadata": {},
     "output_type": "execute_result"
    }
   ],
   "source": [
    "y"
   ]
  },
  {
   "cell_type": "code",
   "execution_count": 21,
   "metadata": {},
   "outputs": [
    {
     "data": {
      "text/plain": [
       "torch.Size([418189, 926])"
      ]
     },
     "execution_count": 21,
     "metadata": {},
     "output_type": "execute_result"
    }
   ],
   "source": [
    "x.shape"
   ]
  },
  {
   "cell_type": "code",
   "execution_count": 22,
   "metadata": {},
   "outputs": [
    {
     "data": {
      "text/plain": [
       "(418189,)"
      ]
     },
     "execution_count": 22,
     "metadata": {},
     "output_type": "execute_result"
    }
   ],
   "source": [
    "y.shape"
   ]
  },
  {
   "cell_type": "code",
   "execution_count": 23,
   "metadata": {},
   "outputs": [
    {
     "name": "stdout",
     "output_type": "stream",
     "text": [
      "fold_num: 0\n",
      "train data\n",
      "class: 0 norm count: 0.9474584433484449\n",
      "class: 1 norm count: 0.05254155665155516\n",
      "validation data\n",
      "class: 0 norm count: 0.9474533715925395\n",
      "class: 1 norm count: 0.05254662840746054\n",
      "test data\n",
      "class: 0 norm count: 0.9474640713551257\n",
      "class: 1 norm count: 0.05253592864487434\n",
      "\n",
      "-------------------------\n",
      "fold_num: 1\n",
      "train data\n",
      "class: 0 norm count: 0.9474584433484449\n",
      "class: 1 norm count: 0.05254155665155516\n",
      "validation data\n",
      "class: 0 norm count: 0.9474533715925395\n",
      "class: 1 norm count: 0.05254662840746054\n",
      "test data\n",
      "class: 0 norm count: 0.9474640713551257\n",
      "class: 1 norm count: 0.05253592864487434\n",
      "\n",
      "-------------------------\n",
      "fold_num: 2\n",
      "train data\n",
      "class: 0 norm count: 0.9474617645593584\n",
      "class: 1 norm count: 0.05253823544064166\n",
      "validation data\n",
      "class: 0 norm count: 0.9474533715925395\n",
      "class: 1 norm count: 0.05254662840746054\n",
      "test data\n",
      "class: 0 norm count: 0.9474521150673139\n",
      "class: 1 norm count: 0.0525478849326861\n",
      "\n",
      "-------------------------\n",
      "fold_num: 3\n",
      "train data\n",
      "class: 0 norm count: 0.9474617645593584\n",
      "class: 1 norm count: 0.05253823544064166\n",
      "validation data\n",
      "class: 0 norm count: 0.9474533715925395\n",
      "class: 1 norm count: 0.05254662840746054\n",
      "test data\n",
      "class: 0 norm count: 0.9474521150673139\n",
      "class: 1 norm count: 0.0525478849326861\n",
      "\n",
      "-------------------------\n",
      "fold_num: 4\n",
      "train data\n",
      "class: 0 norm count: 0.9474586178494566\n",
      "class: 1 norm count: 0.052541382150543346\n",
      "validation data\n",
      "class: 0 norm count: 0.9474533715925395\n",
      "class: 1 norm count: 0.05254662840746054\n",
      "test data\n",
      "class: 0 norm count: 0.9474634432129321\n",
      "class: 1 norm count: 0.05253655678706792\n",
      "\n",
      "-------------------------\n"
     ]
    }
   ],
   "source": [
    "fold_partitions = get_stratified_partitions(y,\n",
    "                                            num_folds=5,\n",
    "                                            valid_set_portion=0.1,\n",
    "                                            random_state=42)"
   ]
  },
  {
   "cell_type": "code",
   "execution_count": 24,
   "metadata": {},
   "outputs": [
    {
     "name": "stdout",
     "output_type": "stream",
     "text": [
      "Number of training graphs: 301095\n",
      "Number of validation graphs: 33456\n",
      "Number of testing graphs: 83638\n"
     ]
    }
   ],
   "source": [
    "print(\"Number of training graphs: \"+ str(len(fold_partitions[0]['train'])))\n",
    "print(\"Number of validation graphs: \"+ str(len(fold_partitions[0]['validation'])))\n",
    "print(\"Number of testing graphs: \"+ str(len(fold_partitions[0]['test'])))\n"
   ]
  },
  {
   "cell_type": "markdown",
   "metadata": {},
   "source": [
    "### Preprocessing"
   ]
  },
  {
   "cell_type": "code",
   "execution_count": 25,
   "metadata": {},
   "outputs": [],
   "source": [
    "# from sklearn.preprocessing import StandardScaler\n",
    "# scaler = StandardScaler()"
   ]
  },
  {
   "cell_type": "code",
   "execution_count": 26,
   "metadata": {},
   "outputs": [],
   "source": [
    "x_np = x.numpy()\n",
    "y_np = y"
   ]
  },
  {
   "cell_type": "code",
   "execution_count": 27,
   "metadata": {},
   "outputs": [],
   "source": [
    "# pipeline = compose(scaler.fit_transform, np.tanh, scaler.fit_transform)"
   ]
  },
  {
   "cell_type": "code",
   "execution_count": 28,
   "metadata": {},
   "outputs": [],
   "source": [
    "# x_np_norm = pipeline(x_np)"
   ]
  },
  {
   "cell_type": "code",
   "execution_count": null,
   "metadata": {},
   "outputs": [],
   "source": []
  },
  {
   "cell_type": "code",
   "execution_count": 29,
   "metadata": {},
   "outputs": [
    {
     "data": {
      "text/plain": [
       "926"
      ]
     },
     "execution_count": 29,
     "metadata": {},
     "output_type": "execute_result"
    }
   ],
   "source": [
    "deepsynergy_input_size = x_np.shape[1]\n",
    "deepsynergy_input_size"
   ]
  },
  {
   "cell_type": "code",
   "execution_count": 30,
   "metadata": {},
   "outputs": [],
   "source": [
    "ids = list(range(len(y)))"
   ]
  },
  {
   "cell_type": "code",
   "execution_count": 31,
   "metadata": {},
   "outputs": [
    {
     "data": {
      "text/plain": [
       "<torch.utils.data.dataset.TensorDataset at 0x151dfaddda90>"
      ]
     },
     "execution_count": 31,
     "metadata": {},
     "output_type": "execute_result"
    }
   ],
   "source": [
    "dataset = TensorDataset(torch.tensor(x_np),torch.tensor(y), torch.tensor(ids))\n",
    "dataset"
   ]
  },
  {
   "cell_type": "code",
   "execution_count": 32,
   "metadata": {},
   "outputs": [
    {
     "data": {
      "text/plain": [
       "(418189, 926)"
      ]
     },
     "execution_count": 32,
     "metadata": {},
     "output_type": "execute_result"
    }
   ],
   "source": [
    "x_np.shape"
   ]
  },
  {
   "cell_type": "code",
   "execution_count": 33,
   "metadata": {
    "scrolled": true
   },
   "outputs": [
    {
     "data": {
      "text/plain": [
       "array([     0,      8,      9, ..., 418170, 418172, 418180])"
      ]
     },
     "execution_count": 33,
     "metadata": {},
     "output_type": "execute_result"
    }
   ],
   "source": [
    "fold_partitions[0]['test']"
   ]
  },
  {
   "cell_type": "code",
   "execution_count": 34,
   "metadata": {},
   "outputs": [
    {
     "data": {
      "text/plain": [
       "tensor([[6.3333, 0.0000, 2.6667,  ..., 4.4361, 6.3370, 6.6896],\n",
       "        [5.2727, 0.0000, 3.0909,  ..., 4.4361, 6.3370, 6.6896],\n",
       "        [6.2593, 0.0000, 2.8889,  ..., 4.4361, 6.3370, 6.6896],\n",
       "        ...,\n",
       "        [5.5152, 0.0000, 2.9394,  ..., 3.6550, 6.8683, 6.7297],\n",
       "        [5.6296, 0.0000, 3.0000,  ..., 3.6550, 6.8683, 6.7297],\n",
       "        [5.6842, 0.0000, 3.1053,  ..., 3.6550, 6.8683, 6.7297]],\n",
       "       dtype=torch.float64)"
      ]
     },
     "execution_count": 34,
     "metadata": {},
     "output_type": "execute_result"
    }
   ],
   "source": [
    "foldx = dataset[fold_partitions[0]['test']][0]\n",
    "foldx"
   ]
  },
  {
   "cell_type": "markdown",
   "metadata": {},
   "source": [
    "### Deep Synergy"
   ]
  },
  {
   "cell_type": "code",
   "execution_count": 35,
   "metadata": {},
   "outputs": [],
   "source": [
    "# training params total_thresh 4\n",
    "tp = {\n",
    "    \"batch_size\" : 300,\n",
    "    \"num_epochs\" : 100,\n",
    "    \n",
    "    \"emb_dim\" : 300,\n",
    "    \"gnn_type\" : \"gatv2\",\n",
    "    \"num_layer\" : 5,\n",
    "    \"graph_pooling\" : \"mean\", #attention\n",
    "    \n",
    "    \"input_embed_dim\" : None,\n",
    "    \"gene_embed_dim\": 1,\n",
    "    \"num_attn_heads\" : 2,\n",
    "    \"num_transformer_units\" : 1,\n",
    "    \"p_dropout\" : 0.3,\n",
    "#     \"nonlin_func\" : nn.ReLU(),\n",
    "    \"mlp_embed_factor\" : 2,\n",
    "    \"pooling_mode\" : 'attn',\n",
    "    \"dist_opt\" : 'cosine',\n",
    "\n",
    "    \"base_lr\" : 3e-5, #3e-4\n",
    "    \"max_lr_mul\": 5,\n",
    "    \"l2_reg\" : 1e-5,\n",
    "    \"loss_w\" : 1.,\n",
    "    \"margin_v\" : 1.,\n",
    "\n",
    "    \"expression_dim\" : 64,\n",
    "    \"expression_input_size\" : 908,\n",
    "    \"exp_H1\" : 8192,\n",
    "    \"exp_H2\" : 4096\n",
    "}"
   ]
  },
  {
   "cell_type": "code",
   "execution_count": 36,
   "metadata": {},
   "outputs": [
    {
     "data": {
      "text/plain": [
       "926"
      ]
     },
     "execution_count": 36,
     "metadata": {},
     "output_type": "execute_result"
    }
   ],
   "source": [
    "tp['deepsynergy_input_size'] = deepsynergy_input_size\n",
    "tp['deepsynergy_input_size']"
   ]
  },
  {
   "cell_type": "code",
   "execution_count": 37,
   "metadata": {},
   "outputs": [],
   "source": [
    "def spawn_q_process(q_process):\n",
    "    print(\">>> spawning hyperparam search process\")\n",
    "    q_process.start()\n",
    "    \n",
    "def join_q_process(q_process):\n",
    "    q_process.join()\n",
    "    print(\"<<< joined hyperparam search process\")\n",
    "    \n",
    "def create_q_process(queue, used_dataset, gpu_num, tphp, exp_dir, partition): #\n",
    "#     fold_gpu_map = {0:gpu_num}\n",
    "    return mp.Process(target=deepadr.hyphelperflat.run_exp_flat, args=(queue, used_dataset, gpu_num, tphp, exp_dir, partition)) #\n",
    "\n",
    "# def create_q_process_attr(queue, x_np_norm, gpu_num, tphp, exp_dir, partition, labels): #\n",
    "# #     fold_gpu_map = {0:gpu_num}\n",
    "#     return mp.Process(target=deepadr.hyphelperflat.run_attribution, args=(queue, x_np_norm, gpu_num, tphp, exp_dir, partition, labels)) #"
   ]
  },
  {
   "cell_type": "code",
   "execution_count": 38,
   "metadata": {},
   "outputs": [
    {
     "name": "stdout",
     "output_type": "stream",
     "text": [
      "Start: 2022-09-14_11-32-37\n",
      "path_current_dir /cluster/work/medinfmk/lm1-homes/skyriakos-lm1-home/data_to_migrate/chemprop_run/git/deepadr\n",
      "path_current_dir /cluster/work/medinfmk/lm1-homes/skyriakos-lm1-home/data_to_migrate/chemprop_run/git/deepadr\n",
      "path_current_dir /cluster/work/medinfmk/lm1-homes/skyriakos-lm1-home/data_to_migrate/chemprop_run/git/deepadr\n",
      ">>> spawning hyperparam search process\n",
      "path_current_dir /cluster/work/medinfmk/lm1-homes/skyriakos-lm1-home/data_to_migrate/chemprop_run/git/deepadr\n",
      "path_current_dir /cluster/work/medinfmk/lm1-homes/skyriakos-lm1-home/data_to_migrate/chemprop_run/git/deepadr\n",
      "path_current_dir /cluster/work/medinfmk/lm1-homes/skyriakos-lm1-home/data_to_migrate/chemprop_run/git/deepadr\n",
      ">>> spawning hyperparam search process\n",
      "path_current_dir /cluster/work/medinfmk/lm1-homes/skyriakos-lm1-home/data_to_migrate/chemprop_run/git/deepadr\n",
      "path_current_dir /cluster/work/medinfmk/lm1-homes/skyriakos-lm1-home/data_to_migrate/chemprop_run/git/deepadr\n",
      "path_current_dir /cluster/work/medinfmk/lm1-homes/skyriakos-lm1-home/data_to_migrate/chemprop_run/git/deepadr\n",
      ">>> spawning hyperparam search process\n",
      "gpu: cuda:0\n",
      "Dropout(p=0.5, inplace=False) Dropout(p=0.2, inplace=False)\n",
      "DS model:\n",
      " ExpressionNN(\n",
      "  (fc1): Linear(in_features=926, out_features=8192, bias=True)\n",
      "  (fc2): Linear(in_features=8192, out_features=4096, bias=True)\n",
      "  (fc3): Linear(in_features=4096, out_features=2, bias=True)\n",
      "  (drop_in): Dropout(p=0.2, inplace=False)\n",
      "  (drop): Dropout(p=0.5, inplace=False)\n",
      "  (log_softmax): LogSoftmax(dim=-1)\n",
      ")\n",
      "=====Epoch 0\n",
      "Training...\n"
     ]
    },
    {
     "name": "stderr",
     "output_type": "stream",
     "text": [
      "Iteration:  21%|██        | 211/1004 [00:05<00:17, 45.39it/s]"
     ]
    },
    {
     "name": "stdout",
     "output_type": "stream",
     "text": [
      "path_current_dir /cluster/work/medinfmk/lm1-homes/skyriakos-lm1-home/data_to_migrate/chemprop_run/git/deepadr\n",
      "path_current_dir /cluster/work/medinfmk/lm1-homes/skyriakos-lm1-home/data_to_migrate/chemprop_run/git/deepadr\n",
      "path_current_dir /cluster/work/medinfmk/lm1-homes/skyriakos-lm1-home/data_to_migrate/chemprop_run/git/deepadr\n",
      ">>> spawning hyperparam search process\n"
     ]
    },
    {
     "name": "stderr",
     "output_type": "stream",
     "text": [
      "Iteration:  27%|██▋       | 268/1004 [00:06<00:25, 29.21it/s]"
     ]
    },
    {
     "name": "stdout",
     "output_type": "stream",
     "text": [
      "gpu: cuda:1\n",
      "Dropout(p=0.5, inplace=False) Dropout(p=0.2, inplace=False)\n",
      "DS model:\n",
      " ExpressionNN(\n",
      "  (fc1): Linear(in_features=926, out_features=8192, bias=True)\n",
      "  (fc2): Linear(in_features=8192, out_features=4096, bias=True)\n",
      "  (fc3): Linear(in_features=4096, out_features=2, bias=True)\n",
      "  (drop_in): Dropout(p=0.2, inplace=False)\n",
      "  (drop): Dropout(p=0.5, inplace=False)\n",
      "  (log_softmax): LogSoftmax(dim=-1)\n",
      ")\n",
      "=====Epoch 0\n",
      "Training...\n"
     ]
    },
    {
     "name": "stderr",
     "output_type": "stream",
     "text": [
      "Iteration:  19%|█▉        | 195/1004 [00:04<00:21, 38.00it/s]"
     ]
    },
    {
     "name": "stdout",
     "output_type": "stream",
     "text": [
      "path_current_dir /cluster/work/medinfmk/lm1-homes/skyriakos-lm1-home/data_to_migrate/chemprop_run/git/deepadr\n",
      "path_current_dir /cluster/work/medinfmk/lm1-homes/skyriakos-lm1-home/data_to_migrate/chemprop_run/git/deepadr\n",
      "path_current_dir /cluster/work/medinfmk/lm1-homes/skyriakos-lm1-home/data_to_migrate/chemprop_run/git/deepadr\n",
      ">>> spawning hyperparam search process\n"
     ]
    },
    {
     "name": "stderr",
     "output_type": "stream",
     "text": [
      "\r",
      "Iteration:  48%|████▊     | 479/1004 [00:11<00:13, 40.28it/s]\r",
      "Iteration:  20%|█▉        | 200/1004 [00:05<00:20, 40.00it/s]"
     ]
    },
    {
     "name": "stdout",
     "output_type": "stream",
     "text": [
      "gpu: cuda:2\n",
      "Dropout(p=0.5, inplace=False) Dropout(p=0.2, inplace=False)\n",
      "DS model:\n",
      " ExpressionNN(\n",
      "  (fc1): Linear(in_features=926, out_features=8192, bias=True)\n",
      "  (fc2): Linear(in_features=8192, out_features=4096, bias=True)\n",
      "  (fc3): Linear(in_features=4096, out_features=2, bias=True)\n",
      "  (drop_in): Dropout(p=0.2, inplace=False)\n",
      "  (drop): Dropout(p=0.5, inplace=False)\n",
      "  (log_softmax): LogSoftmax(dim=-1)\n",
      ")\n",
      "=====Epoch 0\n",
      "Training...\n"
     ]
    },
    {
     "name": "stderr",
     "output_type": "stream",
     "text": [
      "Iteration:  48%|████▊     | 486/1004 [00:12<00:12, 39.93it/s]"
     ]
    },
    {
     "name": "stdout",
     "output_type": "stream",
     "text": [
      "gpu: cuda:3\n",
      "Dropout(p=0.5, inplace=False) Dropout(p=0.2, inplace=False)\n",
      "DS model:\n",
      " ExpressionNN(\n",
      "  (fc1): Linear(in_features=926, out_features=8192, bias=True)\n",
      "  (fc2): Linear(in_features=8192, out_features=4096, bias=True)\n",
      "  (fc3): Linear(in_features=4096, out_features=2, bias=True)\n",
      "  (drop_in): Dropout(p=0.2, inplace=False)\n",
      "  (drop): Dropout(p=0.5, inplace=False)\n",
      "  (log_softmax): LogSoftmax(dim=-1)\n",
      ")\n",
      "=====Epoch 0\n",
      "Training...\n"
     ]
    },
    {
     "name": "stderr",
     "output_type": "stream",
     "text": [
      "Iteration: 100%|██████████| 1004/1004 [00:24<00:00, 40.51it/s]\n",
      "Iteration:  73%|███████▎  | 735/1004 [00:18<00:06, 44.63it/s]"
     ]
    },
    {
     "name": "stdout",
     "output_type": "stream",
     "text": [
      "Evaluating...\n"
     ]
    },
    {
     "name": "stderr",
     "output_type": "stream",
     "text": [
      "Iteration:  29%|██▉       | 289/1004 [00:07<00:18, 38.44it/s]"
     ]
    },
    {
     "name": "stdout",
     "output_type": "stream",
     "text": [
      "gpu: cuda:4\n",
      "Dropout(p=0.5, inplace=False) Dropout(p=0.2, inplace=False)\n",
      "DS model:\n",
      " ExpressionNN(\n",
      "  (fc1): Linear(in_features=926, out_features=8192, bias=True)\n",
      "  (fc2): Linear(in_features=8192, out_features=4096, bias=True)\n",
      "  (fc3): Linear(in_features=4096, out_features=2, bias=True)\n",
      "  (drop_in): Dropout(p=0.2, inplace=False)\n",
      "  (drop): Dropout(p=0.5, inplace=False)\n",
      "  (log_softmax): LogSoftmax(dim=-1)\n",
      ")\n",
      "=====Epoch 0\n",
      "Training...\n"
     ]
    },
    {
     "name": "stderr",
     "output_type": "stream",
     "text": [
      "Iteration: 100%|██████████| 1004/1004 [00:24<00:00, 41.06it/s]\n",
      "Iteration:  78%|███████▊  | 786/1004 [00:19<00:05, 42.56it/s]"
     ]
    },
    {
     "name": "stdout",
     "output_type": "stream",
     "text": [
      "Evaluating...\n"
     ]
    },
    {
     "name": "stderr",
     "output_type": "stream",
     "text": [
      "Iteration: 100%|██████████| 1004/1004 [00:24<00:00, 41.16it/s]\n",
      "Iteration:  41%|████      | 411/1004 [00:09<00:13, 42.90it/s]"
     ]
    },
    {
     "name": "stdout",
     "output_type": "stream",
     "text": [
      "Evaluating...\n"
     ]
    },
    {
     "name": "stderr",
     "output_type": "stream",
     "text": [
      "Iteration: 100%|██████████| 1004/1004 [00:24<00:00, 41.59it/s]\n",
      "Iteration:  57%|█████▋    | 574/1004 [00:11<00:08, 52.43it/s]"
     ]
    },
    {
     "name": "stdout",
     "output_type": "stream",
     "text": [
      "Evaluating...\n"
     ]
    },
    {
     "name": "stderr",
     "output_type": "stream",
     "text": [
      "Iteration:  94%|█████████▍| 946/1004 [00:21<00:01, 44.77it/s]]\n",
      "Iteration: 100%|██████████| 1004/1004 [00:23<00:00, 43.25it/s]\n",
      "Iteration:  92%|█████████▏| 920/1004 [00:18<00:01, 49.15it/s]"
     ]
    },
    {
     "name": "stdout",
     "output_type": "stream",
     "text": [
      "Evaluating...\n"
     ]
    },
    {
     "name": "stderr",
     "output_type": "stream",
     "text": [
      "Iteration:  44%|████▍     | 444/1004 [00:08<00:10, 54.82it/s]]\n",
      "Iteration:  78%|███████▊  | 781/1004 [00:15<00:04, 52.17it/s]"
     ]
    },
    {
     "name": "stdout",
     "output_type": "stream",
     "text": [
      "{'Train':  best_epoch_indx:0\n",
      " auc:0.7750985326886991 \n",
      " apur:0.15590908283152705 \n",
      " f1:0.19207396249935074 \n",
      " precision:0.10880950979815218 \n",
      " recall:0.8181415929203539 \n",
      ", 'Validation':  best_epoch_indx:0\n",
      " auc:0.7696552238485634 \n",
      " apur:0.1528283828797844 \n",
      " f1:0.190820770519263 \n",
      " precision:0.10814916078073973 \n",
      " recall:0.8100113765642776 \n",
      "}\n",
      "=====Epoch 1\n",
      "Training...\n"
     ]
    },
    {
     "name": "stderr",
     "output_type": "stream",
     "text": [
      "Iteration:  13%|█▎        | 129/1004 [00:02<00:19, 44.58it/s]\n",
      "Iteration:  27%|██▋       | 269/1004 [00:06<00:16, 44.98it/s]]"
     ]
    },
    {
     "name": "stdout",
     "output_type": "stream",
     "text": [
      "{'Train':  best_epoch_indx:0\n",
      " auc:0.7744881092068435 \n",
      " apur:0.15445717322059802 \n",
      " f1:0.2013875658855655 \n",
      " precision:0.11515487127346671 \n",
      " recall:0.8018331226295828 \n",
      ", 'Validation':  best_epoch_indx:0\n",
      " auc:0.7707796097714271 \n",
      " apur:0.15356375356432597 \n",
      " f1:0.20038645960065843 \n",
      " precision:0.11461318051575932 \n",
      " recall:0.7963594994311718 \n",
      "}\n",
      "=====Epoch 1\n",
      "Training...\n"
     ]
    },
    {
     "name": "stderr",
     "output_type": "stream",
     "text": [
      "Iteration:  76%|███████▌  | 762/1004 [00:15<00:06, 38.12it/s]\n",
      "Iteration:  84%|████████▎ | 840/1004 [00:16<00:03, 49.72it/s]\n",
      "Iteration:  49%|████▊     | 489/1004 [00:11<00:11, 44.74it/s]]\n",
      "Iteration:  67%|██████▋   | 669/1004 [00:13<00:06, 50.11it/s]"
     ]
    },
    {
     "name": "stdout",
     "output_type": "stream",
     "text": [
      "{'Train':  best_epoch_indx:0\n",
      " auc:0.7750011503771066 \n",
      " apur:0.1534551998501332 \n",
      " f1:0.19565888437996432 \n",
      " precision:0.11105603227240095 \n",
      " recall:0.821417283014097 \n",
      ", 'Validation':  best_epoch_indx:0\n",
      " auc:0.7728075205772682 \n",
      " apur:0.15695214741424757 \n",
      " f1:0.19472644273352863 \n",
      " precision:0.11061227649198854 \n",
      " recall:0.8128555176336746 \n",
      "}\n",
      "=====Epoch 1\n",
      "Training...\n"
     ]
    },
    {
     "name": "stderr",
     "output_type": "stream",
     "text": [
      "Iteration:  13%|█▎        | 134/1004 [00:03<00:19, 45.25it/s]\n",
      "Iteration:  28%|██▊       | 279/1004 [00:06<00:16, 43.44it/s]\n",
      "Iteration:  50%|████▉     | 498/1004 [00:11<00:11, 44.98it/s]"
     ]
    },
    {
     "name": "stdout",
     "output_type": "stream",
     "text": [
      "{'Train':  best_epoch_indx:0\n",
      " auc:0.7761896159702093 \n",
      " apur:0.15411029545230875 \n",
      " f1:0.1993073781311633 \n",
      " precision:0.11360839891295688 \n",
      " recall:0.8113028636449838 \n",
      ", 'Validation':  best_epoch_indx:0\n",
      " auc:0.7729671793765264 \n",
      " apur:0.1567087624226526 \n",
      " f1:0.1976207137858642 \n",
      " precision:0.11267156080434089 \n",
      " recall:0.8031854379977247 \n",
      "}\n",
      "=====Epoch 1\n",
      "Training...\n"
     ]
    },
    {
     "name": "stderr",
     "output_type": "stream",
     "text": [
      "Iteration:  66%|██████▌   | 658/1004 [00:14<00:07, 45.14it/s]]\n",
      "Iteration: 100%|██████████| 1004/1004 [00:22<00:00, 43.84it/s]\n",
      "Iteration:  51%|█████     | 514/1004 [00:11<00:11, 43.92it/s]"
     ]
    },
    {
     "name": "stdout",
     "output_type": "stream",
     "text": [
      "Evaluating...\n"
     ]
    },
    {
     "name": "stderr",
     "output_type": "stream",
     "text": [
      "Iteration:  81%|████████  | 813/1004 [00:18<00:04, 44.45it/s]\n",
      "Iteration:  32%|███▏      | 317/1004 [00:07<00:15, 44.53it/s]"
     ]
    },
    {
     "name": "stdout",
     "output_type": "stream",
     "text": [
      "{'Train':  best_epoch_indx:0\n",
      " auc:0.7750504520616042 \n",
      " apur:0.1511225538547309 \n",
      " f1:0.19669999311542374 \n",
      " precision:0.11189048534902138 \n",
      " recall:0.8127054361567636 \n",
      ", 'Validation':  best_epoch_indx:0\n",
      " auc:0.7753130170247926 \n",
      " apur:0.1562013250237561 \n",
      " f1:0.19739190116678107 \n",
      " precision:0.11223852638151732 \n",
      " recall:0.8179749715585893 \n",
      "}\n",
      "=====Epoch 1\n",
      "Training...\n"
     ]
    },
    {
     "name": "stderr",
     "output_type": "stream",
     "text": [
      "Iteration: 100%|██████████| 1004/1004 [00:22<00:00, 43.88it/s]\n",
      "Iteration:   0%|          | 4/1004 [00:00<00:25, 39.56it/s]s]"
     ]
    },
    {
     "name": "stdout",
     "output_type": "stream",
     "text": [
      "Evaluating...\n"
     ]
    },
    {
     "name": "stderr",
     "output_type": "stream",
     "text": [
      "Iteration: 100%|██████████| 1004/1004 [00:22<00:00, 43.81it/s]\n",
      "Iteration:  55%|█████▌    | 556/1004 [00:11<00:09, 45.15it/s]"
     ]
    },
    {
     "name": "stdout",
     "output_type": "stream",
     "text": [
      "Evaluating...\n"
     ]
    },
    {
     "name": "stderr",
     "output_type": "stream",
     "text": [
      "Iteration:  86%|████████▌ | 865/1004 [00:17<00:02, 49.34it/s]]"
     ]
    },
    {
     "name": "stdout",
     "output_type": "stream",
     "text": [
      "Evaluating...\n"
     ]
    },
    {
     "name": "stderr",
     "output_type": "stream",
     "text": [
      "Iteration: 100%|██████████| 1004/1004 [00:23<00:00, 43.51it/s]\n",
      "Iteration:  61%|██████    | 612/1004 [00:12<00:07, 52.18it/s]]\n",
      "Iteration: 100%|██████████| 1004/1004 [00:23<00:00, 43.26it/s]\n",
      "Iteration:  36%|███▌      | 361/1004 [00:07<00:12, 51.74it/s]"
     ]
    },
    {
     "name": "stdout",
     "output_type": "stream",
     "text": [
      "Evaluating...\n"
     ]
    },
    {
     "name": "stderr",
     "output_type": "stream",
     "text": [
      "Iteration:   9%|▉         | 89/1004 [00:01<00:17, 52.17it/s]]]\n",
      "Iteration:  46%|████▋     | 466/1004 [00:09<00:10, 52.61it/s]"
     ]
    },
    {
     "name": "stdout",
     "output_type": "stream",
     "text": [
      "{'Train':  best_epoch_indx:1\n",
      " auc:0.7768869544003552 \n",
      " apur:0.15440384200451496 \n",
      " f1:0.20073885792772456 \n",
      " precision:0.1146921397773809 \n",
      " recall:0.8037294563843237 \n",
      ", 'Validation':  best_epoch_indx:1\n",
      " auc:0.7700926480433838 \n",
      " apur:0.15506610660125447 \n",
      " f1:0.19962978783995444 \n",
      " precision:0.11409505208333333 \n",
      " recall:0.7974971558589306 \n",
      "}\n",
      "=====Epoch 2\n",
      "Training...\n"
     ]
    },
    {
     "name": "stderr",
     "output_type": "stream",
     "text": [
      "Iteration:  60%|██████    | 607/1004 [00:12<00:07, 54.09it/s]\n",
      "Iteration:  26%|██▌       | 259/1004 [00:06<00:16, 45.00it/s]]\n",
      "Iteration:  77%|███████▋  | 775/1004 [00:15<00:04, 52.68it/s]"
     ]
    },
    {
     "name": "stdout",
     "output_type": "stream",
     "text": [
      "{'Train':  best_epoch_indx:1\n",
      " auc:0.7796063321250228 \n",
      " apur:0.1587443938952669 \n",
      " f1:0.208707848352419 \n",
      " precision:0.12068164060568298 \n",
      " recall:0.7713021491782553 \n",
      ", 'Validation':  best_epoch_indx:1\n",
      " auc:0.7744680115690807 \n",
      " apur:0.15988249852881364 \n",
      " f1:0.20600660573008683 \n",
      " precision:0.11908356273865554 \n",
      " recall:0.7627986348122867 \n",
      "}\n",
      "=====Epoch 2\n",
      "Training...\n"
     ]
    },
    {
     "name": "stderr",
     "output_type": "stream",
     "text": [
      "Iteration:  48%|████▊     | 482/1004 [00:09<00:09, 52.60it/s]\n",
      "Iteration: 100%|█████████▉| 1001/1004 [00:20<00:00, 48.36it/s]\n",
      "Iteration:  47%|████▋     | 474/1004 [00:11<00:11, 44.48it/s]]"
     ]
    },
    {
     "name": "stdout",
     "output_type": "stream",
     "text": [
      "{'Train':  best_epoch_indx:1\n",
      " auc:0.7803771582674641 \n",
      " apur:0.1607333014446002 \n",
      " f1:0.1968703212518715 \n",
      " precision:0.11188666205943332 \n",
      " recall:0.8187622479297048 \n",
      ", 'Validation':  best_epoch_indx:1\n",
      " auc:0.774549079190262 \n",
      " apur:0.15998865777670962 \n",
      " f1:0.1964101506086239 \n",
      " precision:0.11171086599389815 \n",
      " recall:0.8122866894197952 \n",
      "}\n",
      "=====Epoch 2\n",
      "Training...\n"
     ]
    },
    {
     "name": "stderr",
     "output_type": "stream",
     "text": [
      "Iteration:  13%|█▎        | 133/1004 [00:03<00:19, 44.97it/s]\n",
      "Iteration:  94%|█████████▍| 942/1004 [00:19<00:01, 46.87it/s]\n",
      "Iteration:  49%|████▊     | 487/1004 [00:11<00:11, 44.62it/s]"
     ]
    },
    {
     "name": "stdout",
     "output_type": "stream",
     "text": [
      "{'Train':  best_epoch_indx:1\n",
      " auc:0.7760625698107768 \n",
      " apur:0.15709066016490061 \n",
      " f1:0.2124892696023817 \n",
      " precision:0.1241847507018349 \n",
      " recall:0.7354447183766357 \n",
      ", 'Validation':  best_epoch_indx:1\n",
      " auc:0.7691098410905939 \n",
      " apur:0.15822415890889865 \n",
      " f1:0.20843874969395249 \n",
      " precision:0.12167698904240114 \n",
      " recall:0.7263936291240045 \n",
      "}\n",
      "=====Epoch 2\n",
      "Training...\n"
     ]
    },
    {
     "name": "stderr",
     "output_type": "stream",
     "text": [
      "Iteration:  67%|██████▋   | 677/1004 [00:15<00:07, 44.97it/s]]\n",
      "Iteration: 100%|██████████| 1004/1004 [00:23<00:00, 43.18it/s]\n",
      "Iteration:  75%|███████▌  | 757/1004 [00:17<00:05, 44.36it/s]"
     ]
    },
    {
     "name": "stdout",
     "output_type": "stream",
     "text": [
      "Evaluating...\n"
     ]
    },
    {
     "name": "stderr",
     "output_type": "stream",
     "text": [
      "Iteration:   5%|▍         | 47/1004 [00:00<00:17, 55.20it/s]]\n",
      "Iteration:   0%|          | 4/1004 [00:00<00:28, 34.85it/s]s]"
     ]
    },
    {
     "name": "stdout",
     "output_type": "stream",
     "text": [
      "{'Train':  best_epoch_indx:1\n",
      " auc:0.7774048450056901 \n",
      " apur:0.15452425310803153 \n",
      " f1:0.20770561674473562 \n",
      " precision:0.11985584181561389 \n",
      " recall:0.7778128950695322 \n",
      ", 'Validation':  best_epoch_indx:1\n",
      " auc:0.7717479977239694 \n",
      " apur:0.1498830814796027 \n",
      " f1:0.20880541403695535 \n",
      " precision:0.12051259545334855 \n",
      " recall:0.7810011376564278 \n",
      "}\n",
      "=====Epoch 2\n",
      "Training...\n"
     ]
    },
    {
     "name": "stderr",
     "output_type": "stream",
     "text": [
      "Iteration: 100%|██████████| 1004/1004 [00:23<00:00, 43.48it/s]\n",
      "Iteration:  30%|██▉       | 297/1004 [00:05<00:14, 49.63it/s]"
     ]
    },
    {
     "name": "stdout",
     "output_type": "stream",
     "text": [
      "Evaluating...\n"
     ]
    },
    {
     "name": "stderr",
     "output_type": "stream",
     "text": [
      "Iteration: 100%|██████████| 1004/1004 [00:23<00:00, 43.48it/s]\n",
      "Iteration:   0%|          | 4/1004 [00:00<00:26, 38.19it/s]s]"
     ]
    },
    {
     "name": "stdout",
     "output_type": "stream",
     "text": [
      "Evaluating...\n"
     ]
    },
    {
     "name": "stderr",
     "output_type": "stream",
     "text": [
      "Iteration:  32%|███▏      | 325/1004 [00:06<00:14, 48.01it/s]]\n",
      "Iteration:  85%|████████▌ | 857/1004 [00:17<00:03, 48.74it/s]"
     ]
    },
    {
     "name": "stdout",
     "output_type": "stream",
     "text": [
      "Evaluating...\n"
     ]
    },
    {
     "name": "stderr",
     "output_type": "stream",
     "text": [
      "Iteration:  64%|██████▎   | 640/1004 [00:13<00:06, 53.77it/s]]\n",
      "Iteration: 100%|██████████| 1004/1004 [00:23<00:00, 43.02it/s]\n",
      "Iteration:  67%|██████▋   | 668/1004 [00:13<00:06, 49.45it/s]"
     ]
    },
    {
     "name": "stdout",
     "output_type": "stream",
     "text": [
      "Evaluating...\n"
     ]
    },
    {
     "name": "stderr",
     "output_type": "stream",
     "text": [
      "Iteration:  80%|███████▉  | 802/1004 [00:16<00:03, 55.26it/s]]\n",
      "Iteration:   0%|          | 4/1004 [00:00<00:28, 35.59it/s]s]"
     ]
    },
    {
     "name": "stdout",
     "output_type": "stream",
     "text": [
      "{'Train':  best_epoch_indx:2\n",
      " auc:0.7795360236939516 \n",
      " apur:0.15840596390873105 \n",
      " f1:0.2117781088423451 \n",
      " precision:0.12293213958693662 \n",
      " recall:0.7637800252844501 \n",
      ", 'Validation':  best_epoch_indx:2\n",
      " auc:0.7734635357391296 \n",
      " apur:0.15641629047618855 \n",
      " f1:0.2112232030264817 \n",
      " precision:0.12259835315645014 \n",
      " recall:0.7622298065984073 \n",
      "}\n",
      "=====Epoch 3\n",
      "Training...\n"
     ]
    },
    {
     "name": "stderr",
     "output_type": "stream",
     "text": [
      "Iteration:  27%|██▋       | 269/1004 [00:05<00:14, 51.80it/s]\n",
      "Iteration:  39%|███▊      | 389/1004 [00:07<00:14, 41.38it/s]]\n",
      "Iteration:  22%|██▏       | 224/1004 [00:05<00:17, 44.75it/s]"
     ]
    },
    {
     "name": "stdout",
     "output_type": "stream",
     "text": [
      "{'Train':  best_epoch_indx:2\n",
      " auc:0.7809609408314842 \n",
      " apur:0.156835898869307 \n",
      " f1:0.21646711620001122 \n",
      " precision:0.126997172726675 \n",
      " recall:0.7325537294563843 \n",
      ", 'Validation':  best_epoch_indx:2\n",
      " auc:0.7725688668320356 \n",
      " apur:0.1573432149637014 \n",
      " f1:0.21225107133854298 \n",
      " precision:0.12451937296657793 \n",
      " recall:0.7184300341296929 \n",
      "}\n",
      "=====Epoch 3\n",
      "Training...\n"
     ]
    },
    {
     "name": "stderr",
     "output_type": "stream",
     "text": [
      "Iteration:  50%|████▉     | 499/1004 [00:09<00:09, 53.63it/s]\n",
      "Iteration: 100%|█████████▉| 1001/1004 [00:19<00:00, 50.95it/s]\n",
      "Iteration:  23%|██▎       | 229/1004 [00:05<00:18, 42.57it/s]"
     ]
    },
    {
     "name": "stdout",
     "output_type": "stream",
     "text": [
      "{'Train':  best_epoch_indx:2\n",
      " auc:0.7795818269706418 \n",
      " apur:0.1593246277797571 \n",
      " f1:0.20277889326158538 \n",
      " precision:0.11614577103900046 \n",
      " recall:0.798027688223023 \n",
      ", 'Validation':  best_epoch_indx:2\n",
      " auc:0.7782352647507897 \n",
      " apur:0.16201793039145562 \n",
      " f1:0.2021739130434783 \n",
      " precision:0.11584454409566518 \n",
      " recall:0.7935153583617748 \n",
      "}\n",
      "=====Epoch 3\n",
      "Training...\n"
     ]
    },
    {
     "name": "stderr",
     "output_type": "stream",
     "text": [
      "Iteration:  82%|████████▏ | 822/1004 [00:16<00:03, 52.14it/s]]\n",
      "Iteration:  73%|███████▎  | 729/1004 [00:16<00:06, 43.99it/s]\n",
      "Iteration:   0%|          | 0/1004 [00:00<?, ?it/s]"
     ]
    },
    {
     "name": "stdout",
     "output_type": "stream",
     "text": [
      "{'Train':  best_epoch_indx:2\n",
      " auc:0.7818099833784002 \n",
      " apur:0.15930485652434495 \n",
      " f1:0.2053425791591872 \n",
      " precision:0.11796726375468534 \n",
      " recall:0.7918326063594412 \n",
      ", 'Validation':  best_epoch_indx:2\n",
      " auc:0.7757562554773357 \n",
      " apur:0.16315413997304715 \n",
      " f1:0.20334981184977494 \n",
      " precision:0.11682916490038152 \n",
      " recall:0.7838452787258248 \n",
      "}\n",
      "=====Epoch 3\n",
      "Training...\n"
     ]
    },
    {
     "name": "stderr",
     "output_type": "stream",
     "text": [
      "Iteration:  15%|█▌        | 153/1004 [00:03<00:18, 44.93it/s]]\n",
      "Iteration:  27%|██▋       | 273/1004 [00:06<00:16, 44.17it/s]\n",
      "Iteration: 100%|██████████| 1004/1004 [00:23<00:00, 43.60it/s]\n",
      "Iteration:   0%|          | 0/1004 [00:00<?, ?it/s]"
     ]
    },
    {
     "name": "stdout",
     "output_type": "stream",
     "text": [
      "{'Train':  best_epoch_indx:2\n",
      " auc:0.7756591062016567 \n",
      " apur:0.1515339631396084 \n",
      " f1:0.20456286921917097 \n",
      " precision:0.11761139164953435 \n",
      " recall:0.7847029077117572 \n",
      ", 'Validation':  best_epoch_indx:2\n",
      " auc:0.7698244743785401 \n",
      " apur:0.14817826140336546 \n",
      " f1:0.20483536042717293 \n",
      " precision:0.11777247143100801 \n",
      " recall:0.785551763367463 \n",
      "}\n",
      "=====Epoch 3\n",
      "Training...\n",
      "Evaluating...\n"
     ]
    },
    {
     "name": "stderr",
     "output_type": "stream",
     "text": [
      "Iteration: 100%|██████████| 1004/1004 [00:22<00:00, 43.81it/s]\n",
      "Iteration:  25%|██▍       | 246/1004 [00:04<00:15, 48.95it/s]"
     ]
    },
    {
     "name": "stdout",
     "output_type": "stream",
     "text": [
      "Evaluating...\n"
     ]
    },
    {
     "name": "stderr",
     "output_type": "stream",
     "text": [
      "Iteration: 100%|██████████| 1004/1004 [00:22<00:00, 43.65it/s]\n",
      "Iteration:   0%|          | 0/1004 [00:00<?, ?it/s]"
     ]
    },
    {
     "name": "stdout",
     "output_type": "stream",
     "text": [
      "Evaluating...\n"
     ]
    },
    {
     "name": "stderr",
     "output_type": "stream",
     "text": [
      "Iteration: 100%|██████████| 1004/1004 [00:23<00:00, 43.28it/s]\n",
      "Iteration:  82%|████████▏ | 819/1004 [00:17<00:04, 45.51it/s]"
     ]
    },
    {
     "name": "stdout",
     "output_type": "stream",
     "text": [
      "Evaluating...\n"
     ]
    },
    {
     "name": "stderr",
     "output_type": "stream",
     "text": [
      "Iteration: 100%|██████████| 1004/1004 [00:23<00:00, 42.98it/s]\n",
      "Iteration:  89%|████████▉ | 895/1004 [00:18<00:02, 47.44it/s]"
     ]
    },
    {
     "name": "stdout",
     "output_type": "stream",
     "text": [
      "Evaluating...\n"
     ]
    },
    {
     "name": "stderr",
     "output_type": "stream",
     "text": [
      "Iteration:  92%|█████████▏| 919/1004 [00:19<00:02, 42.06it/s]\n",
      "Iteration:  20%|██        | 204/1004 [00:03<00:13, 57.67it/s]]\n",
      "Iteration:  53%|█████▎    | 528/1004 [00:10<00:08, 54.62it/s]"
     ]
    },
    {
     "name": "stdout",
     "output_type": "stream",
     "text": [
      "{'Train':  best_epoch_indx:3\n",
      " auc:0.7799304189040207 \n",
      " apur:0.15728224246660163 \n",
      " f1:0.21088611082412098 \n",
      " precision:0.12206961167371023 \n",
      " recall:0.7741466498103666 \n",
      ", 'Validation':  best_epoch_indx:3\n",
      " auc:0.7775631257908915 \n",
      " apur:0.158610158541761 \n",
      " f1:0.21015843429636533 \n",
      " precision:0.12169454937938479 \n",
      " recall:0.7696245733788396 \n",
      "}\n",
      "=====Epoch 4\n",
      "Training...\n"
     ]
    },
    {
     "name": "stderr",
     "output_type": "stream",
     "text": [
      "Iteration:  91%|█████████▏| 917/1004 [00:18<00:01, 45.30it/s]\n",
      "Iteration:  42%|████▏     | 425/1004 [00:08<00:09, 59.85it/s]]\n",
      "Iteration:  19%|█▊        | 188/1004 [00:04<00:22, 36.93it/s]"
     ]
    },
    {
     "name": "stdout",
     "output_type": "stream",
     "text": [
      "{'Train':  best_epoch_indx:3\n",
      " auc:0.7836115945301299 \n",
      " apur:0.1611248166766453 \n",
      " f1:0.21277038810943072 \n",
      " precision:0.12331164325009303 \n",
      " recall:0.775031605562579 \n",
      ", 'Validation':  best_epoch_indx:3\n",
      " auc:0.7772193936935116 \n",
      " apur:0.1550626924529605 \n",
      " f1:0.21046892039258452 \n",
      " precision:0.12193140794223827 \n",
      " recall:0.7684869169510807 \n",
      "}\n",
      "=====Epoch 4\n",
      "Training...\n"
     ]
    },
    {
     "name": "stderr",
     "output_type": "stream",
     "text": [
      "Iteration:  10%|▉         | 97/1004 [00:02<00:20, 44.77it/s]]\n",
      "Iteration:  39%|███▉      | 393/1004 [00:09<00:13, 44.35it/s]"
     ]
    },
    {
     "name": "stdout",
     "output_type": "stream",
     "text": [
      "{'Train':  best_epoch_indx:3\n",
      " auc:0.7858283038604255 \n",
      " apur:0.16451434763681894 \n",
      " f1:0.19564451969105606 \n",
      " precision:0.11097324676207634 \n",
      " recall:0.8254630507617422 \n",
      ", 'Validation':  best_epoch_indx:3\n",
      " auc:0.7802575676691668 \n",
      " apur:0.16075714560233656 \n",
      " f1:0.19613951913308497 \n",
      " precision:0.11132467133082187 \n",
      " recall:0.8236632536973834 \n",
      "}\n",
      "=====Epoch 4\n",
      "Training...\n"
     ]
    },
    {
     "name": "stderr",
     "output_type": "stream",
     "text": [
      "\n",
      "Iteration:  56%|█████▌    | 558/1004 [00:12<00:09, 45.05it/s]]\n",
      "Iteration:  67%|██████▋   | 673/1004 [00:15<00:07, 44.66it/s]"
     ]
    },
    {
     "name": "stdout",
     "output_type": "stream",
     "text": [
      "{'Train':  best_epoch_indx:3\n",
      " auc:0.7829800225290966 \n",
      " apur:0.15967185115864427 \n",
      " f1:0.2172054013558207 \n",
      " precision:0.1269503924814439 \n",
      " recall:0.7514381440040457 \n",
      ", 'Validation':  best_epoch_indx:3\n",
      " auc:0.7749557990796389 \n",
      " apur:0.15717001100822478 \n",
      " f1:0.2153317516158063 \n",
      " precision:0.12575250836120402 \n",
      " recall:0.7485779294653014 \n",
      "}\n",
      "=====Epoch 4\n",
      "Training...\n"
     ]
    },
    {
     "name": "stderr",
     "output_type": "stream",
     "text": [
      "\n",
      "Iteration:  16%|█▌        | 159/1004 [00:03<00:18, 45.03it/s]]\n",
      "Iteration:  76%|███████▋  | 767/1004 [00:17<00:05, 44.87it/s]\n",
      "Iteration:  95%|█████████▍| 953/1004 [00:21<00:01, 38.80it/s]"
     ]
    },
    {
     "name": "stdout",
     "output_type": "stream",
     "text": [
      "{'Train':  best_epoch_indx:3\n",
      " auc:0.779584313310069 \n",
      " apur:0.1484058197939022 \n",
      " f1:0.20613293497709997 \n",
      " precision:0.1184466202577018 \n",
      " recall:0.7937420986093553 \n",
      ", 'Validation':  best_epoch_indx:3\n",
      " auc:0.7737026470879793 \n",
      " apur:0.14318976827158636 \n",
      " f1:0.20598890942698708 \n",
      " precision:0.11838191552647234 \n",
      " recall:0.7923777019340159 \n",
      "}\n",
      "=====Epoch 4\n",
      "Training...\n"
     ]
    },
    {
     "name": "stderr",
     "output_type": "stream",
     "text": [
      "Iteration: 100%|██████████| 1004/1004 [00:23<00:00, 43.48it/s]\n",
      "Iteration:   0%|          | 4/1004 [00:00<00:25, 39.92it/s]s]"
     ]
    },
    {
     "name": "stdout",
     "output_type": "stream",
     "text": [
      "Evaluating...\n"
     ]
    },
    {
     "name": "stderr",
     "output_type": "stream",
     "text": [
      "Iteration: 100%|██████████| 1004/1004 [00:22<00:00, 43.81it/s]\n",
      "Iteration:   0%|          | 0/1004 [00:00<?, ?it/s]"
     ]
    },
    {
     "name": "stdout",
     "output_type": "stream",
     "text": [
      "Evaluating...\n"
     ]
    },
    {
     "name": "stderr",
     "output_type": "stream",
     "text": [
      "Iteration: 100%|██████████| 1004/1004 [00:23<00:00, 43.62it/s]\n",
      "Iteration:  45%|████▌     | 454/1004 [00:09<00:11, 49.78it/s]"
     ]
    },
    {
     "name": "stdout",
     "output_type": "stream",
     "text": [
      "Evaluating...\n"
     ]
    },
    {
     "name": "stderr",
     "output_type": "stream",
     "text": [
      "Iteration: 100%|██████████| 1004/1004 [00:23<00:00, 43.11it/s]\n",
      "Iteration:  77%|███████▋  | 773/1004 [00:15<00:04, 49.95it/s]"
     ]
    },
    {
     "name": "stdout",
     "output_type": "stream",
     "text": [
      "Evaluating...\n"
     ]
    },
    {
     "name": "stderr",
     "output_type": "stream",
     "text": [
      "Iteration: 100%|██████████| 1004/1004 [00:23<00:00, 42.76it/s]\n",
      "Iteration:   0%|          | 0/1004 [00:00<?, ?it/s]"
     ]
    },
    {
     "name": "stdout",
     "output_type": "stream",
     "text": [
      "Evaluating...\n"
     ]
    },
    {
     "name": "stderr",
     "output_type": "stream",
     "text": [
      "Iteration:  39%|███▊      | 388/1004 [00:07<00:13, 45.14it/s]\n",
      "Iteration:  53%|█████▎    | 531/1004 [00:10<00:07, 59.20it/s]]\n",
      "Iteration:  22%|██▏       | 225/1004 [00:04<00:13, 57.61it/s]"
     ]
    },
    {
     "name": "stdout",
     "output_type": "stream",
     "text": [
      "{'Train':  best_epoch_indx:4\n",
      " auc:0.7781803151770625 \n",
      " apur:0.15918493503623177 \n",
      " f1:0.21042711923563545 \n",
      " precision:0.12206306625499823 \n",
      " recall:0.7621997471554993 \n",
      ", 'Validation':  best_epoch_indx:4\n",
      " auc:0.7711696046972311 \n",
      " apur:0.15673523925862226 \n",
      " f1:0.20900220333648095 \n",
      " precision:0.12127853881278539 \n",
      " recall:0.7554038680318543 \n",
      "}\n",
      "Finished training and validating!\n"
     ]
    },
    {
     "name": "stderr",
     "output_type": "stream",
     "text": [
      "Iteration:  93%|█████████▎| 938/1004 [00:18<00:01, 57.27it/s]\n",
      "Iteration:  43%|████▎     | 435/1004 [00:08<00:08, 63.51it/s]]\n",
      "Iteration:  75%|███████▍  | 752/1004 [00:14<00:03, 63.80it/s]"
     ]
    },
    {
     "name": "stdout",
     "output_type": "stream",
     "text": [
      "{'Train':  best_epoch_indx:4\n",
      " auc:0.7843013716553804 \n",
      " apur:0.16014236079601588 \n",
      " f1:0.21698674254554107 \n",
      " precision:0.12685473431967223 \n",
      " recall:0.7495575221238938 \n",
      ", 'Validation':  best_epoch_indx:4\n",
      " auc:0.7745244403758997 \n",
      " apur:0.1553613065680759 \n",
      " f1:0.21440370003303602 \n",
      " precision:0.12541062801932368 \n",
      " recall:0.7383390216154722 \n",
      "}\n",
      "Finished training and validating!\n"
     ]
    },
    {
     "name": "stderr",
     "output_type": "stream",
     "text": [
      "Iteration:  52%|█████▏    | 524/1004 [00:10<00:08, 56.65it/s]\n",
      "Iteration:  58%|█████▊    | 163/279 [00:03<00:02, 49.77it/s]]\n",
      "Iteration:  60%|██████    | 603/1004 [00:11<00:07, 50.45it/s]"
     ]
    },
    {
     "name": "stdout",
     "output_type": "stream",
     "text": [
      "{'Test':  best_epoch_indx:4\n",
      " auc:0.7774664393952988 \n",
      " apur:0.15346113016644883 \n",
      " f1:0.20993927376378735 \n",
      " precision:0.12151208665088588 \n",
      " recall:0.7710514337733273 \n",
      "}\n",
      "Finished testing!\n"
     ]
    },
    {
     "name": "stderr",
     "output_type": "stream",
     "text": [
      "Iteration:  79%|███████▉  | 221/279 [00:04<00:00, 60.29it/s]]"
     ]
    },
    {
     "name": "stdout",
     "output_type": "stream",
     "text": [
      "<<< joined hyperparam search process\n",
      "released_gpu_num: 0\n"
     ]
    },
    {
     "name": "stderr",
     "output_type": "stream",
     "text": [
      "Iteration: 100%|██████████| 279/279 [00:04<00:00, 56.03it/s]]]\n",
      "Iteration:   0%|          | 0/279 [00:00<?, ?it/s]"
     ]
    },
    {
     "name": "stdout",
     "output_type": "stream",
     "text": [
      "{'Train':  best_epoch_indx:4\n",
      " auc:0.7847607488532076 \n",
      " apur:0.16622104432369642 \n",
      " f1:0.20765489182224212 \n",
      " precision:0.11949037782990979 \n",
      " recall:0.792085466843669 \n",
      ", 'Validation':  best_epoch_indx:4\n",
      " auc:0.7810268262673232 \n",
      " apur:0.16255431118063834 \n",
      " f1:0.20668556931801224 \n",
      " precision:0.11894537959464102 \n",
      " recall:0.7878270762229806 \n",
      "}\n",
      "Finished training and validating!\n"
     ]
    },
    {
     "name": "stderr",
     "output_type": "stream",
     "text": [
      "Iteration:  38%|███▊      | 107/279 [00:01<00:02, 73.90it/s]]\n",
      "Iteration:  41%|████      | 115/279 [00:01<00:02, 73.50it/s]]"
     ]
    },
    {
     "name": "stdout",
     "output_type": "stream",
     "text": [
      "{'Test':  best_epoch_indx:4\n",
      " auc:0.7758487368812336 \n",
      " apur:0.15750574869404904 \n",
      " f1:0.20612232378381695 \n",
      " precision:0.1191151446398185 \n",
      " recall:0.7646791078743741 \n",
      "}\n",
      "Finished testing!\n"
     ]
    },
    {
     "name": "stderr",
     "output_type": "stream",
     "text": [
      "Iteration:  65%|██████▍   | 181/279 [00:02<00:01, 78.04it/s]]"
     ]
    },
    {
     "name": "stdout",
     "output_type": "stream",
     "text": [
      "<<< joined hyperparam search process\n",
      "released_gpu_num: 1\n"
     ]
    },
    {
     "name": "stderr",
     "output_type": "stream",
     "text": [
      "Iteration:  90%|█████████ | 907/1004 [00:15<00:01, 75.48it/s]\n",
      "Iteration: 100%|██████████| 112/112 [00:01<00:00, 70.01it/s]s]\n",
      "\n",
      "Iteration:   0%|          | 0/279 [00:00<?, ?it/s]"
     ]
    },
    {
     "name": "stdout",
     "output_type": "stream",
     "text": [
      "{'Test':  best_epoch_indx:4\n",
      " auc:0.7759754707934066 \n",
      " apur:0.15546169455843387 \n",
      " f1:0.20482935867551252 \n",
      " precision:0.11790002408229264 \n",
      " recall:0.779749715585893 \n",
      "}\n",
      "Finished testing!\n",
      "{'Train':  best_epoch_indx:4\n",
      " auc:0.78282162053861 \n",
      " apur:0.1621679655179293 \n",
      " f1:0.2077642401000555 \n",
      " precision:0.11954553253140668 \n",
      " recall:0.7928440482963525 \n",
      ", 'Validation':  best_epoch_indx:4\n",
      " auc:0.7771718567530558 \n",
      " apur:0.1632697973115722 \n",
      " f1:0.20426287744227356 \n",
      " precision:0.11740684022460439 \n",
      " recall:0.7849829351535836 \n",
      "}\n",
      "Finished training and validating!\n"
     ]
    },
    {
     "name": "stderr",
     "output_type": "stream",
     "text": [
      "Iteration:  19%|█▉        | 54/279 [00:00<00:02, 78.98it/s]"
     ]
    },
    {
     "name": "stdout",
     "output_type": "stream",
     "text": [
      "<<< joined hyperparam search process\n",
      "released_gpu_num: 2\n"
     ]
    },
    {
     "name": "stderr",
     "output_type": "stream",
     "text": [
      "Iteration:  39%|███▉      | 110/279 [00:01<00:02, 74.70it/s]\n",
      "Iteration:  94%|█████████▎| 261/279 [00:03<00:00, 79.80it/s]\n",
      "Iteration:   0%|          | 0/279 [00:00<?, ?it/s]"
     ]
    },
    {
     "name": "stdout",
     "output_type": "stream",
     "text": [
      "{'Train':  best_epoch_indx:4\n",
      " auc:0.7811470761856654 \n",
      " apur:0.15605398476758314 \n",
      " f1:0.20155555555555554 \n",
      " precision:0.11524777636594663 \n",
      " recall:0.8026548672566372 \n",
      ", 'Validation':  best_epoch_indx:4\n",
      " auc:0.7737281024107564 \n",
      " apur:0.15395502420764118 \n",
      " f1:0.20186889221770454 \n",
      " precision:0.11540657368893238 \n",
      " recall:0.8048919226393629 \n",
      "}\n",
      "Finished training and validating!\n"
     ]
    },
    {
     "name": "stderr",
     "output_type": "stream",
     "text": [
      "Iteration:  44%|████▍     | 123/279 [00:01<00:01, 85.84it/s]\n"
     ]
    },
    {
     "name": "stdout",
     "output_type": "stream",
     "text": [
      "{'Test':  best_epoch_indx:4\n",
      " auc:0.7771042577419549 \n",
      " apur:0.16091917258874355 \n",
      " f1:0.20479095372712394 \n",
      " precision:0.11780212256076686 \n",
      " recall:0.7829351535836178 \n",
      "}\n",
      "Finished testing!\n"
     ]
    },
    {
     "name": "stderr",
     "output_type": "stream",
     "text": [
      "Iteration:  70%|███████   | 196/279 [00:02<00:00, 87.98it/s]"
     ]
    },
    {
     "name": "stdout",
     "output_type": "stream",
     "text": [
      "<<< joined hyperparam search process\n",
      "released_gpu_num: 3\n"
     ]
    },
    {
     "name": "stderr",
     "output_type": "stream",
     "text": [
      "Iteration: 100%|██████████| 279/279 [00:03<00:00, 86.78it/s] \n"
     ]
    },
    {
     "name": "stdout",
     "output_type": "stream",
     "text": [
      "{'Test':  best_epoch_indx:4\n",
      " auc:0.7761053543001355 \n",
      " apur:0.15341985404462208 \n",
      " f1:0.19597559965773279 \n",
      " precision:0.11151248625726402 \n",
      " recall:0.8079198907601275 \n",
      "}\n",
      "Finished testing!\n",
      "<<< joined hyperparam search process\n",
      "released_gpu_num: 4\n"
     ]
    }
   ],
   "source": [
    "import torch.multiprocessing as mp\n",
    "mp.set_start_method(\"spawn\", force=True)\n",
    "\n",
    "queue = mp.Queue()\n",
    "q_processes = []\n",
    "\n",
    "# partition = fold_partitions[0]\n",
    "time_stamp = datetime.datetime.now().strftime('%Y-%m-%d_%H-%M-%S')\n",
    "\n",
    "print(\"Start: \" + time_stamp)\n",
    "\n",
    "for q_i in range(min(n_gpu, len(fold_partitions))):\n",
    "#     device_gpu = get_device(True, index=q_i)\n",
    "    partition = fold_partitions[q_i]\n",
    "    exp_dir = create_directory(os.path.join(targetdata_dir_exp, \"fold_\"+str(q_i)+\"_\"+time_stamp))\n",
    "    create_directory(os.path.join(exp_dir, \"predictions\"))\n",
    "    create_directory(os.path.join(exp_dir, \"modelstates\"))\n",
    "\n",
    "#     tphp = generate_tp_hp(tp, hyperparam_space[q_i], hp_names)\n",
    "    \n",
    "    q_process = create_q_process(queue, dataset, q_i, tp, exp_dir, partition)\n",
    "    q_processes.append(q_process)\n",
    "    spawn_q_process(q_process)\n",
    "\n",
    "spawned_processes = n_gpu\n",
    "    \n",
    "# for q_i in range(len(hyperparam_space)):\n",
    "for q_i in range(min(n_gpu, len(fold_partitions))):\n",
    "    join_q_process(q_processes[q_i])\n",
    "    released_gpu_num = queue.get()\n",
    "    print(\"released_gpu_num:\", released_gpu_num)\n",
    "#     if(spawned_processes < len(hyperparam_space)):\n",
    "# #         device_gpu = get_device(True, index=q_i)\n",
    "#         time_stamp = datetime.datetime.now().strftime('%Y-%m-%d_%H-%M-%S')\n",
    "#         exp_dir = create_directory(os.path.join(targetdata_dir_exp, \"exp_\"+str(q_i)+\"_\"+time_stamp))\n",
    "#         tphp = generate_tp_hp(tp, hyperparam_space[q_i], hp_names)\n",
    "\n",
    "#         q_process = create_q_process(queue, used_dataset, released_gpu_num, tphp, exp_dir, partition)\n",
    "#         q_processes.append(q_process)\n",
    "#         spawn_q_process(q_process)\n",
    "#         spawned_processes = spawned_processes + 1"
   ]
  },
  {
   "cell_type": "code",
   "execution_count": 39,
   "metadata": {},
   "outputs": [
    {
     "name": "stdout",
     "output_type": "stream",
     "text": [
      "End: 2022-09-14_11-37-24\n"
     ]
    }
   ],
   "source": [
    "print(\"End: \" + datetime.datetime.now().strftime('%Y-%m-%d_%H-%M-%S'))"
   ]
  },
  {
   "cell_type": "code",
   "execution_count": null,
   "metadata": {},
   "outputs": [],
   "source": []
  }
 ],
 "metadata": {
  "kernelspec": {
   "display_name": "Python 3 (ipykernel)",
   "language": "python",
   "name": "python3"
  },
  "language_info": {
   "codemirror_mode": {
    "name": "ipython",
    "version": 3
   },
   "file_extension": ".py",
   "mimetype": "text/x-python",
   "name": "python",
   "nbconvert_exporter": "python",
   "pygments_lexer": "ipython3",
   "version": "3.8.10"
  }
 },
 "nbformat": 4,
 "nbformat_minor": 4
}
