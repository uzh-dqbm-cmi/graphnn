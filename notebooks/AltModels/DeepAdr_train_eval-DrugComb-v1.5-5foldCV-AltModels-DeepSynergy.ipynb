{
 "cells": [
  {
   "cell_type": "code",
   "execution_count": 1,
   "metadata": {
    "scrolled": false
   },
   "outputs": [],
   "source": [
    "%load_ext autoreload\n",
    "%autoreload 2"
   ]
  },
  {
   "cell_type": "code",
   "execution_count": 2,
   "metadata": {},
   "outputs": [],
   "source": [
    "import os\n",
    "import sys\n",
    "import numpy as np\n",
    "import pandas as pd\n",
    "import datetime\n",
    "import seaborn as sns\n",
    "import ogb\n",
    "from tqdm import tqdm\n",
    "import hiplot as hip\n",
    "from copy import deepcopy\n",
    "import datetime"
   ]
  },
  {
   "cell_type": "code",
   "execution_count": 3,
   "metadata": {},
   "outputs": [],
   "source": [
    "import torch\n",
    "from torch_geometric.data import Data\n",
    "from torch_geometric.loader import DataLoader\n",
    "from torch.utils.data import Subset, TensorDataset"
   ]
  },
  {
   "cell_type": "code",
   "execution_count": 4,
   "metadata": {},
   "outputs": [
    {
     "name": "stdout",
     "output_type": "stream",
     "text": [
      "/opt/data/chemprop_run/git/notebooks/AltModels\n",
      "/opt/data/chemprop_run/git\n"
     ]
    }
   ],
   "source": [
    "cwd = os.getcwd()\n",
    "print(cwd)\n",
    "# cwd_parent = os.path.abspath(os.path.join(cwd, os.pardir))\n",
    "cwd_parent = os.path.abspath(os.path.join(cwd, '../../'))\n",
    "print(cwd_parent)\n",
    "\n",
    "sys.path.append(cwd_parent)"
   ]
  },
  {
   "cell_type": "code",
   "execution_count": 5,
   "metadata": {},
   "outputs": [],
   "source": [
    "import deepadr\n",
    "from deepadr.dataset import *\n",
    "from deepadr.utilities import *\n",
    "from deepadr.run_workflow import *\n",
    "from deepadr.chemfeatures import *\n",
    "from deepadr.hyphelperflat import *\n",
    "from deepadr.model_gnn_ogb import GNN, DeepAdr_SiameseTrf, ExpressionNN\n",
    "from ogb.graphproppred import Evaluator"
   ]
  },
  {
   "cell_type": "code",
   "execution_count": 6,
   "metadata": {},
   "outputs": [],
   "source": [
    "from rdkit.Chem.Draw import IPythonConsole\n",
    "from rdkit.Chem import Draw"
   ]
  },
  {
   "cell_type": "code",
   "execution_count": 7,
   "metadata": {},
   "outputs": [],
   "source": [
    "rawdata_dir = '../data/raw/'\n",
    "processed_dir = '../data/processed/'\n",
    "up_dir = '..'"
   ]
  },
  {
   "cell_type": "code",
   "execution_count": 8,
   "metadata": {
    "scrolled": true
   },
   "outputs": [
    {
     "name": "stdout",
     "output_type": "stream",
     "text": [
      "number of GPUs available: 5\n",
      "cuda:0, name:NVIDIA GeForce GTX 1080 Ti\n",
      "total memory available: 10.91656494140625 GB\n",
      "total memory allocated on device: 0.0 GB\n",
      "max memory allocated on device: 0.0 GB\n",
      "total memory cached on device: 0.0 GB\n",
      "max memory cached  on device: 0.0 GB\n",
      "\n",
      "cuda:1, name:NVIDIA GeForce GTX 1080 Ti\n",
      "total memory available: 10.91656494140625 GB\n",
      "total memory allocated on device: 0.0 GB\n",
      "max memory allocated on device: 0.0 GB\n",
      "total memory cached on device: 0.0 GB\n",
      "max memory cached  on device: 0.0 GB\n",
      "\n",
      "cuda:2, name:NVIDIA GeForce GTX 1080 Ti\n",
      "total memory available: 10.91656494140625 GB\n",
      "total memory allocated on device: 0.0 GB\n",
      "max memory allocated on device: 0.0 GB\n",
      "total memory cached on device: 0.0 GB\n",
      "max memory cached  on device: 0.0 GB\n",
      "\n",
      "cuda:3, name:NVIDIA GeForce GTX 1080 Ti\n",
      "total memory available: 10.91656494140625 GB\n",
      "total memory allocated on device: 0.0 GB\n",
      "max memory allocated on device: 0.0 GB\n",
      "total memory cached on device: 0.0 GB\n",
      "max memory cached  on device: 0.0 GB\n",
      "\n",
      "cuda:4, name:NVIDIA GeForce GTX 1080 Ti\n",
      "total memory available: 10.91656494140625 GB\n",
      "total memory allocated on device: 0.0 GB\n",
      "max memory allocated on device: 0.0 GB\n",
      "total memory cached on device: 0.0 GB\n",
      "max memory cached  on device: 0.0 GB\n",
      "\n"
     ]
    }
   ],
   "source": [
    "report_available_cuda_devices()"
   ]
  },
  {
   "cell_type": "code",
   "execution_count": 9,
   "metadata": {},
   "outputs": [
    {
     "data": {
      "text/plain": [
       "5"
      ]
     },
     "execution_count": 9,
     "metadata": {},
     "output_type": "execute_result"
    }
   ],
   "source": [
    "n_gpu = torch.cuda.device_count()\n",
    "n_gpu"
   ]
  },
  {
   "cell_type": "code",
   "execution_count": 10,
   "metadata": {},
   "outputs": [],
   "source": [
    "device_cpu = get_device(to_gpu=False)\n",
    "# device_gpu = get_device(True, index=0)\n",
    "\n",
    "# fdtype = torch.float32"
   ]
  },
  {
   "cell_type": "code",
   "execution_count": 11,
   "metadata": {},
   "outputs": [
    {
     "name": "stdout",
     "output_type": "stream",
     "text": [
      "torch: 1.9.1\n",
      "CUDA: 11.1\n",
      "3.9.9 | packaged by conda-forge | (main, Dec 20 2021, 02:41:03) \n",
      "[GCC 9.4.0]\n"
     ]
    }
   ],
   "source": [
    "print(\"torch:\", torch.__version__)\n",
    "print(\"CUDA:\", torch.version.cuda)\n",
    "print(sys.version)"
   ]
  },
  {
   "cell_type": "markdown",
   "metadata": {},
   "source": [
    "### Preparing dataset "
   ]
  },
  {
   "cell_type": "code",
   "execution_count": 12,
   "metadata": {},
   "outputs": [],
   "source": [
    "score = 'total_thresh' #'total_thresh'\n",
    "score_val = 4"
   ]
  },
  {
   "cell_type": "code",
   "execution_count": 13,
   "metadata": {},
   "outputs": [],
   "source": [
    "DSdataset_name = f'DrugComb_{score}_{score_val}'\n",
    "\n",
    "# v_1: GNN\n",
    "# v_2: Alt Models (Baseline)\n",
    "data_fname = 'data_v2'"
   ]
  },
  {
   "cell_type": "code",
   "execution_count": 14,
   "metadata": {
    "scrolled": true
   },
   "outputs": [
    {
     "name": "stdout",
     "output_type": "stream",
     "text": [
      "path_current_dir /opt/data/chemprop_run/git/deepadr\n",
      "path_current_dir /opt/data/chemprop_run/git/deepadr\n",
      "path_current_dir /opt/data/chemprop_run/git/deepadr\n",
      "path_current_dir /opt/data/chemprop_run/git/deepadr\n",
      "/opt/data/chemprop_run/git/data/processed/DrugComb_total_thresh_4/data_v2\n"
     ]
    }
   ],
   "source": [
    "targetdata_dir = create_directory(os.path.join(processed_dir, DSdataset_name, data_fname))\n",
    "targetdata_dir_raw = create_directory(os.path.join(targetdata_dir, \"raw\"))\n",
    "targetdata_dir_processed = create_directory(os.path.join(targetdata_dir, \"processed\"))\n",
    "targetdata_dir_exp = create_directory(os.path.join(targetdata_dir, \"experiments\"))\n",
    "print(targetdata_dir)"
   ]
  },
  {
   "cell_type": "code",
   "execution_count": 15,
   "metadata": {},
   "outputs": [],
   "source": [
    "xFlat = ReaderWriter.read_data(os.path.join(targetdata_dir_raw, 'X_flat.pkl'))\n",
    "y = ReaderWriter.read_data(os.path.join(targetdata_dir_raw, 'y.pkl'))\n",
    "expression = ReaderWriter.read_data(os.path.join(targetdata_dir_raw, 'expression.pkl'))"
   ]
  },
  {
   "cell_type": "code",
   "execution_count": 16,
   "metadata": {},
   "outputs": [
    {
     "data": {
      "text/plain": [
       "torch.Size([25757, 18])"
      ]
     },
     "execution_count": 16,
     "metadata": {},
     "output_type": "execute_result"
    }
   ],
   "source": [
    "xFlatMat = torch.stack([torch.cat(i) for i in list(xFlat.values())])\n",
    "xFlatMat.shape"
   ]
  },
  {
   "cell_type": "code",
   "execution_count": 17,
   "metadata": {},
   "outputs": [
    {
     "data": {
      "text/plain": [
       "tensor([[ 0.1661,  0.2518,  1.3373,  ..., -0.4085,  0.8581,  0.8979],\n",
       "        [ 0.1661,  0.2518,  1.3373,  ..., -0.4085,  0.8581,  0.8979],\n",
       "        [ 0.1661,  0.2518,  1.3373,  ..., -0.4085,  0.8581,  0.8979],\n",
       "        ...,\n",
       "        [-0.0373, -1.4322,  1.5411,  ..., -1.2711,  1.2013,  0.9537],\n",
       "        [-0.0373, -1.4322,  1.5411,  ..., -1.2711,  1.2013,  0.9537],\n",
       "        [-0.0373, -1.4322,  1.5411,  ..., -1.2711,  1.2013,  0.9537]],\n",
       "       dtype=torch.float64)"
      ]
     },
     "execution_count": 17,
     "metadata": {},
     "output_type": "execute_result"
    }
   ],
   "source": [
    "torch.tensor(expression)"
   ]
  },
  {
   "cell_type": "code",
   "execution_count": 18,
   "metadata": {
    "scrolled": false
   },
   "outputs": [
    {
     "data": {
      "text/plain": [
       "torch.Size([25757, 926])"
      ]
     },
     "execution_count": 18,
     "metadata": {},
     "output_type": "execute_result"
    }
   ],
   "source": [
    "x = torch.cat([xFlatMat, torch.tensor(expression)], dim=1)\n",
    "x.shape"
   ]
  },
  {
   "cell_type": "code",
   "execution_count": 19,
   "metadata": {},
   "outputs": [
    {
     "data": {
      "text/plain": [
       "array([0, 0, 0, ..., 0, 1, 1])"
      ]
     },
     "execution_count": 19,
     "metadata": {},
     "output_type": "execute_result"
    }
   ],
   "source": [
    "y"
   ]
  },
  {
   "cell_type": "code",
   "execution_count": 20,
   "metadata": {},
   "outputs": [
    {
     "data": {
      "text/plain": [
       "torch.Size([25757, 926])"
      ]
     },
     "execution_count": 20,
     "metadata": {},
     "output_type": "execute_result"
    }
   ],
   "source": [
    "x.shape"
   ]
  },
  {
   "cell_type": "code",
   "execution_count": 21,
   "metadata": {},
   "outputs": [
    {
     "data": {
      "text/plain": [
       "(25757,)"
      ]
     },
     "execution_count": 21,
     "metadata": {},
     "output_type": "execute_result"
    }
   ],
   "source": [
    "y.shape"
   ]
  },
  {
   "cell_type": "code",
   "execution_count": 22,
   "metadata": {},
   "outputs": [
    {
     "name": "stdout",
     "output_type": "stream",
     "text": [
      "fold_num: 0\n",
      "train data\n",
      "class: 0 norm count: 0.5764128559102675\n",
      "class: 1 norm count: 0.4235871440897325\n",
      "validation data\n",
      "class: 0 norm count: 0.5764192139737991\n",
      "class: 1 norm count: 0.42358078602620086\n",
      "test data\n",
      "class: 0 norm count: 0.5764751552795031\n",
      "class: 1 norm count: 0.4235248447204969\n",
      "\n",
      "-------------------------\n",
      "fold_num: 1\n",
      "train data\n",
      "class: 0 norm count: 0.5764128559102675\n",
      "class: 1 norm count: 0.4235871440897325\n",
      "validation data\n",
      "class: 0 norm count: 0.5764192139737991\n",
      "class: 1 norm count: 0.42358078602620086\n",
      "test data\n",
      "class: 0 norm count: 0.5764751552795031\n",
      "class: 1 norm count: 0.4235248447204969\n",
      "\n",
      "-------------------------\n",
      "fold_num: 2\n",
      "train data\n",
      "class: 0 norm count: 0.5764356969533567\n",
      "class: 1 norm count: 0.4235643030466433\n",
      "validation data\n",
      "class: 0 norm count: 0.5764192139737991\n",
      "class: 1 norm count: 0.42358078602620086\n",
      "test data\n",
      "class: 0 norm count: 0.5763929334109882\n",
      "class: 1 norm count: 0.4236070665890118\n",
      "\n",
      "-------------------------\n",
      "fold_num: 3\n",
      "train data\n",
      "class: 0 norm count: 0.5764356969533567\n",
      "class: 1 norm count: 0.4235643030466433\n",
      "validation data\n",
      "class: 0 norm count: 0.5764192139737991\n",
      "class: 1 norm count: 0.42358078602620086\n",
      "test data\n",
      "class: 0 norm count: 0.5763929334109882\n",
      "class: 1 norm count: 0.4236070665890118\n",
      "\n",
      "-------------------------\n",
      "fold_num: 4\n",
      "train data\n",
      "class: 0 norm count: 0.5764356969533567\n",
      "class: 1 norm count: 0.4235643030466433\n",
      "validation data\n",
      "class: 0 norm count: 0.5764192139737991\n",
      "class: 1 norm count: 0.42358078602620086\n",
      "test data\n",
      "class: 0 norm count: 0.5763929334109882\n",
      "class: 1 norm count: 0.4236070665890118\n",
      "\n",
      "-------------------------\n"
     ]
    }
   ],
   "source": [
    "fold_partitions = get_stratified_partitions(y,\n",
    "                                            num_folds=5,\n",
    "                                            valid_set_portion=0.1,\n",
    "                                            random_state=42)"
   ]
  },
  {
   "cell_type": "code",
   "execution_count": 23,
   "metadata": {},
   "outputs": [
    {
     "name": "stdout",
     "output_type": "stream",
     "text": [
      "Number of training graphs: 18544\n",
      "Number of validation graphs: 2061\n",
      "Number of testing graphs: 5152\n"
     ]
    }
   ],
   "source": [
    "print(\"Number of training graphs: \"+ str(len(fold_partitions[0]['train'])))\n",
    "print(\"Number of validation graphs: \"+ str(len(fold_partitions[0]['validation'])))\n",
    "print(\"Number of testing graphs: \"+ str(len(fold_partitions[0]['test'])))\n"
   ]
  },
  {
   "cell_type": "code",
   "execution_count": 24,
   "metadata": {},
   "outputs": [
    {
     "data": {
      "text/plain": [
       "array([    4,    13,    16, ..., 25731, 25743, 25753])"
      ]
     },
     "execution_count": 24,
     "metadata": {},
     "output_type": "execute_result"
    }
   ],
   "source": [
    "fold_partitions[0]['test']"
   ]
  },
  {
   "cell_type": "markdown",
   "metadata": {},
   "source": [
    "### Preprocessing"
   ]
  },
  {
   "cell_type": "code",
   "execution_count": 25,
   "metadata": {},
   "outputs": [],
   "source": [
    "from sklearn.preprocessing import StandardScaler\n",
    "scaler = StandardScaler()"
   ]
  },
  {
   "cell_type": "code",
   "execution_count": 26,
   "metadata": {},
   "outputs": [],
   "source": [
    "x_np = x.numpy()\n",
    "y_np = y"
   ]
  },
  {
   "cell_type": "code",
   "execution_count": 27,
   "metadata": {},
   "outputs": [],
   "source": [
    "pipeline = compose(scaler.fit_transform, np.tanh, scaler.fit_transform)"
   ]
  },
  {
   "cell_type": "code",
   "execution_count": 28,
   "metadata": {},
   "outputs": [],
   "source": [
    "x_np_norm = pipeline(x_np)"
   ]
  },
  {
   "cell_type": "code",
   "execution_count": 29,
   "metadata": {},
   "outputs": [
    {
     "data": {
      "text/plain": [
       "926"
      ]
     },
     "execution_count": 29,
     "metadata": {},
     "output_type": "execute_result"
    }
   ],
   "source": [
    "deepsynergy_input_size = x_np_norm.shape[1]\n",
    "deepsynergy_input_size"
   ]
  },
  {
   "cell_type": "code",
   "execution_count": 30,
   "metadata": {},
   "outputs": [],
   "source": [
    "ids = list(range(len(y)))"
   ]
  },
  {
   "cell_type": "code",
   "execution_count": 31,
   "metadata": {},
   "outputs": [
    {
     "data": {
      "text/plain": [
       "<torch.utils.data.dataset.TensorDataset at 0x1479110f9d90>"
      ]
     },
     "execution_count": 31,
     "metadata": {},
     "output_type": "execute_result"
    }
   ],
   "source": [
    "dataset = TensorDataset(torch.tensor(x_np_norm),torch.tensor(y), torch.tensor(ids))\n",
    "dataset"
   ]
  },
  {
   "cell_type": "code",
   "execution_count": 32,
   "metadata": {},
   "outputs": [
    {
     "data": {
      "text/plain": [
       "(25757, 926)"
      ]
     },
     "execution_count": 32,
     "metadata": {},
     "output_type": "execute_result"
    }
   ],
   "source": [
    "x_np_norm.shape"
   ]
  },
  {
   "cell_type": "code",
   "execution_count": 33,
   "metadata": {},
   "outputs": [
    {
     "data": {
      "text/plain": [
       "array([[-0.24771092, -0.16778051,  1.08542757, ..., -0.54753865,\n",
       "         1.00156924,  1.03730128],\n",
       "       [-0.52000601, -0.16778051,  0.88217988, ...,  0.13588219,\n",
       "         0.73121597, -0.67645394],\n",
       "       [-0.45946008, -0.16778051, -1.08878137, ...,  0.13588219,\n",
       "         0.73121597, -0.67645394],\n",
       "       ...,\n",
       "       [-0.78013155, -0.16778051,  1.38267408, ..., -1.10153143,\n",
       "         0.87510362, -0.63287422],\n",
       "       [ 0.06292934, -0.16778051, -0.09645783, ..., -0.6017063 ,\n",
       "         1.14208744, -1.22221096],\n",
       "       [-0.45708559, -0.16778051,  0.85635857, ..., -1.24509042,\n",
       "         1.20596684,  1.0750056 ]])"
      ]
     },
     "execution_count": 33,
     "metadata": {},
     "output_type": "execute_result"
    }
   ],
   "source": [
    "np.take(x_np_norm, fold_partitions[0]['test'], axis=0)"
   ]
  },
  {
   "cell_type": "markdown",
   "metadata": {},
   "source": [
    "### Deep Synergy"
   ]
  },
  {
   "cell_type": "code",
   "execution_count": 34,
   "metadata": {},
   "outputs": [],
   "source": [
    "# training params total_thresh 4\n",
    "tp = {\n",
    "    \"batch_size\" : 300,\n",
    "    \"num_epochs\" : 100,\n",
    "    \n",
    "    \"emb_dim\" : 300,\n",
    "    \"gnn_type\" : \"gatv2\",\n",
    "    \"num_layer\" : 5,\n",
    "    \"graph_pooling\" : \"mean\", #attention\n",
    "    \n",
    "    \"input_embed_dim\" : None,\n",
    "    \"gene_embed_dim\": 1,\n",
    "    \"num_attn_heads\" : 2,\n",
    "    \"num_transformer_units\" : 1,\n",
    "    \"p_dropout\" : 0.3,\n",
    "#     \"nonlin_func\" : nn.ReLU(),\n",
    "    \"mlp_embed_factor\" : 2,\n",
    "    \"pooling_mode\" : 'attn',\n",
    "    \"dist_opt\" : 'cosine',\n",
    "\n",
    "    \"base_lr\" : 3e-5, #3e-4\n",
    "    \"max_lr_mul\": 5,\n",
    "    \"l2_reg\" : 1e-5,\n",
    "    \"loss_w\" : 1.,\n",
    "    \"margin_v\" : 1.,\n",
    "\n",
    "    \"expression_dim\" : 64,\n",
    "    \"expression_input_size\" : 908,\n",
    "    \"exp_H1\" : 8192,\n",
    "    \"exp_H2\" : 4096\n",
    "}"
   ]
  },
  {
   "cell_type": "code",
   "execution_count": 35,
   "metadata": {},
   "outputs": [
    {
     "data": {
      "text/plain": [
       "926"
      ]
     },
     "execution_count": 35,
     "metadata": {},
     "output_type": "execute_result"
    }
   ],
   "source": [
    "tp['deepsynergy_input_size'] = deepsynergy_input_size\n",
    "tp['deepsynergy_input_size']"
   ]
  },
  {
   "cell_type": "code",
   "execution_count": 36,
   "metadata": {},
   "outputs": [],
   "source": [
    "def spawn_q_process(q_process):\n",
    "    print(\">>> spawning hyperparam search process\")\n",
    "    q_process.start()\n",
    "    \n",
    "def join_q_process(q_process):\n",
    "    q_process.join()\n",
    "    print(\"<<< joined hyperparam search process\")\n",
    "    \n",
    "def create_q_process(queue, used_dataset, gpu_num, tphp, exp_dir, partition): #\n",
    "#     fold_gpu_map = {0:gpu_num}\n",
    "    return mp.Process(target=deepadr.hyphelperflat.run_exp_flat, args=(queue, used_dataset, gpu_num, tphp, exp_dir, partition)) #\n",
    "\n",
    "def create_q_process_attr(queue, x_np_norm, gpu_num, tphp, exp_dir, partition): #\n",
    "#     fold_gpu_map = {0:gpu_num}\n",
    "    return mp.Process(target=deepadr.hyphelperflat.run_attribution, args=(queue, x_np_norm, gpu_num, tphp, exp_dir, partition)) #"
   ]
  },
  {
   "cell_type": "code",
   "execution_count": 37,
   "metadata": {},
   "outputs": [
    {
     "name": "stdout",
     "output_type": "stream",
     "text": [
      "Start: 2022-06-21_16-16-26\n",
      "path_current_dir /opt/data/chemprop_run/git/deepadr\n",
      "path_current_dir /opt/data/chemprop_run/git/deepadr\n",
      "path_current_dir /opt/data/chemprop_run/git/deepadr\n",
      ">>> spawning hyperparam search process\n",
      "path_current_dir /opt/data/chemprop_run/git/deepadr\n",
      "path_current_dir /opt/data/chemprop_run/git/deepadr\n",
      "path_current_dir /opt/data/chemprop_run/git/deepadr\n",
      ">>> spawning hyperparam search process\n",
      "path_current_dir /opt/data/chemprop_run/git/deepadr\n",
      "path_current_dir /opt/data/chemprop_run/git/deepadr\n",
      "path_current_dir /opt/data/chemprop_run/git/deepadr\n",
      ">>> spawning hyperparam search process\n",
      "path_current_dir /opt/data/chemprop_run/git/deepadr\n",
      "path_current_dir /opt/data/chemprop_run/git/deepadr\n",
      "path_current_dir /opt/data/chemprop_run/git/deepadr\n",
      ">>> spawning hyperparam search process\n",
      "path_current_dir /opt/data/chemprop_run/git/deepadr\n",
      "path_current_dir /opt/data/chemprop_run/git/deepadr\n",
      "path_current_dir /opt/data/chemprop_run/git/deepadr\n",
      ">>> spawning hyperparam search process\n",
      "gpu: cuda:4\n",
      "Dropout(p=0.5, inplace=False) Dropout(p=0.2, inplace=False)\n",
      "DS model:\n",
      " ExpressionNN(\n",
      "  (fc1): Linear(in_features=926, out_features=8192, bias=True)\n",
      "  (fc2): Linear(in_features=8192, out_features=4096, bias=True)\n",
      "  (fc3): Linear(in_features=4096, out_features=2, bias=True)\n",
      "  (drop_in): Dropout(p=0.2, inplace=False)\n",
      "  (drop): Dropout(p=0.5, inplace=False)\n",
      "  (log_softmax): LogSoftmax(dim=-1)\n",
      ")\n",
      "=====Epoch 0\n",
      "Training...\n",
      "gpu: cuda:0\n",
      "Dropout(p=0.5, inplace=False) Dropout(p=0.2, inplace=False)\n",
      "DS model:\n",
      " ExpressionNN(\n",
      "  (fc1): Linear(in_features=926, out_features=8192, bias=True)\n",
      "  (fc2): Linear(in_features=8192, out_features=4096, bias=True)\n",
      "  (fc3): Linear(in_features=4096, out_features=2, bias=True)\n",
      "  (drop_in): Dropout(p=0.2, inplace=False)\n",
      "  (drop): Dropout(p=0.5, inplace=False)\n",
      "  (log_softmax): LogSoftmax(dim=-1)\n",
      ")\n",
      "=====Epoch 0\n",
      "Training...\n",
      "gpu: cuda:1\n",
      "Dropout(p=0.5, inplace=False) Dropout(p=0.2, inplace=False)\n",
      "DS model:\n",
      " ExpressionNN(\n",
      "  (fc1): Linear(in_features=926, out_features=8192, bias=True)\n",
      "  (fc2): Linear(in_features=8192, out_features=4096, bias=True)\n",
      "  (fc3): Linear(in_features=4096, out_features=2, bias=True)\n",
      "  (drop_in): Dropout(p=0.2, inplace=False)\n",
      "  (drop): Dropout(p=0.5, inplace=False)\n",
      "  (log_softmax): LogSoftmax(dim=-1)\n",
      ")\n",
      "=====Epoch 0\n",
      "Training...\n"
     ]
    },
    {
     "name": "stderr",
     "output_type": "stream",
     "text": [
      "\r",
      "Iteration:   0%|          | 0/62 [00:00<?, ?it/s]\r",
      "Iteration:   0%|          | 0/62 [00:00<?, ?it/s]\r",
      "Iteration:   0%|          | 0/62 [00:00<?, ?it/s]"
     ]
    },
    {
     "name": "stdout",
     "output_type": "stream",
     "text": [
      "gpu: cuda:3\n",
      "Dropout(p=0.5, inplace=False) Dropout(p=0.2, inplace=False)\n",
      "DS model:\n",
      " ExpressionNN(\n",
      "  (fc1): Linear(in_features=926, out_features=8192, bias=True)\n",
      "  (fc2): Linear(in_features=8192, out_features=4096, bias=True)\n",
      "  (fc3): Linear(in_features=4096, out_features=2, bias=True)\n",
      "  (drop_in): Dropout(p=0.2, inplace=False)\n",
      "  (drop): Dropout(p=0.5, inplace=False)\n",
      "  (log_softmax): LogSoftmax(dim=-1)\n",
      ")\n",
      "=====Epoch 0\n",
      "Training...\n",
      "gpu: cuda:2\n",
      "Dropout(p=0.5, inplace=False) Dropout(p=0.2, inplace=False)\n",
      "DS model:\n",
      " ExpressionNN(\n",
      "  (fc1): Linear(in_features=926, out_features=8192, bias=True)\n",
      "  (fc2): Linear(in_features=8192, out_features=4096, bias=True)\n",
      "  (fc3): Linear(in_features=4096, out_features=2, bias=True)\n",
      "  (drop_in): Dropout(p=0.2, inplace=False)\n",
      "  (drop): Dropout(p=0.5, inplace=False)\n",
      "  (log_softmax): LogSoftmax(dim=-1)\n",
      ")\n",
      "=====Epoch 0\n",
      "Training...\n"
     ]
    },
    {
     "name": "stderr",
     "output_type": "stream",
     "text": [
      "Iteration: 100%|██████████| 62/62 [00:23<00:00,  2.65it/s]\n",
      "Iteration: 100%|██████████| 62/62 [00:23<00:00,  2.65it/s]\n",
      "Iteration:  84%|████████▍ | 52/62 [00:23<00:00, 28.96it/s]"
     ]
    },
    {
     "name": "stdout",
     "output_type": "stream",
     "text": [
      "Evaluating...\n",
      "Evaluating...\n"
     ]
    },
    {
     "name": "stderr",
     "output_type": "stream",
     "text": [
      "Iteration: 100%|██████████| 62/62 [00:23<00:00,  2.66it/s]\n",
      "Iteration:  26%|██▌       | 16/62 [00:00<00:01, 37.09it/s]"
     ]
    },
    {
     "name": "stdout",
     "output_type": "stream",
     "text": [
      "Evaluating...\n"
     ]
    },
    {
     "name": "stderr",
     "output_type": "stream",
     "text": [
      "Iteration: 100%|██████████| 62/62 [00:23<00:00,  2.60it/s]\n",
      "Iteration: 100%|██████████| 62/62 [00:24<00:00,  2.54it/s]\n",
      "Iteration:   5%|▍         | 3/62 [00:00<00:02, 20.07it/s]]"
     ]
    },
    {
     "name": "stdout",
     "output_type": "stream",
     "text": [
      "Evaluating...\n",
      "Evaluating...\n"
     ]
    },
    {
     "name": "stderr",
     "output_type": "stream",
     "text": [
      "Iteration: 100%|██████████| 62/62 [00:01<00:00, 37.97it/s]\n",
      "Iteration: 100%|██████████| 62/62 [00:01<00:00, 38.03it/s]\n",
      "Iteration: 100%|██████████| 62/62 [00:01<00:00, 39.45it/s]\n",
      "Iteration: 100%|██████████| 62/62 [00:01<00:00, 47.47it/s] \n",
      "Iteration: 100%|██████████| 62/62 [00:02<00:00, 22.30it/s]\n",
      "Iteration: 100%|██████████| 62/62 [00:01<00:00, 42.14it/s]\n",
      "Iteration: 100%|██████████| 62/62 [00:02<00:00, 22.32it/s]\n",
      "Iteration: 100%|██████████| 62/62 [00:01<00:00, 42.95it/s]\n",
      "Iteration: 100%|██████████| 62/62 [00:01<00:00, 35.19it/s]\n",
      "Iteration: 100%|██████████| 62/62 [00:02<00:00, 29.38it/s]\n",
      "Iteration: 100%|██████████| 62/62 [00:02<00:00, 26.25it/s]\n"
     ]
    },
    {
     "name": "stdout",
     "output_type": "stream",
     "text": [
      "{'Train':  best_epoch_indx:0\n",
      " auc:0.7334754629455114 \n",
      " apur:0.6921238965659642 \n",
      " f1:0.6306528025595275 \n",
      " precision:0.6102643486544416 \n",
      " recall:0.6524506683640993 \n",
      ", 'Validation':  best_epoch_indx:0\n",
      " auc:0.7334754569904431 \n",
      " apur:0.6921238940094083 \n",
      " f1:0.6306528025595275 \n",
      " precision:0.6102643486544416 \n",
      " recall:0.6524506683640993 \n",
      ", 'Test':  best_epoch_indx:0\n",
      " auc:0.7334754629455114 \n",
      " apur:0.6921238965659642 \n",
      " f1:0.6306528025595275 \n",
      " precision:0.6102643486544416 \n",
      " recall:0.6524506683640993 \n",
      "}\n",
      "=====Epoch 1\n",
      "Training...\n"
     ]
    },
    {
     "name": "stderr",
     "output_type": "stream",
     "text": [
      "Iteration: 100%|██████████| 62/62 [00:02<00:00, 24.58it/s]\n",
      "Iteration:  40%|████      | 25/62 [00:00<00:01, 35.27it/s]"
     ]
    },
    {
     "name": "stdout",
     "output_type": "stream",
     "text": [
      "{'Train':  best_epoch_indx:0\n",
      " auc:0.7232062098974543 \n",
      " apur:0.6827620924871072 \n",
      " f1:0.6164586679846782 \n",
      " precision:0.5988476773496579 \n",
      " recall:0.6351368555060471 \n",
      ", 'Validation':  best_epoch_indx:0\n",
      " auc:0.7232062039423861 \n",
      " apur:0.6827620907695404 \n",
      " f1:0.6164586679846782 \n",
      " precision:0.5988476773496579 \n",
      " recall:0.6351368555060471 \n",
      ", 'Test':  best_epoch_indx:0\n",
      " auc:0.7232062098974543 \n",
      " apur:0.6827620924871072 \n",
      " f1:0.6164586679846782 \n",
      " precision:0.5988476773496579 \n",
      " recall:0.6351368555060471 \n",
      "}\n",
      "=====Epoch 1\n",
      "Training...\n"
     ]
    },
    {
     "name": "stderr",
     "output_type": "stream",
     "text": [
      "Iteration: 100%|██████████| 62/62 [00:02<00:00, 27.33it/s]\n",
      "Iteration: 100%|██████████| 62/62 [00:01<00:00, 39.47it/s]\n",
      "Iteration:   0%|          | 0/62 [00:00<?, ?it/s]"
     ]
    },
    {
     "name": "stdout",
     "output_type": "stream",
     "text": [
      "Evaluating...\n"
     ]
    },
    {
     "name": "stderr",
     "output_type": "stream",
     "text": [
      "Iteration: 100%|██████████| 62/62 [00:01<00:00, 40.54it/s]\n",
      "Iteration:   8%|▊         | 5/62 [00:00<00:01, 41.44it/s]]"
     ]
    },
    {
     "name": "stdout",
     "output_type": "stream",
     "text": [
      "{'Train':  best_epoch_indx:0\n",
      " auc:0.7286704648508187 \n",
      " apur:0.6867555304468138 \n",
      " f1:0.5959206174200662 \n",
      " precision:0.6495418356617095 \n",
      " recall:0.5504774029280713 \n",
      ", 'Validation':  best_epoch_indx:0\n",
      " auc:0.7286704648508187 \n",
      " apur:0.6867555304472396 \n",
      " f1:0.5959206174200662 \n",
      " precision:0.6495418356617095 \n",
      " recall:0.5504774029280713 \n",
      ", 'Test':  best_epoch_indx:0\n",
      " auc:0.7286704648508187 \n",
      " apur:0.6867555304468138 \n",
      " f1:0.5959206174200662 \n",
      " precision:0.6495418356617095 \n",
      " recall:0.5504774029280713 \n",
      "}\n",
      "=====Epoch 1\n",
      "Training...\n",
      "Evaluating...\n"
     ]
    },
    {
     "name": "stderr",
     "output_type": "stream",
     "text": [
      "Iteration: 100%|██████████| 62/62 [00:01<00:00, 33.24it/s]\n",
      "Iteration: 100%|██████████| 62/62 [00:01<00:00, 41.06it/s]\n",
      "Iteration: 100%|██████████| 62/62 [00:02<00:00, 23.61it/s]\n",
      "Iteration: 100%|██████████| 62/62 [00:01<00:00, 32.25it/s]\n",
      "Iteration:  97%|█████████▋| 60/62 [00:03<00:00, 16.56it/s]"
     ]
    },
    {
     "name": "stdout",
     "output_type": "stream",
     "text": [
      "Evaluating...\n"
     ]
    },
    {
     "name": "stderr",
     "output_type": "stream",
     "text": [
      "Iteration: 100%|██████████| 62/62 [00:03<00:00, 19.02it/s]\n",
      "Iteration:  29%|██▉       | 18/62 [00:00<00:01, 35.72it/s]"
     ]
    },
    {
     "name": "stdout",
     "output_type": "stream",
     "text": [
      "{'Train':  best_epoch_indx:0\n",
      " auc:0.7274844393738474 \n",
      " apur:0.6855173517257014 \n",
      " f1:0.5982778493457184 \n",
      " precision:0.6399767914128227 \n",
      " recall:0.5616804583068109 \n",
      ", 'Validation':  best_epoch_indx:0\n",
      " auc:0.7274844393738474 \n",
      " apur:0.6855173517257014 \n",
      " f1:0.5982778493457184 \n",
      " precision:0.6399767914128227 \n",
      " recall:0.5616804583068109 \n",
      ", 'Test':  best_epoch_indx:0\n",
      " auc:0.7274844393738474 \n",
      " apur:0.6855173517257014 \n",
      " f1:0.5982778493457184 \n",
      " precision:0.6399767914128227 \n",
      " recall:0.5616804583068109 \n",
      "}\n",
      "=====Epoch 1\n",
      "Training...\n"
     ]
    },
    {
     "name": "stderr",
     "output_type": "stream",
     "text": [
      "Iteration:   0%|          | 0/62 [00:00<?, ?it/s]0.35it/s]"
     ]
    },
    {
     "name": "stdout",
     "output_type": "stream",
     "text": [
      "{'Train':  best_epoch_indx:0\n",
      " auc:0.7308616118027937 \n",
      " apur:0.6868894810046645 \n",
      " f1:0.6127707244212098 \n",
      " precision:0.5994155606964569 \n",
      " recall:0.6267345639719923 \n",
      ", 'Validation':  best_epoch_indx:0\n",
      " auc:0.7308616177573048 \n",
      " apur:0.6868894840972792 \n",
      " f1:0.6127707244212098 \n",
      " precision:0.5994155606964569 \n",
      " recall:0.6267345639719923 \n",
      ", 'Test':  best_epoch_indx:0\n",
      " auc:0.7308616118027937 \n",
      " apur:0.6868894789151434 \n",
      " f1:0.6127707244212098 \n",
      " precision:0.5994155606964569 \n",
      " recall:0.6267345639719923 \n",
      "}\n",
      "=====Epoch 1\n",
      "Training...\n"
     ]
    },
    {
     "name": "stderr",
     "output_type": "stream",
     "text": [
      "Iteration: 100%|██████████| 62/62 [00:01<00:00, 40.62it/s]\n",
      "Iteration: 100%|██████████| 62/62 [00:01<00:00, 34.25it/s]\n",
      "Iteration: 100%|██████████| 62/62 [00:01<00:00, 40.34it/s]\n",
      "Iteration:  10%|▉         | 6/62 [00:00<00:00, 56.88it/s]]"
     ]
    },
    {
     "name": "stdout",
     "output_type": "stream",
     "text": [
      "Evaluating...\n"
     ]
    },
    {
     "name": "stderr",
     "output_type": "stream",
     "text": [
      "Iteration: 100%|██████████| 62/62 [00:02<00:00, 27.42it/s]\n",
      "Iteration: 100%|██████████| 62/62 [00:01<00:00, 32.07it/s]\n",
      "Iteration:  81%|████████  | 50/62 [00:00<00:00, 67.06it/s]"
     ]
    },
    {
     "name": "stdout",
     "output_type": "stream",
     "text": [
      "Evaluating...\n"
     ]
    },
    {
     "name": "stderr",
     "output_type": "stream",
     "text": [
      "Iteration: 100%|██████████| 62/62 [00:00<00:00, 68.27it/s]\n",
      "Iteration: 100%|██████████| 62/62 [00:01<00:00, 37.28it/s]\n",
      "Iteration:  81%|████████  | 50/62 [00:01<00:00, 36.80it/s]"
     ]
    },
    {
     "name": "stdout",
     "output_type": "stream",
     "text": [
      "{'Train':  best_epoch_indx:1\n",
      " auc:0.7334698532712887 \n",
      " apur:0.6970315680100014 \n",
      " f1:0.6149947462760369 \n",
      " precision:0.5976693897164824 \n",
      " recall:0.6333545512412476 \n",
      ", 'Validation':  best_epoch_indx:1\n",
      " auc:0.7334698532712887 \n",
      " apur:0.6970315680100013 \n",
      " f1:0.6149947462760369 \n",
      " precision:0.5976693897164824 \n",
      " recall:0.6333545512412476 \n",
      ", 'Test':  best_epoch_indx:1\n",
      " auc:0.7334698532712887 \n",
      " apur:0.6970315676146224 \n",
      " f1:0.6149947462760369 \n",
      " precision:0.5976693897164824 \n",
      " recall:0.6333545512412476 \n",
      "}\n",
      "=====Epoch 2\n",
      "Training...\n"
     ]
    },
    {
     "name": "stderr",
     "output_type": "stream",
     "text": [
      "Iteration: 100%|██████████| 62/62 [00:01<00:00, 34.09it/s]\n",
      "Iteration: 100%|██████████| 62/62 [00:02<00:00, 27.03it/s]\n",
      "Iteration:  84%|████████▍ | 52/62 [00:01<00:00, 26.06it/s]"
     ]
    },
    {
     "name": "stdout",
     "output_type": "stream",
     "text": [
      "{'Train':  best_epoch_indx:1\n",
      " auc:0.7449245698311839 \n",
      " apur:0.7073678777863583 \n",
      " f1:0.6223891414640574 \n",
      " precision:0.6450423381589729 \n",
      " recall:0.6012730744748568 \n",
      ", 'Validation':  best_epoch_indx:1\n",
      " auc:0.7449245698311839 \n",
      " apur:0.7073678777863583 \n",
      " f1:0.6223891414640574 \n",
      " precision:0.6450423381589729 \n",
      " recall:0.6012730744748568 \n",
      ", 'Test':  best_epoch_indx:1\n",
      " auc:0.7449245698311839 \n",
      " apur:0.7073678777863583 \n",
      " f1:0.6223891414640574 \n",
      " precision:0.6450423381589729 \n",
      " recall:0.6012730744748568 \n",
      "}\n",
      "=====Epoch 2\n",
      "Training...\n"
     ]
    },
    {
     "name": "stderr",
     "output_type": "stream",
     "text": [
      "\r",
      "Iteration:  15%|█▍        | 9/62 [00:00<00:01, 41.07it/s]\r",
      "Iteration:  97%|█████████▋| 60/62 [00:01<00:00, 40.63it/s]\r",
      "Iteration:  52%|█████▏    | 32/62 [00:00<00:00, 34.03it/s]\r",
      "Iteration:  89%|████████▊ | 55/62 [00:02<00:00, 26.05it/s]\r",
      "Iteration: 100%|██████████| 62/62 [00:01<00:00, 41.45it/s]\n",
      "\r",
      "Iteration:   0%|          | 0/62 [00:00<?, ?it/s]\r",
      "Iteration:  23%|██▎       | 14/62 [00:00<00:01, 42.92it/s]\r",
      "Iteration:  60%|█████▉    | 37/62 [00:01<00:00, 36.26it/s]"
     ]
    },
    {
     "name": "stdout",
     "output_type": "stream",
     "text": [
      "Evaluating...\n"
     ]
    },
    {
     "name": "stderr",
     "output_type": "stream",
     "text": [
      "Iteration: 100%|██████████| 62/62 [00:02<00:00, 27.68it/s]\n",
      "Iteration:  32%|███▏      | 20/62 [00:00<00:01, 22.71it/s]\n",
      "Iteration: 100%|██████████| 62/62 [00:01<00:00, 40.45it/s]\n",
      "Iteration:   0%|          | 0/62 [00:00<?, ?it/s]"
     ]
    },
    {
     "name": "stdout",
     "output_type": "stream",
     "text": [
      "Evaluating...\n"
     ]
    },
    {
     "name": "stderr",
     "output_type": "stream",
     "text": [
      "Iteration: 100%|██████████| 62/62 [00:01<00:00, 44.61it/s]\n",
      "Iteration: 100%|██████████| 62/62 [00:02<00:00, 26.57it/s]\n",
      "Iteration: 100%|██████████| 62/62 [00:02<00:00, 29.56it/s]\n",
      "Iteration: 100%|██████████| 62/62 [00:01<00:00, 41.56it/s]\n",
      "Iteration: 100%|██████████| 62/62 [00:01<00:00, 34.43it/s]\n",
      "Iteration: 100%|██████████| 62/62 [00:02<00:00, 27.31it/s]\n",
      "Iteration:  10%|▉         | 6/62 [00:00<00:00, 59.18it/s]"
     ]
    },
    {
     "name": "stdout",
     "output_type": "stream",
     "text": [
      "{'Train':  best_epoch_indx:1\n",
      " auc:0.7441407193883051 \n",
      " apur:0.7066122682645191 \n",
      " f1:0.6119025429370257 \n",
      " precision:0.641272498953537 \n",
      " recall:0.5851050286441757 \n",
      ", 'Validation':  best_epoch_indx:1\n",
      " auc:0.7441407193883051 \n",
      " apur:0.7066122682645191 \n",
      " f1:0.6119025429370257 \n",
      " precision:0.641272498953537 \n",
      " recall:0.5851050286441757 \n",
      ", 'Test':  best_epoch_indx:1\n",
      " auc:0.7441407193883051 \n",
      " apur:0.7066122682645191 \n",
      " f1:0.6119025429370257 \n",
      " precision:0.641272498953537 \n",
      " recall:0.5851050286441757 \n",
      "}\n",
      "=====Epoch 2\n",
      "Training...\n"
     ]
    },
    {
     "name": "stderr",
     "output_type": "stream",
     "text": [
      "Iteration:  34%|███▍      | 21/62 [00:00<00:00, 47.66it/s]"
     ]
    },
    {
     "name": "stdout",
     "output_type": "stream",
     "text": [
      "{'Train':  best_epoch_indx:1\n",
      " auc:0.7506432122443802 \n",
      " apur:0.7125772737013987 \n",
      " f1:0.638127007659995 \n",
      " precision:0.6198247929917197 \n",
      " recall:0.6575429662635264 \n",
      ", 'Validation':  best_epoch_indx:1\n",
      " auc:0.7506432122443802 \n",
      " apur:0.7125772737013987 \n",
      " f1:0.638127007659995 \n",
      " precision:0.6198247929917197 \n",
      " recall:0.6575429662635264 \n",
      ", 'Test':  best_epoch_indx:1\n",
      " auc:0.7506432122443802 \n",
      " apur:0.7125772737013986 \n",
      " f1:0.638127007659995 \n",
      " precision:0.6198247929917197 \n",
      " recall:0.6575429662635264 \n",
      "}\n",
      "=====Epoch 2\n",
      "Training...\n"
     ]
    },
    {
     "name": "stderr",
     "output_type": "stream",
     "text": [
      "Iteration: 100%|██████████| 62/62 [00:01<00:00, 35.39it/s]\n",
      "Iteration: 100%|██████████| 62/62 [00:01<00:00, 38.89it/s]\n",
      "Iteration: 100%|██████████| 62/62 [00:01<00:00, 44.11it/s]\n",
      "Iteration:  35%|███▌      | 22/62 [00:01<00:02, 17.28it/s]"
     ]
    },
    {
     "name": "stdout",
     "output_type": "stream",
     "text": [
      "Evaluating...\n"
     ]
    },
    {
     "name": "stderr",
     "output_type": "stream",
     "text": [
      "Iteration: 100%|██████████| 62/62 [00:01<00:00, 31.04it/s]\n",
      "Iteration:   8%|▊         | 5/62 [00:00<00:01, 40.97it/s]]"
     ]
    },
    {
     "name": "stdout",
     "output_type": "stream",
     "text": [
      "{'Train':  best_epoch_indx:2\n",
      " auc:0.7495706604271843 \n",
      " apur:0.713165198999975 \n",
      " f1:0.6171276241252917 \n",
      " precision:0.6475524475524476 \n",
      " recall:0.5894334818586887 \n",
      ", 'Validation':  best_epoch_indx:2\n",
      " auc:0.7495706604271843 \n",
      " apur:0.713165198999975 \n",
      " f1:0.6171276241252917 \n",
      " precision:0.6475524475524476 \n",
      " recall:0.5894334818586887 \n",
      ", 'Test':  best_epoch_indx:2\n",
      " auc:0.7495706604271843 \n",
      " apur:0.713165198999975 \n",
      " f1:0.6171276241252917 \n",
      " precision:0.6475524475524476 \n",
      " recall:0.5894334818586887 \n",
      "}\n",
      "=====Epoch 3\n",
      "Training...\n"
     ]
    },
    {
     "name": "stderr",
     "output_type": "stream",
     "text": [
      "Iteration:  76%|███████▌  | 47/62 [00:02<00:00, 21.41it/s]"
     ]
    },
    {
     "name": "stdout",
     "output_type": "stream",
     "text": [
      "{'Train':  best_epoch_indx:1\n",
      " auc:0.7567990036912016 \n",
      " apur:0.7158116856257212 \n",
      " f1:0.6239277061096196 \n",
      " precision:0.6423948220064725 \n",
      " recall:0.6064926798217696 \n",
      ", 'Validation':  best_epoch_indx:1\n",
      " auc:0.7567990036912016 \n",
      " apur:0.7158116856257212 \n",
      " f1:0.6239277061096196 \n",
      " precision:0.6423948220064725 \n",
      " recall:0.6064926798217696 \n",
      ", 'Test':  best_epoch_indx:1\n",
      " auc:0.7567990036912016 \n",
      " apur:0.7158116856257212 \n",
      " f1:0.6239277061096196 \n",
      " precision:0.6423948220064725 \n",
      " recall:0.6064926798217696 \n",
      "}\n",
      "=====Epoch 2\n",
      "Training...\n"
     ]
    },
    {
     "name": "stderr",
     "output_type": "stream",
     "text": [
      "Iteration: 100%|██████████| 62/62 [00:01<00:00, 39.04it/s]\n",
      "Iteration: 100%|██████████| 62/62 [00:03<00:00, 19.21it/s]\n",
      "Iteration: 100%|██████████| 62/62 [00:02<00:00, 28.51it/s]\n",
      "Iteration:   8%|▊         | 5/62 [00:00<00:01, 41.29it/s]]"
     ]
    },
    {
     "name": "stdout",
     "output_type": "stream",
     "text": [
      "Evaluating...\n",
      "Evaluating...\n"
     ]
    },
    {
     "name": "stderr",
     "output_type": "stream",
     "text": [
      "Iteration: 100%|██████████| 62/62 [00:01<00:00, 34.01it/s]\n",
      "Iteration: 100%|██████████| 62/62 [00:01<00:00, 35.00it/s]\n",
      "Iteration:   0%|          | 0/62 [00:00<?, ?it/s]"
     ]
    },
    {
     "name": "stdout",
     "output_type": "stream",
     "text": [
      "Evaluating...\n"
     ]
    },
    {
     "name": "stderr",
     "output_type": "stream",
     "text": [
      "\r",
      "Iteration:   0%|          | 0/62 [00:00<?, ?it/s]\r",
      "Iteration:  73%|███████▎  | 45/62 [00:00<00:00, 52.06it/s]\r",
      "Iteration:   6%|▋         | 4/62 [00:00<00:01, 30.05it/s]\r",
      "Iteration:   8%|▊         | 5/62 [00:00<00:01, 41.59it/s]\r",
      "Iteration:  85%|████████▌ | 53/62 [00:01<00:00, 59.21it/s]"
     ]
    },
    {
     "name": "stdout",
     "output_type": "stream",
     "text": [
      "{'Train':  best_epoch_indx:2\n",
      " auc:0.7637065928381135 \n",
      " apur:0.7273015973373753 \n",
      " f1:0.6564876354709299 \n",
      " precision:0.6197151254804432 \n",
      " recall:0.6978994271164863 \n",
      ", 'Validation':  best_epoch_indx:2\n",
      " auc:0.7637065928381135 \n",
      " apur:0.7273015973373753 \n",
      " f1:0.6564876354709299 \n",
      " precision:0.6197151254804432 \n",
      " recall:0.6978994271164863 \n",
      ", 'Test':  best_epoch_indx:2\n",
      " auc:0.7637065868830452 \n",
      " apur:0.7273015903549065 \n",
      " f1:0.6564876354709299 \n",
      " precision:0.6197151254804432 \n",
      " recall:0.6978994271164863 \n",
      "}\n",
      "=====Epoch 3\n",
      "Training...\n"
     ]
    },
    {
     "name": "stderr",
     "output_type": "stream",
     "text": [
      "Iteration: 100%|██████████| 62/62 [00:01<00:00, 52.52it/s]\n",
      "Iteration: 100%|██████████| 62/62 [00:01<00:00, 35.22it/s]\n",
      "Iteration: 100%|██████████| 62/62 [00:01<00:00, 40.52it/s]\n",
      "Iteration:  50%|█████     | 31/62 [00:01<00:01, 18.99it/s]"
     ]
    },
    {
     "name": "stdout",
     "output_type": "stream",
     "text": [
      "Evaluating...\n"
     ]
    },
    {
     "name": "stderr",
     "output_type": "stream",
     "text": [
      "Iteration: 100%|██████████| 62/62 [00:01<00:00, 41.50it/s]\n",
      "Iteration: 100%|██████████| 62/62 [00:02<00:00, 22.13it/s]\n",
      "Iteration: 100%|██████████| 62/62 [00:03<00:00, 16.72it/s]\n",
      "Iteration: 100%|██████████| 62/62 [00:01<00:00, 39.51it/s]\n",
      "Iteration: 100%|██████████| 62/62 [00:01<00:00, 38.14it/s]\n",
      "Iteration: 100%|██████████| 62/62 [00:01<00:00, 38.64it/s]\n",
      "Iteration:  74%|███████▍  | 46/62 [00:01<00:00, 40.10it/s]"
     ]
    },
    {
     "name": "stdout",
     "output_type": "stream",
     "text": [
      "{'Train':  best_epoch_indx:2\n",
      " auc:0.7557083397096223 \n",
      " apur:0.7158862348439083 \n",
      " f1:0.6177100053504547 \n",
      " precision:0.6506974778075243 \n",
      " recall:0.5879057924888605 \n",
      ", 'Validation':  best_epoch_indx:2\n",
      " auc:0.7557083397096223 \n",
      " apur:0.7158862348439083 \n",
      " f1:0.6177100053504547 \n",
      " precision:0.6506974778075243 \n",
      " recall:0.5879057924888605 \n",
      ", 'Test':  best_epoch_indx:2\n",
      " auc:0.7557083337551112 \n",
      " apur:0.7158862278132516 \n",
      " f1:0.6177100053504547 \n",
      " precision:0.6506974778075243 \n",
      " recall:0.5879057924888605 \n",
      "}\n",
      "=====Epoch 3\n",
      "Training...\n",
      "{'Train':  best_epoch_indx:3\n",
      " auc:0.7670144486032655 \n",
      " apur:0.7307139227865509 \n",
      " f1:0.6557475763232372 \n",
      " precision:0.6221435100548446 \n",
      " recall:0.6931890515595163 \n",
      ", 'Validation':  best_epoch_indx:3\n",
      " auc:0.7670144486032655 \n",
      " apur:0.7307139227865509 \n",
      " f1:0.6557475763232372 \n",
      " precision:0.6221435100548446 \n",
      " recall:0.6931890515595163 \n",
      ", 'Test':  best_epoch_indx:3\n",
      " auc:0.7670144486032655 \n",
      " apur:0.7307139227865509 \n",
      " f1:0.6557475763232372 \n",
      " precision:0.6221435100548446 \n",
      " recall:0.6931890515595163 \n",
      "}\n",
      "=====Epoch 4\n",
      "Training...\n"
     ]
    },
    {
     "name": "stderr",
     "output_type": "stream",
     "text": [
      "Iteration: 100%|██████████| 62/62 [00:01<00:00, 34.77it/s]\n",
      "Iteration: 100%|██████████| 62/62 [00:02<00:00, 27.99it/s]\n",
      "Iteration: 100%|██████████| 62/62 [00:03<00:00, 19.18it/s]\n",
      "Iteration:   3%|▎         | 2/62 [00:00<00:03, 17.85it/s]]"
     ]
    },
    {
     "name": "stdout",
     "output_type": "stream",
     "text": [
      "Evaluating...\n",
      "Evaluating...\n"
     ]
    },
    {
     "name": "stderr",
     "output_type": "stream",
     "text": [
      "Iteration: 100%|██████████| 62/62 [00:01<00:00, 37.31it/s]\n",
      "Iteration: 100%|██████████| 62/62 [00:01<00:00, 39.18it/s]\n",
      "Iteration: 100%|██████████| 62/62 [00:00<00:00, 63.91it/s]\n",
      "Iteration: 100%|██████████| 62/62 [00:01<00:00, 32.23it/s]\n",
      "Iteration: 100%|██████████| 62/62 [00:02<00:00, 29.02it/s]\n",
      "Iteration: 100%|██████████| 62/62 [00:02<00:00, 25.73it/s]\n",
      "Iteration:  71%|███████   | 44/62 [00:00<00:00, 44.61it/s]"
     ]
    },
    {
     "name": "stdout",
     "output_type": "stream",
     "text": [
      "{'Train':  best_epoch_indx:3\n",
      " auc:0.763111121750833 \n",
      " apur:0.7270174501541655 \n",
      " f1:0.6521663878151504 \n",
      " precision:0.5963283393120912 \n",
      " recall:0.7195416931890516 \n",
      ", 'Validation':  best_epoch_indx:3\n",
      " auc:0.7631111277059012 \n",
      " apur:0.7270174525948403 \n",
      " f1:0.6521663878151504 \n",
      " precision:0.5963283393120912 \n",
      " recall:0.7195416931890516 \n",
      ", 'Test':  best_epoch_indx:3\n",
      " auc:0.7631111277059012 \n",
      " apur:0.7270174525948403 \n",
      " f1:0.6521663878151504 \n",
      " precision:0.5963283393120912 \n",
      " recall:0.7195416931890516 \n",
      "}\n",
      "=====Epoch 4\n",
      "Training...\n"
     ]
    },
    {
     "name": "stderr",
     "output_type": "stream",
     "text": [
      "Iteration: 100%|██████████| 62/62 [00:01<00:00, 44.30it/s]\n"
     ]
    },
    {
     "name": "stdout",
     "output_type": "stream",
     "text": [
      "{'Train':  best_epoch_indx:2\n",
      " auc:0.7665328251356587 \n",
      " apur:0.7302692626347571 \n",
      " f1:0.6522646372897999 \n",
      " precision:0.6296954615475767 \n",
      " recall:0.6765117759388924 \n",
      ", 'Validation':  best_epoch_indx:2\n",
      " auc:0.7665328191811476 \n",
      " apur:0.730269253276686 \n",
      " f1:0.6522646372897999 \n",
      " precision:0.6296954615475767 \n",
      " recall:0.6765117759388924 \n",
      ", 'Test':  best_epoch_indx:2\n",
      " auc:0.7665328191811476 \n",
      " apur:0.730269253276686 \n",
      " f1:0.6522646372897999 \n",
      " precision:0.6296954615475767 \n",
      " recall:0.6765117759388924 \n",
      "}\n",
      "=====Epoch 3\n",
      "Training...\n"
     ]
    },
    {
     "name": "stderr",
     "output_type": "stream",
     "text": [
      "Iteration: 100%|██████████| 62/62 [00:03<00:00, 20.36it/s]\n",
      "Iteration: 100%|██████████| 62/62 [00:01<00:00, 40.33it/s]\n",
      "Iteration:  16%|█▌        | 10/62 [00:00<00:01, 42.76it/s]"
     ]
    },
    {
     "name": "stdout",
     "output_type": "stream",
     "text": [
      "Evaluating...\n"
     ]
    },
    {
     "name": "stderr",
     "output_type": "stream",
     "text": [
      "Iteration: 100%|██████████| 62/62 [00:01<00:00, 36.60it/s]\n",
      "Iteration: 100%|██████████| 62/62 [00:01<00:00, 37.96it/s]\n",
      "Iteration:  60%|█████▉    | 37/62 [00:00<00:00, 58.77it/s]"
     ]
    },
    {
     "name": "stdout",
     "output_type": "stream",
     "text": [
      "Evaluating...\n"
     ]
    },
    {
     "name": "stderr",
     "output_type": "stream",
     "text": [
      "\r",
      "Iteration:   6%|▋         | 4/62 [00:00<00:01, 32.57it/s]\r",
      "Iteration:  71%|███████   | 44/62 [00:00<00:00, 60.18it/s]\r",
      "Iteration:  32%|███▏      | 20/62 [00:00<00:01, 32.42it/s]\r",
      "Iteration:   0%|          | 0/62 [00:00<?, ?it/s]\r",
      "Iteration:  13%|█▎        | 8/62 [00:00<00:01, 31.55it/s]\r",
      "Iteration:  82%|████████▏ | 51/62 [00:00<00:00, 60.27it/s]\r",
      "Iteration:  39%|███▊      | 24/62 [00:00<00:01, 32.30it/s]"
     ]
    },
    {
     "name": "stdout",
     "output_type": "stream",
     "text": [
      "{'Train':  best_epoch_indx:2\n",
      " auc:0.7543523724856334 \n",
      " apur:0.714078844760871 \n",
      " f1:0.648350315380883 \n",
      " precision:0.619135873971968 \n",
      " recall:0.6804583068109484 \n",
      ", 'Validation':  best_epoch_indx:2\n",
      " auc:0.7543523724856331 \n",
      " apur:0.714078844760871 \n",
      " f1:0.648350315380883 \n",
      " precision:0.619135873971968 \n",
      " recall:0.6804583068109484 \n",
      ", 'Test':  best_epoch_indx:2\n",
      " auc:0.7543523724856331 \n",
      " apur:0.714078844760871 \n",
      " f1:0.648350315380883 \n",
      " precision:0.619135873971968 \n",
      " recall:0.6804583068109484 \n",
      "}\n",
      "=====Epoch 3\n",
      "Training...\n"
     ]
    },
    {
     "name": "stderr",
     "output_type": "stream",
     "text": [
      "Iteration: 100%|██████████| 62/62 [00:01<00:00, 51.44it/s]\n",
      "Iteration:  40%|████      | 25/62 [00:00<00:01, 28.23it/s]"
     ]
    },
    {
     "name": "stdout",
     "output_type": "stream",
     "text": [
      "{'Train':  best_epoch_indx:4\n",
      " auc:0.7703501859976218 \n",
      " apur:0.7363991616134266 \n",
      " f1:0.6479089397621179 \n",
      " precision:0.6509058203777464 \n",
      " recall:0.6449395289624443 \n",
      ", 'Validation':  best_epoch_indx:4\n",
      " auc:0.7703501859976218 \n",
      " apur:0.7363991616134266 \n",
      " f1:0.6479089397621179 \n",
      " precision:0.6509058203777464 \n",
      " recall:0.6449395289624443 \n",
      ", 'Test':  best_epoch_indx:4\n",
      " auc:0.7703501800425536 \n",
      " apur:0.7363991597062869 \n",
      " f1:0.6479089397621179 \n",
      " precision:0.6509058203777464 \n",
      " recall:0.6449395289624443 \n",
      "}\n",
      "=====Epoch 5\n",
      "Training...\n"
     ]
    },
    {
     "name": "stderr",
     "output_type": "stream",
     "text": [
      "Iteration: 100%|██████████| 62/62 [00:01<00:00, 34.26it/s]\n",
      "Iteration: 100%|██████████| 62/62 [00:02<00:00, 30.41it/s]\n",
      "Iteration: 100%|██████████| 62/62 [00:02<00:00, 29.77it/s]\n",
      "Iteration:   0%|          | 0/62 [00:00<?, ?it/s]"
     ]
    },
    {
     "name": "stdout",
     "output_type": "stream",
     "text": [
      "Evaluating...\n"
     ]
    },
    {
     "name": "stderr",
     "output_type": "stream",
     "text": [
      "Iteration: 100%|██████████| 62/62 [00:01<00:00, 31.64it/s]\n",
      "Iteration: 100%|██████████| 62/62 [00:02<00:00, 27.38it/s]\n",
      "Iteration:  94%|█████████▎| 58/62 [00:01<00:00, 35.78it/s]"
     ]
    },
    {
     "name": "stdout",
     "output_type": "stream",
     "text": [
      "Evaluating...\n",
      "{'Train':  best_epoch_indx:3\n",
      " auc:0.7678549111914441 \n",
      " apur:0.7262708571904847 \n",
      " f1:0.6527170902824789 \n",
      " precision:0.6317607815106028 \n",
      " recall:0.67511139401655 \n",
      ", 'Validation':  best_epoch_indx:3\n",
      " auc:0.7678549111914441 \n",
      " apur:0.7262708571904846 \n",
      " f1:0.6527170902824789 \n",
      " precision:0.6317607815106028 \n",
      " recall:0.67511139401655 \n",
      ", 'Test':  best_epoch_indx:3\n",
      " auc:0.7678549171459552 \n",
      " apur:0.7262708600531795 \n",
      " f1:0.6527170902824789 \n",
      " precision:0.6317607815106028 \n",
      " recall:0.67511139401655 \n",
      "}\n",
      "=====Epoch 4\n",
      "Training...\n"
     ]
    },
    {
     "name": "stderr",
     "output_type": "stream",
     "text": [
      "Iteration: 100%|██████████| 62/62 [00:01<00:00, 39.79it/s]\n",
      "Iteration: 100%|██████████| 62/62 [00:01<00:00, 32.84it/s]\n",
      "Iteration: 100%|██████████| 62/62 [00:01<00:00, 40.69it/s]\n",
      "Iteration: 100%|██████████| 62/62 [00:01<00:00, 37.90it/s]\n",
      "Iteration: 100%|██████████| 62/62 [00:02<00:00, 27.48it/s]\n"
     ]
    },
    {
     "name": "stdout",
     "output_type": "stream",
     "text": [
      "Evaluating...\n"
     ]
    },
    {
     "name": "stderr",
     "output_type": "stream",
     "text": [
      "Iteration: 100%|██████████| 62/62 [00:01<00:00, 45.91it/s]\n",
      "Iteration: 100%|██████████| 62/62 [00:01<00:00, 50.86it/s]\n",
      "Iteration:   0%|          | 0/62 [00:00<?, ?it/s]9.28it/s]"
     ]
    },
    {
     "name": "stdout",
     "output_type": "stream",
     "text": [
      "{'Train':  best_epoch_indx:4\n",
      " auc:0.7709256956963735 \n",
      " apur:0.7347465008068983 \n",
      " f1:0.6419545071609097 \n",
      " precision:0.6537750791974657 \n",
      " recall:0.6305537873965626 \n",
      ", 'Validation':  best_epoch_indx:4\n",
      " auc:0.7709256956963735 \n",
      " apur:0.7347465008068983 \n",
      " f1:0.6419545071609097 \n",
      " precision:0.6537750791974657 \n",
      " recall:0.6305537873965626 \n",
      ", 'Test':  best_epoch_indx:4\n",
      " auc:0.7709256956963735 \n",
      " apur:0.7347465008068983 \n",
      " f1:0.6419545071609097 \n",
      " precision:0.6537750791974657 \n",
      " recall:0.6305537873965626 \n",
      "}\n",
      "=====Epoch 5\n",
      "Training...\n"
     ]
    },
    {
     "name": "stderr",
     "output_type": "stream",
     "text": [
      "Iteration: 100%|██████████| 62/62 [00:01<00:00, 31.37it/s]\n",
      "Iteration: 100%|██████████| 62/62 [00:01<00:00, 36.15it/s]\n",
      "Iteration: 100%|██████████| 62/62 [00:02<00:00, 30.32it/s]\n",
      "Iteration:  97%|█████████▋| 60/62 [00:01<00:00, 41.13it/s]"
     ]
    },
    {
     "name": "stdout",
     "output_type": "stream",
     "text": [
      "Evaluating...\n"
     ]
    },
    {
     "name": "stderr",
     "output_type": "stream",
     "text": [
      "Iteration: 100%|██████████| 62/62 [00:01<00:00, 37.21it/s]\n",
      "Iteration: 100%|██████████| 62/62 [00:02<00:00, 22.60it/s]\n",
      "Iteration:  50%|█████     | 31/62 [00:01<00:01, 30.05it/s]"
     ]
    },
    {
     "name": "stdout",
     "output_type": "stream",
     "text": [
      "{'Train':  best_epoch_indx:3\n",
      " auc:0.7676007071577392 \n",
      " apur:0.7290129319535272 \n",
      " f1:0.6364242828552368 \n",
      " precision:0.6685353889278206 \n",
      " recall:0.6072565245066837 \n",
      ", 'Validation':  best_epoch_indx:3\n",
      " auc:0.7676007071577392 \n",
      " apur:0.7290129319535272 \n",
      " f1:0.6364242828552368 \n",
      " precision:0.6685353889278206 \n",
      " recall:0.6072565245066837 \n",
      ", 'Test':  best_epoch_indx:3\n",
      " auc:0.7676007071577392 \n",
      " apur:0.7290129319535272 \n",
      " f1:0.6364242828552368 \n",
      " precision:0.6685353889278206 \n",
      " recall:0.6072565245066837 \n",
      "}\n",
      "=====Epoch 4\n",
      "Training...\n"
     ]
    },
    {
     "name": "stderr",
     "output_type": "stream",
     "text": [
      "Iteration: 100%|██████████| 62/62 [00:02<00:00, 25.10it/s]\n",
      "Iteration: 100%|██████████| 62/62 [00:01<00:00, 32.53it/s]\n",
      "Iteration: 100%|██████████| 62/62 [00:02<00:00, 27.54it/s]\n",
      "Iteration:  58%|█████▊    | 36/62 [00:01<00:00, 32.41it/s]"
     ]
    },
    {
     "name": "stdout",
     "output_type": "stream",
     "text": [
      "{'Train':  best_epoch_indx:3\n",
      " auc:0.7617976192673689 \n",
      " apur:0.7208054655235987 \n",
      " f1:0.6365131578947368 \n",
      " precision:0.6325914749151264 \n",
      " recall:0.6404837683004456 \n",
      ", 'Validation':  best_epoch_indx:3\n",
      " auc:0.7617976192673689 \n",
      " apur:0.7208054655248713 \n",
      " f1:0.6365131578947368 \n",
      " precision:0.6325914749151264 \n",
      " recall:0.6404837683004456 \n",
      ", 'Test':  best_epoch_indx:3\n",
      " auc:0.76179762522188 \n",
      " apur:0.720805467925047 \n",
      " f1:0.6365131578947368 \n",
      " precision:0.6325914749151264 \n",
      " recall:0.6404837683004456 \n",
      "}\n",
      "=====Epoch 4\n",
      "Training...\n"
     ]
    },
    {
     "name": "stderr",
     "output_type": "stream",
     "text": [
      "Iteration: 100%|██████████| 62/62 [00:01<00:00, 35.63it/s]\n",
      "Iteration: 100%|██████████| 62/62 [00:01<00:00, 38.23it/s]\n",
      "Iteration:   0%|          | 0/62 [00:00<?, ?it/s]0.62it/s]"
     ]
    },
    {
     "name": "stdout",
     "output_type": "stream",
     "text": [
      "Evaluating...\n",
      "{'Train':  best_epoch_indx:5\n",
      " auc:0.7736661644757673 \n",
      " apur:0.7393469471170007 \n",
      " f1:0.6547181760607981 \n",
      " precision:0.6514177693761815 \n",
      " recall:0.6580521960534691 \n",
      ", 'Validation':  best_epoch_indx:5\n",
      " auc:0.7736661644757673 \n",
      " apur:0.7393469471170007 \n",
      " f1:0.6547181760607981 \n",
      " precision:0.6514177693761815 \n",
      " recall:0.6580521960534691 \n",
      ", 'Test':  best_epoch_indx:5\n",
      " auc:0.7736661644757673 \n",
      " apur:0.7393469471170007 \n",
      " f1:0.6547181760607981 \n",
      " precision:0.6514177693761815 \n",
      " recall:0.6580521960534691 \n",
      "}\n",
      "=====Epoch 6\n",
      "Training...\n"
     ]
    },
    {
     "name": "stderr",
     "output_type": "stream",
     "text": [
      "Iteration:   0%|          | 0/62 [00:00<?, ?it/s]8.71it/s]"
     ]
    },
    {
     "name": "stdout",
     "output_type": "stream",
     "text": [
      "{'Train':  best_epoch_indx:4\n",
      " auc:0.759685441041706 \n",
      " apur:0.7213856147129476 \n",
      " f1:0.6280206171765179 \n",
      " precision:0.6621964991530209 \n",
      " recall:0.5971992361553151 \n",
      ", 'Validation':  best_epoch_indx:4\n",
      " auc:0.759685441041706 \n",
      " apur:0.7213856147129476 \n",
      " f1:0.6280206171765179 \n",
      " precision:0.6621964991530209 \n",
      " recall:0.5971992361553151 \n",
      ", 'Test':  best_epoch_indx:4\n",
      " auc:0.759685441041706 \n",
      " apur:0.7213856147129476 \n",
      " f1:0.6280206171765179 \n",
      " precision:0.6621964991530209 \n",
      " recall:0.5971992361553151 \n",
      "}\n",
      "=====Epoch 5\n",
      "Training...\n"
     ]
    },
    {
     "name": "stderr",
     "output_type": "stream",
     "text": [
      "Iteration: 100%|██████████| 62/62 [00:01<00:00, 35.83it/s]\n",
      "Iteration: 100%|██████████| 62/62 [00:01<00:00, 44.46it/s]\n",
      "Iteration:   5%|▍         | 3/62 [00:00<00:02, 28.15it/s]]"
     ]
    },
    {
     "name": "stdout",
     "output_type": "stream",
     "text": [
      "Evaluating...\n"
     ]
    },
    {
     "name": "stderr",
     "output_type": "stream",
     "text": [
      "Iteration: 100%|██████████| 62/62 [00:01<00:00, 36.46it/s]\n",
      "Iteration:   5%|▍         | 3/62 [00:00<00:02, 29.28it/s]]"
     ]
    },
    {
     "name": "stdout",
     "output_type": "stream",
     "text": [
      "Evaluating...\n"
     ]
    },
    {
     "name": "stderr",
     "output_type": "stream",
     "text": [
      "Iteration: 100%|██████████| 62/62 [00:02<00:00, 28.63it/s]\n",
      "Iteration: 100%|██████████| 62/62 [00:01<00:00, 32.06it/s]\n",
      "Iteration:  94%|█████████▎| 58/62 [00:01<00:00, 42.53it/s]"
     ]
    },
    {
     "name": "stdout",
     "output_type": "stream",
     "text": [
      "Evaluating...\n"
     ]
    },
    {
     "name": "stderr",
     "output_type": "stream",
     "text": [
      "Iteration: 100%|██████████| 62/62 [00:01<00:00, 41.98it/s]\n",
      "Iteration: 100%|██████████| 62/62 [00:01<00:00, 33.27it/s]\n",
      "Iteration: 100%|██████████| 62/62 [00:01<00:00, 34.86it/s]\n",
      "Iteration: 100%|██████████| 62/62 [00:01<00:00, 49.54it/s]\n",
      "Iteration: 100%|██████████| 62/62 [00:01<00:00, 45.05it/s]\n",
      "Iteration:   3%|▎         | 2/62 [00:00<00:03, 19.60it/s]]"
     ]
    },
    {
     "name": "stdout",
     "output_type": "stream",
     "text": [
      "{'Train':  best_epoch_indx:5\n",
      " auc:0.7844990349514266 \n",
      " apur:0.7490576844040362 \n",
      " f1:0.6739208418031807 \n",
      " precision:0.6353285988050953 \n",
      " recall:0.7175047740292807 \n",
      ", 'Validation':  best_epoch_indx:5\n",
      " auc:0.7844990349514266 \n",
      " apur:0.7490576844040362 \n",
      " f1:0.6739208418031807 \n",
      " precision:0.6353285988050953 \n",
      " recall:0.7175047740292807 \n",
      ", 'Test':  best_epoch_indx:5\n",
      " auc:0.7844990349514266 \n",
      " apur:0.7490576844040362 \n",
      " f1:0.6739208418031807 \n",
      " precision:0.6353285988050953 \n",
      " recall:0.7175047740292807 \n",
      "}\n",
      "=====Epoch 6\n",
      "Training...\n"
     ]
    },
    {
     "name": "stderr",
     "output_type": "stream",
     "text": [
      "Iteration: 100%|██████████| 62/62 [00:01<00:00, 59.89it/s]\n",
      "Iteration: 100%|██████████| 62/62 [00:02<00:00, 28.13it/s]\n",
      "Iteration: 100%|██████████| 62/62 [00:02<00:00, 24.71it/s]\n",
      "Iteration: 100%|██████████| 62/62 [00:01<00:00, 33.19it/s]\n",
      "Iteration:  24%|██▍       | 15/62 [00:00<00:01, 41.26it/s]"
     ]
    },
    {
     "name": "stdout",
     "output_type": "stream",
     "text": [
      "Evaluating...\n"
     ]
    },
    {
     "name": "stderr",
     "output_type": "stream",
     "text": [
      "Iteration: 100%|██████████| 62/62 [00:02<00:00, 26.35it/s]\n",
      "Iteration:  40%|████      | 25/62 [00:00<00:00, 37.65it/s]"
     ]
    },
    {
     "name": "stdout",
     "output_type": "stream",
     "text": [
      "{'Train':  best_epoch_indx:4\n",
      " auc:0.7725503171074891 \n",
      " apur:0.7373844568527242 \n",
      " f1:0.6482954912995665 \n",
      " precision:0.658995265649658 \n",
      " recall:0.637937619350732 \n",
      ", 'Validation':  best_epoch_indx:4\n",
      " auc:0.7725503230620002 \n",
      " apur:0.7373844614245724 \n",
      " f1:0.6482954912995665 \n",
      " precision:0.658995265649658 \n",
      " recall:0.637937619350732 \n",
      ", 'Test':  best_epoch_indx:4\n",
      " auc:0.7725503230620002 \n",
      " apur:0.7373844614245724 \n",
      " f1:0.6482954912995665 \n",
      " precision:0.658995265649658 \n",
      " recall:0.637937619350732 \n",
      "}\n",
      "=====Epoch 5\n",
      "Training...\n"
     ]
    },
    {
     "name": "stderr",
     "output_type": "stream",
     "text": [
      "Iteration:  47%|████▋     | 29/62 [00:00<00:00, 35.66it/s]\n",
      "Iteration:  73%|███████▎  | 45/62 [00:01<00:00, 28.53it/s]"
     ]
    },
    {
     "name": "stdout",
     "output_type": "stream",
     "text": [
      "{'Train':  best_epoch_indx:5\n",
      " auc:0.7787647128526336 \n",
      " apur:0.7410900407011716 \n",
      " f1:0.6662281750777327 \n",
      " precision:0.6281429698951404 \n",
      " recall:0.7092297899427117 \n",
      ", 'Validation':  best_epoch_indx:5\n",
      " auc:0.7787647128526336 \n",
      " apur:0.7410900407011716 \n",
      " f1:0.6662281750777327 \n",
      " precision:0.6281429698951404 \n",
      " recall:0.7092297899427117 \n",
      ", 'Test':  best_epoch_indx:5\n",
      " auc:0.7787647128526336 \n",
      " apur:0.7410900407011716 \n",
      " f1:0.6662281750777327 \n",
      " precision:0.6281429698951404 \n",
      " recall:0.7092297899427117 \n",
      "}\n",
      "=====Epoch 6\n",
      "Training...\n"
     ]
    },
    {
     "name": "stderr",
     "output_type": "stream",
     "text": [
      "Iteration: 100%|██████████| 62/62 [00:02<00:00, 29.71it/s]\n",
      "Iteration: 100%|██████████| 62/62 [00:02<00:00, 27.63it/s]\n",
      "Iteration: 100%|██████████| 62/62 [00:02<00:00, 29.13it/s]\n",
      "Iteration:   5%|▍         | 3/62 [00:00<00:02, 25.09it/s]]"
     ]
    },
    {
     "name": "stdout",
     "output_type": "stream",
     "text": [
      "Evaluating...\n",
      "{'Train':  best_epoch_indx:4\n",
      " auc:0.7623436300724248 \n",
      " apur:0.7246900458607142 \n",
      " f1:0.6439060205580028 \n",
      " precision:0.6198609965838143 \n",
      " recall:0.6698917886696372 \n",
      ", 'Validation':  best_epoch_indx:4\n",
      " auc:0.7623436300724248 \n",
      " apur:0.7246900458607142 \n",
      " f1:0.6439060205580028 \n",
      " precision:0.6198609965838143 \n",
      " recall:0.6698917886696372 \n",
      ", 'Test':  best_epoch_indx:4\n",
      " auc:0.7623436241179137 \n",
      " apur:0.7246900409612348 \n",
      " f1:0.6439060205580028 \n",
      " precision:0.6198609965838143 \n",
      " recall:0.6698917886696372 \n",
      "}\n",
      "=====Epoch 5\n",
      "Training...\n"
     ]
    },
    {
     "name": "stderr",
     "output_type": "stream",
     "text": [
      "\r",
      "Iteration: 100%|██████████| 62/62 [00:01<00:00, 37.60it/s]\r",
      "Iteration: 100%|██████████| 62/62 [00:01<00:00, 38.23it/s]\n",
      "\r",
      "Iteration:   0%|          | 0/62 [00:00<?, ?it/s]\r",
      "Iteration:  10%|▉         | 6/62 [00:00<00:02, 25.17it/s]\r",
      "Iteration:  94%|█████████▎| 58/62 [00:01<00:00, 34.50it/s]\r",
      "Iteration:   8%|▊         | 5/62 [00:00<00:02, 21.79it/s]\r",
      "Iteration:  11%|█▏        | 7/62 [00:00<00:01, 30.36it/s]\r",
      "Iteration:   8%|▊         | 5/62 [00:00<00:01, 41.71it/s]\r",
      "Iteration:  15%|█▍        | 9/62 [00:00<00:02, 25.23it/s]\r",
      "Iteration:  13%|█▎        | 8/62 [00:00<00:02, 23.31it/s]\r",
      "Iteration:  18%|█▊        | 11/62 [00:00<00:01, 33.10it/s]\r",
      "Iteration: 100%|██████████| 62/62 [00:02<00:00, 32.25it/s]\r",
      "Iteration: 100%|██████████| 62/62 [00:02<00:00, 30.84it/s]\n"
     ]
    },
    {
     "name": "stdout",
     "output_type": "stream",
     "text": [
      "Evaluating...\n"
     ]
    },
    {
     "name": "stderr",
     "output_type": "stream",
     "text": [
      "Iteration: 100%|██████████| 62/62 [00:00<00:00, 62.33it/s]\n",
      "Iteration:  42%|████▏     | 26/62 [00:01<00:01, 24.94it/s]"
     ]
    },
    {
     "name": "stdout",
     "output_type": "stream",
     "text": [
      "{'Train':  best_epoch_indx:6\n",
      " auc:0.7876940243094219 \n",
      " apur:0.7521382261694167 \n",
      " f1:0.6695990951363578 \n",
      " precision:0.6611242089589279 \n",
      " recall:0.6782940802036919 \n",
      ", 'Validation':  best_epoch_indx:6\n",
      " auc:0.7876940302644901 \n",
      " apur:0.7521382281618423 \n",
      " f1:0.6695990951363578 \n",
      " precision:0.6611242089589279 \n",
      " recall:0.6782940802036919 \n",
      ", 'Test':  best_epoch_indx:6\n",
      " auc:0.7876940243094219 \n",
      " apur:0.7521382261694167 \n",
      " f1:0.6695990951363578 \n",
      " precision:0.6611242089589279 \n",
      " recall:0.6782940802036919 \n",
      "}\n",
      "=====Epoch 7\n",
      "Training...\n"
     ]
    },
    {
     "name": "stderr",
     "output_type": "stream",
     "text": [
      "Iteration: 100%|██████████| 62/62 [00:02<00:00, 27.54it/s]\n",
      "Iteration: 100%|██████████| 62/62 [00:02<00:00, 27.11it/s]\n",
      "Iteration:   5%|▍         | 3/62 [00:00<00:02, 28.98it/s]]"
     ]
    },
    {
     "name": "stdout",
     "output_type": "stream",
     "text": [
      "Evaluating...\n"
     ]
    },
    {
     "name": "stderr",
     "output_type": "stream",
     "text": [
      "Iteration: 100%|██████████| 62/62 [00:02<00:00, 23.58it/s]\n",
      "Iteration: 100%|██████████| 62/62 [00:01<00:00, 33.01it/s]\n",
      "Iteration:  35%|███▌      | 22/62 [00:01<00:01, 21.26it/s]"
     ]
    },
    {
     "name": "stdout",
     "output_type": "stream",
     "text": [
      "Evaluating...\n"
     ]
    },
    {
     "name": "stderr",
     "output_type": "stream",
     "text": [
      "Iteration: 100%|██████████| 62/62 [00:01<00:00, 34.51it/s]\n",
      "Iteration: 100%|██████████| 62/62 [00:02<00:00, 26.52it/s]\n",
      "Iteration: 100%|██████████| 62/62 [00:01<00:00, 35.45it/s]\n",
      "Iteration: 100%|██████████| 62/62 [00:02<00:00, 25.92it/s]\n",
      "Iteration: 100%|██████████| 62/62 [00:02<00:00, 29.18it/s]\n",
      "Iteration:  97%|█████████▋| 60/62 [00:01<00:00, 34.71it/s]"
     ]
    },
    {
     "name": "stdout",
     "output_type": "stream",
     "text": [
      "{'Train':  best_epoch_indx:6\n",
      " auc:0.7894721421612931 \n",
      " apur:0.7540407529693898 \n",
      " f1:0.6770566890726311 \n",
      " precision:0.6354399285395266 \n",
      " recall:0.724506683640993 \n",
      ", 'Validation':  best_epoch_indx:6\n",
      " auc:0.7894721421612931 \n",
      " apur:0.7540407529693898 \n",
      " f1:0.6770566890726311 \n",
      " precision:0.6354399285395266 \n",
      " recall:0.724506683640993 \n",
      ", 'Test':  best_epoch_indx:6\n",
      " auc:0.7894721421612931 \n",
      " apur:0.7540407529693898 \n",
      " f1:0.6770566890726311 \n",
      " precision:0.6354399285395266 \n",
      " recall:0.724506683640993 \n",
      "}\n",
      "=====Epoch 7\n",
      "Training...\n"
     ]
    },
    {
     "name": "stderr",
     "output_type": "stream",
     "text": [
      "Iteration: 100%|██████████| 62/62 [00:01<00:00, 32.42it/s]\n",
      "Iteration: 100%|██████████| 62/62 [00:01<00:00, 41.10it/s]\n",
      "Iteration: 100%|██████████| 62/62 [00:01<00:00, 36.38it/s]\n",
      "Iteration:   8%|▊         | 5/62 [00:00<00:01, 40.33it/s]]"
     ]
    },
    {
     "name": "stdout",
     "output_type": "stream",
     "text": [
      "{'Train':  best_epoch_indx:6\n",
      " auc:0.7845371766923763 \n",
      " apur:0.7467914008544129 \n",
      " f1:0.6588853972936575 \n",
      " precision:0.6638666322047041 \n",
      " recall:0.6539783577339274 \n",
      ", 'Validation':  best_epoch_indx:6\n",
      " auc:0.7845371766923763 \n",
      " apur:0.7467914008544129 \n",
      " f1:0.6588853972936575 \n",
      " precision:0.6638666322047041 \n",
      " recall:0.6539783577339274 \n",
      ", 'Test':  best_epoch_indx:6\n",
      " auc:0.7845371766923763 \n",
      " apur:0.7467914008544129 \n",
      " f1:0.6588853972936575 \n",
      " precision:0.6638666322047041 \n",
      " recall:0.6539783577339274 \n",
      "}\n",
      "=====Epoch 7\n",
      "Training...\n"
     ]
    },
    {
     "name": "stderr",
     "output_type": "stream",
     "text": [
      "Iteration: 100%|██████████| 62/62 [00:01<00:00, 36.57it/s]\n",
      "Iteration:  35%|███▌      | 22/62 [00:00<00:01, 36.32it/s]"
     ]
    },
    {
     "name": "stdout",
     "output_type": "stream",
     "text": [
      "Evaluating...\n"
     ]
    },
    {
     "name": "stderr",
     "output_type": "stream",
     "text": [
      "Iteration: 100%|██████████| 62/62 [00:02<00:00, 24.23it/s]\n",
      "Iteration: 100%|██████████| 62/62 [00:01<00:00, 37.31it/s]\n",
      "Iteration:  39%|███▊      | 24/62 [00:00<00:01, 30.26it/s]"
     ]
    },
    {
     "name": "stdout",
     "output_type": "stream",
     "text": [
      "Evaluating...\n",
      "{'Train':  best_epoch_indx:5\n",
      " auc:0.780392461827118 \n",
      " apur:0.7445309716791971 \n",
      " f1:0.6697291492661974 \n",
      " precision:0.6301785112832604 \n",
      " recall:0.7145767027371102 \n",
      ", 'Validation':  best_epoch_indx:5\n",
      " auc:0.780392461827118 \n",
      " apur:0.744530971677754 \n",
      " f1:0.6697291492661974 \n",
      " precision:0.6301785112832604 \n",
      " recall:0.7145767027371102 \n",
      ", 'Test':  best_epoch_indx:5\n",
      " auc:0.7803924558726069 \n",
      " apur:0.7445309733967935 \n",
      " f1:0.6697291492661974 \n",
      " precision:0.6301785112832604 \n",
      " recall:0.7145767027371102 \n",
      "}\n",
      "=====Epoch 6\n",
      "Training...\n"
     ]
    },
    {
     "name": "stderr",
     "output_type": "stream",
     "text": [
      "Iteration: 100%|██████████| 62/62 [00:02<00:00, 30.23it/s]\n",
      "Iteration: 100%|██████████| 62/62 [00:02<00:00, 28.14it/s]\n",
      "Iteration:  48%|████▊     | 30/62 [00:01<00:01, 27.96it/s]"
     ]
    },
    {
     "name": "stdout",
     "output_type": "stream",
     "text": [
      "{'Train':  best_epoch_indx:5\n",
      " auc:0.7748558442633346 \n",
      " apur:0.7376919894538625 \n",
      " f1:0.6643577954260464 \n",
      " precision:0.6256185335132703 \n",
      " recall:0.7082113303628262 \n",
      ", 'Validation':  best_epoch_indx:5\n",
      " auc:0.7748558442633346 \n",
      " apur:0.7376919894538625 \n",
      " f1:0.6643577954260464 \n",
      " precision:0.6256185335132703 \n",
      " recall:0.7082113303628262 \n",
      ", 'Test':  best_epoch_indx:5\n",
      " auc:0.7748558442633346 \n",
      " apur:0.7376919894538625 \n",
      " f1:0.6643577954260464 \n",
      " precision:0.6256185335132703 \n",
      " recall:0.7082113303628262 \n",
      "}\n",
      "=====Epoch 6\n",
      "Training...\n"
     ]
    },
    {
     "name": "stderr",
     "output_type": "stream",
     "text": [
      "Iteration: 100%|██████████| 62/62 [00:01<00:00, 41.62it/s]\n",
      "Iteration: 100%|██████████| 62/62 [00:02<00:00, 26.66it/s]\n",
      "Iteration: 100%|██████████| 62/62 [00:02<00:00, 29.42it/s]\n",
      "Iteration:   0%|          | 0/62 [00:00<?, ?it/s]"
     ]
    },
    {
     "name": "stdout",
     "output_type": "stream",
     "text": [
      "Evaluating...\n"
     ]
    },
    {
     "name": "stderr",
     "output_type": "stream",
     "text": [
      "Iteration:  19%|█▉        | 12/62 [00:00<00:02, 23.94it/s]"
     ]
    },
    {
     "name": "stdout",
     "output_type": "stream",
     "text": [
      "{'Train':  best_epoch_indx:7\n",
      " auc:0.7931948101104431 \n",
      " apur:0.7569382353068341 \n",
      " f1:0.6678550964538105 \n",
      " precision:0.6679826795720836 \n",
      " recall:0.6677275620623806 \n",
      ", 'Validation':  best_epoch_indx:7\n",
      " auc:0.7931948101104431 \n",
      " apur:0.7569382353085022 \n",
      " f1:0.6678550964538105 \n",
      " precision:0.6679826795720836 \n",
      " recall:0.6677275620623806 \n",
      ", 'Test':  best_epoch_indx:7\n",
      " auc:0.7931948101104433 \n",
      " apur:0.7569382353085022 \n",
      " f1:0.6678550964538105 \n",
      " precision:0.6679826795720836 \n",
      " recall:0.6677275620623806 \n",
      "}\n",
      "=====Epoch 8\n",
      "Training...\n"
     ]
    },
    {
     "name": "stderr",
     "output_type": "stream",
     "text": [
      "Iteration: 100%|██████████| 62/62 [00:01<00:00, 33.91it/s]\n",
      "Iteration:  74%|███████▍  | 46/62 [00:01<00:00, 35.30it/s]"
     ]
    },
    {
     "name": "stdout",
     "output_type": "stream",
     "text": [
      "Evaluating...\n"
     ]
    },
    {
     "name": "stderr",
     "output_type": "stream",
     "text": [
      "Iteration: 100%|██████████| 62/62 [00:01<00:00, 39.00it/s]\n",
      "Iteration: 100%|██████████| 62/62 [00:02<00:00, 26.76it/s]\n",
      "Iteration: 100%|██████████| 62/62 [00:01<00:00, 37.61it/s]\n",
      "Iteration:   6%|▋         | 4/62 [00:00<00:01, 31.46it/s]]"
     ]
    },
    {
     "name": "stdout",
     "output_type": "stream",
     "text": [
      "Evaluating...\n"
     ]
    },
    {
     "name": "stderr",
     "output_type": "stream",
     "text": [
      "Iteration: 100%|██████████| 62/62 [00:01<00:00, 33.45it/s]\n",
      "Iteration: 100%|██████████| 62/62 [00:02<00:00, 22.98it/s]\n",
      "Iteration: 100%|██████████| 62/62 [00:01<00:00, 37.93it/s]\n",
      "Iteration: 100%|██████████| 62/62 [00:02<00:00, 29.11it/s]\n",
      "Iteration: 100%|██████████| 62/62 [00:02<00:00, 30.33it/s]\n",
      "Iteration:   6%|▋         | 4/62 [00:00<00:01, 39.26it/s]]"
     ]
    },
    {
     "name": "stdout",
     "output_type": "stream",
     "text": [
      "{'Train':  best_epoch_indx:7\n",
      " auc:0.7940846100301356 \n",
      " apur:0.7576063545095945 \n",
      " f1:0.6619128614418421 \n",
      " precision:0.680796662629525 \n",
      " recall:0.6440483768300446 \n",
      ", 'Validation':  best_epoch_indx:7\n",
      " auc:0.7940846100301358 \n",
      " apur:0.7576063545102851 \n",
      " f1:0.6619128614418421 \n",
      " precision:0.680796662629525 \n",
      " recall:0.6440483768300446 \n",
      ", 'Test':  best_epoch_indx:7\n",
      " auc:0.7940846100301358 \n",
      " apur:0.7576063545102851 \n",
      " f1:0.6619128614418421 \n",
      " precision:0.680796662629525 \n",
      " recall:0.6440483768300446 \n",
      "}\n",
      "=====Epoch 8\n",
      "Training...\n"
     ]
    },
    {
     "name": "stderr",
     "output_type": "stream",
     "text": [
      "Iteration: 100%|██████████| 62/62 [00:02<00:00, 21.25it/s]\n",
      "Iteration: 100%|██████████| 62/62 [00:03<00:00, 19.74it/s]\n",
      "Iteration: 100%|██████████| 62/62 [00:02<00:00, 24.49it/s]\n",
      "Iteration:  56%|█████▋    | 35/62 [00:00<00:00, 35.22it/s]"
     ]
    },
    {
     "name": "stdout",
     "output_type": "stream",
     "text": [
      "{'Train':  best_epoch_indx:7\n",
      " auc:0.7957186215994253 \n",
      " apur:0.7613217719704258 \n",
      " f1:0.6788650553254622 \n",
      " precision:0.6598173515981736 \n",
      " recall:0.6990451941438575 \n",
      ", 'Validation':  best_epoch_indx:7\n",
      " auc:0.7957186215994253 \n",
      " apur:0.7613217719704258 \n",
      " f1:0.6788650553254622 \n",
      " precision:0.6598173515981736 \n",
      " recall:0.6990451941438575 \n",
      ", 'Test':  best_epoch_indx:7\n",
      " auc:0.7957186215994253 \n",
      " apur:0.7613217719704258 \n",
      " f1:0.6788650553254622 \n",
      " precision:0.6598173515981736 \n",
      " recall:0.6990451941438575 \n",
      "}\n",
      "=====Epoch 8\n",
      "Training...\n"
     ]
    },
    {
     "name": "stderr",
     "output_type": "stream",
     "text": [
      "\r",
      "Iteration:  87%|████████▋ | 54/62 [00:01<00:00, 40.37it/s]\r",
      "Iteration:  11%|█▏        | 7/62 [00:00<00:01, 32.34it/s]\r",
      "Iteration:  95%|█████████▌| 59/62 [00:01<00:00, 40.74it/s]\r",
      "Iteration:  63%|██████▎   | 39/62 [00:01<00:00, 33.25it/s]\r",
      "Iteration:  18%|█▊        | 11/62 [00:00<00:01, 34.30it/s]\r",
      "Iteration: 100%|██████████| 62/62 [00:01<00:00, 40.51it/s]\n",
      "\r",
      "Iteration:   0%|          | 0/62 [00:00<?, ?it/s]"
     ]
    },
    {
     "name": "stdout",
     "output_type": "stream",
     "text": [
      "Evaluating...\n"
     ]
    },
    {
     "name": "stderr",
     "output_type": "stream",
     "text": [
      "Iteration: 100%|██████████| 62/62 [00:01<00:00, 33.99it/s]\n",
      "Iteration: 100%|██████████| 62/62 [00:01<00:00, 48.35it/s]\n",
      "Iteration: 100%|██████████| 62/62 [00:01<00:00, 34.69it/s]\n",
      "Iteration:  47%|████▋     | 29/62 [00:01<00:01, 21.78it/s]"
     ]
    },
    {
     "name": "stdout",
     "output_type": "stream",
     "text": [
      "Evaluating...\n",
      "{'Train':  best_epoch_indx:6\n",
      " auc:0.7878612884728406 \n",
      " apur:0.747951400294989 \n",
      " f1:0.637719728272288 \n",
      " precision:0.7087484433374844 \n",
      " recall:0.5796308084022915 \n",
      ", 'Validation':  best_epoch_indx:6\n",
      " auc:0.7878612825183295 \n",
      " apur:0.7479513956057104 \n",
      " f1:0.637719728272288 \n",
      " precision:0.7087484433374844 \n",
      " recall:0.5796308084022915 \n",
      ", 'Test':  best_epoch_indx:6\n",
      " auc:0.7878612765638184 \n",
      " apur:0.7479513920746097 \n",
      " f1:0.637719728272288 \n",
      " precision:0.7087484433374844 \n",
      " recall:0.5796308084022915 \n",
      "}\n",
      "=====Epoch 7\n",
      "Training...\n"
     ]
    },
    {
     "name": "stderr",
     "output_type": "stream",
     "text": [
      "Iteration: 100%|██████████| 62/62 [00:02<00:00, 21.72it/s]\n",
      "Iteration: 100%|██████████| 62/62 [00:02<00:00, 25.98it/s]\n",
      "Iteration: 100%|██████████| 62/62 [00:01<00:00, 34.86it/s]\n",
      "Iteration:  90%|█████████ | 56/62 [00:01<00:00, 29.07it/s]"
     ]
    },
    {
     "name": "stdout",
     "output_type": "stream",
     "text": [
      "Evaluating...\n"
     ]
    },
    {
     "name": "stderr",
     "output_type": "stream",
     "text": [
      "Iteration: 100%|██████████| 62/62 [00:02<00:00, 29.43it/s]\n",
      "Iteration: 100%|██████████| 62/62 [00:01<00:00, 39.91it/s]\n"
     ]
    },
    {
     "name": "stdout",
     "output_type": "stream",
     "text": [
      "{'Train':  best_epoch_indx:6\n",
      " auc:0.785290124621963 \n",
      " apur:0.7494249787390664 \n",
      " f1:0.6489516022682316 \n",
      " precision:0.6730953357953768 \n",
      " recall:0.626479949077021 \n",
      ", 'Validation':  best_epoch_indx:6\n",
      " auc:0.7852901186674519 \n",
      " apur:0.7494249713738519 \n",
      " f1:0.6489516022682316 \n",
      " precision:0.6730953357953768 \n",
      " recall:0.626479949077021 \n",
      ", 'Test':  best_epoch_indx:6\n",
      " auc:0.785290124621963 \n",
      " apur:0.7494249787390664 \n",
      " f1:0.6489516022682316 \n",
      " precision:0.6730953357953768 \n",
      " recall:0.626479949077021 \n",
      "}\n",
      "=====Epoch 7\n",
      "Training...\n",
      "{'Train':  best_epoch_indx:8\n",
      " auc:0.8005836026364039 \n",
      " apur:0.7666375686562752 \n",
      " f1:0.6855452240067625 \n",
      " precision:0.6520041346043414 \n",
      " recall:0.7227243793761935 \n",
      ", 'Validation':  best_epoch_indx:8\n",
      " auc:0.8005836026364039 \n",
      " apur:0.7666375686562752 \n",
      " f1:0.6855452240067625 \n",
      " precision:0.6520041346043414 \n",
      " recall:0.7227243793761935 \n",
      ", 'Test':  best_epoch_indx:8\n",
      " auc:0.8005836026364039 \n",
      " apur:0.7666375686562752 \n",
      " f1:0.6855452240067625 \n",
      " precision:0.6520041346043414 \n",
      " recall:0.7227243793761935 \n",
      "}\n",
      "=====Epoch 9\n",
      "Training...\n"
     ]
    },
    {
     "name": "stderr",
     "output_type": "stream",
     "text": [
      "Iteration: 100%|██████████| 62/62 [00:01<00:00, 32.62it/s]\n",
      "Iteration: 100%|██████████| 62/62 [00:01<00:00, 36.33it/s]\n",
      "Iteration:   3%|▎         | 2/62 [00:00<00:03, 18.23it/s]]"
     ]
    },
    {
     "name": "stdout",
     "output_type": "stream",
     "text": [
      "Evaluating...\n"
     ]
    },
    {
     "name": "stderr",
     "output_type": "stream",
     "text": [
      "Iteration: 100%|██████████| 62/62 [00:02<00:00, 26.28it/s]\n",
      "Iteration:  10%|▉         | 6/62 [00:00<00:02, 27.07it/s]"
     ]
    },
    {
     "name": "stdout",
     "output_type": "stream",
     "text": [
      "Evaluating...\n"
     ]
    },
    {
     "name": "stderr",
     "output_type": "stream",
     "text": [
      "Iteration: 100%|██████████| 62/62 [00:01<00:00, 31.51it/s]\n",
      "Iteration: 100%|██████████| 62/62 [00:02<00:00, 30.89it/s]\n",
      "Iteration:  10%|▉         | 6/62 [00:00<00:02, 26.82it/s]]"
     ]
    },
    {
     "name": "stdout",
     "output_type": "stream",
     "text": [
      "{'Train':  best_epoch_indx:8\n",
      " auc:0.7994376440619531 \n",
      " apur:0.7644825442803936 \n",
      " f1:0.6719869297473923 \n",
      " precision:0.6634818215659511 \n",
      " recall:0.6807129217059198 \n",
      ", 'Validation':  best_epoch_indx:8\n",
      " auc:0.7994376500164642 \n",
      " apur:0.7644825458615273 \n",
      " f1:0.6719869297473923 \n",
      " precision:0.6634818215659511 \n",
      " recall:0.6807129217059198 \n",
      ", 'Test':  best_epoch_indx:8\n",
      " auc:0.7994376500164642 \n",
      " apur:0.7644825458615273 \n",
      " f1:0.6719869297473923 \n",
      " precision:0.6634818215659511 \n",
      " recall:0.6807129217059198 \n",
      "}\n",
      "=====Epoch 9\n",
      "Training...\n"
     ]
    },
    {
     "name": "stderr",
     "output_type": "stream",
     "text": [
      "Iteration: 100%|██████████| 62/62 [00:01<00:00, 33.78it/s]\n",
      "Iteration: 100%|██████████| 62/62 [00:02<00:00, 25.65it/s]\n",
      "Iteration: 100%|██████████| 62/62 [00:02<00:00, 23.29it/s]\n",
      "Iteration: 100%|██████████| 62/62 [00:01<00:00, 39.06it/s]\n",
      "Iteration:   5%|▍         | 3/62 [00:00<00:01, 29.91it/s]]"
     ]
    },
    {
     "name": "stdout",
     "output_type": "stream",
     "text": [
      "Evaluating...\n"
     ]
    },
    {
     "name": "stderr",
     "output_type": "stream",
     "text": [
      "Iteration: 100%|██████████| 62/62 [00:01<00:00, 33.95it/s]\n",
      "Iteration:  61%|██████▏   | 38/62 [00:00<00:00, 37.89it/s]"
     ]
    },
    {
     "name": "stdout",
     "output_type": "stream",
     "text": [
      "{'Train':  best_epoch_indx:8\n",
      " auc:0.8011800920403427 \n",
      " apur:0.7679158160238118 \n",
      " f1:0.6765898150494046 \n",
      " precision:0.6732635825034665 \n",
      " recall:0.6799490770210057 \n",
      ", 'Validation':  best_epoch_indx:8\n",
      " auc:0.8011800920403427 \n",
      " apur:0.7679158160238118 \n",
      " f1:0.6765898150494046 \n",
      " precision:0.6732635825034665 \n",
      " recall:0.6799490770210057 \n",
      ", 'Test':  best_epoch_indx:8\n",
      " auc:0.8011800920403427 \n",
      " apur:0.7679158160238118 \n",
      " f1:0.6765898150494046 \n",
      " precision:0.6732635825034665 \n",
      " recall:0.6799490770210057 \n",
      "}\n",
      "=====Epoch 9\n",
      "Training...\n"
     ]
    },
    {
     "name": "stderr",
     "output_type": "stream",
     "text": [
      "Iteration: 100%|██████████| 62/62 [00:01<00:00, 32.73it/s]\n",
      "Iteration: 100%|██████████| 62/62 [00:02<00:00, 25.16it/s]\n",
      "Iteration: 100%|██████████| 62/62 [00:02<00:00, 27.08it/s]\n",
      "Iteration: 100%|██████████| 62/62 [00:01<00:00, 33.66it/s]\n",
      "Iteration:   0%|          | 0/62 [00:00<?, ?it/s]"
     ]
    },
    {
     "name": "stdout",
     "output_type": "stream",
     "text": [
      "Evaluating...\n"
     ]
    },
    {
     "name": "stderr",
     "output_type": "stream",
     "text": [
      "\r",
      "Iteration:  85%|████████▌ | 53/62 [00:02<00:00, 26.38it/s]\r",
      "Iteration:  11%|█▏        | 7/62 [00:00<00:00, 64.99it/s]\r",
      "Iteration:   8%|▊         | 5/62 [00:00<00:01, 38.09it/s]\r",
      "Iteration:  90%|█████████ | 56/62 [00:02<00:00, 26.51it/s]\r",
      "Iteration:  23%|██▎       | 14/62 [00:00<00:00, 63.68it/s]\r",
      "Iteration:  16%|█▌        | 10/62 [00:00<00:01, 41.28it/s]\r",
      "Iteration:   0%|          | 0/62 [00:00<?, ?it/s]"
     ]
    },
    {
     "name": "stdout",
     "output_type": "stream",
     "text": [
      "{'Train':  best_epoch_indx:7\n",
      " auc:0.7935251241664429 \n",
      " apur:0.7576373067376763 \n",
      " f1:0.6746385211396498 \n",
      " precision:0.6477272727272727 \n",
      " recall:0.7038828771483132 \n",
      ", 'Validation':  best_epoch_indx:7\n",
      " auc:0.7935251241664429 \n",
      " apur:0.7576373067376763 \n",
      " f1:0.6746385211396498 \n",
      " precision:0.6477272727272727 \n",
      " recall:0.7038828771483132 \n",
      ", 'Test':  best_epoch_indx:7\n",
      " auc:0.7935251241664429 \n",
      " apur:0.7576373067376763 \n",
      " f1:0.6746385211396498 \n",
      " precision:0.6477272727272727 \n",
      " recall:0.7038828771483132 \n",
      "}\n",
      "=====Epoch 8\n",
      "Training...\n"
     ]
    },
    {
     "name": "stderr",
     "output_type": "stream",
     "text": [
      "Iteration: 100%|██████████| 62/62 [00:02<00:00, 22.45it/s]\n",
      "Iteration: 100%|██████████| 62/62 [00:01<00:00, 36.66it/s]\n",
      "Iteration: 100%|██████████| 62/62 [00:01<00:00, 34.59it/s]\n",
      "Iteration: 100%|██████████| 62/62 [00:01<00:00, 31.78it/s]\n",
      "Iteration:  81%|████████  | 50/62 [00:02<00:00, 20.01it/s]"
     ]
    },
    {
     "name": "stdout",
     "output_type": "stream",
     "text": [
      "Evaluating...\n"
     ]
    },
    {
     "name": "stderr",
     "output_type": "stream",
     "text": [
      "Iteration: 100%|██████████| 62/62 [00:02<00:00, 22.56it/s]\n",
      "Iteration:   0%|          | 0/62 [00:00<?, ?it/s]4.94it/s]"
     ]
    },
    {
     "name": "stdout",
     "output_type": "stream",
     "text": [
      "{'Train':  best_epoch_indx:9\n",
      " auc:0.8067649455388172 \n",
      " apur:0.7717975892952086 \n",
      " f1:0.6835789342784305 \n",
      " precision:0.6680845892075838 \n",
      " recall:0.6998090388287714 \n",
      ", 'Validation':  best_epoch_indx:9\n",
      " auc:0.806764933628681 \n",
      " apur:0.7717975793104235 \n",
      " f1:0.6835789342784305 \n",
      " precision:0.6680845892075838 \n",
      " recall:0.6998090388287714 \n",
      ", 'Test':  best_epoch_indx:9\n",
      " auc:0.8067649455388173 \n",
      " apur:0.7717975892912905 \n",
      " f1:0.6835789342784305 \n",
      " precision:0.6680845892075838 \n",
      " recall:0.6998090388287714 \n",
      "}\n",
      "=====Epoch 10\n",
      "Training...\n"
     ]
    },
    {
     "name": "stderr",
     "output_type": "stream",
     "text": [
      "Iteration: 100%|██████████| 62/62 [00:01<00:00, 41.24it/s]\n",
      "Iteration:  53%|█████▎    | 33/62 [00:01<00:00, 29.65it/s]"
     ]
    },
    {
     "name": "stdout",
     "output_type": "stream",
     "text": [
      "Evaluating...\n"
     ]
    },
    {
     "name": "stderr",
     "output_type": "stream",
     "text": [
      "Iteration: 100%|██████████| 62/62 [00:02<00:00, 27.78it/s]\n",
      "Iteration: 100%|██████████| 62/62 [00:03<00:00, 19.06it/s]\n",
      "Iteration: 100%|██████████| 62/62 [00:02<00:00, 27.14it/s]\n",
      "Iteration: 100%|██████████| 62/62 [00:01<00:00, 32.45it/s]\n",
      "Iteration:  58%|█████▊    | 36/62 [00:00<00:00, 41.51it/s]"
     ]
    },
    {
     "name": "stdout",
     "output_type": "stream",
     "text": [
      "{'Train':  best_epoch_indx:7\n",
      " auc:0.7991305996966773 \n",
      " apur:0.7641450626817106 \n",
      " f1:0.6841158377343162 \n",
      " precision:0.6286262798634812 \n",
      " recall:0.7503500954805856 \n",
      ", 'Validation':  best_epoch_indx:7\n",
      " auc:0.7991305996966773 \n",
      " apur:0.7641450626817106 \n",
      " f1:0.6841158377343162 \n",
      " precision:0.6286262798634812 \n",
      " recall:0.7503500954805856 \n",
      ", 'Test':  best_epoch_indx:7\n",
      " auc:0.7991305996966773 \n",
      " apur:0.7641450626817106 \n",
      " f1:0.6841158377343162 \n",
      " precision:0.6286262798634812 \n",
      " recall:0.7503500954805856 \n",
      "}\n",
      "=====Epoch 8\n",
      "Training...\n"
     ]
    },
    {
     "name": "stderr",
     "output_type": "stream",
     "text": [
      "Iteration:   0%|          | 0/62 [00:00<?, ?it/s]0.08it/s]"
     ]
    },
    {
     "name": "stdout",
     "output_type": "stream",
     "text": [
      "{'Train':  best_epoch_indx:9\n",
      " auc:0.8042238086363038 \n",
      " apur:0.7682182470028028 \n",
      " f1:0.681171032357473 \n",
      " precision:0.6602150537634408 \n",
      " recall:0.7035009548058562 \n",
      ", 'Validation':  best_epoch_indx:9\n",
      " auc:0.804223820545326 \n",
      " apur:0.7682182515481927 \n",
      " f1:0.681171032357473 \n",
      " precision:0.6602150537634408 \n",
      " recall:0.7035009548058562 \n",
      ", 'Test':  best_epoch_indx:9\n",
      " auc:0.804223820545326 \n",
      " apur:0.7682182515481927 \n",
      " f1:0.681171032357473 \n",
      " precision:0.6602150537634408 \n",
      " recall:0.7035009548058562 \n",
      "}\n",
      "=====Epoch 10\n",
      "Training...\n"
     ]
    },
    {
     "name": "stderr",
     "output_type": "stream",
     "text": [
      "Iteration: 100%|██████████| 62/62 [00:01<00:00, 36.75it/s]\n",
      "Iteration: 100%|██████████| 62/62 [00:01<00:00, 51.25it/s]\n",
      "Iteration: 100%|██████████| 62/62 [00:01<00:00, 35.11it/s]\n",
      "Iteration:  94%|█████████▎| 58/62 [00:01<00:00, 35.86it/s]"
     ]
    },
    {
     "name": "stdout",
     "output_type": "stream",
     "text": [
      "Evaluating...\n",
      "Evaluating...\n"
     ]
    },
    {
     "name": "stderr",
     "output_type": "stream",
     "text": [
      "Iteration: 100%|██████████| 62/62 [00:02<00:00, 27.86it/s]\n",
      "Iteration: 100%|██████████| 62/62 [00:01<00:00, 32.79it/s]\n",
      "Iteration:   3%|▎         | 2/62 [00:00<00:03, 16.76it/s]]"
     ]
    },
    {
     "name": "stdout",
     "output_type": "stream",
     "text": [
      "{'Train':  best_epoch_indx:9\n",
      " auc:0.8058497885265965 \n",
      " apur:0.773070610323798 \n",
      " f1:0.684891023272996 \n",
      " precision:0.6631691904137356 \n",
      " recall:0.7080840229153406 \n",
      ", 'Validation':  best_epoch_indx:9\n",
      " auc:0.8058497885265965 \n",
      " apur:0.773070610323798 \n",
      " f1:0.684891023272996 \n",
      " precision:0.6631691904137356 \n",
      " recall:0.7080840229153406 \n",
      ", 'Test':  best_epoch_indx:9\n",
      " auc:0.8058497885265965 \n",
      " apur:0.773070610323798 \n",
      " f1:0.684891023272996 \n",
      " precision:0.6631691904137356 \n",
      " recall:0.7080840229153406 \n",
      "}\n",
      "=====Epoch 10\n",
      "Training...\n"
     ]
    },
    {
     "name": "stderr",
     "output_type": "stream",
     "text": [
      "Iteration: 100%|██████████| 62/62 [00:02<00:00, 28.58it/s]\n",
      "Iteration:  95%|█████████▌| 59/62 [00:01<00:00, 36.38it/s]\n",
      "Iteration: 100%|██████████| 62/62 [00:01<00:00, 32.73it/s]\n",
      "Iteration: 100%|██████████| 62/62 [00:01<00:00, 39.01it/s]\n",
      "Iteration:   0%|          | 0/62 [00:00<?, ?it/s]"
     ]
    },
    {
     "name": "stdout",
     "output_type": "stream",
     "text": [
      "Evaluating...\n",
      "{'Train':  best_epoch_indx:8\n",
      " auc:0.8009315356267331 \n",
      " apur:0.7651386989201812 \n",
      " f1:0.6906752411575564 \n",
      " precision:0.6385945945945946 \n",
      " recall:0.7520050922978995 \n",
      ", 'Validation':  best_epoch_indx:8\n",
      " auc:0.800931529672222 \n",
      " apur:0.7651386926519308 \n",
      " f1:0.6906752411575564 \n",
      " precision:0.6385945945945946 \n",
      " recall:0.7520050922978995 \n",
      ", 'Test':  best_epoch_indx:8\n",
      " auc:0.8009315356267331 \n",
      " apur:0.7651386989201812 \n",
      " f1:0.6906752411575564 \n",
      " precision:0.6385945945945946 \n",
      " recall:0.7520050922978995 \n",
      "}\n",
      "=====Epoch 9\n",
      "Training...\n"
     ]
    },
    {
     "name": "stderr",
     "output_type": "stream",
     "text": [
      "Iteration: 100%|██████████| 62/62 [00:02<00:00, 23.53it/s]\n",
      "Iteration: 100%|██████████| 62/62 [00:01<00:00, 35.46it/s]\n",
      "Iteration:  87%|████████▋ | 54/62 [00:01<00:00, 30.03it/s]"
     ]
    },
    {
     "name": "stdout",
     "output_type": "stream",
     "text": [
      "Evaluating...\n"
     ]
    },
    {
     "name": "stderr",
     "output_type": "stream",
     "text": [
      "Iteration: 100%|██████████| 62/62 [00:01<00:00, 31.64it/s]\n",
      "Iteration: 100%|██████████| 62/62 [00:02<00:00, 29.25it/s]\n",
      "Iteration:  42%|████▏     | 26/62 [00:01<00:01, 24.94it/s]"
     ]
    },
    {
     "name": "stdout",
     "output_type": "stream",
     "text": [
      "{'Train':  best_epoch_indx:10\n",
      " auc:0.8019525894393178 \n",
      " apur:0.7696508262069264 \n",
      " f1:0.6787415392328905 \n",
      " precision:0.6684359955561042 \n",
      " recall:0.6893698281349459 \n",
      ", 'Validation':  best_epoch_indx:10\n",
      " auc:0.8019525894393178 \n",
      " apur:0.7696508262069264 \n",
      " f1:0.6787415392328905 \n",
      " precision:0.6684359955561042 \n",
      " recall:0.6893698281349459 \n",
      ", 'Test':  best_epoch_indx:10\n",
      " auc:0.8019525894393178 \n",
      " apur:0.7696508262069264 \n",
      " f1:0.6787415392328905 \n",
      " precision:0.6684359955561042 \n",
      " recall:0.6893698281349459 \n",
      "}\n",
      "=====Epoch 11\n",
      "Training...\n"
     ]
    },
    {
     "name": "stderr",
     "output_type": "stream",
     "text": [
      "Iteration:   3%|▎         | 2/62 [00:00<00:03, 16.15it/s]]\n",
      "Iteration: 100%|██████████| 62/62 [00:01<00:00, 41.00it/s]\n",
      "Iteration:  74%|███████▍  | 46/62 [00:01<00:00, 30.78it/s]"
     ]
    },
    {
     "name": "stdout",
     "output_type": "stream",
     "text": [
      "Evaluating...\n"
     ]
    },
    {
     "name": "stderr",
     "output_type": "stream",
     "text": [
      "Iteration: 100%|██████████| 62/62 [00:02<00:00, 21.02it/s]\n",
      "Iteration: 100%|██████████| 62/62 [00:02<00:00, 25.06it/s]\n",
      "Iteration: 100%|██████████| 62/62 [00:02<00:00, 27.70it/s]\n",
      "Iteration: 100%|██████████| 62/62 [00:01<00:00, 40.12it/s]\n",
      "Iteration: 100%|██████████| 62/62 [00:01<00:00, 33.38it/s]\n",
      "Iteration:   0%|          | 0/62 [00:00<?, ?it/s]0.07it/s]"
     ]
    },
    {
     "name": "stdout",
     "output_type": "stream",
     "text": [
      "{'Train':  best_epoch_indx:10\n",
      " auc:0.8047598694532985 \n",
      " apur:0.7681880366234811 \n",
      " f1:0.6733303622588654 \n",
      " precision:0.673458991339786 \n",
      " recall:0.6732017823042648 \n",
      ", 'Validation':  best_epoch_indx:10\n",
      " auc:0.8047598634987873 \n",
      " apur:0.7681880281723996 \n",
      " f1:0.6733303622588654 \n",
      " precision:0.673458991339786 \n",
      " recall:0.6732017823042648 \n",
      ", 'Test':  best_epoch_indx:10\n",
      " auc:0.8047598694532985 \n",
      " apur:0.768188036623481 \n",
      " f1:0.6733303622588654 \n",
      " precision:0.673458991339786 \n",
      " recall:0.6732017823042648 \n",
      "}\n",
      "=====Epoch 11\n",
      "Training...\n"
     ]
    },
    {
     "name": "stderr",
     "output_type": "stream",
     "text": [
      "Iteration: 100%|██████████| 62/62 [00:02<00:00, 27.96it/s]\n",
      "Iteration: 100%|██████████| 62/62 [00:02<00:00, 29.68it/s]\n",
      "Iteration:  97%|█████████▋| 60/62 [00:02<00:00, 21.51it/s]"
     ]
    },
    {
     "name": "stdout",
     "output_type": "stream",
     "text": [
      "{'Train':  best_epoch_indx:10\n",
      " auc:0.8061258059365954 \n",
      " apur:0.7725036225226793 \n",
      " f1:0.678798564322146 \n",
      " precision:0.6715674059307252 \n",
      " recall:0.686187141947804 \n",
      ", 'Validation':  best_epoch_indx:10\n",
      " auc:0.8061258059365954 \n",
      " apur:0.7725036225226793 \n",
      " f1:0.678798564322146 \n",
      " precision:0.6715674059307252 \n",
      " recall:0.686187141947804 \n",
      ", 'Test':  best_epoch_indx:10\n",
      " auc:0.8061258059365954 \n",
      " apur:0.7725036225226793 \n",
      " f1:0.678798564322146 \n",
      " precision:0.6715674059307252 \n",
      " recall:0.686187141947804 \n",
      "}\n",
      "=====Epoch 11\n",
      "Training...\n"
     ]
    },
    {
     "name": "stderr",
     "output_type": "stream",
     "text": [
      "Iteration: 100%|██████████| 62/62 [00:02<00:00, 20.69it/s]\n",
      "Iteration: 100%|██████████| 62/62 [00:01<00:00, 33.56it/s]\n",
      "Iteration:   5%|▍         | 3/62 [00:00<00:02, 23.98it/s]]"
     ]
    },
    {
     "name": "stdout",
     "output_type": "stream",
     "text": [
      "Evaluating...\n"
     ]
    },
    {
     "name": "stderr",
     "output_type": "stream",
     "text": [
      "Iteration: 100%|██████████| 62/62 [00:02<00:00, 26.79it/s]\n",
      "Iteration:  27%|██▋       | 17/62 [00:00<00:01, 31.23it/s]"
     ]
    },
    {
     "name": "stdout",
     "output_type": "stream",
     "text": [
      "{'Train':  best_epoch_indx:8\n",
      " auc:0.8048554810381571 \n",
      " apur:0.7703168838878056 \n",
      " f1:0.6791542320147311 \n",
      " precision:0.6774765644793515 \n",
      " recall:0.6808402291534055 \n",
      ", 'Validation':  best_epoch_indx:8\n",
      " auc:0.8048554810381571 \n",
      " apur:0.7703168838878056 \n",
      " f1:0.6791542320147311 \n",
      " precision:0.6774765644793515 \n",
      " recall:0.6808402291534055 \n",
      ", 'Test':  best_epoch_indx:8\n",
      " auc:0.8048554810381571 \n",
      " apur:0.7703168838878056 \n",
      " f1:0.6791542320147311 \n",
      " precision:0.6774765644793515 \n",
      " recall:0.6808402291534055 \n",
      "}\n",
      "=====Epoch 9\n",
      "Training...\n"
     ]
    },
    {
     "name": "stderr",
     "output_type": "stream",
     "text": [
      "Iteration: 100%|██████████| 62/62 [00:01<00:00, 39.41it/s]\n",
      "Iteration:  71%|███████   | 44/62 [00:01<00:00, 39.37it/s]"
     ]
    },
    {
     "name": "stdout",
     "output_type": "stream",
     "text": [
      "Evaluating...\n"
     ]
    },
    {
     "name": "stderr",
     "output_type": "stream",
     "text": [
      "Iteration: 100%|██████████| 62/62 [00:01<00:00, 33.31it/s]\n",
      "Iteration: 100%|██████████| 62/62 [00:02<00:00, 29.69it/s]\n",
      "Iteration: 100%|██████████| 62/62 [00:02<00:00, 26.54it/s]\n",
      "Iteration:  79%|███████▉  | 49/62 [00:01<00:00, 31.31it/s]"
     ]
    },
    {
     "name": "stdout",
     "output_type": "stream",
     "text": [
      "Evaluating...\n",
      "{'Train':  best_epoch_indx:9\n",
      " auc:0.8084730073079716 \n",
      " apur:0.7723389512221439 \n",
      " f1:0.6901123181734488 \n",
      " precision:0.6662716283479497 \n",
      " recall:0.7157224697644812 \n",
      ", 'Validation':  best_epoch_indx:9\n",
      " auc:0.8084730073079716 \n",
      " apur:0.7723389512221439 \n",
      " f1:0.6901123181734488 \n",
      " precision:0.6662716283479497 \n",
      " recall:0.7157224697644812 \n",
      ", 'Test':  best_epoch_indx:9\n",
      " auc:0.8084730073079716 \n",
      " apur:0.7723389512221439 \n",
      " f1:0.6901123181734488 \n",
      " precision:0.6662716283479497 \n",
      " recall:0.7157224697644812 \n",
      "}\n",
      "=====Epoch 10\n",
      "Training...\n"
     ]
    },
    {
     "name": "stderr",
     "output_type": "stream",
     "text": [
      "Iteration: 100%|██████████| 62/62 [00:02<00:00, 28.29it/s]\n",
      "Iteration: 100%|██████████| 62/62 [00:02<00:00, 25.46it/s]\n",
      "Iteration:  82%|████████▏ | 51/62 [00:01<00:00, 28.01it/s]"
     ]
    },
    {
     "name": "stdout",
     "output_type": "stream",
     "text": [
      "{'Train':  best_epoch_indx:11\n",
      " auc:0.8041151069420077 \n",
      " apur:0.7704610294668303 \n",
      " f1:0.6932656554329221 \n",
      " precision:0.6462367957746479 \n",
      " recall:0.7476766390833863 \n",
      ", 'Validation':  best_epoch_indx:11\n",
      " auc:0.8041151009869394 \n",
      " apur:0.7704610241743861 \n",
      " f1:0.6932656554329221 \n",
      " precision:0.6462367957746479 \n",
      " recall:0.7476766390833863 \n",
      ", 'Test':  best_epoch_indx:11\n",
      " auc:0.8041151069420076 \n",
      " apur:0.7704610395733582 \n",
      " f1:0.6932656554329221 \n",
      " precision:0.6462367957746479 \n",
      " recall:0.7476766390833863 \n",
      "}\n",
      "=====Epoch 12\n",
      "Training...\n"
     ]
    },
    {
     "name": "stderr",
     "output_type": "stream",
     "text": [
      "\r",
      "Iteration:  90%|█████████ | 56/62 [00:01<00:00, 31.61it/s]\r",
      "Iteration:  66%|██████▌   | 41/62 [00:01<00:01, 19.79it/s]\r",
      "Iteration:  16%|█▌        | 10/62 [00:00<00:02, 21.94it/s]\r",
      "Iteration:  87%|████████▋ | 54/62 [00:01<00:00, 27.16it/s]\r",
      "Iteration:   6%|▋         | 4/62 [00:00<00:01, 30.41it/s]\r",
      "Iteration:  97%|█████████▋| 60/62 [00:01<00:00, 33.52it/s]\r",
      "Iteration:  71%|███████   | 44/62 [00:01<00:00, 21.61it/s]\r",
      "Iteration: 100%|██████████| 62/62 [00:01<00:00, 32.88it/s]\n",
      "\r",
      "Iteration:   0%|          | 0/62 [00:00<?, ?it/s]\r",
      "Iteration:  21%|██        | 13/62 [00:00<00:02, 22.37it/s]\r",
      "Iteration:  92%|█████████▏| 57/62 [00:02<00:00, 26.44it/s]\r",
      "Iteration:  13%|█▎        | 8/62 [00:00<00:01, 30.70it/s]"
     ]
    },
    {
     "name": "stdout",
     "output_type": "stream",
     "text": [
      "Evaluating...\n"
     ]
    },
    {
     "name": "stderr",
     "output_type": "stream",
     "text": [
      "Iteration: 100%|██████████| 62/62 [00:02<00:00, 27.23it/s]\n",
      "Iteration: 100%|██████████| 62/62 [00:02<00:00, 24.73it/s]\n",
      "Iteration: 100%|██████████| 62/62 [00:01<00:00, 33.91it/s]\n",
      "Iteration: 100%|██████████| 62/62 [00:02<00:00, 28.69it/s]\n",
      "Iteration:  27%|██▋       | 17/62 [00:00<00:01, 23.77it/s]"
     ]
    },
    {
     "name": "stdout",
     "output_type": "stream",
     "text": [
      "Evaluating...\n"
     ]
    },
    {
     "name": "stderr",
     "output_type": "stream",
     "text": [
      "Iteration: 100%|██████████| 62/62 [00:02<00:00, 29.24it/s]\n",
      "Iteration: 100%|██████████| 62/62 [00:00<00:00, 78.87it/s] \n",
      "Iteration: 100%|██████████| 62/62 [00:02<00:00, 30.68it/s]\n",
      "Iteration: 100%|██████████| 62/62 [00:02<00:00, 26.49it/s]\n",
      "Iteration:  52%|█████▏    | 32/62 [00:01<00:00, 32.64it/s]"
     ]
    },
    {
     "name": "stdout",
     "output_type": "stream",
     "text": [
      "{'Train':  best_epoch_indx:11\n",
      " auc:0.8018073132114525 \n",
      " apur:0.7666252421597282 \n",
      " f1:0.6647627701694035 \n",
      " precision:0.6780985169491526 \n",
      " recall:0.6519414385741565 \n",
      ", 'Validation':  best_epoch_indx:11\n",
      " auc:0.8018073072569414 \n",
      " apur:0.7666252403349215 \n",
      " f1:0.6647627701694035 \n",
      " precision:0.6780985169491526 \n",
      " recall:0.6519414385741565 \n",
      ", 'Test':  best_epoch_indx:11\n",
      " auc:0.8018073132114525 \n",
      " apur:0.7666252421597282 \n",
      " f1:0.6647627701694035 \n",
      " precision:0.6780985169491526 \n",
      " recall:0.6519414385741565 \n",
      "}\n",
      "=====Epoch 12\n",
      "Training...\n"
     ]
    },
    {
     "name": "stderr",
     "output_type": "stream",
     "text": [
      "Iteration: 100%|██████████| 62/62 [00:02<00:00, 27.28it/s]\n",
      "Iteration: 100%|██████████| 62/62 [00:01<00:00, 40.23it/s]\n",
      "Iteration: 100%|██████████| 62/62 [00:02<00:00, 28.29it/s]\n",
      "Iteration:   5%|▍         | 3/62 [00:00<00:02, 24.94it/s]]"
     ]
    },
    {
     "name": "stdout",
     "output_type": "stream",
     "text": [
      "{'Train':  best_epoch_indx:11\n",
      " auc:0.8021501607362227 \n",
      " apur:0.7681592558017151 \n",
      " f1:0.6834549587271205 \n",
      " precision:0.6445898679905224 \n",
      " recall:0.7273074474856779 \n",
      ", 'Validation':  best_epoch_indx:11\n",
      " auc:0.8021501607362226 \n",
      " apur:0.7681592558017151 \n",
      " f1:0.6834549587271205 \n",
      " precision:0.6445898679905224 \n",
      " recall:0.7273074474856779 \n",
      ", 'Test':  best_epoch_indx:11\n",
      " auc:0.8021501607362227 \n",
      " apur:0.7681592558017151 \n",
      " f1:0.6834549587271205 \n",
      " precision:0.6445898679905224 \n",
      " recall:0.7273074474856779 \n",
      "}\n",
      "=====Epoch 12\n",
      "Training...\n"
     ]
    },
    {
     "name": "stderr",
     "output_type": "stream",
     "text": [
      "Iteration: 100%|██████████| 62/62 [00:01<00:00, 32.91it/s]\n",
      "Iteration:  39%|███▊      | 24/62 [00:00<00:01, 25.38it/s]"
     ]
    },
    {
     "name": "stdout",
     "output_type": "stream",
     "text": [
      "Evaluating...\n"
     ]
    },
    {
     "name": "stderr",
     "output_type": "stream",
     "text": [
      "Iteration: 100%|██████████| 62/62 [00:01<00:00, 35.58it/s]\n",
      "Iteration: 100%|██████████| 62/62 [00:02<00:00, 26.39it/s]\n",
      "Iteration: 100%|██████████| 62/62 [00:02<00:00, 24.85it/s]\n",
      "Iteration:  79%|███████▉  | 49/62 [00:01<00:00, 36.50it/s]"
     ]
    },
    {
     "name": "stdout",
     "output_type": "stream",
     "text": [
      "Evaluating...\n"
     ]
    },
    {
     "name": "stderr",
     "output_type": "stream",
     "text": [
      "Iteration: 100%|██████████| 62/62 [00:01<00:00, 34.01it/s]\n",
      "Iteration:  27%|██▋       | 17/62 [00:00<00:01, 29.83it/s]"
     ]
    },
    {
     "name": "stdout",
     "output_type": "stream",
     "text": [
      "{'Train':  best_epoch_indx:12\n",
      " auc:0.8064221003537371 \n",
      " apur:0.7710737859112036 \n",
      " f1:0.688756828140945 \n",
      " precision:0.6516356201726488 \n",
      " recall:0.7303628262253342 \n",
      ", 'Validation':  best_epoch_indx:12\n",
      " auc:0.8064221003537371 \n",
      " apur:0.7710737859112036 \n",
      " f1:0.688756828140945 \n",
      " precision:0.6516356201726488 \n",
      " recall:0.7303628262253342 \n",
      ", 'Test':  best_epoch_indx:12\n",
      " auc:0.8064221003537371 \n",
      " apur:0.7710737859112036 \n",
      " f1:0.688756828140945 \n",
      " precision:0.6516356201726488 \n",
      " recall:0.7303628262253342 \n",
      "}\n",
      "=====Epoch 13\n",
      "Training...\n"
     ]
    },
    {
     "name": "stderr",
     "output_type": "stream",
     "text": [
      "\r",
      "Iteration:  98%|█████████▊| 61/62 [00:02<00:00, 31.86it/s]\r",
      "Iteration: 100%|██████████| 62/62 [00:02<00:00, 27.79it/s]\n",
      "\r",
      "Iteration:  15%|█▍        | 9/62 [00:00<00:01, 40.73it/s]\r",
      "Iteration:  34%|███▍      | 21/62 [00:00<00:01, 32.46it/s]\r",
      "Iteration:  42%|████▏     | 26/62 [00:00<00:01, 35.44it/s]\r",
      "Iteration:  23%|██▎       | 14/62 [00:00<00:01, 39.74it/s]"
     ]
    },
    {
     "name": "stdout",
     "output_type": "stream",
     "text": [
      "{'Train':  best_epoch_indx:10\n",
      " auc:0.8054965794310941 \n",
      " apur:0.7691844957308049 \n",
      " f1:0.6858712236801954 \n",
      " precision:0.6587338804220398 \n",
      " recall:0.7153405474220242 \n",
      ", 'Validation':  best_epoch_indx:10\n",
      " auc:0.8054965853856052 \n",
      " apur:0.7691844975326281 \n",
      " f1:0.6858712236801954 \n",
      " precision:0.6587338804220398 \n",
      " recall:0.7153405474220242 \n",
      ", 'Test':  best_epoch_indx:10\n",
      " auc:0.8054965794310941 \n",
      " apur:0.7691844957308049 \n",
      " f1:0.6858712236801954 \n",
      " precision:0.6587338804220398 \n",
      " recall:0.7153405474220242 \n",
      "}\n",
      "=====Epoch 11\n",
      "Training...\n",
      "{'Train':  best_epoch_indx:9\n",
      " auc:0.8086099848814963 \n",
      " apur:0.7741147519257576 \n",
      " f1:0.6859448554135845 \n",
      " precision:0.6598447424135497 \n",
      " recall:0.7141947803946531 \n",
      ", 'Validation':  best_epoch_indx:9\n",
      " auc:0.8086099848814963 \n",
      " apur:0.7741147519257576 \n",
      " f1:0.6859448554135845 \n",
      " precision:0.6598447424135497 \n",
      " recall:0.7141947803946531 \n",
      ", 'Test':  best_epoch_indx:9\n",
      " auc:0.8086099848814963 \n",
      " apur:0.7741147519257576 \n",
      " f1:0.6859448554135845 \n",
      " precision:0.6598447424135497 \n",
      " recall:0.7141947803946531 \n",
      "}\n",
      "=====Epoch 10\n",
      "Training...\n"
     ]
    },
    {
     "name": "stderr",
     "output_type": "stream",
     "text": [
      "Iteration: 100%|██████████| 62/62 [00:01<00:00, 40.47it/s]\n",
      "Iteration:   6%|▋         | 4/62 [00:00<00:01, 30.32it/s]]"
     ]
    },
    {
     "name": "stdout",
     "output_type": "stream",
     "text": [
      "Evaluating...\n"
     ]
    },
    {
     "name": "stderr",
     "output_type": "stream",
     "text": [
      "Iteration: 100%|██████████| 62/62 [00:02<00:00, 26.42it/s]\n",
      "Iteration: 100%|██████████| 62/62 [00:01<00:00, 38.61it/s]\n",
      "Iteration:  61%|██████▏   | 38/62 [00:01<00:01, 22.01it/s]"
     ]
    },
    {
     "name": "stdout",
     "output_type": "stream",
     "text": [
      "Evaluating...\n"
     ]
    },
    {
     "name": "stderr",
     "output_type": "stream",
     "text": [
      "Iteration: 100%|██████████| 62/62 [00:02<00:00, 23.52it/s]\n",
      "Iteration:   0%|          | 0/62 [00:00<?, ?it/s]"
     ]
    },
    {
     "name": "stdout",
     "output_type": "stream",
     "text": [
      "Evaluating...\n"
     ]
    },
    {
     "name": "stderr",
     "output_type": "stream",
     "text": [
      "Iteration: 100%|██████████| 62/62 [00:02<00:00, 25.92it/s]\n",
      "Iteration: 100%|██████████| 62/62 [00:01<00:00, 31.93it/s]\n",
      "Iteration: 100%|██████████| 62/62 [00:01<00:00, 31.04it/s]\n",
      "Iteration: 100%|██████████| 62/62 [00:01<00:00, 33.46it/s]\n",
      "Iteration: 100%|██████████| 62/62 [00:02<00:00, 27.10it/s]\n",
      "Iteration: 100%|██████████| 62/62 [00:01<00:00, 33.36it/s]\n",
      "Iteration: 100%|██████████| 62/62 [00:02<00:00, 28.89it/s]\n",
      "Iteration: 100%|██████████| 62/62 [00:02<00:00, 20.73it/s]\n",
      "Iteration:  58%|█████▊    | 36/62 [00:01<00:01, 24.97it/s]"
     ]
    },
    {
     "name": "stdout",
     "output_type": "stream",
     "text": [
      "{'Train':  best_epoch_indx:12\n",
      " auc:0.8016496913479167 \n",
      " apur:0.7650888177856705 \n",
      " f1:0.6799754299754299 \n",
      " precision:0.656973293768546 \n",
      " recall:0.7046467218332273 \n",
      ", 'Validation':  best_epoch_indx:12\n",
      " auc:0.8016496913479167 \n",
      " apur:0.7650888177856705 \n",
      " f1:0.6799754299754299 \n",
      " precision:0.656973293768546 \n",
      " recall:0.7046467218332273 \n",
      ", 'Test':  best_epoch_indx:12\n",
      " auc:0.8016496853934056 \n",
      " apur:0.765088814895723 \n",
      " f1:0.6799754299754299 \n",
      " precision:0.656973293768546 \n",
      " recall:0.7046467218332273 \n",
      "}\n",
      "=====Epoch 13\n",
      "Training...\n"
     ]
    },
    {
     "name": "stderr",
     "output_type": "stream",
     "text": [
      "Iteration: 100%|██████████| 62/62 [00:02<00:00, 27.13it/s]\n",
      "Iteration:  65%|██████▍   | 40/62 [00:01<00:00, 35.52it/s]"
     ]
    },
    {
     "name": "stdout",
     "output_type": "stream",
     "text": [
      "{'Train':  best_epoch_indx:12\n",
      " auc:0.8033269536687954 \n",
      " apur:0.7694192304134939 \n",
      " f1:0.6816176927377772 \n",
      " precision:0.6656151419558359 \n",
      " recall:0.6984086569064291 \n",
      ", 'Validation':  best_epoch_indx:12\n",
      " auc:0.8033269536687954 \n",
      " apur:0.7694192304134939 \n",
      " f1:0.6816176927377772 \n",
      " precision:0.6656151419558359 \n",
      " recall:0.6984086569064291 \n",
      ", 'Test':  best_epoch_indx:12\n",
      " auc:0.8033269536687954 \n",
      " apur:0.7694192304134939 \n",
      " f1:0.6816176927377772 \n",
      " precision:0.6656151419558359 \n",
      " recall:0.6984086569064291 \n",
      "}\n",
      "=====Epoch 13\n",
      "Training...\n"
     ]
    },
    {
     "name": "stderr",
     "output_type": "stream",
     "text": [
      "Iteration: 100%|██████████| 62/62 [00:02<00:00, 22.68it/s]\n",
      "Iteration: 100%|██████████| 62/62 [00:01<00:00, 37.03it/s]\n",
      "Iteration: 100%|██████████| 62/62 [00:01<00:00, 38.49it/s]\n",
      "Iteration:  29%|██▉       | 18/62 [00:00<00:02, 20.23it/s]"
     ]
    },
    {
     "name": "stdout",
     "output_type": "stream",
     "text": [
      "Evaluating...\n"
     ]
    },
    {
     "name": "stderr",
     "output_type": "stream",
     "text": [
      "Iteration:   5%|▍         | 3/62 [00:00<00:02, 27.06it/s]]"
     ]
    },
    {
     "name": "stdout",
     "output_type": "stream",
     "text": [
      "{'Train':  best_epoch_indx:11\n",
      " auc:0.8039817279872146 \n",
      " apur:0.7688466634211293 \n",
      " f1:0.6901711959774931 \n",
      " precision:0.6513388317704214 \n",
      " recall:0.7339274347549332 \n",
      ", 'Validation':  best_epoch_indx:11\n",
      " auc:0.8039817279872146 \n",
      " apur:0.7688466634211293 \n",
      " f1:0.6901711959774931 \n",
      " precision:0.6513388317704214 \n",
      " recall:0.7339274347549332 \n",
      ", 'Test':  best_epoch_indx:11\n",
      " auc:0.8039817279872146 \n",
      " apur:0.7688466634211293 \n",
      " f1:0.6901711959774931 \n",
      " precision:0.6513388317704214 \n",
      " recall:0.7339274347549332 \n",
      "}\n",
      "=====Epoch 12\n",
      "Training...\n"
     ]
    },
    {
     "name": "stderr",
     "output_type": "stream",
     "text": [
      "Iteration: 100%|██████████| 62/62 [00:01<00:00, 35.41it/s]\n",
      "Iteration:   5%|▍         | 3/62 [00:00<00:02, 24.58it/s]]"
     ]
    },
    {
     "name": "stdout",
     "output_type": "stream",
     "text": [
      "Evaluating...\n"
     ]
    },
    {
     "name": "stderr",
     "output_type": "stream",
     "text": [
      "Iteration: 100%|██████████| 62/62 [00:02<00:00, 29.06it/s]\n",
      "Iteration: 100%|██████████| 62/62 [00:03<00:00, 20.04it/s]\n",
      "Iteration: 100%|██████████| 62/62 [00:02<00:00, 30.22it/s]\n",
      "Iteration:  58%|█████▊    | 36/62 [00:01<00:01, 24.30it/s]"
     ]
    },
    {
     "name": "stdout",
     "output_type": "stream",
     "text": [
      "Evaluating...\n"
     ]
    },
    {
     "name": "stderr",
     "output_type": "stream",
     "text": [
      "Iteration:  95%|█████████▌| 59/62 [00:02<00:00, 27.79it/s]"
     ]
    },
    {
     "name": "stdout",
     "output_type": "stream",
     "text": [
      "{'Train':  best_epoch_indx:13\n",
      " auc:0.8020591672944796 \n",
      " apur:0.7674325868032368 \n",
      " f1:0.6787734070629634 \n",
      " precision:0.6701824047648591 \n",
      " recall:0.6875875238701464 \n",
      ", 'Validation':  best_epoch_indx:13\n",
      " auc:0.8020591672944796 \n",
      " apur:0.7674325868032368 \n",
      " f1:0.6787734070629634 \n",
      " precision:0.6701824047648591 \n",
      " recall:0.6875875238701464 \n",
      ", 'Test':  best_epoch_indx:13\n",
      " auc:0.8020591672944796 \n",
      " apur:0.767432586803237 \n",
      " f1:0.6787734070629634 \n",
      " precision:0.6701824047648591 \n",
      " recall:0.6875875238701464 \n",
      "}\n",
      "=====Epoch 14\n",
      "Training...\n"
     ]
    },
    {
     "name": "stderr",
     "output_type": "stream",
     "text": [
      "Iteration: 100%|██████████| 62/62 [00:02<00:00, 24.81it/s]\n",
      "Iteration: 100%|██████████| 62/62 [00:02<00:00, 25.21it/s]\n",
      "Iteration:  47%|████▋     | 29/62 [00:00<00:00, 34.85it/s]"
     ]
    },
    {
     "name": "stdout",
     "output_type": "stream",
     "text": [
      "{'Train':  best_epoch_indx:10\n",
      " auc:0.809370221132679 \n",
      " apur:0.7743750443710474 \n",
      " f1:0.6880717048314813 \n",
      " precision:0.6644534028930519 \n",
      " recall:0.713430935709739 \n",
      ", 'Validation':  best_epoch_indx:10\n",
      " auc:0.809370221132679 \n",
      " apur:0.7743750443710474 \n",
      " f1:0.6880717048314813 \n",
      " precision:0.6644534028930519 \n",
      " recall:0.713430935709739 \n",
      ", 'Test':  best_epoch_indx:10\n",
      " auc:0.809370221132679 \n",
      " apur:0.7743750443710474 \n",
      " f1:0.6880717048314813 \n",
      " precision:0.6644534028930519 \n",
      " recall:0.713430935709739 \n",
      "}\n",
      "=====Epoch 11\n",
      "Training...\n"
     ]
    },
    {
     "name": "stderr",
     "output_type": "stream",
     "text": [
      "Iteration: 100%|██████████| 62/62 [00:01<00:00, 35.94it/s]\n",
      "Iteration: 100%|██████████| 62/62 [00:01<00:00, 32.28it/s]\n",
      "Iteration:  71%|███████   | 44/62 [00:01<00:00, 34.32it/s]"
     ]
    },
    {
     "name": "stdout",
     "output_type": "stream",
     "text": [
      "Evaluating...\n"
     ]
    },
    {
     "name": "stderr",
     "output_type": "stream",
     "text": [
      "Iteration: 100%|██████████| 62/62 [00:02<00:00, 25.75it/s]\n",
      "Iteration: 100%|██████████| 62/62 [00:01<00:00, 34.00it/s]\n",
      "Iteration:  29%|██▉       | 18/62 [00:00<00:01, 23.76it/s]"
     ]
    },
    {
     "name": "stdout",
     "output_type": "stream",
     "text": [
      "Evaluating...\n"
     ]
    },
    {
     "name": "stderr",
     "output_type": "stream",
     "text": [
      "Iteration: 100%|██████████| 62/62 [00:02<00:00, 29.98it/s]\n",
      "Iteration: 100%|██████████| 62/62 [00:03<00:00, 20.58it/s]\n",
      "Iteration: 100%|██████████| 62/62 [00:02<00:00, 24.15it/s]\n",
      "Iteration: 100%|██████████| 62/62 [00:02<00:00, 26.99it/s]\n",
      "Iteration: 100%|██████████| 62/62 [00:02<00:00, 30.85it/s]\n",
      "Iteration: 100%|██████████| 62/62 [00:01<00:00, 36.72it/s]\n",
      "Iteration:  47%|████▋     | 29/62 [00:01<00:01, 23.85it/s]"
     ]
    },
    {
     "name": "stdout",
     "output_type": "stream",
     "text": [
      "{'Train':  best_epoch_indx:13\n",
      " auc:0.800384631645011 \n",
      " apur:0.7648442210696201 \n",
      " f1:0.6728735195389196 \n",
      " precision:0.6695235694479456 \n",
      " recall:0.6762571610439211 \n",
      ", 'Validation':  best_epoch_indx:13\n",
      " auc:0.800384631645011 \n",
      " apur:0.7648442210696201 \n",
      " f1:0.6728735195389196 \n",
      " precision:0.6695235694479456 \n",
      " recall:0.6762571610439211 \n",
      ", 'Test':  best_epoch_indx:13\n",
      " auc:0.8003846316450112 \n",
      " apur:0.76484422106962 \n",
      " f1:0.6728735195389196 \n",
      " precision:0.6695235694479456 \n",
      " recall:0.6762571610439211 \n",
      "}\n",
      "=====Epoch 14\n",
      "Training...\n"
     ]
    },
    {
     "name": "stderr",
     "output_type": "stream",
     "text": [
      "Iteration: 100%|██████████| 62/62 [00:02<00:00, 26.19it/s]\n"
     ]
    },
    {
     "name": "stdout",
     "output_type": "stream",
     "text": [
      "{'Train':  best_epoch_indx:12\n",
      " auc:0.7970184750616143 \n",
      " apur:0.7623973075435471 \n",
      " f1:0.680843522948786 \n",
      " precision:0.6351113070310778 \n",
      " recall:0.7336728198599618 \n",
      ", 'Validation':  best_epoch_indx:12\n",
      " auc:0.7970184750616143 \n",
      " apur:0.7623973075435471 \n",
      " f1:0.680843522948786 \n",
      " precision:0.6351113070310778 \n",
      " recall:0.7336728198599618 \n",
      ", 'Test':  best_epoch_indx:12\n",
      " auc:0.7970184750616143 \n",
      " apur:0.7623973075435471 \n",
      " f1:0.680843522948786 \n",
      " precision:0.6351113070310778 \n",
      " recall:0.7336728198599618 \n",
      "}\n",
      "=====Epoch 13\n",
      "Training...\n"
     ]
    },
    {
     "name": "stderr",
     "output_type": "stream",
     "text": [
      "Iteration: 100%|██████████| 62/62 [00:02<00:00, 24.34it/s]\n",
      "Iteration: 100%|██████████| 62/62 [00:02<00:00, 25.24it/s]\n",
      "Iteration: 100%|██████████| 62/62 [00:01<00:00, 40.22it/s]\n",
      "Iteration:   0%|          | 0/62 [00:00<?, ?it/s]"
     ]
    },
    {
     "name": "stdout",
     "output_type": "stream",
     "text": [
      "{'Train':  best_epoch_indx:13\n",
      " auc:0.8007956328388424 \n",
      " apur:0.7674696669103587 \n",
      " f1:0.6745709828393136 \n",
      " precision:0.6615667074663403 \n",
      " recall:0.6880967536600892 \n",
      ", 'Validation':  best_epoch_indx:13\n",
      " auc:0.8007956328388424 \n",
      " apur:0.7674696669103587 \n",
      " f1:0.6745709828393136 \n",
      " precision:0.6615667074663403 \n",
      " recall:0.6880967536600892 \n",
      ", 'Test':  best_epoch_indx:13\n",
      " auc:0.8007956328388424 \n",
      " apur:0.7674696669103587 \n",
      " f1:0.6745709828393136 \n",
      " precision:0.6615667074663403 \n",
      " recall:0.6880967536600892 \n",
      "}\n",
      "=====Epoch 14\n",
      "Training...\n",
      "Evaluating...\n"
     ]
    },
    {
     "name": "stderr",
     "output_type": "stream",
     "text": [
      "Iteration: 100%|██████████| 62/62 [00:01<00:00, 39.23it/s]\n",
      "Iteration:  50%|█████     | 31/62 [00:00<00:00, 37.13it/s]"
     ]
    },
    {
     "name": "stdout",
     "output_type": "stream",
     "text": [
      "Evaluating...\n"
     ]
    },
    {
     "name": "stderr",
     "output_type": "stream",
     "text": [
      "Iteration: 100%|██████████| 62/62 [00:01<00:00, 34.09it/s]\n",
      "Iteration:  76%|███████▌  | 47/62 [00:01<00:00, 25.23it/s]"
     ]
    },
    {
     "name": "stdout",
     "output_type": "stream",
     "text": [
      "Evaluating...\n"
     ]
    },
    {
     "name": "stderr",
     "output_type": "stream",
     "text": [
      "Iteration: 100%|██████████| 62/62 [00:02<00:00, 26.38it/s]\n",
      "Iteration: 100%|██████████| 62/62 [00:01<00:00, 32.58it/s]\n",
      "Iteration: 100%|██████████| 62/62 [00:02<00:00, 25.20it/s]\n",
      "Iteration:   0%|          | 0/62 [00:00<?, ?it/s]9.95it/s]"
     ]
    },
    {
     "name": "stdout",
     "output_type": "stream",
     "text": [
      "{'Train':  best_epoch_indx:11\n",
      " auc:0.8074612405985713 \n",
      " apur:0.7733017140018401 \n",
      " f1:0.6901509705248023 \n",
      " precision:0.6518049111689488 \n",
      " recall:0.7332908975175048 \n",
      ", 'Validation':  best_epoch_indx:11\n",
      " auc:0.8074612405985713 \n",
      " apur:0.7733017140018401 \n",
      " f1:0.6901509705248023 \n",
      " precision:0.6518049111689488 \n",
      " recall:0.7332908975175048 \n",
      ", 'Test':  best_epoch_indx:11\n",
      " auc:0.8074612405985713 \n",
      " apur:0.7733017140018401 \n",
      " f1:0.6901509705248023 \n",
      " precision:0.6518049111689488 \n",
      " recall:0.7332908975175048 \n",
      "}\n",
      "=====Epoch 12\n",
      "Training...\n"
     ]
    },
    {
     "name": "stderr",
     "output_type": "stream",
     "text": [
      "Iteration: 100%|██████████| 62/62 [00:02<00:00, 26.54it/s]\n",
      "Iteration: 100%|██████████| 62/62 [00:03<00:00, 18.30it/s]\n",
      "Iteration: 100%|██████████| 62/62 [00:02<00:00, 28.21it/s]\n",
      "Iteration: 100%|██████████| 62/62 [00:02<00:00, 26.00it/s]\n",
      "Iteration: 100%|██████████| 62/62 [00:01<00:00, 31.32it/s]\n",
      "Iteration:  32%|███▏      | 20/62 [00:00<00:01, 21.55it/s]"
     ]
    },
    {
     "name": "stdout",
     "output_type": "stream",
     "text": [
      "Evaluating...\n",
      "{'Train':  best_epoch_indx:14\n",
      " auc:0.7987826351879381 \n",
      " apur:0.7641785299388695 \n",
      " f1:0.6852997145575641 \n",
      " precision:0.6430085927909831 \n",
      " recall:0.7335455124124761 \n",
      ", 'Validation':  best_epoch_indx:14\n",
      " auc:0.7987826411430062 \n",
      " apur:0.7641785325652655 \n",
      " f1:0.6852997145575641 \n",
      " precision:0.6430085927909831 \n",
      " recall:0.7335455124124761 \n",
      ", 'Test':  best_epoch_indx:14\n",
      " auc:0.7987826411430062 \n",
      " apur:0.7641785325652655 \n",
      " f1:0.6852997145575641 \n",
      " precision:0.6430085927909831 \n",
      " recall:0.7335455124124761 \n",
      "}\n",
      "=====Epoch 15\n",
      "Training...\n"
     ]
    },
    {
     "name": "stderr",
     "output_type": "stream",
     "text": [
      "Iteration: 100%|██████████| 62/62 [00:02<00:00, 22.18it/s]\n",
      "Iteration: 100%|██████████| 62/62 [00:01<00:00, 32.28it/s]\n",
      "Iteration:   0%|          | 0/62 [00:00<?, ?it/s]"
     ]
    },
    {
     "name": "stdout",
     "output_type": "stream",
     "text": [
      "Evaluating...\n"
     ]
    },
    {
     "name": "stderr",
     "output_type": "stream",
     "text": [
      "Iteration: 100%|██████████| 62/62 [00:02<00:00, 24.73it/s]\n",
      "Iteration: 100%|██████████| 62/62 [00:02<00:00, 29.18it/s]\n",
      "Iteration:  84%|████████▍ | 52/62 [00:02<00:00, 18.88it/s]"
     ]
    },
    {
     "name": "stdout",
     "output_type": "stream",
     "text": [
      "{'Train':  best_epoch_indx:13\n",
      " auc:0.7992575856005631 \n",
      " apur:0.7608910705740538 \n",
      " f1:0.6742636527803724 \n",
      " precision:0.6599219892735251 \n",
      " recall:0.6892425206874602 \n",
      ", 'Validation':  best_epoch_indx:13\n",
      " auc:0.7992575856005631 \n",
      " apur:0.7608910705740538 \n",
      " f1:0.6742636527803724 \n",
      " precision:0.6599219892735251 \n",
      " recall:0.6892425206874602 \n",
      ", 'Test':  best_epoch_indx:13\n",
      " auc:0.7992575856005631 \n",
      " apur:0.7608910705740538 \n",
      " f1:0.6742636527803724 \n",
      " precision:0.6599219892735251 \n",
      " recall:0.6892425206874602 \n",
      "}\n",
      "=====Epoch 14\n",
      "Training...\n"
     ]
    },
    {
     "name": "stderr",
     "output_type": "stream",
     "text": [
      "Iteration: 100%|██████████| 62/62 [00:02<00:00, 24.07it/s]\n",
      "Iteration: 100%|██████████| 62/62 [00:02<00:00, 24.70it/s]\n",
      "Iteration:   5%|▍         | 3/62 [00:00<00:02, 28.53it/s]]"
     ]
    },
    {
     "name": "stdout",
     "output_type": "stream",
     "text": [
      "{'Train':  best_epoch_indx:14\n",
      " auc:0.8010365255665867 \n",
      " apur:0.7616013990601114 \n",
      " f1:0.6754858934169278 \n",
      " precision:0.6654725138974675 \n",
      " recall:0.6858052196053469 \n",
      ", 'Validation':  best_epoch_indx:14\n",
      " auc:0.8010365255665867 \n",
      " apur:0.7616013990601114 \n",
      " f1:0.6754858934169278 \n",
      " precision:0.6654725138974675 \n",
      " recall:0.6858052196053469 \n",
      ", 'Test':  best_epoch_indx:14\n",
      " auc:0.8010365255665867 \n",
      " apur:0.7616013990601114 \n",
      " f1:0.6754858934169278 \n",
      " precision:0.6654725138974675 \n",
      " recall:0.6858052196053469 \n",
      "}\n",
      "=====Epoch 15\n",
      "Training...\n"
     ]
    },
    {
     "name": "stderr",
     "output_type": "stream",
     "text": [
      "Iteration: 100%|██████████| 62/62 [00:01<00:00, 33.02it/s]\n",
      "Iteration:   0%|          | 0/62 [00:00<?, ?it/s]"
     ]
    },
    {
     "name": "stdout",
     "output_type": "stream",
     "text": [
      "Evaluating...\n"
     ]
    },
    {
     "name": "stderr",
     "output_type": "stream",
     "text": [
      "Iteration: 100%|██████████| 62/62 [00:02<00:00, 22.45it/s]\n",
      "Iteration: 100%|██████████| 62/62 [00:03<00:00, 18.84it/s]\n",
      "Iteration: 100%|██████████| 62/62 [00:01<00:00, 36.23it/s]\n",
      "Iteration:  44%|████▎     | 27/62 [00:01<00:01, 25.25it/s]"
     ]
    },
    {
     "name": "stdout",
     "output_type": "stream",
     "text": [
      "Evaluating...\n"
     ]
    },
    {
     "name": "stderr",
     "output_type": "stream",
     "text": [
      "Iteration:   0%|          | 0/62 [00:00<?, ?it/s]9.72it/s]"
     ]
    },
    {
     "name": "stdout",
     "output_type": "stream",
     "text": [
      "{'Train':  best_epoch_indx:14\n",
      " auc:0.8015787183490359 \n",
      " apur:0.7667687708321753 \n",
      " f1:0.6742514221416516 \n",
      " precision:0.6623679685580939 \n",
      " recall:0.686569064290261 \n",
      ", 'Validation':  best_epoch_indx:14\n",
      " auc:0.8015787183490359 \n",
      " apur:0.7667687708321753 \n",
      " f1:0.6742514221416516 \n",
      " precision:0.6623679685580939 \n",
      " recall:0.686569064290261 \n",
      ", 'Test':  best_epoch_indx:14\n",
      " auc:0.8015787123939678 \n",
      " apur:0.7667687606096252 \n",
      " f1:0.6742514221416516 \n",
      " precision:0.6623679685580939 \n",
      " recall:0.686569064290261 \n",
      "}\n",
      "=====Epoch 15\n",
      "Training...\n"
     ]
    },
    {
     "name": "stderr",
     "output_type": "stream",
     "text": [
      "Iteration: 100%|██████████| 62/62 [00:02<00:00, 25.18it/s]\n",
      "Iteration:  82%|████████▏ | 51/62 [00:01<00:00, 27.91it/s]\n",
      "Iteration: 100%|██████████| 62/62 [00:02<00:00, 30.19it/s]\n",
      "Iteration: 100%|██████████| 62/62 [00:01<00:00, 34.31it/s]\n",
      "Iteration:   8%|▊         | 5/62 [00:00<00:03, 18.80it/s]"
     ]
    },
    {
     "name": "stdout",
     "output_type": "stream",
     "text": [
      "Evaluating...\n"
     ]
    },
    {
     "name": "stderr",
     "output_type": "stream",
     "text": [
      "Iteration: 100%|██████████| 62/62 [00:02<00:00, 22.43it/s]\n",
      "Iteration:  50%|█████     | 31/62 [00:01<00:01, 27.98it/s]"
     ]
    },
    {
     "name": "stdout",
     "output_type": "stream",
     "text": [
      "{'Train':  best_epoch_indx:12\n",
      " auc:0.8059782041075407 \n",
      " apur:0.7713515383603551 \n",
      " f1:0.6866534224309194 \n",
      " precision:0.6513248058474189 \n",
      " recall:0.7260343730108212 \n",
      ", 'Validation':  best_epoch_indx:12\n",
      " auc:0.8059782041075407 \n",
      " apur:0.7713515383603551 \n",
      " f1:0.6866534224309194 \n",
      " precision:0.6513248058474189 \n",
      " recall:0.7260343730108212 \n",
      ", 'Test':  best_epoch_indx:12\n",
      " auc:0.8059782041075407 \n",
      " apur:0.7713515383603551 \n",
      " f1:0.6866534224309194 \n",
      " precision:0.6513248058474189 \n",
      " recall:0.7260343730108212 \n",
      "}\n",
      "=====Epoch 13\n",
      "Training...\n"
     ]
    },
    {
     "name": "stderr",
     "output_type": "stream",
     "text": [
      "Iteration: 100%|██████████| 62/62 [00:02<00:00, 24.61it/s]\n",
      "Iteration: 100%|██████████| 62/62 [00:02<00:00, 25.60it/s]\n",
      "Iteration: 100%|██████████| 62/62 [00:02<00:00, 28.99it/s]\n",
      "Iteration: 100%|██████████| 62/62 [00:02<00:00, 26.42it/s]\n",
      "Iteration:   0%|          | 0/62 [00:00<?, ?it/s].98it/s]]"
     ]
    },
    {
     "name": "stdout",
     "output_type": "stream",
     "text": [
      "{'Train':  best_epoch_indx:15\n",
      " auc:0.8066908228052194 \n",
      " apur:0.7708872886384717 \n",
      " f1:0.6805441316039228 \n",
      " precision:0.6764779874213837 \n",
      " recall:0.6846594525779758 \n",
      ", 'Validation':  best_epoch_indx:15\n",
      " auc:0.8066908228052194 \n",
      " apur:0.7708872886384717 \n",
      " f1:0.6805441316039228 \n",
      " precision:0.6764779874213837 \n",
      " recall:0.6846594525779758 \n",
      ", 'Test':  best_epoch_indx:15\n",
      " auc:0.8066908228052194 \n",
      " apur:0.7708872886384717 \n",
      " f1:0.6805441316039228 \n",
      " precision:0.6764779874213837 \n",
      " recall:0.6846594525779758 \n",
      "}\n",
      "=====Epoch 16\n",
      "Training...\n",
      "Evaluating...\n"
     ]
    },
    {
     "name": "stderr",
     "output_type": "stream",
     "text": [
      "Iteration: 100%|██████████| 62/62 [00:02<00:00, 29.56it/s]\n",
      "Iteration: 100%|██████████| 62/62 [00:02<00:00, 26.71it/s]\n",
      "Iteration: 100%|██████████| 62/62 [00:01<00:00, 33.64it/s]\n",
      "Iteration:  56%|█████▋    | 35/62 [00:01<00:00, 29.96it/s]"
     ]
    },
    {
     "name": "stdout",
     "output_type": "stream",
     "text": [
      "Evaluating...\n"
     ]
    },
    {
     "name": "stderr",
     "output_type": "stream",
     "text": [
      "Iteration: 100%|██████████| 62/62 [00:02<00:00, 24.93it/s]\n",
      "Iteration: 100%|██████████| 62/62 [00:03<00:00, 19.73it/s]\n",
      "Iteration: 100%|██████████| 62/62 [00:02<00:00, 27.06it/s]\n",
      "Iteration:  23%|██▎       | 14/62 [00:00<00:01, 28.84it/s]"
     ]
    },
    {
     "name": "stdout",
     "output_type": "stream",
     "text": [
      "{'Train':  best_epoch_indx:14\n",
      " auc:0.797818302857153 \n",
      " apur:0.7632781197485788 \n",
      " f1:0.684597728209052 \n",
      " precision:0.6366024518388792 \n",
      " recall:0.7404201145767028 \n",
      ", 'Validation':  best_epoch_indx:14\n",
      " auc:0.797818302857153 \n",
      " apur:0.7632781197485788 \n",
      " f1:0.684597728209052 \n",
      " precision:0.6366024518388792 \n",
      " recall:0.7404201145767028 \n",
      ", 'Test':  best_epoch_indx:14\n",
      " auc:0.797818302857153 \n",
      " apur:0.7632781197485788 \n",
      " f1:0.684597728209052 \n",
      " precision:0.6366024518388792 \n",
      " recall:0.7404201145767028 \n",
      "}\n",
      "=====Epoch 15\n",
      "Training...\n"
     ]
    },
    {
     "name": "stderr",
     "output_type": "stream",
     "text": [
      "\r",
      "Iteration:   3%|▎         | 2/62 [00:00<00:03, 17.26it/s]\r",
      "Iteration:  27%|██▋       | 17/62 [00:00<00:01, 26.89it/s]\r",
      "Iteration:   8%|▊         | 5/62 [00:00<00:02, 23.08it/s]\r",
      "Iteration:  61%|██████▏   | 38/62 [00:01<00:01, 22.62it/s]\r",
      "Iteration:  32%|███▏      | 20/62 [00:00<00:01, 26.90it/s]\r",
      "Iteration:   0%|          | 0/62 [00:00<?, ?it/s]"
     ]
    },
    {
     "name": "stdout",
     "output_type": "stream",
     "text": [
      "{'Train':  best_epoch_indx:15\n",
      " auc:0.8041674075070904 \n",
      " apur:0.7665758071628817 \n",
      " f1:0.6850989170548732 \n",
      " precision:0.6527553608485128 \n",
      " recall:0.7208147676639083 \n",
      ", 'Validation':  best_epoch_indx:15\n",
      " auc:0.8041674075070904 \n",
      " apur:0.7665758071628817 \n",
      " f1:0.6850989170548732 \n",
      " precision:0.6527553608485128 \n",
      " recall:0.7208147676639083 \n",
      ", 'Test':  best_epoch_indx:15\n",
      " auc:0.8041674075070904 \n",
      " apur:0.7665758071628817 \n",
      " f1:0.6850989170548732 \n",
      " precision:0.6527553608485128 \n",
      " recall:0.7208147676639083 \n",
      "}\n",
      "=====Epoch 16\n",
      "Training...\n"
     ]
    },
    {
     "name": "stderr",
     "output_type": "stream",
     "text": [
      "Iteration: 100%|██████████| 62/62 [00:02<00:00, 22.71it/s]\n",
      "Iteration: 100%|██████████| 62/62 [00:01<00:00, 31.72it/s]\n",
      "Iteration: 100%|██████████| 62/62 [00:02<00:00, 25.58it/s]\n",
      "Iteration: 100%|██████████| 62/62 [00:01<00:00, 35.73it/s]\n",
      "Iteration:   5%|▍         | 3/62 [00:00<00:02, 29.05it/s]]"
     ]
    },
    {
     "name": "stdout",
     "output_type": "stream",
     "text": [
      "Evaluating...\n",
      "Evaluating...\n"
     ]
    },
    {
     "name": "stderr",
     "output_type": "stream",
     "text": [
      "Iteration:  95%|█████████▌| 59/62 [00:02<00:00, 28.64it/s]"
     ]
    },
    {
     "name": "stdout",
     "output_type": "stream",
     "text": [
      "{'Train':  best_epoch_indx:15\n",
      " auc:0.7997377685728304 \n",
      " apur:0.7693015516799395 \n",
      " f1:0.6804737321591254 \n",
      " precision:0.6506387921022068 \n",
      " recall:0.7131763208147677 \n",
      ", 'Validation':  best_epoch_indx:15\n",
      " auc:0.7997377685728304 \n",
      " apur:0.7693015516799395 \n",
      " f1:0.6804737321591254 \n",
      " precision:0.6506387921022068 \n",
      " recall:0.7131763208147677 \n",
      ", 'Test':  best_epoch_indx:15\n",
      " auc:0.7997377685728304 \n",
      " apur:0.7693015516799395 \n",
      " f1:0.6804737321591254 \n",
      " precision:0.6506387921022068 \n",
      " recall:0.7131763208147677 \n",
      "}\n",
      "=====Epoch 16\n",
      "Training...\n"
     ]
    },
    {
     "name": "stderr",
     "output_type": "stream",
     "text": [
      "Iteration: 100%|██████████| 62/62 [00:02<00:00, 20.67it/s]\n",
      "Iteration: 100%|██████████| 62/62 [00:02<00:00, 26.01it/s]\n",
      "Iteration: 100%|██████████| 62/62 [00:01<00:00, 35.39it/s]\n",
      "Iteration:   0%|          | 0/62 [00:00<?, ?it/s]"
     ]
    },
    {
     "name": "stdout",
     "output_type": "stream",
     "text": [
      "Evaluating...\n"
     ]
    },
    {
     "name": "stderr",
     "output_type": "stream",
     "text": [
      "Iteration: 100%|██████████| 62/62 [00:02<00:00, 24.14it/s]\n",
      "Iteration:  10%|▉         | 6/62 [00:00<00:01, 28.56it/s]]\n",
      "Iteration: 100%|██████████| 62/62 [00:02<00:00, 23.45it/s]\n",
      "Iteration:   0%|          | 0/62 [00:00<?, ?it/s]0.62it/s]"
     ]
    },
    {
     "name": "stdout",
     "output_type": "stream",
     "text": [
      "{'Train':  best_epoch_indx:13\n",
      " auc:0.8001008753726779 \n",
      " apur:0.7629730612590564 \n",
      " f1:0.6641844666536025 \n",
      " precision:0.6820499060906896 \n",
      " recall:0.6472310630171865 \n",
      ", 'Validation':  best_epoch_indx:13\n",
      " auc:0.8001008753726779 \n",
      " apur:0.7629730612590564 \n",
      " f1:0.6641844666536025 \n",
      " precision:0.6820499060906896 \n",
      " recall:0.6472310630171865 \n",
      ", 'Test':  best_epoch_indx:13\n",
      " auc:0.8001008753726779 \n",
      " apur:0.7629730612590564 \n",
      " f1:0.6641844666536025 \n",
      " precision:0.6820499060906896 \n",
      " recall:0.6472310630171865 \n",
      "}\n",
      "=====Epoch 14\n",
      "Training...\n"
     ]
    },
    {
     "name": "stderr",
     "output_type": "stream",
     "text": [
      "Iteration: 100%|██████████| 62/62 [00:02<00:00, 22.48it/s]\n",
      "Iteration: 100%|██████████| 62/62 [00:01<00:00, 33.60it/s]\n",
      "Iteration: 100%|██████████| 62/62 [00:02<00:00, 27.77it/s]\n",
      "Iteration: 100%|██████████| 62/62 [00:02<00:00, 24.12it/s]\n",
      "Iteration:  60%|█████▉    | 37/62 [00:01<00:00, 36.90it/s]"
     ]
    },
    {
     "name": "stdout",
     "output_type": "stream",
     "text": [
      "{'Train':  best_epoch_indx:16\n",
      " auc:0.8104838796602205 \n",
      " apur:0.7765767327105009 \n",
      " f1:0.693744053282588 \n",
      " precision:0.6509318156455752 \n",
      " recall:0.7425843411839592 \n",
      ", 'Validation':  best_epoch_indx:16\n",
      " auc:0.8104838796602205 \n",
      " apur:0.7765767327105009 \n",
      " f1:0.693744053282588 \n",
      " precision:0.6509318156455752 \n",
      " recall:0.7425843411839592 \n",
      ", 'Test':  best_epoch_indx:16\n",
      " auc:0.8104838796602205 \n",
      " apur:0.7765767327105009 \n",
      " f1:0.693744053282588 \n",
      " precision:0.6509318156455752 \n",
      " recall:0.7425843411839592 \n",
      "}\n",
      "=====Epoch 17\n",
      "Training...\n"
     ]
    },
    {
     "name": "stderr",
     "output_type": "stream",
     "text": [
      "Iteration: 100%|██████████| 62/62 [00:01<00:00, 34.33it/s]\n",
      "Iteration:  18%|█▊        | 11/62 [00:00<00:02, 20.99it/s]"
     ]
    },
    {
     "name": "stdout",
     "output_type": "stream",
     "text": [
      "Evaluating...\n"
     ]
    },
    {
     "name": "stderr",
     "output_type": "stream",
     "text": [
      "Iteration: 100%|██████████| 62/62 [00:01<00:00, 38.55it/s]\n",
      "Iteration:  84%|████████▍ | 52/62 [00:01<00:00, 23.54it/s]"
     ]
    },
    {
     "name": "stdout",
     "output_type": "stream",
     "text": [
      "Evaluating...\n"
     ]
    },
    {
     "name": "stderr",
     "output_type": "stream",
     "text": [
      "Iteration: 100%|██████████| 62/62 [00:02<00:00, 26.44it/s]\n",
      "Iteration: 100%|██████████| 62/62 [00:01<00:00, 34.07it/s]\n",
      "Iteration: 100%|██████████| 62/62 [00:02<00:00, 26.62it/s]\n",
      "Iteration: 100%|██████████| 62/62 [00:02<00:00, 22.87it/s]\n",
      "Iteration:   0%|          | 0/62 [00:00<?, ?it/s]4.53it/s]\n",
      "Iteration:  44%|████▎     | 27/62 [00:00<00:00, 44.29it/s]"
     ]
    },
    {
     "name": "stdout",
     "output_type": "stream",
     "text": [
      "{'Train':  best_epoch_indx:16\n",
      " auc:0.8098592353574106 \n",
      " apur:0.7746423003659111 \n",
      " f1:0.6899854510184287 \n",
      " precision:0.6586043282027543 \n",
      " recall:0.724506683640993 \n",
      ", 'Validation':  best_epoch_indx:16\n",
      " auc:0.8098592353574106 \n",
      " apur:0.7746423003659111 \n",
      " f1:0.6899854510184287 \n",
      " precision:0.6586043282027543 \n",
      " recall:0.724506683640993 \n",
      ", 'Test':  best_epoch_indx:16\n",
      " auc:0.8098592353574106 \n",
      " apur:0.7746423003659111 \n",
      " f1:0.6899854510184287 \n",
      " precision:0.6586043282027543 \n",
      " recall:0.724506683640993 \n",
      "}\n",
      "=====Epoch 17\n",
      "Training...\n"
     ]
    },
    {
     "name": "stderr",
     "output_type": "stream",
     "text": [
      "\r",
      "Iteration:  15%|█▍        | 9/62 [00:00<00:02, 23.97it/s]\r",
      "Iteration:  13%|█▎        | 8/62 [00:00<00:01, 37.52it/s]\r",
      "Iteration:  52%|█████▏    | 32/62 [00:00<00:00, 43.46it/s]\r",
      "Iteration:  21%|██        | 13/62 [00:00<00:01, 26.51it/s]\r",
      "Iteration:  21%|██        | 13/62 [00:00<00:01, 40.40it/s]\r",
      "Iteration:  60%|█████▉    | 37/62 [00:00<00:00, 42.80it/s]"
     ]
    },
    {
     "name": "stdout",
     "output_type": "stream",
     "text": [
      "{'Train':  best_epoch_indx:15\n",
      " auc:0.802974695114145 \n",
      " apur:0.7652540912629954 \n",
      " f1:0.6771927643438801 \n",
      " precision:0.6616861030126336 \n",
      " recall:0.6934436664544876 \n",
      ", 'Validation':  best_epoch_indx:15\n",
      " auc:0.802974695114145 \n",
      " apur:0.7652540912629954 \n",
      " f1:0.6771927643438801 \n",
      " precision:0.6616861030126336 \n",
      " recall:0.6934436664544876 \n",
      ", 'Test':  best_epoch_indx:15\n",
      " auc:0.802974695114145 \n",
      " apur:0.7652540912629954 \n",
      " f1:0.6771927643438801 \n",
      " precision:0.6616861030126336 \n",
      " recall:0.6934436664544876 \n",
      "}\n",
      "=====Epoch 16\n",
      "Training...\n"
     ]
    },
    {
     "name": "stderr",
     "output_type": "stream",
     "text": [
      "Iteration: 100%|██████████| 62/62 [00:01<00:00, 38.88it/s]\n",
      "Iteration: 100%|██████████| 62/62 [00:01<00:00, 36.97it/s]\n",
      "Iteration:  81%|████████  | 50/62 [00:01<00:00, 28.49it/s]"
     ]
    },
    {
     "name": "stdout",
     "output_type": "stream",
     "text": [
      "Evaluating...\n"
     ]
    },
    {
     "name": "stderr",
     "output_type": "stream",
     "text": [
      "Iteration: 100%|██████████| 62/62 [00:02<00:00, 26.88it/s]\n",
      "Iteration: 100%|██████████| 62/62 [00:02<00:00, 29.13it/s]\n",
      "Iteration:  94%|█████████▎| 58/62 [00:02<00:00, 17.51it/s]"
     ]
    },
    {
     "name": "stdout",
     "output_type": "stream",
     "text": [
      "Evaluating...\n"
     ]
    },
    {
     "name": "stderr",
     "output_type": "stream",
     "text": [
      "Iteration: 100%|██████████| 62/62 [00:02<00:00, 27.32it/s]\n",
      "Iteration:  21%|██        | 13/62 [00:00<00:01, 25.80it/s]"
     ]
    },
    {
     "name": "stdout",
     "output_type": "stream",
     "text": [
      "{'Train':  best_epoch_indx:16\n",
      " auc:0.8104012292689933 \n",
      " apur:0.7782102998835594 \n",
      " f1:0.6921276333620796 \n",
      " precision:0.6704857381549111 \n",
      " recall:0.7152132399745386 \n",
      ", 'Validation':  best_epoch_indx:16\n",
      " auc:0.8104012292689933 \n",
      " apur:0.7782102998835594 \n",
      " f1:0.6921276333620796 \n",
      " precision:0.6704857381549111 \n",
      " recall:0.7152132399745386 \n",
      ", 'Test':  best_epoch_indx:16\n",
      " auc:0.8104012292689933 \n",
      " apur:0.7782102998835594 \n",
      " f1:0.6921276333620796 \n",
      " precision:0.6704857381549111 \n",
      " recall:0.7152132399745386 \n",
      "}\n",
      "=====Epoch 17\n",
      "Training...\n"
     ]
    },
    {
     "name": "stderr",
     "output_type": "stream",
     "text": [
      "Iteration: 100%|██████████| 62/62 [00:02<00:00, 30.43it/s]\n",
      "Iteration: 100%|██████████| 62/62 [00:02<00:00, 30.20it/s]\n",
      "Iteration: 100%|██████████| 62/62 [00:01<00:00, 37.47it/s]\n",
      "Iteration:  65%|██████▍   | 40/62 [00:02<00:00, 22.76it/s]"
     ]
    },
    {
     "name": "stdout",
     "output_type": "stream",
     "text": [
      "Evaluating...\n"
     ]
    },
    {
     "name": "stderr",
     "output_type": "stream",
     "text": [
      "Iteration: 100%|██████████| 62/62 [00:01<00:00, 37.91it/s]\n",
      "Iteration: 100%|██████████| 62/62 [00:02<00:00, 22.67it/s]\n",
      "Iteration:  35%|███▌      | 22/62 [00:00<00:01, 28.09it/s]"
     ]
    },
    {
     "name": "stdout",
     "output_type": "stream",
     "text": [
      "{'Train':  best_epoch_indx:14\n",
      " auc:0.7992974331888969 \n",
      " apur:0.7636147622853655 \n",
      " f1:0.6853071488444497 \n",
      " precision:0.6468859500395614 \n",
      " recall:0.7285805219605347 \n",
      ", 'Validation':  best_epoch_indx:14\n",
      " auc:0.7992974331888967 \n",
      " apur:0.7636147622867644 \n",
      " f1:0.6853071488444497 \n",
      " precision:0.6468859500395614 \n",
      " recall:0.7285805219605347 \n",
      ", 'Test':  best_epoch_indx:14\n",
      " auc:0.7992974391434078 \n",
      " apur:0.7636147688658533 \n",
      " f1:0.6853071488444497 \n",
      " precision:0.6468859500395614 \n",
      " recall:0.7285805219605347 \n",
      "}\n",
      "=====Epoch 15\n",
      "Training...\n"
     ]
    },
    {
     "name": "stderr",
     "output_type": "stream",
     "text": [
      "Iteration:   0%|          | 0/62 [00:00<?, ?it/s]8.69it/s]"
     ]
    },
    {
     "name": "stdout",
     "output_type": "stream",
     "text": [
      "{'Train':  best_epoch_indx:17\n",
      " auc:0.8170612822369429 \n",
      " apur:0.7841623956013319 \n",
      " f1:0.6952874414014311 \n",
      " precision:0.6744046906784731 \n",
      " recall:0.7175047740292807 \n",
      ", 'Validation':  best_epoch_indx:17\n",
      " auc:0.8170612822369429 \n",
      " apur:0.7841623956013319 \n",
      " f1:0.6952874414014311 \n",
      " precision:0.6744046906784731 \n",
      " recall:0.7175047740292807 \n",
      ", 'Test':  best_epoch_indx:17\n",
      " auc:0.817061288192011 \n",
      " apur:0.7841623995697681 \n",
      " f1:0.6952874414014311 \n",
      " precision:0.6744046906784731 \n",
      " recall:0.7175047740292807 \n",
      "}\n",
      "=====Epoch 18\n",
      "Training...\n"
     ]
    },
    {
     "name": "stderr",
     "output_type": "stream",
     "text": [
      "Iteration: 100%|██████████| 62/62 [00:01<00:00, 40.24it/s]\n",
      "Iteration: 100%|██████████| 62/62 [00:02<00:00, 26.74it/s]\n",
      "Iteration:   6%|▋         | 4/62 [00:00<00:01, 31.82it/s]]"
     ]
    },
    {
     "name": "stdout",
     "output_type": "stream",
     "text": [
      "Evaluating...\n"
     ]
    },
    {
     "name": "stderr",
     "output_type": "stream",
     "text": [
      "Iteration: 100%|██████████| 62/62 [00:02<00:00, 24.61it/s]\n",
      "Iteration: 100%|██████████| 62/62 [00:01<00:00, 38.57it/s]\n",
      "Iteration:  47%|████▋     | 29/62 [00:00<00:00, 57.08it/s]"
     ]
    },
    {
     "name": "stdout",
     "output_type": "stream",
     "text": [
      "Evaluating...\n"
     ]
    },
    {
     "name": "stderr",
     "output_type": "stream",
     "text": [
      "Iteration: 100%|██████████| 62/62 [00:01<00:00, 43.03it/s]\n",
      "Iteration: 100%|██████████| 62/62 [00:02<00:00, 25.17it/s]\n",
      "Iteration: 100%|██████████| 62/62 [00:01<00:00, 37.14it/s]\n",
      "Iteration: 100%|██████████| 62/62 [00:01<00:00, 32.39it/s]\n",
      "Iteration: 100%|██████████| 62/62 [00:01<00:00, 47.71it/s]\n",
      "Iteration: 100%|██████████| 62/62 [00:02<00:00, 21.93it/s]\n",
      "Iteration: 100%|██████████| 62/62 [00:01<00:00, 44.72it/s]\n",
      "Iteration:   6%|▋         | 4/62 [00:00<00:01, 36.32it/s]]"
     ]
    },
    {
     "name": "stdout",
     "output_type": "stream",
     "text": [
      "{'Train':  best_epoch_indx:17\n",
      " auc:0.8141011218894377 \n",
      " apur:0.7788844050548465 \n",
      " f1:0.6935063360213424 \n",
      " precision:0.6620745542949756 \n",
      " recall:0.728071292170592 \n",
      ", 'Validation':  best_epoch_indx:17\n",
      " auc:0.8141011218894377 \n",
      " apur:0.7788844050579959 \n",
      " f1:0.6935063360213424 \n",
      " precision:0.6620745542949756 \n",
      " recall:0.728071292170592 \n",
      ", 'Test':  best_epoch_indx:17\n",
      " auc:0.8141011218894377 \n",
      " apur:0.7788844050548465 \n",
      " f1:0.6935063360213424 \n",
      " precision:0.6620745542949756 \n",
      " recall:0.728071292170592 \n",
      "}\n",
      "=====Epoch 18\n",
      "Training...\n"
     ]
    },
    {
     "name": "stderr",
     "output_type": "stream",
     "text": [
      "Iteration: 100%|██████████| 62/62 [00:01<00:00, 35.10it/s]\n",
      "Iteration: 100%|██████████| 62/62 [00:01<00:00, 36.97it/s]\n",
      "Iteration:  56%|█████▋    | 35/62 [00:01<00:01, 24.37it/s]"
     ]
    },
    {
     "name": "stdout",
     "output_type": "stream",
     "text": [
      "Evaluating...\n"
     ]
    },
    {
     "name": "stderr",
     "output_type": "stream",
     "text": [
      "Iteration: 100%|██████████| 62/62 [00:01<00:00, 36.58it/s]\n",
      "Iteration:   0%|          | 0/62 [00:00<?, ?it/s]1.81it/s]\n",
      "Iteration:   6%|▋         | 4/62 [00:00<00:01, 35.40it/s]]"
     ]
    },
    {
     "name": "stdout",
     "output_type": "stream",
     "text": [
      "{'Train':  best_epoch_indx:16\n",
      " auc:0.8090319870382201 \n",
      " apur:0.7744511584489738 \n",
      " f1:0.6717343468693738 \n",
      " precision:0.7052646317558107 \n",
      " recall:0.6412476129853596 \n",
      ", 'Validation':  best_epoch_indx:16\n",
      " auc:0.8090319870382201 \n",
      " apur:0.7744511584489738 \n",
      " f1:0.6717343468693738 \n",
      " precision:0.7052646317558107 \n",
      " recall:0.6412476129853596 \n",
      ", 'Test':  best_epoch_indx:16\n",
      " auc:0.8090319870382201 \n",
      " apur:0.7744511584489738 \n",
      " f1:0.6717343468693738 \n",
      " precision:0.7052646317558107 \n",
      " recall:0.6412476129853596 \n",
      "}\n",
      "=====Epoch 17\n",
      "Training...\n"
     ]
    },
    {
     "name": "stderr",
     "output_type": "stream",
     "text": [
      "Iteration: 100%|██████████| 62/62 [00:02<00:00, 28.46it/s]\n",
      "Iteration:  37%|███▋      | 23/62 [00:00<00:01, 38.86it/s]"
     ]
    },
    {
     "name": "stdout",
     "output_type": "stream",
     "text": [
      "{'Train':  best_epoch_indx:18\n",
      " auc:0.8215288220237954 \n",
      " apur:0.7869031259381656 \n",
      " f1:0.6999578846038145 \n",
      " precision:0.663586584531143 \n",
      " recall:0.7405474220241884 \n",
      ", 'Validation':  best_epoch_indx:18\n",
      " auc:0.8215288220237954 \n",
      " apur:0.7869031259381656 \n",
      " f1:0.6999578846038145 \n",
      " precision:0.663586584531143 \n",
      " recall:0.7405474220241884 \n",
      ", 'Test':  best_epoch_indx:18\n",
      " auc:0.8215288220237954 \n",
      " apur:0.7869031259381656 \n",
      " f1:0.6999578846038145 \n",
      " precision:0.663586584531143 \n",
      " recall:0.7405474220241884 \n",
      "}\n",
      "=====Epoch 19\n",
      "Training...\n",
      "{'Train':  best_epoch_indx:15\n",
      " auc:0.8067944246721594 \n",
      " apur:0.7708239228070144 \n",
      " f1:0.6907336143180014 \n",
      " precision:0.6639267261625176 \n",
      " recall:0.719796308084023 \n",
      ", 'Validation':  best_epoch_indx:15\n",
      " auc:0.8067944246721594 \n",
      " apur:0.7708239228070144 \n",
      " f1:0.6907336143180014 \n",
      " precision:0.6639267261625176 \n",
      " recall:0.719796308084023 \n",
      ", 'Test':  best_epoch_indx:15\n",
      " auc:0.8067944246721594 \n",
      " apur:0.77082392280808 \n",
      " f1:0.6907336143180014 \n",
      " precision:0.6639267261625176 \n",
      " recall:0.719796308084023 \n",
      "}\n",
      "=====Epoch 16\n",
      "Training...\n"
     ]
    },
    {
     "name": "stderr",
     "output_type": "stream",
     "text": [
      "Iteration:  97%|█████████▋| 60/62 [00:01<00:00, 28.58it/s]"
     ]
    },
    {
     "name": "stdout",
     "output_type": "stream",
     "text": [
      "{'Train':  best_epoch_indx:17\n",
      " auc:0.8171387636289924 \n",
      " apur:0.7855748371474769 \n",
      " f1:0.6921544209215443 \n",
      " precision:0.6773918342474101 \n",
      " recall:0.7075747931253978 \n",
      ", 'Validation':  best_epoch_indx:17\n",
      " auc:0.8171387576739242 \n",
      " apur:0.7855748344553954 \n",
      " f1:0.6921544209215443 \n",
      " precision:0.6773918342474101 \n",
      " recall:0.7075747931253978 \n",
      ", 'Test':  best_epoch_indx:17\n",
      " auc:0.8171387636289924 \n",
      " apur:0.7855748371474769 \n",
      " f1:0.6921544209215443 \n",
      " precision:0.6773918342474101 \n",
      " recall:0.7075747931253978 \n",
      "}\n",
      "=====Epoch 18\n",
      "Training...\n"
     ]
    },
    {
     "name": "stderr",
     "output_type": "stream",
     "text": [
      "\r",
      "Iteration:  60%|█████▉    | 37/62 [00:00<00:00, 40.51it/s]\r",
      "Iteration:  11%|█▏        | 7/62 [00:00<00:01, 29.45it/s]\r",
      "Iteration: 100%|██████████| 62/62 [00:02<00:00, 30.02it/s]\n",
      "\r",
      "Iteration:  55%|█████▍    | 34/62 [00:00<00:00, 34.43it/s]\r",
      "Iteration:  97%|█████████▋| 60/62 [00:01<00:00, 36.03it/s]\r",
      "Iteration: 100%|██████████| 62/62 [00:01<00:00, 36.63it/s]\n",
      "\r",
      "Iteration:   0%|          | 0/62 [00:00<?, ?it/s]\r",
      "Iteration:  68%|██████▊   | 42/62 [00:01<00:00, 40.53it/s]\r",
      "Iteration:  18%|█▊        | 11/62 [00:00<00:01, 30.25it/s]\r",
      "Iteration:  63%|██████▎   | 39/62 [00:01<00:00, 36.24it/s]"
     ]
    },
    {
     "name": "stdout",
     "output_type": "stream",
     "text": [
      "Evaluating...\n"
     ]
    },
    {
     "name": "stderr",
     "output_type": "stream",
     "text": [
      "Iteration: 100%|██████████| 62/62 [00:01<00:00, 37.04it/s]\n",
      "Iteration:  63%|██████▎   | 39/62 [00:01<00:00, 38.43it/s]"
     ]
    },
    {
     "name": "stdout",
     "output_type": "stream",
     "text": [
      "Evaluating...\n"
     ]
    },
    {
     "name": "stderr",
     "output_type": "stream",
     "text": [
      "Iteration: 100%|██████████| 62/62 [00:02<00:00, 29.02it/s]\n",
      "Iteration:  15%|█▍        | 9/62 [00:00<00:02, 24.81it/s]]"
     ]
    },
    {
     "name": "stdout",
     "output_type": "stream",
     "text": [
      "Evaluating...\n"
     ]
    },
    {
     "name": "stderr",
     "output_type": "stream",
     "text": [
      "Iteration: 100%|██████████| 62/62 [00:01<00:00, 34.73it/s]\n",
      "Iteration:  26%|██▌       | 16/62 [00:00<00:01, 35.49it/s]"
     ]
    },
    {
     "name": "stdout",
     "output_type": "stream",
     "text": [
      "Evaluating...\n"
     ]
    },
    {
     "name": "stderr",
     "output_type": "stream",
     "text": [
      "Iteration: 100%|██████████| 62/62 [00:02<00:00, 26.58it/s]\n",
      "Iteration: 100%|██████████| 62/62 [00:01<00:00, 37.12it/s]\n",
      "Iteration: 100%|██████████| 62/62 [00:02<00:00, 27.89it/s]\n",
      "Iteration: 100%|██████████| 62/62 [00:02<00:00, 25.25it/s]\n",
      "Iteration: 100%|██████████| 62/62 [00:02<00:00, 27.79it/s]\n",
      "Iteration: 100%|██████████| 62/62 [00:01<00:00, 36.52it/s]\n",
      "Iteration: 100%|██████████| 62/62 [00:02<00:00, 30.68it/s]\n",
      "Iteration: 100%|██████████| 62/62 [00:01<00:00, 40.59it/s]\n",
      "Iteration: 100%|██████████| 62/62 [00:02<00:00, 26.29it/s]\n",
      "Iteration: 100%|██████████| 62/62 [00:02<00:00, 24.90it/s]\n",
      "Iteration: 100%|██████████| 62/62 [00:01<00:00, 42.97it/s]\n",
      "Iteration:   0%|          | 0/62 [00:00<?, ?it/s]7.26it/s]"
     ]
    },
    {
     "name": "stdout",
     "output_type": "stream",
     "text": [
      "{'Train':  best_epoch_indx:19\n",
      " auc:0.8272208071987722 \n",
      " apur:0.7949575111631552 \n",
      " f1:0.70598166907863 \n",
      " precision:0.6706381028754725 \n",
      " recall:0.7452577975811585 \n",
      ", 'Validation':  best_epoch_indx:19\n",
      " auc:0.8272208071987722 \n",
      " apur:0.7949575111631552 \n",
      " f1:0.70598166907863 \n",
      " precision:0.6706381028754725 \n",
      " recall:0.7452577975811585 \n",
      ", 'Test':  best_epoch_indx:19\n",
      " auc:0.8272208071987722 \n",
      " apur:0.7949575111631552 \n",
      " f1:0.70598166907863 \n",
      " precision:0.6706381028754725 \n",
      " recall:0.7452577975811585 \n",
      "}\n",
      "=====Epoch 20\n",
      "Training...\n",
      "{'Train':  best_epoch_indx:18\n",
      " auc:0.8203858344562549 \n",
      " apur:0.7870220479470863 \n",
      " f1:0.6964526819688228 \n",
      " precision:0.6723545443772959 \n",
      " recall:0.7223424570337365 \n",
      ", 'Validation':  best_epoch_indx:18\n",
      " auc:0.8203858344562549 \n",
      " apur:0.7870220479470863 \n",
      " f1:0.6964526819688228 \n",
      " precision:0.6723545443772959 \n",
      " recall:0.7223424570337365 \n",
      ", 'Test':  best_epoch_indx:18\n",
      " auc:0.8203858344562549 \n",
      " apur:0.7870220479470863 \n",
      " f1:0.6964526819688228 \n",
      " precision:0.6723545443772959 \n",
      " recall:0.7223424570337365 \n",
      "}\n",
      "=====Epoch 19\n",
      "Training...\n"
     ]
    },
    {
     "name": "stderr",
     "output_type": "stream",
     "text": [
      "Iteration: 100%|██████████| 62/62 [00:01<00:00, 40.74it/s]\n",
      "Iteration: 100%|██████████| 62/62 [00:01<00:00, 43.91it/s]\n",
      "Iteration:   6%|▋         | 4/62 [00:00<00:01, 36.28it/s]]"
     ]
    },
    {
     "name": "stdout",
     "output_type": "stream",
     "text": [
      "{'Train':  best_epoch_indx:17\n",
      " auc:0.8182906384962718 \n",
      " apur:0.7831901593836037 \n",
      " f1:0.6965107009259828 \n",
      " precision:0.6719119734973971 \n",
      " recall:0.7229789942711649 \n",
      ", 'Validation':  best_epoch_indx:17\n",
      " auc:0.8182906384962716 \n",
      " apur:0.783190159385343 \n",
      " f1:0.6965107009259828 \n",
      " precision:0.6719119734973971 \n",
      " recall:0.7229789942711649 \n",
      ", 'Test':  best_epoch_indx:17\n",
      " auc:0.8182906384962717 \n",
      " apur:0.783190159385343 \n",
      " f1:0.6965107009259828 \n",
      " precision:0.6719119734973971 \n",
      " recall:0.7229789942711649 \n",
      "}\n",
      "=====Epoch 18\n",
      "Training...\n"
     ]
    },
    {
     "name": "stderr",
     "output_type": "stream",
     "text": [
      "\r",
      "Iteration:  19%|█▉        | 12/62 [00:00<00:01, 25.95it/s]\r",
      "Iteration:  52%|█████▏    | 32/62 [00:00<00:00, 37.57it/s]\r",
      "Iteration:  55%|█████▍    | 34/62 [00:00<00:00, 35.32it/s]\r",
      "Iteration:  13%|█▎        | 8/62 [00:00<00:01, 36.39it/s]\r",
      "Iteration:  24%|██▍       | 15/62 [00:00<00:01, 26.51it/s]\r",
      "Iteration:   0%|          | 0/62 [00:00<?, ?it/s]\r",
      "Iteration:  60%|█████▉    | 37/62 [00:01<00:00, 38.29it/s]\r",
      "Iteration:  61%|██████▏   | 38/62 [00:01<00:00, 34.17it/s]"
     ]
    },
    {
     "name": "stdout",
     "output_type": "stream",
     "text": [
      "{'Train':  best_epoch_indx:16\n",
      " auc:0.8119775169569591 \n",
      " apur:0.7773805478602903 \n",
      " f1:0.6832122420111876 \n",
      " precision:0.6901792673421668 \n",
      " recall:0.6763844684914068 \n",
      ", 'Validation':  best_epoch_indx:16\n",
      " auc:0.8119775229114702 \n",
      " apur:0.7773805504035716 \n",
      " f1:0.6832122420111876 \n",
      " precision:0.6901792673421668 \n",
      " recall:0.6763844684914068 \n",
      ", 'Test':  best_epoch_indx:16\n",
      " auc:0.8119775169569591 \n",
      " apur:0.7773805478602903 \n",
      " f1:0.6832122420111876 \n",
      " precision:0.6901792673421668 \n",
      " recall:0.6763844684914068 \n",
      "}\n",
      "=====Epoch 17\n",
      "Training...\n"
     ]
    },
    {
     "name": "stderr",
     "output_type": "stream",
     "text": [
      "Iteration: 100%|██████████| 62/62 [00:01<00:00, 35.52it/s]\n",
      "Iteration:   5%|▍         | 3/62 [00:00<00:02, 24.74it/s]]"
     ]
    },
    {
     "name": "stdout",
     "output_type": "stream",
     "text": [
      "Evaluating...\n"
     ]
    },
    {
     "name": "stderr",
     "output_type": "stream",
     "text": [
      "Iteration: 100%|██████████| 62/62 [00:02<00:00, 25.16it/s]\n",
      "Iteration:  35%|███▌      | 22/62 [00:00<00:01, 29.50it/s]"
     ]
    },
    {
     "name": "stdout",
     "output_type": "stream",
     "text": [
      "Evaluating...\n",
      "Evaluating...\n",
      "Evaluating...\n"
     ]
    },
    {
     "name": "stderr",
     "output_type": "stream",
     "text": [
      "Iteration: 100%|██████████| 62/62 [00:01<00:00, 36.15it/s]\n",
      "Iteration: 100%|██████████| 62/62 [00:01<00:00, 40.25it/s]\n",
      "Iteration: 100%|██████████| 62/62 [00:02<00:00, 22.69it/s]\n",
      "Iteration: 100%|██████████| 62/62 [00:02<00:00, 29.69it/s]\n",
      "Iteration: 100%|██████████| 62/62 [00:01<00:00, 45.41it/s]\n",
      "Iteration:   6%|▋         | 4/62 [00:00<00:01, 35.15it/s]]"
     ]
    },
    {
     "name": "stdout",
     "output_type": "stream",
     "text": [
      "{'Train':  best_epoch_indx:18\n",
      " auc:0.8209135920203039 \n",
      " apur:0.7896190861793987 \n",
      " f1:0.698502777106979 \n",
      " precision:0.6642553680101045 \n",
      " recall:0.7364735837046468 \n",
      ", 'Validation':  best_epoch_indx:18\n",
      " auc:0.8209135920203039 \n",
      " apur:0.7896190861793987 \n",
      " f1:0.698502777106979 \n",
      " precision:0.6642553680101045 \n",
      " recall:0.7364735837046468 \n",
      ", 'Test':  best_epoch_indx:18\n",
      " auc:0.8209135920203039 \n",
      " apur:0.7896190861793987 \n",
      " f1:0.698502777106979 \n",
      " precision:0.6642553680101045 \n",
      " recall:0.7364735837046468 \n",
      "}\n",
      "=====Epoch 19\n",
      "Training...\n"
     ]
    },
    {
     "name": "stderr",
     "output_type": "stream",
     "text": [
      "Iteration: 100%|██████████| 62/62 [00:01<00:00, 34.84it/s]\n",
      "Iteration: 100%|██████████| 62/62 [00:02<00:00, 24.21it/s]\n",
      "Iteration: 100%|██████████| 62/62 [00:01<00:00, 37.90it/s]\n",
      "Iteration: 100%|██████████| 62/62 [00:02<00:00, 28.35it/s]\n",
      "Iteration:  61%|██████▏   | 38/62 [00:01<00:00, 28.10it/s]"
     ]
    },
    {
     "name": "stdout",
     "output_type": "stream",
     "text": [
      "Evaluating...\n"
     ]
    },
    {
     "name": "stderr",
     "output_type": "stream",
     "text": [
      "Iteration: 100%|██████████| 62/62 [00:02<00:00, 29.33it/s]\n",
      "Iteration: 100%|██████████| 62/62 [00:02<00:00, 28.30it/s]\n",
      "Iteration: 100%|██████████| 62/62 [00:01<00:00, 56.01it/s]\n",
      "Iteration: 100%|██████████| 62/62 [00:02<00:00, 28.01it/s]\n",
      "Iteration: 100%|██████████| 62/62 [00:02<00:00, 27.92it/s]\n",
      "Iteration: 100%|██████████| 62/62 [00:01<00:00, 43.94it/s]\n",
      "Iteration:   8%|▊         | 5/62 [00:00<00:01, 42.25it/s]]"
     ]
    },
    {
     "name": "stdout",
     "output_type": "stream",
     "text": [
      "{'Train':  best_epoch_indx:18\n",
      " auc:0.8222005491250143 \n",
      " apur:0.7872692352790213 \n",
      " f1:0.7036684135302526 \n",
      " precision:0.6610719480810116 \n",
      " recall:0.7521323997453851 \n",
      ", 'Validation':  best_epoch_indx:18\n",
      " auc:0.8222005491250143 \n",
      " apur:0.7872692352790213 \n",
      " f1:0.7036684135302526 \n",
      " precision:0.6610719480810116 \n",
      " recall:0.7521323997453851 \n",
      ", 'Test':  best_epoch_indx:18\n",
      " auc:0.8222005491250143 \n",
      " apur:0.7872692352790213 \n",
      " f1:0.7036684135302526 \n",
      " precision:0.6610719480810116 \n",
      " recall:0.7521323997453851 \n",
      "}\n",
      "=====Epoch 19\n",
      "Training...\n"
     ]
    },
    {
     "name": "stderr",
     "output_type": "stream",
     "text": [
      "Iteration:  15%|█▍        | 9/62 [00:00<00:02, 22.61it/s]]"
     ]
    },
    {
     "name": "stdout",
     "output_type": "stream",
     "text": [
      "{'Train':  best_epoch_indx:20\n",
      " auc:0.8295451655893056 \n",
      " apur:0.796467035322955 \n",
      " f1:0.7056498919419573 \n",
      " precision:0.6851318944844125 \n",
      " recall:0.7274347549331636 \n",
      ", 'Validation':  best_epoch_indx:20\n",
      " auc:0.8295451715443738 \n",
      " apur:0.7964670511426922 \n",
      " f1:0.7056498919419573 \n",
      " precision:0.6851318944844125 \n",
      " recall:0.7274347549331636 \n",
      ", 'Test':  best_epoch_indx:20\n",
      " auc:0.8295451715443738 \n",
      " apur:0.7964670511426922 \n",
      " f1:0.7056498919419573 \n",
      " precision:0.6851318944844125 \n",
      " recall:0.7274347549331636 \n",
      "}\n",
      "=====Epoch 21\n",
      "Training...\n"
     ]
    },
    {
     "name": "stderr",
     "output_type": "stream",
     "text": [
      "Iteration: 100%|██████████| 62/62 [00:01<00:00, 37.66it/s]\n",
      "Iteration: 100%|██████████| 62/62 [00:01<00:00, 31.84it/s]\n",
      "Iteration:   0%|          | 0/62 [00:00<?, ?it/s]"
     ]
    },
    {
     "name": "stdout",
     "output_type": "stream",
     "text": [
      "Evaluating...\n",
      "{'Train':  best_epoch_indx:17\n",
      " auc:0.8224214317145597 \n",
      " apur:0.7887491588125993 \n",
      " f1:0.7023391104108593 \n",
      " precision:0.6701746270382791 \n",
      " recall:0.7377466581795035 \n",
      ", 'Validation':  best_epoch_indx:17\n",
      " auc:0.8224214317145597 \n",
      " apur:0.7887491588125993 \n",
      " f1:0.7023391104108593 \n",
      " precision:0.6701746270382791 \n",
      " recall:0.7377466581795035 \n",
      ", 'Test':  best_epoch_indx:17\n",
      " auc:0.8224214317145597 \n",
      " apur:0.7887491588125993 \n",
      " f1:0.7023391104108593 \n",
      " precision:0.6701746270382791 \n",
      " recall:0.7377466581795035 \n",
      "}\n",
      "=====Epoch 18\n",
      "Training...\n",
      "Evaluating...\n"
     ]
    },
    {
     "name": "stderr",
     "output_type": "stream",
     "text": [
      "Iteration: 100%|██████████| 62/62 [00:01<00:00, 39.37it/s]\n",
      "Iteration: 100%|██████████| 62/62 [00:02<00:00, 24.67it/s]\n",
      "Iteration: 100%|██████████| 62/62 [00:02<00:00, 24.65it/s]\n",
      "Iteration:  66%|██████▌   | 41/62 [00:01<00:00, 28.32it/s]"
     ]
    },
    {
     "name": "stdout",
     "output_type": "stream",
     "text": [
      "{'Train':  best_epoch_indx:19\n",
      " auc:0.8266980449553679 \n",
      " apur:0.7934419952840823 \n",
      " f1:0.7043760519355614 \n",
      " precision:0.6672360778954561 \n",
      " recall:0.7458943348185869 \n",
      ", 'Validation':  best_epoch_indx:19\n",
      " auc:0.8266980449553679 \n",
      " apur:0.7934419952840823 \n",
      " f1:0.7043760519355614 \n",
      " precision:0.6672360778954561 \n",
      " recall:0.7458943348185869 \n",
      ", 'Test':  best_epoch_indx:19\n",
      " auc:0.8266980390008568 \n",
      " apur:0.7934419814206691 \n",
      " f1:0.7043760519355614 \n",
      " precision:0.6672360778954561 \n",
      " recall:0.7458943348185869 \n",
      "}\n",
      "=====Epoch 20\n",
      "Training...\n",
      "Evaluating...\n"
     ]
    },
    {
     "name": "stderr",
     "output_type": "stream",
     "text": [
      "Iteration: 100%|██████████| 62/62 [00:01<00:00, 39.31it/s]\n",
      "Iteration: 100%|██████████| 62/62 [00:01<00:00, 39.28it/s]\n",
      "Iteration: 100%|██████████| 62/62 [00:01<00:00, 33.01it/s]\n",
      "Iteration: 100%|██████████| 62/62 [00:01<00:00, 36.62it/s]\n",
      "Iteration:  82%|████████▏ | 51/62 [00:01<00:00, 24.02it/s]"
     ]
    },
    {
     "name": "stdout",
     "output_type": "stream",
     "text": [
      "Evaluating...\n"
     ]
    },
    {
     "name": "stderr",
     "output_type": "stream",
     "text": [
      "Iteration: 100%|██████████| 62/62 [00:01<00:00, 46.17it/s]\n",
      "Iteration: 100%|██████████| 62/62 [00:02<00:00, 27.98it/s]\n",
      "Iteration: 100%|██████████| 62/62 [00:01<00:00, 42.46it/s]\n",
      "Iteration: 100%|██████████| 62/62 [00:02<00:00, 25.62it/s]\n",
      "Iteration: 100%|██████████| 62/62 [00:01<00:00, 31.58it/s]\n",
      "Iteration:   5%|▍         | 3/62 [00:00<00:02, 26.19it/s]"
     ]
    },
    {
     "name": "stdout",
     "output_type": "stream",
     "text": [
      "{'Train':  best_epoch_indx:19\n",
      " auc:0.8276648706776553 \n",
      " apur:0.7962580251857319 \n",
      " f1:0.7028346161066267 \n",
      " precision:0.6911149396997293 \n",
      " recall:0.7149586250795672 \n",
      ", 'Validation':  best_epoch_indx:19\n",
      " auc:0.827664864722587 \n",
      " apur:0.7962580215816726 \n",
      " f1:0.7028346161066267 \n",
      " precision:0.6911149396997293 \n",
      " recall:0.7149586250795672 \n",
      ", 'Test':  best_epoch_indx:19\n",
      " auc:0.8276648706776553 \n",
      " apur:0.7962580251857319 \n",
      " f1:0.7028346161066267 \n",
      " precision:0.6911149396997293 \n",
      " recall:0.7149586250795672 \n",
      "}\n",
      "=====Epoch 20\n",
      "Training...\n"
     ]
    },
    {
     "name": "stderr",
     "output_type": "stream",
     "text": [
      "Iteration: 100%|██████████| 62/62 [00:01<00:00, 53.80it/s]\n",
      "Iteration:   6%|▋         | 4/62 [00:00<00:01, 30.61it/s]]"
     ]
    },
    {
     "name": "stdout",
     "output_type": "stream",
     "text": [
      "{'Train':  best_epoch_indx:19\n",
      " auc:0.8284350770722144 \n",
      " apur:0.7939574467083822 \n",
      " f1:0.7096735260394664 \n",
      " precision:0.6746213859568609 \n",
      " recall:0.7485677912157861 \n",
      ", 'Validation':  best_epoch_indx:19\n",
      " auc:0.8284350770722144 \n",
      " apur:0.7939574467083821 \n",
      " f1:0.7096735260394664 \n",
      " precision:0.6746213859568609 \n",
      " recall:0.7485677912157861 \n",
      ", 'Test':  best_epoch_indx:19\n",
      " auc:0.8284350770722144 \n",
      " apur:0.7939574467083821 \n",
      " f1:0.7096735260394664 \n",
      " precision:0.6746213859568609 \n",
      " recall:0.7485677912157861 \n",
      "}\n",
      "=====Epoch 20\n",
      "Training...\n"
     ]
    },
    {
     "name": "stderr",
     "output_type": "stream",
     "text": [
      "Iteration: 100%|██████████| 62/62 [00:02<00:00, 28.03it/s]\n",
      "Iteration: 100%|██████████| 62/62 [00:01<00:00, 34.29it/s]\n",
      "Iteration:  32%|███▏      | 20/62 [00:01<00:02, 19.57it/s]"
     ]
    },
    {
     "name": "stdout",
     "output_type": "stream",
     "text": [
      "Evaluating...\n"
     ]
    },
    {
     "name": "stderr",
     "output_type": "stream",
     "text": [
      "Iteration: 100%|██████████| 62/62 [00:02<00:00, 25.60it/s]\n",
      "Iteration: 100%|██████████| 62/62 [00:01<00:00, 40.09it/s]\n",
      "Iteration:   0%|          | 0/62 [00:00<?, ?it/s]"
     ]
    },
    {
     "name": "stdout",
     "output_type": "stream",
     "text": [
      "Evaluating...\n"
     ]
    },
    {
     "name": "stderr",
     "output_type": "stream",
     "text": [
      "Iteration:  66%|██████▌   | 41/62 [00:01<00:00, 30.86it/s]"
     ]
    },
    {
     "name": "stdout",
     "output_type": "stream",
     "text": [
      "{'Train':  best_epoch_indx:21\n",
      " auc:0.8278130089536236 \n",
      " apur:0.7936796722496762 \n",
      " f1:0.7110122090575569 \n",
      " precision:0.6738486092111263 \n",
      " recall:0.7525143220878422 \n",
      ", 'Validation':  best_epoch_indx:21\n",
      " auc:0.8278130089536238 \n",
      " apur:0.7936796722496762 \n",
      " f1:0.7110122090575569 \n",
      " precision:0.6738486092111263 \n",
      " recall:0.7525143220878422 \n",
      ", 'Test':  best_epoch_indx:21\n",
      " auc:0.8278130089536236 \n",
      " apur:0.7936796722496762 \n",
      " f1:0.7110122090575569 \n",
      " precision:0.6738486092111263 \n",
      " recall:0.7525143220878422 \n",
      "}\n",
      "=====Epoch 22\n",
      "Training...\n"
     ]
    },
    {
     "name": "stderr",
     "output_type": "stream",
     "text": [
      "Iteration: 100%|██████████| 62/62 [00:02<00:00, 24.44it/s]\n",
      "Iteration: 100%|██████████| 62/62 [00:02<00:00, 30.18it/s]\n",
      "Iteration: 100%|██████████| 62/62 [00:01<00:00, 42.60it/s]\n",
      "Iteration: 100%|██████████| 62/62 [00:01<00:00, 36.21it/s]\n",
      "Iteration:   6%|▋         | 4/62 [00:00<00:01, 30.37it/s]]"
     ]
    },
    {
     "name": "stdout",
     "output_type": "stream",
     "text": [
      "Evaluating...\n"
     ]
    },
    {
     "name": "stderr",
     "output_type": "stream",
     "text": [
      "Iteration: 100%|██████████| 62/62 [00:01<00:00, 32.64it/s]\n",
      "Iteration:  35%|███▌      | 22/62 [00:00<00:01, 32.09it/s]"
     ]
    },
    {
     "name": "stdout",
     "output_type": "stream",
     "text": [
      "{'Train':  best_epoch_indx:18\n",
      " auc:0.8264277220600942 \n",
      " apur:0.7928545388530291 \n",
      " f1:0.70187350685276 \n",
      " precision:0.6933300211153894 \n",
      " recall:0.7106301718650541 \n",
      ", 'Validation':  best_epoch_indx:18\n",
      " auc:0.8264277220600942 \n",
      " apur:0.7928545388530291 \n",
      " f1:0.70187350685276 \n",
      " precision:0.6933300211153894 \n",
      " recall:0.7106301718650541 \n",
      ", 'Test':  best_epoch_indx:18\n",
      " auc:0.8264277220600942 \n",
      " apur:0.7928545388530291 \n",
      " f1:0.70187350685276 \n",
      " precision:0.6933300211153894 \n",
      " recall:0.7106301718650541 \n",
      "}\n",
      "=====Epoch 19\n",
      "Training...\n"
     ]
    },
    {
     "name": "stderr",
     "output_type": "stream",
     "text": [
      "Iteration: 100%|██████████| 62/62 [00:02<00:00, 30.70it/s]\n",
      "Iteration: 100%|██████████| 62/62 [00:02<00:00, 25.33it/s]\n",
      "Iteration:   0%|          | 0/62 [00:00<?, ?it/s]5.63it/s]"
     ]
    },
    {
     "name": "stdout",
     "output_type": "stream",
     "text": [
      "{'Train':  best_epoch_indx:20\n",
      " auc:0.8275594304867396 \n",
      " apur:0.7940914347725998 \n",
      " f1:0.7058175137783222 \n",
      " precision:0.68 \n",
      " recall:0.7336728198599618 \n",
      ", 'Validation':  best_epoch_indx:20\n",
      " auc:0.8275594304867396 \n",
      " apur:0.7940914347725998 \n",
      " f1:0.7058175137783222 \n",
      " precision:0.68 \n",
      " recall:0.7336728198599618 \n",
      ", 'Test':  best_epoch_indx:20\n",
      " auc:0.8275594304867396 \n",
      " apur:0.7940914347725998 \n",
      " f1:0.7058175137783222 \n",
      " precision:0.68 \n",
      " recall:0.7336728198599618 \n",
      "}\n",
      "=====Epoch 21\n",
      "Training...\n"
     ]
    },
    {
     "name": "stderr",
     "output_type": "stream",
     "text": [
      "Iteration: 100%|██████████| 62/62 [00:02<00:00, 25.55it/s]\n",
      "Iteration: 100%|██████████| 62/62 [00:02<00:00, 21.71it/s]\n",
      "Iteration: 100%|██████████| 62/62 [00:02<00:00, 24.35it/s]\n",
      "Iteration:  39%|███▊      | 24/62 [00:00<00:01, 32.16it/s]"
     ]
    },
    {
     "name": "stdout",
     "output_type": "stream",
     "text": [
      "Evaluating...\n"
     ]
    },
    {
     "name": "stderr",
     "output_type": "stream",
     "text": [
      "Iteration: 100%|██████████| 62/62 [00:01<00:00, 33.62it/s]\n",
      "Iteration:   0%|          | 0/62 [00:00<?, ?it/s]"
     ]
    },
    {
     "name": "stdout",
     "output_type": "stream",
     "text": [
      "Evaluating...\n"
     ]
    },
    {
     "name": "stderr",
     "output_type": "stream",
     "text": [
      "Iteration: 100%|██████████| 62/62 [00:01<00:00, 32.98it/s]\n",
      "Iteration: 100%|██████████| 62/62 [00:01<00:00, 34.80it/s]\n",
      "Iteration: 100%|██████████| 62/62 [00:01<00:00, 35.96it/s]\n",
      "Iteration: 100%|██████████| 62/62 [00:01<00:00, 40.02it/s]\n",
      "Iteration: 100%|██████████| 62/62 [00:02<00:00, 27.63it/s]\n",
      "Iteration:  16%|█▌        | 10/62 [00:00<00:01, 27.24it/s]"
     ]
    },
    {
     "name": "stdout",
     "output_type": "stream",
     "text": [
      "{'Train':  best_epoch_indx:20\n",
      " auc:0.8255604356082147 \n",
      " apur:0.7921331319017673 \n",
      " f1:0.7083707831505782 \n",
      " precision:0.6691193117500566 \n",
      " recall:0.7525143220878422 \n",
      ", 'Validation':  best_epoch_indx:20\n",
      " auc:0.8255604296537036 \n",
      " apur:0.7921331288458494 \n",
      " f1:0.7083707831505782 \n",
      " precision:0.6691193117500566 \n",
      " recall:0.7525143220878422 \n",
      ", 'Test':  best_epoch_indx:20\n",
      " auc:0.8255604296537036 \n",
      " apur:0.7921331288458494 \n",
      " f1:0.7083707831505782 \n",
      " precision:0.6691193117500566 \n",
      " recall:0.7525143220878422 \n",
      "}\n",
      "=====Epoch 21\n",
      "Training...\n"
     ]
    },
    {
     "name": "stderr",
     "output_type": "stream",
     "text": [
      "Iteration:  89%|████████▊ | 55/62 [00:01<00:00, 29.09it/s]"
     ]
    },
    {
     "name": "stdout",
     "output_type": "stream",
     "text": [
      "{'Train':  best_epoch_indx:20\n",
      " auc:0.825296045793045 \n",
      " apur:0.7934736885539712 \n",
      " f1:0.7031419284940412 \n",
      " precision:0.6668569471400845 \n",
      " recall:0.7436028007638447 \n",
      ", 'Validation':  best_epoch_indx:20\n",
      " auc:0.825296045793045 \n",
      " apur:0.7934736885539712 \n",
      " f1:0.7031419284940412 \n",
      " precision:0.6668569471400845 \n",
      " recall:0.7436028007638447 \n",
      ", 'Test':  best_epoch_indx:20\n",
      " auc:0.825296045793045 \n",
      " apur:0.7934736885539712 \n",
      " f1:0.7031419284940412 \n",
      " precision:0.6668569471400845 \n",
      " recall:0.7436028007638447 \n",
      "}\n",
      "=====Epoch 21\n",
      "Training...\n"
     ]
    },
    {
     "name": "stderr",
     "output_type": "stream",
     "text": [
      "Iteration: 100%|██████████| 62/62 [00:01<00:00, 33.75it/s]\n",
      "Iteration: 100%|██████████| 62/62 [00:01<00:00, 34.40it/s]\n",
      "Iteration:  97%|█████████▋| 60/62 [00:02<00:00, 24.16it/s]"
     ]
    },
    {
     "name": "stdout",
     "output_type": "stream",
     "text": [
      "Evaluating...\n",
      "{'Train':  best_epoch_indx:22\n",
      " auc:0.8236985332488429 \n",
      " apur:0.790452544637814 \n",
      " f1:0.7020531400966183 \n",
      " precision:0.6677771395749569 \n",
      " recall:0.7400381922342457 \n",
      ", 'Validation':  best_epoch_indx:22\n",
      " auc:0.8236985332488429 \n",
      " apur:0.790452544637814 \n",
      " f1:0.7020531400966183 \n",
      " precision:0.6677771395749569 \n",
      " recall:0.7400381922342457 \n",
      ", 'Test':  best_epoch_indx:22\n",
      " auc:0.8236985332488429 \n",
      " apur:0.790452544637814 \n",
      " f1:0.7020531400966183 \n",
      " precision:0.6677771395749569 \n",
      " recall:0.7400381922342457 \n",
      "}\n",
      "=====Epoch 23\n",
      "Training...\n"
     ]
    },
    {
     "name": "stderr",
     "output_type": "stream",
     "text": [
      "Iteration: 100%|██████████| 62/62 [00:02<00:00, 28.12it/s]\n",
      "Iteration: 100%|██████████| 62/62 [00:01<00:00, 33.87it/s]\n",
      "Iteration: 100%|██████████| 62/62 [00:01<00:00, 34.38it/s]\n",
      "Iteration:   6%|▋         | 4/62 [00:00<00:01, 32.13it/s]]"
     ]
    },
    {
     "name": "stdout",
     "output_type": "stream",
     "text": [
      "Evaluating...\n"
     ]
    },
    {
     "name": "stderr",
     "output_type": "stream",
     "text": [
      "Iteration: 100%|██████████| 62/62 [00:01<00:00, 40.69it/s]\n",
      "Iteration:  50%|█████     | 31/62 [00:00<00:00, 32.78it/s]"
     ]
    },
    {
     "name": "stdout",
     "output_type": "stream",
     "text": [
      "Evaluating...\n"
     ]
    },
    {
     "name": "stderr",
     "output_type": "stream",
     "text": [
      "Iteration: 100%|██████████| 62/62 [00:01<00:00, 36.24it/s]\n",
      "Iteration: 100%|██████████| 62/62 [00:02<00:00, 28.48it/s]\n",
      "Iteration: 100%|██████████| 62/62 [00:02<00:00, 28.37it/s]\n",
      "Iteration: 100%|██████████| 62/62 [00:02<00:00, 26.15it/s]\n",
      "Iteration: 100%|██████████| 62/62 [00:02<00:00, 25.44it/s]\n",
      "Iteration: 100%|██████████| 62/62 [00:01<00:00, 35.85it/s]\n",
      "Iteration:   0%|          | 0/62 [00:00<?, ?it/s].34it/s]]"
     ]
    },
    {
     "name": "stdout",
     "output_type": "stream",
     "text": [
      "{'Train':  best_epoch_indx:19\n",
      " auc:0.8286520118208955 \n",
      " apur:0.7960901148173298 \n",
      " f1:0.7074464841129474 \n",
      " precision:0.6789978927651604 \n",
      " recall:0.7383831954169319 \n",
      ", 'Validation':  best_epoch_indx:19\n",
      " auc:0.8286520118208955 \n",
      " apur:0.7960901148173298 \n",
      " f1:0.7074464841129474 \n",
      " precision:0.6789978927651604 \n",
      " recall:0.7383831954169319 \n",
      ", 'Test':  best_epoch_indx:19\n",
      " auc:0.8286520118208955 \n",
      " apur:0.7960901148173298 \n",
      " f1:0.7074464841129474 \n",
      " precision:0.6789978927651604 \n",
      " recall:0.7383831954169319 \n",
      "}\n",
      "=====Epoch 20\n",
      "Training...\n"
     ]
    },
    {
     "name": "stderr",
     "output_type": "stream",
     "text": [
      "\r",
      "Iteration:  11%|█▏        | 7/62 [00:00<00:01, 32.85it/s]\r",
      "Iteration:  48%|████▊     | 30/62 [00:00<00:00, 39.00it/s]\r",
      "Iteration:   6%|▋         | 4/62 [00:00<00:01, 35.49it/s]\r",
      "Iteration:  19%|█▉        | 12/62 [00:00<00:01, 36.44it/s]\r",
      "Iteration:  56%|█████▋    | 35/62 [00:00<00:00, 39.55it/s]\r",
      "Iteration:  15%|█▍        | 9/62 [00:00<00:01, 38.41it/s]"
     ]
    },
    {
     "name": "stdout",
     "output_type": "stream",
     "text": [
      "{'Train':  best_epoch_indx:21\n",
      " auc:0.8238366701421164 \n",
      " apur:0.7893735005707573 \n",
      " f1:0.701186492242166 \n",
      " precision:0.6715617715617715 \n",
      " recall:0.7335455124124761 \n",
      ", 'Validation':  best_epoch_indx:21\n",
      " auc:0.8238366641876053 \n",
      " apur:0.7893734937940785 \n",
      " f1:0.701186492242166 \n",
      " precision:0.6715617715617715 \n",
      " recall:0.7335455124124761 \n",
      ", 'Test':  best_epoch_indx:21\n",
      " auc:0.8238366641876053 \n",
      " apur:0.789373493920671 \n",
      " f1:0.701186492242166 \n",
      " precision:0.6715617715617715 \n",
      " recall:0.7335455124124761 \n",
      "}\n",
      "=====Epoch 22\n",
      "Training...\n"
     ]
    },
    {
     "name": "stderr",
     "output_type": "stream",
     "text": [
      "Iteration: 100%|██████████| 62/62 [00:01<00:00, 32.28it/s]\n",
      "Iteration: 100%|██████████| 62/62 [00:01<00:00, 37.67it/s]\n",
      "Iteration:  23%|██▎       | 14/62 [00:00<00:02, 22.50it/s]"
     ]
    },
    {
     "name": "stdout",
     "output_type": "stream",
     "text": [
      "Evaluating...\n"
     ]
    },
    {
     "name": "stderr",
     "output_type": "stream",
     "text": [
      "Iteration: 100%|██████████| 62/62 [00:01<00:00, 33.77it/s]\n",
      "Iteration: 100%|██████████| 62/62 [00:01<00:00, 32.27it/s]\n",
      "Iteration:   0%|          | 0/62 [00:00<?, ?it/s]"
     ]
    },
    {
     "name": "stdout",
     "output_type": "stream",
     "text": [
      "Evaluating...\n"
     ]
    },
    {
     "name": "stderr",
     "output_type": "stream",
     "text": [
      "Iteration: 100%|██████████| 62/62 [00:02<00:00, 28.60it/s]\n",
      "Iteration: 100%|██████████| 62/62 [00:03<00:00, 19.75it/s]\n",
      "Iteration: 100%|██████████| 62/62 [00:02<00:00, 28.31it/s]\n",
      "Iteration: 100%|██████████| 62/62 [00:01<00:00, 36.90it/s]\n",
      "Iteration: 100%|██████████| 62/62 [00:02<00:00, 25.64it/s]\n",
      "Iteration:  11%|█▏        | 7/62 [00:00<00:01, 31.19it/s]"
     ]
    },
    {
     "name": "stdout",
     "output_type": "stream",
     "text": [
      "{'Train':  best_epoch_indx:21\n",
      " auc:0.8272799197808263 \n",
      " apur:0.7937107602063633 \n",
      " f1:0.7119498329719275 \n",
      " precision:0.6596437880104257 \n",
      " recall:0.7732654360280077 \n",
      ", 'Validation':  best_epoch_indx:21\n",
      " auc:0.8272799197808263 \n",
      " apur:0.7937107602063633 \n",
      " f1:0.7119498329719275 \n",
      " precision:0.6596437880104257 \n",
      " recall:0.7732654360280077 \n",
      ", 'Test':  best_epoch_indx:21\n",
      " auc:0.8272799197808263 \n",
      " apur:0.7937107602063631 \n",
      " f1:0.7119498329719275 \n",
      " precision:0.6596437880104257 \n",
      " recall:0.7732654360280077 \n",
      "}\n",
      "=====Epoch 22\n",
      "Training...\n",
      "{'Train':  best_epoch_indx:21\n",
      " auc:0.8211452918129306 \n",
      " apur:0.7893619728259843 \n",
      " f1:0.7032616402741669 \n",
      " precision:0.6561914213253942 \n",
      " recall:0.7576066199872693 \n",
      ", 'Validation':  best_epoch_indx:21\n",
      " auc:0.8211452918129306 \n",
      " apur:0.7893619728259843 \n",
      " f1:0.7032616402741669 \n",
      " precision:0.6561914213253942 \n",
      " recall:0.7576066199872693 \n",
      ", 'Test':  best_epoch_indx:21\n",
      " auc:0.8211452918129306 \n",
      " apur:0.7893619728259843 \n",
      " f1:0.7032616402741669 \n",
      " precision:0.6561914213253942 \n",
      " recall:0.7576066199872693 \n",
      "}\n",
      "=====Epoch 22\n",
      "Training...\n",
      "{'Train':  best_epoch_indx:23\n",
      " auc:0.8235217630050797 \n",
      " apur:0.7886268465209478 \n",
      " f1:0.6988534242330336 \n",
      " precision:0.6809178743961353 \n",
      " recall:0.7177593889242521 \n",
      ", 'Validation':  best_epoch_indx:23\n",
      " auc:0.8235217630050797 \n",
      " apur:0.7886268465209478 \n",
      " f1:0.6988534242330336 \n",
      " precision:0.6809178743961353 \n",
      " recall:0.7177593889242521 \n",
      ", 'Test':  best_epoch_indx:23\n",
      " auc:0.8235217630050797 \n",
      " apur:0.7886268465209478 \n",
      " f1:0.6988534242330336 \n",
      " precision:0.6809178743961353 \n",
      " recall:0.7177593889242521 \n",
      "}\n",
      "=====Epoch 24\n",
      "Training...\n"
     ]
    },
    {
     "name": "stderr",
     "output_type": "stream",
     "text": [
      "Iteration: 100%|██████████| 62/62 [00:01<00:00, 41.02it/s]\n",
      "Iteration: 100%|██████████| 62/62 [00:01<00:00, 40.06it/s]\n",
      "Iteration:  79%|███████▉  | 49/62 [00:01<00:00, 31.45it/s]"
     ]
    },
    {
     "name": "stdout",
     "output_type": "stream",
     "text": [
      "Evaluating...\n"
     ]
    },
    {
     "name": "stderr",
     "output_type": "stream",
     "text": [
      "Iteration: 100%|██████████| 62/62 [00:01<00:00, 31.12it/s]\n",
      "Iteration:   0%|          | 0/62 [00:00<?, ?it/s]"
     ]
    },
    {
     "name": "stdout",
     "output_type": "stream",
     "text": [
      "Evaluating...\n"
     ]
    },
    {
     "name": "stderr",
     "output_type": "stream",
     "text": [
      "\r",
      "Iteration:  92%|█████████▏| 57/62 [00:02<00:00, 27.04it/s]\r",
      "Iteration:  90%|█████████ | 56/62 [00:02<00:00, 30.29it/s]\r",
      "Iteration:  37%|███▋      | 23/62 [00:00<00:00, 40.51it/s]\r",
      "Iteration:   6%|▋         | 4/62 [00:00<00:01, 30.60it/s]\r",
      "Iteration:  97%|█████████▋| 60/62 [00:02<00:00, 31.95it/s]\r",
      "Iteration:  98%|█████████▊| 61/62 [00:02<00:00, 28.19it/s]\r",
      "Iteration:  45%|████▌     | 28/62 [00:00<00:00, 40.09it/s]\r",
      "Iteration: 100%|██████████| 62/62 [00:02<00:00, 22.40it/s]\n",
      "\r",
      "Iteration: 100%|██████████| 62/62 [00:02<00:00, 25.56it/s]\n",
      "\r",
      "Iteration:   0%|          | 0/62 [00:00<?, ?it/s]\r",
      "Iteration:  13%|█▎        | 8/62 [00:00<00:01, 29.83it/s]"
     ]
    },
    {
     "name": "stdout",
     "output_type": "stream",
     "text": [
      "Evaluating...\n"
     ]
    },
    {
     "name": "stderr",
     "output_type": "stream",
     "text": [
      "Iteration: 100%|██████████| 62/62 [00:01<00:00, 40.77it/s]\n",
      "Iteration: 100%|██████████| 62/62 [00:00<00:00, 66.21it/s]\n",
      "Iteration:  21%|██        | 13/62 [00:00<00:01, 28.41it/s]"
     ]
    },
    {
     "name": "stdout",
     "output_type": "stream",
     "text": [
      "{'Train':  best_epoch_indx:22\n",
      " auc:0.8224600645826274 \n",
      " apur:0.7890096184043756 \n",
      " f1:0.7035151217716704 \n",
      " precision:0.6789012550319677 \n",
      " recall:0.7299809038828772 \n",
      ", 'Validation':  best_epoch_indx:22\n",
      " auc:0.8224600645826274 \n",
      " apur:0.7890096184043756 \n",
      " f1:0.7035151217716704 \n",
      " precision:0.6789012550319677 \n",
      " recall:0.7299809038828772 \n",
      ", 'Test':  best_epoch_indx:22\n",
      " auc:0.8224600645826274 \n",
      " apur:0.7890096184043756 \n",
      " f1:0.7035151217716704 \n",
      " precision:0.6789012550319677 \n",
      " recall:0.7299809038828772 \n",
      "}\n",
      "=====Epoch 23\n",
      "Training...\n"
     ]
    },
    {
     "name": "stderr",
     "output_type": "stream",
     "text": [
      "Iteration: 100%|██████████| 62/62 [00:02<00:00, 28.70it/s]\n",
      "Iteration: 100%|██████████| 62/62 [00:01<00:00, 41.02it/s]\n",
      "Iteration:  15%|█▍        | 9/62 [00:00<00:02, 19.81it/s]]\n"
     ]
    },
    {
     "name": "stdout",
     "output_type": "stream",
     "text": [
      "Evaluating...\n"
     ]
    },
    {
     "name": "stderr",
     "output_type": "stream",
     "text": [
      "Iteration: 100%|██████████| 62/62 [00:03<00:00, 18.52it/s]\n",
      "Iteration: 100%|██████████| 62/62 [00:02<00:00, 25.77it/s]\n",
      "Iteration:  63%|██████▎   | 39/62 [00:01<00:00, 25.37it/s]"
     ]
    },
    {
     "name": "stdout",
     "output_type": "stream",
     "text": [
      "{'Train':  best_epoch_indx:20\n",
      " auc:0.8302777838976918 \n",
      " apur:0.7966729039441651 \n",
      " f1:0.7081174438687391 \n",
      " precision:0.6868493478521001 \n",
      " recall:0.7307447485677913 \n",
      ", 'Validation':  best_epoch_indx:20\n",
      " auc:0.8302777838976918 \n",
      " apur:0.7966729039441652 \n",
      " f1:0.7081174438687391 \n",
      " precision:0.6868493478521001 \n",
      " recall:0.7307447485677913 \n",
      ", 'Test':  best_epoch_indx:20\n",
      " auc:0.8302777838976918 \n",
      " apur:0.7966729039437811 \n",
      " f1:0.7081174438687391 \n",
      " precision:0.6868493478521001 \n",
      " recall:0.7307447485677913 \n",
      "}\n",
      "=====Epoch 21\n",
      "Training...\n"
     ]
    },
    {
     "name": "stderr",
     "output_type": "stream",
     "text": [
      "Iteration: 100%|██████████| 62/62 [00:01<00:00, 42.62it/s]\n",
      "Iteration: 100%|██████████| 62/62 [00:01<00:00, 53.96it/s]\n",
      "Iteration:   0%|          | 0/62 [00:00<?, ?it/s].77it/s]]"
     ]
    },
    {
     "name": "stdout",
     "output_type": "stream",
     "text": [
      "{'Train':  best_epoch_indx:24\n",
      " auc:0.8174299366875017 \n",
      " apur:0.7813142776231428 \n",
      " f1:0.7005538887606739 \n",
      " precision:0.6406035665294925 \n",
      " recall:0.7728835136855506 \n",
      ", 'Validation':  best_epoch_indx:24\n",
      " auc:0.8174299366875017 \n",
      " apur:0.7813142776231428 \n",
      " f1:0.7005538887606739 \n",
      " precision:0.6406035665294925 \n",
      " recall:0.7728835136855506 \n",
      ", 'Test':  best_epoch_indx:24\n",
      " auc:0.8174299366875017 \n",
      " apur:0.7813142776231428 \n",
      " f1:0.7005538887606739 \n",
      " precision:0.6406035665294925 \n",
      " recall:0.7728835136855506 \n",
      "}\n",
      "=====Epoch 25\n",
      "Training...\n"
     ]
    },
    {
     "name": "stderr",
     "output_type": "stream",
     "text": [
      "Iteration: 100%|██████████| 62/62 [00:02<00:00, 23.24it/s]\n",
      "Iteration: 100%|██████████| 62/62 [00:01<00:00, 35.31it/s]\n",
      "Iteration:  73%|███████▎  | 45/62 [00:01<00:00, 41.88it/s]"
     ]
    },
    {
     "name": "stdout",
     "output_type": "stream",
     "text": [
      "Evaluating...\n"
     ]
    },
    {
     "name": "stderr",
     "output_type": "stream",
     "text": [
      "Iteration: 100%|██████████| 62/62 [00:01<00:00, 42.52it/s]\n",
      "Iteration: 100%|██████████| 62/62 [00:01<00:00, 39.77it/s]\n",
      "Iteration:   0%|          | 0/62 [00:00<?, ?it/s]"
     ]
    },
    {
     "name": "stdout",
     "output_type": "stream",
     "text": [
      "Evaluating...\n"
     ]
    },
    {
     "name": "stderr",
     "output_type": "stream",
     "text": [
      "Iteration: 100%|██████████| 62/62 [00:02<00:00, 23.98it/s]\n",
      "Iteration: 100%|██████████| 62/62 [00:02<00:00, 30.33it/s]\n",
      "Iteration: 100%|██████████| 62/62 [00:01<00:00, 41.11it/s]\n",
      "Iteration: 100%|██████████| 62/62 [00:01<00:00, 52.13it/s]\n",
      "Iteration:  29%|██▉       | 18/62 [00:00<00:01, 32.49it/s]"
     ]
    },
    {
     "name": "stdout",
     "output_type": "stream",
     "text": [
      "{'Train':  best_epoch_indx:23\n",
      " auc:0.8171695231448869 \n",
      " apur:0.7838565750663705 \n",
      " f1:0.6994677705499704 \n",
      " precision:0.6531198233020431 \n",
      " recall:0.7528962444302991 \n",
      ", 'Validation':  best_epoch_indx:23\n",
      " auc:0.8171695350539091 \n",
      " apur:0.7838565834963097 \n",
      " f1:0.6994677705499704 \n",
      " precision:0.6531198233020431 \n",
      " recall:0.7528962444302991 \n",
      ", 'Test':  best_epoch_indx:23\n",
      " auc:0.8171695231448869 \n",
      " apur:0.7838565750663705 \n",
      " f1:0.6994677705499704 \n",
      " precision:0.6531198233020431 \n",
      " recall:0.7528962444302991 \n",
      "}\n",
      "=====Epoch 24\n",
      "Training...\n"
     ]
    },
    {
     "name": "stderr",
     "output_type": "stream",
     "text": [
      "Iteration: 100%|██████████| 62/62 [00:02<00:00, 27.18it/s]\n",
      "Iteration:  19%|█▉        | 12/62 [00:00<00:02, 16.95it/s]"
     ]
    },
    {
     "name": "stdout",
     "output_type": "stream",
     "text": [
      "{'Train':  best_epoch_indx:22\n",
      " auc:0.8237893182631995 \n",
      " apur:0.7924289341462607 \n",
      " f1:0.7026960633789843 \n",
      " precision:0.6788087327954437 \n",
      " recall:0.7283259070655633 \n",
      ", 'Validation':  best_epoch_indx:22\n",
      " auc:0.8237893123081312 \n",
      " apur:0.7924289314704794 \n",
      " f1:0.7026960633789843 \n",
      " precision:0.6788087327954437 \n",
      " recall:0.7283259070655633 \n",
      ", 'Test':  best_epoch_indx:22\n",
      " auc:0.8237893123081312 \n",
      " apur:0.7924289314704794 \n",
      " f1:0.7026960633789843 \n",
      " precision:0.6788087327954437 \n",
      " recall:0.7283259070655633 \n",
      "}\n",
      "=====Epoch 23\n",
      "Training...\n"
     ]
    },
    {
     "name": "stderr",
     "output_type": "stream",
     "text": [
      "Iteration: 100%|██████████| 62/62 [00:01<00:00, 41.06it/s]\n",
      "Iteration: 100%|██████████| 62/62 [00:02<00:00, 29.64it/s]\n",
      "Iteration:  31%|███       | 19/62 [00:00<00:01, 30.21it/s]"
     ]
    },
    {
     "name": "stdout",
     "output_type": "stream",
     "text": [
      "Evaluating...\n"
     ]
    },
    {
     "name": "stderr",
     "output_type": "stream",
     "text": [
      "Iteration: 100%|██████████| 62/62 [00:01<00:00, 33.67it/s]\n",
      "Iteration:   0%|          | 0/62 [00:00<?, ?it/s]5.73it/s]"
     ]
    },
    {
     "name": "stdout",
     "output_type": "stream",
     "text": [
      "{'Train':  best_epoch_indx:22\n",
      " auc:0.8210896278966464 \n",
      " apur:0.7848414481113315 \n",
      " f1:0.6980016186266575 \n",
      " precision:0.6829922027290448 \n",
      " recall:0.7136855506047104 \n",
      ", 'Validation':  best_epoch_indx:22\n",
      " auc:0.8210896278966464 \n",
      " apur:0.7848414481113315 \n",
      " f1:0.6980016186266575 \n",
      " precision:0.6829922027290448 \n",
      " recall:0.7136855506047104 \n",
      ", 'Test':  best_epoch_indx:22\n",
      " auc:0.8210896278966464 \n",
      " apur:0.7848414481113315 \n",
      " f1:0.6980016186266575 \n",
      " precision:0.6829922027290448 \n",
      " recall:0.7136855506047104 \n",
      "}\n",
      "=====Epoch 23\n",
      "Training...\n"
     ]
    },
    {
     "name": "stderr",
     "output_type": "stream",
     "text": [
      "Iteration: 100%|██████████| 62/62 [00:01<00:00, 50.10it/s]\n",
      "Iteration: 100%|██████████| 62/62 [00:01<00:00, 31.48it/s]\n",
      "Iteration:   0%|          | 0/62 [00:00<?, ?it/s]"
     ]
    },
    {
     "name": "stdout",
     "output_type": "stream",
     "text": [
      "Evaluating...\n"
     ]
    },
    {
     "name": "stderr",
     "output_type": "stream",
     "text": [
      "Iteration: 100%|██████████| 62/62 [00:02<00:00, 22.10it/s]\n",
      "Iteration: 100%|██████████| 62/62 [00:01<00:00, 31.29it/s]\n",
      "Iteration:   0%|          | 0/62 [00:00<?, ?it/s]"
     ]
    },
    {
     "name": "stdout",
     "output_type": "stream",
     "text": [
      "Evaluating...\n"
     ]
    },
    {
     "name": "stderr",
     "output_type": "stream",
     "text": [
      "Iteration: 100%|██████████| 62/62 [00:02<00:00, 29.97it/s]\n",
      "Iteration: 100%|██████████| 62/62 [00:01<00:00, 31.04it/s]\n",
      "Iteration: 100%|██████████| 62/62 [00:02<00:00, 29.46it/s]\n",
      "Iteration:  66%|██████▌   | 41/62 [00:01<00:00, 38.32it/s]"
     ]
    },
    {
     "name": "stdout",
     "output_type": "stream",
     "text": [
      "{'Train':  best_epoch_indx:25\n",
      " auc:0.8246124932923602 \n",
      " apur:0.7875723620261649 \n",
      " f1:0.6951939559393054 \n",
      " precision:0.6933890577507599 \n",
      " recall:0.6970082749840866 \n",
      ", 'Validation':  best_epoch_indx:25\n",
      " auc:0.8246124932923602 \n",
      " apur:0.7875723620261649 \n",
      " f1:0.6951939559393054 \n",
      " precision:0.6933890577507599 \n",
      " recall:0.6970082749840866 \n",
      ", 'Test':  best_epoch_indx:25\n",
      " auc:0.8246124932923602 \n",
      " apur:0.7875723620261649 \n",
      " f1:0.6951939559393054 \n",
      " precision:0.6933890577507599 \n",
      " recall:0.6970082749840866 \n",
      "}\n",
      "=====Epoch 26\n",
      "Training...\n"
     ]
    },
    {
     "name": "stderr",
     "output_type": "stream",
     "text": [
      "Iteration: 100%|██████████| 62/62 [00:02<00:00, 28.59it/s]\n",
      "Iteration: 100%|██████████| 62/62 [00:02<00:00, 22.39it/s]\n",
      "Iteration: 100%|██████████| 62/62 [00:02<00:00, 30.49it/s]\n",
      "Iteration: 100%|██████████| 62/62 [00:02<00:00, 29.07it/s]\n",
      "Iteration: 100%|██████████| 62/62 [00:01<00:00, 33.44it/s]\n"
     ]
    },
    {
     "name": "stdout",
     "output_type": "stream",
     "text": [
      "Evaluating...\n"
     ]
    },
    {
     "name": "stderr",
     "output_type": "stream",
     "text": [
      "Iteration:  73%|███████▎  | 45/62 [00:01<00:00, 30.89it/s]"
     ]
    },
    {
     "name": "stdout",
     "output_type": "stream",
     "text": [
      "{'Train':  best_epoch_indx:21\n",
      " auc:0.8263637110656848 \n",
      " apur:0.7924176551135729 \n",
      " f1:0.7033669206193167 \n",
      " precision:0.6797292483078019 \n",
      " recall:0.7287078294080204 \n",
      ", 'Validation':  best_epoch_indx:21\n",
      " auc:0.8263637110656848 \n",
      " apur:0.7924176551135729 \n",
      " f1:0.7033669206193167 \n",
      " precision:0.6797292483078019 \n",
      " recall:0.7287078294080204 \n",
      ", 'Test':  best_epoch_indx:21\n",
      " auc:0.8263637110656848 \n",
      " apur:0.7924176551135729 \n",
      " f1:0.7033669206193167 \n",
      " precision:0.6797292483078019 \n",
      " recall:0.7287078294080204 \n",
      "}\n",
      "=====Epoch 22\n",
      "Training...\n",
      "{'Train':  best_epoch_indx:24\n",
      " auc:0.8190802959868382 \n",
      " apur:0.7839356038123791 \n",
      " f1:0.7058823529411766 \n",
      " precision:0.6606726606726607 \n",
      " recall:0.757733927434755 \n",
      ", 'Validation':  best_epoch_indx:24\n",
      " auc:0.8190802959868383 \n",
      " apur:0.783935603812379 \n",
      " f1:0.7058823529411766 \n",
      " precision:0.6606726606726607 \n",
      " recall:0.757733927434755 \n",
      ", 'Test':  best_epoch_indx:24\n",
      " auc:0.8190802959868383 \n",
      " apur:0.7839356038123791 \n",
      " f1:0.7058823529411766 \n",
      " precision:0.6606726606726607 \n",
      " recall:0.757733927434755 \n",
      "}\n",
      "=====Epoch 25\n",
      "Training...\n"
     ]
    },
    {
     "name": "stderr",
     "output_type": "stream",
     "text": [
      "Iteration: 100%|██████████| 62/62 [00:02<00:00, 30.99it/s]\n",
      "Iteration: 100%|██████████| 62/62 [00:01<00:00, 34.22it/s]\n",
      "Iteration: 100%|██████████| 62/62 [00:01<00:00, 40.34it/s]\n",
      "Iteration:   0%|          | 0/62 [00:00<?, ?it/s]"
     ]
    },
    {
     "name": "stdout",
     "output_type": "stream",
     "text": [
      "Evaluating...\n"
     ]
    },
    {
     "name": "stderr",
     "output_type": "stream",
     "text": [
      "\r",
      "Iteration:  63%|██████▎   | 39/62 [00:01<00:01, 22.99it/s]\r",
      "Iteration:  19%|█▉        | 12/62 [00:00<00:01, 46.74it/s]\r",
      "Iteration:   0%|          | 0/62 [00:00<?, ?it/s]\r",
      "Iteration:  94%|█████████▎| 58/62 [00:01<00:00, 34.83it/s]\r",
      "Iteration:   8%|▊         | 5/62 [00:00<00:01, 39.55it/s]\r",
      "Iteration:  68%|██████▊   | 42/62 [00:01<00:00, 23.10it/s]\r",
      "Iteration:   5%|▍         | 3/62 [00:00<00:02, 24.75it/s]\r",
      "Iteration: 100%|██████████| 62/62 [00:01<00:00, 34.52it/s]\r",
      "Iteration: 100%|██████████| 62/62 [00:01<00:00, 31.53it/s]\n",
      "\r",
      "Iteration:   0%|          | 0/62 [00:00<?, ?it/s]\r",
      "Iteration:  15%|█▍        | 9/62 [00:00<00:01, 32.35it/s]\r",
      "Iteration:  27%|██▋       | 17/62 [00:00<00:01, 36.58it/s]"
     ]
    },
    {
     "name": "stdout",
     "output_type": "stream",
     "text": [
      "Evaluating...\n"
     ]
    },
    {
     "name": "stderr",
     "output_type": "stream",
     "text": [
      "Iteration: 100%|██████████| 62/62 [00:02<00:00, 22.46it/s]\n",
      "Iteration: 100%|██████████| 62/62 [00:01<00:00, 33.46it/s]\n",
      "Iteration: 100%|██████████| 62/62 [00:02<00:00, 30.66it/s]\n",
      "Iteration: 100%|██████████| 62/62 [00:01<00:00, 32.05it/s]\n",
      "Iteration:   5%|▍         | 3/62 [00:00<00:02, 26.89it/s]"
     ]
    },
    {
     "name": "stdout",
     "output_type": "stream",
     "text": [
      "{'Train':  best_epoch_indx:23\n",
      " auc:0.8219457184816553 \n",
      " apur:0.7892946737928954 \n",
      " f1:0.6891474396897391 \n",
      " precision:0.71242185376461 \n",
      " recall:0.6673456397199237 \n",
      ", 'Validation':  best_epoch_indx:23\n",
      " auc:0.8219457184816553 \n",
      " apur:0.7892946737928954 \n",
      " f1:0.6891474396897391 \n",
      " precision:0.71242185376461 \n",
      " recall:0.6673456397199237 \n",
      ", 'Test':  best_epoch_indx:23\n",
      " auc:0.8219457184816553 \n",
      " apur:0.7892946737928954 \n",
      " f1:0.6891474396897391 \n",
      " precision:0.71242185376461 \n",
      " recall:0.6673456397199237 \n",
      "}\n",
      "=====Epoch 24\n",
      "Training...\n"
     ]
    },
    {
     "name": "stderr",
     "output_type": "stream",
     "text": [
      "Iteration: 100%|██████████| 62/62 [00:01<00:00, 31.92it/s]\n",
      "Iteration:   6%|▋         | 4/62 [00:00<00:01, 36.89it/s]]"
     ]
    },
    {
     "name": "stdout",
     "output_type": "stream",
     "text": [
      "{'Train':  best_epoch_indx:23\n",
      " auc:0.8164996882813436 \n",
      " apur:0.7815362161879769 \n",
      " f1:0.6938008006793642 \n",
      " precision:0.6626115166261152 \n",
      " recall:0.728071292170592 \n",
      ", 'Validation':  best_epoch_indx:23\n",
      " auc:0.8164996882813436 \n",
      " apur:0.7815362161879769 \n",
      " f1:0.6938008006793642 \n",
      " precision:0.6626115166261152 \n",
      " recall:0.728071292170592 \n",
      ", 'Test':  best_epoch_indx:23\n",
      " auc:0.8164996882813436 \n",
      " apur:0.7815362161879769 \n",
      " f1:0.6938008006793642 \n",
      " precision:0.6626115166261152 \n",
      " recall:0.728071292170592 \n",
      "}\n",
      "=====Epoch 24\n",
      "Training...\n"
     ]
    },
    {
     "name": "stderr",
     "output_type": "stream",
     "text": [
      "Iteration: 100%|██████████| 62/62 [00:01<00:00, 37.64it/s]\n",
      "Iteration:  29%|██▉       | 18/62 [00:00<00:01, 24.08it/s]"
     ]
    },
    {
     "name": "stdout",
     "output_type": "stream",
     "text": [
      "Evaluating...\n"
     ]
    },
    {
     "name": "stderr",
     "output_type": "stream",
     "text": [
      "Iteration: 100%|██████████| 62/62 [00:01<00:00, 40.66it/s]\n",
      "Iteration: 100%|██████████| 62/62 [00:02<00:00, 30.90it/s]\n",
      "Iteration:  58%|█████▊    | 36/62 [00:01<00:01, 24.77it/s]"
     ]
    },
    {
     "name": "stdout",
     "output_type": "stream",
     "text": [
      "Evaluating...\n"
     ]
    },
    {
     "name": "stderr",
     "output_type": "stream",
     "text": [
      "Iteration: 100%|██████████| 62/62 [00:01<00:00, 31.17it/s]\n",
      "Iteration: 100%|██████████| 62/62 [00:01<00:00, 35.56it/s]\n",
      "Iteration: 100%|██████████| 62/62 [00:02<00:00, 24.55it/s]\n",
      "Iteration:  35%|███▌      | 22/62 [00:00<00:01, 27.98it/s]"
     ]
    },
    {
     "name": "stdout",
     "output_type": "stream",
     "text": [
      "{'Train':  best_epoch_indx:26\n",
      " auc:0.832400215835491 \n",
      " apur:0.7981365586050577 \n",
      " f1:0.7094436939702813 \n",
      " precision:0.6852093464594947 \n",
      " recall:0.7354551241247613 \n",
      ", 'Validation':  best_epoch_indx:26\n",
      " auc:0.832400215835491 \n",
      " apur:0.7981365586050577 \n",
      " f1:0.7094436939702813 \n",
      " precision:0.6852093464594947 \n",
      " recall:0.7354551241247613 \n",
      ", 'Test':  best_epoch_indx:26\n",
      " auc:0.8324002098804227 \n",
      " apur:0.7981365518892355 \n",
      " f1:0.7094436939702813 \n",
      " precision:0.6852093464594947 \n",
      " recall:0.7354551241247613 \n",
      "}\n",
      "=====Epoch 27\n",
      "Training...\n"
     ]
    },
    {
     "name": "stderr",
     "output_type": "stream",
     "text": [
      "Iteration: 100%|██████████| 62/62 [00:01<00:00, 34.48it/s]\n",
      "Iteration: 100%|██████████| 62/62 [00:02<00:00, 27.94it/s]\n",
      "Iteration: 100%|██████████| 62/62 [00:01<00:00, 32.69it/s]\n",
      "Iteration:  94%|█████████▎| 58/62 [00:01<00:00, 37.60it/s]"
     ]
    },
    {
     "name": "stdout",
     "output_type": "stream",
     "text": [
      "Evaluating...\n"
     ]
    },
    {
     "name": "stderr",
     "output_type": "stream",
     "text": [
      "\r",
      "Iteration:  37%|███▋      | 23/62 [00:00<00:01, 31.07it/s]\r",
      "Iteration:  48%|████▊     | 30/62 [00:01<00:01, 25.24it/s]\r",
      "Iteration:  13%|█▎        | 8/62 [00:00<00:01, 31.89it/s]\r",
      "Iteration:  44%|████▎     | 27/62 [00:00<00:01, 31.40it/s]\r",
      "Iteration:  53%|█████▎    | 33/62 [00:01<00:01, 24.61it/s]\r",
      "Iteration:  19%|█▉        | 12/62 [00:00<00:01, 31.96it/s]\r",
      "Iteration:   0%|          | 0/62 [00:00<?, ?it/s]"
     ]
    },
    {
     "name": "stdout",
     "output_type": "stream",
     "text": [
      "{'Train':  best_epoch_indx:25\n",
      " auc:0.8254581906979819 \n",
      " apur:0.7890845287570271 \n",
      " f1:0.7029678685307825 \n",
      " precision:0.6781024488347333 \n",
      " recall:0.7297262889879058 \n",
      ", 'Validation':  best_epoch_indx:25\n",
      " auc:0.8254581906979818 \n",
      " apur:0.7890845287576916 \n",
      " f1:0.7029678685307825 \n",
      " precision:0.6781024488347333 \n",
      " recall:0.7297262889879058 \n",
      ", 'Test':  best_epoch_indx:25\n",
      " auc:0.8254581906979819 \n",
      " apur:0.7890845287576916 \n",
      " f1:0.7029678685307825 \n",
      " precision:0.6781024488347333 \n",
      " recall:0.7297262889879058 \n",
      "}\n",
      "=====Epoch 26\n",
      "Training...\n"
     ]
    },
    {
     "name": "stderr",
     "output_type": "stream",
     "text": [
      "Iteration: 100%|██████████| 62/62 [00:02<00:00, 28.21it/s]\n",
      "Iteration: 100%|██████████| 62/62 [00:02<00:00, 29.47it/s]\n",
      "Iteration: 100%|██████████| 62/62 [00:01<00:00, 35.62it/s]\n",
      "Iteration: 100%|██████████| 62/62 [00:02<00:00, 26.61it/s]\n",
      "Iteration:  40%|████      | 25/62 [00:00<00:01, 35.42it/s]"
     ]
    },
    {
     "name": "stdout",
     "output_type": "stream",
     "text": [
      "{'Train':  best_epoch_indx:22\n",
      " auc:0.8257493722456664 \n",
      " apur:0.7917016027291003 \n",
      " f1:0.6987329004601903 \n",
      " precision:0.692057942057942 \n",
      " recall:0.705537873965627 \n",
      ", 'Validation':  best_epoch_indx:22\n",
      " auc:0.8257493782001775 \n",
      " apur:0.7917016061841221 \n",
      " f1:0.6987329004601903 \n",
      " precision:0.692057942057942 \n",
      " recall:0.705537873965627 \n",
      ", 'Test':  best_epoch_indx:22\n",
      " auc:0.8257493722456664 \n",
      " apur:0.7917016027291003 \n",
      " f1:0.6987329004601903 \n",
      " precision:0.692057942057942 \n",
      " recall:0.705537873965627 \n",
      "}\n",
      "=====Epoch 23\n",
      "Training...\n"
     ]
    },
    {
     "name": "stderr",
     "output_type": "stream",
     "text": [
      "Iteration: 100%|██████████| 62/62 [00:02<00:00, 27.42it/s]\n",
      "Iteration:   5%|▍         | 3/62 [00:00<00:02, 24.69it/s]]"
     ]
    },
    {
     "name": "stdout",
     "output_type": "stream",
     "text": [
      "Evaluating...\n"
     ]
    },
    {
     "name": "stderr",
     "output_type": "stream",
     "text": [
      "Iteration: 100%|██████████| 62/62 [00:01<00:00, 33.07it/s]\n",
      "Iteration: 100%|██████████| 62/62 [00:01<00:00, 48.22it/s]\n",
      "Iteration: 100%|██████████| 62/62 [00:01<00:00, 38.74it/s]\n",
      "Iteration:   8%|▊         | 5/62 [00:00<00:01, 44.98it/s]]"
     ]
    },
    {
     "name": "stdout",
     "output_type": "stream",
     "text": [
      "Evaluating...\n"
     ]
    },
    {
     "name": "stderr",
     "output_type": "stream",
     "text": [
      "\r",
      "Iteration:  45%|████▌     | 28/62 [00:01<00:01, 27.57it/s]\r",
      "Iteration:  32%|███▏      | 20/62 [00:00<00:01, 28.80it/s]\r",
      "Iteration:  16%|█▌        | 10/62 [00:00<00:01, 43.16it/s]\r",
      "Iteration:  52%|█████▏    | 32/62 [00:01<00:01, 28.83it/s]\r",
      "Iteration:  39%|███▊      | 24/62 [00:00<00:01, 29.80it/s]\r",
      "Iteration:  24%|██▍       | 15/62 [00:00<00:01, 41.86it/s]"
     ]
    },
    {
     "name": "stdout",
     "output_type": "stream",
     "text": [
      "{'Train':  best_epoch_indx:24\n",
      " auc:0.819058725249769 \n",
      " apur:0.7893069393800752 \n",
      " f1:0.6960545543107647 \n",
      " precision:0.6670556657719687 \n",
      " recall:0.7276893698281349 \n",
      ", 'Validation':  best_epoch_indx:24\n",
      " auc:0.819058725249769 \n",
      " apur:0.7893069393800752 \n",
      " f1:0.6960545543107647 \n",
      " precision:0.6670556657719687 \n",
      " recall:0.7276893698281349 \n",
      ", 'Test':  best_epoch_indx:24\n",
      " auc:0.8190587252497689 \n",
      " apur:0.7893069393800751 \n",
      " f1:0.6960545543107647 \n",
      " precision:0.6670556657719687 \n",
      " recall:0.7276893698281349 \n",
      "}\n",
      "=====Epoch 25\n",
      "Training...\n"
     ]
    },
    {
     "name": "stderr",
     "output_type": "stream",
     "text": [
      "Iteration: 100%|██████████| 62/62 [00:02<00:00, 26.53it/s]\n",
      "Iteration: 100%|██████████| 62/62 [00:02<00:00, 27.56it/s]\n",
      "Iteration: 100%|██████████| 62/62 [00:01<00:00, 42.93it/s]\n",
      "Iteration: 100%|██████████| 62/62 [00:01<00:00, 40.25it/s]\n",
      "Iteration:   0%|          | 0/62 [00:00<?, ?it/s]"
     ]
    },
    {
     "name": "stdout",
     "output_type": "stream",
     "text": [
      "Evaluating...\n"
     ]
    },
    {
     "name": "stderr",
     "output_type": "stream",
     "text": [
      "\r",
      "Iteration:  71%|███████   | 44/62 [00:02<00:00, 19.79it/s]\r",
      "Iteration:   6%|▋         | 4/62 [00:00<00:01, 37.34it/s]\r",
      "Iteration:   0%|          | 0/62 [00:00<?, ?it/s]\r",
      "Iteration:  77%|███████▋  | 48/62 [00:02<00:00, 22.64it/s]\r",
      "Iteration:  13%|█▎        | 8/62 [00:00<00:01, 36.30it/s]\r",
      "Iteration:   0%|          | 0/62 [00:00<?, ?it/s]\r",
      "Iteration:   3%|▎         | 2/62 [00:00<00:03, 18.62it/s]"
     ]
    },
    {
     "name": "stdout",
     "output_type": "stream",
     "text": [
      "{'Train':  best_epoch_indx:27\n",
      " auc:0.8416754786788013 \n",
      " apur:0.8082338060624876 \n",
      " f1:0.7215409463420471 \n",
      " precision:0.6805461521101331 \n",
      " recall:0.7677912157861235 \n",
      ", 'Validation':  best_epoch_indx:27\n",
      " auc:0.8416754786788013 \n",
      " apur:0.8082338060624876 \n",
      " f1:0.7215409463420471 \n",
      " precision:0.6805461521101331 \n",
      " recall:0.7677912157861235 \n",
      ", 'Test':  best_epoch_indx:27\n",
      " auc:0.8416754786788013 \n",
      " apur:0.8082338060624876 \n",
      " f1:0.7215409463420471 \n",
      " precision:0.6805461521101331 \n",
      " recall:0.7677912157861235 \n",
      "}\n",
      "=====Epoch 28\n",
      "Training...\n"
     ]
    },
    {
     "name": "stderr",
     "output_type": "stream",
     "text": [
      "\r",
      "Iteration:  84%|████████▍ | 52/62 [00:02<00:00, 24.75it/s]\r",
      "Iteration:  19%|█▉        | 12/62 [00:00<00:01, 32.14it/s]\r",
      "Iteration:   8%|▊         | 5/62 [00:00<00:01, 42.65it/s]\r",
      "Iteration:   8%|▊         | 5/62 [00:00<00:02, 20.85it/s]\r",
      "Iteration:  90%|█████████ | 56/62 [00:02<00:00, 26.57it/s]\r",
      "Iteration:  26%|██▌       | 16/62 [00:00<00:01, 31.66it/s]\r",
      "Iteration:  16%|█▌        | 10/62 [00:00<00:01, 37.73it/s]\r",
      "Iteration:  13%|█▎        | 8/62 [00:00<00:02, 22.45it/s]\r",
      "Iteration:   0%|          | 0/62 [00:00<?, ?it/s]"
     ]
    },
    {
     "name": "stdout",
     "output_type": "stream",
     "text": [
      "{'Train':  best_epoch_indx:24\n",
      " auc:0.8152799721805241 \n",
      " apur:0.7772221374236369 \n",
      " f1:0.6944164989939638 \n",
      " precision:0.6860479562678594 \n",
      " recall:0.7029917250159134 \n",
      ", 'Validation':  best_epoch_indx:24\n",
      " auc:0.8152799721805241 \n",
      " apur:0.7772221374236369 \n",
      " f1:0.6944164989939638 \n",
      " precision:0.6860479562678594 \n",
      " recall:0.7029917250159134 \n",
      ", 'Test':  best_epoch_indx:24\n",
      " auc:0.8152799721805241 \n",
      " apur:0.7772221374236369 \n",
      " f1:0.6944164989939638 \n",
      " precision:0.6860479562678594 \n",
      " recall:0.7029917250159134 \n",
      "}\n",
      "=====Epoch 25\n",
      "Training...\n"
     ]
    },
    {
     "name": "stderr",
     "output_type": "stream",
     "text": [
      "Iteration: 100%|██████████| 62/62 [00:02<00:00, 23.11it/s]\n",
      "Iteration: 100%|██████████| 62/62 [00:01<00:00, 35.42it/s]\n",
      "Iteration: 100%|██████████| 62/62 [00:01<00:00, 39.89it/s]\n",
      "Iteration:  89%|████████▊ | 55/62 [00:01<00:00, 37.97it/s]"
     ]
    },
    {
     "name": "stdout",
     "output_type": "stream",
     "text": [
      "Evaluating...\n"
     ]
    },
    {
     "name": "stderr",
     "output_type": "stream",
     "text": [
      "\r",
      "Iteration:  16%|█▌        | 10/62 [00:00<00:01, 28.28it/s]\r",
      "Iteration:  79%|███████▉  | 49/62 [00:01<00:00, 26.71it/s]\r",
      "Iteration:  11%|█▏        | 7/62 [00:00<00:01, 31.04it/s]\r",
      "Iteration:  95%|█████████▌| 59/62 [00:01<00:00, 37.42it/s]\r",
      "Iteration:  24%|██▍       | 15/62 [00:00<00:01, 33.45it/s]\r",
      "Iteration:  84%|████████▍ | 52/62 [00:01<00:00, 26.04it/s]\r",
      "Iteration: 100%|██████████| 62/62 [00:01<00:00, 38.63it/s]\n",
      "\r",
      "Iteration:   0%|          | 0/62 [00:00<?, ?it/s]\r",
      "Iteration:  18%|█▊        | 11/62 [00:00<00:01, 30.95it/s]"
     ]
    },
    {
     "name": "stdout",
     "output_type": "stream",
     "text": [
      "Evaluating...\n"
     ]
    },
    {
     "name": "stderr",
     "output_type": "stream",
     "text": [
      "Iteration: 100%|██████████| 62/62 [00:02<00:00, 25.98it/s]\n",
      "Iteration:  84%|████████▍ | 52/62 [00:01<00:00, 31.98it/s]\n",
      "Iteration: 100%|██████████| 62/62 [00:02<00:00, 28.18it/s]\n",
      "Iteration: 100%|██████████| 62/62 [00:01<00:00, 32.67it/s]\n",
      "Iteration: 100%|██████████| 62/62 [00:02<00:00, 28.39it/s]\n",
      "Iteration: 100%|██████████| 62/62 [00:02<00:00, 29.01it/s]\n",
      "Iteration: 100%|██████████| 62/62 [00:01<00:00, 33.47it/s]\n",
      "Iteration:  39%|███▊      | 24/62 [00:00<00:01, 28.79it/s]"
     ]
    },
    {
     "name": "stdout",
     "output_type": "stream",
     "text": [
      "{'Train':  best_epoch_indx:26\n",
      " auc:0.8366352546357358 \n",
      " apur:0.8020408667827275 \n",
      " f1:0.7063807934266273 \n",
      " precision:0.7124174543571151 \n",
      " recall:0.7004455760661998 \n",
      ", 'Validation':  best_epoch_indx:26\n",
      " auc:0.8366352486812247 \n",
      " apur:0.8020408637829596 \n",
      " f1:0.7063807934266273 \n",
      " precision:0.7124174543571151 \n",
      " recall:0.7004455760661998 \n",
      ", 'Test':  best_epoch_indx:26\n",
      " auc:0.8366352546357356 \n",
      " apur:0.8020408667827275 \n",
      " f1:0.7063807934266273 \n",
      " precision:0.7124174543571151 \n",
      " recall:0.7004455760661998 \n",
      "}\n",
      "=====Epoch 27\n",
      "Training...\n"
     ]
    },
    {
     "name": "stderr",
     "output_type": "stream",
     "text": [
      "Iteration: 100%|██████████| 62/62 [00:01<00:00, 31.96it/s]\n",
      "Iteration: 100%|██████████| 62/62 [00:02<00:00, 30.38it/s]\n",
      "Iteration: 100%|██████████| 62/62 [00:02<00:00, 26.95it/s]\n",
      "Iteration:  97%|█████████▋| 60/62 [00:01<00:00, 37.50it/s]"
     ]
    },
    {
     "name": "stdout",
     "output_type": "stream",
     "text": [
      "{'Train':  best_epoch_indx:23\n",
      " auc:0.8280777587696551 \n",
      " apur:0.7932237628791238 \n",
      " f1:0.7095928053959532 \n",
      " precision:0.6964570307711169 \n",
      " recall:0.7232336091661362 \n",
      ", 'Validation':  best_epoch_indx:23\n",
      " auc:0.828077752815144 \n",
      " apur:0.7932237603285643 \n",
      " f1:0.7095928053959532 \n",
      " precision:0.6964570307711169 \n",
      " recall:0.7232336091661362 \n",
      ", 'Test':  best_epoch_indx:23\n",
      " auc:0.828077752815144 \n",
      " apur:0.7932237603285643 \n",
      " f1:0.7095928053959532 \n",
      " precision:0.6964570307711169 \n",
      " recall:0.7232336091661362 \n",
      "}\n",
      "=====Epoch 24\n",
      "Training...\n"
     ]
    },
    {
     "name": "stderr",
     "output_type": "stream",
     "text": [
      "\r",
      "Iteration:  35%|███▌      | 22/62 [00:00<00:01, 31.26it/s]\r",
      "Iteration:  48%|████▊     | 30/62 [00:00<00:00, 32.50it/s]\r",
      "Iteration: 100%|██████████| 62/62 [00:01<00:00, 38.21it/s]\n",
      "\r",
      "Iteration:  11%|█▏        | 7/62 [00:00<00:01, 30.64it/s]\r",
      "Iteration:   0%|          | 0/62 [00:00<?, ?it/s]\r",
      "Iteration:  42%|████▏     | 26/62 [00:00<00:01, 32.14it/s]\r",
      "Iteration:  18%|█▊        | 11/62 [00:00<00:01, 34.30it/s]\r",
      "Iteration:  55%|█████▍    | 34/62 [00:01<00:00, 32.27it/s]\r",
      "Iteration:   5%|▍         | 3/62 [00:00<00:02, 24.37it/s]"
     ]
    },
    {
     "name": "stdout",
     "output_type": "stream",
     "text": [
      "Evaluating...\n"
     ]
    },
    {
     "name": "stderr",
     "output_type": "stream",
     "text": [
      "Iteration:   0%|          | 0/62 [00:00<?, ?it/s]3.21it/s]"
     ]
    },
    {
     "name": "stdout",
     "output_type": "stream",
     "text": [
      "{'Train':  best_epoch_indx:25\n",
      " auc:0.8215286255065455 \n",
      " apur:0.7883306272613138 \n",
      " f1:0.6993296770262035 \n",
      " precision:0.670718877849211 \n",
      " recall:0.7304901336728199 \n",
      ", 'Validation':  best_epoch_indx:25\n",
      " auc:0.8215286255065455 \n",
      " apur:0.7883306272613138 \n",
      " f1:0.6993296770262035 \n",
      " precision:0.670718877849211 \n",
      " recall:0.7304901336728199 \n",
      ", 'Test':  best_epoch_indx:25\n",
      " auc:0.8215286255065455 \n",
      " apur:0.7883306272613138 \n",
      " f1:0.6993296770262035 \n",
      " precision:0.670718877849211 \n",
      " recall:0.7304901336728199 \n",
      "}\n",
      "=====Epoch 26\n",
      "Training...\n"
     ]
    },
    {
     "name": "stderr",
     "output_type": "stream",
     "text": [
      "Iteration: 100%|██████████| 62/62 [00:01<00:00, 32.06it/s]\n",
      "Iteration: 100%|██████████| 62/62 [00:02<00:00, 27.47it/s]\n",
      "Iteration: 100%|██████████| 62/62 [00:01<00:00, 35.31it/s]\n",
      "Iteration:  60%|█████▉    | 37/62 [00:01<00:01, 23.86it/s]"
     ]
    },
    {
     "name": "stdout",
     "output_type": "stream",
     "text": [
      "Evaluating...\n"
     ]
    },
    {
     "name": "stderr",
     "output_type": "stream",
     "text": [
      "\r",
      "Iteration:  10%|▉         | 6/62 [00:00<00:00, 56.12it/s]\r",
      "Iteration:  65%|██████▍   | 40/62 [00:01<00:00, 25.18it/s]\r",
      "Iteration:  21%|██        | 13/62 [00:00<00:00, 60.70it/s]\r",
      "Iteration:  71%|███████   | 44/62 [00:01<00:00, 26.76it/s]\r",
      "Iteration:   0%|          | 0/62 [00:00<?, ?it/s]"
     ]
    },
    {
     "name": "stdout",
     "output_type": "stream",
     "text": [
      "{'Train':  best_epoch_indx:25\n",
      " auc:0.8300098606703946 \n",
      " apur:0.7941060978967952 \n",
      " f1:0.7084783689706614 \n",
      " precision:0.692214259686627 \n",
      " recall:0.7255251432208785 \n",
      ", 'Validation':  best_epoch_indx:25\n",
      " auc:0.8300098606703945 \n",
      " apur:0.7941060978955241 \n",
      " f1:0.7084783689706614 \n",
      " precision:0.692214259686627 \n",
      " recall:0.7255251432208785 \n",
      ", 'Test':  best_epoch_indx:25\n",
      " auc:0.8300098606703946 \n",
      " apur:0.7941060978967952 \n",
      " f1:0.7084783689706614 \n",
      " precision:0.692214259686627 \n",
      " recall:0.7255251432208785 \n",
      "}\n",
      "=====Epoch 26\n",
      "Training...\n",
      "{'Train':  best_epoch_indx:28\n",
      " auc:0.8417347673375706 \n",
      " apur:0.8105001340395532 \n",
      " f1:0.7201840567093644 \n",
      " precision:0.7039017867995624 \n",
      " recall:0.7372374283895607 \n",
      ", 'Validation':  best_epoch_indx:28\n",
      " auc:0.8417347673375706 \n",
      " apur:0.8105001340395532 \n",
      " f1:0.7201840567093644 \n",
      " precision:0.7039017867995624 \n",
      " recall:0.7372374283895607 \n",
      ", 'Test':  best_epoch_indx:28\n",
      " auc:0.8417347673375706 \n",
      " apur:0.8105001340395532 \n",
      " f1:0.7201840567093644 \n",
      " precision:0.7039017867995624 \n",
      " recall:0.7372374283895607 \n",
      "}\n",
      "=====Epoch 29\n",
      "Training...\n"
     ]
    },
    {
     "name": "stderr",
     "output_type": "stream",
     "text": [
      "Iteration: 100%|██████████| 62/62 [00:02<00:00, 24.80it/s]\n",
      "Iteration: 100%|██████████| 62/62 [00:02<00:00, 26.41it/s]\n",
      "Iteration:   6%|▋         | 4/62 [00:00<00:01, 31.53it/s]]"
     ]
    },
    {
     "name": "stdout",
     "output_type": "stream",
     "text": [
      "Evaluating...\n"
     ]
    },
    {
     "name": "stderr",
     "output_type": "stream",
     "text": [
      "Iteration: 100%|██████████| 62/62 [00:01<00:00, 38.65it/s]\n",
      "Iteration:   6%|▋         | 4/62 [00:00<00:01, 32.32it/s]]"
     ]
    },
    {
     "name": "stdout",
     "output_type": "stream",
     "text": [
      "Evaluating...\n"
     ]
    },
    {
     "name": "stderr",
     "output_type": "stream",
     "text": [
      "\r",
      "Iteration:  27%|██▋       | 17/62 [00:00<00:01, 25.19it/s]\r",
      "Iteration: 100%|██████████| 62/62 [00:01<00:00, 37.94it/s]\r",
      "Iteration: 100%|██████████| 62/62 [00:01<00:00, 32.68it/s]\n",
      "\r",
      "Iteration:   0%|          | 0/62 [00:00<?, ?it/s]\r",
      "Iteration:  98%|█████████▊| 61/62 [00:02<00:00, 24.39it/s]\r",
      "Iteration:  13%|█▎        | 8/62 [00:00<00:01, 32.46it/s]\r",
      "Iteration: 100%|██████████| 62/62 [00:02<00:00, 28.08it/s]\n",
      "\r",
      "Iteration:  32%|███▏      | 20/62 [00:00<00:01, 26.44it/s]\r",
      "Iteration:   6%|▋         | 4/62 [00:00<00:01, 31.42it/s]"
     ]
    },
    {
     "name": "stdout",
     "output_type": "stream",
     "text": [
      "Evaluating...\n"
     ]
    },
    {
     "name": "stderr",
     "output_type": "stream",
     "text": [
      "Iteration: 100%|██████████| 62/62 [00:02<00:00, 27.80it/s]\n",
      "Iteration:  90%|█████████ | 56/62 [00:01<00:00, 31.87it/s]\n",
      "Iteration: 100%|██████████| 62/62 [00:01<00:00, 31.91it/s]\n",
      "Iteration: 100%|██████████| 62/62 [00:02<00:00, 22.53it/s]\n",
      "Iteration: 100%|██████████| 62/62 [00:02<00:00, 23.50it/s]\n",
      "Iteration: 100%|██████████| 62/62 [00:02<00:00, 30.96it/s]\n",
      "Iteration: 100%|██████████| 62/62 [00:01<00:00, 32.72it/s]\n",
      "Iteration: 100%|██████████| 62/62 [00:01<00:00, 31.56it/s]\n",
      "Iteration: 100%|██████████| 62/62 [00:02<00:00, 28.64it/s]\n",
      "Iteration: 100%|██████████| 62/62 [00:01<00:00, 33.84it/s]\n",
      "Iteration:  63%|██████▎   | 39/62 [00:01<00:00, 25.17it/s]"
     ]
    },
    {
     "name": "stdout",
     "output_type": "stream",
     "text": [
      "{'Train':  best_epoch_indx:27\n",
      " auc:0.8397773429661444 \n",
      " apur:0.80581770576312 \n",
      " f1:0.7091963545981773 \n",
      " precision:0.7100561510974988 \n",
      " recall:0.7083386378103119 \n",
      ", 'Validation':  best_epoch_indx:27\n",
      " auc:0.8397773429661444 \n",
      " apur:0.80581770576312 \n",
      " f1:0.7091963545981773 \n",
      " precision:0.7100561510974988 \n",
      " recall:0.7083386378103119 \n",
      ", 'Test':  best_epoch_indx:27\n",
      " auc:0.8397773429661444 \n",
      " apur:0.8058177057640878 \n",
      " f1:0.7091963545981773 \n",
      " precision:0.7100561510974988 \n",
      " recall:0.7083386378103119 \n",
      "}\n",
      "=====Epoch 28\n",
      "Training...\n"
     ]
    },
    {
     "name": "stderr",
     "output_type": "stream",
     "text": [
      "Iteration:   5%|▍         | 3/62 [00:00<00:02, 28.05it/s]]"
     ]
    },
    {
     "name": "stdout",
     "output_type": "stream",
     "text": [
      "{'Train':  best_epoch_indx:24\n",
      " auc:0.8156375524815723 \n",
      " apur:0.7820224113168096 \n",
      " f1:0.6970815961882073 \n",
      " precision:0.654952434247342 \n",
      " recall:0.7450031826861871 \n",
      ", 'Validation':  best_epoch_indx:24\n",
      " auc:0.8156375524815723 \n",
      " apur:0.7820224113168096 \n",
      " f1:0.6970815961882073 \n",
      " precision:0.654952434247342 \n",
      " recall:0.7450031826861871 \n",
      ", 'Test':  best_epoch_indx:24\n",
      " auc:0.8156375524815723 \n",
      " apur:0.7820224113168096 \n",
      " f1:0.6970815961882073 \n",
      " precision:0.654952434247342 \n",
      " recall:0.7450031826861871 \n",
      "}\n",
      "=====Epoch 25\n",
      "Training...\n"
     ]
    },
    {
     "name": "stderr",
     "output_type": "stream",
     "text": [
      "Iteration: 100%|██████████| 62/62 [00:02<00:00, 26.14it/s]\n",
      "Iteration: 100%|██████████| 62/62 [00:02<00:00, 24.59it/s]\n",
      "Iteration: 100%|██████████| 62/62 [00:02<00:00, 22.31it/s]\n",
      "Iteration:  44%|████▎     | 27/62 [00:00<00:00, 35.87it/s]"
     ]
    },
    {
     "name": "stdout",
     "output_type": "stream",
     "text": [
      "{'Train':  best_epoch_indx:26\n",
      " auc:0.8330059832356493 \n",
      " apur:0.8007863287776661 \n",
      " f1:0.7126313276026743 \n",
      " precision:0.6709003034730808 \n",
      " recall:0.7598981540420114 \n",
      ", 'Validation':  best_epoch_indx:26\n",
      " auc:0.8330059832356493 \n",
      " apur:0.8007863287776661 \n",
      " f1:0.7126313276026743 \n",
      " precision:0.6709003034730808 \n",
      " recall:0.7598981540420114 \n",
      ", 'Test':  best_epoch_indx:26\n",
      " auc:0.8330059832356493 \n",
      " apur:0.8007863287776661 \n",
      " f1:0.7126313276026743 \n",
      " precision:0.6709003034730808 \n",
      " recall:0.7598981540420114 \n",
      "}\n",
      "=====Epoch 27\n",
      "Training...\n"
     ]
    },
    {
     "name": "stderr",
     "output_type": "stream",
     "text": [
      "Iteration:   0%|          | 0/62 [00:00<?, ?it/s]4.48it/s]"
     ]
    },
    {
     "name": "stdout",
     "output_type": "stream",
     "text": [
      "{'Train':  best_epoch_indx:26\n",
      " auc:0.8323477446396002 \n",
      " apur:0.7976421993037265 \n",
      " f1:0.7107186358099878 \n",
      " precision:0.681260945709282 \n",
      " recall:0.7428389560789306 \n",
      ", 'Validation':  best_epoch_indx:26\n",
      " auc:0.8323477446396002 \n",
      " apur:0.7976421993037265 \n",
      " f1:0.7107186358099878 \n",
      " precision:0.681260945709282 \n",
      " recall:0.7428389560789306 \n",
      ", 'Test':  best_epoch_indx:26\n",
      " auc:0.832347738685089 \n",
      " apur:0.7976421972195997 \n",
      " f1:0.7107186358099878 \n",
      " precision:0.681260945709282 \n",
      " recall:0.7428389560789306 \n",
      "}\n",
      "=====Epoch 27\n",
      "Training...\n",
      "{'Train':  best_epoch_indx:29\n",
      " auc:0.8521311074955907 \n",
      " apur:0.820435109742039 \n",
      " f1:0.7306132481258449 \n",
      " precision:0.7061408718375104 \n",
      " recall:0.7568427753023552 \n",
      ", 'Validation':  best_epoch_indx:29\n",
      " auc:0.8521311074955907 \n",
      " apur:0.820435109742039 \n",
      " f1:0.7306132481258449 \n",
      " precision:0.7061408718375104 \n",
      " recall:0.7568427753023552 \n",
      ", 'Test':  best_epoch_indx:29\n",
      " auc:0.8521311074955908 \n",
      " apur:0.820435109742039 \n",
      " f1:0.7306132481258449 \n",
      " precision:0.7061408718375104 \n",
      " recall:0.7568427753023552 \n",
      "}\n",
      "=====Epoch 30\n",
      "Training...\n"
     ]
    },
    {
     "name": "stderr",
     "output_type": "stream",
     "text": [
      "\r",
      "Iteration:  24%|██▍       | 15/62 [00:00<00:01, 32.28it/s]\r",
      "Iteration: 100%|██████████| 62/62 [00:02<00:00, 31.71it/s]\r",
      "Iteration: 100%|██████████| 62/62 [00:02<00:00, 30.39it/s]\n",
      "\r",
      "Iteration:   0%|          | 0/62 [00:00<?, ?it/s]\r",
      "Iteration:  10%|▉         | 6/62 [00:00<00:02, 25.45it/s]\r",
      "Iteration:  77%|███████▋  | 48/62 [00:01<00:00, 31.94it/s]\r",
      "Iteration:   5%|▍         | 3/62 [00:00<00:02, 23.67it/s]\r",
      "Iteration:  31%|███       | 19/62 [00:00<00:01, 33.04it/s]\r",
      "Iteration:   5%|▍         | 3/62 [00:00<00:02, 23.63it/s]\r",
      "Iteration:  16%|█▌        | 10/62 [00:00<00:01, 29.21it/s]\r",
      "Iteration:  84%|████████▍ | 52/62 [00:01<00:00, 32.69it/s]"
     ]
    },
    {
     "name": "stdout",
     "output_type": "stream",
     "text": [
      "Evaluating...\n"
     ]
    },
    {
     "name": "stderr",
     "output_type": "stream",
     "text": [
      "Iteration: 100%|██████████| 62/62 [00:01<00:00, 33.29it/s]\n",
      "Iteration:  56%|█████▋    | 35/62 [00:01<00:00, 34.04it/s]"
     ]
    },
    {
     "name": "stdout",
     "output_type": "stream",
     "text": [
      "Evaluating...\n"
     ]
    },
    {
     "name": "stderr",
     "output_type": "stream",
     "text": [
      "Iteration: 100%|██████████| 62/62 [00:01<00:00, 33.59it/s]\n",
      "Iteration:  58%|█████▊    | 36/62 [00:01<00:01, 23.58it/s]"
     ]
    },
    {
     "name": "stdout",
     "output_type": "stream",
     "text": [
      "Evaluating...\n"
     ]
    },
    {
     "name": "stderr",
     "output_type": "stream",
     "text": [
      "\r",
      "Iteration:  10%|▉         | 6/62 [00:00<00:02, 25.26it/s]\r",
      "Iteration:  45%|████▌     | 28/62 [00:01<00:01, 25.47it/s]\r",
      "Iteration:  94%|█████████▎| 58/62 [00:01<00:00, 33.26it/s]\r",
      "Iteration:  89%|████████▊ | 55/62 [00:01<00:00, 33.28it/s]\r",
      "Iteration:  63%|██████▎   | 39/62 [00:01<00:00, 23.74it/s]\r",
      "Iteration:  15%|█▍        | 9/62 [00:00<00:02, 25.23it/s]\r",
      "Iteration:  50%|█████     | 31/62 [00:01<00:01, 26.01it/s]\r",
      "Iteration: 100%|██████████| 62/62 [00:01<00:00, 34.13it/s]\r",
      "Iteration: 100%|██████████| 62/62 [00:01<00:00, 32.07it/s]\n",
      "\r",
      "Iteration:   0%|          | 0/62 [00:00<?, ?it/s]\r",
      "Iteration:  95%|█████████▌| 59/62 [00:01<00:00, 33.00it/s]\r",
      "Iteration:  68%|██████▊   | 42/62 [00:01<00:00, 23.63it/s]"
     ]
    },
    {
     "name": "stdout",
     "output_type": "stream",
     "text": [
      "Evaluating...\n",
      "Evaluating...\n"
     ]
    },
    {
     "name": "stderr",
     "output_type": "stream",
     "text": [
      "Iteration: 100%|██████████| 62/62 [00:01<00:00, 32.72it/s]\n",
      "Iteration: 100%|██████████| 62/62 [00:02<00:00, 24.50it/s]\n",
      "Iteration: 100%|██████████| 62/62 [00:02<00:00, 25.39it/s]\n",
      "Iteration: 100%|██████████| 62/62 [00:02<00:00, 29.06it/s]\n",
      "Iteration: 100%|██████████| 62/62 [00:02<00:00, 26.43it/s]\n",
      "Iteration: 100%|██████████| 62/62 [00:02<00:00, 24.17it/s]\n",
      "Iteration: 100%|██████████| 62/62 [00:01<00:00, 37.20it/s]\n",
      "Iteration: 100%|██████████| 62/62 [00:02<00:00, 29.40it/s]\n",
      "Iteration: 100%|██████████| 62/62 [00:02<00:00, 24.31it/s]\n",
      "Iteration: 100%|██████████| 62/62 [00:01<00:00, 32.15it/s]\n",
      "Iteration: 100%|██████████| 62/62 [00:02<00:00, 26.07it/s]\n",
      "Iteration: 100%|██████████| 62/62 [00:01<00:00, 31.93it/s]\n",
      "Iteration: 100%|██████████| 62/62 [00:02<00:00, 30.08it/s]\n",
      "Iteration:   5%|▍         | 3/62 [00:00<00:01, 29.63it/s]]"
     ]
    },
    {
     "name": "stdout",
     "output_type": "stream",
     "text": [
      "{'Train':  best_epoch_indx:28\n",
      " auc:0.8484428655727436 \n",
      " apur:0.8158455569988473 \n",
      " f1:0.7295504789977894 \n",
      " precision:0.7047099300035592 \n",
      " recall:0.7562062380649268 \n",
      ", 'Validation':  best_epoch_indx:28\n",
      " auc:0.8484428655727436 \n",
      " apur:0.8158455569988473 \n",
      " f1:0.7295504789977894 \n",
      " precision:0.7047099300035592 \n",
      " recall:0.7562062380649268 \n",
      ", 'Test':  best_epoch_indx:28\n",
      " auc:0.8484428655727436 \n",
      " apur:0.8158455569988473 \n",
      " f1:0.7295504789977894 \n",
      " precision:0.7047099300035592 \n",
      " recall:0.7562062380649268 \n",
      "}\n",
      "=====Epoch 29\n",
      "Training...\n"
     ]
    },
    {
     "name": "stderr",
     "output_type": "stream",
     "text": [
      "Iteration: 100%|██████████| 62/62 [00:01<00:00, 33.76it/s]\n",
      "Iteration: 100%|██████████| 62/62 [00:02<00:00, 28.24it/s]\n",
      "Iteration: 100%|██████████| 62/62 [00:01<00:00, 32.89it/s]\n",
      "Iteration:  37%|███▋      | 23/62 [00:00<00:01, 31.70it/s]"
     ]
    },
    {
     "name": "stdout",
     "output_type": "stream",
     "text": [
      "{'Train':  best_epoch_indx:25\n",
      " auc:0.8218913492267175 \n",
      " apur:0.7880891675966917 \n",
      " f1:0.7046106067845198 \n",
      " precision:0.663629204634942 \n",
      " recall:0.750986632718014 \n",
      ", 'Validation':  best_epoch_indx:25\n",
      " auc:0.8218913492267175 \n",
      " apur:0.7880891675966917 \n",
      " f1:0.7046106067845198 \n",
      " precision:0.663629204634942 \n",
      " recall:0.750986632718014 \n",
      ", 'Test':  best_epoch_indx:25\n",
      " auc:0.8218913492267175 \n",
      " apur:0.7880891675966917 \n",
      " f1:0.7046106067845198 \n",
      " precision:0.663629204634942 \n",
      " recall:0.750986632718014 \n",
      "}\n",
      "=====Epoch 26\n",
      "Training...\n"
     ]
    },
    {
     "name": "stderr",
     "output_type": "stream",
     "text": [
      "Iteration:  65%|██████▍   | 40/62 [00:01<00:00, 36.25it/s]"
     ]
    },
    {
     "name": "stdout",
     "output_type": "stream",
     "text": [
      "{'Train':  best_epoch_indx:30\n",
      " auc:0.8535373313398147 \n",
      " apur:0.8215532413933404 \n",
      " f1:0.7353661523389664 \n",
      " precision:0.7083874012032558 \n",
      " recall:0.7644812221514958 \n",
      ", 'Validation':  best_epoch_indx:30\n",
      " auc:0.8535373313398147 \n",
      " apur:0.8215532413933404 \n",
      " f1:0.7353661523389664 \n",
      " precision:0.7083874012032558 \n",
      " recall:0.7644812221514958 \n",
      ", 'Test':  best_epoch_indx:30\n",
      " auc:0.8535373313398147 \n",
      " apur:0.8215532413933404 \n",
      " f1:0.7353661523389664 \n",
      " precision:0.7083874012032558 \n",
      " recall:0.7644812221514958 \n",
      "}\n",
      "=====Epoch 31\n",
      "Training...\n"
     ]
    },
    {
     "name": "stderr",
     "output_type": "stream",
     "text": [
      "\r",
      "Iteration:  24%|██▍       | 15/62 [00:00<00:01, 34.15it/s]\r",
      "Iteration:  13%|█▎        | 8/62 [00:00<00:01, 34.00it/s]\r",
      "Iteration:   0%|          | 0/62 [00:00<?, ?it/s]\r",
      "Iteration:   0%|          | 0/62 [00:00<?, ?it/s]\r",
      "Iteration:  71%|███████   | 44/62 [00:01<00:00, 31.28it/s]\r",
      "Iteration:  19%|█▉        | 12/62 [00:00<00:01, 32.85it/s]\r",
      "Iteration:   6%|▋         | 4/62 [00:00<00:01, 34.10it/s]\r",
      "Iteration:   3%|▎         | 2/62 [00:00<00:03, 18.31it/s]"
     ]
    },
    {
     "name": "stdout",
     "output_type": "stream",
     "text": [
      "{'Train':  best_epoch_indx:27\n",
      " auc:0.8416288148319727 \n",
      " apur:0.8076401063455134 \n",
      " f1:0.7234147850293845 \n",
      " precision:0.7036101083032491 \n",
      " recall:0.7443666454487587 \n",
      ", 'Validation':  best_epoch_indx:27\n",
      " auc:0.8416288148319727 \n",
      " apur:0.8076401063455134 \n",
      " f1:0.7234147850293845 \n",
      " precision:0.7036101083032491 \n",
      " recall:0.7443666454487587 \n",
      ", 'Test':  best_epoch_indx:27\n",
      " auc:0.8416288148319727 \n",
      " apur:0.8076401063455134 \n",
      " f1:0.7234147850293845 \n",
      " precision:0.7036101083032491 \n",
      " recall:0.7443666454487587 \n",
      "}\n",
      "=====Epoch 28\n",
      "Training...\n",
      "{'Train':  best_epoch_indx:27\n",
      " auc:0.8378569698624122 \n",
      " apur:0.8061702523960869 \n",
      " f1:0.7201722385024818 \n",
      " precision:0.6791112113692759 \n",
      " recall:0.7665181413112667 \n",
      ", 'Validation':  best_epoch_indx:27\n",
      " auc:0.8378569639073441 \n",
      " apur:0.8061702368641361 \n",
      " f1:0.7201722385024818 \n",
      " precision:0.6791112113692759 \n",
      " recall:0.7665181413112667 \n",
      ", 'Test':  best_epoch_indx:27\n",
      " auc:0.8378569639073441 \n",
      " apur:0.8061702368641361 \n",
      " f1:0.7201722385024818 \n",
      " precision:0.6791112113692759 \n",
      " recall:0.7665181413112667 \n",
      "}\n",
      "=====Epoch 28\n",
      "Training...\n"
     ]
    },
    {
     "name": "stderr",
     "output_type": "stream",
     "text": [
      "Iteration: 100%|██████████| 62/62 [00:01<00:00, 34.33it/s]\n",
      "Iteration:  27%|██▋       | 17/62 [00:00<00:01, 33.45it/s]"
     ]
    },
    {
     "name": "stdout",
     "output_type": "stream",
     "text": [
      "Evaluating...\n"
     ]
    },
    {
     "name": "stderr",
     "output_type": "stream",
     "text": [
      "Iteration: 100%|██████████| 62/62 [00:01<00:00, 36.96it/s]\n",
      "Iteration:  47%|████▋     | 29/62 [00:00<00:01, 30.49it/s]"
     ]
    },
    {
     "name": "stdout",
     "output_type": "stream",
     "text": [
      "Evaluating...\n"
     ]
    },
    {
     "name": "stderr",
     "output_type": "stream",
     "text": [
      "\r",
      "Iteration:  90%|█████████ | 56/62 [00:01<00:00, 35.78it/s]\r",
      "Iteration:  82%|████████▏ | 51/62 [00:01<00:00, 34.51it/s]\r",
      "Iteration:  68%|██████▊   | 42/62 [00:02<00:00, 25.49it/s]\r",
      "Iteration:   6%|▋         | 4/62 [00:00<00:01, 30.59it/s]\r",
      "Iteration:  53%|█████▎    | 33/62 [00:01<00:00, 30.74it/s]\r",
      "Iteration:  97%|█████████▋| 60/62 [00:01<00:00, 35.74it/s]\r",
      "Iteration:  89%|████████▊ | 55/62 [00:01<00:00, 34.36it/s]\r",
      "Iteration:  74%|███████▍  | 46/62 [00:02<00:00, 27.55it/s]\r",
      "Iteration:  13%|█▎        | 8/62 [00:00<00:01, 31.26it/s]\r",
      "Iteration: 100%|██████████| 62/62 [00:01<00:00, 36.65it/s]\n",
      "\r",
      "Iteration:   0%|          | 0/62 [00:00<?, ?it/s]"
     ]
    },
    {
     "name": "stdout",
     "output_type": "stream",
     "text": [
      "Evaluating...\n",
      "Evaluating...\n"
     ]
    },
    {
     "name": "stderr",
     "output_type": "stream",
     "text": [
      "Iteration: 100%|██████████| 62/62 [00:01<00:00, 34.00it/s]\n",
      "Iteration: 100%|██████████| 62/62 [00:02<00:00, 23.60it/s]\n",
      "Iteration:  19%|█▉        | 12/62 [00:00<00:01, 25.10it/s]"
     ]
    },
    {
     "name": "stdout",
     "output_type": "stream",
     "text": [
      "Evaluating...\n"
     ]
    },
    {
     "name": "stderr",
     "output_type": "stream",
     "text": [
      "Iteration: 100%|██████████| 62/62 [00:02<00:00, 30.63it/s]\n",
      "Iteration: 100%|██████████| 62/62 [00:01<00:00, 31.33it/s]\n",
      "Iteration: 100%|██████████| 62/62 [00:02<00:00, 29.66it/s]\n",
      "Iteration: 100%|██████████| 62/62 [00:02<00:00, 26.09it/s]\n",
      "Iteration: 100%|██████████| 62/62 [00:02<00:00, 26.62it/s]\n",
      "Iteration: 100%|██████████| 62/62 [00:01<00:00, 39.54it/s]\n",
      "Iteration: 100%|██████████| 62/62 [00:02<00:00, 29.05it/s]\n",
      "Iteration: 100%|██████████| 62/62 [00:01<00:00, 32.11it/s]\n",
      "Iteration: 100%|██████████| 62/62 [00:02<00:00, 26.86it/s]\n",
      "Iteration: 100%|██████████| 62/62 [00:02<00:00, 26.95it/s]\n",
      "Iteration: 100%|██████████| 62/62 [00:01<00:00, 44.05it/s]\n",
      "Iteration: 100%|██████████| 62/62 [00:01<00:00, 51.20it/s]\n",
      "Iteration:  15%|█▍        | 9/62 [00:00<00:01, 29.07it/s]]"
     ]
    },
    {
     "name": "stdout",
     "output_type": "stream",
     "text": [
      "{'Train':  best_epoch_indx:29\n",
      " auc:0.854152431911654 \n",
      " apur:0.8215997432264868 \n",
      " f1:0.7297650943984049 \n",
      " precision:0.7146692701977057 \n",
      " recall:0.7455124124761299 \n",
      ", 'Validation':  best_epoch_indx:29\n",
      " auc:0.854152431911654 \n",
      " apur:0.8215997432273172 \n",
      " f1:0.7297650943984049 \n",
      " precision:0.7146692701977057 \n",
      " recall:0.7455124124761299 \n",
      ", 'Test':  best_epoch_indx:29\n",
      " auc:0.854152431911654 \n",
      " apur:0.8215997432264868 \n",
      " f1:0.7297650943984049 \n",
      " precision:0.7146692701977057 \n",
      " recall:0.7455124124761299 \n",
      "}\n",
      "=====Epoch 30\n",
      "Training...\n"
     ]
    },
    {
     "name": "stderr",
     "output_type": "stream",
     "text": [
      "Iteration: 100%|██████████| 62/62 [00:01<00:00, 37.18it/s]\n",
      "Iteration:  48%|████▊     | 30/62 [00:01<00:01, 25.04it/s]"
     ]
    },
    {
     "name": "stdout",
     "output_type": "stream",
     "text": [
      "{'Train':  best_epoch_indx:31\n",
      " auc:0.852779459588282 \n",
      " apur:0.8212438602552417 \n",
      " f1:0.7314123526871106 \n",
      " precision:0.7096503831417624 \n",
      " recall:0.754551241247613 \n",
      ", 'Validation':  best_epoch_indx:31\n",
      " auc:0.852779459588282 \n",
      " apur:0.8212438602552417 \n",
      " f1:0.7314123526871106 \n",
      " precision:0.7096503831417624 \n",
      " recall:0.754551241247613 \n",
      ", 'Test':  best_epoch_indx:31\n",
      " auc:0.852779459588282 \n",
      " apur:0.8212438602552417 \n",
      " f1:0.7314123526871106 \n",
      " precision:0.7096503831417624 \n",
      " recall:0.754551241247613 \n",
      "}\n",
      "=====Epoch 32\n",
      "Training...\n"
     ]
    },
    {
     "name": "stderr",
     "output_type": "stream",
     "text": [
      "Iteration: 100%|██████████| 62/62 [00:01<00:00, 36.68it/s]\n",
      "Iteration:  45%|████▌     | 28/62 [00:00<00:01, 33.36it/s]"
     ]
    },
    {
     "name": "stdout",
     "output_type": "stream",
     "text": [
      "Evaluating...\n"
     ]
    },
    {
     "name": "stderr",
     "output_type": "stream",
     "text": [
      "\r",
      "Iteration:  10%|▉         | 6/62 [00:00<00:00, 58.82it/s]\r",
      "Iteration: 100%|██████████| 62/62 [00:02<00:00, 41.08it/s]\r",
      "Iteration: 100%|██████████| 62/62 [00:02<00:00, 29.69it/s]\n",
      "\r",
      "Iteration:  53%|█████▎    | 33/62 [00:00<00:00, 35.48it/s]\r",
      "Iteration:  61%|██████▏   | 38/62 [00:01<00:00, 37.78it/s]"
     ]
    },
    {
     "name": "stdout",
     "output_type": "stream",
     "text": [
      "{'Train':  best_epoch_indx:28\n",
      " auc:0.8455364032013833 \n",
      " apur:0.8109973146551122 \n",
      " f1:0.7324631980451753 \n",
      " precision:0.6885925593904079 \n",
      " recall:0.7823042647994908 \n",
      ", 'Validation':  best_epoch_indx:28\n",
      " auc:0.8455364032013833 \n",
      " apur:0.8109973146551122 \n",
      " f1:0.7324631980451753 \n",
      " precision:0.6885925593904079 \n",
      " recall:0.7823042647994908 \n",
      ", 'Test':  best_epoch_indx:28\n",
      " auc:0.8455364032013833 \n",
      " apur:0.8109973146551122 \n",
      " f1:0.7324631980451753 \n",
      " precision:0.6885925593904079 \n",
      " recall:0.7823042647994908 \n",
      "}\n",
      "=====Epoch 29\n",
      "Training...\n"
     ]
    },
    {
     "name": "stderr",
     "output_type": "stream",
     "text": [
      "Iteration: 100%|██████████| 62/62 [00:02<00:00, 24.96it/s]\n",
      "Iteration: 100%|██████████| 62/62 [00:01<00:00, 36.41it/s]\n",
      "Iteration:   0%|          | 0/62 [00:00<?, ?it/s]7.50it/s]"
     ]
    },
    {
     "name": "stdout",
     "output_type": "stream",
     "text": [
      "Evaluating...\n",
      "{'Train':  best_epoch_indx:26\n",
      " auc:0.8369984440862475 \n",
      " apur:0.8048907211695719 \n",
      " f1:0.724217054263566 \n",
      " precision:0.7060459492140266 \n",
      " recall:0.7433481858688733 \n",
      ", 'Validation':  best_epoch_indx:26\n",
      " auc:0.8369984440862475 \n",
      " apur:0.8048907211695719 \n",
      " f1:0.724217054263566 \n",
      " precision:0.7060459492140266 \n",
      " recall:0.7433481858688733 \n",
      ", 'Test':  best_epoch_indx:26\n",
      " auc:0.8369984440862476 \n",
      " apur:0.8048907211711213 \n",
      " f1:0.724217054263566 \n",
      " precision:0.7060459492140266 \n",
      " recall:0.7433481858688733 \n",
      "}\n",
      "=====Epoch 27\n",
      "Training...\n"
     ]
    },
    {
     "name": "stderr",
     "output_type": "stream",
     "text": [
      "Iteration: 100%|██████████| 62/62 [00:01<00:00, 37.96it/s]\n",
      "Iteration:   6%|▋         | 4/62 [00:00<00:01, 37.40it/s]]"
     ]
    },
    {
     "name": "stdout",
     "output_type": "stream",
     "text": [
      "{'Train':  best_epoch_indx:28\n",
      " auc:0.8445928963540035 \n",
      " apur:0.8152080778081767 \n",
      " f1:0.7190499630814667 \n",
      " precision:0.6958437537215673 \n",
      " recall:0.743857415658816 \n",
      ", 'Validation':  best_epoch_indx:28\n",
      " auc:0.8445928963540035 \n",
      " apur:0.8152080778081767 \n",
      " f1:0.7190499630814667 \n",
      " precision:0.6958437537215673 \n",
      " recall:0.743857415658816 \n",
      ", 'Test':  best_epoch_indx:28\n",
      " auc:0.8445928963540035 \n",
      " apur:0.8152080778081767 \n",
      " f1:0.7190499630814667 \n",
      " precision:0.6958437537215673 \n",
      " recall:0.743857415658816 \n",
      "}\n",
      "=====Epoch 29\n",
      "Training...\n",
      "Evaluating...\n"
     ]
    },
    {
     "name": "stderr",
     "output_type": "stream",
     "text": [
      "Iteration: 100%|██████████| 62/62 [00:01<00:00, 37.67it/s]\n",
      "Iteration: 100%|██████████| 62/62 [00:01<00:00, 36.28it/s]\n",
      "Iteration: 100%|██████████| 62/62 [00:01<00:00, 33.60it/s]\n",
      "Iteration:  58%|█████▊    | 36/62 [00:00<00:00, 34.24it/s]"
     ]
    },
    {
     "name": "stdout",
     "output_type": "stream",
     "text": [
      "Evaluating...\n"
     ]
    },
    {
     "name": "stderr",
     "output_type": "stream",
     "text": [
      "Iteration: 100%|██████████| 62/62 [00:01<00:00, 52.38it/s]\n",
      "Iteration: 100%|██████████| 62/62 [00:01<00:00, 40.67it/s]\n",
      "Iteration: 100%|██████████| 62/62 [00:01<00:00, 35.48it/s]\n",
      "Iteration:  44%|████▎     | 27/62 [00:01<00:01, 25.72it/s]"
     ]
    },
    {
     "name": "stdout",
     "output_type": "stream",
     "text": [
      "Evaluating...\n"
     ]
    },
    {
     "name": "stderr",
     "output_type": "stream",
     "text": [
      "Iteration: 100%|██████████| 62/62 [00:02<00:00, 25.58it/s]\n",
      "Iteration: 100%|██████████| 62/62 [00:01<00:00, 46.59it/s]\n",
      "Iteration: 100%|██████████| 62/62 [00:01<00:00, 32.31it/s]\n",
      "Iteration: 100%|██████████| 62/62 [00:01<00:00, 31.33it/s]\n",
      "Iteration:   8%|▊         | 5/62 [00:00<00:01, 40.00it/s]]"
     ]
    },
    {
     "name": "stdout",
     "output_type": "stream",
     "text": [
      "{'Train':  best_epoch_indx:30\n",
      " auc:0.855823398727759 \n",
      " apur:0.8244543457594429 \n",
      " f1:0.7397179092094347 \n",
      " precision:0.6919835901984699 \n",
      " recall:0.7945257797581159 \n",
      ", 'Validation':  best_epoch_indx:30\n",
      " auc:0.8558233927732479 \n",
      " apur:0.8244543428493497 \n",
      " f1:0.7397179092094347 \n",
      " precision:0.6919835901984699 \n",
      " recall:0.7945257797581159 \n",
      ", 'Test':  best_epoch_indx:30\n",
      " auc:0.855823398727759 \n",
      " apur:0.8244543457594429 \n",
      " f1:0.7397179092094347 \n",
      " precision:0.6919835901984699 \n",
      " recall:0.7945257797581159 \n",
      "}\n",
      "=====Epoch 31\n",
      "Training...\n"
     ]
    },
    {
     "name": "stderr",
     "output_type": "stream",
     "text": [
      "Iteration: 100%|██████████| 62/62 [00:01<00:00, 31.39it/s]\n",
      "Iteration: 100%|██████████| 62/62 [00:01<00:00, 38.43it/s]\n",
      "Iteration:  69%|██████▉   | 43/62 [00:01<00:00, 24.64it/s]"
     ]
    },
    {
     "name": "stdout",
     "output_type": "stream",
     "text": [
      "Evaluating...\n"
     ]
    },
    {
     "name": "stderr",
     "output_type": "stream",
     "text": [
      "Iteration: 100%|██████████| 62/62 [00:02<00:00, 28.75it/s]\n",
      "Iteration: 100%|██████████| 62/62 [00:02<00:00, 22.80it/s]\n",
      "Iteration: 100%|██████████| 62/62 [00:02<00:00, 27.12it/s]\n",
      "Iteration: 100%|██████████| 62/62 [00:01<00:00, 32.21it/s]\n",
      "Iteration: 100%|██████████| 62/62 [00:01<00:00, 37.88it/s]\n",
      "Iteration:  16%|█▌        | 10/62 [00:00<00:01, 41.20it/s]"
     ]
    },
    {
     "name": "stdout",
     "output_type": "stream",
     "text": [
      "{'Train':  best_epoch_indx:29\n",
      " auc:0.853716115110227 \n",
      " apur:0.820671371610577 \n",
      " f1:0.7353647276084949 \n",
      " precision:0.7119189511323003 \n",
      " recall:0.7604073838319542 \n",
      ", 'Validation':  best_epoch_indx:29\n",
      " auc:0.853716115110227 \n",
      " apur:0.820671371610577 \n",
      " f1:0.7353647276084949 \n",
      " precision:0.7119189511323003 \n",
      " recall:0.7604073838319542 \n",
      ", 'Test':  best_epoch_indx:29\n",
      " auc:0.853716115110227 \n",
      " apur:0.820671371610577 \n",
      " f1:0.7353647276084949 \n",
      " precision:0.7119189511323003 \n",
      " recall:0.7604073838319542 \n",
      "}\n",
      "=====Epoch 30\n",
      "Training...\n",
      "{'Train':  best_epoch_indx:32\n",
      " auc:0.8509620382864435 \n",
      " apur:0.8178017418362994 \n",
      " f1:0.7317550620909036 \n",
      " precision:0.7043099387658973 \n",
      " recall:0.7614258434118396 \n",
      ", 'Validation':  best_epoch_indx:32\n",
      " auc:0.8509620323313752 \n",
      " apur:0.8178017394760065 \n",
      " f1:0.7317550620909036 \n",
      " precision:0.7043099387658973 \n",
      " recall:0.7614258434118396 \n",
      ", 'Test':  best_epoch_indx:32\n",
      " auc:0.8509620382864433 \n",
      " apur:0.8178017418362994 \n",
      " f1:0.7317550620909036 \n",
      " precision:0.7043099387658973 \n",
      " recall:0.7614258434118396 \n",
      "}\n",
      "=====Epoch 33\n",
      "Training...\n"
     ]
    },
    {
     "name": "stderr",
     "output_type": "stream",
     "text": [
      "Iteration: 100%|██████████| 62/62 [00:01<00:00, 43.65it/s]\n",
      "Iteration:  42%|████▏     | 26/62 [00:00<00:00, 38.68it/s]"
     ]
    },
    {
     "name": "stdout",
     "output_type": "stream",
     "text": [
      "Evaluating...\n"
     ]
    },
    {
     "name": "stderr",
     "output_type": "stream",
     "text": [
      "Iteration: 100%|██████████| 62/62 [00:02<00:00, 28.58it/s]\n",
      "Iteration: 100%|██████████| 62/62 [00:02<00:00, 24.68it/s]\n",
      "Iteration:   6%|▋         | 4/62 [00:00<00:01, 31.15it/s]]"
     ]
    },
    {
     "name": "stdout",
     "output_type": "stream",
     "text": [
      "Evaluating...\n"
     ]
    },
    {
     "name": "stderr",
     "output_type": "stream",
     "text": [
      "\r",
      "Iteration: 100%|██████████| 62/62 [00:01<00:00, 36.11it/s]\r",
      "Iteration: 100%|██████████| 62/62 [00:01<00:00, 44.43it/s]\n",
      "\r",
      "Iteration: 100%|██████████| 62/62 [00:01<00:00, 28.95it/s]\r",
      "Iteration: 100%|██████████| 62/62 [00:01<00:00, 31.60it/s]\n",
      "\r",
      "Iteration:  98%|█████████▊| 61/62 [00:02<00:00, 30.48it/s]\r",
      "Iteration: 100%|██████████| 62/62 [00:02<00:00, 26.88it/s]\n",
      "\r",
      "Iteration:  13%|█▎        | 8/62 [00:00<00:01, 30.89it/s]\r",
      "Iteration:  19%|█▉        | 12/62 [00:00<00:01, 31.09it/s]\r",
      "Iteration:   0%|          | 0/62 [00:00<?, ?it/s]"
     ]
    },
    {
     "name": "stdout",
     "output_type": "stream",
     "text": [
      "{'Train':  best_epoch_indx:27\n",
      " auc:0.844243142933871 \n",
      " apur:0.8105595018388465 \n",
      " f1:0.7243986254295531 \n",
      " precision:0.7112883435582822 \n",
      " recall:0.7380012730744748 \n",
      ", 'Validation':  best_epoch_indx:27\n",
      " auc:0.8442431488883821 \n",
      " apur:0.8105595068735783 \n",
      " f1:0.7243986254295531 \n",
      " precision:0.7112883435582822 \n",
      " recall:0.7380012730744748 \n",
      ", 'Test':  best_epoch_indx:27\n",
      " auc:0.844243142933871 \n",
      " apur:0.8105595018388465 \n",
      " f1:0.7243986254295531 \n",
      " precision:0.7112883435582822 \n",
      " recall:0.7380012730744748 \n",
      "}\n",
      "=====Epoch 28\n",
      "Training...\n"
     ]
    },
    {
     "name": "stderr",
     "output_type": "stream",
     "text": [
      "\r",
      "Iteration:  29%|██▉       | 18/62 [00:00<00:01, 40.08it/s]\r",
      "Iteration:   6%|▋         | 4/62 [00:00<00:01, 36.59it/s]\r",
      "Iteration:  40%|████      | 25/62 [00:00<00:00, 47.56it/s]\r",
      "Iteration:  13%|█▎        | 8/62 [00:00<00:01, 37.45it/s]"
     ]
    },
    {
     "name": "stdout",
     "output_type": "stream",
     "text": [
      "{'Train':  best_epoch_indx:29\n",
      " auc:0.8516550414803251 \n",
      " apur:0.8212865446535613 \n",
      " f1:0.7307621332349142 \n",
      " precision:0.7069745298738396 \n",
      " recall:0.7562062380649268 \n",
      ", 'Validation':  best_epoch_indx:29\n",
      " auc:0.8516550414803251 \n",
      " apur:0.8212865446535613 \n",
      " f1:0.7307621332349142 \n",
      " precision:0.7069745298738396 \n",
      " recall:0.7562062380649268 \n",
      ", 'Test':  best_epoch_indx:29\n",
      " auc:0.8516550414803251 \n",
      " apur:0.8212865446535613 \n",
      " f1:0.7307621332349142 \n",
      " precision:0.7069745298738396 \n",
      " recall:0.7562062380649268 \n",
      "}\n",
      "=====Epoch 30\n",
      "Training...\n"
     ]
    },
    {
     "name": "stderr",
     "output_type": "stream",
     "text": [
      "Iteration: 100%|██████████| 62/62 [00:01<00:00, 31.26it/s]\n",
      "Iteration: 100%|██████████| 62/62 [00:01<00:00, 34.89it/s]\n",
      "Iteration:  58%|█████▊    | 36/62 [00:01<00:00, 33.50it/s]"
     ]
    },
    {
     "name": "stdout",
     "output_type": "stream",
     "text": [
      "Evaluating...\n"
     ]
    },
    {
     "name": "stderr",
     "output_type": "stream",
     "text": [
      "Iteration: 100%|██████████| 62/62 [00:01<00:00, 44.62it/s]\n",
      "Iteration: 100%|██████████| 62/62 [00:01<00:00, 32.54it/s]\n",
      "Iteration:   6%|▋         | 4/62 [00:00<00:01, 38.02it/s]]"
     ]
    },
    {
     "name": "stdout",
     "output_type": "stream",
     "text": [
      "Evaluating...\n"
     ]
    },
    {
     "name": "stderr",
     "output_type": "stream",
     "text": [
      "Iteration: 100%|██████████| 62/62 [00:01<00:00, 36.67it/s]\n",
      "Iteration:   0%|          | 0/62 [00:00<?, ?it/s]0.00it/s]"
     ]
    },
    {
     "name": "stdout",
     "output_type": "stream",
     "text": [
      "{'Train':  best_epoch_indx:31\n",
      " auc:0.8533081239181397 \n",
      " apur:0.8214501215958078 \n",
      " f1:0.731692269726695 \n",
      " precision:0.7098395977974623 \n",
      " recall:0.75493316359007 \n",
      ", 'Validation':  best_epoch_indx:31\n",
      " auc:0.8533081239181397 \n",
      " apur:0.8214501215958078 \n",
      " f1:0.731692269726695 \n",
      " precision:0.7098395977974623 \n",
      " recall:0.75493316359007 \n",
      ", 'Test':  best_epoch_indx:31\n",
      " auc:0.8533081239181397 \n",
      " apur:0.8214501215958078 \n",
      " f1:0.731692269726695 \n",
      " precision:0.7098395977974623 \n",
      " recall:0.75493316359007 \n",
      "}\n",
      "=====Epoch 32\n",
      "Training...\n"
     ]
    },
    {
     "name": "stderr",
     "output_type": "stream",
     "text": [
      "Iteration: 100%|██████████| 62/62 [00:01<00:00, 41.85it/s]\n",
      "Iteration: 100%|██████████| 62/62 [00:02<00:00, 27.71it/s]\n",
      "Iteration: 100%|██████████| 62/62 [00:01<00:00, 33.64it/s]\n",
      "Iteration: 100%|██████████| 62/62 [00:02<00:00, 26.64it/s]\n",
      "Iteration: 100%|██████████| 62/62 [00:01<00:00, 41.72it/s]\n",
      "Iteration:   0%|          | 0/62 [00:00<?, ?it/s]"
     ]
    },
    {
     "name": "stdout",
     "output_type": "stream",
     "text": [
      "{'Train':  best_epoch_indx:30\n",
      " auc:0.853101960880053 \n",
      " apur:0.8198178461531875 \n",
      " f1:0.7390510948905109 \n",
      " precision:0.7076295864880606 \n",
      " recall:0.7733927434754934 \n",
      ", 'Validation':  best_epoch_indx:30\n",
      " auc:0.853101960880053 \n",
      " apur:0.8198178461531875 \n",
      " f1:0.7390510948905109 \n",
      " precision:0.7076295864880606 \n",
      " recall:0.7733927434754934 \n",
      ", 'Test':  best_epoch_indx:30\n",
      " auc:0.853101960880053 \n",
      " apur:0.8198178461531875 \n",
      " f1:0.7390510948905109 \n",
      " precision:0.7076295864880606 \n",
      " recall:0.7733927434754934 \n",
      "}\n",
      "=====Epoch 31\n",
      "Training...\n",
      "Evaluating...\n"
     ]
    },
    {
     "name": "stderr",
     "output_type": "stream",
     "text": [
      "Iteration: 100%|██████████| 62/62 [00:01<00:00, 37.21it/s]\n",
      "Iteration:  39%|███▊      | 24/62 [00:00<00:01, 24.72it/s]"
     ]
    },
    {
     "name": "stdout",
     "output_type": "stream",
     "text": [
      "Evaluating...\n"
     ]
    },
    {
     "name": "stderr",
     "output_type": "stream",
     "text": [
      "Iteration: 100%|██████████| 62/62 [00:01<00:00, 35.11it/s]\n",
      "Iteration: 100%|██████████| 62/62 [00:02<00:00, 30.43it/s]\n",
      "Iteration: 100%|██████████| 62/62 [00:01<00:00, 37.45it/s]\n",
      "Iteration: 100%|██████████| 62/62 [00:01<00:00, 31.04it/s]\n",
      "Iteration:  89%|████████▊ | 55/62 [00:01<00:00, 46.59it/s]"
     ]
    },
    {
     "name": "stdout",
     "output_type": "stream",
     "text": [
      "{'Train':  best_epoch_indx:33\n",
      " auc:0.8488586962962276 \n",
      " apur:0.8171731734717729 \n",
      " f1:0.7295719844357977 \n",
      " precision:0.6982427557314093 \n",
      " recall:0.7638446849140674 \n",
      ", 'Validation':  best_epoch_indx:33\n",
      " auc:0.8488586903411593 \n",
      " apur:0.8171731707545526 \n",
      " f1:0.7295719844357977 \n",
      " precision:0.6982427557314093 \n",
      " recall:0.7638446849140674 \n",
      ", 'Test':  best_epoch_indx:33\n",
      " auc:0.8488586903411593 \n",
      " apur:0.8171731707545526 \n",
      " f1:0.7295719844357977 \n",
      " precision:0.6982427557314093 \n",
      " recall:0.7638446849140674 \n",
      "}\n",
      "=====Epoch 34\n",
      "Training...\n"
     ]
    },
    {
     "name": "stderr",
     "output_type": "stream",
     "text": [
      "Iteration: 100%|██████████| 62/62 [00:01<00:00, 31.03it/s]\n",
      "Iteration: 100%|██████████| 62/62 [00:01<00:00, 37.88it/s]\n",
      "Iteration: 100%|██████████| 62/62 [00:01<00:00, 39.77it/s]\n",
      "Iteration: 100%|██████████| 62/62 [00:01<00:00, 35.50it/s]\n",
      "Iteration:   5%|▍         | 3/62 [00:00<00:02, 23.72it/s]"
     ]
    },
    {
     "name": "stdout",
     "output_type": "stream",
     "text": [
      "Evaluating...\n"
     ]
    },
    {
     "name": "stderr",
     "output_type": "stream",
     "text": [
      "Iteration: 100%|██████████| 62/62 [00:02<00:00, 24.33it/s]\n",
      "Iteration:   0%|          | 0/62 [00:00<?, ?it/s]5.09it/s]"
     ]
    },
    {
     "name": "stdout",
     "output_type": "stream",
     "text": [
      "{'Train':  best_epoch_indx:30\n",
      " auc:0.8508210460922871 \n",
      " apur:0.8213104071631687 \n",
      " f1:0.7303265940902022 \n",
      " precision:0.7141119221411192 \n",
      " recall:0.7472947167409294 \n",
      ", 'Validation':  best_epoch_indx:30\n",
      " auc:0.8508210460922874 \n",
      " apur:0.8213104071631687 \n",
      " f1:0.7303265940902022 \n",
      " precision:0.7141119221411192 \n",
      " recall:0.7472947167409294 \n",
      ", 'Test':  best_epoch_indx:30\n",
      " auc:0.8508210460922871 \n",
      " apur:0.8213104071631687 \n",
      " f1:0.7303265940902022 \n",
      " precision:0.7141119221411192 \n",
      " recall:0.7472947167409294 \n",
      "}\n",
      "=====Epoch 31\n",
      "Training...\n"
     ]
    },
    {
     "name": "stderr",
     "output_type": "stream",
     "text": [
      "Iteration:  73%|███████▎  | 45/62 [00:01<00:00, 32.71it/s]"
     ]
    },
    {
     "name": "stdout",
     "output_type": "stream",
     "text": [
      "{'Train':  best_epoch_indx:28\n",
      " auc:0.848930099398654 \n",
      " apur:0.8173629248085535 \n",
      " f1:0.7297462924377986 \n",
      " precision:0.7035330261136713 \n",
      " recall:0.7579885423297262 \n",
      ", 'Validation':  best_epoch_indx:28\n",
      " auc:0.848930099398654 \n",
      " apur:0.8173629248085535 \n",
      " f1:0.7297462924377986 \n",
      " precision:0.7035330261136713 \n",
      " recall:0.7579885423297262 \n",
      ", 'Test':  best_epoch_indx:28\n",
      " auc:0.848930099398654 \n",
      " apur:0.8173629248085535 \n",
      " f1:0.7297462924377986 \n",
      " precision:0.7035330261136713 \n",
      " recall:0.7579885423297262 \n",
      "}\n",
      "=====Epoch 29\n",
      "Training...\n"
     ]
    },
    {
     "name": "stderr",
     "output_type": "stream",
     "text": [
      "Iteration: 100%|██████████| 62/62 [00:01<00:00, 34.34it/s]\n",
      "Iteration:  92%|█████████▏| 57/62 [00:02<00:00, 17.30it/s]"
     ]
    },
    {
     "name": "stdout",
     "output_type": "stream",
     "text": [
      "{'Train':  best_epoch_indx:32\n",
      " auc:0.8513460350994612 \n",
      " apur:0.8180399851062713 \n",
      " f1:0.7288492804239177 \n",
      " precision:0.6914990859232175 \n",
      " recall:0.7704646721833227 \n",
      ", 'Validation':  best_epoch_indx:32\n",
      " auc:0.8513460350994612 \n",
      " apur:0.8180399851062713 \n",
      " f1:0.7288492804239177 \n",
      " precision:0.6914990859232175 \n",
      " recall:0.7704646721833227 \n",
      ", 'Test':  best_epoch_indx:32\n",
      " auc:0.8513460350994612 \n",
      " apur:0.8180399851062713 \n",
      " f1:0.7288492804239177 \n",
      " precision:0.6914990859232175 \n",
      " recall:0.7704646721833227 \n",
      "}\n",
      "=====Epoch 33\n",
      "Training...\n",
      "Evaluating...\n"
     ]
    },
    {
     "name": "stderr",
     "output_type": "stream",
     "text": [
      "Iteration: 100%|██████████| 62/62 [00:01<00:00, 38.61it/s]\n",
      "Iteration: 100%|██████████| 62/62 [00:02<00:00, 23.55it/s]\n",
      "Iteration: 100%|██████████| 62/62 [00:03<00:00, 19.65it/s]\n",
      "Iteration: 100%|██████████| 62/62 [00:01<00:00, 33.03it/s]\n",
      "Iteration:  34%|███▍      | 21/62 [00:00<00:01, 36.50it/s]"
     ]
    },
    {
     "name": "stdout",
     "output_type": "stream",
     "text": [
      "Evaluating...\n"
     ]
    },
    {
     "name": "stderr",
     "output_type": "stream",
     "text": [
      "Iteration: 100%|██████████| 62/62 [00:01<00:00, 37.01it/s]\n",
      "Iteration: 100%|██████████| 62/62 [00:01<00:00, 34.42it/s]\n",
      "Iteration:   0%|          | 0/62 [00:00<?, ?it/s]"
     ]
    },
    {
     "name": "stdout",
     "output_type": "stream",
     "text": [
      "Evaluating...\n"
     ]
    },
    {
     "name": "stderr",
     "output_type": "stream",
     "text": [
      "Iteration: 100%|██████████| 62/62 [00:01<00:00, 33.64it/s]\n",
      "Iteration: 100%|██████████| 62/62 [00:01<00:00, 36.60it/s]\n",
      "Iteration: 100%|██████████| 62/62 [00:02<00:00, 27.14it/s]\n",
      "Iteration: 100%|██████████| 62/62 [00:02<00:00, 22.23it/s]\n",
      "Iteration: 100%|██████████| 62/62 [00:02<00:00, 27.52it/s]\n",
      "Iteration: 100%|██████████| 62/62 [00:01<00:00, 41.00it/s]\n",
      "Iteration:  98%|█████████▊| 61/62 [00:02<00:00, 22.87it/s]"
     ]
    },
    {
     "name": "stdout",
     "output_type": "stream",
     "text": [
      "{'Train':  best_epoch_indx:31\n",
      " auc:0.8524410637376824 \n",
      " apur:0.8199488283154168 \n",
      " f1:0.738160178527151 \n",
      " precision:0.719342757037574 \n",
      " recall:0.7579885423297262 \n",
      ", 'Validation':  best_epoch_indx:31\n",
      " auc:0.8524410637376824 \n",
      " apur:0.8199488283154168 \n",
      " f1:0.738160178527151 \n",
      " precision:0.719342757037574 \n",
      " recall:0.7579885423297262 \n",
      ", 'Test':  best_epoch_indx:31\n",
      " auc:0.8524410637376824 \n",
      " apur:0.8199488283154168 \n",
      " f1:0.738160178527151 \n",
      " precision:0.719342757037574 \n",
      " recall:0.7579885423297262 \n",
      "}\n",
      "=====Epoch 32\n",
      "Training...\n"
     ]
    },
    {
     "name": "stderr",
     "output_type": "stream",
     "text": [
      "Iteration: 100%|██████████| 62/62 [00:02<00:00, 21.08it/s]\n",
      "Iteration: 100%|██████████| 62/62 [00:02<00:00, 30.53it/s]\n",
      "Iteration: 100%|██████████| 62/62 [00:01<00:00, 49.84it/s]\n",
      "Iteration:   0%|          | 0/62 [00:00<?, ?it/s]0.23it/s]"
     ]
    },
    {
     "name": "stdout",
     "output_type": "stream",
     "text": [
      "{'Train':  best_epoch_indx:34\n",
      " auc:0.8435999244659153 \n",
      " apur:0.8114176613496136 \n",
      " f1:0.726745620528004 \n",
      " precision:0.7049180327868853 \n",
      " recall:0.7499681731381286 \n",
      ", 'Validation':  best_epoch_indx:34\n",
      " auc:0.8435999244659153 \n",
      " apur:0.8114176613496136 \n",
      " f1:0.726745620528004 \n",
      " precision:0.7049180327868853 \n",
      " recall:0.7499681731381286 \n",
      ", 'Test':  best_epoch_indx:34\n",
      " auc:0.8435999304209835 \n",
      " apur:0.8114176700605693 \n",
      " f1:0.726745620528004 \n",
      " precision:0.7049180327868853 \n",
      " recall:0.7499681731381286 \n",
      "}\n",
      "=====Epoch 35\n",
      "Training...\n"
     ]
    },
    {
     "name": "stderr",
     "output_type": "stream",
     "text": [
      "\r",
      "Iteration:  56%|█████▋    | 35/62 [00:00<00:00, 51.92it/s]\r",
      "Iteration:  65%|██████▍   | 40/62 [00:01<00:00, 31.36it/s]\r",
      "Iteration:   6%|▋         | 4/62 [00:00<00:01, 36.74it/s]\r",
      "Iteration:  71%|███████   | 44/62 [00:01<00:00, 32.33it/s]\r",
      "Iteration:   0%|          | 0/62 [00:00<?, ?it/s]\r",
      "Iteration:   0%|          | 0/62 [00:00<?, ?it/s]\r",
      "Iteration:  66%|██████▌   | 41/62 [00:00<00:00, 46.49it/s]"
     ]
    },
    {
     "name": "stdout",
     "output_type": "stream",
     "text": [
      "{'Train':  best_epoch_indx:31\n",
      " auc:0.8511281965987152 \n",
      " apur:0.818418453453456 \n",
      " f1:0.733389504092441 \n",
      " precision:0.6954685538180573 \n",
      " recall:0.7756842775302355 \n",
      ", 'Validation':  best_epoch_indx:31\n",
      " auc:0.851128190643647 \n",
      " apur:0.8184184279017253 \n",
      " f1:0.733389504092441 \n",
      " precision:0.6954685538180573 \n",
      " recall:0.7756842775302355 \n",
      ", 'Test':  best_epoch_indx:31\n",
      " auc:0.851128190643647 \n",
      " apur:0.8184184279017253 \n",
      " f1:0.733389504092441 \n",
      " precision:0.6954685538180573 \n",
      " recall:0.7756842775302355 \n",
      "}\n",
      "=====Epoch 32\n",
      "Training...\n"
     ]
    },
    {
     "name": "stderr",
     "output_type": "stream",
     "text": [
      "Iteration: 100%|██████████| 62/62 [00:02<00:00, 29.23it/s]\n",
      "Iteration: 100%|██████████| 62/62 [00:01<00:00, 41.04it/s]\n",
      "Iteration:  44%|████▎     | 27/62 [00:00<00:01, 30.74it/s]"
     ]
    },
    {
     "name": "stdout",
     "output_type": "stream",
     "text": [
      "Evaluating...\n"
     ]
    },
    {
     "name": "stderr",
     "output_type": "stream",
     "text": [
      "Iteration: 100%|██████████| 62/62 [00:01<00:00, 41.09it/s]\n",
      "Iteration:   0%|          | 0/62 [00:00<?, ?it/s]0.31it/s]"
     ]
    },
    {
     "name": "stdout",
     "output_type": "stream",
     "text": [
      "Evaluating...\n",
      "{'Train':  best_epoch_indx:33\n",
      " auc:0.8460125795001664 \n",
      " apur:0.8117219945526919 \n",
      " f1:0.7289587147835332 \n",
      " precision:0.6799250771264874 \n",
      " recall:0.7856142584341184 \n",
      ", 'Validation':  best_epoch_indx:33\n",
      " auc:0.8460125795001664 \n",
      " apur:0.8117219945526919 \n",
      " f1:0.7289587147835332 \n",
      " precision:0.6799250771264874 \n",
      " recall:0.7856142584341184 \n",
      ", 'Test':  best_epoch_indx:33\n",
      " auc:0.8460125795001664 \n",
      " apur:0.8117219945526919 \n",
      " f1:0.7289587147835332 \n",
      " precision:0.6799250771264874 \n",
      " recall:0.7856142584341184 \n",
      "}\n",
      "=====Epoch 34\n",
      "Training...\n",
      "Evaluating...\n"
     ]
    },
    {
     "name": "stderr",
     "output_type": "stream",
     "text": [
      "Iteration: 100%|██████████| 62/62 [00:01<00:00, 34.24it/s]\n",
      "Iteration: 100%|██████████| 62/62 [00:01<00:00, 43.85it/s]\n",
      "Iteration: 100%|██████████| 62/62 [00:02<00:00, 26.39it/s]\n",
      "Iteration:   6%|▋         | 4/62 [00:00<00:01, 32.26it/s]]"
     ]
    },
    {
     "name": "stdout",
     "output_type": "stream",
     "text": [
      "Evaluating...\n"
     ]
    },
    {
     "name": "stderr",
     "output_type": "stream",
     "text": [
      "Iteration: 100%|██████████| 62/62 [00:03<00:00, 18.77it/s]\n",
      "Iteration: 100%|██████████| 62/62 [00:01<00:00, 32.23it/s]\n",
      "Iteration: 100%|██████████| 62/62 [00:02<00:00, 28.38it/s]\n",
      "Iteration:   0%|          | 0/62 [00:00<?, ?it/s]1.29it/s]"
     ]
    },
    {
     "name": "stdout",
     "output_type": "stream",
     "text": [
      "{'Train':  best_epoch_indx:29\n",
      " auc:0.8572663673135449 \n",
      " apur:0.8260283017466828 \n",
      " f1:0.7421660252886201 \n",
      " precision:0.713363081258807 \n",
      " recall:0.7733927434754934 \n",
      ", 'Validation':  best_epoch_indx:29\n",
      " auc:0.8572663673135449 \n",
      " apur:0.8260283017466828 \n",
      " f1:0.7421660252886201 \n",
      " precision:0.713363081258807 \n",
      " recall:0.7733927434754934 \n",
      ", 'Test':  best_epoch_indx:29\n",
      " auc:0.8572663673135449 \n",
      " apur:0.8260283017466828 \n",
      " f1:0.7421660252886201 \n",
      " precision:0.713363081258807 \n",
      " recall:0.7733927434754934 \n",
      "}\n",
      "=====Epoch 30\n",
      "Training...\n"
     ]
    },
    {
     "name": "stderr",
     "output_type": "stream",
     "text": [
      "Iteration: 100%|██████████| 62/62 [00:01<00:00, 35.50it/s]\n",
      "Iteration: 100%|██████████| 62/62 [00:01<00:00, 37.83it/s]\n",
      "Iteration: 100%|██████████| 62/62 [00:02<00:00, 28.76it/s]\n",
      "Iteration: 100%|██████████| 62/62 [00:01<00:00, 32.73it/s]\n",
      "Iteration:  84%|████████▍ | 52/62 [00:01<00:00, 37.38it/s]"
     ]
    },
    {
     "name": "stdout",
     "output_type": "stream",
     "text": [
      "Evaluating...\n"
     ]
    },
    {
     "name": "stderr",
     "output_type": "stream",
     "text": [
      "Iteration: 100%|██████████| 62/62 [00:01<00:00, 32.70it/s]\n",
      "Iteration: 100%|██████████| 62/62 [00:01<00:00, 36.28it/s]\n",
      "Iteration: 100%|██████████| 62/62 [00:01<00:00, 37.28it/s]\n",
      "Iteration: 100%|██████████| 62/62 [00:02<00:00, 27.57it/s]\n",
      "Iteration: 100%|██████████| 62/62 [00:01<00:00, 32.64it/s]\n",
      "Iteration:  40%|████      | 25/62 [00:00<00:01, 35.89it/s]"
     ]
    },
    {
     "name": "stdout",
     "output_type": "stream",
     "text": [
      "{'Train':  best_epoch_indx:32\n",
      " auc:0.8446774880974564 \n",
      " apur:0.8115063656476134 \n",
      " f1:0.7138842764082258 \n",
      " precision:0.7162629757785467 \n",
      " recall:0.7115213239974538 \n",
      ", 'Validation':  best_epoch_indx:32\n",
      " auc:0.8446774880974564 \n",
      " apur:0.8115063656476134 \n",
      " f1:0.7138842764082258 \n",
      " precision:0.7162629757785467 \n",
      " recall:0.7115213239974538 \n",
      ", 'Test':  best_epoch_indx:32\n",
      " auc:0.8446774880974564 \n",
      " apur:0.8115063656476134 \n",
      " f1:0.7138842764082258 \n",
      " precision:0.7162629757785467 \n",
      " recall:0.7115213239974538 \n",
      "}\n",
      "=====Epoch 33\n",
      "Training...\n"
     ]
    },
    {
     "name": "stderr",
     "output_type": "stream",
     "text": [
      "Iteration:  90%|█████████ | 56/62 [00:02<00:00, 24.12it/s]"
     ]
    },
    {
     "name": "stdout",
     "output_type": "stream",
     "text": [
      "{'Train':  best_epoch_indx:32\n",
      " auc:0.8449591848036113 \n",
      " apur:0.8120151706163201 \n",
      " f1:0.72953455913587 \n",
      " precision:0.697008348794063 \n",
      " recall:0.7652450668364099 \n",
      ", 'Validation':  best_epoch_indx:32\n",
      " auc:0.8449591848036113 \n",
      " apur:0.8120151706163201 \n",
      " f1:0.72953455913587 \n",
      " precision:0.697008348794063 \n",
      " recall:0.7652450668364099 \n",
      ", 'Test':  best_epoch_indx:32\n",
      " auc:0.8449591848036113 \n",
      " apur:0.8120151706163201 \n",
      " f1:0.72953455913587 \n",
      " precision:0.697008348794063 \n",
      " recall:0.7652450668364099 \n",
      "}\n",
      "=====Epoch 33\n",
      "Training...\n"
     ]
    },
    {
     "name": "stderr",
     "output_type": "stream",
     "text": [
      "Iteration: 100%|██████████| 62/62 [00:01<00:00, 37.28it/s]\n",
      "Iteration: 100%|██████████| 62/62 [00:02<00:00, 24.31it/s]\n",
      "Iteration:   0%|          | 0/62 [00:00<?, ?it/s]1.60it/s]"
     ]
    },
    {
     "name": "stdout",
     "output_type": "stream",
     "text": [
      "{'Train':  best_epoch_indx:34\n",
      " auc:0.8434782562095131 \n",
      " apur:0.807268088974031 \n",
      " f1:0.7227197952842259 \n",
      " precision:0.6930357560177611 \n",
      " recall:0.7550604710375557 \n",
      ", 'Validation':  best_epoch_indx:34\n",
      " auc:0.8434782562095131 \n",
      " apur:0.807268088974031 \n",
      " f1:0.7227197952842259 \n",
      " precision:0.6930357560177611 \n",
      " recall:0.7550604710375557 \n",
      ", 'Test':  best_epoch_indx:34\n",
      " auc:0.8434782562095131 \n",
      " apur:0.807268088974031 \n",
      " f1:0.7227197952842259 \n",
      " precision:0.6930357560177611 \n",
      " recall:0.7550604710375557 \n",
      "}\n",
      "=====Epoch 35\n",
      "Training...\n",
      "{'Train':  best_epoch_indx:35\n",
      " auc:0.843797156323934 \n",
      " apur:0.8127116743334539 \n",
      " f1:0.7248259317769586 \n",
      " precision:0.6706366392377653 \n",
      " recall:0.788542329726289 \n",
      ", 'Validation':  best_epoch_indx:35\n",
      " auc:0.843797156323934 \n",
      " apur:0.8127116743334539 \n",
      " f1:0.7248259317769586 \n",
      " precision:0.6706366392377653 \n",
      " recall:0.788542329726289 \n",
      ", 'Test':  best_epoch_indx:35\n",
      " auc:0.843797156323934 \n",
      " apur:0.8127116743334539 \n",
      " f1:0.7248259317769586 \n",
      " precision:0.6706366392377653 \n",
      " recall:0.788542329726289 \n",
      "}\n",
      "=====Epoch 36\n",
      "Training...\n"
     ]
    },
    {
     "name": "stderr",
     "output_type": "stream",
     "text": [
      "\r",
      "Iteration:  94%|█████████▎| 58/62 [00:01<00:00, 29.68it/s]\r",
      "Iteration:   6%|▋         | 4/62 [00:00<00:01, 32.73it/s]\r",
      "Iteration:   5%|▍         | 3/62 [00:00<00:02, 24.96it/s]\r",
      "Iteration: 100%|██████████| 62/62 [00:02<00:00, 28.97it/s]\r",
      "Iteration: 100%|██████████| 62/62 [00:02<00:00, 30.18it/s]\n",
      "\r",
      "Iteration: 100%|██████████| 62/62 [00:02<00:00, 30.18it/s]\n",
      "\r",
      "Iteration:   0%|          | 0/62 [00:00<?, ?it/s]\r",
      "Iteration:  56%|█████▋    | 35/62 [00:01<00:00, 29.15it/s]\r",
      "Iteration:  15%|█▍        | 9/62 [00:00<00:01, 37.81it/s]\r",
      "Iteration:  11%|█▏        | 7/62 [00:00<00:01, 28.65it/s]"
     ]
    },
    {
     "name": "stdout",
     "output_type": "stream",
     "text": [
      "Evaluating...\n"
     ]
    },
    {
     "name": "stderr",
     "output_type": "stream",
     "text": [
      "Iteration: 100%|██████████| 62/62 [00:02<00:00, 25.04it/s]\n",
      "Iteration:  98%|█████████▊| 61/62 [00:01<00:00, 34.15it/s]"
     ]
    },
    {
     "name": "stdout",
     "output_type": "stream",
     "text": [
      "Evaluating...\n",
      "Evaluating...\n"
     ]
    },
    {
     "name": "stderr",
     "output_type": "stream",
     "text": [
      "Iteration: 100%|██████████| 62/62 [00:01<00:00, 41.36it/s]\n",
      "Iteration: 100%|██████████| 62/62 [00:01<00:00, 35.84it/s]\n",
      "Iteration: 100%|██████████| 62/62 [00:01<00:00, 31.82it/s]\n",
      "Iteration:  37%|███▋      | 23/62 [00:00<00:01, 28.85it/s]"
     ]
    },
    {
     "name": "stdout",
     "output_type": "stream",
     "text": [
      "Evaluating...\n"
     ]
    },
    {
     "name": "stderr",
     "output_type": "stream",
     "text": [
      "Iteration: 100%|██████████| 62/62 [00:02<00:00, 26.47it/s]\n",
      "Iteration: 100%|██████████| 62/62 [00:01<00:00, 31.90it/s]\n",
      "Iteration: 100%|██████████| 62/62 [00:02<00:00, 27.45it/s]\n",
      "Iteration: 100%|██████████| 62/62 [00:02<00:00, 25.25it/s]\n",
      "Iteration: 100%|██████████| 62/62 [00:01<00:00, 35.99it/s]\n",
      "Iteration:   3%|▎         | 2/62 [00:00<00:03, 16.19it/s]"
     ]
    },
    {
     "name": "stdout",
     "output_type": "stream",
     "text": [
      "{'Train':  best_epoch_indx:30\n",
      " auc:0.8575222147923156 \n",
      " apur:0.8264845481224475 \n",
      " f1:0.7421352489472381 \n",
      " precision:0.7225370794646087 \n",
      " recall:0.7628262253341821 \n",
      ", 'Validation':  best_epoch_indx:30\n",
      " auc:0.8575222147923156 \n",
      " apur:0.8264845481224475 \n",
      " f1:0.7421352489472381 \n",
      " precision:0.7225370794646087 \n",
      " recall:0.7628262253341821 \n",
      ", 'Test':  best_epoch_indx:30\n",
      " auc:0.8575222147923156 \n",
      " apur:0.8264845481224475 \n",
      " f1:0.7421352489472381 \n",
      " precision:0.7225370794646087 \n",
      " recall:0.7628262253341821 \n",
      "}\n",
      "=====Epoch 31\n",
      "Training...\n"
     ]
    },
    {
     "name": "stderr",
     "output_type": "stream",
     "text": [
      "Iteration: 100%|██████████| 62/62 [00:01<00:00, 36.11it/s]\n",
      "Iteration:  95%|█████████▌| 59/62 [00:01<00:00, 31.64it/s]"
     ]
    },
    {
     "name": "stdout",
     "output_type": "stream",
     "text": [
      "Evaluating...\n"
     ]
    },
    {
     "name": "stderr",
     "output_type": "stream",
     "text": [
      "Iteration: 100%|██████████| 62/62 [00:01<00:00, 32.69it/s]\n",
      "Iteration: 100%|██████████| 62/62 [00:01<00:00, 31.18it/s]\n",
      "Iteration: 100%|██████████| 62/62 [00:02<00:00, 27.28it/s]\n",
      "Iteration: 100%|██████████| 62/62 [00:01<00:00, 34.38it/s]\n",
      "Iteration:   6%|▋         | 4/62 [00:00<00:01, 33.90it/s]]"
     ]
    },
    {
     "name": "stdout",
     "output_type": "stream",
     "text": [
      "{'Train':  best_epoch_indx:33\n",
      " auc:0.8498944374839623 \n",
      " apur:0.8213243488915241 \n",
      " f1:0.7322760089951473 \n",
      " precision:0.6841756054406724 \n",
      " recall:0.7876511775938893 \n",
      ", 'Validation':  best_epoch_indx:33\n",
      " auc:0.8498944374839623 \n",
      " apur:0.8213243488915241 \n",
      " f1:0.7322760089951473 \n",
      " precision:0.6841756054406724 \n",
      " recall:0.7876511775938893 \n",
      ", 'Test':  best_epoch_indx:33\n",
      " auc:0.8498944374839623 \n",
      " apur:0.8213243488915241 \n",
      " f1:0.7322760089951473 \n",
      " precision:0.6841756054406724 \n",
      " recall:0.7876511775938893 \n",
      "}\n",
      "=====Epoch 34\n",
      "Training...\n"
     ]
    },
    {
     "name": "stderr",
     "output_type": "stream",
     "text": [
      "Iteration: 100%|██████████| 62/62 [00:02<00:00, 29.89it/s]\n",
      "Iteration: 100%|██████████| 62/62 [00:01<00:00, 35.25it/s]\n",
      "Iteration: 100%|██████████| 62/62 [00:01<00:00, 37.46it/s]\n",
      "Iteration:   5%|▍         | 3/62 [00:00<00:02, 24.20it/s]]"
     ]
    },
    {
     "name": "stdout",
     "output_type": "stream",
     "text": [
      "Evaluating...\n"
     ]
    },
    {
     "name": "stderr",
     "output_type": "stream",
     "text": [
      "Iteration: 100%|██████████| 62/62 [00:02<00:00, 29.05it/s]\n",
      "Iteration: 100%|██████████| 62/62 [00:02<00:00, 24.68it/s]\n",
      "Iteration:   8%|▊         | 5/62 [00:00<00:01, 38.83it/s]]"
     ]
    },
    {
     "name": "stdout",
     "output_type": "stream",
     "text": [
      "{'Train':  best_epoch_indx:36\n",
      " auc:0.8575329200635119 \n",
      " apur:0.824636032426423 \n",
      " f1:0.7340639959687578 \n",
      " precision:0.7264680214437103 \n",
      " recall:0.7418204964990452 \n",
      ", 'Validation':  best_epoch_indx:36\n",
      " auc:0.8575329200635119 \n",
      " apur:0.824636032426423 \n",
      " f1:0.7340639959687578 \n",
      " precision:0.7264680214437103 \n",
      " recall:0.7418204964990452 \n",
      ", 'Test':  best_epoch_indx:36\n",
      " auc:0.8575329141084437 \n",
      " apur:0.8246360187482078 \n",
      " f1:0.7340639959687578 \n",
      " precision:0.7264680214437103 \n",
      " recall:0.7418204964990452 \n",
      "}\n",
      "=====Epoch 37\n",
      "Training...\n"
     ]
    },
    {
     "name": "stderr",
     "output_type": "stream",
     "text": [
      "Iteration:  34%|███▍      | 21/62 [00:00<00:01, 34.06it/s]"
     ]
    },
    {
     "name": "stdout",
     "output_type": "stream",
     "text": [
      "{'Train':  best_epoch_indx:35\n",
      " auc:0.8522278684219772 \n",
      " apur:0.8206223867280538 \n",
      " f1:0.7307076923076924 \n",
      " precision:0.7072066706372842 \n",
      " recall:0.7558243157224698 \n",
      ", 'Validation':  best_epoch_indx:35\n",
      " auc:0.8522278684219772 \n",
      " apur:0.8206223867280538 \n",
      " f1:0.7307076923076924 \n",
      " precision:0.7072066706372842 \n",
      " recall:0.7558243157224698 \n",
      ", 'Test':  best_epoch_indx:35\n",
      " auc:0.8522278684219772 \n",
      " apur:0.8206223867280538 \n",
      " f1:0.7307076923076924 \n",
      " precision:0.7072066706372842 \n",
      " recall:0.7558243157224698 \n",
      "}\n",
      "=====Epoch 36\n",
      "Training...\n",
      "{'Train':  best_epoch_indx:33\n",
      " auc:0.844448817702047 \n",
      " apur:0.8112887976994482 \n",
      " f1:0.7183314198239571 \n",
      " precision:0.7198005880097149 \n",
      " recall:0.7168682367918523 \n",
      ", 'Validation':  best_epoch_indx:33\n",
      " auc:0.844448817702047 \n",
      " apur:0.8112887976994482 \n",
      " f1:0.7183314198239571 \n",
      " precision:0.7198005880097149 \n",
      " recall:0.7168682367918523 \n",
      ", 'Test':  best_epoch_indx:33\n",
      " auc:0.844448817702047 \n",
      " apur:0.8112887976994482 \n",
      " f1:0.7183314198239571 \n",
      " precision:0.7198005880097149 \n",
      " recall:0.7168682367918523 \n",
      "}\n",
      "=====Epoch 34\n",
      "Training...\n"
     ]
    },
    {
     "name": "stderr",
     "output_type": "stream",
     "text": [
      "Iteration: 100%|██████████| 62/62 [00:02<00:00, 30.52it/s]\n",
      "Iteration: 100%|██████████| 62/62 [00:02<00:00, 25.16it/s]\n",
      "Iteration: 100%|██████████| 62/62 [00:01<00:00, 36.15it/s]\n",
      "Iteration:  65%|██████▍   | 40/62 [00:01<00:00, 37.37it/s]"
     ]
    },
    {
     "name": "stdout",
     "output_type": "stream",
     "text": [
      "Evaluating...\n"
     ]
    },
    {
     "name": "stderr",
     "output_type": "stream",
     "text": [
      "Iteration: 100%|██████████| 62/62 [00:01<00:00, 34.48it/s]\n",
      "Iteration:  31%|███       | 19/62 [00:00<00:01, 38.72it/s]"
     ]
    },
    {
     "name": "stdout",
     "output_type": "stream",
     "text": [
      "Evaluating...\n"
     ]
    },
    {
     "name": "stderr",
     "output_type": "stream",
     "text": [
      "Iteration: 100%|██████████| 62/62 [00:02<00:00, 30.36it/s]\n",
      "Iteration:  60%|█████▉    | 37/62 [00:01<00:00, 30.86it/s]"
     ]
    },
    {
     "name": "stdout",
     "output_type": "stream",
     "text": [
      "Evaluating...\n"
     ]
    },
    {
     "name": "stderr",
     "output_type": "stream",
     "text": [
      "Iteration: 100%|██████████| 62/62 [00:02<00:00, 29.35it/s]\n",
      "Iteration: 100%|██████████| 62/62 [00:01<00:00, 33.08it/s]\n",
      "Iteration: 100%|██████████| 62/62 [00:01<00:00, 32.15it/s]\n",
      "Iteration: 100%|██████████| 62/62 [00:02<00:00, 29.99it/s]\n",
      "Iteration:  74%|███████▍  | 46/62 [00:01<00:00, 43.43it/s]"
     ]
    },
    {
     "name": "stdout",
     "output_type": "stream",
     "text": [
      "{'Train':  best_epoch_indx:31\n",
      " auc:0.8564627464944304 \n",
      " apur:0.8259363303397741 \n",
      " f1:0.7390171483972612 \n",
      " precision:0.7051341350601296 \n",
      " recall:0.7763208147676639 \n",
      ", 'Validation':  best_epoch_indx:31\n",
      " auc:0.8564627464944304 \n",
      " apur:0.8259363303397741 \n",
      " f1:0.7390171483972612 \n",
      " precision:0.7051341350601296 \n",
      " recall:0.7763208147676639 \n",
      ", 'Test':  best_epoch_indx:31\n",
      " auc:0.8564627524489415 \n",
      " apur:0.8259363639492048 \n",
      " f1:0.7390171483972612 \n",
      " precision:0.7051341350601296 \n",
      " recall:0.7763208147676639 \n",
      "}\n",
      "=====Epoch 32\n",
      "Training...\n"
     ]
    },
    {
     "name": "stderr",
     "output_type": "stream",
     "text": [
      "Iteration: 100%|██████████| 62/62 [00:01<00:00, 41.20it/s]\n",
      "Iteration: 100%|██████████| 62/62 [00:03<00:00, 18.50it/s]\n",
      "Iteration: 100%|██████████| 62/62 [00:01<00:00, 45.82it/s]\n",
      "Iteration: 100%|██████████| 62/62 [00:01<00:00, 41.44it/s]\n",
      "Iteration:   0%|          | 0/62 [00:00<?, ?it/s]8.08it/s]"
     ]
    },
    {
     "name": "stdout",
     "output_type": "stream",
     "text": [
      "{'Train':  best_epoch_indx:34\n",
      " auc:0.8423030297183507 \n",
      " apur:0.8119663020847728 \n",
      " f1:0.7123100775193798 \n",
      " precision:0.6944377267230956 \n",
      " recall:0.7311266709102483 \n",
      ", 'Validation':  best_epoch_indx:34\n",
      " auc:0.8423030297183507 \n",
      " apur:0.8119663020847728 \n",
      " f1:0.7123100775193798 \n",
      " precision:0.6944377267230956 \n",
      " recall:0.7311266709102483 \n",
      ", 'Test':  best_epoch_indx:34\n",
      " auc:0.8423030297183507 \n",
      " apur:0.8119663020847728 \n",
      " f1:0.7123100775193798 \n",
      " precision:0.6944377267230956 \n",
      " recall:0.7311266709102483 \n",
      "}\n",
      "=====Epoch 35\n",
      "Training...\n"
     ]
    },
    {
     "name": "stderr",
     "output_type": "stream",
     "text": [
      "Iteration: 100%|██████████| 62/62 [00:01<00:00, 36.54it/s]\n",
      "Iteration:  32%|███▏      | 20/62 [00:00<00:00, 43.58it/s]"
     ]
    },
    {
     "name": "stdout",
     "output_type": "stream",
     "text": [
      "Evaluating...\n"
     ]
    },
    {
     "name": "stderr",
     "output_type": "stream",
     "text": [
      "Iteration: 100%|██████████| 62/62 [00:01<00:00, 43.36it/s]\n",
      "Iteration: 100%|██████████| 62/62 [00:01<00:00, 42.92it/s]\n",
      "Iteration:   6%|▋         | 4/62 [00:00<00:01, 31.17it/s]]"
     ]
    },
    {
     "name": "stdout",
     "output_type": "stream",
     "text": [
      "Evaluating...\n"
     ]
    },
    {
     "name": "stderr",
     "output_type": "stream",
     "text": [
      "Iteration:  76%|███████▌  | 47/62 [00:02<00:00, 22.04it/s]"
     ]
    },
    {
     "name": "stdout",
     "output_type": "stream",
     "text": [
      "{'Train':  best_epoch_indx:37\n",
      " auc:0.8627934843693454 \n",
      " apur:0.8322325071406063 \n",
      " f1:0.7376102544577703 \n",
      " precision:0.7353238866396761 \n",
      " recall:0.73991088478676 \n",
      ", 'Validation':  best_epoch_indx:37\n",
      " auc:0.8627934784142773 \n",
      " apur:0.8322324929193026 \n",
      " f1:0.7376102544577703 \n",
      " precision:0.7353238866396761 \n",
      " recall:0.73991088478676 \n",
      ", 'Test':  best_epoch_indx:37\n",
      " auc:0.8627934843693454 \n",
      " apur:0.8322325071406063 \n",
      " f1:0.7376102544577703 \n",
      " precision:0.7353238866396761 \n",
      " recall:0.73991088478676 \n",
      "}\n",
      "=====Epoch 38\n",
      "Training...\n"
     ]
    },
    {
     "name": "stderr",
     "output_type": "stream",
     "text": [
      "Iteration: 100%|██████████| 62/62 [00:01<00:00, 34.79it/s]\n",
      "Iteration: 100%|██████████| 62/62 [00:02<00:00, 22.55it/s]\n",
      "Iteration: 100%|██████████| 62/62 [00:02<00:00, 21.64it/s]\n",
      "Iteration: 100%|██████████| 62/62 [00:01<00:00, 39.86it/s]\n",
      "Iteration:  61%|██████▏   | 38/62 [00:01<00:00, 32.38it/s]"
     ]
    },
    {
     "name": "stdout",
     "output_type": "stream",
     "text": [
      "{'Train':  best_epoch_indx:36\n",
      " auc:0.8562167001409431 \n",
      " apur:0.8241201780176427 \n",
      " f1:0.7378477437961906 \n",
      " precision:0.6986800182066454 \n",
      " recall:0.7816677275620624 \n",
      ", 'Validation':  best_epoch_indx:36\n",
      " auc:0.8562167001409431 \n",
      " apur:0.8241201780176427 \n",
      " f1:0.7378477437961906 \n",
      " precision:0.6986800182066454 \n",
      " recall:0.7816677275620624 \n",
      ", 'Test':  best_epoch_indx:36\n",
      " auc:0.8562167001409431 \n",
      " apur:0.8241201780176427 \n",
      " f1:0.7378477437961906 \n",
      " precision:0.6986800182066454 \n",
      " recall:0.7816677275620624 \n",
      "}\n",
      "=====Epoch 37\n",
      "Training...\n"
     ]
    },
    {
     "name": "stderr",
     "output_type": "stream",
     "text": [
      "Iteration: 100%|██████████| 62/62 [00:01<00:00, 33.82it/s]\n",
      "Iteration:  45%|████▌     | 28/62 [00:00<00:01, 32.99it/s]"
     ]
    },
    {
     "name": "stdout",
     "output_type": "stream",
     "text": [
      "Evaluating...\n"
     ]
    },
    {
     "name": "stderr",
     "output_type": "stream",
     "text": [
      "Iteration: 100%|██████████| 62/62 [00:01<00:00, 41.92it/s]\n",
      "Iteration: 100%|██████████| 62/62 [00:01<00:00, 34.02it/s]\n",
      "Iteration: 100%|██████████| 62/62 [00:01<00:00, 38.15it/s]\n",
      "Iteration:   8%|▊         | 5/62 [00:00<00:01, 41.94it/s]]"
     ]
    },
    {
     "name": "stdout",
     "output_type": "stream",
     "text": [
      "Evaluating...\n"
     ]
    },
    {
     "name": "stderr",
     "output_type": "stream",
     "text": [
      "Iteration: 100%|██████████| 62/62 [00:01<00:00, 39.25it/s]\n",
      "Iteration: 100%|██████████| 62/62 [00:01<00:00, 32.52it/s]\n",
      "Iteration: 100%|██████████| 62/62 [00:01<00:00, 32.20it/s]\n",
      "Iteration:   0%|          | 0/62 [00:00<?, ?it/s]"
     ]
    },
    {
     "name": "stdout",
     "output_type": "stream",
     "text": [
      "{'Train':  best_epoch_indx:34\n",
      " auc:0.8484728822632382 \n",
      " apur:0.8137939047811856 \n",
      " f1:0.7248037872181388 \n",
      " precision:0.7095987315526283 \n",
      " recall:0.7406747294716741 \n",
      ", 'Validation':  best_epoch_indx:34\n",
      " auc:0.8484728882177494 \n",
      " apur:0.8137939133935069 \n",
      " f1:0.7248037872181388 \n",
      " precision:0.7095987315526283 \n",
      " recall:0.7406747294716741 \n",
      ", 'Test':  best_epoch_indx:34\n",
      " auc:0.8484728882177494 \n",
      " apur:0.8137939133935069 \n",
      " f1:0.7248037872181388 \n",
      " precision:0.7095987315526283 \n",
      " recall:0.7406747294716741 \n",
      "}\n",
      "=====Epoch 35\n",
      "Training...\n"
     ]
    },
    {
     "name": "stderr",
     "output_type": "stream",
     "text": [
      "Iteration: 100%|██████████| 62/62 [00:01<00:00, 38.59it/s]\n",
      "Iteration: 100%|██████████| 62/62 [00:01<00:00, 32.66it/s]\n",
      "Iteration:  95%|█████████▌| 59/62 [00:01<00:00, 31.45it/s]"
     ]
    },
    {
     "name": "stdout",
     "output_type": "stream",
     "text": [
      "{'Train':  best_epoch_indx:32\n",
      " auc:0.8538971679749721 \n",
      " apur:0.8230506990011661 \n",
      " f1:0.7414274677601473 \n",
      " precision:0.6952741863575569 \n",
      " recall:0.7941438574156588 \n",
      ", 'Validation':  best_epoch_indx:32\n",
      " auc:0.8538971679749721 \n",
      " apur:0.8230506990011662 \n",
      " f1:0.7414274677601473 \n",
      " precision:0.6952741863575569 \n",
      " recall:0.7941438574156588 \n",
      ", 'Test':  best_epoch_indx:32\n",
      " auc:0.8538971679749721 \n",
      " apur:0.8230506990011662 \n",
      " f1:0.7414274677601473 \n",
      " precision:0.6952741863575569 \n",
      " recall:0.7941438574156588 \n",
      "}\n",
      "=====Epoch 33\n",
      "Training...\n"
     ]
    },
    {
     "name": "stderr",
     "output_type": "stream",
     "text": [
      "Iteration: 100%|██████████| 62/62 [00:02<00:00, 30.05it/s]\n",
      "Iteration: 100%|██████████| 62/62 [00:01<00:00, 35.29it/s]\n",
      "Iteration:  29%|██▉       | 18/62 [00:00<00:01, 38.18it/s]"
     ]
    },
    {
     "name": "stdout",
     "output_type": "stream",
     "text": [
      "Evaluating...\n"
     ]
    },
    {
     "name": "stderr",
     "output_type": "stream",
     "text": [
      "Iteration:   0%|          | 0/62 [00:00<?, ?it/s]1.92it/s]"
     ]
    },
    {
     "name": "stdout",
     "output_type": "stream",
     "text": [
      "{'Train':  best_epoch_indx:35\n",
      " auc:0.8499681850482649 \n",
      " apur:0.8183902781918211 \n",
      " f1:0.7349310094408134 \n",
      " precision:0.700426808167032 \n",
      " recall:0.7730108211330363 \n",
      ", 'Validation':  best_epoch_indx:35\n",
      " auc:0.8499681790931969 \n",
      " apur:0.8183902754589113 \n",
      " f1:0.7349310094408134 \n",
      " precision:0.700426808167032 \n",
      " recall:0.7730108211330363 \n",
      ", 'Test':  best_epoch_indx:35\n",
      " auc:0.8499681850482649 \n",
      " apur:0.8183902781918211 \n",
      " f1:0.7349310094408134 \n",
      " precision:0.700426808167032 \n",
      " recall:0.7730108211330363 \n",
      "}\n",
      "=====Epoch 36\n",
      "Training...\n"
     ]
    },
    {
     "name": "stderr",
     "output_type": "stream",
     "text": [
      "Iteration: 100%|██████████| 62/62 [00:01<00:00, 34.96it/s]\n",
      "Iteration: 100%|██████████| 62/62 [00:02<00:00, 26.81it/s]\n",
      "Iteration:  84%|████████▍ | 52/62 [00:01<00:00, 41.96it/s]"
     ]
    },
    {
     "name": "stdout",
     "output_type": "stream",
     "text": [
      "Evaluating...\n"
     ]
    },
    {
     "name": "stderr",
     "output_type": "stream",
     "text": [
      "Iteration: 100%|██████████| 62/62 [00:01<00:00, 32.73it/s]\n",
      "Iteration: 100%|██████████| 62/62 [00:01<00:00, 40.49it/s]\n",
      "Iteration:  95%|█████████▌| 59/62 [00:01<00:00, 36.35it/s]"
     ]
    },
    {
     "name": "stdout",
     "output_type": "stream",
     "text": [
      "Evaluating...\n"
     ]
    },
    {
     "name": "stderr",
     "output_type": "stream",
     "text": [
      "Iteration:  29%|██▉       | 18/62 [00:00<00:01, 40.48it/s]\n",
      "Iteration:   0%|          | 0/62 [00:00<?, ?it/s]3.88it/s]"
     ]
    },
    {
     "name": "stdout",
     "output_type": "stream",
     "text": [
      "{'Train':  best_epoch_indx:38\n",
      " auc:0.874169028297829 \n",
      " apur:0.8450506843041194 \n",
      " f1:0.755238791423002 \n",
      " precision:0.7240976521434412 \n",
      " recall:0.7891788669637174 \n",
      ", 'Validation':  best_epoch_indx:38\n",
      " auc:0.874169028297829 \n",
      " apur:0.8450506843041194 \n",
      " f1:0.755238791423002 \n",
      " precision:0.7240976521434412 \n",
      " recall:0.7891788669637174 \n",
      ", 'Test':  best_epoch_indx:38\n",
      " auc:0.874169028297829 \n",
      " apur:0.8450506843041194 \n",
      " f1:0.755238791423002 \n",
      " precision:0.7240976521434412 \n",
      " recall:0.7891788669637174 \n",
      "}\n",
      "=====Epoch 39\n",
      "Training...\n"
     ]
    },
    {
     "name": "stderr",
     "output_type": "stream",
     "text": [
      "Iteration: 100%|██████████| 62/62 [00:01<00:00, 38.63it/s]\n",
      "Iteration: 100%|██████████| 62/62 [00:01<00:00, 38.10it/s]\n",
      "Iteration: 100%|██████████| 62/62 [00:02<00:00, 29.06it/s]\n",
      "Iteration:  71%|███████   | 44/62 [00:01<00:00, 31.44it/s]"
     ]
    },
    {
     "name": "stdout",
     "output_type": "stream",
     "text": [
      "{'Train':  best_epoch_indx:37\n",
      " auc:0.8672308665183199 \n",
      " apur:0.8365828705465139 \n",
      " f1:0.7443673121422482 \n",
      " precision:0.7134352748920275 \n",
      " recall:0.7781031190324634 \n",
      ", 'Validation':  best_epoch_indx:37\n",
      " auc:0.8672308665183199 \n",
      " apur:0.8365828705465137 \n",
      " f1:0.7443673121422482 \n",
      " precision:0.7134352748920275 \n",
      " recall:0.7781031190324634 \n",
      ", 'Test':  best_epoch_indx:37\n",
      " auc:0.8672308665183199 \n",
      " apur:0.8365828705465137 \n",
      " f1:0.7443673121422482 \n",
      " precision:0.7134352748920275 \n",
      " recall:0.7781031190324634 \n",
      "}\n",
      "=====Epoch 38\n",
      "Training...\n"
     ]
    },
    {
     "name": "stderr",
     "output_type": "stream",
     "text": [
      "Iteration:  27%|██▋       | 17/62 [00:00<00:01, 35.16it/s]"
     ]
    },
    {
     "name": "stdout",
     "output_type": "stream",
     "text": [
      "Evaluating...\n"
     ]
    },
    {
     "name": "stderr",
     "output_type": "stream",
     "text": [
      "Iteration: 100%|██████████| 62/62 [00:01<00:00, 32.74it/s]\n",
      "Iteration: 100%|██████████| 62/62 [00:02<00:00, 24.55it/s]\n",
      "Iteration: 100%|██████████| 62/62 [00:01<00:00, 36.62it/s]\n",
      "Iteration: 100%|██████████| 62/62 [00:01<00:00, 33.89it/s]\n",
      "Iteration:  29%|██▉       | 18/62 [00:00<00:02, 20.81it/s]"
     ]
    },
    {
     "name": "stdout",
     "output_type": "stream",
     "text": [
      "Evaluating...\n"
     ]
    },
    {
     "name": "stderr",
     "output_type": "stream",
     "text": [
      "Iteration: 100%|██████████| 62/62 [00:02<00:00, 31.00it/s]\n",
      "Iteration: 100%|██████████| 62/62 [00:02<00:00, 28.77it/s]\n",
      "Iteration: 100%|██████████| 62/62 [00:01<00:00, 44.71it/s]\n",
      "Iteration: 100%|██████████| 62/62 [00:01<00:00, 48.53it/s]\n",
      "Iteration:  56%|█████▋    | 35/62 [00:01<00:00, 31.61it/s]"
     ]
    },
    {
     "name": "stdout",
     "output_type": "stream",
     "text": [
      "{'Train':  best_epoch_indx:36\n",
      " auc:0.8569901036890515 \n",
      " apur:0.826664729606366 \n",
      " f1:0.7310756972111554 \n",
      " precision:0.7153124619320258 \n",
      " recall:0.7475493316359006 \n",
      ", 'Validation':  best_epoch_indx:36\n",
      " auc:0.8569901036890515 \n",
      " apur:0.826664729606366 \n",
      " f1:0.7310756972111554 \n",
      " precision:0.7153124619320258 \n",
      " recall:0.7475493316359006 \n",
      ", 'Test':  best_epoch_indx:36\n",
      " auc:0.8569901096441197 \n",
      " apur:0.8266647342209309 \n",
      " f1:0.7310756972111554 \n",
      " precision:0.7153124619320258 \n",
      " recall:0.7475493316359006 \n",
      "}\n",
      "=====Epoch 37\n",
      "Training...\n"
     ]
    },
    {
     "name": "stderr",
     "output_type": "stream",
     "text": [
      "Iteration: 100%|██████████| 62/62 [00:01<00:00, 53.05it/s]\n",
      "Iteration: 100%|██████████| 62/62 [00:02<00:00, 27.21it/s]\n",
      "Iteration: 100%|██████████| 62/62 [00:01<00:00, 40.54it/s]\n",
      "Iteration:   8%|▊         | 5/62 [00:00<00:01, 40.67it/s]"
     ]
    },
    {
     "name": "stdout",
     "output_type": "stream",
     "text": [
      "Evaluating...\n"
     ]
    },
    {
     "name": "stderr",
     "output_type": "stream",
     "text": [
      "Iteration: 100%|██████████| 62/62 [00:01<00:00, 42.51it/s]\n",
      "Iteration: 100%|██████████| 62/62 [00:02<00:00, 28.87it/s]\n",
      "Iteration:   5%|▍         | 3/62 [00:00<00:02, 28.20it/s]]"
     ]
    },
    {
     "name": "stdout",
     "output_type": "stream",
     "text": [
      "{'Train':  best_epoch_indx:33\n",
      " auc:0.8466016711930875 \n",
      " apur:0.8168176857068232 \n",
      " f1:0.7218883588377424 \n",
      " precision:0.7031136857349747 \n",
      " recall:0.7416931890515596 \n",
      ", 'Validation':  best_epoch_indx:33\n",
      " auc:0.8466016711930875 \n",
      " apur:0.8168176857068232 \n",
      " f1:0.7218883588377424 \n",
      " precision:0.7031136857349747 \n",
      " recall:0.7416931890515596 \n",
      ", 'Test':  best_epoch_indx:33\n",
      " auc:0.8466016831021097 \n",
      " apur:0.816817693232187 \n",
      " f1:0.7218883588377424 \n",
      " precision:0.7031136857349747 \n",
      " recall:0.7416931890515596 \n",
      "}\n",
      "=====Epoch 34\n",
      "Training...\n",
      "{'Train':  best_epoch_indx:35\n",
      " auc:0.8543385699288852 \n",
      " apur:0.8224393139233335 \n",
      " f1:0.7375886524822693 \n",
      " precision:0.6986223386086758 \n",
      " recall:0.7811584977721197 \n",
      ", 'Validation':  best_epoch_indx:35\n",
      " auc:0.8543385699288852 \n",
      " apur:0.8224393139233335 \n",
      " f1:0.7375886524822693 \n",
      " precision:0.6986223386086758 \n",
      " recall:0.7811584977721197 \n",
      ", 'Test':  best_epoch_indx:35\n",
      " auc:0.8543385699288852 \n",
      " apur:0.8224393139233335 \n",
      " f1:0.7375886524822693 \n",
      " precision:0.6986223386086758 \n",
      " recall:0.7811584977721197 \n",
      "}\n",
      "=====Epoch 36\n",
      "Training...\n"
     ]
    },
    {
     "name": "stderr",
     "output_type": "stream",
     "text": [
      "Iteration: 100%|██████████| 62/62 [00:01<00:00, 44.81it/s]\n",
      "Iteration: 100%|██████████| 62/62 [00:01<00:00, 37.38it/s]\n",
      "Iteration:   0%|          | 0/62 [00:00<?, ?it/s]1.94it/s]"
     ]
    },
    {
     "name": "stdout",
     "output_type": "stream",
     "text": [
      "{'Train':  best_epoch_indx:39\n",
      " auc:0.8755075847023589 \n",
      " apur:0.8464247238538865 \n",
      " f1:0.7561907108537638 \n",
      " precision:0.7325456498388829 \n",
      " recall:0.781413112667091 \n",
      ", 'Validation':  best_epoch_indx:39\n",
      " auc:0.8755075847023589 \n",
      " apur:0.8464247238538865 \n",
      " f1:0.7561907108537638 \n",
      " precision:0.7325456498388829 \n",
      " recall:0.781413112667091 \n",
      ", 'Test':  best_epoch_indx:39\n",
      " auc:0.8755075847023589 \n",
      " apur:0.8464247238538865 \n",
      " f1:0.7561907108537638 \n",
      " precision:0.7325456498388829 \n",
      " recall:0.781413112667091 \n",
      "}\n",
      "=====Epoch 40\n",
      "Training...\n"
     ]
    },
    {
     "name": "stderr",
     "output_type": "stream",
     "text": [
      "Iteration: 100%|██████████| 62/62 [00:02<00:00, 30.63it/s]\n",
      "Iteration:   5%|▍         | 3/62 [00:00<00:02, 20.13it/s]]"
     ]
    },
    {
     "name": "stdout",
     "output_type": "stream",
     "text": [
      "Evaluating...\n"
     ]
    },
    {
     "name": "stderr",
     "output_type": "stream",
     "text": [
      "\r",
      "Iteration:  32%|███▏      | 20/62 [00:00<00:01, 30.43it/s]\r",
      "Iteration:  55%|█████▍    | 34/62 [00:01<00:00, 34.18it/s]\r",
      "Iteration:  94%|█████████▎| 58/62 [00:02<00:00, 23.67it/s]\r",
      "Iteration:  58%|█████▊    | 36/62 [00:01<00:00, 26.36it/s]\r",
      "Iteration:  10%|▉         | 6/62 [00:00<00:02, 19.79it/s]\r",
      "Iteration:  63%|██████▎   | 39/62 [00:01<00:00, 37.01it/s]\r",
      "Iteration:  39%|███▊      | 24/62 [00:00<00:01, 30.50it/s]\r",
      "Iteration:  63%|██████▎   | 39/62 [00:01<00:00, 25.94it/s]\r",
      "Iteration:  98%|█████████▊| 61/62 [00:02<00:00, 23.16it/s]\r",
      "Iteration:  13%|█▎        | 8/62 [00:00<00:02, 19.70it/s]"
     ]
    },
    {
     "name": "stdout",
     "output_type": "stream",
     "text": [
      "Evaluating...\n"
     ]
    },
    {
     "name": "stderr",
     "output_type": "stream",
     "text": [
      "Iteration: 100%|██████████| 62/62 [00:02<00:00, 25.06it/s]\n",
      "Iteration: 100%|██████████| 62/62 [00:01<00:00, 33.65it/s]\n",
      "Iteration:  65%|██████▍   | 40/62 [00:01<00:00, 30.76it/s]"
     ]
    },
    {
     "name": "stdout",
     "output_type": "stream",
     "text": [
      "Evaluating...\n"
     ]
    },
    {
     "name": "stderr",
     "output_type": "stream",
     "text": [
      "Iteration: 100%|██████████| 62/62 [00:02<00:00, 26.98it/s]\n",
      "Iteration: 100%|██████████| 62/62 [00:01<00:00, 31.09it/s]\n",
      "Iteration: 100%|██████████| 62/62 [00:02<00:00, 26.60it/s]\n"
     ]
    },
    {
     "name": "stdout",
     "output_type": "stream",
     "text": [
      "{'Train':  best_epoch_indx:38\n",
      " auc:0.8702856498068654 \n",
      " apur:0.8417250928004416 \n",
      " f1:0.7505505624665199 \n",
      " precision:0.7047842611222893 \n",
      " recall:0.8026734563971992 \n",
      ", 'Validation':  best_epoch_indx:38\n",
      " auc:0.8702856498068654 \n",
      " apur:0.8417250928004416 \n",
      " f1:0.7505505624665199 \n",
      " precision:0.7047842611222893 \n",
      " recall:0.8026734563971992 \n",
      ", 'Test':  best_epoch_indx:38\n",
      " auc:0.8702856557613765 \n",
      " apur:0.8417250957885614 \n",
      " f1:0.7505505624665199 \n",
      " precision:0.7047842611222893 \n",
      " recall:0.8026734563971992 \n",
      "}\n",
      "=====Epoch 39\n",
      "Training...\n"
     ]
    },
    {
     "name": "stderr",
     "output_type": "stream",
     "text": [
      "Iteration: 100%|██████████| 62/62 [00:01<00:00, 37.34it/s]\n",
      "Iteration: 100%|██████████| 62/62 [00:02<00:00, 21.20it/s]\n",
      "Iteration: 100%|██████████| 62/62 [00:01<00:00, 36.90it/s]\n",
      "Iteration: 100%|██████████| 62/62 [00:01<00:00, 43.67it/s]\n"
     ]
    },
    {
     "name": "stdout",
     "output_type": "stream",
     "text": [
      "Evaluating...\n"
     ]
    },
    {
     "name": "stderr",
     "output_type": "stream",
     "text": [
      "Iteration: 100%|██████████| 62/62 [00:01<00:00, 41.42it/s]\n",
      "Iteration:   0%|          | 0/62 [00:00<?, ?it/s]1.80it/s]"
     ]
    },
    {
     "name": "stdout",
     "output_type": "stream",
     "text": [
      "{'Train':  best_epoch_indx:37\n",
      " auc:0.8619691778772314 \n",
      " apur:0.8338821740039226 \n",
      " f1:0.7387499224132581 \n",
      " precision:0.7208091085271318 \n",
      " recall:0.7576066199872693 \n",
      ", 'Validation':  best_epoch_indx:37\n",
      " auc:0.8619691778772314 \n",
      " apur:0.8338821740039226 \n",
      " f1:0.7387499224132581 \n",
      " precision:0.7208091085271318 \n",
      " recall:0.7576066199872693 \n",
      ", 'Test':  best_epoch_indx:37\n",
      " auc:0.8619691778772314 \n",
      " apur:0.833882174003314 \n",
      " f1:0.7387499224132581 \n",
      " precision:0.7208091085271318 \n",
      " recall:0.7576066199872693 \n",
      "}\n",
      "=====Epoch 38\n",
      "Training...\n"
     ]
    },
    {
     "name": "stderr",
     "output_type": "stream",
     "text": [
      "Iteration: 100%|██████████| 62/62 [00:01<00:00, 52.58it/s]\n",
      "Iteration: 100%|██████████| 62/62 [00:02<00:00, 29.58it/s]\n",
      "Iteration: 100%|██████████| 62/62 [00:01<00:00, 41.74it/s]\n",
      "Iteration:  95%|█████████▌| 59/62 [00:02<00:00, 20.98it/s]"
     ]
    },
    {
     "name": "stdout",
     "output_type": "stream",
     "text": [
      "Evaluating...\n"
     ]
    },
    {
     "name": "stderr",
     "output_type": "stream",
     "text": [
      "Iteration: 100%|██████████| 62/62 [00:02<00:00, 21.75it/s]\n",
      "Iteration: 100%|██████████| 62/62 [00:00<00:00, 63.23it/s]\n",
      "Iteration:  40%|████      | 25/62 [00:00<00:00, 47.75it/s]"
     ]
    },
    {
     "name": "stdout",
     "output_type": "stream",
     "text": [
      "{'Train':  best_epoch_indx:40\n",
      " auc:0.8770589692884628 \n",
      " apur:0.8491438130478564 \n",
      " f1:0.7594583105605149 \n",
      " precision:0.7260798885276358 \n",
      " recall:0.796053469127944 \n",
      ", 'Validation':  best_epoch_indx:40\n",
      " auc:0.8770589692884628 \n",
      " apur:0.8491438130478564 \n",
      " f1:0.7594583105605149 \n",
      " precision:0.7260798885276358 \n",
      " recall:0.796053469127944 \n",
      ", 'Test':  best_epoch_indx:40\n",
      " auc:0.8770589692884628 \n",
      " apur:0.8491438130478564 \n",
      " f1:0.7594583105605149 \n",
      " precision:0.7260798885276358 \n",
      " recall:0.796053469127944 \n",
      "}\n",
      "=====Epoch 41\n",
      "Training...\n"
     ]
    },
    {
     "name": "stderr",
     "output_type": "stream",
     "text": [
      "Iteration: 100%|██████████| 62/62 [00:01<00:00, 38.15it/s]\n",
      "Iteration: 100%|██████████| 62/62 [00:01<00:00, 34.06it/s]\n",
      "Iteration:  35%|███▌      | 22/62 [00:01<00:02, 18.34it/s]"
     ]
    },
    {
     "name": "stdout",
     "output_type": "stream",
     "text": [
      "Evaluating...\n"
     ]
    },
    {
     "name": "stderr",
     "output_type": "stream",
     "text": [
      "Iteration: 100%|██████████| 62/62 [00:01<00:00, 40.64it/s]\n",
      "Iteration: 100%|██████████| 62/62 [00:03<00:00, 19.91it/s]\n",
      "Iteration: 100%|██████████| 62/62 [00:01<00:00, 35.08it/s]\n",
      "Iteration: 100%|██████████| 62/62 [00:03<00:00, 19.99it/s]\n",
      "Iteration:  81%|████████  | 50/62 [00:01<00:00, 17.15it/s]"
     ]
    },
    {
     "name": "stdout",
     "output_type": "stream",
     "text": [
      "{'Train':  best_epoch_indx:34\n",
      " auc:0.845455267033028 \n",
      " apur:0.8137082541065821 \n",
      " f1:0.7186925951732437 \n",
      " precision:0.7152042360060514 \n",
      " recall:0.7222151495862508 \n",
      ", 'Validation':  best_epoch_indx:34\n",
      " auc:0.845455267033028 \n",
      " apur:0.8137082541065821 \n",
      " f1:0.7186925951732437 \n",
      " precision:0.7152042360060514 \n",
      " recall:0.7222151495862508 \n",
      ", 'Test':  best_epoch_indx:34\n",
      " auc:0.845455267033028 \n",
      " apur:0.8137082541065821 \n",
      " f1:0.7186925951732437 \n",
      " precision:0.7152042360060514 \n",
      " recall:0.7222151495862508 \n",
      "}\n",
      "=====Epoch 35\n",
      "Training...\n",
      "{'Train':  best_epoch_indx:36\n",
      " auc:0.860794540189675 \n",
      " apur:0.8281363622029285 \n",
      " f1:0.7413161001677748 \n",
      " precision:0.7240835154163632 \n",
      " recall:0.7593889242520687 \n",
      ", 'Validation':  best_epoch_indx:36\n",
      " auc:0.8607945342351639 \n",
      " apur:0.8281363536759886 \n",
      " f1:0.7413161001677748 \n",
      " precision:0.7240835154163632 \n",
      " recall:0.7593889242520687 \n",
      ", 'Test':  best_epoch_indx:36\n",
      " auc:0.860794540189675 \n",
      " apur:0.8281363622029285 \n",
      " f1:0.7413161001677748 \n",
      " precision:0.7240835154163632 \n",
      " recall:0.7593889242520687 \n",
      "}\n",
      "=====Epoch 37\n",
      "Training...\n"
     ]
    },
    {
     "name": "stderr",
     "output_type": "stream",
     "text": [
      "Iteration: 100%|██████████| 62/62 [00:02<00:00, 26.23it/s]\n",
      "Iteration: 100%|██████████| 62/62 [00:02<00:00, 30.45it/s]\n",
      "Iteration: 100%|██████████| 62/62 [00:01<00:00, 41.37it/s]\n",
      "Iteration:   6%|▋         | 4/62 [00:00<00:01, 32.98it/s]]"
     ]
    },
    {
     "name": "stdout",
     "output_type": "stream",
     "text": [
      "Evaluating...\n"
     ]
    },
    {
     "name": "stderr",
     "output_type": "stream",
     "text": [
      "Iteration: 100%|██████████| 62/62 [00:01<00:00, 35.16it/s]\n",
      "Iteration: 100%|██████████| 62/62 [00:02<00:00, 28.60it/s]\n",
      "Iteration:  32%|███▏      | 20/62 [00:00<00:01, 41.56it/s]"
     ]
    },
    {
     "name": "stdout",
     "output_type": "stream",
     "text": [
      "Evaluating...\n",
      "{'Train':  best_epoch_indx:39\n",
      " auc:0.8810648214033712 \n",
      " apur:0.8529521525929125 \n",
      " f1:0.7599826657586825 \n",
      " precision:0.7396963123644251 \n",
      " recall:0.781413112667091 \n",
      ", 'Validation':  best_epoch_indx:39\n",
      " auc:0.8810648214033712 \n",
      " apur:0.8529521525929125 \n",
      " f1:0.7599826657586825 \n",
      " precision:0.7396963123644251 \n",
      " recall:0.781413112667091 \n",
      ", 'Test':  best_epoch_indx:39\n",
      " auc:0.8810648214033712 \n",
      " apur:0.8529521525929125 \n",
      " f1:0.7599826657586825 \n",
      " precision:0.7396963123644251 \n",
      " recall:0.781413112667091 \n",
      "}\n",
      "=====Epoch 40\n",
      "Training...\n"
     ]
    },
    {
     "name": "stderr",
     "output_type": "stream",
     "text": [
      "Iteration: 100%|██████████| 62/62 [00:01<00:00, 36.54it/s]\n",
      "Iteration: 100%|██████████| 62/62 [00:01<00:00, 37.50it/s]\n",
      "Iteration: 100%|██████████| 62/62 [00:01<00:00, 33.30it/s]\n",
      "Iteration: 100%|██████████| 62/62 [00:01<00:00, 31.54it/s]\n",
      "Iteration:   8%|▊         | 5/62 [00:00<00:01, 39.97it/s]]"
     ]
    },
    {
     "name": "stdout",
     "output_type": "stream",
     "text": [
      "Evaluating...\n",
      "{'Train':  best_epoch_indx:38\n",
      " auc:0.8710384191818941 \n",
      " apur:0.843124361704777 \n",
      " f1:0.747046118663448 \n",
      " precision:0.7455306200076075 \n",
      " recall:0.7485677912157861 \n",
      ", 'Validation':  best_epoch_indx:38\n",
      " auc:0.8710384191818941 \n",
      " apur:0.843124361704777 \n",
      " f1:0.747046118663448 \n",
      " precision:0.7455306200076075 \n",
      " recall:0.7485677912157861 \n",
      ", 'Test':  best_epoch_indx:38\n",
      " auc:0.8710384191818941 \n",
      " apur:0.843124361704777 \n",
      " f1:0.747046118663448 \n",
      " precision:0.7455306200076075 \n",
      " recall:0.7485677912157861 \n",
      "}\n",
      "=====Epoch 39\n",
      "Training...\n"
     ]
    },
    {
     "name": "stderr",
     "output_type": "stream",
     "text": [
      "Iteration: 100%|██████████| 62/62 [00:01<00:00, 38.06it/s]\n",
      "Iteration:  74%|███████▍  | 46/62 [00:01<00:00, 31.89it/s]"
     ]
    },
    {
     "name": "stdout",
     "output_type": "stream",
     "text": [
      "{'Train':  best_epoch_indx:41\n",
      " auc:0.8794858501327296 \n",
      " apur:0.8507935018534503 \n",
      " f1:0.7627906976744186 \n",
      " precision:0.7344725987035946 \n",
      " recall:0.7933800127307448 \n",
      ", 'Validation':  best_epoch_indx:41\n",
      " auc:0.8794858441776614 \n",
      " apur:0.850793478166973 \n",
      " f1:0.7627906976744186 \n",
      " precision:0.7344725987035946 \n",
      " recall:0.7933800127307448 \n",
      ", 'Test':  best_epoch_indx:41\n",
      " auc:0.8794858441776614 \n",
      " apur:0.850793478166973 \n",
      " f1:0.7627906976744186 \n",
      " precision:0.7344725987035946 \n",
      " recall:0.7933800127307448 \n",
      "}\n",
      "=====Epoch 42\n",
      "Training...\n"
     ]
    },
    {
     "name": "stderr",
     "output_type": "stream",
     "text": [
      "Iteration: 100%|██████████| 62/62 [00:02<00:00, 30.08it/s]\n",
      "Iteration: 100%|██████████| 62/62 [00:01<00:00, 37.49it/s]\n",
      "Iteration:  32%|███▏      | 20/62 [00:00<00:00, 42.39it/s]"
     ]
    },
    {
     "name": "stdout",
     "output_type": "stream",
     "text": [
      "Evaluating...\n"
     ]
    },
    {
     "name": "stderr",
     "output_type": "stream",
     "text": [
      "Iteration: 100%|██████████| 62/62 [00:01<00:00, 31.85it/s]\n",
      "Iteration: 100%|██████████| 62/62 [00:01<00:00, 34.92it/s]\n",
      "Iteration: 100%|██████████| 62/62 [00:01<00:00, 40.20it/s]\n",
      "Iteration:   8%|▊         | 5/62 [00:00<00:01, 44.21it/s]]"
     ]
    },
    {
     "name": "stdout",
     "output_type": "stream",
     "text": [
      "Evaluating...\n"
     ]
    },
    {
     "name": "stderr",
     "output_type": "stream",
     "text": [
      "Iteration: 100%|██████████| 62/62 [00:01<00:00, 32.41it/s]\n",
      "Iteration: 100%|██████████| 62/62 [00:01<00:00, 39.67it/s]\n",
      "Iteration: 100%|██████████| 62/62 [00:01<00:00, 39.99it/s]\n",
      "Iteration: 100%|██████████| 62/62 [00:02<00:00, 24.67it/s]\n",
      "Iteration:  60%|█████▉    | 37/62 [00:00<00:00, 79.74it/s]"
     ]
    },
    {
     "name": "stdout",
     "output_type": "stream",
     "text": [
      "{'Train':  best_epoch_indx:35\n",
      " auc:0.8542717007691442 \n",
      " apur:0.8208732603884635 \n",
      " f1:0.7271689497716894 \n",
      " precision:0.7245039807911032 \n",
      " recall:0.7298535964353915 \n",
      ", 'Validation':  best_epoch_indx:35\n",
      " auc:0.8542717007691442 \n",
      " apur:0.8208732603884635 \n",
      " f1:0.7271689497716894 \n",
      " precision:0.7245039807911032 \n",
      " recall:0.7298535964353915 \n",
      ", 'Test':  best_epoch_indx:35\n",
      " auc:0.8542717007691442 \n",
      " apur:0.8208732603884634 \n",
      " f1:0.7271689497716894 \n",
      " precision:0.7245039807911032 \n",
      " recall:0.7298535964353915 \n",
      "}\n",
      "=====Epoch 36\n",
      "Training...\n"
     ]
    },
    {
     "name": "stderr",
     "output_type": "stream",
     "text": [
      "Iteration: 100%|██████████| 62/62 [00:01<00:00, 37.71it/s]\n",
      "Iteration: 100%|██████████| 62/62 [00:01<00:00, 50.65it/s]\n",
      "Iteration: 100%|██████████| 62/62 [00:00<00:00, 67.46it/s]\n",
      "Iteration:  76%|███████▌  | 47/62 [00:01<00:00, 30.92it/s]"
     ]
    },
    {
     "name": "stdout",
     "output_type": "stream",
     "text": [
      "{'Train':  best_epoch_indx:37\n",
      " auc:0.865239219506502 \n",
      " apur:0.8335625652751002 \n",
      " f1:0.7488434380326273 \n",
      " precision:0.7174851277265835 \n",
      " recall:0.7830681094844049 \n",
      ", 'Validation':  best_epoch_indx:37\n",
      " auc:0.865239219506502 \n",
      " apur:0.8335625652751002 \n",
      " f1:0.7488434380326273 \n",
      " precision:0.7174851277265835 \n",
      " recall:0.7830681094844049 \n",
      ", 'Test':  best_epoch_indx:37\n",
      " auc:0.865239219506502 \n",
      " apur:0.8335625652751002 \n",
      " f1:0.7488434380326273 \n",
      " precision:0.7174851277265835 \n",
      " recall:0.7830681094844049 \n",
      "}\n",
      "=====Epoch 38\n",
      "Training...\n"
     ]
    },
    {
     "name": "stderr",
     "output_type": "stream",
     "text": [
      "Iteration: 100%|██████████| 62/62 [00:01<00:00, 36.55it/s]\n",
      "Iteration: 100%|██████████| 62/62 [00:01<00:00, 31.90it/s]\n",
      "Iteration:   5%|▍         | 3/62 [00:00<00:01, 29.72it/s]"
     ]
    },
    {
     "name": "stdout",
     "output_type": "stream",
     "text": [
      "Evaluating...\n"
     ]
    },
    {
     "name": "stderr",
     "output_type": "stream",
     "text": [
      "\r",
      "Iteration:  31%|███       | 19/62 [00:00<00:01, 41.03it/s]\r",
      "Iteration:   0%|          | 0/62 [00:00<?, ?it/s]\r",
      "Iteration:  11%|█▏        | 7/62 [00:00<00:02, 27.39it/s]\r",
      "Iteration:  39%|███▊      | 24/62 [00:00<00:00, 40.18it/s]\r",
      "Iteration:   8%|▊         | 5/62 [00:00<00:01, 43.90it/s]\r",
      "Iteration:   0%|          | 0/62 [00:00<?, ?it/s]"
     ]
    },
    {
     "name": "stdout",
     "output_type": "stream",
     "text": [
      "{'Train':  best_epoch_indx:40\n",
      " auc:0.8781638252732078 \n",
      " apur:0.8500411398131182 \n",
      " f1:0.7571179197014385 \n",
      " precision:0.7180863210778716 \n",
      " recall:0.8006365372374283 \n",
      ", 'Validation':  best_epoch_indx:40\n",
      " auc:0.8781638193186967 \n",
      " apur:0.8500411371857415 \n",
      " f1:0.7571179197014385 \n",
      " precision:0.7180863210778716 \n",
      " recall:0.8006365372374283 \n",
      ", 'Test':  best_epoch_indx:40\n",
      " auc:0.8781638252732078 \n",
      " apur:0.8500411398121555 \n",
      " f1:0.7571179197014385 \n",
      " precision:0.7180863210778716 \n",
      " recall:0.8006365372374283 \n",
      "}\n",
      "=====Epoch 41\n",
      "Training...\n"
     ]
    },
    {
     "name": "stderr",
     "output_type": "stream",
     "text": [
      "Iteration: 100%|██████████| 62/62 [00:01<00:00, 38.46it/s]\n",
      "Iteration:  24%|██▍       | 15/62 [00:00<00:01, 31.38it/s]"
     ]
    },
    {
     "name": "stdout",
     "output_type": "stream",
     "text": [
      "Evaluating...\n"
     ]
    },
    {
     "name": "stderr",
     "output_type": "stream",
     "text": [
      "\r",
      "Iteration:  87%|████████▋ | 54/62 [00:01<00:00, 43.06it/s]\r",
      "Iteration:  10%|▉         | 6/62 [00:00<00:02, 26.22it/s]\r",
      "Iteration:  76%|███████▌  | 47/62 [00:01<00:00, 28.47it/s]\r",
      "Iteration:  31%|███       | 19/62 [00:00<00:01, 31.64it/s]\r",
      "Iteration:  95%|█████████▌| 59/62 [00:01<00:00, 43.08it/s]\r",
      "Iteration:  60%|█████▉    | 37/62 [00:01<00:01, 20.98it/s]\r",
      "Iteration:  15%|█▍        | 9/62 [00:00<00:02, 25.49it/s]\r",
      "Iteration: 100%|██████████| 62/62 [00:01<00:00, 41.98it/s]\n",
      "\r",
      "Iteration:   0%|          | 0/62 [00:00<?, ?it/s]"
     ]
    },
    {
     "name": "stdout",
     "output_type": "stream",
     "text": [
      "Evaluating...\n"
     ]
    },
    {
     "name": "stderr",
     "output_type": "stream",
     "text": [
      "Iteration: 100%|██████████| 62/62 [00:02<00:00, 30.22it/s]\n",
      "Iteration: 100%|██████████| 62/62 [00:02<00:00, 22.49it/s]\n",
      "Iteration: 100%|██████████| 62/62 [00:02<00:00, 28.02it/s]\n",
      "Iteration:  92%|█████████▏| 57/62 [00:02<00:00, 29.70it/s]"
     ]
    },
    {
     "name": "stdout",
     "output_type": "stream",
     "text": [
      "{'Train':  best_epoch_indx:39\n",
      " auc:0.8792368627771854 \n",
      " apur:0.851580290496787 \n",
      " f1:0.7577733199598796 \n",
      " precision:0.7464493022106953 \n",
      " recall:0.7694462126034373 \n",
      ", 'Validation':  best_epoch_indx:39\n",
      " auc:0.8792368627771854 \n",
      " apur:0.8515802904967871 \n",
      " f1:0.7577733199598796 \n",
      " precision:0.7464493022106953 \n",
      " recall:0.7694462126034373 \n",
      ", 'Test':  best_epoch_indx:39\n",
      " auc:0.8792368627771854 \n",
      " apur:0.8515802904967871 \n",
      " f1:0.7577733199598796 \n",
      " precision:0.7464493022106953 \n",
      " recall:0.7694462126034373 \n",
      "}\n",
      "=====Epoch 40\n",
      "Training...\n"
     ]
    },
    {
     "name": "stderr",
     "output_type": "stream",
     "text": [
      "\r",
      "Iteration:   5%|▍         | 3/62 [00:00<00:02, 25.90it/s]\r",
      "Iteration:  97%|█████████▋| 60/62 [00:02<00:00, 29.64it/s]\r",
      "Iteration:  13%|█▎        | 8/62 [00:00<00:01, 35.59it/s]\r",
      "Iteration: 100%|██████████| 62/62 [00:02<00:00, 28.04it/s]\n"
     ]
    },
    {
     "name": "stdout",
     "output_type": "stream",
     "text": [
      "{'Train':  best_epoch_indx:42\n",
      " auc:0.8765162839255023 \n",
      " apur:0.8475227051587844 \n",
      " f1:0.7579825834542815 \n",
      " precision:0.7219214376223937 \n",
      " recall:0.7978357733927435 \n",
      ", 'Validation':  best_epoch_indx:42\n",
      " auc:0.8765162839255023 \n",
      " apur:0.8475227051587844 \n",
      " f1:0.7579825834542815 \n",
      " precision:0.7219214376223937 \n",
      " recall:0.7978357733927435 \n",
      ", 'Test':  best_epoch_indx:42\n",
      " auc:0.8765162839255023 \n",
      " apur:0.8475227051587844 \n",
      " f1:0.7579825834542815 \n",
      " precision:0.7219214376223937 \n",
      " recall:0.7978357733927435 \n",
      "}\n",
      "=====Epoch 43\n",
      "Training...\n"
     ]
    },
    {
     "name": "stderr",
     "output_type": "stream",
     "text": [
      "Iteration: 100%|██████████| 62/62 [00:02<00:00, 30.41it/s]\n",
      "Iteration: 100%|██████████| 62/62 [00:01<00:00, 32.89it/s]\n",
      "Iteration:  92%|█████████▏| 57/62 [00:02<00:00, 32.04it/s]"
     ]
    },
    {
     "name": "stdout",
     "output_type": "stream",
     "text": [
      "Evaluating...\n"
     ]
    },
    {
     "name": "stderr",
     "output_type": "stream",
     "text": [
      "\r",
      "Iteration:   5%|▍         | 3/62 [00:00<00:02, 26.00it/s]\r",
      "Iteration:  56%|█████▋    | 35/62 [00:01<00:01, 24.38it/s]\r",
      "Iteration:  95%|█████████▌| 59/62 [00:01<00:00, 32.39it/s]\r",
      "Iteration:  77%|███████▋  | 48/62 [00:01<00:00, 24.80it/s]\r",
      "Iteration:  98%|█████████▊| 61/62 [00:02<00:00, 32.41it/s]\r",
      "Iteration: 100%|██████████| 62/62 [00:02<00:00, 25.24it/s]\n",
      "\r",
      "Iteration:   0%|          | 0/62 [00:00<?, ?it/s]\r",
      "Iteration:  10%|▉         | 6/62 [00:00<00:02, 25.51it/s]\r",
      "Iteration: 100%|██████████| 62/62 [00:02<00:00, 30.87it/s]\n",
      "\r",
      "Iteration:  61%|██████▏   | 38/62 [00:01<00:00, 24.43it/s]\r",
      "Iteration:  82%|████████▏ | 51/62 [00:01<00:00, 24.80it/s]"
     ]
    },
    {
     "name": "stdout",
     "output_type": "stream",
     "text": [
      "Evaluating...\n"
     ]
    },
    {
     "name": "stderr",
     "output_type": "stream",
     "text": [
      "Iteration: 100%|██████████| 62/62 [00:02<00:00, 27.37it/s]\n",
      "Iteration: 100%|██████████| 62/62 [00:02<00:00, 20.82it/s]\n",
      "Iteration: 100%|██████████| 62/62 [00:01<00:00, 37.42it/s]\n",
      "Iteration: 100%|██████████| 62/62 [00:02<00:00, 29.89it/s]\n",
      "Iteration: 100%|██████████| 62/62 [00:01<00:00, 37.58it/s]\n",
      "Iteration:   6%|▋         | 4/62 [00:00<00:01, 37.70it/s]]"
     ]
    },
    {
     "name": "stdout",
     "output_type": "stream",
     "text": [
      "{'Train':  best_epoch_indx:36\n",
      " auc:0.8618074739832524 \n",
      " apur:0.831812231133449 \n",
      " f1:0.7444063571205983 \n",
      " precision:0.7291819291819291 \n",
      " recall:0.7602800763844685 \n",
      ", 'Validation':  best_epoch_indx:36\n",
      " auc:0.8618074739832524 \n",
      " apur:0.831812231133449 \n",
      " f1:0.7444063571205983 \n",
      " precision:0.7291819291819291 \n",
      " recall:0.7602800763844685 \n",
      ", 'Test':  best_epoch_indx:36\n",
      " auc:0.8618074739832524 \n",
      " apur:0.831812231133449 \n",
      " f1:0.7444063571205983 \n",
      " precision:0.7291819291819291 \n",
      " recall:0.7602800763844685 \n",
      "}\n",
      "=====Epoch 37\n",
      "Training...\n"
     ]
    },
    {
     "name": "stderr",
     "output_type": "stream",
     "text": [
      "Iteration: 100%|██████████| 62/62 [00:01<00:00, 32.10it/s]\n",
      "Iteration: 100%|██████████| 62/62 [00:01<00:00, 42.00it/s]\n",
      "Iteration: 100%|██████████| 62/62 [00:02<00:00, 27.15it/s]\n",
      "Iteration: 100%|██████████| 62/62 [00:02<00:00, 24.37it/s]\n",
      "Iteration: 100%|██████████| 62/62 [00:02<00:00, 24.80it/s]\n"
     ]
    },
    {
     "name": "stdout",
     "output_type": "stream",
     "text": [
      "Evaluating...\n",
      "{'Train':  best_epoch_indx:41\n",
      " auc:0.8770420191985348 \n",
      " apur:0.8479698924318755 \n",
      " f1:0.7574734515990424 \n",
      " precision:0.731389284020863 \n",
      " recall:0.7854869509866327 \n",
      ", 'Validation':  best_epoch_indx:41\n",
      " auc:0.8770420191985348 \n",
      " apur:0.8479698924318755 \n",
      " f1:0.7574734515990424 \n",
      " precision:0.731389284020863 \n",
      " recall:0.7854869509866327 \n",
      ", 'Test':  best_epoch_indx:41\n",
      " auc:0.8770420191985348 \n",
      " apur:0.8479698924318755 \n",
      " f1:0.7574734515990424 \n",
      " precision:0.731389284020863 \n",
      " recall:0.7854869509866327 \n",
      "}\n",
      "=====Epoch 42\n",
      "Training...\n"
     ]
    },
    {
     "name": "stderr",
     "output_type": "stream",
     "text": [
      "Iteration:  24%|██▍       | 15/62 [00:00<00:02, 18.38it/s]"
     ]
    },
    {
     "name": "stdout",
     "output_type": "stream",
     "text": [
      "{'Train':  best_epoch_indx:38\n",
      " auc:0.8741362535049739 \n",
      " apur:0.845125571775202 \n",
      " f1:0.7579401788467468 \n",
      " precision:0.7350478468899522 \n",
      " recall:0.7823042647994908 \n",
      ", 'Validation':  best_epoch_indx:38\n",
      " auc:0.8741362535049739 \n",
      " apur:0.845125571775202 \n",
      " f1:0.7579401788467468 \n",
      " precision:0.7350478468899522 \n",
      " recall:0.7823042647994908 \n",
      ", 'Test':  best_epoch_indx:38\n",
      " auc:0.8741362535049739 \n",
      " apur:0.845125571775202 \n",
      " f1:0.7579401788467468 \n",
      " precision:0.7350478468899522 \n",
      " recall:0.7823042647994908 \n",
      "}\n",
      "=====Epoch 39\n",
      "Training...\n"
     ]
    },
    {
     "name": "stderr",
     "output_type": "stream",
     "text": [
      "Iteration: 100%|██████████| 62/62 [00:01<00:00, 35.32it/s]\n",
      "Iteration:  69%|██████▉   | 43/62 [00:01<00:00, 33.30it/s]"
     ]
    },
    {
     "name": "stdout",
     "output_type": "stream",
     "text": [
      "Evaluating...\n"
     ]
    },
    {
     "name": "stderr",
     "output_type": "stream",
     "text": [
      "Iteration: 100%|██████████| 62/62 [00:02<00:00, 29.44it/s]\n",
      "Iteration: 100%|██████████| 62/62 [00:01<00:00, 34.41it/s]\n",
      "Iteration:  55%|█████▍    | 34/62 [00:01<00:00, 30.05it/s]"
     ]
    },
    {
     "name": "stdout",
     "output_type": "stream",
     "text": [
      "Evaluating...\n"
     ]
    },
    {
     "name": "stderr",
     "output_type": "stream",
     "text": [
      "Iteration: 100%|██████████| 62/62 [00:02<00:00, 29.11it/s]\n",
      "Iteration: 100%|██████████| 62/62 [00:02<00:00, 24.98it/s]\n",
      "Iteration: 100%|██████████| 62/62 [00:02<00:00, 26.29it/s]\n",
      "Iteration:  76%|███████▌  | 47/62 [00:01<00:00, 39.79it/s]"
     ]
    },
    {
     "name": "stdout",
     "output_type": "stream",
     "text": [
      "{'Train':  best_epoch_indx:40\n",
      " auc:0.8782348094101274 \n",
      " apur:0.8503729259459928 \n",
      " f1:0.7595966958211857 \n",
      " precision:0.7263329074224648 \n",
      " recall:0.796053469127944 \n",
      ", 'Validation':  best_epoch_indx:40\n",
      " auc:0.8782348094101273 \n",
      " apur:0.8503729259459927 \n",
      " f1:0.7595966958211857 \n",
      " precision:0.7263329074224648 \n",
      " recall:0.796053469127944 \n",
      ", 'Test':  best_epoch_indx:40\n",
      " auc:0.8782348094101274 \n",
      " apur:0.8503729259459928 \n",
      " f1:0.7595966958211857 \n",
      " precision:0.7263329074224648 \n",
      " recall:0.796053469127944 \n",
      "}\n",
      "=====Epoch 41\n",
      "Training...\n"
     ]
    },
    {
     "name": "stderr",
     "output_type": "stream",
     "text": [
      "\r",
      "Iteration:  15%|█▍        | 9/62 [00:00<00:01, 39.80it/s]\r",
      "Iteration:  87%|████████▋ | 54/62 [00:01<00:00, 33.66it/s]\r",
      "Iteration:  84%|████████▍ | 52/62 [00:01<00:00, 40.59it/s]\r",
      "Iteration:  21%|██        | 13/62 [00:00<00:01, 38.77it/s]\r",
      "Iteration:  94%|█████████▎| 58/62 [00:01<00:00, 34.85it/s]\r",
      "Iteration:   0%|          | 0/62 [00:00<?, ?it/s]\r",
      "Iteration:  95%|█████████▌| 59/62 [00:01<00:00, 43.60it/s]"
     ]
    },
    {
     "name": "stdout",
     "output_type": "stream",
     "text": [
      "{'Train':  best_epoch_indx:43\n",
      " auc:0.8743445837076838 \n",
      " apur:0.8458680968728757 \n",
      " f1:0.7524148449415353 \n",
      " precision:0.7511737089201878 \n",
      " recall:0.7536600891152132 \n",
      ", 'Validation':  best_epoch_indx:43\n",
      " auc:0.8743445837076838 \n",
      " apur:0.8458680968728757 \n",
      " f1:0.7524148449415353 \n",
      " precision:0.7511737089201878 \n",
      " recall:0.7536600891152132 \n",
      ", 'Test':  best_epoch_indx:43\n",
      " auc:0.8743445837076838 \n",
      " apur:0.8458680968728757 \n",
      " f1:0.7524148449415353 \n",
      " precision:0.7511737089201878 \n",
      " recall:0.7536600891152132 \n",
      "}\n",
      "=====Epoch 44\n",
      "Training...\n"
     ]
    },
    {
     "name": "stderr",
     "output_type": "stream",
     "text": [
      "Iteration:   6%|▋         | 4/62 [00:00<00:01, 35.06it/s]]\n",
      "Iteration: 100%|██████████| 62/62 [00:02<00:00, 29.03it/s]\n",
      "Iteration: 100%|██████████| 62/62 [00:01<00:00, 37.38it/s]\n",
      "Iteration:  19%|█▉        | 12/62 [00:00<00:02, 21.98it/s]"
     ]
    },
    {
     "name": "stdout",
     "output_type": "stream",
     "text": [
      "Evaluating...\n"
     ]
    },
    {
     "name": "stderr",
     "output_type": "stream",
     "text": [
      "Iteration: 100%|██████████| 62/62 [00:01<00:00, 32.22it/s]\n",
      "Iteration:  65%|██████▍   | 40/62 [00:01<00:00, 23.42it/s]"
     ]
    },
    {
     "name": "stdout",
     "output_type": "stream",
     "text": [
      "Evaluating...\n"
     ]
    },
    {
     "name": "stderr",
     "output_type": "stream",
     "text": [
      "Iteration: 100%|██████████| 62/62 [00:02<00:00, 25.71it/s]\n",
      "Iteration: 100%|██████████| 62/62 [00:02<00:00, 25.46it/s]\n",
      "Iteration: 100%|██████████| 62/62 [00:02<00:00, 24.05it/s]\n",
      "Iteration: 100%|██████████| 62/62 [00:02<00:00, 24.87it/s]\n",
      "Iteration:  60%|█████▉    | 37/62 [00:02<00:00, 28.04it/s]"
     ]
    },
    {
     "name": "stdout",
     "output_type": "stream",
     "text": [
      "{'Train':  best_epoch_indx:37\n",
      " auc:0.8674580787531729 \n",
      " apur:0.8379893250961437 \n",
      " f1:0.7455483237136191 \n",
      " precision:0.7200806547266042 \n",
      " recall:0.7728835136855506 \n",
      ", 'Validation':  best_epoch_indx:37\n",
      " auc:0.8674580727986619 \n",
      " apur:0.8379893212714252 \n",
      " f1:0.7455483237136191 \n",
      " precision:0.7200806547266042 \n",
      " recall:0.7728835136855506 \n",
      ", 'Test':  best_epoch_indx:37\n",
      " auc:0.8674580787531729 \n",
      " apur:0.8379893250961438 \n",
      " f1:0.7455483237136191 \n",
      " precision:0.7200806547266042 \n",
      " recall:0.7728835136855506 \n",
      "}\n",
      "=====Epoch 38\n",
      "Training...\n"
     ]
    },
    {
     "name": "stderr",
     "output_type": "stream",
     "text": [
      "Iteration: 100%|██████████| 62/62 [00:02<00:00, 21.57it/s]\n",
      "Iteration: 100%|██████████| 62/62 [00:02<00:00, 29.27it/s]\n",
      "Iteration:  55%|█████▍    | 34/62 [00:01<00:01, 20.82it/s]"
     ]
    },
    {
     "name": "stdout",
     "output_type": "stream",
     "text": [
      "Evaluating...\n"
     ]
    },
    {
     "name": "stderr",
     "output_type": "stream",
     "text": [
      "Iteration: 100%|██████████| 62/62 [00:02<00:00, 21.31it/s]\n",
      "Iteration: 100%|██████████| 62/62 [00:02<00:00, 23.85it/s]\n",
      "Iteration: 100%|██████████| 62/62 [00:02<00:00, 21.27it/s]\n",
      "Iteration: 100%|██████████| 62/62 [00:01<00:00, 31.10it/s]\n",
      "Iteration:   6%|▋         | 4/62 [00:00<00:01, 31.65it/s]]"
     ]
    },
    {
     "name": "stdout",
     "output_type": "stream",
     "text": [
      "{'Train':  best_epoch_indx:42\n",
      " auc:0.8747014199722639 \n",
      " apur:0.8457206884259665 \n",
      " f1:0.7535945695772909 \n",
      " precision:0.7312574850299401 \n",
      " recall:0.7773392743475493 \n",
      ", 'Validation':  best_epoch_indx:42\n",
      " auc:0.8747014199722639 \n",
      " apur:0.8457206884259665 \n",
      " f1:0.7535945695772909 \n",
      " precision:0.7312574850299401 \n",
      " recall:0.7773392743475493 \n",
      ", 'Test':  best_epoch_indx:42\n",
      " auc:0.8747014199722639 \n",
      " apur:0.8457206884259665 \n",
      " f1:0.7535945695772909 \n",
      " precision:0.7312574850299401 \n",
      " recall:0.7773392743475493 \n",
      "}\n",
      "=====Epoch 43\n",
      "Training...\n",
      "{'Train':  best_epoch_indx:39\n",
      " auc:0.8805811007390144 \n",
      " apur:0.8512280041642134 \n",
      " f1:0.768271268543748 \n",
      " precision:0.7325635103926097 \n",
      " recall:0.8076384468491407 \n",
      ", 'Validation':  best_epoch_indx:39\n",
      " auc:0.8805811007390144 \n",
      " apur:0.8512280041642134 \n",
      " f1:0.768271268543748 \n",
      " precision:0.7325635103926097 \n",
      " recall:0.8076384468491407 \n",
      ", 'Test':  best_epoch_indx:39\n",
      " auc:0.8805811007390144 \n",
      " apur:0.8512280041642134 \n",
      " f1:0.768271268543748 \n",
      " precision:0.7325635103926097 \n",
      " recall:0.8076384468491407 \n",
      "}\n",
      "=====Epoch 40\n",
      "Training...\n"
     ]
    },
    {
     "name": "stderr",
     "output_type": "stream",
     "text": [
      "Iteration: 100%|██████████| 62/62 [00:02<00:00, 30.15it/s]\n",
      "Iteration: 100%|██████████| 62/62 [00:01<00:00, 37.12it/s]\n",
      "Iteration:   0%|          | 0/62 [00:00<?, ?it/s]"
     ]
    },
    {
     "name": "stdout",
     "output_type": "stream",
     "text": [
      "Evaluating...\n"
     ]
    },
    {
     "name": "stderr",
     "output_type": "stream",
     "text": [
      "Iteration: 100%|██████████| 62/62 [00:02<00:00, 26.31it/s]\n",
      "Iteration: 100%|██████████| 62/62 [00:01<00:00, 32.79it/s]\n",
      "Iteration:  39%|███▊      | 24/62 [00:00<00:01, 27.14it/s]"
     ]
    },
    {
     "name": "stdout",
     "output_type": "stream",
     "text": [
      "Evaluating...\n"
     ]
    },
    {
     "name": "stderr",
     "output_type": "stream",
     "text": [
      "Iteration:  39%|███▊      | 24/62 [00:00<00:01, 27.99it/s]"
     ]
    },
    {
     "name": "stdout",
     "output_type": "stream",
     "text": [
      "{'Train':  best_epoch_indx:44\n",
      " auc:0.8643351741044574 \n",
      " apur:0.8328491582147943 \n",
      " f1:0.7453040039545229 \n",
      " precision:0.7240965301957017 \n",
      " recall:0.7677912157861235 \n",
      ", 'Validation':  best_epoch_indx:44\n",
      " auc:0.8643351741044574 \n",
      " apur:0.8328491582147943 \n",
      " f1:0.7453040039545229 \n",
      " precision:0.7240965301957017 \n",
      " recall:0.7677912157861235 \n",
      ", 'Test':  best_epoch_indx:44\n",
      " auc:0.8643351741044574 \n",
      " apur:0.8328491582147943 \n",
      " f1:0.7453040039545229 \n",
      " precision:0.7240965301957017 \n",
      " recall:0.7677912157861235 \n",
      "}\n",
      "=====Epoch 45\n",
      "Training...\n"
     ]
    },
    {
     "name": "stderr",
     "output_type": "stream",
     "text": [
      "Iteration: 100%|██████████| 62/62 [00:02<00:00, 20.89it/s]\n",
      "Iteration: 100%|██████████| 62/62 [00:02<00:00, 27.65it/s]\n",
      "Iteration: 100%|██████████| 62/62 [00:02<00:00, 27.53it/s]\n",
      "Iteration:   0%|          | 0/62 [00:00<?, ?it/s]6.53it/s]"
     ]
    },
    {
     "name": "stdout",
     "output_type": "stream",
     "text": [
      "{'Train':  best_epoch_indx:41\n",
      " auc:0.873434947043663 \n",
      " apur:0.8459867264847285 \n",
      " f1:0.7505488302076145 \n",
      " precision:0.7397378832838774 \n",
      " recall:0.761680458306811 \n",
      ", 'Validation':  best_epoch_indx:41\n",
      " auc:0.873434947043663 \n",
      " apur:0.8459867264847285 \n",
      " f1:0.7505488302076145 \n",
      " precision:0.7397378832838774 \n",
      " recall:0.761680458306811 \n",
      ", 'Test':  best_epoch_indx:41\n",
      " auc:0.873434947043663 \n",
      " apur:0.8459867264847285 \n",
      " f1:0.7505488302076145 \n",
      " precision:0.7397378832838774 \n",
      " recall:0.761680458306811 \n",
      "}\n",
      "=====Epoch 42\n",
      "Training...\n"
     ]
    },
    {
     "name": "stderr",
     "output_type": "stream",
     "text": [
      "Iteration: 100%|██████████| 62/62 [00:02<00:00, 29.37it/s]\n",
      "Iteration: 100%|██████████| 62/62 [00:01<00:00, 39.33it/s]\n",
      "Iteration:   8%|▊         | 5/62 [00:00<00:01, 42.01it/s]]"
     ]
    },
    {
     "name": "stdout",
     "output_type": "stream",
     "text": [
      "Evaluating...\n"
     ]
    },
    {
     "name": "stderr",
     "output_type": "stream",
     "text": [
      "Iteration: 100%|██████████| 62/62 [00:01<00:00, 36.15it/s]\n",
      "Iteration:  76%|███████▌  | 47/62 [00:01<00:00, 31.59it/s]"
     ]
    },
    {
     "name": "stdout",
     "output_type": "stream",
     "text": [
      "Evaluating...\n"
     ]
    },
    {
     "name": "stderr",
     "output_type": "stream",
     "text": [
      "Iteration: 100%|██████████| 62/62 [00:01<00:00, 32.81it/s]\n",
      "Iteration: 100%|██████████| 62/62 [00:02<00:00, 23.36it/s]\n",
      "Iteration: 100%|██████████| 62/62 [00:02<00:00, 30.51it/s]\n",
      "Iteration: 100%|██████████| 62/62 [00:02<00:00, 27.46it/s]\n",
      "Iteration:  82%|████████▏ | 51/62 [00:01<00:00, 31.99it/s]"
     ]
    },
    {
     "name": "stdout",
     "output_type": "stream",
     "text": [
      "{'Train':  best_epoch_indx:38\n",
      " auc:0.8756093935985433 \n",
      " apur:0.8479935346109848 \n",
      " f1:0.7558232438080019 \n",
      " precision:0.7306321292775665 \n",
      " recall:0.7828134945894335 \n",
      ", 'Validation':  best_epoch_indx:38\n",
      " auc:0.8756093935985433 \n",
      " apur:0.8479935346109848 \n",
      " f1:0.7558232438080019 \n",
      " precision:0.7306321292775665 \n",
      " recall:0.7828134945894335 \n",
      ", 'Test':  best_epoch_indx:38\n",
      " auc:0.8756093995530544 \n",
      " apur:0.8479935392250343 \n",
      " f1:0.7558232438080019 \n",
      " precision:0.7306321292775665 \n",
      " recall:0.7828134945894335 \n",
      "}\n",
      "=====Epoch 39\n",
      "Training...\n"
     ]
    },
    {
     "name": "stderr",
     "output_type": "stream",
     "text": [
      "Iteration: 100%|██████████| 62/62 [00:02<00:00, 28.18it/s]\n",
      "Iteration: 100%|██████████| 62/62 [00:01<00:00, 34.20it/s]\n",
      "Iteration: 100%|██████████| 62/62 [00:01<00:00, 33.91it/s]\n",
      "Iteration:   0%|          | 0/62 [00:00<?, ?it/s]"
     ]
    },
    {
     "name": "stdout",
     "output_type": "stream",
     "text": [
      "Evaluating...\n"
     ]
    },
    {
     "name": "stderr",
     "output_type": "stream",
     "text": [
      "Iteration: 100%|██████████| 62/62 [00:02<00:00, 22.65it/s]\n",
      "Iteration: 100%|██████████| 62/62 [00:02<00:00, 28.24it/s]\n",
      "Iteration: 100%|██████████| 62/62 [00:02<00:00, 23.69it/s]\n",
      "Iteration:  66%|██████▌   | 41/62 [00:01<00:00, 39.98it/s]"
     ]
    },
    {
     "name": "stdout",
     "output_type": "stream",
     "text": [
      "{'Train':  best_epoch_indx:43\n",
      " auc:0.8747517177275917 \n",
      " apur:0.8444703377323394 \n",
      " f1:0.7493645775215424 \n",
      " precision:0.7303044949250845 \n",
      " recall:0.7694462126034373 \n",
      ", 'Validation':  best_epoch_indx:43\n",
      " auc:0.8747517236821031 \n",
      " apur:0.8444703423145876 \n",
      " f1:0.7493645775215424 \n",
      " precision:0.7303044949250845 \n",
      " recall:0.7694462126034373 \n",
      ", 'Test':  best_epoch_indx:43\n",
      " auc:0.8747517236821029 \n",
      " apur:0.8444703423145875 \n",
      " f1:0.7493645775215424 \n",
      " precision:0.7303044949250845 \n",
      " recall:0.7694462126034373 \n",
      "}\n",
      "=====Epoch 44\n",
      "Training...\n"
     ]
    },
    {
     "name": "stderr",
     "output_type": "stream",
     "text": [
      "Iteration:  87%|████████▋ | 54/62 [00:01<00:00, 30.16it/s]"
     ]
    },
    {
     "name": "stdout",
     "output_type": "stream",
     "text": [
      "{'Train':  best_epoch_indx:40\n",
      " auc:0.8812972616989769 \n",
      " apur:0.8522700975386469 \n",
      " f1:0.7610102015426723 \n",
      " precision:0.7440700644690427 \n",
      " recall:0.7787396562698918 \n",
      ", 'Validation':  best_epoch_indx:40\n",
      " auc:0.8812972616989769 \n",
      " apur:0.8522700975386469 \n",
      " f1:0.7610102015426723 \n",
      " precision:0.7440700644690427 \n",
      " recall:0.7787396562698918 \n",
      ", 'Test':  best_epoch_indx:40\n",
      " auc:0.8812972616989769 \n",
      " apur:0.8522700975386469 \n",
      " f1:0.7610102015426723 \n",
      " precision:0.7440700644690427 \n",
      " recall:0.7787396562698918 \n",
      "}\n",
      "=====Epoch 41\n",
      "Training...\n"
     ]
    },
    {
     "name": "stderr",
     "output_type": "stream",
     "text": [
      "Iteration: 100%|██████████| 62/62 [00:01<00:00, 35.74it/s]\n",
      "Iteration: 100%|██████████| 62/62 [00:02<00:00, 28.05it/s]\n",
      "Iteration:   5%|▍         | 3/62 [00:00<00:02, 22.31it/s]]"
     ]
    },
    {
     "name": "stdout",
     "output_type": "stream",
     "text": [
      "{'Train':  best_epoch_indx:45\n",
      " auc:0.8684876610094115 \n",
      " apur:0.840237529133297 \n",
      " f1:0.7515821812596006 \n",
      " precision:0.7263657957244656 \n",
      " recall:0.7786123488224062 \n",
      ", 'Validation':  best_epoch_indx:45\n",
      " auc:0.8684876610094117 \n",
      " apur:0.8402375291332969 \n",
      " f1:0.7515821812596006 \n",
      " precision:0.7263657957244656 \n",
      " recall:0.7786123488224062 \n",
      ", 'Test':  best_epoch_indx:45\n",
      " auc:0.8684876610094115 \n",
      " apur:0.840237529133297 \n",
      " f1:0.7515821812596006 \n",
      " precision:0.7263657957244656 \n",
      " recall:0.7786123488224062 \n",
      "}\n",
      "=====Epoch 46\n",
      "Training...\n"
     ]
    },
    {
     "name": "stderr",
     "output_type": "stream",
     "text": [
      "Iteration: 100%|██████████| 62/62 [00:01<00:00, 36.56it/s]\n",
      "Iteration:  94%|█████████▎| 58/62 [00:01<00:00, 35.73it/s]"
     ]
    },
    {
     "name": "stdout",
     "output_type": "stream",
     "text": [
      "Evaluating...\n",
      "Evaluating...\n"
     ]
    },
    {
     "name": "stderr",
     "output_type": "stream",
     "text": [
      "Iteration: 100%|██████████| 62/62 [00:01<00:00, 37.71it/s]\n",
      "Iteration: 100%|██████████| 62/62 [00:01<00:00, 40.07it/s]\n",
      "Iteration:  58%|█████▊    | 36/62 [00:01<00:01, 21.70it/s]"
     ]
    },
    {
     "name": "stdout",
     "output_type": "stream",
     "text": [
      "Evaluating...\n"
     ]
    },
    {
     "name": "stderr",
     "output_type": "stream",
     "text": [
      "Iteration: 100%|██████████| 62/62 [00:02<00:00, 28.91it/s]\n",
      "Iteration: 100%|██████████| 62/62 [00:01<00:00, 34.24it/s]\n",
      "Iteration: 100%|██████████| 62/62 [00:02<00:00, 22.82it/s]\n",
      "Iteration: 100%|██████████| 62/62 [00:03<00:00, 17.95it/s]\n",
      "Iteration: 100%|██████████| 62/62 [00:02<00:00, 22.39it/s]\n",
      "Iteration:   3%|▎         | 2/62 [00:00<00:03, 19.69it/s]]"
     ]
    },
    {
     "name": "stdout",
     "output_type": "stream",
     "text": [
      "{'Train':  best_epoch_indx:42\n",
      " auc:0.8724735191517077 \n",
      " apur:0.8464238826609656 \n",
      " f1:0.7523197715917201 \n",
      " precision:0.7060399687395333 \n",
      " recall:0.8050922978994272 \n",
      ", 'Validation':  best_epoch_indx:42\n",
      " auc:0.8724735191517077 \n",
      " apur:0.8464238826609656 \n",
      " f1:0.7523197715917201 \n",
      " precision:0.7060399687395333 \n",
      " recall:0.8050922978994272 \n",
      ", 'Test':  best_epoch_indx:42\n",
      " auc:0.8724735191517077 \n",
      " apur:0.8464238826609656 \n",
      " f1:0.7523197715917201 \n",
      " precision:0.7060399687395333 \n",
      " recall:0.8050922978994272 \n",
      "}\n",
      "=====Epoch 43\n",
      "Training...\n"
     ]
    },
    {
     "name": "stderr",
     "output_type": "stream",
     "text": [
      "Iteration: 100%|██████████| 62/62 [00:02<00:00, 28.72it/s]\n",
      "Iteration: 100%|██████████| 62/62 [00:01<00:00, 33.55it/s]\n",
      "Iteration:  82%|████████▏ | 51/62 [00:01<00:00, 25.23it/s]"
     ]
    },
    {
     "name": "stdout",
     "output_type": "stream",
     "text": [
      "{'Train':  best_epoch_indx:39\n",
      " auc:0.8801485888701852 \n",
      " apur:0.8530039694101919 \n",
      " f1:0.7637115408001947 \n",
      " precision:0.7309975555814224 \n",
      " recall:0.7994907702100573 \n",
      ", 'Validation':  best_epoch_indx:39\n",
      " auc:0.8801485829156741 \n",
      " apur:0.8530039645575708 \n",
      " f1:0.7637115408001947 \n",
      " precision:0.7309975555814224 \n",
      " recall:0.7994907702100573 \n",
      ", 'Test':  best_epoch_indx:39\n",
      " auc:0.8801485888701852 \n",
      " apur:0.8530039694101919 \n",
      " f1:0.7637115408001947 \n",
      " precision:0.7309975555814224 \n",
      " recall:0.7994907702100573 \n",
      "}\n",
      "=====Epoch 40\n",
      "Training...\n"
     ]
    },
    {
     "name": "stderr",
     "output_type": "stream",
     "text": [
      "Iteration: 100%|██████████| 62/62 [00:02<00:00, 27.66it/s]\n",
      "Iteration: 100%|██████████| 62/62 [00:02<00:00, 27.50it/s]\n",
      "Iteration:   5%|▍         | 3/62 [00:00<00:02, 21.70it/s]]"
     ]
    },
    {
     "name": "stdout",
     "output_type": "stream",
     "text": [
      "Evaluating...\n"
     ]
    },
    {
     "name": "stderr",
     "output_type": "stream",
     "text": [
      "Iteration: 100%|██████████| 62/62 [00:02<00:00, 26.68it/s]\n",
      "Iteration: 100%|██████████| 62/62 [00:01<00:00, 38.31it/s]\n",
      "Iteration: 100%|██████████| 62/62 [00:02<00:00, 23.71it/s]\n",
      "Iteration:  92%|█████████▏| 57/62 [00:02<00:00, 21.96it/s]"
     ]
    },
    {
     "name": "stdout",
     "output_type": "stream",
     "text": [
      "Evaluating...\n"
     ]
    },
    {
     "name": "stderr",
     "output_type": "stream",
     "text": [
      "Iteration: 100%|██████████| 62/62 [00:02<00:00, 24.96it/s]\n",
      "Iteration:  55%|█████▍    | 34/62 [00:01<00:00, 30.92it/s]"
     ]
    },
    {
     "name": "stdout",
     "output_type": "stream",
     "text": [
      "{'Train':  best_epoch_indx:46\n",
      " auc:0.8804912919335802 \n",
      " apur:0.85182751124547 \n",
      " f1:0.7617574257425744 \n",
      " precision:0.741119807344973 \n",
      " recall:0.7835773392743476 \n",
      ", 'Validation':  best_epoch_indx:46\n",
      " auc:0.8804912919335803 \n",
      " apur:0.8518275112447266 \n",
      " f1:0.7617574257425744 \n",
      " precision:0.741119807344973 \n",
      " recall:0.7835773392743476 \n",
      ", 'Test':  best_epoch_indx:46\n",
      " auc:0.8804912919335803 \n",
      " apur:0.8518275112447266 \n",
      " f1:0.7617574257425744 \n",
      " precision:0.741119807344973 \n",
      " recall:0.7835773392743476 \n",
      "}\n",
      "=====Epoch 47\n",
      "Training...\n"
     ]
    },
    {
     "name": "stderr",
     "output_type": "stream",
     "text": [
      "Iteration: 100%|██████████| 62/62 [00:01<00:00, 31.47it/s]\n",
      "Iteration: 100%|██████████| 62/62 [00:02<00:00, 29.99it/s]\n",
      "Iteration:  68%|██████▊   | 42/62 [00:01<00:00, 31.11it/s]"
     ]
    },
    {
     "name": "stdout",
     "output_type": "stream",
     "text": [
      "{'Train':  best_epoch_indx:44\n",
      " auc:0.8618243788402875 \n",
      " apur:0.8322246850316489 \n",
      " f1:0.7302904564315352 \n",
      " precision:0.7323943661971831 \n",
      " recall:0.7281985996180776 \n",
      ", 'Validation':  best_epoch_indx:44\n",
      " auc:0.8618243788402875 \n",
      " apur:0.8322246850316489 \n",
      " f1:0.7302904564315352 \n",
      " precision:0.7323943661971831 \n",
      " recall:0.7281985996180776 \n",
      ", 'Test':  best_epoch_indx:44\n",
      " auc:0.8618243788402875 \n",
      " apur:0.8322246850316489 \n",
      " f1:0.7302904564315352 \n",
      " precision:0.7323943661971831 \n",
      " recall:0.7281985996180776 \n",
      "}\n",
      "=====Epoch 45\n",
      "Training...\n"
     ]
    },
    {
     "name": "stderr",
     "output_type": "stream",
     "text": [
      "\r",
      "Iteration:  23%|██▎       | 14/62 [00:00<00:01, 24.62it/s]\r",
      "Iteration:  73%|███████▎  | 45/62 [00:01<00:00, 25.47it/s]\r",
      "Iteration:  16%|█▌        | 10/62 [00:00<00:01, 42.66it/s]\r",
      "Iteration:  74%|███████▍  | 46/62 [00:01<00:00, 32.25it/s]\r",
      "Iteration:  27%|██▋       | 17/62 [00:00<00:01, 23.89it/s]\r",
      "Iteration:  77%|███████▋  | 48/62 [00:01<00:00, 24.61it/s]\r",
      "Iteration:  81%|████████  | 50/62 [00:01<00:00, 33.25it/s]\r",
      "Iteration:  24%|██▍       | 15/62 [00:00<00:01, 40.65it/s]"
     ]
    },
    {
     "name": "stdout",
     "output_type": "stream",
     "text": [
      "{'Train':  best_epoch_indx:41\n",
      " auc:0.8778215897472845 \n",
      " apur:0.8478377931738746 \n",
      " f1:0.751478136573322 \n",
      " precision:0.7673832271762208 \n",
      " recall:0.7362189688096754 \n",
      ", 'Validation':  best_epoch_indx:41\n",
      " auc:0.8778215897472845 \n",
      " apur:0.8478377931731516 \n",
      " f1:0.751478136573322 \n",
      " precision:0.7673832271762208 \n",
      " recall:0.7362189688096754 \n",
      ", 'Test':  best_epoch_indx:41\n",
      " auc:0.8778215897472845 \n",
      " apur:0.8478377931738746 \n",
      " f1:0.751478136573322 \n",
      " precision:0.7673832271762208 \n",
      " recall:0.7362189688096754 \n",
      "}\n",
      "=====Epoch 42\n",
      "Training...\n"
     ]
    },
    {
     "name": "stderr",
     "output_type": "stream",
     "text": [
      "Iteration: 100%|██████████| 62/62 [00:01<00:00, 33.02it/s]\n",
      "Iteration:  18%|█▊        | 11/62 [00:00<00:01, 30.38it/s]"
     ]
    },
    {
     "name": "stdout",
     "output_type": "stream",
     "text": [
      "Evaluating...\n"
     ]
    },
    {
     "name": "stderr",
     "output_type": "stream",
     "text": [
      "Iteration: 100%|██████████| 62/62 [00:02<00:00, 23.41it/s]\n",
      "Iteration: 100%|██████████| 62/62 [00:01<00:00, 35.35it/s]\n",
      "Iteration:  95%|█████████▌| 59/62 [00:02<00:00, 28.12it/s]"
     ]
    },
    {
     "name": "stdout",
     "output_type": "stream",
     "text": [
      "Evaluating...\n"
     ]
    },
    {
     "name": "stderr",
     "output_type": "stream",
     "text": [
      "Iteration: 100%|██████████| 62/62 [00:02<00:00, 26.23it/s]\n",
      "Iteration: 100%|██████████| 62/62 [00:01<00:00, 33.58it/s]\n",
      "Iteration:   0%|          | 0/62 [00:00<?, ?it/s]"
     ]
    },
    {
     "name": "stdout",
     "output_type": "stream",
     "text": [
      "Evaluating...\n"
     ]
    },
    {
     "name": "stderr",
     "output_type": "stream",
     "text": [
      "Iteration: 100%|██████████| 62/62 [00:02<00:00, 26.62it/s]\n",
      "Iteration: 100%|██████████| 62/62 [00:01<00:00, 38.26it/s]\n",
      "Iteration: 100%|██████████| 62/62 [00:01<00:00, 33.61it/s]\n",
      "Iteration: 100%|██████████| 62/62 [00:02<00:00, 23.72it/s]\n",
      "Iteration: 100%|██████████| 62/62 [00:02<00:00, 29.14it/s]\n",
      "Iteration: 100%|██████████| 62/62 [00:02<00:00, 28.74it/s]\n",
      "Iteration: 100%|██████████| 62/62 [00:02<00:00, 29.87it/s]\n",
      "Iteration:   0%|          | 0/62 [00:00<?, ?it/s]3.87it/s]"
     ]
    },
    {
     "name": "stdout",
     "output_type": "stream",
     "text": [
      "{'Train':  best_epoch_indx:43\n",
      " auc:0.8671351042395977 \n",
      " apur:0.8385870835891418 \n",
      " f1:0.7435508345978756 \n",
      " precision:0.7105568445475638 \n",
      " recall:0.7797581158497772 \n",
      ", 'Validation':  best_epoch_indx:43\n",
      " auc:0.8671351042395977 \n",
      " apur:0.8385870835891418 \n",
      " f1:0.7435508345978756 \n",
      " precision:0.7105568445475638 \n",
      " recall:0.7797581158497772 \n",
      ", 'Test':  best_epoch_indx:43\n",
      " auc:0.8671351042395977 \n",
      " apur:0.8385870835891418 \n",
      " f1:0.7435508345978756 \n",
      " precision:0.7105568445475638 \n",
      " recall:0.7797581158497772 \n",
      "}\n",
      "=====Epoch 44\n",
      "Training...\n"
     ]
    },
    {
     "name": "stderr",
     "output_type": "stream",
     "text": [
      "Iteration: 100%|██████████| 62/62 [00:01<00:00, 33.09it/s]\n",
      "Iteration: 100%|██████████| 62/62 [00:02<00:00, 23.78it/s]\n",
      "Iteration:  92%|█████████▏| 57/62 [00:02<00:00, 27.98it/s]"
     ]
    },
    {
     "name": "stdout",
     "output_type": "stream",
     "text": [
      "{'Train':  best_epoch_indx:40\n",
      " auc:0.8814743071777463 \n",
      " apur:0.8550150962165606 \n",
      " f1:0.7650037046184243 \n",
      " precision:0.7427167006354154 \n",
      " recall:0.7886696371737747 \n",
      ", 'Validation':  best_epoch_indx:40\n",
      " auc:0.8814743071777463 \n",
      " apur:0.8550150962165606 \n",
      " f1:0.7650037046184243 \n",
      " precision:0.7427167006354154 \n",
      " recall:0.7886696371737747 \n",
      ", 'Test':  best_epoch_indx:40\n",
      " auc:0.8814743012232352 \n",
      " apur:0.8550150925081128 \n",
      " f1:0.7650037046184243 \n",
      " precision:0.7427167006354154 \n",
      " recall:0.7886696371737747 \n",
      "}\n",
      "=====Epoch 41\n",
      "Training...\n"
     ]
    },
    {
     "name": "stderr",
     "output_type": "stream",
     "text": [
      "\r",
      "Iteration: 100%|██████████| 62/62 [00:02<00:00, 26.00it/s]\r",
      "Iteration: 100%|██████████| 62/62 [00:02<00:00, 29.11it/s]\n",
      "\r",
      "Iteration:   0%|          | 0/62 [00:00<?, ?it/s]\r",
      "Iteration:   8%|▊         | 5/62 [00:00<00:02, 22.06it/s]\r",
      "Iteration:  65%|██████▍   | 40/62 [00:01<00:00, 25.98it/s]\r",
      "Iteration:  39%|███▊      | 24/62 [00:00<00:01, 24.41it/s]\r",
      "Iteration:  97%|█████████▋| 60/62 [00:02<00:00, 27.15it/s]\r",
      "Iteration: 100%|██████████| 62/62 [00:02<00:00, 27.84it/s]\n",
      "\r",
      "Iteration:   5%|▍         | 3/62 [00:00<00:02, 22.31it/s]\r",
      "Iteration:  13%|█▎        | 8/62 [00:00<00:02, 23.60it/s]\r",
      "Iteration:  69%|██████▉   | 43/62 [00:01<00:00, 25.85it/s]\r",
      "Iteration:  44%|████▎     | 27/62 [00:01<00:01, 24.29it/s]"
     ]
    },
    {
     "name": "stdout",
     "output_type": "stream",
     "text": [
      "Evaluating...\n"
     ]
    },
    {
     "name": "stderr",
     "output_type": "stream",
     "text": [
      "Iteration: 100%|██████████| 62/62 [00:02<00:00, 30.26it/s]\n",
      "Iteration:  42%|████▏     | 26/62 [00:01<00:01, 22.58it/s]"
     ]
    },
    {
     "name": "stdout",
     "output_type": "stream",
     "text": [
      "{'Train':  best_epoch_indx:47\n",
      " auc:0.8903572975400387 \n",
      " apur:0.8648687697405564 \n",
      " f1:0.7671848660797901 \n",
      " precision:0.7527566772849792 \n",
      " recall:0.7821769573520051 \n",
      ", 'Validation':  best_epoch_indx:47\n",
      " auc:0.8903572975400387 \n",
      " apur:0.8648687697405564 \n",
      " f1:0.7671848660797901 \n",
      " precision:0.7527566772849792 \n",
      " recall:0.7821769573520051 \n",
      ", 'Test':  best_epoch_indx:47\n",
      " auc:0.8903572975400387 \n",
      " apur:0.8648687697405564 \n",
      " f1:0.7671848660797901 \n",
      " precision:0.7527566772849792 \n",
      " recall:0.7821769573520051 \n",
      "}\n",
      "=====Epoch 48\n",
      "Training...\n",
      "{'Train':  best_epoch_indx:45\n",
      " auc:0.8824731406890203 \n",
      " apur:0.8549442055432107 \n",
      " f1:0.7647653977488301 \n",
      " precision:0.7597688151777862 \n",
      " recall:0.7698281349458943 \n",
      ", 'Validation':  best_epoch_indx:45\n",
      " auc:0.8824731406890203 \n",
      " apur:0.8549442055432107 \n",
      " f1:0.7647653977488301 \n",
      " precision:0.7597688151777862 \n",
      " recall:0.7698281349458943 \n",
      ", 'Test':  best_epoch_indx:45\n",
      " auc:0.8824731406890203 \n",
      " apur:0.8549442055432107 \n",
      " f1:0.7647653977488301 \n",
      " precision:0.7597688151777862 \n",
      " recall:0.7698281349458943 \n",
      "}\n",
      "=====Epoch 46\n",
      "Training...\n"
     ]
    },
    {
     "name": "stderr",
     "output_type": "stream",
     "text": [
      "Iteration: 100%|██████████| 62/62 [00:02<00:00, 21.32it/s]\n",
      "Iteration: 100%|██████████| 62/62 [00:02<00:00, 25.09it/s]\n",
      "Iteration: 100%|██████████| 62/62 [00:01<00:00, 41.37it/s]\n",
      "Iteration:   5%|▍         | 3/62 [00:00<00:02, 22.40it/s]]"
     ]
    },
    {
     "name": "stdout",
     "output_type": "stream",
     "text": [
      "Evaluating...\n",
      "Evaluating...\n"
     ]
    },
    {
     "name": "stderr",
     "output_type": "stream",
     "text": [
      "Iteration: 100%|██████████| 62/62 [00:01<00:00, 33.49it/s]\n",
      "Iteration:   0%|          | 0/62 [00:00<?, ?it/s]0.52it/s]"
     ]
    },
    {
     "name": "stdout",
     "output_type": "stream",
     "text": [
      "Evaluating...\n",
      "{'Train':  best_epoch_indx:42\n",
      " auc:0.8793966055713978 \n",
      " apur:0.8496013145684146 \n",
      " f1:0.7641071966275218 \n",
      " precision:0.7250285714285715 \n",
      " recall:0.8076384468491407 \n",
      ", 'Validation':  best_epoch_indx:42\n",
      " auc:0.8793966055713978 \n",
      " apur:0.8496013145684146 \n",
      " f1:0.7641071966275218 \n",
      " precision:0.7250285714285715 \n",
      " recall:0.8076384468491407 \n",
      ", 'Test':  best_epoch_indx:42\n",
      " auc:0.8793965996168867 \n",
      " apur:0.8496013117675758 \n",
      " f1:0.7641071966275218 \n",
      " precision:0.7250285714285715 \n",
      " recall:0.8076384468491407 \n",
      "}\n",
      "=====Epoch 43\n",
      "Training...\n"
     ]
    },
    {
     "name": "stderr",
     "output_type": "stream",
     "text": [
      "Iteration: 100%|██████████| 62/62 [00:03<00:00, 16.59it/s]\n",
      "Iteration: 100%|██████████| 62/62 [00:02<00:00, 27.49it/s]\n",
      "Iteration: 100%|██████████| 62/62 [00:01<00:00, 36.12it/s]\n",
      "Iteration:   6%|▋         | 4/62 [00:00<00:01, 30.99it/s]]"
     ]
    },
    {
     "name": "stdout",
     "output_type": "stream",
     "text": [
      "Evaluating...\n"
     ]
    },
    {
     "name": "stderr",
     "output_type": "stream",
     "text": [
      "Iteration: 100%|██████████| 62/62 [00:02<00:00, 27.10it/s]\n",
      "Iteration: 100%|██████████| 62/62 [00:03<00:00, 19.05it/s]\n",
      "Iteration: 100%|██████████| 62/62 [00:01<00:00, 34.34it/s]\n",
      "Iteration: 100%|██████████| 62/62 [00:02<00:00, 26.41it/s]\n",
      "Iteration: 100%|██████████| 62/62 [00:02<00:00, 29.50it/s]\n",
      "Iteration: 100%|██████████| 62/62 [00:02<00:00, 26.67it/s]\n",
      "Iteration: 100%|██████████| 62/62 [00:02<00:00, 24.77it/s]\n",
      "Iteration: 100%|██████████| 62/62 [00:02<00:00, 25.79it/s]\n",
      "Iteration: 100%|██████████| 62/62 [00:02<00:00, 29.45it/s]\n",
      "Iteration: 100%|██████████| 62/62 [00:02<00:00, 27.33it/s]\n",
      "Iteration: 100%|██████████| 62/62 [00:02<00:00, 23.13it/s]\n",
      "Iteration: 100%|██████████| 62/62 [00:02<00:00, 30.99it/s]\n"
     ]
    },
    {
     "name": "stdout",
     "output_type": "stream",
     "text": [
      "{'Train':  best_epoch_indx:48\n",
      " auc:0.8946803852381244 \n",
      " apur:0.8695775320573444 \n",
      " f1:0.7753479125248509 \n",
      " precision:0.7571896614488532 \n",
      " recall:0.7943984723106302 \n",
      ", 'Validation':  best_epoch_indx:48\n",
      " auc:0.8946803852381244 \n",
      " apur:0.8695775320573444 \n",
      " f1:0.7753479125248509 \n",
      " precision:0.7571896614488532 \n",
      " recall:0.7943984723106302 \n",
      ", 'Test':  best_epoch_indx:48\n",
      " auc:0.8946803852381244 \n",
      " apur:0.8695775320573444 \n",
      " f1:0.7753479125248509 \n",
      " precision:0.7571896614488532 \n",
      " recall:0.7943984723106302 \n",
      "}\n",
      "=====Epoch 49\n",
      "Training...\n"
     ]
    },
    {
     "name": "stderr",
     "output_type": "stream",
     "text": [
      "\r",
      "Iteration:  50%|█████     | 31/62 [00:00<00:00, 49.90it/s]\r",
      "Iteration:   8%|▊         | 5/62 [00:00<00:01, 39.55it/s]\r",
      "Iteration:  60%|█████▉    | 37/62 [00:00<00:00, 52.55it/s]\r",
      "Iteration:  15%|█▍        | 9/62 [00:00<00:01, 39.35it/s]"
     ]
    },
    {
     "name": "stdout",
     "output_type": "stream",
     "text": [
      "{'Train':  best_epoch_indx:44\n",
      " auc:0.8573488310409596 \n",
      " apur:0.8283380837545326 \n",
      " f1:0.7356689785997985 \n",
      " precision:0.6883736410028845 \n",
      " recall:0.7899427116486314 \n",
      ", 'Validation':  best_epoch_indx:44\n",
      " auc:0.8573488310409596 \n",
      " apur:0.8283380837545326 \n",
      " f1:0.7356689785997985 \n",
      " precision:0.6883736410028845 \n",
      " recall:0.7899427116486314 \n",
      ", 'Test':  best_epoch_indx:44\n",
      " auc:0.8573488310409596 \n",
      " apur:0.8283380837545326 \n",
      " f1:0.7356689785997985 \n",
      " precision:0.6883736410028845 \n",
      " recall:0.7899427116486314 \n",
      "}\n",
      "=====Epoch 45\n",
      "Training...\n",
      "{'Train':  best_epoch_indx:41\n",
      " auc:0.8755864568217558 \n",
      " apur:0.8475042094436819 \n",
      " f1:0.7579038544824599 \n",
      " precision:0.7372412132883968 \n",
      " recall:0.7797581158497772 \n",
      ", 'Validation':  best_epoch_indx:41\n",
      " auc:0.8755864568217558 \n",
      " apur:0.8475042094436819 \n",
      " f1:0.7579038544824599 \n",
      " precision:0.7372412132883968 \n",
      " recall:0.7797581158497772 \n",
      ", 'Test':  best_epoch_indx:41\n",
      " auc:0.8755864568217558 \n",
      " apur:0.8475042094447488 \n",
      " f1:0.7579038544824599 \n",
      " precision:0.7372412132883968 \n",
      " recall:0.7797581158497772 \n",
      "}\n",
      "=====Epoch 42\n",
      "Training...\n"
     ]
    },
    {
     "name": "stderr",
     "output_type": "stream",
     "text": [
      "Iteration:  39%|███▊      | 24/62 [00:00<00:01, 37.75it/s]"
     ]
    },
    {
     "name": "stdout",
     "output_type": "stream",
     "text": [
      "{'Train':  best_epoch_indx:46\n",
      " auc:0.8793387098598963 \n",
      " apur:0.8499691259925081 \n",
      " f1:0.7593052109181142 \n",
      " precision:0.7236963544070143 \n",
      " recall:0.7985996180776576 \n",
      ", 'Validation':  best_epoch_indx:46\n",
      " auc:0.8793387098598964 \n",
      " apur:0.8499691259925083 \n",
      " f1:0.7593052109181142 \n",
      " precision:0.7236963544070143 \n",
      " recall:0.7985996180776576 \n",
      ", 'Test':  best_epoch_indx:46\n",
      " auc:0.8793387098598963 \n",
      " apur:0.8499691259925084 \n",
      " f1:0.7593052109181142 \n",
      " precision:0.7236963544070143 \n",
      " recall:0.7985996180776576 \n",
      "}\n",
      "=====Epoch 47\n",
      "Training...\n"
     ]
    },
    {
     "name": "stderr",
     "output_type": "stream",
     "text": [
      "Iteration: 100%|██████████| 62/62 [00:01<00:00, 34.89it/s]\n",
      "Iteration: 100%|██████████| 62/62 [00:01<00:00, 39.73it/s]\n",
      "Iteration:  42%|████▏     | 26/62 [00:00<00:00, 38.62it/s]"
     ]
    },
    {
     "name": "stdout",
     "output_type": "stream",
     "text": [
      "Evaluating...\n"
     ]
    },
    {
     "name": "stderr",
     "output_type": "stream",
     "text": [
      "\r",
      "Iteration:  71%|███████   | 44/62 [00:01<00:00, 31.35it/s]\r",
      "Iteration:  84%|████████▍ | 52/62 [00:01<00:00, 41.39it/s]\r",
      "Iteration:   6%|▋         | 4/62 [00:00<00:01, 39.99it/s]\r",
      "Iteration:  92%|█████████▏| 57/62 [00:01<00:00, 41.83it/s]\r",
      "Iteration:  77%|███████▋  | 48/62 [00:01<00:00, 31.34it/s]\r",
      "Iteration:  15%|█▍        | 9/62 [00:00<00:01, 39.99it/s]"
     ]
    },
    {
     "name": "stdout",
     "output_type": "stream",
     "text": [
      "{'Train':  best_epoch_indx:43\n",
      " auc:0.873318234678001 \n",
      " apur:0.8445574552204745 \n",
      " f1:0.7541763123318527 \n",
      " precision:0.7415108267716536 \n",
      " recall:0.7672819859961808 \n",
      ", 'Validation':  best_epoch_indx:43\n",
      " auc:0.8733182227689787 \n",
      " apur:0.8445574462329533 \n",
      " f1:0.7541763123318527 \n",
      " precision:0.7415108267716536 \n",
      " recall:0.7672819859961808 \n",
      ", 'Test':  best_epoch_indx:43\n",
      " auc:0.873318234678001 \n",
      " apur:0.8445574552192365 \n",
      " f1:0.7541763123318527 \n",
      " precision:0.7415108267716536 \n",
      " recall:0.7672819859961808 \n",
      "}\n",
      "=====Epoch 44\n",
      "Training...\n",
      "Evaluating...\n"
     ]
    },
    {
     "name": "stderr",
     "output_type": "stream",
     "text": [
      "Iteration: 100%|██████████| 62/62 [00:01<00:00, 38.46it/s]\n",
      "Iteration: 100%|██████████| 62/62 [00:01<00:00, 32.66it/s]\n",
      "Iteration:  23%|██▎       | 14/62 [00:00<00:01, 40.16it/s]"
     ]
    },
    {
     "name": "stdout",
     "output_type": "stream",
     "text": [
      "Evaluating...\n"
     ]
    },
    {
     "name": "stderr",
     "output_type": "stream",
     "text": [
      "Iteration: 100%|██████████| 62/62 [00:02<00:00, 25.48it/s]\n",
      "Iteration: 100%|██████████| 62/62 [00:01<00:00, 42.52it/s]\n",
      "Iteration: 100%|██████████| 62/62 [00:01<00:00, 33.06it/s]\n"
     ]
    },
    {
     "name": "stdout",
     "output_type": "stream",
     "text": [
      "Evaluating...\n",
      "Evaluating...\n"
     ]
    },
    {
     "name": "stderr",
     "output_type": "stream",
     "text": [
      "Iteration: 100%|██████████| 62/62 [00:02<00:00, 28.63it/s]\n",
      "Iteration: 100%|██████████| 62/62 [00:02<00:00, 24.97it/s]\n",
      "Iteration: 100%|██████████| 62/62 [00:01<00:00, 33.08it/s]\n",
      "Iteration: 100%|██████████| 62/62 [00:02<00:00, 28.45it/s]\n",
      "Iteration: 100%|██████████| 62/62 [00:01<00:00, 42.24it/s]\n",
      "Iteration: 100%|██████████| 62/62 [00:01<00:00, 45.27it/s]\n",
      "Iteration: 100%|██████████| 62/62 [00:01<00:00, 34.56it/s]\n",
      "Iteration: 100%|██████████| 62/62 [00:02<00:00, 25.32it/s]\n",
      "Iteration: 100%|██████████| 62/62 [00:02<00:00, 26.71it/s]\n",
      "Iteration: 100%|██████████| 62/62 [00:02<00:00, 28.35it/s]\n",
      "Iteration:  19%|█▉        | 12/62 [00:00<00:00, 55.08it/s]"
     ]
    },
    {
     "name": "stdout",
     "output_type": "stream",
     "text": [
      "{'Train':  best_epoch_indx:49\n",
      " auc:0.9037450709156316 \n",
      " apur:0.8803720362580216 \n",
      " f1:0.7868413036856533 \n",
      " precision:0.7544392523364486 \n",
      " recall:0.8221514958625079 \n",
      ", 'Validation':  best_epoch_indx:49\n",
      " auc:0.9037450709156316 \n",
      " apur:0.8803720362580216 \n",
      " f1:0.7868413036856533 \n",
      " precision:0.7544392523364486 \n",
      " recall:0.8221514958625079 \n",
      ", 'Test':  best_epoch_indx:49\n",
      " auc:0.9037450709156316 \n",
      " apur:0.8803720362580216 \n",
      " f1:0.7868413036856533 \n",
      " precision:0.7544392523364486 \n",
      " recall:0.8221514958625079 \n",
      "}\n",
      "=====Epoch 50\n",
      "Training...\n"
     ]
    },
    {
     "name": "stderr",
     "output_type": "stream",
     "text": [
      "Iteration: 100%|██████████| 62/62 [00:02<00:00, 30.74it/s]\n",
      "Iteration:   6%|▋         | 4/62 [00:00<00:01, 30.70it/s]]"
     ]
    },
    {
     "name": "stdout",
     "output_type": "stream",
     "text": [
      "{'Train':  best_epoch_indx:42\n",
      " auc:0.8736295424732301 \n",
      " apur:0.8469451750334697 \n",
      " f1:0.7525098210388477 \n",
      " precision:0.7374725006110975 \n",
      " recall:0.7681731381285806 \n",
      ", 'Validation':  best_epoch_indx:42\n",
      " auc:0.8736295424732301 \n",
      " apur:0.8469451750334697 \n",
      " f1:0.7525098210388477 \n",
      " precision:0.7374725006110975 \n",
      " recall:0.7681731381285806 \n",
      ", 'Test':  best_epoch_indx:42\n",
      " auc:0.8736295424732301 \n",
      " apur:0.8469451750334697 \n",
      " f1:0.7525098210388477 \n",
      " precision:0.7374725006110975 \n",
      " recall:0.7681731381285806 \n",
      "}\n",
      "=====Epoch 43\n",
      "Training...\n"
     ]
    },
    {
     "name": "stderr",
     "output_type": "stream",
     "text": [
      "Iteration: 100%|██████████| 62/62 [00:01<00:00, 39.57it/s]\n",
      "Iteration: 100%|██████████| 62/62 [00:01<00:00, 31.92it/s]\n",
      "Iteration:  44%|████▎     | 27/62 [00:01<00:01, 21.23it/s]"
     ]
    },
    {
     "name": "stdout",
     "output_type": "stream",
     "text": [
      "Evaluating...\n"
     ]
    },
    {
     "name": "stderr",
     "output_type": "stream",
     "text": [
      "Iteration: 100%|██████████| 62/62 [00:02<00:00, 29.80it/s]\n",
      "Iteration:  73%|███████▎  | 45/62 [00:01<00:00, 52.31it/s]"
     ]
    },
    {
     "name": "stdout",
     "output_type": "stream",
     "text": [
      "{'Train':  best_epoch_indx:44\n",
      " auc:0.8669602161249351 \n",
      " apur:0.8366559644620103 \n",
      " f1:0.7467372568332923 \n",
      " precision:0.7229705566813684 \n",
      " recall:0.7721196690006366 \n",
      ", 'Validation':  best_epoch_indx:44\n",
      " auc:0.8669602161249352 \n",
      " apur:0.8366559644608116 \n",
      " f1:0.7467372568332923 \n",
      " precision:0.7229705566813684 \n",
      " recall:0.7721196690006366 \n",
      ", 'Test':  best_epoch_indx:44\n",
      " auc:0.8669602161249352 \n",
      " apur:0.8366559644608116 \n",
      " f1:0.7467372568332923 \n",
      " precision:0.7229705566813684 \n",
      " recall:0.7721196690006366 \n",
      "}\n",
      "=====Epoch 45\n",
      "Training...\n",
      "Evaluating...\n"
     ]
    },
    {
     "name": "stderr",
     "output_type": "stream",
     "text": [
      "Iteration: 100%|██████████| 62/62 [00:01<00:00, 32.93it/s]\n",
      "Iteration: 100%|██████████| 62/62 [00:01<00:00, 41.01it/s]\n"
     ]
    },
    {
     "name": "stdout",
     "output_type": "stream",
     "text": [
      "{'Train':  best_epoch_indx:45\n",
      " auc:0.8687634521268199 \n",
      " apur:0.8409389696410612 \n",
      " f1:0.7447344181762358 \n",
      " precision:0.7193357058125741 \n",
      " recall:0.7719923615531509 \n",
      ", 'Validation':  best_epoch_indx:45\n",
      " auc:0.8687634521268199 \n",
      " apur:0.8409389696410612 \n",
      " f1:0.7447344181762358 \n",
      " precision:0.7193357058125741 \n",
      " recall:0.7719923615531509 \n",
      ", 'Test':  best_epoch_indx:45\n",
      " auc:0.8687634521268199 \n",
      " apur:0.8409389696410612 \n",
      " f1:0.7447344181762358 \n",
      " precision:0.7193357058125741 \n",
      " recall:0.7719923615531509 \n",
      "}\n",
      "=====Epoch 46\n",
      "Training...\n"
     ]
    },
    {
     "name": "stderr",
     "output_type": "stream",
     "text": [
      "Iteration: 100%|██████████| 62/62 [00:02<00:00, 23.54it/s]\n",
      "Iteration:   5%|▍         | 3/62 [00:00<00:02, 27.26it/s]]"
     ]
    },
    {
     "name": "stdout",
     "output_type": "stream",
     "text": [
      "{'Train':  best_epoch_indx:47\n",
      " auc:0.8853759529450713 \n",
      " apur:0.8600465766952714 \n",
      " f1:0.7647449441593722 \n",
      " precision:0.7272101033295063 \n",
      " recall:0.8063653723742839 \n",
      ", 'Validation':  best_epoch_indx:47\n",
      " auc:0.8853759529450713 \n",
      " apur:0.8600465766952714 \n",
      " f1:0.7647449441593722 \n",
      " precision:0.7272101033295063 \n",
      " recall:0.8063653723742839 \n",
      ", 'Test':  best_epoch_indx:47\n",
      " auc:0.8853759529450713 \n",
      " apur:0.8600465766952714 \n",
      " f1:0.7647449441593722 \n",
      " precision:0.7272101033295063 \n",
      " recall:0.8063653723742839 \n",
      "}\n",
      "=====Epoch 48\n",
      "Training...\n"
     ]
    },
    {
     "name": "stderr",
     "output_type": "stream",
     "text": [
      "\r",
      "Iteration:  16%|█▌        | 10/62 [00:00<00:01, 33.13it/s]\r",
      "Iteration:  58%|█████▊    | 36/62 [00:01<00:00, 33.05it/s]\r",
      "Iteration:  94%|█████████▎| 58/62 [00:01<00:00, 37.92it/s]\r",
      "Iteration:  71%|███████   | 44/62 [00:01<00:00, 30.84it/s]\r",
      "Iteration:  11%|█▏        | 7/62 [00:00<00:01, 30.55it/s]\r",
      "Iteration:  23%|██▎       | 14/62 [00:00<00:01, 31.78it/s]\r",
      "Iteration: 100%|██████████| 62/62 [00:01<00:00, 37.65it/s]\r",
      "Iteration: 100%|██████████| 62/62 [00:01<00:00, 39.10it/s]\n",
      "\r",
      "Iteration:   0%|          | 0/62 [00:00<?, ?it/s]\r",
      "Iteration:  65%|██████▍   | 40/62 [00:01<00:00, 32.97it/s]\r",
      "Iteration:  18%|█▊        | 11/62 [00:00<00:01, 31.54it/s]\r",
      "Iteration:  77%|███████▋  | 48/62 [00:01<00:00, 29.25it/s]"
     ]
    },
    {
     "name": "stdout",
     "output_type": "stream",
     "text": [
      "Evaluating...\n"
     ]
    },
    {
     "name": "stderr",
     "output_type": "stream",
     "text": [
      "Iteration: 100%|██████████| 62/62 [00:02<00:00, 29.49it/s]\n",
      "Iteration: 100%|██████████| 62/62 [00:01<00:00, 33.30it/s]\n",
      "Iteration:  61%|██████▏   | 38/62 [00:01<00:00, 30.60it/s]"
     ]
    },
    {
     "name": "stdout",
     "output_type": "stream",
     "text": [
      "Evaluating...\n"
     ]
    },
    {
     "name": "stderr",
     "output_type": "stream",
     "text": [
      "Iteration: 100%|██████████| 62/62 [00:01<00:00, 36.24it/s]\n",
      "Iteration:  94%|█████████▎| 58/62 [00:01<00:00, 30.48it/s]"
     ]
    },
    {
     "name": "stdout",
     "output_type": "stream",
     "text": [
      "Evaluating...\n"
     ]
    },
    {
     "name": "stderr",
     "output_type": "stream",
     "text": [
      "Iteration: 100%|██████████| 62/62 [00:01<00:00, 31.03it/s]\n",
      "Iteration: 100%|██████████| 62/62 [00:02<00:00, 28.88it/s]\n",
      "Iteration: 100%|██████████| 62/62 [00:02<00:00, 29.17it/s]\n",
      "Iteration: 100%|██████████| 62/62 [00:01<00:00, 31.37it/s]\n",
      "Iteration: 100%|██████████| 62/62 [00:02<00:00, 23.94it/s]\n",
      "Iteration: 100%|██████████| 62/62 [00:01<00:00, 40.47it/s]\n",
      "Iteration:  24%|██▍       | 15/62 [00:00<00:01, 33.41it/s]"
     ]
    },
    {
     "name": "stdout",
     "output_type": "stream",
     "text": [
      "{'Train':  best_epoch_indx:50\n",
      " auc:0.9031340987858867 \n",
      " apur:0.8797256074530473 \n",
      " f1:0.785047907211296 \n",
      " precision:0.7775003121488325 \n",
      " recall:0.7927434754933164 \n",
      ", 'Validation':  best_epoch_indx:50\n",
      " auc:0.9031340987858867 \n",
      " apur:0.8797256074530473 \n",
      " f1:0.785047907211296 \n",
      " precision:0.7775003121488325 \n",
      " recall:0.7927434754933164 \n",
      ", 'Test':  best_epoch_indx:50\n",
      " auc:0.9031340987858867 \n",
      " apur:0.8797256074530473 \n",
      " f1:0.785047907211296 \n",
      " precision:0.7775003121488325 \n",
      " recall:0.7927434754933164 \n",
      "}\n",
      "=====Epoch 51\n",
      "Training...\n"
     ]
    },
    {
     "name": "stderr",
     "output_type": "stream",
     "text": [
      "Iteration: 100%|██████████| 62/62 [00:02<00:00, 27.69it/s]\n",
      "Iteration: 100%|██████████| 62/62 [00:01<00:00, 31.74it/s]\n",
      "Iteration: 100%|██████████| 62/62 [00:01<00:00, 32.88it/s]\n",
      "Iteration: 100%|██████████| 62/62 [00:01<00:00, 40.12it/s]\n",
      "Iteration:   8%|▊         | 5/62 [00:00<00:01, 44.32it/s]]"
     ]
    },
    {
     "name": "stdout",
     "output_type": "stream",
     "text": [
      "Evaluating...\n"
     ]
    },
    {
     "name": "stderr",
     "output_type": "stream",
     "text": [
      "Iteration: 100%|██████████| 62/62 [00:02<00:00, 27.67it/s]\n",
      "Iteration:  10%|▉         | 6/62 [00:00<00:08,  6.99it/s]]"
     ]
    },
    {
     "name": "stdout",
     "output_type": "stream",
     "text": [
      "{'Train':  best_epoch_indx:43\n",
      " auc:0.8725862942636027 \n",
      " apur:0.8434670190281918 \n",
      " f1:0.7576028090221983 \n",
      " precision:0.711332141260617 \n",
      " recall:0.81031190324634 \n",
      ", 'Validation':  best_epoch_indx:43\n",
      " auc:0.8725862942636027 \n",
      " apur:0.8434670190287912 \n",
      " f1:0.7576028090221983 \n",
      " precision:0.711332141260617 \n",
      " recall:0.81031190324634 \n",
      ", 'Test':  best_epoch_indx:43\n",
      " auc:0.8725862942636027 \n",
      " apur:0.8434670190276758 \n",
      " f1:0.7576028090221983 \n",
      " precision:0.711332141260617 \n",
      " recall:0.81031190324634 \n",
      "}\n",
      "=====Epoch 44\n",
      "Training...\n"
     ]
    },
    {
     "name": "stderr",
     "output_type": "stream",
     "text": [
      "Iteration: 100%|██████████| 62/62 [00:01<00:00, 31.16it/s]\n",
      "Iteration: 100%|██████████| 62/62 [00:02<00:00, 30.25it/s]\n",
      "Iteration: 100%|██████████| 62/62 [00:02<00:00, 27.08it/s]\n",
      "Iteration:  45%|████▌     | 28/62 [00:01<00:01, 32.41it/s]"
     ]
    },
    {
     "name": "stdout",
     "output_type": "stream",
     "text": [
      "{'Train':  best_epoch_indx:45\n",
      " auc:0.8715759983184461 \n",
      " apur:0.8429588781927102 \n",
      " f1:0.7511153000314169 \n",
      " precision:0.7415632754342432 \n",
      " recall:0.7609166136218969 \n",
      ", 'Validation':  best_epoch_indx:45\n",
      " auc:0.8715759983184461 \n",
      " apur:0.8429588781927102 \n",
      " f1:0.7511153000314169 \n",
      " precision:0.7415632754342432 \n",
      " recall:0.7609166136218969 \n",
      ", 'Test':  best_epoch_indx:45\n",
      " auc:0.8715759983184461 \n",
      " apur:0.8429588781927102 \n",
      " f1:0.7511153000314169 \n",
      " precision:0.7415632754342432 \n",
      " recall:0.7609166136218969 \n",
      "}\n",
      "=====Epoch 46\n",
      "Training...\n",
      "Evaluating...\n"
     ]
    },
    {
     "name": "stderr",
     "output_type": "stream",
     "text": [
      "Iteration: 100%|██████████| 62/62 [00:01<00:00, 32.65it/s]\n",
      "Iteration:  65%|██████▍   | 40/62 [00:01<00:00, 27.58it/s]"
     ]
    },
    {
     "name": "stdout",
     "output_type": "stream",
     "text": [
      "{'Train':  best_epoch_indx:46\n",
      " auc:0.8810368178640611 \n",
      " apur:0.8552767585791026 \n",
      " f1:0.7585989668640544 \n",
      " precision:0.7508417508417509 \n",
      " recall:0.7665181413112667 \n",
      ", 'Validation':  best_epoch_indx:46\n",
      " auc:0.8810368178640612 \n",
      " apur:0.8552767585782979 \n",
      " f1:0.7585989668640544 \n",
      " precision:0.7508417508417509 \n",
      " recall:0.7665181413112667 \n",
      ", 'Test':  best_epoch_indx:46\n",
      " auc:0.8810368178640612 \n",
      " apur:0.8552767585782979 \n",
      " f1:0.7585989668640544 \n",
      " precision:0.7508417508417509 \n",
      " recall:0.7665181413112667 \n",
      "}\n",
      "=====Epoch 47\n",
      "Training...\n"
     ]
    },
    {
     "name": "stderr",
     "output_type": "stream",
     "text": [
      "Iteration: 100%|██████████| 62/62 [00:02<00:00, 26.76it/s]\n",
      "Iteration: 100%|██████████| 62/62 [00:01<00:00, 37.29it/s]\n",
      "Iteration:   0%|          | 0/62 [00:00<?, ?it/s]"
     ]
    },
    {
     "name": "stdout",
     "output_type": "stream",
     "text": [
      "Evaluating...\n"
     ]
    },
    {
     "name": "stderr",
     "output_type": "stream",
     "text": [
      "Iteration: 100%|██████████| 62/62 [00:01<00:00, 36.43it/s]\n",
      "Iteration:   0%|          | 0/62 [00:00<?, ?it/s]2.53it/s]"
     ]
    },
    {
     "name": "stdout",
     "output_type": "stream",
     "text": [
      "{'Train':  best_epoch_indx:48\n",
      " auc:0.8970303245387189 \n",
      " apur:0.872178264098383 \n",
      " f1:0.7791646070192784 \n",
      " precision:0.7569936366910793 \n",
      " recall:0.8026734563971992 \n",
      ", 'Validation':  best_epoch_indx:48\n",
      " auc:0.8970303245387189 \n",
      " apur:0.872178264098383 \n",
      " f1:0.7791646070192784 \n",
      " precision:0.7569936366910793 \n",
      " recall:0.8026734563971992 \n",
      ", 'Test':  best_epoch_indx:48\n",
      " auc:0.8970303245387189 \n",
      " apur:0.872178264098383 \n",
      " f1:0.7791646070192784 \n",
      " precision:0.7569936366910793 \n",
      " recall:0.8026734563971992 \n",
      "}\n",
      "=====Epoch 49\n",
      "Training...\n"
     ]
    },
    {
     "name": "stderr",
     "output_type": "stream",
     "text": [
      "Iteration: 100%|██████████| 62/62 [00:02<00:00, 25.61it/s]\n",
      "Iteration:   0%|          | 0/62 [00:00<?, ?it/s]"
     ]
    },
    {
     "name": "stdout",
     "output_type": "stream",
     "text": [
      "Evaluating...\n"
     ]
    },
    {
     "name": "stderr",
     "output_type": "stream",
     "text": [
      "Iteration: 100%|██████████| 62/62 [00:02<00:00, 22.34it/s]\n",
      "Iteration: 100%|██████████| 62/62 [00:01<00:00, 40.34it/s]\n",
      "Iteration: 100%|██████████| 62/62 [00:02<00:00, 30.53it/s]\n",
      "Iteration:   5%|▍         | 3/62 [00:00<00:02, 27.78it/s]]"
     ]
    },
    {
     "name": "stdout",
     "output_type": "stream",
     "text": [
      "Evaluating...\n"
     ]
    },
    {
     "name": "stderr",
     "output_type": "stream",
     "text": [
      "Iteration: 100%|██████████| 62/62 [00:01<00:00, 36.05it/s]\n",
      "Iteration: 100%|██████████| 62/62 [00:02<00:00, 30.56it/s]\n",
      "Iteration:  69%|██████▉   | 43/62 [00:00<00:00, 50.26it/s]"
     ]
    },
    {
     "name": "stdout",
     "output_type": "stream",
     "text": [
      "{'Train':  best_epoch_indx:51\n",
      " auc:0.8983793579709987 \n",
      " apur:0.8732892950952256 \n",
      " f1:0.7819744081102801 \n",
      " precision:0.7600336457582312 \n",
      " recall:0.8052196053469128 \n",
      ", 'Validation':  best_epoch_indx:51\n",
      " auc:0.8983793579709987 \n",
      " apur:0.8732892950952256 \n",
      " f1:0.7819744081102801 \n",
      " precision:0.7600336457582312 \n",
      " recall:0.8052196053469128 \n",
      ", 'Test':  best_epoch_indx:51\n",
      " auc:0.8983793639260669 \n",
      " apur:0.8732893057530966 \n",
      " f1:0.7819744081102801 \n",
      " precision:0.7600336457582312 \n",
      " recall:0.8052196053469128 \n",
      "}\n",
      "=====Epoch 52\n",
      "Training...\n"
     ]
    },
    {
     "name": "stderr",
     "output_type": "stream",
     "text": [
      "Iteration: 100%|██████████| 62/62 [00:02<00:00, 30.74it/s]\n",
      "Iteration: 100%|██████████| 62/62 [00:02<00:00, 27.73it/s]\n",
      "Iteration: 100%|██████████| 62/62 [00:01<00:00, 41.76it/s]\n",
      "Iteration: 100%|██████████| 62/62 [00:01<00:00, 40.52it/s]\n",
      "Iteration:  71%|███████   | 44/62 [00:01<00:00, 33.05it/s]"
     ]
    },
    {
     "name": "stdout",
     "output_type": "stream",
     "text": [
      "Evaluating...\n"
     ]
    },
    {
     "name": "stderr",
     "output_type": "stream",
     "text": [
      "Iteration: 100%|██████████| 62/62 [00:01<00:00, 34.11it/s]\n",
      "Iteration: 100%|██████████| 62/62 [00:01<00:00, 40.59it/s]\n",
      "Iteration: 100%|██████████| 62/62 [00:01<00:00, 31.93it/s]\n",
      "Iteration: 100%|██████████| 62/62 [00:02<00:00, 27.27it/s]\n",
      "Iteration: 100%|██████████| 62/62 [00:01<00:00, 41.10it/s]\n",
      "Iteration:   8%|▊         | 5/62 [00:00<00:01, 43.32it/s]]"
     ]
    },
    {
     "name": "stdout",
     "output_type": "stream",
     "text": [
      "{'Train':  best_epoch_indx:44\n",
      " auc:0.8718999951768459 \n",
      " apur:0.8412708140961612 \n",
      " f1:0.7538202382384791 \n",
      " precision:0.7146116117257899 \n",
      " recall:0.7975811584977721 \n",
      ", 'Validation':  best_epoch_indx:44\n",
      " auc:0.8718999951768459 \n",
      " apur:0.8412708140961612 \n",
      " f1:0.7538202382384791 \n",
      " precision:0.7146116117257899 \n",
      " recall:0.7975811584977721 \n",
      ", 'Test':  best_epoch_indx:44\n",
      " auc:0.8718999951768459 \n",
      " apur:0.8412708140961612 \n",
      " f1:0.7538202382384791 \n",
      " precision:0.7146116117257899 \n",
      " recall:0.7975811584977721 \n",
      "}\n",
      "=====Epoch 45\n",
      "Training...\n"
     ]
    },
    {
     "name": "stderr",
     "output_type": "stream",
     "text": [
      "Iteration:  15%|█▍        | 9/62 [00:00<00:01, 27.56it/s]]"
     ]
    },
    {
     "name": "stdout",
     "output_type": "stream",
     "text": [
      "{'Train':  best_epoch_indx:46\n",
      " auc:0.883700389246391 \n",
      " apur:0.8570337205379503 \n",
      " f1:0.772082211891363 \n",
      " precision:0.743082538561168 \n",
      " recall:0.8034373010821133 \n",
      ", 'Validation':  best_epoch_indx:46\n",
      " auc:0.883700389246391 \n",
      " apur:0.8570337205379503 \n",
      " f1:0.772082211891363 \n",
      " precision:0.743082538561168 \n",
      " recall:0.8034373010821133 \n",
      ", 'Test':  best_epoch_indx:46\n",
      " auc:0.883700389246391 \n",
      " apur:0.8570337205379503 \n",
      " f1:0.772082211891363 \n",
      " precision:0.743082538561168 \n",
      " recall:0.8034373010821133 \n",
      "}\n",
      "=====Epoch 47\n",
      "Training...\n"
     ]
    },
    {
     "name": "stderr",
     "output_type": "stream",
     "text": [
      "Iteration: 100%|██████████| 62/62 [00:02<00:00, 27.94it/s]\n",
      "Iteration: 100%|██████████| 62/62 [00:02<00:00, 27.44it/s]\n",
      "Iteration:  89%|████████▊ | 55/62 [00:01<00:00, 35.80it/s]"
     ]
    },
    {
     "name": "stdout",
     "output_type": "stream",
     "text": [
      "Evaluating...\n"
     ]
    },
    {
     "name": "stderr",
     "output_type": "stream",
     "text": [
      "\r",
      "Iteration:  77%|███████▋  | 48/62 [00:02<00:01, 10.63it/s]\r",
      "Iteration:   5%|▍         | 3/62 [00:00<00:02, 22.40it/s]\r",
      "Iteration:  63%|██████▎   | 39/62 [00:02<00:01, 18.53it/s]\r",
      "Iteration:  97%|█████████▋| 60/62 [00:01<00:00, 35.95it/s]\r",
      "Iteration:  82%|████████▏ | 51/62 [00:02<00:00, 12.77it/s]\r",
      "Iteration: 100%|██████████| 62/62 [00:01<00:00, 33.49it/s]\n",
      "\r",
      "Iteration:   0%|          | 0/62 [00:00<?, ?it/s]\r",
      "Iteration:  68%|██████▊   | 42/62 [00:02<00:01, 19.93it/s]\r",
      "Iteration:  10%|▉         | 6/62 [00:00<00:02, 21.40it/s]"
     ]
    },
    {
     "name": "stdout",
     "output_type": "stream",
     "text": [
      "Evaluating...\n",
      "{'Train':  best_epoch_indx:47\n",
      " auc:0.8823123636922112 \n",
      " apur:0.8578405971359098 \n",
      " f1:0.7624565469293163 \n",
      " precision:0.7317958323577617 \n",
      " recall:0.7957988542329726 \n",
      ", 'Validation':  best_epoch_indx:47\n",
      " auc:0.882312357737143 \n",
      " apur:0.8578405903704127 \n",
      " f1:0.7624565469293163 \n",
      " precision:0.7317958323577617 \n",
      " recall:0.7957988542329726 \n",
      ", 'Test':  best_epoch_indx:47\n",
      " auc:0.882312357737143 \n",
      " apur:0.8578405903704127 \n",
      " f1:0.7624565469293163 \n",
      " precision:0.7317958323577617 \n",
      " recall:0.7957988542329726 \n",
      "}\n",
      "=====Epoch 48\n",
      "Training...\n"
     ]
    },
    {
     "name": "stderr",
     "output_type": "stream",
     "text": [
      "Iteration: 100%|██████████| 62/62 [00:03<00:00, 19.56it/s]\n",
      "Iteration: 100%|██████████| 62/62 [00:03<00:00, 20.28it/s]\n",
      "Iteration: 100%|██████████| 62/62 [00:01<00:00, 40.69it/s]\n",
      "Iteration:  68%|██████▊   | 42/62 [00:01<00:00, 25.63it/s]"
     ]
    },
    {
     "name": "stdout",
     "output_type": "stream",
     "text": [
      "{'Train':  best_epoch_indx:49\n",
      " auc:0.9027609341198846 \n",
      " apur:0.87896631474765 \n",
      " f1:0.7852670349907919 \n",
      " precision:0.7582691167753408 \n",
      " recall:0.8142584341183959 \n",
      ", 'Validation':  best_epoch_indx:49\n",
      " auc:0.9027609341198846 \n",
      " apur:0.8789663147476499 \n",
      " f1:0.7852670349907919 \n",
      " precision:0.7582691167753408 \n",
      " recall:0.8142584341183959 \n",
      ", 'Test':  best_epoch_indx:49\n",
      " auc:0.9027609341198846 \n",
      " apur:0.87896631474765 \n",
      " f1:0.7852670349907919 \n",
      " precision:0.7582691167753408 \n",
      " recall:0.8142584341183959 \n",
      "}\n",
      "=====Epoch 50\n",
      "Training...\n"
     ]
    },
    {
     "name": "stderr",
     "output_type": "stream",
     "text": [
      "Iteration: 100%|██████████| 62/62 [00:02<00:00, 29.14it/s]\n",
      "Iteration: 100%|██████████| 62/62 [00:02<00:00, 23.62it/s]\n",
      "Iteration:   6%|▋         | 4/62 [00:00<00:01, 33.67it/s]]"
     ]
    },
    {
     "name": "stdout",
     "output_type": "stream",
     "text": [
      "Evaluating...\n"
     ]
    },
    {
     "name": "stderr",
     "output_type": "stream",
     "text": [
      "Iteration: 100%|██████████| 62/62 [00:01<00:00, 38.68it/s]\n",
      "Iteration:  45%|████▌     | 28/62 [00:00<00:01, 32.68it/s]"
     ]
    },
    {
     "name": "stdout",
     "output_type": "stream",
     "text": [
      "Evaluating...\n"
     ]
    },
    {
     "name": "stderr",
     "output_type": "stream",
     "text": [
      "Iteration: 100%|██████████| 62/62 [00:02<00:00, 27.29it/s]\n",
      "Iteration: 100%|██████████| 62/62 [00:01<00:00, 34.12it/s]\n",
      "Iteration:   0%|          | 0/62 [00:00<?, ?it/s]9.54it/s]"
     ]
    },
    {
     "name": "stdout",
     "output_type": "stream",
     "text": [
      "{'Train':  best_epoch_indx:52\n",
      " auc:0.8957944951230671 \n",
      " apur:0.871708283718167 \n",
      " f1:0.7787406823828859 \n",
      " precision:0.743118204950266 \n",
      " recall:0.8179503500954806 \n",
      ", 'Validation':  best_epoch_indx:52\n",
      " auc:0.8957944951230672 \n",
      " apur:0.8717082837176395 \n",
      " f1:0.7787406823828859 \n",
      " precision:0.743118204950266 \n",
      " recall:0.8179503500954806 \n",
      ", 'Test':  best_epoch_indx:52\n",
      " auc:0.8957944951230672 \n",
      " apur:0.8717082837176395 \n",
      " f1:0.7787406823828859 \n",
      " precision:0.743118204950266 \n",
      " recall:0.8179503500954806 \n",
      "}\n",
      "=====Epoch 53\n",
      "Training...\n"
     ]
    },
    {
     "name": "stderr",
     "output_type": "stream",
     "text": [
      "Iteration: 100%|██████████| 62/62 [00:02<00:00, 27.01it/s]\n",
      "Iteration: 100%|██████████| 62/62 [00:03<00:00, 18.83it/s]\n",
      "Iteration: 100%|██████████| 62/62 [00:01<00:00, 37.89it/s]\n",
      "Iteration:   0%|          | 0/62 [00:00<?, ?it/s]"
     ]
    },
    {
     "name": "stdout",
     "output_type": "stream",
     "text": [
      "Evaluating...\n"
     ]
    },
    {
     "name": "stderr",
     "output_type": "stream",
     "text": [
      "Iteration: 100%|██████████| 62/62 [00:01<00:00, 50.94it/s]\n",
      "Iteration: 100%|██████████| 62/62 [00:03<00:00, 19.51it/s]\n",
      "Iteration:  45%|████▌     | 28/62 [00:00<00:00, 34.98it/s]"
     ]
    },
    {
     "name": "stdout",
     "output_type": "stream",
     "text": [
      "{'Train':  best_epoch_indx:47\n",
      " auc:0.890074752932448 \n",
      " apur:0.8644105287556617 \n",
      " f1:0.7725568607848038 \n",
      " precision:0.7586206896551724 \n",
      " recall:0.7870146403564608 \n",
      ", 'Validation':  best_epoch_indx:47\n",
      " auc:0.890074752932448 \n",
      " apur:0.8644105287556617 \n",
      " f1:0.7725568607848038 \n",
      " precision:0.7586206896551724 \n",
      " recall:0.7870146403564608 \n",
      ", 'Test':  best_epoch_indx:47\n",
      " auc:0.890074752932448 \n",
      " apur:0.8644105287556617 \n",
      " f1:0.7725568607848038 \n",
      " precision:0.7586206896551724 \n",
      " recall:0.7870146403564608 \n",
      "}\n",
      "=====Epoch 48\n",
      "Training...\n"
     ]
    },
    {
     "name": "stderr",
     "output_type": "stream",
     "text": [
      "Iteration: 100%|██████████| 62/62 [00:01<00:00, 39.12it/s]\n",
      "Iteration: 100%|██████████| 62/62 [00:02<00:00, 30.94it/s]\n",
      "Iteration: 100%|██████████| 62/62 [00:01<00:00, 42.07it/s]\n",
      "Iteration:  37%|███▋      | 23/62 [00:01<00:01, 23.15it/s]"
     ]
    },
    {
     "name": "stdout",
     "output_type": "stream",
     "text": [
      "Evaluating...\n"
     ]
    },
    {
     "name": "stderr",
     "output_type": "stream",
     "text": [
      "Iteration: 100%|██████████| 62/62 [00:02<00:00, 23.85it/s]\n",
      "Iteration: 100%|██████████| 62/62 [00:01<00:00, 45.14it/s]\n",
      "Iteration: 100%|██████████| 62/62 [00:01<00:00, 41.08it/s]\n",
      "Iteration: 100%|██████████| 62/62 [00:02<00:00, 23.45it/s]\n",
      "Iteration:  82%|████████▏ | 51/62 [00:01<00:00, 32.21it/s]"
     ]
    },
    {
     "name": "stdout",
     "output_type": "stream",
     "text": [
      "{'Train':  best_epoch_indx:45\n",
      " auc:0.8773529875866307 \n",
      " apur:0.8485442986852274 \n",
      " f1:0.7597122302158272 \n",
      " precision:0.7179603399433427 \n",
      " recall:0.8066199872692552 \n",
      ", 'Validation':  best_epoch_indx:45\n",
      " auc:0.8773529875866307 \n",
      " apur:0.8485442986852274 \n",
      " f1:0.7597122302158272 \n",
      " precision:0.7179603399433427 \n",
      " recall:0.8066199872692552 \n",
      ", 'Test':  best_epoch_indx:45\n",
      " auc:0.8773529875866307 \n",
      " apur:0.8485442986852274 \n",
      " f1:0.7597122302158272 \n",
      " precision:0.7179603399433427 \n",
      " recall:0.8066199872692552 \n",
      "}\n",
      "=====Epoch 46\n",
      "Training...\n"
     ]
    },
    {
     "name": "stderr",
     "output_type": "stream",
     "text": [
      "Iteration: 100%|██████████| 62/62 [00:02<00:00, 30.02it/s]\n",
      "Iteration: 100%|██████████| 62/62 [00:02<00:00, 30.16it/s]\n",
      "Iteration:  77%|███████▋  | 48/62 [00:01<00:00, 32.76it/s]"
     ]
    },
    {
     "name": "stdout",
     "output_type": "stream",
     "text": [
      "{'Train':  best_epoch_indx:50\n",
      " auc:0.9048055107809401 \n",
      " apur:0.8811682195852293 \n",
      " f1:0.7883979929017256 \n",
      " precision:0.7590432426063392 \n",
      " recall:0.8201145767027371 \n",
      ", 'Validation':  best_epoch_indx:50\n",
      " auc:0.9048055107809401 \n",
      " apur:0.8811682195852293 \n",
      " f1:0.7883979929017256 \n",
      " precision:0.7590432426063392 \n",
      " recall:0.8201145767027371 \n",
      ", 'Test':  best_epoch_indx:50\n",
      " auc:0.9048055107809401 \n",
      " apur:0.8811682195852293 \n",
      " f1:0.7883979929017256 \n",
      " precision:0.7590432426063392 \n",
      " recall:0.8201145767027371 \n",
      "}\n",
      "=====Epoch 51\n",
      "Training...\n"
     ]
    },
    {
     "name": "stderr",
     "output_type": "stream",
     "text": [
      "Iteration: 100%|██████████| 62/62 [00:01<00:00, 33.09it/s]\n",
      "Iteration: 100%|██████████| 62/62 [00:02<00:00, 25.89it/s]\n",
      "Iteration: 100%|██████████| 62/62 [00:01<00:00, 33.50it/s]\n",
      "Iteration:   0%|          | 0/62 [00:00<?, ?it/s]"
     ]
    },
    {
     "name": "stdout",
     "output_type": "stream",
     "text": [
      "Evaluating...\n"
     ]
    },
    {
     "name": "stderr",
     "output_type": "stream",
     "text": [
      "\r",
      "Iteration:  32%|███▏      | 20/62 [00:00<00:01, 38.47it/s]\r",
      "Iteration:  10%|▉         | 6/62 [00:00<00:00, 57.27it/s]\r",
      "Iteration:  39%|███▊      | 24/62 [00:00<00:00, 38.79it/s]\r",
      "Iteration:  19%|█▉        | 12/62 [00:00<00:00, 57.09it/s]\r",
      "Iteration:   0%|          | 0/62 [00:00<?, ?it/s]"
     ]
    },
    {
     "name": "stdout",
     "output_type": "stream",
     "text": [
      "{'Train':  best_epoch_indx:53\n",
      " auc:0.8913764776831735 \n",
      " apur:0.8669369512638818 \n",
      " f1:0.7750667853962601 \n",
      " precision:0.7261401557285874 \n",
      " recall:0.8310630171865054 \n",
      ", 'Validation':  best_epoch_indx:53\n",
      " auc:0.8913764776831735 \n",
      " apur:0.8669369512638818 \n",
      " f1:0.7750667853962601 \n",
      " precision:0.7261401557285874 \n",
      " recall:0.8310630171865054 \n",
      ", 'Test':  best_epoch_indx:53\n",
      " auc:0.8913764776831735 \n",
      " apur:0.8669369512638818 \n",
      " f1:0.7750667853962601 \n",
      " precision:0.7261401557285874 \n",
      " recall:0.8310630171865054 \n",
      "}\n",
      "=====Epoch 54\n",
      "Training...\n",
      "{'Train':  best_epoch_indx:48\n",
      " auc:0.8941582865458515 \n",
      " apur:0.8693759564748865 \n",
      " f1:0.7767318368332126 \n",
      " precision:0.7383274062177354 \n",
      " recall:0.819350732017823 \n",
      ", 'Validation':  best_epoch_indx:48\n",
      " auc:0.8941582865458515 \n",
      " apur:0.8693759564748865 \n",
      " f1:0.7767318368332126 \n",
      " precision:0.7383274062177354 \n",
      " recall:0.819350732017823 \n",
      ", 'Test':  best_epoch_indx:48\n",
      " auc:0.8941582865458515 \n",
      " apur:0.8693759564748865 \n",
      " f1:0.7767318368332126 \n",
      " precision:0.7383274062177354 \n",
      " recall:0.819350732017823 \n",
      "}\n",
      "=====Epoch 49\n",
      "Training...\n"
     ]
    },
    {
     "name": "stderr",
     "output_type": "stream",
     "text": [
      "Iteration: 100%|██████████| 62/62 [00:01<00:00, 37.83it/s]\n",
      "Iteration:  63%|██████▎   | 39/62 [00:01<00:00, 29.24it/s]"
     ]
    },
    {
     "name": "stdout",
     "output_type": "stream",
     "text": [
      "Evaluating...\n"
     ]
    },
    {
     "name": "stderr",
     "output_type": "stream",
     "text": [
      "Iteration: 100%|██████████| 62/62 [00:01<00:00, 37.97it/s]\n",
      "Iteration:  81%|████████  | 50/62 [00:01<00:00, 35.42it/s]"
     ]
    },
    {
     "name": "stdout",
     "output_type": "stream",
     "text": [
      "Evaluating...\n"
     ]
    },
    {
     "name": "stderr",
     "output_type": "stream",
     "text": [
      "Iteration: 100%|██████████| 62/62 [00:02<00:00, 29.45it/s]\n",
      "Iteration: 100%|██████████| 62/62 [00:02<00:00, 29.63it/s]\n",
      "Iteration:  61%|██████▏   | 38/62 [00:01<00:01, 22.52it/s]"
     ]
    },
    {
     "name": "stdout",
     "output_type": "stream",
     "text": [
      "Evaluating...\n"
     ]
    },
    {
     "name": "stderr",
     "output_type": "stream",
     "text": [
      "Iteration: 100%|██████████| 62/62 [00:02<00:00, 22.93it/s]\n",
      "Iteration: 100%|██████████| 62/62 [00:01<00:00, 31.82it/s]\n",
      "Iteration: 100%|██████████| 62/62 [00:02<00:00, 21.48it/s]\n",
      "Iteration: 100%|██████████| 62/62 [00:01<00:00, 34.09it/s]\n",
      "Iteration:  65%|██████▍   | 40/62 [00:01<00:00, 30.77it/s]"
     ]
    },
    {
     "name": "stdout",
     "output_type": "stream",
     "text": [
      "{'Train':  best_epoch_indx:48\n",
      " auc:0.896074113417955 \n",
      " apur:0.8704199693900125 \n",
      " f1:0.7808634489449431 \n",
      " precision:0.7455134884797963 \n",
      " recall:0.8197326543602801 \n",
      ", 'Validation':  best_epoch_indx:48\n",
      " auc:0.896074113417955 \n",
      " apur:0.870419969389361 \n",
      " f1:0.7808634489449431 \n",
      " precision:0.7455134884797963 \n",
      " recall:0.8197326543602801 \n",
      ", 'Test':  best_epoch_indx:48\n",
      " auc:0.896074113417955 \n",
      " apur:0.8704199693900125 \n",
      " f1:0.7808634489449431 \n",
      " precision:0.7455134884797963 \n",
      " recall:0.8197326543602801 \n",
      "}\n",
      "=====Epoch 49\n",
      "Training...\n"
     ]
    },
    {
     "name": "stderr",
     "output_type": "stream",
     "text": [
      "Iteration: 100%|██████████| 62/62 [00:02<00:00, 27.63it/s]\n",
      "Iteration: 100%|██████████| 62/62 [00:01<00:00, 33.68it/s]\n",
      "Iteration: 100%|██████████| 62/62 [00:01<00:00, 32.92it/s]\n",
      "Iteration: 100%|██████████| 62/62 [00:01<00:00, 32.68it/s]\n"
     ]
    },
    {
     "name": "stdout",
     "output_type": "stream",
     "text": [
      "Evaluating...\n"
     ]
    },
    {
     "name": "stderr",
     "output_type": "stream",
     "text": [
      "Iteration: 100%|██████████| 62/62 [00:02<00:00, 26.80it/s]\n",
      "Iteration: 100%|██████████| 62/62 [00:01<00:00, 44.27it/s]\n",
      "Iteration: 100%|██████████| 62/62 [00:01<00:00, 41.91it/s]\n",
      "Iteration: 100%|██████████| 62/62 [00:01<00:00, 47.39it/s]\n",
      "Iteration:   0%|          | 0/62 [00:00<?, ?it/s]7.60it/s]"
     ]
    },
    {
     "name": "stdout",
     "output_type": "stream",
     "text": [
      "{'Train':  best_epoch_indx:46\n",
      " auc:0.8806599384660823 \n",
      " apur:0.8545947964171052 \n",
      " f1:0.7636803874092009 \n",
      " precision:0.7279861511829198 \n",
      " recall:0.8030553787396563 \n",
      ", 'Validation':  best_epoch_indx:46\n",
      " auc:0.8806599384660823 \n",
      " apur:0.8545947964171052 \n",
      " f1:0.7636803874092009 \n",
      " precision:0.7279861511829198 \n",
      " recall:0.8030553787396563 \n",
      ", 'Test':  best_epoch_indx:46\n",
      " auc:0.8806599384660823 \n",
      " apur:0.8545947964171052 \n",
      " f1:0.7636803874092009 \n",
      " precision:0.7279861511829198 \n",
      " recall:0.8030553787396563 \n",
      "}\n",
      "=====Epoch 47\n",
      "Training...\n"
     ]
    },
    {
     "name": "stderr",
     "output_type": "stream",
     "text": [
      "Iteration:  48%|████▊     | 30/62 [00:00<00:01, 23.74it/s]"
     ]
    },
    {
     "name": "stdout",
     "output_type": "stream",
     "text": [
      "{'Train':  best_epoch_indx:54\n",
      " auc:0.8887085416341742 \n",
      " apur:0.8607547456323507 \n",
      " f1:0.769751147620198 \n",
      " precision:0.7323296172853695 \n",
      " recall:0.8112030553787396 \n",
      ", 'Validation':  best_epoch_indx:54\n",
      " auc:0.8887085475892424 \n",
      " apur:0.8607547488796282 \n",
      " f1:0.769751147620198 \n",
      " precision:0.7323296172853695 \n",
      " recall:0.8112030553787396 \n",
      ", 'Test':  best_epoch_indx:54\n",
      " auc:0.8887085416341742 \n",
      " apur:0.8607547456323507 \n",
      " f1:0.769751147620198 \n",
      " precision:0.7323296172853695 \n",
      " recall:0.8112030553787396 \n",
      "}\n",
      "=====Epoch 55\n",
      "Training...\n"
     ]
    },
    {
     "name": "stderr",
     "output_type": "stream",
     "text": [
      "Iteration: 100%|██████████| 62/62 [00:02<00:00, 25.23it/s]\n",
      "Iteration: 100%|██████████| 62/62 [00:01<00:00, 36.22it/s]\n",
      "Iteration:  94%|█████████▎| 58/62 [00:02<00:00, 22.09it/s]"
     ]
    },
    {
     "name": "stdout",
     "output_type": "stream",
     "text": [
      "Evaluating...\n"
     ]
    },
    {
     "name": "stderr",
     "output_type": "stream",
     "text": [
      "Iteration: 100%|██████████| 62/62 [00:02<00:00, 25.23it/s]\n",
      "Iteration:  69%|██████▉   | 43/62 [00:01<00:00, 34.91it/s]"
     ]
    },
    {
     "name": "stdout",
     "output_type": "stream",
     "text": [
      "{'Train':  best_epoch_indx:49\n",
      " auc:0.9001779017067164 \n",
      " apur:0.8764587248529354 \n",
      " f1:0.7832573048945874 \n",
      " precision:0.7592924584677901 \n",
      " recall:0.8087842138765118 \n",
      ", 'Validation':  best_epoch_indx:49\n",
      " auc:0.9001779076617846 \n",
      " apur:0.8764587327546631 \n",
      " f1:0.7832573048945874 \n",
      " precision:0.7592924584677901 \n",
      " recall:0.8087842138765118 \n",
      ", 'Test':  best_epoch_indx:49\n",
      " auc:0.9001779076617846 \n",
      " apur:0.8764587327546631 \n",
      " f1:0.7832573048945874 \n",
      " precision:0.7592924584677901 \n",
      " recall:0.8087842138765118 \n",
      "}\n",
      "=====Epoch 50\n",
      "Training...\n"
     ]
    },
    {
     "name": "stderr",
     "output_type": "stream",
     "text": [
      "Iteration: 100%|██████████| 62/62 [00:00<00:00, 71.22it/s]\n",
      "Iteration: 100%|██████████| 62/62 [00:02<00:00, 22.14it/s]\n",
      "Iteration: 100%|██████████| 62/62 [00:01<00:00, 35.30it/s]\n",
      "Iteration:  26%|██▌       | 16/62 [00:00<00:01, 32.93it/s]"
     ]
    },
    {
     "name": "stdout",
     "output_type": "stream",
     "text": [
      "Evaluating...\n",
      "{'Train':  best_epoch_indx:51\n",
      " auc:0.9030074389707271 \n",
      " apur:0.8783756644108146 \n",
      " f1:0.7892863606201364 \n",
      " precision:0.7500573263013071 \n",
      " recall:0.8328453214513049 \n",
      ", 'Validation':  best_epoch_indx:51\n",
      " auc:0.9030074389707271 \n",
      " apur:0.8783756644108146 \n",
      " f1:0.7892863606201364 \n",
      " precision:0.7500573263013071 \n",
      " recall:0.8328453214513049 \n",
      ", 'Test':  best_epoch_indx:51\n",
      " auc:0.9030074389707271 \n",
      " apur:0.8783756644108146 \n",
      " f1:0.7892863606201364 \n",
      " precision:0.7500573263013071 \n",
      " recall:0.8328453214513049 \n",
      "}\n",
      "=====Epoch 52\n",
      "Training...\n"
     ]
    },
    {
     "name": "stderr",
     "output_type": "stream",
     "text": [
      "Iteration: 100%|██████████| 62/62 [00:02<00:00, 30.12it/s]\n",
      "Iteration:   5%|▍         | 3/62 [00:00<00:02, 21.32it/s]]"
     ]
    },
    {
     "name": "stdout",
     "output_type": "stream",
     "text": [
      "Evaluating...\n"
     ]
    },
    {
     "name": "stderr",
     "output_type": "stream",
     "text": [
      "\r",
      "Iteration:  89%|████████▊ | 55/62 [00:01<00:00, 42.27it/s]\r",
      "Iteration:  97%|█████████▋| 60/62 [00:01<00:00, 37.62it/s]\r",
      "Iteration: 100%|██████████| 62/62 [00:01<00:00, 36.33it/s]\n",
      "\r",
      "Iteration:   0%|          | 0/62 [00:00<?, ?it/s]\r",
      "Iteration:  27%|██▋       | 17/62 [00:00<00:02, 20.58it/s]\r",
      "Iteration:  10%|▉         | 6/62 [00:00<00:02, 20.96it/s]\r",
      "Iteration:  97%|█████████▋| 60/62 [00:01<00:00, 42.45it/s]\r",
      "Iteration: 100%|██████████| 62/62 [00:01<00:00, 42.71it/s]\n"
     ]
    },
    {
     "name": "stdout",
     "output_type": "stream",
     "text": [
      "Evaluating...\n"
     ]
    },
    {
     "name": "stderr",
     "output_type": "stream",
     "text": [
      "Iteration: 100%|██████████| 62/62 [00:02<00:00, 24.55it/s]\n",
      "Iteration: 100%|██████████| 62/62 [00:02<00:00, 30.31it/s]\n",
      "Iteration: 100%|██████████| 62/62 [00:02<00:00, 23.84it/s]\n",
      "Iteration: 100%|██████████| 62/62 [00:01<00:00, 42.17it/s]\n",
      "Iteration: 100%|██████████| 62/62 [00:03<00:00, 18.58it/s]\n",
      "Iteration:  48%|████▊     | 30/62 [00:01<00:00, 35.71it/s]"
     ]
    },
    {
     "name": "stdout",
     "output_type": "stream",
     "text": [
      "{'Train':  best_epoch_indx:47\n",
      " auc:0.8905014948800136 \n",
      " apur:0.8651376061956216 \n",
      " f1:0.7740650861800757 \n",
      " precision:0.7570593962999026 \n",
      " recall:0.7918523233609166 \n",
      ", 'Validation':  best_epoch_indx:47\n",
      " auc:0.8905015008345247 \n",
      " apur:0.8651376128668926 \n",
      " f1:0.7740650861800757 \n",
      " precision:0.7570593962999026 \n",
      " recall:0.7918523233609166 \n",
      ", 'Test':  best_epoch_indx:47\n",
      " auc:0.8905015008345247 \n",
      " apur:0.8651376128668926 \n",
      " f1:0.7740650861800757 \n",
      " precision:0.7570593962999026 \n",
      " recall:0.7918523233609166 \n",
      "}\n",
      "=====Epoch 48\n",
      "Training...\n"
     ]
    },
    {
     "name": "stderr",
     "output_type": "stream",
     "text": [
      "Iteration:  94%|█████████▎| 58/62 [00:01<00:00, 34.28it/s]"
     ]
    },
    {
     "name": "stdout",
     "output_type": "stream",
     "text": [
      "{'Train':  best_epoch_indx:49\n",
      " auc:0.9008614391219716 \n",
      " apur:0.8767253897063014 \n",
      " f1:0.7851815625382076 \n",
      " precision:0.7552628484064448 \n",
      " recall:0.8175684277530235 \n",
      ", 'Validation':  best_epoch_indx:49\n",
      " auc:0.9008614391219716 \n",
      " apur:0.8767253897063014 \n",
      " f1:0.7851815625382076 \n",
      " precision:0.7552628484064448 \n",
      " recall:0.8175684277530235 \n",
      ", 'Test':  best_epoch_indx:49\n",
      " auc:0.9008614391219716 \n",
      " apur:0.8767253897063014 \n",
      " f1:0.7851815625382076 \n",
      " precision:0.7552628484064448 \n",
      " recall:0.8175684277530235 \n",
      "}\n",
      "=====Epoch 50\n",
      "Training...\n"
     ]
    },
    {
     "name": "stderr",
     "output_type": "stream",
     "text": [
      "Iteration: 100%|██████████| 62/62 [00:01<00:00, 33.27it/s]\n",
      "Iteration: 100%|██████████| 62/62 [00:01<00:00, 41.42it/s]\n",
      "Iteration:  60%|█████▉    | 37/62 [00:01<00:00, 29.54it/s]"
     ]
    },
    {
     "name": "stdout",
     "output_type": "stream",
     "text": [
      "Evaluating...\n"
     ]
    },
    {
     "name": "stderr",
     "output_type": "stream",
     "text": [
      "Iteration: 100%|██████████| 62/62 [00:02<00:00, 26.53it/s]\n",
      "Iteration: 100%|██████████| 62/62 [00:02<00:00, 21.81it/s]\n",
      "Iteration:   5%|▍         | 3/62 [00:00<00:02, 23.01it/s]]"
     ]
    },
    {
     "name": "stdout",
     "output_type": "stream",
     "text": [
      "Evaluating...\n"
     ]
    },
    {
     "name": "stderr",
     "output_type": "stream",
     "text": [
      "Iteration: 100%|██████████| 62/62 [00:01<00:00, 35.92it/s]\n",
      "Iteration: 100%|██████████| 62/62 [00:02<00:00, 21.99it/s]\n",
      "Iteration: 100%|██████████| 62/62 [00:01<00:00, 33.96it/s]\n",
      "Iteration: 100%|██████████| 62/62 [00:00<00:00, 82.28it/s]\n",
      "Iteration:   0%|          | 0/62 [00:00<?, ?it/s].76it/s]]"
     ]
    },
    {
     "name": "stdout",
     "output_type": "stream",
     "text": [
      "{'Train':  best_epoch_indx:55\n",
      " auc:0.8942196058828691 \n",
      " apur:0.8676735239406577 \n",
      " f1:0.7757003540592584 \n",
      " precision:0.757399320718098 \n",
      " recall:0.7949077021005729 \n",
      ", 'Validation':  best_epoch_indx:55\n",
      " auc:0.8942196058828691 \n",
      " apur:0.8676735239406577 \n",
      " f1:0.7757003540592584 \n",
      " precision:0.757399320718098 \n",
      " recall:0.7949077021005729 \n",
      ", 'Test':  best_epoch_indx:55\n",
      " auc:0.8942196058828691 \n",
      " apur:0.8676735239406577 \n",
      " f1:0.7757003540592584 \n",
      " precision:0.757399320718098 \n",
      " recall:0.7949077021005729 \n",
      "}\n",
      "=====Epoch 56\n",
      "Training...\n"
     ]
    },
    {
     "name": "stderr",
     "output_type": "stream",
     "text": [
      "Iteration: 100%|██████████| 62/62 [00:02<00:00, 24.61it/s]\n",
      "Iteration: 100%|██████████| 62/62 [00:01<00:00, 40.29it/s]\n",
      "Iteration:   0%|          | 0/62 [00:00<?, ?it/s]2.78it/s]"
     ]
    },
    {
     "name": "stdout",
     "output_type": "stream",
     "text": [
      "Evaluating...\n"
     ]
    },
    {
     "name": "stderr",
     "output_type": "stream",
     "text": [
      "Iteration: 100%|██████████| 62/62 [00:01<00:00, 42.55it/s]\n",
      "Iteration: 100%|██████████| 62/62 [00:02<00:00, 27.93it/s]\n",
      "Iteration: 100%|██████████| 62/62 [00:02<00:00, 27.04it/s]\n",
      "Iteration:   0%|          | 0/62 [00:00<?, ?it/s]6.34it/s]"
     ]
    },
    {
     "name": "stdout",
     "output_type": "stream",
     "text": [
      "{'Train':  best_epoch_indx:48\n",
      " auc:0.8931708903006373 \n",
      " apur:0.8678018267193149 \n",
      " f1:0.774760082794957 \n",
      " precision:0.7636003956478734 \n",
      " recall:0.7862507956715468 \n",
      ", 'Validation':  best_epoch_indx:48\n",
      " auc:0.8931708903006373 \n",
      " apur:0.8678018267193149 \n",
      " f1:0.774760082794957 \n",
      " precision:0.7636003956478734 \n",
      " recall:0.7862507956715468 \n",
      ", 'Test':  best_epoch_indx:48\n",
      " auc:0.8931708903006373 \n",
      " apur:0.8678018267193149 \n",
      " f1:0.774760082794957 \n",
      " precision:0.7636003956478734 \n",
      " recall:0.7862507956715468 \n",
      "}\n",
      "=====Epoch 49\n",
      "Training...\n"
     ]
    },
    {
     "name": "stderr",
     "output_type": "stream",
     "text": [
      "\r",
      "Iteration:  32%|███▏      | 20/62 [00:00<00:01, 33.26it/s]\r",
      "Iteration:   8%|▊         | 5/62 [00:00<00:01, 47.49it/s]\r",
      "Iteration:  65%|██████▍   | 40/62 [00:00<00:00, 47.62it/s]\r",
      "Iteration:  39%|███▊      | 24/62 [00:00<00:01, 32.09it/s]\r",
      "Iteration:  16%|█▌        | 10/62 [00:00<00:01, 46.30it/s]"
     ]
    },
    {
     "name": "stdout",
     "output_type": "stream",
     "text": [
      "{'Train':  best_epoch_indx:52\n",
      " auc:0.8985650700042098 \n",
      " apur:0.874595091124676 \n",
      " f1:0.7827871255203142 \n",
      " precision:0.7254944577265812 \n",
      " recall:0.8499045194143857 \n",
      ", 'Validation':  best_epoch_indx:52\n",
      " auc:0.8985650759587209 \n",
      " apur:0.8745950948963115 \n",
      " f1:0.7827871255203142 \n",
      " precision:0.7254944577265812 \n",
      " recall:0.8499045194143857 \n",
      ", 'Test':  best_epoch_indx:52\n",
      " auc:0.8985650759587209 \n",
      " apur:0.8745950948963115 \n",
      " f1:0.7827871255203142 \n",
      " precision:0.7254944577265812 \n",
      " recall:0.8499045194143857 \n",
      "}\n",
      "=====Epoch 53\n",
      "Training...\n"
     ]
    },
    {
     "name": "stderr",
     "output_type": "stream",
     "text": [
      "Iteration: 100%|██████████| 62/62 [00:01<00:00, 39.38it/s]\n",
      "Iteration:  65%|██████▍   | 40/62 [00:01<00:00, 23.68it/s]"
     ]
    },
    {
     "name": "stdout",
     "output_type": "stream",
     "text": [
      "{'Train':  best_epoch_indx:50\n",
      " auc:0.8999353160494625 \n",
      " apur:0.8761467855878164 \n",
      " f1:0.7817754698318498 \n",
      " precision:0.759884629251292 \n",
      " recall:0.8049649904519415 \n",
      ", 'Validation':  best_epoch_indx:50\n",
      " auc:0.8999353160494625 \n",
      " apur:0.8761467855878164 \n",
      " f1:0.7817754698318498 \n",
      " precision:0.759884629251292 \n",
      " recall:0.8049649904519415 \n",
      ", 'Test':  best_epoch_indx:50\n",
      " auc:0.8999353160494625 \n",
      " apur:0.8761467855878164 \n",
      " f1:0.7817754698318498 \n",
      " precision:0.759884629251292 \n",
      " recall:0.8049649904519415 \n",
      "}\n",
      "=====Epoch 51\n",
      "Training...\n"
     ]
    },
    {
     "name": "stderr",
     "output_type": "stream",
     "text": [
      "Iteration: 100%|██████████| 62/62 [00:01<00:00, 43.96it/s]\n",
      "Iteration:   0%|          | 0/62 [00:00<?, ?it/s]"
     ]
    },
    {
     "name": "stdout",
     "output_type": "stream",
     "text": [
      "Evaluating...\n"
     ]
    },
    {
     "name": "stderr",
     "output_type": "stream",
     "text": [
      "Iteration: 100%|██████████| 62/62 [00:02<00:00, 25.54it/s]\n",
      "Iteration: 100%|██████████| 62/62 [00:01<00:00, 34.50it/s]\n",
      "Iteration:  13%|█▎        | 8/62 [00:00<00:01, 32.34it/s]"
     ]
    },
    {
     "name": "stdout",
     "output_type": "stream",
     "text": [
      "Evaluating...\n"
     ]
    },
    {
     "name": "stderr",
     "output_type": "stream",
     "text": [
      "Iteration: 100%|██████████| 62/62 [00:01<00:00, 32.01it/s]\n",
      "Iteration: 100%|██████████| 62/62 [00:01<00:00, 43.11it/s]\n",
      "Iteration:   5%|▍         | 3/62 [00:00<00:02, 26.97it/s]]"
     ]
    },
    {
     "name": "stdout",
     "output_type": "stream",
     "text": [
      "Evaluating...\n"
     ]
    },
    {
     "name": "stderr",
     "output_type": "stream",
     "text": [
      "Iteration: 100%|██████████| 62/62 [00:01<00:00, 38.87it/s]]\n",
      "Iteration: 100%|██████████| 62/62 [00:02<00:00, 29.49it/s] \n",
      "Iteration: 100%|██████████| 62/62 [00:01<00:00, 61.66it/s]\n",
      "Iteration: 100%|██████████| 62/62 [00:02<00:00, 27.38it/s]\n",
      "Iteration: 100%|██████████| 62/62 [00:02<00:00, 21.73it/s]\n",
      "Iteration:   5%|▍         | 3/62 [00:00<00:02, 24.16it/s]]"
     ]
    },
    {
     "name": "stdout",
     "output_type": "stream",
     "text": [
      "{'Train':  best_epoch_indx:50\n",
      " auc:0.9033594696674228 \n",
      " apur:0.8792504525233364 \n",
      " f1:0.7910748033896239 \n",
      " precision:0.7590079550772111 \n",
      " recall:0.8259707192870783 \n",
      ", 'Validation':  best_epoch_indx:50\n",
      " auc:0.9033594696674228 \n",
      " apur:0.8792504525233364 \n",
      " f1:0.7910748033896239 \n",
      " precision:0.7590079550772111 \n",
      " recall:0.8259707192870783 \n",
      ", 'Test':  best_epoch_indx:50\n",
      " auc:0.9033594696674228 \n",
      " apur:0.8792504525233364 \n",
      " f1:0.7910748033896239 \n",
      " precision:0.7590079550772111 \n",
      " recall:0.8259707192870783 \n",
      "}\n",
      "=====Epoch 51\n",
      "Training...\n"
     ]
    },
    {
     "name": "stderr",
     "output_type": "stream",
     "text": [
      "Iteration: 100%|██████████| 62/62 [00:01<00:00, 32.62it/s]\n",
      "Iteration: 100%|██████████| 62/62 [00:01<00:00, 50.02it/s]\n",
      "Iteration:   5%|▍         | 3/62 [00:00<00:02, 23.81it/s]]"
     ]
    },
    {
     "name": "stdout",
     "output_type": "stream",
     "text": [
      "{'Train':  best_epoch_indx:49\n",
      " auc:0.9032510201566156 \n",
      " apur:0.8796550505555335 \n",
      " f1:0.7886285535770073 \n",
      " precision:0.7743558282208589 \n",
      " recall:0.8034373010821133 \n",
      ", 'Validation':  best_epoch_indx:49\n",
      " auc:0.9032510201566156 \n",
      " apur:0.8796550505555335 \n",
      " f1:0.7886285535770073 \n",
      " precision:0.7743558282208589 \n",
      " recall:0.8034373010821133 \n",
      ", 'Test':  best_epoch_indx:49\n",
      " auc:0.9032510201566156 \n",
      " apur:0.8796550505559064 \n",
      " f1:0.7886285535770073 \n",
      " precision:0.7743558282208589 \n",
      " recall:0.8034373010821133 \n",
      "}\n",
      "=====Epoch 50\n",
      "Training...\n"
     ]
    },
    {
     "name": "stderr",
     "output_type": "stream",
     "text": [
      "Iteration: 100%|██████████| 62/62 [00:02<00:00, 29.02it/s]\n",
      "Iteration:   0%|          | 0/62 [00:00<?, ?it/s]5.57it/s]"
     ]
    },
    {
     "name": "stdout",
     "output_type": "stream",
     "text": [
      "{'Train':  best_epoch_indx:56\n",
      " auc:0.8997383402593753 \n",
      " apur:0.8761015619239731 \n",
      " f1:0.7855153203342617 \n",
      " precision:0.7490472340916965 \n",
      " recall:0.825716104392107 \n",
      ", 'Validation':  best_epoch_indx:56\n",
      " auc:0.8997383402593753 \n",
      " apur:0.8761015619239731 \n",
      " f1:0.7855153203342617 \n",
      " precision:0.7490472340916965 \n",
      " recall:0.825716104392107 \n",
      ", 'Test':  best_epoch_indx:56\n",
      " auc:0.8997383402593754 \n",
      " apur:0.8761015619239733 \n",
      " f1:0.7855153203342617 \n",
      " precision:0.7490472340916965 \n",
      " recall:0.825716104392107 \n",
      "}\n",
      "=====Epoch 57\n",
      "Training...\n"
     ]
    },
    {
     "name": "stderr",
     "output_type": "stream",
     "text": [
      "Iteration: 100%|██████████| 62/62 [00:01<00:00, 38.65it/s]\n",
      "Iteration:  71%|███████   | 44/62 [00:01<00:00, 34.48it/s]"
     ]
    },
    {
     "name": "stdout",
     "output_type": "stream",
     "text": [
      "Evaluating...\n"
     ]
    },
    {
     "name": "stderr",
     "output_type": "stream",
     "text": [
      "Iteration: 100%|██████████| 62/62 [00:01<00:00, 33.23it/s]\n",
      "Iteration: 100%|██████████| 62/62 [00:02<00:00, 30.87it/s]\n",
      "Iteration:  21%|██        | 13/62 [00:00<00:01, 24.72it/s]"
     ]
    },
    {
     "name": "stdout",
     "output_type": "stream",
     "text": [
      "Evaluating...\n"
     ]
    },
    {
     "name": "stderr",
     "output_type": "stream",
     "text": [
      "\r",
      "Iteration:  13%|█▎        | 8/62 [00:00<00:01, 32.87it/s]\r",
      "Iteration:  26%|██▌       | 16/62 [00:00<00:02, 21.47it/s]\r",
      "Iteration:  97%|█████████▋| 60/62 [00:01<00:00, 34.54it/s]\r",
      "Iteration:  26%|██▌       | 16/62 [00:00<00:01, 24.42it/s]\r",
      "Iteration: 100%|██████████| 62/62 [00:01<00:00, 37.80it/s]\n",
      "\r",
      "Iteration:  19%|█▉        | 12/62 [00:00<00:01, 32.94it/s]\r",
      "Iteration:   0%|          | 0/62 [00:00<?, ?it/s]\r",
      "Iteration:  31%|███       | 19/62 [00:01<00:01, 23.02it/s]\r",
      "Iteration:  31%|███       | 19/62 [00:00<00:01, 24.33it/s]"
     ]
    },
    {
     "name": "stdout",
     "output_type": "stream",
     "text": [
      "Evaluating...\n"
     ]
    },
    {
     "name": "stderr",
     "output_type": "stream",
     "text": [
      "Iteration: 100%|██████████| 62/62 [00:01<00:00, 40.81it/s]\n",
      "Iteration: 100%|██████████| 62/62 [00:02<00:00, 25.53it/s]\n",
      "Iteration: 100%|██████████| 62/62 [00:02<00:00, 25.71it/s]\n",
      "Iteration: 100%|██████████| 62/62 [00:02<00:00, 28.26it/s]\n",
      "Iteration: 100%|██████████| 62/62 [00:01<00:00, 31.50it/s]\n",
      "Iteration:  47%|████▋     | 29/62 [00:00<00:00, 37.88it/s]"
     ]
    },
    {
     "name": "stdout",
     "output_type": "stream",
     "text": [
      "{'Train':  best_epoch_indx:53\n",
      " auc:0.8898776228877117 \n",
      " apur:0.8635621437815411 \n",
      " f1:0.7749865743779463 \n",
      " precision:0.7293351302785265 \n",
      " recall:0.8267345639719924 \n",
      ", 'Validation':  best_epoch_indx:53\n",
      " auc:0.8898776228877117 \n",
      " apur:0.8635621437815411 \n",
      " f1:0.7749865743779463 \n",
      " precision:0.7293351302785265 \n",
      " recall:0.8267345639719924 \n",
      ", 'Test':  best_epoch_indx:53\n",
      " auc:0.8898776169332006 \n",
      " apur:0.8635621355045151 \n",
      " f1:0.7749865743779463 \n",
      " precision:0.7293351302785265 \n",
      " recall:0.8267345639719924 \n",
      "}\n",
      "=====Epoch 54\n",
      "Training...\n"
     ]
    },
    {
     "name": "stderr",
     "output_type": "stream",
     "text": [
      "Iteration:   3%|▎         | 2/62 [00:00<00:03, 19.65it/s]]"
     ]
    },
    {
     "name": "stdout",
     "output_type": "stream",
     "text": [
      "{'Train':  best_epoch_indx:51\n",
      " auc:0.8986745090150501 \n",
      " apur:0.8749335959537534 \n",
      " f1:0.7802818576440507 \n",
      " precision:0.7320910511046641 \n",
      " recall:0.8352641629535328 \n",
      ", 'Validation':  best_epoch_indx:51\n",
      " auc:0.8986745090150501 \n",
      " apur:0.8749335959537534 \n",
      " f1:0.7802818576440507 \n",
      " precision:0.7320910511046641 \n",
      " recall:0.8352641629535328 \n",
      ", 'Test':  best_epoch_indx:51\n",
      " auc:0.8986745090150501 \n",
      " apur:0.8749335959537534 \n",
      " f1:0.7802818576440507 \n",
      " precision:0.7320910511046641 \n",
      " recall:0.8352641629535328 \n",
      "}\n",
      "=====Epoch 52\n",
      "Training...\n"
     ]
    },
    {
     "name": "stderr",
     "output_type": "stream",
     "text": [
      "Iteration: 100%|██████████| 62/62 [00:01<00:00, 36.27it/s]\n",
      "Iteration: 100%|██████████| 62/62 [00:01<00:00, 37.25it/s]\n",
      "Iteration: 100%|██████████| 62/62 [00:02<00:00, 28.64it/s]\n",
      "Iteration:  84%|████████▍ | 52/62 [00:01<00:00, 33.24it/s]"
     ]
    },
    {
     "name": "stdout",
     "output_type": "stream",
     "text": [
      "Evaluating...\n"
     ]
    },
    {
     "name": "stderr",
     "output_type": "stream",
     "text": [
      "\r",
      "Iteration:  94%|█████████▎| 58/62 [00:01<00:00, 32.62it/s]\r",
      "Iteration:  31%|███       | 19/62 [00:00<00:01, 41.01it/s]\r",
      "Iteration:   6%|▋         | 4/62 [00:00<00:01, 31.42it/s]\r",
      "Iteration:  90%|█████████ | 56/62 [00:01<00:00, 32.43it/s]\r",
      "Iteration: 100%|██████████| 62/62 [00:01<00:00, 32.93it/s]\r",
      "Iteration: 100%|██████████| 62/62 [00:01<00:00, 32.23it/s]\n",
      "\r",
      "Iteration:   0%|          | 0/62 [00:00<?, ?it/s]\r",
      "Iteration:  39%|███▊      | 24/62 [00:00<00:00, 41.22it/s]\r",
      "Iteration:  13%|█▎        | 8/62 [00:00<00:01, 30.79it/s]\r",
      "Iteration:  97%|█████████▋| 60/62 [00:01<00:00, 31.88it/s]\r",
      "Iteration:   0%|          | 0/62 [00:00<?, ?it/s]"
     ]
    },
    {
     "name": "stdout",
     "output_type": "stream",
     "text": [
      "Evaluating...\n"
     ]
    },
    {
     "name": "stderr",
     "output_type": "stream",
     "text": [
      "Iteration: 100%|██████████| 62/62 [00:02<00:00, 30.95it/s]\n",
      "Iteration: 100%|██████████| 62/62 [00:01<00:00, 33.80it/s]\n",
      "Iteration: 100%|██████████| 62/62 [00:02<00:00, 29.73it/s]\n",
      "Iteration: 100%|██████████| 62/62 [00:01<00:00, 32.32it/s]\n",
      "Iteration:   0%|          | 0/62 [00:00<?, ?it/s]2.07it/s]"
     ]
    },
    {
     "name": "stdout",
     "output_type": "stream",
     "text": [
      "{'Train':  best_epoch_indx:51\n",
      " auc:0.8980527795955578 \n",
      " apur:0.8740845401612387 \n",
      " f1:0.7834756133962151 \n",
      " precision:0.7376348920863309 \n",
      " recall:0.8353914704010185 \n",
      ", 'Validation':  best_epoch_indx:51\n",
      " auc:0.8980527795955576 \n",
      " apur:0.8740845401617864 \n",
      " f1:0.7834756133962151 \n",
      " precision:0.7376348920863309 \n",
      " recall:0.8353914704010185 \n",
      ", 'Test':  best_epoch_indx:51\n",
      " auc:0.8980527795955578 \n",
      " apur:0.8740845401612387 \n",
      " f1:0.7834756133962151 \n",
      " precision:0.7376348920863309 \n",
      " recall:0.8353914704010185 \n",
      "}\n",
      "=====Epoch 52\n",
      "Training...\n"
     ]
    },
    {
     "name": "stderr",
     "output_type": "stream",
     "text": [
      "Iteration: 100%|██████████| 62/62 [00:01<00:00, 32.00it/s]\n",
      "Iteration:  65%|██████▍   | 40/62 [00:01<00:00, 34.23it/s]"
     ]
    },
    {
     "name": "stdout",
     "output_type": "stream",
     "text": [
      "{'Train':  best_epoch_indx:50\n",
      " auc:0.9024953093338748 \n",
      " apur:0.8796668013957557 \n",
      " f1:0.7866343102482733 \n",
      " precision:0.7693524829600779 \n",
      " recall:0.8047103755569701 \n",
      ", 'Validation':  best_epoch_indx:50\n",
      " auc:0.9024953152883859 \n",
      " apur:0.8796668075147613 \n",
      " f1:0.7866343102482733 \n",
      " precision:0.7693524829600779 \n",
      " recall:0.8047103755569701 \n",
      ", 'Test':  best_epoch_indx:50\n",
      " auc:0.9024953093338748 \n",
      " apur:0.8796668013957557 \n",
      " f1:0.7866343102482733 \n",
      " precision:0.7693524829600779 \n",
      " recall:0.8047103755569701 \n",
      "}\n",
      "=====Epoch 51\n",
      "Training...\n"
     ]
    },
    {
     "name": "stderr",
     "output_type": "stream",
     "text": [
      "Iteration: 100%|██████████| 62/62 [00:02<00:00, 28.82it/s]\n",
      "Iteration: 100%|██████████| 62/62 [00:01<00:00, 38.67it/s]\n",
      "Iteration:  34%|███▍      | 21/62 [00:00<00:01, 23.53it/s]"
     ]
    },
    {
     "name": "stdout",
     "output_type": "stream",
     "text": [
      "Evaluating...\n"
     ]
    },
    {
     "name": "stderr",
     "output_type": "stream",
     "text": [
      "Iteration: 100%|██████████| 62/62 [00:01<00:00, 35.93it/s]\n",
      "Iteration:  65%|██████▍   | 40/62 [00:01<00:00, 29.34it/s]"
     ]
    },
    {
     "name": "stdout",
     "output_type": "stream",
     "text": [
      "Evaluating...\n"
     ]
    },
    {
     "name": "stderr",
     "output_type": "stream",
     "text": [
      "\r",
      "Iteration:  74%|███████▍  | 46/62 [00:01<00:01, 15.63it/s]\r",
      "Iteration:   6%|▋         | 4/62 [00:00<00:01, 33.96it/s]\r",
      "Iteration:  39%|███▊      | 24/62 [00:00<00:01, 31.03it/s]\r",
      "Iteration:  71%|███████   | 44/62 [00:01<00:00, 29.91it/s]\r",
      "Iteration:   0%|          | 0/62 [00:00<?, ?it/s]\r",
      "Iteration:  45%|████▌     | 28/62 [00:00<00:01, 31.03it/s]\r",
      "Iteration:  79%|███████▉  | 49/62 [00:02<00:00, 16.54it/s]\r",
      "Iteration:  77%|███████▋  | 48/62 [00:01<00:00, 28.74it/s]"
     ]
    },
    {
     "name": "stdout",
     "output_type": "stream",
     "text": [
      "{'Train':  best_epoch_indx:57\n",
      " auc:0.9044399975965345 \n",
      " apur:0.880799605163078 \n",
      " f1:0.7879944041714358 \n",
      " precision:0.7871934951086266 \n",
      " recall:0.7887969446212604 \n",
      ", 'Validation':  best_epoch_indx:57\n",
      " auc:0.9044399975965345 \n",
      " apur:0.880799605163078 \n",
      " f1:0.7879944041714358 \n",
      " precision:0.7871934951086266 \n",
      " recall:0.7887969446212604 \n",
      ", 'Test':  best_epoch_indx:57\n",
      " auc:0.9044399975965345 \n",
      " apur:0.880799605163078 \n",
      " f1:0.7879944041714358 \n",
      " precision:0.7871934951086266 \n",
      " recall:0.7887969446212604 \n",
      "}\n",
      "=====Epoch 58\n",
      "Training...\n"
     ]
    },
    {
     "name": "stderr",
     "output_type": "stream",
     "text": [
      "Iteration: 100%|██████████| 62/62 [00:02<00:00, 24.87it/s]\n",
      "Iteration: 100%|██████████| 62/62 [00:02<00:00, 26.26it/s]\n",
      "Iteration: 100%|██████████| 62/62 [00:01<00:00, 33.24it/s]\n",
      "Iteration: 100%|██████████| 62/62 [00:01<00:00, 33.47it/s]\n",
      "Iteration: 100%|██████████| 62/62 [00:01<00:00, 37.71it/s]\n",
      "Iteration:   0%|          | 0/62 [00:00<?, ?it/s]8.13it/s]"
     ]
    },
    {
     "name": "stdout",
     "output_type": "stream",
     "text": [
      "Evaluating...\n"
     ]
    },
    {
     "name": "stderr",
     "output_type": "stream",
     "text": [
      "Iteration: 100%|██████████| 62/62 [00:02<00:00, 28.44it/s]\n",
      "Iteration: 100%|██████████| 62/62 [00:02<00:00, 25.50it/s]\n",
      "Iteration: 100%|██████████| 62/62 [00:02<00:00, 27.72it/s]\n",
      "Iteration:   3%|▎         | 2/62 [00:00<00:04, 14.90it/s]]"
     ]
    },
    {
     "name": "stdout",
     "output_type": "stream",
     "text": [
      "{'Train':  best_epoch_indx:52\n",
      " auc:0.8906935921501246 \n",
      " apur:0.8676932362074229 \n",
      " f1:0.7693982461445418 \n",
      " precision:0.7328341013824885 \n",
      " recall:0.8098026734563972 \n",
      ", 'Validation':  best_epoch_indx:52\n",
      " auc:0.8906935921501246 \n",
      " apur:0.8676932362074229 \n",
      " f1:0.7693982461445418 \n",
      " precision:0.7328341013824885 \n",
      " recall:0.8098026734563972 \n",
      ", 'Test':  best_epoch_indx:52\n",
      " auc:0.8906935921501246 \n",
      " apur:0.8676932362074229 \n",
      " f1:0.7693982461445418 \n",
      " precision:0.7328341013824885 \n",
      " recall:0.8098026734563972 \n",
      "}\n",
      "=====Epoch 53\n",
      "Training...\n"
     ]
    },
    {
     "name": "stderr",
     "output_type": "stream",
     "text": [
      "Iteration: 100%|██████████| 62/62 [00:02<00:00, 22.73it/s]\n",
      "Iteration: 100%|██████████| 62/62 [00:01<00:00, 31.25it/s]\n",
      "Iteration:   6%|▋         | 4/62 [00:00<00:01, 35.17it/s]]"
     ]
    },
    {
     "name": "stdout",
     "output_type": "stream",
     "text": [
      "{'Train':  best_epoch_indx:54\n",
      " auc:0.8842398679527615 \n",
      " apur:0.8563962236778685 \n",
      " f1:0.7671397642530671 \n",
      " precision:0.7270033055967172 \n",
      " recall:0.8119669000636537 \n",
      ", 'Validation':  best_epoch_indx:54\n",
      " auc:0.8842398679527615 \n",
      " apur:0.8563962236778685 \n",
      " f1:0.7671397642530671 \n",
      " precision:0.7270033055967172 \n",
      " recall:0.8119669000636537 \n",
      ", 'Test':  best_epoch_indx:54\n",
      " auc:0.8842398679527615 \n",
      " apur:0.8563962236778685 \n",
      " f1:0.7671397642530671 \n",
      " precision:0.7270033055967172 \n",
      " recall:0.8119669000636537 \n",
      "}\n",
      "=====Epoch 55\n",
      "Training...\n"
     ]
    },
    {
     "name": "stderr",
     "output_type": "stream",
     "text": [
      "Iteration: 100%|██████████| 62/62 [00:01<00:00, 33.49it/s]\n",
      "Iteration:  79%|███████▉  | 49/62 [00:01<00:00, 41.35it/s]"
     ]
    },
    {
     "name": "stdout",
     "output_type": "stream",
     "text": [
      "Evaluating...\n"
     ]
    },
    {
     "name": "stderr",
     "output_type": "stream",
     "text": [
      "Iteration: 100%|██████████| 62/62 [00:01<00:00, 38.50it/s]\n",
      "Iteration:  15%|█▍        | 9/62 [00:00<00:02, 23.45it/s]]"
     ]
    },
    {
     "name": "stdout",
     "output_type": "stream",
     "text": [
      "Evaluating...\n"
     ]
    },
    {
     "name": "stderr",
     "output_type": "stream",
     "text": [
      "Iteration: 100%|██████████| 62/62 [00:01<00:00, 32.81it/s]\n",
      "Iteration:   0%|          | 0/62 [00:00<?, ?it/s]6.60it/s]"
     ]
    },
    {
     "name": "stdout",
     "output_type": "stream",
     "text": [
      "{'Train':  best_epoch_indx:52\n",
      " auc:0.8970857550826218 \n",
      " apur:0.8717423621035908 \n",
      " f1:0.7819651741293533 \n",
      " precision:0.7643768996960486 \n",
      " recall:0.8003819223424571 \n",
      ", 'Validation':  best_epoch_indx:52\n",
      " auc:0.897085761037133 \n",
      " apur:0.8717423701977001 \n",
      " f1:0.7819651741293533 \n",
      " precision:0.7643768996960486 \n",
      " recall:0.8003819223424571 \n",
      ", 'Test':  best_epoch_indx:52\n",
      " auc:0.8970857550826218 \n",
      " apur:0.8717423621035909 \n",
      " f1:0.7819651741293533 \n",
      " precision:0.7643768996960486 \n",
      " recall:0.8003819223424571 \n",
      "}\n",
      "=====Epoch 53\n",
      "Training...\n"
     ]
    },
    {
     "name": "stderr",
     "output_type": "stream",
     "text": [
      "Iteration: 100%|██████████| 62/62 [00:02<00:00, 24.66it/s]\n",
      "Iteration: 100%|██████████| 62/62 [00:02<00:00, 25.37it/s]\n",
      "Iteration: 100%|██████████| 62/62 [00:02<00:00, 24.93it/s]\n",
      "Iteration: 100%|██████████| 62/62 [00:01<00:00, 40.46it/s]\n",
      "Iteration:   6%|▋         | 4/62 [00:00<00:01, 30.69it/s]]"
     ]
    },
    {
     "name": "stdout",
     "output_type": "stream",
     "text": [
      "Evaluating...\n"
     ]
    },
    {
     "name": "stderr",
     "output_type": "stream",
     "text": [
      "Iteration: 100%|██████████| 62/62 [00:02<00:00, 23.44it/s]\n",
      "Iteration:  40%|████      | 25/62 [00:00<00:00, 42.67it/s]"
     ]
    },
    {
     "name": "stdout",
     "output_type": "stream",
     "text": [
      "{'Train':  best_epoch_indx:51\n",
      " auc:0.8989398945694264 \n",
      " apur:0.8753857854432575 \n",
      " f1:0.7830371063299033 \n",
      " precision:0.767481662591687 \n",
      " recall:0.799236155315086 \n",
      ", 'Validation':  best_epoch_indx:51\n",
      " auc:0.8989398945694264 \n",
      " apur:0.8753857854432575 \n",
      " f1:0.7830371063299033 \n",
      " precision:0.767481662591687 \n",
      " recall:0.799236155315086 \n",
      ", 'Test':  best_epoch_indx:51\n",
      " auc:0.8989398945694264 \n",
      " apur:0.8753857854432575 \n",
      " f1:0.7830371063299033 \n",
      " precision:0.767481662591687 \n",
      " recall:0.799236155315086 \n",
      "}\n",
      "=====Epoch 52\n",
      "Training...\n"
     ]
    },
    {
     "name": "stderr",
     "output_type": "stream",
     "text": [
      "Iteration: 100%|██████████| 62/62 [00:01<00:00, 37.56it/s]\n",
      "Iteration: 100%|██████████| 62/62 [00:01<00:00, 35.35it/s]\n",
      "Iteration:  90%|█████████ | 56/62 [00:02<00:00, 25.04it/s]"
     ]
    },
    {
     "name": "stdout",
     "output_type": "stream",
     "text": [
      "Evaluating...\n"
     ]
    },
    {
     "name": "stderr",
     "output_type": "stream",
     "text": [
      "Iteration: 100%|██████████| 62/62 [00:02<00:00, 25.80it/s]\n",
      "Iteration: 100%|██████████| 62/62 [00:02<00:00, 25.37it/s]\n",
      "Iteration:  73%|███████▎  | 45/62 [00:01<00:00, 41.32it/s]"
     ]
    },
    {
     "name": "stdout",
     "output_type": "stream",
     "text": [
      "{'Train':  best_epoch_indx:58\n",
      " auc:0.9156114434733911 \n",
      " apur:0.8932280800805162 \n",
      " f1:0.8017680643378968 \n",
      " precision:0.7742470950912971 \n",
      " recall:0.8313176320814768 \n",
      ", 'Validation':  best_epoch_indx:58\n",
      " auc:0.9156114434733911 \n",
      " apur:0.8932280800805164 \n",
      " f1:0.8017680643378968 \n",
      " precision:0.7742470950912971 \n",
      " recall:0.8313176320814768 \n",
      ", 'Test':  best_epoch_indx:58\n",
      " auc:0.9156114434733911 \n",
      " apur:0.8932280800805162 \n",
      " f1:0.8017680643378968 \n",
      " precision:0.7742470950912971 \n",
      " recall:0.8313176320814768 \n",
      "}\n",
      "=====Epoch 59\n",
      "Training...\n"
     ]
    },
    {
     "name": "stderr",
     "output_type": "stream",
     "text": [
      "Iteration: 100%|██████████| 62/62 [00:02<00:00, 25.54it/s]\n",
      "Iteration: 100%|██████████| 62/62 [00:01<00:00, 34.63it/s]\n",
      "Iteration: 100%|██████████| 62/62 [00:01<00:00, 33.97it/s]\n",
      "Iteration: 100%|██████████| 62/62 [00:01<00:00, 36.11it/s]\n",
      "Iteration:  90%|█████████ | 56/62 [00:02<00:00, 31.37it/s]"
     ]
    },
    {
     "name": "stdout",
     "output_type": "stream",
     "text": [
      "Evaluating...\n"
     ]
    },
    {
     "name": "stderr",
     "output_type": "stream",
     "text": [
      "Iteration: 100%|██████████| 62/62 [00:02<00:00, 27.63it/s]\n",
      "Iteration:  52%|█████▏    | 32/62 [00:01<00:01, 22.29it/s]"
     ]
    },
    {
     "name": "stdout",
     "output_type": "stream",
     "text": [
      "{'Train':  best_epoch_indx:53\n",
      " auc:0.8925609705188988 \n",
      " apur:0.8667936866721526 \n",
      " f1:0.7759272383652256 \n",
      " precision:0.7236972568029084 \n",
      " recall:0.8362826225334182 \n",
      ", 'Validation':  best_epoch_indx:53\n",
      " auc:0.8925609645638307 \n",
      " apur:0.8667936805594154 \n",
      " f1:0.7759272383652256 \n",
      " precision:0.7236972568029084 \n",
      " recall:0.8362826225334182 \n",
      ", 'Test':  best_epoch_indx:53\n",
      " auc:0.892560970518899 \n",
      " apur:0.8667936866726841 \n",
      " f1:0.7759272383652256 \n",
      " precision:0.7236972568029084 \n",
      " recall:0.8362826225334182 \n",
      "}\n",
      "=====Epoch 54\n",
      "Training...\n"
     ]
    },
    {
     "name": "stderr",
     "output_type": "stream",
     "text": [
      "Iteration: 100%|██████████| 62/62 [00:02<00:00, 23.75it/s]\n",
      "Iteration: 100%|██████████| 62/62 [00:01<00:00, 37.13it/s]\n",
      "Iteration: 100%|██████████| 62/62 [00:02<00:00, 24.98it/s]\n",
      "Iteration: 100%|██████████| 62/62 [00:02<00:00, 25.66it/s]\n",
      "Iteration:  90%|█████████ | 56/62 [00:02<00:00, 16.60it/s]"
     ]
    },
    {
     "name": "stdout",
     "output_type": "stream",
     "text": [
      "Evaluating...\n"
     ]
    },
    {
     "name": "stderr",
     "output_type": "stream",
     "text": [
      "\r",
      "Iteration:  13%|█▎        | 8/62 [00:00<00:01, 32.48it/s]\r",
      "Iteration:  98%|█████████▊| 61/62 [00:02<00:00, 21.81it/s]\r",
      "Iteration: 100%|██████████| 62/62 [00:02<00:00, 20.93it/s]\n",
      "\r",
      "Iteration:  19%|█▉        | 12/62 [00:00<00:01, 32.60it/s]\r",
      "Iteration:   0%|          | 0/62 [00:00<?, ?it/s]"
     ]
    },
    {
     "name": "stdout",
     "output_type": "stream",
     "text": [
      "{'Train':  best_epoch_indx:55\n",
      " auc:0.893536890280392 \n",
      " apur:0.8671120921019403 \n",
      " f1:0.7809707800048297 \n",
      " precision:0.7426799862211505 \n",
      " recall:0.8234245703373647 \n",
      ", 'Validation':  best_epoch_indx:55\n",
      " auc:0.893536890280392 \n",
      " apur:0.8671120921019403 \n",
      " f1:0.7809707800048297 \n",
      " precision:0.7426799862211505 \n",
      " recall:0.8234245703373647 \n",
      ", 'Test':  best_epoch_indx:55\n",
      " auc:0.893536890280392 \n",
      " apur:0.8671120921019403 \n",
      " f1:0.7809707800048297 \n",
      " precision:0.7426799862211505 \n",
      " recall:0.8234245703373647 \n",
      "}\n",
      "=====Epoch 56\n",
      "Training...\n"
     ]
    },
    {
     "name": "stderr",
     "output_type": "stream",
     "text": [
      "\r",
      "Iteration:  26%|██▌       | 16/62 [00:00<00:01, 32.67it/s]\r",
      "Iteration:   6%|▋         | 4/62 [00:00<00:01, 32.37it/s]\r",
      "Iteration:   0%|          | 0/62 [00:00<?, ?it/s]\r",
      "Iteration:  34%|███▍      | 21/62 [00:00<00:01, 36.37it/s]\r",
      "Iteration:  13%|█▎        | 8/62 [00:00<00:01, 30.86it/s]\r",
      "Iteration:   6%|▋         | 4/62 [00:00<00:01, 34.50it/s]"
     ]
    },
    {
     "name": "stdout",
     "output_type": "stream",
     "text": [
      "{'Train':  best_epoch_indx:53\n",
      " auc:0.8845654784836718 \n",
      " apur:0.8601159257706612 \n",
      " f1:0.7667151585685191 \n",
      " precision:0.7061093247588425 \n",
      " recall:0.838701464035646 \n",
      ", 'Validation':  best_epoch_indx:53\n",
      " auc:0.8845654784836718 \n",
      " apur:0.8601159257706612 \n",
      " f1:0.7667151585685191 \n",
      " precision:0.7061093247588425 \n",
      " recall:0.838701464035646 \n",
      ", 'Test':  best_epoch_indx:53\n",
      " auc:0.8845654784836718 \n",
      " apur:0.8601159257706612 \n",
      " f1:0.7667151585685191 \n",
      " precision:0.7061093247588425 \n",
      " recall:0.838701464035646 \n",
      "}\n",
      "=====Epoch 54\n",
      "Training...\n"
     ]
    },
    {
     "name": "stderr",
     "output_type": "stream",
     "text": [
      "Iteration: 100%|██████████| 62/62 [00:01<00:00, 38.62it/s]\n",
      "Iteration: 100%|██████████| 62/62 [00:01<00:00, 36.99it/s]\n",
      "Iteration:  29%|██▉       | 18/62 [00:00<00:01, 23.13it/s]"
     ]
    },
    {
     "name": "stdout",
     "output_type": "stream",
     "text": [
      "Evaluating...\n"
     ]
    },
    {
     "name": "stderr",
     "output_type": "stream",
     "text": [
      "Iteration: 100%|██████████| 62/62 [00:02<00:00, 25.01it/s]\n",
      "Iteration:  92%|█████████▏| 57/62 [00:02<00:00, 23.36it/s]"
     ]
    },
    {
     "name": "stdout",
     "output_type": "stream",
     "text": [
      "Evaluating...\n"
     ]
    },
    {
     "name": "stderr",
     "output_type": "stream",
     "text": [
      "Iteration: 100%|██████████| 62/62 [00:01<00:00, 42.60it/s]\n",
      "Iteration: 100%|██████████| 62/62 [00:02<00:00, 21.20it/s]\n",
      "Iteration: 100%|██████████| 62/62 [00:02<00:00, 24.53it/s]\n",
      "Iteration: 100%|██████████| 62/62 [00:02<00:00, 27.30it/s]\n",
      "Iteration:   0%|          | 0/62 [00:00<?, ?it/s]5.32it/s]"
     ]
    },
    {
     "name": "stdout",
     "output_type": "stream",
     "text": [
      "{'Train':  best_epoch_indx:52\n",
      " auc:0.8965529097016254 \n",
      " apur:0.8725305959031093 \n",
      " f1:0.77927474187862 \n",
      " precision:0.770830738572674 \n",
      " recall:0.7879057924888606 \n",
      ", 'Validation':  best_epoch_indx:52\n",
      " auc:0.8965529097016254 \n",
      " apur:0.8725305959031093 \n",
      " f1:0.77927474187862 \n",
      " precision:0.770830738572674 \n",
      " recall:0.7879057924888606 \n",
      ", 'Test':  best_epoch_indx:52\n",
      " auc:0.8965529097016254 \n",
      " apur:0.8725305959031093 \n",
      " f1:0.77927474187862 \n",
      " precision:0.770830738572674 \n",
      " recall:0.7879057924888606 \n",
      "}\n",
      "=====Epoch 53\n",
      "Training...\n"
     ]
    },
    {
     "name": "stderr",
     "output_type": "stream",
     "text": [
      "Iteration: 100%|██████████| 62/62 [00:02<00:00, 25.70it/s]\n",
      "Iteration: 100%|██████████| 62/62 [00:02<00:00, 24.87it/s]\n",
      "Iteration: 100%|██████████| 62/62 [00:02<00:00, 29.75it/s]\n",
      "Iteration: 100%|██████████| 62/62 [00:01<00:00, 34.67it/s]\n",
      "Iteration:  84%|████████▍ | 52/62 [00:01<00:00, 28.56it/s]"
     ]
    },
    {
     "name": "stdout",
     "output_type": "stream",
     "text": [
      "Evaluating...\n",
      "{'Train':  best_epoch_indx:54\n",
      " auc:0.880521543679919 \n",
      " apur:0.8556012242027073 \n",
      " f1:0.7630728730405647 \n",
      " precision:0.719832938254882 \n",
      " recall:0.811839592616168 \n",
      ", 'Validation':  best_epoch_indx:54\n",
      " auc:0.880521543679919 \n",
      " apur:0.8556012242027073 \n",
      " f1:0.7630728730405647 \n",
      " precision:0.719832938254882 \n",
      " recall:0.811839592616168 \n",
      ", 'Test':  best_epoch_indx:54\n",
      " auc:0.880521543679919 \n",
      " apur:0.8556012242027073 \n",
      " f1:0.7630728730405647 \n",
      " precision:0.719832938254882 \n",
      " recall:0.811839592616168 \n",
      "}\n",
      "=====Epoch 55\n",
      "Training...\n"
     ]
    },
    {
     "name": "stderr",
     "output_type": "stream",
     "text": [
      "Iteration: 100%|██████████| 62/62 [00:02<00:00, 27.76it/s]\n",
      "Iteration:  31%|███       | 19/62 [00:00<00:01, 33.58it/s]"
     ]
    },
    {
     "name": "stdout",
     "output_type": "stream",
     "text": [
      "{'Train':  best_epoch_indx:59\n",
      " auc:0.9214267938407207 \n",
      " apur:0.9015699585175394 \n",
      " f1:0.8104407359863073 \n",
      " precision:0.7795155221072436 \n",
      " recall:0.8439210693825588 \n",
      ", 'Validation':  best_epoch_indx:59\n",
      " auc:0.9214267878856525 \n",
      " apur:0.9015699405846261 \n",
      " f1:0.8104407359863073 \n",
      " precision:0.7795155221072436 \n",
      " recall:0.8439210693825588 \n",
      ", 'Test':  best_epoch_indx:59\n",
      " auc:0.9214267878856526 \n",
      " apur:0.901569940584626 \n",
      " f1:0.8104407359863073 \n",
      " precision:0.7795155221072436 \n",
      " recall:0.8439210693825588 \n",
      "}\n",
      "=====Epoch 60\n",
      "Training...\n"
     ]
    },
    {
     "name": "stderr",
     "output_type": "stream",
     "text": [
      "Iteration: 100%|██████████| 62/62 [00:01<00:00, 36.60it/s]\n",
      "Iteration: 100%|██████████| 62/62 [00:01<00:00, 35.80it/s]\n",
      "Iteration: 100%|██████████| 62/62 [00:01<00:00, 33.23it/s]\n",
      "Iteration:   0%|          | 0/62 [00:00<?, ?it/s]"
     ]
    },
    {
     "name": "stdout",
     "output_type": "stream",
     "text": [
      "Evaluating...\n",
      "Evaluating...\n"
     ]
    },
    {
     "name": "stderr",
     "output_type": "stream",
     "text": [
      "Iteration: 100%|██████████| 62/62 [00:01<00:00, 40.88it/s]\n",
      "Iteration: 100%|██████████| 62/62 [00:01<00:00, 33.98it/s]\n",
      "Iteration: 100%|██████████| 62/62 [00:02<00:00, 27.07it/s]\n",
      "Iteration: 100%|██████████| 62/62 [00:02<00:00, 22.19it/s]\n",
      "Iteration: 100%|██████████| 62/62 [00:02<00:00, 26.57it/s]\n",
      "Iteration: 100%|██████████| 62/62 [00:01<00:00, 33.06it/s]\n",
      "Iteration:   6%|▋         | 4/62 [00:00<00:01, 36.00it/s]"
     ]
    },
    {
     "name": "stdout",
     "output_type": "stream",
     "text": [
      "{'Train':  best_epoch_indx:54\n",
      " auc:0.8863213625826858 \n",
      " apur:0.8606920617872903 \n",
      " f1:0.7719426209579383 \n",
      " precision:0.7386297545655461 \n",
      " recall:0.8084022915340547 \n",
      ", 'Validation':  best_epoch_indx:54\n",
      " auc:0.8863213625826858 \n",
      " apur:0.8606920617872903 \n",
      " f1:0.7719426209579383 \n",
      " precision:0.7386297545655461 \n",
      " recall:0.8084022915340547 \n",
      ", 'Test':  best_epoch_indx:54\n",
      " auc:0.8863213625826858 \n",
      " apur:0.8606920617872903 \n",
      " f1:0.7719426209579383 \n",
      " precision:0.7386297545655461 \n",
      " recall:0.8084022915340547 \n",
      "}\n",
      "=====Epoch 55\n",
      "Training...\n",
      "{'Train':  best_epoch_indx:56\n",
      " auc:0.9011388002493749 \n",
      " apur:0.8766864904366807 \n",
      " f1:0.7863608931804466 \n",
      " precision:0.7475616752725186 \n",
      " recall:0.8294080203691916 \n",
      ", 'Validation':  best_epoch_indx:56\n",
      " auc:0.9011388002493749 \n",
      " apur:0.8766864904372832 \n",
      " f1:0.7863608931804466 \n",
      " precision:0.7475616752725186 \n",
      " recall:0.8294080203691916 \n",
      ", 'Test':  best_epoch_indx:56\n",
      " auc:0.9011388002493749 \n",
      " apur:0.8766864904372832 \n",
      " f1:0.7863608931804466 \n",
      " precision:0.7475616752725186 \n",
      " recall:0.8294080203691916 \n",
      "}\n",
      "=====Epoch 57\n",
      "Training...\n"
     ]
    },
    {
     "name": "stderr",
     "output_type": "stream",
     "text": [
      "Iteration: 100%|██████████| 62/62 [00:01<00:00, 41.38it/s]\n",
      "Iteration:  63%|██████▎   | 39/62 [00:01<00:01, 20.48it/s]"
     ]
    },
    {
     "name": "stdout",
     "output_type": "stream",
     "text": [
      "Evaluating...\n"
     ]
    },
    {
     "name": "stderr",
     "output_type": "stream",
     "text": [
      "Iteration: 100%|██████████| 62/62 [00:02<00:00, 30.99it/s]\n",
      "Iteration: 100%|██████████| 62/62 [00:01<00:00, 32.68it/s]\n",
      "Iteration: 100%|██████████| 62/62 [00:02<00:00, 27.54it/s]\n",
      "Iteration:   0%|          | 0/62 [00:00<?, ?it/s]"
     ]
    },
    {
     "name": "stdout",
     "output_type": "stream",
     "text": [
      "Evaluating...\n"
     ]
    },
    {
     "name": "stderr",
     "output_type": "stream",
     "text": [
      "Iteration: 100%|██████████| 62/62 [00:02<00:00, 23.53it/s]\n",
      "Iteration: 100%|██████████| 62/62 [00:01<00:00, 38.72it/s]\n",
      "Iteration:   0%|          | 0/62 [00:00<?, ?it/s]2.93it/s]"
     ]
    },
    {
     "name": "stdout",
     "output_type": "stream",
     "text": [
      "{'Train':  best_epoch_indx:53\n",
      " auc:0.8932700865011828 \n",
      " apur:0.8690705906891958 \n",
      " f1:0.7779967747715464 \n",
      " precision:0.7327857785778578 \n",
      " recall:0.8291534054742202 \n",
      ", 'Validation':  best_epoch_indx:53\n",
      " auc:0.8932700865011828 \n",
      " apur:0.8690705906891958 \n",
      " f1:0.7779967747715464 \n",
      " precision:0.7327857785778578 \n",
      " recall:0.8291534054742202 \n",
      ", 'Test':  best_epoch_indx:53\n",
      " auc:0.8932700865011828 \n",
      " apur:0.8690705906891958 \n",
      " f1:0.7779967747715464 \n",
      " precision:0.7327857785778578 \n",
      " recall:0.8291534054742202 \n",
      "}\n",
      "=====Epoch 54\n",
      "Training...\n"
     ]
    },
    {
     "name": "stderr",
     "output_type": "stream",
     "text": [
      "Iteration: 100%|██████████| 62/62 [00:02<00:00, 26.96it/s]\n",
      "Iteration: 100%|██████████| 62/62 [00:02<00:00, 26.75it/s]\n",
      "Iteration: 100%|██████████| 62/62 [00:02<00:00, 21.94it/s]\n",
      "Iteration: 100%|██████████| 62/62 [00:01<00:00, 34.01it/s]\n",
      "Iteration: 100%|██████████| 62/62 [00:02<00:00, 25.56it/s]\n",
      "Iteration:   6%|▋         | 4/62 [00:00<00:01, 33.13it/s]]"
     ]
    },
    {
     "name": "stdout",
     "output_type": "stream",
     "text": [
      "Evaluating...\n",
      "{'Train':  best_epoch_indx:60\n",
      " auc:0.9219186288765187 \n",
      " apur:0.9029955494407601 \n",
      " f1:0.8076486179477471 \n",
      " precision:0.800775872856964 \n",
      " recall:0.814640356460853 \n",
      ", 'Validation':  best_epoch_indx:60\n",
      " auc:0.9219186288765187 \n",
      " apur:0.9029955494407601 \n",
      " f1:0.8076486179477471 \n",
      " precision:0.800775872856964 \n",
      " recall:0.814640356460853 \n",
      ", 'Test':  best_epoch_indx:60\n",
      " auc:0.9219186288765187 \n",
      " apur:0.9029955494407601 \n",
      " f1:0.8076486179477471 \n",
      " precision:0.800775872856964 \n",
      " recall:0.814640356460853 \n",
      "}\n",
      "=====Epoch 61\n",
      "Training...\n"
     ]
    },
    {
     "name": "stderr",
     "output_type": "stream",
     "text": [
      "\r",
      "Iteration:   0%|          | 0/62 [00:00<?, ?it/s]\r",
      "Iteration:  55%|█████▍    | 34/62 [00:00<00:00, 39.10it/s]\r",
      "Iteration:  13%|█▎        | 8/62 [00:00<00:01, 34.02it/s]\r",
      "Iteration:   8%|▊         | 5/62 [00:00<00:01, 42.24it/s]\r",
      "Iteration:  21%|██        | 13/62 [00:00<00:01, 37.67it/s]\r",
      "Iteration:  61%|██████▏   | 38/62 [00:01<00:00, 35.02it/s]"
     ]
    },
    {
     "name": "stdout",
     "output_type": "stream",
     "text": [
      "{'Train':  best_epoch_indx:55\n",
      " auc:0.8911973611425489 \n",
      " apur:0.8657054670688089 \n",
      " f1:0.773948705392667 \n",
      " precision:0.745343079462391 \n",
      " recall:0.8048376830044558 \n",
      ", 'Validation':  best_epoch_indx:55\n",
      " auc:0.8911973611425489 \n",
      " apur:0.8657054670688089 \n",
      " f1:0.773948705392667 \n",
      " precision:0.745343079462391 \n",
      " recall:0.8048376830044558 \n",
      ", 'Test':  best_epoch_indx:55\n",
      " auc:0.8911973611425489 \n",
      " apur:0.8657054670688089 \n",
      " f1:0.773948705392667 \n",
      " precision:0.745343079462391 \n",
      " recall:0.8048376830044558 \n",
      "}\n",
      "=====Epoch 56\n",
      "Training...\n"
     ]
    },
    {
     "name": "stderr",
     "output_type": "stream",
     "text": [
      "Iteration: 100%|██████████| 62/62 [00:01<00:00, 35.43it/s]\n",
      "Iteration: 100%|██████████| 62/62 [00:02<00:00, 28.28it/s]\n",
      "Iteration: 100%|██████████| 62/62 [00:02<00:00, 26.05it/s]\n",
      "Iteration:  95%|█████████▌| 59/62 [00:01<00:00, 30.57it/s]"
     ]
    },
    {
     "name": "stdout",
     "output_type": "stream",
     "text": [
      "Evaluating...\n",
      "Evaluating...\n"
     ]
    },
    {
     "name": "stderr",
     "output_type": "stream",
     "text": [
      "Iteration: 100%|██████████| 62/62 [00:02<00:00, 30.43it/s]\n",
      "Iteration: 100%|██████████| 62/62 [00:01<00:00, 32.03it/s]\n",
      "Iteration:   6%|▋         | 4/62 [00:00<00:01, 34.75it/s]]"
     ]
    },
    {
     "name": "stdout",
     "output_type": "stream",
     "text": [
      "{'Train':  best_epoch_indx:57\n",
      " auc:0.9098937834308582 \n",
      " apur:0.8875601636021135 \n",
      " f1:0.7985549840803331 \n",
      " precision:0.7692579922142267 \n",
      " recall:0.8301718650541057 \n",
      ", 'Validation':  best_epoch_indx:57\n",
      " auc:0.9098937834308584 \n",
      " apur:0.8875601636021135 \n",
      " f1:0.7985549840803331 \n",
      " precision:0.7692579922142267 \n",
      " recall:0.8301718650541057 \n",
      ", 'Test':  best_epoch_indx:57\n",
      " auc:0.9098937834308584 \n",
      " apur:0.8875601636021135 \n",
      " f1:0.7985549840803331 \n",
      " precision:0.7692579922142267 \n",
      " recall:0.8301718650541057 \n",
      "}\n",
      "=====Epoch 58\n",
      "Training...\n"
     ]
    },
    {
     "name": "stderr",
     "output_type": "stream",
     "text": [
      "Iteration: 100%|██████████| 62/62 [00:02<00:00, 30.85it/s]\n",
      "Iteration:   3%|▎         | 2/62 [00:00<00:03, 16.89it/s]]"
     ]
    },
    {
     "name": "stdout",
     "output_type": "stream",
     "text": [
      "{'Train':  best_epoch_indx:55\n",
      " auc:0.8925173648430184 \n",
      " apur:0.865807414361712 \n",
      " f1:0.772327362491297 \n",
      " precision:0.7680010070493454 \n",
      " recall:0.7767027371101209 \n",
      ", 'Validation':  best_epoch_indx:55\n",
      " auc:0.8925173648430184 \n",
      " apur:0.865807414361712 \n",
      " f1:0.772327362491297 \n",
      " precision:0.7680010070493454 \n",
      " recall:0.7767027371101209 \n",
      ", 'Test':  best_epoch_indx:55\n",
      " auc:0.8925173648430184 \n",
      " apur:0.865807414361712 \n",
      " f1:0.772327362491297 \n",
      " precision:0.7680010070493454 \n",
      " recall:0.7767027371101209 \n",
      "}\n",
      "=====Epoch 56\n",
      "Training...\n"
     ]
    },
    {
     "name": "stderr",
     "output_type": "stream",
     "text": [
      "\r",
      "Iteration:  85%|████████▌ | 53/62 [00:01<00:00, 27.08it/s]\r",
      "Iteration:  92%|█████████▏| 57/62 [00:01<00:00, 42.96it/s]\r",
      "Iteration:  48%|████▊     | 30/62 [00:01<00:01, 25.13it/s]\r",
      "Iteration:  95%|█████████▌| 59/62 [00:01<00:00, 29.84it/s]\r",
      "Iteration:  11%|█▏        | 7/62 [00:00<00:01, 31.25it/s]\r",
      "Iteration:  90%|█████████ | 56/62 [00:02<00:00, 26.01it/s]\r",
      "Iteration: 100%|██████████| 62/62 [00:01<00:00, 42.49it/s]\r",
      "Iteration: 100%|██████████| 62/62 [00:01<00:00, 41.27it/s]\n",
      "\r",
      "Iteration:   0%|          | 0/62 [00:00<?, ?it/s]\r",
      "Iteration:  53%|█████▎    | 33/62 [00:01<00:01, 24.49it/s]\r",
      "Iteration: 100%|██████████| 62/62 [00:02<00:00, 29.92it/s]\n",
      "\r",
      "Iteration:  19%|█▉        | 12/62 [00:00<00:01, 36.43it/s]"
     ]
    },
    {
     "name": "stdout",
     "output_type": "stream",
     "text": [
      "Evaluating...\n"
     ]
    },
    {
     "name": "stderr",
     "output_type": "stream",
     "text": [
      "Iteration: 100%|██████████| 62/62 [00:02<00:00, 26.72it/s]\n",
      "Iteration: 100%|██████████| 62/62 [00:02<00:00, 30.21it/s]\n",
      "Iteration: 100%|██████████| 62/62 [00:01<00:00, 39.63it/s]\n",
      "Iteration:  31%|███       | 19/62 [00:00<00:01, 28.68it/s]"
     ]
    },
    {
     "name": "stdout",
     "output_type": "stream",
     "text": [
      "Evaluating...\n"
     ]
    },
    {
     "name": "stderr",
     "output_type": "stream",
     "text": [
      "Iteration: 100%|██████████| 62/62 [00:02<00:00, 28.68it/s]\n",
      "Iteration: 100%|██████████| 62/62 [00:02<00:00, 28.11it/s]\n",
      "Iteration: 100%|██████████| 62/62 [00:01<00:00, 31.89it/s]\n",
      "Iteration: 100%|██████████| 62/62 [00:02<00:00, 26.95it/s]\n",
      "Iteration: 100%|██████████| 62/62 [00:02<00:00, 29.91it/s]\n",
      "Iteration:  45%|████▌     | 28/62 [00:00<00:00, 35.07it/s]"
     ]
    },
    {
     "name": "stdout",
     "output_type": "stream",
     "text": [
      "{'Train':  best_epoch_indx:54\n",
      " auc:0.8889009937483587 \n",
      " apur:0.8632515848037587 \n",
      " f1:0.7718805350271788 \n",
      " precision:0.7418408077013383 \n",
      " recall:0.8044557606619988 \n",
      ", 'Validation':  best_epoch_indx:54\n",
      " auc:0.8889009937483587 \n",
      " apur:0.8632515848037587 \n",
      " f1:0.7718805350271788 \n",
      " precision:0.7418408077013383 \n",
      " recall:0.8044557606619988 \n",
      ", 'Test':  best_epoch_indx:54\n",
      " auc:0.8889009937483587 \n",
      " apur:0.8632515848037587 \n",
      " f1:0.7718805350271788 \n",
      " precision:0.7418408077013383 \n",
      " recall:0.8044557606619988 \n",
      "}\n",
      "=====Epoch 55\n",
      "Training...\n"
     ]
    },
    {
     "name": "stderr",
     "output_type": "stream",
     "text": [
      "Iteration: 100%|██████████| 62/62 [00:01<00:00, 37.24it/s]\n",
      "Iteration: 100%|██████████| 62/62 [00:02<00:00, 29.89it/s]\n",
      "Iteration: 100%|██████████| 62/62 [00:01<00:00, 40.07it/s]\n",
      "Iteration: 100%|██████████| 62/62 [00:01<00:00, 32.80it/s]\n",
      "Iteration:  23%|██▎       | 14/62 [00:00<00:01, 29.34it/s]"
     ]
    },
    {
     "name": "stdout",
     "output_type": "stream",
     "text": [
      "Evaluating...\n"
     ]
    },
    {
     "name": "stderr",
     "output_type": "stream",
     "text": [
      "Iteration:  56%|█████▋    | 35/62 [00:01<00:01, 25.69it/s]"
     ]
    },
    {
     "name": "stdout",
     "output_type": "stream",
     "text": [
      "{'Train':  best_epoch_indx:61\n",
      " auc:0.9169771847641486 \n",
      " apur:0.8962057010465955 \n",
      " f1:0.8031486302218918 \n",
      " precision:0.7825824374924508 \n",
      " recall:0.8248249522597072 \n",
      ", 'Validation':  best_epoch_indx:61\n",
      " auc:0.9169771847641486 \n",
      " apur:0.8962057010465955 \n",
      " f1:0.8031486302218918 \n",
      " precision:0.7825824374924508 \n",
      " recall:0.8248249522597072 \n",
      ", 'Test':  best_epoch_indx:61\n",
      " auc:0.9169771847641486 \n",
      " apur:0.8962057010465955 \n",
      " f1:0.8031486302218918 \n",
      " precision:0.7825824374924508 \n",
      " recall:0.8248249522597072 \n",
      "}\n",
      "=====Epoch 62\n",
      "Training...\n"
     ]
    },
    {
     "name": "stderr",
     "output_type": "stream",
     "text": [
      "Iteration: 100%|██████████| 62/62 [00:02<00:00, 21.56it/s]\n",
      "Iteration: 100%|██████████| 62/62 [00:02<00:00, 28.89it/s]\n",
      "Iteration: 100%|██████████| 62/62 [00:02<00:00, 24.46it/s]\n",
      "Iteration: 100%|██████████| 62/62 [00:01<00:00, 36.31it/s]\n",
      "Iteration:   0%|          | 0/62 [00:00<?, ?it/s]"
     ]
    },
    {
     "name": "stdout",
     "output_type": "stream",
     "text": [
      "{'Train':  best_epoch_indx:56\n",
      " auc:0.9017488903772589 \n",
      " apur:0.8798907427844066 \n",
      " f1:0.7873758177853162 \n",
      " precision:0.7510689934126893 \n",
      " recall:0.8273711012094207 \n",
      ", 'Validation':  best_epoch_indx:56\n",
      " auc:0.9017488903772589 \n",
      " apur:0.8798907427844066 \n",
      " f1:0.7873758177853162 \n",
      " precision:0.7510689934126893 \n",
      " recall:0.8273711012094207 \n",
      ", 'Test':  best_epoch_indx:56\n",
      " auc:0.9017488903772589 \n",
      " apur:0.8798907427844066 \n",
      " f1:0.7873758177853162 \n",
      " precision:0.7510689934126893 \n",
      " recall:0.8273711012094207 \n",
      "}\n",
      "=====Epoch 57\n",
      "Training...\n",
      "Evaluating...\n"
     ]
    },
    {
     "name": "stderr",
     "output_type": "stream",
     "text": [
      "Iteration:  60%|█████▉    | 37/62 [00:00<00:00, 38.16it/s]"
     ]
    },
    {
     "name": "stdout",
     "output_type": "stream",
     "text": [
      "{'Train':  best_epoch_indx:58\n",
      " auc:0.9142527416057769 \n",
      " apur:0.8928259328460015 \n",
      " f1:0.7991876423164502 \n",
      " precision:0.7735287109840362 \n",
      " recall:0.8266072565245067 \n",
      ", 'Validation':  best_epoch_indx:58\n",
      " auc:0.9142527416057769 \n",
      " apur:0.8928259328460015 \n",
      " f1:0.7991876423164502 \n",
      " precision:0.7735287109840362 \n",
      " recall:0.8266072565245067 \n",
      ", 'Test':  best_epoch_indx:58\n",
      " auc:0.9142527416057767 \n",
      " apur:0.8928259328460013 \n",
      " f1:0.7991876423164502 \n",
      " precision:0.7735287109840362 \n",
      " recall:0.8266072565245067 \n",
      "}\n",
      "=====Epoch 59\n",
      "Training...\n"
     ]
    },
    {
     "name": "stderr",
     "output_type": "stream",
     "text": [
      "Iteration: 100%|██████████| 62/62 [00:03<00:00, 18.29it/s]\n",
      "Iteration: 100%|██████████| 62/62 [00:01<00:00, 38.42it/s]\n",
      "Iteration:  73%|███████▎  | 45/62 [00:01<00:00, 26.57it/s]"
     ]
    },
    {
     "name": "stdout",
     "output_type": "stream",
     "text": [
      "Evaluating...\n"
     ]
    },
    {
     "name": "stderr",
     "output_type": "stream",
     "text": [
      "Iteration: 100%|██████████| 62/62 [00:01<00:00, 36.84it/s]\n",
      "Iteration:  77%|███████▋  | 48/62 [00:01<00:00, 41.65it/s]"
     ]
    },
    {
     "name": "stdout",
     "output_type": "stream",
     "text": [
      "{'Train':  best_epoch_indx:56\n",
      " auc:0.8987259966214104 \n",
      " apur:0.8732219569452428 \n",
      " f1:0.7835575671151341 \n",
      " precision:0.7637176698090403 \n",
      " recall:0.8044557606619988 \n",
      ", 'Validation':  best_epoch_indx:56\n",
      " auc:0.8987259966214104 \n",
      " apur:0.8732219569459951 \n",
      " f1:0.7835575671151341 \n",
      " precision:0.7637176698090403 \n",
      " recall:0.8044557606619988 \n",
      ", 'Test':  best_epoch_indx:56\n",
      " auc:0.8987259966214104 \n",
      " apur:0.8732219569459951 \n",
      " f1:0.7835575671151341 \n",
      " precision:0.7637176698090403 \n",
      " recall:0.8044557606619988 \n",
      "}\n",
      "=====Epoch 57\n",
      "Training...\n"
     ]
    },
    {
     "name": "stderr",
     "output_type": "stream",
     "text": [
      "Iteration: 100%|██████████| 62/62 [00:01<00:00, 39.57it/s]\n",
      "Iteration: 100%|██████████| 62/62 [00:02<00:00, 24.61it/s]\n"
     ]
    },
    {
     "name": "stdout",
     "output_type": "stream",
     "text": [
      "Evaluating...\n"
     ]
    },
    {
     "name": "stderr",
     "output_type": "stream",
     "text": [
      "Iteration: 100%|██████████| 62/62 [00:02<00:00, 29.70it/s]\n",
      "Iteration: 100%|██████████| 62/62 [00:01<00:00, 36.87it/s]\n",
      "Iteration:   5%|▍         | 3/62 [00:00<00:02, 26.08it/s]]"
     ]
    },
    {
     "name": "stdout",
     "output_type": "stream",
     "text": [
      "Evaluating...\n"
     ]
    },
    {
     "name": "stderr",
     "output_type": "stream",
     "text": [
      "Iteration: 100%|██████████| 62/62 [00:01<00:00, 38.37it/s]\n",
      "Iteration: 100%|██████████| 62/62 [00:01<00:00, 34.43it/s]\n",
      "Iteration: 100%|██████████| 62/62 [00:01<00:00, 45.09it/s]\n",
      "Iteration:  66%|██████▌   | 41/62 [00:01<00:00, 29.16it/s]"
     ]
    },
    {
     "name": "stdout",
     "output_type": "stream",
     "text": [
      "{'Train':  best_epoch_indx:55\n",
      " auc:0.8953636092435447 \n",
      " apur:0.8709966149322868 \n",
      " f1:0.7783128009505348 \n",
      " precision:0.7648721730580138 \n",
      " recall:0.7922342457033736 \n",
      ", 'Validation':  best_epoch_indx:55\n",
      " auc:0.8953636092435447 \n",
      " apur:0.8709966149322868 \n",
      " f1:0.7783128009505348 \n",
      " precision:0.7648721730580138 \n",
      " recall:0.7922342457033736 \n",
      ", 'Test':  best_epoch_indx:55\n",
      " auc:0.8953636092435447 \n",
      " apur:0.8709966149322868 \n",
      " f1:0.7783128009505348 \n",
      " precision:0.7648721730580138 \n",
      " recall:0.7922342457033736 \n",
      "}\n",
      "=====Epoch 56\n",
      "Training...\n"
     ]
    },
    {
     "name": "stderr",
     "output_type": "stream",
     "text": [
      "Iteration: 100%|██████████| 62/62 [00:02<00:00, 30.26it/s]\n",
      "Iteration: 100%|██████████| 62/62 [00:01<00:00, 39.86it/s]\n",
      "Iteration: 100%|██████████| 62/62 [00:02<00:00, 29.45it/s]\n",
      "Iteration: 100%|██████████| 62/62 [00:02<00:00, 30.52it/s]\n",
      "Iteration:   6%|▋         | 4/62 [00:00<00:01, 32.15it/s]"
     ]
    },
    {
     "name": "stdout",
     "output_type": "stream",
     "text": [
      "Evaluating...\n"
     ]
    },
    {
     "name": "stderr",
     "output_type": "stream",
     "text": [
      "Iteration: 100%|██████████| 62/62 [00:01<00:00, 41.75it/s]\n",
      "Iteration: 100%|██████████| 62/62 [00:01<00:00, 52.13it/s]\n",
      "Iteration:  71%|███████   | 44/62 [00:01<00:00, 36.24it/s]"
     ]
    },
    {
     "name": "stdout",
     "output_type": "stream",
     "text": [
      "{'Train':  best_epoch_indx:62\n",
      " auc:0.9113318039527242 \n",
      " apur:0.890485189401409 \n",
      " f1:0.7949360895358082 \n",
      " precision:0.7649482109227872 \n",
      " recall:0.8273711012094207 \n",
      ", 'Validation':  best_epoch_indx:62\n",
      " auc:0.911331797997656 \n",
      " apur:0.8904851822417681 \n",
      " f1:0.7949360895358082 \n",
      " precision:0.7649482109227872 \n",
      " recall:0.8273711012094207 \n",
      ", 'Test':  best_epoch_indx:62\n",
      " auc:0.911331797997656 \n",
      " apur:0.8904851822417681 \n",
      " f1:0.7949360895358082 \n",
      " precision:0.7649482109227872 \n",
      " recall:0.8273711012094207 \n",
      "}\n",
      "=====Epoch 63\n",
      "Training...\n"
     ]
    },
    {
     "name": "stderr",
     "output_type": "stream",
     "text": [
      "Iteration: 100%|██████████| 62/62 [00:02<00:00, 28.24it/s]\n",
      "Iteration: 100%|██████████| 62/62 [00:01<00:00, 35.09it/s]\n",
      "Iteration: 100%|██████████| 62/62 [00:01<00:00, 37.14it/s]\n",
      "Iteration:   0%|          | 0/62 [00:00<?, ?it/s]"
     ]
    },
    {
     "name": "stdout",
     "output_type": "stream",
     "text": [
      "Evaluating...\n"
     ]
    },
    {
     "name": "stderr",
     "output_type": "stream",
     "text": [
      "Iteration: 100%|██████████| 62/62 [00:01<00:00, 34.42it/s]\n",
      "Iteration:   0%|          | 0/62 [00:00<?, ?it/s]5.45it/s]"
     ]
    },
    {
     "name": "stdout",
     "output_type": "stream",
     "text": [
      "{'Train':  best_epoch_indx:59\n",
      " auc:0.9229201875194637 \n",
      " apur:0.9022989926633702 \n",
      " f1:0.8121759287500762 \n",
      " precision:0.7796907940969782 \n",
      " recall:0.8474856779121579 \n",
      ", 'Validation':  best_epoch_indx:59\n",
      " auc:0.9229201875194637 \n",
      " apur:0.9022989926633702 \n",
      " f1:0.8121759287500762 \n",
      " precision:0.7796907940969782 \n",
      " recall:0.8474856779121579 \n",
      ", 'Test':  best_epoch_indx:59\n",
      " auc:0.9229201875194637 \n",
      " apur:0.9022989926633702 \n",
      " f1:0.8121759287500762 \n",
      " precision:0.7796907940969782 \n",
      " recall:0.8474856779121579 \n",
      "}\n",
      "=====Epoch 60\n",
      "Training...\n"
     ]
    },
    {
     "name": "stderr",
     "output_type": "stream",
     "text": [
      "Iteration: 100%|██████████| 62/62 [00:01<00:00, 35.58it/s]\n",
      "Iteration:   0%|          | 0/62 [00:00<?, ?it/s]2.62it/s]"
     ]
    },
    {
     "name": "stdout",
     "output_type": "stream",
     "text": [
      "{'Train':  best_epoch_indx:57\n",
      " auc:0.9072070259799973 \n",
      " apur:0.884834309358697 \n",
      " f1:0.7918372261016133 \n",
      " precision:0.7510562978188877 \n",
      " recall:0.8373010821133037 \n",
      ", 'Validation':  best_epoch_indx:57\n",
      " auc:0.9072070259799973 \n",
      " apur:0.884834309358697 \n",
      " f1:0.7918372261016133 \n",
      " precision:0.7510562978188877 \n",
      " recall:0.8373010821133037 \n",
      ", 'Test':  best_epoch_indx:57\n",
      " auc:0.9072070259799973 \n",
      " apur:0.884834309358697 \n",
      " f1:0.7918372261016133 \n",
      " precision:0.7510562978188877 \n",
      " recall:0.8373010821133037 \n",
      "}\n",
      "=====Epoch 58\n",
      "Training...\n"
     ]
    },
    {
     "name": "stderr",
     "output_type": "stream",
     "text": [
      "Iteration: 100%|██████████| 62/62 [00:01<00:00, 31.40it/s]\n",
      "Iteration: 100%|██████████| 62/62 [00:01<00:00, 40.46it/s]\n",
      "Iteration:  90%|█████████ | 56/62 [00:02<00:00, 25.55it/s]"
     ]
    },
    {
     "name": "stdout",
     "output_type": "stream",
     "text": [
      "Evaluating...\n"
     ]
    },
    {
     "name": "stderr",
     "output_type": "stream",
     "text": [
      "Iteration: 100%|██████████| 62/62 [00:02<00:00, 27.36it/s]\n",
      "Iteration:  89%|████████▊ | 55/62 [00:01<00:00, 37.18it/s]"
     ]
    },
    {
     "name": "stdout",
     "output_type": "stream",
     "text": [
      "{'Train':  best_epoch_indx:57\n",
      " auc:0.9050397910204782 \n",
      " apur:0.8814805531098002 \n",
      " f1:0.7901265505575742 \n",
      " precision:0.7778463056617738 \n",
      " recall:0.8028007638446849 \n",
      ", 'Validation':  best_epoch_indx:57\n",
      " auc:0.905039785065967 \n",
      " apur:0.8814805490492974 \n",
      " f1:0.7901265505575742 \n",
      " precision:0.7778463056617738 \n",
      " recall:0.8028007638446849 \n",
      ", 'Test':  best_epoch_indx:57\n",
      " auc:0.9050397910204782 \n",
      " apur:0.8814805531098002 \n",
      " f1:0.7901265505575742 \n",
      " precision:0.7778463056617738 \n",
      " recall:0.8028007638446849 \n",
      "}\n",
      "=====Epoch 58\n",
      "Training...\n"
     ]
    },
    {
     "name": "stderr",
     "output_type": "stream",
     "text": [
      "Iteration: 100%|██████████| 62/62 [00:01<00:00, 33.05it/s]\n",
      "Iteration:  19%|█▉        | 12/62 [00:00<00:01, 25.25it/s]"
     ]
    },
    {
     "name": "stdout",
     "output_type": "stream",
     "text": [
      "Evaluating...\n"
     ]
    },
    {
     "name": "stderr",
     "output_type": "stream",
     "text": [
      "Iteration: 100%|██████████| 62/62 [00:02<00:00, 28.69it/s]\n",
      "Iteration: 100%|██████████| 62/62 [00:01<00:00, 34.62it/s]\n",
      "Iteration:  90%|█████████ | 56/62 [00:01<00:00, 37.24it/s]"
     ]
    },
    {
     "name": "stdout",
     "output_type": "stream",
     "text": [
      "{'Train':  best_epoch_indx:56\n",
      " auc:0.8996426281068405 \n",
      " apur:0.877392456962083 \n",
      " f1:0.7831626280289783 \n",
      " precision:0.7686649503493932 \n",
      " recall:0.7982176957352005 \n",
      ", 'Validation':  best_epoch_indx:56\n",
      " auc:0.8996426281068405 \n",
      " apur:0.877392456962083 \n",
      " f1:0.7831626280289783 \n",
      " precision:0.7686649503493932 \n",
      " recall:0.7982176957352005 \n",
      ", 'Test':  best_epoch_indx:56\n",
      " auc:0.8996426281068405 \n",
      " apur:0.877392456962649 \n",
      " f1:0.7831626280289783 \n",
      " precision:0.7686649503493932 \n",
      " recall:0.7982176957352005 \n",
      "}\n",
      "=====Epoch 57\n",
      "Training...\n"
     ]
    },
    {
     "name": "stderr",
     "output_type": "stream",
     "text": [
      "\r",
      "Iteration:   0%|          | 0/62 [00:00<?, ?it/s]\r",
      "Iteration:  15%|█▍        | 9/62 [00:00<00:01, 37.80it/s]\r",
      "Iteration:  84%|████████▍ | 52/62 [00:01<00:00, 27.88it/s]\r",
      "Iteration:  97%|█████████▋| 60/62 [00:01<00:00, 36.36it/s]\r",
      "Iteration:  35%|███▌      | 22/62 [00:01<00:01, 22.75it/s]\r",
      "Iteration:   5%|▍         | 3/62 [00:00<00:02, 25.36it/s]\r",
      "Iteration: 100%|██████████| 62/62 [00:01<00:00, 37.07it/s]\n",
      "\r",
      "Iteration:   0%|          | 0/62 [00:00<?, ?it/s]\r",
      "Iteration:  21%|██        | 13/62 [00:00<00:01, 34.49it/s]\r",
      "Iteration:  89%|████████▊ | 55/62 [00:01<00:00, 27.10it/s]"
     ]
    },
    {
     "name": "stdout",
     "output_type": "stream",
     "text": [
      "Evaluating...\n"
     ]
    },
    {
     "name": "stderr",
     "output_type": "stream",
     "text": [
      "Iteration: 100%|██████████| 62/62 [00:02<00:00, 30.03it/s]\n",
      "Iteration: 100%|██████████| 62/62 [00:01<00:00, 41.15it/s]\n",
      "Iteration:  89%|████████▊ | 55/62 [00:02<00:00, 24.58it/s]"
     ]
    },
    {
     "name": "stdout",
     "output_type": "stream",
     "text": [
      "Evaluating...\n"
     ]
    },
    {
     "name": "stderr",
     "output_type": "stream",
     "text": [
      "Iteration: 100%|██████████| 62/62 [00:02<00:00, 20.79it/s]\n",
      "Iteration: 100%|██████████| 62/62 [00:01<00:00, 33.20it/s]\n",
      "Iteration: 100%|██████████| 62/62 [00:02<00:00, 26.12it/s]\n",
      "Iteration: 100%|██████████| 62/62 [00:01<00:00, 44.94it/s]\n",
      "Iteration: 100%|██████████| 62/62 [00:02<00:00, 27.02it/s]\n",
      "Iteration: 100%|██████████| 62/62 [00:01<00:00, 33.59it/s]\n",
      "Iteration: 100%|██████████| 62/62 [00:01<00:00, 32.67it/s]\n",
      "Iteration:  77%|███████▋  | 48/62 [00:01<00:00, 35.56it/s]"
     ]
    },
    {
     "name": "stdout",
     "output_type": "stream",
     "text": [
      "{'Train':  best_epoch_indx:63\n",
      " auc:0.9050660479589033 \n",
      " apur:0.8819850849423904 \n",
      " f1:0.7879529872673849 \n",
      " precision:0.7588727744369768 \n",
      " recall:0.819350732017823 \n",
      ", 'Validation':  best_epoch_indx:63\n",
      " auc:0.9050660479589033 \n",
      " apur:0.8819850849423904 \n",
      " f1:0.7879529872673849 \n",
      " precision:0.7588727744369768 \n",
      " recall:0.819350732017823 \n",
      ", 'Test':  best_epoch_indx:63\n",
      " auc:0.9050660479589033 \n",
      " apur:0.8819850849423905 \n",
      " f1:0.7879529872673849 \n",
      " precision:0.7588727744369768 \n",
      " recall:0.819350732017823 \n",
      "}\n",
      "=====Epoch 64\n",
      "Training...\n"
     ]
    },
    {
     "name": "stderr",
     "output_type": "stream",
     "text": [
      "Iteration: 100%|██████████| 62/62 [00:01<00:00, 35.86it/s]\n",
      "Iteration: 100%|██████████| 62/62 [00:02<00:00, 28.68it/s]\n"
     ]
    },
    {
     "name": "stdout",
     "output_type": "stream",
     "text": [
      "{'Train':  best_epoch_indx:60\n",
      " auc:0.9206083545363549 \n",
      " apur:0.8996626007739095 \n",
      " f1:0.8101219954100736 \n",
      " precision:0.7706537975410778 \n",
      " recall:0.8538510502864417 \n",
      ", 'Validation':  best_epoch_indx:60\n",
      " auc:0.9206083545363549 \n",
      " apur:0.8996626007739095 \n",
      " f1:0.8101219954100736 \n",
      " precision:0.7706537975410778 \n",
      " recall:0.8538510502864417 \n",
      ", 'Test':  best_epoch_indx:60\n",
      " auc:0.9206083545363549 \n",
      " apur:0.8996626007739095 \n",
      " f1:0.8101219954100736 \n",
      " precision:0.7706537975410778 \n",
      " recall:0.8538510502864417 \n",
      "}\n",
      "=====Epoch 61\n",
      "Training...\n"
     ]
    },
    {
     "name": "stderr",
     "output_type": "stream",
     "text": [
      "Iteration: 100%|██████████| 62/62 [00:01<00:00, 39.43it/s]\n",
      "Iteration:  48%|████▊     | 30/62 [00:00<00:01, 31.63it/s]"
     ]
    },
    {
     "name": "stdout",
     "output_type": "stream",
     "text": [
      "Evaluating...\n"
     ]
    },
    {
     "name": "stderr",
     "output_type": "stream",
     "text": [
      "Iteration: 100%|██████████| 62/62 [00:02<00:00, 30.79it/s]\n",
      "Iteration:  94%|█████████▎| 58/62 [00:01<00:00, 32.02it/s]"
     ]
    },
    {
     "name": "stdout",
     "output_type": "stream",
     "text": [
      "Evaluating...\n"
     ]
    },
    {
     "name": "stderr",
     "output_type": "stream",
     "text": [
      "Iteration: 100%|██████████| 62/62 [00:01<00:00, 32.61it/s]\n",
      "Iteration: 100%|██████████| 62/62 [00:01<00:00, 31.00it/s]\n",
      "Iteration:  65%|██████▍   | 40/62 [00:01<00:00, 23.44it/s]"
     ]
    },
    {
     "name": "stdout",
     "output_type": "stream",
     "text": [
      "{'Train':  best_epoch_indx:57\n",
      " auc:0.9089360836823173 \n",
      " apur:0.8879815643885434 \n",
      " f1:0.7924172996045447 \n",
      " precision:0.7815750371471025 \n",
      " recall:0.803564608529599 \n",
      ", 'Validation':  best_epoch_indx:57\n",
      " auc:0.9089360836823173 \n",
      " apur:0.8879815643885434 \n",
      " f1:0.7924172996045447 \n",
      " precision:0.7815750371471025 \n",
      " recall:0.803564608529599 \n",
      ", 'Test':  best_epoch_indx:57\n",
      " auc:0.9089360836823173 \n",
      " apur:0.8879815643885434 \n",
      " f1:0.7924172996045447 \n",
      " precision:0.7815750371471025 \n",
      " recall:0.803564608529599 \n",
      "}\n",
      "=====Epoch 58\n",
      "Training...\n"
     ]
    },
    {
     "name": "stderr",
     "output_type": "stream",
     "text": [
      "Iteration: 100%|██████████| 62/62 [00:02<00:00, 29.63it/s]\n",
      "Iteration:   0%|          | 0/62 [00:00<?, ?it/s]4.05it/s]"
     ]
    },
    {
     "name": "stdout",
     "output_type": "stream",
     "text": [
      "{'Train':  best_epoch_indx:58\n",
      " auc:0.9139143979196804 \n",
      " apur:0.8934115174959845 \n",
      " f1:0.8002378121284185 \n",
      " precision:0.7506971556051311 \n",
      " recall:0.8567791215786124 \n",
      ", 'Validation':  best_epoch_indx:58\n",
      " auc:0.9139143979196804 \n",
      " apur:0.8934115174959845 \n",
      " f1:0.8002378121284185 \n",
      " precision:0.7506971556051311 \n",
      " recall:0.8567791215786124 \n",
      ", 'Test':  best_epoch_indx:58\n",
      " auc:0.9139143979196804 \n",
      " apur:0.8934115174959845 \n",
      " f1:0.8002378121284185 \n",
      " precision:0.7506971556051311 \n",
      " recall:0.8567791215786124 \n",
      "}\n",
      "=====Epoch 59\n",
      "Training...\n"
     ]
    },
    {
     "name": "stderr",
     "output_type": "stream",
     "text": [
      "Iteration: 100%|██████████| 62/62 [00:01<00:00, 35.85it/s]\n",
      "Iteration: 100%|██████████| 62/62 [00:02<00:00, 22.42it/s]\n",
      "Iteration: 100%|██████████| 62/62 [00:01<00:00, 39.90it/s]\n",
      "Iteration:   0%|          | 0/62 [00:00<?, ?it/s]0.82it/s]"
     ]
    },
    {
     "name": "stdout",
     "output_type": "stream",
     "text": [
      "Evaluating...\n",
      "{'Train':  best_epoch_indx:58\n",
      " auc:0.9161939181814446 \n",
      " apur:0.8937619260701928 \n",
      " f1:0.8073550901120312 \n",
      " precision:0.773719220445793 \n",
      " recall:0.8440483768300445 \n",
      ", 'Validation':  best_epoch_indx:58\n",
      " auc:0.9161939181814446 \n",
      " apur:0.8937619260701928 \n",
      " f1:0.8073550901120312 \n",
      " precision:0.773719220445793 \n",
      " recall:0.8440483768300445 \n",
      ", 'Test':  best_epoch_indx:58\n",
      " auc:0.9161939181814446 \n",
      " apur:0.8937619260701928 \n",
      " f1:0.8073550901120312 \n",
      " precision:0.773719220445793 \n",
      " recall:0.8440483768300445 \n",
      "}\n",
      "=====Epoch 59\n",
      "Training...\n"
     ]
    },
    {
     "name": "stderr",
     "output_type": "stream",
     "text": [
      "Iteration: 100%|██████████| 62/62 [00:01<00:00, 33.40it/s]\n",
      "Iteration:   0%|          | 0/62 [00:00<?, ?it/s]"
     ]
    },
    {
     "name": "stdout",
     "output_type": "stream",
     "text": [
      "Evaluating...\n"
     ]
    },
    {
     "name": "stderr",
     "output_type": "stream",
     "text": [
      "Iteration: 100%|██████████| 62/62 [00:02<00:00, 26.30it/s]\n",
      "Iteration: 100%|██████████| 62/62 [00:01<00:00, 31.77it/s]\n",
      "Iteration: 100%|██████████| 62/62 [00:02<00:00, 27.14it/s]\n",
      "Iteration: 100%|██████████| 62/62 [00:02<00:00, 29.30it/s]\n",
      "Iteration:   5%|▍         | 3/62 [00:00<00:02, 26.18it/s]]"
     ]
    },
    {
     "name": "stdout",
     "output_type": "stream",
     "text": [
      "Evaluating...\n"
     ]
    },
    {
     "name": "stderr",
     "output_type": "stream",
     "text": [
      "Iteration: 100%|██████████| 62/62 [00:02<00:00, 26.46it/s]\n",
      "Iteration: 100%|██████████| 62/62 [00:01<00:00, 50.83it/s]\n",
      "Iteration: 100%|██████████| 62/62 [00:02<00:00, 30.35it/s]\n",
      "Iteration: 100%|██████████| 62/62 [00:01<00:00, 36.47it/s]\n",
      "Iteration: 100%|██████████| 62/62 [00:02<00:00, 28.79it/s]\n",
      "Iteration:   0%|          | 0/62 [00:00<?, ?it/s]"
     ]
    },
    {
     "name": "stdout",
     "output_type": "stream",
     "text": [
      "{'Train':  best_epoch_indx:64\n",
      " auc:0.9017086877119966 \n",
      " apur:0.8771399385447978 \n",
      " f1:0.7864364981504315 \n",
      " precision:0.7624626419605499 \n",
      " recall:0.8119669000636537 \n",
      ", 'Validation':  best_epoch_indx:64\n",
      " auc:0.9017086877119966 \n",
      " apur:0.8771399385447978 \n",
      " f1:0.7864364981504315 \n",
      " precision:0.7624626419605499 \n",
      " recall:0.8119669000636537 \n",
      ", 'Test':  best_epoch_indx:64\n",
      " auc:0.9017086877119966 \n",
      " apur:0.8771399385447978 \n",
      " f1:0.7864364981504315 \n",
      " precision:0.7624626419605499 \n",
      " recall:0.8119669000636537 \n",
      "}\n",
      "=====Epoch 65\n",
      "Training...\n"
     ]
    },
    {
     "name": "stderr",
     "output_type": "stream",
     "text": [
      "\r",
      "Iteration:   6%|▋         | 4/62 [00:00<00:01, 30.32it/s]\r",
      "Iteration:  39%|███▊      | 24/62 [00:00<00:01, 31.56it/s]\r",
      "Iteration:  53%|█████▎    | 33/62 [00:00<00:00, 44.14it/s]\r",
      "Iteration:  13%|█▎        | 8/62 [00:00<00:01, 32.39it/s]\r",
      "Iteration:   0%|          | 0/62 [00:00<?, ?it/s]"
     ]
    },
    {
     "name": "stdout",
     "output_type": "stream",
     "text": [
      "{'Train':  best_epoch_indx:61\n",
      " auc:0.9129892181667371 \n",
      " apur:0.893638707679018 \n",
      " f1:0.7967735837166803 \n",
      " precision:0.7888694784127777 \n",
      " recall:0.8048376830044558 \n",
      ", 'Validation':  best_epoch_indx:61\n",
      " auc:0.9129892181667371 \n",
      " apur:0.893638707679018 \n",
      " f1:0.7967735837166803 \n",
      " precision:0.7888694784127777 \n",
      " recall:0.8048376830044558 \n",
      ", 'Test':  best_epoch_indx:61\n",
      " auc:0.9129892181667371 \n",
      " apur:0.893638707679018 \n",
      " f1:0.7967735837166803 \n",
      " precision:0.7888694784127777 \n",
      " recall:0.8048376830044558 \n",
      "}\n",
      "=====Epoch 62\n",
      "Training...\n"
     ]
    },
    {
     "name": "stderr",
     "output_type": "stream",
     "text": [
      "Iteration: 100%|██████████| 62/62 [00:01<00:00, 32.83it/s]\n",
      "Iteration: 100%|██████████| 62/62 [00:01<00:00, 33.96it/s]\n",
      "Iteration: 100%|██████████| 62/62 [00:01<00:00, 32.17it/s]\n",
      "Iteration: 100%|██████████| 62/62 [00:02<00:00, 27.40it/s]\n",
      "Iteration:  84%|████████▍ | 52/62 [00:01<00:00, 35.94it/s]"
     ]
    },
    {
     "name": "stdout",
     "output_type": "stream",
     "text": [
      "Evaluating...\n",
      "Evaluating...\n"
     ]
    },
    {
     "name": "stderr",
     "output_type": "stream",
     "text": [
      "Iteration: 100%|██████████| 62/62 [00:02<00:00, 28.44it/s]\n",
      "Iteration:  13%|█▎        | 8/62 [00:00<00:01, 32.92it/s]]"
     ]
    },
    {
     "name": "stdout",
     "output_type": "stream",
     "text": [
      "{'Train':  best_epoch_indx:58\n",
      " auc:0.9146832884859406 \n",
      " apur:0.8932626712351402 \n",
      " f1:0.8038867164355967 \n",
      " precision:0.7518563670619528 \n",
      " recall:0.863653723742839 \n",
      ", 'Validation':  best_epoch_indx:58\n",
      " auc:0.9146832884859406 \n",
      " apur:0.8932626712351402 \n",
      " f1:0.8038867164355967 \n",
      " precision:0.7518563670619528 \n",
      " recall:0.863653723742839 \n",
      ", 'Test':  best_epoch_indx:58\n",
      " auc:0.9146832884859406 \n",
      " apur:0.8932626712351404 \n",
      " f1:0.8038867164355967 \n",
      " precision:0.7518563670619528 \n",
      " recall:0.863653723742839 \n",
      "}\n",
      "=====Epoch 59\n",
      "Training...\n"
     ]
    },
    {
     "name": "stderr",
     "output_type": "stream",
     "text": [
      "Iteration: 100%|██████████| 62/62 [00:01<00:00, 40.44it/s]\n",
      "Iteration: 100%|██████████| 62/62 [00:01<00:00, 40.75it/s]\n",
      "Iteration:   0%|          | 0/62 [00:00<?, ?it/s]4.43it/s]"
     ]
    },
    {
     "name": "stdout",
     "output_type": "stream",
     "text": [
      "Evaluating...\n"
     ]
    },
    {
     "name": "stderr",
     "output_type": "stream",
     "text": [
      "Iteration: 100%|██████████| 62/62 [00:02<00:00, 28.51it/s]\n",
      "Iteration: 100%|██████████| 62/62 [00:02<00:00, 28.22it/s]\n",
      "Iteration:   6%|▋         | 4/62 [00:00<00:01, 39.40it/s]]"
     ]
    },
    {
     "name": "stdout",
     "output_type": "stream",
     "text": [
      "{'Train':  best_epoch_indx:59\n",
      " auc:0.9199648007830201 \n",
      " apur:0.9000821031540498 \n",
      " f1:0.8074876124059461 \n",
      " precision:0.7772020725388601 \n",
      " recall:0.8402291534054742 \n",
      ", 'Validation':  best_epoch_indx:59\n",
      " auc:0.9199648007830201 \n",
      " apur:0.9000821031540498 \n",
      " f1:0.8074876124059461 \n",
      " precision:0.7772020725388601 \n",
      " recall:0.8402291534054742 \n",
      ", 'Test':  best_epoch_indx:59\n",
      " auc:0.9199648007830201 \n",
      " apur:0.9000821031540498 \n",
      " f1:0.8074876124059461 \n",
      " precision:0.7772020725388601 \n",
      " recall:0.8402291534054742 \n",
      "}\n",
      "=====Epoch 60\n",
      "Training...\n"
     ]
    },
    {
     "name": "stderr",
     "output_type": "stream",
     "text": [
      "Iteration: 100%|██████████| 62/62 [00:01<00:00, 43.10it/s]\n",
      "Iteration: 100%|██████████| 62/62 [00:01<00:00, 34.77it/s]\n",
      "Iteration: 100%|██████████| 62/62 [00:01<00:00, 36.99it/s]\n",
      "Iteration:  73%|███████▎  | 45/62 [00:01<00:00, 24.89it/s]"
     ]
    },
    {
     "name": "stdout",
     "output_type": "stream",
     "text": [
      "Evaluating...\n"
     ]
    },
    {
     "name": "stderr",
     "output_type": "stream",
     "text": [
      "\r",
      "Iteration:  15%|█▍        | 9/62 [00:00<00:01, 39.69it/s]\r",
      "Iteration:  81%|████████  | 50/62 [00:02<00:00, 25.06it/s]\r",
      "Iteration:   0%|          | 0/62 [00:00<?, ?it/s]\r",
      "Iteration:  32%|███▏      | 20/62 [00:00<00:01, 31.38it/s]\r",
      "Iteration:  77%|███████▋  | 48/62 [00:01<00:00, 24.77it/s]\r",
      "Iteration:  85%|████████▌ | 53/62 [00:02<00:00, 24.71it/s]\r",
      "Iteration:   6%|▋         | 4/62 [00:00<00:01, 31.74it/s]\r",
      "Iteration:  21%|██        | 13/62 [00:00<00:01, 28.85it/s]\r",
      "Iteration:  82%|████████▏ | 51/62 [00:01<00:00, 24.54it/s]"
     ]
    },
    {
     "name": "stdout",
     "output_type": "stream",
     "text": [
      "{'Train':  best_epoch_indx:59\n",
      " auc:0.9217518052589051 \n",
      " apur:0.9006113345122249 \n",
      " f1:0.8149186422085443 \n",
      " precision:0.7816226326864625 \n",
      " recall:0.8511775938892425 \n",
      ", 'Validation':  best_epoch_indx:59\n",
      " auc:0.9217518052589051 \n",
      " apur:0.9006113345122249 \n",
      " f1:0.8149186422085443 \n",
      " precision:0.7816226326864625 \n",
      " recall:0.8511775938892425 \n",
      ", 'Test':  best_epoch_indx:59\n",
      " auc:0.9217518052589051 \n",
      " apur:0.9006113345122249 \n",
      " f1:0.8149186422085443 \n",
      " precision:0.7816226326864625 \n",
      " recall:0.8511775938892425 \n",
      "}\n",
      "=====Epoch 60\n",
      "Training...\n"
     ]
    },
    {
     "name": "stderr",
     "output_type": "stream",
     "text": [
      "Iteration: 100%|██████████| 62/62 [00:02<00:00, 24.42it/s]\n",
      "Iteration: 100%|██████████| 62/62 [00:02<00:00, 26.06it/s]\n",
      "Iteration: 100%|██████████| 62/62 [00:02<00:00, 30.04it/s]\n",
      "Iteration: 100%|██████████| 62/62 [00:02<00:00, 29.40it/s]\n",
      "Iteration: 100%|██████████| 62/62 [00:01<00:00, 32.60it/s]\n",
      "Iteration:   0%|          | 0/62 [00:00<?, ?it/s]"
     ]
    },
    {
     "name": "stdout",
     "output_type": "stream",
     "text": [
      "Evaluating...\n"
     ]
    },
    {
     "name": "stderr",
     "output_type": "stream",
     "text": [
      "Iteration: 100%|██████████| 62/62 [00:01<00:00, 31.04it/s]\n",
      "Iteration: 100%|██████████| 62/62 [00:01<00:00, 31.16it/s]\n",
      "Iteration: 100%|██████████| 62/62 [00:02<00:00, 30.97it/s]\n",
      "Iteration: 100%|██████████| 62/62 [00:01<00:00, 36.03it/s]\n",
      "Iteration:   0%|          | 0/62 [00:00<?, ?it/s]8.85it/s]"
     ]
    },
    {
     "name": "stdout",
     "output_type": "stream",
     "text": [
      "{'Train':  best_epoch_indx:62\n",
      " auc:0.9111927719380566 \n",
      " apur:0.8903438057908619 \n",
      " f1:0.7975278121137206 \n",
      " precision:0.775015015015015 \n",
      " recall:0.8213876511775939 \n",
      ", 'Validation':  best_epoch_indx:62\n",
      " auc:0.9111927719380564 \n",
      " apur:0.8903438057908619 \n",
      " f1:0.7975278121137206 \n",
      " precision:0.775015015015015 \n",
      " recall:0.8213876511775939 \n",
      ", 'Test':  best_epoch_indx:62\n",
      " auc:0.9111927719380566 \n",
      " apur:0.8903438057908619 \n",
      " f1:0.7975278121137206 \n",
      " precision:0.775015015015015 \n",
      " recall:0.8213876511775939 \n",
      "}\n",
      "=====Epoch 63\n",
      "Training...\n"
     ]
    },
    {
     "name": "stderr",
     "output_type": "stream",
     "text": [
      "Iteration: 100%|██████████| 62/62 [00:01<00:00, 36.43it/s]\n",
      "Iteration:   3%|▎         | 2/62 [00:00<00:03, 17.03it/s]]"
     ]
    },
    {
     "name": "stdout",
     "output_type": "stream",
     "text": [
      "{'Train':  best_epoch_indx:65\n",
      " auc:0.902263521414038 \n",
      " apur:0.8803544334055794 \n",
      " f1:0.7832781878340546 \n",
      " precision:0.7829792647245898 \n",
      " recall:0.7835773392743476 \n",
      ", 'Validation':  best_epoch_indx:65\n",
      " auc:0.9022635214140379 \n",
      " apur:0.8803544334055793 \n",
      " f1:0.7832781878340546 \n",
      " precision:0.7829792647245898 \n",
      " recall:0.7835773392743476 \n",
      ", 'Test':  best_epoch_indx:65\n",
      " auc:0.9022635333241744 \n",
      " apur:0.8803544536690512 \n",
      " f1:0.7832781878340546 \n",
      " precision:0.7829792647245898 \n",
      " recall:0.7835773392743476 \n",
      "}\n",
      "=====Epoch 66\n",
      "Training...\n",
      "{'Train':  best_epoch_indx:59\n",
      " auc:0.9210966065836649 \n",
      " apur:0.9016510815814944 \n",
      " f1:0.8131353582650485 \n",
      " precision:0.7878462273161414 \n",
      " recall:0.8401018459579885 \n",
      ", 'Validation':  best_epoch_indx:59\n",
      " auc:0.9210966065836649 \n",
      " apur:0.9016510815814944 \n",
      " f1:0.8131353582650485 \n",
      " precision:0.7878462273161414 \n",
      " recall:0.8401018459579885 \n",
      ", 'Test':  best_epoch_indx:59\n",
      " auc:0.9210966065836649 \n",
      " apur:0.9016510815814944 \n",
      " f1:0.8131353582650485 \n",
      " precision:0.7878462273161414 \n",
      " recall:0.8401018459579885 \n",
      "}\n",
      "=====Epoch 60\n",
      "Training...\n"
     ]
    },
    {
     "name": "stderr",
     "output_type": "stream",
     "text": [
      "Iteration: 100%|██████████| 62/62 [00:01<00:00, 32.64it/s]\n",
      "Iteration: 100%|██████████| 62/62 [00:01<00:00, 40.09it/s]\n",
      "Iteration:  15%|█▍        | 9/62 [00:00<00:02, 24.53it/s]]"
     ]
    },
    {
     "name": "stdout",
     "output_type": "stream",
     "text": [
      "Evaluating...\n",
      "Evaluating...\n"
     ]
    },
    {
     "name": "stderr",
     "output_type": "stream",
     "text": [
      "\r",
      "Iteration:  63%|██████▎   | 39/62 [00:01<00:00, 24.17it/s]\r",
      "Iteration:  94%|█████████▎| 58/62 [00:01<00:00, 29.49it/s]\r",
      "Iteration:  10%|▉         | 6/62 [00:00<00:02, 24.33it/s]\r",
      "Iteration:  19%|█▉        | 12/62 [00:00<00:02, 24.71it/s]\r",
      "Iteration:  13%|█▎        | 8/62 [00:00<00:01, 32.01it/s]\r",
      "Iteration:  68%|██████▊   | 42/62 [00:01<00:00, 24.47it/s]\r",
      "Iteration:  15%|█▍        | 9/62 [00:00<00:02, 24.51it/s]\r",
      "Iteration: 100%|██████████| 62/62 [00:01<00:00, 29.37it/s]\r",
      "Iteration: 100%|██████████| 62/62 [00:01<00:00, 31.68it/s]\n",
      "\r",
      "Iteration:   0%|          | 0/62 [00:00<?, ?it/s]\r",
      "Iteration:  24%|██▍       | 15/62 [00:00<00:01, 24.92it/s]\r",
      "Iteration:  19%|█▉        | 12/62 [00:00<00:01, 31.77it/s]"
     ]
    },
    {
     "name": "stdout",
     "output_type": "stream",
     "text": [
      "Evaluating...\n"
     ]
    },
    {
     "name": "stderr",
     "output_type": "stream",
     "text": [
      "Iteration: 100%|██████████| 62/62 [00:02<00:00, 24.34it/s]\n",
      "Iteration: 100%|██████████| 62/62 [00:02<00:00, 28.87it/s]\n",
      "Iteration: 100%|██████████| 62/62 [00:01<00:00, 31.99it/s]\n",
      "Iteration: 100%|██████████| 62/62 [00:02<00:00, 26.01it/s]\n",
      "Iteration:   0%|          | 0/62 [00:00<?, ?it/s]4.94it/s]"
     ]
    },
    {
     "name": "stdout",
     "output_type": "stream",
     "text": [
      "{'Train':  best_epoch_indx:60\n",
      " auc:0.9189051321313504 \n",
      " apur:0.8998709739119242 \n",
      " f1:0.8093176413195926 \n",
      " precision:0.776685393258427 \n",
      " recall:0.8448122215149586 \n",
      ", 'Validation':  best_epoch_indx:60\n",
      " auc:0.9189051321313504 \n",
      " apur:0.8998709739119242 \n",
      " f1:0.8093176413195926 \n",
      " precision:0.776685393258427 \n",
      " recall:0.8448122215149586 \n",
      ", 'Test':  best_epoch_indx:60\n",
      " auc:0.9189051321313504 \n",
      " apur:0.8998709739119242 \n",
      " f1:0.8093176413195926 \n",
      " precision:0.776685393258427 \n",
      " recall:0.8448122215149586 \n",
      "}\n",
      "=====Epoch 61\n",
      "Training...\n"
     ]
    },
    {
     "name": "stderr",
     "output_type": "stream",
     "text": [
      "Iteration: 100%|██████████| 62/62 [00:02<00:00, 24.84it/s]\n",
      "Iteration: 100%|██████████| 62/62 [00:01<00:00, 32.18it/s]\n",
      "Iteration: 100%|██████████| 62/62 [00:01<00:00, 35.73it/s]\n",
      "Iteration:  76%|███████▌  | 47/62 [00:02<00:00, 29.80it/s]"
     ]
    },
    {
     "name": "stdout",
     "output_type": "stream",
     "text": [
      "{'Train':  best_epoch_indx:60\n",
      " auc:0.9214091588717154 \n",
      " apur:0.9001017975600437 \n",
      " f1:0.8105410504534113 \n",
      " precision:0.7764692164179104 \n",
      " recall:0.8477402928071293 \n",
      ", 'Validation':  best_epoch_indx:60\n",
      " auc:0.9214091588717154 \n",
      " apur:0.9001017975600437 \n",
      " f1:0.8105410504534113 \n",
      " precision:0.7764692164179104 \n",
      " recall:0.8477402928071293 \n",
      ", 'Test':  best_epoch_indx:60\n",
      " auc:0.9214091588717155 \n",
      " apur:0.9001017975595833 \n",
      " f1:0.8105410504534113 \n",
      " precision:0.7764692164179104 \n",
      " recall:0.8477402928071293 \n",
      "}\n",
      "=====Epoch 61\n",
      "Training...\n"
     ]
    },
    {
     "name": "stderr",
     "output_type": "stream",
     "text": [
      "Iteration: 100%|██████████| 62/62 [00:01<00:00, 31.19it/s]\n",
      "Iteration: 100%|██████████| 62/62 [00:02<00:00, 25.40it/s]\n",
      "Iteration:   0%|          | 0/62 [00:00<?, ?it/s]"
     ]
    },
    {
     "name": "stdout",
     "output_type": "stream",
     "text": [
      "Evaluating...\n"
     ]
    },
    {
     "name": "stderr",
     "output_type": "stream",
     "text": [
      "Iteration: 100%|██████████| 62/62 [00:02<00:00, 23.58it/s]\n",
      "Iteration: 100%|██████████| 62/62 [00:01<00:00, 31.20it/s]\n",
      "Iteration:   0%|          | 0/62 [00:00<?, ?it/s]"
     ]
    },
    {
     "name": "stdout",
     "output_type": "stream",
     "text": [
      "Evaluating...\n"
     ]
    },
    {
     "name": "stderr",
     "output_type": "stream",
     "text": [
      "Iteration: 100%|██████████| 62/62 [00:01<00:00, 37.93it/s]\n",
      "Iteration: 100%|██████████| 62/62 [00:02<00:00, 28.18it/s]\n",
      "Iteration:   0%|          | 0/62 [00:00<?, ?it/s]1.06it/s]"
     ]
    },
    {
     "name": "stdout",
     "output_type": "stream",
     "text": [
      "{'Train':  best_epoch_indx:60\n",
      " auc:0.9199278789614619 \n",
      " apur:0.9001542336786739 \n",
      " f1:0.8096968178401404 \n",
      " precision:0.7970156616105561 \n",
      " recall:0.8227880330999363 \n",
      ", 'Validation':  best_epoch_indx:60\n",
      " auc:0.9199278730069508 \n",
      " apur:0.9001542300997986 \n",
      " f1:0.8096968178401404 \n",
      " precision:0.7970156616105561 \n",
      " recall:0.8227880330999363 \n",
      ", 'Test':  best_epoch_indx:60\n",
      " auc:0.9199278730069508 \n",
      " apur:0.9001542300997986 \n",
      " f1:0.8096968178401404 \n",
      " precision:0.7970156616105561 \n",
      " recall:0.8227880330999363 \n",
      "}\n",
      "=====Epoch 61\n",
      "Training...\n"
     ]
    },
    {
     "name": "stderr",
     "output_type": "stream",
     "text": [
      "Iteration: 100%|██████████| 62/62 [00:01<00:00, 34.01it/s]\n",
      "Iteration: 100%|██████████| 62/62 [00:02<00:00, 26.80it/s]\n",
      "Iteration: 100%|██████████| 62/62 [00:01<00:00, 34.97it/s]\n",
      "Iteration:  39%|███▊      | 24/62 [00:01<00:01, 23.36it/s]"
     ]
    },
    {
     "name": "stdout",
     "output_type": "stream",
     "text": [
      "Evaluating...\n"
     ]
    },
    {
     "name": "stderr",
     "output_type": "stream",
     "text": [
      "Iteration:   5%|▍         | 3/62 [00:00<00:02, 27.01it/s]]"
     ]
    },
    {
     "name": "stdout",
     "output_type": "stream",
     "text": [
      "{'Train':  best_epoch_indx:63\n",
      " auc:0.9118606299039121 \n",
      " apur:0.8891933419971499 \n",
      " f1:0.7979482046790941 \n",
      " precision:0.7844053621940721 \n",
      " recall:0.8119669000636537 \n",
      ", 'Validation':  best_epoch_indx:63\n",
      " auc:0.9118606299039121 \n",
      " apur:0.8891933419971499 \n",
      " f1:0.7979482046790941 \n",
      " precision:0.7844053621940721 \n",
      " recall:0.8119669000636537 \n",
      ", 'Test':  best_epoch_indx:63\n",
      " auc:0.9118606299039121 \n",
      " apur:0.8891933419971499 \n",
      " f1:0.7979482046790941 \n",
      " precision:0.7844053621940721 \n",
      " recall:0.8119669000636537 \n",
      "}\n",
      "=====Epoch 64\n",
      "Training...\n"
     ]
    },
    {
     "name": "stderr",
     "output_type": "stream",
     "text": [
      "Iteration: 100%|██████████| 62/62 [00:02<00:00, 27.11it/s]\n",
      "Iteration: 100%|██████████| 62/62 [00:02<00:00, 23.87it/s]\n",
      "Iteration: 100%|██████████| 62/62 [00:01<00:00, 33.34it/s]\n",
      "Iteration: 100%|██████████| 62/62 [00:01<00:00, 34.24it/s]\n",
      "Iteration:  87%|████████▋ | 54/62 [00:01<00:00, 40.82it/s]"
     ]
    },
    {
     "name": "stdout",
     "output_type": "stream",
     "text": [
      "{'Train':  best_epoch_indx:66\n",
      " auc:0.9132060187397659 \n",
      " apur:0.8916461913740649 \n",
      " f1:0.8000994221089915 \n",
      " precision:0.7815003641660597 \n",
      " recall:0.8196053469127944 \n",
      ", 'Validation':  best_epoch_indx:66\n",
      " auc:0.9132060187397659 \n",
      " apur:0.8916461913740649 \n",
      " f1:0.8000994221089915 \n",
      " precision:0.7815003641660597 \n",
      " recall:0.8196053469127944 \n",
      ", 'Test':  best_epoch_indx:66\n",
      " auc:0.9132060187397659 \n",
      " apur:0.8916461913740649 \n",
      " f1:0.8000994221089915 \n",
      " precision:0.7815003641660597 \n",
      " recall:0.8196053469127944 \n",
      "}\n",
      "=====Epoch 67\n",
      "Training...\n"
     ]
    },
    {
     "name": "stderr",
     "output_type": "stream",
     "text": [
      "\r",
      "Iteration:   6%|▋         | 4/62 [00:00<00:01, 39.01it/s]\r",
      "Iteration:  95%|█████████▌| 59/62 [00:01<00:00, 38.86it/s]\r",
      "Iteration:  13%|█▎        | 8/62 [00:00<00:01, 35.06it/s]\r",
      "Iteration: 100%|██████████| 62/62 [00:01<00:00, 37.36it/s]\n",
      "\r",
      "Iteration:   0%|          | 0/62 [00:00<?, ?it/s]"
     ]
    },
    {
     "name": "stdout",
     "output_type": "stream",
     "text": [
      "Evaluating...\n"
     ]
    },
    {
     "name": "stderr",
     "output_type": "stream",
     "text": [
      "Iteration: 100%|██████████| 62/62 [00:01<00:00, 31.51it/s]\n",
      "Iteration:  77%|███████▋  | 48/62 [00:01<00:00, 24.35it/s]"
     ]
    },
    {
     "name": "stdout",
     "output_type": "stream",
     "text": [
      "Evaluating...\n"
     ]
    },
    {
     "name": "stderr",
     "output_type": "stream",
     "text": [
      "Iteration: 100%|██████████| 62/62 [00:02<00:00, 30.52it/s]\n",
      "Iteration: 100%|██████████| 62/62 [00:01<00:00, 31.38it/s]\n",
      "Iteration: 100%|██████████| 62/62 [00:02<00:00, 25.79it/s]\n",
      "Iteration:   0%|          | 0/62 [00:00<?, ?it/s]5.28it/s]"
     ]
    },
    {
     "name": "stdout",
     "output_type": "stream",
     "text": [
      "{'Train':  best_epoch_indx:61\n",
      " auc:0.9176139202178873 \n",
      " apur:0.8958836057315858 \n",
      " f1:0.807826520438684 \n",
      " precision:0.7911631880873917 \n",
      " recall:0.8252068746021642 \n",
      ", 'Validation':  best_epoch_indx:61\n",
      " auc:0.9176139202178873 \n",
      " apur:0.8958836057315857 \n",
      " f1:0.807826520438684 \n",
      " precision:0.7911631880873917 \n",
      " recall:0.8252068746021642 \n",
      ", 'Test':  best_epoch_indx:61\n",
      " auc:0.9176139202178873 \n",
      " apur:0.8958836057315858 \n",
      " f1:0.807826520438684 \n",
      " precision:0.7911631880873917 \n",
      " recall:0.8252068746021642 \n",
      "}\n",
      "=====Epoch 62\n",
      "Training...\n"
     ]
    },
    {
     "name": "stderr",
     "output_type": "stream",
     "text": [
      "Iteration: 100%|██████████| 62/62 [00:02<00:00, 25.49it/s]\n",
      "Iteration: 100%|██████████| 62/62 [00:01<00:00, 33.27it/s]\n",
      "Iteration:  50%|█████     | 31/62 [00:00<00:00, 35.23it/s]"
     ]
    },
    {
     "name": "stdout",
     "output_type": "stream",
     "text": [
      "{'Train':  best_epoch_indx:61\n",
      " auc:0.9144136470153585 \n",
      " apur:0.8944647611485785 \n",
      " f1:0.8010687393733301 \n",
      " precision:0.7658191106466968 \n",
      " recall:0.8397199236155315 \n",
      ", 'Validation':  best_epoch_indx:61\n",
      " auc:0.9144136470153585 \n",
      " apur:0.8944647611485785 \n",
      " f1:0.8010687393733301 \n",
      " precision:0.7658191106466968 \n",
      " recall:0.8397199236155315 \n",
      ", 'Test':  best_epoch_indx:61\n",
      " auc:0.9144136470153585 \n",
      " apur:0.8944647611485785 \n",
      " f1:0.8010687393733301 \n",
      " precision:0.7658191106466968 \n",
      " recall:0.8397199236155315 \n",
      "}\n",
      "=====Epoch 62\n",
      "Training...\n"
     ]
    },
    {
     "name": "stderr",
     "output_type": "stream",
     "text": [
      "Iteration: 100%|██████████| 62/62 [00:01<00:00, 39.29it/s]\n",
      "Iteration:  53%|█████▎    | 33/62 [00:01<00:00, 31.30it/s]"
     ]
    },
    {
     "name": "stdout",
     "output_type": "stream",
     "text": [
      "Evaluating...\n"
     ]
    },
    {
     "name": "stderr",
     "output_type": "stream",
     "text": [
      "Iteration: 100%|██████████| 62/62 [00:01<00:00, 31.09it/s]\n",
      "Iteration: 100%|██████████| 62/62 [00:02<00:00, 29.73it/s]\n",
      "Iteration: 100%|██████████| 62/62 [00:01<00:00, 36.39it/s]\n",
      "Iteration:   0%|          | 0/62 [00:00<?, ?it/s]"
     ]
    },
    {
     "name": "stdout",
     "output_type": "stream",
     "text": [
      "{'Train':  best_epoch_indx:61\n",
      " auc:0.9167418761116328 \n",
      " apur:0.8958581117773434 \n",
      " f1:0.8038497361067991 \n",
      " precision:0.7846060606060606 \n",
      " recall:0.8240611075747931 \n",
      ", 'Validation':  best_epoch_indx:61\n",
      " auc:0.9167418761116328 \n",
      " apur:0.8958581117773434 \n",
      " f1:0.8038497361067991 \n",
      " precision:0.7846060606060606 \n",
      " recall:0.8240611075747931 \n",
      ", 'Test':  best_epoch_indx:61\n",
      " auc:0.9167418761116328 \n",
      " apur:0.8958581117773434 \n",
      " f1:0.8038497361067991 \n",
      " precision:0.7846060606060606 \n",
      " recall:0.8240611075747931 \n",
      "}\n",
      "=====Epoch 62\n",
      "Training...\n",
      "Evaluating...\n"
     ]
    },
    {
     "name": "stderr",
     "output_type": "stream",
     "text": [
      "Iteration: 100%|██████████| 62/62 [00:02<00:00, 30.54it/s]\n",
      "Iteration: 100%|██████████| 62/62 [00:01<00:00, 31.53it/s]\n",
      "Iteration: 100%|██████████| 62/62 [00:01<00:00, 39.43it/s]\n",
      "Iteration:  77%|███████▋  | 48/62 [00:01<00:00, 34.93it/s]"
     ]
    },
    {
     "name": "stdout",
     "output_type": "stream",
     "text": [
      "Evaluating...\n"
     ]
    },
    {
     "name": "stderr",
     "output_type": "stream",
     "text": [
      "Iteration: 100%|██████████| 62/62 [00:02<00:00, 27.28it/s]\n",
      "Iteration: 100%|██████████| 62/62 [00:02<00:00, 30.01it/s]\n",
      "Iteration: 100%|██████████| 62/62 [00:01<00:00, 31.42it/s]\n",
      "Iteration: 100%|██████████| 62/62 [00:01<00:00, 32.81it/s]\n",
      "Iteration:   6%|▋         | 4/62 [00:00<00:01, 33.88it/s]]"
     ]
    },
    {
     "name": "stdout",
     "output_type": "stream",
     "text": [
      "{'Train':  best_epoch_indx:64\n",
      " auc:0.9064299133201819 \n",
      " apur:0.8834155296907888 \n",
      " f1:0.7876280786609814 \n",
      " precision:0.7874777297022143 \n",
      " recall:0.7877784850413749 \n",
      ", 'Validation':  best_epoch_indx:64\n",
      " auc:0.9064299133201819 \n",
      " apur:0.8834155279107803 \n",
      " f1:0.7876280786609814 \n",
      " precision:0.7874777297022143 \n",
      " recall:0.7877784850413749 \n",
      ", 'Test':  best_epoch_indx:64\n",
      " auc:0.9064299073656708 \n",
      " apur:0.8834155244803703 \n",
      " f1:0.7876280786609814 \n",
      " precision:0.7874777297022143 \n",
      " recall:0.7877784850413749 \n",
      "}\n",
      "=====Epoch 65\n",
      "Training...\n"
     ]
    },
    {
     "name": "stderr",
     "output_type": "stream",
     "text": [
      "Iteration: 100%|██████████| 62/62 [00:02<00:00, 30.06it/s]\n",
      "Iteration: 100%|██████████| 62/62 [00:02<00:00, 29.05it/s]\n",
      "Iteration:  82%|████████▏ | 51/62 [00:01<00:00, 34.09it/s]"
     ]
    },
    {
     "name": "stdout",
     "output_type": "stream",
     "text": [
      "{'Train':  best_epoch_indx:67\n",
      " auc:0.9259703024323058 \n",
      " apur:0.9065430637756554 \n",
      " f1:0.8180823915421072 \n",
      " precision:0.7825177263745206 \n",
      " recall:0.8570337364735837 \n",
      ", 'Validation':  best_epoch_indx:67\n",
      " auc:0.9259703024323058 \n",
      " apur:0.9065430637756554 \n",
      " f1:0.8180823915421072 \n",
      " precision:0.7825177263745206 \n",
      " recall:0.8570337364735837 \n",
      ", 'Test':  best_epoch_indx:67\n",
      " auc:0.9259702964772376 \n",
      " apur:0.906543060034418 \n",
      " f1:0.8180823915421072 \n",
      " precision:0.7825177263745206 \n",
      " recall:0.8570337364735837 \n",
      "}\n",
      "=====Epoch 68\n",
      "Training...\n",
      "Evaluating...\n"
     ]
    },
    {
     "name": "stderr",
     "output_type": "stream",
     "text": [
      "Iteration: 100%|██████████| 62/62 [00:01<00:00, 32.14it/s]\n",
      "Iteration: 100%|██████████| 62/62 [00:01<00:00, 33.43it/s]\n",
      "Iteration: 100%|██████████| 62/62 [00:02<00:00, 26.01it/s]\n",
      "Iteration: 100%|██████████| 62/62 [00:01<00:00, 49.09it/s]\n",
      "Iteration: 100%|██████████| 62/62 [00:01<00:00, 38.46it/s]\n",
      "Iteration:   0%|          | 0/62 [00:00<?, ?it/s]"
     ]
    },
    {
     "name": "stdout",
     "output_type": "stream",
     "text": [
      "Evaluating...\n",
      "{'Train':  best_epoch_indx:62\n",
      " auc:0.9151496696139513 \n",
      " apur:0.8939411711786122 \n",
      " f1:0.8055736732878742 \n",
      " precision:0.7539400665926748 \n",
      " recall:0.86479949077021 \n",
      ", 'Validation':  best_epoch_indx:62\n",
      " auc:0.9151496696139513 \n",
      " apur:0.893941171178612 \n",
      " f1:0.8055736732878742 \n",
      " precision:0.7539400665926748 \n",
      " recall:0.86479949077021 \n",
      ", 'Test':  best_epoch_indx:62\n",
      " auc:0.9151496696139513 \n",
      " apur:0.8939411711786122 \n",
      " f1:0.8055736732878742 \n",
      " precision:0.7539400665926748 \n",
      " recall:0.86479949077021 \n",
      "}\n",
      "=====Epoch 63\n",
      "Training...\n"
     ]
    },
    {
     "name": "stderr",
     "output_type": "stream",
     "text": [
      "Iteration: 100%|██████████| 62/62 [00:02<00:00, 27.91it/s]\n",
      "Iteration: 100%|██████████| 62/62 [00:01<00:00, 31.64it/s]\n",
      "Iteration: 100%|██████████| 62/62 [00:01<00:00, 34.20it/s]\n",
      "Iteration:  82%|████████▏ | 51/62 [00:02<00:00, 24.52it/s]"
     ]
    },
    {
     "name": "stdout",
     "output_type": "stream",
     "text": [
      "Evaluating...\n"
     ]
    },
    {
     "name": "stderr",
     "output_type": "stream",
     "text": [
      "Iteration: 100%|██████████| 62/62 [00:02<00:00, 24.98it/s]\n"
     ]
    },
    {
     "name": "stdout",
     "output_type": "stream",
     "text": [
      "{'Train':  best_epoch_indx:62\n",
      " auc:0.9083348209686918 \n",
      " apur:0.8877490365995928 \n",
      " f1:0.7940991839296924 \n",
      " precision:0.7832817337461301 \n",
      " recall:0.8052196053469128 \n",
      ", 'Validation':  best_epoch_indx:62\n",
      " auc:0.9083348209686918 \n",
      " apur:0.8877490365995928 \n",
      " f1:0.7940991839296924 \n",
      " precision:0.7832817337461301 \n",
      " recall:0.8052196053469128 \n",
      ", 'Test':  best_epoch_indx:62\n",
      " auc:0.9083348209686918 \n",
      " apur:0.8877490365995928 \n",
      " f1:0.7940991839296924 \n",
      " precision:0.7832817337461301 \n",
      " recall:0.8052196053469128 \n",
      "}\n",
      "=====Epoch 63\n",
      "Training...\n"
     ]
    },
    {
     "name": "stderr",
     "output_type": "stream",
     "text": [
      "\r",
      "Iteration:   0%|          | 0/62 [00:00<?, ?it/s]\r",
      "Iteration:  27%|██▋       | 17/62 [00:00<00:01, 28.98it/s]\r",
      "Iteration:  95%|█████████▌| 59/62 [00:02<00:00, 28.92it/s]\r",
      "Iteration:   3%|▎         | 2/62 [00:00<00:03, 18.70it/s]\r",
      "Iteration:  32%|███▏      | 20/62 [00:00<00:01, 28.07it/s]"
     ]
    },
    {
     "name": "stdout",
     "output_type": "stream",
     "text": [
      "{'Train':  best_epoch_indx:62\n",
      " auc:0.9102237444170491 \n",
      " apur:0.8907332634964475 \n",
      " f1:0.796138489958882 \n",
      " precision:0.7483755321532601 \n",
      " recall:0.8504137492043284 \n",
      ", 'Validation':  best_epoch_indx:62\n",
      " auc:0.9102237444170491 \n",
      " apur:0.8907332634964475 \n",
      " f1:0.796138489958882 \n",
      " precision:0.7483755321532601 \n",
      " recall:0.8504137492043284 \n",
      ", 'Test':  best_epoch_indx:62\n",
      " auc:0.9102237444170491 \n",
      " apur:0.8907332634964475 \n",
      " f1:0.796138489958882 \n",
      " precision:0.7483755321532601 \n",
      " recall:0.8504137492043284 \n",
      "}\n",
      "=====Epoch 63\n",
      "Training...\n"
     ]
    },
    {
     "name": "stderr",
     "output_type": "stream",
     "text": [
      "Iteration: 100%|██████████| 62/62 [00:02<00:00, 23.64it/s]\n",
      "Iteration: 100%|██████████| 62/62 [00:02<00:00, 28.16it/s]\n",
      "Iteration: 100%|██████████| 62/62 [00:01<00:00, 35.18it/s]\n",
      "Iteration:  95%|█████████▌| 59/62 [00:01<00:00, 32.19it/s]"
     ]
    },
    {
     "name": "stdout",
     "output_type": "stream",
     "text": [
      "Evaluating...\n"
     ]
    },
    {
     "name": "stderr",
     "output_type": "stream",
     "text": [
      "\r",
      "Iteration:  11%|█▏        | 7/62 [00:00<00:02, 20.24it/s]\r",
      "Iteration:   8%|▊         | 5/62 [00:00<00:02, 20.89it/s]\r",
      "Iteration:  92%|█████████▏| 57/62 [00:01<00:00, 49.94it/s]\r",
      "Iteration: 100%|██████████| 62/62 [00:01<00:00, 33.96it/s]\n",
      "\r",
      "Iteration:   0%|          | 0/62 [00:00<?, ?it/s]\r",
      "Iteration: 100%|██████████| 62/62 [00:01<00:00, 43.86it/s]\n",
      "\r",
      "Iteration:   5%|▍         | 3/62 [00:00<00:01, 30.00it/s]\r",
      "Iteration:  13%|█▎        | 8/62 [00:00<00:02, 21.94it/s]\r",
      "Iteration:  16%|█▌        | 10/62 [00:00<00:02, 21.28it/s]"
     ]
    },
    {
     "name": "stdout",
     "output_type": "stream",
     "text": [
      "Evaluating...\n"
     ]
    },
    {
     "name": "stderr",
     "output_type": "stream",
     "text": [
      "Iteration: 100%|██████████| 62/62 [00:02<00:00, 26.94it/s]\n",
      "Iteration: 100%|██████████| 62/62 [00:02<00:00, 24.69it/s]\n",
      "Iteration: 100%|██████████| 62/62 [00:02<00:00, 28.62it/s]\n",
      "Iteration: 100%|██████████| 62/62 [00:02<00:00, 25.35it/s]\n",
      "Iteration:  15%|█▍        | 9/62 [00:00<00:01, 33.10it/s]]"
     ]
    },
    {
     "name": "stdout",
     "output_type": "stream",
     "text": [
      "{'Train':  best_epoch_indx:65\n",
      " auc:0.9115034902366858 \n",
      " apur:0.8895246746278 \n",
      " f1:0.7987778796211427 \n",
      " precision:0.7680376028202115 \n",
      " recall:0.8320814767663909 \n",
      ", 'Validation':  best_epoch_indx:65\n",
      " auc:0.9115034902366858 \n",
      " apur:0.8895246746278 \n",
      " f1:0.7987778796211427 \n",
      " precision:0.7680376028202115 \n",
      " recall:0.8320814767663909 \n",
      ", 'Test':  best_epoch_indx:65\n",
      " auc:0.9115034902366858 \n",
      " apur:0.8895246746278 \n",
      " f1:0.7987778796211427 \n",
      " precision:0.7680376028202115 \n",
      " recall:0.8320814767663909 \n",
      "}\n",
      "=====Epoch 66\n",
      "Training...\n"
     ]
    },
    {
     "name": "stderr",
     "output_type": "stream",
     "text": [
      "Iteration: 100%|██████████| 62/62 [00:02<00:00, 26.69it/s]\n",
      "Iteration:  56%|█████▋    | 35/62 [00:01<00:00, 31.61it/s]"
     ]
    },
    {
     "name": "stdout",
     "output_type": "stream",
     "text": [
      "{'Train':  best_epoch_indx:68\n",
      " auc:0.9315848657659149 \n",
      " apur:0.9135772499773674 \n",
      " f1:0.8242386957859121 \n",
      " precision:0.7975 \n",
      " recall:0.8528325907065564 \n",
      ", 'Validation':  best_epoch_indx:68\n",
      " auc:0.9315848657659149 \n",
      " apur:0.9135772499773674 \n",
      " f1:0.8242386957859121 \n",
      " precision:0.7975 \n",
      " recall:0.8528325907065564 \n",
      ", 'Test':  best_epoch_indx:68\n",
      " auc:0.9315848657659149 \n",
      " apur:0.9135772499773674 \n",
      " f1:0.8242386957859121 \n",
      " precision:0.7975 \n",
      " recall:0.8528325907065564 \n",
      "}\n",
      "=====Epoch 69\n",
      "Training...\n"
     ]
    },
    {
     "name": "stderr",
     "output_type": "stream",
     "text": [
      "Iteration: 100%|██████████| 62/62 [00:01<00:00, 31.68it/s]\n",
      "Iteration: 100%|██████████| 62/62 [00:02<00:00, 27.65it/s]\n",
      "Iteration: 100%|██████████| 62/62 [00:01<00:00, 33.20it/s]\n",
      "Iteration:   6%|▋         | 4/62 [00:00<00:02, 28.94it/s]]"
     ]
    },
    {
     "name": "stdout",
     "output_type": "stream",
     "text": [
      "Evaluating...\n"
     ]
    },
    {
     "name": "stderr",
     "output_type": "stream",
     "text": [
      "Iteration: 100%|██████████| 62/62 [00:01<00:00, 33.36it/s]\n",
      "Iteration:  47%|████▋     | 29/62 [00:00<00:01, 29.96it/s]"
     ]
    },
    {
     "name": "stdout",
     "output_type": "stream",
     "text": [
      "Evaluating...\n"
     ]
    },
    {
     "name": "stderr",
     "output_type": "stream",
     "text": [
      "Iteration: 100%|██████████| 62/62 [00:02<00:00, 21.88it/s]\n",
      "Iteration: 100%|██████████| 62/62 [00:02<00:00, 27.29it/s]\n",
      "Iteration:   0%|          | 0/62 [00:00<?, ?it/s]0.92it/s]"
     ]
    },
    {
     "name": "stdout",
     "output_type": "stream",
     "text": [
      "{'Train':  best_epoch_indx:63\n",
      " auc:0.9108766826704078 \n",
      " apur:0.8880567266974511 \n",
      " f1:0.8003232624642546 \n",
      " precision:0.7820434941076418 \n",
      " recall:0.8194780394653087 \n",
      ", 'Validation':  best_epoch_indx:63\n",
      " auc:0.9108766826704078 \n",
      " apur:0.8880567266974511 \n",
      " f1:0.8003232624642546 \n",
      " precision:0.7820434941076418 \n",
      " recall:0.8194780394653087 \n",
      ", 'Test':  best_epoch_indx:63\n",
      " auc:0.9108766767158967 \n",
      " apur:0.888056723849716 \n",
      " f1:0.8003232624642546 \n",
      " precision:0.7820434941076418 \n",
      " recall:0.8194780394653087 \n",
      "}\n",
      "=====Epoch 64\n",
      "Training...\n"
     ]
    },
    {
     "name": "stderr",
     "output_type": "stream",
     "text": [
      "Iteration: 100%|██████████| 62/62 [00:02<00:00, 27.95it/s]\n",
      "Iteration: 100%|██████████| 62/62 [00:03<00:00, 19.75it/s]\n",
      "Iteration: 100%|██████████| 62/62 [00:03<00:00, 19.88it/s]\n",
      "Iteration: 100%|██████████| 62/62 [00:01<00:00, 33.44it/s]\n",
      "Iteration:   8%|▊         | 5/62 [00:00<00:01, 43.02it/s]"
     ]
    },
    {
     "name": "stdout",
     "output_type": "stream",
     "text": [
      "{'Train':  best_epoch_indx:63\n",
      " auc:0.910883959005549 \n",
      " apur:0.8903560269120856 \n",
      " f1:0.7969408647476816 \n",
      " precision:0.7561421551822649 \n",
      " recall:0.8423933800127308 \n",
      ", 'Validation':  best_epoch_indx:63\n",
      " auc:0.910883959005549 \n",
      " apur:0.8903560269120856 \n",
      " f1:0.7969408647476816 \n",
      " precision:0.7561421551822649 \n",
      " recall:0.8423933800127308 \n",
      ", 'Test':  best_epoch_indx:63\n",
      " auc:0.910883959005549 \n",
      " apur:0.8903560269120856 \n",
      " f1:0.7969408647476816 \n",
      " precision:0.7561421551822649 \n",
      " recall:0.8423933800127308 \n",
      "}\n",
      "=====Epoch 64\n",
      "Training...\n",
      "Evaluating...\n"
     ]
    },
    {
     "name": "stderr",
     "output_type": "stream",
     "text": [
      "Iteration:  40%|████      | 25/62 [00:00<00:00, 38.90it/s]"
     ]
    },
    {
     "name": "stdout",
     "output_type": "stream",
     "text": [
      "{'Train':  best_epoch_indx:63\n",
      " auc:0.9084128846093156 \n",
      " apur:0.8868901996667667 \n",
      " f1:0.7966282797103169 \n",
      " precision:0.7463018574129685 \n",
      " recall:0.8542329726288987 \n",
      ", 'Validation':  best_epoch_indx:63\n",
      " auc:0.9084128846093156 \n",
      " apur:0.8868901996667666 \n",
      " f1:0.7966282797103169 \n",
      " precision:0.7463018574129685 \n",
      " recall:0.8542329726288987 \n",
      ", 'Test':  best_epoch_indx:63\n",
      " auc:0.9084128846093156 \n",
      " apur:0.8868901996667666 \n",
      " f1:0.7966282797103169 \n",
      " precision:0.7463018574129685 \n",
      " recall:0.8542329726288987 \n",
      "}\n",
      "=====Epoch 64\n",
      "Training...\n"
     ]
    },
    {
     "name": "stderr",
     "output_type": "stream",
     "text": [
      "Iteration: 100%|██████████| 62/62 [00:02<00:00, 24.48it/s]\n",
      "Iteration: 100%|██████████| 62/62 [00:01<00:00, 36.91it/s]\n",
      "Iteration:  61%|██████▏   | 38/62 [00:01<00:00, 30.89it/s]"
     ]
    },
    {
     "name": "stdout",
     "output_type": "stream",
     "text": [
      "Evaluating...\n"
     ]
    },
    {
     "name": "stderr",
     "output_type": "stream",
     "text": [
      "Iteration: 100%|██████████| 62/62 [00:02<00:00, 30.56it/s]\n",
      "Iteration: 100%|██████████| 62/62 [00:01<00:00, 42.76it/s]\n",
      "Iteration: 100%|██████████| 62/62 [00:02<00:00, 30.95it/s]]\n",
      "Iteration:   0%|          | 0/62 [00:00<?, ?it/s]7.21it/s] "
     ]
    },
    {
     "name": "stdout",
     "output_type": "stream",
     "text": [
      "Evaluating...\n"
     ]
    },
    {
     "name": "stderr",
     "output_type": "stream",
     "text": [
      "Iteration: 100%|██████████| 62/62 [00:01<00:00, 56.19it/s]\n",
      "Iteration: 100%|██████████| 62/62 [00:02<00:00, 28.20it/s]\n",
      "Iteration: 100%|██████████| 62/62 [00:01<00:00, 35.28it/s]\n",
      "Iteration: 100%|██████████| 62/62 [00:02<00:00, 26.16it/s]\n",
      "Iteration: 100%|██████████| 62/62 [00:01<00:00, 35.83it/s]\n",
      "Iteration:  60%|█████▉    | 37/62 [00:00<00:00, 50.78it/s]"
     ]
    },
    {
     "name": "stdout",
     "output_type": "stream",
     "text": [
      "{'Train':  best_epoch_indx:66\n",
      " auc:0.9185695716146073 \n",
      " apur:0.8982588891124546 \n",
      " f1:0.8044595850108393 \n",
      " precision:0.7833534378769602 \n",
      " recall:0.8267345639719924 \n",
      ", 'Validation':  best_epoch_indx:66\n",
      " auc:0.9185695716146073 \n",
      " apur:0.8982588891124546 \n",
      " f1:0.8044595850108393 \n",
      " precision:0.7833534378769602 \n",
      " recall:0.8267345639719924 \n",
      ", 'Test':  best_epoch_indx:66\n",
      " auc:0.9185695716146073 \n",
      " apur:0.8982588891130483 \n",
      " f1:0.8044595850108393 \n",
      " precision:0.7833534378769602 \n",
      " recall:0.8267345639719924 \n",
      "}\n",
      "=====Epoch 67\n",
      "Training...\n"
     ]
    },
    {
     "name": "stderr",
     "output_type": "stream",
     "text": [
      "Iteration:  52%|█████▏    | 32/62 [00:01<00:00, 34.01it/s]"
     ]
    },
    {
     "name": "stdout",
     "output_type": "stream",
     "text": [
      "{'Train':  best_epoch_indx:69\n",
      " auc:0.9358410184976923 \n",
      " apur:0.919067270557657 \n",
      " f1:0.8286016027831273 \n",
      " precision:0.8091482649842271 \n",
      " recall:0.849013367281986 \n",
      ", 'Validation':  best_epoch_indx:69\n",
      " auc:0.9358410184976923 \n",
      " apur:0.919067270557657 \n",
      " f1:0.8286016027831273 \n",
      " precision:0.8091482649842271 \n",
      " recall:0.849013367281986 \n",
      ", 'Test':  best_epoch_indx:69\n",
      " auc:0.9358410184976923 \n",
      " apur:0.919067270557657 \n",
      " f1:0.8286016027831273 \n",
      " precision:0.8091482649842271 \n",
      " recall:0.849013367281986 \n",
      "}\n",
      "=====Epoch 70\n",
      "Training...\n"
     ]
    },
    {
     "name": "stderr",
     "output_type": "stream",
     "text": [
      "Iteration: 100%|██████████| 62/62 [00:01<00:00, 37.00it/s]\n",
      "Iteration: 100%|██████████| 62/62 [00:02<00:00, 29.93it/s]\n",
      "Iteration: 100%|██████████| 62/62 [00:01<00:00, 36.21it/s]\n",
      "Iteration:   0%|          | 0/62 [00:00<?, ?it/s]8.35it/s]"
     ]
    },
    {
     "name": "stdout",
     "output_type": "stream",
     "text": [
      "Evaluating...\n",
      "{'Train':  best_epoch_indx:64\n",
      " auc:0.9056537427972744 \n",
      " apur:0.8802635443081146 \n",
      " f1:0.793423019431988 \n",
      " precision:0.7480270574971815 \n",
      " recall:0.8446849140674729 \n",
      ", 'Validation':  best_epoch_indx:64\n",
      " auc:0.9056537427972744 \n",
      " apur:0.8802635443081146 \n",
      " f1:0.793423019431988 \n",
      " precision:0.7480270574971815 \n",
      " recall:0.8446849140674729 \n",
      ", 'Test':  best_epoch_indx:64\n",
      " auc:0.9056537427972744 \n",
      " apur:0.8802635443081146 \n",
      " f1:0.793423019431988 \n",
      " precision:0.7480270574971815 \n",
      " recall:0.8446849140674729 \n",
      "}\n",
      "=====Epoch 65\n",
      "Training...\n"
     ]
    },
    {
     "name": "stderr",
     "output_type": "stream",
     "text": [
      "Iteration: 100%|██████████| 62/62 [00:01<00:00, 35.00it/s]\n",
      "Iteration:  32%|███▏      | 20/62 [00:00<00:01, 30.28it/s]"
     ]
    },
    {
     "name": "stdout",
     "output_type": "stream",
     "text": [
      "Evaluating...\n"
     ]
    },
    {
     "name": "stderr",
     "output_type": "stream",
     "text": [
      "Iteration: 100%|██████████| 62/62 [00:02<00:00, 26.87it/s]\n",
      "Iteration: 100%|██████████| 62/62 [00:01<00:00, 37.98it/s]\n",
      "Iteration: 100%|██████████| 62/62 [00:02<00:00, 28.87it/s]\n",
      "Iteration: 100%|██████████| 62/62 [00:02<00:00, 28.07it/s]\n",
      "Iteration:  18%|█▊        | 11/62 [00:00<00:01, 50.29it/s]"
     ]
    },
    {
     "name": "stdout",
     "output_type": "stream",
     "text": [
      "Evaluating...\n"
     ]
    },
    {
     "name": "stderr",
     "output_type": "stream",
     "text": [
      "Iteration: 100%|██████████| 62/62 [00:02<00:00, 30.11it/s]\n",
      "Iteration: 100%|██████████| 62/62 [00:01<00:00, 42.43it/s]\n",
      "Iteration:  63%|██████▎   | 39/62 [00:01<00:00, 29.58it/s]"
     ]
    },
    {
     "name": "stdout",
     "output_type": "stream",
     "text": [
      "{'Train':  best_epoch_indx:64\n",
      " auc:0.8994568858721308 \n",
      " apur:0.8796271027919812 \n",
      " f1:0.7882136279926334 \n",
      " precision:0.7611144042679312 \n",
      " recall:0.8173138128580522 \n",
      ", 'Validation':  best_epoch_indx:64\n",
      " auc:0.8994568858721308 \n",
      " apur:0.8796271027919812 \n",
      " f1:0.7882136279926334 \n",
      " precision:0.7611144042679312 \n",
      " recall:0.8173138128580522 \n",
      ", 'Test':  best_epoch_indx:64\n",
      " auc:0.8994568858721308 \n",
      " apur:0.8796271027919812 \n",
      " f1:0.7882136279926334 \n",
      " precision:0.7611144042679312 \n",
      " recall:0.8173138128580522 \n",
      "}\n",
      "=====Epoch 65\n",
      "Training...\n"
     ]
    },
    {
     "name": "stderr",
     "output_type": "stream",
     "text": [
      "\r",
      "Iteration:  13%|█▎        | 8/62 [00:00<00:01, 36.34it/s]\r",
      "Iteration:  73%|███████▎  | 45/62 [00:01<00:00, 38.69it/s]\r",
      "Iteration: 100%|██████████| 62/62 [00:02<00:00, 30.32it/s]\n",
      "\r",
      "Iteration:  69%|██████▉   | 43/62 [00:01<00:00, 29.36it/s]\r",
      "Iteration:  19%|█▉        | 12/62 [00:00<00:01, 36.30it/s]\r",
      "Iteration:   0%|          | 0/62 [00:00<?, ?it/s]\r",
      "Iteration:  81%|████████  | 50/62 [00:01<00:00, 39.89it/s]"
     ]
    },
    {
     "name": "stdout",
     "output_type": "stream",
     "text": [
      "{'Train':  best_epoch_indx:64\n",
      " auc:0.8978020946779175 \n",
      " apur:0.8761119798745763 \n",
      " f1:0.7802491103202848 \n",
      " precision:0.7789620606522015 \n",
      " recall:0.7815404201145767 \n",
      ", 'Validation':  best_epoch_indx:64\n",
      " auc:0.8978020946779175 \n",
      " apur:0.8761119798745763 \n",
      " f1:0.7802491103202848 \n",
      " precision:0.7789620606522015 \n",
      " recall:0.7815404201145767 \n",
      ", 'Test':  best_epoch_indx:64\n",
      " auc:0.8978020946779175 \n",
      " apur:0.8761119798745763 \n",
      " f1:0.7802491103202848 \n",
      " precision:0.7789620606522015 \n",
      " recall:0.7815404201145767 \n",
      "}\n",
      "=====Epoch 65\n",
      "Training...\n"
     ]
    },
    {
     "name": "stderr",
     "output_type": "stream",
     "text": [
      "Iteration: 100%|██████████| 62/62 [00:02<00:00, 30.71it/s]\n",
      "Iteration: 100%|██████████| 62/62 [00:02<00:00, 28.73it/s]\n",
      "Iteration: 100%|██████████| 62/62 [00:02<00:00, 29.62it/s]\n",
      "Iteration:   5%|▍         | 3/62 [00:00<00:02, 22.07it/s]]"
     ]
    },
    {
     "name": "stdout",
     "output_type": "stream",
     "text": [
      "Evaluating...\n"
     ]
    },
    {
     "name": "stderr",
     "output_type": "stream",
     "text": [
      "Iteration: 100%|██████████| 62/62 [00:02<00:00, 24.21it/s]\n"
     ]
    },
    {
     "name": "stdout",
     "output_type": "stream",
     "text": [
      "Evaluating...\n"
     ]
    },
    {
     "name": "stderr",
     "output_type": "stream",
     "text": [
      "Iteration: 100%|██████████| 62/62 [00:02<00:00, 24.80it/s]\n",
      "Iteration: 100%|██████████| 62/62 [00:02<00:00, 21.24it/s]\n",
      "Iteration: 100%|██████████| 62/62 [00:02<00:00, 25.21it/s]\n",
      "Iteration: 100%|██████████| 62/62 [00:02<00:00, 22.03it/s]\n",
      "Iteration:   0%|          | 0/62 [00:00<?, ?it/s]7.81it/s]"
     ]
    },
    {
     "name": "stdout",
     "output_type": "stream",
     "text": [
      "{'Train':  best_epoch_indx:67\n",
      " auc:0.9276901796416457 \n",
      " apur:0.9083377182251783 \n",
      " f1:0.8219111381618989 \n",
      " precision:0.787405247813411 \n",
      " recall:0.8595798854232972 \n",
      ", 'Validation':  best_epoch_indx:67\n",
      " auc:0.9276901796416457 \n",
      " apur:0.9083377182251783 \n",
      " f1:0.8219111381618989 \n",
      " precision:0.787405247813411 \n",
      " recall:0.8595798854232972 \n",
      ", 'Test':  best_epoch_indx:67\n",
      " auc:0.9276901796416457 \n",
      " apur:0.9083377182251783 \n",
      " f1:0.8219111381618989 \n",
      " precision:0.787405247813411 \n",
      " recall:0.8595798854232972 \n",
      "}\n",
      "=====Epoch 68\n",
      "Training...\n"
     ]
    },
    {
     "name": "stderr",
     "output_type": "stream",
     "text": [
      "Iteration: 100%|██████████| 62/62 [00:02<00:00, 27.05it/s]\n",
      "Iteration:   5%|▍         | 3/62 [00:00<00:02, 23.92it/s]]"
     ]
    },
    {
     "name": "stdout",
     "output_type": "stream",
     "text": [
      "{'Train':  best_epoch_indx:70\n",
      " auc:0.9343805975779903 \n",
      " apur:0.918280467989848 \n",
      " f1:0.8279716805365793 \n",
      " precision:0.8082939250636595 \n",
      " recall:0.8486314449395289 \n",
      ", 'Validation':  best_epoch_indx:70\n",
      " auc:0.9343805916229222 \n",
      " apur:0.9182804623491558 \n",
      " f1:0.8279716805365793 \n",
      " precision:0.8082939250636595 \n",
      " recall:0.8486314449395289 \n",
      ", 'Test':  best_epoch_indx:70\n",
      " auc:0.9343805975779903 \n",
      " apur:0.918280467989848 \n",
      " f1:0.8279716805365793 \n",
      " precision:0.8082939250636595 \n",
      " recall:0.8486314449395289 \n",
      "}\n",
      "=====Epoch 71\n",
      "Training...\n"
     ]
    },
    {
     "name": "stderr",
     "output_type": "stream",
     "text": [
      "Iteration: 100%|██████████| 62/62 [00:01<00:00, 37.39it/s]\n",
      "Iteration: 100%|██████████| 62/62 [00:01<00:00, 32.28it/s]\n",
      "Iteration:   5%|▍         | 3/62 [00:00<00:02, 22.60it/s]]"
     ]
    },
    {
     "name": "stdout",
     "output_type": "stream",
     "text": [
      "{'Train':  best_epoch_indx:65\n",
      " auc:0.9112625528537293 \n",
      " apur:0.888602164747331 \n",
      " f1:0.7973944570761384 \n",
      " precision:0.7707293894036589 \n",
      " recall:0.8259707192870783 \n",
      ", 'Validation':  best_epoch_indx:65\n",
      " auc:0.9112625528537293 \n",
      " apur:0.888602164747331 \n",
      " f1:0.7973944570761384 \n",
      " precision:0.7707293894036589 \n",
      " recall:0.8259707192870783 \n",
      ", 'Test':  best_epoch_indx:65\n",
      " auc:0.9112625528537293 \n",
      " apur:0.888602164747331 \n",
      " f1:0.7973944570761384 \n",
      " precision:0.7707293894036589 \n",
      " recall:0.8259707192870783 \n",
      "}\n",
      "=====Epoch 66\n",
      "Training...\n",
      "Evaluating...\n"
     ]
    },
    {
     "name": "stderr",
     "output_type": "stream",
     "text": [
      "Iteration: 100%|██████████| 62/62 [00:01<00:00, 34.99it/s]\n",
      "Iteration:  31%|███       | 19/62 [00:00<00:01, 32.28it/s]"
     ]
    },
    {
     "name": "stdout",
     "output_type": "stream",
     "text": [
      "Evaluating...\n"
     ]
    },
    {
     "name": "stderr",
     "output_type": "stream",
     "text": [
      "Iteration: 100%|██████████| 62/62 [00:02<00:00, 29.12it/s]\n",
      "Iteration: 100%|██████████| 62/62 [00:02<00:00, 27.37it/s]\n",
      "Iteration: 100%|██████████| 62/62 [00:01<00:00, 33.37it/s]\n",
      "Iteration:   6%|▋         | 4/62 [00:00<00:01, 30.38it/s]]"
     ]
    },
    {
     "name": "stdout",
     "output_type": "stream",
     "text": [
      "Evaluating...\n"
     ]
    },
    {
     "name": "stderr",
     "output_type": "stream",
     "text": [
      "Iteration: 100%|██████████| 62/62 [00:01<00:00, 31.04it/s]\n",
      "Iteration: 100%|██████████| 62/62 [00:02<00:00, 24.72it/s]\n",
      "Iteration: 100%|██████████| 62/62 [00:01<00:00, 38.81it/s]\n",
      "Iteration: 100%|██████████| 62/62 [00:02<00:00, 27.81it/s]\n",
      "Iteration:  73%|███████▎  | 45/62 [00:01<00:00, 31.38it/s]"
     ]
    },
    {
     "name": "stdout",
     "output_type": "stream",
     "text": [
      "{'Train':  best_epoch_indx:65\n",
      " auc:0.9094728996459652 \n",
      " apur:0.8871230078834071 \n",
      " f1:0.7967012828344533 \n",
      " precision:0.7658250146799765 \n",
      " recall:0.8301718650541057 \n",
      ", 'Validation':  best_epoch_indx:65\n",
      " auc:0.9094728996459652 \n",
      " apur:0.8871230078834071 \n",
      " f1:0.7967012828344533 \n",
      " precision:0.7658250146799765 \n",
      " recall:0.8301718650541057 \n",
      ", 'Test':  best_epoch_indx:65\n",
      " auc:0.9094728996459652 \n",
      " apur:0.8871230078834071 \n",
      " f1:0.7967012828344533 \n",
      " precision:0.7658250146799765 \n",
      " recall:0.8301718650541057 \n",
      "}\n",
      "=====Epoch 66\n",
      "Training...\n"
     ]
    },
    {
     "name": "stderr",
     "output_type": "stream",
     "text": [
      "Iteration: 100%|██████████| 62/62 [00:02<00:00, 25.66it/s]\n",
      "Iteration: 100%|██████████| 62/62 [00:02<00:00, 28.89it/s]\n",
      "Iteration: 100%|██████████| 62/62 [00:02<00:00, 26.45it/s]\n",
      "Iteration:   3%|▎         | 2/62 [00:00<00:03, 17.11it/s]]"
     ]
    },
    {
     "name": "stdout",
     "output_type": "stream",
     "text": [
      "{'Train':  best_epoch_indx:65\n",
      " auc:0.9117359900774027 \n",
      " apur:0.8914859301874739 \n",
      " f1:0.7945575039587122 \n",
      " precision:0.736624619399739 \n",
      " recall:0.8623806492679822 \n",
      ", 'Validation':  best_epoch_indx:65\n",
      " auc:0.9117359900774027 \n",
      " apur:0.8914859301874739 \n",
      " f1:0.7945575039587122 \n",
      " precision:0.736624619399739 \n",
      " recall:0.8623806492679822 \n",
      ", 'Test':  best_epoch_indx:65\n",
      " auc:0.9117359900774027 \n",
      " apur:0.8914859301874739 \n",
      " f1:0.7945575039587122 \n",
      " precision:0.736624619399739 \n",
      " recall:0.8623806492679822 \n",
      "}\n",
      "=====Epoch 66\n",
      "Training...\n"
     ]
    },
    {
     "name": "stderr",
     "output_type": "stream",
     "text": [
      "\r",
      "Iteration:  45%|████▌     | 28/62 [00:01<00:01, 18.36it/s]\r",
      "Iteration:  92%|█████████▏| 57/62 [00:01<00:00, 38.78it/s]\r",
      "Iteration:   8%|▊         | 5/62 [00:00<00:02, 21.61it/s]\r",
      "Iteration:  52%|█████▏    | 32/62 [00:01<00:01, 21.27it/s]\r",
      "Iteration: 100%|██████████| 62/62 [00:01<00:00, 40.52it/s]\r",
      "Iteration: 100%|██████████| 62/62 [00:01<00:00, 40.50it/s]\n",
      "\r",
      "Iteration:   0%|          | 0/62 [00:00<?, ?it/s]"
     ]
    },
    {
     "name": "stdout",
     "output_type": "stream",
     "text": [
      "Evaluating...\n"
     ]
    },
    {
     "name": "stderr",
     "output_type": "stream",
     "text": [
      "Iteration: 100%|██████████| 62/62 [00:02<00:00, 26.77it/s]\n",
      "Iteration: 100%|██████████| 62/62 [00:01<00:00, 41.45it/s]\n",
      "Iteration: 100%|██████████| 62/62 [00:01<00:00, 31.41it/s]\n",
      "Iteration:  58%|█████▊    | 36/62 [00:01<00:01, 25.16it/s]"
     ]
    },
    {
     "name": "stdout",
     "output_type": "stream",
     "text": [
      "Evaluating...\n"
     ]
    },
    {
     "name": "stderr",
     "output_type": "stream",
     "text": [
      "Iteration: 100%|██████████| 62/62 [00:02<00:00, 26.58it/s]\n",
      "Iteration: 100%|██████████| 62/62 [00:02<00:00, 24.37it/s]\n",
      "Iteration: 100%|██████████| 62/62 [00:01<00:00, 32.22it/s]\n"
     ]
    },
    {
     "name": "stdout",
     "output_type": "stream",
     "text": [
      "{'Train':  best_epoch_indx:71\n",
      " auc:0.9358886649981757 \n",
      " apur:0.9192539090817238 \n",
      " f1:0.832288978990048 \n",
      " precision:0.8042265226166448 \n",
      " recall:0.8623806492679822 \n",
      ", 'Validation':  best_epoch_indx:71\n",
      " auc:0.9358886649981757 \n",
      " apur:0.9192539090817237 \n",
      " f1:0.832288978990048 \n",
      " precision:0.8042265226166448 \n",
      " recall:0.8623806492679822 \n",
      ", 'Test':  best_epoch_indx:71\n",
      " auc:0.9358886649981757 \n",
      " apur:0.9192539090817237 \n",
      " f1:0.832288978990048 \n",
      " precision:0.8042265226166448 \n",
      " recall:0.8623806492679822 \n",
      "}\n",
      "=====Epoch 72\n",
      "Training...\n",
      "{'Train':  best_epoch_indx:68\n",
      " auc:0.9317302439741836 \n",
      " apur:0.9137650068242426 \n",
      " f1:0.825497512437811 \n",
      " precision:0.8069300911854104 \n",
      " recall:0.8449395289624443 \n",
      ", 'Validation':  best_epoch_indx:68\n",
      " auc:0.9317302499286948 \n",
      " apur:0.9137650169853423 \n",
      " f1:0.825497512437811 \n",
      " precision:0.8069300911854104 \n",
      " recall:0.8449395289624443 \n",
      ", 'Test':  best_epoch_indx:68\n",
      " auc:0.9317302439741836 \n",
      " apur:0.9137650068242426 \n",
      " f1:0.825497512437811 \n",
      " precision:0.8069300911854104 \n",
      " recall:0.8449395289624443 \n",
      "}\n",
      "=====Epoch 69\n",
      "Training...\n"
     ]
    },
    {
     "name": "stderr",
     "output_type": "stream",
     "text": [
      "Iteration: 100%|██████████| 62/62 [00:01<00:00, 36.85it/s]\n",
      "Iteration: 100%|██████████| 62/62 [00:02<00:00, 29.36it/s]\n",
      "Iteration:   8%|▊         | 5/62 [00:00<00:01, 42.04it/s]]"
     ]
    },
    {
     "name": "stdout",
     "output_type": "stream",
     "text": [
      "{'Train':  best_epoch_indx:66\n",
      " auc:0.9160313123921117 \n",
      " apur:0.8947969667099612 \n",
      " f1:0.8028642590286424 \n",
      " precision:0.7857404021937843 \n",
      " recall:0.8207511139401655 \n",
      ", 'Validation':  best_epoch_indx:66\n",
      " auc:0.9160313123921117 \n",
      " apur:0.8947969667099611 \n",
      " f1:0.8028642590286424 \n",
      " precision:0.7857404021937843 \n",
      " recall:0.8207511139401655 \n",
      ", 'Test':  best_epoch_indx:66\n",
      " auc:0.9160313123921117 \n",
      " apur:0.8947969667099612 \n",
      " f1:0.8028642590286424 \n",
      " precision:0.7857404021937843 \n",
      " recall:0.8207511139401655 \n",
      "}\n",
      "=====Epoch 67\n",
      "Training...\n"
     ]
    },
    {
     "name": "stderr",
     "output_type": "stream",
     "text": [
      "Iteration: 100%|██████████| 62/62 [00:01<00:00, 35.18it/s]\n",
      "Iteration:   6%|▋         | 4/62 [00:00<00:01, 29.44it/s]]"
     ]
    },
    {
     "name": "stdout",
     "output_type": "stream",
     "text": [
      "Evaluating...\n"
     ]
    },
    {
     "name": "stderr",
     "output_type": "stream",
     "text": [
      "\r",
      "Iteration:  65%|██████▍   | 40/62 [00:00<00:00, 38.76it/s]\r",
      "Iteration:   5%|▍         | 3/62 [00:00<00:02, 21.88it/s]\r",
      "Iteration:  97%|█████████▋| 60/62 [00:02<00:00, 24.41it/s]\r",
      "Iteration:  11%|█▏        | 7/62 [00:00<00:02, 24.46it/s]\r",
      "Iteration: 100%|██████████| 62/62 [00:02<00:00, 28.10it/s]\n",
      "\r",
      "Iteration:   0%|          | 0/62 [00:00<?, ?it/s]\r",
      "Iteration:  73%|███████▎  | 45/62 [00:01<00:00, 39.35it/s]\r",
      "Iteration:  10%|▉         | 6/62 [00:00<00:02, 23.44it/s]\r",
      "Iteration:  16%|█▌        | 10/62 [00:00<00:02, 23.79it/s]"
     ]
    },
    {
     "name": "stdout",
     "output_type": "stream",
     "text": [
      "Evaluating...\n"
     ]
    },
    {
     "name": "stderr",
     "output_type": "stream",
     "text": [
      "Iteration: 100%|██████████| 62/62 [00:01<00:00, 36.68it/s]\n",
      "Iteration:  29%|██▉       | 18/62 [00:00<00:01, 22.79it/s]"
     ]
    },
    {
     "name": "stdout",
     "output_type": "stream",
     "text": [
      "Evaluating...\n"
     ]
    },
    {
     "name": "stderr",
     "output_type": "stream",
     "text": [
      "Iteration: 100%|██████████| 62/62 [00:02<00:00, 22.62it/s]\n",
      "Iteration: 100%|██████████| 62/62 [00:02<00:00, 29.12it/s]\n",
      "Iteration: 100%|██████████| 62/62 [00:02<00:00, 26.69it/s]\n",
      "Iteration:   3%|▎         | 2/62 [00:00<00:03, 18.23it/s]]"
     ]
    },
    {
     "name": "stdout",
     "output_type": "stream",
     "text": [
      "{'Train':  best_epoch_indx:66\n",
      " auc:0.9114054443257996 \n",
      " apur:0.8893457403132725 \n",
      " f1:0.7975150695042441 \n",
      " precision:0.7715101749375223 \n",
      " recall:0.8253341820496499 \n",
      ", 'Validation':  best_epoch_indx:66\n",
      " auc:0.9114054443257996 \n",
      " apur:0.8893457403132725 \n",
      " f1:0.7975150695042441 \n",
      " precision:0.7715101749375223 \n",
      " recall:0.8253341820496499 \n",
      ", 'Test':  best_epoch_indx:66\n",
      " auc:0.9114054443257996 \n",
      " apur:0.8893457403132725 \n",
      " f1:0.7975150695042441 \n",
      " precision:0.7715101749375223 \n",
      " recall:0.8253341820496499 \n",
      "}\n",
      "=====Epoch 67\n",
      "Training...\n"
     ]
    },
    {
     "name": "stderr",
     "output_type": "stream",
     "text": [
      "Iteration: 100%|██████████| 62/62 [00:02<00:00, 20.73it/s]\n",
      "Iteration: 100%|██████████| 62/62 [00:02<00:00, 27.25it/s]\n",
      "Iteration: 100%|██████████| 62/62 [00:01<00:00, 34.45it/s]\n",
      "Iteration:  58%|█████▊    | 36/62 [00:01<00:01, 24.35it/s]"
     ]
    },
    {
     "name": "stdout",
     "output_type": "stream",
     "text": [
      "Evaluating...\n"
     ]
    },
    {
     "name": "stderr",
     "output_type": "stream",
     "text": [
      "Iteration: 100%|██████████| 62/62 [00:02<00:00, 28.42it/s]\n",
      "Iteration: 100%|██████████| 62/62 [00:02<00:00, 24.87it/s]\n",
      "Iteration: 100%|██████████| 62/62 [00:02<00:00, 26.46it/s]\n",
      "Iteration: 100%|██████████| 62/62 [00:01<00:00, 35.41it/s]\n",
      "Iteration:   0%|          | 0/62 [00:00<?, ?it/s]9.77it/s]"
     ]
    },
    {
     "name": "stdout",
     "output_type": "stream",
     "text": [
      "{'Train':  best_epoch_indx:66\n",
      " auc:0.9153491338270416 \n",
      " apur:0.8946208378989611 \n",
      " f1:0.8015486449356812 \n",
      " precision:0.7866160068635862 \n",
      " recall:0.8170591979630808 \n",
      ", 'Validation':  best_epoch_indx:66\n",
      " auc:0.9153491338270417 \n",
      " apur:0.8946208378989611 \n",
      " f1:0.8015486449356812 \n",
      " precision:0.7866160068635862 \n",
      " recall:0.8170591979630808 \n",
      ", 'Test':  best_epoch_indx:66\n",
      " auc:0.9153491338270416 \n",
      " apur:0.8946208378989611 \n",
      " f1:0.8015486449356812 \n",
      " precision:0.7866160068635862 \n",
      " recall:0.8170591979630808 \n",
      "}\n",
      "=====Epoch 67\n",
      "Training...\n"
     ]
    },
    {
     "name": "stderr",
     "output_type": "stream",
     "text": [
      "Iteration: 100%|██████████| 62/62 [00:02<00:00, 26.64it/s]\n",
      "Iteration: 100%|██████████| 62/62 [00:01<00:00, 34.07it/s]\n",
      "Iteration:  56%|█████▋    | 35/62 [00:01<00:01, 25.46it/s]"
     ]
    },
    {
     "name": "stdout",
     "output_type": "stream",
     "text": [
      "Evaluating...\n"
     ]
    },
    {
     "name": "stderr",
     "output_type": "stream",
     "text": [
      "Iteration: 100%|██████████| 62/62 [00:01<00:00, 32.72it/s]\n",
      "Iteration: 100%|██████████| 62/62 [00:02<00:00, 25.45it/s]\n",
      "Iteration:   0%|          | 0/62 [00:00<?, ?it/s]5.20it/s]"
     ]
    },
    {
     "name": "stdout",
     "output_type": "stream",
     "text": [
      "{'Train':  best_epoch_indx:72\n",
      " auc:0.9305096007906901 \n",
      " apur:0.9131240743316087 \n",
      " f1:0.8245920395014151 \n",
      " precision:0.7823354661791591 \n",
      " recall:0.8716740929344367 \n",
      ", 'Validation':  best_epoch_indx:72\n",
      " auc:0.9305096007906901 \n",
      " apur:0.9131240743316087 \n",
      " f1:0.8245920395014151 \n",
      " precision:0.7823354661791591 \n",
      " recall:0.8716740929344367 \n",
      ", 'Test':  best_epoch_indx:72\n",
      " auc:0.9305096007906901 \n",
      " apur:0.9131240743316087 \n",
      " f1:0.8245920395014151 \n",
      " precision:0.7823354661791591 \n",
      " recall:0.8716740929344367 \n",
      "}\n",
      "=====Epoch 73\n",
      "Training...\n"
     ]
    },
    {
     "name": "stderr",
     "output_type": "stream",
     "text": [
      "Iteration: 100%|██████████| 62/62 [00:02<00:00, 24.16it/s]\n",
      "Iteration:  79%|███████▉  | 49/62 [00:01<00:00, 28.49it/s]"
     ]
    },
    {
     "name": "stdout",
     "output_type": "stream",
     "text": [
      "{'Train':  best_epoch_indx:69\n",
      " auc:0.9379023686449737 \n",
      " apur:0.9210466962885494 \n",
      " f1:0.8351988126893821 \n",
      " precision:0.812049062049062 \n",
      " recall:0.8597071928707829 \n",
      ", 'Validation':  best_epoch_indx:69\n",
      " auc:0.9379023686449737 \n",
      " apur:0.9210466962885494 \n",
      " f1:0.8351988126893821 \n",
      " precision:0.812049062049062 \n",
      " recall:0.8597071928707829 \n",
      ", 'Test':  best_epoch_indx:69\n",
      " auc:0.9379023686449737 \n",
      " apur:0.9210466962885494 \n",
      " f1:0.8351988126893821 \n",
      " precision:0.812049062049062 \n",
      " recall:0.8597071928707829 \n",
      "}\n",
      "=====Epoch 70\n",
      "Training...\n"
     ]
    },
    {
     "name": "stderr",
     "output_type": "stream",
     "text": [
      "Iteration: 100%|██████████| 62/62 [00:02<00:00, 24.77it/s]\n",
      "Iteration: 100%|██████████| 62/62 [00:02<00:00, 28.02it/s]\n",
      "Iteration:  79%|███████▉  | 49/62 [00:01<00:00, 37.38it/s]"
     ]
    },
    {
     "name": "stdout",
     "output_type": "stream",
     "text": [
      "{'Train':  best_epoch_indx:67\n",
      " auc:0.9223066942400229 \n",
      " apur:0.9025354799465171 \n",
      " f1:0.8137065637065638 \n",
      " precision:0.7733058135534916 \n",
      " recall:0.8585614258434119 \n",
      ", 'Validation':  best_epoch_indx:67\n",
      " auc:0.9223066942400229 \n",
      " apur:0.9025354799465171 \n",
      " f1:0.8137065637065638 \n",
      " precision:0.7733058135534916 \n",
      " recall:0.8585614258434119 \n",
      ", 'Test':  best_epoch_indx:67\n",
      " auc:0.9223066942400229 \n",
      " apur:0.9025354799465171 \n",
      " f1:0.8137065637065638 \n",
      " precision:0.7733058135534916 \n",
      " recall:0.8585614258434119 \n",
      "}\n",
      "=====Epoch 68\n",
      "Training...\n"
     ]
    },
    {
     "name": "stderr",
     "output_type": "stream",
     "text": [
      "Iteration: 100%|██████████| 62/62 [00:01<00:00, 36.85it/s]\n",
      "Iteration:   5%|▍         | 3/62 [00:00<00:02, 26.65it/s]]"
     ]
    },
    {
     "name": "stdout",
     "output_type": "stream",
     "text": [
      "Evaluating...\n"
     ]
    },
    {
     "name": "stderr",
     "output_type": "stream",
     "text": [
      "Iteration: 100%|██████████| 62/62 [00:01<00:00, 37.34it/s]\n",
      "Iteration:   6%|▋         | 4/62 [00:00<00:01, 33.04it/s]"
     ]
    },
    {
     "name": "stdout",
     "output_type": "stream",
     "text": [
      "Evaluating...\n"
     ]
    },
    {
     "name": "stderr",
     "output_type": "stream",
     "text": [
      "Iteration: 100%|██████████| 62/62 [00:01<00:00, 35.45it/s]\n",
      "Iteration:  60%|█████▉    | 37/62 [00:01<00:01, 23.77it/s]"
     ]
    },
    {
     "name": "stdout",
     "output_type": "stream",
     "text": [
      "Evaluating...\n"
     ]
    },
    {
     "name": "stderr",
     "output_type": "stream",
     "text": [
      "Iteration: 100%|██████████| 62/62 [00:01<00:00, 31.95it/s]\n",
      "Iteration: 100%|██████████| 62/62 [00:02<00:00, 24.48it/s]\n",
      "Iteration: 100%|██████████| 62/62 [00:01<00:00, 43.96it/s]\n",
      "Iteration: 100%|██████████| 62/62 [00:02<00:00, 24.91it/s]\n",
      "Iteration: 100%|██████████| 62/62 [00:02<00:00, 21.02it/s]\n",
      "Iteration:   0%|          | 0/62 [00:00<?, ?it/s]5.84it/s]"
     ]
    },
    {
     "name": "stdout",
     "output_type": "stream",
     "text": [
      "{'Train':  best_epoch_indx:67\n",
      " auc:0.9219459388191777 \n",
      " apur:0.9033647875829629 \n",
      " f1:0.8093462590106886 \n",
      " precision:0.7905790943304601 \n",
      " recall:0.8290260980267345 \n",
      ", 'Validation':  best_epoch_indx:67\n",
      " auc:0.9219459388191777 \n",
      " apur:0.9033647875829629 \n",
      " f1:0.8093462590106886 \n",
      " precision:0.7905790943304601 \n",
      " recall:0.8290260980267345 \n",
      ", 'Test':  best_epoch_indx:67\n",
      " auc:0.9219459388191777 \n",
      " apur:0.9033647875829629 \n",
      " f1:0.8093462590106886 \n",
      " precision:0.7905790943304601 \n",
      " recall:0.8290260980267345 \n",
      "}\n",
      "=====Epoch 68\n",
      "Training...\n"
     ]
    },
    {
     "name": "stderr",
     "output_type": "stream",
     "text": [
      "Iteration: 100%|██████████| 62/62 [00:01<00:00, 32.62it/s]\n",
      "Iteration: 100%|██████████| 62/62 [00:02<00:00, 30.56it/s]\n",
      "Iteration: 100%|██████████| 62/62 [00:02<00:00, 27.63it/s]\n",
      "Iteration: 100%|██████████| 62/62 [00:01<00:00, 33.70it/s]\n",
      "Iteration: 100%|██████████| 62/62 [00:01<00:00, 31.79it/s]\n",
      "Iteration:   5%|▍         | 3/62 [00:00<00:01, 29.56it/s]"
     ]
    },
    {
     "name": "stdout",
     "output_type": "stream",
     "text": [
      "Evaluating...\n"
     ]
    },
    {
     "name": "stderr",
     "output_type": "stream",
     "text": [
      "\r",
      "Iteration:   0%|          | 0/62 [00:00<?, ?it/s]\r",
      "Iteration:  11%|█▏        | 7/62 [00:00<00:01, 35.61it/s]\r",
      "Iteration:   0%|          | 0/62 [00:00<?, ?it/s]\r",
      "Iteration:   0%|          | 0/62 [00:00<?, ?it/s]\r",
      "Iteration:  18%|█▊        | 11/62 [00:00<00:01, 35.50it/s]\r",
      "Iteration:   3%|▎         | 2/62 [00:00<00:03, 15.99it/s]\r",
      "Iteration:   5%|▍         | 3/62 [00:00<00:01, 29.57it/s]"
     ]
    },
    {
     "name": "stdout",
     "output_type": "stream",
     "text": [
      "{'Train':  best_epoch_indx:67\n",
      " auc:0.9200700429141615 \n",
      " apur:0.9015106798578858 \n",
      " f1:0.8118180703690082 \n",
      " precision:0.7828348504551366 \n",
      " recall:0.8430299172501592 \n",
      ", 'Validation':  best_epoch_indx:67\n",
      " auc:0.9200700429141615 \n",
      " apur:0.9015106798578858 \n",
      " f1:0.8118180703690082 \n",
      " precision:0.7828348504551366 \n",
      " recall:0.8430299172501592 \n",
      ", 'Test':  best_epoch_indx:67\n",
      " auc:0.9200700429141615 \n",
      " apur:0.9015106798578858 \n",
      " f1:0.8118180703690082 \n",
      " precision:0.7828348504551366 \n",
      " recall:0.8430299172501592 \n",
      "}\n",
      "=====Epoch 68\n",
      "Training...\n"
     ]
    },
    {
     "name": "stderr",
     "output_type": "stream",
     "text": [
      "Iteration: 100%|██████████| 62/62 [00:01<00:00, 35.72it/s]\n",
      "Iteration: 100%|██████████| 62/62 [00:02<00:00, 30.16it/s]\n",
      "Iteration:  82%|████████▏ | 51/62 [00:01<00:00, 28.09it/s]"
     ]
    },
    {
     "name": "stdout",
     "output_type": "stream",
     "text": [
      "Evaluating...\n"
     ]
    },
    {
     "name": "stderr",
     "output_type": "stream",
     "text": [
      "Iteration: 100%|██████████| 62/62 [00:02<00:00, 29.67it/s]\n",
      "Iteration: 100%|██████████| 62/62 [00:02<00:00, 27.71it/s]\n",
      "Iteration:   0%|          | 0/62 [00:00<?, ?it/s]8.71it/s]"
     ]
    },
    {
     "name": "stdout",
     "output_type": "stream",
     "text": [
      "{'Train':  best_epoch_indx:68\n",
      " auc:0.9282127892180476 \n",
      " apur:0.9092120283042067 \n",
      " f1:0.8189753320683113 \n",
      " precision:0.8138277812696417 \n",
      " recall:0.8241884150222788 \n",
      ", 'Validation':  best_epoch_indx:68\n",
      " auc:0.9282127892180477 \n",
      " apur:0.9092120283045337 \n",
      " f1:0.8189753320683113 \n",
      " precision:0.8138277812696417 \n",
      " recall:0.8241884150222788 \n",
      ", 'Test':  best_epoch_indx:68\n",
      " auc:0.9282127892180476 \n",
      " apur:0.9092120283042067 \n",
      " f1:0.8189753320683113 \n",
      " precision:0.8138277812696417 \n",
      " recall:0.8241884150222788 \n",
      "}\n",
      "=====Epoch 69\n",
      "Training...\n"
     ]
    },
    {
     "name": "stderr",
     "output_type": "stream",
     "text": [
      "\r",
      "Iteration:  42%|████▏     | 26/62 [00:00<00:00, 50.98it/s]\r",
      "Iteration:   3%|▎         | 2/62 [00:00<00:03, 19.54it/s]\r",
      "Iteration:  71%|███████   | 44/62 [00:01<00:00, 31.95it/s]\r",
      "Iteration:  53%|█████▎    | 33/62 [00:01<00:01, 28.16it/s]\r",
      "Iteration:  53%|█████▎    | 33/62 [00:00<00:00, 54.99it/s]\r",
      "Iteration:  11%|█▏        | 7/62 [00:00<00:01, 33.53it/s]\r",
      "Iteration:  60%|█████▉    | 37/62 [00:01<00:00, 29.05it/s]\r",
      "Iteration:  77%|███████▋  | 48/62 [00:02<00:00, 29.28it/s]\r",
      "Iteration:   0%|          | 0/62 [00:00<?, ?it/s]"
     ]
    },
    {
     "name": "stdout",
     "output_type": "stream",
     "text": [
      "{'Train':  best_epoch_indx:73\n",
      " auc:0.9259924314656512 \n",
      " apur:0.9059408290968014 \n",
      " f1:0.8208816417632835 \n",
      " precision:0.8000966884215616 \n",
      " recall:0.8427753023551878 \n",
      ", 'Validation':  best_epoch_indx:73\n",
      " auc:0.9259924314656512 \n",
      " apur:0.9059408290968014 \n",
      " f1:0.8208816417632835 \n",
      " precision:0.8000966884215616 \n",
      " recall:0.8427753023551878 \n",
      ", 'Test':  best_epoch_indx:73\n",
      " auc:0.9259924314656512 \n",
      " apur:0.9059408290968014 \n",
      " f1:0.8208816417632835 \n",
      " precision:0.8000966884215616 \n",
      " recall:0.8427753023551878 \n",
      "}\n",
      "=====Epoch 74\n",
      "Training...\n"
     ]
    },
    {
     "name": "stderr",
     "output_type": "stream",
     "text": [
      "Iteration: 100%|██████████| 62/62 [00:02<00:00, 22.94it/s]\n",
      "Iteration: 100%|██████████| 62/62 [00:02<00:00, 27.21it/s]\n",
      "Iteration: 100%|██████████| 62/62 [00:01<00:00, 34.18it/s]\n",
      "Iteration: 100%|██████████| 62/62 [00:01<00:00, 37.72it/s]\n",
      "Iteration:   0%|          | 0/62 [00:00<?, ?it/s]"
     ]
    },
    {
     "name": "stdout",
     "output_type": "stream",
     "text": [
      "Evaluating...\n",
      "{'Train':  best_epoch_indx:70\n",
      " auc:0.9390877212621896 \n",
      " apur:0.922525310101982 \n",
      " f1:0.8355307126799927 \n",
      " precision:0.799163179916318 \n",
      " recall:0.8753660089115213 \n",
      ", 'Validation':  best_epoch_indx:70\n",
      " auc:0.9390877212621896 \n",
      " apur:0.922525310101982 \n",
      " f1:0.8355307126799927 \n",
      " precision:0.799163179916318 \n",
      " recall:0.8753660089115213 \n",
      ", 'Test':  best_epoch_indx:70\n",
      " auc:0.9390877212621896 \n",
      " apur:0.922525310101982 \n",
      " f1:0.8355307126799927 \n",
      " precision:0.799163179916318 \n",
      " recall:0.8753660089115213 \n",
      "}\n",
      "=====Epoch 71\n",
      "Training...\n"
     ]
    },
    {
     "name": "stderr",
     "output_type": "stream",
     "text": [
      "Iteration: 100%|██████████| 62/62 [00:01<00:00, 31.84it/s]\n",
      "Iteration:   5%|▍         | 3/62 [00:00<00:02, 24.35it/s]]"
     ]
    },
    {
     "name": "stdout",
     "output_type": "stream",
     "text": [
      "Evaluating...\n"
     ]
    },
    {
     "name": "stderr",
     "output_type": "stream",
     "text": [
      "Iteration: 100%|██████████| 62/62 [00:01<00:00, 37.37it/s]\n",
      "Iteration:   0%|          | 0/62 [00:00<?, ?it/s]"
     ]
    },
    {
     "name": "stdout",
     "output_type": "stream",
     "text": [
      "Evaluating...\n"
     ]
    },
    {
     "name": "stderr",
     "output_type": "stream",
     "text": [
      "Iteration: 100%|██████████| 62/62 [00:02<00:00, 24.75it/s]\n",
      "Iteration: 100%|██████████| 62/62 [00:02<00:00, 28.66it/s]\n",
      "Iteration: 100%|██████████| 62/62 [00:02<00:00, 24.12it/s]\n",
      "Iteration: 100%|██████████| 62/62 [00:02<00:00, 26.27it/s]\n",
      "Iteration: 100%|██████████| 62/62 [00:02<00:00, 30.69it/s]\n",
      "Iteration:   0%|          | 0/62 [00:00<?, ?it/s]0.66it/s]"
     ]
    },
    {
     "name": "stdout",
     "output_type": "stream",
     "text": [
      "{'Train':  best_epoch_indx:68\n",
      " auc:0.9267512679382286 \n",
      " apur:0.9094688423316798 \n",
      " f1:0.8157975178822523 \n",
      " precision:0.784756527875794 \n",
      " recall:0.849395289624443 \n",
      ", 'Validation':  best_epoch_indx:68\n",
      " auc:0.9267512679382284 \n",
      " apur:0.9094688423319477 \n",
      " f1:0.8157975178822523 \n",
      " precision:0.784756527875794 \n",
      " recall:0.849395289624443 \n",
      ", 'Test':  best_epoch_indx:68\n",
      " auc:0.9267512679382284 \n",
      " apur:0.9094688423319477 \n",
      " f1:0.8157975178822523 \n",
      " precision:0.784756527875794 \n",
      " recall:0.849395289624443 \n",
      "}\n",
      "=====Epoch 69\n",
      "Training...\n"
     ]
    },
    {
     "name": "stderr",
     "output_type": "stream",
     "text": [
      "Iteration: 100%|██████████| 62/62 [00:01<00:00, 44.78it/s]\n",
      "Iteration: 100%|██████████| 62/62 [00:02<00:00, 28.34it/s]\n",
      "Iteration: 100%|██████████| 62/62 [00:01<00:00, 37.10it/s]\n",
      "Iteration:  44%|████▎     | 27/62 [00:01<00:01, 24.56it/s]"
     ]
    },
    {
     "name": "stdout",
     "output_type": "stream",
     "text": [
      "Evaluating...\n"
     ]
    },
    {
     "name": "stderr",
     "output_type": "stream",
     "text": [
      "Iteration: 100%|██████████| 62/62 [00:02<00:00, 27.14it/s]\n",
      "Iteration:   8%|▊         | 5/62 [00:00<00:01, 42.02it/s]]"
     ]
    },
    {
     "name": "stdout",
     "output_type": "stream",
     "text": [
      "{'Train':  best_epoch_indx:68\n",
      " auc:0.930515595162317 \n",
      " apur:0.9139673196994527 \n",
      " f1:0.8242612752721618 \n",
      " precision:0.8059610705596107 \n",
      " recall:0.8434118395926161 \n",
      ", 'Validation':  best_epoch_indx:68\n",
      " auc:0.9305155892078059 \n",
      " apur:0.9139673168924014 \n",
      " f1:0.8242612752721618 \n",
      " precision:0.8059610705596107 \n",
      " recall:0.8434118395926161 \n",
      ", 'Test':  best_epoch_indx:68\n",
      " auc:0.9305155892078059 \n",
      " apur:0.9139673168920359 \n",
      " f1:0.8242612752721618 \n",
      " precision:0.8059610705596107 \n",
      " recall:0.8434118395926161 \n",
      "}\n",
      "=====Epoch 69\n",
      "Training...\n"
     ]
    },
    {
     "name": "stderr",
     "output_type": "stream",
     "text": [
      "Iteration: 100%|██████████| 62/62 [00:02<00:00, 27.97it/s]\n",
      "Iteration: 100%|██████████| 62/62 [00:02<00:00, 27.09it/s]\n",
      "Iteration: 100%|██████████| 62/62 [00:02<00:00, 22.32it/s]\n",
      "Iteration:  94%|█████████▎| 58/62 [00:02<00:00, 28.23it/s]"
     ]
    },
    {
     "name": "stdout",
     "output_type": "stream",
     "text": [
      "{'Train':  best_epoch_indx:69\n",
      " auc:0.9362308778318909 \n",
      " apur:0.9186046436115061 \n",
      " f1:0.8337141092929916 \n",
      " precision:0.8094724220623501 \n",
      " recall:0.8594525779758115 \n",
      ", 'Validation':  best_epoch_indx:69\n",
      " auc:0.9362308778318909 \n",
      " apur:0.9186046436115061 \n",
      " f1:0.8337141092929916 \n",
      " precision:0.8094724220623501 \n",
      " recall:0.8594525779758115 \n",
      ", 'Test':  best_epoch_indx:69\n",
      " auc:0.9362308778318909 \n",
      " apur:0.9186046436115061 \n",
      " f1:0.8337141092929916 \n",
      " precision:0.8094724220623501 \n",
      " recall:0.8594525779758115 \n",
      "}\n",
      "=====Epoch 70\n",
      "Training...\n"
     ]
    },
    {
     "name": "stderr",
     "output_type": "stream",
     "text": [
      "Iteration: 100%|██████████| 62/62 [00:02<00:00, 22.77it/s]\n",
      "Iteration: 100%|██████████| 62/62 [00:01<00:00, 34.22it/s]\n",
      "Iteration:  47%|████▋     | 29/62 [00:00<00:00, 57.99it/s]"
     ]
    },
    {
     "name": "stdout",
     "output_type": "stream",
     "text": [
      "Evaluating...\n",
      "{'Train':  best_epoch_indx:74\n",
      " auc:0.9091352175049943 \n",
      " apur:0.8875991712124167 \n",
      " f1:0.7982146178166263 \n",
      " precision:0.7779120347994201 \n",
      " recall:0.8196053469127944 \n",
      ", 'Validation':  best_epoch_indx:74\n",
      " auc:0.9091352175049943 \n",
      " apur:0.8875991712124167 \n",
      " f1:0.7982146178166263 \n",
      " precision:0.7779120347994201 \n",
      " recall:0.8196053469127944 \n",
      ", 'Test':  best_epoch_indx:74\n",
      " auc:0.9091352175049943 \n",
      " apur:0.8875991712124167 \n",
      " f1:0.7982146178166263 \n",
      " precision:0.7779120347994201 \n",
      " recall:0.8196053469127944 \n",
      "}\n",
      "=====Epoch 75\n",
      "Training...\n"
     ]
    },
    {
     "name": "stderr",
     "output_type": "stream",
     "text": [
      "Iteration: 100%|██████████| 62/62 [00:01<00:00, 34.98it/s]\n",
      "Iteration: 100%|██████████| 62/62 [00:01<00:00, 32.80it/s]\n",
      "Iteration:  77%|███████▋  | 48/62 [00:01<00:00, 28.64it/s]"
     ]
    },
    {
     "name": "stdout",
     "output_type": "stream",
     "text": [
      "Evaluating...\n"
     ]
    },
    {
     "name": "stderr",
     "output_type": "stream",
     "text": [
      "Iteration: 100%|██████████| 62/62 [00:01<00:00, 31.93it/s]\n",
      "Iteration: 100%|██████████| 62/62 [00:02<00:00, 28.08it/s]\n",
      "Iteration:  26%|██▌       | 16/62 [00:00<00:01, 28.40it/s]"
     ]
    },
    {
     "name": "stdout",
     "output_type": "stream",
     "text": [
      "Evaluating...\n"
     ]
    },
    {
     "name": "stderr",
     "output_type": "stream",
     "text": [
      "\r",
      "Iteration:  10%|▉         | 6/62 [00:00<00:02, 25.97it/s]\r",
      "Iteration:  31%|███       | 19/62 [00:00<00:01, 28.69it/s]\r",
      "Iteration:  71%|███████   | 44/62 [00:01<00:00, 24.09it/s]\r",
      "Iteration:   0%|          | 0/62 [00:00<?, ?it/s]\r",
      "Iteration:  15%|█▍        | 9/62 [00:00<00:02, 24.78it/s]\r",
      "Iteration:  76%|███████▌  | 47/62 [00:01<00:00, 24.07it/s]\r",
      "Iteration:  37%|███▋      | 23/62 [00:00<00:01, 29.56it/s]\r",
      "Iteration:   6%|▋         | 4/62 [00:00<00:01, 36.70it/s]"
     ]
    },
    {
     "name": "stdout",
     "output_type": "stream",
     "text": [
      "{'Train':  best_epoch_indx:71\n",
      " auc:0.9361027010257836 \n",
      " apur:0.9183206175071419 \n",
      " f1:0.8307277297529274 \n",
      " precision:0.8012062440870388 \n",
      " recall:0.8625079567154679 \n",
      ", 'Validation':  best_epoch_indx:71\n",
      " auc:0.9361027010257836 \n",
      " apur:0.9183206175071419 \n",
      " f1:0.8307277297529274 \n",
      " precision:0.8012062440870388 \n",
      " recall:0.8625079567154679 \n",
      ", 'Test':  best_epoch_indx:71\n",
      " auc:0.9361027010257837 \n",
      " apur:0.9183206175068108 \n",
      " f1:0.8307277297529274 \n",
      " precision:0.8012062440870388 \n",
      " recall:0.8625079567154679 \n",
      "}\n",
      "=====Epoch 72\n",
      "Training...\n"
     ]
    },
    {
     "name": "stderr",
     "output_type": "stream",
     "text": [
      "Iteration: 100%|██████████| 62/62 [00:02<00:00, 25.54it/s]\n",
      "Iteration: 100%|██████████| 62/62 [00:01<00:00, 31.76it/s]\n",
      "Iteration: 100%|██████████| 62/62 [00:01<00:00, 33.38it/s]\n",
      "Iteration: 100%|██████████| 62/62 [00:02<00:00, 29.33it/s]\n",
      "Iteration:   6%|▋         | 4/62 [00:00<00:01, 30.61it/s]]"
     ]
    },
    {
     "name": "stdout",
     "output_type": "stream",
     "text": [
      "Evaluating...\n"
     ]
    },
    {
     "name": "stderr",
     "output_type": "stream",
     "text": [
      "Iteration: 100%|██████████| 62/62 [00:01<00:00, 33.45it/s]\n",
      "Iteration: 100%|██████████| 62/62 [00:02<00:00, 28.98it/s]\n",
      "Iteration: 100%|██████████| 62/62 [00:01<00:00, 31.43it/s]\n",
      "Iteration: 100%|██████████| 62/62 [00:02<00:00, 27.45it/s]\n",
      "Iteration: 100%|██████████| 62/62 [00:01<00:00, 34.32it/s]\n",
      "Iteration:   0%|          | 0/62 [00:00<?, ?it/s]0.23it/s]"
     ]
    },
    {
     "name": "stdout",
     "output_type": "stream",
     "text": [
      "{'Train':  best_epoch_indx:69\n",
      " auc:0.9346597533089188 \n",
      " apur:0.9173214883471075 \n",
      " f1:0.8303093671197491 \n",
      " precision:0.8031889576392194 \n",
      " recall:0.8593252705283259 \n",
      ", 'Validation':  best_epoch_indx:69\n",
      " auc:0.9346597533089188 \n",
      " apur:0.9173214883471075 \n",
      " f1:0.8303093671197491 \n",
      " precision:0.8031889576392194 \n",
      " recall:0.8593252705283259 \n",
      ", 'Test':  best_epoch_indx:69\n",
      " auc:0.9346597533089188 \n",
      " apur:0.9173214883471075 \n",
      " f1:0.8303093671197491 \n",
      " precision:0.8031889576392194 \n",
      " recall:0.8593252705283259 \n",
      "}\n",
      "=====Epoch 70\n",
      "Training...\n"
     ]
    },
    {
     "name": "stderr",
     "output_type": "stream",
     "text": [
      "Iteration: 100%|██████████| 62/62 [00:01<00:00, 38.19it/s]\n",
      "Iteration:   0%|          | 0/62 [00:00<?, ?it/s]"
     ]
    },
    {
     "name": "stdout",
     "output_type": "stream",
     "text": [
      "Evaluating...\n"
     ]
    },
    {
     "name": "stderr",
     "output_type": "stream",
     "text": [
      "Iteration: 100%|██████████| 62/62 [00:02<00:00, 24.26it/s]\n",
      "Iteration:  98%|█████████▊| 61/62 [00:02<00:00, 27.44it/s]"
     ]
    },
    {
     "name": "stdout",
     "output_type": "stream",
     "text": [
      "{'Train':  best_epoch_indx:69\n",
      " auc:0.9331182345589109 \n",
      " apur:0.9160105234583579 \n",
      " f1:0.8276582667486171 \n",
      " precision:0.800118835412953 \n",
      " recall:0.8571610439210694 \n",
      ", 'Validation':  best_epoch_indx:69\n",
      " auc:0.9331182345589109 \n",
      " apur:0.9160105234583579 \n",
      " f1:0.8276582667486171 \n",
      " precision:0.800118835412953 \n",
      " recall:0.8571610439210694 \n",
      ", 'Test':  best_epoch_indx:69\n",
      " auc:0.9331182345589109 \n",
      " apur:0.9160105234583579 \n",
      " f1:0.8276582667486171 \n",
      " precision:0.800118835412953 \n",
      " recall:0.8571610439210694 \n",
      "}\n",
      "=====Epoch 70\n",
      "Training...\n"
     ]
    },
    {
     "name": "stderr",
     "output_type": "stream",
     "text": [
      "Iteration: 100%|██████████| 62/62 [00:02<00:00, 26.69it/s]\n",
      "Iteration: 100%|██████████| 62/62 [00:02<00:00, 24.34it/s]\n",
      "Iteration: 100%|██████████| 62/62 [00:02<00:00, 24.34it/s]\n",
      "Iteration:   3%|▎         | 2/62 [00:00<00:03, 19.26it/s]]"
     ]
    },
    {
     "name": "stdout",
     "output_type": "stream",
     "text": [
      "{'Train':  best_epoch_indx:75\n",
      " auc:0.9220664991744191 \n",
      " apur:0.9043866230933362 \n",
      " f1:0.8125037213456386 \n",
      " precision:0.7631991051454139 \n",
      " recall:0.8686187141947804 \n",
      ", 'Validation':  best_epoch_indx:75\n",
      " auc:0.9220664991744191 \n",
      " apur:0.9043866230933362 \n",
      " f1:0.8125037213456386 \n",
      " precision:0.7631991051454139 \n",
      " recall:0.8686187141947804 \n",
      ", 'Test':  best_epoch_indx:75\n",
      " auc:0.9220664991744191 \n",
      " apur:0.9043866230933362 \n",
      " f1:0.8125037213456386 \n",
      " precision:0.7631991051454139 \n",
      " recall:0.8686187141947804 \n",
      "}\n",
      "=====Epoch 76\n",
      "Training...\n"
     ]
    },
    {
     "name": "stderr",
     "output_type": "stream",
     "text": [
      "Iteration: 100%|██████████| 62/62 [00:02<00:00, 28.15it/s]\n",
      "Iteration:  82%|████████▏ | 51/62 [00:01<00:00, 31.90it/s]"
     ]
    },
    {
     "name": "stdout",
     "output_type": "stream",
     "text": [
      "{'Train':  best_epoch_indx:70\n",
      " auc:0.9358001939979717 \n",
      " apur:0.9180238732225323 \n",
      " f1:0.831095923846717 \n",
      " precision:0.7980780499238251 \n",
      " recall:0.8669637173774666 \n",
      ", 'Validation':  best_epoch_indx:70\n",
      " auc:0.9358001939979717 \n",
      " apur:0.9180238732225323 \n",
      " f1:0.831095923846717 \n",
      " precision:0.7980780499238251 \n",
      " recall:0.8669637173774666 \n",
      ", 'Test':  best_epoch_indx:70\n",
      " auc:0.9358001939979717 \n",
      " apur:0.9180238732225323 \n",
      " f1:0.831095923846717 \n",
      " precision:0.7980780499238251 \n",
      " recall:0.8669637173774666 \n",
      "}\n",
      "=====Epoch 71\n",
      "Training...\n"
     ]
    },
    {
     "name": "stderr",
     "output_type": "stream",
     "text": [
      "Iteration: 100%|██████████| 62/62 [00:01<00:00, 32.91it/s]\n",
      "Iteration:  55%|█████▍    | 34/62 [00:00<00:00, 35.79it/s]"
     ]
    },
    {
     "name": "stdout",
     "output_type": "stream",
     "text": [
      "Evaluating...\n"
     ]
    },
    {
     "name": "stderr",
     "output_type": "stream",
     "text": [
      "Iteration: 100%|██████████| 62/62 [00:01<00:00, 36.42it/s]\n",
      "Iteration:   0%|          | 0/62 [00:00<?, ?it/s]"
     ]
    },
    {
     "name": "stdout",
     "output_type": "stream",
     "text": [
      "Evaluating...\n"
     ]
    },
    {
     "name": "stderr",
     "output_type": "stream",
     "text": [
      "Iteration: 100%|██████████| 62/62 [00:01<00:00, 42.01it/s]\n",
      "Iteration: 100%|██████████| 62/62 [00:02<00:00, 27.79it/s]\n",
      "Iteration:   6%|▋         | 4/62 [00:00<00:01, 32.88it/s]]"
     ]
    },
    {
     "name": "stdout",
     "output_type": "stream",
     "text": [
      "Evaluating...\n"
     ]
    },
    {
     "name": "stderr",
     "output_type": "stream",
     "text": [
      "Iteration: 100%|██████████| 62/62 [00:02<00:00, 29.87it/s]\n",
      "Iteration:  58%|█████▊    | 36/62 [00:01<00:00, 32.75it/s]"
     ]
    },
    {
     "name": "stdout",
     "output_type": "stream",
     "text": [
      "{'Train':  best_epoch_indx:72\n",
      " auc:0.9282401680601216 \n",
      " apur:0.9095856602075494 \n",
      " f1:0.8185747807830059 \n",
      " precision:0.7948195227245473 \n",
      " recall:0.8437937619350732 \n",
      ", 'Validation':  best_epoch_indx:72\n",
      " auc:0.9282401680601216 \n",
      " apur:0.9095856602075494 \n",
      " f1:0.8185747807830059 \n",
      " precision:0.7948195227245473 \n",
      " recall:0.8437937619350732 \n",
      ", 'Test':  best_epoch_indx:72\n",
      " auc:0.9282401680601216 \n",
      " apur:0.9095856602075494 \n",
      " f1:0.8185747807830059 \n",
      " precision:0.7948195227245473 \n",
      " recall:0.8437937619350732 \n",
      "}\n",
      "=====Epoch 73\n",
      "Training...\n"
     ]
    },
    {
     "name": "stderr",
     "output_type": "stream",
     "text": [
      "Iteration: 100%|██████████| 62/62 [00:01<00:00, 35.37it/s]\n",
      "Iteration: 100%|██████████| 62/62 [00:02<00:00, 25.61it/s]\n",
      "Iteration: 100%|██████████| 62/62 [00:02<00:00, 23.54it/s]\n",
      "Iteration: 100%|██████████| 62/62 [00:01<00:00, 31.94it/s]\n",
      "Iteration:   5%|▍         | 3/62 [00:00<00:02, 24.97it/s]"
     ]
    },
    {
     "name": "stdout",
     "output_type": "stream",
     "text": [
      "Evaluating...\n"
     ]
    },
    {
     "name": "stderr",
     "output_type": "stream",
     "text": [
      "Iteration: 100%|██████████| 62/62 [00:02<00:00, 30.49it/s]\n",
      "Iteration: 100%|██████████| 62/62 [00:01<00:00, 43.74it/s]\n",
      "Iteration: 100%|██████████| 62/62 [00:02<00:00, 28.53it/s]\n",
      "Iteration: 100%|██████████| 62/62 [00:02<00:00, 27.77it/s]\n",
      "Iteration: 100%|██████████| 62/62 [00:02<00:00, 23.40it/s]\n",
      "Iteration: 100%|██████████| 62/62 [00:01<00:00, 44.13it/s]\n",
      "Iteration:  50%|█████     | 31/62 [00:01<00:00, 31.57it/s]"
     ]
    },
    {
     "name": "stdout",
     "output_type": "stream",
     "text": [
      "{'Train':  best_epoch_indx:70\n",
      " auc:0.9355214754943884 \n",
      " apur:0.9193879072039567 \n",
      " f1:0.8294318385918698 \n",
      " precision:0.7828887884267631 \n",
      " recall:0.8818586887332909 \n",
      ", 'Validation':  best_epoch_indx:70\n",
      " auc:0.9355214754943884 \n",
      " apur:0.9193879072039567 \n",
      " f1:0.8294318385918698 \n",
      " precision:0.7828887884267631 \n",
      " recall:0.8818586887332909 \n",
      ", 'Test':  best_epoch_indx:70\n",
      " auc:0.9355214754943884 \n",
      " apur:0.9193879072039567 \n",
      " f1:0.8294318385918698 \n",
      " precision:0.7828887884267631 \n",
      " recall:0.8818586887332909 \n",
      "}\n",
      "=====Epoch 71\n",
      "Training...\n"
     ]
    },
    {
     "name": "stderr",
     "output_type": "stream",
     "text": [
      "\r",
      "Iteration:   6%|▋         | 4/62 [00:00<00:01, 30.37it/s]\r",
      "Iteration:  61%|██████▏   | 38/62 [00:01<00:00, 40.97it/s]\r",
      "Iteration:  47%|████▋     | 29/62 [00:00<00:00, 35.07it/s]\r",
      "Iteration:  13%|█▎        | 8/62 [00:00<00:01, 34.11it/s]\r",
      "Iteration:  73%|███████▎  | 45/62 [00:01<00:00, 47.59it/s]\r",
      "Iteration:   0%|          | 0/62 [00:00<?, ?it/s]\r",
      "Iteration:  53%|█████▎    | 33/62 [00:00<00:00, 33.90it/s]"
     ]
    },
    {
     "name": "stdout",
     "output_type": "stream",
     "text": [
      "{'Train':  best_epoch_indx:71\n",
      " auc:0.9332667519749623 \n",
      " apur:0.9152921246628845 \n",
      " f1:0.8296068796068796 \n",
      " precision:0.8015430267062315 \n",
      " recall:0.8597071928707829 \n",
      ", 'Validation':  best_epoch_indx:71\n",
      " auc:0.9332667519749623 \n",
      " apur:0.9152921246628845 \n",
      " f1:0.8296068796068796 \n",
      " precision:0.8015430267062315 \n",
      " recall:0.8597071928707829 \n",
      ", 'Test':  best_epoch_indx:71\n",
      " auc:0.9332667519749623 \n",
      " apur:0.9152921246628845 \n",
      " f1:0.8296068796068796 \n",
      " precision:0.8015430267062315 \n",
      " recall:0.8597071928707829 \n",
      "}\n",
      "=====Epoch 72\n",
      "Training...\n"
     ]
    },
    {
     "name": "stderr",
     "output_type": "stream",
     "text": [
      "Iteration: 100%|██████████| 62/62 [00:02<00:00, 29.52it/s]\n",
      "Iteration: 100%|██████████| 62/62 [00:02<00:00, 28.62it/s]\n"
     ]
    },
    {
     "name": "stdout",
     "output_type": "stream",
     "text": [
      "{'Train':  best_epoch_indx:70\n",
      " auc:0.9342438336571595 \n",
      " apur:0.9183510771819663 \n",
      " f1:0.8294541341746533 \n",
      " precision:0.7789579606440071 \n",
      " recall:0.886950986632718 \n",
      ", 'Validation':  best_epoch_indx:70\n",
      " auc:0.9342438336571595 \n",
      " apur:0.9183510771819663 \n",
      " f1:0.8294541341746533 \n",
      " precision:0.7789579606440071 \n",
      " recall:0.886950986632718 \n",
      ", 'Test':  best_epoch_indx:70\n",
      " auc:0.9342438336571595 \n",
      " apur:0.9183510771819663 \n",
      " f1:0.8294541341746533 \n",
      " precision:0.7789579606440071 \n",
      " recall:0.886950986632718 \n",
      "}\n",
      "=====Epoch 71\n",
      "Training...\n"
     ]
    },
    {
     "name": "stderr",
     "output_type": "stream",
     "text": [
      "Iteration: 100%|██████████| 62/62 [00:01<00:00, 34.14it/s]\n",
      "Iteration:  89%|████████▊ | 55/62 [00:01<00:00, 29.07it/s]"
     ]
    },
    {
     "name": "stdout",
     "output_type": "stream",
     "text": [
      "Evaluating...\n"
     ]
    },
    {
     "name": "stderr",
     "output_type": "stream",
     "text": [
      "\r",
      "Iteration:   8%|▊         | 5/62 [00:00<00:01, 40.93it/s]\r",
      "Iteration:  32%|███▏      | 20/62 [00:00<00:01, 37.02it/s]\r",
      "Iteration:  90%|█████████ | 56/62 [00:02<00:00, 35.61it/s]\r",
      "Iteration:  97%|█████████▋| 60/62 [00:01<00:00, 32.34it/s]\r",
      "Iteration:  16%|█▌        | 10/62 [00:00<00:01, 40.88it/s]\r",
      "Iteration: 100%|██████████| 62/62 [00:01<00:00, 34.25it/s]\n",
      "\r",
      "Iteration:   0%|          | 0/62 [00:00<?, ?it/s]\r",
      "Iteration:  39%|███▊      | 24/62 [00:00<00:01, 35.56it/s]\r",
      "Iteration:  98%|█████████▊| 61/62 [00:02<00:00, 37.34it/s]\r",
      "Iteration: 100%|██████████| 62/62 [00:02<00:00, 22.68it/s]\n"
     ]
    },
    {
     "name": "stdout",
     "output_type": "stream",
     "text": [
      "Evaluating...\n",
      "{'Train':  best_epoch_indx:76\n",
      " auc:0.9289994610067793 \n",
      " apur:0.9120140464066939 \n",
      " f1:0.8192635270541082 \n",
      " precision:0.8062369037347467 \n",
      " recall:0.8327180140038192 \n",
      ", 'Validation':  best_epoch_indx:76\n",
      " auc:0.9289994610067793 \n",
      " apur:0.9120140464066939 \n",
      " f1:0.8192635270541082 \n",
      " precision:0.8062369037347467 \n",
      " recall:0.8327180140038192 \n",
      ", 'Test':  best_epoch_indx:76\n",
      " auc:0.9289994610067793 \n",
      " apur:0.9120140464066939 \n",
      " f1:0.8192635270541082 \n",
      " precision:0.8062369037347467 \n",
      " recall:0.8327180140038192 \n",
      "}\n",
      "=====Epoch 77\n",
      "Training...\n"
     ]
    },
    {
     "name": "stderr",
     "output_type": "stream",
     "text": [
      "Iteration: 100%|██████████| 62/62 [00:01<00:00, 36.14it/s]\n",
      "Iteration:  10%|▉         | 6/62 [00:00<00:00, 59.90it/s]]"
     ]
    },
    {
     "name": "stdout",
     "output_type": "stream",
     "text": [
      "Evaluating...\n"
     ]
    },
    {
     "name": "stderr",
     "output_type": "stream",
     "text": [
      "Iteration: 100%|██████████| 62/62 [00:01<00:00, 36.92it/s]\n",
      "Iteration:   5%|▍         | 3/62 [00:00<00:02, 20.86it/s]]"
     ]
    },
    {
     "name": "stdout",
     "output_type": "stream",
     "text": [
      "Evaluating...\n"
     ]
    },
    {
     "name": "stderr",
     "output_type": "stream",
     "text": [
      "Iteration: 100%|██████████| 62/62 [00:00<00:00, 62.41it/s]\n",
      "Iteration: 100%|██████████| 62/62 [00:02<00:00, 26.15it/s]\n",
      "Iteration: 100%|██████████| 62/62 [00:02<00:00, 25.64it/s]\n",
      "Iteration: 100%|██████████| 62/62 [00:01<00:00, 35.12it/s]\n",
      "Iteration: 100%|██████████| 62/62 [00:02<00:00, 25.88it/s]\n",
      "Iteration: 100%|██████████| 62/62 [00:01<00:00, 34.72it/s]\n"
     ]
    },
    {
     "name": "stdout",
     "output_type": "stream",
     "text": [
      "{'Train':  best_epoch_indx:73\n",
      " auc:0.9185537087970161 \n",
      " apur:0.9002104386120895 \n",
      " f1:0.8063117321127439 \n",
      " precision:0.7651160132586581 \n",
      " recall:0.852196053469128 \n",
      ", 'Validation':  best_epoch_indx:73\n",
      " auc:0.9185537087970161 \n",
      " apur:0.9002104386120895 \n",
      " f1:0.8063117321127439 \n",
      " precision:0.7651160132586581 \n",
      " recall:0.852196053469128 \n",
      ", 'Test':  best_epoch_indx:73\n",
      " auc:0.9185537087970161 \n",
      " apur:0.9002104386120895 \n",
      " f1:0.8063117321127439 \n",
      " precision:0.7651160132586581 \n",
      " recall:0.852196053469128 \n",
      "}\n",
      "=====Epoch 74\n",
      "Training...\n"
     ]
    },
    {
     "name": "stderr",
     "output_type": "stream",
     "text": [
      "Iteration: 100%|██████████| 62/62 [00:01<00:00, 34.47it/s]\n",
      "Iteration: 100%|██████████| 62/62 [00:02<00:00, 30.98it/s]\n",
      "Iteration: 100%|██████████| 62/62 [00:01<00:00, 38.33it/s]\n",
      "Iteration:  52%|█████▏    | 32/62 [00:01<00:00, 30.90it/s]"
     ]
    },
    {
     "name": "stdout",
     "output_type": "stream",
     "text": [
      "Evaluating...\n"
     ]
    },
    {
     "name": "stderr",
     "output_type": "stream",
     "text": [
      "Iteration: 100%|██████████| 62/62 [00:01<00:00, 36.37it/s]\n",
      "Iteration: 100%|██████████| 62/62 [00:02<00:00, 25.68it/s]\n",
      "Iteration: 100%|██████████| 62/62 [00:01<00:00, 36.50it/s]\n",
      "Iteration: 100%|██████████| 62/62 [00:01<00:00, 34.33it/s]\n",
      "Iteration:  63%|██████▎   | 39/62 [00:01<00:00, 33.45it/s]"
     ]
    },
    {
     "name": "stdout",
     "output_type": "stream",
     "text": [
      "{'Train':  best_epoch_indx:71\n",
      " auc:0.931970609724074 \n",
      " apur:0.9145347936646631 \n",
      " f1:0.8221190057745418 \n",
      " precision:0.8108208493252446 \n",
      " recall:0.8337364735837046 \n",
      ", 'Validation':  best_epoch_indx:71\n",
      " auc:0.931970609724074 \n",
      " apur:0.9145347936646631 \n",
      " f1:0.8221190057745418 \n",
      " precision:0.8108208493252446 \n",
      " recall:0.8337364735837046 \n",
      ", 'Test':  best_epoch_indx:71\n",
      " auc:0.931970609724074 \n",
      " apur:0.9145347936646631 \n",
      " f1:0.8221190057745418 \n",
      " precision:0.8108208493252446 \n",
      " recall:0.8337364735837046 \n",
      "}\n",
      "=====Epoch 72\n",
      "Training...\n"
     ]
    },
    {
     "name": "stderr",
     "output_type": "stream",
     "text": [
      "Iteration: 100%|██████████| 62/62 [00:01<00:00, 33.37it/s]]\n",
      "Iteration:  39%|███▊      | 24/62 [00:00<00:01, 31.38it/s]]"
     ]
    },
    {
     "name": "stdout",
     "output_type": "stream",
     "text": [
      "{'Train':  best_epoch_indx:71\n",
      " auc:0.9270485806720283 \n",
      " apur:0.9088997334895929 \n",
      " f1:0.8189305470190535 \n",
      " precision:0.7916815210932858 \n",
      " recall:0.8481222151495863 \n",
      ", 'Validation':  best_epoch_indx:71\n",
      " auc:0.9270485806720283 \n",
      " apur:0.9088997334895929 \n",
      " f1:0.8189305470190535 \n",
      " precision:0.7916815210932858 \n",
      " recall:0.8481222151495863 \n",
      ", 'Test':  best_epoch_indx:71\n",
      " auc:0.9270485806720283 \n",
      " apur:0.9088997334895929 \n",
      " f1:0.8189305470190535 \n",
      " precision:0.7916815210932858 \n",
      " recall:0.8481222151495863 \n",
      "}\n",
      "=====Epoch 72\n",
      "Training...\n"
     ]
    },
    {
     "name": "stderr",
     "output_type": "stream",
     "text": [
      "Iteration: 100%|██████████| 62/62 [00:00<00:00, 64.65it/s] \n",
      "Iteration:  45%|████▌     | 28/62 [00:00<00:01, 31.53it/s]"
     ]
    },
    {
     "name": "stdout",
     "output_type": "stream",
     "text": [
      "{'Train':  best_epoch_indx:72\n",
      " auc:0.9238813170664029 \n",
      " apur:0.9051956352183055 \n",
      " f1:0.8143285821455364 \n",
      " precision:0.8000245670065103 \n",
      " recall:0.8291534054742202 \n",
      ", 'Validation':  best_epoch_indx:72\n",
      " auc:0.9238813170664029 \n",
      " apur:0.9051956352183055 \n",
      " f1:0.8143285821455364 \n",
      " precision:0.8000245670065103 \n",
      " recall:0.8291534054742202 \n",
      ", 'Test':  best_epoch_indx:72\n",
      " auc:0.9238813051573808 \n",
      " apur:0.9051956213033183 \n",
      " f1:0.8143285821455364 \n",
      " precision:0.8000245670065103 \n",
      " recall:0.8291534054742202 \n",
      "}\n",
      "=====Epoch 73\n",
      "Training...\n"
     ]
    },
    {
     "name": "stderr",
     "output_type": "stream",
     "text": [
      "Iteration: 100%|██████████| 62/62 [00:02<00:00, 28.45it/s]\n",
      "Iteration:  45%|████▌     | 28/62 [00:00<00:01, 33.29it/s]"
     ]
    },
    {
     "name": "stdout",
     "output_type": "stream",
     "text": [
      "Evaluating...\n"
     ]
    },
    {
     "name": "stderr",
     "output_type": "stream",
     "text": [
      "Iteration: 100%|██████████| 62/62 [00:01<00:00, 33.69it/s]\n",
      "Iteration: 100%|██████████| 62/62 [00:02<00:00, 28.44it/s]\n",
      "Iteration: 100%|██████████| 62/62 [00:01<00:00, 36.87it/s]\n",
      "Iteration:  48%|████▊     | 30/62 [00:01<00:01, 28.91it/s]"
     ]
    },
    {
     "name": "stdout",
     "output_type": "stream",
     "text": [
      "Evaluating...\n",
      "{'Train':  best_epoch_indx:77\n",
      " auc:0.9368055370700314 \n",
      " apur:0.9199825262191211 \n",
      " f1:0.8343755804594144 \n",
      " precision:0.812198649951784 \n",
      " recall:0.8577975811584978 \n",
      ", 'Validation':  best_epoch_indx:77\n",
      " auc:0.9368055370700314 \n",
      " apur:0.9199825262191211 \n",
      " f1:0.8343755804594144 \n",
      " precision:0.812198649951784 \n",
      " recall:0.8577975811584978 \n",
      ", 'Test':  best_epoch_indx:77\n",
      " auc:0.9368055370700314 \n",
      " apur:0.9199825262191211 \n",
      " f1:0.8343755804594144 \n",
      " precision:0.812198649951784 \n",
      " recall:0.8577975811584978 \n",
      "}\n",
      "=====Epoch 78\n",
      "Training...\n",
      "Evaluating...\n"
     ]
    },
    {
     "name": "stderr",
     "output_type": "stream",
     "text": [
      "Iteration: 100%|██████████| 62/62 [00:02<00:00, 30.56it/s]\n",
      "Iteration: 100%|██████████| 62/62 [00:01<00:00, 34.84it/s]\n",
      "Iteration:   0%|          | 0/62 [00:00<?, ?it/s]"
     ]
    },
    {
     "name": "stdout",
     "output_type": "stream",
     "text": [
      "Evaluating...\n"
     ]
    },
    {
     "name": "stderr",
     "output_type": "stream",
     "text": [
      "Iteration: 100%|██████████| 62/62 [00:01<00:00, 33.43it/s]\n",
      "Iteration: 100%|██████████| 62/62 [00:01<00:00, 33.96it/s]\n",
      "Iteration: 100%|██████████| 62/62 [00:02<00:00, 26.08it/s]\n",
      "Iteration:  19%|█▉        | 12/62 [00:00<00:03, 14.06it/s]"
     ]
    },
    {
     "name": "stdout",
     "output_type": "stream",
     "text": [
      "{'Train':  best_epoch_indx:74\n",
      " auc:0.917304363048924 \n",
      " apur:0.8958549906884656 \n",
      " f1:0.8043147053446279 \n",
      " precision:0.7714519523030161 \n",
      " recall:0.8401018459579885 \n",
      ", 'Validation':  best_epoch_indx:74\n",
      " auc:0.9173043690034351 \n",
      " apur:0.8958550007397679 \n",
      " f1:0.8043147053446279 \n",
      " precision:0.7714519523030161 \n",
      " recall:0.8401018459579885 \n",
      ", 'Test':  best_epoch_indx:74\n",
      " auc:0.9173043630489242 \n",
      " apur:0.8958549906889364 \n",
      " f1:0.8043147053446279 \n",
      " precision:0.7714519523030161 \n",
      " recall:0.8401018459579885 \n",
      "}\n",
      "=====Epoch 75\n",
      "Training...\n"
     ]
    },
    {
     "name": "stderr",
     "output_type": "stream",
     "text": [
      "Iteration: 100%|██████████| 62/62 [00:01<00:00, 31.57it/s]\n",
      "Iteration: 100%|██████████| 62/62 [00:02<00:00, 29.23it/s]\n",
      "Iteration: 100%|██████████| 62/62 [00:01<00:00, 33.53it/s]\n",
      "Iteration: 100%|██████████| 62/62 [00:02<00:00, 28.48it/s]\n",
      "Iteration: 100%|██████████| 62/62 [00:01<00:00, 36.45it/s]\n",
      "Iteration:  10%|▉         | 6/62 [00:00<00:01, 53.67it/s]]"
     ]
    },
    {
     "name": "stdout",
     "output_type": "stream",
     "text": [
      "Evaluating...\n"
     ]
    },
    {
     "name": "stderr",
     "output_type": "stream",
     "text": [
      "Iteration: 100%|██████████| 62/62 [00:02<00:00, 30.57it/s]\n",
      "Iteration: 100%|██████████| 62/62 [00:01<00:00, 33.12it/s]\n",
      "Iteration: 100%|██████████| 62/62 [00:01<00:00, 31.76it/s]\n",
      "Iteration: 100%|██████████| 62/62 [00:01<00:00, 32.78it/s]\n",
      "Iteration: 100%|██████████| 62/62 [00:01<00:00, 33.27it/s]\n",
      "Iteration:   0%|          | 0/62 [00:00<?, ?it/s].97it/s]"
     ]
    },
    {
     "name": "stdout",
     "output_type": "stream",
     "text": [
      "{'Train':  best_epoch_indx:73\n",
      " auc:0.9247388917106657 \n",
      " apur:0.9063787779420001 \n",
      " f1:0.8170933873641555 \n",
      " precision:0.7891366223908919 \n",
      " recall:0.8471037555697009 \n",
      ", 'Validation':  best_epoch_indx:73\n",
      " auc:0.9247388917106655 \n",
      " apur:0.906378777942366 \n",
      " f1:0.8170933873641555 \n",
      " precision:0.7891366223908919 \n",
      " recall:0.8471037555697009 \n",
      ", 'Test':  best_epoch_indx:73\n",
      " auc:0.9247388917106657 \n",
      " apur:0.9063787779420001 \n",
      " f1:0.8170933873641555 \n",
      " precision:0.7891366223908919 \n",
      " recall:0.8471037555697009 \n",
      "}\n",
      "=====Epoch 74\n",
      "Training...\n",
      "{'Train':  best_epoch_indx:72\n",
      " auc:0.9265639850922859 \n",
      " apur:0.9086334335424252 \n",
      " f1:0.8183949504057709 \n",
      " precision:0.7752847380410023 \n",
      " recall:0.8665817950350095 \n",
      ", 'Validation':  best_epoch_indx:72\n",
      " auc:0.9265639850922859 \n",
      " apur:0.9086334335424252 \n",
      " f1:0.8183949504057709 \n",
      " precision:0.7752847380410023 \n",
      " recall:0.8665817950350095 \n",
      ", 'Test':  best_epoch_indx:72\n",
      " auc:0.9265639850922859 \n",
      " apur:0.9086334335424252 \n",
      " f1:0.8183949504057709 \n",
      " precision:0.7752847380410023 \n",
      " recall:0.8665817950350095 \n",
      "}\n",
      "=====Epoch 73\n",
      "Training...\n"
     ]
    },
    {
     "name": "stderr",
     "output_type": "stream",
     "text": [
      "Iteration:  50%|█████     | 31/62 [00:00<00:00, 31.64it/s]"
     ]
    },
    {
     "name": "stdout",
     "output_type": "stream",
     "text": [
      "{'Train':  best_epoch_indx:72\n",
      " auc:0.922791016589093 \n",
      " apur:0.9032738075225442 \n",
      " f1:0.8099993718987502 \n",
      " precision:0.7994049094966527 \n",
      " recall:0.8208784213876512 \n",
      ", 'Validation':  best_epoch_indx:72\n",
      " auc:0.922791016589093 \n",
      " apur:0.9032738075225442 \n",
      " f1:0.8099993718987502 \n",
      " precision:0.7994049094966527 \n",
      " recall:0.8208784213876512 \n",
      ", 'Test':  best_epoch_indx:72\n",
      " auc:0.922791016589093 \n",
      " apur:0.9032738075225442 \n",
      " f1:0.8099993718987502 \n",
      " precision:0.7994049094966527 \n",
      " recall:0.8208784213876512 \n",
      "}\n",
      "=====Epoch 73\n",
      "Training...\n"
     ]
    },
    {
     "name": "stderr",
     "output_type": "stream",
     "text": [
      "Iteration: 100%|██████████| 62/62 [00:01<00:00, 41.20it/s]\n",
      "Iteration:   6%|▋         | 4/62 [00:00<00:01, 36.53it/s]]"
     ]
    },
    {
     "name": "stdout",
     "output_type": "stream",
     "text": [
      "Evaluating...\n",
      "Evaluating...\n"
     ]
    },
    {
     "name": "stderr",
     "output_type": "stream",
     "text": [
      "Iteration: 100%|██████████| 62/62 [00:01<00:00, 37.76it/s]\n",
      "Iteration: 100%|██████████| 62/62 [00:01<00:00, 32.94it/s]\n",
      "Iteration: 100%|██████████| 62/62 [00:01<00:00, 31.26it/s]\n",
      "Iteration: 100%|██████████| 62/62 [00:01<00:00, 38.28it/s]\n",
      "Iteration:   6%|▋         | 4/62 [00:00<00:01, 31.03it/s]]"
     ]
    },
    {
     "name": "stdout",
     "output_type": "stream",
     "text": [
      "{'Train':  best_epoch_indx:78\n",
      " auc:0.9386289313052515 \n",
      " apur:0.9240274393696931 \n",
      " f1:0.8331349082022683 \n",
      " precision:0.8203356367226061 \n",
      " recall:0.8463399108847868 \n",
      ", 'Validation':  best_epoch_indx:78\n",
      " auc:0.9386289313052515 \n",
      " apur:0.9240274393696931 \n",
      " f1:0.8331349082022683 \n",
      " precision:0.8203356367226061 \n",
      " recall:0.8463399108847868 \n",
      ", 'Test':  best_epoch_indx:78\n",
      " auc:0.9386289313052515 \n",
      " apur:0.9240274393696931 \n",
      " f1:0.8331349082022683 \n",
      " precision:0.8203356367226061 \n",
      " recall:0.8463399108847868 \n",
      "}\n",
      "=====Epoch 79\n",
      "Training...\n",
      "Evaluating...\n"
     ]
    },
    {
     "name": "stderr",
     "output_type": "stream",
     "text": [
      "Iteration: 100%|██████████| 62/62 [00:01<00:00, 41.68it/s]\n",
      "Iteration: 100%|██████████| 62/62 [00:01<00:00, 32.66it/s]\n",
      "Iteration: 100%|██████████| 62/62 [00:01<00:00, 35.27it/s]\n",
      "Iteration: 100%|██████████| 62/62 [00:02<00:00, 28.15it/s]\n",
      "Iteration:  90%|█████████ | 56/62 [00:01<00:00, 48.48it/s]"
     ]
    },
    {
     "name": "stdout",
     "output_type": "stream",
     "text": [
      "Evaluating...\n"
     ]
    },
    {
     "name": "stderr",
     "output_type": "stream",
     "text": [
      "Iteration: 100%|██████████| 62/62 [00:01<00:00, 31.53it/s]\n",
      "Iteration: 100%|██████████| 62/62 [00:01<00:00, 49.92it/s]\n",
      "Iteration:  47%|████▋     | 29/62 [00:01<00:01, 27.02it/s]"
     ]
    },
    {
     "name": "stdout",
     "output_type": "stream",
     "text": [
      "{'Train':  best_epoch_indx:75\n",
      " auc:0.92177338440716 \n",
      " apur:0.9006871686889755 \n",
      " f1:0.8109969862845192 \n",
      " precision:0.7845073774393146 \n",
      " recall:0.8393380012730745 \n",
      ", 'Validation':  best_epoch_indx:75\n",
      " auc:0.92177338440716 \n",
      " apur:0.9006871686889755 \n",
      " f1:0.8109969862845192 \n",
      " precision:0.7845073774393146 \n",
      " recall:0.8393380012730745 \n",
      ", 'Test':  best_epoch_indx:75\n",
      " auc:0.92177338440716 \n",
      " apur:0.9006871686889755 \n",
      " f1:0.8109969862845192 \n",
      " precision:0.7845073774393146 \n",
      " recall:0.8393380012730745 \n",
      "}\n",
      "=====Epoch 76\n",
      "Training...\n"
     ]
    },
    {
     "name": "stderr",
     "output_type": "stream",
     "text": [
      "Iteration: 100%|██████████| 62/62 [00:01<00:00, 34.57it/s]\n",
      "Iteration: 100%|██████████| 62/62 [00:02<00:00, 27.32it/s]\n",
      "Iteration: 100%|██████████| 62/62 [00:01<00:00, 37.42it/s]\n",
      "Iteration: 100%|██████████| 62/62 [00:02<00:00, 28.19it/s]\n",
      "Iteration: 100%|██████████| 62/62 [00:01<00:00, 35.28it/s]\n",
      "Iteration:   0%|          | 0/62 [00:00<?, ?it/s]"
     ]
    },
    {
     "name": "stdout",
     "output_type": "stream",
     "text": [
      "{'Train':  best_epoch_indx:74\n",
      " auc:0.9186773542201703 \n",
      " apur:0.8974369577409915 \n",
      " f1:0.8073618058227523 \n",
      " precision:0.8134125856053753 \n",
      " recall:0.8014003819223424 \n",
      ", 'Validation':  best_epoch_indx:74\n",
      " auc:0.9186773542201703 \n",
      " apur:0.8974369577409915 \n",
      " f1:0.8073618058227523 \n",
      " precision:0.8134125856053753 \n",
      " recall:0.8014003819223424 \n",
      ", 'Test':  best_epoch_indx:74\n",
      " auc:0.9186773542201703 \n",
      " apur:0.8974369577409915 \n",
      " f1:0.8073618058227523 \n",
      " precision:0.8134125856053753 \n",
      " recall:0.8014003819223424 \n",
      "}\n",
      "=====Epoch 75\n",
      "Training...\n",
      "Evaluating...\n"
     ]
    },
    {
     "name": "stderr",
     "output_type": "stream",
     "text": [
      "Iteration: 100%|██████████| 62/62 [00:01<00:00, 39.40it/s]\n",
      "Iteration:   8%|▊         | 5/62 [00:00<00:01, 41.96it/s]]"
     ]
    },
    {
     "name": "stdout",
     "output_type": "stream",
     "text": [
      "Evaluating...\n"
     ]
    },
    {
     "name": "stderr",
     "output_type": "stream",
     "text": [
      "Iteration: 100%|██████████| 62/62 [00:02<00:00, 28.37it/s]\n",
      "Iteration: 100%|██████████| 62/62 [00:02<00:00, 30.57it/s]\n",
      "Iteration: 100%|██████████| 62/62 [00:02<00:00, 27.22it/s]\n",
      "Iteration: 100%|██████████| 62/62 [00:01<00:00, 33.50it/s]\n",
      "Iteration: 100%|██████████| 62/62 [00:01<00:00, 47.72it/s]\n",
      "Iteration:  24%|██▍       | 15/62 [00:00<00:01, 29.58it/s]"
     ]
    },
    {
     "name": "stdout",
     "output_type": "stream",
     "text": [
      "{'Train':  best_epoch_indx:73\n",
      " auc:0.9236990911629694 \n",
      " apur:0.9067798718723306 \n",
      " f1:0.813417951042611 \n",
      " precision:0.7743383199079401 \n",
      " recall:0.8566518141311267 \n",
      ", 'Validation':  best_epoch_indx:73\n",
      " auc:0.9236990911629694 \n",
      " apur:0.9067798718723306 \n",
      " f1:0.813417951042611 \n",
      " precision:0.7743383199079401 \n",
      " recall:0.8566518141311267 \n",
      ", 'Test':  best_epoch_indx:73\n",
      " auc:0.9236990911629694 \n",
      " apur:0.9067798718723306 \n",
      " f1:0.813417951042611 \n",
      " precision:0.7743383199079401 \n",
      " recall:0.8566518141311267 \n",
      "}\n",
      "=====Epoch 74\n",
      "Training...\n"
     ]
    },
    {
     "name": "stderr",
     "output_type": "stream",
     "text": [
      "Iteration:  39%|███▊      | 24/62 [00:00<00:01, 33.78it/s]"
     ]
    },
    {
     "name": "stdout",
     "output_type": "stream",
     "text": [
      "{'Train':  best_epoch_indx:73\n",
      " auc:0.9239697091884141 \n",
      " apur:0.9050777897118322 \n",
      " f1:0.8182719722325523 \n",
      " precision:0.7973185167290736 \n",
      " recall:0.8403564608529599 \n",
      ", 'Validation':  best_epoch_indx:73\n",
      " auc:0.9239697091884141 \n",
      " apur:0.9050777897118322 \n",
      " f1:0.8182719722325523 \n",
      " precision:0.7973185167290736 \n",
      " recall:0.8403564608529599 \n",
      ", 'Test':  best_epoch_indx:73\n",
      " auc:0.9239697091884141 \n",
      " apur:0.9050777897118322 \n",
      " f1:0.8182719722325523 \n",
      " precision:0.7973185167290736 \n",
      " recall:0.8403564608529599 \n",
      "}\n",
      "=====Epoch 74\n",
      "Training...\n"
     ]
    },
    {
     "name": "stderr",
     "output_type": "stream",
     "text": [
      "Iteration: 100%|██████████| 62/62 [00:01<00:00, 36.27it/s]\n",
      "Iteration: 100%|██████████| 62/62 [00:01<00:00, 31.20it/s]\n",
      "Iteration: 100%|██████████| 62/62 [00:02<00:00, 28.18it/s]\n"
     ]
    },
    {
     "name": "stdout",
     "output_type": "stream",
     "text": [
      "Evaluating...\n"
     ]
    },
    {
     "name": "stderr",
     "output_type": "stream",
     "text": [
      "Iteration: 100%|██████████| 62/62 [00:01<00:00, 40.85it/s]\n",
      "Iteration: 100%|██████████| 62/62 [00:01<00:00, 37.75it/s]\n",
      "Iteration:   0%|          | 0/62 [00:00<?, ?it/s]"
     ]
    },
    {
     "name": "stdout",
     "output_type": "stream",
     "text": [
      "{'Train':  best_epoch_indx:79\n",
      " auc:0.9478405166045465 \n",
      " apur:0.9339062956485175 \n",
      " f1:0.8495145631067962 \n",
      " precision:0.8115942028985508 \n",
      " recall:0.8911521323997453 \n",
      ", 'Validation':  best_epoch_indx:79\n",
      " auc:0.9478405166045465 \n",
      " apur:0.9339062956485175 \n",
      " f1:0.8495145631067962 \n",
      " precision:0.8115942028985508 \n",
      " recall:0.8911521323997453 \n",
      ", 'Test':  best_epoch_indx:79\n",
      " auc:0.9478405166045465 \n",
      " apur:0.9339062956485175 \n",
      " f1:0.8495145631067962 \n",
      " precision:0.8115942028985508 \n",
      " recall:0.8911521323997453 \n",
      "}\n",
      "=====Epoch 80\n",
      "Training...\n",
      "Evaluating...\n"
     ]
    },
    {
     "name": "stderr",
     "output_type": "stream",
     "text": [
      "Iteration: 100%|██████████| 62/62 [00:01<00:00, 33.89it/s]\n",
      "Iteration: 100%|██████████| 62/62 [00:01<00:00, 45.41it/s]\n",
      "Iteration: 100%|██████████| 62/62 [00:01<00:00, 34.83it/s]\n",
      "Iteration: 100%|██████████| 62/62 [00:01<00:00, 33.44it/s]\n",
      "Iteration:  79%|███████▉  | 49/62 [00:01<00:00, 31.73it/s]"
     ]
    },
    {
     "name": "stdout",
     "output_type": "stream",
     "text": [
      "Evaluating...\n",
      "{'Train':  best_epoch_indx:75\n",
      " auc:0.9236603808862576 \n",
      " apur:0.9039585342604639 \n",
      " f1:0.8148423005565864 \n",
      " precision:0.792303066746843 \n",
      " recall:0.838701464035646 \n",
      ", 'Validation':  best_epoch_indx:75\n",
      " auc:0.9236603808862576 \n",
      " apur:0.9039585342604639 \n",
      " f1:0.8148423005565864 \n",
      " precision:0.792303066746843 \n",
      " recall:0.838701464035646 \n",
      ", 'Test':  best_epoch_indx:75\n",
      " auc:0.9236603808862576 \n",
      " apur:0.9039585342604639 \n",
      " f1:0.8148423005565864 \n",
      " precision:0.792303066746843 \n",
      " recall:0.838701464035646 \n",
      "}\n",
      "=====Epoch 76\n",
      "Training...\n"
     ]
    },
    {
     "name": "stderr",
     "output_type": "stream",
     "text": [
      "Iteration: 100%|██████████| 62/62 [00:01<00:00, 31.71it/s]\n",
      "Iteration:  76%|███████▌  | 47/62 [00:01<00:00, 40.39it/s]"
     ]
    },
    {
     "name": "stdout",
     "output_type": "stream",
     "text": [
      "{'Train':  best_epoch_indx:76\n",
      " auc:0.9350498958258281 \n",
      " apur:0.9167255921564564 \n",
      " f1:0.8306295399515738 \n",
      " precision:0.7918061165608771 \n",
      " recall:0.8734563971992362 \n",
      ", 'Validation':  best_epoch_indx:76\n",
      " auc:0.9350498958258281 \n",
      " apur:0.9167255921564564 \n",
      " f1:0.8306295399515738 \n",
      " precision:0.7918061165608771 \n",
      " recall:0.8734563971992362 \n",
      ", 'Test':  best_epoch_indx:76\n",
      " auc:0.9350498958258281 \n",
      " apur:0.9167255921568096 \n",
      " f1:0.8306295399515738 \n",
      " precision:0.7918061165608771 \n",
      " recall:0.8734563971992362 \n",
      "}\n",
      "=====Epoch 77\n",
      "Training...\n"
     ]
    },
    {
     "name": "stderr",
     "output_type": "stream",
     "text": [
      "Iteration: 100%|██████████| 62/62 [00:01<00:00, 40.25it/s]\n",
      "Iteration:  48%|████▊     | 30/62 [00:00<00:01, 30.55it/s]"
     ]
    },
    {
     "name": "stdout",
     "output_type": "stream",
     "text": [
      "Evaluating...\n"
     ]
    },
    {
     "name": "stderr",
     "output_type": "stream",
     "text": [
      "Iteration: 100%|██████████| 62/62 [00:01<00:00, 31.43it/s]\n",
      "Iteration: 100%|██████████| 62/62 [00:02<00:00, 28.37it/s]\n",
      "Iteration: 100%|██████████| 62/62 [00:01<00:00, 32.08it/s]\n",
      "Iteration: 100%|██████████| 62/62 [00:01<00:00, 32.75it/s]\n",
      "Iteration:  95%|█████████▌| 59/62 [00:01<00:00, 35.23it/s]"
     ]
    },
    {
     "name": "stdout",
     "output_type": "stream",
     "text": [
      "Evaluating...\n"
     ]
    },
    {
     "name": "stderr",
     "output_type": "stream",
     "text": [
      "Iteration: 100%|██████████| 62/62 [00:01<00:00, 36.14it/s]\n",
      "Iteration: 100%|██████████| 62/62 [00:02<00:00, 27.64it/s]\n",
      "Iteration: 100%|██████████| 62/62 [00:01<00:00, 32.94it/s]\n",
      "Iteration: 100%|██████████| 62/62 [00:02<00:00, 29.06it/s]\n",
      "Iteration: 100%|██████████| 62/62 [00:01<00:00, 32.55it/s]\n",
      "Iteration:   5%|▍         | 3/62 [00:00<00:02, 28.04it/s]]"
     ]
    },
    {
     "name": "stdout",
     "output_type": "stream",
     "text": [
      "{'Train':  best_epoch_indx:74\n",
      " auc:0.9183359106442245 \n",
      " apur:0.8981024366771152 \n",
      " f1:0.8059646987218503 \n",
      " precision:0.772128279883382 \n",
      " recall:0.8429026098026735 \n",
      ", 'Validation':  best_epoch_indx:74\n",
      " auc:0.9183359106442245 \n",
      " apur:0.8981024366771152 \n",
      " f1:0.8059646987218503 \n",
      " precision:0.772128279883382 \n",
      " recall:0.8429026098026735 \n",
      ", 'Test':  best_epoch_indx:74\n",
      " auc:0.9183359106442245 \n",
      " apur:0.8981024366771152 \n",
      " f1:0.8059646987218503 \n",
      " precision:0.772128279883382 \n",
      " recall:0.8429026098026735 \n",
      "}\n",
      "=====Epoch 75\n",
      "Training...\n"
     ]
    },
    {
     "name": "stderr",
     "output_type": "stream",
     "text": [
      "\r",
      "Iteration: 100%|██████████| 62/62 [00:01<00:00, 34.03it/s]\r",
      "Iteration: 100%|██████████| 62/62 [00:01<00:00, 31.71it/s]\n",
      "\r",
      "Iteration:  42%|████▏     | 26/62 [00:00<00:01, 27.68it/s]\r",
      "Iteration:  10%|▉         | 6/62 [00:00<00:02, 26.56it/s]\r",
      "Iteration:  13%|█▎        | 8/62 [00:00<00:01, 28.56it/s]\r",
      "Iteration:   0%|          | 0/62 [00:00<?, ?it/s]\r",
      "Iteration:  47%|████▋     | 29/62 [00:01<00:01, 27.10it/s]\r",
      "Iteration:  18%|█▊        | 11/62 [00:00<00:01, 28.62it/s]\r",
      "Iteration:  16%|█▌        | 10/62 [00:00<00:01, 30.07it/s]"
     ]
    },
    {
     "name": "stdout",
     "output_type": "stream",
     "text": [
      "{'Train':  best_epoch_indx:74\n",
      " auc:0.9125082753116154 \n",
      " apur:0.8917103017236352 \n",
      " f1:0.7984117287721443 \n",
      " precision:0.7674691720493247 \n",
      " recall:0.8319541693189052 \n",
      ", 'Validation':  best_epoch_indx:74\n",
      " auc:0.9125082753116154 \n",
      " apur:0.8917103017236352 \n",
      " f1:0.7984117287721443 \n",
      " precision:0.7674691720493247 \n",
      " recall:0.8319541693189052 \n",
      ", 'Test':  best_epoch_indx:74\n",
      " auc:0.9125082753116154 \n",
      " apur:0.8917103017236352 \n",
      " f1:0.7984117287721443 \n",
      " precision:0.7674691720493247 \n",
      " recall:0.8319541693189052 \n",
      "}\n",
      "=====Epoch 75\n",
      "Training...\n"
     ]
    },
    {
     "name": "stderr",
     "output_type": "stream",
     "text": [
      "Iteration: 100%|██████████| 62/62 [00:02<00:00, 29.28it/s]\n",
      "Iteration: 100%|██████████| 62/62 [00:01<00:00, 37.51it/s]\n",
      "Iteration:  29%|██▉       | 18/62 [00:00<00:01, 30.04it/s]"
     ]
    },
    {
     "name": "stdout",
     "output_type": "stream",
     "text": [
      "Evaluating...\n"
     ]
    },
    {
     "name": "stderr",
     "output_type": "stream",
     "text": [
      "\r",
      "Iteration:  94%|█████████▎| 58/62 [00:01<00:00, 38.60it/s]\r",
      "Iteration:   6%|▋         | 4/62 [00:00<00:01, 29.03it/s]\r",
      "Iteration:  95%|█████████▌| 59/62 [00:01<00:00, 28.41it/s]\r",
      "Iteration:  35%|███▌      | 22/62 [00:00<00:01, 30.56it/s]\r",
      "Iteration:  11%|█▏        | 7/62 [00:00<00:01, 29.29it/s]\r",
      "Iteration: 100%|██████████| 62/62 [00:01<00:00, 37.06it/s]\r",
      "Iteration: 100%|██████████| 62/62 [00:01<00:00, 39.04it/s]\n",
      "\r",
      "Iteration:   0%|          | 0/62 [00:00<?, ?it/s]\r",
      "Iteration:  42%|████▏     | 26/62 [00:00<00:01, 30.26it/s]"
     ]
    },
    {
     "name": "stdout",
     "output_type": "stream",
     "text": [
      "Evaluating...\n",
      "{'Train':  best_epoch_indx:80\n",
      " auc:0.9458861823302529 \n",
      " apur:0.9318202788476387 \n",
      " f1:0.848776825376963 \n",
      " precision:0.8345226377952756 \n",
      " recall:0.8635264162953533 \n",
      ", 'Validation':  best_epoch_indx:80\n",
      " auc:0.9458861823302529 \n",
      " apur:0.9318202713184532 \n",
      " f1:0.848776825376963 \n",
      " precision:0.8345226377952756 \n",
      " recall:0.8635264162953533 \n",
      ", 'Test':  best_epoch_indx:80\n",
      " auc:0.9458861823302529 \n",
      " apur:0.9318202713184532 \n",
      " f1:0.848776825376963 \n",
      " precision:0.8345226377952756 \n",
      " recall:0.8635264162953533 \n",
      "}\n",
      "=====Epoch 81\n",
      "Training...\n"
     ]
    },
    {
     "name": "stderr",
     "output_type": "stream",
     "text": [
      "Iteration: 100%|██████████| 62/62 [00:02<00:00, 26.25it/s]\n",
      "Iteration: 100%|██████████| 62/62 [00:02<00:00, 30.58it/s]\n",
      "Iteration: 100%|██████████| 62/62 [00:01<00:00, 39.39it/s]\n",
      "Iteration: 100%|██████████| 62/62 [00:02<00:00, 29.75it/s]\n",
      "Iteration:   6%|▋         | 4/62 [00:00<00:01, 32.71it/s]]"
     ]
    },
    {
     "name": "stdout",
     "output_type": "stream",
     "text": [
      "Evaluating...\n",
      "{'Train':  best_epoch_indx:76\n",
      " auc:0.9296331187526012 \n",
      " apur:0.9122787438768198 \n",
      " f1:0.8241120009781744 \n",
      " precision:0.7927546459656551 \n",
      " recall:0.8580521960534692 \n",
      ", 'Validation':  best_epoch_indx:76\n",
      " auc:0.9296331187526012 \n",
      " apur:0.9122787438768198 \n",
      " f1:0.8241120009781744 \n",
      " precision:0.7927546459656551 \n",
      " recall:0.8580521960534692 \n",
      ", 'Test':  best_epoch_indx:76\n",
      " auc:0.9296331187526015 \n",
      " apur:0.9122787438768197 \n",
      " f1:0.8241120009781744 \n",
      " precision:0.7927546459656551 \n",
      " recall:0.8580521960534692 \n",
      "}\n",
      "=====Epoch 77\n",
      "Training...\n"
     ]
    },
    {
     "name": "stderr",
     "output_type": "stream",
     "text": [
      "Iteration: 100%|██████████| 62/62 [00:02<00:00, 30.33it/s]\n",
      "Iteration: 100%|██████████| 62/62 [00:02<00:00, 30.25it/s]\n",
      "Iteration: 100%|██████████| 62/62 [00:01<00:00, 33.08it/s]\n",
      "Iteration:  53%|█████▎    | 33/62 [00:01<00:01, 24.29it/s]"
     ]
    },
    {
     "name": "stdout",
     "output_type": "stream",
     "text": [
      "Evaluating...\n"
     ]
    },
    {
     "name": "stderr",
     "output_type": "stream",
     "text": [
      "Iteration: 100%|██████████| 62/62 [00:02<00:00, 26.88it/s]\n",
      "Iteration:   0%|          | 0/62 [00:00<?, ?it/s]4.52it/s]"
     ]
    },
    {
     "name": "stdout",
     "output_type": "stream",
     "text": [
      "{'Train':  best_epoch_indx:77\n",
      " auc:0.9401174467770911 \n",
      " apur:0.9237031164150953 \n",
      " f1:0.8359073359073359 \n",
      " precision:0.7944043114321752 \n",
      " recall:0.8819859961807766 \n",
      ", 'Validation':  best_epoch_indx:77\n",
      " auc:0.940117446777091 \n",
      " apur:0.9237031164153529 \n",
      " f1:0.8359073359073359 \n",
      " precision:0.7944043114321752 \n",
      " recall:0.8819859961807766 \n",
      ", 'Test':  best_epoch_indx:77\n",
      " auc:0.9401174527316022 \n",
      " apur:0.9237031236770818 \n",
      " f1:0.8359073359073359 \n",
      " precision:0.7944043114321752 \n",
      " recall:0.8819859961807766 \n",
      "}\n",
      "=====Epoch 78\n",
      "Training...\n"
     ]
    },
    {
     "name": "stderr",
     "output_type": "stream",
     "text": [
      "Iteration: 100%|██████████| 62/62 [00:02<00:00, 24.42it/s]\n",
      "Iteration: 100%|██████████| 62/62 [00:02<00:00, 24.20it/s]\n",
      "Iteration: 100%|██████████| 62/62 [00:01<00:00, 32.66it/s]\n",
      "Iteration: 100%|██████████| 62/62 [00:01<00:00, 33.70it/s]\n",
      "Iteration: 100%|██████████| 62/62 [00:01<00:00, 31.62it/s]\n",
      "Iteration:  11%|█▏        | 7/62 [00:00<00:01, 28.75it/s]]"
     ]
    },
    {
     "name": "stdout",
     "output_type": "stream",
     "text": [
      "Evaluating...\n"
     ]
    },
    {
     "name": "stderr",
     "output_type": "stream",
     "text": [
      "Iteration: 100%|██████████| 62/62 [00:02<00:00, 24.02it/s]\n",
      "Iteration: 100%|██████████| 62/62 [00:01<00:00, 31.21it/s]\n",
      "Iteration: 100%|██████████| 62/62 [00:02<00:00, 25.04it/s]\n",
      "Iteration: 100%|██████████| 62/62 [00:02<00:00, 27.64it/s]\n",
      "Iteration:   0%|          | 0/62 [00:00<?, ?it/s].43it/s]]"
     ]
    },
    {
     "name": "stdout",
     "output_type": "stream",
     "text": [
      "{'Train':  best_epoch_indx:75\n",
      " auc:0.9265236313705082 \n",
      " apur:0.9072495678036772 \n",
      " f1:0.8206200787401574 \n",
      " precision:0.7939531008213307 \n",
      " recall:0.8491406747294716 \n",
      ", 'Validation':  best_epoch_indx:75\n",
      " auc:0.9265236373250192 \n",
      " apur:0.9072495724753042 \n",
      " f1:0.8206200787401574 \n",
      " precision:0.7939531008213307 \n",
      " recall:0.8491406747294716 \n",
      ", 'Test':  best_epoch_indx:75\n",
      " auc:0.9265236313705082 \n",
      " apur:0.9072495678036772 \n",
      " f1:0.8206200787401574 \n",
      " precision:0.7939531008213307 \n",
      " recall:0.8491406747294716 \n",
      "}\n",
      "=====Epoch 76\n",
      "Training...\n",
      "{'Train':  best_epoch_indx:75\n",
      " auc:0.9165193769879133 \n",
      " apur:0.8952302084832189 \n",
      " f1:0.8037502391734167 \n",
      " precision:0.8053425357873211 \n",
      " recall:0.8021642266072565 \n",
      ", 'Validation':  best_epoch_indx:75\n",
      " auc:0.9165193769879133 \n",
      " apur:0.8952302084832189 \n",
      " f1:0.8037502391734167 \n",
      " precision:0.8053425357873211 \n",
      " recall:0.8021642266072565 \n",
      ", 'Test':  best_epoch_indx:75\n",
      " auc:0.9165193769879133 \n",
      " apur:0.8952302084832189 \n",
      " f1:0.8037502391734167 \n",
      " precision:0.8053425357873211 \n",
      " recall:0.8021642266072565 \n",
      "}\n",
      "=====Epoch 76\n",
      "Training...\n"
     ]
    },
    {
     "name": "stderr",
     "output_type": "stream",
     "text": [
      "Iteration: 100%|██████████| 62/62 [00:01<00:00, 41.96it/s]\n",
      "Iteration: 100%|██████████| 62/62 [00:02<00:00, 26.80it/s]\n",
      "Iteration:   8%|▊         | 5/62 [00:00<00:01, 42.34it/s]]"
     ]
    },
    {
     "name": "stdout",
     "output_type": "stream",
     "text": [
      "Evaluating...\n"
     ]
    },
    {
     "name": "stderr",
     "output_type": "stream",
     "text": [
      "Iteration: 100%|██████████| 62/62 [00:01<00:00, 35.11it/s]\n",
      "Iteration:  40%|████      | 25/62 [00:00<00:00, 41.88it/s]"
     ]
    },
    {
     "name": "stdout",
     "output_type": "stream",
     "text": [
      "Evaluating...\n"
     ]
    },
    {
     "name": "stderr",
     "output_type": "stream",
     "text": [
      "\r",
      "Iteration:  44%|████▎     | 27/62 [00:01<00:01, 24.05it/s]\r",
      "Iteration:  10%|▉         | 6/62 [00:00<00:02, 24.90it/s]\r",
      "Iteration:  76%|███████▌  | 47/62 [00:01<00:00, 24.36it/s]\r",
      "Iteration:  48%|████▊     | 30/62 [00:00<00:00, 40.29it/s]\r",
      "Iteration:  48%|████▊     | 30/62 [00:01<00:01, 24.06it/s]\r",
      "Iteration:  15%|█▍        | 9/62 [00:00<00:02, 24.71it/s]\r",
      "Iteration:  81%|████████  | 50/62 [00:01<00:00, 24.34it/s]"
     ]
    },
    {
     "name": "stdout",
     "output_type": "stream",
     "text": [
      "{'Train':  best_epoch_indx:81\n",
      " auc:0.9460598738037682 \n",
      " apur:0.9317391705749807 \n",
      " f1:0.8445010924981792 \n",
      " precision:0.8069829486138499 \n",
      " recall:0.8856779121578612 \n",
      ", 'Validation':  best_epoch_indx:81\n",
      " auc:0.9460598738037682 \n",
      " apur:0.9317391705749807 \n",
      " f1:0.8445010924981792 \n",
      " precision:0.8069829486138499 \n",
      " recall:0.8856779121578612 \n",
      ", 'Test':  best_epoch_indx:81\n",
      " auc:0.9460598738037682 \n",
      " apur:0.9317391705749807 \n",
      " f1:0.8445010924981792 \n",
      " precision:0.8069829486138499 \n",
      " recall:0.8856779121578612 \n",
      "}\n",
      "=====Epoch 82\n",
      "Training...\n"
     ]
    },
    {
     "name": "stderr",
     "output_type": "stream",
     "text": [
      "Iteration: 100%|██████████| 62/62 [00:02<00:00, 25.42it/s]\n",
      "Iteration: 100%|██████████| 62/62 [00:02<00:00, 25.13it/s]\n",
      "Iteration: 100%|██████████| 62/62 [00:01<00:00, 31.11it/s]\n",
      "Iteration: 100%|██████████| 62/62 [00:01<00:00, 38.53it/s]\n",
      "Iteration:   6%|▋         | 4/62 [00:00<00:01, 32.72it/s]]"
     ]
    },
    {
     "name": "stdout",
     "output_type": "stream",
     "text": [
      "Evaluating...\n",
      "{'Train':  best_epoch_indx:77\n",
      " auc:0.9344134895876443 \n",
      " apur:0.9169161076465793 \n",
      " f1:0.8288887494509632 \n",
      " precision:0.8172482058896313 \n",
      " recall:0.8408656906429026 \n",
      ", 'Validation':  best_epoch_indx:77\n",
      " auc:0.9344134895876443 \n",
      " apur:0.9169161076465793 \n",
      " f1:0.8288887494509632 \n",
      " precision:0.8172482058896313 \n",
      " recall:0.8408656906429026 \n",
      ", 'Test':  best_epoch_indx:77\n",
      " auc:0.9344134895876443 \n",
      " apur:0.9169161076465793 \n",
      " f1:0.8288887494509632 \n",
      " precision:0.8172482058896313 \n",
      " recall:0.8408656906429026 \n",
      "}\n",
      "=====Epoch 78\n",
      "Training...\n"
     ]
    },
    {
     "name": "stderr",
     "output_type": "stream",
     "text": [
      "Iteration: 100%|██████████| 62/62 [00:02<00:00, 26.12it/s]\n",
      "Iteration: 100%|██████████| 62/62 [00:01<00:00, 36.74it/s]\n",
      "Iteration: 100%|██████████| 62/62 [00:01<00:00, 33.50it/s]\n",
      "Iteration: 100%|██████████| 62/62 [00:02<00:00, 28.66it/s]\n"
     ]
    },
    {
     "name": "stdout",
     "output_type": "stream",
     "text": [
      "Evaluating...\n"
     ]
    },
    {
     "name": "stderr",
     "output_type": "stream",
     "text": [
      "Iteration: 100%|██████████| 62/62 [00:02<00:00, 24.69it/s]\n",
      "Iteration:   0%|          | 0/62 [00:00<?, ?it/s]0.40it/s]"
     ]
    },
    {
     "name": "stdout",
     "output_type": "stream",
     "text": [
      "{'Train':  best_epoch_indx:78\n",
      " auc:0.9430608509353644 \n",
      " apur:0.9279066909094891 \n",
      " f1:0.8421438611501558 \n",
      " precision:0.809826046074283 \n",
      " recall:0.8771483131763208 \n",
      ", 'Validation':  best_epoch_indx:78\n",
      " auc:0.9430608509353644 \n",
      " apur:0.9279066909094891 \n",
      " f1:0.8421438611501558 \n",
      " precision:0.809826046074283 \n",
      " recall:0.8771483131763208 \n",
      ", 'Test':  best_epoch_indx:78\n",
      " auc:0.9430608568898753 \n",
      " apur:0.9279066973261454 \n",
      " f1:0.8421438611501558 \n",
      " precision:0.809826046074283 \n",
      " recall:0.8771483131763208 \n",
      "}\n",
      "=====Epoch 79\n",
      "Training...\n"
     ]
    },
    {
     "name": "stderr",
     "output_type": "stream",
     "text": [
      "Iteration: 100%|██████████| 62/62 [00:02<00:00, 26.60it/s]\n",
      "Iteration: 100%|██████████| 62/62 [00:01<00:00, 36.76it/s]\n",
      "Iteration: 100%|██████████| 62/62 [00:02<00:00, 27.27it/s]\n",
      "Iteration: 100%|██████████| 62/62 [00:02<00:00, 30.61it/s]\n",
      "Iteration: 100%|██████████| 62/62 [00:02<00:00, 30.78it/s]\n",
      "Iteration:  29%|██▉       | 18/62 [00:00<00:01, 25.30it/s]"
     ]
    },
    {
     "name": "stdout",
     "output_type": "stream",
     "text": [
      "Evaluating...\n"
     ]
    },
    {
     "name": "stderr",
     "output_type": "stream",
     "text": [
      "Iteration:  48%|████▊     | 30/62 [00:01<00:01, 24.94it/s]"
     ]
    },
    {
     "name": "stdout",
     "output_type": "stream",
     "text": [
      "{'Train':  best_epoch_indx:76\n",
      " auc:0.9259921495725555 \n",
      " apur:0.9069284015846348 \n",
      " f1:0.8184115523465704 \n",
      " precision:0.7759269823160296 \n",
      " recall:0.8658179503500955 \n",
      ", 'Validation':  best_epoch_indx:76\n",
      " auc:0.9259921495725555 \n",
      " apur:0.9069284015846348 \n",
      " f1:0.8184115523465704 \n",
      " precision:0.7759269823160296 \n",
      " recall:0.8658179503500955 \n",
      ", 'Test':  best_epoch_indx:76\n",
      " auc:0.9259921495725555 \n",
      " apur:0.9069284015846348 \n",
      " f1:0.8184115523465704 \n",
      " precision:0.7759269823160296 \n",
      " recall:0.8658179503500955 \n",
      "}\n",
      "=====Epoch 77\n",
      "Training...\n"
     ]
    },
    {
     "name": "stderr",
     "output_type": "stream",
     "text": [
      "Iteration: 100%|██████████| 62/62 [00:02<00:00, 29.11it/s]\n",
      "Iteration: 100%|██████████| 62/62 [00:02<00:00, 26.54it/s]\n",
      "Iteration: 100%|██████████| 62/62 [00:02<00:00, 27.46it/s]\n",
      "Iteration: 100%|██████████| 62/62 [00:01<00:00, 34.93it/s]\n",
      "Iteration:   0%|          | 0/62 [00:00<?, ?it/s].51it/s]]"
     ]
    },
    {
     "name": "stdout",
     "output_type": "stream",
     "text": [
      "{'Train':  best_epoch_indx:76\n",
      " auc:0.927383600897524 \n",
      " apur:0.9089373135458424 \n",
      " f1:0.81891299049476 \n",
      " precision:0.7853219586303611 \n",
      " recall:0.8555060471037556 \n",
      ", 'Validation':  best_epoch_indx:76\n",
      " auc:0.927383600897524 \n",
      " apur:0.9089373135458424 \n",
      " f1:0.81891299049476 \n",
      " precision:0.7853219586303611 \n",
      " recall:0.8555060471037556 \n",
      ", 'Test':  best_epoch_indx:76\n",
      " auc:0.927383600897524 \n",
      " apur:0.9089373135458424 \n",
      " f1:0.81891299049476 \n",
      " precision:0.7853219586303611 \n",
      " recall:0.8555060471037556 \n",
      "}\n",
      "=====Epoch 77\n",
      "Training...\n",
      "{'Train':  best_epoch_indx:82\n",
      " auc:0.9414928248276797 \n",
      " apur:0.926488373207115 \n",
      " f1:0.8385466034755134 \n",
      " precision:0.8324968632371392 \n",
      " recall:0.8446849140674729 \n",
      ", 'Validation':  best_epoch_indx:82\n",
      " auc:0.9414928248276797 \n",
      " apur:0.9264883732068767 \n",
      " f1:0.8385466034755134 \n",
      " precision:0.8324968632371392 \n",
      " recall:0.8446849140674729 \n",
      ", 'Test':  best_epoch_indx:82\n",
      " auc:0.9414928248276797 \n",
      " apur:0.926488373207115 \n",
      " f1:0.8385466034755134 \n",
      " precision:0.8324968632371392 \n",
      " recall:0.8446849140674729 \n",
      "}\n",
      "=====Epoch 83\n",
      "Training...\n"
     ]
    },
    {
     "name": "stderr",
     "output_type": "stream",
     "text": [
      "\r",
      "Iteration:   5%|▍         | 3/62 [00:00<00:02, 24.01it/s]\r",
      "Iteration: 100%|██████████| 62/62 [00:01<00:00, 31.12it/s]\n",
      "\r",
      "Iteration:   0%|          | 0/62 [00:00<?, ?it/s]\r",
      "Iteration:   3%|▎         | 2/62 [00:00<00:04, 13.17it/s]\r",
      "Iteration:  13%|█▎        | 8/62 [00:00<00:02, 25.39it/s]\r",
      "Iteration:   3%|▎         | 2/62 [00:00<00:03, 17.50it/s]\r",
      "Iteration:  10%|▉         | 6/62 [00:00<00:02, 26.98it/s]\r",
      "Iteration:   8%|▊         | 5/62 [00:00<00:03, 17.95it/s]\r",
      "Iteration:  21%|██        | 13/62 [00:00<00:01, 32.32it/s]\r",
      "Iteration:   5%|▍         | 3/62 [00:00<00:03, 17.69it/s]"
     ]
    },
    {
     "name": "stdout",
     "output_type": "stream",
     "text": [
      "Evaluating...\n"
     ]
    },
    {
     "name": "stderr",
     "output_type": "stream",
     "text": [
      "Iteration:  37%|███▋      | 23/62 [00:01<00:02, 18.25it/s]"
     ]
    },
    {
     "name": "stdout",
     "output_type": "stream",
     "text": [
      "Evaluating...\n"
     ]
    },
    {
     "name": "stderr",
     "output_type": "stream",
     "text": [
      "Iteration: 100%|██████████| 62/62 [00:01<00:00, 40.22it/s]\n",
      "Iteration: 100%|██████████| 62/62 [00:01<00:00, 34.11it/s]\n",
      "Iteration:  52%|█████▏    | 32/62 [00:01<00:01, 19.58it/s]"
     ]
    },
    {
     "name": "stdout",
     "output_type": "stream",
     "text": [
      "Evaluating...\n"
     ]
    },
    {
     "name": "stderr",
     "output_type": "stream",
     "text": [
      "Iteration: 100%|██████████| 62/62 [00:02<00:00, 30.17it/s]\n",
      "Iteration: 100%|██████████| 62/62 [00:03<00:00, 20.44it/s]\n",
      "Iteration: 100%|██████████| 62/62 [00:03<00:00, 20.47it/s]\n",
      "Iteration: 100%|██████████| 62/62 [00:01<00:00, 33.16it/s]\n",
      "Iteration:  26%|██▌       | 16/62 [00:00<00:00, 67.34it/s]\n",
      "Iteration: 100%|██████████| 62/62 [00:01<00:00, 55.00it/s]\n",
      "Iteration:   5%|▍         | 3/62 [00:00<00:01, 29.55it/s]]"
     ]
    },
    {
     "name": "stdout",
     "output_type": "stream",
     "text": [
      "{'Train':  best_epoch_indx:78\n",
      " auc:0.9404498275871308 \n",
      " apur:0.9240549596545129 \n",
      " f1:0.8388874968679529 \n",
      " precision:0.8257491675915649 \n",
      " recall:0.8524506683640993 \n",
      ", 'Validation':  best_epoch_indx:78\n",
      " auc:0.9404498275871308 \n",
      " apur:0.9240549596545129 \n",
      " f1:0.8388874968679529 \n",
      " precision:0.8257491675915649 \n",
      " recall:0.8524506683640993 \n",
      ", 'Test':  best_epoch_indx:78\n",
      " auc:0.9404498275871308 \n",
      " apur:0.9240549596545129 \n",
      " f1:0.8388874968679529 \n",
      " precision:0.8257491675915649 \n",
      " recall:0.8524506683640993 \n",
      "}\n",
      "=====Epoch 79\n",
      "Training...\n"
     ]
    },
    {
     "name": "stderr",
     "output_type": "stream",
     "text": [
      "Iteration:  18%|█▊        | 11/62 [00:00<00:02, 21.03it/s]"
     ]
    },
    {
     "name": "stdout",
     "output_type": "stream",
     "text": [
      "{'Train':  best_epoch_indx:79\n",
      " auc:0.9504975410846379 \n",
      " apur:0.9362888530446158 \n",
      " f1:0.8560867422375553 \n",
      " precision:0.829413871314313 \n",
      " recall:0.8845321451304902 \n",
      ", 'Validation':  best_epoch_indx:79\n",
      " auc:0.9504975410846379 \n",
      " apur:0.9362888530446158 \n",
      " f1:0.8560867422375553 \n",
      " precision:0.829413871314313 \n",
      " recall:0.8845321451304902 \n",
      ", 'Test':  best_epoch_indx:79\n",
      " auc:0.9504975410846379 \n",
      " apur:0.9362888530446158 \n",
      " f1:0.8560867422375553 \n",
      " precision:0.829413871314313 \n",
      " recall:0.8845321451304902 \n",
      "}\n",
      "=====Epoch 80\n",
      "Training...\n"
     ]
    },
    {
     "name": "stderr",
     "output_type": "stream",
     "text": [
      "Iteration: 100%|██████████| 62/62 [00:01<00:00, 34.02it/s]\n",
      "Iteration: 100%|██████████| 62/62 [00:01<00:00, 40.85it/s]\n",
      "Iteration:   0%|          | 0/62 [00:00<?, ?it/s]"
     ]
    },
    {
     "name": "stdout",
     "output_type": "stream",
     "text": [
      "Evaluating...\n"
     ]
    },
    {
     "name": "stderr",
     "output_type": "stream",
     "text": [
      "Iteration: 100%|██████████| 62/62 [00:01<00:00, 31.01it/s]\n",
      "Iteration: 100%|██████████| 62/62 [00:02<00:00, 24.59it/s]\n",
      "Iteration:  19%|█▉        | 12/62 [00:00<00:01, 30.73it/s]"
     ]
    },
    {
     "name": "stdout",
     "output_type": "stream",
     "text": [
      "Evaluating...\n"
     ]
    },
    {
     "name": "stderr",
     "output_type": "stream",
     "text": [
      "Iteration: 100%|██████████| 62/62 [00:03<00:00, 20.52it/s]\n",
      "Iteration: 100%|██████████| 62/62 [00:01<00:00, 35.73it/s]\n",
      "Iteration: 100%|██████████| 62/62 [00:02<00:00, 26.30it/s]\n",
      "Iteration: 100%|██████████| 62/62 [00:01<00:00, 34.67it/s]\n",
      "Iteration:  82%|████████▏ | 51/62 [00:01<00:00, 27.94it/s]"
     ]
    },
    {
     "name": "stdout",
     "output_type": "stream",
     "text": [
      "{'Train':  best_epoch_indx:77\n",
      " auc:0.9360742070573633 \n",
      " apur:0.9188290796674092 \n",
      " f1:0.8299919309788343 \n",
      " precision:0.8098352713178295 \n",
      " recall:0.8511775938892425 \n",
      ", 'Validation':  best_epoch_indx:77\n",
      " auc:0.9360742070573633 \n",
      " apur:0.9188290796674092 \n",
      " f1:0.8299919309788343 \n",
      " precision:0.8098352713178295 \n",
      " recall:0.8511775938892425 \n",
      ", 'Test':  best_epoch_indx:77\n",
      " auc:0.9360742070573633 \n",
      " apur:0.9188290796674092 \n",
      " f1:0.8299919309788343 \n",
      " precision:0.8098352713178295 \n",
      " recall:0.8511775938892425 \n",
      "}\n",
      "=====Epoch 78\n",
      "Training...\n"
     ]
    },
    {
     "name": "stderr",
     "output_type": "stream",
     "text": [
      "Iteration: 100%|██████████| 62/62 [00:01<00:00, 31.38it/s]\n",
      "Iteration: 100%|██████████| 62/62 [00:01<00:00, 39.56it/s]\n",
      "Iteration:   0%|          | 0/62 [00:00<?, ?it/s]"
     ]
    },
    {
     "name": "stdout",
     "output_type": "stream",
     "text": [
      "Evaluating...\n",
      "{'Train':  best_epoch_indx:83\n",
      " auc:0.9307604401724372 \n",
      " apur:0.9128807390501594 \n",
      " f1:0.826611175714548 \n",
      " precision:0.795968882602546 \n",
      " recall:0.8597071928707829 \n",
      ", 'Validation':  best_epoch_indx:83\n",
      " auc:0.9307604401724373 \n",
      " apur:0.9128807390501594 \n",
      " f1:0.826611175714548 \n",
      " precision:0.795968882602546 \n",
      " recall:0.8597071928707829 \n",
      ", 'Test':  best_epoch_indx:83\n",
      " auc:0.9307604401724373 \n",
      " apur:0.9128807390501594 \n",
      " f1:0.826611175714548 \n",
      " precision:0.795968882602546 \n",
      " recall:0.8597071928707829 \n",
      "}\n",
      "=====Epoch 84\n",
      "Training...\n"
     ]
    },
    {
     "name": "stderr",
     "output_type": "stream",
     "text": [
      "Iteration: 100%|██████████| 62/62 [00:02<00:00, 24.11it/s]\n",
      "Iteration: 100%|██████████| 62/62 [00:01<00:00, 32.30it/s]\n",
      "Iteration: 100%|██████████| 62/62 [00:02<00:00, 27.46it/s]\n",
      "Iteration:  79%|███████▉  | 49/62 [00:01<00:00, 41.24it/s]"
     ]
    },
    {
     "name": "stdout",
     "output_type": "stream",
     "text": [
      "{'Train':  best_epoch_indx:77\n",
      " auc:0.9361115077477121 \n",
      " apur:0.9195045417513031 \n",
      " f1:0.8315164728682171 \n",
      " precision:0.7929998844865427 \n",
      " recall:0.8739656269891789 \n",
      ", 'Validation':  best_epoch_indx:77\n",
      " auc:0.9361115077477121 \n",
      " apur:0.9195045417513031 \n",
      " f1:0.8315164728682171 \n",
      " precision:0.7929998844865427 \n",
      " recall:0.8739656269891789 \n",
      ", 'Test':  best_epoch_indx:77\n",
      " auc:0.9361115077477121 \n",
      " apur:0.9195045417513031 \n",
      " f1:0.8315164728682171 \n",
      " precision:0.7929998844865427 \n",
      " recall:0.8739656269891789 \n",
      "}\n",
      "=====Epoch 78\n",
      "Training...\n"
     ]
    },
    {
     "name": "stderr",
     "output_type": "stream",
     "text": [
      "Iteration: 100%|██████████| 62/62 [00:01<00:00, 37.52it/s]\n",
      "Iteration: 100%|██████████| 62/62 [00:01<00:00, 31.16it/s]\n",
      "Iteration:  52%|█████▏    | 32/62 [00:01<00:00, 33.17it/s]"
     ]
    },
    {
     "name": "stdout",
     "output_type": "stream",
     "text": [
      "Evaluating...\n"
     ]
    },
    {
     "name": "stderr",
     "output_type": "stream",
     "text": [
      "Iteration: 100%|██████████| 62/62 [00:02<00:00, 30.35it/s]\n",
      "Iteration:  52%|█████▏    | 32/62 [00:01<00:00, 31.01it/s]"
     ]
    },
    {
     "name": "stdout",
     "output_type": "stream",
     "text": [
      "Evaluating...\n"
     ]
    },
    {
     "name": "stderr",
     "output_type": "stream",
     "text": [
      "Iteration: 100%|██████████| 62/62 [00:02<00:00, 26.25it/s]\n",
      "Iteration: 100%|██████████| 62/62 [00:02<00:00, 28.06it/s]\n",
      "Iteration: 100%|██████████| 62/62 [00:01<00:00, 33.15it/s]\n",
      "Iteration:  39%|███▊      | 24/62 [00:01<00:01, 24.44it/s]"
     ]
    },
    {
     "name": "stdout",
     "output_type": "stream",
     "text": [
      "{'Train':  best_epoch_indx:80\n",
      " auc:0.9483400907110222 \n",
      " apur:0.9345684072036169 \n",
      " f1:0.8516289171579273 \n",
      " precision:0.8307506053268765 \n",
      " recall:0.8735837046467219 \n",
      ", 'Validation':  best_epoch_indx:80\n",
      " auc:0.9483400907110222 \n",
      " apur:0.9345684072036168 \n",
      " f1:0.8516289171579273 \n",
      " precision:0.8307506053268765 \n",
      " recall:0.8735837046467219 \n",
      ", 'Test':  best_epoch_indx:80\n",
      " auc:0.9483400907110222 \n",
      " apur:0.9345684072036169 \n",
      " f1:0.8516289171579273 \n",
      " precision:0.8307506053268765 \n",
      " recall:0.8735837046467219 \n",
      "}\n",
      "=====Epoch 81\n",
      "Training...\n"
     ]
    },
    {
     "name": "stderr",
     "output_type": "stream",
     "text": [
      "\r",
      "Iteration:   6%|▋         | 4/62 [00:00<00:01, 37.81it/s]\r",
      "Iteration:  82%|████████▏ | 51/62 [00:02<00:00, 22.71it/s]\r",
      "Iteration:  44%|████▎     | 27/62 [00:01<00:01, 24.38it/s]\r",
      "Iteration:  15%|█▍        | 9/62 [00:00<00:01, 40.92it/s]\r",
      "Iteration:   0%|          | 0/62 [00:00<?, ?it/s]\r",
      "Iteration:  87%|████████▋ | 54/62 [00:02<00:00, 23.41it/s]\r",
      "Iteration:  48%|████▊     | 30/62 [00:01<00:01, 25.22it/s]"
     ]
    },
    {
     "name": "stdout",
     "output_type": "stream",
     "text": [
      "{'Train':  best_epoch_indx:79\n",
      " auc:0.946649116737595 \n",
      " apur:0.932279094166896 \n",
      " f1:0.8513847675568744 \n",
      " precision:0.827544766254056 \n",
      " recall:0.8766390833863781 \n",
      ", 'Validation':  best_epoch_indx:79\n",
      " auc:0.946649116737595 \n",
      " apur:0.932279094166896 \n",
      " f1:0.8513847675568744 \n",
      " precision:0.827544766254056 \n",
      " recall:0.8766390833863781 \n",
      ", 'Test':  best_epoch_indx:79\n",
      " auc:0.946649116737595 \n",
      " apur:0.932279094166896 \n",
      " f1:0.8513847675568744 \n",
      " precision:0.827544766254056 \n",
      " recall:0.8766390833863781 \n",
      "}\n",
      "=====Epoch 80\n",
      "Training...\n"
     ]
    },
    {
     "name": "stderr",
     "output_type": "stream",
     "text": [
      "Iteration: 100%|██████████| 62/62 [00:02<00:00, 23.95it/s]\n",
      "Iteration: 100%|██████████| 62/62 [00:02<00:00, 27.36it/s]\n",
      "Iteration: 100%|██████████| 62/62 [00:01<00:00, 41.09it/s]\n",
      "Iteration:   6%|▋         | 4/62 [00:00<00:01, 35.80it/s]]"
     ]
    },
    {
     "name": "stdout",
     "output_type": "stream",
     "text": [
      "Evaluating...\n"
     ]
    },
    {
     "name": "stderr",
     "output_type": "stream",
     "text": [
      "Iteration: 100%|██████████| 62/62 [00:01<00:00, 36.56it/s]\n",
      "Iteration:   5%|▍         | 3/62 [00:00<00:02, 24.18it/s]]"
     ]
    },
    {
     "name": "stdout",
     "output_type": "stream",
     "text": [
      "Evaluating...\n"
     ]
    },
    {
     "name": "stderr",
     "output_type": "stream",
     "text": [
      "Iteration: 100%|██████████| 62/62 [00:01<00:00, 33.83it/s]\n",
      "Iteration: 100%|██████████| 62/62 [00:01<00:00, 33.78it/s]\n",
      "Iteration:  68%|██████▊   | 42/62 [00:01<00:00, 27.37it/s]"
     ]
    },
    {
     "name": "stdout",
     "output_type": "stream",
     "text": [
      "{'Train':  best_epoch_indx:78\n",
      " auc:0.9399798802066575 \n",
      " apur:0.9246051366409054 \n",
      " f1:0.8361875945537065 \n",
      " precision:0.7968858131487889 \n",
      " recall:0.8795671546785487 \n",
      ", 'Validation':  best_epoch_indx:78\n",
      " auc:0.9399798802066575 \n",
      " apur:0.9246051366409054 \n",
      " f1:0.8361875945537065 \n",
      " precision:0.7968858131487889 \n",
      " recall:0.8795671546785487 \n",
      ", 'Test':  best_epoch_indx:78\n",
      " auc:0.9399798802066575 \n",
      " apur:0.9246051366409054 \n",
      " f1:0.8361875945537065 \n",
      " precision:0.7968858131487889 \n",
      " recall:0.8795671546785487 \n",
      "}\n",
      "=====Epoch 79\n",
      "Training...\n"
     ]
    },
    {
     "name": "stderr",
     "output_type": "stream",
     "text": [
      "Iteration: 100%|██████████| 62/62 [00:02<00:00, 26.85it/s]\n",
      "Iteration: 100%|██████████| 62/62 [00:02<00:00, 21.93it/s]\n",
      "Iteration: 100%|██████████| 62/62 [00:02<00:00, 24.84it/s]\n",
      "Iteration: 100%|██████████| 62/62 [00:01<00:00, 46.97it/s]\n",
      "Iteration: 100%|██████████| 62/62 [00:01<00:00, 31.34it/s]\n",
      "Iteration:  15%|█▍        | 9/62 [00:00<00:06,  8.73it/s]"
     ]
    },
    {
     "name": "stdout",
     "output_type": "stream",
     "text": [
      "Evaluating...\n"
     ]
    },
    {
     "name": "stderr",
     "output_type": "stream",
     "text": [
      "Iteration: 100%|██████████| 62/62 [00:01<00:00, 32.27it/s]\n",
      "Iteration: 100%|██████████| 62/62 [00:02<00:00, 20.70it/s]\n",
      "Iteration: 100%|██████████| 62/62 [00:02<00:00, 26.09it/s]\n",
      "Iteration: 100%|██████████| 62/62 [00:02<00:00, 23.44it/s]\n",
      "Iteration: 100%|██████████| 62/62 [00:02<00:00, 22.18it/s]\n",
      "Iteration:   0%|          | 0/62 [00:00<?, ?it/s].66it/s]"
     ]
    },
    {
     "name": "stdout",
     "output_type": "stream",
     "text": [
      "{'Train':  best_epoch_indx:84\n",
      " auc:0.9298465515897381 \n",
      " apur:0.9126021605626959 \n",
      " f1:0.8238036809815952 \n",
      " precision:0.7950266429840143 \n",
      " recall:0.8547422024188415 \n",
      ", 'Validation':  best_epoch_indx:84\n",
      " auc:0.9298465515897381 \n",
      " apur:0.9126021605626959 \n",
      " f1:0.8238036809815952 \n",
      " precision:0.7950266429840143 \n",
      " recall:0.8547422024188415 \n",
      ", 'Test':  best_epoch_indx:84\n",
      " auc:0.9298465515897381 \n",
      " apur:0.9126021605626959 \n",
      " f1:0.8238036809815952 \n",
      " precision:0.7950266429840143 \n",
      " recall:0.8547422024188415 \n",
      "}\n",
      "=====Epoch 85\n",
      "Training...\n"
     ]
    },
    {
     "name": "stderr",
     "output_type": "stream",
     "text": [
      "Iteration:   0%|          | 0/62 [00:00<?, ?it/s]1.79it/s]"
     ]
    },
    {
     "name": "stdout",
     "output_type": "stream",
     "text": [
      "{'Train':  best_epoch_indx:78\n",
      " auc:0.9411556812883658 \n",
      " apur:0.9263630166115756 \n",
      " f1:0.8380595568761708 \n",
      " precision:0.8506425386834513 \n",
      " recall:0.8258434118395926 \n",
      ", 'Validation':  best_epoch_indx:78\n",
      " auc:0.9411556812883658 \n",
      " apur:0.9263630166115756 \n",
      " f1:0.8380595568761708 \n",
      " precision:0.8506425386834513 \n",
      " recall:0.8258434118395926 \n",
      ", 'Test':  best_epoch_indx:78\n",
      " auc:0.9411556812883658 \n",
      " apur:0.9263630166115756 \n",
      " f1:0.8380595568761708 \n",
      " precision:0.8506425386834513 \n",
      " recall:0.8258434118395926 \n",
      "}\n",
      "=====Epoch 79\n",
      "Training...\n"
     ]
    },
    {
     "name": "stderr",
     "output_type": "stream",
     "text": [
      "Iteration: 100%|██████████| 62/62 [00:01<00:00, 38.35it/s]\n"
     ]
    },
    {
     "name": "stdout",
     "output_type": "stream",
     "text": [
      "{'Train':  best_epoch_indx:81\n",
      " auc:0.9475037081717924 \n",
      " apur:0.9320297358775752 \n",
      " f1:0.8501517685684198 \n",
      " precision:0.8279440154440154 \n",
      " recall:0.8735837046467219 \n",
      ", 'Validation':  best_epoch_indx:81\n",
      " auc:0.9475037081717924 \n",
      " apur:0.9320297358775752 \n",
      " f1:0.8501517685684198 \n",
      " precision:0.8279440154440154 \n",
      " recall:0.8735837046467219 \n",
      ", 'Test':  best_epoch_indx:81\n",
      " auc:0.9475037081717924 \n",
      " apur:0.9320297358775752 \n",
      " f1:0.8501517685684198 \n",
      " precision:0.8279440154440154 \n",
      " recall:0.8735837046467219 \n",
      "}\n",
      "=====Epoch 82\n",
      "Training...\n"
     ]
    },
    {
     "name": "stderr",
     "output_type": "stream",
     "text": [
      "Iteration: 100%|██████████| 62/62 [00:01<00:00, 36.97it/s]\n",
      "Iteration:  74%|███████▍  | 46/62 [00:01<00:00, 31.96it/s]"
     ]
    },
    {
     "name": "stdout",
     "output_type": "stream",
     "text": [
      "Evaluating...\n"
     ]
    },
    {
     "name": "stderr",
     "output_type": "stream",
     "text": [
      "Iteration: 100%|██████████| 62/62 [00:02<00:00, 30.16it/s]\n",
      "Iteration: 100%|██████████| 62/62 [00:01<00:00, 35.51it/s]\n",
      "Iteration:   0%|          | 0/62 [00:00<?, ?it/s]"
     ]
    },
    {
     "name": "stdout",
     "output_type": "stream",
     "text": [
      "Evaluating...\n",
      "{'Train':  best_epoch_indx:80\n",
      " auc:0.9473691362207551 \n",
      " apur:0.9324364464424834 \n",
      " f1:0.8503226614873755 \n",
      " precision:0.8371576609918578 \n",
      " recall:0.8639083386378104 \n",
      ", 'Validation':  best_epoch_indx:80\n",
      " auc:0.9473691362207551 \n",
      " apur:0.9324364464424834 \n",
      " f1:0.8503226614873755 \n",
      " precision:0.8371576609918578 \n",
      " recall:0.8639083386378104 \n",
      ", 'Test':  best_epoch_indx:80\n",
      " auc:0.9473691362207551 \n",
      " apur:0.9324364464424834 \n",
      " f1:0.8503226614873755 \n",
      " precision:0.8371576609918578 \n",
      " recall:0.8639083386378104 \n",
      "}\n",
      "=====Epoch 81\n",
      "Training...\n",
      "Evaluating...\n"
     ]
    },
    {
     "name": "stderr",
     "output_type": "stream",
     "text": [
      "Iteration: 100%|██████████| 62/62 [00:02<00:00, 27.93it/s]\n",
      "Iteration: 100%|██████████| 62/62 [00:01<00:00, 32.47it/s]\n",
      "Iteration: 100%|██████████| 62/62 [00:01<00:00, 34.24it/s]\n",
      "Iteration:  89%|████████▊ | 55/62 [00:01<00:00, 40.51it/s]"
     ]
    },
    {
     "name": "stdout",
     "output_type": "stream",
     "text": [
      "{'Train':  best_epoch_indx:79\n",
      " auc:0.9474576652714537 \n",
      " apur:0.9330445953920293 \n",
      " f1:0.8492034086698778 \n",
      " precision:0.8245592996762202 \n",
      " recall:0.8753660089115213 \n",
      ", 'Validation':  best_epoch_indx:79\n",
      " auc:0.9474576652714537 \n",
      " apur:0.9330445953920293 \n",
      " f1:0.8492034086698778 \n",
      " precision:0.8245592996762202 \n",
      " recall:0.8753660089115213 \n",
      ", 'Test':  best_epoch_indx:79\n",
      " auc:0.9474576652714537 \n",
      " apur:0.9330445953920293 \n",
      " f1:0.8492034086698778 \n",
      " precision:0.8245592996762202 \n",
      " recall:0.8753660089115213 \n",
      "}\n",
      "=====Epoch 80\n",
      "Training...\n"
     ]
    },
    {
     "name": "stderr",
     "output_type": "stream",
     "text": [
      "Iteration: 100%|██████████| 62/62 [00:01<00:00, 35.54it/s]\n",
      "Iteration: 100%|██████████| 62/62 [00:01<00:00, 36.37it/s]\n",
      "Iteration: 100%|██████████| 62/62 [00:01<00:00, 32.36it/s]\n",
      "Iteration:   0%|          | 0/62 [00:00<?, ?it/s]"
     ]
    },
    {
     "name": "stdout",
     "output_type": "stream",
     "text": [
      "Evaluating...\n"
     ]
    },
    {
     "name": "stderr",
     "output_type": "stream",
     "text": [
      "Iteration: 100%|██████████| 62/62 [00:01<00:00, 41.55it/s]\n",
      "Iteration:  53%|█████▎    | 33/62 [00:01<00:01, 24.54it/s]"
     ]
    },
    {
     "name": "stdout",
     "output_type": "stream",
     "text": [
      "Evaluating...\n"
     ]
    },
    {
     "name": "stderr",
     "output_type": "stream",
     "text": [
      "Iteration: 100%|██████████| 62/62 [00:02<00:00, 24.71it/s]\n",
      "Iteration: 100%|██████████| 62/62 [00:01<00:00, 31.74it/s]\n",
      "Iteration: 100%|██████████| 62/62 [00:02<00:00, 29.08it/s]\n",
      "Iteration: 100%|██████████| 62/62 [00:02<00:00, 24.53it/s]\n",
      "Iteration: 100%|██████████| 62/62 [00:01<00:00, 36.08it/s]\n",
      "Iteration: 100%|██████████| 62/62 [00:01<00:00, 37.29it/s]\n",
      "Iteration: 100%|██████████| 62/62 [00:02<00:00, 29.54it/s]\n",
      "Iteration: 100%|██████████| 62/62 [00:02<00:00, 21.84it/s]\n",
      "Iteration: 100%|██████████| 62/62 [00:02<00:00, 22.01it/s]\n",
      "Iteration: 100%|██████████| 62/62 [00:03<00:00, 20.57it/s]\n",
      "Iteration:   0%|          | 0/62 [00:00<?, ?it/s]0.94it/s]"
     ]
    },
    {
     "name": "stdout",
     "output_type": "stream",
     "text": [
      "{'Train':  best_epoch_indx:85\n",
      " auc:0.936555400386329 \n",
      " apur:0.9197445573598556 \n",
      " f1:0.8323437595641794 \n",
      " precision:0.801579816081113 \n",
      " recall:0.8655633354551241 \n",
      ", 'Validation':  best_epoch_indx:85\n",
      " auc:0.9365554003863291 \n",
      " apur:0.9197445573598556 \n",
      " f1:0.8323437595641794 \n",
      " precision:0.801579816081113 \n",
      " recall:0.8655633354551241 \n",
      ", 'Test':  best_epoch_indx:85\n",
      " auc:0.9365554003863291 \n",
      " apur:0.9197445573598556 \n",
      " f1:0.8323437595641794 \n",
      " precision:0.801579816081113 \n",
      " recall:0.8655633354551241 \n",
      "}\n",
      "=====Epoch 86\n",
      "Training...\n",
      "{'Train':  best_epoch_indx:82\n",
      " auc:0.9397150170983787 \n",
      " apur:0.9237666084013233 \n",
      " f1:0.8363455066683286 \n",
      " precision:0.8191917958735198 \n",
      " recall:0.8542329726288987 \n",
      ", 'Validation':  best_epoch_indx:82\n",
      " auc:0.9397150170983787 \n",
      " apur:0.9237666084013233 \n",
      " f1:0.8363455066683286 \n",
      " precision:0.8191917958735198 \n",
      " recall:0.8542329726288987 \n",
      ", 'Test':  best_epoch_indx:82\n",
      " auc:0.9397150111438676 \n",
      " apur:0.9237666018004516 \n",
      " f1:0.8363455066683286 \n",
      " precision:0.8191917958735198 \n",
      " recall:0.8542329726288987 \n",
      "}\n",
      "=====Epoch 83\n",
      "Training...\n",
      "{'Train':  best_epoch_indx:79\n",
      " auc:0.9459795617360733 \n",
      " apur:0.9314401993907326 \n",
      " f1:0.8464801721487857 \n",
      " precision:0.8185493460166469 \n",
      " recall:0.8763844684914067 \n",
      ", 'Validation':  best_epoch_indx:79\n",
      " auc:0.9459795617360733 \n",
      " apur:0.9314401993907326 \n",
      " f1:0.8464801721487857 \n",
      " precision:0.8185493460166469 \n",
      " recall:0.8763844684914067 \n",
      ", 'Test':  best_epoch_indx:79\n",
      " auc:0.9459795617360736 \n",
      " apur:0.9314401993907325 \n",
      " f1:0.8464801721487857 \n",
      " precision:0.8185493460166469 \n",
      " recall:0.8763844684914067 \n",
      "}\n",
      "=====Epoch 80\n",
      "Training...\n"
     ]
    },
    {
     "name": "stderr",
     "output_type": "stream",
     "text": [
      "Iteration: 100%|██████████| 62/62 [00:01<00:00, 51.59it/s]\n",
      "Iteration:   0%|          | 0/62 [00:00<?, ?it/s].27it/s]]"
     ]
    },
    {
     "name": "stdout",
     "output_type": "stream",
     "text": [
      "{'Train':  best_epoch_indx:80\n",
      " auc:0.9448262516555833 \n",
      " apur:0.9307090092604617 \n",
      " f1:0.8432620706221475 \n",
      " precision:0.7981129930658178 \n",
      " recall:0.8938255887969446 \n",
      ", 'Validation':  best_epoch_indx:80\n",
      " auc:0.9448262516555833 \n",
      " apur:0.9307090092604617 \n",
      " f1:0.8432620706221475 \n",
      " precision:0.7981129930658178 \n",
      " recall:0.8938255887969446 \n",
      ", 'Test':  best_epoch_indx:80\n",
      " auc:0.9448262516555833 \n",
      " apur:0.9307090092604617 \n",
      " f1:0.8432620706221475 \n",
      " precision:0.7981129930658178 \n",
      " recall:0.8938255887969446 \n",
      "}\n",
      "=====Epoch 81\n",
      "Training...\n"
     ]
    },
    {
     "name": "stderr",
     "output_type": "stream",
     "text": [
      "Iteration: 100%|██████████| 62/62 [00:01<00:00, 39.55it/s]\n",
      "Iteration: 100%|██████████| 62/62 [00:01<00:00, 36.93it/s]\n",
      "Iteration:  77%|███████▋  | 48/62 [00:01<00:00, 18.98it/s]"
     ]
    },
    {
     "name": "stdout",
     "output_type": "stream",
     "text": [
      "Evaluating...\n",
      "Evaluating...\n"
     ]
    },
    {
     "name": "stderr",
     "output_type": "stream",
     "text": [
      "Iteration: 100%|██████████| 62/62 [00:02<00:00, 27.96it/s]\n",
      "Iteration:  24%|██▍       | 15/62 [00:00<00:01, 24.48it/s]"
     ]
    },
    {
     "name": "stdout",
     "output_type": "stream",
     "text": [
      "Evaluating...\n"
     ]
    },
    {
     "name": "stderr",
     "output_type": "stream",
     "text": [
      "Iteration: 100%|██████████| 62/62 [00:01<00:00, 42.08it/s]\n",
      "Iteration:  23%|██▎       | 14/62 [00:00<00:01, 29.52it/s]"
     ]
    },
    {
     "name": "stdout",
     "output_type": "stream",
     "text": [
      "Evaluating...\n"
     ]
    },
    {
     "name": "stderr",
     "output_type": "stream",
     "text": [
      "Iteration: 100%|██████████| 62/62 [00:01<00:00, 33.97it/s]\n",
      "Iteration: 100%|██████████| 62/62 [00:03<00:00, 20.12it/s]\n",
      "Iteration: 100%|██████████| 62/62 [00:02<00:00, 28.31it/s]\n",
      "Iteration: 100%|██████████| 62/62 [00:02<00:00, 22.25it/s]\n",
      "Iteration: 100%|██████████| 62/62 [00:01<00:00, 33.59it/s]\n",
      "Iteration:   8%|▊         | 5/62 [00:00<00:01, 48.72it/s]]"
     ]
    },
    {
     "name": "stdout",
     "output_type": "stream",
     "text": [
      "{'Train':  best_epoch_indx:81\n",
      " auc:0.9441649780665583 \n",
      " apur:0.9287555275211025 \n",
      " f1:0.843833617124787 \n",
      " precision:0.8077773896844801 \n",
      " recall:0.8832590706556334 \n",
      ", 'Validation':  best_epoch_indx:81\n",
      " auc:0.9441649780665583 \n",
      " apur:0.9287555275211025 \n",
      " f1:0.843833617124787 \n",
      " precision:0.8077773896844801 \n",
      " recall:0.8832590706556334 \n",
      ", 'Test':  best_epoch_indx:81\n",
      " auc:0.9441649780665583 \n",
      " apur:0.9287555275211025 \n",
      " f1:0.843833617124787 \n",
      " precision:0.8077773896844801 \n",
      " recall:0.8832590706556334 \n",
      "}\n",
      "=====Epoch 82\n",
      "Training...\n"
     ]
    },
    {
     "name": "stderr",
     "output_type": "stream",
     "text": [
      "Iteration: 100%|██████████| 62/62 [00:01<00:00, 33.48it/s]\n",
      "Iteration: 100%|██████████| 62/62 [00:01<00:00, 38.03it/s]\n",
      "Iteration:  61%|██████▏   | 38/62 [00:01<00:00, 24.55it/s]"
     ]
    },
    {
     "name": "stdout",
     "output_type": "stream",
     "text": [
      "Evaluating...\n"
     ]
    },
    {
     "name": "stderr",
     "output_type": "stream",
     "text": [
      "Iteration: 100%|██████████| 62/62 [00:01<00:00, 35.78it/s]\n",
      "Iteration: 100%|██████████| 62/62 [00:01<00:00, 34.05it/s]\n",
      "Iteration: 100%|██████████| 62/62 [00:02<00:00, 26.72it/s]\n",
      "Iteration: 100%|██████████| 62/62 [00:01<00:00, 42.08it/s]\n",
      "Iteration: 100%|██████████| 62/62 [00:01<00:00, 40.21it/s]\n",
      "Iteration: 100%|██████████| 62/62 [00:01<00:00, 38.04it/s]\n",
      "Iteration:  44%|████▎     | 27/62 [00:00<00:01, 29.16it/s]"
     ]
    },
    {
     "name": "stdout",
     "output_type": "stream",
     "text": [
      "{'Train':  best_epoch_indx:80\n",
      " auc:0.9461769895063651 \n",
      " apur:0.9325313922294721 \n",
      " f1:0.8430416768218376 \n",
      " precision:0.8084609091971485 \n",
      " recall:0.8807129217059197 \n",
      ", 'Validation':  best_epoch_indx:80\n",
      " auc:0.946176983551854 \n",
      " apur:0.9325313863105945 \n",
      " f1:0.8430416768218376 \n",
      " precision:0.8084609091971485 \n",
      " recall:0.8807129217059197 \n",
      ", 'Test':  best_epoch_indx:80\n",
      " auc:0.946176983551854 \n",
      " apur:0.9325313863105945 \n",
      " f1:0.8430416768218376 \n",
      " precision:0.8084609091971485 \n",
      " recall:0.8807129217059197 \n",
      "}\n",
      "=====Epoch 81\n",
      "Training...\n"
     ]
    },
    {
     "name": "stderr",
     "output_type": "stream",
     "text": [
      "\r",
      "Iteration:  92%|█████████▏| 57/62 [00:01<00:00, 43.93it/s]\r",
      "Iteration:   0%|          | 0/62 [00:00<?, ?it/s]\r",
      "Iteration:  48%|████▊     | 30/62 [00:01<00:01, 29.28it/s]\r",
      "Iteration:  16%|█▌        | 10/62 [00:00<00:01, 39.18it/s]\r",
      "Iteration:  74%|███████▍  | 46/62 [00:01<00:00, 22.89it/s]\r",
      "Iteration:  23%|██▎       | 14/62 [00:00<00:01, 39.44it/s]\r",
      "Iteration:   8%|▊         | 5/62 [00:00<00:01, 40.82it/s]\r",
      "Iteration:  53%|█████▎    | 33/62 [00:01<00:01, 26.58it/s]\r",
      "Iteration:  79%|███████▉  | 49/62 [00:01<00:00, 22.66it/s]"
     ]
    },
    {
     "name": "stdout",
     "output_type": "stream",
     "text": [
      "{'Train':  best_epoch_indx:81\n",
      " auc:0.9433332326926811 \n",
      " apur:0.9283074350640541 \n",
      " f1:0.8425042797750061 \n",
      " precision:0.810492883190213 \n",
      " recall:0.8771483131763208 \n",
      ", 'Validation':  best_epoch_indx:81\n",
      " auc:0.9433332326926811 \n",
      " apur:0.9283074350640541 \n",
      " f1:0.8425042797750061 \n",
      " precision:0.810492883190213 \n",
      " recall:0.8771483131763208 \n",
      ", 'Test':  best_epoch_indx:81\n",
      " auc:0.9433332326926811 \n",
      " apur:0.9283074350640541 \n",
      " f1:0.8425042797750061 \n",
      " precision:0.810492883190213 \n",
      " recall:0.8771483131763208 \n",
      "}\n",
      "=====Epoch 82\n",
      "Training...\n"
     ]
    },
    {
     "name": "stderr",
     "output_type": "stream",
     "text": [
      "Iteration: 100%|██████████| 62/62 [00:01<00:00, 35.11it/s]\n",
      "Iteration: 100%|██████████| 62/62 [00:02<00:00, 26.75it/s]\n",
      "Iteration: 100%|██████████| 62/62 [00:02<00:00, 29.89it/s]\n",
      "Iteration: 100%|██████████| 62/62 [00:01<00:00, 40.20it/s]\n",
      "Iteration:  89%|████████▊ | 55/62 [00:01<00:00, 38.59it/s]"
     ]
    },
    {
     "name": "stdout",
     "output_type": "stream",
     "text": [
      "{'Train':  best_epoch_indx:86\n",
      " auc:0.9405462250554849 \n",
      " apur:0.9252492250678432 \n",
      " f1:0.8405478112007826 \n",
      " precision:0.8086107516762734 \n",
      " recall:0.8751113940165499 \n",
      ", 'Validation':  best_epoch_indx:86\n",
      " auc:0.9405462250554849 \n",
      " apur:0.9252492250678432 \n",
      " f1:0.8405478112007826 \n",
      " precision:0.8086107516762734 \n",
      " recall:0.8751113940165499 \n",
      ", 'Test':  best_epoch_indx:86\n",
      " auc:0.9405462250554849 \n",
      " apur:0.9252492250678432 \n",
      " f1:0.8405478112007826 \n",
      " precision:0.8086107516762734 \n",
      " recall:0.8751113940165499 \n",
      "}\n",
      "=====Epoch 87\n",
      "Training...\n",
      "Evaluating...\n"
     ]
    },
    {
     "name": "stderr",
     "output_type": "stream",
     "text": [
      "\r",
      "Iteration:   6%|▋         | 4/62 [00:00<00:01, 33.71it/s]\r",
      "Iteration:   8%|▊         | 5/62 [00:00<00:01, 42.89it/s]\r",
      "Iteration:  97%|█████████▋| 60/62 [00:01<00:00, 39.43it/s]\r",
      "Iteration:   0%|          | 0/62 [00:00<?, ?it/s]\r",
      "Iteration: 100%|██████████| 62/62 [00:01<00:00, 41.33it/s]\n",
      "\r",
      "Iteration:   0%|          | 0/62 [00:00<?, ?it/s]\r",
      "Iteration:  13%|█▎        | 8/62 [00:00<00:01, 29.44it/s]"
     ]
    },
    {
     "name": "stdout",
     "output_type": "stream",
     "text": [
      "Evaluating...\n",
      "{'Train':  best_epoch_indx:83\n",
      " auc:0.9355781740968048 \n",
      " apur:0.9182727644010695 \n",
      " f1:0.8328598198633863 \n",
      " precision:0.7929327808471455 \n",
      " recall:0.8770210057288351 \n",
      ", 'Validation':  best_epoch_indx:83\n",
      " auc:0.9355781740968048 \n",
      " apur:0.9182727644010695 \n",
      " f1:0.8328598198633863 \n",
      " precision:0.7929327808471455 \n",
      " recall:0.8770210057288351 \n",
      ", 'Test':  best_epoch_indx:83\n",
      " auc:0.9355781740968048 \n",
      " apur:0.9182727644010695 \n",
      " f1:0.8328598198633863 \n",
      " precision:0.7929327808471455 \n",
      " recall:0.8770210057288351 \n",
      "}\n",
      "=====Epoch 84\n",
      "Training...\n"
     ]
    },
    {
     "name": "stderr",
     "output_type": "stream",
     "text": [
      "Iteration: 100%|██████████| 62/62 [00:01<00:00, 32.76it/s]\n",
      "Iteration: 100%|██████████| 62/62 [00:01<00:00, 34.22it/s]\n",
      "Iteration: 100%|██████████| 62/62 [00:01<00:00, 31.66it/s]\n"
     ]
    },
    {
     "name": "stdout",
     "output_type": "stream",
     "text": [
      "Evaluating...\n"
     ]
    },
    {
     "name": "stderr",
     "output_type": "stream",
     "text": [
      "Iteration: 100%|██████████| 62/62 [00:02<00:00, 23.95it/s]\n",
      "Iteration:  23%|██▎       | 14/62 [00:00<00:01, 28.50it/s]"
     ]
    },
    {
     "name": "stdout",
     "output_type": "stream",
     "text": [
      "Evaluating...\n"
     ]
    },
    {
     "name": "stderr",
     "output_type": "stream",
     "text": [
      "Iteration: 100%|██████████| 62/62 [00:02<00:00, 21.98it/s]\n",
      "Iteration: 100%|██████████| 62/62 [00:01<00:00, 33.52it/s]\n",
      "Iteration:  56%|█████▋    | 35/62 [00:01<00:01, 24.24it/s]"
     ]
    },
    {
     "name": "stdout",
     "output_type": "stream",
     "text": [
      "{'Train':  best_epoch_indx:82\n",
      " auc:0.9391535305189536 \n",
      " apur:0.9229096328124344 \n",
      " f1:0.8370361474720788 \n",
      " precision:0.7921354699397659 \n",
      " recall:0.887332908975175 \n",
      ", 'Validation':  best_epoch_indx:82\n",
      " auc:0.9391535305189536 \n",
      " apur:0.9229096328124344 \n",
      " f1:0.8370361474720788 \n",
      " precision:0.7921354699397659 \n",
      " recall:0.887332908975175 \n",
      ", 'Test':  best_epoch_indx:82\n",
      " auc:0.9391535305189536 \n",
      " apur:0.9229096328124344 \n",
      " f1:0.8370361474720788 \n",
      " precision:0.7921354699397659 \n",
      " recall:0.887332908975175 \n",
      "}\n",
      "=====Epoch 83\n",
      "Training...\n"
     ]
    },
    {
     "name": "stderr",
     "output_type": "stream",
     "text": [
      "Iteration: 100%|██████████| 62/62 [00:01<00:00, 39.77it/s]\n",
      "Iteration: 100%|██████████| 62/62 [00:01<00:00, 34.70it/s]\n",
      "Iteration: 100%|██████████| 62/62 [00:02<00:00, 27.23it/s]\n",
      "Iteration: 100%|██████████| 62/62 [00:01<00:00, 37.74it/s]\n",
      "Iteration:  10%|▉         | 6/62 [00:00<00:02, 20.54it/s]]"
     ]
    },
    {
     "name": "stdout",
     "output_type": "stream",
     "text": [
      "Evaluating...\n"
     ]
    },
    {
     "name": "stderr",
     "output_type": "stream",
     "text": [
      "Iteration: 100%|██████████| 62/62 [00:01<00:00, 31.97it/s]\n",
      "Iteration: 100%|██████████| 62/62 [00:01<00:00, 33.92it/s]\n",
      "Iteration: 100%|██████████| 62/62 [00:02<00:00, 24.63it/s]\n",
      "Iteration: 100%|██████████| 62/62 [00:01<00:00, 31.22it/s]\n",
      "Iteration:  73%|███████▎  | 45/62 [00:02<00:00, 42.53it/s]"
     ]
    },
    {
     "name": "stdout",
     "output_type": "stream",
     "text": [
      "{'Train':  best_epoch_indx:82\n",
      " auc:0.9337433814627899 \n",
      " apur:0.9180318707763697 \n",
      " f1:0.8239691486205873 \n",
      " precision:0.7715555555555556 \n",
      " recall:0.8840229153405474 \n",
      ", 'Validation':  best_epoch_indx:82\n",
      " auc:0.9337433814627899 \n",
      " apur:0.9180318707763696 \n",
      " f1:0.8239691486205873 \n",
      " precision:0.7715555555555556 \n",
      " recall:0.8840229153405474 \n",
      ", 'Test':  best_epoch_indx:82\n",
      " auc:0.9337433814627899 \n",
      " apur:0.9180318707763697 \n",
      " f1:0.8239691486205873 \n",
      " precision:0.7715555555555556 \n",
      " recall:0.8840229153405474 \n",
      "}\n",
      "=====Epoch 83\n",
      "Training...\n",
      "{'Train':  best_epoch_indx:81\n",
      " auc:0.942707956834558 \n",
      " apur:0.9280635214020944 \n",
      " f1:0.841504571393508 \n",
      " precision:0.8122482823975361 \n",
      " recall:0.8729471674092935 \n",
      ", 'Validation':  best_epoch_indx:81\n",
      " auc:0.9427079627890691 \n",
      " apur:0.9280635316343518 \n",
      " f1:0.841504571393508 \n",
      " precision:0.8122482823975361 \n",
      " recall:0.8729471674092935 \n",
      ", 'Test':  best_epoch_indx:81\n",
      " auc:0.9427079627890691 \n",
      " apur:0.9280635316343518 \n",
      " f1:0.841504571393508 \n",
      " precision:0.8122482823975361 \n",
      " recall:0.8729471674092935 \n",
      "}\n",
      "=====Epoch 82\n",
      "Training...\n"
     ]
    },
    {
     "name": "stderr",
     "output_type": "stream",
     "text": [
      "Iteration: 100%|██████████| 62/62 [00:02<00:00, 20.68it/s]\n",
      "Iteration: 100%|██████████| 62/62 [00:01<00:00, 38.56it/s]\n",
      "Iteration: 100%|██████████| 62/62 [00:01<00:00, 40.18it/s]\n",
      "Iteration:  73%|███████▎  | 45/62 [00:01<00:00, 32.36it/s]"
     ]
    },
    {
     "name": "stdout",
     "output_type": "stream",
     "text": [
      "Evaluating...\n",
      "Evaluating...\n"
     ]
    },
    {
     "name": "stderr",
     "output_type": "stream",
     "text": [
      "Iteration: 100%|██████████| 62/62 [00:01<00:00, 36.43it/s]\n",
      "Iteration: 100%|██████████| 62/62 [00:01<00:00, 33.60it/s]\n",
      "Iteration: 100%|██████████| 62/62 [00:01<00:00, 31.38it/s]\n",
      "Iteration: 100%|██████████| 62/62 [00:01<00:00, 31.05it/s]\n",
      "Iteration:  23%|██▎       | 14/62 [00:00<00:01, 35.54it/s]"
     ]
    },
    {
     "name": "stdout",
     "output_type": "stream",
     "text": [
      "{'Train':  best_epoch_indx:84\n",
      " auc:0.9313098971715476 \n",
      " apur:0.9139639836323055 \n",
      " f1:0.8253711871777349 \n",
      " precision:0.805993690851735 \n",
      " recall:0.8457033736473584 \n",
      ", 'Validation':  best_epoch_indx:84\n",
      " auc:0.9313098971715477 \n",
      " apur:0.9139639836326139 \n",
      " f1:0.8253711871777349 \n",
      " precision:0.805993690851735 \n",
      " recall:0.8457033736473584 \n",
      ", 'Test':  best_epoch_indx:84\n",
      " auc:0.9313098971715476 \n",
      " apur:0.9139639836323055 \n",
      " f1:0.8253711871777349 \n",
      " precision:0.805993690851735 \n",
      " recall:0.8457033736473584 \n",
      "}\n",
      "=====Epoch 85\n",
      "Training...\n"
     ]
    },
    {
     "name": "stderr",
     "output_type": "stream",
     "text": [
      "Iteration:  39%|███▊      | 24/62 [00:00<00:00, 39.57it/s]\n",
      "Iteration: 100%|██████████| 62/62 [00:01<00:00, 38.89it/s]\n",
      "Iteration: 100%|██████████| 62/62 [00:01<00:00, 40.07it/s]\n",
      "Iteration:   5%|▍         | 3/62 [00:00<00:01, 29.66it/s]]"
     ]
    },
    {
     "name": "stdout",
     "output_type": "stream",
     "text": [
      "{'Train':  best_epoch_indx:87\n",
      " auc:0.9474721777726007 \n",
      " apur:0.9332839254037297 \n",
      " f1:0.8480652738286563 \n",
      " precision:0.8242220353238016 \n",
      " recall:0.8733290897517505 \n",
      ", 'Validation':  best_epoch_indx:87\n",
      " auc:0.9474721777726007 \n",
      " apur:0.9332839254037297 \n",
      " f1:0.8480652738286563 \n",
      " precision:0.8242220353238016 \n",
      " recall:0.8733290897517505 \n",
      ", 'Test':  best_epoch_indx:87\n",
      " auc:0.9474721777726007 \n",
      " apur:0.9332839254037297 \n",
      " f1:0.8480652738286563 \n",
      " precision:0.8242220353238016 \n",
      " recall:0.8733290897517505 \n",
      "}\n",
      "=====Epoch 88\n",
      "Training...\n",
      "Evaluating...\n"
     ]
    },
    {
     "name": "stderr",
     "output_type": "stream",
     "text": [
      "Iteration:  52%|█████▏    | 32/62 [00:00<00:00, 38.30it/s]"
     ]
    },
    {
     "name": "stdout",
     "output_type": "stream",
     "text": [
      "{'Train':  best_epoch_indx:83\n",
      " auc:0.9349603042516996 \n",
      " apur:0.917591399687918 \n",
      " f1:0.8270283420508454 \n",
      " precision:0.7917782694771166 \n",
      " recall:0.8655633354551241 \n",
      ", 'Validation':  best_epoch_indx:83\n",
      " auc:0.9349603042516996 \n",
      " apur:0.917591399687918 \n",
      " f1:0.8270283420508454 \n",
      " precision:0.7917782694771166 \n",
      " recall:0.8655633354551241 \n",
      ", 'Test':  best_epoch_indx:83\n",
      " auc:0.9349603042516996 \n",
      " apur:0.917591399687918 \n",
      " f1:0.8270283420508454 \n",
      " precision:0.7917782694771166 \n",
      " recall:0.8655633354551241 \n",
      "}\n",
      "=====Epoch 84\n",
      "Training...\n"
     ]
    },
    {
     "name": "stderr",
     "output_type": "stream",
     "text": [
      "Iteration: 100%|██████████| 62/62 [00:01<00:00, 35.31it/s]\n",
      "Iteration: 100%|██████████| 62/62 [00:02<00:00, 30.41it/s]\n",
      "Iteration: 100%|██████████| 62/62 [00:01<00:00, 36.89it/s]\n",
      "Iteration:  11%|█▏        | 7/62 [00:00<00:00, 62.84it/s]]"
     ]
    },
    {
     "name": "stdout",
     "output_type": "stream",
     "text": [
      "Evaluating...\n"
     ]
    },
    {
     "name": "stderr",
     "output_type": "stream",
     "text": [
      "Iteration: 100%|██████████| 62/62 [00:01<00:00, 31.46it/s]\n",
      "Iteration: 100%|██████████| 62/62 [00:01<00:00, 37.20it/s]\n",
      "Iteration:   0%|          | 0/62 [00:00<?, ?it/s]"
     ]
    },
    {
     "name": "stdout",
     "output_type": "stream",
     "text": [
      "Evaluating...\n"
     ]
    },
    {
     "name": "stderr",
     "output_type": "stream",
     "text": [
      "Iteration: 100%|██████████| 62/62 [00:01<00:00, 37.38it/s]\n",
      "Iteration: 100%|██████████| 62/62 [00:01<00:00, 31.02it/s]\n",
      "Iteration: 100%|██████████| 62/62 [00:01<00:00, 31.94it/s]\n",
      "Iteration:   0%|          | 0/62 [00:00<?, ?it/s]"
     ]
    },
    {
     "name": "stdout",
     "output_type": "stream",
     "text": [
      "{'Train':  best_epoch_indx:83\n",
      " auc:0.929684990590099 \n",
      " apur:0.9118669892152153 \n",
      " f1:0.8214134318415794 \n",
      " precision:0.7833217833217834 \n",
      " recall:0.8633991088478676 \n",
      ", 'Validation':  best_epoch_indx:83\n",
      " auc:0.929684990590099 \n",
      " apur:0.9118669892152153 \n",
      " f1:0.8214134318415794 \n",
      " precision:0.7833217833217834 \n",
      " recall:0.8633991088478676 \n",
      ", 'Test':  best_epoch_indx:83\n",
      " auc:0.9296849786799627 \n",
      " apur:0.911866978198902 \n",
      " f1:0.8214134318415794 \n",
      " precision:0.7833217833217834 \n",
      " recall:0.8633991088478676 \n",
      "}\n",
      "=====Epoch 84\n",
      "Training...\n"
     ]
    },
    {
     "name": "stderr",
     "output_type": "stream",
     "text": [
      "Iteration: 100%|██████████| 62/62 [00:02<00:00, 26.90it/s]\n",
      "Iteration: 100%|██████████| 62/62 [00:02<00:00, 30.43it/s]\n",
      "Iteration:   0%|          | 0/62 [00:00<?, ?it/s]0.68it/s]"
     ]
    },
    {
     "name": "stdout",
     "output_type": "stream",
     "text": [
      "{'Train':  best_epoch_indx:82\n",
      " auc:0.9378347253987883 \n",
      " apur:0.922327675183516 \n",
      " f1:0.8337129840546696 \n",
      " precision:0.8072246065808297 \n",
      " recall:0.8619987269255251 \n",
      ", 'Validation':  best_epoch_indx:82\n",
      " auc:0.9378347253987883 \n",
      " apur:0.922327675183516 \n",
      " f1:0.8337129840546696 \n",
      " precision:0.8072246065808297 \n",
      " recall:0.8619987269255251 \n",
      ", 'Test':  best_epoch_indx:82\n",
      " auc:0.9378347253987883 \n",
      " apur:0.922327675183516 \n",
      " f1:0.8337129840546696 \n",
      " precision:0.8072246065808297 \n",
      " recall:0.8619987269255251 \n",
      "}\n",
      "=====Epoch 83\n",
      "Training...\n"
     ]
    },
    {
     "name": "stderr",
     "output_type": "stream",
     "text": [
      "Iteration: 100%|██████████| 62/62 [00:01<00:00, 37.91it/s]\n",
      "Iteration:  82%|████████▏ | 51/62 [00:01<00:00, 25.53it/s]"
     ]
    },
    {
     "name": "stdout",
     "output_type": "stream",
     "text": [
      "Evaluating...\n"
     ]
    },
    {
     "name": "stderr",
     "output_type": "stream",
     "text": [
      "Iteration: 100%|██████████| 62/62 [00:02<00:00, 28.09it/s]\n",
      "Iteration: 100%|██████████| 62/62 [00:01<00:00, 41.40it/s]\n",
      "Iteration:  19%|█▉        | 12/62 [00:00<00:02, 24.26it/s]"
     ]
    },
    {
     "name": "stdout",
     "output_type": "stream",
     "text": [
      "Evaluating...\n"
     ]
    },
    {
     "name": "stderr",
     "output_type": "stream",
     "text": [
      "Iteration: 100%|██████████| 62/62 [00:01<00:00, 36.18it/s]\n",
      "Iteration: 100%|██████████| 62/62 [00:02<00:00, 22.80it/s]\n",
      "Iteration: 100%|██████████| 62/62 [00:01<00:00, 33.47it/s]\n",
      "Iteration: 100%|██████████| 62/62 [00:01<00:00, 36.25it/s]\n",
      "Iteration:  26%|██▌       | 16/62 [00:00<00:01, 28.68it/s]"
     ]
    },
    {
     "name": "stdout",
     "output_type": "stream",
     "text": [
      "{'Train':  best_epoch_indx:85\n",
      " auc:0.9354179739299595 \n",
      " apur:0.9189043260166615 \n",
      " f1:0.8294588294588294 \n",
      " precision:0.821027687702669 \n",
      " recall:0.8380649267982176 \n",
      ", 'Validation':  best_epoch_indx:85\n",
      " auc:0.9354179739299595 \n",
      " apur:0.9189043260166615 \n",
      " f1:0.8294588294588294 \n",
      " precision:0.821027687702669 \n",
      " recall:0.8380649267982176 \n",
      ", 'Test':  best_epoch_indx:85\n",
      " auc:0.9354179739299595 \n",
      " apur:0.9189043260169886 \n",
      " f1:0.8294588294588294 \n",
      " precision:0.821027687702669 \n",
      " recall:0.8380649267982176 \n",
      "}\n",
      "=====Epoch 86\n",
      "Training...\n"
     ]
    },
    {
     "name": "stderr",
     "output_type": "stream",
     "text": [
      "Iteration: 100%|██████████| 62/62 [00:02<00:00, 30.36it/s]\n",
      "Iteration:  87%|████████▋ | 54/62 [00:02<00:00, 24.63it/s]"
     ]
    },
    {
     "name": "stdout",
     "output_type": "stream",
     "text": [
      "{'Train':  best_epoch_indx:88\n",
      " auc:0.9521379141385169 \n",
      " apur:0.9393111294984628 \n",
      " f1:0.8573010210357976 \n",
      " precision:0.829346661906462 \n",
      " recall:0.8872056015276893 \n",
      ", 'Validation':  best_epoch_indx:88\n",
      " auc:0.9521379260486531 \n",
      " apur:0.9393111423462741 \n",
      " f1:0.8573010210357976 \n",
      " precision:0.829346661906462 \n",
      " recall:0.8872056015276893 \n",
      ", 'Test':  best_epoch_indx:88\n",
      " auc:0.952137920093585 \n",
      " apur:0.9393111323348902 \n",
      " f1:0.8573010210357976 \n",
      " precision:0.829346661906462 \n",
      " recall:0.8872056015276893 \n",
      "}\n",
      "=====Epoch 89\n",
      "Training...\n"
     ]
    },
    {
     "name": "stderr",
     "output_type": "stream",
     "text": [
      "\r",
      "Iteration:  15%|█▍        | 9/62 [00:00<00:01, 42.79it/s]\r",
      "Iteration:  94%|█████████▎| 58/62 [00:02<00:00, 25.52it/s]\r",
      "Iteration:  76%|███████▌  | 47/62 [00:01<00:00, 32.72it/s]\r",
      "Iteration:  92%|█████████▏| 57/62 [00:02<00:00, 24.48it/s]\r",
      "Iteration: 100%|██████████| 62/62 [00:02<00:00, 28.65it/s]\n",
      "\r",
      "Iteration:   0%|          | 0/62 [00:00<?, ?it/s]\r",
      "Iteration:  23%|██▎       | 14/62 [00:00<00:01, 42.65it/s]\r",
      "Iteration:  85%|████████▌ | 53/62 [00:01<00:00, 39.37it/s]\r",
      "Iteration:  97%|█████████▋| 60/62 [00:02<00:00, 24.32it/s]"
     ]
    },
    {
     "name": "stdout",
     "output_type": "stream",
     "text": [
      "Evaluating...\n"
     ]
    },
    {
     "name": "stderr",
     "output_type": "stream",
     "text": [
      "Iteration: 100%|██████████| 62/62 [00:02<00:00, 26.46it/s]\n",
      "Iteration: 100%|██████████| 62/62 [00:01<00:00, 33.72it/s]\n",
      "Iteration: 100%|██████████| 62/62 [00:03<00:00, 19.84it/s]\n",
      "Iteration:  55%|█████▍    | 34/62 [00:00<00:00, 36.37it/s]"
     ]
    },
    {
     "name": "stdout",
     "output_type": "stream",
     "text": [
      "{'Train':  best_epoch_indx:84\n",
      " auc:0.9295560673788661 \n",
      " apur:0.9114085533702054 \n",
      " f1:0.8232768900548532 \n",
      " precision:0.7742514298530896 \n",
      " recall:0.8789306174411203 \n",
      ", 'Validation':  best_epoch_indx:84\n",
      " auc:0.9295560673788661 \n",
      " apur:0.9114085533702054 \n",
      " f1:0.8232768900548532 \n",
      " precision:0.7742514298530896 \n",
      " recall:0.8789306174411203 \n",
      ", 'Test':  best_epoch_indx:84\n",
      " auc:0.9295560673788661 \n",
      " apur:0.9114085533702054 \n",
      " f1:0.8232768900548532 \n",
      " precision:0.7742514298530896 \n",
      " recall:0.8789306174411203 \n",
      "}\n",
      "=====Epoch 85\n",
      "Training...\n"
     ]
    },
    {
     "name": "stderr",
     "output_type": "stream",
     "text": [
      "Iteration:  32%|███▏      | 20/62 [00:00<00:01, 27.91it/s]"
     ]
    },
    {
     "name": "stdout",
     "output_type": "stream",
     "text": [
      "Evaluating...\n"
     ]
    },
    {
     "name": "stderr",
     "output_type": "stream",
     "text": [
      "Iteration: 100%|██████████| 62/62 [00:01<00:00, 39.38it/s]\n",
      "Iteration: 100%|██████████| 62/62 [00:02<00:00, 29.05it/s]\n",
      "Iteration: 100%|██████████| 62/62 [00:01<00:00, 33.26it/s]\n",
      "Iteration: 100%|██████████| 62/62 [00:01<00:00, 40.07it/s]\n",
      "Iteration:   5%|▍         | 3/62 [00:00<00:02, 25.14it/s]"
     ]
    },
    {
     "name": "stdout",
     "output_type": "stream",
     "text": [
      "Evaluating...\n"
     ]
    },
    {
     "name": "stderr",
     "output_type": "stream",
     "text": [
      "Iteration: 100%|██████████| 62/62 [00:01<00:00, 35.68it/s]\n",
      "Iteration:   0%|          | 0/62 [00:00<?, ?it/s]7.08it/s]"
     ]
    },
    {
     "name": "stdout",
     "output_type": "stream",
     "text": [
      "{'Train':  best_epoch_indx:83\n",
      " auc:0.9359546778341536 \n",
      " apur:0.9198916375895403 \n",
      " f1:0.834565735054518 \n",
      " precision:0.8217943971368629 \n",
      " recall:0.8477402928071293 \n",
      ", 'Validation':  best_epoch_indx:83\n",
      " auc:0.9359546778341536 \n",
      " apur:0.9198916375895403 \n",
      " f1:0.834565735054518 \n",
      " precision:0.8217943971368629 \n",
      " recall:0.8477402928071293 \n",
      ", 'Test':  best_epoch_indx:83\n",
      " auc:0.9359546778341536 \n",
      " apur:0.9198916375895403 \n",
      " f1:0.834565735054518 \n",
      " precision:0.8217943971368629 \n",
      " recall:0.8477402928071293 \n",
      "}\n",
      "=====Epoch 84\n",
      "Training...\n"
     ]
    },
    {
     "name": "stderr",
     "output_type": "stream",
     "text": [
      "Iteration: 100%|██████████| 62/62 [00:01<00:00, 43.63it/s]\n",
      "Iteration: 100%|██████████| 62/62 [00:02<00:00, 26.30it/s]\n",
      "Iteration: 100%|██████████| 62/62 [00:00<00:00, 79.77it/s]\n",
      "Iteration: 100%|██████████| 62/62 [00:01<00:00, 33.21it/s]\n",
      "Iteration:  10%|▉         | 6/62 [00:00<00:02, 23.31it/s]"
     ]
    },
    {
     "name": "stdout",
     "output_type": "stream",
     "text": [
      "{'Train':  best_epoch_indx:84\n",
      " auc:0.9292460186945073 \n",
      " apur:0.9100344285272999 \n",
      " f1:0.8209667294413058 \n",
      " precision:0.8097832817337461 \n",
      " recall:0.8324633991088478 \n",
      ", 'Validation':  best_epoch_indx:84\n",
      " auc:0.9292460186945073 \n",
      " apur:0.9100344285272999 \n",
      " f1:0.8209667294413058 \n",
      " precision:0.8097832817337461 \n",
      " recall:0.8324633991088478 \n",
      ", 'Test':  best_epoch_indx:84\n",
      " auc:0.9292460186945073 \n",
      " apur:0.9100344285272999 \n",
      " f1:0.8209667294413058 \n",
      " precision:0.8097832817337461 \n",
      " recall:0.8324633991088478 \n",
      "}\n",
      "=====Epoch 85\n",
      "Training...\n"
     ]
    },
    {
     "name": "stderr",
     "output_type": "stream",
     "text": [
      "Iteration: 100%|██████████| 62/62 [00:01<00:00, 33.09it/s]\n",
      "Iteration:  29%|██▉       | 18/62 [00:00<00:01, 23.75it/s]"
     ]
    },
    {
     "name": "stdout",
     "output_type": "stream",
     "text": [
      "Evaluating...\n"
     ]
    },
    {
     "name": "stderr",
     "output_type": "stream",
     "text": [
      "Iteration: 100%|██████████| 62/62 [00:01<00:00, 33.32it/s]\n",
      "Iteration:  44%|████▎     | 27/62 [00:01<00:01, 22.16it/s]"
     ]
    },
    {
     "name": "stdout",
     "output_type": "stream",
     "text": [
      "Evaluating...\n"
     ]
    },
    {
     "name": "stderr",
     "output_type": "stream",
     "text": [
      "Iteration: 100%|██████████| 62/62 [00:02<00:00, 24.10it/s]\n",
      "Iteration: 100%|██████████| 62/62 [00:01<00:00, 32.01it/s]\n",
      "Iteration: 100%|██████████| 62/62 [00:02<00:00, 25.27it/s]\n",
      "Iteration:  79%|███████▉  | 49/62 [00:02<00:00, 26.76it/s]"
     ]
    },
    {
     "name": "stdout",
     "output_type": "stream",
     "text": [
      "{'Train':  best_epoch_indx:89\n",
      " auc:0.9565211897106665 \n",
      " apur:0.944791335094227 \n",
      " f1:0.8638161146811666 \n",
      " precision:0.8392364029295234 \n",
      " recall:0.8898790579248886 \n",
      ", 'Validation':  best_epoch_indx:89\n",
      " auc:0.9565211897106665 \n",
      " apur:0.944791335094227 \n",
      " f1:0.8638161146811666 \n",
      " precision:0.8392364029295234 \n",
      " recall:0.8898790579248886 \n",
      ", 'Test':  best_epoch_indx:89\n",
      " auc:0.9565211897106665 \n",
      " apur:0.944791335094227 \n",
      " f1:0.8638161146811666 \n",
      " precision:0.8392364029295234 \n",
      " recall:0.8898790579248886 \n",
      "}\n",
      "=====Epoch 90\n",
      "Training...\n"
     ]
    },
    {
     "name": "stderr",
     "output_type": "stream",
     "text": [
      "Iteration: 100%|██████████| 62/62 [00:02<00:00, 23.35it/s]\n",
      "Iteration: 100%|██████████| 62/62 [00:01<00:00, 32.88it/s]\n",
      "Iteration:  89%|████████▊ | 55/62 [00:01<00:00, 40.65it/s]"
     ]
    },
    {
     "name": "stdout",
     "output_type": "stream",
     "text": [
      "{'Train':  best_epoch_indx:86\n",
      " auc:0.9406606589619264 \n",
      " apur:0.9249666911094966 \n",
      " f1:0.8402520385470719 \n",
      " precision:0.8161526461058443 \n",
      " recall:0.8658179503500955 \n",
      ", 'Validation':  best_epoch_indx:86\n",
      " auc:0.9406606589619264 \n",
      " apur:0.9249666911094966 \n",
      " f1:0.8402520385470719 \n",
      " precision:0.8161526461058443 \n",
      " recall:0.8658179503500955 \n",
      ", 'Test':  best_epoch_indx:86\n",
      " auc:0.9406606589619264 \n",
      " apur:0.9249666911094966 \n",
      " f1:0.8402520385470719 \n",
      " precision:0.8161526461058443 \n",
      " recall:0.8658179503500955 \n",
      "}\n",
      "=====Epoch 87\n",
      "Training...\n"
     ]
    },
    {
     "name": "stderr",
     "output_type": "stream",
     "text": [
      "\r",
      "Iteration:  11%|█▏        | 7/62 [00:00<00:01, 33.22it/s]\r",
      "Iteration:  26%|██▌       | 16/62 [00:00<00:01, 23.20it/s]\r",
      "Iteration:  19%|█▉        | 12/62 [00:00<00:01, 27.28it/s]\r",
      "Iteration:  97%|█████████▋| 60/62 [00:01<00:00, 41.41it/s]\r",
      "Iteration:  47%|████▋     | 29/62 [00:01<00:01, 23.51it/s]\r",
      "Iteration:  18%|█▊        | 11/62 [00:00<00:01, 33.99it/s]\r",
      "Iteration: 100%|██████████| 62/62 [00:01<00:00, 38.08it/s]\n",
      "\r",
      "Iteration:   0%|          | 0/62 [00:00<?, ?it/s]\r",
      "Iteration:  31%|███       | 19/62 [00:00<00:01, 23.68it/s]\r",
      "Iteration:  24%|██▍       | 15/62 [00:00<00:01, 26.35it/s]"
     ]
    },
    {
     "name": "stdout",
     "output_type": "stream",
     "text": [
      "Evaluating...\n"
     ]
    },
    {
     "name": "stderr",
     "output_type": "stream",
     "text": [
      "Iteration: 100%|██████████| 62/62 [00:02<00:00, 24.02it/s]\n",
      "Iteration: 100%|██████████| 62/62 [00:01<00:00, 35.76it/s]\n",
      "Iteration:   0%|          | 0/62 [00:00<?, ?it/s]"
     ]
    },
    {
     "name": "stdout",
     "output_type": "stream",
     "text": [
      "Evaluating...\n"
     ]
    },
    {
     "name": "stderr",
     "output_type": "stream",
     "text": [
      "Iteration: 100%|██████████| 62/62 [00:02<00:00, 25.35it/s]\n",
      "Iteration: 100%|██████████| 62/62 [00:01<00:00, 31.40it/s]\n",
      "Iteration: 100%|██████████| 62/62 [00:03<00:00, 20.20it/s]\n",
      "Iteration:   0%|          | 0/62 [00:00<?, ?it/s]8.20it/s]"
     ]
    },
    {
     "name": "stdout",
     "output_type": "stream",
     "text": [
      "{'Train':  best_epoch_indx:85\n",
      " auc:0.9336571356777038 \n",
      " apur:0.9161645814871373 \n",
      " f1:0.8285750539271666 \n",
      " precision:0.8258505122043759 \n",
      " recall:0.8313176320814768 \n",
      ", 'Validation':  best_epoch_indx:85\n",
      " auc:0.9336571356777038 \n",
      " apur:0.9161645814871373 \n",
      " f1:0.8285750539271666 \n",
      " precision:0.8258505122043759 \n",
      " recall:0.8313176320814768 \n",
      ", 'Test':  best_epoch_indx:85\n",
      " auc:0.9336571356777038 \n",
      " apur:0.9161645814871373 \n",
      " f1:0.8285750539271666 \n",
      " precision:0.8258505122043759 \n",
      " recall:0.8313176320814768 \n",
      "}\n",
      "=====Epoch 86\n",
      "Training...\n"
     ]
    },
    {
     "name": "stderr",
     "output_type": "stream",
     "text": [
      "Iteration: 100%|██████████| 62/62 [00:02<00:00, 28.87it/s]\n",
      "Iteration: 100%|██████████| 62/62 [00:01<00:00, 33.72it/s]\n",
      "Iteration: 100%|██████████| 62/62 [00:02<00:00, 28.90it/s]\n",
      "Iteration:  68%|██████▊   | 42/62 [00:01<00:00, 22.58it/s]"
     ]
    },
    {
     "name": "stdout",
     "output_type": "stream",
     "text": [
      "Evaluating...\n"
     ]
    },
    {
     "name": "stderr",
     "output_type": "stream",
     "text": [
      "Iteration: 100%|██████████| 62/62 [00:01<00:00, 34.88it/s]\n",
      "Iteration: 100%|██████████| 62/62 [00:02<00:00, 25.21it/s]\n",
      "Iteration:  13%|█▎        | 8/62 [00:00<00:01, 32.36it/s]]"
     ]
    },
    {
     "name": "stdout",
     "output_type": "stream",
     "text": [
      "{'Train':  best_epoch_indx:84\n",
      " auc:0.9282619734797984 \n",
      " apur:0.9117956774385361 \n",
      " f1:0.8226294034178543 \n",
      " precision:0.7980608091932009 \n",
      " recall:0.8487587523870146 \n",
      ", 'Validation':  best_epoch_indx:84\n",
      " auc:0.9282619734797984 \n",
      " apur:0.9117956774378573 \n",
      " f1:0.8226294034178543 \n",
      " precision:0.7980608091932009 \n",
      " recall:0.8487587523870146 \n",
      ", 'Test':  best_epoch_indx:84\n",
      " auc:0.9282619734797984 \n",
      " apur:0.911795677438215 \n",
      " f1:0.8226294034178543 \n",
      " precision:0.7980608091932009 \n",
      " recall:0.8487587523870146 \n",
      "}\n",
      "=====Epoch 85\n",
      "Training...\n"
     ]
    },
    {
     "name": "stderr",
     "output_type": "stream",
     "text": [
      "Iteration: 100%|██████████| 62/62 [00:01<00:00, 34.17it/s]\n"
     ]
    },
    {
     "name": "stdout",
     "output_type": "stream",
     "text": [
      "{'Train':  best_epoch_indx:85\n",
      " auc:0.9352526101212696 \n",
      " apur:0.9183040791879011 \n",
      " f1:0.828901154039137 \n",
      " precision:0.816911855606379 \n",
      " recall:0.8412476129853597 \n",
      ", 'Validation':  best_epoch_indx:85\n",
      " auc:0.9352526101212696 \n",
      " apur:0.9183040791879011 \n",
      " f1:0.828901154039137 \n",
      " precision:0.816911855606379 \n",
      " recall:0.8412476129853597 \n",
      ", 'Test':  best_epoch_indx:85\n",
      " auc:0.9352526101212697 \n",
      " apur:0.9183040791876051 \n",
      " f1:0.828901154039137 \n",
      " precision:0.816911855606379 \n",
      " recall:0.8412476129853597 \n",
      "}\n",
      "=====Epoch 86\n",
      "Training...\n"
     ]
    },
    {
     "name": "stderr",
     "output_type": "stream",
     "text": [
      "Iteration: 100%|██████████| 62/62 [00:01<00:00, 32.31it/s]\n",
      "Iteration: 100%|██████████| 62/62 [00:02<00:00, 30.22it/s]\n",
      "Iteration: 100%|██████████| 62/62 [00:01<00:00, 32.02it/s]\n",
      "Iteration:  19%|█▉        | 12/62 [00:00<00:01, 37.08it/s]"
     ]
    },
    {
     "name": "stdout",
     "output_type": "stream",
     "text": [
      "Evaluating...\n"
     ]
    },
    {
     "name": "stderr",
     "output_type": "stream",
     "text": [
      "Iteration: 100%|██████████| 62/62 [00:02<00:00, 25.07it/s]\n",
      "Iteration:  97%|█████████▋| 60/62 [00:01<00:00, 32.34it/s]"
     ]
    },
    {
     "name": "stdout",
     "output_type": "stream",
     "text": [
      "Evaluating...\n",
      "{'Train':  best_epoch_indx:90\n",
      " auc:0.9574775557946715 \n",
      " apur:0.9459912488297659 \n",
      " f1:0.8653717347622238 \n",
      " precision:0.8293650793650794 \n",
      " recall:0.9046467218332273 \n",
      ", 'Validation':  best_epoch_indx:90\n",
      " auc:0.9574775557946715 \n",
      " apur:0.9459912488297659 \n",
      " f1:0.8653717347622238 \n",
      " precision:0.8293650793650794 \n",
      " recall:0.9046467218332273 \n",
      ", 'Test':  best_epoch_indx:90\n",
      " auc:0.9574775557946715 \n",
      " apur:0.9459912488297659 \n",
      " f1:0.8653717347622238 \n",
      " precision:0.8293650793650794 \n",
      " recall:0.9046467218332273 \n",
      "}\n",
      "=====Epoch 91\n",
      "Training...\n"
     ]
    },
    {
     "name": "stderr",
     "output_type": "stream",
     "text": [
      "Iteration: 100%|██████████| 62/62 [00:01<00:00, 36.50it/s]\n",
      "Iteration: 100%|██████████| 62/62 [00:01<00:00, 35.79it/s]\n",
      "Iteration: 100%|██████████| 62/62 [00:01<00:00, 34.27it/s]\n",
      "Iteration:  84%|████████▍ | 52/62 [00:01<00:00, 27.30it/s]"
     ]
    },
    {
     "name": "stdout",
     "output_type": "stream",
     "text": [
      "{'Train':  best_epoch_indx:87\n",
      " auc:0.9473817300117483 \n",
      " apur:0.932676912452933 \n",
      " f1:0.8498597693985667 \n",
      " precision:0.8324786324786325 \n",
      " recall:0.867982176957352 \n",
      ", 'Validation':  best_epoch_indx:87\n",
      " auc:0.9473817300117483 \n",
      " apur:0.932676912452933 \n",
      " f1:0.8498597693985667 \n",
      " precision:0.8324786324786325 \n",
      " recall:0.867982176957352 \n",
      ", 'Test':  best_epoch_indx:87\n",
      " auc:0.9473817300117483 \n",
      " apur:0.932676912452933 \n",
      " f1:0.8498597693985667 \n",
      " precision:0.8324786324786325 \n",
      " recall:0.867982176957352 \n",
      "}\n",
      "=====Epoch 88\n",
      "Training...\n"
     ]
    },
    {
     "name": "stderr",
     "output_type": "stream",
     "text": [
      "Iteration: 100%|██████████| 62/62 [00:01<00:00, 33.39it/s]\n",
      "Iteration: 100%|██████████| 62/62 [00:02<00:00, 30.43it/s]\n",
      "Iteration:  31%|███       | 19/62 [00:00<00:01, 34.77it/s]"
     ]
    },
    {
     "name": "stdout",
     "output_type": "stream",
     "text": [
      "Evaluating...\n"
     ]
    },
    {
     "name": "stderr",
     "output_type": "stream",
     "text": [
      "Iteration: 100%|██████████| 62/62 [00:01<00:00, 37.85it/s]\n",
      "Iteration: 100%|██████████| 62/62 [00:01<00:00, 38.73it/s]\n",
      "Iteration:  71%|███████   | 44/62 [00:01<00:00, 38.75it/s]"
     ]
    },
    {
     "name": "stdout",
     "output_type": "stream",
     "text": [
      "Evaluating...\n"
     ]
    },
    {
     "name": "stderr",
     "output_type": "stream",
     "text": [
      "\r",
      "Iteration: 100%|██████████| 62/62 [00:01<00:00, 36.24it/s]\n",
      "\r",
      "Iteration:  10%|▉         | 6/62 [00:00<00:02, 25.54it/s]\r",
      "Iteration:  27%|██▋       | 17/62 [00:00<00:01, 43.92it/s]\r",
      "Iteration:  79%|███████▉  | 49/62 [00:01<00:00, 39.70it/s]\r",
      "Iteration:  15%|█▍        | 9/62 [00:00<00:02, 25.48it/s]\r",
      "Iteration:  35%|███▌      | 22/62 [00:00<00:00, 43.06it/s]\r",
      "Iteration:  87%|████████▋ | 54/62 [00:01<00:00, 40.06it/s]"
     ]
    },
    {
     "name": "stdout",
     "output_type": "stream",
     "text": [
      "{'Train':  best_epoch_indx:86\n",
      " auc:0.9370729707472731 \n",
      " apur:0.9214096495135109 \n",
      " f1:0.8357862595419847 \n",
      " precision:0.803169014084507 \n",
      " recall:0.8711648631444939 \n",
      ", 'Validation':  best_epoch_indx:86\n",
      " auc:0.9370729707472731 \n",
      " apur:0.9214096495135109 \n",
      " f1:0.8357862595419847 \n",
      " precision:0.803169014084507 \n",
      " recall:0.8711648631444939 \n",
      ", 'Test':  best_epoch_indx:86\n",
      " auc:0.9370729707472731 \n",
      " apur:0.9214096495135109 \n",
      " f1:0.8357862595419847 \n",
      " precision:0.803169014084507 \n",
      " recall:0.8711648631444939 \n",
      "}\n",
      "=====Epoch 87\n",
      "Training...\n"
     ]
    },
    {
     "name": "stderr",
     "output_type": "stream",
     "text": [
      "Iteration: 100%|██████████| 62/62 [00:01<00:00, 32.59it/s]\n",
      "Iteration: 100%|██████████| 62/62 [00:01<00:00, 39.57it/s]\n",
      "Iteration: 100%|██████████| 62/62 [00:02<00:00, 29.55it/s]\n",
      "Iteration: 100%|██████████| 62/62 [00:01<00:00, 34.67it/s]\n",
      "Iteration:  11%|█▏        | 7/62 [00:00<00:00, 60.74it/s]]"
     ]
    },
    {
     "name": "stdout",
     "output_type": "stream",
     "text": [
      "Evaluating...\n"
     ]
    },
    {
     "name": "stderr",
     "output_type": "stream",
     "text": [
      "Iteration: 100%|██████████| 62/62 [00:01<00:00, 47.67it/s]\n",
      "Iteration:  23%|██▎       | 14/62 [00:00<00:01, 28.95it/s]"
     ]
    },
    {
     "name": "stdout",
     "output_type": "stream",
     "text": [
      "{'Train':  best_epoch_indx:85\n",
      " auc:0.923308195372273 \n",
      " apur:0.9055283482838578 \n",
      " f1:0.8129625208880401 \n",
      " precision:0.7651949219188855 \n",
      " recall:0.8670910248249523 \n",
      ", 'Validation':  best_epoch_indx:85\n",
      " auc:0.923308195372273 \n",
      " apur:0.9055283482838578 \n",
      " f1:0.8129625208880401 \n",
      " precision:0.7651949219188855 \n",
      " recall:0.8670910248249523 \n",
      ", 'Test':  best_epoch_indx:85\n",
      " auc:0.923308195372273 \n",
      " apur:0.9055283482838578 \n",
      " f1:0.8129625208880401 \n",
      " precision:0.7651949219188855 \n",
      " recall:0.8670910248249523 \n",
      "}\n",
      "=====Epoch 86\n",
      "Training...\n"
     ]
    },
    {
     "name": "stderr",
     "output_type": "stream",
     "text": [
      "Iteration: 100%|██████████| 62/62 [00:01<00:00, 47.63it/s]\n",
      "Iteration: 100%|██████████| 62/62 [00:02<00:00, 29.17it/s]\n",
      "Iteration: 100%|██████████| 62/62 [00:02<00:00, 29.52it/s]\n",
      "Iteration: 100%|██████████| 62/62 [00:01<00:00, 32.45it/s]\n",
      "Iteration: 100%|██████████| 62/62 [00:02<00:00, 27.81it/s]\n",
      "Iteration:   0%|          | 0/62 [00:00<?, ?it/s]"
     ]
    },
    {
     "name": "stdout",
     "output_type": "stream",
     "text": [
      "Evaluating...\n"
     ]
    },
    {
     "name": "stderr",
     "output_type": "stream",
     "text": [
      "Iteration:   0%|          | 0/62 [00:00<?, ?it/s].79it/s]]"
     ]
    },
    {
     "name": "stdout",
     "output_type": "stream",
     "text": [
      "{'Train':  best_epoch_indx:86\n",
      " auc:0.9395469765255383 \n",
      " apur:0.9237138055601748 \n",
      " f1:0.8369966810695724 \n",
      " precision:0.8236381562731082 \n",
      " recall:0.8507956715467855 \n",
      ", 'Validation':  best_epoch_indx:86\n",
      " auc:0.9395469765255383 \n",
      " apur:0.9237138055601748 \n",
      " f1:0.8369966810695724 \n",
      " precision:0.8236381562731082 \n",
      " recall:0.8507956715467855 \n",
      ", 'Test':  best_epoch_indx:86\n",
      " auc:0.9395469765255383 \n",
      " apur:0.9237138055601748 \n",
      " f1:0.8369966810695724 \n",
      " precision:0.8236381562731082 \n",
      " recall:0.8507956715467855 \n",
      "}\n",
      "=====Epoch 87\n",
      "Training...\n"
     ]
    },
    {
     "name": "stderr",
     "output_type": "stream",
     "text": [
      "Iteration: 100%|██████████| 62/62 [00:01<00:00, 37.19it/s]\n",
      "Iteration: 100%|██████████| 62/62 [00:02<00:00, 29.89it/s]\n",
      "Iteration:  98%|█████████▊| 61/62 [00:01<00:00, 33.05it/s]"
     ]
    },
    {
     "name": "stdout",
     "output_type": "stream",
     "text": [
      "{'Train':  best_epoch_indx:91\n",
      " auc:0.9533099668368208 \n",
      " apur:0.9413971092037039 \n",
      " f1:0.8579342607411056 \n",
      " precision:0.8305327136217375 \n",
      " recall:0.8872056015276893 \n",
      ", 'Validation':  best_epoch_indx:91\n",
      " auc:0.9533099668368208 \n",
      " apur:0.9413971092037039 \n",
      " f1:0.8579342607411056 \n",
      " precision:0.8305327136217375 \n",
      " recall:0.8872056015276893 \n",
      ", 'Test':  best_epoch_indx:91\n",
      " auc:0.9533099668368208 \n",
      " apur:0.9413971092037039 \n",
      " f1:0.8579342607411056 \n",
      " precision:0.8305327136217375 \n",
      " recall:0.8872056015276893 \n",
      "}\n",
      "=====Epoch 92\n",
      "Training...\n"
     ]
    },
    {
     "name": "stderr",
     "output_type": "stream",
     "text": [
      "Iteration: 100%|██████████| 62/62 [00:01<00:00, 37.17it/s]\n",
      "Iteration: 100%|██████████| 62/62 [00:01<00:00, 32.05it/s]\n",
      "Iteration:  35%|███▌      | 22/62 [00:00<00:01, 33.89it/s]"
     ]
    },
    {
     "name": "stdout",
     "output_type": "stream",
     "text": [
      "Evaluating...\n"
     ]
    },
    {
     "name": "stderr",
     "output_type": "stream",
     "text": [
      "Iteration: 100%|██████████| 62/62 [00:02<00:00, 23.79it/s]\n",
      "Iteration: 100%|██████████| 62/62 [00:01<00:00, 34.64it/s]\n",
      "Iteration: 100%|██████████| 62/62 [00:02<00:00, 29.19it/s]\n",
      "Iteration:  81%|████████  | 50/62 [00:01<00:00, 37.14it/s]"
     ]
    },
    {
     "name": "stdout",
     "output_type": "stream",
     "text": [
      "Evaluating...\n"
     ]
    },
    {
     "name": "stderr",
     "output_type": "stream",
     "text": [
      "\r",
      "Iteration:  79%|███████▉  | 49/62 [00:01<00:00, 42.21it/s]\r",
      "Iteration:  92%|█████████▏| 57/62 [00:01<00:00, 44.64it/s]\r",
      "Iteration:  15%|█▍        | 9/62 [00:00<00:01, 40.30it/s]\r",
      "Iteration:   0%|          | 0/62 [00:00<?, ?it/s]\r",
      "Iteration:  87%|████████▋ | 54/62 [00:01<00:00, 42.34it/s]\r",
      "Iteration: 100%|██████████| 62/62 [00:01<00:00, 45.53it/s]\r",
      "Iteration: 100%|██████████| 62/62 [00:01<00:00, 35.58it/s]\n"
     ]
    },
    {
     "name": "stdout",
     "output_type": "stream",
     "text": [
      "{'Train':  best_epoch_indx:88\n",
      " auc:0.9533107855846048 \n",
      " apur:0.9392627497356267 \n",
      " f1:0.8592474372352833 \n",
      " precision:0.8296586059743954 \n",
      " recall:0.8910248249522597 \n",
      ", 'Validation':  best_epoch_indx:88\n",
      " auc:0.9533107855846048 \n",
      " apur:0.9392627497356267 \n",
      " f1:0.8592474372352833 \n",
      " precision:0.8296586059743954 \n",
      " recall:0.8910248249522597 \n",
      ", 'Test':  best_epoch_indx:88\n",
      " auc:0.9533107855846048 \n",
      " apur:0.9392627497356267 \n",
      " f1:0.8592474372352833 \n",
      " precision:0.8296586059743954 \n",
      " recall:0.8910248249522597 \n",
      "}\n",
      "=====Epoch 89\n",
      "Training...\n"
     ]
    },
    {
     "name": "stderr",
     "output_type": "stream",
     "text": [
      "\r",
      "Iteration:   5%|▍         | 3/62 [00:00<00:02, 28.95it/s]\r",
      "Iteration:  23%|██▎       | 14/62 [00:00<00:01, 32.40it/s]\r",
      "Iteration:  95%|█████████▌| 59/62 [00:01<00:00, 34.86it/s]\r",
      "Iteration:  11%|█▏        | 7/62 [00:00<00:01, 33.00it/s]\r",
      "Iteration:  31%|███       | 19/62 [00:00<00:01, 37.28it/s]\r",
      "Iteration: 100%|██████████| 62/62 [00:01<00:00, 36.81it/s]\n"
     ]
    },
    {
     "name": "stdout",
     "output_type": "stream",
     "text": [
      "{'Train':  best_epoch_indx:87\n",
      " auc:0.9460175396079193 \n",
      " apur:0.9317743068660349 \n",
      " f1:0.8453783553990041 \n",
      " precision:0.8082684937870166 \n",
      " recall:0.8860598345003182 \n",
      ", 'Validation':  best_epoch_indx:87\n",
      " auc:0.9460175396079193 \n",
      " apur:0.9317743068660349 \n",
      " f1:0.8453783553990041 \n",
      " precision:0.8082684937870166 \n",
      " recall:0.8860598345003182 \n",
      ", 'Test':  best_epoch_indx:87\n",
      " auc:0.9460175396079193 \n",
      " apur:0.9317743068660349 \n",
      " f1:0.8453783553990041 \n",
      " precision:0.8082684937870166 \n",
      " recall:0.8860598345003182 \n",
      "}\n",
      "=====Epoch 88\n",
      "Training...\n"
     ]
    },
    {
     "name": "stderr",
     "output_type": "stream",
     "text": [
      "Iteration: 100%|██████████| 62/62 [00:01<00:00, 39.32it/s]\n",
      "Iteration: 100%|██████████| 62/62 [00:01<00:00, 33.79it/s]\n",
      "Iteration:  24%|██▍       | 15/62 [00:00<00:01, 42.41it/s]"
     ]
    },
    {
     "name": "stdout",
     "output_type": "stream",
     "text": [
      "Evaluating...\n"
     ]
    },
    {
     "name": "stderr",
     "output_type": "stream",
     "text": [
      "Iteration: 100%|██████████| 62/62 [00:01<00:00, 32.46it/s]\n",
      "Iteration:   5%|▍         | 3/62 [00:00<00:02, 28.53it/s]]"
     ]
    },
    {
     "name": "stdout",
     "output_type": "stream",
     "text": [
      "Evaluating...\n"
     ]
    },
    {
     "name": "stderr",
     "output_type": "stream",
     "text": [
      "Iteration: 100%|██████████| 62/62 [00:01<00:00, 33.51it/s]\n",
      "Iteration: 100%|██████████| 62/62 [00:02<00:00, 30.23it/s]\n",
      "Iteration:   0%|          | 0/62 [00:00<?, ?it/s]7.74it/s]"
     ]
    },
    {
     "name": "stdout",
     "output_type": "stream",
     "text": [
      "{'Train':  best_epoch_indx:86\n",
      " auc:0.9402730321978278 \n",
      " apur:0.9246379563904077 \n",
      " f1:0.8393924302788845 \n",
      " precision:0.8212937020343526 \n",
      " recall:0.8583068109484405 \n",
      ", 'Validation':  best_epoch_indx:86\n",
      " auc:0.9402730321978278 \n",
      " apur:0.9246379563904077 \n",
      " f1:0.8393924302788845 \n",
      " precision:0.8212937020343526 \n",
      " recall:0.8583068109484405 \n",
      ", 'Test':  best_epoch_indx:86\n",
      " auc:0.9402730321978278 \n",
      " apur:0.9246379563904077 \n",
      " f1:0.8393924302788845 \n",
      " precision:0.8212937020343526 \n",
      " recall:0.8583068109484405 \n",
      "}\n",
      "=====Epoch 87\n",
      "Training...\n"
     ]
    },
    {
     "name": "stderr",
     "output_type": "stream",
     "text": [
      "Iteration: 100%|██████████| 62/62 [00:01<00:00, 33.06it/s]\n",
      "Iteration: 100%|██████████| 62/62 [00:03<00:00, 18.71it/s]\n",
      "Iteration: 100%|██████████| 62/62 [00:01<00:00, 31.24it/s]\n",
      "Iteration: 100%|██████████| 62/62 [00:01<00:00, 33.85it/s]\n",
      "Iteration:   0%|          | 0/62 [00:00<?, ?it/s]"
     ]
    },
    {
     "name": "stdout",
     "output_type": "stream",
     "text": [
      "Evaluating...\n"
     ]
    },
    {
     "name": "stderr",
     "output_type": "stream",
     "text": [
      "Iteration: 100%|██████████| 62/62 [00:02<00:00, 30.28it/s]\n",
      "Iteration: 100%|██████████| 62/62 [00:01<00:00, 32.81it/s]\n",
      "Iteration: 100%|██████████| 62/62 [00:01<00:00, 31.93it/s]\n",
      "Iteration:  47%|████▋     | 29/62 [00:01<00:01, 20.45it/s]"
     ]
    },
    {
     "name": "stdout",
     "output_type": "stream",
     "text": [
      "{'Train':  best_epoch_indx:92\n",
      " auc:0.9481808487508558 \n",
      " apur:0.9334330434759034 \n",
      " f1:0.8531399778788251 \n",
      " precision:0.8245634873500416 \n",
      " recall:0.8837683004455761 \n",
      ", 'Validation':  best_epoch_indx:92\n",
      " auc:0.9481808487508558 \n",
      " apur:0.9334330434759034 \n",
      " f1:0.8531399778788251 \n",
      " precision:0.8245634873500416 \n",
      " recall:0.8837683004455761 \n",
      ", 'Test':  best_epoch_indx:92\n",
      " auc:0.9481808487508558 \n",
      " apur:0.9334330434759034 \n",
      " f1:0.8531399778788251 \n",
      " precision:0.8245634873500416 \n",
      " recall:0.8837683004455761 \n",
      "}\n",
      "=====Epoch 93\n",
      "Training...\n"
     ]
    },
    {
     "name": "stderr",
     "output_type": "stream",
     "text": [
      "Iteration: 100%|██████████| 62/62 [00:01<00:00, 36.74it/s]\n",
      "Iteration: 100%|██████████| 62/62 [00:02<00:00, 25.08it/s]\n",
      "Iteration:  66%|██████▌   | 41/62 [00:01<00:00, 29.50it/s]"
     ]
    },
    {
     "name": "stdout",
     "output_type": "stream",
     "text": [
      "{'Train':  best_epoch_indx:87\n",
      " auc:0.9463688763363991 \n",
      " apur:0.9323123885947249 \n",
      " f1:0.8499660556687033 \n",
      " precision:0.8248682319118351 \n",
      " recall:0.8766390833863781 \n",
      ", 'Validation':  best_epoch_indx:87\n",
      " auc:0.9463688763363991 \n",
      " apur:0.9323123885947249 \n",
      " f1:0.8499660556687033 \n",
      " precision:0.8248682319118351 \n",
      " recall:0.8766390833863781 \n",
      ", 'Test':  best_epoch_indx:87\n",
      " auc:0.9463688763363991 \n",
      " apur:0.9323123885947249 \n",
      " f1:0.8499660556687033 \n",
      " precision:0.8248682319118351 \n",
      " recall:0.8766390833863781 \n",
      "}\n",
      "=====Epoch 88\n",
      "Training...\n"
     ]
    },
    {
     "name": "stderr",
     "output_type": "stream",
     "text": [
      "Iteration: 100%|██████████| 62/62 [00:02<00:00, 28.04it/s]\n",
      "Iteration:   0%|          | 0/62 [00:00<?, ?it/s]"
     ]
    },
    {
     "name": "stdout",
     "output_type": "stream",
     "text": [
      "Evaluating...\n"
     ]
    },
    {
     "name": "stderr",
     "output_type": "stream",
     "text": [
      "Iteration: 100%|██████████| 62/62 [00:02<00:00, 28.52it/s]\n",
      "Iteration: 100%|██████████| 62/62 [00:02<00:00, 25.11it/s]\n",
      "Iteration: 100%|██████████| 62/62 [00:02<00:00, 30.72it/s]\n",
      "Iteration: 100%|██████████| 62/62 [00:01<00:00, 34.25it/s]\n",
      "Iteration:   8%|▊         | 5/62 [00:00<00:01, 47.76it/s]"
     ]
    },
    {
     "name": "stdout",
     "output_type": "stream",
     "text": [
      "{'Train':  best_epoch_indx:89\n",
      " auc:0.957033039795784 \n",
      " apur:0.9443529846967156 \n",
      " f1:0.8652892042956729 \n",
      " precision:0.8538671294000991 \n",
      " recall:0.8770210057288351 \n",
      ", 'Validation':  best_epoch_indx:89\n",
      " auc:0.957033039795784 \n",
      " apur:0.9443529846967156 \n",
      " f1:0.8652892042956729 \n",
      " precision:0.8538671294000991 \n",
      " recall:0.8770210057288351 \n",
      ", 'Test':  best_epoch_indx:89\n",
      " auc:0.957033039795784 \n",
      " apur:0.9443529846967156 \n",
      " f1:0.8652892042956729 \n",
      " precision:0.8538671294000991 \n",
      " recall:0.8770210057288351 \n",
      "}\n",
      "=====Epoch 90\n",
      "Training...\n",
      "Evaluating...\n",
      "{'Train':  best_epoch_indx:88\n",
      " auc:0.9510508223477565 \n",
      " apur:0.9374502185340701 \n",
      " f1:0.8544434962818481 \n",
      " precision:0.8196702140100574 \n",
      " recall:0.8922978994271165 \n",
      ", 'Validation':  best_epoch_indx:88\n",
      " auc:0.95105084021129 \n",
      " apur:0.9374502426987226 \n",
      " f1:0.8544434962818481 \n",
      " precision:0.8196702140100574 \n",
      " recall:0.8922978994271165 \n",
      ", 'Test':  best_epoch_indx:88\n",
      " auc:0.9510508342567787 \n",
      " apur:0.9374502355527954 \n",
      " f1:0.8544434962818481 \n",
      " precision:0.8196702140100574 \n",
      " recall:0.8922978994271165 \n",
      "}\n",
      "=====Epoch 89\n",
      "Training...\n"
     ]
    },
    {
     "name": "stderr",
     "output_type": "stream",
     "text": [
      "Iteration: 100%|██████████| 62/62 [00:01<00:00, 39.22it/s]\n",
      "Iteration: 100%|██████████| 62/62 [00:01<00:00, 44.00it/s]\n",
      "Iteration: 100%|██████████| 62/62 [00:01<00:00, 36.85it/s]\n",
      "Iteration:  85%|████████▌ | 53/62 [00:01<00:00, 31.79it/s]"
     ]
    },
    {
     "name": "stdout",
     "output_type": "stream",
     "text": [
      "Evaluating...\n"
     ]
    },
    {
     "name": "stderr",
     "output_type": "stream",
     "text": [
      "Iteration: 100%|██████████| 62/62 [00:01<00:00, 31.54it/s]\n",
      "Iteration:  26%|██▌       | 16/62 [00:00<00:01, 31.06it/s]"
     ]
    },
    {
     "name": "stdout",
     "output_type": "stream",
     "text": [
      "Evaluating...\n"
     ]
    },
    {
     "name": "stderr",
     "output_type": "stream",
     "text": [
      "Iteration: 100%|██████████| 62/62 [00:01<00:00, 36.62it/s]\n",
      "Iteration: 100%|██████████| 62/62 [00:01<00:00, 37.48it/s]\n",
      "Iteration:  82%|████████▏ | 51/62 [00:01<00:00, 31.63it/s]"
     ]
    },
    {
     "name": "stdout",
     "output_type": "stream",
     "text": [
      "{'Train':  best_epoch_indx:87\n",
      " auc:0.9422727475721969 \n",
      " apur:0.9276536356930496 \n",
      " f1:0.8438538205980066 \n",
      " precision:0.8028735632183908 \n",
      " recall:0.8892425206874602 \n",
      ", 'Validation':  best_epoch_indx:87\n",
      " auc:0.9422727475721969 \n",
      " apur:0.9276536356930496 \n",
      " f1:0.8438538205980066 \n",
      " precision:0.8028735632183908 \n",
      " recall:0.8892425206874602 \n",
      ", 'Test':  best_epoch_indx:87\n",
      " auc:0.9422727475721969 \n",
      " apur:0.9276536356930496 \n",
      " f1:0.8438538205980066 \n",
      " precision:0.8028735632183908 \n",
      " recall:0.8892425206874602 \n",
      "}\n",
      "=====Epoch 88\n",
      "Training...\n"
     ]
    },
    {
     "name": "stderr",
     "output_type": "stream",
     "text": [
      "Iteration: 100%|██████████| 62/62 [00:02<00:00, 28.77it/s]\n",
      "Iteration: 100%|██████████| 62/62 [00:01<00:00, 33.06it/s]\n",
      "Iteration: 100%|██████████| 62/62 [00:01<00:00, 36.76it/s]\n",
      "Iteration: 100%|██████████| 62/62 [00:01<00:00, 53.84it/s]\n",
      "Iteration: 100%|██████████| 62/62 [00:01<00:00, 32.30it/s]\n",
      "Iteration:  60%|█████▉    | 37/62 [00:00<00:00, 40.37it/s]"
     ]
    },
    {
     "name": "stdout",
     "output_type": "stream",
     "text": [
      "Evaluating...\n"
     ]
    },
    {
     "name": "stderr",
     "output_type": "stream",
     "text": [
      "Iteration:  10%|▉         | 6/62 [00:00<00:02, 24.24it/s]]"
     ]
    },
    {
     "name": "stdout",
     "output_type": "stream",
     "text": [
      "{'Train':  best_epoch_indx:93\n",
      " auc:0.945165916834257 \n",
      " apur:0.9306427348869877 \n",
      " f1:0.8445469850969631 \n",
      " precision:0.8276704962111953 \n",
      " recall:0.8621260343730108 \n",
      ", 'Validation':  best_epoch_indx:93\n",
      " auc:0.9451659168342572 \n",
      " apur:0.9306427348869876 \n",
      " f1:0.8445469850969631 \n",
      " precision:0.8276704962111953 \n",
      " recall:0.8621260343730108 \n",
      ", 'Test':  best_epoch_indx:93\n",
      " auc:0.945165916834257 \n",
      " apur:0.9306427348869877 \n",
      " f1:0.8445469850969631 \n",
      " precision:0.8276704962111953 \n",
      " recall:0.8621260343730108 \n",
      "}\n",
      "=====Epoch 94\n",
      "Training...\n"
     ]
    },
    {
     "name": "stderr",
     "output_type": "stream",
     "text": [
      "Iteration: 100%|██████████| 62/62 [00:01<00:00, 37.23it/s]\n",
      "Iteration: 100%|██████████| 62/62 [00:01<00:00, 34.43it/s]\n",
      "Iteration: 100%|██████████| 62/62 [00:01<00:00, 35.79it/s]\n",
      "Iteration: 100%|██████████| 62/62 [00:01<00:00, 37.46it/s]\n",
      "Iteration:  82%|████████▏ | 51/62 [00:02<00:00, 22.96it/s]"
     ]
    },
    {
     "name": "stdout",
     "output_type": "stream",
     "text": [
      "Evaluating...\n"
     ]
    },
    {
     "name": "stderr",
     "output_type": "stream",
     "text": [
      "Iteration: 100%|██████████| 62/62 [00:02<00:00, 24.38it/s]\n",
      "Iteration: 100%|██████████| 62/62 [00:01<00:00, 38.53it/s]\n",
      "Iteration: 100%|██████████| 62/62 [00:01<00:00, 40.36it/s]\n",
      "Iteration:  74%|███████▍  | 46/62 [00:01<00:00, 29.32it/s]"
     ]
    },
    {
     "name": "stdout",
     "output_type": "stream",
     "text": [
      "{'Train':  best_epoch_indx:88\n",
      " auc:0.9524336606893861 \n",
      " apur:0.9394521104083661 \n",
      " f1:0.8553116875264526 \n",
      " precision:0.814486411791801 \n",
      " recall:0.9004455760661999 \n",
      ", 'Validation':  best_epoch_indx:88\n",
      " auc:0.9524336606893861 \n",
      " apur:0.9394521104083661 \n",
      " f1:0.8553116875264526 \n",
      " precision:0.814486411791801 \n",
      " recall:0.9004455760661999 \n",
      ", 'Test':  best_epoch_indx:88\n",
      " auc:0.9524336606893861 \n",
      " apur:0.9394521104083661 \n",
      " f1:0.8553116875264526 \n",
      " precision:0.814486411791801 \n",
      " recall:0.9004455760661999 \n",
      "}\n",
      "=====Epoch 89\n",
      "Training...\n"
     ]
    },
    {
     "name": "stderr",
     "output_type": "stream",
     "text": [
      "Iteration: 100%|██████████| 62/62 [00:01<00:00, 36.48it/s]\n",
      "Iteration:   6%|▋         | 4/62 [00:00<00:01, 34.57it/s]]"
     ]
    },
    {
     "name": "stdout",
     "output_type": "stream",
     "text": [
      "{'Train':  best_epoch_indx:89\n",
      " auc:0.9557779717625174 \n",
      " apur:0.9432213957072764 \n",
      " f1:0.8613111726685135 \n",
      " precision:0.833849821215733 \n",
      " recall:0.8906429026098027 \n",
      ", 'Validation':  best_epoch_indx:89\n",
      " auc:0.9557779717625174 \n",
      " apur:0.9432213957072764 \n",
      " f1:0.8613111726685135 \n",
      " precision:0.833849821215733 \n",
      " recall:0.8906429026098027 \n",
      ", 'Test':  best_epoch_indx:89\n",
      " auc:0.9557779717625174 \n",
      " apur:0.9432213957072764 \n",
      " f1:0.8613111726685135 \n",
      " precision:0.833849821215733 \n",
      " recall:0.8906429026098027 \n",
      "}\n",
      "=====Epoch 90\n",
      "Training...\n"
     ]
    },
    {
     "name": "stderr",
     "output_type": "stream",
     "text": [
      "Iteration: 100%|██████████| 62/62 [00:02<00:00, 28.42it/s]\n",
      "Iteration:  50%|█████     | 31/62 [00:01<00:00, 33.74it/s]"
     ]
    },
    {
     "name": "stdout",
     "output_type": "stream",
     "text": [
      "{'Train':  best_epoch_indx:90\n",
      " auc:0.9571251144010448 \n",
      " apur:0.9448394925590105 \n",
      " f1:0.8657401662737313 \n",
      " precision:0.8443664528621566 \n",
      " recall:0.8882240611075748 \n",
      ", 'Validation':  best_epoch_indx:90\n",
      " auc:0.9571251144010448 \n",
      " apur:0.9448394925590105 \n",
      " f1:0.8657401662737313 \n",
      " precision:0.8443664528621566 \n",
      " recall:0.8882240611075748 \n",
      ", 'Test':  best_epoch_indx:90\n",
      " auc:0.9571251144010448 \n",
      " apur:0.9448394925590105 \n",
      " f1:0.8657401662737313 \n",
      " precision:0.8443664528621566 \n",
      " recall:0.8882240611075748 \n",
      "}\n",
      "=====Epoch 91\n",
      "Training...\n"
     ]
    },
    {
     "name": "stderr",
     "output_type": "stream",
     "text": [
      "Iteration: 100%|██████████| 62/62 [00:01<00:00, 35.34it/s]\n",
      "Iteration:  24%|██▍       | 15/62 [00:00<00:01, 31.85it/s]"
     ]
    },
    {
     "name": "stdout",
     "output_type": "stream",
     "text": [
      "Evaluating...\n"
     ]
    },
    {
     "name": "stderr",
     "output_type": "stream",
     "text": [
      "Iteration: 100%|██████████| 62/62 [00:01<00:00, 31.70it/s]\n",
      "Iteration: 100%|██████████| 62/62 [00:02<00:00, 28.03it/s]\n",
      "Iteration:   6%|▋         | 4/62 [00:00<00:01, 29.46it/s]]"
     ]
    },
    {
     "name": "stdout",
     "output_type": "stream",
     "text": [
      "Evaluating...\n"
     ]
    },
    {
     "name": "stderr",
     "output_type": "stream",
     "text": [
      "Iteration: 100%|██████████| 62/62 [00:01<00:00, 35.48it/s]\n",
      "Iteration:   0%|          | 0/62 [00:00<?, ?it/s]"
     ]
    },
    {
     "name": "stdout",
     "output_type": "stream",
     "text": [
      "Evaluating...\n"
     ]
    },
    {
     "name": "stderr",
     "output_type": "stream",
     "text": [
      "Iteration: 100%|██████████| 62/62 [00:02<00:00, 26.16it/s]\n",
      "Iteration: 100%|██████████| 62/62 [00:02<00:00, 28.23it/s]\n",
      "Iteration:  92%|█████████▏| 57/62 [00:02<00:00, 30.67it/s]"
     ]
    },
    {
     "name": "stdout",
     "output_type": "stream",
     "text": [
      "{'Train':  best_epoch_indx:88\n",
      " auc:0.9511409915094625 \n",
      " apur:0.938384702872364 \n",
      " f1:0.8561285500747383 \n",
      " precision:0.8380685282282648 \n",
      " recall:0.8749840865690643 \n",
      ", 'Validation':  best_epoch_indx:88\n",
      " auc:0.9511409915094625 \n",
      " apur:0.938384702872364 \n",
      " f1:0.8561285500747383 \n",
      " precision:0.8380685282282648 \n",
      " recall:0.8749840865690643 \n",
      ", 'Test':  best_epoch_indx:88\n",
      " auc:0.9511409915094625 \n",
      " apur:0.938384702872364 \n",
      " f1:0.8561285500747383 \n",
      " precision:0.8380685282282648 \n",
      " recall:0.8749840865690643 \n",
      "}\n",
      "=====Epoch 89\n",
      "Training...\n"
     ]
    },
    {
     "name": "stderr",
     "output_type": "stream",
     "text": [
      "Iteration: 100%|██████████| 62/62 [00:02<00:00, 26.78it/s]\n",
      "Iteration: 100%|██████████| 62/62 [00:01<00:00, 40.61it/s]\n",
      "Iteration: 100%|██████████| 62/62 [00:02<00:00, 29.12it/s]\n",
      "Iteration:   6%|▋         | 4/62 [00:00<00:01, 38.87it/s]]"
     ]
    },
    {
     "name": "stdout",
     "output_type": "stream",
     "text": [
      "{'Train':  best_epoch_indx:94\n",
      " auc:0.9378067865028858 \n",
      " apur:0.9215808618186297 \n",
      " f1:0.8346514622034209 \n",
      " precision:0.8049905392620624 \n",
      " recall:0.8665817950350095 \n",
      ", 'Validation':  best_epoch_indx:94\n",
      " auc:0.9378067865028858 \n",
      " apur:0.9215808618186297 \n",
      " f1:0.8346514622034209 \n",
      " precision:0.8049905392620624 \n",
      " recall:0.8665817950350095 \n",
      ", 'Test':  best_epoch_indx:94\n",
      " auc:0.9378067865028858 \n",
      " apur:0.9215808618186297 \n",
      " f1:0.8346514622034209 \n",
      " precision:0.8049905392620624 \n",
      " recall:0.8665817950350095 \n",
      "}\n",
      "=====Epoch 95\n",
      "Training...\n"
     ]
    },
    {
     "name": "stderr",
     "output_type": "stream",
     "text": [
      "Iteration: 100%|██████████| 62/62 [00:01<00:00, 33.63it/s]\n",
      "Iteration:  84%|████████▍ | 52/62 [00:01<00:00, 27.55it/s]"
     ]
    },
    {
     "name": "stdout",
     "output_type": "stream",
     "text": [
      "Evaluating...\n"
     ]
    },
    {
     "name": "stderr",
     "output_type": "stream",
     "text": [
      "Iteration: 100%|██████████| 62/62 [00:02<00:00, 26.33it/s]\n",
      "Iteration: 100%|██████████| 62/62 [00:01<00:00, 34.52it/s]\n",
      "Iteration: 100%|██████████| 62/62 [00:01<00:00, 41.79it/s]\n",
      "Iteration:   0%|          | 0/62 [00:00<?, ?it/s]"
     ]
    },
    {
     "name": "stdout",
     "output_type": "stream",
     "text": [
      "Evaluating...\n"
     ]
    },
    {
     "name": "stderr",
     "output_type": "stream",
     "text": [
      "Iteration: 100%|██████████| 62/62 [00:01<00:00, 39.01it/s]\n",
      "Iteration: 100%|██████████| 62/62 [00:02<00:00, 23.53it/s]\n",
      "Iteration: 100%|██████████| 62/62 [00:01<00:00, 51.68it/s]\n",
      "Iteration: 100%|██████████| 62/62 [00:01<00:00, 33.38it/s]\n",
      "Iteration: 100%|██████████| 62/62 [00:01<00:00, 33.93it/s]\n",
      "Iteration: 100%|██████████| 62/62 [00:01<00:00, 35.73it/s]\n",
      "Iteration: 100%|██████████| 62/62 [00:01<00:00, 47.70it/s]\n",
      "Iteration:   0%|          | 0/62 [00:00<?, ?it/s]"
     ]
    },
    {
     "name": "stdout",
     "output_type": "stream",
     "text": [
      "{'Train':  best_epoch_indx:90\n",
      " auc:0.9558010931291492 \n",
      " apur:0.9437365590210649 \n",
      " f1:0.8649610405546352 \n",
      " precision:0.8347939365229748 \n",
      " recall:0.8973901973265436 \n",
      ", 'Validation':  best_epoch_indx:90\n",
      " auc:0.9558010931291492 \n",
      " apur:0.943736559021065 \n",
      " f1:0.8649610405546352 \n",
      " precision:0.8347939365229748 \n",
      " recall:0.8973901973265436 \n",
      ", 'Test':  best_epoch_indx:90\n",
      " auc:0.9558010931291492 \n",
      " apur:0.943736559021065 \n",
      " f1:0.8649610405546352 \n",
      " precision:0.8347939365229748 \n",
      " recall:0.8973901973265436 \n",
      "}\n",
      "=====Epoch 91\n",
      "Training...\n"
     ]
    },
    {
     "name": "stderr",
     "output_type": "stream",
     "text": [
      "\r",
      "Iteration:  85%|████████▌ | 53/62 [00:01<00:00, 45.94it/s]\r",
      "Iteration:   8%|▊         | 5/62 [00:00<00:01, 35.42it/s]\r",
      "Iteration:  97%|█████████▋| 60/62 [00:01<00:00, 50.94it/s]\r",
      "Iteration:   0%|          | 0/62 [00:00<?, ?it/s]\r",
      "Iteration: 100%|██████████| 62/62 [00:01<00:00, 34.19it/s]\n"
     ]
    },
    {
     "name": "stdout",
     "output_type": "stream",
     "text": [
      "{'Train':  best_epoch_indx:89\n",
      " auc:0.9560930143536795 \n",
      " apur:0.943806332837885 \n",
      " f1:0.8616743376041797 \n",
      " precision:0.8423932871214885 \n",
      " recall:0.8818586887332909 \n",
      ", 'Validation':  best_epoch_indx:89\n",
      " auc:0.9560930143536795 \n",
      " apur:0.943806332837885 \n",
      " f1:0.8616743376041797 \n",
      " precision:0.8423932871214885 \n",
      " recall:0.8818586887332909 \n",
      ", 'Test':  best_epoch_indx:89\n",
      " auc:0.9560930143536795 \n",
      " apur:0.943806332837885 \n",
      " f1:0.8616743376041797 \n",
      " precision:0.8423932871214885 \n",
      " recall:0.8818586887332909 \n",
      "}\n",
      "=====Epoch 90\n",
      "Training...\n"
     ]
    },
    {
     "name": "stderr",
     "output_type": "stream",
     "text": [
      "Iteration:  26%|██▌       | 16/62 [00:00<00:01, 31.11it/s]"
     ]
    },
    {
     "name": "stdout",
     "output_type": "stream",
     "text": [
      "{'Train':  best_epoch_indx:91\n",
      " auc:0.9524303694357327 \n",
      " apur:0.9398162089723595 \n",
      " f1:0.8577139287945036 \n",
      " precision:0.841937461679951 \n",
      " recall:0.8740929344366646 \n",
      ", 'Validation':  best_epoch_indx:91\n",
      " auc:0.9524303634812217 \n",
      " apur:0.9398162023193686 \n",
      " f1:0.8577139287945036 \n",
      " precision:0.841937461679951 \n",
      " recall:0.8740929344366646 \n",
      ", 'Test':  best_epoch_indx:91\n",
      " auc:0.9524303694357327 \n",
      " apur:0.9398162089723595 \n",
      " f1:0.8577139287945036 \n",
      " precision:0.841937461679951 \n",
      " recall:0.8740929344366646 \n",
      "}\n",
      "=====Epoch 92\n",
      "Training...\n"
     ]
    },
    {
     "name": "stderr",
     "output_type": "stream",
     "text": [
      "Iteration: 100%|██████████| 62/62 [00:01<00:00, 32.55it/s]\n",
      "Iteration: 100%|██████████| 62/62 [00:01<00:00, 34.97it/s]\n",
      "Iteration:   0%|          | 0/62 [00:00<?, ?it/s]"
     ]
    },
    {
     "name": "stdout",
     "output_type": "stream",
     "text": [
      "Evaluating...\n",
      "Evaluating...\n"
     ]
    },
    {
     "name": "stderr",
     "output_type": "stream",
     "text": [
      "Iteration: 100%|██████████| 62/62 [00:01<00:00, 33.96it/s]\n",
      "Iteration: 100%|██████████| 62/62 [00:02<00:00, 25.86it/s]\n",
      "Iteration: 100%|██████████| 62/62 [00:02<00:00, 30.24it/s]\n",
      "Iteration:  71%|███████   | 44/62 [00:01<00:00, 33.42it/s]"
     ]
    },
    {
     "name": "stdout",
     "output_type": "stream",
     "text": [
      "Evaluating...\n",
      "{'Train':  best_epoch_indx:89\n",
      " auc:0.9548703196798378 \n",
      " apur:0.9428551230513547 \n",
      " f1:0.8596845425867509 \n",
      " precision:0.8521575984990619 \n",
      " recall:0.8673456397199236 \n",
      ", 'Validation':  best_epoch_indx:89\n",
      " auc:0.9548703196798378 \n",
      " apur:0.9428551230513547 \n",
      " f1:0.8596845425867509 \n",
      " precision:0.8521575984990619 \n",
      " recall:0.8673456397199236 \n",
      ", 'Test':  best_epoch_indx:89\n",
      " auc:0.9548703196798378 \n",
      " apur:0.9428551230513547 \n",
      " f1:0.8596845425867509 \n",
      " precision:0.8521575984990619 \n",
      " recall:0.8673456397199236 \n",
      "}\n",
      "=====Epoch 90\n",
      "Training...\n"
     ]
    },
    {
     "name": "stderr",
     "output_type": "stream",
     "text": [
      "Iteration: 100%|██████████| 62/62 [00:01<00:00, 31.94it/s]\n",
      "Iteration:  69%|██████▉   | 43/62 [00:01<00:00, 21.28it/s]"
     ]
    },
    {
     "name": "stdout",
     "output_type": "stream",
     "text": [
      "{'Train':  best_epoch_indx:95\n",
      " auc:0.9380471151893006 \n",
      " apur:0.922206585600365 \n",
      " f1:0.8350066300435689 \n",
      " precision:0.8283638185918316 \n",
      " recall:0.8417568427753024 \n",
      ", 'Validation':  best_epoch_indx:95\n",
      " auc:0.9380471151893006 \n",
      " apur:0.922206585600365 \n",
      " f1:0.8350066300435689 \n",
      " precision:0.8283638185918316 \n",
      " recall:0.8417568427753024 \n",
      ", 'Test':  best_epoch_indx:95\n",
      " auc:0.9380471151893006 \n",
      " apur:0.922206585600365 \n",
      " f1:0.8350066300435689 \n",
      " precision:0.8283638185918316 \n",
      " recall:0.8417568427753024 \n",
      "}\n",
      "=====Epoch 96\n",
      "Training...\n"
     ]
    },
    {
     "name": "stderr",
     "output_type": "stream",
     "text": [
      "Iteration: 100%|██████████| 62/62 [00:02<00:00, 23.57it/s]\n",
      "Iteration: 100%|██████████| 62/62 [00:01<00:00, 32.38it/s]\n",
      "Iteration: 100%|██████████| 62/62 [00:01<00:00, 33.56it/s]\n",
      "Iteration:   0%|          | 0/62 [00:00<?, ?it/s]"
     ]
    },
    {
     "name": "stdout",
     "output_type": "stream",
     "text": [
      "Evaluating...\n"
     ]
    },
    {
     "name": "stderr",
     "output_type": "stream",
     "text": [
      "\r",
      "Iteration:  87%|████████▋ | 54/62 [00:01<00:00, 40.95it/s]\r",
      "Iteration:  32%|███▏      | 20/62 [00:00<00:01, 41.33it/s]\r",
      "Iteration:   8%|▊         | 5/62 [00:00<00:01, 40.92it/s]\r",
      "Iteration:  40%|████      | 25/62 [00:00<00:00, 43.37it/s]\r",
      "Iteration:  95%|█████████▌| 59/62 [00:01<00:00, 41.27it/s]\r",
      "Iteration:  19%|█▉        | 12/62 [00:00<00:00, 53.80it/s]\r",
      "Iteration: 100%|██████████| 62/62 [00:01<00:00, 41.63it/s]\n",
      "\r",
      "Iteration:   0%|          | 0/62 [00:00<?, ?it/s]"
     ]
    },
    {
     "name": "stdout",
     "output_type": "stream",
     "text": [
      "Evaluating...\n"
     ]
    },
    {
     "name": "stderr",
     "output_type": "stream",
     "text": [
      "Iteration: 100%|██████████| 62/62 [00:01<00:00, 33.97it/s]\n",
      "Iteration: 100%|██████████| 62/62 [00:01<00:00, 32.21it/s]\n",
      "Iteration: 100%|██████████| 62/62 [00:01<00:00, 36.10it/s]\n",
      "Iteration: 100%|██████████| 62/62 [00:01<00:00, 31.54it/s]\n",
      "Iteration: 100%|██████████| 62/62 [00:02<00:00, 29.84it/s]\n",
      "Iteration: 100%|██████████| 62/62 [00:01<00:00, 51.49it/s]\n",
      "Iteration: 100%|██████████| 62/62 [00:01<00:00, 56.29it/s]\n",
      "Iteration: 100%|██████████| 62/62 [00:01<00:00, 53.45it/s]\n",
      "Iteration:   6%|▋         | 4/62 [00:00<00:03, 17.91it/s]]"
     ]
    },
    {
     "name": "stdout",
     "output_type": "stream",
     "text": [
      "{'Train':  best_epoch_indx:91\n",
      " auc:0.9548314962674148 \n",
      " apur:0.9422788385862841 \n",
      " f1:0.8625963538480362 \n",
      " precision:0.830290896243081 \n",
      " recall:0.8975175047740293 \n",
      ", 'Validation':  best_epoch_indx:91\n",
      " auc:0.9548315022219258 \n",
      " apur:0.9422788457131928 \n",
      " f1:0.8625963538480362 \n",
      " precision:0.830290896243081 \n",
      " recall:0.8975175047740293 \n",
      ", 'Test':  best_epoch_indx:91\n",
      " auc:0.9548315022219259 \n",
      " apur:0.9422788451890105 \n",
      " f1:0.8625963538480362 \n",
      " precision:0.830290896243081 \n",
      " recall:0.8975175047740293 \n",
      "}\n",
      "=====Epoch 92\n",
      "Training...\n"
     ]
    },
    {
     "name": "stderr",
     "output_type": "stream",
     "text": [
      "Iteration: 100%|██████████| 62/62 [00:01<00:00, 36.47it/s]\n",
      "Iteration: 100%|██████████| 62/62 [00:01<00:00, 38.05it/s]\n",
      "Iteration: 100%|██████████| 62/62 [00:02<00:00, 29.29it/s]\n",
      "Iteration: 100%|██████████| 62/62 [00:01<00:00, 38.35it/s]\n",
      "Iteration:  10%|▉         | 6/62 [00:00<00:00, 58.85it/s]]"
     ]
    },
    {
     "name": "stdout",
     "output_type": "stream",
     "text": [
      "{'Train':  best_epoch_indx:90\n",
      " auc:0.9569206735491772 \n",
      " apur:0.9455296924285764 \n",
      " f1:0.8642129600699869 \n",
      " precision:0.8486745213549337 \n",
      " recall:0.8803309993634627 \n",
      ", 'Validation':  best_epoch_indx:90\n",
      " auc:0.9569206735491772 \n",
      " apur:0.9455296924285764 \n",
      " f1:0.8642129600699869 \n",
      " precision:0.8486745213549337 \n",
      " recall:0.8803309993634627 \n",
      ", 'Test':  best_epoch_indx:90\n",
      " auc:0.9569206735491772 \n",
      " apur:0.9455296924285764 \n",
      " f1:0.8642129600699869 \n",
      " precision:0.8486745213549337 \n",
      " recall:0.8803309993634627 \n",
      "}\n",
      "=====Epoch 91\n",
      "Training...\n",
      "Evaluating...\n"
     ]
    },
    {
     "name": "stderr",
     "output_type": "stream",
     "text": [
      "\r",
      "Iteration:  16%|█▌        | 10/62 [00:00<00:01, 42.17it/s]\r",
      "Iteration:  69%|██████▉   | 43/62 [00:01<00:00, 21.95it/s]\r",
      "Iteration:  21%|██        | 13/62 [00:00<00:00, 61.28it/s]\r",
      "Iteration:   0%|          | 0/62 [00:00<?, ?it/s]\r",
      "Iteration:  74%|███████▍  | 46/62 [00:02<00:00, 21.44it/s]\r",
      "Iteration:  24%|██▍       | 15/62 [00:00<00:01, 35.43it/s]\r",
      "Iteration:  32%|███▏      | 20/62 [00:00<00:00, 51.20it/s]"
     ]
    },
    {
     "name": "stdout",
     "output_type": "stream",
     "text": [
      "{'Train':  best_epoch_indx:92\n",
      " auc:0.9498892341843719 \n",
      " apur:0.9369450296488004 \n",
      " f1:0.8537666174298375 \n",
      " precision:0.8264029548433218 \n",
      " recall:0.883004455760662 \n",
      ", 'Validation':  best_epoch_indx:92\n",
      " auc:0.9498892341843719 \n",
      " apur:0.9369450296488004 \n",
      " f1:0.8537666174298375 \n",
      " precision:0.8264029548433218 \n",
      " recall:0.883004455760662 \n",
      ", 'Test':  best_epoch_indx:92\n",
      " auc:0.9498892341843719 \n",
      " apur:0.9369450296488004 \n",
      " f1:0.8537666174298375 \n",
      " precision:0.8264029548433218 \n",
      " recall:0.883004455760662 \n",
      "}\n",
      "=====Epoch 93\n",
      "Training...\n",
      "{'Train':  best_epoch_indx:96\n",
      " auc:0.9495973212674125 \n",
      " apur:0.9360518961546536 \n",
      " f1:0.8536209553158705 \n",
      " precision:0.8273596176821983 \n",
      " recall:0.8816040738383195 \n",
      ", 'Validation':  best_epoch_indx:96\n",
      " auc:0.9495973212674125 \n",
      " apur:0.9360518961544684 \n",
      " f1:0.8536209553158705 \n",
      " precision:0.8273596176821983 \n",
      " recall:0.8816040738383195 \n",
      ", 'Test':  best_epoch_indx:96\n",
      " auc:0.9495973212674125 \n",
      " apur:0.9360518961544684 \n",
      " f1:0.8536209553158705 \n",
      " precision:0.8273596176821983 \n",
      " recall:0.8816040738383195 \n",
      "}\n",
      "=====Epoch 97\n",
      "Training...\n"
     ]
    },
    {
     "name": "stderr",
     "output_type": "stream",
     "text": [
      "Iteration: 100%|██████████| 62/62 [00:02<00:00, 21.14it/s]\n",
      "Iteration: 100%|██████████| 62/62 [00:01<00:00, 47.64it/s]\n",
      "Iteration: 100%|██████████| 62/62 [00:01<00:00, 33.84it/s]\n",
      "Iteration:   0%|          | 0/62 [00:00<?, ?it/s]"
     ]
    },
    {
     "name": "stdout",
     "output_type": "stream",
     "text": [
      "{'Train':  best_epoch_indx:90\n",
      " auc:0.953944047840924 \n",
      " apur:0.9420235100559997 \n",
      " f1:0.8626572033370689 \n",
      " precision:0.8441574265870598 \n",
      " recall:0.8819859961807766 \n",
      ", 'Validation':  best_epoch_indx:90\n",
      " auc:0.953944047840924 \n",
      " apur:0.9420235100559997 \n",
      " f1:0.8626572033370689 \n",
      " precision:0.8441574265870598 \n",
      " recall:0.8819859961807766 \n",
      ", 'Test':  best_epoch_indx:90\n",
      " auc:0.953944047840924 \n",
      " apur:0.9420235100559997 \n",
      " f1:0.8626572033370689 \n",
      " precision:0.8441574265870598 \n",
      " recall:0.8819859961807766 \n",
      "}\n",
      "=====Epoch 91\n",
      "Training...\n",
      "Evaluating...\n"
     ]
    },
    {
     "name": "stderr",
     "output_type": "stream",
     "text": [
      "Iteration: 100%|██████████| 62/62 [00:01<00:00, 38.36it/s]\n",
      "Iteration:  16%|█▌        | 10/62 [00:00<00:01, 41.34it/s]"
     ]
    },
    {
     "name": "stdout",
     "output_type": "stream",
     "text": [
      "Evaluating...\n"
     ]
    },
    {
     "name": "stderr",
     "output_type": "stream",
     "text": [
      "Iteration: 100%|██████████| 62/62 [00:02<00:00, 26.98it/s]\n",
      "Iteration:  48%|████▊     | 30/62 [00:00<00:00, 40.96it/s]"
     ]
    },
    {
     "name": "stdout",
     "output_type": "stream",
     "text": [
      "Evaluating...\n"
     ]
    },
    {
     "name": "stderr",
     "output_type": "stream",
     "text": [
      "Iteration: 100%|██████████| 62/62 [00:01<00:00, 40.69it/s]\n",
      "Iteration: 100%|██████████| 62/62 [00:02<00:00, 28.18it/s]\n",
      "Iteration:  73%|███████▎  | 45/62 [00:01<00:00, 33.75it/s]"
     ]
    },
    {
     "name": "stdout",
     "output_type": "stream",
     "text": [
      "Evaluating...\n"
     ]
    },
    {
     "name": "stderr",
     "output_type": "stream",
     "text": [
      "Iteration: 100%|██████████| 62/62 [00:02<00:00, 27.02it/s]\n",
      "Iteration: 100%|██████████| 62/62 [00:02<00:00, 27.23it/s]\n",
      "Iteration: 100%|██████████| 62/62 [00:02<00:00, 30.20it/s]\n",
      "Iteration: 100%|██████████| 62/62 [00:01<00:00, 51.15it/s]\n",
      "Iteration:   8%|▊         | 5/62 [00:00<00:01, 42.88it/s]]"
     ]
    },
    {
     "name": "stdout",
     "output_type": "stream",
     "text": [
      "{'Train':  best_epoch_indx:92\n",
      " auc:0.9506859179980458 \n",
      " apur:0.9375272379506218 \n",
      " f1:0.8553490089868275 \n",
      " precision:0.8280300321773328 \n",
      " recall:0.8845321451304902 \n",
      ", 'Validation':  best_epoch_indx:92\n",
      " auc:0.9506859179980458 \n",
      " apur:0.9375272379506218 \n",
      " f1:0.8553490089868275 \n",
      " precision:0.8280300321773328 \n",
      " recall:0.8845321451304902 \n",
      ", 'Test':  best_epoch_indx:92\n",
      " auc:0.9506859179980458 \n",
      " apur:0.9375272379506218 \n",
      " f1:0.8553490089868275 \n",
      " precision:0.8280300321773328 \n",
      " recall:0.8845321451304902 \n",
      "}\n",
      "=====Epoch 93\n",
      "Training...\n"
     ]
    },
    {
     "name": "stderr",
     "output_type": "stream",
     "text": [
      "Iteration: 100%|██████████| 62/62 [00:02<00:00, 22.16it/s]\n",
      "Iteration: 100%|██████████| 62/62 [00:01<00:00, 33.78it/s]\n",
      "Iteration: 100%|██████████| 62/62 [00:02<00:00, 26.43it/s]\n",
      "Iteration: 100%|██████████| 62/62 [00:02<00:00, 21.51it/s]\n",
      "Iteration: 100%|██████████| 62/62 [00:01<00:00, 33.80it/s]\n",
      "Iteration:  11%|█▏        | 7/62 [00:00<00:01, 30.28it/s]]"
     ]
    },
    {
     "name": "stdout",
     "output_type": "stream",
     "text": [
      "Evaluating...\n"
     ]
    },
    {
     "name": "stderr",
     "output_type": "stream",
     "text": [
      "Iteration: 100%|██████████| 62/62 [00:01<00:00, 60.84it/s]\n",
      "Iteration: 100%|██████████| 62/62 [00:01<00:00, 35.70it/s]\n",
      "Iteration: 100%|██████████| 62/62 [00:02<00:00, 30.88it/s]\n",
      "Iteration:  45%|████▌     | 28/62 [00:00<00:00, 48.93it/s]"
     ]
    },
    {
     "name": "stdout",
     "output_type": "stream",
     "text": [
      "{'Train':  best_epoch_indx:97\n",
      " auc:0.9521910095263819 \n",
      " apur:0.938618736696734 \n",
      " f1:0.8549721218062619 \n",
      " precision:0.824120009449563 \n",
      " recall:0.8882240611075748 \n",
      ", 'Validation':  best_epoch_indx:97\n",
      " auc:0.9521910095263819 \n",
      " apur:0.938618736696734 \n",
      " f1:0.8549721218062619 \n",
      " precision:0.824120009449563 \n",
      " recall:0.8882240611075748 \n",
      ", 'Test':  best_epoch_indx:97\n",
      " auc:0.9521910095263819 \n",
      " apur:0.938618736696734 \n",
      " f1:0.8549721218062619 \n",
      " precision:0.824120009449563 \n",
      " recall:0.8882240611075748 \n",
      "}\n",
      "=====Epoch 98\n",
      "Training...\n"
     ]
    },
    {
     "name": "stderr",
     "output_type": "stream",
     "text": [
      "Iteration: 100%|██████████| 62/62 [00:03<00:00, 18.40it/s]\n",
      "Iteration:  76%|███████▌  | 47/62 [00:01<00:00, 24.52it/s]"
     ]
    },
    {
     "name": "stdout",
     "output_type": "stream",
     "text": [
      "{'Train':  best_epoch_indx:93\n",
      " auc:0.946011728005078 \n",
      " apur:0.9313427692480205 \n",
      " f1:0.8475904721082604 \n",
      " precision:0.8165408211420482 \n",
      " recall:0.8810948440483768 \n",
      ", 'Validation':  best_epoch_indx:93\n",
      " auc:0.946011728005078 \n",
      " apur:0.9313427692480205 \n",
      " f1:0.8475904721082604 \n",
      " precision:0.8165408211420482 \n",
      " recall:0.8810948440483768 \n",
      ", 'Test':  best_epoch_indx:93\n",
      " auc:0.946011728005078 \n",
      " apur:0.9313427692480205 \n",
      " f1:0.8475904721082604 \n",
      " precision:0.8165408211420482 \n",
      " recall:0.8810948440483768 \n",
      "}\n",
      "=====Epoch 94\n",
      "Training...\n"
     ]
    },
    {
     "name": "stderr",
     "output_type": "stream",
     "text": [
      "Iteration: 100%|██████████| 62/62 [00:01<00:00, 45.47it/s]\n",
      "Iteration: 100%|██████████| 62/62 [00:02<00:00, 26.02it/s]\n",
      "Iteration: 100%|██████████| 62/62 [00:01<00:00, 38.14it/s]\n",
      "Iteration:   6%|▋         | 4/62 [00:00<00:01, 39.35it/s]]"
     ]
    },
    {
     "name": "stdout",
     "output_type": "stream",
     "text": [
      "Evaluating...\n"
     ]
    },
    {
     "name": "stderr",
     "output_type": "stream",
     "text": [
      "Iteration: 100%|██████████| 62/62 [00:01<00:00, 37.86it/s]\n",
      "Iteration:  32%|███▏      | 20/62 [00:00<00:01, 24.40it/s]"
     ]
    },
    {
     "name": "stdout",
     "output_type": "stream",
     "text": [
      "Evaluating...\n"
     ]
    },
    {
     "name": "stderr",
     "output_type": "stream",
     "text": [
      "\r",
      "Iteration:   6%|▋         | 4/62 [00:00<00:01, 32.06it/s]\r",
      "Iteration:  39%|███▊      | 24/62 [00:00<00:00, 41.80it/s]\r",
      "Iteration:  58%|█████▊    | 36/62 [00:00<00:00, 54.53it/s]\r",
      "Iteration:  37%|███▋      | 23/62 [00:00<00:01, 24.32it/s]\r",
      "Iteration:   0%|          | 0/62 [00:00<?, ?it/s]\r",
      "Iteration:  13%|█▎        | 8/62 [00:00<00:01, 28.99it/s]"
     ]
    },
    {
     "name": "stdout",
     "output_type": "stream",
     "text": [
      "{'Train':  best_epoch_indx:91\n",
      " auc:0.9517164620535017 \n",
      " apur:0.9395869388456443 \n",
      " f1:0.8542385411532775 \n",
      " precision:0.8276232541482631 \n",
      " recall:0.882622533418205 \n",
      ", 'Validation':  best_epoch_indx:91\n",
      " auc:0.9517164620535017 \n",
      " apur:0.9395869388456443 \n",
      " f1:0.8542385411532775 \n",
      " precision:0.8276232541482631 \n",
      " recall:0.882622533418205 \n",
      ", 'Test':  best_epoch_indx:91\n",
      " auc:0.9517164620535017 \n",
      " apur:0.9395869388456443 \n",
      " f1:0.8542385411532775 \n",
      " precision:0.8276232541482631 \n",
      " recall:0.882622533418205 \n",
      "}\n",
      "=====Epoch 92\n",
      "Training...\n"
     ]
    },
    {
     "name": "stderr",
     "output_type": "stream",
     "text": [
      "Iteration: 100%|██████████| 62/62 [00:01<00:00, 46.01it/s]\n",
      "Iteration: 100%|██████████| 62/62 [00:01<00:00, 35.91it/s]\n",
      "Iteration:  65%|██████▍   | 40/62 [00:01<00:00, 27.95it/s]"
     ]
    },
    {
     "name": "stdout",
     "output_type": "stream",
     "text": [
      "{'Train':  best_epoch_indx:93\n",
      " auc:0.9427473876071142 \n",
      " apur:0.9277748949471959 \n",
      " f1:0.8412059074819969 \n",
      " precision:0.8078771539092721 \n",
      " recall:0.8774029280712922 \n",
      ", 'Validation':  best_epoch_indx:93\n",
      " auc:0.9427473935616254 \n",
      " apur:0.9277749011755634 \n",
      " f1:0.8412059074819969 \n",
      " precision:0.8078771539092721 \n",
      " recall:0.8774029280712922 \n",
      ", 'Test':  best_epoch_indx:93\n",
      " auc:0.9427473935616254 \n",
      " apur:0.9277749011755634 \n",
      " f1:0.8412059074819969 \n",
      " precision:0.8078771539092721 \n",
      " recall:0.8774029280712922 \n",
      "}\n",
      "=====Epoch 94\n",
      "Training...\n"
     ]
    },
    {
     "name": "stderr",
     "output_type": "stream",
     "text": [
      "Iteration: 100%|██████████| 62/62 [00:02<00:00, 22.65it/s]\n",
      "Iteration: 100%|██████████| 62/62 [00:02<00:00, 30.37it/s]\n",
      "Iteration: 100%|██████████| 62/62 [00:02<00:00, 28.50it/s]\n",
      "Iteration:   3%|▎         | 2/62 [00:00<00:03, 19.70it/s]]"
     ]
    },
    {
     "name": "stdout",
     "output_type": "stream",
     "text": [
      "Evaluating...\n",
      "{'Train':  best_epoch_indx:91\n",
      " auc:0.9516837035153648 \n",
      " apur:0.9386998085046194 \n",
      " f1:0.8580480834938188 \n",
      " precision:0.837903421499636 \n",
      " recall:0.8791852323360917 \n",
      ", 'Validation':  best_epoch_indx:91\n",
      " auc:0.9516836975608537 \n",
      " apur:0.9386998042059825 \n",
      " f1:0.8580480834938188 \n",
      " precision:0.837903421499636 \n",
      " recall:0.8791852323360917 \n",
      ", 'Test':  best_epoch_indx:91\n",
      " auc:0.9516837035153648 \n",
      " apur:0.9386998085046194 \n",
      " f1:0.8580480834938188 \n",
      " precision:0.837903421499636 \n",
      " recall:0.8791852323360917 \n",
      "}\n",
      "=====Epoch 92\n",
      "Training...\n"
     ]
    },
    {
     "name": "stderr",
     "output_type": "stream",
     "text": [
      "Iteration: 100%|██████████| 62/62 [00:01<00:00, 36.31it/s]\n",
      "Iteration:  71%|███████   | 44/62 [00:01<00:00, 32.22it/s]"
     ]
    },
    {
     "name": "stdout",
     "output_type": "stream",
     "text": [
      "Evaluating...\n"
     ]
    },
    {
     "name": "stderr",
     "output_type": "stream",
     "text": [
      "Iteration: 100%|██████████| 62/62 [00:01<00:00, 33.79it/s]\n",
      "Iteration:  97%|█████████▋| 60/62 [00:02<00:00, 18.51it/s]"
     ]
    },
    {
     "name": "stdout",
     "output_type": "stream",
     "text": [
      "Evaluating...\n"
     ]
    },
    {
     "name": "stderr",
     "output_type": "stream",
     "text": [
      "Iteration: 100%|██████████| 62/62 [00:02<00:00, 25.30it/s]\n",
      "Iteration: 100%|██████████| 62/62 [00:01<00:00, 31.82it/s]\n",
      "Iteration: 100%|██████████| 62/62 [00:02<00:00, 26.85it/s]\n",
      "Iteration: 100%|██████████| 62/62 [00:02<00:00, 21.81it/s]\n",
      "Iteration: 100%|██████████| 62/62 [00:01<00:00, 34.27it/s]\n",
      "Iteration: 100%|██████████| 62/62 [00:01<00:00, 37.88it/s]\n",
      "Iteration: 100%|██████████| 62/62 [00:02<00:00, 30.07it/s]\n",
      "Iteration: 100%|██████████| 62/62 [00:02<00:00, 27.19it/s]\n",
      "Iteration:   6%|▋         | 4/62 [00:00<00:01, 39.71it/s]]"
     ]
    },
    {
     "name": "stdout",
     "output_type": "stream",
     "text": [
      "{'Train':  best_epoch_indx:98\n",
      " auc:0.961167149295167 \n",
      " apur:0.9500175854958965 \n",
      " f1:0.8717725377963044 \n",
      " precision:0.8525188610367486 \n",
      " recall:0.8919159770846594 \n",
      ", 'Validation':  best_epoch_indx:98\n",
      " auc:0.961167149295167 \n",
      " apur:0.9500175854958965 \n",
      " f1:0.8717725377963044 \n",
      " precision:0.8525188610367486 \n",
      " recall:0.8919159770846594 \n",
      ", 'Test':  best_epoch_indx:98\n",
      " auc:0.961167149295167 \n",
      " apur:0.9500175854958965 \n",
      " f1:0.8717725377963044 \n",
      " precision:0.8525188610367486 \n",
      " recall:0.8919159770846594 \n",
      "}\n",
      "=====Epoch 99\n",
      "Training...\n"
     ]
    },
    {
     "name": "stderr",
     "output_type": "stream",
     "text": [
      "Iteration: 100%|██████████| 62/62 [00:02<00:00, 23.02it/s]\n",
      "Iteration: 100%|██████████| 62/62 [00:01<00:00, 35.06it/s]\n",
      "Iteration:   0%|          | 0/62 [00:00<?, ?it/s]"
     ]
    },
    {
     "name": "stdout",
     "output_type": "stream",
     "text": [
      "{'Train':  best_epoch_indx:94\n",
      " auc:0.9371333018538179 \n",
      " apur:0.9213172942561074 \n",
      " f1:0.8315602836879432 \n",
      " precision:0.8272647095880056 \n",
      " recall:0.8359007001909612 \n",
      ", 'Validation':  best_epoch_indx:94\n",
      " auc:0.937133307808329 \n",
      " apur:0.9213172973757594 \n",
      " f1:0.8315602836879432 \n",
      " precision:0.8272647095880056 \n",
      " recall:0.8359007001909612 \n",
      ", 'Test':  best_epoch_indx:94\n",
      " auc:0.937133307808329 \n",
      " apur:0.9213172973757594 \n",
      " f1:0.8315602836879432 \n",
      " precision:0.8272647095880056 \n",
      " recall:0.8359007001909612 \n",
      "}\n",
      "=====Epoch 95\n",
      "Training...\n"
     ]
    },
    {
     "name": "stderr",
     "output_type": "stream",
     "text": [
      "Iteration: 100%|██████████| 62/62 [00:01<00:00, 39.65it/s]\n",
      "Iteration:  63%|██████▎   | 39/62 [00:00<00:00, 43.49it/s]"
     ]
    },
    {
     "name": "stdout",
     "output_type": "stream",
     "text": [
      "Evaluating...\n"
     ]
    },
    {
     "name": "stderr",
     "output_type": "stream",
     "text": [
      "Iteration: 100%|██████████| 62/62 [00:01<00:00, 43.02it/s]\n",
      "Iteration:   6%|▋         | 4/62 [00:00<00:01, 32.19it/s]]"
     ]
    },
    {
     "name": "stdout",
     "output_type": "stream",
     "text": [
      "Evaluating...\n"
     ]
    },
    {
     "name": "stderr",
     "output_type": "stream",
     "text": [
      "Iteration: 100%|██████████| 62/62 [00:01<00:00, 32.31it/s]\n",
      "Iteration: 100%|██████████| 62/62 [00:02<00:00, 29.20it/s]\n",
      "Iteration: 100%|██████████| 62/62 [00:01<00:00, 35.84it/s]\n",
      "Iteration:   5%|▍         | 3/62 [00:00<00:02, 26.52it/s]]"
     ]
    },
    {
     "name": "stdout",
     "output_type": "stream",
     "text": [
      "{'Train':  best_epoch_indx:94\n",
      " auc:0.9403480173562089 \n",
      " apur:0.9239102228011433 \n",
      " f1:0.8391668193757253 \n",
      " precision:0.806599342414279 \n",
      " recall:0.8744748567791216 \n",
      ", 'Validation':  best_epoch_indx:94\n",
      " auc:0.9403480173562089 \n",
      " apur:0.9239102228011433 \n",
      " f1:0.8391668193757253 \n",
      " precision:0.806599342414279 \n",
      " recall:0.8744748567791216 \n",
      ", 'Test':  best_epoch_indx:94\n",
      " auc:0.9403480173562089 \n",
      " apur:0.9239102228011433 \n",
      " f1:0.8391668193757253 \n",
      " precision:0.806599342414279 \n",
      " recall:0.8744748567791216 \n",
      "}\n",
      "=====Epoch 95\n",
      "Training...\n"
     ]
    },
    {
     "name": "stderr",
     "output_type": "stream",
     "text": [
      "\r",
      "Iteration:  90%|█████████ | 56/62 [00:01<00:00, 35.27it/s]\r",
      "Iteration:  85%|████████▌ | 53/62 [00:01<00:00, 44.72it/s]\r",
      "Iteration:  11%|█▏        | 7/62 [00:00<00:01, 31.82it/s]\r",
      "Iteration:  97%|█████████▋| 60/62 [00:01<00:00, 50.37it/s]\r",
      "Iteration:  97%|█████████▋| 60/62 [00:02<00:00, 33.46it/s]\r",
      "Iteration: 100%|██████████| 62/62 [00:01<00:00, 37.99it/s]\n",
      "\r",
      "Iteration: 100%|██████████| 62/62 [00:02<00:00, 30.17it/s]\n",
      "\r",
      "Iteration:  18%|█▊        | 11/62 [00:00<00:01, 32.51it/s]\r",
      "Iteration:   0%|          | 0/62 [00:00<?, ?it/s]"
     ]
    },
    {
     "name": "stdout",
     "output_type": "stream",
     "text": [
      "{'Train':  best_epoch_indx:92\n",
      " auc:0.9488164450875123 \n",
      " apur:0.9356706943091733 \n",
      " f1:0.8508728179551124 \n",
      " precision:0.8337202199144778 \n",
      " recall:0.8687460216422661 \n",
      ", 'Validation':  best_epoch_indx:92\n",
      " auc:0.9488164510425805 \n",
      " apur:0.9356706998978472 \n",
      " f1:0.8508728179551124 \n",
      " precision:0.8337202199144778 \n",
      " recall:0.8687460216422661 \n",
      ", 'Test':  best_epoch_indx:92\n",
      " auc:0.9488164510425805 \n",
      " apur:0.9356706998978472 \n",
      " f1:0.8508728179551124 \n",
      " precision:0.8337202199144778 \n",
      " recall:0.8687460216422661 \n",
      "}\n",
      "=====Epoch 93\n",
      "Training...\n"
     ]
    },
    {
     "name": "stderr",
     "output_type": "stream",
     "text": [
      "Iteration:  50%|█████     | 31/62 [00:01<00:01, 28.72it/s]"
     ]
    },
    {
     "name": "stdout",
     "output_type": "stream",
     "text": [
      "{'Train':  best_epoch_indx:92\n",
      " auc:0.9461683078291698 \n",
      " apur:0.9322064917110188 \n",
      " f1:0.8455419079742887 \n",
      " precision:0.8453805039450242 \n",
      " recall:0.8457033736473584 \n",
      ", 'Validation':  best_epoch_indx:92\n",
      " auc:0.9461683078291698 \n",
      " apur:0.9322064917110188 \n",
      " f1:0.8455419079742887 \n",
      " precision:0.8453805039450242 \n",
      " recall:0.8457033736473584 \n",
      ", 'Test':  best_epoch_indx:92\n",
      " auc:0.9461683078291698 \n",
      " apur:0.9322064917110188 \n",
      " f1:0.8455419079742887 \n",
      " precision:0.8453805039450242 \n",
      " recall:0.8457033736473584 \n",
      "}\n",
      "=====Epoch 93\n",
      "Training...\n"
     ]
    },
    {
     "name": "stderr",
     "output_type": "stream",
     "text": [
      "Iteration: 100%|██████████| 62/62 [00:01<00:00, 32.15it/s]\n",
      "Iteration:   0%|          | 0/62 [00:00<?, ?it/s]"
     ]
    },
    {
     "name": "stdout",
     "output_type": "stream",
     "text": [
      "Evaluating...\n"
     ]
    },
    {
     "name": "stderr",
     "output_type": "stream",
     "text": [
      "Iteration: 100%|██████████| 62/62 [00:01<00:00, 36.75it/s]\n",
      "Iteration: 100%|██████████| 62/62 [00:01<00:00, 36.78it/s]\n",
      "Iteration: 100%|██████████| 62/62 [00:02<00:00, 26.77it/s]\n",
      "Iteration:   5%|▍         | 3/62 [00:00<00:02, 25.22it/s]]"
     ]
    },
    {
     "name": "stdout",
     "output_type": "stream",
     "text": [
      "Evaluating...\n"
     ]
    },
    {
     "name": "stderr",
     "output_type": "stream",
     "text": [
      "Iteration: 100%|██████████| 62/62 [00:02<00:00, 27.93it/s]\n",
      "Iteration:  13%|█▎        | 8/62 [00:00<00:02, 21.41it/s]]"
     ]
    },
    {
     "name": "stdout",
     "output_type": "stream",
     "text": [
      "Evaluating...\n"
     ]
    },
    {
     "name": "stderr",
     "output_type": "stream",
     "text": [
      "Iteration: 100%|██████████| 62/62 [00:01<00:00, 32.02it/s]\n",
      "Iteration: 100%|██████████| 62/62 [00:01<00:00, 34.61it/s]\n",
      "Iteration: 100%|██████████| 62/62 [00:02<00:00, 26.44it/s]\n",
      "Iteration: 100%|██████████| 62/62 [00:01<00:00, 31.86it/s]\n",
      "Iteration: 100%|██████████| 62/62 [00:02<00:00, 22.49it/s]\n",
      "Iteration:  94%|█████████▎| 58/62 [00:01<00:00, 35.86it/s]"
     ]
    },
    {
     "name": "stdout",
     "output_type": "stream",
     "text": [
      "{'Train':  best_epoch_indx:95\n",
      " auc:0.9458901249792336 \n",
      " apur:0.9291051151341527 \n",
      " f1:0.8462262375305853 \n",
      " precision:0.8342404750123701 \n",
      " recall:0.8585614258434119 \n",
      ", 'Validation':  best_epoch_indx:95\n",
      " auc:0.9458901249792336 \n",
      " apur:0.9291051151341527 \n",
      " f1:0.8462262375305853 \n",
      " precision:0.8342404750123701 \n",
      " recall:0.8585614258434119 \n",
      ", 'Test':  best_epoch_indx:95\n",
      " auc:0.9458901249792336 \n",
      " apur:0.9291051151341527 \n",
      " f1:0.8462262375305853 \n",
      " precision:0.8342404750123701 \n",
      " recall:0.8585614258434119 \n",
      "}\n",
      "=====Epoch 96\n",
      "Training...\n"
     ]
    },
    {
     "name": "stderr",
     "output_type": "stream",
     "text": [
      "Iteration: 100%|██████████| 62/62 [00:01<00:00, 34.66it/s]\n",
      "Iteration: 100%|██████████| 62/62 [00:01<00:00, 45.10it/s]\n",
      "Iteration: 100%|██████████| 62/62 [00:01<00:00, 34.76it/s]\n",
      "Iteration: 100%|██████████| 62/62 [00:01<00:00, 34.07it/s]\n",
      "Iteration:  39%|███▊      | 24/62 [00:00<00:01, 31.24it/s]"
     ]
    },
    {
     "name": "stdout",
     "output_type": "stream",
     "text": [
      "Evaluating...\n"
     ]
    },
    {
     "name": "stderr",
     "output_type": "stream",
     "text": [
      "Iteration:  65%|██████▍   | 40/62 [00:01<00:00, 40.94it/s]"
     ]
    },
    {
     "name": "stdout",
     "output_type": "stream",
     "text": [
      "{'Train':  best_epoch_indx:99\n",
      " auc:0.963860793373486 \n",
      " apur:0.9533030594744252 \n",
      " f1:0.8774451596775201 \n",
      " precision:0.8617726491529585 \n",
      " recall:0.893698281349459 \n",
      ", 'Validation':  best_epoch_indx:99\n",
      " auc:0.963860793373486 \n",
      " apur:0.9533030594744252 \n",
      " f1:0.8774451596775201 \n",
      " precision:0.8617726491529585 \n",
      " recall:0.893698281349459 \n",
      ", 'Test':  best_epoch_indx:99\n",
      " auc:0.9638607874184177 \n",
      " apur:0.9533030517437844 \n",
      " f1:0.8774451596775201 \n",
      " precision:0.8617726491529585 \n",
      " recall:0.893698281349459 \n",
      "}\n",
      "Finished training!\n"
     ]
    },
    {
     "name": "stderr",
     "output_type": "stream",
     "text": [
      "Iteration: 100%|██████████| 62/62 [00:01<00:00, 39.06it/s]\n",
      "Iteration: 100%|██████████| 62/62 [00:01<00:00, 39.45it/s]\n",
      "Iteration: 100%|██████████| 62/62 [00:02<00:00, 26.85it/s]\n",
      "Iteration:   0%|          | 0/62 [00:00<?, ?it/s]3.26it/s]"
     ]
    },
    {
     "name": "stdout",
     "output_type": "stream",
     "text": [
      "{'Train':  best_epoch_indx:93\n",
      " auc:0.9426872804924651 \n",
      " apur:0.9276389581398129 \n",
      " f1:0.8386167146974063 \n",
      " precision:0.7935461879331894 \n",
      " recall:0.8891152132399746 \n",
      ", 'Validation':  best_epoch_indx:93\n",
      " auc:0.9426872804924651 \n",
      " apur:0.9276389581398129 \n",
      " f1:0.8386167146974063 \n",
      " precision:0.7935461879331894 \n",
      " recall:0.8891152132399746 \n",
      ", 'Test':  best_epoch_indx:93\n",
      " auc:0.9426872804924651 \n",
      " apur:0.9276389581398129 \n",
      " f1:0.8386167146974063 \n",
      " precision:0.7935461879331894 \n",
      " recall:0.8891152132399746 \n",
      "}\n",
      "=====Epoch 94\n",
      "Training...\n"
     ]
    },
    {
     "name": "stderr",
     "output_type": "stream",
     "text": [
      "Iteration:  24%|██▍       | 15/62 [00:00<00:01, 42.05it/s]"
     ]
    },
    {
     "name": "stdout",
     "output_type": "stream",
     "text": [
      "{'Train':  best_epoch_indx:95\n",
      " auc:0.9405837385874352 \n",
      " apur:0.925119039492482 \n",
      " f1:0.8403982217769707 \n",
      " precision:0.8268851651059635 \n",
      " recall:0.8543602800763844 \n",
      ", 'Validation':  best_epoch_indx:95\n",
      " auc:0.9405837385874352 \n",
      " apur:0.925119039492482 \n",
      " f1:0.8403982217769707 \n",
      " precision:0.8268851651059635 \n",
      " recall:0.8543602800763844 \n",
      ", 'Test':  best_epoch_indx:95\n",
      " auc:0.9405837385874352 \n",
      " apur:0.925119039492482 \n",
      " f1:0.8403982217769707 \n",
      " precision:0.8268851651059635 \n",
      " recall:0.8543602800763844 \n",
      "}\n",
      "=====Epoch 96\n",
      "Training...\n"
     ]
    },
    {
     "name": "stderr",
     "output_type": "stream",
     "text": [
      "Iteration: 100%|██████████| 62/62 [00:01<00:00, 34.73it/s]\n",
      "Iteration:   0%|          | 0/62 [00:00<?, ?it/s]2.97it/s]"
     ]
    },
    {
     "name": "stdout",
     "output_type": "stream",
     "text": [
      "{'Train':  best_epoch_indx:93\n",
      " auc:0.9426538720101655 \n",
      " apur:0.9271416353307746 \n",
      " f1:0.8431335946736357 \n",
      " precision:0.8246105160662123 \n",
      " recall:0.8625079567154679 \n",
      ", 'Validation':  best_epoch_indx:93\n",
      " auc:0.9426538720101655 \n",
      " apur:0.9271416353307746 \n",
      " f1:0.8431335946736357 \n",
      " precision:0.8246105160662123 \n",
      " recall:0.8625079567154679 \n",
      ", 'Test':  best_epoch_indx:93\n",
      " auc:0.9426538720101655 \n",
      " apur:0.9271416353307746 \n",
      " f1:0.8431335946736357 \n",
      " precision:0.8246105160662123 \n",
      " recall:0.8625079567154679 \n",
      "}\n",
      "=====Epoch 94\n",
      "Training...\n"
     ]
    },
    {
     "name": "stderr",
     "output_type": "stream",
     "text": [
      "Iteration: 100%|██████████| 62/62 [00:01<00:00, 39.82it/s]\n",
      "Iteration: 100%|██████████| 62/62 [00:01<00:00, 35.15it/s]\n",
      "Iteration:  24%|██▍       | 15/62 [00:00<00:01, 35.69it/s]"
     ]
    },
    {
     "name": "stdout",
     "output_type": "stream",
     "text": [
      "Evaluating...\n"
     ]
    },
    {
     "name": "stderr",
     "output_type": "stream",
     "text": [
      "Iteration: 100%|██████████| 62/62 [00:01<00:00, 31.09it/s]\n",
      "Iteration:  15%|█▍        | 9/62 [00:00<00:01, 37.97it/s]]"
     ]
    },
    {
     "name": "stdout",
     "output_type": "stream",
     "text": [
      "Evaluating...\n"
     ]
    },
    {
     "name": "stderr",
     "output_type": "stream",
     "text": [
      "Iteration: 100%|██████████| 62/62 [00:01<00:00, 42.64it/s]\n",
      "Iteration: 100%|██████████| 62/62 [00:01<00:00, 32.76it/s]\n",
      "Iteration:   6%|▋         | 4/62 [00:00<00:01, 31.81it/s]]"
     ]
    },
    {
     "name": "stdout",
     "output_type": "stream",
     "text": [
      "Evaluating...\n"
     ]
    },
    {
     "name": "stderr",
     "output_type": "stream",
     "text": [
      "Iteration: 100%|██████████| 62/62 [00:01<00:00, 41.75it/s]\n",
      "Iteration: 100%|██████████| 62/62 [00:01<00:00, 35.53it/s]\n",
      "Iteration:  16%|█▌        | 10/62 [00:00<00:02, 23.40it/s]"
     ]
    },
    {
     "name": "stdout",
     "output_type": "stream",
     "text": [
      "{'Train':  best_epoch_indx:96\n",
      " auc:0.9509203828274282 \n",
      " apur:0.9374039673401119 \n",
      " f1:0.8528798128595816 \n",
      " precision:0.8471489575483547 \n",
      " recall:0.8586887332908976 \n",
      ", 'Validation':  best_epoch_indx:96\n",
      " auc:0.9509203828274282 \n",
      " apur:0.9374039673401119 \n",
      " f1:0.8528798128595816 \n",
      " precision:0.8471489575483547 \n",
      " recall:0.8586887332908976 \n",
      ", 'Test':  best_epoch_indx:96\n",
      " auc:0.9509203887819392 \n",
      " apur:0.9374039741833755 \n",
      " f1:0.8528798128595816 \n",
      " precision:0.8471489575483547 \n",
      " recall:0.8586887332908976 \n",
      "}\n",
      "=====Epoch 97\n",
      "Training...\n"
     ]
    },
    {
     "name": "stderr",
     "output_type": "stream",
     "text": [
      "Iteration: 100%|██████████| 62/62 [00:01<00:00, 35.32it/s]\n",
      "Iteration: 100%|██████████| 62/62 [00:01<00:00, 36.03it/s]\n",
      "Iteration: 100%|██████████| 62/62 [00:01<00:00, 33.04it/s]\n",
      "Iteration:  66%|██████▌   | 41/62 [00:01<00:00, 37.58it/s]"
     ]
    },
    {
     "name": "stdout",
     "output_type": "stream",
     "text": [
      "Evaluating...\n"
     ]
    },
    {
     "name": "stderr",
     "output_type": "stream",
     "text": [
      "Iteration: 100%|██████████| 62/62 [00:01<00:00, 34.55it/s]\n",
      "Iteration: 100%|██████████| 62/62 [00:01<00:00, 35.07it/s]\n",
      "Iteration: 100%|██████████| 62/62 [00:01<00:00, 41.49it/s]\n",
      "Iteration: 100%|██████████| 62/62 [00:02<00:00, 28.59it/s]\n",
      "Iteration:   6%|▋         | 4/62 [00:00<00:01, 29.41it/s]]"
     ]
    },
    {
     "name": "stdout",
     "output_type": "stream",
     "text": [
      "{'Train':  best_epoch_indx:94\n",
      " auc:0.9436046349248433 \n",
      " apur:0.9285284648631914 \n",
      " f1:0.8423489278752437 \n",
      " precision:0.8076159327181404 \n",
      " recall:0.8802036919159771 \n",
      ", 'Validation':  best_epoch_indx:94\n",
      " auc:0.9436046349248433 \n",
      " apur:0.9285284648631914 \n",
      " f1:0.8423489278752437 \n",
      " precision:0.8076159327181404 \n",
      " recall:0.8802036919159771 \n",
      ", 'Test':  best_epoch_indx:94\n",
      " auc:0.9436046349248433 \n",
      " apur:0.9285284648631914 \n",
      " f1:0.8423489278752437 \n",
      " precision:0.8076159327181404 \n",
      " recall:0.8802036919159771 \n",
      "}\n",
      "=====Epoch 95\n",
      "Training...\n"
     ]
    },
    {
     "name": "stderr",
     "output_type": "stream",
     "text": [
      "Iteration: 100%|██████████| 62/62 [00:01<00:00, 32.09it/s]\n",
      "Iteration: 100%|██████████| 62/62 [00:01<00:00, 37.41it/s]\n",
      "Iteration: 100%|██████████| 62/62 [00:01<00:00, 35.14it/s]\n",
      "Iteration:   8%|▊         | 5/62 [00:00<00:01, 49.31it/s]]"
     ]
    },
    {
     "name": "stdout",
     "output_type": "stream",
     "text": [
      "Evaluating...\n"
     ]
    },
    {
     "name": "stderr",
     "output_type": "stream",
     "text": [
      "Iteration:  50%|█████     | 31/62 [00:00<00:00, 49.55it/s]"
     ]
    },
    {
     "name": "stdout",
     "output_type": "stream",
     "text": [
      "{'Train':  best_epoch_indx:96\n",
      " auc:0.9490966947104291 \n",
      " apur:0.9356523566820942 \n",
      " f1:0.8530020703933748 \n",
      " precision:0.8409203364670955 \n",
      " recall:0.8654360280076384 \n",
      ", 'Validation':  best_epoch_indx:96\n",
      " auc:0.9490966947104292 \n",
      " apur:0.9356523566819154 \n",
      " f1:0.8530020703933748 \n",
      " precision:0.8409203364670955 \n",
      " recall:0.8654360280076384 \n",
      ", 'Test':  best_epoch_indx:96\n",
      " auc:0.9490966947104291 \n",
      " apur:0.9356523566821872 \n",
      " f1:0.8530020703933748 \n",
      " precision:0.8409203364670955 \n",
      " recall:0.8654360280076384 \n",
      "}\n",
      "=====Epoch 97\n",
      "Training...\n"
     ]
    },
    {
     "name": "stderr",
     "output_type": "stream",
     "text": [
      "Iteration: 100%|██████████| 62/62 [00:01<00:00, 33.50it/s]\n",
      "Iteration: 100%|██████████| 62/62 [00:01<00:00, 44.79it/s]\n",
      "Iteration:  65%|██████▍   | 40/62 [00:01<00:00, 31.47it/s]"
     ]
    },
    {
     "name": "stdout",
     "output_type": "stream",
     "text": [
      "{'Train':  best_epoch_indx:94\n",
      " auc:0.9355839142455128 \n",
      " apur:0.9207949365919634 \n",
      " f1:0.8316635745207174 \n",
      " precision:0.8086590499098015 \n",
      " recall:0.8560152768936983 \n",
      ", 'Validation':  best_epoch_indx:94\n",
      " auc:0.9355839142455128 \n",
      " apur:0.9207949365919634 \n",
      " f1:0.8316635745207174 \n",
      " precision:0.8086590499098015 \n",
      " recall:0.8560152768936983 \n",
      ", 'Test':  best_epoch_indx:94\n",
      " auc:0.9355839142455128 \n",
      " apur:0.9207949365919634 \n",
      " f1:0.8316635745207174 \n",
      " precision:0.8086590499098015 \n",
      " recall:0.8560152768936983 \n",
      "}\n",
      "=====Epoch 95\n",
      "Training...\n"
     ]
    },
    {
     "name": "stderr",
     "output_type": "stream",
     "text": [
      "Iteration: 100%|██████████| 62/62 [00:01<00:00, 40.81it/s]\n",
      "Iteration: 100%|██████████| 62/62 [00:01<00:00, 33.93it/s]\n",
      "Iteration:  27%|██▋       | 17/62 [00:00<00:00, 52.03it/s]"
     ]
    },
    {
     "name": "stdout",
     "output_type": "stream",
     "text": [
      "Evaluating...\n"
     ]
    },
    {
     "name": "stderr",
     "output_type": "stream",
     "text": [
      "\r",
      "Iteration:   6%|▋         | 4/62 [00:00<00:01, 38.09it/s]\r",
      "Iteration:  45%|████▌     | 28/62 [00:00<00:00, 35.78it/s]\r",
      "Iteration:  37%|███▋      | 23/62 [00:00<00:00, 52.65it/s]\r",
      "Iteration:  13%|█▎        | 8/62 [00:00<00:01, 38.06it/s]\r",
      "Iteration:   0%|          | 0/62 [00:00<?, ?it/s]\r",
      "Iteration:  52%|█████▏    | 32/62 [00:00<00:00, 30.93it/s]\r",
      "Iteration:  48%|████▊     | 30/62 [00:00<00:00, 53.25it/s]"
     ]
    },
    {
     "name": "stdout",
     "output_type": "stream",
     "text": [
      "{'Train':  best_epoch_indx:97\n",
      " auc:0.9565111090336483 \n",
      " apur:0.9440859909240317 \n",
      " f1:0.8620433436532506 \n",
      " precision:0.8391802290536468 \n",
      " recall:0.8861871419478039 \n",
      ", 'Validation':  best_epoch_indx:97\n",
      " auc:0.9565111090336482 \n",
      " apur:0.9440859909240317 \n",
      " f1:0.8620433436532506 \n",
      " precision:0.8391802290536468 \n",
      " recall:0.8861871419478039 \n",
      ", 'Test':  best_epoch_indx:97\n",
      " auc:0.9565111090336483 \n",
      " apur:0.9440859909240317 \n",
      " f1:0.8620433436532506 \n",
      " precision:0.8391802290536468 \n",
      " recall:0.8861871419478039 \n",
      "}\n",
      "=====Epoch 98\n",
      "Training...\n"
     ]
    },
    {
     "name": "stderr",
     "output_type": "stream",
     "text": [
      "Iteration: 100%|██████████| 62/62 [00:01<00:00, 35.05it/s]\n",
      "Iteration: 100%|██████████| 62/62 [00:01<00:00, 44.03it/s]\n",
      "Iteration:  50%|█████     | 31/62 [00:00<00:00, 32.00it/s]"
     ]
    },
    {
     "name": "stdout",
     "output_type": "stream",
     "text": [
      "Evaluating...\n"
     ]
    },
    {
     "name": "stderr",
     "output_type": "stream",
     "text": [
      "Iteration: 100%|██████████| 62/62 [00:01<00:00, 31.59it/s]\n",
      "Iteration: 100%|██████████| 62/62 [00:02<00:00, 28.48it/s]\n",
      "Iteration:  71%|███████   | 44/62 [00:01<00:00, 33.24it/s]"
     ]
    },
    {
     "name": "stdout",
     "output_type": "stream",
     "text": [
      "Evaluating...\n"
     ]
    },
    {
     "name": "stderr",
     "output_type": "stream",
     "text": [
      "Iteration: 100%|██████████| 62/62 [00:01<00:00, 33.96it/s]\n",
      "Iteration: 100%|██████████| 62/62 [00:01<00:00, 41.00it/s]\n",
      "Iteration: 100%|██████████| 62/62 [00:01<00:00, 32.90it/s]\n",
      "Iteration:   0%|          | 0/62 [00:00<?, ?it/s]1.93it/s]"
     ]
    },
    {
     "name": "stdout",
     "output_type": "stream",
     "text": [
      "{'Train':  best_epoch_indx:95\n",
      " auc:0.9402321547598353 \n",
      " apur:0.9248111543731334 \n",
      " f1:0.8400716005184864 \n",
      " precision:0.81536065180925 \n",
      " recall:0.8663271801400382 \n",
      ", 'Validation':  best_epoch_indx:95\n",
      " auc:0.9402321547598353 \n",
      " apur:0.9248111543731334 \n",
      " f1:0.8400716005184864 \n",
      " precision:0.81536065180925 \n",
      " recall:0.8663271801400382 \n",
      ", 'Test':  best_epoch_indx:95\n",
      " auc:0.9402321547598353 \n",
      " apur:0.9248111543731334 \n",
      " f1:0.8400716005184864 \n",
      " precision:0.81536065180925 \n",
      " recall:0.8663271801400382 \n",
      "}\n",
      "=====Epoch 96\n",
      "Training...\n"
     ]
    },
    {
     "name": "stderr",
     "output_type": "stream",
     "text": [
      "Iteration: 100%|██████████| 62/62 [00:01<00:00, 34.23it/s]\n",
      "Iteration: 100%|██████████| 62/62 [00:01<00:00, 33.87it/s]\n",
      "Iteration: 100%|██████████| 62/62 [00:01<00:00, 33.74it/s]\n",
      "Iteration: 100%|██████████| 62/62 [00:01<00:00, 32.64it/s]\n",
      "Iteration:   0%|          | 0/62 [00:00<?, ?it/s]"
     ]
    },
    {
     "name": "stdout",
     "output_type": "stream",
     "text": [
      "Evaluating...\n"
     ]
    },
    {
     "name": "stderr",
     "output_type": "stream",
     "text": [
      "Iteration: 100%|██████████| 62/62 [00:02<00:00, 30.58it/s]\n",
      "Iteration: 100%|██████████| 62/62 [00:01<00:00, 41.19it/s]\n",
      "Iteration: 100%|██████████| 62/62 [00:01<00:00, 35.54it/s]\n",
      "Iteration: 100%|██████████| 62/62 [00:02<00:00, 28.79it/s]\n",
      "Iteration:   0%|          | 0/62 [00:00<?, ?it/s]"
     ]
    },
    {
     "name": "stdout",
     "output_type": "stream",
     "text": [
      "{'Train':  best_epoch_indx:98\n",
      " auc:0.9603671015643097 \n",
      " apur:0.9486923448404712 \n",
      " f1:0.8700271806276254 \n",
      " precision:0.8450738029521181 \n",
      " recall:0.8964990451941438 \n",
      ", 'Validation':  best_epoch_indx:98\n",
      " auc:0.9603671015643097 \n",
      " apur:0.9486923448404712 \n",
      " f1:0.8700271806276254 \n",
      " precision:0.8450738029521181 \n",
      " recall:0.8964990451941438 \n",
      ", 'Test':  best_epoch_indx:98\n",
      " auc:0.9603671015643097 \n",
      " apur:0.9486923448404712 \n",
      " f1:0.8700271806276254 \n",
      " precision:0.8450738029521181 \n",
      " recall:0.8964990451941438 \n",
      "}\n",
      "=====Epoch 99\n",
      "Training...\n",
      "{'Train':  best_epoch_indx:97\n",
      " auc:0.9544275839154365 \n",
      " apur:0.9408738070646374 \n",
      " f1:0.8624010796883627 \n",
      " precision:0.8322282737390481 \n",
      " recall:0.8948440483768301 \n",
      ", 'Validation':  best_epoch_indx:97\n",
      " auc:0.9544275839154365 \n",
      " apur:0.9408738070643351 \n",
      " f1:0.8624010796883627 \n",
      " precision:0.8322282737390481 \n",
      " recall:0.8948440483768301 \n",
      ", 'Test':  best_epoch_indx:97\n",
      " auc:0.9544275839154365 \n",
      " apur:0.9408738070643351 \n",
      " f1:0.8624010796883627 \n",
      " precision:0.8322282737390481 \n",
      " recall:0.8948440483768301 \n",
      "}\n",
      "=====Epoch 98\n",
      "Training...\n"
     ]
    },
    {
     "name": "stderr",
     "output_type": "stream",
     "text": [
      "\r",
      "Iteration:  13%|█▎        | 8/62 [00:00<00:01, 34.75it/s]\r",
      "Iteration:   6%|▋         | 4/62 [00:00<00:01, 35.44it/s]\r",
      "Iteration:  19%|█▉        | 12/62 [00:00<00:01, 36.94it/s]\r",
      "Iteration:  15%|█▍        | 9/62 [00:00<00:01, 40.03it/s]\r",
      "Iteration:   0%|          | 0/62 [00:00<?, ?it/s]"
     ]
    },
    {
     "name": "stdout",
     "output_type": "stream",
     "text": [
      "{'Train':  best_epoch_indx:95\n",
      " auc:0.9435771189574365 \n",
      " apur:0.9295103189318197 \n",
      " f1:0.8379007701952356 \n",
      " precision:0.7889588486620194 \n",
      " recall:0.8933163590070019 \n",
      ", 'Validation':  best_epoch_indx:95\n",
      " auc:0.9435771189574365 \n",
      " apur:0.9295103189318197 \n",
      " f1:0.8379007701952356 \n",
      " precision:0.7889588486620194 \n",
      " recall:0.8933163590070019 \n",
      ", 'Test':  best_epoch_indx:95\n",
      " auc:0.9435771189574365 \n",
      " apur:0.9295103189318197 \n",
      " f1:0.8379007701952356 \n",
      " precision:0.7889588486620194 \n",
      " recall:0.8933163590070019 \n",
      "}\n",
      "=====Epoch 96\n",
      "Training...\n"
     ]
    },
    {
     "name": "stderr",
     "output_type": "stream",
     "text": [
      "Iteration: 100%|██████████| 62/62 [00:01<00:00, 40.51it/s]\n",
      "Iteration:  15%|█▍        | 9/62 [00:00<00:02, 23.18it/s]]"
     ]
    },
    {
     "name": "stdout",
     "output_type": "stream",
     "text": [
      "Evaluating...\n"
     ]
    },
    {
     "name": "stderr",
     "output_type": "stream",
     "text": [
      "Iteration: 100%|██████████| 62/62 [00:01<00:00, 35.40it/s]\n",
      "Iteration: 100%|██████████| 62/62 [00:01<00:00, 39.32it/s]\n",
      "Iteration:  34%|███▍      | 21/62 [00:00<00:01, 24.25it/s]"
     ]
    },
    {
     "name": "stdout",
     "output_type": "stream",
     "text": [
      "Evaluating...\n",
      "Evaluating...\n"
     ]
    },
    {
     "name": "stderr",
     "output_type": "stream",
     "text": [
      "Iteration: 100%|██████████| 62/62 [00:01<00:00, 42.06it/s]\n",
      "Iteration: 100%|██████████| 62/62 [00:01<00:00, 44.79it/s]\n",
      "Iteration: 100%|██████████| 62/62 [00:02<00:00, 26.56it/s]\n",
      "Iteration: 100%|██████████| 62/62 [00:02<00:00, 30.49it/s]\n",
      "Iteration: 100%|██████████| 62/62 [00:01<00:00, 50.81it/s]\n",
      "Iteration: 100%|██████████| 62/62 [00:01<00:00, 53.87it/s]\n",
      "Iteration: 100%|██████████| 62/62 [00:02<00:00, 27.23it/s]\n",
      "Iteration: 100%|██████████| 62/62 [00:01<00:00, 43.81it/s]\n",
      "Iteration: 100%|██████████| 62/62 [00:01<00:00, 48.30it/s]\n",
      "Iteration: 100%|██████████| 62/62 [00:02<00:00, 25.17it/s]\n"
     ]
    },
    {
     "name": "stdout",
     "output_type": "stream",
     "text": [
      "{'Train':  best_epoch_indx:96\n",
      " auc:0.947248313235866 \n",
      " apur:0.9334624713464642 \n",
      " f1:0.851296722432987 \n",
      " precision:0.8321984435797666 \n",
      " recall:0.8712921705919796 \n",
      ", 'Validation':  best_epoch_indx:96\n",
      " auc:0.947248313235866 \n",
      " apur:0.9334624713464642 \n",
      " f1:0.851296722432987 \n",
      " precision:0.8321984435797666 \n",
      " recall:0.8712921705919796 \n",
      ", 'Test':  best_epoch_indx:96\n",
      " auc:0.947248313235866 \n",
      " apur:0.9334624713464642 \n",
      " f1:0.851296722432987 \n",
      " precision:0.8321984435797666 \n",
      " recall:0.8712921705919796 \n",
      "}\n",
      "=====Epoch 97\n",
      "Training...\n",
      "{'Train':  best_epoch_indx:96\n",
      " auc:0.948643700469837 \n",
      " apur:0.9347536663657443 \n",
      " f1:0.8487702125023232 \n",
      " precision:0.8266956311851316 \n",
      " recall:0.8720560152768937 \n",
      ", 'Validation':  best_epoch_indx:96\n",
      " auc:0.9486436885597006 \n",
      " apur:0.934753658297619 \n",
      " f1:0.8487702125023232 \n",
      " precision:0.8266956311851316 \n",
      " recall:0.8720560152768937 \n",
      ", 'Test':  best_epoch_indx:96\n",
      " auc:0.9486437004698369 \n",
      " apur:0.9347536663657443 \n",
      " f1:0.8487702125023232 \n",
      " precision:0.8266956311851316 \n",
      " recall:0.8720560152768937 \n",
      "}\n",
      "=====Epoch 97\n",
      "Training...\n"
     ]
    },
    {
     "name": "stderr",
     "output_type": "stream",
     "text": [
      "Iteration:  81%|████████  | 50/62 [00:01<00:00, 40.89it/s]"
     ]
    },
    {
     "name": "stdout",
     "output_type": "stream",
     "text": [
      "{'Train':  best_epoch_indx:99\n",
      " auc:0.9646337648170565 \n",
      " apur:0.9539704529347075 \n",
      " f1:0.8780426283263968 \n",
      " precision:0.8699237785830314 \n",
      " recall:0.8863144493952896 \n",
      ", 'Validation':  best_epoch_indx:99\n",
      " auc:0.9646337648170564 \n",
      " apur:0.9539704529348605 \n",
      " f1:0.8780426283263968 \n",
      " precision:0.8699237785830314 \n",
      " recall:0.8863144493952896 \n",
      ", 'Test':  best_epoch_indx:99\n",
      " auc:0.9646337648170564 \n",
      " apur:0.9539704529348605 \n",
      " f1:0.8780426283263968 \n",
      " precision:0.8699237785830314 \n",
      " recall:0.8863144493952896 \n",
      "}\n",
      "Finished training!\n"
     ]
    },
    {
     "name": "stderr",
     "output_type": "stream",
     "text": [
      "Iteration: 100%|██████████| 62/62 [00:01<00:00, 40.73it/s]\n",
      "Iteration: 100%|██████████| 62/62 [00:01<00:00, 38.17it/s]\n",
      "Iteration:  10%|▉         | 6/62 [00:00<00:00, 59.08it/s]]"
     ]
    },
    {
     "name": "stdout",
     "output_type": "stream",
     "text": [
      "Evaluating...\n",
      "Evaluating...\n"
     ]
    },
    {
     "name": "stderr",
     "output_type": "stream",
     "text": [
      "Iteration: 100%|██████████| 62/62 [00:01<00:00, 54.51it/s]\n",
      "Iteration: 100%|██████████| 62/62 [00:02<00:00, 25.49it/s]\n",
      "Iteration:   0%|          | 0/62 [00:00<?, ?it/s]5.74it/s]"
     ]
    },
    {
     "name": "stdout",
     "output_type": "stream",
     "text": [
      "{'Train':  best_epoch_indx:98\n",
      " auc:0.9571894945751427 \n",
      " apur:0.9459827559519751 \n",
      " f1:0.8653086419753087 \n",
      " precision:0.8399041342121031 \n",
      " recall:0.8922978994271165 \n",
      ", 'Validation':  best_epoch_indx:98\n",
      " auc:0.9571894886206316 \n",
      " apur:0.9459827511927141 \n",
      " f1:0.8653086419753087 \n",
      " precision:0.8399041342121031 \n",
      " recall:0.8922978994271165 \n",
      ", 'Test':  best_epoch_indx:98\n",
      " auc:0.9571894945751427 \n",
      " apur:0.9459827665587056 \n",
      " f1:0.8653086419753087 \n",
      " precision:0.8399041342121031 \n",
      " recall:0.8922978994271165 \n",
      "}\n",
      "=====Epoch 99\n",
      "Training...\n"
     ]
    },
    {
     "name": "stderr",
     "output_type": "stream",
     "text": [
      "Iteration: 100%|██████████| 62/62 [00:02<00:00, 30.16it/s]\n",
      "Iteration: 100%|██████████| 62/62 [00:00<00:00, 68.27it/s]\n",
      "Iteration: 100%|██████████| 62/62 [00:01<00:00, 39.17it/s]\n",
      "Iteration:   8%|▊         | 5/62 [00:00<00:01, 42.81it/s]]"
     ]
    },
    {
     "name": "stdout",
     "output_type": "stream",
     "text": [
      "Evaluating...\n"
     ]
    },
    {
     "name": "stderr",
     "output_type": "stream",
     "text": [
      "Iteration: 100%|██████████| 62/62 [00:01<00:00, 41.17it/s]\n",
      "Iteration: 100%|██████████| 62/62 [00:01<00:00, 43.83it/s]\n",
      "Iteration: 100%|██████████| 62/62 [00:01<00:00, 44.32it/s]\n",
      "Iteration:   0%|          | 0/62 [00:00<?, ?it/s]"
     ]
    },
    {
     "name": "stdout",
     "output_type": "stream",
     "text": [
      "{'Train':  best_epoch_indx:97\n",
      " auc:0.9529641079933953 \n",
      " apur:0.9411368823570945 \n",
      " f1:0.8589450250448334 \n",
      " precision:0.8351370851370852 \n",
      " recall:0.8841502227880331 \n",
      ", 'Validation':  best_epoch_indx:97\n",
      " auc:0.9529641079933953 \n",
      " apur:0.9411368823570945 \n",
      " f1:0.8589450250448334 \n",
      " precision:0.8351370851370852 \n",
      " recall:0.8841502227880331 \n",
      ", 'Test':  best_epoch_indx:97\n",
      " auc:0.9529641079933953 \n",
      " apur:0.9411368823570945 \n",
      " f1:0.8589450250448334 \n",
      " precision:0.8351370851370852 \n",
      " recall:0.8841502227880331 \n",
      "}\n",
      "=====Epoch 98\n",
      "Training...\n"
     ]
    },
    {
     "name": "stderr",
     "output_type": "stream",
     "text": [
      "Iteration: 100%|██████████| 62/62 [00:00<00:00, 64.86it/s]\n",
      "Iteration: 100%|██████████| 62/62 [00:00<00:00, 65.12it/s]\n",
      "Iteration: 100%|██████████| 62/62 [00:01<00:00, 38.99it/s]\n",
      "Iteration:   0%|          | 0/62 [00:00<?, ?it/s].33it/s]"
     ]
    },
    {
     "name": "stdout",
     "output_type": "stream",
     "text": [
      "{'Train':  best_epoch_indx:97\n",
      " auc:0.9543793065192097 \n",
      " apur:0.9419901197163489 \n",
      " f1:0.857685474483857 \n",
      " precision:0.8266414737836562 \n",
      " recall:0.8911521323997453 \n",
      ", 'Validation':  best_epoch_indx:97\n",
      " auc:0.9543793065192097 \n",
      " apur:0.9419901197163489 \n",
      " f1:0.857685474483857 \n",
      " precision:0.8266414737836562 \n",
      " recall:0.8911521323997453 \n",
      ", 'Test':  best_epoch_indx:97\n",
      " auc:0.9543793065192097 \n",
      " apur:0.9419901197163489 \n",
      " f1:0.857685474483857 \n",
      " precision:0.8266414737836562 \n",
      " recall:0.8911521323997453 \n",
      "}\n",
      "=====Epoch 98\n",
      "Training...\n",
      "Evaluating...\n"
     ]
    },
    {
     "name": "stderr",
     "output_type": "stream",
     "text": [
      "Iteration: 100%|██████████| 62/62 [00:00<00:00, 64.32it/s]\n",
      "Iteration: 100%|██████████| 62/62 [00:01<00:00, 42.89it/s]\n",
      "Iteration: 100%|██████████| 62/62 [00:01<00:00, 39.74it/s]\n",
      "Iteration:  15%|█▍        | 9/62 [00:00<00:00, 84.98it/s]"
     ]
    },
    {
     "name": "stdout",
     "output_type": "stream",
     "text": [
      "Evaluating...\n"
     ]
    },
    {
     "name": "stderr",
     "output_type": "stream",
     "text": [
      "Iteration: 100%|██████████| 62/62 [00:00<00:00, 93.63it/s] \n",
      "Iteration:  10%|▉         | 6/62 [00:00<00:01, 54.09it/s]]"
     ]
    },
    {
     "name": "stdout",
     "output_type": "stream",
     "text": [
      "{'Train':  best_epoch_indx:99\n",
      " auc:0.9642540992343094 \n",
      " apur:0.9538513800537152 \n",
      " f1:0.8777483525281764 \n",
      " precision:0.8501550942495825 \n",
      " recall:0.9071928707829408 \n",
      ", 'Validation':  best_epoch_indx:99\n",
      " auc:0.9642540992343094 \n",
      " apur:0.9538513800537152 \n",
      " f1:0.8777483525281764 \n",
      " precision:0.8501550942495825 \n",
      " recall:0.9071928707829408 \n",
      ", 'Test':  best_epoch_indx:99\n",
      " auc:0.9642540992343094 \n",
      " apur:0.9538513800537152 \n",
      " f1:0.8777483525281764 \n",
      " precision:0.8501550942495825 \n",
      " recall:0.9071928707829408 \n",
      "}\n",
      "Finished training!\n"
     ]
    },
    {
     "name": "stderr",
     "output_type": "stream",
     "text": [
      "Iteration: 100%|██████████| 62/62 [00:00<00:00, 79.11it/s]\n",
      "Iteration: 100%|██████████| 62/62 [00:01<00:00, 49.68it/s]\n",
      "Iteration: 100%|██████████| 62/62 [00:00<00:00, 69.97it/s]\n",
      "Iteration:  31%|███       | 19/62 [00:00<00:00, 93.57it/s]"
     ]
    },
    {
     "name": "stdout",
     "output_type": "stream",
     "text": [
      "{'Train':  best_epoch_indx:98\n",
      " auc:0.9590966589833625 \n",
      " apur:0.9477774868692695 \n",
      " f1:0.8682766883157829 \n",
      " precision:0.8601949025487257 \n",
      " recall:0.8765117759388924 \n",
      ", 'Validation':  best_epoch_indx:98\n",
      " auc:0.9590966589833626 \n",
      " apur:0.9477774868694331 \n",
      " f1:0.8682766883157829 \n",
      " precision:0.8601949025487257 \n",
      " recall:0.8765117759388924 \n",
      ", 'Test':  best_epoch_indx:98\n",
      " auc:0.9590966589833626 \n",
      " apur:0.9477774868694331 \n",
      " f1:0.8682766883157829 \n",
      " precision:0.8601949025487257 \n",
      " recall:0.8765117759388924 \n",
      "}\n",
      "=====Epoch 99\n",
      "Training...\n"
     ]
    },
    {
     "name": "stderr",
     "output_type": "stream",
     "text": [
      "Iteration: 100%|██████████| 62/62 [00:00<00:00, 114.37it/s]\n",
      "Iteration:   8%|▊         | 5/62 [00:00<00:01, 42.97it/s]]"
     ]
    },
    {
     "name": "stdout",
     "output_type": "stream",
     "text": [
      "{'Train':  best_epoch_indx:98\n",
      " auc:0.9580155187885676 \n",
      " apur:0.9469495257974319 \n",
      " f1:0.8663048840651209 \n",
      " precision:0.8400908982179165 \n",
      " recall:0.8942075111394017 \n",
      ", 'Validation':  best_epoch_indx:98\n",
      " auc:0.9580155187885676 \n",
      " apur:0.9469495257974319 \n",
      " f1:0.8663048840651209 \n",
      " precision:0.8400908982179165 \n",
      " recall:0.8942075111394017 \n",
      ", 'Test':  best_epoch_indx:98\n",
      " auc:0.9580155187885676 \n",
      " apur:0.9469495257974319 \n",
      " f1:0.8663048840651209 \n",
      " precision:0.8400908982179165 \n",
      " recall:0.8942075111394017 \n",
      "}\n",
      "=====Epoch 99\n",
      "Training...\n"
     ]
    },
    {
     "name": "stderr",
     "output_type": "stream",
     "text": [
      "Iteration: 100%|██████████| 62/62 [00:01<00:00, 40.40it/s]\n",
      "Iteration:   0%|          | 0/62 [00:00<?, ?it/s]"
     ]
    },
    {
     "name": "stdout",
     "output_type": "stream",
     "text": [
      "Evaluating...\n"
     ]
    },
    {
     "name": "stderr",
     "output_type": "stream",
     "text": [
      "Iteration: 100%|██████████| 62/62 [00:01<00:00, 36.85it/s]\n",
      "Iteration:  68%|██████▊   | 42/62 [00:00<00:00, 64.14it/s]"
     ]
    },
    {
     "name": "stdout",
     "output_type": "stream",
     "text": [
      "Evaluating...\n"
     ]
    },
    {
     "name": "stderr",
     "output_type": "stream",
     "text": [
      "Iteration: 100%|██████████| 62/62 [00:00<00:00, 63.94it/s]\n",
      "Iteration: 100%|██████████| 62/62 [00:00<00:00, 68.87it/s]\n",
      "Iteration: 100%|██████████| 62/62 [00:00<00:00, 71.06it/s]\n",
      "Iteration: 100%|██████████| 62/62 [00:00<00:00, 72.98it/s]\n",
      "Iteration: 100%|██████████| 62/62 [00:01<00:00, 57.90it/s]\n",
      "Iteration: 100%|██████████| 62/62 [00:00<00:00, 62.63it/s]\n"
     ]
    },
    {
     "name": "stdout",
     "output_type": "stream",
     "text": [
      "{'Train':  best_epoch_indx:99\n",
      " auc:0.9631267792823505 \n",
      " apur:0.9527955001627519 \n",
      " f1:0.8778791829639288 \n",
      " precision:0.8567619970916142 \n",
      " recall:0.9000636537237429 \n",
      ", 'Validation':  best_epoch_indx:99\n",
      " auc:0.9631267792823505 \n",
      " apur:0.9527955001627519 \n",
      " f1:0.8778791829639288 \n",
      " precision:0.8567619970916142 \n",
      " recall:0.9000636537237429 \n",
      ", 'Test':  best_epoch_indx:99\n",
      " auc:0.9631267792823505 \n",
      " apur:0.9527955001627519 \n",
      " f1:0.8778791829639288 \n",
      " precision:0.8567619970916142 \n",
      " recall:0.9000636537237429 \n",
      "}\n",
      "Finished training!\n",
      "{'Train':  best_epoch_indx:99\n",
      " auc:0.9640256117954179 \n",
      " apur:0.953986968569747 \n",
      " f1:0.8759694656488549 \n",
      " precision:0.8417840375586855 \n",
      " recall:0.913049013367282 \n",
      ", 'Validation':  best_epoch_indx:99\n",
      " auc:0.9640256117954179 \n",
      " apur:0.953986968569747 \n",
      " f1:0.8759694656488549 \n",
      " precision:0.8417840375586855 \n",
      " recall:0.913049013367282 \n",
      ", 'Test':  best_epoch_indx:99\n",
      " auc:0.9640256117954179 \n",
      " apur:0.9539869685695787 \n",
      " f1:0.8759694656488549 \n",
      " precision:0.8417840375586855 \n",
      " recall:0.913049013367282 \n",
      "}\n",
      "Finished training!\n",
      "<<< joined hyperparam search process\n",
      "released_gpu_num: 1\n",
      "<<< joined hyperparam search process\n",
      "released_gpu_num: 4\n",
      "<<< joined hyperparam search process\n",
      "released_gpu_num: 3\n",
      "<<< joined hyperparam search process\n",
      "released_gpu_num: 2\n",
      "<<< joined hyperparam search process\n",
      "released_gpu_num: 0\n"
     ]
    }
   ],
   "source": [
    "import torch.multiprocessing as mp\n",
    "mp.set_start_method(\"spawn\", force=True)\n",
    "\n",
    "queue = mp.Queue()\n",
    "q_processes = []\n",
    "\n",
    "# partition = fold_partitions[0]\n",
    "time_stamp = datetime.datetime.now().strftime('%Y-%m-%d_%H-%M-%S')\n",
    "\n",
    "print(\"Start: \" + time_stamp)\n",
    "\n",
    "for q_i in range(min(n_gpu, len(fold_partitions))):\n",
    "#     device_gpu = get_device(True, index=q_i)\n",
    "    partition = fold_partitions[q_i]\n",
    "    exp_dir = create_directory(os.path.join(targetdata_dir_exp, \"fold_\"+str(q_i)+\"_\"+time_stamp))\n",
    "    create_directory(os.path.join(exp_dir, \"predictions\"))\n",
    "    create_directory(os.path.join(exp_dir, \"modelstates\"))\n",
    "\n",
    "#     tphp = generate_tp_hp(tp, hyperparam_space[q_i], hp_names)\n",
    "    \n",
    "    q_process = create_q_process(queue, dataset, q_i, tp, exp_dir, partition)\n",
    "    q_processes.append(q_process)\n",
    "    spawn_q_process(q_process)\n",
    "\n",
    "spawned_processes = n_gpu\n",
    "    \n",
    "# for q_i in range(len(hyperparam_space)):\n",
    "for q_i in range(min(n_gpu, len(fold_partitions))):\n",
    "    join_q_process(q_processes[q_i])\n",
    "    released_gpu_num = queue.get()\n",
    "    print(\"released_gpu_num:\", released_gpu_num)\n",
    "#     if(spawned_processes < len(hyperparam_space)):\n",
    "# #         device_gpu = get_device(True, index=q_i)\n",
    "#         time_stamp = datetime.datetime.now().strftime('%Y-%m-%d_%H-%M-%S')\n",
    "#         exp_dir = create_directory(os.path.join(targetdata_dir_exp, \"exp_\"+str(q_i)+\"_\"+time_stamp))\n",
    "#         tphp = generate_tp_hp(tp, hyperparam_space[q_i], hp_names)\n",
    "\n",
    "#         q_process = create_q_process(queue, used_dataset, released_gpu_num, tphp, exp_dir, partition)\n",
    "#         q_processes.append(q_process)\n",
    "#         spawn_q_process(q_process)\n",
    "#         spawned_processes = spawned_processes + 1"
   ]
  },
  {
   "cell_type": "code",
   "execution_count": 38,
   "metadata": {},
   "outputs": [
    {
     "name": "stdout",
     "output_type": "stream",
     "text": [
      "End: 2022-06-21_16-36-40\n"
     ]
    }
   ],
   "source": [
    "print(\"End: \" + datetime.datetime.now().strftime('%Y-%m-%d_%H-%M-%S'))"
   ]
  },
  {
   "cell_type": "code",
   "execution_count": null,
   "metadata": {},
   "outputs": [],
   "source": []
  },
  {
   "cell_type": "code",
   "execution_count": null,
   "metadata": {},
   "outputs": [],
   "source": []
  },
  {
   "cell_type": "markdown",
   "metadata": {},
   "source": [
    "### Run Attributions"
   ]
  },
  {
   "cell_type": "code",
   "execution_count": 39,
   "metadata": {},
   "outputs": [
    {
     "name": "stdout",
     "output_type": "stream",
     "text": [
      "Time stamp: 2022-06-21_16-16-26\n",
      "path_current_dir /opt/data/chemprop_run/git/deepadr\n",
      "path_current_dir /opt/data/chemprop_run/git/deepadr\n",
      ">>> spawning hyperparam search process\n",
      "path_current_dir /opt/data/chemprop_run/git/deepadr\n",
      "path_current_dir /opt/data/chemprop_run/git/deepadr\n",
      ">>> spawning hyperparam search process\n"
     ]
    },
    {
     "name": "stderr",
     "output_type": "stream",
     "text": [
      "/opt/conda/envs/graphnn/lib/python3.9/site-packages/captum/attr/_utils/batching.py:45: UserWarning: Internal batch size cannot be less than the number of input examples. Defaulting to internal batch size of 5152 equal to the number of examples.\n",
      "  warnings.warn(\n"
     ]
    },
    {
     "name": "stdout",
     "output_type": "stream",
     "text": [
      "path_current_dir /opt/data/chemprop_run/git/deepadr\n",
      "path_current_dir /opt/data/chemprop_run/git/deepadr\n",
      ">>> spawning hyperparam search process\n"
     ]
    },
    {
     "name": "stderr",
     "output_type": "stream",
     "text": [
      "/opt/conda/envs/graphnn/lib/python3.9/site-packages/captum/attr/_utils/batching.py:45: UserWarning: Internal batch size cannot be less than the number of input examples. Defaulting to internal batch size of 5152 equal to the number of examples.\n",
      "  warnings.warn(\n"
     ]
    },
    {
     "name": "stdout",
     "output_type": "stream",
     "text": [
      "path_current_dir /opt/data/chemprop_run/git/deepadr\n",
      "path_current_dir /opt/data/chemprop_run/git/deepadr\n",
      ">>> spawning hyperparam search process\n"
     ]
    },
    {
     "name": "stderr",
     "output_type": "stream",
     "text": [
      "/opt/conda/envs/graphnn/lib/python3.9/site-packages/captum/attr/_utils/batching.py:45: UserWarning: Internal batch size cannot be less than the number of input examples. Defaulting to internal batch size of 5151 equal to the number of examples.\n",
      "  warnings.warn(\n"
     ]
    },
    {
     "name": "stdout",
     "output_type": "stream",
     "text": [
      "path_current_dir /opt/data/chemprop_run/git/deepadr\n",
      "path_current_dir /opt/data/chemprop_run/git/deepadr\n",
      ">>> spawning hyperparam search process\n"
     ]
    },
    {
     "name": "stderr",
     "output_type": "stream",
     "text": [
      "/opt/conda/envs/graphnn/lib/python3.9/site-packages/captum/attr/_utils/batching.py:45: UserWarning: Internal batch size cannot be less than the number of input examples. Defaulting to internal batch size of 5151 equal to the number of examples.\n",
      "  warnings.warn(\n",
      "/opt/conda/envs/graphnn/lib/python3.9/site-packages/captum/attr/_utils/batching.py:45: UserWarning: Internal batch size cannot be less than the number of input examples. Defaulting to internal batch size of 5151 equal to the number of examples.\n",
      "  warnings.warn(\n"
     ]
    },
    {
     "name": "stdout",
     "output_type": "stream",
     "text": [
      "gpu: cuda:0\n",
      "Dropout(p=0.5, inplace=False) Dropout(p=0.2, inplace=False)\n",
      "DS model:\n",
      " ExpressionNN(\n",
      "  (fc1): Linear(in_features=926, out_features=8192, bias=True)\n",
      "  (fc2): Linear(in_features=8192, out_features=4096, bias=True)\n",
      "  (fc3): Linear(in_features=4096, out_features=2, bias=True)\n",
      "  (drop_in): Dropout(p=0.2, inplace=False)\n",
      "  (drop): Dropout(p=0.5, inplace=False)\n",
      "  (log_softmax): LogSoftmax(dim=-1)\n",
      ")\n",
      "Loading pre-trained model from: /opt/data/chemprop_run/git/data/processed/DrugComb_total_thresh_4/data_v2/experiments/fold_0_2022-06-21_16-16-26/modelstates/deepsynergy_model_statedict.pt\n",
      "Starting attr calc...\n",
      "<<< joined hyperparam search process\n",
      "released_gpu_num: 0\n",
      "gpu: cuda:1\n",
      "Dropout(p=0.5, inplace=False) Dropout(p=0.2, inplace=False)\n",
      "DS model:\n",
      " ExpressionNN(\n",
      "  (fc1): Linear(in_features=926, out_features=8192, bias=True)\n",
      "  (fc2): Linear(in_features=8192, out_features=4096, bias=True)\n",
      "  (fc3): Linear(in_features=4096, out_features=2, bias=True)\n",
      "  (drop_in): Dropout(p=0.2, inplace=False)\n",
      "  (drop): Dropout(p=0.5, inplace=False)\n",
      "  (log_softmax): LogSoftmax(dim=-1)\n",
      ")\n",
      "Loading pre-trained model from: /opt/data/chemprop_run/git/data/processed/DrugComb_total_thresh_4/data_v2/experiments/fold_1_2022-06-21_16-16-26/modelstates/deepsynergy_model_statedict.pt\n",
      "Starting attr calc...\n",
      "<<< joined hyperparam search process\n",
      "released_gpu_num: 1\n",
      "gpu: cuda:2\n",
      "Dropout(p=0.5, inplace=False) Dropout(p=0.2, inplace=False)\n",
      "DS model:\n",
      " ExpressionNN(\n",
      "  (fc1): Linear(in_features=926, out_features=8192, bias=True)\n",
      "  (fc2): Linear(in_features=8192, out_features=4096, bias=True)\n",
      "  (fc3): Linear(in_features=4096, out_features=2, bias=True)\n",
      "  (drop_in): Dropout(p=0.2, inplace=False)\n",
      "  (drop): Dropout(p=0.5, inplace=False)\n",
      "  (log_softmax): LogSoftmax(dim=-1)\n",
      ")\n",
      "Loading pre-trained model from: /opt/data/chemprop_run/git/data/processed/DrugComb_total_thresh_4/data_v2/experiments/fold_2_2022-06-21_16-16-26/modelstates/deepsynergy_model_statedict.pt\n",
      "Starting attr calc...\n",
      "<<< joined hyperparam search process\n",
      "released_gpu_num: 2\n",
      "gpu: cuda:3\n",
      "Dropout(p=0.5, inplace=False) Dropout(p=0.2, inplace=False)\n",
      "DS model:\n",
      " ExpressionNN(\n",
      "  (fc1): Linear(in_features=926, out_features=8192, bias=True)\n",
      "  (fc2): Linear(in_features=8192, out_features=4096, bias=True)\n",
      "  (fc3): Linear(in_features=4096, out_features=2, bias=True)\n",
      "  (drop_in): Dropout(p=0.2, inplace=False)\n",
      "  (drop): Dropout(p=0.5, inplace=False)\n",
      "  (log_softmax): LogSoftmax(dim=-1)\n",
      ")\n",
      "Loading pre-trained model from: /opt/data/chemprop_run/git/data/processed/DrugComb_total_thresh_4/data_v2/experiments/fold_3_2022-06-21_16-16-26/modelstates/deepsynergy_model_statedict.pt\n",
      "Starting attr calc...\n",
      "<<< joined hyperparam search process\n",
      "released_gpu_num: 3\n",
      "gpu: cuda:4\n",
      "Dropout(p=0.5, inplace=False) Dropout(p=0.2, inplace=False)\n",
      "DS model:\n",
      " ExpressionNN(\n",
      "  (fc1): Linear(in_features=926, out_features=8192, bias=True)\n",
      "  (fc2): Linear(in_features=8192, out_features=4096, bias=True)\n",
      "  (fc3): Linear(in_features=4096, out_features=2, bias=True)\n",
      "  (drop_in): Dropout(p=0.2, inplace=False)\n",
      "  (drop): Dropout(p=0.5, inplace=False)\n",
      "  (log_softmax): LogSoftmax(dim=-1)\n",
      ")\n",
      "Loading pre-trained model from: /opt/data/chemprop_run/git/data/processed/DrugComb_total_thresh_4/data_v2/experiments/fold_4_2022-06-21_16-16-26/modelstates/deepsynergy_model_statedict.pt\n",
      "Starting attr calc...\n",
      "<<< joined hyperparam search process\n",
      "released_gpu_num: 4\n"
     ]
    }
   ],
   "source": [
    "import torch.multiprocessing as mp\n",
    "mp.set_start_method(\"spawn\", force=True)\n",
    "\n",
    "queue = mp.Queue()\n",
    "# q_attr = mp.Queue()\n",
    "q_processes = []\n",
    "\n",
    "l_attr = []\n",
    "\n",
    "# partition = fold_partitions[0]\n",
    "# time_stamp = datetime.datetime.now().strftime('%Y-%m-%d_%H-%M-%S')\n",
    "\n",
    "print(\"Time stamp: \" + time_stamp)\n",
    "\n",
    "for q_i in range(min(n_gpu, len(fold_partitions))):\n",
    "#     device_gpu = get_device(True, index=q_i)\n",
    "    partition = fold_partitions[q_i]\n",
    "    exp_dir = create_directory(os.path.join(targetdata_dir_exp, \"fold_\"+str(q_i)+\"_\"+time_stamp))\n",
    "#     create_directory(os.path.join(exp_dir, \"predictions\"))\n",
    "#     create_directory(os.path.join(exp_dir, \"modelstates\"))\n",
    "    create_directory(os.path.join(exp_dir, \"attributions\"))\n",
    "\n",
    "\n",
    "#     tphp = generate_tp_hp(tp, hyperparam_space[q_i], hp_names)\n",
    "    \n",
    "    q_process = create_q_process_attr(queue, x_np_norm, q_i, tp, exp_dir, partition)\n",
    "    q_processes.append(q_process)\n",
    "    spawn_q_process(q_process)\n",
    "\n",
    "spawned_processes = n_gpu\n",
    "    \n",
    "# for q_i in range(len(hyperparam_space)):\n",
    "for q_i in range(min(n_gpu, len(fold_partitions))):\n",
    "    join_q_process(q_processes[q_i])\n",
    "    released_gpu_num = queue.get()\n",
    "#     l_attr.append(q_attr.get())\n",
    "    print(\"released_gpu_num:\", released_gpu_num)\n",
    "#     if(spawned_processes < len(hyperparam_space)):\n",
    "# #         device_gpu = get_device(True, index=q_i)\n",
    "#         time_stamp = datetime.datetime.now().strftime('%Y-%m-%d_%H-%M-%S')\n",
    "#         exp_dir = create_directory(os.path.join(targetdata_dir_exp, \"exp_\"+str(q_i)+\"_\"+time_stamp))\n",
    "#         tphp = generate_tp_hp(tp, hyperparam_space[q_i], hp_names)\n",
    "\n",
    "#         q_process = create_q_process(queue, used_dataset, released_gpu_num, tphp, exp_dir, partition)\n",
    "#         q_processes.append(q_process)\n",
    "#         spawn_q_process(q_process)\n",
    "#         spawned_processes = spawned_processes + 1"
   ]
  },
  {
   "cell_type": "code",
   "execution_count": 40,
   "metadata": {},
   "outputs": [
    {
     "name": "stdout",
     "output_type": "stream",
     "text": [
      "End: 2022-06-21_16-37-57\n"
     ]
    }
   ],
   "source": [
    "print(\"End: \" + datetime.datetime.now().strftime('%Y-%m-%d_%H-%M-%S'))"
   ]
  },
  {
   "cell_type": "markdown",
   "metadata": {},
   "source": [
    "### Load Attributions"
   ]
  },
  {
   "cell_type": "code",
   "execution_count": 41,
   "metadata": {},
   "outputs": [
    {
     "data": {
      "text/plain": [
       "5"
      ]
     },
     "execution_count": 41,
     "metadata": {},
     "output_type": "execute_result"
    }
   ],
   "source": [
    "import glob\n",
    "exp_dirs = glob.glob(targetdata_dir_exp+\"/fold_*_\"+time_stamp)\n",
    "len(exp_dirs)"
   ]
  },
  {
   "cell_type": "code",
   "execution_count": 42,
   "metadata": {},
   "outputs": [],
   "source": [
    "attrAlgName = 'IntegratedGradients'"
   ]
  },
  {
   "cell_type": "code",
   "execution_count": 44,
   "metadata": {},
   "outputs": [],
   "source": [
    "folds = []\n",
    "\n",
    "for edir in exp_dirs:\n",
    "    fold = edir.split(\"/\")[-1].split('_')[1]\n",
    "    fold_attr = ReaderWriter.read_tensor(os.path.join(edir, 'attributions', f'{attrAlgName}_attributions.tensor'), device_cpu)\n",
    "    attributions = fold_attr.detach().cpu().numpy()\n",
    "    folds.append(attributions)"
   ]
  },
  {
   "cell_type": "code",
   "execution_count": 45,
   "metadata": {},
   "outputs": [
    {
     "data": {
      "text/plain": [
       "5"
      ]
     },
     "execution_count": 45,
     "metadata": {},
     "output_type": "execute_result"
    }
   ],
   "source": [
    "len(folds)"
   ]
  },
  {
   "cell_type": "code",
   "execution_count": 47,
   "metadata": {},
   "outputs": [
    {
     "data": {
      "text/plain": [
       "(25757, 926)"
      ]
     },
     "execution_count": 47,
     "metadata": {},
     "output_type": "execute_result"
    }
   ],
   "source": [
    "concat_folds = np.concatenate(folds, axis=0)\n",
    "concat_folds.shape"
   ]
  },
  {
   "cell_type": "code",
   "execution_count": 48,
   "metadata": {},
   "outputs": [
    {
     "data": {
      "text/plain": [
       "(926,)"
      ]
     },
     "execution_count": 48,
     "metadata": {},
     "output_type": "execute_result"
    }
   ],
   "source": [
    "mean_folds = np.mean(concat_folds, axis=0)\n",
    "mean_folds.shape"
   ]
  },
  {
   "cell_type": "code",
   "execution_count": 49,
   "metadata": {},
   "outputs": [],
   "source": [
    "# import shap"
   ]
  },
  {
   "cell_type": "code",
   "execution_count": 50,
   "metadata": {},
   "outputs": [],
   "source": [
    "# source: https://github.com/snap-stanford/ogb/blob/68a303f320220cda859e83e3a8660f2b9debedf6/ogb/utils/features.py#L52\n",
    "\n",
    "atomic_features = ['AtomicNum', 'ChiralTag', 'TotalDegree', \n",
    "                   'FormalCharge', 'TotalNumHs', 'NumRadicalElectrons',\n",
    "                   'Hybridization', 'IsAromatic', 'IsInRing']"
   ]
  },
  {
   "cell_type": "code",
   "execution_count": 51,
   "metadata": {},
   "outputs": [],
   "source": [
    "def list_prefix(l, pre):\n",
    "    return [pre+i for i in l]"
   ]
  },
  {
   "cell_type": "code",
   "execution_count": 52,
   "metadata": {},
   "outputs": [
    {
     "data": {
      "text/plain": [
       "926"
      ]
     },
     "execution_count": 52,
     "metadata": {},
     "output_type": "execute_result"
    }
   ],
   "source": [
    "gene_gex = pd.read_csv('../../data/preprocessing/gene_gex.tsv', sep='\\t')\n",
    "all_feat = list_prefix(atomic_features, \"Drug1_\")+list_prefix(atomic_features, \"Drug2_\")+list(gene_gex.GENE_SYMBOLS)\n",
    "len(all_feat)"
   ]
  },
  {
   "cell_type": "code",
   "execution_count": 56,
   "metadata": {},
   "outputs": [],
   "source": [
    "# Helper method to print importances and visualize distribution\n",
    "def visualize_importances(feature_names, importances, title=\"Average Feature Importances\", plot=True, axis_title=\"Features\"):\n",
    "    print(title)\n",
    "    for i in range(len(feature_names)):\n",
    "        print(feature_names[i], \": \", '%.3f'%(importances[i]))\n",
    "    x_pos = (np.arange(len(feature_names)))\n",
    "    if plot:\n",
    "        plt.figure(figsize=(60,20))\n",
    "        plt.bar(x_pos, importances, align='center')\n",
    "        plt.xticks(x_pos, feature_names, wrap=True)\n",
    "        plt.xlabel(axis_title)\n",
    "        plt.title(title)\n"
   ]
  },
  {
   "cell_type": "code",
   "execution_count": 65,
   "metadata": {},
   "outputs": [
    {
     "name": "stdout",
     "output_type": "stream",
     "text": [
      "Average Feature Importances\n",
      "TSPAN6 :  -0.000\n",
      "SCYL3 :  -0.001\n",
      "BAD :  -0.001\n",
      "LAP3 :  -0.001\n",
      "SNX11 :  -0.000\n",
      "CASP10 :  -0.002\n",
      "CFLAR :  -0.001\n",
      "FKBP4 :  -0.001\n",
      "RBM6 :  -0.000\n",
      "SLC25A13 :  -0.000\n",
      "ST7 :  -0.000\n",
      "CIAPIN1 :  0.000\n",
      "MYCBP2 :  0.000\n",
      "RALA :  -0.000\n",
      "ETV1 :  0.000\n",
      "TBXA2R :  -0.000\n",
      "PAF1 :  -0.002\n",
      "ELAC2 :  -0.001\n",
      "PAFAH1B1 :  -0.000\n",
      "KIAA0100 :  -0.001\n",
      "TRAPPC6A :  -0.000\n",
      "E2F2 :  -0.001\n",
      "SYPL1 :  -0.000\n",
      "CYB561 :  -0.001\n",
      "UBE3C :  -0.000\n",
      "NCAPD2 :  -0.000\n",
      "NISCH :  0.000\n",
      "BTK :  0.000\n",
      "FYN :  -0.000\n",
      "AKAP8L :  -0.000\n",
      "BRCA1 :  -0.000\n",
      "UBR7 :  -0.000\n",
      "MVP :  -0.000\n",
      "HEBP1 :  -0.000\n",
      "MAMLD1 :  -0.001\n",
      "CAPN1 :  -0.000\n",
      "BID :  -0.000\n",
      "NUDCD3 :  -0.000\n",
      "ATP2C1 :  -0.001\n",
      "ZDHHC6 :  -0.000\n",
      "RNH1 :  -0.001\n",
      "ALAS1 :  -0.001\n",
      "DERA :  -0.000\n",
      "TOMM34 :  -0.000\n",
      "FAS :  -0.000\n",
      "CD44 :  -0.001\n",
      "TBPL1 :  -0.000\n",
      "GRN :  0.000\n",
      "TIMP2 :  0.000\n",
      "RAI14 :  -0.001\n",
      "PNKP :  -0.001\n",
      "EPHA3 :  -0.000\n",
      "DSG2 :  -0.001\n",
      "RFC2 :  -0.000\n",
      "MAPK9 :  0.000\n",
      "HERPUD1 :  -0.001\n",
      "RRP12 :  0.000\n",
      "AKR7A2 :  -0.000\n",
      "LAMA3 :  -0.000\n",
      "TRAPPC3 :  -0.002\n",
      "ARID4B :  -0.000\n",
      "SYNE2 :  -0.000\n",
      "ATP11B :  -0.001\n",
      "TARBP1 :  -0.000\n",
      "GNA15 :  -0.001\n",
      "ACAA1 :  -0.001\n",
      "SPAG4 :  -0.000\n",
      "CDH3 :  0.000\n",
      "APPBP2 :  -0.001\n",
      "GPC1 :  -0.000\n",
      "LPAR2 :  0.000\n",
      "HMG20B :  -0.000\n",
      "TRAM2 :  -0.001\n",
      "ERBB3 :  -0.000\n",
      "ADAT1 :  -0.000\n",
      "PDIA5 :  -0.000\n",
      "SPEN :  -0.001\n",
      "MYLK :  -0.001\n",
      "PRKCQ :  -0.002\n",
      "MTHFD2 :  0.000\n",
      "PPP2R5A :  -0.001\n",
      "ELAVL1 :  -0.001\n",
      "FGFR2 :  -0.002\n",
      "ISOC1 :  0.001\n",
      "MTFR1 :  -0.000\n",
      "PHKA1 :  -0.000\n",
      "DHX29 :  -0.000\n",
      "DNTTIP2 :  -0.000\n",
      "TP53BP1 :  -0.001\n",
      "RHOA :  0.000\n",
      "IARS2 :  -0.001\n",
      "COASY :  -0.000\n",
      "NUP133 :  -0.001\n",
      "PIGB :  -0.000\n",
      "GNB5 :  -0.001\n",
      "RAB27A :  -0.001\n",
      "IKBKAP :  -0.000\n",
      "NUCB2 :  -0.000\n",
      "JMJD6 :  -0.000\n",
      "POLB :  -0.002\n",
      "ST6GALNAC2 :  -0.000\n",
      "CSNK2A2 :  -0.000\n",
      "CDC42 :  -0.001\n",
      "NCK2 :  -0.001\n",
      "MAP4K4 :  -0.000\n",
      "SNX13 :  -0.000\n",
      "PRKACA :  -0.000\n",
      "EPN2 :  -0.001\n",
      "SMC1A :  -0.000\n",
      "HSD17B10 :  -0.001\n",
      "P4HA2 :  -0.001\n",
      "NFATC3 :  -0.001\n",
      "STK10 :  -0.000\n",
      "SCARB1 :  0.001\n",
      "KDM5A :  -0.001\n",
      "PTGS2 :  -0.000\n",
      "IGF2BP2 :  -0.000\n",
      "GLI2 :  -0.001\n",
      "EED :  -0.001\n",
      "ICAM3 :  0.000\n",
      "RAP1GAP :  -0.001\n",
      "STXBP2 :  0.000\n",
      "TM9SF3 :  -0.000\n",
      "NFKB2 :  -0.000\n",
      "IL4R :  0.001\n",
      "UBE2A :  -0.002\n",
      "PIK3C3 :  -0.001\n",
      "EDN1 :  0.001\n",
      "PCM1 :  -0.001\n",
      "MKNK1 :  0.000\n",
      "FDFT1 :  -0.001\n",
      "PAFAH1B3 :  -0.001\n",
      "PGM1 :  -0.000\n",
      "EPB41L2 :  0.000\n",
      "KEAP1 :  -0.001\n",
      "RAB21 :  -0.001\n",
      "SESN1 :  -0.001\n",
      "CNOT4 :  -0.000\n",
      "MOK :  -0.002\n",
      "CXCL2 :  0.000\n",
      "MEF2C :  -0.001\n",
      "PTPRC :  -0.000\n",
      "ME2 :  -0.001\n",
      "ITGB5 :  0.000\n",
      "KAT6A :  -0.000\n",
      "ITGAE :  -0.001\n",
      "OXCT1 :  -0.001\n",
      "ZNF586 :  -0.001\n",
      "RPS5 :  -0.000\n",
      "FAT1 :  -0.000\n",
      "PPIE :  -0.001\n",
      "TXLNA :  -0.001\n",
      "MAP3K4 :  0.000\n",
      "CPNE3 :  -0.001\n",
      "CTTN :  -0.000\n",
      "ORC1 :  -0.000\n",
      "MAST2 :  -0.000\n",
      "BAX :  -0.000\n",
      "MMP2 :  -0.001\n",
      "GNAS :  0.000\n",
      "DNM1L :  -0.001\n",
      "AURKA :  -0.000\n",
      "GNA11 :  -0.001\n",
      "ANKRD10 :  -0.000\n",
      "PPP1R13B :  -0.000\n",
      "MAPKAPK5 :  -0.001\n",
      "PXN :  -0.001\n",
      "BIRC5 :  -0.001\n",
      "ICAM1 :  -0.000\n",
      "MCOLN1 :  -0.001\n",
      "AARS :  -0.000\n",
      "DLD :  -0.000\n",
      "WDR7 :  -0.000\n",
      "SPAG7 :  -0.001\n",
      "PSME1 :  0.000\n",
      "PPP2R3C :  -0.000\n",
      "PHGDH :  -0.001\n",
      "CDC45 :  -0.001\n",
      "HDAC6 :  -0.001\n",
      "HOOK2 :  -0.002\n",
      "BAMBI :  -0.001\n",
      "ABL1 :  -0.001\n",
      "CIRBP :  -0.001\n",
      "GADD45B :  -0.002\n",
      "CRKL :  -0.001\n",
      "MICALL1 :  0.000\n",
      "XBP1 :  -0.000\n",
      "FBXO7 :  -0.000\n",
      "HMOX1 :  -0.000\n",
      "CERK :  0.000\n",
      "ABHD4 :  -0.000\n",
      "POLE2 :  -0.000\n",
      "PYGL :  -0.001\n",
      "CGRRF1 :  0.000\n",
      "ATP6V1D :  -0.000\n",
      "TIMM9 :  -0.000\n",
      "GSTZ1 :  -0.000\n",
      "SPTLC2 :  -0.000\n",
      "LGMN :  -0.001\n",
      "DHRS7 :  -0.000\n",
      "EIF5 :  -0.000\n",
      "PCK2 :  -0.000\n",
      "NFKBIA :  -0.001\n",
      "NFATC4 :  -0.000\n",
      "CD40 :  -0.001\n",
      "MYBL2 :  -0.001\n",
      "RAE1 :  -0.001\n",
      "TPD52L2 :  -0.000\n",
      "TCFL5 :  -0.000\n",
      "CDC25B :  -0.001\n",
      "TRIB3 :  -0.001\n",
      "MYL9 :  -0.001\n",
      "USP14 :  -0.001\n",
      "RNMT :  -0.001\n",
      "PSMD10 :  -0.001\n",
      "PGRMC1 :  -0.001\n",
      "SUV39H1 :  -0.001\n",
      "PLP2 :  -0.001\n",
      "SLC25A14 :  -0.001\n",
      "HTATSF1 :  -0.000\n",
      "CORO1A :  -0.001\n",
      "PHKB :  0.000\n",
      "LYRM1 :  -0.000\n",
      "NUP93 :  -0.000\n",
      "ACD :  0.000\n",
      "COG4 :  -0.000\n",
      "PLA2G15 :  -0.001\n",
      "AXIN1 :  -0.001\n",
      "NARFL :  -0.001\n",
      "DNAJA3 :  -0.001\n",
      "STX4 :  -0.001\n",
      "CCP110 :  -0.000\n",
      "CSK :  -0.001\n",
      "FAH :  0.000\n",
      "HOMER2 :  -0.000\n",
      "GABPB1 :  -0.000\n",
      "TJP1 :  -0.000\n",
      "DECR1 :  0.000\n",
      "IKBKB :  -0.000\n",
      "TSTA3 :  -0.000\n",
      "ASAH1 :  -0.000\n",
      "BNIP3L :  -0.001\n",
      "MAN2B1 :  -0.001\n",
      "ECH1 :  -0.000\n",
      "NFKBIB :  -0.002\n",
      "RELB :  -0.000\n",
      "PIH1D1 :  0.000\n",
      "PLEKHJ1 :  -0.000\n",
      "AKAP8 :  -0.001\n",
      "POP4 :  -0.001\n",
      "FSD1 :  -0.001\n",
      "POLR2I :  -0.001\n",
      "ETFB :  -0.001\n",
      "GRWD1 :  -0.001\n",
      "LIG1 :  -0.000\n",
      "LSR :  -0.001\n",
      "CDK6 :  -0.000\n",
      "H2AFV :  -0.001\n",
      "DNAJB6 :  -0.001\n",
      "GRB10 :  -0.001\n",
      "FKBP14 :  -0.000\n",
      "STX1A :  -0.000\n",
      "CASP2 :  -0.000\n",
      "LSM5 :  -0.000\n",
      "SERPINE1 :  0.000\n",
      "PLOD3 :  -0.000\n",
      "RPA3 :  -0.000\n",
      "EZH2 :  -0.001\n",
      "MEST :  0.000\n",
      "BLVRA :  -0.000\n",
      "RHEB :  -0.002\n",
      "PRKAG2 :  -0.000\n",
      "BCL7B :  -0.001\n",
      "YKT6 :  0.000\n",
      "C5 :  -0.001\n",
      "DNM1 :  0.000\n",
      "TESK1 :  -0.000\n",
      "NPDC1 :  -0.001\n",
      "PDLIM1 :  -0.001\n",
      "GATA3 :  -0.000\n",
      "RAB11FIP2 :  0.000\n",
      "LIPA :  -0.001\n",
      "XPNPEP1 :  -0.000\n",
      "SMC3 :  -0.000\n",
      "ZMIZ1 :  -0.000\n",
      "CASC3 :  -0.001\n",
      "RAD51C :  -0.001\n",
      "RNF167 :  -0.000\n",
      "NUP88 :  -0.001\n",
      "BLMH :  -0.001\n",
      "SMARCD2 :  -0.001\n",
      "CYTH1 :  -0.001\n",
      "CCL2 :  0.000\n",
      "COL1A1 :  -0.000\n",
      "VAT1 :  0.000\n",
      "DUSP3 :  -0.000\n",
      "TMEM97 :  -0.002\n",
      "DCUN1D4 :  -0.000\n",
      "CHIC2 :  0.000\n",
      "INPP4B :  0.001\n",
      "WFS1 :  -0.001\n",
      "TRIM2 :  -0.000\n",
      "MFSD10 :  -0.001\n",
      "UGDH :  -0.000\n",
      "HSPA8 :  0.000\n",
      "CCND1 :  -0.001\n",
      "CCDC86 :  0.000\n",
      "TMEM109 :  -0.000\n",
      "BIRC2 :  -0.001\n",
      "PDHX :  -0.001\n",
      "SLC35F2 :  -0.001\n",
      "SLC11A2 :  -0.001\n",
      "MLEC :  -0.000\n",
      "CDKN1B :  0.000\n",
      "RFC5 :  -0.000\n",
      "TIMELESS :  -0.000\n",
      "GAPDH :  -0.001\n",
      "COPS7A :  -0.001\n",
      "PTPN6 :  -0.002\n",
      "GOLT1B :  -0.000\n",
      "C2CD5 :  -0.000\n",
      "PPARD :  0.000\n",
      "MCM3 :  -0.000\n",
      "ZNF451 :  -0.000\n",
      "ASCC3 :  -0.000\n",
      "GMNN :  0.000\n",
      "CCND3 :  -0.001\n",
      "TBP :  -0.001\n",
      "DUSP22 :  -0.000\n",
      "SENP6 :  -0.001\n",
      "PAPD7 :  -0.000\n",
      "GHR :  -0.001\n",
      "HMGCS1 :  -0.000\n",
      "KIF20A :  -0.001\n",
      "NNT :  -0.000\n",
      "HMGCR :  -0.001\n",
      "GNPDA1 :  -0.001\n",
      "SKP1 :  -0.001\n",
      "NR3C1 :  -0.001\n",
      "TCERG1 :  -0.000\n",
      "CSNK1A1 :  -0.000\n",
      "SMC4 :  0.000\n",
      "PCCB :  -0.001\n",
      "HES1 :  -0.002\n",
      "GNAI2 :  -0.000\n",
      "NPRL2 :  -0.001\n",
      "CBLB :  -0.000\n",
      "MAPKAPK3 :  -0.000\n",
      "ABCC5 :  -0.001\n",
      "MRPL19 :  -0.001\n",
      "STAT1 :  -0.000\n",
      "PECR :  -0.000\n",
      "TXNDC9 :  -0.001\n",
      "ST3GAL5 :  0.000\n",
      "KDM3A :  -0.001\n",
      "FHL2 :  -0.001\n",
      "STK25 :  -0.001\n",
      "ID2 :  -0.002\n",
      "CEBPZ :  -0.001\n",
      "SLC1A4 :  0.001\n",
      "TRAK2 :  0.000\n",
      "NFE2L2 :  -0.001\n",
      "MSH6 :  -0.000\n",
      "SPR :  -0.001\n",
      "SCP2 :  -0.001\n",
      "FAM20B :  -0.000\n",
      "ICMT :  -0.000\n",
      "ARHGEF2 :  -0.001\n",
      "PLA2G4A :  0.001\n",
      "GADD45A :  0.000\n",
      "RGS2 :  -0.001\n",
      "CRYZ :  -0.001\n",
      "LGALS8 :  -0.000\n",
      "SDHB :  -0.001\n",
      "KDM5B :  -0.001\n",
      "GALE :  -0.001\n",
      "EBNA1BP2 :  -0.000\n",
      "CDC20 :  -0.000\n",
      "IPO13 :  -0.000\n",
      "ATP6V0B :  -0.000\n",
      "PIK3R3 :  -0.001\n",
      "SLC35A3 :  -0.000\n",
      "STMN1 :  -0.001\n",
      "RPS6KA1 :  -0.001\n",
      "DHDDS :  -0.000\n",
      "NENF :  -0.001\n",
      "RPA2 :  -0.001\n",
      "KIF14 :  -0.001\n",
      "CAMSAP2 :  -0.000\n",
      "ATF6 :  -0.001\n",
      "CREB1 :  -0.000\n",
      "TMEM5 :  -0.001\n",
      "FOXO3 :  -0.001\n",
      "SPP1 :  -0.000\n",
      "ITGB1BP1 :  -0.001\n",
      "CCDC92 :  -0.001\n",
      "HEATR1 :  -0.000\n",
      "CTNNAL1 :  -0.001\n",
      "TGFB3 :  -0.001\n",
      "DNMT3A :  -0.001\n",
      "IDE :  -0.000\n",
      "SMNDC1 :  -0.001\n",
      "PCMT1 :  -0.000\n",
      "ACAT2 :  -0.000\n",
      "DNAJC15 :  -0.001\n",
      "UFM1 :  -0.001\n",
      "EGR1 :  -0.001\n",
      "PLS1 :  -0.000\n",
      "SOCS2 :  -0.000\n",
      "DUSP4 :  -0.001\n",
      "SORBS3 :  -0.001\n",
      "PTK2B :  0.001\n",
      "TBX2 :  -0.001\n",
      "SLC35B1 :  -0.000\n",
      "CAT :  -0.001\n",
      "ZMYM2 :  -0.000\n",
      "PIK3CA :  -0.001\n",
      "PDS5A :  -0.000\n",
      "CXCR4 :  -0.001\n",
      "MRPS2 :  -0.000\n",
      "CISD1 :  -0.000\n",
      "ECD :  0.000\n",
      "ACOT9 :  -0.001\n",
      "ATF1 :  -0.000\n",
      "CDK2 :  0.000\n",
      "LPGAT1 :  -0.001\n",
      "NCOA3 :  -0.001\n",
      "VAPB :  -0.001\n",
      "STAMBP :  0.000\n",
      "USP22 :  -0.001\n",
      "SPDEF :  -0.001\n",
      "SOX4 :  0.000\n",
      "TM9SF2 :  -0.001\n",
      "BMP4 :  -0.001\n",
      "NUP85 :  -0.000\n",
      "MBOAT7 :  -0.001\n",
      "IL1B :  -0.000\n",
      "PAX8 :  -0.004\n",
      "RTN2 :  -0.001\n",
      "PSMF1 :  -0.001\n",
      "BECN1 :  0.001\n",
      "TRAP1 :  -0.000\n",
      "TIMM17B :  0.000\n",
      "KTN1 :  -0.002\n",
      "PIN1 :  -0.001\n",
      "FBXL12 :  -0.000\n",
      "SYNGR3 :  -0.000\n",
      "MACF1 :  -0.001\n",
      "SMARCA4 :  -0.000\n",
      "TICAM1 :  -0.000\n",
      "PTPN12 :  -0.001\n",
      "GNAI1 :  -0.001\n",
      "ZFP36 :  -0.000\n",
      "PAICS :  -0.001\n",
      "CALU :  0.000\n",
      "CHN1 :  -0.001\n",
      "HAT1 :  -0.000\n",
      "CHAC1 :  -0.000\n",
      "ARPP19 :  -0.001\n",
      "LOXL1 :  0.000\n",
      "DCTD :  -0.001\n",
      "PARP2 :  -0.000\n",
      "SNX6 :  0.000\n",
      "EAPP :  -0.000\n",
      "REEP5 :  -0.001\n",
      "ITFG1 :  -0.001\n",
      "APOE :  -0.001\n",
      "XPO7 :  -0.002\n",
      "FCHO1 :  -0.002\n",
      "PAK4 :  -0.000\n",
      "DNMT1 :  -0.000\n",
      "PRR7 :  0.000\n",
      "SH3BP5 :  -0.001\n",
      "NR1H2 :  0.000\n",
      "ACLY :  -0.001\n",
      "IL13RA1 :  -0.001\n",
      "TOP2A :  -0.000\n",
      "DNAJB1 :  -0.001\n",
      "LRRC41 :  -0.001\n",
      "PPARG :  -0.001\n",
      "ENOSF1 :  -0.000\n",
      "ARFIP2 :  -0.001\n",
      "RRP8 :  -0.001\n",
      "RPA1 :  -0.000\n",
      "SNAP25 :  -0.000\n",
      "PCNA :  -0.001\n",
      "KIAA0907 :  -0.001\n",
      "IGHMBP2 :  0.000\n",
      "DPH2 :  -0.000\n",
      "WASF3 :  -0.001\n",
      "PIK3C2B :  -0.001\n",
      "CCNA1 :  -0.000\n",
      "TCEAL4 :  -0.000\n",
      "EPHB2 :  -0.001\n",
      "CNDP2 :  -0.001\n",
      "CCNB1 :  -0.001\n",
      "CDK7 :  -0.000\n",
      "BHLHE40 :  -0.000\n",
      "EDEM1 :  -0.000\n",
      "VAV3 :  -0.000\n",
      "PSRC1 :  0.000\n",
      "CCNH :  -0.001\n",
      "DDB2 :  0.000\n",
      "ETS1 :  -0.001\n",
      "TMEM2 :  -0.000\n",
      "FBXO21 :  -0.000\n",
      "DMTF1 :  -0.000\n",
      "TES :  -0.001\n",
      "CDK4 :  -0.001\n",
      "PAN2 :  -0.001\n",
      "MAP7 :  -0.000\n",
      "KCNK1 :  -0.000\n",
      "COG2 :  -0.000\n",
      "DNAJB2 :  -0.000\n",
      "CAB39 :  -0.001\n",
      "PWP1 :  -0.000\n",
      "SCRN1 :  -0.000\n",
      "BZW2 :  -0.000\n",
      "NMT1 :  -0.001\n",
      "EPRS :  -0.000\n",
      "YME1L1 :  -0.001\n",
      "TOR1A :  -0.001\n",
      "STXBP1 :  0.001\n",
      "TLR4 :  0.000\n",
      "PRPF4 :  -0.001\n",
      "FPGS :  -0.001\n",
      "TEX10 :  -0.001\n",
      "MYC :  -0.000\n",
      "RPS6 :  -0.001\n",
      "CNPY3 :  -0.000\n",
      "TFAP2A :  -0.001\n",
      "BPHL :  0.000\n",
      "IER3 :  -0.000\n",
      "PRCP :  -0.001\n",
      "SLC37A4 :  -0.001\n",
      "MAP2K5 :  -0.002\n",
      "SQRDL :  -0.002\n",
      "NUSAP1 :  -0.001\n",
      "PAK6 :  0.000\n",
      "ADAM10 :  -0.000\n",
      "SLC5A6 :  -0.000\n",
      "FBXO11 :  -0.001\n",
      "ANXA7 :  -0.001\n",
      "HERC6 :  -0.000\n",
      "CENPE :  -0.000\n",
      "HADH :  -0.000\n",
      "EGF :  -0.001\n",
      "DUSP6 :  -0.001\n",
      "RB1 :  -0.002\n",
      "MBNL2 :  -0.001\n",
      "GTF2A2 :  -0.001\n",
      "TSPAN3 :  -0.000\n",
      "WDR61 :  -0.001\n",
      "TPM1 :  -0.001\n",
      "IGF1R :  -0.000\n",
      "IQGAP1 :  -0.000\n",
      "PMM2 :  -0.001\n",
      "TXNL4B :  -0.001\n",
      "NOL3 :  -0.001\n",
      "MBTPS1 :  -0.001\n",
      "CLTC :  -0.000\n",
      "NPC1 :  -0.000\n",
      "TP53 :  -0.000\n",
      "PMAIP1 :  -0.000\n",
      "PIP4K2B :  -0.000\n",
      "ERBB2 :  -0.001\n",
      "GRB7 :  -0.000\n",
      "PFKL :  -0.000\n",
      "SIRT3 :  -0.000\n",
      "IFNAR1 :  -0.000\n",
      "APP :  -0.001\n",
      "AKT1 :  -0.001\n",
      "NOSIP :  -0.000\n",
      "WDTC1 :  -0.002\n",
      "KIF2C :  -0.000\n",
      "PTPRF :  -0.000\n",
      "MTF2 :  -0.000\n",
      "ATP1B1 :  -0.000\n",
      "MPC2 :  -0.000\n",
      "CREG1 :  -0.000\n",
      "TMCO1 :  -0.001\n",
      "PPOX :  -0.001\n",
      "RFX5 :  -0.001\n",
      "IKBKE :  -0.000\n",
      "DYRK3 :  -0.001\n",
      "TP53BP2 :  0.000\n",
      "SLC27A3 :  -0.000\n",
      "INTS3 :  -0.000\n",
      "SCCPDH :  -0.000\n",
      "NVL :  -0.000\n",
      "PARP1 :  -0.001\n",
      "LBR :  -0.000\n",
      "DUSP11 :  -0.000\n",
      "RALB :  0.000\n",
      "HSPD1 :  -0.000\n",
      "VGLL4 :  -0.001\n",
      "ATG3 :  -0.000\n",
      "TCTA :  0.000\n",
      "ENOPH1 :  -0.001\n",
      "SNCA :  -0.000\n",
      "CCNA2 :  -0.001\n",
      "MYO10 :  0.000\n",
      "SSBP2 :  -0.000\n",
      "RASA1 :  -0.000\n",
      "TNIP1 :  -0.001\n",
      "G3BP1 :  0.000\n",
      "GFOD1 :  -0.001\n",
      "TNFRSF21 :  -0.000\n",
      "NFKBIE :  -0.001\n",
      "EGFR :  -0.000\n",
      "IGFBP3 :  0.000\n",
      "TLK2 :  -0.001\n",
      "CASK :  0.000\n",
      "EBP :  -0.001\n",
      "NSDHL :  -0.001\n",
      "POLR2K :  -0.000\n",
      "CDKN2A :  -0.000\n",
      "NOTCH1 :  -0.002\n",
      "USP6NL :  0.000\n",
      "RSU1 :  -0.001\n",
      "PAK1 :  -0.000\n",
      "HYOU1 :  -0.000\n",
      "EML3 :  -0.001\n",
      "CHEK1 :  -0.000\n",
      "YTHDF1 :  -0.001\n",
      "PLCB3 :  0.000\n",
      "ALDOA :  -0.001\n",
      "HMGA2 :  -0.000\n",
      "ARID5B :  -0.001\n",
      "PRSS23 :  -0.000\n",
      "UBE3B :  -0.001\n",
      "INPP1 :  -0.000\n",
      "SLC25A4 :  -0.001\n",
      "BAG3 :  -0.000\n",
      "MBNL1 :  -0.000\n",
      "PTPRK :  0.000\n",
      "CAST :  -0.001\n",
      "CETN3 :  -0.000\n",
      "RPIA :  -0.001\n",
      "HS2ST1 :  -0.001\n",
      "PPP2R5E :  -0.001\n",
      "FAM69A :  -0.001\n",
      "TSEN2 :  -0.001\n",
      "CDK19 :  -0.001\n",
      "OXA1L :  -0.000\n",
      "FZD7 :  -0.001\n",
      "RRAGA :  -0.001\n",
      "DCK :  -0.001\n",
      "TIAM1 :  -0.000\n",
      "SUPV3L1 :  -0.000\n",
      "HK1 :  -0.001\n",
      "UBE2L6 :  -0.001\n",
      "KAT6B :  -0.000\n",
      "UTP14A :  -0.000\n",
      "MAPK13 :  0.000\n",
      "PHKG2 :  -0.001\n",
      "TATDN2 :  -0.001\n",
      "FZD1 :  -0.001\n",
      "KIT :  -0.002\n",
      "TSC22D3 :  -0.000\n",
      "C2CD2 :  -0.000\n",
      "FAIM :  -0.001\n",
      "GDPD5 :  -0.001\n",
      "NIT1 :  -0.001\n",
      "CSRP1 :  0.000\n",
      "CBR1 :  0.001\n",
      "CBR3 :  -0.001\n",
      "PSMD4 :  -0.001\n",
      "EFCAB14 :  0.000\n",
      "CALM3 :  -0.001\n",
      "DFFA :  -0.001\n",
      "NR2F6 :  -0.001\n",
      "RRP1B :  -0.000\n",
      "RALGDS :  -0.000\n",
      "SLC2A6 :  -0.000\n",
      "SHC1 :  -0.000\n",
      "ANO10 :  -0.001\n",
      "FGFR4 :  -0.000\n",
      "CPSF4 :  -0.001\n",
      "VPS28 :  -0.000\n",
      "SQSTM1 :  -0.000\n",
      "BDH1 :  -0.001\n",
      "DUSP14 :  -0.000\n",
      "CCNF :  -0.000\n",
      "AMDHD2 :  0.000\n",
      "KLHL21 :  -0.000\n",
      "USP1 :  0.000\n",
      "SNX7 :  0.000\n",
      "AGL :  -0.001\n",
      "DENND2D :  -0.001\n",
      "MAPKAPK2 :  -0.001\n",
      "SGCB :  -0.001\n",
      "VPS72 :  -0.001\n",
      "TGFBR2 :  -0.000\n",
      "GTPBP8 :  -0.000\n",
      "TIPARP :  -0.000\n",
      "ABHD6 :  0.000\n",
      "APBB2 :  -0.001\n",
      "TOPBP1 :  0.000\n",
      "RPN1 :  -0.001\n",
      "RPL39L :  -0.001\n",
      "PRKCD :  -0.001\n",
      "LRPAP1 :  0.001\n",
      "CDC25A :  -0.000\n",
      "ZNF589 :  -0.000\n",
      "LSM6 :  0.000\n",
      "SLC25A46 :  -0.001\n",
      "CASP3 :  -0.000\n",
      "TERT :  -0.000\n",
      "SLC35A1 :  -0.001\n",
      "NOS3 :  -0.001\n",
      "ALDH7A1 :  -0.001\n",
      "PSIP1 :  -0.000\n",
      "SYK :  -0.000\n",
      "NFIL3 :  -0.000\n",
      "DYNLT3 :  0.000\n",
      "MELK :  -0.001\n",
      "KLHDC2 :  -0.000\n",
      "HPRT1 :  -0.001\n",
      "CASP7 :  -0.001\n",
      "PACSIN3 :  -0.002\n",
      "HTRA1 :  0.000\n",
      "CEP57 :  -0.001\n",
      "NOLC1 :  -0.000\n",
      "FRS2 :  -0.001\n",
      "PCBD1 :  -0.000\n",
      "ILK :  -0.001\n",
      "KIAA0355 :  -0.001\n",
      "ATMIN :  -0.001\n",
      "BLCAP :  -0.001\n",
      "PEX11A :  -0.000\n",
      "TERF2IP :  -0.001\n",
      "PLK1 :  -0.000\n",
      "CLPX :  -0.001\n",
      "SMAD3 :  0.000\n",
      "PRR15L :  -0.000\n",
      "CRK :  -0.001\n",
      "FAM57A :  -0.001\n",
      "GLOD4 :  -0.000\n",
      "CD320 :  0.000\n",
      "KCTD5 :  -0.001\n",
      "RAB4A :  0.000\n",
      "MAPK1IP1L :  -0.000\n",
      "DDIT4 :  -0.001\n",
      "NT5DC2 :  -0.001\n",
      "KIF5C :  -0.000\n",
      "THAP11 :  -0.000\n",
      "COG7 :  -0.000\n",
      "RAB31 :  -0.001\n",
      "STAT3 :  -0.001\n",
      "PKIG :  -0.000\n",
      "MAT2A :  -0.000\n",
      "PPIC :  -0.000\n",
      "ATF5 :  -0.001\n",
      "ADRB2 :  -0.000\n",
      "PTK2 :  0.000\n",
      "CLIC4 :  0.000\n",
      "DFFB :  -0.001\n",
      "RFNG :  -0.001\n",
      "CRTAP :  0.000\n",
      "CDK1 :  -0.000\n",
      "FOS :  -0.001\n",
      "TMED10 :  -0.000\n",
      "NUDT9 :  -0.000\n",
      "ELOVL6 :  -0.000\n",
      "HSPA4 :  -0.000\n",
      "CDCA4 :  -0.000\n",
      "FEZ2 :  -0.000\n",
      "RBKS :  -0.001\n",
      "SCAND1 :  -0.000\n",
      "GAA :  -0.001\n",
      "CANT1 :  -0.001\n",
      "POLR1C :  -0.001\n",
      "ZNF318 :  -0.000\n",
      "WIPF2 :  -0.000\n",
      "CLSTN1 :  -0.000\n",
      "ZNF274 :  -0.001\n",
      "TCEA2 :  -0.000\n",
      "BCL2 :  0.000\n",
      "MALT1 :  -0.000\n",
      "ZNF131 :  0.000\n",
      "C2CD2L :  -0.001\n",
      "ARNT2 :  0.000\n",
      "RAD9A :  -0.001\n",
      "OXSR1 :  -0.000\n",
      "GLRX :  -0.000\n",
      "TRIB1 :  -0.002\n",
      "DAG1 :  -0.000\n",
      "SMARCC1 :  -0.001\n",
      "STAT5B :  -0.001\n",
      "NET1 :  -0.000\n",
      "FUT1 :  -0.000\n",
      "UBE2C :  -0.001\n",
      "ARHGAP1 :  -0.001\n",
      "CCNE2 :  0.000\n",
      "CLTB :  0.000\n",
      "DRAP1 :  -0.000\n",
      "FOSL1 :  -0.001\n",
      "CCDC85B :  0.000\n",
      "RUVBL1 :  -0.001\n",
      "SFN :  -0.001\n",
      "MSRA :  -0.000\n",
      "TUBB6 :  -0.001\n",
      "CHMP6 :  -0.000\n",
      "BNIP3 :  -0.001\n",
      "CDK5R1 :  -0.001\n",
      "TIMM22 :  -0.001\n",
      "JUN :  -0.001\n",
      "STAP2 :  -0.000\n",
      "DDX10 :  -0.000\n",
      "P4HTM :  -0.001\n",
      "SUZ12 :  -0.001\n",
      "EXOSC4 :  -0.000\n",
      "AURKB :  -0.000\n",
      "RRS1 :  -0.000\n",
      "GATA2 :  -0.000\n",
      "RBM15B :  -0.002\n",
      "PUF60 :  -0.001\n",
      "NRIP1 :  0.000\n",
      "ADO :  -0.000\n",
      "WRB :  -0.000\n",
      "MRPS16 :  -0.000\n",
      "EXT1 :  -0.000\n",
      "BACE2 :  0.000\n",
      "ADI1 :  -0.001\n",
      "TSKU :  -0.001\n",
      "ACBD3 :  0.000\n",
      "MTA1 :  -0.000\n",
      "PYCR1 :  -0.000\n",
      "PSMG1 :  -0.000\n",
      "TMEM50A :  -0.000\n",
      "CHEK2 :  -0.000\n",
      "PRKX :  -0.001\n",
      "NIPSNAP1 :  -0.000\n",
      "CRELD2 :  0.000\n",
      "COPB2 :  -0.000\n",
      "FOXO4 :  0.000\n",
      "PROS1 :  -0.000\n",
      "HIST2H2BE :  -0.001\n",
      "MUC1 :  -0.003\n",
      "IKZF1 :  -0.000\n",
      "INSIG1 :  -0.000\n",
      "GPATCH8 :  -0.000\n",
      "ZNF395 :  -0.000\n",
      "CHP1 :  -0.002\n",
      "COL4A1 :  -0.000\n",
      "USP7 :  -0.001\n",
      "EIF4EBP1 :  -0.001\n",
      "UBQLN2 :  -0.000\n",
      "ARL4C :  -0.001\n",
      "PLSCR1 :  -0.001\n",
      "S100A13 :  -0.001\n",
      "S100A4 :  -0.000\n",
      "PTPN1 :  -0.000\n",
      "EVL :  -0.001\n",
      "PIK3R4 :  -0.001\n",
      "HDAC2 :  -0.000\n",
      "MMP1 :  -0.001\n",
      "TLE1 :  -0.001\n",
      "ARHGEF12 :  0.000\n",
      "LAGE3 :  -0.002\n",
      "IGF2R :  -0.000\n",
      "SRC :  -0.001\n",
      "TBC1D9B :  -0.000\n",
      "GTF2E2 :  -0.001\n",
      "LRP10 :  -0.000\n",
      "PDGFA :  -0.001\n",
      "SPTAN1 :  -0.000\n",
      "ADH5 :  -0.000\n",
      "HIST1H2BK :  -0.000\n",
      "MPZL1 :  -0.001\n",
      "TFDP1 :  -0.001\n",
      "DDX42 :  -0.001\n",
      "SPRED2 :  -0.002\n",
      "GFPT1 :  -0.000\n",
      "TXNRD1 :  -0.000\n",
      "CTNND1 :  -0.000\n",
      "KLHL9 :  -0.002\n",
      "PNP :  -0.001\n",
      "FOXJ3 :  -0.001\n",
      "UBE2J1 :  -0.001\n",
      "KIAA0753 :  -0.001\n",
      "DAXX :  -0.000\n",
      "PSMB8 :  -0.001\n",
      "HLA-DRA :  -0.000\n",
      "SKIV2L :  -0.000\n",
      "HSPA1A :  -0.001\n",
      "ABCF1 :  -0.001\n",
      "DDR1 :  -0.000\n",
      "TCTN1 :  -0.000\n",
      "TRIM13 :  -0.002\n",
      "RNPS1 :  -0.001\n",
      "HN1L :  -0.000\n",
      "SACM1L :  -0.000\n",
      "MLLT11 :  -0.001\n",
      "NRAS :  -0.000\n",
      "CSNK1E :  0.001\n",
      "TSPAN4 :  -0.000\n",
      "MYCBP :  0.001\n",
      "FIS1 :  -0.000\n",
      "IFRD2 :  -0.001\n",
      "NPEPL1 :  -0.000\n",
      "CEBPD :  -0.001\n",
      "PLEKHM1 :  -0.000\n",
      "MIF :  0.000\n",
      "PRAF2 :  0.000\n",
      "LYN :  -0.001\n",
      "POLG2 :  -0.000\n"
     ]
    },
    {
     "data": {
      "image/png": "[encoded data removed]",
      "text/plain": [
       "<Figure size 4320x1440 with 1 Axes>"
      ]
     },
     "metadata": {
      "needs_background": "light"
     },
     "output_type": "display_data"
    }
   ],
   "source": [
    "# visualize_importances(all_feat, np.mean(folds[0], axis=0))\n",
    "# visualize_importances(all_feat, mean_folds)\n",
    "visualize_importances(all_feat[18:], mean_folds[18:])"
   ]
  },
  {
   "cell_type": "code",
   "execution_count": 54,
   "metadata": {},
   "outputs": [],
   "source": [
    "# shap.summary_plot(features=all_feat, feature_names=all_feat)"
   ]
  },
  {
   "cell_type": "code",
   "execution_count": 63,
   "metadata": {},
   "outputs": [
    {
     "data": {
      "text/plain": [
       "[18, 19, 20, 21, 22, 23, 24, 25, 26, 27, 28, 29]"
      ]
     },
     "execution_count": 63,
     "metadata": {},
     "output_type": "execute_result"
    }
   ],
   "source": [
    "list(range(30))[18:]"
   ]
  },
  {
   "cell_type": "code",
   "execution_count": 64,
   "metadata": {},
   "outputs": [
    {
     "data": {
      "text/plain": [
       "[0, 1, 2, 3, 4, 5, 6, 7, 8, 9, 10, 11, 12, 13, 14, 15, 16, 17]"
      ]
     },
     "execution_count": 64,
     "metadata": {},
     "output_type": "execute_result"
    }
   ],
   "source": [
    "list(range(30))[:18]"
   ]
  },
  {
   "cell_type": "code",
   "execution_count": null,
   "metadata": {},
   "outputs": [],
   "source": [
    "Drug2_IsInRing :  -0.196\n",
    "TSPAN6 :  -0.000\n"
   ]
  }
 ],
 "metadata": {
  "kernelspec": {
   "display_name": "Python 3 (ipykernel)",
   "language": "python",
   "name": "python3"
  },
  "language_info": {
   "codemirror_mode": {
    "name": "ipython",
    "version": 3
   },
   "file_extension": ".py",
   "mimetype": "text/x-python",
   "name": "python",
   "nbconvert_exporter": "python",
   "pygments_lexer": "ipython3",
   "version": "3.9.9"
  }
 },
 "nbformat": 4,
 "nbformat_minor": 4
}
