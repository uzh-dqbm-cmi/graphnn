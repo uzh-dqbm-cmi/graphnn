{
 "cells": [
  {
   "cell_type": "code",
   "execution_count": 1,
   "metadata": {},
   "outputs": [],
   "source": [
    "%load_ext autoreload\n",
    "%autoreload 2"
   ]
  },
  {
   "cell_type": "code",
   "execution_count": 2,
   "metadata": {},
   "outputs": [],
   "source": [
    "import os\n",
    "import sys\n",
    "import numpy as np\n",
    "import pandas as pd\n",
    "import datetime\n",
    "import seaborn as sns\n",
    "import ogb\n",
    "from tqdm import tqdm\n",
    "import hiplot as hip\n",
    "from copy import deepcopy\n",
    "import datetime"
   ]
  },
  {
   "cell_type": "code",
   "execution_count": 3,
   "metadata": {},
   "outputs": [],
   "source": [
    "import torch\n",
    "from torch_geometric.data import Data\n",
    "from torch_geometric.loader import DataLoader\n",
    "from torch.utils.data import Subset, TensorDataset"
   ]
  },
  {
   "cell_type": "code",
   "execution_count": 4,
   "metadata": {},
   "outputs": [
    {
     "name": "stdout",
     "output_type": "stream",
     "text": [
      "/cluster/work/medinfmk/lm1-homes/skyriakos-lm1-home/data_to_migrate/chemprop_run/git/notebooks/Baselines\n",
      "/cluster/work/medinfmk/lm1-homes/skyriakos-lm1-home/data_to_migrate/chemprop_run/git\n"
     ]
    }
   ],
   "source": [
    "cwd = os.getcwd()\n",
    "print(cwd)\n",
    "# cwd_parent = os.path.abspath(os.path.join(cwd, os.pardir))\n",
    "cwd_parent = os.path.abspath(os.path.join(cwd, '../../'))\n",
    "print(cwd_parent)\n",
    "\n",
    "sys.path.append(cwd_parent)"
   ]
  },
  {
   "cell_type": "code",
   "execution_count": 5,
   "metadata": {},
   "outputs": [],
   "source": [
    "import deepadr\n",
    "from deepadr.dataset import *\n",
    "from deepadr.utilities import *\n",
    "from deepadr.chemfeatures import *\n",
    "from deepadr.train_functions_DeepDDS import *\n",
    "from deepadr.model_gnn_ogb import GNN, DeepAdr_SiameseTrf, ExpressionNN"
   ]
  },
  {
   "cell_type": "code",
   "execution_count": 6,
   "metadata": {},
   "outputs": [],
   "source": [
    "from rdkit.Chem.Draw import IPythonConsole\n",
    "from rdkit.Chem import Draw"
   ]
  },
  {
   "cell_type": "code",
   "execution_count": 7,
   "metadata": {},
   "outputs": [],
   "source": [
    "rawdata_dir = '../data/raw/'\n",
    "processed_dir = '../data/processed/'\n",
    "up_dir = '..'"
   ]
  },
  {
   "cell_type": "code",
   "execution_count": 8,
   "metadata": {},
   "outputs": [
    {
     "name": "stdout",
     "output_type": "stream",
     "text": [
      "number of GPUs available: 5\n",
      "cuda:0, name:NVIDIA GeForce GTX 1080 Ti\n",
      "total memory available: 10.91656494140625 GB\n",
      "total memory allocated on device: 0.0 GB\n",
      "max memory allocated on device: 0.0 GB\n",
      "total memory cached on device: 0.0 GB\n",
      "max memory cached  on device: 0.0 GB\n",
      "\n",
      "cuda:1, name:NVIDIA GeForce GTX 1080 Ti\n",
      "total memory available: 10.91656494140625 GB\n",
      "total memory allocated on device: 0.0 GB\n",
      "max memory allocated on device: 0.0 GB\n",
      "total memory cached on device: 0.0 GB\n",
      "max memory cached  on device: 0.0 GB\n",
      "\n",
      "cuda:2, name:NVIDIA GeForce GTX 1080 Ti\n",
      "total memory available: 10.91656494140625 GB\n",
      "total memory allocated on device: 0.0 GB\n",
      "max memory allocated on device: 0.0 GB\n",
      "total memory cached on device: 0.0 GB\n",
      "max memory cached  on device: 0.0 GB\n",
      "\n",
      "cuda:3, name:NVIDIA GeForce GTX 1080 Ti\n",
      "total memory available: 10.91656494140625 GB\n",
      "total memory allocated on device: 0.0 GB\n",
      "max memory allocated on device: 0.0 GB\n",
      "total memory cached on device: 0.0 GB\n",
      "max memory cached  on device: 0.0 GB\n",
      "\n",
      "cuda:4, name:NVIDIA GeForce GTX 1080 Ti\n",
      "total memory available: 10.91656494140625 GB\n",
      "total memory allocated on device: 0.0 GB\n",
      "max memory allocated on device: 0.0 GB\n",
      "total memory cached on device: 0.0 GB\n",
      "max memory cached  on device: 0.0 GB\n",
      "\n"
     ]
    }
   ],
   "source": [
    "report_available_cuda_devices()"
   ]
  },
  {
   "cell_type": "code",
   "execution_count": 9,
   "metadata": {},
   "outputs": [
    {
     "data": {
      "text/plain": [
       "5"
      ]
     },
     "execution_count": 9,
     "metadata": {},
     "output_type": "execute_result"
    }
   ],
   "source": [
    "n_gpu = torch.cuda.device_count()\n",
    "n_gpu"
   ]
  },
  {
   "cell_type": "code",
   "execution_count": 10,
   "metadata": {},
   "outputs": [],
   "source": [
    "device_cpu = get_device(to_gpu=False)\n",
    "# device_gpu = get_device(True, index=0)"
   ]
  },
  {
   "cell_type": "code",
   "execution_count": 11,
   "metadata": {},
   "outputs": [
    {
     "name": "stdout",
     "output_type": "stream",
     "text": [
      "torch: 1.11.0+cu115\n",
      "CUDA: 11.5\n",
      "3.8.10 (default, Nov 14 2022, 12:59:47) \n",
      "[GCC 9.4.0]\n"
     ]
    }
   ],
   "source": [
    "print(\"torch:\", torch.__version__)\n",
    "print(\"CUDA:\", torch.version.cuda)\n",
    "print(sys.version)"
   ]
  },
  {
   "cell_type": "markdown",
   "metadata": {},
   "source": [
    "### Preparing dataset "
   ]
  },
  {
   "cell_type": "code",
   "execution_count": 12,
   "metadata": {},
   "outputs": [],
   "source": [
    "# options: \n",
    "# 'total_thresh' + 4,3,2\n",
    "# 'loewe_thresh', 'hsa_thresh', 'bliss_thresh', 'zip_thresh' + 1\n",
    "\n",
    "score = 'total_thresh'\n",
    "score_val = 4"
   ]
  },
  {
   "cell_type": "code",
   "execution_count": 13,
   "metadata": {},
   "outputs": [],
   "source": [
    "DSdataset_name = f'DrugComb_{score}_{score_val}'\n",
    "\n",
    "data_fname = 'data_v1' # v2 for baseline models"
   ]
  },
  {
   "cell_type": "code",
   "execution_count": 14,
   "metadata": {},
   "outputs": [
    {
     "name": "stdout",
     "output_type": "stream",
     "text": [
      "path_current_dir /cluster/work/medinfmk/lm1-homes/skyriakos-lm1-home/data_to_migrate/chemprop_run/git/deepadr\n",
      "path_current_dir /cluster/work/medinfmk/lm1-homes/skyriakos-lm1-home/data_to_migrate/chemprop_run/git/deepadr\n",
      "path_current_dir /cluster/work/medinfmk/lm1-homes/skyriakos-lm1-home/data_to_migrate/chemprop_run/git/deepadr\n",
      "path_current_dir /cluster/work/medinfmk/lm1-homes/skyriakos-lm1-home/data_to_migrate/chemprop_run/git/deepadr\n",
      "/cluster/work/medinfmk/lm1-homes/skyriakos-lm1-home/data_to_migrate/chemprop_run/git/data/processed/DrugComb_total_thresh_4/data_v1\n"
     ]
    }
   ],
   "source": [
    "targetdata_dir = create_directory(os.path.join(processed_dir, DSdataset_name, data_fname))\n",
    "targetdata_dir_raw = create_directory(os.path.join(targetdata_dir, \"raw\"))\n",
    "targetdata_dir_processed = create_directory(os.path.join(targetdata_dir, \"processed\"))\n",
    "targetdata_dir_exp = create_directory(os.path.join(targetdata_dir, \"experiments\"))\n",
    "# # ReaderWriter.dump_data(dpartitions, os.path.join(targetdata_dir, 'data_partitions.pkl'))\n",
    "print(targetdata_dir)"
   ]
  },
  {
   "cell_type": "code",
   "execution_count": 15,
   "metadata": {},
   "outputs": [
    {
     "name": "stdout",
     "output_type": "stream",
     "text": [
      "CPU times: user 19 ms, sys: 351 ms, total: 370 ms\n",
      "Wall time: 368 ms\n"
     ]
    }
   ],
   "source": [
    "%%time\n",
    "\n",
    "# Make sure to first run the \"DDoS_Dataset_Generation\" notebook first\n",
    "\n",
    "dataset = MoleculeDataset(root=targetdata_dir)"
   ]
  },
  {
   "cell_type": "code",
   "execution_count": 16,
   "metadata": {},
   "outputs": [
    {
     "data": {
      "text/plain": [
       "tensor([0, 0, 0,  ..., 0, 1, 1], dtype=torch.int32)"
      ]
     },
     "execution_count": 16,
     "metadata": {},
     "output_type": "execute_result"
    }
   ],
   "source": [
    "dataset.data.y"
   ]
  },
  {
   "cell_type": "code",
   "execution_count": 17,
   "metadata": {},
   "outputs": [
    {
     "name": "stdout",
     "output_type": "stream",
     "text": [
      "fold_num: 0\n",
      "train data\n",
      "class: 0 norm count: 0.5764128559102675\n",
      "class: 1 norm count: 0.4235871440897325\n",
      "validation data\n",
      "class: 0 norm count: 0.5764192139737991\n",
      "class: 1 norm count: 0.42358078602620086\n",
      "test data\n",
      "class: 0 norm count: 0.5764751552795031\n",
      "class: 1 norm count: 0.4235248447204969\n",
      "\n",
      "-------------------------\n",
      "fold_num: 1\n",
      "train data\n",
      "class: 0 norm count: 0.5764128559102675\n",
      "class: 1 norm count: 0.4235871440897325\n",
      "validation data\n",
      "class: 0 norm count: 0.5764192139737991\n",
      "class: 1 norm count: 0.42358078602620086\n",
      "test data\n",
      "class: 0 norm count: 0.5764751552795031\n",
      "class: 1 norm count: 0.4235248447204969\n",
      "\n",
      "-------------------------\n",
      "fold_num: 2\n",
      "train data\n",
      "class: 0 norm count: 0.5764356969533567\n",
      "class: 1 norm count: 0.4235643030466433\n",
      "validation data\n",
      "class: 0 norm count: 0.5764192139737991\n",
      "class: 1 norm count: 0.42358078602620086\n",
      "test data\n",
      "class: 0 norm count: 0.5763929334109882\n",
      "class: 1 norm count: 0.4236070665890118\n",
      "\n",
      "-------------------------\n",
      "fold_num: 3\n",
      "train data\n",
      "class: 0 norm count: 0.5764356969533567\n",
      "class: 1 norm count: 0.4235643030466433\n",
      "validation data\n",
      "class: 0 norm count: 0.5764192139737991\n",
      "class: 1 norm count: 0.42358078602620086\n",
      "test data\n",
      "class: 0 norm count: 0.5763929334109882\n",
      "class: 1 norm count: 0.4236070665890118\n",
      "\n",
      "-------------------------\n",
      "fold_num: 4\n",
      "train data\n",
      "class: 0 norm count: 0.5764356969533567\n",
      "class: 1 norm count: 0.4235643030466433\n",
      "validation data\n",
      "class: 0 norm count: 0.5764192139737991\n",
      "class: 1 norm count: 0.42358078602620086\n",
      "test data\n",
      "class: 0 norm count: 0.5763929334109882\n",
      "class: 1 norm count: 0.4236070665890118\n",
      "\n",
      "-------------------------\n"
     ]
    }
   ],
   "source": [
    "fold_partitions = get_stratified_partitions(dataset.data.y,\n",
    "                                            num_folds=5,\n",
    "                                            valid_set_portion=0.1,\n",
    "                                            random_state=42)"
   ]
  },
  {
   "cell_type": "code",
   "execution_count": 18,
   "metadata": {},
   "outputs": [
    {
     "name": "stdout",
     "output_type": "stream",
     "text": [
      "Number of training graphs: 18544\n",
      "Number of validation graphs: 2061\n",
      "Number of testing graphs: 5152\n"
     ]
    }
   ],
   "source": [
    "print(\"Number of training graphs: \"+ str(len(fold_partitions[0]['train'])))\n",
    "print(\"Number of validation graphs: \"+ str(len(fold_partitions[0]['validation'])))\n",
    "print(\"Number of testing graphs: \"+ str(len(fold_partitions[0]['test'])))"
   ]
  },
  {
   "cell_type": "code",
   "execution_count": 19,
   "metadata": {},
   "outputs": [],
   "source": [
    "# print(dataset.num_classes)"
   ]
  },
  {
   "cell_type": "code",
   "execution_count": 20,
   "metadata": {},
   "outputs": [],
   "source": [
    "# training parameters\n",
    "\n",
    "tp = {\n",
    "    \"batch_size\" : 300,\n",
    "    \"num_epochs\" : 100,\n",
    "    \n",
    "    \"emb_dim\" : 128,\n",
    "    \"gnn_type\" : \"gat\",\n",
    "    \"num_layer\" : 5,\n",
    "    \"graph_pooling\" : \"max\", #attention\n",
    "    \n",
    "    \"input_embed_dim\" : None,\n",
    "    \"gene_embed_dim\": 1,\n",
    "    \"num_attn_heads\" : 10,\n",
    "    \"num_transformer_units\" : 1,\n",
    "    \"p_dropout\" : 0.2,\n",
    "#     \"nonlin_func\" : nn.ReLU(),\n",
    "    \"mlp_embed_factor\" : 2,\n",
    "    \"pooling_mode\" : 'attn',\n",
    "    \"dist_opt\" : 'cosine',\n",
    "\n",
    "    \"base_lr\" : 3e-4, #3e-4\n",
    "    \"max_lr_mul\": 10,\n",
    "    \"l2_reg\" : 1e-7,\n",
    "    \"loss_w\" : 1.,\n",
    "    \"margin_v\" : 1.,\n",
    "\n",
    "    \"expression_dim\" : 64,\n",
    "    \"expression_input_size\" : 908,\n",
    "    \"exp_H1\" : 2048,\n",
    "    \"exp_H2\" : 512\n",
    "}"
   ]
  },
  {
   "cell_type": "code",
   "execution_count": 21,
   "metadata": {},
   "outputs": [],
   "source": [
    "def spawn_q_process(q_process):\n",
    "    print(\">>> spawning hyperparam search process\")\n",
    "    q_process.start()\n",
    "    \n",
    "def join_q_process(q_process):\n",
    "    q_process.join()\n",
    "    print(\"<<< joined hyperparam search process\")\n",
    "    \n",
    "def create_q_process(queue, used_dataset, gpu_num, tphp, exp_dir, partition):\n",
    "    return mp.Process(target=deepadr.train_functions_DeepDDS.run_exp_deepdds, args=(queue, used_dataset, gpu_num, tphp, exp_dir, partition))"
   ]
  },
  {
   "cell_type": "code",
   "execution_count": 22,
   "metadata": {
    "scrolled": false
   },
   "outputs": [
    {
     "name": "stdout",
     "output_type": "stream",
     "text": [
      "Start: 2023-03-08_14-32-40\n",
      "path_current_dir /cluster/work/medinfmk/lm1-homes/skyriakos-lm1-home/data_to_migrate/chemprop_run/git/deepadr\n",
      "path_current_dir /cluster/work/medinfmk/lm1-homes/skyriakos-lm1-home/data_to_migrate/chemprop_run/git/deepadr\n",
      ">>> spawning hyperparam search process\n",
      "path_current_dir /cluster/work/medinfmk/lm1-homes/skyriakos-lm1-home/data_to_migrate/chemprop_run/git/deepadr\n",
      "path_current_dir /cluster/work/medinfmk/lm1-homes/skyriakos-lm1-home/data_to_migrate/chemprop_run/git/deepadr\n",
      ">>> spawning hyperparam search process\n"
     ]
    },
    {
     "name": "stderr",
     "output_type": "stream",
     "text": [
      "\r",
      "Iteration:   0%|          | 0/62 [00:00<?, ?it/s]"
     ]
    },
    {
     "name": "stdout",
     "output_type": "stream",
     "text": [
      "gpu: cuda:0\n",
      "Dropout(p=0.2, inplace=False) Dropout(p=0.2, inplace=False)\n",
      "=====Epoch 0\n",
      "Training...\n",
      "path_current_dir /cluster/work/medinfmk/lm1-homes/skyriakos-lm1-home/data_to_migrate/chemprop_run/git/deepadr\n",
      "path_current_dir /cluster/work/medinfmk/lm1-homes/skyriakos-lm1-home/data_to_migrate/chemprop_run/git/deepadr\n",
      ">>> spawning hyperparam search process\n"
     ]
    },
    {
     "name": "stderr",
     "output_type": "stream",
     "text": [
      "\r",
      "Iteration:   2%|▏         | 1/62 [00:02<02:57,  2.92s/it]"
     ]
    },
    {
     "name": "stdout",
     "output_type": "stream",
     "text": [
      "gpu: cuda:1\n",
      "Dropout(p=0.2, inplace=False) Dropout(p=0.2, inplace=False)\n",
      "=====Epoch 0\n",
      "Training...\n",
      "path_current_dir /cluster/work/medinfmk/lm1-homes/skyriakos-lm1-home/data_to_migrate/chemprop_run/git/deepadr\n",
      "path_current_dir /cluster/work/medinfmk/lm1-homes/skyriakos-lm1-home/data_to_migrate/chemprop_run/git/deepadr\n",
      ">>> spawning hyperparam search process\n"
     ]
    },
    {
     "name": "stderr",
     "output_type": "stream",
     "text": [
      "Iteration:  35%|███▌      | 22/62 [00:07<00:04,  9.41it/s]"
     ]
    },
    {
     "name": "stdout",
     "output_type": "stream",
     "text": [
      "gpu: cuda:2\n",
      "Dropout(p=0.2, inplace=False) Dropout(p=0.2, inplace=False)\n",
      "=====Epoch 0\n",
      "Training...\n",
      "path_current_dir /cluster/work/medinfmk/lm1-homes/skyriakos-lm1-home/data_to_migrate/chemprop_run/git/deepadr\n",
      "path_current_dir /cluster/work/medinfmk/lm1-homes/skyriakos-lm1-home/data_to_migrate/chemprop_run/git/deepadr\n",
      ">>> spawning hyperparam search process\n"
     ]
    },
    {
     "name": "stderr",
     "output_type": "stream",
     "text": [
      "Iteration:  94%|█████████▎| 58/62 [00:10<00:00, 10.15it/s]"
     ]
    },
    {
     "name": "stdout",
     "output_type": "stream",
     "text": [
      "gpu: cuda:3\n",
      "Dropout(p=0.2, inplace=False) Dropout(p=0.2, inplace=False)\n",
      "=====Epoch 0\n",
      "Training...\n"
     ]
    },
    {
     "name": "stderr",
     "output_type": "stream",
     "text": [
      "Iteration: 100%|██████████| 62/62 [00:10<00:00,  5.75it/s]\n",
      "Iteration:   5%|▍         | 3/62 [00:00<00:02, 22.66it/s]]"
     ]
    },
    {
     "name": "stdout",
     "output_type": "stream",
     "text": [
      "Evaluating...\n"
     ]
    },
    {
     "name": "stderr",
     "output_type": "stream",
     "text": [
      "Iteration:  16%|█▌        | 10/62 [00:06<00:10,  5.16it/s]\n",
      "Iteration:  24%|██▍       | 15/62 [00:07<00:06,  7.25it/s]"
     ]
    },
    {
     "name": "stdout",
     "output_type": "stream",
     "text": [
      "gpu: cuda:4\n",
      "Dropout(p=0.2, inplace=False) Dropout(p=0.2, inplace=False)\n",
      "=====Epoch 0\n",
      "Training...\n"
     ]
    },
    {
     "name": "stderr",
     "output_type": "stream",
     "text": [
      "Iteration: 100%|██████████| 62/62 [00:11<00:00,  5.55it/s]\n",
      "Iteration:  67%|██████▋   | 12/18 [00:01<00:00, 11.97it/s]"
     ]
    },
    {
     "name": "stdout",
     "output_type": "stream",
     "text": [
      "Evaluating...\n"
     ]
    },
    {
     "name": "stderr",
     "output_type": "stream",
     "text": [
      "Iteration:  47%|████▋     | 29/62 [00:08<00:02, 12.14it/s]\n",
      "Iteration: 100%|██████████| 7/7 [00:00<00:00, 14.13it/s]s]\n",
      "Iteration:  48%|████▊     | 30/62 [00:01<00:01, 25.07it/s]"
     ]
    },
    {
     "name": "stdout",
     "output_type": "stream",
     "text": [
      "{'Train':  best_epoch_indx:0\n",
      " auc:0.7297150100887788 \n",
      " apur:0.6692570938267602 \n",
      " f1:0.5813076278290025 \n",
      " precision:0.6440179538771088 \n",
      " recall:0.5297262889879057 \n",
      ", 'Validation':  best_epoch_indx:0\n",
      " auc:0.715291517697016 \n",
      " apur:0.6630316730000038 \n",
      " f1:0.5634870499052432 \n",
      " precision:0.6281690140845071 \n",
      " recall:0.5108820160366552 \n",
      ", 'Test':  best_epoch_indx:0\n",
      " auc:0.7085634839072052 \n",
      " apur:0.6453960407546059 \n",
      " f1:0.5572365103378719 \n",
      " precision:0.6193946188340808 \n",
      " recall:0.5064161319890009 \n",
      "}\n",
      "=====Epoch 1\n",
      "Training...\n"
     ]
    },
    {
     "name": "stderr",
     "output_type": "stream",
     "text": [
      "Iteration:  47%|████▋     | 29/62 [00:01<00:01, 20.00it/s]\n",
      "Iteration: 100%|██████████| 62/62 [00:11<00:00,  5.57it/s]\n",
      "Iteration:  35%|███▌      | 22/62 [00:07<00:04,  8.34it/s]"
     ]
    },
    {
     "name": "stdout",
     "output_type": "stream",
     "text": [
      "Evaluating...\n"
     ]
    },
    {
     "name": "stderr",
     "output_type": "stream",
     "text": [
      "Iteration:  90%|█████████ | 56/62 [00:03<00:00, 19.70it/s]\n",
      "Iteration: 100%|██████████| 62/62 [00:03<00:00, 18.31it/s]\n",
      "Iteration:   0%|          | 0/62 [00:00<?, ?it/s]"
     ]
    },
    {
     "name": "stdout",
     "output_type": "stream",
     "text": [
      "Evaluating...\n"
     ]
    },
    {
     "name": "stderr",
     "output_type": "stream",
     "text": [
      "Iteration:  55%|█████▍    | 34/62 [00:08<00:02,  9.46it/s]\n",
      "Iteration:  58%|█████▊    | 36/62 [00:08<00:02,  9.94it/s]"
     ]
    },
    {
     "name": "stdout",
     "output_type": "stream",
     "text": [
      "{'Train':  best_epoch_indx:0\n",
      " auc:0.7179695611454192 \n",
      " apur:0.6752234273517873 \n",
      " f1:0.6035912504080966 \n",
      " precision:0.6195710455764075 \n",
      " recall:0.5884150222788033 \n",
      ", 'Validation':  best_epoch_indx:0\n",
      " auc:0.717555470705528 \n",
      " apur:0.6706234136141909 \n",
      " f1:0.6085430076067876 \n",
      " precision:0.6220095693779905 \n",
      " recall:0.5956471935853379 \n",
      ", 'Test':  best_epoch_indx:0\n",
      " auc:0.7181291991099507 \n",
      " apur:0.6773150758016033 \n",
      " f1:0.606146572104019 \n",
      " precision:0.6259765625 \n",
      " recall:0.5875343721356554 \n",
      "}\n",
      "=====Epoch 1\n",
      "Training...\n"
     ]
    },
    {
     "name": "stderr",
     "output_type": "stream",
     "text": [
      "Iteration:  63%|██████▎   | 39/62 [00:01<00:00, 24.84it/s]\n",
      "Iteration:  71%|███████   | 44/62 [00:02<00:01, 17.43it/s]\n",
      "Iteration: 100%|██████████| 62/62 [00:11<00:00,  5.38it/s]\n",
      "Iteration:  52%|█████▏    | 32/62 [00:08<00:03,  9.11it/s]\n",
      "Iteration:   5%|▍         | 3/62 [00:00<00:02, 22.90it/s]"
     ]
    },
    {
     "name": "stdout",
     "output_type": "stream",
     "text": [
      "Evaluating...\n"
     ]
    },
    {
     "name": "stderr",
     "output_type": "stream",
     "text": [
      "Iteration:  97%|█████████▋| 60/62 [00:03<00:00, 19.57it/s]\n",
      "Iteration: 100%|██████████| 62/62 [00:03<00:00, 19.26it/s]\n",
      "Iteration:   0%|          | 0/62 [00:00<?, ?it/s]"
     ]
    },
    {
     "name": "stdout",
     "output_type": "stream",
     "text": [
      "Evaluating...\n",
      "{'Train':  best_epoch_indx:0\n",
      " auc:0.7117717052350274 \n",
      " apur:0.6700863320069563 \n",
      " f1:0.5577724183293138 \n",
      " precision:0.6547700754975978 \n",
      " recall:0.4858052196053469 \n",
      ", 'Validation':  best_epoch_indx:0\n",
      " auc:0.6943991268160798 \n",
      " apur:0.642461050952058 \n",
      " f1:0.5414731254147311 \n",
      " precision:0.6435331230283912 \n",
      " recall:0.46735395189003437 \n",
      ", 'Test':  best_epoch_indx:0\n",
      " auc:0.7047859195184953 \n",
      " apur:0.655252542642591 \n",
      " f1:0.5484546883184913 \n",
      " precision:0.6399755501222494 \n",
      " recall:0.4798350137488543 \n",
      "}\n",
      "=====Epoch 1\n",
      "Training...\n"
     ]
    },
    {
     "name": "stderr",
     "output_type": "stream",
     "text": [
      "\r",
      "Iteration:  43%|████▎     | 3/7 [00:00<00:00, 24.83it/s]\r",
      "Iteration: 100%|██████████| 7/7 [00:00<00:00, 13.65it/s]\r",
      "Iteration:  24%|██▍       | 15/62 [00:00<00:01, 24.50it/s]\r",
      "Iteration:  61%|██████▏   | 38/62 [00:08<00:02, 10.42it/s]\n",
      "\r",
      "Iteration:   0%|          | 0/62 [00:00<?, ?it/s]\r",
      "Iteration:   5%|▍         | 3/62 [00:00<00:02, 24.42it/s]\r",
      "Iteration:  86%|████████▌ | 6/7 [00:00<00:00, 24.89it/s]\r",
      "Iteration:  29%|██▉       | 18/62 [00:00<00:01, 24.76it/s]\r",
      "Iteration:   3%|▎         | 2/62 [00:00<00:03, 19.72it/s]\r",
      "Iteration: 100%|██████████| 7/7 [00:00<00:00, 24.92it/s]\r",
      "Iteration:  65%|██████▍   | 40/62 [00:08<00:02, 10.92it/s]\n",
      "\r",
      "Iteration:   0%|          | 0/62 [00:00<?, ?it/s]"
     ]
    },
    {
     "name": "stdout",
     "output_type": "stream",
     "text": [
      "{'Train':  best_epoch_indx:1\n",
      " auc:0.7557853457563202 \n",
      " apur:0.7025563415159257 \n",
      " f1:0.6361594249406329 \n",
      " precision:0.641470359823971 \n",
      " recall:0.6309357097390197 \n",
      ", 'Validation':  best_epoch_indx:1\n",
      " auc:0.7404799233264296 \n",
      " apur:0.6853456860803591 \n",
      " f1:0.6252199413489736 \n",
      " precision:0.640625 \n",
      " recall:0.6105383734249714 \n",
      ", 'Test':  best_epoch_indx:1\n",
      " auc:0.7376899147293281 \n",
      " apur:0.6716802185966598 \n",
      " f1:0.6171856708030906 \n",
      " precision:0.6309238870272857 \n",
      " recall:0.6040329972502292 \n",
      "}\n",
      "=====Epoch 2\n",
      "Training...\n"
     ]
    },
    {
     "name": "stderr",
     "output_type": "stream",
     "text": [
      "Iteration:  82%|████████▏ | 51/62 [00:02<00:00, 23.81it/s]\n",
      "Iteration: 100%|██████████| 62/62 [00:10<00:00,  5.64it/s]\n",
      "Iteration:  66%|██████▌   | 41/62 [00:02<00:01, 15.52it/s]"
     ]
    },
    {
     "name": "stdout",
     "output_type": "stream",
     "text": [
      "Evaluating...\n"
     ]
    },
    {
     "name": "stderr",
     "output_type": "stream",
     "text": [
      "Iteration:  22%|██▏       | 4/18 [00:00<00:01,  8.04it/s]]\n",
      "Iteration: 100%|██████████| 62/62 [00:03<00:00, 19.26it/s]\n",
      "Iteration: 100%|██████████| 62/62 [00:03<00:00, 20.01it/s]\n",
      "Iteration:   0%|          | 0/62 [00:00<?, ?it/s]"
     ]
    },
    {
     "name": "stdout",
     "output_type": "stream",
     "text": [
      "Evaluating...\n",
      "Evaluating...\n"
     ]
    },
    {
     "name": "stderr",
     "output_type": "stream",
     "text": [
      "Iteration:  48%|████▊     | 30/62 [00:01<00:01, 25.34it/s]\n",
      "Iteration:  86%|████████▌ | 6/7 [00:00<00:00, 25.29it/s]s]\n",
      "Iteration:  19%|█▉        | 12/62 [00:00<00:01, 25.35it/s]"
     ]
    },
    {
     "name": "stdout",
     "output_type": "stream",
     "text": [
      "{'Train':  best_epoch_indx:1\n",
      " auc:0.7342328166061126 \n",
      " apur:0.6901766109055658 \n",
      " f1:0.6182337952892922 \n",
      " precision:0.6039339485186984 \n",
      " recall:0.6332272437937619 \n",
      ", 'Validation':  best_epoch_indx:1\n",
      " auc:0.7326520261800903 \n",
      " apur:0.6865348752584002 \n",
      " f1:0.6168432794199665 \n",
      " precision:0.6010869565217392 \n",
      " recall:0.6334478808705613 \n",
      ", 'Test':  best_epoch_indx:1\n",
      " auc:0.7298798402602252 \n",
      " apur:0.6880137593615567 \n",
      " f1:0.6258833922261485 \n",
      " precision:0.6040068201193521 \n",
      " recall:0.6494042163153071 \n",
      "}\n",
      "=====Epoch 2\n",
      "Training...\n"
     ]
    },
    {
     "name": "stderr",
     "output_type": "stream",
     "text": [
      "\n",
      "Iteration: 100%|██████████| 7/7 [00:00<00:00, 13.74it/s]s]\n",
      "Iteration:  44%|████▎     | 27/62 [00:01<00:01, 24.78it/s]"
     ]
    },
    {
     "name": "stdout",
     "output_type": "stream",
     "text": [
      "{'Train':  best_epoch_indx:0\n",
      " auc:0.7184038754340094 \n",
      " apur:0.6811070487025006 \n",
      " f1:0.5756281934625884 \n",
      " precision:0.6393034825870647 \n",
      " recall:0.5234882240611076 \n",
      ", 'Validation':  best_epoch_indx:0\n",
      " auc:0.7120922859754475 \n",
      " apur:0.6675631791660379 \n",
      " f1:0.5688775510204083 \n",
      " precision:0.641726618705036 \n",
      " recall:0.5108820160366552 \n",
      ", 'Test':  best_epoch_indx:0\n",
      " auc:0.7218114528403647 \n",
      " apur:0.6785696684351679 \n",
      " f1:0.5777888944472236 \n",
      " precision:0.6360132158590308 \n",
      " recall:0.5293308890925756 \n",
      "}\n",
      "=====Epoch 1\n",
      "Training...\n"
     ]
    },
    {
     "name": "stderr",
     "output_type": "stream",
     "text": [
      "Iteration:  16%|█▌        | 10/62 [00:00<00:02, 17.97it/s]\n",
      "Iteration:  45%|████▌     | 28/62 [00:01<00:01, 18.10it/s]\n",
      "Iteration:  73%|███████▎  | 45/62 [00:02<00:00, 20.66it/s]\n",
      "Iteration:  87%|████████▋ | 54/62 [00:02<00:00, 20.54it/s]\n",
      "Iteration:  29%|██▊       | 2/7 [00:00<00:00, 13.37it/s]s]\n",
      "Iteration:  57%|█████▋    | 4/7 [00:00<00:00, 13.89it/s]s]\n",
      "Iteration: 100%|██████████| 62/62 [00:03<00:00, 20.56it/s]\n",
      "Iteration:   5%|▍         | 3/62 [00:00<00:02, 24.73it/s]]\n",
      "Iteration: 100%|██████████| 7/7 [00:00<00:00, 14.05it/s]\n",
      "Iteration:  86%|████████▌ | 6/7 [00:00<00:00, 25.17it/s]"
     ]
    },
    {
     "name": "stdout",
     "output_type": "stream",
     "text": [
      "Evaluating...\n",
      "{'Train':  best_epoch_indx:1\n",
      " auc:0.7480496296591816 \n",
      " apur:0.7074543302998147 \n",
      " f1:0.6518085930516656 \n",
      " precision:0.6127044588841586 \n",
      " recall:0.6962444302991725 \n",
      ", 'Validation':  best_epoch_indx:1\n",
      " auc:0.7354385782220834 \n",
      " apur:0.6895853161889535 \n",
      " f1:0.6457204767063922 \n",
      " precision:0.6125385405960946 \n",
      " recall:0.6827033218785796 \n",
      ", 'Test':  best_epoch_indx:1\n",
      " auc:0.741256889477241 \n",
      " apur:0.6964479336468521 \n",
      " f1:0.6492840350502245 \n",
      " precision:0.6083299959951942 \n",
      " recall:0.6961503208065994 \n",
      "}\n",
      "=====Epoch 2\n",
      "Training...\n",
      "{'Train':  best_epoch_indx:0\n",
      " auc:0.710758039036584 \n",
      " apur:0.6662673002182569 \n",
      " f1:0.6242173524150268 \n",
      " precision:0.5564636698893651 \n",
      " recall:0.7107574793125397 \n",
      ", 'Validation':  best_epoch_indx:0\n",
      " auc:0.6929904235173423 \n",
      " apur:0.6507794384951515 \n",
      " f1:0.6121614716402657 \n",
      " precision:0.5525830258302583 \n",
      " recall:0.6861397479954181 \n",
      ", 'Test':  best_epoch_indx:0\n",
      " auc:0.7168693826429475 \n",
      " apur:0.6791680472914705 \n",
      " f1:0.6252277789026119 \n",
      " precision:0.5600290170475154 \n",
      " recall:0.7076076993583869 \n",
      "}\n",
      "=====Epoch 1\n",
      "Training...\n"
     ]
    },
    {
     "name": "stderr",
     "output_type": "stream",
     "text": [
      "\r",
      "Iteration:  71%|███████   | 44/62 [00:02<00:01, 14.51it/s]\r",
      "Iteration: 100%|██████████| 7/7 [00:00<00:00, 25.51it/s]\r",
      "Iteration:  10%|▉         | 6/62 [00:00<00:02, 24.64it/s]\n",
      "\r",
      "Iteration:   0%|          | 0/62 [00:00<?, ?it/s]\r",
      "Iteration:   5%|▍         | 3/62 [00:00<00:02, 20.33it/s]\r",
      "Iteration:   3%|▎         | 2/62 [00:00<00:03, 19.73it/s]\r",
      "Iteration:  74%|███████▍  | 46/62 [00:02<00:01, 15.29it/s]\r",
      "Iteration:  15%|█▍        | 9/62 [00:00<00:02, 24.68it/s]\r",
      "Iteration:   5%|▍         | 3/62 [00:00<00:02, 20.17it/s]"
     ]
    },
    {
     "name": "stdout",
     "output_type": "stream",
     "text": [
      "{'Train':  best_epoch_indx:2\n",
      " auc:0.7681128549734259 \n",
      " apur:0.7229606771219731 \n",
      " f1:0.5915893445076325 \n",
      " precision:0.71755309493556 \n",
      " recall:0.5032463399108847 \n",
      ", 'Validation':  best_epoch_indx:2\n",
      " auc:0.7522282774287357 \n",
      " apur:0.7005318153817665 \n",
      " f1:0.5760869565217391 \n",
      " precision:0.7078464106844741 \n",
      " recall:0.4856815578465063 \n",
      ", 'Test':  best_epoch_indx:2\n",
      " auc:0.749549034494039 \n",
      " apur:0.698877795578118 \n",
      " f1:0.5756097560975609 \n",
      " precision:0.7042440318302388 \n",
      " recall:0.4867094408799267 \n",
      "}\n",
      "=====Epoch 3\n",
      "Training...\n"
     ]
    },
    {
     "name": "stderr",
     "output_type": "stream",
     "text": [
      "Iteration: 100%|██████████| 62/62 [00:03<00:00, 16.58it/s]\n",
      "Iteration:   0%|          | 0/62 [00:00<?, ?it/s]"
     ]
    },
    {
     "name": "stdout",
     "output_type": "stream",
     "text": [
      "Evaluating...\n"
     ]
    },
    {
     "name": "stderr",
     "output_type": "stream",
     "text": [
      "Iteration:  77%|███████▋  | 48/62 [00:02<00:00, 20.22it/s]\n",
      "Iteration: 100%|██████████| 62/62 [00:03<00:00, 20.46it/s]\n",
      "Iteration: 100%|██████████| 62/62 [00:03<00:00, 20.18it/s]\n",
      "Iteration:  79%|███████▉  | 49/62 [00:03<00:00, 14.88it/s]"
     ]
    },
    {
     "name": "stdout",
     "output_type": "stream",
     "text": [
      "Evaluating...\n",
      "Evaluating...\n"
     ]
    },
    {
     "name": "stderr",
     "output_type": "stream",
     "text": [
      "Iteration:  87%|████████▋ | 54/62 [00:02<00:00, 25.01it/s]\n",
      "Iteration:  89%|████████▊ | 55/62 [00:03<00:00, 15.62it/s]\n",
      "Iteration:  19%|█▉        | 12/62 [00:00<00:01, 25.13it/s]"
     ]
    },
    {
     "name": "stdout",
     "output_type": "stream",
     "text": [
      "{'Train':  best_epoch_indx:2\n",
      " auc:0.7511108018445705 \n",
      " apur:0.7087917773498011 \n",
      " f1:0.36811023622047245 \n",
      " precision:0.8112798264642083 \n",
      " recall:0.2380649267982177 \n",
      ", 'Validation':  best_epoch_indx:2\n",
      " auc:0.744377721468214 \n",
      " apur:0.6974112325031969 \n",
      " f1:0.37785588752196836 \n",
      " precision:0.8113207547169812 \n",
      " recall:0.24627720504009165 \n",
      ", 'Test':  best_epoch_indx:2\n",
      " auc:0.7514171658534629 \n",
      " apur:0.7103291542560037 \n",
      " f1:0.35374149659863946 \n",
      " precision:0.8085106382978723 \n",
      " recall:0.22639780018331807 \n",
      "}\n",
      "=====Epoch 3\n",
      "Training...\n"
     ]
    },
    {
     "name": "stderr",
     "output_type": "stream",
     "text": [
      "Iteration:   5%|▍         | 3/62 [00:00<00:02, 20.42it/s]]\n",
      "Iteration:  34%|███▍      | 21/62 [00:00<00:01, 25.13it/s]\n",
      "Iteration:   5%|▍         | 3/62 [00:00<00:02, 21.15it/s]]"
     ]
    },
    {
     "name": "stdout",
     "output_type": "stream",
     "text": [
      "Evaluating...\n"
     ]
    },
    {
     "name": "stderr",
     "output_type": "stream",
     "text": [
      "Iteration:  29%|██▉       | 18/62 [00:00<00:02, 20.63it/s]\n",
      "Iteration: 100%|██████████| 7/7 [00:00<00:00, 26.04it/s]s]\n",
      "Iteration:  73%|███████▎  | 45/62 [00:01<00:00, 25.32it/s]"
     ]
    },
    {
     "name": "stdout",
     "output_type": "stream",
     "text": [
      "{'Train':  best_epoch_indx:1\n",
      " auc:0.7377810395266402 \n",
      " apur:0.691312110117321 \n",
      " f1:0.4561033482731348 \n",
      " precision:0.7363791146424518 \n",
      " recall:0.3303628262253342 \n",
      ", 'Validation':  best_epoch_indx:1\n",
      " auc:0.7222762176943162 \n",
      " apur:0.6740714167623545 \n",
      " f1:0.441786283891547 \n",
      " precision:0.7270341207349081 \n",
      " recall:0.3172966781214204 \n",
      ", 'Test':  best_epoch_indx:1\n",
      " auc:0.7208577389517529 \n",
      " apur:0.670535716641786 \n",
      " f1:0.4392699811202013 \n",
      " precision:0.7008032128514057 \n",
      " recall:0.3198900091659028 \n",
      "}\n",
      "=====Epoch 2\n",
      "Training...\n"
     ]
    },
    {
     "name": "stderr",
     "output_type": "stream",
     "text": [
      "Iteration:  97%|█████████▋| 60/62 [00:02<00:00, 24.75it/s]\n",
      "Iteration:  29%|██▉       | 18/62 [00:01<00:02, 17.75it/s]\n",
      "Iteration:  45%|████▌     | 28/62 [00:01<00:01, 17.37it/s]\n",
      "Iteration: 100%|██████████| 62/62 [00:02<00:00, 24.44it/s]\n",
      "Iteration: 100%|██████████| 62/62 [00:03<00:00, 20.61it/s]\n",
      "Iteration:  43%|████▎     | 3/7 [00:00<00:00, 25.28it/s]s]"
     ]
    },
    {
     "name": "stdout",
     "output_type": "stream",
     "text": [
      "Evaluating...\n",
      "{'Train':  best_epoch_indx:2\n",
      " auc:0.759580480874408 \n",
      " apur:0.7105598710422947 \n",
      " f1:0.6611966956910025 \n",
      " precision:0.5887088758572706 \n",
      " recall:0.7540420114576702 \n",
      ", 'Validation':  best_epoch_indx:2\n",
      " auc:0.733790752118358 \n",
      " apur:0.6827603497014684 \n",
      " f1:0.6362252663622526 \n",
      " precision:0.5710382513661202 \n",
      " recall:0.718213058419244 \n",
      ", 'Test':  best_epoch_indx:2\n",
      " auc:0.7582395878708772 \n",
      " apur:0.7064748908960995 \n",
      " f1:0.6598352421137232 \n",
      " precision:0.5874776386404293 \n",
      " recall:0.7525206232813932 \n",
      "}\n",
      "=====Epoch 3\n",
      "Training...\n"
     ]
    },
    {
     "name": "stderr",
     "output_type": "stream",
     "text": [
      "\n",
      "\r",
      "Iteration:   0%|          | 0/62 [00:00<?, ?it/s]\n",
      "\r",
      "Iteration:   0%|          | 0/18 [00:00<?, ?it/s]\r",
      "Iteration:  55%|█████▍    | 34/62 [00:01<00:01, 17.49it/s]\r",
      "Iteration:   5%|▍         | 3/62 [00:00<00:02, 24.79it/s]\r",
      "Iteration:  86%|████████▌ | 6/7 [00:00<00:00, 25.30it/s]\r",
      "Iteration:  58%|█████▊    | 36/62 [00:02<00:01, 17.55it/s]\r",
      "Iteration: 100%|██████████| 7/7 [00:00<00:00, 25.72it/s]\r",
      "Iteration:  17%|█▋        | 3/18 [00:00<00:00, 25.48it/s]\r",
      "Iteration:   5%|▍         | 3/62 [00:00<00:02, 20.62it/s]\r",
      "Iteration:  10%|▉         | 6/62 [00:00<00:02, 25.01it/s]\n",
      "\r",
      "Iteration:   0%|          | 0/62 [00:00<?, ?it/s]"
     ]
    },
    {
     "name": "stdout",
     "output_type": "stream",
     "text": [
      "{'Train':  best_epoch_indx:3\n",
      " auc:0.7718183068204765 \n",
      " apur:0.7278485345445902 \n",
      " f1:0.4069857197993053 \n",
      " precision:0.8405739338381826 \n",
      " recall:0.2684914067472947 \n",
      ", 'Validation':  best_epoch_indx:3\n",
      " auc:0.7559983184267262 \n",
      " apur:0.7024942135823835 \n",
      " f1:0.37258347978910367 \n",
      " precision:0.8 \n",
      " recall:0.24284077892325315 \n",
      ", 'Test':  best_epoch_indx:3\n",
      " auc:0.7564837189493467 \n",
      " apur:0.7068122273392932 \n",
      " f1:0.3738053097345133 \n",
      " precision:0.8211508553654744 \n",
      " recall:0.24197983501374887 \n",
      "}\n",
      "=====Epoch 4\n",
      "Training...\n"
     ]
    },
    {
     "name": "stderr",
     "output_type": "stream",
     "text": [
      "Iteration:  34%|███▍      | 21/62 [00:00<00:01, 23.77it/s]\n",
      "Iteration:  23%|██▎       | 14/62 [00:00<00:02, 16.06it/s]\n",
      "Iteration:  84%|████████▍ | 52/62 [00:02<00:00, 17.25it/s]"
     ]
    },
    {
     "name": "stdout",
     "output_type": "stream",
     "text": [
      "{'Train':  best_epoch_indx:1\n",
      " auc:0.7534589933660791 \n",
      " apur:0.7057368927964418 \n",
      " f1:0.6479688238072744 \n",
      " precision:0.6042286091840106 \n",
      " recall:0.6985359643539147 \n",
      ", 'Validation':  best_epoch_indx:1\n",
      " auc:0.7476068435404061 \n",
      " apur:0.6991888414201964 \n",
      " f1:0.6498630136986301 \n",
      " precision:0.6228991596638656 \n",
      " recall:0.6792668957617412 \n",
      ", 'Test':  best_epoch_indx:1\n",
      " auc:0.7573912247517041 \n",
      " apur:0.7113455880555369 \n",
      " f1:0.6525641025641026 \n",
      " precision:0.61128903122498 \n",
      " recall:0.6998166819431714 \n",
      "}\n",
      "=====Epoch 2\n",
      "Training...\n"
     ]
    },
    {
     "name": "stderr",
     "output_type": "stream",
     "text": [
      "Iteration: 100%|██████████| 62/62 [00:03<00:00, 17.40it/s]\n",
      "Iteration:  73%|███████▎  | 45/62 [00:01<00:00, 24.75it/s]"
     ]
    },
    {
     "name": "stdout",
     "output_type": "stream",
     "text": [
      "Evaluating...\n"
     ]
    },
    {
     "name": "stderr",
     "output_type": "stream",
     "text": [
      "Iteration:  85%|████████▌ | 53/62 [00:02<00:00, 21.03it/s]\n",
      "Iteration: 100%|██████████| 62/62 [00:03<00:00, 20.65it/s]\n",
      "Iteration:   5%|▍         | 3/62 [00:00<00:02, 25.46it/s]]"
     ]
    },
    {
     "name": "stdout",
     "output_type": "stream",
     "text": [
      "Evaluating...\n"
     ]
    },
    {
     "name": "stderr",
     "output_type": "stream",
     "text": [
      "Iteration:  65%|██████▍   | 40/62 [00:02<00:01, 17.89it/s]\n",
      "Iteration: 100%|██████████| 62/62 [00:03<00:00, 19.21it/s]\n",
      "Iteration:  86%|████████▌ | 6/7 [00:00<00:00, 23.35it/s]s]"
     ]
    },
    {
     "name": "stdout",
     "output_type": "stream",
     "text": [
      "Evaluating...\n"
     ]
    },
    {
     "name": "stderr",
     "output_type": "stream",
     "text": [
      "\r",
      "Iteration:  74%|███████▍  | 46/62 [00:02<00:00, 18.15it/s]\r",
      "Iteration: 100%|██████████| 7/7 [00:00<00:00, 23.79it/s]\r",
      "Iteration:  10%|▉         | 6/62 [00:00<00:02, 25.04it/s]\n",
      "\r",
      "Iteration:   0%|          | 0/62 [00:00<?, ?it/s]\r",
      "Iteration:  82%|████████▏ | 51/62 [00:02<00:00, 24.93it/s]\r",
      "Iteration:  29%|██▉       | 18/62 [00:00<00:01, 25.43it/s]\r",
      "Iteration:  77%|███████▋  | 48/62 [00:02<00:00, 18.18it/s]\r",
      "Iteration:  15%|█▍        | 9/62 [00:00<00:02, 25.05it/s]\r",
      "Iteration:   5%|▍         | 3/62 [00:00<00:02, 20.31it/s]\r",
      "Iteration:  34%|███▍      | 21/62 [00:00<00:01, 25.47it/s]"
     ]
    },
    {
     "name": "stdout",
     "output_type": "stream",
     "text": [
      "{'Train':  best_epoch_indx:3\n",
      " auc:0.7933559185249011 \n",
      " apur:0.7485229540936286 \n",
      " f1:0.5752615188053981 \n",
      " precision:0.7716366752356469 \n",
      " recall:0.45856142584341186 \n",
      ", 'Validation':  best_epoch_indx:3\n",
      " auc:0.7810946424921225 \n",
      " apur:0.728591001402114 \n",
      " f1:0.5786873676781934 \n",
      " precision:0.7536764705882353 \n",
      " recall:0.46964490263459335 \n",
      ", 'Test':  best_epoch_indx:3\n",
      " auc:0.7792597530452708 \n",
      " apur:0.7401368087047853 \n",
      " f1:0.5788869764773379 \n",
      " precision:0.7737730061349694 \n",
      " recall:0.46241979835013747 \n",
      "}\n",
      "=====Epoch 4\n",
      "Training...\n"
     ]
    },
    {
     "name": "stderr",
     "output_type": "stream",
     "text": [
      "Iteration:  94%|█████████▎| 58/62 [00:03<00:00, 18.05it/s]\n",
      "Iteration: 100%|██████████| 62/62 [00:03<00:00, 18.12it/s]\n",
      "Iteration:  68%|██████▊   | 42/62 [00:01<00:00, 25.29it/s]"
     ]
    },
    {
     "name": "stdout",
     "output_type": "stream",
     "text": [
      "Evaluating...\n"
     ]
    },
    {
     "name": "stderr",
     "output_type": "stream",
     "text": [
      "Iteration:  82%|████████▏ | 51/62 [00:02<00:00, 25.39it/s]\n",
      "Iteration: 100%|██████████| 7/7 [00:00<00:00, 25.95it/s]s]\n",
      "Iteration:  97%|█████████▋| 60/62 [00:02<00:00, 25.44it/s]"
     ]
    },
    {
     "name": "stdout",
     "output_type": "stream",
     "text": [
      "{'Train':  best_epoch_indx:2\n",
      " auc:0.7599326127977925 \n",
      " apur:0.7189516414802353 \n",
      " f1:0.6318427648067537 \n",
      " precision:0.6555357876009306 \n",
      " recall:0.6098026734563972 \n",
      ", 'Validation':  best_epoch_indx:2\n",
      " auc:0.7497830539067651 \n",
      " apur:0.7047672828659904 \n",
      " f1:0.619105199516324 \n",
      " precision:0.6555697823303457 \n",
      " recall:0.586483390607102 \n",
      ", 'Test':  best_epoch_indx:2\n",
      " auc:0.7491267077243956 \n",
      " apur:0.7082661383083826 \n",
      " f1:0.624505928853755 \n",
      " precision:0.6337895233600755 \n",
      " recall:0.6154903758020165 \n",
      "}\n",
      "=====Epoch 3\n",
      "Training...\n"
     ]
    },
    {
     "name": "stderr",
     "output_type": "stream",
     "text": [
      "Iteration:  58%|█████▊    | 36/62 [00:01<00:01, 20.23it/s]\n",
      "Iteration:  19%|█▉        | 12/62 [00:00<00:02, 17.42it/s]\n",
      "Iteration:  82%|████████▏ | 51/62 [00:02<00:00, 20.55it/s]\n",
      "Iteration:  83%|████████▎ | 15/18 [00:00<00:00, 25.66it/s]\n",
      "Iteration:  92%|█████████▏| 57/62 [00:02<00:00, 25.23it/s]"
     ]
    },
    {
     "name": "stdout",
     "output_type": "stream",
     "text": [
      "{'Train':  best_epoch_indx:3\n",
      " auc:0.7700020007157322 \n",
      " apur:0.7243120127194391 \n",
      " f1:0.6245353159851301 \n",
      " precision:0.6799580272822665 \n",
      " recall:0.577466581795035 \n",
      ", 'Validation':  best_epoch_indx:3\n",
      " auc:0.7557755871043386 \n",
      " apur:0.7060990878672312 \n",
      " f1:0.6227470478558109 \n",
      " precision:0.6807065217391305 \n",
      " recall:0.5738831615120275 \n",
      ", 'Test':  best_epoch_indx:3\n",
      " auc:0.7714309706255813 \n",
      " apur:0.7188826305368904 \n",
      " f1:0.6261473579756883 \n",
      " precision:0.6825310978907517 \n",
      " recall:0.5783684692942255 \n",
      "}\n",
      "=====Epoch 4\n",
      "Training...\n"
     ]
    },
    {
     "name": "stderr",
     "output_type": "stream",
     "text": [
      "\r",
      "Iteration:   5%|▍         | 3/62 [00:00<00:02, 20.81it/s]\n",
      "\r",
      "Iteration:   0%|          | 0/7 [00:00<?, ?it/s]\r",
      "Iteration:  42%|████▏     | 26/62 [00:01<00:02, 17.18it/s]\r",
      "Iteration: 100%|██████████| 62/62 [00:03<00:00, 19.41it/s]\n",
      "\r",
      "Iteration:   0%|          | 0/62 [00:00<?, ?it/s]\r",
      "Iteration:  97%|█████████▋| 60/62 [00:02<00:00, 25.20it/s]\r",
      "Iteration:  43%|████▎     | 3/7 [00:00<00:00, 25.21it/s]\r",
      "Iteration:  10%|▉         | 6/62 [00:00<00:02, 20.79it/s]\r",
      "Iteration:  45%|████▌     | 28/62 [00:01<00:01, 17.17it/s]\r",
      "Iteration: 100%|██████████| 62/62 [00:02<00:00, 25.17it/s]\r",
      "Iteration:   5%|▍         | 3/62 [00:00<00:02, 24.65it/s]"
     ]
    },
    {
     "name": "stdout",
     "output_type": "stream",
     "text": [
      "Evaluating...\n"
     ]
    },
    {
     "name": "stderr",
     "output_type": "stream",
     "text": [
      "Iteration:  10%|▉         | 6/62 [00:00<00:02, 24.52it/s]]\n",
      "Iteration:  19%|█▉        | 12/62 [00:00<00:02, 24.64it/s]\n",
      "Iteration:  58%|█████▊    | 36/62 [00:02<00:01, 17.15it/s]"
     ]
    },
    {
     "name": "stdout",
     "output_type": "stream",
     "text": [
      "{'Train':  best_epoch_indx:4\n",
      " auc:0.7913496084155593 \n",
      " apur:0.7449136225088919 \n",
      " f1:0.6751939864209505 \n",
      " precision:0.6444855919453767 \n",
      " recall:0.7089751750477403 \n",
      ", 'Validation':  best_epoch_indx:4\n",
      " auc:0.7747819932814205 \n",
      " apur:0.7248425511406414 \n",
      " f1:0.6553094832481544 \n",
      " precision:0.6497747747747747 \n",
      " recall:0.6609392898052692 \n",
      ", 'Test':  best_epoch_indx:4\n",
      " auc:0.7764351427504498 \n",
      " apur:0.7226245679883578 \n",
      " f1:0.6589570150556404 \n",
      " precision:0.6289046230737193 \n",
      " recall:0.692025664527956 \n",
      "}\n",
      "Finished training!\n"
     ]
    },
    {
     "name": "stderr",
     "output_type": "stream",
     "text": [
      "Iteration:  39%|███▊      | 24/62 [00:00<00:01, 24.32it/s]\n",
      "Iteration: 100%|██████████| 7/7 [00:00<00:00, 26.36it/s]s]"
     ]
    },
    {
     "name": "stdout",
     "output_type": "stream",
     "text": [
      "{'Train':  best_epoch_indx:2\n",
      " auc:0.769913153455492 \n",
      " apur:0.7210191337834305 \n",
      " f1:0.6599737062268436 \n",
      " precision:0.6219168825318167 \n",
      " recall:0.7029917250159134 \n",
      ", 'Validation':  best_epoch_indx:2\n",
      " auc:0.7631040261338085 \n",
      " apur:0.7113050855796322 \n",
      " f1:0.6597031335898846 \n",
      " precision:0.6342494714587738 \n",
      " recall:0.6872852233676976 \n",
      ", 'Test':  best_epoch_indx:2\n",
      " auc:0.7712363225372849 \n",
      " apur:0.7265464439660492 \n",
      " f1:0.6599094241966789 \n",
      " precision:0.6232179226069247 \n",
      " recall:0.7011915673693859 \n",
      "}\n",
      "=====Epoch 3\n",
      "Training...\n"
     ]
    },
    {
     "name": "stderr",
     "output_type": "stream",
     "text": [
      "\n",
      "Iteration: 100%|██████████| 62/62 [00:03<00:00, 17.32it/s]\n",
      "Iteration:  71%|███████   | 44/62 [00:02<00:00, 20.20it/s]"
     ]
    },
    {
     "name": "stdout",
     "output_type": "stream",
     "text": [
      "Evaluating...\n",
      "<<< joined hyperparam search process\n",
      "released_gpu_num: 0\n"
     ]
    },
    {
     "name": "stderr",
     "output_type": "stream",
     "text": [
      "Iteration:  90%|█████████ | 56/62 [00:02<00:00, 21.38it/s]\n",
      "Iteration: 100%|██████████| 62/62 [00:03<00:00, 19.60it/s]\n",
      "Iteration:  53%|█████▎    | 33/62 [00:01<00:01, 19.83it/s]"
     ]
    },
    {
     "name": "stdout",
     "output_type": "stream",
     "text": [
      "Evaluating...\n"
     ]
    },
    {
     "name": "stderr",
     "output_type": "stream",
     "text": [
      "Iteration:  19%|█▉        | 12/62 [00:00<00:01, 26.62it/s]\n",
      "Iteration:  39%|███▊      | 24/62 [00:00<00:01, 26.25it/s]\n",
      "Iteration:  77%|███████▋  | 48/62 [00:01<00:00, 24.52it/s]"
     ]
    },
    {
     "name": "stdout",
     "output_type": "stream",
     "text": [
      "{'Train':  best_epoch_indx:4\n",
      " auc:0.749819558456706 \n",
      " apur:0.7085598315603915 \n",
      " f1:0.4216811269707995 \n",
      " precision:0.7891061452513967 \n",
      " recall:0.2877148313176321 \n",
      ", 'Validation':  best_epoch_indx:4\n",
      " auc:0.7402027144295186 \n",
      " apur:0.6918946709893734 \n",
      " f1:0.4214945424013434 \n",
      " precision:0.789308176100629 \n",
      " recall:0.28751431844215347 \n",
      ", 'Test':  best_epoch_indx:4\n",
      " auc:0.7381462810197916 \n",
      " apur:0.7049090145847833 \n",
      " f1:0.4273275284661755 \n",
      " precision:0.7935323383084577 \n",
      " recall:0.2923923006416132 \n",
      "}\n",
      "Finished training!\n"
     ]
    },
    {
     "name": "stderr",
     "output_type": "stream",
     "text": [
      "Iteration: 100%|██████████| 62/62 [00:03<00:00, 19.36it/s]\n",
      "Iteration:  97%|█████████▋| 60/62 [00:02<00:00, 24.00it/s]"
     ]
    },
    {
     "name": "stdout",
     "output_type": "stream",
     "text": [
      "Evaluating...\n"
     ]
    },
    {
     "name": "stderr",
     "output_type": "stream",
     "text": [
      "Iteration:  10%|▉         | 6/62 [00:00<00:02, 24.15it/s]]\n",
      "Iteration:  39%|███▊      | 24/62 [00:00<00:01, 24.46it/s]"
     ]
    },
    {
     "name": "stdout",
     "output_type": "stream",
     "text": [
      "<<< joined hyperparam search process\n",
      "released_gpu_num: 1\n"
     ]
    },
    {
     "name": "stderr",
     "output_type": "stream",
     "text": [
      "\n",
      "Iteration:   0%|          | 0/7 [00:00<?, ?it/s]\n",
      "Iteration: 100%|██████████| 7/7 [00:00<00:00, 25.82it/s]]]\n",
      "Iteration:  53%|█████▎    | 33/62 [00:01<00:01, 24.83it/s]"
     ]
    },
    {
     "name": "stdout",
     "output_type": "stream",
     "text": [
      "{'Train':  best_epoch_indx:3\n",
      " auc:0.7746681997547933 \n",
      " apur:0.7274530519462491 \n",
      " f1:0.6332374297849019 \n",
      " precision:0.6854515794156903 \n",
      " recall:0.5884150222788033 \n",
      ", 'Validation':  best_epoch_indx:3\n",
      " auc:0.7565025975678897 \n",
      " apur:0.7058105648120739 \n",
      " f1:0.6193146417445483 \n",
      " precision:0.6789617486338798 \n",
      " recall:0.5693012600229095 \n",
      ", 'Test':  best_epoch_indx:3\n",
      " auc:0.7567070236007334 \n",
      " apur:0.7061289880774817 \n",
      " f1:0.6236714975845411 \n",
      " precision:0.6593462717058223 \n",
      " recall:0.5916590284142988 \n",
      "}\n",
      "=====Epoch 4\n",
      "Training...\n"
     ]
    },
    {
     "name": "stderr",
     "output_type": "stream",
     "text": [
      "Iteration:  68%|██████▊   | 42/62 [00:01<00:00, 25.03it/s]\n",
      "Iteration:  23%|██▎       | 14/62 [00:00<00:03, 15.01it/s]\n",
      "Iteration:  92%|█████████▏| 57/62 [00:02<00:00, 24.37it/s]"
     ]
    },
    {
     "name": "stdout",
     "output_type": "stream",
     "text": [
      "{'Train':  best_epoch_indx:4\n",
      " auc:0.8016620231404211 \n",
      " apur:0.7491389752633204 \n",
      " f1:0.6948298318138059 \n",
      " precision:0.6257649938800489 \n",
      " recall:0.781031190324634 \n",
      ", 'Validation':  best_epoch_indx:4\n",
      " auc:0.7793581095413856 \n",
      " apur:0.7274860363875522 \n",
      " f1:0.6755509994874423 \n",
      " precision:0.6113172541743971 \n",
      " recall:0.7548682703321878 \n",
      ", 'Test':  best_epoch_indx:4\n",
      " auc:0.8002305522479615 \n",
      " apur:0.744351322653567 \n",
      " f1:0.6956698515958528 \n",
      " precision:0.6251370113262696 \n",
      " recall:0.7841429880843263 \n",
      "}\n",
      "Finished training!\n"
     ]
    },
    {
     "name": "stderr",
     "output_type": "stream",
     "text": [
      "Iteration:  32%|███▏      | 20/62 [00:01<00:02, 18.16it/s]\n",
      "Iteration:  61%|██████▏   | 38/62 [00:02<00:01, 21.35it/s]\n",
      "Iteration: 100%|██████████| 7/7 [00:00<00:00, 25.76it/s]s]\n",
      "Iteration:   3%|▎         | 2/62 [00:00<00:03, 17.75it/s]]"
     ]
    },
    {
     "name": "stdout",
     "output_type": "stream",
     "text": [
      "{'Train':  best_epoch_indx:3\n",
      " auc:0.7675592578059175 \n",
      " apur:0.7099594414766588 \n",
      " f1:0.6714381570118542 \n",
      " precision:0.5986638747631867 \n",
      " recall:0.7643539147040102 \n",
      ", 'Validation':  best_epoch_indx:3\n",
      " auc:0.7671647748967336 \n",
      " apur:0.7099467134279466 \n",
      " f1:0.6673532440782698 \n",
      " precision:0.6061739943872778 \n",
      " recall:0.7422680412371134 \n",
      ", 'Test':  best_epoch_indx:3\n",
      " auc:0.7674577416067467 \n",
      " apur:0.7143582212101096 \n",
      " f1:0.6681550639334282 \n",
      " precision:0.5996357012750455 \n",
      " recall:0.7543538038496792 \n",
      "}\n",
      "=====Epoch 4\n",
      "Training...\n",
      "<<< joined hyperparam search process\n",
      "released_gpu_num: 2\n"
     ]
    },
    {
     "name": "stderr",
     "output_type": "stream",
     "text": [
      "Iteration: 100%|██████████| 62/62 [00:03<00:00, 19.41it/s]\n",
      "Iteration:  19%|█▉        | 12/62 [00:00<00:03, 13.79it/s]"
     ]
    },
    {
     "name": "stdout",
     "output_type": "stream",
     "text": [
      "Evaluating...\n"
     ]
    },
    {
     "name": "stderr",
     "output_type": "stream",
     "text": [
      "Iteration:  95%|█████████▌| 59/62 [00:03<00:00, 19.45it/s]\n",
      "Iteration: 100%|██████████| 62/62 [00:03<00:00, 18.23it/s]\n",
      "Iteration:   0%|          | 0/62 [00:00<?, ?it/s]"
     ]
    },
    {
     "name": "stdout",
     "output_type": "stream",
     "text": [
      "Evaluating...\n"
     ]
    },
    {
     "name": "stderr",
     "output_type": "stream",
     "text": [
      "Iteration: 100%|██████████| 18/18 [00:00<00:00, 28.10it/s]\n",
      "Iteration:  53%|█████▎    | 33/62 [00:01<00:01, 26.17it/s]\n",
      "Iteration:  58%|█████▊    | 36/62 [00:01<00:00, 26.52it/s]"
     ]
    },
    {
     "name": "stdout",
     "output_type": "stream",
     "text": [
      "{'Train':  best_epoch_indx:4\n",
      " auc:0.777600421341206 \n",
      " apur:0.7389481822482461 \n",
      " f1:0.5874379383718181 \n",
      " precision:0.7709971038477451 \n",
      " recall:0.4744748567791216 \n",
      ", 'Validation':  best_epoch_indx:4\n",
      " auc:0.7541383672540602 \n",
      " apur:0.7124934143844229 \n",
      " f1:0.5535585909417685 \n",
      " precision:0.7432432432432432 \n",
      " recall:0.44100801832760594 \n",
      ", 'Test':  best_epoch_indx:4\n",
      " auc:0.7676131050491497 \n",
      " apur:0.7293010433920817 \n",
      " f1:0.5862552594670406 \n",
      " precision:0.7556037599421548 \n",
      " recall:0.47891842346471125 \n",
      "}\n",
      "Finished training!\n"
     ]
    },
    {
     "name": "stderr",
     "output_type": "stream",
     "text": [
      "Iteration: 100%|██████████| 62/62 [00:02<00:00, 27.20it/s]\n",
      "Iteration: 100%|██████████| 18/18 [00:00<00:00, 29.67it/s]\n",
      "Iteration:  43%|████▎     | 3/7 [00:00<00:00, 27.63it/s]"
     ]
    },
    {
     "name": "stdout",
     "output_type": "stream",
     "text": [
      "<<< joined hyperparam search process\n",
      "released_gpu_num: 3\n"
     ]
    },
    {
     "name": "stderr",
     "output_type": "stream",
     "text": [
      "Iteration: 100%|██████████| 7/7 [00:00<00:00, 28.49it/s]\n"
     ]
    },
    {
     "name": "stdout",
     "output_type": "stream",
     "text": [
      "{'Train':  best_epoch_indx:4\n",
      " auc:0.7854323957558627 \n",
      " apur:0.7429424870999152 \n",
      " f1:0.6354412786657401 \n",
      " precision:0.6996174445294567 \n",
      " recall:0.5820496499045195 \n",
      ", 'Validation':  best_epoch_indx:4\n",
      " auc:0.7768328570161329 \n",
      " apur:0.7321161486817652 \n",
      " f1:0.6265822784810126 \n",
      " precision:0.7001414427157001 \n",
      " recall:0.5670103092783505 \n",
      ", 'Test':  best_epoch_indx:4\n",
      " auc:0.7863342069086026 \n",
      " apur:0.7452965506444699 \n",
      " f1:0.6297700277988376 \n",
      " precision:0.7019718309859155 \n",
      " recall:0.5710357470210816 \n",
      "}\n",
      "Finished training!\n",
      "<<< joined hyperparam search process\n",
      "released_gpu_num: 4\n"
     ]
    }
   ],
   "source": [
    "import torch.multiprocessing as mp\n",
    "mp.set_start_method(\"spawn\", force=True)\n",
    "\n",
    "queue = mp.Queue()\n",
    "q_processes = []\n",
    "\n",
    "time_stamp = datetime.datetime.now().strftime('%Y-%m-%d_%H-%M-%S')\n",
    "\n",
    "print(\"Start: \" + time_stamp)\n",
    "\n",
    "for q_i in range(min(n_gpu, len(fold_partitions))):\n",
    "    partition = fold_partitions[q_i]\n",
    "    exp_dir = create_directory(os.path.join(targetdata_dir_exp, \"fold_\"+str(q_i)+\"_\"+time_stamp))\n",
    "    create_directory(os.path.join(exp_dir, \"predictions\"))\n",
    "    \n",
    "    q_process = create_q_process(queue, dataset, q_i, tp, exp_dir, partition)\n",
    "    q_processes.append(q_process)\n",
    "    spawn_q_process(q_process)\n",
    "\n",
    "spawned_processes = n_gpu\n",
    "    \n",
    "for q_i in range(min(n_gpu, len(fold_partitions))):\n",
    "    join_q_process(q_processes[q_i])\n",
    "    released_gpu_num = queue.get()\n",
    "    print(\"released_gpu_num:\", released_gpu_num)"
   ]
  },
  {
   "cell_type": "code",
   "execution_count": 23,
   "metadata": {},
   "outputs": [
    {
     "name": "stdout",
     "output_type": "stream",
     "text": [
      "End: 2023-03-08_14-33-47\n"
     ]
    }
   ],
   "source": [
    "print(\"End: \" + datetime.datetime.now().strftime('%Y-%m-%d_%H-%M-%S'))\n"
   ]
  },
  {
   "cell_type": "code",
   "execution_count": null,
   "metadata": {},
   "outputs": [],
   "source": []
  }
 ],
 "metadata": {
  "kernelspec": {
   "display_name": "Python 3 (ipykernel)",
   "language": "python",
   "name": "python3"
  },
  "language_info": {
   "codemirror_mode": {
    "name": "ipython",
    "version": 3
   },
   "file_extension": ".py",
   "mimetype": "text/x-python",
   "name": "python",
   "nbconvert_exporter": "python",
   "pygments_lexer": "ipython3",
   "version": "3.8.10"
  }
 },
 "nbformat": 4,
 "nbformat_minor": 4
}
