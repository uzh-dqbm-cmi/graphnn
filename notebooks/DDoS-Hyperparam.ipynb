{
 "cells": [
  {
   "cell_type": "code",
   "execution_count": 1,
   "metadata": {
    "scrolled": false
   },
   "outputs": [],
   "source": [
    "%load_ext autoreload\n",
    "%autoreload 2"
   ]
  },
  {
   "cell_type": "code",
   "execution_count": 2,
   "metadata": {},
   "outputs": [],
   "source": [
    "import os\n",
    "import sys\n",
    "import numpy as np\n",
    "import pandas as pd\n",
    "import datetime\n",
    "import seaborn as sns\n",
    "import ogb\n",
    "from tqdm import tqdm\n",
    "import hiplot as hip\n",
    "from copy import deepcopy\n",
    "import datetime"
   ]
  },
  {
   "cell_type": "code",
   "execution_count": 3,
   "metadata": {},
   "outputs": [],
   "source": [
    "import torch\n",
    "from torch_geometric.data import Data\n",
    "from torch_geometric.loader import DataLoader\n",
    "from torch.utils.data import Subset, TensorDataset"
   ]
  },
  {
   "cell_type": "code",
   "execution_count": 4,
   "metadata": {},
   "outputs": [
    {
     "name": "stdout",
     "output_type": "stream",
     "text": [
      "/opt/data/chemprop_run/git/notebooks\n",
      "/opt/data/chemprop_run/git\n"
     ]
    }
   ],
   "source": [
    "cwd = os.getcwd()\n",
    "print(cwd)\n",
    "cwd_parent = os.path.abspath(os.path.join(cwd, os.pardir))\n",
    "print(cwd_parent)\n",
    "\n",
    "sys.path.append(cwd_parent)"
   ]
  },
  {
   "cell_type": "code",
   "execution_count": 5,
   "metadata": {},
   "outputs": [],
   "source": [
    "import deepadr\n",
    "from deepadr.dataset import *\n",
    "from deepadr.utilities import *\n",
    "from deepadr.run_workflow import *\n",
    "from deepadr.chemfeatures import *\n",
    "from deepadr.hyphelperflat import *\n",
    "from deepadr.model_gnn_ogb import GNN, DeepAdr_SiameseTrf, ExpressionNN\n",
    "from ogb.graphproppred import Evaluator"
   ]
  },
  {
   "cell_type": "code",
   "execution_count": 6,
   "metadata": {},
   "outputs": [],
   "source": [
    "from rdkit.Chem.Draw import IPythonConsole\n",
    "from rdkit.Chem import Draw"
   ]
  },
  {
   "cell_type": "code",
   "execution_count": 7,
   "metadata": {},
   "outputs": [],
   "source": [
    "rawdata_dir = '../data/raw/'\n",
    "processed_dir = '../data/processed/'\n",
    "up_dir = '..'"
   ]
  },
  {
   "cell_type": "code",
   "execution_count": 8,
   "metadata": {
    "scrolled": true
   },
   "outputs": [
    {
     "name": "stdout",
     "output_type": "stream",
     "text": [
      "number of GPUs available: 1\n",
      "cuda:0, name:NVIDIA GeForce GTX 1080 Ti\n",
      "total memory available: 10.91656494140625 GB\n",
      "total memory allocated on device: 0.0 GB\n",
      "max memory allocated on device: 0.0 GB\n",
      "total memory cached on device: 0.0 GB\n",
      "max memory cached  on device: 0.0 GB\n",
      "\n"
     ]
    }
   ],
   "source": [
    "report_available_cuda_devices()"
   ]
  },
  {
   "cell_type": "code",
   "execution_count": 9,
   "metadata": {},
   "outputs": [
    {
     "data": {
      "text/plain": [
       "1"
      ]
     },
     "execution_count": 9,
     "metadata": {},
     "output_type": "execute_result"
    }
   ],
   "source": [
    "n_gpu = torch.cuda.device_count()\n",
    "n_gpu"
   ]
  },
  {
   "cell_type": "code",
   "execution_count": 10,
   "metadata": {},
   "outputs": [],
   "source": [
    "device_cpu = get_device(to_gpu=False)\n",
    "# device_gpu = get_device(True, index=0)\n",
    "\n",
    "# fdtype = torch.float32"
   ]
  },
  {
   "cell_type": "code",
   "execution_count": 11,
   "metadata": {},
   "outputs": [
    {
     "name": "stdout",
     "output_type": "stream",
     "text": [
      "torch: 1.9.1\n",
      "CUDA: 11.1\n",
      "3.9.9 | packaged by conda-forge | (main, Dec 20 2021, 02:41:03) \n",
      "[GCC 9.4.0]\n"
     ]
    }
   ],
   "source": [
    "print(\"torch:\", torch.__version__)\n",
    "print(\"CUDA:\", torch.version.cuda)\n",
    "print(sys.version)"
   ]
  },
  {
   "cell_type": "markdown",
   "metadata": {},
   "source": [
    "### Preparing dataset "
   ]
  },
  {
   "cell_type": "code",
   "execution_count": 12,
   "metadata": {},
   "outputs": [],
   "source": [
    "# options: \n",
    "# 'total_thresh' + 4,3,2\n",
    "# 'loewe_thresh', 'hsa_thresh', 'bliss_thresh', 'zip_thresh' + 1\n",
    "\n",
    "score = 'total_thresh'\n",
    "score_val = 4"
   ]
  },
  {
   "cell_type": "code",
   "execution_count": 13,
   "metadata": {},
   "outputs": [],
   "source": [
    "DSdataset_name = f'DrugComb_{score}_{score_val}'\n",
    "\n",
    "data_fname = 'data_v1' # v2 for baseline models"
   ]
  },
  {
   "cell_type": "code",
   "execution_count": 14,
   "metadata": {
    "scrolled": true
   },
   "outputs": [
    {
     "name": "stdout",
     "output_type": "stream",
     "text": [
      "path_current_dir /opt/data/chemprop_run/git/deepadr\n",
      "path_current_dir /opt/data/chemprop_run/git/deepadr\n",
      "path_current_dir /opt/data/chemprop_run/git/deepadr\n",
      "path_current_dir /opt/data/chemprop_run/git/deepadr\n",
      "/opt/data/chemprop_run/git/data/processed/DrugComb_total_thresh_4/data_v1\n"
     ]
    }
   ],
   "source": [
    "targetdata_dir = create_directory(os.path.join(processed_dir, DSdataset_name, data_fname))\n",
    "targetdata_dir_raw = create_directory(os.path.join(targetdata_dir, \"raw\"))\n",
    "targetdata_dir_processed = create_directory(os.path.join(targetdata_dir, \"processed\"))\n",
    "targetdata_dir_exp = create_directory(os.path.join(targetdata_dir, \"experiments\"))\n",
    "# # ReaderWriter.dump_data(dpartitions, os.path.join(targetdata_dir, 'data_partitions.pkl'))\n",
    "print(targetdata_dir)"
   ]
  },
  {
   "cell_type": "code",
   "execution_count": 15,
   "metadata": {},
   "outputs": [
    {
     "name": "stdout",
     "output_type": "stream",
     "text": [
      "CPU times: user 14.5 ms, sys: 488 ms, total: 503 ms\n",
      "Wall time: 1.22 s\n"
     ]
    }
   ],
   "source": [
    "%%time\n",
    "\n",
    "# Make sure to first run the \"DDoS_Dataset_Generation\" notebook first\n",
    "\n",
    "dataset = MoleculeDataset(root=targetdata_dir)"
   ]
  },
  {
   "cell_type": "code",
   "execution_count": 16,
   "metadata": {},
   "outputs": [
    {
     "name": "stdout",
     "output_type": "stream",
     "text": [
      "\n",
      "Dataset: MoleculeDataset(25757):\n",
      "====================\n",
      "Number of graphs: 25757\n",
      "Number of features: 9\n",
      "Number of classes: 2\n"
     ]
    }
   ],
   "source": [
    "print()\n",
    "print(f'Dataset: {dataset}:')\n",
    "print('====================')\n",
    "print(f'Number of graphs: {len(dataset)}')\n",
    "print(f'Number of features: {dataset.num_features}')\n",
    "print(f'Number of classes: {dataset.num_classes}')"
   ]
  },
  {
   "cell_type": "code",
   "execution_count": 17,
   "metadata": {
    "scrolled": true
   },
   "outputs": [],
   "source": [
    "# data0 = dataset[0]  # Get the first graph object.\n",
    "# data0"
   ]
  },
  {
   "cell_type": "code",
   "execution_count": 18,
   "metadata": {},
   "outputs": [],
   "source": [
    "# used_dataset = dataset\n",
    "\n",
    "# If you want to use a smaller subset of the dataset for testing\n",
    "smaller_dataset_len = int(len(dataset)/1)\n",
    "used_dataset = dataset[:smaller_dataset_len]"
   ]
  },
  {
   "cell_type": "code",
   "execution_count": 19,
   "metadata": {
    "scrolled": true
   },
   "outputs": [
    {
     "name": "stdout",
     "output_type": "stream",
     "text": [
      "fold_num: 0\n",
      "train data\n",
      "class: 0 norm count: 0.5764128559102675\n",
      "class: 1 norm count: 0.4235871440897325\n",
      "validation data\n",
      "class: 0 norm count: 0.5764192139737991\n",
      "class: 1 norm count: 0.42358078602620086\n",
      "test data\n",
      "class: 0 norm count: 0.5764751552795031\n",
      "class: 1 norm count: 0.4235248447204969\n",
      "\n",
      "-------------------------\n",
      "fold_num: 1\n",
      "train data\n",
      "class: 0 norm count: 0.5764128559102675\n",
      "class: 1 norm count: 0.4235871440897325\n",
      "validation data\n",
      "class: 0 norm count: 0.5764192139737991\n",
      "class: 1 norm count: 0.42358078602620086\n",
      "test data\n",
      "class: 0 norm count: 0.5764751552795031\n",
      "class: 1 norm count: 0.4235248447204969\n",
      "\n",
      "-------------------------\n",
      "fold_num: 2\n",
      "train data\n",
      "class: 0 norm count: 0.5764356969533567\n",
      "class: 1 norm count: 0.4235643030466433\n",
      "validation data\n",
      "class: 0 norm count: 0.5764192139737991\n",
      "class: 1 norm count: 0.42358078602620086\n",
      "test data\n",
      "class: 0 norm count: 0.5763929334109882\n",
      "class: 1 norm count: 0.4236070665890118\n",
      "\n",
      "-------------------------\n",
      "fold_num: 3\n",
      "train data\n",
      "class: 0 norm count: 0.5764356969533567\n",
      "class: 1 norm count: 0.4235643030466433\n",
      "validation data\n",
      "class: 0 norm count: 0.5764192139737991\n",
      "class: 1 norm count: 0.42358078602620086\n",
      "test data\n",
      "class: 0 norm count: 0.5763929334109882\n",
      "class: 1 norm count: 0.4236070665890118\n",
      "\n",
      "-------------------------\n",
      "fold_num: 4\n",
      "train data\n",
      "class: 0 norm count: 0.5764356969533567\n",
      "class: 1 norm count: 0.4235643030466433\n",
      "validation data\n",
      "class: 0 norm count: 0.5764192139737991\n",
      "class: 1 norm count: 0.42358078602620086\n",
      "test data\n",
      "class: 0 norm count: 0.5763929334109882\n",
      "class: 1 norm count: 0.4236070665890118\n",
      "\n",
      "-------------------------\n"
     ]
    }
   ],
   "source": [
    "fold_partitions = get_stratified_partitions(used_dataset.data.y[:smaller_dataset_len],\n",
    "                                            num_folds=5, valid_set_portion=0.1, random_state=42)"
   ]
  },
  {
   "cell_type": "code",
   "execution_count": 20,
   "metadata": {},
   "outputs": [
    {
     "name": "stdout",
     "output_type": "stream",
     "text": [
      "Number of training graphs: 18544\n",
      "Number of validation graphs: 2061\n",
      "Number of testing graphs: 5152\n"
     ]
    }
   ],
   "source": [
    "print(\"Number of training graphs: \"+ str(len(fold_partitions[0]['train'])))\n",
    "print(\"Number of validation graphs: \"+ str(len(fold_partitions[0]['validation'])))\n",
    "print(\"Number of testing graphs: \"+ str(len(fold_partitions[0]['test'])))\n"
   ]
  },
  {
   "cell_type": "code",
   "execution_count": 21,
   "metadata": {},
   "outputs": [],
   "source": [
    "# print(dataset.num_classes)"
   ]
  },
  {
   "cell_type": "code",
   "execution_count": 22,
   "metadata": {},
   "outputs": [],
   "source": [
    "# # training params\n",
    "# tp = {\n",
    "#     \"batch_size\" : 300,\n",
    "#     \"num_epochs\" : 50,\n",
    "    \n",
    "#     \"emb_dim\" : 300,\n",
    "#     \"gnn_type\" : \"gatv2\",\n",
    "#     \"num_layer\" : 5,\n",
    "#     \"graph_pooling\" : \"mean\", #attention\n",
    "    \n",
    "#     \"input_embed_dim\" : None,\n",
    "#     \"gene_embed_dim\": 1,\n",
    "#     \"num_attn_heads\" : 2,\n",
    "#     \"num_transformer_units\" : 1,\n",
    "#     \"p_dropout\" : 0.3,\n",
    "# #     \"nonlin_func\" : nn.ReLU(),\n",
    "#     \"mlp_embed_factor\" : 2,\n",
    "#     \"pooling_mode\" : 'attn',\n",
    "#     \"dist_opt\" : 'cosine',\n",
    "\n",
    "#     \"base_lr\" : 3e-5, #3e-4\n",
    "#     \"max_lr_mul\": 5,\n",
    "#     \"l2_reg\" : 1e-7,\n",
    "#     \"loss_w\" : 0.1,\n",
    "#     \"margin_v\" : 1.,\n",
    "\n",
    "#     \"expression_dim\" : 64,\n",
    "#     \"expression_input_size\" : 908,\n",
    "#     \"exp_H1\" : 500,\n",
    "#     \"exp_H2\" : 400\n",
    "# }"
   ]
  },
  {
   "cell_type": "code",
   "execution_count": 23,
   "metadata": {},
   "outputs": [],
   "source": [
    "tp = {\n",
    "    \"batch_size\" : 300,\n",
    "    \"num_epochs\" : 50,\n",
    "    \n",
    "    \"emb_dim\" : 300,\n",
    "    \"gnn_type\" : \"gatv2\",\n",
    "    \"num_layer\" : 5,\n",
    "    \"graph_pooling\" : \"mean\", #attention\n",
    "    \n",
    "    \"input_embed_dim\" : None,\n",
    "    \"gene_embed_dim\": 1,\n",
    "    \"num_attn_heads\" : 2,\n",
    "    \"num_transformer_units\" : 1,\n",
    "    \"p_dropout\" : 0.3,\n",
    "#     \"nonlin_func\" : nn.ReLU(),\n",
    "    \"mlp_embed_factor\" : 2,\n",
    "    \"pooling_mode\" : 'attn',\n",
    "    \"dist_opt\" : 'cosine',\n",
    "\n",
    "    \"base_lr\" : 3e-4, #3e-4\n",
    "    \"max_lr_mul\": 5,\n",
    "    \"l2_reg\" : 1e-5,\n",
    "    \"loss_w\" : 1.,\n",
    "    \"margin_v\" : 1.,\n",
    "\n",
    "    \"expression_dim\" : 64,\n",
    "    \"expression_input_size\" : 908,\n",
    "    \"exp_H1\" : 4096,\n",
    "    \"exp_H2\" : 2048\n",
    "}"
   ]
  },
  {
   "cell_type": "code",
   "execution_count": 24,
   "metadata": {},
   "outputs": [],
   "source": [
    "# input_embed_dim = [128]\n",
    "# num_attn_heads = [2] # 2,4\n",
    "# num_transformer_units = [1]\n",
    "emb_dim = [100]\n",
    "num_layer = [5]\n",
    "p_dropout = [0.3]\n",
    "# nonlin_func = [nn.ReLU()]\n",
    "# mlp_embed_factor = [2]\n",
    "# pooling_mode = ['attn']\n",
    "# dist_opt = ['cosine']\n",
    "l2_reg = [1e-7] #0\n",
    "# batch_size = [300]\n",
    "# num_epochs = [200]\n",
    "# loss_w = [0.95] # 0.05, \n",
    "base_lr = [3e-4]\n",
    "max_lr_mul = [10]\n",
    "exp_H1 = [512, 1024, 2048, 4096]\n",
    "exp_H2 = [512, 1024]\n"
   ]
  },
  {
   "cell_type": "code",
   "execution_count": 25,
   "metadata": {},
   "outputs": [],
   "source": [
    "hp_names = [\"num_layer\",\n",
    "            \"p_dropout\",\n",
    "            \"l2_reg\",\n",
    "            \"emb_dim\",\n",
    "#             \"loss_w\",\n",
    "#            \"num_transformer_units\",\n",
    "#            \"batch_size\",\n",
    "           \"base_lr\",\n",
    "           \"max_lr_mul\",\n",
    "           \"exp_H1\",\n",
    "           \"exp_H2\"]"
   ]
  },
  {
   "cell_type": "code",
   "execution_count": 26,
   "metadata": {},
   "outputs": [
    {
     "data": {
      "text/plain": [
       "[[5],\n",
       " [0.3],\n",
       " [1e-07],\n",
       " [100],\n",
       " [0.0003],\n",
       " [10],\n",
       " [512, 1024, 2048, 4096],\n",
       " [512, 1024]]"
      ]
     },
     "execution_count": 26,
     "metadata": {},
     "output_type": "execute_result"
    }
   ],
   "source": [
    "[globals()[i] for i in hp_names]"
   ]
  },
  {
   "cell_type": "code",
   "execution_count": 27,
   "metadata": {},
   "outputs": [
    {
     "name": "stdout",
     "output_type": "stream",
     "text": [
      "8\n"
     ]
    }
   ],
   "source": [
    "hyperparam_space = list(itertools.product(*[globals()[i] for i in hp_names]))\n",
    "print(len(hyperparam_space))"
   ]
  },
  {
   "cell_type": "code",
   "execution_count": 28,
   "metadata": {},
   "outputs": [
    {
     "data": {
      "text/plain": [
       "(5, 0.3, 1e-07, 100, 0.0003, 10, 512, 512)"
      ]
     },
     "execution_count": 28,
     "metadata": {},
     "output_type": "execute_result"
    }
   ],
   "source": [
    "hyperparam_space[0]"
   ]
  },
  {
   "cell_type": "code",
   "execution_count": 29,
   "metadata": {},
   "outputs": [],
   "source": [
    "def spawn_q_process(q_process):\n",
    "    print(\">>> spawning hyperparam search process\")\n",
    "    q_process.start()\n",
    "    \n",
    "def join_q_process(q_process):\n",
    "    q_process.join()\n",
    "    print(\"<<< joined hyperparam search process\")\n",
    "    \n",
    "def create_q_process(queue, used_dataset, gpu_num, tphp, exp_dir, partition): #\n",
    "#     fold_gpu_map = {0:gpu_num}\n",
    "    return mp.Process(target=deepadr.hyphelperv2.run_exp, args=(queue, used_dataset, gpu_num, tphp, exp_dir, partition)) #"
   ]
  },
  {
   "cell_type": "code",
   "execution_count": 30,
   "metadata": {
    "scrolled": true
   },
   "outputs": [],
   "source": [
    "# import torch.multiprocessing as mp\n",
    "# mp.set_start_method(\"spawn\", force=True)\n",
    "\n",
    "# queue = mp.Queue()\n",
    "# q_processes = []\n",
    "\n",
    "# partition = fold_partitions[0]\n",
    "\n",
    "# print(\"Start: \" + datetime.datetime.now().strftime('%Y-%m-%d_%H-%M-%S'))\n",
    "\n",
    "# for q_i in range(min(n_gpu, len(hyperparam_space))):\n",
    "# #     device_gpu = get_device(True, index=q_i)\n",
    "#     time_stamp = datetime.datetime.now().strftime('%Y-%m-%d_%H-%M-%S')\n",
    "#     exp_dir = create_directory(os.path.join(targetdata_dir_exp, \"exp_\"+str(q_i)+\"_\"+time_stamp))\n",
    "#     create_directory(os.path.join(exp_dir, \"predictions\"))\n",
    "#     tphp = generate_tp_hp(tp, hyperparam_space[q_i], hp_names)\n",
    "    \n",
    "#     q_process = create_q_process(queue, used_dataset, q_i, tphp, exp_dir, partition)\n",
    "#     q_processes.append(q_process)\n",
    "#     spawn_q_process(q_process)\n",
    "\n",
    "# spawned_processes = n_gpu\n",
    "    \n",
    "# for q_i in range(len(hyperparam_space)):\n",
    "#     join_q_process(q_processes[q_i])\n",
    "#     released_gpu_num = queue.get()\n",
    "#     print(\"released_gpu_num:\", released_gpu_num)\n",
    "#     if(spawned_processes < len(hyperparam_space)):\n",
    "# #         device_gpu = get_device(True, index=q_i)\n",
    "#         time_stamp = datetime.datetime.now().strftime('%Y-%m-%d_%H-%M-%S')\n",
    "#         exp_dir = create_directory(os.path.join(targetdata_dir_exp, \"exp_\"+str(q_i)+\"_\"+time_stamp))\n",
    "#         create_directory(os.path.join(exp_dir, \"predictions\"))\n",
    "#         tphp = generate_tp_hp(tp, hyperparam_space[q_i], hp_names)\n",
    "\n",
    "#         q_process = create_q_process(queue, used_dataset, released_gpu_num, tphp, exp_dir, partition)\n",
    "#         q_processes.append(q_process)\n",
    "#         spawn_q_process(q_process)\n",
    "#         spawned_processes = spawned_processes + 1"
   ]
  },
  {
   "cell_type": "code",
   "execution_count": 31,
   "metadata": {
    "scrolled": true
   },
   "outputs": [
    {
     "name": "stdout",
     "output_type": "stream",
     "text": [
      "End: 2022-07-25_15-22-05\n"
     ]
    }
   ],
   "source": [
    "print(\"End: \" + datetime.datetime.now().strftime('%Y-%m-%d_%H-%M-%S'))\n"
   ]
  },
  {
   "cell_type": "code",
   "execution_count": null,
   "metadata": {},
   "outputs": [],
   "source": []
  },
  {
   "cell_type": "code",
   "execution_count": 37,
   "metadata": {},
   "outputs": [
    {
     "data": {
      "text/plain": [
       "'/opt/data/chemprop_run/git/data/processed/DrugComb_total_thresh_4/data_v1/experiments'"
      ]
     },
     "execution_count": 37,
     "metadata": {},
     "output_type": "execute_result"
    }
   ],
   "source": [
    "targetdata_dir_exp"
   ]
  },
  {
   "cell_type": "markdown",
   "metadata": {},
   "source": [
    "### Hyper Parameters"
   ]
  },
  {
   "cell_type": "code",
   "execution_count": 50,
   "metadata": {},
   "outputs": [
    {
     "data": {
      "text/plain": [
       "178"
      ]
     },
     "execution_count": 50,
     "metadata": {},
     "output_type": "execute_result"
    }
   ],
   "source": [
    "import glob\n",
    "exp_dirs = glob.glob(targetdata_dir_exp+\"/hyp/exp_*\")\n",
    "len(exp_dirs)"
   ]
  },
  {
   "cell_type": "code",
   "execution_count": 51,
   "metadata": {},
   "outputs": [
    {
     "data": {
      "text/plain": [
       "['/opt/data/chemprop_run/git/data/processed/DrugComb_total_thresh_4/data_v1/experiments/hyp/exp_1_2022-03-25_14-21-52',\n",
       " '/opt/data/chemprop_run/git/data/processed/DrugComb_total_thresh_4/data_v1/experiments/hyp/exp_2_2022-02-22_15-34-38',\n",
       " '/opt/data/chemprop_run/git/data/processed/DrugComb_total_thresh_4/data_v1/experiments/hyp/exp_1_2022-03-24_18-02-47',\n",
       " '/opt/data/chemprop_run/git/data/processed/DrugComb_total_thresh_4/data_v1/experiments/hyp/exp_1_2022-02-22_15-05-59',\n",
       " '/opt/data/chemprop_run/git/data/processed/DrugComb_total_thresh_4/data_v1/experiments/hyp/exp_0_2022-03-28_11-00-21',\n",
       " '/opt/data/chemprop_run/git/data/processed/DrugComb_total_thresh_4/data_v1/experiments/hyp/exp_5_2022-02-22_15-06-14',\n",
       " '/opt/data/chemprop_run/git/data/processed/DrugComb_total_thresh_4/data_v1/experiments/hyp/exp_7_2022-03-28_11-24-00',\n",
       " '/opt/data/chemprop_run/git/data/processed/DrugComb_total_thresh_4/data_v1/experiments/hyp/exp_7_2022-03-25_14-52-18',\n",
       " '/opt/data/chemprop_run/git/data/processed/DrugComb_total_thresh_4/data_v1/experiments/hyp/exp_2_2022-03-25_14-51-54',\n",
       " '/opt/data/chemprop_run/git/data/processed/DrugComb_total_thresh_4/data_v1/experiments/hyp/exp_4_2022-02-22_13-27-29',\n",
       " '/opt/data/chemprop_run/git/data/processed/DrugComb_total_thresh_4/data_v1/experiments/hyp/exp_4_2022-03-24_15-53-51',\n",
       " '/opt/data/chemprop_run/git/data/processed/DrugComb_total_thresh_4/data_v1/experiments/hyp/exp_5_2022-03-25_15-42-01',\n",
       " '/opt/data/chemprop_run/git/data/processed/DrugComb_total_thresh_4/data_v1/experiments/hyp/exp_2_2022-02-22_16-00-30',\n",
       " '/opt/data/chemprop_run/git/data/processed/DrugComb_total_thresh_4/data_v1/experiments/hyp/exp_5_2022-02-22_14-37-17',\n",
       " '/opt/data/chemprop_run/git/data/processed/DrugComb_total_thresh_4/data_v1/experiments/hyp/exp_4_2022-03-25_14-22-03',\n",
       " '/opt/data/chemprop_run/git/data/processed/DrugComb_total_thresh_4/data_v1/experiments/hyp/exp_0_2022-02-22_14-13-10',\n",
       " '/opt/data/chemprop_run/git/data/processed/DrugComb_total_thresh_4/data_v1/experiments/hyp/exp_4_2022-03-28_11-23-46',\n",
       " '/opt/data/chemprop_run/git/data/processed/DrugComb_total_thresh_4/data_v1/experiments/hyp/exp_0_2022-03-28_12-36-47',\n",
       " '/opt/data/chemprop_run/git/data/processed/DrugComb_total_thresh_4/data_v1/experiments/hyp/exp_3_2022-03-24_19-31-04',\n",
       " '/opt/data/chemprop_run/git/data/processed/DrugComb_total_thresh_4/data_v1/experiments/hyp/exp_4_2022-03-28_11-00-35',\n",
       " '/opt/data/chemprop_run/git/data/processed/DrugComb_total_thresh_4/data_v1/experiments/hyp/exp_4_2022-03-25_14-52-01',\n",
       " '/opt/data/chemprop_run/git/data/processed/DrugComb_total_thresh_4/data_v1/experiments/hyp/exp_1_2022-03-25_15-41-47',\n",
       " '/opt/data/chemprop_run/git/data/processed/DrugComb_total_thresh_4/data_v1/experiments/hyp/exp_5_2022-03-24_16-30-04',\n",
       " '/opt/data/chemprop_run/git/data/processed/DrugComb_total_thresh_4/data_v1/experiments/hyp/exp_6_2022-03-28_11-23-54',\n",
       " '/opt/data/chemprop_run/git/data/processed/DrugComb_total_thresh_4/data_v1/experiments/hyp/exp_6_2022-02-22_14-13-32',\n",
       " '/opt/data/chemprop_run/git/data/processed/DrugComb_total_thresh_4/data_v1/experiments/hyp/exp_5_2022-03-28_12-37-04',\n",
       " '/opt/data/chemprop_run/git/data/processed/DrugComb_total_thresh_4/data_v1/experiments/hyp/exp_3_2022-03-24_16-59-38',\n",
       " '/opt/data/chemprop_run/git/data/processed/DrugComb_total_thresh_4/data_v1/experiments/hyp/exp_2_2022-02-22_13-27-21',\n",
       " '/opt/data/chemprop_run/git/data/processed/DrugComb_total_thresh_4/data_v1/experiments/hyp/exp_5_2022-02-22_15-34-49',\n",
       " '/opt/data/chemprop_run/git/data/processed/DrugComb_total_thresh_4/data_v1/experiments/hyp/exp_2_2022-03-24_17-33-36',\n",
       " '/opt/data/chemprop_run/git/data/processed/DrugComb_total_thresh_4/data_v1/experiments/hyp/exp_7_2022-03-25_15-19-05',\n",
       " '/opt/data/chemprop_run/git/data/processed/DrugComb_total_thresh_4/data_v1/experiments/hyp/exp_7_2022-02-22_14-37-25',\n",
       " '/opt/data/chemprop_run/git/data/processed/DrugComb_total_thresh_4/data_v1/experiments/hyp/exp_3_2022-03-28_11-23-43',\n",
       " '/opt/data/chemprop_run/git/data/processed/DrugComb_total_thresh_4/data_v1/experiments/hyp/exp_6_2022-03-25_15-18-59',\n",
       " '/opt/data/chemprop_run/git/data/processed/DrugComb_total_thresh_4/data_v1/experiments/hyp/exp_1_2022-03-28_12-36-50',\n",
       " '/opt/data/chemprop_run/git/data/processed/DrugComb_total_thresh_4/data_v1/experiments/hyp/exp_7_2022-03-28_12-37-16',\n",
       " '/opt/data/chemprop_run/git/data/processed/DrugComb_total_thresh_4/data_v1/experiments/hyp/exp_3_2022-02-22_14-13-21',\n",
       " '/opt/data/chemprop_run/git/data/processed/DrugComb_total_thresh_4/data_v1/experiments/hyp/exp_0_2022-02-22_15-05-55',\n",
       " '/opt/data/chemprop_run/git/data/processed/DrugComb_total_thresh_4/data_v1/experiments/hyp/exp_1_2022-02-22_15-34-34',\n",
       " '/opt/data/chemprop_run/git/data/processed/DrugComb_total_thresh_4/data_v1/experiments/hyp/exp_2_2022-03-24_16-59-34',\n",
       " '/opt/data/chemprop_run/git/data/processed/DrugComb_total_thresh_4/data_v1/experiments/hyp/exp_7_2022-03-24_18-03-10',\n",
       " '/opt/data/chemprop_run/git/data/processed/DrugComb_total_thresh_4/data_v1/experiments/hyp/exp_3_2022-03-28_12-36-57',\n",
       " '/opt/data/chemprop_run/git/data/processed/DrugComb_total_thresh_4/data_v1/experiments/hyp/exp_2_2022-03-24_18-02-50',\n",
       " '/opt/data/chemprop_run/git/data/processed/DrugComb_total_thresh_4/data_v1/experiments/hyp/exp_6_2022-03-24_19-31-15',\n",
       " '/opt/data/chemprop_run/git/data/processed/DrugComb_total_thresh_4/data_v1/experiments/hyp/exp_1_2022-03-28_11-00-25',\n",
       " '/opt/data/chemprop_run/git/data/processed/DrugComb_total_thresh_4/data_v1/experiments/hyp/exp_3_2022-02-22_13-27-25',\n",
       " '/opt/data/chemprop_run/git/data/processed/DrugComb_total_thresh_4/data_v1/experiments/hyp/exp_1_2022-03-25_14-51-50',\n",
       " '/opt/data/chemprop_run/git/data/processed/DrugComb_total_thresh_4/data_v1/experiments/hyp/exp_6_2022-02-22_15-06-17',\n",
       " '/opt/data/chemprop_run/git/data/processed/DrugComb_total_thresh_4/data_v1/experiments/hyp/exp_3_2022-03-25_14-21-59',\n",
       " '/opt/data/chemprop_run/git/data/processed/DrugComb_total_thresh_4/data_v1/experiments/hyp/exp_6_2022-02-22_14-37-21',\n",
       " '/opt/data/chemprop_run/git/data/processed/DrugComb_total_thresh_4/data_v1/experiments/hyp/exp_1_2022-03-28_10-30-56',\n",
       " '/opt/data/chemprop_run/git/data/processed/DrugComb_total_thresh_4/data_v1/experiments/hyp/exp_0_2022-03-24_18-02-44',\n",
       " '/opt/data/chemprop_run/git/data/processed/DrugComb_total_thresh_4/data_v1/experiments/hyp/exp_6_2022-03-28_10-31-15',\n",
       " '/opt/data/chemprop_run/git/data/processed/DrugComb_total_thresh_4/data_v1/experiments/hyp/exp_6_2022-03-24_16-59-49',\n",
       " '/opt/data/chemprop_run/git/data/processed/DrugComb_total_thresh_4/data_v1/experiments/hyp/exp_0_2022-03-25_14-51-47',\n",
       " '/opt/data/chemprop_run/git/data/processed/DrugComb_total_thresh_4/data_v1/experiments/hyp/exp_4_2022-02-22_14-37-14',\n",
       " '/opt/data/chemprop_run/git/data/processed/DrugComb_total_thresh_4/data_v1/experiments/hyp/exp_7_2022-02-22_15-34-57',\n",
       " '/opt/data/chemprop_run/git/data/processed/DrugComb_total_thresh_4/data_v1/experiments/hyp/exp_2_2022-03-24_19-31-00',\n",
       " '/opt/data/chemprop_run/git/data/processed/DrugComb_total_thresh_4/data_v1/experiments/hyp/exp_3_2022-03-25_15-18-48',\n",
       " '/opt/data/chemprop_run/git/data/processed/DrugComb_total_thresh_4/data_v1/experiments/hyp/exp_3_2022-03-25_14-51-57',\n",
       " '/opt/data/chemprop_run/git/data/processed/DrugComb_total_thresh_4/data_v1/experiments/hyp/exp_0_2022-03-25_14-04-36',\n",
       " '/opt/data/chemprop_run/git/data/processed/DrugComb_total_thresh_4/data_v1/experiments/hyp/exp_7_2022-03-28_10-31-21',\n",
       " '/opt/data/chemprop_run/git/data/processed/DrugComb_total_thresh_4/data_v1/experiments/hyp/exp_4_2022-02-22_15-34-45',\n",
       " '/opt/data/chemprop_run/git/data/processed/DrugComb_total_thresh_4/data_v1/experiments/hyp/exp_1_2022-03-28_11-23-36',\n",
       " '/opt/data/chemprop_run/git/data/processed/DrugComb_total_thresh_4/data_v1/experiments/hyp/exp_2_2022-03-25_14-21-55',\n",
       " '/opt/data/chemprop_run/git/data/processed/DrugComb_total_thresh_4/data_v1/experiments/hyp/exp_3_2022-03-24_18-56-02',\n",
       " '/opt/data/chemprop_run/git/data/processed/DrugComb_total_thresh_4/data_v1/experiments/hyp/exp_2_2022-03-28_12-36-54',\n",
       " '/opt/data/chemprop_run/git/data/processed/DrugComb_total_thresh_4/data_v1/experiments/hyp/exp_7_2022-03-24_16-30-12',\n",
       " '/opt/data/chemprop_run/git/data/processed/DrugComb_total_thresh_4/data_v1/experiments/hyp/exp_7_2022-03-28_11-00-50',\n",
       " '/opt/data/chemprop_run/git/data/processed/DrugComb_total_thresh_4/data_v1/experiments/hyp/exp_3_2022-03-24_18-02-54',\n",
       " '/opt/data/chemprop_run/git/data/processed/DrugComb_total_thresh_4/data_v1/experiments/hyp/exp_2_2022-03-24_15-53-44',\n",
       " '/opt/data/chemprop_run/git/data/processed/DrugComb_total_thresh_4/data_v1/experiments/hyp/exp_0_2022-03-28_12-15-51',\n",
       " '/opt/data/chemprop_run/git/data/processed/DrugComb_total_thresh_4/data_v1/experiments/hyp/exp_0_2022-03-24_18-55-51',\n",
       " '/opt/data/chemprop_run/git/data/processed/DrugComb_total_thresh_4/data_v1/experiments/hyp/exp_0_2022-03-28_10-30-52',\n",
       " '/opt/data/chemprop_run/git/data/processed/DrugComb_total_thresh_4/data_v1/experiments/hyp/exp_7_2022-03-28_12-16-19',\n",
       " '/opt/data/chemprop_run/git/data/processed/DrugComb_total_thresh_4/data_v1/experiments/hyp/exp_5_2022-03-25_14-52-04',\n",
       " '/opt/data/chemprop_run/git/data/processed/DrugComb_total_thresh_4/data_v1/experiments/hyp/exp_6_2022-02-22_16-00-45',\n",
       " '/opt/data/chemprop_run/git/data/processed/DrugComb_total_thresh_4/data_v1/experiments/hyp/exp_2_2022-02-22_14-13-17',\n",
       " '/opt/data/chemprop_run/git/data/processed/DrugComb_total_thresh_4/data_v1/experiments/hyp/exp_0_2022-03-24_17-33-29',\n",
       " '/opt/data/chemprop_run/git/data/processed/DrugComb_total_thresh_4/data_v1/experiments/hyp/exp_4_2022-03-25_15-18-51',\n",
       " '/opt/data/chemprop_run/git/data/processed/DrugComb_total_thresh_4/data_v1/experiments/hyp/exp_4_2022-03-28_12-37-01',\n",
       " '/opt/data/chemprop_run/git/data/processed/DrugComb_total_thresh_4/data_v1/experiments/hyp/exp_7_2022-03-24_15-54-04',\n",
       " '/opt/data/chemprop_run/git/data/processed/DrugComb_total_thresh_4/data_v1/experiments/hyp/exp_1_2022-03-24_17-33-33',\n",
       " '/opt/data/chemprop_run/git/data/processed/DrugComb_total_thresh_4/data_v1/experiments/hyp/exp_1_2022-03-25_15-18-41',\n",
       " '/opt/data/chemprop_run/git/data/processed/DrugComb_total_thresh_4/data_v1/experiments/hyp/exp_4_2022-03-24_18-02-57',\n",
       " '/opt/data/chemprop_run/git/data/processed/DrugComb_total_thresh_4/data_v1/experiments/hyp/exp_7_2022-03-25_14-22-19',\n",
       " '/opt/data/chemprop_run/git/data/processed/DrugComb_total_thresh_4/data_v1/experiments/hyp/exp_3_2022-02-22_15-34-41',\n",
       " '/opt/data/chemprop_run/git/data/processed/DrugComb_total_thresh_4/data_v1/experiments/hyp/exp_3_2022-03-24_17-33-40',\n",
       " '/opt/data/chemprop_run/git/data/processed/DrugComb_total_thresh_4/data_v1/experiments/hyp/exp_6_2022-02-22_15-34-53',\n",
       " '/opt/data/chemprop_run/git/data/processed/DrugComb_total_thresh_4/data_v1/experiments/hyp/exp_5_2022-03-24_18-56-09',\n",
       " '/opt/data/chemprop_run/git/data/processed/DrugComb_total_thresh_4/data_v1/experiments/hyp/exp_5_2022-03-28_11-00-39',\n",
       " '/opt/data/chemprop_run/git/data/processed/DrugComb_total_thresh_4/data_v1/experiments/hyp/exp_4_2022-03-25_15-41-57',\n",
       " '/opt/data/chemprop_run/git/data/processed/DrugComb_total_thresh_4/data_v1/experiments/hyp/exp_6_2022-03-25_14-22-12',\n",
       " '/opt/data/chemprop_run/git/data/processed/DrugComb_total_thresh_4/data_v1/experiments/hyp/exp_3_2022-02-22_14-37-10',\n",
       " '/opt/data/chemprop_run/git/data/processed/DrugComb_total_thresh_4/data_v1/experiments/hyp/exp_2_2022-03-28_11-23-39',\n",
       " '/opt/data/chemprop_run/git/data/processed/DrugComb_total_thresh_4/data_v1/experiments/hyp/exp_0_2022-03-24_15-53-38',\n",
       " '/opt/data/chemprop_run/git/data/processed/DrugComb_total_thresh_4/data_v1/experiments/hyp/exp_5_2022-03-28_12-16-08',\n",
       " '/opt/data/chemprop_run/git/data/processed/DrugComb_total_thresh_4/data_v1/experiments/hyp/exp_7_2022-03-24_17-33-56',\n",
       " '/opt/data/chemprop_run/git/data/processed/DrugComb_total_thresh_4/data_v1/experiments/hyp/exp_7_2022-02-22_13-27-41',\n",
       " '/opt/data/chemprop_run/git/data/processed/DrugComb_total_thresh_4/data_v1/experiments/hyp/exp_3_2022-03-24_15-53-48',\n",
       " '/opt/data/chemprop_run/git/data/processed/DrugComb_total_thresh_4/data_v1/experiments/hyp/exp_1_2022-03-25_14-04-39',\n",
       " '/opt/data/chemprop_run/git/data/processed/DrugComb_total_thresh_4/data_v1/experiments/hyp/exp_6_2022-03-25_14-52-11',\n",
       " '/opt/data/chemprop_run/git/data/processed/DrugComb_total_thresh_4/data_v1/experiments/hyp/exp_0_2022-03-25_14-21-48',\n",
       " '/opt/data/chemprop_run/git/data/processed/DrugComb_total_thresh_4/data_v1/experiments/hyp/exp_6_2022-03-24_16-30-08',\n",
       " '/opt/data/chemprop_run/git/data/processed/DrugComb_total_thresh_4/data_v1/experiments/hyp/exp_5_2022-02-22_13-27-33',\n",
       " '/opt/data/chemprop_run/git/data/processed/DrugComb_total_thresh_4/data_v1/experiments/hyp/exp_3_2022-03-28_12-16-01',\n",
       " '/opt/data/chemprop_run/git/data/processed/DrugComb_total_thresh_4/data_v1/experiments/hyp/exp_5_2022-03-25_15-18-55',\n",
       " '/opt/data/chemprop_run/git/data/processed/DrugComb_total_thresh_4/data_v1/experiments/hyp/exp_0_2022-03-24_19-30-53',\n",
       " '/opt/data/chemprop_run/git/data/processed/DrugComb_total_thresh_4/data_v1/experiments/hyp/exp_3_2022-03-28_11-00-32',\n",
       " '/opt/data/chemprop_run/git/data/processed/DrugComb_total_thresh_4/data_v1/experiments/hyp/exp_6_2022-03-24_18-56-13',\n",
       " '/opt/data/chemprop_run/git/data/processed/DrugComb_total_thresh_4/data_v1/experiments/hyp/exp_5_2022-03-28_11-23-50',\n",
       " '/opt/data/chemprop_run/git/data/processed/DrugComb_total_thresh_4/data_v1/experiments/hyp/exp_0_2022-03-24_16-29-46',\n",
       " '/opt/data/chemprop_run/git/data/processed/DrugComb_total_thresh_4/data_v1/experiments/hyp/exp_6_2022-03-28_12-37-09',\n",
       " '/opt/data/chemprop_run/git/data/processed/DrugComb_total_thresh_4/data_v1/experiments/hyp/exp_5_2022-03-25_14-22-06',\n",
       " '/opt/data/chemprop_run/git/data/processed/DrugComb_total_thresh_4/data_v1/experiments/hyp/exp_2_2022-03-28_12-15-57',\n",
       " '/opt/data/chemprop_run/git/data/processed/DrugComb_total_thresh_4/data_v1/experiments/hyp/exp_1_2022-03-24_16-29-50',\n",
       " '/opt/data/chemprop_run/git/data/processed/DrugComb_total_thresh_4/data_v1/experiments/hyp/exp_7_2022-03-24_18-56-18',\n",
       " '/opt/data/chemprop_run/git/data/processed/DrugComb_total_thresh_4/data_v1/experiments/hyp/exp_6_2022-03-24_15-53-59',\n",
       " '/opt/data/chemprop_run/git/data/processed/DrugComb_total_thresh_4/data_v1/experiments/hyp/exp_6_2022-03-28_12-16-13',\n",
       " '/opt/data/chemprop_run/git/data/processed/DrugComb_total_thresh_4/data_v1/experiments/hyp/exp_0_2022-03-24_16-59-27',\n",
       " '/opt/data/chemprop_run/git/data/processed/DrugComb_total_thresh_4/data_v1/experiments/hyp/exp_6_2022-03-24_17-33-51',\n",
       " '/opt/data/chemprop_run/git/data/processed/DrugComb_total_thresh_4/data_v1/experiments/hyp/exp_0_2022-02-22_14-37-00',\n",
       " '/opt/data/chemprop_run/git/data/processed/DrugComb_total_thresh_4/data_v1/experiments/hyp/exp_5_2022-03-28_10-31-10',\n",
       " '/opt/data/chemprop_run/git/data/processed/DrugComb_total_thresh_4/data_v1/experiments/hyp/exp_4_2022-03-28_12-16-04',\n",
       " '/opt/data/chemprop_run/git/data/processed/DrugComb_total_thresh_4/data_v1/experiments/hyp/exp_2_2022-02-22_14-37-06',\n",
       " '/opt/data/chemprop_run/git/data/processed/DrugComb_total_thresh_4/data_v1/experiments/hyp/exp_7_2022-02-22_14-13-36',\n",
       " '/opt/data/chemprop_run/git/data/processed/DrugComb_total_thresh_4/data_v1/experiments/hyp/exp_7_2022-03-24_19-31-20',\n",
       " '/opt/data/chemprop_run/git/data/processed/DrugComb_total_thresh_4/data_v1/experiments/hyp/exp_4_2022-03-24_16-59-41',\n",
       " '/opt/data/chemprop_run/git/data/processed/DrugComb_total_thresh_4/data_v1/experiments/hyp/exp_1_2022-03-24_19-30-57',\n",
       " '/opt/data/chemprop_run/git/data/processed/DrugComb_total_thresh_4/data_v1/experiments/hyp/exp_0_2022-02-22_13-27-14',\n",
       " '/opt/data/chemprop_run/git/data/processed/DrugComb_total_thresh_4/data_v1/experiments/hyp/exp_4_2022-03-28_10-31-07',\n",
       " '/opt/data/chemprop_run/git/data/processed/DrugComb_total_thresh_4/data_v1/experiments/hyp/exp_5_2022-03-24_18-03-01',\n",
       " '/opt/data/chemprop_run/git/data/processed/DrugComb_total_thresh_4/data_v1/experiments/hyp/exp_1_2022-03-24_16-59-31',\n",
       " '/opt/data/chemprop_run/git/data/processed/DrugComb_total_thresh_4/data_v1/experiments/hyp/exp_2_2022-03-24_18-55-58',\n",
       " '/opt/data/chemprop_run/git/data/processed/DrugComb_total_thresh_4/data_v1/experiments/hyp/exp_7_2022-03-24_16-59-54',\n",
       " '/opt/data/chemprop_run/git/data/processed/DrugComb_total_thresh_4/data_v1/experiments/hyp/exp_4_2022-02-22_15-06-10',\n",
       " '/opt/data/chemprop_run/git/data/processed/DrugComb_total_thresh_4/data_v1/experiments/hyp/exp_0_2022-03-25_15-41-43',\n",
       " '/opt/data/chemprop_run/git/data/processed/DrugComb_total_thresh_4/data_v1/experiments/hyp/exp_4_2022-03-24_19-31-08',\n",
       " '/opt/data/chemprop_run/git/data/processed/DrugComb_total_thresh_4/data_v1/experiments/hyp/exp_1_2022-03-24_18-55-55',\n",
       " '/opt/data/chemprop_run/git/data/processed/DrugComb_total_thresh_4/data_v1/experiments/hyp/exp_0_2022-03-28_11-23-32',\n",
       " '/opt/data/chemprop_run/git/data/processed/DrugComb_total_thresh_4/data_v1/experiments/hyp/exp_2_2022-03-25_15-18-44',\n",
       " '/opt/data/chemprop_run/git/data/processed/DrugComb_total_thresh_4/data_v1/experiments/hyp/exp_1_2022-03-28_12-15-54',\n",
       " '/opt/data/chemprop_run/git/data/processed/DrugComb_total_thresh_4/data_v1/experiments/hyp/exp_3_2022-03-28_10-31-03',\n",
       " '/opt/data/chemprop_run/git/data/processed/DrugComb_total_thresh_4/data_v1/experiments/hyp/exp_2_2022-03-28_10-30-59',\n",
       " '/opt/data/chemprop_run/git/data/processed/DrugComb_total_thresh_4/data_v1/experiments/hyp/exp_0_2022-02-22_16-00-23',\n",
       " '/opt/data/chemprop_run/git/data/processed/DrugComb_total_thresh_4/data_v1/experiments/hyp/exp_2_2022-03-24_16-29-53',\n",
       " '/opt/data/chemprop_run/git/data/processed/DrugComb_total_thresh_4/data_v1/experiments/hyp/exp_1_2022-03-24_15-53-41',\n",
       " '/opt/data/chemprop_run/git/data/processed/DrugComb_total_thresh_4/data_v1/experiments/hyp/exp_3_2022-03-24_16-29-57',\n",
       " '/opt/data/chemprop_run/git/data/processed/DrugComb_total_thresh_4/data_v1/experiments/hyp/exp_4_2022-03-24_16-30-00',\n",
       " '/opt/data/chemprop_run/git/data/processed/DrugComb_total_thresh_4/data_v1/experiments/hyp/exp_7_2022-02-22_16-00-49',\n",
       " '/opt/data/chemprop_run/git/data/processed/DrugComb_total_thresh_4/data_v1/experiments/hyp/exp_1_2022-02-22_14-13-13',\n",
       " '/opt/data/chemprop_run/git/data/processed/DrugComb_total_thresh_4/data_v1/experiments/hyp/exp_0_2022-03-25_15-18-37',\n",
       " '/opt/data/chemprop_run/git/data/processed/DrugComb_total_thresh_4/data_v1/experiments/hyp/exp_4_2022-02-22_16-00-37',\n",
       " '/opt/data/chemprop_run/git/data/processed/DrugComb_total_thresh_4/data_v1/experiments/hyp/exp_1_2022-02-22_16-00-26',\n",
       " '/opt/data/chemprop_run/git/data/processed/DrugComb_total_thresh_4/data_v1/experiments/hyp/exp_6_2022-02-22_13-27-37',\n",
       " '/opt/data/chemprop_run/git/data/processed/DrugComb_total_thresh_4/data_v1/experiments/hyp/exp_6_2022-03-24_18-03-06',\n",
       " '/opt/data/chemprop_run/git/data/processed/DrugComb_total_thresh_4/data_v1/experiments/hyp/exp_5_2022-02-22_14-13-28',\n",
       " '/opt/data/chemprop_run/git/data/processed/DrugComb_total_thresh_4/data_v1/experiments/hyp/exp_4_2022-02-22_14-13-24',\n",
       " '/opt/data/chemprop_run/git/data/processed/DrugComb_total_thresh_4/data_v1/experiments/hyp/exp_5_2022-03-24_19-31-11',\n",
       " '/opt/data/chemprop_run/git/data/processed/DrugComb_total_thresh_4/data_v1/experiments/hyp/exp_4_2022-03-24_18-56-05',\n",
       " '/opt/data/chemprop_run/git/data/processed/DrugComb_total_thresh_4/data_v1/experiments/hyp/exp_6_2022-03-28_11-00-43',\n",
       " '/opt/data/chemprop_run/git/data/processed/DrugComb_total_thresh_4/data_v1/experiments/hyp/exp_5_2022-03-24_15-53-55',\n",
       " '/opt/data/chemprop_run/git/data/processed/DrugComb_total_thresh_4/data_v1/experiments/hyp/exp_5_2022-03-24_17-33-47',\n",
       " '/opt/data/chemprop_run/git/data/processed/DrugComb_total_thresh_4/data_v1/experiments/hyp/exp_4_2022-03-24_17-33-44',\n",
       " '/opt/data/chemprop_run/git/data/processed/DrugComb_total_thresh_4/data_v1/experiments/hyp/exp_6_2022-03-25_15-42-05',\n",
       " '/opt/data/chemprop_run/git/data/processed/DrugComb_total_thresh_4/data_v1/experiments/hyp/exp_2_2022-03-25_15-41-50',\n",
       " '/opt/data/chemprop_run/git/data/processed/DrugComb_total_thresh_4/data_v1/experiments/hyp/exp_7_2022-02-22_15-06-21',\n",
       " '/opt/data/chemprop_run/git/data/processed/DrugComb_total_thresh_4/data_v1/experiments/hyp/exp_3_2022-03-25_15-41-54',\n",
       " '/opt/data/chemprop_run/git/data/processed/DrugComb_total_thresh_4/data_v1/experiments/hyp/exp_1_2022-02-22_13-27-18',\n",
       " '/opt/data/chemprop_run/git/data/processed/DrugComb_total_thresh_4/data_v1/experiments/hyp/exp_7_2022-03-25_15-42-12',\n",
       " '/opt/data/chemprop_run/git/data/processed/DrugComb_total_thresh_4/data_v1/experiments/hyp/exp_3_2022-02-22_15-06-06',\n",
       " '/opt/data/chemprop_run/git/data/processed/DrugComb_total_thresh_4/data_v1/experiments/hyp/exp_5_2022-03-24_16-59-45',\n",
       " '/opt/data/chemprop_run/git/data/processed/DrugComb_total_thresh_4/data_v1/experiments/hyp/exp_0_2022-02-22_15-34-31',\n",
       " '/opt/data/chemprop_run/git/data/processed/DrugComb_total_thresh_4/data_v1/experiments/hyp/exp_3_2022-02-22_16-00-33',\n",
       " '/opt/data/chemprop_run/git/data/processed/DrugComb_total_thresh_4/data_v1/experiments/hyp/exp_1_2022-02-22_14-37-03',\n",
       " '/opt/data/chemprop_run/git/data/processed/DrugComb_total_thresh_4/data_v1/experiments/hyp/exp_2_2022-03-28_11-00-28',\n",
       " '/opt/data/chemprop_run/git/data/processed/DrugComb_total_thresh_4/data_v1/experiments/hyp/exp_5_2022-02-22_16-00-41',\n",
       " '/opt/data/chemprop_run/git/data/processed/DrugComb_total_thresh_4/data_v1/experiments/hyp/exp_2_2022-02-22_15-06-02']"
      ]
     },
     "execution_count": 51,
     "metadata": {},
     "output_type": "execute_result"
    }
   ],
   "source": [
    "# exp_dirs = [exp_dirs[0]]\n",
    "exp_dirs"
   ]
  },
  {
   "cell_type": "code",
   "execution_count": 52,
   "metadata": {},
   "outputs": [
    {
     "name": "stdout",
     "output_type": "stream",
     "text": [
      "/opt/data/chemprop_run/git/data/processed/DrugComb_total_thresh_4/data_v1/experiments/hyp/exp_1_2022-03-25_14-21-52\n",
      "/opt/data/chemprop_run/git/data/processed/DrugComb_total_thresh_4/data_v1/experiments/hyp/exp_2_2022-02-22_15-34-38\n"
     ]
    },
    {
     "ename": "KeyError",
     "evalue": "'test_aupr'",
     "output_type": "error",
     "traceback": [
      "\u001b[0;31m---------------------------------------------------------------------------\u001b[0m",
      "\u001b[0;31mKeyError\u001b[0m                                  Traceback (most recent call last)",
      "File \u001b[0;32m/opt/conda/envs/graphnn/lib/python3.9/site-packages/pandas/core/indexes/base.py:3621\u001b[0m, in \u001b[0;36mIndex.get_loc\u001b[0;34m(self, key, method, tolerance)\u001b[0m\n\u001b[1;32m   3620\u001b[0m \u001b[38;5;28;01mtry\u001b[39;00m:\n\u001b[0;32m-> 3621\u001b[0m     \u001b[38;5;28;01mreturn\u001b[39;00m \u001b[38;5;28;43mself\u001b[39;49m\u001b[38;5;241;43m.\u001b[39;49m\u001b[43m_engine\u001b[49m\u001b[38;5;241;43m.\u001b[39;49m\u001b[43mget_loc\u001b[49m\u001b[43m(\u001b[49m\u001b[43mcasted_key\u001b[49m\u001b[43m)\u001b[49m\n\u001b[1;32m   3622\u001b[0m \u001b[38;5;28;01mexcept\u001b[39;00m \u001b[38;5;167;01mKeyError\u001b[39;00m \u001b[38;5;28;01mas\u001b[39;00m err:\n",
      "File \u001b[0;32m/opt/conda/envs/graphnn/lib/python3.9/site-packages/pandas/_libs/index.pyx:136\u001b[0m, in \u001b[0;36mpandas._libs.index.IndexEngine.get_loc\u001b[0;34m()\u001b[0m\n",
      "File \u001b[0;32m/opt/conda/envs/graphnn/lib/python3.9/site-packages/pandas/_libs/index.pyx:163\u001b[0m, in \u001b[0;36mpandas._libs.index.IndexEngine.get_loc\u001b[0;34m()\u001b[0m\n",
      "File \u001b[0;32mpandas/_libs/hashtable_class_helper.pxi:5198\u001b[0m, in \u001b[0;36mpandas._libs.hashtable.PyObjectHashTable.get_item\u001b[0;34m()\u001b[0m\n",
      "File \u001b[0;32mpandas/_libs/hashtable_class_helper.pxi:5206\u001b[0m, in \u001b[0;36mpandas._libs.hashtable.PyObjectHashTable.get_item\u001b[0;34m()\u001b[0m\n",
      "\u001b[0;31mKeyError\u001b[0m: 'test_aupr'",
      "\nThe above exception was the direct cause of the following exception:\n",
      "\u001b[0;31mKeyError\u001b[0m                                  Traceback (most recent call last)",
      "Input \u001b[0;32mIn [52]\u001b[0m, in \u001b[0;36m<cell line: 3>\u001b[0;34m()\u001b[0m\n\u001b[1;32m      4\u001b[0m \u001b[38;5;28mprint\u001b[39m(edir)\n\u001b[1;32m      6\u001b[0m hp \u001b[38;5;241m=\u001b[39m pd\u001b[38;5;241m.\u001b[39mread_json(edir \u001b[38;5;241m+\u001b[39m \u001b[38;5;124m\"\u001b[39m\u001b[38;5;124m/hyperparameters.json\u001b[39m\u001b[38;5;124m\"\u001b[39m, typ\u001b[38;5;241m=\u001b[39m\u001b[38;5;124m\"\u001b[39m\u001b[38;5;124mSeries\u001b[39m\u001b[38;5;124m\"\u001b[39m)\u001b[38;5;241m.\u001b[39mto_dict()\n\u001b[0;32m----> 7\u001b[0m hp[\u001b[38;5;124m'\u001b[39m\u001b[38;5;124mmaxTestAUPR\u001b[39m\u001b[38;5;124m'\u001b[39m] \u001b[38;5;241m=\u001b[39m \u001b[43mpd\u001b[49m\u001b[38;5;241;43m.\u001b[39;49m\u001b[43mread_csv\u001b[49m\u001b[43m(\u001b[49m\u001b[43medir\u001b[49m\u001b[43m \u001b[49m\u001b[38;5;241;43m+\u001b[39;49m\u001b[43m \u001b[49m\u001b[38;5;124;43m\"\u001b[39;49m\u001b[38;5;124;43m/curves.csv\u001b[39;49m\u001b[38;5;124;43m\"\u001b[39;49m\u001b[43m)\u001b[49m\u001b[43m[\u001b[49m\u001b[38;5;124;43m'\u001b[39;49m\u001b[38;5;124;43mtest_aupr\u001b[39;49m\u001b[38;5;124;43m'\u001b[39;49m\u001b[43m]\u001b[49m\u001b[38;5;241m.\u001b[39mmax()\n\u001b[1;32m      8\u001b[0m exp_results\u001b[38;5;241m.\u001b[39mappend(hp)\n",
      "File \u001b[0;32m/opt/conda/envs/graphnn/lib/python3.9/site-packages/pandas/core/frame.py:3505\u001b[0m, in \u001b[0;36mDataFrame.__getitem__\u001b[0;34m(self, key)\u001b[0m\n\u001b[1;32m   3503\u001b[0m \u001b[38;5;28;01mif\u001b[39;00m \u001b[38;5;28mself\u001b[39m\u001b[38;5;241m.\u001b[39mcolumns\u001b[38;5;241m.\u001b[39mnlevels \u001b[38;5;241m>\u001b[39m \u001b[38;5;241m1\u001b[39m:\n\u001b[1;32m   3504\u001b[0m     \u001b[38;5;28;01mreturn\u001b[39;00m \u001b[38;5;28mself\u001b[39m\u001b[38;5;241m.\u001b[39m_getitem_multilevel(key)\n\u001b[0;32m-> 3505\u001b[0m indexer \u001b[38;5;241m=\u001b[39m \u001b[38;5;28;43mself\u001b[39;49m\u001b[38;5;241;43m.\u001b[39;49m\u001b[43mcolumns\u001b[49m\u001b[38;5;241;43m.\u001b[39;49m\u001b[43mget_loc\u001b[49m\u001b[43m(\u001b[49m\u001b[43mkey\u001b[49m\u001b[43m)\u001b[49m\n\u001b[1;32m   3506\u001b[0m \u001b[38;5;28;01mif\u001b[39;00m is_integer(indexer):\n\u001b[1;32m   3507\u001b[0m     indexer \u001b[38;5;241m=\u001b[39m [indexer]\n",
      "File \u001b[0;32m/opt/conda/envs/graphnn/lib/python3.9/site-packages/pandas/core/indexes/base.py:3623\u001b[0m, in \u001b[0;36mIndex.get_loc\u001b[0;34m(self, key, method, tolerance)\u001b[0m\n\u001b[1;32m   3621\u001b[0m     \u001b[38;5;28;01mreturn\u001b[39;00m \u001b[38;5;28mself\u001b[39m\u001b[38;5;241m.\u001b[39m_engine\u001b[38;5;241m.\u001b[39mget_loc(casted_key)\n\u001b[1;32m   3622\u001b[0m \u001b[38;5;28;01mexcept\u001b[39;00m \u001b[38;5;167;01mKeyError\u001b[39;00m \u001b[38;5;28;01mas\u001b[39;00m err:\n\u001b[0;32m-> 3623\u001b[0m     \u001b[38;5;28;01mraise\u001b[39;00m \u001b[38;5;167;01mKeyError\u001b[39;00m(key) \u001b[38;5;28;01mfrom\u001b[39;00m \u001b[38;5;21;01merr\u001b[39;00m\n\u001b[1;32m   3624\u001b[0m \u001b[38;5;28;01mexcept\u001b[39;00m \u001b[38;5;167;01mTypeError\u001b[39;00m:\n\u001b[1;32m   3625\u001b[0m     \u001b[38;5;66;03m# If we have a listlike key, _check_indexing_error will raise\u001b[39;00m\n\u001b[1;32m   3626\u001b[0m     \u001b[38;5;66;03m#  InvalidIndexError. Otherwise we fall through and re-raise\u001b[39;00m\n\u001b[1;32m   3627\u001b[0m     \u001b[38;5;66;03m#  the TypeError.\u001b[39;00m\n\u001b[1;32m   3628\u001b[0m     \u001b[38;5;28mself\u001b[39m\u001b[38;5;241m.\u001b[39m_check_indexing_error(key)\n",
      "\u001b[0;31mKeyError\u001b[0m: 'test_aupr'"
     ]
    }
   ],
   "source": [
    "exp_results = []\n",
    "\n",
    "for edir in exp_dirs:\n",
    "    print(edir)\n",
    "    \n",
    "    hp = pd.read_json(edir + \"/hyperparameters.json\", typ=\"Series\").to_dict()\n",
    "    hp['maxTestAUPR'] = pd.read_csv(edir + \"/curves.csv\")['test_aupr'].max()\n",
    "    exp_results.append(hp)"
   ]
  },
  {
   "cell_type": "code",
   "execution_count": 48,
   "metadata": {},
   "outputs": [
    {
     "data": {
      "text/plain": [
       "[{'batch_size': 300,\n",
       "  'num_epochs': 50,\n",
       "  'emb_dim': 10,\n",
       "  'gnn_type': 'gatv2',\n",
       "  'num_layer': 5,\n",
       "  'graph_pooling': 'mean',\n",
       "  'input_embed_dim': None,\n",
       "  'gene_embed_dim': 1,\n",
       "  'num_attn_heads': 2,\n",
       "  'num_transformer_units': 1,\n",
       "  'p_dropout': 0.30000000000000004,\n",
       "  'mlp_embed_factor': 2,\n",
       "  'pooling_mode': 'attn',\n",
       "  'dist_opt': 'cosine',\n",
       "  'base_lr': 3.0000000000000004e-05,\n",
       "  'max_lr_mul': 30,\n",
       "  'l2_reg': 1e-07,\n",
       "  'loss_w': 1.0,\n",
       "  'margin_v': 1.0,\n",
       "  'expression_dim': 64,\n",
       "  'expression_input_size': 908,\n",
       "  'exp_H1': 800,\n",
       "  'exp_H2': 400,\n",
       "  'maxTestAUPR': 0.8088614304185091}]"
      ]
     },
     "execution_count": 48,
     "metadata": {},
     "output_type": "execute_result"
    }
   ],
   "source": [
    "exp_results"
   ]
  },
  {
   "cell_type": "code",
   "execution_count": 36,
   "metadata": {
    "scrolled": true
   },
   "outputs": [
    {
     "ename": "ExperimentValidationError",
     "evalue": "Not a single datapoint",
     "output_type": "error",
     "traceback": [
      "\u001b[0;31m---------------------------------------------------------------------------\u001b[0m",
      "\u001b[0;31mExperimentValidationError\u001b[0m                 Traceback (most recent call last)",
      "Input \u001b[0;32mIn [36]\u001b[0m, in \u001b[0;36m<cell line: 1>\u001b[0;34m()\u001b[0m\n\u001b[0;32m----> 1\u001b[0m \u001b[43mhip\u001b[49m\u001b[38;5;241;43m.\u001b[39;49m\u001b[43mExperiment\u001b[49m\u001b[38;5;241;43m.\u001b[39;49m\u001b[43mfrom_iterable\u001b[49m\u001b[43m(\u001b[49m\u001b[43mexp_results\u001b[49m\u001b[43m)\u001b[49m\u001b[38;5;241;43m.\u001b[39;49m\u001b[43mdisplay\u001b[49m\u001b[43m(\u001b[49m\u001b[43mforce_full_width\u001b[49m\u001b[38;5;241;43m=\u001b[39;49m\u001b[38;5;28;43;01mFalse\u001b[39;49;00m\u001b[43m)\u001b[49m\n",
      "File \u001b[0;32m/opt/conda/envs/graphnn/lib/python3.9/site-packages/hiplot/experiment.py:278\u001b[0m, in \u001b[0;36mExperiment.display\u001b[0;34m(self, force_full_width, store_state_key, **kwargs)\u001b[0m\n\u001b[1;32m    274\u001b[0m             \u001b[38;5;28;01mraise\u001b[39;00m \u001b[38;5;167;01mRuntimeError\u001b[39;00m(\u001b[38;5;124mr\u001b[39m\u001b[38;5;124m\"\"\"\u001b[39m\u001b[38;5;124m`display` can only be called on an ipython context. Are you in a notebook?\u001b[39m\n\u001b[1;32m    275\u001b[0m \u001b[38;5;124m- To render an experiment to HTML, use `experiment.to_html(file_name)` or `html_page = experiment.to_html()`\u001b[39m\n\u001b[1;32m    276\u001b[0m \u001b[38;5;124m- To render an experiment in Streamlit, use `experiment.display_st`\u001b[39m\u001b[38;5;124m\"\"\"\u001b[39m)\n\u001b[1;32m    277\u001b[0m         \u001b[38;5;28;01mfrom\u001b[39;00m \u001b[38;5;21;01m.\u001b[39;00m\u001b[38;5;21;01mipython\u001b[39;00m \u001b[38;5;28;01mimport\u001b[39;00m display_exp  \u001b[38;5;66;03m# pylint: disable=cyclic-import\u001b[39;00m\n\u001b[0;32m--> 278\u001b[0m         \u001b[38;5;28;43mself\u001b[39;49m\u001b[38;5;241;43m.\u001b[39;49m\u001b[43mvalidate\u001b[49m\u001b[43m(\u001b[49m\u001b[43m)\u001b[49m\n\u001b[1;32m    279\u001b[0m         \u001b[38;5;28;01mreturn\u001b[39;00m display_exp(\u001b[38;5;28mself\u001b[39m, force_full_width\u001b[38;5;241m=\u001b[39mforce_full_width, store_state_url\u001b[38;5;241m=\u001b[39mstore_state_key, \u001b[38;5;241m*\u001b[39m\u001b[38;5;241m*\u001b[39mkwargs)\n",
      "File \u001b[0;32m/opt/conda/envs/graphnn/lib/python3.9/site-packages/hiplot/experiment.py:253\u001b[0m, in \u001b[0;36mExperiment.validate\u001b[0;34m(self)\u001b[0m\n\u001b[1;32m    251\u001b[0m     p\u001b[38;5;241m.\u001b[39mvalidate()\n\u001b[1;32m    252\u001b[0m \u001b[38;5;28;01mif\u001b[39;00m \u001b[38;5;129;01mnot\u001b[39;00m \u001b[38;5;28mself\u001b[39m\u001b[38;5;241m.\u001b[39mdatapoints:\n\u001b[0;32m--> 253\u001b[0m     \u001b[38;5;28;01mraise\u001b[39;00m ExperimentValidationError(\u001b[38;5;124m'\u001b[39m\u001b[38;5;124mNot a single datapoint\u001b[39m\u001b[38;5;124m'\u001b[39m)\n\u001b[1;32m    254\u001b[0m validate_colormap(\u001b[38;5;28mself\u001b[39m\u001b[38;5;241m.\u001b[39mcolormap)\n\u001b[1;32m    255\u001b[0m \u001b[38;5;28;01mreturn\u001b[39;00m \u001b[38;5;28mself\u001b[39m\n",
      "\u001b[0;31mExperimentValidationError\u001b[0m: Not a single datapoint"
     ]
    }
   ],
   "source": [
    "hip.Experiment.from_iterable(exp_results).display(force_full_width=False)"
   ]
  },
  {
   "cell_type": "code",
   "execution_count": null,
   "metadata": {},
   "outputs": [],
   "source": []
  }
 ],
 "metadata": {
  "kernelspec": {
   "display_name": "Python 3 (ipykernel)",
   "language": "python",
   "name": "python3"
  },
  "language_info": {
   "codemirror_mode": {
    "name": "ipython",
    "version": 3
   },
   "file_extension": ".py",
   "mimetype": "text/x-python",
   "name": "python",
   "nbconvert_exporter": "python",
   "pygments_lexer": "ipython3",
   "version": "3.9.9"
  }
 },
 "nbformat": 4,
 "nbformat_minor": 4
}
