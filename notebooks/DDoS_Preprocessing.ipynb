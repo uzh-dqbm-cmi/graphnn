{
 "cells": [
  {
   "cell_type": "code",
   "execution_count": null,
   "metadata": {
    "scrolled": false
   },
   "outputs": [],
   "source": [
    "%load_ext autoreload\n",
    "%autoreload 2"
   ]
  },
  {
   "cell_type": "code",
   "execution_count": null,
   "metadata": {},
   "outputs": [],
   "source": [
    "import os\n",
    "import sys\n",
    "import numpy as np\n",
    "import pandas as pd\n",
    "import datetime\n",
    "import seaborn as sns\n",
    "import ogb\n",
    "import ast"
   ]
  },
  {
   "cell_type": "code",
   "execution_count": null,
   "metadata": {},
   "outputs": [],
   "source": [
    "pd.set_option('display.max_rows', 200)"
   ]
  },
  {
   "cell_type": "code",
   "execution_count": null,
   "metadata": {},
   "outputs": [],
   "source": [
    "import torch\n",
    "from torch_geometric.data import Data, DataLoader"
   ]
  },
  {
   "cell_type": "code",
   "execution_count": null,
   "metadata": {},
   "outputs": [],
   "source": [
    "cwd = os.getcwd()\n",
    "print(cwd)\n",
    "cwd_parent = os.path.abspath(os.path.join(cwd, os.pardir))\n",
    "# cwd_parent = os.path.abspath(os.path.join(cwd, '../../'))\n",
    "print(cwd_parent)\n",
    "\n",
    "sys.path.append(cwd_parent)"
   ]
  },
  {
   "cell_type": "code",
   "execution_count": null,
   "metadata": {},
   "outputs": [],
   "source": [
    "import deepadr\n",
    "from deepadr.dataset import *\n",
    "from deepadr.utilities import *\n",
    "from deepadr.chemfeatures import *\n",
    "from deepadr.train_functions_flat import *\n",
    "from deepadr.model_gnn_ogb import GNN, DeepAdr_SiameseTrf, ExpressionNN\n",
    "from ogb.graphproppred import Evaluator"
   ]
  },
  {
   "cell_type": "code",
   "execution_count": null,
   "metadata": {},
   "outputs": [],
   "source": [
    "from rdkit.Chem.Draw import IPythonConsole\n",
    "from rdkit.Chem import Draw"
   ]
  },
  {
   "cell_type": "code",
   "execution_count": null,
   "metadata": {},
   "outputs": [],
   "source": [
    "rawdata_dir = '../data/raw/'\n",
    "processed_dir = '../data/processed/'\n",
    "up_dir = '..'"
   ]
  },
  {
   "cell_type": "code",
   "execution_count": null,
   "metadata": {
    "scrolled": true
   },
   "outputs": [],
   "source": [
    "report_available_cuda_devices()"
   ]
  },
  {
   "cell_type": "code",
   "execution_count": null,
   "metadata": {},
   "outputs": [],
   "source": [
    "n_gpu = torch.cuda.device_count()\n",
    "n_gpu"
   ]
  },
  {
   "cell_type": "code",
   "execution_count": null,
   "metadata": {},
   "outputs": [],
   "source": [
    "fdtype = torch.float32"
   ]
  },
  {
   "cell_type": "code",
   "execution_count": null,
   "metadata": {},
   "outputs": [],
   "source": [
    "print(\"torch:\", torch.__version__)\n",
    "print(\"CUDA:\", torch.version.cuda)"
   ]
  },
  {
   "cell_type": "markdown",
   "metadata": {},
   "source": [
    "### COSMIC ids"
   ]
  },
  {
   "cell_type": "code",
   "execution_count": null,
   "metadata": {},
   "outputs": [],
   "source": [
    "df_cellosaurus = pd.read_csv('../data/preprocessing/cellosaurus_cosmic_ids.txt', sep=',', header=None).dropna()\n",
    "df_cellosaurus"
   ]
  },
  {
   "cell_type": "code",
   "execution_count": null,
   "metadata": {},
   "outputs": [],
   "source": [
    "dict_cellosaurus = dict(zip(df_cellosaurus[0], df_cellosaurus[1]))\n",
    "dict_cellosaurus"
   ]
  },
  {
   "cell_type": "markdown",
   "metadata": {},
   "source": [
    "### DrugComb - v1.5"
   ]
  },
  {
   "cell_type": "code",
   "execution_count": null,
   "metadata": {},
   "outputs": [],
   "source": [
    "df_drugcomb_drugs = pd.read_json('../data/preprocessing/drugs.json')\n",
    "df_drugcomb_drugs"
   ]
  },
  {
   "cell_type": "code",
   "execution_count": null,
   "metadata": {},
   "outputs": [],
   "source": [
    "dict_smiles = dict(zip(df_drugcomb_drugs.dname, df_drugcomb_drugs.smiles))\n",
    "dict_smiles"
   ]
  },
  {
   "cell_type": "code",
   "execution_count": null,
   "metadata": {},
   "outputs": [],
   "source": [
    "df_drugcomb = pd.read_csv('../data/preprocessing/summary_v_1_5.csv')\n",
    "df_drugcomb"
   ]
  },
  {
   "cell_type": "code",
   "execution_count": null,
   "metadata": {},
   "outputs": [],
   "source": [
    "len(df_drugcomb.study_name.value_counts())"
   ]
  },
  {
   "cell_type": "code",
   "execution_count": null,
   "metadata": {
    "scrolled": true
   },
   "outputs": [],
   "source": [
    "df_drugcomb.columns"
   ]
  },
  {
   "cell_type": "code",
   "execution_count": null,
   "metadata": {
    "scrolled": true
   },
   "outputs": [],
   "source": [
    "len(set(df_drugcomb['cell_line_name']).intersection(set(dict_cellosaurus.keys())))"
   ]
  },
  {
   "cell_type": "code",
   "execution_count": null,
   "metadata": {},
   "outputs": [],
   "source": [
    "df_drugcomb[\"cosmicId\"] = [dict_cellosaurus[cell] if cell in dict_cellosaurus.keys() else float('nan') for cell in df_drugcomb['cell_line_name']]\n",
    "df_drugcomb"
   ]
  },
  {
   "cell_type": "code",
   "execution_count": null,
   "metadata": {},
   "outputs": [],
   "source": [
    "df_drugcomb = df_drugcomb.replace({'\\\\N':float('nan')}).astype({\"synergy_loewe\": float}).dropna(subset=[\n",
    "    'drug_row', 'drug_col', 'cell_line_name', 'synergy_zip', 'synergy_loewe', 'synergy_hsa', 'synergy_bliss', 'cosmicId'\n",
    "])\n",
    "df_drugcomb = df_drugcomb.astype({\"cosmicId\": int})\n",
    "df_drugcomb"
   ]
  },
  {
   "cell_type": "code",
   "execution_count": null,
   "metadata": {},
   "outputs": [],
   "source": [
    "# # According to guidelines: https://synergyfinder.fimm.fi/synergy/synfin_docs/#datanal\n",
    "\n",
    "def synergy_threshold(val):\n",
    "    res = 0\n",
    "    if (val >= 10.0):\n",
    "        res = 1\n",
    "    if (val <= -10.0):\n",
    "        res = -1\n",
    "    return res"
   ]
  },
  {
   "cell_type": "code",
   "execution_count": null,
   "metadata": {},
   "outputs": [],
   "source": [
    "df_drugcomb[\"drug_row_smiles\"] = [dict_smiles[drug] for drug in df_drugcomb.drug_row]\n",
    "df_drugcomb[\"drug_col_smiles\"] = [dict_smiles[drug] for drug in df_drugcomb.drug_col]"
   ]
  },
  {
   "cell_type": "code",
   "execution_count": null,
   "metadata": {},
   "outputs": [],
   "source": [
    "null_smiles = df_drugcomb[(df_drugcomb.drug_row_smiles == \"NULL\") | (df_drugcomb.drug_col_smiles == \"NULL\")].index\n",
    "df_drugcomb = df_drugcomb.drop(index=null_smiles)"
   ]
  },
  {
   "cell_type": "code",
   "execution_count": null,
   "metadata": {},
   "outputs": [],
   "source": [
    "df_drugcomb[\"loewe_thresh\"] = [synergy_threshold(val) for val in df_drugcomb.synergy_loewe] \n",
    "df_drugcomb[\"zip_thresh\"] = [synergy_threshold(val) for val in df_drugcomb.synergy_zip] \n",
    "df_drugcomb[\"hsa_thresh\"] = [synergy_threshold(val) for val in df_drugcomb.synergy_hsa] \n",
    "df_drugcomb[\"bliss_thresh\"] = [synergy_threshold(val) for val in df_drugcomb.synergy_bliss] \n",
    "df_drugcomb[\"total_thresh\"] = df_drugcomb[[\"loewe_thresh\", \"zip_thresh\", \"hsa_thresh\", \"bliss_thresh\"]].sum(axis=1) \n",
    "df_drugcomb"
   ]
  },
  {
   "cell_type": "code",
   "execution_count": null,
   "metadata": {},
   "outputs": [],
   "source": []
  },
  {
   "cell_type": "markdown",
   "metadata": {},
   "source": [
    "### Chose score"
   ]
  },
  {
   "cell_type": "code",
   "execution_count": null,
   "metadata": {},
   "outputs": [],
   "source": [
    "# options: \n",
    "# 'total_thresh' + 4,3,2\n",
    "# 'loewe_thresh', 'hsa_thresh', 'bliss_thresh', 'zip_thresh' + 1"
   ]
  },
  {
   "cell_type": "code",
   "execution_count": null,
   "metadata": {},
   "outputs": [],
   "source": [
    "score = 'loewe_thresh'\n",
    "score_val = 1"
   ]
  },
  {
   "cell_type": "code",
   "execution_count": null,
   "metadata": {},
   "outputs": [],
   "source": [
    "df_drugcomb_filter = df_drugcomb[df_drugcomb[score].abs() >= score_val].copy()\n",
    "df_drugcomb_filter['Y'] = [1 if val >= score_val else 0 for val in df_drugcomb_filter[score]]\n",
    "df_drugcomb_filter"
   ]
  },
  {
   "cell_type": "code",
   "execution_count": null,
   "metadata": {},
   "outputs": [],
   "source": []
  },
  {
   "cell_type": "markdown",
   "metadata": {},
   "source": [
    "### Drop duplicates"
   ]
  },
  {
   "cell_type": "code",
   "execution_count": null,
   "metadata": {},
   "outputs": [],
   "source": [
    "dup_to_drop = []"
   ]
  },
  {
   "cell_type": "code",
   "execution_count": null,
   "metadata": {},
   "outputs": [],
   "source": [
    "df_drugcomb_filter_dedup = df_drugcomb_filter.copy()\n",
    "cols = ['drug_row', 'drug_col', \"cell_line_name\"]\n",
    "df_drugcomb_filter_dedup[cols] = np.sort(df_drugcomb_filter_dedup[cols].values, axis=1)\n",
    "dup = df_drugcomb_filter_dedup.duplicated(subset=cols, keep=False)"
   ]
  },
  {
   "cell_type": "code",
   "execution_count": null,
   "metadata": {},
   "outputs": [],
   "source": [
    "dup_score = df_drugcomb_filter_dedup[dup][cols+['Y']]\n",
    "dup_val = dup_score.duplicated(keep=False)\n",
    "print(dup_val.value_counts())\n",
    "dup_val_true = df_drugcomb_filter_dedup[dup][cols+['Y']][dup_val] # same triplets and class\n",
    "dup_val_false = df_drugcomb_filter_dedup[dup][cols+['Y']][~dup_val] # same triplets, other class"
   ]
  },
  {
   "cell_type": "code",
   "execution_count": null,
   "metadata": {},
   "outputs": [],
   "source": [
    "dup_val_true.duplicated(keep=\"first\").value_counts()"
   ]
  },
  {
   "cell_type": "code",
   "execution_count": null,
   "metadata": {
    "scrolled": true
   },
   "outputs": [],
   "source": [
    "dup_to_drop += list(dup_val_true[dup_val_true.duplicated(keep=\"first\")].index)"
   ]
  },
  {
   "cell_type": "code",
   "execution_count": null,
   "metadata": {},
   "outputs": [],
   "source": [
    "dup2 = pd.concat([dup_val_false, dup_val_true[~dup_val_true.duplicated(keep=\"first\")]], axis=0)\n",
    "dup2_val = dup2.duplicated(subset=(cols), keep=False)#.value_counts()\n",
    "dup_to_drop += list(dup2[dup2_val].sort_values(cols).index)"
   ]
  },
  {
   "cell_type": "code",
   "execution_count": null,
   "metadata": {},
   "outputs": [],
   "source": [
    "len(dup_to_drop)"
   ]
  },
  {
   "cell_type": "code",
   "execution_count": null,
   "metadata": {},
   "outputs": [],
   "source": [
    "df_drugcomb_filter = df_drugcomb_filter.drop(index=dup_to_drop)\n",
    "df_drugcomb_filter"
   ]
  },
  {
   "cell_type": "markdown",
   "metadata": {},
   "source": [
    "### RMA"
   ]
  },
  {
   "cell_type": "code",
   "execution_count": null,
   "metadata": {},
   "outputs": [],
   "source": [
    "df_l1000 = pd.read_csv('../data/preprocessing/L1000genes.txt', sep='\\t')\n",
    "df_l1000"
   ]
  },
  {
   "cell_type": "code",
   "execution_count": null,
   "metadata": {},
   "outputs": [],
   "source": [
    "df_l1000_lm = df_l1000[df_l1000.Type == \"landmark\"]\n",
    "lm_genes = list(df_l1000_lm.Symbol)\n",
    "len(lm_genes)"
   ]
  },
  {
   "cell_type": "code",
   "execution_count": null,
   "metadata": {
    "scrolled": true
   },
   "outputs": [],
   "source": [
    "df_rma = pd.read_csv('../data/preprocessing/Cell_line_RMA_proc_basalExp.txt', sep='\\t')\n",
    "df_rma"
   ]
  },
  {
   "cell_type": "code",
   "execution_count": null,
   "metadata": {},
   "outputs": [],
   "source": [
    "cosmic_found = set(df_drugcomb_filter.cosmicId)\n",
    "len(cosmic_found)"
   ]
  },
  {
   "cell_type": "code",
   "execution_count": null,
   "metadata": {},
   "outputs": [],
   "source": [
    "cosmic_intersect = list(set([\"DATA.\"+str(c) for c in cosmic_found]).intersection(set(df_rma.columns)))\n",
    "len(cosmic_intersect)"
   ]
  },
  {
   "cell_type": "code",
   "execution_count": null,
   "metadata": {},
   "outputs": [],
   "source": [
    "df_drugcomb_filter = df_drugcomb_filter[df_drugcomb_filter.cosmicId.isin([int(c[len(\"DATA.\"):]) for c in cosmic_intersect])]\n",
    "# df_drugcomb_filter"
   ]
  },
  {
   "cell_type": "code",
   "execution_count": null,
   "metadata": {
    "scrolled": true
   },
   "outputs": [],
   "source": [
    "df_drugcomb_filter.columns"
   ]
  },
  {
   "cell_type": "code",
   "execution_count": null,
   "metadata": {
    "scrolled": false
   },
   "outputs": [],
   "source": [
    "df_drugcomb_filter = df_drugcomb_filter.rename(columns={\"drug_row\" : \"Drug1_ID\",\n",
    "                                                            \"drug_col\" : \"Drug2_ID\",\n",
    "                                                            \"cosmicId\" : \"Cosmic_ID\",\n",
    "                                                            \"cell_line_name\": \"Cell_Line_ID\",\n",
    "                                                       \"drug_row_smiles\": \"Drug1\",\n",
    "                                                       \"drug_col_smiles\": \"Drug2\"})\n",
    "\n",
    "df_drugcomb_filter"
   ]
  },
  {
   "cell_type": "code",
   "execution_count": null,
   "metadata": {
    "scrolled": true
   },
   "outputs": [],
   "source": [
    "df_drugcomb_filter['Y'].value_counts()"
   ]
  },
  {
   "cell_type": "code",
   "execution_count": null,
   "metadata": {
    "scrolled": true
   },
   "outputs": [],
   "source": [
    "len(set(list(df_drugcomb_filter['Drug1_ID']) + list(df_drugcomb_filter['Drug2_ID'])))"
   ]
  },
  {
   "cell_type": "code",
   "execution_count": null,
   "metadata": {},
   "outputs": [],
   "source": [
    "len(set(df_drugcomb_filter['Cell_Line_ID']))"
   ]
  },
  {
   "cell_type": "markdown",
   "metadata": {},
   "source": [
    "### Gene Expression"
   ]
  },
  {
   "cell_type": "code",
   "execution_count": null,
   "metadata": {},
   "outputs": [],
   "source": [
    "df_rma_landm = df_rma[df_rma.GENE_SYMBOLS.isin(lm_genes)]\n",
    "df_rma_landm"
   ]
  },
  {
   "cell_type": "code",
   "execution_count": null,
   "metadata": {},
   "outputs": [],
   "source": [
    "gene_gex = pd.DataFrame(df_rma_landm[\"GENE_SYMBOLS\"].copy())\n",
    "gene_gex[\"GEX\"] = [\"gex\" + str(i) for i in range(len(gene_gex))]\n",
    "gene_gex"
   ]
  },
  {
   "cell_type": "code",
   "execution_count": null,
   "metadata": {},
   "outputs": [],
   "source": [
    "# gene_gex.to_csv('../data/preprocessing/gene_gex.tsv', sep='\\t', index=False)"
   ]
  },
  {
   "cell_type": "code",
   "execution_count": null,
   "metadata": {},
   "outputs": [],
   "source": [
    "# df_rma_landm.to_csv('../data/preprocessing/df_rma_landm.tsv', sep='\\t')"
   ]
  },
  {
   "cell_type": "code",
   "execution_count": null,
   "metadata": {
    "scrolled": true
   },
   "outputs": [],
   "source": [
    "df_drugcomb_filter.Cell_Line_ID.value_counts()"
   ]
  },
  {
   "cell_type": "code",
   "execution_count": null,
   "metadata": {},
   "outputs": [],
   "source": [
    "col_sel = ['Drug1_ID', 'Drug2_ID', 'Cell_Line_ID', 'Cosmic_ID', 'Drug1','Drug2', 'Y']"
   ]
  },
  {
   "cell_type": "code",
   "execution_count": null,
   "metadata": {},
   "outputs": [],
   "source": [
    "df_drugcomb_filter[col_sel].to_csv(f'../data/preprocessing/drugcomb_{score}_{score_val}.csv', index=False)"
   ]
  },
  {
   "cell_type": "code",
   "execution_count": null,
   "metadata": {},
   "outputs": [],
   "source": []
  },
  {
   "cell_type": "code",
   "execution_count": null,
   "metadata": {},
   "outputs": [],
   "source": []
  },
  {
   "cell_type": "markdown",
   "metadata": {},
   "source": [
    "### Positive labels percentage"
   ]
  },
  {
   "cell_type": "code",
   "execution_count": null,
   "metadata": {},
   "outputs": [],
   "source": [
    "posneg = df_drugcomb_filter.Y.value_counts()\n",
    "posneg"
   ]
  },
  {
   "cell_type": "code",
   "execution_count": null,
   "metadata": {},
   "outputs": [],
   "source": [
    "pospercent = round(posneg[1] * 100 / (posneg[1] + posneg[0]), 1)\n",
    "pospercent"
   ]
  },
  {
   "cell_type": "code",
   "execution_count": null,
   "metadata": {},
   "outputs": [],
   "source": [
    "print(f'{score} ({score_val}): {pospercent}%')"
   ]
  },
  {
   "cell_type": "code",
   "execution_count": null,
   "metadata": {},
   "outputs": [],
   "source": []
  }
 ],
 "metadata": {
  "kernelspec": {
   "display_name": "Python 3 (ipykernel)",
   "language": "python",
   "name": "python3"
  },
  "language_info": {
   "codemirror_mode": {
    "name": "ipython",
    "version": 3
   },
   "file_extension": ".py",
   "mimetype": "text/x-python",
   "name": "python",
   "nbconvert_exporter": "python",
   "pygments_lexer": "ipython3",
   "version": "3.8.10"
  }
 },
 "nbformat": 4,
 "nbformat_minor": 4
}
