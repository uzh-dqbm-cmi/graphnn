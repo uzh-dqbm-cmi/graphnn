{
 "cells": [
  {
   "cell_type": "code",
   "execution_count": 1,
   "metadata": {},
   "outputs": [],
   "source": [
    "%load_ext autoreload\n",
    "%autoreload 2"
   ]
  },
  {
   "cell_type": "code",
   "execution_count": 2,
   "metadata": {},
   "outputs": [
    {
     "data": {
      "text/plain": [
       "'/cluster/home/skyriakos/pyg_env/bin/python'"
      ]
     },
     "execution_count": 2,
     "metadata": {},
     "output_type": "execute_result"
    }
   ],
   "source": [
    "import sys\n",
    "sys.executable"
   ]
  },
  {
   "cell_type": "code",
   "execution_count": 3,
   "metadata": {},
   "outputs": [
    {
     "name": "stdout",
     "output_type": "stream",
     "text": [
      "/cluster/home/skyriakos/pyg_env/bin/python\r\n"
     ]
    }
   ],
   "source": [
    "!which python"
   ]
  },
  {
   "cell_type": "code",
   "execution_count": 4,
   "metadata": {},
   "outputs": [],
   "source": [
    "import os\n",
    "import sys\n",
    "import numpy as np\n",
    "import pandas as pd\n",
    "import datetime\n",
    "import seaborn as sns\n",
    "import ogb\n",
    "from tqdm import tqdm\n",
    "import hiplot as hip\n",
    "from copy import deepcopy\n",
    "import datetime"
   ]
  },
  {
   "cell_type": "code",
   "execution_count": 5,
   "metadata": {},
   "outputs": [
    {
     "name": "stdout",
     "output_type": "stream",
     "text": [
      "torch.__version__='1.11.0+cu115'\n",
      "torch.__file__='/usr/local/lib/python3.8/dist-packages/torch/__init__.py'\n",
      "torch.cuda.device_count()=5\n",
      "torch.cuda.is_available()=True\n",
      "torch.version.cuda='11.5'\n"
     ]
    }
   ],
   "source": [
    "import torch\n",
    "\n",
    "print(f\"{torch.__version__=}\")\n",
    "print(f\"{torch.__file__=}\")\n",
    "print(f\"{torch.cuda.device_count()=}\")\n",
    "print(f\"{torch.cuda.is_available()=}\")\n",
    "print(f\"{torch.version.cuda=}\")"
   ]
  },
  {
   "cell_type": "code",
   "execution_count": 6,
   "metadata": {},
   "outputs": [],
   "source": [
    "import torch\n",
    "from torch_geometric.data import Data\n",
    "from torch_geometric.loader import DataLoader\n",
    "from torch.utils.data import Subset, TensorDataset"
   ]
  },
  {
   "cell_type": "code",
   "execution_count": 7,
   "metadata": {},
   "outputs": [
    {
     "name": "stdout",
     "output_type": "stream",
     "text": [
      "/cluster/work/medinfmk/lm1-homes/skyriakos-lm1-home/data_to_migrate/chemprop_run/git/notebooks\n",
      "/cluster/work/medinfmk/lm1-homes/skyriakos-lm1-home/data_to_migrate/chemprop_run/git\n"
     ]
    }
   ],
   "source": [
    "cwd = os.getcwd()\n",
    "print(cwd)\n",
    "cwd_parent = os.path.abspath(os.path.join(cwd, os.pardir))\n",
    "print(cwd_parent)\n",
    "\n",
    "sys.path.append(cwd_parent)"
   ]
  },
  {
   "cell_type": "code",
   "execution_count": 8,
   "metadata": {},
   "outputs": [],
   "source": [
    "import deepadr\n",
    "from deepadr.dataset import *\n",
    "from deepadr.utilities import *\n",
    "from deepadr.run_workflow import *\n",
    "from deepadr.chemfeatures import *\n",
    "from deepadr.hyphelperv2 import *\n",
    "from deepadr.model_gnn_ogb import GNN, DeepAdr_SiameseTrf, ExpressionNN\n",
    "# from ogb.graphproppred import Evaluator"
   ]
  },
  {
   "cell_type": "code",
   "execution_count": 9,
   "metadata": {},
   "outputs": [],
   "source": [
    "from rdkit.Chem.Draw import IPythonConsole\n",
    "from rdkit.Chem import Draw"
   ]
  },
  {
   "cell_type": "code",
   "execution_count": 10,
   "metadata": {},
   "outputs": [],
   "source": [
    "rawdata_dir = '../data/raw/'\n",
    "processed_dir = '../data/processed/'\n",
    "up_dir = '..'"
   ]
  },
  {
   "cell_type": "code",
   "execution_count": 11,
   "metadata": {},
   "outputs": [
    {
     "name": "stdout",
     "output_type": "stream",
     "text": [
      "number of GPUs available: 5\n",
      "cuda:0, name:NVIDIA GeForce GTX 1080 Ti\n",
      "total memory available: 10.91656494140625 GB\n",
      "total memory allocated on device: 0.0 GB\n",
      "max memory allocated on device: 0.0 GB\n",
      "total memory cached on device: 0.0 GB\n",
      "max memory cached  on device: 0.0 GB\n",
      "\n",
      "cuda:1, name:NVIDIA GeForce GTX 1080 Ti\n",
      "total memory available: 10.91656494140625 GB\n",
      "total memory allocated on device: 0.0 GB\n",
      "max memory allocated on device: 0.0 GB\n",
      "total memory cached on device: 0.0 GB\n",
      "max memory cached  on device: 0.0 GB\n",
      "\n",
      "cuda:2, name:NVIDIA GeForce GTX 1080 Ti\n",
      "total memory available: 10.91656494140625 GB\n",
      "total memory allocated on device: 0.0 GB\n",
      "max memory allocated on device: 0.0 GB\n",
      "total memory cached on device: 0.0 GB\n",
      "max memory cached  on device: 0.0 GB\n",
      "\n",
      "cuda:3, name:NVIDIA GeForce GTX 1080 Ti\n",
      "total memory available: 10.91656494140625 GB\n",
      "total memory allocated on device: 0.0 GB\n",
      "max memory allocated on device: 0.0 GB\n",
      "total memory cached on device: 0.0 GB\n",
      "max memory cached  on device: 0.0 GB\n",
      "\n",
      "cuda:4, name:NVIDIA GeForce GTX 1080 Ti\n",
      "total memory available: 10.91656494140625 GB\n",
      "total memory allocated on device: 0.0 GB\n",
      "max memory allocated on device: 0.0 GB\n",
      "total memory cached on device: 0.0 GB\n",
      "max memory cached  on device: 0.0 GB\n",
      "\n"
     ]
    }
   ],
   "source": [
    "report_available_cuda_devices()"
   ]
  },
  {
   "cell_type": "code",
   "execution_count": 12,
   "metadata": {},
   "outputs": [
    {
     "data": {
      "text/plain": [
       "5"
      ]
     },
     "execution_count": 12,
     "metadata": {},
     "output_type": "execute_result"
    }
   ],
   "source": [
    "n_gpu = torch.cuda.device_count()\n",
    "# n_gpu = 1\n",
    "n_gpu"
   ]
  },
  {
   "cell_type": "code",
   "execution_count": 13,
   "metadata": {},
   "outputs": [],
   "source": [
    "device_cpu = get_device(to_gpu=False)\n",
    "# device_gpu = get_device(True, index=0)\n",
    "\n",
    "# fdtype = torch.float32"
   ]
  },
  {
   "cell_type": "code",
   "execution_count": 14,
   "metadata": {},
   "outputs": [
    {
     "name": "stdout",
     "output_type": "stream",
     "text": [
      "torch: 1.11.0+cu115\n",
      "CUDA: 11.5\n",
      "3.8.10 (default, Jun 22 2022, 20:18:18) \n",
      "[GCC 9.4.0]\n"
     ]
    }
   ],
   "source": [
    "print(\"torch:\", torch.__version__)\n",
    "print(\"CUDA:\", torch.version.cuda)\n",
    "print(sys.version)"
   ]
  },
  {
   "cell_type": "markdown",
   "metadata": {},
   "source": [
    "### Preparing dataset "
   ]
  },
  {
   "cell_type": "code",
   "execution_count": 15,
   "metadata": {},
   "outputs": [],
   "source": [
    "# options: \n",
    "# 'total_thresh' + 4,3,2\n",
    "# 'loewe_thresh', 'hsa_thresh', 'bliss_thresh', 'zip_thresh' + 1\n",
    "\n",
    "score = 'total_thresh'\n",
    "score_val = 4"
   ]
  },
  {
   "cell_type": "code",
   "execution_count": 16,
   "metadata": {},
   "outputs": [],
   "source": [
    "DSdataset_name = f'DrugComb_{score}_{score_val}'\n",
    "\n",
    "data_fname = 'data_v1' # v2 for baseline models"
   ]
  },
  {
   "cell_type": "code",
   "execution_count": 17,
   "metadata": {},
   "outputs": [
    {
     "name": "stdout",
     "output_type": "stream",
     "text": [
      "path_current_dir /cluster/work/medinfmk/lm1-homes/skyriakos-lm1-home/data_to_migrate/chemprop_run/git/deepadr\n",
      "path_current_dir /cluster/work/medinfmk/lm1-homes/skyriakos-lm1-home/data_to_migrate/chemprop_run/git/deepadr\n",
      "path_current_dir /cluster/work/medinfmk/lm1-homes/skyriakos-lm1-home/data_to_migrate/chemprop_run/git/deepadr\n",
      "path_current_dir /cluster/work/medinfmk/lm1-homes/skyriakos-lm1-home/data_to_migrate/chemprop_run/git/deepadr\n",
      "/cluster/work/medinfmk/lm1-homes/skyriakos-lm1-home/data_to_migrate/chemprop_run/git/data/processed/DrugComb_total_thresh_4/data_v1\n"
     ]
    }
   ],
   "source": [
    "targetdata_dir = create_directory(os.path.join(processed_dir, DSdataset_name, data_fname))\n",
    "targetdata_dir_raw = create_directory(os.path.join(targetdata_dir, \"raw\"))\n",
    "targetdata_dir_processed = create_directory(os.path.join(targetdata_dir, \"processed\"))\n",
    "targetdata_dir_exp = create_directory(os.path.join(targetdata_dir, \"experiments\"))\n",
    "# # ReaderWriter.dump_data(dpartitions, os.path.join(targetdata_dir, 'data_partitions.pkl'))\n",
    "print(targetdata_dir)"
   ]
  },
  {
   "cell_type": "code",
   "execution_count": 18,
   "metadata": {},
   "outputs": [
    {
     "name": "stdout",
     "output_type": "stream",
     "text": [
      "CPU times: user 7.28 ms, sys: 214 ms, total: 221 ms\n",
      "Wall time: 234 ms\n"
     ]
    }
   ],
   "source": [
    "%%time\n",
    "\n",
    "# Make sure to first run the \"DDoS_Dataset_Generation\" notebook first\n",
    "\n",
    "dataset = MoleculeDataset(root=targetdata_dir)"
   ]
  },
  {
   "cell_type": "code",
   "execution_count": 19,
   "metadata": {},
   "outputs": [],
   "source": [
    "# print()\n",
    "# print(f'Dataset: {dataset}:')\n",
    "# print('====================')\n",
    "# print(f'Number of graphs: {len(dataset)}')\n",
    "# print(f'Number of features: {dataset.num_features}')\n",
    "# print(f'Number of classes: {dataset.num_classes}')"
   ]
  },
  {
   "cell_type": "code",
   "execution_count": 20,
   "metadata": {},
   "outputs": [],
   "source": [
    "# data0 = dataset[0]  # Get the first graph object.\n",
    "# data0"
   ]
  },
  {
   "cell_type": "code",
   "execution_count": 21,
   "metadata": {},
   "outputs": [],
   "source": [
    "used_dataset = dataset\n",
    "\n",
    "# If you want to use a smaller subset of the dataset for testing\n",
    "# smaller_dataset_len = int(len(dataset)/1)\n",
    "# used_dataset = dataset[:smaller_dataset_len]"
   ]
  },
  {
   "cell_type": "code",
   "execution_count": 22,
   "metadata": {},
   "outputs": [
    {
     "data": {
      "text/plain": [
       "deepadr.dataset.MoleculeDataset"
      ]
     },
     "execution_count": 22,
     "metadata": {},
     "output_type": "execute_result"
    }
   ],
   "source": [
    "type(used_dataset)"
   ]
  },
  {
   "cell_type": "code",
   "execution_count": 23,
   "metadata": {},
   "outputs": [
    {
     "data": {
      "text/plain": [
       "tensor([0, 0, 0,  ..., 0, 1, 1], dtype=torch.int32)"
      ]
     },
     "execution_count": 23,
     "metadata": {},
     "output_type": "execute_result"
    }
   ],
   "source": [
    "dataset.data.y"
   ]
  },
  {
   "cell_type": "code",
   "execution_count": 24,
   "metadata": {},
   "outputs": [
    {
     "name": "stdout",
     "output_type": "stream",
     "text": [
      "fold_num: 0\n",
      "train data\n",
      "class: 0 norm count: 0.5764128559102675\n",
      "class: 1 norm count: 0.4235871440897325\n",
      "validation data\n",
      "class: 0 norm count: 0.5764192139737991\n",
      "class: 1 norm count: 0.42358078602620086\n",
      "test data\n",
      "class: 0 norm count: 0.5764751552795031\n",
      "class: 1 norm count: 0.4235248447204969\n",
      "\n",
      "-------------------------\n",
      "fold_num: 1\n",
      "train data\n",
      "class: 0 norm count: 0.5764128559102675\n",
      "class: 1 norm count: 0.4235871440897325\n",
      "validation data\n",
      "class: 0 norm count: 0.5764192139737991\n",
      "class: 1 norm count: 0.42358078602620086\n",
      "test data\n",
      "class: 0 norm count: 0.5764751552795031\n",
      "class: 1 norm count: 0.4235248447204969\n",
      "\n",
      "-------------------------\n",
      "fold_num: 2\n",
      "train data\n",
      "class: 0 norm count: 0.5764356969533567\n",
      "class: 1 norm count: 0.4235643030466433\n",
      "validation data\n",
      "class: 0 norm count: 0.5764192139737991\n",
      "class: 1 norm count: 0.42358078602620086\n",
      "test data\n",
      "class: 0 norm count: 0.5763929334109882\n",
      "class: 1 norm count: 0.4236070665890118\n",
      "\n",
      "-------------------------\n",
      "fold_num: 3\n",
      "train data\n",
      "class: 0 norm count: 0.5764356969533567\n",
      "class: 1 norm count: 0.4235643030466433\n",
      "validation data\n",
      "class: 0 norm count: 0.5764192139737991\n",
      "class: 1 norm count: 0.42358078602620086\n",
      "test data\n",
      "class: 0 norm count: 0.5763929334109882\n",
      "class: 1 norm count: 0.4236070665890118\n",
      "\n",
      "-------------------------\n",
      "fold_num: 4\n",
      "train data\n",
      "class: 0 norm count: 0.5764356969533567\n",
      "class: 1 norm count: 0.4235643030466433\n",
      "validation data\n",
      "class: 0 norm count: 0.5764192139737991\n",
      "class: 1 norm count: 0.42358078602620086\n",
      "test data\n",
      "class: 0 norm count: 0.5763929334109882\n",
      "class: 1 norm count: 0.4236070665890118\n",
      "\n",
      "-------------------------\n"
     ]
    }
   ],
   "source": [
    "fold_partitions = get_stratified_partitions(dataset.data.y,\n",
    "                                            num_folds=5,\n",
    "                                            valid_set_portion=0.1,\n",
    "                                            random_state=42)"
   ]
  },
  {
   "cell_type": "code",
   "execution_count": 25,
   "metadata": {},
   "outputs": [
    {
     "name": "stdout",
     "output_type": "stream",
     "text": [
      "Number of training graphs: 18544\n",
      "Number of validation graphs: 2061\n",
      "Number of testing graphs: 5152\n"
     ]
    }
   ],
   "source": [
    "print(\"Number of training graphs: \"+ str(len(fold_partitions[0]['train'])))\n",
    "print(\"Number of validation graphs: \"+ str(len(fold_partitions[0]['validation'])))\n",
    "print(\"Number of testing graphs: \"+ str(len(fold_partitions[0]['test'])))"
   ]
  },
  {
   "cell_type": "code",
   "execution_count": 26,
   "metadata": {},
   "outputs": [],
   "source": [
    "# print(dataset.num_classes)"
   ]
  },
  {
   "cell_type": "code",
   "execution_count": 27,
   "metadata": {},
   "outputs": [],
   "source": [
    "# training params total_thresh 4\n",
    "tp = {\n",
    "    \"batch_size\" : 300,\n",
    "    \"num_epochs\" : 5,\n",
    "    \n",
    "    \"emb_dim\" : 100,\n",
    "    \"gnn_type\" : \"gatv2\",\n",
    "    \"num_layer\" : 5,\n",
    "    \"graph_pooling\" : \"mean\", #attention\n",
    "    \n",
    "    \"input_embed_dim\" : None,\n",
    "    \"gene_embed_dim\": 1,\n",
    "    \"num_attn_heads\" : 2,\n",
    "    \"num_transformer_units\" : 1,\n",
    "    \"p_dropout\" : 0.3,\n",
    "#     \"nonlin_func\" : nn.ReLU(),\n",
    "    \"mlp_embed_factor\" : 2,\n",
    "    \"pooling_mode\" : 'attn',\n",
    "    \"dist_opt\" : 'cosine',\n",
    "\n",
    "    \"base_lr\" : 3e-4, #3e-4\n",
    "    \"max_lr_mul\": 10,\n",
    "    \"l2_reg\" : 1e-7,\n",
    "    \"loss_w\" : 1.,\n",
    "    \"margin_v\" : 1.,\n",
    "\n",
    "    \"expression_dim\" : 64,\n",
    "    \"expression_input_size\" : 908,\n",
    "    \"exp_H1\" : 4096,\n",
    "    \"exp_H2\" : 1024\n",
    "}"
   ]
  },
  {
   "cell_type": "code",
   "execution_count": 28,
   "metadata": {},
   "outputs": [],
   "source": [
    "# tp = {\n",
    "#     \"batch_size\" : 32,\n",
    "#     \"num_epochs\" : 5,\n",
    "    \n",
    "#     \"emb_dim\" : 100,\n",
    "#     \"gnn_type\" : \"gatv2\",\n",
    "#     \"num_layer\" : 5,\n",
    "#     \"graph_pooling\" : \"mean\", #attention\n",
    "    \n",
    "#     \"input_embed_dim\" : None,\n",
    "#     \"gene_embed_dim\": 20,\n",
    "#     \"num_attn_heads\" : 2,\n",
    "#     \"num_transformer_units\" : 1,\n",
    "#     \"p_dropout\" : 0.3,\n",
    "# #     \"nonlin_func\" : nn.ReLU(),\n",
    "#     \"mlp_embed_factor\" : 2,\n",
    "#     \"pooling_mode\" : 'attn',\n",
    "#     \"dist_opt\" : 'cosine',\n",
    "\n",
    "#     \"base_lr\" : 3e-4, #3e-4\n",
    "#     \"max_lr_mul\": 10,\n",
    "#     \"l2_reg\" : 1e-7,\n",
    "#     \"loss_w\" : 1.,\n",
    "#     \"margin_v\" : 1.,\n",
    "\n",
    "#     \"expression_dim\" : 64,\n",
    "#     \"expression_input_size\" : 908,\n",
    "#     \"exp_H1\" : 4096,\n",
    "#     \"exp_H2\" : 1024\n",
    "# }"
   ]
  },
  {
   "cell_type": "code",
   "execution_count": 29,
   "metadata": {},
   "outputs": [],
   "source": [
    "# # training params total_thresh 3\n",
    "# tp = {\n",
    "#     \"batch_size\" : 300,\n",
    "#     \"num_epochs\" : 200,\n",
    "    \n",
    "#     \"emb_dim\" : 300,\n",
    "#     \"gnn_type\" : \"gatv2\",\n",
    "#     \"num_layer\" : 5,\n",
    "#     \"graph_pooling\" : \"mean\", #attention\n",
    "    \n",
    "#     \"input_embed_dim\" : None,\n",
    "#     \"gene_embed_dim\": 1,\n",
    "#     \"num_attn_heads\" : 2,\n",
    "#     \"num_transformer_units\" : 1,\n",
    "#     \"p_dropout\" : 0.3,\n",
    "# #     \"nonlin_func\" : nn.ReLU(),\n",
    "#     \"mlp_embed_factor\" : 2,\n",
    "#     \"pooling_mode\" : 'attn',\n",
    "#     \"dist_opt\" : 'cosine',\n",
    "\n",
    "#     \"base_lr\" : 3e-5, #3e-4\n",
    "#     \"max_lr_mul\": 10,\n",
    "#     \"l2_reg\" : 1e-8,\n",
    "#     \"loss_w\" : 0.3,\n",
    "#     \"margin_v\" : 1.,\n",
    "\n",
    "#     \"expression_dim\" : 64,\n",
    "#     \"expression_input_size\" : 908,\n",
    "#     \"exp_H1\" : 500,\n",
    "#     \"exp_H2\" : 400\n",
    "# }"
   ]
  },
  {
   "cell_type": "code",
   "execution_count": 30,
   "metadata": {},
   "outputs": [],
   "source": [
    "def spawn_q_process(q_process):\n",
    "    print(\">>> spawning hyperparam search process\")\n",
    "    q_process.start()\n",
    "    \n",
    "def join_q_process(q_process):\n",
    "    q_process.join()\n",
    "    print(\"<<< joined hyperparam search process\")\n",
    "    \n",
    "def create_q_process(queue, used_dataset, gpu_num, tphp, exp_dir, partition):\n",
    "#     fold_gpu_map = {0:gpu_num}\n",
    "    return mp.Process(target=deepadr.hyphelperv2.run_exp, args=(queue, used_dataset, gpu_num, tphp, exp_dir, partition))"
   ]
  },
  {
   "cell_type": "code",
   "execution_count": 31,
   "metadata": {},
   "outputs": [
    {
     "data": {
      "text/plain": [
       "5"
      ]
     },
     "execution_count": 31,
     "metadata": {},
     "output_type": "execute_result"
    }
   ],
   "source": [
    "n_gpu"
   ]
  },
  {
   "cell_type": "code",
   "execution_count": 32,
   "metadata": {},
   "outputs": [
    {
     "data": {
      "text/plain": [
       "range(0, 5)"
      ]
     },
     "execution_count": 32,
     "metadata": {},
     "output_type": "execute_result"
    }
   ],
   "source": [
    "range(min(n_gpu, len(fold_partitions)))"
   ]
  },
  {
   "cell_type": "code",
   "execution_count": null,
   "metadata": {},
   "outputs": [],
   "source": []
  },
  {
   "cell_type": "code",
   "execution_count": 33,
   "metadata": {
    "scrolled": false
   },
   "outputs": [
    {
     "name": "stdout",
     "output_type": "stream",
     "text": [
      "Start: 2022-09-05_12-25-54\n",
      "path_current_dir /cluster/work/medinfmk/lm1-homes/skyriakos-lm1-home/data_to_migrate/chemprop_run/git/deepadr\n",
      "path_current_dir /cluster/work/medinfmk/lm1-homes/skyriakos-lm1-home/data_to_migrate/chemprop_run/git/deepadr\n",
      "path_current_dir /cluster/work/medinfmk/lm1-homes/skyriakos-lm1-home/data_to_migrate/chemprop_run/git/deepadr\n",
      ">>> spawning hyperparam search process\n",
      "path_current_dir /cluster/work/medinfmk/lm1-homes/skyriakos-lm1-home/data_to_migrate/chemprop_run/git/deepadr\n",
      "path_current_dir /cluster/work/medinfmk/lm1-homes/skyriakos-lm1-home/data_to_migrate/chemprop_run/git/deepadr\n",
      "path_current_dir /cluster/work/medinfmk/lm1-homes/skyriakos-lm1-home/data_to_migrate/chemprop_run/git/deepadr\n",
      ">>> spawning hyperparam search process\n",
      "gpu: cuda:0\n",
      "Dropout(p=0.3, inplace=False) Dropout(p=0.3, inplace=False)\n",
      "=====Epoch 0\n",
      "Training...\n"
     ]
    },
    {
     "name": "stderr",
     "output_type": "stream",
     "text": [
      "\r",
      "Iteration:   0%|          | 0/62 [00:00<?, ?it/s]"
     ]
    },
    {
     "name": "stdout",
     "output_type": "stream",
     "text": [
      "path_current_dir /cluster/work/medinfmk/lm1-homes/skyriakos-lm1-home/data_to_migrate/chemprop_run/git/deepadr\n",
      "path_current_dir /cluster/work/medinfmk/lm1-homes/skyriakos-lm1-home/data_to_migrate/chemprop_run/git/deepadr\n",
      "path_current_dir /cluster/work/medinfmk/lm1-homes/skyriakos-lm1-home/data_to_migrate/chemprop_run/git/deepadr\n",
      ">>> spawning hyperparam search process\n"
     ]
    },
    {
     "name": "stderr",
     "output_type": "stream",
     "text": [
      "Iteration:   5%|▍         | 3/62 [00:04<01:05,  1.11s/it]"
     ]
    },
    {
     "name": "stdout",
     "output_type": "stream",
     "text": [
      "gpu: cuda:1\n",
      "Dropout(p=0.3, inplace=False) Dropout(p=0.3, inplace=False)\n",
      "=====Epoch 0\n",
      "Training...\n"
     ]
    },
    {
     "name": "stderr",
     "output_type": "stream",
     "text": [
      "\r",
      "Iteration:   6%|▋         | 4/62 [00:04<00:41,  1.38it/s]\r",
      "Iteration:   8%|▊         | 5/62 [00:04<00:28,  1.99it/s]"
     ]
    },
    {
     "name": "stdout",
     "output_type": "stream",
     "text": [
      "path_current_dir /cluster/work/medinfmk/lm1-homes/skyriakos-lm1-home/data_to_migrate/chemprop_run/git/deepadr\n",
      "path_current_dir /cluster/work/medinfmk/lm1-homes/skyriakos-lm1-home/data_to_migrate/chemprop_run/git/deepadr\n",
      "path_current_dir /cluster/work/medinfmk/lm1-homes/skyriakos-lm1-home/data_to_migrate/chemprop_run/git/deepadr\n",
      ">>> spawning hyperparam search process\n"
     ]
    },
    {
     "name": "stderr",
     "output_type": "stream",
     "text": [
      "Iteration:  53%|█████▎    | 33/62 [00:08<00:03,  8.07it/s]"
     ]
    },
    {
     "name": "stdout",
     "output_type": "stream",
     "text": [
      "gpu: cuda:2\n",
      "Dropout(p=0.3, inplace=False) Dropout(p=0.3, inplace=False)\n",
      "=====Epoch 0\n",
      "Training...\n"
     ]
    },
    {
     "name": "stderr",
     "output_type": "stream",
     "text": [
      "Iteration:  63%|██████▎   | 39/62 [00:08<00:02,  9.02it/s]"
     ]
    },
    {
     "name": "stdout",
     "output_type": "stream",
     "text": [
      "path_current_dir /cluster/work/medinfmk/lm1-homes/skyriakos-lm1-home/data_to_migrate/chemprop_run/git/deepadr\n",
      "path_current_dir /cluster/work/medinfmk/lm1-homes/skyriakos-lm1-home/data_to_migrate/chemprop_run/git/deepadr\n",
      "path_current_dir /cluster/work/medinfmk/lm1-homes/skyriakos-lm1-home/data_to_migrate/chemprop_run/git/deepadr\n",
      ">>> spawning hyperparam search process\n"
     ]
    },
    {
     "name": "stderr",
     "output_type": "stream",
     "text": [
      "Iteration: 100%|██████████| 62/62 [00:11<00:00,  5.39it/s]\n",
      "Iteration:  40%|████      | 25/62 [00:07<00:04,  8.38it/s]"
     ]
    },
    {
     "name": "stdout",
     "output_type": "stream",
     "text": [
      "Evaluating...\n"
     ]
    },
    {
     "name": "stderr",
     "output_type": "stream",
     "text": [
      "Iteration:  39%|███▊      | 24/62 [00:01<00:01, 21.63it/s]"
     ]
    },
    {
     "name": "stdout",
     "output_type": "stream",
     "text": [
      "gpu: cuda:3\n",
      "Dropout(p=0.3, inplace=False) Dropout(p=0.3, inplace=False)\n",
      "=====Epoch 0\n",
      "Training...\n"
     ]
    },
    {
     "name": "stderr",
     "output_type": "stream",
     "text": [
      "Iteration:  29%|██▉       | 18/62 [00:06<00:05,  7.73it/s]\n",
      "Iteration:   2%|▏         | 1/62 [00:03<03:05,  3.04s/it]]\n",
      "Iteration:   0%|          | 0/62 [00:00<?, ?it/s]"
     ]
    },
    {
     "name": "stdout",
     "output_type": "stream",
     "text": [
      "{'Train':  best_epoch_indx:0\n",
      " auc:0.7378720540501044 \n",
      " apur:0.6630621998060116 \n",
      " f1:0.6526348612410352 \n",
      " precision:0.5514182840080794 \n",
      " recall:0.7993634627625716 \n",
      ", 'Validation':  best_epoch_indx:0\n",
      " auc:0.7224049390429688 \n",
      " apur:0.6525214766501188 \n",
      " f1:0.6469483568075117 \n",
      " precision:0.5481304693715194 \n",
      " recall:0.7892325315005727 \n",
      "}\n",
      "=====Epoch 1\n",
      "Training...\n"
     ]
    },
    {
     "name": "stderr",
     "output_type": "stream",
     "text": [
      "Iteration: 100%|██████████| 62/62 [00:12<00:00,  5.17it/s]\n",
      "Iteration:  53%|█████▎    | 33/62 [00:08<00:03,  7.71it/s]"
     ]
    },
    {
     "name": "stdout",
     "output_type": "stream",
     "text": [
      "Evaluating...\n",
      "gpu: cuda:4\n",
      "Dropout(p=0.3, inplace=False) Dropout(p=0.3, inplace=False)\n",
      "=====Epoch 0\n",
      "Training...\n"
     ]
    },
    {
     "name": "stderr",
     "output_type": "stream",
     "text": [
      "Iteration:  37%|███▋      | 23/62 [00:07<00:04,  8.48it/s]\n",
      "Iteration: 100%|██████████| 62/62 [00:11<00:00,  5.29it/s]\n",
      "Iteration:  40%|████      | 25/62 [00:07<00:04,  8.68it/s]"
     ]
    },
    {
     "name": "stdout",
     "output_type": "stream",
     "text": [
      "Evaluating...\n"
     ]
    },
    {
     "name": "stderr",
     "output_type": "stream",
     "text": [
      "Iteration:  50%|█████     | 31/62 [00:08<00:04,  6.47it/s]\n",
      "Iteration:   0%|          | 0/62 [00:00<?, ?it/s]"
     ]
    },
    {
     "name": "stdout",
     "output_type": "stream",
     "text": [
      "{'Train':  best_epoch_indx:0\n",
      " auc:0.7222746526274744 \n",
      " apur:0.6555900564690619 \n",
      " f1:0.6351050545632227 \n",
      " precision:0.55367285119273 \n",
      " recall:0.7446212603437301 \n",
      ", 'Validation':  best_epoch_indx:0\n",
      " auc:0.7193816747081352 \n",
      " apur:0.6475516425131894 \n",
      " f1:0.6413418845584608 \n",
      " precision:0.5632582322357019 \n",
      " recall:0.7445589919816724 \n",
      "}\n",
      "=====Epoch 1\n",
      "Training...\n",
      "Evaluating...\n"
     ]
    },
    {
     "name": "stderr",
     "output_type": "stream",
     "text": [
      "Iteration: 100%|██████████| 62/62 [00:05<00:00, 11.64it/s]\n",
      "Iteration:  77%|███████▋  | 48/62 [00:10<00:01,  8.66it/s]\n",
      "Iteration:  87%|████████▋ | 54/62 [00:11<00:01,  7.73it/s]\n",
      "Iteration:  39%|███▊      | 24/62 [00:07<00:04,  7.84it/s]"
     ]
    },
    {
     "name": "stdout",
     "output_type": "stream",
     "text": [
      "{'Train':  best_epoch_indx:0\n",
      " auc:0.7394891148559694 \n",
      " apur:0.6815103410610939 \n",
      " f1:0.647138437741686 \n",
      " precision:0.5216239382841112 \n",
      " recall:0.852196053469128 \n",
      ", 'Validation':  best_epoch_indx:0\n",
      " auc:0.7183866152938317 \n",
      " apur:0.6524103032537251 \n",
      " f1:0.6392020815264527 \n",
      " precision:0.5143056524773203 \n",
      " recall:0.8442153493699885 \n",
      "}\n",
      "=====Epoch 1\n",
      "Training...\n"
     ]
    },
    {
     "name": "stderr",
     "output_type": "stream",
     "text": [
      "Iteration:  92%|█████████▏| 57/62 [00:11<00:00,  8.34it/s]\n",
      "Iteration:  16%|█▌        | 10/62 [00:00<00:04, 12.22it/s]"
     ]
    },
    {
     "name": "stdout",
     "output_type": "stream",
     "text": [
      "{'Train':  best_epoch_indx:1\n",
      " auc:0.7860864477000007 \n",
      " apur:0.7192024637502616 \n",
      " f1:0.6859151928404006 \n",
      " precision:0.5897224512228634 \n",
      " recall:0.8196053469127944 \n",
      ", 'Validation':  best_epoch_indx:1\n",
      " auc:0.7736827997423644 \n",
      " apur:0.69643975206106 \n",
      " f1:0.6771037181996087 \n",
      " precision:0.5909479077711358 \n",
      " recall:0.7926689576174112 \n",
      "}\n",
      "=====Epoch 2\n",
      "Training...\n",
      "Evaluating...\n"
     ]
    },
    {
     "name": "stderr",
     "output_type": "stream",
     "text": [
      "\n",
      "Iteration: 100%|██████████| 62/62 [00:12<00:00,  5.16it/s]\n",
      "Iteration: 100%|██████████| 62/62 [00:06<00:00, 10.29it/s]\n",
      "Iteration:  65%|██████▍   | 40/62 [00:03<00:01, 12.74it/s]"
     ]
    },
    {
     "name": "stdout",
     "output_type": "stream",
     "text": [
      "Evaluating...\n"
     ]
    },
    {
     "name": "stderr",
     "output_type": "stream",
     "text": [
      "Iteration:  24%|██▍       | 15/62 [00:00<00:02, 19.67it/s]\n",
      "Iteration: 100%|██████████| 62/62 [00:04<00:00, 12.45it/s]\n",
      "Iteration:   0%|          | 0/62 [00:00<?, ?it/s]"
     ]
    },
    {
     "name": "stdout",
     "output_type": "stream",
     "text": [
      "Evaluating...\n",
      "{'Train':  best_epoch_indx:0\n",
      " auc:0.7143330322335549 \n",
      " apur:0.6418613965098601 \n",
      " f1:0.6285202396282402 \n",
      " precision:0.5609634219468319 \n",
      " recall:0.7145767027371102 \n",
      ", 'Validation':  best_epoch_indx:0\n",
      " auc:0.701766616142332 \n",
      " apur:0.6282391840810451 \n",
      " f1:0.6186094069529653 \n",
      " precision:0.5586334256694367 \n",
      " recall:0.693012600229095 \n",
      "}\n",
      "=====Epoch 1\n",
      "Training...\n",
      "Evaluating...\n"
     ]
    },
    {
     "name": "stderr",
     "output_type": "stream",
     "text": [
      "Iteration:  84%|████████▍ | 52/62 [00:04<00:00, 12.26it/s]\n",
      "Iteration: 100%|██████████| 62/62 [00:12<00:00,  4.98it/s]\n",
      "Iteration: 100%|██████████| 62/62 [00:05<00:00, 12.28it/s]\n",
      "Iteration:   0%|          | 0/62 [00:00<?, ?it/s]"
     ]
    },
    {
     "name": "stdout",
     "output_type": "stream",
     "text": [
      "Evaluating...\n"
     ]
    },
    {
     "name": "stderr",
     "output_type": "stream",
     "text": [
      "Iteration:  44%|████▎     | 27/62 [00:01<00:01, 21.40it/s]\n",
      "Iteration:  34%|███▍      | 21/62 [00:00<00:01, 21.58it/s]"
     ]
    },
    {
     "name": "stdout",
     "output_type": "stream",
     "text": [
      "{'Train':  best_epoch_indx:1\n",
      " auc:0.8071107801681223 \n",
      " apur:0.7643638786307259 \n",
      " f1:0.6723711194399264 \n",
      " precision:0.7562838052815781 \n",
      " recall:0.6052196053469128 \n",
      ", 'Validation':  best_epoch_indx:1\n",
      " auc:0.7868123773049318 \n",
      " apur:0.7438404870731112 \n",
      " f1:0.6493011435832274 \n",
      " precision:0.7289586305278174 \n",
      " recall:0.5853379152348225 \n",
      "}\n",
      "=====Epoch 2\n",
      "Training...\n"
     ]
    },
    {
     "name": "stderr",
     "output_type": "stream",
     "text": [
      "\n",
      "Iteration:  87%|████████▋ | 54/62 [00:03<00:00, 18.03it/s]\n",
      "Iteration:  86%|████████▌ | 6/7 [00:00<00:00, 11.02it/s]s]\n",
      "Iteration:  68%|██████▊   | 42/62 [00:03<00:01, 11.06it/s]\n",
      "Iteration:   0%|          | 0/62 [00:00<?, ?it/s]\n",
      "Iteration:  71%|███████   | 44/62 [00:04<00:01, 11.04it/s]"
     ]
    },
    {
     "name": "stdout",
     "output_type": "stream",
     "text": [
      "{'Train':  best_epoch_indx:0\n",
      " auc:0.7047863074826173 \n",
      " apur:0.629539775666075 \n",
      " f1:0.6383528943703998 \n",
      " precision:0.5237900922223129 \n",
      " recall:0.8170591979630808 \n",
      ", 'Validation':  best_epoch_indx:0\n",
      " auc:0.6974050354634547 \n",
      " apur:0.6309959179165365 \n",
      " f1:0.6300630063006301 \n",
      " precision:0.5189028910303929 \n",
      " recall:0.8018327605956472 \n",
      "}\n",
      "=====Epoch 1\n",
      "Training...\n"
     ]
    },
    {
     "name": "stderr",
     "output_type": "stream",
     "text": [
      "\r",
      "Iteration:  42%|████▏     | 26/62 [00:02<00:03, 11.07it/s]\r",
      "Iteration:  86%|████████▌ | 6/7 [00:00<00:00, 23.18it/s]\n",
      "\r",
      "Iteration:   0%|          | 0/62 [00:00<?, ?it/s]\r",
      "Iteration:   5%|▍         | 3/62 [00:00<00:06,  9.81it/s]\r",
      "Iteration: 100%|██████████| 7/7 [00:00<00:00, 22.88it/s]\r",
      "Iteration:  74%|███████▍  | 46/62 [00:04<00:01, 10.92it/s]"
     ]
    },
    {
     "name": "stdout",
     "output_type": "stream",
     "text": [
      "{'Train':  best_epoch_indx:1\n",
      " auc:0.8124505730919215 \n",
      " apur:0.7675613277412308 \n",
      " f1:0.6981132075471699 \n",
      " precision:0.6990935784501469 \n",
      " recall:0.6971355824315723 \n",
      ", 'Validation':  best_epoch_indx:1\n",
      " auc:0.7951498567191579 \n",
      " apur:0.7412059364313143 \n",
      " f1:0.6865329512893983 \n",
      " precision:0.6869266055045872 \n",
      " recall:0.6861397479954181 \n",
      "}\n",
      "=====Epoch 2\n",
      "Training...\n",
      "{'Train':  best_epoch_indx:2\n",
      " auc:0.8285876561322106 \n",
      " apur:0.7873321275937417 \n",
      " f1:0.6908618686350899 \n",
      " precision:0.7458677685950413 \n",
      " recall:0.6434118395926162 \n",
      ", 'Validation':  best_epoch_indx:2\n",
      " auc:0.804512285898311 \n",
      " apur:0.755099642353607 \n",
      " f1:0.6683480453972257 \n",
      " precision:0.7433380084151473 \n",
      " recall:0.6071019473081328 \n",
      "}\n",
      "=====Epoch 3\n",
      "Training...\n"
     ]
    },
    {
     "name": "stderr",
     "output_type": "stream",
     "text": [
      "Iteration:  45%|████▌     | 28/62 [00:02<00:03, 10.60it/s]\n",
      "Iteration: 100%|██████████| 62/62 [00:05<00:00, 10.94it/s]\n",
      "Iteration:  26%|██▌       | 16/62 [00:01<00:04, 10.16it/s]"
     ]
    },
    {
     "name": "stdout",
     "output_type": "stream",
     "text": [
      "Evaluating...\n"
     ]
    },
    {
     "name": "stderr",
     "output_type": "stream",
     "text": [
      "Iteration: 100%|██████████| 62/62 [00:05<00:00, 11.14it/s]\n",
      "Iteration:  61%|██████▏   | 38/62 [00:03<00:01, 12.87it/s]"
     ]
    },
    {
     "name": "stdout",
     "output_type": "stream",
     "text": [
      "Evaluating...\n"
     ]
    },
    {
     "name": "stderr",
     "output_type": "stream",
     "text": [
      "Iteration:  85%|████████▌ | 53/62 [00:04<00:00, 10.60it/s]\n",
      "Iteration: 100%|██████████| 62/62 [00:04<00:00, 12.68it/s]\n",
      "Iteration:   0%|          | 0/62 [00:00<?, ?it/s]\n",
      "Iteration: 100%|██████████| 62/62 [00:05<00:00, 11.88it/s]\n",
      "Iteration:   0%|          | 0/62 [00:00<?, ?it/s]"
     ]
    },
    {
     "name": "stdout",
     "output_type": "stream",
     "text": [
      "Evaluating...\n",
      "{'Train':  best_epoch_indx:1\n",
      " auc:0.7840432202234252 \n",
      " apur:0.682480327460755 \n",
      " f1:0.6886817021719882 \n",
      " precision:0.5827750352609309 \n",
      " recall:0.8416295353278167 \n",
      ", 'Validation':  best_epoch_indx:1\n",
      " auc:0.7710755898041121 \n",
      " apur:0.6724394598303447 \n",
      " f1:0.6784351145038168 \n",
      " precision:0.5813573180703189 \n",
      " recall:0.8144329896907216 \n",
      "}\n",
      "=====Epoch 2\n",
      "Training...\n",
      "Evaluating...\n"
     ]
    },
    {
     "name": "stderr",
     "output_type": "stream",
     "text": [
      "\r",
      "Iteration:  63%|██████▎   | 39/62 [00:02<00:01, 17.78it/s]\r",
      "Iteration:   3%|▎         | 2/62 [00:00<00:05, 10.56it/s]\r",
      "Iteration:  10%|▉         | 6/62 [00:00<00:02, 21.76it/s]\r",
      "Iteration:   5%|▍         | 3/62 [00:00<00:02, 22.54it/s]\r",
      "Iteration:  98%|█████████▊| 61/62 [00:05<00:00, 10.25it/s]\r",
      "Iteration:  68%|██████▊   | 42/62 [00:02<00:01, 18.85it/s]\r",
      "Iteration:  15%|█▍        | 9/62 [00:00<00:02, 21.90it/s]\r",
      "Iteration:  10%|▉         | 6/62 [00:00<00:02, 22.56it/s]\r",
      "Iteration: 100%|██████████| 62/62 [00:05<00:00, 10.70it/s]\n",
      "\r",
      "Iteration:   0%|          | 0/62 [00:00<?, ?it/s]"
     ]
    },
    {
     "name": "stdout",
     "output_type": "stream",
     "text": [
      "Evaluating...\n"
     ]
    },
    {
     "name": "stderr",
     "output_type": "stream",
     "text": [
      "Iteration:  48%|████▊     | 30/62 [00:01<00:01, 22.04it/s]\n",
      "Iteration:  32%|███▏      | 20/62 [00:01<00:03, 10.94it/s]\n",
      "Iteration:   0%|          | 0/62 [00:00<?, ?it/s]"
     ]
    },
    {
     "name": "stdout",
     "output_type": "stream",
     "text": [
      "{'Train':  best_epoch_indx:2\n",
      " auc:0.8316297491147643 \n",
      " apur:0.7944906828755965 \n",
      " f1:0.715097350781998 \n",
      " precision:0.717157490396927 \n",
      " recall:0.713049013367282 \n",
      ", 'Validation':  best_epoch_indx:2\n",
      " auc:0.8139171400912524 \n",
      " apur:0.7676205501918918 \n",
      " f1:0.693923906871096 \n",
      " precision:0.6880630630630631 \n",
      " recall:0.699885452462772 \n",
      "}\n",
      "=====Epoch 3\n",
      "Training...\n"
     ]
    },
    {
     "name": "stderr",
     "output_type": "stream",
     "text": [
      "Iteration:  89%|████████▊ | 55/62 [00:02<00:00, 21.96it/s]\n",
      "Iteration: 100%|██████████| 62/62 [00:02<00:00, 21.48it/s]\n",
      "Iteration:  26%|██▌       | 16/62 [00:01<00:04, 10.52it/s]\n",
      "Iteration:  61%|██████▏   | 38/62 [00:03<00:02, 11.39it/s]\n",
      "Iteration:  29%|██▊       | 2/7 [00:00<00:00, 17.35it/s]"
     ]
    },
    {
     "name": "stdout",
     "output_type": "stream",
     "text": [
      "{'Train':  best_epoch_indx:3\n",
      " auc:0.843294947559372 \n",
      " apur:0.805472570810422 \n",
      " f1:0.7330091185410335 \n",
      " precision:0.701454333915067 \n",
      " recall:0.7675366008911522 \n",
      ", 'Validation':  best_epoch_indx:3\n",
      " auc:0.8185935336565349 \n",
      " apur:0.7780816088418638 \n",
      " f1:0.7153123272526257 \n",
      " precision:0.6912393162393162 \n",
      " recall:0.7411225658648339 \n",
      "}\n",
      "=====Epoch 4\n",
      "Training...\n"
     ]
    },
    {
     "name": "stderr",
     "output_type": "stream",
     "text": [
      "Iteration:  68%|██████▊   | 42/62 [00:03<00:01, 11.30it/s]\n",
      "Iteration:   0%|          | 0/62 [00:00<?, ?it/s]\n",
      "Iteration:  71%|███████   | 44/62 [00:03<00:01, 10.98it/s]"
     ]
    },
    {
     "name": "stdout",
     "output_type": "stream",
     "text": [
      "{'Train':  best_epoch_indx:1\n",
      " auc:0.7853153002949269 \n",
      " apur:0.7268592091843147 \n",
      " f1:0.6808703535811423 \n",
      " precision:0.6134994383743491 \n",
      " recall:0.7648631444939529 \n",
      ", 'Validation':  best_epoch_indx:1\n",
      " auc:0.7908610735071216 \n",
      " apur:0.7412525706300686 \n",
      " f1:0.6914082358922217 \n",
      " precision:0.6215722120658135 \n",
      " recall:0.7789232531500573 \n",
      "}\n",
      "=====Epoch 2\n",
      "Training...\n",
      "{'Train':  best_epoch_indx:2\n",
      " auc:0.8345547841817221 \n",
      " apur:0.8030334333574741 \n",
      " f1:0.7198486328124999 \n",
      " precision:0.6914057920037519 \n",
      " recall:0.7507320178230427 \n",
      ", 'Validation':  best_epoch_indx:2\n",
      " auc:0.8116560796973168 \n",
      " apur:0.7686618136943328 \n",
      " f1:0.689922480620155 \n",
      " precision:0.6677384780278671 \n",
      " recall:0.713631156930126 \n",
      "}\n",
      "=====Epoch 3\n",
      "Training...\n"
     ]
    },
    {
     "name": "stderr",
     "output_type": "stream",
     "text": [
      "Iteration: 100%|██████████| 62/62 [00:05<00:00, 11.18it/s]\n",
      "Iteration:   0%|          | 0/62 [00:00<?, ?it/s]"
     ]
    },
    {
     "name": "stdout",
     "output_type": "stream",
     "text": [
      "Evaluating...\n"
     ]
    },
    {
     "name": "stderr",
     "output_type": "stream",
     "text": [
      "Iteration: 100%|██████████| 62/62 [00:05<00:00, 11.40it/s]\n",
      "Iteration:  56%|█████▋    | 35/62 [00:03<00:02, 10.17it/s]"
     ]
    },
    {
     "name": "stdout",
     "output_type": "stream",
     "text": [
      "Evaluating...\n"
     ]
    },
    {
     "name": "stderr",
     "output_type": "stream",
     "text": [
      "Iteration:  48%|████▊     | 30/62 [00:01<00:01, 21.57it/s]\n",
      "Iteration:  82%|████████▏ | 51/62 [00:04<00:01, 10.53it/s]"
     ]
    },
    {
     "name": "stdout",
     "output_type": "stream",
     "text": [
      "Evaluating...\n"
     ]
    },
    {
     "name": "stderr",
     "output_type": "stream",
     "text": [
      "\n",
      "Iteration: 100%|██████████| 62/62 [00:05<00:00, 11.57it/s]\n",
      "Iteration:  68%|██████▊   | 42/62 [00:01<00:00, 21.56it/s]"
     ]
    },
    {
     "name": "stdout",
     "output_type": "stream",
     "text": [
      "Evaluating...\n",
      "{'Train':  best_epoch_indx:2\n",
      " auc:0.8131063910363172 \n",
      " apur:0.7656600027707424 \n",
      " f1:0.6996074521777058 \n",
      " precision:0.6851354649743715 \n",
      " recall:0.7147040101845958 \n",
      ", 'Validation':  best_epoch_indx:2\n",
      " auc:0.791947732383013 \n",
      " apur:0.7537856567836096 \n",
      " f1:0.680634201585504 \n",
      " precision:0.6730123180291153 \n",
      " recall:0.6884306987399771 \n",
      "}\n",
      "=====Epoch 3\n",
      "Training...\n"
     ]
    },
    {
     "name": "stderr",
     "output_type": "stream",
     "text": [
      "\n",
      "Iteration: 100%|██████████| 62/62 [00:05<00:00, 10.35it/s]\n",
      "Iteration:  44%|████▎     | 27/62 [00:01<00:01, 22.33it/s]"
     ]
    },
    {
     "name": "stdout",
     "output_type": "stream",
     "text": [
      "Evaluating...\n"
     ]
    },
    {
     "name": "stderr",
     "output_type": "stream",
     "text": [
      "Iteration:  13%|█▎        | 8/62 [00:00<00:02, 18.32it/s]]\n",
      "Iteration:  26%|██▌       | 16/62 [00:00<00:02, 16.85it/s]\n",
      "Iteration:  82%|████████▏ | 51/62 [00:02<00:00, 20.27it/s]"
     ]
    },
    {
     "name": "stdout",
     "output_type": "stream",
     "text": [
      "{'Train':  best_epoch_indx:3\n",
      " auc:0.8520664592754622 \n",
      " apur:0.8172282017877814 \n",
      " f1:0.7353504404442741 \n",
      " precision:0.7374215849443093 \n",
      " recall:0.7332908975175048 \n",
      ", 'Validation':  best_epoch_indx:3\n",
      " auc:0.8301283163826119 \n",
      " apur:0.7884616079512475 \n",
      " f1:0.7035979440319818 \n",
      " precision:0.7015945330296127 \n",
      " recall:0.7056128293241696 \n",
      "}\n",
      "=====Epoch 4\n",
      "Training...\n"
     ]
    },
    {
     "name": "stderr",
     "output_type": "stream",
     "text": [
      "Iteration:  52%|█████▏    | 32/62 [00:01<00:01, 18.17it/s]\n",
      "Iteration: 100%|██████████| 62/62 [00:02<00:00, 20.86it/s]\n",
      "Iteration:  55%|█████▍    | 34/62 [00:03<00:02, 11.16it/s]\n",
      "Iteration:  11%|█         | 2/18 [00:00<00:01, 11.93it/s]"
     ]
    },
    {
     "name": "stdout",
     "output_type": "stream",
     "text": [
      "{'Train':  best_epoch_indx:4\n",
      " auc:0.8550457024684769 \n",
      " apur:0.8258900965455118 \n",
      " f1:0.7447411959347672 \n",
      " precision:0.6948946962178851 \n",
      " recall:0.8022915340547422 \n",
      ", 'Validation':  best_epoch_indx:4\n",
      " auc:0.8277332315133002 \n",
      " apur:0.7846895818208062 \n",
      " f1:0.728361458900381 \n",
      " precision:0.6939834024896265 \n",
      " recall:0.7663230240549829 \n",
      "}\n",
      "Finished training and validating!\n"
     ]
    },
    {
     "name": "stderr",
     "output_type": "stream",
     "text": [
      "Iteration:  84%|████████▍ | 52/62 [00:02<00:00, 17.72it/s]\n",
      "Iteration:  33%|███▎      | 6/18 [00:00<00:01,  8.40it/s]"
     ]
    },
    {
     "name": "stdout",
     "output_type": "stream",
     "text": [
      "{'Train':  best_epoch_indx:2\n",
      " auc:0.815390291407819 \n",
      " apur:0.7732172156816572 \n",
      " f1:0.6998953571625268 \n",
      " precision:0.6167734420500873 \n",
      " recall:0.8089115213239975 \n",
      ", 'Validation':  best_epoch_indx:2\n",
      " auc:0.8122722066021035 \n",
      " apur:0.7714619914392611 \n",
      " f1:0.7019667170953102 \n",
      " precision:0.6270270270270271 \n",
      " recall:0.7972508591065293 \n",
      "}\n",
      "=====Epoch 3\n",
      "Training...\n"
     ]
    },
    {
     "name": "stderr",
     "output_type": "stream",
     "text": [
      "Iteration:  13%|█▎        | 8/62 [00:00<00:04, 11.57it/s]]\n",
      "Iteration:  23%|██▎       | 14/62 [00:01<00:04, 11.27it/s]\n",
      "Iteration:   2%|▏         | 1/62 [00:00<00:06,  9.30it/s]]\n",
      "Iteration:  26%|██▌       | 16/62 [00:01<00:04, 11.30it/s]"
     ]
    },
    {
     "name": "stdout",
     "output_type": "stream",
     "text": [
      "{'Train':  best_epoch_indx:3\n",
      " auc:0.8478077216909143 \n",
      " apur:0.8185481788058819 \n",
      " f1:0.6871741397288843 \n",
      " precision:0.8280380542092981 \n",
      " recall:0.5872692552514323 \n",
      ", 'Validation':  best_epoch_indx:3\n",
      " auc:0.8337951874607087 \n",
      " apur:0.7986539780275903 \n",
      " f1:0.6684563758389261 \n",
      " precision:0.807131280388979 \n",
      " recall:0.570446735395189 \n",
      "}\n",
      "=====Epoch 4\n",
      "Training...\n",
      "{'Test':  best_epoch_indx:4\n",
      " auc:0.840708490341854 \n",
      " apur:0.8056833987091485 \n",
      " f1:0.7338899593234853 \n",
      " precision:0.6886299718762555 \n",
      " recall:0.7855178735105408 \n",
      "}\n",
      "Finished testing!\n"
     ]
    },
    {
     "name": "stderr",
     "output_type": "stream",
     "text": [
      "Iteration: 100%|██████████| 62/62 [00:05<00:00, 11.18it/s]\n",
      "Iteration:  39%|███▊      | 24/62 [00:02<00:03, 11.29it/s]"
     ]
    },
    {
     "name": "stdout",
     "output_type": "stream",
     "text": [
      "Evaluating...\n"
     ]
    },
    {
     "name": "stderr",
     "output_type": "stream",
     "text": [
      "Iteration:  82%|████████▏ | 51/62 [00:05<00:01, 10.07it/s]"
     ]
    },
    {
     "name": "stdout",
     "output_type": "stream",
     "text": [
      "<<< joined hyperparam search process\n",
      "released_gpu_num: 0\n"
     ]
    },
    {
     "name": "stderr",
     "output_type": "stream",
     "text": [
      "Iteration: 100%|██████████| 62/62 [00:06<00:00, 10.17it/s]\n",
      "Iteration:  55%|█████▍    | 34/62 [00:03<00:02, 12.21it/s]"
     ]
    },
    {
     "name": "stdout",
     "output_type": "stream",
     "text": [
      "Evaluating...\n"
     ]
    },
    {
     "name": "stderr",
     "output_type": "stream",
     "text": [
      "Iteration:  94%|█████████▎| 58/62 [00:05<00:00, 11.95it/s]\n",
      "Iteration: 100%|██████████| 62/62 [00:05<00:00, 11.60it/s]\n",
      "Iteration:  77%|███████▋  | 48/62 [00:04<00:01, 12.45it/s]"
     ]
    },
    {
     "name": "stdout",
     "output_type": "stream",
     "text": [
      "Evaluating...\n",
      "{'Train':  best_epoch_indx:3\n",
      " auc:0.8442268394824577 \n",
      " apur:0.8124839145401407 \n",
      " f1:0.718175225789439 \n",
      " precision:0.7447361225047854 \n",
      " recall:0.6934436664544876 \n",
      ", 'Validation':  best_epoch_indx:3\n",
      " auc:0.8246188498193081 \n",
      " apur:0.7936567389470819 \n",
      " f1:0.7036374478234945 \n",
      " precision:0.7338308457711443 \n",
      " recall:0.6758304696449027 \n",
      "}\n",
      "=====Epoch 4\n",
      "Training...\n"
     ]
    },
    {
     "name": "stderr",
     "output_type": "stream",
     "text": [
      "\n",
      "Iteration: 100%|██████████| 62/62 [00:05<00:00, 11.62it/s]\n",
      "Iteration:  87%|████████▋ | 54/62 [00:02<00:00, 21.92it/s]"
     ]
    },
    {
     "name": "stdout",
     "output_type": "stream",
     "text": [
      "Evaluating...\n"
     ]
    },
    {
     "name": "stderr",
     "output_type": "stream",
     "text": [
      "Iteration:  63%|██████▎   | 39/62 [00:01<00:01, 22.40it/s]\n",
      "Iteration:  82%|████████▏ | 51/62 [00:02<00:00, 21.03it/s]\n",
      "Iteration:  87%|████████▋ | 54/62 [00:02<00:00, 19.91it/s]"
     ]
    },
    {
     "name": "stdout",
     "output_type": "stream",
     "text": [
      "{'Train':  best_epoch_indx:4\n",
      " auc:0.8497919984011834 \n",
      " apur:0.8195285635361613 \n",
      " f1:0.7197802197802198 \n",
      " precision:0.7815063385533184 \n",
      " recall:0.6670910248249523 \n",
      ", 'Validation':  best_epoch_indx:4\n",
      " auc:0.8273687620766659 \n",
      " apur:0.7917543916517711 \n",
      " f1:0.6885856079404465 \n",
      " precision:0.7510148849797023 \n",
      " recall:0.6357388316151202 \n",
      "}\n",
      "Finished training and validating!\n"
     ]
    },
    {
     "name": "stderr",
     "output_type": "stream",
     "text": [
      "Iteration:  68%|██████▊   | 42/62 [00:01<00:00, 24.35it/s]\n",
      "Iteration:  61%|██████▏   | 38/62 [00:03<00:02, 11.03it/s]\n",
      "Iteration:  67%|██████▋   | 12/18 [00:01<00:00, 10.19it/s]"
     ]
    },
    {
     "name": "stdout",
     "output_type": "stream",
     "text": [
      "{'Train':  best_epoch_indx:3\n",
      " auc:0.8358967999861855 \n",
      " apur:0.7996111466352736 \n",
      " f1:0.6851149506016763 \n",
      " precision:0.5418456524959265 \n",
      " recall:0.9313812858052196 \n",
      ", 'Validation':  best_epoch_indx:3\n",
      " auc:0.8314536159610615 \n",
      " apur:0.7922327982948133 \n",
      " f1:0.6919148936170213 \n",
      " precision:0.5504400812457685 \n",
      " recall:0.9312714776632303 \n",
      "}\n",
      "=====Epoch 4\n",
      "Training...\n"
     ]
    },
    {
     "name": "stderr",
     "output_type": "stream",
     "text": [
      "Iteration:  89%|████████▉ | 16/18 [00:01<00:00, 11.49it/s]\n",
      "Iteration:  13%|█▎        | 8/62 [00:00<00:04, 10.91it/s]]\n",
      "Iteration:  77%|███████▋  | 48/62 [00:04<00:01, 11.00it/s]"
     ]
    },
    {
     "name": "stdout",
     "output_type": "stream",
     "text": [
      "{'Test':  best_epoch_indx:4\n",
      " auc:0.8409677279979755 \n",
      " apur:0.8061718155955155 \n",
      " f1:0.7120315581854044 \n",
      " precision:0.7705442902881536 \n",
      " recall:0.6617781851512374 \n",
      "}\n",
      "Finished testing!\n",
      "{'Train':  best_epoch_indx:4\n",
      " auc:0.8578007668219405 \n",
      " apur:0.833121687532475 \n",
      " f1:0.7291709595439246 \n",
      " precision:0.7917661097852029 \n",
      " recall:0.6757479312539784 \n",
      ", 'Validation':  best_epoch_indx:4\n",
      " auc:0.8393586494961065 \n",
      " apur:0.8098370634105424 \n",
      " f1:0.700374531835206 \n",
      " precision:0.7695473251028807 \n",
      " recall:0.6426116838487973 \n",
      "}\n",
      "Finished training and validating!\n"
     ]
    },
    {
     "name": "stderr",
     "output_type": "stream",
     "text": [
      "\n",
      "Iteration: 100%|██████████| 62/62 [00:05<00:00, 11.16it/s]\n",
      "Iteration: 100%|██████████| 18/18 [00:01<00:00, 13.29it/s]"
     ]
    },
    {
     "name": "stdout",
     "output_type": "stream",
     "text": [
      "Evaluating...\n"
     ]
    },
    {
     "name": "stderr",
     "output_type": "stream",
     "text": [
      "Iteration:  15%|█▍        | 9/62 [00:00<00:02, 19.86it/s]]\n",
      "Iteration:  48%|████▊     | 30/62 [00:02<00:02, 10.75it/s]"
     ]
    },
    {
     "name": "stdout",
     "output_type": "stream",
     "text": [
      "{'Test':  best_epoch_indx:4\n",
      " auc:0.8486340211516561 \n",
      " apur:0.8210884659473707 \n",
      " f1:0.7262376237623763 \n",
      " precision:0.7895586652314317 \n",
      " recall:0.6723189734188818 \n",
      "}\n",
      "Finished testing!\n"
     ]
    },
    {
     "name": "stderr",
     "output_type": "stream",
     "text": [
      "Iteration:  58%|█████▊    | 36/62 [00:03<00:02, 10.78it/s]"
     ]
    },
    {
     "name": "stdout",
     "output_type": "stream",
     "text": [
      "<<< joined hyperparam search process\n",
      "released_gpu_num: 1\n"
     ]
    },
    {
     "name": "stderr",
     "output_type": "stream",
     "text": [
      "Iteration:  68%|██████▊   | 42/62 [00:01<00:00, 22.27it/s]"
     ]
    },
    {
     "name": "stdout",
     "output_type": "stream",
     "text": [
      "<<< joined hyperparam search process\n",
      "released_gpu_num: 2\n"
     ]
    },
    {
     "name": "stderr",
     "output_type": "stream",
     "text": [
      "Iteration:  90%|█████████ | 56/62 [00:05<00:00, 11.75it/s]\n",
      "Iteration: 100%|██████████| 62/62 [00:05<00:00, 11.18it/s]\n",
      "Iteration:   0%|          | 0/62 [00:00<?, ?it/s]\n",
      "Iteration:   5%|▍         | 3/62 [00:00<00:02, 21.37it/s]"
     ]
    },
    {
     "name": "stdout",
     "output_type": "stream",
     "text": [
      "Evaluating...\n",
      "{'Train':  best_epoch_indx:4\n",
      " auc:0.8592442474956815 \n",
      " apur:0.827715323136172 \n",
      " f1:0.7446310035142524 \n",
      " precision:0.761682865131141 \n",
      " recall:0.7283259070655633 \n",
      ", 'Validation':  best_epoch_indx:4\n",
      " auc:0.8416534570601008 \n",
      " apur:0.8132628796958081 \n",
      " f1:0.7230215827338129 \n",
      " precision:0.7584905660377359 \n",
      " recall:0.6907216494845361 \n",
      "}\n",
      "Finished training and validating!\n"
     ]
    },
    {
     "name": "stderr",
     "output_type": "stream",
     "text": [
      "Iteration:  68%|██████▊   | 42/62 [00:01<00:00, 23.73it/s]\n",
      "Iteration:  73%|███████▎  | 45/62 [00:01<00:00, 23.35it/s]"
     ]
    },
    {
     "name": "stdout",
     "output_type": "stream",
     "text": [
      "{'Test':  best_epoch_indx:4\n",
      " auc:0.8475422321520361 \n",
      " apur:0.8153814859152384 \n",
      " f1:0.7378190255220417 \n",
      " precision:0.7471804511278195 \n",
      " recall:0.7286892758936755 \n",
      "}\n",
      "Finished testing!\n"
     ]
    },
    {
     "name": "stderr",
     "output_type": "stream",
     "text": [
      "Iteration: 100%|██████████| 62/62 [00:02<00:00, 23.97it/s]\n",
      "Iteration: 100%|██████████| 7/7 [00:00<00:00, 24.96it/s]\n",
      "Iteration:  11%|█         | 2/18 [00:00<00:01, 14.62it/s]"
     ]
    },
    {
     "name": "stdout",
     "output_type": "stream",
     "text": [
      "{'Train':  best_epoch_indx:4\n",
      " auc:0.8521875861543325 \n",
      " apur:0.8182335767885369 \n",
      " f1:0.7386709654307719 \n",
      " precision:0.6955250730829773 \n",
      " recall:0.7875238701464036 \n",
      ", 'Validation':  best_epoch_indx:4\n",
      " auc:0.8450233530416806 \n",
      " apur:0.8079170324114939 \n",
      " f1:0.7244179750947483 \n",
      " precision:0.686858316221766 \n",
      " recall:0.7663230240549829 \n",
      "}\n",
      "Finished training and validating!\n"
     ]
    },
    {
     "name": "stderr",
     "output_type": "stream",
     "text": [
      "Iteration:  44%|████▍     | 8/18 [00:00<00:00, 11.08it/s]"
     ]
    },
    {
     "name": "stdout",
     "output_type": "stream",
     "text": [
      "<<< joined hyperparam search process\n",
      "released_gpu_num: 3\n"
     ]
    },
    {
     "name": "stderr",
     "output_type": "stream",
     "text": [
      "Iteration: 100%|██████████| 18/18 [00:01<00:00, 13.39it/s]\n"
     ]
    },
    {
     "name": "stdout",
     "output_type": "stream",
     "text": [
      "{'Test':  best_epoch_indx:4\n",
      " auc:0.8420648411217783 \n",
      " apur:0.8096406186468994 \n",
      " f1:0.7232472324723247 \n",
      " precision:0.6870103092783505 \n",
      " recall:0.763519706691109 \n",
      "}\n",
      "Finished testing!\n",
      "<<< joined hyperparam search process\n",
      "released_gpu_num: 4\n"
     ]
    }
   ],
   "source": [
    "import torch.multiprocessing as mp\n",
    "mp.set_start_method(\"spawn\", force=True)\n",
    "\n",
    "queue = mp.Queue()\n",
    "q_processes = []\n",
    "\n",
    "# partition = fold_partitions[0]\n",
    "time_stamp = datetime.datetime.now().strftime('%Y-%m-%d_%H-%M-%S')\n",
    "\n",
    "print(\"Start: \" + time_stamp)\n",
    "\n",
    "for q_i in range(min(n_gpu, len(fold_partitions))):\n",
    "#     device_gpu = get_device(True, index=q_i)\n",
    "    partition = fold_partitions[q_i]\n",
    "    exp_dir = create_directory(os.path.join(targetdata_dir_exp, \"fold_\"+str(q_i)+\"_\"+time_stamp))\n",
    "    create_directory(os.path.join(exp_dir, \"predictions\"))\n",
    "    create_directory(os.path.join(exp_dir, \"modelstates\"))\n",
    "\n",
    "\n",
    "#     tphp = generate_tp_hp(tp, hyperparam_space[q_i], hp_names)\n",
    "    \n",
    "    q_process = create_q_process(queue, dataset, q_i, tp, exp_dir, partition)\n",
    "    q_processes.append(q_process)\n",
    "    spawn_q_process(q_process)\n",
    "\n",
    "spawned_processes = n_gpu\n",
    "    \n",
    "# for q_i in range(len(hyperparam_space)):\n",
    "for q_i in range(min(n_gpu, len(fold_partitions))):\n",
    "    join_q_process(q_processes[q_i])\n",
    "    released_gpu_num = queue.get()\n",
    "    print(\"released_gpu_num:\", released_gpu_num)\n",
    "#     if(spawned_processes < len(hyperparam_space)):\n",
    "# #         device_gpu = get_device(True, index=q_i)\n",
    "#         time_stamp = datetime.datetime.now().strftime('%Y-%m-%d_%H-%M-%S')\n",
    "#         exp_dir = create_directory(os.path.join(targetdata_dir_exp, \"exp_\"+str(q_i)+\"_\"+time_stamp))\n",
    "#         tphp = generate_tp_hp(tp, hyperparam_space[q_i], hp_names)\n",
    "\n",
    "#         q_process = create_q_process(queue, used_dataset, released_gpu_num, tphp, exp_dir, partition)\n",
    "#         q_processes.append(q_process)\n",
    "#         spawn_q_process(q_process)\n",
    "#         spawned_processes = spawned_processes + 1"
   ]
  },
  {
   "cell_type": "code",
   "execution_count": 34,
   "metadata": {},
   "outputs": [
    {
     "name": "stdout",
     "output_type": "stream",
     "text": [
      "End: 2022-09-05_12-27-15\n"
     ]
    }
   ],
   "source": [
    "print(\"End: \" + datetime.datetime.now().strftime('%Y-%m-%d_%H-%M-%S'))\n"
   ]
  },
  {
   "cell_type": "code",
   "execution_count": null,
   "metadata": {},
   "outputs": [],
   "source": []
  }
 ],
 "metadata": {
  "kernelspec": {
   "display_name": "Python 3 (ipykernel)",
   "language": "python",
   "name": "python3"
  },
  "language_info": {
   "codemirror_mode": {
    "name": "ipython",
    "version": 3
   },
   "file_extension": ".py",
   "mimetype": "text/x-python",
   "name": "python",
   "nbconvert_exporter": "python",
   "pygments_lexer": "ipython3",
   "version": "3.8.10"
  }
 },
 "nbformat": 4,
 "nbformat_minor": 4
}
