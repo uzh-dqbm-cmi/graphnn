{
 "cells": [
  {
   "cell_type": "code",
   "execution_count": 1,
   "metadata": {},
   "outputs": [],
   "source": [
    "%load_ext autoreload\n",
    "%autoreload 2"
   ]
  },
  {
   "cell_type": "code",
   "execution_count": 2,
   "metadata": {},
   "outputs": [
    {
     "data": {
      "text/plain": [
       "'/cluster/home/skyriakos/pyg_env/bin/python'"
      ]
     },
     "execution_count": 2,
     "metadata": {},
     "output_type": "execute_result"
    }
   ],
   "source": [
    "import sys\n",
    "sys.executable"
   ]
  },
  {
   "cell_type": "code",
   "execution_count": 3,
   "metadata": {},
   "outputs": [
    {
     "name": "stdout",
     "output_type": "stream",
     "text": [
      "/cluster/home/skyriakos/pyg_env/bin/python\r\n"
     ]
    }
   ],
   "source": [
    "!which python"
   ]
  },
  {
   "cell_type": "code",
   "execution_count": 4,
   "metadata": {},
   "outputs": [],
   "source": [
    "import os\n",
    "import sys\n",
    "import numpy as np\n",
    "import pandas as pd\n",
    "import datetime\n",
    "import seaborn as sns\n",
    "import ogb\n",
    "from tqdm import tqdm\n",
    "import hiplot as hip\n",
    "from copy import deepcopy\n",
    "import datetime"
   ]
  },
  {
   "cell_type": "code",
   "execution_count": 5,
   "metadata": {},
   "outputs": [
    {
     "name": "stdout",
     "output_type": "stream",
     "text": [
      "torch.__version__='1.11.0+cu115'\n",
      "torch.__file__='/usr/local/lib/python3.8/dist-packages/torch/__init__.py'\n",
      "torch.cuda.device_count()=5\n",
      "torch.cuda.is_available()=True\n",
      "torch.version.cuda='11.5'\n"
     ]
    }
   ],
   "source": [
    "import torch\n",
    "\n",
    "print(f\"{torch.__version__=}\")\n",
    "print(f\"{torch.__file__=}\")\n",
    "print(f\"{torch.cuda.device_count()=}\")\n",
    "print(f\"{torch.cuda.is_available()=}\")\n",
    "print(f\"{torch.version.cuda=}\")"
   ]
  },
  {
   "cell_type": "code",
   "execution_count": 6,
   "metadata": {},
   "outputs": [],
   "source": [
    "import torch\n",
    "from torch_geometric.data import Data\n",
    "from torch_geometric.loader import DataLoader\n",
    "from torch.utils.data import Subset, TensorDataset"
   ]
  },
  {
   "cell_type": "code",
   "execution_count": 7,
   "metadata": {},
   "outputs": [
    {
     "name": "stdout",
     "output_type": "stream",
     "text": [
      "/cluster/work/medinfmk/lm1-homes/skyriakos-lm1-home/data_to_migrate/chemprop_run/git/notebooks\n",
      "/cluster/work/medinfmk/lm1-homes/skyriakos-lm1-home/data_to_migrate/chemprop_run/git\n"
     ]
    }
   ],
   "source": [
    "cwd = os.getcwd()\n",
    "print(cwd)\n",
    "cwd_parent = os.path.abspath(os.path.join(cwd, os.pardir))\n",
    "print(cwd_parent)\n",
    "\n",
    "sys.path.append(cwd_parent)"
   ]
  },
  {
   "cell_type": "code",
   "execution_count": 8,
   "metadata": {},
   "outputs": [],
   "source": [
    "import deepadr\n",
    "from deepadr.dataset import *\n",
    "from deepadr.utilities import *\n",
    "from deepadr.run_workflow import *\n",
    "from deepadr.chemfeatures import *\n",
    "from deepadr.hyphelperv2 import *\n",
    "from deepadr.model_gnn_ogb import GNN, DeepAdr_SiameseTrf, ExpressionNN\n",
    "# from ogb.graphproppred import Evaluator"
   ]
  },
  {
   "cell_type": "code",
   "execution_count": 9,
   "metadata": {},
   "outputs": [],
   "source": [
    "from rdkit.Chem.Draw import IPythonConsole\n",
    "from rdkit.Chem import Draw"
   ]
  },
  {
   "cell_type": "code",
   "execution_count": 10,
   "metadata": {},
   "outputs": [],
   "source": [
    "rawdata_dir = '../data/raw/'\n",
    "processed_dir = '../data/processed/'\n",
    "up_dir = '..'"
   ]
  },
  {
   "cell_type": "code",
   "execution_count": 11,
   "metadata": {},
   "outputs": [
    {
     "name": "stdout",
     "output_type": "stream",
     "text": [
      "number of GPUs available: 5\n",
      "cuda:0, name:NVIDIA GeForce GTX 1080 Ti\n",
      "total memory available: 10.91656494140625 GB\n",
      "total memory allocated on device: 0.0 GB\n",
      "max memory allocated on device: 0.0 GB\n",
      "total memory cached on device: 0.0 GB\n",
      "max memory cached  on device: 0.0 GB\n",
      "\n",
      "cuda:1, name:NVIDIA GeForce GTX 1080 Ti\n",
      "total memory available: 10.91656494140625 GB\n",
      "total memory allocated on device: 0.0 GB\n",
      "max memory allocated on device: 0.0 GB\n",
      "total memory cached on device: 0.0 GB\n",
      "max memory cached  on device: 0.0 GB\n",
      "\n",
      "cuda:2, name:NVIDIA GeForce GTX 1080 Ti\n",
      "total memory available: 10.91656494140625 GB\n",
      "total memory allocated on device: 0.0 GB\n",
      "max memory allocated on device: 0.0 GB\n",
      "total memory cached on device: 0.0 GB\n",
      "max memory cached  on device: 0.0 GB\n",
      "\n",
      "cuda:3, name:NVIDIA GeForce GTX 1080 Ti\n",
      "total memory available: 10.91656494140625 GB\n",
      "total memory allocated on device: 0.0 GB\n",
      "max memory allocated on device: 0.0 GB\n",
      "total memory cached on device: 0.0 GB\n",
      "max memory cached  on device: 0.0 GB\n",
      "\n",
      "cuda:4, name:NVIDIA GeForce GTX 1080 Ti\n",
      "total memory available: 10.91656494140625 GB\n",
      "total memory allocated on device: 0.0 GB\n",
      "max memory allocated on device: 0.0 GB\n",
      "total memory cached on device: 0.0 GB\n",
      "max memory cached  on device: 0.0 GB\n",
      "\n"
     ]
    }
   ],
   "source": [
    "report_available_cuda_devices()"
   ]
  },
  {
   "cell_type": "code",
   "execution_count": 12,
   "metadata": {},
   "outputs": [
    {
     "data": {
      "text/plain": [
       "5"
      ]
     },
     "execution_count": 12,
     "metadata": {},
     "output_type": "execute_result"
    }
   ],
   "source": [
    "n_gpu = torch.cuda.device_count()\n",
    "# n_gpu = 1\n",
    "n_gpu"
   ]
  },
  {
   "cell_type": "code",
   "execution_count": 13,
   "metadata": {},
   "outputs": [],
   "source": [
    "device_cpu = get_device(to_gpu=False)\n",
    "# device_gpu = get_device(True, index=0)\n",
    "\n",
    "# fdtype = torch.float32"
   ]
  },
  {
   "cell_type": "code",
   "execution_count": 14,
   "metadata": {},
   "outputs": [
    {
     "name": "stdout",
     "output_type": "stream",
     "text": [
      "torch: 1.11.0+cu115\n",
      "CUDA: 11.5\n",
      "3.8.10 (default, Jun 22 2022, 20:18:18) \n",
      "[GCC 9.4.0]\n"
     ]
    }
   ],
   "source": [
    "print(\"torch:\", torch.__version__)\n",
    "print(\"CUDA:\", torch.version.cuda)\n",
    "print(sys.version)"
   ]
  },
  {
   "cell_type": "markdown",
   "metadata": {},
   "source": [
    "### Preparing dataset "
   ]
  },
  {
   "cell_type": "code",
   "execution_count": 15,
   "metadata": {},
   "outputs": [],
   "source": [
    "# options: \n",
    "# 'total_thresh' + 4,3,2\n",
    "# 'loewe_thresh', 'hsa_thresh', 'bliss_thresh', 'zip_thresh' + 1\n",
    "\n",
    "score = 'loewe_thresh'\n",
    "score_val = 1"
   ]
  },
  {
   "cell_type": "code",
   "execution_count": 16,
   "metadata": {},
   "outputs": [],
   "source": [
    "DSdataset_name = f'DrugComb_{score}_{score_val}'\n",
    "\n",
    "data_fname = 'data_v3' # v2 for baseline models, v3 for additive samples"
   ]
  },
  {
   "cell_type": "code",
   "execution_count": 17,
   "metadata": {},
   "outputs": [
    {
     "name": "stdout",
     "output_type": "stream",
     "text": [
      "path_current_dir /cluster/work/medinfmk/lm1-homes/skyriakos-lm1-home/data_to_migrate/chemprop_run/git/deepadr\n",
      "path_current_dir /cluster/work/medinfmk/lm1-homes/skyriakos-lm1-home/data_to_migrate/chemprop_run/git/deepadr\n",
      "path_current_dir /cluster/work/medinfmk/lm1-homes/skyriakos-lm1-home/data_to_migrate/chemprop_run/git/deepadr\n",
      "path_current_dir /cluster/work/medinfmk/lm1-homes/skyriakos-lm1-home/data_to_migrate/chemprop_run/git/deepadr\n",
      "/cluster/work/medinfmk/lm1-homes/skyriakos-lm1-home/data_to_migrate/chemprop_run/git/data/processed/DrugComb_loewe_thresh_1/data_v3\n"
     ]
    }
   ],
   "source": [
    "targetdata_dir = create_directory(os.path.join(processed_dir, DSdataset_name, data_fname))\n",
    "targetdata_dir_raw = create_directory(os.path.join(targetdata_dir, \"raw\"))\n",
    "targetdata_dir_processed = create_directory(os.path.join(targetdata_dir, \"processed\"))\n",
    "targetdata_dir_exp = create_directory(os.path.join(targetdata_dir, \"experiments\"))\n",
    "# # ReaderWriter.dump_data(dpartitions, os.path.join(targetdata_dir, 'data_partitions.pkl'))\n",
    "print(targetdata_dir)"
   ]
  },
  {
   "cell_type": "code",
   "execution_count": 18,
   "metadata": {},
   "outputs": [
    {
     "name": "stdout",
     "output_type": "stream",
     "text": [
      "CPU times: user 2.75 ms, sys: 2.48 s, total: 2.48 s\n",
      "Wall time: 2.49 s\n"
     ]
    }
   ],
   "source": [
    "%%time\n",
    "\n",
    "# Make sure to first run the \"DDoS_Dataset_Generation\" notebook first\n",
    "\n",
    "dataset = MoleculeDataset(root=targetdata_dir)"
   ]
  },
  {
   "cell_type": "code",
   "execution_count": 19,
   "metadata": {},
   "outputs": [],
   "source": [
    "# print()\n",
    "# print(f'Dataset: {dataset}:')\n",
    "# print('====================')\n",
    "# print(f'Number of graphs: {len(dataset)}')\n",
    "# print(f'Number of features: {dataset.num_features}')\n",
    "# print(f'Number of classes: {dataset.num_classes}')"
   ]
  },
  {
   "cell_type": "code",
   "execution_count": 20,
   "metadata": {},
   "outputs": [],
   "source": [
    "# data0 = dataset[0]  # Get the first graph object.\n",
    "# data0"
   ]
  },
  {
   "cell_type": "code",
   "execution_count": 21,
   "metadata": {},
   "outputs": [],
   "source": [
    "used_dataset = dataset\n",
    "\n",
    "# If you want to use a smaller subset of the dataset for testing\n",
    "# smaller_dataset_len = int(len(dataset)/1)\n",
    "# used_dataset = dataset[:smaller_dataset_len]"
   ]
  },
  {
   "cell_type": "code",
   "execution_count": 22,
   "metadata": {},
   "outputs": [
    {
     "data": {
      "text/plain": [
       "deepadr.dataset.MoleculeDataset"
      ]
     },
     "execution_count": 22,
     "metadata": {},
     "output_type": "execute_result"
    }
   ],
   "source": [
    "type(used_dataset)"
   ]
  },
  {
   "cell_type": "code",
   "execution_count": 23,
   "metadata": {},
   "outputs": [
    {
     "data": {
      "text/plain": [
       "tensor([0, 0, 0,  ..., 0, 0, 0], dtype=torch.int32)"
      ]
     },
     "execution_count": 23,
     "metadata": {},
     "output_type": "execute_result"
    }
   ],
   "source": [
    "dataset.data.y"
   ]
  },
  {
   "cell_type": "code",
   "execution_count": 24,
   "metadata": {},
   "outputs": [
    {
     "name": "stdout",
     "output_type": "stream",
     "text": [
      "fold_num: 0\n",
      "train data\n",
      "class: 0 norm count: 0.9474584433484449\n",
      "class: 1 norm count: 0.05254155665155516\n",
      "validation data\n",
      "class: 0 norm count: 0.9474533715925395\n",
      "class: 1 norm count: 0.05254662840746054\n",
      "test data\n",
      "class: 0 norm count: 0.9474640713551257\n",
      "class: 1 norm count: 0.05253592864487434\n",
      "\n",
      "-------------------------\n",
      "fold_num: 1\n",
      "train data\n",
      "class: 0 norm count: 0.9474584433484449\n",
      "class: 1 norm count: 0.05254155665155516\n",
      "validation data\n",
      "class: 0 norm count: 0.9474533715925395\n",
      "class: 1 norm count: 0.05254662840746054\n",
      "test data\n",
      "class: 0 norm count: 0.9474640713551257\n",
      "class: 1 norm count: 0.05253592864487434\n",
      "\n",
      "-------------------------\n",
      "fold_num: 2\n",
      "train data\n",
      "class: 0 norm count: 0.9474617645593584\n",
      "class: 1 norm count: 0.05253823544064166\n",
      "validation data\n",
      "class: 0 norm count: 0.9474533715925395\n",
      "class: 1 norm count: 0.05254662840746054\n",
      "test data\n",
      "class: 0 norm count: 0.9474521150673139\n",
      "class: 1 norm count: 0.0525478849326861\n",
      "\n",
      "-------------------------\n",
      "fold_num: 3\n",
      "train data\n",
      "class: 0 norm count: 0.9474617645593584\n",
      "class: 1 norm count: 0.05253823544064166\n",
      "validation data\n",
      "class: 0 norm count: 0.9474533715925395\n",
      "class: 1 norm count: 0.05254662840746054\n",
      "test data\n",
      "class: 0 norm count: 0.9474521150673139\n",
      "class: 1 norm count: 0.0525478849326861\n",
      "\n",
      "-------------------------\n",
      "fold_num: 4\n",
      "train data\n",
      "class: 0 norm count: 0.9474586178494566\n",
      "class: 1 norm count: 0.052541382150543346\n",
      "validation data\n",
      "class: 0 norm count: 0.9474533715925395\n",
      "class: 1 norm count: 0.05254662840746054\n",
      "test data\n",
      "class: 0 norm count: 0.9474634432129321\n",
      "class: 1 norm count: 0.05253655678706792\n",
      "\n",
      "-------------------------\n"
     ]
    }
   ],
   "source": [
    "fold_partitions = get_stratified_partitions(dataset.data.y,\n",
    "                                            num_folds=5,\n",
    "                                            valid_set_portion=0.1,\n",
    "                                            random_state=42)"
   ]
  },
  {
   "cell_type": "code",
   "execution_count": 25,
   "metadata": {},
   "outputs": [
    {
     "name": "stdout",
     "output_type": "stream",
     "text": [
      "Number of training graphs: 301095\n",
      "Number of validation graphs: 33456\n",
      "Number of testing graphs: 83638\n"
     ]
    }
   ],
   "source": [
    "print(\"Number of training graphs: \"+ str(len(fold_partitions[0]['train'])))\n",
    "print(\"Number of validation graphs: \"+ str(len(fold_partitions[0]['validation'])))\n",
    "print(\"Number of testing graphs: \"+ str(len(fold_partitions[0]['test'])))"
   ]
  },
  {
   "cell_type": "code",
   "execution_count": 26,
   "metadata": {},
   "outputs": [],
   "source": [
    "# print(dataset.num_classes)"
   ]
  },
  {
   "cell_type": "code",
   "execution_count": 27,
   "metadata": {},
   "outputs": [],
   "source": [
    "# training params total_thresh 4\n",
    "tp = {\n",
    "    \"batch_size\" : 300,\n",
    "    \"num_epochs\" : 100,\n",
    "    \n",
    "    \"emb_dim\" : 100,\n",
    "    \"gnn_type\" : \"gatv2\",\n",
    "    \"num_layer\" : 5,\n",
    "    \"graph_pooling\" : \"mean\", #attention\n",
    "    \n",
    "    \"input_embed_dim\" : None,\n",
    "    \"gene_embed_dim\": 1,\n",
    "    \"num_attn_heads\" : 2,\n",
    "    \"num_transformer_units\" : 1,\n",
    "    \"p_dropout\" : 0.3,\n",
    "#     \"nonlin_func\" : nn.ReLU(),\n",
    "    \"mlp_embed_factor\" : 2,\n",
    "    \"pooling_mode\" : 'attn',\n",
    "    \"dist_opt\" : 'cosine',\n",
    "\n",
    "    \"base_lr\" : 3e-4, #3e-4\n",
    "    \"max_lr_mul\": 10,\n",
    "    \"l2_reg\" : 1e-7,\n",
    "    \"loss_w\" : 1.,\n",
    "    \"margin_v\" : 1.,\n",
    "\n",
    "    \"expression_dim\" : 64,\n",
    "    \"expression_input_size\" : 908,\n",
    "    \"exp_H1\" : 4096,\n",
    "    \"exp_H2\" : 1024\n",
    "}"
   ]
  },
  {
   "cell_type": "code",
   "execution_count": 28,
   "metadata": {},
   "outputs": [],
   "source": [
    "# tp = {\n",
    "#     \"batch_size\" : 32,\n",
    "#     \"num_epochs\" : 5,\n",
    "    \n",
    "#     \"emb_dim\" : 100,\n",
    "#     \"gnn_type\" : \"gatv2\",\n",
    "#     \"num_layer\" : 5,\n",
    "#     \"graph_pooling\" : \"mean\", #attention\n",
    "    \n",
    "#     \"input_embed_dim\" : None,\n",
    "#     \"gene_embed_dim\": 20,\n",
    "#     \"num_attn_heads\" : 2,\n",
    "#     \"num_transformer_units\" : 1,\n",
    "#     \"p_dropout\" : 0.3,\n",
    "# #     \"nonlin_func\" : nn.ReLU(),\n",
    "#     \"mlp_embed_factor\" : 2,\n",
    "#     \"pooling_mode\" : 'attn',\n",
    "#     \"dist_opt\" : 'cosine',\n",
    "\n",
    "#     \"base_lr\" : 3e-4, #3e-4\n",
    "#     \"max_lr_mul\": 10,\n",
    "#     \"l2_reg\" : 1e-7,\n",
    "#     \"loss_w\" : 1.,\n",
    "#     \"margin_v\" : 1.,\n",
    "\n",
    "#     \"expression_dim\" : 64,\n",
    "#     \"expression_input_size\" : 908,\n",
    "#     \"exp_H1\" : 4096,\n",
    "#     \"exp_H2\" : 1024\n",
    "# }"
   ]
  },
  {
   "cell_type": "code",
   "execution_count": 29,
   "metadata": {},
   "outputs": [],
   "source": [
    "# # training params total_thresh 3\n",
    "# tp = {\n",
    "#     \"batch_size\" : 300,\n",
    "#     \"num_epochs\" : 200,\n",
    "    \n",
    "#     \"emb_dim\" : 300,\n",
    "#     \"gnn_type\" : \"gatv2\",\n",
    "#     \"num_layer\" : 5,\n",
    "#     \"graph_pooling\" : \"mean\", #attention\n",
    "    \n",
    "#     \"input_embed_dim\" : None,\n",
    "#     \"gene_embed_dim\": 1,\n",
    "#     \"num_attn_heads\" : 2,\n",
    "#     \"num_transformer_units\" : 1,\n",
    "#     \"p_dropout\" : 0.3,\n",
    "# #     \"nonlin_func\" : nn.ReLU(),\n",
    "#     \"mlp_embed_factor\" : 2,\n",
    "#     \"pooling_mode\" : 'attn',\n",
    "#     \"dist_opt\" : 'cosine',\n",
    "\n",
    "#     \"base_lr\" : 3e-5, #3e-4\n",
    "#     \"max_lr_mul\": 10,\n",
    "#     \"l2_reg\" : 1e-8,\n",
    "#     \"loss_w\" : 0.3,\n",
    "#     \"margin_v\" : 1.,\n",
    "\n",
    "#     \"expression_dim\" : 64,\n",
    "#     \"expression_input_size\" : 908,\n",
    "#     \"exp_H1\" : 500,\n",
    "#     \"exp_H2\" : 400\n",
    "# }"
   ]
  },
  {
   "cell_type": "code",
   "execution_count": 30,
   "metadata": {},
   "outputs": [],
   "source": [
    "def spawn_q_process(q_process):\n",
    "    print(\">>> spawning hyperparam search process\")\n",
    "    q_process.start()\n",
    "    \n",
    "def join_q_process(q_process):\n",
    "    q_process.join()\n",
    "    print(\"<<< joined hyperparam search process\")\n",
    "    \n",
    "def create_q_process(queue, used_dataset, gpu_num, tphp, exp_dir, partition):\n",
    "#     fold_gpu_map = {0:gpu_num}\n",
    "    return mp.Process(target=deepadr.hyphelperv2.run_exp, args=(queue, used_dataset, gpu_num, tphp, exp_dir, partition))"
   ]
  },
  {
   "cell_type": "code",
   "execution_count": 31,
   "metadata": {},
   "outputs": [
    {
     "data": {
      "text/plain": [
       "5"
      ]
     },
     "execution_count": 31,
     "metadata": {},
     "output_type": "execute_result"
    }
   ],
   "source": [
    "n_gpu"
   ]
  },
  {
   "cell_type": "code",
   "execution_count": 32,
   "metadata": {},
   "outputs": [
    {
     "data": {
      "text/plain": [
       "range(0, 5)"
      ]
     },
     "execution_count": 32,
     "metadata": {},
     "output_type": "execute_result"
    }
   ],
   "source": [
    "range(min(n_gpu, len(fold_partitions)))"
   ]
  },
  {
   "cell_type": "code",
   "execution_count": null,
   "metadata": {},
   "outputs": [],
   "source": []
  },
  {
   "cell_type": "code",
   "execution_count": 33,
   "metadata": {
    "scrolled": false
   },
   "outputs": [
    {
     "name": "stdout",
     "output_type": "stream",
     "text": [
      "Start: 2022-09-13_16-28-20\n",
      "path_current_dir /cluster/work/medinfmk/lm1-homes/skyriakos-lm1-home/data_to_migrate/chemprop_run/git/deepadr\n",
      "path_current_dir /cluster/work/medinfmk/lm1-homes/skyriakos-lm1-home/data_to_migrate/chemprop_run/git/deepadr\n",
      "path_current_dir /cluster/work/medinfmk/lm1-homes/skyriakos-lm1-home/data_to_migrate/chemprop_run/git/deepadr\n",
      ">>> spawning hyperparam search process\n",
      "path_current_dir /cluster/work/medinfmk/lm1-homes/skyriakos-lm1-home/data_to_migrate/chemprop_run/git/deepadr\n",
      "path_current_dir /cluster/work/medinfmk/lm1-homes/skyriakos-lm1-home/data_to_migrate/chemprop_run/git/deepadr\n",
      "path_current_dir /cluster/work/medinfmk/lm1-homes/skyriakos-lm1-home/data_to_migrate/chemprop_run/git/deepadr\n",
      ">>> spawning hyperparam search process\n",
      "path_current_dir /cluster/work/medinfmk/lm1-homes/skyriakos-lm1-home/data_to_migrate/chemprop_run/git/deepadr\n",
      "path_current_dir /cluster/work/medinfmk/lm1-homes/skyriakos-lm1-home/data_to_migrate/chemprop_run/git/deepadr\n",
      "path_current_dir /cluster/work/medinfmk/lm1-homes/skyriakos-lm1-home/data_to_migrate/chemprop_run/git/deepadr\n",
      ">>> spawning hyperparam search process\n"
     ]
    },
    {
     "name": "stderr",
     "output_type": "stream",
     "text": [
      "\r",
      "Iteration:   0%|          | 0/1004 [00:00<?, ?it/s]"
     ]
    },
    {
     "name": "stdout",
     "output_type": "stream",
     "text": [
      "gpu: cuda:0\n",
      "Dropout(p=0.3, inplace=False) Dropout(p=0.3, inplace=False)\n",
      "=====Epoch 0\n",
      "Training...\n",
      "path_current_dir /cluster/work/medinfmk/lm1-homes/skyriakos-lm1-home/data_to_migrate/chemprop_run/git/deepadr\n",
      "path_current_dir /cluster/work/medinfmk/lm1-homes/skyriakos-lm1-home/data_to_migrate/chemprop_run/git/deepadr\n",
      "path_current_dir /cluster/work/medinfmk/lm1-homes/skyriakos-lm1-home/data_to_migrate/chemprop_run/git/deepadr\n",
      ">>> spawning hyperparam search process\n"
     ]
    },
    {
     "name": "stderr",
     "output_type": "stream",
     "text": [
      "\r",
      "Iteration:   0%|          | 1/1004 [00:04<1:15:13,  4.50s/it]"
     ]
    },
    {
     "name": "stdout",
     "output_type": "stream",
     "text": [
      "gpu: cuda:1\n",
      "Dropout(p=0.3, inplace=False) Dropout(p=0.3, inplace=False)\n",
      "=====Epoch 0\n",
      "Training...\n"
     ]
    },
    {
     "name": "stderr",
     "output_type": "stream",
     "text": [
      "Iteration:   1%|▏         | 14/1004 [00:07<02:46,  5.95it/s] "
     ]
    },
    {
     "name": "stdout",
     "output_type": "stream",
     "text": [
      "path_current_dir /cluster/work/medinfmk/lm1-homes/skyriakos-lm1-home/data_to_migrate/chemprop_run/git/deepadr\n",
      "path_current_dir /cluster/work/medinfmk/lm1-homes/skyriakos-lm1-home/data_to_migrate/chemprop_run/git/deepadr\n",
      "path_current_dir /cluster/work/medinfmk/lm1-homes/skyriakos-lm1-home/data_to_migrate/chemprop_run/git/deepadr\n",
      ">>> spawning hyperparam search process\n"
     ]
    },
    {
     "name": "stderr",
     "output_type": "stream",
     "text": [
      "Iteration:   3%|▎         | 26/1004 [00:09<02:33,  6.36it/s]"
     ]
    },
    {
     "name": "stdout",
     "output_type": "stream",
     "text": [
      "gpu: cuda:2\n",
      "Dropout(p=0.3, inplace=False) Dropout(p=0.3, inplace=False)\n",
      "=====Epoch 0\n",
      "Training...\n"
     ]
    },
    {
     "name": "stderr",
     "output_type": "stream",
     "text": [
      "Iteration:   5%|▌         | 54/1004 [00:13<02:06,  7.53it/s]"
     ]
    },
    {
     "name": "stdout",
     "output_type": "stream",
     "text": [
      "gpu: cuda:3\n",
      "Dropout(p=0.3, inplace=False) Dropout(p=0.3, inplace=False)\n",
      "=====Epoch 0\n",
      "Training...\n"
     ]
    },
    {
     "name": "stderr",
     "output_type": "stream",
     "text": [
      "Iteration:   0%|          | 2/1004 [00:04<38:09,  2.29s/it]]"
     ]
    },
    {
     "name": "stdout",
     "output_type": "stream",
     "text": [
      "gpu: cuda:4\n",
      "Dropout(p=0.3, inplace=False) Dropout(p=0.3, inplace=False)\n",
      "=====Epoch 0\n",
      "Training...\n"
     ]
    },
    {
     "name": "stderr",
     "output_type": "stream",
     "text": [
      "Iteration: 100%|██████████| 1004/1004 [02:08<00:00,  7.79it/s]\n",
      "Iteration:   0%|          | 0/1004 [00:00<?, ?it/s]"
     ]
    },
    {
     "name": "stdout",
     "output_type": "stream",
     "text": [
      "Evaluating...\n"
     ]
    },
    {
     "name": "stderr",
     "output_type": "stream",
     "text": [
      "Iteration: 100%|██████████| 1004/1004 [02:07<00:00,  7.89it/s]\n",
      "Iteration:  79%|███████▉  | 793/1004 [01:58<00:30,  6.93it/s]"
     ]
    },
    {
     "name": "stdout",
     "output_type": "stream",
     "text": [
      "Evaluating...\n"
     ]
    },
    {
     "name": "stderr",
     "output_type": "stream",
     "text": [
      "Iteration: 100%|██████████| 1004/1004 [02:10<00:00,  7.71it/s]\n",
      "Iteration:  93%|█████████▎| 930/1004 [02:01<00:08,  8.84it/s]"
     ]
    },
    {
     "name": "stdout",
     "output_type": "stream",
     "text": [
      "Evaluating...\n"
     ]
    },
    {
     "name": "stderr",
     "output_type": "stream",
     "text": [
      "Iteration: 100%|██████████| 1004/1004 [02:11<00:00,  7.65it/s]\n",
      "Iteration:   0%|          | 0/1004 [00:00<?, ?it/s]"
     ]
    },
    {
     "name": "stdout",
     "output_type": "stream",
     "text": [
      "Evaluating...\n"
     ]
    },
    {
     "name": "stderr",
     "output_type": "stream",
     "text": [
      "Iteration: 100%|██████████| 1004/1004 [02:29<00:00,  6.70it/s]\n",
      "Iteration:  51%|█████▏    | 515/1004 [00:23<00:22, 21.38it/s]"
     ]
    },
    {
     "name": "stdout",
     "output_type": "stream",
     "text": [
      "Evaluating...\n"
     ]
    },
    {
     "name": "stderr",
     "output_type": "stream",
     "text": [
      "Iteration:  66%|██████▌   | 661/1004 [00:30<00:15, 21.46it/s]]\n",
      "Iteration:  92%|█████████▏| 920/1004 [00:42<00:03, 21.35it/s]\n",
      "Iteration:  83%|████████▎ | 830/1004 [00:39<00:09, 17.71it/s]]\n",
      "Iteration:  58%|█████▊    | 582/1004 [00:27<00:23, 17.74it/s]\n",
      "Iteration:  27%|██▋       | 30/112 [00:02<00:06, 12.73it/s]"
     ]
    },
    {
     "name": "stdout",
     "output_type": "stream",
     "text": [
      "{'Train':  best_epoch_indx:0\n",
      " auc:0.8067700666101565 \n",
      " apur:0.1596370589281083 \n",
      " f1:0.19992465151324876 \n",
      " precision:0.11319018661491748 \n",
      " recall:0.8553729456384324 \n",
      ", 'Validation':  best_epoch_indx:0\n",
      " auc:0.7968649630030169 \n",
      " apur:0.15577081346829702 \n",
      " f1:0.19865951742627347 \n",
      " precision:0.1125968697766297 \n",
      " recall:0.8430034129692833 \n",
      "}\n",
      "=====Epoch 1\n",
      "Training...\n"
     ]
    },
    {
     "name": "stderr",
     "output_type": "stream",
     "text": [
      "Iteration:   2%|▏         | 24/1004 [00:02<01:38,  9.91it/s]]\n",
      "Iteration:   0%|          | 1/1004 [00:00<02:19,  7.21it/s]]]"
     ]
    },
    {
     "name": "stdout",
     "output_type": "stream",
     "text": [
      "{'Train':  best_epoch_indx:0\n",
      " auc:0.7971852590614708 \n",
      " apur:0.15147455975221555 \n",
      " f1:0.215019945449861 \n",
      " precision:0.12509174359345443 \n",
      " recall:0.7649178255372946 \n",
      ", 'Validation':  best_epoch_indx:0\n",
      " auc:0.7924910530417505 \n",
      " apur:0.15681085906749853 \n",
      " f1:0.2152777777777778 \n",
      " precision:0.12544701675136458 \n",
      " recall:0.7582480091012515 \n",
      "}\n",
      "=====Epoch 1\n",
      "Training...\n"
     ]
    },
    {
     "name": "stderr",
     "output_type": "stream",
     "text": [
      "Iteration:   9%|▉         | 90/1004 [00:08<01:20, 11.41it/s]]]\n",
      "Iteration:   9%|▉         | 92/1004 [00:08<01:20, 11.29it/s]]"
     ]
    },
    {
     "name": "stdout",
     "output_type": "stream",
     "text": [
      "{'Train':  best_epoch_indx:0\n",
      " auc:0.79726734278048 \n",
      " apur:0.1514606199082066 \n",
      " f1:0.19821697178706388 \n",
      " precision:0.11212292265037438 \n",
      " recall:0.8538466401163158 \n",
      ", 'Validation':  best_epoch_indx:0\n",
      " auc:0.7961834476552785 \n",
      " apur:0.15693337057998571 \n",
      " f1:0.1960371272463959 \n",
      " precision:0.11084642298816348 \n",
      " recall:0.8469852104664392 \n",
      "}\n",
      "=====Epoch 1\n",
      "Training...\n"
     ]
    },
    {
     "name": "stderr",
     "output_type": "stream",
     "text": [
      "Iteration:   0%|          | 5/1004 [00:00<01:30, 11.04it/s]s]\n",
      "Iteration:  20%|██        | 201/1004 [00:19<01:22,  9.73it/s]\n",
      "Iteration:   0%|          | 1/1004 [00:00<02:13,  7.53it/s]s]"
     ]
    },
    {
     "name": "stdout",
     "output_type": "stream",
     "text": [
      "{'Train':  best_epoch_indx:0\n",
      " auc:0.7995814413380923 \n",
      " apur:0.15406992227692512 \n",
      " f1:0.18416004030721334 \n",
      " precision:0.10256059744875567 \n",
      " recall:0.9010745891276865 \n",
      ", 'Validation':  best_epoch_indx:0\n",
      " auc:0.793301271649945 \n",
      " apur:0.1535386988491003 \n",
      " f1:0.18112943644734542 \n",
      " precision:0.10090253879618206 \n",
      " recall:0.8839590443686007 \n",
      "}\n",
      "=====Epoch 1\n",
      "Training...\n"
     ]
    },
    {
     "name": "stderr",
     "output_type": "stream",
     "text": [
      "Iteration:  24%|██▍       | 243/1004 [00:20<01:04, 11.86it/s]]\n",
      "Iteration:  38%|███▊      | 377/1004 [00:31<00:51, 12.08it/s]\n",
      "Iteration:  35%|███▌      | 354/1004 [00:34<00:55, 11.76it/s]"
     ]
    },
    {
     "name": "stdout",
     "output_type": "stream",
     "text": [
      "{'Train':  best_epoch_indx:0\n",
      " auc:0.8036407923716673 \n",
      " apur:0.15747353421175775 \n",
      " f1:0.2010493148241729 \n",
      " precision:0.11391637542633375 \n",
      " recall:0.855110942537455 \n",
      ", 'Validation':  best_epoch_indx:0\n",
      " auc:0.7977158814152707 \n",
      " apur:0.15565335366298455 \n",
      " f1:0.1990950226244344 \n",
      " precision:0.11295884742125833 \n",
      " recall:0.838452787258248 \n",
      "}\n",
      "=====Epoch 1\n",
      "Training...\n"
     ]
    },
    {
     "name": "stderr",
     "output_type": "stream",
     "text": [
      "Iteration: 100%|██████████| 1004/1004 [01:23<00:00, 11.98it/s]\n",
      "Iteration:  73%|███████▎  | 737/1004 [01:06<00:21, 12.16it/s]"
     ]
    },
    {
     "name": "stdout",
     "output_type": "stream",
     "text": [
      "Evaluating...\n"
     ]
    },
    {
     "name": "stderr",
     "output_type": "stream",
     "text": [
      "Iteration: 100%|██████████| 1004/1004 [01:32<00:00, 10.82it/s]\n",
      "Iteration:  14%|█▍        | 145/1004 [00:06<00:39, 21.97it/s]"
     ]
    },
    {
     "name": "stdout",
     "output_type": "stream",
     "text": [
      "Evaluating...\n"
     ]
    },
    {
     "name": "stderr",
     "output_type": "stream",
     "text": [
      "Iteration: 100%|██████████| 1004/1004 [01:26<00:00, 11.64it/s]\n",
      "Iteration:  83%|████████▎ | 834/1004 [01:14<00:16, 10.31it/s]"
     ]
    },
    {
     "name": "stdout",
     "output_type": "stream",
     "text": [
      "Evaluating...\n"
     ]
    },
    {
     "name": "stderr",
     "output_type": "stream",
     "text": [
      "Iteration:  32%|███▏      | 319/1004 [00:16<00:34, 20.08it/s]]\n",
      "Iteration:   0%|          | 2/1004 [00:00<01:16, 13.16it/s]s]"
     ]
    },
    {
     "name": "stdout",
     "output_type": "stream",
     "text": [
      "Evaluating...\n"
     ]
    },
    {
     "name": "stderr",
     "output_type": "stream",
     "text": [
      "Iteration: 100%|██████████| 1004/1004 [01:21<00:00, 12.38it/s]\n",
      "Iteration:  13%|█▎        | 126/1004 [00:05<00:39, 22.13it/s]"
     ]
    },
    {
     "name": "stdout",
     "output_type": "stream",
     "text": [
      "Evaluating...\n"
     ]
    },
    {
     "name": "stderr",
     "output_type": "stream",
     "text": [
      "Iteration:  57%|█████▋    | 575/1004 [00:27<00:20, 20.79it/s]]\n",
      "Iteration:  53%|█████▎    | 536/1004 [00:27<00:28, 16.63it/s]]\n",
      "Iteration:  69%|██████▉   | 697/1004 [00:33<00:15, 20.08it/s]"
     ]
    },
    {
     "name": "stdout",
     "output_type": "stream",
     "text": [
      "{'Train':  best_epoch_indx:1\n",
      " auc:0.8203817419060566 \n",
      " apur:0.18975222727513147 \n",
      " f1:0.22711053956639077 \n",
      " precision:0.13254476649542293 \n",
      " recall:0.7926042983565107 \n",
      ", 'Validation':  best_epoch_indx:1\n",
      " auc:0.8207716654137299 \n",
      " apur:0.19571911557374477 \n",
      " f1:0.22835224026768952 \n",
      " precision:0.13330157217722724 \n",
      " recall:0.7957906712172924 \n",
      "}\n",
      "=====Epoch 2\n",
      "Training...\n"
     ]
    },
    {
     "name": "stderr",
     "output_type": "stream",
     "text": [
      "Iteration:  57%|█████▋    | 568/1004 [00:29<00:25, 17.39it/s]\n",
      "Iteration:  57%|█████▋    | 572/1004 [00:29<00:24, 17.39it/s]\n",
      "Iteration:   8%|▊         | 78/1004 [00:07<01:20, 11.50it/s]]\n",
      "Iteration:  68%|██████▊   | 681/1004 [00:35<00:18, 17.80it/s]"
     ]
    },
    {
     "name": "stdout",
     "output_type": "stream",
     "text": [
      "{'Train':  best_epoch_indx:1\n",
      " auc:0.8115553073130661 \n",
      " apur:0.1761352654994756 \n",
      " f1:0.2249571214830493 \n",
      " precision:0.1314490420393846 \n",
      " recall:0.7793792275112207 \n",
      ", 'Validation':  best_epoch_indx:1\n",
      " auc:0.812277366867675 \n",
      " apur:0.17885325203473404 \n",
      " f1:0.22523188048920628 \n",
      " precision:0.13160671462829737 \n",
      " recall:0.7804323094425484 \n",
      "}\n",
      "=====Epoch 2\n",
      "Training...\n",
      "{'Train':  best_epoch_indx:1\n",
      " auc:0.8207308734967624 \n",
      " apur:0.18906469648403945 \n",
      " f1:0.218847338911993 \n",
      " precision:0.1262358448419867 \n",
      " recall:0.8216182048040455 \n",
      ", 'Validation':  best_epoch_indx:1\n",
      " auc:0.8097072944744237 \n",
      " apur:0.17894675743496608 \n",
      " f1:0.21662468513853905 \n",
      " precision:0.12509918011108173 \n",
      " recall:0.8071672354948806 \n",
      "}\n",
      "=====Epoch 2\n",
      "Training...\n"
     ]
    },
    {
     "name": "stderr",
     "output_type": "stream",
     "text": [
      "\n",
      "Iteration:   9%|▉         | 94/1004 [00:09<01:31,  9.94it/s]]]\n",
      "Iteration:  98%|█████████▊| 987/1004 [00:50<00:00, 21.05it/s]\n",
      "Iteration:   0%|          | 1/1004 [00:00<01:57,  8.56it/s]s]"
     ]
    },
    {
     "name": "stdout",
     "output_type": "stream",
     "text": [
      "{'Train':  best_epoch_indx:1\n",
      " auc:0.8206872548241213 \n",
      " apur:0.18721629724678493 \n",
      " f1:0.2195438811174158 \n",
      " precision:0.12655206732952623 \n",
      " recall:0.8278761061946903 \n",
      ", 'Validation':  best_epoch_indx:1\n",
      " auc:0.8151929658822946 \n",
      " apur:0.1892318009529923 \n",
      " f1:0.21961977186311787 \n",
      " precision:0.1267556179775281 \n",
      " recall:0.8213879408418657 \n",
      "}\n",
      "=====Epoch 2\n",
      "Training...\n"
     ]
    },
    {
     "name": "stderr",
     "output_type": "stream",
     "text": [
      "Iteration:  23%|██▎       | 230/1004 [00:18<01:02, 12.39it/s]]\n",
      "Iteration:  10%|▉         | 97/1004 [00:08<01:29, 10.13it/s]]\n",
      "Iteration:  37%|███▋      | 368/1004 [00:31<00:52, 12.03it/s]"
     ]
    },
    {
     "name": "stdout",
     "output_type": "stream",
     "text": [
      "{'Train':  best_epoch_indx:1\n",
      " auc:0.8212720656872179 \n",
      " apur:0.18439558132976464 \n",
      " f1:0.22718355740330795 \n",
      " precision:0.13244567555373687 \n",
      " recall:0.7979644731019659 \n",
      ", 'Validation':  best_epoch_indx:1\n",
      " auc:0.8132530944233302 \n",
      " apur:0.18334454134965478 \n",
      " f1:0.22077816586792295 \n",
      " precision:0.12877854638491423 \n",
      " recall:0.773037542662116 \n",
      "}\n",
      "=====Epoch 2\n",
      "Training...\n"
     ]
    },
    {
     "name": "stderr",
     "output_type": "stream",
     "text": [
      "Iteration: 100%|██████████| 1004/1004 [01:22<00:00, 12.15it/s]\n",
      "Iteration:  65%|██████▌   | 655/1004 [01:07<00:32, 10.71it/s]"
     ]
    },
    {
     "name": "stdout",
     "output_type": "stream",
     "text": [
      "Evaluating...\n"
     ]
    },
    {
     "name": "stderr",
     "output_type": "stream",
     "text": [
      "Iteration: 100%|██████████| 1004/1004 [01:32<00:00, 10.82it/s]\n",
      "Iteration:   6%|▌         | 58/1004 [00:02<00:43, 21.66it/s]]"
     ]
    },
    {
     "name": "stdout",
     "output_type": "stream",
     "text": [
      "Evaluating...\n"
     ]
    },
    {
     "name": "stderr",
     "output_type": "stream",
     "text": [
      "Iteration: 100%|██████████| 1004/1004 [01:32<00:00, 10.81it/s]\n",
      "Iteration:  17%|█▋        | 166/1004 [00:07<00:41, 20.15it/s]"
     ]
    },
    {
     "name": "stdout",
     "output_type": "stream",
     "text": [
      "Evaluating...\n"
     ]
    },
    {
     "name": "stderr",
     "output_type": "stream",
     "text": [
      "Iteration:  55%|█████▌    | 557/1004 [00:26<00:20, 21.32it/s]]\n",
      "Iteration:  50%|████▉     | 497/1004 [00:23<00:24, 20.50it/s]"
     ]
    },
    {
     "name": "stdout",
     "output_type": "stream",
     "text": [
      "Evaluating...\n"
     ]
    },
    {
     "name": "stderr",
     "output_type": "stream",
     "text": [
      "Iteration: 100%|██████████| 1004/1004 [01:38<00:00, 10.15it/s]\n",
      "Iteration:  67%|██████▋   | 668/1004 [00:31<00:16, 20.50it/s]"
     ]
    },
    {
     "name": "stdout",
     "output_type": "stream",
     "text": [
      "Evaluating...\n"
     ]
    },
    {
     "name": "stderr",
     "output_type": "stream",
     "text": [
      "Iteration:  80%|████████  | 806/1004 [00:39<00:09, 21.04it/s]]\n",
      "Iteration:  66%|██████▌   | 74/112 [00:03<00:01, 21.32it/s]s]]\n",
      "Iteration:  40%|████      | 45/112 [00:02<00:03, 21.15it/s]s]\n",
      "Iteration:  60%|██████    | 603/1004 [00:29<00:19, 20.98it/s]"
     ]
    },
    {
     "name": "stdout",
     "output_type": "stream",
     "text": [
      "{'Train':  best_epoch_indx:2\n",
      " auc:0.8270375874899195 \n",
      " apur:0.20267149991145328 \n",
      " f1:0.23262056836064054 \n",
      " precision:0.1362635694223032 \n",
      " recall:0.7942979960806625 \n",
      ", 'Validation':  best_epoch_indx:2\n",
      " auc:0.8296646174638336 \n",
      " apur:0.21578149227494953 \n",
      " f1:0.23483398518765083 \n",
      " precision:0.13753777171264256 \n",
      " recall:0.8026166097838453 \n",
      "}\n",
      "=====Epoch 3\n",
      "Training...\n"
     ]
    },
    {
     "name": "stderr",
     "output_type": "stream",
     "text": [
      "Iteration:  99%|█████████▉| 994/1004 [00:48<00:00, 19.65it/s]\n",
      "Iteration:   4%|▍         | 39/1004 [00:03<01:23, 11.60it/s]]"
     ]
    },
    {
     "name": "stdout",
     "output_type": "stream",
     "text": [
      "{'Train':  best_epoch_indx:2\n",
      " auc:0.8302971917774906 \n",
      " apur:0.20703306036619165 \n",
      " f1:0.2242970288731509 \n",
      " precision:0.12929127010966712 \n",
      " recall:0.8458280657395701 \n",
      ", 'Validation':  best_epoch_indx:2\n",
      " auc:0.8256513799063991 \n",
      " apur:0.20326301709602795 \n",
      " f1:0.22247411773596312 \n",
      " precision:0.12827886710239653 \n",
      " recall:0.8373151308304891 \n",
      "}\n",
      "=====Epoch 3\n",
      "Training...\n"
     ]
    },
    {
     "name": "stderr",
     "output_type": "stream",
     "text": [
      "Iteration:   3%|▎         | 32/1004 [00:02<01:21, 11.95it/s]]]\n",
      "Iteration:  14%|█▎        | 137/1004 [00:11<01:27,  9.96it/s]\n",
      "Iteration:   0%|          | 1/1004 [00:00<01:59,  8.37it/s]s]"
     ]
    },
    {
     "name": "stdout",
     "output_type": "stream",
     "text": [
      "{'Train':  best_epoch_indx:2\n",
      " auc:0.8298581605723224 \n",
      " apur:0.2058169264775819 \n",
      " f1:0.23972403070644252 \n",
      " precision:0.14163509013664025 \n",
      " recall:0.7797092288242731 \n",
      ", 'Validation':  best_epoch_indx:2\n",
      " auc:0.8200042462026617 \n",
      " apur:0.1981118304637382 \n",
      " f1:0.23432954244908752 \n",
      " precision:0.13865414710485133 \n",
      " recall:0.7559726962457338 \n",
      "}\n",
      "=====Epoch 3\n",
      "Training...\n"
     ]
    },
    {
     "name": "stderr",
     "output_type": "stream",
     "text": [
      "Iteration:  95%|█████████▍| 950/1004 [00:46<00:02, 20.32it/s]]\n",
      "Iteration:  19%|█▉        | 191/1004 [00:15<01:04, 12.61it/s]]\n",
      "Iteration:  28%|██▊       | 282/1004 [00:24<01:05, 11.05it/s]\n",
      "Iteration:   0%|          | 1/1004 [00:00<02:20,  7.15it/s]s]"
     ]
    },
    {
     "name": "stdout",
     "output_type": "stream",
     "text": [
      "{'Train':  best_epoch_indx:2\n",
      " auc:0.830295835753382 \n",
      " apur:0.2049957872385257 \n",
      " f1:0.21998360269824907 \n",
      " precision:0.1261967738330291 \n",
      " recall:0.856564890321765 \n",
      ", 'Validation':  best_epoch_indx:2\n",
      " auc:0.8250720268093271 \n",
      " apur:0.20607025445009133 \n",
      " f1:0.21776672032782088 \n",
      " precision:0.12495801142089352 \n",
      " recall:0.8464163822525598 \n",
      "}\n",
      "=====Epoch 3\n",
      "Training...\n"
     ]
    },
    {
     "name": "stderr",
     "output_type": "stream",
     "text": [
      "Iteration:  26%|██▌       | 261/1004 [00:21<00:58, 12.67it/s]\n",
      "Iteration:  34%|███▍      | 342/1004 [00:29<00:57, 11.43it/s]"
     ]
    },
    {
     "name": "stdout",
     "output_type": "stream",
     "text": [
      "{'Train':  best_epoch_indx:2\n",
      " auc:0.8316606825312507 \n",
      " apur:0.2145201754093829 \n",
      " f1:0.22378292098962493 \n",
      " precision:0.12904132151334594 \n",
      " recall:0.8419089759797724 \n",
      ", 'Validation':  best_epoch_indx:2\n",
      " auc:0.8230032995553672 \n",
      " apur:0.21042407598730295 \n",
      " f1:0.22196813781538224 \n",
      " precision:0.1281577325939618 \n",
      " recall:0.8282138794084186 \n",
      "}\n",
      "=====Epoch 3\n",
      "Training...\n"
     ]
    },
    {
     "name": "stderr",
     "output_type": "stream",
     "text": [
      "Iteration: 100%|██████████| 1004/1004 [01:24<00:00, 11.93it/s]\n",
      "Iteration:   0%|          | 2/1004 [00:00<01:01, 16.31it/s]s]"
     ]
    },
    {
     "name": "stdout",
     "output_type": "stream",
     "text": [
      "Evaluating...\n"
     ]
    },
    {
     "name": "stderr",
     "output_type": "stream",
     "text": [
      "Iteration: 100%|██████████| 1004/1004 [01:28<00:00, 11.31it/s]\n",
      "Iteration:   2%|▏         | 25/1004 [00:01<00:46, 20.89it/s]]"
     ]
    },
    {
     "name": "stdout",
     "output_type": "stream",
     "text": [
      "Evaluating...\n"
     ]
    },
    {
     "name": "stderr",
     "output_type": "stream",
     "text": [
      "Iteration: 100%|██████████| 1004/1004 [01:33<00:00, 10.76it/s]\n",
      "Iteration:   0%|          | 0/1004 [00:00<?, ?it/s]"
     ]
    },
    {
     "name": "stdout",
     "output_type": "stream",
     "text": [
      "Evaluating...\n"
     ]
    },
    {
     "name": "stderr",
     "output_type": "stream",
     "text": [
      "Iteration:  55%|█████▌    | 553/1004 [00:28<00:22, 20.02it/s]]\n",
      "Iteration:  22%|██▏       | 221/1004 [00:10<00:37, 20.72it/s]"
     ]
    },
    {
     "name": "stdout",
     "output_type": "stream",
     "text": [
      "Evaluating...\n"
     ]
    },
    {
     "name": "stderr",
     "output_type": "stream",
     "text": [
      "Iteration: 100%|██████████| 1004/1004 [01:25<00:00, 11.72it/s]\n",
      "Iteration:   0%|          | 0/1004 [00:00<?, ?it/s]"
     ]
    },
    {
     "name": "stdout",
     "output_type": "stream",
     "text": [
      "Evaluating...\n"
     ]
    },
    {
     "name": "stderr",
     "output_type": "stream",
     "text": [
      "Iteration:  46%|████▌     | 457/1004 [00:22<00:25, 21.69it/s]]\n",
      "Iteration:  70%|███████   | 707/1004 [00:36<00:13, 21.70it/s]\n",
      "Iteration:  62%|██████▏   | 621/1004 [00:31<00:18, 21.18it/s]\n",
      "Iteration:   0%|          | 1/1004 [00:00<02:03,  8.09it/s]]]"
     ]
    },
    {
     "name": "stdout",
     "output_type": "stream",
     "text": [
      "{'Train':  best_epoch_indx:3\n",
      " auc:0.8336018804860057 \n",
      " apur:0.2191314893675866 \n",
      " f1:0.2207141365629568 \n",
      " precision:0.12641795850775106 \n",
      " recall:0.8686389784436437 \n",
      ", 'Validation':  best_epoch_indx:3\n",
      " auc:0.832403734016803 \n",
      " apur:0.23047692481798035 \n",
      " f1:0.22103050945720704 \n",
      " precision:0.1266506104144174 \n",
      " recall:0.8674630261660978 \n",
      "}\n",
      "=====Epoch 4\n",
      "Training...\n"
     ]
    },
    {
     "name": "stderr",
     "output_type": "stream",
     "text": [
      "Iteration:  83%|████████▎ | 838/1004 [00:42<00:08, 19.17it/s]\n",
      "Iteration:  84%|████████▍ | 841/1004 [00:42<00:08, 19.56it/s]"
     ]
    },
    {
     "name": "stdout",
     "output_type": "stream",
     "text": [
      "{'Train':  best_epoch_indx:3\n",
      " auc:0.8383325700654137 \n",
      " apur:0.22304217889938516 \n",
      " f1:0.21016366478725057 \n",
      " precision:0.11903383102114123 \n",
      " recall:0.8965233881163085 \n",
      ", 'Validation':  best_epoch_indx:3\n",
      " auc:0.8361082147493937 \n",
      " apur:0.23113317118058313 \n",
      " f1:0.2091459761698729 \n",
      " precision:0.11843196381454957 \n",
      " recall:0.8936291240045506 \n",
      "}\n",
      "=====Epoch 4\n",
      "Training...\n"
     ]
    },
    {
     "name": "stderr",
     "output_type": "stream",
     "text": [
      "Iteration:  12%|█▏        | 121/1004 [00:10<01:12, 12.23it/s]]\n",
      "Iteration:  97%|█████████▋| 974/1004 [00:47<00:01, 21.83it/s]\n",
      "Iteration:  97%|█████████▋| 977/1004 [00:47<00:01, 21.36it/s]"
     ]
    },
    {
     "name": "stdout",
     "output_type": "stream",
     "text": [
      "{'Train':  best_epoch_indx:3\n",
      " auc:0.8291714258459995 \n",
      " apur:0.21617728446439066 \n",
      " f1:0.22168948436729952 \n",
      " precision:0.1277226483921576 \n",
      " recall:0.838811630847029 \n",
      ", 'Validation':  best_epoch_indx:3\n",
      " auc:0.8155094032698094 \n",
      " apur:0.20767866829918658 \n",
      " f1:0.21740453369846338 \n",
      " precision:0.1254829645240604 \n",
      " recall:0.8128555176336746 \n",
      "}\n",
      "=====Epoch 4\n",
      "Training...\n"
     ]
    },
    {
     "name": "stderr",
     "output_type": "stream",
     "text": [
      "Iteration:   4%|▍         | 43/1004 [00:03<01:23, 11.57it/s]]]\n",
      "Iteration:  70%|██████▉   | 78/112 [00:03<00:01, 21.92it/s]]]]\n",
      "Iteration:  30%|██▉       | 299/1004 [00:25<00:56, 12.38it/s]"
     ]
    },
    {
     "name": "stdout",
     "output_type": "stream",
     "text": [
      "{'Train':  best_epoch_indx:3\n",
      " auc:0.8209949086552668 \n",
      " apur:0.19803217136380685 \n",
      " f1:0.22889789900479174 \n",
      " precision:0.13397913722613564 \n",
      " recall:0.7851318035274037 \n",
      ", 'Validation':  best_epoch_indx:3\n",
      " auc:0.8144460670530348 \n",
      " apur:0.1943296451142703 \n",
      " f1:0.2270756918972991 \n",
      " precision:0.13303379566321547 \n",
      " recall:0.7747440273037542 \n",
      "}\n",
      "=====Epoch 4\n",
      "Training...\n"
     ]
    },
    {
     "name": "stderr",
     "output_type": "stream",
     "text": [
      "\n",
      "Iteration:  31%|███▏      | 316/1004 [00:28<01:07, 10.17it/s]\n",
      "Iteration:  32%|███▏      | 318/1004 [00:28<01:07, 10.19it/s]"
     ]
    },
    {
     "name": "stdout",
     "output_type": "stream",
     "text": [
      "{'Train':  best_epoch_indx:3\n",
      " auc:0.8335826140706925 \n",
      " apur:0.2173823086469427 \n",
      " f1:0.22913904974534288 \n",
      " precision:0.13290639796042247 \n",
      " recall:0.8304045512010114 \n",
      ", 'Validation':  best_epoch_indx:3\n",
      " auc:0.8226052920799545 \n",
      " apur:0.20459408144142333 \n",
      " f1:0.22547861025762234 \n",
      " precision:0.1308641975308642 \n",
      " recall:0.8139931740614335 \n",
      "}\n",
      "=====Epoch 4\n",
      "Training...\n"
     ]
    },
    {
     "name": "stderr",
     "output_type": "stream",
     "text": [
      "Iteration: 100%|██████████| 1004/1004 [01:26<00:00, 11.60it/s]\n",
      "Iteration:  72%|███████▏  | 719/1004 [00:57<00:22, 12.71it/s]"
     ]
    },
    {
     "name": "stdout",
     "output_type": "stream",
     "text": [
      "Evaluating...\n"
     ]
    },
    {
     "name": "stderr",
     "output_type": "stream",
     "text": [
      "Iteration: 100%|██████████| 1004/1004 [01:31<00:00, 10.99it/s]\n",
      "Iteration:   0%|          | 0/1004 [00:00<?, ?it/s]"
     ]
    },
    {
     "name": "stdout",
     "output_type": "stream",
     "text": [
      "Evaluating...\n"
     ]
    },
    {
     "name": "stderr",
     "output_type": "stream",
     "text": [
      "Iteration: 100%|██████████| 1004/1004 [01:28<00:00, 11.31it/s]\n",
      "Iteration:  28%|██▊       | 277/1004 [00:13<00:35, 20.64it/s]"
     ]
    },
    {
     "name": "stdout",
     "output_type": "stream",
     "text": [
      "Evaluating...\n"
     ]
    },
    {
     "name": "stderr",
     "output_type": "stream",
     "text": [
      "Iteration: 100%|██████████| 1004/1004 [01:20<00:00, 12.50it/s]\n",
      "Iteration:  51%|█████     | 508/1004 [00:23<00:22, 22.07it/s]"
     ]
    },
    {
     "name": "stdout",
     "output_type": "stream",
     "text": [
      "Evaluating...\n"
     ]
    },
    {
     "name": "stderr",
     "output_type": "stream",
     "text": [
      "Iteration: 100%|██████████| 1004/1004 [01:35<00:00, 10.52it/s]\n",
      "Iteration:  60%|██████    | 603/1004 [00:29<00:20, 19.67it/s]"
     ]
    },
    {
     "name": "stdout",
     "output_type": "stream",
     "text": [
      "Evaluating...\n"
     ]
    },
    {
     "name": "stderr",
     "output_type": "stream",
     "text": [
      "Iteration:  57%|█████▋    | 577/1004 [00:27<00:19, 22.38it/s]]\n",
      "Iteration:  70%|██████▉   | 699/1004 [00:32<00:14, 20.98it/s]]\n",
      "Iteration:   0%|          | 1/1004 [00:00<02:21,  7.09it/s]s]"
     ]
    },
    {
     "name": "stdout",
     "output_type": "stream",
     "text": [
      "{'Train':  best_epoch_indx:4\n",
      " auc:0.8312871281419077 \n",
      " apur:0.21733880257017635 \n",
      " f1:0.18513895770743305 \n",
      " precision:0.10276567004135972 \n",
      " recall:0.9329919716796258 \n",
      ", 'Validation':  best_epoch_indx:4\n",
      " auc:0.8299914002821421 \n",
      " apur:0.22163485157963705 \n",
      " f1:0.18511202663807214 \n",
      " precision:0.10275045423219097 \n",
      " recall:0.9328782707622298 \n",
      "}\n",
      "=====Epoch 5\n",
      "Training...\n"
     ]
    },
    {
     "name": "stderr",
     "output_type": "stream",
     "text": [
      "Iteration:  73%|███████▎  | 735/1004 [00:34<00:12, 21.15it/s]\n",
      "Iteration:   7%|▋         | 73/1004 [00:07<01:28, 10.50it/s]]"
     ]
    },
    {
     "name": "stdout",
     "output_type": "stream",
     "text": [
      "{'Train':  best_epoch_indx:4\n",
      " auc:0.8280358584509524 \n",
      " apur:0.20921598917129203 \n",
      " f1:0.23240619749859998 \n",
      " precision:0.13633377135348226 \n",
      " recall:0.7869785082174463 \n",
      ", 'Validation':  best_epoch_indx:4\n",
      " auc:0.8209478069158227 \n",
      " apur:0.20993020960458175 \n",
      " f1:0.2264942914707858 \n",
      " precision:0.13285404766594447 \n",
      " recall:0.767349260523322 \n",
      "}\n",
      "=====Epoch 5\n",
      "Training...\n"
     ]
    },
    {
     "name": "stderr",
     "output_type": "stream",
     "text": [
      "\n",
      "Iteration:  69%|██████▊   | 688/1004 [00:35<00:15, 20.97it/s]]\n",
      "Iteration:  19%|█▉        | 190/1004 [00:17<01:24,  9.64it/s]]\n",
      "Iteration:  21%|██▏       | 214/1004 [00:20<01:19,  9.95it/s]\n",
      "Iteration:  16%|█▌        | 157/1004 [00:13<01:12, 11.64it/s]"
     ]
    },
    {
     "name": "stdout",
     "output_type": "stream",
     "text": [
      "{'Train':  best_epoch_indx:4\n",
      " auc:0.8348849073370661 \n",
      " apur:0.21928635797885032 \n",
      " f1:0.2259788900238338 \n",
      " precision:0.13057249655715128 \n",
      " recall:0.8390644753476612 \n",
      ", 'Validation':  best_epoch_indx:4\n",
      " auc:0.8203300420327766 \n",
      " apur:0.21252648048222877 \n",
      " f1:0.22080320049238344 \n",
      " precision:0.12766903914590746 \n",
      " recall:0.8162684869169511 \n",
      "}\n",
      "=====Epoch 5\n",
      "Training...\n"
     ]
    },
    {
     "name": "stderr",
     "output_type": "stream",
     "text": [
      "Iteration:  87%|████████▋ | 869/1004 [00:44<00:06, 20.04it/s]\n",
      "Iteration:  87%|████████▋ | 872/1004 [00:44<00:06, 20.15it/s]"
     ]
    },
    {
     "name": "stdout",
     "output_type": "stream",
     "text": [
      "{'Train':  best_epoch_indx:4\n",
      " auc:0.8299482107987282 \n",
      " apur:0.20948921827975348 \n",
      " f1:0.21885885094574228 \n",
      " precision:0.12582016493244585 \n",
      " recall:0.8400126422250316 \n",
      ", 'Validation':  best_epoch_indx:4\n",
      " auc:0.8190423095638582 \n",
      " apur:0.21587664953719365 \n",
      " f1:0.21764442454097627 \n",
      " precision:0.12525773195876289 \n",
      " recall:0.8293515358361775 \n",
      "}\n",
      "=====Epoch 5\n",
      "Training...\n"
     ]
    },
    {
     "name": "stderr",
     "output_type": "stream",
     "text": [
      "Iteration:  11%|█         | 110/1004 [00:12<01:41,  8.78it/s]]\n",
      "Iteration:  17%|█▋        | 173/1004 [00:14<01:15, 11.06it/s]\n",
      "Iteration:  17%|█▋        | 175/1004 [00:14<01:15, 11.03it/s]"
     ]
    },
    {
     "name": "stdout",
     "output_type": "stream",
     "text": [
      "{'Train':  best_epoch_indx:4\n",
      " auc:0.8294641942526294 \n",
      " apur:0.21417359687416035 \n",
      " f1:0.215223634003383 \n",
      " precision:0.12290854195496288 \n",
      " recall:0.8646564258170555 \n",
      ", 'Validation':  best_epoch_indx:4\n",
      " auc:0.8249478636945616 \n",
      " apur:0.21232111353569005 \n",
      " f1:0.2140833097194673 \n",
      " precision:0.12226897556238873 \n",
      " recall:0.8594994311717861 \n",
      "}\n",
      "=====Epoch 5\n",
      "Training...\n"
     ]
    },
    {
     "name": "stderr",
     "output_type": "stream",
     "text": [
      "Iteration: 100%|██████████| 1004/1004 [01:23<00:00, 12.06it/s]\n",
      "Iteration:   0%|          | 0/1004 [00:00<?, ?it/s]"
     ]
    },
    {
     "name": "stdout",
     "output_type": "stream",
     "text": [
      "Evaluating...\n"
     ]
    },
    {
     "name": "stderr",
     "output_type": "stream",
     "text": [
      "Iteration: 100%|██████████| 1004/1004 [01:25<00:00, 11.77it/s]\n",
      "Iteration:  77%|███████▋  | 769/1004 [01:12<00:22, 10.38it/s]"
     ]
    },
    {
     "name": "stdout",
     "output_type": "stream",
     "text": [
      "Evaluating...\n"
     ]
    },
    {
     "name": "stderr",
     "output_type": "stream",
     "text": [
      "Iteration: 100%|██████████| 1004/1004 [01:25<00:00, 11.74it/s]\n",
      "Iteration:  96%|█████████▋| 967/1004 [01:28<00:02, 12.36it/s]"
     ]
    },
    {
     "name": "stdout",
     "output_type": "stream",
     "text": [
      "Evaluating...\n"
     ]
    },
    {
     "name": "stderr",
     "output_type": "stream",
     "text": [
      "Iteration: 100%|██████████| 1004/1004 [01:31<00:00, 10.93it/s]\n",
      "Iteration:  38%|███▊      | 378/1004 [00:19<00:30, 20.75it/s]"
     ]
    },
    {
     "name": "stdout",
     "output_type": "stream",
     "text": [
      "Evaluating...\n"
     ]
    },
    {
     "name": "stderr",
     "output_type": "stream",
     "text": [
      "Iteration: 100%|██████████| 1004/1004 [01:24<00:00, 11.91it/s]\n",
      "Iteration:  59%|█████▊    | 588/1004 [00:29<00:20, 20.47it/s]"
     ]
    },
    {
     "name": "stdout",
     "output_type": "stream",
     "text": [
      "Evaluating...\n"
     ]
    },
    {
     "name": "stderr",
     "output_type": "stream",
     "text": [
      "Iteration:  50%|█████     | 504/1004 [00:26<00:25, 19.77it/s]]\n",
      "Iteration:  97%|█████████▋| 977/1004 [00:48<00:01, 20.92it/s]\n",
      "Iteration:   0%|          | 1/1004 [00:00<01:55,  8.65it/s]s]"
     ]
    },
    {
     "name": "stdout",
     "output_type": "stream",
     "text": [
      "{'Train':  best_epoch_indx:5\n",
      " auc:0.8412853786796752 \n",
      " apur:0.22787002219418945 \n",
      " f1:0.2172574857708488 \n",
      " precision:0.12376974791396826 \n",
      " recall:0.8879828054870725 \n",
      ", 'Validation':  best_epoch_indx:5\n",
      " auc:0.8416933835398077 \n",
      " apur:0.23192283128351576 \n",
      " f1:0.2178977470879542 \n",
      " precision:0.12417521265601399 \n",
      " recall:0.888509670079636 \n",
      "}\n",
      "=====Epoch 6\n",
      "Training...\n"
     ]
    },
    {
     "name": "stderr",
     "output_type": "stream",
     "text": [
      "Iteration:  44%|████▍     | 441/1004 [00:22<00:32, 17.58it/s]]\n",
      "Iteration:  74%|███████▎  | 740/1004 [00:38<00:13, 20.29it/s]\n",
      "Iteration:  55%|█████▌    | 556/1004 [00:28<00:20, 21.50it/s]"
     ]
    },
    {
     "name": "stdout",
     "output_type": "stream",
     "text": [
      "{'Train':  best_epoch_indx:5\n",
      " auc:0.8384936109179368 \n",
      " apur:0.21574241011119694 \n",
      " f1:0.22031411942916368 \n",
      " precision:0.12605601678678952 \n",
      " recall:0.8733881163084702 \n",
      ", 'Validation':  best_epoch_indx:5\n",
      " auc:0.8365440059273845 \n",
      " apur:0.2210972434391474 \n",
      " f1:0.21868242756234685 \n",
      " precision:0.12520633872565204 \n",
      " recall:0.8629124004550626 \n",
      "}\n",
      "=====Epoch 6\n",
      "Training...\n"
     ]
    },
    {
     "name": "stderr",
     "output_type": "stream",
     "text": [
      "Iteration:  79%|███████▊  | 790/1004 [00:39<00:12, 17.07it/s]]\n",
      "Iteration:  30%|██▉       | 299/1004 [00:24<00:57, 12.25it/s]]\n",
      "Iteration:  32%|███▏      | 319/1004 [00:26<00:56, 12.05it/s]\n",
      "Iteration:  32%|███▏      | 36/112 [00:01<00:03, 20.62it/s]s]"
     ]
    },
    {
     "name": "stdout",
     "output_type": "stream",
     "text": [
      "{'Train':  best_epoch_indx:5\n",
      " auc:0.848127157701507 \n",
      " apur:0.24878511332095732 \n",
      " f1:0.21986891659799288 \n",
      " precision:0.12518746546688767 \n",
      " recall:0.902275600505689 \n",
      ", 'Validation':  best_epoch_indx:5\n",
      " auc:0.8398158089811045 \n",
      " apur:0.23671368108645 \n",
      " f1:0.21664355062413315 \n",
      " precision:0.12336123835097142 \n",
      " recall:0.888509670079636 \n",
      "}\n",
      "=====Epoch 6\n",
      "Training...\n"
     ]
    },
    {
     "name": "stderr",
     "output_type": "stream",
     "text": [
      "Iteration:   4%|▍         | 42/1004 [00:04<01:34, 10.22it/s]]\n",
      "Iteration:  25%|██▌       | 255/1004 [00:21<01:00, 12.32it/s]"
     ]
    },
    {
     "name": "stdout",
     "output_type": "stream",
     "text": [
      "{'Train':  best_epoch_indx:5\n",
      " auc:0.8440299470391479 \n",
      " apur:0.24142808668024332 \n",
      " f1:0.2357703959891686 \n",
      " precision:0.13729612706475014 \n",
      " recall:0.8338179519595449 \n",
      ", 'Validation':  best_epoch_indx:5\n",
      " auc:0.831620155117218 \n",
      " apur:0.23584968620145758 \n",
      " f1:0.23022861297358427 \n",
      " precision:0.13416815742397137 \n",
      " recall:0.810580204778157 \n",
      "}\n",
      "=====Epoch 6\n",
      "Training...\n"
     ]
    },
    {
     "name": "stderr",
     "output_type": "stream",
     "text": [
      "Iteration:  31%|███       | 313/1004 [00:26<00:55, 12.45it/s]]\n",
      "Iteration:  39%|███▉      | 395/1004 [00:32<00:49, 12.37it/s]\n",
      "Iteration:   0%|          | 0/1004 [00:00<?, ?it/s]"
     ]
    },
    {
     "name": "stdout",
     "output_type": "stream",
     "text": [
      "{'Train':  best_epoch_indx:5\n",
      " auc:0.8479562780001786 \n",
      " apur:0.24572638732080557 \n",
      " f1:0.23431829061316856 \n",
      " precision:0.13586539626145586 \n",
      " recall:0.8509387445476958 \n",
      ", 'Validation':  best_epoch_indx:5\n",
      " auc:0.843227513124969 \n",
      " apur:0.23946770123719968 \n",
      " f1:0.23043852106620807 \n",
      " precision:0.13357498867240597 \n",
      " recall:0.838452787258248 \n",
      "}\n",
      "=====Epoch 6\n",
      "Training...\n"
     ]
    },
    {
     "name": "stderr",
     "output_type": "stream",
     "text": [
      "Iteration: 100%|██████████| 1004/1004 [01:21<00:00, 12.38it/s]\n",
      "Iteration:  53%|█████▎    | 530/1004 [00:50<00:51,  9.15it/s]"
     ]
    },
    {
     "name": "stdout",
     "output_type": "stream",
     "text": [
      "Evaluating...\n"
     ]
    },
    {
     "name": "stderr",
     "output_type": "stream",
     "text": [
      "Iteration: 100%|██████████| 1004/1004 [01:22<00:00, 12.10it/s]\n",
      "Iteration:  66%|██████▌   | 663/1004 [01:01<00:29, 11.75it/s]"
     ]
    },
    {
     "name": "stdout",
     "output_type": "stream",
     "text": [
      "Evaluating...\n"
     ]
    },
    {
     "name": "stderr",
     "output_type": "stream",
     "text": [
      "Iteration: 100%|██████████| 1004/1004 [01:29<00:00, 11.20it/s]\n",
      "Iteration:  83%|████████▎ | 829/1004 [01:14<00:14, 11.76it/s]"
     ]
    },
    {
     "name": "stdout",
     "output_type": "stream",
     "text": [
      "Evaluating...\n"
     ]
    },
    {
     "name": "stderr",
     "output_type": "stream",
     "text": [
      "Iteration: 100%|██████████| 1004/1004 [01:30<00:00, 11.11it/s]\n",
      "Iteration:   0%|          | 0/1004 [00:00<?, ?it/s]"
     ]
    },
    {
     "name": "stdout",
     "output_type": "stream",
     "text": [
      "Evaluating...\n"
     ]
    },
    {
     "name": "stderr",
     "output_type": "stream",
     "text": [
      "Iteration: 100%|██████████| 1004/1004 [01:28<00:00, 11.30it/s]\n",
      "Iteration:  31%|███▏      | 316/1004 [00:14<00:31, 21.99it/s]"
     ]
    },
    {
     "name": "stdout",
     "output_type": "stream",
     "text": [
      "Evaluating...\n"
     ]
    },
    {
     "name": "stderr",
     "output_type": "stream",
     "text": [
      "Iteration:  86%|████████▌ | 860/1004 [00:40<00:06, 21.48it/s]\n",
      "Iteration:  15%|█▌        | 154/1004 [00:07<00:39, 21.76it/s]\n",
      "Iteration:   0%|          | 1/1004 [00:00<02:03,  8.10it/s]s]"
     ]
    },
    {
     "name": "stdout",
     "output_type": "stream",
     "text": [
      "{'Train':  best_epoch_indx:6\n",
      " auc:0.8492396004001651 \n",
      " apur:0.24132312626078417 \n",
      " f1:0.2325285248573757 \n",
      " precision:0.13430025595010445 \n",
      " recall:0.8657310828750238 \n",
      ", 'Validation':  best_epoch_indx:6\n",
      " auc:0.8496079072756535 \n",
      " apur:0.25074081496408107 \n",
      " f1:0.2335164835164835 \n",
      " precision:0.1348492860920148 \n",
      " recall:0.8703071672354948 \n",
      "}\n",
      "=====Epoch 7\n",
      "Training...\n"
     ]
    },
    {
     "name": "stderr",
     "output_type": "stream",
     "text": [
      "Iteration:  42%|████▏     | 417/1004 [00:20<00:30, 19.26it/s]]\n",
      "Iteration:  35%|███▌      | 355/1004 [00:16<00:30, 21.12it/s]\n",
      "Iteration:  36%|███▌      | 358/1004 [00:16<00:30, 21.06it/s]"
     ]
    },
    {
     "name": "stdout",
     "output_type": "stream",
     "text": [
      "{'Train':  best_epoch_indx:6\n",
      " auc:0.8494103843952112 \n",
      " apur:0.25082077433580346 \n",
      " f1:0.22494005180806953 \n",
      " precision:0.12881299887022254 \n",
      " recall:0.886472819216182 \n",
      ", 'Validation':  best_epoch_indx:6\n",
      " auc:0.8433700162748969 \n",
      " apur:0.250376527482174 \n",
      " f1:0.2216255442670537 \n",
      " precision:0.12701713525203792 \n",
      " recall:0.8686006825938567 \n",
      "}\n",
      "=====Epoch 7\n",
      "Training...\n"
     ]
    },
    {
     "name": "stderr",
     "output_type": "stream",
     "text": [
      "Iteration:  75%|███████▌  | 757/1004 [00:35<00:11, 21.02it/s]]\n",
      "Iteration:  27%|██▋       | 271/1004 [00:23<01:01, 11.93it/s]]\n",
      "Iteration:  39%|███▉      | 393/1004 [00:33<00:57, 10.63it/s]"
     ]
    },
    {
     "name": "stdout",
     "output_type": "stream",
     "text": [
      "{'Train':  best_epoch_indx:6\n",
      " auc:0.8519283708421108 \n",
      " apur:0.25678391757659885 \n",
      " f1:0.20998075356635698 \n",
      " precision:0.11850423490932169 \n",
      " recall:0.9206700379266751 \n",
      ", 'Validation':  best_epoch_indx:6\n",
      " auc:0.8419692916030418 \n",
      " apur:0.24379816337008473 \n",
      " f1:0.2073352807530023 \n",
      " precision:0.11702205612955228 \n",
      " recall:0.9084186575654153 \n",
      "}\n",
      "=====Epoch 7\n",
      "Training...\n"
     ]
    },
    {
     "name": "stderr",
     "output_type": "stream",
     "text": [
      "Iteration:  90%|████████▉ | 901/1004 [00:42<00:04, 22.43it/s]\n",
      "Iteration:  35%|███▌      | 353/1004 [00:30<00:53, 12.23it/s]]"
     ]
    },
    {
     "name": "stdout",
     "output_type": "stream",
     "text": [
      "{'Train':  best_epoch_indx:6\n",
      " auc:0.8499411484538009 \n",
      " apur:0.2445620874069005 \n",
      " f1:0.24166252324917592 \n",
      " precision:0.1414329748022331 \n",
      " recall:0.8295195954487989 \n",
      ", 'Validation':  best_epoch_indx:6\n",
      " auc:0.838798098536738 \n",
      " apur:0.23657585140492587 \n",
      " f1:0.2372429867643386 \n",
      " precision:0.13895660653339834 \n",
      " recall:0.810580204778157 \n",
      "}\n",
      "=====Epoch 7\n",
      "Training...\n"
     ]
    },
    {
     "name": "stderr",
     "output_type": "stream",
     "text": [
      "\n",
      "Iteration:   2%|▏         | 19/1004 [00:01<01:19, 12.35it/s]]\n",
      "Iteration:   8%|▊         | 81/1004 [00:07<01:29, 10.32it/s]]\n",
      "Iteration:  17%|█▋        | 175/1004 [00:14<01:08, 12.11it/s]"
     ]
    },
    {
     "name": "stdout",
     "output_type": "stream",
     "text": [
      "{'Train':  best_epoch_indx:6\n",
      " auc:0.8503685090377278 \n",
      " apur:0.24729276491193675 \n",
      " f1:0.20782205325351452 \n",
      " precision:0.11704362971070649 \n",
      " recall:0.9261015234844174 \n",
      ", 'Validation':  best_epoch_indx:6\n",
      " auc:0.8418584618015111 \n",
      " apur:0.23888804185698295 \n",
      " f1:0.20472138698739684 \n",
      " precision:0.11533193973906149 \n",
      " recall:0.9101251422070534 \n",
      "}\n",
      "=====Epoch 7\n",
      "Training...\n"
     ]
    },
    {
     "name": "stderr",
     "output_type": "stream",
     "text": [
      "Iteration:  42%|████▏     | 424/1004 [00:39<00:54, 10.72it/s]]"
     ]
    },
    {
     "name": "stdout",
     "output_type": "stream",
     "text": [
      "Evaluating...\n"
     ]
    },
    {
     "name": "stderr",
     "output_type": "stream",
     "text": [
      "Iteration: 100%|██████████| 1004/1004 [01:27<00:00, 11.49it/s]\n",
      "Iteration: 100%|██████████| 1004/1004 [01:28<00:00, 11.36it/s]\n",
      "Iteration:   0%|          | 2/1004 [00:00<01:11, 14.06it/s]s]"
     ]
    },
    {
     "name": "stdout",
     "output_type": "stream",
     "text": [
      "Evaluating...\n"
     ]
    },
    {
     "name": "stderr",
     "output_type": "stream",
     "text": [
      "Iteration: 100%|██████████| 1004/1004 [01:22<00:00, 12.10it/s]\n",
      "Iteration:  73%|███████▎  | 731/1004 [01:08<00:27,  9.88it/s]"
     ]
    },
    {
     "name": "stdout",
     "output_type": "stream",
     "text": [
      "Evaluating...\n"
     ]
    },
    {
     "name": "stderr",
     "output_type": "stream",
     "text": [
      "Iteration: 100%|██████████| 1004/1004 [01:31<00:00, 10.92it/s]\n",
      "Iteration:  72%|███████▏  | 721/1004 [00:34<00:13, 21.09it/s]"
     ]
    },
    {
     "name": "stdout",
     "output_type": "stream",
     "text": [
      "Evaluating...\n"
     ]
    },
    {
     "name": "stderr",
     "output_type": "stream",
     "text": [
      "Iteration:  94%|█████████▍| 947/1004 [01:29<00:04, 12.11it/s]]\n",
      "Iteration: 100%|██████████| 1004/1004 [01:33<00:00, 10.70it/s]\n",
      "Iteration:   0%|          | 2/1004 [00:00<01:04, 15.47it/s]s]"
     ]
    },
    {
     "name": "stdout",
     "output_type": "stream",
     "text": [
      "Evaluating...\n"
     ]
    },
    {
     "name": "stderr",
     "output_type": "stream",
     "text": [
      "Iteration:  20%|██        | 203/1004 [00:09<00:41, 19.27it/s]\n",
      "Iteration:  21%|██        | 206/1004 [00:09<00:40, 19.59it/s]"
     ]
    },
    {
     "name": "stdout",
     "output_type": "stream",
     "text": [
      "{'Train':  best_epoch_indx:7\n",
      " auc:0.8597164061744804 \n",
      " apur:0.26350511173893726 \n",
      " f1:0.24596158044095176 \n",
      " precision:0.14364940239043825 \n",
      " recall:0.8547316518111132 \n",
      ", 'Validation':  best_epoch_indx:7\n",
      " auc:0.8548568630241994 \n",
      " apur:0.2728685312996882 \n",
      " f1:0.24428735821140884 \n",
      " precision:0.14277478862413528 \n",
      " recall:0.8452787258248009 \n",
      "}\n",
      "=====Epoch 8\n",
      "Training...\n"
     ]
    },
    {
     "name": "stderr",
     "output_type": "stream",
     "text": [
      "Iteration:  68%|██████▊   | 683/1004 [00:32<00:15, 20.62it/s]]\n",
      "Iteration:  28%|██▊       | 283/1004 [00:13<00:34, 21.00it/s]\n",
      "Iteration:   0%|          | 0/1004 [00:00<?, ?it/s]"
     ]
    },
    {
     "name": "stdout",
     "output_type": "stream",
     "text": [
      "{'Train':  best_epoch_indx:7\n",
      " auc:0.8608973452656912 \n",
      " apur:0.27070130622299615 \n",
      " f1:0.23338028051636348 \n",
      " precision:0.13441102780950917 \n",
      " recall:0.8850821744627054 \n",
      ", 'Validation':  best_epoch_indx:7\n",
      " auc:0.8542427769153297 \n",
      " apur:0.2719527677854034 \n",
      " f1:0.23178358827518647 \n",
      " precision:0.13358811777990098 \n",
      " recall:0.8748577929465301 \n",
      "}\n",
      "=====Epoch 8\n",
      "Training...\n"
     ]
    },
    {
     "name": "stderr",
     "output_type": "stream",
     "text": [
      "Iteration:  13%|█▎        | 128/1004 [00:12<01:19, 11.00it/s]]\n",
      "Iteration:  66%|██████▌   | 664/1004 [00:31<00:15, 21.33it/s]\n",
      "Iteration:  85%|████████▍ | 851/1004 [00:40<00:07, 21.09it/s]"
     ]
    },
    {
     "name": "stdout",
     "output_type": "stream",
     "text": [
      "{'Train':  best_epoch_indx:7\n",
      " auc:0.8608660273354902 \n",
      " apur:0.26950909432935355 \n",
      " f1:0.2265200414375647 \n",
      " precision:0.12959788456277924 \n",
      " recall:0.8984197218710493 \n",
      ", 'Validation':  best_epoch_indx:7\n",
      " auc:0.8487999138772049 \n",
      " apur:0.2504068075446997 \n",
      " f1:0.2223015419760137 \n",
      " precision:0.12710204081632653 \n",
      " recall:0.8856655290102389 \n",
      "}\n",
      "=====Epoch 8\n",
      "Training...\n"
     ]
    },
    {
     "name": "stderr",
     "output_type": "stream",
     "text": [
      "Iteration:  28%|██▊       | 279/1004 [00:27<01:10, 10.33it/s]]\n",
      "Iteration:  34%|███▍      | 339/1004 [00:33<01:08,  9.73it/s]\n",
      "Iteration:  98%|█████████▊| 981/1004 [00:46<00:01, 18.48it/s]"
     ]
    },
    {
     "name": "stdout",
     "output_type": "stream",
     "text": [
      "{'Train':  best_epoch_indx:7\n",
      " auc:0.8588471553774991 \n",
      " apur:0.2646011998755057 \n",
      " f1:0.25751647237709074 \n",
      " precision:0.15335023542194856 \n",
      " recall:0.8029077117572693 \n",
      ", 'Validation':  best_epoch_indx:7\n",
      " auc:0.8453636965356571 \n",
      " apur:0.25624754963680496 \n",
      " f1:0.25112934451922186 \n",
      " precision:0.14985146880844977 \n",
      " recall:0.7747440273037542 \n",
      "}\n",
      "=====Epoch 8\n",
      "Training...\n"
     ]
    },
    {
     "name": "stderr",
     "output_type": "stream",
     "text": [
      "Iteration:  38%|███▊      | 377/1004 [00:36<01:02, 10.00it/s]]\n",
      "Iteration:  43%|████▎     | 430/1004 [00:42<00:57,  9.93it/s]\n",
      "Iteration:   0%|          | 1/1004 [00:00<01:57,  8.56it/s]s]"
     ]
    },
    {
     "name": "stdout",
     "output_type": "stream",
     "text": [
      "{'Train':  best_epoch_indx:7\n",
      " auc:0.8612032182831513 \n",
      " apur:0.27413381371962503 \n",
      " f1:0.23093724372559052 \n",
      " precision:0.13248555990311162 \n",
      " recall:0.898982236550983 \n",
      ", 'Validation':  best_epoch_indx:7\n",
      " auc:0.8512452847984939 \n",
      " apur:0.26442523540171636 \n",
      " f1:0.22546515870120395 \n",
      " precision:0.12932116849418265 \n",
      " recall:0.878839590443686 \n",
      "}\n",
      "=====Epoch 8\n",
      "Training...\n"
     ]
    },
    {
     "name": "stderr",
     "output_type": "stream",
     "text": [
      "Iteration:  31%|███       | 313/1004 [00:30<01:08, 10.04it/s]]"
     ]
    },
    {
     "name": "stdout",
     "output_type": "stream",
     "text": [
      "Evaluating...\n"
     ]
    },
    {
     "name": "stderr",
     "output_type": "stream",
     "text": [
      "Iteration: 100%|██████████| 1004/1004 [01:24<00:00, 11.85it/s]\n",
      "Iteration: 100%|██████████| 1004/1004 [01:37<00:00, 10.25it/s]\n",
      "Iteration:  72%|███████▏  | 724/1004 [01:04<00:24, 11.26it/s]"
     ]
    },
    {
     "name": "stdout",
     "output_type": "stream",
     "text": [
      "Evaluating...\n"
     ]
    },
    {
     "name": "stderr",
     "output_type": "stream",
     "text": [
      "Iteration: 100%|██████████| 1004/1004 [01:28<00:00, 11.39it/s]\n",
      "Iteration:   0%|          | 2/1004 [00:00<01:03, 15.86it/s]s]"
     ]
    },
    {
     "name": "stdout",
     "output_type": "stream",
     "text": [
      "Evaluating...\n"
     ]
    },
    {
     "name": "stderr",
     "output_type": "stream",
     "text": [
      "Iteration: 100%|██████████| 1004/1004 [01:27<00:00, 11.43it/s]\n",
      "Iteration:   0%|          | 2/1004 [00:00<01:00, 16.50it/s]s]"
     ]
    },
    {
     "name": "stdout",
     "output_type": "stream",
     "text": [
      "Evaluating...\n"
     ]
    },
    {
     "name": "stderr",
     "output_type": "stream",
     "text": [
      "Iteration:  88%|████████▊ | 883/1004 [01:20<00:11, 10.39it/s]\n",
      "Iteration:  64%|██████▍   | 645/1004 [00:30<00:16, 21.77it/s]\n",
      "Iteration:  48%|████▊     | 482/1004 [00:21<00:24, 21.51it/s]"
     ]
    },
    {
     "name": "stdout",
     "output_type": "stream",
     "text": [
      "{'Train':  best_epoch_indx:8\n",
      " auc:0.8681773064769149 \n",
      " apur:0.27738577246034213 \n",
      " f1:0.2413134979465944 \n",
      " precision:0.13945266723783076 \n",
      " recall:0.8951893292875656 \n",
      ", 'Validation':  best_epoch_indx:8\n",
      " auc:0.8612934347483441 \n",
      " apur:0.28228351078726593 \n",
      " f1:0.2375902873828185 \n",
      " precision:0.13734896943852168 \n",
      " recall:0.8794084186575654 \n",
      "}\n",
      "=====Epoch 9\n",
      "Training...\n"
     ]
    },
    {
     "name": "stderr",
     "output_type": "stream",
     "text": [
      "Iteration: 100%|██████████| 1004/1004 [01:31<00:00, 10.94it/s]\n",
      "Iteration:   7%|▋         | 73/1004 [00:06<01:22, 11.22it/s]]"
     ]
    },
    {
     "name": "stdout",
     "output_type": "stream",
     "text": [
      "Evaluating...\n"
     ]
    },
    {
     "name": "stderr",
     "output_type": "stream",
     "text": [
      "Iteration:  29%|██▉       | 289/1004 [00:13<00:35, 20.05it/s]]\n",
      "Iteration:  30%|██▉       | 297/1004 [00:25<00:58, 12.19it/s]]\n",
      "Iteration:  70%|██████▉   | 701/1004 [00:32<00:14, 20.83it/s]"
     ]
    },
    {
     "name": "stdout",
     "output_type": "stream",
     "text": [
      "{'Train':  best_epoch_indx:8\n",
      " auc:0.8694217970749496 \n",
      " apur:0.2887992485105042 \n",
      " f1:0.24212678231016724 \n",
      " precision:0.1401943842335008 \n",
      " recall:0.8871681415929203 \n",
      ", 'Validation':  best_epoch_indx:8\n",
      " auc:0.861535004595058 \n",
      " apur:0.2753758247066843 \n",
      " f1:0.23961910708710582 \n",
      " precision:0.13886375972498644 \n",
      " recall:0.873151308304892 \n",
      "}\n",
      "=====Epoch 9\n",
      "Training...\n"
     ]
    },
    {
     "name": "stderr",
     "output_type": "stream",
     "text": [
      "Iteration:  31%|███       | 309/1004 [00:26<00:56, 12.30it/s]\n",
      "Iteration:  38%|███▊      | 377/1004 [00:32<00:49, 12.76it/s]\n",
      "Iteration:  83%|████████▎ | 833/1004 [00:39<00:08, 19.20it/s]"
     ]
    },
    {
     "name": "stdout",
     "output_type": "stream",
     "text": [
      "{'Train':  best_epoch_indx:8\n",
      " auc:0.8721217506947694 \n",
      " apur:0.2910458338015394 \n",
      " f1:0.239862357465758 \n",
      " precision:0.1383968544399891 \n",
      " recall:0.8988621997471555 \n",
      ", 'Validation':  best_epoch_indx:8\n",
      " auc:0.8573623235812441 \n",
      " apur:0.26849459032579076 \n",
      " f1:0.23213879839381774 \n",
      " precision:0.1339043789878507 \n",
      " recall:0.8714448236632537 \n",
      "}\n",
      "=====Epoch 9\n",
      "Training...\n"
     ]
    },
    {
     "name": "stderr",
     "output_type": "stream",
     "text": [
      "Iteration:  49%|████▉     | 491/1004 [00:43<00:47, 10.72it/s]]\n",
      "Iteration:  18%|█▊        | 176/1004 [00:17<01:21, 10.22it/s]\n",
      "Iteration:  90%|████████▉ | 900/1004 [00:43<00:05, 20.11it/s]"
     ]
    },
    {
     "name": "stdout",
     "output_type": "stream",
     "text": [
      "{'Train':  best_epoch_indx:8\n",
      " auc:0.870691666645432 \n",
      " apur:0.2859947143852074 \n",
      " f1:0.23748669689021476 \n",
      " precision:0.13689101851941302 \n",
      " recall:0.8957016434892541 \n",
      ", 'Validation':  best_epoch_indx:8\n",
      " auc:0.8561668924536749 \n",
      " apur:0.26935053183208885 \n",
      " f1:0.2309203566570954 \n",
      " precision:0.13314743813175323 \n",
      " recall:0.8691695108077361 \n",
      "}\n",
      "=====Epoch 9\n",
      "Training...\n"
     ]
    },
    {
     "name": "stderr",
     "output_type": "stream",
     "text": [
      "Iteration:   9%|▉         | 91/1004 [00:07<01:16, 11.88it/s]]]\n",
      "Iteration:  31%|███▏      | 314/1004 [00:30<01:08, 10.08it/s]\n",
      "Iteration:   0%|          | 0/1004 [00:00<?, ?it/s]"
     ]
    },
    {
     "name": "stdout",
     "output_type": "stream",
     "text": [
      "{'Train':  best_epoch_indx:8\n",
      " auc:0.871795059884585 \n",
      " apur:0.2901673671454833 \n",
      " f1:0.24377051015925788 \n",
      " precision:0.1411120639795776 \n",
      " recall:0.894557178076996 \n",
      ", 'Validation':  best_epoch_indx:8\n",
      " auc:0.8620513788727533 \n",
      " apur:0.277956990492887 \n",
      " f1:0.2382860665844636 \n",
      " precision:0.13781422713496166 \n",
      " recall:0.8794084186575654 \n",
      "}\n",
      "=====Epoch 9\n",
      "Training...\n"
     ]
    },
    {
     "name": "stderr",
     "output_type": "stream",
     "text": [
      "Iteration: 100%|██████████| 1004/1004 [01:31<00:00, 11.02it/s]\n",
      "Iteration:   0%|          | 2/1004 [00:00<01:09, 14.40it/s]s]"
     ]
    },
    {
     "name": "stdout",
     "output_type": "stream",
     "text": [
      "Evaluating...\n"
     ]
    },
    {
     "name": "stderr",
     "output_type": "stream",
     "text": [
      "Iteration: 100%|██████████| 1004/1004 [01:29<00:00, 11.20it/s]\n",
      "Iteration:   0%|          | 0/1004 [00:00<?, ?it/s]"
     ]
    },
    {
     "name": "stdout",
     "output_type": "stream",
     "text": [
      "Evaluating...\n"
     ]
    },
    {
     "name": "stderr",
     "output_type": "stream",
     "text": [
      "Iteration: 100%|██████████| 1004/1004 [01:30<00:00, 11.06it/s]\n",
      "Iteration:  82%|████████▏ | 821/1004 [01:13<00:17, 10.28it/s]"
     ]
    },
    {
     "name": "stdout",
     "output_type": "stream",
     "text": [
      "Evaluating...\n"
     ]
    },
    {
     "name": "stderr",
     "output_type": "stream",
     "text": [
      "Iteration:  91%|█████████ | 910/1004 [01:17<00:07, 12.76it/s]]\n",
      "Iteration: 100%|██████████| 1004/1004 [01:32<00:00, 10.91it/s]\n",
      "Iteration:  55%|█████▍    | 548/1004 [00:25<00:22, 20.19it/s]"
     ]
    },
    {
     "name": "stdout",
     "output_type": "stream",
     "text": [
      "Evaluating...\n"
     ]
    },
    {
     "name": "stderr",
     "output_type": "stream",
     "text": [
      "Iteration:  97%|█████████▋| 972/1004 [01:22<00:03, 10.04it/s]\n",
      "Iteration:  10%|▉         | 100/1004 [00:04<00:41, 21.70it/s]"
     ]
    },
    {
     "name": "stdout",
     "output_type": "stream",
     "text": [
      "{'Train':  best_epoch_indx:9\n",
      " auc:0.8753223274042807 \n",
      " apur:0.29189823608491977 \n",
      " f1:0.24199366235167208 \n",
      " precision:0.13960928459601116 \n",
      " recall:0.9075794930147292 \n",
      ", 'Validation':  best_epoch_indx:9\n",
      " auc:0.8663790529234554 \n",
      " apur:0.2953964346320056 \n",
      " f1:0.23857404021937842 \n",
      " precision:0.13773087071240106 \n",
      " recall:0.8907849829351536 \n",
      "}\n",
      "=====Epoch 10\n",
      "Training...\n"
     ]
    },
    {
     "name": "stderr",
     "output_type": "stream",
     "text": [
      "Iteration: 100%|██████████| 1004/1004 [01:26<00:00, 11.61it/s]\n",
      "Iteration:  71%|███████   | 713/1004 [00:33<00:13, 21.36it/s]"
     ]
    },
    {
     "name": "stdout",
     "output_type": "stream",
     "text": [
      "Evaluating...\n"
     ]
    },
    {
     "name": "stderr",
     "output_type": "stream",
     "text": [
      "Iteration:  92%|█████████▏| 925/1004 [00:42<00:03, 22.07it/s]]\n",
      "Iteration:  64%|██████▍   | 645/1004 [00:29<00:17, 20.34it/s]]\n",
      "Iteration:   0%|          | 1/1004 [00:00<01:55,  8.71it/s]s]"
     ]
    },
    {
     "name": "stdout",
     "output_type": "stream",
     "text": [
      "{'Train':  best_epoch_indx:9\n",
      " auc:0.8763726666696949 \n",
      " apur:0.29780623223780495 \n",
      " f1:0.2455958190565189 \n",
      " precision:0.14227283663485443 \n",
      " recall:0.8970922882427307 \n",
      ", 'Validation':  best_epoch_indx:9\n",
      " auc:0.8672722682661187 \n",
      " apur:0.29166619861817206 \n",
      " f1:0.24076971214017523 \n",
      " precision:0.13957917649192816 \n",
      " recall:0.8754266211604096 \n",
      "}\n",
      "=====Epoch 10\n",
      "Training...\n"
     ]
    },
    {
     "name": "stderr",
     "output_type": "stream",
     "text": [
      "Iteration:  29%|██▉       | 294/1004 [00:25<00:57, 12.26it/s]\n",
      "Iteration:  76%|███████▋  | 768/1004 [00:35<00:10, 21.77it/s]\n",
      "Iteration:   7%|▋         | 67/1004 [00:05<01:28, 10.53it/s]]"
     ]
    },
    {
     "name": "stdout",
     "output_type": "stream",
     "text": [
      "{'Train':  best_epoch_indx:9\n",
      " auc:0.8778438238195445 \n",
      " apur:0.3023700559271689 \n",
      " f1:0.24420757985645888 \n",
      " precision:0.14116161367022168 \n",
      " recall:0.904424778761062 \n",
      ", 'Validation':  best_epoch_indx:9\n",
      " auc:0.85993007206593 \n",
      " apur:0.2762139359171763 \n",
      " f1:0.23520380747677896 \n",
      " precision:0.13594817641316886 \n",
      " recall:0.8714448236632537 \n",
      "}\n",
      "=====Epoch 10\n",
      "Training...\n"
     ]
    },
    {
     "name": "stderr",
     "output_type": "stream",
     "text": [
      "Iteration:  23%|██▎       | 229/1004 [00:19<01:02, 12.34it/s]]\n",
      "Iteration:  97%|█████████▋| 978/1004 [00:47<00:01, 20.13it/s]\n",
      "Iteration:   0%|          | 0/1004 [00:00<?, ?it/s]"
     ]
    },
    {
     "name": "stdout",
     "output_type": "stream",
     "text": [
      "{'Train':  best_epoch_indx:9\n",
      " auc:0.8782361491412516 \n",
      " apur:0.2991065092872278 \n",
      " f1:0.24626826767685545 \n",
      " precision:0.1427564115478373 \n",
      " recall:0.8958280657395702 \n",
      ", 'Validation':  best_epoch_indx:9\n",
      " auc:0.8627257879054968 \n",
      " apur:0.279077448930154 \n",
      " f1:0.23932160804020103 \n",
      " precision:0.13882310074694845 \n",
      " recall:0.8668941979522184 \n",
      "}\n",
      "=====Epoch 10\n",
      "Training...\n"
     ]
    },
    {
     "name": "stderr",
     "output_type": "stream",
     "text": [
      "Iteration:   4%|▍         | 38/1004 [00:03<01:37,  9.93it/s]]]\n",
      "Iteration:  11%|█         | 108/1004 [00:09<01:15, 11.92it/s]\n",
      "Iteration:  41%|████      | 407/1004 [00:35<01:08,  8.77it/s]"
     ]
    },
    {
     "name": "stdout",
     "output_type": "stream",
     "text": [
      "{'Train':  best_epoch_indx:9\n",
      " auc:0.8774420777105179 \n",
      " apur:0.3019344559604882 \n",
      " f1:0.24358112420748051 \n",
      " precision:0.1407371712920166 \n",
      " recall:0.9046715974461091 \n",
      ", 'Validation':  best_epoch_indx:9\n",
      " auc:0.8656870934461041 \n",
      " apur:0.28775667583122977 \n",
      " f1:0.23563525371995422 \n",
      " precision:0.13607120824887636 \n",
      " recall:0.8782707622298066 \n",
      "}\n",
      "=====Epoch 10\n",
      "Training...\n"
     ]
    },
    {
     "name": "stderr",
     "output_type": "stream",
     "text": [
      "Iteration: 100%|██████████| 1004/1004 [01:23<00:00, 11.99it/s]\n",
      "Iteration:  25%|██▍       | 248/1004 [00:23<01:12, 10.38it/s]"
     ]
    },
    {
     "name": "stdout",
     "output_type": "stream",
     "text": [
      "Evaluating...\n"
     ]
    },
    {
     "name": "stderr",
     "output_type": "stream",
     "text": [
      "Iteration: 100%|██████████| 1004/1004 [01:30<00:00, 11.12it/s]\n",
      "Iteration:   0%|          | 2/1004 [00:00<01:02, 15.95it/s]s]"
     ]
    },
    {
     "name": "stdout",
     "output_type": "stream",
     "text": [
      "Evaluating...\n"
     ]
    },
    {
     "name": "stderr",
     "output_type": "stream",
     "text": [
      "Iteration: 100%|██████████| 1004/1004 [01:28<00:00, 11.37it/s]\n",
      "Iteration:   0%|          | 0/1004 [00:00<?, ?it/s]"
     ]
    },
    {
     "name": "stdout",
     "output_type": "stream",
     "text": [
      "Evaluating...\n"
     ]
    },
    {
     "name": "stderr",
     "output_type": "stream",
     "text": [
      "Iteration: 100%|██████████| 1004/1004 [01:22<00:00, 12.12it/s]\n",
      "Iteration:   0%|          | 2/1004 [00:00<01:03, 15.78it/s]s]"
     ]
    },
    {
     "name": "stdout",
     "output_type": "stream",
     "text": [
      "Evaluating...\n"
     ]
    },
    {
     "name": "stderr",
     "output_type": "stream",
     "text": [
      "Iteration:  84%|████████▍ | 846/1004 [01:13<00:14, 11.19it/s]\n",
      "Iteration:  93%|█████████▎| 930/1004 [01:20<00:05, 12.39it/s]"
     ]
    },
    {
     "name": "stdout",
     "output_type": "stream",
     "text": [
      "{'Train':  best_epoch_indx:10\n",
      " auc:0.8765861075310792 \n",
      " apur:0.2941238660982982 \n",
      " f1:0.24186892590658737 \n",
      " precision:0.13952177841687474 \n",
      " recall:0.9077691383779 \n",
      ", 'Validation':  best_epoch_indx:10\n",
      " auc:0.8651823566564745 \n",
      " apur:0.2919182483235001 \n",
      " f1:0.23891251518833537 \n",
      " precision:0.1378615249780894 \n",
      " recall:0.8947667804323094 \n",
      "}\n",
      "=====Epoch 11\n",
      "Training...\n"
     ]
    },
    {
     "name": "stderr",
     "output_type": "stream",
     "text": [
      "\n",
      "Iteration: 100%|██████████| 1004/1004 [01:26<00:00, 11.60it/s]\n",
      "Iteration:   0%|          | 2/1004 [00:00<01:03, 15.88it/s]s]"
     ]
    },
    {
     "name": "stdout",
     "output_type": "stream",
     "text": [
      "Evaluating...\n"
     ]
    },
    {
     "name": "stderr",
     "output_type": "stream",
     "text": [
      "Iteration:  68%|██████▊   | 680/1004 [00:33<00:15, 20.46it/s]]\n",
      "Iteration:  74%|███████▍  | 746/1004 [00:37<00:13, 18.86it/s]]\n",
      "Iteration:  66%|██████▌   | 74/112 [00:03<00:01, 20.21it/s]s]\n",
      "Iteration:  69%|██████▉   | 77/112 [00:03<00:01, 20.26it/s]s]"
     ]
    },
    {
     "name": "stdout",
     "output_type": "stream",
     "text": [
      "{'Train':  best_epoch_indx:10\n",
      " auc:0.8757321261971254 \n",
      " apur:0.2987651150171245 \n",
      " f1:0.245607046046991 \n",
      " precision:0.14229947114371444 \n",
      " recall:0.8963337547408344 \n",
      ", 'Validation':  best_epoch_indx:10\n",
      " auc:0.8655932667593645 \n",
      " apur:0.2921555957221359 \n",
      " f1:0.24086731086495403 \n",
      " precision:0.1397320207820618 \n",
      " recall:0.8720136518771331 \n",
      "}\n",
      "=====Epoch 11\n",
      "Training...\n"
     ]
    },
    {
     "name": "stderr",
     "output_type": "stream",
     "text": [
      "Iteration:  88%|████████▊ | 886/1004 [00:44<00:05, 20.53it/s]\n",
      "Iteration:   0%|          | 0/1004 [00:00<?, ?it/s]"
     ]
    },
    {
     "name": "stdout",
     "output_type": "stream",
     "text": [
      "{'Train':  best_epoch_indx:10\n",
      " auc:0.8784526383826772 \n",
      " apur:0.302583779716477 \n",
      " f1:0.24962892281594573 \n",
      " precision:0.14509469619161086 \n",
      " recall:0.8929835651074589 \n",
      ", 'Validation':  best_epoch_indx:10\n",
      " auc:0.8605334538392082 \n",
      " apur:0.2756672520705005 \n",
      " f1:0.2403624513154757 \n",
      " precision:0.13970248544765776 \n",
      " recall:0.8600682593856656 \n",
      "}\n",
      "=====Epoch 11\n",
      "Training...\n"
     ]
    },
    {
     "name": "stderr",
     "output_type": "stream",
     "text": [
      "Iteration:  14%|█▍        | 139/1004 [00:11<01:12, 11.99it/s]]\n",
      "Iteration:  97%|█████████▋| 969/1004 [00:46<00:02, 16.32it/s]\n",
      "Iteration:   0%|          | 0/1004 [00:00<?, ?it/s]"
     ]
    },
    {
     "name": "stdout",
     "output_type": "stream",
     "text": [
      "{'Train':  best_epoch_indx:10\n",
      " auc:0.8782069051742274 \n",
      " apur:0.2980232463796131 \n",
      " f1:0.2395730282902011 \n",
      " precision:0.1379260833357264 \n",
      " recall:0.9108091024020227 \n",
      ", 'Validation':  best_epoch_indx:10\n",
      " auc:0.8623828992343915 \n",
      " apur:0.272591204564259 \n",
      " f1:0.23300533313302788 \n",
      " precision:0.13422760709649503 \n",
      " recall:0.8822525597269625 \n",
      "}\n",
      "=====Epoch 11\n",
      "Training...\n"
     ]
    },
    {
     "name": "stderr",
     "output_type": "stream",
     "text": [
      "Iteration:  28%|██▊       | 283/1004 [00:23<01:00, 11.99it/s]]\n",
      "Iteration:  15%|█▌        | 155/1004 [00:12<01:09, 12.19it/s]\n",
      "Iteration:  38%|███▊      | 379/1004 [00:31<00:54, 11.37it/s]"
     ]
    },
    {
     "name": "stdout",
     "output_type": "stream",
     "text": [
      "{'Train':  best_epoch_indx:10\n",
      " auc:0.8776075694533519 \n",
      " apur:0.3030309771649897 \n",
      " f1:0.24332877979246034 \n",
      " precision:0.14052607851976714 \n",
      " recall:0.9064416208357039 \n",
      ", 'Validation':  best_epoch_indx:10\n",
      " auc:0.8640720487743005 \n",
      " apur:0.2901558935486181 \n",
      " f1:0.2351962489601452 \n",
      " precision:0.13563017880505887 \n",
      " recall:0.8845278725824801 \n",
      "}\n",
      "=====Epoch 11\n",
      "Training...\n"
     ]
    },
    {
     "name": "stderr",
     "output_type": "stream",
     "text": [
      "Iteration: 100%|██████████| 1004/1004 [01:28<00:00, 11.30it/s]\n",
      "Iteration:   0%|          | 2/1004 [00:00<01:11, 13.99it/s]s]"
     ]
    },
    {
     "name": "stdout",
     "output_type": "stream",
     "text": [
      "Evaluating...\n"
     ]
    },
    {
     "name": "stderr",
     "output_type": "stream",
     "text": [
      "Iteration:  74%|███████▍  | 747/1004 [00:34<00:12, 20.77it/s]]\n",
      "Iteration:  67%|██████▋   | 673/1004 [00:58<00:29, 11.40it/s]"
     ]
    },
    {
     "name": "stdout",
     "output_type": "stream",
     "text": [
      "Evaluating...\n"
     ]
    },
    {
     "name": "stderr",
     "output_type": "stream",
     "text": [
      "Iteration: 100%|██████████| 1004/1004 [01:27<00:00, 11.45it/s]\n",
      "Iteration:  78%|███████▊  | 783/1004 [00:36<00:10, 21.24it/s]"
     ]
    },
    {
     "name": "stdout",
     "output_type": "stream",
     "text": [
      "Evaluating...\n"
     ]
    },
    {
     "name": "stderr",
     "output_type": "stream",
     "text": [
      "Iteration: 100%|██████████| 1004/1004 [01:24<00:00, 11.95it/s]\n",
      "Iteration:  29%|██▉       | 292/1004 [00:13<00:35, 20.03it/s]"
     ]
    },
    {
     "name": "stdout",
     "output_type": "stream",
     "text": [
      "Evaluating...\n"
     ]
    },
    {
     "name": "stderr",
     "output_type": "stream",
     "text": [
      "Iteration:  83%|████████▎ | 829/1004 [01:12<00:15, 11.01it/s]\n",
      "Iteration:  43%|████▎     | 427/1004 [00:20<00:26, 21.41it/s]\n",
      "Iteration:  39%|███▉      | 396/1004 [00:18<00:28, 21.53it/s]"
     ]
    },
    {
     "name": "stdout",
     "output_type": "stream",
     "text": [
      "{'Train':  best_epoch_indx:11\n",
      " auc:0.8720533705556843 \n",
      " apur:0.2771451439471914 \n",
      " f1:0.24249628020728226 \n",
      " precision:0.14021538126835636 \n",
      " recall:0.8963272014665908 \n",
      ", 'Validation':  best_epoch_indx:11\n",
      " auc:0.8641137714570334 \n",
      " apur:0.27635676480919213 \n",
      " f1:0.24115010047920854 \n",
      " precision:0.13953488372093023 \n",
      " recall:0.8873720136518771 \n",
      "}\n",
      "=====Epoch 12\n",
      "Training...\n"
     ]
    },
    {
     "name": "stderr",
     "output_type": "stream",
     "text": [
      "Iteration: 100%|██████████| 1004/1004 [01:27<00:00, 11.51it/s]\n",
      "Iteration:  58%|█████▊    | 580/1004 [00:27<00:23, 18.41it/s]"
     ]
    },
    {
     "name": "stdout",
     "output_type": "stream",
     "text": [
      "Evaluating...\n"
     ]
    },
    {
     "name": "stderr",
     "output_type": "stream",
     "text": [
      "Iteration:  44%|████▍     | 442/1004 [00:20<00:27, 20.19it/s]]\n",
      "Iteration:  75%|███████▍  | 752/1004 [00:38<00:12, 19.77it/s]\n",
      "Iteration:  78%|███████▊  | 87/112 [00:03<00:01, 21.90it/s]s]\n",
      "Iteration:   0%|          | 1/1004 [00:00<01:51,  8.97it/s]s]"
     ]
    },
    {
     "name": "stdout",
     "output_type": "stream",
     "text": [
      "{'Train':  best_epoch_indx:11\n",
      " auc:0.8710073862457334 \n",
      " apur:0.2892453458649045 \n",
      " f1:0.23291492329149233 \n",
      " precision:0.13359502902217593 \n",
      " recall:0.9078381795195954 \n",
      ", 'Validation':  best_epoch_indx:11\n",
      " auc:0.8593038101117982 \n",
      " apur:0.27848892918932555 \n",
      " f1:0.22716627634660425 \n",
      " precision:0.13035444313791367 \n",
      " recall:0.8828213879408419 \n",
      "}\n",
      "=====Epoch 12\n",
      "Training...\n"
     ]
    },
    {
     "name": "stderr",
     "output_type": "stream",
     "text": [
      "Iteration:  86%|████████▌ | 863/1004 [00:43<00:06, 20.98it/s]"
     ]
    },
    {
     "name": "stdout",
     "output_type": "stream",
     "text": [
      "{'Train':  best_epoch_indx:11\n",
      " auc:0.8765431166985377 \n",
      " apur:0.30403702376716174 \n",
      " f1:0.24567954841511075 \n",
      " precision:0.1424041075203866 \n",
      " recall:0.8941213653603034 \n",
      ", 'Validation':  best_epoch_indx:11\n",
      " auc:0.859248215758634 \n",
      " apur:0.27877574403728544 \n",
      " f1:0.23914234290633068 \n",
      " precision:0.13864440613374468 \n",
      " recall:0.8691695108077361 \n",
      "}\n",
      "=====Epoch 12\n",
      "Training...\n"
     ]
    },
    {
     "name": "stderr",
     "output_type": "stream",
     "text": [
      "\n",
      "Iteration:  55%|█████▌    | 555/1004 [00:46<00:35, 12.57it/s]]\n",
      "Iteration:  16%|█▌        | 159/1004 [00:14<01:20, 10.49it/s]\n",
      "Iteration:  20%|█▉        | 197/1004 [00:16<01:06, 12.11it/s]"
     ]
    },
    {
     "name": "stdout",
     "output_type": "stream",
     "text": [
      "{'Train':  best_epoch_indx:11\n",
      " auc:0.8737964169689659 \n",
      " apur:0.2911537174722493 \n",
      " f1:0.24191222276268745 \n",
      " precision:0.13983406173850418 \n",
      " recall:0.8959544879898862 \n",
      ", 'Validation':  best_epoch_indx:11\n",
      " auc:0.857608711724867 \n",
      " apur:0.2651427433345785 \n",
      " f1:0.23721470019342356 \n",
      " precision:0.13727948419450164 \n",
      " recall:0.8720136518771331 \n",
      "}\n",
      "=====Epoch 12\n",
      "Training...\n"
     ]
    },
    {
     "name": "stderr",
     "output_type": "stream",
     "text": [
      "Iteration:  24%|██▎       | 237/1004 [00:22<01:12, 10.57it/s]]\n",
      "Iteration:  78%|███████▊  | 787/1004 [01:05<00:17, 12.32it/s]"
     ]
    },
    {
     "name": "stdout",
     "output_type": "stream",
     "text": [
      "{'Train':  best_epoch_indx:11\n",
      " auc:0.8749791762553769 \n",
      " apur:0.2972680329127497 \n",
      " f1:0.2546318902534526 \n",
      " precision:0.14903690602014624 \n",
      " recall:0.8735697578860864 \n",
      ", 'Validation':  best_epoch_indx:11\n",
      " auc:0.860687415024803 \n",
      " apur:0.28448519667556205 \n",
      " f1:0.2468422356146289 \n",
      " precision:0.14437469821342347 \n",
      " recall:0.8503981797497155 \n",
      "}\n",
      "=====Epoch 12\n",
      "Training...\n"
     ]
    },
    {
     "name": "stderr",
     "output_type": "stream",
     "text": [
      "\n",
      "Iteration: 100%|██████████| 1004/1004 [01:23<00:00, 12.04it/s]\n",
      "Iteration:  36%|███▌      | 359/1004 [00:31<01:00, 10.59it/s]"
     ]
    },
    {
     "name": "stdout",
     "output_type": "stream",
     "text": [
      "Evaluating...\n"
     ]
    },
    {
     "name": "stderr",
     "output_type": "stream",
     "text": [
      "Iteration: 100%|██████████| 1004/1004 [01:25<00:00, 11.73it/s]\n",
      "Iteration:  77%|███████▋  | 774/1004 [00:37<00:11, 19.59it/s]"
     ]
    },
    {
     "name": "stdout",
     "output_type": "stream",
     "text": [
      "Evaluating...\n"
     ]
    },
    {
     "name": "stderr",
     "output_type": "stream",
     "text": [
      "Iteration: 100%|██████████| 1004/1004 [01:24<00:00, 11.81it/s]\n",
      "Iteration:  66%|██████▌   | 660/1004 [00:56<00:33, 10.30it/s]"
     ]
    },
    {
     "name": "stdout",
     "output_type": "stream",
     "text": [
      "Evaluating...\n"
     ]
    },
    {
     "name": "stderr",
     "output_type": "stream",
     "text": [
      "Iteration:  94%|█████████▎| 941/1004 [01:22<00:05, 11.85it/s]]\n",
      "Iteration:  36%|███▌      | 359/1004 [00:18<00:33, 19.00it/s]\n",
      "Iteration:  36%|███▌      | 362/1004 [00:18<00:33, 19.41it/s]]"
     ]
    },
    {
     "name": "stdout",
     "output_type": "stream",
     "text": [
      "{'Train':  best_epoch_indx:12\n",
      " auc:0.8683151281425211 \n",
      " apur:0.2805368251832085 \n",
      " f1:0.2395672857167042 \n",
      " precision:0.13830275901836414 \n",
      " recall:0.894557178076996 \n",
      ", 'Validation':  best_epoch_indx:12\n",
      " auc:0.8607365221737485 \n",
      " apur:0.2908249273211684 \n",
      " f1:0.23576362240982351 \n",
      " precision:0.13626685592618878 \n",
      " recall:0.8737201365187713 \n",
      "}\n",
      "=====Epoch 13\n",
      "Training...\n"
     ]
    },
    {
     "name": "stderr",
     "output_type": "stream",
     "text": [
      "\r",
      "Iteration:   0%|          | 1/1004 [00:00<02:00,  8.34it/s]\r",
      "Iteration: 100%|█████████▉| 1003/1004 [01:27<00:00, 11.63it/s]\r",
      "Iteration:  86%|████████▌ | 862/1004 [01:14<00:11, 12.00it/s]\r",
      "Iteration:  38%|███▊      | 379/1004 [00:17<00:28, 21.93it/s]\r",
      "Iteration:  36%|███▋      | 365/1004 [00:18<00:32, 19.64it/s]\r",
      "Iteration: 100%|██████████| 1004/1004 [01:28<00:00, 11.40it/s]\n",
      "\r",
      "Iteration:   0%|          | 0/1004 [00:00<?, ?it/s]\r",
      "Iteration:   0%|          | 3/1004 [00:00<01:41,  9.82it/s]"
     ]
    },
    {
     "name": "stdout",
     "output_type": "stream",
     "text": [
      "Evaluating...\n"
     ]
    },
    {
     "name": "stderr",
     "output_type": "stream",
     "text": [
      "Iteration: 100%|██████████| 1004/1004 [01:26<00:00, 11.62it/s]\n",
      "Iteration:   0%|          | 2/1004 [00:00<01:12, 13.84it/s]s]"
     ]
    },
    {
     "name": "stdout",
     "output_type": "stream",
     "text": [
      "Evaluating...\n"
     ]
    },
    {
     "name": "stderr",
     "output_type": "stream",
     "text": [
      "Iteration:  46%|████▌     | 464/1004 [00:21<00:26, 20.06it/s]]\n",
      "Iteration:  40%|████      | 45/112 [00:02<00:03, 20.84it/s]s]\n",
      "Iteration:  47%|████▋     | 471/1004 [00:39<00:43, 12.16it/s]\n",
      "Iteration:  55%|█████▌    | 554/1004 [00:27<00:32, 13.88it/s]"
     ]
    },
    {
     "name": "stdout",
     "output_type": "stream",
     "text": [
      "{'Train':  best_epoch_indx:12\n",
      " auc:0.8753917189278086 \n",
      " apur:0.3009186422018174 \n",
      " f1:0.2332561666799713 \n",
      " precision:0.13348560986751942 \n",
      " recall:0.9235145385587863 \n",
      ", 'Validation':  best_epoch_indx:12\n",
      " auc:0.859112576662962 \n",
      " apur:0.2772697378250606 \n",
      " f1:0.2267154226715423 \n",
      " precision:0.1297071129707113 \n",
      " recall:0.8993174061433447 \n",
      "}\n",
      "=====Epoch 13\n",
      "Training...\n"
     ]
    },
    {
     "name": "stderr",
     "output_type": "stream",
     "text": [
      "Iteration:  51%|█████     | 509/1004 [00:42<00:40, 12.08it/s]\n",
      "Iteration:   0%|          | 0/1004 [00:00<?, ?it/s]"
     ]
    },
    {
     "name": "stdout",
     "output_type": "stream",
     "text": [
      "{'Train':  best_epoch_indx:12\n",
      " auc:0.8736747285455814 \n",
      " apur:0.29987689806809087 \n",
      " f1:0.23391670520653313 \n",
      " precision:0.13418164555194595 \n",
      " recall:0.911188369152971 \n",
      ", 'Validation':  best_epoch_indx:12\n",
      " auc:0.8627514944616322 \n",
      " apur:0.28819570904107 \n",
      " f1:0.23017450850452842 \n",
      " precision:0.13219994925145903 \n",
      " recall:0.8890784982935154 \n",
      "}\n",
      "=====Epoch 13\n",
      "Training...\n"
     ]
    },
    {
     "name": "stderr",
     "output_type": "stream",
     "text": [
      "Iteration:  63%|██████▎   | 629/1004 [00:53<00:35, 10.60it/s]]\n",
      "Iteration:  98%|█████████▊| 980/1004 [00:46<00:01, 22.75it/s]\n",
      "Iteration:  98%|█████████▊| 986/1004 [00:46<00:00, 22.54it/s]"
     ]
    },
    {
     "name": "stdout",
     "output_type": "stream",
     "text": [
      "{'Train':  best_epoch_indx:12\n",
      " auc:0.8710628881728667 \n",
      " apur:0.2833783919380229 \n",
      " f1:0.22654281993090167 \n",
      " precision:0.12921363308808484 \n",
      " recall:0.918078381795196 \n",
      ", 'Validation':  best_epoch_indx:12\n",
      " auc:0.8571389143172938 \n",
      " apur:0.27305024327156846 \n",
      " f1:0.2237831701433234 \n",
      " precision:0.12783722438391698 \n",
      " recall:0.897042093287827 \n",
      "}\n",
      "=====Epoch 13\n",
      "Training...\n"
     ]
    },
    {
     "name": "stderr",
     "output_type": "stream",
     "text": [
      "Iteration:  28%|██▊       | 277/1004 [00:22<00:58, 12.43it/s]]\n",
      "Iteration:  27%|██▋       | 269/1004 [00:24<01:11, 10.24it/s]\n",
      "Iteration:  78%|███████▊  | 781/1004 [01:07<00:21, 10.42it/s]"
     ]
    },
    {
     "name": "stdout",
     "output_type": "stream",
     "text": [
      "{'Train':  best_epoch_indx:12\n",
      " auc:0.8746591315898109 \n",
      " apur:0.29170405503253893 \n",
      " f1:0.23790242283438434 \n",
      " precision:0.13692323855550567 \n",
      " recall:0.906251975472533 \n",
      ", 'Validation':  best_epoch_indx:12\n",
      " auc:0.8620563497042015 \n",
      " apur:0.2779610868364316 \n",
      " f1:0.23238492477282888 \n",
      " precision:0.1336990058279054 \n",
      " recall:0.8873720136518771 \n",
      "}\n",
      "=====Epoch 13\n",
      "Training...\n"
     ]
    },
    {
     "name": "stderr",
     "output_type": "stream",
     "text": [
      "Iteration: 100%|██████████| 1004/1004 [01:28<00:00, 11.41it/s]\n",
      "Iteration:  36%|███▌      | 361/1004 [00:29<00:55, 11.67it/s]"
     ]
    },
    {
     "name": "stdout",
     "output_type": "stream",
     "text": [
      "Evaluating...\n"
     ]
    },
    {
     "name": "stderr",
     "output_type": "stream",
     "text": [
      "Iteration: 100%|██████████| 1004/1004 [01:27<00:00, 11.42it/s]\n",
      "Iteration:   0%|          | 2/1004 [00:00<01:10, 14.24it/s]s]"
     ]
    },
    {
     "name": "stdout",
     "output_type": "stream",
     "text": [
      "Evaluating...\n"
     ]
    },
    {
     "name": "stderr",
     "output_type": "stream",
     "text": [
      "Iteration: 100%|██████████| 1004/1004 [01:28<00:00, 11.40it/s]\n",
      "Iteration:  91%|█████████ | 911/1004 [00:42<00:04, 21.55it/s]"
     ]
    },
    {
     "name": "stdout",
     "output_type": "stream",
     "text": [
      "Evaluating...\n"
     ]
    },
    {
     "name": "stderr",
     "output_type": "stream",
     "text": [
      "Iteration:  92%|█████████▏| 921/1004 [01:18<00:07, 11.56it/s]]\n",
      "Iteration:  83%|████████▎ | 838/1004 [01:15<00:15, 10.54it/s]\n",
      "Iteration:  98%|█████████▊| 987/1004 [01:24<00:01, 12.04it/s]"
     ]
    },
    {
     "name": "stdout",
     "output_type": "stream",
     "text": [
      "{'Train':  best_epoch_indx:13\n",
      " auc:0.8701685657275599 \n",
      " apur:0.2860679181929908 \n",
      " f1:0.23919806429312135 \n",
      " precision:0.1380041636671401 \n",
      " recall:0.8967697073139895 \n",
      ", 'Validation':  best_epoch_indx:13\n",
      " auc:0.8619392121508512 \n",
      " apur:0.2905757958239993 \n",
      " f1:0.23665048543689318 \n",
      " precision:0.13653071941186767 \n",
      " recall:0.8873720136518771 \n",
      "}\n",
      "=====Epoch 14\n",
      "Training...\n"
     ]
    },
    {
     "name": "stderr",
     "output_type": "stream",
     "text": [
      "Iteration: 100%|██████████| 1004/1004 [01:25<00:00, 11.72it/s]\n",
      "Iteration:  85%|████████▌ | 856/1004 [01:17<00:14, 10.37it/s]"
     ]
    },
    {
     "name": "stdout",
     "output_type": "stream",
     "text": [
      "Evaluating...\n"
     ]
    },
    {
     "name": "stderr",
     "output_type": "stream",
     "text": [
      "Iteration: 100%|██████████| 1004/1004 [01:31<00:00, 10.95it/s]\n",
      "Iteration:  19%|█▉        | 193/1004 [00:16<01:05, 12.44it/s]"
     ]
    },
    {
     "name": "stdout",
     "output_type": "stream",
     "text": [
      "Evaluating...\n"
     ]
    },
    {
     "name": "stderr",
     "output_type": "stream",
     "text": [
      "Iteration:  96%|█████████▌| 961/1004 [00:46<00:02, 21.20it/s]]\n",
      "Iteration:  45%|████▍     | 448/1004 [00:22<00:27, 19.97it/s]]\n",
      "Iteration:  76%|███████▌  | 759/1004 [00:37<00:11, 21.15it/s]\n",
      "Iteration:  27%|██▋       | 30/112 [00:01<00:03, 21.61it/s]s]"
     ]
    },
    {
     "name": "stdout",
     "output_type": "stream",
     "text": [
      "{'Train':  best_epoch_indx:13\n",
      " auc:0.8686347867584627 \n",
      " apur:0.2859357589772172 \n",
      " f1:0.24205067313904555 \n",
      " precision:0.14042018679470816 \n",
      " recall:0.8762326169405815 \n",
      ", 'Validation':  best_epoch_indx:13\n",
      " auc:0.8523676159913908 \n",
      " apur:0.2685084473265569 \n",
      " f1:0.2351274787535411 \n",
      " precision:0.13643835616438357 \n",
      " recall:0.8498293515358362 \n",
      "}\n",
      "=====Epoch 14\n",
      "Training...\n"
     ]
    },
    {
     "name": "stderr",
     "output_type": "stream",
     "text": [
      "Iteration:  84%|████████▍ | 846/1004 [00:41<00:07, 21.24it/s]\n",
      "Iteration:  85%|████████▍ | 849/1004 [00:42<00:07, 21.02it/s]"
     ]
    },
    {
     "name": "stdout",
     "output_type": "stream",
     "text": [
      "{'Train':  best_epoch_indx:13\n",
      " auc:0.8653477922527124 \n",
      " apur:0.27679310590106315 \n",
      " f1:0.23874000220992597 \n",
      " precision:0.13791478037139968 \n",
      " recall:0.8877370417193426 \n",
      ", 'Validation':  best_epoch_indx:13\n",
      " auc:0.8562175967289705 \n",
      " apur:0.2675914857205908 \n",
      " f1:0.23437380167190733 \n",
      " precision:0.13544898501905858 \n",
      " recall:0.8691695108077361 \n",
      "}\n",
      "=====Epoch 14\n",
      "Training...\n"
     ]
    },
    {
     "name": "stderr",
     "output_type": "stream",
     "text": [
      "Iteration:  76%|███████▌  | 759/1004 [00:37<00:11, 21.55it/s]]\n",
      "Iteration:  68%|██████▊   | 685/1004 [00:58<00:28, 11.15it/s]\n",
      "Iteration:  87%|████████▋ | 876/1004 [00:42<00:05, 21.73it/s]"
     ]
    },
    {
     "name": "stdout",
     "output_type": "stream",
     "text": [
      "{'Train':  best_epoch_indx:13\n",
      " auc:0.8660796649627565 \n",
      " apur:0.2769908329542562 \n",
      " f1:0.24243059376282672 \n",
      " precision:0.1406466910535329 \n",
      " recall:0.877370417193426 \n",
      ", 'Validation':  best_epoch_indx:13\n",
      " auc:0.851469959201856 \n",
      " apur:0.2646185432976717 \n",
      " f1:0.2356748224151539 \n",
      " precision:0.13682184750733137 \n",
      " recall:0.8492605233219568 \n",
      "}\n",
      "=====Epoch 14\n",
      "Training...\n"
     ]
    },
    {
     "name": "stderr",
     "output_type": "stream",
     "text": [
      "Iteration:  78%|███████▊  | 781/1004 [01:06<00:19, 11.27it/s]]\n",
      "Iteration:  34%|███▍      | 339/1004 [00:29<00:58, 11.44it/s]\n",
      "Iteration:  16%|█▌        | 162/1004 [00:14<01:08, 12.23it/s]"
     ]
    },
    {
     "name": "stdout",
     "output_type": "stream",
     "text": [
      "{'Train':  best_epoch_indx:13\n",
      " auc:0.8678922721516378 \n",
      " apur:0.2824633842373619 \n",
      " f1:0.2275290424852323 \n",
      " precision:0.12998071689884483 \n",
      " recall:0.9118781212466022 \n",
      ", 'Validation':  best_epoch_indx:13\n",
      " auc:0.8539916691736167 \n",
      " apur:0.2682112019622519 \n",
      " f1:0.2202237643393287 \n",
      " precision:0.12576835975412487 \n",
      " recall:0.8845278725824801 \n",
      "}\n",
      "=====Epoch 14\n",
      "Training...\n"
     ]
    },
    {
     "name": "stderr",
     "output_type": "stream",
     "text": [
      "Iteration: 100%|██████████| 1004/1004 [01:26<00:00, 11.62it/s]\n",
      "Iteration:  17%|█▋        | 173/1004 [00:13<01:07, 12.38it/s]"
     ]
    },
    {
     "name": "stdout",
     "output_type": "stream",
     "text": [
      "Evaluating...\n"
     ]
    },
    {
     "name": "stderr",
     "output_type": "stream",
     "text": [
      "Iteration: 100%|██████████| 1004/1004 [01:28<00:00, 11.31it/s]\n",
      "Iteration:  64%|██████▍   | 647/1004 [00:55<00:36,  9.87it/s]"
     ]
    },
    {
     "name": "stdout",
     "output_type": "stream",
     "text": [
      "Evaluating...\n"
     ]
    },
    {
     "name": "stderr",
     "output_type": "stream",
     "text": [
      "Iteration: 100%|██████████| 1004/1004 [01:29<00:00, 11.24it/s]\n",
      "Iteration:  10%|▉         | 99/1004 [00:04<00:41, 21.61it/s]]"
     ]
    },
    {
     "name": "stdout",
     "output_type": "stream",
     "text": [
      "Evaluating...\n"
     ]
    },
    {
     "name": "stderr",
     "output_type": "stream",
     "text": [
      "Iteration:  74%|███████▍  | 745/1004 [01:04<00:24, 10.46it/s]]\n",
      "Iteration: 100%|██████████| 1004/1004 [01:24<00:00, 11.88it/s]\n",
      "Iteration:   0%|          | 0/1004 [00:00<?, ?it/s]\n",
      "Iteration:   0%|          | 1/1004 [00:00<01:58,  8.45it/s]s]"
     ]
    },
    {
     "name": "stdout",
     "output_type": "stream",
     "text": [
      "Evaluating...\n",
      "{'Train':  best_epoch_indx:14\n",
      " auc:0.8625758161201849 \n",
      " apur:0.2751213296816839 \n",
      " f1:0.2437684494029305 \n",
      " precision:0.1419033972921339 \n",
      " recall:0.8639610594854289 \n",
      ", 'Validation':  best_epoch_indx:14\n",
      " auc:0.8577740232746891 \n",
      " apur:0.2781338563313691 \n",
      " f1:0.243418420420901 \n",
      " precision:0.1416332991898687 \n",
      " recall:0.8651877133105802 \n",
      "}\n",
      "=====Epoch 15\n",
      "Training...\n"
     ]
    },
    {
     "name": "stderr",
     "output_type": "stream",
     "text": [
      "Iteration: 100%|██████████| 1004/1004 [01:26<00:00, 11.60it/s]\n",
      "Iteration:   0%|          | 0/1004 [00:00<?, ?it/s]"
     ]
    },
    {
     "name": "stdout",
     "output_type": "stream",
     "text": [
      "Evaluating...\n"
     ]
    },
    {
     "name": "stderr",
     "output_type": "stream",
     "text": [
      "Iteration:  42%|████▏     | 421/1004 [00:20<00:28, 20.56it/s]]\n",
      "Iteration:  55%|█████▌    | 62/112 [00:02<00:02, 21.76it/s]s]]\n",
      "Iteration:  88%|████████▊ | 885/1004 [00:42<00:05, 20.45it/s]\n",
      "Iteration:  47%|████▋     | 53/112 [00:02<00:02, 21.41it/s]s]"
     ]
    },
    {
     "name": "stdout",
     "output_type": "stream",
     "text": [
      "{'Train':  best_epoch_indx:14\n",
      " auc:0.8642825616619789 \n",
      " apur:0.27052410726179166 \n",
      " f1:0.24547815226474265 \n",
      " precision:0.14307710033203105 \n",
      " recall:0.8634639696586599 \n",
      ", 'Validation':  best_epoch_indx:14\n",
      " auc:0.847638480006598 \n",
      " apur:0.24614232075151798 \n",
      " f1:0.23940472339048846 \n",
      " precision:0.13954365453516876 \n",
      " recall:0.8418657565415245 \n",
      "}\n",
      "=====Epoch 15\n",
      "Training...\n"
     ]
    },
    {
     "name": "stderr",
     "output_type": "stream",
     "text": [
      "Iteration:  54%|█████▍    | 543/1004 [00:45<00:41, 11.24it/s]\n",
      "Iteration:   0%|          | 1/1004 [00:00<01:52,  8.92it/s]]]"
     ]
    },
    {
     "name": "stdout",
     "output_type": "stream",
     "text": [
      "{'Train':  best_epoch_indx:14\n",
      " auc:0.8658247150126062 \n",
      " apur:0.2788048243800704 \n",
      " f1:0.2204183909791564 \n",
      " precision:0.12525566343042072 \n",
      " recall:0.9174462705436157 \n",
      ", 'Validation':  best_epoch_indx:14\n",
      " auc:0.8578538795921777 \n",
      " apur:0.27578982130840884 \n",
      " f1:0.21795750514050724 \n",
      " precision:0.12390897755610973 \n",
      " recall:0.9044368600682594 \n",
      "}\n",
      "=====Epoch 15\n",
      "Training...\n"
     ]
    },
    {
     "name": "stderr",
     "output_type": "stream",
     "text": [
      "Iteration:  60%|██████    | 607/1004 [00:50<00:32, 12.31it/s]]\n",
      "Iteration:  78%|███████▊  | 787/1004 [00:39<00:10, 20.60it/s]\n",
      "Iteration:  12%|█▏        | 125/1004 [00:10<01:13, 11.99it/s]"
     ]
    },
    {
     "name": "stdout",
     "output_type": "stream",
     "text": [
      "{'Train':  best_epoch_indx:14\n",
      " auc:0.8626027658010917 \n",
      " apur:0.26646001574611233 \n",
      " f1:0.2550163053903702 \n",
      " precision:0.1503165988240615 \n",
      " recall:0.8403286978508218 \n",
      ", 'Validation':  best_epoch_indx:14\n",
      " auc:0.8493629726964611 \n",
      " apur:0.25255156946485885 \n",
      " f1:0.24585755183482258 \n",
      " precision:0.14505067048827924 \n",
      " recall:0.8060295790671217 \n",
      "}\n",
      "=====Epoch 15\n",
      "Training...\n"
     ]
    },
    {
     "name": "stderr",
     "output_type": "stream",
     "text": [
      "Iteration:  32%|███▏      | 326/1004 [00:26<00:53, 12.75it/s]]\n",
      "Iteration:  89%|████████▊ | 891/1004 [01:14<00:10, 11.13it/s]"
     ]
    },
    {
     "name": "stdout",
     "output_type": "stream",
     "text": [
      "{'Train':  best_epoch_indx:14\n",
      " auc:0.860180171196447 \n",
      " apur:0.2677791631664795 \n",
      " f1:0.21949219461823485 \n",
      " precision:0.12472710014238253 \n",
      " recall:0.9137113597572539 \n",
      ", 'Validation':  best_epoch_indx:14\n",
      " auc:0.8531335547201687 \n",
      " apur:0.2630547502190748 \n",
      " f1:0.21611244429208087 \n",
      " precision:0.12286582989007562 \n",
      " recall:0.8964732650739476 \n",
      "}\n",
      "=====Epoch 15\n",
      "Training...\n"
     ]
    },
    {
     "name": "stderr",
     "output_type": "stream",
     "text": [
      "\n",
      "Iteration: 100%|██████████| 1004/1004 [01:25<00:00, 11.71it/s]\n",
      "Iteration:  37%|███▋      | 371/1004 [00:30<00:52, 12.11it/s]"
     ]
    },
    {
     "name": "stdout",
     "output_type": "stream",
     "text": [
      "Evaluating...\n"
     ]
    },
    {
     "name": "stderr",
     "output_type": "stream",
     "text": [
      "Iteration: 100%|██████████| 1004/1004 [01:25<00:00, 11.76it/s]\n",
      "Iteration:  87%|████████▋ | 873/1004 [01:11<00:10, 12.76it/s]"
     ]
    },
    {
     "name": "stdout",
     "output_type": "stream",
     "text": [
      "Evaluating...\n"
     ]
    },
    {
     "name": "stderr",
     "output_type": "stream",
     "text": [
      "Iteration: 100%|██████████| 1004/1004 [01:23<00:00, 11.95it/s]\n",
      "Iteration:   0%|          | 2/1004 [00:00<01:03, 15.84it/s]s]"
     ]
    },
    {
     "name": "stdout",
     "output_type": "stream",
     "text": [
      "Evaluating...\n"
     ]
    },
    {
     "name": "stderr",
     "output_type": "stream",
     "text": [
      "Iteration:  11%|█         | 110/1004 [00:04<00:41, 21.72it/s]]\n",
      "Iteration:  26%|██▌       | 261/1004 [00:12<00:33, 22.43it/s]\n",
      "Iteration:  66%|██████▌   | 664/1004 [01:05<00:27, 12.34it/s]"
     ]
    },
    {
     "name": "stdout",
     "output_type": "stream",
     "text": [
      "{'Train':  best_epoch_indx:15\n",
      " auc:0.8677196908780491 \n",
      " apur:0.28105174646332487 \n",
      " f1:0.2440947653747316 \n",
      " precision:0.14178654316064984 \n",
      " recall:0.8766672988178772 \n",
      ", 'Validation':  best_epoch_indx:15\n",
      " auc:0.8615140176370124 \n",
      " apur:0.2823383804110162 \n",
      " f1:0.24190099009900995 \n",
      " precision:0.14051716205024387 \n",
      " recall:0.8686006825938567 \n",
      "}\n",
      "=====Epoch 16\n",
      "Training...\n"
     ]
    },
    {
     "name": "stderr",
     "output_type": "stream",
     "text": [
      "Iteration: 100%|██████████| 1004/1004 [01:25<00:00, 11.78it/s]\n",
      "Iteration:  68%|██████▊   | 678/1004 [01:06<00:27, 11.86it/s]"
     ]
    },
    {
     "name": "stdout",
     "output_type": "stream",
     "text": [
      "Evaluating...\n"
     ]
    },
    {
     "name": "stderr",
     "output_type": "stream",
     "text": [
      "Iteration: 100%|██████████| 1004/1004 [01:34<00:00, 10.57it/s]\n",
      "Iteration:  87%|████████▋ | 872/1004 [00:40<00:06, 20.02it/s]"
     ]
    },
    {
     "name": "stdout",
     "output_type": "stream",
     "text": [
      "Evaluating...\n"
     ]
    },
    {
     "name": "stderr",
     "output_type": "stream",
     "text": [
      "Iteration:  17%|█▋        | 173/1004 [00:07<00:39, 21.13it/s]]\n",
      "Iteration:  73%|███████▎  | 736/1004 [00:37<00:13, 20.27it/s]\n",
      "Iteration:  52%|█████▏    | 519/1004 [00:43<00:38, 12.50it/s]\n",
      "Iteration:   0%|          | 0/1004 [00:00<?, ?it/s]"
     ]
    },
    {
     "name": "stdout",
     "output_type": "stream",
     "text": [
      "{'Train':  best_epoch_indx:15\n",
      " auc:0.8650488343588092 \n",
      " apur:0.27303858295882283 \n",
      " f1:0.2325355543850408 \n",
      " precision:0.13367207902804587 \n",
      " recall:0.8929835651074589 \n",
      ", 'Validation':  best_epoch_indx:15\n",
      " auc:0.8505355505610365 \n",
      " apur:0.25339550906644603 \n",
      " f1:0.22769778833308596 \n",
      " precision:0.1309320587231137 \n",
      " recall:0.8725824800910125 \n",
      "}\n",
      "=====Epoch 16\n",
      "Training...\n"
     ]
    },
    {
     "name": "stderr",
     "output_type": "stream",
     "text": [
      "Iteration:  84%|████████▍ | 844/1004 [00:42<00:08, 19.77it/s]\n",
      "Iteration:  84%|████████▍ | 847/1004 [00:43<00:07, 20.15it/s]"
     ]
    },
    {
     "name": "stdout",
     "output_type": "stream",
     "text": [
      "{'Train':  best_epoch_indx:15\n",
      " auc:0.8612987849349348 \n",
      " apur:0.266595944857625 \n",
      " f1:0.21775133777764494 \n",
      " precision:0.12347436940602116 \n",
      " recall:0.9208596713021492 \n",
      ", 'Validation':  best_epoch_indx:15\n",
      " auc:0.8538219879578827 \n",
      " apur:0.261819463035988 \n",
      " f1:0.21565053001147796 \n",
      " precision:0.12234735309890446 \n",
      " recall:0.9084186575654153 \n",
      "}\n",
      "=====Epoch 16\n",
      "Training...\n"
     ]
    },
    {
     "name": "stderr",
     "output_type": "stream",
     "text": [
      "Iteration:  53%|█████▎    | 528/1004 [00:24<00:20, 22.73it/s]]\n",
      "Iteration:  65%|██████▍   | 648/1004 [00:30<00:16, 21.58it/s]\n",
      "Iteration:   0%|          | 0/1004 [00:00<?, ?it/s]"
     ]
    },
    {
     "name": "stdout",
     "output_type": "stream",
     "text": [
      "{'Train':  best_epoch_indx:15\n",
      " auc:0.8573996927355455 \n",
      " apur:0.25952301141199463 \n",
      " f1:0.20807092198581562 \n",
      " precision:0.11718325611119987 \n",
      " recall:0.9272439949431099 \n",
      ", 'Validation':  best_epoch_indx:15\n",
      " auc:0.846407723674315 \n",
      " apur:0.24798294533465842 \n",
      " f1:0.20592763664357197 \n",
      " precision:0.11605206073752712 \n",
      " recall:0.9129692832764505 \n",
      "}\n",
      "=====Epoch 16\n",
      "Training...\n"
     ]
    },
    {
     "name": "stderr",
     "output_type": "stream",
     "text": [
      "Iteration:  45%|████▍     | 449/1004 [00:36<00:43, 12.74it/s]]\n",
      "Iteration:  29%|██▊       | 287/1004 [00:23<01:05, 10.90it/s]]\n",
      "Iteration:  44%|████▍     | 445/1004 [00:39<00:54, 10.22it/s]"
     ]
    },
    {
     "name": "stdout",
     "output_type": "stream",
     "text": [
      "Evaluating...\n"
     ]
    },
    {
     "name": "stderr",
     "output_type": "stream",
     "text": [
      "Iteration:   4%|▍         | 41/1004 [00:01<00:47, 20.31it/s]]\n",
      "Iteration:  31%|███       | 309/1004 [00:25<01:07, 10.35it/s]"
     ]
    },
    {
     "name": "stdout",
     "output_type": "stream",
     "text": [
      "{'Train':  best_epoch_indx:15\n",
      " auc:0.8560838700863858 \n",
      " apur:0.2531092814248817 \n",
      " f1:0.2369622101868192 \n",
      " precision:0.13737249526266984 \n",
      " recall:0.8615588848852646 \n",
      ", 'Validation':  best_epoch_indx:15\n",
      " auc:0.8461140857140744 \n",
      " apur:0.2456200269577953 \n",
      " f1:0.23146190588051055 \n",
      " precision:0.13420503041859622 \n",
      " recall:0.8407281001137656 \n",
      "}\n",
      "=====Epoch 16\n",
      "Training...\n"
     ]
    },
    {
     "name": "stderr",
     "output_type": "stream",
     "text": [
      "Iteration: 100%|██████████| 1004/1004 [01:21<00:00, 12.34it/s]\n",
      "Iteration:  89%|████████▉ | 898/1004 [01:20<00:08, 12.22it/s]"
     ]
    },
    {
     "name": "stdout",
     "output_type": "stream",
     "text": [
      "Evaluating...\n"
     ]
    },
    {
     "name": "stderr",
     "output_type": "stream",
     "text": [
      "Iteration: 100%|██████████| 1004/1004 [01:29<00:00, 11.22it/s]\n",
      "Iteration:   0%|          | 2/1004 [00:00<00:57, 17.33it/s]s]"
     ]
    },
    {
     "name": "stdout",
     "output_type": "stream",
     "text": [
      "Evaluating...\n"
     ]
    },
    {
     "name": "stderr",
     "output_type": "stream",
     "text": [
      "Iteration:  63%|██████▎   | 629/1004 [00:51<00:31, 12.03it/s]]\n",
      "Iteration:  94%|█████████▍| 947/1004 [01:22<00:04, 12.18it/s]\n",
      "Iteration:  69%|██████▉   | 695/1004 [00:57<00:26, 11.56it/s]"
     ]
    },
    {
     "name": "stdout",
     "output_type": "stream",
     "text": [
      "{'Train':  best_epoch_indx:16\n",
      " auc:0.8712786882775252 \n",
      " apur:0.29727635100529026 \n",
      " f1:0.24621188748931216 \n",
      " precision:0.14305322243618634 \n",
      " recall:0.8828623806814591 \n",
      ", 'Validation':  best_epoch_indx:16\n",
      " auc:0.863039668096328 \n",
      " apur:0.2954428781470605 \n",
      " f1:0.24642885643603862 \n",
      " precision:0.14332126612828366 \n",
      " recall:0.8782707622298066 \n",
      "}\n",
      "=====Epoch 17\n",
      "Training...\n"
     ]
    },
    {
     "name": "stderr",
     "output_type": "stream",
     "text": [
      "Iteration: 100%|██████████| 1004/1004 [01:27<00:00, 11.53it/s]\n",
      "Iteration:   0%|          | 0/1004 [00:00<?, ?it/s]"
     ]
    },
    {
     "name": "stdout",
     "output_type": "stream",
     "text": [
      "Evaluating...\n"
     ]
    },
    {
     "name": "stderr",
     "output_type": "stream",
     "text": [
      "Iteration: 100%|██████████| 1004/1004 [01:22<00:00, 12.18it/s]\n",
      "Iteration:  69%|██████▉   | 696/1004 [00:34<00:19, 15.51it/s]"
     ]
    },
    {
     "name": "stdout",
     "output_type": "stream",
     "text": [
      "Evaluating...\n"
     ]
    },
    {
     "name": "stderr",
     "output_type": "stream",
     "text": [
      "Iteration:  88%|████████▊ | 882/1004 [00:43<00:05, 20.64it/s]]\n",
      "Iteration:  45%|████▌     | 455/1004 [00:41<00:44, 12.37it/s]]\n",
      "Iteration:  33%|███▎      | 333/1004 [00:15<00:32, 20.59it/s]"
     ]
    },
    {
     "name": "stdout",
     "output_type": "stream",
     "text": [
      "{'Train':  best_epoch_indx:16\n",
      " auc:0.8758860429287909 \n",
      " apur:0.306850146237756 \n",
      " f1:0.24005014625992477 \n",
      " precision:0.13831262640855244 \n",
      " recall:0.9077749683944374 \n",
      ", 'Validation':  best_epoch_indx:16\n",
      " auc:0.8584770459924295 \n",
      " apur:0.2793056070124143 \n",
      " f1:0.2345222833873765 \n",
      " precision:0.1351821264018082 \n",
      " recall:0.8845278725824801 \n",
      "}\n",
      "=====Epoch 17\n",
      "Training...\n"
     ]
    },
    {
     "name": "stderr",
     "output_type": "stream",
     "text": [
      "Iteration:   2%|▏         | 21/1004 [00:01<01:20, 12.15it/s]]\n",
      "Iteration:  89%|████████▉ | 895/1004 [00:44<00:04, 22.12it/s]\n",
      "Iteration:   0%|          | 1/1004 [00:00<02:22,  7.06it/s]s]"
     ]
    },
    {
     "name": "stdout",
     "output_type": "stream",
     "text": [
      "{'Train':  best_epoch_indx:16\n",
      " auc:0.8741933083842071 \n",
      " apur:0.3034007782188014 \n",
      " f1:0.23701955217351833 \n",
      " precision:0.13630711105626384 \n",
      " recall:0.9076485461441214 \n",
      ", 'Validation':  best_epoch_indx:16\n",
      " auc:0.8617143582950902 \n",
      " apur:0.2899842852069146 \n",
      " f1:0.23352080989876267 \n",
      " precision:0.13449080072557656 \n",
      " recall:0.8856655290102389 \n",
      "}\n",
      "=====Epoch 17\n",
      "Training...\n"
     ]
    },
    {
     "name": "stderr",
     "output_type": "stream",
     "text": [
      "Iteration:  65%|██████▍   | 650/1004 [00:31<00:16, 20.96it/s]]\n",
      "Iteration:  70%|██████▉   | 701/1004 [01:02<00:27, 11.17it/s]\n",
      "Iteration:  15%|█▍        | 148/1004 [00:13<01:13, 11.69it/s]"
     ]
    },
    {
     "name": "stdout",
     "output_type": "stream",
     "text": [
      "{'Train':  best_epoch_indx:16\n",
      " auc:0.8740563289730527 \n",
      " apur:0.30167024321362956 \n",
      " f1:0.24463447791957202 \n",
      " precision:0.1420235246193798 \n",
      " recall:0.8815423514538558 \n",
      ", 'Validation':  best_epoch_indx:16\n",
      " auc:0.86063631595423 \n",
      " apur:0.28795250246732396 \n",
      " f1:0.23749007148530582 \n",
      " precision:0.13801698670605614 \n",
      " recall:0.8503981797497155 \n",
      "}\n",
      "=====Epoch 17\n",
      "Training...\n"
     ]
    },
    {
     "name": "stderr",
     "output_type": "stream",
     "text": [
      "Iteration:  45%|████▍     | 447/1004 [00:36<00:45, 12.32it/s]]\n",
      "Iteration:  21%|██▏       | 214/1004 [00:20<01:08, 11.47it/s]\n",
      "Iteration:  94%|█████████▎| 940/1004 [01:23<00:05, 10.70it/s]"
     ]
    },
    {
     "name": "stdout",
     "output_type": "stream",
     "text": [
      "{'Train':  best_epoch_indx:16\n",
      " auc:0.8729005806158939 \n",
      " apur:0.29324525234169385 \n",
      " f1:0.22661171164165175 \n",
      " precision:0.1291998829486304 \n",
      " recall:0.921044313799861 \n",
      ", 'Validation':  best_epoch_indx:16\n",
      " auc:0.8597576900915933 \n",
      " apur:0.2739555816156709 \n",
      " f1:0.22262671520582472 \n",
      " precision:0.12693597317579436 \n",
      " recall:0.9044368600682594 \n",
      "}\n",
      "=====Epoch 17\n",
      "Training...\n"
     ]
    },
    {
     "name": "stderr",
     "output_type": "stream",
     "text": [
      "Iteration: 100%|██████████| 1004/1004 [01:28<00:00, 11.34it/s]\n",
      "Iteration:   0%|          | 0/1004 [00:00<?, ?it/s]"
     ]
    },
    {
     "name": "stdout",
     "output_type": "stream",
     "text": [
      "Evaluating...\n"
     ]
    },
    {
     "name": "stderr",
     "output_type": "stream",
     "text": [
      "Iteration: 100%|██████████| 1004/1004 [01:21<00:00, 12.34it/s]\n",
      "Iteration:  67%|██████▋   | 671/1004 [01:00<00:28, 11.80it/s]"
     ]
    },
    {
     "name": "stdout",
     "output_type": "stream",
     "text": [
      "Evaluating...\n"
     ]
    },
    {
     "name": "stderr",
     "output_type": "stream",
     "text": [
      "Iteration: 100%|██████████| 1004/1004 [01:24<00:00, 11.84it/s]\n",
      "Iteration:   0%|          | 2/1004 [00:00<01:08, 14.63it/s]s]"
     ]
    },
    {
     "name": "stdout",
     "output_type": "stream",
     "text": [
      "Evaluating...\n"
     ]
    },
    {
     "name": "stderr",
     "output_type": "stream",
     "text": [
      "Iteration:  33%|███▎      | 335/1004 [00:15<00:29, 22.42it/s]]\n",
      "Iteration:  21%|██        | 211/1004 [00:10<00:45, 17.25it/s]\n",
      "Iteration:  92%|█████████▏| 921/1004 [01:21<00:07, 11.05it/s]"
     ]
    },
    {
     "name": "stdout",
     "output_type": "stream",
     "text": [
      "{'Train':  best_epoch_indx:17\n",
      " auc:0.8793795072943493 \n",
      " apur:0.31419013630473885 \n",
      " f1:0.2491739724216926 \n",
      " precision:0.14476432286334412 \n",
      " recall:0.8938618117453695 \n",
      ", 'Validation':  best_epoch_indx:17\n",
      " auc:0.8675891004489109 \n",
      " apur:0.300248524128212 \n",
      " f1:0.2456280443983071 \n",
      " precision:0.14287041337668369 \n",
      " recall:0.8748577929465301 \n",
      "}\n",
      "=====Epoch 18\n",
      "Training...\n"
     ]
    },
    {
     "name": "stderr",
     "output_type": "stream",
     "text": [
      "Iteration: 100%|██████████| 1004/1004 [01:28<00:00, 11.30it/s]\n",
      "Iteration:  61%|██████    | 609/1004 [00:28<00:19, 20.59it/s]"
     ]
    },
    {
     "name": "stdout",
     "output_type": "stream",
     "text": [
      "Evaluating...\n"
     ]
    },
    {
     "name": "stderr",
     "output_type": "stream",
     "text": [
      "Iteration:  77%|███████▋  | 778/1004 [00:38<00:11, 19.70it/s]]\n",
      "Iteration: 100%|██████████| 1004/1004 [01:29<00:00, 11.28it/s]\n",
      "Iteration:  44%|████▍     | 444/1004 [00:21<00:27, 20.38it/s]"
     ]
    },
    {
     "name": "stdout",
     "output_type": "stream",
     "text": [
      "Evaluating...\n"
     ]
    },
    {
     "name": "stderr",
     "output_type": "stream",
     "text": [
      "Iteration:  36%|███▌      | 357/1004 [00:33<01:02, 10.40it/s]\n",
      "Iteration:  12%|█▏        | 116/1004 [00:05<00:41, 21.65it/s]"
     ]
    },
    {
     "name": "stdout",
     "output_type": "stream",
     "text": [
      "{'Train':  best_epoch_indx:17\n",
      " auc:0.8841504722226196 \n",
      " apur:0.32428795626621953 \n",
      " f1:0.250285764146416 \n",
      " precision:0.1451839854228881 \n",
      " recall:0.9065739570164348 \n",
      ", 'Validation':  best_epoch_indx:17\n",
      " auc:0.8632585102967275 \n",
      " apur:0.2910244267622148 \n",
      " f1:0.24100156494522693 \n",
      " precision:0.13972055888223553 \n",
      " recall:0.875995449374289 \n",
      "}\n",
      "=====Epoch 18\n",
      "Training...\n"
     ]
    },
    {
     "name": "stderr",
     "output_type": "stream",
     "text": [
      "Iteration:  28%|██▊       | 283/1004 [00:13<00:35, 20.27it/s]]\n",
      "Iteration:  40%|████      | 404/1004 [00:18<00:27, 21.67it/s]\n",
      "Iteration:  83%|████████▎ | 834/1004 [00:40<00:08, 20.39it/s]"
     ]
    },
    {
     "name": "stdout",
     "output_type": "stream",
     "text": [
      "{'Train':  best_epoch_indx:17\n",
      " auc:0.8797934686305858 \n",
      " apur:0.31141694379376494 \n",
      " f1:0.2546571433764062 \n",
      " precision:0.1487063018699722 \n",
      " recall:0.8857142857142857 \n",
      ", 'Validation':  best_epoch_indx:17\n",
      " auc:0.8676383780776354 \n",
      " apur:0.29734880944464304 \n",
      " f1:0.24909390444810542 \n",
      " precision:0.14563667886727028 \n",
      " recall:0.8600682593856656 \n",
      "}\n",
      "=====Epoch 18\n",
      "Training...\n"
     ]
    },
    {
     "name": "stderr",
     "output_type": "stream",
     "text": [
      "Iteration:  63%|██████▎   | 632/1004 [00:29<00:17, 20.78it/s]]\n",
      "Iteration:  37%|███▋      | 371/1004 [00:30<00:50, 12.55it/s]\n",
      "Iteration:  75%|███████▍  | 749/1004 [00:35<00:12, 20.70it/s]"
     ]
    },
    {
     "name": "stdout",
     "output_type": "stream",
     "text": [
      "{'Train':  best_epoch_indx:17\n",
      " auc:0.877534778194926 \n",
      " apur:0.3097408868543695 \n",
      " f1:0.2450997428233822 \n",
      " precision:0.14207864942181395 \n",
      " recall:0.8915929203539823 \n",
      ", 'Validation':  best_epoch_indx:17\n",
      " auc:0.8614014202293531 \n",
      " apur:0.2854301121657704 \n",
      " f1:0.24052123400580894 \n",
      " precision:0.13951370549130315 \n",
      " recall:0.8714448236632537 \n",
      "}\n",
      "=====Epoch 18\n",
      "Training...\n"
     ]
    },
    {
     "name": "stderr",
     "output_type": "stream",
     "text": [
      "Iteration:  55%|█████▌    | 553/1004 [00:45<00:37, 12.09it/s]]\n",
      "Iteration:  62%|██████▏   | 623/1004 [00:50<00:30, 12.35it/s]\n",
      "Iteration:  41%|████      | 411/1004 [00:37<00:56, 10.54it/s]"
     ]
    },
    {
     "name": "stdout",
     "output_type": "stream",
     "text": [
      "{'Train':  best_epoch_indx:17\n",
      " auc:0.8820939907537866 \n",
      " apur:0.3195557126622272 \n",
      " f1:0.2541880280164633 \n",
      " precision:0.14826319059101006 \n",
      " recall:0.8901321196030091 \n",
      ", 'Validation':  best_epoch_indx:17\n",
      " auc:0.8678913072611968 \n",
      " apur:0.30216976931236267 \n",
      " f1:0.24633950120675785 \n",
      " precision:0.14345952023988007 \n",
      " recall:0.8708759954493743 \n",
      "}\n",
      "=====Epoch 18\n",
      "Training...\n"
     ]
    },
    {
     "name": "stderr",
     "output_type": "stream",
     "text": [
      "Iteration:   6%|▌         | 59/1004 [00:04<01:16, 12.33it/s]s]"
     ]
    },
    {
     "name": "stdout",
     "output_type": "stream",
     "text": [
      "Evaluating...\n"
     ]
    },
    {
     "name": "stderr",
     "output_type": "stream",
     "text": [
      "Iteration: 100%|██████████| 1004/1004 [01:29<00:00, 11.28it/s]\n",
      "Iteration: 100%|██████████| 1004/1004 [01:27<00:00, 11.48it/s]\n",
      "Iteration:  79%|███████▉  | 795/1004 [01:13<00:19, 10.66it/s]"
     ]
    },
    {
     "name": "stdout",
     "output_type": "stream",
     "text": [
      "Evaluating...\n"
     ]
    },
    {
     "name": "stderr",
     "output_type": "stream",
     "text": [
      "Iteration: 100%|██████████| 1004/1004 [01:33<00:00, 10.73it/s]\n",
      "Iteration:  40%|████      | 403/1004 [00:20<00:26, 23.02it/s]"
     ]
    },
    {
     "name": "stdout",
     "output_type": "stream",
     "text": [
      "Evaluating...\n"
     ]
    },
    {
     "name": "stderr",
     "output_type": "stream",
     "text": [
      "Iteration:  44%|████▍     | 442/1004 [00:21<00:24, 23.04it/s]\n",
      "Iteration: 100%|██████████| 1004/1004 [01:24<00:00, 11.81it/s]\n",
      "Iteration:   0%|          | 0/1004 [00:00<?, ?it/s]"
     ]
    },
    {
     "name": "stdout",
     "output_type": "stream",
     "text": [
      "Evaluating...\n",
      "{'Train':  best_epoch_indx:18\n",
      " auc:0.8887126333843021 \n",
      " apur:0.332523663586903 \n",
      " f1:0.25062232056423733 \n",
      " precision:0.14515854501036274 \n",
      " recall:0.9164928250837601 \n",
      ", 'Validation':  best_epoch_indx:18\n",
      " auc:0.8754495462043629 \n",
      " apur:0.31429943420624684 \n",
      " f1:0.24595771144278608 \n",
      " precision:0.14244552494147308 \n",
      " recall:0.8998862343572241 \n",
      "}\n",
      "=====Epoch 19\n",
      "Training...\n"
     ]
    },
    {
     "name": "stderr",
     "output_type": "stream",
     "text": [
      "\n",
      "Iteration: 100%|██████████| 1004/1004 [01:22<00:00, 12.10it/s]\n",
      "Iteration:   0%|          | 2/1004 [00:00<01:05, 15.41it/s]s]"
     ]
    },
    {
     "name": "stdout",
     "output_type": "stream",
     "text": [
      "Evaluating...\n"
     ]
    },
    {
     "name": "stderr",
     "output_type": "stream",
     "text": [
      "Iteration:   8%|▊         | 83/1004 [00:03<00:42, 21.42it/s]]]\n",
      "Iteration:  57%|█████▋    | 574/1004 [00:28<00:20, 21.45it/s]\n",
      "Iteration:  68%|██████▊   | 682/1004 [00:36<00:16, 19.73it/s]"
     ]
    },
    {
     "name": "stdout",
     "output_type": "stream",
     "text": [
      "{'Train':  best_epoch_indx:18\n",
      " auc:0.8929956055908347 \n",
      " apur:0.35024564586057944 \n",
      " f1:0.2519168719425459 \n",
      " precision:0.14599083159079942 \n",
      " recall:0.9179519595448798 \n",
      ", 'Validation':  best_epoch_indx:18\n",
      " auc:0.8721251635977796 \n",
      " apur:0.30235782184626225 \n",
      " f1:0.242665418227216 \n",
      " precision:0.14062217399168023 \n",
      " recall:0.8845278725824801 \n",
      "}\n",
      "=====Epoch 19\n",
      "Training...\n"
     ]
    },
    {
     "name": "stderr",
     "output_type": "stream",
     "text": [
      "Iteration:  93%|█████████▎| 938/1004 [00:46<00:03, 20.29it/s]]\n",
      "Iteration:  29%|██▉       | 295/1004 [00:23<00:56, 12.57it/s]]\n",
      "Iteration:  60%|██████    | 605/1004 [00:52<00:32, 12.44it/s]\n",
      "Iteration:  67%|██████▋   | 670/1004 [00:33<00:15, 21.01it/s]"
     ]
    },
    {
     "name": "stdout",
     "output_type": "stream",
     "text": [
      "{'Train':  best_epoch_indx:18\n",
      " auc:0.8908908269473164 \n",
      " apur:0.33303196686456776 \n",
      " f1:0.25663068344295115 \n",
      " precision:0.1494421547812331 \n",
      " recall:0.9076485461441214 \n",
      ", 'Validation':  best_epoch_indx:18\n",
      " auc:0.8758283881635782 \n",
      " apur:0.3148172559430881 \n",
      " f1:0.24900769542324824 \n",
      " precision:0.14517804855010863 \n",
      " recall:0.8742889647326507 \n",
      "}\n",
      "=====Epoch 19\n",
      "Training...\n"
     ]
    },
    {
     "name": "stderr",
     "output_type": "stream",
     "text": [
      "Iteration:  36%|███▋      | 365/1004 [00:29<00:52, 12.24it/s]\n",
      "Iteration:   0%|          | 0/1004 [00:00<?, ?it/s]"
     ]
    },
    {
     "name": "stdout",
     "output_type": "stream",
     "text": [
      "{'Train':  best_epoch_indx:18\n",
      " auc:0.8871870005664683 \n",
      " apur:0.3262689402992526 \n",
      " f1:0.2487069002737313 \n",
      " precision:0.14402872373408543 \n",
      " recall:0.9103034134007585 \n",
      ", 'Validation':  best_epoch_indx:18\n",
      " auc:0.8695358539073714 \n",
      " apur:0.30084910548519495 \n",
      " f1:0.24166014095536417 \n",
      " precision:0.1401198692335634 \n",
      " recall:0.8777019340159272 \n",
      "}\n",
      "=====Epoch 19\n",
      "Training...\n"
     ]
    },
    {
     "name": "stderr",
     "output_type": "stream",
     "text": [
      "Iteration:  83%|████████▎ | 835/1004 [01:10<00:13, 12.59it/s]]\n",
      "Iteration:  59%|█████▉    | 597/1004 [00:48<00:33, 12.10it/s]\n",
      "Iteration:  60%|█████▉    | 599/1004 [00:48<00:33, 12.05it/s]"
     ]
    },
    {
     "name": "stdout",
     "output_type": "stream",
     "text": [
      "{'Train':  best_epoch_indx:18\n",
      " auc:0.8890434948831079 \n",
      " apur:0.3320357795797876 \n",
      " f1:0.25439922223695255 \n",
      " precision:0.14787415490208167 \n",
      " recall:0.9097920222517226 \n",
      ", 'Validation':  best_epoch_indx:18\n",
      " auc:0.8714752139269992 \n",
      " apur:0.30419245013122875 \n",
      " f1:0.24393723252496427 \n",
      " precision:0.14171270718232043 \n",
      " recall:0.8754266211604096 \n",
      "}\n",
      "=====Epoch 19\n",
      "Training...\n"
     ]
    },
    {
     "name": "stderr",
     "output_type": "stream",
     "text": [
      "Iteration: 100%|██████████| 1004/1004 [01:24<00:00, 11.92it/s]\n",
      "Iteration:  69%|██████▉   | 697/1004 [00:56<00:25, 11.93it/s]"
     ]
    },
    {
     "name": "stdout",
     "output_type": "stream",
     "text": [
      "Evaluating...\n"
     ]
    },
    {
     "name": "stderr",
     "output_type": "stream",
     "text": [
      "Iteration: 100%|██████████| 1004/1004 [01:21<00:00, 12.30it/s]\n",
      "Iteration:  66%|██████▌   | 659/1004 [00:57<00:28, 12.18it/s]"
     ]
    },
    {
     "name": "stdout",
     "output_type": "stream",
     "text": [
      "Evaluating...\n"
     ]
    },
    {
     "name": "stderr",
     "output_type": "stream",
     "text": [
      "Iteration:  91%|█████████ | 915/1004 [01:15<00:08, 10.33it/s]]\n",
      "Iteration:  74%|███████▍  | 741/1004 [01:01<00:21, 12.33it/s]\n",
      "Iteration:   0%|          | 1/1004 [00:00<02:05,  7.99it/s]s]"
     ]
    },
    {
     "name": "stdout",
     "output_type": "stream",
     "text": [
      "{'Train':  best_epoch_indx:19\n",
      " auc:0.8957520018336613 \n",
      " apur:0.3466028495337504 \n",
      " f1:0.2600817292181955 \n",
      " precision:0.15152084703818564 \n",
      " recall:0.9173146216575004 \n",
      ", 'Validation':  best_epoch_indx:19\n",
      " auc:0.8797031333321991 \n",
      " apur:0.32408057734237294 \n",
      " f1:0.2554466672066089 \n",
      " precision:0.14892813296817453 \n",
      " recall:0.897042093287827 \n",
      "}\n",
      "=====Epoch 20\n",
      "Training...\n"
     ]
    },
    {
     "name": "stderr",
     "output_type": "stream",
     "text": [
      "Iteration: 100%|██████████| 1004/1004 [01:28<00:00, 11.33it/s]\n",
      "Iteration:   3%|▎         | 27/1004 [00:02<01:34, 10.37it/s]]"
     ]
    },
    {
     "name": "stdout",
     "output_type": "stream",
     "text": [
      "Evaluating...\n"
     ]
    },
    {
     "name": "stderr",
     "output_type": "stream",
     "text": [
      "Iteration: 100%|██████████| 1004/1004 [01:23<00:00, 12.00it/s]\n",
      "Iteration:   1%|          | 11/1004 [00:00<00:46, 21.24it/s]]"
     ]
    },
    {
     "name": "stdout",
     "output_type": "stream",
     "text": [
      "Evaluating...\n"
     ]
    },
    {
     "name": "stderr",
     "output_type": "stream",
     "text": [
      "Iteration: 100%|██████████| 1004/1004 [01:23<00:00, 12.03it/s]\n",
      "Iteration:  24%|██▎       | 237/1004 [00:21<01:09, 11.05it/s]"
     ]
    },
    {
     "name": "stdout",
     "output_type": "stream",
     "text": [
      "Evaluating...\n"
     ]
    },
    {
     "name": "stderr",
     "output_type": "stream",
     "text": [
      "Iteration:  44%|████▎     | 439/1004 [00:20<00:26, 21.36it/s]\n",
      "Iteration:  55%|█████▌    | 556/1004 [00:26<00:21, 20.40it/s]\n",
      "Iteration:  54%|█████▍    | 544/1004 [00:25<00:23, 20.00it/s]"
     ]
    },
    {
     "name": "stdout",
     "output_type": "stream",
     "text": [
      "{'Train':  best_epoch_indx:19\n",
      " auc:0.8986754507742312 \n",
      " apur:0.3597823480862069 \n",
      " f1:0.26001925408257864 \n",
      " precision:0.15135320244074552 \n",
      " recall:0.9219342604298356 \n",
      ", 'Validation':  best_epoch_indx:19\n",
      " auc:0.8746547694750896 \n",
      " apur:0.30796753673805105 \n",
      " f1:0.24849602951792732 \n",
      " precision:0.14464469138108133 \n",
      " recall:0.8811149032992036 \n",
      "}\n",
      "=====Epoch 20\n",
      "Training...\n"
     ]
    },
    {
     "name": "stderr",
     "output_type": "stream",
     "text": [
      "Iteration:  29%|██▉       | 293/1004 [00:23<00:57, 12.33it/s]]\n",
      "Iteration:  67%|██████▋   | 669/1004 [00:31<00:16, 20.40it/s]\n",
      "Iteration:  36%|███▋      | 365/1004 [00:29<00:50, 12.58it/s]\n",
      "Iteration:  68%|██████▊   | 687/1004 [00:58<00:25, 12.29it/s]"
     ]
    },
    {
     "name": "stdout",
     "output_type": "stream",
     "text": [
      "{'Train':  best_epoch_indx:19\n",
      " auc:0.8944503673291492 \n",
      " apur:0.3439916959502055 \n",
      " f1:0.2522073335410824 \n",
      " precision:0.1461124929792185 \n",
      " recall:0.9208596713021492 \n",
      ", 'Validation':  best_epoch_indx:19\n",
      " auc:0.8773779147645611 \n",
      " apur:0.3177012467838339 \n",
      " f1:0.24520892240025136 \n",
      " precision:0.14224530708948424 \n",
      " recall:0.8879408418657565 \n",
      "}\n",
      "=====Epoch 20\n",
      "Training...\n"
     ]
    },
    {
     "name": "stderr",
     "output_type": "stream",
     "text": [
      "Iteration:  69%|██████▉   | 691/1004 [00:58<00:25, 12.30it/s]\n",
      "Iteration:  69%|██████▉   | 693/1004 [00:59<00:25, 12.29it/s]"
     ]
    },
    {
     "name": "stdout",
     "output_type": "stream",
     "text": [
      "{'Train':  best_epoch_indx:19\n",
      " auc:0.8925491404317324 \n",
      " apur:0.3392624493969846 \n",
      " f1:0.24854540962798263 \n",
      " precision:0.14362932842360215 \n",
      " recall:0.9221238938053097 \n",
      ", 'Validation':  best_epoch_indx:19\n",
      " auc:0.8743856267672921 \n",
      " apur:0.3112246740114532 \n",
      " f1:0.24269073516932801 \n",
      " precision:0.14038375725122712 \n",
      " recall:0.8947667804323094 \n",
      "}\n",
      "=====Epoch 20\n",
      "Training...\n"
     ]
    },
    {
     "name": "stderr",
     "output_type": "stream",
     "text": [
      "Iteration:  16%|█▌        | 159/1004 [00:13<01:09, 12.12it/s]]\n",
      "Iteration:  91%|█████████ | 913/1004 [01:17<00:07, 12.33it/s]\n",
      "Iteration:  91%|█████████ | 915/1004 [01:18<00:07, 12.15it/s]"
     ]
    },
    {
     "name": "stdout",
     "output_type": "stream",
     "text": [
      "{'Train':  best_epoch_indx:19\n",
      " auc:0.8948910133518102 \n",
      " apur:0.34463644847188074 \n",
      " f1:0.2597491222871715 \n",
      " precision:0.15137624280481424 \n",
      " recall:0.9143435109678235 \n",
      ", 'Validation':  best_epoch_indx:19\n",
      " auc:0.8775884214010337 \n",
      " apur:0.3195848152123506 \n",
      " f1:0.24811426737281334 \n",
      " precision:0.1444319880418535 \n",
      " recall:0.8794084186575654 \n",
      "}\n",
      "=====Epoch 20\n",
      "Training...\n"
     ]
    },
    {
     "name": "stderr",
     "output_type": "stream",
     "text": [
      "Iteration: 100%|██████████| 1004/1004 [01:25<00:00, 11.74it/s]\n",
      "Iteration:  68%|██████▊   | 685/1004 [00:56<00:29, 10.72it/s]"
     ]
    },
    {
     "name": "stdout",
     "output_type": "stream",
     "text": [
      "Evaluating...\n"
     ]
    },
    {
     "name": "stderr",
     "output_type": "stream",
     "text": [
      "Iteration: 100%|██████████| 1004/1004 [01:27<00:00, 11.47it/s]\n",
      "Iteration:  45%|████▌     | 455/1004 [00:38<00:47, 11.66it/s]"
     ]
    },
    {
     "name": "stdout",
     "output_type": "stream",
     "text": [
      "Evaluating...\n"
     ]
    },
    {
     "name": "stderr",
     "output_type": "stream",
     "text": [
      "Iteration:  90%|█████████ | 905/1004 [01:17<00:07, 12.38it/s]]\n",
      "Iteration:  91%|█████████ | 916/1004 [01:23<00:07, 12.21it/s]\n",
      "Iteration:  51%|█████     | 513/1004 [00:25<00:23, 20.47it/s]"
     ]
    },
    {
     "name": "stdout",
     "output_type": "stream",
     "text": [
      "{'Train':  best_epoch_indx:20\n",
      " auc:0.89658587987102 \n",
      " apur:0.3487916661358448 \n",
      " f1:0.26097556603266225 \n",
      " precision:0.15204653931715875 \n",
      " recall:0.9202857323471775 \n",
      ", 'Validation':  best_epoch_indx:20\n",
      " auc:0.8807613282377464 \n",
      " apur:0.3267893318870952 \n",
      " f1:0.25451892680554433 \n",
      " precision:0.14840722185461763 \n",
      " recall:0.8930602957906713 \n",
      "}\n",
      "=====Epoch 21\n",
      "Training...\n"
     ]
    },
    {
     "name": "stderr",
     "output_type": "stream",
     "text": [
      "Iteration: 100%|██████████| 1004/1004 [01:25<00:00, 11.77it/s]\n",
      "Iteration:   0%|          | 2/1004 [00:00<01:05, 15.38it/s]s]"
     ]
    },
    {
     "name": "stdout",
     "output_type": "stream",
     "text": [
      "Evaluating...\n"
     ]
    },
    {
     "name": "stderr",
     "output_type": "stream",
     "text": [
      "Iteration: 100%|██████████| 1004/1004 [01:30<00:00, 11.10it/s]\n",
      "Iteration:   9%|▉         | 91/1004 [00:07<01:15, 12.07it/s]]"
     ]
    },
    {
     "name": "stdout",
     "output_type": "stream",
     "text": [
      "Evaluating...\n"
     ]
    },
    {
     "name": "stderr",
     "output_type": "stream",
     "text": [
      "Iteration: 100%|██████████| 1004/1004 [01:27<00:00, 11.44it/s]\n",
      "Iteration:  36%|███▌      | 361/1004 [00:16<00:31, 20.56it/s]"
     ]
    },
    {
     "name": "stdout",
     "output_type": "stream",
     "text": [
      "Evaluating...\n"
     ]
    },
    {
     "name": "stderr",
     "output_type": "stream",
     "text": [
      "Iteration:   5%|▍         | 50/1004 [00:02<00:44, 21.44it/s]]\n",
      "Iteration:  17%|█▋        | 167/1004 [00:07<00:39, 20.94it/s]\n",
      "Iteration:  52%|█████▏    | 522/1004 [00:24<00:23, 20.33it/s]"
     ]
    },
    {
     "name": "stdout",
     "output_type": "stream",
     "text": [
      "{'Train':  best_epoch_indx:20\n",
      " auc:0.8983057992154655 \n",
      " apur:0.35949505352909383 \n",
      " f1:0.2673361759425494 \n",
      " precision:0.15687414951055703 \n",
      " recall:0.9036030341340076 \n",
      ", 'Validation':  best_epoch_indx:20\n",
      " auc:0.8721209016033068 \n",
      " apur:0.305258830684805 \n",
      " f1:0.25359455141679976 \n",
      " precision:0.1487913172175629 \n",
      " recall:0.8577929465301479 \n",
      "}\n",
      "=====Epoch 21\n",
      "Training...\n"
     ]
    },
    {
     "name": "stderr",
     "output_type": "stream",
     "text": [
      "Iteration:  92%|█████████▏| 925/1004 [00:44<00:04, 19.63it/s]]\n",
      "Iteration:  70%|██████▉   | 702/1004 [00:33<00:14, 20.68it/s]]"
     ]
    },
    {
     "name": "stdout",
     "output_type": "stream",
     "text": [
      "{'Train':  best_epoch_indx:20\n",
      " auc:0.8940482992601123 \n",
      " apur:0.3412909081485437 \n",
      " f1:0.26692937882401746 \n",
      " precision:0.15685905177667225 \n",
      " recall:0.8948798988621998 \n",
      ", 'Validation':  best_epoch_indx:20\n",
      " auc:0.8731036547203771 \n",
      " apur:0.30996861942826665 \n",
      " f1:0.25805899957246686 \n",
      " precision:0.15185669719231157 \n",
      " recall:0.8583617747440273 \n",
      "}\n",
      "=====Epoch 21\n",
      "Training...\n"
     ]
    },
    {
     "name": "stderr",
     "output_type": "stream",
     "text": [
      "\n",
      "Iteration:  32%|███▏      | 321/1004 [00:26<00:56, 12.05it/s]\n",
      "Iteration:  83%|████████▎ | 832/1004 [00:39<00:08, 20.91it/s]\n",
      "Iteration:  38%|███▊      | 383/1004 [00:31<00:59, 10.50it/s]"
     ]
    },
    {
     "name": "stdout",
     "output_type": "stream",
     "text": [
      "{'Train':  best_epoch_indx:20\n",
      " auc:0.8945408495872139 \n",
      " apur:0.34293486121020267 \n",
      " f1:0.2580438553573811 \n",
      " precision:0.1501526994150836 \n",
      " recall:0.9168141592920354 \n",
      ", 'Validation':  best_epoch_indx:20\n",
      " auc:0.8762318689371558 \n",
      " apur:0.31598567795851634 \n",
      " f1:0.24786462530217568 \n",
      " precision:0.14438603079233947 \n",
      " recall:0.8748577929465301 \n",
      "}\n",
      "=====Epoch 21\n",
      "Training...\n"
     ]
    },
    {
     "name": "stderr",
     "output_type": "stream",
     "text": [
      "Iteration:  90%|████████▉ | 899/1004 [01:13<00:08, 12.35it/s]]\n",
      "Iteration:  27%|██▋       | 267/1004 [00:22<00:58, 12.53it/s]\n",
      "Iteration:  19%|█▉        | 189/1004 [00:16<01:13, 11.03it/s]"
     ]
    },
    {
     "name": "stdout",
     "output_type": "stream",
     "text": [
      "{'Train':  best_epoch_indx:20\n",
      " auc:0.8960389254595531 \n",
      " apur:0.35257318494975787 \n",
      " f1:0.25402699361041703 \n",
      " precision:0.14713836414992287 \n",
      " recall:0.9286301283266958 \n",
      ", 'Validation':  best_epoch_indx:20\n",
      " auc:0.8764682795274028 \n",
      " apur:0.31761135514470207 \n",
      " f1:0.2418597490570395 \n",
      " precision:0.13985578207068458 \n",
      " recall:0.8936291240045506 \n",
      "}\n",
      "=====Epoch 21\n",
      "Training...\n"
     ]
    },
    {
     "name": "stderr",
     "output_type": "stream",
     "text": [
      "Iteration: 100%|██████████| 1004/1004 [01:22<00:00, 12.19it/s]\n",
      "Iteration:   3%|▎         | 35/1004 [00:03<01:25, 11.28it/s]]"
     ]
    },
    {
     "name": "stdout",
     "output_type": "stream",
     "text": [
      "Evaluating...\n"
     ]
    },
    {
     "name": "stderr",
     "output_type": "stream",
     "text": [
      "Iteration: 100%|██████████| 1004/1004 [01:24<00:00, 11.92it/s]\n",
      "Iteration:  42%|████▏     | 419/1004 [00:36<00:46, 12.61it/s]"
     ]
    },
    {
     "name": "stdout",
     "output_type": "stream",
     "text": [
      "Evaluating...\n"
     ]
    },
    {
     "name": "stderr",
     "output_type": "stream",
     "text": [
      "Iteration:  39%|███▉      | 393/1004 [00:17<00:28, 21.62it/s]]\n",
      "Iteration: 100%|██████████| 1004/1004 [01:21<00:00, 12.25it/s]\n",
      "Iteration:  87%|████████▋ | 873/1004 [01:15<00:11, 11.66it/s]"
     ]
    },
    {
     "name": "stdout",
     "output_type": "stream",
     "text": [
      "Evaluating...\n"
     ]
    },
    {
     "name": "stderr",
     "output_type": "stream",
     "text": [
      "\r",
      "Iteration:  70%|██████▉   | 701/1004 [00:59<00:25, 11.74it/s]\r",
      "Iteration:   0%|          | 4/1004 [00:00<00:55, 17.97it/s]\r",
      "Iteration:  51%|█████     | 510/1004 [00:23<00:22, 22.15it/s]\n",
      "\r",
      "Iteration:   0%|          | 0/1004 [00:00<?, ?it/s]\r",
      "Iteration:  87%|████████▋ | 875/1004 [01:16<00:11, 11.71it/s]\r",
      "Iteration:  70%|███████   | 703/1004 [01:00<00:25, 11.82it/s]\r",
      "Iteration:   1%|          | 7/1004 [00:00<00:51, 19.51it/s]\r",
      "Iteration:  51%|█████     | 513/1004 [00:23<00:22, 22.11it/s]\r",
      "Iteration:   0%|          | 1/1004 [00:00<01:49,  9.16it/s]"
     ]
    },
    {
     "name": "stdout",
     "output_type": "stream",
     "text": [
      "{'Train':  best_epoch_indx:21\n",
      " auc:0.8926003544655909 \n",
      " apur:0.33968880975536586 \n",
      " f1:0.272005772005772 \n",
      " precision:0.1608046573289527 \n",
      " recall:0.8817877236234908 \n",
      ", 'Validation':  best_epoch_indx:21\n",
      " auc:0.8756479398039131 \n",
      " apur:0.32345243996601625 \n",
      " f1:0.26586209956517887 \n",
      " precision:0.15750183997476605 \n",
      " recall:0.8521046643913538 \n",
      "}\n",
      "=====Epoch 22\n",
      "Training...\n"
     ]
    },
    {
     "name": "stderr",
     "output_type": "stream",
     "text": [
      "Iteration: 100%|██████████| 1004/1004 [01:27<00:00, 11.51it/s]\n",
      "Iteration:  13%|█▎        | 135/1004 [00:11<01:11, 12.16it/s]"
     ]
    },
    {
     "name": "stdout",
     "output_type": "stream",
     "text": [
      "Evaluating...\n"
     ]
    },
    {
     "name": "stderr",
     "output_type": "stream",
     "text": [
      "Iteration: 100%|██████████| 1004/1004 [01:24<00:00, 11.85it/s]\n",
      "Iteration:  29%|██▉       | 295/1004 [00:24<00:57, 12.24it/s]"
     ]
    },
    {
     "name": "stdout",
     "output_type": "stream",
     "text": [
      "Evaluating...\n"
     ]
    },
    {
     "name": "stderr",
     "output_type": "stream",
     "text": [
      "Iteration:   1%|          | 11/1004 [00:00<00:48, 20.54it/s]]\n",
      "Iteration:  64%|██████▍   | 642/1004 [00:31<00:18, 19.91it/s]\n",
      "Iteration:   0%|          | 0/1004 [00:00<?, ?it/s]"
     ]
    },
    {
     "name": "stdout",
     "output_type": "stream",
     "text": [
      "{'Train':  best_epoch_indx:21\n",
      " auc:0.8943373783614152 \n",
      " apur:0.3541310235551103 \n",
      " f1:0.24823855591260188 \n",
      " precision:0.14334674852873497 \n",
      " recall:0.9253476611883692 \n",
      ", 'Validation':  best_epoch_indx:21\n",
      " auc:0.8694548849850096 \n",
      " apur:0.2911875341701179 \n",
      " f1:0.24186260243547522 \n",
      " precision:0.13974688025488982 \n",
      " recall:0.8981797497155859 \n",
      "}\n",
      "=====Epoch 22\n",
      "Training...\n"
     ]
    },
    {
     "name": "stderr",
     "output_type": "stream",
     "text": [
      "Iteration:  56%|█████▌    | 563/1004 [00:26<00:21, 20.97it/s]]\n",
      "Iteration:  30%|██▉       | 301/1004 [00:25<01:03, 11.08it/s]\n",
      "Iteration:  67%|██████▋   | 669/1004 [00:56<00:27, 12.33it/s]"
     ]
    },
    {
     "name": "stdout",
     "output_type": "stream",
     "text": [
      "{'Train':  best_epoch_indx:21\n",
      " auc:0.889994906327771 \n",
      " apur:0.33619385730240336 \n",
      " f1:0.25496814891599995 \n",
      " precision:0.1482653092767571 \n",
      " recall:0.9095448798988622 \n",
      ", 'Validation':  best_epoch_indx:21\n",
      " auc:0.8690075280999127 \n",
      " apur:0.2968216592063956 \n",
      " f1:0.24672295938882188 \n",
      " precision:0.14367331647466516 \n",
      " recall:0.8725824800910125 \n",
      "}\n",
      "=====Epoch 22\n",
      "Training...\n"
     ]
    },
    {
     "name": "stderr",
     "output_type": "stream",
     "text": [
      "Iteration:  36%|███▌      | 361/1004 [00:31<00:59, 10.75it/s]]\n",
      "Iteration:  13%|█▎        | 135/1004 [00:11<01:10, 12.33it/s]\n",
      "Iteration:   0%|          | 0/1004 [00:00<?, ?it/s]"
     ]
    },
    {
     "name": "stdout",
     "output_type": "stream",
     "text": [
      "{'Train':  best_epoch_indx:21\n",
      " auc:0.8956112550701572 \n",
      " apur:0.34401527383323754 \n",
      " f1:0.25067060541237984 \n",
      " precision:0.14477761217445873 \n",
      " recall:0.9333122629582806 \n",
      ", 'Validation':  best_epoch_indx:21\n",
      " auc:0.8775776093940028 \n",
      " apur:0.3116626109333932 \n",
      " f1:0.24179699478687516 \n",
      " precision:0.13973063973063973 \n",
      " recall:0.897042093287827 \n",
      "}\n",
      "=====Epoch 22\n",
      "Training...\n"
     ]
    },
    {
     "name": "stderr",
     "output_type": "stream",
     "text": [
      "Iteration:  90%|████████▉ | 903/1004 [01:15<00:08, 12.51it/s]]\n",
      "Iteration:  97%|█████████▋| 975/1004 [01:21<00:02, 12.43it/s]\n",
      "Iteration:  16%|█▌        | 160/1004 [00:13<01:08, 12.25it/s]"
     ]
    },
    {
     "name": "stdout",
     "output_type": "stream",
     "text": [
      "{'Train':  best_epoch_indx:21\n",
      " auc:0.891366731130951 \n",
      " apur:0.34098184190236724 \n",
      " f1:0.2656954887218045 \n",
      " precision:0.15604817787394706 \n",
      " recall:0.8935457361400847 \n",
      ", 'Validation':  best_epoch_indx:21\n",
      " auc:0.8712771074512872 \n",
      " apur:0.3127875083482355 \n",
      " f1:0.25434107876855966 \n",
      " precision:0.14916855259273837 \n",
      " recall:0.8623435722411832 \n",
      "}\n",
      "=====Epoch 22\n",
      "Training...\n"
     ]
    },
    {
     "name": "stderr",
     "output_type": "stream",
     "text": [
      "Iteration: 100%|██████████| 1004/1004 [01:23<00:00, 11.98it/s]\n",
      "Iteration:  33%|███▎      | 329/1004 [00:27<01:03, 10.68it/s]"
     ]
    },
    {
     "name": "stdout",
     "output_type": "stream",
     "text": [
      "Evaluating...\n"
     ]
    },
    {
     "name": "stderr",
     "output_type": "stream",
     "text": [
      "Iteration: 100%|██████████| 1004/1004 [01:31<00:00, 10.91it/s]\n",
      "Iteration:  51%|█████     | 513/1004 [00:41<00:39, 12.49it/s]"
     ]
    },
    {
     "name": "stdout",
     "output_type": "stream",
     "text": [
      "Evaluating...\n"
     ]
    },
    {
     "name": "stderr",
     "output_type": "stream",
     "text": [
      "Iteration:  91%|█████████ | 915/1004 [01:18<00:07, 11.90it/s]]\n",
      "Iteration:  32%|███▏      | 325/1004 [00:17<00:32, 20.90it/s]"
     ]
    },
    {
     "name": "stdout",
     "output_type": "stream",
     "text": [
      "{'Train':  best_epoch_indx:22\n",
      " auc:0.890050907375687 \n",
      " apur:0.32882537119326266 \n",
      " f1:0.2552886148612735 \n",
      " precision:0.14844691701437182 \n",
      " recall:0.9108666793096909 \n",
      ", 'Validation':  best_epoch_indx:22\n",
      " auc:0.8732361803169288 \n",
      " apur:0.30051291232045557 \n",
      " f1:0.25024030759371996 \n",
      " precision:0.1456274473242588 \n",
      " recall:0.888509670079636 \n",
      "}\n",
      "=====Epoch 23\n",
      "Training...\n"
     ]
    },
    {
     "name": "stderr",
     "output_type": "stream",
     "text": [
      "\n",
      "Iteration: 100%|██████████| 1004/1004 [01:25<00:00, 11.71it/s]\n",
      "Iteration:  36%|███▋      | 364/1004 [00:19<00:30, 20.71it/s]"
     ]
    },
    {
     "name": "stdout",
     "output_type": "stream",
     "text": [
      "Evaluating...\n"
     ]
    },
    {
     "name": "stderr",
     "output_type": "stream",
     "text": [
      "Iteration: 100%|██████████| 1004/1004 [01:24<00:00, 11.89it/s]\n",
      "Iteration:  14%|█▎        | 137/1004 [00:11<01:11, 12.05it/s]"
     ]
    },
    {
     "name": "stdout",
     "output_type": "stream",
     "text": [
      "Evaluating...\n"
     ]
    },
    {
     "name": "stderr",
     "output_type": "stream",
     "text": [
      "Iteration: 100%|██████████| 1004/1004 [01:23<00:00, 12.08it/s]\n",
      "Iteration:  27%|██▋       | 267/1004 [00:24<01:13, 10.07it/s]"
     ]
    },
    {
     "name": "stdout",
     "output_type": "stream",
     "text": [
      "Evaluating...\n"
     ]
    },
    {
     "name": "stderr",
     "output_type": "stream",
     "text": [
      "Iteration:  21%|██        | 210/1004 [00:10<00:37, 21.15it/s]]\n",
      "Iteration:  45%|████▌     | 455/1004 [00:40<00:44, 12.34it/s]\n",
      "Iteration:  57%|█████▋    | 571/1004 [00:28<00:20, 20.77it/s]"
     ]
    },
    {
     "name": "stdout",
     "output_type": "stream",
     "text": [
      "{'Train':  best_epoch_indx:22\n",
      " auc:0.8946471458013052 \n",
      " apur:0.3465508827813955 \n",
      " f1:0.24170747181597826 \n",
      " precision:0.13870166725789287 \n",
      " recall:0.9391908975979772 \n",
      ", 'Validation':  best_epoch_indx:22\n",
      " auc:0.8687516200065306 \n",
      " apur:0.3003671090894164 \n",
      " f1:0.23165910089324937 \n",
      " precision:0.13294117647058823 \n",
      " recall:0.8998862343572241 \n",
      "}\n",
      "=====Epoch 23\n",
      "Training...\n"
     ]
    },
    {
     "name": "stderr",
     "output_type": "stream",
     "text": [
      "Iteration:  57%|█████▋    | 568/1004 [00:29<00:20, 20.77it/s]]\n",
      "Iteration:  95%|█████████▍| 950/1004 [00:47<00:02, 21.26it/s]\n",
      "Iteration:   0%|          | 0/1004 [00:00<?, ?it/s]"
     ]
    },
    {
     "name": "stdout",
     "output_type": "stream",
     "text": [
      "{'Train':  best_epoch_indx:22\n",
      " auc:0.8851837155378607 \n",
      " apur:0.3197825422841868 \n",
      " f1:0.27529218782038134 \n",
      " precision:0.16429270680372002 \n",
      " recall:0.8486725663716814 \n",
      ", 'Validation':  best_epoch_indx:22\n",
      " auc:0.8648217560336025 \n",
      " apur:0.2921412508372026 \n",
      " f1:0.26361190984138766 \n",
      " precision:0.15748642358417378 \n",
      " recall:0.8083048919226393 \n",
      "}\n",
      "=====Epoch 23\n",
      "Training...\n"
     ]
    },
    {
     "name": "stderr",
     "output_type": "stream",
     "text": [
      "Iteration:  72%|███████▏  | 723/1004 [01:04<00:24, 11.65it/s]]\n",
      "Iteration:  36%|███▌      | 363/1004 [00:29<00:52, 12.11it/s]\n",
      "Iteration:  12%|█▏        | 124/1004 [00:11<01:28,  9.94it/s]"
     ]
    },
    {
     "name": "stdout",
     "output_type": "stream",
     "text": [
      "{'Train':  best_epoch_indx:22\n",
      " auc:0.8922708774253689 \n",
      " apur:0.33154909667286925 \n",
      " f1:0.26075037921014643 \n",
      " precision:0.152406588476575 \n",
      " recall:0.9018963337547409 \n",
      ", 'Validation':  best_epoch_indx:22\n",
      " auc:0.8748414986687144 \n",
      " apur:0.3015528771168471 \n",
      " f1:0.2521381578947368 \n",
      " precision:0.14737550471063257 \n",
      " recall:0.8720136518771331 \n",
      "}\n",
      "=====Epoch 23\n",
      "Training...\n"
     ]
    },
    {
     "name": "stderr",
     "output_type": "stream",
     "text": [
      "Iteration:  44%|████▍     | 441/1004 [00:36<00:53, 10.47it/s]]\n",
      "Iteration:  93%|█████████▎| 935/1004 [01:22<00:05, 12.43it/s]\n",
      "Iteration:  27%|██▋       | 270/1004 [00:23<00:58, 12.46it/s]"
     ]
    },
    {
     "name": "stdout",
     "output_type": "stream",
     "text": [
      "{'Train':  best_epoch_indx:22\n",
      " auc:0.8909295294407374 \n",
      " apur:0.33819155148510777 \n",
      " f1:0.26467808789543124 \n",
      " precision:0.15532957016407126 \n",
      " recall:0.8941146722295973 \n",
      ", 'Validation':  best_epoch_indx:22\n",
      " auc:0.8728071993574742 \n",
      " apur:0.3137247786524791 \n",
      " f1:0.252990880950389 \n",
      " precision:0.14830799411476214 \n",
      " recall:0.8600682593856656 \n",
      "}\n",
      "=====Epoch 23\n",
      "Training...\n"
     ]
    },
    {
     "name": "stderr",
     "output_type": "stream",
     "text": [
      "Iteration: 100%|██████████| 1004/1004 [01:27<00:00, 11.46it/s]\n",
      "Iteration:   0%|          | 0/1004 [00:00<?, ?it/s]"
     ]
    },
    {
     "name": "stdout",
     "output_type": "stream",
     "text": [
      "Evaluating...\n"
     ]
    },
    {
     "name": "stderr",
     "output_type": "stream",
     "text": [
      "Iteration: 100%|██████████| 1004/1004 [01:24<00:00, 11.89it/s]\n",
      "Iteration:  73%|███████▎  | 728/1004 [01:06<00:27, 10.18it/s]"
     ]
    },
    {
     "name": "stdout",
     "output_type": "stream",
     "text": [
      "Evaluating...\n"
     ]
    },
    {
     "name": "stderr",
     "output_type": "stream",
     "text": [
      "Iteration:  69%|██████▉   | 692/1004 [01:07<00:25, 12.01it/s]]\n",
      "Iteration:  69%|██████▉   | 697/1004 [01:01<00:25, 12.08it/s]\n",
      "Iteration:  70%|██████▉   | 699/1004 [01:01<00:25, 12.09it/s]"
     ]
    },
    {
     "name": "stdout",
     "output_type": "stream",
     "text": [
      "{'Train':  best_epoch_indx:23\n",
      " auc:0.886822500023779 \n",
      " apur:0.32570350063436665 \n",
      " f1:0.25431526390870185 \n",
      " precision:0.14803666144216895 \n",
      " recall:0.9015740565143182 \n",
      ", 'Validation':  best_epoch_indx:23\n",
      " auc:0.8717537330226367 \n",
      " apur:0.3142944931790317 \n",
      " f1:0.24883234015139316 \n",
      " precision:0.1449343339587242 \n",
      " recall:0.878839590443686 \n",
      "}\n",
      "=====Epoch 24\n",
      "Training...\n"
     ]
    },
    {
     "name": "stderr",
     "output_type": "stream",
     "text": [
      "Iteration: 100%|██████████| 1004/1004 [01:29<00:00, 11.22it/s]\n",
      "Iteration:   0%|          | 2/1004 [00:00<01:11, 14.04it/s]]]"
     ]
    },
    {
     "name": "stdout",
     "output_type": "stream",
     "text": [
      "Evaluating...\n"
     ]
    },
    {
     "name": "stderr",
     "output_type": "stream",
     "text": [
      "Iteration: 100%|██████████| 1004/1004 [01:35<00:00, 10.56it/s]\n",
      "Iteration:  24%|██▍       | 241/1004 [00:21<01:02, 12.22it/s]"
     ]
    },
    {
     "name": "stdout",
     "output_type": "stream",
     "text": [
      "Evaluating...\n"
     ]
    },
    {
     "name": "stderr",
     "output_type": "stream",
     "text": [
      "Iteration: 100%|██████████| 1004/1004 [01:26<00:00, 11.62it/s]\n",
      "Iteration:  92%|█████████▏| 919/1004 [00:43<00:04, 20.73it/s]"
     ]
    },
    {
     "name": "stdout",
     "output_type": "stream",
     "text": [
      "Evaluating...\n"
     ]
    },
    {
     "name": "stderr",
     "output_type": "stream",
     "text": [
      "Iteration:  21%|██        | 211/1004 [00:10<00:38, 20.78it/s]]\n",
      "Iteration:  34%|███▍      | 345/1004 [00:16<00:31, 20.64it/s]\n",
      "Iteration:   0%|          | 1/1004 [00:00<02:11,  7.62it/s]s]"
     ]
    },
    {
     "name": "stdout",
     "output_type": "stream",
     "text": [
      "{'Train':  best_epoch_indx:23\n",
      " auc:0.8880624226014033 \n",
      " apur:0.33181175078406355 \n",
      " f1:0.26268162000809814 \n",
      " precision:0.15433130110536972 \n",
      " recall:0.881668773704172 \n",
      ", 'Validation':  best_epoch_indx:23\n",
      " auc:0.86463932472493 \n",
      " apur:0.2894007858710354 \n",
      " f1:0.25270270270270273 \n",
      " precision:0.1483832572902202 \n",
      " recall:0.850967007963595 \n",
      "}\n",
      "=====Epoch 24\n",
      "Training...\n"
     ]
    },
    {
     "name": "stderr",
     "output_type": "stream",
     "text": [
      "Iteration:  66%|██████▌   | 658/1004 [00:31<00:16, 20.73it/s]]\n",
      "Iteration:  79%|███████▉  | 796/1004 [00:38<00:09, 21.22it/s]\n",
      "Iteration:   0%|          | 1/1004 [00:00<02:21,  7.09it/s]s]"
     ]
    },
    {
     "name": "stdout",
     "output_type": "stream",
     "text": [
      "{'Train':  best_epoch_indx:23\n",
      " auc:0.8746458028776766 \n",
      " apur:0.29871744427137736 \n",
      " f1:0.2707460794196814 \n",
      " precision:0.16200888026566174 \n",
      " recall:0.8233881163084703 \n",
      ", 'Validation':  best_epoch_indx:23\n",
      " auc:0.8578883703432371 \n",
      " apur:0.28309406861776043 \n",
      " f1:0.25986035100962446 \n",
      " precision:0.15576923076923077 \n",
      " recall:0.7832764505119454 \n",
      "}\n",
      "=====Epoch 24\n",
      "Training...\n"
     ]
    },
    {
     "name": "stderr",
     "output_type": "stream",
     "text": [
      "Iteration:  86%|████████▌ | 865/1004 [01:12<00:11, 12.57it/s]]\n",
      "Iteration:  90%|█████████ | 905/1004 [01:15<00:08, 12.11it/s]]\n",
      "Iteration:  93%|█████████▎| 933/1004 [01:18<00:05, 12.44it/s]\n",
      "Iteration:   0%|          | 1/1004 [00:00<01:57,  8.56it/s]s]"
     ]
    },
    {
     "name": "stdout",
     "output_type": "stream",
     "text": [
      "{'Train':  best_epoch_indx:23\n",
      " auc:0.8861607618837857 \n",
      " apur:0.31707687773379306 \n",
      " f1:0.2572103589277601 \n",
      " precision:0.1501963281332909 \n",
      " recall:0.8946270543615676 \n",
      ", 'Validation':  best_epoch_indx:23\n",
      " auc:0.8674076292105725 \n",
      " apur:0.2895325245102384 \n",
      " f1:0.24678959499506092 \n",
      " precision:0.1442733397497594 \n",
      " recall:0.8526734926052332 \n",
      "}\n",
      "=====Epoch 24\n",
      "Training...\n"
     ]
    },
    {
     "name": "stderr",
     "output_type": "stream",
     "text": [
      "Iteration:  45%|████▍     | 450/1004 [00:42<00:52, 10.48it/s]\n",
      "Iteration:  19%|█▉        | 191/1004 [00:17<01:06, 12.15it/s]"
     ]
    },
    {
     "name": "stdout",
     "output_type": "stream",
     "text": [
      "{'Train':  best_epoch_indx:23\n",
      " auc:0.8814877916111012 \n",
      " apur:0.3128193641957203 \n",
      " f1:0.2500199710641471 \n",
      " precision:0.14542976333071744 \n",
      " recall:0.8903217649661799 \n",
      ", 'Validation':  best_epoch_indx:23\n",
      " auc:0.86423151017592 \n",
      " apur:0.2880535119465122 \n",
      " f1:0.2404214559386973 \n",
      " precision:0.13983286908077994 \n",
      " recall:0.856655290102389 \n",
      "}\n",
      "=====Epoch 24\n",
      "Training...\n"
     ]
    },
    {
     "name": "stderr",
     "output_type": "stream",
     "text": [
      "Iteration: 100%|██████████| 1004/1004 [01:23<00:00, 11.98it/s]\n",
      "Iteration:   0%|          | 2/1004 [00:00<00:55, 18.14it/s]]]"
     ]
    },
    {
     "name": "stdout",
     "output_type": "stream",
     "text": [
      "Evaluating...\n"
     ]
    },
    {
     "name": "stderr",
     "output_type": "stream",
     "text": [
      "Iteration: 100%|██████████| 1004/1004 [01:31<00:00, 11.01it/s]\n",
      "Iteration:  75%|███████▍  | 749/1004 [01:06<00:20, 12.41it/s]"
     ]
    },
    {
     "name": "stdout",
     "output_type": "stream",
     "text": [
      "Evaluating...\n"
     ]
    },
    {
     "name": "stderr",
     "output_type": "stream",
     "text": [
      "Iteration:  63%|██████▎   | 631/1004 [00:54<00:36, 10.33it/s]]\n",
      "Iteration:  18%|█▊        | 182/1004 [00:08<00:36, 22.24it/s]\n",
      "Iteration:   0%|          | 1/1004 [00:00<01:57,  8.56it/s]s]"
     ]
    },
    {
     "name": "stdout",
     "output_type": "stream",
     "text": [
      "{'Train':  best_epoch_indx:24\n",
      " auc:0.8772294848568771 \n",
      " apur:0.3085720751560514 \n",
      " f1:0.231390205371248 \n",
      " precision:0.13221581318096062 \n",
      " recall:0.9259118781212466 \n",
      ", 'Validation':  best_epoch_indx:24\n",
      " auc:0.866884893345338 \n",
      " apur:0.2960693234507029 \n",
      " f1:0.22830014879897964 \n",
      " precision:0.13039255362201538 \n",
      " recall:0.9163822525597269 \n",
      "}\n",
      "=====Epoch 25\n",
      "Training...\n"
     ]
    },
    {
     "name": "stderr",
     "output_type": "stream",
     "text": [
      "Iteration: 100%|██████████| 1004/1004 [01:30<00:00, 11.05it/s]\n",
      "Iteration:  18%|█▊        | 179/1004 [00:16<01:19, 10.42it/s]"
     ]
    },
    {
     "name": "stdout",
     "output_type": "stream",
     "text": [
      "Evaluating...\n"
     ]
    },
    {
     "name": "stderr",
     "output_type": "stream",
     "text": [
      "Iteration: 100%|██████████| 1004/1004 [01:25<00:00, 11.80it/s]\n",
      "Iteration:  95%|█████████▌| 955/1004 [01:22<00:04, 10.69it/s]"
     ]
    },
    {
     "name": "stdout",
     "output_type": "stream",
     "text": [
      "Evaluating...\n"
     ]
    },
    {
     "name": "stderr",
     "output_type": "stream",
     "text": [
      "Iteration: 100%|██████████| 1004/1004 [01:26<00:00, 11.59it/s]\n",
      "Iteration:   0%|          | 2/1004 [00:00<01:11, 13.99it/s]s]"
     ]
    },
    {
     "name": "stdout",
     "output_type": "stream",
     "text": [
      "Evaluating...\n"
     ]
    },
    {
     "name": "stderr",
     "output_type": "stream",
     "text": [
      "Iteration:  46%|████▌     | 461/1004 [00:40<00:44, 12.30it/s]]\n",
      "Iteration:  52%|█████▏    | 527/1004 [00:46<00:39, 12.11it/s]\n",
      "Iteration:  34%|███▍      | 342/1004 [00:16<00:31, 21.20it/s]"
     ]
    },
    {
     "name": "stdout",
     "output_type": "stream",
     "text": [
      "{'Train':  best_epoch_indx:24\n",
      " auc:0.8801773525676884 \n",
      " apur:0.3177081313951723 \n",
      " f1:0.24465431525347925 \n",
      " precision:0.14159415384002708 \n",
      " recall:0.8989886219974715 \n",
      ", 'Validation':  best_epoch_indx:24\n",
      " auc:0.8614813393551816 \n",
      " apur:0.2870892346620114 \n",
      " f1:0.2371572035534956 \n",
      " precision:0.1372128363278806 \n",
      " recall:0.873151308304892 \n",
      "}\n",
      "=====Epoch 25\n",
      "Training...\n"
     ]
    },
    {
     "name": "stderr",
     "output_type": "stream",
     "text": [
      "Iteration:  78%|███████▊  | 787/1004 [01:07<00:18, 11.71it/s]]\n",
      "Iteration:  32%|███▏      | 317/1004 [00:26<01:05, 10.55it/s]\n",
      "Iteration:  92%|█████████▏| 922/1004 [00:43<00:04, 20.18it/s]"
     ]
    },
    {
     "name": "stdout",
     "output_type": "stream",
     "text": [
      "{'Train':  best_epoch_indx:24\n",
      " auc:0.8752104403662224 \n",
      " apur:0.3010928774884971 \n",
      " f1:0.26327021838486797 \n",
      " precision:0.15562749864626657 \n",
      " recall:0.8538558786346397 \n",
      ", 'Validation':  best_epoch_indx:24\n",
      " auc:0.8601235217518918 \n",
      " apur:0.27614685310786 \n",
      " f1:0.25721599435078124 \n",
      " precision:0.152230696896876 \n",
      " recall:0.8287827076222981 \n",
      "}\n",
      "=====Epoch 25\n",
      "Training...\n"
     ]
    },
    {
     "name": "stderr",
     "output_type": "stream",
     "text": [
      "Iteration:  91%|█████████ | 911/1004 [01:17<00:07, 12.40it/s]]\n",
      "Iteration:  39%|███▊      | 389/1004 [00:33<00:52, 11.81it/s]\n",
      "Iteration:  12%|█▏        | 120/1004 [00:10<01:10, 12.55it/s]\n",
      "Iteration:  75%|███████▌  | 84/112 [00:03<00:01, 22.58it/s]s]"
     ]
    },
    {
     "name": "stdout",
     "output_type": "stream",
     "text": [
      "{'Train':  best_epoch_indx:24\n",
      " auc:0.8746562725145663 \n",
      " apur:0.28977985836424724 \n",
      " f1:0.24095127414818185 \n",
      " precision:0.13899306297728464 \n",
      " recall:0.9042983565107459 \n",
      ", 'Validation':  best_epoch_indx:24\n",
      " auc:0.8599318576172984 \n",
      " apur:0.27843041698749116 \n",
      " f1:0.23641056787124198 \n",
      " precision:0.13641142456632205 \n",
      " recall:0.8856655290102389 \n",
      "}\n",
      "=====Epoch 25\n",
      "Training...\n"
     ]
    },
    {
     "name": "stderr",
     "output_type": "stream",
     "text": [
      "Iteration:  45%|████▍     | 451/1004 [00:38<00:45, 12.13it/s]\n",
      "Iteration:   0%|          | 1/1004 [00:00<02:08,  7.83it/s]s]"
     ]
    },
    {
     "name": "stdout",
     "output_type": "stream",
     "text": [
      "{'Train':  best_epoch_indx:24\n",
      " auc:0.8828378279724045 \n",
      " apur:0.32404063911691683 \n",
      " f1:0.24073073630492783 \n",
      " precision:0.13858638442841012 \n",
      " recall:0.9154813831468487 \n",
      ", 'Validation':  best_epoch_indx:24\n",
      " auc:0.867572357540098 \n",
      " apur:0.30738581776429086 \n",
      " f1:0.23433405704873853 \n",
      " precision:0.13492542460556944 \n",
      " recall:0.8902161547212741 \n",
      "}\n",
      "=====Epoch 25\n",
      "Training...\n"
     ]
    },
    {
     "name": "stderr",
     "output_type": "stream",
     "text": [
      "Iteration: 100%|██████████| 1004/1004 [01:25<00:00, 11.73it/s]\n",
      "Iteration:  15%|█▍        | 150/1004 [00:12<01:09, 12.38it/s]"
     ]
    },
    {
     "name": "stdout",
     "output_type": "stream",
     "text": [
      "Evaluating...\n"
     ]
    },
    {
     "name": "stderr",
     "output_type": "stream",
     "text": [
      "Iteration: 100%|██████████| 1004/1004 [01:27<00:00, 11.46it/s]\n",
      "Iteration:  57%|█████▋    | 577/1004 [00:48<00:39, 10.88it/s]"
     ]
    },
    {
     "name": "stdout",
     "output_type": "stream",
     "text": [
      "Evaluating...\n"
     ]
    },
    {
     "name": "stderr",
     "output_type": "stream",
     "text": [
      "Iteration:  79%|███████▊  | 790/1004 [01:04<00:17, 12.37it/s]]\n",
      "Iteration:  67%|██████▋   | 671/1004 [00:58<00:32, 10.37it/s]\n",
      "Iteration:   0%|          | 0/1004 [00:00<?, ?it/s]"
     ]
    },
    {
     "name": "stdout",
     "output_type": "stream",
     "text": [
      "{'Train':  best_epoch_indx:25\n",
      " auc:0.8869228748249458 \n",
      " apur:0.33594414080739277 \n",
      " f1:0.262712182664864 \n",
      " precision:0.15426769430937337 \n",
      " recall:0.8844427587078829 \n",
      ", 'Validation':  best_epoch_indx:25\n",
      " auc:0.8721802375389868 \n",
      " apur:0.3211772467422566 \n",
      " f1:0.25501651003302006 \n",
      " precision:0.14980602805132795 \n",
      " recall:0.856655290102389 \n",
      "}\n",
      "=====Epoch 26\n",
      "Training...\n"
     ]
    },
    {
     "name": "stderr",
     "output_type": "stream",
     "text": [
      "Iteration: 100%|██████████| 1004/1004 [01:21<00:00, 12.28it/s]\n",
      "Iteration:  86%|████████▌ | 865/1004 [01:11<00:11, 12.08it/s]"
     ]
    },
    {
     "name": "stdout",
     "output_type": "stream",
     "text": [
      "Evaluating...\n"
     ]
    },
    {
     "name": "stderr",
     "output_type": "stream",
     "text": [
      "Iteration: 100%|██████████| 1004/1004 [01:24<00:00, 11.88it/s]\n",
      "Iteration:  62%|██████▏   | 620/1004 [00:34<00:21, 18.11it/s]"
     ]
    },
    {
     "name": "stdout",
     "output_type": "stream",
     "text": [
      "Evaluating...\n"
     ]
    },
    {
     "name": "stderr",
     "output_type": "stream",
     "text": [
      "Iteration: 100%|██████████| 1004/1004 [01:26<00:00, 11.66it/s]\n",
      "Iteration:  32%|███▏      | 321/1004 [00:28<01:06, 10.22it/s]"
     ]
    },
    {
     "name": "stdout",
     "output_type": "stream",
     "text": [
      "Evaluating...\n"
     ]
    },
    {
     "name": "stderr",
     "output_type": "stream",
     "text": [
      "Iteration:  48%|████▊     | 486/1004 [00:22<00:24, 20.76it/s]]\n",
      "Iteration:  63%|██████▎   | 637/1004 [00:31<00:17, 20.52it/s]"
     ]
    },
    {
     "name": "stdout",
     "output_type": "stream",
     "text": [
      "{'Train':  best_epoch_indx:25\n",
      " auc:0.8896857057487247 \n",
      " apur:0.3482828889021877 \n",
      " f1:0.2400687172774869 \n",
      " precision:0.13787821838000375 \n",
      " recall:0.9274968394437421 \n",
      ", 'Validation':  best_epoch_indx:25\n",
      " auc:0.8714146666876267 \n",
      " apur:0.31323925912459183 \n",
      " f1:0.2333773667987671 \n",
      " precision:0.1339737108190091 \n",
      " recall:0.9044368600682594 \n",
      "}\n",
      "=====Epoch 26\n",
      "Training...\n"
     ]
    },
    {
     "name": "stderr",
     "output_type": "stream",
     "text": [
      "\n",
      "Iteration:  76%|███████▌  | 763/1004 [00:39<00:11, 20.82it/s]]\n",
      "Iteration:  14%|█▍        | 141/1004 [00:13<01:10, 12.32it/s]\n",
      "Iteration:   0%|          | 0/1004 [00:00<?, ?it/s]"
     ]
    },
    {
     "name": "stdout",
     "output_type": "stream",
     "text": [
      "{'Train':  best_epoch_indx:25\n",
      " auc:0.8695503018412933 \n",
      " apur:0.27902165317124117 \n",
      " f1:0.2685494386667939 \n",
      " precision:0.1613318218293444 \n",
      " recall:0.8006321112515803 \n",
      ", 'Validation':  best_epoch_indx:25\n",
      " auc:0.8514808519624664 \n",
      " apur:0.2580040497997447 \n",
      " f1:0.25894148269545936 \n",
      " precision:0.15589088798607081 \n",
      " recall:0.7639362912400455 \n",
      "}\n",
      "=====Epoch 26\n",
      "Training...\n"
     ]
    },
    {
     "name": "stderr",
     "output_type": "stream",
     "text": [
      "Iteration:  10%|█         | 101/1004 [00:08<01:14, 12.14it/s]]\n",
      "Iteration:  25%|██▌       | 251/1004 [00:22<01:05, 11.43it/s]\n",
      "Iteration:  30%|███       | 305/1004 [00:27<00:57, 12.20it/s]\n",
      "Iteration:  86%|████████▌ | 96/112 [00:04<00:00, 21.23it/s]s]"
     ]
    },
    {
     "name": "stdout",
     "output_type": "stream",
     "text": [
      "{'Train':  best_epoch_indx:25\n",
      " auc:0.8808545961318182 \n",
      " apur:0.310269436898906 \n",
      " f1:0.2506453508037955 \n",
      " precision:0.14586311928886678 \n",
      " recall:0.8899494310998736 \n",
      ", 'Validation':  best_epoch_indx:25\n",
      " auc:0.8676679159424866 \n",
      " apur:0.29270700073540934 \n",
      " f1:0.24460547504025767 \n",
      " precision:0.14246858000375165 \n",
      " recall:0.8640500568828214 \n",
      "}\n",
      "=====Epoch 26\n",
      "Training...\n"
     ]
    },
    {
     "name": "stderr",
     "output_type": "stream",
     "text": [
      "Iteration:   1%|          | 11/1004 [00:00<01:27, 11.32it/s]]\n",
      "Iteration:  32%|███▏      | 321/1004 [00:28<00:55, 12.41it/s]"
     ]
    },
    {
     "name": "stdout",
     "output_type": "stream",
     "text": [
      "{'Train':  best_epoch_indx:25\n",
      " auc:0.8819595237822933 \n",
      " apur:0.3214405394649801 \n",
      " f1:0.24111507575061206 \n",
      " precision:0.1389215214251324 \n",
      " recall:0.9120045514887161 \n",
      ", 'Validation':  best_epoch_indx:25\n",
      " auc:0.86386277138676 \n",
      " apur:0.29256637573619027 \n",
      " f1:0.2338479988007795 \n",
      " precision:0.13466850828729282 \n",
      " recall:0.8873720136518771 \n",
      "}\n",
      "=====Epoch 26\n",
      "Training...\n"
     ]
    },
    {
     "name": "stderr",
     "output_type": "stream",
     "text": [
      "Iteration: 100%|██████████| 1004/1004 [01:25<00:00, 11.68it/s]\n",
      "Iteration:  20%|█▉        | 199/1004 [00:16<01:04, 12.41it/s]"
     ]
    },
    {
     "name": "stdout",
     "output_type": "stream",
     "text": [
      "Evaluating...\n"
     ]
    },
    {
     "name": "stderr",
     "output_type": "stream",
     "text": [
      "Iteration:  66%|██████▌   | 659/1004 [00:53<00:27, 12.51it/s]]\n",
      "Iteration: 100%|██████████| 1004/1004 [01:23<00:00, 12.01it/s]\n",
      "Iteration:   0%|          | 0/1004 [00:00<?, ?it/s]"
     ]
    },
    {
     "name": "stdout",
     "output_type": "stream",
     "text": [
      "Evaluating...\n"
     ]
    },
    {
     "name": "stderr",
     "output_type": "stream",
     "text": [
      "Iteration:  91%|█████████ | 909/1004 [01:13<00:07, 12.60it/s]\n",
      "Iteration:   0%|          | 0/1004 [00:00<?, ?it/s]"
     ]
    },
    {
     "name": "stdout",
     "output_type": "stream",
     "text": [
      "{'Train':  best_epoch_indx:26\n",
      " auc:0.8905425870025879 \n",
      " apur:0.3441366313524285 \n",
      " f1:0.2521217824715498 \n",
      " precision:0.1462154978118715 \n",
      " recall:0.9145331563309944 \n",
      ", 'Validation':  best_epoch_indx:26\n",
      " auc:0.8772443303988559 \n",
      " apur:0.3196141512262742 \n",
      " f1:0.2487217808542437 \n",
      " precision:0.1443176631675034 \n",
      " recall:0.8993174061433447 \n",
      "}\n",
      "=====Epoch 27\n",
      "Training...\n"
     ]
    },
    {
     "name": "stderr",
     "output_type": "stream",
     "text": [
      "Iteration: 100%|██████████| 1004/1004 [01:21<00:00, 12.33it/s]\n",
      "Iteration:  82%|████████▏ | 823/1004 [01:06<00:14, 12.34it/s]"
     ]
    },
    {
     "name": "stdout",
     "output_type": "stream",
     "text": [
      "Evaluating...\n"
     ]
    },
    {
     "name": "stderr",
     "output_type": "stream",
     "text": [
      "Iteration: 100%|██████████| 1004/1004 [01:21<00:00, 12.31it/s]\n",
      "Iteration:   0%|          | 0/1004 [00:00<?, ?it/s]"
     ]
    },
    {
     "name": "stdout",
     "output_type": "stream",
     "text": [
      "Evaluating...\n"
     ]
    },
    {
     "name": "stderr",
     "output_type": "stream",
     "text": [
      "Iteration: 100%|██████████| 1004/1004 [01:30<00:00, 11.08it/s]\n",
      "Iteration:   0%|          | 2/1004 [00:00<01:10, 14.24it/s]s]"
     ]
    },
    {
     "name": "stdout",
     "output_type": "stream",
     "text": [
      "Evaluating...\n"
     ]
    },
    {
     "name": "stderr",
     "output_type": "stream",
     "text": [
      "Iteration:  33%|███▎      | 333/1004 [00:15<00:30, 22.29it/s]]\n",
      "Iteration:  56%|█████▌    | 558/1004 [00:29<00:21, 20.88it/s]\n",
      "Iteration:  92%|█████████▏| 926/1004 [00:44<00:03, 21.28it/s]"
     ]
    },
    {
     "name": "stdout",
     "output_type": "stream",
     "text": [
      "{'Train':  best_epoch_indx:26\n",
      " auc:0.8961351637083852 \n",
      " apur:0.35665811077645837 \n",
      " f1:0.2415390732130831 \n",
      " precision:0.13855505804157398 \n",
      " recall:0.940834386852086 \n",
      ", 'Validation':  best_epoch_indx:26\n",
      " auc:0.8709494722340839 \n",
      " apur:0.30850560149175477 \n",
      " f1:0.23394731048653405 \n",
      " precision:0.13429943550425477 \n",
      " recall:0.906712172923777 \n",
      "}\n",
      "=====Epoch 27\n",
      "Training...\n"
     ]
    },
    {
     "name": "stderr",
     "output_type": "stream",
     "text": [
      "Iteration:  66%|██████▌   | 658/1004 [00:57<00:31, 10.85it/s]]\n",
      "Iteration:  12%|█▏        | 124/1004 [00:11<01:27, 10.03it/s]\n",
      "Iteration:  72%|███████▏  | 726/1004 [01:03<00:23, 12.01it/s]"
     ]
    },
    {
     "name": "stdout",
     "output_type": "stream",
     "text": [
      "{'Train':  best_epoch_indx:26\n",
      " auc:0.8861249443142726 \n",
      " apur:0.33315615533427106 \n",
      " f1:0.26733739161071857 \n",
      " precision:0.1581555848908034 \n",
      " recall:0.8633375474083439 \n",
      ", 'Validation':  best_epoch_indx:26\n",
      " auc:0.8654191082062793 \n",
      " apur:0.30349340094296007 \n",
      " f1:0.2570844807675225 \n",
      " precision:0.1523318244025687 \n",
      " recall:0.823094425483504 \n",
      "}\n",
      "=====Epoch 27\n",
      "Training...\n"
     ]
    },
    {
     "name": "stderr",
     "output_type": "stream",
     "text": [
      "Iteration:  24%|██▍       | 243/1004 [00:23<01:12, 10.48it/s]]\n",
      "Iteration:  29%|██▉       | 294/1004 [00:28<01:11,  9.98it/s]]\n",
      "Iteration:  21%|██        | 213/1004 [00:17<01:05, 11.99it/s]\n",
      "Iteration:  11%|█         | 12/112 [00:00<00:04, 20.80it/s]s]"
     ]
    },
    {
     "name": "stdout",
     "output_type": "stream",
     "text": [
      "{'Train':  best_epoch_indx:26\n",
      " auc:0.8933056984583452 \n",
      " apur:0.3497418100493283 \n",
      " f1:0.2582320184783971 \n",
      " precision:0.15041875697493717 \n",
      " recall:0.9116884758834313 \n",
      ", 'Validation':  best_epoch_indx:26\n",
      " auc:0.8726761183527333 \n",
      " apur:0.32226805225476346 \n",
      " f1:0.24624528150349367 \n",
      " precision:0.14336481810530252 \n",
      " recall:0.8720136518771331 \n",
      "}\n",
      "=====Epoch 27\n",
      "Training...\n"
     ]
    },
    {
     "name": "stderr",
     "output_type": "stream",
     "text": [
      "Iteration:  27%|██▋       | 275/1004 [00:22<01:02, 11.60it/s]\n",
      "Iteration:   0%|          | 1/1004 [00:00<02:13,  7.52it/s]s]"
     ]
    },
    {
     "name": "stdout",
     "output_type": "stream",
     "text": [
      "{'Train':  best_epoch_indx:26\n",
      " auc:0.8785420168686346 \n",
      " apur:0.30674432987413214 \n",
      " f1:0.2300625978090767 \n",
      " precision:0.13128237185211644 \n",
      " recall:0.9292667509481669 \n",
      ", 'Validation':  best_epoch_indx:26\n",
      " auc:0.8649806072970659 \n",
      " apur:0.2850482176317847 \n",
      " f1:0.22377721232683065 \n",
      " precision:0.12776432606941082 \n",
      " recall:0.9004550625711035 \n",
      "}\n",
      "=====Epoch 27\n",
      "Training...\n"
     ]
    },
    {
     "name": "stderr",
     "output_type": "stream",
     "text": [
      "Iteration: 100%|██████████| 1004/1004 [01:29<00:00, 11.19it/s]\n",
      "Iteration:   4%|▍         | 45/1004 [00:03<01:23, 11.44it/s]]"
     ]
    },
    {
     "name": "stdout",
     "output_type": "stream",
     "text": [
      "Evaluating...\n"
     ]
    },
    {
     "name": "stderr",
     "output_type": "stream",
     "text": [
      "Iteration:  93%|█████████▎| 935/1004 [01:17<00:05, 12.47it/s]]\n",
      "Iteration: 100%|██████████| 1004/1004 [01:29<00:00, 11.24it/s]\n",
      "Iteration:  72%|███████▏  | 722/1004 [01:00<00:22, 12.35it/s]"
     ]
    },
    {
     "name": "stdout",
     "output_type": "stream",
     "text": [
      "Evaluating...\n"
     ]
    },
    {
     "name": "stderr",
     "output_type": "stream",
     "text": [
      "Iteration:  12%|█▏        | 123/1004 [00:05<00:39, 22.48it/s]\n",
      "Iteration:  79%|███████▉  | 792/1004 [01:06<00:17, 11.88it/s]"
     ]
    },
    {
     "name": "stdout",
     "output_type": "stream",
     "text": [
      "{'Train':  best_epoch_indx:27\n",
      " auc:0.9000894467061585 \n",
      " apur:0.36890364629604266 \n",
      " f1:0.2559418803715902 \n",
      " precision:0.1483668164507224 \n",
      " recall:0.9309058726847462 \n",
      ", 'Validation':  best_epoch_indx:27\n",
      " auc:0.8828558966371409 \n",
      " apur:0.33951967234455405 \n",
      " f1:0.24990182989083484 \n",
      " precision:0.14496583143507974 \n",
      " recall:0.9050056882821388 \n",
      "}\n",
      "=====Epoch 28\n",
      "Training...\n"
     ]
    },
    {
     "name": "stderr",
     "output_type": "stream",
     "text": [
      "Iteration: 100%|██████████| 1004/1004 [01:24<00:00, 11.87it/s]\n",
      "Iteration:  15%|█▌        | 153/1004 [00:06<00:38, 21.84it/s]"
     ]
    },
    {
     "name": "stdout",
     "output_type": "stream",
     "text": [
      "Evaluating...\n"
     ]
    },
    {
     "name": "stderr",
     "output_type": "stream",
     "text": [
      "Iteration: 100%|██████████| 1004/1004 [01:26<00:00, 11.64it/s]\n",
      "Iteration:  39%|███▉      | 396/1004 [00:19<00:28, 21.56it/s]"
     ]
    },
    {
     "name": "stdout",
     "output_type": "stream",
     "text": [
      "Evaluating...\n"
     ]
    },
    {
     "name": "stderr",
     "output_type": "stream",
     "text": [
      "Iteration: 100%|██████████| 1004/1004 [01:29<00:00, 11.24it/s]"
     ]
    },
    {
     "name": "stdout",
     "output_type": "stream",
     "text": [
      "Evaluating...\n"
     ]
    },
    {
     "name": "stderr",
     "output_type": "stream",
     "text": [
      "\n",
      "Iteration:  31%|███       | 311/1004 [00:14<00:32, 21.40it/s]]\n",
      "Iteration:  54%|█████▍    | 547/1004 [00:28<00:22, 20.50it/s]\n",
      "Iteration:   0%|          | 1/1004 [00:00<02:11,  7.62it/s]s]"
     ]
    },
    {
     "name": "stdout",
     "output_type": "stream",
     "text": [
      "{'Train':  best_epoch_indx:27\n",
      " auc:0.9030857404949457 \n",
      " apur:0.37596458046741993 \n",
      " f1:0.26950870420617823 \n",
      " precision:0.15807146685333653 \n",
      " recall:0.913527180783818 \n",
      ", 'Validation':  best_epoch_indx:27\n",
      " auc:0.8769917062843727 \n",
      " apur:0.31794466413904515 \n",
      " f1:0.25588999748469854 \n",
      " precision:0.15006391975612154 \n",
      " recall:0.8680318543799772 \n",
      "}\n",
      "=====Epoch 28\n",
      "Training...\n"
     ]
    },
    {
     "name": "stderr",
     "output_type": "stream",
     "text": [
      "Iteration:  65%|██████▍   | 648/1004 [00:33<00:16, 21.31it/s]]\n",
      "Iteration:  64%|██████▍   | 644/1004 [00:30<00:17, 20.66it/s]\n",
      "Iteration:  13%|█▎        | 127/1004 [00:10<01:12, 12.06it/s]"
     ]
    },
    {
     "name": "stdout",
     "output_type": "stream",
     "text": [
      "{'Train':  best_epoch_indx:27\n",
      " auc:0.8930022202277593 \n",
      " apur:0.34196983570456074 \n",
      " f1:0.27266494279893433 \n",
      " precision:0.16133107700866986 \n",
      " recall:0.8798356510745892 \n",
      ", 'Validation':  best_epoch_indx:27\n",
      " auc:0.872625342296478 \n",
      " apur:0.30942731677678037 \n",
      " f1:0.2646324054246966 \n",
      " precision:0.15693121693121692 \n",
      " recall:0.8435722411831627 \n",
      "}\n",
      "=====Epoch 28\n",
      "Training...\n"
     ]
    },
    {
     "name": "stderr",
     "output_type": "stream",
     "text": [
      "Iteration:  85%|████████▍ | 853/1004 [01:13<00:14, 10.24it/s]]\n",
      "Iteration:  91%|█████████ | 914/1004 [01:18<00:07, 12.16it/s]]\n",
      "Iteration:  36%|███▋      | 365/1004 [00:30<00:50, 12.67it/s]"
     ]
    },
    {
     "name": "stdout",
     "output_type": "stream",
     "text": [
      "{'Train':  best_epoch_indx:27\n",
      " auc:0.8952486398318596 \n",
      " apur:0.3444354201436893 \n",
      " f1:0.24957334279582977 \n",
      " precision:0.14403713564065806 \n",
      " recall:0.9336873380112523 \n",
      ", 'Validation':  best_epoch_indx:27\n",
      " auc:0.8733952828137505 \n",
      " apur:0.30705239579629295 \n",
      " f1:0.23917806149429624 \n",
      " precision:0.13790399860615035 \n",
      " recall:0.9004550625711035 \n",
      "}\n",
      "=====Epoch 28\n",
      "Training...\n"
     ]
    },
    {
     "name": "stderr",
     "output_type": "stream",
     "text": [
      "Iteration:  92%|█████████▏| 920/1004 [01:19<00:07, 11.91it/s]\n",
      "Iteration:  29%|██▊       | 287/1004 [00:25<00:58, 12.33it/s]\n",
      "Iteration:   0%|          | 1/1004 [00:00<01:59,  8.43it/s]s]"
     ]
    },
    {
     "name": "stdout",
     "output_type": "stream",
     "text": [
      "{'Train':  best_epoch_indx:27\n",
      " auc:0.8926409821915353 \n",
      " apur:0.3394710464334707 \n",
      " f1:0.265934252626214 \n",
      " precision:0.15630582152644484 \n",
      " recall:0.8905183312262959 \n",
      ", 'Validation':  best_epoch_indx:27\n",
      " auc:0.8726424082196089 \n",
      " apur:0.3106604400615867 \n",
      " f1:0.25576017130620987 \n",
      " precision:0.15054956135928205 \n",
      " recall:0.8492605233219568 \n",
      "}\n",
      "=====Epoch 28\n",
      "Training...\n"
     ]
    },
    {
     "name": "stderr",
     "output_type": "stream",
     "text": [
      "Iteration: 100%|██████████| 1004/1004 [01:26<00:00, 11.65it/s]\n",
      "Iteration:  30%|███       | 305/1004 [00:26<00:57, 12.23it/s]"
     ]
    },
    {
     "name": "stdout",
     "output_type": "stream",
     "text": [
      "Evaluating...\n"
     ]
    },
    {
     "name": "stderr",
     "output_type": "stream",
     "text": [
      "Iteration:  98%|█████████▊| 988/1004 [01:28<00:01, 11.15it/s]]\n",
      "Iteration: 100%|██████████| 1004/1004 [01:30<00:00, 11.15it/s]\n",
      "Iteration:   0%|          | 2/1004 [00:00<01:05, 15.41it/s]s]"
     ]
    },
    {
     "name": "stdout",
     "output_type": "stream",
     "text": [
      "Evaluating...\n"
     ]
    },
    {
     "name": "stderr",
     "output_type": "stream",
     "text": [
      "Iteration: 100%|██████████| 1004/1004 [01:24<00:00, 11.94it/s]\n",
      "Iteration:  10%|▉         | 98/1004 [00:04<00:40, 22.38it/s]"
     ]
    },
    {
     "name": "stdout",
     "output_type": "stream",
     "text": [
      "Evaluating...\n"
     ]
    },
    {
     "name": "stderr",
     "output_type": "stream",
     "text": [
      "Iteration:  62%|██████▏   | 621/1004 [00:59<00:31, 12.02it/s]\n",
      "Iteration:   1%|▏         | 14/1004 [00:00<00:49, 20.16it/s]]"
     ]
    },
    {
     "name": "stdout",
     "output_type": "stream",
     "text": [
      "{'Train':  best_epoch_indx:28\n",
      " auc:0.9061584334868076 \n",
      " apur:0.3845734409839467 \n",
      " f1:0.27557137148185507 \n",
      " precision:0.1621993973946841 \n",
      " recall:0.9154181680257918 \n",
      ", 'Validation':  best_epoch_indx:28\n",
      " auc:0.8847186753455589 \n",
      " apur:0.34962389565208324 \n",
      " f1:0.26638989794153256 \n",
      " precision:0.15707874337005304 \n",
      " recall:0.875995449374289 \n",
      "}\n",
      "=====Epoch 29\n",
      "Training...\n"
     ]
    },
    {
     "name": "stderr",
     "output_type": "stream",
     "text": [
      "Iteration: 100%|██████████| 1004/1004 [01:21<00:00, 12.27it/s]\n",
      "Iteration:  82%|████████▏ | 825/1004 [01:16<00:14, 12.10it/s]"
     ]
    },
    {
     "name": "stdout",
     "output_type": "stream",
     "text": [
      "Evaluating...\n"
     ]
    },
    {
     "name": "stderr",
     "output_type": "stream",
     "text": [
      "Iteration: 100%|██████████| 1004/1004 [01:30<00:00, 11.07it/s]\n",
      "Iteration:   0%|          | 0/1004 [00:00<?, ?it/s]"
     ]
    },
    {
     "name": "stdout",
     "output_type": "stream",
     "text": [
      "Evaluating...\n"
     ]
    },
    {
     "name": "stderr",
     "output_type": "stream",
     "text": [
      "Iteration:  28%|██▊       | 278/1004 [00:15<00:36, 19.96it/s]]\n",
      "Iteration:  61%|██████    | 610/1004 [00:52<00:32, 12.14it/s]]\n",
      "Iteration:   0%|          | 0/1004 [00:00<?, ?it/s]"
     ]
    },
    {
     "name": "stdout",
     "output_type": "stream",
     "text": [
      "{'Train':  best_epoch_indx:28\n",
      " auc:0.9088343801471103 \n",
      " apur:0.3838862541285999 \n",
      " f1:0.2709921900272656 \n",
      " precision:0.15870094722598105 \n",
      " recall:0.9266750948166877 \n",
      ", 'Validation':  best_epoch_indx:28\n",
      " auc:0.8800721233547175 \n",
      " apur:0.32376738304620156 \n",
      " f1:0.25691897299099703 \n",
      " precision:0.15051767923422543 \n",
      " recall:0.8765642775881684 \n",
      "}\n",
      "=====Epoch 29\n",
      "Training...\n"
     ]
    },
    {
     "name": "stderr",
     "output_type": "stream",
     "text": [
      "Iteration:  75%|███████▌  | 755/1004 [00:38<00:11, 20.99it/s]\n",
      "Iteration:  70%|███████   | 706/1004 [01:00<00:24, 12.12it/s]\n",
      "Iteration:   8%|▊         | 80/1004 [00:07<01:21, 11.28it/s]]"
     ]
    },
    {
     "name": "stdout",
     "output_type": "stream",
     "text": [
      "{'Train':  best_epoch_indx:28\n",
      " auc:0.90036326947815 \n",
      " apur:0.3663731945737356 \n",
      " f1:0.2690480429547308 \n",
      " precision:0.1579370056217477 \n",
      " recall:0.9074589127686473 \n",
      ", 'Validation':  best_epoch_indx:28\n",
      " auc:0.8757930719314841 \n",
      " apur:0.32072028075897685 \n",
      " f1:0.25979311514329323 \n",
      " precision:0.1526504583499402 \n",
      " recall:0.8714448236632537 \n",
      "}\n",
      "=====Epoch 29\n",
      "Training...\n"
     ]
    },
    {
     "name": "stderr",
     "output_type": "stream",
     "text": [
      "Iteration:  81%|████████  | 812/1004 [01:08<00:15, 12.07it/s]]\n",
      "Iteration:  24%|██▍       | 244/1004 [00:22<01:01, 12.45it/s]\n",
      "Iteration:   0%|          | 1/1004 [00:00<02:05,  7.98it/s]s]"
     ]
    },
    {
     "name": "stdout",
     "output_type": "stream",
     "text": [
      "{'Train':  best_epoch_indx:28\n",
      " auc:0.9034870198103058 \n",
      " apur:0.3772324242171241 \n",
      " f1:0.2751962068273284 \n",
      " precision:0.16211285054623267 \n",
      " recall:0.9099184524938365 \n",
      ", 'Validation':  best_epoch_indx:28\n",
      " auc:0.880124720852821 \n",
      " apur:0.3394001167648726 \n",
      " f1:0.26007669365147 \n",
      " precision:0.15295178911496443 \n",
      " recall:0.8680318543799772 \n",
      "}\n",
      "=====Epoch 29\n",
      "Training...\n"
     ]
    },
    {
     "name": "stderr",
     "output_type": "stream",
     "text": [
      "Iteration: 100%|██████████| 1004/1004 [01:24<00:00, 11.88it/s]\n",
      "Iteration:   0%|          | 2/1004 [00:00<00:57, 17.41it/s]s]"
     ]
    },
    {
     "name": "stdout",
     "output_type": "stream",
     "text": [
      "Evaluating...\n"
     ]
    },
    {
     "name": "stderr",
     "output_type": "stream",
     "text": [
      "Iteration:  13%|█▎        | 135/1004 [00:12<01:25, 10.20it/s]]\n",
      "Iteration:  18%|█▊        | 182/1004 [00:08<00:39, 20.99it/s]\n",
      "Iteration:  48%|████▊     | 478/1004 [00:40<00:42, 12.29it/s]"
     ]
    },
    {
     "name": "stdout",
     "output_type": "stream",
     "text": [
      "{'Train':  best_epoch_indx:28\n",
      " auc:0.9044505773866257 \n",
      " apur:0.3696217898401126 \n",
      " f1:0.27037160782566727 \n",
      " precision:0.15845009137585936 \n",
      " recall:0.9207332490518331 \n",
      ", 'Validation':  best_epoch_indx:28\n",
      " auc:0.8820865303675451 \n",
      " apur:0.33255104044684264 \n",
      " f1:0.2580699394754539 \n",
      " precision:0.15141053462221346 \n",
      " recall:0.873151308304892 \n",
      "}\n",
      "=====Epoch 29\n",
      "Training...\n"
     ]
    },
    {
     "name": "stderr",
     "output_type": "stream",
     "text": [
      "Iteration:  82%|████████▏ | 823/1004 [01:15<00:14, 12.48it/s]]\n",
      "Iteration: 100%|██████████| 1004/1004 [01:26<00:00, 11.64it/s]\n",
      "Iteration:   0%|          | 0/1004 [00:00<?, ?it/s]"
     ]
    },
    {
     "name": "stdout",
     "output_type": "stream",
     "text": [
      "Evaluating...\n"
     ]
    },
    {
     "name": "stderr",
     "output_type": "stream",
     "text": [
      "Iteration:  58%|█████▊    | 587/1004 [00:48<00:34, 11.93it/s]\n",
      "Iteration:   5%|▌         | 53/1004 [00:02<00:45, 20.97it/s]]"
     ]
    },
    {
     "name": "stdout",
     "output_type": "stream",
     "text": [
      "{'Train':  best_epoch_indx:29\n",
      " auc:0.9120281052572157 \n",
      " apur:0.39844284947766284 \n",
      " f1:0.27381602956568446 \n",
      " precision:0.1604119638826185 \n",
      " recall:0.9343827043428788 \n",
      ", 'Validation':  best_epoch_indx:29\n",
      " auc:0.8884905763443982 \n",
      " apur:0.3530263256757536 \n",
      " f1:0.2643736300792447 \n",
      " precision:0.15518606492478226 \n",
      " recall:0.8919226393629124 \n",
      "}\n",
      "=====Epoch 30\n",
      "Training...\n"
     ]
    },
    {
     "name": "stderr",
     "output_type": "stream",
     "text": [
      "Iteration: 100%|██████████| 1004/1004 [01:32<00:00, 10.89it/s]\n",
      "Iteration:   0%|          | 0/1004 [00:00<?, ?it/s]"
     ]
    },
    {
     "name": "stdout",
     "output_type": "stream",
     "text": [
      "Evaluating...\n"
     ]
    },
    {
     "name": "stderr",
     "output_type": "stream",
     "text": [
      "Iteration: 100%|██████████| 1004/1004 [01:28<00:00, 11.38it/s]\n",
      "Iteration:   0%|          | 2/1004 [00:00<00:59, 16.93it/s]s]"
     ]
    },
    {
     "name": "stdout",
     "output_type": "stream",
     "text": [
      "Evaluating...\n"
     ]
    },
    {
     "name": "stderr",
     "output_type": "stream",
     "text": [
      "Iteration: 100%|██████████| 1004/1004 [01:24<00:00, 11.94it/s]\n",
      "Iteration:   0%|          | 2/1004 [00:00<01:08, 14.65it/s]s]"
     ]
    },
    {
     "name": "stdout",
     "output_type": "stream",
     "text": [
      "Evaluating...\n"
     ]
    },
    {
     "name": "stderr",
     "output_type": "stream",
     "text": [
      "Iteration:  25%|██▌       | 251/1004 [00:12<00:35, 20.94it/s]]\n",
      "Iteration:  65%|██████▌   | 653/1004 [00:53<00:31, 11.32it/s]\n",
      "Iteration:  37%|███▋      | 371/1004 [00:17<00:29, 21.21it/s]"
     ]
    },
    {
     "name": "stdout",
     "output_type": "stream",
     "text": [
      "{'Train':  best_epoch_indx:29\n",
      " auc:0.915077771668997 \n",
      " apur:0.40903582166652774 \n",
      " f1:0.2793982772803343 \n",
      " precision:0.1642707047796938 \n",
      " recall:0.933944374209861 \n",
      ", 'Validation':  best_epoch_indx:29\n",
      " auc:0.8825827431682292 \n",
      " apur:0.33539601748490333 \n",
      " f1:0.2626865671641791 \n",
      " precision:0.15450988261262166 \n",
      " recall:0.875995449374289 \n",
      "}\n",
      "=====Epoch 30\n",
      "Training...\n"
     ]
    },
    {
     "name": "stderr",
     "output_type": "stream",
     "text": [
      "Iteration:  56%|█████▋    | 567/1004 [00:27<00:20, 21.01it/s]]\n",
      "Iteration:  18%|█▊        | 185/1004 [00:15<01:07, 12.09it/s]\n",
      "Iteration:  69%|██████▉   | 692/1004 [00:33<00:16, 19.29it/s]"
     ]
    },
    {
     "name": "stdout",
     "output_type": "stream",
     "text": [
      "{'Train':  best_epoch_indx:29\n",
      " auc:0.9055227543986046 \n",
      " apur:0.3741000591641534 \n",
      " f1:0.277167206540182 \n",
      " precision:0.1635232288301406 \n",
      " recall:0.9086599241466498 \n",
      ", 'Validation':  best_epoch_indx:29\n",
      " auc:0.8789772573514649 \n",
      " apur:0.32355880479150645 \n",
      " f1:0.2652775345823849 \n",
      " precision:0.15676738410596028 \n",
      " recall:0.8617747440273038 \n",
      "}\n",
      "=====Epoch 30\n",
      "Training...\n"
     ]
    },
    {
     "name": "stderr",
     "output_type": "stream",
     "text": [
      "Iteration:  77%|███████▋  | 774/1004 [00:37<00:11, 19.89it/s]]\n",
      "Iteration:  10%|█         | 102/1004 [00:09<01:17, 11.67it/s]\n",
      "Iteration:  10%|█         | 104/1004 [00:10<01:17, 11.67it/s]"
     ]
    },
    {
     "name": "stdout",
     "output_type": "stream",
     "text": [
      "{'Train':  best_epoch_indx:29\n",
      " auc:0.9114059348100736 \n",
      " apur:0.4003369915685596 \n",
      " f1:0.27905513612445665 \n",
      " precision:0.1643037548408823 \n",
      " recall:0.9252797269106771 \n",
      ", 'Validation':  best_epoch_indx:29\n",
      " auc:0.885905537621083 \n",
      " apur:0.34705003813961344 \n",
      " f1:0.2654837058522437 \n",
      " precision:0.15616218386190284 \n",
      " recall:0.8850967007963595 \n",
      "}\n",
      "=====Epoch 30\n",
      "Training...\n"
     ]
    },
    {
     "name": "stderr",
     "output_type": "stream",
     "text": [
      "Iteration: 100%|██████████| 1004/1004 [01:24<00:00, 11.88it/s]\n",
      "Iteration:  38%|███▊      | 377/1004 [00:30<00:51, 12.28it/s]"
     ]
    },
    {
     "name": "stdout",
     "output_type": "stream",
     "text": [
      "Evaluating...\n"
     ]
    },
    {
     "name": "stderr",
     "output_type": "stream",
     "text": [
      "Iteration:  22%|██▏       | 216/1004 [00:19<01:02, 12.52it/s]]\n",
      "Iteration:  19%|█▉        | 194/1004 [00:09<00:38, 21.19it/s]\n",
      "Iteration:  29%|██▊       | 288/1004 [00:25<00:59, 12.02it/s]"
     ]
    },
    {
     "name": "stdout",
     "output_type": "stream",
     "text": [
      "{'Train':  best_epoch_indx:29\n",
      " auc:0.9098479412096098 \n",
      " apur:0.3860018850052025 \n",
      " f1:0.27680816866786423 \n",
      " precision:0.16274596998332408 \n",
      " recall:0.9253476611883692 \n",
      ", 'Validation':  best_epoch_indx:29\n",
      " auc:0.8856852328836329 \n",
      " apur:0.34571198151857585 \n",
      " f1:0.2638078902229845 \n",
      " precision:0.15532215713997172 \n",
      " recall:0.8748577929465301 \n",
      "}\n",
      "=====Epoch 30\n",
      "Training...\n"
     ]
    },
    {
     "name": "stderr",
     "output_type": "stream",
     "text": [
      "Iteration:  99%|█████████▊| 989/1004 [01:20<00:01, 12.23it/s]]\n",
      "Iteration: 100%|██████████| 1004/1004 [01:22<00:00, 12.24it/s]\n",
      "Iteration:  24%|██▍       | 27/112 [00:01<00:03, 21.25it/s]s]"
     ]
    },
    {
     "name": "stdout",
     "output_type": "stream",
     "text": [
      "Evaluating...\n"
     ]
    },
    {
     "name": "stderr",
     "output_type": "stream",
     "text": [
      "Iteration:  86%|████████▌ | 862/1004 [01:11<00:11, 12.11it/s]\n",
      "Iteration:   9%|▉         | 92/1004 [00:04<00:42, 21.28it/s]"
     ]
    },
    {
     "name": "stdout",
     "output_type": "stream",
     "text": [
      "{'Train':  best_epoch_indx:30\n",
      " auc:0.9131650902892774 \n",
      " apur:0.40282703310211465 \n",
      " f1:0.26995177490119293 \n",
      " precision:0.15757113982454468 \n",
      " recall:0.9412731525380871 \n",
      ", 'Validation':  best_epoch_indx:30\n",
      " auc:0.8882395942193645 \n",
      " apur:0.3539057410214237 \n",
      " f1:0.2623436471362739 \n",
      " precision:0.15335770636905907 \n",
      " recall:0.906712172923777 \n",
      "}\n",
      "=====Epoch 31\n",
      "Training...\n"
     ]
    },
    {
     "name": "stderr",
     "output_type": "stream",
     "text": [
      "Iteration: 100%|██████████| 1004/1004 [01:23<00:00, 12.08it/s]\n",
      "Iteration:  77%|███████▋  | 769/1004 [01:13<00:22, 10.45it/s]"
     ]
    },
    {
     "name": "stdout",
     "output_type": "stream",
     "text": [
      "Evaluating...\n"
     ]
    },
    {
     "name": "stderr",
     "output_type": "stream",
     "text": [
      "Iteration: 100%|██████████| 1004/1004 [01:33<00:00, 10.68it/s]\n",
      "Iteration:   0%|          | 0/1004 [00:00<?, ?it/s]"
     ]
    },
    {
     "name": "stdout",
     "output_type": "stream",
     "text": [
      "Evaluating...\n"
     ]
    },
    {
     "name": "stderr",
     "output_type": "stream",
     "text": [
      "Iteration: 100%|██████████| 1004/1004 [01:23<00:00, 12.06it/s]\n",
      "Iteration:  41%|████      | 413/1004 [00:36<00:50, 11.71it/s]"
     ]
    },
    {
     "name": "stdout",
     "output_type": "stream",
     "text": [
      "Evaluating...\n"
     ]
    },
    {
     "name": "stderr",
     "output_type": "stream",
     "text": [
      "Iteration:  69%|██████▉   | 697/1004 [00:32<00:14, 20.97it/s]]\n",
      "Iteration:  38%|███▊      | 377/1004 [00:17<00:28, 22.25it/s]\n",
      "Iteration:  28%|██▊       | 281/1004 [00:13<00:34, 20.80it/s]"
     ]
    },
    {
     "name": "stdout",
     "output_type": "stream",
     "text": [
      "{'Train':  best_epoch_indx:30\n",
      " auc:0.9123525239930442 \n",
      " apur:0.39892127608622163 \n",
      " f1:0.2610490887483627 \n",
      " precision:0.15128542845939613 \n",
      " recall:0.9511378002528444 \n",
      ", 'Validation':  best_epoch_indx:30\n",
      " auc:0.8818093302470391 \n",
      " apur:0.3292285099975783 \n",
      " f1:0.25005868085439326 \n",
      " precision:0.14496960899936495 \n",
      " recall:0.9089874857792947 \n",
      "}\n",
      "=====Epoch 31\n",
      "Training...\n"
     ]
    },
    {
     "name": "stderr",
     "output_type": "stream",
     "text": [
      "Iteration:  62%|██████▏   | 622/1004 [00:29<00:18, 20.71it/s]]\n",
      "Iteration:  77%|███████▋  | 771/1004 [01:07<00:26,  8.89it/s]\n",
      "Iteration:   0%|          | 1/1004 [00:00<02:12,  7.57it/s]s]"
     ]
    },
    {
     "name": "stdout",
     "output_type": "stream",
     "text": [
      "{'Train':  best_epoch_indx:30\n",
      " auc:0.907123316147249 \n",
      " apur:0.3795257545336964 \n",
      " f1:0.27840270506527315 \n",
      " precision:0.16414630554705995 \n",
      " recall:0.915992414664981 \n",
      ", 'Validation':  best_epoch_indx:30\n",
      " auc:0.8810965004557014 \n",
      " apur:0.3293362150687044 \n",
      " f1:0.2667824576639167 \n",
      " precision:0.1574254381469714 \n",
      " recall:0.8737201365187713 \n",
      "}\n",
      "=====Epoch 31\n",
      "Training...\n"
     ]
    },
    {
     "name": "stderr",
     "output_type": "stream",
     "text": [
      "Iteration:  38%|███▊      | 379/1004 [00:32<00:51, 12.16it/s]]\n",
      "Iteration:  43%|████▎     | 431/1004 [00:37<01:04,  8.88it/s]]\n",
      "Iteration:  13%|█▎        | 15/112 [00:00<00:04, 20.54it/s]s]\n",
      "Iteration:  21%|██        | 212/1004 [00:20<01:13, 10.72it/s]"
     ]
    },
    {
     "name": "stdout",
     "output_type": "stream",
     "text": [
      "{'Train':  best_epoch_indx:30\n",
      " auc:0.9092703248821747 \n",
      " apur:0.3897976688444671 \n",
      " f1:0.27200826896278046 \n",
      " precision:0.15925349586115975 \n",
      " recall:0.9316012390163727 \n",
      ", 'Validation':  best_epoch_indx:30\n",
      " auc:0.8837321088650131 \n",
      " apur:0.3354848520780742 \n",
      " f1:0.25775145982399866 \n",
      " precision:0.1506585905201423 \n",
      " recall:0.891353811149033 \n",
      "}\n",
      "=====Epoch 31\n",
      "Training...\n"
     ]
    },
    {
     "name": "stderr",
     "output_type": "stream",
     "text": [
      "Iteration: 100%|██████████| 1004/1004 [01:29<00:00, 11.25it/s]\n",
      "Iteration:   2%|▏         | 19/1004 [00:01<01:22, 11.99it/s]]"
     ]
    },
    {
     "name": "stdout",
     "output_type": "stream",
     "text": [
      "Evaluating...\n"
     ]
    },
    {
     "name": "stderr",
     "output_type": "stream",
     "text": [
      "Iteration:  27%|██▋       | 268/1004 [00:25<01:02, 11.79it/s]\n",
      "Iteration:   6%|▌         | 61/1004 [00:05<01:19, 11.87it/s]]"
     ]
    },
    {
     "name": "stdout",
     "output_type": "stream",
     "text": [
      "{'Train':  best_epoch_indx:30\n",
      " auc:0.9107400887714419 \n",
      " apur:0.38870830550116797 \n",
      " f1:0.27964317163750524 \n",
      " precision:0.16477170185887025 \n",
      " recall:0.9233881163084703 \n",
      ", 'Validation':  best_epoch_indx:30\n",
      " auc:0.8854327433584489 \n",
      " apur:0.3457993363647409 \n",
      " f1:0.2640166637736504 \n",
      " precision:0.15577632117984433 \n",
      " recall:0.8651877133105802 \n",
      "}\n",
      "=====Epoch 31\n",
      "Training...\n"
     ]
    },
    {
     "name": "stderr",
     "output_type": "stream",
     "text": [
      "Iteration: 100%|██████████| 1004/1004 [01:24<00:00, 11.86it/s]"
     ]
    },
    {
     "name": "stdout",
     "output_type": "stream",
     "text": [
      "Evaluating...\n"
     ]
    },
    {
     "name": "stderr",
     "output_type": "stream",
     "text": [
      "\n",
      "Iteration:  19%|█▉        | 191/1004 [00:08<00:38, 20.85it/s]]\n",
      "Iteration:  75%|███████▌  | 755/1004 [01:02<00:22, 11.31it/s]\n",
      "Iteration:   0%|          | 1/1004 [00:00<01:59,  8.39it/s]s]"
     ]
    },
    {
     "name": "stdout",
     "output_type": "stream",
     "text": [
      "{'Train':  best_epoch_indx:31\n",
      " auc:0.905941079378457 \n",
      " apur:0.38706915791038077 \n",
      " f1:0.27487428075231163 \n",
      " precision:0.16187147384746792 \n",
      " recall:0.9104873885833491 \n",
      ", 'Validation':  best_epoch_indx:31\n",
      " auc:0.8841317314120155 \n",
      " apur:0.34311962819856023 \n",
      " f1:0.2671841310909875 \n",
      " precision:0.15746670732947038 \n",
      " recall:0.8811149032992036 \n",
      "}\n",
      "=====Epoch 32\n",
      "Training...\n"
     ]
    },
    {
     "name": "stderr",
     "output_type": "stream",
     "text": [
      "Iteration: 100%|██████████| 1004/1004 [01:27<00:00, 11.47it/s]\n",
      "Iteration:  68%|██████▊   | 685/1004 [01:02<00:25, 12.30it/s]"
     ]
    },
    {
     "name": "stdout",
     "output_type": "stream",
     "text": [
      "Evaluating...\n"
     ]
    },
    {
     "name": "stderr",
     "output_type": "stream",
     "text": [
      "Iteration: 100%|██████████| 1004/1004 [01:24<00:00, 11.84it/s]\n",
      "Iteration:  33%|███▎      | 334/1004 [00:17<00:35, 18.67it/s]"
     ]
    },
    {
     "name": "stdout",
     "output_type": "stream",
     "text": [
      "Evaluating...\n"
     ]
    },
    {
     "name": "stderr",
     "output_type": "stream",
     "text": [
      "Iteration: 100%|██████████| 1004/1004 [01:31<00:00, 11.02it/s]\n",
      "Iteration:   0%|          | 0/1004 [00:00<?, ?it/s]"
     ]
    },
    {
     "name": "stdout",
     "output_type": "stream",
     "text": [
      "Evaluating...\n"
     ]
    },
    {
     "name": "stderr",
     "output_type": "stream",
     "text": [
      "Iteration:  61%|██████    | 609/1004 [00:31<00:19, 20.65it/s]]\n",
      "Iteration:  17%|█▋        | 170/1004 [00:08<00:38, 21.62it/s]\n",
      "Iteration:   0%|          | 0/1004 [00:00<?, ?it/s]"
     ]
    },
    {
     "name": "stdout",
     "output_type": "stream",
     "text": [
      "{'Train':  best_epoch_indx:31\n",
      " auc:0.9118110772633184 \n",
      " apur:0.3932909834760056 \n",
      " f1:0.2740251083212977 \n",
      " precision:0.1605236896910795 \n",
      " recall:0.9354614412136536 \n",
      ", 'Validation':  best_epoch_indx:31\n",
      " auc:0.8817104160847923 \n",
      " apur:0.33001784989621236 \n",
      " f1:0.25924387203988364 \n",
      " precision:0.15179527099348059 \n",
      " recall:0.8873720136518771 \n",
      "}\n",
      "=====Epoch 32\n",
      "Training...\n"
     ]
    },
    {
     "name": "stderr",
     "output_type": "stream",
     "text": [
      "Iteration:  66%|██████▌   | 659/1004 [00:58<00:34, 10.05it/s]]\n",
      "Iteration:  26%|██▌       | 261/1004 [00:21<01:01, 12.17it/s]\n",
      "Iteration:  59%|█████▊    | 588/1004 [00:30<00:19, 21.17it/s]"
     ]
    },
    {
     "name": "stdout",
     "output_type": "stream",
     "text": [
      "{'Train':  best_epoch_indx:31\n",
      " auc:0.9047323170879651 \n",
      " apur:0.37406867785057196 \n",
      " f1:0.26908407495439723 \n",
      " precision:0.1574962793606971 \n",
      " recall:0.9231352718078382 \n",
      ", 'Validation':  best_epoch_indx:31\n",
      " auc:0.8785851179694947 \n",
      " apur:0.32655037829080236 \n",
      " f1:0.2591045773471433 \n",
      " precision:0.15185040140982964 \n",
      " recall:0.8822525597269625 \n",
      "}\n",
      "=====Epoch 32\n",
      "Training...\n"
     ]
    },
    {
     "name": "stderr",
     "output_type": "stream",
     "text": [
      "Iteration:  90%|████████▉ | 901/1004 [01:20<00:08, 12.78it/s]]\n",
      "Iteration:  23%|██▎       | 235/1004 [00:22<01:06, 11.50it/s]]\n",
      "Iteration:   0%|          | 1/1004 [00:00<02:13,  7.54it/s]s]"
     ]
    },
    {
     "name": "stdout",
     "output_type": "stream",
     "text": [
      "{'Train':  best_epoch_indx:31\n",
      " auc:0.905831359231352 \n",
      " apur:0.3780580743031323 \n",
      " f1:0.26101866918621947 \n",
      " precision:0.1514717678475332 \n",
      " recall:0.9430431759276819 \n",
      ", 'Validation':  best_epoch_indx:31\n",
      " auc:0.880975773854374 \n",
      " apur:0.32851910596799616 \n",
      " f1:0.2469982847341338 \n",
      " precision:0.14311528731478135 \n",
      " recall:0.9010238907849829 \n",
      "}\n",
      "=====Epoch 32\n",
      "Training...\n"
     ]
    },
    {
     "name": "stderr",
     "output_type": "stream",
     "text": [
      "Iteration:  54%|█████▎    | 539/1004 [00:45<00:40, 11.58it/s]\n",
      "Iteration: 100%|██████████| 1004/1004 [01:28<00:00, 11.33it/s]\n",
      "Iteration:  31%|███▏      | 35/112 [00:01<00:04, 18.07it/s]]]"
     ]
    },
    {
     "name": "stdout",
     "output_type": "stream",
     "text": [
      "Evaluating...\n"
     ]
    },
    {
     "name": "stderr",
     "output_type": "stream",
     "text": [
      "Iteration:  10%|█         | 101/1004 [00:04<00:40, 22.26it/s]\n",
      "Iteration:  10%|█         | 104/1004 [00:04<00:40, 22.28it/s]"
     ]
    },
    {
     "name": "stdout",
     "output_type": "stream",
     "text": [
      "{'Train':  best_epoch_indx:31\n",
      " auc:0.9073721198112009 \n",
      " apur:0.375798314630858 \n",
      " f1:0.2829549705644923 \n",
      " precision:0.167576202803237 \n",
      " recall:0.9084070796460177 \n",
      ", 'Validation':  best_epoch_indx:31\n",
      " auc:0.8804989688306256 \n",
      " apur:0.334138627896635 \n",
      " f1:0.26726137377341663 \n",
      " precision:0.15848497672450276 \n",
      " recall:0.8521046643913538 \n",
      "}\n",
      "=====Epoch 32\n",
      "Training...\n"
     ]
    },
    {
     "name": "stderr",
     "output_type": "stream",
     "text": [
      "Iteration: 100%|██████████| 1004/1004 [01:23<00:00, 12.08it/s]\n",
      "Iteration:   0%|          | 0/1004 [00:00<?, ?it/s]"
     ]
    },
    {
     "name": "stdout",
     "output_type": "stream",
     "text": [
      "Evaluating...\n"
     ]
    },
    {
     "name": "stderr",
     "output_type": "stream",
     "text": [
      "Iteration:  87%|████████▋ | 871/1004 [01:15<00:10, 12.41it/s]]\n",
      "Iteration:  67%|██████▋   | 676/1004 [00:59<00:28, 11.39it/s]\n",
      "Iteration:  44%|████▍     | 444/1004 [00:20<00:26, 21.16it/s]"
     ]
    },
    {
     "name": "stdout",
     "output_type": "stream",
     "text": [
      "{'Train':  best_epoch_indx:32\n",
      " auc:0.9052771136396398 \n",
      " apur:0.38019324389547793 \n",
      " f1:0.2592394403263301 \n",
      " precision:0.1505052151238592 \n",
      " recall:0.934066628737594 \n",
      ", 'Validation':  best_epoch_indx:32\n",
      " auc:0.8828438105180785 \n",
      " apur:0.3398757734757222 \n",
      " f1:0.2513254728179157 \n",
      " precision:0.14596929864877287 \n",
      " recall:0.9032992036405005 \n",
      "}\n",
      "=====Epoch 33\n",
      "Training...\n"
     ]
    },
    {
     "name": "stderr",
     "output_type": "stream",
     "text": [
      "Iteration: 100%|██████████| 1004/1004 [01:26<00:00, 11.66it/s]\n",
      "Iteration:   4%|▍         | 45/1004 [00:04<01:31, 10.46it/s]]"
     ]
    },
    {
     "name": "stdout",
     "output_type": "stream",
     "text": [
      "Evaluating...\n"
     ]
    },
    {
     "name": "stderr",
     "output_type": "stream",
     "text": [
      "Iteration:  95%|█████████▍| 953/1004 [01:20<00:04, 12.03it/s]]\n",
      "Iteration: 100%|██████████| 1004/1004 [01:28<00:00, 11.36it/s]\n",
      "Iteration:  21%|██▏       | 24/112 [00:01<00:03, 22.20it/s]s]"
     ]
    },
    {
     "name": "stdout",
     "output_type": "stream",
     "text": [
      "Evaluating...\n"
     ]
    },
    {
     "name": "stderr",
     "output_type": "stream",
     "text": [
      "Iteration: 100%|██████████| 1004/1004 [01:24<00:00, 11.90it/s]\n",
      "Iteration:  37%|███▋      | 371/1004 [00:32<00:52, 12.04it/s]"
     ]
    },
    {
     "name": "stdout",
     "output_type": "stream",
     "text": [
      "Evaluating...\n"
     ]
    },
    {
     "name": "stderr",
     "output_type": "stream",
     "text": [
      "Iteration:   2%|▏         | 20/1004 [00:01<00:47, 20.63it/s]]\n",
      "Iteration:   0%|          | 1/1004 [00:00<02:11,  7.60it/s]]]"
     ]
    },
    {
     "name": "stdout",
     "output_type": "stream",
     "text": [
      "{'Train':  best_epoch_indx:32\n",
      " auc:0.9079433970072923 \n",
      " apur:0.38975242542023947 \n",
      " f1:0.2852890646849655 \n",
      " precision:0.1694149188573598 \n",
      " recall:0.9027180783817952 \n",
      ", 'Validation':  best_epoch_indx:32\n",
      " auc:0.8771066904089369 \n",
      " apur:0.3293857149757508 \n",
      " f1:0.2678651685393258 \n",
      " precision:0.159069072275008 \n",
      " recall:0.8475540386803185 \n",
      "}\n",
      "=====Epoch 33\n",
      "Training...\n"
     ]
    },
    {
     "name": "stderr",
     "output_type": "stream",
     "text": [
      "Iteration:  27%|██▋       | 271/1004 [00:23<01:00, 12.06it/s]]\n",
      "Iteration:  33%|███▎      | 331/1004 [00:29<01:06, 10.06it/s]\n",
      "Iteration:  64%|██████▍   | 644/1004 [00:30<00:17, 20.04it/s]"
     ]
    },
    {
     "name": "stdout",
     "output_type": "stream",
     "text": [
      "{'Train':  best_epoch_indx:32\n",
      " auc:0.8975873758780231 \n",
      " apur:0.35395242553073925 \n",
      " f1:0.2562444128937267 \n",
      " precision:0.1487454467756049 \n",
      " recall:0.9240834386852086 \n",
      ", 'Validation':  best_epoch_indx:32\n",
      " auc:0.8732221740571984 \n",
      " apur:0.3065719119569602 \n",
      " f1:0.24570883661792753 \n",
      " precision:0.1428043598743765 \n",
      " recall:0.8794084186575654 \n",
      "}\n",
      "=====Epoch 33\n",
      "Training...\n"
     ]
    },
    {
     "name": "stderr",
     "output_type": "stream",
     "text": [
      "Iteration:  49%|████▉     | 496/1004 [00:44<00:50,  9.96it/s]]\n",
      "Iteration:  83%|████████▎ | 93/112 [00:04<00:00, 22.32it/s]s]]\n",
      "Iteration:  19%|█▉        | 21/112 [00:00<00:04, 21.31it/s]s]\n",
      "Iteration:  55%|█████▍    | 551/1004 [00:50<00:44, 10.11it/s]"
     ]
    },
    {
     "name": "stdout",
     "output_type": "stream",
     "text": [
      "{'Train':  best_epoch_indx:32\n",
      " auc:0.901493418655656 \n",
      " apur:0.38034985238234253 \n",
      " f1:0.26796929518492674 \n",
      " precision:0.15710919088766692 \n",
      " recall:0.9102977432201783 \n",
      ", 'Validation':  best_epoch_indx:32\n",
      " auc:0.87761870399334 \n",
      " apur:0.3369558116376273 \n",
      " f1:0.25559530742990266 \n",
      " precision:0.1496930123769613 \n",
      " recall:0.8737201365187713 \n",
      "}\n",
      "=====Epoch 33\n",
      "Training...\n"
     ]
    },
    {
     "name": "stderr",
     "output_type": "stream",
     "text": [
      "Iteration: 100%|██████████| 1004/1004 [01:26<00:00, 11.58it/s]\n",
      "Iteration:  58%|█████▊    | 587/1004 [00:53<00:39, 10.49it/s]"
     ]
    },
    {
     "name": "stdout",
     "output_type": "stream",
     "text": [
      "Evaluating...\n"
     ]
    },
    {
     "name": "stderr",
     "output_type": "stream",
     "text": [
      "Iteration:   2%|▏         | 22/1004 [00:01<00:46, 21.15it/s]]\n",
      "Iteration:   0%|          | 1/1004 [00:00<01:58,  8.48it/s]s]"
     ]
    },
    {
     "name": "stdout",
     "output_type": "stream",
     "text": [
      "{'Train':  best_epoch_indx:32\n",
      " auc:0.9031760611807912 \n",
      " apur:0.36580795605564587 \n",
      " f1:0.28056909760222865 \n",
      " precision:0.1664895501239816 \n",
      " recall:0.8912768647281921 \n",
      ", 'Validation':  best_epoch_indx:32\n",
      " auc:0.8790515865350692 \n",
      " apur:0.3219135176251491 \n",
      " f1:0.26579442602383724 \n",
      " precision:0.15774917561961493 \n",
      " recall:0.8435722411831627 \n",
      "}\n",
      "=====Epoch 33\n",
      "Training...\n"
     ]
    },
    {
     "name": "stderr",
     "output_type": "stream",
     "text": [
      "Iteration: 100%|██████████| 1004/1004 [01:28<00:00, 11.30it/s]\n",
      "Iteration:  45%|████▌     | 453/1004 [00:38<00:43, 12.72it/s]"
     ]
    },
    {
     "name": "stdout",
     "output_type": "stream",
     "text": [
      "Evaluating...\n"
     ]
    },
    {
     "name": "stderr",
     "output_type": "stream",
     "text": [
      "Iteration:  57%|█████▋    | 575/1004 [00:52<00:42, 10.09it/s]]\n",
      "Iteration:  95%|█████████▌| 955/1004 [01:22<00:05,  9.47it/s]\n",
      "Iteration:  51%|█████     | 509/1004 [00:23<00:22, 21.58it/s]"
     ]
    },
    {
     "name": "stdout",
     "output_type": "stream",
     "text": [
      "{'Train':  best_epoch_indx:33\n",
      " auc:0.8929914393604247 \n",
      " apur:0.3500505097949299 \n",
      " f1:0.2544384416040761 \n",
      " precision:0.14775138752856676 \n",
      " recall:0.9154813831468487 \n",
      ", 'Validation':  best_epoch_indx:33\n",
      " auc:0.8711478478883943 \n",
      " apur:0.3111780158704335 \n",
      " f1:0.24551702346156884 \n",
      " precision:0.14255572883221723 \n",
      " recall:0.8839590443686007 \n",
      "}\n",
      "=====Epoch 34\n",
      "Training...\n"
     ]
    },
    {
     "name": "stderr",
     "output_type": "stream",
     "text": [
      "Iteration: 100%|██████████| 1004/1004 [01:26<00:00, 11.56it/s]\n",
      "Iteration:  59%|█████▉    | 590/1004 [00:27<00:19, 21.23it/s]"
     ]
    },
    {
     "name": "stdout",
     "output_type": "stream",
     "text": [
      "Evaluating...\n"
     ]
    },
    {
     "name": "stderr",
     "output_type": "stream",
     "text": [
      "Iteration:  47%|████▋     | 475/1004 [00:22<00:25, 20.51it/s]]\n",
      "Iteration: 100%|██████████| 1004/1004 [01:29<00:00, 11.26it/s]\n",
      "Iteration:  30%|███       | 304/1004 [00:26<00:58, 11.98it/s]"
     ]
    },
    {
     "name": "stdout",
     "output_type": "stream",
     "text": [
      "Evaluating...\n"
     ]
    },
    {
     "name": "stderr",
     "output_type": "stream",
     "text": [
      "Iteration:   9%|▊         | 86/1004 [00:04<00:52, 17.56it/s]]\n",
      "Iteration:  36%|███▋      | 366/1004 [00:31<00:51, 12.34it/s]"
     ]
    },
    {
     "name": "stdout",
     "output_type": "stream",
     "text": [
      "{'Train':  best_epoch_indx:33\n",
      " auc:0.9048160728114449 \n",
      " apur:0.38142967720977616 \n",
      " f1:0.2628544871164657 \n",
      " precision:0.15307025305255706 \n",
      " recall:0.929519595448799 \n",
      ", 'Validation':  best_epoch_indx:33\n",
      " auc:0.8725715604125424 \n",
      " apur:0.31669468194083084 \n",
      " f1:0.24802578565672848 \n",
      " precision:0.14447990987607962 \n",
      " recall:0.8754266211604096 \n",
      "}\n",
      "=====Epoch 34\n",
      "Training...\n"
     ]
    },
    {
     "name": "stderr",
     "output_type": "stream",
     "text": [
      "Iteration: 100%|██████████| 1004/1004 [01:31<00:00, 10.99it/s]\n",
      "Iteration:  63%|██████▎   | 637/1004 [00:29<00:17, 20.71it/s]"
     ]
    },
    {
     "name": "stdout",
     "output_type": "stream",
     "text": [
      "Evaluating...\n"
     ]
    },
    {
     "name": "stderr",
     "output_type": "stream",
     "text": [
      "Iteration:  53%|█████▎    | 530/1004 [00:26<00:22, 20.61it/s]]\n",
      "Iteration:  64%|██████▎   | 639/1004 [00:32<00:20, 17.83it/s]\n",
      "Iteration:  64%|██████▍   | 641/1004 [00:32<00:20, 17.89it/s]"
     ]
    },
    {
     "name": "stdout",
     "output_type": "stream",
     "text": [
      "{'Train':  best_epoch_indx:33\n",
      " auc:0.8956037591425134 \n",
      " apur:0.3567093452639642 \n",
      " f1:0.25807028525440395 \n",
      " precision:0.1502968440787418 \n",
      " recall:0.9121365360303414 \n",
      ", 'Validation':  best_epoch_indx:33\n",
      " auc:0.8718941365794981 \n",
      " apur:0.3165414048798981 \n",
      " f1:0.24981773997569867 \n",
      " precision:0.14565032587135165 \n",
      " recall:0.8771331058020477 \n",
      "}\n",
      "=====Epoch 34\n",
      "Training...\n"
     ]
    },
    {
     "name": "stderr",
     "output_type": "stream",
     "text": [
      "Iteration:  25%|██▍       | 249/1004 [00:19<01:01, 12.33it/s]]\n",
      "Iteration:  99%|█████████▉| 998/1004 [01:24<00:00, 12.30it/s]]\n",
      "Iteration:  59%|█████▉    | 596/1004 [00:52<00:39, 10.33it/s]"
     ]
    },
    {
     "name": "stdout",
     "output_type": "stream",
     "text": [
      "{'Train':  best_epoch_indx:33\n",
      " auc:0.8995789512982186 \n",
      " apur:0.366985865198876 \n",
      " f1:0.269708725096982 \n",
      " precision:0.1583888619213627 \n",
      " recall:0.9075794930147292 \n",
      ", 'Validation':  best_epoch_indx:33\n",
      " auc:0.8717219250849402 \n",
      " apur:0.3229864004424769 \n",
      " f1:0.2534500168293504 \n",
      " precision:0.1487260517479755 \n",
      " recall:0.856655290102389 \n",
      "}\n",
      "=====Epoch 34\n",
      "Training...\n"
     ]
    },
    {
     "name": "stderr",
     "output_type": "stream",
     "text": [
      "Iteration: 100%|██████████| 1004/1004 [01:24<00:00, 11.84it/s]\n",
      "Iteration:   1%|          | 7/1004 [00:00<01:25, 11.67it/s]s]"
     ]
    },
    {
     "name": "stdout",
     "output_type": "stream",
     "text": [
      "Evaluating...\n"
     ]
    },
    {
     "name": "stderr",
     "output_type": "stream",
     "text": [
      "Iteration:   1%|▏         | 13/1004 [00:01<01:22, 12.08it/s]]\n",
      "Iteration:  14%|█▎        | 137/1004 [00:06<00:39, 21.72it/s]\n",
      "Iteration:  14%|█▍        | 143/1004 [00:06<00:39, 21.73it/s]"
     ]
    },
    {
     "name": "stdout",
     "output_type": "stream",
     "text": [
      "{'Train':  best_epoch_indx:33\n",
      " auc:0.8983894863352404 \n",
      " apur:0.33868963181363615 \n",
      " f1:0.26413438062929195 \n",
      " precision:0.15440288215862563 \n",
      " recall:0.9129582806573957 \n",
      ", 'Validation':  best_epoch_indx:33\n",
      " auc:0.8761100925392952 \n",
      " apur:0.3072413063839312 \n",
      " f1:0.2540500124615768 \n",
      " precision:0.14874987839283976 \n",
      " recall:0.8697383390216155 \n",
      "}\n",
      "=====Epoch 34\n",
      "Training...\n"
     ]
    },
    {
     "name": "stderr",
     "output_type": "stream",
     "text": [
      "Iteration: 100%|██████████| 1004/1004 [01:29<00:00, 11.26it/s]\n",
      "Iteration:  34%|███▍      | 342/1004 [00:29<00:52, 12.71it/s]"
     ]
    },
    {
     "name": "stdout",
     "output_type": "stream",
     "text": [
      "Evaluating...\n"
     ]
    },
    {
     "name": "stderr",
     "output_type": "stream",
     "text": [
      "Iteration:  91%|█████████ | 915/1004 [01:15<00:07, 11.41it/s]]\n",
      "Iteration:  57%|█████▋    | 572/1004 [00:48<00:35, 12.05it/s]\n",
      "Iteration:  37%|███▋      | 376/1004 [00:19<00:29, 21.61it/s]"
     ]
    },
    {
     "name": "stdout",
     "output_type": "stream",
     "text": [
      "{'Train':  best_epoch_indx:34\n",
      " auc:0.9035561164487111 \n",
      " apur:0.37747616620337415 \n",
      " f1:0.2576496557982079 \n",
      " precision:0.14945239589448753 \n",
      " recall:0.9333712624059675 \n",
      ", 'Validation':  best_epoch_indx:34\n",
      " auc:0.881696858456059 \n",
      " apur:0.33530431643183345 \n",
      " f1:0.25077032472149796 \n",
      " precision:0.14560968896229012 \n",
      " recall:0.9027303754266212 \n",
      "}\n",
      "=====Epoch 35\n",
      "Training...\n"
     ]
    },
    {
     "name": "stderr",
     "output_type": "stream",
     "text": [
      "Iteration: 100%|██████████| 1004/1004 [01:23<00:00, 12.09it/s]\n",
      "Iteration:  69%|██████▊   | 689/1004 [00:57<00:25, 12.48it/s]"
     ]
    },
    {
     "name": "stdout",
     "output_type": "stream",
     "text": [
      "Evaluating...\n"
     ]
    },
    {
     "name": "stderr",
     "output_type": "stream",
     "text": [
      "Iteration: 100%|██████████| 1004/1004 [01:23<00:00, 12.04it/s]\n",
      "Iteration:  54%|█████▍    | 542/1004 [00:25<00:22, 20.20it/s]"
     ]
    },
    {
     "name": "stdout",
     "output_type": "stream",
     "text": [
      "Evaluating...\n"
     ]
    },
    {
     "name": "stderr",
     "output_type": "stream",
     "text": [
      "Iteration:   9%|▊         | 86/1004 [00:04<00:43, 21.20it/s]]]\n",
      "Iteration: 100%|██████████| 1004/1004 [01:26<00:00, 11.67it/s]\n",
      "Iteration:  94%|█████████▍| 105/112 [00:04<00:00, 21.13it/s]]"
     ]
    },
    {
     "name": "stdout",
     "output_type": "stream",
     "text": [
      "Evaluating...\n"
     ]
    },
    {
     "name": "stderr",
     "output_type": "stream",
     "text": [
      "Iteration:  75%|███████▍  | 752/1004 [00:35<00:12, 20.59it/s]\n",
      "Iteration:  46%|████▌     | 461/1004 [00:38<00:42, 12.63it/s]"
     ]
    },
    {
     "name": "stdout",
     "output_type": "stream",
     "text": [
      "{'Train':  best_epoch_indx:34\n",
      " auc:0.8816222179956797 \n",
      " apur:0.33584769981374274 \n",
      " f1:0.261208838613814 \n",
      " precision:0.15395220068930449 \n",
      " recall:0.8611883691529709 \n",
      ", 'Validation':  best_epoch_indx:34\n",
      " auc:0.8613657809829411 \n",
      " apur:0.28888368147438626 \n",
      " f1:0.250495305366526 \n",
      " precision:0.14759922850472032 \n",
      " recall:0.8270762229806599 \n",
      "}\n",
      "=====Epoch 35\n",
      "Training...\n"
     ]
    },
    {
     "name": "stderr",
     "output_type": "stream",
     "text": [
      "Iteration:  50%|█████     | 504/1004 [00:24<00:23, 21.22it/s]]\n",
      "Iteration:  61%|██████▏   | 615/1004 [00:30<00:19, 20.27it/s]\n",
      "Iteration:  24%|██▍       | 239/1004 [00:20<01:04, 11.89it/s]"
     ]
    },
    {
     "name": "stdout",
     "output_type": "stream",
     "text": [
      "{'Train':  best_epoch_indx:34\n",
      " auc:0.8883024570631328 \n",
      " apur:0.3393078552584685 \n",
      " f1:0.28257881716110206 \n",
      " precision:0.16966711525277403 \n",
      " recall:0.8447534766118837 \n",
      ", 'Validation':  best_epoch_indx:34\n",
      " auc:0.8664269846591884 \n",
      " apur:0.30981626115678207 \n",
      " f1:0.2704203772862204 \n",
      " precision:0.16257915947035118 \n",
      " recall:0.8031854379977247 \n",
      "}\n",
      "=====Epoch 35\n",
      "Training...\n"
     ]
    },
    {
     "name": "stderr",
     "output_type": "stream",
     "text": [
      "Iteration:  47%|████▋     | 475/1004 [00:40<00:50, 10.39it/s]]\n",
      "Iteration: 100%|██████████| 1004/1004 [01:23<00:00, 11.98it/s]\n",
      "Iteration:  31%|███       | 309/1004 [00:26<01:05, 10.68it/s]"
     ]
    },
    {
     "name": "stdout",
     "output_type": "stream",
     "text": [
      "Evaluating...\n"
     ]
    },
    {
     "name": "stderr",
     "output_type": "stream",
     "text": [
      "Iteration:  98%|█████████▊| 983/1004 [00:47<00:01, 20.08it/s]\n",
      "Iteration:   1%|          | 11/1004 [00:00<00:47, 20.88it/s]]"
     ]
    },
    {
     "name": "stdout",
     "output_type": "stream",
     "text": [
      "{'Train':  best_epoch_indx:34\n",
      " auc:0.892245754611444 \n",
      " apur:0.3429842661187223 \n",
      " f1:0.25338336721043764 \n",
      " precision:0.14687370975700634 \n",
      " recall:0.9219925406157152 \n",
      ", 'Validation':  best_epoch_indx:34\n",
      " auc:0.8713676860496073 \n",
      " apur:0.3068400792969109 \n",
      " f1:0.24221668742216684 \n",
      " precision:0.14030658250676284 \n",
      " recall:0.8850967007963595 \n",
      "}\n",
      "=====Epoch 35\n",
      "Training...\n"
     ]
    },
    {
     "name": "stderr",
     "output_type": "stream",
     "text": [
      "Iteration:   8%|▊         | 80/1004 [00:03<00:44, 20.91it/s]]]\n",
      "Iteration:  20%|█▉        | 198/1004 [00:09<00:38, 21.01it/s]\n",
      "Iteration:  63%|██████▎   | 631/1004 [00:55<00:34, 10.72it/s]"
     ]
    },
    {
     "name": "stdout",
     "output_type": "stream",
     "text": [
      "{'Train':  best_epoch_indx:34\n",
      " auc:0.8916934903564673 \n",
      " apur:0.3393463901698174 \n",
      " f1:0.26610994338086313 \n",
      " precision:0.15649569032717878 \n",
      " recall:0.8883059418457648 \n",
      ", 'Validation':  best_epoch_indx:34\n",
      " auc:0.870079029400835 \n",
      " apur:0.30134311853184614 \n",
      " f1:0.25659141823194903 \n",
      " precision:0.1511982128350934 \n",
      " recall:0.8469852104664392 \n",
      "}\n",
      "=====Epoch 35\n",
      "Training...\n"
     ]
    },
    {
     "name": "stderr",
     "output_type": "stream",
     "text": [
      "Iteration: 100%|██████████| 1004/1004 [01:28<00:00, 11.33it/s]\n",
      "Iteration:  81%|████████  | 813/1004 [01:08<00:16, 11.88it/s]"
     ]
    },
    {
     "name": "stdout",
     "output_type": "stream",
     "text": [
      "Evaluating...\n"
     ]
    },
    {
     "name": "stderr",
     "output_type": "stream",
     "text": [
      "Iteration:  40%|████      | 403/1004 [00:40<00:53, 11.21it/s]]\n",
      "Iteration:  96%|█████████▌| 959/1004 [01:22<00:04,  9.93it/s]\n",
      "Iteration:   0%|          | 1/1004 [00:00<01:53,  8.81it/s]s]"
     ]
    },
    {
     "name": "stdout",
     "output_type": "stream",
     "text": [
      "{'Train':  best_epoch_indx:35\n",
      " auc:0.8953491761742118 \n",
      " apur:0.3446618839526909 \n",
      " f1:0.25008041987640733 \n",
      " precision:0.14437352777316223 \n",
      " recall:0.9337505531323093 \n",
      ", 'Validation':  best_epoch_indx:35\n",
      " auc:0.8777003638074373 \n",
      " apur:0.32475637266289226 \n",
      " f1:0.24141885176974237 \n",
      " precision:0.13945067561600283 \n",
      " recall:0.8981797497155859 \n",
      "}\n",
      "=====Epoch 36\n",
      "Training...\n"
     ]
    },
    {
     "name": "stderr",
     "output_type": "stream",
     "text": [
      "Iteration: 100%|██████████| 1004/1004 [01:26<00:00, 11.62it/s]\n",
      "Iteration:   0%|          | 0/1004 [00:00<?, ?it/s]"
     ]
    },
    {
     "name": "stdout",
     "output_type": "stream",
     "text": [
      "Evaluating...\n"
     ]
    },
    {
     "name": "stderr",
     "output_type": "stream",
     "text": [
      "Iteration: 100%|██████████| 1004/1004 [01:24<00:00, 11.93it/s]\n",
      "Iteration:  76%|███████▋  | 767/1004 [01:15<00:21, 11.25it/s]"
     ]
    },
    {
     "name": "stdout",
     "output_type": "stream",
     "text": [
      "Evaluating...\n"
     ]
    },
    {
     "name": "stderr",
     "output_type": "stream",
     "text": [
      "Iteration:  40%|████      | 403/1004 [00:37<00:57, 10.38it/s]]\n",
      "Iteration:  93%|█████████▎| 931/1004 [01:30<00:06, 11.42it/s]\n",
      "Iteration:   0%|          | 1/1004 [00:00<01:55,  8.69it/s]s]"
     ]
    },
    {
     "name": "stdout",
     "output_type": "stream",
     "text": [
      "{'Train':  best_epoch_indx:35\n",
      " auc:0.8974370496288209 \n",
      " apur:0.36423123635411997 \n",
      " f1:0.26297820510454534 \n",
      " precision:0.15396417226700088 \n",
      " recall:0.9007585335018964 \n",
      ", 'Validation':  best_epoch_indx:35\n",
      " auc:0.8679313520640004 \n",
      " apur:0.3140303933302246 \n",
      " f1:0.25008325008325005 \n",
      " precision:0.14647942266432612 \n",
      " recall:0.8543799772468714 \n",
      "}\n",
      "=====Epoch 36\n",
      "Training...\n"
     ]
    },
    {
     "name": "stderr",
     "output_type": "stream",
     "text": [
      "Iteration: 100%|██████████| 1004/1004 [01:36<00:00, 10.38it/s]\n",
      "Iteration:   7%|▋         | 70/1004 [00:06<01:26, 10.81it/s]]"
     ]
    },
    {
     "name": "stdout",
     "output_type": "stream",
     "text": [
      "Evaluating...\n"
     ]
    },
    {
     "name": "stderr",
     "output_type": "stream",
     "text": [
      "Iteration:  17%|█▋        | 172/1004 [00:08<00:41, 20.27it/s]]\n",
      "Iteration:  29%|██▉       | 289/1004 [00:13<00:32, 21.74it/s]\n",
      "Iteration:  23%|██▎       | 234/1004 [00:20<01:06, 11.67it/s]"
     ]
    },
    {
     "name": "stdout",
     "output_type": "stream",
     "text": [
      "{'Train':  best_epoch_indx:35\n",
      " auc:0.8946186445287949 \n",
      " apur:0.35672089403157176 \n",
      " f1:0.2712361035304932 \n",
      " precision:0.15982982180944105 \n",
      " recall:0.8952591656131479 \n",
      ", 'Validation':  best_epoch_indx:35\n",
      " auc:0.8717200318621322 \n",
      " apur:0.31232891804295204 \n",
      " f1:0.2585820251854407 \n",
      " precision:0.15239934932899551 \n",
      " recall:0.8526734926052332 \n",
      "}\n",
      "=====Epoch 36\n",
      "Training...\n"
     ]
    },
    {
     "name": "stderr",
     "output_type": "stream",
     "text": [
      "Iteration:  56%|█████▋    | 567/1004 [00:27<00:20, 21.17it/s]]\n",
      "Iteration:  45%|████▍     | 451/1004 [00:38<00:45, 12.19it/s]\n",
      "Iteration:  67%|██████▋   | 675/1004 [00:32<00:19, 17.06it/s]"
     ]
    },
    {
     "name": "stdout",
     "output_type": "stream",
     "text": [
      "{'Train':  best_epoch_indx:35\n",
      " auc:0.8839536660666758 \n",
      " apur:0.3345256994331399 \n",
      " f1:0.2316141921931882 \n",
      " precision:0.1323388741494757 \n",
      " recall:0.9270497503002718 \n",
      ", 'Validation':  best_epoch_indx:35\n",
      " auc:0.8602836650726269 \n",
      " apur:0.29710261780945724 \n",
      " f1:0.22305146799971834 \n",
      " precision:0.12728003214142225 \n",
      " recall:0.9010238907849829 \n",
      "}\n",
      "=====Epoch 36\n",
      "Training...\n"
     ]
    },
    {
     "name": "stderr",
     "output_type": "stream",
     "text": [
      "Iteration:  92%|█████████▏| 922/1004 [00:44<00:03, 21.65it/s]]\n",
      "Iteration:  59%|█████▉    | 591/1004 [00:50<00:37, 11.05it/s]"
     ]
    },
    {
     "name": "stdout",
     "output_type": "stream",
     "text": [
      "Evaluating...\n"
     ]
    },
    {
     "name": "stderr",
     "output_type": "stream",
     "text": [
      "Iteration:  20%|█▉        | 200/1004 [00:17<01:03, 12.58it/s]]\n",
      "Iteration:  26%|██▋       | 266/1004 [00:23<00:58, 12.70it/s]\n",
      "Iteration:  45%|████▌     | 453/1004 [00:41<00:53, 10.36it/s]"
     ]
    },
    {
     "name": "stdout",
     "output_type": "stream",
     "text": [
      "{'Train':  best_epoch_indx:35\n",
      " auc:0.9010515083977013 \n",
      " apur:0.3601132386438569 \n",
      " f1:0.25791732589750094 \n",
      " precision:0.14965358436209816 \n",
      " recall:0.9325537294563844 \n",
      ", 'Validation':  best_epoch_indx:35\n",
      " auc:0.879211137662888 \n",
      " apur:0.3329783879260789 \n",
      " f1:0.24868985231062407 \n",
      " precision:0.14451827242524917 \n",
      " recall:0.8907849829351536 \n",
      "}\n",
      "=====Epoch 36\n",
      "Training...\n"
     ]
    },
    {
     "name": "stderr",
     "output_type": "stream",
     "text": [
      "Iteration: 100%|██████████| 1004/1004 [01:27<00:00, 11.41it/s]\n",
      "Iteration:   0%|          | 0/1004 [00:00<?, ?it/s]"
     ]
    },
    {
     "name": "stdout",
     "output_type": "stream",
     "text": [
      "Evaluating...\n"
     ]
    },
    {
     "name": "stderr",
     "output_type": "stream",
     "text": [
      "Iteration:  90%|█████████ | 905/1004 [01:24<00:08, 12.13it/s]]\n",
      "Iteration:  47%|████▋     | 475/1004 [00:23<00:24, 21.84it/s]\n",
      "Iteration:  87%|████████▋ | 874/1004 [01:12<00:10, 12.22it/s]"
     ]
    },
    {
     "name": "stdout",
     "output_type": "stream",
     "text": [
      "{'Train':  best_epoch_indx:36\n",
      " auc:0.9047846845857297 \n",
      " apur:0.38890622640520767 \n",
      " f1:0.25659972484922944 \n",
      " precision:0.14864566834412654 \n",
      " recall:0.9373538150325558 \n",
      ", 'Validation':  best_epoch_indx:36\n",
      " auc:0.8826714644342214 \n",
      " apur:0.34766459820000456 \n",
      " f1:0.2485594144214297 \n",
      " precision:0.14399133886683507 \n",
      " recall:0.9078498293515358 \n",
      "}\n",
      "=====Epoch 37\n",
      "Training...\n"
     ]
    },
    {
     "name": "stderr",
     "output_type": "stream",
     "text": [
      "Iteration: 100%|█████████▉| 1003/1004 [01:33<00:00, 12.19it/s]"
     ]
    },
    {
     "name": "stdout",
     "output_type": "stream",
     "text": [
      "Evaluating...\n"
     ]
    },
    {
     "name": "stderr",
     "output_type": "stream",
     "text": [
      "Iteration: 100%|██████████| 1004/1004 [01:33<00:00, 10.78it/s]\n",
      "Iteration: 100%|██████████| 1004/1004 [01:22<00:00, 12.14it/s]\n",
      "Iteration:  18%|█▊        | 178/1004 [00:08<00:37, 22.01it/s]"
     ]
    },
    {
     "name": "stdout",
     "output_type": "stream",
     "text": [
      "Evaluating...\n"
     ]
    },
    {
     "name": "stderr",
     "output_type": "stream",
     "text": [
      "Iteration:  54%|█████▍    | 544/1004 [00:25<00:21, 21.46it/s]]\n",
      "Iteration:  33%|███▎      | 335/1004 [00:33<00:56, 11.93it/s]\n",
      "Iteration:  66%|██████▋   | 667/1004 [00:30<00:16, 20.17it/s]"
     ]
    },
    {
     "name": "stdout",
     "output_type": "stream",
     "text": [
      "{'Train':  best_epoch_indx:36\n",
      " auc:0.9058152578843557 \n",
      " apur:0.39289021977364275 \n",
      " f1:0.2591100241057132 \n",
      " precision:0.15050180896510842 \n",
      " recall:0.9308470290771176 \n",
      ", 'Validation':  best_epoch_indx:36\n",
      " auc:0.8744959989652057 \n",
      " apur:0.32989577326360464 \n",
      " f1:0.24505363528009536 \n",
      " precision:0.142421723469105 \n",
      " recall:0.8771331058020477 \n",
      "}\n",
      "=====Epoch 37\n",
      "Training...\n"
     ]
    },
    {
     "name": "stderr",
     "output_type": "stream",
     "text": [
      "Iteration: 100%|██████████| 1004/1004 [01:29<00:00, 11.18it/s]\n",
      "Iteration:  43%|████▎     | 429/1004 [00:40<00:46, 12.26it/s]"
     ]
    },
    {
     "name": "stdout",
     "output_type": "stream",
     "text": [
      "Evaluating...\n"
     ]
    },
    {
     "name": "stderr",
     "output_type": "stream",
     "text": [
      "Iteration:  23%|██▎       | 232/1004 [00:10<00:36, 21.32it/s]]\n",
      "Iteration:  26%|██▋       | 266/1004 [00:23<00:59, 12.48it/s]\n",
      "Iteration:  35%|███▍      | 347/1004 [00:16<00:30, 21.21it/s]"
     ]
    },
    {
     "name": "stdout",
     "output_type": "stream",
     "text": [
      "{'Train':  best_epoch_indx:36\n",
      " auc:0.8990576944574407 \n",
      " apur:0.36398621231542194 \n",
      " f1:0.2640839564765504 \n",
      " precision:0.15452676447477476 \n",
      " recall:0.9074589127686473 \n",
      ", 'Validation':  best_epoch_indx:36\n",
      " auc:0.875765786194239 \n",
      " apur:0.32169638300191605 \n",
      " f1:0.2527334946999416 \n",
      " precision:0.14809742736965667 \n",
      " recall:0.8612059158134243 \n",
      "}\n",
      "=====Epoch 37\n",
      "Training...\n"
     ]
    },
    {
     "name": "stderr",
     "output_type": "stream",
     "text": [
      "Iteration:  44%|████▍     | 443/1004 [00:21<00:26, 20.80it/s]]\n",
      "Iteration:  12%|█▏        | 125/1004 [00:10<01:10, 12.52it/s]\n",
      "Iteration:  72%|███████▏  | 727/1004 [01:07<00:24, 11.50it/s]"
     ]
    },
    {
     "name": "stdout",
     "output_type": "stream",
     "text": [
      "{'Train':  best_epoch_indx:36\n",
      " auc:0.8977380344846175 \n",
      " apur:0.3639816019901179 \n",
      " f1:0.26901379219260013 \n",
      " precision:0.15810075069580742 \n",
      " recall:0.9013211960300904 \n",
      ", 'Validation':  best_epoch_indx:36\n",
      " auc:0.8719392329673293 \n",
      " apur:0.33130925649475124 \n",
      " f1:0.25432555014278513 \n",
      " precision:0.14919195900670082 \n",
      " recall:0.8612059158134243 \n",
      "}\n",
      "=====Epoch 37\n",
      "Training...\n"
     ]
    },
    {
     "name": "stderr",
     "output_type": "stream",
     "text": [
      "Iteration:  96%|█████████▋| 967/1004 [01:29<00:03, 10.35it/s]]\n",
      "Iteration: 100%|██████████| 1004/1004 [01:33<00:00, 10.71it/s]\n",
      "Iteration:  41%|████      | 407/1004 [00:36<00:51, 11.63it/s]"
     ]
    },
    {
     "name": "stdout",
     "output_type": "stream",
     "text": [
      "Evaluating...\n"
     ]
    },
    {
     "name": "stderr",
     "output_type": "stream",
     "text": [
      "Iteration:  43%|████▎     | 429/1004 [00:38<00:46, 12.33it/s]\n",
      "Iteration:   4%|▎         | 37/1004 [00:01<00:52, 18.39it/s]]"
     ]
    },
    {
     "name": "stdout",
     "output_type": "stream",
     "text": [
      "{'Train':  best_epoch_indx:36\n",
      " auc:0.9029910010978162 \n",
      " apur:0.3723315316487165 \n",
      " f1:0.2634558863304423 \n",
      " precision:0.1536415066562914 \n",
      " recall:0.9235777496839443 \n",
      ", 'Validation':  best_epoch_indx:36\n",
      " auc:0.8792498724631801 \n",
      " apur:0.3361585151164635 \n",
      " f1:0.2530061748456289 \n",
      " precision:0.1475829383886256 \n",
      " recall:0.8856655290102389 \n",
      "}\n",
      "=====Epoch 37\n",
      "Training...\n"
     ]
    },
    {
     "name": "stderr",
     "output_type": "stream",
     "text": [
      "Iteration: 100%|██████████| 1004/1004 [01:29<00:00, 11.24it/s]\n",
      "Iteration:  30%|███       | 305/1004 [00:27<00:58, 11.97it/s]"
     ]
    },
    {
     "name": "stdout",
     "output_type": "stream",
     "text": [
      "Evaluating...\n"
     ]
    },
    {
     "name": "stderr",
     "output_type": "stream",
     "text": [
      "Iteration:  58%|█████▊    | 586/1004 [00:51<00:41, 10.15it/s]]\n",
      "Iteration:  54%|█████▍    | 546/1004 [00:25<00:21, 21.32it/s]]"
     ]
    },
    {
     "name": "stdout",
     "output_type": "stream",
     "text": [
      "Evaluating...\n"
     ]
    },
    {
     "name": "stderr",
     "output_type": "stream",
     "text": [
      "Iteration: 100%|██████████| 1004/1004 [01:31<00:00, 11.00it/s]\n",
      "Iteration:  97%|█████████▋| 970/1004 [01:25<00:02, 11.98it/s]\n",
      "Iteration:  64%|██████▎   | 638/1004 [00:30<00:17, 21.43it/s]"
     ]
    },
    {
     "name": "stdout",
     "output_type": "stream",
     "text": [
      "{'Train':  best_epoch_indx:37\n",
      " auc:0.909749025926816 \n",
      " apur:0.4005445504374209 \n",
      " f1:0.2792005117965221 \n",
      " precision:0.16488259470846164 \n",
      " recall:0.9104241734622922 \n",
      ", 'Validation':  best_epoch_indx:37\n",
      " auc:0.8843718835847785 \n",
      " apur:0.3491096027624311 \n",
      " f1:0.27082782332716204 \n",
      " precision:0.16025039123630672 \n",
      " recall:0.8737201365187713 \n",
      "}\n",
      "=====Epoch 38\n",
      "Training...\n"
     ]
    },
    {
     "name": "stderr",
     "output_type": "stream",
     "text": [
      "Iteration: 100%|██████████| 1004/1004 [01:28<00:00, 11.40it/s]\n",
      "Iteration:  15%|█▍        | 148/1004 [00:07<00:42, 20.02it/s]"
     ]
    },
    {
     "name": "stdout",
     "output_type": "stream",
     "text": [
      "Evaluating...\n"
     ]
    },
    {
     "name": "stderr",
     "output_type": "stream",
     "text": [
      "Iteration:  49%|████▊     | 488/1004 [00:23<00:24, 21.26it/s]]\n",
      "Iteration:  30%|██▉       | 299/1004 [00:24<00:55, 12.62it/s]\n",
      "Iteration:  47%|████▋     | 467/1004 [00:21<00:25, 21.18it/s]"
     ]
    },
    {
     "name": "stdout",
     "output_type": "stream",
     "text": [
      "{'Train':  best_epoch_indx:37\n",
      " auc:0.9117226147919759 \n",
      " apur:0.3993449086166445 \n",
      " f1:0.2694694003615454 \n",
      " precision:0.15734699723115114 \n",
      " recall:0.9375474083438685 \n",
      ", 'Validation':  best_epoch_indx:37\n",
      " auc:0.87664841384537 \n",
      " apur:0.33016253546348706 \n",
      " f1:0.25192213315884177 \n",
      " precision:0.14711501719526174 \n",
      " recall:0.875995449374289 \n",
      "}\n",
      "=====Epoch 38\n",
      "Training...\n"
     ]
    },
    {
     "name": "stderr",
     "output_type": "stream",
     "text": [
      "Iteration: 100%|██████████| 1004/1004 [01:26<00:00, 11.56it/s]\n",
      "Iteration:  57%|█████▋    | 575/1004 [00:26<00:20, 20.89it/s]"
     ]
    },
    {
     "name": "stdout",
     "output_type": "stream",
     "text": [
      "Evaluating...\n"
     ]
    },
    {
     "name": "stderr",
     "output_type": "stream",
     "text": [
      "Iteration:  26%|██▌       | 263/1004 [00:22<01:11, 10.43it/s]]\n",
      "Iteration:  33%|███▎      | 329/1004 [00:28<01:07, 10.07it/s]]\n",
      "Iteration:  33%|███▎      | 331/1004 [00:28<01:06, 10.17it/s]"
     ]
    },
    {
     "name": "stdout",
     "output_type": "stream",
     "text": [
      "{'Train':  best_epoch_indx:37\n",
      " auc:0.9073358990775752 \n",
      " apur:0.3910855853643551 \n",
      " f1:0.2789041042711983 \n",
      " precision:0.1647462135543861 \n",
      " recall:0.9082806573957016 \n",
      ", 'Validation':  best_epoch_indx:37\n",
      " auc:0.8812284966676767 \n",
      " apur:0.35016536594104575 \n",
      " f1:0.26427061310782246 \n",
      " precision:0.15634771732332708 \n",
      " recall:0.8532423208191127 \n",
      "}\n",
      "=====Epoch 38\n",
      "Training...\n"
     ]
    },
    {
     "name": "stderr",
     "output_type": "stream",
     "text": [
      "Iteration:  65%|██████▌   | 653/1004 [00:53<00:29, 12.01it/s]\n",
      "Iteration:  71%|███████▏  | 717/1004 [00:58<00:23, 12.24it/s]\n",
      "Iteration:  61%|██████    | 613/1004 [00:28<00:19, 20.48it/s]"
     ]
    },
    {
     "name": "stdout",
     "output_type": "stream",
     "text": [
      "{'Train':  best_epoch_indx:37\n",
      " auc:0.906459836875702 \n",
      " apur:0.3944707679568817 \n",
      " f1:0.26490423523064477 \n",
      " precision:0.15441708337264523 \n",
      " recall:0.931158733168974 \n",
      ", 'Validation':  best_epoch_indx:37\n",
      " auc:0.875657468726292 \n",
      " apur:0.3370493383680997 \n",
      " f1:0.249338146811071 \n",
      " precision:0.14513869431213225 \n",
      " recall:0.8839590443686007 \n",
      "}\n",
      "=====Epoch 38\n",
      "Training...\n"
     ]
    },
    {
     "name": "stderr",
     "output_type": "stream",
     "text": [
      "Iteration:  65%|██████▍   | 649/1004 [00:55<00:29, 12.20it/s]]\n",
      "Iteration: 100%|██████████| 1004/1004 [01:23<00:00, 12.05it/s]"
     ]
    },
    {
     "name": "stdout",
     "output_type": "stream",
     "text": [
      "Evaluating...\n"
     ]
    },
    {
     "name": "stderr",
     "output_type": "stream",
     "text": [
      "\n",
      "Iteration:  36%|███▌      | 361/1004 [00:32<00:51, 12.38it/s]"
     ]
    },
    {
     "name": "stdout",
     "output_type": "stream",
     "text": [
      "{'Train':  best_epoch_indx:37\n",
      " auc:0.9139880228461881 \n",
      " apur:0.4055675004598762 \n",
      " f1:0.265989559288327 \n",
      " precision:0.15472649148901008 \n",
      " recall:0.9469026548672567 \n",
      ", 'Validation':  best_epoch_indx:37\n",
      " auc:0.8860141422128678 \n",
      " apur:0.3483155369414621 \n",
      " f1:0.2531665864999198 \n",
      " precision:0.14734975737215378 \n",
      " recall:0.8981797497155859 \n",
      "}\n",
      "=====Epoch 38\n",
      "Training...\n"
     ]
    },
    {
     "name": "stderr",
     "output_type": "stream",
     "text": [
      "\n",
      "Iteration: 100%|██████████| 1004/1004 [01:25<00:00, 11.72it/s]\n",
      "Iteration:  51%|█████▏    | 515/1004 [00:27<00:23, 21.11it/s]"
     ]
    },
    {
     "name": "stdout",
     "output_type": "stream",
     "text": [
      "Evaluating...\n"
     ]
    },
    {
     "name": "stderr",
     "output_type": "stream",
     "text": [
      "Iteration:  97%|█████████▋| 971/1004 [01:19<00:02, 11.77it/s]]\n",
      "Iteration: 100%|██████████| 1004/1004 [01:21<00:00, 12.25it/s]\n",
      "Iteration:  65%|██████▍   | 648/1004 [00:30<00:16, 22.00it/s]"
     ]
    },
    {
     "name": "stdout",
     "output_type": "stream",
     "text": [
      "Evaluating...\n"
     ]
    },
    {
     "name": "stderr",
     "output_type": "stream",
     "text": [
      "Iteration: 100%|██████████| 1004/1004 [01:28<00:00, 11.39it/s]\n",
      "Iteration:  63%|██████▎   | 633/1004 [00:56<00:35, 10.39it/s]"
     ]
    },
    {
     "name": "stdout",
     "output_type": "stream",
     "text": [
      "Evaluating...\n"
     ]
    },
    {
     "name": "stderr",
     "output_type": "stream",
     "text": [
      "Iteration:   6%|▌         | 62/1004 [00:02<00:44, 21.02it/s]]\n",
      "Iteration:   5%|▌         | 53/1004 [00:02<00:44, 21.20it/s]]"
     ]
    },
    {
     "name": "stdout",
     "output_type": "stream",
     "text": [
      "{'Train':  best_epoch_indx:38\n",
      " auc:0.9192342871399457 \n",
      " apur:0.42718596460621455 \n",
      " f1:0.2834161253343523 \n",
      " precision:0.16693487581728766 \n",
      " recall:0.9377331057588976 \n",
      ", 'Validation':  best_epoch_indx:38\n",
      " auc:0.8897526740381405 \n",
      " apur:0.3685033209666362 \n",
      " f1:0.2686181661644425 \n",
      " precision:0.15826316323424977 \n",
      " recall:0.8873720136518771 \n",
      "}\n",
      "=====Epoch 39\n",
      "Training...\n"
     ]
    },
    {
     "name": "stderr",
     "output_type": "stream",
     "text": [
      "Iteration:  85%|████████▌ | 857/1004 [01:15<00:12, 12.04it/s]]\n",
      "Iteration:  24%|██▍       | 240/1004 [00:22<01:13, 10.38it/s]\n",
      "Iteration:  93%|█████████▎| 931/1004 [01:21<00:05, 12.58it/s]"
     ]
    },
    {
     "name": "stdout",
     "output_type": "stream",
     "text": [
      "{'Train':  best_epoch_indx:38\n",
      " auc:0.9200744200453053 \n",
      " apur:0.42813602034326165 \n",
      " f1:0.28431898268729894 \n",
      " precision:0.16753938518485081 \n",
      " recall:0.9384323640960809 \n",
      ", 'Validation':  best_epoch_indx:38\n",
      " auc:0.8831746579332208 \n",
      " apur:0.3468391652586085 \n",
      " f1:0.26372869684971595 \n",
      " precision:0.15537525354969575 \n",
      " recall:0.8714448236632537 \n",
      "}\n",
      "=====Epoch 39\n",
      "Training...\n"
     ]
    },
    {
     "name": "stderr",
     "output_type": "stream",
     "text": [
      "Iteration: 100%|██████████| 1004/1004 [01:27<00:00, 11.52it/s]\n",
      "Iteration:  30%|███       | 304/1004 [00:29<01:07, 10.44it/s]"
     ]
    },
    {
     "name": "stdout",
     "output_type": "stream",
     "text": [
      "Evaluating...\n"
     ]
    },
    {
     "name": "stderr",
     "output_type": "stream",
     "text": [
      "Iteration:  40%|████      | 406/1004 [00:19<00:29, 20.27it/s]]\n",
      "Iteration:  32%|███▏      | 317/1004 [00:27<01:06, 10.30it/s]\n",
      "Iteration:  52%|█████▏    | 523/1004 [00:25<00:22, 20.97it/s]\n",
      "Iteration:  74%|███████▍  | 83/112 [00:03<00:01, 20.18it/s]s]"
     ]
    },
    {
     "name": "stdout",
     "output_type": "stream",
     "text": [
      "{'Train':  best_epoch_indx:38\n",
      " auc:0.9118103624750113 \n",
      " apur:0.40375287095880497 \n",
      " f1:0.28131088092895856 \n",
      " precision:0.16597812603138834 \n",
      " recall:0.9219293254946583 \n",
      ", 'Validation':  best_epoch_indx:38\n",
      " auc:0.8831860082974482 \n",
      " apur:0.3412728352358933 \n",
      " f1:0.2650146274307348 \n",
      " precision:0.15612327656123276 \n",
      " recall:0.875995449374289 \n",
      "}\n",
      "=====Epoch 39\n",
      "Training...\n"
     ]
    },
    {
     "name": "stderr",
     "output_type": "stream",
     "text": [
      "Iteration:   2%|▏         | 19/1004 [00:01<01:22, 11.92it/s]]\n",
      "Iteration:   0%|          | 0/1004 [00:00<?, ?it/s]"
     ]
    },
    {
     "name": "stdout",
     "output_type": "stream",
     "text": [
      "{'Train':  best_epoch_indx:38\n",
      " auc:0.9131188876570293 \n",
      " apur:0.39856355708796176 \n",
      " f1:0.288735641400878 \n",
      " precision:0.17157458366092487 \n",
      " recall:0.9104298356510746 \n",
      ", 'Validation':  best_epoch_indx:38\n",
      " auc:0.8829879197669761 \n",
      " apur:0.3452558051661359 \n",
      " f1:0.2735634277388216 \n",
      " precision:0.16285373522714952 \n",
      " recall:0.8543799772468714 \n",
      "}\n",
      "=====Epoch 39\n",
      "Training...\n"
     ]
    },
    {
     "name": "stderr",
     "output_type": "stream",
     "text": [
      "Iteration:  63%|██████▎   | 630/1004 [00:57<00:30, 12.33it/s]]\n",
      "Iteration:  70%|██████▉   | 702/1004 [01:03<00:24, 12.49it/s]"
     ]
    },
    {
     "name": "stdout",
     "output_type": "stream",
     "text": [
      "{'Train':  best_epoch_indx:38\n",
      " auc:0.9203479716214122 \n",
      " apur:0.42292373765711666 \n",
      " f1:0.29181240772485406 \n",
      " precision:0.1730296941281536 \n",
      " recall:0.9307838179519595 \n",
      ", 'Validation':  best_epoch_indx:38\n",
      " auc:0.8890195930435925 \n",
      " apur:0.3647000632797923 \n",
      " f1:0.27489255014326647 \n",
      " precision:0.16312433581296493 \n",
      " recall:0.873151308304892 \n",
      "}\n",
      "=====Epoch 39\n",
      "Training...\n"
     ]
    },
    {
     "name": "stderr",
     "output_type": "stream",
     "text": [
      "\n",
      "Iteration: 100%|██████████| 1004/1004 [01:26<00:00, 11.60it/s]\n",
      "Iteration:  36%|███▌      | 357/1004 [00:30<00:53, 12.18it/s]"
     ]
    },
    {
     "name": "stdout",
     "output_type": "stream",
     "text": [
      "Evaluating...\n"
     ]
    },
    {
     "name": "stderr",
     "output_type": "stream",
     "text": [
      "Iteration: 100%|██████████| 1004/1004 [01:27<00:00, 11.51it/s]\n",
      "Iteration:  28%|██▊       | 281/1004 [00:24<01:00, 12.01it/s]"
     ]
    },
    {
     "name": "stdout",
     "output_type": "stream",
     "text": [
      "Evaluating...\n"
     ]
    },
    {
     "name": "stderr",
     "output_type": "stream",
     "text": [
      "Iteration: 100%|██████████| 1004/1004 [01:20<00:00, 12.41it/s]\n",
      "Iteration:  57%|█████▋    | 575/1004 [00:49<00:35, 12.01it/s]"
     ]
    },
    {
     "name": "stdout",
     "output_type": "stream",
     "text": [
      "Evaluating...\n"
     ]
    },
    {
     "name": "stderr",
     "output_type": "stream",
     "text": [
      "Iteration:   2%|▏         | 23/1004 [00:01<00:45, 21.67it/s]]\n",
      "Iteration: 100%|██████████| 1004/1004 [01:25<00:00, 11.76it/s]\n",
      "Iteration:  64%|██████▍   | 647/1004 [00:55<00:29, 12.24it/s]"
     ]
    },
    {
     "name": "stdout",
     "output_type": "stream",
     "text": [
      "Evaluating...\n"
     ]
    },
    {
     "name": "stderr",
     "output_type": "stream",
     "text": [
      "Iteration:   1%|          | 10/1004 [00:00<00:54, 18.09it/s]]\n",
      "Iteration:   1%|          | 12/1004 [00:00<00:55, 18.02it/s]]"
     ]
    },
    {
     "name": "stdout",
     "output_type": "stream",
     "text": [
      "{'Train':  best_epoch_indx:39\n",
      " auc:0.925555629616317 \n",
      " apur:0.447579941340565 \n",
      " f1:0.3025675758881843 \n",
      " precision:0.1806020066889632 \n",
      " recall:0.9319173146216575 \n",
      ", 'Validation':  best_epoch_indx:39\n",
      " auc:0.8937168134192494 \n",
      " apur:0.37880459097860897 \n",
      " f1:0.2832498608792432 \n",
      " precision:0.1692154255319149 \n",
      " recall:0.8686006825938567 \n",
      "}\n",
      "=====Epoch 40\n",
      "Training...\n"
     ]
    },
    {
     "name": "stderr",
     "output_type": "stream",
     "text": [
      "Iteration:  21%|██        | 211/1004 [00:19<01:13, 10.74it/s]]\n",
      "Iteration:  95%|█████████▍| 953/1004 [01:20<00:04, 12.15it/s]\n",
      "Iteration:  52%|█████▏    | 526/1004 [00:25<00:23, 20.46it/s]"
     ]
    },
    {
     "name": "stdout",
     "output_type": "stream",
     "text": [
      "{'Train':  best_epoch_indx:39\n",
      " auc:0.9247909054657987 \n",
      " apur:0.44550544592002206 \n",
      " f1:0.3010493579247634 \n",
      " precision:0.17981965135876585 \n",
      " recall:0.9239570164348926 \n",
      ", 'Validation':  best_epoch_indx:39\n",
      " auc:0.8858398311252432 \n",
      " apur:0.3583644721662784 \n",
      " f1:0.2773749767614798 \n",
      " precision:0.16577777777777777 \n",
      " recall:0.8486916951080774 \n",
      "}\n",
      "=====Epoch 40\n",
      "Training...\n"
     ]
    },
    {
     "name": "stderr",
     "output_type": "stream",
     "text": [
      "Iteration:  31%|███       | 311/1004 [00:28<01:06, 10.45it/s]]"
     ]
    },
    {
     "name": "stdout",
     "output_type": "stream",
     "text": [
      "Evaluating...\n"
     ]
    },
    {
     "name": "stderr",
     "output_type": "stream",
     "text": [
      "Iteration: 100%|██████████| 1004/1004 [01:24<00:00, 11.88it/s]\n",
      "Iteration:  46%|████▌     | 461/1004 [00:43<00:52, 10.35it/s]]\n",
      "Iteration:  52%|█████▏    | 519/1004 [00:48<00:45, 10.56it/s]]\n",
      "Iteration:   0%|          | 0/1004 [00:00<?, ?it/s]"
     ]
    },
    {
     "name": "stdout",
     "output_type": "stream",
     "text": [
      "{'Train':  best_epoch_indx:39\n",
      " auc:0.9177589942030433 \n",
      " apur:0.42669166651023205 \n",
      " f1:0.2890627317951203 \n",
      " precision:0.17133678805074215 \n",
      " recall:0.923825779126367 \n",
      ", 'Validation':  best_epoch_indx:39\n",
      " auc:0.8851363687491256 \n",
      " apur:0.355958869958391 \n",
      " f1:0.2685699180544541 \n",
      " precision:0.1588989677822959 \n",
      " recall:0.8668941979522184 \n",
      "}\n",
      "=====Epoch 40\n",
      "Training...\n"
     ]
    },
    {
     "name": "stderr",
     "output_type": "stream",
     "text": [
      "Iteration:   1%|▏         | 15/1004 [00:01<01:18, 12.64it/s]]\n",
      "Iteration:  56%|█████▌    | 562/1004 [00:26<00:20, 21.40it/s]\n",
      "Iteration:  56%|█████▋    | 565/1004 [00:27<00:20, 21.12it/s]"
     ]
    },
    {
     "name": "stdout",
     "output_type": "stream",
     "text": [
      "{'Train':  best_epoch_indx:39\n",
      " auc:0.9198194138310662 \n",
      " apur:0.4264814627054028 \n",
      " f1:0.28835533273275626 \n",
      " precision:0.17060622914349277 \n",
      " recall:0.9307206068268015 \n",
      ", 'Validation':  best_epoch_indx:39\n",
      " auc:0.8866149847347021 \n",
      " apur:0.3584953110649352 \n",
      " f1:0.2717825739408473 \n",
      " precision:0.16103568045468897 \n",
      " recall:0.8703071672354948 \n",
      "}\n",
      "=====Epoch 40\n",
      "Training...\n"
     ]
    },
    {
     "name": "stderr",
     "output_type": "stream",
     "text": [
      "Iteration:  37%|███▋      | 367/1004 [00:30<00:51, 12.35it/s]]\n",
      "Iteration:  73%|███████▎  | 729/1004 [01:00<00:22, 12.19it/s]\n",
      "Iteration:  90%|█████████ | 905/1004 [01:24<00:08, 11.86it/s]"
     ]
    },
    {
     "name": "stdout",
     "output_type": "stream",
     "text": [
      "{'Train':  best_epoch_indx:39\n",
      " auc:0.9248896416071569 \n",
      " apur:0.4385917051023066 \n",
      " f1:0.30654768124725695 \n",
      " precision:0.18363003580460202 \n",
      " recall:0.927180783817952 \n",
      ", 'Validation':  best_epoch_indx:39\n",
      " auc:0.8913416622216308 \n",
      " apur:0.37840722479697775 \n",
      " f1:0.28347052701296244 \n",
      " precision:0.1700147542844172 \n",
      " recall:0.8521046643913538 \n",
      "}\n",
      "=====Epoch 40\n",
      "Training...\n"
     ]
    },
    {
     "name": "stderr",
     "output_type": "stream",
     "text": [
      "Iteration: 100%|██████████| 1004/1004 [01:32<00:00, 10.82it/s]\n",
      "Iteration:  83%|████████▎ | 831/1004 [01:08<00:14, 12.35it/s]"
     ]
    },
    {
     "name": "stdout",
     "output_type": "stream",
     "text": [
      "Evaluating...\n"
     ]
    },
    {
     "name": "stderr",
     "output_type": "stream",
     "text": [
      "Iteration: 100%|██████████| 1004/1004 [01:22<00:00, 12.24it/s]\n",
      "Iteration:  59%|█████▊    | 589/1004 [00:50<00:33, 12.30it/s]"
     ]
    },
    {
     "name": "stdout",
     "output_type": "stream",
     "text": [
      "Evaluating...\n"
     ]
    },
    {
     "name": "stderr",
     "output_type": "stream",
     "text": [
      "Iteration: 100%|██████████| 1004/1004 [01:27<00:00, 11.45it/s]\n",
      "Iteration:  60%|█████▉    | 599/1004 [00:52<00:35, 11.43it/s]"
     ]
    },
    {
     "name": "stdout",
     "output_type": "stream",
     "text": [
      "Evaluating...\n"
     ]
    },
    {
     "name": "stderr",
     "output_type": "stream",
     "text": [
      "Iteration: 100%|██████████| 1004/1004 [01:25<00:00, 11.80it/s]\n",
      "Iteration:   9%|▉         | 90/1004 [00:04<00:44, 20.49it/s]s]"
     ]
    },
    {
     "name": "stdout",
     "output_type": "stream",
     "text": [
      "Evaluating...\n"
     ]
    },
    {
     "name": "stderr",
     "output_type": "stream",
     "text": [
      "Iteration:  71%|███████   | 714/1004 [00:36<00:13, 21.62it/s]]\n",
      "Iteration:  83%|████████▎ | 834/1004 [00:42<00:08, 20.85it/s]\n",
      "Iteration:  83%|████████▎ | 837/1004 [00:42<00:08, 20.54it/s]"
     ]
    },
    {
     "name": "stdout",
     "output_type": "stream",
     "text": [
      "{'Train':  best_epoch_indx:40\n",
      " auc:0.92617307038573 \n",
      " apur:0.4460432531780223 \n",
      " f1:0.315930359085963 \n",
      " precision:0.19080979482393765 \n",
      " recall:0.9176939123838422 \n",
      ", 'Validation':  best_epoch_indx:40\n",
      " auc:0.8933715918669589 \n",
      " apur:0.38037877137014386 \n",
      " f1:0.29410605164596887 \n",
      " precision:0.17787315212207916 \n",
      " recall:0.8486916951080774 \n",
      "}\n",
      "=====Epoch 41\n",
      "Training...\n"
     ]
    },
    {
     "name": "stderr",
     "output_type": "stream",
     "text": [
      "Iteration:  88%|████████▊ | 881/1004 [01:15<00:09, 12.50it/s]]\n",
      "Iteration:  20%|██        | 201/1004 [00:16<01:04, 12.52it/s]"
     ]
    },
    {
     "name": "stdout",
     "output_type": "stream",
     "text": [
      "{'Train':  best_epoch_indx:40\n",
      " auc:0.9252441023290789 \n",
      " apur:0.4395712563520287 \n",
      " f1:0.2925502562081198 \n",
      " precision:0.1732897501751109 \n",
      " recall:0.9383059418457649 \n",
      ", 'Validation':  best_epoch_indx:40\n",
      " auc:0.8849880244236151 \n",
      " apur:0.35095948496627316 \n",
      " f1:0.2693536931818182 \n",
      " precision:0.15958342099726489 \n",
      " recall:0.8629124004550626 \n",
      "}\n",
      "=====Epoch 41\n",
      "Training...\n"
     ]
    },
    {
     "name": "stderr",
     "output_type": "stream",
     "text": [
      "\n",
      "Iteration: 100%|██████████| 1004/1004 [01:25<00:00, 11.74it/s]\n",
      "Iteration:  57%|█████▋    | 575/1004 [00:29<00:20, 20.65it/s]"
     ]
    },
    {
     "name": "stdout",
     "output_type": "stream",
     "text": [
      "Evaluating...\n"
     ]
    },
    {
     "name": "stderr",
     "output_type": "stream",
     "text": [
      "Iteration:  41%|████▏     | 416/1004 [00:21<00:28, 20.80it/s]]\n",
      "Iteration:  46%|████▌     | 458/1004 [00:23<00:25, 21.32it/s]\n",
      "Iteration:  35%|███▍      | 349/1004 [00:31<00:56, 11.52it/s]\n",
      "Iteration:   0%|          | 1/1004 [00:00<01:58,  8.47it/s]s]"
     ]
    },
    {
     "name": "stdout",
     "output_type": "stream",
     "text": [
      "{'Train':  best_epoch_indx:40\n",
      " auc:0.9173110539018654 \n",
      " apur:0.4214013933368753 \n",
      " f1:0.2826888893136337 \n",
      " precision:0.1665184251117441 \n",
      " recall:0.9349516404323914 \n",
      ", 'Validation':  best_epoch_indx:40\n",
      " auc:0.8843519374506462 \n",
      " apur:0.342838657404299 \n",
      " f1:0.2636743749466678 \n",
      " precision:0.1551049091456681 \n",
      " recall:0.878839590443686 \n",
      "}\n",
      "=====Epoch 41\n",
      "Training...\n"
     ]
    },
    {
     "name": "stderr",
     "output_type": "stream",
     "text": [
      "Iteration:   2%|▏         | 25/1004 [00:02<01:24, 11.65it/s]]\n",
      "Iteration:   0%|          | 0/1004 [00:00<?, ?it/s]"
     ]
    },
    {
     "name": "stdout",
     "output_type": "stream",
     "text": [
      "{'Train':  best_epoch_indx:40\n",
      " auc:0.919394848561965 \n",
      " apur:0.4255460903430031 \n",
      " f1:0.309365295559793 \n",
      " precision:0.18690013823974722 \n",
      " recall:0.8973451327433628 \n",
      ", 'Validation':  best_epoch_indx:40\n",
      " auc:0.885398799937206 \n",
      " apur:0.358833950847407 \n",
      " f1:0.2889944576405384 \n",
      " precision:0.17493410016774502 \n",
      " recall:0.8304891922639362 \n",
      "}\n",
      "=====Epoch 41\n",
      "Training...\n"
     ]
    },
    {
     "name": "stderr",
     "output_type": "stream",
     "text": [
      "Iteration:  65%|██████▌   | 653/1004 [00:55<00:27, 12.73it/s]]\n",
      "Iteration:  72%|███████▏  | 721/1004 [01:01<00:23, 12.23it/s]\n",
      "Iteration:   0%|          | 1/1004 [00:00<01:55,  8.69it/s]s]"
     ]
    },
    {
     "name": "stdout",
     "output_type": "stream",
     "text": [
      "{'Train':  best_epoch_indx:40\n",
      " auc:0.9233108808554215 \n",
      " apur:0.4283347602040503 \n",
      " f1:0.286501219884111 \n",
      " precision:0.1686829465367868 \n",
      " recall:0.9501264222503161 \n",
      ", 'Validation':  best_epoch_indx:40\n",
      " auc:0.88824810923569 \n",
      " apur:0.3661732881954715 \n",
      " f1:0.2654836764579206 \n",
      " precision:0.15643081920617197 \n",
      " recall:0.8765642775881684 \n",
      "}\n",
      "=====Epoch 41\n",
      "Training...\n"
     ]
    },
    {
     "name": "stderr",
     "output_type": "stream",
     "text": [
      "Iteration: 100%|██████████| 1004/1004 [01:22<00:00, 12.14it/s]\n",
      "Iteration:  38%|███▊      | 379/1004 [00:32<00:49, 12.71it/s]"
     ]
    },
    {
     "name": "stdout",
     "output_type": "stream",
     "text": [
      "Evaluating...\n"
     ]
    },
    {
     "name": "stderr",
     "output_type": "stream",
     "text": [
      "Iteration: 100%|██████████| 1004/1004 [01:24<00:00, 11.94it/s]\n",
      "Iteration:  26%|██▌       | 263/1004 [00:22<00:59, 12.44it/s]"
     ]
    },
    {
     "name": "stdout",
     "output_type": "stream",
     "text": [
      "Evaluating...\n"
     ]
    },
    {
     "name": "stderr",
     "output_type": "stream",
     "text": [
      "Iteration:  64%|██████▍   | 645/1004 [00:54<00:30, 11.78it/s]]\n",
      "Iteration: 100%|██████████| 1004/1004 [01:24<00:00, 11.93it/s]\n",
      "Iteration:  91%|█████████ | 915/1004 [01:26<00:08, 10.15it/s]"
     ]
    },
    {
     "name": "stdout",
     "output_type": "stream",
     "text": [
      "Evaluating...\n"
     ]
    },
    {
     "name": "stderr",
     "output_type": "stream",
     "text": [
      "Iteration:  82%|████████▏ | 820/1004 [00:39<00:08, 21.25it/s]\n",
      "Iteration:  74%|███████▍  | 741/1004 [01:02<00:21, 12.12it/s]"
     ]
    },
    {
     "name": "stdout",
     "output_type": "stream",
     "text": [
      "{'Train':  best_epoch_indx:41\n",
      " auc:0.9203105170639427 \n",
      " apur:0.4283089153398709 \n",
      " f1:0.2695999002866758 \n",
      " precision:0.15689667678725014 \n",
      " recall:0.9571401479233833 \n",
      ", 'Validation':  best_epoch_indx:41\n",
      " auc:0.890266939750149 \n",
      " apur:0.37420908475723547 \n",
      " f1:0.2579349136199277 \n",
      " precision:0.15018246467671 \n",
      " recall:0.9129692832764505 \n",
      "}\n",
      "=====Epoch 42\n",
      "Training...\n"
     ]
    },
    {
     "name": "stderr",
     "output_type": "stream",
     "text": [
      "Iteration: 100%|██████████| 1004/1004 [01:35<00:00, 10.56it/s]\n",
      "Iteration:  88%|████████▊ | 880/1004 [00:42<00:05, 21.04it/s]"
     ]
    },
    {
     "name": "stdout",
     "output_type": "stream",
     "text": [
      "Evaluating...\n"
     ]
    },
    {
     "name": "stderr",
     "output_type": "stream",
     "text": [
      "Iteration:  86%|████████▌ | 861/1004 [01:13<00:14,  9.97it/s]]\n",
      "Iteration:  21%|██        | 207/1004 [00:18<01:02, 12.66it/s]\n",
      "Iteration:  52%|█████▏    | 524/1004 [00:24<00:21, 22.41it/s]"
     ]
    },
    {
     "name": "stdout",
     "output_type": "stream",
     "text": [
      "{'Train':  best_epoch_indx:41\n",
      " auc:0.9193821430481439 \n",
      " apur:0.42393277714109595 \n",
      " f1:0.2760470735225216 \n",
      " precision:0.1614945555782481 \n",
      " recall:0.9496839443742099 \n",
      ", 'Validation':  best_epoch_indx:41\n",
      " auc:0.8822831743062065 \n",
      " apur:0.34825138321203186 \n",
      " f1:0.25725178186640146 \n",
      " precision:0.15056266977105162 \n",
      " recall:0.8828213879408419 \n",
      "}\n",
      "=====Epoch 42\n",
      "Training...\n"
     ]
    },
    {
     "name": "stderr",
     "output_type": "stream",
     "text": [
      "Iteration: 100%|██████████| 1004/1004 [01:27<00:00, 11.50it/s]\n",
      "Iteration:  67%|██████▋   | 677/1004 [00:31<00:15, 20.82it/s]"
     ]
    },
    {
     "name": "stdout",
     "output_type": "stream",
     "text": [
      "Evaluating...\n"
     ]
    },
    {
     "name": "stderr",
     "output_type": "stream",
     "text": [
      "Iteration:  29%|██▊       | 287/1004 [00:24<01:00, 11.81it/s]]\n",
      "Iteration:  59%|█████▊    | 589/1004 [00:48<00:33, 12.24it/s]\n",
      "Iteration:  59%|█████▉    | 591/1004 [00:48<00:33, 12.22it/s]"
     ]
    },
    {
     "name": "stdout",
     "output_type": "stream",
     "text": [
      "{'Train':  best_epoch_indx:41\n",
      " auc:0.9161165838937544 \n",
      " apur:0.41704778391043656 \n",
      " f1:0.291602266872746 \n",
      " precision:0.1735340443183321 \n",
      " recall:0.9123261694058155 \n",
      ", 'Validation':  best_epoch_indx:41\n",
      " auc:0.8826836582247235 \n",
      " apur:0.3499802266107484 \n",
      " f1:0.27253630468535944 \n",
      " precision:0.16233271678816233 \n",
      " recall:0.8486916951080774 \n",
      "}\n",
      "=====Epoch 42\n",
      "Training...\n"
     ]
    },
    {
     "name": "stderr",
     "output_type": "stream",
     "text": [
      "Iteration:  65%|██████▌   | 657/1004 [00:31<00:17, 20.38it/s]]\n",
      "Iteration:  50%|█████     | 506/1004 [00:44<00:48, 10.26it/s]\n",
      "Iteration:  75%|███████▌  | 757/1004 [01:03<00:24, 10.14it/s]"
     ]
    },
    {
     "name": "stdout",
     "output_type": "stream",
     "text": [
      "{'Train':  best_epoch_indx:41\n",
      " auc:0.9154065494696313 \n",
      " apur:0.4177936082198013 \n",
      " f1:0.298399791503779 \n",
      " precision:0.17866327116570543 \n",
      " recall:0.904734812567166 \n",
      ", 'Validation':  best_epoch_indx:41\n",
      " auc:0.8830193867451147 \n",
      " apur:0.34920327704300985 \n",
      " f1:0.27124941941477015 \n",
      " precision:0.16209614744087933 \n",
      " recall:0.8304891922639362 \n",
      "}\n",
      "=====Epoch 42\n",
      "Training...\n"
     ]
    },
    {
     "name": "stderr",
     "output_type": "stream",
     "text": [
      "Iteration:  87%|████████▋ | 877/1004 [01:14<00:12, 10.29it/s]]\n",
      "Iteration:  69%|██████▊   | 690/1004 [01:02<00:30, 10.36it/s]\n",
      "Iteration:  35%|███▍      | 347/1004 [00:31<01:02, 10.44it/s]"
     ]
    },
    {
     "name": "stdout",
     "output_type": "stream",
     "text": [
      "{'Train':  best_epoch_indx:41\n",
      " auc:0.9210903424413266 \n",
      " apur:0.4249002845322669 \n",
      " f1:0.31139166368398785 \n",
      " precision:0.187944330247843 \n",
      " recall:0.9073957016434893 \n",
      ", 'Validation':  best_epoch_indx:41\n",
      " auc:0.8881794238300296 \n",
      " apur:0.36451688984008723 \n",
      " f1:0.2917891436409955 \n",
      " precision:0.17625473484848486 \n",
      " recall:0.8469852104664392 \n",
      "}\n",
      "=====Epoch 42\n",
      "Training...\n"
     ]
    },
    {
     "name": "stderr",
     "output_type": "stream",
     "text": [
      "Iteration: 100%|██████████| 1004/1004 [01:26<00:00, 11.54it/s]\n",
      "Iteration:  42%|████▏     | 417/1004 [00:38<00:55, 10.49it/s]"
     ]
    },
    {
     "name": "stdout",
     "output_type": "stream",
     "text": [
      "Evaluating...\n"
     ]
    },
    {
     "name": "stderr",
     "output_type": "stream",
     "text": [
      "Iteration: 100%|██████████| 1004/1004 [01:28<00:00, 11.35it/s]\n",
      "Iteration:  30%|███       | 303/1004 [00:26<00:57, 12.13it/s]"
     ]
    },
    {
     "name": "stdout",
     "output_type": "stream",
     "text": [
      "Evaluating...\n"
     ]
    },
    {
     "name": "stderr",
     "output_type": "stream",
     "text": [
      "Iteration:  66%|██████▋   | 666/1004 [00:31<00:15, 21.53it/s]]\n",
      "Iteration: 100%|██████████| 1004/1004 [01:34<00:00, 10.68it/s]\n",
      "Iteration:  94%|█████████▍| 946/1004 [01:19<00:04, 11.96it/s]"
     ]
    },
    {
     "name": "stdout",
     "output_type": "stream",
     "text": [
      "Evaluating...\n"
     ]
    },
    {
     "name": "stderr",
     "output_type": "stream",
     "text": [
      "Iteration:   4%|▍         | 41/1004 [00:01<00:43, 21.89it/s]]\n",
      "Iteration:  97%|█████████▋| 970/1004 [01:21<00:02, 12.26it/s]"
     ]
    },
    {
     "name": "stdout",
     "output_type": "stream",
     "text": [
      "{'Train':  best_epoch_indx:42\n",
      " auc:0.9187977765978225 \n",
      " apur:0.42711604792453184 \n",
      " f1:0.2742115163358109 \n",
      " precision:0.16025401568920433 \n",
      " recall:0.9491750426702067 \n",
      ", 'Validation':  best_epoch_indx:42\n",
      " auc:0.8876326862064489 \n",
      " apur:0.3655645231847833 \n",
      " f1:0.25876543209876546 \n",
      " precision:0.151270207852194 \n",
      " recall:0.89419795221843 \n",
      "}\n",
      "=====Epoch 43\n",
      "Training...\n"
     ]
    },
    {
     "name": "stderr",
     "output_type": "stream",
     "text": [
      "Iteration: 100%|██████████| 1004/1004 [01:24<00:00, 11.87it/s]\n",
      "Iteration:   3%|▎         | 33/1004 [00:02<01:19, 12.16it/s]]"
     ]
    },
    {
     "name": "stdout",
     "output_type": "stream",
     "text": [
      "Evaluating...\n"
     ]
    },
    {
     "name": "stderr",
     "output_type": "stream",
     "text": [
      "Iteration:  90%|█████████ | 905/1004 [01:16<00:07, 12.52it/s]]\n",
      "Iteration:  20%|██        | 203/1004 [00:17<01:04, 12.38it/s]\n",
      "Iteration:  20%|██        | 205/1004 [00:17<01:05, 12.13it/s]"
     ]
    },
    {
     "name": "stdout",
     "output_type": "stream",
     "text": [
      "{'Train':  best_epoch_indx:42\n",
      " auc:0.9222439590694959 \n",
      " apur:0.4320412187034013 \n",
      " f1:0.2792694625278236 \n",
      " precision:0.16376306620209058 \n",
      " recall:0.947724399494311 \n",
      ", 'Validation':  best_epoch_indx:42\n",
      " auc:0.884422874983912 \n",
      " apur:0.3541492335045872 \n",
      " f1:0.2595138306789606 \n",
      " precision:0.15218246165945734 \n",
      " recall:0.8805460750853242 \n",
      "}\n",
      "=====Epoch 43\n",
      "Training...\n"
     ]
    },
    {
     "name": "stderr",
     "output_type": "stream",
     "text": [
      "Iteration: 100%|██████████| 1004/1004 [01:24<00:00, 11.89it/s]\n",
      "Iteration:   2%|▏         | 24/1004 [00:02<01:34, 10.36it/s]]"
     ]
    },
    {
     "name": "stdout",
     "output_type": "stream",
     "text": [
      "Evaluating...\n"
     ]
    },
    {
     "name": "stderr",
     "output_type": "stream",
     "text": [
      "Iteration:  55%|█████▍    | 549/1004 [00:48<00:46,  9.81it/s]]\n",
      "Iteration:  59%|█████▉    | 595/1004 [00:52<00:40, 10.14it/s]]\n",
      "Iteration:  19%|█▉        | 21/112 [00:01<00:04, 20.99it/s]s]\n",
      "Iteration:  40%|███▉      | 399/1004 [00:35<00:47, 12.61it/s]"
     ]
    },
    {
     "name": "stdout",
     "output_type": "stream",
     "text": [
      "{'Train':  best_epoch_indx:42\n",
      " auc:0.9129814051493552 \n",
      " apur:0.39494746042755347 \n",
      " f1:0.2687454808387564 \n",
      " precision:0.15679181607255854 \n",
      " recall:0.9397597977243995 \n",
      ", 'Validation':  best_epoch_indx:42\n",
      " auc:0.8808465950450608 \n",
      " apur:0.32607071075037863 \n",
      " f1:0.2523076923076923 \n",
      " precision:0.14709214501510573 \n",
      " recall:0.8862343572241184 \n",
      "}\n",
      "=====Epoch 43\n",
      "Training...\n"
     ]
    },
    {
     "name": "stderr",
     "output_type": "stream",
     "text": [
      "Iteration:  45%|████▌     | 453/1004 [00:40<00:43, 12.56it/s]\n",
      "Iteration:   0%|          | 1/1004 [00:00<02:03,  8.14it/s]s]"
     ]
    },
    {
     "name": "stdout",
     "output_type": "stream",
     "text": [
      "{'Train':  best_epoch_indx:42\n",
      " auc:0.9142608950606114 \n",
      " apur:0.4116586226111703 \n",
      " f1:0.2975656930131958 \n",
      " precision:0.17807537213122915 \n",
      " recall:0.9044819520829382 \n",
      ", 'Validation':  best_epoch_indx:42\n",
      " auc:0.88292010470545 \n",
      " apur:0.33883704450359275 \n",
      " f1:0.2746341008669712 \n",
      " precision:0.16423235589251867 \n",
      " recall:0.8378839590443686 \n",
      "}\n",
      "=====Epoch 43\n",
      "Training...\n"
     ]
    },
    {
     "name": "stderr",
     "output_type": "stream",
     "text": [
      "Iteration:  59%|█████▉    | 593/1004 [00:52<00:32, 12.68it/s]]\n",
      "Iteration:  66%|██████▌   | 663/1004 [00:58<00:27, 12.52it/s]\n",
      "Iteration:   0%|          | 0/1004 [00:00<?, ?it/s]"
     ]
    },
    {
     "name": "stdout",
     "output_type": "stream",
     "text": [
      "{'Train':  best_epoch_indx:42\n",
      " auc:0.921347648004382 \n",
      " apur:0.4177311566574019 \n",
      " f1:0.30908291605459826 \n",
      " precision:0.18611107524243636 \n",
      " recall:0.9110619469026549 \n",
      ", 'Validation':  best_epoch_indx:42\n",
      " auc:0.889128224553237 \n",
      " apur:0.35656684500688574 \n",
      " f1:0.28677042801556424 \n",
      " precision:0.17296409293593054 \n",
      " recall:0.838452787258248 \n",
      "}\n",
      "=====Epoch 43\n",
      "Training...\n"
     ]
    },
    {
     "name": "stderr",
     "output_type": "stream",
     "text": [
      "Iteration: 100%|██████████| 1004/1004 [01:26<00:00, 11.62it/s]\n",
      "Iteration:   0%|          | 0/1004 [00:00<?, ?it/s]"
     ]
    },
    {
     "name": "stdout",
     "output_type": "stream",
     "text": [
      "Evaluating...\n"
     ]
    },
    {
     "name": "stderr",
     "output_type": "stream",
     "text": [
      "Iteration: 100%|██████████| 1004/1004 [01:26<00:00, 11.64it/s]\n",
      "Iteration:   0%|          | 0/1004 [00:00<?, ?it/s]"
     ]
    },
    {
     "name": "stdout",
     "output_type": "stream",
     "text": [
      "Evaluating...\n"
     ]
    },
    {
     "name": "stderr",
     "output_type": "stream",
     "text": [
      "Iteration:  92%|█████████▏| 919/1004 [01:21<00:06, 12.24it/s]]\n",
      "Iteration:  98%|█████████▊| 987/1004 [01:26<00:01, 12.38it/s]\n",
      "Iteration:  96%|█████████▌| 961/1004 [01:31<00:03, 12.20it/s]"
     ]
    },
    {
     "name": "stdout",
     "output_type": "stream",
     "text": [
      "{'Train':  best_epoch_indx:43\n",
      " auc:0.9063569338109461 \n",
      " apur:0.38785469801799755 \n",
      " f1:0.2594842645946862 \n",
      " precision:0.15042321644498186 \n",
      " recall:0.9436753271382514 \n",
      ", 'Validation':  best_epoch_indx:43\n",
      " auc:0.8800715670522811 \n",
      " apur:0.3465016808696755 \n",
      " f1:0.24745815735961213 \n",
      " precision:0.14345302865433443 \n",
      " recall:0.8998862343572241 \n",
      "}\n",
      "=====Epoch 44\n",
      "Training...\n"
     ]
    },
    {
     "name": "stderr",
     "output_type": "stream",
     "text": [
      "Iteration: 100%|██████████| 1004/1004 [01:28<00:00, 11.39it/s]\n",
      "Iteration:  97%|█████████▋| 977/1004 [01:32<00:02, 12.17it/s]"
     ]
    },
    {
     "name": "stdout",
     "output_type": "stream",
     "text": [
      "Evaluating...\n"
     ]
    },
    {
     "name": "stderr",
     "output_type": "stream",
     "text": [
      "Iteration: 100%|██████████| 1004/1004 [01:34<00:00, 10.59it/s]\n",
      "Iteration:  82%|████████▏ | 820/1004 [01:12<00:15, 11.99it/s]"
     ]
    },
    {
     "name": "stdout",
     "output_type": "stream",
     "text": [
      "Evaluating...\n"
     ]
    },
    {
     "name": "stderr",
     "output_type": "stream",
     "text": [
      "Iteration:  21%|██        | 207/1004 [00:09<00:38, 20.85it/s]]\n",
      "Iteration:  29%|██▉       | 290/1004 [00:13<00:31, 22.47it/s]\n",
      "Iteration:  19%|█▉        | 191/1004 [00:16<01:10, 11.46it/s]"
     ]
    },
    {
     "name": "stdout",
     "output_type": "stream",
     "text": [
      "{'Train':  best_epoch_indx:43\n",
      " auc:0.9198902779474333 \n",
      " apur:0.4264817941727345 \n",
      " f1:0.2759334374335899 \n",
      " precision:0.16158599270633814 \n",
      " recall:0.9438685208596713 \n",
      ", 'Validation':  best_epoch_indx:43\n",
      " auc:0.8852265794700283 \n",
      " apur:0.3539255238106348 \n",
      " f1:0.2590060040026685 \n",
      " precision:0.15174907172171195 \n",
      " recall:0.8833902161547212 \n",
      "}\n",
      "=====Epoch 44\n",
      "Training...\n"
     ]
    },
    {
     "name": "stderr",
     "output_type": "stream",
     "text": [
      "Iteration: 100%|██████████| 1004/1004 [01:27<00:00, 11.49it/s]\n",
      "Iteration:  21%|██        | 213/1004 [00:18<01:07, 11.72it/s]"
     ]
    },
    {
     "name": "stdout",
     "output_type": "stream",
     "text": [
      "Evaluating...\n"
     ]
    },
    {
     "name": "stderr",
     "output_type": "stream",
     "text": [
      "Iteration:  38%|███▊      | 379/1004 [00:34<00:59, 10.45it/s]]\n",
      "Iteration:  43%|████▎     | 48/112 [00:02<00:03, 20.85it/s]s]\n",
      "Iteration:  79%|███████▉  | 791/1004 [00:37<00:09, 21.55it/s]\n",
      "Iteration:  62%|██████▏   | 69/112 [00:03<00:01, 21.75it/s]"
     ]
    },
    {
     "name": "stdout",
     "output_type": "stream",
     "text": [
      "{'Train':  best_epoch_indx:43\n",
      " auc:0.9065822917421384 \n",
      " apur:0.3715434259862859 \n",
      " f1:0.26586151513248213 \n",
      " precision:0.15492000418278784 \n",
      " recall:0.9365320184588154 \n",
      ", 'Validation':  best_epoch_indx:43\n",
      " auc:0.8785426774771663 \n",
      " apur:0.3147653436220734 \n",
      " f1:0.253242045912203 \n",
      " precision:0.1475086797410153 \n",
      " recall:0.89419795221843 \n",
      "}\n",
      "=====Epoch 44\n",
      "Training...\n"
     ]
    },
    {
     "name": "stderr",
     "output_type": "stream",
     "text": [
      "Iteration:  84%|████████▎ | 839/1004 [00:39<00:07, 21.52it/s]"
     ]
    },
    {
     "name": "stdout",
     "output_type": "stream",
     "text": [
      "{'Train':  best_epoch_indx:43\n",
      " auc:0.9090892226887334 \n",
      " apur:0.3945888974946707 \n",
      " f1:0.29187890239894837 \n",
      " precision:0.17424836921869635 \n",
      " recall:0.8982932996207332 \n",
      ", 'Validation':  best_epoch_indx:43\n",
      " auc:0.8782203450783493 \n",
      " apur:0.32720773337928233 \n",
      " f1:0.27247451343836887 \n",
      " precision:0.16275465013286095 \n",
      " recall:0.8361774744027304 \n",
      "}\n",
      "=====Epoch 44\n",
      "Training...\n"
     ]
    },
    {
     "name": "stderr",
     "output_type": "stream",
     "text": [
      "Iteration:  69%|██████▉   | 697/1004 [00:58<00:24, 12.33it/s]\n",
      "Iteration:  56%|█████▌    | 560/1004 [00:51<00:41, 10.66it/s]]\n",
      "Iteration:  19%|█▉        | 189/1004 [00:15<01:05, 12.36it/s]\n",
      "Iteration:   0%|          | 1/1004 [00:00<01:52,  8.94it/s]"
     ]
    },
    {
     "name": "stdout",
     "output_type": "stream",
     "text": [
      "{'Train':  best_epoch_indx:43\n",
      " auc:0.9057801826059779 \n",
      " apur:0.3748212694806389 \n",
      " f1:0.28630197463477286 \n",
      " precision:0.17016125184867134 \n",
      " recall:0.9018331226295828 \n",
      ", 'Validation':  best_epoch_indx:43\n",
      " auc:0.8786068765728554 \n",
      " apur:0.33765188281516206 \n",
      " f1:0.26773081806638854 \n",
      " precision:0.15925766076823478 \n",
      " recall:0.8395904436860068 \n",
      "}\n",
      "=====Epoch 44\n",
      "Training...\n"
     ]
    },
    {
     "name": "stderr",
     "output_type": "stream",
     "text": [
      "Iteration: 100%|██████████| 1004/1004 [01:23<00:00, 11.99it/s]\n",
      "Iteration:   0%|          | 2/1004 [00:00<01:11, 14.11it/s]s]"
     ]
    },
    {
     "name": "stdout",
     "output_type": "stream",
     "text": [
      "Evaluating...\n"
     ]
    },
    {
     "name": "stderr",
     "output_type": "stream",
     "text": [
      "Iteration: 100%|██████████| 1004/1004 [01:32<00:00, 10.90it/s]\n",
      "Iteration:  60%|██████    | 607/1004 [00:52<00:32, 12.30it/s]"
     ]
    },
    {
     "name": "stdout",
     "output_type": "stream",
     "text": [
      "Evaluating...\n"
     ]
    },
    {
     "name": "stderr",
     "output_type": "stream",
     "text": [
      "Iteration:  92%|█████████▏| 923/1004 [01:16<00:07, 11.46it/s]]\n",
      "Iteration:  98%|█████████▊| 987/1004 [01:21<00:01, 11.96it/s]\n",
      "Iteration:  99%|█████████▉| 997/1004 [01:24<00:00, 12.00it/s]"
     ]
    },
    {
     "name": "stdout",
     "output_type": "stream",
     "text": [
      "{'Train':  best_epoch_indx:44\n",
      " auc:0.8979340345766618 \n",
      " apur:0.35557231213875085 \n",
      " f1:0.2268842384738153 \n",
      " precision:0.12861575925659735 \n",
      " recall:0.9615652063973702 \n",
      ", 'Validation':  best_epoch_indx:44\n",
      " auc:0.8707465025983631 \n",
      " apur:0.3007538605777115 \n",
      " f1:0.21853462696554032 \n",
      " precision:0.12383407901721392 \n",
      " recall:0.928896473265074 \n",
      "}\n",
      "=====Epoch 45\n",
      "Training...\n"
     ]
    },
    {
     "name": "stderr",
     "output_type": "stream",
     "text": [
      "Iteration: 100%|██████████| 1004/1004 [01:24<00:00, 11.86it/s]\n",
      "Iteration:   1%|          | 7/1004 [00:00<01:31, 10.87it/s]s]"
     ]
    },
    {
     "name": "stdout",
     "output_type": "stream",
     "text": [
      "Evaluating...\n"
     ]
    },
    {
     "name": "stderr",
     "output_type": "stream",
     "text": [
      "Iteration: 100%|██████████| 1004/1004 [01:23<00:00, 12.06it/s]\n",
      "Iteration:  69%|██████▉   | 692/1004 [00:33<00:14, 21.68it/s]"
     ]
    },
    {
     "name": "stdout",
     "output_type": "stream",
     "text": [
      "Evaluating...\n"
     ]
    },
    {
     "name": "stderr",
     "output_type": "stream",
     "text": [
      "Iteration:  22%|██▏       | 221/1004 [00:18<01:05, 12.02it/s]]\n",
      "Iteration: 100%|██████████| 1004/1004 [01:24<00:00, 11.84it/s]\n",
      "Iteration:   0%|          | 2/1004 [00:00<01:01, 16.40it/s]s]"
     ]
    },
    {
     "name": "stdout",
     "output_type": "stream",
     "text": [
      "Evaluating...\n"
     ]
    },
    {
     "name": "stderr",
     "output_type": "stream",
     "text": [
      "Iteration:  28%|██▊       | 285/1004 [00:23<00:58, 12.31it/s]\n",
      "Iteration:  47%|████▋     | 470/1004 [00:22<00:24, 21.43it/s]"
     ]
    },
    {
     "name": "stdout",
     "output_type": "stream",
     "text": [
      "{'Train':  best_epoch_indx:44\n",
      " auc:0.9120936871142633 \n",
      " apur:0.39987962726014115 \n",
      " f1:0.2913951989853842 \n",
      " precision:0.173823382265012 \n",
      " recall:0.9004424778761062 \n",
      ", 'Validation':  best_epoch_indx:44\n",
      " auc:0.8795518100968678 \n",
      " apur:0.3283610654020138 \n",
      " f1:0.27085830183460863 \n",
      " precision:0.1616239410276158 \n",
      " recall:0.835608646188851 \n",
      "}\n",
      "=====Epoch 45\n",
      "Training...\n"
     ]
    },
    {
     "name": "stderr",
     "output_type": "stream",
     "text": [
      "Iteration:  99%|█████████▉| 995/1004 [00:50<00:00, 21.16it/s]]\n",
      "Iteration:  55%|█████▌    | 62/112 [00:02<00:02, 22.17it/s]s]]\n",
      "Iteration:  40%|████      | 403/1004 [00:33<00:49, 12.15it/s]\n",
      "Iteration:  79%|███████▉  | 795/1004 [00:38<00:09, 22.27it/s]"
     ]
    },
    {
     "name": "stdout",
     "output_type": "stream",
     "text": [
      "{'Train':  best_epoch_indx:44\n",
      " auc:0.8856267954355466 \n",
      " apur:0.3314784170446865 \n",
      " f1:0.2676326526637648 \n",
      " precision:0.15818311577687225 \n",
      " recall:0.8687021935647007 \n",
      ", 'Validation':  best_epoch_indx:44\n",
      " auc:0.8637253377670996 \n",
      " apur:0.2983856054048275 \n",
      " f1:0.2539157674904281 \n",
      " precision:0.14988699404150402 \n",
      " recall:0.8299203640500569 \n",
      "}\n",
      "=====Epoch 45\n",
      "Training...\n"
     ]
    },
    {
     "name": "stderr",
     "output_type": "stream",
     "text": [
      "Iteration:  73%|███████▎  | 733/1004 [01:00<00:22, 11.96it/s]\n",
      "Iteration:   4%|▍         | 39/1004 [00:03<01:20, 11.93it/s]"
     ]
    },
    {
     "name": "stdout",
     "output_type": "stream",
     "text": [
      "{'Train':  best_epoch_indx:44\n",
      " auc:0.9018646148541878 \n",
      " apur:0.3599279476964157 \n",
      " f1:0.29398465114797956 \n",
      " precision:0.17665743918151783 \n",
      " recall:0.8753476611883692 \n",
      ", 'Validation':  best_epoch_indx:44\n",
      " auc:0.8753783664103584 \n",
      " apur:0.3146330865048411 \n",
      " f1:0.27660599056149476 \n",
      " precision:0.1664927536231884 \n",
      " recall:0.8168373151308305 \n",
      "}\n",
      "=====Epoch 45\n",
      "Training...\n"
     ]
    },
    {
     "name": "stderr",
     "output_type": "stream",
     "text": [
      "Iteration:  82%|████████▏ | 823/1004 [01:09<00:20,  8.91it/s]]\n",
      "Iteration:  22%|██▏       | 221/1004 [00:17<01:03, 12.40it/s]"
     ]
    },
    {
     "name": "stdout",
     "output_type": "stream",
     "text": [
      "{'Train':  best_epoch_indx:44\n",
      " auc:0.9017091971383879 \n",
      " apur:0.3699572112908372 \n",
      " f1:0.2610189202486917 \n",
      " precision:0.15202417548064398 \n",
      " recall:0.9221871049304677 \n",
      ", 'Validation':  best_epoch_indx:44\n",
      " auc:0.8780057469271827 \n",
      " apur:0.33489139678256885 \n",
      " f1:0.2507704785077048 \n",
      " precision:0.1462353386303443 \n",
      " recall:0.8794084186575654 \n",
      "}\n",
      "=====Epoch 45\n",
      "Training...\n"
     ]
    },
    {
     "name": "stderr",
     "output_type": "stream",
     "text": [
      "\n",
      "Iteration: 100%|██████████| 1004/1004 [01:25<00:00, 11.74it/s]\n",
      "Iteration:  35%|███▍      | 349/1004 [00:28<00:53, 12.25it/s]"
     ]
    },
    {
     "name": "stdout",
     "output_type": "stream",
     "text": [
      "Evaluating...\n"
     ]
    },
    {
     "name": "stderr",
     "output_type": "stream",
     "text": [
      "Iteration: 100%|██████████| 1004/1004 [01:24<00:00, 11.93it/s]\n",
      "Iteration:  45%|████▍     | 450/1004 [00:22<00:31, 17.78it/s]"
     ]
    },
    {
     "name": "stdout",
     "output_type": "stream",
     "text": [
      "Evaluating...\n"
     ]
    },
    {
     "name": "stderr",
     "output_type": "stream",
     "text": [
      "Iteration:  64%|██████▍   | 647/1004 [00:30<00:17, 20.55it/s]]\n",
      "Iteration: 100%|██████████| 1004/1004 [01:25<00:00, 11.71it/s]\n",
      "Iteration:  76%|███████▌  | 761/1004 [00:35<00:11, 21.76it/s]"
     ]
    },
    {
     "name": "stdout",
     "output_type": "stream",
     "text": [
      "Evaluating...\n"
     ]
    },
    {
     "name": "stderr",
     "output_type": "stream",
     "text": [
      "\r",
      "Iteration:  99%|█████████▊| 989/1004 [01:22<00:01, 12.46it/s]\r",
      "Iteration:  74%|███████▍  | 742/1004 [01:08<00:21, 12.28it/s]\r",
      "Iteration:   0%|          | 5/1004 [00:00<00:50, 19.83it/s]\r",
      "Iteration:  76%|███████▌  | 764/1004 [00:35<00:10, 21.92it/s]\n",
      "\r",
      "Iteration:   0%|          | 0/1004 [00:00<?, ?it/s]\r",
      "Iteration:   1%|          | 8/1004 [00:00<00:47, 20.92it/s]\r",
      "Iteration:  99%|█████████▊| 991/1004 [01:22<00:01, 12.50it/s]\r",
      "Iteration:  74%|███████▍  | 744/1004 [01:08<00:21, 12.31it/s]"
     ]
    },
    {
     "name": "stdout",
     "output_type": "stream",
     "text": [
      "{'Train':  best_epoch_indx:45\n",
      " auc:0.9092276428867219 \n",
      " apur:0.392974508595677 \n",
      " f1:0.2862745490380479 \n",
      " precision:0.17005015808115626 \n",
      " recall:0.9044187369618812 \n",
      ", 'Validation':  best_epoch_indx:45\n",
      " auc:0.8807749217569596 \n",
      " apur:0.3430636892510721 \n",
      " f1:0.2720841647016144 \n",
      " precision:0.16184721622788087 \n",
      " recall:0.8532423208191127 \n",
      "}\n",
      "=====Epoch 46\n",
      "Training...\n"
     ]
    },
    {
     "name": "stderr",
     "output_type": "stream",
     "text": [
      "Iteration: 100%|██████████| 1004/1004 [01:24<00:00, 11.95it/s]\n",
      "Iteration:  79%|███████▉  | 791/1004 [00:36<00:09, 22.07it/s]"
     ]
    },
    {
     "name": "stdout",
     "output_type": "stream",
     "text": [
      "Evaluating...\n"
     ]
    },
    {
     "name": "stderr",
     "output_type": "stream",
     "text": [
      "Iteration:  90%|█████████ | 906/1004 [01:21<00:08, 11.11it/s]]\n",
      "Iteration:  19%|█▉        | 195/1004 [00:18<01:17, 10.37it/s]\n",
      "Iteration:  96%|█████████▌| 966/1004 [01:27<00:03, 10.52it/s]"
     ]
    },
    {
     "name": "stdout",
     "output_type": "stream",
     "text": [
      "{'Train':  best_epoch_indx:45\n",
      " auc:0.9086244487096304 \n",
      " apur:0.38807145676605764 \n",
      " f1:0.3004228398752133 \n",
      " precision:0.18140646126783674 \n",
      " recall:0.8735145385587864 \n",
      ", 'Validation':  best_epoch_indx:45\n",
      " auc:0.8758056156541638 \n",
      " apur:0.33204777140683767 \n",
      " f1:0.2788009404388715 \n",
      " precision:0.16840236686390533 \n",
      " recall:0.8094425483503982 \n",
      "}\n",
      "=====Epoch 46\n",
      "Training...\n"
     ]
    },
    {
     "name": "stderr",
     "output_type": "stream",
     "text": [
      "Iteration: 100%|██████████| 1004/1004 [01:30<00:00, 11.05it/s]\n",
      "Iteration:  23%|██▎       | 235/1004 [00:22<01:14, 10.29it/s]"
     ]
    },
    {
     "name": "stdout",
     "output_type": "stream",
     "text": [
      "Evaluating...\n"
     ]
    },
    {
     "name": "stderr",
     "output_type": "stream",
     "text": [
      "Iteration:  36%|███▌      | 361/1004 [00:29<00:50, 12.82it/s]]\n",
      "Iteration:  57%|█████▋    | 570/1004 [00:28<00:20, 21.22it/s]\n",
      "Iteration:  62%|██████▏   | 69/112 [00:03<00:02, 21.12it/s]s]\n",
      "Iteration:   0%|          | 1/1004 [00:00<01:54,  8.78it/s]s]"
     ]
    },
    {
     "name": "stdout",
     "output_type": "stream",
     "text": [
      "{'Train':  best_epoch_indx:45\n",
      " auc:0.9048865452777326 \n",
      " apur:0.3710438490880145 \n",
      " f1:0.27587918118051247 \n",
      " precision:0.16246656025897535 \n",
      " recall:0.9137113597572539 \n",
      ", 'Validation':  best_epoch_indx:45\n",
      " auc:0.8749428892740655 \n",
      " apur:0.3076094999817592 \n",
      " f1:0.2583340438230028 \n",
      " precision:0.15194062782067996 \n",
      " recall:0.8617747440273038 \n",
      "}\n",
      "=====Epoch 46\n",
      "Training...\n"
     ]
    },
    {
     "name": "stderr",
     "output_type": "stream",
     "text": [
      "Iteration:  68%|██████▊   | 686/1004 [00:34<00:14, 21.39it/s]\n",
      "Iteration:   3%|▎         | 27/1004 [00:02<01:20, 12.18it/s]"
     ]
    },
    {
     "name": "stdout",
     "output_type": "stream",
     "text": [
      "{'Train':  best_epoch_indx:45\n",
      " auc:0.9075704682453697 \n",
      " apur:0.38130558773244777 \n",
      " f1:0.2916602085206195 \n",
      " precision:0.17432711192361378 \n",
      " recall:0.8920986093552465 \n",
      ", 'Validation':  best_epoch_indx:45\n",
      " auc:0.8756302906604861 \n",
      " apur:0.3227475554641166 \n",
      " f1:0.27464920486435923 \n",
      " precision:0.16435288849081953 \n",
      " recall:0.8350398179749715 \n",
      "}\n",
      "=====Epoch 46\n",
      "Training...\n"
     ]
    },
    {
     "name": "stderr",
     "output_type": "stream",
     "text": [
      "Iteration:  24%|██▍       | 241/1004 [00:20<01:02, 12.26it/s]]\n",
      "Iteration:  75%|███████▍  | 749/1004 [01:01<00:20, 12.75it/s]\n",
      "Iteration:  27%|██▋       | 276/1004 [00:23<01:11, 10.11it/s]"
     ]
    },
    {
     "name": "stdout",
     "output_type": "stream",
     "text": [
      "{'Train':  best_epoch_indx:45\n",
      " auc:0.9087213277360845 \n",
      " apur:0.38193324540874574 \n",
      " f1:0.26995472956873956 \n",
      " precision:0.15786371138882338 \n",
      " recall:0.9310366624525916 \n",
      ", 'Validation':  best_epoch_indx:45\n",
      " auc:0.8795927611342856 \n",
      " apur:0.34088232749472613 \n",
      " f1:0.2566880573381115 \n",
      " precision:0.15037593984962405 \n",
      " recall:0.875995449374289 \n",
      "}\n",
      "=====Epoch 46\n",
      "Training...\n"
     ]
    },
    {
     "name": "stderr",
     "output_type": "stream",
     "text": [
      "Iteration: 100%|██████████| 1004/1004 [01:31<00:00, 10.92it/s]\n",
      "Iteration:   0%|          | 0/1004 [00:00<?, ?it/s]"
     ]
    },
    {
     "name": "stdout",
     "output_type": "stream",
     "text": [
      "Evaluating...\n"
     ]
    },
    {
     "name": "stderr",
     "output_type": "stream",
     "text": [
      "Iteration: 100%|██████████| 1004/1004 [01:22<00:00, 12.24it/s]\n",
      "Iteration:  55%|█████▌    | 557/1004 [00:46<00:42, 10.45it/s]"
     ]
    },
    {
     "name": "stdout",
     "output_type": "stream",
     "text": [
      "Evaluating...\n"
     ]
    },
    {
     "name": "stderr",
     "output_type": "stream",
     "text": [
      "Iteration: 100%|██████████| 1004/1004 [01:23<00:00, 12.07it/s]\n",
      "Iteration:  78%|███████▊  | 786/1004 [00:38<00:10, 21.50it/s]"
     ]
    },
    {
     "name": "stdout",
     "output_type": "stream",
     "text": [
      "Evaluating...\n"
     ]
    },
    {
     "name": "stderr",
     "output_type": "stream",
     "text": [
      "Iteration: 100%|██████████| 1004/1004 [01:27<00:00, 11.44it/s]\n",
      "Iteration:   0%|          | 0/1004 [00:00<?, ?it/s]"
     ]
    },
    {
     "name": "stdout",
     "output_type": "stream",
     "text": [
      "Evaluating...\n"
     ]
    },
    {
     "name": "stderr",
     "output_type": "stream",
     "text": [
      "Iteration:  87%|████████▋ | 873/1004 [00:43<00:05, 21.83it/s]\n",
      "Iteration:  12%|█▏        | 121/1004 [00:07<00:42, 20.60it/s]\n",
      "Iteration:  84%|████████▎ | 839/1004 [01:09<00:13, 12.07it/s]"
     ]
    },
    {
     "name": "stdout",
     "output_type": "stream",
     "text": [
      "{'Train':  best_epoch_indx:46\n",
      " auc:0.916633151302521 \n",
      " apur:0.4124217300055983 \n",
      " f1:0.26183156003869007 \n",
      " precision:0.15163094035389554 \n",
      " recall:0.9582780201024085 \n",
      ", 'Validation':  best_epoch_indx:46\n",
      " auc:0.8868582593792051 \n",
      " apur:0.3570976011970465 \n",
      " f1:0.24953473945409432 \n",
      " precision:0.14446040581792063 \n",
      " recall:0.9152445961319682 \n",
      "}\n",
      "=====Epoch 47\n",
      "Training...\n"
     ]
    },
    {
     "name": "stderr",
     "output_type": "stream",
     "text": [
      "Iteration:  23%|██▎       | 227/1004 [00:12<00:37, 20.99it/s]]\n",
      "Iteration:  36%|███▋      | 365/1004 [00:19<00:29, 21.58it/s]\n",
      "Iteration:  95%|█████████▍| 949/1004 [01:18<00:05, 10.93it/s]"
     ]
    },
    {
     "name": "stdout",
     "output_type": "stream",
     "text": [
      "{'Train':  best_epoch_indx:46\n",
      " auc:0.9204013147540008 \n",
      " apur:0.4216739134670863 \n",
      " f1:0.2791655357660955 \n",
      " precision:0.1638414975776418 \n",
      " recall:0.9427307206068268 \n",
      ", 'Validation':  best_epoch_indx:46\n",
      " auc:0.8818028879059203 \n",
      " apur:0.3403623786181942 \n",
      " f1:0.2600912008106739 \n",
      " precision:0.15271717572391907 \n",
      " recall:0.875995449374289 \n",
      "}\n",
      "=====Epoch 47\n",
      "Training...\n"
     ]
    },
    {
     "name": "stderr",
     "output_type": "stream",
     "text": [
      "Iteration: 100%|██████████| 1004/1004 [01:24<00:00, 11.91it/s]\n",
      "Iteration:   6%|▌         | 58/1004 [00:05<01:28, 10.71it/s]]"
     ]
    },
    {
     "name": "stdout",
     "output_type": "stream",
     "text": [
      "Evaluating...\n"
     ]
    },
    {
     "name": "stderr",
     "output_type": "stream",
     "text": [
      "Iteration:  60%|██████    | 606/1004 [00:29<00:18, 21.02it/s]]\n",
      "Iteration:  54%|█████▍    | 543/1004 [00:44<00:37, 12.45it/s]\n",
      "Iteration:  96%|█████████▋| 108/112 [00:05<00:00, 21.59it/s]]\n",
      "Iteration:  99%|█████████▉| 111/112 [00:05<00:00, 21.58it/s]]"
     ]
    },
    {
     "name": "stdout",
     "output_type": "stream",
     "text": [
      "{'Train':  best_epoch_indx:46\n",
      " auc:0.915951231655839 \n",
      " apur:0.416527960123116 \n",
      " f1:0.28393117639671145 \n",
      " precision:0.16757706035967204 \n",
      " recall:0.9288874841972187 \n",
      ", 'Validation':  best_epoch_indx:46\n",
      " auc:0.8846392766316871 \n",
      " apur:0.34750267534878254 \n",
      " f1:0.2672955974842767 \n",
      " precision:0.15789473684210525 \n",
      " recall:0.8703071672354948 \n",
      "}\n",
      "=====Epoch 47\n",
      "Training...\n"
     ]
    },
    {
     "name": "stderr",
     "output_type": "stream",
     "text": [
      "Iteration:  61%|██████    | 611/1004 [00:50<00:31, 12.59it/s]\n",
      "Iteration:  61%|██████    | 613/1004 [00:50<00:31, 12.31it/s]"
     ]
    },
    {
     "name": "stdout",
     "output_type": "stream",
     "text": [
      "{'Train':  best_epoch_indx:46\n",
      " auc:0.9144063125966277 \n",
      " apur:0.41189332065143247 \n",
      " f1:0.2686774356385664 \n",
      " precision:0.1566807195348886 \n",
      " recall:0.9420949491118276 \n",
      ", 'Validation':  best_epoch_indx:46\n",
      " auc:0.8833063221582581 \n",
      " apur:0.3388475337593775 \n",
      " f1:0.2538634900193174 \n",
      " precision:0.14785299081192574 \n",
      " recall:0.897042093287827 \n",
      "}\n",
      "=====Epoch 47\n",
      "Training...\n"
     ]
    },
    {
     "name": "stderr",
     "output_type": "stream",
     "text": [
      "Iteration:  79%|███████▊  | 789/1004 [01:06<00:17, 12.31it/s]]\n",
      "Iteration:  24%|██▍       | 243/1004 [00:21<01:02, 12.22it/s]\n",
      "Iteration:  70%|███████   | 706/1004 [01:02<00:29, 10.16it/s]"
     ]
    },
    {
     "name": "stdout",
     "output_type": "stream",
     "text": [
      "{'Train':  best_epoch_indx:46\n",
      " auc:0.916506322718968 \n",
      " apur:0.403872736746435 \n",
      " f1:0.2753596458871265 \n",
      " precision:0.1611962858993738 \n",
      " recall:0.9437420986093552 \n",
      ", 'Validation':  best_epoch_indx:46\n",
      " auc:0.8885712671155418 \n",
      " apur:0.349879881346046 \n",
      " f1:0.2606374103120307 \n",
      " precision:0.15271802894016426 \n",
      " recall:0.888509670079636 \n",
      "}\n",
      "=====Epoch 47\n",
      "Training...\n"
     ]
    },
    {
     "name": "stderr",
     "output_type": "stream",
     "text": [
      "Iteration: 100%|██████████| 1004/1004 [01:23<00:00, 12.07it/s]\n",
      "Iteration:   0%|          | 0/1004 [00:00<?, ?it/s]"
     ]
    },
    {
     "name": "stdout",
     "output_type": "stream",
     "text": [
      "Evaluating...\n"
     ]
    },
    {
     "name": "stderr",
     "output_type": "stream",
     "text": [
      "Iteration: 100%|██████████| 1004/1004 [01:28<00:00, 11.38it/s]\n",
      "Iteration:   0%|          | 2/1004 [00:00<00:55, 18.02it/s]s]"
     ]
    },
    {
     "name": "stdout",
     "output_type": "stream",
     "text": [
      "Evaluating...\n"
     ]
    },
    {
     "name": "stderr",
     "output_type": "stream",
     "text": [
      "Iteration:  88%|████████▊ | 886/1004 [01:21<00:09, 12.00it/s]]\n",
      "Iteration: 100%|██████████| 1004/1004 [01:24<00:00, 11.84it/s]\n",
      "Iteration:  73%|███████▎  | 735/1004 [01:03<00:26, 10.14it/s]"
     ]
    },
    {
     "name": "stdout",
     "output_type": "stream",
     "text": [
      "Evaluating...\n"
     ]
    },
    {
     "name": "stderr",
     "output_type": "stream",
     "text": [
      "Iteration:   6%|▋         | 64/1004 [00:03<00:44, 21.13it/s]]\n",
      "Iteration:  85%|████████▌ | 856/1004 [00:40<00:08, 17.21it/s]"
     ]
    },
    {
     "name": "stdout",
     "output_type": "stream",
     "text": [
      "{'Train':  best_epoch_indx:47\n",
      " auc:0.9249156516355904 \n",
      " apur:0.44202428912787106 \n",
      " f1:0.31638492547313846 \n",
      " precision:0.19145994522878945 \n",
      " recall:0.9104241734622922 \n",
      ", 'Validation':  best_epoch_indx:47\n",
      " auc:0.8923174346403856 \n",
      " apur:0.37838520855376667 \n",
      " f1:0.29440221147201107 \n",
      " precision:0.178114920559073 \n",
      " recall:0.8481228668941979 \n",
      "}\n",
      "=====Epoch 48\n",
      "Training...\n"
     ]
    },
    {
     "name": "stderr",
     "output_type": "stream",
     "text": [
      "Iteration: 100%|██████████| 1004/1004 [01:31<00:00, 10.96it/s]\n",
      "Iteration:  80%|████████  | 808/1004 [01:10<00:19, 10.18it/s]"
     ]
    },
    {
     "name": "stdout",
     "output_type": "stream",
     "text": [
      "Evaluating...\n"
     ]
    },
    {
     "name": "stderr",
     "output_type": "stream",
     "text": [
      "Iteration:  30%|███       | 304/1004 [00:14<00:34, 20.20it/s]]\n",
      "Iteration:  20%|█▉        | 199/1004 [00:16<01:05, 12.30it/s]\n",
      "Iteration:  26%|██▋       | 266/1004 [00:12<00:33, 22.13it/s]"
     ]
    },
    {
     "name": "stdout",
     "output_type": "stream",
     "text": [
      "{'Train':  best_epoch_indx:47\n",
      " auc:0.9282693241033514 \n",
      " apur:0.4517089969137662 \n",
      " f1:0.3169674538447261 \n",
      " precision:0.19157219590091457 \n",
      " recall:0.9175726927939317 \n",
      ", 'Validation':  best_epoch_indx:47\n",
      " auc:0.8875513135161894 \n",
      " apur:0.3572770815710863 \n",
      " f1:0.2888471796898153 \n",
      " precision:0.17477585176329946 \n",
      " recall:0.8316268486916951 \n",
      "}\n",
      "=====Epoch 48\n",
      "Training...\n"
     ]
    },
    {
     "name": "stderr",
     "output_type": "stream",
     "text": [
      "Iteration: 100%|██████████| 1004/1004 [01:26<00:00, 11.57it/s]\n",
      "Iteration:   0%|          | 2/1004 [00:00<00:56, 17.70it/s]s]"
     ]
    },
    {
     "name": "stdout",
     "output_type": "stream",
     "text": [
      "Evaluating...\n"
     ]
    },
    {
     "name": "stderr",
     "output_type": "stream",
     "text": [
      "Iteration:  57%|█████▋    | 575/1004 [00:46<00:34, 12.34it/s]]\n",
      "Iteration:  67%|██████▋   | 674/1004 [00:31<00:16, 20.29it/s]]\n",
      "Iteration:  64%|██████▍   | 645/1004 [00:52<00:31, 11.57it/s]"
     ]
    },
    {
     "name": "stdout",
     "output_type": "stream",
     "text": [
      "{'Train':  best_epoch_indx:47\n",
      " auc:0.9177335117344687 \n",
      " apur:0.4153520709271641 \n",
      " f1:0.2966182485418183 \n",
      " precision:0.17701540381486058 \n",
      " recall:0.9145385587863464 \n",
      ", 'Validation':  best_epoch_indx:47\n",
      " auc:0.8847468583447986 \n",
      " apur:0.35027831226297934 \n",
      " f1:0.2784904257296895 \n",
      " precision:0.16644444444444445 \n",
      " recall:0.8521046643913538 \n",
      "}\n",
      "=====Epoch 48\n",
      "Training...\n"
     ]
    },
    {
     "name": "stderr",
     "output_type": "stream",
     "text": [
      "Iteration:   0%|          | 3/1004 [00:00<01:32, 10.84it/s]s]\n",
      "Iteration:   7%|▋         | 71/1004 [00:05<01:16, 12.13it/s]]\n",
      "Iteration:   7%|▋         | 73/1004 [00:06<01:16, 12.13it/s]]"
     ]
    },
    {
     "name": "stdout",
     "output_type": "stream",
     "text": [
      "{'Train':  best_epoch_indx:47\n",
      " auc:0.916931469786594 \n",
      " apur:0.4175207932974837 \n",
      " f1:0.29638292197533905 \n",
      " precision:0.1768977382657997 \n",
      " recall:0.9132056387887982 \n",
      ", 'Validation':  best_epoch_indx:47\n",
      " auc:0.8827454706035078 \n",
      " apur:0.3492226133963332 \n",
      " f1:0.27247063109006464 \n",
      " precision:0.1622031876829665 \n",
      " recall:0.850967007963595 \n",
      "}\n",
      "=====Epoch 48\n",
      "Training...\n"
     ]
    },
    {
     "name": "stderr",
     "output_type": "stream",
     "text": [
      "Iteration:  15%|█▍        | 149/1004 [00:12<01:08, 12.57it/s]]\n",
      "Iteration:  91%|█████████ | 911/1004 [01:16<00:07, 12.09it/s]\n",
      "Iteration:  27%|██▋       | 270/1004 [00:24<01:11, 10.20it/s]"
     ]
    },
    {
     "name": "stdout",
     "output_type": "stream",
     "text": [
      "{'Train':  best_epoch_indx:47\n",
      " auc:0.9168664056606501 \n",
      " apur:0.4085011458269059 \n",
      " f1:0.31035657381462556 \n",
      " precision:0.1878300192857618 \n",
      " recall:0.8926675094816687 \n",
      ", 'Validation':  best_epoch_indx:47\n",
      " auc:0.8828245014399618 \n",
      " apur:0.33843119673560584 \n",
      " f1:0.2870471464019851 \n",
      " precision:0.1738607671035229 \n",
      " recall:0.8225255972696246 \n",
      "}\n",
      "=====Epoch 48\n",
      "Training...\n"
     ]
    },
    {
     "name": "stderr",
     "output_type": "stream",
     "text": [
      "Iteration: 100%|██████████| 1004/1004 [01:23<00:00, 11.96it/s]\n",
      "Iteration:   0%|          | 2/1004 [00:00<00:59, 16.87it/s]]]"
     ]
    },
    {
     "name": "stdout",
     "output_type": "stream",
     "text": [
      "Evaluating...\n"
     ]
    },
    {
     "name": "stderr",
     "output_type": "stream",
     "text": [
      "Iteration: 100%|██████████| 1004/1004 [01:29<00:00, 11.17it/s]\n",
      "Iteration:   0%|          | 2/1004 [00:00<01:10, 14.20it/s]s]"
     ]
    },
    {
     "name": "stdout",
     "output_type": "stream",
     "text": [
      "Evaluating...\n"
     ]
    },
    {
     "name": "stderr",
     "output_type": "stream",
     "text": [
      "Iteration:  92%|█████████▏| 925/1004 [01:15<00:06, 12.52it/s]]\n",
      "Iteration:  71%|███████   | 711/1004 [00:33<00:14, 20.79it/s]\n",
      "Iteration:   0%|          | 1/1004 [00:00<01:55,  8.70it/s]s]"
     ]
    },
    {
     "name": "stdout",
     "output_type": "stream",
     "text": [
      "{'Train':  best_epoch_indx:48\n",
      " auc:0.9312623917545422 \n",
      " apur:0.4649213558869312 \n",
      " f1:0.29444223551887666 \n",
      " precision:0.17389860019702627 \n",
      " recall:0.9596687527656615 \n",
      ", 'Validation':  best_epoch_indx:48\n",
      " auc:0.8947023570211216 \n",
      " apur:0.3853710111047023 \n",
      " f1:0.27591636777184847 \n",
      " precision:0.16303111754367827 \n",
      " recall:0.897042093287827 \n",
      "}\n",
      "=====Epoch 49\n",
      "Training...\n"
     ]
    },
    {
     "name": "stderr",
     "output_type": "stream",
     "text": [
      "Iteration: 100%|██████████| 1004/1004 [01:22<00:00, 12.20it/s]\n",
      "Iteration:  73%|███████▎  | 729/1004 [00:34<00:13, 20.89it/s]"
     ]
    },
    {
     "name": "stdout",
     "output_type": "stream",
     "text": [
      "Evaluating...\n"
     ]
    },
    {
     "name": "stderr",
     "output_type": "stream",
     "text": [
      "Iteration: 100%|██████████| 1004/1004 [01:29<00:00, 11.16it/s]\n",
      "Iteration:   0%|          | 2/1004 [00:00<00:59, 16.93it/s]]]"
     ]
    },
    {
     "name": "stdout",
     "output_type": "stream",
     "text": [
      "Evaluating...\n"
     ]
    },
    {
     "name": "stderr",
     "output_type": "stream",
     "text": [
      "Iteration:  92%|█████████▏| 925/1004 [01:20<00:07, 10.48it/s]]\n",
      "Iteration:  46%|████▌     | 459/1004 [00:21<00:25, 21.39it/s]\n",
      "Iteration:  99%|█████████▉| 993/1004 [01:25<00:00, 11.64it/s]"
     ]
    },
    {
     "name": "stdout",
     "output_type": "stream",
     "text": [
      "{'Train':  best_epoch_indx:48\n",
      " auc:0.9319185359323503 \n",
      " apur:0.47060319939757167 \n",
      " f1:0.3256126216851293 \n",
      " precision:0.19782460910944935 \n",
      " recall:0.9197218710493047 \n",
      ", 'Validation':  best_epoch_indx:48\n",
      " auc:0.8884630034833145 \n",
      " apur:0.36636975917682835 \n",
      " f1:0.29290571399573734 \n",
      " precision:0.17825818406423719 \n",
      " recall:0.8208191126279863 \n",
      "}\n",
      "=====Epoch 49\n",
      "Training...\n"
     ]
    },
    {
     "name": "stderr",
     "output_type": "stream",
     "text": [
      "Iteration: 100%|██████████| 1004/1004 [01:26<00:00, 11.56it/s]\n",
      "Iteration:   0%|          | 2/1004 [00:00<01:07, 14.92it/s]]]"
     ]
    },
    {
     "name": "stdout",
     "output_type": "stream",
     "text": [
      "Evaluating...\n"
     ]
    },
    {
     "name": "stderr",
     "output_type": "stream",
     "text": [
      "Iteration:  29%|██▉       | 291/1004 [00:28<01:08, 10.38it/s]]\n",
      "Iteration:  60%|██████    | 604/1004 [00:29<00:19, 20.80it/s]\n",
      "Iteration:  35%|███▍      | 347/1004 [00:33<01:03, 10.42it/s]\n",
      "Iteration:  68%|██████▊   | 683/1004 [00:56<00:27, 11.84it/s]"
     ]
    },
    {
     "name": "stdout",
     "output_type": "stream",
     "text": [
      "{'Train':  best_epoch_indx:48\n",
      " auc:0.9230034900625238 \n",
      " apur:0.4419060676138067 \n",
      " f1:0.291107877453101 \n",
      " precision:0.17236200211901406 \n",
      " recall:0.9358366521271888 \n",
      ", 'Validation':  best_epoch_indx:48\n",
      " auc:0.886119534606713 \n",
      " apur:0.3460121706573646 \n",
      " f1:0.26736749890494965 \n",
      " precision:0.15802008905457182 \n",
      " recall:0.8680318543799772 \n",
      "}\n",
      "=====Epoch 49\n",
      "Training...\n"
     ]
    },
    {
     "name": "stderr",
     "output_type": "stream",
     "text": [
      "Iteration:   3%|▎         | 29/1004 [00:02<01:20, 12.16it/s]]\n",
      "Iteration:  72%|███████▏  | 727/1004 [00:35<00:13, 20.89it/s]"
     ]
    },
    {
     "name": "stdout",
     "output_type": "stream",
     "text": [
      "{'Train':  best_epoch_indx:48\n",
      " auc:0.9272014722636054 \n",
      " apur:0.45525797155112535 \n",
      " f1:0.30493609061623195 \n",
      " precision:0.18246486755378685 \n",
      " recall:0.9274336283185841 \n",
      ", 'Validation':  best_epoch_indx:48\n",
      " auc:0.8881459739028836 \n",
      " apur:0.3697734690570441 \n",
      " f1:0.28240391861341374 \n",
      " precision:0.1692255588168887 \n",
      " recall:0.8526734926052332 \n",
      "}\n",
      "=====Epoch 49\n",
      "Training...\n"
     ]
    },
    {
     "name": "stderr",
     "output_type": "stream",
     "text": [
      "Iteration:  22%|██▏       | 225/1004 [00:18<01:15, 10.37it/s]]\n",
      "Iteration:  22%|██▏       | 222/1004 [00:21<01:14, 10.44it/s]\n",
      "Iteration:  60%|█████▉    | 599/1004 [00:57<00:38, 10.60it/s]"
     ]
    },
    {
     "name": "stdout",
     "output_type": "stream",
     "text": [
      "{'Train':  best_epoch_indx:48\n",
      " auc:0.9292008864070987 \n",
      " apur:0.45654212773723757 \n",
      " f1:0.3028914681327632 \n",
      " precision:0.18052184466019416 \n",
      " recall:0.9402654867256637 \n",
      ", 'Validation':  best_epoch_indx:48\n",
      " auc:0.8921769862204245 \n",
      " apur:0.3822091568095352 \n",
      " f1:0.2780550933629136 \n",
      " precision:0.16600441501103752 \n",
      " recall:0.8555176336746303 \n",
      "}\n",
      "=====Epoch 49\n",
      "Training...\n"
     ]
    },
    {
     "name": "stderr",
     "output_type": "stream",
     "text": [
      "Iteration: 100%|██████████| 1004/1004 [01:23<00:00, 11.99it/s]\n",
      "Iteration:  32%|███▏      | 325/1004 [00:27<01:00, 11.19it/s]"
     ]
    },
    {
     "name": "stdout",
     "output_type": "stream",
     "text": [
      "Evaluating...\n"
     ]
    },
    {
     "name": "stderr",
     "output_type": "stream",
     "text": [
      "Iteration: 100%|██████████| 1004/1004 [01:34<00:00, 10.61it/s]\n",
      "Iteration:  72%|███████▏  | 725/1004 [01:00<00:22, 12.30it/s]"
     ]
    },
    {
     "name": "stdout",
     "output_type": "stream",
     "text": [
      "Evaluating...\n"
     ]
    },
    {
     "name": "stderr",
     "output_type": "stream",
     "text": [
      "Iteration:  36%|███▋      | 365/1004 [00:16<00:29, 21.48it/s]]\n",
      "Iteration:  48%|████▊     | 482/1004 [00:21<00:24, 21.49it/s]\n",
      "Iteration:  99%|█████████▉| 993/1004 [01:22<00:00, 12.28it/s]"
     ]
    },
    {
     "name": "stdout",
     "output_type": "stream",
     "text": [
      "{'Train':  best_epoch_indx:49\n",
      " auc:0.935093292551953 \n",
      " apur:0.4792748261399058 \n",
      " f1:0.31277074308563807 \n",
      " precision:0.18722650941867278 \n",
      " recall:0.9493646880333776 \n",
      ", 'Validation':  best_epoch_indx:49\n",
      " auc:0.8972681315294204 \n",
      " apur:0.39640374937423906 \n",
      " f1:0.2882967705489125 \n",
      " precision:0.17274060701793975 \n",
      " recall:0.8708759954493743 \n",
      "}\n",
      "=====Epoch 50\n",
      "Training...\n"
     ]
    },
    {
     "name": "stderr",
     "output_type": "stream",
     "text": [
      "Iteration: 100%|██████████| 1004/1004 [01:23<00:00, 12.01it/s]\n",
      "Iteration:  50%|█████     | 506/1004 [00:22<00:23, 21.41it/s]"
     ]
    },
    {
     "name": "stdout",
     "output_type": "stream",
     "text": [
      "Evaluating...\n"
     ]
    },
    {
     "name": "stderr",
     "output_type": "stream",
     "text": [
      "Iteration: 100%|██████████| 1004/1004 [01:33<00:00, 10.78it/s]\n",
      "Iteration:  86%|████████▌ | 860/1004 [01:11<00:11, 12.20it/s]"
     ]
    },
    {
     "name": "stdout",
     "output_type": "stream",
     "text": [
      "Evaluating...\n"
     ]
    },
    {
     "name": "stderr",
     "output_type": "stream",
     "text": [
      "Iteration:  31%|███       | 313/1004 [00:25<00:54, 12.62it/s]]\n",
      "Iteration:   0%|          | 0/1004 [00:00<?, ?it/s]"
     ]
    },
    {
     "name": "stdout",
     "output_type": "stream",
     "text": [
      "Evaluating...\n"
     ]
    },
    {
     "name": "stderr",
     "output_type": "stream",
     "text": [
      "Iteration:  26%|██▌       | 258/1004 [00:13<00:37, 19.88it/s]\n",
      "Iteration:  40%|███▉      | 397/1004 [00:31<00:47, 12.68it/s]\n",
      "Iteration:   0%|          | 1/1004 [00:00<01:51,  8.99it/s]s]"
     ]
    },
    {
     "name": "stdout",
     "output_type": "stream",
     "text": [
      "{'Train':  best_epoch_indx:49\n",
      " auc:0.9371564794554139 \n",
      " apur:0.49232174234094805 \n",
      " f1:0.32407286069977725 \n",
      " precision:0.19587601647481254 \n",
      " recall:0.9379266750948166 \n",
      ", 'Validation':  best_epoch_indx:49\n",
      " auc:0.8912230352133701 \n",
      " apur:0.37571903094484543 \n",
      " f1:0.29028436018957343 \n",
      " precision:0.17562724014336917 \n",
      " recall:0.8361774744027304 \n",
      "}\n",
      "=====Epoch 50\n",
      "Training...\n"
     ]
    },
    {
     "name": "stderr",
     "output_type": "stream",
     "text": [
      "Iteration:  21%|██        | 211/1004 [00:18<01:04, 12.39it/s]]\n",
      "Iteration:  67%|██████▋   | 669/1004 [00:56<00:32, 10.32it/s]"
     ]
    },
    {
     "name": "stdout",
     "output_type": "stream",
     "text": [
      "{'Train':  best_epoch_indx:49\n",
      " auc:0.9315062614413872 \n",
      " apur:0.4703858919350642 \n",
      " f1:0.3026476372989056 \n",
      " precision:0.18005184456232148 \n",
      " recall:0.9484164612175232 \n",
      ", 'Validation':  best_epoch_indx:49\n",
      " auc:0.8924317368458341 \n",
      " apur:0.36741649606711213 \n",
      " f1:0.27508293732628 \n",
      " precision:0.16327833954230975 \n",
      " recall:0.8725824800910125 \n",
      "}\n",
      "=====Epoch 50\n",
      "Training...\n"
     ]
    },
    {
     "name": "stderr",
     "output_type": "stream",
     "text": [
      "\n",
      "Iteration:  76%|███████▌  | 763/1004 [01:05<00:22, 10.54it/s]]\n",
      "Iteration:  95%|█████████▌| 954/1004 [00:45<00:02, 20.77it/s]\n",
      "Iteration:  17%|█▋        | 173/1004 [00:14<01:09, 11.88it/s]"
     ]
    },
    {
     "name": "stdout",
     "output_type": "stream",
     "text": [
      "{'Train':  best_epoch_indx:49\n",
      " auc:0.9325791304573259 \n",
      " apur:0.47403116410607027 \n",
      " f1:0.31297548157409566 \n",
      " precision:0.18800122202703734 \n",
      " recall:0.9335651074589127 \n",
      ", 'Validation':  best_epoch_indx:49\n",
      " auc:0.8931904705607981 \n",
      " apur:0.38289243997935873 \n",
      " f1:0.28680178894281094 \n",
      " precision:0.1722088904125243 \n",
      " recall:0.8572241183162684 \n",
      "}\n",
      "=====Epoch 50\n",
      "Training...\n"
     ]
    },
    {
     "name": "stderr",
     "output_type": "stream",
     "text": [
      "Iteration:  87%|████████▋ | 871/1004 [01:15<00:12, 10.43it/s]]\n",
      "Iteration:  93%|█████████▎| 929/1004 [01:21<00:07, 10.68it/s]\n",
      "Iteration:  54%|█████▍    | 545/1004 [00:49<00:44, 10.31it/s]"
     ]
    },
    {
     "name": "stdout",
     "output_type": "stream",
     "text": [
      "{'Train':  best_epoch_indx:49\n",
      " auc:0.9335869822418339 \n",
      " apur:0.47097509470471827 \n",
      " f1:0.31368875322351447 \n",
      " precision:0.1881795794658079 \n",
      " recall:0.9419089759797724 \n",
      ", 'Validation':  best_epoch_indx:49\n",
      " auc:0.8949762731627287 \n",
      " apur:0.3845942920380161 \n",
      " f1:0.2878586357590728 \n",
      " precision:0.1727874087591241 \n",
      " recall:0.8617747440273038 \n",
      "}\n",
      "=====Epoch 50\n",
      "Training...\n"
     ]
    },
    {
     "name": "stderr",
     "output_type": "stream",
     "text": [
      "Iteration: 100%|██████████| 1004/1004 [01:28<00:00, 11.40it/s]\n",
      "Iteration:   0%|          | 0/1004 [00:00<?, ?it/s]"
     ]
    },
    {
     "name": "stdout",
     "output_type": "stream",
     "text": [
      "Evaluating...\n"
     ]
    },
    {
     "name": "stderr",
     "output_type": "stream",
     "text": [
      "Iteration: 100%|██████████| 1004/1004 [01:32<00:00, 10.81it/s]\n",
      "Iteration:  76%|███████▋  | 768/1004 [01:08<00:22, 10.64it/s]"
     ]
    },
    {
     "name": "stdout",
     "output_type": "stream",
     "text": [
      "Evaluating...\n"
     ]
    },
    {
     "name": "stderr",
     "output_type": "stream",
     "text": [
      "Iteration:  91%|█████████▏| 918/1004 [01:20<00:06, 12.71it/s]]\n",
      "Iteration:  82%|████████▏ | 821/1004 [01:11<00:16, 11.14it/s]\n",
      "Iteration:  82%|████████▏ | 823/1004 [01:11<00:16, 11.11it/s]"
     ]
    },
    {
     "name": "stdout",
     "output_type": "stream",
     "text": [
      "{'Train':  best_epoch_indx:50\n",
      " auc:0.9356235745391949 \n",
      " apur:0.4824938572337243 \n",
      " f1:0.3134966128191766 \n",
      " precision:0.18769265328025359 \n",
      " recall:0.9507554206966307 \n",
      ", 'Validation':  best_epoch_indx:50\n",
      " auc:0.8975991853148216 \n",
      " apur:0.3964033710550974 \n",
      " f1:0.29065482377397717 \n",
      " precision:0.17427762039660058 \n",
      " recall:0.8748577929465301 \n",
      "}\n",
      "=====Epoch 51\n",
      "Training...\n"
     ]
    },
    {
     "name": "stderr",
     "output_type": "stream",
     "text": [
      "Iteration: 100%|██████████| 1004/1004 [01:27<00:00, 11.47it/s]\n",
      "Iteration:   1%|▏         | 15/1004 [00:01<01:23, 11.79it/s]]"
     ]
    },
    {
     "name": "stdout",
     "output_type": "stream",
     "text": [
      "Evaluating...\n"
     ]
    },
    {
     "name": "stderr",
     "output_type": "stream",
     "text": [
      "Iteration: 100%|██████████| 1004/1004 [01:27<00:00, 11.50it/s]\n",
      "Iteration:  19%|█▉        | 193/1004 [00:15<01:06, 12.26it/s]"
     ]
    },
    {
     "name": "stdout",
     "output_type": "stream",
     "text": [
      "Evaluating...\n"
     ]
    },
    {
     "name": "stderr",
     "output_type": "stream",
     "text": [
      "Iteration: 100%|██████████| 1004/1004 [01:27<00:00, 11.53it/s]\n",
      "Iteration:  88%|████████▊ | 881/1004 [00:43<00:05, 21.74it/s]"
     ]
    },
    {
     "name": "stdout",
     "output_type": "stream",
     "text": [
      "Evaluating...\n"
     ]
    },
    {
     "name": "stderr",
     "output_type": "stream",
     "text": [
      "Iteration:  41%|████      | 407/1004 [00:33<00:52, 11.44it/s]]\n",
      "Iteration:  47%|████▋     | 471/1004 [00:39<00:43, 12.15it/s]\n",
      "Iteration:  30%|███       | 302/1004 [00:14<00:32, 21.49it/s]"
     ]
    },
    {
     "name": "stdout",
     "output_type": "stream",
     "text": [
      "{'Train':  best_epoch_indx:50\n",
      " auc:0.9368748259387423 \n",
      " apur:0.4913785393769184 \n",
      " f1:0.33259111151504134 \n",
      " precision:0.20273115062877403 \n",
      " recall:0.9252844500632111 \n",
      ", 'Validation':  best_epoch_indx:50\n",
      " auc:0.890176038137511 \n",
      " apur:0.3800582064404926 \n",
      " f1:0.2981074168797954 \n",
      " precision:0.18173880503929152 \n",
      " recall:0.8287827076222981 \n",
      "}\n",
      "=====Epoch 51\n",
      "Training...\n"
     ]
    },
    {
     "name": "stderr",
     "output_type": "stream",
     "text": [
      "Iteration:  73%|███████▎  | 729/1004 [00:35<00:13, 20.17it/s]]\n",
      "Iteration:  84%|████████▍ | 843/1004 [00:40<00:07, 21.04it/s]"
     ]
    },
    {
     "name": "stdout",
     "output_type": "stream",
     "text": [
      "{'Train':  best_epoch_indx:50\n",
      " auc:0.929633663166043 \n",
      " apur:0.4645244417898729 \n",
      " f1:0.3022417085071777 \n",
      " precision:0.17986485186610235 \n",
      " recall:0.9456349958910172 \n",
      ", 'Validation':  best_epoch_indx:50\n",
      " auc:0.8897205789766058 \n",
      " apur:0.3641003554147524 \n",
      " f1:0.2734550688135288 \n",
      " precision:0.1624105139437974 \n",
      " recall:0.8646188850967008 \n",
      "}\n",
      "=====Epoch 51\n",
      "Training...\n"
     ]
    },
    {
     "name": "stderr",
     "output_type": "stream",
     "text": [
      "\n",
      "Iteration:  85%|████████▌ | 856/1004 [00:40<00:08, 17.76it/s]]\n",
      "Iteration:  95%|█████████▌| 954/1004 [00:46<00:02, 18.15it/s]\n",
      "Iteration:   0%|          | 1/1004 [00:00<02:13,  7.50it/s]s]"
     ]
    },
    {
     "name": "stdout",
     "output_type": "stream",
     "text": [
      "{'Train':  best_epoch_indx:50\n",
      " auc:0.9292150581962244 \n",
      " apur:0.4645756364329372 \n",
      " f1:0.31183240519756034 \n",
      " precision:0.18735580906251992 \n",
      " recall:0.9291403286978508 \n",
      ", 'Validation':  best_epoch_indx:50\n",
      " auc:0.8903499005941381 \n",
      " apur:0.37199770348738803 \n",
      " f1:0.2871902803023056 \n",
      " precision:0.1726279470960322 \n",
      " recall:0.853811149032992 \n",
      "}\n",
      "=====Epoch 51\n",
      "Training...\n"
     ]
    },
    {
     "name": "stderr",
     "output_type": "stream",
     "text": [
      "Iteration:  90%|█████████ | 906/1004 [01:16<00:07, 12.61it/s]]\n",
      "Iteration:  11%|█         | 110/1004 [00:10<01:27, 10.17it/s]\n",
      "Iteration:  31%|███▏      | 315/1004 [00:26<00:55, 12.39it/s]"
     ]
    },
    {
     "name": "stdout",
     "output_type": "stream",
     "text": [
      "{'Train':  best_epoch_indx:50\n",
      " auc:0.9330196722815309 \n",
      " apur:0.4695161985220448 \n",
      " f1:0.3194319864264641 \n",
      " precision:0.19265313571363393 \n",
      " recall:0.934197218710493 \n",
      ", 'Validation':  best_epoch_indx:50\n",
      " auc:0.8928201884810079 \n",
      " apur:0.38505737753756186 \n",
      " f1:0.28939096267190567 \n",
      " precision:0.1748990738541914 \n",
      " recall:0.8378839590443686 \n",
      "}\n",
      "=====Epoch 51\n",
      "Training...\n"
     ]
    },
    {
     "name": "stderr",
     "output_type": "stream",
     "text": [
      "Iteration: 100%|██████████| 1004/1004 [01:24<00:00, 11.90it/s]\n",
      "Iteration:   0%|          | 0/1004 [00:00<?, ?it/s]"
     ]
    },
    {
     "name": "stdout",
     "output_type": "stream",
     "text": [
      "Evaluating...\n"
     ]
    },
    {
     "name": "stderr",
     "output_type": "stream",
     "text": [
      "Iteration: 100%|██████████| 1004/1004 [01:25<00:00, 11.72it/s]\n",
      "Iteration:   0%|          | 0/1004 [00:00<?, ?it/s]"
     ]
    },
    {
     "name": "stdout",
     "output_type": "stream",
     "text": [
      "Evaluating...\n"
     ]
    },
    {
     "name": "stderr",
     "output_type": "stream",
     "text": [
      "Iteration: 100%|█████████▉| 1001/1004 [01:22<00:00, 11.94it/s]\n",
      "Iteration: 100%|██████████| 1004/1004 [01:22<00:00, 12.13it/s]\n",
      "Iteration:  79%|███████▉  | 796/1004 [01:07<00:17, 11.72it/s]"
     ]
    },
    {
     "name": "stdout",
     "output_type": "stream",
     "text": [
      "Evaluating...\n"
     ]
    },
    {
     "name": "stderr",
     "output_type": "stream",
     "text": [
      "Iteration:  71%|███████   | 708/1004 [01:03<00:24, 12.20it/s]\n",
      "Iteration:  71%|███████   | 710/1004 [01:03<00:24, 12.20it/s]"
     ]
    },
    {
     "name": "stdout",
     "output_type": "stream",
     "text": [
      "{'Train':  best_epoch_indx:51\n",
      " auc:0.929539392029054 \n",
      " apur:0.45249337798456046 \n",
      " f1:0.30600165605225765 \n",
      " precision:0.18251548704941223 \n",
      " recall:0.9461407168594728 \n",
      ", 'Validation':  best_epoch_indx:51\n",
      " auc:0.8932621438488995 \n",
      " apur:0.38059676287567573 \n",
      " f1:0.28363970588235293 \n",
      " precision:0.1691515018636264 \n",
      " recall:0.8777019340159272 \n",
      "}\n",
      "=====Epoch 52\n",
      "Training...\n"
     ]
    },
    {
     "name": "stderr",
     "output_type": "stream",
     "text": [
      "Iteration: 100%|██████████| 1004/1004 [01:26<00:00, 11.61it/s]\n",
      "Iteration:  15%|█▌        | 155/1004 [00:12<01:09, 12.20it/s]"
     ]
    },
    {
     "name": "stdout",
     "output_type": "stream",
     "text": [
      "Evaluating...\n"
     ]
    },
    {
     "name": "stderr",
     "output_type": "stream",
     "text": [
      "Iteration: 100%|██████████| 1004/1004 [01:28<00:00, 11.29it/s]\n",
      "Iteration: 100%|█████████▉| 1000/1004 [00:46<00:00, 22.25it/s]"
     ]
    },
    {
     "name": "stdout",
     "output_type": "stream",
     "text": [
      "Evaluating...\n"
     ]
    },
    {
     "name": "stderr",
     "output_type": "stream",
     "text": [
      "Iteration:   5%|▍         | 50/1004 [00:02<00:45, 20.75it/s]]]\n",
      "Iteration:  87%|████████▋ | 872/1004 [00:41<00:06, 20.72it/s]\n",
      "Iteration:  46%|████▌     | 459/1004 [00:22<00:26, 20.34it/s]"
     ]
    },
    {
     "name": "stdout",
     "output_type": "stream",
     "text": [
      "{'Train':  best_epoch_indx:51\n",
      " auc:0.934672026711985 \n",
      " apur:0.47892320348725637 \n",
      " f1:0.30062509953814304 \n",
      " precision:0.1784060299607769 \n",
      " recall:0.954551201011378 \n",
      ", 'Validation':  best_epoch_indx:51\n",
      " auc:0.890093211882821 \n",
      " apur:0.37803647371752114 \n",
      " f1:0.2729649328405301 \n",
      " precision:0.1621853240492769 \n",
      " recall:0.8612059158134243 \n",
      "}\n",
      "=====Epoch 52\n",
      "Training...\n"
     ]
    },
    {
     "name": "stderr",
     "output_type": "stream",
     "text": [
      "Iteration:  49%|████▉     | 496/1004 [00:43<00:42, 12.04it/s]]\n",
      "Iteration:  20%|██        | 203/1004 [00:16<01:05, 12.24it/s]\n",
      "Iteration:  59%|█████▉    | 592/1004 [00:51<00:33, 12.22it/s]"
     ]
    },
    {
     "name": "stdout",
     "output_type": "stream",
     "text": [
      "{'Train':  best_epoch_indx:51\n",
      " auc:0.9261729342169256 \n",
      " apur:0.4504106648059174 \n",
      " f1:0.2954261335449945 \n",
      " precision:0.1752127196337574 \n",
      " recall:0.9411467222959732 \n",
      ", 'Validation':  best_epoch_indx:51\n",
      " auc:0.8891350706622533 \n",
      " apur:0.3573787962212979 \n",
      " f1:0.2699982341515098 \n",
      " precision:0.15980351170568563 \n",
      " recall:0.8697383390216155 \n",
      "}\n",
      "=====Epoch 52\n",
      "Training...\n"
     ]
    },
    {
     "name": "stderr",
     "output_type": "stream",
     "text": [
      "Iteration:  74%|███████▎  | 738/1004 [01:03<00:21, 12.23it/s]]\n",
      "Iteration:  23%|██▎       | 230/1004 [00:19<01:02, 12.31it/s]\n",
      "Iteration:   0%|          | 1/1004 [00:00<01:48,  9.26it/s]s]"
     ]
    },
    {
     "name": "stdout",
     "output_type": "stream",
     "text": [
      "{'Train':  best_epoch_indx:51\n",
      " auc:0.9267019380793546 \n",
      " apur:0.4554248317881193 \n",
      " f1:0.28537281721001256 \n",
      " precision:0.16787750956956488 \n",
      " recall:0.9508849557522124 \n",
      ", 'Validation':  best_epoch_indx:51\n",
      " auc:0.8893390452314078 \n",
      " apur:0.3651956632750757 \n",
      " f1:0.2659710938168135 \n",
      " precision:0.15651736285858078 \n",
      " recall:0.8845278725824801 \n",
      "}\n",
      "=====Epoch 52\n",
      "Training...\n"
     ]
    },
    {
     "name": "stderr",
     "output_type": "stream",
     "text": [
      "Iteration:  48%|████▊     | 486/1004 [00:41<00:42, 12.31it/s]]\n",
      "Iteration:  37%|███▋      | 374/1004 [00:31<00:56, 11.22it/s]"
     ]
    },
    {
     "name": "stdout",
     "output_type": "stream",
     "text": [
      "{'Train':  best_epoch_indx:51\n",
      " auc:0.9249641583890984 \n",
      " apur:0.4357671111866456 \n",
      " f1:0.30955331702098365 \n",
      " precision:0.18593406034076884 \n",
      " recall:0.9236409608091024 \n",
      ", 'Validation':  best_epoch_indx:51\n",
      " auc:0.8871769758121855 \n",
      " apur:0.3658533985900327 \n",
      " f1:0.28286699885013417 \n",
      " precision:0.17008527310440194 \n",
      " recall:0.8395904436860068 \n",
      "}\n",
      "=====Epoch 52\n",
      "Training...\n"
     ]
    },
    {
     "name": "stderr",
     "output_type": "stream",
     "text": [
      "\n",
      "Iteration: 100%|██████████| 1004/1004 [01:25<00:00, 11.76it/s]\n",
      "Iteration:  60%|█████▉    | 602/1004 [00:50<00:32, 12.29it/s]"
     ]
    },
    {
     "name": "stdout",
     "output_type": "stream",
     "text": [
      "Evaluating...\n"
     ]
    },
    {
     "name": "stderr",
     "output_type": "stream",
     "text": [
      "Iteration: 100%|██████████| 1004/1004 [01:23<00:00, 12.07it/s]\n",
      "Iteration:  57%|█████▋    | 577/1004 [00:47<00:34, 12.37it/s]"
     ]
    },
    {
     "name": "stdout",
     "output_type": "stream",
     "text": [
      "Evaluating...\n"
     ]
    },
    {
     "name": "stderr",
     "output_type": "stream",
     "text": [
      "Iteration:  95%|█████████▌| 957/1004 [01:22<00:03, 12.39it/s]]\n",
      "Iteration: 100%|██████████| 1004/1004 [01:26<00:00, 11.64it/s]\n",
      "Iteration:  43%|████▎     | 434/1004 [00:19<00:27, 20.95it/s]"
     ]
    },
    {
     "name": "stdout",
     "output_type": "stream",
     "text": [
      "Evaluating...\n"
     ]
    },
    {
     "name": "stderr",
     "output_type": "stream",
     "text": [
      "Iteration:   4%|▎         | 36/1004 [00:01<00:45, 21.06it/s]]\n",
      "Iteration:  84%|████████▍ | 841/1004 [01:08<00:14, 11.23it/s]"
     ]
    },
    {
     "name": "stdout",
     "output_type": "stream",
     "text": [
      "{'Train':  best_epoch_indx:52\n",
      " auc:0.927288623290007 \n",
      " apur:0.4402335398508571 \n",
      " f1:0.29848242811501596 \n",
      " precision:0.1772328997759097 \n",
      " recall:0.9449396295593906 \n",
      ", 'Validation':  best_epoch_indx:52\n",
      " auc:0.8953372954987381 \n",
      " apur:0.37477189131458044 \n",
      " f1:0.28064487075565164 \n",
      " precision:0.16672017121455324 \n",
      " recall:0.8862343572241184 \n",
      "}\n",
      "=====Epoch 53\n",
      "Training...\n"
     ]
    },
    {
     "name": "stderr",
     "output_type": "stream",
     "text": [
      "Iteration: 100%|██████████| 1004/1004 [01:22<00:00, 12.19it/s]\n",
      "Iteration:  75%|███████▌  | 754/1004 [00:35<00:11, 21.57it/s]"
     ]
    },
    {
     "name": "stdout",
     "output_type": "stream",
     "text": [
      "Evaluating...\n"
     ]
    },
    {
     "name": "stderr",
     "output_type": "stream",
     "text": [
      "Iteration:  89%|████████▉ | 895/1004 [01:23<00:10, 10.21it/s]]\n",
      "Iteration:  73%|███████▎  | 736/1004 [00:34<00:12, 21.59it/s]\n",
      "Iteration:  42%|████▏     | 425/1004 [00:19<00:26, 21.78it/s]"
     ]
    },
    {
     "name": "stdout",
     "output_type": "stream",
     "text": [
      "{'Train':  best_epoch_indx:52\n",
      " auc:0.9311253614593459 \n",
      " apur:0.4653769045002387 \n",
      " f1:0.3067207010758882 \n",
      " precision:0.1831650328001769 \n",
      " recall:0.9424778761061947 \n",
      ", 'Validation':  best_epoch_indx:52\n",
      " auc:0.8852980912509707 \n",
      " apur:0.3596511899812639 \n",
      " f1:0.2754146974330461 \n",
      " precision:0.16450791542123325 \n",
      " recall:0.8452787258248009 \n",
      "}\n",
      "=====Epoch 53\n",
      "Training...\n"
     ]
    },
    {
     "name": "stderr",
     "output_type": "stream",
     "text": [
      "Iteration: 100%|██████████| 1004/1004 [01:33<00:00, 10.70it/s]\n",
      "Iteration:  52%|█████▏    | 518/1004 [00:23<00:22, 21.95it/s]"
     ]
    },
    {
     "name": "stdout",
     "output_type": "stream",
     "text": [
      "Evaluating...\n"
     ]
    },
    {
     "name": "stderr",
     "output_type": "stream",
     "text": [
      "Iteration:  73%|███████▎  | 728/1004 [00:33<00:13, 19.91it/s]]\n",
      "Iteration:  23%|██▎       | 235/1004 [00:19<01:00, 12.65it/s]\n",
      "Iteration:  60%|█████▉    | 598/1004 [00:52<00:39, 10.18it/s]"
     ]
    },
    {
     "name": "stdout",
     "output_type": "stream",
     "text": [
      "{'Train':  best_epoch_indx:52\n",
      " auc:0.9200391457104339 \n",
      " apur:0.4179977554725788 \n",
      " f1:0.3230223181980037 \n",
      " precision:0.19737507018528916 \n",
      " recall:0.8888678171818699 \n",
      ", 'Validation':  best_epoch_indx:52\n",
      " auc:0.8821704692271078 \n",
      " apur:0.3420249199954276 \n",
      " f1:0.289223211544366 \n",
      " precision:0.1763384500187196 \n",
      " recall:0.8037542662116041 \n",
      "}\n",
      "=====Epoch 53\n",
      "Training...\n"
     ]
    },
    {
     "name": "stderr",
     "output_type": "stream",
     "text": [
      "Iteration:  71%|███████▏  | 717/1004 [01:03<00:24, 11.93it/s]]\n",
      "Iteration:  61%|██████▏   | 615/1004 [00:31<00:19, 19.83it/s]\n",
      "Iteration:  20%|█▉        | 199/1004 [00:16<01:06, 12.14it/s]"
     ]
    },
    {
     "name": "stdout",
     "output_type": "stream",
     "text": [
      "{'Train':  best_epoch_indx:52\n",
      " auc:0.92247394772117 \n",
      " apur:0.4334094410769302 \n",
      " f1:0.3122049898853675 \n",
      " precision:0.1885426792423088 \n",
      " recall:0.9072692793931731 \n",
      ", 'Validation':  best_epoch_indx:52\n",
      " auc:0.8842742255893236 \n",
      " apur:0.35796889430905543 \n",
      " f1:0.28383808683720474 \n",
      " precision:0.1714624037892244 \n",
      " recall:0.8236632536973834 \n",
      "}\n",
      "=====Epoch 53\n",
      "Training...\n"
     ]
    },
    {
     "name": "stderr",
     "output_type": "stream",
     "text": [
      "Iteration:  21%|██        | 207/1004 [00:17<01:06, 12.07it/s]]\n",
      "Iteration:  21%|██        | 209/1004 [00:18<01:05, 12.07it/s]"
     ]
    },
    {
     "name": "stdout",
     "output_type": "stream",
     "text": [
      "Evaluating...\n"
     ]
    },
    {
     "name": "stderr",
     "output_type": "stream",
     "text": [
      "Iteration:  71%|███████▏  | 717/1004 [00:59<00:23, 12.03it/s]]\n",
      "Iteration:  33%|███▎      | 333/1004 [00:28<00:55, 12.12it/s]\n",
      "Iteration:  55%|█████▍    | 551/1004 [00:44<00:36, 12.43it/s]"
     ]
    },
    {
     "name": "stdout",
     "output_type": "stream",
     "text": [
      "{'Train':  best_epoch_indx:52\n",
      " auc:0.9207268851744512 \n",
      " apur:0.42195256960717675 \n",
      " f1:0.31794571987498027 \n",
      " precision:0.19336487706151026 \n",
      " recall:0.8938053097345132 \n",
      ", 'Validation':  best_epoch_indx:52\n",
      " auc:0.888188880971449 \n",
      " apur:0.3565148826084171 \n",
      " f1:0.29598525194592384 \n",
      " precision:0.18048963277541843 \n",
      " recall:0.8219567690557452 \n",
      "}\n",
      "=====Epoch 53\n",
      "Training...\n"
     ]
    },
    {
     "name": "stderr",
     "output_type": "stream",
     "text": [
      "Iteration: 100%|██████████| 1004/1004 [01:22<00:00, 12.13it/s]\n",
      "Iteration:  57%|█████▋    | 568/1004 [00:28<00:23, 18.24it/s]"
     ]
    },
    {
     "name": "stdout",
     "output_type": "stream",
     "text": [
      "Evaluating...\n"
     ]
    },
    {
     "name": "stderr",
     "output_type": "stream",
     "text": [
      "Iteration: 100%|██████████| 1004/1004 [01:21<00:00, 12.37it/s]\n",
      "Iteration:  94%|█████████▍| 947/1004 [00:47<00:02, 20.49it/s]"
     ]
    },
    {
     "name": "stdout",
     "output_type": "stream",
     "text": [
      "Evaluating...\n"
     ]
    },
    {
     "name": "stderr",
     "output_type": "stream",
     "text": [
      "Iteration:  12%|█▏        | 117/1004 [00:05<00:46, 18.99it/s]]\n",
      "Iteration:  23%|██▎       | 232/1004 [00:10<00:36, 21.42it/s]\n",
      "Iteration:  23%|██▎       | 235/1004 [00:11<00:35, 21.37it/s]"
     ]
    },
    {
     "name": "stdout",
     "output_type": "stream",
     "text": [
      "{'Train':  best_epoch_indx:53\n",
      " auc:0.9221535159639356 \n",
      " apur:0.42506166006207324 \n",
      " f1:0.2963268343204191 \n",
      " precision:0.17618854027166636 \n",
      " recall:0.9314748087742588 \n",
      ", 'Validation':  best_epoch_indx:53\n",
      " auc:0.8893305661055622 \n",
      " apur:0.3676031446614738 \n",
      " f1:0.27666123483613975 \n",
      " precision:0.1645133505598622 \n",
      " recall:0.8691695108077361 \n",
      "}\n",
      "=====Epoch 54\n",
      "Training...\n"
     ]
    },
    {
     "name": "stderr",
     "output_type": "stream",
     "text": [
      "Iteration: 100%|██████████| 1004/1004 [01:25<00:00, 11.81it/s]\n",
      "Iteration:   0%|          | 0/1004 [00:00<?, ?it/s]"
     ]
    },
    {
     "name": "stdout",
     "output_type": "stream",
     "text": [
      "Evaluating...\n"
     ]
    },
    {
     "name": "stderr",
     "output_type": "stream",
     "text": [
      "Iteration:  38%|███▊      | 381/1004 [00:18<00:30, 20.74it/s]]\n",
      "Iteration:  90%|████████▉ | 902/1004 [00:43<00:04, 21.55it/s]\n",
      "Iteration:  88%|████████▊ | 883/1004 [01:20<00:11, 10.36it/s]"
     ]
    },
    {
     "name": "stdout",
     "output_type": "stream",
     "text": [
      "{'Train':  best_epoch_indx:53\n",
      " auc:0.919295710349765 \n",
      " apur:0.4353780376562414 \n",
      " f1:0.2885521985352982 \n",
      " precision:0.17101486627382528 \n",
      " recall:0.92275600505689 \n",
      ", 'Validation':  best_epoch_indx:53\n",
      " auc:0.882150603846555 \n",
      " apur:0.35459418983639324 \n",
      " f1:0.26952744037591986 \n",
      " precision:0.15964709589328852 \n",
      " recall:0.8646188850967008 \n",
      "}\n",
      "=====Epoch 54\n",
      "Training...\n"
     ]
    },
    {
     "name": "stderr",
     "output_type": "stream",
     "text": [
      "Iteration:  61%|██████    | 614/1004 [00:30<00:18, 20.65it/s]]\n",
      "Iteration: 100%|██████████| 1004/1004 [01:31<00:00, 10.93it/s]\n",
      "Iteration:  71%|███████   | 715/1004 [00:35<00:14, 20.54it/s]"
     ]
    },
    {
     "name": "stdout",
     "output_type": "stream",
     "text": [
      "Evaluating...\n"
     ]
    },
    {
     "name": "stderr",
     "output_type": "stream",
     "text": [
      "Iteration:   1%|▏         | 14/1004 [00:00<00:45, 21.62it/s]]"
     ]
    },
    {
     "name": "stdout",
     "output_type": "stream",
     "text": [
      "{'Train':  best_epoch_indx:53\n",
      " auc:0.9200160448777138 \n",
      " apur:0.42869548771193994 \n",
      " f1:0.30667945030361143 \n",
      " precision:0.18441788061651998 \n",
      " recall:0.9099184524938365 \n",
      ", 'Validation':  best_epoch_indx:53\n",
      " auc:0.88297793324098 \n",
      " apur:0.3436422137220809 \n",
      " f1:0.28045540796963947 \n",
      " precision:0.16829879298565248 \n",
      " recall:0.8407281001137656 \n",
      "}\n",
      "=====Epoch 54\n",
      "Training...\n"
     ]
    },
    {
     "name": "stderr",
     "output_type": "stream",
     "text": [
      "\n",
      "Iteration:  73%|███████▎  | 731/1004 [01:01<00:21, 12.75it/s]]\n",
      "Iteration:  26%|██▌       | 263/1004 [00:21<00:58, 12.75it/s]\n",
      "Iteration:  45%|████▌     | 455/1004 [00:22<00:26, 20.82it/s]"
     ]
    },
    {
     "name": "stdout",
     "output_type": "stream",
     "text": [
      "{'Train':  best_epoch_indx:53\n",
      " auc:0.9187519560217641 \n",
      " apur:0.42422108820114335 \n",
      " f1:0.307345506070267 \n",
      " precision:0.18510712577095645 \n",
      " recall:0.9049304677623262 \n",
      ", 'Validation':  best_epoch_indx:53\n",
      " auc:0.8806545540604298 \n",
      " apur:0.34568791242201047 \n",
      " f1:0.2811800214195307 \n",
      " precision:0.16962292963702572 \n",
      " recall:0.8213879408418657 \n",
      "}\n",
      "=====Epoch 54\n",
      "Training...\n"
     ]
    },
    {
     "name": "stderr",
     "output_type": "stream",
     "text": [
      "Iteration: 100%|██████████| 1004/1004 [01:23<00:00, 12.08it/s]\n",
      "Iteration:  20%|██        | 201/1004 [00:16<01:20, 10.00it/s]"
     ]
    },
    {
     "name": "stdout",
     "output_type": "stream",
     "text": [
      "Evaluating...\n"
     ]
    },
    {
     "name": "stderr",
     "output_type": "stream",
     "text": [
      "Iteration:  79%|███████▉  | 795/1004 [01:04<00:17, 11.96it/s]]\n",
      "Iteration:  86%|████████▌ | 863/1004 [01:10<00:11, 12.22it/s]\n",
      "Iteration:  42%|████▏     | 426/1004 [00:19<00:27, 21.20it/s]"
     ]
    },
    {
     "name": "stdout",
     "output_type": "stream",
     "text": [
      "{'Train':  best_epoch_indx:53\n",
      " auc:0.9186056060086187 \n",
      " apur:0.41544705195210374 \n",
      " f1:0.30182099152153025 \n",
      " precision:0.18077096257754652 \n",
      " recall:0.913590391908976 \n",
      ", 'Validation':  best_epoch_indx:53\n",
      " auc:0.8876146422677443 \n",
      " apur:0.36242414338929707 \n",
      " f1:0.279404795753957 \n",
      " precision:0.16763334470601615 \n",
      " recall:0.838452787258248 \n",
      "}\n",
      "=====Epoch 54\n",
      "Training...\n"
     ]
    },
    {
     "name": "stderr",
     "output_type": "stream",
     "text": [
      "Iteration: 100%|██████████| 1004/1004 [01:21<00:00, 12.27it/s]\n",
      "Iteration:   0%|          | 2/1004 [00:00<01:03, 15.87it/s]s]"
     ]
    },
    {
     "name": "stdout",
     "output_type": "stream",
     "text": [
      "Evaluating...\n"
     ]
    },
    {
     "name": "stderr",
     "output_type": "stream",
     "text": [
      "Iteration: 100%|██████████| 1004/1004 [01:21<00:00, 12.34it/s]\n",
      "Iteration:  27%|██▋       | 269/1004 [00:12<00:33, 22.02it/s]"
     ]
    },
    {
     "name": "stdout",
     "output_type": "stream",
     "text": [
      "Evaluating...\n"
     ]
    },
    {
     "name": "stderr",
     "output_type": "stream",
     "text": [
      "Iteration:  38%|███▊      | 383/1004 [00:17<00:29, 21.15it/s]]\n",
      "Iteration:  82%|████████▏ | 819/1004 [01:11<00:15, 11.62it/s]\n",
      "Iteration:  23%|██▎       | 230/1004 [00:10<00:37, 20.85it/s]"
     ]
    },
    {
     "name": "stdout",
     "output_type": "stream",
     "text": [
      "{'Train':  best_epoch_indx:54\n",
      " auc:0.9167849658916445 \n",
      " apur:0.4090293837112764 \n",
      " f1:0.2767131944315373 \n",
      " precision:0.16220161896564872 \n",
      " recall:0.9411467222959732 \n",
      ", 'Validation':  best_epoch_indx:54\n",
      " auc:0.8846196804297325 \n",
      " apur:0.3388679669973394 \n",
      " f1:0.25939192003331946 \n",
      " precision:0.1519469112911096 \n",
      " recall:0.8856655290102389 \n",
      "}\n",
      "=====Epoch 55\n",
      "Training...\n"
     ]
    },
    {
     "name": "stderr",
     "output_type": "stream",
     "text": [
      "Iteration: 100%|██████████| 1004/1004 [01:26<00:00, 11.59it/s]\n",
      "Iteration:   0%|          | 0/1004 [00:00<?, ?it/s]"
     ]
    },
    {
     "name": "stdout",
     "output_type": "stream",
     "text": [
      "Evaluating...\n"
     ]
    },
    {
     "name": "stderr",
     "output_type": "stream",
     "text": [
      "Iteration:  25%|██▍       | 246/1004 [00:12<00:36, 20.95it/s]]\n",
      "Iteration:  75%|███████▌  | 758/1004 [01:07<00:20, 12.21it/s]\n",
      "Iteration:  41%|████      | 407/1004 [00:33<00:51, 11.62it/s]"
     ]
    },
    {
     "name": "stdout",
     "output_type": "stream",
     "text": [
      "{'Train':  best_epoch_indx:54\n",
      " auc:0.920503355022711 \n",
      " apur:0.43493052782479896 \n",
      " f1:0.292708406577401 \n",
      " precision:0.1740054697669975 \n",
      " recall:0.9209860935524652 \n",
      ", 'Validation':  best_epoch_indx:54\n",
      " auc:0.8833265374709889 \n",
      " apur:0.3453698043842657 \n",
      " f1:0.2710859606575047 \n",
      " precision:0.16096 \n",
      " recall:0.8583617747440273 \n",
      "}\n",
      "=====Epoch 55\n",
      "Training...\n"
     ]
    },
    {
     "name": "stderr",
     "output_type": "stream",
     "text": [
      "Iteration:  83%|████████▎ | 832/1004 [01:13<00:14, 11.85it/s]]\n",
      "Iteration:  14%|█▍        | 141/1004 [00:11<01:08, 12.61it/s]\n",
      "Iteration:  14%|█▍        | 143/1004 [00:11<01:08, 12.62it/s]"
     ]
    },
    {
     "name": "stdout",
     "output_type": "stream",
     "text": [
      "{'Train':  best_epoch_indx:54\n",
      " auc:0.9092665039567118 \n",
      " apur:0.3996331749264305 \n",
      " f1:0.28696027894170967 \n",
      " precision:0.1705973715651135 \n",
      " recall:0.9026487135722865 \n",
      ", 'Validation':  best_epoch_indx:54\n",
      " auc:0.876733707570544 \n",
      " apur:0.3269580562473274 \n",
      " f1:0.2655579399141631 \n",
      " precision:0.15754296626352643 \n",
      " recall:0.8447098976109215 \n",
      "}\n",
      "=====Epoch 55\n",
      "Training...\n"
     ]
    },
    {
     "name": "stderr",
     "output_type": "stream",
     "text": [
      "Iteration: 100%|██████████| 1004/1004 [01:28<00:00, 11.32it/s]\n",
      "Iteration:   0%|          | 2/1004 [00:00<01:01, 16.22it/s]s]"
     ]
    },
    {
     "name": "stdout",
     "output_type": "stream",
     "text": [
      "Evaluating...\n"
     ]
    },
    {
     "name": "stderr",
     "output_type": "stream",
     "text": [
      "Iteration:  27%|██▋       | 268/1004 [00:12<00:38, 19.22it/s]]\n",
      "Iteration:  28%|██▊       | 284/1004 [00:27<01:08, 10.57it/s]\n",
      "Iteration:  87%|████████▋ | 873/1004 [01:12<00:10, 12.46it/s]"
     ]
    },
    {
     "name": "stdout",
     "output_type": "stream",
     "text": [
      "{'Train':  best_epoch_indx:54\n",
      " auc:0.9058743302340623 \n",
      " apur:0.3776797590592359 \n",
      " f1:0.2877686151846285 \n",
      " precision:0.17142580582712225 \n",
      " recall:0.8955752212389381 \n",
      ", 'Validation':  best_epoch_indx:54\n",
      " auc:0.8728373204426215 \n",
      " apur:0.3239860793118266 \n",
      " f1:0.2676573105852137 \n",
      " precision:0.15955818022747156 \n",
      " recall:0.8299203640500569 \n",
      "}\n",
      "=====Epoch 55\n",
      "Training...\n"
     ]
    },
    {
     "name": "stderr",
     "output_type": "stream",
     "text": [
      "Iteration: 100%|██████████| 1004/1004 [01:22<00:00, 12.11it/s]\n",
      "Iteration:  61%|██████▏   | 615/1004 [00:49<00:32, 11.90it/s]"
     ]
    },
    {
     "name": "stdout",
     "output_type": "stream",
     "text": [
      "Evaluating...\n"
     ]
    },
    {
     "name": "stderr",
     "output_type": "stream",
     "text": [
      "Iteration:  51%|█████     | 512/1004 [00:24<00:23, 21.28it/s]]\n",
      "Iteration:  92%|█████████▏| 919/1004 [01:19<00:08, 10.19it/s]\n",
      "Iteration:  92%|█████████▏| 921/1004 [01:19<00:08, 10.27it/s]"
     ]
    },
    {
     "name": "stdout",
     "output_type": "stream",
     "text": [
      "{'Train':  best_epoch_indx:54\n",
      " auc:0.918362671767134 \n",
      " apur:0.4096180195682103 \n",
      " f1:0.2720405301488216 \n",
      " precision:0.15873937602280525 \n",
      " recall:0.9503792667509482 \n",
      ", 'Validation':  best_epoch_indx:54\n",
      " auc:0.8818932601339821 \n",
      " apur:0.3457685848345425 \n",
      " f1:0.2548490056469433 \n",
      " precision:0.14883854316030973 \n",
      " recall:0.8856655290102389 \n",
      "}\n",
      "=====Epoch 55\n",
      "Training...\n"
     ]
    },
    {
     "name": "stderr",
     "output_type": "stream",
     "text": [
      "Iteration: 100%|██████████| 1004/1004 [01:26<00:00, 11.56it/s]\n",
      "Iteration:  57%|█████▋    | 577/1004 [00:47<00:34, 12.36it/s]"
     ]
    },
    {
     "name": "stdout",
     "output_type": "stream",
     "text": [
      "Evaluating...\n"
     ]
    },
    {
     "name": "stderr",
     "output_type": "stream",
     "text": [
      "Iteration:  27%|██▋       | 269/1004 [00:12<00:34, 21.22it/s]]\n",
      "Iteration: 100%|██████████| 1004/1004 [01:27<00:00, 11.44it/s]\n",
      "Iteration:  70%|███████   | 705/1004 [01:00<00:27, 11.06it/s]"
     ]
    },
    {
     "name": "stdout",
     "output_type": "stream",
     "text": [
      "Evaluating...\n"
     ]
    },
    {
     "name": "stderr",
     "output_type": "stream",
     "text": [
      "Iteration:  12%|█▏        | 118/1004 [00:05<00:41, 21.38it/s]\n",
      "Iteration:   0%|          | 1/1004 [00:00<01:53,  8.81it/s]s]"
     ]
    },
    {
     "name": "stdout",
     "output_type": "stream",
     "text": [
      "{'Train':  best_epoch_indx:55\n",
      " auc:0.9184410038042166 \n",
      " apur:0.4255526995750027 \n",
      " f1:0.300160046558999 \n",
      " precision:0.17960772607987263 \n",
      " recall:0.9128895631835134 \n",
      ", 'Validation':  best_epoch_indx:55\n",
      " auc:0.8868022343402838 \n",
      " apur:0.3548790879300838 \n",
      " f1:0.28032848077640915 \n",
      " precision:0.16767135521321724 \n",
      " recall:0.8543799772468714 \n",
      "}\n",
      "=====Epoch 56\n",
      "Training...\n"
     ]
    },
    {
     "name": "stderr",
     "output_type": "stream",
     "text": [
      "Iteration: 100%|██████████| 1004/1004 [01:28<00:00, 11.28it/s]\n",
      "Iteration:  54%|█████▍    | 543/1004 [00:48<00:38, 12.09it/s]"
     ]
    },
    {
     "name": "stdout",
     "output_type": "stream",
     "text": [
      "Evaluating...\n"
     ]
    },
    {
     "name": "stderr",
     "output_type": "stream",
     "text": [
      "Iteration:  17%|█▋        | 171/1004 [00:08<00:38, 21.64it/s]]\n",
      "Iteration:  29%|██▊       | 288/1004 [00:13<00:32, 21.92it/s]"
     ]
    },
    {
     "name": "stdout",
     "output_type": "stream",
     "text": [
      "{'Train':  best_epoch_indx:55\n",
      " auc:0.9197466206302061 \n",
      " apur:0.42012168995824645 \n",
      " f1:0.3142926915904449 \n",
      " precision:0.19062045564711586 \n",
      " recall:0.8948798988621998 \n",
      ", 'Validation':  best_epoch_indx:55\n",
      " auc:0.8820842782399395 \n",
      " apur:0.34009321262256115 \n",
      " f1:0.28811692862148364 \n",
      " precision:0.17482687401287814 \n",
      " recall:0.8185437997724687 \n",
      "}\n",
      "=====Epoch 56\n",
      "Training...\n"
     ]
    },
    {
     "name": "stderr",
     "output_type": "stream",
     "text": [
      "\n",
      "Iteration:  53%|█████▎    | 534/1004 [00:45<00:37, 12.43it/s]]\n",
      "Iteration:  85%|████████▌ | 857/1004 [01:16<00:14, 10.12it/s]\n",
      "Iteration:  60%|██████    | 604/1004 [00:51<00:32, 12.46it/s]"
     ]
    },
    {
     "name": "stdout",
     "output_type": "stream",
     "text": [
      "{'Train':  best_epoch_indx:55\n",
      " auc:0.9143972538810372 \n",
      " apur:0.4138359129605242 \n",
      " f1:0.2852539691839006 \n",
      " precision:0.1686817945608869 \n",
      " recall:0.9233832732789683 \n",
      ", 'Validation':  best_epoch_indx:55\n",
      " auc:0.8812120678005617 \n",
      " apur:0.3361541900232334 \n",
      " f1:0.2640235457063712 \n",
      " precision:0.1557075760669798 \n",
      " recall:0.8674630261660978 \n",
      "}\n",
      "=====Epoch 56\n",
      "Training...\n"
     ]
    },
    {
     "name": "stderr",
     "output_type": "stream",
     "text": [
      "Iteration: 100%|██████████| 1004/1004 [01:31<00:00, 10.99it/s]\n",
      "Iteration:  91%|█████████ | 915/1004 [00:42<00:04, 21.72it/s]"
     ]
    },
    {
     "name": "stdout",
     "output_type": "stream",
     "text": [
      "Evaluating...\n"
     ]
    },
    {
     "name": "stderr",
     "output_type": "stream",
     "text": [
      "Iteration:  22%|██▏       | 225/1004 [00:20<01:01, 12.63it/s]]\n",
      "Iteration:  29%|██▉       | 295/1004 [00:26<00:58, 12.17it/s]\n",
      "Iteration:  47%|████▋     | 473/1004 [00:41<00:50, 10.54it/s]"
     ]
    },
    {
     "name": "stdout",
     "output_type": "stream",
     "text": [
      "{'Train':  best_epoch_indx:55\n",
      " auc:0.9157965555670161 \n",
      " apur:0.4047314274181337 \n",
      " f1:0.2632910063096728 \n",
      " precision:0.1527999268656868 \n",
      " recall:0.9508849557522124 \n",
      ", 'Validation':  best_epoch_indx:55\n",
      " auc:0.8811990575016451 \n",
      " apur:0.34682273140520087 \n",
      " f1:0.24883482107591437 \n",
      " precision:0.14448215760022015 \n",
      " recall:0.8959044368600683 \n",
      "}\n",
      "=====Epoch 56\n",
      "Training...\n"
     ]
    },
    {
     "name": "stderr",
     "output_type": "stream",
     "text": [
      "Iteration: 100%|██████████| 1004/1004 [01:27<00:00, 11.42it/s]\n",
      "Iteration:  42%|████▏     | 421/1004 [00:36<00:46, 12.61it/s]"
     ]
    },
    {
     "name": "stdout",
     "output_type": "stream",
     "text": [
      "Evaluating...\n"
     ]
    },
    {
     "name": "stderr",
     "output_type": "stream",
     "text": [
      "Iteration:  61%|██████▏   | 615/1004 [00:28<00:18, 21.04it/s]]\n",
      "Iteration:  84%|████████▍ | 847/1004 [01:10<00:12, 12.15it/s]\n",
      "Iteration:   0%|          | 1/1004 [00:00<02:10,  7.71it/s]s]"
     ]
    },
    {
     "name": "stdout",
     "output_type": "stream",
     "text": [
      "{'Train':  best_epoch_indx:55\n",
      " auc:0.9023562303368863 \n",
      " apur:0.3732481727882587 \n",
      " f1:0.2583371563679995 \n",
      " precision:0.15012099089492248 \n",
      " recall:0.9254740834386852 \n",
      ", 'Validation':  best_epoch_indx:55\n",
      " auc:0.8713795029900718 \n",
      " apur:0.314356434460667 \n",
      " f1:0.24338456662969415 \n",
      " precision:0.14138438880706922 \n",
      " recall:0.8737201365187713 \n",
      "}\n",
      "=====Epoch 56\n",
      "Training...\n"
     ]
    },
    {
     "name": "stderr",
     "output_type": "stream",
     "text": [
      "Iteration: 100%|██████████| 1004/1004 [01:26<00:00, 11.59it/s]\n",
      "Iteration:   0%|          | 2/1004 [00:00<01:05, 15.35it/s]s]"
     ]
    },
    {
     "name": "stdout",
     "output_type": "stream",
     "text": [
      "Evaluating...\n"
     ]
    },
    {
     "name": "stderr",
     "output_type": "stream",
     "text": [
      "Iteration: 100%|██████████| 1004/1004 [01:26<00:00, 11.58it/s]\n",
      "Iteration:  17%|█▋        | 171/1004 [00:15<01:22, 10.11it/s]"
     ]
    },
    {
     "name": "stdout",
     "output_type": "stream",
     "text": [
      "Evaluating...\n"
     ]
    },
    {
     "name": "stderr",
     "output_type": "stream",
     "text": [
      "Iteration:  32%|███▏      | 326/1004 [00:15<00:32, 20.83it/s]\n",
      "Iteration:  46%|████▌     | 459/1004 [00:21<00:25, 21.57it/s]\n",
      "Iteration:   0%|          | 1/1004 [00:00<01:53,  8.83it/s]s]"
     ]
    },
    {
     "name": "stdout",
     "output_type": "stream",
     "text": [
      "{'Train':  best_epoch_indx:56\n",
      " auc:0.9264620849617272 \n",
      " apur:0.43600250204647434 \n",
      " f1:0.3136478988343585 \n",
      " precision:0.18896821591925056 \n",
      " recall:0.9219293254946583 \n",
      ", 'Validation':  best_epoch_indx:56\n",
      " auc:0.8917532004079168 \n",
      " apur:0.37414740850750156 \n",
      " f1:0.29179978700745474 \n",
      " precision:0.17582545793956364 \n",
      " recall:0.8572241183162684 \n",
      "}\n",
      "=====Epoch 57\n",
      "Training...\n"
     ]
    },
    {
     "name": "stderr",
     "output_type": "stream",
     "text": [
      "Iteration: 100%|██████████| 1004/1004 [01:24<00:00, 11.83it/s]\n",
      "Iteration:  84%|████████▍ | 843/1004 [00:39<00:07, 21.41it/s]"
     ]
    },
    {
     "name": "stdout",
     "output_type": "stream",
     "text": [
      "Evaluating...\n"
     ]
    },
    {
     "name": "stderr",
     "output_type": "stream",
     "text": [
      "Iteration:  21%|██        | 212/1004 [00:10<00:37, 21.15it/s]]\n",
      "Iteration:  85%|████████▍ | 849/1004 [00:40<00:07, 21.03it/s]\n",
      "Iteration:   0%|          | 0/1004 [00:00<?, ?it/s]"
     ]
    },
    {
     "name": "stdout",
     "output_type": "stream",
     "text": [
      "{'Train':  best_epoch_indx:56\n",
      " auc:0.9328401540086386 \n",
      " apur:0.4767718642906159 \n",
      " f1:0.2979359797163458 \n",
      " precision:0.17664537041386763 \n",
      " recall:0.9507585335018963 \n",
      ", 'Validation':  best_epoch_indx:56\n",
      " auc:0.8902957239149248 \n",
      " apur:0.3766512704752582 \n",
      " f1:0.2714438884917798 \n",
      " precision:0.1610133559465762 \n",
      " recall:0.8640500568828214 \n",
      "}\n",
      "=====Epoch 57\n",
      "Training...\n"
     ]
    },
    {
     "name": "stderr",
     "output_type": "stream",
     "text": [
      "Iteration:  53%|█████▎    | 535/1004 [00:43<00:38, 12.32it/s]]\n",
      "Iteration:  61%|██████    | 613/1004 [00:49<00:30, 12.69it/s]\n",
      "Iteration:  80%|████████  | 804/1004 [01:12<00:17, 11.18it/s]"
     ]
    },
    {
     "name": "stdout",
     "output_type": "stream",
     "text": [
      "{'Train':  best_epoch_indx:56\n",
      " auc:0.9210559907457366 \n",
      " apur:0.42896248776186374 \n",
      " f1:0.29284980501281627 \n",
      " precision:0.1738548623940126 \n",
      " recall:0.9280611922371831 \n",
      ", 'Validation':  best_epoch_indx:56\n",
      " auc:0.8841025434793423 \n",
      " apur:0.3428446653406546 \n",
      " f1:0.26994846276879336 \n",
      " precision:0.15996208930075823 \n",
      " recall:0.8640500568828214 \n",
      "}\n",
      "=====Epoch 57\n",
      "Training...\n"
     ]
    },
    {
     "name": "stderr",
     "output_type": "stream",
     "text": [
      "Iteration: 100%|██████████| 1004/1004 [01:30<00:00, 11.09it/s]\n",
      "Iteration:  42%|████▏     | 423/1004 [00:34<00:45, 12.69it/s]"
     ]
    },
    {
     "name": "stdout",
     "output_type": "stream",
     "text": [
      "Evaluating...\n"
     ]
    },
    {
     "name": "stderr",
     "output_type": "stream",
     "text": [
      "Iteration:   7%|▋         | 70/1004 [00:03<00:50, 18.53it/s]]]\n",
      "Iteration:  53%|█████▎    | 535/1004 [00:43<00:38, 12.18it/s]\n",
      "Iteration:   0%|          | 0/1004 [00:00<?, ?it/s]"
     ]
    },
    {
     "name": "stdout",
     "output_type": "stream",
     "text": [
      "{'Train':  best_epoch_indx:56\n",
      " auc:0.9265358020035451 \n",
      " apur:0.4534914025036789 \n",
      " f1:0.3027549342105263 \n",
      " precision:0.18077584090351093 \n",
      " recall:0.9308470290771176 \n",
      ", 'Validation':  best_epoch_indx:56\n",
      " auc:0.8867289549532129 \n",
      " apur:0.3672327162045537 \n",
      " f1:0.2766431489045674 \n",
      " precision:0.16529842467273131 \n",
      " recall:0.8475540386803185 \n",
      "}\n",
      "=====Epoch 57\n",
      "Training...\n"
     ]
    },
    {
     "name": "stderr",
     "output_type": "stream",
     "text": [
      "Iteration: 100%|██████████| 1004/1004 [01:22<00:00, 12.21it/s]\n",
      "Iteration:   6%|▌         | 59/1004 [00:04<01:19, 11.85it/s]]"
     ]
    },
    {
     "name": "stdout",
     "output_type": "stream",
     "text": [
      "Evaluating...\n"
     ]
    },
    {
     "name": "stderr",
     "output_type": "stream",
     "text": [
      "Iteration: 100%|██████████| 1004/1004 [01:26<00:00, 11.65it/s]\n",
      "Iteration:  51%|█████     | 511/1004 [00:42<00:46, 10.70it/s]"
     ]
    },
    {
     "name": "stdout",
     "output_type": "stream",
     "text": [
      "Evaluating...\n"
     ]
    },
    {
     "name": "stderr",
     "output_type": "stream",
     "text": [
      "Iteration:  52%|█████▏    | 523/1004 [00:43<00:44, 10.89it/s]\n",
      "Iteration:  88%|████████▊ | 887/1004 [00:44<00:05, 20.79it/s]\n",
      "Iteration:  59%|█████▊    | 589/1004 [00:49<00:34, 12.09it/s]"
     ]
    },
    {
     "name": "stdout",
     "output_type": "stream",
     "text": [
      "{'Train':  best_epoch_indx:56\n",
      " auc:0.9168012157187251 \n",
      " apur:0.4135069833177887 \n",
      " f1:0.29533615247900963 \n",
      " precision:0.176128749299481 \n",
      " recall:0.9138432364096081 \n",
      ", 'Validation':  best_epoch_indx:56\n",
      " auc:0.8840555807865629 \n",
      " apur:0.36122190712074975 \n",
      " f1:0.2759322661238086 \n",
      " precision:0.16476958779975687 \n",
      " recall:0.8481228668941979 \n",
      "}\n",
      "=====Epoch 57\n",
      "Training...\n"
     ]
    },
    {
     "name": "stderr",
     "output_type": "stream",
     "text": [
      "Iteration: 100%|██████████| 1004/1004 [01:22<00:00, 12.19it/s]\n",
      "Iteration: 100%|█████████▉| 1002/1004 [00:49<00:00, 20.99it/s]"
     ]
    },
    {
     "name": "stdout",
     "output_type": "stream",
     "text": [
      "Evaluating...\n"
     ]
    },
    {
     "name": "stderr",
     "output_type": "stream",
     "text": [
      "Iteration:  69%|██████▊   | 689/1004 [00:57<00:26, 12.08it/s]]\n",
      "Iteration:  75%|███████▌  | 757/1004 [01:02<00:20, 12.16it/s]\n",
      "Iteration:  18%|█▊        | 185/1004 [00:08<00:38, 21.40it/s]"
     ]
    },
    {
     "name": "stdout",
     "output_type": "stream",
     "text": [
      "{'Train':  best_epoch_indx:57\n",
      " auc:0.9350420311462377 \n",
      " apur:0.4768747085946644 \n",
      " f1:0.3099976296723795 \n",
      " precision:0.18518974561036275 \n",
      " recall:0.9507554206966307 \n",
      ", 'Validation':  best_epoch_indx:57\n",
      " auc:0.8963718475507367 \n",
      " apur:0.39609333804661834 \n",
      " f1:0.2859802643827965 \n",
      " precision:0.1709706144256456 \n",
      " recall:0.8737201365187713 \n",
      "}\n",
      "=====Epoch 58\n",
      "Training...\n"
     ]
    },
    {
     "name": "stderr",
     "output_type": "stream",
     "text": [
      "Iteration: 100%|██████████| 1004/1004 [01:23<00:00, 12.10it/s]\n",
      "Iteration:   0%|          | 2/1004 [00:00<01:04, 15.62it/s]s]"
     ]
    },
    {
     "name": "stdout",
     "output_type": "stream",
     "text": [
      "Evaluating...\n"
     ]
    },
    {
     "name": "stderr",
     "output_type": "stream",
     "text": [
      "Iteration:  26%|██▌       | 257/1004 [00:12<00:37, 19.87it/s]]\n",
      "Iteration:  37%|███▋      | 370/1004 [00:17<00:30, 20.90it/s]\n",
      "Iteration:   0%|          | 1/1004 [00:00<01:52,  8.93it/s]s]"
     ]
    },
    {
     "name": "stdout",
     "output_type": "stream",
     "text": [
      "{'Train':  best_epoch_indx:57\n",
      " auc:0.933408897478821 \n",
      " apur:0.47501814300860623 \n",
      " f1:0.3258233783632913 \n",
      " precision:0.19785762711864407 \n",
      " recall:0.9223767383059418 \n",
      ", 'Validation':  best_epoch_indx:57\n",
      " auc:0.8900722069795355 \n",
      " apur:0.3731230541769983 \n",
      " f1:0.29691933522496966 \n",
      " precision:0.18064118372379778 \n",
      " recall:0.8333333333333334 \n",
      "}\n",
      "=====Epoch 58\n",
      "Training...\n"
     ]
    },
    {
     "name": "stderr",
     "output_type": "stream",
     "text": [
      "Iteration:   5%|▌         | 55/1004 [00:04<01:16, 12.43it/s]]]\n",
      "Iteration:  52%|█████▏    | 522/1004 [00:47<00:47, 10.19it/s]\n",
      "Iteration:  12%|█▏        | 123/1004 [00:10<01:13, 11.93it/s]"
     ]
    },
    {
     "name": "stdout",
     "output_type": "stream",
     "text": [
      "{'Train':  best_epoch_indx:57\n",
      " auc:0.9289189072387001 \n",
      " apur:0.4599471381349127 \n",
      " f1:0.3089582200660783 \n",
      " precision:0.18509238960225494 \n",
      " recall:0.934003413616537 \n",
      ", 'Validation':  best_epoch_indx:57\n",
      " auc:0.8911838338368407 \n",
      " apur:0.3701993060711415 \n",
      " f1:0.28368794326241137 \n",
      " precision:0.1696807323063184 \n",
      " recall:0.8646188850967008 \n",
      "}\n",
      "=====Epoch 58\n",
      "Training...\n"
     ]
    },
    {
     "name": "stderr",
     "output_type": "stream",
     "text": [
      "Iteration:  78%|███████▊  | 782/1004 [01:12<00:21, 10.52it/s]]\n",
      "Iteration: 100%|██████████| 1004/1004 [01:26<00:00, 11.56it/s]\n",
      "Iteration:  79%|███████▊  | 790/1004 [01:13<00:20, 10.26it/s]"
     ]
    },
    {
     "name": "stdout",
     "output_type": "stream",
     "text": [
      "Evaluating...\n"
     ]
    },
    {
     "name": "stderr",
     "output_type": "stream",
     "text": [
      "Iteration:   9%|▉         | 94/1004 [00:04<00:53, 16.93it/s]]\n",
      "Iteration:  49%|████▉     | 493/1004 [00:40<00:42, 11.93it/s]"
     ]
    },
    {
     "name": "stdout",
     "output_type": "stream",
     "text": [
      "{'Train':  best_epoch_indx:57\n",
      " auc:0.9309147290729409 \n",
      " apur:0.46434306906226536 \n",
      " f1:0.3049807174933764 \n",
      " precision:0.18193246030486837 \n",
      " recall:0.9422882427307206 \n",
      ", 'Validation':  best_epoch_indx:57\n",
      " auc:0.8890322534103313 \n",
      " apur:0.36775088097468667 \n",
      " f1:0.27777264752054664 \n",
      " precision:0.16580310880829016 \n",
      " recall:0.8555176336746303 \n",
      "}\n",
      "=====Epoch 58\n",
      "Training...\n"
     ]
    },
    {
     "name": "stderr",
     "output_type": "stream",
     "text": [
      "Iteration: 100%|██████████| 1004/1004 [01:31<00:00, 10.96it/s]\n",
      "Iteration:  66%|██████▌   | 661/1004 [00:53<00:28, 12.24it/s]"
     ]
    },
    {
     "name": "stdout",
     "output_type": "stream",
     "text": [
      "Evaluating...\n"
     ]
    },
    {
     "name": "stderr",
     "output_type": "stream",
     "text": [
      "Iteration: 100%|██████████| 1004/1004 [01:21<00:00, 12.27it/s]\n",
      "Iteration:  59%|█████▉    | 591/1004 [00:28<00:20, 19.90it/s]"
     ]
    },
    {
     "name": "stdout",
     "output_type": "stream",
     "text": [
      "Evaluating...\n"
     ]
    },
    {
     "name": "stderr",
     "output_type": "stream",
     "text": [
      "Iteration:  13%|█▎        | 126/1004 [00:05<00:39, 22.01it/s]]\n",
      "Iteration:  82%|████████▏ | 822/1004 [00:39<00:08, 21.09it/s]\n",
      "Iteration:  82%|████████▏ | 825/1004 [00:39<00:08, 21.01it/s]"
     ]
    },
    {
     "name": "stdout",
     "output_type": "stream",
     "text": [
      "{'Train':  best_epoch_indx:57\n",
      " auc:0.9225868124010577 \n",
      " apur:0.4279726097978015 \n",
      " f1:0.30796316648705174 \n",
      " precision:0.18525269900768945 \n",
      " recall:0.9121997471554993 \n",
      ", 'Validation':  best_epoch_indx:57\n",
      " auc:0.8863538366312735 \n",
      " apur:0.34857310442752304 \n",
      " f1:0.28304970675896546 \n",
      " precision:0.17031123452504918 \n",
      " recall:0.8373151308304891 \n",
      "}\n",
      "=====Epoch 58\n",
      "Training...\n"
     ]
    },
    {
     "name": "stderr",
     "output_type": "stream",
     "text": [
      "Iteration: 100%|██████████| 1004/1004 [01:27<00:00, 11.42it/s]\n",
      "Iteration:  92%|█████████▏| 920/1004 [00:44<00:05, 16.63it/s]"
     ]
    },
    {
     "name": "stdout",
     "output_type": "stream",
     "text": [
      "Evaluating...\n"
     ]
    },
    {
     "name": "stderr",
     "output_type": "stream",
     "text": [
      "Iteration:  75%|███████▌  | 754/1004 [01:05<00:24, 10.16it/s]]\n",
      "Iteration:  22%|██▏       | 221/1004 [00:17<01:02, 12.45it/s]"
     ]
    },
    {
     "name": "stdout",
     "output_type": "stream",
     "text": [
      "{'Train':  best_epoch_indx:58\n",
      " auc:0.939545021387038 \n",
      " apur:0.49764414660637935 \n",
      " f1:0.3242805813614734 \n",
      " precision:0.1955113192818111 \n",
      " recall:0.9499336241228902 \n",
      ", 'Validation':  best_epoch_indx:58\n",
      " auc:0.8990063882182753 \n",
      " apur:0.39947336274078016 \n",
      " f1:0.2989268292682927 \n",
      " precision:0.18040508714083844 \n",
      " recall:0.8714448236632537 \n",
      "}\n",
      "=====Epoch 59\n",
      "Training...\n"
     ]
    },
    {
     "name": "stderr",
     "output_type": "stream",
     "text": [
      "\n",
      "Iteration: 100%|██████████| 1004/1004 [01:28<00:00, 11.40it/s]\n",
      "Iteration:   0%|          | 0/1004 [00:00<?, ?it/s]"
     ]
    },
    {
     "name": "stdout",
     "output_type": "stream",
     "text": [
      "Evaluating...\n"
     ]
    },
    {
     "name": "stderr",
     "output_type": "stream",
     "text": [
      "Iteration:  61%|██████    | 608/1004 [00:32<00:21, 18.42it/s]\n",
      "Iteration:  52%|█████▏    | 521/1004 [00:42<00:40, 11.79it/s]\n",
      "Iteration:   0%|          | 0/1004 [00:00<?, ?it/s]"
     ]
    },
    {
     "name": "stdout",
     "output_type": "stream",
     "text": [
      "{'Train':  best_epoch_indx:58\n",
      " auc:0.9430338083310064 \n",
      " apur:0.5143151432059703 \n",
      " f1:0.3392326013378765 \n",
      " precision:0.20692052105489983 \n",
      " recall:0.940834386852086 \n",
      ", 'Validation':  best_epoch_indx:58\n",
      " auc:0.8964150237979004 \n",
      " apur:0.38995728462696755 \n",
      " f1:0.3001953325794181 \n",
      " precision:0.18320993851173298 \n",
      " recall:0.8304891922639362 \n",
      "}\n",
      "=====Epoch 59\n",
      "Training...\n"
     ]
    },
    {
     "name": "stderr",
     "output_type": "stream",
     "text": [
      "Iteration:  51%|█████     | 513/1004 [00:24<00:23, 21.32it/s]]\n",
      "Iteration:  62%|██████▏   | 626/1004 [00:30<00:19, 19.69it/s]\n",
      "Iteration:   0%|          | 1/1004 [00:00<01:49,  9.17it/s]s]"
     ]
    },
    {
     "name": "stdout",
     "output_type": "stream",
     "text": [
      "{'Train':  best_epoch_indx:58\n",
      " auc:0.9353259558453331 \n",
      " apur:0.48011069175039456 \n",
      " f1:0.32851913031831775 \n",
      " precision:0.19947951258522303 \n",
      " recall:0.9303369365952335 \n",
      ", 'Validation':  best_epoch_indx:58\n",
      " auc:0.8940666289529504 \n",
      " apur:0.37897573861110123 \n",
      " f1:0.2921794362842398 \n",
      " precision:0.17696561673479203 \n",
      " recall:0.8373151308304891 \n",
      "}\n",
      "=====Epoch 59\n",
      "Training...\n"
     ]
    },
    {
     "name": "stderr",
     "output_type": "stream",
     "text": [
      "Iteration:  99%|█████████▉| 995/1004 [01:26<00:00, 12.50it/s]]\n",
      "Iteration: 100%|██████████| 1004/1004 [01:26<00:00, 11.55it/s]\n",
      "Iteration:  54%|█████▍    | 545/1004 [00:44<00:36, 12.56it/s]"
     ]
    },
    {
     "name": "stdout",
     "output_type": "stream",
     "text": [
      "Evaluating...\n"
     ]
    },
    {
     "name": "stderr",
     "output_type": "stream",
     "text": [
      "Iteration:  10%|█         | 104/1004 [00:04<00:43, 20.89it/s]\n",
      "Iteration:   0%|          | 1/1004 [00:00<01:57,  8.51it/s]s]"
     ]
    },
    {
     "name": "stdout",
     "output_type": "stream",
     "text": [
      "{'Train':  best_epoch_indx:58\n",
      " auc:0.9333241922508955 \n",
      " apur:0.47830221633253195 \n",
      " f1:0.32024188970877177 \n",
      " precision:0.19354285412708466 \n",
      " recall:0.9272439949431099 \n",
      ", 'Validation':  best_epoch_indx:58\n",
      " auc:0.8898477120285723 \n",
      " apur:0.3849465372491654 \n",
      " f1:0.2907114624505929 \n",
      " precision:0.17591485290600334 \n",
      " recall:0.8367463026166098 \n",
      "}\n",
      "=====Epoch 59\n",
      "Training...\n"
     ]
    },
    {
     "name": "stderr",
     "output_type": "stream",
     "text": [
      "Iteration: 100%|██████████| 1004/1004 [01:22<00:00, 12.24it/s]\n",
      "Iteration:  28%|██▊       | 282/1004 [00:13<00:33, 21.60it/s]"
     ]
    },
    {
     "name": "stdout",
     "output_type": "stream",
     "text": [
      "Evaluating...\n"
     ]
    },
    {
     "name": "stderr",
     "output_type": "stream",
     "text": [
      "Iteration: 100%|██████████| 1004/1004 [01:22<00:00, 12.22it/s]\n",
      "Iteration:  78%|███████▊  | 788/1004 [00:38<00:10, 20.17it/s]"
     ]
    },
    {
     "name": "stdout",
     "output_type": "stream",
     "text": [
      "Evaluating...\n"
     ]
    },
    {
     "name": "stderr",
     "output_type": "stream",
     "text": [
      "Iteration:  54%|█████▍    | 545/1004 [00:46<00:37, 12.23it/s]]\n",
      "Iteration:  36%|███▌      | 361/1004 [00:18<00:31, 20.50it/s]\n",
      "Iteration:  61%|██████    | 613/1004 [00:51<00:33, 11.80it/s]"
     ]
    },
    {
     "name": "stdout",
     "output_type": "stream",
     "text": [
      "{'Train':  best_epoch_indx:58\n",
      " auc:0.9328314764038204 \n",
      " apur:0.4683412711336865 \n",
      " f1:0.32403466601980285 \n",
      " precision:0.19624969949515186 \n",
      " recall:0.9288242730720607 \n",
      ", 'Validation':  best_epoch_indx:58\n",
      " auc:0.8905654767608785 \n",
      " apur:0.3852119250121704 \n",
      " f1:0.2889309554647803 \n",
      " precision:0.17514192535330353 \n",
      " recall:0.8248009101251422 \n",
      "}\n",
      "=====Epoch 59\n",
      "Training...\n"
     ]
    },
    {
     "name": "stderr",
     "output_type": "stream",
     "text": [
      "Iteration: 100%|██████████| 1004/1004 [01:22<00:00, 12.10it/s]\n",
      "Iteration:   0%|          | 2/1004 [00:00<01:03, 15.77it/s]s]"
     ]
    },
    {
     "name": "stdout",
     "output_type": "stream",
     "text": [
      "Evaluating...\n"
     ]
    },
    {
     "name": "stderr",
     "output_type": "stream",
     "text": [
      "Iteration:  73%|███████▎  | 729/1004 [01:01<00:22, 12.26it/s]]\n",
      "Iteration:  68%|██████▊   | 685/1004 [00:33<00:14, 21.72it/s]\n",
      "Iteration:   0%|          | 0/1004 [00:00<?, ?it/s]"
     ]
    },
    {
     "name": "stdout",
     "output_type": "stream",
     "text": [
      "{'Train':  best_epoch_indx:59\n",
      " auc:0.9450939859292672 \n",
      " apur:0.520074539336143 \n",
      " f1:0.34238308994829253 \n",
      " precision:0.20871203724229662 \n",
      " recall:0.9522725836019976 \n",
      ", 'Validation':  best_epoch_indx:59\n",
      " auc:0.9023216187525174 \n",
      " apur:0.4141128012680936 \n",
      " f1:0.3093102381688834 \n",
      " precision:0.18889308651303363 \n",
      " recall:0.8532423208191127 \n",
      "}\n",
      "=====Epoch 60\n",
      "Training...\n"
     ]
    },
    {
     "name": "stderr",
     "output_type": "stream",
     "text": [
      "Iteration: 100%|██████████| 1004/1004 [01:23<00:00, 12.02it/s]\n",
      "Iteration:  52%|█████▏    | 526/1004 [00:27<00:22, 21.44it/s]]"
     ]
    },
    {
     "name": "stdout",
     "output_type": "stream",
     "text": [
      "Evaluating...\n"
     ]
    },
    {
     "name": "stderr",
     "output_type": "stream",
     "text": [
      "Iteration:  23%|██▎       | 231/1004 [00:18<01:02, 12.35it/s]\n",
      "Iteration:  44%|████▎     | 439/1004 [00:39<00:58,  9.73it/s]\n",
      "Iteration:  14%|█▍        | 145/1004 [00:08<01:45,  8.12it/s]"
     ]
    },
    {
     "name": "stdout",
     "output_type": "stream",
     "text": [
      "{'Train':  best_epoch_indx:59\n",
      " auc:0.9474740989403408 \n",
      " apur:0.5311432243107548 \n",
      " f1:0.35379652252294996 \n",
      " precision:0.21775629982188222 \n",
      " recall:0.9427939317319848 \n",
      ", 'Validation':  best_epoch_indx:59\n",
      " auc:0.8985560793412173 \n",
      " apur:0.399315601260295 \n",
      " f1:0.31115879828326176 \n",
      " precision:0.19174821475800052 \n",
      " recall:0.8248009101251422 \n",
      "}\n",
      "=====Epoch 60\n",
      "Training...\n"
     ]
    },
    {
     "name": "stderr",
     "output_type": "stream",
     "text": [
      "Iteration:  61%|██████    | 608/1004 [00:56<00:33, 11.99it/s]]\n",
      "Iteration:  67%|██████▋   | 676/1004 [01:02<00:27, 12.10it/s]\n",
      "Iteration:  26%|██▌       | 261/1004 [00:22<01:12, 10.27it/s]"
     ]
    },
    {
     "name": "stdout",
     "output_type": "stream",
     "text": [
      "{'Train':  best_epoch_indx:59\n",
      " auc:0.9400994043663157 \n",
      " apur:0.5019512654104228 \n",
      " f1:0.32400004315972336 \n",
      " precision:0.19534218058808223 \n",
      " recall:0.9491118275491498 \n",
      ", 'Validation':  best_epoch_indx:59\n",
      " auc:0.8963906272442766 \n",
      " apur:0.386233961022146 \n",
      " f1:0.2902763170475189 \n",
      " precision:0.17446270543615677 \n",
      " recall:0.863481228668942 \n",
      "}\n",
      "=====Epoch 60\n",
      "Training...\n"
     ]
    },
    {
     "name": "stderr",
     "output_type": "stream",
     "text": [
      "Iteration:  28%|██▊       | 285/1004 [00:27<01:00, 11.79it/s]]\n",
      "Iteration: 100%|██████████| 1004/1004 [01:31<00:00, 11.03it/s]\n",
      "Iteration:  57%|█████▋    | 575/1004 [00:51<00:41, 10.23it/s]"
     ]
    },
    {
     "name": "stdout",
     "output_type": "stream",
     "text": [
      "Evaluating...\n"
     ]
    },
    {
     "name": "stderr",
     "output_type": "stream",
     "text": [
      "Iteration:  62%|██████▏   | 621/1004 [00:55<00:36, 10.38it/s]"
     ]
    },
    {
     "name": "stdout",
     "output_type": "stream",
     "text": [
      "{'Train':  best_epoch_indx:59\n",
      " auc:0.9417636204159471 \n",
      " apur:0.5086775182241262 \n",
      " f1:0.3362508046574136 \n",
      " precision:0.20469701761381606 \n",
      " recall:0.94102402022756 \n",
      ", 'Validation':  best_epoch_indx:59\n",
      " auc:0.8956834053404029 \n",
      " apur:0.3959962191205568 \n",
      " f1:0.302442014917748 \n",
      " precision:0.18433179723502305 \n",
      " recall:0.8418657565415245 \n",
      "}\n",
      "=====Epoch 60\n",
      "Training...\n"
     ]
    },
    {
     "name": "stderr",
     "output_type": "stream",
     "text": [
      "\n",
      "Iteration: 100%|██████████| 1004/1004 [01:23<00:00, 12.00it/s]\n",
      "Iteration:  40%|███▉      | 399/1004 [00:36<00:51, 11.86it/s]"
     ]
    },
    {
     "name": "stdout",
     "output_type": "stream",
     "text": [
      "Evaluating...\n"
     ]
    },
    {
     "name": "stderr",
     "output_type": "stream",
     "text": [
      "Iteration:  77%|███████▋  | 769/1004 [01:06<00:19, 12.34it/s]]\n",
      "Iteration:  41%|████      | 409/1004 [00:33<00:48, 12.21it/s]"
     ]
    },
    {
     "name": "stdout",
     "output_type": "stream",
     "text": [
      "Evaluating...\n"
     ]
    },
    {
     "name": "stderr",
     "output_type": "stream",
     "text": [
      "Iteration:  94%|█████████▎| 941/1004 [00:43<00:02, 22.59it/s]]\n",
      "Iteration:  99%|█████████▊| 991/1004 [01:24<00:01, 11.82it/s]]\n",
      "Iteration:  40%|███▉      | 400/1004 [00:19<00:29, 20.42it/s]]\n",
      "Iteration:   0%|          | 0/1004 [00:00<?, ?it/s]"
     ]
    },
    {
     "name": "stdout",
     "output_type": "stream",
     "text": [
      "{'Train':  best_epoch_indx:59\n",
      " auc:0.9381941725447123 \n",
      " apur:0.49128393249169877 \n",
      " f1:0.3334121648253882 \n",
      " precision:0.20284473190183208 \n",
      " recall:0.9357142857142857 \n",
      ", 'Validation':  best_epoch_indx:59\n",
      " auc:0.8935923362627861 \n",
      " apur:0.39320095652056664 \n",
      " f1:0.29627360898417554 \n",
      " precision:0.18054000248849073 \n",
      " recall:0.8253697383390216 \n",
      "}\n",
      "=====Epoch 60\n",
      "Training...\n"
     ]
    },
    {
     "name": "stderr",
     "output_type": "stream",
     "text": [
      "\r",
      "Iteration:  19%|█▉        | 21/112 [00:00<00:04, 21.91it/s]\r",
      "Iteration:   0%|          | 1/1004 [00:00<02:00,  8.33it/s]\r",
      "Iteration:  40%|████      | 403/1004 [00:19<00:29, 20.50it/s]\r",
      "Iteration: 100%|█████████▉| 1003/1004 [01:25<00:00, 11.93it/s]\r",
      "Iteration:  63%|██████▎   | 633/1004 [00:52<00:33, 10.93it/s]\r",
      "Iteration: 100%|██████████| 1004/1004 [01:25<00:00, 11.67it/s]\r",
      "Iteration:  21%|██▏       | 24/112 [00:01<00:04, 22.00it/s]\n",
      "\r",
      "Iteration:   0%|          | 0/1004 [00:00<?, ?it/s]\r",
      "Iteration:  40%|████      | 406/1004 [00:19<00:29, 20.61it/s]"
     ]
    },
    {
     "name": "stdout",
     "output_type": "stream",
     "text": [
      "Evaluating...\n"
     ]
    },
    {
     "name": "stderr",
     "output_type": "stream",
     "text": [
      "Iteration:  48%|████▊     | 486/1004 [00:23<00:26, 19.43it/s]\n",
      "Iteration:  68%|██████▊   | 681/1004 [00:56<00:27, 11.58it/s]"
     ]
    },
    {
     "name": "stdout",
     "output_type": "stream",
     "text": [
      "{'Train':  best_epoch_indx:60\n",
      " auc:0.9447811968782946 \n",
      " apur:0.51902318148496 \n",
      " f1:0.3517665312503701 \n",
      " precision:0.2164344429545852 \n",
      " recall:0.9387445476958088 \n",
      ", 'Validation':  best_epoch_indx:60\n",
      " auc:0.9024543866098076 \n",
      " apur:0.4087066425390992 \n",
      " f1:0.3184207703036155 \n",
      " precision:0.19621843183921725 \n",
      " recall:0.8441410693970421 \n",
      "}\n",
      "=====Epoch 61\n",
      "Training...\n"
     ]
    },
    {
     "name": "stderr",
     "output_type": "stream",
     "text": [
      "Iteration: 100%|██████████| 1004/1004 [01:23<00:00, 12.04it/s]\n",
      "Iteration:  32%|███▏      | 317/1004 [00:26<01:08, 10.08it/s]\n",
      "Iteration:   0%|          | 2/1004 [00:00<01:09, 14.33it/s]s]"
     ]
    },
    {
     "name": "stdout",
     "output_type": "stream",
     "text": [
      "Evaluating...\n"
     ]
    },
    {
     "name": "stderr",
     "output_type": "stream",
     "text": [
      "Iteration:  12%|█▏        | 118/1004 [00:05<00:40, 21.62it/s]\n",
      "Iteration:  72%|███████▏  | 726/1004 [00:36<00:13, 21.16it/s]"
     ]
    },
    {
     "name": "stdout",
     "output_type": "stream",
     "text": [
      "{'Train':  best_epoch_indx:60\n",
      " auc:0.9430354771520397 \n",
      " apur:0.5124234635886651 \n",
      " f1:0.3277427764501412 \n",
      " precision:0.19787513116474292 \n",
      " recall:0.9536030341340076 \n",
      ", 'Validation':  best_epoch_indx:60\n",
      " auc:0.8959265723134665 \n",
      " apur:0.38843847815440397 \n",
      " f1:0.2937090304275511 \n",
      " precision:0.17736027413446767 \n",
      " recall:0.853811149032992 \n",
      "}\n",
      "=====Epoch 61\n",
      "Training...\n"
     ]
    },
    {
     "name": "stderr",
     "output_type": "stream",
     "text": [
      "Iteration:  18%|█▊        | 181/1004 [00:15<01:10, 11.64it/s]]\n",
      "Iteration:  67%|██████▋   | 674/1004 [00:57<00:28, 11.48it/s]\n",
      "Iteration:  25%|██▍       | 247/1004 [00:21<01:01, 12.27it/s]"
     ]
    },
    {
     "name": "stdout",
     "output_type": "stream",
     "text": [
      "{'Train':  best_epoch_indx:60\n",
      " auc:0.9395307464866227 \n",
      " apur:0.5020382908746501 \n",
      " f1:0.3233941743390944 \n",
      " precision:0.19489655530462321 \n",
      " recall:0.9492382577912637 \n",
      ", 'Validation':  best_epoch_indx:60\n",
      " auc:0.8950400864357603 \n",
      " apur:0.38210732882794135 \n",
      " f1:0.28658536585365857 \n",
      " precision:0.17212176699473564 \n",
      " recall:0.8555176336746303 \n",
      "}\n",
      "=====Epoch 61\n",
      "Training...\n"
     ]
    },
    {
     "name": "stderr",
     "output_type": "stream",
     "text": [
      "Iteration:  52%|█████▏    | 519/1004 [00:43<00:41, 11.76it/s]]\n",
      "Iteration:  99%|█████████▉| 998/1004 [01:25<00:00, 12.30it/s]\n",
      "Iteration:  96%|█████████▌| 963/1004 [01:21<00:03, 12.49it/s]"
     ]
    },
    {
     "name": "stdout",
     "output_type": "stream",
     "text": [
      "{'Train':  best_epoch_indx:60\n",
      " auc:0.9400933144887255 \n",
      " apur:0.49879910362922664 \n",
      " f1:0.3452075347844944 \n",
      " precision:0.2118979436185981 \n",
      " recall:0.9307838179519595 \n",
      ", 'Validation':  best_epoch_indx:60\n",
      " auc:0.8934852390711515 \n",
      " apur:0.3888177918400065 \n",
      " f1:0.3038297872340426 \n",
      " precision:0.18686207799005497 \n",
      " recall:0.8122866894197952 \n",
      "}\n",
      "=====Epoch 61\n",
      "Training...\n"
     ]
    },
    {
     "name": "stderr",
     "output_type": "stream",
     "text": [
      "Iteration: 100%|██████████| 1004/1004 [01:25<00:00, 11.67it/s]\n",
      "Iteration:   0%|          | 0/1004 [00:00<?, ?it/s]"
     ]
    },
    {
     "name": "stdout",
     "output_type": "stream",
     "text": [
      "Evaluating...\n"
     ]
    },
    {
     "name": "stderr",
     "output_type": "stream",
     "text": [
      "Iteration: 100%|██████████| 1004/1004 [01:24<00:00, 11.88it/s]\n",
      "Iteration:   7%|▋         | 67/1004 [00:03<00:44, 21.16it/s]]"
     ]
    },
    {
     "name": "stdout",
     "output_type": "stream",
     "text": [
      "Evaluating...\n"
     ]
    },
    {
     "name": "stderr",
     "output_type": "stream",
     "text": [
      "Iteration: 100%|██████████| 1004/1004 [01:26<00:00, 11.63it/s]\n",
      "Iteration:   0%|          | 0/1004 [00:00<?, ?it/s]"
     ]
    },
    {
     "name": "stdout",
     "output_type": "stream",
     "text": [
      "Evaluating...\n"
     ]
    },
    {
     "name": "stderr",
     "output_type": "stream",
     "text": [
      "Iteration: 100%|█████████▉| 1000/1004 [00:47<00:00, 20.12it/s]\n",
      "Iteration:  94%|█████████▍| 948/1004 [01:21<00:04, 12.43it/s]]\n",
      "Iteration:  56%|█████▋    | 63/112 [00:02<00:02, 21.67it/s]s]\n",
      "Iteration:  98%|█████████▊| 986/1004 [01:24<00:01, 12.16it/s]"
     ]
    },
    {
     "name": "stdout",
     "output_type": "stream",
     "text": [
      "{'Train':  best_epoch_indx:60\n",
      " auc:0.9343601238231214 \n",
      " apur:0.4760000679578612 \n",
      " f1:0.3170907701776354 \n",
      " precision:0.19053023540513658 \n",
      " recall:0.9444374209860935 \n",
      ", 'Validation':  best_epoch_indx:60\n",
      " auc:0.890868500081579 \n",
      " apur:0.38291300319566834 \n",
      " f1:0.28500143940120903 \n",
      " precision:0.17141867713263303 \n",
      " recall:0.8447098976109215 \n",
      "}\n",
      "=====Epoch 61\n",
      "Training...\n"
     ]
    },
    {
     "name": "stderr",
     "output_type": "stream",
     "text": [
      "Iteration: 100%|██████████| 1004/1004 [01:26<00:00, 11.64it/s]\n",
      "Iteration:   0%|          | 2/1004 [00:00<01:00, 16.66it/s]]]"
     ]
    },
    {
     "name": "stdout",
     "output_type": "stream",
     "text": [
      "Evaluating...\n"
     ]
    },
    {
     "name": "stderr",
     "output_type": "stream",
     "text": [
      "Iteration:  45%|████▌     | 455/1004 [00:21<00:30, 17.84it/s]\n",
      "Iteration:   2%|▏         | 23/1004 [00:01<00:43, 22.52it/s]]"
     ]
    },
    {
     "name": "stdout",
     "output_type": "stream",
     "text": [
      "{'Train':  best_epoch_indx:61\n",
      " auc:0.9398991101372832 \n",
      " apur:0.4949616559464866 \n",
      " f1:0.3108252947481243 \n",
      " precision:0.18534073478927762 \n",
      " recall:0.9624502180921677 \n",
      ", 'Validation':  best_epoch_indx:61\n",
      " auc:0.8979546535990864 \n",
      " apur:0.3970664763048256 \n",
      " f1:0.2876433592304846 \n",
      " precision:0.1717472940136956 \n",
      " recall:0.8845278725824801 \n",
      "}\n",
      "=====Epoch 62\n",
      "Training...\n"
     ]
    },
    {
     "name": "stderr",
     "output_type": "stream",
     "text": [
      "Iteration: 100%|██████████| 1004/1004 [01:26<00:00, 11.55it/s]\n",
      "Iteration:  35%|███▍      | 351/1004 [00:30<00:58, 11.25it/s]"
     ]
    },
    {
     "name": "stdout",
     "output_type": "stream",
     "text": [
      "Evaluating...\n"
     ]
    },
    {
     "name": "stderr",
     "output_type": "stream",
     "text": [
      "Iteration:   3%|▎         | 34/1004 [00:01<00:55, 17.53it/s]]\n",
      "Iteration:  39%|███▉      | 390/1004 [00:34<00:51, 12.03it/s]\n",
      "Iteration:  79%|███████▊  | 790/1004 [00:36<00:10, 21.09it/s]"
     ]
    },
    {
     "name": "stdout",
     "output_type": "stream",
     "text": [
      "{'Train':  best_epoch_indx:61\n",
      " auc:0.9422661472211648 \n",
      " apur:0.5090926906928681 \n",
      " f1:0.3503941696239312 \n",
      " precision:0.21586407254159698 \n",
      " recall:0.9299620733249052 \n",
      ", 'Validation':  best_epoch_indx:61\n",
      " auc:0.8906387471753294 \n",
      " apur:0.37703506783864627 \n",
      " f1:0.305001073191672 \n",
      " precision:0.18796296296296297 \n",
      " recall:0.8083048919226393 \n",
      "}\n",
      "=====Epoch 62\n",
      "Training...\n"
     ]
    },
    {
     "name": "stderr",
     "output_type": "stream",
     "text": [
      "Iteration:  54%|█████▍    | 544/1004 [00:47<00:38, 12.08it/s]]\n",
      "Iteration:  21%|██        | 209/1004 [00:17<01:09, 11.48it/s]\n",
      "Iteration:  64%|██████▍   | 641/1004 [00:55<00:30, 12.07it/s]"
     ]
    },
    {
     "name": "stdout",
     "output_type": "stream",
     "text": [
      "{'Train':  best_epoch_indx:61\n",
      " auc:0.9388916422464924 \n",
      " apur:0.4949942874392339 \n",
      " f1:0.32249127516778525 \n",
      " precision:0.19424106796367682 \n",
      " recall:0.9492382577912637 \n",
      ", 'Validation':  best_epoch_indx:61\n",
      " auc:0.8949588214169404 \n",
      " apur:0.38051842551617576 \n",
      " f1:0.28476380572188953 \n",
      " precision:0.1709460230514664 \n",
      " recall:0.8521046643913538 \n",
      "}\n",
      "=====Epoch 62\n",
      "Training...\n"
     ]
    },
    {
     "name": "stderr",
     "output_type": "stream",
     "text": [
      "Iteration:  32%|███▏      | 325/1004 [00:26<00:53, 12.66it/s]]\n",
      "Iteration: 100%|█████████▉| 1001/1004 [01:27<00:00, 12.14it/s]\n",
      "Iteration:  56%|█████▌    | 561/1004 [00:49<00:43, 10.24it/s]"
     ]
    },
    {
     "name": "stdout",
     "output_type": "stream",
     "text": [
      "{'Train':  best_epoch_indx:61\n",
      " auc:0.9347345452925909 \n",
      " apur:0.474381216812936 \n",
      " f1:0.3062563477554337 \n",
      " precision:0.18244191674733784 \n",
      " recall:0.9530341340075853 \n",
      ", 'Validation':  best_epoch_indx:61\n",
      " auc:0.8898027771478997 \n",
      " apur:0.37152939372280247 \n",
      " f1:0.27806800476583265 \n",
      " precision:0.1657380093958265 \n",
      " recall:0.8629124004550626 \n",
      "}\n",
      "=====Epoch 62\n",
      "Training...\n",
      "Evaluating...\n"
     ]
    },
    {
     "name": "stderr",
     "output_type": "stream",
     "text": [
      "\r",
      "Iteration:   0%|          | 1/1004 [00:00<01:48,  9.26it/s]\r",
      "Iteration: 100%|██████████| 1004/1004 [01:24<00:00, 12.11it/s]\r",
      "Iteration: 100%|██████████| 1004/1004 [01:24<00:00, 11.86it/s]\n",
      "\r",
      "Iteration:   0%|          | 0/1004 [00:00<?, ?it/s]\r",
      "Iteration: 100%|█████████▉| 1003/1004 [01:27<00:00, 11.71it/s]\r",
      "Iteration:  39%|███▉      | 393/1004 [00:31<00:51, 11.94it/s]\r",
      "Iteration:   0%|          | 2/1004 [00:00<01:05, 15.40it/s]\r",
      "Iteration:  56%|█████▌    | 563/1004 [00:49<00:43, 10.16it/s]\r",
      "Iteration: 100%|██████████| 1004/1004 [01:27<00:00, 11.48it/s]\n",
      "\r",
      "Iteration:   0%|          | 0/1004 [00:00<?, ?it/s]\r",
      "Iteration:   0%|          | 3/1004 [00:00<01:32, 10.78it/s]"
     ]
    },
    {
     "name": "stdout",
     "output_type": "stream",
     "text": [
      "Evaluating...\n"
     ]
    },
    {
     "name": "stderr",
     "output_type": "stream",
     "text": [
      "Iteration: 100%|██████████| 1004/1004 [01:31<00:00, 10.96it/s]\n",
      "Iteration:   0%|          | 0/1004 [00:00<?, ?it/s]"
     ]
    },
    {
     "name": "stdout",
     "output_type": "stream",
     "text": [
      "Evaluating...\n"
     ]
    },
    {
     "name": "stderr",
     "output_type": "stream",
     "text": [
      "Iteration:  17%|█▋        | 175/1004 [00:08<00:38, 21.61it/s]]\n",
      "Iteration: 100%|██████████| 1004/1004 [01:23<00:00, 12.06it/s]\n",
      "Iteration:  20%|██        | 205/1004 [00:09<00:36, 21.69it/s]\n",
      "Iteration:  27%|██▋       | 30/112 [00:01<00:03, 21.27it/s]s]"
     ]
    },
    {
     "name": "stdout",
     "output_type": "stream",
     "text": [
      "Evaluating...\n"
     ]
    },
    {
     "name": "stderr",
     "output_type": "stream",
     "text": [
      "Iteration:   9%|▉         | 88/1004 [00:04<00:42, 21.35it/s]]\n",
      "Iteration:  80%|████████  | 90/112 [00:04<00:01, 21.26it/s]s]"
     ]
    },
    {
     "name": "stdout",
     "output_type": "stream",
     "text": [
      "{'Train':  best_epoch_indx:62\n",
      " auc:0.9294266356167579 \n",
      " apur:0.45286122747460467 \n",
      " f1:0.31955862311513605 \n",
      " precision:0.19340419587862018 \n",
      " recall:0.9190214299260383 \n",
      ", 'Validation':  best_epoch_indx:62\n",
      " auc:0.8887510335560912 \n",
      " apur:0.3649636096100084 \n",
      " f1:0.2925764192139738 \n",
      " precision:0.17720605914883386 \n",
      " recall:0.838452787258248 \n",
      "}\n",
      "=====Epoch 63\n",
      "Training...\n"
     ]
    },
    {
     "name": "stderr",
     "output_type": "stream",
     "text": [
      "Iteration:  32%|███▏      | 325/1004 [00:15<00:32, 21.01it/s]\n",
      "Iteration:  12%|█▏        | 118/1004 [00:05<00:42, 20.78it/s]"
     ]
    },
    {
     "name": "stdout",
     "output_type": "stream",
     "text": [
      "{'Train':  best_epoch_indx:61\n",
      " auc:0.9363368209595704 \n",
      " apur:0.48250938768739426 \n",
      " f1:0.33835108846688283 \n",
      " precision:0.20711652962857954 \n",
      " recall:0.9235145385587863 \n",
      ", 'Validation':  best_epoch_indx:61\n",
      " auc:0.8930991382624027 \n",
      " apur:0.39090596096800884 \n",
      " f1:0.3028080469404862 \n",
      " precision:0.185589519650655 \n",
      " recall:0.8219567690557452 \n",
      "}\n",
      "=====Epoch 62\n",
      "Training...\n"
     ]
    },
    {
     "name": "stderr",
     "output_type": "stream",
     "text": [
      "Iteration: 100%|██████████| 1004/1004 [01:22<00:00, 12.19it/s]\n",
      "Iteration:  30%|███       | 303/1004 [00:25<00:57, 12.12it/s]"
     ]
    },
    {
     "name": "stdout",
     "output_type": "stream",
     "text": [
      "Evaluating...\n"
     ]
    },
    {
     "name": "stderr",
     "output_type": "stream",
     "text": [
      "Iteration:  90%|████████▉ | 902/1004 [00:42<00:04, 21.17it/s]]\n",
      "Iteration:  38%|███▊      | 380/1004 [00:17<00:29, 21.24it/s]]\n",
      "Iteration:  51%|█████     | 513/1004 [00:42<00:42, 11.60it/s]"
     ]
    },
    {
     "name": "stdout",
     "output_type": "stream",
     "text": [
      "{'Train':  best_epoch_indx:62\n",
      " auc:0.9424019223143169 \n",
      " apur:0.5102851913774555 \n",
      " f1:0.3277343834990536 \n",
      " precision:0.19793172321358177 \n",
      " recall:0.9521491782553729 \n",
      ", 'Validation':  best_epoch_indx:62\n",
      " auc:0.8948804096912621 \n",
      " apur:0.3945142198573759 \n",
      " f1:0.29168286047415465 \n",
      " precision:0.1758846965080853 \n",
      " recall:0.853811149032992 \n",
      "}\n",
      "=====Epoch 63\n",
      "Training...\n"
     ]
    },
    {
     "name": "stderr",
     "output_type": "stream",
     "text": [
      "Iteration:  53%|█████▎    | 531/1004 [00:44<00:40, 11.78it/s]\n",
      "Iteration:  53%|█████▎    | 534/1004 [00:24<00:20, 22.39it/s]\n",
      "Iteration:  53%|█████▎    | 537/1004 [00:24<00:20, 22.31it/s]"
     ]
    },
    {
     "name": "stdout",
     "output_type": "stream",
     "text": [
      "{'Train':  best_epoch_indx:62\n",
      " auc:0.9317431570473508 \n",
      " apur:0.46917518101252215 \n",
      " f1:0.30701934952655413 \n",
      " precision:0.18336386324239928 \n",
      " recall:0.942853530564511 \n",
      ", 'Validation':  best_epoch_indx:62\n",
      " auc:0.88764187416927 \n",
      " apur:0.359920342851574 \n",
      " f1:0.27769167654298477 \n",
      " precision:0.16534578221691457 \n",
      " recall:0.8663253697383391 \n",
      "}\n",
      "=====Epoch 63\n",
      "Training...\n"
     ]
    },
    {
     "name": "stderr",
     "output_type": "stream",
     "text": [
      "Iteration:  34%|███▎      | 337/1004 [00:31<00:54, 12.34it/s]]\n",
      "Iteration:  95%|█████████▍| 949/1004 [01:18<00:04, 12.07it/s]\n",
      "Iteration:  92%|█████████▏| 928/1004 [01:20<00:05, 12.70it/s]"
     ]
    },
    {
     "name": "stdout",
     "output_type": "stream",
     "text": [
      "{'Train':  best_epoch_indx:62\n",
      " auc:0.9319333831961332 \n",
      " apur:0.47586671994604 \n",
      " f1:0.29748496825255316 \n",
      " precision:0.1763828362679572 \n",
      " recall:0.9491782553729456 \n",
      ", 'Validation':  best_epoch_indx:62\n",
      " auc:0.8882447265579717 \n",
      " apur:0.3780196965031213 \n",
      " f1:0.2732786300392437 \n",
      " precision:0.16204781045060293 \n",
      " recall:0.8714448236632537 \n",
      "}\n",
      "=====Epoch 63\n",
      "Training...\n"
     ]
    },
    {
     "name": "stderr",
     "output_type": "stream",
     "text": [
      "Iteration: 100%|██████████| 1004/1004 [01:23<00:00, 12.02it/s]\n",
      "Iteration:  39%|███▉      | 393/1004 [00:33<00:49, 12.32it/s]"
     ]
    },
    {
     "name": "stdout",
     "output_type": "stream",
     "text": [
      "Evaluating...\n"
     ]
    },
    {
     "name": "stderr",
     "output_type": "stream",
     "text": [
      "Iteration: 100%|██████████| 1004/1004 [01:26<00:00, 11.62it/s]\n",
      "Iteration:  41%|████      | 413/1004 [00:35<00:48, 12.23it/s]"
     ]
    },
    {
     "name": "stdout",
     "output_type": "stream",
     "text": [
      "Evaluating...\n"
     ]
    },
    {
     "name": "stderr",
     "output_type": "stream",
     "text": [
      "Iteration: 100%|██████████| 1004/1004 [01:28<00:00, 11.36it/s]\n",
      "Iteration:  97%|█████████▋| 972/1004 [00:45<00:01, 21.39it/s]"
     ]
    },
    {
     "name": "stdout",
     "output_type": "stream",
     "text": [
      "Evaluating...\n"
     ]
    },
    {
     "name": "stderr",
     "output_type": "stream",
     "text": [
      "Iteration:   8%|▊         | 81/1004 [00:03<00:49, 18.69it/s]]]\n",
      "Iteration:  11%|█         | 111/1004 [00:05<00:48, 18.31it/s]\n",
      "Iteration: 100%|██████████| 1004/1004 [01:27<00:00, 11.41it/s]\n",
      "Iteration:  23%|██▎       | 26/112 [00:01<00:04, 20.41it/s]s]"
     ]
    },
    {
     "name": "stdout",
     "output_type": "stream",
     "text": [
      "Evaluating...\n"
     ]
    },
    {
     "name": "stderr",
     "output_type": "stream",
     "text": [
      "Iteration:  71%|███████▏  | 717/1004 [01:01<00:24, 11.53it/s]\n",
      "Iteration:   0%|          | 1/1004 [00:00<01:56,  8.57it/s]]]"
     ]
    },
    {
     "name": "stdout",
     "output_type": "stream",
     "text": [
      "{'Train':  best_epoch_indx:63\n",
      " auc:0.931371242925297 \n",
      " apur:0.4618926828833099 \n",
      " f1:0.3417361569380287 \n",
      " precision:0.21089654355359416 \n",
      " recall:0.9002465389721221 \n",
      ", 'Validation':  best_epoch_indx:63\n",
      " auc:0.8922303105007433 \n",
      " apur:0.37849211444765396 \n",
      " f1:0.3090493302842208 \n",
      " precision:0.19111111111111112 \n",
      " recall:0.8071672354948806 \n",
      "}\n",
      "=====Epoch 64\n",
      "Training...\n"
     ]
    },
    {
     "name": "stderr",
     "output_type": "stream",
     "text": [
      "Iteration:  73%|███████▎  | 735/1004 [01:03<00:23, 11.35it/s]"
     ]
    },
    {
     "name": "stdout",
     "output_type": "stream",
     "text": [
      "{'Train':  best_epoch_indx:62\n",
      " auc:0.9311825890270894 \n",
      " apur:0.4693911726544785 \n",
      " f1:0.30666680382253403 \n",
      " precision:0.1831361419286671 \n",
      " recall:0.9422250316055626 \n",
      ", 'Validation':  best_epoch_indx:62\n",
      " auc:0.8877617663169429 \n",
      " apur:0.36927019409520667 \n",
      " f1:0.27839373893599184 \n",
      " precision:0.1664623955431755 \n",
      " recall:0.8498293515358362 \n",
      "}\n",
      "=====Epoch 63\n",
      "Training...\n"
     ]
    },
    {
     "name": "stderr",
     "output_type": "stream",
     "text": [
      "\n",
      "Iteration: 100%|██████████| 1004/1004 [01:25<00:00, 11.77it/s]\n",
      "Iteration:  55%|█████▌    | 557/1004 [00:26<00:21, 20.59it/s]"
     ]
    },
    {
     "name": "stdout",
     "output_type": "stream",
     "text": [
      "Evaluating...\n"
     ]
    },
    {
     "name": "stderr",
     "output_type": "stream",
     "text": [
      "Iteration:  93%|█████████▎| 929/1004 [00:44<00:03, 21.79it/s]]\n",
      "Iteration:  47%|████▋     | 469/1004 [00:23<00:26, 20.50it/s]]\n",
      "Iteration:  52%|█████▏    | 522/1004 [00:45<00:46, 10.33it/s]"
     ]
    },
    {
     "name": "stdout",
     "output_type": "stream",
     "text": [
      "{'Train':  best_epoch_indx:63\n",
      " auc:0.9362280910376695 \n",
      " apur:0.4723026086271202 \n",
      " f1:0.30527034901243744 \n",
      " precision:0.1814782961848109 \n",
      " recall:0.9603666245259166 \n",
      ", 'Validation':  best_epoch_indx:63\n",
      " auc:0.8889019171330453 \n",
      " apur:0.36482948008124616 \n",
      " f1:0.27489860297431273 \n",
      " precision:0.1633286922994538 \n",
      " recall:0.8674630261660978 \n",
      "}\n",
      "=====Epoch 64\n",
      "Training...\n"
     ]
    },
    {
     "name": "stderr",
     "output_type": "stream",
     "text": [
      "Iteration:  48%|████▊     | 481/1004 [00:23<00:24, 21.07it/s]\n",
      "Iteration:  58%|█████▊    | 578/1004 [00:51<00:34, 12.44it/s]\n",
      "Iteration:   0%|          | 0/1004 [00:00<?, ?it/s]"
     ]
    },
    {
     "name": "stdout",
     "output_type": "stream",
     "text": [
      "{'Train':  best_epoch_indx:63\n",
      " auc:0.9301310632122927 \n",
      " apur:0.46001725804864035 \n",
      " f1:0.3033751088254945 \n",
      " precision:0.1806106336559671 \n",
      " recall:0.947215373917441 \n",
      ", 'Validation':  best_epoch_indx:63\n",
      " auc:0.888709813340075 \n",
      " apur:0.3568965506105467 \n",
      " f1:0.27448869752421967 \n",
      " precision:0.16293929712460065 \n",
      " recall:0.8703071672354948 \n",
      "}\n",
      "=====Epoch 64\n",
      "Training...\n"
     ]
    },
    {
     "name": "stderr",
     "output_type": "stream",
     "text": [
      "Iteration:  85%|████████▌ | 857/1004 [01:15<00:13, 10.53it/s]]\n",
      "Iteration:  38%|███▊      | 381/1004 [00:33<00:50, 12.31it/s]\n",
      "Iteration:  38%|███▊      | 383/1004 [00:33<00:50, 12.33it/s]"
     ]
    },
    {
     "name": "stdout",
     "output_type": "stream",
     "text": [
      "{'Train':  best_epoch_indx:63\n",
      " auc:0.9296595054719641 \n",
      " apur:0.46288232492191494 \n",
      " f1:0.3128422577827023 \n",
      " precision:0.18812946874759745 \n",
      " recall:0.9280657395701644 \n",
      ", 'Validation':  best_epoch_indx:63\n",
      " auc:0.8876829239055072 \n",
      " apur:0.3777391071831763 \n",
      " f1:0.284944684944685 \n",
      " precision:0.17147157577862684 \n",
      " recall:0.8424345847554039 \n",
      "}\n",
      "=====Epoch 64\n",
      "Training...\n"
     ]
    },
    {
     "name": "stderr",
     "output_type": "stream",
     "text": [
      "Iteration: 100%|██████████| 1004/1004 [01:29<00:00, 11.27it/s]\n",
      "Iteration:   9%|▉         | 95/1004 [00:08<01:28, 10.29it/s]]"
     ]
    },
    {
     "name": "stdout",
     "output_type": "stream",
     "text": [
      "Evaluating...\n"
     ]
    },
    {
     "name": "stderr",
     "output_type": "stream",
     "text": [
      "Iteration: 100%|██████████| 1004/1004 [01:29<00:00, 11.20it/s]\n",
      "Iteration:  44%|████▎     | 437/1004 [00:38<00:45, 12.37it/s]"
     ]
    },
    {
     "name": "stdout",
     "output_type": "stream",
     "text": [
      "Evaluating...\n"
     ]
    },
    {
     "name": "stderr",
     "output_type": "stream",
     "text": [
      "Iteration: 100%|██████████| 1004/1004 [01:26<00:00, 11.55it/s]\n",
      "Iteration:  96%|█████████▌| 959/1004 [01:20<00:03, 12.28it/s]"
     ]
    },
    {
     "name": "stdout",
     "output_type": "stream",
     "text": [
      "Evaluating...\n"
     ]
    },
    {
     "name": "stderr",
     "output_type": "stream",
     "text": [
      "Iteration: 100%|██████████| 1004/1004 [01:24<00:00, 11.88it/s]\n",
      "Iteration:   9%|▉         | 89/1004 [00:04<00:43, 21.06it/s]]"
     ]
    },
    {
     "name": "stdout",
     "output_type": "stream",
     "text": [
      "Evaluating...\n"
     ]
    },
    {
     "name": "stderr",
     "output_type": "stream",
     "text": [
      "Iteration:   2%|▏         | 22/1004 [00:01<00:47, 20.52it/s]s]\n",
      "Iteration:  16%|█▌        | 156/1004 [00:07<00:43, 19.65it/s]\n",
      "Iteration:  16%|█▌        | 156/1004 [00:07<00:42, 20.12it/s]\n",
      "Iteration:  16%|█▌        | 159/1004 [00:07<00:41, 20.14it/s]"
     ]
    },
    {
     "name": "stdout",
     "output_type": "stream",
     "text": [
      "{'Train':  best_epoch_indx:64\n",
      " auc:0.9300687263744852 \n",
      " apur:0.4641626365100674 \n",
      " f1:0.30616199723751214 \n",
      " precision:0.18290535131473612 \n",
      " recall:0.9388077628168658 \n",
      ", 'Validation':  best_epoch_indx:64\n",
      " auc:0.8905584153089836 \n",
      " apur:0.3744162560280918 \n",
      " f1:0.2844122023809524 \n",
      " precision:0.170002223704692 \n",
      " recall:0.8697383390216155 \n",
      "}\n",
      "=====Epoch 65\n",
      "Training...\n"
     ]
    },
    {
     "name": "stderr",
     "output_type": "stream",
     "text": [
      "Iteration:   2%|▏         | 16/1004 [00:01<01:38, 10.02it/s]]\n",
      "Iteration:  19%|█▉        | 192/1004 [00:09<00:39, 20.33it/s]"
     ]
    },
    {
     "name": "stdout",
     "output_type": "stream",
     "text": [
      "{'Train':  best_epoch_indx:63\n",
      " auc:0.9191329919751619 \n",
      " apur:0.42278294061966804 \n",
      " f1:0.29550965968797993 \n",
      " precision:0.17586712849377015 \n",
      " recall:0.9243362831858407 \n",
      ", 'Validation':  best_epoch_indx:63\n",
      " auc:0.8820149109151634 \n",
      " apur:0.3542299119265967 \n",
      " f1:0.27056572834107684 \n",
      " precision:0.16108037748128864 \n",
      " recall:0.8447098976109215 \n",
      "}\n",
      "=====Epoch 64\n",
      "Training...\n"
     ]
    },
    {
     "name": "stderr",
     "output_type": "stream",
     "text": [
      "Iteration: 100%|██████████| 1004/1004 [01:24<00:00, 11.85it/s]\n",
      "Iteration:  67%|██████▋   | 669/1004 [00:31<00:15, 21.27it/s]"
     ]
    },
    {
     "name": "stdout",
     "output_type": "stream",
     "text": [
      "Evaluating...\n"
     ]
    },
    {
     "name": "stderr",
     "output_type": "stream",
     "text": [
      "Iteration:  94%|█████████▍| 943/1004 [00:45<00:03, 19.87it/s]]\n",
      "Iteration:  41%|████      | 414/1004 [00:23<00:34, 17.20it/s]]\n",
      "Iteration:   5%|▌         | 6/112 [00:00<00:04, 22.05it/s]/s]\n",
      "Iteration:  42%|████▏     | 422/1004 [00:24<00:34, 17.04it/s]"
     ]
    },
    {
     "name": "stdout",
     "output_type": "stream",
     "text": [
      "{'Train':  best_epoch_indx:64\n",
      " auc:0.9281165770681605 \n",
      " apur:0.44394535740801233 \n",
      " f1:0.2777224602398853 \n",
      " precision:0.16231887153092933 \n",
      " recall:0.9608723135271808 \n",
      ", 'Validation':  best_epoch_indx:64\n",
      " auc:0.8849315328084565 \n",
      " apur:0.3526085068241211 \n",
      " f1:0.2557242511284366 \n",
      " precision:0.14941977558262204 \n",
      " recall:0.8862343572241184 \n",
      "}\n",
      "=====Epoch 65\n",
      "Training...\n"
     ]
    },
    {
     "name": "stderr",
     "output_type": "stream",
     "text": [
      "Iteration:   6%|▋         | 63/1004 [00:05<01:15, 12.54it/s]]\n",
      "Iteration:   6%|▋         | 65/1004 [00:05<01:16, 12.29it/s]]"
     ]
    },
    {
     "name": "stdout",
     "output_type": "stream",
     "text": [
      "{'Train':  best_epoch_indx:64\n",
      " auc:0.9228200135118276 \n",
      " apur:0.43469826321814997 \n",
      " f1:0.27028611528109653 \n",
      " precision:0.1572376444325017 \n",
      " recall:0.9617548517605411 \n",
      ", 'Validation':  best_epoch_indx:64\n",
      " auc:0.8850946460663925 \n",
      " apur:0.34558054602682153 \n",
      " f1:0.25089321159190153 \n",
      " precision:0.1457968072344745 \n",
      " recall:0.8987485779294653 \n",
      "}\n",
      "=====Epoch 65\n",
      "Training...\n"
     ]
    },
    {
     "name": "stderr",
     "output_type": "stream",
     "text": [
      "Iteration:  36%|███▌      | 361/1004 [00:32<01:02, 10.34it/s]]\n",
      "Iteration:  42%|████▏     | 417/1004 [00:37<00:56, 10.45it/s]\n",
      "Iteration:  92%|█████████▏| 919/1004 [01:19<00:08, 10.26it/s]"
     ]
    },
    {
     "name": "stdout",
     "output_type": "stream",
     "text": [
      "{'Train':  best_epoch_indx:64\n",
      " auc:0.9260870105486301 \n",
      " apur:0.4521774607477809 \n",
      " f1:0.3249391296395789 \n",
      " precision:0.19833661266239655 \n",
      " recall:0.8984197218710493 \n",
      ", 'Validation':  best_epoch_indx:64\n",
      " auc:0.8845555620876231 \n",
      " apur:0.3610791658762251 \n",
      " f1:0.292063492063492 \n",
      " precision:0.17809416760334706 \n",
      " recall:0.8111490329920364 \n",
      "}\n",
      "=====Epoch 65\n",
      "Training...\n"
     ]
    },
    {
     "name": "stderr",
     "output_type": "stream",
     "text": [
      "Iteration: 100%|██████████| 1004/1004 [01:26<00:00, 11.61it/s]\n",
      "Iteration:  47%|████▋     | 473/1004 [00:42<00:51, 10.27it/s]"
     ]
    },
    {
     "name": "stdout",
     "output_type": "stream",
     "text": [
      "Evaluating...\n"
     ]
    },
    {
     "name": "stderr",
     "output_type": "stream",
     "text": [
      "Iteration: 100%|██████████| 1004/1004 [01:27<00:00, 11.41it/s]\n",
      "Iteration:  50%|█████     | 507/1004 [00:46<00:47, 10.51it/s]"
     ]
    },
    {
     "name": "stdout",
     "output_type": "stream",
     "text": [
      "Evaluating...\n"
     ]
    },
    {
     "name": "stderr",
     "output_type": "stream",
     "text": [
      "Iteration: 100%|██████████| 1004/1004 [01:27<00:00, 11.42it/s]\n",
      "Iteration: 100%|██████████| 1004/1004 [01:22<00:00, 12.12it/s]\n",
      "Iteration:  97%|█████████▋| 972/1004 [00:45<00:01, 20.06it/s]"
     ]
    },
    {
     "name": "stdout",
     "output_type": "stream",
     "text": [
      "Evaluating...\n",
      "Evaluating...\n"
     ]
    },
    {
     "name": "stderr",
     "output_type": "stream",
     "text": [
      "Iteration:   8%|▊         | 83/1004 [00:03<00:43, 21.39it/s]]]\n",
      "Iteration:  18%|█▊        | 178/1004 [00:08<00:38, 21.19it/s]]\n",
      "Iteration:  65%|██████▌   | 655/1004 [00:59<00:29, 12.01it/s]\n",
      "Iteration:  20%|██        | 203/1004 [00:09<00:35, 22.64it/s]"
     ]
    },
    {
     "name": "stdout",
     "output_type": "stream",
     "text": [
      "{'Train':  best_epoch_indx:65\n",
      " auc:0.9279180294083862 \n",
      " apur:0.4454265213751235 \n",
      " f1:0.3008567684709203 \n",
      " precision:0.17896415680349198 \n",
      " recall:0.9434224666540236 \n",
      ", 'Validation':  best_epoch_indx:65\n",
      " auc:0.8889980318378705 \n",
      " apur:0.3725220736898691 \n",
      " f1:0.27831128827686175 \n",
      " precision:0.16551724137931034 \n",
      " recall:0.8737201365187713 \n",
      "}\n",
      "=====Epoch 66\n",
      "Training...\n"
     ]
    },
    {
     "name": "stderr",
     "output_type": "stream",
     "text": [
      "Iteration:  30%|███       | 305/1004 [00:13<00:32, 21.32it/s]\n",
      "Iteration:   5%|▍         | 49/1004 [00:04<01:31, 10.41it/s]"
     ]
    },
    {
     "name": "stdout",
     "output_type": "stream",
     "text": [
      "{'Train':  best_epoch_indx:64\n",
      " auc:0.9051249669153935 \n",
      " apur:0.36851022399582134 \n",
      " f1:0.32721134197266044 \n",
      " precision:0.2047104038623406 \n",
      " recall:0.8147914032869785 \n",
      ", 'Validation':  best_epoch_indx:64\n",
      " auc:0.8693869353341845 \n",
      " apur:0.3183331367320373 \n",
      " f1:0.29250919117647056 \n",
      " precision:0.18327094730780305 \n",
      " recall:0.7241183162684869 \n",
      "}\n",
      "=====Epoch 65\n",
      "Training...\n"
     ]
    },
    {
     "name": "stderr",
     "output_type": "stream",
     "text": [
      "Iteration: 100%|██████████| 1004/1004 [01:30<00:00, 11.11it/s]\n",
      "Iteration:  86%|████████▌ | 860/1004 [00:40<00:06, 22.10it/s]"
     ]
    },
    {
     "name": "stdout",
     "output_type": "stream",
     "text": [
      "Evaluating...\n"
     ]
    },
    {
     "name": "stderr",
     "output_type": "stream",
     "text": [
      "Iteration:  44%|████▎     | 439/1004 [00:39<00:43, 12.94it/s]]\n",
      "Iteration:  16%|█▋        | 164/1004 [00:09<00:44, 18.82it/s]\n",
      "Iteration:  27%|██▋       | 271/1004 [00:14<00:34, 21.39it/s]\n",
      "Iteration:   0%|          | 1/1004 [00:00<01:50,  9.04it/s]s]"
     ]
    },
    {
     "name": "stdout",
     "output_type": "stream",
     "text": [
      "{'Train':  best_epoch_indx:65\n",
      " auc:0.9280929895574856 \n",
      " apur:0.45929212727310204 \n",
      " f1:0.3233680312507056 \n",
      " precision:0.19684141078153777 \n",
      " recall:0.9052465233881163 \n",
      ", 'Validation':  best_epoch_indx:65\n",
      " auc:0.885990822373637 \n",
      " apur:0.36103651288520866 \n",
      " f1:0.2912127074635984 \n",
      " precision:0.17735334242837653 \n",
      " recall:0.8134243458475541 \n",
      "}\n",
      "=====Epoch 66\n",
      "Training...\n",
      "{'Train':  best_epoch_indx:65\n",
      " auc:0.9242320492250322 \n",
      " apur:0.43549231172571623 \n",
      " f1:0.30320693682241445 \n",
      " precision:0.18123301210773413 \n",
      " recall:0.9273026107844996 \n",
      ", 'Validation':  best_epoch_indx:65\n",
      " auc:0.8847602544663726 \n",
      " apur:0.3397240590264543 \n",
      " f1:0.2765604860983244 \n",
      " precision:0.1649824253075571 \n",
      " recall:0.8543799772468714 \n",
      "}\n",
      "=====Epoch 66\n",
      "Training...\n"
     ]
    },
    {
     "name": "stderr",
     "output_type": "stream",
     "text": [
      "\n",
      "Iteration: 100%|██████████| 1004/1004 [01:25<00:00, 11.69it/s]\n",
      "Iteration:  48%|████▊     | 481/1004 [00:40<00:40, 12.83it/s]"
     ]
    },
    {
     "name": "stdout",
     "output_type": "stream",
     "text": [
      "Evaluating...\n"
     ]
    },
    {
     "name": "stderr",
     "output_type": "stream",
     "text": [
      "Iteration:  48%|████▊     | 485/1004 [00:40<00:40, 12.82it/s]\n",
      "Iteration:  99%|█████████▉| 995/1004 [01:27<00:00, 11.87it/s]\n",
      "Iteration:  99%|█████████▉| 997/1004 [01:27<00:00, 11.87it/s]"
     ]
    },
    {
     "name": "stdout",
     "output_type": "stream",
     "text": [
      "{'Train':  best_epoch_indx:65\n",
      " auc:0.9244895454859191 \n",
      " apur:0.42997415916476445 \n",
      " f1:0.3009605122732124 \n",
      " precision:0.17964423972166413 \n",
      " recall:0.9269279393173199 \n",
      ", 'Validation':  best_epoch_indx:65\n",
      " auc:0.8851366558729639 \n",
      " apur:0.355637583167756 \n",
      " f1:0.2766254301925402 \n",
      " precision:0.16535082842210608 \n",
      " recall:0.8458475540386803 \n",
      "}\n",
      "=====Epoch 66\n",
      "Training...\n"
     ]
    },
    {
     "name": "stderr",
     "output_type": "stream",
     "text": [
      "Iteration: 100%|██████████| 1004/1004 [01:28<00:00, 11.40it/s]\n",
      "Iteration:  57%|█████▋    | 569/1004 [00:47<00:34, 12.44it/s]"
     ]
    },
    {
     "name": "stdout",
     "output_type": "stream",
     "text": [
      "Evaluating...\n"
     ]
    },
    {
     "name": "stderr",
     "output_type": "stream",
     "text": [
      "Iteration: 100%|██████████| 1004/1004 [01:22<00:00, 12.19it/s]\n",
      "Iteration:  73%|███████▎  | 734/1004 [00:35<00:13, 20.35it/s]"
     ]
    },
    {
     "name": "stdout",
     "output_type": "stream",
     "text": [
      "Evaluating...\n"
     ]
    },
    {
     "name": "stderr",
     "output_type": "stream",
     "text": [
      "Iteration: 100%|██████████| 1004/1004 [01:24<00:00, 11.86it/s]\n",
      "Iteration:   0%|          | 2/1004 [00:00<01:01, 16.30it/s]s]"
     ]
    },
    {
     "name": "stdout",
     "output_type": "stream",
     "text": [
      "Evaluating...\n"
     ]
    },
    {
     "name": "stderr",
     "output_type": "stream",
     "text": [
      "Iteration:  20%|██        | 202/1004 [00:09<00:40, 20.00it/s]]\n",
      "Iteration:  31%|███       | 313/1004 [00:15<00:33, 20.46it/s]]\n",
      "Iteration:  59%|█████▊    | 589/1004 [00:52<00:34, 11.87it/s]\n",
      "Iteration:  16%|█▌        | 18/112 [00:00<00:04, 21.37it/s]s]"
     ]
    },
    {
     "name": "stdout",
     "output_type": "stream",
     "text": [
      "{'Train':  best_epoch_indx:66\n",
      " auc:0.9373222357251153 \n",
      " apur:0.4941152158806948 \n",
      " f1:0.3202549848683222 \n",
      " precision:0.19286997660380284 \n",
      " recall:0.9432328212908527 \n",
      ", 'Validation':  best_epoch_indx:66\n",
      " auc:0.8949109524895468 \n",
      " apur:0.3932788660720436 \n",
      " f1:0.29410055216506825 \n",
      " precision:0.17723292469352014 \n",
      " recall:0.863481228668942 \n",
      "}\n",
      "=====Epoch 67\n",
      "Training...\n"
     ]
    },
    {
     "name": "stderr",
     "output_type": "stream",
     "text": [
      "Iteration:  64%|██████▍   | 647/1004 [00:56<00:28, 12.31it/s]\n",
      "Iteration:  43%|████▎     | 433/1004 [00:20<00:26, 21.81it/s]"
     ]
    },
    {
     "name": "stdout",
     "output_type": "stream",
     "text": [
      "{'Train':  best_epoch_indx:65\n",
      " auc:0.9216316474854425 \n",
      " apur:0.4124291703731896 \n",
      " f1:0.2980348460291734 \n",
      " precision:0.17745476477683955 \n",
      " recall:0.9298988621997472 \n",
      ", 'Validation':  best_epoch_indx:65\n",
      " auc:0.8801920872833497 \n",
      " apur:0.33429392683845927 \n",
      " f1:0.27014174668495655 \n",
      " precision:0.16094584286803967 \n",
      " recall:0.8401592718998863 \n",
      "}\n",
      "=====Epoch 66\n",
      "Training...\n"
     ]
    },
    {
     "name": "stderr",
     "output_type": "stream",
     "text": [
      "Iteration: 100%|██████████| 1004/1004 [01:26<00:00, 11.58it/s]\n",
      "Iteration:  36%|███▌      | 357/1004 [00:30<01:02, 10.44it/s]]"
     ]
    },
    {
     "name": "stdout",
     "output_type": "stream",
     "text": [
      "Evaluating...\n"
     ]
    },
    {
     "name": "stderr",
     "output_type": "stream",
     "text": [
      "Iteration:  36%|███▋      | 365/1004 [00:30<01:02, 10.21it/s]]\n",
      "Iteration:  32%|███▏      | 36/112 [00:01<00:03, 22.29it/s]s]\n",
      "Iteration:  42%|████▏     | 421/1004 [00:36<00:55, 10.55it/s]\n",
      "Iteration:  42%|████▏     | 423/1004 [00:36<00:54, 10.58it/s]"
     ]
    },
    {
     "name": "stdout",
     "output_type": "stream",
     "text": [
      "{'Train':  best_epoch_indx:66\n",
      " auc:0.9205423393016716 \n",
      " apur:0.43201707287005753 \n",
      " f1:0.2924854684493364 \n",
      " precision:0.17362689393939393 \n",
      " recall:0.9272393956634427 \n",
      ", 'Validation':  best_epoch_indx:66\n",
      " auc:0.8854765117985286 \n",
      " apur:0.34634601175309343 \n",
      " f1:0.26896857016378933 \n",
      " precision:0.15927440494914544 \n",
      " recall:0.8640500568828214 \n",
      "}\n",
      "=====Epoch 67\n",
      "Training...\n"
     ]
    },
    {
     "name": "stderr",
     "output_type": "stream",
     "text": [
      "Iteration:   2%|▏         | 19/1004 [00:01<01:22, 11.95it/s]]\n",
      "Iteration:  17%|█▋        | 171/1004 [00:08<00:38, 21.83it/s]"
     ]
    },
    {
     "name": "stdout",
     "output_type": "stream",
     "text": [
      "{'Train':  best_epoch_indx:66\n",
      " auc:0.9375493556895038 \n",
      " apur:0.49013722226355727 \n",
      " f1:0.31388842492066144 \n",
      " precision:0.1879907967788726 \n",
      " recall:0.9503160556257901 \n",
      ", 'Validation':  best_epoch_indx:66\n",
      " auc:0.8902447773788911 \n",
      " apur:0.38158143628027785 \n",
      " f1:0.28401585204755614 \n",
      " precision:0.17024886877828055 \n",
      " recall:0.8560864618885097 \n",
      "}\n",
      "=====Epoch 67\n",
      "Training...\n"
     ]
    },
    {
     "name": "stderr",
     "output_type": "stream",
     "text": [
      "Iteration: 100%|██████████| 1004/1004 [01:24<00:00, 11.87it/s]\n",
      "Iteration:  95%|█████████▍| 949/1004 [01:19<00:04, 12.38it/s]"
     ]
    },
    {
     "name": "stdout",
     "output_type": "stream",
     "text": [
      "Evaluating...\n"
     ]
    },
    {
     "name": "stderr",
     "output_type": "stream",
     "text": [
      "Iteration:   5%|▍         | 47/1004 [00:02<00:45, 21.04it/s]]\n",
      "Iteration: 100%|██████████| 1004/1004 [01:24<00:00, 11.88it/s]\n",
      "Iteration:   0%|          | 0/1004 [00:00<?, ?it/s]"
     ]
    },
    {
     "name": "stdout",
     "output_type": "stream",
     "text": [
      "Evaluating...\n"
     ]
    },
    {
     "name": "stderr",
     "output_type": "stream",
     "text": [
      "Iteration:  57%|█████▋    | 577/1004 [00:51<00:38, 11.17it/s]\n",
      "Iteration:   0%|          | 1/1004 [00:00<02:09,  7.72it/s]s]"
     ]
    },
    {
     "name": "stdout",
     "output_type": "stream",
     "text": [
      "{'Train':  best_epoch_indx:66\n",
      " auc:0.9333590798507572 \n",
      " apur:0.4744432488620625 \n",
      " f1:0.335381873314584 \n",
      " precision:0.20527605797429976 \n",
      " recall:0.9158659924146649 \n",
      ", 'Validation':  best_epoch_indx:66\n",
      " auc:0.89296515910142 \n",
      " apur:0.38424863218527383 \n",
      " f1:0.3013670040697068 \n",
      " precision:0.1845367412140575 \n",
      " recall:0.8213879408418657 \n",
      "}\n",
      "=====Epoch 67\n",
      "Training...\n"
     ]
    },
    {
     "name": "stderr",
     "output_type": "stream",
     "text": [
      "Iteration: 100%|██████████| 1004/1004 [01:25<00:00, 11.70it/s]\n",
      "Iteration:  37%|███▋      | 372/1004 [00:34<00:50, 12.57it/s]"
     ]
    },
    {
     "name": "stdout",
     "output_type": "stream",
     "text": [
      "Evaluating...\n"
     ]
    },
    {
     "name": "stderr",
     "output_type": "stream",
     "text": [
      "Iteration:  47%|████▋     | 470/1004 [00:42<00:42, 12.47it/s]]\n",
      "Iteration: 100%|██████████| 1004/1004 [01:33<00:00, 10.79it/s]\n",
      "Iteration:   0%|          | 1/1004 [00:00<01:42,  9.79it/s]s]"
     ]
    },
    {
     "name": "stdout",
     "output_type": "stream",
     "text": [
      "Evaluating...\n"
     ]
    },
    {
     "name": "stderr",
     "output_type": "stream",
     "text": [
      "Iteration:   6%|▋         | 65/1004 [00:03<00:46, 20.20it/s]]]\n",
      "Iteration:   9%|▊         | 86/1004 [00:04<00:49, 18.65it/s]]\n",
      "Iteration:  29%|██▉       | 290/1004 [00:13<00:33, 21.25it/s]"
     ]
    },
    {
     "name": "stdout",
     "output_type": "stream",
     "text": [
      "{'Train':  best_epoch_indx:67\n",
      " auc:0.9380036117923384 \n",
      " apur:0.4936043788006646 \n",
      " f1:0.31765661767033526 \n",
      " precision:0.19065231158961368 \n",
      " recall:0.9515140021493141 \n",
      ", 'Validation':  best_epoch_indx:67\n",
      " auc:0.8977300599493041 \n",
      " apur:0.39066407807237724 \n",
      " f1:0.29019980970504283 \n",
      " precision:0.174245886654479 \n",
      " recall:0.8674630261660978 \n",
      "}\n",
      "=====Epoch 68\n",
      "Training...\n"
     ]
    },
    {
     "name": "stderr",
     "output_type": "stream",
     "text": [
      "Iteration:  17%|█▋        | 166/1004 [00:09<00:45, 18.35it/s]\n",
      "Iteration:  58%|█████▊    | 580/1004 [00:52<00:40, 10.57it/s]"
     ]
    },
    {
     "name": "stdout",
     "output_type": "stream",
     "text": [
      "{'Train':  best_epoch_indx:66\n",
      " auc:0.9306479143098443 \n",
      " apur:0.461923530173663 \n",
      " f1:0.31362495100272264 \n",
      " precision:0.18838532320262685 \n",
      " recall:0.9356510745891277 \n",
      ", 'Validation':  best_epoch_indx:66\n",
      " auc:0.8893960931490026 \n",
      " apur:0.37493704778694337 \n",
      " f1:0.2850028730128328 \n",
      " precision:0.171349608475357 \n",
      " recall:0.8464163822525598 \n",
      "}\n",
      "=====Epoch 67\n",
      "Training...\n"
     ]
    },
    {
     "name": "stderr",
     "output_type": "stream",
     "text": [
      "Iteration:  45%|████▌     | 455/1004 [00:37<00:45, 11.99it/s]]\n",
      "Iteration: 100%|██████████| 1004/1004 [01:27<00:00, 11.52it/s]\n",
      "Iteration:  38%|███▊      | 42/112 [00:01<00:03, 21.96it/s]s]"
     ]
    },
    {
     "name": "stdout",
     "output_type": "stream",
     "text": [
      "Evaluating...\n"
     ]
    },
    {
     "name": "stderr",
     "output_type": "stream",
     "text": [
      "Iteration:   7%|▋         | 74/1004 [00:03<00:43, 21.47it/s]]\n",
      "Iteration:  45%|████▌     | 455/1004 [00:38<00:44, 12.37it/s]"
     ]
    },
    {
     "name": "stdout",
     "output_type": "stream",
     "text": [
      "{'Train':  best_epoch_indx:67\n",
      " auc:0.9339251845829195 \n",
      " apur:0.4701814227132788 \n",
      " f1:0.3051399882583962 \n",
      " precision:0.18165712564025308 \n",
      " recall:0.9528415196915102 \n",
      ", 'Validation':  best_epoch_indx:67\n",
      " auc:0.8943003567298348 \n",
      " apur:0.36301952208257343 \n",
      " f1:0.27718856731979147 \n",
      " precision:0.16460290350128096 \n",
      " recall:0.8771331058020477 \n",
      "}\n",
      "=====Epoch 68\n",
      "Training...\n"
     ]
    },
    {
     "name": "stderr",
     "output_type": "stream",
     "text": [
      "Iteration:  51%|█████▏    | 517/1004 [00:43<00:40, 11.98it/s]]\n",
      "Iteration:  30%|███       | 304/1004 [00:14<00:33, 21.04it/s]\n",
      "Iteration:  65%|██████▍   | 651/1004 [00:53<00:31, 11.23it/s]"
     ]
    },
    {
     "name": "stdout",
     "output_type": "stream",
     "text": [
      "{'Train':  best_epoch_indx:67\n",
      " auc:0.9448098425019378 \n",
      " apur:0.5192976700046219 \n",
      " f1:0.33808865355862083 \n",
      " precision:0.20561169376341734 \n",
      " recall:0.9505056890012642 \n",
      ", 'Validation':  best_epoch_indx:67\n",
      " auc:0.89571193827182 \n",
      " apur:0.3906524543475326 \n",
      " f1:0.2993611195619106 \n",
      " precision:0.18215475749722326 \n",
      " recall:0.8395904436860068 \n",
      "}\n",
      "=====Epoch 68\n",
      "Training...\n"
     ]
    },
    {
     "name": "stderr",
     "output_type": "stream",
     "text": [
      "Iteration: 100%|██████████| 1004/1004 [01:23<00:00, 12.09it/s]\n",
      "Iteration:  32%|███▏      | 318/1004 [00:30<01:05, 10.49it/s]"
     ]
    },
    {
     "name": "stdout",
     "output_type": "stream",
     "text": [
      "Evaluating...\n"
     ]
    },
    {
     "name": "stderr",
     "output_type": "stream",
     "text": [
      "Iteration:  38%|███▊      | 384/1004 [00:35<00:52, 11.91it/s]]\n",
      "Iteration:  38%|███▊      | 386/1004 [00:35<00:51, 11.99it/s]"
     ]
    },
    {
     "name": "stdout",
     "output_type": "stream",
     "text": [
      "Evaluating...\n"
     ]
    },
    {
     "name": "stderr",
     "output_type": "stream",
     "text": [
      "Iteration:  12%|█▏        | 124/1004 [00:05<00:40, 21.51it/s]\n",
      "Iteration:  12%|█▏        | 117/1004 [00:05<00:42, 21.06it/s]\n",
      "Iteration:  24%|██▍       | 244/1004 [00:11<00:35, 21.16it/s]"
     ]
    },
    {
     "name": "stdout",
     "output_type": "stream",
     "text": [
      "{'Train':  best_epoch_indx:67\n",
      " auc:0.9383481010239083 \n",
      " apur:0.495785199566147 \n",
      " f1:0.33485858322073736 \n",
      " precision:0.20408841155384552 \n",
      " recall:0.9321112515802781 \n",
      ", 'Validation':  best_epoch_indx:67\n",
      " auc:0.891043484115699 \n",
      " apur:0.3683905285151636 \n",
      " f1:0.299679652784954 \n",
      " precision:0.18310392726354338 \n",
      " recall:0.8248009101251422 \n",
      "}\n",
      "=====Epoch 68\n",
      "Training...\n"
     ]
    },
    {
     "name": "stderr",
     "output_type": "stream",
     "text": [
      "Iteration: 100%|██████████| 1004/1004 [01:27<00:00, 11.48it/s]\n",
      "Iteration:  86%|████████▌ | 859/1004 [00:41<00:07, 19.57it/s]"
     ]
    },
    {
     "name": "stdout",
     "output_type": "stream",
     "text": [
      "Evaluating...\n"
     ]
    },
    {
     "name": "stderr",
     "output_type": "stream",
     "text": [
      "Iteration:  45%|████▌     | 455/1004 [00:37<00:43, 12.48it/s]\n",
      "Iteration:  94%|█████████▍| 944/1004 [01:24<00:05, 11.33it/s]]"
     ]
    },
    {
     "name": "stdout",
     "output_type": "stream",
     "text": [
      "{'Train':  best_epoch_indx:68\n",
      " auc:0.9467710378239214 \n",
      " apur:0.5240313091622916 \n",
      " f1:0.353379809911584 \n",
      " precision:0.21739383701287354 \n",
      " recall:0.9436753271382514 \n",
      ", 'Validation':  best_epoch_indx:68\n",
      " auc:0.9022092725782164 \n",
      " apur:0.41512260976371673 \n",
      " f1:0.3182308522114347 \n",
      " precision:0.1963525026624068 \n",
      " recall:0.8390216154721274 \n",
      "}\n",
      "=====Epoch 69\n",
      "Training...\n"
     ]
    },
    {
     "name": "stderr",
     "output_type": "stream",
     "text": [
      "\n",
      "Iteration:  54%|█████▍    | 545/1004 [00:44<00:36, 12.42it/s]\n",
      "Iteration: 100%|██████████| 1004/1004 [01:31<00:00, 11.01it/s]\n",
      "Iteration:  95%|█████████▍| 106/112 [00:05<00:00, 20.87it/s]]"
     ]
    },
    {
     "name": "stdout",
     "output_type": "stream",
     "text": [
      "Evaluating...\n"
     ]
    },
    {
     "name": "stderr",
     "output_type": "stream",
     "text": [
      "Iteration:  32%|███▏      | 319/1004 [00:14<00:33, 20.49it/s]\n",
      "Iteration:  32%|███▏      | 322/1004 [00:15<00:33, 20.35it/s]"
     ]
    },
    {
     "name": "stdout",
     "output_type": "stream",
     "text": [
      "{'Train':  best_epoch_indx:67\n",
      " auc:0.9381641469555904 \n",
      " apur:0.491019905046779 \n",
      " f1:0.31802805324003325 \n",
      " precision:0.19082849590874024 \n",
      " recall:0.9537926675094817 \n",
      ", 'Validation':  best_epoch_indx:67\n",
      " auc:0.8928904171772984 \n",
      " apur:0.3836203929717663 \n",
      " f1:0.28235294117647064 \n",
      " precision:0.16943748576634024 \n",
      " recall:0.8464163822525598 \n",
      "}\n",
      "=====Epoch 68\n",
      "Training...\n"
     ]
    },
    {
     "name": "stderr",
     "output_type": "stream",
     "text": [
      "Iteration: 100%|██████████| 1004/1004 [01:25<00:00, 11.75it/s]\n",
      "Iteration:   0%|          | 2/1004 [00:00<00:58, 17.07it/s]s]]"
     ]
    },
    {
     "name": "stdout",
     "output_type": "stream",
     "text": [
      "Evaluating...\n"
     ]
    },
    {
     "name": "stderr",
     "output_type": "stream",
     "text": [
      "Iteration:  42%|████▏     | 423/1004 [00:37<00:47, 12.34it/s]\n",
      "Iteration:  94%|█████████▎| 940/1004 [00:44<00:02, 21.62it/s]\n",
      "Iteration:   0%|          | 0/1004 [00:00<?, ?it/s]"
     ]
    },
    {
     "name": "stdout",
     "output_type": "stream",
     "text": [
      "{'Train':  best_epoch_indx:68\n",
      " auc:0.9394218081190823 \n",
      " apur:0.4915943148296099 \n",
      " f1:0.33924647500457794 \n",
      " precision:0.207121595371522 \n",
      " recall:0.9369113091851571 \n",
      ", 'Validation':  best_epoch_indx:68\n",
      " auc:0.8958905382717771 \n",
      " apur:0.37097815960353175 \n",
      " f1:0.2994499898146262 \n",
      " precision:0.18238213399503722 \n",
      " recall:0.8361774744027304 \n",
      "}\n",
      "=====Epoch 69\n",
      "Training...\n"
     ]
    },
    {
     "name": "stderr",
     "output_type": "stream",
     "text": [
      "Iteration:  56%|█████▌    | 563/1004 [00:48<00:36, 12.21it/s]]\n",
      "Iteration:  72%|███████▏  | 725/1004 [01:02<00:22, 12.62it/s]"
     ]
    },
    {
     "name": "stdout",
     "output_type": "stream",
     "text": [
      "{'Train':  best_epoch_indx:68\n",
      " auc:0.9495066401993401 \n",
      " apur:0.5389353309197212 \n",
      " f1:0.35898355754857997 \n",
      " precision:0.22137010544945063 \n",
      " recall:0.9487989886219975 \n",
      ", 'Validation':  best_epoch_indx:68\n",
      " auc:0.8975339095047392 \n",
      " apur:0.4017259450509726 \n",
      " f1:0.31274382314694416 \n",
      " precision:0.1931726907630522 \n",
      " recall:0.8208191126279863 \n",
      "}\n",
      "=====Epoch 69\n",
      "Training...\n"
     ]
    },
    {
     "name": "stderr",
     "output_type": "stream",
     "text": [
      "\n",
      "Iteration: 100%|██████████| 1004/1004 [01:24<00:00, 11.83it/s]\n",
      "Iteration:  22%|██▏       | 224/1004 [00:22<01:17, 10.04it/s]"
     ]
    },
    {
     "name": "stdout",
     "output_type": "stream",
     "text": [
      "Evaluating...\n"
     ]
    },
    {
     "name": "stderr",
     "output_type": "stream",
     "text": [
      "Iteration:  47%|████▋     | 474/1004 [00:40<00:42, 12.46it/s]]\n",
      "Iteration:  54%|█████▍    | 542/1004 [00:45<00:41, 11.23it/s]]\n",
      "Iteration:  34%|███▍      | 345/1004 [00:34<00:55, 11.94it/s]"
     ]
    },
    {
     "name": "stdout",
     "output_type": "stream",
     "text": [
      "{'Train':  best_epoch_indx:68\n",
      " auc:0.9411483874377209 \n",
      " apur:0.5041635949166027 \n",
      " f1:0.32605518689717133 \n",
      " precision:0.19671617226380345 \n",
      " recall:0.9519595448798989 \n",
      ", 'Validation':  best_epoch_indx:68\n",
      " auc:0.8928288380866326 \n",
      " apur:0.37661303009859404 \n",
      " f1:0.28912621359223306 \n",
      " precision:0.1743151486771248 \n",
      " recall:0.8469852104664392 \n",
      "}\n",
      "=====Epoch 69\n",
      "Training...\n",
      "Evaluating...\n"
     ]
    },
    {
     "name": "stderr",
     "output_type": "stream",
     "text": [
      "Iteration: 100%|██████████| 1004/1004 [01:29<00:00, 11.24it/s]\n",
      "Iteration: 100%|██████████| 1004/1004 [01:23<00:00, 12.00it/s]\n",
      "Iteration:   0%|          | 2/1004 [00:00<01:08, 14.66it/s]s]"
     ]
    },
    {
     "name": "stdout",
     "output_type": "stream",
     "text": [
      "Evaluating...\n"
     ]
    },
    {
     "name": "stderr",
     "output_type": "stream",
     "text": [
      "Iteration:  43%|████▎     | 429/1004 [00:39<00:49, 11.66it/s]\n",
      "Iteration:  15%|█▌        | 151/1004 [00:07<00:40, 21.23it/s]\n",
      "Iteration:  50%|████▉     | 497/1004 [00:45<00:50, 10.07it/s]"
     ]
    },
    {
     "name": "stdout",
     "output_type": "stream",
     "text": [
      "{'Train':  best_epoch_indx:69\n",
      " auc:0.9515440535740736 \n",
      " apur:0.5479771085879945 \n",
      " f1:0.3584519940915805 \n",
      " precision:0.2204313577304305 \n",
      " recall:0.9587837410708642 \n",
      ", 'Validation':  best_epoch_indx:69\n",
      " auc:0.9056271139941214 \n",
      " apur:0.41814293703081684 \n",
      " f1:0.32114771519659935 \n",
      " precision:0.19746471510716151 \n",
      " recall:0.8594994311717861 \n",
      "}\n",
      "=====Epoch 70\n",
      "Training...\n"
     ]
    },
    {
     "name": "stderr",
     "output_type": "stream",
     "text": [
      "Iteration:  55%|█████▍    | 551/1004 [00:49<00:35, 12.62it/s]]\n",
      "Iteration:  36%|███▌      | 361/1004 [00:17<00:30, 20.88it/s]\n",
      "Iteration:   0%|          | 0/1004 [00:00<?, ?it/s]"
     ]
    },
    {
     "name": "stdout",
     "output_type": "stream",
     "text": [
      "{'Train':  best_epoch_indx:68\n",
      " auc:0.9418394911601365 \n",
      " apur:0.508146366206569 \n",
      " f1:0.3277072409758634 \n",
      " precision:0.19774343687898754 \n",
      " recall:0.9560682680151706 \n",
      ", 'Validation':  best_epoch_indx:68\n",
      " auc:0.8942956909674645 \n",
      " apur:0.39379664665953595 \n",
      " f1:0.2907531910747345 \n",
      " precision:0.1754262198706643 \n",
      " recall:0.8486916951080774 \n",
      "}\n",
      "=====Epoch 69\n",
      "Training...\n"
     ]
    },
    {
     "name": "stderr",
     "output_type": "stream",
     "text": [
      "Iteration: 100%|██████████| 1004/1004 [01:32<00:00, 10.85it/s]\n",
      "Iteration:   0%|          | 2/1004 [00:00<01:08, 14.54it/s]s]"
     ]
    },
    {
     "name": "stdout",
     "output_type": "stream",
     "text": [
      "Evaluating...\n"
     ]
    },
    {
     "name": "stderr",
     "output_type": "stream",
     "text": [
      "Iteration: 100%|██████████| 1004/1004 [01:26<00:00, 11.60it/s]\n",
      "Iteration:  59%|█████▊    | 589/1004 [00:28<00:20, 20.57it/s]"
     ]
    },
    {
     "name": "stdout",
     "output_type": "stream",
     "text": [
      "Evaluating...\n"
     ]
    },
    {
     "name": "stderr",
     "output_type": "stream",
     "text": [
      "Iteration:  40%|███▉      | 397/1004 [00:34<00:50, 12.00it/s]]\n",
      "Iteration:  46%|████▌     | 463/1004 [00:40<00:44, 12.28it/s]\n",
      "Iteration:  46%|████▋     | 465/1004 [00:40<00:43, 12.29it/s]"
     ]
    },
    {
     "name": "stdout",
     "output_type": "stream",
     "text": [
      "{'Train':  best_epoch_indx:69\n",
      " auc:0.9442281626238811 \n",
      " apur:0.5141894930265083 \n",
      " f1:0.3406192665745544 \n",
      " precision:0.20748078753845942 \n",
      " recall:0.9506289904545168 \n",
      ", 'Validation':  best_epoch_indx:69\n",
      " auc:0.8975900960508197 \n",
      " apur:0.3794158636456656 \n",
      " f1:0.2992141849687689 \n",
      " precision:0.18180705190989227 \n",
      " recall:0.8447098976109215 \n",
      "}\n",
      "=====Epoch 70\n",
      "Training...\n"
     ]
    },
    {
     "name": "stderr",
     "output_type": "stream",
     "text": [
      "Iteration:  14%|█▎        | 137/1004 [00:13<01:24, 10.20it/s]]\n",
      "Iteration:  55%|█████▍    | 549/1004 [00:27<00:21, 21.41it/s]\n",
      "Iteration:  55%|█████▍    | 552/1004 [00:28<00:21, 21.32it/s]"
     ]
    },
    {
     "name": "stdout",
     "output_type": "stream",
     "text": [
      "{'Train':  best_epoch_indx:69\n",
      " auc:0.9538589044044892 \n",
      " apur:0.5600723845070994 \n",
      " f1:0.3589048841976298 \n",
      " precision:0.22055714823502157 \n",
      " recall:0.9628950695322377 \n",
      ", 'Validation':  best_epoch_indx:69\n",
      " auc:0.8995396848571819 \n",
      " apur:0.4107276069190262 \n",
      " f1:0.3124467178175618 \n",
      " precision:0.19223708366115919 \n",
      " recall:0.8339021615472128 \n",
      "}\n",
      "=====Epoch 70\n",
      "Training...\n"
     ]
    },
    {
     "name": "stderr",
     "output_type": "stream",
     "text": [
      "Iteration: 100%|██████████| 1004/1004 [01:30<00:00, 11.07it/s]\n",
      "Iteration:  27%|██▋       | 271/1004 [00:21<00:57, 12.66it/s]]"
     ]
    },
    {
     "name": "stdout",
     "output_type": "stream",
     "text": [
      "Evaluating...\n"
     ]
    },
    {
     "name": "stderr",
     "output_type": "stream",
     "text": [
      "Iteration:  30%|██▉       | 301/1004 [00:24<00:57, 12.22it/s]]\n",
      "Iteration: 100%|██████████| 1004/1004 [01:26<00:00, 11.61it/s]\n",
      "Iteration:   0%|          | 2/1004 [00:00<01:08, 14.64it/s]s]"
     ]
    },
    {
     "name": "stdout",
     "output_type": "stream",
     "text": [
      "Evaluating...\n"
     ]
    },
    {
     "name": "stderr",
     "output_type": "stream",
     "text": [
      "Iteration:  51%|█████     | 512/1004 [00:48<00:40, 12.25it/s]\n",
      "Iteration:   0%|          | 0/1004 [00:00<?, ?it/s]"
     ]
    },
    {
     "name": "stdout",
     "output_type": "stream",
     "text": [
      "{'Train':  best_epoch_indx:69\n",
      " auc:0.9474159613325842 \n",
      " apur:0.5331860233967987 \n",
      " f1:0.35682866902379096 \n",
      " precision:0.2201582489092657 \n",
      " recall:0.940960809102402 \n",
      ", 'Validation':  best_epoch_indx:69\n",
      " auc:0.8964126191357559 \n",
      " apur:0.39408836639977374 \n",
      " f1:0.31301340250756593 \n",
      " precision:0.19322124366159593 \n",
      " recall:0.8236632536973834 \n",
      "}\n",
      "=====Epoch 70\n",
      "Training...\n"
     ]
    },
    {
     "name": "stderr",
     "output_type": "stream",
     "text": [
      "Iteration:  96%|█████████▌| 964/1004 [01:30<00:03, 12.16it/s]]\n",
      "Iteration: 100%|██████████| 1004/1004 [01:33<00:00, 10.74it/s]\n",
      "Iteration:   0%|          | 2/1004 [00:00<01:02, 16.12it/s]s]"
     ]
    },
    {
     "name": "stdout",
     "output_type": "stream",
     "text": [
      "Evaluating...\n"
     ]
    },
    {
     "name": "stderr",
     "output_type": "stream",
     "text": [
      "Iteration:  90%|████████▉ | 902/1004 [00:49<00:05, 17.75it/s]\n",
      "Iteration:   4%|▍         | 41/1004 [00:01<00:45, 21.35it/s]"
     ]
    },
    {
     "name": "stdout",
     "output_type": "stream",
     "text": [
      "{'Train':  best_epoch_indx:70\n",
      " auc:0.9497813281233061 \n",
      " apur:0.5366606720805973 \n",
      " f1:0.36304923623961394 \n",
      " precision:0.22447056712132088 \n",
      " recall:0.948795751943865 \n",
      ", 'Validation':  best_epoch_indx:70\n",
      " auc:0.9024598419627327 \n",
      " apur:0.4072978146557489 \n",
      " f1:0.32009600698232593 \n",
      " precision:0.1980291576673866 \n",
      " recall:0.8344709897610921 \n",
      "}\n",
      "=====Epoch 71\n",
      "Training...\n"
     ]
    },
    {
     "name": "stderr",
     "output_type": "stream",
     "text": [
      "Iteration: 100%|██████████| 1004/1004 [01:21<00:00, 12.32it/s]\n",
      "Iteration:  57%|█████▋    | 568/1004 [00:51<00:35, 12.17it/s]"
     ]
    },
    {
     "name": "stdout",
     "output_type": "stream",
     "text": [
      "Evaluating...\n"
     ]
    },
    {
     "name": "stderr",
     "output_type": "stream",
     "text": [
      "Iteration:  20%|██        | 203/1004 [00:09<00:42, 18.64it/s]]\n",
      "Iteration:  16%|█▌        | 159/1004 [00:13<01:08, 12.28it/s]\n",
      "Iteration:  19%|█▉        | 194/1004 [00:08<00:37, 21.70it/s]"
     ]
    },
    {
     "name": "stdout",
     "output_type": "stream",
     "text": [
      "{'Train':  best_epoch_indx:69\n",
      " auc:0.9466633368051167 \n",
      " apur:0.5263749593393058 \n",
      " f1:0.353987330531052 \n",
      " precision:0.21778975741239892 \n",
      " recall:0.9448798988621997 \n",
      ", 'Validation':  best_epoch_indx:69\n",
      " auc:0.8960419243154483 \n",
      " apur:0.39953125636014675 \n",
      " f1:0.310477823012642 \n",
      " precision:0.19126187961985217 \n",
      " recall:0.8242320819112628 \n",
      "}\n",
      "=====Epoch 70\n",
      "Training...\n"
     ]
    },
    {
     "name": "stderr",
     "output_type": "stream",
     "text": [
      "Iteration: 100%|██████████| 1004/1004 [01:27<00:00, 11.42it/s]\n",
      "Iteration:  33%|███▎      | 333/1004 [00:27<00:54, 12.39it/s]"
     ]
    },
    {
     "name": "stdout",
     "output_type": "stream",
     "text": [
      "Evaluating...\n"
     ]
    },
    {
     "name": "stderr",
     "output_type": "stream",
     "text": [
      "Iteration:  29%|██▉       | 296/1004 [00:14<00:34, 20.70it/s]]\n",
      "Iteration:   8%|▊         | 9/112 [00:00<00:04, 21.17it/s]/s]\n",
      "Iteration:  57%|█████▋    | 575/1004 [00:47<00:35, 11.95it/s]\n",
      "Iteration:  57%|█████▋    | 577/1004 [00:47<00:35, 11.95it/s]"
     ]
    },
    {
     "name": "stdout",
     "output_type": "stream",
     "text": [
      "{'Train':  best_epoch_indx:70\n",
      " auc:0.9538960996256753 \n",
      " apur:0.5615791742243004 \n",
      " f1:0.3689381933438986 \n",
      " precision:0.2285455369279565 \n",
      " recall:0.9565107458912768 \n",
      ", 'Validation':  best_epoch_indx:70\n",
      " auc:0.8970141525493259 \n",
      " apur:0.4066873391524755 \n",
      " f1:0.3154310818231741 \n",
      " precision:0.19545392677283244 \n",
      " recall:0.8168373151308305 \n",
      "}\n",
      "=====Epoch 71\n",
      "Training...\n"
     ]
    },
    {
     "name": "stderr",
     "output_type": "stream",
     "text": [
      "\r",
      "Iteration:  41%|████▏     | 416/1004 [00:20<00:27, 21.08it/s]\n",
      "\r",
      "Iteration:   0%|          | 0/1004 [00:00<?, ?it/s]\r",
      "Iteration:  71%|███████   | 711/1004 [01:01<00:23, 12.61it/s]\r",
      "Iteration:   0%|          | 3/1004 [00:00<01:37, 10.29it/s]\r",
      "Iteration:  58%|█████▊    | 579/1004 [00:47<00:35, 11.95it/s]\r",
      "Iteration:   0%|          | 1/1004 [00:00<01:55,  8.69it/s]\r",
      "Iteration:  42%|████▏     | 419/1004 [00:20<00:27, 21.02it/s]"
     ]
    },
    {
     "name": "stdout",
     "output_type": "stream",
     "text": [
      "{'Train':  best_epoch_indx:70\n",
      " auc:0.9434258974652794 \n",
      " apur:0.5048034941945737 \n",
      " f1:0.346047051989544 \n",
      " precision:0.21198189478478707 \n",
      " recall:0.941462797901258 \n",
      ", 'Validation':  best_epoch_indx:70\n",
      " auc:0.8950920827683274 \n",
      " apur:0.374102658713077 \n",
      " f1:0.3021790767324177 \n",
      " precision:0.18460567823343849 \n",
      " recall:0.8321956769055745 \n",
      "}\n",
      "=====Epoch 71\n",
      "Training...\n"
     ]
    },
    {
     "name": "stderr",
     "output_type": "stream",
     "text": [
      "Iteration: 100%|██████████| 1004/1004 [01:25<00:00, 11.74it/s]\n",
      "Iteration:  94%|█████████▍| 947/1004 [00:44<00:02, 21.13it/s]"
     ]
    },
    {
     "name": "stdout",
     "output_type": "stream",
     "text": [
      "Evaluating...\n"
     ]
    },
    {
     "name": "stderr",
     "output_type": "stream",
     "text": [
      "Iteration:  32%|███▏      | 323/1004 [00:31<01:04, 10.59it/s]]\n",
      "Iteration: 100%|██████████| 1004/1004 [01:23<00:00, 12.05it/s]\n",
      "Iteration:  38%|███▊      | 385/1004 [00:36<00:50, 12.21it/s]"
     ]
    },
    {
     "name": "stdout",
     "output_type": "stream",
     "text": [
      "Evaluating...\n"
     ]
    },
    {
     "name": "stderr",
     "output_type": "stream",
     "text": [
      "Iteration:   1%|▏         | 15/1004 [00:00<00:45, 21.65it/s]]\n",
      "Iteration:  39%|███▉      | 393/1004 [00:36<00:50, 12.22it/s]"
     ]
    },
    {
     "name": "stdout",
     "output_type": "stream",
     "text": [
      "{'Train':  best_epoch_indx:70\n",
      " auc:0.946038055523642 \n",
      " apur:0.5278023540073637 \n",
      " f1:0.3483201005844141 \n",
      " precision:0.2134764119980593 \n",
      " recall:0.9456384323640961 \n",
      ", 'Validation':  best_epoch_indx:70\n",
      " auc:0.8941576920727478 \n",
      " apur:0.39009317272435995 \n",
      " f1:0.3066991216001693 \n",
      " precision:0.18840202834481862 \n",
      " recall:0.8242320819112628 \n",
      "}\n",
      "=====Epoch 71\n",
      "Training...\n"
     ]
    },
    {
     "name": "stderr",
     "output_type": "stream",
     "text": [
      "Iteration:  83%|████████▎ | 833/1004 [01:13<00:14, 12.17it/s]]\n",
      "Iteration:  91%|█████████ | 914/1004 [00:43<00:04, 20.52it/s]\n",
      "Iteration:   0%|          | 0/1004 [00:00<?, ?it/s]"
     ]
    },
    {
     "name": "stdout",
     "output_type": "stream",
     "text": [
      "{'Train':  best_epoch_indx:71\n",
      " auc:0.9446937163433095 \n",
      " apur:0.5207094132230112 \n",
      " f1:0.3344469765692413 \n",
      " precision:0.20269527321488434 \n",
      " recall:0.9555597698969593 \n",
      ", 'Validation':  best_epoch_indx:71\n",
      " auc:0.8976049008737251 \n",
      " apur:0.3973753354986917 \n",
      " f1:0.3011096670998701 \n",
      " precision:0.18265615524560339 \n",
      " recall:0.856655290102389 \n",
      "}\n",
      "=====Epoch 72\n",
      "Training...\n"
     ]
    },
    {
     "name": "stderr",
     "output_type": "stream",
     "text": [
      "Iteration:  99%|█████████▉| 997/1004 [01:27<00:00, 10.42it/s]]\n",
      "Iteration: 100%|██████████| 1004/1004 [01:28<00:00, 11.40it/s]\n",
      "Iteration:  11%|█         | 109/1004 [00:08<01:18, 11.36it/s]"
     ]
    },
    {
     "name": "stdout",
     "output_type": "stream",
     "text": [
      "Evaluating...\n"
     ]
    },
    {
     "name": "stderr",
     "output_type": "stream",
     "text": [
      "Iteration: 100%|██████████| 1004/1004 [01:30<00:00, 11.07it/s]\n",
      "Iteration:   0%|          | 0/1004 [00:00<?, ?it/s]"
     ]
    },
    {
     "name": "stdout",
     "output_type": "stream",
     "text": [
      "Evaluating...\n"
     ]
    },
    {
     "name": "stderr",
     "output_type": "stream",
     "text": [
      "Iteration:  68%|██████▊   | 682/1004 [00:56<00:26, 12.06it/s]\n",
      "Iteration:  16%|█▌        | 159/1004 [00:13<01:36,  8.74it/s]"
     ]
    },
    {
     "name": "stdout",
     "output_type": "stream",
     "text": [
      "{'Train':  best_epoch_indx:70\n",
      " auc:0.9440709674088512 \n",
      " apur:0.5155798593065849 \n",
      " f1:0.32886757862078686 \n",
      " precision:0.1984992732082291 \n",
      " recall:0.9581542351453856 \n",
      ", 'Validation':  best_epoch_indx:70\n",
      " auc:0.8939622594377785 \n",
      " apur:0.3891100650946395 \n",
      " f1:0.2908592679585046 \n",
      " precision:0.1756501182033097 \n",
      " recall:0.8452787258248009 \n",
      "}\n",
      "=====Epoch 71\n",
      "Training...\n"
     ]
    },
    {
     "name": "stderr",
     "output_type": "stream",
     "text": [
      "Iteration: 100%|██████████| 1004/1004 [01:24<00:00, 11.88it/s]\n",
      "Iteration:  33%|███▎      | 327/1004 [00:27<00:54, 12.35it/s]"
     ]
    },
    {
     "name": "stdout",
     "output_type": "stream",
     "text": [
      "Evaluating...\n"
     ]
    },
    {
     "name": "stderr",
     "output_type": "stream",
     "text": [
      "Iteration:  38%|███▊      | 379/1004 [00:17<00:29, 21.39it/s]]\n",
      "Iteration:  55%|█████▍    | 551/1004 [00:46<00:36, 12.37it/s]\n",
      "Iteration:  86%|████████▌ | 96/112 [00:04<00:00, 22.62it/s]s]\n",
      "Iteration:  60%|██████    | 605/1004 [00:51<00:33, 11.85it/s]"
     ]
    },
    {
     "name": "stdout",
     "output_type": "stream",
     "text": [
      "{'Train':  best_epoch_indx:71\n",
      " auc:0.9418186324707493 \n",
      " apur:0.503602825487919 \n",
      " f1:0.3223356983021009 \n",
      " precision:0.19365649769350357 \n",
      " recall:0.9606801947025728 \n",
      ", 'Validation':  best_epoch_indx:71\n",
      " auc:0.893000313826355 \n",
      " apur:0.37870928644575874 \n",
      " f1:0.28246783735562025 \n",
      " precision:0.16915982454167136 \n",
      " recall:0.8555176336746303 \n",
      "}\n",
      "=====Epoch 72\n",
      "Training...\n"
     ]
    },
    {
     "name": "stderr",
     "output_type": "stream",
     "text": [
      "Iteration:  73%|███████▎  | 737/1004 [01:05<00:23, 11.38it/s]"
     ]
    },
    {
     "name": "stdout",
     "output_type": "stream",
     "text": [
      "{'Train':  best_epoch_indx:71\n",
      " auc:0.9448659728536849 \n",
      " apur:0.5134029281212067 \n",
      " f1:0.34725341214525907 \n",
      " precision:0.21279751294154556 \n",
      " recall:0.9432364096080911 \n",
      ", 'Validation':  best_epoch_indx:71\n",
      " auc:0.8906022465574032 \n",
      " apur:0.3838790476076907 \n",
      " f1:0.3031693077564637 \n",
      " precision:0.18560122542762317 \n",
      " recall:0.8270762229806599 \n",
      "}\n",
      "=====Epoch 72\n",
      "Training...\n"
     ]
    },
    {
     "name": "stderr",
     "output_type": "stream",
     "text": [
      "\n",
      "Iteration:  29%|██▉       | 293/1004 [00:25<01:01, 11.56it/s]]\n",
      "Iteration: 100%|██████████| 1004/1004 [01:31<00:00, 11.02it/s]\n",
      "Iteration:  13%|█▎        | 15/112 [00:00<00:04, 22.76it/s]s]"
     ]
    },
    {
     "name": "stdout",
     "output_type": "stream",
     "text": [
      "Evaluating...\n"
     ]
    },
    {
     "name": "stderr",
     "output_type": "stream",
     "text": [
      "Iteration:  35%|███▍      | 351/1004 [00:30<01:02, 10.42it/s]\n",
      "Iteration:  35%|███▌      | 353/1004 [00:30<01:02, 10.40it/s]"
     ]
    },
    {
     "name": "stdout",
     "output_type": "stream",
     "text": [
      "{'Train':  best_epoch_indx:71\n",
      " auc:0.9402561586669592 \n",
      " apur:0.5011192265468712 \n",
      " f1:0.32265743113560574 \n",
      " precision:0.19428482884185788 \n",
      " recall:0.9510745891276865 \n",
      ", 'Validation':  best_epoch_indx:71\n",
      " auc:0.8902595732291763 \n",
      " apur:0.3772751716960984 \n",
      " f1:0.2889645114244045 \n",
      " precision:0.1742699659903835 \n",
      " recall:0.8452787258248009 \n",
      "}\n",
      "=====Epoch 72\n",
      "Training...\n"
     ]
    },
    {
     "name": "stderr",
     "output_type": "stream",
     "text": [
      "Iteration: 100%|██████████| 1004/1004 [01:23<00:00, 11.96it/s]\n",
      "Iteration:   2%|▏         | 21/1004 [00:01<01:20, 12.23it/s]"
     ]
    },
    {
     "name": "stdout",
     "output_type": "stream",
     "text": [
      "Evaluating...\n"
     ]
    },
    {
     "name": "stderr",
     "output_type": "stream",
     "text": [
      "Iteration:  96%|█████████▌| 963/1004 [00:46<00:01, 20.79it/s]]\n",
      "Iteration:  96%|█████████▌| 962/1004 [01:23<00:03, 12.23it/s]]\n",
      "Iteration:  60%|██████    | 606/1004 [00:53<00:38, 10.38it/s]\n",
      "Iteration:  95%|█████████▍| 951/1004 [01:24<00:04, 11.54it/s]"
     ]
    },
    {
     "name": "stdout",
     "output_type": "stream",
     "text": [
      "{'Train':  best_epoch_indx:72\n",
      " auc:0.9446302780782555 \n",
      " apur:0.5120645680935868 \n",
      " f1:0.32767704192119973 \n",
      " precision:0.19749863632821632 \n",
      " recall:0.9613123459131424 \n",
      ", 'Validation':  best_epoch_indx:72\n",
      " auc:0.9013403909808374 \n",
      " apur:0.4103835029273102 \n",
      " f1:0.29651162790697677 \n",
      " precision:0.17869656622284513 \n",
      " recall:0.8703071672354948 \n",
      "}\n",
      "=====Epoch 73\n",
      "Training...\n"
     ]
    },
    {
     "name": "stderr",
     "output_type": "stream",
     "text": [
      "Iteration: 100%|██████████| 1004/1004 [01:27<00:00, 11.51it/s]\n",
      "Iteration:  63%|██████▎   | 630/1004 [00:56<00:36, 10.32it/s]"
     ]
    },
    {
     "name": "stdout",
     "output_type": "stream",
     "text": [
      "Evaluating...\n"
     ]
    },
    {
     "name": "stderr",
     "output_type": "stream",
     "text": [
      "Iteration:   4%|▍         | 44/1004 [00:02<00:44, 21.62it/s]]\n",
      "Iteration:   0%|          | 0/1004 [00:00<?, ?it/s]"
     ]
    },
    {
     "name": "stdout",
     "output_type": "stream",
     "text": [
      "{'Train':  best_epoch_indx:71\n",
      " auc:0.9415109522926898 \n",
      " apur:0.5004016062322727 \n",
      " f1:0.34768893963112485 \n",
      " precision:0.21362144024529583 \n",
      " recall:0.9336283185840708 \n",
      ", 'Validation':  best_epoch_indx:71\n",
      " auc:0.8919768878230853 \n",
      " apur:0.3811967559775656 \n",
      " f1:0.3040762308099524 \n",
      " precision:0.1868088981397164 \n",
      " recall:0.8168373151308305 \n",
      "}\n",
      "=====Epoch 72\n",
      "Training...\n"
     ]
    },
    {
     "name": "stderr",
     "output_type": "stream",
     "text": [
      "Iteration: 100%|██████████| 1004/1004 [01:28<00:00, 11.29it/s]\n",
      "Iteration:   6%|▌         | 61/1004 [00:04<01:16, 12.35it/s]]"
     ]
    },
    {
     "name": "stdout",
     "output_type": "stream",
     "text": [
      "Evaluating...\n"
     ]
    },
    {
     "name": "stderr",
     "output_type": "stream",
     "text": [
      "Iteration: 100%|██████████| 1004/1004 [01:32<00:00, 10.83it/s]\n",
      "Iteration:  68%|██████▊   | 685/1004 [00:36<00:17, 18.47it/s]"
     ]
    },
    {
     "name": "stdout",
     "output_type": "stream",
     "text": [
      "Evaluating...\n"
     ]
    },
    {
     "name": "stderr",
     "output_type": "stream",
     "text": [
      "Iteration:  96%|█████████▌| 961/1004 [00:51<00:02, 17.42it/s]]\n",
      "Iteration:  67%|██████▋   | 672/1004 [00:58<00:27, 12.07it/s]]\n",
      "Iteration:  67%|██████▋   | 676/1004 [00:58<00:27, 11.84it/s]\n",
      "Iteration:  64%|██████▎   | 638/1004 [00:55<00:29, 12.29it/s]"
     ]
    },
    {
     "name": "stdout",
     "output_type": "stream",
     "text": [
      "{'Train':  best_epoch_indx:72\n",
      " auc:0.9471356382593553 \n",
      " apur:0.5298946635171715 \n",
      " f1:0.3471055330820916 \n",
      " precision:0.21225105357369378 \n",
      " recall:0.9518963337547408 \n",
      ", 'Validation':  best_epoch_indx:72\n",
      " auc:0.8944604731327099 \n",
      " apur:0.3946168016821948 \n",
      " f1:0.2987080103359174 \n",
      " precision:0.18251863079449288 \n",
      " recall:0.8219567690557452 \n",
      "}\n",
      "=====Epoch 73\n",
      "Training...\n"
     ]
    },
    {
     "name": "stderr",
     "output_type": "stream",
     "text": [
      "Iteration:  73%|███████▎  | 734/1004 [01:04<00:23, 11.35it/s]\n",
      "Iteration:   0%|          | 1/1004 [00:00<01:51,  8.97it/s]s]"
     ]
    },
    {
     "name": "stdout",
     "output_type": "stream",
     "text": [
      "{'Train':  best_epoch_indx:72\n",
      " auc:0.9363746425540074 \n",
      " apur:0.48182757311034285 \n",
      " f1:0.29764266542186957 \n",
      " precision:0.17587835741130228 \n",
      " recall:0.9673809975346103 \n",
      ", 'Validation':  best_epoch_indx:72\n",
      " auc:0.8923246396541994 \n",
      " apur:0.36740908351773466 \n",
      " f1:0.270363652068757 \n",
      " precision:0.15938486607597516 \n",
      " recall:0.8902161547212741 \n",
      "}\n",
      "=====Epoch 73\n",
      "Training...\n"
     ]
    },
    {
     "name": "stderr",
     "output_type": "stream",
     "text": [
      "Iteration: 100%|██████████| 1004/1004 [01:28<00:00, 11.39it/s]\n",
      "Iteration:  95%|█████████▍| 951/1004 [00:49<00:02, 20.73it/s]"
     ]
    },
    {
     "name": "stdout",
     "output_type": "stream",
     "text": [
      "Evaluating...\n"
     ]
    },
    {
     "name": "stderr",
     "output_type": "stream",
     "text": [
      "Iteration: 100%|██████████| 1004/1004 [01:25<00:00, 11.79it/s]\n",
      "Iteration:   3%|▎         | 29/1004 [00:01<00:45, 21.64it/s]]"
     ]
    },
    {
     "name": "stdout",
     "output_type": "stream",
     "text": [
      "Evaluating...\n"
     ]
    },
    {
     "name": "stderr",
     "output_type": "stream",
     "text": [
      "Iteration:  35%|███▌      | 353/1004 [00:29<00:53, 12.08it/s]]\n",
      "Iteration:  24%|██▎       | 237/1004 [00:11<00:38, 20.00it/s]\n",
      "Iteration:   0%|          | 1/1004 [00:00<02:08,  7.81it/s]s]"
     ]
    },
    {
     "name": "stdout",
     "output_type": "stream",
     "text": [
      "{'Train':  best_epoch_indx:72\n",
      " auc:0.9364014134120591 \n",
      " apur:0.4863053864803605 \n",
      " f1:0.3382410453426579 \n",
      " precision:0.20674090947439466 \n",
      " recall:0.9293931731984829 \n",
      ", 'Validation':  best_epoch_indx:72\n",
      " auc:0.8888249141086983 \n",
      " apur:0.3848296267862322 \n",
      " f1:0.29972809035766573 \n",
      " precision:0.183623782675551 \n",
      " recall:0.8151308304891922 \n",
      "}\n",
      "=====Epoch 73\n",
      "Training...\n"
     ]
    },
    {
     "name": "stderr",
     "output_type": "stream",
     "text": [
      "Iteration:  97%|█████████▋| 969/1004 [01:19<00:02, 12.37it/s]]\n",
      "Iteration: 100%|██████████| 1004/1004 [01:22<00:00, 12.14it/s]\n",
      "Iteration:   0%|          | 0/1004 [00:00<?, ?it/s]\n",
      "Iteration:  56%|█████▋    | 63/112 [00:02<00:02, 21.69it/s]"
     ]
    },
    {
     "name": "stdout",
     "output_type": "stream",
     "text": [
      "Evaluating...\n"
     ]
    },
    {
     "name": "stderr",
     "output_type": "stream",
     "text": [
      "Iteration:  53%|█████▎    | 537/1004 [00:45<00:38, 12.06it/s]\n",
      "Iteration:  54%|█████▎    | 539/1004 [00:45<00:38, 12.02it/s]"
     ]
    },
    {
     "name": "stdout",
     "output_type": "stream",
     "text": [
      "{'Train':  best_epoch_indx:73\n",
      " auc:0.9227121290398684 \n",
      " apur:0.4287525598125242 \n",
      " f1:0.33296188456330805 \n",
      " precision:0.20541707324285166 \n",
      " recall:0.8783108919653582 \n",
      ", 'Validation':  best_epoch_indx:73\n",
      " auc:0.8837236387117874 \n",
      " apur:0.33528135623688865 \n",
      " f1:0.3054711246200608 \n",
      " precision:0.18875771397907165 \n",
      " recall:0.8003412969283277 \n",
      "}\n",
      "=====Epoch 74\n",
      "Training...\n"
     ]
    },
    {
     "name": "stderr",
     "output_type": "stream",
     "text": [
      "Iteration: 100%|██████████| 1004/1004 [01:22<00:00, 12.11it/s]\n",
      "Iteration:  56%|█████▋    | 567/1004 [00:47<00:41, 10.50it/s]"
     ]
    },
    {
     "name": "stdout",
     "output_type": "stream",
     "text": [
      "Evaluating...\n",
      "{'Train':  best_epoch_indx:72\n",
      " auc:0.9373664619972677 \n",
      " apur:0.4727571517313969 \n",
      " f1:0.3219274417805645 \n",
      " precision:0.1938980069581862 \n",
      " recall:0.9476611883691529 \n",
      ", 'Validation':  best_epoch_indx:72\n",
      " auc:0.8881900474120414 \n",
      " apur:0.36911032788107045 \n",
      " f1:0.2838008347083374 \n",
      " precision:0.1710942071386776 \n",
      " recall:0.8316268486916951 \n",
      "}\n",
      "=====Epoch 73\n",
      "Training...\n"
     ]
    },
    {
     "name": "stderr",
     "output_type": "stream",
     "text": [
      "Iteration:  11%|█         | 111/1004 [00:05<00:41, 21.63it/s]\n",
      "Iteration: 100%|██████████| 1004/1004 [01:24<00:00, 11.86it/s]\n",
      "Iteration:  41%|████      | 409/1004 [00:36<00:47, 12.40it/s]"
     ]
    },
    {
     "name": "stdout",
     "output_type": "stream",
     "text": [
      "Evaluating...\n"
     ]
    },
    {
     "name": "stderr",
     "output_type": "stream",
     "text": [
      "Iteration:  58%|█████▊    | 582/1004 [00:48<00:35, 11.85it/s]]\n",
      "Iteration:  64%|██████▍   | 644/1004 [00:53<00:29, 12.37it/s]]\n",
      "Iteration:   5%|▌         | 6/112 [00:00<00:04, 21.50it/s]/s]\n",
      "Iteration:   0%|          | 1/1004 [00:00<01:48,  9.26it/s]s]"
     ]
    },
    {
     "name": "stdout",
     "output_type": "stream",
     "text": [
      "{'Train':  best_epoch_indx:73\n",
      " auc:0.9388848636507517 \n",
      " apur:0.49807666932391065 \n",
      " f1:0.3857511066285651 \n",
      " precision:0.24778649582493523 \n",
      " recall:0.870353982300885 \n",
      ", 'Validation':  best_epoch_indx:73\n",
      " auc:0.8872751901100768 \n",
      " apur:0.3784131767630783 \n",
      " f1:0.33108366229466446 \n",
      " precision:0.2132895816242822 \n",
      " recall:0.7394766780432309 \n",
      "}\n",
      "=====Epoch 74\n",
      "Training...\n"
     ]
    },
    {
     "name": "stderr",
     "output_type": "stream",
     "text": [
      "Iteration:  42%|████▏     | 417/1004 [00:19<00:28, 20.70it/s]\n",
      "Iteration:  42%|████▏     | 420/1004 [00:19<00:28, 20.82it/s]"
     ]
    },
    {
     "name": "stdout",
     "output_type": "stream",
     "text": [
      "{'Train':  best_epoch_indx:73\n",
      " auc:0.9342721682909108 \n",
      " apur:0.4683975000072629 \n",
      " f1:0.30802060036522555 \n",
      " precision:0.18384667197354723 \n",
      " recall:0.9489853973070358 \n",
      ", 'Validation':  best_epoch_indx:73\n",
      " auc:0.8920554341380624 \n",
      " apur:0.3600533285777654 \n",
      " f1:0.27937835135872036 \n",
      " precision:0.1662520281233099 \n",
      " recall:0.8742889647326507 \n",
      "}\n",
      "=====Epoch 74\n",
      "Training...\n"
     ]
    },
    {
     "name": "stderr",
     "output_type": "stream",
     "text": [
      "Iteration: 100%|██████████| 1004/1004 [01:24<00:00, 11.92it/s]\n",
      "Iteration:  26%|██▌       | 260/1004 [00:25<01:10, 10.54it/s]"
     ]
    },
    {
     "name": "stdout",
     "output_type": "stream",
     "text": [
      "Evaluating...\n"
     ]
    },
    {
     "name": "stderr",
     "output_type": "stream",
     "text": [
      "Iteration:  12%|█▏        | 118/1004 [00:05<00:41, 21.45it/s]]\n",
      "Iteration: 100%|██████████| 1004/1004 [01:31<00:00, 10.96it/s]\n",
      "Iteration:   0%|          | 0/1004 [00:00<?, ?it/s]"
     ]
    },
    {
     "name": "stdout",
     "output_type": "stream",
     "text": [
      "Evaluating...\n"
     ]
    },
    {
     "name": "stderr",
     "output_type": "stream",
     "text": [
      "Iteration:   2%|▏         | 22/1004 [00:01<00:44, 22.04it/s]]\n",
      "Iteration:  24%|██▍       | 241/1004 [00:11<00:33, 22.54it/s]"
     ]
    },
    {
     "name": "stdout",
     "output_type": "stream",
     "text": [
      "{'Train':  best_epoch_indx:73\n",
      " auc:0.9379464127423347 \n",
      " apur:0.48544161837164457 \n",
      " f1:0.3020663943203903 \n",
      " precision:0.17913256185906481 \n",
      " recall:0.9628318584070796 \n",
      ", 'Validation':  best_epoch_indx:73\n",
      " auc:0.8909320262307725 \n",
      " apur:0.380638029224714 \n",
      " f1:0.2737819025522042 \n",
      " precision:0.1623624047417443 \n",
      " recall:0.8725824800910125 \n",
      "}\n",
      "=====Epoch 74\n",
      "Training...\n"
     ]
    },
    {
     "name": "stderr",
     "output_type": "stream",
     "text": [
      "Iteration:  86%|████████▌ | 862/1004 [01:14<00:12, 11.70it/s]]\n",
      "Iteration:  92%|█████████▏| 924/1004 [01:20<00:07, 10.74it/s]\n",
      "Iteration:  53%|█████▎    | 529/1004 [00:43<00:41, 11.56it/s]"
     ]
    },
    {
     "name": "stdout",
     "output_type": "stream",
     "text": [
      "{'Train':  best_epoch_indx:74\n",
      " auc:0.9320774858094356 \n",
      " apur:0.45057819608464567 \n",
      " f1:0.3013843558802687 \n",
      " precision:0.17894562177025553 \n",
      " recall:0.9544218977179342 \n",
      ", 'Validation':  best_epoch_indx:74\n",
      " auc:0.8943450762676285 \n",
      " apur:0.3756948623756301 \n",
      " f1:0.28060399065252567 \n",
      " precision:0.16663108454312553 \n",
      " recall:0.8879408418657565 \n",
      "}\n",
      "=====Epoch 75\n",
      "Training...\n"
     ]
    },
    {
     "name": "stderr",
     "output_type": "stream",
     "text": [
      "Iteration: 100%|██████████| 1004/1004 [01:32<00:00, 10.84it/s]\n",
      "Iteration:   9%|▉         | 95/1004 [00:07<01:13, 12.39it/s]]"
     ]
    },
    {
     "name": "stdout",
     "output_type": "stream",
     "text": [
      "Evaluating...\n"
     ]
    },
    {
     "name": "stderr",
     "output_type": "stream",
     "text": [
      "Iteration: 100%|██████████| 1004/1004 [01:28<00:00, 11.36it/s]\n",
      "Iteration:   0%|          | 2/1004 [00:00<01:02, 16.06it/s]s]"
     ]
    },
    {
     "name": "stdout",
     "output_type": "stream",
     "text": [
      "Evaluating...\n"
     ]
    },
    {
     "name": "stderr",
     "output_type": "stream",
     "text": [
      "Iteration:  63%|██████▎   | 631/1004 [00:52<00:32, 11.60it/s]\n",
      "Iteration:  17%|█▋        | 175/1004 [00:14<01:10, 11.81it/s]"
     ]
    },
    {
     "name": "stdout",
     "output_type": "stream",
     "text": [
      "{'Train':  best_epoch_indx:73\n",
      " auc:0.9336116872611995 \n",
      " apur:0.4683613641479023 \n",
      " f1:0.32562145925590535 \n",
      " precision:0.19727563459248257 \n",
      " recall:0.931921618204804 \n",
      ", 'Validation':  best_epoch_indx:73\n",
      " auc:0.8863752273572167 \n",
      " apur:0.368666049974609 \n",
      " f1:0.2892142216910667 \n",
      " precision:0.1752988047808765 \n",
      " recall:0.825938566552901 \n",
      "}\n",
      "=====Epoch 74\n",
      "Training...\n"
     ]
    },
    {
     "name": "stderr",
     "output_type": "stream",
     "text": [
      "\n",
      "Iteration: 100%|██████████| 1004/1004 [01:23<00:00, 11.98it/s]\n",
      "Iteration:   0%|          | 0/1004 [00:00<?, ?it/s]"
     ]
    },
    {
     "name": "stdout",
     "output_type": "stream",
     "text": [
      "Evaluating...\n"
     ]
    },
    {
     "name": "stderr",
     "output_type": "stream",
     "text": [
      "Iteration:  68%|██████▊   | 687/1004 [00:56<00:30, 10.40it/s]]\n",
      "Iteration:  48%|████▊     | 486/1004 [00:47<00:50, 10.20it/s]]\n",
      "Iteration:  74%|███████▍  | 743/1004 [01:01<00:25, 10.20it/s]"
     ]
    },
    {
     "name": "stdout",
     "output_type": "stream",
     "text": [
      "{'Train':  best_epoch_indx:74\n",
      " auc:0.9270973066735829 \n",
      " apur:0.4531111318007834 \n",
      " f1:0.29865744834793795 \n",
      " precision:0.1775536783243521 \n",
      " recall:0.9393766989063784 \n",
      ", 'Validation':  best_epoch_indx:74\n",
      " auc:0.8832986505682073 \n",
      " apur:0.3476577847153137 \n",
      " f1:0.26991347783426994 \n",
      " precision:0.16005500899185443 \n",
      " recall:0.8606370875995449 \n",
      "}\n",
      "=====Epoch 75\n",
      "Training...\n"
     ]
    },
    {
     "name": "stderr",
     "output_type": "stream",
     "text": [
      "Iteration:  50%|█████     | 506/1004 [00:49<00:48, 10.24it/s]\n",
      "Iteration:  83%|████████▎ | 836/1004 [01:10<00:13, 12.28it/s]\n",
      "Iteration:  83%|████████▎ | 838/1004 [01:10<00:13, 12.27it/s]"
     ]
    },
    {
     "name": "stdout",
     "output_type": "stream",
     "text": [
      "{'Train':  best_epoch_indx:74\n",
      " auc:0.9337320312190759 \n",
      " apur:0.48327112676020717 \n",
      " f1:0.29403973509933773 \n",
      " precision:0.17379691457517846 \n",
      " recall:0.9542351453855878 \n",
      ", 'Validation':  best_epoch_indx:74\n",
      " auc:0.8879449423530703 \n",
      " apur:0.3604113287003804 \n",
      " f1:0.26699412332251554 \n",
      " precision:0.15783469874520378 \n",
      " recall:0.8657565415244596 \n",
      "}\n",
      "=====Epoch 75\n",
      "Training...\n"
     ]
    },
    {
     "name": "stderr",
     "output_type": "stream",
     "text": [
      "Iteration: 100%|██████████| 1004/1004 [01:25<00:00, 11.68it/s]\n",
      "Iteration:  18%|█▊        | 178/1004 [00:15<01:07, 12.26it/s]"
     ]
    },
    {
     "name": "stdout",
     "output_type": "stream",
     "text": [
      "Evaluating...\n"
     ]
    },
    {
     "name": "stderr",
     "output_type": "stream",
     "text": [
      "Iteration:  24%|██▎       | 236/1004 [00:20<01:03, 12.11it/s]]\n",
      "Iteration:  30%|███       | 306/1004 [00:26<00:57, 12.17it/s]\n",
      "Iteration:  85%|████████▌ | 857/1004 [01:22<00:14,  9.90it/s]"
     ]
    },
    {
     "name": "stdout",
     "output_type": "stream",
     "text": [
      "{'Train':  best_epoch_indx:74\n",
      " auc:0.9249036349139014 \n",
      " apur:0.44324517510053474 \n",
      " f1:0.3014403608590907 \n",
      " precision:0.1798959926583053 \n",
      " recall:0.9293299620733249 \n",
      ", 'Validation':  best_epoch_indx:74\n",
      " auc:0.8830128905682761 \n",
      " apur:0.34974589249247157 \n",
      " f1:0.27635009310986963 \n",
      " precision:0.16521932754397683 \n",
      " recall:0.8441410693970421 \n",
      "}\n",
      "=====Epoch 75\n",
      "Training...\n"
     ]
    },
    {
     "name": "stderr",
     "output_type": "stream",
     "text": [
      "Iteration: 100%|██████████| 1004/1004 [01:37<00:00, 10.25it/s]\n",
      "Iteration:  55%|█████▍    | 552/1004 [00:26<00:22, 20.38it/s]"
     ]
    },
    {
     "name": "stdout",
     "output_type": "stream",
     "text": [
      "Evaluating...\n"
     ]
    },
    {
     "name": "stderr",
     "output_type": "stream",
     "text": [
      "Iteration:  80%|████████  | 804/1004 [01:06<00:16, 11.92it/s]]\n",
      "Iteration:  97%|█████████▋| 974/1004 [01:20<00:02, 12.24it/s]\n",
      "Iteration:  87%|████████▋ | 874/1004 [01:12<00:10, 12.25it/s]"
     ]
    },
    {
     "name": "stdout",
     "output_type": "stream",
     "text": [
      "{'Train':  best_epoch_indx:75\n",
      " auc:0.9367268691487616 \n",
      " apur:0.486825351229656 \n",
      " f1:0.3018950292687767 \n",
      " precision:0.1790493227101011 \n",
      " recall:0.9617548517605411 \n",
      ", 'Validation':  best_epoch_indx:75\n",
      " auc:0.8967689398189153 \n",
      " apur:0.39065489879430426 \n",
      " f1:0.2793475354309653 \n",
      " precision:0.1656273121234542 \n",
      " recall:0.891353811149033 \n",
      "}\n",
      "=====Epoch 76\n",
      "Training...\n"
     ]
    },
    {
     "name": "stderr",
     "output_type": "stream",
     "text": [
      "Iteration: 100%|██████████| 1004/1004 [01:23<00:00, 12.08it/s]\n",
      "Iteration:  90%|█████████ | 904/1004 [01:14<00:08, 12.07it/s]"
     ]
    },
    {
     "name": "stdout",
     "output_type": "stream",
     "text": [
      "Evaluating...\n"
     ]
    },
    {
     "name": "stderr",
     "output_type": "stream",
     "text": [
      "Iteration: 100%|██████████| 1004/1004 [01:24<00:00, 11.94it/s]\n",
      "Iteration:  14%|█▎        | 137/1004 [00:11<01:10, 12.34it/s]"
     ]
    },
    {
     "name": "stdout",
     "output_type": "stream",
     "text": [
      "Evaluating...\n"
     ]
    },
    {
     "name": "stderr",
     "output_type": "stream",
     "text": [
      "Iteration:  37%|███▋      | 369/1004 [00:17<00:36, 17.46it/s]]\n",
      "Iteration:  31%|███       | 307/1004 [00:25<00:56, 12.34it/s]\n",
      "Iteration:   0%|          | 0/1004 [00:00<?, ?it/s]"
     ]
    },
    {
     "name": "stdout",
     "output_type": "stream",
     "text": [
      "{'Train':  best_epoch_indx:74\n",
      " auc:0.9234975679975217 \n",
      " apur:0.43235463687357273 \n",
      " f1:0.30942322797036537 \n",
      " precision:0.18593259688241448 \n",
      " recall:0.9213653603034134 \n",
      ", 'Validation':  best_epoch_indx:74\n",
      " auc:0.8833970174006378 \n",
      " apur:0.36504527184767305 \n",
      " f1:0.2799084144247281 \n",
      " precision:0.16815680880330125 \n",
      " recall:0.8344709897610921 \n",
      "}\n",
      "=====Epoch 75\n",
      "Training...\n"
     ]
    },
    {
     "name": "stderr",
     "output_type": "stream",
     "text": [
      "Iteration: 100%|██████████| 1004/1004 [01:30<00:00, 11.03it/s]\n",
      "Iteration:   0%|          | 0/1004 [00:00<?, ?it/s]"
     ]
    },
    {
     "name": "stdout",
     "output_type": "stream",
     "text": [
      "Evaluating...\n"
     ]
    },
    {
     "name": "stderr",
     "output_type": "stream",
     "text": [
      "Iteration:  16%|█▌        | 159/1004 [00:07<00:39, 21.45it/s]]\n",
      "Iteration:  67%|██████▋   | 677/1004 [00:58<00:29, 11.11it/s]\n",
      "Iteration:  38%|███▊      | 379/1004 [00:32<00:51, 12.02it/s]"
     ]
    },
    {
     "name": "stdout",
     "output_type": "stream",
     "text": [
      "{'Train':  best_epoch_indx:75\n",
      " auc:0.9299008116246643 \n",
      " apur:0.4500350835097784 \n",
      " f1:0.3111209225561618 \n",
      " precision:0.1865889948050638 \n",
      " recall:0.9354573614008471 \n",
      ", 'Validation':  best_epoch_indx:75\n",
      " auc:0.8895038722597528 \n",
      " apur:0.362739418527719 \n",
      " f1:0.278346676596537 \n",
      " precision:0.16640694568121103 \n",
      " recall:0.8503981797497155 \n",
      "}\n",
      "=====Epoch 76\n",
      "Training...\n"
     ]
    },
    {
     "name": "stderr",
     "output_type": "stream",
     "text": [
      "Iteration:   6%|▌         | 57/1004 [00:04<01:15, 12.60it/s]]]\n",
      "Iteration:  12%|█▏        | 125/1004 [00:10<01:10, 12.46it/s]\n",
      "Iteration:  79%|███████▉  | 797/1004 [01:08<00:16, 12.36it/s]"
     ]
    },
    {
     "name": "stdout",
     "output_type": "stream",
     "text": [
      "{'Train':  best_epoch_indx:75\n",
      " auc:0.9411415136261503 \n",
      " apur:0.5007016124510458 \n",
      " f1:0.33764583049616415 \n",
      " precision:0.2057651875622441 \n",
      " recall:0.9403286978508217 \n",
      ", 'Validation':  best_epoch_indx:75\n",
      " auc:0.8902620048091809 \n",
      " apur:0.38026150908610695 \n",
      " f1:0.2965474722564735 \n",
      " precision:0.18096313017306245 \n",
      " recall:0.8208191126279863 \n",
      "}\n",
      "=====Epoch 76\n",
      "Training...\n"
     ]
    },
    {
     "name": "stderr",
     "output_type": "stream",
     "text": [
      "Iteration: 100%|██████████| 1004/1004 [01:25<00:00, 11.71it/s]\n",
      "Iteration:  69%|██████▉   | 697/1004 [01:00<00:29, 10.41it/s]"
     ]
    },
    {
     "name": "stdout",
     "output_type": "stream",
     "text": [
      "Evaluating...\n"
     ]
    },
    {
     "name": "stderr",
     "output_type": "stream",
     "text": [
      "Iteration:  80%|████████  | 805/1004 [01:09<00:20,  9.62it/s]]\n",
      "Iteration:  85%|████████▍ | 852/1004 [01:14<00:17,  8.90it/s]\n",
      "Iteration:  40%|███▉      | 399/1004 [00:32<00:47, 12.74it/s]"
     ]
    },
    {
     "name": "stdout",
     "output_type": "stream",
     "text": [
      "{'Train':  best_epoch_indx:75\n",
      " auc:0.9286598274271473 \n",
      " apur:0.45184325535250514 \n",
      " f1:0.3131755209830794 \n",
      " precision:0.18831077360447696 \n",
      " recall:0.929519595448799 \n",
      ", 'Validation':  best_epoch_indx:75\n",
      " auc:0.8839265904022683 \n",
      " apur:0.3576060600633011 \n",
      " f1:0.284027105517909 \n",
      " precision:0.17113859076061597 \n",
      " recall:0.8344709897610921 \n",
      "}\n",
      "=====Epoch 76\n",
      "Training...\n"
     ]
    },
    {
     "name": "stderr",
     "output_type": "stream",
     "text": [
      "Iteration: 100%|██████████| 1004/1004 [01:28<00:00, 11.34it/s]\n",
      "Iteration:  66%|██████▌   | 665/1004 [00:56<00:39,  8.60it/s]"
     ]
    },
    {
     "name": "stdout",
     "output_type": "stream",
     "text": [
      "Evaluating...\n"
     ]
    },
    {
     "name": "stderr",
     "output_type": "stream",
     "text": [
      "Iteration:  93%|█████████▎| 937/1004 [01:17<00:05, 12.56it/s]]\n",
      "Iteration: 100%|█████████▉| 1003/1004 [01:23<00:00, 12.32it/s]\n",
      "Iteration: 100%|██████████| 1004/1004 [01:23<00:00, 12.04it/s]\n",
      "Iteration:   0%|          | 0/1004 [00:00<?, ?it/s]"
     ]
    },
    {
     "name": "stdout",
     "output_type": "stream",
     "text": [
      "{'Train':  best_epoch_indx:76\n",
      " auc:0.9397095513061191 \n",
      " apur:0.4998043520054848 \n",
      " f1:0.31000887546800243 \n",
      " precision:0.18483285484891246 \n",
      " recall:0.960490549339402 \n",
      ", 'Validation':  best_epoch_indx:76\n",
      " auc:0.8961638801657078 \n",
      " apur:0.3899240393033083 \n",
      " f1:0.2868525896414343 \n",
      " precision:0.17133370226895406 \n",
      " recall:0.8805460750853242 \n",
      "}\n",
      "=====Epoch 77\n",
      "Training...\n",
      "Evaluating...\n"
     ]
    },
    {
     "name": "stderr",
     "output_type": "stream",
     "text": [
      "Iteration: 100%|██████████| 1004/1004 [01:24<00:00, 11.85it/s]\n",
      "Iteration:  83%|████████▎ | 833/1004 [00:38<00:08, 19.96it/s]"
     ]
    },
    {
     "name": "stdout",
     "output_type": "stream",
     "text": [
      "Evaluating...\n"
     ]
    },
    {
     "name": "stderr",
     "output_type": "stream",
     "text": [
      "Iteration:  25%|██▍       | 250/1004 [00:22<01:15,  9.99it/s]]\n",
      "Iteration:  34%|███▍      | 342/1004 [00:16<00:33, 19.76it/s]\n",
      "Iteration:  31%|███       | 308/1004 [00:27<01:08, 10.10it/s]"
     ]
    },
    {
     "name": "stdout",
     "output_type": "stream",
     "text": [
      "{'Train':  best_epoch_indx:75\n",
      " auc:0.9203560852022373 \n",
      " apur:0.4182780172498168 \n",
      " f1:0.2877808496553872 \n",
      " precision:0.17008423087544877 \n",
      " recall:0.9343236409608091 \n",
      ", 'Validation':  best_epoch_indx:75\n",
      " auc:0.8833018627661468 \n",
      " apur:0.35596644347798345 \n",
      " f1:0.2646674221951007 \n",
      " precision:0.15628539071347677 \n",
      " recall:0.863481228668942 \n",
      "}\n",
      "=====Epoch 76\n",
      "Training...\n"
     ]
    },
    {
     "name": "stderr",
     "output_type": "stream",
     "text": [
      "Iteration: 100%|██████████| 1004/1004 [01:24<00:00, 11.83it/s]\n",
      "Iteration:  92%|█████████▏| 921/1004 [00:43<00:04, 20.56it/s]"
     ]
    },
    {
     "name": "stdout",
     "output_type": "stream",
     "text": [
      "Evaluating...\n"
     ]
    },
    {
     "name": "stderr",
     "output_type": "stream",
     "text": [
      "Iteration:  80%|████████  | 804/1004 [00:38<00:09, 21.35it/s]]\n",
      "Iteration:  64%|██████▍   | 644/1004 [00:55<00:28, 12.61it/s]\n",
      "Iteration:  26%|██▌       | 258/1004 [00:12<00:34, 21.70it/s]"
     ]
    },
    {
     "name": "stdout",
     "output_type": "stream",
     "text": [
      "{'Train':  best_epoch_indx:76\n",
      " auc:0.9273130167846008 \n",
      " apur:0.4468685623722771 \n",
      " f1:0.3103237501053874 \n",
      " precision:0.18620445433735092 \n",
      " recall:0.9307162273215753 \n",
      ", 'Validation':  best_epoch_indx:76\n",
      " auc:0.885809719012716 \n",
      " apur:0.3519738010340493 \n",
      " f1:0.27850239279346906 \n",
      " precision:0.16676031014720755 \n",
      " recall:0.8441410693970421 \n",
      "}\n",
      "=====Epoch 77\n",
      "Training...\n"
     ]
    },
    {
     "name": "stderr",
     "output_type": "stream",
     "text": [
      "Iteration:  38%|███▊      | 379/1004 [00:34<00:52, 12.00it/s]]\n",
      "Iteration:  51%|█████     | 513/1004 [00:23<00:22, 21.73it/s]\n",
      "Iteration:  15%|█▍        | 149/1004 [00:11<01:10, 12.21it/s]"
     ]
    },
    {
     "name": "stdout",
     "output_type": "stream",
     "text": [
      "{'Train':  best_epoch_indx:76\n",
      " auc:0.9425524066971832 \n",
      " apur:0.509444444871155 \n",
      " f1:0.32967539450870226 \n",
      " precision:0.19946617799378535 \n",
      " recall:0.9494943109987358 \n",
      ", 'Validation':  best_epoch_indx:76\n",
      " auc:0.8917405310685579 \n",
      " apur:0.3822292404378589 \n",
      " f1:0.2932935916542474 \n",
      " precision:0.17768147345612134 \n",
      " recall:0.8395904436860068 \n",
      "}\n",
      "=====Epoch 77\n",
      "Training...\n"
     ]
    },
    {
     "name": "stderr",
     "output_type": "stream",
     "text": [
      "Iteration: 100%|██████████| 1004/1004 [01:25<00:00, 11.73it/s]\n",
      "Iteration:  86%|████████▌ | 860/1004 [00:42<00:06, 20.60it/s]"
     ]
    },
    {
     "name": "stdout",
     "output_type": "stream",
     "text": [
      "Evaluating...\n"
     ]
    },
    {
     "name": "stderr",
     "output_type": "stream",
     "text": [
      "Iteration:  48%|████▊     | 483/1004 [00:39<00:40, 12.77it/s]]\n",
      "Iteration:  80%|███████▉  | 801/1004 [01:13<00:20, 10.09it/s]\n",
      "Iteration:  38%|███▊      | 379/1004 [00:33<00:54, 11.37it/s]"
     ]
    },
    {
     "name": "stdout",
     "output_type": "stream",
     "text": [
      "{'Train':  best_epoch_indx:76\n",
      " auc:0.9348192113072965 \n",
      " apur:0.4889171586515264 \n",
      " f1:0.31126956738664946 \n",
      " precision:0.18626377727464982 \n",
      " recall:0.9464601769911505 \n",
      ", 'Validation':  best_epoch_indx:76\n",
      " auc:0.8875457056287254 \n",
      " apur:0.37990879154257606 \n",
      " f1:0.27953161592505854 \n",
      " precision:0.16732084781877313 \n",
      " recall:0.8486916951080774 \n",
      "}\n",
      "=====Epoch 77\n",
      "Training...\n"
     ]
    },
    {
     "name": "stderr",
     "output_type": "stream",
     "text": [
      "Iteration: 100%|██████████| 1004/1004 [01:33<00:00, 10.77it/s]\n",
      "Iteration:  62%|██████▏   | 623/1004 [00:35<00:21, 17.88it/s]"
     ]
    },
    {
     "name": "stdout",
     "output_type": "stream",
     "text": [
      "Evaluating...\n"
     ]
    },
    {
     "name": "stderr",
     "output_type": "stream",
     "text": [
      "Iteration: 100%|██████████| 1004/1004 [01:22<00:00, 12.22it/s]\n",
      "Iteration:  36%|███▌      | 362/1004 [00:17<00:30, 20.91it/s]"
     ]
    },
    {
     "name": "stdout",
     "output_type": "stream",
     "text": [
      "Evaluating...\n"
     ]
    },
    {
     "name": "stderr",
     "output_type": "stream",
     "text": [
      "Iteration:  14%|█▍        | 139/1004 [00:06<00:39, 21.92it/s]]\n",
      "Iteration:  92%|█████████▏| 925/1004 [01:22<00:06, 11.83it/s]\n",
      "Iteration:  26%|██▌       | 262/1004 [00:12<00:35, 21.01it/s]"
     ]
    },
    {
     "name": "stdout",
     "output_type": "stream",
     "text": [
      "{'Train':  best_epoch_indx:77\n",
      " auc:0.9448692084605378 \n",
      " apur:0.5149148331437694 \n",
      " f1:0.36398045642896903 \n",
      " precision:0.22626334081751914 \n",
      " recall:0.9300840761110057 \n",
      ", 'Validation':  best_epoch_indx:77\n",
      " auc:0.9007410468865331 \n",
      " apur:0.3997363245293205 \n",
      " f1:0.3238159220691972 \n",
      " precision:0.20158929318276872 \n",
      " recall:0.8225255972696246 \n",
      "}\n",
      "=====Epoch 78\n",
      "Training...\n"
     ]
    },
    {
     "name": "stderr",
     "output_type": "stream",
     "text": [
      "Iteration: 100%|██████████| 1004/1004 [01:28<00:00, 11.30it/s]\n",
      "Iteration:  65%|██████▌   | 653/1004 [00:55<00:33, 10.40it/s]"
     ]
    },
    {
     "name": "stdout",
     "output_type": "stream",
     "text": [
      "Evaluating...\n"
     ]
    },
    {
     "name": "stderr",
     "output_type": "stream",
     "text": [
      "Iteration:  74%|███████▍  | 744/1004 [00:35<00:11, 22.15it/s]]\n",
      "Iteration:  34%|███▎      | 337/1004 [00:28<00:53, 12.52it/s]\n",
      "Iteration:  86%|████████▋ | 867/1004 [00:40<00:06, 21.73it/s]"
     ]
    },
    {
     "name": "stdout",
     "output_type": "stream",
     "text": [
      "{'Train':  best_epoch_indx:76\n",
      " auc:0.934626391616934 \n",
      " apur:0.47988632100795636 \n",
      " f1:0.3334092876999499 \n",
      " precision:0.20335779408494553 \n",
      " recall:0.924905183312263 \n",
      ", 'Validation':  best_epoch_indx:76\n",
      " auc:0.8900384878737914 \n",
      " apur:0.37378216792644664 \n",
      " f1:0.29527720739219715 \n",
      " precision:0.18015534953645704 \n",
      " recall:0.8179749715585893 \n",
      "}\n",
      "=====Epoch 77\n",
      "Training...\n"
     ]
    },
    {
     "name": "stderr",
     "output_type": "stream",
     "text": [
      "Iteration: 100%|██████████| 1004/1004 [01:26<00:00, 11.63it/s]\n",
      "Iteration:  10%|█         | 103/1004 [00:08<01:18, 11.53it/s]"
     ]
    },
    {
     "name": "stdout",
     "output_type": "stream",
     "text": [
      "Evaluating...\n"
     ]
    },
    {
     "name": "stderr",
     "output_type": "stream",
     "text": [
      "Iteration:  46%|████▌     | 459/1004 [00:38<00:43, 12.46it/s]\n",
      "Iteration:  78%|███████▊  | 780/1004 [00:37<00:10, 21.48it/s]\n",
      "Iteration:  15%|█▍        | 146/1004 [00:07<00:41, 20.71it/s]"
     ]
    },
    {
     "name": "stdout",
     "output_type": "stream",
     "text": [
      "{'Train':  best_epoch_indx:77\n",
      " auc:0.9364542337188562 \n",
      " apur:0.48420814032911175 \n",
      " f1:0.3226597777005905 \n",
      " precision:0.19477387988310685 \n",
      " recall:0.9395663442695493 \n",
      ", 'Validation':  best_epoch_indx:77\n",
      " auc:0.8908776700991604 \n",
      " apur:0.3814729476867921 \n",
      " f1:0.28735185544977654 \n",
      " precision:0.17326616682286786 \n",
      " recall:0.841296928327645 \n",
      "}\n",
      "=====Epoch 78\n",
      "Training...\n"
     ]
    },
    {
     "name": "stderr",
     "output_type": "stream",
     "text": [
      "Iteration:  40%|████      | 406/1004 [00:19<00:28, 20.97it/s]]\n",
      "Iteration:  40%|███▉      | 399/1004 [00:33<00:51, 11.77it/s]\n",
      "Iteration:  23%|██▎       | 227/1004 [00:18<01:01, 12.71it/s]"
     ]
    },
    {
     "name": "stdout",
     "output_type": "stream",
     "text": [
      "{'Train':  best_epoch_indx:77\n",
      " auc:0.9467411755207709 \n",
      " apur:0.5300854200728949 \n",
      " f1:0.3461458645576333 \n",
      " precision:0.21168109647762204 \n",
      " recall:0.9489254108723135 \n",
      ", 'Validation':  best_epoch_indx:77\n",
      " auc:0.8946181938460604 \n",
      " apur:0.40141782324363273 \n",
      " f1:0.30404492045336384 \n",
      " precision:0.18602875683929254 \n",
      " recall:0.8316268486916951 \n",
      "}\n",
      "=====Epoch 78\n",
      "Training...\n"
     ]
    },
    {
     "name": "stderr",
     "output_type": "stream",
     "text": [
      "Iteration: 100%|██████████| 1004/1004 [01:25<00:00, 11.79it/s]\n",
      "Iteration:   0%|          | 2/1004 [00:00<01:10, 14.15it/s]s]"
     ]
    },
    {
     "name": "stdout",
     "output_type": "stream",
     "text": [
      "Evaluating...\n"
     ]
    },
    {
     "name": "stderr",
     "output_type": "stream",
     "text": [
      "Iteration:  25%|██▌       | 251/1004 [00:24<03:35,  3.49it/s]\n",
      "Iteration:  57%|█████▋    | 568/1004 [00:48<00:42, 10.25it/s]\n",
      "Iteration:  57%|█████▋    | 570/1004 [00:48<00:42, 10.20it/s]"
     ]
    },
    {
     "name": "stdout",
     "output_type": "stream",
     "text": [
      "{'Train':  best_epoch_indx:77\n",
      " auc:0.9400381480331319 \n",
      " apur:0.5033813496500253 \n",
      " f1:0.3215790877567351 \n",
      " precision:0.19344072909312623 \n",
      " recall:0.9525916561314791 \n",
      ", 'Validation':  best_epoch_indx:77\n",
      " auc:0.8904670381474885 \n",
      " apur:0.37913849255695753 \n",
      " f1:0.2866737023889475 \n",
      " precision:0.17241777264858626 \n",
      " recall:0.8498293515358362 \n",
      "}\n",
      "=====Epoch 78\n",
      "Training...\n"
     ]
    },
    {
     "name": "stderr",
     "output_type": "stream",
     "text": [
      "Iteration: 100%|██████████| 1004/1004 [01:32<00:00, 10.83it/s]\n",
      "Iteration:  33%|███▎      | 327/1004 [00:28<00:55, 12.16it/s]"
     ]
    },
    {
     "name": "stdout",
     "output_type": "stream",
     "text": [
      "Evaluating...\n"
     ]
    },
    {
     "name": "stderr",
     "output_type": "stream",
     "text": [
      "Iteration: 100%|██████████| 1004/1004 [01:28<00:00, 11.34it/s]\n",
      "Iteration:  23%|██▎       | 234/1004 [00:11<00:37, 20.47it/s]"
     ]
    },
    {
     "name": "stdout",
     "output_type": "stream",
     "text": [
      "Evaluating...\n"
     ]
    },
    {
     "name": "stderr",
     "output_type": "stream",
     "text": [
      "Iteration:  51%|█████     | 512/1004 [00:44<00:49,  9.90it/s]]\n",
      "Iteration:  56%|█████▋    | 565/1004 [00:49<00:44,  9.97it/s]\n",
      "Iteration:  56%|█████▋    | 566/1004 [00:49<00:44,  9.94it/s]"
     ]
    },
    {
     "name": "stdout",
     "output_type": "stream",
     "text": [
      "{'Train':  best_epoch_indx:78\n",
      " auc:0.949932616207825 \n",
      " apur:0.5427921762701804 \n",
      " f1:0.34009694133377905 \n",
      " precision:0.20643616589562536 \n",
      " recall:0.9647259624502181 \n",
      ", 'Validation':  best_epoch_indx:78\n",
      " auc:0.9003578262887859 \n",
      " apur:0.40083716377428724 \n",
      " f1:0.30361252877013906 \n",
      " precision:0.18421372191863994 \n",
      " recall:0.8629124004550626 \n",
      "}\n",
      "=====Epoch 79\n",
      "Training...\n"
     ]
    },
    {
     "name": "stderr",
     "output_type": "stream",
     "text": [
      "Iteration: 100%|██████████| 1004/1004 [01:31<00:00, 11.02it/s]\n",
      "Iteration:  14%|█▎        | 137/1004 [00:11<01:10, 12.36it/s]"
     ]
    },
    {
     "name": "stdout",
     "output_type": "stream",
     "text": [
      "Evaluating...\n"
     ]
    },
    {
     "name": "stderr",
     "output_type": "stream",
     "text": [
      "Iteration:  39%|███▉      | 391/1004 [00:18<00:27, 22.02it/s]]\n",
      "Iteration:  95%|█████████▍| 951/1004 [01:24<00:05, 10.30it/s]\n",
      "Iteration:   0%|          | 0/1004 [00:00<?, ?it/s]"
     ]
    },
    {
     "name": "stdout",
     "output_type": "stream",
     "text": [
      "{'Train':  best_epoch_indx:77\n",
      " auc:0.9411128724351743 \n",
      " apur:0.5103978960842472 \n",
      " f1:0.33324392588122226 \n",
      " precision:0.20240842814086726 \n",
      " recall:0.9424146649810367 \n",
      ", 'Validation':  best_epoch_indx:77\n",
      " auc:0.8931671866120472 \n",
      " apur:0.3866773582819878 \n",
      " f1:0.2980312973245835 \n",
      " precision:0.1811709831839941 \n",
      " recall:0.8395904436860068 \n",
      "}\n",
      "=====Epoch 78\n",
      "Training...\n"
     ]
    },
    {
     "name": "stderr",
     "output_type": "stream",
     "text": [
      "Iteration: 100%|██████████| 1004/1004 [01:29<00:00, 11.27it/s]\n",
      "Iteration:  61%|██████    | 610/1004 [00:28<00:18, 21.01it/s]"
     ]
    },
    {
     "name": "stdout",
     "output_type": "stream",
     "text": [
      "Evaluating...\n"
     ]
    },
    {
     "name": "stderr",
     "output_type": "stream",
     "text": [
      "Iteration:  48%|████▊     | 485/1004 [00:40<00:43, 11.90it/s]\n",
      "Iteration:  74%|███████▍  | 745/1004 [00:34<00:12, 21.39it/s]"
     ]
    },
    {
     "name": "stdout",
     "output_type": "stream",
     "text": [
      "{'Train':  best_epoch_indx:78\n",
      " auc:0.9426455919362349 \n",
      " apur:0.5093374921651461 \n",
      " f1:0.34069264069264066 \n",
      " precision:0.20779311015689053 \n",
      " recall:0.9452557051646754 \n",
      ", 'Validation':  best_epoch_indx:78\n",
      " auc:0.894791401301432 \n",
      " apur:0.38948987106173516 \n",
      " f1:0.29592043840064947 \n",
      " precision:0.1800889328063241 \n",
      " recall:0.8293515358361775 \n",
      "}\n",
      "=====Epoch 79\n",
      "Training...\n"
     ]
    },
    {
     "name": "stderr",
     "output_type": "stream",
     "text": [
      "\n",
      "Iteration:  17%|█▋        | 173/1004 [00:14<01:07, 12.30it/s]]\n",
      "Iteration:  24%|██▍       | 239/1004 [00:19<01:02, 12.26it/s]\n",
      "Iteration:  32%|███▏      | 322/1004 [00:31<01:06, 10.30it/s]"
     ]
    },
    {
     "name": "stdout",
     "output_type": "stream",
     "text": [
      "{'Train':  best_epoch_indx:78\n",
      " auc:0.9547576617486977 \n",
      " apur:0.5656710497207339 \n",
      " f1:0.3707325441756733 \n",
      " precision:0.229942540966163 \n",
      " recall:0.9561946902654868 \n",
      ", 'Validation':  best_epoch_indx:78\n",
      " auc:0.8979148600296413 \n",
      " apur:0.40834699625715304 \n",
      " f1:0.3193537678433108 \n",
      " precision:0.19824151669185328 \n",
      " recall:0.8208191126279863 \n",
      "}\n",
      "=====Epoch 79\n",
      "Training...\n"
     ]
    },
    {
     "name": "stderr",
     "output_type": "stream",
     "text": [
      "Iteration: 100%|██████████| 1004/1004 [01:26<00:00, 11.57it/s]\n",
      "Iteration:   0%|          | 0/1004 [00:00<?, ?it/s]"
     ]
    },
    {
     "name": "stdout",
     "output_type": "stream",
     "text": [
      "Evaluating...\n"
     ]
    },
    {
     "name": "stderr",
     "output_type": "stream",
     "text": [
      "Iteration:  28%|██▊       | 281/1004 [00:22<00:58, 12.26it/s]\n",
      "Iteration:  65%|██████▌   | 656/1004 [00:59<00:29, 11.87it/s]\n",
      "Iteration:  66%|██████▌   | 658/1004 [00:59<00:29, 11.80it/s]"
     ]
    },
    {
     "name": "stdout",
     "output_type": "stream",
     "text": [
      "{'Train':  best_epoch_indx:78\n",
      " auc:0.9489408852172161 \n",
      " apur:0.5400125048514354 \n",
      " f1:0.3539823008849558 \n",
      " precision:0.21754558753240735 \n",
      " recall:0.9494310998735778 \n",
      ", 'Validation':  best_epoch_indx:78\n",
      " auc:0.8965402815722989 \n",
      " apur:0.40385314051778864 \n",
      " f1:0.3095975232198142 \n",
      " precision:0.1905638060191878 \n",
      " recall:0.8248009101251422 \n",
      "}\n",
      "=====Epoch 79\n",
      "Training...\n"
     ]
    },
    {
     "name": "stderr",
     "output_type": "stream",
     "text": [
      "Iteration: 100%|██████████| 1004/1004 [01:29<00:00, 11.18it/s]\n",
      "Iteration:   0%|          | 2/1004 [00:00<01:01, 16.31it/s]s]"
     ]
    },
    {
     "name": "stdout",
     "output_type": "stream",
     "text": [
      "Evaluating...\n"
     ]
    },
    {
     "name": "stderr",
     "output_type": "stream",
     "text": [
      "Iteration: 100%|██████████| 1004/1004 [01:22<00:00, 12.14it/s]\n",
      "Iteration:  76%|███████▌  | 763/1004 [01:02<00:22, 10.55it/s]"
     ]
    },
    {
     "name": "stdout",
     "output_type": "stream",
     "text": [
      "Evaluating...\n"
     ]
    },
    {
     "name": "stderr",
     "output_type": "stream",
     "text": [
      "Iteration:  23%|██▎       | 227/1004 [00:10<00:42, 18.46it/s]]\n",
      "Iteration:  34%|███▍      | 344/1004 [00:16<00:30, 21.55it/s]\n",
      "Iteration:  60%|█████▉    | 601/1004 [00:51<00:33, 11.98it/s]"
     ]
    },
    {
     "name": "stdout",
     "output_type": "stream",
     "text": [
      "{'Train':  best_epoch_indx:79\n",
      " auc:0.9557625535000364 \n",
      " apur:0.573816322360398 \n",
      " f1:0.3726848440186687 \n",
      " precision:0.23127696224142924 \n",
      " recall:0.959099816676149 \n",
      ", 'Validation':  best_epoch_indx:79\n",
      " auc:0.9049788960389904 \n",
      " apur:0.424622641986487 \n",
      " f1:0.32444395263915016 \n",
      " precision:0.20140129138617943 \n",
      " recall:0.8339021615472128 \n",
      "}\n",
      "=====Epoch 80\n",
      "Training...\n"
     ]
    },
    {
     "name": "stderr",
     "output_type": "stream",
     "text": [
      "Iteration: 100%|██████████| 1004/1004 [01:23<00:00, 12.00it/s]\n",
      "Iteration:  66%|██████▌   | 659/1004 [00:55<00:27, 12.76it/s]"
     ]
    },
    {
     "name": "stdout",
     "output_type": "stream",
     "text": [
      "Evaluating...\n"
     ]
    },
    {
     "name": "stderr",
     "output_type": "stream",
     "text": [
      "Iteration:  91%|█████████ | 913/1004 [00:45<00:04, 21.81it/s]]\n",
      "Iteration: 100%|██████████| 1004/1004 [01:24<00:00, 11.85it/s]\n",
      "Iteration:   0%|          | 2/1004 [00:00<00:59, 16.84it/s]s]"
     ]
    },
    {
     "name": "stdout",
     "output_type": "stream",
     "text": [
      "Evaluating...\n"
     ]
    },
    {
     "name": "stderr",
     "output_type": "stream",
     "text": [
      "Iteration:   1%|▏         | 14/1004 [00:00<00:46, 21.39it/s]]\n",
      "Iteration:  64%|██████▎   | 640/1004 [00:29<00:17, 20.60it/s]"
     ]
    },
    {
     "name": "stdout",
     "output_type": "stream",
     "text": [
      "{'Train':  best_epoch_indx:78\n",
      " auc:0.9445643324842032 \n",
      " apur:0.5236576778435611 \n",
      " f1:0.3458767013610889 \n",
      " precision:0.21182188996745355 \n",
      " recall:0.9420986093552465 \n",
      ", 'Validation':  best_epoch_indx:78\n",
      " auc:0.8944329002716265 \n",
      " apur:0.4016077729269207 \n",
      " f1:0.3027004396064476 \n",
      " precision:0.18547973319651104 \n",
      " recall:0.8225255972696246 \n",
      "}\n",
      "=====Epoch 79\n",
      "Training...\n"
     ]
    },
    {
     "name": "stderr",
     "output_type": "stream",
     "text": [
      "Iteration:   1%|          | 7/1004 [00:00<01:32, 10.78it/s]s]\n",
      "Iteration:  47%|████▋     | 473/1004 [00:40<00:53, 10.01it/s]\n",
      "Iteration:  47%|████▋     | 475/1004 [00:40<00:54,  9.63it/s]"
     ]
    },
    {
     "name": "stdout",
     "output_type": "stream",
     "text": [
      "{'Train':  best_epoch_indx:79\n",
      " auc:0.9499383528034514 \n",
      " apur:0.5402172231346535 \n",
      " f1:0.3502792264734389 \n",
      " precision:0.21424437889031603 \n",
      " recall:0.9595423225235477 \n",
      ", 'Validation':  best_epoch_indx:79\n",
      " auc:0.8989198024358294 \n",
      " apur:0.39608834311011054 \n",
      " f1:0.3015208737368582 \n",
      " precision:0.18372931956711033 \n",
      " recall:0.8401592718998863 \n",
      "}\n",
      "=====Epoch 80\n",
      "Training...\n"
     ]
    },
    {
     "name": "stderr",
     "output_type": "stream",
     "text": [
      "Iteration:  61%|██████    | 612/1004 [00:55<00:38, 10.19it/s]]\n",
      "Iteration:  67%|██████▋   | 669/1004 [01:00<00:33,  9.91it/s]\n",
      "Iteration:  25%|██▍       | 247/1004 [00:20<01:02, 12.09it/s]"
     ]
    },
    {
     "name": "stdout",
     "output_type": "stream",
     "text": [
      "{'Train':  best_epoch_indx:79\n",
      " auc:0.9577615756154011 \n",
      " apur:0.5764120191139885 \n",
      " f1:0.38177361573754004 \n",
      " precision:0.2382678277241704 \n",
      " recall:0.9599241466498104 \n",
      ", 'Validation':  best_epoch_indx:79\n",
      " auc:0.8990049974621841 \n",
      " apur:0.41741774997370196 \n",
      " f1:0.32531214528944385 \n",
      " precision:0.2032047646057856 \n",
      " recall:0.8151308304891922 \n",
      "}\n",
      "=====Epoch 80\n",
      "Training...\n"
     ]
    },
    {
     "name": "stderr",
     "output_type": "stream",
     "text": [
      "Iteration:  24%|██▍       | 245/1004 [00:24<01:26,  8.77it/s]]\n",
      "Iteration:  68%|██████▊   | 681/1004 [00:56<00:26, 12.31it/s]\n",
      "Iteration:   0%|          | 1/1004 [00:00<02:18,  7.22it/s]/s]"
     ]
    },
    {
     "name": "stdout",
     "output_type": "stream",
     "text": [
      "{'Train':  best_epoch_indx:79\n",
      " auc:0.9523506568339972 \n",
      " apur:0.5566106006338528 \n",
      " f1:0.3517618118193262 \n",
      " precision:0.21519917475659558 \n",
      " recall:0.9626422250316056 \n",
      ", 'Validation':  best_epoch_indx:79\n",
      " auc:0.898109736362174 \n",
      " apur:0.40936475512034387 \n",
      " f1:0.30754815200416447 \n",
      " precision:0.18822479928635147 \n",
      " recall:0.8401592718998863 \n",
      "}\n",
      "=====Epoch 80\n",
      "Training...\n"
     ]
    },
    {
     "name": "stderr",
     "output_type": "stream",
     "text": [
      "Iteration: 100%|██████████| 1004/1004 [01:31<00:00, 10.94it/s]\n",
      "Iteration:  68%|██████▊   | 687/1004 [00:57<00:26, 11.88it/s]"
     ]
    },
    {
     "name": "stdout",
     "output_type": "stream",
     "text": [
      "Evaluating...\n"
     ]
    },
    {
     "name": "stderr",
     "output_type": "stream",
     "text": [
      "Iteration: 100%|██████████| 1004/1004 [01:23<00:00, 12.04it/s]\n",
      "Iteration:  25%|██▌       | 255/1004 [00:26<01:16,  9.77it/s]"
     ]
    },
    {
     "name": "stdout",
     "output_type": "stream",
     "text": [
      "Evaluating...\n"
     ]
    },
    {
     "name": "stderr",
     "output_type": "stream",
     "text": [
      "Iteration: 100%|██████████| 1004/1004 [01:23<00:00, 12.01it/s]\n",
      "Iteration:  68%|██████▊   | 684/1004 [00:32<00:15, 20.74it/s]"
     ]
    },
    {
     "name": "stdout",
     "output_type": "stream",
     "text": [
      "Evaluating...\n"
     ]
    },
    {
     "name": "stderr",
     "output_type": "stream",
     "text": [
      "Iteration:  92%|█████████▏| 920/1004 [01:21<00:06, 12.14it/s]]\n",
      "Iteration:  50%|█████     | 506/1004 [00:23<00:23, 21.31it/s]\n",
      "Iteration:   0%|          | 0/1004 [00:00<?, ?it/s]10.09it/s]"
     ]
    },
    {
     "name": "stdout",
     "output_type": "stream",
     "text": [
      "{'Train':  best_epoch_indx:80\n",
      " auc:0.9539196512145249 \n",
      " apur:0.5598671883189248 \n",
      " f1:0.3643455372098588 \n",
      " precision:0.22470152447573088 \n",
      " recall:0.9625134332132246 \n",
      ", 'Validation':  best_epoch_indx:80\n",
      " auc:0.9033644076696233 \n",
      " apur:0.4124781088522655 \n",
      " f1:0.32507304404285253 \n",
      " precision:0.2007216357076039 \n",
      " recall:0.8543799772468714 \n",
      "}\n",
      "=====Epoch 81\n",
      "Training...\n"
     ]
    },
    {
     "name": "stderr",
     "output_type": "stream",
     "text": [
      "Iteration: 100%|██████████| 1004/1004 [01:28<00:00, 11.32it/s]\n",
      "Iteration:  55%|█████▍    | 548/1004 [00:25<00:21, 21.62it/s]"
     ]
    },
    {
     "name": "stdout",
     "output_type": "stream",
     "text": [
      "Evaluating...\n"
     ]
    },
    {
     "name": "stderr",
     "output_type": "stream",
     "text": [
      "Iteration:  79%|███████▊  | 789/1004 [01:16<00:17, 12.37it/s]]\n",
      "Iteration:  86%|████████▋ | 867/1004 [01:23<00:11, 12.25it/s]]\n",
      "Iteration:  87%|████████▋ | 869/1004 [01:23<00:11, 12.13it/s]"
     ]
    },
    {
     "name": "stdout",
     "output_type": "stream",
     "text": [
      "{'Train':  best_epoch_indx:79\n",
      " auc:0.9515409005505256 \n",
      " apur:0.550746622832645 \n",
      " f1:0.3769440741446074 \n",
      " precision:0.23584081340853125 \n",
      " recall:0.9383691529709229 \n",
      ", 'Validation':  best_epoch_indx:79\n",
      " auc:0.8968269029437442 \n",
      " apur:0.4044181285101356 \n",
      " f1:0.3264976958525346 \n",
      " precision:0.20470962149667726 \n",
      " recall:0.8060295790671217 \n",
      "}\n",
      "=====Epoch 80\n",
      "Training...\n"
     ]
    },
    {
     "name": "stderr",
     "output_type": "stream",
     "text": [
      "Iteration:   1%|          | 11/1004 [00:00<01:22, 12.04it/s]]\n",
      "Iteration:  65%|██████▍   | 650/1004 [00:31<00:16, 21.31it/s]\n",
      "Iteration:  40%|████      | 403/1004 [00:33<00:54, 11.03it/s]"
     ]
    },
    {
     "name": "stdout",
     "output_type": "stream",
     "text": [
      "{'Train':  best_epoch_indx:80\n",
      " auc:0.9482590516306024 \n",
      " apur:0.5337883548702057 \n",
      " f1:0.34751364672824014 \n",
      " precision:0.21246215588256 \n",
      " recall:0.9537897465073646 \n",
      ", 'Validation':  best_epoch_indx:80\n",
      " auc:0.8962273165887018 \n",
      " apur:0.3889101389795224 \n",
      " f1:0.30219052470708097 \n",
      " precision:0.18406354722601465 \n",
      " recall:0.8435722411831627 \n",
      "}\n",
      "=====Epoch 81\n",
      "Training...\n"
     ]
    },
    {
     "name": "stderr",
     "output_type": "stream",
     "text": [
      "Iteration: 100%|██████████| 1004/1004 [01:34<00:00, 10.62it/s]\n",
      "Iteration:   0%|          | 2/1004 [00:00<01:23, 11.94it/s]s]"
     ]
    },
    {
     "name": "stdout",
     "output_type": "stream",
     "text": [
      "Evaluating...\n"
     ]
    },
    {
     "name": "stderr",
     "output_type": "stream",
     "text": [
      "Iteration:  30%|██▉       | 299/1004 [00:25<00:59, 11.89it/s]]\n",
      "Iteration:  69%|██████▉   | 695/1004 [00:57<00:25, 12.07it/s]\n",
      "Iteration:  36%|███▋      | 365/1004 [00:31<00:50, 12.56it/s]"
     ]
    },
    {
     "name": "stdout",
     "output_type": "stream",
     "text": [
      "{'Train':  best_epoch_indx:80\n",
      " auc:0.9561227871563829 \n",
      " apur:0.5751136697679131 \n",
      " f1:0.3797934917068491 \n",
      " precision:0.23727958108577016 \n",
      " recall:0.9509481668773704 \n",
      ", 'Validation':  best_epoch_indx:80\n",
      " auc:0.8964907527102156 \n",
      " apur:0.40143699849599535 \n",
      " f1:0.3217997030946671 \n",
      " precision:0.20131447349621376 \n",
      " recall:0.8014789533560864 \n",
      "}\n",
      "=====Epoch 81\n",
      "Training...\n"
     ]
    },
    {
     "name": "stderr",
     "output_type": "stream",
     "text": [
      "Iteration: 100%|██████████| 1004/1004 [01:22<00:00, 12.19it/s]\n",
      "Iteration:  58%|█████▊    | 583/1004 [00:49<00:40, 10.31it/s]"
     ]
    },
    {
     "name": "stdout",
     "output_type": "stream",
     "text": [
      "Evaluating...\n"
     ]
    },
    {
     "name": "stderr",
     "output_type": "stream",
     "text": [
      "Iteration:  43%|████▎     | 429/1004 [00:35<00:47, 12.15it/s]]\n",
      "Iteration:  78%|███████▊  | 779/1004 [01:05<00:19, 11.63it/s]\n",
      "Iteration:  78%|███████▊  | 781/1004 [01:05<00:18, 11.75it/s]"
     ]
    },
    {
     "name": "stdout",
     "output_type": "stream",
     "text": [
      "{'Train':  best_epoch_indx:80\n",
      " auc:0.9520755798101528 \n",
      " apur:0.5546775631280704 \n",
      " f1:0.3613049713193117 \n",
      " precision:0.22276746242263484 \n",
      " recall:0.9555625790139064 \n",
      ", 'Validation':  best_epoch_indx:80\n",
      " auc:0.8951720288120157 \n",
      " apur:0.4003784121095173 \n",
      " f1:0.310818113044418 \n",
      " precision:0.19186124082721814 \n",
      " recall:0.8179749715585893 \n",
      "}\n",
      "=====Epoch 81\n",
      "Training...\n"
     ]
    },
    {
     "name": "stderr",
     "output_type": "stream",
     "text": [
      "Iteration: 100%|██████████| 1004/1004 [01:23<00:00, 11.96it/s]\n",
      "Iteration:   0%|          | 2/1004 [00:00<01:01, 16.17it/s]s]"
     ]
    },
    {
     "name": "stdout",
     "output_type": "stream",
     "text": [
      "Evaluating...\n"
     ]
    },
    {
     "name": "stderr",
     "output_type": "stream",
     "text": [
      "Iteration: 100%|██████████| 1004/1004 [01:24<00:00, 11.85it/s]\n",
      "Iteration:  15%|█▌        | 155/1004 [00:07<00:41, 20.59it/s]"
     ]
    },
    {
     "name": "stdout",
     "output_type": "stream",
     "text": [
      "Evaluating...\n"
     ]
    },
    {
     "name": "stderr",
     "output_type": "stream",
     "text": [
      "Iteration:  47%|████▋     | 472/1004 [00:22<00:24, 21.32it/s]]\n",
      "Iteration:  37%|███▋      | 371/1004 [00:20<00:34, 18.26it/s]\n",
      "Iteration:   0%|          | 1/1004 [00:00<01:54,  8.76it/s]s]"
     ]
    },
    {
     "name": "stdout",
     "output_type": "stream",
     "text": [
      "{'Train':  best_epoch_indx:81\n",
      " auc:0.950834076296479 \n",
      " apur:0.5455535172956507 \n",
      " f1:0.37242587263855875 \n",
      " precision:0.23215984776403426 \n",
      " recall:0.9408938618117454 \n",
      ", 'Validation':  best_epoch_indx:81\n",
      " auc:0.9013587489612398 \n",
      " apur:0.4154045583891959 \n",
      " f1:0.3277454669859733 \n",
      " precision:0.20496362858365424 \n",
      " recall:0.8174061433447098 \n",
      "}\n",
      "=====Epoch 82\n",
      "Training...\n"
     ]
    },
    {
     "name": "stderr",
     "output_type": "stream",
     "text": [
      "Iteration: 100%|██████████| 1004/1004 [01:23<00:00, 12.07it/s]\n",
      "Iteration:  64%|██████▎   | 640/1004 [00:30<00:17, 21.24it/s]"
     ]
    },
    {
     "name": "stdout",
     "output_type": "stream",
     "text": [
      "Evaluating...\n"
     ]
    },
    {
     "name": "stderr",
     "output_type": "stream",
     "text": [
      "Iteration:  77%|███████▋  | 772/1004 [00:42<00:11, 20.28it/s]]\n",
      "Iteration:  79%|███████▊  | 789/1004 [01:08<00:16, 12.67it/s]\n",
      "Iteration:  35%|███▌      | 353/1004 [00:28<00:51, 12.62it/s]"
     ]
    },
    {
     "name": "stdout",
     "output_type": "stream",
     "text": [
      "{'Train':  best_epoch_indx:80\n",
      " auc:0.9486979041116425 \n",
      " apur:0.5359326912465235 \n",
      " f1:0.34484800856482273 \n",
      " precision:0.2103193898389853 \n",
      " recall:0.956953223767383 \n",
      ", 'Validation':  best_epoch_indx:80\n",
      " auc:0.8941309177748391 \n",
      " apur:0.39565195984362467 \n",
      " f1:0.3013810741687979 \n",
      " precision:0.1837345640513908 \n",
      " recall:0.8378839590443686 \n",
      "}\n",
      "=====Epoch 81\n",
      "Training...\n"
     ]
    },
    {
     "name": "stderr",
     "output_type": "stream",
     "text": [
      "Iteration:  67%|██████▋   | 675/1004 [00:33<00:15, 21.04it/s]]\n",
      "Iteration:  94%|█████████▍| 943/1004 [01:21<00:05, 11.60it/s]\n",
      "Iteration:  13%|█▎        | 129/1004 [00:12<01:26, 10.12it/s]"
     ]
    },
    {
     "name": "stdout",
     "output_type": "stream",
     "text": [
      "{'Train':  best_epoch_indx:81\n",
      " auc:0.945056988787511 \n",
      " apur:0.5166242504589735 \n",
      " f1:0.3360273546782716 \n",
      " precision:0.2038057018193571 \n",
      " recall:0.9566976420759846 \n",
      ", 'Validation':  best_epoch_indx:81\n",
      " auc:0.89586354863099 \n",
      " apur:0.37651677783047555 \n",
      " f1:0.29360865290068827 \n",
      " precision:0.17748454588682835 \n",
      " recall:0.8492605233219568 \n",
      "}\n",
      "=====Epoch 82\n",
      "Training...\n"
     ]
    },
    {
     "name": "stderr",
     "output_type": "stream",
     "text": [
      "Iteration: 100%|██████████| 1004/1004 [01:26<00:00, 11.59it/s]\n",
      "Iteration:   0%|          | 2/1004 [00:00<00:59, 16.83it/s]]]"
     ]
    },
    {
     "name": "stdout",
     "output_type": "stream",
     "text": [
      "Evaluating...\n"
     ]
    },
    {
     "name": "stderr",
     "output_type": "stream",
     "text": [
      "Iteration:  16%|█▌        | 157/1004 [00:12<01:05, 12.92it/s]]\n",
      "Iteration:  69%|██████▉   | 693/1004 [00:59<00:29, 10.57it/s]\n",
      "Iteration:  31%|███▏      | 315/1004 [00:30<01:08, 10.12it/s]"
     ]
    },
    {
     "name": "stdout",
     "output_type": "stream",
     "text": [
      "{'Train':  best_epoch_indx:81\n",
      " auc:0.9543444307284188 \n",
      " apur:0.5662295717366534 \n",
      " f1:0.37479649537065807 \n",
      " precision:0.23325856601438627 \n",
      " recall:0.9531605562579014 \n",
      ", 'Validation':  best_epoch_indx:81\n",
      " auc:0.8963394115296442 \n",
      " apur:0.4052198526130282 \n",
      " f1:0.32186234817813764 \n",
      " precision:0.20058873002523128 \n",
      " recall:0.8139931740614335 \n",
      "}\n",
      "=====Epoch 82\n",
      "Training...\n"
     ]
    },
    {
     "name": "stderr",
     "output_type": "stream",
     "text": [
      "Iteration: 100%|██████████| 1004/1004 [01:26<00:00, 11.66it/s]\n",
      "Iteration:  55%|█████▍    | 551/1004 [00:44<00:37, 12.01it/s]"
     ]
    },
    {
     "name": "stdout",
     "output_type": "stream",
     "text": [
      "Evaluating...\n"
     ]
    },
    {
     "name": "stderr",
     "output_type": "stream",
     "text": [
      "Iteration:  25%|██▌       | 252/1004 [00:11<00:35, 21.28it/s]]\n",
      "Iteration:  82%|████████▏ | 819/1004 [01:14<00:15, 12.02it/s]\n",
      "Iteration:  82%|████████▏ | 821/1004 [01:14<00:15, 12.02it/s]"
     ]
    },
    {
     "name": "stdout",
     "output_type": "stream",
     "text": [
      "{'Train':  best_epoch_indx:81\n",
      " auc:0.9475960924877751 \n",
      " apur:0.5348755930873677 \n",
      " f1:0.3385812684497719 \n",
      " precision:0.20567298809976634 \n",
      " recall:0.9570164348925411 \n",
      ", 'Validation':  best_epoch_indx:81\n",
      " auc:0.893974210967542 \n",
      " apur:0.39457375337505296 \n",
      " f1:0.2954269526507487 \n",
      " precision:0.17967019443760768 \n",
      " recall:0.8304891922639362 \n",
      "}\n",
      "=====Epoch 82\n",
      "Training...\n"
     ]
    },
    {
     "name": "stderr",
     "output_type": "stream",
     "text": [
      "Iteration: 100%|██████████| 1004/1004 [01:29<00:00, 11.19it/s]\n",
      "Iteration:   0%|          | 2/1004 [00:00<01:01, 16.21it/s]s]"
     ]
    },
    {
     "name": "stdout",
     "output_type": "stream",
     "text": [
      "Evaluating...\n"
     ]
    },
    {
     "name": "stderr",
     "output_type": "stream",
     "text": [
      "Iteration: 100%|██████████| 1004/1004 [01:21<00:00, 12.25it/s]\n",
      "Iteration:  72%|███████▏  | 720/1004 [01:03<00:27, 10.31it/s]"
     ]
    },
    {
     "name": "stdout",
     "output_type": "stream",
     "text": [
      "Evaluating...\n"
     ]
    },
    {
     "name": "stderr",
     "output_type": "stream",
     "text": [
      "Iteration:  86%|████████▋ | 868/1004 [01:16<00:11, 11.34it/s]]\n",
      "Iteration:  47%|████▋     | 474/1004 [00:41<00:44, 11.85it/s]\n",
      "Iteration:  47%|████▋     | 476/1004 [00:41<00:44, 11.84it/s]"
     ]
    },
    {
     "name": "stdout",
     "output_type": "stream",
     "text": [
      "{'Train':  best_epoch_indx:82\n",
      " auc:0.9424532911151805 \n",
      " apur:0.5076857843314933 \n",
      " f1:0.33763775268744506 \n",
      " precision:0.20543831502735613 \n",
      " recall:0.9470889436753271 \n",
      ", 'Validation':  best_epoch_indx:82\n",
      " auc:0.8953259002714109 \n",
      " apur:0.382691124799562 \n",
      " f1:0.3048281505728314 \n",
      " precision:0.18583187827388375 \n",
      " recall:0.8475540386803185 \n",
      "}\n",
      "=====Epoch 83\n",
      "Training...\n"
     ]
    },
    {
     "name": "stderr",
     "output_type": "stream",
     "text": [
      "Iteration: 100%|██████████| 1004/1004 [01:28<00:00, 11.39it/s]\n",
      "Iteration:   3%|▎         | 35/1004 [00:03<01:33, 10.41it/s]]"
     ]
    },
    {
     "name": "stdout",
     "output_type": "stream",
     "text": [
      "Evaluating...\n"
     ]
    },
    {
     "name": "stderr",
     "output_type": "stream",
     "text": [
      "Iteration:  53%|█████▎    | 530/1004 [00:24<00:22, 21.29it/s]]\n",
      "Iteration:  33%|███▎      | 331/1004 [00:28<00:56, 12.01it/s]\n",
      "Iteration:  59%|█████▉    | 66/112 [00:04<00:04, 10.22it/s]s]\n",
      "Iteration:  62%|██████▏   | 69/112 [00:04<00:03, 12.10it/s]s]"
     ]
    },
    {
     "name": "stdout",
     "output_type": "stream",
     "text": [
      "{'Train':  best_epoch_indx:81\n",
      " auc:0.9476060407478268 \n",
      " apur:0.533180897912471 \n",
      " f1:0.35077117661525486 \n",
      " precision:0.215268294786471 \n",
      " recall:0.9466498103666245 \n",
      ", 'Validation':  best_epoch_indx:81\n",
      " auc:0.8916569780316527 \n",
      " apur:0.3936013438221076 \n",
      " f1:0.30327349524815206 \n",
      " precision:0.1862033195020747 \n",
      " recall:0.8168373151308305 \n",
      "}\n",
      "=====Epoch 82\n",
      "Training...\n"
     ]
    },
    {
     "name": "stderr",
     "output_type": "stream",
     "text": [
      "Iteration:  69%|██████▉   | 691/1004 [00:32<00:14, 21.56it/s]\n",
      "Iteration:   0%|          | 0/1004 [00:00<?, ?it/s]"
     ]
    },
    {
     "name": "stdout",
     "output_type": "stream",
     "text": [
      "{'Train':  best_epoch_indx:82\n",
      " auc:0.9354972697186326 \n",
      " apur:0.48260197036814173 \n",
      " f1:0.3134051321846915 \n",
      " precision:0.18786773950213728 \n",
      " recall:0.9446235539541058 \n",
      ", 'Validation':  best_epoch_indx:82\n",
      " auc:0.8905631438796933 \n",
      " apur:0.36802176369256145 \n",
      " f1:0.2826291079812206 \n",
      " precision:0.1692532613585245 \n",
      " recall:0.8560864618885097 \n",
      "}\n",
      "=====Epoch 83\n",
      "Training...\n"
     ]
    },
    {
     "name": "stderr",
     "output_type": "stream",
     "text": [
      "Iteration: 100%|██████████| 1004/1004 [01:24<00:00, 11.87it/s]\n",
      "Iteration:  51%|█████     | 513/1004 [00:43<00:45, 10.78it/s]"
     ]
    },
    {
     "name": "stdout",
     "output_type": "stream",
     "text": [
      "Evaluating...\n"
     ]
    },
    {
     "name": "stderr",
     "output_type": "stream",
     "text": [
      "Iteration:  63%|██████▎   | 631/1004 [00:53<00:29, 12.73it/s]]\n",
      "Iteration:  30%|███       | 305/1004 [00:24<00:56, 12.48it/s]\n",
      "Iteration:  72%|███████▏  | 719/1004 [01:00<00:22, 12.48it/s]"
     ]
    },
    {
     "name": "stdout",
     "output_type": "stream",
     "text": [
      "{'Train':  best_epoch_indx:82\n",
      " auc:0.9505512415115585 \n",
      " apur:0.5425572668252527 \n",
      " f1:0.3617922371682267 \n",
      " precision:0.2234225933961423 \n",
      " recall:0.9503792667509482 \n",
      ", 'Validation':  best_epoch_indx:82\n",
      " auc:0.8950249137354375 \n",
      " apur:0.397383359956071 \n",
      " f1:0.31072589382448534 \n",
      " precision:0.19191648822269808 \n",
      " recall:0.8156996587030717 \n",
      "}\n",
      "=====Epoch 83\n",
      "Training...\n"
     ]
    },
    {
     "name": "stderr",
     "output_type": "stream",
     "text": [
      "Iteration: 100%|██████████| 1004/1004 [01:23<00:00, 12.08it/s]\n",
      "Iteration:  27%|██▋       | 273/1004 [00:22<00:59, 12.30it/s]"
     ]
    },
    {
     "name": "stdout",
     "output_type": "stream",
     "text": [
      "Evaluating...\n"
     ]
    },
    {
     "name": "stderr",
     "output_type": "stream",
     "text": [
      "Iteration:  39%|███▉      | 393/1004 [00:32<00:50, 12.19it/s]]\n",
      "Iteration:  79%|███████▉  | 797/1004 [01:04<00:16, 12.56it/s]\n",
      "Iteration:  80%|███████▉  | 799/1004 [01:04<00:16, 12.53it/s]"
     ]
    },
    {
     "name": "stdout",
     "output_type": "stream",
     "text": [
      "{'Train':  best_epoch_indx:82\n",
      " auc:0.9401495275756387 \n",
      " apur:0.49942296902349154 \n",
      " f1:0.3119307320364332 \n",
      " precision:0.18605416874992378 \n",
      " recall:0.9644121365360303 \n",
      ", 'Validation':  best_epoch_indx:82\n",
      " auc:0.888972917474651 \n",
      " apur:0.3706017769417881 \n",
      " f1:0.2786280656463212 \n",
      " precision:0.16626320422535212 \n",
      " recall:0.8594994311717861 \n",
      "}\n",
      "=====Epoch 83\n",
      "Training...\n"
     ]
    },
    {
     "name": "stderr",
     "output_type": "stream",
     "text": [
      "Iteration: 100%|██████████| 1004/1004 [01:21<00:00, 12.36it/s]\n",
      "Iteration:  98%|█████████▊| 986/1004 [01:23<00:01, 12.39it/s]"
     ]
    },
    {
     "name": "stdout",
     "output_type": "stream",
     "text": [
      "Evaluating...\n"
     ]
    },
    {
     "name": "stderr",
     "output_type": "stream",
     "text": [
      "Iteration: 100%|██████████| 1004/1004 [01:25<00:00, 11.77it/s]\n",
      "Iteration:   0%|          | 2/1004 [00:00<01:01, 16.30it/s]s]"
     ]
    },
    {
     "name": "stdout",
     "output_type": "stream",
     "text": [
      "Evaluating...\n"
     ]
    },
    {
     "name": "stderr",
     "output_type": "stream",
     "text": [
      "Iteration:  31%|███       | 309/1004 [00:14<00:32, 21.07it/s]]\n",
      "Iteration:  94%|█████████▍| 945/1004 [01:18<00:05, 11.26it/s]\n",
      "Iteration:   0%|          | 1/1004 [00:00<01:54,  8.73it/s]s]"
     ]
    },
    {
     "name": "stdout",
     "output_type": "stream",
     "text": [
      "{'Train':  best_epoch_indx:83\n",
      " auc:0.9401028247627075 \n",
      " apur:0.5011645264784863 \n",
      " f1:0.3547738325958972 \n",
      " precision:0.21976080456645827 \n",
      " recall:0.9199696567418927 \n",
      ", 'Validation':  best_epoch_indx:83\n",
      " auc:0.8961253158451946 \n",
      " apur:0.39046248697623964 \n",
      " f1:0.31370390753990096 \n",
      " precision:0.19448614712706427 \n",
      " recall:0.810580204778157 \n",
      "}\n",
      "=====Epoch 84\n",
      "Training...\n"
     ]
    },
    {
     "name": "stderr",
     "output_type": "stream",
     "text": [
      "Iteration: 100%|██████████| 1004/1004 [01:23<00:00, 11.96it/s]\n",
      "Iteration:  53%|█████▎    | 535/1004 [00:44<00:36, 12.68it/s]"
     ]
    },
    {
     "name": "stdout",
     "output_type": "stream",
     "text": [
      "Evaluating...\n"
     ]
    },
    {
     "name": "stderr",
     "output_type": "stream",
     "text": [
      "Iteration:  36%|███▌      | 359/1004 [00:29<00:50, 12.73it/s]]\n",
      "Iteration:  52%|█████▏    | 519/1004 [00:24<00:23, 20.81it/s]\n",
      "Iteration:  89%|████████▊ | 889/1004 [01:14<00:11, 10.24it/s]\n",
      "Iteration:  83%|████████▎ | 93/112 [00:05<00:00, 20.29it/s]s]"
     ]
    },
    {
     "name": "stdout",
     "output_type": "stream",
     "text": [
      "{'Train':  best_epoch_indx:83\n",
      " auc:0.9339713127903309 \n",
      " apur:0.4705726765874744 \n",
      " f1:0.3110881364693719 \n",
      " precision:0.18595654216003757 \n",
      " recall:0.9510714963019155 \n",
      ", 'Validation':  best_epoch_indx:83\n",
      " auc:0.8940083517864233 \n",
      " apur:0.377192183018137 \n",
      " f1:0.2820133234641007 \n",
      " precision:0.16839779005524863 \n",
      " recall:0.8668941979522184 \n",
      "}\n",
      "=====Epoch 84\n",
      "Training...\n"
     ]
    },
    {
     "name": "stderr",
     "output_type": "stream",
     "text": [
      "Iteration:   1%|▏         | 13/1004 [00:01<01:25, 11.57it/s]]\n",
      "Iteration:   1%|▏         | 15/1004 [00:01<01:25, 11.55it/s]]"
     ]
    },
    {
     "name": "stdout",
     "output_type": "stream",
     "text": [
      "{'Train':  best_epoch_indx:82\n",
      " auc:0.9459141532983069 \n",
      " apur:0.5196276872980308 \n",
      " f1:0.36402553696921713 \n",
      " precision:0.22630915020614117 \n",
      " recall:0.9298988621997472 \n",
      ", 'Validation':  best_epoch_indx:82\n",
      " auc:0.8893813242165772 \n",
      " apur:0.3797344370896456 \n",
      " f1:0.3110315506824793 \n",
      " precision:0.1935933147632312 \n",
      " recall:0.7906712172923777 \n",
      "}\n",
      "=====Epoch 83\n",
      "Training...\n"
     ]
    },
    {
     "name": "stderr",
     "output_type": "stream",
     "text": [
      "Iteration: 100%|██████████| 1004/1004 [01:24<00:00, 11.85it/s]\n",
      "Iteration:   0%|          | 0/1004 [00:00<?, ?it/s]"
     ]
    },
    {
     "name": "stdout",
     "output_type": "stream",
     "text": [
      "Evaluating...\n"
     ]
    },
    {
     "name": "stderr",
     "output_type": "stream",
     "text": [
      "Iteration:  64%|██████▍   | 647/1004 [00:54<00:30, 11.89it/s]]\n",
      "Iteration:  28%|██▊       | 280/1004 [00:24<00:56, 12.75it/s]\n",
      "Iteration:  25%|██▌       | 255/1004 [00:23<01:13, 10.23it/s]"
     ]
    },
    {
     "name": "stdout",
     "output_type": "stream",
     "text": [
      "{'Train':  best_epoch_indx:83\n",
      " auc:0.9473387532669806 \n",
      " apur:0.5359452401538318 \n",
      " f1:0.33751059180305937 \n",
      " precision:0.20489495343296513 \n",
      " recall:0.956763590391909 \n",
      ", 'Validation':  best_epoch_indx:83\n",
      " auc:0.8922703911940267 \n",
      " apur:0.3966419934549751 \n",
      " f1:0.2966767371601209 \n",
      " precision:0.1802496328928047 \n",
      " recall:0.8378839590443686 \n",
      "}\n",
      "=====Epoch 84\n",
      "Training...\n"
     ]
    },
    {
     "name": "stderr",
     "output_type": "stream",
     "text": [
      "Iteration: 100%|██████████| 1004/1004 [01:24<00:00, 11.93it/s]\n",
      "Iteration:  51%|█████▏    | 517/1004 [00:47<00:49,  9.88it/s]"
     ]
    },
    {
     "name": "stdout",
     "output_type": "stream",
     "text": [
      "Evaluating...\n"
     ]
    },
    {
     "name": "stderr",
     "output_type": "stream",
     "text": [
      "Iteration:  24%|██▍       | 241/1004 [00:11<00:35, 21.37it/s]]\n",
      "Iteration:  71%|███████   | 709/1004 [01:04<00:24, 11.85it/s]\n",
      "Iteration:  71%|███████   | 711/1004 [01:04<00:24, 11.84it/s]"
     ]
    },
    {
     "name": "stdout",
     "output_type": "stream",
     "text": [
      "{'Train':  best_epoch_indx:83\n",
      " auc:0.940585453120899 \n",
      " apur:0.5044716871696919 \n",
      " f1:0.3347558510399353 \n",
      " precision:0.20353982300884957 \n",
      " recall:0.9420986093552465 \n",
      ", 'Validation':  best_epoch_indx:83\n",
      " auc:0.8957276134388601 \n",
      " apur:0.38939958444508216 \n",
      " f1:0.30041696328689105 \n",
      " precision:0.18291021671826627 \n",
      " recall:0.8401592718998863 \n",
      "}\n",
      "=====Epoch 84\n",
      "Training...\n"
     ]
    },
    {
     "name": "stderr",
     "output_type": "stream",
     "text": [
      "Iteration: 100%|██████████| 1004/1004 [01:27<00:00, 11.51it/s]\n",
      "Iteration:  97%|█████████▋| 977/1004 [01:26<00:02, 12.46it/s]"
     ]
    },
    {
     "name": "stdout",
     "output_type": "stream",
     "text": [
      "Evaluating...\n"
     ]
    },
    {
     "name": "stderr",
     "output_type": "stream",
     "text": [
      "Iteration: 100%|██████████| 1004/1004 [01:28<00:00, 11.36it/s]\n",
      "Iteration:   5%|▍         | 50/1004 [00:02<00:43, 21.72it/s]]"
     ]
    },
    {
     "name": "stdout",
     "output_type": "stream",
     "text": [
      "Evaluating...\n"
     ]
    },
    {
     "name": "stderr",
     "output_type": "stream",
     "text": [
      "Iteration:  27%|██▋       | 272/1004 [00:12<00:32, 22.35it/s]]\n",
      "Iteration:  39%|███▉      | 395/1004 [00:18<00:27, 22.25it/s]\n",
      "Iteration:   0%|          | 0/1004 [00:00<?, ?it/s]"
     ]
    },
    {
     "name": "stdout",
     "output_type": "stream",
     "text": [
      "{'Train':  best_epoch_indx:84\n",
      " auc:0.9359093574051097 \n",
      " apur:0.4808577638193861 \n",
      " f1:0.29223613459022185 \n",
      " precision:0.17212321677692274 \n",
      " recall:0.9671281370503825 \n",
      ", 'Validation':  best_epoch_indx:84\n",
      " auc:0.891692087893488 \n",
      " apur:0.367575918463393 \n",
      " f1:0.26830737458050086 \n",
      " precision:0.15806549731319072 \n",
      " recall:0.8868031854379977 \n",
      "}\n",
      "=====Epoch 85\n",
      "Training...\n"
     ]
    },
    {
     "name": "stderr",
     "output_type": "stream",
     "text": [
      "Iteration: 100%|██████████| 1004/1004 [01:29<00:00, 11.21it/s]\n",
      "Iteration:   0%|          | 2/1004 [00:00<01:06, 15.00it/s]]]"
     ]
    },
    {
     "name": "stdout",
     "output_type": "stream",
     "text": [
      "Evaluating...\n"
     ]
    },
    {
     "name": "stderr",
     "output_type": "stream",
     "text": [
      "Iteration:  35%|███▌      | 355/1004 [00:31<00:53, 12.18it/s]]\n",
      "Iteration:  86%|████████▌ | 861/1004 [01:14<00:12, 11.23it/s]]\n",
      "Iteration:  88%|████████▊ | 887/1004 [01:16<00:09, 12.24it/s]\n",
      "Iteration:  42%|████▏     | 425/1004 [00:36<00:47, 12.25it/s]"
     ]
    },
    {
     "name": "stdout",
     "output_type": "stream",
     "text": [
      "{'Train':  best_epoch_indx:84\n",
      " auc:0.9134017911151286 \n",
      " apur:0.3950507043070156 \n",
      " f1:0.2925835124146211 \n",
      " precision:0.17407380729429278 \n",
      " recall:0.916619255325874 \n",
      ", 'Validation':  best_epoch_indx:84\n",
      " auc:0.8767094007431196 \n",
      " apur:0.3213010109490705 \n",
      " f1:0.2692480864475461 \n",
      " precision:0.1599443671766342 \n",
      " recall:0.8503981797497155 \n",
      "}\n",
      "=====Epoch 85\n",
      "Training...\n"
     ]
    },
    {
     "name": "stderr",
     "output_type": "stream",
     "text": [
      "Iteration:  46%|████▌     | 463/1004 [00:39<00:42, 12.71it/s]\n",
      "Iteration:   4%|▍         | 39/1004 [00:03<01:20, 12.01it/s]]"
     ]
    },
    {
     "name": "stdout",
     "output_type": "stream",
     "text": [
      "{'Train':  best_epoch_indx:83\n",
      " auc:0.9396917689044251 \n",
      " apur:0.48796163815326904 \n",
      " f1:0.31278722308088613 \n",
      " precision:0.18685214822110058 \n",
      " recall:0.9594184576485462 \n",
      ", 'Validation':  best_epoch_indx:83\n",
      " auc:0.8881758975903921 \n",
      " apur:0.3778498574670043 \n",
      " f1:0.27973074046372476 \n",
      " precision:0.16737525173416873 \n",
      " recall:0.850967007963595 \n",
      "}\n",
      "=====Epoch 84\n",
      "Training...\n"
     ]
    },
    {
     "name": "stderr",
     "output_type": "stream",
     "text": [
      "Iteration: 100%|██████████| 1004/1004 [01:26<00:00, 11.66it/s]\n",
      "Iteration:  80%|████████  | 807/1004 [00:37<00:08, 22.36it/s]"
     ]
    },
    {
     "name": "stdout",
     "output_type": "stream",
     "text": [
      "Evaluating...\n"
     ]
    },
    {
     "name": "stderr",
     "output_type": "stream",
     "text": [
      "Iteration:  21%|██        | 207/1004 [00:17<01:04, 12.32it/s]]\n",
      "Iteration:  29%|██▊       | 287/1004 [00:26<01:10, 10.18it/s]\n",
      "Iteration:  74%|███████▍  | 743/1004 [01:03<00:21, 12.22it/s]"
     ]
    },
    {
     "name": "stdout",
     "output_type": "stream",
     "text": [
      "{'Train':  best_epoch_indx:84\n",
      " auc:0.937660740048686 \n",
      " apur:0.4907339900126064 \n",
      " f1:0.3242713584252414 \n",
      " precision:0.1958726275500138 \n",
      " recall:0.9413400758533502 \n",
      ", 'Validation':  best_epoch_indx:84\n",
      " auc:0.8879724344605744 \n",
      " apur:0.37178729292154633 \n",
      " f1:0.2901441832905392 \n",
      " precision:0.17554971319311663 \n",
      " recall:0.835608646188851 \n",
      "}\n",
      "=====Epoch 85\n",
      "Training...\n"
     ]
    },
    {
     "name": "stderr",
     "output_type": "stream",
     "text": [
      "Iteration: 100%|██████████| 1004/1004 [01:24<00:00, 11.90it/s]\n",
      "Iteration:  53%|█████▎    | 530/1004 [00:47<00:39, 12.13it/s]"
     ]
    },
    {
     "name": "stdout",
     "output_type": "stream",
     "text": [
      "Evaluating...\n"
     ]
    },
    {
     "name": "stderr",
     "output_type": "stream",
     "text": [
      "Iteration:  39%|███▊      | 388/1004 [00:33<01:02,  9.86it/s]]\n",
      "Iteration:  44%|████▍     | 445/1004 [00:38<00:54, 10.17it/s]\n",
      "Iteration:  74%|███████▎  | 738/1004 [01:05<00:21, 12.12it/s]"
     ]
    },
    {
     "name": "stdout",
     "output_type": "stream",
     "text": [
      "{'Train':  best_epoch_indx:84\n",
      " auc:0.9315633149906035 \n",
      " apur:0.46980275090357837 \n",
      " f1:0.2922484352431392 \n",
      " precision:0.1723844144041804 \n",
      " recall:0.9592288242730721 \n",
      ", 'Validation':  best_epoch_indx:84\n",
      " auc:0.885626004619392 \n",
      " apur:0.3503435590296613 \n",
      " f1:0.26656220074867243 \n",
      " precision:0.15736458012128687 \n",
      " recall:0.8708759954493743 \n",
      "}\n",
      "=====Epoch 85\n",
      "Training...\n"
     ]
    },
    {
     "name": "stderr",
     "output_type": "stream",
     "text": [
      "Iteration:  24%|██▎       | 237/1004 [00:21<01:02, 12.18it/s]]\n",
      "Iteration:  97%|█████████▋| 971/1004 [01:23<00:02, 11.76it/s]"
     ]
    },
    {
     "name": "stdout",
     "output_type": "stream",
     "text": [
      "Evaluating...\n"
     ]
    },
    {
     "name": "stderr",
     "output_type": "stream",
     "text": [
      "Iteration: 100%|██████████| 1004/1004 [01:26<00:00, 11.57it/s]\n",
      "Iteration:  74%|███████▍  | 745/1004 [01:03<00:22, 11.74it/s]"
     ]
    },
    {
     "name": "stdout",
     "output_type": "stream",
     "text": [
      "Evaluating...\n"
     ]
    },
    {
     "name": "stderr",
     "output_type": "stream",
     "text": [
      "Iteration:  27%|██▋       | 267/1004 [00:12<00:33, 21.98it/s]]\n",
      "Iteration:  46%|████▌     | 457/1004 [00:39<00:46, 11.82it/s]\n",
      "Iteration:  38%|███▊      | 385/1004 [00:18<00:30, 20.38it/s]"
     ]
    },
    {
     "name": "stdout",
     "output_type": "stream",
     "text": [
      "{'Train':  best_epoch_indx:85\n",
      " auc:0.9309797784419164 \n",
      " apur:0.4444788953821229 \n",
      " f1:0.32367517688223674 \n",
      " precision:0.19607371151943084 \n",
      " recall:0.9268601049371009 \n",
      ", 'Validation':  best_epoch_indx:85\n",
      " auc:0.8887876328728369 \n",
      " apur:0.3605514824864462 \n",
      " f1:0.29523904581295535 \n",
      " precision:0.17903401525239074 \n",
      " recall:0.841296928327645 \n",
      "}\n",
      "=====Epoch 86\n",
      "Training...\n"
     ]
    },
    {
     "name": "stderr",
     "output_type": "stream",
     "text": [
      "Iteration: 100%|██████████| 1004/1004 [01:24<00:00, 11.85it/s]\n",
      "Iteration:   0%|          | 2/1004 [00:00<01:07, 14.82it/s]s]"
     ]
    },
    {
     "name": "stdout",
     "output_type": "stream",
     "text": [
      "Evaluating...\n"
     ]
    },
    {
     "name": "stderr",
     "output_type": "stream",
     "text": [
      "Iteration:  95%|█████████▌| 957/1004 [00:48<00:02, 21.56it/s]]\n",
      "Iteration:  65%|██████▍   | 651/1004 [00:32<00:18, 19.57it/s]]\n",
      "Iteration:  95%|█████████▍| 949/1004 [01:19<00:04, 11.86it/s]\n",
      "Iteration:   0%|          | 0/1004 [00:00<?, ?it/s]"
     ]
    },
    {
     "name": "stdout",
     "output_type": "stream",
     "text": [
      "{'Train':  best_epoch_indx:85\n",
      " auc:0.9278604319983932 \n",
      " apur:0.44705583564604834 \n",
      " f1:0.302086817274266 \n",
      " precision:0.1798836423329471 \n",
      " recall:0.9420949491118276 \n",
      ", 'Validation':  best_epoch_indx:85\n",
      " auc:0.8833603552755523 \n",
      " apur:0.34084702232112835 \n",
      " f1:0.27679217958001445 \n",
      " precision:0.16458557588805167 \n",
      " recall:0.8697383390216155 \n",
      "}\n",
      "=====Epoch 86\n",
      "Training...\n"
     ]
    },
    {
     "name": "stderr",
     "output_type": "stream",
     "text": [
      "Iteration:  99%|█████████▉| 995/1004 [01:23<00:00, 12.56it/s]\n",
      "Iteration:  77%|███████▋  | 770/1004 [00:37<00:11, 21.12it/s]"
     ]
    },
    {
     "name": "stdout",
     "output_type": "stream",
     "text": [
      "{'Train':  best_epoch_indx:84\n",
      " auc:0.9185889653794036 \n",
      " apur:0.42468788011813596 \n",
      " f1:0.31347451190635756 \n",
      " precision:0.19037605817234643 \n",
      " recall:0.8870417193426043 \n",
      ", 'Validation':  best_epoch_indx:84\n",
      " auc:0.8777556800093832 \n",
      " apur:0.3321779035100909 \n",
      " f1:0.2861186937620059 \n",
      " precision:0.17398254026804377 \n",
      " recall:0.8048919226393629 \n",
      "}\n",
      "=====Epoch 85\n",
      "Training...\n"
     ]
    },
    {
     "name": "stderr",
     "output_type": "stream",
     "text": [
      "Iteration: 100%|██████████| 1004/1004 [01:24<00:00, 11.90it/s]\n",
      "Iteration:  78%|███████▊  | 785/1004 [00:38<00:10, 20.69it/s]"
     ]
    },
    {
     "name": "stdout",
     "output_type": "stream",
     "text": [
      "Evaluating...\n"
     ]
    },
    {
     "name": "stderr",
     "output_type": "stream",
     "text": [
      "Iteration:  27%|██▋       | 274/1004 [00:12<00:37, 19.56it/s]]\n",
      "Iteration:  40%|███▉      | 397/1004 [00:18<00:29, 20.34it/s]\n",
      "Iteration:  23%|██▎       | 227/1004 [00:19<01:02, 12.41it/s]"
     ]
    },
    {
     "name": "stdout",
     "output_type": "stream",
     "text": [
      "{'Train':  best_epoch_indx:85\n",
      " auc:0.9443190440418788 \n",
      " apur:0.5192244192671456 \n",
      " f1:0.3491466895312372 \n",
      " precision:0.2144145183860125 \n",
      " recall:0.9395069532237674 \n",
      ", 'Validation':  best_epoch_indx:85\n",
      " auc:0.8930254371621942 \n",
      " apur:0.3914009706768083 \n",
      " f1:0.3044401954535797 \n",
      " precision:0.18717345872518287 \n",
      " recall:0.8151308304891922 \n",
      "}\n",
      "=====Epoch 86\n",
      "Training...\n"
     ]
    },
    {
     "name": "stderr",
     "output_type": "stream",
     "text": [
      "Iteration: 100%|██████████| 1004/1004 [01:31<00:00, 10.95it/s]\n",
      "Iteration:   0%|          | 2/1004 [00:00<01:17, 12.86it/s]s]"
     ]
    },
    {
     "name": "stdout",
     "output_type": "stream",
     "text": [
      "Evaluating...\n"
     ]
    },
    {
     "name": "stderr",
     "output_type": "stream",
     "text": [
      "Iteration:  36%|███▌      | 359/1004 [00:32<01:01, 10.45it/s]]\n",
      "Iteration:  20%|██        | 205/1004 [00:09<00:37, 21.27it/s]\n",
      "Iteration:   0%|          | 1/1004 [00:00<01:56,  8.58it/s]s]"
     ]
    },
    {
     "name": "stdout",
     "output_type": "stream",
     "text": [
      "{'Train':  best_epoch_indx:85\n",
      " auc:0.9370085406755364 \n",
      " apur:0.4905209183482631 \n",
      " f1:0.32583297747703355 \n",
      " precision:0.19704935835463322 \n",
      " recall:0.9405183312262958 \n",
      ", 'Validation':  best_epoch_indx:85\n",
      " auc:0.8895061154147386 \n",
      " apur:0.37620161143168174 \n",
      " f1:0.2918801734331888 \n",
      " precision:0.1765196662693683 \n",
      " recall:0.8424345847554039 \n",
      "}\n",
      "=====Epoch 86\n",
      "Training...\n"
     ]
    },
    {
     "name": "stderr",
     "output_type": "stream",
     "text": [
      "Iteration: 100%|██████████| 1004/1004 [01:25<00:00, 11.77it/s]\n",
      "Iteration:  66%|██████▌   | 659/1004 [01:02<00:30, 11.42it/s]"
     ]
    },
    {
     "name": "stdout",
     "output_type": "stream",
     "text": [
      "Evaluating...\n"
     ]
    },
    {
     "name": "stderr",
     "output_type": "stream",
     "text": [
      "Iteration: 100%|██████████| 1004/1004 [01:24<00:00, 11.91it/s]\n",
      "Iteration:   0%|          | 0/1004 [00:00<?, ?it/s]"
     ]
    },
    {
     "name": "stdout",
     "output_type": "stream",
     "text": [
      "Evaluating...\n"
     ]
    },
    {
     "name": "stderr",
     "output_type": "stream",
     "text": [
      "Iteration:  51%|█████     | 511/1004 [00:42<00:39, 12.39it/s]]\n",
      "Iteration:  59%|█████▉    | 591/1004 [00:49<00:35, 11.79it/s]\n",
      "Iteration:  94%|█████████▍| 943/1004 [01:27<00:05, 10.26it/s]"
     ]
    },
    {
     "name": "stdout",
     "output_type": "stream",
     "text": [
      "{'Train':  best_epoch_indx:86\n",
      " auc:0.9430468206868314 \n",
      " apur:0.503008830436994 \n",
      " f1:0.32638814074249634 \n",
      " precision:0.1967196083269483 \n",
      " recall:0.957582653770782 \n",
      ", 'Validation':  best_epoch_indx:86\n",
      " auc:0.8968328069276668 \n",
      " apur:0.3766099266339018 \n",
      " f1:0.2961885365144021 \n",
      " precision:0.17853384777271133 \n",
      " recall:0.8686006825938567 \n",
      "}\n",
      "=====Epoch 87\n",
      "Training...\n"
     ]
    },
    {
     "name": "stderr",
     "output_type": "stream",
     "text": [
      "Iteration: 100%|██████████| 1004/1004 [01:32<00:00, 10.80it/s]\n",
      "Iteration:  56%|█████▋    | 567/1004 [00:28<00:20, 21.18it/s]"
     ]
    },
    {
     "name": "stdout",
     "output_type": "stream",
     "text": [
      "Evaluating...\n"
     ]
    },
    {
     "name": "stderr",
     "output_type": "stream",
     "text": [
      "Iteration:  84%|████████▍ | 847/1004 [01:12<00:15, 10.27it/s]]\n",
      "Iteration:  90%|████████▉ | 901/1004 [01:18<00:09, 10.79it/s]]\n",
      "Iteration:   5%|▌         | 6/112 [00:00<00:06, 16.78it/s]/s]\n",
      "Iteration:  51%|█████     | 512/1004 [00:24<00:24, 19.94it/s]"
     ]
    },
    {
     "name": "stdout",
     "output_type": "stream",
     "text": [
      "{'Train':  best_epoch_indx:86\n",
      " auc:0.9335995928944076 \n",
      " apur:0.471119687949487 \n",
      " f1:0.3357988679376324 \n",
      " precision:0.2055347729977895 \n",
      " recall:0.9169353309311588 \n",
      ", 'Validation':  best_epoch_indx:86\n",
      " auc:0.8883230216395906 \n",
      " apur:0.35964889263212296 \n",
      " f1:0.293236964377904 \n",
      " precision:0.17913460325469913 \n",
      " recall:0.8077360637087599 \n",
      "}\n",
      "=====Epoch 87\n",
      "Training...\n"
     ]
    },
    {
     "name": "stderr",
     "output_type": "stream",
     "text": [
      "Iteration:  60%|█████▉    | 600/1004 [00:29<00:22, 17.74it/s]\n",
      "Iteration:   0%|          | 1/1004 [00:00<02:06,  7.96it/s]s]"
     ]
    },
    {
     "name": "stdout",
     "output_type": "stream",
     "text": [
      "{'Train':  best_epoch_indx:85\n",
      " auc:0.9362916576049836 \n",
      " apur:0.4777272680076745 \n",
      " f1:0.33842165565289845 \n",
      " precision:0.2071344581863516 \n",
      " recall:0.9242098609355247 \n",
      ", 'Validation':  best_epoch_indx:85\n",
      " auc:0.8873631307581339 \n",
      " apur:0.380300954003577 \n",
      " f1:0.2980375695246091 \n",
      " precision:0.18273066529404194 \n",
      " recall:0.8077360637087599 \n",
      "}\n",
      "=====Epoch 86\n",
      "Training...\n"
     ]
    },
    {
     "name": "stderr",
     "output_type": "stream",
     "text": [
      "Iteration: 100%|██████████| 1004/1004 [01:26<00:00, 11.60it/s]\n",
      "Iteration:   3%|▎         | 33/1004 [00:02<01:20, 12.01it/s]]"
     ]
    },
    {
     "name": "stdout",
     "output_type": "stream",
     "text": [
      "Evaluating...\n"
     ]
    },
    {
     "name": "stderr",
     "output_type": "stream",
     "text": [
      "Iteration:  64%|██████▍   | 647/1004 [00:56<00:29, 12.01it/s]]\n",
      "Iteration:  52%|█████▏    | 523/1004 [00:24<00:23, 20.75it/s]\n",
      "Iteration:  71%|███████   | 715/1004 [01:01<00:23, 12.09it/s]"
     ]
    },
    {
     "name": "stdout",
     "output_type": "stream",
     "text": [
      "{'Train':  best_epoch_indx:86\n",
      " auc:0.9486091664613517 \n",
      " apur:0.5332354184007387 \n",
      " f1:0.36844982234700724 \n",
      " precision:0.229288431208832 \n",
      " recall:0.9373577749683945 \n",
      ", 'Validation':  best_epoch_indx:86\n",
      " auc:0.8921767977954056 \n",
      " apur:0.3848726013678383 \n",
      " f1:0.3150517298920903 \n",
      " precision:0.19582353754667403 \n",
      " recall:0.8054607508532423 \n",
      "}\n",
      "=====Epoch 87\n",
      "Training...\n"
     ]
    },
    {
     "name": "stderr",
     "output_type": "stream",
     "text": [
      "Iteration: 100%|██████████| 1004/1004 [01:25<00:00, 11.75it/s]\n",
      "Iteration:  67%|██████▋   | 671/1004 [00:56<00:31, 10.61it/s]"
     ]
    },
    {
     "name": "stdout",
     "output_type": "stream",
     "text": [
      "Evaluating...\n"
     ]
    },
    {
     "name": "stderr",
     "output_type": "stream",
     "text": [
      "Iteration:   3%|▎         | 28/1004 [00:01<00:46, 20.80it/s]]\n",
      "Iteration:  74%|███████▍  | 743/1004 [01:03<00:25, 10.33it/s]\n",
      "Iteration:   0%|          | 1/1004 [00:00<01:56,  8.58it/s]s]"
     ]
    },
    {
     "name": "stdout",
     "output_type": "stream",
     "text": [
      "{'Train':  best_epoch_indx:86\n",
      " auc:0.9403589103423504 \n",
      " apur:0.49868974731707183 \n",
      " f1:0.35877530200674307 \n",
      " precision:0.2233460865255038 \n",
      " recall:0.9114412136536031 \n",
      ", 'Validation':  best_epoch_indx:86\n",
      " auc:0.8908401196847007 \n",
      " apur:0.37249204775387146 \n",
      " f1:0.3126744835287549 \n",
      " precision:0.19452549673475059 \n",
      " recall:0.7963594994311718 \n",
      "}\n",
      "=====Epoch 87\n",
      "Training...\n"
     ]
    },
    {
     "name": "stderr",
     "output_type": "stream",
     "text": [
      "Iteration: 100%|██████████| 1004/1004 [01:22<00:00, 12.18it/s]\n",
      "Iteration:  63%|██████▎   | 631/1004 [00:31<00:17, 21.09it/s]"
     ]
    },
    {
     "name": "stdout",
     "output_type": "stream",
     "text": [
      "Evaluating...\n"
     ]
    },
    {
     "name": "stderr",
     "output_type": "stream",
     "text": [
      "Iteration: 100%|██████████| 1004/1004 [01:28<00:00, 11.33it/s]\n",
      "Iteration:   2%|▏         | 23/1004 [00:01<00:45, 21.77it/s]]"
     ]
    },
    {
     "name": "stdout",
     "output_type": "stream",
     "text": [
      "Evaluating...\n"
     ]
    },
    {
     "name": "stderr",
     "output_type": "stream",
     "text": [
      "Iteration:  53%|█████▎    | 535/1004 [00:44<00:38, 12.24it/s]]\n",
      "Iteration:  50%|█████     | 502/1004 [00:25<00:23, 21.30it/s]\n",
      "Iteration:   0%|          | 0/1004 [00:00<?, ?it/s]"
     ]
    },
    {
     "name": "stdout",
     "output_type": "stream",
     "text": [
      "{'Train':  best_epoch_indx:87\n",
      " auc:0.9498517453442838 \n",
      " apur:0.5403339482443132 \n",
      " f1:0.34462178414794054 \n",
      " precision:0.20983083043125164 \n",
      " recall:0.9636513053922499 \n",
      ", 'Validation':  best_epoch_indx:87\n",
      " auc:0.9033492529145403 \n",
      " apur:0.4164579652470707 \n",
      " f1:0.31143353428016757 \n",
      " precision:0.18981193174741562 \n",
      " recall:0.8668941979522184 \n",
      "}\n",
      "=====Epoch 88\n",
      "Training...\n"
     ]
    },
    {
     "name": "stderr",
     "output_type": "stream",
     "text": [
      "Iteration: 100%|██████████| 1004/1004 [01:27<00:00, 11.43it/s]\n",
      "Iteration:   0%|          | 0/1004 [00:00<?, ?it/s]"
     ]
    },
    {
     "name": "stdout",
     "output_type": "stream",
     "text": [
      "Evaluating...\n"
     ]
    },
    {
     "name": "stderr",
     "output_type": "stream",
     "text": [
      "Iteration: 100%|█████████▉| 1001/1004 [00:48<00:00, 17.57it/s]\n",
      "Iteration:  38%|███▊      | 378/1004 [00:19<00:29, 21.56it/s]]\n",
      "Iteration:  44%|████▍     | 441/1004 [00:22<00:25, 21.84it/s]\n",
      "Iteration:  44%|████▍     | 444/1004 [00:22<00:25, 21.74it/s]"
     ]
    },
    {
     "name": "stdout",
     "output_type": "stream",
     "text": [
      "{'Train':  best_epoch_indx:86\n",
      " auc:0.9424562515974504 \n",
      " apur:0.5088760587258925 \n",
      " f1:0.3326984830029897 \n",
      " precision:0.20167807759430795 \n",
      " recall:0.9496207332490518 \n",
      ", 'Validation':  best_epoch_indx:86\n",
      " auc:0.8956703770962463 \n",
      " apur:0.3919282450180376 \n",
      " f1:0.2987169206094627 \n",
      " precision:0.18130932100267705 \n",
      " recall:0.8475540386803185 \n",
      "}\n",
      "=====Epoch 87\n",
      "Training...\n"
     ]
    },
    {
     "name": "stderr",
     "output_type": "stream",
     "text": [
      "Iteration:  98%|█████████▊| 982/1004 [01:22<00:01, 12.34it/s]\n",
      "Iteration:  50%|████▉     | 498/1004 [00:25<00:25, 19.63it/s]"
     ]
    },
    {
     "name": "stdout",
     "output_type": "stream",
     "text": [
      "{'Train':  best_epoch_indx:87\n",
      " auc:0.9390574145258709 \n",
      " apur:0.49444907899178453 \n",
      " f1:0.3359543667477218 \n",
      " precision:0.2047875656281602 \n",
      " recall:0.9345091345849927 \n",
      ", 'Validation':  best_epoch_indx:87\n",
      " auc:0.890026823467866 \n",
      " apur:0.3617646506507536 \n",
      " f1:0.29525731584258325 \n",
      " precision:0.17946516192345438 \n",
      " recall:0.8321956769055745 \n",
      "}\n",
      "=====Epoch 88\n",
      "Training...\n"
     ]
    },
    {
     "name": "stderr",
     "output_type": "stream",
     "text": [
      "Iteration: 100%|██████████| 1004/1004 [01:23<00:00, 11.97it/s]\n",
      "Iteration:  41%|████      | 411/1004 [00:33<00:48, 12.28it/s]"
     ]
    },
    {
     "name": "stdout",
     "output_type": "stream",
     "text": [
      "Evaluating...\n"
     ]
    },
    {
     "name": "stderr",
     "output_type": "stream",
     "text": [
      "Iteration:  31%|███       | 309/1004 [00:28<01:10,  9.79it/s]]\n",
      "Iteration:  77%|███████▋  | 771/1004 [01:02<00:18, 12.44it/s]\n",
      "Iteration:  59%|█████▉    | 594/1004 [00:29<00:19, 21.44it/s]"
     ]
    },
    {
     "name": "stdout",
     "output_type": "stream",
     "text": [
      "{'Train':  best_epoch_indx:87\n",
      " auc:0.951990309772359 \n",
      " apur:0.5518766736090432 \n",
      " f1:0.35561444031469475 \n",
      " precision:0.21829880954094633 \n",
      " recall:0.9585967130214917 \n",
      ", 'Validation':  best_epoch_indx:87\n",
      " auc:0.8955991165486623 \n",
      " apur:0.3988316454920302 \n",
      " f1:0.3099160378361143 \n",
      " precision:0.1905633250555483 \n",
      " recall:0.8293515358361775 \n",
      "}\n",
      "=====Epoch 88\n",
      "Training...\n"
     ]
    },
    {
     "name": "stderr",
     "output_type": "stream",
     "text": [
      "Iteration: 100%|██████████| 1004/1004 [01:21<00:00, 12.28it/s]\n",
      "Iteration:  19%|█▉        | 194/1004 [00:18<01:18, 10.37it/s]"
     ]
    },
    {
     "name": "stdout",
     "output_type": "stream",
     "text": [
      "Evaluating...\n"
     ]
    },
    {
     "name": "stderr",
     "output_type": "stream",
     "text": [
      "Iteration:   5%|▌         | 52/1004 [00:02<00:47, 20.22it/s]]]\n",
      "Iteration:  65%|██████▌   | 656/1004 [01:00<00:27, 12.75it/s]\n",
      "Iteration:  16%|█▌        | 163/1004 [00:07<00:40, 20.92it/s]"
     ]
    },
    {
     "name": "stdout",
     "output_type": "stream",
     "text": [
      "{'Train':  best_epoch_indx:87\n",
      " auc:0.9421913944902678 \n",
      " apur:0.5086316816527133 \n",
      " f1:0.3158417891903086 \n",
      " precision:0.1888558692421991 \n",
      " recall:0.9640960809102402 \n",
      ", 'Validation':  best_epoch_indx:87\n",
      " auc:0.8910224881850335 \n",
      " apur:0.3719870311769823 \n",
      " f1:0.28111028315946346 \n",
      " precision:0.16807752283359323 \n",
      " recall:0.8583617747440273 \n",
      "}\n",
      "=====Epoch 88\n",
      "Training...\n"
     ]
    },
    {
     "name": "stderr",
     "output_type": "stream",
     "text": [
      "Iteration:  58%|█████▊    | 580/1004 [00:54<00:40, 10.54it/s]]\n",
      "Iteration:  58%|█████▊    | 582/1004 [00:55<00:39, 10.63it/s]"
     ]
    },
    {
     "name": "stdout",
     "output_type": "stream",
     "text": [
      "Evaluating...\n"
     ]
    },
    {
     "name": "stderr",
     "output_type": "stream",
     "text": [
      "Iteration: 100%|██████████| 1004/1004 [01:32<00:00, 10.80it/s]\n",
      "Iteration:  63%|██████▎   | 636/1004 [00:59<00:29, 12.28it/s]"
     ]
    },
    {
     "name": "stdout",
     "output_type": "stream",
     "text": [
      "Evaluating...\n"
     ]
    },
    {
     "name": "stderr",
     "output_type": "stream",
     "text": [
      "Iteration:  21%|██        | 208/1004 [00:11<00:36, 21.94it/s]]\n",
      "Iteration:  32%|███▏      | 321/1004 [00:17<00:32, 20.71it/s]\n",
      "Iteration:   0%|          | 1/1004 [00:00<01:53,  8.85it/s]s]"
     ]
    },
    {
     "name": "stdout",
     "output_type": "stream",
     "text": [
      "{'Train':  best_epoch_indx:88\n",
      " auc:0.9505451976676934 \n",
      " apur:0.5500984727366933 \n",
      " f1:0.35770793243532173 \n",
      " precision:0.22023783404273992 \n",
      " recall:0.9518300777545989 \n",
      ", 'Validation':  best_epoch_indx:88\n",
      " auc:0.9009200955174872 \n",
      " apur:0.4119798068889923 \n",
      " f1:0.3187660668380463 \n",
      " precision:0.19635787806809185 \n",
      " recall:0.8464163822525598 \n",
      "}\n",
      "=====Epoch 89\n",
      "Training...\n"
     ]
    },
    {
     "name": "stderr",
     "output_type": "stream",
     "text": [
      "Iteration: 100%|██████████| 1004/1004 [01:30<00:00, 11.11it/s]\n",
      "Iteration:  79%|███████▊  | 789/1004 [01:03<00:20, 10.68it/s]"
     ]
    },
    {
     "name": "stdout",
     "output_type": "stream",
     "text": [
      "Evaluating...\n"
     ]
    },
    {
     "name": "stderr",
     "output_type": "stream",
     "text": [
      "Iteration:  91%|█████████ | 913/1004 [00:46<00:04, 20.14it/s]]\n",
      "Iteration: 100%|██████████| 1004/1004 [01:22<00:00, 12.23it/s]\n",
      "Iteration:   0%|          | 2/1004 [00:00<01:10, 14.16it/s]s]"
     ]
    },
    {
     "name": "stdout",
     "output_type": "stream",
     "text": [
      "Evaluating...\n"
     ]
    },
    {
     "name": "stderr",
     "output_type": "stream",
     "text": [
      "Iteration:  42%|████▏     | 423/1004 [00:35<00:54, 10.58it/s]]\n",
      "Iteration:   6%|▌         | 58/1004 [00:02<00:45, 20.83it/s]]"
     ]
    },
    {
     "name": "stdout",
     "output_type": "stream",
     "text": [
      "{'Train':  best_epoch_indx:88\n",
      " auc:0.9471845318494031 \n",
      " apur:0.527405666877083 \n",
      " f1:0.35572746206486167 \n",
      " precision:0.2191156203266575 \n",
      " recall:0.9447499841962197 \n",
      ", 'Validation':  best_epoch_indx:88\n",
      " auc:0.8981538995975313 \n",
      " apur:0.3894070707691875 \n",
      " f1:0.3097279559648565 \n",
      " precision:0.19027181688125894 \n",
      " recall:0.8321956769055745 \n",
      "}\n",
      "=====Epoch 89\n",
      "Training...\n"
     ]
    },
    {
     "name": "stderr",
     "output_type": "stream",
     "text": [
      "Iteration:   8%|▊         | 79/1004 [00:03<00:44, 20.92it/s]]\n",
      "Iteration:  59%|█████▉    | 597/1004 [00:27<00:18, 22.18it/s]\n",
      "Iteration:  19%|█▉        | 193/1004 [00:09<00:38, 20.96it/s]"
     ]
    },
    {
     "name": "stdout",
     "output_type": "stream",
     "text": [
      "{'Train':  best_epoch_indx:87\n",
      " auc:0.9457562113475132 \n",
      " apur:0.524356442797935 \n",
      " f1:0.3386626762227298 \n",
      " precision:0.20599789211459232 \n",
      " recall:0.9513274336283186 \n",
      ", 'Validation':  best_epoch_indx:87\n",
      " auc:0.8921369234723809 \n",
      " apur:0.3876926152632779 \n",
      " f1:0.2989069363571356 \n",
      " precision:0.18216909475781348 \n",
      " recall:0.8321956769055745 \n",
      "}\n",
      "=====Epoch 88\n",
      "Training...\n"
     ]
    },
    {
     "name": "stderr",
     "output_type": "stream",
     "text": [
      "Iteration:  26%|██▌       | 257/1004 [00:21<01:01, 12.23it/s]]\n",
      "Iteration:  32%|███▏      | 317/1004 [00:26<01:07, 10.23it/s]\n",
      "Iteration:  77%|███████▋  | 769/1004 [01:08<00:20, 11.40it/s]"
     ]
    },
    {
     "name": "stdout",
     "output_type": "stream",
     "text": [
      "{'Train':  best_epoch_indx:88\n",
      " auc:0.9577580909557739 \n",
      " apur:0.5820851820398057 \n",
      " f1:0.40089636756437613 \n",
      " precision:0.2544674037102022 \n",
      " recall:0.9442477876106194 \n",
      ", 'Validation':  best_epoch_indx:88\n",
      " auc:0.8985501394668154 \n",
      " apur:0.40295268184021615 \n",
      " f1:0.3361975069587317 \n",
      " precision:0.21352805534204458 \n",
      " recall:0.7901023890784983 \n",
      "}\n",
      "=====Epoch 89\n",
      "Training...\n"
     ]
    },
    {
     "name": "stderr",
     "output_type": "stream",
     "text": [
      "Iteration:  18%|█▊        | 179/1004 [00:14<01:05, 12.67it/s]]\n",
      "Iteration:  25%|██▍       | 249/1004 [00:19<01:02, 12.03it/s]\n",
      "Iteration:   0%|          | 1/1004 [00:00<02:09,  7.76it/s]s]"
     ]
    },
    {
     "name": "stdout",
     "output_type": "stream",
     "text": [
      "{'Train':  best_epoch_indx:88\n",
      " auc:0.9509423448729413 \n",
      " apur:0.5465226756422277 \n",
      " f1:0.34637023593466426 \n",
      " precision:0.21105888858169755 \n",
      " recall:0.9651074589127686 \n",
      ", 'Validation':  best_epoch_indx:88\n",
      " auc:0.8959569625772121 \n",
      " apur:0.3902951577209225 \n",
      " f1:0.30078403421240196 \n",
      " precision:0.18318243829840009 \n",
      " recall:0.8401592718998863 \n",
      "}\n",
      "=====Epoch 89\n",
      "Training...\n"
     ]
    },
    {
     "name": "stderr",
     "output_type": "stream",
     "text": [
      "Iteration: 100%|██████████| 1004/1004 [01:29<00:00, 11.24it/s]\n",
      "Iteration:  66%|██████▌   | 661/1004 [00:54<00:36,  9.34it/s]"
     ]
    },
    {
     "name": "stdout",
     "output_type": "stream",
     "text": [
      "Evaluating...\n"
     ]
    },
    {
     "name": "stderr",
     "output_type": "stream",
     "text": [
      "Iteration: 100%|██████████| 1004/1004 [01:25<00:00, 11.72it/s]\n",
      "Iteration:  36%|███▌      | 363/1004 [00:32<00:52, 12.15it/s]"
     ]
    },
    {
     "name": "stdout",
     "output_type": "stream",
     "text": [
      "Evaluating...\n"
     ]
    },
    {
     "name": "stderr",
     "output_type": "stream",
     "text": [
      "Iteration: 100%|██████████| 1004/1004 [01:29<00:00, 11.17it/s]\n",
      "Iteration:  90%|█████████ | 905/1004 [00:42<00:04, 21.24it/s]"
     ]
    },
    {
     "name": "stdout",
     "output_type": "stream",
     "text": [
      "Evaluating...\n"
     ]
    },
    {
     "name": "stderr",
     "output_type": "stream",
     "text": [
      "Iteration:  56%|█████▋    | 567/1004 [00:50<00:35, 12.17it/s]]\n",
      "Iteration:  28%|██▊       | 282/1004 [00:13<00:34, 21.23it/s]\n",
      "Iteration:  64%|██████▎   | 639/1004 [00:56<00:31, 11.50it/s]"
     ]
    },
    {
     "name": "stdout",
     "output_type": "stream",
     "text": [
      "{'Train':  best_epoch_indx:89\n",
      " auc:0.9570727708454716 \n",
      " apur:0.5794457584689843 \n",
      " f1:0.3706930020382413 \n",
      " precision:0.22936716462728024 \n",
      " recall:0.9657374043871294 \n",
      ", 'Validation':  best_epoch_indx:89\n",
      " auc:0.906161101524764 \n",
      " apur:0.42663258933299925 \n",
      " f1:0.32883031301482707 \n",
      " precision:0.20375663536137198 \n",
      " recall:0.8515358361774744 \n",
      "}\n",
      "=====Epoch 90\n",
      "Training...\n"
     ]
    },
    {
     "name": "stderr",
     "output_type": "stream",
     "text": [
      "Iteration:  41%|████▏     | 415/1004 [00:19<00:30, 19.48it/s]]"
     ]
    },
    {
     "name": "stdout",
     "output_type": "stream",
     "text": [
      "Evaluating...\n"
     ]
    },
    {
     "name": "stderr",
     "output_type": "stream",
     "text": [
      "Iteration: 100%|██████████| 1004/1004 [01:22<00:00, 12.10it/s]\n",
      "Iteration:  29%|██▊       | 287/1004 [00:27<01:11, 10.07it/s]]\n",
      "Iteration: 100%|██████████| 1004/1004 [01:28<00:00, 11.35it/s]\n",
      "Iteration:  33%|███▎      | 334/1004 [00:32<01:07, 10.00it/s]"
     ]
    },
    {
     "name": "stdout",
     "output_type": "stream",
     "text": [
      "Evaluating...\n"
     ]
    },
    {
     "name": "stderr",
     "output_type": "stream",
     "text": [
      "Iteration:   2%|▏         | 20/1004 [00:00<00:45, 21.63it/s]]\n",
      "Iteration:  96%|█████████▌| 965/1004 [00:46<00:01, 20.12it/s]"
     ]
    },
    {
     "name": "stdout",
     "output_type": "stream",
     "text": [
      "{'Train':  best_epoch_indx:89\n",
      " auc:0.9522359764636523 \n",
      " apur:0.5545268351179498 \n",
      " f1:0.35643425033420106 \n",
      " precision:0.21880533840107114 \n",
      " recall:0.9607434098236298 \n",
      ", 'Validation':  best_epoch_indx:89\n",
      " auc:0.9003186428574967 \n",
      " apur:0.39503937620683105 \n",
      " f1:0.30828078155691097 \n",
      " precision:0.18837650031585598 \n",
      " recall:0.8481228668941979 \n",
      "}\n",
      "=====Epoch 90\n",
      "Training...\n"
     ]
    },
    {
     "name": "stderr",
     "output_type": "stream",
     "text": [
      "Iteration:  39%|███▊      | 387/1004 [00:37<01:01, 10.00it/s]]\n",
      "Iteration:  23%|██▎       | 232/1004 [00:11<00:40, 19.07it/s]\n",
      "Iteration:  11%|█         | 107/1004 [00:10<01:26, 10.33it/s]"
     ]
    },
    {
     "name": "stdout",
     "output_type": "stream",
     "text": [
      "{'Train':  best_epoch_indx:88\n",
      " auc:0.9534585794021139 \n",
      " apur:0.5599436593087008 \n",
      " f1:0.3734789857416578 \n",
      " precision:0.23250302072683335 \n",
      " recall:0.9487357774968395 \n",
      ", 'Validation':  best_epoch_indx:88\n",
      " auc:0.896572744511251 \n",
      " apur:0.4069479539766206 \n",
      " f1:0.31901424372597786 \n",
      " precision:0.199068848758465 \n",
      " recall:0.8026166097838453 \n",
      "}\n",
      "=====Epoch 89\n",
      "Training...\n"
     ]
    },
    {
     "name": "stderr",
     "output_type": "stream",
     "text": [
      "Iteration:  30%|██▉       | 297/1004 [00:25<00:57, 12.25it/s]]\n",
      "Iteration:  67%|██████▋   | 669/1004 [00:32<00:16, 20.88it/s]\n",
      "Iteration:   0%|          | 1/1004 [00:00<01:52,  8.92it/s]s]"
     ]
    },
    {
     "name": "stdout",
     "output_type": "stream",
     "text": [
      "{'Train':  best_epoch_indx:89\n",
      " auc:0.9621419231658886 \n",
      " apur:0.6031884524319309 \n",
      " f1:0.39079461571862795 \n",
      " precision:0.24487052271054063 \n",
      " recall:0.9671302149178256 \n",
      ", 'Validation':  best_epoch_indx:89\n",
      " auc:0.8997773067511212 \n",
      " apur:0.41449220244527507 \n",
      " f1:0.32761020881670533 \n",
      " precision:0.2057709122704751 \n",
      " recall:0.8031854379977247 \n",
      "}\n",
      "=====Epoch 90\n",
      "Training...\n"
     ]
    },
    {
     "name": "stderr",
     "output_type": "stream",
     "text": [
      "Iteration:  92%|█████████▏| 927/1004 [01:23<00:07, 10.03it/s]]\n",
      "Iteration:  54%|█████▍    | 545/1004 [00:45<00:37, 12.09it/s]\n",
      "Iteration:   0%|          | 0/1004 [00:00<?, ?it/s]"
     ]
    },
    {
     "name": "stdout",
     "output_type": "stream",
     "text": [
      "{'Train':  best_epoch_indx:89\n",
      " auc:0.9562531855116622 \n",
      " apur:0.5714666218167628 \n",
      " f1:0.35924273822486036 \n",
      " precision:0.2204532065006538 \n",
      " recall:0.9697850821744627 \n",
      ", 'Validation':  best_epoch_indx:89\n",
      " auc:0.8985262453799083 \n",
      " apur:0.40176125436220117 \n",
      " f1:0.30847242763574895 \n",
      " precision:0.1894135962636222 \n",
      " recall:0.8304891922639362 \n",
      "}\n",
      "=====Epoch 90\n",
      "Training...\n"
     ]
    },
    {
     "name": "stderr",
     "output_type": "stream",
     "text": [
      "Iteration: 100%|██████████| 1004/1004 [01:29<00:00, 11.16it/s]\n",
      "Iteration:  56%|█████▌    | 559/1004 [00:46<00:42, 10.48it/s]"
     ]
    },
    {
     "name": "stdout",
     "output_type": "stream",
     "text": [
      "Evaluating...\n"
     ]
    },
    {
     "name": "stderr",
     "output_type": "stream",
     "text": [
      "Iteration: 100%|██████████| 1004/1004 [01:23<00:00, 11.96it/s]\n",
      "Iteration:  28%|██▊       | 281/1004 [00:28<01:22,  8.74it/s]"
     ]
    },
    {
     "name": "stdout",
     "output_type": "stream",
     "text": [
      "Evaluating...\n"
     ]
    },
    {
     "name": "stderr",
     "output_type": "stream",
     "text": [
      "Iteration:  46%|████▌     | 458/1004 [00:45<00:51, 10.58it/s]]"
     ]
    },
    {
     "name": "stdout",
     "output_type": "stream",
     "text": [
      "Evaluating...\n"
     ]
    },
    {
     "name": "stderr",
     "output_type": "stream",
     "text": [
      "Iteration:  36%|███▋      | 365/1004 [00:17<00:29, 21.80it/s]]\n",
      "Iteration:   9%|▉         | 93/1004 [00:04<00:45, 20.16it/s]]]\n",
      "Iteration:  97%|█████████▋| 977/1004 [01:19<00:02, 12.25it/s]\n",
      "Iteration:  98%|█████████▊| 979/1004 [01:20<00:02, 12.24it/s]"
     ]
    },
    {
     "name": "stdout",
     "output_type": "stream",
     "text": [
      "{'Train':  best_epoch_indx:90\n",
      " auc:0.9543732370366693 \n",
      " apur:0.5664151703953857 \n",
      " f1:0.3577544303500943 \n",
      " precision:0.21955777911958366 \n",
      " recall:0.9654213287818446 \n",
      ", 'Validation':  best_epoch_indx:90\n",
      " auc:0.9026736684685841 \n",
      " apur:0.4193613667355631 \n",
      " f1:0.3174368192873004 \n",
      " precision:0.194960384465515 \n",
      " recall:0.853811149032992 \n",
      "}\n",
      "=====Epoch 91\n",
      "Training...\n"
     ]
    },
    {
     "name": "stderr",
     "output_type": "stream",
     "text": [
      "Iteration: 100%|██████████| 1004/1004 [01:22<00:00, 12.22it/s]\n",
      "Iteration:  60%|█████▉    | 599/1004 [00:57<00:33, 12.13it/s]"
     ]
    },
    {
     "name": "stdout",
     "output_type": "stream",
     "text": [
      "Evaluating...\n"
     ]
    },
    {
     "name": "stderr",
     "output_type": "stream",
     "text": [
      "Iteration:  42%|████▏     | 418/1004 [00:19<00:33, 17.68it/s]]\n",
      "Iteration:  51%|█████     | 514/1004 [00:25<00:27, 17.83it/s]\n",
      "Iteration:  78%|███████▊  | 783/1004 [00:37<00:10, 20.84it/s]"
     ]
    },
    {
     "name": "stdout",
     "output_type": "stream",
     "text": [
      "{'Train':  best_epoch_indx:90\n",
      " auc:0.949312885276337 \n",
      " apur:0.5417153169593968 \n",
      " f1:0.3526983121620512 \n",
      " precision:0.21652409343587084 \n",
      " recall:0.9504393450913459 \n",
      ", 'Validation':  best_epoch_indx:90\n",
      " auc:0.8977001452344153 \n",
      " apur:0.3889556091494952 \n",
      " f1:0.3104452767374115 \n",
      " precision:0.18996689584924878 \n",
      " recall:0.8486916951080774 \n",
      "}\n",
      "=====Epoch 91\n",
      "Training...\n"
     ]
    },
    {
     "name": "stderr",
     "output_type": "stream",
     "text": [
      "Iteration: 100%|██████████| 1004/1004 [01:32<00:00, 10.86it/s]\n",
      "Iteration:  97%|█████████▋| 973/1004 [00:46<00:01, 20.34it/s]"
     ]
    },
    {
     "name": "stdout",
     "output_type": "stream",
     "text": [
      "Evaluating...\n"
     ]
    },
    {
     "name": "stderr",
     "output_type": "stream",
     "text": [
      "Iteration:  76%|███████▋  | 766/1004 [00:38<00:11, 19.87it/s]]\n",
      "Iteration:  21%|██        | 207/1004 [00:09<00:36, 21.94it/s]\n",
      "Iteration:  54%|█████▍    | 541/1004 [00:46<00:37, 12.19it/s]"
     ]
    },
    {
     "name": "stdout",
     "output_type": "stream",
     "text": [
      "{'Train':  best_epoch_indx:89\n",
      " auc:0.9573741493697001 \n",
      " apur:0.5777918341116761 \n",
      " f1:0.38302618570812946 \n",
      " precision:0.23954469070040268 \n",
      " recall:0.9551201011378002 \n",
      ", 'Validation':  best_epoch_indx:89\n",
      " auc:0.8991708742870624 \n",
      " apur:0.4140235370506644 \n",
      " f1:0.33125720876585923 \n",
      " precision:0.20775462962962962 \n",
      " recall:0.8168373151308305 \n",
      "}\n",
      "=====Epoch 90\n",
      "Training...\n"
     ]
    },
    {
     "name": "stderr",
     "output_type": "stream",
     "text": [
      "Iteration:  31%|███▏      | 316/1004 [00:26<01:06, 10.39it/s]]\n",
      "Iteration:  38%|███▊      | 380/1004 [00:32<00:50, 12.24it/s]\n",
      "Iteration:   0%|          | 0/1004 [00:00<?, ?it/s]"
     ]
    },
    {
     "name": "stdout",
     "output_type": "stream",
     "text": [
      "{'Train':  best_epoch_indx:90\n",
      " auc:0.9607165143542583 \n",
      " apur:0.5945699362514208 \n",
      " f1:0.3984207972088509 \n",
      " precision:0.25136955694212276 \n",
      " recall:0.9600505689001264 \n",
      ", 'Validation':  best_epoch_indx:90\n",
      " auc:0.8979854566033495 \n",
      " apur:0.4106406165646104 \n",
      " f1:0.33051553756399565 \n",
      " precision:0.209004667971691 \n",
      " recall:0.7895335608646189 \n",
      "}\n",
      "=====Epoch 91\n",
      "Training...\n"
     ]
    },
    {
     "name": "stderr",
     "output_type": "stream",
     "text": [
      "Iteration: 100%|██████████| 1004/1004 [01:24<00:00, 11.82it/s]\n",
      "Iteration:  63%|██████▎   | 634/1004 [00:57<00:35, 10.52it/s]"
     ]
    },
    {
     "name": "stdout",
     "output_type": "stream",
     "text": [
      "Evaluating...\n"
     ]
    },
    {
     "name": "stderr",
     "output_type": "stream",
     "text": [
      "Iteration:  28%|██▊       | 279/1004 [00:25<01:09, 10.43it/s]\n",
      "Iteration:  70%|███████   | 706/1004 [01:03<00:23, 12.43it/s]\n",
      "Iteration:  46%|████▋     | 466/1004 [00:44<00:51, 10.39it/s]"
     ]
    },
    {
     "name": "stdout",
     "output_type": "stream",
     "text": [
      "{'Train':  best_epoch_indx:90\n",
      " auc:0.9564146883576862 \n",
      " apur:0.5737592544881304 \n",
      " f1:0.36946331892009737 \n",
      " precision:0.22851834649326522 \n",
      " recall:0.9640960809102402 \n",
      ", 'Validation':  best_epoch_indx:90\n",
      " auc:0.8975403877363379 \n",
      " apur:0.4011228166376958 \n",
      " f1:0.31608819035145164 \n",
      " precision:0.195569962182604 \n",
      " recall:0.8236632536973834 \n",
      "}\n",
      "=====Epoch 91\n",
      "Training...\n"
     ]
    },
    {
     "name": "stderr",
     "output_type": "stream",
     "text": [
      "Iteration: 100%|██████████| 1004/1004 [01:27<00:00, 11.49it/s]\n",
      "Iteration:  61%|██████▏   | 617/1004 [00:55<00:34, 11.33it/s]"
     ]
    },
    {
     "name": "stdout",
     "output_type": "stream",
     "text": [
      "Evaluating...\n"
     ]
    },
    {
     "name": "stderr",
     "output_type": "stream",
     "text": [
      "Iteration:  47%|████▋     | 472/1004 [00:22<00:24, 21.47it/s]]\n",
      "Iteration: 100%|██████████| 1004/1004 [01:32<00:00, 10.83it/s]\n",
      "Iteration:  52%|█████▏    | 520/1004 [00:24<00:23, 20.26it/s]"
     ]
    },
    {
     "name": "stdout",
     "output_type": "stream",
     "text": [
      "Evaluating...\n"
     ]
    },
    {
     "name": "stderr",
     "output_type": "stream",
     "text": [
      "Iteration:  95%|█████████▍| 951/1004 [01:22<00:04, 12.46it/s]"
     ]
    },
    {
     "name": "stdout",
     "output_type": "stream",
     "text": [
      "{'Train':  best_epoch_indx:91\n",
      " auc:0.9519723382573223 \n",
      " apur:0.5480251722590495 \n",
      " f1:0.34036147912031967 \n",
      " precision:0.20630064938549886 \n",
      " recall:0.9719957013717682 \n",
      ", 'Validation':  best_epoch_indx:91\n",
      " auc:0.8979562776432962 \n",
      " apur:0.39321713556031057 \n",
      " f1:0.3018490754622688 \n",
      " precision:0.1830968837152904 \n",
      " recall:0.8589306029579067 \n",
      "}\n",
      "=====Epoch 92\n",
      "Training...\n"
     ]
    },
    {
     "name": "stderr",
     "output_type": "stream",
     "text": [
      "\n",
      "Iteration: 100%|██████████| 1004/1004 [01:27<00:00, 11.54it/s]\n",
      "Iteration:  17%|█▋        | 170/1004 [00:07<00:37, 21.98it/s]"
     ]
    },
    {
     "name": "stdout",
     "output_type": "stream",
     "text": [
      "Evaluating...\n"
     ]
    },
    {
     "name": "stderr",
     "output_type": "stream",
     "text": [
      "Iteration:  88%|████████▊ | 879/1004 [01:14<00:10, 11.93it/s]]\n",
      "Iteration:  94%|█████████▍| 945/1004 [01:19<00:04, 12.06it/s]\n",
      "Iteration:  62%|██████▏   | 625/1004 [00:31<00:21, 17.38it/s]"
     ]
    },
    {
     "name": "stdout",
     "output_type": "stream",
     "text": [
      "{'Train':  best_epoch_indx:91\n",
      " auc:0.9472005912370163 \n",
      " apur:0.5249435995866114 \n",
      " f1:0.3506118584836194 \n",
      " precision:0.2150702609693146 \n",
      " recall:0.9481636007332954 \n",
      ", 'Validation':  best_epoch_indx:91\n",
      " auc:0.8969529054455979 \n",
      " apur:0.38850109039110264 \n",
      " f1:0.30449251247920134 \n",
      " precision:0.18630694833290914 \n",
      " recall:0.8327645051194539 \n",
      "}\n",
      "=====Epoch 92\n",
      "Training...\n"
     ]
    },
    {
     "name": "stderr",
     "output_type": "stream",
     "text": [
      "Iteration: 100%|██████████| 1004/1004 [01:24<00:00, 11.86it/s]\n",
      "Iteration:   5%|▌         | 55/1004 [00:04<01:28, 10.74it/s]]"
     ]
    },
    {
     "name": "stdout",
     "output_type": "stream",
     "text": [
      "Evaluating...\n"
     ]
    },
    {
     "name": "stderr",
     "output_type": "stream",
     "text": [
      "Iteration:  34%|███▍      | 339/1004 [00:15<00:29, 22.40it/s]]\n",
      "Iteration:  30%|██▉       | 299/1004 [00:24<00:56, 12.47it/s]]\n",
      "Iteration:  32%|███▏      | 319/1004 [00:26<01:00, 11.39it/s]\n",
      "Iteration:  45%|████▌     | 456/1004 [00:21<00:25, 21.11it/s]"
     ]
    },
    {
     "name": "stdout",
     "output_type": "stream",
     "text": [
      "{'Train':  best_epoch_indx:90\n",
      " auc:0.9553526015275035 \n",
      " apur:0.5665688410444332 \n",
      " f1:0.3678481043313999 \n",
      " precision:0.2275062534637449 \n",
      " recall:0.9601137800252845 \n",
      ", 'Validation':  best_epoch_indx:90\n",
      " auc:0.897715353825218 \n",
      " apur:0.4039679197470198 \n",
      " f1:0.31824688910912896 \n",
      " precision:0.19732350129728254 \n",
      " recall:0.8219567690557452 \n",
      "}\n",
      "=====Epoch 91\n",
      "Training...\n"
     ]
    },
    {
     "name": "stderr",
     "output_type": "stream",
     "text": [
      "Iteration:  67%|██████▋   | 675/1004 [00:57<00:31, 10.28it/s]\n",
      "Iteration:   0%|          | 1/1004 [00:00<01:45,  9.47it/s]]]"
     ]
    },
    {
     "name": "stdout",
     "output_type": "stream",
     "text": [
      "{'Train':  best_epoch_indx:91\n",
      " auc:0.9580846046596542 \n",
      " apur:0.5832119215022291 \n",
      " f1:0.38021862570978315 \n",
      " precision:0.2370037733495494 \n",
      " recall:0.9608091024020228 \n",
      ", 'Validation':  best_epoch_indx:91\n",
      " auc:0.8961229919366295 \n",
      " apur:0.40149879202044847 \n",
      " f1:0.321205939023008 \n",
      " precision:0.2005661712668082 \n",
      " recall:0.8060295790671217 \n",
      "}\n",
      "=====Epoch 92\n",
      "Training...\n"
     ]
    },
    {
     "name": "stderr",
     "output_type": "stream",
     "text": [
      "Iteration:  97%|█████████▋| 975/1004 [01:23<00:02, 12.10it/s]]\n",
      "Iteration: 100%|██████████| 1004/1004 [01:25<00:00, 11.75it/s]\n",
      "Iteration:   0%|          | 2/1004 [00:00<01:00, 16.51it/s]s]"
     ]
    },
    {
     "name": "stdout",
     "output_type": "stream",
     "text": [
      "Evaluating...\n"
     ]
    },
    {
     "name": "stderr",
     "output_type": "stream",
     "text": [
      "Iteration:  71%|███████▏  | 717/1004 [01:01<00:23, 12.20it/s]\n",
      "Iteration:  42%|████▏     | 419/1004 [00:35<00:47, 12.43it/s]"
     ]
    },
    {
     "name": "stdout",
     "output_type": "stream",
     "text": [
      "{'Train':  best_epoch_indx:91\n",
      " auc:0.947537227536009 \n",
      " apur:0.5324350763043357 \n",
      " f1:0.3479939431068163 \n",
      " precision:0.2129348025971454 \n",
      " recall:0.9515170670037927 \n",
      ", 'Validation':  best_epoch_indx:91\n",
      " auc:0.8925933516762398 \n",
      " apur:0.38402893408461014 \n",
      " f1:0.3009859885832901 \n",
      " precision:0.18408023359146883 \n",
      " recall:0.8248009101251422 \n",
      "}\n",
      "=====Epoch 92\n",
      "Training...\n"
     ]
    },
    {
     "name": "stderr",
     "output_type": "stream",
     "text": [
      "Iteration: 100%|██████████| 1004/1004 [01:25<00:00, 11.70it/s]\n",
      "Iteration:  69%|██████▊   | 689/1004 [00:56<00:25, 12.56it/s]"
     ]
    },
    {
     "name": "stdout",
     "output_type": "stream",
     "text": [
      "Evaluating...\n"
     ]
    },
    {
     "name": "stderr",
     "output_type": "stream",
     "text": [
      "Iteration:  46%|████▌     | 463/1004 [00:21<00:25, 21.30it/s]]\n",
      "Iteration: 100%|██████████| 1004/1004 [01:21<00:00, 12.33it/s]\n",
      "Iteration:  54%|█████▍    | 547/1004 [00:25<00:20, 21.77it/s]"
     ]
    },
    {
     "name": "stdout",
     "output_type": "stream",
     "text": [
      "Evaluating...\n"
     ]
    },
    {
     "name": "stderr",
     "output_type": "stream",
     "text": [
      "Iteration:  97%|█████████▋| 969/1004 [01:27<00:03,  8.81it/s]\n",
      "Iteration:  59%|█████▊    | 588/1004 [00:52<00:34, 12.13it/s]"
     ]
    },
    {
     "name": "stdout",
     "output_type": "stream",
     "text": [
      "{'Train':  best_epoch_indx:92\n",
      " auc:0.9445931082048747 \n",
      " apur:0.5147478455733623 \n",
      " f1:0.36864754356961676 \n",
      " precision:0.23029863454321844 \n",
      " recall:0.9233200581579114 \n",
      ", 'Validation':  best_epoch_indx:92\n",
      " auc:0.8974861213309251 \n",
      " apur:0.3976545651177421 \n",
      " f1:0.32592253036901214 \n",
      " precision:0.20407577497129736 \n",
      " recall:0.8088737201365188 \n",
      "}\n",
      "=====Epoch 93\n",
      "Training...\n"
     ]
    },
    {
     "name": "stderr",
     "output_type": "stream",
     "text": [
      "Iteration: 100%|██████████| 1004/1004 [01:31<00:00, 10.97it/s]\n",
      "Iteration:  63%|██████▎   | 632/1004 [00:56<00:30, 12.14it/s]"
     ]
    },
    {
     "name": "stdout",
     "output_type": "stream",
     "text": [
      "Evaluating...\n"
     ]
    },
    {
     "name": "stderr",
     "output_type": "stream",
     "text": [
      "Iteration:  37%|███▋      | 369/1004 [00:17<00:30, 20.87it/s]]\n",
      "Iteration:  93%|█████████▎| 930/1004 [01:20<00:05, 12.46it/s]\n",
      "Iteration:  93%|█████████▎| 932/1004 [01:21<00:05, 12.40it/s]"
     ]
    },
    {
     "name": "stdout",
     "output_type": "stream",
     "text": [
      "{'Train':  best_epoch_indx:92\n",
      " auc:0.940964184855763 \n",
      " apur:0.49775322083422835 \n",
      " f1:0.32563798858619575 \n",
      " precision:0.196246641834629 \n",
      " recall:0.9558758455022441 \n",
      ", 'Validation':  best_epoch_indx:92\n",
      " auc:0.8930363388954244 \n",
      " apur:0.36946235207419653 \n",
      " f1:0.2871023052009907 \n",
      " precision:0.17242562929061786 \n",
      " recall:0.8572241183162684 \n",
      "}\n",
      "=====Epoch 93\n",
      "Training...\n"
     ]
    },
    {
     "name": "stderr",
     "output_type": "stream",
     "text": [
      "Iteration: 100%|██████████| 1004/1004 [01:26<00:00, 11.56it/s]\n",
      "Iteration:   0%|          | 0/1004 [00:00<?, ?it/s]"
     ]
    },
    {
     "name": "stdout",
     "output_type": "stream",
     "text": [
      "Evaluating...\n"
     ]
    },
    {
     "name": "stderr",
     "output_type": "stream",
     "text": [
      "Iteration:  88%|████████▊ | 887/1004 [00:42<00:05, 19.53it/s]]\n",
      "Iteration:  38%|███▊      | 380/1004 [00:18<00:33, 18.76it/s]]\n",
      "Iteration:  26%|██▌       | 261/1004 [00:24<01:00, 12.24it/s]"
     ]
    },
    {
     "name": "stdout",
     "output_type": "stream",
     "text": [
      "{'Train':  best_epoch_indx:92\n",
      " auc:0.9562405877740348 \n",
      " apur:0.5686756846045962 \n",
      " f1:0.36610299493054976 \n",
      " precision:0.22587657680306414 \n",
      " recall:0.9654867256637168 \n",
      ", 'Validation':  best_epoch_indx:92\n",
      " auc:0.8951965061192191 \n",
      " apur:0.40172412171720023 \n",
      " f1:0.3130076898082963 \n",
      " precision:0.19331103678929765 \n",
      " recall:0.8219567690557452 \n",
      "}\n",
      "=====Epoch 93\n",
      "Training...\n"
     ]
    },
    {
     "name": "stderr",
     "output_type": "stream",
     "text": [
      "Iteration:  28%|██▊       | 277/1004 [00:25<00:59, 12.14it/s]\n",
      "Iteration:  66%|██████▌   | 664/1004 [00:59<00:33, 10.30it/s]\n",
      "Iteration:   8%|▊         | 85/1004 [00:07<01:13, 12.44it/s]"
     ]
    },
    {
     "name": "stdout",
     "output_type": "stream",
     "text": [
      "{'Train':  best_epoch_indx:91\n",
      " auc:0.9523173507586498 \n",
      " apur:0.5530494460288009 \n",
      " f1:0.36666788192545596 \n",
      " precision:0.22696977447455127 \n",
      " recall:0.9536030341340076 \n",
      ", 'Validation':  best_epoch_indx:91\n",
      " auc:0.8953951599247477 \n",
      " apur:0.4035561621484729 \n",
      " f1:0.3163017031630171 \n",
      " precision:0.19632070291048875 \n",
      " recall:0.8134243458475541 \n",
      "}\n",
      "=====Epoch 92\n",
      "Training...\n"
     ]
    },
    {
     "name": "stderr",
     "output_type": "stream",
     "text": [
      "Iteration:  30%|██▉       | 301/1004 [00:25<01:00, 11.65it/s]]\n",
      "Iteration: 100%|██████████| 1004/1004 [01:28<00:00, 11.31it/s]\n",
      "Iteration:  74%|███████▍  | 83/112 [00:04<00:01, 20.96it/s]s]"
     ]
    },
    {
     "name": "stdout",
     "output_type": "stream",
     "text": [
      "Evaluating...\n"
     ]
    },
    {
     "name": "stderr",
     "output_type": "stream",
     "text": [
      "Iteration:  49%|████▉     | 493/1004 [00:39<00:40, 12.72it/s]\n",
      "Iteration:  49%|████▉     | 495/1004 [00:39<00:40, 12.58it/s]"
     ]
    },
    {
     "name": "stdout",
     "output_type": "stream",
     "text": [
      "{'Train':  best_epoch_indx:92\n",
      " auc:0.9407984299089939 \n",
      " apur:0.5113255744813082 \n",
      " f1:0.33011452455127 \n",
      " precision:0.20016402479194395 \n",
      " recall:0.9410872313527181 \n",
      ", 'Validation':  best_epoch_indx:92\n",
      " auc:0.8881169564499893 \n",
      " apur:0.3788448326286574 \n",
      " f1:0.28991008991008993 \n",
      " precision:0.17583616093068347 \n",
      " recall:0.8253697383390216 \n",
      "}\n",
      "=====Epoch 93\n",
      "Training...\n"
     ]
    },
    {
     "name": "stderr",
     "output_type": "stream",
     "text": [
      "Iteration: 100%|██████████| 1004/1004 [01:26<00:00, 11.61it/s]\n",
      "Iteration:  54%|█████▎    | 539/1004 [00:26<00:22, 20.33it/s]"
     ]
    },
    {
     "name": "stdout",
     "output_type": "stream",
     "text": [
      "Evaluating...\n"
     ]
    },
    {
     "name": "stderr",
     "output_type": "stream",
     "text": [
      "Iteration: 100%|██████████| 1004/1004 [01:20<00:00, 12.47it/s]\n",
      "Iteration:  91%|█████████▏| 917/1004 [00:44<00:04, 20.41it/s]"
     ]
    },
    {
     "name": "stdout",
     "output_type": "stream",
     "text": [
      "Evaluating...\n"
     ]
    },
    {
     "name": "stderr",
     "output_type": "stream",
     "text": [
      "Iteration:  14%|█▍        | 143/1004 [00:06<00:40, 21.12it/s]]\n",
      "Iteration:  97%|█████████▋| 969/1004 [01:25<00:03, 11.20it/s]\n",
      "Iteration:   0%|          | 0/1004 [00:00<?, ?it/s]"
     ]
    },
    {
     "name": "stdout",
     "output_type": "stream",
     "text": [
      "{'Train':  best_epoch_indx:93\n",
      " auc:0.93200142528342 \n",
      " apur:0.4639710735280996 \n",
      " f1:0.3068331478626632 \n",
      " precision:0.18296602946548154 \n",
      " recall:0.9499336241228902 \n",
      ", 'Validation':  best_epoch_indx:93\n",
      " auc:0.8883763997556289 \n",
      " apur:0.37303092939115723 \n",
      " f1:0.28277205677706646 \n",
      " precision:0.16893914200199533 \n",
      " recall:0.8668941979522184 \n",
      "}\n",
      "=====Epoch 94\n",
      "Training...\n"
     ]
    },
    {
     "name": "stderr",
     "output_type": "stream",
     "text": [
      "Iteration: 100%|██████████| 1004/1004 [01:28<00:00, 11.29it/s]\n",
      "Iteration:  70%|███████   | 704/1004 [00:33<00:16, 17.99it/s]"
     ]
    },
    {
     "name": "stdout",
     "output_type": "stream",
     "text": [
      "Evaluating...\n"
     ]
    },
    {
     "name": "stderr",
     "output_type": "stream",
     "text": [
      "Iteration:  24%|██▍       | 243/1004 [00:20<01:05, 11.63it/s]]\n",
      "Iteration:  82%|████████▏ | 819/1004 [00:38<00:08, 20.63it/s]\n",
      "Iteration:  82%|████████▏ | 822/1004 [00:38<00:09, 19.83it/s]"
     ]
    },
    {
     "name": "stdout",
     "output_type": "stream",
     "text": [
      "{'Train':  best_epoch_indx:93\n",
      " auc:0.9348989597244903 \n",
      " apur:0.4763583441557221 \n",
      " f1:0.31357588553152793 \n",
      " precision:0.18784592651957224 \n",
      " recall:0.9482900309754093 \n",
      ", 'Validation':  best_epoch_indx:93\n",
      " auc:0.8898106909986894 \n",
      " apur:0.34952578109616217 \n",
      " f1:0.2809779588812743 \n",
      " precision:0.16780973451327433 \n",
      " recall:0.8629124004550626 \n",
      "}\n",
      "=====Epoch 94\n",
      "Training...\n"
     ]
    },
    {
     "name": "stderr",
     "output_type": "stream",
     "text": [
      "Iteration: 100%|██████████| 1004/1004 [01:28<00:00, 11.34it/s]\n",
      "Iteration:  40%|███▉      | 400/1004 [00:35<00:59, 10.17it/s]"
     ]
    },
    {
     "name": "stdout",
     "output_type": "stream",
     "text": [
      "Evaluating...\n"
     ]
    },
    {
     "name": "stderr",
     "output_type": "stream",
     "text": [
      "Iteration:  41%|████      | 412/1004 [00:36<00:58, 10.15it/s]\n",
      "Iteration:  19%|█▉        | 194/1004 [00:16<01:04, 12.63it/s]\n",
      "Iteration:  15%|█▌        | 152/1004 [00:06<00:39, 21.81it/s]"
     ]
    },
    {
     "name": "stdout",
     "output_type": "stream",
     "text": [
      "{'Train':  best_epoch_indx:93\n",
      " auc:0.9492754878239856 \n",
      " apur:0.5364439147105005 \n",
      " f1:0.3628229531649713 \n",
      " precision:0.22446407944675298 \n",
      " recall:0.9458280657395701 \n",
      ", 'Validation':  best_epoch_indx:93\n",
      " auc:0.8910887240654496 \n",
      " apur:0.3768800909435222 \n",
      " f1:0.3121844127332602 \n",
      " precision:0.19341675734494015 \n",
      " recall:0.8088737201365188 \n",
      "}\n",
      "=====Epoch 94\n",
      "Training...\n"
     ]
    },
    {
     "name": "stderr",
     "output_type": "stream",
     "text": [
      "Iteration:  14%|█▎        | 137/1004 [00:11<01:11, 12.16it/s]]\n",
      "Iteration:  42%|████▏     | 422/1004 [00:34<00:46, 12.65it/s]\n",
      "Iteration:  54%|█████▍    | 540/1004 [00:25<00:21, 21.89it/s]"
     ]
    },
    {
     "name": "stdout",
     "output_type": "stream",
     "text": [
      "{'Train':  best_epoch_indx:92\n",
      " auc:0.9403304743653987 \n",
      " apur:0.4906055533229726 \n",
      " f1:0.34132668950482714 \n",
      " precision:0.2087560139396419 \n",
      " recall:0.9352718078381795 \n",
      ", 'Validation':  best_epoch_indx:92\n",
      " auc:0.8865224859957141 \n",
      " apur:0.3720098895853462 \n",
      " f1:0.29568831168831167 \n",
      " precision:0.18088216600991483 \n",
      " recall:0.8094425483503982 \n",
      "}\n",
      "=====Epoch 93\n",
      "Training...\n"
     ]
    },
    {
     "name": "stderr",
     "output_type": "stream",
     "text": [
      "Iteration:  23%|██▎       | 235/1004 [00:23<01:16, 10.11it/s]]\n",
      "Iteration: 100%|██████████| 1004/1004 [01:27<00:00, 11.45it/s]\n",
      "Iteration:   0%|          | 2/1004 [00:00<01:08, 14.71it/s]s]"
     ]
    },
    {
     "name": "stdout",
     "output_type": "stream",
     "text": [
      "Evaluating...\n"
     ]
    },
    {
     "name": "stderr",
     "output_type": "stream",
     "text": [
      "Iteration:   6%|▌         | 61/1004 [00:02<00:43, 21.55it/s]]"
     ]
    },
    {
     "name": "stdout",
     "output_type": "stream",
     "text": [
      "{'Train':  best_epoch_indx:93\n",
      " auc:0.936891568906663 \n",
      " apur:0.48849290745709545 \n",
      " f1:0.3227131690757538 \n",
      " precision:0.19464767792167142 \n",
      " recall:0.9434260429835651 \n",
      ", 'Validation':  best_epoch_indx:93\n",
      " auc:0.884507109939933 \n",
      " apur:0.3631361453569296 \n",
      " f1:0.28389747603208765 \n",
      " precision:0.1714319470699433 \n",
      " recall:0.8253697383390216 \n",
      "}\n",
      "=====Epoch 94\n",
      "Training...\n"
     ]
    },
    {
     "name": "stderr",
     "output_type": "stream",
     "text": [
      "\n",
      "Iteration: 100%|██████████| 1004/1004 [01:21<00:00, 12.35it/s]\n",
      "Iteration:  18%|█▊        | 180/1004 [00:16<01:10, 11.71it/s]"
     ]
    },
    {
     "name": "stdout",
     "output_type": "stream",
     "text": [
      "Evaluating...\n"
     ]
    },
    {
     "name": "stderr",
     "output_type": "stream",
     "text": [
      "Iteration: 100%|██████████| 1004/1004 [01:24<00:00, 11.94it/s]\n",
      "Iteration:  70%|███████   | 705/1004 [01:06<00:25, 11.94it/s]"
     ]
    },
    {
     "name": "stdout",
     "output_type": "stream",
     "text": [
      "Evaluating...\n"
     ]
    },
    {
     "name": "stderr",
     "output_type": "stream",
     "text": [
      "Iteration:  62%|██████▏   | 622/1004 [00:31<00:17, 21.69it/s]]\n",
      "Iteration:  90%|████████▉ | 899/1004 [01:23<00:10, 10.06it/s]\n",
      "Iteration:  74%|███████▎  | 739/1004 [00:36<00:11, 22.34it/s]"
     ]
    },
    {
     "name": "stdout",
     "output_type": "stream",
     "text": [
      "{'Train':  best_epoch_indx:94\n",
      " auc:0.9363293095325278 \n",
      " apur:0.4860094705490737 \n",
      " f1:0.33234293977428064 \n",
      " precision:0.20233018790063 \n",
      " recall:0.929831215626778 \n",
      ", 'Validation':  best_epoch_indx:94\n",
      " auc:0.8910780107572381 \n",
      " apur:0.3776442802214966 \n",
      " f1:0.29955229955229956 \n",
      " precision:0.18240396530359357 \n",
      " recall:0.8373151308304891 \n",
      "}\n",
      "=====Epoch 95\n",
      "Training...\n"
     ]
    },
    {
     "name": "stderr",
     "output_type": "stream",
     "text": [
      "Iteration: 100%|██████████| 1004/1004 [01:33<00:00, 10.71it/s]\n",
      "Iteration:  12%|█▏        | 122/1004 [00:10<01:23, 10.54it/s]"
     ]
    },
    {
     "name": "stdout",
     "output_type": "stream",
     "text": [
      "Evaluating...\n"
     ]
    },
    {
     "name": "stderr",
     "output_type": "stream",
     "text": [
      "Iteration:  69%|██████▊   | 690/1004 [00:32<00:13, 22.74it/s]]\n",
      "Iteration:  81%|████████  | 813/1004 [00:38<00:08, 21.50it/s]\n",
      "Iteration:   0%|          | 1/1004 [00:00<01:57,  8.55it/s]s]"
     ]
    },
    {
     "name": "stdout",
     "output_type": "stream",
     "text": [
      "{'Train':  best_epoch_indx:94\n",
      " auc:0.9216136345745563 \n",
      " apur:0.42809553574255454 \n",
      " f1:0.32168231558266513 \n",
      " precision:0.19631380093967404 \n",
      " recall:0.8901321196030091 \n",
      ", 'Validation':  best_epoch_indx:94\n",
      " auc:0.8763248342523807 \n",
      " apur:0.32361491225261413 \n",
      " f1:0.28556827473426005 \n",
      " precision:0.17405930725143284 \n",
      " recall:0.7946530147895335 \n",
      "}\n",
      "=====Epoch 95\n",
      "Training...\n"
     ]
    },
    {
     "name": "stderr",
     "output_type": "stream",
     "text": [
      "Iteration: 100%|█████████▉| 1001/1004 [01:25<00:00, 12.35it/s]\n",
      "Iteration: 100%|██████████| 1004/1004 [01:25<00:00, 11.77it/s]\n",
      "Iteration:  37%|███▋      | 374/1004 [00:32<00:50, 12.36it/s]"
     ]
    },
    {
     "name": "stdout",
     "output_type": "stream",
     "text": [
      "Evaluating...\n"
     ]
    },
    {
     "name": "stderr",
     "output_type": "stream",
     "text": [
      "Iteration:  20%|██        | 201/1004 [00:16<01:03, 12.61it/s]\n",
      "Iteration:   0%|          | 1/1004 [00:00<01:51,  8.96it/s]s]"
     ]
    },
    {
     "name": "stdout",
     "output_type": "stream",
     "text": [
      "{'Train':  best_epoch_indx:94\n",
      " auc:0.9401739047566223 \n",
      " apur:0.5044735143050769 \n",
      " f1:0.3197928984627185 \n",
      " precision:0.19230719950798877 \n",
      " recall:0.9487357774968395 \n",
      ", 'Validation':  best_epoch_indx:94\n",
      " auc:0.8861595704368969 \n",
      " apur:0.366290919783714 \n",
      " f1:0.2824251726784344 \n",
      " precision:0.1698592199399954 \n",
      " recall:0.8373151308304891 \n",
      "}\n",
      "=====Epoch 95\n",
      "Training...\n"
     ]
    },
    {
     "name": "stderr",
     "output_type": "stream",
     "text": [
      "Iteration:  50%|█████     | 503/1004 [00:41<00:40, 12.37it/s]]\n",
      "Iteration:  73%|███████▎  | 731/1004 [00:35<00:13, 20.73it/s]\n",
      "Iteration:  80%|████████  | 806/1004 [01:08<00:17, 11.05it/s]"
     ]
    },
    {
     "name": "stdout",
     "output_type": "stream",
     "text": [
      "{'Train':  best_epoch_indx:93\n",
      " auc:0.9447677228517606 \n",
      " apur:0.5137524152726187 \n",
      " f1:0.35201703537205725 \n",
      " precision:0.2165332557124145 \n",
      " recall:0.9404551201011379 \n",
      ", 'Validation':  best_epoch_indx:93\n",
      " auc:0.891634106823419 \n",
      " apur:0.3930654661838374 \n",
      " f1:0.30833511892007714 \n",
      " precision:0.18994192185850053 \n",
      " recall:0.8185437997724687 \n",
      "}\n",
      "=====Epoch 94\n",
      "Training...\n"
     ]
    },
    {
     "name": "stderr",
     "output_type": "stream",
     "text": [
      "Iteration:  53%|█████▎    | 537/1004 [00:45<00:39, 11.93it/s]]\n",
      "Iteration: 100%|██████████| 1004/1004 [01:24<00:00, 11.84it/s]\n",
      "Iteration:  20%|██        | 201/1004 [00:16<01:06, 11.99it/s]"
     ]
    },
    {
     "name": "stdout",
     "output_type": "stream",
     "text": [
      "Evaluating...\n"
     ]
    },
    {
     "name": "stderr",
     "output_type": "stream",
     "text": [
      "Iteration:   8%|▊         | 76/1004 [00:03<00:42, 21.80it/s]]\n",
      "Iteration:  78%|███████▊  | 788/1004 [01:07<00:17, 12.51it/s]"
     ]
    },
    {
     "name": "stdout",
     "output_type": "stream",
     "text": [
      "{'Train':  best_epoch_indx:94\n",
      " auc:0.9315157456137484 \n",
      " apur:0.4602858756955023 \n",
      " f1:0.3262642376644095 \n",
      " precision:0.198092631978217 \n",
      " recall:0.9243362831858407 \n",
      ", 'Validation':  best_epoch_indx:94\n",
      " auc:0.884233992361501 \n",
      " apur:0.3563253663957009 \n",
      " f1:0.2923694779116466 \n",
      " precision:0.17751767861497195 \n",
      " recall:0.8282138794084186 \n",
      "}\n",
      "=====Epoch 95\n",
      "Training...\n"
     ]
    },
    {
     "name": "stderr",
     "output_type": "stream",
     "text": [
      "Iteration: 100%|██████████| 1004/1004 [01:24<00:00, 11.83it/s]\n",
      "Iteration:  78%|███████▊  | 785/1004 [01:08<00:20, 10.45it/s]"
     ]
    },
    {
     "name": "stdout",
     "output_type": "stream",
     "text": [
      "Evaluating...\n"
     ]
    },
    {
     "name": "stderr",
     "output_type": "stream",
     "text": [
      "Iteration: 100%|██████████| 1004/1004 [01:28<00:00, 11.41it/s]\n",
      "Iteration:  42%|████▏     | 425/1004 [00:19<00:28, 20.33it/s]"
     ]
    },
    {
     "name": "stdout",
     "output_type": "stream",
     "text": [
      "Evaluating...\n"
     ]
    },
    {
     "name": "stderr",
     "output_type": "stream",
     "text": [
      "Iteration:  50%|█████     | 503/1004 [00:47<00:38, 12.86it/s]]\n",
      "Iteration:  75%|███████▌  | 754/1004 [00:35<00:12, 19.72it/s]\n",
      "Iteration:  57%|█████▋    | 575/1004 [00:53<00:36, 11.88it/s]"
     ]
    },
    {
     "name": "stdout",
     "output_type": "stream",
     "text": [
      "{'Train':  best_epoch_indx:95\n",
      " auc:0.9327834170232346 \n",
      " apur:0.46491313292745007 \n",
      " f1:0.33294048994816755 \n",
      " precision:0.2032607784514795 \n",
      " recall:0.9197167962576648 \n",
      ", 'Validation':  best_epoch_indx:95\n",
      " auc:0.8905670110788887 \n",
      " apur:0.354379881731064 \n",
      " f1:0.29922720247295215 \n",
      " precision:0.18271045677614195 \n",
      " recall:0.825938566552901 \n",
      "}\n",
      "=====Epoch 96\n",
      "Training...\n"
     ]
    },
    {
     "name": "stderr",
     "output_type": "stream",
     "text": [
      "Iteration: 100%|██████████| 1004/1004 [01:23<00:00, 12.10it/s]\n",
      "Iteration:  52%|█████▏    | 525/1004 [00:26<00:22, 21.07it/s]"
     ]
    },
    {
     "name": "stdout",
     "output_type": "stream",
     "text": [
      "Evaluating...\n"
     ]
    },
    {
     "name": "stderr",
     "output_type": "stream",
     "text": [
      "Iteration:  74%|███████▍  | 741/1004 [01:07<00:23, 11.31it/s]]\n",
      "Iteration:  22%|██▏       | 216/1004 [00:19<01:05, 11.98it/s]\n",
      "Iteration:  22%|██▏       | 218/1004 [00:20<01:05, 12.01it/s]"
     ]
    },
    {
     "name": "stdout",
     "output_type": "stream",
     "text": [
      "{'Train':  best_epoch_indx:95\n",
      " auc:0.9237704718784492 \n",
      " apur:0.42958785434146896 \n",
      " f1:0.3209352702747971 \n",
      " precision:0.19489272830833493 \n",
      " recall:0.9084645047095266 \n",
      ", 'Validation':  best_epoch_indx:95\n",
      " auc:0.8828017199579278 \n",
      " apur:0.3327305813042627 \n",
      " f1:0.2898405375589209 \n",
      " precision:0.17594058200413978 \n",
      " recall:0.8219567690557452 \n",
      "}\n",
      "=====Epoch 96\n",
      "Training...\n"
     ]
    },
    {
     "name": "stderr",
     "output_type": "stream",
     "text": [
      "Iteration:  96%|█████████▌| 960/1004 [01:27<00:04,  9.79it/s]]\n",
      "Iteration: 100%|██████████| 1004/1004 [01:32<00:00, 10.87it/s]\n",
      "Iteration:  46%|████▌     | 460/1004 [00:39<00:42, 12.71it/s]"
     ]
    },
    {
     "name": "stdout",
     "output_type": "stream",
     "text": [
      "Evaluating...\n"
     ]
    },
    {
     "name": "stderr",
     "output_type": "stream",
     "text": [
      "Iteration:  47%|████▋     | 468/1004 [00:40<00:41, 12.77it/s]\n",
      "Iteration:  47%|████▋     | 470/1004 [00:40<00:41, 12.75it/s]"
     ]
    },
    {
     "name": "stdout",
     "output_type": "stream",
     "text": [
      "{'Train':  best_epoch_indx:95\n",
      " auc:0.9400950369814197 \n",
      " apur:0.4907232110969688 \n",
      " f1:0.32494057670176496 \n",
      " precision:0.19578262503726168 \n",
      " recall:0.9548672566371681 \n",
      ", 'Validation':  best_epoch_indx:95\n",
      " auc:0.8864710728834433 \n",
      " apur:0.3616839358645305 \n",
      " f1:0.28466942546434415 \n",
      " precision:0.17131935595968956 \n",
      " recall:0.841296928327645 \n",
      "}\n",
      "=====Epoch 96\n",
      "Training...\n"
     ]
    },
    {
     "name": "stderr",
     "output_type": "stream",
     "text": [
      "Iteration:  53%|█████▎    | 535/1004 [00:44<00:38, 12.29it/s]]\n",
      "Iteration:  60%|█████▉    | 601/1004 [00:50<00:32, 12.49it/s]\n",
      "Iteration:  64%|██████▍   | 647/1004 [00:30<00:16, 21.75it/s]"
     ]
    },
    {
     "name": "stdout",
     "output_type": "stream",
     "text": [
      "{'Train':  best_epoch_indx:94\n",
      " auc:0.9318409797320016 \n",
      " apur:0.46627615821174495 \n",
      " f1:0.3405843768634466 \n",
      " precision:0.20989269439952962 \n",
      " recall:0.9025916561314792 \n",
      ", 'Validation':  best_epoch_indx:94\n",
      " auc:0.8814901741556819 \n",
      " apur:0.36290227392689084 \n",
      " f1:0.29973992197659294 \n",
      " precision:0.18514056224899597 \n",
      " recall:0.7866894197952219 \n",
      "}\n",
      "=====Epoch 95\n",
      "Training...\n"
     ]
    },
    {
     "name": "stderr",
     "output_type": "stream",
     "text": [
      "Iteration:  79%|███████▉  | 795/1004 [01:08<00:20, 10.44it/s]]\n",
      "Iteration: 100%|██████████| 1004/1004 [01:31<00:00, 11.02it/s]\n",
      "Iteration:  61%|██████    | 608/1004 [00:51<00:32, 12.28it/s]"
     ]
    },
    {
     "name": "stdout",
     "output_type": "stream",
     "text": [
      "Evaluating...\n"
     ]
    },
    {
     "name": "stderr",
     "output_type": "stream",
     "text": [
      "Iteration:   6%|▋         | 64/1004 [00:03<00:45, 20.87it/s]]"
     ]
    },
    {
     "name": "stdout",
     "output_type": "stream",
     "text": [
      "{'Train':  best_epoch_indx:95\n",
      " auc:0.9387117039793814 \n",
      " apur:0.48872263497345014 \n",
      " f1:0.3250993938603924 \n",
      " precision:0.19628007030614655 \n",
      " recall:0.9458912768647282 \n",
      ", 'Validation':  best_epoch_indx:95\n",
      " auc:0.8894511132544906 \n",
      " apur:0.36439783195103825 \n",
      " f1:0.28997449480086324 \n",
      " precision:0.17520151730678046 \n",
      " recall:0.8407281001137656 \n",
      "}\n",
      "=====Epoch 96\n",
      "Training...\n"
     ]
    },
    {
     "name": "stderr",
     "output_type": "stream",
     "text": [
      "\n",
      "Iteration: 100%|██████████| 1004/1004 [01:26<00:00, 11.57it/s]\n",
      "Iteration:  31%|███       | 313/1004 [00:15<00:34, 19.74it/s]"
     ]
    },
    {
     "name": "stdout",
     "output_type": "stream",
     "text": [
      "Evaluating...\n"
     ]
    },
    {
     "name": "stderr",
     "output_type": "stream",
     "text": [
      "Iteration: 100%|██████████| 1004/1004 [01:25<00:00, 11.80it/s]\n",
      "Iteration:  36%|███▌      | 357/1004 [00:30<00:51, 12.49it/s]"
     ]
    },
    {
     "name": "stdout",
     "output_type": "stream",
     "text": [
      "Evaluating...\n"
     ]
    },
    {
     "name": "stderr",
     "output_type": "stream",
     "text": [
      "Iteration:  39%|███▉      | 390/1004 [00:18<00:29, 20.71it/s]]\n",
      "Iteration:  62%|██████▏   | 625/1004 [00:54<01:01,  6.14it/s]\n",
      "Iteration:  89%|████████▉ | 896/1004 [00:42<00:05, 20.64it/s]"
     ]
    },
    {
     "name": "stdout",
     "output_type": "stream",
     "text": [
      "{'Train':  best_epoch_indx:96\n",
      " auc:0.9389682150951705 \n",
      " apur:0.49276275369463873 \n",
      " f1:0.3217270492679278 \n",
      " precision:0.19359236537150648 \n",
      " recall:0.9515140021493141 \n",
      ", 'Validation':  best_epoch_indx:96\n",
      " auc:0.8969870552370994 \n",
      " apur:0.3939480209826585 \n",
      " f1:0.29369957741068 \n",
      " precision:0.17668130344349434 \n",
      " recall:0.8697383390216155 \n",
      "}\n",
      "=====Epoch 97\n",
      "Training...\n"
     ]
    },
    {
     "name": "stderr",
     "output_type": "stream",
     "text": [
      "Iteration: 100%|██████████| 1004/1004 [01:22<00:00, 12.14it/s]\n",
      "Iteration:  98%|█████████▊| 983/1004 [00:46<00:01, 20.98it/s]"
     ]
    },
    {
     "name": "stdout",
     "output_type": "stream",
     "text": [
      "Evaluating...\n"
     ]
    },
    {
     "name": "stderr",
     "output_type": "stream",
     "text": [
      "Iteration:   7%|▋         | 74/1004 [00:03<00:43, 21.28it/s]]]\n",
      "Iteration:  14%|█▍        | 141/1004 [00:12<01:22, 10.49it/s]\n",
      "Iteration:  78%|███████▊  | 785/1004 [01:07<00:17, 12.33it/s]"
     ]
    },
    {
     "name": "stdout",
     "output_type": "stream",
     "text": [
      "{'Train':  best_epoch_indx:96\n",
      " auc:0.9363129250682076 \n",
      " apur:0.4799266533244339 \n",
      " f1:0.3388159420962279 \n",
      " precision:0.20747801628002785 \n",
      " recall:0.9232568430368544 \n",
      ", 'Validation':  best_epoch_indx:96\n",
      " auc:0.8936493841803811 \n",
      " apur:0.37174391026361875 \n",
      " f1:0.30198840099420055 \n",
      " precision:0.18460369713851607 \n",
      " recall:0.8293515358361775 \n",
      "}\n",
      "=====Epoch 97\n",
      "Training...\n"
     ]
    },
    {
     "name": "stderr",
     "output_type": "stream",
     "text": [
      "Iteration:  28%|██▊       | 277/1004 [00:26<01:05, 11.09it/s]]\n",
      "Iteration: 100%|██████████| 1004/1004 [01:25<00:00, 11.70it/s]\n",
      "Iteration:  34%|███▍      | 343/1004 [00:31<00:54, 12.09it/s]"
     ]
    },
    {
     "name": "stdout",
     "output_type": "stream",
     "text": [
      "Evaluating...\n",
      "{'Train':  best_epoch_indx:96\n",
      " auc:0.95171349033045 \n",
      " apur:0.5356578793160371 \n",
      " f1:0.344767743244157 \n",
      " precision:0.20978359252859377 \n",
      " recall:0.9669405815423514 \n",
      ", 'Validation':  best_epoch_indx:96\n",
      " auc:0.8937417842205496 \n",
      " apur:0.38640533509411096 \n",
      " f1:0.3008311372390026 \n",
      " precision:0.18302910705476072 \n",
      " recall:0.8441410693970421 \n",
      "}\n",
      "=====Epoch 97\n",
      "Training...\n"
     ]
    },
    {
     "name": "stderr",
     "output_type": "stream",
     "text": [
      "Iteration:  58%|█████▊    | 581/1004 [00:27<00:20, 21.02it/s]\n",
      "Iteration:  47%|████▋     | 468/1004 [00:22<00:25, 21.20it/s]]\n",
      "Iteration:  67%|██████▋   | 671/1004 [00:58<00:27, 12.31it/s]\n",
      "Iteration:   0%|          | 0/1004 [00:00<?, ?it/s]"
     ]
    },
    {
     "name": "stdout",
     "output_type": "stream",
     "text": [
      "{'Train':  best_epoch_indx:95\n",
      " auc:0.9286575997764706 \n",
      " apur:0.448888896239764 \n",
      " f1:0.33025172258578306 \n",
      " precision:0.20201064625898366 \n",
      " recall:0.9043615676359039 \n",
      ", 'Validation':  best_epoch_indx:95\n",
      " auc:0.8816758625253933 \n",
      " apur:0.35654934383165315 \n",
      " f1:0.2944721529509559 \n",
      " precision:0.18014238494787693 \n",
      " recall:0.8060295790671217 \n",
      "}\n",
      "=====Epoch 96\n",
      "Training...\n"
     ]
    },
    {
     "name": "stderr",
     "output_type": "stream",
     "text": [
      "Iteration:  60%|█████▉    | 600/1004 [00:51<00:39, 10.15it/s]]\n",
      "Iteration: 100%|██████████| 1004/1004 [01:27<00:00, 11.43it/s]\n",
      "Iteration:  65%|██████▌   | 656/1004 [00:56<00:32, 10.67it/s]"
     ]
    },
    {
     "name": "stdout",
     "output_type": "stream",
     "text": [
      "Evaluating...\n",
      "{'Train':  best_epoch_indx:96\n",
      " auc:0.9413146251077845 \n",
      " apur:0.502992740852019 \n",
      " f1:0.35850402026113254 \n",
      " precision:0.2225342653927165 \n",
      " recall:0.9216182048040455 \n",
      ", 'Validation':  best_epoch_indx:96\n",
      " auc:0.8895264653167683 \n",
      " apur:0.36737449232696884 \n",
      " f1:0.3098747644907459 \n",
      " precision:0.1924294562973159 \n",
      " recall:0.7952218430034129 \n",
      "}\n",
      "=====Epoch 97\n",
      "Training...\n"
     ]
    },
    {
     "name": "stderr",
     "output_type": "stream",
     "text": [
      "Iteration:  83%|████████▎ | 836/1004 [01:15<00:13, 12.37it/s]\n",
      "Iteration: 100%|██████████| 1004/1004 [01:29<00:00, 11.17it/s]\n",
      "Iteration:  18%|█▊        | 183/1004 [00:14<01:05, 12.49it/s]"
     ]
    },
    {
     "name": "stdout",
     "output_type": "stream",
     "text": [
      "Evaluating...\n"
     ]
    },
    {
     "name": "stderr",
     "output_type": "stream",
     "text": [
      "Iteration: 100%|██████████| 1004/1004 [01:26<00:00, 11.55it/s]\n",
      "Iteration:  38%|███▊      | 377/1004 [00:30<00:53, 11.78it/s]"
     ]
    },
    {
     "name": "stdout",
     "output_type": "stream",
     "text": [
      "Evaluating...\n"
     ]
    },
    {
     "name": "stderr",
     "output_type": "stream",
     "text": [
      "Iteration:  72%|███████▏  | 727/1004 [00:36<00:13, 20.34it/s]]\n",
      "Iteration:  83%|████████▎ | 833/1004 [00:41<00:08, 20.63it/s]\n",
      "Iteration:   0%|          | 1/1004 [00:00<01:49,  9.19it/s]s]"
     ]
    },
    {
     "name": "stdout",
     "output_type": "stream",
     "text": [
      "{'Train':  best_epoch_indx:97\n",
      " auc:0.9467689486465588 \n",
      " apur:0.5314964797711956 \n",
      " f1:0.33889311780772846 \n",
      " precision:0.2059091589242719 \n",
      " recall:0.9568872874391554 \n",
      ", 'Validation':  best_epoch_indx:97\n",
      " auc:0.899887050865639 \n",
      " apur:0.3966830183183727 \n",
      " f1:0.3062027231467473 \n",
      " precision:0.1860978300845899 \n",
      " recall:0.863481228668942 \n",
      "}\n",
      "=====Epoch 98\n",
      "Training...\n"
     ]
    },
    {
     "name": "stderr",
     "output_type": "stream",
     "text": [
      "Iteration: 100%|██████████| 1004/1004 [01:28<00:00, 11.34it/s]\n",
      "Iteration:   0%|          | 2/1004 [00:00<01:02, 15.97it/s]s]"
     ]
    },
    {
     "name": "stdout",
     "output_type": "stream",
     "text": [
      "Evaluating...\n"
     ]
    },
    {
     "name": "stderr",
     "output_type": "stream",
     "text": [
      "Iteration:  77%|███████▋  | 769/1004 [00:37<00:11, 21.21it/s]]\n",
      "Iteration:  88%|████████▊ | 883/1004 [00:42<00:05, 21.30it/s]\n",
      "Iteration:  28%|██▊       | 285/1004 [00:13<00:33, 21.36it/s]"
     ]
    },
    {
     "name": "stdout",
     "output_type": "stream",
     "text": [
      "{'Train':  best_epoch_indx:97\n",
      " auc:0.9451533561928338 \n",
      " apur:0.5198987817730525 \n",
      " f1:0.35336406410470755 \n",
      " precision:0.21783300696417793 \n",
      " recall:0.9352677160376762 \n",
      ", 'Validation':  best_epoch_indx:97\n",
      " auc:0.8941654174985182 \n",
      " apur:0.3714485460628799 \n",
      " f1:0.3057176196032672 \n",
      " precision:0.18789933498500455 \n",
      " recall:0.8196814562002275 \n",
      "}\n",
      "=====Epoch 98\n",
      "Training...\n"
     ]
    },
    {
     "name": "stderr",
     "output_type": "stream",
     "text": [
      "Iteration:  45%|████▍     | 450/1004 [00:21<00:26, 20.67it/s]]\n",
      "Iteration: 100%|██████████| 1004/1004 [01:23<00:00, 11.98it/s]\n",
      "Iteration:  62%|██████▏   | 69/112 [00:03<00:01, 22.15it/s]s]"
     ]
    },
    {
     "name": "stdout",
     "output_type": "stream",
     "text": [
      "Evaluating...\n"
     ]
    },
    {
     "name": "stderr",
     "output_type": "stream",
     "text": [
      "Iteration:  36%|███▌      | 359/1004 [00:29<00:52, 12.27it/s]\n",
      "Iteration:   5%|▌         | 51/1004 [00:02<00:45, 21.16it/s]]"
     ]
    },
    {
     "name": "stdout",
     "output_type": "stream",
     "text": [
      "{'Train':  best_epoch_indx:97\n",
      " auc:0.9555016934694636 \n",
      " apur:0.5627020691038891 \n",
      " f1:0.37939392417144935 \n",
      " precision:0.23672951243593962 \n",
      " recall:0.9548040455120101 \n",
      ", 'Validation':  best_epoch_indx:97\n",
      " auc:0.8973424696856446 \n",
      " apur:0.39683437848142267 \n",
      " f1:0.32172433352240504 \n",
      " precision:0.20093524160408105 \n",
      " recall:0.8065984072810012 \n",
      "}\n",
      "=====Epoch 98\n",
      "Training...\n"
     ]
    },
    {
     "name": "stderr",
     "output_type": "stream",
     "text": [
      "Iteration:  64%|██████▎   | 639/1004 [00:52<00:34, 10.50it/s]]\n",
      "Iteration:  33%|███▎      | 328/1004 [00:28<00:55, 12.18it/s]\n",
      "Iteration:  67%|██████▋   | 673/1004 [00:31<00:14, 22.28it/s]"
     ]
    },
    {
     "name": "stdout",
     "output_type": "stream",
     "text": [
      "{'Train':  best_epoch_indx:96\n",
      " auc:0.9442292068302804 \n",
      " apur:0.5159630496661469 \n",
      " f1:0.3492357464366091 \n",
      " precision:0.21436999942439416 \n",
      " recall:0.9416561314791403 \n",
      ", 'Validation':  best_epoch_indx:96\n",
      " auc:0.8916313791469566 \n",
      " apur:0.3964444898136998 \n",
      " f1:0.30438466426604527 \n",
      " precision:0.1870119729307652 \n",
      " recall:0.8174061433447098 \n",
      "}\n",
      "=====Epoch 97\n",
      "Training...\n"
     ]
    },
    {
     "name": "stderr",
     "output_type": "stream",
     "text": [
      "Iteration:  55%|█████▌    | 554/1004 [00:46<00:34, 13.03it/s]]\n",
      "Iteration:  75%|███████▍  | 750/1004 [01:05<00:21, 11.56it/s]\n",
      "Iteration:  75%|███████▍  | 752/1004 [01:05<00:21, 11.53it/s]"
     ]
    },
    {
     "name": "stdout",
     "output_type": "stream",
     "text": [
      "{'Train':  best_epoch_indx:97\n",
      " auc:0.9504087554526589 \n",
      " apur:0.5402117250094339 \n",
      " f1:0.350825730453863 \n",
      " precision:0.21462484103433657 \n",
      " recall:0.9601137800252845 \n",
      ", 'Validation':  best_epoch_indx:97\n",
      " auc:0.8963571773171306 \n",
      " apur:0.39290691470192074 \n",
      " f1:0.3039501039501039 \n",
      " precision:0.18595777155939963 \n",
      " recall:0.8316268486916951 \n",
      "}\n",
      "=====Epoch 98\n",
      "Training...\n"
     ]
    },
    {
     "name": "stderr",
     "output_type": "stream",
     "text": [
      "Iteration: 100%|██████████| 1004/1004 [01:23<00:00, 11.98it/s]\n",
      "Iteration:  65%|██████▍   | 650/1004 [00:54<00:28, 12.35it/s]"
     ]
    },
    {
     "name": "stdout",
     "output_type": "stream",
     "text": [
      "Evaluating...\n"
     ]
    },
    {
     "name": "stderr",
     "output_type": "stream",
     "text": [
      "Iteration: 100%|██████████| 1004/1004 [01:27<00:00, 11.49it/s]\n",
      "Iteration:  52%|█████▏    | 519/1004 [00:45<00:46, 10.37it/s]"
     ]
    },
    {
     "name": "stdout",
     "output_type": "stream",
     "text": [
      "Evaluating...\n"
     ]
    },
    {
     "name": "stderr",
     "output_type": "stream",
     "text": [
      "Iteration: 100%|██████████| 1004/1004 [01:24<00:00, 11.94it/s]\n",
      "Iteration:  22%|██▏       | 218/1004 [00:09<00:37, 20.98it/s]"
     ]
    },
    {
     "name": "stdout",
     "output_type": "stream",
     "text": [
      "Evaluating...\n"
     ]
    },
    {
     "name": "stderr",
     "output_type": "stream",
     "text": [
      "Iteration:  47%|████▋     | 475/1004 [00:22<00:24, 21.24it/s]]\n",
      "Iteration:  76%|███████▌  | 765/1004 [00:37<00:11, 21.14it/s]\n",
      "Iteration:   0%|          | 1/1004 [00:00<01:57,  8.52it/s]s]"
     ]
    },
    {
     "name": "stdout",
     "output_type": "stream",
     "text": [
      "{'Train':  best_epoch_indx:98\n",
      " auc:0.9533143080850079 \n",
      " apur:0.558862372956203 \n",
      " f1:0.35547643150533503 \n",
      " precision:0.21783463107156098 \n",
      " recall:0.9656109741450155 \n",
      ", 'Validation':  best_epoch_indx:98\n",
      " auc:0.9052567152702722 \n",
      " apur:0.420960382709509 \n",
      " f1:0.31830629871497784 \n",
      " precision:0.1953205791106515 \n",
      " recall:0.8594994311717861 \n",
      "}\n",
      "=====Epoch 99\n",
      "Training...\n"
     ]
    },
    {
     "name": "stderr",
     "output_type": "stream",
     "text": [
      "Iteration: 100%|██████████| 1004/1004 [01:33<00:00, 10.73it/s]\n",
      "Iteration:   0%|          | 0/1004 [00:00<?, ?it/s]"
     ]
    },
    {
     "name": "stdout",
     "output_type": "stream",
     "text": [
      "Evaluating...\n"
     ]
    },
    {
     "name": "stderr",
     "output_type": "stream",
     "text": [
      "Iteration:   6%|▋         | 65/1004 [00:03<00:44, 21.16it/s]]]\n",
      "Iteration:  95%|█████████▌| 957/1004 [00:47<00:02, 21.60it/s]\n",
      "Iteration:   0%|          | 1/1004 [00:00<01:53,  8.87it/s]s]"
     ]
    },
    {
     "name": "stdout",
     "output_type": "stream",
     "text": [
      "{'Train':  best_epoch_indx:98\n",
      " auc:0.9473043759089146 \n",
      " apur:0.530970375080847 \n",
      " f1:0.35925765453495084 \n",
      " precision:0.22187040092761895 \n",
      " recall:0.9434856817750806 \n",
      ", 'Validation':  best_epoch_indx:98\n",
      " auc:0.8952645903593434 \n",
      " apur:0.37648322034773474 \n",
      " f1:0.31153184165232356 \n",
      " precision:0.19209339347306978 \n",
      " recall:0.8236632536973834 \n",
      "}\n",
      "=====Epoch 99\n",
      "Training...\n"
     ]
    },
    {
     "name": "stderr",
     "output_type": "stream",
     "text": [
      "Iteration:  94%|█████████▍| 944/1004 [01:23<00:04, 12.32it/s]]\n",
      "Iteration: 100%|██████████| 1004/1004 [01:28<00:00, 11.38it/s]\n",
      "Iteration:  96%|█████████▋| 108/112 [00:05<00:00, 21.10it/s]]"
     ]
    },
    {
     "name": "stdout",
     "output_type": "stream",
     "text": [
      "Evaluating...\n"
     ]
    },
    {
     "name": "stderr",
     "output_type": "stream",
     "text": [
      "Iteration:  39%|███▉      | 395/1004 [00:18<00:28, 21.49it/s]\n",
      "Iteration:   1%|▏         | 14/1004 [00:00<00:45, 21.76it/s]]"
     ]
    },
    {
     "name": "stdout",
     "output_type": "stream",
     "text": [
      "{'Train':  best_epoch_indx:98\n",
      " auc:0.9599005292259919 \n",
      " apur:0.5897176393077629 \n",
      " f1:0.3879959851093296 \n",
      " precision:0.2428005788159715 \n",
      " recall:0.9651706700379267 \n",
      ", 'Validation':  best_epoch_indx:98\n",
      " auc:0.8981160889770934 \n",
      " apur:0.4144146281425241 \n",
      " f1:0.3251695987121996 \n",
      " precision:0.20377576019599367 \n",
      " recall:0.8043230944254836 \n",
      "}\n",
      "=====Epoch 99\n",
      "Training...\n"
     ]
    },
    {
     "name": "stderr",
     "output_type": "stream",
     "text": [
      "Iteration:  73%|███████▎  | 735/1004 [01:01<00:20, 12.93it/s]]\n",
      "Iteration:  51%|█████     | 512/1004 [00:47<00:51,  9.60it/s]\n",
      "Iteration:  80%|████████  | 807/1004 [01:06<00:16, 12.19it/s]"
     ]
    },
    {
     "name": "stdout",
     "output_type": "stream",
     "text": [
      "{'Train':  best_epoch_indx:97\n",
      " auc:0.9506725727974904 \n",
      " apur:0.5442625974955878 \n",
      " f1:0.3821282666493742 \n",
      " precision:0.24038508607326425 \n",
      " recall:0.9312262958280657 \n",
      ", 'Validation':  best_epoch_indx:97\n",
      " auc:0.8942647802917623 \n",
      " apur:0.39936962903654705 \n",
      " f1:0.32756794917049065 \n",
      " precision:0.2064975522919448 \n",
      " recall:0.7918088737201365 \n",
      "}\n",
      "=====Epoch 98\n",
      "Training...\n"
     ]
    },
    {
     "name": "stderr",
     "output_type": "stream",
     "text": [
      "Iteration:  96%|█████████▌| 961/1004 [01:19<00:03, 12.38it/s]]\n",
      "Iteration: 100%|██████████| 1004/1004 [01:22<00:00, 12.13it/s]\n",
      "Iteration:  16%|█▌        | 163/1004 [00:16<01:22, 10.24it/s]"
     ]
    },
    {
     "name": "stdout",
     "output_type": "stream",
     "text": [
      "Evaluating...\n"
     ]
    },
    {
     "name": "stderr",
     "output_type": "stream",
     "text": [
      "Iteration:  18%|█▊        | 179/1004 [00:17<01:21, 10.14it/s]\n",
      "Iteration:  71%|███████   | 708/1004 [01:05<00:28, 10.29it/s]"
     ]
    },
    {
     "name": "stdout",
     "output_type": "stream",
     "text": [
      "{'Train':  best_epoch_indx:98\n",
      " auc:0.9556162551249979 \n",
      " apur:0.5691986480194939 \n",
      " f1:0.36562706568114894 \n",
      " precision:0.22573272983601692 \n",
      " recall:0.9615044247787611 \n",
      ", 'Validation':  best_epoch_indx:98\n",
      " auc:0.8978241468420219 \n",
      " apur:0.3964328171004725 \n",
      " f1:0.3120552081086909 \n",
      " precision:0.19252261841405002 \n",
      " recall:0.823094425483504 \n",
      "}\n",
      "=====Epoch 99\n",
      "Training...\n"
     ]
    },
    {
     "name": "stderr",
     "output_type": "stream",
     "text": [
      "Iteration: 100%|██████████| 1004/1004 [01:30<00:00, 11.12it/s]\n",
      "Iteration:  57%|█████▋    | 576/1004 [00:27<00:19, 21.76it/s]"
     ]
    },
    {
     "name": "stdout",
     "output_type": "stream",
     "text": [
      "Evaluating...\n"
     ]
    },
    {
     "name": "stderr",
     "output_type": "stream",
     "text": [
      "Iteration: 100%|██████████| 1004/1004 [01:24<00:00, 11.85it/s]\n",
      "Iteration:   0%|          | 0/1004 [00:00<?, ?it/s]"
     ]
    },
    {
     "name": "stdout",
     "output_type": "stream",
     "text": [
      "Evaluating...\n"
     ]
    },
    {
     "name": "stderr",
     "output_type": "stream",
     "text": [
      "Iteration:  38%|███▊      | 383/1004 [00:17<00:27, 22.25it/s]]\n",
      "Iteration:  61%|██████    | 611/1004 [00:27<00:18, 21.55it/s]\n",
      "Iteration:  51%|█████     | 509/1004 [00:23<00:24, 20.17it/s]"
     ]
    },
    {
     "name": "stdout",
     "output_type": "stream",
     "text": [
      "{'Train':  best_epoch_indx:99\n",
      " auc:0.959080014696144 \n",
      " apur:0.5903534544320694 \n",
      " f1:0.3743598497780813 \n",
      " precision:0.23191274001782666 \n",
      " recall:0.9704153233453442 \n",
      ", 'Validation':  best_epoch_indx:99\n",
      " auc:0.9078090398212768 \n",
      " apur:0.43247120904366615 \n",
      " f1:0.3282040008793141 \n",
      " precision:0.20340599455040873 \n",
      " recall:0.8492605233219568 \n",
      "}\n",
      "Finished training and validating!\n"
     ]
    },
    {
     "name": "stderr",
     "output_type": "stream",
     "text": [
      "Iteration:  68%|██████▊   | 191/279 [00:17<00:07, 11.93it/s]]]"
     ]
    },
    {
     "name": "stdout",
     "output_type": "stream",
     "text": [
      "Evaluating...\n"
     ]
    },
    {
     "name": "stderr",
     "output_type": "stream",
     "text": [
      "Iteration: 100%|██████████| 1004/1004 [01:28<00:00, 11.35it/s]\n",
      "Iteration:  85%|████████▍ | 849/1004 [01:14<00:12, 12.46it/s]]\n",
      "Iteration:  18%|█▊        | 179/1004 [00:08<00:40, 20.49it/s]]\n",
      "Iteration:  91%|█████████ | 915/1004 [01:19<00:07, 11.96it/s]\n",
      "Iteration:   5%|▌         | 6/112 [00:00<00:05, 20.77it/s]"
     ]
    },
    {
     "name": "stdout",
     "output_type": "stream",
     "text": [
      "{'Test':  best_epoch_indx:99\n",
      " auc:0.8993071670488596 \n",
      " apur:0.4069972288368071 \n",
      " f1:0.31763879128601546 \n",
      " precision:0.19681053720132805 \n",
      " recall:0.8227531285551763 \n",
      "}\n",
      "Finished testing!\n"
     ]
    },
    {
     "name": "stderr",
     "output_type": "stream",
     "text": [
      "Iteration:  19%|█▉        | 194/1004 [00:09<00:39, 20.28it/s]\n",
      "Iteration:  92%|█████████▏| 921/1004 [01:20<00:07, 11.67it/s]"
     ]
    },
    {
     "name": "stdout",
     "output_type": "stream",
     "text": [
      "{'Train':  best_epoch_indx:99\n",
      " auc:0.9544438023924655 \n",
      " apur:0.5654342942354222 \n",
      " f1:0.3730392035769867 \n",
      " precision:0.2318130881291927 \n",
      " recall:0.954611543081105 \n",
      ", 'Validation':  best_epoch_indx:99\n",
      " auc:0.8988693942569921 \n",
      " apur:0.39509892091274174 \n",
      " f1:0.3184320634221537 \n",
      " precision:0.19743309666848716 \n",
      " recall:0.8225255972696246 \n",
      "}\n",
      "Finished training and validating!\n"
     ]
    },
    {
     "name": "stderr",
     "output_type": "stream",
     "text": [
      "Iteration:  24%|██▎       | 66/279 [00:05<00:16, 12.85it/s]s]\n",
      "Iteration:   1%|          | 2/279 [00:00<00:22, 12.34it/s]]s]"
     ]
    },
    {
     "name": "stdout",
     "output_type": "stream",
     "text": [
      "{'Train':  best_epoch_indx:99\n",
      " auc:0.9643382983789168 \n",
      " apur:0.6148128018539458 \n",
      " f1:0.41289433880726023 \n",
      " precision:0.2625369238167205 \n",
      " recall:0.9663084702907712 \n",
      ", 'Validation':  best_epoch_indx:99\n",
      " auc:0.9003615230082022 \n",
      " apur:0.41978670974703125 \n",
      " f1:0.33923123856009757 \n",
      " precision:0.2159391020661799 \n",
      " recall:0.7906712172923777 \n",
      "}\n",
      "Finished training and validating!\n"
     ]
    },
    {
     "name": "stderr",
     "output_type": "stream",
     "text": [
      "Iteration: 100%|██████████| 1004/1004 [01:26<00:00, 11.56it/s]\n",
      "Iteration:   8%|▊         | 22/279 [00:01<00:20, 12.72it/s]s]"
     ]
    },
    {
     "name": "stdout",
     "output_type": "stream",
     "text": [
      "Evaluating...\n"
     ]
    },
    {
     "name": "stderr",
     "output_type": "stream",
     "text": [
      "Iteration:  77%|███████▋  | 214/279 [00:19<00:05, 11.52it/s]]\n",
      "Iteration:  68%|██████▊   | 678/1004 [00:34<01:06,  4.93it/s]"
     ]
    },
    {
     "name": "stdout",
     "output_type": "stream",
     "text": [
      "{'Test':  best_epoch_indx:99\n",
      " auc:0.8990638349397098 \n",
      " apur:0.39745728428010746 \n",
      " f1:0.30746268656716413 \n",
      " precision:0.18798479087452472 \n",
      " recall:0.8436860068259385 \n",
      "}\n",
      "Finished testing!\n"
     ]
    },
    {
     "name": "stderr",
     "output_type": "stream",
     "text": [
      "Iteration:  80%|███████▉  | 802/1004 [00:40<00:09, 20.90it/s]\n",
      "Iteration:  80%|████████  | 805/1004 [00:40<00:09, 20.98it/s]"
     ]
    },
    {
     "name": "stdout",
     "output_type": "stream",
     "text": [
      "{'Test':  best_epoch_indx:99\n",
      " auc:0.9048606608788505 \n",
      " apur:0.4257631559643753 \n",
      " f1:0.34485121378230227 \n",
      " precision:0.2196657937398678 \n",
      " recall:0.8017751479289941 \n",
      "}\n",
      "Finished testing!\n"
     ]
    },
    {
     "name": "stderr",
     "output_type": "stream",
     "text": [
      "Iteration:  75%|███████▌  | 756/1004 [00:36<00:11, 20.89it/s]]\n",
      "Iteration:  86%|████████▌ | 859/1004 [00:41<00:07, 20.25it/s]\n",
      "Iteration:   0%|          | 1/1004 [00:00<01:49,  9.14it/s]s]"
     ]
    },
    {
     "name": "stdout",
     "output_type": "stream",
     "text": [
      "{'Train':  best_epoch_indx:98\n",
      " auc:0.955525883435162 \n",
      " apur:0.5733124274266812 \n",
      " f1:0.3766123810946761 \n",
      " precision:0.2344951624906971 \n",
      " recall:0.9560050568900127 \n",
      ", 'Validation':  best_epoch_indx:98\n",
      " auc:0.8969010167844699 \n",
      " apur:0.4028817285705942 \n",
      " f1:0.3199458483754513 \n",
      " precision:0.1995496763298621 \n",
      " recall:0.8065984072810012 \n",
      "}\n",
      "=====Epoch 99\n",
      "Training...\n"
     ]
    },
    {
     "name": "stderr",
     "output_type": "stream",
     "text": [
      "Iteration:  12%|█▏        | 117/1004 [00:09<01:07, 13.05it/s]]\n",
      "Iteration:  18%|█▊        | 183/1004 [00:14<01:06, 12.35it/s]"
     ]
    },
    {
     "name": "stdout",
     "output_type": "stream",
     "text": [
      "{'Train':  best_epoch_indx:99\n",
      " auc:0.9591960638375308 \n",
      " apur:0.5914081639394612 \n",
      " f1:0.38322211630123926 \n",
      " precision:0.23904606910365547 \n",
      " recall:0.9656131479140329 \n",
      ", 'Validation':  best_epoch_indx:99\n",
      " auc:0.8992709548899022 \n",
      " apur:0.40785367863618394 \n",
      " f1:0.3248581157775256 \n",
      " precision:0.20292115711854794 \n",
      " recall:0.8139931740614335 \n",
      "}\n",
      "Finished training and validating!\n"
     ]
    },
    {
     "name": "stderr",
     "output_type": "stream",
     "text": [
      "\n",
      "Iteration:  48%|████▊     | 481/1004 [00:37<00:40, 12.85it/s]\n",
      "Iteration:  48%|████▊     | 483/1004 [00:37<00:40, 12.80it/s]"
     ]
    },
    {
     "name": "stdout",
     "output_type": "stream",
     "text": [
      "{'Test':  best_epoch_indx:99\n",
      " auc:0.9002341327869717 \n",
      " apur:0.4087185712926251 \n",
      " f1:0.3071754458730817 \n",
      " precision:0.18781700142016636 \n",
      " recall:0.8427401001365499 \n",
      "}\n",
      "Finished testing!\n"
     ]
    },
    {
     "name": "stderr",
     "output_type": "stream",
     "text": [
      "Iteration:  79%|███████▉  | 791/1004 [01:02<00:17, 12.51it/s]"
     ]
    },
    {
     "name": "stdout",
     "output_type": "stream",
     "text": [
      "<<< joined hyperparam search process\n",
      "released_gpu_num: 2\n"
     ]
    },
    {
     "name": "stderr",
     "output_type": "stream",
     "text": [
      "Iteration: 100%|██████████| 1004/1004 [01:21<00:00, 12.34it/s]\n",
      "Iteration:   0%|          | 0/1004 [00:00<?, ?it/s]"
     ]
    },
    {
     "name": "stdout",
     "output_type": "stream",
     "text": [
      "Evaluating...\n"
     ]
    },
    {
     "name": "stderr",
     "output_type": "stream",
     "text": [
      "Iteration: 100%|██████████| 1004/1004 [00:42<00:00, 23.48it/s]\n",
      "Iteration: 100%|██████████| 112/112 [00:04<00:00, 23.72it/s]\n",
      "Iteration:   1%|          | 2/279 [00:00<00:25, 10.67it/s]"
     ]
    },
    {
     "name": "stdout",
     "output_type": "stream",
     "text": [
      "{'Train':  best_epoch_indx:99\n",
      " auc:0.9603097462569941 \n",
      " apur:0.5980856045177214 \n",
      " f1:0.40716876928907897 \n",
      " precision:0.2590602177208213 \n",
      " recall:0.9506953223767383 \n",
      ", 'Validation':  best_epoch_indx:99\n",
      " auc:0.89743537219253 \n",
      " apur:0.41460281792511444 \n",
      " f1:0.34037297764604174 \n",
      " precision:0.21738444549613503 \n",
      " recall:0.7838452787258248 \n",
      "}\n",
      "Finished training and validating!\n"
     ]
    },
    {
     "name": "stderr",
     "output_type": "stream",
     "text": [
      "Iteration: 100%|██████████| 279/279 [00:21<00:00, 13.15it/s]\n"
     ]
    },
    {
     "name": "stdout",
     "output_type": "stream",
     "text": [
      "{'Test':  best_epoch_indx:99\n",
      " auc:0.8948259677070758 \n",
      " apur:0.389322817002665 \n",
      " f1:0.32913721313062844 \n",
      " precision:0.20904059040590406 \n",
      " recall:0.7735548475193446 \n",
      "}\n",
      "Finished testing!\n",
      "<<< joined hyperparam search process\n",
      "released_gpu_num: 3\n",
      "<<< joined hyperparam search process\n",
      "released_gpu_num: 4\n",
      "<<< joined hyperparam search process\n",
      "released_gpu_num: 0\n",
      "<<< joined hyperparam search process\n",
      "released_gpu_num: 1\n"
     ]
    }
   ],
   "source": [
    "import torch.multiprocessing as mp\n",
    "mp.set_start_method(\"spawn\", force=True)\n",
    "\n",
    "queue = mp.Queue()\n",
    "q_processes = []\n",
    "\n",
    "# partition = fold_partitions[0]\n",
    "time_stamp = datetime.datetime.now().strftime('%Y-%m-%d_%H-%M-%S')\n",
    "\n",
    "print(\"Start: \" + time_stamp)\n",
    "\n",
    "for q_i in range(min(n_gpu, len(fold_partitions))):\n",
    "#     device_gpu = get_device(True, index=q_i)\n",
    "    partition = fold_partitions[q_i]\n",
    "    exp_dir = create_directory(os.path.join(targetdata_dir_exp, \"fold_\"+str(q_i)+\"_\"+time_stamp))\n",
    "    create_directory(os.path.join(exp_dir, \"predictions\"))\n",
    "    create_directory(os.path.join(exp_dir, \"modelstates\"))\n",
    "\n",
    "\n",
    "#     tphp = generate_tp_hp(tp, hyperparam_space[q_i], hp_names)\n",
    "    \n",
    "    q_process = create_q_process(queue, dataset, q_i, tp, exp_dir, partition)\n",
    "    q_processes.append(q_process)\n",
    "    spawn_q_process(q_process)\n",
    "\n",
    "spawned_processes = n_gpu\n",
    "    \n",
    "# for q_i in range(len(hyperparam_space)):\n",
    "for q_i in range(min(n_gpu, len(fold_partitions))):\n",
    "    join_q_process(q_processes[q_i])\n",
    "    released_gpu_num = queue.get()\n",
    "    print(\"released_gpu_num:\", released_gpu_num)\n",
    "#     if(spawned_processes < len(hyperparam_space)):\n",
    "# #         device_gpu = get_device(True, index=q_i)\n",
    "#         time_stamp = datetime.datetime.now().strftime('%Y-%m-%d_%H-%M-%S')\n",
    "#         exp_dir = create_directory(os.path.join(targetdata_dir_exp, \"exp_\"+str(q_i)+\"_\"+time_stamp))\n",
    "#         tphp = generate_tp_hp(tp, hyperparam_space[q_i], hp_names)\n",
    "\n",
    "#         q_process = create_q_process(queue, used_dataset, released_gpu_num, tphp, exp_dir, partition)\n",
    "#         q_processes.append(q_process)\n",
    "#         spawn_q_process(q_process)\n",
    "#         spawned_processes = spawned_processes + 1"
   ]
  },
  {
   "cell_type": "code",
   "execution_count": 34,
   "metadata": {},
   "outputs": [
    {
     "name": "stdout",
     "output_type": "stream",
     "text": [
      "End: 2022-09-13_20-31-54\n"
     ]
    }
   ],
   "source": [
    "print(\"End: \" + datetime.datetime.now().strftime('%Y-%m-%d_%H-%M-%S'))\n"
   ]
  },
  {
   "cell_type": "code",
   "execution_count": null,
   "metadata": {},
   "outputs": [],
   "source": []
  }
 ],
 "metadata": {
  "kernelspec": {
   "display_name": "Python 3 (ipykernel)",
   "language": "python",
   "name": "python3"
  },
  "language_info": {
   "codemirror_mode": {
    "name": "ipython",
    "version": 3
   },
   "file_extension": ".py",
   "mimetype": "text/x-python",
   "name": "python",
   "nbconvert_exporter": "python",
   "pygments_lexer": "ipython3",
   "version": "3.8.10"
  }
 },
 "nbformat": 4,
 "nbformat_minor": 4
}
