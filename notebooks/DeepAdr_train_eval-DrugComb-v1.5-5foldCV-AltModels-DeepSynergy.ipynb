{
 "cells": [
  {
   "cell_type": "code",
   "execution_count": 1,
   "metadata": {
    "scrolled": false
   },
   "outputs": [],
   "source": [
    "%load_ext autoreload\n",
    "%autoreload 2"
   ]
  },
  {
   "cell_type": "code",
   "execution_count": 2,
   "metadata": {},
   "outputs": [],
   "source": [
    "import os\n",
    "import sys\n",
    "import numpy as np\n",
    "import pandas as pd\n",
    "import datetime\n",
    "import seaborn as sns\n",
    "import ogb\n",
    "from tqdm import tqdm\n",
    "import hiplot as hip\n",
    "from copy import deepcopy\n",
    "import datetime"
   ]
  },
  {
   "cell_type": "code",
   "execution_count": 3,
   "metadata": {},
   "outputs": [],
   "source": [
    "import torch\n",
    "from torch_geometric.data import Data\n",
    "from torch_geometric.loader import DataLoader\n",
    "from torch.utils.data import Subset, TensorDataset"
   ]
  },
  {
   "cell_type": "code",
   "execution_count": 4,
   "metadata": {},
   "outputs": [
    {
     "name": "stdout",
     "output_type": "stream",
     "text": [
      "/cluster/home/skyriakos/chemprop_run/git/notebooks\n"
     ]
    }
   ],
   "source": [
    "cwd = os.getcwd()\n",
    "print(cwd)"
   ]
  },
  {
   "cell_type": "code",
   "execution_count": 5,
   "metadata": {},
   "outputs": [],
   "source": [
    "os.chdir('..')\n",
    "import deepadr\n",
    "from deepadr.dataset import *\n",
    "from deepadr.utilities import *\n",
    "from deepadr.run_workflow import *\n",
    "from deepadr.chemfeatures import *\n",
    "from deepadr.hyphelperflat import *\n",
    "# from deepadr.model_gnn import GCN as testGCN\n",
    "from deepadr.model_gnn_ogb import GNN, DeepAdr_SiameseTrf, ExpressionNN\n",
    "# from deepadr.model_attn_siamese import *\n",
    "from ogb.graphproppred import Evaluator\n",
    "os.chdir(cwd)"
   ]
  },
  {
   "cell_type": "code",
   "execution_count": 6,
   "metadata": {},
   "outputs": [],
   "source": [
    "from rdkit.Chem.Draw import IPythonConsole\n",
    "from rdkit.Chem import Draw"
   ]
  },
  {
   "cell_type": "code",
   "execution_count": 7,
   "metadata": {},
   "outputs": [],
   "source": [
    "# from tdc.single_pred import Tox\n",
    "# from tdc.multi_pred import DDI"
   ]
  },
  {
   "cell_type": "code",
   "execution_count": 8,
   "metadata": {},
   "outputs": [],
   "source": [
    "rawdata_dir = '../data/raw/'\n",
    "processed_dir = '../data/processed/'\n",
    "up_dir = '..'"
   ]
  },
  {
   "cell_type": "code",
   "execution_count": 9,
   "metadata": {
    "scrolled": true
   },
   "outputs": [
    {
     "name": "stdout",
     "output_type": "stream",
     "text": [
      "number of GPUs available: 1\n",
      "cuda:0, name:GeForce GTX 1080 Ti\n",
      "total memory available: 10.91650390625 GB\n",
      "total memory allocated on device: 0.0 GB\n",
      "max memory allocated on device: 0.0 GB\n",
      "total memory cached on device: 0.0 GB\n",
      "max memory cached  on device: 0.0 GB\n",
      "\n"
     ]
    }
   ],
   "source": [
    "report_available_cuda_devices()"
   ]
  },
  {
   "cell_type": "code",
   "execution_count": 10,
   "metadata": {},
   "outputs": [
    {
     "data": {
      "text/plain": [
       "1"
      ]
     },
     "execution_count": 10,
     "metadata": {},
     "output_type": "execute_result"
    }
   ],
   "source": [
    "n_gpu = torch.cuda.device_count()\n",
    "n_gpu"
   ]
  },
  {
   "cell_type": "code",
   "execution_count": 11,
   "metadata": {},
   "outputs": [],
   "source": [
    "device_cpu = get_device(to_gpu=False)\n",
    "# device_gpu = get_device(True, index=0)\n",
    "\n",
    "# fdtype = torch.float32"
   ]
  },
  {
   "cell_type": "code",
   "execution_count": 12,
   "metadata": {},
   "outputs": [
    {
     "name": "stdout",
     "output_type": "stream",
     "text": [
      "torch: 1.9.1\n",
      "CUDA: 11.1\n",
      "3.9.9 | packaged by conda-forge | (main, Dec 20 2021, 02:41:03) \n",
      "[GCC 9.4.0]\n"
     ]
    }
   ],
   "source": [
    "print(\"torch:\", torch.__version__)\n",
    "print(\"CUDA:\", torch.version.cuda)\n",
    "print(sys.version)"
   ]
  },
  {
   "cell_type": "code",
   "execution_count": 13,
   "metadata": {},
   "outputs": [],
   "source": [
    "# print(torch.cuda.memory_summary(device=device_gpu))"
   ]
  },
  {
   "cell_type": "markdown",
   "metadata": {},
   "source": [
    "### Preparing dataset "
   ]
  },
  {
   "cell_type": "code",
   "execution_count": 14,
   "metadata": {},
   "outputs": [],
   "source": [
    "score = 'total_thresh' #'total_thresh'\n",
    "score_val = 4"
   ]
  },
  {
   "cell_type": "code",
   "execution_count": 15,
   "metadata": {},
   "outputs": [],
   "source": [
    "# v_1: GNN\n",
    "# v_2: Alt Models"
   ]
  },
  {
   "cell_type": "code",
   "execution_count": 16,
   "metadata": {},
   "outputs": [],
   "source": [
    "# TDC Tox\n",
    "# DSdataset_name = 'SynergxZloewe' #'OncoPolyPharmacology' #'DrugComb'\n",
    "DSdataset_name = f'DrugComb_{score}_{score_val}' #'DrugComb'\n",
    "\n",
    "\n",
    "#fname_suffix = ds_config[\"fname_suffix\"]\n",
    "# similarity_types = ['chem']\n",
    "# kernel_option = 'sqeuclidean'\n",
    "data_fname = 'data_v2'\n",
    "# interact_matfname = ds_config[\"interact_matfname\"]\n",
    "# exp_iden = 'simtypeall'\n",
    "# ddi_interaction_labels_pth = ds_config[\"ddi_interaction_labels_pth\"]\n",
    "\n",
    "# up_dir, processed_dir, DSdataset_name, data_fname"
   ]
  },
  {
   "cell_type": "code",
   "execution_count": 17,
   "metadata": {
    "scrolled": true
   },
   "outputs": [
    {
     "name": "stdout",
     "output_type": "stream",
     "text": [
      "path_current_dir /cluster/home/skyriakos/chemprop_run/git/deepadr\n",
      "path_current_dir /cluster/home/skyriakos/chemprop_run/git/deepadr\n",
      "path_current_dir /cluster/home/skyriakos/chemprop_run/git/deepadr\n",
      "path_current_dir /cluster/home/skyriakos/chemprop_run/git/deepadr\n",
      "/cluster/home/skyriakos/chemprop_run/git/data/processed/DrugComb_total_thresh_4/data_v2\n"
     ]
    }
   ],
   "source": [
    "targetdata_dir = create_directory(os.path.join(processed_dir, DSdataset_name, data_fname))\n",
    "targetdata_dir_raw = create_directory(os.path.join(targetdata_dir, \"raw\"))\n",
    "targetdata_dir_processed = create_directory(os.path.join(targetdata_dir, \"processed\"))\n",
    "targetdata_dir_exp = create_directory(os.path.join(targetdata_dir, \"experiments\"))\n",
    "# # ReaderWriter.dump_data(dpartitions, os.path.join(targetdata_dir, 'data_partitions.pkl'))\n",
    "print(targetdata_dir)"
   ]
  },
  {
   "cell_type": "code",
   "execution_count": 18,
   "metadata": {},
   "outputs": [],
   "source": [
    "xFlat = ReaderWriter.read_data(os.path.join(targetdata_dir_raw, 'X_flat.pkl'))\n",
    "y = ReaderWriter.read_data(os.path.join(targetdata_dir_raw, 'y.pkl'))\n",
    "expression = ReaderWriter.read_data(os.path.join(targetdata_dir_raw, 'expression.pkl'))"
   ]
  },
  {
   "cell_type": "code",
   "execution_count": 19,
   "metadata": {},
   "outputs": [
    {
     "data": {
      "text/plain": [
       "torch.Size([25757, 18])"
      ]
     },
     "execution_count": 19,
     "metadata": {},
     "output_type": "execute_result"
    }
   ],
   "source": [
    "xFlatMat = torch.stack([torch.cat(i) for i in list(xFlat.values())])\n",
    "xFlatMat.shape"
   ]
  },
  {
   "cell_type": "code",
   "execution_count": 20,
   "metadata": {},
   "outputs": [
    {
     "data": {
      "text/plain": [
       "tensor([[ 0.1661,  0.2518,  1.3373,  ..., -0.4085,  0.8581,  0.8979],\n",
       "        [ 0.1661,  0.2518,  1.3373,  ..., -0.4085,  0.8581,  0.8979],\n",
       "        [ 0.1661,  0.2518,  1.3373,  ..., -0.4085,  0.8581,  0.8979],\n",
       "        ...,\n",
       "        [-0.0373, -1.4322,  1.5411,  ..., -1.2711,  1.2013,  0.9537],\n",
       "        [-0.0373, -1.4322,  1.5411,  ..., -1.2711,  1.2013,  0.9537],\n",
       "        [-0.0373, -1.4322,  1.5411,  ..., -1.2711,  1.2013,  0.9537]],\n",
       "       dtype=torch.float64)"
      ]
     },
     "execution_count": 20,
     "metadata": {},
     "output_type": "execute_result"
    }
   ],
   "source": [
    "torch.tensor(expression)"
   ]
  },
  {
   "cell_type": "code",
   "execution_count": 21,
   "metadata": {
    "scrolled": false
   },
   "outputs": [
    {
     "data": {
      "text/plain": [
       "torch.Size([25757, 926])"
      ]
     },
     "execution_count": 21,
     "metadata": {},
     "output_type": "execute_result"
    }
   ],
   "source": [
    "x = torch.cat([xFlatMat, torch.tensor(expression)], dim=1)\n",
    "x.shape"
   ]
  },
  {
   "cell_type": "code",
   "execution_count": null,
   "metadata": {},
   "outputs": [],
   "source": []
  },
  {
   "cell_type": "code",
   "execution_count": 22,
   "metadata": {},
   "outputs": [],
   "source": [
    "# %%time\n",
    "\n",
    "# # Make sure to first run the \"data_generation\" notebook first\n",
    "\n",
    "# dataset = MoleculeDataset(root=targetdata_dir)"
   ]
  },
  {
   "cell_type": "code",
   "execution_count": 23,
   "metadata": {},
   "outputs": [],
   "source": [
    "# print()\n",
    "# print(f'Dataset: {dataset}:')\n",
    "# print('====================')\n",
    "# print(f'Number of graphs: {len(dataset)}')\n",
    "# print(f'Number of features: {dataset.num_features}')\n",
    "# print(f'Number of classes: {dataset.num_classes}')\n",
    "\n",
    "# # data0 = dataset[0]  # Get the first graph object.\n",
    "\n",
    "# # print()\n",
    "# # print(data)\n",
    "# # print('=============================================================')\n",
    "\n",
    "# # # Gather some statistics about the first graph.\n",
    "# # print(f'Number of nodes: {data.num_nodes}')\n",
    "# # print(f'Number of edges: {data.num_edges}')\n",
    "# # print(f'Average node degree: {data.num_edges / data.num_nodes:.2f}')\n",
    "# # print(f'Contains isolated nodes: {data.contains_isolated_nodes()}')\n",
    "# # print(f'Contains self-loops: {data.contains_self_loops()}')\n",
    "# # print(f'Is undirected: {data.is_undirected()}')"
   ]
  },
  {
   "cell_type": "code",
   "execution_count": 24,
   "metadata": {
    "scrolled": true
   },
   "outputs": [],
   "source": [
    "# data0"
   ]
  },
  {
   "cell_type": "code",
   "execution_count": 25,
   "metadata": {},
   "outputs": [],
   "source": [
    "# data0.expression.shape"
   ]
  },
  {
   "cell_type": "code",
   "execution_count": 26,
   "metadata": {},
   "outputs": [],
   "source": [
    "# data0.y"
   ]
  },
  {
   "cell_type": "code",
   "execution_count": 27,
   "metadata": {},
   "outputs": [],
   "source": [
    "# dataset.tensors[1]"
   ]
  },
  {
   "cell_type": "code",
   "execution_count": 28,
   "metadata": {},
   "outputs": [],
   "source": [
    "# used_dataset = dataset\n",
    "\n",
    "# If you want to use a smaller subset of the dataset for testing\n",
    "# smaller_dataset_len = int(len(dataset)/1)\n",
    "# used_dataset = dataset[:smaller_dataset_len]"
   ]
  },
  {
   "cell_type": "code",
   "execution_count": 29,
   "metadata": {},
   "outputs": [],
   "source": [
    "# type(used_dataset)"
   ]
  },
  {
   "cell_type": "code",
   "execution_count": 30,
   "metadata": {
    "scrolled": false
   },
   "outputs": [],
   "source": [
    "# dataset.data.y"
   ]
  },
  {
   "cell_type": "code",
   "execution_count": 31,
   "metadata": {},
   "outputs": [
    {
     "data": {
      "text/plain": [
       "array([0, 0, 0, ..., 0, 1, 1])"
      ]
     },
     "execution_count": 31,
     "metadata": {},
     "output_type": "execute_result"
    }
   ],
   "source": [
    "y"
   ]
  },
  {
   "cell_type": "code",
   "execution_count": 32,
   "metadata": {},
   "outputs": [
    {
     "data": {
      "text/plain": [
       "torch.Size([25757, 926])"
      ]
     },
     "execution_count": 32,
     "metadata": {},
     "output_type": "execute_result"
    }
   ],
   "source": [
    "x.shape"
   ]
  },
  {
   "cell_type": "code",
   "execution_count": 33,
   "metadata": {},
   "outputs": [
    {
     "data": {
      "text/plain": [
       "(25757,)"
      ]
     },
     "execution_count": 33,
     "metadata": {},
     "output_type": "execute_result"
    }
   ],
   "source": [
    "y.shape"
   ]
  },
  {
   "cell_type": "code",
   "execution_count": 34,
   "metadata": {
    "scrolled": true
   },
   "outputs": [],
   "source": [
    "# fold_partitions = get_stratified_partitions(dataset.data.y,\n",
    "#                                             num_folds=5,\n",
    "#                                             valid_set_portion=0.1,\n",
    "#                                             random_state=42)"
   ]
  },
  {
   "cell_type": "code",
   "execution_count": 35,
   "metadata": {},
   "outputs": [
    {
     "name": "stdout",
     "output_type": "stream",
     "text": [
      "fold_num: 0\n",
      "train data\n",
      "class: 0 norm count: 0.5764128559102675\n",
      "class: 1 norm count: 0.4235871440897325\n",
      "validation data\n",
      "class: 0 norm count: 0.5764192139737991\n",
      "class: 1 norm count: 0.42358078602620086\n",
      "test data\n",
      "class: 0 norm count: 0.5764751552795031\n",
      "class: 1 norm count: 0.4235248447204969\n",
      "\n",
      "-------------------------\n",
      "fold_num: 1\n",
      "train data\n",
      "class: 0 norm count: 0.5764128559102675\n",
      "class: 1 norm count: 0.4235871440897325\n",
      "validation data\n",
      "class: 0 norm count: 0.5764192139737991\n",
      "class: 1 norm count: 0.42358078602620086\n",
      "test data\n",
      "class: 0 norm count: 0.5764751552795031\n",
      "class: 1 norm count: 0.4235248447204969\n",
      "\n",
      "-------------------------\n",
      "fold_num: 2\n",
      "train data\n",
      "class: 0 norm count: 0.5764356969533567\n",
      "class: 1 norm count: 0.4235643030466433\n",
      "validation data\n",
      "class: 0 norm count: 0.5764192139737991\n",
      "class: 1 norm count: 0.42358078602620086\n",
      "test data\n",
      "class: 0 norm count: 0.5763929334109882\n",
      "class: 1 norm count: 0.4236070665890118\n",
      "\n",
      "-------------------------\n",
      "fold_num: 3\n",
      "train data\n",
      "class: 0 norm count: 0.5764356969533567\n",
      "class: 1 norm count: 0.4235643030466433\n",
      "validation data\n",
      "class: 0 norm count: 0.5764192139737991\n",
      "class: 1 norm count: 0.42358078602620086\n",
      "test data\n",
      "class: 0 norm count: 0.5763929334109882\n",
      "class: 1 norm count: 0.4236070665890118\n",
      "\n",
      "-------------------------\n",
      "fold_num: 4\n",
      "train data\n",
      "class: 0 norm count: 0.5764356969533567\n",
      "class: 1 norm count: 0.4235643030466433\n",
      "validation data\n",
      "class: 0 norm count: 0.5764192139737991\n",
      "class: 1 norm count: 0.42358078602620086\n",
      "test data\n",
      "class: 0 norm count: 0.5763929334109882\n",
      "class: 1 norm count: 0.4236070665890118\n",
      "\n",
      "-------------------------\n"
     ]
    }
   ],
   "source": [
    "fold_partitions = get_stratified_partitions(y,\n",
    "                                            num_folds=5,\n",
    "                                            valid_set_portion=0.1,\n",
    "                                            random_state=42)"
   ]
  },
  {
   "cell_type": "code",
   "execution_count": 36,
   "metadata": {},
   "outputs": [],
   "source": [
    "# train_val_test_frac = [0.7, 0.1, 0.2]\n",
    "# assert sum(train_val_test_frac) == 1\n",
    "\n",
    "# torch.manual_seed(42)\n",
    "# used_dataset = used_dataset.shuffle()\n",
    "\n",
    "# num_train = round(train_val_test_frac[0] * len(used_dataset)) \n",
    "# num_trainval = round((train_val_test_frac[0]+train_val_test_frac[1]) * len(used_dataset))\n",
    "\n",
    "# train_dataset = used_dataset[:num_train]\n",
    "# val_dataset = used_dataset[num_train:num_trainval]\n",
    "# test_dataset = used_dataset[num_trainval:]"
   ]
  },
  {
   "cell_type": "code",
   "execution_count": 37,
   "metadata": {},
   "outputs": [],
   "source": [
    "# train_dataset = Subset(used_dataset, fold_partitions[0]['train'])\n",
    "# val_dataset = Subset(used_dataset, fold_partitions[0]['validation'])\n",
    "# test_dataset = Subset(used_dataset, fold_partitions[0]['test'])"
   ]
  },
  {
   "cell_type": "code",
   "execution_count": 38,
   "metadata": {},
   "outputs": [],
   "source": [
    "# print(f'Number of training graphs: {len(train_dataset)}')\n",
    "# print(f'Number of val graphs: {len(val_dataset)}')\n",
    "# print(f'Number of test graphs: {len(test_dataset)}')"
   ]
  },
  {
   "cell_type": "code",
   "execution_count": 39,
   "metadata": {},
   "outputs": [
    {
     "name": "stdout",
     "output_type": "stream",
     "text": [
      "Number of training graphs: 18544\n",
      "Number of validation graphs: 2061\n",
      "Number of testing graphs: 5152\n"
     ]
    }
   ],
   "source": [
    "print(\"Number of training graphs: \"+ str(len(fold_partitions[0]['train'])))\n",
    "print(\"Number of validation graphs: \"+ str(len(fold_partitions[0]['validation'])))\n",
    "print(\"Number of testing graphs: \"+ str(len(fold_partitions[0]['test'])))\n"
   ]
  },
  {
   "cell_type": "markdown",
   "metadata": {},
   "source": [
    "### Preprocessing"
   ]
  },
  {
   "cell_type": "code",
   "execution_count": 40,
   "metadata": {},
   "outputs": [],
   "source": [
    "# import functools\n",
    "\n",
    "# def compose(*functions):\n",
    "#     return functools.reduce(lambda f, g: lambda x: f(g(x)), functions, lambda x: x)"
   ]
  },
  {
   "cell_type": "code",
   "execution_count": 41,
   "metadata": {},
   "outputs": [],
   "source": [
    "from sklearn.preprocessing import StandardScaler\n",
    "scaler = StandardScaler()"
   ]
  },
  {
   "cell_type": "code",
   "execution_count": 42,
   "metadata": {},
   "outputs": [],
   "source": [
    "x_np = x.numpy()\n",
    "y_np = y"
   ]
  },
  {
   "cell_type": "code",
   "execution_count": 43,
   "metadata": {},
   "outputs": [],
   "source": [
    "pipeline = compose(scaler.fit_transform, np.tanh, scaler.fit_transform)"
   ]
  },
  {
   "cell_type": "code",
   "execution_count": 44,
   "metadata": {},
   "outputs": [],
   "source": [
    "x_np_norm = pipeline(x_np)"
   ]
  },
  {
   "cell_type": "code",
   "execution_count": 45,
   "metadata": {},
   "outputs": [
    {
     "data": {
      "text/plain": [
       "926"
      ]
     },
     "execution_count": 45,
     "metadata": {},
     "output_type": "execute_result"
    }
   ],
   "source": [
    "deepsynergy_input_size = x_np_norm.shape[1]\n",
    "deepsynergy_input_size"
   ]
  },
  {
   "cell_type": "code",
   "execution_count": 46,
   "metadata": {},
   "outputs": [],
   "source": [
    "ids = list(range(len(y)))"
   ]
  },
  {
   "cell_type": "code",
   "execution_count": 47,
   "metadata": {},
   "outputs": [
    {
     "data": {
      "text/plain": [
       "<torch.utils.data.dataset.TensorDataset at 0x2b6fa4b5bc10>"
      ]
     },
     "execution_count": 47,
     "metadata": {},
     "output_type": "execute_result"
    }
   ],
   "source": [
    "dataset = TensorDataset(torch.tensor(x_np_norm),torch.tensor(y), torch.tensor(ids))\n",
    "dataset"
   ]
  },
  {
   "cell_type": "markdown",
   "metadata": {},
   "source": [
    "### Deep Synergy"
   ]
  },
  {
   "cell_type": "code",
   "execution_count": 48,
   "metadata": {},
   "outputs": [],
   "source": [
    "# print(dataset.num_classes)"
   ]
  },
  {
   "cell_type": "code",
   "execution_count": 49,
   "metadata": {},
   "outputs": [],
   "source": [
    "# training params total_thresh 4\n",
    "tp = {\n",
    "    \"batch_size\" : 300,\n",
    "    \"num_epochs\" : 100,\n",
    "    \n",
    "    \"emb_dim\" : 300,\n",
    "    \"gnn_type\" : \"gatv2\",\n",
    "    \"num_layer\" : 5,\n",
    "    \"graph_pooling\" : \"mean\", #attention\n",
    "    \n",
    "    \"input_embed_dim\" : None,\n",
    "    \"gene_embed_dim\": 1,\n",
    "    \"num_attn_heads\" : 2,\n",
    "    \"num_transformer_units\" : 1,\n",
    "    \"p_dropout\" : 0.3,\n",
    "#     \"nonlin_func\" : nn.ReLU(),\n",
    "    \"mlp_embed_factor\" : 2,\n",
    "    \"pooling_mode\" : 'attn',\n",
    "    \"dist_opt\" : 'cosine',\n",
    "\n",
    "    \"base_lr\" : 3e-5, #3e-4\n",
    "    \"max_lr_mul\": 5,\n",
    "    \"l2_reg\" : 1e-5,\n",
    "    \"loss_w\" : 1.,\n",
    "    \"margin_v\" : 1.,\n",
    "\n",
    "    \"expression_dim\" : 64,\n",
    "    \"expression_input_size\" : 908,\n",
    "    \"exp_H1\" : 500,\n",
    "    \"exp_H2\" : 400\n",
    "}"
   ]
  },
  {
   "cell_type": "code",
   "execution_count": 50,
   "metadata": {},
   "outputs": [
    {
     "data": {
      "text/plain": [
       "926"
      ]
     },
     "execution_count": 50,
     "metadata": {},
     "output_type": "execute_result"
    }
   ],
   "source": [
    "tp['deepsynergy_input_size'] = deepsynergy_input_size\n",
    "tp['deepsynergy_input_size']"
   ]
  },
  {
   "cell_type": "code",
   "execution_count": 51,
   "metadata": {},
   "outputs": [],
   "source": [
    "# # training params total_thresh 3\n",
    "# tp = {\n",
    "#     \"batch_size\" : 300,\n",
    "#     \"num_epochs\" : 200,\n",
    "    \n",
    "#     \"emb_dim\" : 300,\n",
    "#     \"gnn_type\" : \"gatv2\",\n",
    "#     \"num_layer\" : 5,\n",
    "#     \"graph_pooling\" : \"mean\", #attention\n",
    "    \n",
    "#     \"input_embed_dim\" : None,\n",
    "#     \"gene_embed_dim\": 1,\n",
    "#     \"num_attn_heads\" : 2,\n",
    "#     \"num_transformer_units\" : 1,\n",
    "#     \"p_dropout\" : 0.3,\n",
    "# #     \"nonlin_func\" : nn.ReLU(),\n",
    "#     \"mlp_embed_factor\" : 2,\n",
    "#     \"pooling_mode\" : 'attn',\n",
    "#     \"dist_opt\" : 'cosine',\n",
    "\n",
    "#     \"base_lr\" : 3e-5, #3e-4\n",
    "#     \"max_lr_mul\": 10,\n",
    "#     \"l2_reg\" : 1e-8,\n",
    "#     \"loss_w\" : 0.3,\n",
    "#     \"margin_v\" : 1.,\n",
    "\n",
    "#     \"expression_dim\" : 64,\n",
    "#     \"expression_input_size\" : 908,\n",
    "#     \"exp_H1\" : 500,\n",
    "#     \"exp_H2\" : 400\n",
    "# }"
   ]
  },
  {
   "cell_type": "code",
   "execution_count": 52,
   "metadata": {},
   "outputs": [],
   "source": [
    "# targetdata_dir_exp = create_directory(os.path.join(targetdata_dir, \"experiments\"))\n",
    "# targetdata_dir_exp"
   ]
  },
  {
   "cell_type": "code",
   "execution_count": 53,
   "metadata": {},
   "outputs": [],
   "source": [
    "# device_gpu = get_device(True, index=0)\n",
    "# exp_dir = create_directory(os.path.join(targetdata_dir_exp, \"exp0\"))\n",
    "# tphp = generate_tp_hp(tp, hyperparam_space[0], hp_names)\n",
    "# partition = fold_partitions[0]"
   ]
  },
  {
   "cell_type": "code",
   "execution_count": 54,
   "metadata": {},
   "outputs": [],
   "source": [
    "# run_exp(tphp, device_gpu, exp_dir,partition=fold_partitions[0], used_dataset=used_dataset)"
   ]
  },
  {
   "cell_type": "code",
   "execution_count": 55,
   "metadata": {},
   "outputs": [],
   "source": [
    "def spawn_q_process(q_process):\n",
    "    print(\">>> spawning hyperparam search process\")\n",
    "    q_process.start()\n",
    "    \n",
    "def join_q_process(q_process):\n",
    "    q_process.join()\n",
    "    print(\"<<< joined hyperparam search process\")\n",
    "    \n",
    "def create_q_process(queue, used_dataset, gpu_num, tphp, exp_dir, partition): #\n",
    "#     fold_gpu_map = {0:gpu_num}\n",
    "    return mp.Process(target=deepadr.hyphelperflat.run_exp_flat, args=(queue, used_dataset, gpu_num, tphp, exp_dir, partition)) #"
   ]
  },
  {
   "cell_type": "code",
   "execution_count": 56,
   "metadata": {
    "scrolled": false
   },
   "outputs": [
    {
     "name": "stdout",
     "output_type": "stream",
     "text": [
      "Start: 2022-03-24_13-45-20\n",
      "path_current_dir /cluster/home/skyriakos/chemprop_run/git/deepadr\n",
      "path_current_dir /cluster/home/skyriakos/chemprop_run/git/deepadr\n",
      ">>> spawning hyperparam search process\n",
      "gpu: cuda:0\n",
      "DS model:\n",
      " DeepSynergy(\n",
      "  (fc1): Linear(in_features=926, out_features=8192, bias=True)\n",
      "  (fc2): Linear(in_features=8192, out_features=4096, bias=True)\n",
      "  (fc3): Linear(in_features=4096, out_features=2, bias=True)\n",
      "  (drop_in): Dropout(p=0.2, inplace=False)\n",
      "  (drop): Dropout(p=0.5, inplace=False)\n",
      "  (log_softmax): LogSoftmax(dim=-1)\n",
      ")\n",
      "=====Epoch 0\n",
      "Training...\n"
     ]
    },
    {
     "name": "stderr",
     "output_type": "stream",
     "text": [
      "Iteration: 100%|██████████| 62/62 [00:01<00:00, 37.27it/s]\n",
      "Iteration:  19%|█▉        | 12/62 [00:00<00:00, 119.36it/s]"
     ]
    },
    {
     "name": "stdout",
     "output_type": "stream",
     "text": [
      "Evaluating...\n"
     ]
    },
    {
     "name": "stderr",
     "output_type": "stream",
     "text": [
      "Iteration: 100%|██████████| 62/62 [00:00<00:00, 137.74it/s]\n",
      "Iteration: 100%|██████████| 62/62 [00:00<00:00, 144.83it/s]\n",
      "Iteration: 100%|██████████| 62/62 [00:00<00:00, 121.47it/s]\n",
      "Iteration:   0%|          | 0/62 [00:00<?, ?it/s]"
     ]
    },
    {
     "name": "stdout",
     "output_type": "stream",
     "text": [
      "{'Train':  best_epoch_indx:0\n",
      " auc:0.7293280735789168 \n",
      " apur:0.6880282193232747 \n",
      " f1:0.6098853691606064 \n",
      " precision:0.5910882809700155 \n",
      " recall:0.6299172501591344 \n",
      ", 'Validation':  best_epoch_indx:0\n",
      " auc:0.7293280735789168 \n",
      " apur:0.6880282193232747 \n",
      " f1:0.6098853691606064 \n",
      " precision:0.5910882809700155 \n",
      " recall:0.6299172501591344 \n",
      ", 'Test':  best_epoch_indx:0\n",
      " auc:0.7293280735789167 \n",
      " apur:0.6880282193402694 \n",
      " f1:0.6098853691606064 \n",
      " precision:0.5910882809700155 \n",
      " recall:0.6299172501591344 \n",
      "}\n",
      "=====Epoch 1\n",
      "Training...\n"
     ]
    },
    {
     "name": "stderr",
     "output_type": "stream",
     "text": [
      "Iteration: 100%|██████████| 62/62 [00:01<00:00, 46.72it/s]\n",
      "Iteration:   0%|          | 0/62 [00:00<?, ?it/s]"
     ]
    },
    {
     "name": "stdout",
     "output_type": "stream",
     "text": [
      "Evaluating...\n"
     ]
    },
    {
     "name": "stderr",
     "output_type": "stream",
     "text": [
      "Iteration: 100%|██████████| 62/62 [00:00<00:00, 139.25it/s]\n",
      "Iteration: 100%|██████████| 62/62 [00:00<00:00, 143.62it/s]\n",
      "Iteration: 100%|██████████| 62/62 [00:00<00:00, 143.48it/s]\n",
      "Iteration:   0%|          | 0/62 [00:00<?, ?it/s]"
     ]
    },
    {
     "name": "stdout",
     "output_type": "stream",
     "text": [
      "{'Train':  best_epoch_indx:1\n",
      " auc:0.7507984882940332 \n",
      " apur:0.7119118561742985 \n",
      " f1:0.6211563731931669 \n",
      " precision:0.6418194161575017 \n",
      " recall:0.6017823042647995 \n",
      ", 'Validation':  best_epoch_indx:1\n",
      " auc:0.7507984942491014 \n",
      " apur:0.7119118610004693 \n",
      " f1:0.6211563731931669 \n",
      " precision:0.6418194161575017 \n",
      " recall:0.6017823042647995 \n",
      ", 'Test':  best_epoch_indx:1\n",
      " auc:0.7507984882940332 \n",
      " apur:0.7119118561742985 \n",
      " f1:0.6211563731931669 \n",
      " precision:0.6418194161575017 \n",
      " recall:0.6017823042647995 \n",
      "}\n",
      "=====Epoch 2\n",
      "Training...\n"
     ]
    },
    {
     "name": "stderr",
     "output_type": "stream",
     "text": [
      "Iteration: 100%|██████████| 62/62 [00:01<00:00, 44.62it/s]\n",
      "Iteration:   0%|          | 0/62 [00:00<?, ?it/s]"
     ]
    },
    {
     "name": "stdout",
     "output_type": "stream",
     "text": [
      "Evaluating...\n"
     ]
    },
    {
     "name": "stderr",
     "output_type": "stream",
     "text": [
      "Iteration: 100%|██████████| 62/62 [00:00<00:00, 138.47it/s]\n",
      "Iteration: 100%|██████████| 62/62 [00:00<00:00, 145.52it/s]\n",
      "Iteration: 100%|██████████| 62/62 [00:00<00:00, 144.74it/s]\n",
      "Iteration:   0%|          | 0/62 [00:00<?, ?it/s]"
     ]
    },
    {
     "name": "stdout",
     "output_type": "stream",
     "text": [
      "{'Train':  best_epoch_indx:2\n",
      " auc:0.7662782771201695 \n",
      " apur:0.729442361168712 \n",
      " f1:0.6506024096385542 \n",
      " precision:0.6320528211284514 \n",
      " recall:0.6702737110120942 \n",
      ", 'Validation':  best_epoch_indx:2\n",
      " auc:0.7662782652100332 \n",
      " apur:0.7294423569096127 \n",
      " f1:0.6506024096385542 \n",
      " precision:0.6320528211284514 \n",
      " recall:0.6702737110120942 \n",
      ", 'Test':  best_epoch_indx:2\n",
      " auc:0.7662782771201695 \n",
      " apur:0.729442361168712 \n",
      " f1:0.6506024096385542 \n",
      " precision:0.6320528211284514 \n",
      " recall:0.6702737110120942 \n",
      "}\n",
      "=====Epoch 3\n",
      "Training...\n"
     ]
    },
    {
     "name": "stderr",
     "output_type": "stream",
     "text": [
      "Iteration: 100%|██████████| 62/62 [00:01<00:00, 46.69it/s]\n",
      "Iteration:   0%|          | 0/62 [00:00<?, ?it/s]"
     ]
    },
    {
     "name": "stdout",
     "output_type": "stream",
     "text": [
      "Evaluating...\n"
     ]
    },
    {
     "name": "stderr",
     "output_type": "stream",
     "text": [
      "Iteration: 100%|██████████| 62/62 [00:00<00:00, 116.26it/s]\n",
      "Iteration: 100%|██████████| 62/62 [00:00<00:00, 143.36it/s]\n",
      "Iteration: 100%|██████████| 62/62 [00:00<00:00, 144.83it/s]\n",
      "Iteration:   0%|          | 0/62 [00:00<?, ?it/s]"
     ]
    },
    {
     "name": "stdout",
     "output_type": "stream",
     "text": [
      "{'Train':  best_epoch_indx:3\n",
      " auc:0.7728369926929527 \n",
      " apur:0.7358203689999013 \n",
      " f1:0.654111977680553 \n",
      " precision:0.6515917129863568 \n",
      " recall:0.6566518141311267 \n",
      ", 'Validation':  best_epoch_indx:3\n",
      " auc:0.7728369986480208 \n",
      " apur:0.7358203793414455 \n",
      " f1:0.654111977680553 \n",
      " precision:0.6515917129863568 \n",
      " recall:0.6566518141311267 \n",
      ", 'Test':  best_epoch_indx:3\n",
      " auc:0.7728369986480208 \n",
      " apur:0.7358203793414455 \n",
      " f1:0.654111977680553 \n",
      " precision:0.6515917129863568 \n",
      " recall:0.6566518141311267 \n",
      "}\n",
      "=====Epoch 4\n",
      "Training...\n"
     ]
    },
    {
     "name": "stderr",
     "output_type": "stream",
     "text": [
      "Iteration: 100%|██████████| 62/62 [00:01<00:00, 46.69it/s]\n",
      "Iteration:   0%|          | 0/62 [00:00<?, ?it/s]"
     ]
    },
    {
     "name": "stdout",
     "output_type": "stream",
     "text": [
      "Evaluating...\n"
     ]
    },
    {
     "name": "stderr",
     "output_type": "stream",
     "text": [
      "Iteration: 100%|██████████| 62/62 [00:00<00:00, 139.30it/s]\n",
      "Iteration: 100%|██████████| 62/62 [00:00<00:00, 125.66it/s]\n",
      "Iteration: 100%|██████████| 62/62 [00:00<00:00, 143.78it/s]\n",
      "Iteration:   0%|          | 0/62 [00:00<?, ?it/s]"
     ]
    },
    {
     "name": "stdout",
     "output_type": "stream",
     "text": [
      "{'Train':  best_epoch_indx:4\n",
      " auc:0.7703081670365657 \n",
      " apur:0.7361243581150442 \n",
      " f1:0.6524340323697966 \n",
      " precision:0.6455633100697906 \n",
      " recall:0.6594525779758116 \n",
      ", 'Validation':  best_epoch_indx:4\n",
      " auc:0.7703081670365657 \n",
      " apur:0.7361243581150442 \n",
      " f1:0.6524340323697966 \n",
      " precision:0.6455633100697906 \n",
      " recall:0.6594525779758116 \n",
      ", 'Test':  best_epoch_indx:4\n",
      " auc:0.7703081670365657 \n",
      " apur:0.7361243581150442 \n",
      " f1:0.6524340323697966 \n",
      " precision:0.6455633100697906 \n",
      " recall:0.6594525779758116 \n",
      "}\n",
      "=====Epoch 5\n",
      "Training...\n"
     ]
    },
    {
     "name": "stderr",
     "output_type": "stream",
     "text": [
      "Iteration: 100%|██████████| 62/62 [00:01<00:00, 46.71it/s]\n",
      "Iteration:   0%|          | 0/62 [00:00<?, ?it/s]"
     ]
    },
    {
     "name": "stdout",
     "output_type": "stream",
     "text": [
      "Evaluating...\n"
     ]
    },
    {
     "name": "stderr",
     "output_type": "stream",
     "text": [
      "Iteration: 100%|██████████| 62/62 [00:00<00:00, 138.85it/s]\n",
      "Iteration: 100%|██████████| 62/62 [00:00<00:00, 144.21it/s]\n",
      "Iteration: 100%|██████████| 62/62 [00:00<00:00, 125.16it/s]\n",
      "Iteration:   0%|          | 0/62 [00:00<?, ?it/s]"
     ]
    },
    {
     "name": "stdout",
     "output_type": "stream",
     "text": [
      "{'Train':  best_epoch_indx:5\n",
      " auc:0.7760714046022791 \n",
      " apur:0.7400802943340186 \n",
      " f1:0.6373876894193374 \n",
      " precision:0.6733248335458281 \n",
      " recall:0.6050922978994271 \n",
      ", 'Validation':  best_epoch_indx:5\n",
      " auc:0.7760714046022792 \n",
      " apur:0.7400802943340186 \n",
      " f1:0.6373876894193374 \n",
      " precision:0.6733248335458281 \n",
      " recall:0.6050922978994271 \n",
      ", 'Test':  best_epoch_indx:5\n",
      " auc:0.7760714046022792 \n",
      " apur:0.7400802943340186 \n",
      " f1:0.6373876894193374 \n",
      " precision:0.6733248335458281 \n",
      " recall:0.6050922978994271 \n",
      "}\n",
      "=====Epoch 6\n",
      "Training...\n"
     ]
    },
    {
     "name": "stderr",
     "output_type": "stream",
     "text": [
      "Iteration: 100%|██████████| 62/62 [00:01<00:00, 46.71it/s]\n",
      "Iteration:   0%|          | 0/62 [00:00<?, ?it/s]"
     ]
    },
    {
     "name": "stdout",
     "output_type": "stream",
     "text": [
      "Evaluating...\n"
     ]
    },
    {
     "name": "stderr",
     "output_type": "stream",
     "text": [
      "Iteration: 100%|██████████| 62/62 [00:00<00:00, 138.99it/s]\n",
      "Iteration: 100%|██████████| 62/62 [00:00<00:00, 143.95it/s]\n",
      "Iteration: 100%|██████████| 62/62 [00:00<00:00, 144.95it/s]\n",
      "Iteration:   0%|          | 0/62 [00:00<?, ?it/s]"
     ]
    },
    {
     "name": "stdout",
     "output_type": "stream",
     "text": [
      "{'Train':  best_epoch_indx:6\n",
      " auc:0.789380029166733 \n",
      " apur:0.7535390253008125 \n",
      " f1:0.6581390818778002 \n",
      " precision:0.6716141001855288 \n",
      " recall:0.6451941438574157 \n",
      ", 'Validation':  best_epoch_indx:6\n",
      " auc:0.789380029166733 \n",
      " apur:0.7535390253008125 \n",
      " f1:0.6581390818778002 \n",
      " precision:0.6716141001855288 \n",
      " recall:0.6451941438574157 \n",
      ", 'Test':  best_epoch_indx:6\n",
      " auc:0.789380029166733 \n",
      " apur:0.7535390253008125 \n",
      " f1:0.6581390818778002 \n",
      " precision:0.6716141001855288 \n",
      " recall:0.6451941438574157 \n",
      "}\n",
      "=====Epoch 7\n",
      "Training...\n"
     ]
    },
    {
     "name": "stderr",
     "output_type": "stream",
     "text": [
      "Iteration: 100%|██████████| 62/62 [00:01<00:00, 44.74it/s]\n",
      "Iteration:   0%|          | 0/62 [00:00<?, ?it/s]"
     ]
    },
    {
     "name": "stdout",
     "output_type": "stream",
     "text": [
      "Evaluating...\n"
     ]
    },
    {
     "name": "stderr",
     "output_type": "stream",
     "text": [
      "Iteration: 100%|██████████| 62/62 [00:00<00:00, 139.26it/s]\n",
      "Iteration: 100%|██████████| 62/62 [00:00<00:00, 143.95it/s]\n",
      "Iteration: 100%|██████████| 62/62 [00:00<00:00, 144.12it/s]\n",
      "Iteration:   0%|          | 0/62 [00:00<?, ?it/s]"
     ]
    },
    {
     "name": "stdout",
     "output_type": "stream",
     "text": [
      "{'Train':  best_epoch_indx:7\n",
      " auc:0.7907769988350101 \n",
      " apur:0.7575412377369151 \n",
      " f1:0.6583435227492117 \n",
      " precision:0.6656689224362311 \n",
      " recall:0.6511775938892426 \n",
      ", 'Validation':  best_epoch_indx:7\n",
      " auc:0.7907769988350101 \n",
      " apur:0.7575412377369151 \n",
      " f1:0.6583435227492117 \n",
      " precision:0.6656689224362311 \n",
      " recall:0.6511775938892426 \n",
      ", 'Test':  best_epoch_indx:7\n",
      " auc:0.7907769988350101 \n",
      " apur:0.7575412377369151 \n",
      " f1:0.6583435227492117 \n",
      " precision:0.6656689224362311 \n",
      " recall:0.6511775938892426 \n",
      "}\n",
      "=====Epoch 8\n",
      "Training...\n"
     ]
    },
    {
     "name": "stderr",
     "output_type": "stream",
     "text": [
      "Iteration: 100%|██████████| 62/62 [00:01<00:00, 46.67it/s]\n",
      "Iteration:   0%|          | 0/62 [00:00<?, ?it/s]"
     ]
    },
    {
     "name": "stdout",
     "output_type": "stream",
     "text": [
      "Evaluating...\n"
     ]
    },
    {
     "name": "stderr",
     "output_type": "stream",
     "text": [
      "Iteration: 100%|██████████| 62/62 [00:00<00:00, 112.85it/s]\n",
      "Iteration: 100%|██████████| 62/62 [00:00<00:00, 144.15it/s]\n",
      "Iteration: 100%|██████████| 62/62 [00:00<00:00, 144.23it/s]\n",
      "Iteration:   0%|          | 0/62 [00:00<?, ?it/s]"
     ]
    },
    {
     "name": "stdout",
     "output_type": "stream",
     "text": [
      "{'Train':  best_epoch_indx:8\n",
      " auc:0.8049440226568907 \n",
      " apur:0.7718123526826931 \n",
      " f1:0.6784106982126783 \n",
      " precision:0.6852838030913105 \n",
      " recall:0.6716740929344367 \n",
      ", 'Validation':  best_epoch_indx:8\n",
      " auc:0.8049440286119588 \n",
      " apur:0.7718123557625831 \n",
      " f1:0.6784106982126783 \n",
      " precision:0.6852838030913105 \n",
      " recall:0.6716740929344367 \n",
      ", 'Test':  best_epoch_indx:8\n",
      " auc:0.8049440286119588 \n",
      " apur:0.7718123557625831 \n",
      " f1:0.6784106982126783 \n",
      " precision:0.6852838030913105 \n",
      " recall:0.6716740929344367 \n",
      "}\n",
      "=====Epoch 9\n",
      "Training...\n"
     ]
    },
    {
     "name": "stderr",
     "output_type": "stream",
     "text": [
      "Iteration: 100%|██████████| 62/62 [00:01<00:00, 46.69it/s]\n",
      "Iteration:   0%|          | 0/62 [00:00<?, ?it/s]"
     ]
    },
    {
     "name": "stdout",
     "output_type": "stream",
     "text": [
      "Evaluating...\n"
     ]
    },
    {
     "name": "stderr",
     "output_type": "stream",
     "text": [
      "Iteration: 100%|██████████| 62/62 [00:00<00:00, 138.64it/s]\n",
      "Iteration: 100%|██████████| 62/62 [00:00<00:00, 126.09it/s]\n",
      "Iteration: 100%|██████████| 62/62 [00:00<00:00, 143.33it/s]\n",
      "Iteration:   0%|          | 0/62 [00:00<?, ?it/s]"
     ]
    },
    {
     "name": "stdout",
     "output_type": "stream",
     "text": [
      "{'Train':  best_epoch_indx:9\n",
      " auc:0.8061475717107821 \n",
      " apur:0.7735843437082889 \n",
      " f1:0.6850012416190713 \n",
      " precision:0.6684841875681571 \n",
      " recall:0.702355187778485 \n",
      ", 'Validation':  best_epoch_indx:9\n",
      " auc:0.8061475717107821 \n",
      " apur:0.773584343708289 \n",
      " f1:0.6850012416190713 \n",
      " precision:0.6684841875681571 \n",
      " recall:0.702355187778485 \n",
      ", 'Test':  best_epoch_indx:9\n",
      " auc:0.8061475717107821 \n",
      " apur:0.7735843437082889 \n",
      " f1:0.6850012416190713 \n",
      " precision:0.6684841875681571 \n",
      " recall:0.702355187778485 \n",
      "}\n",
      "=====Epoch 10\n",
      "Training...\n"
     ]
    },
    {
     "name": "stderr",
     "output_type": "stream",
     "text": [
      "Iteration: 100%|██████████| 62/62 [00:01<00:00, 46.71it/s]\n",
      "Iteration:   0%|          | 0/62 [00:00<?, ?it/s]"
     ]
    },
    {
     "name": "stdout",
     "output_type": "stream",
     "text": [
      "Evaluating...\n"
     ]
    },
    {
     "name": "stderr",
     "output_type": "stream",
     "text": [
      "Iteration: 100%|██████████| 62/62 [00:00<00:00, 137.05it/s]\n",
      "Iteration: 100%|██████████| 62/62 [00:00<00:00, 144.28it/s]\n",
      "Iteration: 100%|██████████| 62/62 [00:00<00:00, 123.57it/s]\n",
      "Iteration:   0%|          | 0/62 [00:00<?, ?it/s]"
     ]
    },
    {
     "name": "stdout",
     "output_type": "stream",
     "text": [
      "{'Train':  best_epoch_indx:10\n",
      " auc:0.8062916188549132 \n",
      " apur:0.7743824910949011 \n",
      " f1:0.6851886851886853 \n",
      " precision:0.6782239960089798 \n",
      " recall:0.6922978994271165 \n",
      ", 'Validation':  best_epoch_indx:10\n",
      " auc:0.8062916188549132 \n",
      " apur:0.7743824910949011 \n",
      " f1:0.6851886851886853 \n",
      " precision:0.6782239960089798 \n",
      " recall:0.6922978994271165 \n",
      ", 'Test':  best_epoch_indx:10\n",
      " auc:0.8062916188549132 \n",
      " apur:0.7743824910949011 \n",
      " f1:0.6851886851886853 \n",
      " precision:0.6782239960089798 \n",
      " recall:0.6922978994271165 \n",
      "}\n",
      "=====Epoch 11\n",
      "Training...\n"
     ]
    },
    {
     "name": "stderr",
     "output_type": "stream",
     "text": [
      "Iteration: 100%|██████████| 62/62 [00:01<00:00, 46.70it/s]\n",
      "Iteration:   0%|          | 0/62 [00:00<?, ?it/s]"
     ]
    },
    {
     "name": "stdout",
     "output_type": "stream",
     "text": [
      "Evaluating...\n"
     ]
    },
    {
     "name": "stderr",
     "output_type": "stream",
     "text": [
      "Iteration: 100%|██████████| 62/62 [00:00<00:00, 138.22it/s]\n",
      "Iteration: 100%|██████████| 62/62 [00:00<00:00, 143.24it/s]\n",
      "Iteration: 100%|██████████| 62/62 [00:00<00:00, 144.50it/s]\n",
      "Iteration:   0%|          | 0/62 [00:00<?, ?it/s]"
     ]
    },
    {
     "name": "stdout",
     "output_type": "stream",
     "text": [
      "{'Train':  best_epoch_indx:11\n",
      " auc:0.8040092615602314 \n",
      " apur:0.7689304899906966 \n",
      " f1:0.6846703733121525 \n",
      " precision:0.6582471804511278 \n",
      " recall:0.7133036282622534 \n",
      ", 'Validation':  best_epoch_indx:11\n",
      " auc:0.8040092615602314 \n",
      " apur:0.7689304899906966 \n",
      " f1:0.6846703733121525 \n",
      " precision:0.6582471804511278 \n",
      " recall:0.7133036282622534 \n",
      ", 'Test':  best_epoch_indx:11\n",
      " auc:0.8040092615602314 \n",
      " apur:0.7689304899906966 \n",
      " f1:0.6846703733121525 \n",
      " precision:0.6582471804511278 \n",
      " recall:0.7133036282622534 \n",
      "}\n",
      "=====Epoch 12\n",
      "Training...\n"
     ]
    },
    {
     "name": "stderr",
     "output_type": "stream",
     "text": [
      "Iteration: 100%|██████████| 62/62 [00:01<00:00, 44.73it/s]\n",
      "Iteration:   0%|          | 0/62 [00:00<?, ?it/s]"
     ]
    },
    {
     "name": "stdout",
     "output_type": "stream",
     "text": [
      "Evaluating...\n"
     ]
    },
    {
     "name": "stderr",
     "output_type": "stream",
     "text": [
      "Iteration: 100%|██████████| 62/62 [00:00<00:00, 138.96it/s]\n",
      "Iteration: 100%|██████████| 62/62 [00:00<00:00, 143.82it/s]\n",
      "Iteration: 100%|██████████| 62/62 [00:00<00:00, 145.02it/s]\n",
      "Iteration:   0%|          | 0/62 [00:00<?, ?it/s]"
     ]
    },
    {
     "name": "stdout",
     "output_type": "stream",
     "text": [
      "{'Train':  best_epoch_indx:12\n",
      " auc:0.7977427433176839 \n",
      " apur:0.7634457089789537 \n",
      " f1:0.6751767724172454 \n",
      " precision:0.6639182869800639 \n",
      " recall:0.6868236791852323 \n",
      ", 'Validation':  best_epoch_indx:12\n",
      " auc:0.7977427433176839 \n",
      " apur:0.7634457089789537 \n",
      " f1:0.6751767724172454 \n",
      " precision:0.6639182869800639 \n",
      " recall:0.6868236791852323 \n",
      ", 'Test':  best_epoch_indx:12\n",
      " auc:0.797742743317684 \n",
      " apur:0.7634457089789537 \n",
      " f1:0.6751767724172454 \n",
      " precision:0.6639182869800639 \n",
      " recall:0.6868236791852323 \n",
      "}\n",
      "=====Epoch 13\n",
      "Training...\n"
     ]
    },
    {
     "name": "stderr",
     "output_type": "stream",
     "text": [
      "Iteration: 100%|██████████| 62/62 [00:01<00:00, 46.69it/s]\n",
      "Iteration:   0%|          | 0/62 [00:00<?, ?it/s]"
     ]
    },
    {
     "name": "stdout",
     "output_type": "stream",
     "text": [
      "Evaluating...\n"
     ]
    },
    {
     "name": "stderr",
     "output_type": "stream",
     "text": [
      "Iteration: 100%|██████████| 62/62 [00:00<00:00, 119.24it/s]\n",
      "Iteration: 100%|██████████| 62/62 [00:00<00:00, 144.67it/s]\n",
      "Iteration: 100%|██████████| 62/62 [00:00<00:00, 143.87it/s]\n",
      "Iteration:   0%|          | 0/62 [00:00<?, ?it/s]"
     ]
    },
    {
     "name": "stdout",
     "output_type": "stream",
     "text": [
      "{'Train':  best_epoch_indx:13\n",
      " auc:0.8059333738635273 \n",
      " apur:0.7738554079582696 \n",
      " f1:0.6859985440427081 \n",
      " precision:0.6552323560088075 \n",
      " recall:0.719796308084023 \n",
      ", 'Validation':  best_epoch_indx:13\n",
      " auc:0.8059333738635273 \n",
      " apur:0.7738554079582696 \n",
      " f1:0.6859985440427081 \n",
      " precision:0.6552323560088075 \n",
      " recall:0.719796308084023 \n",
      ", 'Test':  best_epoch_indx:13\n",
      " auc:0.8059333738635273 \n",
      " apur:0.7738554079582696 \n",
      " f1:0.6859985440427081 \n",
      " precision:0.6552323560088075 \n",
      " recall:0.719796308084023 \n",
      "}\n",
      "=====Epoch 14\n",
      "Training...\n"
     ]
    },
    {
     "name": "stderr",
     "output_type": "stream",
     "text": [
      "Iteration: 100%|██████████| 62/62 [00:01<00:00, 46.68it/s]\n",
      "Iteration:   0%|          | 0/62 [00:00<?, ?it/s]"
     ]
    },
    {
     "name": "stdout",
     "output_type": "stream",
     "text": [
      "Evaluating...\n"
     ]
    },
    {
     "name": "stderr",
     "output_type": "stream",
     "text": [
      "Iteration: 100%|██████████| 62/62 [00:00<00:00, 138.23it/s]\n",
      "Iteration: 100%|██████████| 62/62 [00:00<00:00, 122.93it/s]\n",
      "Iteration: 100%|██████████| 62/62 [00:00<00:00, 144.03it/s]\n",
      "Iteration:   0%|          | 0/62 [00:00<?, ?it/s]"
     ]
    },
    {
     "name": "stdout",
     "output_type": "stream",
     "text": [
      "{'Train':  best_epoch_indx:14\n",
      " auc:0.8022747407624834 \n",
      " apur:0.768915595134979 \n",
      " f1:0.6908289042180256 \n",
      " precision:0.6214016885362629 \n",
      " recall:0.7777211966900064 \n",
      ", 'Validation':  best_epoch_indx:14\n",
      " auc:0.8022747407624834 \n",
      " apur:0.768915595134979 \n",
      " f1:0.6908289042180256 \n",
      " precision:0.6214016885362629 \n",
      " recall:0.7777211966900064 \n",
      ", 'Test':  best_epoch_indx:14\n",
      " auc:0.8022747407624834 \n",
      " apur:0.7689155951356887 \n",
      " f1:0.6908289042180256 \n",
      " precision:0.6214016885362629 \n",
      " recall:0.7777211966900064 \n",
      "}\n",
      "=====Epoch 15\n",
      "Training...\n"
     ]
    },
    {
     "name": "stderr",
     "output_type": "stream",
     "text": [
      "Iteration: 100%|██████████| 62/62 [00:01<00:00, 46.59it/s]\n",
      "Iteration:   0%|          | 0/62 [00:00<?, ?it/s]"
     ]
    },
    {
     "name": "stdout",
     "output_type": "stream",
     "text": [
      "Evaluating...\n"
     ]
    },
    {
     "name": "stderr",
     "output_type": "stream",
     "text": [
      "Iteration: 100%|██████████| 62/62 [00:00<00:00, 138.06it/s]\n",
      "Iteration: 100%|██████████| 62/62 [00:00<00:00, 143.49it/s]\n",
      "Iteration: 100%|██████████| 62/62 [00:00<00:00, 122.59it/s]\n",
      "Iteration:   0%|          | 0/62 [00:00<?, ?it/s]"
     ]
    },
    {
     "name": "stdout",
     "output_type": "stream",
     "text": [
      "{'Train':  best_epoch_indx:15\n",
      " auc:0.8048803629780796 \n",
      " apur:0.7718792296242598 \n",
      " f1:0.6865526858251485 \n",
      " precision:0.6553999305475171 \n",
      " recall:0.7208147676639083 \n",
      ", 'Validation':  best_epoch_indx:15\n",
      " auc:0.8048803629780796 \n",
      " apur:0.7718792296242598 \n",
      " f1:0.6865526858251485 \n",
      " precision:0.6553999305475171 \n",
      " recall:0.7208147676639083 \n",
      ", 'Test':  best_epoch_indx:15\n",
      " auc:0.8048803629780796 \n",
      " apur:0.7718792296242598 \n",
      " f1:0.6865526858251485 \n",
      " precision:0.6553999305475171 \n",
      " recall:0.7208147676639083 \n",
      "}\n",
      "=====Epoch 16\n",
      "Training...\n"
     ]
    },
    {
     "name": "stderr",
     "output_type": "stream",
     "text": [
      "Iteration: 100%|██████████| 62/62 [00:01<00:00, 46.60it/s]\n",
      "Iteration:   0%|          | 0/62 [00:00<?, ?it/s]"
     ]
    },
    {
     "name": "stdout",
     "output_type": "stream",
     "text": [
      "Evaluating...\n"
     ]
    },
    {
     "name": "stderr",
     "output_type": "stream",
     "text": [
      "Iteration: 100%|██████████| 62/62 [00:00<00:00, 138.23it/s]\n",
      "Iteration: 100%|██████████| 62/62 [00:00<00:00, 142.17it/s]\n",
      "Iteration: 100%|██████████| 62/62 [00:00<00:00, 144.23it/s]\n",
      "Iteration:   0%|          | 0/62 [00:00<?, ?it/s]"
     ]
    },
    {
     "name": "stdout",
     "output_type": "stream",
     "text": [
      "{'Train':  best_epoch_indx:16\n",
      " auc:0.8116158607047621 \n",
      " apur:0.7791142941629996 \n",
      " f1:0.6867311895098346 \n",
      " precision:0.6738970588235295 \n",
      " recall:0.7000636537237428 \n",
      ", 'Validation':  best_epoch_indx:16\n",
      " auc:0.8116158607047621 \n",
      " apur:0.7791142941629996 \n",
      " f1:0.6867311895098346 \n",
      " precision:0.6738970588235295 \n",
      " recall:0.7000636537237428 \n",
      ", 'Test':  best_epoch_indx:16\n",
      " auc:0.8116158726148983 \n",
      " apur:0.7791143553204725 \n",
      " f1:0.6867311895098346 \n",
      " precision:0.6738970588235295 \n",
      " recall:0.7000636537237428 \n",
      "}\n",
      "=====Epoch 17\n",
      "Training...\n"
     ]
    },
    {
     "name": "stderr",
     "output_type": "stream",
     "text": [
      "Iteration: 100%|██████████| 62/62 [00:01<00:00, 44.35it/s]\n",
      "Iteration:   0%|          | 0/62 [00:00<?, ?it/s]"
     ]
    },
    {
     "name": "stdout",
     "output_type": "stream",
     "text": [
      "Evaluating...\n"
     ]
    },
    {
     "name": "stderr",
     "output_type": "stream",
     "text": [
      "Iteration: 100%|██████████| 62/62 [00:00<00:00, 138.02it/s]\n",
      "Iteration: 100%|██████████| 62/62 [00:00<00:00, 143.39it/s]\n",
      "Iteration: 100%|██████████| 62/62 [00:00<00:00, 143.23it/s]\n",
      "Iteration:   0%|          | 0/62 [00:00<?, ?it/s]"
     ]
    },
    {
     "name": "stdout",
     "output_type": "stream",
     "text": [
      "{'Train':  best_epoch_indx:17\n",
      " auc:0.8153722879354071 \n",
      " apur:0.7826427668379417 \n",
      " f1:0.6888583562328253 \n",
      " precision:0.6761064116709574 \n",
      " recall:0.7021005728835137 \n",
      ", 'Validation':  best_epoch_indx:17\n",
      " auc:0.8153722879354073 \n",
      " apur:0.7826427668374811 \n",
      " f1:0.6888583562328253 \n",
      " precision:0.6761064116709574 \n",
      " recall:0.7021005728835137 \n",
      ", 'Test':  best_epoch_indx:17\n",
      " auc:0.8153722879354071 \n",
      " apur:0.7826427668379417 \n",
      " f1:0.6888583562328253 \n",
      " precision:0.6761064116709574 \n",
      " recall:0.7021005728835137 \n",
      "}\n",
      "=====Epoch 18\n",
      "Training...\n"
     ]
    },
    {
     "name": "stderr",
     "output_type": "stream",
     "text": [
      "Iteration: 100%|██████████| 62/62 [00:01<00:00, 46.60it/s]\n",
      "Iteration:   0%|          | 0/62 [00:00<?, ?it/s]"
     ]
    },
    {
     "name": "stdout",
     "output_type": "stream",
     "text": [
      "Evaluating...\n"
     ]
    },
    {
     "name": "stderr",
     "output_type": "stream",
     "text": [
      "Iteration: 100%|██████████| 62/62 [00:00<00:00, 119.17it/s]\n",
      "Iteration: 100%|██████████| 62/62 [00:00<00:00, 142.48it/s]\n",
      "Iteration: 100%|██████████| 62/62 [00:00<00:00, 143.18it/s]\n",
      "Iteration:   0%|          | 0/62 [00:00<?, ?it/s]"
     ]
    },
    {
     "name": "stdout",
     "output_type": "stream",
     "text": [
      "{'Train':  best_epoch_indx:18\n",
      " auc:0.822512480185255 \n",
      " apur:0.7913219344024767 \n",
      " f1:0.7009026591851671 \n",
      " precision:0.6727549467275494 \n",
      " recall:0.7315085932527052 \n",
      ", 'Validation':  best_epoch_indx:18\n",
      " auc:0.822512480185255 \n",
      " apur:0.7913219344024767 \n",
      " f1:0.7009026591851671 \n",
      " precision:0.6727549467275494 \n",
      " recall:0.7315085932527052 \n",
      ", 'Test':  best_epoch_indx:18\n",
      " auc:0.822512480185255 \n",
      " apur:0.7913219344024767 \n",
      " f1:0.7009026591851671 \n",
      " precision:0.6727549467275494 \n",
      " recall:0.7315085932527052 \n",
      "}\n",
      "=====Epoch 19\n",
      "Training...\n"
     ]
    },
    {
     "name": "stderr",
     "output_type": "stream",
     "text": [
      "Iteration: 100%|██████████| 62/62 [00:01<00:00, 46.55it/s]\n",
      "Iteration:   0%|          | 0/62 [00:00<?, ?it/s]"
     ]
    },
    {
     "name": "stdout",
     "output_type": "stream",
     "text": [
      "Evaluating...\n"
     ]
    },
    {
     "name": "stderr",
     "output_type": "stream",
     "text": [
      "Iteration: 100%|██████████| 62/62 [00:00<00:00, 137.90it/s]\n",
      "Iteration: 100%|██████████| 62/62 [00:00<00:00, 125.06it/s]\n",
      "Iteration: 100%|██████████| 62/62 [00:00<00:00, 143.80it/s]\n",
      "Iteration:   0%|          | 0/62 [00:00<?, ?it/s]"
     ]
    },
    {
     "name": "stdout",
     "output_type": "stream",
     "text": [
      "{'Train':  best_epoch_indx:19\n",
      " auc:0.8253520889396577 \n",
      " apur:0.7943719278919714 \n",
      " f1:0.697428139183056 \n",
      " precision:0.6907229366962168 \n",
      " recall:0.7042647994907703 \n",
      ", 'Validation':  best_epoch_indx:19\n",
      " auc:0.8253520829845897 \n",
      " apur:0.7943719261680113 \n",
      " f1:0.697428139183056 \n",
      " precision:0.6907229366962168 \n",
      " recall:0.7042647994907703 \n",
      ", 'Test':  best_epoch_indx:19\n",
      " auc:0.8253520829845897 \n",
      " apur:0.7943719261680113 \n",
      " f1:0.697428139183056 \n",
      " precision:0.6907229366962168 \n",
      " recall:0.7042647994907703 \n",
      "}\n",
      "=====Epoch 20\n",
      "Training...\n"
     ]
    },
    {
     "name": "stderr",
     "output_type": "stream",
     "text": [
      "Iteration: 100%|██████████| 62/62 [00:01<00:00, 46.56it/s]\n",
      "Iteration:   0%|          | 0/62 [00:00<?, ?it/s]"
     ]
    },
    {
     "name": "stdout",
     "output_type": "stream",
     "text": [
      "Evaluating...\n"
     ]
    },
    {
     "name": "stderr",
     "output_type": "stream",
     "text": [
      "Iteration: 100%|██████████| 62/62 [00:00<00:00, 137.77it/s]\n",
      "Iteration: 100%|██████████| 62/62 [00:00<00:00, 144.03it/s]\n",
      "Iteration: 100%|██████████| 62/62 [00:00<00:00, 124.68it/s]\n",
      "Iteration:   0%|          | 0/62 [00:00<?, ?it/s]"
     ]
    },
    {
     "name": "stdout",
     "output_type": "stream",
     "text": [
      "{'Train':  best_epoch_indx:20\n",
      " auc:0.828378073462793 \n",
      " apur:0.7965647783755367 \n",
      " f1:0.7072161238078101 \n",
      " precision:0.6686705989110708 \n",
      " recall:0.7504774029280713 \n",
      ", 'Validation':  best_epoch_indx:20\n",
      " auc:0.828378079417861 \n",
      " apur:0.7965647808358567 \n",
      " f1:0.7072161238078101 \n",
      " precision:0.6686705989110708 \n",
      " recall:0.7504774029280713 \n",
      ", 'Test':  best_epoch_indx:20\n",
      " auc:0.828378073462793 \n",
      " apur:0.7965647783755367 \n",
      " f1:0.7072161238078101 \n",
      " precision:0.6686705989110708 \n",
      " recall:0.7504774029280713 \n",
      "}\n",
      "=====Epoch 21\n",
      "Training...\n"
     ]
    },
    {
     "name": "stderr",
     "output_type": "stream",
     "text": [
      "Iteration: 100%|██████████| 62/62 [00:01<00:00, 46.57it/s]\n",
      "Iteration:   0%|          | 0/62 [00:00<?, ?it/s]"
     ]
    },
    {
     "name": "stdout",
     "output_type": "stream",
     "text": [
      "Evaluating...\n"
     ]
    },
    {
     "name": "stderr",
     "output_type": "stream",
     "text": [
      "Iteration: 100%|██████████| 62/62 [00:00<00:00, 136.65it/s]\n",
      "Iteration: 100%|██████████| 62/62 [00:00<00:00, 143.81it/s]\n",
      "Iteration: 100%|██████████| 62/62 [00:00<00:00, 142.83it/s]\n",
      "Iteration:   0%|          | 0/62 [00:00<?, ?it/s]"
     ]
    },
    {
     "name": "stdout",
     "output_type": "stream",
     "text": [
      "{'Train':  best_epoch_indx:21\n",
      " auc:0.8245202254660273 \n",
      " apur:0.7943371602638543 \n",
      " f1:0.6964901084875558 \n",
      " precision:0.6982725527831094 \n",
      " recall:0.6947167409293443 \n",
      ", 'Validation':  best_epoch_indx:21\n",
      " auc:0.8245202254660273 \n",
      " apur:0.7943371602638543 \n",
      " f1:0.6964901084875558 \n",
      " precision:0.6982725527831094 \n",
      " recall:0.6947167409293443 \n",
      ", 'Test':  best_epoch_indx:21\n",
      " auc:0.8245202254660272 \n",
      " apur:0.7943371602638543 \n",
      " f1:0.6964901084875558 \n",
      " precision:0.6982725527831094 \n",
      " recall:0.6947167409293443 \n",
      "}\n",
      "=====Epoch 22\n",
      "Training...\n"
     ]
    },
    {
     "name": "stderr",
     "output_type": "stream",
     "text": [
      "Iteration: 100%|██████████| 62/62 [00:01<00:00, 44.71it/s]\n",
      "Iteration:   0%|          | 0/62 [00:00<?, ?it/s]"
     ]
    },
    {
     "name": "stdout",
     "output_type": "stream",
     "text": [
      "Evaluating...\n"
     ]
    },
    {
     "name": "stderr",
     "output_type": "stream",
     "text": [
      "Iteration: 100%|██████████| 62/62 [00:00<00:00, 139.62it/s]\n",
      "Iteration: 100%|██████████| 62/62 [00:00<00:00, 143.81it/s]\n",
      "Iteration: 100%|██████████| 62/62 [00:00<00:00, 143.74it/s]\n",
      "Iteration:   0%|          | 0/62 [00:00<?, ?it/s]"
     ]
    },
    {
     "name": "stdout",
     "output_type": "stream",
     "text": [
      "{'Train':  best_epoch_indx:22\n",
      " auc:0.820630380887947 \n",
      " apur:0.7891384686915719 \n",
      " f1:0.6905874291409705 \n",
      " precision:0.6761405220785558 \n",
      " recall:0.7056651814131126 \n",
      ", 'Validation':  best_epoch_indx:22\n",
      " auc:0.820630380887947 \n",
      " apur:0.7891384686915719 \n",
      " f1:0.6905874291409705 \n",
      " precision:0.6761405220785558 \n",
      " recall:0.7056651814131126 \n",
      ", 'Test':  best_epoch_indx:22\n",
      " auc:0.820630380887947 \n",
      " apur:0.7891384686915719 \n",
      " f1:0.6905874291409705 \n",
      " precision:0.6761405220785558 \n",
      " recall:0.7056651814131126 \n",
      "}\n",
      "=====Epoch 23\n",
      "Training...\n"
     ]
    },
    {
     "name": "stderr",
     "output_type": "stream",
     "text": [
      "Iteration: 100%|██████████| 62/62 [00:01<00:00, 46.56it/s]\n",
      "Iteration:   0%|          | 0/62 [00:00<?, ?it/s]"
     ]
    },
    {
     "name": "stdout",
     "output_type": "stream",
     "text": [
      "Evaluating...\n"
     ]
    },
    {
     "name": "stderr",
     "output_type": "stream",
     "text": [
      "Iteration: 100%|██████████| 62/62 [00:00<00:00, 121.41it/s]\n",
      "Iteration: 100%|██████████| 62/62 [00:00<00:00, 143.72it/s]\n",
      "Iteration: 100%|██████████| 62/62 [00:00<00:00, 144.05it/s]\n",
      "Iteration:   0%|          | 0/62 [00:00<?, ?it/s]"
     ]
    },
    {
     "name": "stdout",
     "output_type": "stream",
     "text": [
      "{'Train':  best_epoch_indx:23\n",
      " auc:0.8198559719120873 \n",
      " apur:0.7912964616451224 \n",
      " f1:0.7027984846633264 \n",
      " precision:0.675713782164258 \n",
      " recall:0.7321451304901336 \n",
      ", 'Validation':  best_epoch_indx:23\n",
      " auc:0.8198559719120873 \n",
      " apur:0.7912964616451224 \n",
      " f1:0.7027984846633264 \n",
      " precision:0.675713782164258 \n",
      " recall:0.7321451304901336 \n",
      ", 'Test':  best_epoch_indx:23\n",
      " auc:0.819855965957019 \n",
      " apur:0.7912964575341206 \n",
      " f1:0.7027984846633264 \n",
      " precision:0.675713782164258 \n",
      " recall:0.7321451304901336 \n",
      "}\n",
      "=====Epoch 24\n",
      "Training...\n"
     ]
    },
    {
     "name": "stderr",
     "output_type": "stream",
     "text": [
      "Iteration: 100%|██████████| 62/62 [00:01<00:00, 46.58it/s]\n",
      "Iteration:   0%|          | 0/62 [00:00<?, ?it/s]"
     ]
    },
    {
     "name": "stdout",
     "output_type": "stream",
     "text": [
      "Evaluating...\n"
     ]
    },
    {
     "name": "stderr",
     "output_type": "stream",
     "text": [
      "Iteration: 100%|██████████| 62/62 [00:00<00:00, 138.00it/s]\n",
      "Iteration: 100%|██████████| 62/62 [00:00<00:00, 124.52it/s]\n",
      "Iteration: 100%|██████████| 62/62 [00:00<00:00, 144.46it/s]\n",
      "Iteration:   0%|          | 0/62 [00:00<?, ?it/s]"
     ]
    },
    {
     "name": "stdout",
     "output_type": "stream",
     "text": [
      "{'Train':  best_epoch_indx:24\n",
      " auc:0.8207282464783663 \n",
      " apur:0.7888741320111735 \n",
      " f1:0.6954106432674706 \n",
      " precision:0.6897069872276483 \n",
      " recall:0.7012094207511139 \n",
      ", 'Validation':  best_epoch_indx:24\n",
      " auc:0.8207282464783663 \n",
      " apur:0.7888741320111735 \n",
      " f1:0.6954106432674706 \n",
      " precision:0.6897069872276483 \n",
      " recall:0.7012094207511139 \n",
      ", 'Test':  best_epoch_indx:24\n",
      " auc:0.8207282464783663 \n",
      " apur:0.7888741320111735 \n",
      " f1:0.6954106432674706 \n",
      " precision:0.6897069872276483 \n",
      " recall:0.7012094207511139 \n",
      "}\n",
      "=====Epoch 25\n",
      "Training...\n"
     ]
    },
    {
     "name": "stderr",
     "output_type": "stream",
     "text": [
      "Iteration: 100%|██████████| 62/62 [00:01<00:00, 46.60it/s]\n",
      "Iteration:   0%|          | 0/62 [00:00<?, ?it/s]"
     ]
    },
    {
     "name": "stdout",
     "output_type": "stream",
     "text": [
      "Evaluating...\n"
     ]
    },
    {
     "name": "stderr",
     "output_type": "stream",
     "text": [
      "Iteration: 100%|██████████| 62/62 [00:00<00:00, 139.28it/s]\n",
      "Iteration: 100%|██████████| 62/62 [00:00<00:00, 144.16it/s]\n",
      "Iteration: 100%|██████████| 62/62 [00:00<00:00, 125.34it/s]\n",
      "Iteration:   0%|          | 0/62 [00:00<?, ?it/s]"
     ]
    },
    {
     "name": "stdout",
     "output_type": "stream",
     "text": [
      "{'Train':  best_epoch_indx:25\n",
      " auc:0.8295433076080343 \n",
      " apur:0.7967009832634447 \n",
      " f1:0.7054887870152398 \n",
      " precision:0.6871002775431398 \n",
      " recall:0.7248886059834501 \n",
      ", 'Validation':  best_epoch_indx:25\n",
      " auc:0.8295433076080343 \n",
      " apur:0.7967009832634447 \n",
      " f1:0.7054887870152398 \n",
      " precision:0.6871002775431398 \n",
      " recall:0.7248886059834501 \n",
      ", 'Test':  best_epoch_indx:25\n",
      " auc:0.8295433076080343 \n",
      " apur:0.7967009832634447 \n",
      " f1:0.7054887870152398 \n",
      " precision:0.6871002775431398 \n",
      " recall:0.7248886059834501 \n",
      "}\n",
      "=====Epoch 26\n",
      "Training...\n"
     ]
    },
    {
     "name": "stderr",
     "output_type": "stream",
     "text": [
      "Iteration: 100%|██████████| 62/62 [00:01<00:00, 46.60it/s]\n",
      "Iteration:   0%|          | 0/62 [00:00<?, ?it/s]"
     ]
    },
    {
     "name": "stdout",
     "output_type": "stream",
     "text": [
      "Evaluating...\n"
     ]
    },
    {
     "name": "stderr",
     "output_type": "stream",
     "text": [
      "Iteration: 100%|██████████| 62/62 [00:00<00:00, 139.29it/s]\n",
      "Iteration: 100%|██████████| 62/62 [00:00<00:00, 144.31it/s]\n",
      "Iteration: 100%|██████████| 62/62 [00:00<00:00, 145.14it/s]\n",
      "Iteration:   0%|          | 0/62 [00:00<?, ?it/s]"
     ]
    },
    {
     "name": "stdout",
     "output_type": "stream",
     "text": [
      "{'Train':  best_epoch_indx:26\n",
      " auc:0.8326633941185007 \n",
      " apur:0.8000939563706376 \n",
      " f1:0.7133174998551817 \n",
      " precision:0.6544430272108843 \n",
      " recall:0.783831954169319 \n",
      ", 'Validation':  best_epoch_indx:26\n",
      " auc:0.8326633941185007 \n",
      " apur:0.8000939563706376 \n",
      " f1:0.7133174998551817 \n",
      " precision:0.6544430272108843 \n",
      " recall:0.783831954169319 \n",
      ", 'Test':  best_epoch_indx:26\n",
      " auc:0.8326633941185007 \n",
      " apur:0.8000939563706376 \n",
      " f1:0.7133174998551817 \n",
      " precision:0.6544430272108843 \n",
      " recall:0.783831954169319 \n",
      "}\n",
      "=====Epoch 27\n",
      "Training...\n"
     ]
    },
    {
     "name": "stderr",
     "output_type": "stream",
     "text": [
      "Iteration: 100%|██████████| 62/62 [00:01<00:00, 44.48it/s]\n",
      "Iteration:   0%|          | 0/62 [00:00<?, ?it/s]"
     ]
    },
    {
     "name": "stdout",
     "output_type": "stream",
     "text": [
      "Evaluating...\n"
     ]
    },
    {
     "name": "stderr",
     "output_type": "stream",
     "text": [
      "Iteration: 100%|██████████| 62/62 [00:00<00:00, 140.07it/s]\n",
      "Iteration: 100%|██████████| 62/62 [00:00<00:00, 144.02it/s]\n",
      "Iteration: 100%|██████████| 62/62 [00:00<00:00, 143.86it/s]\n",
      "Iteration:   0%|          | 0/62 [00:00<?, ?it/s]"
     ]
    },
    {
     "name": "stdout",
     "output_type": "stream",
     "text": [
      "{'Train':  best_epoch_indx:27\n",
      " auc:0.8388073153724904 \n",
      " apur:0.8069482941229443 \n",
      " f1:0.7113651898340894 \n",
      " precision:0.6948288419519301 \n",
      " recall:0.7287078294080204 \n",
      ", 'Validation':  best_epoch_indx:27\n",
      " auc:0.8388073153724904 \n",
      " apur:0.8069482941229443 \n",
      " f1:0.7113651898340894 \n",
      " precision:0.6948288419519301 \n",
      " recall:0.7287078294080204 \n",
      ", 'Test':  best_epoch_indx:27\n",
      " auc:0.8388073153724904 \n",
      " apur:0.8069482941229443 \n",
      " f1:0.7113651898340894 \n",
      " precision:0.6948288419519301 \n",
      " recall:0.7287078294080204 \n",
      "}\n",
      "=====Epoch 28\n",
      "Training...\n"
     ]
    },
    {
     "name": "stderr",
     "output_type": "stream",
     "text": [
      "Iteration: 100%|██████████| 62/62 [00:01<00:00, 46.46it/s]\n",
      "Iteration:   0%|          | 0/62 [00:00<?, ?it/s]"
     ]
    },
    {
     "name": "stdout",
     "output_type": "stream",
     "text": [
      "Evaluating...\n"
     ]
    },
    {
     "name": "stderr",
     "output_type": "stream",
     "text": [
      "Iteration: 100%|██████████| 62/62 [00:00<00:00, 114.02it/s]\n",
      "Iteration: 100%|██████████| 62/62 [00:00<00:00, 139.92it/s]\n",
      "Iteration: 100%|██████████| 62/62 [00:00<00:00, 144.21it/s]\n",
      "Iteration:  10%|▉         | 6/62 [00:00<00:01, 52.10it/s]"
     ]
    },
    {
     "name": "stdout",
     "output_type": "stream",
     "text": [
      "{'Train':  best_epoch_indx:28\n",
      " auc:0.8459500444813817 \n",
      " apur:0.8154011861750433 \n",
      " f1:0.725995024875622 \n",
      " precision:0.7096656534954408 \n",
      " recall:0.7430935709739019 \n",
      ", 'Validation':  best_epoch_indx:28\n",
      " auc:0.8459500444813817 \n",
      " apur:0.8154011861750433 \n",
      " f1:0.725995024875622 \n",
      " precision:0.7096656534954408 \n",
      " recall:0.7430935709739019 \n",
      ", 'Test':  best_epoch_indx:28\n",
      " auc:0.8459500444813817 \n",
      " apur:0.8154011861750433 \n",
      " f1:0.725995024875622 \n",
      " precision:0.7096656534954408 \n",
      " recall:0.7430935709739019 \n",
      "}\n",
      "=====Epoch 29\n",
      "Training...\n"
     ]
    },
    {
     "name": "stderr",
     "output_type": "stream",
     "text": [
      "Iteration: 100%|██████████| 62/62 [00:01<00:00, 46.58it/s]\n",
      "Iteration:  21%|██        | 13/62 [00:00<00:00, 121.59it/s]"
     ]
    },
    {
     "name": "stdout",
     "output_type": "stream",
     "text": [
      "Evaluating...\n"
     ]
    },
    {
     "name": "stderr",
     "output_type": "stream",
     "text": [
      "Iteration: 100%|██████████| 62/62 [00:00<00:00, 137.95it/s]\n",
      "Iteration: 100%|██████████| 62/62 [00:00<00:00, 125.31it/s]\n",
      "Iteration: 100%|██████████| 62/62 [00:00<00:00, 143.35it/s]\n",
      "Iteration:   0%|          | 0/62 [00:00<?, ?it/s]"
     ]
    },
    {
     "name": "stdout",
     "output_type": "stream",
     "text": [
      "{'Train':  best_epoch_indx:29\n",
      " auc:0.8529202671753248 \n",
      " apur:0.8228761033157599 \n",
      " f1:0.7280874048612817 \n",
      " precision:0.7029749911105844 \n",
      " recall:0.7550604710375557 \n",
      ", 'Validation':  best_epoch_indx:29\n",
      " auc:0.8529202671753248 \n",
      " apur:0.82287610331576 \n",
      " f1:0.7280874048612817 \n",
      " precision:0.7029749911105844 \n",
      " recall:0.7550604710375557 \n",
      ", 'Test':  best_epoch_indx:29\n",
      " auc:0.8529202671753248 \n",
      " apur:0.8228761033150309 \n",
      " f1:0.7280874048612817 \n",
      " precision:0.7029749911105844 \n",
      " recall:0.7550604710375557 \n",
      "}\n",
      "=====Epoch 30\n",
      "Training...\n"
     ]
    },
    {
     "name": "stderr",
     "output_type": "stream",
     "text": [
      "Iteration: 100%|██████████| 62/62 [00:01<00:00, 46.57it/s]\n",
      "Iteration:   0%|          | 0/62 [00:00<?, ?it/s]"
     ]
    },
    {
     "name": "stdout",
     "output_type": "stream",
     "text": [
      "Evaluating...\n"
     ]
    },
    {
     "name": "stderr",
     "output_type": "stream",
     "text": [
      "Iteration: 100%|██████████| 62/62 [00:00<00:00, 138.50it/s]\n",
      "Iteration: 100%|██████████| 62/62 [00:00<00:00, 143.24it/s]\n",
      "Iteration: 100%|██████████| 62/62 [00:00<00:00, 125.71it/s]\n",
      "Iteration:   0%|          | 0/62 [00:00<?, ?it/s]"
     ]
    },
    {
     "name": "stdout",
     "output_type": "stream",
     "text": [
      "{'Train':  best_epoch_indx:30\n",
      " auc:0.8532998789513291 \n",
      " apur:0.8226107496748337 \n",
      " f1:0.7254036326942482 \n",
      " precision:0.718785151856018 \n",
      " recall:0.7321451304901336 \n",
      ", 'Validation':  best_epoch_indx:30\n",
      " auc:0.8532998789513291 \n",
      " apur:0.8226107496748338 \n",
      " f1:0.7254036326942482 \n",
      " precision:0.718785151856018 \n",
      " recall:0.7321451304901336 \n",
      ", 'Test':  best_epoch_indx:30\n",
      " auc:0.8532998789513291 \n",
      " apur:0.8226107496748338 \n",
      " f1:0.7254036326942482 \n",
      " precision:0.718785151856018 \n",
      " recall:0.7321451304901336 \n",
      "}\n",
      "=====Epoch 31\n",
      "Training...\n"
     ]
    },
    {
     "name": "stderr",
     "output_type": "stream",
     "text": [
      "Iteration: 100%|██████████| 62/62 [00:01<00:00, 46.53it/s]\n",
      "Iteration:   0%|          | 0/62 [00:00<?, ?it/s]"
     ]
    },
    {
     "name": "stdout",
     "output_type": "stream",
     "text": [
      "Evaluating...\n"
     ]
    },
    {
     "name": "stderr",
     "output_type": "stream",
     "text": [
      "Iteration: 100%|██████████| 62/62 [00:00<00:00, 139.42it/s]\n",
      "Iteration: 100%|██████████| 62/62 [00:00<00:00, 143.99it/s]\n",
      "Iteration: 100%|██████████| 62/62 [00:00<00:00, 144.16it/s]\n",
      "Iteration:   0%|          | 0/62 [00:00<?, ?it/s]"
     ]
    },
    {
     "name": "stdout",
     "output_type": "stream",
     "text": [
      "{'Train':  best_epoch_indx:31\n",
      " auc:0.8497889136758676 \n",
      " apur:0.8186849121870923 \n",
      " f1:0.7184391245748026 \n",
      " precision:0.7244369660885323 \n",
      " recall:0.7125397835773393 \n",
      ", 'Validation':  best_epoch_indx:31\n",
      " auc:0.8497889136758676 \n",
      " apur:0.8186849121870923 \n",
      " f1:0.7184391245748026 \n",
      " precision:0.7244369660885323 \n",
      " recall:0.7125397835773393 \n",
      ", 'Test':  best_epoch_indx:31\n",
      " auc:0.8497889136758676 \n",
      " apur:0.8186849121870923 \n",
      " f1:0.7184391245748026 \n",
      " precision:0.7244369660885323 \n",
      " recall:0.7125397835773393 \n",
      "}\n",
      "=====Epoch 32\n",
      "Training...\n"
     ]
    },
    {
     "name": "stderr",
     "output_type": "stream",
     "text": [
      "Iteration: 100%|██████████| 62/62 [00:01<00:00, 44.57it/s]\n",
      "Iteration:   0%|          | 0/62 [00:00<?, ?it/s]"
     ]
    },
    {
     "name": "stdout",
     "output_type": "stream",
     "text": [
      "Evaluating...\n"
     ]
    },
    {
     "name": "stderr",
     "output_type": "stream",
     "text": [
      "Iteration: 100%|██████████| 62/62 [00:00<00:00, 138.33it/s]\n",
      "Iteration: 100%|██████████| 62/62 [00:00<00:00, 144.05it/s]\n",
      "Iteration: 100%|██████████| 62/62 [00:00<00:00, 143.90it/s]\n",
      "Iteration:   0%|          | 0/62 [00:00<?, ?it/s]"
     ]
    },
    {
     "name": "stdout",
     "output_type": "stream",
     "text": [
      "{'Train':  best_epoch_indx:32\n",
      " auc:0.8496348203317223 \n",
      " apur:0.8196418506935965 \n",
      " f1:0.7253170853021635 \n",
      " precision:0.7088346093085429 \n",
      " recall:0.7425843411839592 \n",
      ", 'Validation':  best_epoch_indx:32\n",
      " auc:0.8496348203317223 \n",
      " apur:0.8196418506935965 \n",
      " f1:0.7253170853021635 \n",
      " precision:0.7088346093085429 \n",
      " recall:0.7425843411839592 \n",
      ", 'Test':  best_epoch_indx:32\n",
      " auc:0.8496348203317223 \n",
      " apur:0.8196418506935965 \n",
      " f1:0.7253170853021635 \n",
      " precision:0.7088346093085429 \n",
      " recall:0.7425843411839592 \n",
      "}\n",
      "=====Epoch 33\n",
      "Training...\n"
     ]
    },
    {
     "name": "stderr",
     "output_type": "stream",
     "text": [
      "Iteration: 100%|██████████| 62/62 [00:01<00:00, 46.49it/s]\n",
      "Iteration:   0%|          | 0/62 [00:00<?, ?it/s]"
     ]
    },
    {
     "name": "stdout",
     "output_type": "stream",
     "text": [
      "Evaluating...\n"
     ]
    },
    {
     "name": "stderr",
     "output_type": "stream",
     "text": [
      "Iteration: 100%|██████████| 62/62 [00:00<00:00, 109.51it/s]\n",
      "Iteration: 100%|██████████| 62/62 [00:00<00:00, 139.17it/s]\n",
      "Iteration: 100%|██████████| 62/62 [00:00<00:00, 136.31it/s]\n"
     ]
    },
    {
     "name": "stdout",
     "output_type": "stream",
     "text": [
      "{'Train':  best_epoch_indx:33\n",
      " auc:0.8475466459001528 \n",
      " apur:0.8181836918029443 \n",
      " f1:0.7222086190009794 \n",
      " precision:0.6955547694847306 \n",
      " recall:0.750986632718014 \n",
      ", 'Validation':  best_epoch_indx:33\n",
      " auc:0.8475466459001528 \n",
      " apur:0.8181836918029443 \n",
      " f1:0.7222086190009794 \n",
      " precision:0.6955547694847306 \n",
      " recall:0.750986632718014 \n",
      ", 'Test':  best_epoch_indx:33\n",
      " auc:0.8475466459001528 \n",
      " apur:0.8181836918029443 \n",
      " f1:0.7222086190009794 \n",
      " precision:0.6955547694847306 \n",
      " recall:0.750986632718014 \n",
      "}\n",
      "=====Epoch 34\n",
      "Training...\n"
     ]
    },
    {
     "name": "stderr",
     "output_type": "stream",
     "text": [
      "Iteration: 100%|██████████| 62/62 [00:01<00:00, 46.42it/s]\n",
      "Iteration:  19%|█▉        | 12/62 [00:00<00:00, 112.19it/s]"
     ]
    },
    {
     "name": "stdout",
     "output_type": "stream",
     "text": [
      "Evaluating...\n"
     ]
    },
    {
     "name": "stderr",
     "output_type": "stream",
     "text": [
      "Iteration: 100%|██████████| 62/62 [00:00<00:00, 129.07it/s]\n",
      "Iteration: 100%|██████████| 62/62 [00:00<00:00, 116.70it/s]\n",
      "Iteration: 100%|██████████| 62/62 [00:00<00:00, 131.22it/s]\n"
     ]
    },
    {
     "name": "stdout",
     "output_type": "stream",
     "text": [
      "{'Train':  best_epoch_indx:34\n",
      " auc:0.841903271946704 \n",
      " apur:0.810619664883381 \n",
      " f1:0.725021795989538 \n",
      " precision:0.6670588235294118 \n",
      " recall:0.7940165499681732 \n",
      ", 'Validation':  best_epoch_indx:34\n",
      " auc:0.841903271946704 \n",
      " apur:0.810619664883381 \n",
      " f1:0.725021795989538 \n",
      " precision:0.6670588235294118 \n",
      " recall:0.7940165499681732 \n",
      ", 'Test':  best_epoch_indx:34\n",
      " auc:0.841903271946704 \n",
      " apur:0.810619664883381 \n",
      " f1:0.725021795989538 \n",
      " precision:0.6670588235294118 \n",
      " recall:0.7940165499681732 \n",
      "}\n",
      "=====Epoch 35\n",
      "Training...\n"
     ]
    },
    {
     "name": "stderr",
     "output_type": "stream",
     "text": [
      "Iteration: 100%|██████████| 62/62 [00:01<00:00, 46.20it/s]\n",
      "Iteration:  18%|█▊        | 11/62 [00:00<00:00, 108.02it/s]"
     ]
    },
    {
     "name": "stdout",
     "output_type": "stream",
     "text": [
      "Evaluating...\n"
     ]
    },
    {
     "name": "stderr",
     "output_type": "stream",
     "text": [
      "Iteration: 100%|██████████| 62/62 [00:00<00:00, 122.22it/s]\n",
      "Iteration: 100%|██████████| 62/62 [00:00<00:00, 126.16it/s]\n",
      "Iteration: 100%|██████████| 62/62 [00:00<00:00, 108.34it/s]\n"
     ]
    },
    {
     "name": "stdout",
     "output_type": "stream",
     "text": [
      "{'Train':  best_epoch_indx:35\n",
      " auc:0.849374006210779 \n",
      " apur:0.8180617254452105 \n",
      " f1:0.7289684990735021 \n",
      " precision:0.7079784043191362 \n",
      " recall:0.7512412476129854 \n",
      ", 'Validation':  best_epoch_indx:35\n",
      " auc:0.849374006210779 \n",
      " apur:0.8180617254452105 \n",
      " f1:0.7289684990735021 \n",
      " precision:0.7079784043191362 \n",
      " recall:0.7512412476129854 \n",
      ", 'Test':  best_epoch_indx:35\n",
      " auc:0.849374006210779 \n",
      " apur:0.8180617254452105 \n",
      " f1:0.7289684990735021 \n",
      " precision:0.7079784043191362 \n",
      " recall:0.7512412476129854 \n",
      "}\n",
      "=====Epoch 36\n",
      "Training...\n"
     ]
    },
    {
     "name": "stderr",
     "output_type": "stream",
     "text": [
      "Iteration: 100%|██████████| 62/62 [00:01<00:00, 46.15it/s]\n",
      "Iteration:  18%|█▊        | 11/62 [00:00<00:00, 108.53it/s]"
     ]
    },
    {
     "name": "stdout",
     "output_type": "stream",
     "text": [
      "Evaluating...\n"
     ]
    },
    {
     "name": "stderr",
     "output_type": "stream",
     "text": [
      "Iteration: 100%|██████████| 62/62 [00:00<00:00, 121.79it/s]\n",
      "Iteration: 100%|██████████| 62/62 [00:00<00:00, 126.99it/s]\n",
      "Iteration: 100%|██████████| 62/62 [00:00<00:00, 127.57it/s]\n"
     ]
    },
    {
     "name": "stdout",
     "output_type": "stream",
     "text": [
      "{'Train':  best_epoch_indx:36\n",
      " auc:0.8582150314376982 \n",
      " apur:0.8279556437872928 \n",
      " f1:0.7362340679349532 \n",
      " precision:0.7263379583746283 \n",
      " recall:0.7464035646085296 \n",
      ", 'Validation':  best_epoch_indx:36\n",
      " auc:0.8582150314376982 \n",
      " apur:0.8279556437872928 \n",
      " f1:0.7362340679349532 \n",
      " precision:0.7263379583746283 \n",
      " recall:0.7464035646085296 \n",
      ", 'Test':  best_epoch_indx:36\n",
      " auc:0.8582150314376982 \n",
      " apur:0.8279556437872928 \n",
      " f1:0.7362340679349532 \n",
      " precision:0.7263379583746283 \n",
      " recall:0.7464035646085296 \n",
      "}\n",
      "=====Epoch 37\n",
      "Training...\n"
     ]
    },
    {
     "name": "stderr",
     "output_type": "stream",
     "text": [
      "Iteration: 100%|██████████| 62/62 [00:01<00:00, 43.54it/s]\n",
      "Iteration:  18%|█▊        | 11/62 [00:00<00:00, 109.42it/s]"
     ]
    },
    {
     "name": "stdout",
     "output_type": "stream",
     "text": [
      "Evaluating...\n"
     ]
    },
    {
     "name": "stderr",
     "output_type": "stream",
     "text": [
      "Iteration: 100%|██████████| 62/62 [00:00<00:00, 123.28it/s]\n",
      "Iteration: 100%|██████████| 62/62 [00:00<00:00, 127.72it/s]\n",
      "Iteration: 100%|██████████| 62/62 [00:00<00:00, 125.89it/s]\n"
     ]
    },
    {
     "name": "stdout",
     "output_type": "stream",
     "text": [
      "{'Train':  best_epoch_indx:37\n",
      " auc:0.8655420341762554 \n",
      " apur:0.8345421240454656 \n",
      " f1:0.7376440460947503 \n",
      " precision:0.7419188667095943 \n",
      " recall:0.7334182049649904 \n",
      ", 'Validation':  best_epoch_indx:37\n",
      " auc:0.8655420341762554 \n",
      " apur:0.8345421240454656 \n",
      " f1:0.7376440460947503 \n",
      " precision:0.7419188667095943 \n",
      " recall:0.7334182049649904 \n",
      ", 'Test':  best_epoch_indx:37\n",
      " auc:0.8655420341762553 \n",
      " apur:0.8345421240459472 \n",
      " f1:0.7376440460947503 \n",
      " precision:0.7419188667095943 \n",
      " recall:0.7334182049649904 \n",
      "}\n",
      "=====Epoch 38\n",
      "Training...\n"
     ]
    },
    {
     "name": "stderr",
     "output_type": "stream",
     "text": [
      "Iteration: 100%|██████████| 62/62 [00:01<00:00, 46.18it/s]\n",
      "Iteration:  18%|█▊        | 11/62 [00:00<00:00, 107.30it/s]"
     ]
    },
    {
     "name": "stdout",
     "output_type": "stream",
     "text": [
      "Evaluating...\n"
     ]
    },
    {
     "name": "stderr",
     "output_type": "stream",
     "text": [
      "Iteration: 100%|██████████| 62/62 [00:00<00:00, 103.06it/s]\n",
      "Iteration: 100%|██████████| 62/62 [00:00<00:00, 126.74it/s]\n",
      "Iteration: 100%|██████████| 62/62 [00:00<00:00, 126.83it/s]\n"
     ]
    },
    {
     "name": "stdout",
     "output_type": "stream",
     "text": [
      "{'Train':  best_epoch_indx:38\n",
      " auc:0.8680646308313293 \n",
      " apur:0.8388568733744151 \n",
      " f1:0.7434148783082024 \n",
      " precision:0.7309301181102362 \n",
      " recall:0.7563335455124125 \n",
      ", 'Validation':  best_epoch_indx:38\n",
      " auc:0.8680646308313293 \n",
      " apur:0.8388568733744151 \n",
      " f1:0.7434148783082024 \n",
      " precision:0.7309301181102362 \n",
      " recall:0.7563335455124125 \n",
      ", 'Test':  best_epoch_indx:38\n",
      " auc:0.8680646308313293 \n",
      " apur:0.8388568733744151 \n",
      " f1:0.7434148783082024 \n",
      " precision:0.7309301181102362 \n",
      " recall:0.7563335455124125 \n",
      "}\n",
      "=====Epoch 39\n",
      "Training...\n"
     ]
    },
    {
     "name": "stderr",
     "output_type": "stream",
     "text": [
      "Iteration: 100%|██████████| 62/62 [00:01<00:00, 46.13it/s]\n",
      "Iteration:  18%|█▊        | 11/62 [00:00<00:00, 107.58it/s]"
     ]
    },
    {
     "name": "stdout",
     "output_type": "stream",
     "text": [
      "Evaluating...\n"
     ]
    },
    {
     "name": "stderr",
     "output_type": "stream",
     "text": [
      "Iteration: 100%|██████████| 62/62 [00:00<00:00, 122.93it/s]\n",
      "Iteration: 100%|██████████| 62/62 [00:00<00:00, 105.92it/s]\n",
      "Iteration: 100%|██████████| 62/62 [00:00<00:00, 126.34it/s]\n"
     ]
    },
    {
     "name": "stdout",
     "output_type": "stream",
     "text": [
      "{'Train':  best_epoch_indx:39\n",
      " auc:0.8798568627902865 \n",
      " apur:0.8526546126277159 \n",
      " f1:0.7618164967562558 \n",
      " precision:0.7400960384153662 \n",
      " recall:0.7848504137492043 \n",
      ", 'Validation':  best_epoch_indx:39\n",
      " auc:0.8798568627902865 \n",
      " apur:0.8526546126277159 \n",
      " f1:0.7618164967562558 \n",
      " precision:0.7400960384153662 \n",
      " recall:0.7848504137492043 \n",
      ", 'Test':  best_epoch_indx:39\n",
      " auc:0.8798568627902865 \n",
      " apur:0.8526546126277159 \n",
      " f1:0.7618164967562558 \n",
      " precision:0.7400960384153662 \n",
      " recall:0.7848504137492043 \n",
      "}\n",
      "=====Epoch 40\n",
      "Training...\n"
     ]
    },
    {
     "name": "stderr",
     "output_type": "stream",
     "text": [
      "Iteration: 100%|██████████| 62/62 [00:01<00:00, 46.18it/s]\n",
      "Iteration:  18%|█▊        | 11/62 [00:00<00:00, 106.33it/s]"
     ]
    },
    {
     "name": "stdout",
     "output_type": "stream",
     "text": [
      "Evaluating...\n"
     ]
    },
    {
     "name": "stderr",
     "output_type": "stream",
     "text": [
      "Iteration: 100%|██████████| 62/62 [00:00<00:00, 121.19it/s]\n",
      "Iteration: 100%|██████████| 62/62 [00:00<00:00, 126.30it/s]\n",
      "Iteration: 100%|██████████| 62/62 [00:00<00:00, 107.92it/s]\n"
     ]
    },
    {
     "name": "stdout",
     "output_type": "stream",
     "text": [
      "{'Train':  best_epoch_indx:40\n",
      " auc:0.8803899604934823 \n",
      " apur:0.8534058071529356 \n",
      " f1:0.7619274524986598 \n",
      " precision:0.7159167226326394 \n",
      " recall:0.8142584341183959 \n",
      ", 'Validation':  best_epoch_indx:40\n",
      " auc:0.8803899604934823 \n",
      " apur:0.8534058071529356 \n",
      " f1:0.7619274524986598 \n",
      " precision:0.7159167226326394 \n",
      " recall:0.8142584341183959 \n",
      ", 'Test':  best_epoch_indx:40\n",
      " auc:0.8803899604934823 \n",
      " apur:0.8534058071533204 \n",
      " f1:0.7619274524986598 \n",
      " precision:0.7159167226326394 \n",
      " recall:0.8142584341183959 \n",
      "}\n",
      "=====Epoch 41\n",
      "Training...\n"
     ]
    },
    {
     "name": "stderr",
     "output_type": "stream",
     "text": [
      "Iteration: 100%|██████████| 62/62 [00:01<00:00, 46.14it/s]\n",
      "Iteration:  18%|█▊        | 11/62 [00:00<00:00, 107.74it/s]"
     ]
    },
    {
     "name": "stdout",
     "output_type": "stream",
     "text": [
      "Evaluating...\n"
     ]
    },
    {
     "name": "stderr",
     "output_type": "stream",
     "text": [
      "Iteration: 100%|██████████| 62/62 [00:00<00:00, 122.68it/s]\n",
      "Iteration: 100%|██████████| 62/62 [00:00<00:00, 126.04it/s]\n",
      "Iteration: 100%|██████████| 62/62 [00:00<00:00, 125.54it/s]\n"
     ]
    },
    {
     "name": "stdout",
     "output_type": "stream",
     "text": [
      "{'Train':  best_epoch_indx:41\n",
      " auc:0.8769219193494396 \n",
      " apur:0.8511240329762065 \n",
      " f1:0.7531000613873541 \n",
      " precision:0.7272080616478956 \n",
      " recall:0.7809038828771483 \n",
      ", 'Validation':  best_epoch_indx:41\n",
      " auc:0.8769219193494396 \n",
      " apur:0.8511240329762065 \n",
      " f1:0.7531000613873541 \n",
      " precision:0.7272080616478956 \n",
      " recall:0.7809038828771483 \n",
      ", 'Test':  best_epoch_indx:41\n",
      " auc:0.8769219193494396 \n",
      " apur:0.8511240329762065 \n",
      " f1:0.7531000613873541 \n",
      " precision:0.7272080616478956 \n",
      " recall:0.7809038828771483 \n",
      "}\n",
      "=====Epoch 42\n",
      "Training...\n"
     ]
    },
    {
     "name": "stderr",
     "output_type": "stream",
     "text": [
      "Iteration: 100%|██████████| 62/62 [00:01<00:00, 44.04it/s]\n",
      "Iteration:  18%|█▊        | 11/62 [00:00<00:00, 107.38it/s]"
     ]
    },
    {
     "name": "stdout",
     "output_type": "stream",
     "text": [
      "Evaluating...\n"
     ]
    },
    {
     "name": "stderr",
     "output_type": "stream",
     "text": [
      "Iteration: 100%|██████████| 62/62 [00:00<00:00, 122.62it/s]\n",
      "Iteration: 100%|██████████| 62/62 [00:00<00:00, 126.16it/s]\n",
      "Iteration: 100%|██████████| 62/62 [00:00<00:00, 127.25it/s]\n"
     ]
    },
    {
     "name": "stdout",
     "output_type": "stream",
     "text": [
      "{'Train':  best_epoch_indx:42\n",
      " auc:0.8738649327413758 \n",
      " apur:0.8467742588742762 \n",
      " f1:0.7542289776906104 \n",
      " precision:0.727219004845763 \n",
      " recall:0.7833227243793762 \n",
      ", 'Validation':  best_epoch_indx:42\n",
      " auc:0.8738649327413757 \n",
      " apur:0.8467742588750916 \n",
      " f1:0.7542289776906104 \n",
      " precision:0.727219004845763 \n",
      " recall:0.7833227243793762 \n",
      ", 'Test':  best_epoch_indx:42\n",
      " auc:0.8738649327413758 \n",
      " apur:0.8467742588742762 \n",
      " f1:0.7542289776906104 \n",
      " precision:0.727219004845763 \n",
      " recall:0.7833227243793762 \n",
      "}\n",
      "=====Epoch 43\n",
      "Training...\n"
     ]
    },
    {
     "name": "stderr",
     "output_type": "stream",
     "text": [
      "Iteration: 100%|██████████| 62/62 [00:01<00:00, 46.16it/s]\n",
      "Iteration:  18%|█▊        | 11/62 [00:00<00:00, 107.35it/s]"
     ]
    },
    {
     "name": "stdout",
     "output_type": "stream",
     "text": [
      "Evaluating...\n"
     ]
    },
    {
     "name": "stderr",
     "output_type": "stream",
     "text": [
      "Iteration: 100%|██████████| 62/62 [00:00<00:00, 104.93it/s]\n",
      "Iteration: 100%|██████████| 62/62 [00:00<00:00, 125.19it/s]\n",
      "Iteration: 100%|██████████| 62/62 [00:00<00:00, 125.57it/s]\n"
     ]
    },
    {
     "name": "stdout",
     "output_type": "stream",
     "text": [
      "{'Train':  best_epoch_indx:43\n",
      " auc:0.8681661349684044 \n",
      " apur:0.840532808679106 \n",
      " f1:0.7439824945295406 \n",
      " precision:0.730958230958231 \n",
      " recall:0.7574793125397836 \n",
      ", 'Validation':  best_epoch_indx:43\n",
      " auc:0.8681661290133363 \n",
      " apur:0.8405328023198179 \n",
      " f1:0.7439824945295406 \n",
      " precision:0.730958230958231 \n",
      " recall:0.7574793125397836 \n",
      ", 'Test':  best_epoch_indx:43\n",
      " auc:0.8681661290133363 \n",
      " apur:0.8405328023198179 \n",
      " f1:0.7439824945295406 \n",
      " precision:0.730958230958231 \n",
      " recall:0.7574793125397836 \n",
      "}\n",
      "=====Epoch 44\n",
      "Training...\n"
     ]
    },
    {
     "name": "stderr",
     "output_type": "stream",
     "text": [
      "Iteration: 100%|██████████| 62/62 [00:01<00:00, 46.17it/s]\n",
      "Iteration:  18%|█▊        | 11/62 [00:00<00:00, 107.17it/s]"
     ]
    },
    {
     "name": "stdout",
     "output_type": "stream",
     "text": [
      "Evaluating...\n"
     ]
    },
    {
     "name": "stderr",
     "output_type": "stream",
     "text": [
      "Iteration: 100%|██████████| 62/62 [00:00<00:00, 121.51it/s]\n",
      "Iteration: 100%|██████████| 62/62 [00:00<00:00, 107.23it/s]\n",
      "Iteration: 100%|██████████| 62/62 [00:00<00:00, 126.85it/s]\n"
     ]
    },
    {
     "name": "stdout",
     "output_type": "stream",
     "text": [
      "{'Train':  best_epoch_indx:44\n",
      " auc:0.8661627428424696 \n",
      " apur:0.8365751939684014 \n",
      " f1:0.7457168089490727 \n",
      " precision:0.6936473165388828 \n",
      " recall:0.8062380649267982 \n",
      ", 'Validation':  best_epoch_indx:44\n",
      " auc:0.8661627428424696 \n",
      " apur:0.8365751939684014 \n",
      " f1:0.7457168089490727 \n",
      " precision:0.6936473165388828 \n",
      " recall:0.8062380649267982 \n",
      ", 'Test':  best_epoch_indx:44\n",
      " auc:0.8661627428424696 \n",
      " apur:0.8365751939684014 \n",
      " f1:0.7457168089490727 \n",
      " precision:0.6936473165388828 \n",
      " recall:0.8062380649267982 \n",
      "}\n",
      "=====Epoch 45\n",
      "Training...\n"
     ]
    },
    {
     "name": "stderr",
     "output_type": "stream",
     "text": [
      "Iteration: 100%|██████████| 62/62 [00:01<00:00, 46.19it/s]\n",
      "Iteration:  18%|█▊        | 11/62 [00:00<00:00, 108.76it/s]"
     ]
    },
    {
     "name": "stdout",
     "output_type": "stream",
     "text": [
      "Evaluating...\n"
     ]
    },
    {
     "name": "stderr",
     "output_type": "stream",
     "text": [
      "Iteration: 100%|██████████| 62/62 [00:00<00:00, 123.54it/s]\n",
      "Iteration: 100%|██████████| 62/62 [00:00<00:00, 126.49it/s]\n",
      "Iteration: 100%|██████████| 62/62 [00:00<00:00, 107.90it/s]\n"
     ]
    },
    {
     "name": "stdout",
     "output_type": "stream",
     "text": [
      "{'Train':  best_epoch_indx:45\n",
      " auc:0.8741248000064791 \n",
      " apur:0.8462865732282727 \n",
      " f1:0.7538644470868014 \n",
      " precision:0.7413835548990645 \n",
      " recall:0.7667727562062381 \n",
      ", 'Validation':  best_epoch_indx:45\n",
      " auc:0.8741248000064791 \n",
      " apur:0.8462865732282727 \n",
      " f1:0.7538644470868014 \n",
      " precision:0.7413835548990645 \n",
      " recall:0.7667727562062381 \n",
      ", 'Test':  best_epoch_indx:45\n",
      " auc:0.8741248000064791 \n",
      " apur:0.8462865732282727 \n",
      " f1:0.7538644470868014 \n",
      " precision:0.7413835548990645 \n",
      " recall:0.7667727562062381 \n",
      "}\n",
      "=====Epoch 46\n",
      "Training...\n"
     ]
    },
    {
     "name": "stderr",
     "output_type": "stream",
     "text": [
      "Iteration: 100%|██████████| 62/62 [00:01<00:00, 46.17it/s]\n",
      "Iteration:  18%|█▊        | 11/62 [00:00<00:00, 107.46it/s]"
     ]
    },
    {
     "name": "stdout",
     "output_type": "stream",
     "text": [
      "Evaluating...\n"
     ]
    },
    {
     "name": "stderr",
     "output_type": "stream",
     "text": [
      "Iteration: 100%|██████████| 62/62 [00:00<00:00, 122.45it/s]\n",
      "Iteration: 100%|██████████| 62/62 [00:00<00:00, 126.02it/s]\n",
      "Iteration: 100%|██████████| 62/62 [00:00<00:00, 126.02it/s]\n"
     ]
    },
    {
     "name": "stdout",
     "output_type": "stream",
     "text": [
      "{'Train':  best_epoch_indx:46\n",
      " auc:0.8772760672539197 \n",
      " apur:0.848436946695085 \n",
      " f1:0.7588035769349367 \n",
      " precision:0.7358851674641148 \n",
      " recall:0.7831954169318905 \n",
      ", 'Validation':  best_epoch_indx:46\n",
      " auc:0.8772760672539197 \n",
      " apur:0.848436946695085 \n",
      " f1:0.7588035769349367 \n",
      " precision:0.7358851674641148 \n",
      " recall:0.7831954169318905 \n",
      ", 'Test':  best_epoch_indx:46\n",
      " auc:0.8772760672539197 \n",
      " apur:0.848436946695085 \n",
      " f1:0.7588035769349367 \n",
      " precision:0.7358851674641148 \n",
      " recall:0.7831954169318905 \n",
      "}\n",
      "=====Epoch 47\n",
      "Training...\n"
     ]
    },
    {
     "name": "stderr",
     "output_type": "stream",
     "text": [
      "Iteration: 100%|██████████| 62/62 [00:01<00:00, 43.53it/s]\n",
      "Iteration:  18%|█▊        | 11/62 [00:00<00:00, 107.94it/s]"
     ]
    },
    {
     "name": "stdout",
     "output_type": "stream",
     "text": [
      "Evaluating...\n"
     ]
    },
    {
     "name": "stderr",
     "output_type": "stream",
     "text": [
      "Iteration: 100%|██████████| 62/62 [00:00<00:00, 122.20it/s]\n",
      "Iteration: 100%|██████████| 62/62 [00:00<00:00, 126.64it/s]\n",
      "Iteration: 100%|██████████| 62/62 [00:00<00:00, 126.39it/s]\n"
     ]
    },
    {
     "name": "stdout",
     "output_type": "stream",
     "text": [
      "{'Train':  best_epoch_indx:47\n",
      " auc:0.8883310200871 \n",
      " apur:0.862194173007064 \n",
      " f1:0.7704703016676034 \n",
      " precision:0.7562530652280529 \n",
      " recall:0.7852323360916613 \n",
      ", 'Validation':  best_epoch_indx:47\n",
      " auc:0.8883310200871 \n",
      " apur:0.862194173007064 \n",
      " f1:0.7704703016676034 \n",
      " precision:0.7562530652280529 \n",
      " recall:0.7852323360916613 \n",
      ", 'Test':  best_epoch_indx:47\n",
      " auc:0.8883310200871 \n",
      " apur:0.862194173007064 \n",
      " f1:0.7704703016676034 \n",
      " precision:0.7562530652280529 \n",
      " recall:0.7852323360916613 \n",
      "}\n",
      "=====Epoch 48\n",
      "Training...\n"
     ]
    },
    {
     "name": "stderr",
     "output_type": "stream",
     "text": [
      "Iteration: 100%|██████████| 62/62 [00:01<00:00, 46.16it/s]\n",
      "Iteration:  18%|█▊        | 11/62 [00:00<00:00, 106.41it/s]"
     ]
    },
    {
     "name": "stdout",
     "output_type": "stream",
     "text": [
      "Evaluating...\n"
     ]
    },
    {
     "name": "stderr",
     "output_type": "stream",
     "text": [
      "Iteration: 100%|██████████| 62/62 [00:00<00:00, 104.47it/s]\n",
      "Iteration: 100%|██████████| 62/62 [00:00<00:00, 126.32it/s]\n",
      "Iteration: 100%|██████████| 62/62 [00:00<00:00, 125.85it/s]\n"
     ]
    },
    {
     "name": "stdout",
     "output_type": "stream",
     "text": [
      "{'Train':  best_epoch_indx:48\n",
      " auc:0.8949553128706472 \n",
      " apur:0.8707039225179887 \n",
      " f1:0.7788403340999878 \n",
      " precision:0.7423560632283374 \n",
      " recall:0.8190961171228517 \n",
      ", 'Validation':  best_epoch_indx:48\n",
      " auc:0.8949553128706472 \n",
      " apur:0.8707039225179887 \n",
      " f1:0.7788403340999878 \n",
      " precision:0.7423560632283374 \n",
      " recall:0.8190961171228517 \n",
      ", 'Test':  best_epoch_indx:48\n",
      " auc:0.8949553128706472 \n",
      " apur:0.8707039225179887 \n",
      " f1:0.7788403340999878 \n",
      " precision:0.7423560632283374 \n",
      " recall:0.8190961171228517 \n",
      "}\n",
      "=====Epoch 49\n",
      "Training...\n"
     ]
    },
    {
     "name": "stderr",
     "output_type": "stream",
     "text": [
      "Iteration: 100%|██████████| 62/62 [00:01<00:00, 46.15it/s]\n",
      "Iteration:  18%|█▊        | 11/62 [00:00<00:00, 106.83it/s]"
     ]
    },
    {
     "name": "stdout",
     "output_type": "stream",
     "text": [
      "Evaluating...\n"
     ]
    },
    {
     "name": "stderr",
     "output_type": "stream",
     "text": [
      "Iteration: 100%|██████████| 62/62 [00:00<00:00, 121.40it/s]\n",
      "Iteration: 100%|██████████| 62/62 [00:00<00:00, 107.96it/s]\n",
      "Iteration: 100%|██████████| 62/62 [00:00<00:00, 126.36it/s]\n"
     ]
    },
    {
     "name": "stdout",
     "output_type": "stream",
     "text": [
      "{'Train':  best_epoch_indx:49\n",
      " auc:0.9026575682753033 \n",
      " apur:0.878888962190745 \n",
      " f1:0.7863333125506579 \n",
      " precision:0.7705278592375366 \n",
      " recall:0.8028007638446849 \n",
      ", 'Validation':  best_epoch_indx:49\n",
      " auc:0.9026575682753033 \n",
      " apur:0.878888962190745 \n",
      " f1:0.7863333125506579 \n",
      " precision:0.7705278592375366 \n",
      " recall:0.8028007638446849 \n",
      ", 'Test':  best_epoch_indx:49\n",
      " auc:0.9026575682753033 \n",
      " apur:0.878888962190745 \n",
      " f1:0.7863333125506579 \n",
      " precision:0.7705278592375366 \n",
      " recall:0.8028007638446849 \n",
      "}\n",
      "=====Epoch 50\n",
      "Training...\n"
     ]
    },
    {
     "name": "stderr",
     "output_type": "stream",
     "text": [
      "Iteration: 100%|██████████| 62/62 [00:01<00:00, 46.17it/s]\n",
      "Iteration:  18%|█▊        | 11/62 [00:00<00:00, 107.61it/s]"
     ]
    },
    {
     "name": "stdout",
     "output_type": "stream",
     "text": [
      "Evaluating...\n"
     ]
    },
    {
     "name": "stderr",
     "output_type": "stream",
     "text": [
      "Iteration: 100%|██████████| 62/62 [00:00<00:00, 122.40it/s]\n",
      "Iteration: 100%|██████████| 62/62 [00:00<00:00, 126.96it/s]\n",
      "Iteration: 100%|██████████| 62/62 [00:00<00:00, 105.94it/s]\n"
     ]
    },
    {
     "name": "stdout",
     "output_type": "stream",
     "text": [
      "{'Train':  best_epoch_indx:50\n",
      " auc:0.9018213873772445 \n",
      " apur:0.8778389800547813 \n",
      " f1:0.7837237351615565 \n",
      " precision:0.7815902760192454 \n",
      " recall:0.7858688733290897 \n",
      ", 'Validation':  best_epoch_indx:50\n",
      " auc:0.9018213873772445 \n",
      " apur:0.8778389800547813 \n",
      " f1:0.7837237351615565 \n",
      " precision:0.7815902760192454 \n",
      " recall:0.7858688733290897 \n",
      ", 'Test':  best_epoch_indx:50\n",
      " auc:0.9018213873772445 \n",
      " apur:0.8778389800547813 \n",
      " f1:0.7837237351615565 \n",
      " precision:0.7815902760192454 \n",
      " recall:0.7858688733290897 \n",
      "}\n",
      "=====Epoch 51\n",
      "Training...\n"
     ]
    },
    {
     "name": "stderr",
     "output_type": "stream",
     "text": [
      "Iteration: 100%|██████████| 62/62 [00:01<00:00, 46.18it/s]\n",
      "Iteration:  18%|█▊        | 11/62 [00:00<00:00, 107.68it/s]"
     ]
    },
    {
     "name": "stdout",
     "output_type": "stream",
     "text": [
      "Evaluating...\n"
     ]
    },
    {
     "name": "stderr",
     "output_type": "stream",
     "text": [
      "Iteration: 100%|██████████| 62/62 [00:00<00:00, 121.81it/s]\n",
      "Iteration: 100%|██████████| 62/62 [00:00<00:00, 126.89it/s]\n",
      "Iteration: 100%|██████████| 62/62 [00:00<00:00, 126.42it/s]\n"
     ]
    },
    {
     "name": "stdout",
     "output_type": "stream",
     "text": [
      "{'Train':  best_epoch_indx:51\n",
      " auc:0.8998919869734074 \n",
      " apur:0.8746696120943278 \n",
      " f1:0.7824233686453959 \n",
      " precision:0.7706841195356878 \n",
      " recall:0.7945257797581159 \n",
      ", 'Validation':  best_epoch_indx:51\n",
      " auc:0.8998919869734074 \n",
      " apur:0.8746696120943278 \n",
      " f1:0.7824233686453959 \n",
      " precision:0.7706841195356878 \n",
      " recall:0.7945257797581159 \n",
      ", 'Test':  best_epoch_indx:51\n",
      " auc:0.8998919869734074 \n",
      " apur:0.8746696120943278 \n",
      " f1:0.7824233686453959 \n",
      " precision:0.7706841195356878 \n",
      " recall:0.7945257797581159 \n",
      "}\n",
      "=====Epoch 52\n",
      "Training...\n"
     ]
    },
    {
     "name": "stderr",
     "output_type": "stream",
     "text": [
      "Iteration: 100%|██████████| 62/62 [00:01<00:00, 44.66it/s]\n",
      "Iteration:  19%|█▉        | 12/62 [00:00<00:00, 117.71it/s]"
     ]
    },
    {
     "name": "stdout",
     "output_type": "stream",
     "text": [
      "Evaluating...\n"
     ]
    },
    {
     "name": "stderr",
     "output_type": "stream",
     "text": [
      "Iteration: 100%|██████████| 62/62 [00:00<00:00, 135.49it/s]\n",
      "Iteration: 100%|██████████| 62/62 [00:00<00:00, 140.94it/s]\n",
      "Iteration: 100%|██████████| 62/62 [00:00<00:00, 140.57it/s]\n",
      "Iteration:   0%|          | 0/62 [00:00<?, ?it/s]"
     ]
    },
    {
     "name": "stdout",
     "output_type": "stream",
     "text": [
      "{'Train':  best_epoch_indx:52\n",
      " auc:0.896103795409107 \n",
      " apur:0.8724115504124711 \n",
      " f1:0.7787884413093249 \n",
      " precision:0.757645075848784 \n",
      " recall:0.8011457670273711 \n",
      ", 'Validation':  best_epoch_indx:52\n",
      " auc:0.896103795409107 \n",
      " apur:0.8724115504124711 \n",
      " f1:0.7787884413093249 \n",
      " precision:0.757645075848784 \n",
      " recall:0.8011457670273711 \n",
      ", 'Test':  best_epoch_indx:52\n",
      " auc:0.896103795409107 \n",
      " apur:0.8724115504124711 \n",
      " f1:0.7787884413093249 \n",
      " precision:0.757645075848784 \n",
      " recall:0.8011457670273711 \n",
      "}\n",
      "=====Epoch 53\n",
      "Training...\n"
     ]
    },
    {
     "name": "stderr",
     "output_type": "stream",
     "text": [
      "Iteration: 100%|██████████| 62/62 [00:01<00:00, 46.50it/s]\n",
      "Iteration:  19%|█▉        | 12/62 [00:00<00:00, 118.02it/s]"
     ]
    },
    {
     "name": "stdout",
     "output_type": "stream",
     "text": [
      "Evaluating...\n"
     ]
    },
    {
     "name": "stderr",
     "output_type": "stream",
     "text": [
      "Iteration: 100%|██████████| 62/62 [00:00<00:00, 116.50it/s]\n",
      "Iteration: 100%|██████████| 62/62 [00:00<00:00, 140.44it/s]\n",
      "Iteration: 100%|██████████| 62/62 [00:00<00:00, 140.56it/s]\n"
     ]
    },
    {
     "name": "stdout",
     "output_type": "stream",
     "text": [
      "{'Train':  best_epoch_indx:53\n",
      " auc:0.8902299484070757 \n",
      " apur:0.866231485656679 \n",
      " f1:0.7740583268459189 \n",
      " precision:0.7307779285391226 \n",
      " recall:0.8227880330999363 \n",
      ", 'Validation':  best_epoch_indx:53\n",
      " auc:0.8902299484070757 \n",
      " apur:0.8662314856566791 \n",
      " f1:0.7740583268459189 \n",
      " precision:0.7307779285391226 \n",
      " recall:0.8227880330999363 \n",
      ", 'Test':  best_epoch_indx:53\n",
      " auc:0.8902299484070757 \n",
      " apur:0.8662314856566791 \n",
      " f1:0.7740583268459189 \n",
      " precision:0.7307779285391226 \n",
      " recall:0.8227880330999363 \n",
      "}\n",
      "=====Epoch 54\n",
      "Training...\n"
     ]
    },
    {
     "name": "stderr",
     "output_type": "stream",
     "text": [
      "Iteration: 100%|██████████| 62/62 [00:01<00:00, 46.48it/s]\n",
      "Iteration:  19%|█▉        | 12/62 [00:00<00:00, 119.04it/s]"
     ]
    },
    {
     "name": "stdout",
     "output_type": "stream",
     "text": [
      "Evaluating...\n"
     ]
    },
    {
     "name": "stderr",
     "output_type": "stream",
     "text": [
      "Iteration: 100%|██████████| 62/62 [00:00<00:00, 136.42it/s]\n",
      "Iteration: 100%|██████████| 62/62 [00:00<00:00, 124.64it/s]\n",
      "Iteration: 100%|██████████| 62/62 [00:00<00:00, 143.96it/s]\n",
      "Iteration:   0%|          | 0/62 [00:00<?, ?it/s]"
     ]
    },
    {
     "name": "stdout",
     "output_type": "stream",
     "text": [
      "{'Train':  best_epoch_indx:54\n",
      " auc:0.8841402599589733 \n",
      " apur:0.8589000809183073 \n",
      " f1:0.7662360644133782 \n",
      " precision:0.7138931633326006 \n",
      " recall:0.8268618714194781 \n",
      ", 'Validation':  best_epoch_indx:54\n",
      " auc:0.8841402599589733 \n",
      " apur:0.8589000809183073 \n",
      " f1:0.7662360644133782 \n",
      " precision:0.7138931633326006 \n",
      " recall:0.8268618714194781 \n",
      ", 'Test':  best_epoch_indx:54\n",
      " auc:0.8841402599589733 \n",
      " apur:0.8589000809183073 \n",
      " f1:0.7662360644133782 \n",
      " precision:0.7138931633326006 \n",
      " recall:0.8268618714194781 \n",
      "}\n",
      "=====Epoch 55\n",
      "Training...\n"
     ]
    },
    {
     "name": "stderr",
     "output_type": "stream",
     "text": [
      "Iteration: 100%|██████████| 62/62 [00:01<00:00, 46.52it/s]\n",
      "Iteration:   0%|          | 0/62 [00:00<?, ?it/s]"
     ]
    },
    {
     "name": "stdout",
     "output_type": "stream",
     "text": [
      "Evaluating...\n"
     ]
    },
    {
     "name": "stderr",
     "output_type": "stream",
     "text": [
      "Iteration: 100%|██████████| 62/62 [00:00<00:00, 137.11it/s]\n",
      "Iteration: 100%|██████████| 62/62 [00:00<00:00, 143.86it/s]\n",
      "Iteration: 100%|██████████| 62/62 [00:00<00:00, 124.44it/s]\n",
      "Iteration:   0%|          | 0/62 [00:00<?, ?it/s]"
     ]
    },
    {
     "name": "stdout",
     "output_type": "stream",
     "text": [
      "{'Train':  best_epoch_indx:55\n",
      " auc:0.891229351768795 \n",
      " apur:0.8657213100717298 \n",
      " f1:0.7737684729064039 \n",
      " precision:0.749314251639833 \n",
      " recall:0.7998726925525144 \n",
      ", 'Validation':  best_epoch_indx:55\n",
      " auc:0.891229351768795 \n",
      " apur:0.8657213100717298 \n",
      " f1:0.7737684729064039 \n",
      " precision:0.749314251639833 \n",
      " recall:0.7998726925525144 \n",
      ", 'Test':  best_epoch_indx:55\n",
      " auc:0.891229351768795 \n",
      " apur:0.8657213100717298 \n",
      " f1:0.7737684729064039 \n",
      " precision:0.749314251639833 \n",
      " recall:0.7998726925525144 \n",
      "}\n",
      "=====Epoch 56\n",
      "Training...\n"
     ]
    },
    {
     "name": "stderr",
     "output_type": "stream",
     "text": [
      "Iteration: 100%|██████████| 62/62 [00:01<00:00, 46.50it/s]\n",
      "Iteration:   0%|          | 0/62 [00:00<?, ?it/s]"
     ]
    },
    {
     "name": "stdout",
     "output_type": "stream",
     "text": [
      "Evaluating...\n"
     ]
    },
    {
     "name": "stderr",
     "output_type": "stream",
     "text": [
      "Iteration: 100%|██████████| 62/62 [00:00<00:00, 137.87it/s]\n",
      "Iteration: 100%|██████████| 62/62 [00:00<00:00, 142.48it/s]\n",
      "Iteration: 100%|██████████| 62/62 [00:00<00:00, 143.91it/s]\n",
      "Iteration:   0%|          | 0/62 [00:00<?, ?it/s]"
     ]
    },
    {
     "name": "stdout",
     "output_type": "stream",
     "text": [
      "{'Train':  best_epoch_indx:56\n",
      " auc:0.9017302152834562 \n",
      " apur:0.879069804094421 \n",
      " f1:0.7872765828536806 \n",
      " precision:0.7510982658959537 \n",
      " recall:0.8271164863144495 \n",
      ", 'Validation':  best_epoch_indx:56\n",
      " auc:0.9017302152834562 \n",
      " apur:0.879069804094421 \n",
      " f1:0.7872765828536806 \n",
      " precision:0.7510982658959537 \n",
      " recall:0.8271164863144495 \n",
      ", 'Test':  best_epoch_indx:56\n",
      " auc:0.9017302212385244 \n",
      " apur:0.8790698133933816 \n",
      " f1:0.7872765828536806 \n",
      " precision:0.7510982658959537 \n",
      " recall:0.8271164863144495 \n",
      "}\n",
      "=====Epoch 57\n",
      "Training...\n"
     ]
    },
    {
     "name": "stderr",
     "output_type": "stream",
     "text": [
      "Iteration: 100%|██████████| 62/62 [00:01<00:00, 44.55it/s]\n",
      "Iteration:   0%|          | 0/62 [00:00<?, ?it/s]"
     ]
    },
    {
     "name": "stdout",
     "output_type": "stream",
     "text": [
      "Evaluating...\n"
     ]
    },
    {
     "name": "stderr",
     "output_type": "stream",
     "text": [
      "Iteration: 100%|██████████| 62/62 [00:00<00:00, 137.31it/s]\n",
      "Iteration: 100%|██████████| 62/62 [00:00<00:00, 141.64it/s]\n",
      "Iteration: 100%|██████████| 62/62 [00:00<00:00, 143.22it/s]\n",
      "Iteration:   0%|          | 0/62 [00:00<?, ?it/s]"
     ]
    },
    {
     "name": "stdout",
     "output_type": "stream",
     "text": [
      "{'Train':  best_epoch_indx:57\n",
      " auc:0.9072755807248497 \n",
      " apur:0.8854160382186755 \n",
      " f1:0.7915776624961856 \n",
      " precision:0.7602579132473622 \n",
      " recall:0.8255887969446213 \n",
      ", 'Validation':  best_epoch_indx:57\n",
      " auc:0.9072755807248497 \n",
      " apur:0.8854160382186755 \n",
      " f1:0.7915776624961856 \n",
      " precision:0.7602579132473622 \n",
      " recall:0.8255887969446213 \n",
      ", 'Test':  best_epoch_indx:57\n",
      " auc:0.9072755807248497 \n",
      " apur:0.8854160382186755 \n",
      " f1:0.7915776624961856 \n",
      " precision:0.7602579132473622 \n",
      " recall:0.8255887969446213 \n",
      "}\n",
      "=====Epoch 58\n",
      "Training...\n"
     ]
    },
    {
     "name": "stderr",
     "output_type": "stream",
     "text": [
      "Iteration: 100%|██████████| 62/62 [00:01<00:00, 46.52it/s]\n",
      "Iteration:   0%|          | 0/62 [00:00<?, ?it/s]"
     ]
    },
    {
     "name": "stdout",
     "output_type": "stream",
     "text": [
      "Evaluating...\n"
     ]
    },
    {
     "name": "stderr",
     "output_type": "stream",
     "text": [
      "Iteration: 100%|██████████| 62/62 [00:00<00:00, 117.18it/s]\n",
      "Iteration: 100%|██████████| 62/62 [00:00<00:00, 142.07it/s]\n",
      "Iteration: 100%|██████████| 62/62 [00:00<00:00, 144.02it/s]\n",
      "Iteration:   0%|          | 0/62 [00:00<?, ?it/s]"
     ]
    },
    {
     "name": "stdout",
     "output_type": "stream",
     "text": [
      "{'Train':  best_epoch_indx:58\n",
      " auc:0.9103345444155485 \n",
      " apur:0.8889908737204777 \n",
      " f1:0.79364481286109 \n",
      " precision:0.7831205849547651 \n",
      " recall:0.8044557606619988 \n",
      ", 'Validation':  best_epoch_indx:58\n",
      " auc:0.9103345444155485 \n",
      " apur:0.888990873720935 \n",
      " f1:0.79364481286109 \n",
      " precision:0.7831205849547651 \n",
      " recall:0.8044557606619988 \n",
      ", 'Test':  best_epoch_indx:58\n",
      " auc:0.9103345444155485 \n",
      " apur:0.8889908737204777 \n",
      " f1:0.79364481286109 \n",
      " precision:0.7831205849547651 \n",
      " recall:0.8044557606619988 \n",
      "}\n",
      "=====Epoch 59\n",
      "Training...\n"
     ]
    },
    {
     "name": "stderr",
     "output_type": "stream",
     "text": [
      "Iteration: 100%|██████████| 62/62 [00:01<00:00, 46.51it/s]\n",
      "Iteration:   0%|          | 0/62 [00:00<?, ?it/s]"
     ]
    },
    {
     "name": "stdout",
     "output_type": "stream",
     "text": [
      "Evaluating...\n"
     ]
    },
    {
     "name": "stderr",
     "output_type": "stream",
     "text": [
      "Iteration: 100%|██████████| 62/62 [00:00<00:00, 137.13it/s]\n",
      "Iteration: 100%|██████████| 62/62 [00:00<00:00, 118.33it/s]\n",
      "Iteration: 100%|██████████| 62/62 [00:00<00:00, 143.32it/s]\n",
      "Iteration:   0%|          | 0/62 [00:00<?, ?it/s]"
     ]
    },
    {
     "name": "stdout",
     "output_type": "stream",
     "text": [
      "{'Train':  best_epoch_indx:59\n",
      " auc:0.9212988968414855 \n",
      " apur:0.9012542896783825 \n",
      " f1:0.8111862768784731 \n",
      " precision:0.771750373520285 \n",
      " recall:0.8548695098663271 \n",
      ", 'Validation':  best_epoch_indx:59\n",
      " auc:0.9212988968414855 \n",
      " apur:0.9012542896783825 \n",
      " f1:0.8111862768784731 \n",
      " precision:0.771750373520285 \n",
      " recall:0.8548695098663271 \n",
      ", 'Test':  best_epoch_indx:59\n",
      " auc:0.9212988968414855 \n",
      " apur:0.9012542896783825 \n",
      " f1:0.8111862768784731 \n",
      " precision:0.771750373520285 \n",
      " recall:0.8548695098663271 \n",
      "}\n",
      "=====Epoch 60\n",
      "Training...\n"
     ]
    },
    {
     "name": "stderr",
     "output_type": "stream",
     "text": [
      "Iteration: 100%|██████████| 62/62 [00:01<00:00, 46.54it/s]\n",
      "Iteration:   0%|          | 0/62 [00:00<?, ?it/s]"
     ]
    },
    {
     "name": "stdout",
     "output_type": "stream",
     "text": [
      "Evaluating...\n"
     ]
    },
    {
     "name": "stderr",
     "output_type": "stream",
     "text": [
      "Iteration: 100%|██████████| 62/62 [00:00<00:00, 137.16it/s]\n",
      "Iteration: 100%|██████████| 62/62 [00:00<00:00, 143.70it/s]\n",
      "Iteration: 100%|██████████| 62/62 [00:00<00:00, 124.21it/s]\n",
      "Iteration:   0%|          | 0/62 [00:00<?, ?it/s]"
     ]
    },
    {
     "name": "stdout",
     "output_type": "stream",
     "text": [
      "{'Train':  best_epoch_indx:60\n",
      " auc:0.9196258799878684 \n",
      " apur:0.900411058762836 \n",
      " f1:0.8086620822777175 \n",
      " precision:0.7684282930184569 \n",
      " recall:0.8533418204964991 \n",
      ", 'Validation':  best_epoch_indx:60\n",
      " auc:0.9196258799878684 \n",
      " apur:0.900411058762836 \n",
      " f1:0.8086620822777175 \n",
      " precision:0.7684282930184569 \n",
      " recall:0.8533418204964991 \n",
      ", 'Test':  best_epoch_indx:60\n",
      " auc:0.9196258799878684 \n",
      " apur:0.900411058762836 \n",
      " f1:0.8086620822777175 \n",
      " precision:0.7684282930184569 \n",
      " recall:0.8533418204964991 \n",
      "}\n",
      "=====Epoch 61\n",
      "Training...\n"
     ]
    },
    {
     "name": "stderr",
     "output_type": "stream",
     "text": [
      "Iteration: 100%|██████████| 62/62 [00:01<00:00, 46.52it/s]\n",
      "Iteration:   0%|          | 0/62 [00:00<?, ?it/s]"
     ]
    },
    {
     "name": "stdout",
     "output_type": "stream",
     "text": [
      "Evaluating...\n"
     ]
    },
    {
     "name": "stderr",
     "output_type": "stream",
     "text": [
      "Iteration: 100%|██████████| 62/62 [00:00<00:00, 136.93it/s]\n",
      "Iteration: 100%|██████████| 62/62 [00:00<00:00, 141.41it/s]\n",
      "Iteration: 100%|██████████| 62/62 [00:00<00:00, 143.69it/s]\n",
      "Iteration:   0%|          | 0/62 [00:00<?, ?it/s]"
     ]
    },
    {
     "name": "stdout",
     "output_type": "stream",
     "text": [
      "{'Train':  best_epoch_indx:61\n",
      " auc:0.9183819496166692 \n",
      " apur:0.8994240131554613 \n",
      " f1:0.8074882995319813 \n",
      " precision:0.791921664626683 \n",
      " recall:0.8236791852323361 \n",
      ", 'Validation':  best_epoch_indx:61\n",
      " auc:0.9183819496166692 \n",
      " apur:0.8994240131554612 \n",
      " f1:0.8074882995319813 \n",
      " precision:0.791921664626683 \n",
      " recall:0.8236791852323361 \n",
      ", 'Test':  best_epoch_indx:61\n",
      " auc:0.9183819496166692 \n",
      " apur:0.8994240131554612 \n",
      " f1:0.8074882995319813 \n",
      " precision:0.791921664626683 \n",
      " recall:0.8236791852323361 \n",
      "}\n",
      "=====Epoch 62\n",
      "Training...\n"
     ]
    },
    {
     "name": "stderr",
     "output_type": "stream",
     "text": [
      "Iteration: 100%|██████████| 62/62 [00:01<00:00, 44.11it/s]\n",
      "Iteration:   0%|          | 0/62 [00:00<?, ?it/s]"
     ]
    },
    {
     "name": "stdout",
     "output_type": "stream",
     "text": [
      "Evaluating...\n"
     ]
    },
    {
     "name": "stderr",
     "output_type": "stream",
     "text": [
      "Iteration: 100%|██████████| 62/62 [00:00<00:00, 138.01it/s]\n",
      "Iteration: 100%|██████████| 62/62 [00:00<00:00, 143.25it/s]\n",
      "Iteration: 100%|██████████| 62/62 [00:00<00:00, 143.00it/s]\n",
      "Iteration:   0%|          | 0/62 [00:00<?, ?it/s]"
     ]
    },
    {
     "name": "stdout",
     "output_type": "stream",
     "text": [
      "{'Train':  best_epoch_indx:62\n",
      " auc:0.9131342839885069 \n",
      " apur:0.8917164043858115 \n",
      " f1:0.8001229256299938 \n",
      " precision:0.7734997029114676 \n",
      " recall:0.8286441756842775 \n",
      ", 'Validation':  best_epoch_indx:62\n",
      " auc:0.9131342839885069 \n",
      " apur:0.8917164043858115 \n",
      " f1:0.8001229256299938 \n",
      " precision:0.7734997029114676 \n",
      " recall:0.8286441756842775 \n",
      ", 'Test':  best_epoch_indx:62\n",
      " auc:0.9131342839885069 \n",
      " apur:0.8917164043858115 \n",
      " f1:0.8001229256299938 \n",
      " precision:0.7734997029114676 \n",
      " recall:0.8286441756842775 \n",
      "}\n",
      "=====Epoch 63\n",
      "Training...\n"
     ]
    },
    {
     "name": "stderr",
     "output_type": "stream",
     "text": [
      "Iteration: 100%|██████████| 62/62 [00:01<00:00, 46.53it/s]\n",
      "Iteration:   0%|          | 0/62 [00:00<?, ?it/s]"
     ]
    },
    {
     "name": "stdout",
     "output_type": "stream",
     "text": [
      "Evaluating...\n"
     ]
    },
    {
     "name": "stderr",
     "output_type": "stream",
     "text": [
      "Iteration: 100%|██████████| 62/62 [00:00<00:00, 117.58it/s]\n",
      "Iteration: 100%|██████████| 62/62 [00:00<00:00, 141.03it/s]\n",
      "Iteration: 100%|██████████| 62/62 [00:00<00:00, 142.90it/s]\n",
      "Iteration:   0%|          | 0/62 [00:00<?, ?it/s]"
     ]
    },
    {
     "name": "stdout",
     "output_type": "stream",
     "text": [
      "{'Train':  best_epoch_indx:63\n",
      " auc:0.9057619214956464 \n",
      " apur:0.8851710056018242 \n",
      " f1:0.7922526817640048 \n",
      " precision:0.7447619047619047 \n",
      " recall:0.8462126034373011 \n",
      ", 'Validation':  best_epoch_indx:63\n",
      " auc:0.9057619155405783 \n",
      " apur:0.8851709892275387 \n",
      " f1:0.7922526817640048 \n",
      " precision:0.7447619047619047 \n",
      " recall:0.8462126034373011 \n",
      ", 'Test':  best_epoch_indx:63\n",
      " auc:0.9057619155405783 \n",
      " apur:0.8851709892275387 \n",
      " f1:0.7922526817640048 \n",
      " precision:0.7447619047619047 \n",
      " recall:0.8462126034373011 \n",
      "}\n",
      "=====Epoch 64\n",
      "Training...\n"
     ]
    },
    {
     "name": "stderr",
     "output_type": "stream",
     "text": [
      "Iteration: 100%|██████████| 62/62 [00:01<00:00, 46.48it/s]\n",
      "Iteration:   0%|          | 0/62 [00:00<?, ?it/s]"
     ]
    },
    {
     "name": "stdout",
     "output_type": "stream",
     "text": [
      "Evaluating...\n"
     ]
    },
    {
     "name": "stderr",
     "output_type": "stream",
     "text": [
      "Iteration: 100%|██████████| 62/62 [00:00<00:00, 137.65it/s]\n",
      "Iteration: 100%|██████████| 62/62 [00:00<00:00, 120.76it/s]\n",
      "Iteration: 100%|██████████| 62/62 [00:00<00:00, 141.24it/s]\n"
     ]
    },
    {
     "name": "stdout",
     "output_type": "stream",
     "text": [
      "{'Train':  best_epoch_indx:64\n",
      " auc:0.9032396583243903 \n",
      " apur:0.8819118972676447 \n",
      " f1:0.7898460774577953 \n",
      " precision:0.7706188688385612 \n",
      " recall:0.8100572883513686 \n",
      ", 'Validation':  best_epoch_indx:64\n",
      " auc:0.9032396583243903 \n",
      " apur:0.8819118972676447 \n",
      " f1:0.7898460774577953 \n",
      " precision:0.7706188688385612 \n",
      " recall:0.8100572883513686 \n",
      ", 'Test':  best_epoch_indx:64\n",
      " auc:0.9032396583243903 \n",
      " apur:0.8819118972676447 \n",
      " f1:0.7898460774577953 \n",
      " precision:0.7706188688385612 \n",
      " recall:0.8100572883513686 \n",
      "}\n",
      "=====Epoch 65\n",
      "Training...\n"
     ]
    },
    {
     "name": "stderr",
     "output_type": "stream",
     "text": [
      "Iteration: 100%|██████████| 62/62 [00:01<00:00, 46.49it/s]\n",
      "Iteration:  19%|█▉        | 12/62 [00:00<00:00, 119.53it/s]"
     ]
    },
    {
     "name": "stdout",
     "output_type": "stream",
     "text": [
      "Evaluating...\n"
     ]
    },
    {
     "name": "stderr",
     "output_type": "stream",
     "text": [
      "Iteration: 100%|██████████| 62/62 [00:00<00:00, 136.00it/s]\n",
      "Iteration: 100%|██████████| 62/62 [00:00<00:00, 141.85it/s]\n",
      "Iteration: 100%|██████████| 62/62 [00:00<00:00, 123.14it/s]\n",
      "Iteration:   0%|          | 0/62 [00:00<?, ?it/s]"
     ]
    },
    {
     "name": "stdout",
     "output_type": "stream",
     "text": [
      "{'Train':  best_epoch_indx:65\n",
      " auc:0.9123227272973594 \n",
      " apur:0.8911239082969086 \n",
      " f1:0.7988240235195297 \n",
      " precision:0.7554471175669542 \n",
      " recall:0.8474856779121579 \n",
      ", 'Validation':  best_epoch_indx:65\n",
      " auc:0.9123227213422913 \n",
      " apur:0.8911239025233527 \n",
      " f1:0.7988240235195297 \n",
      " precision:0.7554471175669542 \n",
      " recall:0.8474856779121579 \n",
      ", 'Test':  best_epoch_indx:65\n",
      " auc:0.9123227213422913 \n",
      " apur:0.8911239025233528 \n",
      " f1:0.7988240235195297 \n",
      " precision:0.7554471175669542 \n",
      " recall:0.8474856779121579 \n",
      "}\n",
      "=====Epoch 66\n",
      "Training...\n"
     ]
    },
    {
     "name": "stderr",
     "output_type": "stream",
     "text": [
      "Iteration: 100%|██████████| 62/62 [00:01<00:00, 46.50it/s]\n",
      "Iteration:   0%|          | 0/62 [00:00<?, ?it/s]"
     ]
    },
    {
     "name": "stdout",
     "output_type": "stream",
     "text": [
      "Evaluating...\n"
     ]
    },
    {
     "name": "stderr",
     "output_type": "stream",
     "text": [
      "Iteration: 100%|██████████| 62/62 [00:00<00:00, 136.36it/s]\n",
      "Iteration: 100%|██████████| 62/62 [00:00<00:00, 142.51it/s]\n",
      "Iteration: 100%|██████████| 62/62 [00:00<00:00, 143.93it/s]\n",
      "Iteration:   0%|          | 0/62 [00:00<?, ?it/s]"
     ]
    },
    {
     "name": "stdout",
     "output_type": "stream",
     "text": [
      "{'Train':  best_epoch_indx:66\n",
      " auc:0.9119022339783207 \n",
      " apur:0.892249500505921 \n",
      " f1:0.7983270803862477 \n",
      " precision:0.7722513089005235 \n",
      " recall:0.8262253341820497 \n",
      ", 'Validation':  best_epoch_indx:66\n",
      " auc:0.9119022339783207 \n",
      " apur:0.892249500505921 \n",
      " f1:0.7983270803862477 \n",
      " precision:0.7722513089005235 \n",
      " recall:0.8262253341820497 \n",
      ", 'Test':  best_epoch_indx:66\n",
      " auc:0.9119022339783207 \n",
      " apur:0.892249500505921 \n",
      " f1:0.7983270803862477 \n",
      " precision:0.7722513089005235 \n",
      " recall:0.8262253341820497 \n",
      "}\n",
      "=====Epoch 67\n",
      "Training...\n"
     ]
    },
    {
     "name": "stderr",
     "output_type": "stream",
     "text": [
      "Iteration: 100%|██████████| 62/62 [00:01<00:00, 44.60it/s]\n",
      "Iteration:   0%|          | 0/62 [00:00<?, ?it/s]"
     ]
    },
    {
     "name": "stdout",
     "output_type": "stream",
     "text": [
      "Evaluating...\n"
     ]
    },
    {
     "name": "stderr",
     "output_type": "stream",
     "text": [
      "Iteration: 100%|██████████| 62/62 [00:00<00:00, 138.19it/s]\n",
      "Iteration: 100%|██████████| 62/62 [00:00<00:00, 143.15it/s]\n",
      "Iteration: 100%|██████████| 62/62 [00:00<00:00, 143.15it/s]\n",
      "Iteration:   0%|          | 0/62 [00:00<?, ?it/s]"
     ]
    },
    {
     "name": "stdout",
     "output_type": "stream",
     "text": [
      "{'Train':  best_epoch_indx:67\n",
      " auc:0.9235706660249485 \n",
      " apur:0.904597020230784 \n",
      " f1:0.8140659340659341 \n",
      " precision:0.8032218091697646 \n",
      " recall:0.8252068746021642 \n",
      ", 'Validation':  best_epoch_indx:67\n",
      " auc:0.9235706660249485 \n",
      " apur:0.904597020230784 \n",
      " f1:0.8140659340659341 \n",
      " precision:0.8032218091697646 \n",
      " recall:0.8252068746021642 \n",
      ", 'Test':  best_epoch_indx:67\n",
      " auc:0.9235706660249485 \n",
      " apur:0.904597020230784 \n",
      " f1:0.8140659340659341 \n",
      " precision:0.8032218091697646 \n",
      " recall:0.8252068746021642 \n",
      "}\n",
      "=====Epoch 68\n",
      "Training...\n"
     ]
    },
    {
     "name": "stderr",
     "output_type": "stream",
     "text": [
      "Iteration: 100%|██████████| 62/62 [00:01<00:00, 46.50it/s]\n",
      "Iteration:   0%|          | 0/62 [00:00<?, ?it/s]"
     ]
    },
    {
     "name": "stdout",
     "output_type": "stream",
     "text": [
      "Evaluating...\n"
     ]
    },
    {
     "name": "stderr",
     "output_type": "stream",
     "text": [
      "Iteration: 100%|██████████| 62/62 [00:00<00:00, 119.17it/s]\n",
      "Iteration: 100%|██████████| 62/62 [00:00<00:00, 142.16it/s]\n",
      "Iteration: 100%|██████████| 62/62 [00:00<00:00, 143.31it/s]\n",
      "Iteration:   0%|          | 0/62 [00:00<?, ?it/s]"
     ]
    },
    {
     "name": "stdout",
     "output_type": "stream",
     "text": [
      "{'Train':  best_epoch_indx:68\n",
      " auc:0.930114243814426 \n",
      " apur:0.9115215801075796 \n",
      " f1:0.8233080348742396 \n",
      " precision:0.8114490603363007 \n",
      " recall:0.8355187778485041 \n",
      ", 'Validation':  best_epoch_indx:68\n",
      " auc:0.930114243814426 \n",
      " apur:0.9115215801075796 \n",
      " f1:0.8233080348742396 \n",
      " precision:0.8114490603363007 \n",
      " recall:0.8355187778485041 \n",
      ", 'Test':  best_epoch_indx:68\n",
      " auc:0.930114243814426 \n",
      " apur:0.9115215801075796 \n",
      " f1:0.8233080348742396 \n",
      " precision:0.8114490603363007 \n",
      " recall:0.8355187778485041 \n",
      "}\n",
      "=====Epoch 69\n",
      "Training...\n"
     ]
    },
    {
     "name": "stderr",
     "output_type": "stream",
     "text": [
      "Iteration: 100%|██████████| 62/62 [00:01<00:00, 46.36it/s]\n",
      "Iteration:   0%|          | 0/62 [00:00<?, ?it/s]"
     ]
    },
    {
     "name": "stdout",
     "output_type": "stream",
     "text": [
      "Evaluating...\n"
     ]
    },
    {
     "name": "stderr",
     "output_type": "stream",
     "text": [
      "Iteration: 100%|██████████| 62/62 [00:00<00:00, 132.39it/s]\n",
      "Iteration: 100%|██████████| 62/62 [00:00<00:00, 119.12it/s]\n",
      "Iteration: 100%|██████████| 62/62 [00:00<00:00, 138.33it/s]\n"
     ]
    },
    {
     "name": "stdout",
     "output_type": "stream",
     "text": [
      "{'Train':  best_epoch_indx:69\n",
      " auc:0.9366827614294284 \n",
      " apur:0.9202558113037107 \n",
      " f1:0.8308259134172552 \n",
      " precision:0.802491103202847 \n",
      " recall:0.8612348822406111 \n",
      ", 'Validation':  best_epoch_indx:69\n",
      " auc:0.9366827614294284 \n",
      " apur:0.9202558113037107 \n",
      " f1:0.8308259134172552 \n",
      " precision:0.802491103202847 \n",
      " recall:0.8612348822406111 \n",
      ", 'Test':  best_epoch_indx:69\n",
      " auc:0.9366827614294284 \n",
      " apur:0.9202558113037107 \n",
      " f1:0.8308259134172552 \n",
      " precision:0.802491103202847 \n",
      " recall:0.8612348822406111 \n",
      "}\n",
      "=====Epoch 70\n",
      "Training...\n"
     ]
    },
    {
     "name": "stderr",
     "output_type": "stream",
     "text": [
      "Iteration: 100%|██████████| 62/62 [00:01<00:00, 46.35it/s]\n",
      "Iteration:  18%|█▊        | 11/62 [00:00<00:00, 108.27it/s]"
     ]
    },
    {
     "name": "stdout",
     "output_type": "stream",
     "text": [
      "Evaluating...\n"
     ]
    },
    {
     "name": "stderr",
     "output_type": "stream",
     "text": [
      "Iteration: 100%|██████████| 62/62 [00:00<00:00, 127.05it/s]\n",
      "Iteration: 100%|██████████| 62/62 [00:00<00:00, 130.24it/s]\n",
      "Iteration: 100%|██████████| 62/62 [00:00<00:00, 109.60it/s]\n"
     ]
    },
    {
     "name": "stdout",
     "output_type": "stream",
     "text": [
      "{'Train':  best_epoch_indx:70\n",
      " auc:0.9368316738642598 \n",
      " apur:0.9203556419633224 \n",
      " f1:0.8306500423677521 \n",
      " precision:0.7917387792777201 \n",
      " recall:0.8735837046467219 \n",
      ", 'Validation':  best_epoch_indx:70\n",
      " auc:0.9368316738642598 \n",
      " apur:0.9203556419633224 \n",
      " f1:0.8306500423677521 \n",
      " precision:0.7917387792777201 \n",
      " recall:0.8735837046467219 \n",
      ", 'Test':  best_epoch_indx:70\n",
      " auc:0.9368316738642598 \n",
      " apur:0.9203556419633224 \n",
      " f1:0.8306500423677521 \n",
      " precision:0.7917387792777201 \n",
      " recall:0.8735837046467219 \n",
      "}\n",
      "=====Epoch 71\n",
      "Training...\n"
     ]
    },
    {
     "name": "stderr",
     "output_type": "stream",
     "text": [
      "Iteration: 100%|██████████| 62/62 [00:01<00:00, 46.27it/s]\n",
      "Iteration:  18%|█▊        | 11/62 [00:00<00:00, 106.65it/s]"
     ]
    },
    {
     "name": "stdout",
     "output_type": "stream",
     "text": [
      "Evaluating...\n"
     ]
    },
    {
     "name": "stderr",
     "output_type": "stream",
     "text": [
      "Iteration: 100%|██████████| 62/62 [00:00<00:00, 121.10it/s]\n",
      "Iteration: 100%|██████████| 62/62 [00:00<00:00, 126.17it/s]\n",
      "Iteration: 100%|██████████| 62/62 [00:00<00:00, 126.67it/s]\n"
     ]
    },
    {
     "name": "stdout",
     "output_type": "stream",
     "text": [
      "{'Train':  best_epoch_indx:71\n",
      " auc:0.9320086284173829 \n",
      " apur:0.914171402174468 \n",
      " f1:0.8263379434756466 \n",
      " precision:0.783019943019943 \n",
      " recall:0.874729471674093 \n",
      ", 'Validation':  best_epoch_indx:71\n",
      " auc:0.9320086284173829 \n",
      " apur:0.914171402174468 \n",
      " f1:0.8263379434756466 \n",
      " precision:0.783019943019943 \n",
      " recall:0.874729471674093 \n",
      ", 'Test':  best_epoch_indx:71\n",
      " auc:0.9320086284173829 \n",
      " apur:0.914171402174468 \n",
      " f1:0.8263379434756466 \n",
      " precision:0.783019943019943 \n",
      " recall:0.874729471674093 \n",
      "}\n",
      "=====Epoch 72\n",
      "Training...\n"
     ]
    },
    {
     "name": "stderr",
     "output_type": "stream",
     "text": [
      "Iteration: 100%|██████████| 62/62 [00:01<00:00, 43.49it/s]\n",
      "Iteration:  18%|█▊        | 11/62 [00:00<00:00, 107.94it/s]"
     ]
    },
    {
     "name": "stdout",
     "output_type": "stream",
     "text": [
      "Evaluating...\n"
     ]
    },
    {
     "name": "stderr",
     "output_type": "stream",
     "text": [
      "Iteration: 100%|██████████| 62/62 [00:00<00:00, 122.55it/s]\n",
      "Iteration: 100%|██████████| 62/62 [00:00<00:00, 126.88it/s]\n",
      "Iteration: 100%|██████████| 62/62 [00:00<00:00, 126.33it/s]\n"
     ]
    },
    {
     "name": "stdout",
     "output_type": "stream",
     "text": [
      "{'Train':  best_epoch_indx:72\n",
      " auc:0.928730137093411 \n",
      " apur:0.9117767808997415 \n",
      " f1:0.8194866804524998 \n",
      " precision:0.7845580528706184 \n",
      " recall:0.8576702737110121 \n",
      ", 'Validation':  best_epoch_indx:72\n",
      " auc:0.9287301430484792 \n",
      " apur:0.9117767843868724 \n",
      " f1:0.8194866804524998 \n",
      " precision:0.7845580528706184 \n",
      " recall:0.8576702737110121 \n",
      ", 'Test':  best_epoch_indx:72\n",
      " auc:0.928730137093411 \n",
      " apur:0.9117767808997415 \n",
      " f1:0.8194866804524998 \n",
      " precision:0.7845580528706184 \n",
      " recall:0.8576702737110121 \n",
      "}\n",
      "=====Epoch 73\n",
      "Training...\n"
     ]
    },
    {
     "name": "stderr",
     "output_type": "stream",
     "text": [
      "Iteration: 100%|██████████| 62/62 [00:01<00:00, 46.17it/s]\n",
      "Iteration:  18%|█▊        | 11/62 [00:00<00:00, 108.58it/s]"
     ]
    },
    {
     "name": "stdout",
     "output_type": "stream",
     "text": [
      "Evaluating...\n"
     ]
    },
    {
     "name": "stderr",
     "output_type": "stream",
     "text": [
      "Iteration: 100%|██████████| 62/62 [00:00<00:00, 104.22it/s]\n",
      "Iteration: 100%|██████████| 62/62 [00:00<00:00, 126.94it/s]\n",
      "Iteration: 100%|██████████| 62/62 [00:00<00:00, 126.32it/s]\n"
     ]
    },
    {
     "name": "stdout",
     "output_type": "stream",
     "text": [
      "{'Train':  best_epoch_indx:73\n",
      " auc:0.926458540606925 \n",
      " apur:0.9066534885670143 \n",
      " f1:0.8213911650545254 \n",
      " precision:0.7958452722063037 \n",
      " recall:0.8486314449395289 \n",
      ", 'Validation':  best_epoch_indx:73\n",
      " auc:0.926458540606925 \n",
      " apur:0.9066534885670143 \n",
      " f1:0.8213911650545254 \n",
      " precision:0.7958452722063037 \n",
      " recall:0.8486314449395289 \n",
      ", 'Test':  best_epoch_indx:73\n",
      " auc:0.926458540606925 \n",
      " apur:0.9066534885670143 \n",
      " f1:0.8213911650545254 \n",
      " precision:0.7958452722063037 \n",
      " recall:0.8486314449395289 \n",
      "}\n",
      "=====Epoch 74\n",
      "Training...\n"
     ]
    },
    {
     "name": "stderr",
     "output_type": "stream",
     "text": [
      "Iteration: 100%|██████████| 62/62 [00:01<00:00, 46.14it/s]\n",
      "Iteration:  18%|█▊        | 11/62 [00:00<00:00, 109.47it/s]"
     ]
    },
    {
     "name": "stdout",
     "output_type": "stream",
     "text": [
      "Evaluating...\n"
     ]
    },
    {
     "name": "stderr",
     "output_type": "stream",
     "text": [
      "Iteration: 100%|██████████| 62/62 [00:00<00:00, 127.39it/s]\n",
      "Iteration: 100%|██████████| 62/62 [00:00<00:00, 108.37it/s]\n",
      "Iteration: 100%|██████████| 62/62 [00:00<00:00, 125.36it/s]\n"
     ]
    },
    {
     "name": "stdout",
     "output_type": "stream",
     "text": [
      "{'Train':  best_epoch_indx:74\n",
      " auc:0.921328981845915 \n",
      " apur:0.9022469805716862 \n",
      " f1:0.8118824034861597 \n",
      " precision:0.7838350319981038 \n",
      " recall:0.8420114576702737 \n",
      ", 'Validation':  best_epoch_indx:74\n",
      " auc:0.921328981845915 \n",
      " apur:0.9022469805716862 \n",
      " f1:0.8118824034861597 \n",
      " precision:0.7838350319981038 \n",
      " recall:0.8420114576702737 \n",
      ", 'Test':  best_epoch_indx:74\n",
      " auc:0.921328981845915 \n",
      " apur:0.9022469805716862 \n",
      " f1:0.8118824034861597 \n",
      " precision:0.7838350319981038 \n",
      " recall:0.8420114576702737 \n",
      "}\n",
      "=====Epoch 75\n",
      "Training...\n"
     ]
    },
    {
     "name": "stderr",
     "output_type": "stream",
     "text": [
      "Iteration: 100%|██████████| 62/62 [00:01<00:00, 46.15it/s]\n",
      "Iteration:  18%|█▊        | 11/62 [00:00<00:00, 108.88it/s]"
     ]
    },
    {
     "name": "stdout",
     "output_type": "stream",
     "text": [
      "Evaluating...\n"
     ]
    },
    {
     "name": "stderr",
     "output_type": "stream",
     "text": [
      "Iteration: 100%|██████████| 62/62 [00:00<00:00, 123.06it/s]\n",
      "Iteration: 100%|██████████| 62/62 [00:00<00:00, 126.25it/s]\n",
      "Iteration: 100%|██████████| 62/62 [00:00<00:00, 108.21it/s]\n"
     ]
    },
    {
     "name": "stdout",
     "output_type": "stream",
     "text": [
      "{'Train':  best_epoch_indx:75\n",
      " auc:0.9210624687247263 \n",
      " apur:0.9011279839047602 \n",
      " f1:0.8098958333333333 \n",
      " precision:0.7894355131149523 \n",
      " recall:0.8314449395289625 \n",
      ", 'Validation':  best_epoch_indx:75\n",
      " auc:0.9210624687247263 \n",
      " apur:0.9011279839047602 \n",
      " f1:0.8098958333333333 \n",
      " precision:0.7894355131149523 \n",
      " recall:0.8314449395289625 \n",
      ", 'Test':  best_epoch_indx:75\n",
      " auc:0.9210624687247263 \n",
      " apur:0.9011279839047602 \n",
      " f1:0.8098958333333333 \n",
      " precision:0.7894355131149523 \n",
      " recall:0.8314449395289625 \n",
      "}\n",
      "=====Epoch 76\n",
      "Training...\n"
     ]
    },
    {
     "name": "stderr",
     "output_type": "stream",
     "text": [
      "Iteration: 100%|██████████| 62/62 [00:01<00:00, 46.16it/s]\n",
      "Iteration:  18%|█▊        | 11/62 [00:00<00:00, 108.30it/s]"
     ]
    },
    {
     "name": "stdout",
     "output_type": "stream",
     "text": [
      "Evaluating...\n"
     ]
    },
    {
     "name": "stderr",
     "output_type": "stream",
     "text": [
      "Iteration: 100%|██████████| 62/62 [00:00<00:00, 123.10it/s]\n",
      "Iteration: 100%|██████████| 62/62 [00:00<00:00, 126.59it/s]\n",
      "Iteration: 100%|██████████| 62/62 [00:00<00:00, 126.66it/s]\n"
     ]
    },
    {
     "name": "stdout",
     "output_type": "stream",
     "text": [
      "{'Train':  best_epoch_indx:76\n",
      " auc:0.9284851158132726 \n",
      " apur:0.9118379433993852 \n",
      " f1:0.8190884062404404 \n",
      " precision:0.7884570082449941 \n",
      " recall:0.852196053469128 \n",
      ", 'Validation':  best_epoch_indx:76\n",
      " auc:0.9284851158132726 \n",
      " apur:0.9118379433993852 \n",
      " f1:0.8190884062404404 \n",
      " precision:0.7884570082449941 \n",
      " recall:0.852196053469128 \n",
      ", 'Test':  best_epoch_indx:76\n",
      " auc:0.9284851158132726 \n",
      " apur:0.9118379433993852 \n",
      " f1:0.8190884062404404 \n",
      " precision:0.7884570082449941 \n",
      " recall:0.852196053469128 \n",
      "}\n",
      "=====Epoch 77\n",
      "Training...\n"
     ]
    },
    {
     "name": "stderr",
     "output_type": "stream",
     "text": [
      "Iteration: 100%|██████████| 62/62 [00:01<00:00, 43.50it/s]\n",
      "Iteration:  18%|█▊        | 11/62 [00:00<00:00, 106.62it/s]"
     ]
    },
    {
     "name": "stdout",
     "output_type": "stream",
     "text": [
      "Evaluating...\n"
     ]
    },
    {
     "name": "stderr",
     "output_type": "stream",
     "text": [
      "Iteration: 100%|██████████| 62/62 [00:00<00:00, 121.81it/s]\n",
      "Iteration: 100%|██████████| 62/62 [00:00<00:00, 125.58it/s]\n",
      "Iteration: 100%|██████████| 62/62 [00:00<00:00, 126.47it/s]\n"
     ]
    },
    {
     "name": "stdout",
     "output_type": "stream",
     "text": [
      "{'Train':  best_epoch_indx:77\n",
      " auc:0.9378009148056632 \n",
      " apur:0.9216544037635808 \n",
      " f1:0.8341366950933136 \n",
      " precision:0.8104959769424763 \n",
      " recall:0.8591979630808402 \n",
      ", 'Validation':  best_epoch_indx:77\n",
      " auc:0.9378009148056632 \n",
      " apur:0.9216544037635808 \n",
      " f1:0.8341366950933136 \n",
      " precision:0.8104959769424763 \n",
      " recall:0.8591979630808402 \n",
      ", 'Test':  best_epoch_indx:77\n",
      " auc:0.9378009207607313 \n",
      " apur:0.9216544140916801 \n",
      " f1:0.8341366950933136 \n",
      " precision:0.8104959769424763 \n",
      " recall:0.8591979630808402 \n",
      "}\n",
      "=====Epoch 78\n",
      "Training...\n"
     ]
    },
    {
     "name": "stderr",
     "output_type": "stream",
     "text": [
      "Iteration: 100%|██████████| 62/62 [00:01<00:00, 46.18it/s]\n",
      "Iteration:  18%|█▊        | 11/62 [00:00<00:00, 107.35it/s]"
     ]
    },
    {
     "name": "stdout",
     "output_type": "stream",
     "text": [
      "Evaluating...\n"
     ]
    },
    {
     "name": "stderr",
     "output_type": "stream",
     "text": [
      "Iteration: 100%|██████████| 62/62 [00:00<00:00, 105.80it/s]\n",
      "Iteration: 100%|██████████| 62/62 [00:00<00:00, 126.04it/s]\n",
      "Iteration: 100%|██████████| 62/62 [00:00<00:00, 125.77it/s]\n"
     ]
    },
    {
     "name": "stdout",
     "output_type": "stream",
     "text": [
      "{'Train':  best_epoch_indx:78\n",
      " auc:0.941364641985172 \n",
      " apur:0.9259777265149662 \n",
      " f1:0.8401882295422599 \n",
      " precision:0.807945463093559 \n",
      " recall:0.8751113940165499 \n",
      ", 'Validation':  best_epoch_indx:78\n",
      " auc:0.9413646419851719 \n",
      " apur:0.9259777265150297 \n",
      " f1:0.8401882295422599 \n",
      " precision:0.807945463093559 \n",
      " recall:0.8751113940165499 \n",
      ", 'Test':  best_epoch_indx:78\n",
      " auc:0.941364641985172 \n",
      " apur:0.9259777265149662 \n",
      " f1:0.8401882295422599 \n",
      " precision:0.807945463093559 \n",
      " recall:0.8751113940165499 \n",
      "}\n",
      "=====Epoch 79\n",
      "Training...\n"
     ]
    },
    {
     "name": "stderr",
     "output_type": "stream",
     "text": [
      "Iteration: 100%|██████████| 62/62 [00:01<00:00, 46.17it/s]\n",
      "Iteration:  18%|█▊        | 11/62 [00:00<00:00, 108.95it/s]"
     ]
    },
    {
     "name": "stdout",
     "output_type": "stream",
     "text": [
      "Evaluating...\n"
     ]
    },
    {
     "name": "stderr",
     "output_type": "stream",
     "text": [
      "Iteration: 100%|██████████| 62/62 [00:00<00:00, 123.63it/s]\n",
      "Iteration: 100%|██████████| 62/62 [00:00<00:00, 108.50it/s]\n",
      "Iteration: 100%|██████████| 62/62 [00:00<00:00, 127.38it/s]\n"
     ]
    },
    {
     "name": "stdout",
     "output_type": "stream",
     "text": [
      "{'Train':  best_epoch_indx:79\n",
      " auc:0.9464884541053913 \n",
      " apur:0.9323364811810927 \n",
      " f1:0.8464973998164577 \n",
      " precision:0.8148409893992933 \n",
      " recall:0.8807129217059197 \n",
      ", 'Validation':  best_epoch_indx:79\n",
      " auc:0.9464884541053913 \n",
      " apur:0.9323364811810927 \n",
      " f1:0.8464973998164577 \n",
      " precision:0.8148409893992933 \n",
      " recall:0.8807129217059197 \n",
      ", 'Test':  best_epoch_indx:79\n",
      " auc:0.9464884541053913 \n",
      " apur:0.9323364811810927 \n",
      " f1:0.8464973998164577 \n",
      " precision:0.8148409893992933 \n",
      " recall:0.8807129217059197 \n",
      "}\n",
      "=====Epoch 80\n",
      "Training...\n"
     ]
    },
    {
     "name": "stderr",
     "output_type": "stream",
     "text": [
      "Iteration: 100%|██████████| 62/62 [00:01<00:00, 46.15it/s]\n",
      "Iteration:  18%|█▊        | 11/62 [00:00<00:00, 107.28it/s]"
     ]
    },
    {
     "name": "stdout",
     "output_type": "stream",
     "text": [
      "Evaluating...\n"
     ]
    },
    {
     "name": "stderr",
     "output_type": "stream",
     "text": [
      "Iteration: 100%|██████████| 62/62 [00:00<00:00, 122.12it/s]\n",
      "Iteration: 100%|██████████| 62/62 [00:00<00:00, 125.64it/s]\n",
      "Iteration: 100%|██████████| 62/62 [00:00<00:00, 108.17it/s]\n"
     ]
    },
    {
     "name": "stdout",
     "output_type": "stream",
     "text": [
      "{'Train':  best_epoch_indx:80\n",
      " auc:0.9477720511857167 \n",
      " apur:0.9334777795828613 \n",
      " f1:0.8477884852977513 \n",
      " precision:0.8234729389175567 \n",
      " recall:0.8735837046467219 \n",
      ", 'Validation':  best_epoch_indx:80\n",
      " auc:0.9477720511857167 \n",
      " apur:0.9334777795828613 \n",
      " f1:0.8477884852977513 \n",
      " precision:0.8234729389175567 \n",
      " recall:0.8735837046467219 \n",
      ", 'Test':  best_epoch_indx:80\n",
      " auc:0.9477720511857165 \n",
      " apur:0.9334777795828613 \n",
      " f1:0.8477884852977513 \n",
      " precision:0.8234729389175567 \n",
      " recall:0.8735837046467219 \n",
      "}\n",
      "=====Epoch 81\n",
      "Training...\n"
     ]
    },
    {
     "name": "stderr",
     "output_type": "stream",
     "text": [
      "Iteration: 100%|██████████| 62/62 [00:01<00:00, 46.16it/s]\n",
      "Iteration:  18%|█▊        | 11/62 [00:00<00:00, 106.39it/s]"
     ]
    },
    {
     "name": "stdout",
     "output_type": "stream",
     "text": [
      "Evaluating...\n"
     ]
    },
    {
     "name": "stderr",
     "output_type": "stream",
     "text": [
      "Iteration: 100%|██████████| 62/62 [00:00<00:00, 122.50it/s]\n",
      "Iteration: 100%|██████████| 62/62 [00:00<00:00, 129.39it/s]\n",
      "Iteration: 100%|██████████| 62/62 [00:00<00:00, 126.85it/s]\n"
     ]
    },
    {
     "name": "stdout",
     "output_type": "stream",
     "text": [
      "{'Train':  best_epoch_indx:81\n",
      " auc:0.9416015643725898 \n",
      " apur:0.9265868026755257 \n",
      " f1:0.8380571705426356 \n",
      " precision:0.7992376111817027 \n",
      " recall:0.8808402291534054 \n",
      ", 'Validation':  best_epoch_indx:81\n",
      " auc:0.9416015643725898 \n",
      " apur:0.9265868026755257 \n",
      " f1:0.8380571705426356 \n",
      " precision:0.7992376111817027 \n",
      " recall:0.8808402291534054 \n",
      ", 'Test':  best_epoch_indx:81\n",
      " auc:0.9416015643725898 \n",
      " apur:0.9265868026755257 \n",
      " f1:0.8380571705426356 \n",
      " precision:0.7992376111817027 \n",
      " recall:0.8808402291534054 \n",
      "}\n",
      "=====Epoch 82\n",
      "Training...\n"
     ]
    },
    {
     "name": "stderr",
     "output_type": "stream",
     "text": [
      "Iteration: 100%|██████████| 62/62 [00:01<00:00, 43.40it/s]\n",
      "Iteration:  18%|█▊        | 11/62 [00:00<00:00, 108.38it/s]"
     ]
    },
    {
     "name": "stdout",
     "output_type": "stream",
     "text": [
      "Evaluating...\n"
     ]
    },
    {
     "name": "stderr",
     "output_type": "stream",
     "text": [
      "Iteration: 100%|██████████| 62/62 [00:00<00:00, 122.01it/s]\n",
      "Iteration: 100%|██████████| 62/62 [00:00<00:00, 126.09it/s]\n",
      "Iteration: 100%|██████████| 62/62 [00:00<00:00, 126.28it/s]\n"
     ]
    },
    {
     "name": "stdout",
     "output_type": "stream",
     "text": [
      "{'Train':  best_epoch_indx:82\n",
      " auc:0.9417633397546834 \n",
      " apur:0.9264781464335685 \n",
      " f1:0.8417125382262997 \n",
      " precision:0.8100058858151854 \n",
      " recall:0.8760025461489497 \n",
      ", 'Validation':  best_epoch_indx:82\n",
      " auc:0.9417633457097515 \n",
      " apur:0.926478160793037 \n",
      " f1:0.8417125382262997 \n",
      " precision:0.8100058858151854 \n",
      " recall:0.8760025461489497 \n",
      ", 'Test':  best_epoch_indx:82\n",
      " auc:0.9417633397546834 \n",
      " apur:0.9264781464335685 \n",
      " f1:0.8417125382262997 \n",
      " precision:0.8100058858151854 \n",
      " recall:0.8760025461489497 \n",
      "}\n",
      "=====Epoch 83\n",
      "Training...\n"
     ]
    },
    {
     "name": "stderr",
     "output_type": "stream",
     "text": [
      "Iteration: 100%|██████████| 62/62 [00:01<00:00, 46.17it/s]\n",
      "Iteration:  18%|█▊        | 11/62 [00:00<00:00, 109.29it/s]"
     ]
    },
    {
     "name": "stdout",
     "output_type": "stream",
     "text": [
      "Evaluating...\n"
     ]
    },
    {
     "name": "stderr",
     "output_type": "stream",
     "text": [
      "Iteration: 100%|██████████| 62/62 [00:00<00:00, 102.80it/s]\n",
      "Iteration: 100%|██████████| 62/62 [00:00<00:00, 127.25it/s]\n",
      "Iteration: 100%|██████████| 62/62 [00:00<00:00, 126.03it/s]\n"
     ]
    },
    {
     "name": "stdout",
     "output_type": "stream",
     "text": [
      "{'Train':  best_epoch_indx:83\n",
      " auc:0.9330385038629633 \n",
      " apur:0.9155441889599037 \n",
      " f1:0.8272154245457918 \n",
      " precision:0.8037708658580521 \n",
      " recall:0.8520687460216423 \n",
      ", 'Validation':  best_epoch_indx:83\n",
      " auc:0.9330385038629633 \n",
      " apur:0.9155441889599037 \n",
      " f1:0.8272154245457918 \n",
      " precision:0.8037708658580521 \n",
      " recall:0.8520687460216423 \n",
      ", 'Test':  best_epoch_indx:83\n",
      " auc:0.9330385038629633 \n",
      " apur:0.9155441889599037 \n",
      " f1:0.8272154245457918 \n",
      " precision:0.8037708658580521 \n",
      " recall:0.8520687460216423 \n",
      "}\n",
      "=====Epoch 84\n",
      "Training...\n"
     ]
    },
    {
     "name": "stderr",
     "output_type": "stream",
     "text": [
      "Iteration: 100%|██████████| 62/62 [00:01<00:00, 46.15it/s]\n",
      "Iteration:  18%|█▊        | 11/62 [00:00<00:00, 107.62it/s]"
     ]
    },
    {
     "name": "stdout",
     "output_type": "stream",
     "text": [
      "Evaluating...\n"
     ]
    },
    {
     "name": "stderr",
     "output_type": "stream",
     "text": [
      "Iteration: 100%|██████████| 62/62 [00:00<00:00, 122.38it/s]\n",
      "Iteration: 100%|██████████| 62/62 [00:00<00:00, 107.51it/s]\n",
      "Iteration: 100%|██████████| 62/62 [00:00<00:00, 129.74it/s]\n"
     ]
    },
    {
     "name": "stdout",
     "output_type": "stream",
     "text": [
      "{'Train':  best_epoch_indx:84\n",
      " auc:0.9329463134525169 \n",
      " apur:0.9164601119737382 \n",
      " f1:0.8290264609283015 \n",
      " precision:0.8076551557594784 \n",
      " recall:0.8515595162316996 \n",
      ", 'Validation':  best_epoch_indx:84\n",
      " auc:0.9329463134525169 \n",
      " apur:0.9164601119737382 \n",
      " f1:0.8290264609283015 \n",
      " precision:0.8076551557594784 \n",
      " recall:0.8515595162316996 \n",
      ", 'Test':  best_epoch_indx:84\n",
      " auc:0.9329463134525169 \n",
      " apur:0.9164601119737382 \n",
      " f1:0.8290264609283015 \n",
      " precision:0.8076551557594784 \n",
      " recall:0.8515595162316996 \n",
      "}\n",
      "=====Epoch 85\n",
      "Training...\n"
     ]
    },
    {
     "name": "stderr",
     "output_type": "stream",
     "text": [
      "Iteration: 100%|██████████| 62/62 [00:01<00:00, 46.14it/s]\n",
      "Iteration:  18%|█▊        | 11/62 [00:00<00:00, 106.99it/s]"
     ]
    },
    {
     "name": "stdout",
     "output_type": "stream",
     "text": [
      "Evaluating...\n"
     ]
    },
    {
     "name": "stderr",
     "output_type": "stream",
     "text": [
      "Iteration: 100%|██████████| 62/62 [00:00<00:00, 122.00it/s]\n",
      "Iteration: 100%|██████████| 62/62 [00:00<00:00, 125.69it/s]\n",
      "Iteration: 100%|██████████| 62/62 [00:00<00:00, 108.12it/s]\n"
     ]
    },
    {
     "name": "stdout",
     "output_type": "stream",
     "text": [
      "{'Train':  best_epoch_indx:85\n",
      " auc:0.9337557620495296 \n",
      " apur:0.9172863528907518 \n",
      " f1:0.825872400422982 \n",
      " precision:0.7667721173775499 \n",
      " recall:0.8948440483768301 \n",
      ", 'Validation':  best_epoch_indx:85\n",
      " auc:0.9337557620495296 \n",
      " apur:0.9172863528907518 \n",
      " f1:0.825872400422982 \n",
      " precision:0.7667721173775499 \n",
      " recall:0.8948440483768301 \n",
      ", 'Test':  best_epoch_indx:85\n",
      " auc:0.9337557620495296 \n",
      " apur:0.9172863528907518 \n",
      " f1:0.825872400422982 \n",
      " precision:0.7667721173775499 \n",
      " recall:0.8948440483768301 \n",
      "}\n",
      "=====Epoch 86\n",
      "Training...\n"
     ]
    },
    {
     "name": "stderr",
     "output_type": "stream",
     "text": [
      "Iteration: 100%|██████████| 62/62 [00:01<00:00, 46.15it/s]\n",
      "Iteration:  18%|█▊        | 11/62 [00:00<00:00, 108.75it/s]"
     ]
    },
    {
     "name": "stdout",
     "output_type": "stream",
     "text": [
      "Evaluating...\n"
     ]
    },
    {
     "name": "stderr",
     "output_type": "stream",
     "text": [
      "Iteration: 100%|██████████| 62/62 [00:00<00:00, 122.99it/s]\n",
      "Iteration: 100%|██████████| 62/62 [00:00<00:00, 125.89it/s]\n",
      "Iteration: 100%|██████████| 62/62 [00:00<00:00, 125.54it/s]\n"
     ]
    },
    {
     "name": "stdout",
     "output_type": "stream",
     "text": [
      "{'Train':  best_epoch_indx:86\n",
      " auc:0.9375061329758387 \n",
      " apur:0.92207807384186 \n",
      " f1:0.833105164903547 \n",
      " precision:0.8148508825319537 \n",
      " recall:0.852196053469128 \n",
      ", 'Validation':  best_epoch_indx:86\n",
      " auc:0.9375061329758387 \n",
      " apur:0.92207807384186 \n",
      " f1:0.833105164903547 \n",
      " precision:0.8148508825319537 \n",
      " recall:0.852196053469128 \n",
      ", 'Test':  best_epoch_indx:86\n",
      " auc:0.9375061329758387 \n",
      " apur:0.92207807384186 \n",
      " f1:0.833105164903547 \n",
      " precision:0.8148508825319537 \n",
      " recall:0.852196053469128 \n",
      "}\n",
      "=====Epoch 87\n",
      "Training...\n"
     ]
    },
    {
     "name": "stderr",
     "output_type": "stream",
     "text": [
      "Iteration: 100%|██████████| 62/62 [00:01<00:00, 43.51it/s]\n",
      "Iteration:  18%|█▊        | 11/62 [00:00<00:00, 106.22it/s]"
     ]
    },
    {
     "name": "stdout",
     "output_type": "stream",
     "text": [
      "Evaluating...\n"
     ]
    },
    {
     "name": "stderr",
     "output_type": "stream",
     "text": [
      "Iteration: 100%|██████████| 62/62 [00:00<00:00, 121.53it/s]\n",
      "Iteration: 100%|██████████| 62/62 [00:00<00:00, 122.62it/s]\n",
      "Iteration: 100%|██████████| 62/62 [00:00<00:00, 125.38it/s]\n"
     ]
    },
    {
     "name": "stdout",
     "output_type": "stream",
     "text": [
      "{'Train':  best_epoch_indx:87\n",
      " auc:0.9504921238566046 \n",
      " apur:0.9373715377635868 \n",
      " f1:0.8523420973103657 \n",
      " precision:0.8113924050632911 \n",
      " recall:0.8976448122215149 \n",
      ", 'Validation':  best_epoch_indx:87\n",
      " auc:0.9504921238566046 \n",
      " apur:0.9373715377635868 \n",
      " f1:0.8523420973103657 \n",
      " precision:0.8113924050632911 \n",
      " recall:0.8976448122215149 \n",
      ", 'Test':  best_epoch_indx:87\n",
      " auc:0.9504921238566046 \n",
      " apur:0.9373715377635868 \n",
      " f1:0.8523420973103657 \n",
      " precision:0.8113924050632911 \n",
      " recall:0.8976448122215149 \n",
      "}\n",
      "=====Epoch 88\n",
      "Training...\n"
     ]
    },
    {
     "name": "stderr",
     "output_type": "stream",
     "text": [
      "Iteration: 100%|██████████| 62/62 [00:01<00:00, 46.15it/s]\n",
      "Iteration:  18%|█▊        | 11/62 [00:00<00:00, 108.05it/s]"
     ]
    },
    {
     "name": "stdout",
     "output_type": "stream",
     "text": [
      "Evaluating...\n"
     ]
    },
    {
     "name": "stderr",
     "output_type": "stream",
     "text": [
      "Iteration: 100%|██████████| 62/62 [00:00<00:00, 112.30it/s]\n",
      "Iteration: 100%|██████████| 62/62 [00:00<00:00, 140.74it/s]\n",
      "Iteration: 100%|██████████| 62/62 [00:00<00:00, 144.19it/s]\n",
      "Iteration:   0%|          | 0/62 [00:00<?, ?it/s]"
     ]
    },
    {
     "name": "stdout",
     "output_type": "stream",
     "text": [
      "{'Train':  best_epoch_indx:88\n",
      " auc:0.9525741407476791 \n",
      " apur:0.9396168012515935 \n",
      " f1:0.8562163485070974 \n",
      " precision:0.8242431381788197 \n",
      " recall:0.8907702100572884 \n",
      ", 'Validation':  best_epoch_indx:88\n",
      " auc:0.9525741407476791 \n",
      " apur:0.9396168012515935 \n",
      " f1:0.8562163485070974 \n",
      " precision:0.8242431381788197 \n",
      " recall:0.8907702100572884 \n",
      ", 'Test':  best_epoch_indx:88\n",
      " auc:0.9525741407476791 \n",
      " apur:0.9396168012515935 \n",
      " f1:0.8562163485070974 \n",
      " precision:0.8242431381788197 \n",
      " recall:0.8907702100572884 \n",
      "}\n",
      "=====Epoch 89\n",
      "Training...\n"
     ]
    },
    {
     "name": "stderr",
     "output_type": "stream",
     "text": [
      "Iteration: 100%|██████████| 62/62 [00:01<00:00, 46.49it/s]\n",
      "Iteration:   0%|          | 0/62 [00:00<?, ?it/s]"
     ]
    },
    {
     "name": "stdout",
     "output_type": "stream",
     "text": [
      "Evaluating...\n"
     ]
    },
    {
     "name": "stderr",
     "output_type": "stream",
     "text": [
      "Iteration: 100%|██████████| 62/62 [00:00<00:00, 138.52it/s]\n",
      "Iteration: 100%|██████████| 62/62 [00:00<00:00, 124.02it/s]\n",
      "Iteration: 100%|██████████| 62/62 [00:00<00:00, 143.21it/s]\n",
      "Iteration:   0%|          | 0/62 [00:00<?, ?it/s]"
     ]
    },
    {
     "name": "stdout",
     "output_type": "stream",
     "text": [
      "{'Train':  best_epoch_indx:89\n",
      " auc:0.9580618551740518 \n",
      " apur:0.9464534760385018 \n",
      " f1:0.8651781356759395 \n",
      " precision:0.8306196556167272 \n",
      " recall:0.902737110120942 \n",
      ", 'Validation':  best_epoch_indx:89\n",
      " auc:0.9580618551740518 \n",
      " apur:0.9464534760385018 \n",
      " f1:0.8651781356759395 \n",
      " precision:0.8306196556167272 \n",
      " recall:0.902737110120942 \n",
      ", 'Test':  best_epoch_indx:89\n",
      " auc:0.9580618551740518 \n",
      " apur:0.9464534760385018 \n",
      " f1:0.8651781356759395 \n",
      " precision:0.8306196556167272 \n",
      " recall:0.902737110120942 \n",
      "}\n",
      "=====Epoch 90\n",
      "Training...\n"
     ]
    },
    {
     "name": "stderr",
     "output_type": "stream",
     "text": [
      "Iteration: 100%|██████████| 62/62 [00:01<00:00, 46.49it/s]\n",
      "Iteration:   0%|          | 0/62 [00:00<?, ?it/s]"
     ]
    },
    {
     "name": "stdout",
     "output_type": "stream",
     "text": [
      "Evaluating...\n"
     ]
    },
    {
     "name": "stderr",
     "output_type": "stream",
     "text": [
      "Iteration: 100%|██████████| 62/62 [00:00<00:00, 137.72it/s]\n",
      "Iteration: 100%|██████████| 62/62 [00:00<00:00, 144.70it/s]\n",
      "Iteration: 100%|██████████| 62/62 [00:00<00:00, 124.00it/s]\n",
      "Iteration:   0%|          | 0/62 [00:00<?, ?it/s]"
     ]
    },
    {
     "name": "stdout",
     "output_type": "stream",
     "text": [
      "{'Train':  best_epoch_indx:90\n",
      " auc:0.9569197445585415 \n",
      " apur:0.945033226016045 \n",
      " f1:0.8614363307181654 \n",
      " precision:0.8189328743545611 \n",
      " recall:0.9085932527052832 \n",
      ", 'Validation':  best_epoch_indx:90\n",
      " auc:0.9569197445585415 \n",
      " apur:0.945033226016045 \n",
      " f1:0.8614363307181654 \n",
      " precision:0.8189328743545611 \n",
      " recall:0.9085932527052832 \n",
      ", 'Test':  best_epoch_indx:90\n",
      " auc:0.9569197445585415 \n",
      " apur:0.945033226016045 \n",
      " f1:0.8614363307181654 \n",
      " precision:0.8189328743545611 \n",
      " recall:0.9085932527052832 \n",
      "}\n",
      "=====Epoch 91\n",
      "Training...\n"
     ]
    },
    {
     "name": "stderr",
     "output_type": "stream",
     "text": [
      "Iteration: 100%|██████████| 62/62 [00:01<00:00, 46.49it/s]\n",
      "Iteration:   0%|          | 0/62 [00:00<?, ?it/s]"
     ]
    },
    {
     "name": "stdout",
     "output_type": "stream",
     "text": [
      "Evaluating...\n"
     ]
    },
    {
     "name": "stderr",
     "output_type": "stream",
     "text": [
      "Iteration: 100%|██████████| 62/62 [00:00<00:00, 139.16it/s]\n",
      "Iteration: 100%|██████████| 62/62 [00:00<00:00, 143.51it/s]\n",
      "Iteration: 100%|██████████| 62/62 [00:00<00:00, 143.34it/s]\n",
      "Iteration:   0%|          | 0/62 [00:00<?, ?it/s]"
     ]
    },
    {
     "name": "stdout",
     "output_type": "stream",
     "text": [
      "{'Train':  best_epoch_indx:91\n",
      " auc:0.9543277832693431 \n",
      " apur:0.9422391661196081 \n",
      " f1:0.8606664590470259 \n",
      " precision:0.8425609756097561 \n",
      " recall:0.8795671546785487 \n",
      ", 'Validation':  best_epoch_indx:91\n",
      " auc:0.9543277832693431 \n",
      " apur:0.9422391661196081 \n",
      " f1:0.8606664590470259 \n",
      " precision:0.8425609756097561 \n",
      " recall:0.8795671546785487 \n",
      ", 'Test':  best_epoch_indx:91\n",
      " auc:0.9543277832693431 \n",
      " apur:0.9422391661196081 \n",
      " f1:0.8606664590470259 \n",
      " precision:0.8425609756097561 \n",
      " recall:0.8795671546785487 \n",
      "}\n",
      "=====Epoch 92\n",
      "Training...\n"
     ]
    },
    {
     "name": "stderr",
     "output_type": "stream",
     "text": [
      "Iteration: 100%|██████████| 62/62 [00:01<00:00, 44.59it/s]\n",
      "Iteration:   0%|          | 0/62 [00:00<?, ?it/s]"
     ]
    },
    {
     "name": "stdout",
     "output_type": "stream",
     "text": [
      "Evaluating...\n"
     ]
    },
    {
     "name": "stderr",
     "output_type": "stream",
     "text": [
      "Iteration: 100%|██████████| 62/62 [00:00<00:00, 138.51it/s]\n",
      "Iteration: 100%|██████████| 62/62 [00:00<00:00, 142.78it/s]\n",
      "Iteration: 100%|██████████| 62/62 [00:00<00:00, 143.87it/s]\n",
      "Iteration:   0%|          | 0/62 [00:00<?, ?it/s]"
     ]
    },
    {
     "name": "stdout",
     "output_type": "stream",
     "text": [
      "{'Train':  best_epoch_indx:92\n",
      " auc:0.9482050799232677 \n",
      " apur:0.9343311074611437 \n",
      " f1:0.8507814438104689 \n",
      " precision:0.8294836134961906 \n",
      " recall:0.8732017823042648 \n",
      ", 'Validation':  best_epoch_indx:92\n",
      " auc:0.9482050799232677 \n",
      " apur:0.9343311074611437 \n",
      " f1:0.8507814438104689 \n",
      " precision:0.8294836134961906 \n",
      " recall:0.8732017823042648 \n",
      ", 'Test':  best_epoch_indx:92\n",
      " auc:0.9482050799232677 \n",
      " apur:0.9343311074611437 \n",
      " f1:0.8507814438104689 \n",
      " precision:0.8294836134961906 \n",
      " recall:0.8732017823042648 \n",
      "}\n",
      "=====Epoch 93\n",
      "Training...\n"
     ]
    },
    {
     "name": "stderr",
     "output_type": "stream",
     "text": [
      "Iteration: 100%|██████████| 62/62 [00:01<00:00, 46.51it/s]\n",
      "Iteration:   0%|          | 0/62 [00:00<?, ?it/s]"
     ]
    },
    {
     "name": "stdout",
     "output_type": "stream",
     "text": [
      "Evaluating...\n"
     ]
    },
    {
     "name": "stderr",
     "output_type": "stream",
     "text": [
      "Iteration: 100%|██████████| 62/62 [00:00<00:00, 117.41it/s]\n",
      "Iteration: 100%|██████████| 62/62 [00:00<00:00, 140.46it/s]\n",
      "Iteration: 100%|██████████| 62/62 [00:00<00:00, 144.20it/s]\n",
      "Iteration:   0%|          | 0/62 [00:00<?, ?it/s]"
     ]
    },
    {
     "name": "stdout",
     "output_type": "stream",
     "text": [
      "{'Train':  best_epoch_indx:93\n",
      " auc:0.9462463805840005 \n",
      " apur:0.9309514345251368 \n",
      " f1:0.8486967187979148 \n",
      " precision:0.8188165680473373 \n",
      " recall:0.8808402291534054 \n",
      ", 'Validation':  best_epoch_indx:93\n",
      " auc:0.9462463805840005 \n",
      " apur:0.9309514345251368 \n",
      " f1:0.8486967187979148 \n",
      " precision:0.8188165680473373 \n",
      " recall:0.8808402291534054 \n",
      ", 'Test':  best_epoch_indx:93\n",
      " auc:0.9462463805840005 \n",
      " apur:0.9309514345251368 \n",
      " f1:0.8486967187979148 \n",
      " precision:0.8188165680473373 \n",
      " recall:0.8808402291534054 \n",
      "}\n",
      "=====Epoch 94\n",
      "Training...\n"
     ]
    },
    {
     "name": "stderr",
     "output_type": "stream",
     "text": [
      "Iteration: 100%|██████████| 62/62 [00:01<00:00, 46.49it/s]\n",
      "Iteration:   0%|          | 0/62 [00:00<?, ?it/s]"
     ]
    },
    {
     "name": "stdout",
     "output_type": "stream",
     "text": [
      "Evaluating...\n"
     ]
    },
    {
     "name": "stderr",
     "output_type": "stream",
     "text": [
      "Iteration: 100%|██████████| 62/62 [00:00<00:00, 137.83it/s]\n",
      "Iteration: 100%|██████████| 62/62 [00:00<00:00, 121.61it/s]\n",
      "Iteration: 100%|██████████| 62/62 [00:00<00:00, 143.21it/s]\n",
      "Iteration:   0%|          | 0/62 [00:00<?, ?it/s]"
     ]
    },
    {
     "name": "stdout",
     "output_type": "stream",
     "text": [
      "{'Train':  best_epoch_indx:94\n",
      " auc:0.9411581738164108 \n",
      " apur:0.9255463064932792 \n",
      " f1:0.8407737181455327 \n",
      " precision:0.8120996441281139 \n",
      " recall:0.871546785486951 \n",
      ", 'Validation':  best_epoch_indx:94\n",
      " auc:0.9411581738164108 \n",
      " apur:0.9255463064932792 \n",
      " f1:0.8407737181455327 \n",
      " precision:0.8120996441281139 \n",
      " recall:0.871546785486951 \n",
      ", 'Test':  best_epoch_indx:94\n",
      " auc:0.9411581738164108 \n",
      " apur:0.9255463064932792 \n",
      " f1:0.8407737181455327 \n",
      " precision:0.8120996441281139 \n",
      " recall:0.871546785486951 \n",
      "}\n",
      "=====Epoch 95\n",
      "Training...\n"
     ]
    },
    {
     "name": "stderr",
     "output_type": "stream",
     "text": [
      "Iteration: 100%|██████████| 62/62 [00:01<00:00, 46.51it/s]\n",
      "Iteration:   0%|          | 0/62 [00:00<?, ?it/s]"
     ]
    },
    {
     "name": "stdout",
     "output_type": "stream",
     "text": [
      "Evaluating...\n"
     ]
    },
    {
     "name": "stderr",
     "output_type": "stream",
     "text": [
      "Iteration: 100%|██████████| 62/62 [00:00<00:00, 138.95it/s]\n",
      "Iteration: 100%|██████████| 62/62 [00:00<00:00, 144.23it/s]\n",
      "Iteration: 100%|██████████| 62/62 [00:00<00:00, 123.87it/s]\n",
      "Iteration:   0%|          | 0/62 [00:00<?, ?it/s]"
     ]
    },
    {
     "name": "stdout",
     "output_type": "stream",
     "text": [
      "{'Train':  best_epoch_indx:95\n",
      " auc:0.946079519573684 \n",
      " apur:0.931475868161771 \n",
      " f1:0.8503640472006025 \n",
      " precision:0.8386777268787916 \n",
      " recall:0.8623806492679822 \n",
      ", 'Validation':  best_epoch_indx:95\n",
      " auc:0.946079519573684 \n",
      " apur:0.9314758681617707 \n",
      " f1:0.8503640472006025 \n",
      " precision:0.8386777268787916 \n",
      " recall:0.8623806492679822 \n",
      ", 'Test':  best_epoch_indx:95\n",
      " auc:0.946079519573684 \n",
      " apur:0.9314758681617707 \n",
      " f1:0.8503640472006025 \n",
      " precision:0.8386777268787916 \n",
      " recall:0.8623806492679822 \n",
      "}\n",
      "=====Epoch 96\n",
      "Training...\n"
     ]
    },
    {
     "name": "stderr",
     "output_type": "stream",
     "text": [
      "Iteration: 100%|██████████| 62/62 [00:01<00:00, 46.49it/s]\n",
      "Iteration:   0%|          | 0/62 [00:00<?, ?it/s]"
     ]
    },
    {
     "name": "stdout",
     "output_type": "stream",
     "text": [
      "Evaluating...\n"
     ]
    },
    {
     "name": "stderr",
     "output_type": "stream",
     "text": [
      "Iteration: 100%|██████████| 62/62 [00:00<00:00, 138.01it/s]\n",
      "Iteration: 100%|██████████| 62/62 [00:00<00:00, 143.40it/s]\n",
      "Iteration: 100%|██████████| 62/62 [00:00<00:00, 142.90it/s]\n",
      "Iteration:   0%|          | 0/62 [00:00<?, ?it/s]"
     ]
    },
    {
     "name": "stdout",
     "output_type": "stream",
     "text": [
      "{'Train':  best_epoch_indx:96\n",
      " auc:0.949817134743958 \n",
      " apur:0.9359988953603877 \n",
      " f1:0.853269829639128 \n",
      " precision:0.8198779629195024 \n",
      " recall:0.8894971355824316 \n",
      ", 'Validation':  best_epoch_indx:96\n",
      " auc:0.949817134743958 \n",
      " apur:0.9359988953605771 \n",
      " f1:0.853269829639128 \n",
      " precision:0.8198779629195024 \n",
      " recall:0.8894971355824316 \n",
      ", 'Test':  best_epoch_indx:96\n",
      " auc:0.9498171347439581 \n",
      " apur:0.9359988953603877 \n",
      " f1:0.853269829639128 \n",
      " precision:0.8198779629195024 \n",
      " recall:0.8894971355824316 \n",
      "}\n",
      "=====Epoch 97\n",
      "Training...\n"
     ]
    },
    {
     "name": "stderr",
     "output_type": "stream",
     "text": [
      "Iteration: 100%|██████████| 62/62 [00:01<00:00, 44.53it/s]\n",
      "Iteration:   0%|          | 0/62 [00:00<?, ?it/s]"
     ]
    },
    {
     "name": "stdout",
     "output_type": "stream",
     "text": [
      "Evaluating...\n"
     ]
    },
    {
     "name": "stderr",
     "output_type": "stream",
     "text": [
      "Iteration: 100%|██████████| 62/62 [00:00<00:00, 136.66it/s]\n",
      "Iteration: 100%|██████████| 62/62 [00:00<00:00, 142.45it/s]\n",
      "Iteration: 100%|██████████| 62/62 [00:00<00:00, 143.72it/s]\n",
      "Iteration:   0%|          | 0/62 [00:00<?, ?it/s]"
     ]
    },
    {
     "name": "stdout",
     "output_type": "stream",
     "text": [
      "{'Train':  best_epoch_indx:97\n",
      " auc:0.9531650383425998 \n",
      " apur:0.9415427630449614 \n",
      " f1:0.857377463365336 \n",
      " precision:0.8508211106932431 \n",
      " recall:0.864035646085296 \n",
      ", 'Validation':  best_epoch_indx:97\n",
      " auc:0.9531650383425998 \n",
      " apur:0.9415427630449614 \n",
      " f1:0.857377463365336 \n",
      " precision:0.8508211106932431 \n",
      " recall:0.864035646085296 \n",
      ", 'Test':  best_epoch_indx:97\n",
      " auc:0.9531650383425998 \n",
      " apur:0.9415427630449614 \n",
      " f1:0.857377463365336 \n",
      " precision:0.8508211106932431 \n",
      " recall:0.864035646085296 \n",
      "}\n",
      "=====Epoch 98\n",
      "Training...\n"
     ]
    },
    {
     "name": "stderr",
     "output_type": "stream",
     "text": [
      "Iteration: 100%|██████████| 62/62 [00:01<00:00, 46.47it/s]\n",
      "Iteration:   0%|          | 0/62 [00:00<?, ?it/s]"
     ]
    },
    {
     "name": "stdout",
     "output_type": "stream",
     "text": [
      "Evaluating...\n"
     ]
    },
    {
     "name": "stderr",
     "output_type": "stream",
     "text": [
      "Iteration: 100%|██████████| 62/62 [00:00<00:00, 120.45it/s]\n",
      "Iteration: 100%|██████████| 62/62 [00:00<00:00, 142.71it/s]\n",
      "Iteration: 100%|██████████| 62/62 [00:00<00:00, 143.84it/s]\n",
      "Iteration:   0%|          | 0/62 [00:00<?, ?it/s]"
     ]
    },
    {
     "name": "stdout",
     "output_type": "stream",
     "text": [
      "{'Train':  best_epoch_indx:98\n",
      " auc:0.960882443440698 \n",
      " apur:0.949726738735913 \n",
      " f1:0.8701251366784108 \n",
      " precision:0.8321133960729639 \n",
      " recall:0.9117759388924253 \n",
      ", 'Validation':  best_epoch_indx:98\n",
      " auc:0.960882443440698 \n",
      " apur:0.949726738735913 \n",
      " f1:0.8701251366784108 \n",
      " precision:0.8321133960729639 \n",
      " recall:0.9117759388924253 \n",
      ", 'Test':  best_epoch_indx:98\n",
      " auc:0.960882443440698 \n",
      " apur:0.949726738735913 \n",
      " f1:0.8701251366784108 \n",
      " precision:0.8321133960729639 \n",
      " recall:0.9117759388924253 \n",
      "}\n",
      "=====Epoch 99\n",
      "Training...\n"
     ]
    },
    {
     "name": "stderr",
     "output_type": "stream",
     "text": [
      "Iteration: 100%|██████████| 62/62 [00:01<00:00, 46.50it/s]\n",
      "Iteration:   0%|          | 0/62 [00:00<?, ?it/s]"
     ]
    },
    {
     "name": "stdout",
     "output_type": "stream",
     "text": [
      "Evaluating...\n"
     ]
    },
    {
     "name": "stderr",
     "output_type": "stream",
     "text": [
      "Iteration: 100%|██████████| 62/62 [00:00<00:00, 138.16it/s]\n",
      "Iteration: 100%|██████████| 62/62 [00:00<00:00, 124.76it/s]\n",
      "Iteration: 100%|██████████| 62/62 [00:00<00:00, 141.27it/s]\n"
     ]
    },
    {
     "name": "stdout",
     "output_type": "stream",
     "text": [
      "{'Train':  best_epoch_indx:99\n",
      " auc:0.965055945781248 \n",
      " apur:0.9550283097230822 \n",
      " f1:0.8763741325308603 \n",
      " precision:0.8465828191741813 \n",
      " recall:0.9083386378103119 \n",
      ", 'Validation':  best_epoch_indx:99\n",
      " auc:0.965055945781248 \n",
      " apur:0.9550283097230822 \n",
      " f1:0.8763741325308603 \n",
      " precision:0.8465828191741813 \n",
      " recall:0.9083386378103119 \n",
      ", 'Test':  best_epoch_indx:99\n",
      " auc:0.965055945781248 \n",
      " apur:0.9550283097230822 \n",
      " f1:0.8763741325308603 \n",
      " precision:0.8465828191741813 \n",
      " recall:0.9083386378103119 \n",
      "}\n",
      "Finished training!\n",
      "<<< joined hyperparam search process\n",
      "released_gpu_num: 0\n"
     ]
    }
   ],
   "source": [
    "import torch.multiprocessing as mp\n",
    "mp.set_start_method(\"spawn\", force=True)\n",
    "\n",
    "queue = mp.Queue()\n",
    "q_processes = []\n",
    "\n",
    "# partition = fold_partitions[0]\n",
    "time_stamp = datetime.datetime.now().strftime('%Y-%m-%d_%H-%M-%S')\n",
    "\n",
    "print(\"Start: \" + time_stamp)\n",
    "\n",
    "for q_i in range(min(n_gpu, len(fold_partitions))):\n",
    "#     device_gpu = get_device(True, index=q_i)\n",
    "    partition = fold_partitions[q_i]\n",
    "    exp_dir = create_directory(os.path.join(targetdata_dir_exp, \"fold_\"+str(q_i)+\"_\"+time_stamp))\n",
    "    create_directory(os.path.join(exp_dir, \"predictions\"))\n",
    "\n",
    "#     tphp = generate_tp_hp(tp, hyperparam_space[q_i], hp_names)\n",
    "    \n",
    "    q_process = create_q_process(queue, dataset, q_i, tp, exp_dir, partition)\n",
    "    q_processes.append(q_process)\n",
    "    spawn_q_process(q_process)\n",
    "\n",
    "spawned_processes = n_gpu\n",
    "    \n",
    "# for q_i in range(len(hyperparam_space)):\n",
    "for q_i in range(min(n_gpu, len(fold_partitions))):\n",
    "    join_q_process(q_processes[q_i])\n",
    "    released_gpu_num = queue.get()\n",
    "    print(\"released_gpu_num:\", released_gpu_num)\n",
    "#     if(spawned_processes < len(hyperparam_space)):\n",
    "# #         device_gpu = get_device(True, index=q_i)\n",
    "#         time_stamp = datetime.datetime.now().strftime('%Y-%m-%d_%H-%M-%S')\n",
    "#         exp_dir = create_directory(os.path.join(targetdata_dir_exp, \"exp_\"+str(q_i)+\"_\"+time_stamp))\n",
    "#         tphp = generate_tp_hp(tp, hyperparam_space[q_i], hp_names)\n",
    "\n",
    "#         q_process = create_q_process(queue, used_dataset, released_gpu_num, tphp, exp_dir, partition)\n",
    "#         q_processes.append(q_process)\n",
    "#         spawn_q_process(q_process)\n",
    "#         spawned_processes = spawned_processes + 1"
   ]
  },
  {
   "cell_type": "code",
   "execution_count": 57,
   "metadata": {},
   "outputs": [
    {
     "name": "stdout",
     "output_type": "stream",
     "text": [
      "End: 2022-03-24_13-51-08\n"
     ]
    }
   ],
   "source": [
    "print(\"End: \" + datetime.datetime.now().strftime('%Y-%m-%d_%H-%M-%S'))\n"
   ]
  },
  {
   "cell_type": "code",
   "execution_count": null,
   "metadata": {},
   "outputs": [],
   "source": []
  }
 ],
 "metadata": {
  "kernelspec": {
   "display_name": "Python 3 (ipykernel)",
   "language": "python",
   "name": "python3"
  },
  "language_info": {
   "codemirror_mode": {
    "name": "ipython",
    "version": 3
   },
   "file_extension": ".py",
   "mimetype": "text/x-python",
   "name": "python",
   "nbconvert_exporter": "python",
   "pygments_lexer": "ipython3",
   "version": "3.9.9"
  }
 },
 "nbformat": 4,
 "nbformat_minor": 4
}
