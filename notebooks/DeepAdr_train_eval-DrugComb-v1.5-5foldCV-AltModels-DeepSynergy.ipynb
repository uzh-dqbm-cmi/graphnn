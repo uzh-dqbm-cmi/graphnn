{
 "cells": [
  {
   "cell_type": "code",
   "execution_count": 1,
   "metadata": {
    "scrolled": false
   },
   "outputs": [],
   "source": [
    "%load_ext autoreload\n",
    "%autoreload 2"
   ]
  },
  {
   "cell_type": "code",
   "execution_count": 2,
   "metadata": {},
   "outputs": [],
   "source": [
    "import os\n",
    "import sys\n",
    "import numpy as np\n",
    "import pandas as pd\n",
    "import datetime\n",
    "import seaborn as sns\n",
    "import ogb\n",
    "from tqdm import tqdm\n",
    "import hiplot as hip\n",
    "from copy import deepcopy\n",
    "import datetime"
   ]
  },
  {
   "cell_type": "code",
   "execution_count": 3,
   "metadata": {},
   "outputs": [],
   "source": [
    "import torch\n",
    "from torch_geometric.data import Data\n",
    "from torch_geometric.loader import DataLoader\n",
    "from torch.utils.data import Subset, TensorDataset"
   ]
  },
  {
   "cell_type": "code",
   "execution_count": 4,
   "metadata": {},
   "outputs": [
    {
     "name": "stdout",
     "output_type": "stream",
     "text": [
      "/cluster/home/skyriakos/chemprop_run/git/notebooks\n"
     ]
    }
   ],
   "source": [
    "cwd = os.getcwd()\n",
    "print(cwd)"
   ]
  },
  {
   "cell_type": "code",
   "execution_count": 5,
   "metadata": {},
   "outputs": [],
   "source": [
    "os.chdir('..')\n",
    "import deepadr\n",
    "from deepadr.dataset import *\n",
    "from deepadr.utilities import *\n",
    "from deepadr.run_workflow import *\n",
    "from deepadr.chemfeatures import *\n",
    "from deepadr.hyphelperflat import *\n",
    "# from deepadr.model_gnn import GCN as testGCN\n",
    "from deepadr.model_gnn_ogb import GNN, DeepAdr_SiameseTrf, ExpressionNN\n",
    "# from deepadr.model_attn_siamese import *\n",
    "from ogb.graphproppred import Evaluator\n",
    "os.chdir(cwd)"
   ]
  },
  {
   "cell_type": "code",
   "execution_count": 6,
   "metadata": {},
   "outputs": [],
   "source": [
    "from rdkit.Chem.Draw import IPythonConsole\n",
    "from rdkit.Chem import Draw"
   ]
  },
  {
   "cell_type": "code",
   "execution_count": 7,
   "metadata": {},
   "outputs": [],
   "source": [
    "# from tdc.single_pred import Tox\n",
    "# from tdc.multi_pred import DDI"
   ]
  },
  {
   "cell_type": "code",
   "execution_count": 8,
   "metadata": {},
   "outputs": [],
   "source": [
    "rawdata_dir = '../data/raw/'\n",
    "processed_dir = '../data/processed/'\n",
    "up_dir = '..'"
   ]
  },
  {
   "cell_type": "code",
   "execution_count": 9,
   "metadata": {
    "scrolled": true
   },
   "outputs": [
    {
     "name": "stdout",
     "output_type": "stream",
     "text": [
      "number of GPUs available: 8\n",
      "cuda:0, name:GeForce GTX 1080 Ti\n",
      "total memory available: 10.91650390625 GB\n",
      "total memory allocated on device: 0.0 GB\n",
      "max memory allocated on device: 0.0 GB\n",
      "total memory cached on device: 0.0 GB\n",
      "max memory cached  on device: 0.0 GB\n",
      "\n",
      "cuda:1, name:GeForce GTX 1080 Ti\n",
      "total memory available: 10.91650390625 GB\n",
      "total memory allocated on device: 0.0 GB\n",
      "max memory allocated on device: 0.0 GB\n",
      "total memory cached on device: 0.0 GB\n",
      "max memory cached  on device: 0.0 GB\n",
      "\n",
      "cuda:2, name:GeForce GTX 1080 Ti\n",
      "total memory available: 10.91650390625 GB\n",
      "total memory allocated on device: 0.0 GB\n",
      "max memory allocated on device: 0.0 GB\n",
      "total memory cached on device: 0.0 GB\n",
      "max memory cached  on device: 0.0 GB\n",
      "\n",
      "cuda:3, name:GeForce GTX 1080 Ti\n",
      "total memory available: 10.91650390625 GB\n",
      "total memory allocated on device: 0.0 GB\n",
      "max memory allocated on device: 0.0 GB\n",
      "total memory cached on device: 0.0 GB\n",
      "max memory cached  on device: 0.0 GB\n",
      "\n",
      "cuda:4, name:GeForce GTX 1080 Ti\n",
      "total memory available: 10.91650390625 GB\n",
      "total memory allocated on device: 0.0 GB\n",
      "max memory allocated on device: 0.0 GB\n",
      "total memory cached on device: 0.0 GB\n",
      "max memory cached  on device: 0.0 GB\n",
      "\n",
      "cuda:5, name:GeForce GTX 1080 Ti\n",
      "total memory available: 10.91650390625 GB\n",
      "total memory allocated on device: 0.0 GB\n",
      "max memory allocated on device: 0.0 GB\n",
      "total memory cached on device: 0.0 GB\n",
      "max memory cached  on device: 0.0 GB\n",
      "\n",
      "cuda:6, name:GeForce GTX 1080 Ti\n",
      "total memory available: 10.91650390625 GB\n",
      "total memory allocated on device: 0.0 GB\n",
      "max memory allocated on device: 0.0 GB\n",
      "total memory cached on device: 0.0 GB\n",
      "max memory cached  on device: 0.0 GB\n",
      "\n",
      "cuda:7, name:GeForce GTX 1080 Ti\n",
      "total memory available: 10.91650390625 GB\n",
      "total memory allocated on device: 0.0 GB\n",
      "max memory allocated on device: 0.0 GB\n",
      "total memory cached on device: 0.0 GB\n",
      "max memory cached  on device: 0.0 GB\n",
      "\n"
     ]
    }
   ],
   "source": [
    "report_available_cuda_devices()"
   ]
  },
  {
   "cell_type": "code",
   "execution_count": 10,
   "metadata": {},
   "outputs": [
    {
     "data": {
      "text/plain": [
       "8"
      ]
     },
     "execution_count": 10,
     "metadata": {},
     "output_type": "execute_result"
    }
   ],
   "source": [
    "n_gpu = torch.cuda.device_count()\n",
    "n_gpu"
   ]
  },
  {
   "cell_type": "code",
   "execution_count": 11,
   "metadata": {},
   "outputs": [],
   "source": [
    "device_cpu = get_device(to_gpu=False)\n",
    "# device_gpu = get_device(True, index=0)\n",
    "\n",
    "# fdtype = torch.float32"
   ]
  },
  {
   "cell_type": "code",
   "execution_count": 12,
   "metadata": {},
   "outputs": [
    {
     "name": "stdout",
     "output_type": "stream",
     "text": [
      "torch: 1.9.1\n",
      "CUDA: 11.1\n",
      "3.9.9 | packaged by conda-forge | (main, Dec 20 2021, 02:41:03) \n",
      "[GCC 9.4.0]\n"
     ]
    }
   ],
   "source": [
    "print(\"torch:\", torch.__version__)\n",
    "print(\"CUDA:\", torch.version.cuda)\n",
    "print(sys.version)"
   ]
  },
  {
   "cell_type": "code",
   "execution_count": 13,
   "metadata": {},
   "outputs": [],
   "source": [
    "# print(torch.cuda.memory_summary(device=device_gpu))"
   ]
  },
  {
   "cell_type": "markdown",
   "metadata": {},
   "source": [
    "### Preparing dataset "
   ]
  },
  {
   "cell_type": "code",
   "execution_count": 14,
   "metadata": {},
   "outputs": [],
   "source": [
    "score = 'total_thresh' #'total_thresh'\n",
    "score_val = 2"
   ]
  },
  {
   "cell_type": "code",
   "execution_count": 15,
   "metadata": {},
   "outputs": [],
   "source": [
    "# v_1: GNN\n",
    "# v_2: Alt Models"
   ]
  },
  {
   "cell_type": "code",
   "execution_count": 16,
   "metadata": {},
   "outputs": [],
   "source": [
    "# TDC Tox\n",
    "# DSdataset_name = 'SynergxZloewe' #'OncoPolyPharmacology' #'DrugComb'\n",
    "DSdataset_name = f'DrugComb_{score}_{score_val}' #'DrugComb'\n",
    "\n",
    "\n",
    "#fname_suffix = ds_config[\"fname_suffix\"]\n",
    "# similarity_types = ['chem']\n",
    "# kernel_option = 'sqeuclidean'\n",
    "data_fname = 'data_v2'\n",
    "# interact_matfname = ds_config[\"interact_matfname\"]\n",
    "# exp_iden = 'simtypeall'\n",
    "# ddi_interaction_labels_pth = ds_config[\"ddi_interaction_labels_pth\"]\n",
    "\n",
    "# up_dir, processed_dir, DSdataset_name, data_fname"
   ]
  },
  {
   "cell_type": "code",
   "execution_count": 17,
   "metadata": {
    "scrolled": true
   },
   "outputs": [
    {
     "name": "stdout",
     "output_type": "stream",
     "text": [
      "path_current_dir /cluster/home/skyriakos/chemprop_run/git/deepadr\n",
      "path_current_dir /cluster/home/skyriakos/chemprop_run/git/deepadr\n",
      "path_current_dir /cluster/home/skyriakos/chemprop_run/git/deepadr\n",
      "path_current_dir /cluster/home/skyriakos/chemprop_run/git/deepadr\n",
      "/cluster/home/skyriakos/chemprop_run/git/data/processed/DrugComb_total_thresh_2/data_v2\n"
     ]
    }
   ],
   "source": [
    "targetdata_dir = create_directory(os.path.join(processed_dir, DSdataset_name, data_fname))\n",
    "targetdata_dir_raw = create_directory(os.path.join(targetdata_dir, \"raw\"))\n",
    "targetdata_dir_processed = create_directory(os.path.join(targetdata_dir, \"processed\"))\n",
    "targetdata_dir_exp = create_directory(os.path.join(targetdata_dir, \"experiments\"))\n",
    "# # ReaderWriter.dump_data(dpartitions, os.path.join(targetdata_dir, 'data_partitions.pkl'))\n",
    "print(targetdata_dir)"
   ]
  },
  {
   "cell_type": "code",
   "execution_count": 18,
   "metadata": {},
   "outputs": [],
   "source": [
    "xFlat = ReaderWriter.read_data(os.path.join(targetdata_dir_raw, 'X_flat.pkl'))\n",
    "y = ReaderWriter.read_data(os.path.join(targetdata_dir_raw, 'y.pkl'))\n",
    "expression = ReaderWriter.read_data(os.path.join(targetdata_dir_raw, 'expression.pkl'))"
   ]
  },
  {
   "cell_type": "code",
   "execution_count": 19,
   "metadata": {},
   "outputs": [
    {
     "data": {
      "text/plain": [
       "torch.Size([110911, 18])"
      ]
     },
     "execution_count": 19,
     "metadata": {},
     "output_type": "execute_result"
    }
   ],
   "source": [
    "xFlatMat = torch.stack([torch.cat(i) for i in list(xFlat.values())])\n",
    "xFlatMat.shape"
   ]
  },
  {
   "cell_type": "code",
   "execution_count": 20,
   "metadata": {},
   "outputs": [
    {
     "data": {
      "text/plain": [
       "tensor([[ 0.1540,  0.2274,  1.3660,  ..., -0.3807,  0.9296,  0.8911],\n",
       "        [ 0.1540,  0.2274,  1.3660,  ..., -0.3807,  0.9296,  0.8911],\n",
       "        [ 0.1540,  0.2274,  1.3660,  ..., -0.3807,  0.9296,  0.8911],\n",
       "        ...,\n",
       "        [-0.0515, -1.4148,  1.5533,  ..., -1.2600,  1.2599,  0.9475],\n",
       "        [-0.0515, -1.4148,  1.5533,  ..., -1.2600,  1.2599,  0.9475],\n",
       "        [-0.0515, -1.4148,  1.5533,  ..., -1.2600,  1.2599,  0.9475]],\n",
       "       dtype=torch.float64)"
      ]
     },
     "execution_count": 20,
     "metadata": {},
     "output_type": "execute_result"
    }
   ],
   "source": [
    "torch.tensor(expression)"
   ]
  },
  {
   "cell_type": "code",
   "execution_count": 21,
   "metadata": {
    "scrolled": false
   },
   "outputs": [
    {
     "data": {
      "text/plain": [
       "torch.Size([110911, 926])"
      ]
     },
     "execution_count": 21,
     "metadata": {},
     "output_type": "execute_result"
    }
   ],
   "source": [
    "x = torch.cat([xFlatMat, torch.tensor(expression)], dim=1)\n",
    "x.shape"
   ]
  },
  {
   "cell_type": "code",
   "execution_count": null,
   "metadata": {},
   "outputs": [],
   "source": []
  },
  {
   "cell_type": "code",
   "execution_count": 22,
   "metadata": {},
   "outputs": [],
   "source": [
    "# %%time\n",
    "\n",
    "# # Make sure to first run the \"data_generation\" notebook first\n",
    "\n",
    "# dataset = MoleculeDataset(root=targetdata_dir)"
   ]
  },
  {
   "cell_type": "code",
   "execution_count": 23,
   "metadata": {},
   "outputs": [],
   "source": [
    "# print()\n",
    "# print(f'Dataset: {dataset}:')\n",
    "# print('====================')\n",
    "# print(f'Number of graphs: {len(dataset)}')\n",
    "# print(f'Number of features: {dataset.num_features}')\n",
    "# print(f'Number of classes: {dataset.num_classes}')\n",
    "\n",
    "# # data0 = dataset[0]  # Get the first graph object.\n",
    "\n",
    "# # print()\n",
    "# # print(data)\n",
    "# # print('=============================================================')\n",
    "\n",
    "# # # Gather some statistics about the first graph.\n",
    "# # print(f'Number of nodes: {data.num_nodes}')\n",
    "# # print(f'Number of edges: {data.num_edges}')\n",
    "# # print(f'Average node degree: {data.num_edges / data.num_nodes:.2f}')\n",
    "# # print(f'Contains isolated nodes: {data.contains_isolated_nodes()}')\n",
    "# # print(f'Contains self-loops: {data.contains_self_loops()}')\n",
    "# # print(f'Is undirected: {data.is_undirected()}')"
   ]
  },
  {
   "cell_type": "code",
   "execution_count": 24,
   "metadata": {
    "scrolled": true
   },
   "outputs": [],
   "source": [
    "# data0"
   ]
  },
  {
   "cell_type": "code",
   "execution_count": 25,
   "metadata": {},
   "outputs": [],
   "source": [
    "# data0.expression.shape"
   ]
  },
  {
   "cell_type": "code",
   "execution_count": 26,
   "metadata": {},
   "outputs": [],
   "source": [
    "# data0.y"
   ]
  },
  {
   "cell_type": "code",
   "execution_count": 27,
   "metadata": {},
   "outputs": [],
   "source": [
    "# dataset.tensors[1]"
   ]
  },
  {
   "cell_type": "code",
   "execution_count": 28,
   "metadata": {},
   "outputs": [],
   "source": [
    "# used_dataset = dataset\n",
    "\n",
    "# If you want to use a smaller subset of the dataset for testing\n",
    "# smaller_dataset_len = int(len(dataset)/1)\n",
    "# used_dataset = dataset[:smaller_dataset_len]"
   ]
  },
  {
   "cell_type": "code",
   "execution_count": 29,
   "metadata": {},
   "outputs": [],
   "source": [
    "# type(used_dataset)"
   ]
  },
  {
   "cell_type": "code",
   "execution_count": 30,
   "metadata": {
    "scrolled": false
   },
   "outputs": [],
   "source": [
    "# dataset.data.y"
   ]
  },
  {
   "cell_type": "code",
   "execution_count": 31,
   "metadata": {},
   "outputs": [
    {
     "data": {
      "text/plain": [
       "array([0, 0, 0, ..., 0, 0, 0])"
      ]
     },
     "execution_count": 31,
     "metadata": {},
     "output_type": "execute_result"
    }
   ],
   "source": [
    "y"
   ]
  },
  {
   "cell_type": "code",
   "execution_count": 32,
   "metadata": {},
   "outputs": [
    {
     "data": {
      "text/plain": [
       "torch.Size([110911, 926])"
      ]
     },
     "execution_count": 32,
     "metadata": {},
     "output_type": "execute_result"
    }
   ],
   "source": [
    "x.shape"
   ]
  },
  {
   "cell_type": "code",
   "execution_count": 33,
   "metadata": {},
   "outputs": [
    {
     "data": {
      "text/plain": [
       "(110911,)"
      ]
     },
     "execution_count": 33,
     "metadata": {},
     "output_type": "execute_result"
    }
   ],
   "source": [
    "y.shape"
   ]
  },
  {
   "cell_type": "code",
   "execution_count": 34,
   "metadata": {
    "scrolled": true
   },
   "outputs": [],
   "source": [
    "# fold_partitions = get_stratified_partitions(dataset.data.y,\n",
    "#                                             num_folds=5,\n",
    "#                                             valid_set_portion=0.1,\n",
    "#                                             random_state=42)"
   ]
  },
  {
   "cell_type": "code",
   "execution_count": 35,
   "metadata": {},
   "outputs": [
    {
     "name": "stdout",
     "output_type": "stream",
     "text": [
      "fold_num: 0\n",
      "train data\n",
      "class: 0 norm count: 0.6077139815916348\n",
      "class: 1 norm count: 0.3922860184083652\n",
      "validation data\n",
      "class: 0 norm count: 0.6076862391524851\n",
      "class: 1 norm count: 0.39231376084751496\n",
      "test data\n",
      "class: 0 norm count: 0.6077176216021277\n",
      "class: 1 norm count: 0.3922823783978722\n",
      "\n",
      "-------------------------\n",
      "fold_num: 1\n",
      "train data\n",
      "class: 0 norm count: 0.6077063714686436\n",
      "class: 1 norm count: 0.39229362853135646\n",
      "validation data\n",
      "class: 0 norm count: 0.6076862391524851\n",
      "class: 1 norm count: 0.39231376084751496\n",
      "test data\n",
      "class: 0 norm count: 0.6077450184834551\n",
      "class: 1 norm count: 0.3922549815165449\n",
      "\n",
      "-------------------------\n",
      "fold_num: 2\n",
      "train data\n",
      "class: 0 norm count: 0.6077188940092166\n",
      "class: 1 norm count: 0.3922811059907834\n",
      "validation data\n",
      "class: 0 norm count: 0.6076862391524851\n",
      "class: 1 norm count: 0.39231376084751496\n",
      "test data\n",
      "class: 0 norm count: 0.6076999368857632\n",
      "class: 1 norm count: 0.39230006311423676\n",
      "\n",
      "-------------------------\n",
      "fold_num: 3\n",
      "train data\n",
      "class: 0 norm count: 0.6077188940092166\n",
      "class: 1 norm count: 0.3922811059907834\n",
      "validation data\n",
      "class: 0 norm count: 0.6076862391524851\n",
      "class: 1 norm count: 0.39231376084751496\n",
      "test data\n",
      "class: 0 norm count: 0.6076999368857632\n",
      "class: 1 norm count: 0.39230006311423676\n",
      "\n",
      "-------------------------\n",
      "fold_num: 4\n",
      "train data\n",
      "class: 0 norm count: 0.6077188940092166\n",
      "class: 1 norm count: 0.3922811059907834\n",
      "validation data\n",
      "class: 0 norm count: 0.6076862391524851\n",
      "class: 1 norm count: 0.39231376084751496\n",
      "test data\n",
      "class: 0 norm count: 0.6076999368857632\n",
      "class: 1 norm count: 0.39230006311423676\n",
      "\n",
      "-------------------------\n"
     ]
    }
   ],
   "source": [
    "fold_partitions = get_stratified_partitions(y,\n",
    "                                            num_folds=5,\n",
    "                                            valid_set_portion=0.1,\n",
    "                                            random_state=42)"
   ]
  },
  {
   "cell_type": "code",
   "execution_count": 36,
   "metadata": {},
   "outputs": [],
   "source": [
    "# train_val_test_frac = [0.7, 0.1, 0.2]\n",
    "# assert sum(train_val_test_frac) == 1\n",
    "\n",
    "# torch.manual_seed(42)\n",
    "# used_dataset = used_dataset.shuffle()\n",
    "\n",
    "# num_train = round(train_val_test_frac[0] * len(used_dataset)) \n",
    "# num_trainval = round((train_val_test_frac[0]+train_val_test_frac[1]) * len(used_dataset))\n",
    "\n",
    "# train_dataset = used_dataset[:num_train]\n",
    "# val_dataset = used_dataset[num_train:num_trainval]\n",
    "# test_dataset = used_dataset[num_trainval:]"
   ]
  },
  {
   "cell_type": "code",
   "execution_count": 37,
   "metadata": {},
   "outputs": [],
   "source": [
    "# train_dataset = Subset(used_dataset, fold_partitions[0]['train'])\n",
    "# val_dataset = Subset(used_dataset, fold_partitions[0]['validation'])\n",
    "# test_dataset = Subset(used_dataset, fold_partitions[0]['test'])"
   ]
  },
  {
   "cell_type": "code",
   "execution_count": 38,
   "metadata": {},
   "outputs": [],
   "source": [
    "# print(f'Number of training graphs: {len(train_dataset)}')\n",
    "# print(f'Number of val graphs: {len(val_dataset)}')\n",
    "# print(f'Number of test graphs: {len(test_dataset)}')"
   ]
  },
  {
   "cell_type": "code",
   "execution_count": 39,
   "metadata": {},
   "outputs": [
    {
     "name": "stdout",
     "output_type": "stream",
     "text": [
      "Number of training graphs: 79855\n",
      "Number of validation graphs: 8873\n",
      "Number of testing graphs: 22183\n"
     ]
    }
   ],
   "source": [
    "print(\"Number of training graphs: \"+ str(len(fold_partitions[0]['train'])))\n",
    "print(\"Number of validation graphs: \"+ str(len(fold_partitions[0]['validation'])))\n",
    "print(\"Number of testing graphs: \"+ str(len(fold_partitions[0]['test'])))\n"
   ]
  },
  {
   "cell_type": "markdown",
   "metadata": {},
   "source": [
    "### Preprocessing"
   ]
  },
  {
   "cell_type": "code",
   "execution_count": 40,
   "metadata": {},
   "outputs": [],
   "source": [
    "# import functools\n",
    "\n",
    "# def compose(*functions):\n",
    "#     return functools.reduce(lambda f, g: lambda x: f(g(x)), functions, lambda x: x)"
   ]
  },
  {
   "cell_type": "code",
   "execution_count": 41,
   "metadata": {},
   "outputs": [],
   "source": [
    "from sklearn.preprocessing import StandardScaler\n",
    "scaler = StandardScaler()"
   ]
  },
  {
   "cell_type": "code",
   "execution_count": 42,
   "metadata": {},
   "outputs": [],
   "source": [
    "x_np = x.numpy()\n",
    "y_np = y"
   ]
  },
  {
   "cell_type": "code",
   "execution_count": 43,
   "metadata": {},
   "outputs": [],
   "source": [
    "pipeline = compose(scaler.fit_transform, np.tanh, scaler.fit_transform)"
   ]
  },
  {
   "cell_type": "code",
   "execution_count": 44,
   "metadata": {},
   "outputs": [],
   "source": [
    "x_np_norm = pipeline(x_np)"
   ]
  },
  {
   "cell_type": "code",
   "execution_count": 45,
   "metadata": {},
   "outputs": [
    {
     "data": {
      "text/plain": [
       "926"
      ]
     },
     "execution_count": 45,
     "metadata": {},
     "output_type": "execute_result"
    }
   ],
   "source": [
    "deepsynergy_input_size = x_np_norm.shape[1]\n",
    "deepsynergy_input_size"
   ]
  },
  {
   "cell_type": "code",
   "execution_count": 46,
   "metadata": {},
   "outputs": [],
   "source": [
    "ids = list(range(len(y)))"
   ]
  },
  {
   "cell_type": "code",
   "execution_count": 47,
   "metadata": {},
   "outputs": [
    {
     "data": {
      "text/plain": [
       "<torch.utils.data.dataset.TensorDataset at 0x2aacfe2de760>"
      ]
     },
     "execution_count": 47,
     "metadata": {},
     "output_type": "execute_result"
    }
   ],
   "source": [
    "dataset = TensorDataset(torch.tensor(x_np_norm),torch.tensor(y), torch.tensor(ids))\n",
    "dataset"
   ]
  },
  {
   "cell_type": "markdown",
   "metadata": {},
   "source": [
    "### Deep Synergy"
   ]
  },
  {
   "cell_type": "code",
   "execution_count": 48,
   "metadata": {},
   "outputs": [],
   "source": [
    "# print(dataset.num_classes)"
   ]
  },
  {
   "cell_type": "code",
   "execution_count": 49,
   "metadata": {},
   "outputs": [],
   "source": [
    "# training params total_thresh 4\n",
    "tp = {\n",
    "    \"batch_size\" : 300,\n",
    "    \"num_epochs\" : 100,\n",
    "    \n",
    "    \"emb_dim\" : 300,\n",
    "    \"gnn_type\" : \"gatv2\",\n",
    "    \"num_layer\" : 5,\n",
    "    \"graph_pooling\" : \"mean\", #attention\n",
    "    \n",
    "    \"input_embed_dim\" : None,\n",
    "    \"gene_embed_dim\": 1,\n",
    "    \"num_attn_heads\" : 2,\n",
    "    \"num_transformer_units\" : 1,\n",
    "    \"p_dropout\" : 0.3,\n",
    "#     \"nonlin_func\" : nn.ReLU(),\n",
    "    \"mlp_embed_factor\" : 2,\n",
    "    \"pooling_mode\" : 'attn',\n",
    "    \"dist_opt\" : 'cosine',\n",
    "\n",
    "    \"base_lr\" : 3e-5, #3e-4\n",
    "    \"max_lr_mul\": 5,\n",
    "    \"l2_reg\" : 1e-5,\n",
    "    \"loss_w\" : 1.,\n",
    "    \"margin_v\" : 1.,\n",
    "\n",
    "    \"expression_dim\" : 64,\n",
    "    \"expression_input_size\" : 908,\n",
    "    \"exp_H1\" : 8192,\n",
    "    \"exp_H2\" : 4096\n",
    "}"
   ]
  },
  {
   "cell_type": "code",
   "execution_count": 50,
   "metadata": {},
   "outputs": [
    {
     "data": {
      "text/plain": [
       "926"
      ]
     },
     "execution_count": 50,
     "metadata": {},
     "output_type": "execute_result"
    }
   ],
   "source": [
    "tp['deepsynergy_input_size'] = deepsynergy_input_size\n",
    "tp['deepsynergy_input_size']"
   ]
  },
  {
   "cell_type": "code",
   "execution_count": 51,
   "metadata": {},
   "outputs": [],
   "source": [
    "# # training params total_thresh 3\n",
    "# tp = {\n",
    "#     \"batch_size\" : 300,\n",
    "#     \"num_epochs\" : 200,\n",
    "    \n",
    "#     \"emb_dim\" : 300,\n",
    "#     \"gnn_type\" : \"gatv2\",\n",
    "#     \"num_layer\" : 5,\n",
    "#     \"graph_pooling\" : \"mean\", #attention\n",
    "    \n",
    "#     \"input_embed_dim\" : None,\n",
    "#     \"gene_embed_dim\": 1,\n",
    "#     \"num_attn_heads\" : 2,\n",
    "#     \"num_transformer_units\" : 1,\n",
    "#     \"p_dropout\" : 0.3,\n",
    "# #     \"nonlin_func\" : nn.ReLU(),\n",
    "#     \"mlp_embed_factor\" : 2,\n",
    "#     \"pooling_mode\" : 'attn',\n",
    "#     \"dist_opt\" : 'cosine',\n",
    "\n",
    "#     \"base_lr\" : 3e-5, #3e-4\n",
    "#     \"max_lr_mul\": 10,\n",
    "#     \"l2_reg\" : 1e-8,\n",
    "#     \"loss_w\" : 0.3,\n",
    "#     \"margin_v\" : 1.,\n",
    "\n",
    "#     \"expression_dim\" : 64,\n",
    "#     \"expression_input_size\" : 908,\n",
    "#     \"exp_H1\" : 500,\n",
    "#     \"exp_H2\" : 400\n",
    "# }"
   ]
  },
  {
   "cell_type": "code",
   "execution_count": 52,
   "metadata": {},
   "outputs": [],
   "source": [
    "# targetdata_dir_exp = create_directory(os.path.join(targetdata_dir, \"experiments\"))\n",
    "# targetdata_dir_exp"
   ]
  },
  {
   "cell_type": "code",
   "execution_count": 53,
   "metadata": {},
   "outputs": [],
   "source": [
    "# device_gpu = get_device(True, index=0)\n",
    "# exp_dir = create_directory(os.path.join(targetdata_dir_exp, \"exp0\"))\n",
    "# tphp = generate_tp_hp(tp, hyperparam_space[0], hp_names)\n",
    "# partition = fold_partitions[0]"
   ]
  },
  {
   "cell_type": "code",
   "execution_count": 54,
   "metadata": {},
   "outputs": [],
   "source": [
    "# run_exp(tphp, device_gpu, exp_dir,partition=fold_partitions[0], used_dataset=used_dataset)"
   ]
  },
  {
   "cell_type": "code",
   "execution_count": 55,
   "metadata": {},
   "outputs": [],
   "source": [
    "def spawn_q_process(q_process):\n",
    "    print(\">>> spawning hyperparam search process\")\n",
    "    q_process.start()\n",
    "    \n",
    "def join_q_process(q_process):\n",
    "    q_process.join()\n",
    "    print(\"<<< joined hyperparam search process\")\n",
    "    \n",
    "def create_q_process(queue, used_dataset, gpu_num, tphp, exp_dir, partition): #\n",
    "#     fold_gpu_map = {0:gpu_num}\n",
    "    return mp.Process(target=deepadr.hyphelperflat.run_exp_flat, args=(queue, used_dataset, gpu_num, tphp, exp_dir, partition)) #"
   ]
  },
  {
   "cell_type": "code",
   "execution_count": 56,
   "metadata": {},
   "outputs": [
    {
     "name": "stdout",
     "output_type": "stream",
     "text": [
      "Start: 2022-03-29_19-37-28\n",
      "path_current_dir /cluster/home/skyriakos/chemprop_run/git/deepadr\n",
      "path_current_dir /cluster/home/skyriakos/chemprop_run/git/deepadr\n",
      ">>> spawning hyperparam search process\n",
      "path_current_dir /cluster/home/skyriakos/chemprop_run/git/deepadr\n",
      "path_current_dir /cluster/home/skyriakos/chemprop_run/git/deepadr\n",
      ">>> spawning hyperparam search process\n",
      "path_current_dir /cluster/home/skyriakos/chemprop_run/git/deepadr\n",
      "path_current_dir /cluster/home/skyriakos/chemprop_run/git/deepadr\n",
      ">>> spawning hyperparam search process\n",
      "path_current_dir /cluster/home/skyriakos/chemprop_run/git/deepadr\n",
      "path_current_dir /cluster/home/skyriakos/chemprop_run/git/deepadr\n",
      ">>> spawning hyperparam search process\n",
      "gpu: cuda:0\n",
      "Dropout(p=0.5, inplace=False) Dropout(p=0.2, inplace=False)\n",
      "DS model:\n",
      " ExpressionNN(\n",
      "  (fc1): Linear(in_features=926, out_features=8192, bias=True)\n",
      "  (fc2): Linear(in_features=8192, out_features=4096, bias=True)\n",
      "  (fc3): Linear(in_features=4096, out_features=2, bias=True)\n",
      "  (drop_in): Dropout(p=0.2, inplace=False)\n",
      "  (drop): Dropout(p=0.5, inplace=False)\n",
      "  (log_softmax): LogSoftmax(dim=-1)\n",
      ")\n",
      "=====Epoch 0\n",
      "Training...\n"
     ]
    },
    {
     "name": "stderr",
     "output_type": "stream",
     "text": [
      "\r",
      "Iteration:   0%|          | 0/267 [00:00<?, ?it/s]"
     ]
    },
    {
     "name": "stdout",
     "output_type": "stream",
     "text": [
      "gpu: cuda:1\n",
      "Dropout(p=0.5, inplace=False) Dropout(p=0.2, inplace=False)\n",
      "DS model:\n",
      " ExpressionNN(\n",
      "  (fc1): Linear(in_features=926, out_features=8192, bias=True)\n",
      "  (fc2): Linear(in_features=8192, out_features=4096, bias=True)\n",
      "  (fc3): Linear(in_features=4096, out_features=2, bias=True)\n",
      "  (drop_in): Dropout(p=0.2, inplace=False)\n",
      "  (drop): Dropout(p=0.5, inplace=False)\n",
      "  (log_softmax): LogSoftmax(dim=-1)\n",
      ")\n",
      "=====Epoch 0\n",
      "Training...\n"
     ]
    },
    {
     "name": "stderr",
     "output_type": "stream",
     "text": [
      "\r",
      "Iteration:   0%|          | 0/267 [00:00<?, ?it/s]"
     ]
    },
    {
     "name": "stdout",
     "output_type": "stream",
     "text": [
      "path_current_dir /cluster/home/skyriakos/chemprop_run/git/deepadr\n",
      "path_current_dir /cluster/home/skyriakos/chemprop_run/git/deepadr\n",
      ">>> spawning hyperparam search process\n",
      "gpu: cuda:2\n",
      "Dropout(p=0.5, inplace=False) Dropout(p=0.2, inplace=False)\n",
      "DS model:\n",
      " ExpressionNN(\n",
      "  (fc1): Linear(in_features=926, out_features=8192, bias=True)\n",
      "  (fc2): Linear(in_features=8192, out_features=4096, bias=True)\n",
      "  (fc3): Linear(in_features=4096, out_features=2, bias=True)\n",
      "  (drop_in): Dropout(p=0.2, inplace=False)\n",
      "  (drop): Dropout(p=0.5, inplace=False)\n",
      "  (log_softmax): LogSoftmax(dim=-1)\n",
      ")\n",
      "=====Epoch 0\n",
      "Training...\n"
     ]
    },
    {
     "name": "stderr",
     "output_type": "stream",
     "text": [
      "Iteration:   0%|          | 0/267 [00:00<?, ?it/s]45.48it/s]"
     ]
    },
    {
     "name": "stdout",
     "output_type": "stream",
     "text": [
      "gpu: cuda:3\n",
      "Dropout(p=0.5, inplace=False) Dropout(p=0.2, inplace=False)\n",
      "DS model:\n",
      " ExpressionNN(\n",
      "  (fc1): Linear(in_features=926, out_features=8192, bias=True)\n",
      "  (fc2): Linear(in_features=8192, out_features=4096, bias=True)\n",
      "  (fc3): Linear(in_features=4096, out_features=2, bias=True)\n",
      "  (drop_in): Dropout(p=0.2, inplace=False)\n",
      "  (drop): Dropout(p=0.5, inplace=False)\n",
      "  (log_softmax): LogSoftmax(dim=-1)\n",
      ")\n",
      "=====Epoch 0\n",
      "Training...\n"
     ]
    },
    {
     "name": "stderr",
     "output_type": "stream",
     "text": [
      "Iteration: 100%|██████████| 267/267 [00:07<00:00, 35.37it/s]\n",
      "Iteration: 100%|██████████| 267/267 [00:07<00:00, 36.99it/s]\n",
      "Iteration:   2%|▏         | 6/267 [00:00<00:28,  9.14it/s]"
     ]
    },
    {
     "name": "stdout",
     "output_type": "stream",
     "text": [
      "Evaluating...\n",
      "Evaluating...\n"
     ]
    },
    {
     "name": "stderr",
     "output_type": "stream",
     "text": [
      "Iteration: 100%|██████████| 267/267 [00:06<00:00, 38.52it/s]]\n",
      "Iteration:   0%|          | 0/267 [00:00<?, ?it/s]"
     ]
    },
    {
     "name": "stdout",
     "output_type": "stream",
     "text": [
      "Evaluating...\n"
     ]
    },
    {
     "name": "stderr",
     "output_type": "stream",
     "text": [
      "Iteration: 100%|██████████| 267/267 [00:02<00:00, 127.04it/s]\n",
      "Iteration: 100%|██████████| 267/267 [00:02<00:00, 125.60it/s]\n",
      "Iteration: 100%|██████████| 267/267 [00:03<00:00, 73.32it/s]\n",
      "Iteration:  68%|██████▊   | 181/267 [00:04<00:01, 45.72it/s]"
     ]
    },
    {
     "name": "stdout",
     "output_type": "stream",
     "text": [
      "gpu: cuda:4\n",
      "Dropout(p=0.5, inplace=False) Dropout(p=0.2, inplace=False)\n",
      "DS model:\n",
      " ExpressionNN(\n",
      "  (fc1): Linear(in_features=926, out_features=8192, bias=True)\n",
      "  (fc2): Linear(in_features=8192, out_features=4096, bias=True)\n",
      "  (fc3): Linear(in_features=4096, out_features=2, bias=True)\n",
      "  (drop_in): Dropout(p=0.2, inplace=False)\n",
      "  (drop): Dropout(p=0.5, inplace=False)\n",
      "  (log_softmax): LogSoftmax(dim=-1)\n",
      ")\n",
      "=====Epoch 0\n",
      "Training...\n"
     ]
    },
    {
     "name": "stderr",
     "output_type": "stream",
     "text": [
      "Iteration: 100%|██████████| 267/267 [00:02<00:00, 111.85it/s]\n",
      "Iteration: 100%|██████████| 267/267 [00:06<00:00, 40.03it/s]]\n",
      "Iteration:   0%|          | 0/267 [00:00<?, ?it/s]"
     ]
    },
    {
     "name": "stdout",
     "output_type": "stream",
     "text": [
      "Evaluating...\n"
     ]
    },
    {
     "name": "stderr",
     "output_type": "stream",
     "text": [
      "Iteration: 100%|██████████| 267/267 [00:02<00:00, 122.19it/s]\n",
      "Iteration: 100%|██████████| 267/267 [00:03<00:00, 71.87it/s] \n",
      "Iteration: 100%|██████████| 267/267 [00:02<00:00, 98.34it/s]]\n",
      "Iteration: 100%|██████████| 267/267 [00:02<00:00, 122.20it/s]\n",
      "Iteration:  24%|██▎       | 63/267 [00:00<00:02, 73.82it/s]]"
     ]
    },
    {
     "name": "stdout",
     "output_type": "stream",
     "text": [
      "{'Train':  best_epoch_indx:0\n",
      " auc:0.6646022272377226 \n",
      " apur:0.5759422196297412 \n",
      " f1:0.5720155992357422 \n",
      " precision:0.4847295229223501 \n",
      " recall:0.6976410125450889 \n",
      ", 'Validation':  best_epoch_indx:0\n",
      " auc:0.6646022275666119 \n",
      " apur:0.5759422198689629 \n",
      " f1:0.5720155992357422 \n",
      " precision:0.4847295229223501 \n",
      " recall:0.6976410125450889 \n",
      ", 'Test':  best_epoch_indx:0\n",
      " auc:0.6646022269088332 \n",
      " apur:0.5759422192140307 \n",
      " f1:0.5720155992357422 \n",
      " precision:0.4847295229223501 \n",
      " recall:0.6976410125450889 \n",
      "}\n",
      "=====Epoch 1\n",
      "Training...\n"
     ]
    },
    {
     "name": "stderr",
     "output_type": "stream",
     "text": [
      "Iteration: 100%|██████████| 267/267 [00:07<00:00, 37.32it/s]]\n",
      "Iteration:  17%|█▋        | 45/267 [00:01<00:06, 36.88it/s]]]"
     ]
    },
    {
     "name": "stdout",
     "output_type": "stream",
     "text": [
      "Evaluating...\n"
     ]
    },
    {
     "name": "stderr",
     "output_type": "stream",
     "text": [
      "Iteration: 100%|██████████| 267/267 [00:03<00:00, 85.59it/s] \n",
      "Iteration: 100%|██████████| 267/267 [00:02<00:00, 122.73it/s]\n",
      "Iteration:  80%|███████▉  | 213/267 [00:03<00:00, 65.89it/s]]"
     ]
    },
    {
     "name": "stdout",
     "output_type": "stream",
     "text": [
      "{'Train':  best_epoch_indx:0\n",
      " auc:0.6691442244232719 \n",
      " apur:0.5796505196886274 \n",
      " f1:0.577870739439862 \n",
      " precision:0.49146360564766955 \n",
      " recall:0.7011428206601545 \n",
      ", 'Validation':  best_epoch_indx:0\n",
      " auc:0.6691442244232719 \n",
      " apur:0.5796505196886274 \n",
      " f1:0.577870739439862 \n",
      " precision:0.49146360564766955 \n",
      " recall:0.7011428206601545 \n",
      ", 'Test':  best_epoch_indx:0\n",
      " auc:0.6691442244232719 \n",
      " apur:0.5796505196886274 \n",
      " f1:0.577870739439862 \n",
      " precision:0.49146360564766955 \n",
      " recall:0.7011428206601545 \n",
      "}\n",
      "=====Epoch 1\n",
      "Training...\n"
     ]
    },
    {
     "name": "stderr",
     "output_type": "stream",
     "text": [
      "Iteration: 100%|██████████| 267/267 [00:03<00:00, 72.74it/s] \n",
      "Iteration: 100%|██████████| 267/267 [00:02<00:00, 126.98it/s]\n",
      "Iteration:   0%|          | 0/267 [00:00<?, ?it/s]32.06it/s]"
     ]
    },
    {
     "name": "stdout",
     "output_type": "stream",
     "text": [
      "{'Train':  best_epoch_indx:0\n",
      " auc:0.6644692630909224 \n",
      " apur:0.5795885154366739 \n",
      " f1:0.563017530255615 \n",
      " precision:0.4971632593172259 \n",
      " recall:0.6489816765625998 \n",
      ", 'Validation':  best_epoch_indx:0\n",
      " auc:0.6644692630909224 \n",
      " apur:0.5795885154366739 \n",
      " f1:0.563017530255615 \n",
      " precision:0.4971632593172259 \n",
      " recall:0.6489816765625998 \n",
      ", 'Test':  best_epoch_indx:0\n",
      " auc:0.6644692630909224 \n",
      " apur:0.5795885154366739 \n",
      " f1:0.563017530255615 \n",
      " precision:0.4971632593172259 \n",
      " recall:0.6489816765625998 \n",
      "}\n",
      "=====Epoch 1\n",
      "Training...\n"
     ]
    },
    {
     "name": "stderr",
     "output_type": "stream",
     "text": [
      "Iteration: 100%|██████████| 267/267 [00:02<00:00, 110.31it/s]\n",
      "Iteration: 100%|██████████| 267/267 [00:02<00:00, 122.09it/s]\n",
      "Iteration:  88%|████████▊ | 236/267 [00:06<00:00, 37.00it/s]"
     ]
    },
    {
     "name": "stdout",
     "output_type": "stream",
     "text": [
      "{'Train':  best_epoch_indx:0\n",
      " auc:0.6597729579852608 \n",
      " apur:0.5748347618935626 \n",
      " f1:0.5525323198295471 \n",
      " precision:0.5031990769876232 \n",
      " recall:0.6125901806805848 \n",
      ", 'Validation':  best_epoch_indx:0\n",
      " auc:0.6597729579852608 \n",
      " apur:0.5748347618935626 \n",
      " f1:0.5525323198295471 \n",
      " precision:0.5031990769876232 \n",
      " recall:0.6125901806805848 \n",
      ", 'Test':  best_epoch_indx:0\n",
      " auc:0.6597729579852608 \n",
      " apur:0.5748347618934958 \n",
      " f1:0.5525323198295471 \n",
      " precision:0.5031990769876232 \n",
      " recall:0.6125901806805848 \n",
      "}\n",
      "=====Epoch 1\n",
      "Training...\n"
     ]
    },
    {
     "name": "stderr",
     "output_type": "stream",
     "text": [
      "Iteration: 100%|██████████| 267/267 [00:07<00:00, 36.92it/s]\n",
      "Iteration:  48%|████▊     | 127/267 [00:03<00:04, 29.36it/s]"
     ]
    },
    {
     "name": "stdout",
     "output_type": "stream",
     "text": [
      "Evaluating...\n"
     ]
    },
    {
     "name": "stderr",
     "output_type": "stream",
     "text": [
      "Iteration: 100%|██████████| 267/267 [00:05<00:00, 45.15it/s]\n",
      "Iteration:  63%|██████▎   | 167/267 [00:04<00:02, 44.33it/s]"
     ]
    },
    {
     "name": "stdout",
     "output_type": "stream",
     "text": [
      "Evaluating...\n"
     ]
    },
    {
     "name": "stderr",
     "output_type": "stream",
     "text": [
      "Iteration: 100%|██████████| 267/267 [00:02<00:00, 129.28it/s]\n",
      "Iteration: 100%|██████████| 267/267 [00:06<00:00, 40.11it/s]\n",
      "Iteration:  82%|████████▏ | 218/267 [00:03<00:00, 70.88it/s]"
     ]
    },
    {
     "name": "stdout",
     "output_type": "stream",
     "text": [
      "Evaluating...\n"
     ]
    },
    {
     "name": "stderr",
     "output_type": "stream",
     "text": [
      "Iteration: 100%|██████████| 267/267 [00:03<00:00, 76.39it/s]\n",
      "Iteration: 100%|██████████| 267/267 [00:03<00:00, 68.67it/s]]\n",
      "Iteration: 100%|██████████| 267/267 [00:06<00:00, 43.99it/s]]\n",
      "Iteration: 100%|██████████| 267/267 [00:02<00:00, 126.19it/s]\n",
      "Iteration:  44%|████▍     | 118/267 [00:01<00:01, 120.70it/s]"
     ]
    },
    {
     "name": "stdout",
     "output_type": "stream",
     "text": [
      "Evaluating...\n"
     ]
    },
    {
     "name": "stderr",
     "output_type": "stream",
     "text": [
      "Iteration:   1%|▏         | 4/267 [00:00<00:06, 39.69it/s]/s]"
     ]
    },
    {
     "name": "stdout",
     "output_type": "stream",
     "text": [
      "{'Train':  best_epoch_indx:0\n",
      " auc:0.665277661294803 \n",
      " apur:0.5758284543816629 \n",
      " f1:0.5841895155739655 \n",
      " precision:0.4804355432970381 \n",
      " recall:0.7450999170018515 \n",
      ", 'Validation':  best_epoch_indx:0\n",
      " auc:0.6652776603081236 \n",
      " apur:0.575828453715086 \n",
      " f1:0.5841895155739655 \n",
      " precision:0.4804355432970381 \n",
      " recall:0.7450999170018515 \n",
      ", 'Test':  best_epoch_indx:0\n",
      " auc:0.6652776603081236 \n",
      " apur:0.575828453715086 \n",
      " f1:0.5841895155739655 \n",
      " precision:0.4804355432970381 \n",
      " recall:0.7450999170018515 \n",
      "}\n",
      "=====Epoch 1\n",
      "Training...\n"
     ]
    },
    {
     "name": "stderr",
     "output_type": "stream",
     "text": [
      "Iteration:  10%|█         | 28/267 [00:00<00:03, 63.48it/s]s]\n",
      "Iteration: 100%|██████████| 267/267 [00:02<00:00, 126.34it/s]\n",
      "Iteration: 100%|██████████| 267/267 [00:02<00:00, 90.65it/s] \n",
      "Iteration: 100%|██████████| 267/267 [00:02<00:00, 90.95it/s] \n",
      "Iteration: 100%|██████████| 267/267 [00:02<00:00, 105.85it/s]\n",
      "Iteration: 100%|██████████| 267/267 [00:02<00:00, 123.02it/s]\n",
      "Iteration:  96%|█████████▋| 257/267 [00:06<00:00, 45.78it/s]]"
     ]
    },
    {
     "name": "stdout",
     "output_type": "stream",
     "text": [
      "{'Train':  best_epoch_indx:1\n",
      " auc:0.6736649704128835 \n",
      " apur:0.5874697302911007 \n",
      " f1:0.5206304351482733 \n",
      " precision:0.5502577777777777 \n",
      " recall:0.4940305177807572 \n",
      ", 'Validation':  best_epoch_indx:1\n",
      " auc:0.6736649704128835 \n",
      " apur:0.5874697302911007 \n",
      " f1:0.5206304351482733 \n",
      " precision:0.5502577777777777 \n",
      " recall:0.4940305177807572 \n",
      ", 'Test':  best_epoch_indx:1\n",
      " auc:0.6736649704128835 \n",
      " apur:0.5874697302925797 \n",
      " f1:0.5206304351482733 \n",
      " precision:0.5502577777777777 \n",
      " recall:0.4940305177807572 \n",
      "}\n",
      "=====Epoch 2\n",
      "Training...\n"
     ]
    },
    {
     "name": "stderr",
     "output_type": "stream",
     "text": [
      "Iteration: 100%|██████████| 267/267 [00:06<00:00, 42.58it/s]]\n",
      "Iteration:   8%|▊         | 21/267 [00:00<00:05, 41.62it/s]]]"
     ]
    },
    {
     "name": "stdout",
     "output_type": "stream",
     "text": [
      "Evaluating...\n"
     ]
    },
    {
     "name": "stderr",
     "output_type": "stream",
     "text": [
      "Iteration: 100%|██████████| 267/267 [00:03<00:00, 68.75it/s]]\n",
      "Iteration: 100%|██████████| 267/267 [00:02<00:00, 121.78it/s]\n",
      "Iteration:   0%|          | 0/267 [00:00<?, ?it/s]5.94it/s]s]"
     ]
    },
    {
     "name": "stdout",
     "output_type": "stream",
     "text": [
      "{'Train':  best_epoch_indx:1\n",
      " auc:0.6763149366711722 \n",
      " apur:0.585609950271633 \n",
      " f1:0.5242980106793336 \n",
      " precision:0.5550087372062338 \n",
      " recall:0.4968077635191215 \n",
      ", 'Validation':  best_epoch_indx:1\n",
      " auc:0.6763149366711722 \n",
      " apur:0.5856099502714903 \n",
      " f1:0.5242980106793336 \n",
      " precision:0.5550087372062338 \n",
      " recall:0.4968077635191215 \n",
      ", 'Test':  best_epoch_indx:1\n",
      " auc:0.6763149366711722 \n",
      " apur:0.5856099502714903 \n",
      " f1:0.5242980106793336 \n",
      " precision:0.5550087372062338 \n",
      " recall:0.4968077635191215 \n",
      "}\n",
      "=====Epoch 2\n",
      "Training...\n"
     ]
    },
    {
     "name": "stderr",
     "output_type": "stream",
     "text": [
      "Iteration:  40%|███▉      | 106/267 [00:02<00:03, 45.92it/s]]"
     ]
    },
    {
     "name": "stdout",
     "output_type": "stream",
     "text": [
      "{'Train':  best_epoch_indx:1\n",
      " auc:0.6803226178315169 \n",
      " apur:0.5935344057960803 \n",
      " f1:0.5774033946767209 \n",
      " precision:0.5146926536731634 \n",
      " recall:0.6575158808695375 \n",
      ", 'Validation':  best_epoch_indx:1\n",
      " auc:0.6803226178315169 \n",
      " apur:0.593534405796053 \n",
      " f1:0.5774033946767209 \n",
      " precision:0.5146926536731634 \n",
      " recall:0.6575158808695375 \n",
      ", 'Test':  best_epoch_indx:1\n",
      " auc:0.6803226178315169 \n",
      " apur:0.5935344057960803 \n",
      " f1:0.5774033946767209 \n",
      " precision:0.5146926536731634 \n",
      " recall:0.6575158808695375 \n",
      "}\n",
      "=====Epoch 2\n",
      "Training...\n"
     ]
    },
    {
     "name": "stderr",
     "output_type": "stream",
     "text": [
      "Iteration: 100%|██████████| 267/267 [00:02<00:00, 127.00it/s]\n",
      "Iteration: 100%|██████████| 267/267 [00:03<00:00, 81.38it/s] \n",
      "Iteration:  18%|█▊        | 48/267 [00:00<00:03, 69.45it/s]]"
     ]
    },
    {
     "name": "stdout",
     "output_type": "stream",
     "text": [
      "{'Train':  best_epoch_indx:1\n",
      " auc:0.6771571115391897 \n",
      " apur:0.5889724901530633 \n",
      " f1:0.5516839235339542 \n",
      " precision:0.544806549008622 \n",
      " recall:0.5587371512481645 \n",
      ", 'Validation':  best_epoch_indx:1\n",
      " auc:0.6771571115391897 \n",
      " apur:0.5889724901530633 \n",
      " f1:0.5516839235339542 \n",
      " precision:0.544806549008622 \n",
      " recall:0.5587371512481645 \n",
      ", 'Test':  best_epoch_indx:1\n",
      " auc:0.6771571115391896 \n",
      " apur:0.5889724901538953 \n",
      " f1:0.5516839235339542 \n",
      " precision:0.544806549008622 \n",
      " recall:0.5587371512481645 \n",
      "}\n",
      "=====Epoch 2\n",
      "Training...\n"
     ]
    },
    {
     "name": "stderr",
     "output_type": "stream",
     "text": [
      "Iteration: 100%|██████████| 267/267 [00:05<00:00, 44.85it/s]\n",
      "Iteration:  53%|█████▎    | 141/267 [00:02<00:01, 68.46it/s]"
     ]
    },
    {
     "name": "stdout",
     "output_type": "stream",
     "text": [
      "Evaluating...\n"
     ]
    },
    {
     "name": "stderr",
     "output_type": "stream",
     "text": [
      "Iteration: 100%|██████████| 267/267 [00:03<00:00, 76.76it/s] \n",
      "Iteration: 100%|██████████| 267/267 [00:05<00:00, 45.38it/s]]\n",
      "Iteration: 100%|██████████| 267/267 [00:02<00:00, 124.67it/s]\n",
      "Iteration:  63%|██████▎   | 167/267 [00:03<00:02, 45.80it/s]"
     ]
    },
    {
     "name": "stdout",
     "output_type": "stream",
     "text": [
      "Evaluating...\n"
     ]
    },
    {
     "name": "stderr",
     "output_type": "stream",
     "text": [
      "Iteration: 100%|██████████| 267/267 [00:07<00:00, 37.31it/s]]\n",
      "Iteration:   6%|▌         | 15/267 [00:00<00:03, 71.96it/s]]"
     ]
    },
    {
     "name": "stdout",
     "output_type": "stream",
     "text": [
      "Evaluating...\n"
     ]
    },
    {
     "name": "stderr",
     "output_type": "stream",
     "text": [
      "Iteration: 100%|██████████| 267/267 [00:02<00:00, 120.54it/s]\n",
      "Iteration: 100%|██████████| 267/267 [00:05<00:00, 45.30it/s]]\n",
      "Iteration:  47%|████▋     | 125/267 [00:01<00:02, 65.43it/s]"
     ]
    },
    {
     "name": "stdout",
     "output_type": "stream",
     "text": [
      "Evaluating...\n"
     ]
    },
    {
     "name": "stderr",
     "output_type": "stream",
     "text": [
      "Iteration: 100%|██████████| 267/267 [00:02<00:00, 119.20it/s]\n",
      "Iteration: 100%|██████████| 267/267 [00:03<00:00, 85.46it/s] \n",
      "Iteration: 100%|██████████| 267/267 [00:04<00:00, 66.60it/s]]\n",
      "Iteration: 100%|██████████| 267/267 [00:02<00:00, 119.87it/s]\n",
      "Iteration: 100%|██████████| 267/267 [00:02<00:00, 104.13it/s]\n",
      "Iteration:  70%|██████▉   | 186/267 [00:01<00:00, 122.66it/s]"
     ]
    },
    {
     "name": "stdout",
     "output_type": "stream",
     "text": [
      "{'Train':  best_epoch_indx:1\n",
      " auc:0.6746499409788167 \n",
      " apur:0.5880885549590172 \n",
      " f1:0.5584515197545533 \n",
      " precision:0.5279681501492962 \n",
      " recall:0.592670625039903 \n",
      ", 'Validation':  best_epoch_indx:1\n",
      " auc:0.6746499409788167 \n",
      " apur:0.5880885549590703 \n",
      " f1:0.5584515197545533 \n",
      " precision:0.5279681501492962 \n",
      " recall:0.592670625039903 \n",
      ", 'Test':  best_epoch_indx:1\n",
      " auc:0.6746499413077097 \n",
      " apur:0.5880885553533752 \n",
      " f1:0.5584515197545533 \n",
      " precision:0.5279681501492962 \n",
      " recall:0.592670625039903 \n",
      "}\n",
      "=====Epoch 2\n",
      "Training...\n"
     ]
    },
    {
     "name": "stderr",
     "output_type": "stream",
     "text": [
      "Iteration: 100%|██████████| 267/267 [00:02<00:00, 108.89it/s]\n",
      "Iteration: 100%|██████████| 267/267 [00:02<00:00, 115.89it/s]\n",
      "Iteration: 100%|██████████| 267/267 [00:02<00:00, 99.21it/s] \n",
      "Iteration:   0%|          | 0/267 [00:00<?, ?it/s].03it/s]/s]"
     ]
    },
    {
     "name": "stdout",
     "output_type": "stream",
     "text": [
      "{'Train':  best_epoch_indx:2\n",
      " auc:0.6846025853448919 \n",
      " apur:0.5989663375383386 \n",
      " f1:0.5570184197993641 \n",
      " precision:0.5368851245298665 \n",
      " recall:0.5787205516184639 \n",
      ", 'Validation':  best_epoch_indx:2\n",
      " auc:0.6846025853448919 \n",
      " apur:0.5989663375383386 \n",
      " f1:0.5570184197993641 \n",
      " precision:0.5368851245298665 \n",
      " recall:0.5787205516184639 \n",
      ", 'Test':  best_epoch_indx:2\n",
      " auc:0.6846025853448919 \n",
      " apur:0.5989663375383386 \n",
      " f1:0.5570184197993641 \n",
      " precision:0.5368851245298665 \n",
      " recall:0.5787205516184639 \n",
      "}\n",
      "=====Epoch 3\n",
      "Training...\n"
     ]
    },
    {
     "name": "stderr",
     "output_type": "stream",
     "text": [
      "Iteration: 100%|██████████| 267/267 [00:02<00:00, 112.97it/s]\n",
      "Iteration:   0%|          | 0/267 [00:00<?, ?it/s]37.31it/s]]"
     ]
    },
    {
     "name": "stdout",
     "output_type": "stream",
     "text": [
      "{'Train':  best_epoch_indx:2\n",
      " auc:0.6857829709355919 \n",
      " apur:0.6004055533925041 \n",
      " f1:0.5706985674198789 \n",
      " precision:0.531044718687299 \n",
      " recall:0.6167523222779072 \n",
      ", 'Validation':  best_epoch_indx:2\n",
      " auc:0.6857829712644813 \n",
      " apur:0.6004055535482902 \n",
      " f1:0.5706985674198789 \n",
      " precision:0.531044718687299 \n",
      " recall:0.6167523222779072 \n",
      ", 'Test':  best_epoch_indx:2\n",
      " auc:0.6857829712644813 \n",
      " apur:0.6004055535482902 \n",
      " f1:0.5706985674198789 \n",
      " precision:0.531044718687299 \n",
      " recall:0.6167523222779072 \n",
      "}\n",
      "=====Epoch 3\n",
      "Training...\n"
     ]
    },
    {
     "name": "stderr",
     "output_type": "stream",
     "text": [
      "Iteration: 100%|██████████| 267/267 [00:02<00:00, 111.04it/s]\n",
      "Iteration:   0%|          | 0/267 [00:00<?, ?it/s]60.44it/s]"
     ]
    },
    {
     "name": "stdout",
     "output_type": "stream",
     "text": [
      "{'Train':  best_epoch_indx:2\n",
      " auc:0.6794748926226502 \n",
      " apur:0.5945893338820399 \n",
      " f1:0.5503648045301099 \n",
      " precision:0.536762251555151 \n",
      " recall:0.5646747111025985 \n",
      ", 'Validation':  best_epoch_indx:2\n",
      " auc:0.6794748926226502 \n",
      " apur:0.5945893338820399 \n",
      " f1:0.5503648045301099 \n",
      " precision:0.536762251555151 \n",
      " recall:0.5646747111025985 \n",
      ", 'Test':  best_epoch_indx:2\n",
      " auc:0.6794748929515433 \n",
      " apur:0.5945893341979378 \n",
      " f1:0.5503648045301099 \n",
      " precision:0.536762251555151 \n",
      " recall:0.5646747111025985 \n",
      "}\n",
      "=====Epoch 3\n",
      "Training...\n"
     ]
    },
    {
     "name": "stderr",
     "output_type": "stream",
     "text": [
      "Iteration: 100%|██████████| 267/267 [00:03<00:00, 83.94it/s] \n",
      "Iteration: 100%|██████████| 267/267 [00:07<00:00, 37.34it/s]\n",
      "Iteration:  22%|██▏       | 60/267 [00:01<00:05, 39.04it/s]"
     ]
    },
    {
     "name": "stdout",
     "output_type": "stream",
     "text": [
      "Evaluating...\n"
     ]
    },
    {
     "name": "stderr",
     "output_type": "stream",
     "text": [
      "Iteration:   1%|▏         | 4/267 [00:00<00:07, 34.78it/s]]]"
     ]
    },
    {
     "name": "stdout",
     "output_type": "stream",
     "text": [
      "{'Train':  best_epoch_indx:2\n",
      " auc:0.6834921584450692 \n",
      " apur:0.5961961573581105 \n",
      " f1:0.5633144305019305 \n",
      " precision:0.5339070272742867 \n",
      " recall:0.5961501628040605 \n",
      ", 'Validation':  best_epoch_indx:2\n",
      " auc:0.6834921584450692 \n",
      " apur:0.5961961573581105 \n",
      " f1:0.5633144305019305 \n",
      " precision:0.5339070272742867 \n",
      " recall:0.5961501628040605 \n",
      ", 'Test':  best_epoch_indx:2\n",
      " auc:0.6834921584450692 \n",
      " apur:0.5961961573581105 \n",
      " f1:0.5633144305019305 \n",
      " precision:0.5339070272742867 \n",
      " recall:0.5961501628040605 \n",
      "}\n",
      "=====Epoch 3\n",
      "Training...\n"
     ]
    },
    {
     "name": "stderr",
     "output_type": "stream",
     "text": [
      "Iteration: 100%|██████████| 267/267 [00:05<00:00, 45.36it/s]]\n",
      "Iteration:  91%|█████████ | 243/267 [00:02<00:00, 120.69it/s]"
     ]
    },
    {
     "name": "stdout",
     "output_type": "stream",
     "text": [
      "Evaluating...\n"
     ]
    },
    {
     "name": "stderr",
     "output_type": "stream",
     "text": [
      "Iteration: 100%|██████████| 267/267 [00:02<00:00, 114.24it/s]\n",
      "Iteration: 100%|██████████| 267/267 [00:05<00:00, 45.21it/s]]\n",
      "Iteration:   6%|▋         | 17/267 [00:00<00:03, 77.00it/s]s]"
     ]
    },
    {
     "name": "stdout",
     "output_type": "stream",
     "text": [
      "Evaluating...\n"
     ]
    },
    {
     "name": "stderr",
     "output_type": "stream",
     "text": [
      "Iteration: 100%|██████████| 267/267 [00:02<00:00, 127.47it/s]\n",
      "Iteration: 100%|██████████| 267/267 [00:02<00:00, 126.46it/s]\n",
      "Iteration:  14%|█▍        | 38/267 [00:00<00:03, 60.52it/s]]\n",
      "Iteration:  81%|████████  | 216/267 [00:05<00:01, 45.74it/s]"
     ]
    },
    {
     "name": "stdout",
     "output_type": "stream",
     "text": [
      "Evaluating...\n"
     ]
    },
    {
     "name": "stderr",
     "output_type": "stream",
     "text": [
      "Iteration: 100%|██████████| 267/267 [00:06<00:00, 40.22it/s]]\n",
      "Iteration: 100%|██████████| 267/267 [00:03<00:00, 70.77it/s]\n",
      "Iteration:  18%|█▊        | 47/267 [00:00<00:03, 66.48it/s]s]"
     ]
    },
    {
     "name": "stdout",
     "output_type": "stream",
     "text": [
      "Evaluating...\n"
     ]
    },
    {
     "name": "stderr",
     "output_type": "stream",
     "text": [
      "Iteration: 100%|██████████| 267/267 [00:02<00:00, 124.74it/s]\n",
      "Iteration: 100%|██████████| 267/267 [00:02<00:00, 94.11it/s] \n",
      "Iteration: 100%|██████████| 267/267 [00:02<00:00, 127.11it/s]\n",
      "Iteration: 100%|██████████| 267/267 [00:03<00:00, 80.79it/s] \n",
      "Iteration: 100%|██████████| 267/267 [00:02<00:00, 113.73it/s]\n",
      "Iteration: 100%|██████████| 267/267 [00:02<00:00, 105.54it/s]\n",
      "Iteration: 100%|██████████| 267/267 [00:02<00:00, 100.70it/s]\n",
      "Iteration:   2%|▏         | 5/267 [00:00<00:06, 39.53it/s]s]]"
     ]
    },
    {
     "name": "stdout",
     "output_type": "stream",
     "text": [
      "{'Train':  best_epoch_indx:2\n",
      " auc:0.6769943577993099 \n",
      " apur:0.5913221580384744 \n",
      " f1:0.5584245865440944 \n",
      " precision:0.5273640309813601 \n",
      " recall:0.5933729170656963 \n",
      ", 'Validation':  best_epoch_indx:2\n",
      " auc:0.6769943577993099 \n",
      " apur:0.5913221580384744 \n",
      " f1:0.5584245865440944 \n",
      " precision:0.5273640309813601 \n",
      " recall:0.5933729170656963 \n",
      ", 'Test':  best_epoch_indx:2\n",
      " auc:0.6769943577993099 \n",
      " apur:0.5913221580384744 \n",
      " f1:0.5584245865440944 \n",
      " precision:0.5273640309813601 \n",
      " recall:0.5933729170656963 \n",
      "}\n",
      "=====Epoch 3\n",
      "Training...\n",
      "{'Train':  best_epoch_indx:3\n",
      " auc:0.6838293940158984 \n",
      " apur:0.5991305373055337 \n",
      " f1:0.5566792314057184 \n",
      " precision:0.5352722772277227 \n",
      " recall:0.5798697567515801 \n",
      ", 'Validation':  best_epoch_indx:3\n",
      " auc:0.6838293940158984 \n",
      " apur:0.5991305373055337 \n",
      " f1:0.5566792314057184 \n",
      " precision:0.5352722772277227 \n",
      " recall:0.5798697567515801 \n",
      ", 'Test':  best_epoch_indx:3\n",
      " auc:0.6838293940158984 \n",
      " apur:0.5991305373055337 \n",
      " f1:0.5566792314057184 \n",
      " precision:0.5352722772277227 \n",
      " recall:0.5798697567515801 \n",
      "}\n",
      "=====Epoch 4\n",
      "Training...\n"
     ]
    },
    {
     "name": "stderr",
     "output_type": "stream",
     "text": [
      "Iteration: 100%|██████████| 267/267 [00:03<00:00, 84.56it/s] \n",
      "Iteration: 100%|██████████| 267/267 [00:02<00:00, 94.66it/s] \n",
      "Iteration: 100%|██████████| 267/267 [00:02<00:00, 124.62it/s]\n",
      "Iteration:   2%|▏         | 5/267 [00:00<00:06, 38.05it/s]]"
     ]
    },
    {
     "name": "stdout",
     "output_type": "stream",
     "text": [
      "{'Train':  best_epoch_indx:3\n",
      " auc:0.6873914334088821 \n",
      " apur:0.6026694904277085 \n",
      " f1:0.5576002886682042 \n",
      " precision:0.5482507558462393 \n",
      " recall:0.5672742362818016 \n",
      ", 'Validation':  best_epoch_indx:3\n",
      " auc:0.6873914334088821 \n",
      " apur:0.6026694904277085 \n",
      " f1:0.5576002886682042 \n",
      " precision:0.5482507558462393 \n",
      " recall:0.5672742362818016 \n",
      ", 'Test':  best_epoch_indx:3\n",
      " auc:0.6873914334088821 \n",
      " apur:0.6026694904277085 \n",
      " f1:0.5576002886682042 \n",
      " precision:0.5482507558462393 \n",
      " recall:0.5672742362818016 \n",
      "}\n",
      "=====Epoch 4\n",
      "Training...\n"
     ]
    },
    {
     "name": "stderr",
     "output_type": "stream",
     "text": [
      "Iteration:  40%|████      | 107/267 [00:02<00:04, 33.77it/s]]"
     ]
    },
    {
     "name": "stdout",
     "output_type": "stream",
     "text": [
      "{'Train':  best_epoch_indx:3\n",
      " auc:0.6815684919431517 \n",
      " apur:0.5910755698992636 \n",
      " f1:0.5568271989257156 \n",
      " precision:0.53338595568029 \n",
      " recall:0.582423545936283 \n",
      ", 'Validation':  best_epoch_indx:3\n",
      " auc:0.6815684919431517 \n",
      " apur:0.5910755698992636 \n",
      " f1:0.5568271989257156 \n",
      " precision:0.53338595568029 \n",
      " recall:0.582423545936283 \n",
      ", 'Test':  best_epoch_indx:3\n",
      " auc:0.6815684919431517 \n",
      " apur:0.5910755698992636 \n",
      " f1:0.5568271989257156 \n",
      " precision:0.53338595568029 \n",
      " recall:0.582423545936283 \n",
      "}\n",
      "=====Epoch 4\n",
      "Training...\n"
     ]
    },
    {
     "name": "stderr",
     "output_type": "stream",
     "text": [
      "Iteration: 100%|██████████| 267/267 [00:02<00:00, 120.99it/s]\n",
      "Iteration:  64%|██████▍   | 171/267 [00:04<00:02, 34.39it/s]"
     ]
    },
    {
     "name": "stdout",
     "output_type": "stream",
     "text": [
      "{'Train':  best_epoch_indx:3\n",
      " auc:0.6859208130121794 \n",
      " apur:0.6006773705917342 \n",
      " f1:0.5727699530516432 \n",
      " precision:0.5244387836331794 \n",
      " recall:0.6309136180808275 \n",
      ", 'Validation':  best_epoch_indx:3\n",
      " auc:0.6859208126832863 \n",
      " apur:0.6006773702665869 \n",
      " f1:0.5727699530516432 \n",
      " precision:0.5244387836331794 \n",
      " recall:0.6309136180808275 \n",
      ", 'Test':  best_epoch_indx:3\n",
      " auc:0.6859208130121794 \n",
      " apur:0.6006773707885568 \n",
      " f1:0.5727699530516432 \n",
      " precision:0.5244387836331794 \n",
      " recall:0.6309136180808275 \n",
      "}\n",
      "=====Epoch 4\n",
      "Training...\n"
     ]
    },
    {
     "name": "stderr",
     "output_type": "stream",
     "text": [
      "Iteration: 100%|██████████| 267/267 [00:05<00:00, 44.97it/s]\n",
      "Iteration:   5%|▍         | 13/267 [00:00<00:02, 122.33it/s]"
     ]
    },
    {
     "name": "stdout",
     "output_type": "stream",
     "text": [
      "Evaluating...\n"
     ]
    },
    {
     "name": "stderr",
     "output_type": "stream",
     "text": [
      "Iteration: 100%|██████████| 267/267 [00:07<00:00, 36.17it/s]]\n",
      "Iteration:  37%|███▋      | 100/267 [00:02<00:04, 36.51it/s]"
     ]
    },
    {
     "name": "stdout",
     "output_type": "stream",
     "text": [
      "Evaluating...\n"
     ]
    },
    {
     "name": "stderr",
     "output_type": "stream",
     "text": [
      "Iteration: 100%|██████████| 267/267 [00:02<00:00, 129.20it/s]\n",
      "Iteration: 100%|██████████| 267/267 [00:06<00:00, 41.33it/s]\n",
      "Iteration:  29%|██▉       | 77/267 [00:01<00:02, 71.03it/s]]"
     ]
    },
    {
     "name": "stdout",
     "output_type": "stream",
     "text": [
      "Evaluating...\n"
     ]
    },
    {
     "name": "stderr",
     "output_type": "stream",
     "text": [
      "\r",
      "Iteration:   5%|▍         | 13/267 [00:00<00:02, 121.25it/s]\r",
      "Iteration:  98%|█████████▊| 261/267 [00:05<00:00, 45.59it/s]\r",
      "Iteration:  32%|███▏      | 85/267 [00:01<00:02, 73.18it/s]\r",
      "Iteration:  55%|█████▍    | 146/267 [00:03<00:03, 37.06it/s]\r",
      "Iteration:  10%|▉         | 26/267 [00:00<00:01, 125.00it/s]\r",
      "Iteration: 100%|█████████▉| 266/267 [00:05<00:00, 45.60it/s]\r",
      "Iteration:   0%|          | 0/267 [00:00<?, ?it/s]\r",
      "Iteration: 100%|██████████| 267/267 [00:05<00:00, 45.25it/s]\n",
      "\r",
      "Iteration:   0%|          | 0/267 [00:00<?, ?it/s]\r",
      "Iteration:  35%|███▍      | 93/267 [00:01<00:02, 71.58it/s]\r",
      "Iteration:  57%|█████▋    | 151/267 [00:03<00:03, 38.06it/s]"
     ]
    },
    {
     "name": "stdout",
     "output_type": "stream",
     "text": [
      "Evaluating...\n"
     ]
    },
    {
     "name": "stderr",
     "output_type": "stream",
     "text": [
      "Iteration: 100%|██████████| 267/267 [00:02<00:00, 120.87it/s]\n",
      "Iteration: 100%|██████████| 267/267 [00:02<00:00, 116.63it/s]\n",
      "Iteration: 100%|██████████| 267/267 [00:02<00:00, 115.66it/s]\n",
      "Iteration: 100%|██████████| 267/267 [00:03<00:00, 73.19it/s] \n",
      "Iteration: 100%|██████████| 267/267 [00:07<00:00, 37.56it/s]\n",
      "Iteration:   3%|▎         | 7/267 [00:00<00:03, 65.47it/s]s]"
     ]
    },
    {
     "name": "stdout",
     "output_type": "stream",
     "text": [
      "Evaluating...\n"
     ]
    },
    {
     "name": "stderr",
     "output_type": "stream",
     "text": [
      "Iteration: 100%|██████████| 267/267 [00:02<00:00, 116.66it/s]\n",
      "Iteration: 100%|██████████| 267/267 [00:02<00:00, 120.06it/s]\n",
      "Iteration: 100%|██████████| 267/267 [00:02<00:00, 119.09it/s]\n",
      "Iteration: 100%|██████████| 267/267 [00:03<00:00, 72.10it/s]]\n",
      "Iteration: 100%|██████████| 267/267 [00:03<00:00, 78.93it/s] \n",
      "Iteration:   0%|          | 0/267 [00:00<?, ?it/s]5.57it/s]s]"
     ]
    },
    {
     "name": "stdout",
     "output_type": "stream",
     "text": [
      "{'Train':  best_epoch_indx:3\n",
      " auc:0.689533619578212 \n",
      " apur:0.6028225144513856 \n",
      " f1:0.5880205022787823 \n",
      " precision:0.5101250674613417 \n",
      " recall:0.6939922109429867 \n",
      ", 'Validation':  best_epoch_indx:3\n",
      " auc:0.689533619578212 \n",
      " apur:0.6028225144513856 \n",
      " f1:0.5880205022787823 \n",
      " precision:0.5101250674613417 \n",
      " recall:0.6939922109429867 \n",
      ", 'Test':  best_epoch_indx:3\n",
      " auc:0.689533619578212 \n",
      " apur:0.6028225144513856 \n",
      " f1:0.5880205022787823 \n",
      " precision:0.5101250674613417 \n",
      " recall:0.6939922109429867 \n",
      "}\n",
      "=====Epoch 4\n",
      "Training...\n"
     ]
    },
    {
     "name": "stderr",
     "output_type": "stream",
     "text": [
      "Iteration: 100%|██████████| 267/267 [00:02<00:00, 125.59it/s]\n",
      "Iteration: 100%|██████████| 267/267 [00:02<00:00, 113.36it/s]\n",
      "Iteration:  26%|██▌       | 69/267 [00:01<00:04, 41.68it/s]s]"
     ]
    },
    {
     "name": "stdout",
     "output_type": "stream",
     "text": [
      "{'Train':  best_epoch_indx:4\n",
      " auc:0.6933029569695279 \n",
      " apur:0.6076677657096999 \n",
      " f1:0.579532045932023 \n",
      " precision:0.5276023790185238 \n",
      " recall:0.6428001404539215 \n",
      ", 'Validation':  best_epoch_indx:4\n",
      " auc:0.6933029569695279 \n",
      " apur:0.6076677657096999 \n",
      " f1:0.579532045932023 \n",
      " precision:0.5276023790185238 \n",
      " recall:0.6428001404539215 \n",
      ", 'Test':  best_epoch_indx:4\n",
      " auc:0.6933029569695279 \n",
      " apur:0.6076677657096999 \n",
      " f1:0.579532045932023 \n",
      " precision:0.5276023790185238 \n",
      " recall:0.6428001404539215 \n",
      "}\n",
      "=====Epoch 5\n",
      "Training...\n"
     ]
    },
    {
     "name": "stderr",
     "output_type": "stream",
     "text": [
      "Iteration: 100%|██████████| 267/267 [00:03<00:00, 85.57it/s] \n",
      "Iteration:  29%|██▉       | 78/267 [00:01<00:02, 65.63it/s]]"
     ]
    },
    {
     "name": "stdout",
     "output_type": "stream",
     "text": [
      "{'Train':  best_epoch_indx:4\n",
      " auc:0.6797512643855431 \n",
      " apur:0.5958635941636887 \n",
      " f1:0.5532599132307878 \n",
      " precision:0.527112961035958 \n",
      " recall:0.5821362446530038 \n",
      ", 'Validation':  best_epoch_indx:4\n",
      " auc:0.6797512643855431 \n",
      " apur:0.5958635861308208 \n",
      " f1:0.5532599132307878 \n",
      " precision:0.527112961035958 \n",
      " recall:0.5821362446530038 \n",
      ", 'Test':  best_epoch_indx:4\n",
      " auc:0.6797512643855431 \n",
      " apur:0.5958635941636887 \n",
      " f1:0.5532599132307878 \n",
      " precision:0.527112961035958 \n",
      " recall:0.5821362446530038 \n",
      "}\n",
      "=====Epoch 5\n",
      "Training...\n"
     ]
    },
    {
     "name": "stderr",
     "output_type": "stream",
     "text": [
      "Iteration: 100%|██████████| 267/267 [00:02<00:00, 102.66it/s]\n",
      "Iteration:  34%|███▍      | 91/267 [00:02<00:04, 38.04it/s]]"
     ]
    },
    {
     "name": "stdout",
     "output_type": "stream",
     "text": [
      "{'Train':  best_epoch_indx:4\n",
      " auc:0.6879690708002794 \n",
      " apur:0.6019213327869039 \n",
      " f1:0.564917504785634 \n",
      " precision:0.538961038961039 \n",
      " recall:0.5935006065249314 \n",
      ", 'Validation':  best_epoch_indx:4\n",
      " auc:0.6879690708002794 \n",
      " apur:0.6019213327868655 \n",
      " f1:0.564917504785634 \n",
      " precision:0.538961038961039 \n",
      " recall:0.5935006065249314 \n",
      ", 'Test':  best_epoch_indx:4\n",
      " auc:0.6879690711291725 \n",
      " apur:0.6019213348518043 \n",
      " f1:0.564917504785634 \n",
      " precision:0.538961038961039 \n",
      " recall:0.5935006065249314 \n",
      "}\n",
      "=====Epoch 5\n",
      "Training...\n"
     ]
    },
    {
     "name": "stderr",
     "output_type": "stream",
     "text": [
      "Iteration: 100%|██████████| 267/267 [00:04<00:00, 58.74it/s]\n",
      "Iteration: 100%|██████████| 267/267 [00:06<00:00, 43.78it/s]\n",
      "Iteration:   5%|▍         | 13/267 [00:00<00:02, 121.02it/s]"
     ]
    },
    {
     "name": "stdout",
     "output_type": "stream",
     "text": [
      "Evaluating...\n"
     ]
    },
    {
     "name": "stderr",
     "output_type": "stream",
     "text": [
      "Iteration:  25%|██▍       | 66/267 [00:01<00:05, 35.80it/s]]"
     ]
    },
    {
     "name": "stdout",
     "output_type": "stream",
     "text": [
      "{'Train':  best_epoch_indx:4\n",
      " auc:0.6909233018120865 \n",
      " apur:0.6056348343439985 \n",
      " f1:0.5750805211386124 \n",
      " precision:0.5271010638297873 \n",
      " recall:0.6326693481453106 \n",
      ", 'Validation':  best_epoch_indx:4\n",
      " auc:0.6909233014831935 \n",
      " apur:0.6056348342300948 \n",
      " f1:0.5750805211386124 \n",
      " precision:0.5271010638297873 \n",
      " recall:0.6326693481453106 \n",
      ", 'Test':  best_epoch_indx:4\n",
      " auc:0.6909233014831935 \n",
      " apur:0.6056348342300948 \n",
      " f1:0.5750805211386124 \n",
      " precision:0.5271010638297873 \n",
      " recall:0.6326693481453106 \n",
      "}\n",
      "=====Epoch 5\n",
      "Training...\n"
     ]
    },
    {
     "name": "stderr",
     "output_type": "stream",
     "text": [
      "Iteration: 100%|██████████| 267/267 [00:05<00:00, 44.62it/s]]\n",
      "Iteration:  65%|██████▍   | 173/267 [00:01<00:00, 114.34it/s]"
     ]
    },
    {
     "name": "stdout",
     "output_type": "stream",
     "text": [
      "Evaluating...\n"
     ]
    },
    {
     "name": "stderr",
     "output_type": "stream",
     "text": [
      "Iteration: 100%|██████████| 267/267 [00:02<00:00, 122.70it/s]\n",
      "Iteration: 100%|██████████| 267/267 [00:06<00:00, 42.16it/s]]\n",
      "Iteration:  56%|█████▌    | 150/267 [00:03<00:02, 39.45it/s]]"
     ]
    },
    {
     "name": "stdout",
     "output_type": "stream",
     "text": [
      "Evaluating...\n"
     ]
    },
    {
     "name": "stderr",
     "output_type": "stream",
     "text": [
      "Iteration: 100%|██████████| 267/267 [00:02<00:00, 118.03it/s]\n",
      "Iteration: 100%|██████████| 267/267 [00:02<00:00, 124.49it/s]\n",
      "Iteration: 100%|██████████| 267/267 [00:07<00:00, 37.80it/s]]\n",
      "Iteration:   5%|▍         | 13/267 [00:00<00:02, 122.27it/s]]"
     ]
    },
    {
     "name": "stdout",
     "output_type": "stream",
     "text": [
      "Evaluating...\n"
     ]
    },
    {
     "name": "stderr",
     "output_type": "stream",
     "text": [
      "Iteration: 100%|██████████| 267/267 [00:02<00:00, 120.84it/s]\n",
      "Iteration: 100%|██████████| 267/267 [00:03<00:00, 71.57it/s]\n",
      "Iteration: 100%|██████████| 267/267 [00:06<00:00, 42.10it/s]]\n",
      "Iteration:   4%|▍         | 12/267 [00:00<00:02, 119.38it/s]]"
     ]
    },
    {
     "name": "stdout",
     "output_type": "stream",
     "text": [
      "Evaluating...\n"
     ]
    },
    {
     "name": "stderr",
     "output_type": "stream",
     "text": [
      "Iteration: 100%|██████████| 267/267 [00:02<00:00, 122.09it/s]\n",
      "Iteration: 100%|██████████| 267/267 [00:03<00:00, 85.44it/s] \n",
      "Iteration: 100%|██████████| 267/267 [00:02<00:00, 117.74it/s]\n",
      "Iteration: 100%|██████████| 267/267 [00:02<00:00, 106.85it/s]\n",
      "Iteration:  30%|██▉       | 80/267 [00:01<00:02, 68.60it/s]s]"
     ]
    },
    {
     "name": "stdout",
     "output_type": "stream",
     "text": [
      "{'Train':  best_epoch_indx:5\n",
      " auc:0.7020935887196145 \n",
      " apur:0.6169313341693174 \n",
      " f1:0.5788565721376472 \n",
      " precision:0.5503093080132355 \n",
      " recall:0.6105276598461391 \n",
      ", 'Validation':  best_epoch_indx:5\n",
      " auc:0.7020935883907251 \n",
      " apur:0.6169313339775007 \n",
      " f1:0.5788565721376472 \n",
      " precision:0.5503093080132355 \n",
      " recall:0.6105276598461391 \n",
      ", 'Test':  best_epoch_indx:5\n",
      " auc:0.7020935887196145 \n",
      " apur:0.6169313341693174 \n",
      " f1:0.5788565721376472 \n",
      " precision:0.5503093080132355 \n",
      " recall:0.6105276598461391 \n",
      "}\n",
      "=====Epoch 6\n",
      "Training...\n"
     ]
    },
    {
     "name": "stderr",
     "output_type": "stream",
     "text": [
      "Iteration: 100%|██████████| 267/267 [00:02<00:00, 90.65it/s] \n",
      "Iteration: 100%|██████████| 267/267 [00:02<00:00, 105.47it/s]\n",
      "Iteration:   0%|          | 0/267 [00:00<?, ?it/s]68.13it/s]]"
     ]
    },
    {
     "name": "stdout",
     "output_type": "stream",
     "text": [
      "{'Train':  best_epoch_indx:4\n",
      " auc:0.6860560857597454 \n",
      " apur:0.598498797752227 \n",
      " f1:0.5623038412664391 \n",
      " precision:0.5402606572327969 \n",
      " recall:0.5862223073485284 \n",
      ", 'Validation':  best_epoch_indx:4\n",
      " auc:0.6860560857597454 \n",
      " apur:0.598498797752227 \n",
      " f1:0.5623038412664391 \n",
      " precision:0.5402606572327969 \n",
      " recall:0.5862223073485284 \n",
      ", 'Test':  best_epoch_indx:4\n",
      " auc:0.6860560857597454 \n",
      " apur:0.598498797752227 \n",
      " f1:0.5623038412664391 \n",
      " precision:0.5402606572327969 \n",
      " recall:0.5862223073485284 \n",
      "}\n",
      "=====Epoch 5\n",
      "Training...\n"
     ]
    },
    {
     "name": "stderr",
     "output_type": "stream",
     "text": [
      "Iteration: 100%|██████████| 267/267 [00:02<00:00, 94.50it/s] \n",
      "Iteration: 100%|██████████| 267/267 [00:02<00:00, 90.34it/s] \n",
      "Iteration:   2%|▏         | 6/267 [00:00<00:05, 50.42it/s]s]]"
     ]
    },
    {
     "name": "stdout",
     "output_type": "stream",
     "text": [
      "{'Train':  best_epoch_indx:5\n",
      " auc:0.6900094441891019 \n",
      " apur:0.6045853646368924 \n",
      " f1:0.5670539026363596 \n",
      " precision:0.5433720487990404 \n",
      " recall:0.5928940815935645 \n",
      ", 'Validation':  best_epoch_indx:5\n",
      " auc:0.6900094441891019 \n",
      " apur:0.6045853646368924 \n",
      " f1:0.5670539026363596 \n",
      " precision:0.5433720487990404 \n",
      " recall:0.5928940815935645 \n",
      ", 'Test':  best_epoch_indx:5\n",
      " auc:0.6900094445180018 \n",
      " apur:0.6045853648243231 \n",
      " f1:0.5670539026363596 \n",
      " precision:0.5433720487990404 \n",
      " recall:0.5928940815935645 \n",
      "}\n",
      "=====Epoch 6\n",
      "Training...\n"
     ]
    },
    {
     "name": "stderr",
     "output_type": "stream",
     "text": [
      "Iteration: 100%|██████████| 267/267 [00:02<00:00, 108.33it/s]\n",
      "Iteration:  66%|██████▌   | 175/267 [00:04<00:02, 35.77it/s]"
     ]
    },
    {
     "name": "stdout",
     "output_type": "stream",
     "text": [
      "{'Train':  best_epoch_indx:5\n",
      " auc:0.7011924897680368 \n",
      " apur:0.6143734561970233 \n",
      " f1:0.5928515274034143 \n",
      " precision:0.5291184283065203 \n",
      " recall:0.674040732937496 \n",
      ", 'Validation':  best_epoch_indx:5\n",
      " auc:0.7011924897680368 \n",
      " apur:0.6143734561970233 \n",
      " f1:0.5928515274034143 \n",
      " precision:0.5291184283065203 \n",
      " recall:0.674040732937496 \n",
      ", 'Test':  best_epoch_indx:5\n",
      " auc:0.7011924897680368 \n",
      " apur:0.6143734561970233 \n",
      " f1:0.5928515274034143 \n",
      " precision:0.5291184283065203 \n",
      " recall:0.674040732937496 \n",
      "}\n",
      "=====Epoch 6\n",
      "Training...\n"
     ]
    },
    {
     "name": "stderr",
     "output_type": "stream",
     "text": [
      "Iteration: 100%|██████████| 267/267 [00:02<00:00, 90.56it/s] \n",
      "Iteration: 100%|██████████| 267/267 [00:05<00:00, 45.10it/s]\n",
      "Iteration:  70%|███████   | 187/267 [00:04<00:01, 45.40it/s]"
     ]
    },
    {
     "name": "stdout",
     "output_type": "stream",
     "text": [
      "Evaluating...\n",
      "{'Train':  best_epoch_indx:5\n",
      " auc:0.6963555190545603 \n",
      " apur:0.613227780564841 \n",
      " f1:0.5738775751485237 \n",
      " precision:0.5342872867363786 \n",
      " recall:0.6198046351273703 \n",
      ", 'Validation':  best_epoch_indx:5\n",
      " auc:0.6963555190545602 \n",
      " apur:0.613227780564841 \n",
      " f1:0.5738775751485237 \n",
      " precision:0.5342872867363786 \n",
      " recall:0.6198046351273703 \n",
      ", 'Test':  best_epoch_indx:5\n",
      " auc:0.6963555190545602 \n",
      " apur:0.613227780564841 \n",
      " f1:0.5738775751485237 \n",
      " precision:0.5342872867363786 \n",
      " recall:0.6198046351273703 \n",
      "}\n",
      "=====Epoch 6\n",
      "Training...\n"
     ]
    },
    {
     "name": "stderr",
     "output_type": "stream",
     "text": [
      "Iteration: 100%|██████████| 267/267 [00:07<00:00, 36.64it/s]\n",
      "Iteration:   0%|          | 0/267 [00:00<?, ?it/s]"
     ]
    },
    {
     "name": "stdout",
     "output_type": "stream",
     "text": [
      "Evaluating...\n"
     ]
    },
    {
     "name": "stderr",
     "output_type": "stream",
     "text": [
      "Iteration: 100%|██████████| 267/267 [00:05<00:00, 45.38it/s]]\n",
      "Iteration:   4%|▍         | 12/267 [00:00<00:02, 118.30it/s]]"
     ]
    },
    {
     "name": "stdout",
     "output_type": "stream",
     "text": [
      "Evaluating...\n"
     ]
    },
    {
     "name": "stderr",
     "output_type": "stream",
     "text": [
      "Iteration: 100%|██████████| 267/267 [00:02<00:00, 120.77it/s]\n",
      "Iteration: 100%|██████████| 267/267 [00:02<00:00, 116.29it/s]\n",
      "Iteration: 100%|██████████| 267/267 [00:02<00:00, 124.27it/s]\n",
      "Iteration: 100%|██████████| 267/267 [00:02<00:00, 123.12it/s]\n",
      "Iteration: 100%|██████████| 267/267 [00:07<00:00, 36.17it/s]]\n",
      "Iteration:  40%|████      | 107/267 [00:00<00:01, 129.67it/s]"
     ]
    },
    {
     "name": "stdout",
     "output_type": "stream",
     "text": [
      "Evaluating...\n"
     ]
    },
    {
     "name": "stderr",
     "output_type": "stream",
     "text": [
      "Iteration: 100%|██████████| 267/267 [00:02<00:00, 128.68it/s]\n",
      "Iteration: 100%|██████████| 267/267 [00:06<00:00, 41.94it/s]]\n",
      "Iteration:  33%|███▎      | 88/267 [00:01<00:02, 67.89it/s]]]"
     ]
    },
    {
     "name": "stdout",
     "output_type": "stream",
     "text": [
      "Evaluating...\n"
     ]
    },
    {
     "name": "stderr",
     "output_type": "stream",
     "text": [
      "Iteration: 100%|██████████| 267/267 [00:02<00:00, 128.82it/s]\n",
      "Iteration: 100%|██████████| 267/267 [00:03<00:00, 82.88it/s] \n",
      "Iteration: 100%|██████████| 267/267 [00:02<00:00, 113.46it/s]\n",
      "Iteration: 100%|██████████| 267/267 [00:02<00:00, 117.83it/s]\n",
      "Iteration:  66%|██████▋   | 177/267 [00:02<00:01, 57.30it/s]"
     ]
    },
    {
     "name": "stdout",
     "output_type": "stream",
     "text": [
      "{'Train':  best_epoch_indx:5\n",
      " auc:0.6983750282963183 \n",
      " apur:0.6150008436019155 \n",
      " f1:0.5781545637219672 \n",
      " precision:0.5348004233033946 \n",
      " recall:0.6291578880163442 \n",
      ", 'Validation':  best_epoch_indx:5\n",
      " auc:0.6983750279674252 \n",
      " apur:0.6150008434938239 \n",
      " f1:0.5781545637219672 \n",
      " precision:0.5348004233033946 \n",
      " recall:0.6291578880163442 \n",
      ", 'Test':  best_epoch_indx:5\n",
      " auc:0.6983750282963183 \n",
      " apur:0.6150008436019272 \n",
      " f1:0.5781545637219672 \n",
      " precision:0.5348004233033946 \n",
      " recall:0.6291578880163442 \n",
      "}\n",
      "=====Epoch 6\n",
      "Training...\n"
     ]
    },
    {
     "name": "stderr",
     "output_type": "stream",
     "text": [
      "Iteration: 100%|██████████| 267/267 [00:04<00:00, 61.13it/s]]\n",
      "Iteration: 100%|██████████| 267/267 [00:02<00:00, 125.75it/s]\n",
      "Iteration: 100%|██████████| 267/267 [00:03<00:00, 79.11it/s]\n",
      "Iteration:  87%|████████▋ | 231/267 [00:02<00:00, 69.15it/s]"
     ]
    },
    {
     "name": "stdout",
     "output_type": "stream",
     "text": [
      "{'Train':  best_epoch_indx:6\n",
      " auc:0.7073549157286962 \n",
      " apur:0.622878114726262 \n",
      " f1:0.5962514642717689 \n",
      " precision:0.5294073945667517 \n",
      " recall:0.68241453059661 \n",
      ", 'Validation':  best_epoch_indx:6\n",
      " auc:0.7073549150709175 \n",
      " apur:0.6228781139445375 \n",
      " f1:0.5962514642717689 \n",
      " precision:0.5294073945667517 \n",
      " recall:0.68241453059661 \n",
      ", 'Test':  best_epoch_indx:6\n",
      " auc:0.7073549160575857 \n",
      " apur:0.6228781149526149 \n",
      " f1:0.5962514642717689 \n",
      " precision:0.5294073945667517 \n",
      " recall:0.68241453059661 \n",
      "}\n",
      "=====Epoch 7\n",
      "Training...\n"
     ]
    },
    {
     "name": "stderr",
     "output_type": "stream",
     "text": [
      "Iteration: 100%|██████████| 267/267 [00:02<00:00, 95.16it/s]\n",
      "Iteration:  10%|█         | 27/267 [00:00<00:02, 90.89it/s]]"
     ]
    },
    {
     "name": "stdout",
     "output_type": "stream",
     "text": [
      "{'Train':  best_epoch_indx:6\n",
      " auc:0.7074606598212891 \n",
      " apur:0.6237814958333818 \n",
      " f1:0.5861393663042207 \n",
      " precision:0.540541269071109 \n",
      " recall:0.6401391815105663 \n",
      ", 'Validation':  best_epoch_indx:6\n",
      " auc:0.7074606598212891 \n",
      " apur:0.6237814958333818 \n",
      " f1:0.5861393663042207 \n",
      " precision:0.540541269071109 \n",
      " recall:0.6401391815105663 \n",
      ", 'Test':  best_epoch_indx:6\n",
      " auc:0.7074606598212893 \n",
      " apur:0.6237814958275987 \n",
      " f1:0.5861393663042207 \n",
      " precision:0.540541269071109 \n",
      " recall:0.6401391815105663 \n",
      "}\n",
      "=====Epoch 7\n",
      "Training...\n"
     ]
    },
    {
     "name": "stderr",
     "output_type": "stream",
     "text": [
      "Iteration: 100%|██████████| 267/267 [00:02<00:00, 117.98it/s]\n",
      "Iteration: 100%|██████████| 267/267 [00:05<00:00, 45.13it/s]\n",
      "Iteration:  58%|█████▊    | 155/267 [00:03<00:02, 45.67it/s]"
     ]
    },
    {
     "name": "stdout",
     "output_type": "stream",
     "text": [
      "Evaluating...\n"
     ]
    },
    {
     "name": "stderr",
     "output_type": "stream",
     "text": [
      "Iteration:  52%|█████▏    | 139/267 [00:02<00:01, 67.98it/s]"
     ]
    },
    {
     "name": "stdout",
     "output_type": "stream",
     "text": [
      "{'Train':  best_epoch_indx:6\n",
      " auc:0.7101518849409832 \n",
      " apur:0.625148828969246 \n",
      " f1:0.5952618910206782 \n",
      " precision:0.532393302278736 \n",
      " recall:0.6749664815169508 \n",
      ", 'Validation':  best_epoch_indx:6\n",
      " auc:0.7101518849409832 \n",
      " apur:0.625148828969246 \n",
      " f1:0.5952618910206782 \n",
      " precision:0.532393302278736 \n",
      " recall:0.6749664815169508 \n",
      ", 'Test':  best_epoch_indx:6\n",
      " auc:0.7101518849409832 \n",
      " apur:0.625148828969246 \n",
      " f1:0.5952618910206782 \n",
      " precision:0.532393302278736 \n",
      " recall:0.6749664815169508 \n",
      "}\n",
      "=====Epoch 7\n",
      "Training...\n"
     ]
    },
    {
     "name": "stderr",
     "output_type": "stream",
     "text": [
      "Iteration: 100%|██████████| 267/267 [00:03<00:00, 79.61it/s] \n",
      "Iteration: 100%|██████████| 267/267 [00:02<00:00, 121.17it/s]\n",
      "Iteration: 100%|██████████| 267/267 [00:05<00:00, 44.76it/s]\n",
      "Iteration:   4%|▍         | 12/267 [00:00<00:02, 119.37it/s]"
     ]
    },
    {
     "name": "stdout",
     "output_type": "stream",
     "text": [
      "Evaluating...\n",
      "{'Train':  best_epoch_indx:6\n",
      " auc:0.708540721156545 \n",
      " apur:0.6246566863021128 \n",
      " f1:0.5859867039888034 \n",
      " precision:0.5392851392690388 \n",
      " recall:0.6415437655621529 \n",
      ", 'Validation':  best_epoch_indx:6\n",
      " auc:0.7085407214854381 \n",
      " apur:0.6246566866087622 \n",
      " f1:0.5859867039888034 \n",
      " precision:0.5392851392690388 \n",
      " recall:0.6415437655621529 \n",
      ", 'Test':  best_epoch_indx:6\n",
      " auc:0.7085407214854381 \n",
      " apur:0.6246566866087622 \n",
      " f1:0.5859867039888034 \n",
      " precision:0.5392851392690388 \n",
      " recall:0.6415437655621529 \n",
      "}\n",
      "=====Epoch 7\n",
      "Training...\n"
     ]
    },
    {
     "name": "stderr",
     "output_type": "stream",
     "text": [
      "Iteration: 100%|██████████| 267/267 [00:02<00:00, 119.86it/s]\n",
      "Iteration: 100%|██████████| 267/267 [00:06<00:00, 38.33it/s]]\n",
      "Iteration:  38%|███▊      | 102/267 [00:02<00:03, 45.65it/s]]"
     ]
    },
    {
     "name": "stdout",
     "output_type": "stream",
     "text": [
      "Evaluating...\n"
     ]
    },
    {
     "name": "stderr",
     "output_type": "stream",
     "text": [
      "Iteration: 100%|██████████| 267/267 [00:02<00:00, 125.57it/s]\n",
      "Iteration: 100%|██████████| 267/267 [00:02<00:00, 105.19it/s]\n",
      "Iteration: 100%|██████████| 267/267 [00:07<00:00, 37.70it/s]]\n",
      "Iteration: 100%|██████████| 267/267 [00:02<00:00, 113.52it/s]\n",
      "Iteration:  28%|██▊       | 75/267 [00:01<00:03, 62.58it/s]]"
     ]
    },
    {
     "name": "stdout",
     "output_type": "stream",
     "text": [
      "Evaluating...\n"
     ]
    },
    {
     "name": "stderr",
     "output_type": "stream",
     "text": [
      "Iteration: 100%|██████████| 267/267 [00:05<00:00, 44.51it/s]\n",
      "Iteration:  44%|████▍     | 117/267 [00:01<00:02, 60.01it/s]"
     ]
    },
    {
     "name": "stdout",
     "output_type": "stream",
     "text": [
      "Evaluating...\n"
     ]
    },
    {
     "name": "stderr",
     "output_type": "stream",
     "text": [
      "Iteration: 100%|██████████| 267/267 [00:03<00:00, 81.54it/s] \n",
      "Iteration: 100%|██████████| 267/267 [00:02<00:00, 122.99it/s]\n",
      "Iteration:   0%|          | 0/267 [00:00<?, ?it/s]2.83it/s]s]"
     ]
    },
    {
     "name": "stdout",
     "output_type": "stream",
     "text": [
      "{'Train':  best_epoch_indx:6\n",
      " auc:0.7104622840581605 \n",
      " apur:0.6253988070468285 \n",
      " f1:0.5904930785951263 \n",
      " precision:0.5348427542614372 \n",
      " recall:0.6590691438421759 \n",
      ", 'Validation':  best_epoch_indx:6\n",
      " auc:0.7104622840581604 \n",
      " apur:0.6253988070468285 \n",
      " f1:0.5904930785951263 \n",
      " precision:0.5348427542614372 \n",
      " recall:0.6590691438421759 \n",
      ", 'Test':  best_epoch_indx:6\n",
      " auc:0.7104622840581604 \n",
      " apur:0.6253988070468425 \n",
      " f1:0.5904930785951263 \n",
      " precision:0.5348427542614372 \n",
      " recall:0.6590691438421759 \n",
      "}\n",
      "=====Epoch 7\n",
      "Training...\n"
     ]
    },
    {
     "name": "stderr",
     "output_type": "stream",
     "text": [
      "Iteration: 100%|██████████| 267/267 [00:02<00:00, 116.87it/s]\n",
      "Iteration: 100%|██████████| 267/267 [00:03<00:00, 70.43it/s]\n",
      "Iteration: 100%|██████████| 267/267 [00:03<00:00, 78.12it/s] \n",
      "Iteration:  79%|███████▊  | 210/267 [00:01<00:00, 84.97it/s]]"
     ]
    },
    {
     "name": "stdout",
     "output_type": "stream",
     "text": [
      "{'Train':  best_epoch_indx:7\n",
      " auc:0.7139439750998163 \n",
      " apur:0.6299177919032956 \n",
      " f1:0.5983965855346637 \n",
      " precision:0.5456936226166995 \n",
      " recall:0.6623679254317362 \n",
      ", 'Validation':  best_epoch_indx:7\n",
      " auc:0.7139439754287058 \n",
      " apur:0.629917792208024 \n",
      " f1:0.5983965855346637 \n",
      " precision:0.5456936226166995 \n",
      " recall:0.6623679254317362 \n",
      ", 'Test':  best_epoch_indx:7\n",
      " auc:0.7139439754287058 \n",
      " apur:0.629917792208024 \n",
      " f1:0.5983965855346637 \n",
      " precision:0.5456936226166995 \n",
      " recall:0.6623679254317362 \n",
      "}\n",
      "=====Epoch 8\n",
      "Training...\n"
     ]
    },
    {
     "name": "stderr",
     "output_type": "stream",
     "text": [
      "Iteration: 100%|██████████| 267/267 [00:02<00:00, 97.89it/s]]\n",
      "Iteration: 100%|██████████| 267/267 [00:02<00:00, 98.29it/s] \n",
      "Iteration: 100%|██████████| 267/267 [00:03<00:00, 69.94it/s]\n",
      "Iteration:   2%|▏         | 5/267 [00:00<00:05, 44.21it/s]s]"
     ]
    },
    {
     "name": "stdout",
     "output_type": "stream",
     "text": [
      "{'Train':  best_epoch_indx:7\n",
      " auc:0.7103421612311508 \n",
      " apur:0.6263071180087114 \n",
      " f1:0.5946554070946416 \n",
      " precision:0.5263326121164438 \n",
      " recall:0.6833620634616613 \n",
      ", 'Validation':  best_epoch_indx:7\n",
      " auc:0.7103421618889506 \n",
      " apur:0.6263071183721205 \n",
      " f1:0.5946554070946416 \n",
      " precision:0.5263326121164438 \n",
      " recall:0.6833620634616613 \n",
      ", 'Test':  best_epoch_indx:7\n",
      " auc:0.7103421612311508 \n",
      " apur:0.6263071180087114 \n",
      " f1:0.5946554070946416 \n",
      " precision:0.5263326121164438 \n",
      " recall:0.6833620634616613 \n",
      "}\n",
      "=====Epoch 8\n",
      "Training...\n"
     ]
    },
    {
     "name": "stderr",
     "output_type": "stream",
     "text": [
      "Iteration: 100%|██████████| 267/267 [00:06<00:00, 44.04it/s]\n",
      "Iteration:  53%|█████▎    | 141/267 [00:03<00:02, 43.93it/s]]"
     ]
    },
    {
     "name": "stdout",
     "output_type": "stream",
     "text": [
      "Evaluating...\n"
     ]
    },
    {
     "name": "stderr",
     "output_type": "stream",
     "text": [
      "Iteration: 100%|██████████| 267/267 [00:02<00:00, 118.79it/s]\n",
      "Iteration: 100%|██████████| 267/267 [00:02<00:00, 123.74it/s]\n",
      "Iteration:   0%|          | 0/267 [00:00<?, ?it/s]45.69it/s]"
     ]
    },
    {
     "name": "stdout",
     "output_type": "stream",
     "text": [
      "{'Train':  best_epoch_indx:7\n",
      " auc:0.7163037696320077 \n",
      " apur:0.6330198804419532 \n",
      " f1:0.5940874649483922 \n",
      " precision:0.5575620135505908 \n",
      " recall:0.635733895166954 \n",
      ", 'Validation':  best_epoch_indx:7\n",
      " auc:0.7163037696320077 \n",
      " apur:0.6330198804419532 \n",
      " f1:0.5940874649483922 \n",
      " precision:0.5575620135505908 \n",
      " recall:0.635733895166954 \n",
      ", 'Test':  best_epoch_indx:7\n",
      " auc:0.7163037696320077 \n",
      " apur:0.6330198804419532 \n",
      " f1:0.5940874649483922 \n",
      " precision:0.5575620135505908 \n",
      " recall:0.635733895166954 \n",
      "}\n",
      "=====Epoch 8\n",
      "Training...\n",
      "{'Train':  best_epoch_indx:7\n",
      " auc:0.7143170188013322 \n",
      " apur:0.6290787244754559 \n",
      " f1:0.5840829394724805 \n",
      " precision:0.5590415596544478 \n",
      " recall:0.6114728979122773 \n",
      ", 'Validation':  best_epoch_indx:7\n",
      " auc:0.7143170184724391 \n",
      " apur:0.6290787242279247 \n",
      " f1:0.5840829394724805 \n",
      " precision:0.5590415596544478 \n",
      " recall:0.6114728979122773 \n",
      ", 'Test':  best_epoch_indx:7\n",
      " auc:0.7143170184724391 \n",
      " apur:0.6290787242279247 \n",
      " f1:0.5840829394724805 \n",
      " precision:0.5590415596544478 \n",
      " recall:0.6114728979122773 \n",
      "}\n",
      "=====Epoch 8\n",
      "Training...\n"
     ]
    },
    {
     "name": "stderr",
     "output_type": "stream",
     "text": [
      "Iteration: 100%|██████████| 267/267 [00:06<00:00, 43.66it/s]\n",
      "Iteration:  46%|████▌     | 123/267 [00:03<00:03, 43.26it/s]"
     ]
    },
    {
     "name": "stdout",
     "output_type": "stream",
     "text": [
      "Evaluating...\n"
     ]
    },
    {
     "name": "stderr",
     "output_type": "stream",
     "text": [
      "Iteration: 100%|██████████| 267/267 [00:04<00:00, 65.91it/s]]\n",
      "Iteration: 100%|██████████| 267/267 [00:03<00:00, 88.03it/s] \n",
      "Iteration: 100%|██████████| 267/267 [00:06<00:00, 41.58it/s]\n",
      "Iteration:   5%|▍         | 13/267 [00:00<00:02, 122.13it/s]"
     ]
    },
    {
     "name": "stdout",
     "output_type": "stream",
     "text": [
      "Evaluating...\n"
     ]
    },
    {
     "name": "stderr",
     "output_type": "stream",
     "text": [
      "Iteration: 100%|██████████| 267/267 [00:02<00:00, 123.35it/s]\n",
      "Iteration: 100%|██████████| 267/267 [00:06<00:00, 44.09it/s]\n",
      "Iteration: 100%|██████████| 267/267 [00:06<00:00, 42.33it/s]\n",
      "Iteration:   0%|          | 0/267 [00:00<?, ?it/s]"
     ]
    },
    {
     "name": "stdout",
     "output_type": "stream",
     "text": [
      "Evaluating...\n",
      "Evaluating...\n"
     ]
    },
    {
     "name": "stderr",
     "output_type": "stream",
     "text": [
      "Iteration: 100%|██████████| 267/267 [00:03<00:00, 67.52it/s]\n",
      "Iteration: 100%|██████████| 267/267 [00:02<00:00, 120.51it/s]\n",
      "Iteration: 100%|██████████| 267/267 [00:03<00:00, 85.34it/s] \n",
      "Iteration: 100%|██████████| 267/267 [00:02<00:00, 119.86it/s]\n",
      "Iteration: 100%|██████████| 267/267 [00:03<00:00, 81.38it/s] \n",
      "Iteration: 100%|██████████| 267/267 [00:02<00:00, 101.16it/s]\n",
      "Iteration: 100%|██████████| 267/267 [00:02<00:00, 120.15it/s]\n",
      "Iteration:  13%|█▎        | 35/267 [00:00<00:02, 86.67it/s]]]"
     ]
    },
    {
     "name": "stdout",
     "output_type": "stream",
     "text": [
      "{'Train':  best_epoch_indx:7\n",
      " auc:0.718959009183998 \n",
      " apur:0.6358810090424806 \n",
      " f1:0.5965228171674833 \n",
      " precision:0.5547351084271205 \n",
      " recall:0.6451190704207368 \n",
      ", 'Validation':  best_epoch_indx:7\n",
      " auc:0.718959009183998 \n",
      " apur:0.6358810090424806 \n",
      " f1:0.5965228171674833 \n",
      " precision:0.5547351084271205 \n",
      " recall:0.6451190704207368 \n",
      ", 'Test':  best_epoch_indx:7\n",
      " auc:0.718959009183998 \n",
      " apur:0.6358810090424806 \n",
      " f1:0.5965228171674833 \n",
      " precision:0.5547351084271205 \n",
      " recall:0.6451190704207368 \n",
      "}\n",
      "=====Epoch 8\n",
      "Training...\n"
     ]
    },
    {
     "name": "stderr",
     "output_type": "stream",
     "text": [
      "Iteration: 100%|██████████| 267/267 [00:02<00:00, 89.20it/s] \n",
      "Iteration: 100%|██████████| 267/267 [00:03<00:00, 73.62it/s] \n",
      "Iteration: 100%|██████████| 267/267 [00:03<00:00, 87.03it/s]]\n",
      "Iteration:   2%|▏         | 5/267 [00:00<00:06, 40.39it/s]s]]"
     ]
    },
    {
     "name": "stdout",
     "output_type": "stream",
     "text": [
      "{'Train':  best_epoch_indx:8\n",
      " auc:0.7223992143364109 \n",
      " apur:0.6375367421629274 \n",
      " f1:0.6009756955126797 \n",
      " precision:0.5553720350915196 \n",
      " recall:0.6547387237845947 \n",
      ", 'Validation':  best_epoch_indx:8\n",
      " auc:0.7223992143364109 \n",
      " apur:0.6375367421629274 \n",
      " f1:0.6009756955126797 \n",
      " precision:0.5553720350915196 \n",
      " recall:0.6547387237845947 \n",
      ", 'Test':  best_epoch_indx:8\n",
      " auc:0.7223992143364109 \n",
      " apur:0.6375367421629274 \n",
      " f1:0.6009756955126797 \n",
      " precision:0.5553720350915196 \n",
      " recall:0.6547387237845947 \n",
      "}\n",
      "=====Epoch 9\n",
      "Training...\n"
     ]
    },
    {
     "name": "stderr",
     "output_type": "stream",
     "text": [
      "Iteration: 100%|██████████| 267/267 [00:02<00:00, 118.90it/s]\n",
      "Iteration:  56%|█████▌    | 150/267 [00:03<00:02, 45.31it/s]"
     ]
    },
    {
     "name": "stdout",
     "output_type": "stream",
     "text": [
      "{'Train':  best_epoch_indx:8\n",
      " auc:0.7205522729746622 \n",
      " apur:0.637333662552281 \n",
      " f1:0.5842099504509433 \n",
      " precision:0.5723561299807051 \n",
      " recall:0.5965651535465747 \n",
      ", 'Validation':  best_epoch_indx:8\n",
      " auc:0.7205522726457624 \n",
      " apur:0.6373336624256094 \n",
      " f1:0.5842099504509433 \n",
      " precision:0.5723561299807051 \n",
      " recall:0.5965651535465747 \n",
      ", 'Test':  best_epoch_indx:8\n",
      " auc:0.7205522729746622 \n",
      " apur:0.637333662552281 \n",
      " f1:0.5842099504509433 \n",
      " precision:0.5723561299807051 \n",
      " recall:0.5965651535465747 \n",
      "}\n",
      "=====Epoch 9\n",
      "Training...\n"
     ]
    },
    {
     "name": "stderr",
     "output_type": "stream",
     "text": [
      "Iteration:  67%|██████▋   | 180/267 [00:04<00:01, 45.50it/s]"
     ]
    },
    {
     "name": "stdout",
     "output_type": "stream",
     "text": [
      "{'Train':  best_epoch_indx:8\n",
      " auc:0.7209203915027758 \n",
      " apur:0.6374479220484791 \n",
      " f1:0.5942339695057046 \n",
      " precision:0.560226148409894 \n",
      " recall:0.6326374257805019 \n",
      ", 'Validation':  best_epoch_indx:8\n",
      " auc:0.7209203915027755 \n",
      " apur:0.6374479220484739 \n",
      " f1:0.5942339695057046 \n",
      " precision:0.560226148409894 \n",
      " recall:0.6326374257805019 \n",
      ", 'Test':  best_epoch_indx:8\n",
      " auc:0.7209203915027758 \n",
      " apur:0.6374479220484853 \n",
      " f1:0.5942339695057046 \n",
      " precision:0.560226148409894 \n",
      " recall:0.6326374257805019 \n",
      "}\n",
      "=====Epoch 9\n",
      "Training...\n"
     ]
    },
    {
     "name": "stderr",
     "output_type": "stream",
     "text": [
      "Iteration: 100%|██████████| 267/267 [00:03<00:00, 85.30it/s] \n",
      "Iteration: 100%|██████████| 267/267 [00:06<00:00, 44.04it/s]\n",
      "Iteration:   4%|▍         | 12/267 [00:00<00:02, 117.45it/s]"
     ]
    },
    {
     "name": "stdout",
     "output_type": "stream",
     "text": [
      "Evaluating...\n",
      "{'Train':  best_epoch_indx:8\n",
      " auc:0.7237888751486119 \n",
      " apur:0.6410557819380064 \n",
      " f1:0.6001219228982814 \n",
      " precision:0.5502528613255256 \n",
      " recall:0.659931047692013 \n",
      ", 'Validation':  best_epoch_indx:8\n",
      " auc:0.7237888751486119 \n",
      " apur:0.6410557819380064 \n",
      " f1:0.6001219228982814 \n",
      " precision:0.5502528613255256 \n",
      " recall:0.659931047692013 \n",
      ", 'Test':  best_epoch_indx:8\n",
      " auc:0.7237888751486119 \n",
      " apur:0.6410557819380064 \n",
      " f1:0.6001219228982814 \n",
      " precision:0.5502528613255256 \n",
      " recall:0.659931047692013 \n",
      "}\n",
      "=====Epoch 9\n",
      "Training...\n"
     ]
    },
    {
     "name": "stderr",
     "output_type": "stream",
     "text": [
      "Iteration: 100%|██████████| 267/267 [00:02<00:00, 121.82it/s]\n",
      "Iteration: 100%|██████████| 267/267 [00:06<00:00, 41.28it/s]\n",
      "Iteration: 100%|██████████| 267/267 [00:05<00:00, 45.87it/s]\n",
      "Iteration:  72%|███████▏  | 191/267 [00:05<00:02, 33.74it/s]"
     ]
    },
    {
     "name": "stdout",
     "output_type": "stream",
     "text": [
      "Evaluating...\n",
      "Evaluating...\n"
     ]
    },
    {
     "name": "stderr",
     "output_type": "stream",
     "text": [
      "Iteration: 100%|██████████| 267/267 [00:02<00:00, 119.18it/s]\n",
      "Iteration: 100%|██████████| 267/267 [00:02<00:00, 121.52it/s]\n",
      "Iteration: 100%|██████████| 267/267 [00:07<00:00, 37.17it/s]\n",
      "Iteration:   3%|▎         | 7/267 [00:00<00:03, 67.33it/s]s]]"
     ]
    },
    {
     "name": "stdout",
     "output_type": "stream",
     "text": [
      "Evaluating...\n"
     ]
    },
    {
     "name": "stderr",
     "output_type": "stream",
     "text": [
      "Iteration: 100%|██████████| 267/267 [00:02<00:00, 119.25it/s]\n",
      "Iteration: 100%|██████████| 267/267 [00:06<00:00, 38.31it/s]]\n",
      "Iteration:  26%|██▌       | 69/267 [00:00<00:01, 117.95it/s]]"
     ]
    },
    {
     "name": "stdout",
     "output_type": "stream",
     "text": [
      "Evaluating...\n"
     ]
    },
    {
     "name": "stderr",
     "output_type": "stream",
     "text": [
      "Iteration: 100%|██████████| 267/267 [00:02<00:00, 104.24it/s]\n",
      "Iteration: 100%|██████████| 267/267 [00:02<00:00, 121.33it/s]\n",
      "Iteration: 100%|██████████| 267/267 [00:02<00:00, 115.69it/s]\n",
      "Iteration: 100%|██████████| 267/267 [00:03<00:00, 79.66it/s] \n",
      "Iteration:  73%|███████▎  | 196/267 [00:02<00:01, 63.89it/s]"
     ]
    },
    {
     "name": "stdout",
     "output_type": "stream",
     "text": [
      "{'Train':  best_epoch_indx:8\n",
      " auc:0.7247719001334767 \n",
      " apur:0.6428422902017669 \n",
      " f1:0.6027165173443603 \n",
      " precision:0.5477010594436617 \n",
      " recall:0.670018514971589 \n",
      ", 'Validation':  best_epoch_indx:8\n",
      " auc:0.7247719001334767 \n",
      " apur:0.6428422902017669 \n",
      " f1:0.6027165173443603 \n",
      " precision:0.5477010594436617 \n",
      " recall:0.670018514971589 \n",
      ", 'Test':  best_epoch_indx:8\n",
      " auc:0.7247719001334767 \n",
      " apur:0.6428422902017669 \n",
      " f1:0.6027165173443603 \n",
      " precision:0.5477010594436617 \n",
      " recall:0.670018514971589 \n",
      "}\n",
      "=====Epoch 9\n",
      "Training...\n"
     ]
    },
    {
     "name": "stderr",
     "output_type": "stream",
     "text": [
      "Iteration: 100%|██████████| 267/267 [00:03<00:00, 71.05it/s]]\n",
      "Iteration: 100%|██████████| 267/267 [00:02<00:00, 122.23it/s]\n",
      "Iteration: 100%|██████████| 267/267 [00:02<00:00, 120.20it/s]\n",
      "Iteration:  34%|███▎      | 90/267 [00:01<00:02, 67.08it/s]]]"
     ]
    },
    {
     "name": "stdout",
     "output_type": "stream",
     "text": [
      "{'Train':  best_epoch_indx:9\n",
      " auc:0.731250369626445 \n",
      " apur:0.6481536652152118 \n",
      " f1:0.606200723220108 \n",
      " precision:0.5657694542034358 \n",
      " recall:0.6528553643821624 \n",
      ", 'Validation':  best_epoch_indx:9\n",
      " auc:0.731250369626445 \n",
      " apur:0.6481536652152118 \n",
      " f1:0.606200723220108 \n",
      " precision:0.5657694542034358 \n",
      " recall:0.6528553643821624 \n",
      ", 'Test':  best_epoch_indx:9\n",
      " auc:0.731250369626445 \n",
      " apur:0.6481536652152118 \n",
      " f1:0.606200723220108 \n",
      " precision:0.5657694542034358 \n",
      " recall:0.6528553643821624 \n",
      "}\n",
      "=====Epoch 10\n",
      "Training...\n"
     ]
    },
    {
     "name": "stderr",
     "output_type": "stream",
     "text": [
      "Iteration: 100%|██████████| 267/267 [00:02<00:00, 118.06it/s]\n",
      "Iteration: 100%|██████████| 267/267 [00:02<00:00, 123.45it/s]\n",
      "Iteration:   2%|▏         | 5/267 [00:00<00:06, 43.59it/s]]]"
     ]
    },
    {
     "name": "stdout",
     "output_type": "stream",
     "text": [
      "{'Train':  best_epoch_indx:9\n",
      " auc:0.7273894388013797 \n",
      " apur:0.645358815833315 \n",
      " f1:0.6072530645754891 \n",
      " precision:0.5455239064089522 \n",
      " recall:0.684734725148439 \n",
      ", 'Validation':  best_epoch_indx:9\n",
      " auc:0.7273894388013797 \n",
      " apur:0.645358815833315 \n",
      " f1:0.6072530645754891 \n",
      " precision:0.5455239064089522 \n",
      " recall:0.684734725148439 \n",
      ", 'Test':  best_epoch_indx:9\n",
      " auc:0.7273894388013797 \n",
      " apur:0.645358815833315 \n",
      " f1:0.6072530645754891 \n",
      " precision:0.5455239064089522 \n",
      " recall:0.684734725148439 \n",
      "}\n",
      "=====Epoch 10\n",
      "Training...\n"
     ]
    },
    {
     "name": "stderr",
     "output_type": "stream",
     "text": [
      "Iteration: 100%|██████████| 267/267 [00:03<00:00, 79.66it/s] \n"
     ]
    },
    {
     "name": "stdout",
     "output_type": "stream",
     "text": [
      "{'Train':  best_epoch_indx:9\n",
      " auc:0.7292650433634377 \n",
      " apur:0.6477608680095179 \n",
      " f1:0.601434106800873 \n",
      " precision:0.5621513612521855 \n",
      " recall:0.6466194215667497 \n",
      ", 'Validation':  best_epoch_indx:9\n",
      " auc:0.7292650430345446 \n",
      " apur:0.6477608677927001 \n",
      " f1:0.601434106800873 \n",
      " precision:0.5621513612521855 \n",
      " recall:0.6466194215667497 \n",
      ", 'Test':  best_epoch_indx:9\n",
      " auc:0.7292650430345446 \n",
      " apur:0.6477608677927001 \n",
      " f1:0.601434106800873 \n",
      " precision:0.5621513612521855 \n",
      " recall:0.6466194215667497 \n",
      "}\n",
      "=====Epoch 10\n",
      "Training...\n"
     ]
    },
    {
     "name": "stderr",
     "output_type": "stream",
     "text": [
      "Iteration: 100%|██████████| 267/267 [00:07<00:00, 36.63it/s]\n",
      "Iteration:  11%|█         | 29/267 [00:00<00:03, 64.68it/s]]"
     ]
    },
    {
     "name": "stdout",
     "output_type": "stream",
     "text": [
      "Evaluating...\n"
     ]
    },
    {
     "name": "stderr",
     "output_type": "stream",
     "text": [
      "Iteration: 100%|██████████| 267/267 [00:05<00:00, 45.14it/s]\n",
      "Iteration:  63%|██████▎   | 167/267 [00:03<00:02, 45.62it/s]"
     ]
    },
    {
     "name": "stdout",
     "output_type": "stream",
     "text": [
      "Evaluating...\n"
     ]
    },
    {
     "name": "stderr",
     "output_type": "stream",
     "text": [
      "Iteration: 100%|██████████| 267/267 [00:03<00:00, 76.19it/s] \n",
      "Iteration: 100%|██████████| 267/267 [00:06<00:00, 42.78it/s]]\n",
      "Iteration: 100%|██████████| 267/267 [00:04<00:00, 66.42it/s]\n",
      "Iteration:   2%|▏         | 6/267 [00:00<00:04, 57.34it/s]/s]"
     ]
    },
    {
     "name": "stdout",
     "output_type": "stream",
     "text": [
      "Evaluating...\n"
     ]
    },
    {
     "name": "stderr",
     "output_type": "stream",
     "text": [
      "Iteration: 100%|██████████| 267/267 [00:02<00:00, 121.03it/s]\n",
      "Iteration: 100%|██████████| 267/267 [00:06<00:00, 43.52it/s]\n",
      "Iteration:   0%|          | 0/267 [00:00<?, ?it/s]3.51it/s]]"
     ]
    },
    {
     "name": "stdout",
     "output_type": "stream",
     "text": [
      "Evaluating...\n"
     ]
    },
    {
     "name": "stderr",
     "output_type": "stream",
     "text": [
      "Iteration:   2%|▏         | 5/267 [00:00<00:06, 42.41it/s]/s]"
     ]
    },
    {
     "name": "stdout",
     "output_type": "stream",
     "text": [
      "{'Train':  best_epoch_indx:9\n",
      " auc:0.7318916435615971 \n",
      " apur:0.6499746183717214 \n",
      " f1:0.5952930174563591 \n",
      " precision:0.581622708168362 \n",
      " recall:0.6096214007533678 \n",
      ", 'Validation':  best_epoch_indx:9\n",
      " auc:0.7318916432327041 \n",
      " apur:0.649974618213342 \n",
      " f1:0.5952930174563591 \n",
      " precision:0.581622708168362 \n",
      " recall:0.6096214007533678 \n",
      ", 'Test':  best_epoch_indx:9\n",
      " auc:0.7318916435615971 \n",
      " apur:0.6499746183717214 \n",
      " f1:0.5952930174563591 \n",
      " precision:0.581622708168362 \n",
      " recall:0.6096214007533678 \n",
      "}\n",
      "=====Epoch 10\n",
      "Training...\n"
     ]
    },
    {
     "name": "stderr",
     "output_type": "stream",
     "text": [
      "Iteration: 100%|██████████| 267/267 [00:02<00:00, 95.95it/s] \n",
      "Iteration: 100%|██████████| 267/267 [00:02<00:00, 119.22it/s]\n",
      "Iteration: 100%|██████████| 267/267 [00:02<00:00, 120.00it/s]\n",
      "Iteration: 100%|██████████| 267/267 [00:02<00:00, 93.61it/s] \n",
      "Iteration: 100%|██████████| 267/267 [00:02<00:00, 115.83it/s]\n",
      "Iteration: 100%|██████████| 267/267 [00:02<00:00, 95.52it/s] \n",
      "Iteration: 100%|██████████| 267/267 [00:03<00:00, 86.64it/s] \n",
      "Iteration: 100%|██████████| 267/267 [00:06<00:00, 42.26it/s]]\n",
      "Iteration:  79%|███████▊  | 210/267 [00:02<00:00, 101.70it/s]"
     ]
    },
    {
     "name": "stdout",
     "output_type": "stream",
     "text": [
      "Evaluating...\n"
     ]
    },
    {
     "name": "stderr",
     "output_type": "stream",
     "text": [
      "\r",
      "Iteration:  22%|██▏       | 58/267 [00:00<00:03, 67.83it/s]\r",
      "Iteration:   9%|▊         | 23/267 [00:00<00:03, 69.84it/s]\r",
      "Iteration:   9%|▉         | 25/267 [00:00<00:01, 121.48it/s]\r",
      "Iteration:  84%|████████▎ | 223/267 [00:02<00:00, 107.18it/s]\r",
      "Iteration:  24%|██▍       | 65/267 [00:00<00:03, 67.02it/s]\r",
      "Iteration:   0%|          | 0/267 [00:00<?, ?it/s]\r",
      "Iteration:  12%|█▏        | 31/267 [00:00<00:03, 68.94it/s]\r",
      "Iteration:  88%|████████▊ | 236/267 [00:02<00:00, 111.82it/s]"
     ]
    },
    {
     "name": "stdout",
     "output_type": "stream",
     "text": [
      "{'Train':  best_epoch_indx:9\n",
      " auc:0.7323364704999527 \n",
      " apur:0.6504810293747008 \n",
      " f1:0.6084887870260234 \n",
      " precision:0.557641178347336 \n",
      " recall:0.6695396794994574 \n",
      ", 'Validation':  best_epoch_indx:9\n",
      " auc:0.7323364704999527 \n",
      " apur:0.6504810293747008 \n",
      " f1:0.6084887870260234 \n",
      " precision:0.557641178347336 \n",
      " recall:0.6695396794994574 \n",
      ", 'Test':  best_epoch_indx:9\n",
      " auc:0.7323364704999527 \n",
      " apur:0.6504810293747008 \n",
      " f1:0.6084887870260234 \n",
      " precision:0.557641178347336 \n",
      " recall:0.6695396794994574 \n",
      "}\n",
      "=====Epoch 10\n",
      "Training...\n"
     ]
    },
    {
     "name": "stderr",
     "output_type": "stream",
     "text": [
      "Iteration: 100%|██████████| 267/267 [00:03<00:00, 87.99it/s] \n",
      "Iteration:  48%|████▊     | 127/267 [00:01<00:01, 86.42it/s]]"
     ]
    },
    {
     "name": "stdout",
     "output_type": "stream",
     "text": [
      "{'Train':  best_epoch_indx:10\n",
      " auc:0.7295155501541599 \n",
      " apur:0.646827116518936 \n",
      " f1:0.5958554777840743 \n",
      " precision:0.5727240607702273 \n",
      " recall:0.6209340185782233 \n",
      ", 'Validation':  best_epoch_indx:10\n",
      " auc:0.7295155501541599 \n",
      " apur:0.646827116518936 \n",
      " f1:0.5958554777840743 \n",
      " precision:0.5727240607702273 \n",
      " recall:0.6209340185782233 \n",
      ", 'Test':  best_epoch_indx:10\n",
      " auc:0.7295155504830493 \n",
      " apur:0.6468271169300743 \n",
      " f1:0.5958554777840743 \n",
      " precision:0.5727240607702273 \n",
      " recall:0.6209340185782233 \n",
      "}\n",
      "=====Epoch 11\n",
      "Training...\n"
     ]
    },
    {
     "name": "stderr",
     "output_type": "stream",
     "text": [
      "Iteration: 100%|██████████| 267/267 [00:02<00:00, 120.76it/s]\n",
      "Iteration: 100%|██████████| 267/267 [00:02<00:00, 91.42it/s] \n",
      "Iteration: 100%|██████████| 267/267 [00:04<00:00, 64.75it/s]\n",
      "Iteration:   2%|▏         | 5/267 [00:00<00:06, 41.85it/s]]]"
     ]
    },
    {
     "name": "stdout",
     "output_type": "stream",
     "text": [
      "{'Train':  best_epoch_indx:10\n",
      " auc:0.7285537909738813 \n",
      " apur:0.6465409205934971 \n",
      " f1:0.604734462787238 \n",
      " precision:0.5522143968768959 \n",
      " recall:0.6682947072719148 \n",
      ", 'Validation':  best_epoch_indx:10\n",
      " auc:0.7285537909738813 \n",
      " apur:0.6465409205934972 \n",
      " f1:0.604734462787238 \n",
      " precision:0.5522143968768959 \n",
      " recall:0.6682947072719148 \n",
      ", 'Test':  best_epoch_indx:10\n",
      " auc:0.7285537906449882 \n",
      " apur:0.6465409204147324 \n",
      " f1:0.604734462787238 \n",
      " precision:0.5522143968768959 \n",
      " recall:0.6682947072719148 \n",
      "}\n",
      "=====Epoch 11\n",
      "Training...\n"
     ]
    },
    {
     "name": "stderr",
     "output_type": "stream",
     "text": [
      "Iteration:  43%|████▎     | 115/267 [00:02<00:03, 40.01it/s]]"
     ]
    },
    {
     "name": "stdout",
     "output_type": "stream",
     "text": [
      "{'Train':  best_epoch_indx:10\n",
      " auc:0.7284026872478111 \n",
      " apur:0.6459270500413666 \n",
      " f1:0.5997724959588098 \n",
      " precision:0.564617032068985 \n",
      " recall:0.639596501308817 \n",
      ", 'Validation':  best_epoch_indx:10\n",
      " auc:0.7284026872478111 \n",
      " apur:0.6459270500413666 \n",
      " f1:0.5997724959588098 \n",
      " precision:0.564617032068985 \n",
      " recall:0.639596501308817 \n",
      ", 'Test':  best_epoch_indx:10\n",
      " auc:0.7284026872478111 \n",
      " apur:0.6459270500413666 \n",
      " f1:0.5997724959588098 \n",
      " precision:0.564617032068985 \n",
      " recall:0.639596501308817 \n",
      "}\n",
      "=====Epoch 11\n",
      "Training...\n"
     ]
    },
    {
     "name": "stderr",
     "output_type": "stream",
     "text": [
      "Iteration: 100%|██████████| 267/267 [00:02<00:00, 107.97it/s]\n",
      "Iteration: 100%|██████████| 267/267 [00:05<00:00, 44.94it/s]\n",
      "Iteration:  31%|███▏      | 84/267 [00:02<00:04, 38.10it/s]]"
     ]
    },
    {
     "name": "stdout",
     "output_type": "stream",
     "text": [
      "Evaluating...\n"
     ]
    },
    {
     "name": "stderr",
     "output_type": "stream",
     "text": [
      "Iteration: 100%|██████████| 267/267 [00:06<00:00, 38.51it/s]]\n",
      "Iteration:  61%|██████    | 163/267 [00:04<00:02, 39.42it/s]"
     ]
    },
    {
     "name": "stdout",
     "output_type": "stream",
     "text": [
      "Evaluating...\n"
     ]
    },
    {
     "name": "stderr",
     "output_type": "stream",
     "text": [
      "Iteration: 100%|██████████| 267/267 [00:02<00:00, 120.97it/s]\n",
      "Iteration: 100%|██████████| 267/267 [00:02<00:00, 120.32it/s]\n",
      "Iteration: 100%|██████████| 267/267 [00:06<00:00, 44.29it/s]\n",
      "Iteration:   0%|          | 0/267 [00:00<?, ?it/s]"
     ]
    },
    {
     "name": "stdout",
     "output_type": "stream",
     "text": [
      "Evaluating...\n",
      "{'Train':  best_epoch_indx:10\n",
      " auc:0.7320704081467402 \n",
      " apur:0.6499485572125066 \n",
      " f1:0.6077905417225495 \n",
      " precision:0.5593238529648511 \n",
      " recall:0.6654536168039329 \n",
      ", 'Validation':  best_epoch_indx:10\n",
      " auc:0.7320704081467401 \n",
      " apur:0.6499485572125066 \n",
      " f1:0.6077905417225495 \n",
      " precision:0.5593238529648511 \n",
      " recall:0.6654536168039329 \n",
      ", 'Test':  best_epoch_indx:10\n",
      " auc:0.7320704081467402 \n",
      " apur:0.6499485572125066 \n",
      " f1:0.6077905417225495 \n",
      " precision:0.5593238529648511 \n",
      " recall:0.6654536168039329 \n",
      "}\n",
      "=====Epoch 11\n",
      "Training...\n"
     ]
    },
    {
     "name": "stderr",
     "output_type": "stream",
     "text": [
      "Iteration: 100%|██████████| 267/267 [00:06<00:00, 39.00it/s]]\n",
      "Iteration:  19%|█▉        | 52/267 [00:01<00:04, 43.07it/s]s]"
     ]
    },
    {
     "name": "stdout",
     "output_type": "stream",
     "text": [
      "Evaluating...\n"
     ]
    },
    {
     "name": "stderr",
     "output_type": "stream",
     "text": [
      "Iteration: 100%|██████████| 267/267 [00:02<00:00, 93.51it/s] \n",
      "Iteration: 100%|██████████| 267/267 [00:02<00:00, 121.37it/s]\n",
      "Iteration: 100%|██████████| 267/267 [00:02<00:00, 120.72it/s]\n",
      "Iteration: 100%|██████████| 267/267 [00:02<00:00, 100.18it/s]\n",
      "Iteration: 100%|██████████| 267/267 [00:02<00:00, 122.32it/s]\n",
      "Iteration: 100%|██████████| 267/267 [00:03<00:00, 86.27it/s] \n",
      "Iteration: 100%|██████████| 267/267 [00:06<00:00, 44.17it/s]\n",
      "Iteration:   0%|          | 0/267 [00:00<?, ?it/s]110.01it/s]"
     ]
    },
    {
     "name": "stdout",
     "output_type": "stream",
     "text": [
      "Evaluating...\n"
     ]
    },
    {
     "name": "stderr",
     "output_type": "stream",
     "text": [
      "Iteration: 100%|██████████| 267/267 [00:03<00:00, 67.03it/s]]\n",
      "Iteration: 100%|██████████| 267/267 [00:02<00:00, 113.50it/s]\n",
      "Iteration: 100%|██████████| 267/267 [00:02<00:00, 118.23it/s]\n",
      "Iteration: 100%|██████████| 267/267 [00:02<00:00, 107.56it/s]\n"
     ]
    },
    {
     "name": "stdout",
     "output_type": "stream",
     "text": [
      "{'Train':  best_epoch_indx:10\n",
      " auc:0.7309818548489744 \n",
      " apur:0.6482457425862085 \n",
      " f1:0.6110837081096765 \n",
      " precision:0.5600733964471865 \n",
      " recall:0.6723169252378216 \n",
      ", 'Validation':  best_epoch_indx:10\n",
      " auc:0.7309818541911881 \n",
      " apur:0.64824574218294 \n",
      " f1:0.6110837081096765 \n",
      " precision:0.5600733964471865 \n",
      " recall:0.6723169252378216 \n",
      ", 'Test':  best_epoch_indx:10\n",
      " auc:0.7309818548489744 \n",
      " apur:0.6482457425862085 \n",
      " f1:0.6110837081096765 \n",
      " precision:0.5600733964471865 \n",
      " recall:0.6723169252378216 \n",
      "}\n",
      "=====Epoch 11\n",
      "Training...\n"
     ]
    },
    {
     "name": "stderr",
     "output_type": "stream",
     "text": [
      "Iteration:   3%|▎         | 7/267 [00:00<00:04, 61.87it/s]]s]"
     ]
    },
    {
     "name": "stdout",
     "output_type": "stream",
     "text": [
      "{'Train':  best_epoch_indx:11\n",
      " auc:0.7276148970901534 \n",
      " apur:0.6424005339343553 \n",
      " f1:0.5984008176270779 \n",
      " precision:0.5654273297923709 \n",
      " recall:0.6354582309190155 \n",
      ", 'Validation':  best_epoch_indx:11\n",
      " auc:0.7276148970901534 \n",
      " apur:0.6424005339343553 \n",
      " f1:0.5984008176270779 \n",
      " precision:0.5654273297923709 \n",
      " recall:0.6354582309190155 \n",
      ", 'Test':  best_epoch_indx:11\n",
      " auc:0.7276148970901534 \n",
      " apur:0.6424005339343553 \n",
      " f1:0.5984008176270779 \n",
      " precision:0.5654273297923709 \n",
      " recall:0.6354582309190155 \n",
      "}\n",
      "=====Epoch 12\n",
      "Training...\n"
     ]
    },
    {
     "name": "stderr",
     "output_type": "stream",
     "text": [
      "Iteration: 100%|██████████| 267/267 [00:02<00:00, 103.59it/s]\n",
      "Iteration: 100%|██████████| 267/267 [00:02<00:00, 112.91it/s]\n"
     ]
    },
    {
     "name": "stdout",
     "output_type": "stream",
     "text": [
      "{'Train':  best_epoch_indx:11\n",
      " auc:0.7287597116049498 \n",
      " apur:0.6450964697986614 \n",
      " f1:0.6103109819507956 \n",
      " precision:0.5510792107226467 \n",
      " recall:0.6838089765689842 \n",
      ", 'Validation':  best_epoch_indx:11\n",
      " auc:0.7287597122627361 \n",
      " apur:0.6450964714809027 \n",
      " f1:0.6103109819507956 \n",
      " precision:0.5510792107226467 \n",
      " recall:0.6838089765689842 \n",
      ", 'Test':  best_epoch_indx:11\n",
      " auc:0.7287597122627361 \n",
      " apur:0.6450964700163756 \n",
      " f1:0.6103109819507956 \n",
      " precision:0.5510792107226467 \n",
      " recall:0.6838089765689842 \n",
      "}\n",
      "=====Epoch 12\n",
      "Training...\n"
     ]
    },
    {
     "name": "stderr",
     "output_type": "stream",
     "text": [
      "Iteration: 100%|██████████| 267/267 [00:02<00:00, 117.53it/s]\n",
      "Iteration:  34%|███▍      | 92/267 [00:02<00:04, 39.12it/s]]"
     ]
    },
    {
     "name": "stdout",
     "output_type": "stream",
     "text": [
      "{'Train':  best_epoch_indx:11\n",
      " auc:0.7276475548246732 \n",
      " apur:0.6445675537979694 \n",
      " f1:0.5923398264754939 \n",
      " precision:0.5688464364437913 \n",
      " recall:0.6178573708740344 \n",
      ", 'Validation':  best_epoch_indx:11\n",
      " auc:0.7276475548246732 \n",
      " apur:0.6445675537979778 \n",
      " f1:0.5923398264754939 \n",
      " precision:0.5688464364437913 \n",
      " recall:0.6178573708740344 \n",
      ", 'Test':  best_epoch_indx:11\n",
      " auc:0.7276475548246732 \n",
      " apur:0.6445675537979694 \n",
      " f1:0.5923398264754939 \n",
      " precision:0.5688464364437913 \n",
      " recall:0.6178573708740344 \n",
      "}\n",
      "=====Epoch 12\n",
      "Training...\n"
     ]
    },
    {
     "name": "stderr",
     "output_type": "stream",
     "text": [
      "Iteration: 100%|██████████| 267/267 [00:06<00:00, 42.52it/s]]\n",
      "Iteration: 100%|██████████| 267/267 [00:02<00:00, 126.47it/s]\n"
     ]
    },
    {
     "name": "stdout",
     "output_type": "stream",
     "text": [
      "Evaluating...\n"
     ]
    },
    {
     "name": "stderr",
     "output_type": "stream",
     "text": [
      "Iteration:   0%|          | 0/267 [00:00<?, ?it/s]3.99it/s]]"
     ]
    },
    {
     "name": "stdout",
     "output_type": "stream",
     "text": [
      "{'Train':  best_epoch_indx:11\n",
      " auc:0.7272081712071214 \n",
      " apur:0.6400705054794991 \n",
      " f1:0.5981225266128786 \n",
      " precision:0.575676154482107 \n",
      " recall:0.6223903466768819 \n",
      ", 'Validation':  best_epoch_indx:11\n",
      " auc:0.7272081712071214 \n",
      " apur:0.6400705054794988 \n",
      " f1:0.5981225266128786 \n",
      " precision:0.575676154482107 \n",
      " recall:0.6223903466768819 \n",
      ", 'Test':  best_epoch_indx:11\n",
      " auc:0.7272081712071214 \n",
      " apur:0.6400705054794786 \n",
      " f1:0.5981225266128786 \n",
      " precision:0.575676154482107 \n",
      " recall:0.6223903466768819 \n",
      "}\n",
      "=====Epoch 12\n",
      "Training...\n"
     ]
    },
    {
     "name": "stderr",
     "output_type": "stream",
     "text": [
      "Iteration: 100%|██████████| 267/267 [00:07<00:00, 37.51it/s]]\n",
      "Iteration:  11%|█         | 30/267 [00:00<00:08, 28.64it/s]s]"
     ]
    },
    {
     "name": "stdout",
     "output_type": "stream",
     "text": [
      "Evaluating...\n"
     ]
    },
    {
     "name": "stderr",
     "output_type": "stream",
     "text": [
      "Iteration: 100%|██████████| 267/267 [00:02<00:00, 105.37it/s]\n",
      "Iteration: 100%|██████████| 267/267 [00:06<00:00, 41.64it/s]]\n",
      "Iteration:  22%|██▏       | 58/267 [00:01<00:06, 33.83it/s]"
     ]
    },
    {
     "name": "stdout",
     "output_type": "stream",
     "text": [
      "Evaluating...\n"
     ]
    },
    {
     "name": "stderr",
     "output_type": "stream",
     "text": [
      "Iteration: 100%|██████████| 267/267 [00:06<00:00, 40.40it/s]]\n",
      "Iteration:   0%|          | 0/267 [00:00<?, ?it/s]"
     ]
    },
    {
     "name": "stdout",
     "output_type": "stream",
     "text": [
      "Evaluating...\n"
     ]
    },
    {
     "name": "stderr",
     "output_type": "stream",
     "text": [
      "Iteration: 100%|██████████| 267/267 [00:02<00:00, 125.25it/s]\n",
      "Iteration: 100%|██████████| 267/267 [00:02<00:00, 126.61it/s]\n",
      "Iteration: 100%|██████████| 267/267 [00:02<00:00, 126.05it/s]\n",
      "Iteration: 100%|██████████| 267/267 [00:03<00:00, 82.95it/s] \n",
      "Iteration: 100%|██████████| 267/267 [00:02<00:00, 121.55it/s]\n",
      "Iteration: 100%|██████████| 267/267 [00:07<00:00, 36.44it/s]]\n",
      "Iteration: 100%|██████████| 267/267 [00:02<00:00, 100.05it/s]\n"
     ]
    },
    {
     "name": "stdout",
     "output_type": "stream",
     "text": [
      "Evaluating...\n"
     ]
    },
    {
     "name": "stderr",
     "output_type": "stream",
     "text": [
      "Iteration: 100%|██████████| 267/267 [00:02<00:00, 97.64it/s] \n",
      "Iteration: 100%|██████████| 267/267 [00:02<00:00, 124.51it/s]\n",
      "Iteration: 100%|██████████| 267/267 [00:02<00:00, 99.32it/s] \n",
      "Iteration:  65%|██████▍   | 173/267 [00:01<00:00, 105.01it/s]"
     ]
    },
    {
     "name": "stdout",
     "output_type": "stream",
     "text": [
      "{'Train':  best_epoch_indx:11\n",
      " auc:0.7297617949585923 \n",
      " apur:0.64796455215025 \n",
      " f1:0.6070761896556676 \n",
      " precision:0.5517016390019835 \n",
      " recall:0.6748068696929068 \n",
      ", 'Validation':  best_epoch_indx:11\n",
      " auc:0.7297617949585923 \n",
      " apur:0.6479645521502458 \n",
      " f1:0.6070761896556676 \n",
      " precision:0.5517016390019835 \n",
      " recall:0.6748068696929068 \n",
      ", 'Test':  best_epoch_indx:11\n",
      " auc:0.7297617946296991 \n",
      " apur:0.6479645516215482 \n",
      " f1:0.6070761896556676 \n",
      " precision:0.5517016390019835 \n",
      " recall:0.6748068696929068 \n",
      "}\n",
      "=====Epoch 12\n",
      "Training...\n"
     ]
    },
    {
     "name": "stderr",
     "output_type": "stream",
     "text": [
      "Iteration: 100%|██████████| 267/267 [00:03<00:00, 73.97it/s] \n",
      "Iteration: 100%|██████████| 267/267 [00:02<00:00, 110.12it/s]\n",
      "Iteration:  59%|█████▉    | 158/267 [00:01<00:01, 77.35it/s]]"
     ]
    },
    {
     "name": "stdout",
     "output_type": "stream",
     "text": [
      "{'Train':  best_epoch_indx:12\n",
      " auc:0.7309709415882635 \n",
      " apur:0.6495280719632008 \n",
      " f1:0.6090304515225762 \n",
      " precision:0.5606723772186568 \n",
      " recall:0.6665177003862482 \n",
      ", 'Validation':  best_epoch_indx:12\n",
      " auc:0.730970941259374 \n",
      " apur:0.6495280716637943 \n",
      " f1:0.6090304515225762 \n",
      " precision:0.5606723772186568 \n",
      " recall:0.6665177003862482 \n",
      ", 'Test':  best_epoch_indx:12\n",
      " auc:0.730970941259374 \n",
      " apur:0.6495280716637943 \n",
      " f1:0.6090304515225762 \n",
      " precision:0.5606723772186568 \n",
      " recall:0.6665177003862482 \n",
      "}\n",
      "=====Epoch 13\n",
      "Training...\n"
     ]
    },
    {
     "name": "stderr",
     "output_type": "stream",
     "text": [
      "\r",
      "Iteration:   2%|▏         | 5/267 [00:00<00:06, 43.56it/s]\r",
      "Iteration:  16%|█▋        | 44/267 [00:01<00:06, 33.55it/s]\r",
      "Iteration:  63%|██████▎   | 169/267 [00:01<00:01, 96.42it/s] \r",
      "Iteration:  64%|██████▍   | 171/267 [00:01<00:01, 89.04it/s]\r",
      "Iteration:  18%|█▊        | 48/267 [00:01<00:06, 34.07it/s]\r",
      "Iteration:   4%|▎         | 10/267 [00:00<00:06, 38.90it/s]\r",
      "Iteration:  68%|██████▊   | 182/267 [00:02<00:00, 104.14it/s]\r",
      "Iteration:  69%|██████▉   | 184/267 [00:01<00:00, 98.68it/s]"
     ]
    },
    {
     "name": "stdout",
     "output_type": "stream",
     "text": [
      "{'Train':  best_epoch_indx:12\n",
      " auc:0.7233385264239102 \n",
      " apur:0.6393354576580579 \n",
      " f1:0.6042447302556385 \n",
      " precision:0.5525334038894033 \n",
      " recall:0.6666347443018579 \n",
      ", 'Validation':  best_epoch_indx:12\n",
      " auc:0.7233385264239102 \n",
      " apur:0.6393354576580579 \n",
      " f1:0.6042447302556385 \n",
      " precision:0.5525334038894033 \n",
      " recall:0.6666347443018579 \n",
      ", 'Test':  best_epoch_indx:12\n",
      " auc:0.7233385264239102 \n",
      " apur:0.6393354576580579 \n",
      " f1:0.6042447302556385 \n",
      " precision:0.5525334038894033 \n",
      " recall:0.6666347443018579 \n",
      "}\n",
      "=====Epoch 13\n",
      "Training...\n"
     ]
    },
    {
     "name": "stderr",
     "output_type": "stream",
     "text": [
      "Iteration: 100%|██████████| 267/267 [00:02<00:00, 97.42it/s] \n",
      "Iteration: 100%|██████████| 267/267 [00:02<00:00, 106.55it/s]\n",
      "Iteration:  22%|██▏       | 59/267 [00:01<00:05, 39.77it/s]]"
     ]
    },
    {
     "name": "stdout",
     "output_type": "stream",
     "text": [
      "{'Train':  best_epoch_indx:12\n",
      " auc:0.7176683090913794 \n",
      " apur:0.6353770592960318 \n",
      " f1:0.5913936751575238 \n",
      " precision:0.5555430879712747 \n",
      " recall:0.6321905126731788 \n",
      ", 'Validation':  best_epoch_indx:12\n",
      " auc:0.7176683090913794 \n",
      " apur:0.6353770592960318 \n",
      " f1:0.5913936751575238 \n",
      " precision:0.5555430879712747 \n",
      " recall:0.6321905126731788 \n",
      ", 'Test':  best_epoch_indx:12\n",
      " auc:0.7176683090913794 \n",
      " apur:0.6353770592960318 \n",
      " f1:0.5913936751575238 \n",
      " precision:0.5555430879712747 \n",
      " recall:0.6321905126731788 \n",
      "}\n",
      "=====Epoch 13\n",
      "Training...\n"
     ]
    },
    {
     "name": "stderr",
     "output_type": "stream",
     "text": [
      "Iteration: 100%|██████████| 267/267 [00:06<00:00, 41.63it/s]\n",
      "Iteration:  72%|███████▏  | 193/267 [00:03<00:01, 54.94it/s]"
     ]
    },
    {
     "name": "stdout",
     "output_type": "stream",
     "text": [
      "Evaluating...\n"
     ]
    },
    {
     "name": "stderr",
     "output_type": "stream",
     "text": [
      "Iteration: 100%|██████████| 267/267 [00:06<00:00, 42.64it/s]]\n",
      "Iteration:  88%|████████▊ | 236/267 [00:06<00:00, 37.72it/s]]"
     ]
    },
    {
     "name": "stdout",
     "output_type": "stream",
     "text": [
      "Evaluating...\n"
     ]
    },
    {
     "name": "stderr",
     "output_type": "stream",
     "text": [
      "Iteration: 100%|██████████| 267/267 [00:04<00:00, 62.56it/s]]\n",
      "Iteration: 100%|██████████| 267/267 [00:06<00:00, 38.93it/s]]\n",
      "Iteration:  40%|████      | 108/267 [00:00<00:01, 110.53it/s]"
     ]
    },
    {
     "name": "stdout",
     "output_type": "stream",
     "text": [
      "Evaluating...\n"
     ]
    },
    {
     "name": "stderr",
     "output_type": "stream",
     "text": [
      "Iteration: 100%|██████████| 267/267 [00:02<00:00, 128.89it/s]\n",
      "Iteration: 100%|██████████| 267/267 [00:05<00:00, 45.79it/s]]\n",
      "Iteration:   0%|          | 0/267 [00:00<?, ?it/s]"
     ]
    },
    {
     "name": "stdout",
     "output_type": "stream",
     "text": [
      "Evaluating...\n"
     ]
    },
    {
     "name": "stderr",
     "output_type": "stream",
     "text": [
      "Iteration:   6%|▋         | 17/267 [00:00<00:03, 74.42it/s]]]"
     ]
    },
    {
     "name": "stdout",
     "output_type": "stream",
     "text": [
      "{'Train':  best_epoch_indx:12\n",
      " auc:0.7280931600640258 \n",
      " apur:0.6470150483182284 \n",
      " f1:0.5982808727876616 \n",
      " precision:0.5771501468537692 \n",
      " recall:0.621017684990104 \n",
      ", 'Validation':  best_epoch_indx:12\n",
      " auc:0.7280931600640257 \n",
      " apur:0.6470150483182284 \n",
      " f1:0.5982808727876616 \n",
      " precision:0.5771501468537692 \n",
      " recall:0.621017684990104 \n",
      ", 'Test':  best_epoch_indx:12\n",
      " auc:0.7280931600640258 \n",
      " apur:0.6470150483182284 \n",
      " f1:0.5982808727876616 \n",
      " precision:0.5771501468537692 \n",
      " recall:0.621017684990104 \n",
      "}\n",
      "=====Epoch 13\n",
      "Training...\n"
     ]
    },
    {
     "name": "stderr",
     "output_type": "stream",
     "text": [
      "Iteration: 100%|██████████| 267/267 [00:02<00:00, 122.73it/s]\n",
      "Iteration: 100%|██████████| 267/267 [00:02<00:00, 102.57it/s]\n",
      "Iteration: 100%|██████████| 267/267 [00:02<00:00, 120.28it/s]\n",
      "Iteration: 100%|██████████| 267/267 [00:03<00:00, 87.99it/s] \n",
      "Iteration: 100%|██████████| 267/267 [00:02<00:00, 89.21it/s] \n",
      "Iteration: 100%|██████████| 267/267 [00:02<00:00, 120.98it/s]\n",
      "Iteration: 100%|██████████| 267/267 [00:02<00:00, 120.03it/s]\n",
      "Iteration: 100%|██████████| 267/267 [00:06<00:00, 39.31it/s]]\n",
      "Iteration:   2%|▏         | 6/267 [00:00<00:04, 59.49it/s]]s]"
     ]
    },
    {
     "name": "stdout",
     "output_type": "stream",
     "text": [
      "Evaluating...\n"
     ]
    },
    {
     "name": "stderr",
     "output_type": "stream",
     "text": [
      "Iteration: 100%|██████████| 267/267 [00:02<00:00, 106.23it/s]\n",
      "Iteration:   2%|▏         | 5/267 [00:00<00:06, 42.11it/s]s]]"
     ]
    },
    {
     "name": "stdout",
     "output_type": "stream",
     "text": [
      "{'Train':  best_epoch_indx:12\n",
      " auc:0.7253809427415653 \n",
      " apur:0.6402286175125471 \n",
      " f1:0.5987486965589156 \n",
      " precision:0.5613059993296838 \n",
      " recall:0.6415437655621529 \n",
      ", 'Validation':  best_epoch_indx:12\n",
      " auc:0.7253809427415653 \n",
      " apur:0.6402286175125471 \n",
      " f1:0.5987486965589156 \n",
      " precision:0.5613059993296838 \n",
      " recall:0.6415437655621529 \n",
      ", 'Test':  best_epoch_indx:12\n",
      " auc:0.7253809427415653 \n",
      " apur:0.6402286175125471 \n",
      " f1:0.5987486965589156 \n",
      " precision:0.5613059993296838 \n",
      " recall:0.6415437655621529 \n",
      "}\n",
      "=====Epoch 13\n",
      "Training...\n"
     ]
    },
    {
     "name": "stderr",
     "output_type": "stream",
     "text": [
      "Iteration: 100%|██████████| 267/267 [00:02<00:00, 109.26it/s]\n",
      "Iteration: 100%|██████████| 267/267 [00:02<00:00, 111.64it/s]\n",
      "Iteration:   1%|▏         | 4/267 [00:00<00:06, 38.54it/s]s]]"
     ]
    },
    {
     "name": "stdout",
     "output_type": "stream",
     "text": [
      "{'Train':  best_epoch_indx:13\n",
      " auc:0.7233459188096313 \n",
      " apur:0.6409832200795832 \n",
      " f1:0.6061536727621086 \n",
      " precision:0.5425040978439036 \n",
      " recall:0.6867239122801417 \n",
      ", 'Validation':  best_epoch_indx:13\n",
      " auc:0.7233459178229631 \n",
      " apur:0.6409832196444459 \n",
      " f1:0.6061536727621086 \n",
      " precision:0.5425040978439036 \n",
      " recall:0.6867239122801417 \n",
      ", 'Test':  best_epoch_indx:13\n",
      " auc:0.7233459184807419 \n",
      " apur:0.6409832199109433 \n",
      " f1:0.6061536727621086 \n",
      " precision:0.5425040978439036 \n",
      " recall:0.6867239122801417 \n",
      "}\n",
      "=====Epoch 14\n",
      "Training...\n"
     ]
    },
    {
     "name": "stderr",
     "output_type": "stream",
     "text": [
      "Iteration: 100%|██████████| 267/267 [00:03<00:00, 80.03it/s]]\n",
      "Iteration: 100%|██████████| 267/267 [00:02<00:00, 102.07it/s]\n",
      "Iteration:   2%|▏         | 6/267 [00:00<00:05, 49.89it/s]"
     ]
    },
    {
     "name": "stdout",
     "output_type": "stream",
     "text": [
      "{'Train':  best_epoch_indx:13\n",
      " auc:0.7258396719914855 \n",
      " apur:0.6431720578232789 \n",
      " f1:0.5800656530188957 \n",
      " precision:0.5938471827453603 \n",
      " recall:0.5669092766392134 \n",
      ", 'Validation':  best_epoch_indx:13\n",
      " auc:0.7258396719914855 \n",
      " apur:0.6431720578232665 \n",
      " f1:0.5800656530188957 \n",
      " precision:0.5938471827453603 \n",
      " recall:0.5669092766392134 \n",
      ", 'Test':  best_epoch_indx:13\n",
      " auc:0.7258396719914855 \n",
      " apur:0.6431720578232665 \n",
      " f1:0.5800656530188957 \n",
      " precision:0.5938471827453603 \n",
      " recall:0.5669092766392134 \n",
      "}\n",
      "=====Epoch 14\n",
      "Training...\n"
     ]
    },
    {
     "name": "stderr",
     "output_type": "stream",
     "text": [
      "Iteration:   2%|▏         | 5/267 [00:00<00:05, 49.03it/s]]"
     ]
    },
    {
     "name": "stdout",
     "output_type": "stream",
     "text": [
      "{'Train':  best_epoch_indx:13\n",
      " auc:0.7253822368201321 \n",
      " apur:0.6417131979254049 \n",
      " f1:0.5965305971801874 \n",
      " precision:0.5548902743827075 \n",
      " recall:0.644927536231884 \n",
      ", 'Validation':  best_epoch_indx:13\n",
      " auc:0.7253822368201321 \n",
      " apur:0.6417131979254049 \n",
      " f1:0.5965305971801874 \n",
      " precision:0.5548902743827075 \n",
      " recall:0.644927536231884 \n",
      ", 'Test':  best_epoch_indx:13\n",
      " auc:0.7253822368201321 \n",
      " apur:0.6417131979254049 \n",
      " f1:0.5965305971801874 \n",
      " precision:0.5548902743827075 \n",
      " recall:0.644927536231884 \n",
      "}\n",
      "=====Epoch 14\n",
      "Training...\n"
     ]
    },
    {
     "name": "stderr",
     "output_type": "stream",
     "text": [
      "Iteration: 100%|██████████| 267/267 [00:02<00:00, 121.79it/s]\n",
      "Iteration: 100%|██████████| 267/267 [00:06<00:00, 38.70it/s]]\n",
      "Iteration:  75%|███████▍  | 200/267 [00:04<00:01, 39.73it/s]]"
     ]
    },
    {
     "name": "stdout",
     "output_type": "stream",
     "text": [
      "Evaluating...\n"
     ]
    },
    {
     "name": "stderr",
     "output_type": "stream",
     "text": [
      "Iteration: 100%|██████████| 267/267 [00:05<00:00, 45.12it/s]]\n",
      "Iteration:  82%|████████▏ | 219/267 [00:05<00:01, 40.63it/s]]"
     ]
    },
    {
     "name": "stdout",
     "output_type": "stream",
     "text": [
      "Evaluating...\n"
     ]
    },
    {
     "name": "stderr",
     "output_type": "stream",
     "text": [
      "Iteration: 100%|██████████| 267/267 [00:06<00:00, 38.68it/s]]\n",
      "Iteration: 100%|██████████| 267/267 [00:02<00:00, 118.32it/s]\n",
      "Iteration:   2%|▏         | 6/267 [00:00<00:04, 58.04it/s]/s]"
     ]
    },
    {
     "name": "stdout",
     "output_type": "stream",
     "text": [
      "Evaluating...\n"
     ]
    },
    {
     "name": "stderr",
     "output_type": "stream",
     "text": [
      "Iteration:   0%|          | 0/267 [00:00<?, ?it/s]34.79it/s]]"
     ]
    },
    {
     "name": "stdout",
     "output_type": "stream",
     "text": [
      "{'Train':  best_epoch_indx:13\n",
      " auc:0.7238280913758188 \n",
      " apur:0.644604420750494 \n",
      " f1:0.6025158522119877 \n",
      " precision:0.5565866724385162 \n",
      " recall:0.6567068888463258 \n",
      ", 'Validation':  best_epoch_indx:13\n",
      " auc:0.7238280913758188 \n",
      " apur:0.644604420750494 \n",
      " f1:0.6025158522119877 \n",
      " precision:0.5565866724385162 \n",
      " recall:0.6567068888463258 \n",
      ", 'Test':  best_epoch_indx:13\n",
      " auc:0.723828091704712 \n",
      " apur:0.6446044212367432 \n",
      " f1:0.6025158522119877 \n",
      " precision:0.5565866724385162 \n",
      " recall:0.6567068888463258 \n",
      "}\n",
      "=====Epoch 14\n",
      "Training...\n",
      "Evaluating...\n"
     ]
    },
    {
     "name": "stderr",
     "output_type": "stream",
     "text": [
      "Iteration: 100%|██████████| 267/267 [00:06<00:00, 40.82it/s]]\n",
      "Iteration: 100%|██████████| 267/267 [00:02<00:00, 120.36it/s]\n",
      "Iteration: 100%|██████████| 267/267 [00:02<00:00, 124.88it/s]\n",
      "Iteration: 100%|██████████| 267/267 [00:02<00:00, 125.23it/s]\n",
      "Iteration: 100%|██████████| 267/267 [00:04<00:00, 66.51it/s]]\n",
      "Iteration: 100%|██████████| 267/267 [00:02<00:00, 120.26it/s]\n",
      "Iteration: 100%|██████████| 267/267 [00:02<00:00, 124.17it/s]\n",
      "Iteration: 100%|██████████| 267/267 [00:03<00:00, 78.73it/s] \n",
      "Iteration: 100%|██████████| 267/267 [00:05<00:00, 45.05it/s]\n",
      "Iteration:   0%|          | 0/267 [00:00<?, ?it/s]"
     ]
    },
    {
     "name": "stdout",
     "output_type": "stream",
     "text": [
      "Evaluating...\n"
     ]
    },
    {
     "name": "stderr",
     "output_type": "stream",
     "text": [
      "Iteration: 100%|██████████| 267/267 [00:02<00:00, 104.06it/s]\n",
      "Iteration: 100%|██████████| 267/267 [00:03<00:00, 84.75it/s] \n",
      "Iteration: 100%|██████████| 267/267 [00:02<00:00, 123.31it/s]\n",
      "Iteration:   0%|          | 0/267 [00:00<?, ?it/s]73.22it/s]"
     ]
    },
    {
     "name": "stdout",
     "output_type": "stream",
     "text": [
      "{'Train':  best_epoch_indx:14\n",
      " auc:0.7246431361804662 \n",
      " apur:0.6385667376073056 \n",
      " f1:0.6042524309090641 \n",
      " precision:0.5618020687573737 \n",
      " recall:0.6536423418246824 \n",
      ", 'Validation':  best_epoch_indx:14\n",
      " auc:0.7246431361804663 \n",
      " apur:0.6385667376073056 \n",
      " f1:0.6042524309090641 \n",
      " precision:0.5618020687573737 \n",
      " recall:0.6536423418246824 \n",
      ", 'Test':  best_epoch_indx:14\n",
      " auc:0.7246431365093593 \n",
      " apur:0.6385667382557838 \n",
      " f1:0.6042524309090641 \n",
      " precision:0.5618020687573737 \n",
      " recall:0.6536423418246824 \n",
      "}\n",
      "=====Epoch 15\n",
      "Training...\n"
     ]
    },
    {
     "name": "stderr",
     "output_type": "stream",
     "text": [
      "Iteration: 100%|██████████| 267/267 [00:03<00:00, 83.79it/s] \n",
      "Iteration:  68%|██████▊   | 181/267 [00:01<00:00, 104.23it/s]"
     ]
    },
    {
     "name": "stdout",
     "output_type": "stream",
     "text": [
      "{'Train':  best_epoch_indx:13\n",
      " auc:0.7268770524820911 \n",
      " apur:0.6478963429851707 \n",
      " f1:0.6094844134425609 \n",
      " precision:0.5285828174826487 \n",
      " recall:0.719625869884441 \n",
      ", 'Validation':  best_epoch_indx:13\n",
      " auc:0.7268770524820912 \n",
      " apur:0.6478963433476244 \n",
      " f1:0.6094844134425609 \n",
      " precision:0.5285828174826487 \n",
      " recall:0.719625869884441 \n",
      ", 'Test':  best_epoch_indx:13\n",
      " auc:0.7268770524820912 \n",
      " apur:0.6478963433476244 \n",
      " f1:0.6094844134425609 \n",
      " precision:0.5285828174826487 \n",
      " recall:0.719625869884441 \n",
      "}\n",
      "=====Epoch 14\n",
      "Training...\n"
     ]
    },
    {
     "name": "stderr",
     "output_type": "stream",
     "text": [
      "Iteration: 100%|██████████| 267/267 [00:04<00:00, 63.62it/s]]\n",
      "Iteration: 100%|██████████| 267/267 [00:02<00:00, 118.26it/s]\n",
      "Iteration: 100%|██████████| 267/267 [00:02<00:00, 99.91it/s] \n",
      "Iteration:   0%|          | 0/267 [00:00<?, ?it/s]45.53it/s]"
     ]
    },
    {
     "name": "stdout",
     "output_type": "stream",
     "text": [
      "{'Train':  best_epoch_indx:14\n",
      " auc:0.7304608282561815 \n",
      " apur:0.6470157521095528 \n",
      " f1:0.6066221675742139 \n",
      " precision:0.5601784266017843 \n",
      " recall:0.6614633212028347 \n",
      ", 'Validation':  best_epoch_indx:14\n",
      " auc:0.7304608282561815 \n",
      " apur:0.6470157521095526 \n",
      " f1:0.6066221675742139 \n",
      " precision:0.5601784266017843 \n",
      " recall:0.6614633212028347 \n",
      ", 'Test':  best_epoch_indx:14\n",
      " auc:0.7304608285850813 \n",
      " apur:0.6470157522585039 \n",
      " f1:0.6066221675742139 \n",
      " precision:0.5601784266017843 \n",
      " recall:0.6614633212028347 \n",
      "}\n",
      "=====Epoch 15\n",
      "Training...\n"
     ]
    },
    {
     "name": "stderr",
     "output_type": "stream",
     "text": [
      "Iteration:   7%|▋         | 19/267 [00:00<00:06, 41.13it/s]]"
     ]
    },
    {
     "name": "stdout",
     "output_type": "stream",
     "text": [
      "{'Train':  best_epoch_indx:14\n",
      " auc:0.729166185761869 \n",
      " apur:0.6449841694569538 \n",
      " f1:0.6026249233025546 \n",
      " precision:0.5672508029526117 \n",
      " recall:0.6427043764165097 \n",
      ", 'Validation':  best_epoch_indx:14\n",
      " auc:0.729166185761869 \n",
      " apur:0.6449841694569538 \n",
      " f1:0.6026249233025546 \n",
      " precision:0.5672508029526117 \n",
      " recall:0.6427043764165097 \n",
      ", 'Test':  best_epoch_indx:14\n",
      " auc:0.729166185761869 \n",
      " apur:0.6449841694569538 \n",
      " f1:0.6026249233025546 \n",
      " precision:0.5672508029526117 \n",
      " recall:0.6427043764165097 \n",
      "}\n",
      "=====Epoch 15\n",
      "Training...\n"
     ]
    },
    {
     "name": "stderr",
     "output_type": "stream",
     "text": [
      "Iteration: 100%|██████████| 267/267 [00:05<00:00, 45.25it/s]\n",
      "Iteration:  31%|███       | 82/267 [00:01<00:04, 45.71it/s]]"
     ]
    },
    {
     "name": "stdout",
     "output_type": "stream",
     "text": [
      "Evaluating...\n"
     ]
    },
    {
     "name": "stderr",
     "output_type": "stream",
     "text": [
      "Iteration: 100%|██████████| 267/267 [00:02<00:00, 120.48it/s]\n",
      "Iteration: 100%|██████████| 267/267 [00:04<00:00, 63.99it/s]\n",
      "Iteration: 100%|██████████| 267/267 [00:07<00:00, 37.45it/s]\n",
      "Iteration:   3%|▎         | 8/267 [00:00<00:03, 74.25it/s]"
     ]
    },
    {
     "name": "stdout",
     "output_type": "stream",
     "text": [
      "Evaluating...\n"
     ]
    },
    {
     "name": "stderr",
     "output_type": "stream",
     "text": [
      "Iteration: 100%|██████████| 267/267 [00:05<00:00, 45.33it/s]\n",
      "Iteration:   5%|▍         | 13/267 [00:00<00:02, 121.37it/s]"
     ]
    },
    {
     "name": "stdout",
     "output_type": "stream",
     "text": [
      "Evaluating...\n"
     ]
    },
    {
     "name": "stderr",
     "output_type": "stream",
     "text": [
      "\r",
      "Iteration:  34%|███▍      | 92/267 [00:00<00:01, 127.99it/s]\r",
      "Iteration:  96%|█████████▋| 257/267 [00:05<00:00, 45.68it/s]\r",
      "Iteration:  18%|█▊        | 47/267 [00:00<00:03, 58.23it/s]\r",
      "Iteration:  10%|▉         | 26/267 [00:00<00:01, 123.88it/s]\r",
      "Iteration:  39%|███▉      | 105/267 [00:00<00:01, 127.62it/s]\r",
      "Iteration:   0%|          | 0/267 [00:00<?, ?it/s]\r",
      "Iteration:  20%|██        | 54/267 [00:00<00:03, 60.78it/s]\r",
      "Iteration:  98%|█████████▊| 262/267 [00:05<00:00, 45.68it/s]\r",
      "Iteration:  15%|█▍        | 39/267 [00:00<00:01, 125.91it/s]"
     ]
    },
    {
     "name": "stdout",
     "output_type": "stream",
     "text": [
      "{'Train':  best_epoch_indx:14\n",
      " auc:0.7343416054685399 \n",
      " apur:0.6532761026190661 \n",
      " f1:0.6025126239581432 \n",
      " precision:0.5754168845505782 \n",
      " recall:0.6322862797676052 \n",
      ", 'Validation':  best_epoch_indx:14\n",
      " auc:0.7343416054685399 \n",
      " apur:0.6532761026190661 \n",
      " f1:0.6025126239581432 \n",
      " precision:0.5754168845505782 \n",
      " recall:0.6322862797676052 \n",
      ", 'Test':  best_epoch_indx:14\n",
      " auc:0.7343416061263262 \n",
      " apur:0.6532761028997891 \n",
      " f1:0.6025126239581432 \n",
      " precision:0.5754168845505782 \n",
      " recall:0.6322862797676052 \n",
      "}\n",
      "=====Epoch 15\n",
      "Training...\n",
      "Evaluating...\n"
     ]
    },
    {
     "name": "stderr",
     "output_type": "stream",
     "text": [
      "Iteration: 100%|██████████| 267/267 [00:05<00:00, 45.78it/s]]\n",
      "Iteration: 100%|██████████| 267/267 [00:02<00:00, 125.19it/s]\n",
      "Iteration: 100%|██████████| 267/267 [00:02<00:00, 120.91it/s]\n",
      "Iteration: 100%|██████████| 267/267 [00:02<00:00, 122.00it/s]\n",
      "Iteration: 100%|██████████| 267/267 [00:04<00:00, 66.41it/s]]\n",
      "Iteration: 100%|██████████| 267/267 [00:02<00:00, 94.43it/s] \n",
      "Iteration: 100%|██████████| 267/267 [00:02<00:00, 121.74it/s]\n",
      "Iteration: 100%|██████████| 267/267 [00:06<00:00, 42.44it/s]]\n",
      "Iteration:   0%|          | 0/267 [00:00<?, ?it/s]118.44it/s]"
     ]
    },
    {
     "name": "stdout",
     "output_type": "stream",
     "text": [
      "Evaluating...\n"
     ]
    },
    {
     "name": "stderr",
     "output_type": "stream",
     "text": [
      "Iteration: 100%|██████████| 267/267 [00:03<00:00, 80.63it/s] \n",
      "Iteration: 100%|██████████| 267/267 [00:02<00:00, 92.15it/s] \n",
      "Iteration:   2%|▏         | 5/267 [00:00<00:06, 40.03it/s]s]]"
     ]
    },
    {
     "name": "stdout",
     "output_type": "stream",
     "text": [
      "{'Train':  best_epoch_indx:15\n",
      " auc:0.7374537249045188 \n",
      " apur:0.6565779765935014 \n",
      " f1:0.6081831541495861 \n",
      " precision:0.5899936972898346 \n",
      " recall:0.6275298474110962 \n",
      ", 'Validation':  best_epoch_indx:15\n",
      " auc:0.7374537249045187 \n",
      " apur:0.6565779765932873 \n",
      " f1:0.6081831541495861 \n",
      " precision:0.5899936972898346 \n",
      " recall:0.6275298474110962 \n",
      ", 'Test':  best_epoch_indx:15\n",
      " auc:0.7374537249045187 \n",
      " apur:0.6565779765932873 \n",
      " f1:0.6081831541495861 \n",
      " precision:0.5899936972898346 \n",
      " recall:0.6275298474110962 \n",
      "}\n",
      "=====Epoch 16\n",
      "Training...\n"
     ]
    },
    {
     "name": "stderr",
     "output_type": "stream",
     "text": [
      "Iteration: 100%|██████████| 267/267 [00:02<00:00, 110.16it/s]\n",
      "Iteration: 100%|██████████| 267/267 [00:02<00:00, 110.52it/s]\n",
      "Iteration:  26%|██▌       | 69/267 [00:01<00:04, 39.61it/s]]]"
     ]
    },
    {
     "name": "stdout",
     "output_type": "stream",
     "text": [
      "{'Train':  best_epoch_indx:15\n",
      " auc:0.7355883731507622 \n",
      " apur:0.6547115311896821 \n",
      " f1:0.6078635014836794 \n",
      " precision:0.5678605089538171 \n",
      " recall:0.6539296431079614 \n",
      ", 'Validation':  best_epoch_indx:15\n",
      " auc:0.7355883731507622 \n",
      " apur:0.654711531189682 \n",
      " f1:0.6078635014836794 \n",
      " precision:0.5678605089538171 \n",
      " recall:0.6539296431079614 \n",
      ", 'Test':  best_epoch_indx:15\n",
      " auc:0.735588373479662 \n",
      " apur:0.6547115318584315 \n",
      " f1:0.6078635014836794 \n",
      " precision:0.5678605089538171 \n",
      " recall:0.6539296431079614 \n",
      "}\n",
      "=====Epoch 16\n",
      "Training...\n"
     ]
    },
    {
     "name": "stderr",
     "output_type": "stream",
     "text": [
      "Iteration: 100%|██████████| 267/267 [00:03<00:00, 72.67it/s] \n",
      "Iteration: 100%|██████████| 267/267 [00:02<00:00, 119.52it/s]\n",
      "Iteration:  17%|█▋        | 46/267 [00:01<00:05, 37.59it/s]s]"
     ]
    },
    {
     "name": "stdout",
     "output_type": "stream",
     "text": [
      "{'Train':  best_epoch_indx:14\n",
      " auc:0.7387925760511697 \n",
      " apur:0.6565620954350024 \n",
      " f1:0.6284522768547791 \n",
      " precision:0.5430956311469692 \n",
      " recall:0.7456425972036008 \n",
      ", 'Validation':  best_epoch_indx:14\n",
      " auc:0.7387925760511697 \n",
      " apur:0.6565620954350024 \n",
      " f1:0.6284522768547791 \n",
      " precision:0.5430956311469692 \n",
      " recall:0.7456425972036008 \n",
      ", 'Test':  best_epoch_indx:14\n",
      " auc:0.7387925760511697 \n",
      " apur:0.6565620954350024 \n",
      " f1:0.6284522768547791 \n",
      " precision:0.5430956311469692 \n",
      " recall:0.7456425972036008 \n",
      "}\n",
      "=====Epoch 15\n",
      "Training...\n",
      "{'Train':  best_epoch_indx:15\n",
      " auc:0.7333656914223129 \n",
      " apur:0.6535361343866308 \n",
      " f1:0.6109948860994886 \n",
      " precision:0.5606719104119451 \n",
      " recall:0.6712420595652313 \n",
      ", 'Validation':  best_epoch_indx:15\n",
      " auc:0.7333656914223129 \n",
      " apur:0.6535361343866308 \n",
      " f1:0.6109948860994886 \n",
      " precision:0.5606719104119451 \n",
      " recall:0.6712420595652313 \n",
      ", 'Test':  best_epoch_indx:15\n",
      " auc:0.7333656914223129 \n",
      " apur:0.6535361343866308 \n",
      " f1:0.6109948860994886 \n",
      " precision:0.5606719104119451 \n",
      " recall:0.6712420595652313 \n",
      "}\n",
      "=====Epoch 16\n",
      "Training...\n"
     ]
    },
    {
     "name": "stderr",
     "output_type": "stream",
     "text": [
      "Iteration: 100%|██████████| 267/267 [00:02<00:00, 117.85it/s]\n",
      "Iteration: 100%|██████████| 267/267 [00:06<00:00, 41.28it/s]\n",
      "Iteration:   0%|          | 0/267 [00:00<?, ?it/s]"
     ]
    },
    {
     "name": "stdout",
     "output_type": "stream",
     "text": [
      "Evaluating...\n"
     ]
    },
    {
     "name": "stderr",
     "output_type": "stream",
     "text": [
      "Iteration: 100%|██████████| 267/267 [00:06<00:00, 43.07it/s]]\n",
      "Iteration:   0%|          | 0/267 [00:00<?, ?it/s]"
     ]
    },
    {
     "name": "stdout",
     "output_type": "stream",
     "text": [
      "Evaluating...\n"
     ]
    },
    {
     "name": "stderr",
     "output_type": "stream",
     "text": [
      "Iteration:  76%|███████▌  | 203/267 [00:05<00:01, 38.37it/s]]\n",
      "Iteration: 100%|██████████| 267/267 [00:03<00:00, 72.94it/s] \n",
      "Iteration: 100%|██████████| 267/267 [00:06<00:00, 41.66it/s]\n",
      "Iteration:   4%|▍         | 12/267 [00:00<00:02, 118.26it/s]"
     ]
    },
    {
     "name": "stdout",
     "output_type": "stream",
     "text": [
      "Evaluating...\n"
     ]
    },
    {
     "name": "stderr",
     "output_type": "stream",
     "text": [
      "Iteration:  58%|█████▊    | 155/267 [00:02<00:01, 84.86it/s]"
     ]
    },
    {
     "name": "stdout",
     "output_type": "stream",
     "text": [
      "{'Train':  best_epoch_indx:15\n",
      " auc:0.7424809458081647 \n",
      " apur:0.6615170319370909 \n",
      " f1:0.6163816062022844 \n",
      " precision:0.5744305333406872 \n",
      " recall:0.6649428589669922 \n",
      ", 'Validation':  best_epoch_indx:15\n",
      " auc:0.7424809458081647 \n",
      " apur:0.6615170319370909 \n",
      " f1:0.6163816062022844 \n",
      " precision:0.5744305333406872 \n",
      " recall:0.6649428589669922 \n",
      ", 'Test':  best_epoch_indx:15\n",
      " auc:0.7424809458081647 \n",
      " apur:0.6615170319370909 \n",
      " f1:0.6163816062022844 \n",
      " precision:0.5744305333406872 \n",
      " recall:0.6649428589669922 \n",
      "}\n",
      "=====Epoch 16\n",
      "Training...\n"
     ]
    },
    {
     "name": "stderr",
     "output_type": "stream",
     "text": [
      "\r",
      "Iteration:   3%|▎         | 8/267 [00:00<00:06, 37.42it/s]\r",
      "Iteration:  29%|██▉       | 78/267 [00:00<00:01, 124.01it/s]\r",
      "Iteration:  98%|█████████▊| 261/267 [00:07<00:00, 38.36it/s]\r",
      "Iteration:  29%|██▉       | 77/267 [00:00<00:01, 126.44it/s]\r",
      "Iteration:  63%|██████▎   | 168/267 [00:02<00:01, 96.54it/s]\r",
      "Iteration:  34%|███▍      | 91/267 [00:00<00:01, 124.65it/s]\r",
      "Iteration:   4%|▍         | 12/267 [00:00<00:06, 36.92it/s]\r",
      "Iteration:  99%|█████████▉| 265/267 [00:07<00:00, 37.52it/s]\r",
      "Iteration:  34%|███▎      | 90/267 [00:00<00:01, 126.82it/s]\r",
      "Iteration:  68%|██████▊   | 181/267 [00:02<00:00, 105.36it/s]\r",
      "Iteration: 100%|██████████| 267/267 [00:07<00:00, 36.77it/s]\n",
      "\r",
      "Iteration:   0%|          | 0/267 [00:00<?, ?it/s]"
     ]
    },
    {
     "name": "stdout",
     "output_type": "stream",
     "text": [
      "Evaluating...\n"
     ]
    },
    {
     "name": "stderr",
     "output_type": "stream",
     "text": [
      "Iteration: 100%|██████████| 267/267 [00:02<00:00, 92.15it/s] \n",
      "Iteration: 100%|██████████| 267/267 [00:02<00:00, 119.13it/s]\n",
      "Iteration: 100%|██████████| 267/267 [00:02<00:00, 94.60it/s]]\n",
      "Iteration: 100%|██████████| 267/267 [00:02<00:00, 109.41it/s]\n",
      "Iteration: 100%|██████████| 267/267 [00:02<00:00, 120.47it/s]\n",
      "Iteration: 100%|██████████| 267/267 [00:02<00:00, 120.34it/s]\n",
      "Iteration: 100%|██████████| 267/267 [00:02<00:00, 102.65it/s]\n",
      "Iteration: 100%|██████████| 267/267 [00:02<00:00, 101.81it/s]\n",
      "Iteration:   0%|          | 0/267 [00:00<?, ?it/s]92.12it/s]"
     ]
    },
    {
     "name": "stdout",
     "output_type": "stream",
     "text": [
      "{'Train':  best_epoch_indx:16\n",
      " auc:0.7475109872990823 \n",
      " apur:0.6679919949127516 \n",
      " f1:0.6161972368521487 \n",
      " precision:0.5904795342169168 \n",
      " recall:0.6442571665708996 \n",
      ", 'Validation':  best_epoch_indx:16\n",
      " auc:0.7475109872990824 \n",
      " apur:0.6679919949127516 \n",
      " f1:0.6161972368521487 \n",
      " precision:0.5904795342169168 \n",
      " recall:0.6442571665708996 \n",
      ", 'Test':  best_epoch_indx:16\n",
      " auc:0.7475109872990823 \n",
      " apur:0.6679919949127516 \n",
      " f1:0.6161972368521487 \n",
      " precision:0.5904795342169168 \n",
      " recall:0.6442571665708996 \n",
      "}\n",
      "=====Epoch 17\n",
      "Training...\n"
     ]
    },
    {
     "name": "stderr",
     "output_type": "stream",
     "text": [
      "Iteration: 100%|██████████| 267/267 [00:07<00:00, 36.79it/s]]\n",
      "Iteration:   2%|▏         | 6/267 [00:00<00:04, 55.25it/s]s]]"
     ]
    },
    {
     "name": "stdout",
     "output_type": "stream",
     "text": [
      "Evaluating...\n"
     ]
    },
    {
     "name": "stderr",
     "output_type": "stream",
     "text": [
      "Iteration: 100%|██████████| 267/267 [00:02<00:00, 101.69it/s]\n",
      "Iteration:  38%|███▊      | 101/267 [00:02<00:03, 45.63it/s]]"
     ]
    },
    {
     "name": "stdout",
     "output_type": "stream",
     "text": [
      "{'Train':  best_epoch_indx:16\n",
      " auc:0.746685122015285 \n",
      " apur:0.6652012576807869 \n",
      " f1:0.6200107072749984 \n",
      " precision:0.5803775265883401 \n",
      " recall:0.6654536168039329 \n",
      ", 'Validation':  best_epoch_indx:16\n",
      " auc:0.746685122015285 \n",
      " apur:0.6652012576807869 \n",
      " f1:0.6200107072749984 \n",
      " precision:0.5803775265883401 \n",
      " recall:0.6654536168039329 \n",
      ", 'Test':  best_epoch_indx:16\n",
      " auc:0.746685122015285 \n",
      " apur:0.6652012576807869 \n",
      " f1:0.6200107072749984 \n",
      " precision:0.5803775265883401 \n",
      " recall:0.6654536168039329 \n",
      "}\n",
      "=====Epoch 17\n",
      "Training...\n"
     ]
    },
    {
     "name": "stderr",
     "output_type": "stream",
     "text": [
      "Iteration: 100%|██████████| 267/267 [00:02<00:00, 120.03it/s]\n",
      "Iteration:   2%|▏         | 5/267 [00:00<00:07, 35.77it/s]s]]"
     ]
    },
    {
     "name": "stdout",
     "output_type": "stream",
     "text": [
      "{'Train':  best_epoch_indx:16\n",
      " auc:0.7499328547656455 \n",
      " apur:0.6686282402785715 \n",
      " f1:0.6329632935401094 \n",
      " precision:0.5620278871634842 \n",
      " recall:0.7243911003287898 \n",
      ", 'Validation':  best_epoch_indx:16\n",
      " auc:0.7499328547656455 \n",
      " apur:0.6686282402785714 \n",
      " f1:0.6329632935401094 \n",
      " precision:0.5620278871634842 \n",
      " recall:0.7243911003287898 \n",
      ", 'Test':  best_epoch_indx:16\n",
      " auc:0.7499328547656455 \n",
      " apur:0.6686282402785715 \n",
      " f1:0.6329632935401094 \n",
      " precision:0.5620278871634842 \n",
      " recall:0.7243911003287898 \n",
      "}\n",
      "=====Epoch 17\n",
      "Training...\n"
     ]
    },
    {
     "name": "stderr",
     "output_type": "stream",
     "text": [
      "Iteration: 100%|██████████| 267/267 [00:02<00:00, 97.77it/s] \n",
      "Iteration: 100%|██████████| 267/267 [00:03<00:00, 79.30it/s] \n",
      "Iteration:  32%|███▏      | 86/267 [00:02<00:04, 36.55it/s]]"
     ]
    },
    {
     "name": "stdout",
     "output_type": "stream",
     "text": [
      "{'Train':  best_epoch_indx:15\n",
      " auc:0.7429908472074587 \n",
      " apur:0.659880291925178 \n",
      " f1:0.6173172228959858 \n",
      " precision:0.5813100978484618 \n",
      " recall:0.6580795505331035 \n",
      ", 'Validation':  best_epoch_indx:15\n",
      " auc:0.7429908475363518 \n",
      " apur:0.6598802920509286 \n",
      " f1:0.6173172228959858 \n",
      " precision:0.5813100978484618 \n",
      " recall:0.6580795505331035 \n",
      ", 'Test':  best_epoch_indx:15\n",
      " auc:0.7429908472074587 \n",
      " apur:0.659880291925178 \n",
      " f1:0.6173172228959858 \n",
      " precision:0.5813100978484618 \n",
      " recall:0.6580795505331035 \n",
      "}\n",
      "=====Epoch 16\n",
      "Training...\n"
     ]
    },
    {
     "name": "stderr",
     "output_type": "stream",
     "text": [
      "Iteration: 100%|██████████| 267/267 [00:05<00:00, 44.75it/s]\n",
      "Iteration:  23%|██▎       | 62/267 [00:01<00:04, 45.59it/s]]"
     ]
    },
    {
     "name": "stdout",
     "output_type": "stream",
     "text": [
      "Evaluating...\n"
     ]
    },
    {
     "name": "stderr",
     "output_type": "stream",
     "text": [
      "Iteration: 100%|██████████| 267/267 [00:02<00:00, 117.45it/s]\n",
      "Iteration: 100%|██████████| 267/267 [00:05<00:00, 44.57it/s]\n",
      "Iteration:  15%|█▍        | 39/267 [00:00<00:01, 125.26it/s]"
     ]
    },
    {
     "name": "stdout",
     "output_type": "stream",
     "text": [
      "Evaluating...\n"
     ]
    },
    {
     "name": "stderr",
     "output_type": "stream",
     "text": [
      "Iteration: 100%|██████████| 267/267 [00:04<00:00, 65.89it/s]\n",
      "Iteration: 100%|██████████| 267/267 [00:07<00:00, 36.04it/s]\n",
      "Iteration:   2%|▏         | 6/267 [00:00<00:04, 58.48it/s]s]"
     ]
    },
    {
     "name": "stdout",
     "output_type": "stream",
     "text": [
      "Evaluating...\n"
     ]
    },
    {
     "name": "stderr",
     "output_type": "stream",
     "text": [
      "Iteration: 100%|██████████| 267/267 [00:05<00:00, 45.10it/s]]\n",
      "Iteration:  21%|██▏       | 57/267 [00:00<00:03, 62.04it/s]]]"
     ]
    },
    {
     "name": "stdout",
     "output_type": "stream",
     "text": [
      "Evaluating...\n"
     ]
    },
    {
     "name": "stderr",
     "output_type": "stream",
     "text": [
      "Iteration: 100%|██████████| 267/267 [00:02<00:00, 113.19it/s]\n",
      "Iteration: 100%|██████████| 267/267 [00:02<00:00, 116.27it/s]\n",
      "Iteration: 100%|██████████| 267/267 [00:02<00:00, 125.43it/s]\n",
      "Iteration: 100%|██████████| 267/267 [00:03<00:00, 74.48it/s] \n",
      "Iteration: 100%|██████████| 267/267 [00:02<00:00, 124.14it/s]\n",
      "Iteration: 100%|██████████| 267/267 [00:02<00:00, 91.80it/s] \n",
      "Iteration: 100%|██████████| 267/267 [00:04<00:00, 65.80it/s]\n",
      "Iteration: 100%|██████████| 267/267 [00:02<00:00, 119.91it/s]\n",
      "Iteration:   2%|▏         | 5/267 [00:00<00:06, 42.11it/s]]s]"
     ]
    },
    {
     "name": "stdout",
     "output_type": "stream",
     "text": [
      "{'Train':  best_epoch_indx:17\n",
      " auc:0.7565095855435113 \n",
      " apur:0.6775020976991666 \n",
      " f1:0.6275029797377831 \n",
      " precision:0.5883388277364922 \n",
      " recall:0.6722530805082041 \n",
      ", 'Validation':  best_epoch_indx:17\n",
      " auc:0.7565095855435116 \n",
      " apur:0.6775020976991721 \n",
      " f1:0.6275029797377831 \n",
      " precision:0.5883388277364922 \n",
      " recall:0.6722530805082041 \n",
      ", 'Test':  best_epoch_indx:17\n",
      " auc:0.7565095855435116 \n",
      " apur:0.6775020976991721 \n",
      " f1:0.6275029797377831 \n",
      " precision:0.5883388277364922 \n",
      " recall:0.6722530805082041 \n",
      "}\n",
      "=====Epoch 18\n",
      "Training...\n"
     ]
    },
    {
     "name": "stderr",
     "output_type": "stream",
     "text": [
      "Iteration: 100%|██████████| 267/267 [00:02<00:00, 101.55it/s]\n",
      "Iteration:   0%|          | 0/267 [00:00<?, ?it/s]8.62it/s]s]"
     ]
    },
    {
     "name": "stdout",
     "output_type": "stream",
     "text": [
      "{'Train':  best_epoch_indx:16\n",
      " auc:0.7521180706120079 \n",
      " apur:0.6714630018960152 \n",
      " f1:0.6175522351044702 \n",
      " precision:0.6002109068996686 \n",
      " recall:0.6359254293558066 \n",
      ", 'Validation':  best_epoch_indx:16\n",
      " auc:0.752118070940901 \n",
      " apur:0.671463002289214 \n",
      " f1:0.6175522351044702 \n",
      " precision:0.6002109068996686 \n",
      " recall:0.6359254293558066 \n",
      ", 'Test':  best_epoch_indx:16\n",
      " auc:0.7521180712697941 \n",
      " apur:0.6714630024537086 \n",
      " f1:0.6175522351044702 \n",
      " precision:0.6002109068996686 \n",
      " recall:0.6359254293558066 \n",
      "}\n",
      "=====Epoch 17\n",
      "Training...\n"
     ]
    },
    {
     "name": "stderr",
     "output_type": "stream",
     "text": [
      "Iteration: 100%|██████████| 267/267 [00:02<00:00, 112.96it/s]\n",
      "Iteration:  34%|███▎      | 90/267 [00:00<00:01, 114.57it/s] "
     ]
    },
    {
     "name": "stdout",
     "output_type": "stream",
     "text": [
      "{'Train':  best_epoch_indx:17\n",
      " auc:0.7566335283402466 \n",
      " apur:0.6754467628950801 \n",
      " f1:0.6343629780493324 \n",
      " precision:0.5695202783350687 \n",
      " recall:0.7158681009991381 \n",
      ", 'Validation':  best_epoch_indx:17\n",
      " auc:0.7566335283402466 \n",
      " apur:0.6754467628950801 \n",
      " f1:0.6343629780493324 \n",
      " precision:0.5695202783350687 \n",
      " recall:0.7158681009991381 \n",
      ", 'Test':  best_epoch_indx:17\n",
      " auc:0.7566335283402466 \n",
      " apur:0.6754467628950801 \n",
      " f1:0.6343629780493324 \n",
      " precision:0.5695202783350687 \n",
      " recall:0.7158681009991381 \n",
      "}\n",
      "=====Epoch 18\n",
      "Training...\n"
     ]
    },
    {
     "name": "stderr",
     "output_type": "stream",
     "text": [
      "Iteration: 100%|██████████| 267/267 [00:02<00:00, 108.01it/s]\n",
      "Iteration:  73%|███████▎  | 196/267 [00:01<00:00, 102.64it/s]"
     ]
    },
    {
     "name": "stdout",
     "output_type": "stream",
     "text": [
      "{'Train':  best_epoch_indx:16\n",
      " auc:0.7478680323387172 \n",
      " apur:0.664943309295184 \n",
      " f1:0.6141686451711725 \n",
      " precision:0.5903589622780412 \n",
      " recall:0.6399795696865224 \n",
      ", 'Validation':  best_epoch_indx:16\n",
      " auc:0.7478680323387172 \n",
      " apur:0.664943309295184 \n",
      " f1:0.6141686451711725 \n",
      " precision:0.5903589622780412 \n",
      " recall:0.6399795696865224 \n",
      ", 'Test':  best_epoch_indx:16\n",
      " auc:0.7478680323387172 \n",
      " apur:0.664943309295169 \n",
      " f1:0.6141686451711725 \n",
      " precision:0.5903589622780412 \n",
      " recall:0.6399795696865224 \n",
      "}\n",
      "=====Epoch 17\n",
      "Training...\n"
     ]
    },
    {
     "name": "stderr",
     "output_type": "stream",
     "text": [
      "Iteration: 100%|██████████| 267/267 [00:02<00:00, 109.48it/s]\n",
      "Iteration:  64%|██████▍   | 171/267 [00:04<00:02, 35.32it/s]"
     ]
    },
    {
     "name": "stdout",
     "output_type": "stream",
     "text": [
      "{'Train':  best_epoch_indx:17\n",
      " auc:0.7548145381120746 \n",
      " apur:0.6755703979768686 \n",
      " f1:0.6265753547826347 \n",
      " precision:0.5904815703996611 \n",
      " recall:0.6673689586924599 \n",
      ", 'Validation':  best_epoch_indx:17\n",
      " auc:0.7548145384409743 \n",
      " apur:0.6755703980802621 \n",
      " f1:0.6265753547826347 \n",
      " precision:0.5904815703996611 \n",
      " recall:0.6673689586924599 \n",
      ", 'Test':  best_epoch_indx:17\n",
      " auc:0.7548145384409743 \n",
      " apur:0.6755703982728214 \n",
      " f1:0.6265753547826347 \n",
      " precision:0.5904815703996611 \n",
      " recall:0.6673689586924599 \n",
      "}\n",
      "=====Epoch 18\n",
      "Training...\n"
     ]
    },
    {
     "name": "stderr",
     "output_type": "stream",
     "text": [
      "Iteration: 100%|██████████| 267/267 [00:06<00:00, 43.30it/s]\n",
      "Iteration:  76%|███████▌  | 203/267 [00:05<00:01, 35.15it/s]"
     ]
    },
    {
     "name": "stdout",
     "output_type": "stream",
     "text": [
      "Evaluating...\n"
     ]
    },
    {
     "name": "stderr",
     "output_type": "stream",
     "text": [
      "Iteration: 100%|██████████| 267/267 [00:07<00:00, 36.94it/s]]\n",
      "Iteration:  71%|███████   | 189/267 [00:05<00:01, 44.55it/s]"
     ]
    },
    {
     "name": "stdout",
     "output_type": "stream",
     "text": [
      "Evaluating...\n"
     ]
    },
    {
     "name": "stderr",
     "output_type": "stream",
     "text": [
      "Iteration: 100%|██████████| 267/267 [00:02<00:00, 116.92it/s]\n",
      "Iteration: 100%|██████████| 267/267 [00:06<00:00, 38.77it/s]]\n",
      "Iteration:   0%|          | 0/267 [00:00<?, ?it/s]"
     ]
    },
    {
     "name": "stdout",
     "output_type": "stream",
     "text": [
      "Evaluating...\n"
     ]
    },
    {
     "name": "stderr",
     "output_type": "stream",
     "text": [
      "Iteration: 100%|██████████| 267/267 [00:06<00:00, 40.58it/s]]\n",
      "Iteration: 100%|██████████| 267/267 [00:02<00:00, 101.99it/s]\n",
      "Iteration:  83%|████████▎ | 221/267 [00:05<00:01, 33.64it/s]]"
     ]
    },
    {
     "name": "stdout",
     "output_type": "stream",
     "text": [
      "Evaluating...\n"
     ]
    },
    {
     "name": "stderr",
     "output_type": "stream",
     "text": [
      "Iteration: 100%|██████████| 267/267 [00:02<00:00, 119.69it/s]\n",
      "Iteration: 100%|██████████| 267/267 [00:02<00:00, 124.86it/s]\n",
      "Iteration: 100%|██████████| 267/267 [00:06<00:00, 40.08it/s]\n",
      "Iteration:  43%|████▎     | 114/267 [00:01<00:01, 112.65it/s]"
     ]
    },
    {
     "name": "stdout",
     "output_type": "stream",
     "text": [
      "Evaluating...\n"
     ]
    },
    {
     "name": "stderr",
     "output_type": "stream",
     "text": [
      "Iteration: 100%|██████████| 267/267 [00:02<00:00, 97.48it/s]]\n",
      "Iteration: 100%|██████████| 267/267 [00:02<00:00, 104.50it/s]\n",
      "Iteration: 100%|██████████| 267/267 [00:02<00:00, 105.19it/s]\n",
      "Iteration: 100%|██████████| 267/267 [00:03<00:00, 81.84it/s] \n",
      "Iteration: 100%|██████████| 267/267 [00:02<00:00, 125.42it/s]\n",
      "Iteration: 100%|██████████| 267/267 [00:04<00:00, 61.29it/s]]\n",
      "Iteration: 100%|██████████| 267/267 [00:02<00:00, 120.50it/s]\n",
      "Iteration: 100%|██████████| 267/267 [00:02<00:00, 102.86it/s]\n",
      "Iteration:   7%|▋         | 20/267 [00:00<00:02, 94.87it/s]"
     ]
    },
    {
     "name": "stdout",
     "output_type": "stream",
     "text": [
      "{'Train':  best_epoch_indx:18\n",
      " auc:0.7684825302309664 \n",
      " apur:0.691265860023702 \n",
      " f1:0.6416413463523999 \n",
      " precision:0.5963753016012283 \n",
      " recall:0.6943433569558833 \n",
      ", 'Validation':  best_epoch_indx:18\n",
      " auc:0.7684825302309664 \n",
      " apur:0.691265860023702 \n",
      " f1:0.6416413463523999 \n",
      " precision:0.5963753016012283 \n",
      " recall:0.6943433569558833 \n",
      ", 'Test':  best_epoch_indx:18\n",
      " auc:0.7684825305598595 \n",
      " apur:0.6912658616468457 \n",
      " f1:0.6416413463523999 \n",
      " precision:0.5963753016012283 \n",
      " recall:0.6943433569558833 \n",
      "}\n",
      "=====Epoch 19\n",
      "Training...\n"
     ]
    },
    {
     "name": "stderr",
     "output_type": "stream",
     "text": [
      "Iteration:   2%|▏         | 5/267 [00:00<00:06, 40.10it/s]/s]"
     ]
    },
    {
     "name": "stdout",
     "output_type": "stream",
     "text": [
      "{'Train':  best_epoch_indx:17\n",
      " auc:0.7640361473782634 \n",
      " apur:0.6865890247569769 \n",
      " f1:0.641416808185749 \n",
      " precision:0.5799932898030815 \n",
      " recall:0.717391304347826 \n",
      ", 'Validation':  best_epoch_indx:17\n",
      " auc:0.7640361473782634 \n",
      " apur:0.6865890247569769 \n",
      " f1:0.641416808185749 \n",
      " precision:0.5799932898030815 \n",
      " recall:0.717391304347826 \n",
      ", 'Test':  best_epoch_indx:17\n",
      " auc:0.7640361473782634 \n",
      " apur:0.6865890247569769 \n",
      " f1:0.641416808185749 \n",
      " precision:0.5799932898030815 \n",
      " recall:0.717391304347826 \n",
      "}\n",
      "=====Epoch 18\n",
      "Training...\n"
     ]
    },
    {
     "name": "stderr",
     "output_type": "stream",
     "text": [
      "Iteration: 100%|██████████| 267/267 [00:02<00:00, 118.86it/s]\n",
      "Iteration: 100%|██████████| 267/267 [00:02<00:00, 97.75it/s] \n",
      "Iteration:  28%|██▊       | 75/267 [00:02<00:05, 36.41it/s]]"
     ]
    },
    {
     "name": "stdout",
     "output_type": "stream",
     "text": [
      "{'Train':  best_epoch_indx:18\n",
      " auc:0.7694910953735451 \n",
      " apur:0.6908480035218618 \n",
      " f1:0.6335247944760106 \n",
      " precision:0.6150793650793651 \n",
      " recall:0.6531107351485939 \n",
      ", 'Validation':  best_epoch_indx:18\n",
      " auc:0.7694910953735451 \n",
      " apur:0.6908480035218618 \n",
      " f1:0.6335247944760106 \n",
      " precision:0.6150793650793651 \n",
      " recall:0.6531107351485939 \n",
      ", 'Test':  best_epoch_indx:18\n",
      " auc:0.7694910953735451 \n",
      " apur:0.6908480035218618 \n",
      " f1:0.6335247944760106 \n",
      " precision:0.6150793650793651 \n",
      " recall:0.6531107351485939 \n",
      "}\n",
      "=====Epoch 19\n",
      "Training...\n"
     ]
    },
    {
     "name": "stderr",
     "output_type": "stream",
     "text": [
      "\r",
      "Iteration:  48%|████▊     | 129/267 [00:02<00:01, 70.87it/s]\r",
      "Iteration:  51%|█████     | 135/267 [00:03<00:02, 45.57it/s]\r",
      "Iteration:   2%|▏         | 5/267 [00:00<00:05, 48.39it/s]\r",
      "Iteration:  30%|██▉       | 79/267 [00:02<00:05, 35.94it/s]\r",
      "Iteration:  53%|█████▎    | 141/267 [00:02<00:01, 83.00it/s]\r",
      "Iteration:  52%|█████▏    | 140/267 [00:03<00:02, 45.60it/s]\r",
      "Iteration:   0%|          | 0/267 [00:00<?, ?it/s]\r",
      "Iteration:  31%|███       | 83/267 [00:02<00:05, 36.62it/s]"
     ]
    },
    {
     "name": "stdout",
     "output_type": "stream",
     "text": [
      "{'Train':  best_epoch_indx:17\n",
      " auc:0.7597871470916134 \n",
      " apur:0.6834142994868702 \n",
      " f1:0.6380789499297821 \n",
      " precision:0.5652452393269776 \n",
      " recall:0.7324586605375726 \n",
      ", 'Validation':  best_epoch_indx:17\n",
      " auc:0.7597871467627203 \n",
      " apur:0.6834142954856988 \n",
      " f1:0.6380789499297821 \n",
      " precision:0.5652452393269776 \n",
      " recall:0.7324586605375726 \n",
      ", 'Test':  best_epoch_indx:17\n",
      " auc:0.7597871470916134 \n",
      " apur:0.6834142994868702 \n",
      " f1:0.6380789499297821 \n",
      " precision:0.5652452393269776 \n",
      " recall:0.7324586605375726 \n",
      "}\n",
      "=====Epoch 18\n",
      "Training...\n"
     ]
    },
    {
     "name": "stderr",
     "output_type": "stream",
     "text": [
      "Iteration: 100%|██████████| 267/267 [00:03<00:00, 84.88it/s] \n",
      "Iteration:  28%|██▊       | 75/267 [00:01<00:04, 39.88it/s]]"
     ]
    },
    {
     "name": "stdout",
     "output_type": "stream",
     "text": [
      "{'Train':  best_epoch_indx:18\n",
      " auc:0.767737035550395 \n",
      " apur:0.6893245092395126 \n",
      " f1:0.6405647115125773 \n",
      " precision:0.6025886325267304 \n",
      " recall:0.6836493647449403 \n",
      ", 'Validation':  best_epoch_indx:18\n",
      " auc:0.767737035550395 \n",
      " apur:0.6893245092395126 \n",
      " f1:0.6405647115125773 \n",
      " precision:0.6025886325267304 \n",
      " recall:0.6836493647449403 \n",
      ", 'Test':  best_epoch_indx:18\n",
      " auc:0.767737035550395 \n",
      " apur:0.6893245092395126 \n",
      " f1:0.6405647115125773 \n",
      " precision:0.6025886325267304 \n",
      " recall:0.6836493647449403 \n",
      "}\n",
      "=====Epoch 19\n",
      "Training...\n"
     ]
    },
    {
     "name": "stderr",
     "output_type": "stream",
     "text": [
      "Iteration: 100%|██████████| 267/267 [00:06<00:00, 43.88it/s]\n",
      "Iteration:  78%|███████▊  | 207/267 [00:05<00:01, 45.19it/s]"
     ]
    },
    {
     "name": "stdout",
     "output_type": "stream",
     "text": [
      "Evaluating...\n"
     ]
    },
    {
     "name": "stderr",
     "output_type": "stream",
     "text": [
      "Iteration: 100%|██████████| 267/267 [00:06<00:00, 40.73it/s]]\n",
      "Iteration:  78%|███████▊  | 209/267 [00:04<00:01, 45.57it/s]]"
     ]
    },
    {
     "name": "stdout",
     "output_type": "stream",
     "text": [
      "Evaluating...\n"
     ]
    },
    {
     "name": "stderr",
     "output_type": "stream",
     "text": [
      "Iteration: 100%|██████████| 267/267 [00:02<00:00, 121.88it/s]\n",
      "Iteration: 100%|██████████| 267/267 [00:06<00:00, 41.90it/s]]\n",
      "Iteration:   9%|▊         | 23/267 [00:00<00:03, 68.96it/s]]]"
     ]
    },
    {
     "name": "stdout",
     "output_type": "stream",
     "text": [
      "Evaluating...\n"
     ]
    },
    {
     "name": "stderr",
     "output_type": "stream",
     "text": [
      "Iteration: 100%|██████████| 267/267 [00:02<00:00, 125.35it/s]\n",
      "Iteration: 100%|██████████| 267/267 [00:06<00:00, 38.21it/s]\n",
      "Iteration:   0%|          | 0/267 [00:00<?, ?it/s]"
     ]
    },
    {
     "name": "stdout",
     "output_type": "stream",
     "text": [
      "Evaluating...\n"
     ]
    },
    {
     "name": "stderr",
     "output_type": "stream",
     "text": [
      "Iteration: 100%|██████████| 267/267 [00:06<00:00, 39.03it/s]]\n",
      "Iteration:  93%|█████████▎| 249/267 [00:02<00:00, 112.30it/s]"
     ]
    },
    {
     "name": "stdout",
     "output_type": "stream",
     "text": [
      "Evaluating...\n"
     ]
    },
    {
     "name": "stderr",
     "output_type": "stream",
     "text": [
      "Iteration: 100%|██████████| 267/267 [00:02<00:00, 100.00it/s]\n",
      "Iteration: 100%|██████████| 267/267 [00:02<00:00, 126.07it/s]\n",
      "Iteration: 100%|██████████| 267/267 [00:03<00:00, 71.75it/s]]\n",
      "Iteration: 100%|██████████| 267/267 [00:02<00:00, 121.84it/s]\n",
      "Iteration: 100%|██████████| 267/267 [00:03<00:00, 75.28it/s] \n",
      "Iteration: 100%|██████████| 267/267 [00:02<00:00, 107.19it/s]\n",
      "Iteration: 100%|██████████| 267/267 [00:03<00:00, 88.79it/s] \n",
      "Iteration: 100%|██████████| 267/267 [00:02<00:00, 126.07it/s]\n",
      "Iteration: 100%|██████████| 267/267 [00:02<00:00, 89.87it/s] \n",
      "Iteration:  43%|████▎     | 114/267 [00:01<00:01, 90.78it/s]]"
     ]
    },
    {
     "name": "stdout",
     "output_type": "stream",
     "text": [
      "{'Train':  best_epoch_indx:19\n",
      " auc:0.7783293500431554 \n",
      " apur:0.703159073342862 \n",
      " f1:0.6459069020866773 \n",
      " precision:0.6197307049194755 \n",
      " recall:0.6743918789503927 \n",
      ", 'Validation':  best_epoch_indx:19\n",
      " auc:0.7783293500431554 \n",
      " apur:0.703159073342862 \n",
      " f1:0.6459069020866773 \n",
      " precision:0.6197307049194755 \n",
      " recall:0.6743918789503927 \n",
      ", 'Test':  best_epoch_indx:19\n",
      " auc:0.7783293503720485 \n",
      " apur:0.7031590735120583 \n",
      " f1:0.6459069020866773 \n",
      " precision:0.6197307049194755 \n",
      " recall:0.6743918789503927 \n",
      "}\n",
      "=====Epoch 20\n",
      "Training...\n"
     ]
    },
    {
     "name": "stderr",
     "output_type": "stream",
     "text": [
      "Iteration: 100%|██████████| 267/267 [00:02<00:00, 91.57it/s] \n",
      "Iteration:   0%|          | 0/267 [00:00<?, ?it/s]98.41it/s]]"
     ]
    },
    {
     "name": "stdout",
     "output_type": "stream",
     "text": [
      "{'Train':  best_epoch_indx:18\n",
      " auc:0.7728822829480804 \n",
      " apur:0.6951586048786045 \n",
      " f1:0.6421604046242774 \n",
      " precision:0.6075884464194155 \n",
      " recall:0.6809040413713848 \n",
      ", 'Validation':  best_epoch_indx:18\n",
      " auc:0.7728822829480804 \n",
      " apur:0.6951586048786045 \n",
      " f1:0.6421604046242774 \n",
      " precision:0.6075884464194155 \n",
      " recall:0.6809040413713848 \n",
      ", 'Test':  best_epoch_indx:18\n",
      " auc:0.7728822829480804 \n",
      " apur:0.6951586048786045 \n",
      " f1:0.6421604046242774 \n",
      " precision:0.6075884464194155 \n",
      " recall:0.6809040413713848 \n",
      "}\n",
      "=====Epoch 19\n",
      "Training...\n"
     ]
    },
    {
     "name": "stderr",
     "output_type": "stream",
     "text": [
      "Iteration: 100%|██████████| 267/267 [00:02<00:00, 93.24it/s] \n",
      "Iteration: 100%|██████████| 267/267 [00:02<00:00, 96.38it/s] \n",
      "Iteration: 100%|██████████| 267/267 [00:02<00:00, 117.56it/s]\n",
      "Iteration:  19%|█▊        | 50/267 [00:01<00:05, 39.37it/s]"
     ]
    },
    {
     "name": "stdout",
     "output_type": "stream",
     "text": [
      "{'Train':  best_epoch_indx:19\n",
      " auc:0.7800358129360145 \n",
      " apur:0.7036975528534547 \n",
      " f1:0.6473438813727738 \n",
      " precision:0.6211276695611359 \n",
      " recall:0.6758706547068024 \n",
      ", 'Validation':  best_epoch_indx:19\n",
      " auc:0.7800358126071251 \n",
      " apur:0.7036975526422657 \n",
      " f1:0.6473438813727738 \n",
      " precision:0.6211276695611359 \n",
      " recall:0.6758706547068024 \n",
      ", 'Test':  best_epoch_indx:19\n",
      " auc:0.7800358129360145 \n",
      " apur:0.7036975528534547 \n",
      " f1:0.6473438813727738 \n",
      " precision:0.6211276695611359 \n",
      " recall:0.6758706547068024 \n",
      "}\n",
      "=====Epoch 20\n",
      "Training...\n"
     ]
    },
    {
     "name": "stderr",
     "output_type": "stream",
     "text": [
      "Iteration:   0%|          | 0/267 [00:00<?, ?it/s]40.09it/s]"
     ]
    },
    {
     "name": "stdout",
     "output_type": "stream",
     "text": [
      "{'Train':  best_epoch_indx:18\n",
      " auc:0.7695590147962299 \n",
      " apur:0.6920998359870436 \n",
      " f1:0.6277963324721153 \n",
      " precision:0.619751166407465 \n",
      " recall:0.6360531188150418 \n",
      ", 'Validation':  best_epoch_indx:18\n",
      " auc:0.7695590147962299 \n",
      " apur:0.6920998359870436 \n",
      " f1:0.6277963324721153 \n",
      " precision:0.619751166407465 \n",
      " recall:0.6360531188150418 \n",
      ", 'Test':  best_epoch_indx:18\n",
      " auc:0.7695590147962299 \n",
      " apur:0.6920998359870436 \n",
      " f1:0.6277963324721153 \n",
      " precision:0.619751166407465 \n",
      " recall:0.6360531188150418 \n",
      "}\n",
      "=====Epoch 19\n",
      "Training...\n"
     ]
    },
    {
     "name": "stderr",
     "output_type": "stream",
     "text": [
      "Iteration:   2%|▏         | 5/267 [00:00<00:05, 47.58it/s]s]"
     ]
    },
    {
     "name": "stdout",
     "output_type": "stream",
     "text": [
      "{'Train':  best_epoch_indx:19\n",
      " auc:0.7795373328382627 \n",
      " apur:0.7042662084342807 \n",
      " f1:0.6540335521517141 \n",
      " precision:0.6022189984955942 \n",
      " recall:0.7156036519185341 \n",
      ", 'Validation':  best_epoch_indx:19\n",
      " auc:0.7795373328382627 \n",
      " apur:0.7042662084342807 \n",
      " f1:0.6540335521517141 \n",
      " precision:0.6022189984955942 \n",
      " recall:0.7156036519185341 \n",
      ", 'Test':  best_epoch_indx:19\n",
      " auc:0.7795373328382627 \n",
      " apur:0.7042662084342807 \n",
      " f1:0.6540335521517141 \n",
      " precision:0.6022189984955942 \n",
      " recall:0.7156036519185341 \n",
      "}\n",
      "=====Epoch 20\n",
      "Training...\n"
     ]
    },
    {
     "name": "stderr",
     "output_type": "stream",
     "text": [
      "Iteration: 100%|██████████| 267/267 [00:06<00:00, 42.44it/s]\n",
      "Iteration:  48%|████▊     | 129/267 [00:03<00:03, 40.49it/s]"
     ]
    },
    {
     "name": "stdout",
     "output_type": "stream",
     "text": [
      "Evaluating...\n"
     ]
    },
    {
     "name": "stderr",
     "output_type": "stream",
     "text": [
      "Iteration: 100%|██████████| 267/267 [00:06<00:00, 42.70it/s]]\n",
      "Iteration:  82%|████████▏ | 219/267 [00:05<00:01, 45.51it/s]"
     ]
    },
    {
     "name": "stdout",
     "output_type": "stream",
     "text": [
      "Evaluating...\n"
     ]
    },
    {
     "name": "stderr",
     "output_type": "stream",
     "text": [
      "Iteration: 100%|██████████| 267/267 [00:06<00:00, 43.96it/s]]\n",
      "Iteration: 100%|██████████| 267/267 [00:02<00:00, 124.96it/s]\n",
      "Iteration:  80%|███████▉  | 213/267 [00:05<00:01, 40.13it/s]"
     ]
    },
    {
     "name": "stdout",
     "output_type": "stream",
     "text": [
      "Evaluating...\n"
     ]
    },
    {
     "name": "stderr",
     "output_type": "stream",
     "text": [
      "Iteration: 100%|██████████| 267/267 [00:02<00:00, 119.05it/s]\n",
      "Iteration: 100%|██████████| 267/267 [00:06<00:00, 38.19it/s]]\n",
      "Iteration:   2%|▏         | 6/267 [00:00<00:04, 55.82it/s]s]]"
     ]
    },
    {
     "name": "stdout",
     "output_type": "stream",
     "text": [
      "Evaluating...\n"
     ]
    },
    {
     "name": "stderr",
     "output_type": "stream",
     "text": [
      "Iteration: 100%|██████████| 267/267 [00:02<00:00, 123.98it/s]\n",
      "Iteration: 100%|██████████| 267/267 [00:06<00:00, 38.66it/s]]\n",
      "Iteration:   8%|▊         | 22/267 [00:00<00:03, 68.43it/s]]"
     ]
    },
    {
     "name": "stdout",
     "output_type": "stream",
     "text": [
      "Evaluating...\n"
     ]
    },
    {
     "name": "stderr",
     "output_type": "stream",
     "text": [
      "Iteration: 100%|██████████| 267/267 [00:02<00:00, 118.74it/s]\n",
      "Iteration: 100%|██████████| 267/267 [00:02<00:00, 111.58it/s]\n",
      "Iteration: 100%|██████████| 267/267 [00:02<00:00, 120.38it/s]\n",
      "Iteration: 100%|██████████| 267/267 [00:03<00:00, 84.08it/s] \n",
      "Iteration: 100%|██████████| 267/267 [00:03<00:00, 69.77it/s]]\n",
      "Iteration: 100%|██████████| 267/267 [00:02<00:00, 126.14it/s]\n",
      "Iteration: 100%|██████████| 267/267 [00:03<00:00, 86.43it/s] \n",
      "Iteration:  30%|██▉       | 80/267 [00:01<00:02, 69.37it/s]]]"
     ]
    },
    {
     "name": "stdout",
     "output_type": "stream",
     "text": [
      "{'Train':  best_epoch_indx:20\n",
      " auc:0.7796758824882827 \n",
      " apur:0.705464332111178 \n",
      " f1:0.649344794421736 \n",
      " precision:0.6134647055482991 \n",
      " recall:0.6896826916938007 \n",
      ", 'Validation':  best_epoch_indx:20\n",
      " auc:0.7796758828171757 \n",
      " apur:0.7054643331963351 \n",
      " f1:0.649344794421736 \n",
      " precision:0.6134647055482991 \n",
      " recall:0.6896826916938007 \n",
      ", 'Test':  best_epoch_indx:20\n",
      " auc:0.7796758821593895 \n",
      " apur:0.7054643306437686 \n",
      " f1:0.649344794421736 \n",
      " precision:0.6134647055482991 \n",
      " recall:0.6896826916938007 \n",
      "}\n",
      "=====Epoch 21\n",
      "Training...\n"
     ]
    },
    {
     "name": "stderr",
     "output_type": "stream",
     "text": [
      "Iteration: 100%|██████████| 267/267 [00:02<00:00, 111.65it/s]\n",
      "Iteration: 100%|██████████| 267/267 [00:02<00:00, 89.52it/s] \n",
      "Iteration: 100%|██████████| 267/267 [00:02<00:00, 98.42it/s] \n",
      "Iteration:  24%|██▍       | 65/267 [00:01<00:05, 36.59it/s]]"
     ]
    },
    {
     "name": "stdout",
     "output_type": "stream",
     "text": [
      "{'Train':  best_epoch_indx:20\n",
      " auc:0.7820694678801244 \n",
      " apur:0.7066324694172388 \n",
      " f1:0.6551791015828969 \n",
      " precision:0.6150355722368495 \n",
      " recall:0.7009289111628946 \n",
      ", 'Validation':  best_epoch_indx:20\n",
      " auc:0.7820694678801243 \n",
      " apur:0.7066324694172389 \n",
      " f1:0.6551791015828969 \n",
      " precision:0.6150355722368495 \n",
      " recall:0.7009289111628946 \n",
      ", 'Test':  best_epoch_indx:20\n",
      " auc:0.7820694678801243 \n",
      " apur:0.7066324694172389 \n",
      " f1:0.6551791015828969 \n",
      " precision:0.6150355722368495 \n",
      " recall:0.7009289111628946 \n",
      "}\n",
      "=====Epoch 21\n",
      "Training...\n"
     ]
    },
    {
     "name": "stderr",
     "output_type": "stream",
     "text": [
      "\r",
      "Iteration:  51%|█████     | 135/267 [00:01<00:01, 86.68it/s]\r",
      "Iteration:   2%|▏         | 5/267 [00:00<00:06, 40.45it/s]\r",
      "Iteration:  26%|██▌       | 69/267 [00:01<00:05, 36.65it/s]\r",
      "Iteration:  28%|██▊       | 74/267 [00:01<00:04, 39.35it/s]\r",
      "Iteration:   4%|▎         | 10/267 [00:00<00:06, 38.90it/s]\r",
      "Iteration:  54%|█████▍    | 144/267 [00:02<00:01, 76.33it/s]"
     ]
    },
    {
     "name": "stdout",
     "output_type": "stream",
     "text": [
      "{'Train':  best_epoch_indx:19\n",
      " auc:0.7811423852714616 \n",
      " apur:0.7059570396757593 \n",
      " f1:0.6507472580450766 \n",
      " precision:0.6161768901569187 \n",
      " recall:0.6894273127753304 \n",
      ", 'Validation':  best_epoch_indx:19\n",
      " auc:0.7811423856003548 \n",
      " apur:0.7059570397850318 \n",
      " f1:0.6507472580450766 \n",
      " precision:0.6161768901569187 \n",
      " recall:0.6894273127753304 \n",
      ", 'Test':  best_epoch_indx:19\n",
      " auc:0.7811423852714616 \n",
      " apur:0.7059570396757593 \n",
      " f1:0.6507472580450766 \n",
      " precision:0.6161768901569187 \n",
      " recall:0.6894273127753304 \n",
      "}\n",
      "=====Epoch 20\n",
      "Training...\n"
     ]
    },
    {
     "name": "stderr",
     "output_type": "stream",
     "text": [
      "Iteration: 100%|██████████| 267/267 [00:03<00:00, 88.89it/s] \n",
      "Iteration:  33%|███▎      | 87/267 [00:01<00:03, 45.59it/s]]"
     ]
    },
    {
     "name": "stdout",
     "output_type": "stream",
     "text": [
      "{'Train':  best_epoch_indx:19\n",
      " auc:0.7816146619572858 \n",
      " apur:0.7077718120020211 \n",
      " f1:0.6553009810945565 \n",
      " precision:0.6045539158820514 \n",
      " recall:0.7153482730000639 \n",
      ", 'Validation':  best_epoch_indx:19\n",
      " auc:0.7816146619572858 \n",
      " apur:0.7077718120020211 \n",
      " f1:0.6553009810945565 \n",
      " precision:0.6045539158820514 \n",
      " recall:0.7153482730000639 \n",
      ", 'Test':  best_epoch_indx:19\n",
      " auc:0.7816146619572858 \n",
      " apur:0.7077718120020211 \n",
      " f1:0.6553009810945565 \n",
      " precision:0.6045539158820514 \n",
      " recall:0.7153482730000639 \n",
      "}\n",
      "=====Epoch 20\n",
      "Training...\n"
     ]
    },
    {
     "name": "stderr",
     "output_type": "stream",
     "text": [
      "Iteration: 100%|██████████| 267/267 [00:02<00:00, 115.96it/s]\n",
      "Iteration:  72%|███████▏  | 192/267 [00:04<00:01, 45.59it/s]"
     ]
    },
    {
     "name": "stdout",
     "output_type": "stream",
     "text": [
      "{'Train':  best_epoch_indx:20\n",
      " auc:0.7799262572783784 \n",
      " apur:0.7058180169258905 \n",
      " f1:0.6464291713112126 \n",
      " precision:0.6195884436378538 \n",
      " recall:0.6757006959075529 \n",
      ", 'Validation':  best_epoch_indx:20\n",
      " auc:0.7799262572783784 \n",
      " apur:0.7058180169258905 \n",
      " f1:0.6464291713112126 \n",
      " precision:0.6195884436378538 \n",
      " recall:0.6757006959075529 \n",
      ", 'Test':  best_epoch_indx:20\n",
      " auc:0.7799262572783784 \n",
      " apur:0.7058180169258905 \n",
      " f1:0.6464291713112126 \n",
      " precision:0.6195884436378538 \n",
      " recall:0.6757006959075529 \n",
      "}\n",
      "=====Epoch 21\n",
      "Training...\n"
     ]
    },
    {
     "name": "stderr",
     "output_type": "stream",
     "text": [
      "\r",
      "Iteration:  36%|███▋      | 97/267 [00:02<00:04, 38.65it/s]\r",
      "Iteration:  72%|███████▏  | 192/267 [00:04<00:01, 45.46it/s]\r",
      "Iteration:  99%|█████████▊| 263/267 [00:06<00:00, 45.38it/s]\r",
      "Iteration:   4%|▎         | 10/267 [00:00<00:06, 41.26it/s]\r",
      "Iteration:  74%|███████▍  | 197/267 [00:04<00:01, 45.60it/s]\r",
      "Iteration:  38%|███▊      | 101/267 [00:02<00:04, 39.01it/s]\r",
      "Iteration:  74%|███████▍  | 197/267 [00:04<00:01, 45.54it/s]\r",
      "Iteration: 100%|██████████| 267/267 [00:06<00:00, 41.39it/s]\n",
      "\r",
      "Iteration:   0%|          | 0/267 [00:00<?, ?it/s]\r",
      "Iteration:  76%|███████▌  | 202/267 [00:04<00:01, 45.62it/s]\r",
      "Iteration:   6%|▌         | 15/267 [00:00<00:06, 41.28it/s]"
     ]
    },
    {
     "name": "stdout",
     "output_type": "stream",
     "text": [
      "Evaluating...\n"
     ]
    },
    {
     "name": "stderr",
     "output_type": "stream",
     "text": [
      "Iteration: 100%|██████████| 267/267 [00:05<00:00, 45.15it/s]]\n",
      "Iteration:  69%|██████▉   | 184/267 [00:01<00:00, 100.34it/s]"
     ]
    },
    {
     "name": "stdout",
     "output_type": "stream",
     "text": [
      "Evaluating...\n",
      "Evaluating...\n"
     ]
    },
    {
     "name": "stderr",
     "output_type": "stream",
     "text": [
      "Iteration: 100%|██████████| 267/267 [00:06<00:00, 42.03it/s]\n",
      "Iteration: 100%|██████████| 267/267 [00:02<00:00, 121.69it/s]\n",
      "Iteration: 100%|██████████| 267/267 [00:02<00:00, 117.25it/s]\n",
      "Iteration: 100%|██████████| 267/267 [00:02<00:00, 113.22it/s]\n",
      "Iteration: 100%|██████████| 267/267 [00:06<00:00, 39.21it/s]]\n",
      "Iteration:   4%|▍         | 12/267 [00:00<00:02, 119.07it/s]]"
     ]
    },
    {
     "name": "stdout",
     "output_type": "stream",
     "text": [
      "Evaluating...\n"
     ]
    },
    {
     "name": "stderr",
     "output_type": "stream",
     "text": [
      "Iteration: 100%|██████████| 267/267 [00:02<00:00, 113.88it/s]\n",
      "Iteration: 100%|██████████| 267/267 [00:02<00:00, 125.75it/s]\n",
      "Iteration: 100%|██████████| 267/267 [00:07<00:00, 37.95it/s]]\n",
      "Iteration: 100%|██████████| 267/267 [00:02<00:00, 119.21it/s]\n"
     ]
    },
    {
     "name": "stdout",
     "output_type": "stream",
     "text": [
      "Evaluating...\n"
     ]
    },
    {
     "name": "stderr",
     "output_type": "stream",
     "text": [
      "Iteration: 100%|██████████| 267/267 [00:02<00:00, 121.11it/s]\n",
      "Iteration: 100%|██████████| 267/267 [00:02<00:00, 119.94it/s]\n",
      "Iteration: 100%|██████████| 267/267 [00:04<00:00, 63.21it/s]]\n",
      "Iteration: 100%|██████████| 267/267 [00:02<00:00, 117.72it/s]\n",
      "Iteration: 100%|██████████| 267/267 [00:03<00:00, 67.62it/s]\n",
      "Iteration:  40%|████      | 107/267 [00:01<00:02, 77.95it/s]"
     ]
    },
    {
     "name": "stdout",
     "output_type": "stream",
     "text": [
      "{'Train':  best_epoch_indx:20\n",
      " auc:0.7813969337348408 \n",
      " apur:0.7071972636458519 \n",
      " f1:0.6538359593579737 \n",
      " precision:0.6068499890662584 \n",
      " recall:0.7087084211198366 \n",
      ", 'Validation':  best_epoch_indx:20\n",
      " auc:0.7813969337348408 \n",
      " apur:0.7071972636458519 \n",
      " f1:0.6538359593579737 \n",
      " precision:0.6068499890662584 \n",
      " recall:0.7087084211198366 \n",
      ", 'Test':  best_epoch_indx:20\n",
      " auc:0.7813969337348408 \n",
      " apur:0.7071972636458519 \n",
      " f1:0.6538359593579737 \n",
      " precision:0.6068499890662584 \n",
      " recall:0.7087084211198366 \n",
      "}\n",
      "=====Epoch 21\n",
      "Training...\n"
     ]
    },
    {
     "name": "stderr",
     "output_type": "stream",
     "text": [
      "Iteration:   8%|▊         | 21/267 [00:00<00:04, 61.04it/s]s]"
     ]
    },
    {
     "name": "stdout",
     "output_type": "stream",
     "text": [
      "{'Train':  best_epoch_indx:21\n",
      " auc:0.7752345422246716 \n",
      " apur:0.7024037389411659 \n",
      " f1:0.6505393175285311 \n",
      " precision:0.5868850775392831 \n",
      " recall:0.7296814147992083 \n",
      ", 'Validation':  best_epoch_indx:21\n",
      " auc:0.7752345422246716 \n",
      " apur:0.7024037389412143 \n",
      " f1:0.6505393175285311 \n",
      " precision:0.5868850775392831 \n",
      " recall:0.7296814147992083 \n",
      ", 'Test':  best_epoch_indx:21\n",
      " auc:0.7752345422246716 \n",
      " apur:0.7024037389412143 \n",
      " f1:0.6505393175285311 \n",
      " precision:0.5868850775392831 \n",
      " recall:0.7296814147992083 \n",
      "}\n",
      "=====Epoch 22\n",
      "Training...\n"
     ]
    },
    {
     "name": "stderr",
     "output_type": "stream",
     "text": [
      "Iteration: 100%|██████████| 267/267 [00:02<00:00, 98.40it/s] \n",
      "Iteration: 100%|██████████| 267/267 [00:02<00:00, 115.43it/s]\n",
      "Iteration:   0%|          | 0/267 [00:00<?, ?it/s]2.97it/s]]"
     ]
    },
    {
     "name": "stdout",
     "output_type": "stream",
     "text": [
      "{'Train':  best_epoch_indx:20\n",
      " auc:0.781181481123792 \n",
      " apur:0.7072884805631727 \n",
      " f1:0.6493463610848456 \n",
      " precision:0.6127871731678989 \n",
      " recall:0.6905445955436379 \n",
      ", 'Validation':  best_epoch_indx:20\n",
      " auc:0.781181481123792 \n",
      " apur:0.7072884805631727 \n",
      " f1:0.6493463610848456 \n",
      " precision:0.6127871731678989 \n",
      " recall:0.6905445955436379 \n",
      ", 'Test':  best_epoch_indx:20\n",
      " auc:0.781181481123792 \n",
      " apur:0.7072884805631727 \n",
      " f1:0.6493463610848456 \n",
      " precision:0.6127871731678989 \n",
      " recall:0.6905445955436379 \n",
      "}\n",
      "=====Epoch 21\n",
      "Training...\n"
     ]
    },
    {
     "name": "stderr",
     "output_type": "stream",
     "text": [
      "Iteration: 100%|██████████| 267/267 [00:04<00:00, 66.74it/s]]\n",
      "Iteration: 100%|██████████| 267/267 [00:02<00:00, 116.50it/s]\n",
      "Iteration:  88%|████████▊ | 236/267 [00:05<00:00, 45.65it/s]"
     ]
    },
    {
     "name": "stdout",
     "output_type": "stream",
     "text": [
      "{'Train':  best_epoch_indx:21\n",
      " auc:0.7787137773991413 \n",
      " apur:0.7041928785843792 \n",
      " f1:0.6505881482577495 \n",
      " precision:0.6063322209658292 \n",
      " recall:0.701813190321139 \n",
      ", 'Validation':  best_epoch_indx:21\n",
      " auc:0.7787137773991413 \n",
      " apur:0.7041928785843792 \n",
      " f1:0.6505881482577495 \n",
      " precision:0.6063322209658292 \n",
      " recall:0.701813190321139 \n",
      ", 'Test':  best_epoch_indx:21\n",
      " auc:0.7787137773991413 \n",
      " apur:0.7041928785843792 \n",
      " f1:0.6505881482577495 \n",
      " precision:0.6063322209658292 \n",
      " recall:0.701813190321139 \n",
      "}\n",
      "=====Epoch 22\n",
      "Training...\n",
      "{'Train':  best_epoch_indx:21\n",
      " auc:0.7817901046331515 \n",
      " apur:0.7055008529538572 \n",
      " f1:0.652568979049689 \n",
      " precision:0.6189549033643522 \n",
      " recall:0.6900437322437514 \n",
      ", 'Validation':  best_epoch_indx:21\n",
      " auc:0.7817901052909302 \n",
      " apur:0.7055008532515992 \n",
      " f1:0.652568979049689 \n",
      " precision:0.6189549033643522 \n",
      " recall:0.6900437322437514 \n",
      ", 'Test':  best_epoch_indx:21\n",
      " auc:0.7817901056198195 \n",
      " apur:0.7055008545347391 \n",
      " f1:0.652568979049689 \n",
      " precision:0.6189549033643522 \n",
      " recall:0.6900437322437514 \n",
      "}\n",
      "=====Epoch 22\n",
      "Training...\n"
     ]
    },
    {
     "name": "stderr",
     "output_type": "stream",
     "text": [
      "Iteration: 100%|██████████| 267/267 [00:06<00:00, 41.92it/s]\n",
      "Iteration: 100%|██████████| 267/267 [00:05<00:00, 45.18it/s]\n",
      "Iteration:   0%|          | 0/267 [00:00<?, ?it/s]"
     ]
    },
    {
     "name": "stdout",
     "output_type": "stream",
     "text": [
      "Evaluating...\n",
      "Evaluating...\n"
     ]
    },
    {
     "name": "stderr",
     "output_type": "stream",
     "text": [
      "Iteration: 100%|██████████| 267/267 [00:02<00:00, 115.07it/s]\n",
      "Iteration:  43%|████▎     | 114/267 [00:03<00:04, 32.78it/s]]\n",
      "Iteration:  44%|████▍     | 118/267 [00:03<00:04, 33.34it/s]]"
     ]
    },
    {
     "name": "stdout",
     "output_type": "stream",
     "text": [
      "Evaluating...\n"
     ]
    },
    {
     "name": "stderr",
     "output_type": "stream",
     "text": [
      "Iteration: 100%|██████████| 267/267 [00:02<00:00, 92.01it/s] \n",
      "Iteration: 100%|██████████| 267/267 [00:02<00:00, 119.98it/s]\n",
      "Iteration: 100%|██████████| 267/267 [00:06<00:00, 41.71it/s]]\n",
      "Iteration:  81%|████████  | 215/267 [00:02<00:00, 72.45it/s]]"
     ]
    },
    {
     "name": "stdout",
     "output_type": "stream",
     "text": [
      "Evaluating...\n"
     ]
    },
    {
     "name": "stderr",
     "output_type": "stream",
     "text": [
      "Iteration: 100%|██████████| 267/267 [00:02<00:00, 113.39it/s]\n",
      "Iteration: 100%|██████████| 267/267 [00:03<00:00, 87.73it/s]]\n",
      "Iteration: 100%|██████████| 267/267 [00:07<00:00, 34.76it/s]]\n",
      "Iteration:   0%|          | 0/267 [00:00<?, ?it/s]"
     ]
    },
    {
     "name": "stdout",
     "output_type": "stream",
     "text": [
      "Evaluating...\n"
     ]
    },
    {
     "name": "stderr",
     "output_type": "stream",
     "text": [
      "Iteration: 100%|██████████| 267/267 [00:02<00:00, 124.51it/s]\n",
      "Iteration: 100%|██████████| 267/267 [00:02<00:00, 120.92it/s]\n",
      "Iteration: 100%|██████████| 267/267 [00:02<00:00, 114.12it/s]\n",
      "Iteration: 100%|██████████| 267/267 [00:03<00:00, 87.45it/s] \n",
      "Iteration:  87%|████████▋ | 233/267 [00:01<00:00, 100.36it/s]"
     ]
    },
    {
     "name": "stdout",
     "output_type": "stream",
     "text": [
      "{'Train':  best_epoch_indx:21\n",
      " auc:0.7806164565822489 \n",
      " apur:0.7042660367166249 \n",
      " f1:0.6518164150097174 \n",
      " precision:0.6129794173883703 \n",
      " recall:0.6959075528315137 \n",
      ", 'Validation':  best_epoch_indx:21\n",
      " auc:0.7806164565822489 \n",
      " apur:0.7042660367166249 \n",
      " f1:0.6518164150097174 \n",
      " precision:0.6129794173883703 \n",
      " recall:0.6959075528315137 \n",
      ", 'Test':  best_epoch_indx:21\n",
      " auc:0.7806164565822489 \n",
      " apur:0.7042660367166249 \n",
      " f1:0.6518164150097174 \n",
      " precision:0.6129794173883703 \n",
      " recall:0.6959075528315137 \n",
      "}\n",
      "=====Epoch 22\n",
      "Training...\n"
     ]
    },
    {
     "name": "stderr",
     "output_type": "stream",
     "text": [
      "Iteration: 100%|██████████| 267/267 [00:02<00:00, 119.42it/s]\n",
      "Iteration: 100%|██████████| 267/267 [00:03<00:00, 85.16it/s] \n",
      "Iteration:  85%|████████▍ | 226/267 [00:03<00:00, 78.51it/s]]"
     ]
    },
    {
     "name": "stdout",
     "output_type": "stream",
     "text": [
      "{'Train':  best_epoch_indx:22\n",
      " auc:0.7754637817058052 \n",
      " apur:0.6988829547333844 \n",
      " f1:0.6522379865345161 \n",
      " precision:0.5957559121621622 \n",
      " recall:0.7205516184638958 \n",
      ", 'Validation':  best_epoch_indx:22\n",
      " auc:0.7754637813769121 \n",
      " apur:0.6988829545227975 \n",
      " f1:0.6522379865345161 \n",
      " precision:0.5957559121621622 \n",
      " recall:0.7205516184638958 \n",
      ", 'Test':  best_epoch_indx:22\n",
      " auc:0.7754637813769121 \n",
      " apur:0.6988829545227975 \n",
      " f1:0.6522379865345161 \n",
      " precision:0.5957559121621622 \n",
      " recall:0.7205516184638958 \n",
      "}\n",
      "=====Epoch 23\n",
      "Training...\n"
     ]
    },
    {
     "name": "stderr",
     "output_type": "stream",
     "text": [
      "Iteration: 100%|██████████| 267/267 [00:03<00:00, 69.58it/s] \n",
      "Iteration: 100%|██████████| 267/267 [00:02<00:00, 122.83it/s]\n",
      "Iteration:   2%|▏         | 6/267 [00:00<00:05, 49.58it/s]]]"
     ]
    },
    {
     "name": "stdout",
     "output_type": "stream",
     "text": [
      "{'Train':  best_epoch_indx:21\n",
      " auc:0.7809839933119456 \n",
      " apur:0.7061005371731883 \n",
      " f1:0.6504212497074654 \n",
      " precision:0.6002375681658658 \n",
      " recall:0.7097618591585264 \n",
      ", 'Validation':  best_epoch_indx:21\n",
      " auc:0.7809839933119456 \n",
      " apur:0.7061005371731883 \n",
      " f1:0.6504212497074654 \n",
      " precision:0.6002375681658658 \n",
      " recall:0.7097618591585264 \n",
      ", 'Test':  best_epoch_indx:21\n",
      " auc:0.7809839933119456 \n",
      " apur:0.7061005371731883 \n",
      " f1:0.6504212497074654 \n",
      " precision:0.6002375681658658 \n",
      " recall:0.7097618591585264 \n",
      "}\n",
      "=====Epoch 22\n",
      "Training...\n"
     ]
    },
    {
     "name": "stderr",
     "output_type": "stream",
     "text": [
      "Iteration: 100%|██████████| 267/267 [00:02<00:00, 99.36it/s] \n",
      "Iteration:  52%|█████▏    | 139/267 [00:03<00:03, 37.40it/s]"
     ]
    },
    {
     "name": "stdout",
     "output_type": "stream",
     "text": [
      "{'Train':  best_epoch_indx:22\n",
      " auc:0.7755540853220744 \n",
      " apur:0.7005573684501232 \n",
      " f1:0.6492956344975621 \n",
      " precision:0.5852895950794464 \n",
      " recall:0.729019695470361 \n",
      ", 'Validation':  best_epoch_indx:22\n",
      " auc:0.7755540856509638 \n",
      " apur:0.700557368636061 \n",
      " f1:0.6492956344975621 \n",
      " precision:0.5852895950794464 \n",
      " recall:0.729019695470361 \n",
      ", 'Test':  best_epoch_indx:22\n",
      " auc:0.7755540853220744 \n",
      " apur:0.7005573684501232 \n",
      " f1:0.6492956344975621 \n",
      " precision:0.5852895950794464 \n",
      " recall:0.729019695470361 \n",
      "}\n",
      "=====Epoch 23\n",
      "Training...\n"
     ]
    },
    {
     "name": "stderr",
     "output_type": "stream",
     "text": [
      "Iteration: 100%|██████████| 267/267 [00:06<00:00, 43.86it/s]\n",
      "Iteration:  11%|█         | 29/267 [00:00<00:05, 40.00it/s]]"
     ]
    },
    {
     "name": "stdout",
     "output_type": "stream",
     "text": [
      "Evaluating...\n"
     ]
    },
    {
     "name": "stderr",
     "output_type": "stream",
     "text": [
      "Iteration: 100%|██████████| 267/267 [00:03<00:00, 75.20it/s] \n",
      "Iteration: 100%|██████████| 267/267 [00:02<00:00, 126.17it/s]\n",
      "Iteration: 100%|██████████| 267/267 [00:06<00:00, 40.09it/s]\n",
      "Iteration:  43%|████▎     | 116/267 [00:03<00:03, 39.27it/s]"
     ]
    },
    {
     "name": "stdout",
     "output_type": "stream",
     "text": [
      "{'Train':  best_epoch_indx:22\n",
      " auc:0.7752062719623636 \n",
      " apur:0.7001444673445352 \n",
      " f1:0.6520954539548716 \n",
      " precision:0.5952349576997075 \n",
      " recall:0.72096660920641 \n",
      ", 'Validation':  best_epoch_indx:22\n",
      " auc:0.7752062719623636 \n",
      " apur:0.7001444673445352 \n",
      " f1:0.6520954539548716 \n",
      " precision:0.5952349576997075 \n",
      " recall:0.72096660920641 \n",
      ", 'Test':  best_epoch_indx:22\n",
      " auc:0.7752062719623637 \n",
      " apur:0.7001444673445352 \n",
      " f1:0.6520954539548716 \n",
      " precision:0.5952349576997075 \n",
      " recall:0.72096660920641 \n",
      "}\n",
      "=====Epoch 23\n",
      "Training...\n",
      "Evaluating...\n"
     ]
    },
    {
     "name": "stderr",
     "output_type": "stream",
     "text": [
      "Iteration: 100%|██████████| 267/267 [00:06<00:00, 41.73it/s]]\n",
      "Iteration:  62%|██████▏   | 166/267 [00:04<00:02, 36.96it/s]]"
     ]
    },
    {
     "name": "stdout",
     "output_type": "stream",
     "text": [
      "Evaluating...\n"
     ]
    },
    {
     "name": "stderr",
     "output_type": "stream",
     "text": [
      "Iteration: 100%|██████████| 267/267 [00:02<00:00, 114.17it/s]\n",
      "Iteration: 100%|██████████| 267/267 [00:02<00:00, 109.29it/s]\n",
      "Iteration: 100%|██████████| 267/267 [00:06<00:00, 41.71it/s]\n",
      "Iteration:  67%|██████▋   | 180/267 [00:02<00:01, 75.15it/s]"
     ]
    },
    {
     "name": "stdout",
     "output_type": "stream",
     "text": [
      "Evaluating...\n"
     ]
    },
    {
     "name": "stderr",
     "output_type": "stream",
     "text": [
      "Iteration: 100%|██████████| 267/267 [00:03<00:00, 77.01it/s] \n",
      "Iteration: 100%|██████████| 267/267 [00:02<00:00, 120.13it/s]\n",
      "Iteration: 100%|██████████| 267/267 [00:02<00:00, 95.16it/s] \n",
      "Iteration: 100%|██████████| 267/267 [00:06<00:00, 39.52it/s]]\n",
      "Iteration:  10%|▉         | 26/267 [00:00<00:01, 122.35it/s]"
     ]
    },
    {
     "name": "stdout",
     "output_type": "stream",
     "text": [
      "Evaluating...\n"
     ]
    },
    {
     "name": "stderr",
     "output_type": "stream",
     "text": [
      "Iteration: 100%|██████████| 267/267 [00:02<00:00, 112.72it/s]\n",
      "Iteration:   2%|▏         | 6/267 [00:00<00:05, 45.12it/s]/s]"
     ]
    },
    {
     "name": "stdout",
     "output_type": "stream",
     "text": [
      "{'Train':  best_epoch_indx:22\n",
      " auc:0.7776058194161887 \n",
      " apur:0.7019817450399601 \n",
      " f1:0.6437949359174743 \n",
      " precision:0.6307037422674098 \n",
      " recall:0.6574411032369278 \n",
      ", 'Validation':  best_epoch_indx:22\n",
      " auc:0.7776058190872955 \n",
      " apur:0.7019817446098926 \n",
      " f1:0.6437949359174743 \n",
      " precision:0.6307037422674098 \n",
      " recall:0.6574411032369278 \n",
      ", 'Test':  best_epoch_indx:22\n",
      " auc:0.7776058194161887 \n",
      " apur:0.7019817450399601 \n",
      " f1:0.6437949359174743 \n",
      " precision:0.6307037422674098 \n",
      " recall:0.6574411032369278 \n",
      "}\n",
      "=====Epoch 23\n",
      "Training...\n"
     ]
    },
    {
     "name": "stderr",
     "output_type": "stream",
     "text": [
      "Iteration: 100%|██████████| 267/267 [00:02<00:00, 123.26it/s]\n",
      "Iteration: 100%|██████████| 267/267 [00:02<00:00, 114.16it/s]\n",
      "Iteration: 100%|██████████| 267/267 [00:03<00:00, 86.09it/s] \n",
      "Iteration: 100%|██████████| 267/267 [00:02<00:00, 93.33it/s] \n",
      "Iteration:   0%|          | 0/267 [00:00<?, ?it/s]0.13it/s]s]"
     ]
    },
    {
     "name": "stdout",
     "output_type": "stream",
     "text": [
      "{'Train':  best_epoch_indx:23\n",
      " auc:0.770003144810095 \n",
      " apur:0.6965138710025749 \n",
      " f1:0.6351617873651771 \n",
      " precision:0.6138976589027223 \n",
      " recall:0.6579518610738684 \n",
      ", 'Validation':  best_epoch_indx:23\n",
      " auc:0.770003144810095 \n",
      " apur:0.6965138710025749 \n",
      " f1:0.6351617873651771 \n",
      " precision:0.6138976589027223 \n",
      " recall:0.6579518610738684 \n",
      ", 'Test':  best_epoch_indx:23\n",
      " auc:0.770003144810095 \n",
      " apur:0.6965138710025749 \n",
      " f1:0.6351617873651771 \n",
      " precision:0.6138976589027223 \n",
      " recall:0.6579518610738684 \n",
      "}\n",
      "=====Epoch 24\n",
      "Training...\n"
     ]
    },
    {
     "name": "stderr",
     "output_type": "stream",
     "text": [
      "Iteration: 100%|██████████| 267/267 [00:02<00:00, 115.22it/s]\n",
      "Iteration: 100%|██████████| 267/267 [00:02<00:00, 94.27it/s] \n",
      "Iteration:  86%|████████▌ | 229/267 [00:05<00:00, 45.42it/s]"
     ]
    },
    {
     "name": "stdout",
     "output_type": "stream",
     "text": [
      "{'Train':  best_epoch_indx:23\n",
      " auc:0.7722304985883532 \n",
      " apur:0.6973430662550296 \n",
      " f1:0.6475466674063185 \n",
      " precision:0.5725005517545796 \n",
      " recall:0.7452357391387621 \n",
      ", 'Validation':  best_epoch_indx:23\n",
      " auc:0.7722304985883532 \n",
      " apur:0.6973430662550296 \n",
      " f1:0.6475466674063185 \n",
      " precision:0.5725005517545796 \n",
      " recall:0.7452357391387621 \n",
      ", 'Test':  best_epoch_indx:23\n",
      " auc:0.7722304985883532 \n",
      " apur:0.6973430662550295 \n",
      " f1:0.6475466674063185 \n",
      " precision:0.5725005517545796 \n",
      " recall:0.7452357391387621 \n",
      "}\n",
      "=====Epoch 24\n",
      "Training...\n"
     ]
    },
    {
     "name": "stderr",
     "output_type": "stream",
     "text": [
      "Iteration: 100%|██████████| 267/267 [00:03<00:00, 86.12it/s]\n",
      "Iteration:  12%|█▏        | 31/267 [00:00<00:05, 40.14it/s]]"
     ]
    },
    {
     "name": "stdout",
     "output_type": "stream",
     "text": [
      "{'Train':  best_epoch_indx:22\n",
      " auc:0.774361036999435 \n",
      " apur:0.7014023381720818 \n",
      " f1:0.6389648259522509 \n",
      " precision:0.609421171562663 \n",
      " recall:0.671518866117602 \n",
      ", 'Validation':  best_epoch_indx:22\n",
      " auc:0.7743610373283282 \n",
      " apur:0.7014023383018217 \n",
      " f1:0.6389648259522509 \n",
      " precision:0.609421171562663 \n",
      " recall:0.671518866117602 \n",
      ", 'Test':  best_epoch_indx:22\n",
      " auc:0.774361036999435 \n",
      " apur:0.7014023381720818 \n",
      " f1:0.6389648259522509 \n",
      " precision:0.609421171562663 \n",
      " recall:0.671518866117602 \n",
      "}\n",
      "=====Epoch 23\n",
      "Training...\n",
      "Evaluating...\n"
     ]
    },
    {
     "name": "stderr",
     "output_type": "stream",
     "text": [
      "Iteration: 100%|██████████| 267/267 [00:06<00:00, 42.99it/s]\n",
      "Iteration: 100%|██████████| 267/267 [00:02<00:00, 120.56it/s]\n",
      "Iteration: 100%|██████████| 267/267 [00:06<00:00, 39.91it/s]]\n",
      "Iteration:   4%|▍         | 12/267 [00:00<00:02, 119.35it/s]]"
     ]
    },
    {
     "name": "stdout",
     "output_type": "stream",
     "text": [
      "Evaluating...\n"
     ]
    },
    {
     "name": "stderr",
     "output_type": "stream",
     "text": [
      "Iteration: 100%|██████████| 267/267 [00:03<00:00, 86.24it/s] \n",
      "Iteration: 100%|██████████| 267/267 [00:05<00:00, 44.67it/s]]\n",
      "Iteration:  73%|███████▎  | 194/267 [00:05<00:01, 37.58it/s]"
     ]
    },
    {
     "name": "stdout",
     "output_type": "stream",
     "text": [
      "Evaluating...\n",
      "{'Train':  best_epoch_indx:23\n",
      " auc:0.7745633289336922 \n",
      " apur:0.6982991681090192 \n",
      " f1:0.6508139484762713 \n",
      " precision:0.5917487523841873 \n",
      " recall:0.7229777181893635 \n",
      ", 'Validation':  best_epoch_indx:23\n",
      " auc:0.7745633292625921 \n",
      " apur:0.6982991683169062 \n",
      " f1:0.6508139484762713 \n",
      " precision:0.5917487523841873 \n",
      " recall:0.7229777181893635 \n",
      ", 'Test':  best_epoch_indx:23\n",
      " auc:0.7745633289336922 \n",
      " apur:0.6982991681090192 \n",
      " f1:0.6508139484762713 \n",
      " precision:0.5917487523841873 \n",
      " recall:0.7229777181893635 \n",
      "}\n",
      "=====Epoch 24\n",
      "Training...\n"
     ]
    },
    {
     "name": "stderr",
     "output_type": "stream",
     "text": [
      "Iteration: 100%|██████████| 267/267 [00:02<00:00, 122.89it/s]\n",
      "Iteration: 100%|██████████| 267/267 [00:03<00:00, 82.47it/s] \n",
      "Iteration: 100%|██████████| 267/267 [00:07<00:00, 37.50it/s]]\n",
      "Iteration:  15%|█▍        | 39/267 [00:00<00:01, 126.70it/s]"
     ]
    },
    {
     "name": "stdout",
     "output_type": "stream",
     "text": [
      "Evaluating...\n"
     ]
    },
    {
     "name": "stderr",
     "output_type": "stream",
     "text": [
      "Iteration: 100%|██████████| 267/267 [00:02<00:00, 119.14it/s]\n",
      "Iteration: 100%|██████████| 267/267 [00:02<00:00, 121.28it/s]\n",
      "Iteration: 100%|██████████| 267/267 [00:02<00:00, 116.74it/s]\n",
      "Iteration: 100%|██████████| 267/267 [00:02<00:00, 96.85it/s] \n",
      "Iteration: 100%|██████████| 267/267 [00:02<00:00, 93.81it/s] \n",
      "Iteration:   0%|          | 0/267 [00:00<?, ?it/s]40.81it/s]]"
     ]
    },
    {
     "name": "stdout",
     "output_type": "stream",
     "text": [
      "{'Train':  best_epoch_indx:23\n",
      " auc:0.7698481243338023 \n",
      " apur:0.6932416156316916 \n",
      " f1:0.6429617479936736 \n",
      " precision:0.5939715352562368 \n",
      " recall:0.7007597522824491 \n",
      ", 'Validation':  best_epoch_indx:23\n",
      " auc:0.7698481243338023 \n",
      " apur:0.6932416156316916 \n",
      " f1:0.6429617479936736 \n",
      " precision:0.5939715352562368 \n",
      " recall:0.7007597522824491 \n",
      ", 'Test':  best_epoch_indx:23\n",
      " auc:0.7698481243338022 \n",
      " apur:0.6932416156316915 \n",
      " f1:0.6429617479936736 \n",
      " precision:0.5939715352562368 \n",
      " recall:0.7007597522824491 \n",
      "}\n",
      "=====Epoch 24\n",
      "Training...\n"
     ]
    },
    {
     "name": "stderr",
     "output_type": "stream",
     "text": [
      "Iteration: 100%|██████████| 267/267 [00:02<00:00, 125.83it/s]\n",
      "Iteration: 100%|██████████| 267/267 [00:07<00:00, 38.06it/s]\n",
      "Iteration:  57%|█████▋    | 151/267 [00:02<00:01, 67.16it/s]"
     ]
    },
    {
     "name": "stdout",
     "output_type": "stream",
     "text": [
      "Evaluating...\n"
     ]
    },
    {
     "name": "stderr",
     "output_type": "stream",
     "text": [
      "Iteration:  76%|███████▌  | 202/267 [00:03<00:01, 62.39it/s]]"
     ]
    },
    {
     "name": "stdout",
     "output_type": "stream",
     "text": [
      "{'Train':  best_epoch_indx:24\n",
      " auc:0.772781750192557 \n",
      " apur:0.6976468273271922 \n",
      " f1:0.6445697329376854 \n",
      " precision:0.6021511337805622 \n",
      " recall:0.6934176083764285 \n",
      ", 'Validation':  best_epoch_indx:24\n",
      " auc:0.7727817498636639 \n",
      " apur:0.6976468252285598 \n",
      " f1:0.6445697329376854 \n",
      " precision:0.6021511337805622 \n",
      " recall:0.6934176083764285 \n",
      ", 'Test':  best_epoch_indx:24\n",
      " auc:0.772781750192557 \n",
      " apur:0.6976468273271922 \n",
      " f1:0.6445697329376854 \n",
      " precision:0.6021511337805622 \n",
      " recall:0.6934176083764285 \n",
      "}\n",
      "=====Epoch 25\n",
      "Training...\n"
     ]
    },
    {
     "name": "stderr",
     "output_type": "stream",
     "text": [
      "Iteration: 100%|██████████| 267/267 [00:03<00:00, 67.39it/s]]\n",
      "Iteration: 100%|██████████| 267/267 [00:02<00:00, 121.51it/s]\n",
      "Iteration: 100%|██████████| 267/267 [00:02<00:00, 112.62it/s]\n",
      "Iteration:   1%|▏         | 4/267 [00:00<00:07, 36.97it/s]]]"
     ]
    },
    {
     "name": "stdout",
     "output_type": "stream",
     "text": [
      "{'Train':  best_epoch_indx:24\n",
      " auc:0.772009446113554 \n",
      " apur:0.6952455711019913 \n",
      " f1:0.6466316417562906 \n",
      " precision:0.5942331353982774 \n",
      " recall:0.7091646183803109 \n",
      ", 'Validation':  best_epoch_indx:24\n",
      " auc:0.772009446113554 \n",
      " apur:0.6952455711021707 \n",
      " f1:0.6466316417562906 \n",
      " precision:0.5942331353982774 \n",
      " recall:0.7091646183803109 \n",
      ", 'Test':  best_epoch_indx:24\n",
      " auc:0.772009446113554 \n",
      " apur:0.6952455711019913 \n",
      " f1:0.6466316417562906 \n",
      " precision:0.5942331353982774 \n",
      " recall:0.7091646183803109 \n",
      "}\n",
      "=====Epoch 25\n",
      "Training...\n"
     ]
    },
    {
     "name": "stderr",
     "output_type": "stream",
     "text": [
      "Iteration: 100%|██████████| 267/267 [00:05<00:00, 44.55it/s]]\n",
      "Iteration:   0%|          | 0/267 [00:00<?, ?it/s]"
     ]
    },
    {
     "name": "stdout",
     "output_type": "stream",
     "text": [
      "Evaluating...\n"
     ]
    },
    {
     "name": "stderr",
     "output_type": "stream",
     "text": [
      "Iteration: 100%|██████████| 267/267 [00:02<00:00, 113.22it/s]\n",
      "Iteration: 100%|██████████| 267/267 [00:06<00:00, 41.99it/s] \n",
      "Iteration:  96%|█████████▌| 255/267 [00:03<00:00, 119.86it/s]"
     ]
    },
    {
     "name": "stdout",
     "output_type": "stream",
     "text": [
      "Evaluating...\n"
     ]
    },
    {
     "name": "stderr",
     "output_type": "stream",
     "text": [
      "Iteration: 100%|██████████| 267/267 [00:03<00:00, 82.27it/s] \n",
      "Iteration: 100%|██████████| 267/267 [00:02<00:00, 118.29it/s]\n",
      "Iteration:   2%|▏         | 6/267 [00:00<00:04, 57.86it/s]/s]"
     ]
    },
    {
     "name": "stdout",
     "output_type": "stream",
     "text": [
      "{'Train':  best_epoch_indx:23\n",
      " auc:0.7748728867614855 \n",
      " apur:0.7004986779348404 \n",
      " f1:0.6516373796447208 \n",
      " precision:0.5706575191306642 \n",
      " recall:0.7594011364361872 \n",
      ", 'Validation':  best_epoch_indx:23\n",
      " auc:0.7748728867614855 \n",
      " apur:0.7004986779348403 \n",
      " f1:0.6516373796447208 \n",
      " precision:0.5706575191306642 \n",
      " recall:0.7594011364361872 \n",
      ", 'Test':  best_epoch_indx:23\n",
      " auc:0.7748728867614855 \n",
      " apur:0.7004986779348404 \n",
      " f1:0.6516373796447208 \n",
      " precision:0.5706575191306642 \n",
      " recall:0.7594011364361872 \n",
      "}\n",
      "=====Epoch 24\n",
      "Training...\n"
     ]
    },
    {
     "name": "stderr",
     "output_type": "stream",
     "text": [
      "Iteration: 100%|██████████| 267/267 [00:02<00:00, 121.51it/s]\n",
      "Iteration: 100%|██████████| 267/267 [00:02<00:00, 97.90it/s] \n",
      "Iteration:  65%|██████▍   | 173/267 [00:02<00:00, 106.77it/s]"
     ]
    },
    {
     "name": "stdout",
     "output_type": "stream",
     "text": [
      "{'Train':  best_epoch_indx:24\n",
      " auc:0.7709239001094905 \n",
      " apur:0.6947101168488186 \n",
      " f1:0.6399666373750764 \n",
      " precision:0.5998603936897948 \n",
      " recall:0.6858200855519377 \n",
      ", 'Validation':  best_epoch_indx:24\n",
      " auc:0.7709239001094905 \n",
      " apur:0.6947101168488186 \n",
      " f1:0.6399666373750764 \n",
      " precision:0.5998603936897948 \n",
      " recall:0.6858200855519377 \n",
      ", 'Test':  best_epoch_indx:24\n",
      " auc:0.7709239001094905 \n",
      " apur:0.6947101168488186 \n",
      " f1:0.6399666373750764 \n",
      " precision:0.5998603936897948 \n",
      " recall:0.6858200855519377 \n",
      "}\n",
      "=====Epoch 25\n",
      "Training...\n"
     ]
    },
    {
     "name": "stderr",
     "output_type": "stream",
     "text": [
      "Iteration: 100%|██████████| 267/267 [00:07<00:00, 36.22it/s] \n",
      "Iteration:  45%|████▌     | 121/267 [00:02<00:03, 42.04it/s]]"
     ]
    },
    {
     "name": "stdout",
     "output_type": "stream",
     "text": [
      "Evaluating...\n"
     ]
    },
    {
     "name": "stderr",
     "output_type": "stream",
     "text": [
      "Iteration: 100%|██████████| 267/267 [00:03<00:00, 86.27it/s] \n",
      "Iteration: 100%|██████████| 267/267 [00:02<00:00, 110.83it/s]\n",
      "Iteration: 100%|██████████| 267/267 [00:06<00:00, 42.96it/s]]\n",
      "Iteration:  90%|████████▉ | 239/267 [00:03<00:00, 61.69it/s]]"
     ]
    },
    {
     "name": "stdout",
     "output_type": "stream",
     "text": [
      "Evaluating...\n"
     ]
    },
    {
     "name": "stderr",
     "output_type": "stream",
     "text": [
      "Iteration: 100%|██████████| 267/267 [00:04<00:00, 64.52it/s]]\n",
      "Iteration: 100%|██████████| 267/267 [00:02<00:00, 110.59it/s]\n",
      "Iteration:  98%|█████████▊| 262/267 [00:05<00:00, 45.73it/s]]"
     ]
    },
    {
     "name": "stdout",
     "output_type": "stream",
     "text": [
      "{'Train':  best_epoch_indx:24\n",
      " auc:0.7720074664260326 \n",
      " apur:0.6959453205278294 \n",
      " f1:0.6468853935195271 \n",
      " precision:0.5934393903056466 \n",
      " recall:0.7109110642916427 \n",
      ", 'Validation':  best_epoch_indx:24\n",
      " auc:0.7720074664260328 \n",
      " apur:0.695945320527759 \n",
      " f1:0.6468853935195271 \n",
      " precision:0.5934393903056466 \n",
      " recall:0.7109110642916427 \n",
      ", 'Test':  best_epoch_indx:24\n",
      " auc:0.7720074664260328 \n",
      " apur:0.695945320527759 \n",
      " f1:0.6468853935195271 \n",
      " precision:0.5934393903056466 \n",
      " recall:0.7109110642916427 \n",
      "}\n",
      "=====Epoch 25\n",
      "Training...\n"
     ]
    },
    {
     "name": "stderr",
     "output_type": "stream",
     "text": [
      "\r",
      "Iteration:  53%|█████▎    | 141/267 [00:02<00:01, 75.34it/s]\r",
      "Iteration:   4%|▎         | 10/267 [00:00<00:06, 38.48it/s]\r",
      "Iteration: 100%|██████████| 267/267 [00:05<00:00, 45.78it/s]\r",
      "Iteration: 100%|██████████| 267/267 [00:05<00:00, 45.28it/s]\n",
      "\r",
      "Iteration:   0%|          | 0/267 [00:00<?, ?it/s]\r",
      "Iteration:  87%|████████▋ | 233/267 [00:01<00:00, 102.27it/s]\r",
      "Iteration:  57%|█████▋    | 153/267 [00:02<00:01, 86.38it/s]\r",
      "Iteration:   4%|▍         | 12/267 [00:00<00:02, 119.59it/s]\r",
      "Iteration:  92%|█████████▏| 246/267 [00:02<00:00, 107.80it/s]\r",
      "Iteration:   5%|▌         | 14/267 [00:00<00:06, 36.23it/s]\r",
      "Iteration:   0%|          | 0/267 [00:00<?, ?it/s]"
     ]
    },
    {
     "name": "stdout",
     "output_type": "stream",
     "text": [
      "Evaluating...\n"
     ]
    },
    {
     "name": "stderr",
     "output_type": "stream",
     "text": [
      "Iteration: 100%|██████████| 267/267 [00:02<00:00, 120.52it/s]\n",
      "Iteration: 100%|██████████| 267/267 [00:03<00:00, 78.85it/s]]\n",
      "Iteration:  33%|███▎      | 87/267 [00:02<00:04, 36.74it/s]s]"
     ]
    },
    {
     "name": "stdout",
     "output_type": "stream",
     "text": [
      "{'Train':  best_epoch_indx:25\n",
      " auc:0.7789759058699512 \n",
      " apur:0.7035212256687289 \n",
      " f1:0.6411612782773749 \n",
      " precision:0.6253793856986767 \n",
      " recall:0.6577603268850156 \n",
      ", 'Validation':  best_epoch_indx:25\n",
      " auc:0.7789759058699512 \n",
      " apur:0.7035212256687144 \n",
      " f1:0.6411612782773749 \n",
      " precision:0.6253793856986767 \n",
      " recall:0.6577603268850156 \n",
      ", 'Test':  best_epoch_indx:25\n",
      " auc:0.7789759058699512 \n",
      " apur:0.7035212256687289 \n",
      " f1:0.6411612782773749 \n",
      " precision:0.6253793856986767 \n",
      " recall:0.6577603268850156 \n",
      "}\n",
      "=====Epoch 26\n",
      "Training...\n"
     ]
    },
    {
     "name": "stderr",
     "output_type": "stream",
     "text": [
      "Iteration: 100%|██████████| 267/267 [00:02<00:00, 120.80it/s]\n",
      "Iteration: 100%|██████████| 267/267 [00:02<00:00, 104.57it/s]\n",
      "Iteration: 100%|██████████| 267/267 [00:02<00:00, 103.28it/s]\n",
      "Iteration: 100%|██████████| 267/267 [00:02<00:00, 121.46it/s]\n",
      "Iteration: 100%|██████████| 267/267 [00:07<00:00, 36.65it/s] \n",
      "Iteration:   0%|          | 0/267 [00:00<?, ?it/s]"
     ]
    },
    {
     "name": "stdout",
     "output_type": "stream",
     "text": [
      "Evaluating...\n"
     ]
    },
    {
     "name": "stderr",
     "output_type": "stream",
     "text": [
      "Iteration: 100%|██████████| 267/267 [00:02<00:00, 104.32it/s]\n",
      "Iteration: 100%|██████████| 267/267 [00:02<00:00, 114.18it/s]\n",
      "Iteration:  22%|██▏       | 58/267 [00:00<00:03, 68.88it/s]]"
     ]
    },
    {
     "name": "stdout",
     "output_type": "stream",
     "text": [
      "{'Train':  best_epoch_indx:25\n",
      " auc:0.7835215941004265 \n",
      " apur:0.7090758231790346 \n",
      " f1:0.6585412358281633 \n",
      " precision:0.6091604710479188 \n",
      " recall:0.7166342132984327 \n",
      ", 'Validation':  best_epoch_indx:25\n",
      " auc:0.7835215941004265 \n",
      " apur:0.7090758231790346 \n",
      " f1:0.6585412358281633 \n",
      " precision:0.6091604710479188 \n",
      " recall:0.7166342132984327 \n",
      ", 'Test':  best_epoch_indx:25\n",
      " auc:0.7835215941004265 \n",
      " apur:0.7090758231790346 \n",
      " f1:0.6585412358281633 \n",
      " precision:0.6091604710479188 \n",
      " recall:0.7166342132984327 \n",
      "}\n",
      "=====Epoch 26\n",
      "Training...\n",
      "Evaluating...\n"
     ]
    },
    {
     "name": "stderr",
     "output_type": "stream",
     "text": [
      "Iteration: 100%|██████████| 267/267 [00:06<00:00, 43.75it/s]\n",
      "Iteration:   8%|▊         | 22/267 [00:00<00:06, 35.10it/s]s]"
     ]
    },
    {
     "name": "stdout",
     "output_type": "stream",
     "text": [
      "{'Train':  best_epoch_indx:24\n",
      " auc:0.7753887352059112 \n",
      " apur:0.7023019683376532 \n",
      " f1:0.6502822169330159 \n",
      " precision:0.5665063153155288 \n",
      " recall:0.763136053118815 \n",
      ", 'Validation':  best_epoch_indx:24\n",
      " auc:0.7753887352059112 \n",
      " apur:0.7023019683376532 \n",
      " f1:0.6502822169330159 \n",
      " precision:0.5665063153155288 \n",
      " recall:0.763136053118815 \n",
      ", 'Test':  best_epoch_indx:24\n",
      " auc:0.7753887352059112 \n",
      " apur:0.7023019683376532 \n",
      " f1:0.6502822169330159 \n",
      " precision:0.5665063153155288 \n",
      " recall:0.763136053118815 \n",
      "}\n",
      "=====Epoch 25\n",
      "Training...\n"
     ]
    },
    {
     "name": "stderr",
     "output_type": "stream",
     "text": [
      "Iteration: 100%|██████████| 267/267 [00:02<00:00, 94.89it/s] \n",
      "Iteration: 100%|██████████| 267/267 [00:02<00:00, 95.03it/s] \n",
      "Iteration: 100%|██████████| 267/267 [00:02<00:00, 121.16it/s]\n",
      "Iteration:  27%|██▋       | 72/267 [00:02<00:05, 34.59it/s]"
     ]
    },
    {
     "name": "stdout",
     "output_type": "stream",
     "text": [
      "{'Train':  best_epoch_indx:25\n",
      " auc:0.7761815403659477 \n",
      " apur:0.7034024187083918 \n",
      " f1:0.644009387718725 \n",
      " precision:0.6022335815090566 \n",
      " recall:0.692013024324842 \n",
      ", 'Validation':  best_epoch_indx:25\n",
      " auc:0.7761815403659477 \n",
      " apur:0.7034024187083918 \n",
      " f1:0.644009387718725 \n",
      " precision:0.6022335815090566 \n",
      " recall:0.692013024324842 \n",
      ", 'Test':  best_epoch_indx:25\n",
      " auc:0.776181539708148 \n",
      " apur:0.7034024183514016 \n",
      " f1:0.644009387718725 \n",
      " precision:0.6022335815090566 \n",
      " recall:0.692013024324842 \n",
      "}\n",
      "=====Epoch 26\n",
      "Training...\n"
     ]
    },
    {
     "name": "stderr",
     "output_type": "stream",
     "text": [
      "Iteration: 100%|██████████| 267/267 [00:02<00:00, 122.45it/s]\n",
      "Iteration: 100%|██████████| 267/267 [00:02<00:00, 98.52it/s] \n",
      "Iteration: 100%|██████████| 267/267 [00:07<00:00, 37.30it/s]\n",
      "Iteration:   3%|▎         | 7/267 [00:00<00:03, 69.61it/s]s]"
     ]
    },
    {
     "name": "stdout",
     "output_type": "stream",
     "text": [
      "Evaluating...\n"
     ]
    },
    {
     "name": "stderr",
     "output_type": "stream",
     "text": [
      "Iteration: 100%|██████████| 267/267 [00:07<00:00, 36.93it/s]]\n",
      "Iteration:  14%|█▍        | 37/267 [00:00<00:03, 68.20it/s]]]"
     ]
    },
    {
     "name": "stdout",
     "output_type": "stream",
     "text": [
      "Evaluating...\n"
     ]
    },
    {
     "name": "stderr",
     "output_type": "stream",
     "text": [
      "Iteration: 100%|██████████| 267/267 [00:06<00:00, 42.98it/s]]\n",
      "Iteration:  91%|█████████▏| 244/267 [00:02<00:00, 120.29it/s]"
     ]
    },
    {
     "name": "stdout",
     "output_type": "stream",
     "text": [
      "Evaluating...\n"
     ]
    },
    {
     "name": "stderr",
     "output_type": "stream",
     "text": [
      "Iteration: 100%|██████████| 267/267 [00:02<00:00, 123.80it/s]\n",
      "Iteration: 100%|██████████| 267/267 [00:02<00:00, 111.61it/s]\n",
      "Iteration:   2%|▏         | 6/267 [00:00<00:05, 50.03it/s]/s]"
     ]
    },
    {
     "name": "stdout",
     "output_type": "stream",
     "text": [
      "{'Train':  best_epoch_indx:26\n",
      " auc:0.7924941396839803 \n",
      " apur:0.7210146596029354 \n",
      " f1:0.649775982835868 \n",
      " precision:0.642318008857838 \n",
      " recall:0.657409180872119 \n",
      ", 'Validation':  best_epoch_indx:26\n",
      " auc:0.7924941396839803 \n",
      " apur:0.7210146596029354 \n",
      " f1:0.649775982835868 \n",
      " precision:0.642318008857838 \n",
      " recall:0.657409180872119 \n",
      ", 'Test':  best_epoch_indx:26\n",
      " auc:0.7924941396839803 \n",
      " apur:0.7210146596029354 \n",
      " f1:0.649775982835868 \n",
      " precision:0.642318008857838 \n",
      " recall:0.657409180872119 \n",
      "}\n",
      "=====Epoch 27\n",
      "Training...\n"
     ]
    },
    {
     "name": "stderr",
     "output_type": "stream",
     "text": [
      "\r",
      "Iteration:  30%|███       | 81/267 [00:01<00:02, 76.12it/s]\r",
      "Iteration:  97%|█████████▋| 259/267 [00:02<00:00, 125.03it/s]\r",
      "Iteration:   0%|          | 0/267 [00:00<?, ?it/s]\r",
      "Iteration:  68%|██████▊   | 182/267 [00:02<00:01, 52.82it/s]\r",
      "Iteration: 100%|██████████| 267/267 [00:02<00:00, 120.32it/s]\n",
      "\r",
      "Iteration:   4%|▍         | 12/267 [00:00<00:05, 47.33it/s]\r",
      "Iteration:  33%|███▎      | 89/267 [00:01<00:02, 72.56it/s]\r",
      "Iteration:   1%|▏         | 4/267 [00:00<00:07, 35.55it/s]\r",
      "Iteration:  73%|███████▎  | 195/267 [00:02<00:01, 69.53it/s]\r",
      "Iteration:   6%|▋         | 17/267 [00:00<00:05, 46.60it/s]"
     ]
    },
    {
     "name": "stdout",
     "output_type": "stream",
     "text": [
      "{'Train':  best_epoch_indx:25\n",
      " auc:0.7783170879215072 \n",
      " apur:0.7054245069642507 \n",
      " f1:0.6479409098339947 \n",
      " precision:0.606184477628542 \n",
      " recall:0.695875630466705 \n",
      ", 'Validation':  best_epoch_indx:25\n",
      " auc:0.7783170875926142 \n",
      " apur:0.7054245064937498 \n",
      " f1:0.6479409098339947 \n",
      " precision:0.606184477628542 \n",
      " recall:0.695875630466705 \n",
      ", 'Test':  best_epoch_indx:25\n",
      " auc:0.7783170879215073 \n",
      " apur:0.7054245069641876 \n",
      " f1:0.6479409098339947 \n",
      " precision:0.606184477628542 \n",
      " recall:0.695875630466705 \n",
      "}\n",
      "=====Epoch 26\n",
      "Training...\n"
     ]
    },
    {
     "name": "stderr",
     "output_type": "stream",
     "text": [
      "Iteration: 100%|██████████| 267/267 [00:03<00:00, 78.71it/s] \n",
      "Iteration: 100%|██████████| 267/267 [00:04<00:00, 66.02it/s]]\n",
      "Iteration: 100%|██████████| 267/267 [00:02<00:00, 125.96it/s]\n",
      "Iteration: 100%|██████████| 267/267 [00:02<00:00, 107.77it/s]\n",
      "Iteration: 100%|██████████| 267/267 [00:05<00:00, 45.19it/s]]\n",
      "Iteration:  83%|████████▎ | 222/267 [00:05<00:01, 44.89it/s]]"
     ]
    },
    {
     "name": "stdout",
     "output_type": "stream",
     "text": [
      "Evaluating...\n"
     ]
    },
    {
     "name": "stderr",
     "output_type": "stream",
     "text": [
      "Iteration: 100%|██████████| 267/267 [00:02<00:00, 118.92it/s]\n",
      "Iteration: 100%|██████████| 267/267 [00:07<00:00, 37.15it/s]]\n",
      "Iteration:   0%|          | 0/267 [00:00<?, ?it/s]"
     ]
    },
    {
     "name": "stdout",
     "output_type": "stream",
     "text": [
      "Evaluating...\n"
     ]
    },
    {
     "name": "stderr",
     "output_type": "stream",
     "text": [
      "Iteration: 100%|██████████| 267/267 [00:03<00:00, 86.56it/s] \n",
      "Iteration: 100%|██████████| 267/267 [00:02<00:00, 120.03it/s]\n",
      "Iteration: 100%|██████████| 267/267 [00:03<00:00, 86.84it/s] \n"
     ]
    },
    {
     "name": "stdout",
     "output_type": "stream",
     "text": [
      "{'Train':  best_epoch_indx:25\n",
      " auc:0.7804214325086549 \n",
      " apur:0.7034058550231657 \n",
      " f1:0.6478692055704307 \n",
      " precision:0.6095645565344667 \n",
      " recall:0.6913107322990487 \n",
      ", 'Validation':  best_epoch_indx:25\n",
      " auc:0.7804214325086549 \n",
      " apur:0.7034058550231657 \n",
      " f1:0.6478692055704307 \n",
      " precision:0.6095645565344667 \n",
      " recall:0.6913107322990487 \n",
      ", 'Test':  best_epoch_indx:25\n",
      " auc:0.7804214325086549 \n",
      " apur:0.7034058550231657 \n",
      " f1:0.6478692055704307 \n",
      " precision:0.6095645565344667 \n",
      " recall:0.6913107322990487 \n",
      "}\n",
      "=====Epoch 26\n",
      "Training...\n"
     ]
    },
    {
     "name": "stderr",
     "output_type": "stream",
     "text": [
      "Iteration:  17%|█▋        | 46/267 [00:00<00:02, 100.63it/s] "
     ]
    },
    {
     "name": "stdout",
     "output_type": "stream",
     "text": [
      "{'Train':  best_epoch_indx:26\n",
      " auc:0.7915993423246355 \n",
      " apur:0.719063647546935 \n",
      " f1:0.6645321124842444 \n",
      " precision:0.6083934634974533 \n",
      " recall:0.7320841446675392 \n",
      ", 'Validation':  best_epoch_indx:26\n",
      " auc:0.7915993423246355 \n",
      " apur:0.7190636482763659 \n",
      " f1:0.6645321124842444 \n",
      " precision:0.6083934634974533 \n",
      " recall:0.7320841446675392 \n",
      ", 'Test':  best_epoch_indx:26\n",
      " auc:0.7915993419957461 \n",
      " apur:0.7190636474429808 \n",
      " f1:0.6645321124842444 \n",
      " precision:0.6083934634974533 \n",
      " recall:0.7320841446675392 \n",
      "}\n",
      "=====Epoch 27\n",
      "Training...\n"
     ]
    },
    {
     "name": "stderr",
     "output_type": "stream",
     "text": [
      "Iteration: 100%|██████████| 267/267 [00:02<00:00, 98.05it/s] \n",
      "Iteration: 100%|██████████| 267/267 [00:02<00:00, 113.16it/s]\n",
      "Iteration: 100%|██████████| 267/267 [00:03<00:00, 74.00it/s]\n",
      "Iteration:   0%|          | 0/267 [00:00<?, ?it/s]4.30it/s]s]"
     ]
    },
    {
     "name": "stdout",
     "output_type": "stream",
     "text": [
      "{'Train':  best_epoch_indx:26\n",
      " auc:0.791272313898438 \n",
      " apur:0.7186936976386398 \n",
      " f1:0.6618741669287564 \n",
      " precision:0.6234165608689519 \n",
      " recall:0.7053884951797229 \n",
      ", 'Validation':  best_epoch_indx:26\n",
      " auc:0.791272313898438 \n",
      " apur:0.7186936976386398 \n",
      " f1:0.6618741669287564 \n",
      " precision:0.6234165608689519 \n",
      " recall:0.7053884951797229 \n",
      ", 'Test':  best_epoch_indx:26\n",
      " auc:0.791272313898438 \n",
      " apur:0.7186936976386398 \n",
      " f1:0.6618741669287564 \n",
      " precision:0.6234165608689519 \n",
      " recall:0.7053884951797229 \n",
      "}\n",
      "=====Epoch 27\n",
      "Training...\n"
     ]
    },
    {
     "name": "stderr",
     "output_type": "stream",
     "text": [
      "Iteration: 100%|██████████| 267/267 [00:02<00:00, 119.44it/s]\n",
      "Iteration: 100%|██████████| 267/267 [00:06<00:00, 44.05it/s]\n",
      "Iteration:  79%|███████▊  | 210/267 [00:05<00:01, 45.68it/s]"
     ]
    },
    {
     "name": "stdout",
     "output_type": "stream",
     "text": [
      "Evaluating...\n"
     ]
    },
    {
     "name": "stderr",
     "output_type": "stream",
     "text": [
      "Iteration: 100%|██████████| 267/267 [00:03<00:00, 81.64it/s] \n",
      "Iteration: 100%|██████████| 267/267 [00:06<00:00, 40.57it/s]\n",
      "Iteration:  56%|█████▌    | 150/267 [00:01<00:01, 83.31it/s]"
     ]
    },
    {
     "name": "stdout",
     "output_type": "stream",
     "text": [
      "Evaluating...\n"
     ]
    },
    {
     "name": "stderr",
     "output_type": "stream",
     "text": [
      "Iteration:  48%|████▊     | 128/267 [00:01<00:02, 60.93it/s]]"
     ]
    },
    {
     "name": "stdout",
     "output_type": "stream",
     "text": [
      "{'Train':  best_epoch_indx:27\n",
      " auc:0.8023757780936643 \n",
      " apur:0.7310515009492757 \n",
      " f1:0.6714731964409966 \n",
      " precision:0.6261008807045636 \n",
      " recall:0.723935389133627 \n",
      ", 'Validation':  best_epoch_indx:27\n",
      " auc:0.8023757780936643 \n",
      " apur:0.7310515009492757 \n",
      " f1:0.6714731964409966 \n",
      " precision:0.6261008807045636 \n",
      " recall:0.723935389133627 \n",
      ", 'Test':  best_epoch_indx:27\n",
      " auc:0.8023757780936643 \n",
      " apur:0.7310515009492757 \n",
      " f1:0.6714731964409966 \n",
      " precision:0.6261008807045636 \n",
      " recall:0.723935389133627 \n",
      "}\n",
      "=====Epoch 28\n",
      "Training...\n"
     ]
    },
    {
     "name": "stderr",
     "output_type": "stream",
     "text": [
      "Iteration: 100%|██████████| 267/267 [00:02<00:00, 107.72it/s]\n",
      "Iteration: 100%|██████████| 267/267 [00:03<00:00, 75.43it/s] \n",
      "Iteration: 100%|██████████| 267/267 [00:02<00:00, 108.04it/s]\n",
      "Iteration: 100%|██████████| 267/267 [00:06<00:00, 43.34it/s]\n",
      "Iteration:  25%|██▍       | 66/267 [00:00<00:02, 87.13it/s]"
     ]
    },
    {
     "name": "stdout",
     "output_type": "stream",
     "text": [
      "Evaluating...\n"
     ]
    },
    {
     "name": "stderr",
     "output_type": "stream",
     "text": [
      "\r",
      "Iteration:   2%|▏         | 6/267 [00:00<00:04, 59.84it/s]\r",
      "Iteration:  30%|██▉       | 79/267 [00:00<00:01, 99.21it/s]\r",
      "Iteration:  35%|███▍      | 93/267 [00:02<00:04, 36.24it/s]\r",
      "Iteration:   5%|▍         | 13/267 [00:00<00:03, 64.75it/s]\r",
      "Iteration:   0%|          | 0/267 [00:00<?, ?it/s]\r",
      "Iteration:  34%|███▍      | 92/267 [00:01<00:01, 106.61it/s]\r",
      "Iteration:  37%|███▋      | 98/267 [00:02<00:04, 38.11it/s]"
     ]
    },
    {
     "name": "stdout",
     "output_type": "stream",
     "text": [
      "{'Train':  best_epoch_indx:26\n",
      " auc:0.7943807313817002 \n",
      " apur:0.7231962715745085 \n",
      " f1:0.6630863721330444 \n",
      " precision:0.6194013303769401 \n",
      " recall:0.713401008746728 \n",
      ", 'Validation':  best_epoch_indx:26\n",
      " auc:0.7943807313817002 \n",
      " apur:0.7231962715745085 \n",
      " f1:0.6630863721330444 \n",
      " precision:0.6194013303769401 \n",
      " recall:0.713401008746728 \n",
      ", 'Test':  best_epoch_indx:26\n",
      " auc:0.7943807317105932 \n",
      " apur:0.7231962719357812 \n",
      " f1:0.6630863721330444 \n",
      " precision:0.6194013303769401 \n",
      " recall:0.713401008746728 \n",
      "}\n",
      "=====Epoch 27\n",
      "Training...\n"
     ]
    },
    {
     "name": "stderr",
     "output_type": "stream",
     "text": [
      "Iteration: 100%|██████████| 267/267 [00:02<00:00, 102.91it/s]\n",
      "Iteration: 100%|██████████| 267/267 [00:02<00:00, 114.55it/s]\n",
      "Iteration: 100%|██████████| 267/267 [00:02<00:00, 120.97it/s]\n",
      "Iteration: 100%|██████████| 267/267 [00:06<00:00, 40.62it/s]]\n",
      "Iteration:  61%|██████    | 163/267 [00:04<00:02, 45.36it/s]"
     ]
    },
    {
     "name": "stdout",
     "output_type": "stream",
     "text": [
      "Evaluating...\n"
     ]
    },
    {
     "name": "stderr",
     "output_type": "stream",
     "text": [
      "Iteration: 100%|██████████| 267/267 [00:02<00:00, 110.21it/s]\n",
      "Iteration: 100%|██████████| 267/267 [00:02<00:00, 120.33it/s]\n",
      "Iteration: 100%|██████████| 267/267 [00:06<00:00, 41.91it/s]\n",
      "Iteration:  79%|███████▊  | 210/267 [00:02<00:00, 68.36it/s]"
     ]
    },
    {
     "name": "stdout",
     "output_type": "stream",
     "text": [
      "Evaluating...\n"
     ]
    },
    {
     "name": "stderr",
     "output_type": "stream",
     "text": [
      "Iteration: 100%|██████████| 267/267 [00:03<00:00, 76.13it/s] \n",
      "Iteration: 100%|██████████| 267/267 [00:03<00:00, 69.49it/s]]\n",
      "Iteration:   9%|▊         | 23/267 [00:00<00:03, 70.23it/s]s]"
     ]
    },
    {
     "name": "stdout",
     "output_type": "stream",
     "text": [
      "{'Train':  best_epoch_indx:26\n",
      " auc:0.797305107779652 \n",
      " apur:0.7273803310277728 \n",
      " f1:0.6686554759042403 \n",
      " precision:0.6248370364206264 \n",
      " recall:0.7190831896826917 \n",
      ", 'Validation':  best_epoch_indx:26\n",
      " auc:0.797305107779652 \n",
      " apur:0.7273803310277728 \n",
      " f1:0.6686554759042403 \n",
      " precision:0.6248370364206264 \n",
      " recall:0.7190831896826917 \n",
      ", 'Test':  best_epoch_indx:26\n",
      " auc:0.797305107779652 \n",
      " apur:0.7273803310277728 \n",
      " f1:0.6686554759042403 \n",
      " precision:0.6248370364206264 \n",
      " recall:0.7190831896826917 \n",
      "}\n",
      "=====Epoch 27\n",
      "Training...\n"
     ]
    },
    {
     "name": "stderr",
     "output_type": "stream",
     "text": [
      "Iteration:  87%|████████▋ | 233/267 [00:01<00:00, 123.10it/s]"
     ]
    },
    {
     "name": "stdout",
     "output_type": "stream",
     "text": [
      "{'Train':  best_epoch_indx:27\n",
      " auc:0.7990274919181797 \n",
      " apur:0.7278486643836908 \n",
      " f1:0.6712704029220409 \n",
      " precision:0.6068986868243853 \n",
      " recall:0.7509177386918633 \n",
      ", 'Validation':  best_epoch_indx:27\n",
      " auc:0.7990274919181797 \n",
      " apur:0.7278486643836908 \n",
      " f1:0.6712704029220409 \n",
      " precision:0.6068986868243853 \n",
      " recall:0.7509177386918633 \n",
      ", 'Test':  best_epoch_indx:27\n",
      " auc:0.7990274919181797 \n",
      " apur:0.7278486643836908 \n",
      " f1:0.6712704029220409 \n",
      " precision:0.6068986868243853 \n",
      " recall:0.7509177386918633 \n",
      "}\n",
      "=====Epoch 28\n",
      "Training...\n"
     ]
    },
    {
     "name": "stderr",
     "output_type": "stream",
     "text": [
      "Iteration: 100%|██████████| 267/267 [00:02<00:00, 119.46it/s]\n",
      "Iteration: 100%|██████████| 267/267 [00:02<00:00, 111.87it/s]\n",
      "Iteration: 100%|██████████| 267/267 [00:02<00:00, 100.22it/s]\n",
      "Iteration:  30%|██▉       | 80/267 [00:02<00:05, 37.35it/s]]"
     ]
    },
    {
     "name": "stdout",
     "output_type": "stream",
     "text": [
      "{'Train':  best_epoch_indx:27\n",
      " auc:0.8027054326197303 \n",
      " apur:0.7326025059265748 \n",
      " f1:0.6740829029267648 \n",
      " precision:0.6252559167963312 \n",
      " recall:0.7311817659452212 \n",
      ", 'Validation':  best_epoch_indx:27\n",
      " auc:0.8027054329486301 \n",
      " apur:0.7326025064196967 \n",
      " f1:0.6740829029267648 \n",
      " precision:0.6252559167963312 \n",
      " recall:0.7311817659452212 \n",
      ", 'Test':  best_epoch_indx:27\n",
      " auc:0.8027054326197303 \n",
      " apur:0.7326025059265748 \n",
      " f1:0.6740829029267648 \n",
      " precision:0.6252559167963312 \n",
      " recall:0.7311817659452212 \n",
      "}\n",
      "=====Epoch 28\n",
      "Training...\n"
     ]
    },
    {
     "name": "stderr",
     "output_type": "stream",
     "text": [
      "Iteration: 100%|██████████| 267/267 [00:02<00:00, 106.62it/s]\n",
      "Iteration: 100%|██████████| 267/267 [00:02<00:00, 110.97it/s]\n",
      "Iteration: 100%|██████████| 267/267 [00:06<00:00, 42.08it/s]\n",
      "Iteration:  87%|████████▋ | 233/267 [00:05<00:00, 45.61it/s]"
     ]
    },
    {
     "name": "stdout",
     "output_type": "stream",
     "text": [
      "Evaluating...\n"
     ]
    },
    {
     "name": "stderr",
     "output_type": "stream",
     "text": [
      "Iteration: 100%|██████████| 267/267 [00:06<00:00, 42.38it/s]\n",
      "Iteration:  30%|██▉       | 80/267 [00:01<00:02, 81.44it/s]]"
     ]
    },
    {
     "name": "stdout",
     "output_type": "stream",
     "text": [
      "Evaluating...\n",
      "{'Train':  best_epoch_indx:28\n",
      " auc:0.810490373502719 \n",
      " apur:0.7424268124571235 \n",
      " f1:0.6747825008141681 \n",
      " precision:0.6561510389962903 \n",
      " recall:0.6945029687799272 \n",
      ", 'Validation':  best_epoch_indx:28\n",
      " auc:0.810490373502719 \n",
      " apur:0.7424268124571366 \n",
      " f1:0.6747825008141681 \n",
      " precision:0.6561510389962903 \n",
      " recall:0.6945029687799272 \n",
      ", 'Test':  best_epoch_indx:28\n",
      " auc:0.810490373502719 \n",
      " apur:0.7424268124571235 \n",
      " f1:0.6747825008141681 \n",
      " precision:0.6561510389962903 \n",
      " recall:0.6945029687799272 \n",
      "}\n",
      "=====Epoch 29\n",
      "Training...\n"
     ]
    },
    {
     "name": "stderr",
     "output_type": "stream",
     "text": [
      "Iteration: 100%|██████████| 267/267 [00:02<00:00, 119.19it/s]\n",
      "Iteration: 100%|██████████| 267/267 [00:02<00:00, 97.41it/s] \n",
      "Iteration: 100%|██████████| 267/267 [00:02<00:00, 120.84it/s]\n",
      "Iteration: 100%|██████████| 267/267 [00:07<00:00, 37.98it/s]\n",
      "Iteration:   0%|          | 0/267 [00:00<?, ?it/s]"
     ]
    },
    {
     "name": "stdout",
     "output_type": "stream",
     "text": [
      "{'Train':  best_epoch_indx:27\n",
      " auc:0.8011817149010112 \n",
      " apur:0.7311589581399272 \n",
      " f1:0.6724955628618814 \n",
      " precision:0.617796428953277 \n",
      " recall:0.7378216178254485 \n",
      ", 'Validation':  best_epoch_indx:27\n",
      " auc:0.8011817149010112 \n",
      " apur:0.7311589581399272 \n",
      " f1:0.6724955628618814 \n",
      " precision:0.617796428953277 \n",
      " recall:0.7378216178254485 \n",
      ", 'Test':  best_epoch_indx:27\n",
      " auc:0.8011817149010112 \n",
      " apur:0.7311589581399272 \n",
      " f1:0.6724955628618814 \n",
      " precision:0.617796428953277 \n",
      " recall:0.7378216178254485 \n",
      "}\n",
      "=====Epoch 28\n",
      "Training...\n",
      "Evaluating...\n"
     ]
    },
    {
     "name": "stderr",
     "output_type": "stream",
     "text": [
      "Iteration: 100%|██████████| 267/267 [00:02<00:00, 120.01it/s]\n",
      "Iteration: 100%|██████████| 267/267 [00:02<00:00, 122.11it/s]\n",
      "Iteration: 100%|██████████| 267/267 [00:03<00:00, 74.79it/s] \n",
      "Iteration: 100%|██████████| 267/267 [00:07<00:00, 37.43it/s]]\n",
      "Iteration:   0%|          | 0/267 [00:00<?, ?it/s]"
     ]
    },
    {
     "name": "stdout",
     "output_type": "stream",
     "text": [
      "Evaluating...\n"
     ]
    },
    {
     "name": "stderr",
     "output_type": "stream",
     "text": [
      "Iteration: 100%|██████████| 267/267 [00:02<00:00, 117.77it/s]\n",
      "Iteration: 100%|██████████| 267/267 [00:05<00:00, 45.12it/s] \n",
      "Iteration:  91%|█████████▏| 244/267 [00:02<00:00, 108.87it/s]"
     ]
    },
    {
     "name": "stdout",
     "output_type": "stream",
     "text": [
      "Evaluating...\n"
     ]
    },
    {
     "name": "stderr",
     "output_type": "stream",
     "text": [
      "Iteration: 100%|██████████| 267/267 [00:02<00:00, 90.11it/s] \n",
      "Iteration:   0%|          | 0/267 [00:00<?, ?it/s]69.49it/s]]"
     ]
    },
    {
     "name": "stdout",
     "output_type": "stream",
     "text": [
      "{'Train':  best_epoch_indx:27\n",
      " auc:0.8034888822750679 \n",
      " apur:0.7346943348367079 \n",
      " f1:0.6708955223880598 \n",
      " precision:0.6300106520154735 \n",
      " recall:0.7174551490774437 \n",
      ", 'Validation':  best_epoch_indx:27\n",
      " auc:0.8034888822750679 \n",
      " apur:0.7346943348367079 \n",
      " f1:0.6708955223880598 \n",
      " precision:0.6300106520154735 \n",
      " recall:0.7174551490774437 \n",
      ", 'Test':  best_epoch_indx:27\n",
      " auc:0.8034888822750679 \n",
      " apur:0.7346943348367079 \n",
      " f1:0.6708955223880598 \n",
      " precision:0.6300106520154735 \n",
      " recall:0.7174551490774437 \n",
      "}\n",
      "=====Epoch 28\n",
      "Training...\n"
     ]
    },
    {
     "name": "stderr",
     "output_type": "stream",
     "text": [
      "Iteration: 100%|██████████| 267/267 [00:02<00:00, 109.17it/s]\n",
      "Iteration: 100%|██████████| 267/267 [00:02<00:00, 117.64it/s]\n",
      "Iteration: 100%|██████████| 267/267 [00:04<00:00, 64.17it/s]\n",
      "Iteration:  32%|███▏      | 86/267 [00:01<00:03, 45.32it/s]]"
     ]
    },
    {
     "name": "stdout",
     "output_type": "stream",
     "text": [
      "{'Train':  best_epoch_indx:28\n",
      " auc:0.8114341571975341 \n",
      " apur:0.7425198209242045 \n",
      " f1:0.6805828252557611 \n",
      " precision:0.6330605294957706 \n",
      " recall:0.7358189421266 \n",
      ", 'Validation':  best_epoch_indx:28\n",
      " auc:0.811434157197534 \n",
      " apur:0.7425198209241611 \n",
      " f1:0.6805828252557611 \n",
      " precision:0.6330605294957706 \n",
      " recall:0.7358189421266 \n",
      ", 'Test':  best_epoch_indx:28\n",
      " auc:0.8114341571975341 \n",
      " apur:0.7425198209242045 \n",
      " f1:0.6805828252557611 \n",
      " precision:0.6330605294957706 \n",
      " recall:0.7358189421266 \n",
      "}\n",
      "=====Epoch 29\n",
      "Training...\n"
     ]
    },
    {
     "name": "stderr",
     "output_type": "stream",
     "text": [
      "Iteration:  55%|█████▍    | 146/267 [00:03<00:02, 45.16it/s] \n",
      "Iteration:  70%|██████▉   | 186/267 [00:04<00:01, 45.14it/s]]"
     ]
    },
    {
     "name": "stdout",
     "output_type": "stream",
     "text": [
      "{'Train':  best_epoch_indx:28\n",
      " auc:0.8099806819075215 \n",
      " apur:0.7416397248745215 \n",
      " f1:0.6777480864169573 \n",
      " precision:0.642949213714875 \n",
      " recall:0.7165294004979889 \n",
      ", 'Validation':  best_epoch_indx:28\n",
      " auc:0.8099806819075215 \n",
      " apur:0.7416397248745215 \n",
      " f1:0.6777480864169573 \n",
      " precision:0.642949213714875 \n",
      " recall:0.7165294004979889 \n",
      ", 'Test':  best_epoch_indx:28\n",
      " auc:0.8099806819075215 \n",
      " apur:0.7416397248745796 \n",
      " f1:0.6777480864169573 \n",
      " precision:0.642949213714875 \n",
      " recall:0.7165294004979889 \n",
      "}\n",
      "=====Epoch 29\n",
      "Training...\n"
     ]
    },
    {
     "name": "stderr",
     "output_type": "stream",
     "text": [
      "Iteration: 100%|██████████| 267/267 [00:02<00:00, 119.97it/s]\n",
      "Iteration: 100%|██████████| 267/267 [00:05<00:00, 45.28it/s]]\n"
     ]
    },
    {
     "name": "stdout",
     "output_type": "stream",
     "text": [
      "Evaluating...\n"
     ]
    },
    {
     "name": "stderr",
     "output_type": "stream",
     "text": [
      "Iteration: 100%|██████████| 267/267 [00:03<00:00, 77.63it/s] \n",
      "Iteration: 100%|██████████| 267/267 [00:02<00:00, 116.93it/s]\n",
      "Iteration: 100%|██████████| 267/267 [00:06<00:00, 38.63it/s]]\n",
      "Iteration:  79%|███████▉  | 212/267 [00:04<00:01, 45.71it/s]]"
     ]
    },
    {
     "name": "stdout",
     "output_type": "stream",
     "text": [
      "Evaluating...\n"
     ]
    },
    {
     "name": "stderr",
     "output_type": "stream",
     "text": [
      "Iteration: 100%|██████████| 267/267 [00:03<00:00, 80.42it/s]]\n",
      "Iteration: 100%|██████████| 267/267 [00:02<00:00, 110.30it/s]\n",
      "Iteration: 100%|██████████| 267/267 [00:05<00:00, 45.28it/s]]\n",
      "Iteration:   0%|          | 0/267 [00:00<?, ?it/s]"
     ]
    },
    {
     "name": "stdout",
     "output_type": "stream",
     "text": [
      "Evaluating...\n"
     ]
    },
    {
     "name": "stderr",
     "output_type": "stream",
     "text": [
      "Iteration:  38%|███▊      | 102/267 [00:00<00:01, 120.67it/s]"
     ]
    },
    {
     "name": "stdout",
     "output_type": "stream",
     "text": [
      "{'Train':  best_epoch_indx:28\n",
      " auc:0.8130632401319997 \n",
      " apur:0.7464004838514712 \n",
      " f1:0.6828373237860819 \n",
      " precision:0.6409308577669495 \n",
      " recall:0.730607163378663 \n",
      ", 'Validation':  best_epoch_indx:28\n",
      " auc:0.813063240460893 \n",
      " apur:0.7464004840466945 \n",
      " f1:0.6828373237860819 \n",
      " precision:0.6409308577669495 \n",
      " recall:0.730607163378663 \n",
      ", 'Test':  best_epoch_indx:28\n",
      " auc:0.813063240460893 \n",
      " apur:0.7464004840466945 \n",
      " f1:0.6828373237860819 \n",
      " precision:0.6409308577669495 \n",
      " recall:0.730607163378663 \n",
      "}\n",
      "=====Epoch 29\n",
      "Training...\n",
      "{'Train':  best_epoch_indx:29\n",
      " auc:0.8184415517945006 \n",
      " apur:0.7532414395170532 \n",
      " f1:0.685584901163397 \n",
      " precision:0.6427035330261137 \n",
      " recall:0.7345974589797613 \n",
      ", 'Validation':  best_epoch_indx:29\n",
      " auc:0.8184415517945007 \n",
      " apur:0.7532414395170659 \n",
      " f1:0.685584901163397 \n",
      " precision:0.6427035330261137 \n",
      " recall:0.7345974589797613 \n",
      ", 'Test':  best_epoch_indx:29\n",
      " auc:0.8184415517945006 \n",
      " apur:0.7532414395170532 \n",
      " f1:0.685584901163397 \n",
      " precision:0.6427035330261137 \n",
      " recall:0.7345974589797613 \n",
      "}\n",
      "=====Epoch 30\n",
      "Training...\n"
     ]
    },
    {
     "name": "stderr",
     "output_type": "stream",
     "text": [
      "Iteration: 100%|██████████| 267/267 [00:02<00:00, 109.92it/s]\n",
      "Iteration: 100%|██████████| 267/267 [00:02<00:00, 119.72it/s]\n",
      "Iteration: 100%|██████████| 267/267 [00:03<00:00, 79.44it/s] \n",
      "Iteration: 100%|██████████| 267/267 [00:02<00:00, 122.06it/s]\n",
      "Iteration: 100%|██████████| 267/267 [00:02<00:00, 114.57it/s]\n",
      "Iteration: 100%|██████████| 267/267 [00:02<00:00, 97.32it/s] \n",
      "Iteration: 100%|██████████| 267/267 [00:06<00:00, 40.78it/s]]\n",
      "Iteration:   0%|          | 0/267 [00:00<?, ?it/s]"
     ]
    },
    {
     "name": "stdout",
     "output_type": "stream",
     "text": [
      "Evaluating...\n"
     ]
    },
    {
     "name": "stderr",
     "output_type": "stream",
     "text": [
      "\r",
      "Iteration:  68%|██████▊   | 182/267 [00:01<00:00, 100.08it/s]\r",
      "Iteration:   8%|▊         | 21/267 [00:00<00:03, 64.85it/s]\r",
      "Iteration:  97%|█████████▋| 260/267 [00:06<00:00, 45.39it/s]\r",
      "Iteration:   3%|▎         | 7/267 [00:00<00:04, 62.91it/s]\r",
      "Iteration:  73%|███████▎  | 195/267 [00:02<00:00, 106.38it/s]\r",
      "Iteration:  11%|█         | 29/267 [00:00<00:03, 69.50it/s]\r",
      "Iteration:  99%|█████████▉| 265/267 [00:06<00:00, 45.44it/s]\r",
      "Iteration: 100%|██████████| 267/267 [00:06<00:00, 39.67it/s]\n",
      "\r",
      "Iteration:   0%|          | 0/267 [00:00<?, ?it/s]\r",
      "Iteration:   5%|▌         | 14/267 [00:00<00:03, 65.14it/s]"
     ]
    },
    {
     "name": "stdout",
     "output_type": "stream",
     "text": [
      "Evaluating...\n",
      "{'Train':  best_epoch_indx:28\n",
      " auc:0.8131919830358514 \n",
      " apur:0.7455197752597051 \n",
      " f1:0.6832954969970402 \n",
      " precision:0.6212897157190636 \n",
      " recall:0.7590499904232906 \n",
      ", 'Validation':  best_epoch_indx:28\n",
      " auc:0.8131919823780653 \n",
      " apur:0.7455197749666708 \n",
      " f1:0.6832954969970402 \n",
      " precision:0.6212897157190636 \n",
      " recall:0.7590499904232906 \n",
      ", 'Test':  best_epoch_indx:28\n",
      " auc:0.8131919823780653 \n",
      " apur:0.7455197749666708 \n",
      " f1:0.6832954969970402 \n",
      " precision:0.6212897157190636 \n",
      " recall:0.7590499904232906 \n",
      "}\n",
      "=====Epoch 29\n",
      "Training...\n"
     ]
    },
    {
     "name": "stderr",
     "output_type": "stream",
     "text": [
      "Iteration: 100%|██████████| 267/267 [00:02<00:00, 99.89it/s] \n",
      "Iteration:  54%|█████▍    | 144/267 [00:01<00:01, 84.46it/s]]"
     ]
    },
    {
     "name": "stdout",
     "output_type": "stream",
     "text": [
      "{'Train':  best_epoch_indx:29\n",
      " auc:0.820408035916652 \n",
      " apur:0.7537240528807297 \n",
      " f1:0.6895143866132228 \n",
      " precision:0.6465738877710708 \n",
      " recall:0.7385641778657388 \n",
      ", 'Validation':  best_epoch_indx:29\n",
      " auc:0.820408035916652 \n",
      " apur:0.7537240528807297 \n",
      " f1:0.6895143866132228 \n",
      " precision:0.6465738877710708 \n",
      " recall:0.7385641778657388 \n",
      ", 'Test':  best_epoch_indx:29\n",
      " auc:0.820408035916652 \n",
      " apur:0.7537240528807297 \n",
      " f1:0.6895143866132228 \n",
      " precision:0.6465738877710708 \n",
      " recall:0.7385641778657388 \n",
      "}\n",
      "=====Epoch 30\n",
      "Training...\n"
     ]
    },
    {
     "name": "stderr",
     "output_type": "stream",
     "text": [
      "Iteration: 100%|██████████| 267/267 [00:02<00:00, 119.59it/s]\n",
      "Iteration: 100%|██████████| 267/267 [00:02<00:00, 101.31it/s]\n",
      "Iteration: 100%|██████████| 267/267 [00:03<00:00, 88.33it/s] \n",
      "Iteration:  15%|█▍        | 39/267 [00:00<00:01, 128.45it/s]"
     ]
    },
    {
     "name": "stdout",
     "output_type": "stream",
     "text": [
      "{'Train':  best_epoch_indx:29\n",
      " auc:0.8197802397679356 \n",
      " apur:0.753695478751516 \n",
      " f1:0.6884346071682886 \n",
      " precision:0.6430630231140181 \n",
      " recall:0.7406946306582392 \n",
      ", 'Validation':  best_epoch_indx:29\n",
      " auc:0.8197802400968355 \n",
      " apur:0.7536954790343015 \n",
      " f1:0.6884346071682886 \n",
      " precision:0.6430630231140181 \n",
      " recall:0.7406946306582392 \n",
      ", 'Test':  best_epoch_indx:29\n",
      " auc:0.8197802400968355 \n",
      " apur:0.7536954790343169 \n",
      " f1:0.6884346071682886 \n",
      " precision:0.6430630231140181 \n",
      " recall:0.7406946306582392 \n",
      "}\n",
      "=====Epoch 30\n",
      "Training...\n"
     ]
    },
    {
     "name": "stderr",
     "output_type": "stream",
     "text": [
      "Iteration: 100%|██████████| 267/267 [00:02<00:00, 120.37it/s]\n",
      "Iteration: 100%|██████████| 267/267 [00:02<00:00, 121.55it/s]\n",
      "Iteration: 100%|██████████| 267/267 [00:05<00:00, 44.78it/s]\n",
      "Iteration:  71%|███████   | 190/267 [00:04<00:01, 41.46it/s]"
     ]
    },
    {
     "name": "stdout",
     "output_type": "stream",
     "text": [
      "Evaluating...\n"
     ]
    },
    {
     "name": "stderr",
     "output_type": "stream",
     "text": [
      "Iteration: 100%|██████████| 267/267 [00:06<00:00, 39.20it/s]]\n",
      "Iteration:  36%|███▌      | 96/267 [00:01<00:02, 65.64it/s]]"
     ]
    },
    {
     "name": "stdout",
     "output_type": "stream",
     "text": [
      "Evaluating...\n"
     ]
    },
    {
     "name": "stderr",
     "output_type": "stream",
     "text": [
      "Iteration: 100%|██████████| 267/267 [00:02<00:00, 118.15it/s]\n",
      "Iteration: 100%|██████████| 267/267 [00:02<00:00, 114.84it/s]\n",
      "Iteration: 100%|██████████| 267/267 [00:06<00:00, 42.89it/s]\n",
      "Iteration:  78%|███████▊  | 208/267 [00:03<00:00, 66.27it/s]]"
     ]
    },
    {
     "name": "stdout",
     "output_type": "stream",
     "text": [
      "Evaluating...\n"
     ]
    },
    {
     "name": "stderr",
     "output_type": "stream",
     "text": [
      "\r",
      "Iteration:   9%|▉         | 25/267 [00:00<00:02, 120.97it/s]\r",
      "Iteration:   0%|          | 0/267 [00:00<?, ?it/s]\r",
      "Iteration:  18%|█▊        | 47/267 [00:00<00:03, 71.64it/s]\r",
      "Iteration:  56%|█████▌    | 149/267 [00:01<00:01, 108.76it/s]\r",
      "Iteration:  81%|████████  | 216/267 [00:03<00:00, 68.91it/s]\r",
      "Iteration:  14%|█▍        | 38/267 [00:00<00:01, 122.15it/s]\r",
      "Iteration:  22%|██▏       | 60/267 [00:00<00:02, 88.35it/s]\r",
      "Iteration:   2%|▏         | 5/267 [00:00<00:06, 42.79it/s]\r",
      "Iteration:  61%|██████    | 162/267 [00:01<00:00, 113.44it/s]\r",
      "Iteration:  84%|████████▎ | 223/267 [00:03<00:00, 66.23it/s]"
     ]
    },
    {
     "name": "stdout",
     "output_type": "stream",
     "text": [
      "{'Train':  best_epoch_indx:29\n",
      " auc:0.8222741267069109 \n",
      " apur:0.7569772393656365 \n",
      " f1:0.6897711069418386 \n",
      " precision:0.6509532847956033 \n",
      " recall:0.7335120985762625 \n",
      ", 'Validation':  best_epoch_indx:29\n",
      " auc:0.8222741267069108 \n",
      " apur:0.7569772394932812 \n",
      " f1:0.6897711069418386 \n",
      " precision:0.6509532847956033 \n",
      " recall:0.7335120985762625 \n",
      ", 'Test':  best_epoch_indx:29\n",
      " auc:0.8222741267069109 \n",
      " apur:0.7569772393656365 \n",
      " f1:0.6897711069418386 \n",
      " precision:0.6509532847956033 \n",
      " recall:0.7335120985762625 \n",
      "}\n",
      "=====Epoch 30\n",
      "Training...\n"
     ]
    },
    {
     "name": "stderr",
     "output_type": "stream",
     "text": [
      "Iteration: 100%|██████████| 267/267 [00:03<00:00, 73.78it/s] \n",
      "Iteration: 100%|██████████| 267/267 [00:02<00:00, 100.79it/s]\n",
      "Iteration:  21%|██        | 55/267 [00:01<00:05, 39.95it/s]s]"
     ]
    },
    {
     "name": "stdout",
     "output_type": "stream",
     "text": [
      "{'Train':  best_epoch_indx:30\n",
      " auc:0.8188849121984992 \n",
      " apur:0.753096292236807 \n",
      " f1:0.6854058245477997 \n",
      " precision:0.6431229886665734 \n",
      " recall:0.7336397880354977 \n",
      ", 'Validation':  best_epoch_indx:30\n",
      " auc:0.8188849118696062 \n",
      " apur:0.7530962918300323 \n",
      " f1:0.6854058245477997 \n",
      " precision:0.6431229886665734 \n",
      " recall:0.7336397880354977 \n",
      ", 'Test':  best_epoch_indx:30\n",
      " auc:0.8188849118696061 \n",
      " apur:0.7530962917536104 \n",
      " f1:0.6854058245477997 \n",
      " precision:0.6431229886665734 \n",
      " recall:0.7336397880354977 \n",
      "}\n",
      "=====Epoch 31\n",
      "Training...\n"
     ]
    },
    {
     "name": "stderr",
     "output_type": "stream",
     "text": [
      "Iteration: 100%|██████████| 267/267 [00:02<00:00, 116.12it/s]\n",
      "Iteration: 100%|██████████| 267/267 [00:03<00:00, 86.22it/s] \n",
      "Iteration: 100%|██████████| 267/267 [00:02<00:00, 115.83it/s]\n",
      "Iteration: 100%|██████████| 267/267 [00:03<00:00, 87.62it/s] \n",
      "Iteration: 100%|██████████| 267/267 [00:06<00:00, 42.61it/s]\n",
      "Iteration:  66%|██████▋   | 177/267 [00:02<00:01, 68.94it/s]"
     ]
    },
    {
     "name": "stdout",
     "output_type": "stream",
     "text": [
      "Evaluating...\n"
     ]
    },
    {
     "name": "stderr",
     "output_type": "stream",
     "text": [
      "Iteration: 100%|██████████| 267/267 [00:06<00:00, 41.71it/s]]\n",
      "Iteration: 100%|██████████| 267/267 [00:03<00:00, 67.27it/s]]\n",
      "Iteration:   9%|▊         | 23/267 [00:00<00:03, 74.54it/s]]"
     ]
    },
    {
     "name": "stdout",
     "output_type": "stream",
     "text": [
      "Evaluating...\n"
     ]
    },
    {
     "name": "stderr",
     "output_type": "stream",
     "text": [
      "Iteration: 100%|██████████| 267/267 [00:02<00:00, 100.17it/s]\n",
      "Iteration: 100%|██████████| 267/267 [00:02<00:00, 116.14it/s]\n",
      "Iteration:  45%|████▍     | 119/267 [00:01<00:02, 73.38it/s]]"
     ]
    },
    {
     "name": "stdout",
     "output_type": "stream",
     "text": [
      "{'Train':  best_epoch_indx:30\n",
      " auc:0.8195092720044477 \n",
      " apur:0.7528992038617958 \n",
      " f1:0.6902888292961709 \n",
      " precision:0.6380506041068429 \n",
      " recall:0.7518434577201775 \n",
      ", 'Validation':  best_epoch_indx:30\n",
      " auc:0.8195092720044477 \n",
      " apur:0.7528992038617958 \n",
      " f1:0.6902888292961709 \n",
      " precision:0.6380506041068429 \n",
      " recall:0.7518434577201775 \n",
      ", 'Test':  best_epoch_indx:30\n",
      " auc:0.8195092720044477 \n",
      " apur:0.7528992038617958 \n",
      " f1:0.6902888292961709 \n",
      " precision:0.6380506041068429 \n",
      " recall:0.7518434577201775 \n",
      "}\n",
      "=====Epoch 31\n",
      "Training...\n"
     ]
    },
    {
     "name": "stderr",
     "output_type": "stream",
     "text": [
      "\r",
      "Iteration:  68%|██████▊   | 181/267 [00:01<00:00, 126.04it/s]\r",
      "Iteration:  48%|████▊     | 127/267 [00:01<00:01, 71.82it/s]\r",
      "Iteration:   1%|          | 3/267 [00:00<00:20, 13.04it/s]\r",
      "Iteration:  73%|███████▎  | 194/267 [00:01<00:00, 125.95it/s]\r",
      "Iteration:   0%|          | 0/267 [00:00<?, ?it/s]\r",
      "Iteration:  52%|█████▏    | 139/267 [00:01<00:01, 83.78it/s]\r",
      "Iteration:   0%|          | 0/267 [00:00<?, ?it/s]"
     ]
    },
    {
     "name": "stdout",
     "output_type": "stream",
     "text": [
      "{'Train':  best_epoch_indx:29\n",
      " auc:0.8215326648278385 \n",
      " apur:0.7554410937953118 \n",
      " f1:0.6902504472271914 \n",
      " precision:0.6475079711360967 \n",
      " recall:0.7390346676881824 \n",
      ", 'Validation':  best_epoch_indx:29\n",
      " auc:0.8215326648278385 \n",
      " apur:0.7554410937953118 \n",
      " f1:0.6902504472271914 \n",
      " precision:0.6475079711360967 \n",
      " recall:0.7390346676881824 \n",
      ", 'Test':  best_epoch_indx:29\n",
      " auc:0.8215326654856246 \n",
      " apur:0.7554410943411447 \n",
      " f1:0.6902504472271914 \n",
      " precision:0.6475079711360967 \n",
      " recall:0.7390346676881824 \n",
      "}\n",
      "=====Epoch 30\n",
      "Training...\n"
     ]
    },
    {
     "name": "stderr",
     "output_type": "stream",
     "text": [
      "Iteration: 100%|██████████| 267/267 [00:02<00:00, 125.25it/s]\n",
      "Iteration: 100%|██████████| 267/267 [00:02<00:00, 94.06it/s] \n",
      "Iteration:  25%|██▌       | 68/267 [00:01<00:05, 33.86it/s]s]"
     ]
    },
    {
     "name": "stdout",
     "output_type": "stream",
     "text": [
      "{'Train':  best_epoch_indx:30\n",
      " auc:0.8155593235159324 \n",
      " apur:0.7492886220291329 \n",
      " f1:0.6814422758848826 \n",
      " precision:0.6441159749857874 \n",
      " recall:0.7233607865670689 \n",
      ", 'Validation':  best_epoch_indx:30\n",
      " auc:0.8155593228581326 \n",
      " apur:0.7492886216107 \n",
      " f1:0.6814422758848826 \n",
      " precision:0.6441159749857874 \n",
      " recall:0.7233607865670689 \n",
      ", 'Test':  best_epoch_indx:30\n",
      " auc:0.8155593228581325 \n",
      " apur:0.7492886216107 \n",
      " f1:0.6814422758848826 \n",
      " precision:0.6441159749857874 \n",
      " recall:0.7233607865670689 \n",
      "}\n",
      "=====Epoch 31\n",
      "Training...\n"
     ]
    },
    {
     "name": "stderr",
     "output_type": "stream",
     "text": [
      "Iteration: 100%|██████████| 267/267 [00:02<00:00, 119.88it/s]\n",
      "Iteration: 100%|██████████| 267/267 [00:02<00:00, 122.08it/s]\n",
      "Iteration: 100%|██████████| 267/267 [00:02<00:00, 125.97it/s]\n",
      "Iteration: 100%|██████████| 267/267 [00:06<00:00, 40.89it/s]\n",
      "Iteration:   0%|          | 0/267 [00:00<?, ?it/s]"
     ]
    },
    {
     "name": "stdout",
     "output_type": "stream",
     "text": [
      "Evaluating...\n"
     ]
    },
    {
     "name": "stderr",
     "output_type": "stream",
     "text": [
      "\r",
      "Iteration:  88%|████████▊ | 235/267 [00:06<00:00, 38.76it/s]\r",
      "Iteration:  31%|███       | 82/267 [00:01<00:02, 65.39it/s]\r",
      "Iteration:  67%|██████▋   | 179/267 [00:04<00:01, 45.68it/s]\r",
      "Iteration:   4%|▍         | 12/267 [00:00<00:02, 117.92it/s]\r",
      "Iteration:  90%|████████▉ | 239/267 [00:06<00:00, 37.55it/s]\r",
      "Iteration:  33%|███▎      | 89/267 [00:01<00:02, 65.73it/s]\r",
      "Iteration:  69%|██████▉   | 184/267 [00:04<00:01, 45.72it/s]\r",
      "Iteration:   9%|▉         | 25/267 [00:00<00:01, 122.80it/s]"
     ]
    },
    {
     "name": "stdout",
     "output_type": "stream",
     "text": [
      "{'Train':  best_epoch_indx:30\n",
      " auc:0.8202797136535591 \n",
      " apur:0.7549068922080518 \n",
      " f1:0.6865898058252426 \n",
      " precision:0.6541596808695149 \n",
      " recall:0.7224031156228053 \n",
      ", 'Validation':  best_epoch_indx:30\n",
      " auc:0.820279712995773 \n",
      " apur:0.7549068918476461 \n",
      " f1:0.6865898058252426 \n",
      " precision:0.6541596808695149 \n",
      " recall:0.7224031156228053 \n",
      ", 'Test':  best_epoch_indx:30\n",
      " auc:0.820279713324666 \n",
      " apur:0.7549068918892989 \n",
      " f1:0.6865898058252426 \n",
      " precision:0.6541596808695149 \n",
      " recall:0.7224031156228053 \n",
      "}\n",
      "=====Epoch 31\n",
      "Training...\n"
     ]
    },
    {
     "name": "stderr",
     "output_type": "stream",
     "text": [
      "Iteration: 100%|██████████| 267/267 [00:07<00:00, 37.70it/s]\n",
      "Iteration:  39%|███▊      | 103/267 [00:00<00:01, 125.97it/s]"
     ]
    },
    {
     "name": "stdout",
     "output_type": "stream",
     "text": [
      "Evaluating...\n"
     ]
    },
    {
     "name": "stderr",
     "output_type": "stream",
     "text": [
      "Iteration: 100%|██████████| 267/267 [00:06<00:00, 41.77it/s]]\n",
      "Iteration: 100%|██████████| 267/267 [00:02<00:00, 126.67it/s]\n",
      "Iteration:   5%|▍         | 13/267 [00:00<00:02, 120.94it/s]"
     ]
    },
    {
     "name": "stdout",
     "output_type": "stream",
     "text": [
      "Evaluating...\n"
     ]
    },
    {
     "name": "stderr",
     "output_type": "stream",
     "text": [
      "Iteration: 100%|██████████| 267/267 [00:04<00:00, 65.53it/s]]\n",
      "Iteration: 100%|██████████| 267/267 [00:03<00:00, 83.68it/s] \n",
      "Iteration: 100%|██████████| 267/267 [00:02<00:00, 128.27it/s]\n",
      "Iteration:   2%|▏         | 5/267 [00:00<00:06, 43.27it/s]s]"
     ]
    },
    {
     "name": "stdout",
     "output_type": "stream",
     "text": [
      "{'Train':  best_epoch_indx:31\n",
      " auc:0.8164339254606401 \n",
      " apur:0.7502613425258697 \n",
      " f1:0.6829624333422707 \n",
      " precision:0.6402200625558534 \n",
      " recall:0.7318202132413969 \n",
      ", 'Validation':  best_epoch_indx:31\n",
      " auc:0.8164339257895332 \n",
      " apur:0.7502613428348288 \n",
      " f1:0.6829624333422707 \n",
      " precision:0.6402200625558534 \n",
      " recall:0.7318202132413969 \n",
      ", 'Test':  best_epoch_indx:31\n",
      " auc:0.8164339254606401 \n",
      " apur:0.7502613425258696 \n",
      " f1:0.6829624333422707 \n",
      " precision:0.6402200625558534 \n",
      " recall:0.7318202132413969 \n",
      "}\n",
      "=====Epoch 32\n",
      "Training...\n"
     ]
    },
    {
     "name": "stderr",
     "output_type": "stream",
     "text": [
      "Iteration: 100%|██████████| 267/267 [00:06<00:00, 44.09it/s]]\n",
      "Iteration:  39%|███▊      | 103/267 [00:01<00:02, 72.21it/s]]"
     ]
    },
    {
     "name": "stdout",
     "output_type": "stream",
     "text": [
      "Evaluating...\n"
     ]
    },
    {
     "name": "stderr",
     "output_type": "stream",
     "text": [
      "Iteration:  95%|█████████▍| 253/267 [00:02<00:00, 125.11it/s]\n",
      "Iteration: 100%|██████████| 267/267 [00:02<00:00, 118.16it/s]\n",
      "Iteration: 100%|██████████| 267/267 [00:03<00:00, 77.55it/s] \n",
      "Iteration: 100%|██████████| 267/267 [00:02<00:00, 124.15it/s]\n",
      "Iteration: 100%|██████████| 267/267 [00:05<00:00, 45.37it/s]]\n",
      "Iteration:   0%|          | 0/267 [00:00<?, ?it/s]"
     ]
    },
    {
     "name": "stdout",
     "output_type": "stream",
     "text": [
      "Evaluating...\n"
     ]
    },
    {
     "name": "stderr",
     "output_type": "stream",
     "text": [
      "Iteration: 100%|██████████| 267/267 [00:02<00:00, 108.57it/s]\n",
      "Iteration: 100%|██████████| 267/267 [00:02<00:00, 117.18it/s]\n",
      "Iteration:   0%|          | 0/267 [00:00<?, ?it/s]60.96it/s]]"
     ]
    },
    {
     "name": "stdout",
     "output_type": "stream",
     "text": [
      "{'Train':  best_epoch_indx:30\n",
      " auc:0.8171520665162888 \n",
      " apur:0.7509623199487611 \n",
      " f1:0.6848867434088377 \n",
      " precision:0.6404344565126809 \n",
      " recall:0.735970120666539 \n",
      ", 'Validation':  best_epoch_indx:30\n",
      " auc:0.8171520668451819 \n",
      " apur:0.7509623201479421 \n",
      " f1:0.6848867434088377 \n",
      " precision:0.6404344565126809 \n",
      " recall:0.735970120666539 \n",
      ", 'Test':  best_epoch_indx:30\n",
      " auc:0.8171520668451819 \n",
      " apur:0.7509623201479421 \n",
      " f1:0.6848867434088377 \n",
      " precision:0.6404344565126809 \n",
      " recall:0.735970120666539 \n",
      "}\n",
      "=====Epoch 31\n",
      "Training...\n"
     ]
    },
    {
     "name": "stderr",
     "output_type": "stream",
     "text": [
      "Iteration:   7%|▋         | 20/267 [00:00<00:07, 32.37it/s]]]"
     ]
    },
    {
     "name": "stdout",
     "output_type": "stream",
     "text": [
      "{'Train':  best_epoch_indx:31\n",
      " auc:0.8184158358349115 \n",
      " apur:0.7507741206919114 \n",
      " f1:0.6892704109510254 \n",
      " precision:0.6271226353384443 \n",
      " recall:0.7650908162288123 \n",
      ", 'Validation':  best_epoch_indx:31\n",
      " auc:0.8184158358349115 \n",
      " apur:0.7507741206919114 \n",
      " f1:0.6892704109510254 \n",
      " precision:0.6271226353384443 \n",
      " recall:0.7650908162288123 \n",
      ", 'Test':  best_epoch_indx:31\n",
      " auc:0.818415835506022 \n",
      " apur:0.7507741201349583 \n",
      " f1:0.6892704109510254 \n",
      " precision:0.6271226353384443 \n",
      " recall:0.7650908162288123 \n",
      "}\n",
      "=====Epoch 32\n",
      "Training...\n"
     ]
    },
    {
     "name": "stderr",
     "output_type": "stream",
     "text": [
      "Iteration: 100%|██████████| 267/267 [00:02<00:00, 118.76it/s]\n",
      "Iteration: 100%|██████████| 267/267 [00:03<00:00, 75.32it/s] \n",
      "Iteration: 100%|██████████| 267/267 [00:03<00:00, 78.89it/s] \n",
      "Iteration:   0%|          | 0/267 [00:00<?, ?it/s]9.24it/s]]"
     ]
    },
    {
     "name": "stdout",
     "output_type": "stream",
     "text": [
      "{'Train':  best_epoch_indx:31\n",
      " auc:0.8159735515396187 \n",
      " apur:0.750168606301738 \n",
      " f1:0.6822181112665254 \n",
      " precision:0.6449961607371385 \n",
      " recall:0.7239992338632446 \n",
      ", 'Validation':  best_epoch_indx:31\n",
      " auc:0.8159735515396187 \n",
      " apur:0.7501686063017083 \n",
      " f1:0.6822181112665254 \n",
      " precision:0.6449961607371385 \n",
      " recall:0.7239992338632446 \n",
      ", 'Test':  best_epoch_indx:31\n",
      " auc:0.8159735515396187 \n",
      " apur:0.7501686063017381 \n",
      " f1:0.6822181112665254 \n",
      " precision:0.6449961607371385 \n",
      " recall:0.7239992338632446 \n",
      "}\n",
      "=====Epoch 32\n",
      "Training...\n"
     ]
    },
    {
     "name": "stderr",
     "output_type": "stream",
     "text": [
      "Iteration: 100%|██████████| 267/267 [00:02<00:00, 108.61it/s]\n",
      "Iteration: 100%|██████████| 267/267 [00:02<00:00, 117.95it/s]\n",
      "Iteration:   2%|▏         | 5/267 [00:00<00:05, 49.94it/s]s]"
     ]
    },
    {
     "name": "stdout",
     "output_type": "stream",
     "text": [
      "{'Train':  best_epoch_indx:31\n",
      " auc:0.8136321294964244 \n",
      " apur:0.7467363627278056 \n",
      " f1:0.6794379035320928 \n",
      " precision:0.648192701237717 \n",
      " recall:0.713847921854051 \n",
      ", 'Validation':  best_epoch_indx:31\n",
      " auc:0.8136321294964243 \n",
      " apur:0.746736362727837 \n",
      " f1:0.6794379035320928 \n",
      " precision:0.648192701237717 \n",
      " recall:0.713847921854051 \n",
      ", 'Test':  best_epoch_indx:31\n",
      " auc:0.8136321294964243 \n",
      " apur:0.746736362727837 \n",
      " f1:0.6794379035320928 \n",
      " precision:0.648192701237717 \n",
      " recall:0.713847921854051 \n",
      "}\n",
      "=====Epoch 32\n",
      "Training...\n"
     ]
    },
    {
     "name": "stderr",
     "output_type": "stream",
     "text": [
      "Iteration: 100%|██████████| 267/267 [00:06<00:00, 43.06it/s]\n",
      "Iteration:  67%|██████▋   | 178/267 [00:04<00:02, 34.35it/s]]"
     ]
    },
    {
     "name": "stdout",
     "output_type": "stream",
     "text": [
      "Evaluating...\n"
     ]
    },
    {
     "name": "stderr",
     "output_type": "stream",
     "text": [
      "\r",
      "Iteration:  45%|████▌     | 121/267 [00:01<00:01, 112.08it/s]\r",
      "Iteration:  30%|██▉       | 80/267 [00:01<00:04, 45.69it/s]\r",
      "Iteration:  10%|▉         | 26/267 [00:00<00:01, 124.34it/s]\r",
      "Iteration:  99%|█████████▉| 265/267 [00:07<00:00, 34.69it/s]\r",
      "Iteration:  68%|██████▊   | 182/267 [00:04<00:02, 32.89it/s]\r",
      "Iteration:  50%|█████     | 134/267 [00:01<00:01, 116.80it/s]\r",
      "Iteration: 100%|██████████| 267/267 [00:07<00:00, 37.79it/s]\n",
      "\r",
      "Iteration:   0%|          | 0/267 [00:00<?, ?it/s]\r",
      "Iteration:  15%|█▍        | 39/267 [00:00<00:01, 125.82it/s]\r",
      "Iteration:  32%|███▏      | 85/267 [00:01<00:03, 45.67it/s]\r",
      "Iteration:  70%|██████▉   | 186/267 [00:04<00:02, 33.27it/s]"
     ]
    },
    {
     "name": "stdout",
     "output_type": "stream",
     "text": [
      "Evaluating...\n"
     ]
    },
    {
     "name": "stderr",
     "output_type": "stream",
     "text": [
      "Iteration: 100%|██████████| 267/267 [00:02<00:00, 100.13it/s]\n",
      "Iteration:  64%|██████▍   | 172/267 [00:03<00:02, 41.19it/s] "
     ]
    },
    {
     "name": "stdout",
     "output_type": "stream",
     "text": [
      "{'Train':  best_epoch_indx:32\n",
      " auc:0.8083971135999023 \n",
      " apur:0.7397344786164198 \n",
      " f1:0.6772730586948597 \n",
      " precision:0.623426132245161 \n",
      " recall:0.7413011555896061 \n",
      ", 'Validation':  best_epoch_indx:32\n",
      " auc:0.8083971135999023 \n",
      " apur:0.7397344786164198 \n",
      " f1:0.6772730586948597 \n",
      " precision:0.623426132245161 \n",
      " recall:0.7413011555896061 \n",
      ", 'Test':  best_epoch_indx:32\n",
      " auc:0.8083971129421161 \n",
      " apur:0.7397344781108038 \n",
      " f1:0.6772730586948597 \n",
      " precision:0.623426132245161 \n",
      " recall:0.7413011555896061 \n",
      "}\n",
      "=====Epoch 33\n",
      "Training...\n"
     ]
    },
    {
     "name": "stderr",
     "output_type": "stream",
     "text": [
      "\r",
      "Iteration:  91%|█████████▏| 244/267 [00:02<00:00, 122.36it/s]\r",
      "Iteration:  94%|█████████▍| 251/267 [00:02<00:00, 104.76it/s]\r",
      "Iteration:   4%|▎         | 10/267 [00:00<00:05, 43.30it/s]\r",
      "Iteration: 100%|██████████| 267/267 [00:07<00:00, 41.12it/s]\r",
      "Iteration: 100%|██████████| 267/267 [00:07<00:00, 37.83it/s]\n",
      "\r",
      "Iteration:   0%|          | 0/267 [00:00<?, ?it/s]\r",
      "Iteration:  66%|██████▋   | 177/267 [00:04<00:02, 42.44it/s]\r",
      "Iteration:  96%|█████████▋| 257/267 [00:02<00:00, 123.06it/s]\r",
      "Iteration:  99%|█████████▉| 264/267 [00:02<00:00, 110.47it/s]\r",
      "Iteration: 100%|██████████| 267/267 [00:02<00:00, 116.33it/s]\n",
      "\r",
      "Iteration:   3%|▎         | 7/267 [00:00<00:03, 67.20it/s]\r",
      "Iteration:   6%|▌         | 15/267 [00:00<00:06, 40.30it/s]\r",
      "Iteration:  68%|██████▊   | 182/267 [00:04<00:01, 43.36it/s]\r",
      "Iteration: 100%|██████████| 267/267 [00:02<00:00, 100.54it/s]\n"
     ]
    },
    {
     "name": "stdout",
     "output_type": "stream",
     "text": [
      "Evaluating...\n"
     ]
    },
    {
     "name": "stderr",
     "output_type": "stream",
     "text": [
      "Iteration: 100%|██████████| 267/267 [00:06<00:00, 43.68it/s]]\n",
      "Iteration:  36%|███▌      | 96/267 [00:02<00:03, 44.87it/s]s]"
     ]
    },
    {
     "name": "stdout",
     "output_type": "stream",
     "text": [
      "Evaluating...\n"
     ]
    },
    {
     "name": "stderr",
     "output_type": "stream",
     "text": [
      "Iteration: 100%|██████████| 267/267 [00:02<00:00, 98.41it/s] \n",
      "Iteration: 100%|██████████| 267/267 [00:02<00:00, 121.42it/s]\n",
      "Iteration: 100%|██████████| 267/267 [00:03<00:00, 69.13it/s]]\n",
      "Iteration: 100%|██████████| 267/267 [00:02<00:00, 92.70it/s] \n",
      "Iteration: 100%|██████████| 267/267 [00:06<00:00, 43.35it/s]]\n",
      "Iteration:  46%|████▌     | 122/267 [00:01<00:02, 68.38it/s]"
     ]
    },
    {
     "name": "stdout",
     "output_type": "stream",
     "text": [
      "Evaluating...\n"
     ]
    },
    {
     "name": "stderr",
     "output_type": "stream",
     "text": [
      "Iteration: 100%|██████████| 267/267 [00:02<00:00, 107.23it/s]\n",
      "Iteration: 100%|██████████| 267/267 [00:03<00:00, 85.64it/s] \n",
      "Iteration: 100%|██████████| 267/267 [00:02<00:00, 124.16it/s]\n",
      "Iteration:  61%|██████    | 162/267 [00:02<00:01, 73.41it/s]]"
     ]
    },
    {
     "name": "stdout",
     "output_type": "stream",
     "text": [
      "{'Train':  best_epoch_indx:31\n",
      " auc:0.8163410463765721 \n",
      " apur:0.7512048943331475 \n",
      " f1:0.6879010549290651 \n",
      " precision:0.6320489852669857 \n",
      " recall:0.7545808593500607 \n",
      ", 'Validation':  best_epoch_indx:31\n",
      " auc:0.8163410467054653 \n",
      " apur:0.7512048945017763 \n",
      " f1:0.6879010549290651 \n",
      " precision:0.6320489852669857 \n",
      " recall:0.7545808593500607 \n",
      ", 'Test':  best_epoch_indx:31\n",
      " auc:0.8163410463765721 \n",
      " apur:0.7512048943331475 \n",
      " f1:0.6879010549290651 \n",
      " precision:0.6320489852669857 \n",
      " recall:0.7545808593500607 \n",
      "}\n",
      "=====Epoch 32\n",
      "Training...\n"
     ]
    },
    {
     "name": "stderr",
     "output_type": "stream",
     "text": [
      "Iteration: 100%|██████████| 267/267 [00:02<00:00, 117.40it/s]\n",
      "Iteration: 100%|██████████| 267/267 [00:03<00:00, 73.88it/s] \n",
      "Iteration: 100%|██████████| 267/267 [00:02<00:00, 109.45it/s]\n"
     ]
    },
    {
     "name": "stdout",
     "output_type": "stream",
     "text": [
      "{'Train':  best_epoch_indx:32\n",
      " auc:0.8121889333375509 \n",
      " apur:0.7447521816796057 \n",
      " f1:0.6821666195317267 \n",
      " precision:0.6390841142347167 \n",
      " recall:0.7314776390972644 \n",
      ", 'Validation':  best_epoch_indx:32\n",
      " auc:0.8121889336664403 \n",
      " apur:0.7447521820507892 \n",
      " f1:0.6821666195317267 \n",
      " precision:0.6390841142347167 \n",
      " recall:0.7314776390972644 \n",
      ", 'Test':  best_epoch_indx:32\n",
      " auc:0.8121889333375509 \n",
      " apur:0.7447521816796054 \n",
      " f1:0.6821666195317267 \n",
      " precision:0.6390841142347167 \n",
      " recall:0.7314776390972644 \n",
      "}\n",
      "=====Epoch 33\n",
      "Training...\n"
     ]
    },
    {
     "name": "stderr",
     "output_type": "stream",
     "text": [
      "Iteration:   0%|          | 0/267 [00:00<?, ?it/s]6.67it/s]s]"
     ]
    },
    {
     "name": "stdout",
     "output_type": "stream",
     "text": [
      "{'Train':  best_epoch_indx:32\n",
      " auc:0.8125758157808708 \n",
      " apur:0.7461286477850768 \n",
      " f1:0.6840509399636144 \n",
      " precision:0.6244859221765264 \n",
      " recall:0.7561769775905 \n",
      ", 'Validation':  best_epoch_indx:32\n",
      " auc:0.8125758157808708 \n",
      " apur:0.7461286477850768 \n",
      " f1:0.6840509399636144 \n",
      " precision:0.6244859221765264 \n",
      " recall:0.7561769775905 \n",
      ", 'Test':  best_epoch_indx:32\n",
      " auc:0.8125758157808708 \n",
      " apur:0.7461286477850768 \n",
      " f1:0.6840509399636144 \n",
      " precision:0.6244859221765264 \n",
      " recall:0.7561769775905 \n",
      "}\n",
      "=====Epoch 33\n",
      "Training...\n"
     ]
    },
    {
     "name": "stderr",
     "output_type": "stream",
     "text": [
      "Iteration: 100%|██████████| 267/267 [00:02<00:00, 101.02it/s]\n",
      "Iteration: 100%|██████████| 267/267 [00:02<00:00, 122.18it/s]\n",
      "Iteration:  94%|█████████▎| 250/267 [00:05<00:00, 45.20it/s]]"
     ]
    },
    {
     "name": "stdout",
     "output_type": "stream",
     "text": [
      "{'Train':  best_epoch_indx:32\n",
      " auc:0.811334306633278 \n",
      " apur:0.7403228024777322 \n",
      " f1:0.6803203048254101 \n",
      " precision:0.6373117679866146 \n",
      " recall:0.7295537253399732 \n",
      ", 'Validation':  best_epoch_indx:32\n",
      " auc:0.811334306633278 \n",
      " apur:0.7403228024777322 \n",
      " f1:0.6803203048254101 \n",
      " precision:0.6373117679866146 \n",
      " recall:0.7295537253399732 \n",
      ", 'Test':  best_epoch_indx:32\n",
      " auc:0.811334306633278 \n",
      " apur:0.7403228024777322 \n",
      " f1:0.6803203048254101 \n",
      " precision:0.6373117679866146 \n",
      " recall:0.7295537253399732 \n",
      "}\n",
      "=====Epoch 33\n",
      "Training...\n"
     ]
    },
    {
     "name": "stderr",
     "output_type": "stream",
     "text": [
      "Iteration: 100%|██████████| 267/267 [00:06<00:00, 42.43it/s]]\n",
      "Iteration:   5%|▍         | 13/267 [00:00<00:02, 121.01it/s]]"
     ]
    },
    {
     "name": "stdout",
     "output_type": "stream",
     "text": [
      "Evaluating...\n"
     ]
    },
    {
     "name": "stderr",
     "output_type": "stream",
     "text": [
      "Iteration: 100%|██████████| 267/267 [00:02<00:00, 111.97it/s]\n",
      "Iteration:  78%|███████▊  | 207/267 [00:01<00:00, 98.05it/s] "
     ]
    },
    {
     "name": "stdout",
     "output_type": "stream",
     "text": [
      "{'Train':  best_epoch_indx:33\n",
      " auc:0.8072371437954468 \n",
      " apur:0.73809496894931 \n",
      " f1:0.6738759935447868 \n",
      " precision:0.638705435000143 \n",
      " recall:0.7131456298282577 \n",
      ", 'Validation':  best_epoch_indx:33\n",
      " auc:0.8072371431376606 \n",
      " apur:0.7380949678867466 \n",
      " f1:0.6738759935447868 \n",
      " precision:0.638705435000143 \n",
      " recall:0.7131456298282577 \n",
      ", 'Test':  best_epoch_indx:33\n",
      " auc:0.8072371437954468 \n",
      " apur:0.73809496894931 \n",
      " f1:0.6738759935447868 \n",
      " precision:0.638705435000143 \n",
      " recall:0.7131456298282577 \n",
      "}\n",
      "=====Epoch 34\n",
      "Training...\n"
     ]
    },
    {
     "name": "stderr",
     "output_type": "stream",
     "text": [
      "\r",
      "Iteration:  31%|███       | 82/267 [00:02<00:05, 35.70it/s]\r",
      "Iteration:   2%|▏         | 6/267 [00:00<00:05, 50.15it/s]\r",
      "Iteration:  75%|███████▌  | 201/267 [00:05<00:01, 37.11it/s]\r",
      "Iteration:  99%|█████████▉| 264/267 [00:06<00:00, 43.19it/s]\r",
      "Iteration:  32%|███▏      | 86/267 [00:02<00:04, 36.30it/s]\r",
      "Iteration:  82%|████████▏ | 218/267 [00:01<00:00, 91.41it/s]\r",
      "Iteration: 100%|██████████| 267/267 [00:06<00:00, 40.47it/s]\n",
      "\r",
      "Iteration:   0%|          | 0/267 [00:00<?, ?it/s]\r",
      "Iteration:  77%|███████▋  | 205/267 [00:05<00:01, 37.57it/s]\r",
      "Iteration:   4%|▍         | 12/267 [00:00<00:05, 47.26it/s]"
     ]
    },
    {
     "name": "stdout",
     "output_type": "stream",
     "text": [
      "Evaluating...\n"
     ]
    },
    {
     "name": "stderr",
     "output_type": "stream",
     "text": [
      "Iteration: 100%|██████████| 267/267 [00:02<00:00, 104.21it/s]\n",
      "Iteration: 100%|██████████| 267/267 [00:07<00:00, 36.02it/s]\n",
      "Iteration:  38%|███▊      | 102/267 [00:02<00:03, 45.55it/s]"
     ]
    },
    {
     "name": "stdout",
     "output_type": "stream",
     "text": [
      "Evaluating...\n"
     ]
    },
    {
     "name": "stderr",
     "output_type": "stream",
     "text": [
      "Iteration: 100%|██████████| 267/267 [00:03<00:00, 82.19it/s]]\n",
      "Iteration: 100%|██████████| 267/267 [00:02<00:00, 120.08it/s]\n",
      "Iteration: 100%|██████████| 267/267 [00:06<00:00, 41.28it/s]]\n",
      "Iteration:  74%|███████▍  | 197/267 [00:04<00:01, 45.62it/s]"
     ]
    },
    {
     "name": "stdout",
     "output_type": "stream",
     "text": [
      "Evaluating...\n"
     ]
    },
    {
     "name": "stderr",
     "output_type": "stream",
     "text": [
      "Iteration: 100%|██████████| 267/267 [00:02<00:00, 101.08it/s]\n",
      "Iteration: 100%|██████████| 267/267 [00:05<00:00, 44.73it/s]]\n",
      "Iteration:  11%|█         | 30/267 [00:00<00:03, 67.17it/s]s]"
     ]
    },
    {
     "name": "stdout",
     "output_type": "stream",
     "text": [
      "Evaluating...\n"
     ]
    },
    {
     "name": "stderr",
     "output_type": "stream",
     "text": [
      "Iteration: 100%|██████████| 267/267 [00:02<00:00, 124.69it/s]\n",
      "Iteration: 100%|██████████| 267/267 [00:02<00:00, 120.63it/s]\n",
      "Iteration: 100%|██████████| 267/267 [00:02<00:00, 117.61it/s]\n",
      "Iteration:   2%|▏         | 5/267 [00:00<00:06, 40.11it/s]]s]"
     ]
    },
    {
     "name": "stdout",
     "output_type": "stream",
     "text": [
      "{'Train':  best_epoch_indx:32\n",
      " auc:0.8117901462283743 \n",
      " apur:0.7441036877468981 \n",
      " f1:0.683220640827023 \n",
      " precision:0.6251556662515566 \n",
      " recall:0.7531762752984741 \n",
      ", 'Validation':  best_epoch_indx:32\n",
      " auc:0.8117901462283743 \n",
      " apur:0.7441036877468981 \n",
      " f1:0.683220640827023 \n",
      " precision:0.6251556662515566 \n",
      " recall:0.7531762752984741 \n",
      ", 'Test':  best_epoch_indx:32\n",
      " auc:0.8117901462283743 \n",
      " apur:0.7441036877468981 \n",
      " f1:0.683220640827023 \n",
      " precision:0.6251556662515566 \n",
      " recall:0.7531762752984741 \n",
      "}\n",
      "=====Epoch 33\n",
      "Training...\n"
     ]
    },
    {
     "name": "stderr",
     "output_type": "stream",
     "text": [
      "Iteration: 100%|██████████| 267/267 [00:02<00:00, 91.27it/s] \n",
      "Iteration: 100%|██████████| 267/267 [00:03<00:00, 84.99it/s] \n",
      "Iteration: 100%|██████████| 267/267 [00:02<00:00, 96.20it/s] \n",
      "Iteration: 100%|██████████| 267/267 [00:02<00:00, 100.33it/s]\n",
      "Iteration:  51%|█████▏    | 137/267 [00:03<00:03, 37.59it/s]]"
     ]
    },
    {
     "name": "stdout",
     "output_type": "stream",
     "text": [
      "{'Train':  best_epoch_indx:33\n",
      " auc:0.8051369802477777 \n",
      " apur:0.7368594125292083 \n",
      " f1:0.6747646964693559 \n",
      " precision:0.6198749131341209 \n",
      " recall:0.7403198518849554 \n",
      ", 'Validation':  best_epoch_indx:33\n",
      " auc:0.8051369802477777 \n",
      " apur:0.7368594125292083 \n",
      " f1:0.6747646964693559 \n",
      " precision:0.6198749131341209 \n",
      " recall:0.7403198518849554 \n",
      ", 'Test':  best_epoch_indx:33\n",
      " auc:0.8051369802477777 \n",
      " apur:0.7368594125292083 \n",
      " f1:0.6747646964693559 \n",
      " precision:0.6198749131341209 \n",
      " recall:0.7403198518849554 \n",
      "}\n",
      "=====Epoch 34\n",
      "Training...\n"
     ]
    },
    {
     "name": "stderr",
     "output_type": "stream",
     "text": [
      "Iteration: 100%|██████████| 267/267 [00:02<00:00, 119.63it/s]\n",
      "Iteration:  17%|█▋        | 45/267 [00:01<00:05, 41.52it/s]] "
     ]
    },
    {
     "name": "stdout",
     "output_type": "stream",
     "text": [
      "{'Train':  best_epoch_indx:33\n",
      " auc:0.809499765814732 \n",
      " apur:0.7427878586023228 \n",
      " f1:0.6725000777097385 \n",
      " precision:0.6552883450448268 \n",
      " recall:0.6906403626380643 \n",
      ", 'Validation':  best_epoch_indx:33\n",
      " auc:0.809499765814732 \n",
      " apur:0.7427878586023228 \n",
      " f1:0.6725000777097385 \n",
      " precision:0.6552883450448268 \n",
      " recall:0.6906403626380643 \n",
      ", 'Test':  best_epoch_indx:33\n",
      " auc:0.809499765814732 \n",
      " apur:0.7427878586023228 \n",
      " f1:0.6725000777097385 \n",
      " precision:0.6552883450448268 \n",
      " recall:0.6906403626380643 \n",
      "}\n",
      "=====Epoch 34\n",
      "Training...\n"
     ]
    },
    {
     "name": "stderr",
     "output_type": "stream",
     "text": [
      "Iteration: 100%|██████████| 267/267 [00:03<00:00, 84.37it/s]]\n",
      "Iteration: 100%|██████████| 267/267 [00:02<00:00, 98.87it/s] \n",
      "Iteration: 100%|██████████| 267/267 [00:06<00:00, 40.34it/s]\n",
      "Iteration:  29%|██▉       | 77/267 [00:01<00:04, 39.89it/s]]"
     ]
    },
    {
     "name": "stdout",
     "output_type": "stream",
     "text": [
      "{'Train':  best_epoch_indx:33\n",
      " auc:0.8068633870393409 \n",
      " apur:0.737370475350646 \n",
      " f1:0.6719141864329959 \n",
      " precision:0.6378212482790271 \n",
      " recall:0.7098576262529528 \n",
      ", 'Validation':  best_epoch_indx:33\n",
      " auc:0.8068633867104478 \n",
      " apur:0.7373704750709893 \n",
      " f1:0.6719141864329959 \n",
      " precision:0.6378212482790271 \n",
      " recall:0.7098576262529528 \n",
      ", 'Test':  best_epoch_indx:33\n",
      " auc:0.8068633867104478 \n",
      " apur:0.7373704750709893 \n",
      " f1:0.6719141864329959 \n",
      " precision:0.6378212482790271 \n",
      " recall:0.7098576262529528 \n",
      "}\n",
      "=====Epoch 34\n",
      "Training...\n",
      "Evaluating...\n"
     ]
    },
    {
     "name": "stderr",
     "output_type": "stream",
     "text": [
      "Iteration: 100%|██████████| 267/267 [00:02<00:00, 125.49it/s]\n",
      "Iteration: 100%|██████████| 267/267 [00:05<00:00, 44.79it/s]\n",
      "Iteration:  71%|███████   | 189/267 [00:04<00:02, 38.41it/s]"
     ]
    },
    {
     "name": "stdout",
     "output_type": "stream",
     "text": [
      "Evaluating...\n"
     ]
    },
    {
     "name": "stderr",
     "output_type": "stream",
     "text": [
      "Iteration: 100%|██████████| 267/267 [00:03<00:00, 68.55it/s]]\n",
      "Iteration:   2%|▏         | 5/267 [00:00<00:06, 39.28it/s]/s]"
     ]
    },
    {
     "name": "stdout",
     "output_type": "stream",
     "text": [
      "{'Train':  best_epoch_indx:34\n",
      " auc:0.808167500167308 \n",
      " apur:0.7382468861195203 \n",
      " f1:0.672822697193276 \n",
      " precision:0.6426806940044756 \n",
      " recall:0.7059311753814722 \n",
      ", 'Validation':  best_epoch_indx:34\n",
      " auc:0.808167500167308 \n",
      " apur:0.7382468861195203 \n",
      " f1:0.672822697193276 \n",
      " precision:0.6426806940044756 \n",
      " recall:0.7059311753814722 \n",
      ", 'Test':  best_epoch_indx:34\n",
      " auc:0.808167500167308 \n",
      " apur:0.7382468861195203 \n",
      " f1:0.672822697193276 \n",
      " precision:0.6426806940044756 \n",
      " recall:0.7059311753814722 \n",
      "}\n",
      "=====Epoch 35\n",
      "Training...\n",
      "Evaluating...\n"
     ]
    },
    {
     "name": "stderr",
     "output_type": "stream",
     "text": [
      "Iteration: 100%|██████████| 267/267 [00:07<00:00, 37.74it/s]\n",
      "Iteration: 100%|██████████| 267/267 [00:02<00:00, 120.49it/s]\n",
      "Iteration: 100%|██████████| 267/267 [00:02<00:00, 111.87it/s]\n",
      "Iteration: 100%|██████████| 267/267 [00:06<00:00, 43.89it/s]\n",
      "Iteration:   0%|          | 0/267 [00:00<?, ?it/s]8.70it/s]]"
     ]
    },
    {
     "name": "stdout",
     "output_type": "stream",
     "text": [
      "Evaluating...\n"
     ]
    },
    {
     "name": "stderr",
     "output_type": "stream",
     "text": [
      "Iteration: 100%|██████████| 267/267 [00:02<00:00, 103.26it/s]\n",
      "Iteration: 100%|██████████| 267/267 [00:02<00:00, 118.80it/s]\n",
      "Iteration: 100%|██████████| 267/267 [00:02<00:00, 121.29it/s]\n",
      "Iteration: 100%|██████████| 267/267 [00:03<00:00, 87.35it/s] \n",
      "Iteration:  78%|███████▊  | 209/267 [00:05<00:01, 36.00it/s]]"
     ]
    },
    {
     "name": "stdout",
     "output_type": "stream",
     "text": [
      "{'Train':  best_epoch_indx:33\n",
      " auc:0.8119780211525364 \n",
      " apur:0.7430983453089245 \n",
      " f1:0.6806594948550047 \n",
      " precision:0.627770288487463 \n",
      " recall:0.7432803422077507 \n",
      ", 'Validation':  best_epoch_indx:33\n",
      " auc:0.8119780211525364 \n",
      " apur:0.7430983453089245 \n",
      " f1:0.6806594948550047 \n",
      " precision:0.627770288487463 \n",
      " recall:0.7432803422077507 \n",
      ", 'Test':  best_epoch_indx:33\n",
      " auc:0.8119780208236433 \n",
      " apur:0.7430983451734836 \n",
      " f1:0.6806594948550047 \n",
      " precision:0.627770288487463 \n",
      " recall:0.7432803422077507 \n",
      "}\n",
      "=====Epoch 34\n",
      "Training...\n"
     ]
    },
    {
     "name": "stderr",
     "output_type": "stream",
     "text": [
      "Iteration: 100%|██████████| 267/267 [00:02<00:00, 109.19it/s]\n",
      "Iteration: 100%|██████████| 267/267 [00:02<00:00, 114.66it/s]\n",
      "Iteration: 100%|██████████| 267/267 [00:07<00:00, 37.52it/s]]\n",
      "Iteration:  90%|█████████ | 241/267 [00:02<00:00, 112.57it/s]"
     ]
    },
    {
     "name": "stdout",
     "output_type": "stream",
     "text": [
      "Evaluating...\n"
     ]
    },
    {
     "name": "stderr",
     "output_type": "stream",
     "text": [
      "Iteration: 100%|██████████| 267/267 [00:02<00:00, 105.38it/s]\n",
      "Iteration:  48%|████▊     | 128/267 [00:03<00:03, 38.64it/s]]"
     ]
    },
    {
     "name": "stdout",
     "output_type": "stream",
     "text": [
      "{'Train':  best_epoch_indx:34\n",
      " auc:0.8046256575673738 \n",
      " apur:0.7357631922292451 \n",
      " f1:0.6758254716981131 \n",
      " precision:0.6278311834141265 \n",
      " recall:0.7317649312094998 \n",
      ", 'Validation':  best_epoch_indx:34\n",
      " auc:0.8046256575673738 \n",
      " apur:0.7357631922292451 \n",
      " f1:0.6758254716981131 \n",
      " precision:0.6278311834141265 \n",
      " recall:0.7317649312094998 \n",
      ", 'Test':  best_epoch_indx:34\n",
      " auc:0.8046256575673738 \n",
      " apur:0.7357631922292451 \n",
      " f1:0.6758254716981131 \n",
      " precision:0.6278311834141265 \n",
      " recall:0.7317649312094998 \n",
      "}\n",
      "=====Epoch 35\n",
      "Training...\n"
     ]
    },
    {
     "name": "stderr",
     "output_type": "stream",
     "text": [
      "Iteration: 100%|██████████| 267/267 [00:02<00:00, 124.04it/s]\n",
      "Iteration: 100%|██████████| 267/267 [00:02<00:00, 115.72it/s]\n",
      "Iteration: 100%|██████████| 267/267 [00:02<00:00, 113.87it/s]\n",
      "Iteration:  30%|██▉       | 80/267 [00:01<00:04, 41.45it/s]]"
     ]
    },
    {
     "name": "stdout",
     "output_type": "stream",
     "text": [
      "{'Train':  best_epoch_indx:34\n",
      " auc:0.8016741242807435 \n",
      " apur:0.7323112379622287 \n",
      " f1:0.6717967438125138 \n",
      " precision:0.6190694044511423 \n",
      " recall:0.734342080061291 \n",
      ", 'Validation':  best_epoch_indx:34\n",
      " auc:0.8016741242807435 \n",
      " apur:0.7323112379621948 \n",
      " f1:0.6717967438125138 \n",
      " precision:0.6190694044511423 \n",
      " recall:0.734342080061291 \n",
      ", 'Test':  best_epoch_indx:34\n",
      " auc:0.8016741242807435 \n",
      " apur:0.7323112379622287 \n",
      " f1:0.6717967438125138 \n",
      " precision:0.6190694044511423 \n",
      " recall:0.734342080061291 \n",
      "}\n",
      "=====Epoch 35\n",
      "Training...\n"
     ]
    },
    {
     "name": "stderr",
     "output_type": "stream",
     "text": [
      "\r",
      "Iteration:  34%|███▍      | 91/267 [00:00<00:01, 125.19it/s]\r",
      "Iteration:   4%|▎         | 10/267 [00:00<00:05, 43.80it/s]\r",
      "Iteration:  78%|███████▊  | 208/267 [00:05<00:01, 39.39it/s]\r",
      "Iteration:  32%|███▏      | 85/267 [00:02<00:04, 43.00it/s]\r",
      "Iteration:   0%|          | 0/267 [00:00<?, ?it/s]\r",
      "Iteration:  39%|███▉      | 104/267 [00:00<00:01, 125.90it/s]\r",
      "Iteration:  80%|███████▉  | 213/267 [00:05<00:01, 40.93it/s]\r",
      "Iteration:  34%|███▎      | 90/267 [00:02<00:04, 43.74it/s]\r",
      "Iteration:   6%|▌         | 15/267 [00:00<00:06, 40.14it/s]"
     ]
    },
    {
     "name": "stdout",
     "output_type": "stream",
     "text": [
      "{'Train':  best_epoch_indx:34\n",
      " auc:0.7988857509416966 \n",
      " apur:0.7308325945841125 \n",
      " f1:0.6628081060641138 \n",
      " precision:0.6416255789630958 \n",
      " recall:0.6854370171742322 \n",
      ", 'Validation':  best_epoch_indx:34\n",
      " auc:0.7988857509416966 \n",
      " apur:0.7308325945841125 \n",
      " f1:0.6628081060641138 \n",
      " precision:0.6416255789630958 \n",
      " recall:0.6854370171742322 \n",
      ", 'Test':  best_epoch_indx:34\n",
      " auc:0.7988857509416966 \n",
      " apur:0.7308325945841125 \n",
      " f1:0.6628081060641138 \n",
      " precision:0.6416255789630958 \n",
      " recall:0.6854370171742322 \n",
      "}\n",
      "=====Epoch 35\n",
      "Training...\n"
     ]
    },
    {
     "name": "stderr",
     "output_type": "stream",
     "text": [
      "Iteration: 100%|██████████| 267/267 [00:06<00:00, 40.13it/s]]\n",
      "Iteration:  22%|██▏       | 60/267 [00:01<00:04, 45.46it/s]]"
     ]
    },
    {
     "name": "stdout",
     "output_type": "stream",
     "text": [
      "Evaluating...\n"
     ]
    },
    {
     "name": "stderr",
     "output_type": "stream",
     "text": [
      "Iteration: 100%|██████████| 267/267 [00:02<00:00, 119.83it/s]\n",
      "Iteration: 100%|██████████| 267/267 [00:02<00:00, 120.98it/s]\n",
      "Iteration: 100%|██████████| 267/267 [00:06<00:00, 40.34it/s]]\n",
      "Iteration:  79%|███████▊  | 210/267 [00:04<00:01, 44.65it/s]]"
     ]
    },
    {
     "name": "stdout",
     "output_type": "stream",
     "text": [
      "Evaluating...\n"
     ]
    },
    {
     "name": "stderr",
     "output_type": "stream",
     "text": [
      "Iteration: 100%|██████████| 267/267 [00:02<00:00, 110.77it/s]\n",
      "Iteration:   2%|▏         | 5/267 [00:00<00:06, 43.64it/s]/s]"
     ]
    },
    {
     "name": "stdout",
     "output_type": "stream",
     "text": [
      "{'Train':  best_epoch_indx:35\n",
      " auc:0.8066023613551443 \n",
      " apur:0.7382107011867473 \n",
      " f1:0.678349826351047 \n",
      " precision:0.6225760849270492 \n",
      " recall:0.7450999170018515 \n",
      ", 'Validation':  best_epoch_indx:35\n",
      " auc:0.8066023613551443 \n",
      " apur:0.7382107011867471 \n",
      " f1:0.678349826351047 \n",
      " precision:0.6225760849270492 \n",
      " recall:0.7450999170018515 \n",
      ", 'Test':  best_epoch_indx:35\n",
      " auc:0.8066023613551443 \n",
      " apur:0.7382107011867473 \n",
      " f1:0.678349826351047 \n",
      " precision:0.6225760849270492 \n",
      " recall:0.7450999170018515 \n",
      "}\n",
      "=====Epoch 36\n",
      "Training...\n"
     ]
    },
    {
     "name": "stderr",
     "output_type": "stream",
     "text": [
      "Iteration: 100%|██████████| 267/267 [00:06<00:00, 42.64it/s]]\n",
      "Iteration:   2%|▏         | 6/267 [00:00<00:04, 57.31it/s]/s]"
     ]
    },
    {
     "name": "stdout",
     "output_type": "stream",
     "text": [
      "Evaluating...\n"
     ]
    },
    {
     "name": "stderr",
     "output_type": "stream",
     "text": [
      "Iteration: 100%|██████████| 267/267 [00:02<00:00, 120.86it/s]\n",
      "Iteration: 100%|██████████| 267/267 [00:02<00:00, 128.05it/s]\n",
      "Iteration: 100%|██████████| 267/267 [00:07<00:00, 36.57it/s]\n",
      "Iteration:  25%|██▍       | 66/267 [00:00<00:02, 70.67it/s]"
     ]
    },
    {
     "name": "stdout",
     "output_type": "stream",
     "text": [
      "Evaluating...\n"
     ]
    },
    {
     "name": "stderr",
     "output_type": "stream",
     "text": [
      "Iteration: 100%|██████████| 267/267 [00:02<00:00, 101.07it/s]\n",
      "Iteration: 100%|██████████| 267/267 [00:02<00:00, 120.91it/s]\n",
      "Iteration: 100%|██████████| 267/267 [00:03<00:00, 73.38it/s]]\n",
      "Iteration: 100%|██████████| 267/267 [00:05<00:00, 45.56it/s]]\n",
      "Iteration:  15%|█▍        | 39/267 [00:00<00:03, 69.04it/s]"
     ]
    },
    {
     "name": "stdout",
     "output_type": "stream",
     "text": [
      "Evaluating...\n"
     ]
    },
    {
     "name": "stderr",
     "output_type": "stream",
     "text": [
      "Iteration: 100%|██████████| 267/267 [00:02<00:00, 120.38it/s]\n",
      "Iteration: 100%|██████████| 267/267 [00:03<00:00, 67.73it/s] \n",
      "Iteration:   0%|          | 0/267 [00:00<?, ?it/s]1.53it/s]s]"
     ]
    },
    {
     "name": "stdout",
     "output_type": "stream",
     "text": [
      "{'Train':  best_epoch_indx:34\n",
      " auc:0.8034634897539734 \n",
      " apur:0.7352177929866555 \n",
      " f1:0.6718924638242701 \n",
      " precision:0.630097548704475 \n",
      " recall:0.719625869884441 \n",
      ", 'Validation':  best_epoch_indx:34\n",
      " auc:0.8034634897539734 \n",
      " apur:0.7352177929866555 \n",
      " f1:0.6718924638242701 \n",
      " precision:0.630097548704475 \n",
      " recall:0.719625869884441 \n",
      ", 'Test':  best_epoch_indx:34\n",
      " auc:0.8034634897539734 \n",
      " apur:0.7352177929866555 \n",
      " f1:0.6718924638242701 \n",
      " precision:0.630097548704475 \n",
      " recall:0.719625869884441 \n",
      "}\n",
      "=====Epoch 35\n",
      "Training...\n"
     ]
    },
    {
     "name": "stderr",
     "output_type": "stream",
     "text": [
      "Iteration: 100%|██████████| 267/267 [00:02<00:00, 116.27it/s]\n",
      "Iteration: 100%|██████████| 267/267 [00:03<00:00, 81.12it/s] \n",
      "Iteration:   0%|          | 0/267 [00:00<?, ?it/s]1.56it/s]]]"
     ]
    },
    {
     "name": "stdout",
     "output_type": "stream",
     "text": [
      "{'Train':  best_epoch_indx:35\n",
      " auc:0.8100346187452401 \n",
      " apur:0.7421771470219694 \n",
      " f1:0.6814658803706825 \n",
      " precision:0.60830220840749 \n",
      " recall:0.77463529862419 \n",
      ", 'Validation':  best_epoch_indx:35\n",
      " auc:0.8100346187452401 \n",
      " apur:0.7421771470219596 \n",
      " f1:0.6814658803706825 \n",
      " precision:0.60830220840749 \n",
      " recall:0.77463529862419 \n",
      ", 'Test':  best_epoch_indx:35\n",
      " auc:0.8100346184163507 \n",
      " apur:0.7421771468733396 \n",
      " f1:0.6814658803706825 \n",
      " precision:0.60830220840749 \n",
      " recall:0.77463529862419 \n",
      "}\n",
      "=====Epoch 36\n",
      "Training...\n"
     ]
    },
    {
     "name": "stderr",
     "output_type": "stream",
     "text": [
      "Iteration: 100%|██████████| 267/267 [00:02<00:00, 118.88it/s]\n",
      "Iteration: 100%|██████████| 267/267 [00:03<00:00, 67.55it/s]\n",
      "Iteration:  16%|█▌        | 42/267 [00:01<00:05, 38.18it/s]]]"
     ]
    },
    {
     "name": "stdout",
     "output_type": "stream",
     "text": [
      "{'Train':  best_epoch_indx:35\n",
      " auc:0.8129502956084653 \n",
      " apur:0.7442234448985409 \n",
      " f1:0.6858955709793165 \n",
      " precision:0.605893726901143 \n",
      " recall:0.7902381408414736 \n",
      ", 'Validation':  best_epoch_indx:35\n",
      " auc:0.8129502956084653 \n",
      " apur:0.7442234448985409 \n",
      " f1:0.6858955709793165 \n",
      " precision:0.605893726901143 \n",
      " recall:0.7902381408414736 \n",
      ", 'Test':  best_epoch_indx:35\n",
      " auc:0.8129502956084653 \n",
      " apur:0.7442234448985215 \n",
      " f1:0.6858955709793165 \n",
      " precision:0.605893726901143 \n",
      " recall:0.7902381408414736 \n",
      "}\n",
      "=====Epoch 36\n",
      "Training...\n"
     ]
    },
    {
     "name": "stderr",
     "output_type": "stream",
     "text": [
      "Iteration: 100%|██████████| 267/267 [00:02<00:00, 113.25it/s]\n",
      "Iteration: 100%|██████████| 267/267 [00:06<00:00, 42.71it/s]]\n",
      "Iteration:  11%|█         | 30/267 [00:00<00:03, 66.40it/s]]]"
     ]
    },
    {
     "name": "stdout",
     "output_type": "stream",
     "text": [
      "Evaluating...\n"
     ]
    },
    {
     "name": "stderr",
     "output_type": "stream",
     "text": [
      "Iteration: 100%|██████████| 267/267 [00:02<00:00, 101.70it/s]\n",
      "Iteration:  73%|███████▎  | 194/267 [00:01<00:00, 105.13it/s]"
     ]
    },
    {
     "name": "stdout",
     "output_type": "stream",
     "text": [
      "{'Train':  best_epoch_indx:35\n",
      " auc:0.8099688198043545 \n",
      " apur:0.7403097838819412 \n",
      " f1:0.6738942426488758 \n",
      " precision:0.6527254233231616 \n",
      " recall:0.6964821553980719 \n",
      ", 'Validation':  best_epoch_indx:35\n",
      " auc:0.8099688198043545 \n",
      " apur:0.7403097838819412 \n",
      " f1:0.6738942426488758 \n",
      " precision:0.6527254233231616 \n",
      " recall:0.6964821553980719 \n",
      ", 'Test':  best_epoch_indx:35\n",
      " auc:0.8099688198043545 \n",
      " apur:0.7403097838819412 \n",
      " f1:0.6738942426488758 \n",
      " precision:0.6527254233231616 \n",
      " recall:0.6964821553980719 \n",
      "}\n",
      "=====Epoch 36\n",
      "Training...\n"
     ]
    },
    {
     "name": "stderr",
     "output_type": "stream",
     "text": [
      "Iteration: 100%|██████████| 267/267 [00:02<00:00, 103.48it/s]\n",
      "Iteration: 100%|██████████| 267/267 [00:02<00:00, 102.50it/s]\n",
      "Iteration: 100%|██████████| 267/267 [00:06<00:00, 44.37it/s]\n",
      "Iteration:   0%|          | 0/267 [00:00<?, ?it/s]"
     ]
    },
    {
     "name": "stdout",
     "output_type": "stream",
     "text": [
      "{'Train':  best_epoch_indx:36\n",
      " auc:0.817236525936859 \n",
      " apur:0.7532795018047791 \n",
      " f1:0.6789456476046647 \n",
      " precision:0.6626751360058354 \n",
      " recall:0.6960352422907489 \n",
      ", 'Validation':  best_epoch_indx:36\n",
      " auc:0.817236525936859 \n",
      " apur:0.7532795018047791 \n",
      " f1:0.6789456476046647 \n",
      " precision:0.6626751360058354 \n",
      " recall:0.6960352422907489 \n",
      ", 'Test':  best_epoch_indx:36\n",
      " auc:0.817236525936859 \n",
      " apur:0.7532795018047791 \n",
      " f1:0.6789456476046647 \n",
      " precision:0.6626751360058354 \n",
      " recall:0.6960352422907489 \n",
      "}\n",
      "=====Epoch 37\n",
      "Training...\n",
      "Evaluating...\n"
     ]
    },
    {
     "name": "stderr",
     "output_type": "stream",
     "text": [
      "\r",
      "Iteration:   4%|▍         | 11/267 [00:00<00:05, 47.50it/s]\r",
      "Iteration:  26%|██▌       | 70/267 [00:01<00:05, 38.65it/s]\r",
      "Iteration: 100%|██████████| 267/267 [00:07<00:00, 37.42it/s]\n",
      "\r",
      "Iteration:   0%|          | 0/267 [00:00<?, ?it/s]\r",
      "Iteration:   2%|▏         | 5/267 [00:00<00:06, 40.16it/s]\r",
      "Iteration:   6%|▌         | 16/267 [00:00<00:05, 46.64it/s]\r",
      "Iteration:  28%|██▊       | 75/267 [00:01<00:04, 39.21it/s]\r",
      "Iteration:   7%|▋         | 18/267 [00:00<00:02, 87.16it/s]\r",
      "Iteration:   3%|▎         | 8/267 [00:00<00:03, 76.66it/s]\r",
      "Iteration:   0%|          | 0/267 [00:00<?, ?it/s]"
     ]
    },
    {
     "name": "stdout",
     "output_type": "stream",
     "text": [
      "Evaluating...\n"
     ]
    },
    {
     "name": "stderr",
     "output_type": "stream",
     "text": [
      "Iteration: 100%|██████████| 267/267 [00:02<00:00, 117.17it/s]\n",
      "Iteration: 100%|██████████| 267/267 [00:02<00:00, 120.41it/s]\n",
      "Iteration: 100%|██████████| 267/267 [00:03<00:00, 66.79it/s]]\n",
      "Iteration: 100%|██████████| 267/267 [00:02<00:00, 126.18it/s]\n",
      "Iteration: 100%|██████████| 267/267 [00:06<00:00, 38.30it/s]\n",
      "Iteration:   3%|▎         | 7/267 [00:00<00:04, 60.48it/s]/s]"
     ]
    },
    {
     "name": "stdout",
     "output_type": "stream",
     "text": [
      "Evaluating...\n"
     ]
    },
    {
     "name": "stderr",
     "output_type": "stream",
     "text": [
      "Iteration: 100%|██████████| 267/267 [00:05<00:00, 45.09it/s]]\n",
      "Iteration:  15%|█▍        | 39/267 [00:00<00:03, 72.97it/s]s]"
     ]
    },
    {
     "name": "stdout",
     "output_type": "stream",
     "text": [
      "Evaluating...\n"
     ]
    },
    {
     "name": "stderr",
     "output_type": "stream",
     "text": [
      "Iteration: 100%|██████████| 267/267 [00:02<00:00, 119.86it/s]\n",
      "Iteration:  12%|█▏        | 31/267 [00:00<00:02, 80.01it/s]s]"
     ]
    },
    {
     "name": "stdout",
     "output_type": "stream",
     "text": [
      "{'Train':  best_epoch_indx:35\n",
      " auc:0.8152283625205572 \n",
      " apur:0.7482200269046453 \n",
      " f1:0.6852209804235034 \n",
      " precision:0.6289586723940129 \n",
      " recall:0.7525378280022984 \n",
      ", 'Validation':  best_epoch_indx:35\n",
      " auc:0.8152283625205573 \n",
      " apur:0.7482200269046454 \n",
      " f1:0.6852209804235034 \n",
      " precision:0.6289586723940129 \n",
      " recall:0.7525378280022984 \n",
      ", 'Test':  best_epoch_indx:35\n",
      " auc:0.8152283625205573 \n",
      " apur:0.7482200269048009 \n",
      " f1:0.6852209804235034 \n",
      " precision:0.6289586723940129 \n",
      " recall:0.7525378280022984 \n",
      "}\n",
      "=====Epoch 36\n",
      "Training...\n"
     ]
    },
    {
     "name": "stderr",
     "output_type": "stream",
     "text": [
      "Iteration: 100%|██████████| 267/267 [00:02<00:00, 125.64it/s]\n",
      "Iteration: 100%|██████████| 267/267 [00:02<00:00, 98.86it/s] \n",
      "Iteration: 100%|██████████| 267/267 [00:02<00:00, 110.57it/s]\n",
      "Iteration: 100%|██████████| 267/267 [00:03<00:00, 71.30it/s]\n",
      "Iteration:  47%|████▋     | 126/267 [00:01<00:01, 119.36it/s]"
     ]
    },
    {
     "name": "stdout",
     "output_type": "stream",
     "text": [
      "{'Train':  best_epoch_indx:36\n",
      " auc:0.8171284612003291 \n",
      " apur:0.7531060384850494 \n",
      " f1:0.6839053113662048 \n",
      " precision:0.6401213605745143 \n",
      " recall:0.7341186235076295 \n",
      ", 'Validation':  best_epoch_indx:36\n",
      " auc:0.817128460871436 \n",
      " apur:0.7531060382282533 \n",
      " f1:0.6839053113662048 \n",
      " precision:0.6401213605745143 \n",
      " recall:0.7341186235076295 \n",
      ", 'Test':  best_epoch_indx:36\n",
      " auc:0.817128460871436 \n",
      " apur:0.7531060382282533 \n",
      " f1:0.6839053113662048 \n",
      " precision:0.6401213605745143 \n",
      " recall:0.7341186235076295 \n",
      "}\n",
      "=====Epoch 37\n",
      "Training...\n"
     ]
    },
    {
     "name": "stderr",
     "output_type": "stream",
     "text": [
      "Iteration: 100%|██████████| 267/267 [00:02<00:00, 120.59it/s]\n",
      "Iteration: 100%|██████████| 267/267 [00:02<00:00, 108.89it/s]\n",
      "Iteration: 100%|██████████| 267/267 [00:06<00:00, 41.91it/s]\n",
      "Iteration:  52%|█████▏    | 139/267 [00:03<00:03, 38.36it/s]"
     ]
    },
    {
     "name": "stdout",
     "output_type": "stream",
     "text": [
      "Evaluating...\n"
     ]
    },
    {
     "name": "stderr",
     "output_type": "stream",
     "text": [
      "Iteration: 100%|██████████| 267/267 [00:02<00:00, 121.34it/s]\n",
      "Iteration: 100%|██████████| 267/267 [00:03<00:00, 77.74it/s] \n",
      "Iteration: 100%|██████████| 267/267 [00:02<00:00, 119.64it/s]\n",
      "Iteration:  85%|████████▍ | 226/267 [00:03<00:00, 73.08it/s]"
     ]
    },
    {
     "name": "stdout",
     "output_type": "stream",
     "text": [
      "{'Train':  best_epoch_indx:36\n",
      " auc:0.8234212611253691 \n",
      " apur:0.7579479351144861 \n",
      " f1:0.6879360998898274 \n",
      " precision:0.6606418621054487 \n",
      " recall:0.7175828385366788 \n",
      ", 'Validation':  best_epoch_indx:36\n",
      " auc:0.8234212611253691 \n",
      " apur:0.7579479351144861 \n",
      " f1:0.6879360998898274 \n",
      " precision:0.6606418621054487 \n",
      " recall:0.7175828385366788 \n",
      ", 'Test':  best_epoch_indx:36\n",
      " auc:0.8234212611253691 \n",
      " apur:0.7579479351144861 \n",
      " f1:0.6879360998898274 \n",
      " precision:0.6606418621054487 \n",
      " recall:0.7175828385366788 \n",
      "}\n",
      "=====Epoch 37\n",
      "Training...\n"
     ]
    },
    {
     "name": "stderr",
     "output_type": "stream",
     "text": [
      "\r",
      "Iteration:   2%|▏         | 5/267 [00:00<00:06, 43.13it/s]\r",
      "Iteration:  97%|█████████▋| 259/267 [00:06<00:00, 45.63it/s]\r",
      "Iteration:  89%|████████▉ | 238/267 [00:03<00:00, 85.22it/s]\r",
      "Iteration:   4%|▎         | 10/267 [00:00<00:06, 42.26it/s]\r",
      "Iteration:  99%|█████████▉| 264/267 [00:06<00:00, 45.65it/s]\r",
      "Iteration:  94%|█████████▎| 250/267 [00:03<00:00, 94.62it/s]\r",
      "Iteration: 100%|██████████| 267/267 [00:06<00:00, 41.64it/s]\n",
      "\r",
      "Iteration:   0%|          | 0/267 [00:00<?, ?it/s]"
     ]
    },
    {
     "name": "stdout",
     "output_type": "stream",
     "text": [
      "Evaluating...\n",
      "{'Train':  best_epoch_indx:36\n",
      " auc:0.8253797962145206 \n",
      " apur:0.7593968637513645 \n",
      " f1:0.6944008137743272 \n",
      " precision:0.6533978942627104 \n",
      " recall:0.7408944361094264 \n",
      ", 'Validation':  best_epoch_indx:36\n",
      " auc:0.8253797962145204 \n",
      " apur:0.7593968637513645 \n",
      " f1:0.6944008137743272 \n",
      " precision:0.6533978942627104 \n",
      " recall:0.7408944361094264 \n",
      ", 'Test':  best_epoch_indx:36\n",
      " auc:0.82537979654341 \n",
      " apur:0.7593968639499109 \n",
      " f1:0.6944008137743272 \n",
      " precision:0.6533978942627104 \n",
      " recall:0.7408944361094264 \n",
      "}\n",
      "=====Epoch 37\n",
      "Training...\n"
     ]
    },
    {
     "name": "stderr",
     "output_type": "stream",
     "text": [
      "Iteration: 100%|██████████| 267/267 [00:03<00:00, 68.53it/s] \n",
      "Iteration:  14%|█▍        | 38/267 [00:01<00:06, 36.94it/s]s]"
     ]
    },
    {
     "name": "stdout",
     "output_type": "stream",
     "text": [
      "{'Train':  best_epoch_indx:37\n",
      " auc:0.8263418730165033 \n",
      " apur:0.7638526959117229 \n",
      " f1:0.690404179268628 \n",
      " precision:0.6619507908611599 \n",
      " recall:0.721413522313733 \n",
      ", 'Validation':  best_epoch_indx:37\n",
      " auc:0.8263418730165033 \n",
      " apur:0.7638526959117229 \n",
      " f1:0.690404179268628 \n",
      " precision:0.6619507908611599 \n",
      " recall:0.721413522313733 \n",
      ", 'Test':  best_epoch_indx:37\n",
      " auc:0.8263418730165033 \n",
      " apur:0.7638526953498616 \n",
      " f1:0.690404179268628 \n",
      " precision:0.6619507908611599 \n",
      " recall:0.721413522313733 \n",
      "}\n",
      "=====Epoch 38\n",
      "Training...\n"
     ]
    },
    {
     "name": "stderr",
     "output_type": "stream",
     "text": [
      "Iteration: 100%|██████████| 267/267 [00:02<00:00, 125.54it/s]\n",
      "Iteration: 100%|██████████| 267/267 [00:02<00:00, 122.26it/s]\n",
      "Iteration: 100%|██████████| 267/267 [00:06<00:00, 41.37it/s]\n",
      "Iteration:  98%|█████████▊| 261/267 [00:06<00:00, 45.66it/s]"
     ]
    },
    {
     "name": "stdout",
     "output_type": "stream",
     "text": [
      "Evaluating...\n"
     ]
    },
    {
     "name": "stderr",
     "output_type": "stream",
     "text": [
      "\r",
      "Iteration:  78%|███████▊  | 208/267 [00:03<00:01, 58.26it/s]\r",
      "Iteration:  47%|████▋     | 125/267 [00:01<00:01, 71.94it/s]\r",
      "Iteration:   9%|▉         | 25/267 [00:00<00:01, 124.52it/s]\r",
      "Iteration:  91%|█████████▏| 244/267 [00:05<00:00, 41.90it/s]\r",
      "Iteration: 100%|█████████▉| 266/267 [00:06<00:00, 45.69it/s]\r",
      "Iteration: 100%|██████████| 267/267 [00:06<00:00, 41.92it/s]\n",
      "\r",
      "Iteration:   0%|          | 0/267 [00:00<?, ?it/s]\r",
      "Iteration:  80%|████████  | 214/267 [00:03<00:00, 58.14it/s]\r",
      "Iteration:  50%|████▉     | 133/267 [00:01<00:01, 73.40it/s]\r",
      "Iteration:  14%|█▍        | 38/267 [00:00<00:01, 126.80it/s]\r",
      "Iteration:  93%|█████████▎| 249/267 [00:05<00:00, 42.93it/s]\r",
      "Iteration:   4%|▍         | 12/267 [00:00<00:02, 119.21it/s]"
     ]
    },
    {
     "name": "stdout",
     "output_type": "stream",
     "text": [
      "Evaluating...\n"
     ]
    },
    {
     "name": "stderr",
     "output_type": "stream",
     "text": [
      "Iteration: 100%|██████████| 267/267 [00:05<00:00, 44.98it/s]\n",
      "Iteration:  24%|██▍       | 64/267 [00:00<00:01, 126.83it/s]"
     ]
    },
    {
     "name": "stdout",
     "output_type": "stream",
     "text": [
      "Evaluating...\n"
     ]
    },
    {
     "name": "stderr",
     "output_type": "stream",
     "text": [
      "Iteration: 100%|██████████| 267/267 [00:04<00:00, 61.57it/s]]\n",
      "Iteration: 100%|██████████| 267/267 [00:03<00:00, 68.74it/s]]\n",
      "Iteration: 100%|██████████| 267/267 [00:02<00:00, 126.17it/s]\n",
      "Iteration: 100%|██████████| 267/267 [00:02<00:00, 103.15it/s]\n",
      "Iteration: 100%|██████████| 267/267 [00:02<00:00, 120.93it/s]\n",
      "Iteration:   0%|          | 0/267 [00:00<?, ?it/s]1.66it/s]"
     ]
    },
    {
     "name": "stdout",
     "output_type": "stream",
     "text": [
      "{'Train':  best_epoch_indx:36\n",
      " auc:0.8226327353043688 \n",
      " apur:0.7587011016172607 \n",
      " f1:0.6914476634027105 \n",
      " precision:0.6321370957078254 \n",
      " recall:0.7630402860243887 \n",
      ", 'Validation':  best_epoch_indx:36\n",
      " auc:0.8226327353043688 \n",
      " apur:0.7587011016172607 \n",
      " f1:0.6914476634027105 \n",
      " precision:0.6321370957078254 \n",
      " recall:0.7630402860243887 \n",
      ", 'Test':  best_epoch_indx:36\n",
      " auc:0.8226327353043688 \n",
      " apur:0.7587011016172607 \n",
      " f1:0.6914476634027105 \n",
      " precision:0.6321370957078254 \n",
      " recall:0.7630402860243887 \n",
      "}\n",
      "=====Epoch 37\n",
      "Training...\n"
     ]
    },
    {
     "name": "stderr",
     "output_type": "stream",
     "text": [
      "Iteration: 100%|██████████| 267/267 [00:02<00:00, 110.44it/s]\n",
      "Iteration: 100%|██████████| 267/267 [00:02<00:00, 120.19it/s]\n",
      "Iteration:   0%|          | 0/267 [00:00<?, ?it/s]68.04it/s]"
     ]
    },
    {
     "name": "stdout",
     "output_type": "stream",
     "text": [
      "{'Train':  best_epoch_indx:37\n",
      " auc:0.830053170898554 \n",
      " apur:0.7672136490358206 \n",
      " f1:0.6966654233494964 \n",
      " precision:0.6539959102495868 \n",
      " recall:0.7452914511907042 \n",
      ", 'Validation':  best_epoch_indx:37\n",
      " auc:0.830053170898554 \n",
      " apur:0.7672136490358206 \n",
      " f1:0.6966654233494964 \n",
      " precision:0.6539959102495868 \n",
      " recall:0.7452914511907042 \n",
      ", 'Test':  best_epoch_indx:37\n",
      " auc:0.830053170898554 \n",
      " apur:0.7672136490358206 \n",
      " f1:0.6966654233494964 \n",
      " precision:0.6539959102495868 \n",
      " recall:0.7452914511907042 \n",
      "}\n",
      "=====Epoch 38\n",
      "Training...\n"
     ]
    },
    {
     "name": "stderr",
     "output_type": "stream",
     "text": [
      "Iteration: 100%|██████████| 267/267 [00:03<00:00, 75.29it/s] \n",
      "Iteration: 100%|██████████| 267/267 [00:03<00:00, 73.40it/s] \n",
      "Iteration: 100%|██████████| 267/267 [00:05<00:00, 44.66it/s]]\n",
      "Iteration:   0%|          | 0/267 [00:00<?, ?it/s]"
     ]
    },
    {
     "name": "stdout",
     "output_type": "stream",
     "text": [
      "Evaluating...\n"
     ]
    },
    {
     "name": "stderr",
     "output_type": "stream",
     "text": [
      "Iteration: 100%|██████████| 267/267 [00:02<00:00, 110.65it/s]\n",
      "Iteration: 100%|██████████| 267/267 [00:02<00:00, 118.26it/s]\n",
      "Iteration:  60%|█████▉    | 160/267 [00:04<00:03, 35.16it/s]]"
     ]
    },
    {
     "name": "stdout",
     "output_type": "stream",
     "text": [
      "{'Train':  best_epoch_indx:38\n",
      " auc:0.8378726482218941 \n",
      " apur:0.7764183178681642 \n",
      " f1:0.7047133153382967 \n",
      " precision:0.6581163434903047 \n",
      " recall:0.7584115431271149 \n",
      ", 'Validation':  best_epoch_indx:38\n",
      " auc:0.8378726482218941 \n",
      " apur:0.7764183178681642 \n",
      " f1:0.7047133153382967 \n",
      " precision:0.6581163434903047 \n",
      " recall:0.7584115431271149 \n",
      ", 'Test':  best_epoch_indx:38\n",
      " auc:0.8378726482218941 \n",
      " apur:0.7764183178681642 \n",
      " f1:0.7047133153382967 \n",
      " precision:0.6581163434903047 \n",
      " recall:0.7584115431271149 \n",
      "}\n",
      "=====Epoch 39\n",
      "Training...\n"
     ]
    },
    {
     "name": "stderr",
     "output_type": "stream",
     "text": [
      "Iteration: 100%|██████████| 267/267 [00:02<00:00, 123.04it/s]\n",
      "Iteration:   2%|▏         | 6/267 [00:00<00:05, 49.92it/s]s]"
     ]
    },
    {
     "name": "stdout",
     "output_type": "stream",
     "text": [
      "{'Train':  best_epoch_indx:37\n",
      " auc:0.8318568618438109 \n",
      " apur:0.7698125606226365 \n",
      " f1:0.6999911187424139 \n",
      " precision:0.6526179238773426 \n",
      " recall:0.7547802215341399 \n",
      ", 'Validation':  best_epoch_indx:37\n",
      " auc:0.8318568618438109 \n",
      " apur:0.7698125606226365 \n",
      " f1:0.6999911187424139 \n",
      " precision:0.6526179238773426 \n",
      " recall:0.7547802215341399 \n",
      ", 'Test':  best_epoch_indx:37\n",
      " auc:0.8318568618438109 \n",
      " apur:0.7698125606226365 \n",
      " f1:0.6999911187424139 \n",
      " precision:0.6526179238773426 \n",
      " recall:0.7547802215341399 \n",
      "}\n",
      "=====Epoch 38\n",
      "Training...\n"
     ]
    },
    {
     "name": "stderr",
     "output_type": "stream",
     "text": [
      "Iteration: 100%|██████████| 267/267 [00:03<00:00, 75.73it/s] \n",
      "Iteration: 100%|██████████| 267/267 [00:07<00:00, 35.08it/s]\n"
     ]
    },
    {
     "name": "stdout",
     "output_type": "stream",
     "text": [
      "Evaluating...\n",
      "{'Train':  best_epoch_indx:37\n",
      " auc:0.8288014376377004 \n",
      " apur:0.7656841004846631 \n",
      " f1:0.6979260064968471 \n",
      " precision:0.6467703707739668 \n",
      " recall:0.7578688629253655 \n",
      ", 'Validation':  best_epoch_indx:37\n",
      " auc:0.8288014379666004 \n",
      " apur:0.7656841015886583 \n",
      " f1:0.6979260064968471 \n",
      " precision:0.6467703707739668 \n",
      " recall:0.7578688629253655 \n",
      ", 'Test':  best_epoch_indx:37\n",
      " auc:0.8288014376377004 \n",
      " apur:0.7656841004846631 \n",
      " f1:0.6979260064968471 \n",
      " precision:0.6467703707739668 \n",
      " recall:0.7578688629253655 \n",
      "}\n",
      "=====Epoch 38\n",
      "Training...\n"
     ]
    },
    {
     "name": "stderr",
     "output_type": "stream",
     "text": [
      "Iteration: 100%|██████████| 267/267 [00:05<00:00, 45.02it/s]\n",
      "Iteration: 100%|██████████| 267/267 [00:04<00:00, 61.26it/s]\n",
      "Iteration:  46%|████▌     | 122/267 [00:02<00:03, 45.75it/s]"
     ]
    },
    {
     "name": "stdout",
     "output_type": "stream",
     "text": [
      "Evaluating...\n"
     ]
    },
    {
     "name": "stderr",
     "output_type": "stream",
     "text": [
      "Iteration: 100%|██████████| 267/267 [00:05<00:00, 45.24it/s]]\n",
      "Iteration:   4%|▍         | 12/267 [00:00<00:02, 117.84it/s]]"
     ]
    },
    {
     "name": "stdout",
     "output_type": "stream",
     "text": [
      "Evaluating...\n"
     ]
    },
    {
     "name": "stderr",
     "output_type": "stream",
     "text": [
      "Iteration: 100%|██████████| 267/267 [00:03<00:00, 68.98it/s]]\n",
      "Iteration: 100%|██████████| 267/267 [00:02<00:00, 127.41it/s]\n",
      "Iteration: 100%|██████████| 267/267 [00:02<00:00, 119.66it/s]\n",
      "Iteration: 100%|██████████| 267/267 [00:05<00:00, 45.30it/s]\n",
      "Iteration:  19%|█▉        | 51/267 [00:00<00:02, 101.73it/s]"
     ]
    },
    {
     "name": "stdout",
     "output_type": "stream",
     "text": [
      "Evaluating...\n"
     ]
    },
    {
     "name": "stderr",
     "output_type": "stream",
     "text": [
      "Iteration: 100%|██████████| 267/267 [00:02<00:00, 120.32it/s]\n",
      "Iteration: 100%|██████████| 267/267 [00:02<00:00, 119.22it/s]\n",
      "Iteration: 100%|██████████| 267/267 [00:02<00:00, 121.41it/s]\n",
      "Iteration: 100%|██████████| 267/267 [00:04<00:00, 65.11it/s] \n",
      "Iteration:  27%|██▋       | 72/267 [00:01<00:02, 77.31it/s]s]"
     ]
    },
    {
     "name": "stdout",
     "output_type": "stream",
     "text": [
      "{'Train':  best_epoch_indx:37\n",
      " auc:0.831533059302229 \n",
      " apur:0.7684403102176594 \n",
      " f1:0.7014925373134329 \n",
      " precision:0.6541839270919635 \n",
      " recall:0.7561769775905 \n",
      ", 'Validation':  best_epoch_indx:37\n",
      " auc:0.831533059302229 \n",
      " apur:0.7684403102176594 \n",
      " f1:0.7014925373134329 \n",
      " precision:0.6541839270919635 \n",
      " recall:0.7561769775905 \n",
      ", 'Test':  best_epoch_indx:37\n",
      " auc:0.831533059302229 \n",
      " apur:0.7684403102176594 \n",
      " f1:0.7014925373134329 \n",
      " precision:0.6541839270919635 \n",
      " recall:0.7561769775905 \n",
      "}\n",
      "=====Epoch 38\n",
      "Training...\n"
     ]
    },
    {
     "name": "stderr",
     "output_type": "stream",
     "text": [
      "Iteration: 100%|██████████| 267/267 [00:02<00:00, 91.00it/s] \n",
      "Iteration:  81%|████████  | 215/267 [00:02<00:00, 125.73it/s]\n",
      "Iteration: 100%|██████████| 267/267 [00:02<00:00, 104.37it/s]\n",
      "Iteration:   6%|▋         | 17/267 [00:00<00:03, 77.85it/s]s]"
     ]
    },
    {
     "name": "stdout",
     "output_type": "stream",
     "text": [
      "{'Train':  best_epoch_indx:39\n",
      " auc:0.846288317641909 \n",
      " apur:0.7874273962757072 \n",
      " f1:0.7149404488215837 \n",
      " precision:0.6677102091702452 \n",
      " recall:0.7693609142565281 \n",
      ", 'Validation':  best_epoch_indx:39\n",
      " auc:0.8462883182996952 \n",
      " apur:0.7874273968240229 \n",
      " f1:0.7149404488215837 \n",
      " precision:0.6677102091702452 \n",
      " recall:0.7693609142565281 \n",
      ", 'Test':  best_epoch_indx:39\n",
      " auc:0.8462883182996952 \n",
      " apur:0.787427396824012 \n",
      " f1:0.7149404488215837 \n",
      " precision:0.6677102091702452 \n",
      " recall:0.7693609142565281 \n",
      "}\n",
      "=====Epoch 40\n",
      "Training...\n"
     ]
    },
    {
     "name": "stderr",
     "output_type": "stream",
     "text": [
      "Iteration: 100%|██████████| 267/267 [00:03<00:00, 84.13it/s] \n",
      "Iteration:  19%|█▉        | 51/267 [00:01<00:04, 43.57it/s]]]"
     ]
    },
    {
     "name": "stdout",
     "output_type": "stream",
     "text": [
      "{'Train':  best_epoch_indx:38\n",
      " auc:0.8413483619459152 \n",
      " apur:0.7821126395494681 \n",
      " f1:0.7088754232757084 \n",
      " precision:0.6628061989668389 \n",
      " recall:0.7618272361616548 \n",
      ", 'Validation':  best_epoch_indx:38\n",
      " auc:0.8413483619459152 \n",
      " apur:0.7821126395494681 \n",
      " f1:0.7088754232757084 \n",
      " precision:0.6628061989668389 \n",
      " recall:0.7618272361616548 \n",
      ", 'Test':  best_epoch_indx:38\n",
      " auc:0.8413483619459152 \n",
      " apur:0.7821126395494681 \n",
      " f1:0.7088754232757084 \n",
      " precision:0.6628061989668389 \n",
      " recall:0.7618272361616548 \n",
      "}\n",
      "=====Epoch 39\n",
      "Training...\n"
     ]
    },
    {
     "name": "stderr",
     "output_type": "stream",
     "text": [
      "Iteration: 100%|██████████| 267/267 [00:02<00:00, 116.02it/s]\n",
      "Iteration:  26%|██▌       | 70/267 [00:01<00:05, 37.06it/s]]]"
     ]
    },
    {
     "name": "stdout",
     "output_type": "stream",
     "text": [
      "{'Train':  best_epoch_indx:38\n",
      " auc:0.843990794615057 \n",
      " apur:0.7831121775118023 \n",
      " f1:0.7100958310443752 \n",
      " precision:0.6802221897383424 \n",
      " recall:0.7427139528202509 \n",
      ", 'Validation':  best_epoch_indx:38\n",
      " auc:0.8439907956017252 \n",
      " apur:0.7831121783361018 \n",
      " f1:0.7100958310443752 \n",
      " precision:0.6802221897383424 \n",
      " recall:0.7427139528202509 \n",
      ", 'Test':  best_epoch_indx:38\n",
      " auc:0.8439907942861675 \n",
      " apur:0.7831121771089525 \n",
      " f1:0.7100958310443752 \n",
      " precision:0.6802221897383424 \n",
      " recall:0.7427139528202509 \n",
      "}\n",
      "=====Epoch 39\n",
      "Training...\n"
     ]
    },
    {
     "name": "stderr",
     "output_type": "stream",
     "text": [
      "Iteration: 100%|██████████| 267/267 [00:02<00:00, 111.96it/s]\n",
      "Iteration:  39%|███▊      | 103/267 [00:02<00:06, 26.43it/s]"
     ]
    },
    {
     "name": "stdout",
     "output_type": "stream",
     "text": [
      "{'Train':  best_epoch_indx:38\n",
      " auc:0.8385663133343906 \n",
      " apur:0.7794879484923097 \n",
      " f1:0.701275356030435 \n",
      " precision:0.681433519048336 \n",
      " recall:0.722307348528379 \n",
      ", 'Validation':  best_epoch_indx:38\n",
      " auc:0.8385663136632904 \n",
      " apur:0.7794879487176143 \n",
      " f1:0.701275356030435 \n",
      " precision:0.681433519048336 \n",
      " recall:0.722307348528379 \n",
      ", 'Test':  best_epoch_indx:38\n",
      " auc:0.83856631464999 \n",
      " apur:0.7794879496745437 \n",
      " f1:0.701275356030435 \n",
      " precision:0.681433519048336 \n",
      " recall:0.722307348528379 \n",
      "}\n",
      "=====Epoch 39\n",
      "Training...\n"
     ]
    },
    {
     "name": "stderr",
     "output_type": "stream",
     "text": [
      "Iteration: 100%|██████████| 267/267 [00:07<00:00, 36.42it/s]\n",
      "Iteration:   3%|▎         | 7/267 [00:00<00:04, 63.44it/s]s]"
     ]
    },
    {
     "name": "stdout",
     "output_type": "stream",
     "text": [
      "Evaluating...\n"
     ]
    },
    {
     "name": "stderr",
     "output_type": "stream",
     "text": [
      "Iteration: 100%|██████████| 267/267 [00:06<00:00, 43.72it/s]\n",
      "Iteration:  19%|█▉        | 52/267 [00:00<00:03, 67.86it/s]]"
     ]
    },
    {
     "name": "stdout",
     "output_type": "stream",
     "text": [
      "Evaluating...\n"
     ]
    },
    {
     "name": "stderr",
     "output_type": "stream",
     "text": [
      "Iteration: 100%|██████████| 267/267 [00:06<00:00, 41.49it/s]]\n",
      "Iteration:  78%|███████▊  | 208/267 [00:01<00:00, 117.64it/s]"
     ]
    },
    {
     "name": "stdout",
     "output_type": "stream",
     "text": [
      "Evaluating...\n"
     ]
    },
    {
     "name": "stderr",
     "output_type": "stream",
     "text": [
      "Iteration: 100%|██████████| 267/267 [00:02<00:00, 122.59it/s]\n",
      "Iteration: 100%|██████████| 267/267 [00:05<00:00, 45.22it/s]]\n",
      "Iteration:  67%|██████▋   | 179/267 [00:04<00:02, 39.68it/s]"
     ]
    },
    {
     "name": "stdout",
     "output_type": "stream",
     "text": [
      "Evaluating...\n"
     ]
    },
    {
     "name": "stderr",
     "output_type": "stream",
     "text": [
      "Iteration: 100%|██████████| 267/267 [00:03<00:00, 68.24it/s]]\n",
      "Iteration: 100%|██████████| 267/267 [00:02<00:00, 123.72it/s]\n",
      "Iteration: 100%|██████████| 267/267 [00:07<00:00, 36.90it/s]]\n",
      "Iteration:   3%|▎         | 7/267 [00:00<00:04, 63.39it/s]/s]"
     ]
    },
    {
     "name": "stdout",
     "output_type": "stream",
     "text": [
      "Evaluating...\n"
     ]
    },
    {
     "name": "stderr",
     "output_type": "stream",
     "text": [
      "Iteration: 100%|██████████| 267/267 [00:02<00:00, 102.99it/s]\n",
      "Iteration: 100%|██████████| 267/267 [00:02<00:00, 113.33it/s]\n",
      "Iteration: 100%|██████████| 267/267 [00:02<00:00, 123.09it/s]\n",
      "Iteration: 100%|██████████| 267/267 [00:02<00:00, 104.73it/s]\n",
      "Iteration: 100%|██████████| 267/267 [00:03<00:00, 80.49it/s] \n",
      "Iteration: 100%|██████████| 267/267 [00:02<00:00, 113.26it/s]\n",
      "Iteration: 100%|██████████| 267/267 [00:02<00:00, 93.09it/s] \n",
      "Iteration: 100%|██████████| 267/267 [00:02<00:00, 115.52it/s]\n",
      "Iteration: 100%|██████████| 267/267 [00:04<00:00, 60.17it/s]]\n",
      "Iteration:   0%|          | 0/267 [00:00<?, ?it/s]1.27it/s]s]"
     ]
    },
    {
     "name": "stdout",
     "output_type": "stream",
     "text": [
      "{'Train':  best_epoch_indx:38\n",
      " auc:0.8394396071285029 \n",
      " apur:0.7780690852062232 \n",
      " f1:0.7096048827497591 \n",
      " precision:0.6539020452099031 \n",
      " recall:0.7756815424886676 \n",
      ", 'Validation':  best_epoch_indx:38\n",
      " auc:0.8394396071285029 \n",
      " apur:0.7780690852062232 \n",
      " f1:0.7096048827497591 \n",
      " precision:0.6539020452099031 \n",
      " recall:0.7756815424886676 \n",
      ", 'Test':  best_epoch_indx:38\n",
      " auc:0.8394396071285029 \n",
      " apur:0.7780690852062232 \n",
      " f1:0.7096048827497591 \n",
      " precision:0.6539020452099031 \n",
      " recall:0.7756815424886676 \n",
      "}\n",
      "=====Epoch 39\n",
      "Training...\n"
     ]
    },
    {
     "name": "stderr",
     "output_type": "stream",
     "text": [
      "Iteration: 100%|██████████| 267/267 [00:02<00:00, 111.59it/s]\n",
      "Iteration:   2%|▏         | 5/267 [00:00<00:06, 39.52it/s]s]"
     ]
    },
    {
     "name": "stdout",
     "output_type": "stream",
     "text": [
      "{'Train':  best_epoch_indx:40\n",
      " auc:0.8451519498644822 \n",
      " apur:0.7866219781066098 \n",
      " f1:0.7113345353421141 \n",
      " precision:0.6822098475967174 \n",
      " recall:0.7430568856540892 \n",
      ", 'Validation':  best_epoch_indx:40\n",
      " auc:0.8451519498644822 \n",
      " apur:0.7866219781066097 \n",
      " f1:0.7113345353421141 \n",
      " precision:0.6822098475967174 \n",
      " recall:0.7430568856540892 \n",
      ", 'Test':  best_epoch_indx:40\n",
      " auc:0.8451519498644822 \n",
      " apur:0.7866219781066097 \n",
      " f1:0.7113345353421141 \n",
      " precision:0.6822098475967174 \n",
      " recall:0.7430568856540892 \n",
      "}\n",
      "=====Epoch 41\n",
      "Training...\n",
      "{'Train':  best_epoch_indx:39\n",
      " auc:0.8477697324384863 \n",
      " apur:0.7903303377768691 \n",
      " f1:0.7167774829303198 \n",
      " precision:0.6724099351085254 \n",
      " recall:0.7674136500031923 \n",
      ", 'Validation':  best_epoch_indx:39\n",
      " auc:0.8477697321095932 \n",
      " apur:0.7903303375393619 \n",
      " f1:0.7167774829303198 \n",
      " precision:0.6724099351085254 \n",
      " recall:0.7674136500031923 \n",
      ", 'Test':  best_epoch_indx:39\n",
      " auc:0.8477697324384863 \n",
      " apur:0.7903303377768691 \n",
      " f1:0.7167774829303198 \n",
      " precision:0.6724099351085254 \n",
      " recall:0.7674136500031923 \n",
      "}\n",
      "=====Epoch 40\n",
      "Training...\n"
     ]
    },
    {
     "name": "stderr",
     "output_type": "stream",
     "text": [
      "Iteration: 100%|██████████| 267/267 [00:03<00:00, 86.65it/s] \n",
      "Iteration:  43%|████▎     | 116/267 [00:02<00:03, 43.57it/s]"
     ]
    },
    {
     "name": "stdout",
     "output_type": "stream",
     "text": [
      "{'Train':  best_epoch_indx:39\n",
      " auc:0.849572451003857 \n",
      " apur:0.7900532017707025 \n",
      " f1:0.7183295214898862 \n",
      " precision:0.6716471797150554 \n",
      " recall:0.7719858269224631 \n",
      ", 'Validation':  best_epoch_indx:39\n",
      " auc:0.8495724513327464 \n",
      " apur:0.7900532026751653 \n",
      " f1:0.7183295214898862 \n",
      " precision:0.6716471797150554 \n",
      " recall:0.7719858269224631 \n",
      ", 'Test':  best_epoch_indx:39\n",
      " auc:0.8495724513327464 \n",
      " apur:0.7900532026751653 \n",
      " f1:0.7183295214898862 \n",
      " precision:0.6716471797150554 \n",
      " recall:0.7719858269224631 \n",
      "}\n",
      "=====Epoch 40\n",
      "Training...\n"
     ]
    },
    {
     "name": "stderr",
     "output_type": "stream",
     "text": [
      "Iteration: 100%|██████████| 267/267 [00:02<00:00, 92.38it/s] \n",
      "Iteration:  55%|█████▌    | 147/267 [00:03<00:02, 40.36it/s]"
     ]
    },
    {
     "name": "stdout",
     "output_type": "stream",
     "text": [
      "{'Train':  best_epoch_indx:39\n",
      " auc:0.8478205111168113 \n",
      " apur:0.7902334536536888 \n",
      " f1:0.716322590227239 \n",
      " precision:0.669786690367737 \n",
      " recall:0.7698078273638511 \n",
      ", 'Validation':  best_epoch_indx:39\n",
      " auc:0.8478205111168113 \n",
      " apur:0.7902334536536888 \n",
      " f1:0.716322590227239 \n",
      " precision:0.669786690367737 \n",
      " recall:0.7698078273638511 \n",
      ", 'Test':  best_epoch_indx:39\n",
      " auc:0.8478205111168113 \n",
      " apur:0.7902334536536888 \n",
      " f1:0.716322590227239 \n",
      " precision:0.669786690367737 \n",
      " recall:0.7698078273638511 \n",
      "}\n",
      "=====Epoch 40\n",
      "Training...\n"
     ]
    },
    {
     "name": "stderr",
     "output_type": "stream",
     "text": [
      "Iteration: 100%|██████████| 267/267 [00:06<00:00, 41.34it/s]\n",
      "Iteration:   2%|▏         | 6/267 [00:00<00:04, 59.31it/s]s]"
     ]
    },
    {
     "name": "stdout",
     "output_type": "stream",
     "text": [
      "Evaluating...\n"
     ]
    },
    {
     "name": "stderr",
     "output_type": "stream",
     "text": [
      "Iteration: 100%|██████████| 267/267 [00:05<00:00, 45.12it/s]\n",
      "Iteration:   4%|▍         | 12/267 [00:00<00:02, 117.46it/s]"
     ]
    },
    {
     "name": "stdout",
     "output_type": "stream",
     "text": [
      "Evaluating...\n"
     ]
    },
    {
     "name": "stderr",
     "output_type": "stream",
     "text": [
      "Iteration: 100%|██████████| 267/267 [00:06<00:00, 38.78it/s]]\n",
      "Iteration:  88%|████████▊ | 236/267 [00:05<00:00, 38.63it/s]"
     ]
    },
    {
     "name": "stdout",
     "output_type": "stream",
     "text": [
      "Evaluating...\n"
     ]
    },
    {
     "name": "stderr",
     "output_type": "stream",
     "text": [
      "Iteration: 100%|██████████| 267/267 [00:06<00:00, 43.45it/s]]\n",
      "Iteration:  82%|████████▏ | 220/267 [00:01<00:00, 117.20it/s]"
     ]
    },
    {
     "name": "stdout",
     "output_type": "stream",
     "text": [
      "Evaluating...\n"
     ]
    },
    {
     "name": "stderr",
     "output_type": "stream",
     "text": [
      "Iteration: 100%|██████████| 267/267 [00:02<00:00, 119.65it/s]\n",
      "Iteration: 100%|██████████| 267/267 [00:02<00:00, 99.70it/s] \n",
      "Iteration: 100%|██████████| 267/267 [00:06<00:00, 44.21it/s]]\n",
      "Iteration:  22%|██▏       | 60/267 [00:00<00:03, 68.28it/s]s]"
     ]
    },
    {
     "name": "stdout",
     "output_type": "stream",
     "text": [
      "Evaluating...\n"
     ]
    },
    {
     "name": "stderr",
     "output_type": "stream",
     "text": [
      "Iteration: 100%|██████████| 267/267 [00:03<00:00, 85.01it/s] \n",
      "Iteration: 100%|██████████| 267/267 [00:02<00:00, 98.33it/s] \n",
      "Iteration: 100%|██████████| 267/267 [00:02<00:00, 121.58it/s]\n",
      "Iteration: 100%|██████████| 267/267 [00:03<00:00, 88.92it/s] \n",
      "Iteration: 100%|██████████| 267/267 [00:04<00:00, 64.92it/s]]\n",
      "Iteration: 100%|██████████| 267/267 [00:02<00:00, 124.74it/s]\n",
      "Iteration: 100%|██████████| 267/267 [00:03<00:00, 83.00it/s] \n",
      "Iteration: 100%|██████████| 267/267 [00:02<00:00, 125.78it/s]\n",
      "Iteration: 100%|██████████| 267/267 [00:03<00:00, 86.09it/s] \n",
      "Iteration:  51%|█████     | 136/267 [00:02<00:02, 64.22it/s]]"
     ]
    },
    {
     "name": "stdout",
     "output_type": "stream",
     "text": [
      "{'Train':  best_epoch_indx:40\n",
      " auc:0.8480040628559979 \n",
      " apur:0.7903817064418773 \n",
      " f1:0.7112686038270729 \n",
      " precision:0.7019490814137834 \n",
      " recall:0.7208389197471748 \n",
      ", 'Validation':  best_epoch_indx:40\n",
      " auc:0.8480040628559979 \n",
      " apur:0.7903817064418633 \n",
      " f1:0.7112686038270729 \n",
      " precision:0.7019490814137834 \n",
      " recall:0.7208389197471748 \n",
      ", 'Test':  best_epoch_indx:40\n",
      " auc:0.8480040628559979 \n",
      " apur:0.7903817064418773 \n",
      " f1:0.7112686038270729 \n",
      " precision:0.7019490814137834 \n",
      " recall:0.7208389197471748 \n",
      "}\n",
      "=====Epoch 41\n",
      "Training...\n"
     ]
    },
    {
     "name": "stderr",
     "output_type": "stream",
     "text": [
      "Iteration: 100%|██████████| 267/267 [00:02<00:00, 110.03it/s]\n",
      "Iteration: 100%|██████████| 267/267 [00:02<00:00, 111.10it/s]\n",
      "Iteration:  94%|█████████▍| 252/267 [00:03<00:00, 122.79it/s]"
     ]
    },
    {
     "name": "stdout",
     "output_type": "stream",
     "text": [
      "{'Train':  best_epoch_indx:40\n",
      " auc:0.8487439592418227 \n",
      " apur:0.7895622624497612 \n",
      " f1:0.7177013792900627 \n",
      " precision:0.6653398402355571 \n",
      " recall:0.7790085229993297 \n",
      ", 'Validation':  best_epoch_indx:40\n",
      " auc:0.8487439592418227 \n",
      " apur:0.7895622624497612 \n",
      " f1:0.7177013792900627 \n",
      " precision:0.6653398402355571 \n",
      " recall:0.7790085229993297 \n",
      ", 'Test':  best_epoch_indx:40\n",
      " auc:0.8487439592418228 \n",
      " apur:0.7895622624497611 \n",
      " f1:0.7177013792900627 \n",
      " precision:0.6653398402355571 \n",
      " recall:0.7790085229993297 \n",
      "}\n",
      "=====Epoch 41\n",
      "Training...\n"
     ]
    },
    {
     "name": "stderr",
     "output_type": "stream",
     "text": [
      "Iteration: 100%|██████████| 267/267 [00:03<00:00, 84.15it/s] \n",
      "Iteration:  21%|██▏       | 57/267 [00:01<00:05, 39.80it/s]]"
     ]
    },
    {
     "name": "stdout",
     "output_type": "stream",
     "text": [
      "{'Train':  best_epoch_indx:41\n",
      " auc:0.8428193853648278 \n",
      " apur:0.7827734300163971 \n",
      " f1:0.7096793717562679 \n",
      " precision:0.6745965538072088 \n",
      " recall:0.7486113771308178 \n",
      ", 'Validation':  best_epoch_indx:41\n",
      " auc:0.8428193853648278 \n",
      " apur:0.7827734300163971 \n",
      " f1:0.7096793717562679 \n",
      " precision:0.6745965538072088 \n",
      " recall:0.7486113771308178 \n",
      ", 'Test':  best_epoch_indx:41\n",
      " auc:0.8428193853648278 \n",
      " apur:0.7827734300163971 \n",
      " f1:0.7096793717562679 \n",
      " precision:0.6745965538072088 \n",
      " recall:0.7486113771308178 \n",
      "}\n",
      "=====Epoch 42\n",
      "Training...\n"
     ]
    },
    {
     "name": "stderr",
     "output_type": "stream",
     "text": [
      "Iteration:  27%|██▋       | 73/267 [00:02<00:06, 32.02it/s]s]"
     ]
    },
    {
     "name": "stdout",
     "output_type": "stream",
     "text": [
      "{'Train':  best_epoch_indx:39\n",
      " auc:0.8490047490717287 \n",
      " apur:0.7897905826746536 \n",
      " f1:0.7181875544605031 \n",
      " precision:0.6783403337495743 \n",
      " recall:0.7630083636595799 \n",
      ", 'Validation':  best_epoch_indx:39\n",
      " auc:0.8490047490717287 \n",
      " apur:0.7897905826746536 \n",
      " f1:0.7181875544605031 \n",
      " precision:0.6783403337495743 \n",
      " recall:0.7630083636595799 \n",
      ", 'Test':  best_epoch_indx:39\n",
      " auc:0.8490047490717287 \n",
      " apur:0.7897905826746536 \n",
      " f1:0.7181875544605031 \n",
      " precision:0.6783403337495743 \n",
      " recall:0.7630083636595799 \n",
      "}\n",
      "=====Epoch 40\n",
      "Training...\n"
     ]
    },
    {
     "name": "stderr",
     "output_type": "stream",
     "text": [
      "Iteration: 100%|██████████| 267/267 [00:03<00:00, 83.74it/s] \n",
      "Iteration:  43%|████▎     | 116/267 [00:02<00:03, 45.45it/s]"
     ]
    },
    {
     "name": "stdout",
     "output_type": "stream",
     "text": [
      "{'Train':  best_epoch_indx:40\n",
      " auc:0.8454902597240411 \n",
      " apur:0.7879482242953568 \n",
      " f1:0.7141700881491619 \n",
      " precision:0.6624894203729489 \n",
      " recall:0.7745961820851689 \n",
      ", 'Validation':  best_epoch_indx:40\n",
      " auc:0.845490260052941 \n",
      " apur:0.7879482244841458 \n",
      " f1:0.7141700881491619 \n",
      " precision:0.6624894203729489 \n",
      " recall:0.7745961820851689 \n",
      ", 'Test':  best_epoch_indx:40\n",
      " auc:0.8454902600529411 \n",
      " apur:0.7879482244841312 \n",
      " f1:0.7141700881491619 \n",
      " precision:0.6624894203729489 \n",
      " recall:0.7745961820851689 \n",
      "}\n",
      "=====Epoch 41\n",
      "Training...\n"
     ]
    },
    {
     "name": "stderr",
     "output_type": "stream",
     "text": [
      "Iteration: 100%|██████████| 267/267 [00:05<00:00, 45.14it/s]\n"
     ]
    },
    {
     "name": "stdout",
     "output_type": "stream",
     "text": [
      "Evaluating...\n"
     ]
    },
    {
     "name": "stderr",
     "output_type": "stream",
     "text": [
      "Iteration: 100%|██████████| 267/267 [00:07<00:00, 36.55it/s]\n",
      "Iteration:  68%|██████▊   | 182/267 [00:04<00:01, 45.73it/s]"
     ]
    },
    {
     "name": "stdout",
     "output_type": "stream",
     "text": [
      "Evaluating...\n"
     ]
    },
    {
     "name": "stderr",
     "output_type": "stream",
     "text": [
      "\r",
      "Iteration:  29%|██▉       | 77/267 [00:00<00:01, 125.92it/s]\r",
      "Iteration:  99%|█████████▉| 265/267 [00:06<00:00, 45.55it/s]\r",
      "Iteration:   5%|▍         | 13/267 [00:00<00:04, 61.44it/s]\r",
      "Iteration:  78%|███████▊  | 209/267 [00:05<00:01, 33.67it/s]\r",
      "Iteration:  70%|███████   | 187/267 [00:04<00:01, 45.73it/s]\r",
      "Iteration: 100%|██████████| 267/267 [00:06<00:00, 43.30it/s]\n",
      "\r",
      "Iteration:   0%|          | 0/267 [00:00<?, ?it/s]\r",
      "Iteration:  34%|███▎      | 90/267 [00:00<00:01, 126.04it/s]\r",
      "Iteration:   8%|▊         | 21/267 [00:00<00:03, 68.81it/s]\r",
      "Iteration:  80%|███████▉  | 213/267 [00:05<00:01, 34.84it/s]\r",
      "Iteration:  72%|███████▏  | 192/267 [00:04<00:01, 45.74it/s]\r",
      "Iteration:   4%|▍         | 12/267 [00:00<00:02, 118.50it/s]"
     ]
    },
    {
     "name": "stdout",
     "output_type": "stream",
     "text": [
      "Evaluating...\n"
     ]
    },
    {
     "name": "stderr",
     "output_type": "stream",
     "text": [
      "Iteration: 100%|██████████| 267/267 [00:02<00:00, 121.02it/s]\n",
      "Iteration: 100%|██████████| 267/267 [00:07<00:00, 36.93it/s]]\n",
      "Iteration: 100%|██████████| 267/267 [00:05<00:00, 45.27it/s]]\n",
      "Iteration:  49%|████▊     | 130/267 [00:01<00:02, 62.85it/s]"
     ]
    },
    {
     "name": "stdout",
     "output_type": "stream",
     "text": [
      "Evaluating...\n",
      "Evaluating...\n"
     ]
    },
    {
     "name": "stderr",
     "output_type": "stream",
     "text": [
      "Iteration: 100%|██████████| 267/267 [00:02<00:00, 121.12it/s]\n",
      "Iteration: 100%|██████████| 267/267 [00:03<00:00, 77.40it/s]]\n",
      "Iteration: 100%|██████████| 267/267 [00:02<00:00, 120.24it/s]\n",
      "Iteration: 100%|██████████| 267/267 [00:02<00:00, 93.98it/s] \n",
      "Iteration: 100%|██████████| 267/267 [00:03<00:00, 77.91it/s] \n",
      "Iteration: 100%|██████████| 267/267 [00:02<00:00, 119.88it/s]\n",
      "Iteration: 100%|██████████| 267/267 [00:03<00:00, 71.27it/s]]\n",
      "Iteration: 100%|██████████| 267/267 [00:02<00:00, 110.96it/s]\n",
      "Iteration: 100%|██████████| 267/267 [00:03<00:00, 80.01it/s] \n",
      "Iteration: 100%|██████████| 267/267 [00:02<00:00, 118.95it/s]\n",
      "Iteration: 100%|██████████| 267/267 [00:02<00:00, 114.34it/s]\n"
     ]
    },
    {
     "name": "stdout",
     "output_type": "stream",
     "text": [
      "{'Train':  best_epoch_indx:41\n",
      " auc:0.8454073636174182 \n",
      " apur:0.7853077892965699 \n",
      " f1:0.7106375782174869 \n",
      " precision:0.6854609087673508 \n",
      " recall:0.7377342228748364 \n",
      ", 'Validation':  best_epoch_indx:41\n",
      " auc:0.8454073636174182 \n",
      " apur:0.7853077892966093 \n",
      " f1:0.7106375782174869 \n",
      " precision:0.6854609087673508 \n",
      " recall:0.7377342228748364 \n",
      ", 'Test':  best_epoch_indx:41\n",
      " auc:0.8454073632885288 \n",
      " apur:0.7853077890448179 \n",
      " f1:0.7106375782174869 \n",
      " precision:0.6854609087673508 \n",
      " recall:0.7377342228748364 \n",
      "}\n",
      "=====Epoch 42\n",
      "Training...\n"
     ]
    },
    {
     "name": "stderr",
     "output_type": "stream",
     "text": [
      "Iteration: 100%|██████████| 267/267 [00:02<00:00, 107.74it/s]\n",
      "Iteration: 100%|██████████| 267/267 [00:03<00:00, 82.46it/s] \n",
      "Iteration:  24%|██▎       | 63/267 [00:01<00:05, 34.57it/s]s]"
     ]
    },
    {
     "name": "stdout",
     "output_type": "stream",
     "text": [
      "{'Train':  best_epoch_indx:41\n",
      " auc:0.8445256183325227 \n",
      " apur:0.7866344522042146 \n",
      " f1:0.710315562070828 \n",
      " precision:0.6874757310552884 \n",
      " recall:0.7347251484389964 \n",
      ", 'Validation':  best_epoch_indx:41\n",
      " auc:0.8445256183325227 \n",
      " apur:0.7866344522042146 \n",
      " f1:0.710315562070828 \n",
      " precision:0.6874757310552884 \n",
      " recall:0.7347251484389964 \n",
      ", 'Test':  best_epoch_indx:41\n",
      " auc:0.8445256183325227 \n",
      " apur:0.7866344522042146 \n",
      " f1:0.710315562070828 \n",
      " precision:0.6874757310552884 \n",
      " recall:0.7347251484389964 \n",
      "}\n",
      "=====Epoch 42\n",
      "Training...\n"
     ]
    },
    {
     "name": "stderr",
     "output_type": "stream",
     "text": [
      "Iteration:   2%|▏         | 6/267 [00:00<00:05, 50.41it/s]]s]"
     ]
    },
    {
     "name": "stdout",
     "output_type": "stream",
     "text": [
      "{'Train':  best_epoch_indx:41\n",
      " auc:0.8425894045294857 \n",
      " apur:0.7835273578359848 \n",
      " f1:0.7101505789189513 \n",
      " precision:0.6697312588401697 \n",
      " recall:0.7557619868479857 \n",
      ", 'Validation':  best_epoch_indx:41\n",
      " auc:0.8425894045294857 \n",
      " apur:0.7835273578359848 \n",
      " f1:0.7101505789189513 \n",
      " precision:0.6697312588401697 \n",
      " recall:0.7557619868479857 \n",
      ", 'Test':  best_epoch_indx:41\n",
      " auc:0.8425894045294857 \n",
      " apur:0.7835273578359848 \n",
      " f1:0.7101505789189513 \n",
      " precision:0.6697312588401697 \n",
      " recall:0.7557619868479857 \n",
      "}\n",
      "=====Epoch 42\n",
      "Training...\n",
      "{'Train':  best_epoch_indx:42\n",
      " auc:0.8328820100983602 \n",
      " apur:0.7723878875078504 \n",
      " f1:0.7017374952989845 \n",
      " precision:0.6635750661469743 \n",
      " recall:0.7445572368001021 \n",
      ", 'Validation':  best_epoch_indx:42\n",
      " auc:0.8328820100983602 \n",
      " apur:0.7723878875078505 \n",
      " f1:0.7017374952989845 \n",
      " precision:0.6635750661469743 \n",
      " recall:0.7445572368001021 \n",
      ", 'Test':  best_epoch_indx:42\n",
      " auc:0.8328820100983602 \n",
      " apur:0.7723878875078505 \n",
      " f1:0.7017374952989845 \n",
      " precision:0.6635750661469743 \n",
      " recall:0.7445572368001021 \n",
      "}\n",
      "=====Epoch 43\n",
      "Training...\n"
     ]
    },
    {
     "name": "stderr",
     "output_type": "stream",
     "text": [
      "Iteration: 100%|██████████| 267/267 [00:02<00:00, 121.88it/s]\n",
      "Iteration:   2%|▏         | 5/267 [00:00<00:06, 41.04it/s]]]"
     ]
    },
    {
     "name": "stdout",
     "output_type": "stream",
     "text": [
      "{'Train':  best_epoch_indx:40\n",
      " auc:0.8492452824132082 \n",
      " apur:0.7912215465084801 \n",
      " f1:0.7180788639831006 \n",
      " precision:0.6643233266380761 \n",
      " recall:0.7812998786950137 \n",
      ", 'Validation':  best_epoch_indx:40\n",
      " auc:0.849245282084315 \n",
      " apur:0.7912215461906487 \n",
      " f1:0.7180788639831006 \n",
      " precision:0.6643233266380761 \n",
      " recall:0.7812998786950137 \n",
      ", 'Test':  best_epoch_indx:40\n",
      " auc:0.8492452824132082 \n",
      " apur:0.7912215465084588 \n",
      " f1:0.7180788639831006 \n",
      " precision:0.6643233266380761 \n",
      " recall:0.7812998786950137 \n",
      "}\n",
      "=====Epoch 41\n",
      "Training...\n"
     ]
    },
    {
     "name": "stderr",
     "output_type": "stream",
     "text": [
      "Iteration: 100%|██████████| 267/267 [00:06<00:00, 41.98it/s]\n",
      "Iteration:  76%|███████▌  | 202/267 [00:04<00:01, 45.43it/s]"
     ]
    },
    {
     "name": "stdout",
     "output_type": "stream",
     "text": [
      "Evaluating...\n"
     ]
    },
    {
     "name": "stderr",
     "output_type": "stream",
     "text": [
      "Iteration: 100%|██████████| 267/267 [00:05<00:00, 45.26it/s]]\n",
      "Iteration:   4%|▍         | 12/267 [00:00<00:02, 117.61it/s]]"
     ]
    },
    {
     "name": "stdout",
     "output_type": "stream",
     "text": [
      "Evaluating...\n"
     ]
    },
    {
     "name": "stderr",
     "output_type": "stream",
     "text": [
      "Iteration: 100%|██████████| 267/267 [00:06<00:00, 43.36it/s]]\n",
      "Iteration:  75%|███████▍  | 199/267 [00:05<00:01, 36.74it/s]]"
     ]
    },
    {
     "name": "stdout",
     "output_type": "stream",
     "text": [
      "Evaluating...\n"
     ]
    },
    {
     "name": "stderr",
     "output_type": "stream",
     "text": [
      "Iteration: 100%|██████████| 267/267 [00:02<00:00, 123.38it/s]\n",
      "Iteration: 100%|██████████| 267/267 [00:07<00:00, 36.83it/s]]\n",
      "Iteration:  43%|████▎     | 116/267 [00:00<00:01, 126.08it/s]"
     ]
    },
    {
     "name": "stdout",
     "output_type": "stream",
     "text": [
      "Evaluating...\n"
     ]
    },
    {
     "name": "stderr",
     "output_type": "stream",
     "text": [
      "Iteration: 100%|██████████| 267/267 [00:07<00:00, 36.84it/s]]\n",
      "Iteration:  92%|█████████▏| 246/267 [00:02<00:00, 77.51it/s]"
     ]
    },
    {
     "name": "stdout",
     "output_type": "stream",
     "text": [
      "Evaluating...\n"
     ]
    },
    {
     "name": "stderr",
     "output_type": "stream",
     "text": [
      "Iteration: 100%|██████████| 267/267 [00:02<00:00, 119.79it/s]\n",
      "Iteration: 100%|██████████| 267/267 [00:02<00:00, 97.71it/s]]\n",
      "Iteration: 100%|██████████| 267/267 [00:02<00:00, 114.12it/s]\n",
      "Iteration: 100%|██████████| 267/267 [00:02<00:00, 114.54it/s]\n",
      "Iteration: 100%|██████████| 267/267 [00:02<00:00, 99.81it/s] \n",
      "Iteration: 100%|██████████| 267/267 [00:02<00:00, 102.60it/s]\n",
      "Iteration: 100%|██████████| 267/267 [00:02<00:00, 112.03it/s]\n",
      "Iteration: 100%|██████████| 267/267 [00:02<00:00, 93.38it/s] \n",
      "Iteration: 100%|██████████| 267/267 [00:03<00:00, 83.64it/s] \n",
      "Iteration: 100%|██████████| 267/267 [00:02<00:00, 100.04it/s]\n",
      "Iteration:  26%|██▌       | 70/267 [00:01<00:03, 60.14it/s]s]"
     ]
    },
    {
     "name": "stdout",
     "output_type": "stream",
     "text": [
      "{'Train':  best_epoch_indx:42\n",
      " auc:0.8415829043345708 \n",
      " apur:0.7793541078656698 \n",
      " f1:0.7122273591059932 \n",
      " precision:0.6407992446474596 \n",
      " recall:0.8015769144827146 \n",
      ", 'Validation':  best_epoch_indx:42\n",
      " auc:0.8415829040056815 \n",
      " apur:0.7793541073646534 \n",
      " f1:0.7122273591059932 \n",
      " precision:0.6407992446474596 \n",
      " recall:0.8015769144827146 \n",
      ", 'Test':  best_epoch_indx:42\n",
      " auc:0.8415829043345708 \n",
      " apur:0.7793541078656698 \n",
      " f1:0.7122273591059932 \n",
      " precision:0.6407992446474596 \n",
      " recall:0.8015769144827146 \n",
      "}\n",
      "=====Epoch 43\n",
      "Training...\n"
     ]
    },
    {
     "name": "stderr",
     "output_type": "stream",
     "text": [
      "Iteration: 100%|██████████| 267/267 [00:02<00:00, 107.66it/s]\n",
      "Iteration: 100%|██████████| 267/267 [00:02<00:00, 93.45it/s] \n",
      "Iteration:  27%|██▋       | 71/267 [00:01<00:04, 45.40it/s]]"
     ]
    },
    {
     "name": "stdout",
     "output_type": "stream",
     "text": [
      "{'Train':  best_epoch_indx:43\n",
      " auc:0.8280191785200071 \n",
      " apur:0.764681908216618 \n",
      " f1:0.6923668866723888 \n",
      " precision:0.645359743985875 \n",
      " recall:0.7467598799719083 \n",
      ", 'Validation':  best_epoch_indx:43\n",
      " auc:0.8280191785200072 \n",
      " apur:0.7646819080848909 \n",
      " f1:0.6923668866723888 \n",
      " precision:0.645359743985875 \n",
      " recall:0.7467598799719083 \n",
      ", 'Test':  best_epoch_indx:43\n",
      " auc:0.8280191785200072 \n",
      " apur:0.7646819080848909 \n",
      " f1:0.6923668866723888 \n",
      " precision:0.645359743985875 \n",
      " recall:0.7467598799719083 \n",
      "}\n",
      "=====Epoch 44\n",
      "Training...\n"
     ]
    },
    {
     "name": "stderr",
     "output_type": "stream",
     "text": [
      "Iteration: 100%|██████████| 267/267 [00:03<00:00, 81.20it/s] \n",
      "Iteration:  42%|████▏     | 111/267 [00:02<00:03, 45.54it/s]"
     ]
    },
    {
     "name": "stdout",
     "output_type": "stream",
     "text": [
      "{'Train':  best_epoch_indx:42\n",
      " auc:0.8402019652310257 \n",
      " apur:0.7801154272702767 \n",
      " f1:0.7084051084051083 \n",
      " precision:0.6622979952240795 \n",
      " recall:0.7614122454191407 \n",
      ", 'Validation':  best_epoch_indx:42\n",
      " auc:0.8402019652310257 \n",
      " apur:0.7801154272702767 \n",
      " f1:0.7084051084051083 \n",
      " precision:0.6622979952240795 \n",
      " recall:0.7614122454191407 \n",
      ", 'Test':  best_epoch_indx:42\n",
      " auc:0.8402019652310257 \n",
      " apur:0.7801154272702767 \n",
      " f1:0.7084051084051083 \n",
      " precision:0.6622979952240795 \n",
      " recall:0.7614122454191407 \n",
      "}\n",
      "=====Epoch 43\n",
      "Training...\n"
     ]
    },
    {
     "name": "stderr",
     "output_type": "stream",
     "text": [
      "Iteration:  53%|█████▎    | 141/267 [00:03<00:02, 45.57it/s]"
     ]
    },
    {
     "name": "stdout",
     "output_type": "stream",
     "text": [
      "{'Train':  best_epoch_indx:42\n",
      " auc:0.8326351936685583 \n",
      " apur:0.7727653476332086 \n",
      " f1:0.6996307058965977 \n",
      " precision:0.6651988718125827 \n",
      " recall:0.7378216178254485 \n",
      ", 'Validation':  best_epoch_indx:42\n",
      " auc:0.8326351936685583 \n",
      " apur:0.7727653476332086 \n",
      " f1:0.6996307058965977 \n",
      " precision:0.6651988718125827 \n",
      " recall:0.7378216178254485 \n",
      ", 'Test':  best_epoch_indx:42\n",
      " auc:0.8326351936685583 \n",
      " apur:0.7727653476332086 \n",
      " f1:0.6996307058965977 \n",
      " precision:0.6651988718125827 \n",
      " recall:0.7378216178254485 \n",
      "}\n",
      "=====Epoch 43\n",
      "Training...\n"
     ]
    },
    {
     "name": "stderr",
     "output_type": "stream",
     "text": [
      "Iteration: 100%|██████████| 267/267 [00:03<00:00, 70.10it/s]\n",
      "Iteration: 100%|██████████| 267/267 [00:05<00:00, 45.13it/s]\n",
      "Iteration:   5%|▍         | 13/267 [00:00<00:02, 121.76it/s]"
     ]
    },
    {
     "name": "stdout",
     "output_type": "stream",
     "text": [
      "Evaluating...\n"
     ]
    },
    {
     "name": "stderr",
     "output_type": "stream",
     "text": [
      "\r",
      "Iteration:  63%|██████▎   | 167/267 [00:03<00:02, 45.59it/s]\r",
      "Iteration:  70%|███████   | 188/267 [00:04<00:01, 45.55it/s]\r",
      "Iteration:  10%|▉         | 26/267 [00:00<00:01, 126.28it/s]\r",
      "Iteration:  37%|███▋      | 99/267 [00:02<00:04, 33.73it/s]\r",
      "Iteration:  64%|██████▍   | 172/267 [00:03<00:02, 45.61it/s]\r",
      "Iteration:  72%|███████▏  | 193/267 [00:04<00:01, 45.53it/s]\r",
      "Iteration:  15%|█▍        | 39/267 [00:00<00:01, 127.65it/s]\r",
      "Iteration:   0%|          | 0/267 [00:00<?, ?it/s]\r",
      "Iteration:  39%|███▊      | 103/267 [00:03<00:04, 33.97it/s]"
     ]
    },
    {
     "name": "stdout",
     "output_type": "stream",
     "text": [
      "{'Train':  best_epoch_indx:41\n",
      " auc:0.8415541240505069 \n",
      " apur:0.7823843173819731 \n",
      " f1:0.7079552965210599 \n",
      " precision:0.6685865062702151 \n",
      " recall:0.7522505267190194 \n",
      ", 'Validation':  best_epoch_indx:41\n",
      " auc:0.8415541240505069 \n",
      " apur:0.7823843173819731 \n",
      " f1:0.7079552965210599 \n",
      " precision:0.6685865062702151 \n",
      " recall:0.7522505267190194 \n",
      ", 'Test':  best_epoch_indx:41\n",
      " auc:0.8415541240505069 \n",
      " apur:0.7823843173819731 \n",
      " f1:0.7079552965210599 \n",
      " precision:0.6685865062702151 \n",
      " recall:0.7522505267190194 \n",
      "}\n",
      "=====Epoch 42\n",
      "Training...\n"
     ]
    },
    {
     "name": "stderr",
     "output_type": "stream",
     "text": [
      "Iteration: 100%|██████████| 267/267 [00:06<00:00, 42.91it/s]]\n",
      "Iteration:  61%|██████    | 163/267 [00:04<00:02, 36.03it/s]]"
     ]
    },
    {
     "name": "stdout",
     "output_type": "stream",
     "text": [
      "Evaluating...\n"
     ]
    },
    {
     "name": "stderr",
     "output_type": "stream",
     "text": [
      "Iteration: 100%|██████████| 267/267 [00:02<00:00, 123.76it/s]\n",
      "Iteration: 100%|██████████| 267/267 [00:05<00:00, 45.18it/s]\n",
      "Iteration:  67%|██████▋   | 179/267 [00:05<00:02, 35.26it/s]"
     ]
    },
    {
     "name": "stdout",
     "output_type": "stream",
     "text": [
      "Evaluating...\n"
     ]
    },
    {
     "name": "stderr",
     "output_type": "stream",
     "text": [
      "Iteration: 100%|██████████| 267/267 [00:02<00:00, 121.96it/s]\n",
      "Iteration: 100%|██████████| 267/267 [00:02<00:00, 119.60it/s]\n",
      "Iteration: 100%|██████████| 267/267 [00:07<00:00, 35.12it/s]\n",
      "Iteration:   5%|▍         | 13/267 [00:00<00:02, 121.58it/s]"
     ]
    },
    {
     "name": "stdout",
     "output_type": "stream",
     "text": [
      "Evaluating...\n"
     ]
    },
    {
     "name": "stderr",
     "output_type": "stream",
     "text": [
      "Iteration: 100%|██████████| 267/267 [00:03<00:00, 72.24it/s] \n",
      "Iteration: 100%|██████████| 267/267 [00:06<00:00, 40.55it/s]]\n",
      "Iteration:  82%|████████▏ | 218/267 [00:02<00:00, 101.90it/s]"
     ]
    },
    {
     "name": "stdout",
     "output_type": "stream",
     "text": [
      "Evaluating...\n"
     ]
    },
    {
     "name": "stderr",
     "output_type": "stream",
     "text": [
      "Iteration: 100%|██████████| 267/267 [00:02<00:00, 125.63it/s]\n",
      "Iteration: 100%|██████████| 267/267 [00:02<00:00, 108.58it/s]\n",
      "Iteration: 100%|██████████| 267/267 [00:03<00:00, 76.68it/s] \n",
      "Iteration: 100%|██████████| 267/267 [00:02<00:00, 120.57it/s]\n",
      "Iteration: 100%|██████████| 267/267 [00:02<00:00, 122.60it/s]\n",
      "Iteration: 100%|██████████| 267/267 [00:02<00:00, 90.64it/s] \n"
     ]
    },
    {
     "name": "stdout",
     "output_type": "stream",
     "text": [
      "{'Train':  best_epoch_indx:43\n",
      " auc:0.8382966162880772 \n",
      " apur:0.7769477114231739 \n",
      " f1:0.7079841199823556 \n",
      " precision:0.6562985579151105 \n",
      " recall:0.7685064002298337 \n",
      ", 'Validation':  best_epoch_indx:43\n",
      " auc:0.8382966162880772 \n",
      " apur:0.7769477114231739 \n",
      " f1:0.7079841199823556 \n",
      " precision:0.6562985579151105 \n",
      " recall:0.7685064002298337 \n",
      ", 'Test':  best_epoch_indx:43\n",
      " auc:0.8382966162880772 \n",
      " apur:0.7769477114231739 \n",
      " f1:0.7079841199823556 \n",
      " precision:0.6562985579151105 \n",
      " recall:0.7685064002298337 \n",
      "}\n",
      "=====Epoch 44\n",
      "Training...\n"
     ]
    },
    {
     "name": "stderr",
     "output_type": "stream",
     "text": [
      "Iteration: 100%|██████████| 267/267 [00:02<00:00, 120.66it/s]\n",
      "Iteration: 100%|██████████| 267/267 [00:04<00:00, 65.27it/s]]\n",
      "Iteration: 100%|██████████| 267/267 [00:02<00:00, 105.38it/s]\n",
      "Iteration:  36%|███▌      | 96/267 [00:02<00:03, 43.20it/s]"
     ]
    },
    {
     "name": "stdout",
     "output_type": "stream",
     "text": [
      "{'Train':  best_epoch_indx:44\n",
      " auc:0.8248771850654798 \n",
      " apur:0.7584945113835105 \n",
      " f1:0.6958105646630237 \n",
      " precision:0.6277409746828942 \n",
      " recall:0.7804379748451765 \n",
      ", 'Validation':  best_epoch_indx:44\n",
      " auc:0.8248771844076936 \n",
      " apur:0.758494510832997 \n",
      " f1:0.6958105646630237 \n",
      " precision:0.6277409746828942 \n",
      " recall:0.7804379748451765 \n",
      ", 'Test':  best_epoch_indx:44\n",
      " auc:0.8248771853943729 \n",
      " apur:0.7584945115700126 \n",
      " f1:0.6958105646630237 \n",
      " precision:0.6277409746828942 \n",
      " recall:0.7804379748451765 \n",
      "}\n",
      "=====Epoch 45\n",
      "Training...\n",
      "{'Train':  best_epoch_indx:43\n",
      " auc:0.8312848315065491 \n",
      " apur:0.7714524100156088 \n",
      " f1:0.7009485626298282 \n",
      " precision:0.6431294149007064 \n",
      " recall:0.7701908957415565 \n",
      ", 'Validation':  best_epoch_indx:43\n",
      " auc:0.8312848315065491 \n",
      " apur:0.7714524100156088 \n",
      " f1:0.7009485626298282 \n",
      " precision:0.6431294149007064 \n",
      " recall:0.7701908957415565 \n",
      ", 'Test':  best_epoch_indx:43\n",
      " auc:0.8312848315065493 \n",
      " apur:0.7714524100155213 \n",
      " f1:0.7009485626298282 \n",
      " precision:0.6431294149007064 \n",
      " recall:0.7701908957415565 \n",
      "}\n",
      "=====Epoch 44\n",
      "Training...\n"
     ]
    },
    {
     "name": "stderr",
     "output_type": "stream",
     "text": [
      "Iteration: 100%|██████████| 267/267 [00:02<00:00, 105.52it/s]\n",
      "Iteration: 100%|██████████| 267/267 [00:02<00:00, 116.98it/s]\n",
      "Iteration:  39%|███▊      | 103/267 [00:02<00:04, 39.50it/s]"
     ]
    },
    {
     "name": "stdout",
     "output_type": "stream",
     "text": [
      "{'Train':  best_epoch_indx:43\n",
      " auc:0.8342843667490654 \n",
      " apur:0.7700054352975507 \n",
      " f1:0.7049291218163638 \n",
      " precision:0.6534980097060908 \n",
      " recall:0.7651471621017685 \n",
      ", 'Validation':  best_epoch_indx:43\n",
      " auc:0.8342843664201655 \n",
      " apur:0.7700054346490844 \n",
      " f1:0.7049291218163638 \n",
      " precision:0.6534980097060908 \n",
      " recall:0.7651471621017685 \n",
      ", 'Test':  best_epoch_indx:43\n",
      " auc:0.8342843664201655 \n",
      " apur:0.7700054346490846 \n",
      " f1:0.7049291218163638 \n",
      " precision:0.6534980097060908 \n",
      " recall:0.7651471621017685 \n",
      "}\n",
      "=====Epoch 44\n",
      "Training...\n"
     ]
    },
    {
     "name": "stderr",
     "output_type": "stream",
     "text": [
      "Iteration:   0%|          | 0/267 [00:00<?, ?it/s]40.25it/s]"
     ]
    },
    {
     "name": "stdout",
     "output_type": "stream",
     "text": [
      "{'Train':  best_epoch_indx:42\n",
      " auc:0.8385053856048672 \n",
      " apur:0.7785188287920676 \n",
      " f1:0.7040214968395981 \n",
      " precision:0.6747044363806626 \n",
      " recall:0.7360020430313478 \n",
      ", 'Validation':  best_epoch_indx:42\n",
      " auc:0.8385053862626534 \n",
      " apur:0.7785188290795954 \n",
      " f1:0.7040214968395981 \n",
      " precision:0.6747044363806626 \n",
      " recall:0.7360020430313478 \n",
      ", 'Test':  best_epoch_indx:42\n",
      " auc:0.8385053862626534 \n",
      " apur:0.7785188290795954 \n",
      " f1:0.7040214968395981 \n",
      " precision:0.6747044363806626 \n",
      " recall:0.7360020430313478 \n",
      "}\n",
      "=====Epoch 43\n",
      "Training...\n"
     ]
    },
    {
     "name": "stderr",
     "output_type": "stream",
     "text": [
      "Iteration: 100%|██████████| 267/267 [00:06<00:00, 42.72it/s]\n",
      "Iteration:   0%|          | 0/267 [00:00<?, ?it/s]"
     ]
    },
    {
     "name": "stdout",
     "output_type": "stream",
     "text": [
      "Evaluating...\n"
     ]
    },
    {
     "name": "stderr",
     "output_type": "stream",
     "text": [
      "Iteration: 100%|██████████| 267/267 [00:02<00:00, 123.21it/s]\n",
      "Iteration: 100%|██████████| 267/267 [00:06<00:00, 39.54it/s]\n",
      "Iteration:  62%|██████▏   | 166/267 [00:03<00:02, 45.33it/s]"
     ]
    },
    {
     "name": "stdout",
     "output_type": "stream",
     "text": [
      "Evaluating...\n"
     ]
    },
    {
     "name": "stderr",
     "output_type": "stream",
     "text": [
      "\r",
      "Iteration:  73%|███████▎  | 196/267 [00:04<00:01, 45.68it/s]\r",
      "Iteration:   6%|▌         | 16/267 [00:00<00:03, 65.86it/s]\r",
      "Iteration:   3%|▎         | 7/267 [00:00<00:03, 65.21it/s]\r",
      "Iteration: 100%|██████████| 267/267 [00:06<00:00, 38.90it/s]\n",
      "\r",
      "Iteration:   0%|          | 0/267 [00:00<?, ?it/s]\r",
      "Iteration:  64%|██████▍   | 171/267 [00:03<00:02, 45.33it/s]\r",
      "Iteration:  75%|███████▌  | 201/267 [00:04<00:01, 45.69it/s]\r",
      "Iteration:   7%|▋         | 20/267 [00:00<00:02, 101.37it/s]\r",
      "Iteration:   9%|▉         | 24/267 [00:00<00:03, 69.66it/s]\r",
      "Iteration:   3%|▎         | 7/267 [00:00<00:03, 67.43it/s]\r",
      "Iteration:  66%|██████▌   | 176/267 [00:03<00:02, 45.37it/s]"
     ]
    },
    {
     "name": "stdout",
     "output_type": "stream",
     "text": [
      "Evaluating...\n"
     ]
    },
    {
     "name": "stderr",
     "output_type": "stream",
     "text": [
      "Iteration: 100%|██████████| 267/267 [00:05<00:00, 45.15it/s]]\n",
      "Iteration:  90%|█████████ | 241/267 [00:05<00:00, 45.27it/s]"
     ]
    },
    {
     "name": "stdout",
     "output_type": "stream",
     "text": [
      "Evaluating...\n"
     ]
    },
    {
     "name": "stderr",
     "output_type": "stream",
     "text": [
      "Iteration: 100%|██████████| 267/267 [00:02<00:00, 124.42it/s]\n",
      "Iteration: 100%|██████████| 267/267 [00:05<00:00, 44.90it/s]\n",
      "Iteration:  57%|█████▋    | 151/267 [00:02<00:01, 74.02it/s]"
     ]
    },
    {
     "name": "stdout",
     "output_type": "stream",
     "text": [
      "Evaluating...\n"
     ]
    },
    {
     "name": "stderr",
     "output_type": "stream",
     "text": [
      "Iteration: 100%|██████████| 267/267 [00:03<00:00, 71.19it/s]]\n",
      "Iteration: 100%|██████████| 267/267 [00:03<00:00, 75.46it/s] \n",
      "Iteration: 100%|██████████| 267/267 [00:02<00:00, 120.95it/s]\n",
      "Iteration: 100%|██████████| 267/267 [00:02<00:00, 118.39it/s]\n",
      "Iteration: 100%|██████████| 267/267 [00:03<00:00, 86.95it/s] \n",
      "Iteration: 100%|██████████| 267/267 [00:02<00:00, 125.94it/s]\n",
      "Iteration: 100%|██████████| 267/267 [00:02<00:00, 105.73it/s]\n",
      "Iteration:  56%|█████▌    | 150/267 [00:02<00:02, 45.28it/s]"
     ]
    },
    {
     "name": "stdout",
     "output_type": "stream",
     "text": [
      "{'Train':  best_epoch_indx:44\n",
      " auc:0.833793799629075 \n",
      " apur:0.7710393136194553 \n",
      " f1:0.7026493039964077 \n",
      " precision:0.6614998731787053 \n",
      " recall:0.7492578287100584 \n",
      ", 'Validation':  best_epoch_indx:44\n",
      " auc:0.833793799629075 \n",
      " apur:0.7710393136194553 \n",
      " f1:0.7026493039964077 \n",
      " precision:0.6614998731787053 \n",
      " recall:0.7492578287100584 \n",
      ", 'Test':  best_epoch_indx:44\n",
      " auc:0.8337937993001856 \n",
      " apur:0.7710393123528345 \n",
      " f1:0.7026493039964077 \n",
      " precision:0.6614998731787053 \n",
      " recall:0.7492578287100584 \n",
      "}\n",
      "=====Epoch 45\n",
      "Training...\n"
     ]
    },
    {
     "name": "stderr",
     "output_type": "stream",
     "text": [
      "Iteration: 100%|██████████| 267/267 [00:03<00:00, 88.68it/s] \n",
      "Iteration: 100%|██████████| 267/267 [00:03<00:00, 72.49it/s] \n",
      "Iteration: 100%|██████████| 267/267 [00:02<00:00, 95.21it/s] \n",
      "Iteration:  85%|████████▌ | 228/267 [00:03<00:00, 70.62it/s]]"
     ]
    },
    {
     "name": "stdout",
     "output_type": "stream",
     "text": [
      "{'Train':  best_epoch_indx:44\n",
      " auc:0.8259668916195833 \n",
      " apur:0.7639064596254457 \n",
      " f1:0.6952359979446524 \n",
      " precision:0.6436162983500503 \n",
      " recall:0.7558577539424121 \n",
      ", 'Validation':  best_epoch_indx:44\n",
      " auc:0.8259668916195833 \n",
      " apur:0.7639064596254372 \n",
      " f1:0.6952359979446524 \n",
      " precision:0.6436162983500503 \n",
      " recall:0.7558577539424121 \n",
      ", 'Test':  best_epoch_indx:44\n",
      " auc:0.8259668916195833 \n",
      " apur:0.7639064596254372 \n",
      " f1:0.6952359979446524 \n",
      " precision:0.6436162983500503 \n",
      " recall:0.7558577539424121 \n",
      "}\n",
      "=====Epoch 45\n",
      "Training...\n"
     ]
    },
    {
     "name": "stderr",
     "output_type": "stream",
     "text": [
      "Iteration: 100%|██████████| 267/267 [00:02<00:00, 126.05it/s]\n",
      "Iteration: 100%|██████████| 267/267 [00:03<00:00, 68.72it/s] \n",
      "Iteration: 100%|██████████| 267/267 [00:05<00:00, 45.02it/s]\n",
      "Iteration:  93%|█████████▎| 249/267 [00:03<00:00, 76.36it/s]"
     ]
    },
    {
     "name": "stdout",
     "output_type": "stream",
     "text": [
      "{'Train':  best_epoch_indx:44\n",
      " auc:0.8261913889628132 \n",
      " apur:0.7626092303149541 \n",
      " f1:0.6879156732337809 \n",
      " precision:0.6762474557453895 \n",
      " recall:0.6999936155270382 \n",
      ", 'Validation':  best_epoch_indx:44\n",
      " auc:0.8261913889628132 \n",
      " apur:0.7626092303149392 \n",
      " f1:0.6879156732337809 \n",
      " precision:0.6762474557453895 \n",
      " recall:0.6999936155270382 \n",
      ", 'Test':  best_epoch_indx:44\n",
      " auc:0.8261913889628132 \n",
      " apur:0.7626092303149392 \n",
      " f1:0.6879156732337809 \n",
      " precision:0.6762474557453895 \n",
      " recall:0.6999936155270382 \n",
      "}\n",
      "=====Epoch 45\n",
      "Training...\n",
      "Evaluating...\n"
     ]
    },
    {
     "name": "stderr",
     "output_type": "stream",
     "text": [
      "Iteration: 100%|██████████| 267/267 [00:03<00:00, 77.09it/s]\n",
      "Iteration:  19%|█▉        | 51/267 [00:00<00:01, 127.13it/s]"
     ]
    },
    {
     "name": "stdout",
     "output_type": "stream",
     "text": [
      "{'Train':  best_epoch_indx:45\n",
      " auc:0.8343604280209611 \n",
      " apur:0.7724023607130305 \n",
      " f1:0.7014271332978029 \n",
      " precision:0.6540224173154436 \n",
      " recall:0.7562408223201175 \n",
      ", 'Validation':  best_epoch_indx:45\n",
      " auc:0.8343604280209611 \n",
      " apur:0.7724023607130305 \n",
      " f1:0.7014271332978029 \n",
      " precision:0.6540224173154436 \n",
      " recall:0.7562408223201175 \n",
      ", 'Test':  best_epoch_indx:45\n",
      " auc:0.8343604280209611 \n",
      " apur:0.7724023607130763 \n",
      " f1:0.7014271332978029 \n",
      " precision:0.6540224173154436 \n",
      " recall:0.7562408223201175 \n",
      "}\n",
      "=====Epoch 46\n",
      "Training...\n"
     ]
    },
    {
     "name": "stderr",
     "output_type": "stream",
     "text": [
      "Iteration:  16%|█▌        | 43/267 [00:01<00:05, 41.35it/s]]]"
     ]
    },
    {
     "name": "stdout",
     "output_type": "stream",
     "text": [
      "{'Train':  best_epoch_indx:43\n",
      " auc:0.8316666787041543 \n",
      " apur:0.7658026353400369 \n",
      " f1:0.703499493642399 \n",
      " precision:0.6288156902187578 \n",
      " recall:0.7983144991380962 \n",
      ", 'Validation':  best_epoch_indx:43\n",
      " auc:0.8316666787041543 \n",
      " apur:0.765802635340064 \n",
      " f1:0.703499493642399 \n",
      " precision:0.6288156902187578 \n",
      " recall:0.7983144991380962 \n",
      ", 'Test':  best_epoch_indx:43\n",
      " auc:0.8316666787041543 \n",
      " apur:0.765802635340064 \n",
      " f1:0.703499493642399 \n",
      " precision:0.6288156902187578 \n",
      " recall:0.7983144991380962 \n",
      "}\n",
      "=====Epoch 44\n",
      "Training...\n"
     ]
    },
    {
     "name": "stderr",
     "output_type": "stream",
     "text": [
      "Iteration: 100%|██████████| 267/267 [00:02<00:00, 123.38it/s]\n",
      "Iteration: 100%|██████████| 267/267 [00:05<00:00, 45.40it/s]]\n",
      "Iteration:   4%|▍         | 12/267 [00:00<00:02, 119.65it/s]]"
     ]
    },
    {
     "name": "stdout",
     "output_type": "stream",
     "text": [
      "Evaluating...\n"
     ]
    },
    {
     "name": "stderr",
     "output_type": "stream",
     "text": [
      "Iteration: 100%|██████████| 267/267 [00:02<00:00, 121.44it/s]\n",
      "Iteration: 100%|██████████| 267/267 [00:06<00:00, 44.39it/s]]\n",
      "Iteration:   4%|▍         | 12/267 [00:00<00:02, 115.66it/s]]"
     ]
    },
    {
     "name": "stdout",
     "output_type": "stream",
     "text": [
      "Evaluating...\n"
     ]
    },
    {
     "name": "stderr",
     "output_type": "stream",
     "text": [
      "\r",
      "Iteration:  76%|███████▋  | 204/267 [00:05<00:01, 35.17it/s]\r",
      "Iteration:  97%|█████████▋| 260/267 [00:06<00:00, 41.44it/s]\r",
      "Iteration:  97%|█████████▋| 259/267 [00:02<00:00, 120.41it/s]\r",
      "Iteration:   6%|▋         | 17/267 [00:00<00:02, 83.97it/s]\r",
      "Iteration:   9%|▉         | 25/267 [00:00<00:02, 120.02it/s]\r",
      "Iteration:  78%|███████▊  | 209/267 [00:05<00:01, 38.34it/s]\r",
      "Iteration: 100%|██████████| 267/267 [00:02<00:00, 121.64it/s]\n",
      "\r",
      "Iteration:  99%|█████████▉| 265/267 [00:06<00:00, 42.26it/s]\r",
      "Iteration:  11%|█         | 30/267 [00:00<00:02, 102.99it/s]\r",
      "Iteration:  14%|█▍        | 38/267 [00:00<00:01, 122.42it/s]\r",
      "Iteration: 100%|██████████| 267/267 [00:06<00:00, 39.54it/s]\n"
     ]
    },
    {
     "name": "stdout",
     "output_type": "stream",
     "text": [
      "Evaluating...\n"
     ]
    },
    {
     "name": "stderr",
     "output_type": "stream",
     "text": [
      "Iteration: 100%|██████████| 267/267 [00:07<00:00, 37.81it/s]]\n",
      "Iteration:  17%|█▋        | 46/267 [00:00<00:03, 67.18it/s]]]"
     ]
    },
    {
     "name": "stdout",
     "output_type": "stream",
     "text": [
      "Evaluating...\n"
     ]
    },
    {
     "name": "stderr",
     "output_type": "stream",
     "text": [
      "Iteration: 100%|██████████| 267/267 [00:02<00:00, 121.04it/s]\n",
      "Iteration: 100%|██████████| 267/267 [00:02<00:00, 107.96it/s]\n",
      "Iteration:  94%|█████████▍| 251/267 [00:03<00:00, 73.07it/s]]"
     ]
    },
    {
     "name": "stdout",
     "output_type": "stream",
     "text": [
      "{'Train':  best_epoch_indx:45\n",
      " auc:0.8379613635525731 \n",
      " apur:0.7773027368973722 \n",
      " f1:0.7040007276806695 \n",
      " precision:0.6703718674211803 \n",
      " recall:0.7411817282216618 \n",
      ", 'Validation':  best_epoch_indx:45\n",
      " auc:0.8379613635525731 \n",
      " apur:0.7773027368973722 \n",
      " f1:0.7040007276806695 \n",
      " precision:0.6703718674211803 \n",
      " recall:0.7411817282216618 \n",
      ", 'Test':  best_epoch_indx:45\n",
      " auc:0.8379613635525731 \n",
      " apur:0.7773027368973722 \n",
      " f1:0.7040007276806695 \n",
      " precision:0.6703718674211803 \n",
      " recall:0.7411817282216618 \n",
      "}\n",
      "=====Epoch 46\n",
      "Training...\n"
     ]
    },
    {
     "name": "stderr",
     "output_type": "stream",
     "text": [
      "Iteration: 100%|██████████| 267/267 [00:03<00:00, 81.79it/s]]\n",
      "Iteration: 100%|██████████| 267/267 [00:02<00:00, 121.18it/s]\n",
      "Iteration: 100%|██████████| 267/267 [00:03<00:00, 87.68it/s] \n",
      "Iteration: 100%|██████████| 267/267 [00:02<00:00, 124.93it/s]\n",
      "Iteration: 100%|██████████| 267/267 [00:02<00:00, 120.47it/s]\n",
      "Iteration: 100%|██████████| 267/267 [00:04<00:00, 66.61it/s]\n",
      "Iteration: 100%|██████████| 267/267 [00:02<00:00, 90.52it/s] \n",
      "Iteration: 100%|██████████| 267/267 [00:06<00:00, 43.09it/s]\n",
      "Iteration:   4%|▍         | 12/267 [00:00<00:02, 117.44it/s]"
     ]
    },
    {
     "name": "stdout",
     "output_type": "stream",
     "text": [
      "Evaluating...\n"
     ]
    },
    {
     "name": "stderr",
     "output_type": "stream",
     "text": [
      "\r",
      "Iteration:   9%|▉         | 25/267 [00:00<00:02, 120.29it/s]\r",
      "Iteration:  21%|██        | 55/267 [00:01<00:03, 63.61it/s]\r",
      "Iteration:  30%|███       | 81/267 [00:01<00:02, 66.45it/s]\r",
      "Iteration:   9%|▉         | 25/267 [00:00<00:01, 122.40it/s]\r",
      "Iteration:  14%|█▍        | 38/267 [00:00<00:01, 121.93it/s]\r",
      "Iteration:  23%|██▎       | 62/267 [00:01<00:03, 62.29it/s]\r",
      "Iteration:  33%|███▎      | 89/267 [00:01<00:02, 70.21it/s]\r",
      "Iteration:   0%|          | 0/267 [00:00<?, ?it/s]"
     ]
    },
    {
     "name": "stdout",
     "output_type": "stream",
     "text": [
      "{'Train':  best_epoch_indx:45\n",
      " auc:0.8345558808379779 \n",
      " apur:0.7743863169863887 \n",
      " f1:0.7046599314969922 \n",
      " precision:0.6415618448637317 \n",
      " recall:0.7815233352486752 \n",
      ", 'Validation':  best_epoch_indx:45\n",
      " auc:0.8345558805090781 \n",
      " apur:0.7743863161457722 \n",
      " f1:0.7046599314969922 \n",
      " precision:0.6415618448637317 \n",
      " recall:0.7815233352486752 \n",
      ", 'Test':  best_epoch_indx:45\n",
      " auc:0.8345558811668778 \n",
      " apur:0.7743863195226005 \n",
      " f1:0.7046599314969922 \n",
      " precision:0.6415618448637317 \n",
      " recall:0.7815233352486752 \n",
      "}\n",
      "=====Epoch 46\n",
      "Training...\n"
     ]
    },
    {
     "name": "stderr",
     "output_type": "stream",
     "text": [
      "Iteration: 100%|██████████| 267/267 [00:02<00:00, 93.64it/s] \n",
      "Iteration: 100%|██████████| 267/267 [00:02<00:00, 123.91it/s]\n",
      "Iteration: 100%|██████████| 267/267 [00:02<00:00, 121.16it/s]\n",
      "Iteration:   0%|          | 0/267 [00:00<?, ?it/s]8.77it/s]]"
     ]
    },
    {
     "name": "stdout",
     "output_type": "stream",
     "text": [
      "{'Train':  best_epoch_indx:46\n",
      " auc:0.8425737058329286 \n",
      " apur:0.7817303548362223 \n",
      " f1:0.7060939122885889 \n",
      " precision:0.6863566498899973 \n",
      " recall:0.7269999361552704 \n",
      ", 'Validation':  best_epoch_indx:46\n",
      " auc:0.8425737058329286 \n",
      " apur:0.7817303548362223 \n",
      " f1:0.7060939122885889 \n",
      " precision:0.6863566498899973 \n",
      " recall:0.7269999361552704 \n",
      ", 'Test':  best_epoch_indx:46\n",
      " auc:0.8425737058329286 \n",
      " apur:0.7817303548362223 \n",
      " f1:0.7060939122885889 \n",
      " precision:0.6863566498899973 \n",
      " recall:0.7269999361552704 \n",
      "}\n",
      "=====Epoch 47\n",
      "Training...\n"
     ]
    },
    {
     "name": "stderr",
     "output_type": "stream",
     "text": [
      "\r",
      "Iteration:  88%|████████▊ | 234/267 [00:03<00:00, 70.85it/s]\r",
      "Iteration:  30%|███       | 81/267 [00:02<00:05, 33.05it/s]\r",
      "Iteration:   2%|▏         | 5/267 [00:00<00:05, 47.43it/s]\r",
      "Iteration:  32%|███▏      | 86/267 [00:02<00:04, 36.37it/s]\r",
      "Iteration:   4%|▎         | 10/267 [00:00<00:06, 41.15it/s]"
     ]
    },
    {
     "name": "stdout",
     "output_type": "stream",
     "text": [
      "{'Train':  best_epoch_indx:45\n",
      " auc:0.8360324057850508 \n",
      " apur:0.7739752072445949 \n",
      " f1:0.7026968948103578 \n",
      " precision:0.6767584188274252 \n",
      " recall:0.7307029304730894 \n",
      ", 'Validation':  best_epoch_indx:45\n",
      " auc:0.8360324057850508 \n",
      " apur:0.7739752072445949 \n",
      " f1:0.7026968948103578 \n",
      " precision:0.6767584188274252 \n",
      " recall:0.7307029304730894 \n",
      ", 'Test':  best_epoch_indx:45\n",
      " auc:0.8360324057850508 \n",
      " apur:0.7739752072445949 \n",
      " f1:0.7026968948103578 \n",
      " precision:0.6767584188274252 \n",
      " recall:0.7307029304730894 \n",
      "}\n",
      "=====Epoch 46\n",
      "Training...\n"
     ]
    },
    {
     "name": "stderr",
     "output_type": "stream",
     "text": [
      "Iteration: 100%|██████████| 267/267 [00:04<00:00, 63.43it/s]\n",
      "Iteration:  93%|█████████▎| 247/267 [00:02<00:00, 108.77it/s]"
     ]
    },
    {
     "name": "stdout",
     "output_type": "stream",
     "text": [
      "{'Train':  best_epoch_indx:44\n",
      " auc:0.8262714464780607 \n",
      " apur:0.7650543321900947 \n",
      " f1:0.6961208800918971 \n",
      " precision:0.6461614173228346 \n",
      " recall:0.7544531698908256 \n",
      ", 'Validation':  best_epoch_indx:44\n",
      " auc:0.8262714458202745 \n",
      " apur:0.7650543319452763 \n",
      " f1:0.6961208800918971 \n",
      " precision:0.6461614173228346 \n",
      " recall:0.7544531698908256 \n",
      ", 'Test':  best_epoch_indx:44\n",
      " auc:0.8262714464780607 \n",
      " apur:0.7650543321900947 \n",
      " f1:0.6961208800918971 \n",
      " precision:0.6461614173228346 \n",
      " recall:0.7544531698908256 \n",
      "}\n",
      "=====Epoch 45\n",
      "Training...\n"
     ]
    },
    {
     "name": "stderr",
     "output_type": "stream",
     "text": [
      "Iteration: 100%|██████████| 267/267 [00:02<00:00, 124.17it/s]\n",
      "Iteration: 100%|██████████| 267/267 [00:06<00:00, 40.75it/s]\n",
      "Iteration:  27%|██▋       | 71/267 [00:01<00:04, 43.26it/s]]"
     ]
    },
    {
     "name": "stdout",
     "output_type": "stream",
     "text": [
      "Evaluating...\n"
     ]
    },
    {
     "name": "stderr",
     "output_type": "stream",
     "text": [
      "Iteration: 100%|██████████| 267/267 [00:05<00:00, 45.34it/s] \n",
      "Iteration:  40%|████      | 108/267 [00:01<00:02, 72.14it/s]"
     ]
    },
    {
     "name": "stdout",
     "output_type": "stream",
     "text": [
      "Evaluating...\n"
     ]
    },
    {
     "name": "stderr",
     "output_type": "stream",
     "text": [
      "Iteration: 100%|██████████| 267/267 [00:06<00:00, 39.54it/s]]\n",
      "Iteration:   0%|          | 0/267 [00:00<?, ?it/s]"
     ]
    },
    {
     "name": "stdout",
     "output_type": "stream",
     "text": [
      "Evaluating...\n"
     ]
    },
    {
     "name": "stderr",
     "output_type": "stream",
     "text": [
      "Iteration: 100%|██████████| 267/267 [00:03<00:00, 79.97it/s]]\n",
      "Iteration: 100%|██████████| 267/267 [00:03<00:00, 85.92it/s] \n",
      "Iteration: 100%|██████████| 267/267 [00:06<00:00, 42.55it/s]]\n",
      "Iteration:   4%|▍         | 12/267 [00:00<00:02, 117.18it/s]]"
     ]
    },
    {
     "name": "stdout",
     "output_type": "stream",
     "text": [
      "Evaluating...\n",
      "{'Train':  best_epoch_indx:46\n",
      " auc:0.8452853574960804 \n",
      " apur:0.7854530867693803 \n",
      " f1:0.716778175106702 \n",
      " precision:0.6536489151873768 \n",
      " recall:0.7934050499569062 \n",
      ", 'Validation':  best_epoch_indx:46\n",
      " auc:0.8452853574960804 \n",
      " apur:0.7854530867693803 \n",
      " f1:0.716778175106702 \n",
      " precision:0.6536489151873768 \n",
      " recall:0.7934050499569062 \n",
      ", 'Test':  best_epoch_indx:46\n",
      " auc:0.8452853574960804 \n",
      " apur:0.7854530867693803 \n",
      " f1:0.716778175106702 \n",
      " precision:0.6536489151873768 \n",
      " recall:0.7934050499569062 \n",
      "}\n",
      "=====Epoch 47\n",
      "Training...\n"
     ]
    },
    {
     "name": "stderr",
     "output_type": "stream",
     "text": [
      "Iteration: 100%|██████████| 267/267 [00:03<00:00, 87.57it/s] \n",
      "Iteration: 100%|██████████| 267/267 [00:02<00:00, 120.80it/s]\n",
      "Iteration: 100%|██████████| 267/267 [00:02<00:00, 91.76it/s] \n",
      "Iteration: 100%|██████████| 267/267 [00:03<00:00, 79.01it/s]]\n",
      "Iteration: 100%|██████████| 267/267 [00:02<00:00, 113.90it/s]\n",
      "Iteration: 100%|██████████| 267/267 [00:02<00:00, 113.71it/s]\n",
      "Iteration: 100%|██████████| 267/267 [00:02<00:00, 112.51it/s]\n",
      "Iteration: 100%|██████████| 267/267 [00:02<00:00, 119.31it/s]\n",
      "Iteration: 100%|██████████| 267/267 [00:07<00:00, 37.04it/s]]\n",
      "Iteration:  98%|█████████▊| 262/267 [00:02<00:00, 115.85it/s]"
     ]
    },
    {
     "name": "stdout",
     "output_type": "stream",
     "text": [
      "{'Train':  best_epoch_indx:46\n",
      " auc:0.844502156989237 \n",
      " apur:0.7843375723527496 \n",
      " f1:0.7087436449411443 \n",
      " precision:0.6792204371872531 \n",
      " recall:0.7409500095767094 \n",
      ", 'Validation':  best_epoch_indx:46\n",
      " auc:0.8445021569892369 \n",
      " apur:0.7843375723527497 \n",
      " f1:0.7087436449411443 \n",
      " precision:0.6792204371872531 \n",
      " recall:0.7409500095767094 \n",
      ", 'Test':  best_epoch_indx:46\n",
      " auc:0.8445021569892369 \n",
      " apur:0.7843375723527616 \n",
      " f1:0.7087436449411443 \n",
      " precision:0.6792204371872531 \n",
      " recall:0.7409500095767094 \n",
      "}\n",
      "=====Epoch 47\n",
      "Training...\n",
      "Evaluating...\n"
     ]
    },
    {
     "name": "stderr",
     "output_type": "stream",
     "text": [
      "Iteration: 100%|██████████| 267/267 [00:02<00:00, 113.65it/s]\n",
      "Iteration: 100%|██████████| 267/267 [00:03<00:00, 81.07it/s]\n",
      "Iteration:   0%|          | 0/267 [00:00<?, ?it/s]27.89it/s]"
     ]
    },
    {
     "name": "stdout",
     "output_type": "stream",
     "text": [
      "{'Train':  best_epoch_indx:47\n",
      " auc:0.851703842243712 \n",
      " apur:0.7937851233709246 \n",
      " f1:0.720880944970581 \n",
      " precision:0.6728082551802362 \n",
      " recall:0.776351912149652 \n",
      ", 'Validation':  best_epoch_indx:47\n",
      " auc:0.8517038422437119 \n",
      " apur:0.7937851233709246 \n",
      " f1:0.720880944970581 \n",
      " precision:0.6728082551802362 \n",
      " recall:0.776351912149652 \n",
      ", 'Test':  best_epoch_indx:47\n",
      " auc:0.8517038422437119 \n",
      " apur:0.7937851233709246 \n",
      " f1:0.720880944970581 \n",
      " precision:0.6728082551802362 \n",
      " recall:0.776351912149652 \n",
      "}\n",
      "=====Epoch 48\n",
      "Training...\n"
     ]
    },
    {
     "name": "stderr",
     "output_type": "stream",
     "text": [
      "Iteration:  53%|█████▎    | 142/267 [00:01<00:01, 100.01it/s]"
     ]
    },
    {
     "name": "stdout",
     "output_type": "stream",
     "text": [
      "{'Train':  best_epoch_indx:46\n",
      " auc:0.8403902877787045 \n",
      " apur:0.7800158353256279 \n",
      " f1:0.6979750107712193 \n",
      " precision:0.6978079831530583 \n",
      " recall:0.6981421183681287 \n",
      ", 'Validation':  best_epoch_indx:46\n",
      " auc:0.8403902877787045 \n",
      " apur:0.7800158353256279 \n",
      " f1:0.6979750107712193 \n",
      " precision:0.6978079831530583 \n",
      " recall:0.6981421183681287 \n",
      ", 'Test':  best_epoch_indx:46\n",
      " auc:0.8403902877787045 \n",
      " apur:0.7800158353256279 \n",
      " f1:0.6979750107712193 \n",
      " precision:0.6978079831530583 \n",
      " recall:0.6981421183681287 \n",
      "}\n",
      "=====Epoch 47\n",
      "Training...\n"
     ]
    },
    {
     "name": "stderr",
     "output_type": "stream",
     "text": [
      "Iteration: 100%|██████████| 267/267 [00:02<00:00, 122.75it/s]\n",
      "Iteration: 100%|██████████| 267/267 [00:02<00:00, 117.78it/s]\n",
      "Iteration: 100%|██████████| 267/267 [00:02<00:00, 102.26it/s]\n",
      "Iteration: 100%|██████████| 267/267 [00:05<00:00, 45.09it/s]\n",
      "Iteration:   0%|          | 0/267 [00:00<?, ?it/s]"
     ]
    },
    {
     "name": "stdout",
     "output_type": "stream",
     "text": [
      "{'Train':  best_epoch_indx:45\n",
      " auc:0.8392051760697009 \n",
      " apur:0.7777282047304779 \n",
      " f1:0.7078324279208703 \n",
      " precision:0.6538263856953499 \n",
      " recall:0.7715635574283343 \n",
      ", 'Validation':  best_epoch_indx:45\n",
      " auc:0.8392051760697009 \n",
      " apur:0.7777282047304779 \n",
      " f1:0.7078324279208703 \n",
      " precision:0.6538263856953499 \n",
      " recall:0.7715635574283343 \n",
      ", 'Test':  best_epoch_indx:45\n",
      " auc:0.8392051760697008 \n",
      " apur:0.7777282047304779 \n",
      " f1:0.7078324279208703 \n",
      " precision:0.6538263856953499 \n",
      " recall:0.7715635574283343 \n",
      "}\n",
      "=====Epoch 46\n",
      "Training...\n",
      "Evaluating...\n"
     ]
    },
    {
     "name": "stderr",
     "output_type": "stream",
     "text": [
      "Iteration: 100%|██████████| 267/267 [00:06<00:00, 39.48it/s]]\n",
      "Iteration:  28%|██▊       | 74/267 [00:01<00:04, 39.97it/s]s]"
     ]
    },
    {
     "name": "stdout",
     "output_type": "stream",
     "text": [
      "Evaluating...\n"
     ]
    },
    {
     "name": "stderr",
     "output_type": "stream",
     "text": [
      "\r",
      "Iteration:  16%|█▌        | 42/267 [00:00<00:03, 67.14it/s]\r",
      "Iteration:  99%|█████████▊| 263/267 [00:06<00:00, 45.52it/s]\r",
      "Iteration:  84%|████████▎ | 223/267 [00:01<00:00, 122.69it/s]\r",
      "Iteration:  30%|██▉       | 79/267 [00:02<00:04, 41.47it/s]\r",
      "Iteration:  18%|█▊        | 49/267 [00:00<00:03, 66.68it/s]\r",
      "Iteration: 100%|██████████| 267/267 [00:06<00:00, 39.39it/s]\n",
      "\r",
      "Iteration:   0%|          | 0/267 [00:00<?, ?it/s]\r",
      "Iteration:  88%|████████▊ | 236/267 [00:01<00:00, 123.27it/s]\r",
      "Iteration:   5%|▌         | 14/267 [00:00<00:07, 34.08it/s]"
     ]
    },
    {
     "name": "stdout",
     "output_type": "stream",
     "text": [
      "Evaluating...\n"
     ]
    },
    {
     "name": "stderr",
     "output_type": "stream",
     "text": [
      "Iteration: 100%|██████████| 267/267 [00:02<00:00, 121.72it/s]\n",
      "Iteration: 100%|██████████| 267/267 [00:02<00:00, 118.56it/s]\n",
      "Iteration: 100%|██████████| 267/267 [00:03<00:00, 67.19it/s] \n",
      "Iteration: 100%|██████████| 267/267 [00:02<00:00, 119.80it/s]\n",
      "Iteration: 100%|██████████| 267/267 [00:04<00:00, 62.04it/s]\n",
      "Iteration: 100%|██████████| 267/267 [00:06<00:00, 42.78it/s]\n",
      "Iteration:   0%|          | 0/267 [00:00<?, ?it/s].26it/s]"
     ]
    },
    {
     "name": "stdout",
     "output_type": "stream",
     "text": [
      "{'Train':  best_epoch_indx:47\n",
      " auc:0.857030794616162 \n",
      " apur:0.8018736058255732 \n",
      " f1:0.7269035532994923 \n",
      " precision:0.6742180250013647 \n",
      " recall:0.7885210840489035 \n",
      ", 'Validation':  best_epoch_indx:47\n",
      " auc:0.8570307946161622 \n",
      " apur:0.8018736058255732 \n",
      " f1:0.7269035532994923 \n",
      " precision:0.6742180250013647 \n",
      " recall:0.7885210840489035 \n",
      ", 'Test':  best_epoch_indx:47\n",
      " auc:0.857030794616162 \n",
      " apur:0.8018736058255732 \n",
      " f1:0.7269035532994923 \n",
      " precision:0.6742180250013647 \n",
      " recall:0.7885210840489035 \n",
      "}\n",
      "=====Epoch 48\n",
      "Training...\n",
      "Evaluating...\n"
     ]
    },
    {
     "name": "stderr",
     "output_type": "stream",
     "text": [
      "Iteration: 100%|██████████| 267/267 [00:02<00:00, 90.67it/s] \n",
      "Iteration: 100%|██████████| 267/267 [00:02<00:00, 114.08it/s]\n",
      "Iteration: 100%|██████████| 267/267 [00:02<00:00, 123.03it/s]\n",
      "Iteration:  11%|█         | 30/267 [00:00<00:03, 63.77it/s]] "
     ]
    },
    {
     "name": "stdout",
     "output_type": "stream",
     "text": [
      "{'Train':  best_epoch_indx:47\n",
      " auc:0.8536604485525812 \n",
      " apur:0.7975311677884491 \n",
      " f1:0.715769092640882 \n",
      " precision:0.700553229208057 \n",
      " recall:0.731660601417353 \n",
      ", 'Validation':  best_epoch_indx:47\n",
      " auc:0.8536604485525812 \n",
      " apur:0.7975311677884334 \n",
      " f1:0.715769092640882 \n",
      " precision:0.700553229208057 \n",
      " recall:0.731660601417353 \n",
      ", 'Test':  best_epoch_indx:47\n",
      " auc:0.853660448552581 \n",
      " apur:0.7975311677884687 \n",
      " f1:0.715769092640882 \n",
      " precision:0.700553229208057 \n",
      " recall:0.731660601417353 \n",
      "}\n",
      "=====Epoch 48\n",
      "Training...\n"
     ]
    },
    {
     "name": "stderr",
     "output_type": "stream",
     "text": [
      "Iteration: 100%|██████████| 267/267 [00:03<00:00, 79.02it/s] \n",
      "Iteration: 100%|██████████| 267/267 [00:02<00:00, 120.82it/s]\n",
      "Iteration:  72%|███████▏  | 192/267 [00:02<00:01, 58.50it/s]"
     ]
    },
    {
     "name": "stdout",
     "output_type": "stream",
     "text": [
      "{'Train':  best_epoch_indx:47\n",
      " auc:0.8548919836765353 \n",
      " apur:0.7989457323651648 \n",
      " f1:0.7227515331324842 \n",
      " precision:0.6937145876757772 \n",
      " recall:0.7543254804315904 \n",
      ", 'Validation':  best_epoch_indx:47\n",
      " auc:0.8548919836765353 \n",
      " apur:0.7989457323651648 \n",
      " f1:0.7227515331324842 \n",
      " precision:0.6937145876757772 \n",
      " recall:0.7543254804315904 \n",
      ", 'Test':  best_epoch_indx:47\n",
      " auc:0.8548919836765353 \n",
      " apur:0.7989457323651648 \n",
      " f1:0.7227515331324842 \n",
      " precision:0.6937145876757772 \n",
      " recall:0.7543254804315904 \n",
      "}\n",
      "=====Epoch 48\n",
      "Training...\n"
     ]
    },
    {
     "name": "stderr",
     "output_type": "stream",
     "text": [
      "Iteration: 100%|██████████| 267/267 [00:06<00:00, 38.57it/s]\n",
      "Iteration:  57%|█████▋    | 151/267 [00:03<00:02, 45.64it/s]"
     ]
    },
    {
     "name": "stdout",
     "output_type": "stream",
     "text": [
      "Evaluating...\n"
     ]
    },
    {
     "name": "stderr",
     "output_type": "stream",
     "text": [
      "Iteration: 100%|██████████| 267/267 [00:04<00:00, 59.71it/s]\n",
      "Iteration: 100%|██████████| 267/267 [00:02<00:00, 122.19it/s]\n",
      "Iteration: 100%|██████████| 267/267 [00:05<00:00, 45.10it/s]\n",
      "Iteration:  95%|█████████▍| 253/267 [00:03<00:00, 67.87it/s]"
     ]
    },
    {
     "name": "stdout",
     "output_type": "stream",
     "text": [
      "Evaluating...\n"
     ]
    },
    {
     "name": "stderr",
     "output_type": "stream",
     "text": [
      "Iteration: 100%|██████████| 267/267 [00:03<00:00, 66.92it/s]\n",
      "Iteration:  13%|█▎        | 35/267 [00:00<00:03, 59.47it/s]]]"
     ]
    },
    {
     "name": "stdout",
     "output_type": "stream",
     "text": [
      "{'Train':  best_epoch_indx:48\n",
      " auc:0.8591523455755109 \n",
      " apur:0.8048388080630359 \n",
      " f1:0.7266816177245292 \n",
      " precision:0.6874946600973998 \n",
      " recall:0.7706058864840707 \n",
      ", 'Validation':  best_epoch_indx:48\n",
      " auc:0.8591523455755109 \n",
      " apur:0.8048388080630359 \n",
      " f1:0.7266816177245292 \n",
      " precision:0.6874946600973998 \n",
      " recall:0.7706058864840707 \n",
      ", 'Test':  best_epoch_indx:48\n",
      " auc:0.8591523455755109 \n",
      " apur:0.8048388080630359 \n",
      " f1:0.7266816177245292 \n",
      " precision:0.6874946600973998 \n",
      " recall:0.7706058864840707 \n",
      "}\n",
      "=====Epoch 49\n",
      "Training...\n"
     ]
    },
    {
     "name": "stderr",
     "output_type": "stream",
     "text": [
      "Iteration: 100%|██████████| 267/267 [00:02<00:00, 120.12it/s]\n",
      "Iteration: 100%|██████████| 267/267 [00:05<00:00, 44.98it/s]\n",
      "Iteration:  27%|██▋       | 71/267 [00:01<00:04, 45.57it/s]"
     ]
    },
    {
     "name": "stdout",
     "output_type": "stream",
     "text": [
      "Evaluating...\n"
     ]
    },
    {
     "name": "stderr",
     "output_type": "stream",
     "text": [
      "Iteration: 100%|██████████| 267/267 [00:03<00:00, 76.08it/s] \n",
      "Iteration: 100%|██████████| 267/267 [00:03<00:00, 67.64it/s]]\n",
      "Iteration: 100%|██████████| 267/267 [00:02<00:00, 117.82it/s]\n",
      "Iteration:   0%|          | 0/267 [00:00<?, ?it/s]45.58it/s]"
     ]
    },
    {
     "name": "stdout",
     "output_type": "stream",
     "text": [
      "{'Train':  best_epoch_indx:46\n",
      " auc:0.8453404411343239 \n",
      " apur:0.7867861511882092 \n",
      " f1:0.7086110123235353 \n",
      " precision:0.6871382733079437 \n",
      " recall:0.7314690672285002 \n",
      ", 'Validation':  best_epoch_indx:46\n",
      " auc:0.8453404411343239 \n",
      " apur:0.7867861511882092 \n",
      " f1:0.7086110123235353 \n",
      " precision:0.6871382733079437 \n",
      " recall:0.7314690672285002 \n",
      ", 'Test':  best_epoch_indx:46\n",
      " auc:0.8453404411343239 \n",
      " apur:0.7867861511882092 \n",
      " f1:0.7086110123235353 \n",
      " precision:0.6871382733079437 \n",
      " recall:0.7314690672285002 \n",
      "}\n",
      "=====Epoch 47\n",
      "Training...\n"
     ]
    },
    {
     "name": "stderr",
     "output_type": "stream",
     "text": [
      "Iteration: 100%|██████████| 267/267 [00:05<00:00, 45.67it/s]]\n",
      "Iteration:  90%|█████████ | 241/267 [00:03<00:00, 55.70it/s]"
     ]
    },
    {
     "name": "stdout",
     "output_type": "stream",
     "text": [
      "Evaluating...\n"
     ]
    },
    {
     "name": "stderr",
     "output_type": "stream",
     "text": [
      "Iteration: 100%|██████████| 267/267 [00:04<00:00, 60.89it/s]]\n",
      "Iteration: 100%|██████████| 267/267 [00:02<00:00, 118.00it/s]\n",
      "Iteration: 100%|██████████| 267/267 [00:02<00:00, 97.69it/s] \n",
      "Iteration: 100%|██████████| 267/267 [00:02<00:00, 102.88it/s]\n",
      "Iteration:   2%|▏         | 5/267 [00:00<00:05, 45.59it/s]]]"
     ]
    },
    {
     "name": "stdout",
     "output_type": "stream",
     "text": [
      "{'Train':  best_epoch_indx:48\n",
      " auc:0.8645264523734958 \n",
      " apur:0.8110721664132181 \n",
      " f1:0.733847792154746 \n",
      " precision:0.6757199656135826 \n",
      " recall:0.8029176110064801 \n",
      ", 'Validation':  best_epoch_indx:48\n",
      " auc:0.8645264527023853 \n",
      " apur:0.8110721666188093 \n",
      " f1:0.733847792154746 \n",
      " precision:0.6757199656135826 \n",
      " recall:0.8029176110064801 \n",
      ", 'Test':  best_epoch_indx:48\n",
      " auc:0.8645264520446063 \n",
      " apur:0.8110721659480451 \n",
      " f1:0.733847792154746 \n",
      " precision:0.6757199656135826 \n",
      " recall:0.8029176110064801 \n",
      "}\n",
      "=====Epoch 49\n",
      "Training...\n"
     ]
    },
    {
     "name": "stderr",
     "output_type": "stream",
     "text": [
      "Iteration: 100%|██████████| 267/267 [00:05<00:00, 45.56it/s]]\n",
      "Iteration:   0%|          | 0/267 [00:00<?, ?it/s]8.55it/s]"
     ]
    },
    {
     "name": "stdout",
     "output_type": "stream",
     "text": [
      "Evaluating...\n"
     ]
    },
    {
     "name": "stderr",
     "output_type": "stream",
     "text": [
      "Iteration: 100%|██████████| 267/267 [00:02<00:00, 90.81it/s] \n",
      "Iteration: 100%|██████████| 267/267 [00:02<00:00, 112.55it/s]\n"
     ]
    },
    {
     "name": "stdout",
     "output_type": "stream",
     "text": [
      "{'Train':  best_epoch_indx:48\n",
      " auc:0.8612822112984222 \n",
      " apur:0.8060015001705896 \n",
      " f1:0.7314243213090368 \n",
      " precision:0.6848380177720828 \n",
      " recall:0.7848113388239801 \n",
      ", 'Validation':  best_epoch_indx:48\n",
      " auc:0.8612822112984222 \n",
      " apur:0.8060015001705896 \n",
      " f1:0.7314243213090368 \n",
      " precision:0.6848380177720828 \n",
      " recall:0.7848113388239801 \n",
      ", 'Test':  best_epoch_indx:48\n",
      " auc:0.8612822112984222 \n",
      " apur:0.8060015001705896 \n",
      " f1:0.7314243213090368 \n",
      " precision:0.6848380177720828 \n",
      " recall:0.7848113388239801 \n",
      "}\n",
      "=====Epoch 49\n",
      "Training...\n"
     ]
    },
    {
     "name": "stderr",
     "output_type": "stream",
     "text": [
      "Iteration: 100%|██████████| 267/267 [00:02<00:00, 119.86it/s]\n",
      "Iteration: 100%|██████████| 267/267 [00:03<00:00, 78.25it/s] \n",
      "Iteration:  11%|█         | 29/267 [00:00<00:03, 69.56it/s]]"
     ]
    },
    {
     "name": "stdout",
     "output_type": "stream",
     "text": [
      "{'Train':  best_epoch_indx:48\n",
      " auc:0.8632100159159267 \n",
      " apur:0.8096791396575933 \n",
      " f1:0.731953634897427 \n",
      " precision:0.6933775023559985 \n",
      " recall:0.7750750175573007 \n",
      ", 'Validation':  best_epoch_indx:48\n",
      " auc:0.8632100159159267 \n",
      " apur:0.8096791396575933 \n",
      " f1:0.731953634897427 \n",
      " precision:0.6933775023559985 \n",
      " recall:0.7750750175573007 \n",
      ", 'Test':  best_epoch_indx:48\n",
      " auc:0.8632100159159267 \n",
      " apur:0.8096791396575933 \n",
      " f1:0.731953634897427 \n",
      " precision:0.6933775023559985 \n",
      " recall:0.7750750175573007 \n",
      "}\n",
      "=====Epoch 49\n",
      "Training...\n"
     ]
    },
    {
     "name": "stderr",
     "output_type": "stream",
     "text": [
      "Iteration: 100%|██████████| 267/267 [00:02<00:00, 122.07it/s]\n",
      "Iteration: 100%|██████████| 267/267 [00:06<00:00, 39.66it/s]\n",
      "Iteration:  74%|███████▍  | 197/267 [00:04<00:01, 45.70it/s]"
     ]
    },
    {
     "name": "stdout",
     "output_type": "stream",
     "text": [
      "Evaluating...\n"
     ]
    },
    {
     "name": "stderr",
     "output_type": "stream",
     "text": [
      "Iteration: 100%|██████████| 267/267 [00:03<00:00, 79.18it/s] \n",
      "Iteration: 100%|██████████| 267/267 [00:05<00:00, 45.80it/s]]\n",
      "Iteration:   0%|          | 0/267 [00:00<?, ?it/s]"
     ]
    },
    {
     "name": "stdout",
     "output_type": "stream",
     "text": [
      "{'Train':  best_epoch_indx:49\n",
      " auc:0.8689286783329262 \n",
      " apur:0.8164642239511917 \n",
      " f1:0.7382873660122847 \n",
      " precision:0.6986153057154254 \n",
      " recall:0.7827363851114091 \n",
      ", 'Validation':  best_epoch_indx:49\n",
      " auc:0.8689286780040331 \n",
      " apur:0.8164642233901105 \n",
      " f1:0.7382873660122847 \n",
      " precision:0.6986153057154254 \n",
      " recall:0.7827363851114091 \n",
      ", 'Test':  best_epoch_indx:49\n",
      " auc:0.8689286783329262 \n",
      " apur:0.8164642237799962 \n",
      " f1:0.7382873660122847 \n",
      " precision:0.6986153057154254 \n",
      " recall:0.7827363851114091 \n",
      "}\n",
      "=====Epoch 50\n",
      "Training...\n",
      "Evaluating...\n"
     ]
    },
    {
     "name": "stderr",
     "output_type": "stream",
     "text": [
      "Iteration: 100%|██████████| 267/267 [00:02<00:00, 118.21it/s]\n",
      "Iteration: 100%|██████████| 267/267 [00:02<00:00, 103.03it/s]\n",
      "Iteration: 100%|██████████| 267/267 [00:02<00:00, 118.25it/s]\n",
      "Iteration:  99%|█████████▊| 263/267 [00:06<00:00, 38.93it/s]]"
     ]
    },
    {
     "name": "stdout",
     "output_type": "stream",
     "text": [
      "{'Train':  best_epoch_indx:47\n",
      " auc:0.8561831430206533 \n",
      " apur:0.7993284795232052 \n",
      " f1:0.7256114337016175 \n",
      " precision:0.6640076325762595 \n",
      " recall:0.799814850284109 \n",
      ", 'Validation':  best_epoch_indx:47\n",
      " auc:0.8561831430206535 \n",
      " apur:0.7993284795232132 \n",
      " f1:0.7256114337016175 \n",
      " precision:0.6640076325762595 \n",
      " recall:0.799814850284109 \n",
      ", 'Test':  best_epoch_indx:47\n",
      " auc:0.8561831436784396 \n",
      " apur:0.7993284801845648 \n",
      " f1:0.7256114337016175 \n",
      " precision:0.6640076325762595 \n",
      " recall:0.799814850284109 \n",
      "}\n",
      "=====Epoch 48\n",
      "Training...\n"
     ]
    },
    {
     "name": "stderr",
     "output_type": "stream",
     "text": [
      "\r",
      "Iteration:  43%|████▎     | 116/267 [00:01<00:01, 114.53it/s]\r",
      "Iteration:  39%|███▉      | 105/267 [00:02<00:03, 42.92it/s]\r",
      "Iteration:   4%|▎         | 10/267 [00:00<00:06, 39.54it/s]\r",
      "Iteration: 100%|██████████| 267/267 [00:06<00:00, 39.22it/s]\r",
      "Iteration: 100%|██████████| 267/267 [00:06<00:00, 40.05it/s]\n",
      "\r",
      "Iteration:   0%|          | 0/267 [00:00<?, ?it/s]\r",
      "Iteration:  48%|████▊     | 129/267 [00:01<00:01, 117.48it/s]\r",
      "Iteration:  41%|████      | 110/267 [00:02<00:03, 43.58it/s]\r",
      "Iteration:   6%|▌         | 15/267 [00:00<00:06, 40.17it/s]\r",
      "Iteration:   3%|▎         | 7/267 [00:00<00:03, 66.28it/s]"
     ]
    },
    {
     "name": "stdout",
     "output_type": "stream",
     "text": [
      "Evaluating...\n"
     ]
    },
    {
     "name": "stderr",
     "output_type": "stream",
     "text": [
      "Iteration: 100%|██████████| 267/267 [00:02<00:00, 119.69it/s]\n",
      "Iteration: 100%|██████████| 267/267 [00:02<00:00, 110.16it/s]\n",
      "Iteration: 100%|██████████| 267/267 [00:02<00:00, 92.01it/s] \n",
      "Iteration: 100%|██████████| 267/267 [00:06<00:00, 41.34it/s]\n",
      "Iteration:   4%|▍         | 12/267 [00:00<00:02, 117.09it/s]"
     ]
    },
    {
     "name": "stdout",
     "output_type": "stream",
     "text": [
      "Evaluating...\n"
     ]
    },
    {
     "name": "stderr",
     "output_type": "stream",
     "text": [
      "Iteration: 100%|██████████| 267/267 [00:02<00:00, 120.13it/s]\n",
      "Iteration: 100%|██████████| 267/267 [00:02<00:00, 93.01it/s] \n",
      "Iteration: 100%|██████████| 267/267 [00:02<00:00, 122.76it/s]\n",
      "Iteration:  94%|█████████▎| 250/267 [00:06<00:00, 38.10it/s]]"
     ]
    },
    {
     "name": "stdout",
     "output_type": "stream",
     "text": [
      "{'Train':  best_epoch_indx:49\n",
      " auc:0.8725956925582377 \n",
      " apur:0.8207637659348027 \n",
      " f1:0.7436615566037736 \n",
      " precision:0.6908498343055898 \n",
      " recall:0.8052159479043637 \n",
      ", 'Validation':  best_epoch_indx:49\n",
      " auc:0.8725956922293483 \n",
      " apur:0.8207637658205645 \n",
      " f1:0.7436615566037736 \n",
      " precision:0.6908498343055898 \n",
      " recall:0.8052159479043637 \n",
      ", 'Test':  best_epoch_indx:49\n",
      " auc:0.8725956925582377 \n",
      " apur:0.8207637659348027 \n",
      " f1:0.7436615566037736 \n",
      " precision:0.6908498343055898 \n",
      " recall:0.8052159479043637 \n",
      "}\n",
      "=====Epoch 50\n",
      "Training...\n"
     ]
    },
    {
     "name": "stderr",
     "output_type": "stream",
     "text": [
      "Iteration: 100%|██████████| 267/267 [00:07<00:00, 37.19it/s]]\n",
      "Iteration:   9%|▉         | 25/267 [00:00<00:01, 122.50it/s]"
     ]
    },
    {
     "name": "stdout",
     "output_type": "stream",
     "text": [
      "Evaluating...\n"
     ]
    },
    {
     "name": "stderr",
     "output_type": "stream",
     "text": [
      "Iteration: 100%|██████████| 267/267 [00:02<00:00, 111.29it/s]\n",
      "Iteration:  68%|██████▊   | 181/267 [00:01<00:00, 100.37it/s]"
     ]
    },
    {
     "name": "stdout",
     "output_type": "stream",
     "text": [
      "{'Train':  best_epoch_indx:49\n",
      " auc:0.8691255769181861 \n",
      " apur:0.8174506229257732 \n",
      " f1:0.7384308871917167 \n",
      " precision:0.7003550160329821 \n",
      " recall:0.7808848879524996 \n",
      ", 'Validation':  best_epoch_indx:49\n",
      " auc:0.8691255769181861 \n",
      " apur:0.8174506229257732 \n",
      " f1:0.7384308871917167 \n",
      " precision:0.7003550160329821 \n",
      " recall:0.7808848879524996 \n",
      ", 'Test':  best_epoch_indx:49\n",
      " auc:0.8691255769181861 \n",
      " apur:0.8174506229257732 \n",
      " f1:0.7384308871917167 \n",
      " precision:0.7003550160329821 \n",
      " recall:0.7808848879524996 \n",
      "}\n",
      "=====Epoch 50\n",
      "Training...\n"
     ]
    },
    {
     "name": "stderr",
     "output_type": "stream",
     "text": [
      "Iteration: 100%|██████████| 267/267 [00:02<00:00, 124.67it/s]\n",
      "Iteration: 100%|██████████| 267/267 [00:02<00:00, 119.34it/s]\n",
      "Iteration: 100%|██████████| 267/267 [00:02<00:00, 97.39it/s] \n",
      "Iteration:   0%|          | 0/267 [00:00<?, ?it/s]"
     ]
    },
    {
     "name": "stdout",
     "output_type": "stream",
     "text": [
      "{'Train':  best_epoch_indx:49\n",
      " auc:0.8711505124174316 \n",
      " apur:0.8205649123379588 \n",
      " f1:0.7409964860593226 \n",
      " precision:0.7134414797742517 \n",
      " recall:0.7707654983081147 \n",
      ", 'Validation':  best_epoch_indx:49\n",
      " auc:0.8711505120885384 \n",
      " apur:0.8205649121434512 \n",
      " f1:0.7409964860593226 \n",
      " precision:0.7134414797742517 \n",
      " recall:0.7707654983081147 \n",
      ", 'Test':  best_epoch_indx:49\n",
      " auc:0.8711505124174316 \n",
      " apur:0.8205649123379588 \n",
      " f1:0.7409964860593226 \n",
      " precision:0.7134414797742517 \n",
      " recall:0.7707654983081147 \n",
      "}\n",
      "=====Epoch 50\n",
      "Training...\n"
     ]
    },
    {
     "name": "stderr",
     "output_type": "stream",
     "text": [
      "Iteration: 100%|██████████| 267/267 [00:02<00:00, 121.46it/s]\n",
      "Iteration: 100%|██████████| 267/267 [00:06<00:00, 42.51it/s]\n",
      "Iteration:   0%|          | 0/267 [00:00<?, ?it/s]45.76it/s]"
     ]
    },
    {
     "name": "stdout",
     "output_type": "stream",
     "text": [
      "Evaluating...\n"
     ]
    },
    {
     "name": "stderr",
     "output_type": "stream",
     "text": [
      "Iteration: 100%|██████████| 267/267 [00:03<00:00, 74.24it/s] \n",
      "Iteration: 100%|██████████| 267/267 [00:06<00:00, 42.76it/s]]\n",
      "Iteration:  70%|███████   | 187/267 [00:04<00:01, 40.25it/s]"
     ]
    },
    {
     "name": "stdout",
     "output_type": "stream",
     "text": [
      "Evaluating...\n"
     ]
    },
    {
     "name": "stderr",
     "output_type": "stream",
     "text": [
      "Iteration: 100%|██████████| 267/267 [00:02<00:00, 124.02it/s]\n"
     ]
    },
    {
     "name": "stdout",
     "output_type": "stream",
     "text": [
      "{'Train':  best_epoch_indx:50\n",
      " auc:0.867800476642413 \n",
      " apur:0.8151128886969552 \n",
      " f1:0.7390505771499395 \n",
      " precision:0.6943127297213882 \n",
      " recall:0.7899508395581945 \n",
      ", 'Validation':  best_epoch_indx:50\n",
      " auc:0.8678004766424129 \n",
      " apur:0.8151128886969917 \n",
      " f1:0.7390505771499395 \n",
      " precision:0.6943127297213882 \n",
      " recall:0.7899508395581945 \n",
      ", 'Test':  best_epoch_indx:50\n",
      " auc:0.8678004766424129 \n",
      " apur:0.8151128886969917 \n",
      " f1:0.7390505771499395 \n",
      " precision:0.6943127297213882 \n",
      " recall:0.7899508395581945 \n",
      "}\n",
      "=====Epoch 51\n",
      "Training...\n"
     ]
    },
    {
     "name": "stderr",
     "output_type": "stream",
     "text": [
      "Iteration: 100%|██████████| 267/267 [00:06<00:00, 39.16it/s]]\n",
      "Iteration: 100%|██████████| 267/267 [00:02<00:00, 127.26it/s]\n",
      "Iteration:  94%|█████████▍| 251/267 [00:02<00:00, 121.44it/s]"
     ]
    },
    {
     "name": "stdout",
     "output_type": "stream",
     "text": [
      "Evaluating...\n"
     ]
    },
    {
     "name": "stderr",
     "output_type": "stream",
     "text": [
      "Iteration: 100%|██████████| 267/267 [00:02<00:00, 106.46it/s]\n",
      "Iteration:   1%|▏         | 4/267 [00:00<00:07, 34.86it/s]]s]"
     ]
    },
    {
     "name": "stdout",
     "output_type": "stream",
     "text": [
      "{'Train':  best_epoch_indx:48\n",
      " auc:0.8643645612863952 \n",
      " apur:0.8090995515942014 \n",
      " f1:0.7320692497938994 \n",
      " precision:0.7015449438202247 \n",
      " recall:0.76537061865543 \n",
      ", 'Validation':  best_epoch_indx:48\n",
      " auc:0.8643645612863952 \n",
      " apur:0.8090995515942014 \n",
      " f1:0.7320692497938994 \n",
      " precision:0.7015449438202247 \n",
      " recall:0.76537061865543 \n",
      ", 'Test':  best_epoch_indx:48\n",
      " auc:0.8643645616152882 \n",
      " apur:0.8090995518264916 \n",
      " f1:0.7320692497938994 \n",
      " precision:0.7015449438202247 \n",
      " recall:0.76537061865543 \n",
      "}\n",
      "=====Epoch 49\n",
      "Training...\n"
     ]
    },
    {
     "name": "stderr",
     "output_type": "stream",
     "text": [
      "Iteration: 100%|██████████| 267/267 [00:02<00:00, 91.51it/s] \n",
      "Iteration: 100%|██████████| 267/267 [00:02<00:00, 124.28it/s]\n",
      "Iteration: 100%|██████████| 267/267 [00:02<00:00, 117.32it/s]\n",
      "Iteration: 100%|██████████| 267/267 [00:02<00:00, 118.65it/s]\n",
      "Iteration: 100%|██████████| 267/267 [00:06<00:00, 38.61it/s]\n",
      "Iteration:  75%|███████▌  | 201/267 [00:01<00:00, 118.66it/s]"
     ]
    },
    {
     "name": "stdout",
     "output_type": "stream",
     "text": [
      "Evaluating...\n"
     ]
    },
    {
     "name": "stderr",
     "output_type": "stream",
     "text": [
      "Iteration: 100%|██████████| 267/267 [00:02<00:00, 112.45it/s]\n",
      "Iteration:   2%|▏         | 5/267 [00:00<00:06, 43.40it/s]s]]"
     ]
    },
    {
     "name": "stdout",
     "output_type": "stream",
     "text": [
      "{'Train':  best_epoch_indx:50\n",
      " auc:0.8696809561107491 \n",
      " apur:0.8172122303303255 \n",
      " f1:0.7383720930232557 \n",
      " precision:0.7056171277307502 \n",
      " recall:0.7743160851661506 \n",
      ", 'Validation':  best_epoch_indx:50\n",
      " auc:0.8696809561107491 \n",
      " apur:0.8172122303303255 \n",
      " f1:0.7383720930232557 \n",
      " precision:0.7056171277307502 \n",
      " recall:0.7743160851661506 \n",
      ", 'Test':  best_epoch_indx:50\n",
      " auc:0.8696809561107491 \n",
      " apur:0.8172122303303255 \n",
      " f1:0.7383720930232557 \n",
      " precision:0.7056171277307502 \n",
      " recall:0.7743160851661506 \n",
      "}\n",
      "=====Epoch 51\n",
      "Training...\n"
     ]
    },
    {
     "name": "stderr",
     "output_type": "stream",
     "text": [
      "\r",
      "Iteration:  34%|███▎      | 90/267 [00:00<00:01, 123.09it/s]\r",
      "Iteration:  97%|█████████▋| 260/267 [00:06<00:00, 44.80it/s]\r",
      "Iteration:  87%|████████▋ | 231/267 [00:02<00:00, 122.63it/s]\r",
      "Iteration:  51%|█████     | 135/267 [00:01<00:01, 71.14it/s]\r",
      "Iteration:  39%|███▊      | 103/267 [00:00<00:01, 122.96it/s]\r",
      "Iteration:   4%|▎         | 10/267 [00:00<00:06, 39.40it/s]\r",
      "Iteration:  99%|█████████▉| 265/267 [00:06<00:00, 44.94it/s]\r",
      "Iteration:  91%|█████████▏| 244/267 [00:02<00:00, 124.05it/s]\r",
      "Iteration:  54%|█████▎    | 143/267 [00:02<00:01, 72.00it/s]\r",
      "Iteration: 100%|██████████| 267/267 [00:06<00:00, 42.01it/s]\n",
      "\r",
      "Iteration:   0%|          | 0/267 [00:00<?, ?it/s]"
     ]
    },
    {
     "name": "stdout",
     "output_type": "stream",
     "text": [
      "Evaluating...\n"
     ]
    },
    {
     "name": "stderr",
     "output_type": "stream",
     "text": [
      "Iteration: 100%|██████████| 267/267 [00:02<00:00, 92.45it/s] \n",
      "Iteration:   1%|▏         | 4/267 [00:00<00:07, 36.82it/s]]]]"
     ]
    },
    {
     "name": "stdout",
     "output_type": "stream",
     "text": [
      "{'Train':  best_epoch_indx:50\n",
      " auc:0.8697352385677337 \n",
      " apur:0.8171005123252387 \n",
      " f1:0.7404721955896453 \n",
      " precision:0.6976232145881556 \n",
      " recall:0.7889293238843134 \n",
      ", 'Validation':  best_epoch_indx:50\n",
      " auc:0.8697352385677337 \n",
      " apur:0.8171005123252387 \n",
      " f1:0.7404721955896453 \n",
      " precision:0.6976232145881556 \n",
      " recall:0.7889293238843134 \n",
      ", 'Test':  best_epoch_indx:50\n",
      " auc:0.8697352385677337 \n",
      " apur:0.8171005123252387 \n",
      " f1:0.7404721955896453 \n",
      " precision:0.6976232145881556 \n",
      " recall:0.7889293238843134 \n",
      "}\n",
      "=====Epoch 51\n",
      "Training...\n"
     ]
    },
    {
     "name": "stderr",
     "output_type": "stream",
     "text": [
      "Iteration: 100%|██████████| 267/267 [00:02<00:00, 117.04it/s]\n",
      "Iteration: 100%|██████████| 267/267 [00:03<00:00, 74.59it/s] \n",
      "Iteration: 100%|██████████| 267/267 [00:02<00:00, 120.26it/s]\n",
      "Iteration:   0%|          | 0/267 [00:00<?, ?it/s]1.69it/s]]"
     ]
    },
    {
     "name": "stdout",
     "output_type": "stream",
     "text": [
      "{'Train':  best_epoch_indx:50\n",
      " auc:0.869407311535798 \n",
      " apur:0.8175113983970889 \n",
      " f1:0.7404381841935338 \n",
      " precision:0.6990671165678963 \n",
      " recall:0.7870139819957862 \n",
      ", 'Validation':  best_epoch_indx:50\n",
      " auc:0.869407311535798 \n",
      " apur:0.8175113983970889 \n",
      " f1:0.7404381841935338 \n",
      " precision:0.6990671165678963 \n",
      " recall:0.7870139819957862 \n",
      ", 'Test':  best_epoch_indx:50\n",
      " auc:0.869407311535798 \n",
      " apur:0.8175113983970889 \n",
      " f1:0.7404381841935338 \n",
      " precision:0.6990671165678963 \n",
      " recall:0.7870139819957862 \n",
      "}\n",
      "=====Epoch 51\n",
      "Training...\n"
     ]
    },
    {
     "name": "stderr",
     "output_type": "stream",
     "text": [
      "Iteration: 100%|██████████| 267/267 [00:02<00:00, 123.71it/s]\n",
      "Iteration: 100%|██████████| 267/267 [00:02<00:00, 93.43it/s] \n",
      "Iteration: 100%|██████████| 267/267 [00:06<00:00, 41.23it/s]\n",
      "Iteration:   0%|          | 0/267 [00:00<?, ?it/s]45.29it/s]"
     ]
    },
    {
     "name": "stdout",
     "output_type": "stream",
     "text": [
      "Evaluating...\n"
     ]
    },
    {
     "name": "stderr",
     "output_type": "stream",
     "text": [
      "Iteration: 100%|██████████| 267/267 [00:06<00:00, 41.05it/s]]\n",
      "Iteration:  88%|████████▊ | 236/267 [00:05<00:00, 45.61it/s]]"
     ]
    },
    {
     "name": "stdout",
     "output_type": "stream",
     "text": [
      "Evaluating...\n"
     ]
    },
    {
     "name": "stderr",
     "output_type": "stream",
     "text": [
      "Iteration: 100%|██████████| 267/267 [00:06<00:00, 44.13it/s]]\n",
      "Iteration: 100%|██████████| 267/267 [00:02<00:00, 121.64it/s]\n",
      "Iteration:   5%|▌         | 14/267 [00:00<00:04, 61.50it/s]s]"
     ]
    },
    {
     "name": "stdout",
     "output_type": "stream",
     "text": [
      "Evaluating...\n"
     ]
    },
    {
     "name": "stderr",
     "output_type": "stream",
     "text": [
      "Iteration: 100%|██████████| 267/267 [00:02<00:00, 104.21it/s]\n",
      "Iteration:  53%|█████▎    | 142/267 [00:01<00:01, 120.11it/s]"
     ]
    },
    {
     "name": "stdout",
     "output_type": "stream",
     "text": [
      "{'Train':  best_epoch_indx:51\n",
      " auc:0.866081064599092 \n",
      " apur:0.8137326240284805 \n",
      " f1:0.7331314543054586 \n",
      " precision:0.7138105174030058 \n",
      " recall:0.7535274213113707 \n",
      ", 'Validation':  best_epoch_indx:51\n",
      " auc:0.866081064599092 \n",
      " apur:0.8137326240284806 \n",
      " f1:0.7331314543054586 \n",
      " precision:0.7138105174030058 \n",
      " recall:0.7535274213113707 \n",
      ", 'Test':  best_epoch_indx:51\n",
      " auc:0.866081064599092 \n",
      " apur:0.8137326240284806 \n",
      " f1:0.7331314543054586 \n",
      " precision:0.7138105174030058 \n",
      " recall:0.7535274213113707 \n",
      "}\n",
      "=====Epoch 52\n",
      "Training...\n"
     ]
    },
    {
     "name": "stderr",
     "output_type": "stream",
     "text": [
      "Iteration: 100%|██████████| 267/267 [00:02<00:00, 123.22it/s]\n",
      "Iteration: 100%|██████████| 267/267 [00:02<00:00, 120.48it/s]\n",
      "Iteration: 100%|██████████| 267/267 [00:02<00:00, 116.22it/s]\n",
      "Iteration: 100%|██████████| 267/267 [00:03<00:00, 71.05it/s] \n",
      "Iteration: 100%|██████████| 267/267 [00:02<00:00, 122.76it/s]\n",
      "Iteration:   2%|▏         | 5/267 [00:00<00:06, 43.08it/s]s]]"
     ]
    },
    {
     "name": "stdout",
     "output_type": "stream",
     "text": [
      "{'Train':  best_epoch_indx:49\n",
      " auc:0.87079478525247 \n",
      " apur:0.8189382380399437 \n",
      " f1:0.7411619137402781 \n",
      " precision:0.6880914610798097 \n",
      " recall:0.8031028538594139 \n",
      ", 'Validation':  best_epoch_indx:49\n",
      " auc:0.87079478525247 \n",
      " apur:0.8189382380399437 \n",
      " f1:0.7411619137402781 \n",
      " precision:0.6880914610798097 \n",
      " recall:0.8031028538594139 \n",
      ", 'Test':  best_epoch_indx:49\n",
      " auc:0.87079478525247 \n",
      " apur:0.8189382380399437 \n",
      " f1:0.7411619137402781 \n",
      " precision:0.6880914610798097 \n",
      " recall:0.8031028538594139 \n",
      "}\n",
      "=====Epoch 50\n",
      "Training...\n"
     ]
    },
    {
     "name": "stderr",
     "output_type": "stream",
     "text": [
      "Iteration: 100%|██████████| 267/267 [00:02<00:00, 98.97it/s] \n",
      "Iteration: 100%|██████████| 267/267 [00:02<00:00, 117.14it/s]\n",
      "Iteration:  95%|█████████▌| 254/267 [00:06<00:00, 37.51it/s]]"
     ]
    },
    {
     "name": "stdout",
     "output_type": "stream",
     "text": [
      "{'Train':  best_epoch_indx:51\n",
      " auc:0.8666859505913833 \n",
      " apur:0.8136216743295799 \n",
      " f1:0.7363202128302799 \n",
      " precision:0.6993023055499727 \n",
      " recall:0.7774762984007406 \n",
      ", 'Validation':  best_epoch_indx:51\n",
      " auc:0.8666859499336045 \n",
      " apur:0.8136216734892062 \n",
      " f1:0.7363202128302799 \n",
      " precision:0.6993023055499727 \n",
      " recall:0.7774762984007406 \n",
      ", 'Test':  best_epoch_indx:51\n",
      " auc:0.8666859502624938 \n",
      " apur:0.8136216738936121 \n",
      " f1:0.7363202128302799 \n",
      " precision:0.6993023055499727 \n",
      " recall:0.7774762984007406 \n",
      "}\n",
      "=====Epoch 52\n",
      "Training...\n"
     ]
    },
    {
     "name": "stderr",
     "output_type": "stream",
     "text": [
      "Iteration: 100%|██████████| 267/267 [00:07<00:00, 38.04it/s]]\n",
      "Iteration: 100%|██████████| 267/267 [00:02<00:00, 101.34it/s]\n",
      "Iteration:   2%|▏         | 6/267 [00:00<00:04, 57.46it/s]s]"
     ]
    },
    {
     "name": "stdout",
     "output_type": "stream",
     "text": [
      "Evaluating...\n"
     ]
    },
    {
     "name": "stderr",
     "output_type": "stream",
     "text": [
      "Iteration:   0%|          | 0/267 [00:00<?, ?it/s]37.03it/s]]"
     ]
    },
    {
     "name": "stdout",
     "output_type": "stream",
     "text": [
      "{'Train':  best_epoch_indx:51\n",
      " auc:0.8682843066024861 \n",
      " apur:0.8152664973670235 \n",
      " f1:0.7388113061623546 \n",
      " precision:0.6804558772142032 \n",
      " recall:0.8081146651343931 \n",
      ", 'Validation':  best_epoch_indx:51\n",
      " auc:0.8682843066024861 \n",
      " apur:0.8152664973670236 \n",
      " f1:0.7388113061623546 \n",
      " precision:0.6804558772142032 \n",
      " recall:0.8081146651343931 \n",
      ", 'Test':  best_epoch_indx:51\n",
      " auc:0.8682843066024861 \n",
      " apur:0.8152664973670427 \n",
      " f1:0.7388113061623546 \n",
      " precision:0.6804558772142032 \n",
      " recall:0.8081146651343931 \n",
      "}\n",
      "=====Epoch 52\n",
      "Training...\n"
     ]
    },
    {
     "name": "stderr",
     "output_type": "stream",
     "text": [
      "Iteration: 100%|██████████| 267/267 [00:02<00:00, 103.46it/s]\n",
      "Iteration: 100%|██████████| 267/267 [00:06<00:00, 42.69it/s]\n",
      "Iteration:   1%|▏         | 4/267 [00:00<00:06, 39.06it/s]"
     ]
    },
    {
     "name": "stdout",
     "output_type": "stream",
     "text": [
      "{'Train':  best_epoch_indx:51\n",
      " auc:0.864244483729191 \n",
      " apur:0.8117100128371575 \n",
      " f1:0.7314370712160768 \n",
      " precision:0.6972336362057989 \n",
      " recall:0.7691693800676754 \n",
      ", 'Validation':  best_epoch_indx:51\n",
      " auc:0.864244483400298 \n",
      " apur:0.8117100124433214 \n",
      " f1:0.7314370712160768 \n",
      " precision:0.6972336362057989 \n",
      " recall:0.7691693800676754 \n",
      ", 'Test':  best_epoch_indx:51\n",
      " auc:0.864244483729191 \n",
      " apur:0.8117100128371575 \n",
      " f1:0.7314370712160768 \n",
      " precision:0.6972336362057989 \n",
      " recall:0.7691693800676754 \n",
      "}\n",
      "=====Epoch 52\n",
      "Training...\n",
      "Evaluating...\n"
     ]
    },
    {
     "name": "stderr",
     "output_type": "stream",
     "text": [
      "Iteration: 100%|██████████| 267/267 [00:03<00:00, 68.68it/s]]\n",
      "Iteration: 100%|██████████| 267/267 [00:02<00:00, 127.81it/s]\n",
      "Iteration: 100%|██████████| 267/267 [00:05<00:00, 44.92it/s]\n",
      "Iteration:   3%|▎         | 7/267 [00:00<00:03, 67.02it/s]"
     ]
    },
    {
     "name": "stdout",
     "output_type": "stream",
     "text": [
      "Evaluating...\n"
     ]
    },
    {
     "name": "stderr",
     "output_type": "stream",
     "text": [
      "Iteration: 100%|██████████| 267/267 [00:06<00:00, 42.69it/s]]\n",
      "Iteration:  48%|████▊     | 128/267 [00:01<00:01, 72.23it/s]]"
     ]
    },
    {
     "name": "stdout",
     "output_type": "stream",
     "text": [
      "Evaluating...\n"
     ]
    },
    {
     "name": "stderr",
     "output_type": "stream",
     "text": [
      "Iteration: 100%|██████████| 267/267 [00:02<00:00, 125.16it/s]\n",
      "Iteration: 100%|██████████| 267/267 [00:02<00:00, 118.80it/s]\n",
      "Iteration: 100%|██████████| 267/267 [00:03<00:00, 75.90it/s] \n",
      "Iteration: 100%|██████████| 267/267 [00:02<00:00, 126.69it/s]\n",
      "Iteration: 100%|██████████| 267/267 [00:07<00:00, 35.49it/s]]\n",
      "Iteration:  67%|██████▋   | 179/267 [00:01<00:00, 116.48it/s]"
     ]
    },
    {
     "name": "stdout",
     "output_type": "stream",
     "text": [
      "Evaluating...\n"
     ]
    },
    {
     "name": "stderr",
     "output_type": "stream",
     "text": [
      "Iteration: 100%|██████████| 267/267 [00:02<00:00, 120.06it/s]\n",
      "Iteration: 100%|██████████| 267/267 [00:02<00:00, 113.89it/s]\n",
      "Iteration:   0%|          | 0/267 [00:00<?, ?it/s]123.17it/s]"
     ]
    },
    {
     "name": "stdout",
     "output_type": "stream",
     "text": [
      "{'Train':  best_epoch_indx:52\n",
      " auc:0.8552967652481653 \n",
      " apur:0.8005942987881506 \n",
      " f1:0.7243696496917638 \n",
      " precision:0.6677709545356604 \n",
      " recall:0.7914511907042073 \n",
      ", 'Validation':  best_epoch_indx:52\n",
      " auc:0.8552967655770584 \n",
      " apur:0.8005943000055575 \n",
      " f1:0.7243696496917638 \n",
      " precision:0.6677709545356604 \n",
      " recall:0.7914511907042073 \n",
      ", 'Test':  best_epoch_indx:52\n",
      " auc:0.8552967652481653 \n",
      " apur:0.8005942987881506 \n",
      " f1:0.7243696496917638 \n",
      " precision:0.6677709545356604 \n",
      " recall:0.7914511907042073 \n",
      "}\n",
      "=====Epoch 53\n",
      "Training...\n"
     ]
    },
    {
     "name": "stderr",
     "output_type": "stream",
     "text": [
      "Iteration: 100%|██████████| 267/267 [00:02<00:00, 108.30it/s]\n",
      "Iteration: 100%|██████████| 267/267 [00:02<00:00, 119.86it/s]\n",
      "Iteration: 100%|██████████| 267/267 [00:03<00:00, 81.65it/s] \n",
      "Iteration:  63%|██████▎   | 169/267 [00:01<00:00, 106.00it/s]"
     ]
    },
    {
     "name": "stdout",
     "output_type": "stream",
     "text": [
      "{'Train':  best_epoch_indx:50\n",
      " auc:0.8677782020279576 \n",
      " apur:0.8156496681302108 \n",
      " f1:0.7375837201215548 \n",
      " precision:0.7006060257919982 \n",
      " recall:0.7786822447806934 \n",
      ", 'Validation':  best_epoch_indx:50\n",
      " auc:0.8677782020279575 \n",
      " apur:0.8156496681302108 \n",
      " f1:0.7375837201215548 \n",
      " precision:0.7006060257919982 \n",
      " recall:0.7786822447806934 \n",
      ", 'Test':  best_epoch_indx:50\n",
      " auc:0.8677782023568507 \n",
      " apur:0.8156496683399337 \n",
      " f1:0.7375837201215548 \n",
      " precision:0.7006060257919982 \n",
      " recall:0.7786822447806934 \n",
      "}\n",
      "=====Epoch 51\n",
      "Training...\n"
     ]
    },
    {
     "name": "stderr",
     "output_type": "stream",
     "text": [
      "Iteration: 100%|██████████| 267/267 [00:02<00:00, 109.71it/s]\n",
      "Iteration: 100%|██████████| 267/267 [00:02<00:00, 118.97it/s]\n",
      "Iteration:   2%|▏         | 6/267 [00:00<00:05, 49.89it/s]/s]"
     ]
    },
    {
     "name": "stdout",
     "output_type": "stream",
     "text": [
      "{'Train':  best_epoch_indx:52\n",
      " auc:0.8591432649410733 \n",
      " apur:0.8052607251168297 \n",
      " f1:0.7283844299001034 \n",
      " precision:0.6617290389881341 \n",
      " recall:0.8099722284291506 \n",
      ", 'Validation':  best_epoch_indx:52\n",
      " auc:0.8591432649410733 \n",
      " apur:0.8052607251168297 \n",
      " f1:0.7283844299001034 \n",
      " precision:0.6617290389881341 \n",
      " recall:0.8099722284291506 \n",
      ", 'Test':  best_epoch_indx:52\n",
      " auc:0.8591432649410733 \n",
      " apur:0.8052607251168297 \n",
      " f1:0.7283844299001034 \n",
      " precision:0.6617290389881341 \n",
      " recall:0.8099722284291506 \n",
      "}\n",
      "=====Epoch 53\n",
      "Training...\n"
     ]
    },
    {
     "name": "stderr",
     "output_type": "stream",
     "text": [
      "Iteration: 100%|██████████| 267/267 [00:02<00:00, 108.86it/s]\n",
      "Iteration:  21%|██        | 56/267 [00:01<00:04, 45.62it/s]]"
     ]
    },
    {
     "name": "stdout",
     "output_type": "stream",
     "text": [
      "{'Train':  best_epoch_indx:52\n",
      " auc:0.8599930142059607 \n",
      " apur:0.8065365069503465 \n",
      " f1:0.728412319069306 \n",
      " precision:0.6882829143587559 \n",
      " recall:0.7735108216816702 \n",
      ", 'Validation':  best_epoch_indx:52\n",
      " auc:0.8599930142059607 \n",
      " apur:0.8065365069503465 \n",
      " f1:0.728412319069306 \n",
      " precision:0.6882829143587559 \n",
      " recall:0.7735108216816702 \n",
      ", 'Test':  best_epoch_indx:52\n",
      " auc:0.8599930142059607 \n",
      " apur:0.8065365069503465 \n",
      " f1:0.728412319069306 \n",
      " precision:0.6882829143587559 \n",
      " recall:0.7735108216816702 \n",
      "}\n",
      "=====Epoch 53\n",
      "Training...\n"
     ]
    },
    {
     "name": "stderr",
     "output_type": "stream",
     "text": [
      "Iteration: 100%|██████████| 267/267 [00:02<00:00, 116.50it/s]\n",
      "Iteration: 100%|██████████| 267/267 [00:07<00:00, 38.00it/s]\n",
      "Iteration:  79%|███████▉  | 211/267 [00:04<00:01, 45.44it/s]"
     ]
    },
    {
     "name": "stdout",
     "output_type": "stream",
     "text": [
      "Evaluating...\n"
     ]
    },
    {
     "name": "stderr",
     "output_type": "stream",
     "text": [
      "Iteration:  90%|█████████ | 241/267 [00:05<00:00, 45.36it/s]"
     ]
    },
    {
     "name": "stdout",
     "output_type": "stream",
     "text": [
      "{'Train':  best_epoch_indx:52\n",
      " auc:0.8633760178041151 \n",
      " apur:0.8100019742120631 \n",
      " f1:0.7327160212258055 \n",
      " precision:0.6995615945184798 \n",
      " recall:0.7691693800676754 \n",
      ", 'Validation':  best_epoch_indx:52\n",
      " auc:0.8633760178041151 \n",
      " apur:0.8100019742120631 \n",
      " f1:0.7327160212258055 \n",
      " precision:0.6995615945184798 \n",
      " recall:0.7691693800676754 \n",
      ", 'Test':  best_epoch_indx:52\n",
      " auc:0.8633760178041151 \n",
      " apur:0.8100019742120631 \n",
      " f1:0.7327160212258055 \n",
      " precision:0.6995615945184798 \n",
      " recall:0.7691693800676754 \n",
      "}\n",
      "=====Epoch 53\n",
      "Training...\n"
     ]
    },
    {
     "name": "stderr",
     "output_type": "stream",
     "text": [
      "Iteration: 100%|██████████| 267/267 [00:06<00:00, 43.53it/s]\n",
      "Iteration:  44%|████▍     | 117/267 [00:03<00:04, 34.36it/s]"
     ]
    },
    {
     "name": "stdout",
     "output_type": "stream",
     "text": [
      "Evaluating...\n"
     ]
    },
    {
     "name": "stderr",
     "output_type": "stream",
     "text": [
      "Iteration: 100%|██████████| 267/267 [00:06<00:00, 44.43it/s]]\n",
      "Iteration:  70%|██████▉   | 186/267 [00:02<00:01, 66.77it/s]]"
     ]
    },
    {
     "name": "stdout",
     "output_type": "stream",
     "text": [
      "Evaluating...\n"
     ]
    },
    {
     "name": "stderr",
     "output_type": "stream",
     "text": [
      "Iteration: 100%|██████████| 267/267 [00:02<00:00, 120.76it/s]\n",
      "Iteration: 100%|██████████| 267/267 [00:04<00:00, 65.01it/s]\n",
      "Iteration: 100%|██████████| 267/267 [00:06<00:00, 38.65it/s]\n",
      "Iteration:  70%|██████▉   | 186/267 [00:04<00:01, 45.65it/s]"
     ]
    },
    {
     "name": "stdout",
     "output_type": "stream",
     "text": [
      "Evaluating...\n"
     ]
    },
    {
     "name": "stderr",
     "output_type": "stream",
     "text": [
      "Iteration: 100%|██████████| 267/267 [00:05<00:00, 45.72it/s]]\n",
      "Iteration:  96%|█████████▋| 257/267 [00:04<00:00, 56.50it/s]]"
     ]
    },
    {
     "name": "stdout",
     "output_type": "stream",
     "text": [
      "Evaluating...\n"
     ]
    },
    {
     "name": "stderr",
     "output_type": "stream",
     "text": [
      "Iteration: 100%|██████████| 267/267 [00:04<00:00, 62.80it/s]]\n",
      "Iteration: 100%|██████████| 267/267 [00:02<00:00, 102.46it/s]\n",
      "Iteration: 100%|██████████| 267/267 [00:02<00:00, 121.08it/s]\n",
      "Iteration: 100%|██████████| 267/267 [00:03<00:00, 78.01it/s] \n",
      "Iteration: 100%|██████████| 267/267 [00:02<00:00, 118.79it/s]\n",
      "Iteration: 100%|██████████| 267/267 [00:02<00:00, 118.28it/s]\n",
      "Iteration: 100%|██████████| 267/267 [00:02<00:00, 107.66it/s]\n",
      "Iteration:  42%|████▏     | 112/267 [00:01<00:02, 64.03it/s]]"
     ]
    },
    {
     "name": "stdout",
     "output_type": "stream",
     "text": [
      "{'Train':  best_epoch_indx:53\n",
      " auc:0.8509354788819776 \n",
      " apur:0.7926409427340455 \n",
      " f1:0.7173699260178225 \n",
      " precision:0.6818325616174398 \n",
      " recall:0.7568154248866756 \n",
      ", 'Validation':  best_epoch_indx:53\n",
      " auc:0.8509354782241914 \n",
      " apur:0.7926409424422007 \n",
      " f1:0.7173699260178225 \n",
      " precision:0.6818325616174398 \n",
      " recall:0.7568154248866756 \n",
      ", 'Test':  best_epoch_indx:53\n",
      " auc:0.8509354788819776 \n",
      " apur:0.792640942734061 \n",
      " f1:0.7173699260178225 \n",
      " precision:0.6818325616174398 \n",
      " recall:0.7568154248866756 \n",
      "}\n",
      "=====Epoch 54\n",
      "Training...\n"
     ]
    },
    {
     "name": "stderr",
     "output_type": "stream",
     "text": [
      "\r",
      "Iteration:  63%|██████▎   | 169/267 [00:03<00:01, 58.59it/s]\r",
      "Iteration:  99%|█████████▉| 264/267 [00:02<00:00, 124.97it/s]\r",
      "Iteration: 100%|██████████| 267/267 [00:02<00:00, 105.31it/s]\n",
      "\r",
      "Iteration:   2%|▏         | 5/267 [00:00<00:05, 46.78it/s]\r",
      "Iteration:  45%|████▍     | 119/267 [00:01<00:02, 63.97it/s]\r",
      "Iteration:  66%|██████▌   | 176/267 [00:03<00:01, 60.28it/s]\r",
      "Iteration:   0%|          | 0/267 [00:00<?, ?it/s]\r",
      "Iteration:   4%|▎         | 10/267 [00:00<00:06, 38.88it/s]\r",
      "Iteration:  48%|████▊     | 127/267 [00:02<00:02, 65.37it/s]"
     ]
    },
    {
     "name": "stdout",
     "output_type": "stream",
     "text": [
      "{'Train':  best_epoch_indx:51\n",
      " auc:0.8652052021969691 \n",
      " apur:0.8116741762311199 \n",
      " f1:0.7320215756286561 \n",
      " precision:0.6984545797210705 \n",
      " recall:0.7689778458788227 \n",
      ", 'Validation':  best_epoch_indx:51\n",
      " auc:0.8652052021969691 \n",
      " apur:0.8116741762311199 \n",
      " f1:0.7320215756286561 \n",
      " precision:0.6984545797210705 \n",
      " recall:0.7689778458788227 \n",
      ", 'Test':  best_epoch_indx:51\n",
      " auc:0.8652052021969692 \n",
      " apur:0.8116741762311199 \n",
      " f1:0.7320215756286561 \n",
      " precision:0.6984545797210705 \n",
      " recall:0.7689778458788227 \n",
      "}\n",
      "=====Epoch 52\n",
      "Training...\n"
     ]
    },
    {
     "name": "stderr",
     "output_type": "stream",
     "text": [
      "Iteration: 100%|██████████| 267/267 [00:04<00:00, 61.81it/s] \n",
      "Iteration: 100%|██████████| 267/267 [00:03<00:00, 79.21it/s] \n",
      "Iteration: 100%|██████████| 267/267 [00:02<00:00, 104.79it/s]\n",
      "Iteration:  81%|████████  | 216/267 [00:04<00:01, 41.63it/s]]"
     ]
    },
    {
     "name": "stdout",
     "output_type": "stream",
     "text": [
      "{'Train':  best_epoch_indx:53\n",
      " auc:0.8555376696291113 \n",
      " apur:0.8004907938201933 \n",
      " f1:0.7238421955403087 \n",
      " precision:0.6845969945355191 \n",
      " recall:0.7678605631105152 \n",
      ", 'Validation':  best_epoch_indx:53\n",
      " auc:0.8555376696291113 \n",
      " apur:0.8004907938201933 \n",
      " f1:0.7238421955403087 \n",
      " precision:0.6845969945355191 \n",
      " recall:0.7678605631105152 \n",
      ", 'Test':  best_epoch_indx:53\n",
      " auc:0.8555376696291113 \n",
      " apur:0.8004907938201933 \n",
      " f1:0.7238421955403087 \n",
      " precision:0.6845969945355191 \n",
      " recall:0.7678605631105152 \n",
      "}\n",
      "=====Epoch 54\n",
      "Training...\n"
     ]
    },
    {
     "name": "stderr",
     "output_type": "stream",
     "text": [
      "Iteration: 100%|██████████| 267/267 [00:02<00:00, 112.43it/s]\n",
      "Iteration: 100%|██████████| 267/267 [00:03<00:00, 87.30it/s] \n",
      "Iteration:   0%|          | 0/267 [00:00<?, ?it/s]35.31it/s]"
     ]
    },
    {
     "name": "stdout",
     "output_type": "stream",
     "text": [
      "{'Train':  best_epoch_indx:53\n",
      " auc:0.8551969347104247 \n",
      " apur:0.7971808143757564 \n",
      " f1:0.7228144345462781 \n",
      " precision:0.6857863220926568 \n",
      " recall:0.7640693331630861 \n",
      ", 'Validation':  best_epoch_indx:53\n",
      " auc:0.8551969347104247 \n",
      " apur:0.7971808143757453 \n",
      " f1:0.7228144345462781 \n",
      " precision:0.6857863220926568 \n",
      " recall:0.7640693331630861 \n",
      ", 'Test':  best_epoch_indx:53\n",
      " auc:0.8551969347104247 \n",
      " apur:0.7971808143757453 \n",
      " f1:0.7228144345462781 \n",
      " precision:0.6857863220926568 \n",
      " recall:0.7640693331630861 \n",
      "}\n",
      "=====Epoch 54\n",
      "Training...\n",
      "Evaluating...\n"
     ]
    },
    {
     "name": "stderr",
     "output_type": "stream",
     "text": [
      "Iteration: 100%|██████████| 267/267 [00:05<00:00, 44.97it/s]\n",
      "Iteration:  97%|█████████▋| 258/267 [00:06<00:00, 36.57it/s]"
     ]
    },
    {
     "name": "stdout",
     "output_type": "stream",
     "text": [
      "{'Train':  best_epoch_indx:53\n",
      " auc:0.8519038092517868 \n",
      " apur:0.7938246758587115 \n",
      " f1:0.7169962298992074 \n",
      " precision:0.6921477168067975 \n",
      " recall:0.7436953329502649 \n",
      ", 'Validation':  best_epoch_indx:53\n",
      " auc:0.8519038092517868 \n",
      " apur:0.7938246758587115 \n",
      " f1:0.7169962298992074 \n",
      " precision:0.6921477168067975 \n",
      " recall:0.7436953329502649 \n",
      ", 'Test':  best_epoch_indx:53\n",
      " auc:0.8519038092517868 \n",
      " apur:0.7938246758586924 \n",
      " f1:0.7169962298992074 \n",
      " precision:0.6921477168067975 \n",
      " recall:0.7436953329502649 \n",
      "}\n",
      "=====Epoch 54\n",
      "Training...\n"
     ]
    },
    {
     "name": "stderr",
     "output_type": "stream",
     "text": [
      "Iteration: 100%|██████████| 267/267 [00:07<00:00, 36.99it/s]]\n",
      "Iteration:  38%|███▊      | 101/267 [00:02<00:03, 45.58it/s]]"
     ]
    },
    {
     "name": "stdout",
     "output_type": "stream",
     "text": [
      "Evaluating...\n"
     ]
    },
    {
     "name": "stderr",
     "output_type": "stream",
     "text": [
      "Iteration: 100%|██████████| 267/267 [00:02<00:00, 128.25it/s]\n",
      "Iteration: 100%|██████████| 267/267 [00:03<00:00, 81.93it/s]]\n",
      "Iteration: 100%|██████████| 267/267 [00:06<00:00, 43.15it/s]]\n",
      "Iteration:  60%|██████    | 161/267 [00:04<00:02, 37.15it/s]]"
     ]
    },
    {
     "name": "stdout",
     "output_type": "stream",
     "text": [
      "Evaluating...\n"
     ]
    },
    {
     "name": "stderr",
     "output_type": "stream",
     "text": [
      "Iteration: 100%|██████████| 267/267 [00:02<00:00, 107.79it/s]\n",
      "Iteration: 100%|██████████| 267/267 [00:06<00:00, 44.44it/s]]\n",
      "Iteration:  72%|███████▏  | 193/267 [00:05<00:02, 34.31it/s]]"
     ]
    },
    {
     "name": "stdout",
     "output_type": "stream",
     "text": [
      "Evaluating...\n"
     ]
    },
    {
     "name": "stderr",
     "output_type": "stream",
     "text": [
      "Iteration: 100%|██████████| 267/267 [00:02<00:00, 126.07it/s]\n",
      "Iteration: 100%|██████████| 267/267 [00:07<00:00, 35.79it/s]]\n",
      "Iteration: 100%|██████████| 267/267 [00:02<00:00, 122.71it/s]\n",
      "Iteration:   9%|▊         | 23/267 [00:00<00:03, 64.97it/s]s]"
     ]
    },
    {
     "name": "stdout",
     "output_type": "stream",
     "text": [
      "Evaluating...\n"
     ]
    },
    {
     "name": "stderr",
     "output_type": "stream",
     "text": [
      "Iteration: 100%|██████████| 267/267 [00:02<00:00, 103.79it/s]\n",
      "Iteration: 100%|██████████| 267/267 [00:02<00:00, 98.08it/s] \n",
      "Iteration:   4%|▎         | 10/267 [00:00<00:02, 93.76it/s]]]"
     ]
    },
    {
     "name": "stdout",
     "output_type": "stream",
     "text": [
      "{'Train':  best_epoch_indx:52\n",
      " auc:0.859332430666472 \n",
      " apur:0.804146601244796 \n",
      " f1:0.7288862768145753 \n",
      " precision:0.6752327543964719 \n",
      " recall:0.791802336717104 \n",
      ", 'Validation':  best_epoch_indx:52\n",
      " auc:0.8593324303375789 \n",
      " apur:0.8041466008042542 \n",
      " f1:0.7288862768145753 \n",
      " precision:0.6752327543964719 \n",
      " recall:0.791802336717104 \n",
      ", 'Test':  best_epoch_indx:52\n",
      " auc:0.8593324303375789 \n",
      " apur:0.8041466006956841 \n",
      " f1:0.7288862768145753 \n",
      " precision:0.6752327543964719 \n",
      " recall:0.791802336717104 \n",
      "}\n",
      "=====Epoch 53\n",
      "Training...\n"
     ]
    },
    {
     "name": "stderr",
     "output_type": "stream",
     "text": [
      "Iteration: 100%|██████████| 267/267 [00:02<00:00, 90.70it/s] \n",
      "Iteration: 100%|██████████| 267/267 [00:02<00:00, 116.60it/s]\n",
      "Iteration: 100%|██████████| 267/267 [00:03<00:00, 68.25it/s]]\n",
      "Iteration: 100%|██████████| 267/267 [00:02<00:00, 120.78it/s]\n",
      "Iteration:   0%|          | 0/267 [00:00<?, ?it/s]114.64it/s]"
     ]
    },
    {
     "name": "stdout",
     "output_type": "stream",
     "text": [
      "{'Train':  best_epoch_indx:54\n",
      " auc:0.8474246969305945 \n",
      " apur:0.7866895318452767 \n",
      " f1:0.7124102130741836 \n",
      " precision:0.6755480510560358 \n",
      " recall:0.7535274213113707 \n",
      ", 'Validation':  best_epoch_indx:54\n",
      " auc:0.8474246969305945 \n",
      " apur:0.7866895318452767 \n",
      " f1:0.7124102130741836 \n",
      " precision:0.6755480510560358 \n",
      " recall:0.7535274213113707 \n",
      ", 'Test':  best_epoch_indx:54\n",
      " auc:0.8474246969305945 \n",
      " apur:0.7866895318452767 \n",
      " f1:0.7124102130741836 \n",
      " precision:0.6755480510560358 \n",
      " recall:0.7535274213113707 \n",
      "}\n",
      "=====Epoch 55\n",
      "Training...\n"
     ]
    },
    {
     "name": "stderr",
     "output_type": "stream",
     "text": [
      "Iteration: 100%|██████████| 267/267 [00:02<00:00, 118.63it/s]\n",
      "Iteration: 100%|██████████| 267/267 [00:02<00:00, 112.40it/s]\n",
      "Iteration:  33%|███▎      | 88/267 [00:02<00:04, 40.70it/s]]]"
     ]
    },
    {
     "name": "stdout",
     "output_type": "stream",
     "text": [
      "{'Train':  best_epoch_indx:54\n",
      " auc:0.85056837589976 \n",
      " apur:0.7937883952861275 \n",
      " f1:0.7176808093009212 \n",
      " precision:0.680896172358469 \n",
      " recall:0.7586669220455852 \n",
      ", 'Validation':  best_epoch_indx:54\n",
      " auc:0.85056837589976 \n",
      " apur:0.7937883952861275 \n",
      " f1:0.7176808093009212 \n",
      " precision:0.680896172358469 \n",
      " recall:0.7586669220455852 \n",
      ", 'Test':  best_epoch_indx:54\n",
      " auc:0.85056837589976 \n",
      " apur:0.7937883952861275 \n",
      " f1:0.7176808093009212 \n",
      " precision:0.680896172358469 \n",
      " recall:0.7586669220455852 \n",
      "}\n",
      "=====Epoch 55\n",
      "Training...\n"
     ]
    },
    {
     "name": "stderr",
     "output_type": "stream",
     "text": [
      "Iteration: 100%|██████████| 267/267 [00:02<00:00, 118.07it/s]\n",
      "Iteration:   0%|          | 0/267 [00:00<?, ?it/s]2.74it/s]]"
     ]
    },
    {
     "name": "stdout",
     "output_type": "stream",
     "text": [
      "{'Train':  best_epoch_indx:54\n",
      " auc:0.851677871255939 \n",
      " apur:0.795595150560928 \n",
      " f1:0.7190427079948575 \n",
      " precision:0.6449716139497161 \n",
      " recall:0.8123344080186421 \n",
      ", 'Validation':  best_epoch_indx:54\n",
      " auc:0.851677871255939 \n",
      " apur:0.795595150560928 \n",
      " f1:0.7190427079948575 \n",
      " precision:0.6449716139497161 \n",
      " recall:0.8123344080186421 \n",
      ", 'Test':  best_epoch_indx:54\n",
      " auc:0.8516778709270496 \n",
      " apur:0.7955951503090539 \n",
      " f1:0.7190427079948575 \n",
      " precision:0.6449716139497161 \n",
      " recall:0.8123344080186421 \n",
      "}\n",
      "=====Epoch 55\n",
      "Training...\n"
     ]
    },
    {
     "name": "stderr",
     "output_type": "stream",
     "text": [
      "Iteration: 100%|██████████| 267/267 [00:06<00:00, 40.02it/s]\n",
      "Iteration:  15%|█▌        | 41/267 [00:00<00:04, 45.74it/s]]"
     ]
    },
    {
     "name": "stdout",
     "output_type": "stream",
     "text": [
      "Evaluating...\n"
     ]
    },
    {
     "name": "stderr",
     "output_type": "stream",
     "text": [
      "Iteration: 100%|██████████| 267/267 [00:02<00:00, 117.87it/s]\n",
      "Iteration: 100%|██████████| 267/267 [00:02<00:00, 95.11it/s]\n",
      "Iteration: 100%|██████████| 267/267 [00:06<00:00, 40.27it/s]\n",
      "Iteration:   1%|          | 2/267 [00:00<00:16, 15.90it/s]s]"
     ]
    },
    {
     "name": "stdout",
     "output_type": "stream",
     "text": [
      "Evaluating...\n"
     ]
    },
    {
     "name": "stderr",
     "output_type": "stream",
     "text": [
      "\r",
      "Iteration:  78%|███████▊  | 207/267 [00:04<00:01, 45.69it/s]\r",
      "Iteration:  68%|██████▊   | 181/267 [00:03<00:01, 45.63it/s]\r",
      "Iteration:   6%|▌         | 16/267 [00:00<00:03, 79.57it/s]\r",
      "Iteration:   0%|          | 0/267 [00:00<?, ?it/s]\r",
      "Iteration:  79%|███████▉  | 212/267 [00:04<00:01, 45.66it/s]\r",
      "Iteration:  70%|██████▉   | 186/267 [00:04<00:01, 45.65it/s]\r",
      "Iteration:  11%|█         | 30/267 [00:00<00:02, 102.24it/s]"
     ]
    },
    {
     "name": "stdout",
     "output_type": "stream",
     "text": [
      "{'Train':  best_epoch_indx:54\n",
      " auc:0.8463972624963889 \n",
      " apur:0.7863528726136865 \n",
      " f1:0.7116137183003112 \n",
      " precision:0.6877307921381774 \n",
      " recall:0.7372150928940816 \n",
      ", 'Validation':  best_epoch_indx:54\n",
      " auc:0.8463972624963889 \n",
      " apur:0.7863528726136777 \n",
      " f1:0.7116137183003112 \n",
      " precision:0.6877307921381774 \n",
      " recall:0.7372150928940816 \n",
      ", 'Test':  best_epoch_indx:54\n",
      " auc:0.8463972624963889 \n",
      " apur:0.7863528726136865 \n",
      " f1:0.7116137183003112 \n",
      " precision:0.6877307921381774 \n",
      " recall:0.7372150928940816 \n",
      "}\n",
      "=====Epoch 55\n",
      "Training...\n"
     ]
    },
    {
     "name": "stderr",
     "output_type": "stream",
     "text": [
      "Iteration: 100%|██████████| 267/267 [00:05<00:00, 44.73it/s]]\n",
      "Iteration:   4%|▍         | 12/267 [00:00<00:02, 118.69it/s]]"
     ]
    },
    {
     "name": "stdout",
     "output_type": "stream",
     "text": [
      "Evaluating...\n"
     ]
    },
    {
     "name": "stderr",
     "output_type": "stream",
     "text": [
      "Iteration: 100%|██████████| 267/267 [00:05<00:00, 45.13it/s]]\n",
      "Iteration: 100%|██████████| 267/267 [00:02<00:00, 118.67it/s]\n",
      "Iteration:  13%|█▎        | 35/267 [00:00<00:04, 57.46it/s]]"
     ]
    },
    {
     "name": "stdout",
     "output_type": "stream",
     "text": [
      "Evaluating...\n"
     ]
    },
    {
     "name": "stderr",
     "output_type": "stream",
     "text": [
      "Iteration: 100%|██████████| 267/267 [00:02<00:00, 121.59it/s]\n",
      "Iteration: 100%|██████████| 267/267 [00:02<00:00, 118.79it/s]\n",
      "Iteration: 100%|██████████| 267/267 [00:02<00:00, 89.14it/s] \n",
      "Iteration: 100%|██████████| 267/267 [00:02<00:00, 125.30it/s]\n",
      "Iteration: 100%|██████████| 267/267 [00:03<00:00, 71.14it/s]]\n",
      "Iteration: 100%|██████████| 267/267 [00:07<00:00, 37.81it/s]]\n",
      "Iteration:  73%|███████▎  | 194/267 [00:01<00:00, 100.45it/s]"
     ]
    },
    {
     "name": "stdout",
     "output_type": "stream",
     "text": [
      "Evaluating...\n"
     ]
    },
    {
     "name": "stderr",
     "output_type": "stream",
     "text": [
      "Iteration: 100%|██████████| 267/267 [00:02<00:00, 119.32it/s]\n",
      "Iteration: 100%|██████████| 267/267 [00:02<00:00, 118.84it/s]\n",
      "Iteration:  17%|█▋        | 45/267 [00:00<00:03, 72.73it/s]]]"
     ]
    },
    {
     "name": "stdout",
     "output_type": "stream",
     "text": [
      "{'Train':  best_epoch_indx:53\n",
      " auc:0.851599272654213 \n",
      " apur:0.7957798618838768 \n",
      " f1:0.7200011951715072 \n",
      " precision:0.6766919404661612 \n",
      " recall:0.769233224797293 \n",
      ", 'Validation':  best_epoch_indx:53\n",
      " auc:0.8515992723253198 \n",
      " apur:0.7957798615445898 \n",
      " f1:0.7200011951715072 \n",
      " precision:0.6766919404661612 \n",
      " recall:0.769233224797293 \n",
      ", 'Test':  best_epoch_indx:53\n",
      " auc:0.851599272654213 \n",
      " apur:0.7957798618838768 \n",
      " f1:0.7200011951715072 \n",
      " precision:0.6766919404661612 \n",
      " recall:0.769233224797293 \n",
      "}\n",
      "=====Epoch 54\n",
      "Training...\n"
     ]
    },
    {
     "name": "stderr",
     "output_type": "stream",
     "text": [
      "Iteration: 100%|██████████| 267/267 [00:02<00:00, 108.05it/s]\n",
      "Iteration: 100%|██████████| 267/267 [00:02<00:00, 119.62it/s]\n",
      "Iteration: 100%|██████████| 267/267 [00:02<00:00, 96.25it/s] \n",
      "Iteration: 100%|██████████| 267/267 [00:02<00:00, 101.07it/s]\n",
      "Iteration:   2%|▏         | 6/267 [00:00<00:05, 49.89it/s]]]"
     ]
    },
    {
     "name": "stdout",
     "output_type": "stream",
     "text": [
      "{'Train':  best_epoch_indx:55\n",
      " auc:0.8563339822700192 \n",
      " apur:0.7993924118133764 \n",
      " f1:0.7255414879146175 \n",
      " precision:0.6822500843359947 \n",
      " recall:0.7746991413157979 \n",
      ", 'Validation':  best_epoch_indx:55\n",
      " auc:0.85633398194113 \n",
      " apur:0.7993924114807303 \n",
      " f1:0.7255414879146175 \n",
      " precision:0.6822500843359947 \n",
      " recall:0.7746991413157979 \n",
      ", 'Test':  best_epoch_indx:55\n",
      " auc:0.8563339822700192 \n",
      " apur:0.7993924118133764 \n",
      " f1:0.7255414879146175 \n",
      " precision:0.6822500843359947 \n",
      " recall:0.7746991413157979 \n",
      "}\n",
      "=====Epoch 56\n",
      "Training...\n",
      "{'Train':  best_epoch_indx:55\n",
      " auc:0.8523857089122607 \n",
      " apur:0.7955346192090108 \n",
      " f1:0.7166913854900507 \n",
      " precision:0.6944194958385725 \n",
      " recall:0.7404392517397689 \n",
      ", 'Validation':  best_epoch_indx:55\n",
      " auc:0.8523857089122608 \n",
      " apur:0.7955346192090108 \n",
      " f1:0.7166913854900507 \n",
      " precision:0.6944194958385725 \n",
      " recall:0.7404392517397689 \n",
      ", 'Test':  best_epoch_indx:55\n",
      " auc:0.8523857089122608 \n",
      " apur:0.7955346192090108 \n",
      " f1:0.7166913854900507 \n",
      " precision:0.6944194958385725 \n",
      " recall:0.7404392517397689 \n",
      "}\n",
      "=====Epoch 56\n",
      "Training...\n"
     ]
    },
    {
     "name": "stderr",
     "output_type": "stream",
     "text": [
      "Iteration:  12%|█▏        | 32/267 [00:00<00:05, 45.97it/s]]]"
     ]
    },
    {
     "name": "stdout",
     "output_type": "stream",
     "text": [
      "{'Train':  best_epoch_indx:55\n",
      " auc:0.8547733216752569 \n",
      " apur:0.7976979824660135 \n",
      " f1:0.7184659405283209 \n",
      " precision:0.7116595158310106 \n",
      " recall:0.7254038179148311 \n",
      ", 'Validation':  best_epoch_indx:55\n",
      " auc:0.8547733216752568 \n",
      " apur:0.7976979824660134 \n",
      " f1:0.7184659405283209 \n",
      " precision:0.7116595158310106 \n",
      " recall:0.7254038179148311 \n",
      ", 'Test':  best_epoch_indx:55\n",
      " auc:0.8547733216752568 \n",
      " apur:0.7976979824660134 \n",
      " f1:0.7184659405283209 \n",
      " precision:0.7116595158310106 \n",
      " recall:0.7254038179148311 \n",
      "}\n",
      "=====Epoch 56\n",
      "Training...\n"
     ]
    },
    {
     "name": "stderr",
     "output_type": "stream",
     "text": [
      "Iteration: 100%|██████████| 267/267 [00:02<00:00, 97.65it/s] \n",
      "Iteration: 100%|██████████| 267/267 [00:06<00:00, 41.20it/s]\n",
      "Iteration:  41%|████      | 109/267 [00:02<00:04, 39.16it/s]"
     ]
    },
    {
     "name": "stdout",
     "output_type": "stream",
     "text": [
      "Evaluating...\n"
     ]
    },
    {
     "name": "stderr",
     "output_type": "stream",
     "text": [
      "Iteration: 100%|██████████| 267/267 [00:02<00:00, 111.19it/s]\n",
      "Iteration: 100%|██████████| 267/267 [00:02<00:00, 126.46it/s]\n",
      "Iteration: 100%|██████████| 267/267 [00:05<00:00, 45.23it/s]\n",
      "Iteration:   0%|          | 0/267 [00:00<?, ?it/s]39.18it/s]"
     ]
    },
    {
     "name": "stdout",
     "output_type": "stream",
     "text": [
      "Evaluating...\n",
      "{'Train':  best_epoch_indx:55\n",
      " auc:0.8557775392162601 \n",
      " apur:0.8011217099239756 \n",
      " f1:0.7227861657038567 \n",
      " precision:0.6850999342349813 \n",
      " recall:0.7648598608184894 \n",
      ", 'Validation':  best_epoch_indx:55\n",
      " auc:0.8557775392162601 \n",
      " apur:0.8011217099239756 \n",
      " f1:0.7227861657038567 \n",
      " precision:0.6850999342349813 \n",
      " recall:0.7648598608184894 \n",
      ", 'Test':  best_epoch_indx:55\n",
      " auc:0.8557775392162601 \n",
      " apur:0.8011217099239756 \n",
      " f1:0.7227861657038567 \n",
      " precision:0.6850999342349813 \n",
      " recall:0.7648598608184894 \n",
      "}\n",
      "=====Epoch 56\n",
      "Training...\n"
     ]
    },
    {
     "name": "stderr",
     "output_type": "stream",
     "text": [
      "Iteration: 100%|██████████| 267/267 [00:06<00:00, 39.31it/s]\n",
      "Iteration:   3%|▎         | 8/267 [00:00<00:03, 69.15it/s]s]]"
     ]
    },
    {
     "name": "stdout",
     "output_type": "stream",
     "text": [
      "Evaluating...\n"
     ]
    },
    {
     "name": "stderr",
     "output_type": "stream",
     "text": [
      "Iteration: 100%|██████████| 267/267 [00:06<00:00, 39.90it/s]]\n",
      "Iteration:  21%|██        | 55/267 [00:01<00:05, 37.79it/s]s]"
     ]
    },
    {
     "name": "stdout",
     "output_type": "stream",
     "text": [
      "Evaluating...\n"
     ]
    },
    {
     "name": "stderr",
     "output_type": "stream",
     "text": [
      "Iteration: 100%|██████████| 267/267 [00:02<00:00, 126.67it/s]\n",
      "Iteration: 100%|██████████| 267/267 [00:02<00:00, 120.87it/s]\n",
      "Iteration: 100%|██████████| 267/267 [00:02<00:00, 127.43it/s]\n",
      "Iteration: 100%|██████████| 267/267 [00:03<00:00, 74.45it/s] \n",
      "Iteration: 100%|██████████| 267/267 [00:02<00:00, 120.97it/s]\n",
      "Iteration: 100%|██████████| 267/267 [00:06<00:00, 40.66it/s]]\n",
      "Iteration:  68%|██████▊   | 181/267 [00:01<00:00, 123.30it/s]"
     ]
    },
    {
     "name": "stdout",
     "output_type": "stream",
     "text": [
      "Evaluating...\n"
     ]
    },
    {
     "name": "stderr",
     "output_type": "stream",
     "text": [
      "Iteration: 100%|██████████| 267/267 [00:02<00:00, 93.39it/s] \n",
      "Iteration: 100%|██████████| 267/267 [00:02<00:00, 120.31it/s]\n",
      "Iteration: 100%|██████████| 267/267 [00:03<00:00, 69.86it/s]]\n",
      "Iteration: 100%|██████████| 267/267 [00:02<00:00, 124.54it/s]\n",
      "Iteration:  39%|███▊      | 103/267 [00:01<00:01, 117.98it/s]"
     ]
    },
    {
     "name": "stdout",
     "output_type": "stream",
     "text": [
      "{'Train':  best_epoch_indx:54\n",
      " auc:0.8498577353139066 \n",
      " apur:0.7906957102127761 \n",
      " f1:0.7202464710500202 \n",
      " precision:0.6718711139359439 \n",
      " recall:0.7761284555959905 \n",
      ", 'Validation':  best_epoch_indx:54\n",
      " auc:0.8498577353139066 \n",
      " apur:0.7906957102128209 \n",
      " f1:0.7202464710500202 \n",
      " precision:0.6718711139359439 \n",
      " recall:0.7761284555959905 \n",
      ", 'Test':  best_epoch_indx:54\n",
      " auc:0.8498577353139066 \n",
      " apur:0.7906957102127761 \n",
      " f1:0.7202464710500202 \n",
      " precision:0.6718711139359439 \n",
      " recall:0.7761284555959905 \n",
      "}\n",
      "=====Epoch 55\n",
      "Training...\n"
     ]
    },
    {
     "name": "stderr",
     "output_type": "stream",
     "text": [
      "Iteration: 100%|██████████| 267/267 [00:02<00:00, 91.57it/s] \n",
      "Iteration:  44%|████▍     | 117/267 [00:01<00:02, 67.17it/s]]"
     ]
    },
    {
     "name": "stdout",
     "output_type": "stream",
     "text": [
      "{'Train':  best_epoch_indx:56\n",
      " auc:0.8635186107807828 \n",
      " apur:0.8100164862812135 \n",
      " f1:0.732094863994802 \n",
      " precision:0.6811387118047922 \n",
      " recall:0.7912915788801634 \n",
      ", 'Validation':  best_epoch_indx:56\n",
      " auc:0.8635186107807826 \n",
      " apur:0.8100164862812134 \n",
      " f1:0.732094863994802 \n",
      " precision:0.6811387118047922 \n",
      " recall:0.7912915788801634 \n",
      ", 'Test':  best_epoch_indx:56\n",
      " auc:0.8635186107807826 \n",
      " apur:0.810016486281202 \n",
      " f1:0.732094863994802 \n",
      " precision:0.6811387118047922 \n",
      " recall:0.7912915788801634 \n",
      "}\n",
      "=====Epoch 57\n",
      "Training...\n"
     ]
    },
    {
     "name": "stderr",
     "output_type": "stream",
     "text": [
      "Iteration: 100%|██████████| 267/267 [00:02<00:00, 117.27it/s]\n",
      "Iteration:   2%|▏         | 6/267 [00:00<00:05, 50.00it/s]s]"
     ]
    },
    {
     "name": "stdout",
     "output_type": "stream",
     "text": [
      "{'Train':  best_epoch_indx:56\n",
      " auc:0.8639336017969351 \n",
      " apur:0.8091314485125121 \n",
      " f1:0.73135625524129 \n",
      " precision:0.7000496219971395 \n",
      " recall:0.7655940752090915 \n",
      ", 'Validation':  best_epoch_indx:56\n",
      " auc:0.8639336017969351 \n",
      " apur:0.8091314485125121 \n",
      " f1:0.73135625524129 \n",
      " precision:0.7000496219971395 \n",
      " recall:0.7655940752090915 \n",
      ", 'Test':  best_epoch_indx:56\n",
      " auc:0.8639336017969351 \n",
      " apur:0.8091314485125121 \n",
      " f1:0.73135625524129 \n",
      " precision:0.7000496219971395 \n",
      " recall:0.7655940752090915 \n",
      "}\n",
      "=====Epoch 57\n",
      "Training...\n"
     ]
    },
    {
     "name": "stderr",
     "output_type": "stream",
     "text": [
      "Iteration: 100%|██████████| 267/267 [00:03<00:00, 68.46it/s]\n",
      "Iteration: 100%|██████████| 267/267 [00:03<00:00, 79.78it/s]\n",
      "Iteration:  82%|████████▏ | 220/267 [00:04<00:01, 45.26it/s]"
     ]
    },
    {
     "name": "stdout",
     "output_type": "stream",
     "text": [
      "{'Train':  best_epoch_indx:56\n",
      " auc:0.8686954930103266 \n",
      " apur:0.8163472050382115 \n",
      " f1:0.738858283672826 \n",
      " precision:0.6973535078771393 \n",
      " recall:0.7856162415807451 \n",
      ", 'Validation':  best_epoch_indx:56\n",
      " auc:0.8686954926814372 \n",
      " apur:0.8163472046184526 \n",
      " f1:0.738858283672826 \n",
      " precision:0.6973535078771393 \n",
      " recall:0.7856162415807451 \n",
      ", 'Test':  best_epoch_indx:56\n",
      " auc:0.8686954926814372 \n",
      " apur:0.8163472046184526 \n",
      " f1:0.738858283672826 \n",
      " precision:0.6973535078771393 \n",
      " recall:0.7856162415807451 \n",
      "}\n",
      "=====Epoch 57\n",
      "Training...\n"
     ]
    },
    {
     "name": "stderr",
     "output_type": "stream",
     "text": [
      "Iteration: 100%|██████████| 267/267 [00:05<00:00, 44.83it/s]\n",
      "Iteration:  85%|████████▍ | 226/267 [00:05<00:01, 39.27it/s]"
     ]
    },
    {
     "name": "stdout",
     "output_type": "stream",
     "text": [
      "Evaluating...\n"
     ]
    },
    {
     "name": "stderr",
     "output_type": "stream",
     "text": [
      "Iteration: 100%|██████████| 267/267 [00:05<00:00, 45.12it/s]]\n",
      "Iteration:  83%|████████▎ | 222/267 [00:04<00:00, 45.56it/s]]"
     ]
    },
    {
     "name": "stdout",
     "output_type": "stream",
     "text": [
      "Evaluating...\n"
     ]
    },
    {
     "name": "stderr",
     "output_type": "stream",
     "text": [
      "Iteration: 100%|██████████| 267/267 [00:05<00:00, 45.01it/s]]\n",
      "Iteration:  97%|█████████▋| 259/267 [00:02<00:00, 109.95it/s]"
     ]
    },
    {
     "name": "stdout",
     "output_type": "stream",
     "text": [
      "Evaluating...\n"
     ]
    },
    {
     "name": "stderr",
     "output_type": "stream",
     "text": [
      "Iteration: 100%|██████████| 267/267 [00:02<00:00, 120.40it/s]\n",
      "Iteration: 100%|██████████| 267/267 [00:02<00:00, 119.68it/s]\n",
      "Iteration: 100%|██████████| 267/267 [00:03<00:00, 68.13it/s] \n",
      "Iteration: 100%|██████████| 267/267 [00:02<00:00, 121.22it/s]\n",
      "Iteration:  39%|███▊      | 103/267 [00:01<00:02, 68.03it/s]"
     ]
    },
    {
     "name": "stdout",
     "output_type": "stream",
     "text": [
      "{'Train':  best_epoch_indx:56\n",
      " auc:0.8658236906150445 \n",
      " apur:0.8127706565324632 \n",
      " f1:0.7329987145742792 \n",
      " precision:0.703956263594145 \n",
      " recall:0.7645406371704015 \n",
      ", 'Validation':  best_epoch_indx:56\n",
      " auc:0.8658236906150445 \n",
      " apur:0.8127706565324633 \n",
      " f1:0.7329987145742792 \n",
      " precision:0.703956263594145 \n",
      " recall:0.7645406371704015 \n",
      ", 'Test':  best_epoch_indx:56\n",
      " auc:0.8658236906150445 \n",
      " apur:0.8127706565324633 \n",
      " f1:0.7329987145742792 \n",
      " precision:0.703956263594145 \n",
      " recall:0.7645406371704015 \n",
      "}\n",
      "=====Epoch 57\n",
      "Training...\n"
     ]
    },
    {
     "name": "stderr",
     "output_type": "stream",
     "text": [
      "Iteration: 100%|██████████| 267/267 [00:06<00:00, 39.16it/s]]\n",
      "Iteration:  19%|█▊        | 50/267 [00:01<00:05, 36.79it/s]s]"
     ]
    },
    {
     "name": "stdout",
     "output_type": "stream",
     "text": [
      "Evaluating...\n"
     ]
    },
    {
     "name": "stderr",
     "output_type": "stream",
     "text": [
      "Iteration: 100%|██████████| 267/267 [00:03<00:00, 87.57it/s] \n",
      "Iteration: 100%|██████████| 267/267 [00:02<00:00, 116.87it/s]\n",
      "Iteration: 100%|██████████| 267/267 [00:02<00:00, 120.77it/s]\n",
      "Iteration: 100%|██████████| 267/267 [00:02<00:00, 91.01it/s] \n",
      "Iteration: 100%|██████████| 267/267 [00:02<00:00, 114.36it/s]\n",
      "Iteration: 100%|██████████| 267/267 [00:02<00:00, 93.15it/s] \n",
      "Iteration:  27%|██▋       | 71/267 [00:00<00:02, 76.67it/s]]]"
     ]
    },
    {
     "name": "stdout",
     "output_type": "stream",
     "text": [
      "{'Train':  best_epoch_indx:55\n",
      " auc:0.8511390893678739 \n",
      " apur:0.7954423344101407 \n",
      " f1:0.719371216270223 \n",
      " precision:0.6706593436922142 \n",
      " recall:0.7757134648534764 \n",
      ", 'Validation':  best_epoch_indx:55\n",
      " auc:0.8511390893678739 \n",
      " apur:0.7954423344101407 \n",
      " f1:0.719371216270223 \n",
      " precision:0.6706593436922142 \n",
      " recall:0.7757134648534764 \n",
      ", 'Test':  best_epoch_indx:55\n",
      " auc:0.8511390893678739 \n",
      " apur:0.7954423344101407 \n",
      " f1:0.719371216270223 \n",
      " precision:0.6706593436922142 \n",
      " recall:0.7757134648534764 \n",
      "}\n",
      "=====Epoch 56\n",
      "Training...\n"
     ]
    },
    {
     "name": "stderr",
     "output_type": "stream",
     "text": [
      "Iteration: 100%|██████████| 267/267 [00:02<00:00, 125.74it/s]\n",
      "Iteration:  97%|█████████▋| 260/267 [00:07<00:00, 35.26it/s]]"
     ]
    },
    {
     "name": "stdout",
     "output_type": "stream",
     "text": [
      "{'Train':  best_epoch_indx:57\n",
      " auc:0.8725192001128016 \n",
      " apur:0.8208290179427759 \n",
      " f1:0.7409409348955188 \n",
      " precision:0.702945052426517 \n",
      " recall:0.7832790653131584 \n",
      ", 'Validation':  best_epoch_indx:57\n",
      " auc:0.8725191997839017 \n",
      " apur:0.8208290174561713 \n",
      " f1:0.7409409348955188 \n",
      " precision:0.702945052426517 \n",
      " recall:0.7832790653131584 \n",
      ", 'Test':  best_epoch_indx:57\n",
      " auc:0.8725192001128016 \n",
      " apur:0.8208290179427761 \n",
      " f1:0.7409409348955188 \n",
      " precision:0.702945052426517 \n",
      " recall:0.7832790653131584 \n",
      "}\n",
      "=====Epoch 58\n",
      "Training...\n"
     ]
    },
    {
     "name": "stderr",
     "output_type": "stream",
     "text": [
      "\r",
      "Iteration:  65%|██████▌   | 174/267 [00:01<00:00, 111.62it/s]\r",
      "Iteration:  13%|█▎        | 36/267 [00:00<00:06, 37.83it/s]\r",
      "Iteration:   4%|▍         | 12/267 [00:00<00:05, 47.42it/s]\r",
      "Iteration:  99%|█████████▉| 265/267 [00:07<00:00, 36.49it/s]\r",
      "Iteration:  70%|███████   | 187/267 [00:02<00:00, 115.29it/s]\r",
      "Iteration: 100%|██████████| 267/267 [00:07<00:00, 36.86it/s]\n",
      "\r",
      "Iteration:  15%|█▌        | 41/267 [00:01<00:05, 40.24it/s]\r",
      "Iteration:   0%|          | 0/267 [00:00<?, ?it/s]\r",
      "Iteration:   6%|▋         | 17/267 [00:00<00:05, 46.78it/s]"
     ]
    },
    {
     "name": "stdout",
     "output_type": "stream",
     "text": [
      "Evaluating...\n"
     ]
    },
    {
     "name": "stderr",
     "output_type": "stream",
     "text": [
      "Iteration: 100%|██████████| 267/267 [00:02<00:00, 101.22it/s]\n",
      "Iteration:   2%|▏         | 5/267 [00:00<00:06, 38.41it/s]]s]"
     ]
    },
    {
     "name": "stdout",
     "output_type": "stream",
     "text": [
      "{'Train':  best_epoch_indx:57\n",
      " auc:0.8691745499383989 \n",
      " apur:0.8155671714712664 \n",
      " f1:0.7399751344388023 \n",
      " precision:0.697090283069455 \n",
      " recall:0.7884824107769903 \n",
      ", 'Validation':  best_epoch_indx:57\n",
      " auc:0.8691745499383989 \n",
      " apur:0.8155671714712664 \n",
      " f1:0.7399751344388023 \n",
      " precision:0.697090283069455 \n",
      " recall:0.7884824107769903 \n",
      ", 'Test':  best_epoch_indx:57\n",
      " auc:0.869174549609506 \n",
      " apur:0.8155671713213022 \n",
      " f1:0.7399751344388023 \n",
      " precision:0.697090283069455 \n",
      " recall:0.7884824107769903 \n",
      "}\n",
      "=====Epoch 58\n",
      "Training...\n"
     ]
    },
    {
     "name": "stderr",
     "output_type": "stream",
     "text": [
      "Iteration: 100%|██████████| 267/267 [00:02<00:00, 101.16it/s]\n",
      "Iteration: 100%|██████████| 267/267 [00:02<00:00, 109.71it/s]\n",
      "Iteration:  69%|██████▉   | 184/267 [00:04<00:01, 43.24it/s]"
     ]
    },
    {
     "name": "stdout",
     "output_type": "stream",
     "text": [
      "{'Train':  best_epoch_indx:57\n",
      " auc:0.8762541689335834 \n",
      " apur:0.8266575570266129 \n",
      " f1:0.7465489828972198 \n",
      " precision:0.6983487156677416 \n",
      " recall:0.8018961279407539 \n",
      ", 'Validation':  best_epoch_indx:57\n",
      " auc:0.8762541689335833 \n",
      " apur:0.8266575570266129 \n",
      " f1:0.7465489828972198 \n",
      " precision:0.6983487156677416 \n",
      " recall:0.8018961279407539 \n",
      ", 'Test':  best_epoch_indx:57\n",
      " auc:0.8762541692624727 \n",
      " apur:0.8266575574041842 \n",
      " f1:0.7465489828972198 \n",
      " precision:0.6983487156677416 \n",
      " recall:0.8018961279407539 \n",
      "}\n",
      "=====Epoch 58\n",
      "Training...\n"
     ]
    },
    {
     "name": "stderr",
     "output_type": "stream",
     "text": [
      "Iteration: 100%|██████████| 267/267 [00:06<00:00, 40.22it/s]]\n",
      "Iteration: 100%|██████████| 267/267 [00:05<00:00, 45.13it/s]\n",
      "Iteration:  63%|██████▎   | 167/267 [00:04<00:02, 38.41it/s]]"
     ]
    },
    {
     "name": "stdout",
     "output_type": "stream",
     "text": [
      "Evaluating...\n",
      "Evaluating...\n"
     ]
    },
    {
     "name": "stderr",
     "output_type": "stream",
     "text": [
      "Iteration: 100%|██████████| 267/267 [00:02<00:00, 102.32it/s]\n",
      "Iteration: 100%|██████████| 267/267 [00:02<00:00, 127.72it/s]\n",
      "Iteration: 100%|██████████| 267/267 [00:06<00:00, 39.72it/s]\n",
      "Iteration:  94%|█████████▍| 251/267 [00:02<00:00, 74.84it/s]"
     ]
    },
    {
     "name": "stdout",
     "output_type": "stream",
     "text": [
      "Evaluating...\n"
     ]
    },
    {
     "name": "stderr",
     "output_type": "stream",
     "text": [
      "Iteration: 100%|██████████| 267/267 [00:02<00:00, 93.20it/s]\n",
      "Iteration: 100%|██████████| 267/267 [00:05<00:00, 44.86it/s]]\n",
      "Iteration:   0%|          | 0/267 [00:00<?, ?it/s]"
     ]
    },
    {
     "name": "stdout",
     "output_type": "stream",
     "text": [
      "Evaluating...\n"
     ]
    },
    {
     "name": "stderr",
     "output_type": "stream",
     "text": [
      "Iteration: 100%|██████████| 267/267 [00:02<00:00, 125.45it/s]\n",
      "Iteration: 100%|██████████| 267/267 [00:02<00:00, 106.74it/s]\n",
      "Iteration: 100%|██████████| 267/267 [00:04<00:00, 65.65it/s]]\n",
      "Iteration: 100%|██████████| 267/267 [00:02<00:00, 124.74it/s]\n",
      "Iteration: 100%|██████████| 267/267 [00:02<00:00, 89.24it/s] \n",
      "Iteration:  10%|█         | 28/267 [00:00<00:05, 47.35it/s]s]"
     ]
    },
    {
     "name": "stdout",
     "output_type": "stream",
     "text": [
      "{'Train':  best_epoch_indx:57\n",
      " auc:0.8755838138757608 \n",
      " apur:0.8262202837097565 \n",
      " f1:0.7438186391803179 \n",
      " precision:0.7158842633599055 \n",
      " recall:0.7740215795186107 \n",
      ", 'Validation':  best_epoch_indx:57\n",
      " auc:0.8755838138757608 \n",
      " apur:0.8262202837097565 \n",
      " f1:0.7438186391803179 \n",
      " precision:0.7158842633599055 \n",
      " recall:0.7740215795186107 \n",
      ", 'Test':  best_epoch_indx:57\n",
      " auc:0.8755838138757606 \n",
      " apur:0.8262202837097455 \n",
      " f1:0.7438186391803179 \n",
      " precision:0.7158842633599055 \n",
      " recall:0.7740215795186107 \n",
      "}\n",
      "=====Epoch 58\n",
      "Training...\n"
     ]
    },
    {
     "name": "stderr",
     "output_type": "stream",
     "text": [
      "Iteration: 100%|██████████| 267/267 [00:02<00:00, 102.20it/s]\n",
      "Iteration: 100%|██████████| 267/267 [00:02<00:00, 109.18it/s]\n",
      "Iteration:   0%|          | 0/267 [00:00<?, ?it/s]72.05it/s]]"
     ]
    },
    {
     "name": "stdout",
     "output_type": "stream",
     "text": [
      "{'Train':  best_epoch_indx:56\n",
      " auc:0.8689161330343143 \n",
      " apur:0.8173529052160167 \n",
      " f1:0.7382290032796237 \n",
      " precision:0.6670961756519946 \n",
      " recall:0.8263423354402094 \n",
      ", 'Validation':  best_epoch_indx:56\n",
      " auc:0.8689161330343143 \n",
      " apur:0.8173529052160167 \n",
      " f1:0.7382290032796237 \n",
      " precision:0.6670961756519946 \n",
      " recall:0.8263423354402094 \n",
      ", 'Test':  best_epoch_indx:56\n",
      " auc:0.8689161330343143 \n",
      " apur:0.8173529052160167 \n",
      " f1:0.7382290032796237 \n",
      " precision:0.6670961756519946 \n",
      " recall:0.8263423354402094 \n",
      "}\n",
      "=====Epoch 57\n",
      "Training...\n"
     ]
    },
    {
     "name": "stderr",
     "output_type": "stream",
     "text": [
      "Iteration: 100%|██████████| 267/267 [00:03<00:00, 72.70it/s]]\n",
      "Iteration: 100%|██████████| 267/267 [00:02<00:00, 111.24it/s]\n",
      "Iteration:  66%|██████▌   | 175/267 [00:04<00:02, 39.12it/s]]"
     ]
    },
    {
     "name": "stdout",
     "output_type": "stream",
     "text": [
      "{'Train':  best_epoch_indx:58\n",
      " auc:0.8797903809090447 \n",
      " apur:0.8314927736038928 \n",
      " f1:0.7504402402131215 \n",
      " precision:0.7099530115335326 \n",
      " recall:0.7958245546830109 \n",
      ", 'Validation':  best_epoch_indx:58\n",
      " auc:0.8797903809090447 \n",
      " apur:0.8314927736038928 \n",
      " f1:0.7504402402131215 \n",
      " precision:0.7099530115335326 \n",
      " recall:0.7958245546830109 \n",
      ", 'Test':  best_epoch_indx:58\n",
      " auc:0.8797903809090447 \n",
      " apur:0.8314927736038928 \n",
      " f1:0.7504402402131215 \n",
      " precision:0.7099530115335326 \n",
      " recall:0.7958245546830109 \n",
      "}\n",
      "=====Epoch 59\n",
      "Training...\n"
     ]
    },
    {
     "name": "stderr",
     "output_type": "stream",
     "text": [
      "Iteration: 100%|██████████| 267/267 [00:02<00:00, 112.92it/s]\n",
      "Iteration:  23%|██▎       | 61/267 [00:01<00:04, 45.74it/s]]"
     ]
    },
    {
     "name": "stdout",
     "output_type": "stream",
     "text": [
      "{'Train':  best_epoch_indx:58\n",
      " auc:0.8784774075235141 \n",
      " apur:0.8305190442333887 \n",
      " f1:0.7482124616956077 \n",
      " precision:0.7066050048232424 \n",
      " recall:0.7950264955627913 \n",
      ", 'Validation':  best_epoch_indx:58\n",
      " auc:0.8784774075235141 \n",
      " apur:0.8305190442333887 \n",
      " f1:0.7482124616956077 \n",
      " precision:0.7066050048232424 \n",
      " recall:0.7950264955627913 \n",
      ", 'Test':  best_epoch_indx:58\n",
      " auc:0.8784774075235141 \n",
      " apur:0.8305190442333887 \n",
      " f1:0.7482124616956077 \n",
      " precision:0.7066050048232424 \n",
      " recall:0.7950264955627913 \n",
      "}\n",
      "=====Epoch 59\n",
      "Training...\n"
     ]
    },
    {
     "name": "stderr",
     "output_type": "stream",
     "text": [
      "Iteration: 100%|██████████| 267/267 [00:06<00:00, 42.42it/s]]\n",
      "Iteration:  36%|███▌      | 96/267 [00:02<00:04, 39.31it/s]]]"
     ]
    },
    {
     "name": "stdout",
     "output_type": "stream",
     "text": [
      "Evaluating...\n"
     ]
    },
    {
     "name": "stderr",
     "output_type": "stream",
     "text": [
      "Iteration: 100%|██████████| 267/267 [00:02<00:00, 109.68it/s]\n",
      "Iteration:   2%|▏         | 5/267 [00:00<00:06, 41.39it/s]s]]"
     ]
    },
    {
     "name": "stdout",
     "output_type": "stream",
     "text": [
      "{'Train':  best_epoch_indx:58\n",
      " auc:0.8836461920016636 \n",
      " apur:0.8366948483421328 \n",
      " f1:0.7567346938775511 \n",
      " precision:0.6963753923751778 \n",
      " recall:0.8285504516870431 \n",
      ", 'Validation':  best_epoch_indx:58\n",
      " auc:0.8836461920016636 \n",
      " apur:0.8366948483421328 \n",
      " f1:0.7567346938775511 \n",
      " precision:0.6963753923751778 \n",
      " recall:0.8285504516870431 \n",
      ", 'Test':  best_epoch_indx:58\n",
      " auc:0.8836461920016636 \n",
      " apur:0.8366948483421328 \n",
      " f1:0.7567346938775511 \n",
      " precision:0.6963753923751778 \n",
      " recall:0.8285504516870431 \n",
      "}\n",
      "=====Epoch 59\n",
      "Training...\n"
     ]
    },
    {
     "name": "stderr",
     "output_type": "stream",
     "text": [
      "Iteration: 100%|██████████| 267/267 [00:02<00:00, 125.41it/s]\n",
      "Iteration: 100%|██████████| 267/267 [00:06<00:00, 38.18it/s]\n",
      "Iteration:   3%|▎         | 7/267 [00:00<00:04, 62.41it/s]s]"
     ]
    },
    {
     "name": "stdout",
     "output_type": "stream",
     "text": [
      "Evaluating...\n"
     ]
    },
    {
     "name": "stderr",
     "output_type": "stream",
     "text": [
      "Iteration: 100%|██████████| 267/267 [00:06<00:00, 39.57it/s]]\n",
      "Iteration:  30%|███       | 81/267 [00:01<00:02, 69.15it/s]"
     ]
    },
    {
     "name": "stdout",
     "output_type": "stream",
     "text": [
      "Evaluating...\n"
     ]
    },
    {
     "name": "stderr",
     "output_type": "stream",
     "text": [
      "Iteration: 100%|██████████| 267/267 [00:05<00:00, 45.11it/s]]\n",
      "Iteration:  42%|████▏     | 113/267 [00:01<00:02, 73.94it/s]"
     ]
    },
    {
     "name": "stdout",
     "output_type": "stream",
     "text": [
      "Evaluating...\n"
     ]
    },
    {
     "name": "stderr",
     "output_type": "stream",
     "text": [
      "Iteration: 100%|██████████| 267/267 [00:02<00:00, 116.31it/s]\n",
      "Iteration: 100%|██████████| 267/267 [00:03<00:00, 78.42it/s] \n",
      "Iteration: 100%|██████████| 267/267 [00:02<00:00, 120.53it/s]\n",
      "Iteration: 100%|██████████| 267/267 [00:05<00:00, 44.55it/s]\n",
      "Iteration:  27%|██▋       | 71/267 [00:01<00:02, 71.31it/s]"
     ]
    },
    {
     "name": "stdout",
     "output_type": "stream",
     "text": [
      "Evaluating...\n"
     ]
    },
    {
     "name": "stderr",
     "output_type": "stream",
     "text": [
      "Iteration: 100%|██████████| 267/267 [00:03<00:00, 74.36it/s] \n",
      "Iteration: 100%|██████████| 267/267 [00:03<00:00, 84.30it/s] \n",
      "Iteration: 100%|██████████| 267/267 [00:02<00:00, 121.20it/s]\n",
      "Iteration: 100%|██████████| 267/267 [00:02<00:00, 115.74it/s]\n",
      "Iteration:   0%|          | 0/267 [00:00<?, ?it/s]72.92it/s]"
     ]
    },
    {
     "name": "stdout",
     "output_type": "stream",
     "text": [
      "{'Train':  best_epoch_indx:58\n",
      " auc:0.8818930663531711 \n",
      " apur:0.834789736348105 \n",
      " f1:0.7533876945885841 \n",
      " precision:0.7033551101760602 \n",
      " recall:0.8110834450616101 \n",
      ", 'Validation':  best_epoch_indx:58\n",
      " auc:0.8818930663531709 \n",
      " apur:0.8347897363480756 \n",
      " f1:0.7533876945885841 \n",
      " precision:0.7033551101760602 \n",
      " recall:0.8110834450616101 \n",
      ", 'Test':  best_epoch_indx:58\n",
      " auc:0.8818930663531711 \n",
      " apur:0.834789736348105 \n",
      " f1:0.7533876945885841 \n",
      " precision:0.7033551101760602 \n",
      " recall:0.8110834450616101 \n",
      "}\n",
      "=====Epoch 59\n",
      "Training...\n"
     ]
    },
    {
     "name": "stderr",
     "output_type": "stream",
     "text": [
      "Iteration: 100%|██████████| 267/267 [00:03<00:00, 80.82it/s] \n",
      "Iteration: 100%|██████████| 267/267 [00:02<00:00, 95.21it/s] \n",
      "Iteration: 100%|██████████| 267/267 [00:02<00:00, 126.95it/s]\n",
      "Iteration: 100%|██████████| 267/267 [00:02<00:00, 103.22it/s]\n",
      "Iteration:   0%|          | 0/267 [00:00<?, ?it/s]4.50it/s]]]"
     ]
    },
    {
     "name": "stdout",
     "output_type": "stream",
     "text": [
      "{'Train':  best_epoch_indx:57\n",
      " auc:0.872838480635412 \n",
      " apur:0.8214258840795439 \n",
      " f1:0.7428762480813361 \n",
      " precision:0.7089485134155185 \n",
      " recall:0.780214518291515 \n",
      ", 'Validation':  best_epoch_indx:57\n",
      " auc:0.872838480635412 \n",
      " apur:0.8214258840795439 \n",
      " f1:0.7428762480813361 \n",
      " precision:0.7089485134155185 \n",
      " recall:0.780214518291515 \n",
      ", 'Test':  best_epoch_indx:57\n",
      " auc:0.872838480635412 \n",
      " apur:0.8214258840795439 \n",
      " f1:0.7428762480813361 \n",
      " precision:0.7089485134155185 \n",
      " recall:0.780214518291515 \n",
      "}\n",
      "=====Epoch 58\n",
      "Training...\n"
     ]
    },
    {
     "name": "stderr",
     "output_type": "stream",
     "text": [
      "Iteration: 100%|██████████| 267/267 [00:02<00:00, 114.43it/s]\n",
      "Iteration: 100%|██████████| 267/267 [00:02<00:00, 90.57it/s] \n",
      "Iteration:  85%|████████▍ | 226/267 [00:05<00:00, 44.78it/s]"
     ]
    },
    {
     "name": "stdout",
     "output_type": "stream",
     "text": [
      "{'Train':  best_epoch_indx:59\n",
      " auc:0.8867237762574935 \n",
      " apur:0.8398618752166181 \n",
      " f1:0.7582215442595002 \n",
      " precision:0.7132607411158943 \n",
      " recall:0.8092319479027006 \n",
      ", 'Validation':  best_epoch_indx:59\n",
      " auc:0.8867237762574935 \n",
      " apur:0.8398618752166181 \n",
      " f1:0.7582215442595002 \n",
      " precision:0.7132607411158943 \n",
      " recall:0.8092319479027006 \n",
      ", 'Test':  best_epoch_indx:59\n",
      " auc:0.8867237762574935 \n",
      " apur:0.8398618752166181 \n",
      " f1:0.7582215442595002 \n",
      " precision:0.7132607411158943 \n",
      " recall:0.8092319479027006 \n",
      "}\n",
      "=====Epoch 60\n",
      "Training...\n"
     ]
    },
    {
     "name": "stderr",
     "output_type": "stream",
     "text": [
      "Iteration: 100%|█████████▉| 266/267 [00:06<00:00, 45.50it/s]]"
     ]
    },
    {
     "name": "stdout",
     "output_type": "stream",
     "text": [
      "{'Train':  best_epoch_indx:59\n",
      " auc:0.888840234838884 \n",
      " apur:0.8436308632076636 \n",
      " f1:0.7602689024850819 \n",
      " precision:0.7216438670452264 \n",
      " recall:0.8032624656834578 \n",
      ", 'Validation':  best_epoch_indx:59\n",
      " auc:0.888840234838884 \n",
      " apur:0.8436308632076636 \n",
      " f1:0.7602689024850819 \n",
      " precision:0.7216438670452264 \n",
      " recall:0.8032624656834578 \n",
      ", 'Test':  best_epoch_indx:59\n",
      " auc:0.888840234838884 \n",
      " apur:0.8436308632076636 \n",
      " f1:0.7602689024850819 \n",
      " precision:0.7216438670452264 \n",
      " recall:0.8032624656834578 \n",
      "}\n",
      "=====Epoch 60\n",
      "Training...\n",
      "Evaluating...\n"
     ]
    },
    {
     "name": "stderr",
     "output_type": "stream",
     "text": [
      "Iteration: 100%|██████████| 267/267 [00:06<00:00, 42.03it/s]]\n",
      "Iteration: 100%|██████████| 267/267 [00:03<00:00, 88.54it/s] \n",
      "Iteration:  22%|██▏       | 60/267 [00:01<00:04, 43.73it/s]]]"
     ]
    },
    {
     "name": "stdout",
     "output_type": "stream",
     "text": [
      "{'Train':  best_epoch_indx:59\n",
      " auc:0.8912044163597965 \n",
      " apur:0.845751212293254 \n",
      " f1:0.7652950368330977 \n",
      " precision:0.716850674696108 \n",
      " recall:0.820761643310882 \n",
      ", 'Validation':  best_epoch_indx:59\n",
      " auc:0.8912044163597965 \n",
      " apur:0.8457512122932607 \n",
      " f1:0.7652950368330977 \n",
      " precision:0.716850674696108 \n",
      " recall:0.820761643310882 \n",
      ", 'Test':  best_epoch_indx:59\n",
      " auc:0.8912044163597964 \n",
      " apur:0.8457512122932549 \n",
      " f1:0.7652950368330977 \n",
      " precision:0.716850674696108 \n",
      " recall:0.820761643310882 \n",
      "}\n",
      "=====Epoch 60\n",
      "Training...\n"
     ]
    },
    {
     "name": "stderr",
     "output_type": "stream",
     "text": [
      "Iteration: 100%|██████████| 267/267 [00:02<00:00, 120.96it/s]\n",
      "Iteration: 100%|██████████| 267/267 [00:02<00:00, 126.48it/s]\n",
      "Iteration: 100%|██████████| 267/267 [00:07<00:00, 36.56it/s]\n",
      "Iteration:  61%|██████    | 162/267 [00:04<00:02, 39.62it/s]"
     ]
    },
    {
     "name": "stdout",
     "output_type": "stream",
     "text": [
      "Evaluating...\n"
     ]
    },
    {
     "name": "stderr",
     "output_type": "stream",
     "text": [
      "Iteration: 100%|██████████| 267/267 [00:06<00:00, 40.33it/s]\n",
      "Iteration:  67%|██████▋   | 179/267 [00:04<00:02, 36.84it/s]"
     ]
    },
    {
     "name": "stdout",
     "output_type": "stream",
     "text": [
      "Evaluating...\n"
     ]
    },
    {
     "name": "stderr",
     "output_type": "stream",
     "text": [
      "\r",
      "Iteration:   9%|▉         | 25/267 [00:00<00:01, 124.41it/s]\r",
      "Iteration: 100%|██████████| 267/267 [00:05<00:00, 44.83it/s]\n",
      "\r",
      "Iteration:   0%|          | 0/267 [00:00<?, ?it/s]\r",
      "Iteration:  21%|██        | 56/267 [00:00<00:02, 97.83it/s]\r",
      "Iteration:  14%|█▍        | 38/267 [00:00<00:01, 125.62it/s]\r",
      "Iteration:  69%|██████▊   | 183/267 [00:04<00:02, 36.67it/s]\r",
      "Iteration:   2%|▏         | 6/267 [00:00<00:04, 55.47it/s]\r",
      "Iteration:  26%|██▌       | 69/267 [00:00<00:01, 106.76it/s]"
     ]
    },
    {
     "name": "stdout",
     "output_type": "stream",
     "text": [
      "Evaluating...\n"
     ]
    },
    {
     "name": "stderr",
     "output_type": "stream",
     "text": [
      "Iteration: 100%|██████████| 267/267 [00:02<00:00, 112.30it/s]\n",
      "Iteration: 100%|██████████| 267/267 [00:02<00:00, 120.09it/s]\n",
      "Iteration: 100%|██████████| 267/267 [00:07<00:00, 37.76it/s]]\n",
      "Iteration:  81%|████████▏ | 217/267 [00:02<00:00, 72.56it/s]]"
     ]
    },
    {
     "name": "stdout",
     "output_type": "stream",
     "text": [
      "Evaluating...\n"
     ]
    },
    {
     "name": "stderr",
     "output_type": "stream",
     "text": [
      "Iteration: 100%|██████████| 267/267 [00:02<00:00, 89.67it/s]]\n",
      "Iteration: 100%|██████████| 267/267 [00:02<00:00, 100.22it/s]\n",
      "Iteration:   9%|▉         | 24/267 [00:00<00:03, 72.15it/s]]]"
     ]
    },
    {
     "name": "stdout",
     "output_type": "stream",
     "text": [
      "{'Train':  best_epoch_indx:59\n",
      " auc:0.8896562990087727 \n",
      " apur:0.8438944064016612 \n",
      " f1:0.762378783982088 \n",
      " precision:0.7245722501797268 \n",
      " recall:0.8043478260869565 \n",
      ", 'Validation':  best_epoch_indx:59\n",
      " auc:0.8896562990087727 \n",
      " apur:0.8438944064016612 \n",
      " f1:0.762378783982088 \n",
      " precision:0.7245722501797268 \n",
      " recall:0.8043478260869565 \n",
      ", 'Test':  best_epoch_indx:59\n",
      " auc:0.8896562990087727 \n",
      " apur:0.8438944064016612 \n",
      " f1:0.762378783982088 \n",
      " precision:0.7245722501797268 \n",
      " recall:0.8043478260869565 \n",
      "}\n",
      "=====Epoch 60\n",
      "Training...\n"
     ]
    },
    {
     "name": "stderr",
     "output_type": "stream",
     "text": [
      "Iteration: 100%|██████████| 267/267 [00:02<00:00, 111.03it/s]\n",
      "Iteration: 100%|██████████| 267/267 [00:02<00:00, 102.47it/s]\n",
      "Iteration: 100%|██████████| 267/267 [00:03<00:00, 76.08it/s] \n",
      "Iteration: 100%|██████████| 267/267 [00:03<00:00, 76.03it/s] \n",
      "Iteration: 100%|██████████| 267/267 [00:03<00:00, 80.49it/s]]\n",
      "Iteration: 100%|██████████| 267/267 [00:02<00:00, 97.72it/s] \n",
      "Iteration: 100%|██████████| 267/267 [00:05<00:00, 45.02it/s]]\n",
      "Iteration: 100%|██████████| 267/267 [00:02<00:00, 109.20it/s]\n",
      "Iteration:  36%|███▌      | 96/267 [00:01<00:02, 71.76it/s]]"
     ]
    },
    {
     "name": "stdout",
     "output_type": "stream",
     "text": [
      "Evaluating...\n"
     ]
    },
    {
     "name": "stderr",
     "output_type": "stream",
     "text": [
      "Iteration:  51%|█████     | 136/267 [00:01<00:01, 94.76it/s]"
     ]
    },
    {
     "name": "stdout",
     "output_type": "stream",
     "text": [
      "{'Train':  best_epoch_indx:60\n",
      " auc:0.8860287751340604 \n",
      " apur:0.8406962061947534 \n",
      " f1:0.7579378729641206 \n",
      " precision:0.7130314883079607 \n",
      " recall:0.808880801889804 \n",
      ", 'Validation':  best_epoch_indx:60\n",
      " auc:0.8860287751340604 \n",
      " apur:0.8406962061947536 \n",
      " f1:0.7579378729641206 \n",
      " precision:0.7130314883079607 \n",
      " recall:0.808880801889804 \n",
      ", 'Test':  best_epoch_indx:60\n",
      " auc:0.8860287751340604 \n",
      " apur:0.8406962061947536 \n",
      " f1:0.7579378729641206 \n",
      " precision:0.7130314883079607 \n",
      " recall:0.808880801889804 \n",
      "}\n",
      "=====Epoch 61\n",
      "Training...\n"
     ]
    },
    {
     "name": "stderr",
     "output_type": "stream",
     "text": [
      "Iteration:  70%|███████   | 188/267 [00:02<00:00, 118.42it/s]"
     ]
    },
    {
     "name": "stdout",
     "output_type": "stream",
     "text": [
      "{'Train':  best_epoch_indx:58\n",
      " auc:0.8829392795970149 \n",
      " apur:0.8349521798491392 \n",
      " f1:0.7560086755093911 \n",
      " precision:0.7028613755452525 \n",
      " recall:0.8178509864010726 \n",
      ", 'Validation':  best_epoch_indx:58\n",
      " auc:0.8829392795970149 \n",
      " apur:0.8349521798491392 \n",
      " f1:0.7560086755093911 \n",
      " precision:0.7028613755452525 \n",
      " recall:0.8178509864010726 \n",
      ", 'Test':  best_epoch_indx:58\n",
      " auc:0.8829392795970149 \n",
      " apur:0.8349521798491392 \n",
      " f1:0.7560086755093911 \n",
      " precision:0.7028613755452525 \n",
      " recall:0.8178509864010726 \n",
      "}\n",
      "=====Epoch 59\n",
      "Training...\n"
     ]
    },
    {
     "name": "stderr",
     "output_type": "stream",
     "text": [
      "Iteration: 100%|██████████| 267/267 [00:02<00:00, 95.77it/s] \n",
      "Iteration: 100%|██████████| 267/267 [00:02<00:00, 117.99it/s]\n",
      "Iteration:  32%|███▏      | 86/267 [00:02<00:04, 38.94it/s]s]"
     ]
    },
    {
     "name": "stdout",
     "output_type": "stream",
     "text": [
      "{'Train':  best_epoch_indx:60\n",
      " auc:0.8868239946888616 \n",
      " apur:0.8404108777914227 \n",
      " f1:0.7587166671654746 \n",
      " precision:0.714112676056338 \n",
      " recall:0.8092638702675095 \n",
      ", 'Validation':  best_epoch_indx:60\n",
      " auc:0.8868239946888616 \n",
      " apur:0.8404108777914228 \n",
      " f1:0.7587166671654746 \n",
      " precision:0.714112676056338 \n",
      " recall:0.8092638702675095 \n",
      ", 'Test':  best_epoch_indx:60\n",
      " auc:0.8868239946888615 \n",
      " apur:0.8404108777914227 \n",
      " f1:0.7587166671654746 \n",
      " precision:0.714112676056338 \n",
      " recall:0.8092638702675095 \n",
      "}\n",
      "=====Epoch 61\n",
      "Training...\n"
     ]
    },
    {
     "name": "stderr",
     "output_type": "stream",
     "text": [
      "Iteration: 100%|██████████| 267/267 [00:02<00:00, 127.24it/s]\n",
      "Iteration:  28%|██▊       | 76/267 [00:01<00:04, 45.70it/s]]"
     ]
    },
    {
     "name": "stdout",
     "output_type": "stream",
     "text": [
      "{'Train':  best_epoch_indx:60\n",
      " auc:0.8897807841290308 \n",
      " apur:0.8450028503724962 \n",
      " f1:0.7640092082146968 \n",
      " precision:0.726866660903144 \n",
      " recall:0.8051521052127558 \n",
      ", 'Validation':  best_epoch_indx:60\n",
      " auc:0.8897807841290308 \n",
      " apur:0.8450028503724962 \n",
      " f1:0.7640092082146968 \n",
      " precision:0.726866660903144 \n",
      " recall:0.8051521052127558 \n",
      ", 'Test':  best_epoch_indx:60\n",
      " auc:0.8897807841290308 \n",
      " apur:0.8450028503724962 \n",
      " f1:0.7640092082146968 \n",
      " precision:0.726866660903144 \n",
      " recall:0.8051521052127558 \n",
      "}\n",
      "=====Epoch 61\n",
      "Training...\n"
     ]
    },
    {
     "name": "stderr",
     "output_type": "stream",
     "text": [
      "Iteration: 100%|██████████| 267/267 [00:02<00:00, 109.67it/s]\n",
      "Iteration: 100%|██████████| 267/267 [00:06<00:00, 41.51it/s]\n",
      "Iteration:   3%|▎         | 7/267 [00:00<00:04, 60.23it/s]s]"
     ]
    },
    {
     "name": "stdout",
     "output_type": "stream",
     "text": [
      "Evaluating...\n"
     ]
    },
    {
     "name": "stderr",
     "output_type": "stream",
     "text": [
      "Iteration: 100%|██████████| 267/267 [00:06<00:00, 41.31it/s]\n",
      "Iteration:  15%|█▍        | 40/267 [00:00<00:03, 72.03it/s]]"
     ]
    },
    {
     "name": "stdout",
     "output_type": "stream",
     "text": [
      "Evaluating...\n"
     ]
    },
    {
     "name": "stderr",
     "output_type": "stream",
     "text": [
      "Iteration: 100%|██████████| 267/267 [00:05<00:00, 45.27it/s]]\n",
      "Iteration:  53%|█████▎    | 142/267 [00:01<00:01, 123.74it/s]"
     ]
    },
    {
     "name": "stdout",
     "output_type": "stream",
     "text": [
      "Evaluating...\n"
     ]
    },
    {
     "name": "stderr",
     "output_type": "stream",
     "text": [
      "Iteration: 100%|██████████| 267/267 [00:02<00:00, 123.12it/s]\n",
      "Iteration: 100%|██████████| 267/267 [00:02<00:00, 118.92it/s]\n",
      "Iteration:  70%|██████▉   | 186/267 [00:02<00:01, 67.76it/s]]"
     ]
    },
    {
     "name": "stdout",
     "output_type": "stream",
     "text": [
      "{'Train':  best_epoch_indx:60\n",
      " auc:0.8899689536748667 \n",
      " apur:0.8441998633316188 \n",
      " f1:0.7629443644937076 \n",
      " precision:0.7330254177453518 \n",
      " recall:0.7954095639404967 \n",
      ", 'Validation':  best_epoch_indx:60\n",
      " auc:0.8899689536748667 \n",
      " apur:0.8441998633316188 \n",
      " f1:0.7629443644937076 \n",
      " precision:0.7330254177453518 \n",
      " recall:0.7954095639404967 \n",
      ", 'Test':  best_epoch_indx:60\n",
      " auc:0.8899689536748667 \n",
      " apur:0.8441998633316188 \n",
      " f1:0.7629443644937076 \n",
      " precision:0.7330254177453518 \n",
      " recall:0.7954095639404967 \n",
      "}\n",
      "=====Epoch 61\n",
      "Training...\n"
     ]
    },
    {
     "name": "stderr",
     "output_type": "stream",
     "text": [
      "Iteration: 100%|██████████| 267/267 [00:02<00:00, 121.55it/s]\n",
      "Iteration: 100%|██████████| 267/267 [00:06<00:00, 39.53it/s]\n",
      "Iteration: 100%|██████████| 267/267 [00:03<00:00, 68.44it/s]\n",
      "Iteration:   3%|▎         | 7/267 [00:00<00:04, 60.54it/s]]"
     ]
    },
    {
     "name": "stdout",
     "output_type": "stream",
     "text": [
      "Evaluating...\n"
     ]
    },
    {
     "name": "stderr",
     "output_type": "stream",
     "text": [
      "Iteration: 100%|██████████| 267/267 [00:02<00:00, 118.45it/s]\n",
      "Iteration: 100%|██████████| 267/267 [00:02<00:00, 127.15it/s]\n",
      "Iteration: 100%|██████████| 267/267 [00:03<00:00, 81.33it/s] \n",
      "Iteration: 100%|██████████| 267/267 [00:02<00:00, 91.36it/s] \n",
      "Iteration: 100%|██████████| 267/267 [00:06<00:00, 44.47it/s]\n",
      "Iteration:   0%|          | 0/267 [00:00<?, ?it/s]"
     ]
    },
    {
     "name": "stdout",
     "output_type": "stream",
     "text": [
      "Evaluating...\n"
     ]
    },
    {
     "name": "stderr",
     "output_type": "stream",
     "text": [
      "Iteration: 100%|██████████| 267/267 [00:02<00:00, 120.52it/s]\n",
      "Iteration: 100%|██████████| 267/267 [00:02<00:00, 115.17it/s]\n",
      "Iteration: 100%|██████████| 267/267 [00:03<00:00, 86.72it/s] \n",
      "Iteration:   0%|          | 0/267 [00:00<?, ?it/s]86.93it/s]"
     ]
    },
    {
     "name": "stdout",
     "output_type": "stream",
     "text": [
      "{'Train':  best_epoch_indx:61\n",
      " auc:0.8844479101107464 \n",
      " apur:0.8383290810226576 \n",
      " f1:0.7555842828367856 \n",
      " precision:0.7140056818181818 \n",
      " recall:0.8023047947391942 \n",
      ", 'Validation':  best_epoch_indx:61\n",
      " auc:0.8844479101107464 \n",
      " apur:0.8383290810226576 \n",
      " f1:0.7555842828367856 \n",
      " precision:0.7140056818181818 \n",
      " recall:0.8023047947391942 \n",
      ", 'Test':  best_epoch_indx:61\n",
      " auc:0.8844479101107464 \n",
      " apur:0.8383290810226576 \n",
      " f1:0.7555842828367856 \n",
      " precision:0.7140056818181818 \n",
      " recall:0.8023047947391942 \n",
      "}\n",
      "=====Epoch 62\n",
      "Training...\n",
      "{'Train':  best_epoch_indx:59\n",
      " auc:0.8885542364267032 \n",
      " apur:0.8427366934630445 \n",
      " f1:0.7618527967438912 \n",
      " precision:0.7079895847608606 \n",
      " recall:0.8245866053757263 \n",
      ", 'Validation':  best_epoch_indx:59\n",
      " auc:0.8885542367555963 \n",
      " apur:0.8427366936723104 \n",
      " f1:0.7618527967438912 \n",
      " precision:0.7079895847608606 \n",
      " recall:0.8245866053757263 \n",
      ", 'Test':  best_epoch_indx:59\n",
      " auc:0.8885542364267033 \n",
      " apur:0.8427366932788023 \n",
      " f1:0.7618527967438912 \n",
      " precision:0.7079895847608606 \n",
      " recall:0.8245866053757263 \n",
      "}\n",
      "=====Epoch 60\n",
      "Training...\n"
     ]
    },
    {
     "name": "stderr",
     "output_type": "stream",
     "text": [
      "Iteration: 100%|██████████| 267/267 [00:03<00:00, 82.61it/s] \n",
      "Iteration: 100%|██████████| 267/267 [00:03<00:00, 77.12it/s]]\n",
      "Iteration: 100%|██████████| 267/267 [00:02<00:00, 116.06it/s]\n",
      "Iteration:  62%|██████▏   | 165/267 [00:03<00:02, 45.74it/s]]"
     ]
    },
    {
     "name": "stdout",
     "output_type": "stream",
     "text": [
      "{'Train':  best_epoch_indx:61\n",
      " auc:0.8892771143756962 \n",
      " apur:0.8429872165054465 \n",
      " f1:0.7622122941271877 \n",
      " precision:0.7082534115197019 \n",
      " recall:0.8250710249944138 \n",
      ", 'Validation':  best_epoch_indx:61\n",
      " auc:0.8892771143756962 \n",
      " apur:0.8429872165054465 \n",
      " f1:0.7622122941271877 \n",
      " precision:0.7082534115197019 \n",
      " recall:0.8250710249944138 \n",
      ", 'Test':  best_epoch_indx:61\n",
      " auc:0.8892771143756962 \n",
      " apur:0.8429872165054465 \n",
      " f1:0.7622122941271877 \n",
      " precision:0.7082534115197019 \n",
      " recall:0.8250710249944138 \n",
      "}\n",
      "=====Epoch 62\n",
      "Training...\n"
     ]
    },
    {
     "name": "stderr",
     "output_type": "stream",
     "text": [
      "Iteration: 100%|██████████| 267/267 [00:02<00:00, 125.79it/s]\n",
      "Iteration:  54%|█████▍    | 144/267 [00:03<00:02, 43.17it/s]"
     ]
    },
    {
     "name": "stdout",
     "output_type": "stream",
     "text": [
      "{'Train':  best_epoch_indx:61\n",
      " auc:0.8831076524756001 \n",
      " apur:0.8353485142281419 \n",
      " f1:0.75487814079831 \n",
      " precision:0.7158476201379548 \n",
      " recall:0.7984102662325225 \n",
      ", 'Validation':  best_epoch_indx:61\n",
      " auc:0.8831076524756001 \n",
      " apur:0.8353485142281419 \n",
      " f1:0.75487814079831 \n",
      " precision:0.7158476201379548 \n",
      " recall:0.7984102662325225 \n",
      ", 'Test':  best_epoch_indx:61\n",
      " auc:0.883107652146707 \n",
      " apur:0.8353485137901338 \n",
      " f1:0.75487814079831 \n",
      " precision:0.7158476201379548 \n",
      " recall:0.7984102662325225 \n",
      "}\n",
      "=====Epoch 62\n",
      "Training...\n"
     ]
    },
    {
     "name": "stderr",
     "output_type": "stream",
     "text": [
      "Iteration: 100%|██████████| 267/267 [00:06<00:00, 44.19it/s]]\n",
      "Iteration:   3%|▎         | 7/267 [00:00<00:04, 59.47it/s]s]]"
     ]
    },
    {
     "name": "stdout",
     "output_type": "stream",
     "text": [
      "Evaluating...\n"
     ]
    },
    {
     "name": "stderr",
     "output_type": "stream",
     "text": [
      "Iteration: 100%|██████████| 267/267 [00:06<00:00, 38.51it/s]]\n",
      "Iteration:   0%|          | 0/267 [00:00<?, ?it/s]"
     ]
    },
    {
     "name": "stdout",
     "output_type": "stream",
     "text": [
      "Evaluating...\n"
     ]
    },
    {
     "name": "stderr",
     "output_type": "stream",
     "text": [
      "Iteration: 100%|██████████| 267/267 [00:02<00:00, 120.47it/s]\n",
      "Iteration:  31%|███       | 82/267 [00:01<00:02, 75.53it/s]]"
     ]
    },
    {
     "name": "stdout",
     "output_type": "stream",
     "text": [
      "{'Train':  best_epoch_indx:61\n",
      " auc:0.8842511434199034 \n",
      " apur:0.8363651132141843 \n",
      " f1:0.7575096899224805 \n",
      " precision:0.7204654109786303 \n",
      " recall:0.7985698780565664 \n",
      ", 'Validation':  best_epoch_indx:61\n",
      " auc:0.8842511434199034 \n",
      " apur:0.8363651132141843 \n",
      " f1:0.7575096899224805 \n",
      " precision:0.7204654109786303 \n",
      " recall:0.7985698780565664 \n",
      ", 'Test':  best_epoch_indx:61\n",
      " auc:0.8842511434199034 \n",
      " apur:0.8363651132141843 \n",
      " f1:0.7575096899224805 \n",
      " precision:0.7204654109786303 \n",
      " recall:0.7985698780565664 \n",
      "}\n",
      "=====Epoch 62\n",
      "Training...\n"
     ]
    },
    {
     "name": "stderr",
     "output_type": "stream",
     "text": [
      "Iteration: 100%|██████████| 267/267 [00:06<00:00, 42.95it/s]]\n",
      "Iteration: 100%|██████████| 267/267 [00:02<00:00, 93.81it/s] \n"
     ]
    },
    {
     "name": "stdout",
     "output_type": "stream",
     "text": [
      "Evaluating...\n"
     ]
    },
    {
     "name": "stderr",
     "output_type": "stream",
     "text": [
      "Iteration: 100%|██████████| 267/267 [00:03<00:00, 67.67it/s]\n",
      "Iteration: 100%|██████████| 267/267 [00:06<00:00, 43.07it/s]\n",
      "Iteration:  32%|███▏      | 85/267 [00:02<00:04, 37.97it/s]]"
     ]
    },
    {
     "name": "stdout",
     "output_type": "stream",
     "text": [
      "Evaluating...\n"
     ]
    },
    {
     "name": "stderr",
     "output_type": "stream",
     "text": [
      "Iteration: 100%|██████████| 267/267 [00:02<00:00, 119.79it/s]\n",
      "Iteration: 100%|██████████| 267/267 [00:02<00:00, 119.07it/s]\n",
      "Iteration: 100%|██████████| 267/267 [00:02<00:00, 120.32it/s]\n",
      "Iteration: 100%|██████████| 267/267 [00:02<00:00, 96.04it/s] \n",
      "Iteration: 100%|██████████| 267/267 [00:07<00:00, 37.73it/s]]\n",
      "Iteration: 100%|██████████| 267/267 [00:02<00:00, 119.77it/s]\n",
      "Iteration:  73%|███████▎  | 195/267 [00:01<00:00, 106.27it/s]"
     ]
    },
    {
     "name": "stdout",
     "output_type": "stream",
     "text": [
      "Evaluating...\n"
     ]
    },
    {
     "name": "stderr",
     "output_type": "stream",
     "text": [
      "Iteration: 100%|██████████| 267/267 [00:02<00:00, 113.54it/s]\n",
      "Iteration: 100%|██████████| 267/267 [00:02<00:00, 102.01it/s]\n",
      "Iteration: 100%|██████████| 267/267 [00:02<00:00, 101.46it/s]\n",
      "Iteration:  81%|████████▏ | 217/267 [00:02<00:00, 123.97it/s]"
     ]
    },
    {
     "name": "stdout",
     "output_type": "stream",
     "text": [
      "{'Train':  best_epoch_indx:60\n",
      " auc:0.8865994036852263 \n",
      " apur:0.8398339251984654 \n",
      " f1:0.758071504340161 \n",
      " precision:0.7125003510545679 \n",
      " recall:0.8098703951988764 \n",
      ", 'Validation':  best_epoch_indx:60\n",
      " auc:0.8865994036852263 \n",
      " apur:0.8398339251984654 \n",
      " f1:0.758071504340161 \n",
      " precision:0.7125003510545679 \n",
      " recall:0.8098703951988764 \n",
      ", 'Test':  best_epoch_indx:60\n",
      " auc:0.88659940302744 \n",
      " apur:0.8398339247922513 \n",
      " f1:0.758071504340161 \n",
      " precision:0.7125003510545679 \n",
      " recall:0.8098703951988764 \n",
      "}\n",
      "=====Epoch 61\n",
      "Training...\n"
     ]
    },
    {
     "name": "stderr",
     "output_type": "stream",
     "text": [
      "Iteration: 100%|██████████| 267/267 [00:02<00:00, 109.81it/s]\n",
      "Iteration:   0%|          | 0/267 [00:00<?, ?it/s]24.63it/s]]"
     ]
    },
    {
     "name": "stdout",
     "output_type": "stream",
     "text": [
      "{'Train':  best_epoch_indx:62\n",
      " auc:0.878290774392366 \n",
      " apur:0.8285006549007284 \n",
      " f1:0.7492445339811578 \n",
      " precision:0.6989663368525786 \n",
      " recall:0.8073166060141735 \n",
      ", 'Validation':  best_epoch_indx:62\n",
      " auc:0.878290774392366 \n",
      " apur:0.8285006549007284 \n",
      " f1:0.7492445339811578 \n",
      " precision:0.6989663368525786 \n",
      " recall:0.8073166060141735 \n",
      ", 'Test':  best_epoch_indx:62\n",
      " auc:0.878290774392366 \n",
      " apur:0.8285006549007283 \n",
      " f1:0.7492445339811578 \n",
      " precision:0.6989663368525786 \n",
      " recall:0.8073166060141735 \n",
      "}\n",
      "=====Epoch 63\n",
      "Training...\n"
     ]
    },
    {
     "name": "stderr",
     "output_type": "stream",
     "text": [
      "Iteration: 100%|██████████| 267/267 [00:02<00:00, 100.05it/s]\n",
      "Iteration: 100%|██████████| 267/267 [00:02<00:00, 89.20it/s] \n",
      "Iteration:  34%|███▍      | 91/267 [00:02<00:05, 33.10it/s]"
     ]
    },
    {
     "name": "stdout",
     "output_type": "stream",
     "text": [
      "{'Train':  best_epoch_indx:62\n",
      " auc:0.8799610614439942 \n",
      " apur:0.8312079910084195 \n",
      " f1:0.7527229688225687 \n",
      " precision:0.7092320722755505 \n",
      " recall:0.8018961279407539 \n",
      ", 'Validation':  best_epoch_indx:62\n",
      " auc:0.8799610617728835 \n",
      " apur:0.8312079911986555 \n",
      " f1:0.7527229688225687 \n",
      " precision:0.7092320722755505 \n",
      " recall:0.8018961279407539 \n",
      ", 'Test':  best_epoch_indx:62\n",
      " auc:0.8799610614439942 \n",
      " apur:0.8312079910084195 \n",
      " f1:0.7527229688225687 \n",
      " precision:0.7092320722755505 \n",
      " recall:0.8018961279407539 \n",
      "}\n",
      "=====Epoch 63\n",
      "Training...\n"
     ]
    },
    {
     "name": "stderr",
     "output_type": "stream",
     "text": [
      "Iteration: 100%|██████████| 267/267 [00:02<00:00, 120.30it/s]\n",
      "Iteration:  17%|█▋        | 46/267 [00:00<00:04, 45.63it/s]]"
     ]
    },
    {
     "name": "stdout",
     "output_type": "stream",
     "text": [
      "{'Train':  best_epoch_indx:62\n",
      " auc:0.876559416401023 \n",
      " apur:0.8267923983543942 \n",
      " f1:0.7466437125296365 \n",
      " precision:0.7084802109305591 \n",
      " recall:0.7891527804379749 \n",
      ", 'Validation':  best_epoch_indx:62\n",
      " auc:0.876559416401023 \n",
      " apur:0.8267923983543942 \n",
      " f1:0.7466437125296365 \n",
      " precision:0.7084802109305591 \n",
      " recall:0.7891527804379749 \n",
      ", 'Test':  best_epoch_indx:62\n",
      " auc:0.8765594164010231 \n",
      " apur:0.8267923983544007 \n",
      " f1:0.7466437125296365 \n",
      " precision:0.7084802109305591 \n",
      " recall:0.7891527804379749 \n",
      "}\n",
      "=====Epoch 63\n",
      "Training...\n"
     ]
    },
    {
     "name": "stderr",
     "output_type": "stream",
     "text": [
      "Iteration: 100%|██████████| 267/267 [00:06<00:00, 40.14it/s]\n",
      "Iteration:  48%|████▊     | 129/267 [00:03<00:03, 38.05it/s]]"
     ]
    },
    {
     "name": "stdout",
     "output_type": "stream",
     "text": [
      "Evaluating...\n"
     ]
    },
    {
     "name": "stderr",
     "output_type": "stream",
     "text": [
      "Iteration: 100%|██████████| 267/267 [00:03<00:00, 88.32it/s] \n",
      "Iteration: 100%|██████████| 267/267 [00:06<00:00, 41.78it/s] \n",
      "Iteration:   5%|▍         | 13/267 [00:00<00:02, 121.39it/s]]"
     ]
    },
    {
     "name": "stdout",
     "output_type": "stream",
     "text": [
      "Evaluating...\n"
     ]
    },
    {
     "name": "stderr",
     "output_type": "stream",
     "text": [
      "Iteration: 100%|██████████| 267/267 [00:05<00:00, 45.02it/s]]\n",
      "Iteration:   4%|▍         | 12/267 [00:00<00:02, 113.36it/s]]"
     ]
    },
    {
     "name": "stdout",
     "output_type": "stream",
     "text": [
      "Evaluating...\n",
      "{'Train':  best_epoch_indx:62\n",
      " auc:0.8761458691703483 \n",
      " apur:0.8266554919134673 \n",
      " f1:0.7453101338195754 \n",
      " precision:0.7222954354858033 \n",
      " recall:0.7698397497286599 \n",
      ", 'Validation':  best_epoch_indx:62\n",
      " auc:0.8761458691703483 \n",
      " apur:0.8266554919134673 \n",
      " f1:0.7453101338195754 \n",
      " precision:0.7222954354858033 \n",
      " recall:0.7698397497286599 \n",
      ", 'Test':  best_epoch_indx:62\n",
      " auc:0.8761458694992414 \n",
      " apur:0.8266554931609583 \n",
      " f1:0.7453101338195754 \n",
      " precision:0.7222954354858033 \n",
      " recall:0.7698397497286599 \n",
      "}\n",
      "=====Epoch 63\n",
      "Training...\n"
     ]
    },
    {
     "name": "stderr",
     "output_type": "stream",
     "text": [
      "Iteration: 100%|██████████| 267/267 [00:02<00:00, 113.68it/s]\n",
      "Iteration: 100%|██████████| 267/267 [00:02<00:00, 122.17it/s]\n",
      "Iteration: 100%|██████████| 267/267 [00:06<00:00, 38.43it/s]]\n",
      "Iteration:  86%|████████▌ | 230/267 [00:01<00:00, 120.80it/s]"
     ]
    },
    {
     "name": "stdout",
     "output_type": "stream",
     "text": [
      "Evaluating...\n"
     ]
    },
    {
     "name": "stderr",
     "output_type": "stream",
     "text": [
      "Iteration: 100%|██████████| 267/267 [00:02<00:00, 116.73it/s]\n",
      "Iteration: 100%|██████████| 267/267 [00:02<00:00, 125.99it/s]\n",
      "Iteration: 100%|██████████| 267/267 [00:02<00:00, 114.69it/s]\n",
      "Iteration: 100%|██████████| 267/267 [00:02<00:00, 119.17it/s]\n",
      "Iteration: 100%|██████████| 267/267 [00:04<00:00, 66.15it/s]]\n",
      "Iteration: 100%|██████████| 267/267 [00:06<00:00, 38.84it/s]]\n",
      "Iteration:  15%|█▌        | 41/267 [00:00<00:02, 83.76it/s]]]"
     ]
    },
    {
     "name": "stdout",
     "output_type": "stream",
     "text": [
      "Evaluating...\n"
     ]
    },
    {
     "name": "stderr",
     "output_type": "stream",
     "text": [
      "Iteration: 100%|██████████| 267/267 [00:02<00:00, 114.58it/s]\n",
      "Iteration:   0%|          | 0/267 [00:00<?, ?it/s]125.09it/s]"
     ]
    },
    {
     "name": "stdout",
     "output_type": "stream",
     "text": [
      "{'Train':  best_epoch_indx:61\n",
      " auc:0.8857768900470486 \n",
      " apur:0.8379433850411862 \n",
      " f1:0.7568181818181818 \n",
      " precision:0.7037657133446781 \n",
      " recall:0.8185213560620571 \n",
      ", 'Validation':  best_epoch_indx:61\n",
      " auc:0.8857768900470486 \n",
      " apur:0.8379433850411862 \n",
      " f1:0.7568181818181818 \n",
      " precision:0.7037657133446781 \n",
      " recall:0.8185213560620571 \n",
      ", 'Test':  best_epoch_indx:61\n",
      " auc:0.8857768900470486 \n",
      " apur:0.8379433850411862 \n",
      " f1:0.7568181818181818 \n",
      " precision:0.7037657133446781 \n",
      " recall:0.8185213560620571 \n",
      "}\n",
      "=====Epoch 62\n",
      "Training...\n"
     ]
    },
    {
     "name": "stderr",
     "output_type": "stream",
     "text": [
      "Iteration: 100%|██████████| 267/267 [00:02<00:00, 119.09it/s]\n",
      "Iteration: 100%|██████████| 267/267 [00:02<00:00, 109.44it/s]\n",
      "Iteration: 100%|██████████| 267/267 [00:02<00:00, 97.97it/s] \n",
      "Iteration:  24%|██▎       | 63/267 [00:01<00:05, 40.65it/s]]"
     ]
    },
    {
     "name": "stdout",
     "output_type": "stream",
     "text": [
      "{'Train':  best_epoch_indx:63\n",
      " auc:0.8753810264910381 \n",
      " apur:0.8250996534566196 \n",
      " f1:0.7457843108200221 \n",
      " precision:0.6959539810282364 \n",
      " recall:0.8033006671561274 \n",
      ", 'Validation':  best_epoch_indx:63\n",
      " auc:0.8753810264910381 \n",
      " apur:0.8250996534566196 \n",
      " f1:0.7457843108200221 \n",
      " precision:0.6959539810282364 \n",
      " recall:0.8033006671561274 \n",
      ", 'Test':  best_epoch_indx:63\n",
      " auc:0.8753810264910381 \n",
      " apur:0.8250996534566196 \n",
      " f1:0.7457843108200221 \n",
      " precision:0.6959539810282364 \n",
      " recall:0.8033006671561274 \n",
      "}\n",
      "=====Epoch 64\n",
      "Training...\n",
      "{'Train':  best_epoch_indx:63\n",
      " auc:0.873374405587629 \n",
      " apur:0.8239785445547195 \n",
      " f1:0.7421625652498136 \n",
      " precision:0.6964785578322696 \n",
      " recall:0.7942603588073804 \n",
      ", 'Validation':  best_epoch_indx:63\n",
      " auc:0.8733744062454288 \n",
      " apur:0.8239785454370122 \n",
      " f1:0.7421625652498136 \n",
      " precision:0.6964785578322696 \n",
      " recall:0.7942603588073804 \n",
      ", 'Test':  best_epoch_indx:63\n",
      " auc:0.8733744062454288 \n",
      " apur:0.8239785454370122 \n",
      " f1:0.7421625652498136 \n",
      " precision:0.6964785578322696 \n",
      " recall:0.7942603588073804 \n",
      "}\n",
      "=====Epoch 64\n",
      "Training...\n"
     ]
    },
    {
     "name": "stderr",
     "output_type": "stream",
     "text": [
      "Iteration: 100%|██████████| 267/267 [00:03<00:00, 71.94it/s] \n",
      "Iteration: 100%|██████████| 267/267 [00:02<00:00, 103.65it/s]\n",
      "Iteration: 100%|██████████| 267/267 [00:06<00:00, 38.71it/s]]\n",
      "Iteration:   0%|          | 0/267 [00:00<?, ?it/s]"
     ]
    },
    {
     "name": "stdout",
     "output_type": "stream",
     "text": [
      "Evaluating...\n"
     ]
    },
    {
     "name": "stderr",
     "output_type": "stream",
     "text": [
      "Iteration: 100%|██████████| 267/267 [00:05<00:00, 45.62it/s]]\n",
      "Iteration: 100%|██████████| 267/267 [00:02<00:00, 95.28it/s] \n",
      "Iteration:   4%|▍         | 12/267 [00:00<00:02, 116.17it/s]"
     ]
    },
    {
     "name": "stdout",
     "output_type": "stream",
     "text": [
      "Evaluating...\n"
     ]
    },
    {
     "name": "stderr",
     "output_type": "stream",
     "text": [
      "\r",
      "Iteration:  18%|█▊        | 48/267 [00:00<00:03, 71.78it/s]\r",
      "Iteration:  97%|█████████▋| 260/267 [00:05<00:00, 45.63it/s]\r",
      "Iteration:  24%|██▍       | 64/267 [00:01<00:02, 68.75it/s]\r",
      "Iteration:   9%|▉         | 25/267 [00:00<00:02, 119.84it/s]\r",
      "Iteration:  21%|██        | 56/267 [00:00<00:02, 73.55it/s]\r",
      "Iteration:  99%|█████████▉| 265/267 [00:05<00:00, 45.63it/s]\r",
      "Iteration:  27%|██▋       | 73/267 [00:01<00:02, 71.86it/s]\r",
      "Iteration: 100%|██████████| 267/267 [00:06<00:00, 44.26it/s]\n",
      "\r",
      "Iteration:   0%|          | 0/267 [00:00<?, ?it/s]\r",
      "Iteration:  14%|█▍        | 38/267 [00:00<00:01, 122.09it/s]"
     ]
    },
    {
     "name": "stdout",
     "output_type": "stream",
     "text": [
      "Evaluating...\n"
     ]
    },
    {
     "name": "stderr",
     "output_type": "stream",
     "text": [
      "Iteration:   1%|▏         | 4/267 [00:00<00:06, 39.99it/s]s]]"
     ]
    },
    {
     "name": "stdout",
     "output_type": "stream",
     "text": [
      "{'Train':  best_epoch_indx:63\n",
      " auc:0.8679199506807687 \n",
      " apur:0.8168250104836077 \n",
      " f1:0.7376110731373888 \n",
      " precision:0.6658182939996915 \n",
      " recall:0.8267573261827236 \n",
      ", 'Validation':  best_epoch_indx:63\n",
      " auc:0.8679199506807687 \n",
      " apur:0.8168250104836077 \n",
      " f1:0.7376110731373888 \n",
      " precision:0.6658182939996915 \n",
      " recall:0.8267573261827236 \n",
      ", 'Test':  best_epoch_indx:63\n",
      " auc:0.8679199506807687 \n",
      " apur:0.8168250104836077 \n",
      " f1:0.7376110731373888 \n",
      " precision:0.6658182939996915 \n",
      " recall:0.8267573261827236 \n",
      "}\n",
      "=====Epoch 64\n",
      "Training...\n"
     ]
    },
    {
     "name": "stderr",
     "output_type": "stream",
     "text": [
      "Iteration: 100%|██████████| 267/267 [00:02<00:00, 117.39it/s]\n",
      "Iteration: 100%|██████████| 267/267 [00:02<00:00, 94.61it/s] \n",
      "Iteration: 100%|██████████| 267/267 [00:02<00:00, 121.34it/s]\n",
      "Iteration: 100%|██████████| 267/267 [00:04<00:00, 63.58it/s]\n",
      "Iteration:  48%|████▊     | 129/267 [00:01<00:01, 98.80it/s] "
     ]
    },
    {
     "name": "stdout",
     "output_type": "stream",
     "text": [
      "{'Train':  best_epoch_indx:63\n",
      " auc:0.8726959896708621 \n",
      " apur:0.8226687232599081 \n",
      " f1:0.7378592044171164 \n",
      " precision:0.72534385986554 \n",
      " recall:0.750814020302624 \n",
      ", 'Validation':  best_epoch_indx:63\n",
      " auc:0.8726959896708621 \n",
      " apur:0.8226687232599081 \n",
      " f1:0.7378592044171164 \n",
      " precision:0.72534385986554 \n",
      " recall:0.750814020302624 \n",
      ", 'Test':  best_epoch_indx:63\n",
      " auc:0.8726959896708621 \n",
      " apur:0.8226687232599081 \n",
      " f1:0.7378592044171164 \n",
      " precision:0.72534385986554 \n",
      " recall:0.750814020302624 \n",
      "}\n",
      "=====Epoch 64\n",
      "Training...\n"
     ]
    },
    {
     "name": "stderr",
     "output_type": "stream",
     "text": [
      "Iteration: 100%|██████████| 267/267 [00:02<00:00, 117.72it/s]\n",
      "Iteration: 100%|██████████| 267/267 [00:02<00:00, 121.45it/s]\n",
      "Iteration: 100%|██████████| 267/267 [00:02<00:00, 99.16it/s] \n",
      "Iteration: 100%|██████████| 267/267 [00:06<00:00, 39.92it/s]\n",
      "Iteration:  29%|██▉       | 77/267 [00:00<00:01, 120.76it/s]"
     ]
    },
    {
     "name": "stdout",
     "output_type": "stream",
     "text": [
      "Evaluating...\n"
     ]
    },
    {
     "name": "stderr",
     "output_type": "stream",
     "text": [
      "Iteration: 100%|██████████| 267/267 [00:02<00:00, 119.66it/s]\n",
      "Iteration: 100%|██████████| 267/267 [00:02<00:00, 119.46it/s]\n",
      "Iteration: 100%|██████████| 267/267 [00:02<00:00, 123.31it/s]\n",
      "Iteration:   0%|          | 0/267 [00:00<?, ?it/s]38.51it/s]"
     ]
    },
    {
     "name": "stdout",
     "output_type": "stream",
     "text": [
      "{'Train':  best_epoch_indx:64\n",
      " auc:0.8714463892646485 \n",
      " apur:0.8201830505224285 \n",
      " f1:0.7374557913351016 \n",
      " precision:0.6500718513286406 \n",
      " recall:0.8519807195071344 \n",
      ", 'Validation':  best_epoch_indx:64\n",
      " auc:0.8714463889357591 \n",
      " apur:0.8201830502846791 \n",
      " f1:0.7374557913351016 \n",
      " precision:0.6500718513286406 \n",
      " recall:0.8519807195071344 \n",
      ", 'Test':  best_epoch_indx:64\n",
      " auc:0.8714463889357591 \n",
      " apur:0.8201830501705808 \n",
      " f1:0.7374557913351016 \n",
      " precision:0.6500718513286406 \n",
      " recall:0.8519807195071344 \n",
      "}\n",
      "=====Epoch 65\n",
      "Training...\n",
      "{'Train':  best_epoch_indx:64\n",
      " auc:0.862645891387205 \n",
      " apur:0.808936424777891 \n",
      " f1:0.7255332249254038 \n",
      " precision:0.7177260659066063 \n",
      " recall:0.7335120985762625 \n",
      ", 'Validation':  best_epoch_indx:64\n",
      " auc:0.862645891387205 \n",
      " apur:0.808936424777891 \n",
      " f1:0.7255332249254038 \n",
      " precision:0.7177260659066063 \n",
      " recall:0.7335120985762625 \n",
      ", 'Test':  best_epoch_indx:64\n",
      " auc:0.862645891387205 \n",
      " apur:0.808936424777891 \n",
      " f1:0.7255332249254038 \n",
      " precision:0.7177260659066063 \n",
      " recall:0.7335120985762625 \n",
      "}\n",
      "=====Epoch 65\n",
      "Training...\n"
     ]
    },
    {
     "name": "stderr",
     "output_type": "stream",
     "text": [
      "Iteration:   2%|▏         | 5/267 [00:00<00:06, 42.09it/s]/s]"
     ]
    },
    {
     "name": "stdout",
     "output_type": "stream",
     "text": [
      "{'Train':  best_epoch_indx:62\n",
      " auc:0.8788646107453404 \n",
      " apur:0.8294679411322784 \n",
      " f1:0.7486281801278853 \n",
      " precision:0.7110000861400637 \n",
      " recall:0.790461597395135 \n",
      ", 'Validation':  best_epoch_indx:62\n",
      " auc:0.8788646114031267 \n",
      " apur:0.8294679429912767 \n",
      " f1:0.7486281801278853 \n",
      " precision:0.7110000861400637 \n",
      " recall:0.790461597395135 \n",
      ", 'Test':  best_epoch_indx:62\n",
      " auc:0.8788646110742335 \n",
      " apur:0.8294679417908117 \n",
      " f1:0.7486281801278853 \n",
      " precision:0.7110000861400637 \n",
      " recall:0.790461597395135 \n",
      "}\n",
      "=====Epoch 63\n",
      "Training...\n"
     ]
    },
    {
     "name": "stderr",
     "output_type": "stream",
     "text": [
      "Iteration: 100%|██████████| 267/267 [00:03<00:00, 85.64it/s] \n",
      "Iteration: 100%|██████████| 267/267 [00:06<00:00, 40.61it/s]\n",
      "Iteration:   4%|▍         | 12/267 [00:00<00:02, 117.02it/s]"
     ]
    },
    {
     "name": "stdout",
     "output_type": "stream",
     "text": [
      "Evaluating...\n"
     ]
    },
    {
     "name": "stderr",
     "output_type": "stream",
     "text": [
      "Iteration: 100%|██████████| 267/267 [00:02<00:00, 112.56it/s]\n",
      "Iteration: 100%|██████████| 267/267 [00:03<00:00, 67.41it/s]\n",
      "Iteration: 100%|██████████| 267/267 [00:05<00:00, 44.77it/s]\n",
      "Iteration:  94%|█████████▍| 252/267 [00:05<00:00, 44.93it/s]"
     ]
    },
    {
     "name": "stdout",
     "output_type": "stream",
     "text": [
      "Evaluating...\n"
     ]
    },
    {
     "name": "stderr",
     "output_type": "stream",
     "text": [
      "\r",
      "Iteration:  97%|█████████▋| 259/267 [00:06<00:00, 45.53it/s]\r",
      "Iteration:  51%|█████     | 135/267 [00:02<00:02, 51.04it/s]\r",
      "Iteration:  10%|▉         | 26/267 [00:00<00:01, 126.18it/s]\r",
      "Iteration:  96%|█████████▋| 257/267 [00:05<00:00, 44.96it/s]\r",
      "Iteration:  99%|█████████▉| 264/267 [00:06<00:00, 45.52it/s]\r",
      "Iteration:  53%|█████▎    | 142/267 [00:02<00:02, 53.83it/s]\r",
      "Iteration:  98%|█████████▊| 262/267 [00:06<00:00, 44.99it/s]\r",
      "Iteration: 100%|██████████| 267/267 [00:06<00:00, 41.66it/s]\n",
      "\r",
      "Iteration:   0%|          | 0/267 [00:00<?, ?it/s]\r",
      "Iteration:  15%|█▍        | 39/267 [00:00<00:02, 94.43it/s] "
     ]
    },
    {
     "name": "stdout",
     "output_type": "stream",
     "text": [
      "Evaluating...\n",
      "Evaluating...\n"
     ]
    },
    {
     "name": "stderr",
     "output_type": "stream",
     "text": [
      "Iteration: 100%|██████████| 267/267 [00:06<00:00, 43.31it/s]\n",
      "Iteration: 100%|██████████| 267/267 [00:03<00:00, 66.87it/s]]\n",
      "Iteration: 100%|██████████| 267/267 [00:02<00:00, 106.82it/s]\n",
      "Iteration: 100%|██████████| 267/267 [00:02<00:00, 118.12it/s]\n",
      "Iteration: 100%|██████████| 267/267 [00:02<00:00, 106.50it/s]\n",
      "Iteration: 100%|██████████| 267/267 [00:03<00:00, 87.16it/s] \n",
      "Iteration:   0%|          | 0/267 [00:00<?, ?it/s]71.16it/s] "
     ]
    },
    {
     "name": "stdout",
     "output_type": "stream",
     "text": [
      "{'Train':  best_epoch_indx:64\n",
      " auc:0.8598280449492681 \n",
      " apur:0.8036185876111848 \n",
      " f1:0.7262438965029434 \n",
      " precision:0.6936510242626761 \n",
      " recall:0.7620506927153163 \n",
      ", 'Validation':  best_epoch_indx:64\n",
      " auc:0.8598280449492681 \n",
      " apur:0.8036185876111848 \n",
      " f1:0.7262438965029434 \n",
      " precision:0.6936510242626761 \n",
      " recall:0.7620506927153163 \n",
      ", 'Test':  best_epoch_indx:64\n",
      " auc:0.8598280449492682 \n",
      " apur:0.803618587611162 \n",
      " f1:0.7262438965029434 \n",
      " precision:0.6936510242626761 \n",
      " recall:0.7620506927153163 \n",
      "}\n",
      "=====Epoch 65\n",
      "Training...\n"
     ]
    },
    {
     "name": "stderr",
     "output_type": "stream",
     "text": [
      "Iteration: 100%|██████████| 267/267 [00:02<00:00, 120.63it/s]\n",
      "Iteration: 100%|██████████| 267/267 [00:02<00:00, 121.01it/s]\n",
      "Iteration: 100%|██████████| 267/267 [00:03<00:00, 69.89it/s]\n",
      "Iteration: 100%|██████████| 267/267 [00:03<00:00, 69.13it/s]\n",
      "Iteration: 100%|██████████| 267/267 [00:02<00:00, 120.67it/s]\n",
      "Iteration:  39%|███▊      | 103/267 [00:01<00:02, 75.20it/s]"
     ]
    },
    {
     "name": "stdout",
     "output_type": "stream",
     "text": [
      "{'Train':  best_epoch_indx:64\n",
      " auc:0.8673953013857358 \n",
      " apur:0.8147986733016342 \n",
      " f1:0.7373133898622288 \n",
      " precision:0.671473896740698 \n",
      " recall:0.8174679180233672 \n",
      ", 'Validation':  best_epoch_indx:64\n",
      " auc:0.8673953013857358 \n",
      " apur:0.8147986733016342 \n",
      " f1:0.7373133898622288 \n",
      " precision:0.671473896740698 \n",
      " recall:0.8174679180233672 \n",
      ", 'Test':  best_epoch_indx:64\n",
      " auc:0.8673953010568427 \n",
      " apur:0.8147986729399965 \n",
      " f1:0.7373133898622288 \n",
      " precision:0.671473896740698 \n",
      " recall:0.8174679180233672 \n",
      "}\n",
      "=====Epoch 65\n",
      "Training...\n"
     ]
    },
    {
     "name": "stderr",
     "output_type": "stream",
     "text": [
      "Iteration:  77%|███████▋  | 205/267 [00:02<00:00, 99.77it/s] "
     ]
    },
    {
     "name": "stdout",
     "output_type": "stream",
     "text": [
      "{'Train':  best_epoch_indx:65\n",
      " auc:0.8715651792994356 \n",
      " apur:0.8215495094467488 \n",
      " f1:0.7391045323312406 \n",
      " precision:0.708673872923807 \n",
      " recall:0.7722658494541276 \n",
      ", 'Validation':  best_epoch_indx:65\n",
      " auc:0.8715651792994356 \n",
      " apur:0.8215495094467488 \n",
      " f1:0.7391045323312406 \n",
      " precision:0.708673872923807 \n",
      " recall:0.7722658494541276 \n",
      ", 'Test':  best_epoch_indx:65\n",
      " auc:0.8715651792994356 \n",
      " apur:0.8215495094467488 \n",
      " f1:0.7391045323312406 \n",
      " precision:0.708673872923807 \n",
      " recall:0.7722658494541276 \n",
      "}\n",
      "=====Epoch 66\n",
      "Training...\n"
     ]
    },
    {
     "name": "stderr",
     "output_type": "stream",
     "text": [
      "Iteration: 100%|██████████| 267/267 [00:02<00:00, 94.01it/s] \n",
      "Iteration:   0%|          | 0/267 [00:00<?, ?it/s]45.54it/s]"
     ]
    },
    {
     "name": "stdout",
     "output_type": "stream",
     "text": [
      "{'Train':  best_epoch_indx:65\n",
      " auc:0.8750033322250135 \n",
      " apur:0.8252129902163287 \n",
      " f1:0.7448756429013137 \n",
      " precision:0.7060387716589467 \n",
      " recall:0.7882337919366681 \n",
      ", 'Validation':  best_epoch_indx:65\n",
      " auc:0.8750033328827922 \n",
      " apur:0.8252129907402662 \n",
      " f1:0.7448756429013137 \n",
      " precision:0.7060387716589467 \n",
      " recall:0.7882337919366681 \n",
      ", 'Test':  best_epoch_indx:65\n",
      " auc:0.8750033322250135 \n",
      " apur:0.8252129902163287 \n",
      " f1:0.7448756429013137 \n",
      " precision:0.7060387716589467 \n",
      " recall:0.7882337919366681 \n",
      "}\n",
      "=====Epoch 66\n",
      "Training...\n",
      "Evaluating...\n"
     ]
    },
    {
     "name": "stderr",
     "output_type": "stream",
     "text": [
      "Iteration: 100%|██████████| 267/267 [00:05<00:00, 44.79it/s]\n",
      "Iteration: 100%|██████████| 267/267 [00:03<00:00, 78.91it/s] \n",
      "Iteration:  53%|█████▎    | 141/267 [00:03<00:02, 45.70it/s]]"
     ]
    },
    {
     "name": "stdout",
     "output_type": "stream",
     "text": [
      "{'Train':  best_epoch_indx:63\n",
      " auc:0.8714660935743772 \n",
      " apur:0.8211824509658421 \n",
      " f1:0.7426234975133755 \n",
      " precision:0.680312408681561 \n",
      " recall:0.8174998403881759 \n",
      ", 'Validation':  best_epoch_indx:63\n",
      " auc:0.8714660935743772 \n",
      " apur:0.8211824509658631 \n",
      " f1:0.7426234975133755 \n",
      " precision:0.680312408681561 \n",
      " recall:0.8174998403881759 \n",
      ", 'Test':  best_epoch_indx:63\n",
      " auc:0.8714660932454842 \n",
      " apur:0.8211824497535912 \n",
      " f1:0.7426234975133755 \n",
      " precision:0.680312408681561 \n",
      " recall:0.8174998403881759 \n",
      "}\n",
      "=====Epoch 64\n",
      "Training...\n"
     ]
    },
    {
     "name": "stderr",
     "output_type": "stream",
     "text": [
      "Iteration: 100%|██████████| 267/267 [00:02<00:00, 121.67it/s]\n",
      "Iteration: 100%|██████████| 267/267 [00:05<00:00, 45.77it/s]]\n",
      "Iteration:   4%|▍         | 12/267 [00:00<00:02, 118.52it/s]]"
     ]
    },
    {
     "name": "stdout",
     "output_type": "stream",
     "text": [
      "Evaluating...\n"
     ]
    },
    {
     "name": "stderr",
     "output_type": "stream",
     "text": [
      "Iteration: 100%|██████████| 267/267 [00:07<00:00, 37.16it/s]]\n",
      "Iteration:  81%|████████  | 216/267 [00:04<00:01, 45.55it/s]"
     ]
    },
    {
     "name": "stdout",
     "output_type": "stream",
     "text": [
      "Evaluating...\n"
     ]
    },
    {
     "name": "stderr",
     "output_type": "stream",
     "text": [
      "Iteration: 100%|██████████| 267/267 [00:02<00:00, 111.36it/s]\n",
      "Iteration: 100%|██████████| 267/267 [00:06<00:00, 43.87it/s]]\n",
      "Iteration:  66%|██████▌   | 176/267 [00:04<00:02, 37.16it/s]]"
     ]
    },
    {
     "name": "stdout",
     "output_type": "stream",
     "text": [
      "Evaluating...\n"
     ]
    },
    {
     "name": "stderr",
     "output_type": "stream",
     "text": [
      "Iteration: 100%|██████████| 267/267 [00:02<00:00, 121.78it/s]\n",
      "Iteration: 100%|██████████| 267/267 [00:02<00:00, 91.30it/s] \n",
      "Iteration: 100%|██████████| 267/267 [00:06<00:00, 39.68it/s]]\n",
      "Iteration:  23%|██▎       | 61/267 [00:00<00:03, 68.04it/s]"
     ]
    },
    {
     "name": "stdout",
     "output_type": "stream",
     "text": [
      "Evaluating...\n"
     ]
    },
    {
     "name": "stderr",
     "output_type": "stream",
     "text": [
      "Iteration: 100%|██████████| 267/267 [00:02<00:00, 107.14it/s]\n",
      "Iteration: 100%|██████████| 267/267 [00:02<00:00, 112.35it/s]\n",
      "Iteration:  67%|██████▋   | 178/267 [00:02<00:01, 60.47it/s]]"
     ]
    },
    {
     "name": "stdout",
     "output_type": "stream",
     "text": [
      "{'Train':  best_epoch_indx:65\n",
      " auc:0.8690834712151898 \n",
      " apur:0.8182116912212252 \n",
      " f1:0.7377155140018339 \n",
      " precision:0.6971108775318883 \n",
      " recall:0.783342910042776 \n",
      ", 'Validation':  best_epoch_indx:65\n",
      " auc:0.8690834712151898 \n",
      " apur:0.8182116912212254 \n",
      " f1:0.7377155140018339 \n",
      " precision:0.6971108775318883 \n",
      " recall:0.783342910042776 \n",
      ", 'Test':  best_epoch_indx:65\n",
      " auc:0.8690834712151898 \n",
      " apur:0.8182116912212252 \n",
      " f1:0.7377155140018339 \n",
      " precision:0.6971108775318883 \n",
      " recall:0.783342910042776 \n",
      "}\n",
      "=====Epoch 66\n",
      "Training...\n"
     ]
    },
    {
     "name": "stderr",
     "output_type": "stream",
     "text": [
      "Iteration: 100%|██████████| 267/267 [00:02<00:00, 119.88it/s]\n",
      "Iteration: 100%|██████████| 267/267 [00:03<00:00, 71.66it/s] \n",
      "Iteration: 100%|██████████| 267/267 [00:02<00:00, 119.72it/s]\n",
      "Iteration: 100%|██████████| 267/267 [00:02<00:00, 106.45it/s]\n",
      "Iteration: 100%|██████████| 267/267 [00:02<00:00, 112.68it/s]\n",
      "Iteration: 100%|██████████| 267/267 [00:02<00:00, 120.16it/s]\n",
      "Iteration: 100%|██████████| 267/267 [00:03<00:00, 73.77it/s]]\n"
     ]
    },
    {
     "name": "stdout",
     "output_type": "stream",
     "text": [
      "{'Train':  best_epoch_indx:65\n",
      " auc:0.8672104532648226 \n",
      " apur:0.8141425238211515 \n",
      " f1:0.7360098572748741 \n",
      " precision:0.6808695416180421 \n",
      " recall:0.800868288322799 \n",
      ", 'Validation':  best_epoch_indx:65\n",
      " auc:0.8672104532648226 \n",
      " apur:0.8141425238211515 \n",
      " f1:0.7360098572748741 \n",
      " precision:0.6808695416180421 \n",
      " recall:0.800868288322799 \n",
      ", 'Test':  best_epoch_indx:65\n",
      " auc:0.8672104532648226 \n",
      " apur:0.8141425238211089 \n",
      " f1:0.7360098572748741 \n",
      " precision:0.6808695416180421 \n",
      " recall:0.800868288322799 \n",
      "}\n",
      "=====Epoch 66\n",
      "Training...\n"
     ]
    },
    {
     "name": "stderr",
     "output_type": "stream",
     "text": [
      "\r",
      "Iteration:  97%|█████████▋| 258/267 [00:05<00:00, 45.64it/s]\r",
      "Iteration:  93%|█████████▎| 249/267 [00:02<00:00, 121.81it/s]\r",
      "Iteration:   4%|▍         | 11/267 [00:00<00:05, 47.45it/s]\r",
      "Iteration:   6%|▌         | 15/267 [00:00<00:03, 72.45it/s]\r",
      "Iteration:  98%|█████████▊| 262/267 [00:02<00:00, 123.93it/s]\r",
      "Iteration:  99%|█████████▊| 263/267 [00:05<00:00, 45.62it/s]\r",
      "Iteration: 100%|██████████| 267/267 [00:02<00:00, 90.02it/s] \n",
      "\r",
      "Iteration:   6%|▌         | 16/267 [00:00<00:05, 46.61it/s]\r",
      "Iteration:   9%|▊         | 23/267 [00:00<00:03, 70.53it/s]\r",
      "Iteration: 100%|██████████| 267/267 [00:06<00:00, 43.87it/s]\n"
     ]
    },
    {
     "name": "stdout",
     "output_type": "stream",
     "text": [
      "Evaluating...\n"
     ]
    },
    {
     "name": "stderr",
     "output_type": "stream",
     "text": [
      "Iteration:  21%|██        | 56/267 [00:01<00:04, 45.57it/s]s]"
     ]
    },
    {
     "name": "stdout",
     "output_type": "stream",
     "text": [
      "{'Train':  best_epoch_indx:66\n",
      " auc:0.8813605758873633 \n",
      " apur:0.834051762100899 \n",
      " f1:0.7544624447717231 \n",
      " precision:0.700352719219096 \n",
      " recall:0.8176333514220959 \n",
      ", 'Validation':  best_epoch_indx:66\n",
      " auc:0.8813605758873632 \n",
      " apur:0.8340517621008597 \n",
      " f1:0.7544624447717231 \n",
      " precision:0.700352719219096 \n",
      " recall:0.8176333514220959 \n",
      ", 'Test':  best_epoch_indx:66\n",
      " auc:0.8813605758873632 \n",
      " apur:0.8340517621008597 \n",
      " f1:0.7544624447717231 \n",
      " precision:0.700352719219096 \n",
      " recall:0.8176333514220959 \n",
      "}\n",
      "=====Epoch 67\n",
      "Training...\n"
     ]
    },
    {
     "name": "stderr",
     "output_type": "stream",
     "text": [
      "Iteration:  58%|█████▊    | 155/267 [00:01<00:00, 114.13it/s]"
     ]
    },
    {
     "name": "stdout",
     "output_type": "stream",
     "text": [
      "{'Train':  best_epoch_indx:66\n",
      " auc:0.8794875789031971 \n",
      " apur:0.8317452573360715 \n",
      " f1:0.7509703121109598 \n",
      " precision:0.6938107223079213 \n",
      " recall:0.818393666602822 \n",
      ", 'Validation':  best_epoch_indx:66\n",
      " auc:0.8794875789031971 \n",
      " apur:0.8317452573360715 \n",
      " f1:0.7509703121109598 \n",
      " precision:0.6938107223079213 \n",
      " recall:0.818393666602822 \n",
      ", 'Test':  best_epoch_indx:66\n",
      " auc:0.8794875789031971 \n",
      " apur:0.8317452573360715 \n",
      " f1:0.7509703121109598 \n",
      " precision:0.6938107223079213 \n",
      " recall:0.818393666602822 \n",
      "}\n",
      "=====Epoch 67\n",
      "Training...\n"
     ]
    },
    {
     "name": "stderr",
     "output_type": "stream",
     "text": [
      "Iteration: 100%|██████████| 267/267 [00:02<00:00, 123.39it/s]\n",
      "Iteration: 100%|██████████| 267/267 [00:02<00:00, 98.90it/s] \n",
      "Iteration:   0%|          | 0/267 [00:00<?, ?it/s]45.55it/s]"
     ]
    },
    {
     "name": "stdout",
     "output_type": "stream",
     "text": [
      "{'Train':  best_epoch_indx:64\n",
      " auc:0.8700505386354743 \n",
      " apur:0.8192312922975497 \n",
      " f1:0.7401204255816672 \n",
      " precision:0.6825435333441155 \n",
      " recall:0.8083061993232459 \n",
      ", 'Validation':  best_epoch_indx:64\n",
      " auc:0.8700505386354743 \n",
      " apur:0.8192312922975497 \n",
      " f1:0.7401204255816672 \n",
      " precision:0.6825435333441155 \n",
      " recall:0.8083061993232459 \n",
      ", 'Test':  best_epoch_indx:64\n",
      " auc:0.8700505389643675 \n",
      " apur:0.8192312931385052 \n",
      " f1:0.7401204255816672 \n",
      " precision:0.6825435333441155 \n",
      " recall:0.8083061993232459 \n",
      "}\n",
      "=====Epoch 65\n",
      "Training...\n"
     ]
    },
    {
     "name": "stderr",
     "output_type": "stream",
     "text": [
      "Iteration: 100%|██████████| 267/267 [00:02<00:00, 119.37it/s]\n",
      "Iteration: 100%|██████████| 267/267 [00:05<00:00, 45.47it/s]\n",
      "Iteration:  38%|███▊      | 101/267 [00:02<00:03, 44.94it/s]"
     ]
    },
    {
     "name": "stdout",
     "output_type": "stream",
     "text": [
      "Evaluating...\n"
     ]
    },
    {
     "name": "stderr",
     "output_type": "stream",
     "text": [
      "Iteration: 100%|██████████| 267/267 [00:02<00:00, 114.65it/s]\n",
      "Iteration: 100%|██████████| 267/267 [00:07<00:00, 37.22it/s]]\n",
      "Iteration:  99%|█████████▉| 265/267 [00:07<00:00, 28.84it/s]"
     ]
    },
    {
     "name": "stdout",
     "output_type": "stream",
     "text": [
      "Evaluating...\n",
      "Evaluating...\n"
     ]
    },
    {
     "name": "stderr",
     "output_type": "stream",
     "text": [
      "Iteration: 100%|██████████| 267/267 [00:07<00:00, 35.12it/s]]\n",
      "Iteration: 100%|██████████| 267/267 [00:02<00:00, 125.73it/s]\n",
      "Iteration: 100%|██████████| 267/267 [00:05<00:00, 44.71it/s]]\n",
      "Iteration:  21%|██        | 55/267 [00:00<00:02, 71.81it/s]"
     ]
    },
    {
     "name": "stdout",
     "output_type": "stream",
     "text": [
      "Evaluating...\n"
     ]
    },
    {
     "name": "stderr",
     "output_type": "stream",
     "text": [
      "Iteration:   5%|▌         | 14/267 [00:00<00:03, 69.42it/s]s]"
     ]
    },
    {
     "name": "stdout",
     "output_type": "stream",
     "text": [
      "{'Train':  best_epoch_indx:66\n",
      " auc:0.8788572211750485 \n",
      " apur:0.8304454863018838 \n",
      " f1:0.7492448003237602 \n",
      " precision:0.6845830802144687 \n",
      " recall:0.8273957734788994 \n",
      ", 'Validation':  best_epoch_indx:66\n",
      " auc:0.8788572215039416 \n",
      " apur:0.8304454872350059 \n",
      " f1:0.7492448003237602 \n",
      " precision:0.6845830802144687 \n",
      " recall:0.8273957734788994 \n",
      ", 'Test':  best_epoch_indx:66\n",
      " auc:0.8788572215039416 \n",
      " apur:0.8304454872350059 \n",
      " f1:0.7492448003237602 \n",
      " precision:0.6845830802144687 \n",
      " recall:0.8273957734788994 \n",
      "}\n",
      "=====Epoch 67\n",
      "Training...\n"
     ]
    },
    {
     "name": "stderr",
     "output_type": "stream",
     "text": [
      "Iteration: 100%|██████████| 267/267 [00:02<00:00, 127.60it/s]\n",
      "Iteration: 100%|██████████| 267/267 [00:02<00:00, 96.86it/s]]\n",
      "Iteration: 100%|██████████| 267/267 [00:02<00:00, 112.88it/s]\n",
      "Iteration: 100%|██████████| 267/267 [00:02<00:00, 92.18it/s] \n",
      "Iteration: 100%|██████████| 267/267 [00:02<00:00, 97.54it/s] \n",
      "Iteration: 100%|██████████| 267/267 [00:02<00:00, 117.88it/s]\n",
      "Iteration: 100%|██████████| 267/267 [00:02<00:00, 119.90it/s]\n",
      "Iteration: 100%|██████████| 267/267 [00:06<00:00, 38.55it/s]]\n",
      "Iteration:  63%|██████▎   | 169/267 [00:01<00:00, 103.82it/s]"
     ]
    },
    {
     "name": "stdout",
     "output_type": "stream",
     "text": [
      "Evaluating...\n"
     ]
    },
    {
     "name": "stderr",
     "output_type": "stream",
     "text": [
      "Iteration: 100%|██████████| 267/267 [00:02<00:00, 119.52it/s]\n",
      "Iteration: 100%|██████████| 267/267 [00:04<00:00, 62.21it/s]]\n",
      "Iteration:  47%|████▋     | 126/267 [00:01<00:02, 67.56it/s]]"
     ]
    },
    {
     "name": "stdout",
     "output_type": "stream",
     "text": [
      "{'Train':  best_epoch_indx:67\n",
      " auc:0.8908622198831564 \n",
      " apur:0.8462482233268295 \n",
      " f1:0.763889723106493 \n",
      " precision:0.7211794726396371 \n",
      " recall:0.8119772712762562 \n",
      ", 'Validation':  best_epoch_indx:67\n",
      " auc:0.8908622202120563 \n",
      " apur:0.8462482241920505 \n",
      " f1:0.763889723106493 \n",
      " precision:0.7211794726396371 \n",
      " recall:0.8119772712762562 \n",
      ", 'Test':  best_epoch_indx:67\n",
      " auc:0.8908622198831564 \n",
      " apur:0.8462482233268296 \n",
      " f1:0.763889723106493 \n",
      " precision:0.7211794726396371 \n",
      " recall:0.8119772712762562 \n",
      "}\n",
      "=====Epoch 68\n",
      "Training...\n"
     ]
    },
    {
     "name": "stderr",
     "output_type": "stream",
     "text": [
      "Iteration: 100%|██████████| 267/267 [00:02<00:00, 117.25it/s]\n",
      "Iteration: 100%|██████████| 267/267 [00:02<00:00, 121.87it/s]\n",
      "Iteration:  19%|█▉        | 52/267 [00:01<00:04, 45.70it/s]]"
     ]
    },
    {
     "name": "stdout",
     "output_type": "stream",
     "text": [
      "{'Train':  best_epoch_indx:66\n",
      " auc:0.8832410748705553 \n",
      " apur:0.8365327384475079 \n",
      " f1:0.7532717880754808 \n",
      " precision:0.7130149679258732 \n",
      " recall:0.7983464215029049 \n",
      ", 'Validation':  best_epoch_indx:66\n",
      " auc:0.8832410748705553 \n",
      " apur:0.8365327384475079 \n",
      " f1:0.7532717880754808 \n",
      " precision:0.7130149679258732 \n",
      " recall:0.7983464215029049 \n",
      ", 'Test':  best_epoch_indx:66\n",
      " auc:0.8832410748705553 \n",
      " apur:0.8365327384475079 \n",
      " f1:0.7532717880754808 \n",
      " precision:0.7130149679258732 \n",
      " recall:0.7983464215029049 \n",
      "}\n",
      "=====Epoch 67\n",
      "Training...\n",
      "{'Train':  best_epoch_indx:67\n",
      " auc:0.8889364872587731 \n",
      " apur:0.8440831794257707 \n",
      " f1:0.7621778215811008 \n",
      " precision:0.7160694744521451 \n",
      " recall:0.8146327449165257 \n",
      ", 'Validation':  best_epoch_indx:67\n",
      " auc:0.8889364869298836 \n",
      " apur:0.8440831786663026 \n",
      " f1:0.7621778215811008 \n",
      " precision:0.7160694744521451 \n",
      " recall:0.8146327449165257 \n",
      ", 'Test':  best_epoch_indx:67\n",
      " auc:0.8889364872587731 \n",
      " apur:0.8440831794257879 \n",
      " f1:0.7621778215811008 \n",
      " precision:0.7160694744521451 \n",
      " recall:0.8146327449165257 \n",
      "}\n",
      "=====Epoch 68\n",
      "Training...\n"
     ]
    },
    {
     "name": "stderr",
     "output_type": "stream",
     "text": [
      "Iteration: 100%|██████████| 267/267 [00:03<00:00, 75.34it/s] \n",
      "Iteration:  39%|███▊      | 103/267 [00:01<00:02, 70.80it/s]"
     ]
    },
    {
     "name": "stdout",
     "output_type": "stream",
     "text": [
      "{'Train':  best_epoch_indx:65\n",
      " auc:0.8736510271680309 \n",
      " apur:0.8241364923895631 \n",
      " f1:0.7431638054572572 \n",
      " precision:0.685671883432272 \n",
      " recall:0.8111792121560365 \n",
      ", 'Validation':  best_epoch_indx:65\n",
      " auc:0.8736510265102446 \n",
      " apur:0.8241364918296734 \n",
      " f1:0.7431638054572572 \n",
      " precision:0.685671883432272 \n",
      " recall:0.8111792121560365 \n",
      ", 'Test':  best_epoch_indx:65\n",
      " auc:0.8736510265102444 \n",
      " apur:0.8241364918296734 \n",
      " f1:0.7431638054572572 \n",
      " precision:0.685671883432272 \n",
      " recall:0.8111792121560365 \n",
      "}\n",
      "=====Epoch 66\n",
      "Training...\n"
     ]
    },
    {
     "name": "stderr",
     "output_type": "stream",
     "text": [
      "Iteration: 100%|██████████| 267/267 [00:04<00:00, 64.65it/s]\n",
      "Iteration: 100%|██████████| 267/267 [00:05<00:00, 45.76it/s]\n",
      "Iteration:  71%|███████   | 189/267 [00:04<00:02, 36.55it/s]"
     ]
    },
    {
     "name": "stdout",
     "output_type": "stream",
     "text": [
      "Evaluating...\n"
     ]
    },
    {
     "name": "stderr",
     "output_type": "stream",
     "text": [
      "Iteration: 100%|██████████| 267/267 [00:06<00:00, 44.34it/s]]\n",
      "Iteration:  86%|████████▌ | 229/267 [00:05<00:01, 36.82it/s]]"
     ]
    },
    {
     "name": "stdout",
     "output_type": "stream",
     "text": [
      "Evaluating...\n"
     ]
    },
    {
     "name": "stderr",
     "output_type": "stream",
     "text": [
      "Iteration: 100%|██████████| 267/267 [00:02<00:00, 122.72it/s]\n",
      "Iteration: 100%|██████████| 267/267 [00:06<00:00, 38.49it/s]\n",
      "Iteration:  11%|█         | 30/267 [00:00<00:03, 68.29it/s]]]"
     ]
    },
    {
     "name": "stdout",
     "output_type": "stream",
     "text": [
      "Evaluating...\n"
     ]
    },
    {
     "name": "stderr",
     "output_type": "stream",
     "text": [
      "Iteration: 100%|██████████| 267/267 [00:05<00:00, 45.29it/s]]\n",
      "Iteration:  12%|█▏        | 31/267 [00:00<00:03, 70.19it/s]"
     ]
    },
    {
     "name": "stdout",
     "output_type": "stream",
     "text": [
      "Evaluating...\n"
     ]
    },
    {
     "name": "stderr",
     "output_type": "stream",
     "text": [
      "Iteration: 100%|██████████| 267/267 [00:02<00:00, 119.81it/s]\n",
      "Iteration: 100%|██████████| 267/267 [00:02<00:00, 103.56it/s]\n",
      "Iteration: 100%|██████████| 267/267 [00:02<00:00, 119.30it/s]\n",
      "Iteration:  77%|███████▋  | 206/267 [00:03<00:00, 65.58it/s]]"
     ]
    },
    {
     "name": "stdout",
     "output_type": "stream",
     "text": [
      "{'Train':  best_epoch_indx:67\n",
      " auc:0.8894326214389445 \n",
      " apur:0.8438611219162316 \n",
      " f1:0.7619999403359088 \n",
      " precision:0.715169671855751 \n",
      " recall:0.8153929643107961 \n",
      ", 'Validation':  best_epoch_indx:67\n",
      " auc:0.8894326214389444 \n",
      " apur:0.8438611219162063 \n",
      " f1:0.7619999403359088 \n",
      " precision:0.715169671855751 \n",
      " recall:0.8153929643107961 \n",
      ", 'Test':  best_epoch_indx:67\n",
      " auc:0.8894326214389444 \n",
      " apur:0.8438611219162063 \n",
      " f1:0.7619999403359088 \n",
      " precision:0.715169671855751 \n",
      " recall:0.8153929643107961 \n",
      "}\n",
      "=====Epoch 68\n",
      "Training...\n"
     ]
    },
    {
     "name": "stderr",
     "output_type": "stream",
     "text": [
      "Iteration: 100%|██████████| 267/267 [00:04<00:00, 64.28it/s]]\n",
      "Iteration: 100%|██████████| 267/267 [00:02<00:00, 90.15it/s] \n",
      "Iteration: 100%|██████████| 267/267 [00:02<00:00, 119.97it/s]\n",
      "Iteration: 100%|██████████| 267/267 [00:02<00:00, 121.14it/s]\n",
      "Iteration: 100%|██████████| 267/267 [00:02<00:00, 114.93it/s]\n",
      "Iteration: 100%|██████████| 267/267 [00:02<00:00, 98.98it/s] \n",
      "Iteration:  66%|██████▌   | 176/267 [00:02<00:01, 67.37it/s]]"
     ]
    },
    {
     "name": "stdout",
     "output_type": "stream",
     "text": [
      "{'Train':  best_epoch_indx:67\n",
      " auc:0.8907873426646096 \n",
      " apur:0.8453173275099013 \n",
      " f1:0.764315709812883 \n",
      " precision:0.7140995424927215 \n",
      " recall:0.8221285832854498 \n",
      ", 'Validation':  best_epoch_indx:67\n",
      " auc:0.8907873429935027 \n",
      " apur:0.8453173279010593 \n",
      " f1:0.764315709812883 \n",
      " precision:0.7140995424927215 \n",
      " recall:0.8221285832854498 \n",
      ", 'Test':  best_epoch_indx:67\n",
      " auc:0.8907873429935027 \n",
      " apur:0.8453173279010593 \n",
      " f1:0.764315709812883 \n",
      " precision:0.7140995424927215 \n",
      " recall:0.8221285832854498 \n",
      "}\n",
      "=====Epoch 68\n",
      "Training...\n"
     ]
    },
    {
     "name": "stderr",
     "output_type": "stream",
     "text": [
      "Iteration: 100%|██████████| 267/267 [00:02<00:00, 123.37it/s]\n",
      "Iteration:   0%|          | 0/267 [00:00<?, ?it/s]117.38it/s]"
     ]
    },
    {
     "name": "stdout",
     "output_type": "stream",
     "text": [
      "{'Train':  best_epoch_indx:68\n",
      " auc:0.8973565733622035 \n",
      " apur:0.8545953105508313 \n",
      " f1:0.7703593676584265 \n",
      " precision:0.7333987475108944 \n",
      " recall:0.8112430568856541 \n",
      ", 'Validation':  best_epoch_indx:68\n",
      " auc:0.8973565730333037 \n",
      " apur:0.8545953098755531 \n",
      " f1:0.7703593676584265 \n",
      " precision:0.7333987475108944 \n",
      " recall:0.8112430568856541 \n",
      ", 'Test':  best_epoch_indx:68\n",
      " auc:0.8973565736911034 \n",
      " apur:0.8545953103976089 \n",
      " f1:0.7703593676584265 \n",
      " precision:0.7333987475108944 \n",
      " recall:0.8112430568856541 \n",
      "}\n",
      "=====Epoch 69\n",
      "Training...\n"
     ]
    },
    {
     "name": "stderr",
     "output_type": "stream",
     "text": [
      "Iteration: 100%|██████████| 267/267 [00:03<00:00, 72.13it/s] \n",
      "Iteration: 100%|██████████| 267/267 [00:06<00:00, 39.87it/s]\n",
      "Iteration:   9%|▉         | 25/267 [00:00<00:06, 36.30it/s]"
     ]
    },
    {
     "name": "stdout",
     "output_type": "stream",
     "text": [
      "Evaluating...\n",
      "{'Train':  best_epoch_indx:66\n",
      " auc:0.8813223318984253 \n",
      " apur:0.8331222402074452 \n",
      " f1:0.7530763889914763 \n",
      " precision:0.7008826683531774 \n",
      " recall:0.8136691566111217 \n",
      ", 'Validation':  best_epoch_indx:66\n",
      " auc:0.8813223318984253 \n",
      " apur:0.8331222402074365 \n",
      " f1:0.7530763889914763 \n",
      " precision:0.7008826683531774 \n",
      " recall:0.8136691566111217 \n",
      ", 'Test':  best_epoch_indx:66\n",
      " auc:0.8813223318984253 \n",
      " apur:0.8331222402074365 \n",
      " f1:0.7530763889914763 \n",
      " precision:0.7008826683531774 \n",
      " recall:0.8136691566111217 \n",
      "}\n",
      "=====Epoch 67\n",
      "Training...\n"
     ]
    },
    {
     "name": "stderr",
     "output_type": "stream",
     "text": [
      "Iteration: 100%|██████████| 267/267 [00:02<00:00, 98.61it/s] \n",
      "Iteration: 100%|██████████| 267/267 [00:03<00:00, 68.56it/s]\n",
      "Iteration:  88%|████████▊ | 236/267 [00:05<00:00, 36.85it/s]"
     ]
    },
    {
     "name": "stdout",
     "output_type": "stream",
     "text": [
      "{'Train':  best_epoch_indx:68\n",
      " auc:0.8985975484428786 \n",
      " apur:0.8558411338352003 \n",
      " f1:0.773184390736642 \n",
      " precision:0.7230773505223383 \n",
      " recall:0.8307530245475149 \n",
      ", 'Validation':  best_epoch_indx:68\n",
      " auc:0.8985975484428786 \n",
      " apur:0.8558411338352003 \n",
      " f1:0.773184390736642 \n",
      " precision:0.7230773505223383 \n",
      " recall:0.8307530245475149 \n",
      ", 'Test':  best_epoch_indx:68\n",
      " auc:0.898597548771768 \n",
      " apur:0.8558411343497782 \n",
      " f1:0.773184390736642 \n",
      " precision:0.7230773505223383 \n",
      " recall:0.8307530245475149 \n",
      "}\n",
      "=====Epoch 69\n",
      "Training...\n"
     ]
    },
    {
     "name": "stderr",
     "output_type": "stream",
     "text": [
      "Iteration: 100%|██████████| 267/267 [00:06<00:00, 40.33it/s]\n",
      "Iteration:  99%|█████████▉| 265/267 [00:06<00:00, 44.98it/s]"
     ]
    },
    {
     "name": "stdout",
     "output_type": "stream",
     "text": [
      "Evaluating...\n",
      "Evaluating...\n"
     ]
    },
    {
     "name": "stderr",
     "output_type": "stream",
     "text": [
      "Iteration: 100%|██████████| 267/267 [00:06<00:00, 44.00it/s]\n",
      "Iteration: 100%|██████████| 267/267 [00:06<00:00, 43.56it/s]\n",
      "Iteration:  21%|██        | 56/267 [00:00<00:02, 74.49it/s]"
     ]
    },
    {
     "name": "stdout",
     "output_type": "stream",
     "text": [
      "Evaluating...\n"
     ]
    },
    {
     "name": "stderr",
     "output_type": "stream",
     "text": [
      "Iteration: 100%|██████████| 267/267 [00:02<00:00, 125.38it/s]\n",
      "Iteration: 100%|██████████| 267/267 [00:02<00:00, 94.07it/s] \n",
      "Iteration: 100%|██████████| 267/267 [00:02<00:00, 123.39it/s]\n",
      "Iteration: 100%|██████████| 267/267 [00:03<00:00, 66.80it/s]]\n",
      "Iteration: 100%|██████████| 267/267 [00:02<00:00, 120.72it/s]\n",
      "Iteration: 100%|██████████| 267/267 [00:06<00:00, 39.65it/s]]\n",
      "Iteration:  97%|█████████▋| 259/267 [00:02<00:00, 117.66it/s]"
     ]
    },
    {
     "name": "stdout",
     "output_type": "stream",
     "text": [
      "Evaluating...\n"
     ]
    },
    {
     "name": "stderr",
     "output_type": "stream",
     "text": [
      "Iteration: 100%|██████████| 267/267 [00:02<00:00, 118.37it/s]\n",
      "Iteration: 100%|██████████| 267/267 [00:02<00:00, 110.08it/s]\n",
      "Iteration:   2%|▏         | 5/267 [00:00<00:06, 42.22it/s]/s]"
     ]
    },
    {
     "name": "stdout",
     "output_type": "stream",
     "text": [
      "{'Train':  best_epoch_indx:68\n",
      " auc:0.8953231163611046 \n",
      " apur:0.8523032309320137 \n",
      " f1:0.7689837118605184 \n",
      " precision:0.7381308905135207 \n",
      " recall:0.8025282512928558 \n",
      ", 'Validation':  best_epoch_indx:68\n",
      " auc:0.8953231157033184 \n",
      " apur:0.852303230209794 \n",
      " f1:0.7689837118605184 \n",
      " precision:0.7381308905135207 \n",
      " recall:0.8025282512928558 \n",
      ", 'Test':  best_epoch_indx:68\n",
      " auc:0.8953231163611046 \n",
      " apur:0.8523032309320137 \n",
      " f1:0.7689837118605184 \n",
      " precision:0.7381308905135207 \n",
      " recall:0.8025282512928558 \n",
      "}\n",
      "=====Epoch 69\n",
      "Training...\n"
     ]
    },
    {
     "name": "stderr",
     "output_type": "stream",
     "text": [
      "Iteration: 100%|██████████| 267/267 [00:02<00:00, 119.45it/s]\n",
      "Iteration: 100%|██████████| 267/267 [00:04<00:00, 64.35it/s]]\n",
      "Iteration: 100%|██████████| 267/267 [00:02<00:00, 119.48it/s]\n",
      "Iteration: 100%|██████████| 267/267 [00:02<00:00, 115.79it/s]\n",
      "Iteration:   2%|▏         | 5/267 [00:00<00:06, 41.91it/s]]s]"
     ]
    },
    {
     "name": "stdout",
     "output_type": "stream",
     "text": [
      "{'Train':  best_epoch_indx:69\n",
      " auc:0.9049821339149894 \n",
      " apur:0.8648124080422972 \n",
      " f1:0.781632255842853 \n",
      " precision:0.7360214295784576 \n",
      " recall:0.8332694886037157 \n",
      ", 'Validation':  best_epoch_indx:69\n",
      " auc:0.9049821339149894 \n",
      " apur:0.8648124080422972 \n",
      " f1:0.781632255842853 \n",
      " precision:0.7360214295784576 \n",
      " recall:0.8332694886037157 \n",
      ", 'Test':  best_epoch_indx:69\n",
      " auc:0.9049821345727891 \n",
      " apur:0.864812408845858 \n",
      " f1:0.781632255842853 \n",
      " precision:0.7360214295784576 \n",
      " recall:0.8332694886037157 \n",
      "}\n",
      "=====Epoch 70\n",
      "Training...\n"
     ]
    },
    {
     "name": "stderr",
     "output_type": "stream",
     "text": [
      "Iteration:   2%|▏         | 5/267 [00:00<00:06, 43.00it/s]s]]"
     ]
    },
    {
     "name": "stdout",
     "output_type": "stream",
     "text": [
      "{'Train':  best_epoch_indx:67\n",
      " auc:0.8891727751654237 \n",
      " apur:0.8437900198341389 \n",
      " f1:0.7613396739525617 \n",
      " precision:0.6992013248924861 \n",
      " recall:0.8355998212347571 \n",
      ", 'Validation':  best_epoch_indx:67\n",
      " auc:0.8891727751654237 \n",
      " apur:0.8437900198341389 \n",
      " f1:0.7613396739525617 \n",
      " precision:0.6992013248924861 \n",
      " recall:0.8355998212347571 \n",
      ", 'Test':  best_epoch_indx:67\n",
      " auc:0.8891727751654237 \n",
      " apur:0.8437900198341389 \n",
      " f1:0.7613396739525617 \n",
      " precision:0.6992013248924861 \n",
      " recall:0.8355998212347571 \n",
      "}\n",
      "=====Epoch 68\n",
      "Training...\n"
     ]
    },
    {
     "name": "stderr",
     "output_type": "stream",
     "text": [
      "Iteration: 100%|██████████| 267/267 [00:02<00:00, 124.27it/s]\n",
      "Iteration: 100%|██████████| 267/267 [00:02<00:00, 114.97it/s]\n",
      "Iteration:  46%|████▌     | 122/267 [00:01<00:01, 73.56it/s]"
     ]
    },
    {
     "name": "stdout",
     "output_type": "stream",
     "text": [
      "{'Train':  best_epoch_indx:68\n",
      " auc:0.8982054250286258 \n",
      " apur:0.8568282101376987 \n",
      " f1:0.7718945970158474 \n",
      " precision:0.7477555661958343 \n",
      " recall:0.7976441294771117 \n",
      ", 'Validation':  best_epoch_indx:68\n",
      " auc:0.8982054250286258 \n",
      " apur:0.8568282101376987 \n",
      " f1:0.7718945970158474 \n",
      " precision:0.7477555661958343 \n",
      " recall:0.7976441294771117 \n",
      ", 'Test':  best_epoch_indx:68\n",
      " auc:0.8982054250286258 \n",
      " apur:0.8568282101376987 \n",
      " f1:0.7718945970158474 \n",
      " precision:0.7477555661958343 \n",
      " recall:0.7976441294771117 \n",
      "}\n",
      "=====Epoch 69\n",
      "Training...\n"
     ]
    },
    {
     "name": "stderr",
     "output_type": "stream",
     "text": [
      "\r",
      "Iteration:  66%|██████▌   | 175/267 [00:03<00:02, 44.92it/s]\r",
      "Iteration:   2%|▏         | 6/267 [00:00<00:05, 49.69it/s]\r",
      "Iteration:  81%|████████  | 215/267 [00:04<00:01, 45.68it/s]\r",
      "Iteration:  99%|█████████▊| 263/267 [00:06<00:00, 38.39it/s]\r",
      "Iteration:  67%|██████▋   | 180/267 [00:04<00:01, 44.87it/s]\r",
      "Iteration:   4%|▍         | 11/267 [00:00<00:05, 47.37it/s]\r",
      "Iteration:  82%|████████▏ | 220/267 [00:04<00:01, 45.68it/s]\r",
      "Iteration: 100%|██████████| 267/267 [00:07<00:00, 37.91it/s]\n",
      "\r",
      "Iteration:   0%|          | 0/267 [00:00<?, ?it/s]\r",
      "Iteration:  49%|████▊     | 130/267 [00:02<00:02, 50.54it/s]"
     ]
    },
    {
     "name": "stdout",
     "output_type": "stream",
     "text": [
      "Evaluating...\n"
     ]
    },
    {
     "name": "stderr",
     "output_type": "stream",
     "text": [
      "Iteration: 100%|██████████| 267/267 [00:05<00:00, 45.51it/s]\n",
      "Iteration:   5%|▍         | 13/267 [00:00<00:02, 122.41it/s]"
     ]
    },
    {
     "name": "stdout",
     "output_type": "stream",
     "text": [
      "Evaluating...\n"
     ]
    },
    {
     "name": "stderr",
     "output_type": "stream",
     "text": [
      "Iteration: 100%|██████████| 267/267 [00:03<00:00, 70.49it/s]\n",
      "Iteration: 100%|██████████| 267/267 [00:05<00:00, 44.95it/s]\n",
      "Iteration:  38%|███▊      | 101/267 [00:02<00:03, 45.53it/s]]"
     ]
    },
    {
     "name": "stdout",
     "output_type": "stream",
     "text": [
      "Evaluating...\n"
     ]
    },
    {
     "name": "stderr",
     "output_type": "stream",
     "text": [
      "Iteration: 100%|██████████| 267/267 [00:02<00:00, 121.00it/s]\n",
      "Iteration: 100%|██████████| 267/267 [00:03<00:00, 76.81it/s]]\n",
      "Iteration:   1%|▏         | 4/267 [00:00<00:06, 39.42it/s]s]]"
     ]
    },
    {
     "name": "stdout",
     "output_type": "stream",
     "text": [
      "{'Train':  best_epoch_indx:69\n",
      " auc:0.9077052815233826 \n",
      " apur:0.8680928640929222 \n",
      " f1:0.7855690000742336 \n",
      " precision:0.7343177528588876 \n",
      " recall:0.8445111245890127 \n",
      ", 'Validation':  best_epoch_indx:69\n",
      " auc:0.9077052815233826 \n",
      " apur:0.8680928640929222 \n",
      " f1:0.7855690000742336 \n",
      " precision:0.7343177528588876 \n",
      " recall:0.8445111245890127 \n",
      ", 'Test':  best_epoch_indx:69\n",
      " auc:0.9077052815233827 \n",
      " apur:0.8680928640929323 \n",
      " f1:0.7855690000742336 \n",
      " precision:0.7343177528588876 \n",
      " recall:0.8445111245890127 \n",
      "}\n",
      "=====Epoch 70\n",
      "Training...\n"
     ]
    },
    {
     "name": "stderr",
     "output_type": "stream",
     "text": [
      "Iteration: 100%|██████████| 267/267 [00:02<00:00, 120.36it/s]\n",
      "Iteration: 100%|██████████| 267/267 [00:05<00:00, 44.87it/s]]\n",
      "Iteration:  17%|█▋        | 45/267 [00:00<00:03, 69.48it/s]"
     ]
    },
    {
     "name": "stdout",
     "output_type": "stream",
     "text": [
      "Evaluating...\n"
     ]
    },
    {
     "name": "stderr",
     "output_type": "stream",
     "text": [
      "Iteration: 100%|██████████| 267/267 [00:02<00:00, 118.60it/s]\n",
      "Iteration: 100%|██████████| 267/267 [00:02<00:00, 117.94it/s]\n",
      "Iteration: 100%|██████████| 267/267 [00:02<00:00, 120.76it/s]\n",
      "Iteration: 100%|██████████| 267/267 [00:03<00:00, 85.64it/s] \n",
      "Iteration: 100%|██████████| 267/267 [00:02<00:00, 111.22it/s]\n",
      "Iteration: 100%|██████████| 267/267 [00:06<00:00, 39.77it/s]\n",
      "Iteration:  67%|██████▋   | 180/267 [00:01<00:00, 121.77it/s]"
     ]
    },
    {
     "name": "stdout",
     "output_type": "stream",
     "text": [
      "Evaluating...\n"
     ]
    },
    {
     "name": "stderr",
     "output_type": "stream",
     "text": [
      "Iteration: 100%|██████████| 267/267 [00:02<00:00, 117.26it/s]\n",
      "Iteration:   2%|▏         | 5/267 [00:00<00:05, 45.16it/s]/s]"
     ]
    },
    {
     "name": "stdout",
     "output_type": "stream",
     "text": [
      "{'Train':  best_epoch_indx:70\n",
      " auc:0.9041556627784084 \n",
      " apur:0.8639841163084414 \n",
      " f1:0.7796415336912956 \n",
      " precision:0.7408376210871253 \n",
      " recall:0.8227351082168167 \n",
      ", 'Validation':  best_epoch_indx:70\n",
      " auc:0.9041556627784084 \n",
      " apur:0.8639841163084414 \n",
      " f1:0.7796415336912956 \n",
      " precision:0.7408376210871253 \n",
      " recall:0.8227351082168167 \n",
      ", 'Test':  best_epoch_indx:70\n",
      " auc:0.9041556627784084 \n",
      " apur:0.8639841163084414 \n",
      " f1:0.7796415336912956 \n",
      " precision:0.7408376210871253 \n",
      " recall:0.8227351082168167 \n",
      "}\n",
      "=====Epoch 71\n",
      "Training...\n"
     ]
    },
    {
     "name": "stderr",
     "output_type": "stream",
     "text": [
      "Iteration:  15%|█▍        | 39/267 [00:00<00:05, 40.42it/s]s]"
     ]
    },
    {
     "name": "stdout",
     "output_type": "stream",
     "text": [
      "{'Train':  best_epoch_indx:68\n",
      " auc:0.8961963209780428 \n",
      " apur:0.8520807035850129 \n",
      " f1:0.7707945513104629 \n",
      " precision:0.7174367436743674 \n",
      " recall:0.8327268084019664 \n",
      ", 'Validation':  best_epoch_indx:68\n",
      " auc:0.8961963209780428 \n",
      " apur:0.8520807035850129 \n",
      " f1:0.7707945513104629 \n",
      " precision:0.7174367436743674 \n",
      " recall:0.8327268084019664 \n",
      ", 'Test':  best_epoch_indx:68\n",
      " auc:0.8961963209780428 \n",
      " apur:0.8520807035850128 \n",
      " f1:0.7707945513104629 \n",
      " precision:0.7174367436743674 \n",
      " recall:0.8327268084019664 \n",
      "}\n",
      "=====Epoch 69\n",
      "Training...\n"
     ]
    },
    {
     "name": "stderr",
     "output_type": "stream",
     "text": [
      "Iteration: 100%|██████████| 267/267 [00:03<00:00, 78.39it/s] \n",
      "Iteration: 100%|██████████| 267/267 [00:02<00:00, 90.04it/s] \n",
      "Iteration: 100%|██████████| 267/267 [00:02<00:00, 120.90it/s]\n",
      "Iteration:   2%|▏         | 5/267 [00:00<00:06, 41.20it/s]]"
     ]
    },
    {
     "name": "stdout",
     "output_type": "stream",
     "text": [
      "{'Train':  best_epoch_indx:69\n",
      " auc:0.9029269818891328 \n",
      " apur:0.862337249131076 \n",
      " f1:0.7769879918937721 \n",
      " precision:0.7382457753764801 \n",
      " recall:0.82002170720807 \n",
      ", 'Validation':  best_epoch_indx:69\n",
      " auc:0.9029269815602398 \n",
      " apur:0.8623372487684254 \n",
      " f1:0.7769879918937721 \n",
      " precision:0.7382457753764801 \n",
      " recall:0.82002170720807 \n",
      ", 'Test':  best_epoch_indx:69\n",
      " auc:0.9029269822180259 \n",
      " apur:0.8623372494863547 \n",
      " f1:0.7769879918937721 \n",
      " precision:0.7382457753764801 \n",
      " recall:0.82002170720807 \n",
      "}\n",
      "=====Epoch 70\n",
      "Training...\n"
     ]
    },
    {
     "name": "stderr",
     "output_type": "stream",
     "text": [
      "Iteration: 100%|██████████| 267/267 [00:02<00:00, 124.51it/s]\n",
      "Iteration: 100%|██████████| 267/267 [00:02<00:00, 91.84it/s]\n",
      "Iteration: 100%|██████████| 267/267 [00:06<00:00, 44.27it/s]\n",
      "Iteration:  57%|█████▋    | 151/267 [00:04<00:02, 38.86it/s]"
     ]
    },
    {
     "name": "stdout",
     "output_type": "stream",
     "text": [
      "Evaluating...\n",
      "{'Train':  best_epoch_indx:69\n",
      " auc:0.9052056529778594 \n",
      " apur:0.8650802413702559 \n",
      " f1:0.7806577691596854 \n",
      " precision:0.7428571428571429 \n",
      " recall:0.8225116516631552 \n",
      ", 'Validation':  best_epoch_indx:69\n",
      " auc:0.9052056529778594 \n",
      " apur:0.8650802413702559 \n",
      " f1:0.7806577691596854 \n",
      " precision:0.7428571428571429 \n",
      " recall:0.8225116516631552 \n",
      ", 'Test':  best_epoch_indx:69\n",
      " auc:0.9052056529778594 \n",
      " apur:0.8650802413702559 \n",
      " f1:0.7806577691596854 \n",
      " precision:0.7428571428571429 \n",
      " recall:0.8225116516631552 \n",
      "}\n",
      "=====Epoch 70\n",
      "Training...\n"
     ]
    },
    {
     "name": "stderr",
     "output_type": "stream",
     "text": [
      "Iteration: 100%|██████████| 267/267 [00:02<00:00, 121.32it/s]\n",
      "Iteration: 100%|██████████| 267/267 [00:06<00:00, 38.63it/s]\n",
      "Iteration:   3%|▎         | 7/267 [00:00<00:04, 60.33it/s]s]]"
     ]
    },
    {
     "name": "stdout",
     "output_type": "stream",
     "text": [
      "Evaluating...\n"
     ]
    },
    {
     "name": "stderr",
     "output_type": "stream",
     "text": [
      "Iteration: 100%|██████████| 267/267 [00:02<00:00, 127.70it/s]\n",
      "Iteration:   0%|          | 0/267 [00:00<?, ?it/s]8.03it/s]]"
     ]
    },
    {
     "name": "stdout",
     "output_type": "stream",
     "text": [
      "{'Train':  best_epoch_indx:70\n",
      " auc:0.9047249619016675 \n",
      " apur:0.8652205908879613 \n",
      " f1:0.7809444436176388 \n",
      " precision:0.7315284670718787 \n",
      " recall:0.83752034985795 \n",
      ", 'Validation':  best_epoch_indx:70\n",
      " auc:0.9047249619016675 \n",
      " apur:0.8652205908879611 \n",
      " f1:0.7809444436176388 \n",
      " precision:0.7315284670718787 \n",
      " recall:0.83752034985795 \n",
      ", 'Test':  best_epoch_indx:70\n",
      " auc:0.9047249619016675 \n",
      " apur:0.8652205908879611 \n",
      " f1:0.7809444436176388 \n",
      " precision:0.7315284670718787 \n",
      " recall:0.83752034985795 \n",
      "}\n",
      "=====Epoch 71\n",
      "Training...\n",
      "Evaluating...\n"
     ]
    },
    {
     "name": "stderr",
     "output_type": "stream",
     "text": [
      "Iteration: 100%|██████████| 267/267 [00:06<00:00, 40.10it/s]\n",
      "Iteration: 100%|██████████| 267/267 [00:02<00:00, 114.71it/s]\n",
      "Iteration:  73%|███████▎  | 194/267 [00:04<00:01, 45.59it/s]]\n",
      "Iteration: 100%|██████████| 267/267 [00:02<00:00, 123.41it/s]\n",
      "Iteration: 100%|██████████| 267/267 [00:06<00:00, 42.61it/s]\n",
      "Iteration:   4%|▍         | 12/267 [00:00<00:02, 118.68it/s]"
     ]
    },
    {
     "name": "stdout",
     "output_type": "stream",
     "text": [
      "Evaluating...\n"
     ]
    },
    {
     "name": "stderr",
     "output_type": "stream",
     "text": [
      "Iteration: 100%|██████████| 267/267 [00:02<00:00, 94.87it/s] \n",
      "Iteration: 100%|██████████| 267/267 [00:02<00:00, 119.52it/s]\n",
      "Iteration: 100%|██████████| 267/267 [00:03<00:00, 85.94it/s] \n",
      "Iteration: 100%|██████████| 267/267 [00:06<00:00, 39.84it/s]]\n",
      "Iteration:   3%|▎         | 7/267 [00:00<00:03, 66.77it/s]/s]"
     ]
    },
    {
     "name": "stdout",
     "output_type": "stream",
     "text": [
      "Evaluating...\n"
     ]
    },
    {
     "name": "stderr",
     "output_type": "stream",
     "text": [
      "Iteration: 100%|██████████| 267/267 [00:03<00:00, 81.36it/s] \n",
      "Iteration:  32%|███▏      | 86/267 [00:01<00:02, 65.86it/s]]]"
     ]
    },
    {
     "name": "stdout",
     "output_type": "stream",
     "text": [
      "{'Train':  best_epoch_indx:71\n",
      " auc:0.9000667106974147 \n",
      " apur:0.8592174906082068 \n",
      " f1:0.7733052731422474 \n",
      " precision:0.721727343144849 \n",
      " recall:0.8328225754963928 \n",
      ", 'Validation':  best_epoch_indx:71\n",
      " auc:0.9000667106974147 \n",
      " apur:0.8592174906082068 \n",
      " f1:0.7733052731422474 \n",
      " precision:0.721727343144849 \n",
      " recall:0.8328225754963928 \n",
      ", 'Test':  best_epoch_indx:71\n",
      " auc:0.9000667106974148 \n",
      " apur:0.8592174906081863 \n",
      " f1:0.7733052731422474 \n",
      " precision:0.721727343144849 \n",
      " recall:0.8328225754963928 \n",
      "}\n",
      "=====Epoch 72\n",
      "Training...\n"
     ]
    },
    {
     "name": "stderr",
     "output_type": "stream",
     "text": [
      "Iteration: 100%|██████████| 267/267 [00:02<00:00, 114.48it/s]\n",
      "Iteration: 100%|██████████| 267/267 [00:02<00:00, 118.76it/s]\n",
      "Iteration: 100%|██████████| 267/267 [00:03<00:00, 75.51it/s] \n",
      "Iteration: 100%|██████████| 267/267 [00:02<00:00, 109.26it/s]\n",
      "Iteration:   0%|          | 0/267 [00:00<?, ?it/s]106.24it/s]"
     ]
    },
    {
     "name": "stdout",
     "output_type": "stream",
     "text": [
      "{'Train':  best_epoch_indx:69\n",
      " auc:0.9040320462785751 \n",
      " apur:0.8630342060940799 \n",
      " f1:0.7801399273338738 \n",
      " precision:0.7364229024943311 \n",
      " recall:0.829374960097044 \n",
      ", 'Validation':  best_epoch_indx:69\n",
      " auc:0.9040320462785751 \n",
      " apur:0.8630342060940801 \n",
      " f1:0.7801399273338738 \n",
      " precision:0.7364229024943311 \n",
      " recall:0.829374960097044 \n",
      ", 'Test':  best_epoch_indx:69\n",
      " auc:0.9040320462785751 \n",
      " apur:0.8630342060940799 \n",
      " f1:0.7801399273338738 \n",
      " precision:0.7364229024943311 \n",
      " recall:0.829374960097044 \n",
      "}\n",
      "=====Epoch 70\n",
      "Training...\n",
      "{'Train':  best_epoch_indx:70\n",
      " auc:0.8999470521567502 \n",
      " apur:0.8592261074239474 \n",
      " f1:0.7742402970879941 \n",
      " precision:0.7344273563020878 \n",
      " recall:0.8186171231564834 \n",
      ", 'Validation':  best_epoch_indx:70\n",
      " auc:0.8999470521567502 \n",
      " apur:0.8592261074239474 \n",
      " f1:0.7742402970879941 \n",
      " precision:0.7344273563020878 \n",
      " recall:0.8186171231564834 \n",
      ", 'Test':  best_epoch_indx:70\n",
      " auc:0.8999470521567502 \n",
      " apur:0.8592261074239474 \n",
      " f1:0.7742402970879941 \n",
      " precision:0.7344273563020878 \n",
      " recall:0.8186171231564834 \n",
      "}\n",
      "=====Epoch 71\n",
      "Training...\n"
     ]
    },
    {
     "name": "stderr",
     "output_type": "stream",
     "text": [
      "Iteration: 100%|██████████| 267/267 [00:02<00:00, 114.99it/s]\n",
      "Iteration: 100%|██████████| 267/267 [00:02<00:00, 113.43it/s]\n",
      "Iteration:  45%|████▍     | 119/267 [00:02<00:03, 44.78it/s]"
     ]
    },
    {
     "name": "stdout",
     "output_type": "stream",
     "text": [
      "{'Train':  best_epoch_indx:70\n",
      " auc:0.9046662646672018 \n",
      " apur:0.8636808106948038 \n",
      " f1:0.7794220624620699 \n",
      " precision:0.760360688587303 \n",
      " recall:0.7994637042712124 \n",
      ", 'Validation':  best_epoch_indx:70\n",
      " auc:0.9046662646672018 \n",
      " apur:0.8636808106948038 \n",
      " f1:0.7794220624620699 \n",
      " precision:0.760360688587303 \n",
      " recall:0.7994637042712124 \n",
      ", 'Test':  best_epoch_indx:70\n",
      " auc:0.9046662646672018 \n",
      " apur:0.8636808106948038 \n",
      " f1:0.7794220624620699 \n",
      " precision:0.760360688587303 \n",
      " recall:0.7994637042712124 \n",
      "}\n",
      "=====Epoch 71\n",
      "Training...\n"
     ]
    },
    {
     "name": "stderr",
     "output_type": "stream",
     "text": [
      "Iteration: 100%|██████████| 267/267 [00:06<00:00, 41.30it/s]\n",
      "Iteration:   7%|▋         | 20/267 [00:00<00:06, 40.74it/s]]"
     ]
    },
    {
     "name": "stdout",
     "output_type": "stream",
     "text": [
      "Evaluating...\n"
     ]
    },
    {
     "name": "stderr",
     "output_type": "stream",
     "text": [
      "Iteration: 100%|██████████| 267/267 [00:02<00:00, 109.94it/s]\n",
      "Iteration: 100%|██████████| 267/267 [00:02<00:00, 116.52it/s]\n",
      "Iteration:  86%|████████▌ | 230/267 [00:05<00:00, 39.88it/s]"
     ]
    },
    {
     "name": "stdout",
     "output_type": "stream",
     "text": [
      "{'Train':  best_epoch_indx:71\n",
      " auc:0.9015108637593403 \n",
      " apur:0.8604670458379339 \n",
      " f1:0.7764410286727756 \n",
      " precision:0.7229515867118047 \n",
      " recall:0.8384779902320681 \n",
      ", 'Validation':  best_epoch_indx:71\n",
      " auc:0.9015108637593403 \n",
      " apur:0.8604670458379339 \n",
      " f1:0.7764410286727756 \n",
      " precision:0.7229515867118047 \n",
      " recall:0.8384779902320681 \n",
      ", 'Test':  best_epoch_indx:71\n",
      " auc:0.9015108637593403 \n",
      " apur:0.8604670458379339 \n",
      " f1:0.7764410286727756 \n",
      " precision:0.7229515867118047 \n",
      " recall:0.8384779902320681 \n",
      "}\n",
      "=====Epoch 72\n",
      "Training...\n"
     ]
    },
    {
     "name": "stderr",
     "output_type": "stream",
     "text": [
      "Iteration: 100%|██████████| 267/267 [00:06<00:00, 42.84it/s]\n",
      "Iteration:   0%|          | 0/267 [00:00<?, ?it/s]"
     ]
    },
    {
     "name": "stdout",
     "output_type": "stream",
     "text": [
      "Evaluating...\n"
     ]
    },
    {
     "name": "stderr",
     "output_type": "stream",
     "text": [
      "Iteration: 100%|██████████| 267/267 [00:06<00:00, 40.39it/s]\n",
      "Iteration:  57%|█████▋    | 152/267 [00:03<00:03, 37.54it/s]"
     ]
    },
    {
     "name": "stdout",
     "output_type": "stream",
     "text": [
      "Evaluating...\n"
     ]
    },
    {
     "name": "stderr",
     "output_type": "stream",
     "text": [
      "Iteration: 100%|██████████| 267/267 [00:02<00:00, 125.05it/s]\n",
      "Iteration: 100%|██████████| 267/267 [00:02<00:00, 121.96it/s]\n",
      "Iteration: 100%|██████████| 267/267 [00:02<00:00, 92.14it/s]\n",
      "Iteration: 100%|██████████| 267/267 [00:07<00:00, 37.63it/s]\n",
      "Iteration:   0%|          | 0/267 [00:00<?, ?it/s]"
     ]
    },
    {
     "name": "stdout",
     "output_type": "stream",
     "text": [
      "Evaluating...\n"
     ]
    },
    {
     "name": "stderr",
     "output_type": "stream",
     "text": [
      "Iteration: 100%|██████████| 267/267 [00:02<00:00, 119.80it/s]\n",
      "Iteration: 100%|██████████| 267/267 [00:06<00:00, 43.09it/s]]\n",
      "Iteration:   6%|▌         | 15/267 [00:00<00:03, 72.02it/s]]]"
     ]
    },
    {
     "name": "stdout",
     "output_type": "stream",
     "text": [
      "Evaluating...\n"
     ]
    },
    {
     "name": "stderr",
     "output_type": "stream",
     "text": [
      "Iteration: 100%|██████████| 267/267 [00:02<00:00, 124.41it/s]\n",
      "Iteration: 100%|██████████| 267/267 [00:03<00:00, 79.23it/s] \n",
      "Iteration: 100%|██████████| 267/267 [00:02<00:00, 115.86it/s]\n",
      "Iteration: 100%|██████████| 267/267 [00:02<00:00, 121.45it/s]\n",
      "Iteration: 100%|██████████| 267/267 [00:02<00:00, 102.55it/s]\n",
      "Iteration: 100%|██████████| 267/267 [00:03<00:00, 68.54it/s]\n",
      "Iteration:  52%|█████▏    | 140/267 [00:01<00:01, 104.99it/s]"
     ]
    },
    {
     "name": "stdout",
     "output_type": "stream",
     "text": [
      "{'Train':  best_epoch_indx:71\n",
      " auc:0.8977404001068824 \n",
      " apur:0.8559103110125368 \n",
      " f1:0.770930688293286 \n",
      " precision:0.7303495944247687 \n",
      " recall:0.8162867905254422 \n",
      ", 'Validation':  best_epoch_indx:71\n",
      " auc:0.8977404001068824 \n",
      " apur:0.8559103110125368 \n",
      " f1:0.770930688293286 \n",
      " precision:0.7303495944247687 \n",
      " recall:0.8162867905254422 \n",
      ", 'Test':  best_epoch_indx:71\n",
      " auc:0.8977404001068824 \n",
      " apur:0.8559103110125368 \n",
      " f1:0.770930688293286 \n",
      " precision:0.7303495944247687 \n",
      " recall:0.8162867905254422 \n",
      "}\n",
      "=====Epoch 72\n",
      "Training...\n"
     ]
    },
    {
     "name": "stderr",
     "output_type": "stream",
     "text": [
      "Iteration: 100%|██████████| 267/267 [00:02<00:00, 125.57it/s]\n",
      "Iteration: 100%|██████████| 267/267 [00:02<00:00, 94.59it/s] \n",
      "Iteration:   1%|▏         | 4/267 [00:00<00:06, 39.57it/s]]"
     ]
    },
    {
     "name": "stdout",
     "output_type": "stream",
     "text": [
      "{'Train':  best_epoch_indx:72\n",
      " auc:0.8923763302268596 \n",
      " apur:0.8469717178352801 \n",
      " f1:0.7653982705027916 \n",
      " precision:0.7106551771303515 \n",
      " recall:0.8292791930026177 \n",
      ", 'Validation':  best_epoch_indx:72\n",
      " auc:0.8923763302268596 \n",
      " apur:0.8469717178352801 \n",
      " f1:0.7653982705027916 \n",
      " precision:0.7106551771303515 \n",
      " recall:0.8292791930026177 \n",
      ", 'Test':  best_epoch_indx:72\n",
      " auc:0.8923763302268596 \n",
      " apur:0.8469717178352801 \n",
      " f1:0.7653982705027916 \n",
      " precision:0.7106551771303515 \n",
      " recall:0.8292791930026177 \n",
      "}\n",
      "=====Epoch 73\n",
      "Training...\n"
     ]
    },
    {
     "name": "stderr",
     "output_type": "stream",
     "text": [
      "Iteration:  24%|██▎       | 63/267 [00:00<00:03, 66.61it/s]"
     ]
    },
    {
     "name": "stdout",
     "output_type": "stream",
     "text": [
      "{'Train':  best_epoch_indx:70\n",
      " auc:0.9034041942737895 \n",
      " apur:0.8617127787711311 \n",
      " f1:0.7793634023303224 \n",
      " precision:0.7299512195121951 \n",
      " recall:0.8359509672476537 \n",
      ", 'Validation':  best_epoch_indx:70\n",
      " auc:0.9034041942737895 \n",
      " apur:0.8617127787711311 \n",
      " f1:0.7793634023303224 \n",
      " precision:0.7299512195121951 \n",
      " recall:0.8359509672476537 \n",
      ", 'Test':  best_epoch_indx:70\n",
      " auc:0.9034041942737895 \n",
      " apur:0.8617127787711312 \n",
      " f1:0.7793634023303224 \n",
      " precision:0.7299512195121951 \n",
      " recall:0.8359509672476537 \n",
      "}\n",
      "=====Epoch 71\n",
      "Training...\n"
     ]
    },
    {
     "name": "stderr",
     "output_type": "stream",
     "text": [
      "Iteration: 100%|██████████| 267/267 [00:02<00:00, 118.20it/s]\n",
      "Iteration: 100%|██████████| 267/267 [00:03<00:00, 68.02it/s]\n",
      "Iteration:  59%|█████▉    | 158/267 [00:03<00:02, 41.92it/s]"
     ]
    },
    {
     "name": "stdout",
     "output_type": "stream",
     "text": [
      "{'Train':  best_epoch_indx:72\n",
      " auc:0.895834529654763 \n",
      " apur:0.8525219492451416 \n",
      " f1:0.7692103438610984 \n",
      " precision:0.7150458011080029 \n",
      " recall:0.8322533278003 \n",
      ", 'Validation':  best_epoch_indx:72\n",
      " auc:0.895834529654763 \n",
      " apur:0.8525219492451416 \n",
      " f1:0.7692103438610984 \n",
      " precision:0.7150458011080029 \n",
      " recall:0.8322533278003 \n",
      ", 'Test':  best_epoch_indx:72\n",
      " auc:0.895834529654763 \n",
      " apur:0.8525219492451416 \n",
      " f1:0.7692103438610984 \n",
      " precision:0.7150458011080029 \n",
      " recall:0.8322533278003 \n",
      "}\n",
      "=====Epoch 73\n",
      "Training...\n"
     ]
    },
    {
     "name": "stderr",
     "output_type": "stream",
     "text": [
      "Iteration:   0%|          | 0/267 [00:00<?, ?it/s]38.11it/s]"
     ]
    },
    {
     "name": "stdout",
     "output_type": "stream",
     "text": [
      "{'Train':  best_epoch_indx:71\n",
      " auc:0.8976909658286771 \n",
      " apur:0.8535612270953992 \n",
      " f1:0.7721852717358739 \n",
      " precision:0.7274626023144228 \n",
      " recall:0.8227670305816255 \n",
      ", 'Validation':  best_epoch_indx:71\n",
      " auc:0.8976909658286771 \n",
      " apur:0.8535612270953992 \n",
      " f1:0.7721852717358739 \n",
      " precision:0.7274626023144228 \n",
      " recall:0.8227670305816255 \n",
      ", 'Test':  best_epoch_indx:71\n",
      " auc:0.8976909658286771 \n",
      " apur:0.8535612270953992 \n",
      " f1:0.7721852717358739 \n",
      " precision:0.7274626023144228 \n",
      " recall:0.8227670305816255 \n",
      "}\n",
      "=====Epoch 72\n",
      "Training...\n",
      "Evaluating...\n"
     ]
    },
    {
     "name": "stderr",
     "output_type": "stream",
     "text": [
      "Iteration: 100%|██████████| 267/267 [00:06<00:00, 41.76it/s]\n",
      "Iteration: 100%|██████████| 267/267 [00:06<00:00, 40.78it/s]]\n",
      "Iteration:   4%|▍         | 12/267 [00:00<00:02, 118.24it/s]]"
     ]
    },
    {
     "name": "stdout",
     "output_type": "stream",
     "text": [
      "Evaluating...\n",
      "Evaluating...\n"
     ]
    },
    {
     "name": "stderr",
     "output_type": "stream",
     "text": [
      "Iteration: 100%|██████████| 267/267 [00:06<00:00, 44.40it/s]]\n",
      "Iteration: 100%|██████████| 267/267 [00:02<00:00, 119.94it/s]\n",
      "Iteration: 100%|██████████| 267/267 [00:02<00:00, 118.98it/s]\n",
      "Iteration: 100%|██████████| 267/267 [00:02<00:00, 125.30it/s]\n",
      "Iteration: 100%|██████████| 267/267 [00:06<00:00, 42.71it/s]]\n",
      "Iteration: 100%|██████████| 267/267 [00:02<00:00, 118.80it/s]\n",
      "Iteration:  76%|███████▌  | 203/267 [00:05<00:01, 44.62it/s]"
     ]
    },
    {
     "name": "stdout",
     "output_type": "stream",
     "text": [
      "Evaluating...\n"
     ]
    },
    {
     "name": "stderr",
     "output_type": "stream",
     "text": [
      "Iteration: 100%|██████████| 267/267 [00:06<00:00, 38.72it/s]]\n",
      "Iteration:   4%|▍         | 12/267 [00:00<00:02, 114.88it/s]]"
     ]
    },
    {
     "name": "stdout",
     "output_type": "stream",
     "text": [
      "Evaluating...\n"
     ]
    },
    {
     "name": "stderr",
     "output_type": "stream",
     "text": [
      "Iteration: 100%|██████████| 267/267 [00:02<00:00, 123.71it/s]\n",
      "Iteration: 100%|██████████| 267/267 [00:02<00:00, 108.38it/s]\n",
      "Iteration: 100%|██████████| 267/267 [00:03<00:00, 68.61it/s]]\n",
      "Iteration: 100%|██████████| 267/267 [00:02<00:00, 115.12it/s]\n",
      "Iteration: 100%|██████████| 267/267 [00:02<00:00, 119.55it/s]\n",
      "Iteration: 100%|██████████| 267/267 [00:03<00:00, 70.82it/s] \n",
      "Iteration: 100%|██████████| 267/267 [00:02<00:00, 122.23it/s]\n",
      "Iteration:  35%|███▍      | 93/267 [00:01<00:02, 67.86it/s]"
     ]
    },
    {
     "name": "stdout",
     "output_type": "stream",
     "text": [
      "{'Train':  best_epoch_indx:72\n",
      " auc:0.8939464658587448 \n",
      " apur:0.8501773090195893 \n",
      " f1:0.7638743621438306 \n",
      " precision:0.7584655085599195 \n",
      " recall:0.7693609142565281 \n",
      ", 'Validation':  best_epoch_indx:72\n",
      " auc:0.8939464658587448 \n",
      " apur:0.8501773090195893 \n",
      " f1:0.7638743621438306 \n",
      " precision:0.7584655085599195 \n",
      " recall:0.7693609142565281 \n",
      ", 'Test':  best_epoch_indx:72\n",
      " auc:0.8939464658587448 \n",
      " apur:0.8501773090195893 \n",
      " f1:0.7638743621438306 \n",
      " precision:0.7584655085599195 \n",
      " recall:0.7693609142565281 \n",
      "}\n",
      "=====Epoch 73\n",
      "Training...\n"
     ]
    },
    {
     "name": "stderr",
     "output_type": "stream",
     "text": [
      "Iteration:   1%|▏         | 4/267 [00:00<00:06, 38.95it/s]/s]"
     ]
    },
    {
     "name": "stdout",
     "output_type": "stream",
     "text": [
      "{'Train':  best_epoch_indx:73\n",
      " auc:0.8872815565876846 \n",
      " apur:0.8418233238742344 \n",
      " f1:0.7583414813004156 \n",
      " precision:0.7271901552886024 \n",
      " recall:0.7922811721892358 \n",
      ", 'Validation':  best_epoch_indx:73\n",
      " auc:0.8872815565876846 \n",
      " apur:0.8418233238742344 \n",
      " f1:0.7583414813004156 \n",
      " precision:0.7271901552886024 \n",
      " recall:0.7922811721892358 \n",
      ", 'Test':  best_epoch_indx:73\n",
      " auc:0.8872815565876846 \n",
      " apur:0.8418233238742344 \n",
      " f1:0.7583414813004156 \n",
      " precision:0.7271901552886024 \n",
      " recall:0.7922811721892358 \n",
      "}\n",
      "=====Epoch 74\n",
      "Training...\n"
     ]
    },
    {
     "name": "stderr",
     "output_type": "stream",
     "text": [
      "Iteration: 100%|██████████| 267/267 [00:02<00:00, 95.28it/s] \n",
      "Iteration: 100%|██████████| 267/267 [00:02<00:00, 108.21it/s]\n",
      "Iteration: 100%|██████████| 267/267 [00:02<00:00, 118.28it/s]\n",
      "Iteration:  42%|████▏     | 113/267 [00:02<00:03, 43.54it/s]"
     ]
    },
    {
     "name": "stdout",
     "output_type": "stream",
     "text": [
      "{'Train':  best_epoch_indx:71\n",
      " auc:0.8971765783274257 \n",
      " apur:0.8551257806772681 \n",
      " f1:0.7715325023210509 \n",
      " precision:0.7372952846379847 \n",
      " recall:0.8091042584434655 \n",
      ", 'Validation':  best_epoch_indx:71\n",
      " auc:0.8971765783274257 \n",
      " apur:0.8551257806772681 \n",
      " f1:0.7715325023210509 \n",
      " precision:0.7372952846379847 \n",
      " recall:0.8091042584434655 \n",
      ", 'Test':  best_epoch_indx:71\n",
      " auc:0.8971765786563188 \n",
      " apur:0.8551257811212158 \n",
      " f1:0.7715325023210509 \n",
      " precision:0.7372952846379847 \n",
      " recall:0.8091042584434655 \n",
      "}\n",
      "=====Epoch 72\n",
      "Training...\n"
     ]
    },
    {
     "name": "stderr",
     "output_type": "stream",
     "text": [
      "Iteration:  57%|█████▋    | 153/267 [00:03<00:02, 45.42it/s]"
     ]
    },
    {
     "name": "stdout",
     "output_type": "stream",
     "text": [
      "{'Train':  best_epoch_indx:73\n",
      " auc:0.8876222949437724 \n",
      " apur:0.8421881741743669 \n",
      " f1:0.7614880317121512 \n",
      " precision:0.7288620377666871 \n",
      " recall:0.797171768761771 \n",
      ", 'Validation':  best_epoch_indx:73\n",
      " auc:0.8876222949437724 \n",
      " apur:0.8421881741743669 \n",
      " f1:0.7614880317121512 \n",
      " precision:0.7288620377666871 \n",
      " recall:0.797171768761771 \n",
      ", 'Test':  best_epoch_indx:73\n",
      " auc:0.8876222949437724 \n",
      " apur:0.8421881741743669 \n",
      " f1:0.7614880317121512 \n",
      " precision:0.7288620377666871 \n",
      " recall:0.797171768761771 \n",
      "}\n",
      "=====Epoch 74\n",
      "Training...\n"
     ]
    },
    {
     "name": "stderr",
     "output_type": "stream",
     "text": [
      "Iteration: 100%|██████████| 267/267 [00:02<00:00, 97.21it/s] \n",
      "Iteration:  91%|█████████▏| 244/267 [00:05<00:00, 38.72it/s]"
     ]
    },
    {
     "name": "stdout",
     "output_type": "stream",
     "text": [
      "{'Train':  best_epoch_indx:72\n",
      " auc:0.8931082094231848 \n",
      " apur:0.8489004046908273 \n",
      " f1:0.7659505639125385 \n",
      " precision:0.7100406204847196 \n",
      " recall:0.8314179914448062 \n",
      ", 'Validation':  best_epoch_indx:72\n",
      " auc:0.8931082094231848 \n",
      " apur:0.8489004046908273 \n",
      " f1:0.7659505639125385 \n",
      " precision:0.7100406204847196 \n",
      " recall:0.8314179914448062 \n",
      ", 'Test':  best_epoch_indx:72\n",
      " auc:0.8931082094231848 \n",
      " apur:0.8489004046908273 \n",
      " f1:0.7659505639125385 \n",
      " precision:0.7100406204847196 \n",
      " recall:0.8314179914448062 \n",
      "}\n",
      "=====Epoch 73\n",
      "Training...\n"
     ]
    },
    {
     "name": "stderr",
     "output_type": "stream",
     "text": [
      "Iteration: 100%|██████████| 267/267 [00:06<00:00, 43.23it/s]\n",
      "Iteration: 100%|██████████| 267/267 [00:07<00:00, 37.95it/s]\n",
      "Iteration:  58%|█████▊    | 154/267 [00:04<00:03, 35.08it/s]"
     ]
    },
    {
     "name": "stdout",
     "output_type": "stream",
     "text": [
      "Evaluating...\n",
      "Evaluating...\n"
     ]
    },
    {
     "name": "stderr",
     "output_type": "stream",
     "text": [
      "Iteration: 100%|██████████| 267/267 [00:02<00:00, 123.29it/s]\n",
      "Iteration: 100%|██████████| 267/267 [00:05<00:00, 45.10it/s]\n",
      "Iteration:  95%|█████████▌| 254/267 [00:07<00:00, 35.29it/s]"
     ]
    },
    {
     "name": "stdout",
     "output_type": "stream",
     "text": [
      "Evaluating...\n"
     ]
    },
    {
     "name": "stderr",
     "output_type": "stream",
     "text": [
      "Iteration: 100%|██████████| 267/267 [00:07<00:00, 36.29it/s]\n",
      "Iteration:   8%|▊         | 22/267 [00:00<00:03, 71.76it/s]s]"
     ]
    },
    {
     "name": "stdout",
     "output_type": "stream",
     "text": [
      "Evaluating...\n"
     ]
    },
    {
     "name": "stderr",
     "output_type": "stream",
     "text": [
      "Iteration: 100%|██████████| 267/267 [00:03<00:00, 79.10it/s] \n",
      "Iteration: 100%|██████████| 267/267 [00:02<00:00, 120.26it/s]\n",
      "Iteration: 100%|██████████| 267/267 [00:05<00:00, 45.11it/s]]\n",
      "Iteration:   4%|▍         | 12/267 [00:00<00:02, 116.40it/s]]"
     ]
    },
    {
     "name": "stdout",
     "output_type": "stream",
     "text": [
      "Evaluating...\n"
     ]
    },
    {
     "name": "stderr",
     "output_type": "stream",
     "text": [
      "Iteration: 100%|██████████| 267/267 [00:02<00:00, 100.37it/s]\n",
      "Iteration: 100%|██████████| 267/267 [00:03<00:00, 70.60it/s]]\n",
      "Iteration: 100%|██████████| 267/267 [00:02<00:00, 94.75it/s] \n",
      "Iteration: 100%|██████████| 267/267 [00:02<00:00, 92.03it/s] \n",
      "Iteration: 100%|██████████| 267/267 [00:03<00:00, 69.59it/s]]\n",
      "Iteration: 100%|██████████| 267/267 [00:02<00:00, 101.03it/s]\n",
      "Iteration: 100%|██████████| 267/267 [00:02<00:00, 124.06it/s]\n",
      "Iteration:   0%|          | 0/267 [00:00<?, ?it/s]3.41it/s]]"
     ]
    },
    {
     "name": "stdout",
     "output_type": "stream",
     "text": [
      "{'Train':  best_epoch_indx:74\n",
      " auc:0.8749026030422051 \n",
      " apur:0.822788874016101 \n",
      " f1:0.7461342842945251 \n",
      " precision:0.6881065343972396 \n",
      " recall:0.8148502841090468 \n",
      ", 'Validation':  best_epoch_indx:74\n",
      " auc:0.8749026027133053 \n",
      " apur:0.8227888738414382 \n",
      " f1:0.7461342842945251 \n",
      " precision:0.6881065343972396 \n",
      " recall:0.8148502841090468 \n",
      ", 'Test':  best_epoch_indx:74\n",
      " auc:0.8749026027133053 \n",
      " apur:0.8227888738414382 \n",
      " f1:0.7461342842945251 \n",
      " precision:0.6881065343972396 \n",
      " recall:0.8148502841090468 \n",
      "}\n",
      "=====Epoch 75\n",
      "Training...\n"
     ]
    },
    {
     "name": "stderr",
     "output_type": "stream",
     "text": [
      "Iteration: 100%|██████████| 267/267 [00:03<00:00, 83.80it/s] \n",
      "Iteration: 100%|██████████| 267/267 [00:02<00:00, 96.59it/s] \n",
      "Iteration:   0%|          | 0/267 [00:00<?, ?it/s]8.60it/s]"
     ]
    },
    {
     "name": "stdout",
     "output_type": "stream",
     "text": [
      "{'Train':  best_epoch_indx:73\n",
      " auc:0.882121598714128 \n",
      " apur:0.8340902234902089 \n",
      " f1:0.7524400255404542 \n",
      " precision:0.7183037269244166 \n",
      " recall:0.7899827619230032 \n",
      ", 'Validation':  best_epoch_indx:73\n",
      " auc:0.882121598714128 \n",
      " apur:0.8340902234902089 \n",
      " f1:0.7524400255404542 \n",
      " precision:0.7183037269244166 \n",
      " recall:0.7899827619230032 \n",
      ", 'Test':  best_epoch_indx:73\n",
      " auc:0.882121598714128 \n",
      " apur:0.8340902234902089 \n",
      " f1:0.7524400255404542 \n",
      " precision:0.7183037269244166 \n",
      " recall:0.7899827619230032 \n",
      "}\n",
      "=====Epoch 74\n",
      "Training...\n"
     ]
    },
    {
     "name": "stderr",
     "output_type": "stream",
     "text": [
      "Iteration: 100%|██████████| 267/267 [00:02<00:00, 98.02it/s] \n",
      "Iteration: 100%|██████████| 267/267 [00:03<00:00, 81.76it/s] \n",
      "Iteration:  67%|██████▋   | 178/267 [00:04<00:02, 37.91it/s]"
     ]
    },
    {
     "name": "stdout",
     "output_type": "stream",
     "text": [
      "{'Train':  best_epoch_indx:74\n",
      " auc:0.8746588196089111 \n",
      " apur:0.8239000216192518 \n",
      " f1:0.7466854008161313 \n",
      " precision:0.7021139034126047 \n",
      " recall:0.7972994541449867 \n",
      ", 'Validation':  best_epoch_indx:74\n",
      " auc:0.8746588196089111 \n",
      " apur:0.8239000216192518 \n",
      " f1:0.7466854008161313 \n",
      " precision:0.7021139034126047 \n",
      " recall:0.7972994541449867 \n",
      ", 'Test':  best_epoch_indx:74\n",
      " auc:0.8746588196089111 \n",
      " apur:0.8239000216192518 \n",
      " f1:0.7466854008161313 \n",
      " precision:0.7021139034126047 \n",
      " recall:0.7972994541449867 \n",
      "}\n",
      "=====Epoch 75\n",
      "Training...\n"
     ]
    },
    {
     "name": "stderr",
     "output_type": "stream",
     "text": [
      "Iteration:  79%|███████▉  | 211/267 [00:05<00:01, 36.66it/s]"
     ]
    },
    {
     "name": "stdout",
     "output_type": "stream",
     "text": [
      "{'Train':  best_epoch_indx:72\n",
      " auc:0.8931295197230551 \n",
      " apur:0.8492271999987834 \n",
      " f1:0.7651542111506525 \n",
      " precision:0.7144320762031345 \n",
      " recall:0.8236289344314627 \n",
      ", 'Validation':  best_epoch_indx:72\n",
      " auc:0.8931295190652688 \n",
      " apur:0.8492271989395075 \n",
      " f1:0.7651542111506525 \n",
      " precision:0.7144320762031345 \n",
      " recall:0.8236289344314627 \n",
      ", 'Test':  best_epoch_indx:72\n",
      " auc:0.8931295190652688 \n",
      " apur:0.8492271989395075 \n",
      " f1:0.7651542111506525 \n",
      " precision:0.7144320762031345 \n",
      " recall:0.8236289344314627 \n",
      "}\n",
      "=====Epoch 73\n",
      "Training...\n"
     ]
    },
    {
     "name": "stderr",
     "output_type": "stream",
     "text": [
      "Iteration: 100%|██████████| 267/267 [00:06<00:00, 39.58it/s]\n",
      "Iteration:  32%|███▏      | 86/267 [00:01<00:03, 45.26it/s]]"
     ]
    },
    {
     "name": "stdout",
     "output_type": "stream",
     "text": [
      "Evaluating...\n"
     ]
    },
    {
     "name": "stderr",
     "output_type": "stream",
     "text": [
      "Iteration: 100%|██████████| 267/267 [00:04<00:00, 63.39it/s]\n",
      "Iteration: 100%|██████████| 267/267 [00:06<00:00, 44.48it/s]]\n",
      "Iteration:   4%|▍         | 12/267 [00:00<00:02, 119.08it/s]]"
     ]
    },
    {
     "name": "stdout",
     "output_type": "stream",
     "text": [
      "Evaluating...\n"
     ]
    },
    {
     "name": "stderr",
     "output_type": "stream",
     "text": [
      "Iteration: 100%|██████████| 267/267 [00:02<00:00, 122.09it/s]\n",
      "Iteration:  70%|██████▉   | 186/267 [00:04<00:01, 44.75it/s]]"
     ]
    },
    {
     "name": "stdout",
     "output_type": "stream",
     "text": [
      "{'Train':  best_epoch_indx:73\n",
      " auc:0.8877996934821505 \n",
      " apur:0.8421519938390583 \n",
      " f1:0.7579988633396311 \n",
      " precision:0.7304970838144299 \n",
      " recall:0.787652429291962 \n",
      ", 'Validation':  best_epoch_indx:73\n",
      " auc:0.8877996934821505 \n",
      " apur:0.8421519938390583 \n",
      " f1:0.7579988633396311 \n",
      " precision:0.7304970838144299 \n",
      " recall:0.787652429291962 \n",
      ", 'Test':  best_epoch_indx:73\n",
      " auc:0.8877996934821505 \n",
      " apur:0.8421519938390583 \n",
      " f1:0.7579988633396311 \n",
      " precision:0.7304970838144299 \n",
      " recall:0.787652429291962 \n",
      "}\n",
      "=====Epoch 74\n",
      "Training...\n"
     ]
    },
    {
     "name": "stderr",
     "output_type": "stream",
     "text": [
      "Iteration: 100%|██████████| 267/267 [00:02<00:00, 122.90it/s]\n",
      "Iteration: 100%|██████████| 267/267 [00:06<00:00, 40.61it/s]\n",
      "Iteration:   3%|▎         | 7/267 [00:00<00:04, 62.18it/s]s]"
     ]
    },
    {
     "name": "stdout",
     "output_type": "stream",
     "text": [
      "Evaluating...\n",
      "Evaluating...\n"
     ]
    },
    {
     "name": "stderr",
     "output_type": "stream",
     "text": [
      "Iteration: 100%|██████████| 267/267 [00:05<00:00, 44.78it/s]\n",
      "Iteration: 100%|██████████| 267/267 [00:03<00:00, 87.41it/s]]\n",
      "Iteration: 100%|██████████| 267/267 [00:02<00:00, 124.43it/s]\n",
      "Iteration: 100%|██████████| 267/267 [00:02<00:00, 104.90it/s]\n",
      "Iteration: 100%|██████████| 267/267 [00:03<00:00, 83.84it/s]\n",
      "Iteration: 100%|██████████| 267/267 [00:06<00:00, 40.87it/s]]\n",
      "Iteration:   0%|          | 0/267 [00:00<?, ?it/s]"
     ]
    },
    {
     "name": "stdout",
     "output_type": "stream",
     "text": [
      "Evaluating...\n"
     ]
    },
    {
     "name": "stderr",
     "output_type": "stream",
     "text": [
      "Iteration: 100%|██████████| 267/267 [00:02<00:00, 119.14it/s]\n",
      "Iteration: 100%|██████████| 267/267 [00:02<00:00, 119.24it/s]\n",
      "Iteration: 100%|██████████| 267/267 [00:02<00:00, 118.96it/s]\n",
      "Iteration: 100%|██████████| 267/267 [00:02<00:00, 89.07it/s] \n",
      "Iteration:   0%|          | 0/267 [00:00<?, ?it/s]"
     ]
    },
    {
     "name": "stdout",
     "output_type": "stream",
     "text": [
      "{'Train':  best_epoch_indx:75\n",
      " auc:0.8843093064378058 \n",
      " apur:0.8378384818587181 \n",
      " f1:0.7575793996574622 \n",
      " precision:0.7155466000681121 \n",
      " recall:0.8048585839238971 \n",
      ", 'Validation':  best_epoch_indx:75\n",
      " auc:0.8843093067667058 \n",
      " apur:0.8378384821539226 \n",
      " f1:0.7575793996574622 \n",
      " precision:0.7155466000681121 \n",
      " recall:0.8048585839238971 \n",
      ", 'Test':  best_epoch_indx:75\n",
      " auc:0.8843093067667058 \n",
      " apur:0.8378384821539226 \n",
      " f1:0.7575793996574622 \n",
      " precision:0.7155466000681121 \n",
      " recall:0.8048585839238971 \n",
      "}\n",
      "=====Epoch 76\n",
      "Training...\n"
     ]
    },
    {
     "name": "stderr",
     "output_type": "stream",
     "text": [
      "Iteration: 100%|██████████| 267/267 [00:03<00:00, 68.45it/s]\n",
      "Iteration:  24%|██▍       | 64/267 [00:01<00:04, 45.18it/s]s]"
     ]
    },
    {
     "name": "stdout",
     "output_type": "stream",
     "text": [
      "{'Train':  best_epoch_indx:74\n",
      " auc:0.8761302638502839 \n",
      " apur:0.8272126604147446 \n",
      " f1:0.7449380522980114 \n",
      " precision:0.7048802028432238 \n",
      " recall:0.7898231500989593 \n",
      ", 'Validation':  best_epoch_indx:74\n",
      " auc:0.876130263850284 \n",
      " apur:0.8272126604147576 \n",
      " f1:0.7449380522980114 \n",
      " precision:0.7048802028432238 \n",
      " recall:0.7898231500989593 \n",
      ", 'Test':  best_epoch_indx:74\n",
      " auc:0.876130263850284 \n",
      " apur:0.8272126604147576 \n",
      " f1:0.7449380522980114 \n",
      " precision:0.7048802028432238 \n",
      " recall:0.7898231500989593 \n",
      "}\n",
      "=====Epoch 75\n",
      "Training...\n"
     ]
    },
    {
     "name": "stderr",
     "output_type": "stream",
     "text": [
      "Iteration: 100%|██████████| 267/267 [00:02<00:00, 106.15it/s]\n",
      "Iteration:   0%|          | 0/267 [00:00<?, ?it/s]45.70it/s]]"
     ]
    },
    {
     "name": "stdout",
     "output_type": "stream",
     "text": [
      "{'Train':  best_epoch_indx:75\n",
      " auc:0.8857738606338854 \n",
      " apur:0.8401865247186968 \n",
      " f1:0.757819271621443 \n",
      " precision:0.7019759403407545 \n",
      " recall:0.8233153509751971 \n",
      ", 'Validation':  best_epoch_indx:75\n",
      " auc:0.8857738606338854 \n",
      " apur:0.8401865247186968 \n",
      " f1:0.757819271621443 \n",
      " precision:0.7019759403407545 \n",
      " recall:0.8233153509751971 \n",
      ", 'Test':  best_epoch_indx:75\n",
      " auc:0.8857738606338854 \n",
      " apur:0.8401865247186968 \n",
      " f1:0.757819271621443 \n",
      " precision:0.7019759403407545 \n",
      " recall:0.8233153509751971 \n",
      "}\n",
      "=====Epoch 76\n",
      "Training...\n"
     ]
    },
    {
     "name": "stderr",
     "output_type": "stream",
     "text": [
      "Iteration: 100%|██████████| 267/267 [00:02<00:00, 106.30it/s]\n",
      "Iteration: 100%|██████████| 267/267 [00:03<00:00, 80.79it/s] \n",
      "Iteration:  95%|█████████▌| 254/267 [00:05<00:00, 45.52it/s]"
     ]
    },
    {
     "name": "stdout",
     "output_type": "stream",
     "text": [
      "{'Train':  best_epoch_indx:73\n",
      " auc:0.887504948032324 \n",
      " apur:0.8414030559395541 \n",
      " f1:0.7598291856869386 \n",
      " precision:0.7052263284495954 \n",
      " recall:0.8235970120666539 \n",
      ", 'Validation':  best_epoch_indx:73\n",
      " auc:0.8875049477034309 \n",
      " apur:0.8414030561433198 \n",
      " f1:0.7598291856869386 \n",
      " precision:0.7052263284495954 \n",
      " recall:0.8235970120666539 \n",
      ", 'Test':  best_epoch_indx:73\n",
      " auc:0.8875049480323239 \n",
      " apur:0.841403055939554 \n",
      " f1:0.7598291856869386 \n",
      " precision:0.7052263284495954 \n",
      " recall:0.8235970120666539 \n",
      "}\n",
      "=====Epoch 74\n",
      "Training...\n"
     ]
    },
    {
     "name": "stderr",
     "output_type": "stream",
     "text": [
      "Iteration: 100%|██████████| 267/267 [00:06<00:00, 44.41it/s]\n",
      "Iteration:   7%|▋         | 20/267 [00:00<00:06, 36.07it/s]]"
     ]
    },
    {
     "name": "stdout",
     "output_type": "stream",
     "text": [
      "Evaluating...\n"
     ]
    },
    {
     "name": "stderr",
     "output_type": "stream",
     "text": [
      "Iteration: 100%|██████████| 267/267 [00:03<00:00, 83.83it/s] \n",
      "Iteration: 100%|██████████| 267/267 [00:06<00:00, 40.57it/s]\n",
      "Iteration:  65%|██████▍   | 173/267 [00:02<00:01, 49.89it/s]"
     ]
    },
    {
     "name": "stdout",
     "output_type": "stream",
     "text": [
      "Evaluating...\n"
     ]
    },
    {
     "name": "stderr",
     "output_type": "stream",
     "text": [
      "Iteration:  83%|████████▎ | 221/267 [00:02<00:00, 81.03it/s]"
     ]
    },
    {
     "name": "stdout",
     "output_type": "stream",
     "text": [
      "{'Train':  best_epoch_indx:74\n",
      " auc:0.8800635895743465 \n",
      " apur:0.8322396766935951 \n",
      " f1:0.750434437974452 \n",
      " precision:0.7181409732757614 \n",
      " recall:0.7857690097682436 \n",
      ", 'Validation':  best_epoch_indx:74\n",
      " auc:0.8800635895743465 \n",
      " apur:0.8322396766935951 \n",
      " f1:0.750434437974452 \n",
      " precision:0.7181409732757614 \n",
      " recall:0.7857690097682436 \n",
      ", 'Test':  best_epoch_indx:74\n",
      " auc:0.8800635895743465 \n",
      " apur:0.8322396766935951 \n",
      " f1:0.750434437974452 \n",
      " precision:0.7181409732757614 \n",
      " recall:0.7857690097682436 \n",
      "}\n",
      "=====Epoch 75\n",
      "Training...\n"
     ]
    },
    {
     "name": "stderr",
     "output_type": "stream",
     "text": [
      "\r",
      "Iteration:  39%|███▊      | 103/267 [00:00<00:01, 128.15it/s]\r",
      "Iteration: 100%|█████████▉| 266/267 [00:06<00:00, 45.48it/s]\r",
      "Iteration:  43%|████▎     | 115/267 [00:03<00:04, 37.75it/s]\r",
      "Iteration: 100%|██████████| 267/267 [00:06<00:00, 43.61it/s]\n",
      "\r",
      "Iteration:   0%|          | 0/267 [00:00<?, ?it/s]\r",
      "Iteration:  88%|████████▊ | 234/267 [00:02<00:00, 93.57it/s]\r",
      "Iteration:   4%|▎         | 10/267 [00:00<00:07, 36.70it/s]\r",
      "Iteration:  43%|████▎     | 116/267 [00:00<00:01, 127.79it/s]\r",
      "Iteration:   4%|▍         | 12/267 [00:00<00:02, 117.69it/s]\r",
      "Iteration:  45%|████▍     | 119/267 [00:03<00:04, 35.89it/s]\r",
      "Iteration:  93%|█████████▎| 247/267 [00:02<00:00, 102.90it/s]\r",
      "Iteration:   5%|▌         | 14/267 [00:00<00:07, 35.39it/s]"
     ]
    },
    {
     "name": "stdout",
     "output_type": "stream",
     "text": [
      "Evaluating...\n"
     ]
    },
    {
     "name": "stderr",
     "output_type": "stream",
     "text": [
      "Iteration: 100%|██████████| 267/267 [00:03<00:00, 85.66it/s] \n",
      "Iteration: 100%|██████████| 267/267 [00:02<00:00, 127.69it/s]\n",
      "Iteration: 100%|██████████| 267/267 [00:02<00:00, 118.86it/s]\n",
      "Iteration: 100%|██████████| 267/267 [00:02<00:00, 106.54it/s]\n",
      "Iteration: 100%|██████████| 267/267 [00:07<00:00, 35.82it/s]]\n",
      "Iteration:  72%|███████▏  | 191/267 [00:04<00:01, 38.86it/s]]"
     ]
    },
    {
     "name": "stdout",
     "output_type": "stream",
     "text": [
      "Evaluating...\n"
     ]
    },
    {
     "name": "stderr",
     "output_type": "stream",
     "text": [
      "Iteration: 100%|██████████| 267/267 [00:02<00:00, 101.11it/s]\n",
      "Iteration: 100%|██████████| 267/267 [00:02<00:00, 100.75it/s]\n",
      "Iteration: 100%|██████████| 267/267 [00:06<00:00, 40.64it/s] \n",
      "Iteration:   0%|          | 0/267 [00:00<?, ?it/s]"
     ]
    },
    {
     "name": "stdout",
     "output_type": "stream",
     "text": [
      "Evaluating...\n"
     ]
    },
    {
     "name": "stderr",
     "output_type": "stream",
     "text": [
      "Iteration: 100%|██████████| 267/267 [00:02<00:00, 112.98it/s]\n",
      "Iteration: 100%|██████████| 267/267 [00:02<00:00, 109.65it/s]\n",
      "Iteration: 100%|██████████| 267/267 [00:02<00:00, 112.56it/s]\n",
      "Iteration:  32%|███▏      | 86/267 [00:01<00:02, 74.73it/s]s]"
     ]
    },
    {
     "name": "stdout",
     "output_type": "stream",
     "text": [
      "{'Train':  best_epoch_indx:76\n",
      " auc:0.8948871927144801 \n",
      " apur:0.8506612630701815 \n",
      " f1:0.7675630278240042 \n",
      " precision:0.7484152740286919 \n",
      " recall:0.7877162740215795 \n",
      ", 'Validation':  best_epoch_indx:76\n",
      " auc:0.8948871927144801 \n",
      " apur:0.8506612630701815 \n",
      " f1:0.7675630278240042 \n",
      " precision:0.7484152740286919 \n",
      " recall:0.7877162740215795 \n",
      ", 'Test':  best_epoch_indx:76\n",
      " auc:0.8948871927144801 \n",
      " apur:0.8506612630701815 \n",
      " f1:0.7675630278240042 \n",
      " precision:0.7484152740286919 \n",
      " recall:0.7877162740215795 \n",
      "}\n",
      "=====Epoch 77\n",
      "Training...\n"
     ]
    },
    {
     "name": "stderr",
     "output_type": "stream",
     "text": [
      "Iteration: 100%|██████████| 267/267 [00:02<00:00, 99.38it/s] \n",
      "Iteration:   1%|▏         | 4/267 [00:00<00:06, 39.47it/s]s]"
     ]
    },
    {
     "name": "stdout",
     "output_type": "stream",
     "text": [
      "{'Train':  best_epoch_indx:75\n",
      " auc:0.8819688186576692 \n",
      " apur:0.8343690746272483 \n",
      " f1:0.753490304298156 \n",
      " precision:0.7038946638946639 \n",
      " recall:0.8106046095894784 \n",
      ", 'Validation':  best_epoch_indx:75\n",
      " auc:0.8819688186576692 \n",
      " apur:0.8343690746272483 \n",
      " f1:0.753490304298156 \n",
      " precision:0.7038946638946639 \n",
      " recall:0.8106046095894784 \n",
      ", 'Test':  best_epoch_indx:75\n",
      " auc:0.8819688186576692 \n",
      " apur:0.8343690746272483 \n",
      " f1:0.753490304298156 \n",
      " precision:0.7038946638946639 \n",
      " recall:0.8106046095894784 \n",
      "}\n",
      "=====Epoch 76\n",
      "Training...\n"
     ]
    },
    {
     "name": "stderr",
     "output_type": "stream",
     "text": [
      "Iteration: 100%|██████████| 267/267 [00:02<00:00, 90.83it/s] \n",
      "Iteration: 100%|██████████| 267/267 [00:04<00:00, 66.22it/s]]\n",
      "Iteration: 100%|██████████| 267/267 [00:02<00:00, 120.75it/s]\n",
      "Iteration:  60%|██████    | 161/267 [00:03<00:02, 45.73it/s]"
     ]
    },
    {
     "name": "stdout",
     "output_type": "stream",
     "text": [
      "{'Train':  best_epoch_indx:76\n",
      " auc:0.8940584612048625 \n",
      " apur:0.8500066960066518 \n",
      " f1:0.7670846964740095 \n",
      " precision:0.7298325503645848 \n",
      " recall:0.8083442397931497 \n",
      ", 'Validation':  best_epoch_indx:76\n",
      " auc:0.8940584612048625 \n",
      " apur:0.8500066960066518 \n",
      " f1:0.7670846964740095 \n",
      " precision:0.7298325503645848 \n",
      " recall:0.8083442397931497 \n",
      ", 'Test':  best_epoch_indx:76\n",
      " auc:0.8940584612048625 \n",
      " apur:0.8500066960066518 \n",
      " f1:0.7670846964740095 \n",
      " precision:0.7298325503645848 \n",
      " recall:0.8083442397931497 \n",
      "}\n",
      "=====Epoch 77\n",
      "Training...\n"
     ]
    },
    {
     "name": "stderr",
     "output_type": "stream",
     "text": [
      "Iteration: 100%|██████████| 267/267 [00:02<00:00, 119.06it/s]\n",
      "Iteration: 100%|██████████| 267/267 [00:06<00:00, 43.59it/s]\n",
      "Iteration:  24%|██▎       | 63/267 [00:01<00:03, 61.99it/s]]"
     ]
    },
    {
     "name": "stdout",
     "output_type": "stream",
     "text": [
      "Evaluating...\n"
     ]
    },
    {
     "name": "stderr",
     "output_type": "stream",
     "text": [
      "\r",
      "Iteration:  10%|▉         | 26/267 [00:00<00:01, 124.38it/s]\r",
      "Iteration:  26%|██▌       | 70/267 [00:01<00:03, 62.31it/s]\r",
      "Iteration:  36%|███▌      | 95/267 [00:02<00:05, 33.92it/s]\r",
      "Iteration:  85%|████████▍ | 226/267 [00:05<00:01, 36.03it/s]\r",
      "Iteration:  15%|█▍        | 40/267 [00:00<00:01, 127.17it/s]\r",
      "Iteration:   0%|          | 0/267 [00:00<?, ?it/s]\r",
      "Iteration:  29%|██▉       | 77/267 [00:01<00:02, 63.63it/s]\r",
      "Iteration:  37%|███▋      | 99/267 [00:02<00:04, 34.76it/s]"
     ]
    },
    {
     "name": "stdout",
     "output_type": "stream",
     "text": [
      "{'Train':  best_epoch_indx:74\n",
      " auc:0.8800410603966276 \n",
      " apur:0.8311107796356605 \n",
      " f1:0.7499179286621658 \n",
      " precision:0.6781980121337292 \n",
      " recall:0.8386005235267828 \n",
      ", 'Validation':  best_epoch_indx:74\n",
      " auc:0.8800410603966276 \n",
      " apur:0.8311107796356605 \n",
      " f1:0.7499179286621658 \n",
      " precision:0.6781980121337292 \n",
      " recall:0.8386005235267828 \n",
      ", 'Test':  best_epoch_indx:74\n",
      " auc:0.8800410603966276 \n",
      " apur:0.8311107796356605 \n",
      " f1:0.7499179286621658 \n",
      " precision:0.6781980121337292 \n",
      " recall:0.8386005235267828 \n",
      "}\n",
      "=====Epoch 75\n",
      "Training...\n"
     ]
    },
    {
     "name": "stderr",
     "output_type": "stream",
     "text": [
      "Iteration: 100%|██████████| 267/267 [00:06<00:00, 41.79it/s]]\n",
      "Iteration:   0%|          | 0/267 [00:00<?, ?it/s]"
     ]
    },
    {
     "name": "stdout",
     "output_type": "stream",
     "text": [
      "Evaluating...\n"
     ]
    },
    {
     "name": "stderr",
     "output_type": "stream",
     "text": [
      "Iteration: 100%|██████████| 267/267 [00:02<00:00, 91.63it/s] \n",
      "Iteration: 100%|██████████| 267/267 [00:02<00:00, 123.35it/s]\n",
      "Iteration: 100%|██████████| 267/267 [00:02<00:00, 122.08it/s]\n",
      "Iteration:   2%|▏         | 5/267 [00:00<00:06, 41.69it/s]]]"
     ]
    },
    {
     "name": "stdout",
     "output_type": "stream",
     "text": [
      "{'Train':  best_epoch_indx:75\n",
      " auc:0.8850534136874444 \n",
      " apur:0.8369827022014857 \n",
      " f1:0.7566624556337604 \n",
      " precision:0.7153500540294603 \n",
      " recall:0.8030390091297963 \n",
      ", 'Validation':  best_epoch_indx:75\n",
      " auc:0.8850534136874444 \n",
      " apur:0.8369827022014857 \n",
      " f1:0.7566624556337604 \n",
      " precision:0.7153500540294603 \n",
      " recall:0.8030390091297963 \n",
      ", 'Test':  best_epoch_indx:75\n",
      " auc:0.8850534136874444 \n",
      " apur:0.8369827022014857 \n",
      " f1:0.7566624556337604 \n",
      " precision:0.7153500540294603 \n",
      " recall:0.8030390091297963 \n",
      "}\n",
      "=====Epoch 76\n",
      "Training...\n"
     ]
    },
    {
     "name": "stderr",
     "output_type": "stream",
     "text": [
      "Iteration: 100%|██████████| 267/267 [00:07<00:00, 37.24it/s]]\n",
      "Iteration:   4%|▍         | 12/267 [00:00<00:02, 119.05it/s]]"
     ]
    },
    {
     "name": "stdout",
     "output_type": "stream",
     "text": [
      "Evaluating...\n"
     ]
    },
    {
     "name": "stderr",
     "output_type": "stream",
     "text": [
      "Iteration: 100%|██████████| 267/267 [00:02<00:00, 98.25it/s] \n",
      "Iteration: 100%|██████████| 267/267 [00:06<00:00, 41.83it/s]]\n",
      "Iteration: 100%|██████████| 267/267 [00:02<00:00, 120.61it/s]\n",
      "Iteration:  72%|███████▏  | 191/267 [00:02<00:00, 93.68it/s]"
     ]
    },
    {
     "name": "stdout",
     "output_type": "stream",
     "text": [
      "Evaluating...\n"
     ]
    },
    {
     "name": "stderr",
     "output_type": "stream",
     "text": [
      "Iteration: 100%|██████████| 267/267 [00:03<00:00, 81.06it/s] \n",
      "Iteration: 100%|██████████| 267/267 [00:02<00:00, 111.25it/s]\n",
      "Iteration: 100%|██████████| 267/267 [00:02<00:00, 114.17it/s]\n",
      "Iteration: 100%|██████████| 267/267 [00:02<00:00, 116.97it/s]\n",
      "Iteration:  32%|███▏      | 85/267 [00:01<00:02, 66.39it/s]]"
     ]
    },
    {
     "name": "stdout",
     "output_type": "stream",
     "text": [
      "{'Train':  best_epoch_indx:77\n",
      " auc:0.9003267050679382 \n",
      " apur:0.8603836980853573 \n",
      " f1:0.7737963599414243 \n",
      " precision:0.7273850994493763 \n",
      " recall:0.8265338696290622 \n",
      ", 'Validation':  best_epoch_indx:77\n",
      " auc:0.9003267053968382 \n",
      " apur:0.8603836976584707 \n",
      " f1:0.7737963599414243 \n",
      " precision:0.7273850994493763 \n",
      " recall:0.8265338696290622 \n",
      ", 'Test':  best_epoch_indx:77\n",
      " auc:0.9003267053968382 \n",
      " apur:0.8603836976584707 \n",
      " f1:0.7737963599414243 \n",
      " precision:0.7273850994493763 \n",
      " recall:0.8265338696290622 \n",
      "}\n",
      "=====Epoch 78\n",
      "Training...\n",
      "Evaluating...\n"
     ]
    },
    {
     "name": "stderr",
     "output_type": "stream",
     "text": [
      "Iteration: 100%|██████████| 267/267 [00:06<00:00, 38.16it/s]\n",
      "Iteration: 100%|██████████| 267/267 [00:02<00:00, 94.71it/s] \n",
      "Iteration: 100%|██████████| 267/267 [00:02<00:00, 119.97it/s]\n",
      "Iteration:  33%|███▎      | 88/267 [00:02<00:05, 35.60it/s]"
     ]
    },
    {
     "name": "stdout",
     "output_type": "stream",
     "text": [
      "{'Train':  best_epoch_indx:76\n",
      " auc:0.8944280969222722 \n",
      " apur:0.8497570128310654 \n",
      " f1:0.7672149932904121 \n",
      " precision:0.7269765979941137 \n",
      " recall:0.8121688054651088 \n",
      ", 'Validation':  best_epoch_indx:76\n",
      " auc:0.8944280969222722 \n",
      " apur:0.8497570128310654 \n",
      " f1:0.7672149932904121 \n",
      " precision:0.7269765979941137 \n",
      " recall:0.8121688054651088 \n",
      ", 'Test':  best_epoch_indx:76\n",
      " auc:0.8944280969222722 \n",
      " apur:0.8497570128310654 \n",
      " f1:0.7672149932904121 \n",
      " precision:0.7269765979941137 \n",
      " recall:0.8121688054651088 \n",
      "}\n",
      "=====Epoch 77\n",
      "Training...\n"
     ]
    },
    {
     "name": "stderr",
     "output_type": "stream",
     "text": [
      "Iteration: 100%|██████████| 267/267 [00:03<00:00, 81.35it/s] \n",
      "Iteration: 100%|██████████| 267/267 [00:02<00:00, 124.25it/s]\n",
      "Iteration:  22%|██▏       | 58/267 [00:01<00:05, 40.37it/s]]"
     ]
    },
    {
     "name": "stdout",
     "output_type": "stream",
     "text": [
      "{'Train':  best_epoch_indx:77\n",
      " auc:0.902827894060833 \n",
      " apur:0.8624598596562284 \n",
      " f1:0.7783166904422253 \n",
      " precision:0.7348304411931496 \n",
      " recall:0.8272735978548855 \n",
      ", 'Validation':  best_epoch_indx:77\n",
      " auc:0.9028278940608327 \n",
      " apur:0.8624598596562197 \n",
      " f1:0.7783166904422253 \n",
      " precision:0.7348304411931496 \n",
      " recall:0.8272735978548855 \n",
      ", 'Test':  best_epoch_indx:77\n",
      " auc:0.902827894060833 \n",
      " apur:0.8624598596562284 \n",
      " f1:0.7783166904422253 \n",
      " precision:0.7348304411931496 \n",
      " recall:0.8272735978548855 \n",
      "}\n",
      "=====Epoch 78\n",
      "Training...\n"
     ]
    },
    {
     "name": "stderr",
     "output_type": "stream",
     "text": [
      "Iteration: 100%|██████████| 267/267 [00:02<00:00, 111.79it/s]\n",
      "Iteration: 100%|██████████| 267/267 [00:06<00:00, 40.76it/s]\n",
      "Iteration:  69%|██████▊   | 183/267 [00:04<00:01, 45.58it/s]"
     ]
    },
    {
     "name": "stdout",
     "output_type": "stream",
     "text": [
      "Evaluating...\n"
     ]
    },
    {
     "name": "stderr",
     "output_type": "stream",
     "text": [
      "Iteration: 100%|██████████| 267/267 [00:03<00:00, 81.98it/s] \n",
      "Iteration: 100%|██████████| 267/267 [00:06<00:00, 43.15it/s]]\n",
      "Iteration:  42%|████▏     | 113/267 [00:01<00:01, 80.29it/s]]"
     ]
    },
    {
     "name": "stdout",
     "output_type": "stream",
     "text": [
      "Evaluating...\n",
      "{'Train':  best_epoch_indx:75\n",
      " auc:0.8839046130928478 \n",
      " apur:0.8374930915200329 \n",
      " f1:0.7554273110449746 \n",
      " precision:0.7170677144577968 \n",
      " recall:0.7981229649492434 \n",
      ", 'Validation':  best_epoch_indx:75\n",
      " auc:0.8839046130928478 \n",
      " apur:0.8374930915200329 \n",
      " f1:0.7554273110449746 \n",
      " precision:0.7170677144577968 \n",
      " recall:0.7981229649492434 \n",
      ", 'Test':  best_epoch_indx:75\n",
      " auc:0.8839046130928478 \n",
      " apur:0.8374930915200328 \n",
      " f1:0.7554273110449746 \n",
      " precision:0.7170677144577968 \n",
      " recall:0.7981229649492434 \n",
      "}\n",
      "=====Epoch 76\n",
      "Training...\n"
     ]
    },
    {
     "name": "stderr",
     "output_type": "stream",
     "text": [
      "Iteration: 100%|██████████| 267/267 [00:02<00:00, 122.71it/s]\n",
      "Iteration: 100%|██████████| 267/267 [00:03<00:00, 85.30it/s] \n",
      "Iteration: 100%|██████████| 267/267 [00:02<00:00, 126.95it/s]\n",
      "Iteration: 100%|██████████| 267/267 [00:06<00:00, 38.22it/s]\n",
      "Iteration:   0%|          | 0/267 [00:00<?, ?it/s]8.36it/s]]"
     ]
    },
    {
     "name": "stdout",
     "output_type": "stream",
     "text": [
      "Evaluating...\n",
      "{'Train':  best_epoch_indx:76\n",
      " auc:0.8983227790220243 \n",
      " apur:0.8561388128141902 \n",
      " f1:0.7707981111175888 \n",
      " precision:0.7091937992812316 \n",
      " recall:0.8441230926387027 \n",
      ", 'Validation':  best_epoch_indx:76\n",
      " auc:0.8983227790220243 \n",
      " apur:0.8561388128141902 \n",
      " f1:0.7707981111175888 \n",
      " precision:0.7091937992812316 \n",
      " recall:0.8441230926387027 \n",
      ", 'Test':  best_epoch_indx:76\n",
      " auc:0.8983227790220243 \n",
      " apur:0.8561388128141902 \n",
      " f1:0.7707981111175888 \n",
      " precision:0.7091937992812316 \n",
      " recall:0.8441230926387027 \n",
      "}\n",
      "=====Epoch 77\n",
      "Training...\n"
     ]
    },
    {
     "name": "stderr",
     "output_type": "stream",
     "text": [
      "Iteration: 100%|██████████| 267/267 [00:02<00:00, 89.65it/s] \n",
      "Iteration: 100%|██████████| 267/267 [00:02<00:00, 121.91it/s]\n",
      "Iteration: 100%|██████████| 267/267 [00:03<00:00, 84.28it/s] \n",
      "Iteration: 100%|██████████| 267/267 [00:07<00:00, 36.59it/s]]\n",
      "Iteration:  83%|████████▎ | 221/267 [00:04<00:01, 45.56it/s]"
     ]
    },
    {
     "name": "stdout",
     "output_type": "stream",
     "text": [
      "Evaluating...\n"
     ]
    },
    {
     "name": "stderr",
     "output_type": "stream",
     "text": [
      "Iteration: 100%|██████████| 267/267 [00:02<00:00, 127.00it/s]\n",
      "Iteration: 100%|██████████| 267/267 [00:05<00:00, 45.13it/s]]\n",
      "Iteration:  42%|████▏     | 111/267 [00:01<00:01, 94.41it/s]"
     ]
    },
    {
     "name": "stdout",
     "output_type": "stream",
     "text": [
      "Evaluating...\n"
     ]
    },
    {
     "name": "stderr",
     "output_type": "stream",
     "text": [
      "Iteration: 100%|██████████| 267/267 [00:03<00:00, 82.41it/s] \n",
      "Iteration:  58%|█████▊    | 155/267 [00:01<00:00, 122.88it/s]"
     ]
    },
    {
     "name": "stdout",
     "output_type": "stream",
     "text": [
      "{'Train':  best_epoch_indx:78\n",
      " auc:0.9088861742062669 \n",
      " apur:0.8709965863978611 \n",
      " f1:0.7874438923333283 \n",
      " precision:0.7432482217247145 \n",
      " recall:0.8372278618400051 \n",
      ", 'Validation':  best_epoch_indx:78\n",
      " auc:0.9088861742062669 \n",
      " apur:0.8709965863978611 \n",
      " f1:0.7874438923333283 \n",
      " precision:0.7432482217247145 \n",
      " recall:0.8372278618400051 \n",
      ", 'Test':  best_epoch_indx:78\n",
      " auc:0.9088861742062669 \n",
      " apur:0.8709965863978611 \n",
      " f1:0.7874438923333283 \n",
      " precision:0.7432482217247145 \n",
      " recall:0.8372278618400051 \n",
      "}\n",
      "=====Epoch 79\n",
      "Training...\n"
     ]
    },
    {
     "name": "stderr",
     "output_type": "stream",
     "text": [
      "Iteration: 100%|██████████| 267/267 [00:02<00:00, 110.18it/s]\n",
      "Iteration: 100%|██████████| 267/267 [00:02<00:00, 122.99it/s]\n",
      "Iteration: 100%|██████████| 267/267 [00:03<00:00, 88.56it/s] \n",
      "Iteration:  28%|██▊       | 76/267 [00:01<00:04, 44.80it/s]]"
     ]
    },
    {
     "name": "stdout",
     "output_type": "stream",
     "text": [
      "{'Train':  best_epoch_indx:77\n",
      " auc:0.9006655977509185 \n",
      " apur:0.8591939173957416 \n",
      " f1:0.7761978731031186 \n",
      " precision:0.7293549654746534 \n",
      " recall:0.8294707271914703 \n",
      ", 'Validation':  best_epoch_indx:77\n",
      " auc:0.9006655980798116 \n",
      " apur:0.8591939177352401 \n",
      " f1:0.7761978731031186 \n",
      " precision:0.7293549654746534 \n",
      " recall:0.8294707271914703 \n",
      ", 'Test':  best_epoch_indx:77\n",
      " auc:0.9006655980798116 \n",
      " apur:0.8591939177352446 \n",
      " f1:0.7761978731031186 \n",
      " precision:0.7293549654746534 \n",
      " recall:0.8294707271914703 \n",
      "}\n",
      "=====Epoch 78\n",
      "Training...\n"
     ]
    },
    {
     "name": "stderr",
     "output_type": "stream",
     "text": [
      "Iteration: 100%|██████████| 267/267 [00:03<00:00, 67.54it/s] \n",
      "Iteration:  66%|██████▌   | 176/267 [00:04<00:01, 45.66it/s]]"
     ]
    },
    {
     "name": "stdout",
     "output_type": "stream",
     "text": [
      "{'Train':  best_epoch_indx:78\n",
      " auc:0.9111094961472987 \n",
      " apur:0.873656121029845 \n",
      " f1:0.7887470463225787 \n",
      " precision:0.7379178021244647 \n",
      " recall:0.8470967535991317 \n",
      ", 'Validation':  best_epoch_indx:78\n",
      " auc:0.9111094961472985 \n",
      " apur:0.873656121029845 \n",
      " f1:0.7887470463225787 \n",
      " precision:0.7379178021244647 \n",
      " recall:0.8470967535991317 \n",
      ", 'Test':  best_epoch_indx:78\n",
      " auc:0.9111094961472987 \n",
      " apur:0.873656121029845 \n",
      " f1:0.7887470463225787 \n",
      " precision:0.7379178021244647 \n",
      " recall:0.8470967535991317 \n",
      "}\n",
      "=====Epoch 79\n",
      "Training...\n"
     ]
    },
    {
     "name": "stderr",
     "output_type": "stream",
     "text": [
      "Iteration: 100%|██████████| 267/267 [00:03<00:00, 82.03it/s] \n",
      "Iteration: 100%|██████████| 267/267 [00:02<00:00, 90.19it/s] \n",
      "Iteration: 100%|██████████| 267/267 [00:06<00:00, 43.39it/s]\n",
      "Iteration:   0%|          | 0/267 [00:00<?, ?it/s]6.91it/s]]"
     ]
    },
    {
     "name": "stdout",
     "output_type": "stream",
     "text": [
      "Evaluating...\n"
     ]
    },
    {
     "name": "stderr",
     "output_type": "stream",
     "text": [
      "Iteration: 100%|██████████| 267/267 [00:02<00:00, 120.45it/s]\n",
      "Iteration: 100%|██████████| 267/267 [00:06<00:00, 42.90it/s]]\n",
      "Iteration:  45%|████▍     | 120/267 [00:01<00:02, 62.72it/s]]"
     ]
    },
    {
     "name": "stdout",
     "output_type": "stream",
     "text": [
      "Evaluating...\n"
     ]
    },
    {
     "name": "stderr",
     "output_type": "stream",
     "text": [
      "\r",
      "Iteration:  55%|█████▌    | 147/267 [00:04<00:03, 36.87it/s]\r",
      "Iteration:  97%|█████████▋| 259/267 [00:02<00:00, 116.03it/s]\r",
      "Iteration:   9%|▉         | 25/267 [00:00<00:01, 123.53it/s]\r",
      "Iteration:  48%|████▊     | 127/267 [00:01<00:02, 63.24it/s]\r",
      "Iteration: 100%|██████████| 267/267 [00:02<00:00, 122.20it/s]\n",
      "\r",
      "Iteration:  57%|█████▋    | 151/267 [00:04<00:03, 35.97it/s]\r",
      "Iteration:  14%|█▍        | 38/267 [00:00<00:01, 125.13it/s]\r",
      "Iteration:  51%|█████     | 135/267 [00:02<00:02, 64.90it/s]"
     ]
    },
    {
     "name": "stdout",
     "output_type": "stream",
     "text": [
      "{'Train':  best_epoch_indx:76\n",
      " auc:0.893749160911465 \n",
      " apur:0.8486470096985997 \n",
      " f1:0.7671867802855826 \n",
      " precision:0.6986053583599853 \n",
      " recall:0.8506990997893124 \n",
      ", 'Validation':  best_epoch_indx:76\n",
      " auc:0.8937491609114648 \n",
      " apur:0.8486470096985892 \n",
      " f1:0.7671867802855826 \n",
      " precision:0.6986053583599853 \n",
      " recall:0.8506990997893124 \n",
      ", 'Test':  best_epoch_indx:76\n",
      " auc:0.893749160911465 \n",
      " apur:0.8486470096985996 \n",
      " f1:0.7671867802855826 \n",
      " precision:0.6986053583599853 \n",
      " recall:0.8506990997893124 \n",
      "}\n",
      "=====Epoch 77\n",
      "Training...\n"
     ]
    },
    {
     "name": "stderr",
     "output_type": "stream",
     "text": [
      "Iteration: 100%|██████████| 267/267 [00:03<00:00, 74.86it/s] \n",
      "Iteration: 100%|██████████| 267/267 [00:02<00:00, 119.49it/s]\n",
      "Iteration:   2%|▏         | 5/267 [00:00<00:06, 41.46it/s]s]"
     ]
    },
    {
     "name": "stdout",
     "output_type": "stream",
     "text": [
      "{'Train':  best_epoch_indx:77\n",
      " auc:0.9032799960148681 \n",
      " apur:0.8636033068860474 \n",
      " f1:0.7778620857108169 \n",
      " precision:0.7413653456754411 \n",
      " recall:0.8181382876843517 \n",
      ", 'Validation':  best_epoch_indx:77\n",
      " auc:0.9032799960148681 \n",
      " apur:0.8636033068860474 \n",
      " f1:0.7778620857108169 \n",
      " precision:0.7413653456754411 \n",
      " recall:0.8181382876843517 \n",
      ", 'Test':  best_epoch_indx:77\n",
      " auc:0.9032799960148681 \n",
      " apur:0.8636033068860474 \n",
      " f1:0.7778620857108169 \n",
      " precision:0.7413653456754411 \n",
      " recall:0.8181382876843517 \n",
      "}\n",
      "=====Epoch 78\n",
      "Training...\n"
     ]
    },
    {
     "name": "stderr",
     "output_type": "stream",
     "text": [
      "\r",
      "Iteration:  99%|█████████▉| 264/267 [00:06<00:00, 45.50it/s]\r",
      "Iteration:  34%|███▎      | 90/267 [00:02<00:04, 37.31it/s]\r",
      "Iteration:  48%|████▊     | 127/267 [00:01<00:01, 71.19it/s]\r",
      "Iteration:   4%|▎         | 10/267 [00:00<00:05, 43.78it/s]\r",
      "Iteration: 100%|██████████| 267/267 [00:06<00:00, 38.83it/s]\n",
      "\r",
      "Iteration:   0%|          | 0/267 [00:00<?, ?it/s]\r",
      "Iteration:  36%|███▌      | 95/267 [00:02<00:04, 38.55it/s]\r",
      "Iteration:  51%|█████     | 135/267 [00:01<00:01, 69.63it/s]\r",
      "Iteration:   6%|▌         | 15/267 [00:00<00:05, 44.58it/s]\r",
      "Iteration:   4%|▍         | 12/267 [00:00<00:02, 119.90it/s]"
     ]
    },
    {
     "name": "stdout",
     "output_type": "stream",
     "text": [
      "Evaluating...\n"
     ]
    },
    {
     "name": "stderr",
     "output_type": "stream",
     "text": [
      "Iteration: 100%|██████████| 267/267 [00:03<00:00, 67.25it/s]]\n",
      "Iteration: 100%|██████████| 267/267 [00:02<00:00, 121.51it/s]\n",
      "Iteration: 100%|██████████| 267/267 [00:02<00:00, 125.14it/s]\n",
      "Iteration: 100%|██████████| 267/267 [00:06<00:00, 39.80it/s]]\n",
      "Iteration:  75%|███████▍  | 200/267 [00:04<00:01, 43.22it/s]"
     ]
    },
    {
     "name": "stdout",
     "output_type": "stream",
     "text": [
      "Evaluating...\n"
     ]
    },
    {
     "name": "stderr",
     "output_type": "stream",
     "text": [
      "Iteration: 100%|██████████| 267/267 [00:02<00:00, 121.27it/s]\n",
      "Iteration: 100%|██████████| 267/267 [00:05<00:00, 44.84it/s]]\n",
      "Iteration:   0%|          | 0/267 [00:00<?, ?it/s]"
     ]
    },
    {
     "name": "stdout",
     "output_type": "stream",
     "text": [
      "Evaluating...\n"
     ]
    },
    {
     "name": "stderr",
     "output_type": "stream",
     "text": [
      "Iteration: 100%|██████████| 267/267 [00:02<00:00, 120.98it/s]\n",
      "Iteration: 100%|██████████| 267/267 [00:03<00:00, 82.59it/s] \n",
      "Iteration: 100%|██████████| 267/267 [00:02<00:00, 116.97it/s]\n",
      "Iteration:   2%|▏         | 5/267 [00:00<00:06, 41.02it/s]s]]"
     ]
    },
    {
     "name": "stdout",
     "output_type": "stream",
     "text": [
      "{'Train':  best_epoch_indx:78\n",
      " auc:0.9103992632057718 \n",
      " apur:0.8723598047514773 \n",
      " f1:0.7870062528595394 \n",
      " precision:0.7534750613246116 \n",
      " recall:0.8236608567962714 \n",
      ", 'Validation':  best_epoch_indx:78\n",
      " auc:0.9103992632057718 \n",
      " apur:0.8723598047514775 \n",
      " f1:0.7870062528595394 \n",
      " precision:0.7534750613246116 \n",
      " recall:0.8236608567962714 \n",
      ", 'Test':  best_epoch_indx:78\n",
      " auc:0.9103992632057718 \n",
      " apur:0.8723598047514775 \n",
      " f1:0.7870062528595394 \n",
      " precision:0.7534750613246116 \n",
      " recall:0.8236608567962714 \n",
      "}\n",
      "=====Epoch 79\n",
      "Training...\n"
     ]
    },
    {
     "name": "stderr",
     "output_type": "stream",
     "text": [
      "Iteration: 100%|██████████| 267/267 [00:03<00:00, 69.68it/s]]\n",
      "Iteration: 100%|██████████| 267/267 [00:02<00:00, 112.64it/s]\n",
      "Iteration: 100%|██████████| 267/267 [00:02<00:00, 107.82it/s]\n",
      "Iteration:   0%|          | 0/267 [00:00<?, ?it/s]2.89it/s]s]"
     ]
    },
    {
     "name": "stdout",
     "output_type": "stream",
     "text": [
      "{'Train':  best_epoch_indx:79\n",
      " auc:0.9192192091307102 \n",
      " apur:0.8841486971471368 \n",
      " f1:0.8006934999327425 \n",
      " precision:0.7528386734120293 \n",
      " recall:0.8550451687043126 \n",
      ", 'Validation':  best_epoch_indx:79\n",
      " auc:0.9192192091307102 \n",
      " apur:0.8841486971471435 \n",
      " f1:0.8006934999327425 \n",
      " precision:0.7528386734120293 \n",
      " recall:0.8550451687043126 \n",
      ", 'Test':  best_epoch_indx:79\n",
      " auc:0.9192192091307102 \n",
      " apur:0.8841486971471368 \n",
      " f1:0.8006934999327425 \n",
      " precision:0.7528386734120293 \n",
      " recall:0.8550451687043126 \n",
      "}\n",
      "=====Epoch 80\n",
      "Training...\n",
      "{'Train':  best_epoch_indx:79\n",
      " auc:0.9167551515887916 \n",
      " apur:0.8810065434514239 \n",
      " f1:0.7968200580950925 \n",
      " precision:0.7645816218753667 \n",
      " recall:0.831896826916938 \n",
      ", 'Validation':  best_epoch_indx:79\n",
      " auc:0.9167551515887916 \n",
      " apur:0.8810065434514239 \n",
      " f1:0.7968200580950925 \n",
      " precision:0.7645816218753667 \n",
      " recall:0.831896826916938 \n",
      ", 'Test':  best_epoch_indx:79\n",
      " auc:0.9167551515887916 \n",
      " apur:0.8810065434514239 \n",
      " f1:0.7968200580950925 \n",
      " precision:0.7645816218753667 \n",
      " recall:0.831896826916938 \n",
      "}\n",
      "=====Epoch 80\n",
      "Training...\n"
     ]
    },
    {
     "name": "stderr",
     "output_type": "stream",
     "text": [
      "Iteration: 100%|██████████| 267/267 [00:02<00:00, 124.15it/s]\n",
      "Iteration: 100%|██████████| 267/267 [00:02<00:00, 123.16it/s]\n",
      "Iteration: 100%|██████████| 267/267 [00:06<00:00, 41.41it/s]]\n",
      "Iteration: 100%|██████████| 267/267 [00:02<00:00, 119.80it/s]\n"
     ]
    },
    {
     "name": "stdout",
     "output_type": "stream",
     "text": [
      "Evaluating...\n"
     ]
    },
    {
     "name": "stderr",
     "output_type": "stream",
     "text": [
      "\r",
      "Iteration:   5%|▍         | 13/267 [00:00<00:02, 121.24it/s]\r",
      "Iteration:  63%|██████▎   | 168/267 [00:04<00:02, 36.57it/s]\r",
      "Iteration:  67%|██████▋   | 178/267 [00:04<00:01, 45.26it/s]\r",
      "Iteration:  10%|▉         | 26/267 [00:00<00:01, 124.77it/s]\r",
      "Iteration:   0%|          | 0/267 [00:00<?, ?it/s]\r",
      "Iteration:  65%|██████▍   | 173/267 [00:04<00:02, 38.25it/s]\r",
      "Iteration:  69%|██████▊   | 183/267 [00:04<00:01, 45.41it/s]"
     ]
    },
    {
     "name": "stdout",
     "output_type": "stream",
     "text": [
      "{'Train':  best_epoch_indx:77\n",
      " auc:0.9036877356510877 \n",
      " apur:0.8634320720433141 \n",
      " f1:0.7776457645764575 \n",
      " precision:0.7193682325164862 \n",
      " recall:0.8461980463512737 \n",
      ", 'Validation':  best_epoch_indx:77\n",
      " auc:0.9036877356510877 \n",
      " apur:0.8634320720433141 \n",
      " f1:0.7776457645764575 \n",
      " precision:0.7193682325164862 \n",
      " recall:0.8461980463512737 \n",
      ", 'Test':  best_epoch_indx:77\n",
      " auc:0.9036877356510877 \n",
      " apur:0.8634320720433141 \n",
      " f1:0.7776457645764575 \n",
      " precision:0.7193682325164862 \n",
      " recall:0.8461980463512737 \n",
      "}\n",
      "=====Epoch 78\n",
      "Training...\n"
     ]
    },
    {
     "name": "stderr",
     "output_type": "stream",
     "text": [
      "Iteration:  75%|███████▍  | 199/267 [00:05<00:01, 36.80it/s]]"
     ]
    },
    {
     "name": "stdout",
     "output_type": "stream",
     "text": [
      "{'Train':  best_epoch_indx:78\n",
      " auc:0.9097215161435405 \n",
      " apur:0.8712469408140897 \n",
      " f1:0.7865749489757351 \n",
      " precision:0.7471208248370143 \n",
      " recall:0.8304283981357339 \n",
      ", 'Validation':  best_epoch_indx:78\n",
      " auc:0.9097215161435405 \n",
      " apur:0.8712469408140897 \n",
      " f1:0.7865749489757351 \n",
      " precision:0.7471208248370143 \n",
      " recall:0.8304283981357339 \n",
      ", 'Test':  best_epoch_indx:78\n",
      " auc:0.9097215161435405 \n",
      " apur:0.8712469408140897 \n",
      " f1:0.7865749489757351 \n",
      " precision:0.7471208248370143 \n",
      " recall:0.8304283981357339 \n",
      "}\n",
      "=====Epoch 79\n",
      "Training...\n"
     ]
    },
    {
     "name": "stderr",
     "output_type": "stream",
     "text": [
      "Iteration: 100%|██████████| 267/267 [00:02<00:00, 123.11it/s]\n",
      "Iteration: 100%|██████████| 267/267 [00:06<00:00, 40.09it/s]\n",
      "Iteration: 100%|██████████| 267/267 [00:06<00:00, 38.91it/s]\n",
      "Iteration:   0%|          | 0/267 [00:00<?, ?it/s]"
     ]
    },
    {
     "name": "stdout",
     "output_type": "stream",
     "text": [
      "Evaluating...\n",
      "Evaluating...\n"
     ]
    },
    {
     "name": "stderr",
     "output_type": "stream",
     "text": [
      "Iteration: 100%|██████████| 267/267 [00:02<00:00, 121.74it/s]\n",
      "Iteration: 100%|██████████| 267/267 [00:03<00:00, 82.45it/s]\n",
      "Iteration: 100%|██████████| 267/267 [00:03<00:00, 73.07it/s]\n",
      "Iteration: 100%|██████████| 267/267 [00:05<00:00, 44.98it/s]\n",
      "Iteration:   0%|          | 0/267 [00:00<?, ?it/s]"
     ]
    },
    {
     "name": "stdout",
     "output_type": "stream",
     "text": [
      "Evaluating...\n",
      "Evaluating...\n"
     ]
    },
    {
     "name": "stderr",
     "output_type": "stream",
     "text": [
      "Iteration: 100%|██████████| 267/267 [00:06<00:00, 40.22it/s]\n",
      "Iteration: 100%|██████████| 267/267 [00:02<00:00, 125.67it/s]\n",
      "Iteration:  45%|████▍     | 120/267 [00:01<00:01, 73.77it/s]]\n",
      "Iteration: 100%|██████████| 267/267 [00:02<00:00, 109.98it/s]\n",
      "Iteration: 100%|██████████| 267/267 [00:03<00:00, 83.40it/s] \n",
      "Iteration: 100%|██████████| 267/267 [00:03<00:00, 87.15it/s] \n",
      "Iteration:   9%|▊         | 23/267 [00:00<00:05, 45.63it/s]s]"
     ]
    },
    {
     "name": "stdout",
     "output_type": "stream",
     "text": [
      "{'Train':  best_epoch_indx:79\n",
      " auc:0.917556964187185 \n",
      " apur:0.8826213321619553 \n",
      " f1:0.7961538461538462 \n",
      " precision:0.7573025292389238 \n",
      " recall:0.8392070484581498 \n",
      ", 'Validation':  best_epoch_indx:79\n",
      " auc:0.917556964187185 \n",
      " apur:0.8826213321619553 \n",
      " f1:0.7961538461538462 \n",
      " precision:0.7573025292389238 \n",
      " recall:0.8392070484581498 \n",
      ", 'Test':  best_epoch_indx:79\n",
      " auc:0.917556964187185 \n",
      " apur:0.8826213321619553 \n",
      " f1:0.7961538461538462 \n",
      " precision:0.7573025292389238 \n",
      " recall:0.8392070484581498 \n",
      "}\n",
      "=====Epoch 80\n",
      "Training...\n"
     ]
    },
    {
     "name": "stderr",
     "output_type": "stream",
     "text": [
      "Iteration: 100%|██████████| 267/267 [00:02<00:00, 125.61it/s]\n",
      "Iteration: 100%|██████████| 267/267 [00:02<00:00, 106.27it/s]\n",
      "Iteration: 100%|██████████| 267/267 [00:03<00:00, 78.81it/s] \n",
      "Iteration:  61%|██████    | 163/267 [00:03<00:02, 43.64it/s]]"
     ]
    },
    {
     "name": "stdout",
     "output_type": "stream",
     "text": [
      "{'Train':  best_epoch_indx:80\n",
      " auc:0.915557595212829 \n",
      " apur:0.879437610975667 \n",
      " f1:0.7954459087661696 \n",
      " precision:0.7592640956443516 \n",
      " recall:0.8352486752218604 \n",
      ", 'Validation':  best_epoch_indx:80\n",
      " auc:0.915557595212829 \n",
      " apur:0.8794376109756671 \n",
      " f1:0.7954459087661696 \n",
      " precision:0.7592640956443516 \n",
      " recall:0.8352486752218604 \n",
      ", 'Test':  best_epoch_indx:80\n",
      " auc:0.915557595212829 \n",
      " apur:0.879437610975667 \n",
      " f1:0.7954459087661696 \n",
      " precision:0.7592640956443516 \n",
      " recall:0.8352486752218604 \n",
      "}\n",
      "=====Epoch 81\n",
      "Training...\n"
     ]
    },
    {
     "name": "stderr",
     "output_type": "stream",
     "text": [
      "Iteration: 100%|██████████| 267/267 [00:02<00:00, 90.47it/s] \n",
      "Iteration:  84%|████████▎ | 223/267 [00:05<00:00, 45.60it/s]]"
     ]
    },
    {
     "name": "stdout",
     "output_type": "stream",
     "text": [
      "{'Train':  best_epoch_indx:80\n",
      " auc:0.9180800905546663 \n",
      " apur:0.8829933304252232 \n",
      " f1:0.7974531475252282 \n",
      " precision:0.7529278321281724 \n",
      " recall:0.8475755737861909 \n",
      ", 'Validation':  best_epoch_indx:80\n",
      " auc:0.9180800905546663 \n",
      " apur:0.8829933304252232 \n",
      " f1:0.7974531475252282 \n",
      " precision:0.7529278321281724 \n",
      " recall:0.8475755737861909 \n",
      ", 'Test':  best_epoch_indx:80\n",
      " auc:0.9180800905546664 \n",
      " apur:0.8829933304252339 \n",
      " f1:0.7974531475252282 \n",
      " precision:0.7529278321281724 \n",
      " recall:0.8475755737861909 \n",
      "}\n",
      "=====Epoch 81\n",
      "Training...\n"
     ]
    },
    {
     "name": "stderr",
     "output_type": "stream",
     "text": [
      "Iteration: 100%|██████████| 267/267 [00:02<00:00, 117.06it/s]\n",
      "Iteration: 100%|██████████| 267/267 [00:06<00:00, 44.10it/s]\n",
      "Iteration:  74%|███████▍  | 198/267 [00:03<00:01, 62.80it/s]"
     ]
    },
    {
     "name": "stdout",
     "output_type": "stream",
     "text": [
      "Evaluating...\n"
     ]
    },
    {
     "name": "stderr",
     "output_type": "stream",
     "text": [
      "Iteration:   0%|          | 0/267 [00:00<?, ?it/s]5.60it/s]]"
     ]
    },
    {
     "name": "stdout",
     "output_type": "stream",
     "text": [
      "{'Train':  best_epoch_indx:79\n",
      " auc:0.9178980510044534 \n",
      " apur:0.8823218076254671 \n",
      " f1:0.7984262137526091 \n",
      " precision:0.7538352474124486 \n",
      " recall:0.8486241460767414 \n",
      ", 'Validation':  best_epoch_indx:79\n",
      " auc:0.9178980510044534 \n",
      " apur:0.8823218076254671 \n",
      " f1:0.7984262137526091 \n",
      " precision:0.7538352474124486 \n",
      " recall:0.8486241460767414 \n",
      ", 'Test':  best_epoch_indx:79\n",
      " auc:0.9178980510044534 \n",
      " apur:0.8823218076254671 \n",
      " f1:0.7984262137526091 \n",
      " precision:0.7538352474124486 \n",
      " recall:0.8486241460767414 \n",
      "}\n",
      "=====Epoch 80\n",
      "Training...\n"
     ]
    },
    {
     "name": "stderr",
     "output_type": "stream",
     "text": [
      "Iteration: 100%|██████████| 267/267 [00:04<00:00, 60.09it/s]]\n",
      "Iteration: 100%|██████████| 267/267 [00:02<00:00, 91.52it/s] \n",
      "Iteration:   1%|▏         | 4/267 [00:00<00:07, 35.49it/s]s]"
     ]
    },
    {
     "name": "stdout",
     "output_type": "stream",
     "text": [
      "{'Train':  best_epoch_indx:78\n",
      " auc:0.9099945941155839 \n",
      " apur:0.8709323177376913 \n",
      " f1:0.7880320526492185 \n",
      " precision:0.7537008975405058 \n",
      " recall:0.8256400434144161 \n",
      ", 'Validation':  best_epoch_indx:78\n",
      " auc:0.9099945937866909 \n",
      " apur:0.8709323172093677 \n",
      " f1:0.7880320526492185 \n",
      " precision:0.7537008975405058 \n",
      " recall:0.8256400434144161 \n",
      ", 'Test':  best_epoch_indx:78\n",
      " auc:0.9099945937866909 \n",
      " apur:0.8709323172093677 \n",
      " f1:0.7880320526492185 \n",
      " precision:0.7537008975405058 \n",
      " recall:0.8256400434144161 \n",
      "}\n",
      "=====Epoch 79\n",
      "Training...\n"
     ]
    },
    {
     "name": "stderr",
     "output_type": "stream",
     "text": [
      "Iteration: 100%|██████████| 267/267 [00:06<00:00, 40.51it/s]\n",
      "Iteration:   0%|          | 0/267 [00:00<?, ?it/s]"
     ]
    },
    {
     "name": "stdout",
     "output_type": "stream",
     "text": [
      "Evaluating...\n"
     ]
    },
    {
     "name": "stderr",
     "output_type": "stream",
     "text": [
      "Iteration: 100%|██████████| 267/267 [00:05<00:00, 45.62it/s]\n",
      "Iteration:   5%|▌         | 14/267 [00:00<00:03, 67.00it/s]"
     ]
    },
    {
     "name": "stdout",
     "output_type": "stream",
     "text": [
      "Evaluating...\n"
     ]
    },
    {
     "name": "stderr",
     "output_type": "stream",
     "text": [
      "Iteration: 100%|██████████| 267/267 [00:06<00:00, 43.96it/s]]\n",
      "Iteration:  53%|█████▎    | 142/267 [00:02<00:01, 67.00it/s]]"
     ]
    },
    {
     "name": "stdout",
     "output_type": "stream",
     "text": [
      "Evaluating...\n"
     ]
    },
    {
     "name": "stderr",
     "output_type": "stream",
     "text": [
      "Iteration: 100%|██████████| 267/267 [00:02<00:00, 111.51it/s]\n",
      "Iteration: 100%|██████████| 267/267 [00:02<00:00, 119.75it/s]\n",
      "Iteration: 100%|██████████| 267/267 [00:03<00:00, 75.60it/s] \n",
      "Iteration: 100%|██████████| 267/267 [00:02<00:00, 118.43it/s]\n",
      "Iteration: 100%|██████████| 267/267 [00:02<00:00, 113.93it/s]\n",
      "Iteration: 100%|██████████| 267/267 [00:07<00:00, 35.91it/s]]\n",
      "Iteration:  97%|█████████▋| 260/267 [00:02<00:00, 121.67it/s]"
     ]
    },
    {
     "name": "stdout",
     "output_type": "stream",
     "text": [
      "Evaluating...\n"
     ]
    },
    {
     "name": "stderr",
     "output_type": "stream",
     "text": [
      "Iteration: 100%|██████████| 267/267 [00:02<00:00, 98.38it/s] \n",
      "Iteration: 100%|██████████| 267/267 [00:02<00:00, 120.36it/s]\n",
      "Iteration: 100%|██████████| 267/267 [00:02<00:00, 93.89it/s] \n",
      "Iteration:  63%|██████▎   | 167/267 [00:02<00:01, 72.37it/s]]"
     ]
    },
    {
     "name": "stdout",
     "output_type": "stream",
     "text": [
      "{'Train':  best_epoch_indx:80\n",
      " auc:0.9150163843362736 \n",
      " apur:0.8790856123338338 \n",
      " f1:0.7928000118713738 \n",
      " precision:0.7407314976568783 \n",
      " recall:0.8527421311370746 \n",
      ", 'Validation':  best_epoch_indx:80\n",
      " auc:0.9150163843362736 \n",
      " apur:0.8790856123338338 \n",
      " f1:0.7928000118713738 \n",
      " precision:0.7407314976568783 \n",
      " recall:0.8527421311370746 \n",
      ", 'Test':  best_epoch_indx:80\n",
      " auc:0.9150163843362736 \n",
      " apur:0.8790856123338338 \n",
      " f1:0.7928000118713738 \n",
      " precision:0.7407314976568783 \n",
      " recall:0.8527421311370746 \n",
      "}\n",
      "=====Epoch 81\n",
      "Training...\n"
     ]
    },
    {
     "name": "stderr",
     "output_type": "stream",
     "text": [
      "Iteration: 100%|██████████| 267/267 [00:02<00:00, 119.72it/s]\n",
      "Iteration: 100%|██████████| 267/267 [00:03<00:00, 82.88it/s] \n",
      "Iteration:   2%|▏         | 5/267 [00:00<00:05, 44.85it/s]]]"
     ]
    },
    {
     "name": "stdout",
     "output_type": "stream",
     "text": [
      "{'Train':  best_epoch_indx:81\n",
      " auc:0.910376413983188 \n",
      " apur:0.8719278437785329 \n",
      " f1:0.7862418168471829 \n",
      " precision:0.7407344680610833 \n",
      " recall:0.8377066973121369 \n",
      ", 'Validation':  best_epoch_indx:81\n",
      " auc:0.910376413983188 \n",
      " apur:0.8719278437785329 \n",
      " f1:0.7862418168471829 \n",
      " precision:0.7407344680610833 \n",
      " recall:0.8377066973121369 \n",
      ", 'Test':  best_epoch_indx:81\n",
      " auc:0.910376413983188 \n",
      " apur:0.8719278437785329 \n",
      " f1:0.7862418168471829 \n",
      " precision:0.7407344680610833 \n",
      " recall:0.8377066973121369 \n",
      "}\n",
      "=====Epoch 82\n",
      "Training...\n"
     ]
    },
    {
     "name": "stderr",
     "output_type": "stream",
     "text": [
      "Iteration: 100%|██████████| 267/267 [00:03<00:00, 83.10it/s] \n",
      "Iteration: 100%|██████████| 267/267 [00:02<00:00, 119.92it/s]\n",
      "Iteration:  49%|████▉     | 132/267 [00:03<00:02, 45.56it/s]]"
     ]
    },
    {
     "name": "stdout",
     "output_type": "stream",
     "text": [
      "{'Train':  best_epoch_indx:81\n",
      " auc:0.9121337372793965 \n",
      " apur:0.8749882021953271 \n",
      " f1:0.7898233087803335 \n",
      " precision:0.7477752424415288 \n",
      " recall:0.8368819229418712 \n",
      ", 'Validation':  best_epoch_indx:81\n",
      " auc:0.9121337372793965 \n",
      " apur:0.874988202195318 \n",
      " f1:0.7898233087803335 \n",
      " precision:0.7477752424415288 \n",
      " recall:0.8368819229418712 \n",
      ", 'Test':  best_epoch_indx:81\n",
      " auc:0.9121337366216178 \n",
      " apur:0.8749882016799314 \n",
      " f1:0.7898233087803335 \n",
      " precision:0.7477752424415288 \n",
      " recall:0.8368819229418712 \n",
      "}\n",
      "=====Epoch 82\n",
      "Training...\n"
     ]
    },
    {
     "name": "stderr",
     "output_type": "stream",
     "text": [
      "Iteration: 100%|██████████| 267/267 [00:02<00:00, 115.04it/s]\n",
      "Iteration:   1%|▏         | 4/267 [00:00<00:12, 20.54it/s]]]"
     ]
    },
    {
     "name": "stdout",
     "output_type": "stream",
     "text": [
      "{'Train':  best_epoch_indx:80\n",
      " auc:0.9159232301133895 \n",
      " apur:0.8804137654668825 \n",
      " f1:0.7953144075785439 \n",
      " precision:0.7708114908785909 \n",
      " recall:0.8214262912596565 \n",
      ", 'Validation':  best_epoch_indx:80\n",
      " auc:0.9159232301133895 \n",
      " apur:0.8804137654668825 \n",
      " f1:0.7953144075785439 \n",
      " precision:0.7708114908785909 \n",
      " recall:0.8214262912596565 \n",
      ", 'Test':  best_epoch_indx:80\n",
      " auc:0.9159232301133895 \n",
      " apur:0.8804137654668825 \n",
      " f1:0.7953144075785439 \n",
      " precision:0.7708114908785909 \n",
      " recall:0.8214262912596565 \n",
      "}\n",
      "=====Epoch 81\n",
      "Training...\n"
     ]
    },
    {
     "name": "stderr",
     "output_type": "stream",
     "text": [
      "Iteration: 100%|██████████| 267/267 [00:06<00:00, 42.64it/s]\n",
      "Iteration:  28%|██▊       | 76/267 [00:01<00:02, 67.24it/s]]"
     ]
    },
    {
     "name": "stdout",
     "output_type": "stream",
     "text": [
      "Evaluating...\n"
     ]
    },
    {
     "name": "stderr",
     "output_type": "stream",
     "text": [
      "Iteration: 100%|██████████| 267/267 [00:03<00:00, 88.64it/s]]\n",
      "Iteration: 100%|██████████| 267/267 [00:02<00:00, 122.85it/s]\n",
      "Iteration: 100%|██████████| 267/267 [00:07<00:00, 37.29it/s]\n",
      "Iteration:   3%|▎         | 7/267 [00:00<00:03, 67.71it/s]s]"
     ]
    },
    {
     "name": "stdout",
     "output_type": "stream",
     "text": [
      "Evaluating...\n"
     ]
    },
    {
     "name": "stderr",
     "output_type": "stream",
     "text": [
      "Iteration: 100%|██████████| 267/267 [00:06<00:00, 43.34it/s]\n",
      "Iteration:   9%|▉         | 25/267 [00:00<00:03, 70.23it/s]]"
     ]
    },
    {
     "name": "stdout",
     "output_type": "stream",
     "text": [
      "Evaluating...\n"
     ]
    },
    {
     "name": "stderr",
     "output_type": "stream",
     "text": [
      "Iteration: 100%|██████████| 267/267 [00:05<00:00, 44.78it/s]]\n",
      "Iteration:  22%|██▏       | 58/267 [00:00<00:02, 72.14it/s]s]"
     ]
    },
    {
     "name": "stdout",
     "output_type": "stream",
     "text": [
      "{'Train':  best_epoch_indx:79\n",
      " auc:0.9163694831322501 \n",
      " apur:0.8798510253436357 \n",
      " f1:0.7970146980427996 \n",
      " precision:0.762154446677736 \n",
      " recall:0.8352167528570517 \n",
      ", 'Validation':  best_epoch_indx:79\n",
      " auc:0.9163694824744638 \n",
      " apur:0.8798510238347136 \n",
      " f1:0.7970146980427996 \n",
      " precision:0.762154446677736 \n",
      " recall:0.8352167528570517 \n",
      ", 'Test':  best_epoch_indx:79\n",
      " auc:0.9163694824744638 \n",
      " apur:0.8798510238347136 \n",
      " f1:0.7970146980427996 \n",
      " precision:0.762154446677736 \n",
      " recall:0.8352167528570517 \n",
      "}\n",
      "=====Epoch 80\n",
      "Training...\n",
      "Evaluating...\n"
     ]
    },
    {
     "name": "stderr",
     "output_type": "stream",
     "text": [
      "Iteration: 100%|██████████| 267/267 [00:02<00:00, 110.23it/s]\n",
      "Iteration: 100%|██████████| 267/267 [00:02<00:00, 122.04it/s]\n",
      "Iteration: 100%|██████████| 267/267 [00:02<00:00, 99.68it/s] \n",
      "Iteration: 100%|██████████| 267/267 [00:02<00:00, 103.26it/s]\n",
      "Iteration: 100%|██████████| 267/267 [00:02<00:00, 115.01it/s]\n",
      "Iteration: 100%|██████████| 267/267 [00:02<00:00, 126.58it/s]\n",
      "Iteration: 100%|██████████| 267/267 [00:06<00:00, 43.33it/s]\n",
      "Iteration:   0%|          | 0/267 [00:00<?, ?it/s]"
     ]
    },
    {
     "name": "stdout",
     "output_type": "stream",
     "text": [
      "Evaluating...\n"
     ]
    },
    {
     "name": "stderr",
     "output_type": "stream",
     "text": [
      "Iteration: 100%|██████████| 267/267 [00:04<00:00, 62.90it/s]\n",
      "Iteration:  19%|█▉        | 51/267 [00:00<00:01, 122.41it/s]"
     ]
    },
    {
     "name": "stdout",
     "output_type": "stream",
     "text": [
      "{'Train':  best_epoch_indx:81\n",
      " auc:0.9117228708147743 \n",
      " apur:0.8744721475491153 \n",
      " f1:0.7896889851410696 \n",
      " precision:0.7465733947562987 \n",
      " recall:0.8380897656898423 \n",
      ", 'Validation':  best_epoch_indx:81\n",
      " auc:0.9117228708147743 \n",
      " apur:0.8744721475491153 \n",
      " f1:0.7896889851410696 \n",
      " precision:0.7465733947562987 \n",
      " recall:0.8380897656898423 \n",
      ", 'Test':  best_epoch_indx:81\n",
      " auc:0.9117228708147743 \n",
      " apur:0.8744721475491153 \n",
      " f1:0.7896889851410696 \n",
      " precision:0.7465733947562987 \n",
      " recall:0.8380897656898423 \n",
      "}\n",
      "=====Epoch 82\n",
      "Training...\n"
     ]
    },
    {
     "name": "stderr",
     "output_type": "stream",
     "text": [
      "Iteration: 100%|██████████| 267/267 [00:03<00:00, 76.21it/s] \n",
      "Iteration: 100%|██████████| 267/267 [00:02<00:00, 118.54it/s]\n",
      "Iteration: 100%|██████████| 267/267 [00:02<00:00, 120.14it/s]\n",
      "Iteration:   0%|          | 0/267 [00:00<?, ?it/s]3.09it/s]]"
     ]
    },
    {
     "name": "stdout",
     "output_type": "stream",
     "text": [
      "{'Train':  best_epoch_indx:82\n",
      " auc:0.9053848728589583 \n",
      " apur:0.8668934269741311 \n",
      " f1:0.7799888139884018 \n",
      " precision:0.7236651645500478 \n",
      " recall:0.8458198997669741 \n",
      ", 'Validation':  best_epoch_indx:82\n",
      " auc:0.9053848728589583 \n",
      " apur:0.8668934269741311 \n",
      " f1:0.7799888139884018 \n",
      " precision:0.7236651645500478 \n",
      " recall:0.8458198997669741 \n",
      ", 'Test':  best_epoch_indx:82\n",
      " auc:0.9053848728589583 \n",
      " apur:0.8668934269741311 \n",
      " f1:0.7799888139884018 \n",
      " precision:0.7236651645500478 \n",
      " recall:0.8458198997669741 \n",
      "}\n",
      "=====Epoch 83\n",
      "Training...\n"
     ]
    },
    {
     "name": "stderr",
     "output_type": "stream",
     "text": [
      "Iteration: 100%|██████████| 267/267 [00:02<00:00, 108.93it/s]\n",
      "Iteration: 100%|██████████| 267/267 [00:02<00:00, 126.19it/s]\n",
      "Iteration: 100%|██████████| 267/267 [00:03<00:00, 81.97it/s] \n",
      "Iteration:  49%|████▊     | 130/267 [00:03<00:03, 36.03it/s]"
     ]
    },
    {
     "name": "stdout",
     "output_type": "stream",
     "text": [
      "{'Train':  best_epoch_indx:82\n",
      " auc:0.9044758704949449 \n",
      " apur:0.8644954030060554 \n",
      " f1:0.7806241410725592 \n",
      " precision:0.7560041872289517 \n",
      " recall:0.8069016152716594 \n",
      ", 'Validation':  best_epoch_indx:82\n",
      " auc:0.9044758704949449 \n",
      " apur:0.8644954030060554 \n",
      " f1:0.7806241410725592 \n",
      " precision:0.7560041872289517 \n",
      " recall:0.8069016152716594 \n",
      ", 'Test':  best_epoch_indx:82\n",
      " auc:0.9044758698371452 \n",
      " apur:0.8644954019927009 \n",
      " f1:0.7806241410725592 \n",
      " precision:0.7560041872289517 \n",
      " recall:0.8069016152716594 \n",
      "}\n",
      "=====Epoch 83\n",
      "Training...\n",
      "{'Train':  best_epoch_indx:81\n",
      " auc:0.9124845240993728 \n",
      " apur:0.8759101744289413 \n",
      " f1:0.7900842403575156 \n",
      " precision:0.7712418300653595 \n",
      " recall:0.8098703951988764 \n",
      ", 'Validation':  best_epoch_indx:81\n",
      " auc:0.9124845234415864 \n",
      " apur:0.8759101734337981 \n",
      " f1:0.7900842403575156 \n",
      " precision:0.7712418300653595 \n",
      " recall:0.8098703951988764 \n",
      ", 'Test':  best_epoch_indx:81\n",
      " auc:0.9124845237704794 \n",
      " apur:0.8759101738872365 \n",
      " f1:0.7900842403575156 \n",
      " precision:0.7712418300653595 \n",
      " recall:0.8098703951988764 \n",
      "}\n",
      "=====Epoch 82\n",
      "Training...\n"
     ]
    },
    {
     "name": "stderr",
     "output_type": "stream",
     "text": [
      "Iteration: 100%|██████████| 267/267 [00:06<00:00, 39.62it/s]\n",
      "Iteration:  61%|██████▏   | 164/267 [00:03<00:02, 44.51it/s]"
     ]
    },
    {
     "name": "stdout",
     "output_type": "stream",
     "text": [
      "Evaluating...\n"
     ]
    },
    {
     "name": "stderr",
     "output_type": "stream",
     "text": [
      "Iteration: 100%|██████████| 267/267 [00:02<00:00, 116.81it/s]\n",
      "Iteration: 100%|██████████| 267/267 [00:06<00:00, 42.94it/s]\n",
      "Iteration:  54%|█████▍    | 145/267 [00:02<00:01, 65.95it/s]"
     ]
    },
    {
     "name": "stdout",
     "output_type": "stream",
     "text": [
      "Evaluating...\n",
      "{'Train':  best_epoch_indx:80\n",
      " auc:0.9138971673476136 \n",
      " apur:0.8767113601387208 \n",
      " f1:0.791812935086571 \n",
      " precision:0.7413514567433569 \n",
      " recall:0.8496456617506225 \n",
      ", 'Validation':  best_epoch_indx:80\n",
      " auc:0.9138971673476136 \n",
      " apur:0.8767113601387208 \n",
      " f1:0.791812935086571 \n",
      " precision:0.7413514567433569 \n",
      " recall:0.8496456617506225 \n",
      ", 'Test':  best_epoch_indx:80\n",
      " auc:0.9138971673476136 \n",
      " apur:0.8767113601387208 \n",
      " f1:0.791812935086571 \n",
      " precision:0.7413514567433569 \n",
      " recall:0.8496456617506225 \n",
      "}\n",
      "=====Epoch 81\n",
      "Training...\n"
     ]
    },
    {
     "name": "stderr",
     "output_type": "stream",
     "text": [
      "Iteration: 100%|██████████| 267/267 [00:03<00:00, 71.06it/s] \n",
      "Iteration: 100%|██████████| 267/267 [00:02<00:00, 122.04it/s]\n",
      "Iteration: 100%|██████████| 267/267 [00:05<00:00, 45.77it/s]\n",
      "Iteration:   5%|▍         | 13/267 [00:00<00:02, 122.57it/s]"
     ]
    },
    {
     "name": "stdout",
     "output_type": "stream",
     "text": [
      "Evaluating...\n"
     ]
    },
    {
     "name": "stderr",
     "output_type": "stream",
     "text": [
      "Iteration: 100%|██████████| 267/267 [00:06<00:00, 39.29it/s]]\n",
      "Iteration:  54%|█████▍    | 145/267 [00:03<00:03, 35.80it/s]]"
     ]
    },
    {
     "name": "stdout",
     "output_type": "stream",
     "text": [
      "Evaluating...\n"
     ]
    },
    {
     "name": "stderr",
     "output_type": "stream",
     "text": [
      "Iteration: 100%|██████████| 267/267 [00:02<00:00, 128.53it/s]\n",
      "Iteration: 100%|██████████| 267/267 [00:02<00:00, 120.75it/s]\n",
      "Iteration: 100%|██████████| 267/267 [00:02<00:00, 117.95it/s]\n",
      "Iteration: 100%|██████████| 267/267 [00:03<00:00, 70.74it/s]]\n",
      "Iteration: 100%|██████████| 267/267 [00:07<00:00, 37.05it/s]]\n",
      "Iteration:  19%|█▉        | 51/267 [00:00<00:01, 122.31it/s]]"
     ]
    },
    {
     "name": "stdout",
     "output_type": "stream",
     "text": [
      "Evaluating...\n"
     ]
    },
    {
     "name": "stderr",
     "output_type": "stream",
     "text": [
      "Iteration: 100%|██████████| 267/267 [00:02<00:00, 107.78it/s]\n",
      "Iteration: 100%|██████████| 267/267 [00:02<00:00, 119.31it/s]\n",
      "Iteration:  41%|████      | 110/267 [00:01<00:02, 73.59it/s]]"
     ]
    },
    {
     "name": "stdout",
     "output_type": "stream",
     "text": [
      "{'Train':  best_epoch_indx:82\n",
      " auc:0.9039597098578697 \n",
      " apur:0.8629690009188505 \n",
      " f1:0.7801066485836698 \n",
      " precision:0.7541418355184744 \n",
      " recall:0.8079231309455405 \n",
      ", 'Validation':  best_epoch_indx:82\n",
      " auc:0.9039597098578697 \n",
      " apur:0.8629690009188578 \n",
      " f1:0.7801066485836698 \n",
      " precision:0.7541418355184744 \n",
      " recall:0.8079231309455405 \n",
      ", 'Test':  best_epoch_indx:82\n",
      " auc:0.9039597098578697 \n",
      " apur:0.8629690009188578 \n",
      " f1:0.7801066485836698 \n",
      " precision:0.7541418355184744 \n",
      " recall:0.8079231309455405 \n",
      "}\n",
      "=====Epoch 83\n",
      "Training...\n"
     ]
    },
    {
     "name": "stderr",
     "output_type": "stream",
     "text": [
      "Iteration: 100%|██████████| 267/267 [00:02<00:00, 118.53it/s]\n",
      "Iteration: 100%|██████████| 267/267 [00:02<00:00, 91.55it/s] \n",
      "Iteration: 100%|██████████| 267/267 [00:02<00:00, 118.39it/s]\n",
      "Iteration: 100%|██████████| 267/267 [00:02<00:00, 102.70it/s]\n",
      "Iteration:  27%|██▋       | 71/267 [00:00<00:02, 73.03it/s]]]"
     ]
    },
    {
     "name": "stdout",
     "output_type": "stream",
     "text": [
      "{'Train':  best_epoch_indx:83\n",
      " auc:0.9002961417362165 \n",
      " apur:0.8583208074440546 \n",
      " f1:0.7762396026217557 \n",
      " precision:0.7192461668346087 \n",
      " recall:0.8430427426820315 \n",
      ", 'Validation':  best_epoch_indx:83\n",
      " auc:0.9002961417362165 \n",
      " apur:0.8583208074440546 \n",
      " f1:0.7762396026217557 \n",
      " precision:0.7192461668346087 \n",
      " recall:0.8430427426820315 \n",
      ", 'Test':  best_epoch_indx:83\n",
      " auc:0.9002961417362165 \n",
      " apur:0.8583208074440546 \n",
      " f1:0.7762396026217557 \n",
      " precision:0.7192461668346087 \n",
      " recall:0.8430427426820315 \n",
      "}\n",
      "=====Epoch 84\n",
      "Training...\n"
     ]
    },
    {
     "name": "stderr",
     "output_type": "stream",
     "text": [
      "Iteration:  54%|█████▍    | 144/267 [00:01<00:01, 116.86it/s]"
     ]
    },
    {
     "name": "stdout",
     "output_type": "stream",
     "text": [
      "{'Train':  best_epoch_indx:83\n",
      " auc:0.8985425406219015 \n",
      " apur:0.8563462032997959 \n",
      " f1:0.7728475929830858 \n",
      " precision:0.7270194986072424 \n",
      " recall:0.8248419842941965 \n",
      ", 'Validation':  best_epoch_indx:83\n",
      " auc:0.8985425406219015 \n",
      " apur:0.8563462032997959 \n",
      " f1:0.7728475929830858 \n",
      " precision:0.7270194986072424 \n",
      " recall:0.8248419842941965 \n",
      ", 'Test':  best_epoch_indx:83\n",
      " auc:0.8985425406219015 \n",
      " apur:0.8563462032997959 \n",
      " f1:0.7728475929830858 \n",
      " precision:0.7270194986072424 \n",
      " recall:0.8248419842941965 \n",
      "}\n",
      "=====Epoch 84\n",
      "Training...\n"
     ]
    },
    {
     "name": "stderr",
     "output_type": "stream",
     "text": [
      "Iteration: 100%|██████████| 267/267 [00:02<00:00, 111.86it/s]\n",
      "Iteration: 100%|██████████| 267/267 [00:02<00:00, 99.22it/s] \n",
      "Iteration:  19%|█▉        | 52/267 [00:01<00:05, 37.88it/s]]"
     ]
    },
    {
     "name": "stdout",
     "output_type": "stream",
     "text": [
      "{'Train':  best_epoch_indx:82\n",
      " auc:0.9057391564041822 \n",
      " apur:0.8666196058859316 \n",
      " f1:0.7830191506578356 \n",
      " precision:0.7378840939900587 \n",
      " recall:0.8340356253591266 \n",
      ", 'Validation':  best_epoch_indx:82\n",
      " auc:0.9057391564041822 \n",
      " apur:0.8666196058859316 \n",
      " f1:0.7830191506578356 \n",
      " precision:0.7378840939900587 \n",
      " recall:0.8340356253591266 \n",
      ", 'Test':  best_epoch_indx:82\n",
      " auc:0.9057391560752891 \n",
      " apur:0.8666196050197561 \n",
      " f1:0.7830191506578356 \n",
      " precision:0.7378840939900587 \n",
      " recall:0.8340356253591266 \n",
      "}\n",
      "=====Epoch 83\n",
      "Training...\n"
     ]
    },
    {
     "name": "stderr",
     "output_type": "stream",
     "text": [
      "Iteration: 100%|██████████| 267/267 [00:06<00:00, 39.28it/s]\n",
      "Iteration:  50%|█████     | 134/267 [00:03<00:03, 34.82it/s]"
     ]
    },
    {
     "name": "stdout",
     "output_type": "stream",
     "text": [
      "Evaluating...\n"
     ]
    },
    {
     "name": "stderr",
     "output_type": "stream",
     "text": [
      "Iteration: 100%|██████████| 267/267 [00:02<00:00, 128.15it/s]\n",
      "Iteration:   2%|▏         | 6/267 [00:00<00:05, 49.61it/s]s]"
     ]
    },
    {
     "name": "stdout",
     "output_type": "stream",
     "text": [
      "{'Train':  best_epoch_indx:81\n",
      " auc:0.9079062610314859 \n",
      " apur:0.8699615392472897 \n",
      " f1:0.7843352249996296 \n",
      " precision:0.7318806514946216 \n",
      " recall:0.8448892293941135 \n",
      ", 'Validation':  best_epoch_indx:81\n",
      " auc:0.907906261031486 \n",
      " apur:0.8699615392472796 \n",
      " f1:0.7843352249996296 \n",
      " precision:0.7318806514946216 \n",
      " recall:0.8448892293941135 \n",
      ", 'Test':  best_epoch_indx:81\n",
      " auc:0.9079062610314859 \n",
      " apur:0.8699615392472897 \n",
      " f1:0.7843352249996296 \n",
      " precision:0.7318806514946216 \n",
      " recall:0.8448892293941135 \n",
      "}\n",
      "=====Epoch 82\n",
      "Training...\n"
     ]
    },
    {
     "name": "stderr",
     "output_type": "stream",
     "text": [
      "Iteration: 100%|██████████| 267/267 [00:06<00:00, 43.33it/s]\n",
      "Iteration: 100%|██████████| 267/267 [00:06<00:00, 39.24it/s]\n",
      "Iteration:   4%|▍         | 12/267 [00:00<00:02, 119.99it/s]"
     ]
    },
    {
     "name": "stdout",
     "output_type": "stream",
     "text": [
      "Evaluating...\n",
      "Evaluating...\n"
     ]
    },
    {
     "name": "stderr",
     "output_type": "stream",
     "text": [
      "Iteration: 100%|██████████| 267/267 [00:03<00:00, 67.12it/s]\n",
      "Iteration: 100%|██████████| 267/267 [00:06<00:00, 43.50it/s]]\n",
      "Iteration:  38%|███▊      | 101/267 [00:02<00:04, 40.52it/s]]"
     ]
    },
    {
     "name": "stdout",
     "output_type": "stream",
     "text": [
      "Evaluating...\n"
     ]
    },
    {
     "name": "stderr",
     "output_type": "stream",
     "text": [
      "Iteration: 100%|██████████| 267/267 [00:02<00:00, 120.95it/s]\n",
      "Iteration: 100%|██████████| 267/267 [00:03<00:00, 78.52it/s] \n",
      "Iteration: 100%|██████████| 267/267 [00:02<00:00, 120.01it/s]\n",
      "Iteration: 100%|██████████| 267/267 [00:06<00:00, 43.87it/s]]\n",
      "Iteration:  23%|██▎       | 62/267 [00:00<00:03, 68.04it/s]s]"
     ]
    },
    {
     "name": "stdout",
     "output_type": "stream",
     "text": [
      "Evaluating...\n"
     ]
    },
    {
     "name": "stderr",
     "output_type": "stream",
     "text": [
      "Iteration: 100%|██████████| 267/267 [00:02<00:00, 121.29it/s]\n",
      "Iteration: 100%|██████████| 267/267 [00:03<00:00, 76.69it/s]]\n",
      "Iteration: 100%|██████████| 267/267 [00:02<00:00, 120.22it/s]\n",
      "Iteration: 100%|██████████| 267/267 [00:02<00:00, 119.37it/s]\n",
      "Iteration: 100%|██████████| 267/267 [00:03<00:00, 73.67it/s] \n",
      "Iteration: 100%|██████████| 267/267 [00:02<00:00, 114.50it/s]\n",
      "Iteration: 100%|██████████| 267/267 [00:02<00:00, 91.31it/s] \n",
      "Iteration:  83%|████████▎ | 222/267 [00:01<00:00, 116.06it/s]"
     ]
    },
    {
     "name": "stdout",
     "output_type": "stream",
     "text": [
      "{'Train':  best_epoch_indx:84\n",
      " auc:0.8860764006510339 \n",
      " apur:0.8427388243080673 \n",
      " f1:0.7571970271500076 \n",
      " precision:0.7213327938966594 \n",
      " recall:0.7968141479920833 \n",
      ", 'Validation':  best_epoch_indx:84\n",
      " auc:0.8860764013088336 \n",
      " apur:0.8427388248592369 \n",
      " f1:0.7571970271500076 \n",
      " precision:0.7213327938966594 \n",
      " recall:0.7968141479920833 \n",
      ", 'Test':  best_epoch_indx:84\n",
      " auc:0.8860764006510339 \n",
      " apur:0.8427388243080673 \n",
      " f1:0.7571970271500076 \n",
      " precision:0.7213327938966594 \n",
      " recall:0.7968141479920833 \n",
      "}\n",
      "=====Epoch 85\n",
      "Training...\n"
     ]
    },
    {
     "name": "stderr",
     "output_type": "stream",
     "text": [
      "Iteration: 100%|██████████| 267/267 [00:02<00:00, 115.17it/s]\n",
      "Iteration:  15%|█▌        | 41/267 [00:00<00:04, 45.84it/s]]]"
     ]
    },
    {
     "name": "stdout",
     "output_type": "stream",
     "text": [
      "{'Train':  best_epoch_indx:83\n",
      " auc:0.8960564098510114 \n",
      " apur:0.8531825537063631 \n",
      " f1:0.768555550562471 \n",
      " precision:0.7240143369175627 \n",
      " recall:0.8189363468045713 \n",
      ", 'Validation':  best_epoch_indx:83\n",
      " auc:0.8960564098510114 \n",
      " apur:0.8531825537063631 \n",
      " f1:0.768555550562471 \n",
      " precision:0.7240143369175627 \n",
      " recall:0.8189363468045713 \n",
      ", 'Test':  best_epoch_indx:83\n",
      " auc:0.8960564098510114 \n",
      " apur:0.8531825537063631 \n",
      " f1:0.768555550562471 \n",
      " precision:0.7240143369175627 \n",
      " recall:0.8189363468045713 \n",
      "}\n",
      "=====Epoch 84\n",
      "Training...\n"
     ]
    },
    {
     "name": "stderr",
     "output_type": "stream",
     "text": [
      "Iteration:  23%|██▎       | 61/267 [00:01<00:04, 45.70it/s]s]"
     ]
    },
    {
     "name": "stdout",
     "output_type": "stream",
     "text": [
      "{'Train':  best_epoch_indx:84\n",
      " auc:0.8919378268587796 \n",
      " apur:0.848402008205022 \n",
      " f1:0.7656350404232108 \n",
      " precision:0.7197808373138522 \n",
      " recall:0.8177291154595078 \n",
      ", 'Validation':  best_epoch_indx:84\n",
      " auc:0.8919378268587796 \n",
      " apur:0.8484020082050219 \n",
      " f1:0.7656350404232108 \n",
      " precision:0.7197808373138522 \n",
      " recall:0.8177291154595078 \n",
      ", 'Test':  best_epoch_indx:84\n",
      " auc:0.8919378268587796 \n",
      " apur:0.848402008205042 \n",
      " f1:0.7656350404232108 \n",
      " precision:0.7197808373138522 \n",
      " recall:0.8177291154595078 \n",
      "}\n",
      "=====Epoch 85\n",
      "Training...\n"
     ]
    },
    {
     "name": "stderr",
     "output_type": "stream",
     "text": [
      "Iteration: 100%|██████████| 267/267 [00:03<00:00, 79.71it/s] \n",
      "Iteration: 100%|██████████| 267/267 [00:02<00:00, 118.56it/s]\n",
      "Iteration:   2%|▏         | 5/267 [00:00<00:05, 45.07it/s]]]"
     ]
    },
    {
     "name": "stdout",
     "output_type": "stream",
     "text": [
      "{'Train':  best_epoch_indx:83\n",
      " auc:0.9000140661003311 \n",
      " apur:0.8606354063732179 \n",
      " f1:0.7733992321609814 \n",
      " precision:0.7171617972010803 \n",
      " recall:0.8392070484581498 \n",
      ", 'Validation':  best_epoch_indx:83\n",
      " auc:0.9000140661003311 \n",
      " apur:0.8606354063732179 \n",
      " f1:0.7733992321609814 \n",
      " precision:0.7171617972010803 \n",
      " recall:0.8392070484581498 \n",
      ", 'Test':  best_epoch_indx:83\n",
      " auc:0.9000140661003311 \n",
      " apur:0.8606354063732179 \n",
      " f1:0.7733992321609814 \n",
      " precision:0.7171617972010803 \n",
      " recall:0.8392070484581498 \n",
      "}\n",
      "=====Epoch 84\n",
      "Training...\n"
     ]
    },
    {
     "name": "stderr",
     "output_type": "stream",
     "text": [
      "Iteration: 100%|██████████| 267/267 [00:05<00:00, 45.78it/s]]\n",
      "Iteration:  76%|███████▌  | 203/267 [00:04<00:01, 45.61it/s]]"
     ]
    },
    {
     "name": "stdout",
     "output_type": "stream",
     "text": [
      "Evaluating...\n"
     ]
    },
    {
     "name": "stderr",
     "output_type": "stream",
     "text": [
      "Iteration: 100%|██████████| 267/267 [00:03<00:00, 86.76it/s] \n",
      "Iteration:  59%|█████▉    | 158/267 [00:04<00:02, 37.37it/s]]"
     ]
    },
    {
     "name": "stdout",
     "output_type": "stream",
     "text": [
      "{'Train':  best_epoch_indx:82\n",
      " auc:0.9080845424726569 \n",
      " apur:0.8691641094766142 \n",
      " f1:0.7832013749137007 \n",
      " precision:0.7253952273407527 \n",
      " recall:0.8510183234374002 \n",
      ", 'Validation':  best_epoch_indx:82\n",
      " auc:0.9080845424726569 \n",
      " apur:0.8691641094766142 \n",
      " f1:0.7832013749137007 \n",
      " precision:0.7253952273407527 \n",
      " recall:0.8510183234374002 \n",
      ", 'Test':  best_epoch_indx:82\n",
      " auc:0.9080845424726569 \n",
      " apur:0.8691641094766142 \n",
      " f1:0.7832013749137007 \n",
      " precision:0.7253952273407527 \n",
      " recall:0.8510183234374002 \n",
      "}\n",
      "=====Epoch 83\n",
      "Training...\n"
     ]
    },
    {
     "name": "stderr",
     "output_type": "stream",
     "text": [
      "Iteration: 100%|██████████| 267/267 [00:06<00:00, 40.66it/s]]\n",
      "Iteration: 100%|██████████| 267/267 [00:06<00:00, 42.84it/s]]\n",
      "Iteration:   0%|          | 0/267 [00:00<?, ?it/s]19.14it/s]"
     ]
    },
    {
     "name": "stdout",
     "output_type": "stream",
     "text": [
      "Evaluating...\n",
      "Evaluating...\n"
     ]
    },
    {
     "name": "stderr",
     "output_type": "stream",
     "text": [
      "Iteration: 100%|██████████| 267/267 [00:02<00:00, 122.03it/s]\n",
      "Iteration: 100%|██████████| 267/267 [00:06<00:00, 39.63it/s]]\n",
      "Iteration:   0%|          | 0/267 [00:00<?, ?it/s]"
     ]
    },
    {
     "name": "stdout",
     "output_type": "stream",
     "text": [
      "Evaluating...\n"
     ]
    },
    {
     "name": "stderr",
     "output_type": "stream",
     "text": [
      "Iteration: 100%|██████████| 267/267 [00:02<00:00, 123.48it/s]\n",
      "Iteration: 100%|██████████| 267/267 [00:02<00:00, 98.58it/s]]\n",
      "Iteration: 100%|██████████| 267/267 [00:02<00:00, 116.01it/s]\n",
      "Iteration: 100%|██████████| 267/267 [00:02<00:00, 121.75it/s]\n",
      "Iteration: 100%|██████████| 267/267 [00:02<00:00, 106.42it/s]\n",
      "Iteration: 100%|██████████| 267/267 [00:06<00:00, 42.30it/s]]\n",
      "Iteration:   0%|          | 0/267 [00:00<?, ?it/s]"
     ]
    },
    {
     "name": "stdout",
     "output_type": "stream",
     "text": [
      "Evaluating...\n"
     ]
    },
    {
     "name": "stderr",
     "output_type": "stream",
     "text": [
      "Iteration: 100%|██████████| 267/267 [00:02<00:00, 103.05it/s]\n",
      "Iteration: 100%|██████████| 267/267 [00:02<00:00, 119.37it/s]\n",
      "Iteration: 100%|██████████| 267/267 [00:02<00:00, 101.72it/s]\n",
      "Iteration: 100%|██████████| 267/267 [00:02<00:00, 119.64it/s]\n",
      "Iteration:  15%|█▍        | 39/267 [00:00<00:03, 75.61it/s]s]"
     ]
    },
    {
     "name": "stdout",
     "output_type": "stream",
     "text": [
      "{'Train':  best_epoch_indx:85\n",
      " auc:0.8945724194107043 \n",
      " apur:0.8522950529464929 \n",
      " f1:0.7669273051018038 \n",
      " precision:0.7446405484229832 \n",
      " recall:0.7905892868543701 \n",
      ", 'Validation':  best_epoch_indx:85\n",
      " auc:0.8945724194107043 \n",
      " apur:0.8522950529464929 \n",
      " f1:0.7669273051018038 \n",
      " precision:0.7446405484229832 \n",
      " recall:0.7905892868543701 \n",
      ", 'Test':  best_epoch_indx:85\n",
      " auc:0.8945724194107043 \n",
      " apur:0.8522950529464929 \n",
      " f1:0.7669273051018038 \n",
      " precision:0.7446405484229832 \n",
      " recall:0.7905892868543701 \n",
      "}\n",
      "=====Epoch 86\n",
      "Training...\n"
     ]
    },
    {
     "name": "stderr",
     "output_type": "stream",
     "text": [
      "Iteration: 100%|██████████| 267/267 [00:02<00:00, 92.75it/s] \n",
      "Iteration:   0%|          | 0/267 [00:00<?, ?it/s]60.29it/s]]"
     ]
    },
    {
     "name": "stdout",
     "output_type": "stream",
     "text": [
      "{'Train':  best_epoch_indx:84\n",
      " auc:0.8854394792680191 \n",
      " apur:0.8373028918332593 \n",
      " f1:0.7580970319466721 \n",
      " precision:0.7032022057819879 \n",
      " recall:0.8222881951094937 \n",
      ", 'Validation':  best_epoch_indx:84\n",
      " auc:0.8854394792680191 \n",
      " apur:0.8373028918332593 \n",
      " f1:0.7580970319466721 \n",
      " precision:0.7032022057819879 \n",
      " recall:0.8222881951094937 \n",
      ", 'Test':  best_epoch_indx:84\n",
      " auc:0.8854394792680191 \n",
      " apur:0.8373028918332593 \n",
      " f1:0.7580970319466721 \n",
      " precision:0.7032022057819879 \n",
      " recall:0.8222881951094937 \n",
      "}\n",
      "=====Epoch 85\n",
      "Training...\n"
     ]
    },
    {
     "name": "stderr",
     "output_type": "stream",
     "text": [
      "Iteration: 100%|██████████| 267/267 [00:02<00:00, 113.18it/s]\n",
      "Iteration: 100%|██████████| 267/267 [00:02<00:00, 120.12it/s]\n",
      "Iteration:  66%|██████▋   | 177/267 [00:02<00:01, 61.03it/s]"
     ]
    },
    {
     "name": "stdout",
     "output_type": "stream",
     "text": [
      "{'Train':  best_epoch_indx:85\n",
      " auc:0.8964762892069668 \n",
      " apur:0.8530559468813208 \n",
      " f1:0.7701859732991313 \n",
      " precision:0.7086495909883331 \n",
      " recall:0.8434257988316788 \n",
      ", 'Validation':  best_epoch_indx:85\n",
      " auc:0.8964762892069668 \n",
      " apur:0.8530559468813208 \n",
      " f1:0.7701859732991313 \n",
      " precision:0.7086495909883331 \n",
      " recall:0.8434257988316788 \n",
      ", 'Test':  best_epoch_indx:85\n",
      " auc:0.8964762892069668 \n",
      " apur:0.8530559468813208 \n",
      " f1:0.7701859732991313 \n",
      " precision:0.7086495909883331 \n",
      " recall:0.8434257988316788 \n",
      "}\n",
      "=====Epoch 86\n",
      "Training...\n"
     ]
    },
    {
     "name": "stderr",
     "output_type": "stream",
     "text": [
      "Iteration: 100%|██████████| 267/267 [00:03<00:00, 69.19it/s] \n",
      "Iteration:   2%|▏         | 6/267 [00:00<00:05, 49.88it/s]]]"
     ]
    },
    {
     "name": "stdout",
     "output_type": "stream",
     "text": [
      "{'Train':  best_epoch_indx:84\n",
      " auc:0.8942301535934749 \n",
      " apur:0.8497916308356455 \n",
      " f1:0.7679045287278804 \n",
      " precision:0.7100561234172925 \n",
      " recall:0.8360148119772712 \n",
      ", 'Validation':  best_epoch_indx:84\n",
      " auc:0.8942301535934749 \n",
      " apur:0.8497916308356221 \n",
      " f1:0.7679045287278804 \n",
      " precision:0.7100561234172925 \n",
      " recall:0.8360148119772712 \n",
      ", 'Test':  best_epoch_indx:84\n",
      " auc:0.8942301535934749 \n",
      " apur:0.8497916308356221 \n",
      " f1:0.7679045287278804 \n",
      " precision:0.7100561234172925 \n",
      " recall:0.8360148119772712 \n",
      "}\n",
      "=====Epoch 85\n",
      "Training...\n"
     ]
    },
    {
     "name": "stderr",
     "output_type": "stream",
     "text": [
      "Iteration: 100%|██████████| 267/267 [00:06<00:00, 41.34it/s]\n",
      "Iteration:  32%|███▏      | 86/267 [00:01<00:03, 45.57it/s]]"
     ]
    },
    {
     "name": "stdout",
     "output_type": "stream",
     "text": [
      "Evaluating...\n"
     ]
    },
    {
     "name": "stderr",
     "output_type": "stream",
     "text": [
      "Iteration: 100%|██████████| 267/267 [00:03<00:00, 69.99it/s]]\n",
      "Iteration: 100%|██████████| 267/267 [00:02<00:00, 127.03it/s]\n",
      "Iteration: 100%|██████████| 267/267 [00:06<00:00, 44.34it/s]\n",
      "Iteration: 100%|██████████| 267/267 [00:07<00:00, 37.35it/s]\n",
      "Iteration:   0%|          | 0/267 [00:00<?, ?it/s]"
     ]
    },
    {
     "name": "stdout",
     "output_type": "stream",
     "text": [
      "Evaluating...\n",
      "Evaluating...\n"
     ]
    },
    {
     "name": "stderr",
     "output_type": "stream",
     "text": [
      "\r",
      "Iteration:   9%|▉         | 25/267 [00:00<00:01, 123.65it/s]\r",
      "Iteration:  72%|███████▏  | 191/267 [00:04<00:01, 39.31it/s]\r",
      "Iteration:   0%|          | 0/267 [00:00<?, ?it/s]\r",
      "Iteration:   3%|▎         | 8/267 [00:00<00:03, 76.02it/s]\r",
      "Iteration:  14%|█▍        | 38/267 [00:00<00:01, 125.38it/s]\r",
      "Iteration:  73%|███████▎  | 195/267 [00:04<00:01, 37.45it/s]\r",
      "Iteration:   8%|▊         | 21/267 [00:00<00:02, 104.90it/s]\r",
      "Iteration:   1%|▏         | 4/267 [00:00<00:07, 33.72it/s]"
     ]
    },
    {
     "name": "stdout",
     "output_type": "stream",
     "text": [
      "{'Train':  best_epoch_indx:83\n",
      " auc:0.8967983229714245 \n",
      " apur:0.8535580242871138 \n",
      " f1:0.7713311637997831 \n",
      " precision:0.7495181303457414 \n",
      " recall:0.7944518929962332 \n",
      ", 'Validation':  best_epoch_indx:83\n",
      " auc:0.8967983229714245 \n",
      " apur:0.8535580242871138 \n",
      " f1:0.7713311637997831 \n",
      " precision:0.7495181303457414 \n",
      " recall:0.7944518929962332 \n",
      ", 'Test':  best_epoch_indx:83\n",
      " auc:0.8967983229714245 \n",
      " apur:0.8535580242871138 \n",
      " f1:0.7713311637997831 \n",
      " precision:0.7495181303457414 \n",
      " recall:0.7944518929962332 \n",
      "}\n",
      "=====Epoch 84\n",
      "Training...\n"
     ]
    },
    {
     "name": "stderr",
     "output_type": "stream",
     "text": [
      "Iteration: 100%|██████████| 267/267 [00:02<00:00, 125.81it/s]\n",
      "Iteration: 100%|██████████| 267/267 [00:06<00:00, 42.38it/s]]\n",
      "Iteration:   3%|▎         | 7/267 [00:00<00:04, 60.40it/s]]s]"
     ]
    },
    {
     "name": "stdout",
     "output_type": "stream",
     "text": [
      "Evaluating...\n"
     ]
    },
    {
     "name": "stderr",
     "output_type": "stream",
     "text": [
      "Iteration: 100%|██████████| 267/267 [00:02<00:00, 116.07it/s]\n",
      "Iteration: 100%|██████████| 267/267 [00:02<00:00, 117.86it/s]\n",
      "Iteration: 100%|██████████| 267/267 [00:02<00:00, 101.70it/s]\n",
      "Iteration: 100%|██████████| 267/267 [00:02<00:00, 101.16it/s]\n",
      "Iteration: 100%|██████████| 267/267 [00:02<00:00, 91.94it/s]]\n",
      "Iteration: 100%|██████████| 267/267 [00:02<00:00, 115.75it/s]\n",
      "Iteration: 100%|██████████| 267/267 [00:06<00:00, 39.16it/s]\n",
      "Iteration:  21%|██▏       | 57/267 [00:00<00:03, 66.19it/s]]"
     ]
    },
    {
     "name": "stdout",
     "output_type": "stream",
     "text": [
      "Evaluating...\n"
     ]
    },
    {
     "name": "stderr",
     "output_type": "stream",
     "text": [
      "Iteration:  24%|██▎       | 63/267 [00:00<00:01, 111.97it/s]"
     ]
    },
    {
     "name": "stdout",
     "output_type": "stream",
     "text": [
      "{'Train':  best_epoch_indx:86\n",
      " auc:0.9044279790541346 \n",
      " apur:0.8647768279146582 \n",
      " f1:0.7790382093739517 \n",
      " precision:0.7456800934033859 \n",
      " recall:0.8155206537700312 \n",
      ", 'Validation':  best_epoch_indx:86\n",
      " auc:0.9044279790541345 \n",
      " apur:0.8647768279146669 \n",
      " f1:0.7790382093739517 \n",
      " precision:0.7456800934033859 \n",
      " recall:0.8155206537700312 \n",
      ", 'Test':  best_epoch_indx:86\n",
      " auc:0.9044279790541346 \n",
      " apur:0.8647768279146582 \n",
      " f1:0.7790382093739517 \n",
      " precision:0.7456800934033859 \n",
      " recall:0.8155206537700312 \n",
      "}\n",
      "=====Epoch 87\n",
      "Training...\n"
     ]
    },
    {
     "name": "stderr",
     "output_type": "stream",
     "text": [
      "Iteration: 100%|██████████| 267/267 [00:02<00:00, 96.30it/s] \n",
      "Iteration: 100%|██████████| 267/267 [00:02<00:00, 119.64it/s]\n",
      "Iteration: 100%|██████████| 267/267 [00:03<00:00, 85.20it/s] \n",
      "Iteration: 100%|██████████| 267/267 [00:03<00:00, 67.03it/s]\n",
      "Iteration:   1%|▏         | 4/267 [00:00<00:06, 38.80it/s]s]]"
     ]
    },
    {
     "name": "stdout",
     "output_type": "stream",
     "text": [
      "{'Train':  best_epoch_indx:85\n",
      " auc:0.8958673180223594 \n",
      " apur:0.8519226705619812 \n",
      " f1:0.7684726076210405 \n",
      " precision:0.7318834300898247 \n",
      " recall:0.8089127242546128 \n",
      ", 'Validation':  best_epoch_indx:85\n",
      " auc:0.8958673186801456 \n",
      " apur:0.8519226710842572 \n",
      " f1:0.7684726076210405 \n",
      " precision:0.7318834300898247 \n",
      " recall:0.8089127242546128 \n",
      ", 'Test':  best_epoch_indx:85\n",
      " auc:0.8958673180223595 \n",
      " apur:0.851922670430524 \n",
      " f1:0.7684726076210405 \n",
      " precision:0.7318834300898247 \n",
      " recall:0.8089127242546128 \n",
      "}\n",
      "=====Epoch 86\n",
      "Training...\n"
     ]
    },
    {
     "name": "stderr",
     "output_type": "stream",
     "text": [
      "Iteration: 100%|██████████| 267/267 [00:02<00:00, 124.45it/s]\n",
      "Iteration: 100%|██████████| 267/267 [00:02<00:00, 97.87it/s] \n",
      "Iteration:  90%|█████████ | 241/267 [00:05<00:00, 45.62it/s]"
     ]
    },
    {
     "name": "stdout",
     "output_type": "stream",
     "text": [
      "{'Train':  best_epoch_indx:86\n",
      " auc:0.9076450326060704 \n",
      " apur:0.8690498758292359 \n",
      " f1:0.7842868426150843 \n",
      " precision:0.7355210196779964 \n",
      " recall:0.8399782934848533 \n",
      ", 'Validation':  best_epoch_indx:86\n",
      " auc:0.9076450326060704 \n",
      " apur:0.8690498758292359 \n",
      " f1:0.7842868426150843 \n",
      " precision:0.7355210196779964 \n",
      " recall:0.8399782934848533 \n",
      ", 'Test':  best_epoch_indx:86\n",
      " auc:0.9076450332638493 \n",
      " apur:0.8690498763819469 \n",
      " f1:0.7842868426150843 \n",
      " precision:0.7355210196779964 \n",
      " recall:0.8399782934848533 \n",
      "}\n",
      "=====Epoch 87\n",
      "Training...\n"
     ]
    },
    {
     "name": "stderr",
     "output_type": "stream",
     "text": [
      "Iteration:  98%|█████████▊| 261/267 [00:05<00:00, 45.65it/s]"
     ]
    },
    {
     "name": "stdout",
     "output_type": "stream",
     "text": [
      "{'Train':  best_epoch_indx:85\n",
      " auc:0.8946910232797249 \n",
      " apur:0.8517330946755979 \n",
      " f1:0.7679053225410841 \n",
      " precision:0.7386893175249218 \n",
      " recall:0.79952754900083 \n",
      ", 'Validation':  best_epoch_indx:85\n",
      " auc:0.8946910232797249 \n",
      " apur:0.8517330946756065 \n",
      " f1:0.7679053225410841 \n",
      " precision:0.7386893175249218 \n",
      " recall:0.79952754900083 \n",
      ", 'Test':  best_epoch_indx:85\n",
      " auc:0.8946910232797249 \n",
      " apur:0.8517330946755979 \n",
      " f1:0.7679053225410841 \n",
      " precision:0.7386893175249218 \n",
      " recall:0.79952754900083 \n",
      "}\n",
      "=====Epoch 86\n",
      "Training...\n",
      "Evaluating...\n"
     ]
    },
    {
     "name": "stderr",
     "output_type": "stream",
     "text": [
      "Iteration: 100%|██████████| 267/267 [00:05<00:00, 45.76it/s]\n",
      "Iteration: 100%|██████████| 267/267 [00:02<00:00, 121.57it/s]\n",
      "Iteration: 100%|██████████| 267/267 [00:06<00:00, 41.94it/s]]\n",
      "Iteration: 100%|██████████| 267/267 [00:03<00:00, 68.36it/s]]\n"
     ]
    },
    {
     "name": "stdout",
     "output_type": "stream",
     "text": [
      "Evaluating...\n"
     ]
    },
    {
     "name": "stderr",
     "output_type": "stream",
     "text": [
      "Iteration: 100%|██████████| 267/267 [00:02<00:00, 122.71it/s]\n",
      "Iteration: 100%|██████████| 267/267 [00:06<00:00, 42.95it/s]]\n",
      "Iteration:   0%|          | 0/267 [00:00<?, ?it/s]"
     ]
    },
    {
     "name": "stdout",
     "output_type": "stream",
     "text": [
      "Evaluating...\n"
     ]
    },
    {
     "name": "stderr",
     "output_type": "stream",
     "text": [
      "Iteration:   1%|▏         | 4/267 [00:00<00:07, 35.39it/s]s]]"
     ]
    },
    {
     "name": "stdout",
     "output_type": "stream",
     "text": [
      "{'Train':  best_epoch_indx:84\n",
      " auc:0.8900396387232901 \n",
      " apur:0.8451248727756084 \n",
      " f1:0.7629747114283196 \n",
      " precision:0.7065110966057441 \n",
      " recall:0.8292472706378089 \n",
      ", 'Validation':  best_epoch_indx:84\n",
      " auc:0.8900396387232901 \n",
      " apur:0.8451248727756084 \n",
      " f1:0.7629747114283196 \n",
      " precision:0.7065110966057441 \n",
      " recall:0.8292472706378089 \n",
      ", 'Test':  best_epoch_indx:84\n",
      " auc:0.8900396387232901 \n",
      " apur:0.8451248727756084 \n",
      " f1:0.7629747114283196 \n",
      " precision:0.7065110966057441 \n",
      " recall:0.8292472706378089 \n",
      "}\n",
      "=====Epoch 85\n",
      "Training...\n"
     ]
    },
    {
     "name": "stderr",
     "output_type": "stream",
     "text": [
      "Iteration: 100%|██████████| 267/267 [00:02<00:00, 121.72it/s]\n",
      "Iteration: 100%|██████████| 267/267 [00:07<00:00, 35.58it/s]]\n",
      "Iteration:  30%|███       | 81/267 [00:00<00:01, 102.68it/s]]"
     ]
    },
    {
     "name": "stdout",
     "output_type": "stream",
     "text": [
      "Evaluating...\n"
     ]
    },
    {
     "name": "stderr",
     "output_type": "stream",
     "text": [
      "Iteration: 100%|██████████| 267/267 [00:02<00:00, 119.99it/s]\n",
      "Iteration: 100%|██████████| 267/267 [00:02<00:00, 103.39it/s]\n",
      "Iteration:  60%|█████▉    | 160/267 [00:03<00:02, 45.25it/s]]"
     ]
    },
    {
     "name": "stdout",
     "output_type": "stream",
     "text": [
      "{'Train':  best_epoch_indx:87\n",
      " auc:0.9115356545095231 \n",
      " apur:0.8738048003349546 \n",
      " f1:0.7881918599458124 \n",
      " precision:0.7384791341218478 \n",
      " recall:0.8450807635829662 \n",
      ", 'Validation':  best_epoch_indx:87\n",
      " auc:0.9115356545095231 \n",
      " apur:0.8738048003349546 \n",
      " f1:0.7881918599458124 \n",
      " precision:0.7384791341218478 \n",
      " recall:0.8450807635829662 \n",
      ", 'Test':  best_epoch_indx:87\n",
      " auc:0.9115356545095231 \n",
      " apur:0.8738048003349546 \n",
      " f1:0.7881918599458124 \n",
      " precision:0.7384791341218478 \n",
      " recall:0.8450807635829662 \n",
      "}\n",
      "=====Epoch 88\n",
      "Training...\n"
     ]
    },
    {
     "name": "stderr",
     "output_type": "stream",
     "text": [
      "Iteration: 100%|██████████| 267/267 [00:02<00:00, 98.58it/s] \n",
      "Iteration:  81%|████████  | 215/267 [00:05<00:01, 45.19it/s]]\n",
      "Iteration: 100%|██████████| 267/267 [00:02<00:00, 97.35it/s] \n",
      "Iteration: 100%|██████████| 267/267 [00:06<00:00, 43.29it/s]\n",
      "Iteration:   4%|▍         | 12/267 [00:00<00:02, 115.27it/s]"
     ]
    },
    {
     "name": "stdout",
     "output_type": "stream",
     "text": [
      "Evaluating...\n"
     ]
    },
    {
     "name": "stderr",
     "output_type": "stream",
     "text": [
      "Iteration: 100%|██████████| 267/267 [00:02<00:00, 91.06it/s] \n",
      "Iteration: 100%|██████████| 267/267 [00:02<00:00, 119.38it/s]\n",
      "Iteration: 100%|██████████| 267/267 [00:02<00:00, 115.16it/s]\n",
      "Iteration:  97%|█████████▋| 259/267 [00:03<00:00, 100.39it/s]"
     ]
    },
    {
     "name": "stdout",
     "output_type": "stream",
     "text": [
      "{'Train':  best_epoch_indx:86\n",
      " auc:0.9034823613114673 \n",
      " apur:0.8621709977808625 \n",
      " f1:0.7802952696595361 \n",
      " precision:0.7388029896730758 \n",
      " recall:0.8267254038179148 \n",
      ", 'Validation':  best_epoch_indx:86\n",
      " auc:0.9034823613114673 \n",
      " apur:0.8621709977808625 \n",
      " f1:0.7802952696595361 \n",
      " precision:0.7388029896730758 \n",
      " recall:0.8267254038179148 \n",
      ", 'Test':  best_epoch_indx:86\n",
      " auc:0.9034823613114673 \n",
      " apur:0.8621709977808625 \n",
      " f1:0.7802952696595361 \n",
      " precision:0.7388029896730758 \n",
      " recall:0.8267254038179148 \n",
      "}\n",
      "=====Epoch 87\n",
      "Training...\n"
     ]
    },
    {
     "name": "stderr",
     "output_type": "stream",
     "text": [
      "Iteration: 100%|██████████| 267/267 [00:03<00:00, 80.75it/s] \n",
      "Iteration: 100%|██████████| 267/267 [00:06<00:00, 38.46it/s]]\n",
      "Iteration:  16%|█▌        | 43/267 [00:01<00:06, 35.29it/s]]]"
     ]
    },
    {
     "name": "stdout",
     "output_type": "stream",
     "text": [
      "{'Train':  best_epoch_indx:87\n",
      " auc:0.9146538692843077 \n",
      " apur:0.878289774855506 \n",
      " f1:0.7934208360147866 \n",
      " precision:0.7468864468864469 \n",
      " recall:0.8461391132250136 \n",
      ", 'Validation':  best_epoch_indx:87\n",
      " auc:0.9146538699420863 \n",
      " apur:0.8782897765156988 \n",
      " f1:0.7934208360147866 \n",
      " precision:0.7468864468864469 \n",
      " recall:0.8461391132250136 \n",
      ", 'Test':  best_epoch_indx:87\n",
      " auc:0.9146538692843077 \n",
      " apur:0.878289774855506 \n",
      " f1:0.7934208360147866 \n",
      " precision:0.7468864468864469 \n",
      " recall:0.8461391132250136 \n",
      "}\n",
      "=====Epoch 88\n",
      "Training...\n",
      "Evaluating...\n"
     ]
    },
    {
     "name": "stderr",
     "output_type": "stream",
     "text": [
      "Iteration: 100%|██████████| 267/267 [00:02<00:00, 118.56it/s]\n",
      "Iteration: 100%|██████████| 267/267 [00:02<00:00, 91.11it/s] \n",
      "Iteration:  36%|███▌      | 95/267 [00:02<00:03, 45.45it/s]]"
     ]
    },
    {
     "name": "stdout",
     "output_type": "stream",
     "text": [
      "{'Train':  best_epoch_indx:86\n",
      " auc:0.9074328812381862 \n",
      " apur:0.8682022677447678 \n",
      " f1:0.7833831422751535 \n",
      " precision:0.7331830452812335 \n",
      " recall:0.8409627785226329 \n",
      ", 'Validation':  best_epoch_indx:86\n",
      " auc:0.9074328812381862 \n",
      " apur:0.8682022677447678 \n",
      " f1:0.7833831422751535 \n",
      " precision:0.7331830452812335 \n",
      " recall:0.8409627785226329 \n",
      ", 'Test':  best_epoch_indx:86\n",
      " auc:0.9074328812381862 \n",
      " apur:0.8682022677447679 \n",
      " f1:0.7833831422751535 \n",
      " precision:0.7331830452812335 \n",
      " recall:0.8409627785226329 \n",
      "}\n",
      "=====Epoch 87\n",
      "Training...\n"
     ]
    },
    {
     "name": "stderr",
     "output_type": "stream",
     "text": [
      "Iteration: 100%|██████████| 267/267 [00:02<00:00, 92.40it/s] \n",
      "Iteration: 100%|██████████| 267/267 [00:02<00:00, 126.30it/s]\n",
      "Iteration: 100%|██████████| 267/267 [00:02<00:00, 119.81it/s]\n",
      "Iteration: 100%|██████████| 267/267 [00:07<00:00, 37.12it/s]\n",
      "Iteration:   3%|▎         | 9/267 [00:00<00:02, 86.74it/s]s]"
     ]
    },
    {
     "name": "stdout",
     "output_type": "stream",
     "text": [
      "Evaluating...\n",
      "{'Train':  best_epoch_indx:85\n",
      " auc:0.8976324146335908 \n",
      " apur:0.8544941448980913 \n",
      " f1:0.7718793077040895 \n",
      " precision:0.7419031916146508 \n",
      " recall:0.8043797484517653 \n",
      ", 'Validation':  best_epoch_indx:85\n",
      " auc:0.8976324146335909 \n",
      " apur:0.8544941448980913 \n",
      " f1:0.7718793077040895 \n",
      " precision:0.7419031916146508 \n",
      " recall:0.8043797484517653 \n",
      ", 'Test':  best_epoch_indx:85\n",
      " auc:0.8976324146335908 \n",
      " apur:0.8544941448980913 \n",
      " f1:0.7718793077040895 \n",
      " precision:0.7419031916146508 \n",
      " recall:0.8043797484517653 \n",
      "}\n",
      "=====Epoch 86\n",
      "Training...\n"
     ]
    },
    {
     "name": "stderr",
     "output_type": "stream",
     "text": [
      "Iteration: 100%|██████████| 267/267 [00:06<00:00, 40.37it/s]\n",
      "Iteration:   5%|▍         | 13/267 [00:00<00:08, 29.85it/s]]"
     ]
    },
    {
     "name": "stdout",
     "output_type": "stream",
     "text": [
      "Evaluating...\n"
     ]
    },
    {
     "name": "stderr",
     "output_type": "stream",
     "text": [
      "Iteration: 100%|██████████| 267/267 [00:02<00:00, 121.77it/s]\n",
      "Iteration: 100%|██████████| 267/267 [00:06<00:00, 43.28it/s]]\n",
      "Iteration:   0%|          | 0/267 [00:00<?, ?it/s]"
     ]
    },
    {
     "name": "stdout",
     "output_type": "stream",
     "text": [
      "Evaluating...\n"
     ]
    },
    {
     "name": "stderr",
     "output_type": "stream",
     "text": [
      "Iteration: 100%|██████████| 267/267 [00:02<00:00, 116.04it/s]\n",
      "Iteration: 100%|██████████| 267/267 [00:02<00:00, 96.08it/s] \n",
      "Iteration: 100%|██████████| 267/267 [00:02<00:00, 118.68it/s]\n",
      "Iteration:  55%|█████▌    | 147/267 [00:01<00:01, 99.86it/s] "
     ]
    },
    {
     "name": "stdout",
     "output_type": "stream",
     "text": [
      "{'Train':  best_epoch_indx:88\n",
      " auc:0.9202465603364129 \n",
      " apur:0.8862698230537673 \n",
      " f1:0.8008040442224322 \n",
      " precision:0.755355576308119 \n",
      " recall:0.8520717614760901 \n",
      ", 'Validation':  best_epoch_indx:88\n",
      " auc:0.920246560336413 \n",
      " apur:0.886269823053775 \n",
      " f1:0.8008040442224322 \n",
      " precision:0.755355576308119 \n",
      " recall:0.8520717614760901 \n",
      ", 'Test':  best_epoch_indx:88\n",
      " auc:0.920246560336413 \n",
      " apur:0.886269823053775 \n",
      " f1:0.8008040442224322 \n",
      " precision:0.755355576308119 \n",
      " recall:0.8520717614760901 \n",
      "}\n",
      "=====Epoch 89\n",
      "Training...\n"
     ]
    },
    {
     "name": "stderr",
     "output_type": "stream",
     "text": [
      "Iteration: 100%|██████████| 267/267 [00:02<00:00, 106.70it/s]\n",
      "Iteration: 100%|██████████| 267/267 [00:06<00:00, 39.82it/s]]\n",
      "Iteration:  25%|██▍       | 66/267 [00:01<00:05, 38.44it/s]"
     ]
    },
    {
     "name": "stdout",
     "output_type": "stream",
     "text": [
      "Evaluating...\n"
     ]
    },
    {
     "name": "stderr",
     "output_type": "stream",
     "text": [
      "Iteration: 100%|██████████| 267/267 [00:03<00:00, 69.30it/s]]\n",
      "Iteration: 100%|██████████| 267/267 [00:02<00:00, 120.41it/s]\n",
      "Iteration: 100%|██████████| 267/267 [00:02<00:00, 127.44it/s]\n",
      "Iteration: 100%|██████████| 267/267 [00:02<00:00, 114.94it/s]\n",
      "Iteration:  65%|██████▌   | 174/267 [00:02<00:01, 73.97it/s]]"
     ]
    },
    {
     "name": "stdout",
     "output_type": "stream",
     "text": [
      "{'Train':  best_epoch_indx:88\n",
      " auc:0.920985569094893 \n",
      " apur:0.8871117103114011 \n",
      " f1:0.8022432821497121 \n",
      " precision:0.7564831311331693 \n",
      " recall:0.8538960002553707 \n",
      ", 'Validation':  best_epoch_indx:88\n",
      " auc:0.920985569094893 \n",
      " apur:0.8871117103114011 \n",
      " f1:0.8022432821497121 \n",
      " precision:0.7564831311331693 \n",
      " recall:0.8538960002553707 \n",
      ", 'Test':  best_epoch_indx:88\n",
      " auc:0.920985569094893 \n",
      " apur:0.887111710311401 \n",
      " f1:0.8022432821497121 \n",
      " precision:0.7564831311331693 \n",
      " recall:0.8538960002553707 \n",
      "}\n",
      "=====Epoch 89\n",
      "Training...\n"
     ]
    },
    {
     "name": "stderr",
     "output_type": "stream",
     "text": [
      "Iteration: 100%|██████████| 267/267 [00:02<00:00, 117.81it/s]\n",
      "Iteration: 100%|██████████| 267/267 [00:06<00:00, 40.84it/s]]\n",
      "Iteration: 100%|██████████| 267/267 [00:03<00:00, 81.13it/s] \n",
      "Iteration:  12%|█▏        | 32/267 [00:00<00:06, 38.50it/s]"
     ]
    },
    {
     "name": "stdout",
     "output_type": "stream",
     "text": [
      "Evaluating...\n"
     ]
    },
    {
     "name": "stderr",
     "output_type": "stream",
     "text": [
      "Iteration: 100%|██████████| 267/267 [00:02<00:00, 120.30it/s]\n",
      "Iteration:  19%|█▉        | 51/267 [00:01<00:05, 38.63it/s]"
     ]
    },
    {
     "name": "stdout",
     "output_type": "stream",
     "text": [
      "{'Train':  best_epoch_indx:87\n",
      " auc:0.9143732161084632 \n",
      " apur:0.8772152580762578 \n",
      " f1:0.7922924963155749 \n",
      " precision:0.7785001232437762 \n",
      " recall:0.8065823916235715 \n",
      ", 'Validation':  best_epoch_indx:87\n",
      " auc:0.9143732161084632 \n",
      " apur:0.8772152580762578 \n",
      " f1:0.7922924963155749 \n",
      " precision:0.7785001232437762 \n",
      " recall:0.8065823916235715 \n",
      ", 'Test':  best_epoch_indx:87\n",
      " auc:0.9143732161084632 \n",
      " apur:0.8772152580762578 \n",
      " f1:0.7922924963155749 \n",
      " precision:0.7785001232437762 \n",
      " recall:0.8065823916235715 \n",
      "}\n",
      "=====Epoch 88\n",
      "Training...\n"
     ]
    },
    {
     "name": "stderr",
     "output_type": "stream",
     "text": [
      "Iteration:   0%|          | 0/267 [00:00<?, ?it/s]126.74it/s]"
     ]
    },
    {
     "name": "stdout",
     "output_type": "stream",
     "text": [
      "{'Train':  best_epoch_indx:87\n",
      " auc:0.9124523754561074 \n",
      " apur:0.8745262134735202 \n",
      " f1:0.7900826937949909 \n",
      " precision:0.7396546922862712 \n",
      " recall:0.8478899316861394 \n",
      ", 'Validation':  best_epoch_indx:87\n",
      " auc:0.9124523754561074 \n",
      " apur:0.8745262134735202 \n",
      " f1:0.7900826937949909 \n",
      " precision:0.7396546922862712 \n",
      " recall:0.8478899316861394 \n",
      ", 'Test':  best_epoch_indx:87\n",
      " auc:0.9124523754561074 \n",
      " apur:0.8745262134735202 \n",
      " f1:0.7900826937949909 \n",
      " precision:0.7396546922862712 \n",
      " recall:0.8478899316861394 \n",
      "}\n",
      "=====Epoch 88\n",
      "Training...\n"
     ]
    },
    {
     "name": "stderr",
     "output_type": "stream",
     "text": [
      "Iteration: 100%|██████████| 267/267 [00:02<00:00, 116.05it/s]\n",
      "Iteration: 100%|██████████| 267/267 [00:03<00:00, 88.31it/s] \n",
      "Iteration: 100%|██████████| 267/267 [00:06<00:00, 42.59it/s]]\n",
      "Iteration:  58%|█████▊    | 156/267 [00:04<00:02, 37.04it/s]"
     ]
    },
    {
     "name": "stdout",
     "output_type": "stream",
     "text": [
      "Evaluating...\n",
      "{'Train':  best_epoch_indx:86\n",
      " auc:0.9058165742233659 \n",
      " apur:0.864693796474132 \n",
      " f1:0.7820396626676294 \n",
      " precision:0.7537085837799425 \n",
      " recall:0.8125837962076231 \n",
      ", 'Validation':  best_epoch_indx:86\n",
      " auc:0.9058165748811522 \n",
      " apur:0.8646937992291314 \n",
      " f1:0.7820396626676294 \n",
      " precision:0.7537085837799425 \n",
      " recall:0.8125837962076231 \n",
      ", 'Test':  best_epoch_indx:86\n",
      " auc:0.9058165742233659 \n",
      " apur:0.864693796474132 \n",
      " f1:0.7820396626676294 \n",
      " precision:0.7537085837799425 \n",
      " recall:0.8125837962076231 \n",
      "}\n",
      "=====Epoch 87\n",
      "Training...\n"
     ]
    },
    {
     "name": "stderr",
     "output_type": "stream",
     "text": [
      "Iteration: 100%|██████████| 267/267 [00:03<00:00, 86.82it/s] \n",
      "Iteration: 100%|██████████| 267/267 [00:05<00:00, 45.04it/s]\n",
      "Iteration:   0%|          | 0/267 [00:00<?, ?it/s]"
     ]
    },
    {
     "name": "stdout",
     "output_type": "stream",
     "text": [
      "Evaluating...\n"
     ]
    },
    {
     "name": "stderr",
     "output_type": "stream",
     "text": [
      "Iteration: 100%|██████████| 267/267 [00:06<00:00, 39.65it/s]]\n",
      "Iteration:   0%|          | 0/267 [00:00<?, ?it/s]"
     ]
    },
    {
     "name": "stdout",
     "output_type": "stream",
     "text": [
      "Evaluating...\n"
     ]
    },
    {
     "name": "stderr",
     "output_type": "stream",
     "text": [
      "Iteration: 100%|██████████| 267/267 [00:02<00:00, 95.08it/s] \n",
      "Iteration: 100%|██████████| 267/267 [00:02<00:00, 122.88it/s]\n",
      "Iteration: 100%|██████████| 267/267 [00:02<00:00, 125.02it/s]\n",
      "Iteration: 100%|██████████| 267/267 [00:03<00:00, 78.64it/s] \n",
      "Iteration: 100%|██████████| 267/267 [00:02<00:00, 119.89it/s]\n",
      "Iteration:  99%|█████████▉| 264/267 [00:06<00:00, 45.04it/s]]"
     ]
    },
    {
     "name": "stdout",
     "output_type": "stream",
     "text": [
      "{'Train':  best_epoch_indx:89\n",
      " auc:0.9273237040156966 \n",
      " apur:0.8957560255133084 \n",
      " f1:0.8091937681416977 \n",
      " precision:0.7547378308193823 \n",
      " recall:0.8721190065760072 \n",
      ", 'Validation':  best_epoch_indx:89\n",
      " auc:0.9273237040156966 \n",
      " apur:0.8957560255133084 \n",
      " f1:0.8091937681416977 \n",
      " precision:0.7547378308193823 \n",
      " recall:0.8721190065760072 \n",
      ", 'Test':  best_epoch_indx:89\n",
      " auc:0.9273237036867967 \n",
      " apur:0.8957560250233759 \n",
      " f1:0.8091937681416977 \n",
      " precision:0.7547378308193823 \n",
      " recall:0.8721190065760072 \n",
      "}\n",
      "=====Epoch 90\n",
      "Training...\n",
      "Evaluating...\n"
     ]
    },
    {
     "name": "stderr",
     "output_type": "stream",
     "text": [
      "Iteration: 100%|██████████| 267/267 [00:06<00:00, 40.95it/s]]\n",
      "Iteration: 100%|██████████| 267/267 [00:03<00:00, 84.88it/s] \n",
      "Iteration: 100%|██████████| 267/267 [00:03<00:00, 84.22it/s] \n",
      "Iteration: 100%|██████████| 267/267 [00:02<00:00, 119.98it/s]\n",
      "Iteration: 100%|██████████| 267/267 [00:03<00:00, 82.20it/s] \n",
      "Iteration:   0%|          | 0/267 [00:00<?, ?it/s]100.53it/s]"
     ]
    },
    {
     "name": "stdout",
     "output_type": "stream",
     "text": [
      "{'Train':  best_epoch_indx:88\n",
      " auc:0.9228848795591474 \n",
      " apur:0.889964299833177 \n",
      " f1:0.8049356548069644 \n",
      " precision:0.7655512037783665 \n",
      " recall:0.8485922237119325 \n",
      ", 'Validation':  best_epoch_indx:88\n",
      " auc:0.9228848795591474 \n",
      " apur:0.889964299833177 \n",
      " f1:0.8049356548069644 \n",
      " precision:0.7655512037783665 \n",
      " recall:0.8485922237119325 \n",
      ", 'Test':  best_epoch_indx:88\n",
      " auc:0.9228848792302543 \n",
      " apur:0.8899642988872587 \n",
      " f1:0.8049356548069644 \n",
      " precision:0.7655512037783665 \n",
      " recall:0.8485922237119325 \n",
      "}\n",
      "=====Epoch 89\n",
      "Training...\n"
     ]
    },
    {
     "name": "stderr",
     "output_type": "stream",
     "text": [
      "Iteration: 100%|██████████| 267/267 [00:03<00:00, 74.95it/s] \n",
      "Iteration: 100%|██████████| 267/267 [00:02<00:00, 98.35it/s]]\n",
      "Iteration: 100%|██████████| 267/267 [00:05<00:00, 44.58it/s]\n",
      "Iteration:   0%|          | 0/267 [00:00<?, ?it/s]"
     ]
    },
    {
     "name": "stdout",
     "output_type": "stream",
     "text": [
      "Evaluating...\n"
     ]
    },
    {
     "name": "stderr",
     "output_type": "stream",
     "text": [
      "\r",
      "Iteration:  10%|▉         | 26/267 [00:00<00:06, 35.62it/s]\r",
      "Iteration:  70%|██████▉   | 186/267 [00:02<00:00, 111.48it/s]\r",
      "Iteration:   4%|▍         | 12/267 [00:00<00:02, 118.91it/s]\r",
      "Iteration:  75%|███████▍  | 199/267 [00:02<00:00, 115.92it/s]\r",
      "Iteration:  11%|█         | 30/267 [00:00<00:06, 34.87it/s]\r",
      "Iteration:   9%|▉         | 25/267 [00:00<00:01, 123.80it/s]"
     ]
    },
    {
     "name": "stdout",
     "output_type": "stream",
     "text": [
      "{'Train':  best_epoch_indx:89\n",
      " auc:0.9289026518951562 \n",
      " apur:0.8971751421357308 \n",
      " f1:0.8128915662650602 \n",
      " precision:0.7694807971944231 \n",
      " recall:0.8614932805567083 \n",
      ", 'Validation':  best_epoch_indx:89\n",
      " auc:0.9289026522240456 \n",
      " apur:0.8971751433381732 \n",
      " f1:0.8128915662650602 \n",
      " precision:0.7694807971944231 \n",
      " recall:0.8614932805567083 \n",
      ", 'Test':  best_epoch_indx:89\n",
      " auc:0.9289026522240454 \n",
      " apur:0.8971751433381732 \n",
      " f1:0.8128915662650602 \n",
      " precision:0.7694807971944231 \n",
      " recall:0.8614932805567083 \n",
      "}\n",
      "=====Epoch 90\n",
      "Training...\n"
     ]
    },
    {
     "name": "stderr",
     "output_type": "stream",
     "text": [
      "Iteration: 100%|██████████| 267/267 [00:02<00:00, 93.21it/s] \n",
      "Iteration:   8%|▊         | 22/267 [00:00<00:03, 65.69it/s]s]"
     ]
    },
    {
     "name": "stdout",
     "output_type": "stream",
     "text": [
      "{'Train':  best_epoch_indx:88\n",
      " auc:0.92093775705874 \n",
      " apur:0.8871632420352737 \n",
      " f1:0.8029397976620745 \n",
      " precision:0.7628516421941898 \n",
      " recall:0.8474749409436251 \n",
      ", 'Validation':  best_epoch_indx:88\n",
      " auc:0.92093775705874 \n",
      " apur:0.8871632420352737 \n",
      " f1:0.8029397976620745 \n",
      " precision:0.7628516421941898 \n",
      " recall:0.8474749409436251 \n",
      ", 'Test':  best_epoch_indx:88\n",
      " auc:0.92093775705874 \n",
      " apur:0.8871632420352737 \n",
      " f1:0.8029397976620745 \n",
      " precision:0.7628516421941898 \n",
      " recall:0.8474749409436251 \n",
      "}\n",
      "=====Epoch 89\n",
      "Training...\n"
     ]
    },
    {
     "name": "stderr",
     "output_type": "stream",
     "text": [
      "Iteration: 100%|██████████| 267/267 [00:02<00:00, 126.50it/s]\n",
      "Iteration: 100%|██████████| 267/267 [00:02<00:00, 91.62it/s] \n",
      "Iteration:  93%|█████████▎| 247/267 [00:05<00:00, 45.49it/s]"
     ]
    },
    {
     "name": "stdout",
     "output_type": "stream",
     "text": [
      "{'Train':  best_epoch_indx:87\n",
      " auc:0.9117090092859548 \n",
      " apur:0.8741488106196712 \n",
      " f1:0.7887193712436431 \n",
      " precision:0.7401405099784477 \n",
      " recall:0.8441230926387027 \n",
      ", 'Validation':  best_epoch_indx:87\n",
      " auc:0.9117090092859548 \n",
      " apur:0.8741488106196567 \n",
      " f1:0.7887193712436431 \n",
      " precision:0.7401405099784477 \n",
      " recall:0.8441230926387027 \n",
      ", 'Test':  best_epoch_indx:87\n",
      " auc:0.9117090092859548 \n",
      " apur:0.8741488106196567 \n",
      " f1:0.7887193712436431 \n",
      " precision:0.7401405099784477 \n",
      " recall:0.8441230926387027 \n",
      "}\n",
      "=====Epoch 88\n",
      "Training...\n"
     ]
    },
    {
     "name": "stderr",
     "output_type": "stream",
     "text": [
      "Iteration: 100%|██████████| 267/267 [00:06<00:00, 42.79it/s]]\n",
      "Iteration:   0%|          | 0/267 [00:00<?, ?it/s]"
     ]
    },
    {
     "name": "stdout",
     "output_type": "stream",
     "text": [
      "Evaluating...\n"
     ]
    },
    {
     "name": "stderr",
     "output_type": "stream",
     "text": [
      "Iteration: 100%|██████████| 267/267 [00:03<00:00, 83.75it/s] \n",
      "Iteration: 100%|██████████| 267/267 [00:05<00:00, 45.67it/s]]\n",
      "Iteration: 100%|██████████| 267/267 [00:07<00:00, 36.82it/s]]\n",
      "Iteration:   0%|          | 0/267 [00:00<?, ?it/s]"
     ]
    },
    {
     "name": "stdout",
     "output_type": "stream",
     "text": [
      "Evaluating...\n",
      "Evaluating...\n"
     ]
    },
    {
     "name": "stderr",
     "output_type": "stream",
     "text": [
      "Iteration: 100%|██████████| 267/267 [00:02<00:00, 118.90it/s]\n",
      "Iteration: 100%|██████████| 267/267 [00:02<00:00, 119.18it/s]\n",
      "Iteration: 100%|██████████| 267/267 [00:02<00:00, 114.69it/s]\n",
      "Iteration: 100%|██████████| 267/267 [00:03<00:00, 81.16it/s] \n",
      "Iteration:  53%|█████▎    | 142/267 [00:02<00:01, 67.10it/s]"
     ]
    },
    {
     "name": "stdout",
     "output_type": "stream",
     "text": [
      "{'Train':  best_epoch_indx:90\n",
      " auc:0.9254721867938943 \n",
      " apur:0.8936913096126992 \n",
      " f1:0.8082565470417071 \n",
      " precision:0.7694038894338969 \n",
      " recall:0.8512417799910618 \n",
      ", 'Validation':  best_epoch_indx:90\n",
      " auc:0.9254721867938943 \n",
      " apur:0.8936913096126992 \n",
      " f1:0.8082565470417071 \n",
      " precision:0.7694038894338969 \n",
      " recall:0.8512417799910618 \n",
      ", 'Test':  best_epoch_indx:90\n",
      " auc:0.9254721867938943 \n",
      " apur:0.8936913096126992 \n",
      " f1:0.8082565470417071 \n",
      " precision:0.7694038894338969 \n",
      " recall:0.8512417799910618 \n",
      "}\n",
      "=====Epoch 91\n",
      "Training...\n"
     ]
    },
    {
     "name": "stderr",
     "output_type": "stream",
     "text": [
      "Iteration: 100%|██████████| 267/267 [00:06<00:00, 39.62it/s]]\n",
      "Iteration:  75%|███████▍  | 200/267 [00:03<00:01, 63.47it/s]]"
     ]
    },
    {
     "name": "stdout",
     "output_type": "stream",
     "text": [
      "Evaluating...\n"
     ]
    },
    {
     "name": "stderr",
     "output_type": "stream",
     "text": [
      "Iteration: 100%|██████████| 267/267 [00:02<00:00, 113.89it/s]\n",
      "Iteration: 100%|██████████| 267/267 [00:04<00:00, 64.06it/s]\n",
      "Iteration: 100%|██████████| 267/267 [00:02<00:00, 111.03it/s]\n",
      "Iteration: 100%|██████████| 267/267 [00:03<00:00, 76.69it/s] \n",
      "Iteration: 100%|██████████| 267/267 [00:02<00:00, 112.93it/s]\n",
      "Iteration: 100%|██████████| 267/267 [00:06<00:00, 43.55it/s]\n",
      "Iteration:  92%|█████████▏| 246/267 [00:02<00:00, 95.69it/s] "
     ]
    },
    {
     "name": "stdout",
     "output_type": "stream",
     "text": [
      "Evaluating...\n"
     ]
    },
    {
     "name": "stderr",
     "output_type": "stream",
     "text": [
      "Iteration: 100%|██████████| 267/267 [00:03<00:00, 87.67it/s] \n",
      "Iteration:  64%|██████▎   | 170/267 [00:02<00:01, 64.76it/s]"
     ]
    },
    {
     "name": "stdout",
     "output_type": "stream",
     "text": [
      "{'Train':  best_epoch_indx:89\n",
      " auc:0.9288470942274405 \n",
      " apur:0.897339508005524 \n",
      " f1:0.8137129646529172 \n",
      " precision:0.7771192841787229 \n",
      " recall:0.8539232586349996 \n",
      ", 'Validation':  best_epoch_indx:89\n",
      " auc:0.9288470942274405 \n",
      " apur:0.897339508005524 \n",
      " f1:0.8137129646529172 \n",
      " precision:0.7771192841787229 \n",
      " recall:0.8539232586349996 \n",
      ", 'Test':  best_epoch_indx:89\n",
      " auc:0.9288470942274405 \n",
      " apur:0.8973395080055326 \n",
      " f1:0.8137129646529172 \n",
      " precision:0.7771192841787229 \n",
      " recall:0.8539232586349996 \n",
      "}\n",
      "=====Epoch 90\n",
      "Training...\n"
     ]
    },
    {
     "name": "stderr",
     "output_type": "stream",
     "text": [
      "Iteration:   1%|▏         | 4/267 [00:00<00:06, 39.45it/s]]]]"
     ]
    },
    {
     "name": "stdout",
     "output_type": "stream",
     "text": [
      "{'Train':  best_epoch_indx:89\n",
      " auc:0.9276718516138502 \n",
      " apur:0.8960819428065468 \n",
      " f1:0.8101146489067299 \n",
      " precision:0.7734901277584204 \n",
      " recall:0.8503798761412246 \n",
      ", 'Validation':  best_epoch_indx:89\n",
      " auc:0.9276718512849571 \n",
      " apur:0.8960819417884349 \n",
      " f1:0.8101146489067299 \n",
      " precision:0.7734901277584204 \n",
      " recall:0.8503798761412246 \n",
      ", 'Test':  best_epoch_indx:89\n",
      " auc:0.9276718516138502 \n",
      " apur:0.8960819428065468 \n",
      " f1:0.8101146489067299 \n",
      " precision:0.7734901277584204 \n",
      " recall:0.8503798761412246 \n",
      "}\n",
      "=====Epoch 90\n",
      "Training...\n"
     ]
    },
    {
     "name": "stderr",
     "output_type": "stream",
     "text": [
      "Iteration: 100%|██████████| 267/267 [00:03<00:00, 77.70it/s] \n",
      "Iteration: 100%|██████████| 267/267 [00:02<00:00, 122.90it/s]\n",
      "Iteration: 100%|██████████| 267/267 [00:03<00:00, 73.95it/s] \n",
      "Iteration:  46%|████▌     | 123/267 [00:03<00:03, 38.16it/s]]"
     ]
    },
    {
     "name": "stdout",
     "output_type": "stream",
     "text": [
      "{'Train':  best_epoch_indx:90\n",
      " auc:0.9278580712569016 \n",
      " apur:0.8969302173273184 \n",
      " f1:0.811690478357145 \n",
      " precision:0.7732250700725287 \n",
      " recall:0.8541832923676063 \n",
      ", 'Validation':  best_epoch_indx:90\n",
      " auc:0.9278580712569016 \n",
      " apur:0.8969302173273122 \n",
      " f1:0.811690478357145 \n",
      " precision:0.7732250700725287 \n",
      " recall:0.8541832923676063 \n",
      ", 'Test':  best_epoch_indx:90\n",
      " auc:0.9278580712569016 \n",
      " apur:0.8969302173273122 \n",
      " f1:0.811690478357145 \n",
      " precision:0.7732250700725287 \n",
      " recall:0.8541832923676063 \n",
      "}\n",
      "=====Epoch 91\n",
      "Training...\n"
     ]
    },
    {
     "name": "stderr",
     "output_type": "stream",
     "text": [
      "Iteration: 100%|██████████| 267/267 [00:02<00:00, 102.45it/s]\n",
      "Iteration: 100%|██████████| 267/267 [00:02<00:00, 93.97it/s]\n",
      "Iteration: 100%|██████████| 267/267 [00:05<00:00, 44.69it/s]\n",
      "Iteration:  36%|███▌      | 95/267 [00:02<00:05, 34.18it/s]]"
     ]
    },
    {
     "name": "stdout",
     "output_type": "stream",
     "text": [
      "Evaluating...\n"
     ]
    },
    {
     "name": "stderr",
     "output_type": "stream",
     "text": [
      "\r",
      "Iteration:  91%|█████████ | 242/267 [00:05<00:00, 44.75it/s]\r",
      "Iteration:   9%|▉         | 25/267 [00:00<00:01, 123.80it/s]\r",
      "Iteration:  37%|███▋      | 99/267 [00:02<00:04, 34.28it/s]\r",
      "Iteration:  93%|█████████▎| 247/267 [00:05<00:00, 45.02it/s]\r",
      "Iteration:  14%|█▍        | 38/267 [00:00<00:01, 125.41it/s]\r",
      "Iteration:   0%|          | 0/267 [00:00<?, ?it/s]\r",
      "Iteration:  39%|███▉      | 104/267 [00:02<00:04, 35.89it/s]\r",
      "Iteration:   0%|          | 0/267 [00:00<?, ?it/s]"
     ]
    },
    {
     "name": "stdout",
     "output_type": "stream",
     "text": [
      "{'Train':  best_epoch_indx:88\n",
      " auc:0.9203878119371858 \n",
      " apur:0.8853695470530634 \n",
      " f1:0.801301748278211 \n",
      " precision:0.7619390310601917 \n",
      " recall:0.8449530741237311 \n",
      ", 'Validation':  best_epoch_indx:88\n",
      " auc:0.9203878119371858 \n",
      " apur:0.8853695470530634 \n",
      " f1:0.801301748278211 \n",
      " precision:0.7619390310601917 \n",
      " recall:0.8449530741237311 \n",
      ", 'Test':  best_epoch_indx:88\n",
      " auc:0.9203878122660789 \n",
      " apur:0.885369547610523 \n",
      " f1:0.801301748278211 \n",
      " precision:0.7619390310601917 \n",
      " recall:0.8449530741237311 \n",
      "}\n",
      "=====Epoch 89\n",
      "Training...\n"
     ]
    },
    {
     "name": "stderr",
     "output_type": "stream",
     "text": [
      "Iteration: 100%|██████████| 267/267 [00:06<00:00, 41.84it/s]\n",
      "Iteration:  11%|█         | 29/267 [00:00<00:03, 67.30it/s]]"
     ]
    },
    {
     "name": "stdout",
     "output_type": "stream",
     "text": [
      "Evaluating...\n"
     ]
    },
    {
     "name": "stderr",
     "output_type": "stream",
     "text": [
      "Iteration: 100%|██████████| 267/267 [00:02<00:00, 123.00it/s]\n",
      "Iteration: 100%|██████████| 267/267 [00:02<00:00, 125.61it/s]\n",
      "Iteration: 100%|██████████| 267/267 [00:02<00:00, 91.58it/s] \n",
      "Iteration:   0%|          | 0/267 [00:00<?, ?it/s]39.31it/s]"
     ]
    },
    {
     "name": "stdout",
     "output_type": "stream",
     "text": [
      "{'Train':  best_epoch_indx:91\n",
      " auc:0.9210140709066338 \n",
      " apur:0.8875591461987642 \n",
      " f1:0.8019583021947015 \n",
      " precision:0.7678222014543967 \n",
      " recall:0.8392708931877674 \n",
      ", 'Validation':  best_epoch_indx:91\n",
      " auc:0.9210140709066338 \n",
      " apur:0.8875591461987642 \n",
      " f1:0.8019583021947015 \n",
      " precision:0.7678222014543967 \n",
      " recall:0.8392708931877674 \n",
      ", 'Test':  best_epoch_indx:91\n",
      " auc:0.9210140709066338 \n",
      " apur:0.8875591461987642 \n",
      " f1:0.8019583021947015 \n",
      " precision:0.7678222014543967 \n",
      " recall:0.8392708931877674 \n",
      "}\n",
      "=====Epoch 92\n",
      "Training...\n"
     ]
    },
    {
     "name": "stderr",
     "output_type": "stream",
     "text": [
      "\r",
      "Iteration:  31%|███▏      | 84/267 [00:01<00:02, 83.98it/s]\r",
      "Iteration:  22%|██▏       | 58/267 [00:00<00:01, 119.44it/s]\r",
      "Iteration:  54%|█████▍    | 145/267 [00:03<00:03, 36.74it/s]\r",
      "Iteration:   2%|▏         | 6/267 [00:00<00:05, 49.58it/s]\r",
      "Iteration:  36%|███▋      | 97/267 [00:01<00:01, 96.41it/s]\r",
      "Iteration:  27%|██▋       | 71/267 [00:00<00:01, 122.51it/s]\r",
      "Iteration: 100%|██████████| 267/267 [00:06<00:00, 31.58it/s]\r",
      "Iteration: 100%|██████████| 267/267 [00:06<00:00, 38.68it/s]\n",
      "\r",
      "Iteration:   0%|          | 0/267 [00:00<?, ?it/s]\r",
      "Iteration:  56%|█████▌    | 149/267 [00:04<00:03, 36.37it/s]\r",
      "Iteration:   4%|▍         | 11/267 [00:00<00:05, 47.35it/s]"
     ]
    },
    {
     "name": "stdout",
     "output_type": "stream",
     "text": [
      "Evaluating...\n"
     ]
    },
    {
     "name": "stderr",
     "output_type": "stream",
     "text": [
      "Iteration: 100%|██████████| 267/267 [00:02<00:00, 97.76it/s] \n",
      "Iteration: 100%|██████████| 267/267 [00:02<00:00, 118.28it/s]\n",
      "Iteration: 100%|██████████| 267/267 [00:02<00:00, 92.50it/s] \n",
      "Iteration: 100%|██████████| 267/267 [00:07<00:00, 37.03it/s]\n",
      "Iteration:  58%|█████▊    | 156/267 [00:03<00:02, 40.01it/s]"
     ]
    },
    {
     "name": "stdout",
     "output_type": "stream",
     "text": [
      "Evaluating...\n"
     ]
    },
    {
     "name": "stderr",
     "output_type": "stream",
     "text": [
      "Iteration: 100%|██████████| 267/267 [00:02<00:00, 119.02it/s]\n",
      "Iteration: 100%|██████████| 267/267 [00:02<00:00, 109.77it/s]\n",
      "Iteration: 100%|██████████| 267/267 [00:02<00:00, 123.73it/s]\n",
      "Iteration: 100%|██████████| 267/267 [00:03<00:00, 80.43it/s]\n",
      "Iteration: 100%|██████████| 267/267 [00:06<00:00, 40.50it/s]\n",
      "Iteration:  11%|█         | 29/267 [00:00<00:02, 103.17it/s]"
     ]
    },
    {
     "name": "stdout",
     "output_type": "stream",
     "text": [
      "Evaluating...\n",
      "{'Train':  best_epoch_indx:90\n",
      " auc:0.9249350103934826 \n",
      " apur:0.8928368759877294 \n",
      " f1:0.8081564584596725 \n",
      " precision:0.7695617023733903 \n",
      " recall:0.8508267892485475 \n",
      ", 'Validation':  best_epoch_indx:90\n",
      " auc:0.9249350103934826 \n",
      " apur:0.8928368759877294 \n",
      " f1:0.8081564584596725 \n",
      " precision:0.7695617023733903 \n",
      " recall:0.8508267892485475 \n",
      ", 'Test':  best_epoch_indx:90\n",
      " auc:0.9249350103934826 \n",
      " apur:0.8928368759877294 \n",
      " f1:0.8081564584596725 \n",
      " precision:0.7695617023733903 \n",
      " recall:0.8508267892485475 \n",
      "}\n",
      "=====Epoch 91\n",
      "Training...\n"
     ]
    },
    {
     "name": "stderr",
     "output_type": "stream",
     "text": [
      "Iteration:  11%|█         | 30/267 [00:00<00:05, 43.31it/s]s]"
     ]
    },
    {
     "name": "stdout",
     "output_type": "stream",
     "text": [
      "{'Train':  best_epoch_indx:90\n",
      " auc:0.9266280830324587 \n",
      " apur:0.8947013114052934 \n",
      " f1:0.8105588163365126 \n",
      " precision:0.7776115901225878 \n",
      " recall:0.8464215029049352 \n",
      ", 'Validation':  best_epoch_indx:90\n",
      " auc:0.9266280830324587 \n",
      " apur:0.8947013114052934 \n",
      " f1:0.8105588163365126 \n",
      " precision:0.7776115901225878 \n",
      " recall:0.8464215029049352 \n",
      ", 'Test':  best_epoch_indx:90\n",
      " auc:0.9266280830324587 \n",
      " apur:0.8947013114052934 \n",
      " f1:0.8105588163365126 \n",
      " precision:0.7776115901225878 \n",
      " recall:0.8464215029049352 \n",
      "}\n",
      "=====Epoch 91\n",
      "Training...\n"
     ]
    },
    {
     "name": "stderr",
     "output_type": "stream",
     "text": [
      "Iteration: 100%|██████████| 267/267 [00:02<00:00, 119.36it/s]\n",
      "Iteration: 100%|██████████| 267/267 [00:02<00:00, 117.49it/s]\n",
      "Iteration: 100%|██████████| 267/267 [00:02<00:00, 118.34it/s]\n",
      "Iteration:  60%|█████▉    | 159/267 [00:03<00:02, 45.00it/s]]"
     ]
    },
    {
     "name": "stdout",
     "output_type": "stream",
     "text": [
      "{'Train':  best_epoch_indx:91\n",
      " auc:0.9222023259566337 \n",
      " apur:0.8890667145170073 \n",
      " f1:0.8044768885927183 \n",
      " precision:0.7653669923056973 \n",
      " recall:0.8477990232068184 \n",
      ", 'Validation':  best_epoch_indx:91\n",
      " auc:0.9222023259566337 \n",
      " apur:0.8890667145170073 \n",
      " f1:0.8044768885927183 \n",
      " precision:0.7653669923056973 \n",
      " recall:0.8477990232068184 \n",
      ", 'Test':  best_epoch_indx:91\n",
      " auc:0.9222023259566337 \n",
      " apur:0.8890667145170073 \n",
      " f1:0.8044768885927183 \n",
      " precision:0.7653669923056973 \n",
      " recall:0.8477990232068184 \n",
      "}\n",
      "=====Epoch 92\n",
      "Training...\n"
     ]
    },
    {
     "name": "stderr",
     "output_type": "stream",
     "text": [
      "Iteration: 100%|██████████| 267/267 [00:02<00:00, 124.22it/s]\n",
      "Iteration: 100%|██████████| 267/267 [00:02<00:00, 119.31it/s]\n",
      "Iteration: 100%|██████████| 267/267 [00:06<00:00, 42.39it/s]\n",
      "Iteration:   2%|▏         | 6/267 [00:00<00:05, 49.63it/s]]"
     ]
    },
    {
     "name": "stdout",
     "output_type": "stream",
     "text": [
      "{'Train':  best_epoch_indx:89\n",
      " auc:0.92592909802684 \n",
      " apur:0.8930691970221244 \n",
      " f1:0.8096964895173085 \n",
      " precision:0.7745292368681863 \n",
      " recall:0.8482091553342271 \n",
      ", 'Validation':  best_epoch_indx:89\n",
      " auc:0.9259290980268399 \n",
      " apur:0.8930691970221186 \n",
      " f1:0.8096964895173085 \n",
      " precision:0.7745292368681863 \n",
      " recall:0.8482091553342271 \n",
      ", 'Test':  best_epoch_indx:89\n",
      " auc:0.9259290980268399 \n",
      " apur:0.8930691970221186 \n",
      " f1:0.8096964895173085 \n",
      " precision:0.7745292368681863 \n",
      " recall:0.8482091553342271 \n",
      "}\n",
      "=====Epoch 90\n",
      "Training...\n",
      "Evaluating...\n"
     ]
    },
    {
     "name": "stderr",
     "output_type": "stream",
     "text": [
      "Iteration: 100%|██████████| 267/267 [00:06<00:00, 41.54it/s]\n",
      "Iteration:  49%|████▊     | 130/267 [00:03<00:03, 44.77it/s]"
     ]
    },
    {
     "name": "stdout",
     "output_type": "stream",
     "text": [
      "Evaluating...\n"
     ]
    },
    {
     "name": "stderr",
     "output_type": "stream",
     "text": [
      "Iteration: 100%|██████████| 267/267 [00:02<00:00, 122.31it/s]\n",
      "Iteration: 100%|██████████| 267/267 [00:02<00:00, 108.61it/s]\n",
      "Iteration: 100%|██████████| 267/267 [00:03<00:00, 75.97it/s] \n",
      "Iteration: 100%|██████████| 267/267 [00:06<00:00, 41.85it/s]\n",
      "Iteration:  58%|█████▊    | 155/267 [00:04<00:02, 40.06it/s]]"
     ]
    },
    {
     "name": "stdout",
     "output_type": "stream",
     "text": [
      "Evaluating...\n"
     ]
    },
    {
     "name": "stderr",
     "output_type": "stream",
     "text": [
      "Iteration:  65%|██████▌   | 174/267 [00:04<00:03, 29.11it/s]]"
     ]
    },
    {
     "name": "stdout",
     "output_type": "stream",
     "text": [
      "{'Train':  best_epoch_indx:92\n",
      " auc:0.9171485908375961 \n",
      " apur:0.8815094850575645 \n",
      " f1:0.7969757214290017 \n",
      " precision:0.7544339891645281 \n",
      " recall:0.8446019281108345 \n",
      ", 'Validation':  best_epoch_indx:92\n",
      " auc:0.9171485918242959 \n",
      " apur:0.8815094861205552 \n",
      " f1:0.7969757214290017 \n",
      " precision:0.7544339891645281 \n",
      " recall:0.8446019281108345 \n",
      ", 'Test':  best_epoch_indx:92\n",
      " auc:0.917148591495396 \n",
      " apur:0.8815094855310472 \n",
      " f1:0.7969757214290017 \n",
      " precision:0.7544339891645281 \n",
      " recall:0.8446019281108345 \n",
      "}\n",
      "=====Epoch 93\n",
      "Training...\n"
     ]
    },
    {
     "name": "stderr",
     "output_type": "stream",
     "text": [
      "Iteration: 100%|██████████| 267/267 [00:02<00:00, 120.42it/s]\n",
      "Iteration: 100%|██████████| 267/267 [00:02<00:00, 125.40it/s]\n",
      "Iteration: 100%|██████████| 267/267 [00:02<00:00, 123.88it/s]\n",
      "Iteration: 100%|██████████| 267/267 [00:06<00:00, 38.39it/s]\n",
      "Iteration:   5%|▌         | 14/267 [00:00<00:03, 64.75it/s]"
     ]
    },
    {
     "name": "stdout",
     "output_type": "stream",
     "text": [
      "Evaluating...\n"
     ]
    },
    {
     "name": "stderr",
     "output_type": "stream",
     "text": [
      "Iteration: 100%|██████████| 267/267 [00:02<00:00, 122.69it/s]\n",
      "Iteration: 100%|██████████| 267/267 [00:02<00:00, 113.20it/s]\n",
      "Iteration: 100%|██████████| 267/267 [00:02<00:00, 116.85it/s]\n",
      "Iteration:  14%|█▍        | 38/267 [00:00<00:01, 125.13it/s]]"
     ]
    },
    {
     "name": "stdout",
     "output_type": "stream",
     "text": [
      "{'Train':  best_epoch_indx:91\n",
      " auc:0.9210338800155063 \n",
      " apur:0.8875051172375266 \n",
      " f1:0.8022527023344538 \n",
      " precision:0.7629578438147893 \n",
      " recall:0.8458149779735683 \n",
      ", 'Validation':  best_epoch_indx:91\n",
      " auc:0.9210338800155063 \n",
      " apur:0.8875051172375266 \n",
      " f1:0.8022527023344538 \n",
      " precision:0.7629578438147893 \n",
      " recall:0.8458149779735683 \n",
      ", 'Test':  best_epoch_indx:91\n",
      " auc:0.9210338796866132 \n",
      " apur:0.8875051169822181 \n",
      " f1:0.8022527023344538 \n",
      " precision:0.7629578438147893 \n",
      " recall:0.8458149779735683 \n",
      "}\n",
      "=====Epoch 92\n",
      "Training...\n"
     ]
    },
    {
     "name": "stderr",
     "output_type": "stream",
     "text": [
      "Iteration: 100%|██████████| 267/267 [00:06<00:00, 40.06it/s]]\n",
      "Iteration:  93%|█████████▎| 249/267 [00:02<00:00, 92.67it/s] "
     ]
    },
    {
     "name": "stdout",
     "output_type": "stream",
     "text": [
      "Evaluating...\n"
     ]
    },
    {
     "name": "stderr",
     "output_type": "stream",
     "text": [
      "Iteration: 100%|██████████| 267/267 [00:02<00:00, 106.02it/s]\n",
      "Iteration: 100%|██████████| 267/267 [00:02<00:00, 120.46it/s]\n",
      "Iteration: 100%|██████████| 267/267 [00:02<00:00, 104.44it/s]\n",
      "Iteration: 100%|██████████| 267/267 [00:02<00:00, 121.08it/s]\n",
      "Iteration:   2%|▏         | 5/267 [00:00<00:06, 41.24it/s]"
     ]
    },
    {
     "name": "stdout",
     "output_type": "stream",
     "text": [
      "{'Train':  best_epoch_indx:91\n",
      " auc:0.9222099836712466 \n",
      " apur:0.887848174064856 \n",
      " f1:0.8034745181211402 \n",
      " precision:0.7854442344045368 \n",
      " recall:0.8223520398391113 \n",
      ", 'Validation':  best_epoch_indx:91\n",
      " auc:0.9222099836712466 \n",
      " apur:0.8878481740648613 \n",
      " f1:0.8034745181211402 \n",
      " precision:0.7854442344045368 \n",
      " recall:0.8223520398391113 \n",
      ", 'Test':  best_epoch_indx:91\n",
      " auc:0.9222099836712466 \n",
      " apur:0.8878481740648613 \n",
      " f1:0.8034745181211402 \n",
      " precision:0.7854442344045368 \n",
      " recall:0.8223520398391113 \n",
      "}\n",
      "=====Epoch 92\n",
      "Training...\n"
     ]
    },
    {
     "name": "stderr",
     "output_type": "stream",
     "text": [
      "Iteration:   8%|▊         | 22/267 [00:00<00:06, 36.19it/s]]"
     ]
    },
    {
     "name": "stdout",
     "output_type": "stream",
     "text": [
      "{'Train':  best_epoch_indx:92\n",
      " auc:0.914914260218292 \n",
      " apur:0.8782787448583551 \n",
      " f1:0.792257344956121 \n",
      " precision:0.7332065734075784 \n",
      " recall:0.861652887285728 \n",
      ", 'Validation':  best_epoch_indx:92\n",
      " auc:0.9149142595605132 \n",
      " apur:0.8782787442147137 \n",
      " f1:0.792257344956121 \n",
      " precision:0.7332065734075784 \n",
      " recall:0.861652887285728 \n",
      ", 'Test':  best_epoch_indx:92\n",
      " auc:0.9149142595605132 \n",
      " apur:0.878278744496044 \n",
      " f1:0.792257344956121 \n",
      " precision:0.7332065734075784 \n",
      " recall:0.861652887285728 \n",
      "}\n",
      "=====Epoch 93\n",
      "Training...\n"
     ]
    },
    {
     "name": "stderr",
     "output_type": "stream",
     "text": [
      "Iteration: 100%|██████████| 267/267 [00:02<00:00, 124.96it/s]\n",
      "Iteration: 100%|██████████| 267/267 [00:06<00:00, 40.80it/s]\n",
      "Iteration:  76%|███████▌  | 202/267 [00:03<00:01, 62.74it/s]"
     ]
    },
    {
     "name": "stdout",
     "output_type": "stream",
     "text": [
      "Evaluating...\n"
     ]
    },
    {
     "name": "stderr",
     "output_type": "stream",
     "text": [
      "Iteration: 100%|██████████| 267/267 [00:03<00:00, 67.20it/s]\n",
      "Iteration: 100%|██████████| 267/267 [00:02<00:00, 125.17it/s]\n",
      "Iteration:  62%|██████▏   | 165/267 [00:01<00:00, 113.97it/s]"
     ]
    },
    {
     "name": "stdout",
     "output_type": "stream",
     "text": [
      "{'Train':  best_epoch_indx:90\n",
      " auc:0.9247779001303982 \n",
      " apur:0.891575785284896 \n",
      " f1:0.8070028662173677 \n",
      " precision:0.7840091513892652 \n",
      " recall:0.8313860690799975 \n",
      ", 'Validation':  best_epoch_indx:90\n",
      " auc:0.9247779001303982 \n",
      " apur:0.891575785284896 \n",
      " f1:0.8070028662173677 \n",
      " precision:0.7840091513892652 \n",
      " recall:0.8313860690799975 \n",
      ", 'Test':  best_epoch_indx:90\n",
      " auc:0.9247779001303982 \n",
      " apur:0.8915757852848959 \n",
      " f1:0.8070028662173677 \n",
      " precision:0.7840091513892652 \n",
      " recall:0.8313860690799975 \n",
      "}\n",
      "=====Epoch 91\n",
      "Training...\n"
     ]
    },
    {
     "name": "stderr",
     "output_type": "stream",
     "text": [
      "Iteration: 100%|██████████| 267/267 [00:06<00:00, 39.89it/s]]\n",
      "Iteration:  91%|█████████ | 243/267 [00:02<00:00, 125.72it/s]"
     ]
    },
    {
     "name": "stdout",
     "output_type": "stream",
     "text": [
      "Evaluating...\n",
      "Evaluating...\n"
     ]
    },
    {
     "name": "stderr",
     "output_type": "stream",
     "text": [
      "Iteration: 100%|██████████| 267/267 [00:06<00:00, 41.69it/s]]\n",
      "Iteration: 100%|██████████| 267/267 [00:02<00:00, 103.92it/s]\n",
      "Iteration:  23%|██▎       | 62/267 [00:00<00:02, 71.37it/s]s]"
     ]
    },
    {
     "name": "stdout",
     "output_type": "stream",
     "text": [
      "{'Train':  best_epoch_indx:93\n",
      " auc:0.907219474708814 \n",
      " apur:0.869403134406815 \n",
      " f1:0.7817604494244801 \n",
      " precision:0.7491222937390287 \n",
      " recall:0.8173721509289408 \n",
      ", 'Validation':  best_epoch_indx:93\n",
      " auc:0.907219474708814 \n",
      " apur:0.869403134406815 \n",
      " f1:0.7817604494244801 \n",
      " precision:0.7491222937390287 \n",
      " recall:0.8173721509289408 \n",
      ", 'Test':  best_epoch_indx:93\n",
      " auc:0.907219474708814 \n",
      " apur:0.869403134406815 \n",
      " f1:0.7817604494244801 \n",
      " precision:0.7491222937390287 \n",
      " recall:0.8173721509289408 \n",
      "}\n",
      "=====Epoch 94\n",
      "Training...\n"
     ]
    },
    {
     "name": "stderr",
     "output_type": "stream",
     "text": [
      "Iteration: 100%|██████████| 267/267 [00:02<00:00, 122.53it/s]\n",
      "Iteration: 100%|██████████| 267/267 [00:02<00:00, 118.09it/s]\n",
      "Iteration: 100%|██████████| 267/267 [00:02<00:00, 102.59it/s]\n",
      "Iteration: 100%|██████████| 267/267 [00:02<00:00, 111.03it/s]\n",
      "Iteration: 100%|██████████| 267/267 [00:06<00:00, 39.33it/s]]\n",
      "Iteration:  77%|███████▋  | 205/267 [00:03<00:01, 59.27it/s]]"
     ]
    },
    {
     "name": "stdout",
     "output_type": "stream",
     "text": [
      "Evaluating...\n"
     ]
    },
    {
     "name": "stderr",
     "output_type": "stream",
     "text": [
      "Iteration: 100%|██████████| 267/267 [00:02<00:00, 107.22it/s]\n",
      "Iteration: 100%|██████████| 267/267 [00:04<00:00, 65.37it/s]]\n",
      "Iteration: 100%|██████████| 267/267 [00:06<00:00, 40.34it/s]]\n",
      "Iteration:  18%|█▊        | 49/267 [00:00<00:02, 73.18it/s]s]"
     ]
    },
    {
     "name": "stdout",
     "output_type": "stream",
     "text": [
      "{'Train':  best_epoch_indx:92\n",
      " auc:0.9143267099655756 \n",
      " apur:0.8793603966433508 \n",
      " f1:0.7906679545285683 \n",
      " precision:0.7396369095610109 \n",
      " recall:0.8492625933729171 \n",
      ", 'Validation':  best_epoch_indx:92\n",
      " auc:0.9143267099655755 \n",
      " apur:0.8793603966433422 \n",
      " f1:0.7906679545285683 \n",
      " precision:0.7396369095610109 \n",
      " recall:0.8492625933729171 \n",
      ", 'Test':  best_epoch_indx:92\n",
      " auc:0.9143267099655756 \n",
      " apur:0.8793603966433508 \n",
      " f1:0.7906679545285683 \n",
      " precision:0.7396369095610109 \n",
      " recall:0.8492625933729171 \n",
      "}\n",
      "=====Epoch 93\n",
      "Training...\n",
      "Evaluating...\n"
     ]
    },
    {
     "name": "stderr",
     "output_type": "stream",
     "text": [
      "Iteration: 100%|██████████| 267/267 [00:02<00:00, 119.34it/s]\n",
      "Iteration: 100%|██████████| 267/267 [00:02<00:00, 126.69it/s]\n",
      "Iteration: 100%|██████████| 267/267 [00:03<00:00, 81.91it/s] \n",
      "Iteration:   2%|▏         | 5/267 [00:00<00:07, 36.36it/s]s]"
     ]
    },
    {
     "name": "stdout",
     "output_type": "stream",
     "text": [
      "{'Train':  best_epoch_indx:92\n",
      " auc:0.9121134570310826 \n",
      " apur:0.8739196620662646 \n",
      " f1:0.7903499932317597 \n",
      " precision:0.7472483717755468 \n",
      " recall:0.838728212986018 \n",
      ", 'Validation':  best_epoch_indx:92\n",
      " auc:0.9121134570310826 \n",
      " apur:0.8739196620662646 \n",
      " f1:0.7903499932317597 \n",
      " precision:0.7472483717755468 \n",
      " recall:0.838728212986018 \n",
      ", 'Test':  best_epoch_indx:92\n",
      " auc:0.9121134570310827 \n",
      " apur:0.8739196620662647 \n",
      " f1:0.7903499932317597 \n",
      " precision:0.7472483717755468 \n",
      " recall:0.838728212986018 \n",
      "}\n",
      "=====Epoch 93\n",
      "Training...\n"
     ]
    },
    {
     "name": "stderr",
     "output_type": "stream",
     "text": [
      "Iteration: 100%|██████████| 267/267 [00:03<00:00, 87.41it/s] \n",
      "Iteration: 100%|██████████| 267/267 [00:02<00:00, 90.24it/s] \n",
      "Iteration: 100%|██████████| 267/267 [00:02<00:00, 115.54it/s]\n",
      "Iteration:   0%|          | 0/267 [00:00<?, ?it/s]39.99it/s]"
     ]
    },
    {
     "name": "stdout",
     "output_type": "stream",
     "text": [
      "{'Train':  best_epoch_indx:93\n",
      " auc:0.9055491146260626 \n",
      " apur:0.8660941817579844 \n",
      " f1:0.7812729920869683 \n",
      " precision:0.7375822181900658 \n",
      " recall:0.8304657324352794 \n",
      ", 'Validation':  best_epoch_indx:93\n",
      " auc:0.9055491146260626 \n",
      " apur:0.8660941817579844 \n",
      " f1:0.7812729920869683 \n",
      " precision:0.7375822181900658 \n",
      " recall:0.8304657324352794 \n",
      ", 'Test':  best_epoch_indx:93\n",
      " auc:0.9055491146260626 \n",
      " apur:0.8660941817579844 \n",
      " f1:0.7812729920869683 \n",
      " precision:0.7375822181900658 \n",
      " recall:0.8304657324352794 \n",
      "}\n",
      "=====Epoch 94\n",
      "Training...\n"
     ]
    },
    {
     "name": "stderr",
     "output_type": "stream",
     "text": [
      "Iteration: 100%|██████████| 267/267 [00:06<00:00, 42.37it/s]\n",
      "Iteration:   7%|▋         | 20/267 [00:00<00:05, 43.13it/s]"
     ]
    },
    {
     "name": "stdout",
     "output_type": "stream",
     "text": [
      "Evaluating...\n"
     ]
    },
    {
     "name": "stderr",
     "output_type": "stream",
     "text": [
      "Iteration: 100%|██████████| 267/267 [00:02<00:00, 119.42it/s]\n",
      "Iteration: 100%|██████████| 267/267 [00:02<00:00, 121.69it/s]\n",
      "Iteration:  85%|████████▍ | 226/267 [00:02<00:00, 116.13it/s]"
     ]
    },
    {
     "name": "stdout",
     "output_type": "stream",
     "text": [
      "{'Train':  best_epoch_indx:91\n",
      " auc:0.9210783901061377 \n",
      " apur:0.8867789384178636 \n",
      " f1:0.8011542103127488 \n",
      " precision:0.7569363587311504 \n",
      " recall:0.8508587116133564 \n",
      ", 'Validation':  best_epoch_indx:91\n",
      " auc:0.9210783901061377 \n",
      " apur:0.886778938417871 \n",
      " f1:0.8011542103127488 \n",
      " precision:0.7569363587311504 \n",
      " recall:0.8508587116133564 \n",
      ", 'Test':  best_epoch_indx:91\n",
      " auc:0.9210783904350308 \n",
      " apur:0.8867789404559563 \n",
      " f1:0.8011542103127488 \n",
      " precision:0.7569363587311504 \n",
      " recall:0.8508587116133564 \n",
      "}\n",
      "=====Epoch 92\n",
      "Training...\n"
     ]
    },
    {
     "name": "stderr",
     "output_type": "stream",
     "text": [
      "Iteration: 100%|██████████| 267/267 [00:03<00:00, 80.63it/s] \n",
      "Iteration: 100%|██████████| 267/267 [00:06<00:00, 39.52it/s]\n",
      "Iteration:   9%|▉         | 25/267 [00:00<00:06, 39.68it/s]"
     ]
    },
    {
     "name": "stdout",
     "output_type": "stream",
     "text": [
      "Evaluating...\n"
     ]
    },
    {
     "name": "stderr",
     "output_type": "stream",
     "text": [
      "Iteration:  50%|████▉     | 133/267 [00:01<00:01, 69.78it/s]]"
     ]
    },
    {
     "name": "stdout",
     "output_type": "stream",
     "text": [
      "{'Train':  best_epoch_indx:94\n",
      " auc:0.9005266913259748 \n",
      " apur:0.8577705571840206 \n",
      " f1:0.7741413134867499 \n",
      " precision:0.7556231003039514 \n",
      " recall:0.793589989146396 \n",
      ", 'Validation':  best_epoch_indx:94\n",
      " auc:0.9005266913259748 \n",
      " apur:0.8577705571840206 \n",
      " f1:0.7741413134867499 \n",
      " precision:0.7556231003039514 \n",
      " recall:0.793589989146396 \n",
      ", 'Test':  best_epoch_indx:94\n",
      " auc:0.9005266913259748 \n",
      " apur:0.8577705571840206 \n",
      " f1:0.7741413134867499 \n",
      " precision:0.7556231003039514 \n",
      " recall:0.793589989146396 \n",
      "}\n",
      "=====Epoch 95\n",
      "Training...\n"
     ]
    },
    {
     "name": "stderr",
     "output_type": "stream",
     "text": [
      "Iteration: 100%|██████████| 267/267 [00:05<00:00, 44.91it/s]]\n",
      "Iteration:  31%|███▏      | 84/267 [00:02<00:04, 41.10it/s]]"
     ]
    },
    {
     "name": "stdout",
     "output_type": "stream",
     "text": [
      "Evaluating...\n"
     ]
    },
    {
     "name": "stderr",
     "output_type": "stream",
     "text": [
      "Iteration: 100%|██████████| 267/267 [00:02<00:00, 119.92it/s]\n",
      "Iteration: 100%|██████████| 267/267 [00:04<00:00, 66.52it/s]]\n",
      "Iteration: 100%|██████████| 267/267 [00:02<00:00, 124.59it/s]\n",
      "Iteration: 100%|██████████| 267/267 [00:02<00:00, 107.67it/s]\n",
      "Iteration: 100%|██████████| 267/267 [00:06<00:00, 38.72it/s]]\n",
      "Iteration:  94%|█████████▍| 252/267 [00:05<00:00, 45.52it/s]"
     ]
    },
    {
     "name": "stdout",
     "output_type": "stream",
     "text": [
      "Evaluating...\n"
     ]
    },
    {
     "name": "stderr",
     "output_type": "stream",
     "text": [
      "Iteration: 100%|██████████| 267/267 [00:05<00:00, 45.00it/s]]\n",
      "Iteration: 100%|██████████| 267/267 [00:02<00:00, 115.53it/s]\n",
      "Iteration:  55%|█████▌    | 147/267 [00:02<00:02, 59.58it/s]"
     ]
    },
    {
     "name": "stdout",
     "output_type": "stream",
     "text": [
      "Evaluating...\n"
     ]
    },
    {
     "name": "stderr",
     "output_type": "stream",
     "text": [
      "Iteration: 100%|██████████| 267/267 [00:02<00:00, 123.19it/s]\n",
      "Iteration: 100%|██████████| 267/267 [00:04<00:00, 59.64it/s]]\n",
      "Iteration: 100%|██████████| 267/267 [00:02<00:00, 99.83it/s] \n",
      "Iteration: 100%|██████████| 267/267 [00:03<00:00, 81.30it/s] \n",
      "Iteration:  28%|██▊       | 74/267 [00:01<00:03, 57.81it/s]s]"
     ]
    },
    {
     "name": "stdout",
     "output_type": "stream",
     "text": [
      "{'Train':  best_epoch_indx:93\n",
      " auc:0.9039787632932509 \n",
      " apur:0.8646779735398351 \n",
      " f1:0.780056478866719 \n",
      " precision:0.7549959673805896 \n",
      " recall:0.8068377705420418 \n",
      ", 'Validation':  best_epoch_indx:93\n",
      " auc:0.9039787632932509 \n",
      " apur:0.8646779735398351 \n",
      " f1:0.780056478866719 \n",
      " precision:0.7549959673805896 \n",
      " recall:0.8068377705420418 \n",
      ", 'Test':  best_epoch_indx:93\n",
      " auc:0.9039787632932509 \n",
      " apur:0.8646779735398351 \n",
      " f1:0.780056478866719 \n",
      " precision:0.7549959673805896 \n",
      " recall:0.8068377705420418 \n",
      "}\n",
      "=====Epoch 94\n",
      "Training...\n"
     ]
    },
    {
     "name": "stderr",
     "output_type": "stream",
     "text": [
      "Iteration: 100%|██████████| 267/267 [00:02<00:00, 114.94it/s]\n",
      "Iteration:   0%|          | 0/267 [00:00<?, ?it/s]3.20it/s]s]"
     ]
    },
    {
     "name": "stdout",
     "output_type": "stream",
     "text": [
      "{'Train':  best_epoch_indx:93\n",
      " auc:0.9087943319456807 \n",
      " apur:0.8694859548440258 \n",
      " f1:0.7849901743660127 \n",
      " precision:0.7674432788484996 \n",
      " recall:0.8033582327778842 \n",
      ", 'Validation':  best_epoch_indx:93\n",
      " auc:0.9087943319456807 \n",
      " apur:0.8694859548440345 \n",
      " f1:0.7849901743660127 \n",
      " precision:0.7674432788484996 \n",
      " recall:0.8033582327778842 \n",
      ", 'Test':  best_epoch_indx:93\n",
      " auc:0.9087943319456807 \n",
      " apur:0.8694859548440343 \n",
      " f1:0.7849901743660127 \n",
      " precision:0.7674432788484996 \n",
      " recall:0.8033582327778842 \n",
      "}\n",
      "=====Epoch 94\n",
      "Training...\n"
     ]
    },
    {
     "name": "stderr",
     "output_type": "stream",
     "text": [
      "Iteration:   2%|▏         | 5/267 [00:00<00:06, 41.04it/s]]]]"
     ]
    },
    {
     "name": "stdout",
     "output_type": "stream",
     "text": [
      "{'Train':  best_epoch_indx:94\n",
      " auc:0.8976193301178006 \n",
      " apur:0.856399934244177 \n",
      " f1:0.7694266329239703 \n",
      " precision:0.7490175926485703 \n",
      " recall:0.7909790276758069 \n",
      ", 'Validation':  best_epoch_indx:94\n",
      " auc:0.8976193301178006 \n",
      " apur:0.856399934244177 \n",
      " f1:0.7694266329239703 \n",
      " precision:0.7490175926485703 \n",
      " recall:0.7909790276758069 \n",
      ", 'Test':  best_epoch_indx:94\n",
      " auc:0.8976193301178006 \n",
      " apur:0.856399934244177 \n",
      " f1:0.7694266329239703 \n",
      " precision:0.7490175926485703 \n",
      " recall:0.7909790276758069 \n",
      "}\n",
      "=====Epoch 95\n",
      "Training...\n"
     ]
    },
    {
     "name": "stderr",
     "output_type": "stream",
     "text": [
      "Iteration: 100%|██████████| 267/267 [00:02<00:00, 98.94it/s] \n",
      "Iteration: 100%|██████████| 267/267 [00:02<00:00, 103.17it/s]\n",
      "Iteration: 100%|██████████| 267/267 [00:02<00:00, 116.31it/s]\n",
      "Iteration: 100%|██████████| 267/267 [00:02<00:00, 119.68it/s]\n",
      "Iteration:  69%|██████▉   | 185/267 [00:04<00:02, 39.00it/s]"
     ]
    },
    {
     "name": "stdout",
     "output_type": "stream",
     "text": [
      "{'Train':  best_epoch_indx:92\n",
      " auc:0.914982355411125 \n",
      " apur:0.8791102545899081 \n",
      " f1:0.7924606893679058 \n",
      " precision:0.7420253517202953 \n",
      " recall:0.8502521866819894 \n",
      ", 'Validation':  best_epoch_indx:92\n",
      " auc:0.914982355411125 \n",
      " apur:0.8791102545899081 \n",
      " f1:0.7924606893679058 \n",
      " precision:0.7420253517202953 \n",
      " recall:0.8502521866819894 \n",
      ", 'Test':  best_epoch_indx:92\n",
      " auc:0.914982355411125 \n",
      " apur:0.8791102545899081 \n",
      " f1:0.7924606893679058 \n",
      " precision:0.7420253517202953 \n",
      " recall:0.8502521866819894 \n",
      "}\n",
      "=====Epoch 93\n",
      "Training...\n"
     ]
    },
    {
     "name": "stderr",
     "output_type": "stream",
     "text": [
      "Iteration: 100%|██████████| 267/267 [00:06<00:00, 40.74it/s]\n",
      "Iteration:   0%|          | 0/267 [00:00<?, ?it/s]"
     ]
    },
    {
     "name": "stdout",
     "output_type": "stream",
     "text": [
      "Evaluating...\n",
      "{'Train':  best_epoch_indx:95\n",
      " auc:0.9083953779610033 \n",
      " apur:0.8707840169624681 \n",
      " f1:0.7821212867343539 \n",
      " precision:0.7158575708566429 \n",
      " recall:0.8619038498371959 \n",
      ", 'Validation':  best_epoch_indx:95\n",
      " auc:0.9083953779610033 \n",
      " apur:0.8707840169624681 \n",
      " f1:0.7821212867343539 \n",
      " precision:0.7158575708566429 \n",
      " recall:0.8619038498371959 \n",
      ", 'Test':  best_epoch_indx:95\n",
      " auc:0.9083953779610033 \n",
      " apur:0.8707840169624681 \n",
      " f1:0.7821212867343539 \n",
      " precision:0.7158575708566429 \n",
      " recall:0.8619038498371959 \n",
      "}\n",
      "=====Epoch 96\n",
      "Training...\n"
     ]
    },
    {
     "name": "stderr",
     "output_type": "stream",
     "text": [
      "Iteration: 100%|██████████| 267/267 [00:06<00:00, 41.90it/s]\n",
      "Iteration:   4%|▍         | 12/267 [00:00<00:02, 117.19it/s]"
     ]
    },
    {
     "name": "stdout",
     "output_type": "stream",
     "text": [
      "Evaluating...\n"
     ]
    },
    {
     "name": "stderr",
     "output_type": "stream",
     "text": [
      "Iteration: 100%|██████████| 267/267 [00:06<00:00, 39.08it/s]]\n",
      "Iteration:   0%|          | 0/267 [00:00<?, ?it/s]6.17it/s]"
     ]
    },
    {
     "name": "stdout",
     "output_type": "stream",
     "text": [
      "Evaluating...\n"
     ]
    },
    {
     "name": "stderr",
     "output_type": "stream",
     "text": [
      "Iteration: 100%|██████████| 267/267 [00:02<00:00, 123.74it/s]\n",
      "Iteration: 100%|██████████| 267/267 [00:02<00:00, 123.84it/s]\n",
      "Iteration: 100%|██████████| 267/267 [00:02<00:00, 121.71it/s]\n",
      "Iteration: 100%|██████████| 267/267 [00:02<00:00, 109.81it/s]\n",
      "Iteration: 100%|██████████| 267/267 [00:06<00:00, 39.87it/s]]\n",
      "Iteration:  79%|███████▉  | 211/267 [00:05<00:01, 37.87it/s]"
     ]
    },
    {
     "name": "stdout",
     "output_type": "stream",
     "text": [
      "Evaluating...\n"
     ]
    },
    {
     "name": "stderr",
     "output_type": "stream",
     "text": [
      "Iteration: 100%|██████████| 267/267 [00:02<00:00, 122.52it/s]\n",
      "Iteration: 100%|██████████| 267/267 [00:03<00:00, 79.51it/s] \n",
      "Iteration: 100%|██████████| 267/267 [00:07<00:00, 36.12it/s]]\n",
      "Iteration:  12%|█▏        | 31/267 [00:00<00:04, 50.64it/s]"
     ]
    },
    {
     "name": "stdout",
     "output_type": "stream",
     "text": [
      "Evaluating...\n"
     ]
    },
    {
     "name": "stderr",
     "output_type": "stream",
     "text": [
      "Iteration: 100%|██████████| 267/267 [00:02<00:00, 119.25it/s]\n",
      "Iteration: 100%|██████████| 267/267 [00:02<00:00, 104.05it/s]\n",
      "Iteration: 100%|██████████| 267/267 [00:02<00:00, 120.14it/s]\n",
      "Iteration:   0%|          | 0/267 [00:00<?, ?it/s]65.38it/s]]"
     ]
    },
    {
     "name": "stdout",
     "output_type": "stream",
     "text": [
      "{'Train':  best_epoch_indx:94\n",
      " auc:0.8985717580095568 \n",
      " apur:0.8550187222077231 \n",
      " f1:0.7735127091621368 \n",
      " precision:0.7376056990617398 \n",
      " recall:0.8130945540445637 \n",
      ", 'Validation':  best_epoch_indx:94\n",
      " auc:0.8985717583384499 \n",
      " apur:0.8550187242738521 \n",
      " f1:0.7735127091621368 \n",
      " precision:0.7376056990617398 \n",
      " recall:0.8130945540445637 \n",
      ", 'Test':  best_epoch_indx:94\n",
      " auc:0.8985717580095568 \n",
      " apur:0.8550187222077231 \n",
      " f1:0.7735127091621368 \n",
      " precision:0.7376056990617398 \n",
      " recall:0.8130945540445637 \n",
      "}\n",
      "=====Epoch 95\n",
      "Training...\n"
     ]
    },
    {
     "name": "stderr",
     "output_type": "stream",
     "text": [
      "Iteration: 100%|██████████| 267/267 [00:02<00:00, 103.38it/s]\n",
      "Iteration: 100%|██████████| 267/267 [00:03<00:00, 75.41it/s]]\n",
      "Iteration:  19%|█▉        | 52/267 [00:01<00:06, 35.37it/s]s]"
     ]
    },
    {
     "name": "stdout",
     "output_type": "stream",
     "text": [
      "{'Train':  best_epoch_indx:94\n",
      " auc:0.9028042034617473 \n",
      " apur:0.8618300795946892 \n",
      " f1:0.7785565739813602 \n",
      " precision:0.7523296317246718 \n",
      " recall:0.8066781587179979 \n",
      ", 'Validation':  best_epoch_indx:94\n",
      " auc:0.9028042034617472 \n",
      " apur:0.8618300795946892 \n",
      " f1:0.7785565739813602 \n",
      " precision:0.7523296317246718 \n",
      " recall:0.8066781587179979 \n",
      ", 'Test':  best_epoch_indx:94\n",
      " auc:0.9028042034617473 \n",
      " apur:0.8618300795946892 \n",
      " f1:0.7785565739813602 \n",
      " precision:0.7523296317246718 \n",
      " recall:0.8066781587179979 \n",
      "}\n",
      "=====Epoch 95\n",
      "Training...\n"
     ]
    },
    {
     "name": "stderr",
     "output_type": "stream",
     "text": [
      "Iteration: 100%|██████████| 267/267 [00:02<00:00, 95.94it/s] \n",
      "Iteration: 100%|██████████| 267/267 [00:02<00:00, 113.50it/s]\n",
      "Iteration:  41%|████      | 110/267 [00:02<00:04, 38.17it/s]"
     ]
    },
    {
     "name": "stdout",
     "output_type": "stream",
     "text": [
      "{'Train':  best_epoch_indx:95\n",
      " auc:0.9093453986131863 \n",
      " apur:0.8712298532919989 \n",
      " f1:0.7847978910369069 \n",
      " precision:0.7250561524098179 \n",
      " recall:0.8552686181249401 \n",
      ", 'Validation':  best_epoch_indx:95\n",
      " auc:0.9093453989420758 \n",
      " apur:0.871229853617443 \n",
      " f1:0.7847978910369069 \n",
      " precision:0.7250561524098179 \n",
      " recall:0.8552686181249401 \n",
      ", 'Test':  best_epoch_indx:95\n",
      " auc:0.9093453986131863 \n",
      " apur:0.8712298532919989 \n",
      " f1:0.7847978910369069 \n",
      " precision:0.7250561524098179 \n",
      " recall:0.8552686181249401 \n",
      "}\n",
      "=====Epoch 96\n",
      "Training...\n"
     ]
    },
    {
     "name": "stderr",
     "output_type": "stream",
     "text": [
      "Iteration: 100%|██████████| 267/267 [00:02<00:00, 95.09it/s] \n",
      "Iteration:  62%|██████▏   | 165/267 [00:03<00:02, 45.64it/s]"
     ]
    },
    {
     "name": "stdout",
     "output_type": "stream",
     "text": [
      "{'Train':  best_epoch_indx:93\n",
      " auc:0.9059157236544881 \n",
      " apur:0.8674940914762399 \n",
      " f1:0.781338965928919 \n",
      " precision:0.7505292872265349 \n",
      " recall:0.8147864393794292 \n",
      ", 'Validation':  best_epoch_indx:93\n",
      " auc:0.9059157236544881 \n",
      " apur:0.8674940914762399 \n",
      " f1:0.781338965928919 \n",
      " precision:0.7505292872265349 \n",
      " recall:0.8147864393794292 \n",
      ", 'Test':  best_epoch_indx:93\n",
      " auc:0.9059157236544881 \n",
      " apur:0.8674940914762399 \n",
      " f1:0.781338965928919 \n",
      " precision:0.7505292872265349 \n",
      " recall:0.8147864393794292 \n",
      "}\n",
      "=====Epoch 94\n",
      "Training...\n"
     ]
    },
    {
     "name": "stderr",
     "output_type": "stream",
     "text": [
      "\r",
      "Iteration: 100%|█████████▉| 266/267 [00:06<00:00, 45.23it/s]\r",
      "Iteration:  79%|███████▊  | 210/267 [00:05<00:01, 40.93it/s]\r",
      "Iteration: 100%|██████████| 267/267 [00:06<00:00, 40.51it/s]\n",
      "\r",
      "Iteration:   0%|          | 0/267 [00:00<?, ?it/s]\r",
      "Iteration:   3%|▎         | 9/267 [00:00<00:06, 39.52it/s]\r",
      "Iteration:  64%|██████▍   | 172/267 [00:02<00:01, 67.66it/s]\r",
      "Iteration:  64%|██████▎   | 170/267 [00:03<00:02, 45.68it/s]\r",
      "Iteration:  81%|████████  | 215/267 [00:05<00:01, 42.32it/s]\r",
      "Iteration:   4%|▍         | 12/267 [00:00<00:02, 119.12it/s]\r",
      "Iteration:   5%|▍         | 13/267 [00:00<00:06, 37.84it/s]\r",
      "Iteration:  67%|██████▋   | 180/267 [00:02<00:01, 69.37it/s]\r",
      "Iteration:  66%|██████▌   | 175/267 [00:03<00:02, 45.64it/s]"
     ]
    },
    {
     "name": "stdout",
     "output_type": "stream",
     "text": [
      "Evaluating...\n"
     ]
    },
    {
     "name": "stderr",
     "output_type": "stream",
     "text": [
      "Iteration: 100%|██████████| 267/267 [00:06<00:00, 41.73it/s]]\n",
      "Iteration: 100%|██████████| 267/267 [00:03<00:00, 69.10it/s]]\n"
     ]
    },
    {
     "name": "stdout",
     "output_type": "stream",
     "text": [
      "Evaluating...\n"
     ]
    },
    {
     "name": "stderr",
     "output_type": "stream",
     "text": [
      "Iteration: 100%|██████████| 267/267 [00:05<00:00, 44.99it/s]]\n",
      "Iteration: 100%|██████████| 267/267 [00:02<00:00, 120.43it/s]\n",
      "Iteration:   4%|▍         | 12/267 [00:00<00:02, 119.45it/s]]"
     ]
    },
    {
     "name": "stdout",
     "output_type": "stream",
     "text": [
      "Evaluating...\n"
     ]
    },
    {
     "name": "stderr",
     "output_type": "stream",
     "text": [
      "Iteration:   0%|          | 0/267 [00:00<?, ?it/s]111.15it/s]"
     ]
    },
    {
     "name": "stdout",
     "output_type": "stream",
     "text": [
      "{'Train':  best_epoch_indx:96\n",
      " auc:0.9167683595502785 \n",
      " apur:0.8811610232468797 \n",
      " f1:0.7964929312541714 \n",
      " precision:0.7588299901728424 \n",
      " recall:0.8380897656898423 \n",
      ", 'Validation':  best_epoch_indx:96\n",
      " auc:0.9167683595502785 \n",
      " apur:0.8811610232468796 \n",
      " f1:0.7964929312541714 \n",
      " precision:0.7588299901728424 \n",
      " recall:0.8380897656898423 \n",
      ", 'Test':  best_epoch_indx:96\n",
      " auc:0.9167683595502785 \n",
      " apur:0.8811610232468796 \n",
      " f1:0.7964929312541714 \n",
      " precision:0.7588299901728424 \n",
      " recall:0.8380897656898423 \n",
      "}\n",
      "=====Epoch 97\n",
      "Training...\n"
     ]
    },
    {
     "name": "stderr",
     "output_type": "stream",
     "text": [
      "Iteration: 100%|██████████| 267/267 [00:02<00:00, 119.93it/s]\n",
      "Iteration: 100%|██████████| 267/267 [00:02<00:00, 120.71it/s]\n",
      "Iteration: 100%|██████████| 267/267 [00:03<00:00, 86.00it/s] \n",
      "Iteration: 100%|██████████| 267/267 [00:06<00:00, 40.89it/s]]\n",
      "Iteration:  42%|████▏     | 111/267 [00:01<00:01, 116.84it/s]"
     ]
    },
    {
     "name": "stdout",
     "output_type": "stream",
     "text": [
      "Evaluating...\n"
     ]
    },
    {
     "name": "stderr",
     "output_type": "stream",
     "text": [
      "Iteration: 100%|██████████| 267/267 [00:02<00:00, 125.09it/s]\n",
      "Iteration: 100%|██████████| 267/267 [00:02<00:00, 107.01it/s]\n",
      "Iteration: 100%|██████████| 267/267 [00:02<00:00, 108.01it/s]\n",
      "Iteration: 100%|██████████| 267/267 [00:06<00:00, 39.29it/s]]\n",
      "Iteration:   4%|▍         | 12/267 [00:00<00:02, 117.54it/s]]"
     ]
    },
    {
     "name": "stdout",
     "output_type": "stream",
     "text": [
      "Evaluating...\n"
     ]
    },
    {
     "name": "stderr",
     "output_type": "stream",
     "text": [
      "Iteration: 100%|██████████| 267/267 [00:02<00:00, 99.18it/s] \n",
      "Iteration:  93%|█████████▎| 249/267 [00:03<00:00, 70.43it/s]]"
     ]
    },
    {
     "name": "stdout",
     "output_type": "stream",
     "text": [
      "{'Train':  best_epoch_indx:95\n",
      " auc:0.9047405418861221 \n",
      " apur:0.8650605450067176 \n",
      " f1:0.7797454947588118 \n",
      " precision:0.7613529214952702 \n",
      " recall:0.7990487135286982 \n",
      ", 'Validation':  best_epoch_indx:95\n",
      " auc:0.9047405418861221 \n",
      " apur:0.8650605450067176 \n",
      " f1:0.7797454947588118 \n",
      " precision:0.7613529214952702 \n",
      " recall:0.7990487135286982 \n",
      ", 'Test':  best_epoch_indx:95\n",
      " auc:0.904740541557229 \n",
      " apur:0.865060544721002 \n",
      " f1:0.7797454947588118 \n",
      " precision:0.7613529214952702 \n",
      " recall:0.7990487135286982 \n",
      "}\n",
      "=====Epoch 96\n",
      "Training...\n"
     ]
    },
    {
     "name": "stderr",
     "output_type": "stream",
     "text": [
      "Iteration: 100%|██████████| 267/267 [00:02<00:00, 115.55it/s]\n",
      "Iteration: 100%|██████████| 267/267 [00:03<00:00, 68.17it/s]\n",
      "Iteration: 100%|██████████| 267/267 [00:02<00:00, 119.93it/s]\n",
      "Iteration: 100%|██████████| 267/267 [00:02<00:00, 90.20it/s] \n"
     ]
    },
    {
     "name": "stdout",
     "output_type": "stream",
     "text": [
      "{'Train':  best_epoch_indx:96\n",
      " auc:0.9179765482833299 \n",
      " apur:0.8825012944944635 \n",
      " f1:0.7971020908031221 \n",
      " precision:0.7411238544696263 \n",
      " recall:0.8622274715101989 \n",
      ", 'Validation':  best_epoch_indx:96\n",
      " auc:0.9179765482833299 \n",
      " apur:0.8825012944944635 \n",
      " f1:0.7971020908031221 \n",
      " precision:0.7411238544696263 \n",
      " recall:0.8622274715101989 \n",
      ", 'Test':  best_epoch_indx:96\n",
      " auc:0.9179765482833299 \n",
      " apur:0.8825012944944635 \n",
      " f1:0.7971020908031221 \n",
      " precision:0.7411238544696263 \n",
      " recall:0.8622274715101989 \n",
      "}\n",
      "=====Epoch 97\n",
      "Training...\n"
     ]
    },
    {
     "name": "stderr",
     "output_type": "stream",
     "text": [
      "\r",
      "Iteration:   3%|▎         | 9/267 [00:00<00:05, 43.39it/s]\r",
      "Iteration:  22%|██▏       | 58/267 [00:01<00:05, 39.61it/s]\r",
      "Iteration:   5%|▌         | 14/267 [00:00<00:06, 39.44it/s]\r",
      "Iteration:  23%|██▎       | 62/267 [00:01<00:05, 36.81it/s]"
     ]
    },
    {
     "name": "stdout",
     "output_type": "stream",
     "text": [
      "{'Train':  best_epoch_indx:95\n",
      " auc:0.9064037030127358 \n",
      " apur:0.8671549563930572 \n",
      " f1:0.7786437808331143 \n",
      " precision:0.7172743895880391 \n",
      " recall:0.851497158909532 \n",
      ", 'Validation':  best_epoch_indx:95\n",
      " auc:0.9064037030127359 \n",
      " apur:0.8671549563930572 \n",
      " f1:0.7786437808331143 \n",
      " precision:0.7172743895880391 \n",
      " recall:0.851497158909532 \n",
      ", 'Test':  best_epoch_indx:95\n",
      " auc:0.9064037030127359 \n",
      " apur:0.8671549563930572 \n",
      " f1:0.7786437808331143 \n",
      " precision:0.7172743895880391 \n",
      " recall:0.851497158909532 \n",
      "}\n",
      "=====Epoch 96\n",
      "Training...\n"
     ]
    },
    {
     "name": "stderr",
     "output_type": "stream",
     "text": [
      "Iteration: 100%|██████████| 267/267 [00:02<00:00, 99.26it/s] \n",
      "Iteration: 100%|██████████| 267/267 [00:06<00:00, 42.31it/s]\n",
      "Iteration:  10%|█         | 28/267 [00:00<00:03, 69.02it/s]]"
     ]
    },
    {
     "name": "stdout",
     "output_type": "stream",
     "text": [
      "Evaluating...\n"
     ]
    },
    {
     "name": "stderr",
     "output_type": "stream",
     "text": [
      "Iteration: 100%|██████████| 267/267 [00:03<00:00, 69.84it/s]\n",
      "Iteration: 100%|██████████| 267/267 [00:05<00:00, 44.61it/s]]\n",
      "Iteration:   0%|          | 0/267 [00:00<?, ?it/s]"
     ]
    },
    {
     "name": "stdout",
     "output_type": "stream",
     "text": [
      "Evaluating...\n"
     ]
    },
    {
     "name": "stderr",
     "output_type": "stream",
     "text": [
      "Iteration: 100%|██████████| 267/267 [00:06<00:00, 41.36it/s]]\n",
      "Iteration:  54%|█████▍    | 144/267 [00:02<00:01, 67.10it/s]]"
     ]
    },
    {
     "name": "stdout",
     "output_type": "stream",
     "text": [
      "Evaluating...\n"
     ]
    },
    {
     "name": "stderr",
     "output_type": "stream",
     "text": [
      "\r",
      "Iteration:  92%|█████████▏| 246/267 [00:01<00:00, 124.46it/s]\r",
      "Iteration:   9%|▉         | 25/267 [00:00<00:01, 123.95it/s]\r",
      "Iteration:  48%|████▊     | 129/267 [00:01<00:01, 107.00it/s]\r",
      "Iteration:  57%|█████▋    | 151/267 [00:02<00:01, 67.92it/s]\r",
      "Iteration:  97%|█████████▋| 259/267 [00:02<00:00, 124.01it/s]\r",
      "Iteration:   0%|          | 0/267 [00:00<?, ?it/s]\r",
      "Iteration:  14%|█▍        | 38/267 [00:00<00:01, 124.67it/s]\r",
      "Iteration:  53%|█████▎    | 142/267 [00:01<00:01, 111.95it/s]\r",
      "Iteration: 100%|██████████| 267/267 [00:02<00:00, 125.82it/s]\n",
      "\r",
      "Iteration:  59%|█████▉    | 158/267 [00:02<00:01, 64.67it/s]"
     ]
    },
    {
     "name": "stdout",
     "output_type": "stream",
     "text": [
      "{'Train':  best_epoch_indx:94\n",
      " auc:0.9004303776775566 \n",
      " apur:0.859189756509048 \n",
      " f1:0.7730246169736614 \n",
      " precision:0.701969673284352 \n",
      " recall:0.8600842750430951 \n",
      ", 'Validation':  best_epoch_indx:94\n",
      " auc:0.9004303776775566 \n",
      " apur:0.859189756509048 \n",
      " f1:0.7730246169736614 \n",
      " precision:0.701969673284352 \n",
      " recall:0.8600842750430951 \n",
      ", 'Test':  best_epoch_indx:94\n",
      " auc:0.9004303776775566 \n",
      " apur:0.859189756509048 \n",
      " f1:0.7730246169736614 \n",
      " precision:0.701969673284352 \n",
      " recall:0.8600842750430951 \n",
      "}\n",
      "=====Epoch 95\n",
      "Training...\n"
     ]
    },
    {
     "name": "stderr",
     "output_type": "stream",
     "text": [
      "Iteration: 100%|██████████| 267/267 [00:02<00:00, 120.70it/s]\n",
      "Iteration: 100%|██████████| 267/267 [00:02<00:00, 125.83it/s]\n",
      "Iteration: 100%|██████████| 267/267 [00:04<00:00, 62.25it/s]\n",
      "Iteration: 100%|██████████| 267/267 [00:02<00:00, 115.01it/s]\n",
      "Iteration:   2%|▏         | 5/267 [00:00<00:06, 40.03it/s]]s]"
     ]
    },
    {
     "name": "stdout",
     "output_type": "stream",
     "text": [
      "{'Train':  best_epoch_indx:97\n",
      " auc:0.9243777750656255 \n",
      " apur:0.8902400590706666 \n",
      " f1:0.8058616751457262 \n",
      " precision:0.7526250173154176 \n",
      " recall:0.8672029623954542 \n",
      ", 'Validation':  best_epoch_indx:97\n",
      " auc:0.9243777750656255 \n",
      " apur:0.8902400590706665 \n",
      " f1:0.8058616751457262 \n",
      " precision:0.7526250173154176 \n",
      " recall:0.8672029623954542 \n",
      ", 'Test':  best_epoch_indx:97\n",
      " auc:0.9243777750656255 \n",
      " apur:0.8902400590706666 \n",
      " f1:0.8058616751457262 \n",
      " precision:0.7526250173154176 \n",
      " recall:0.8672029623954542 \n",
      "}\n",
      "=====Epoch 98\n",
      "Training...\n"
     ]
    },
    {
     "name": "stderr",
     "output_type": "stream",
     "text": [
      "Iteration: 100%|██████████| 267/267 [00:02<00:00, 122.16it/s]\n",
      "Iteration: 100%|██████████| 267/267 [00:03<00:00, 86.99it/s] \n",
      "Iteration: 100%|██████████| 267/267 [00:06<00:00, 40.93it/s]]\n",
      "Iteration:  43%|████▎     | 115/267 [00:03<00:03, 39.03it/s]]"
     ]
    },
    {
     "name": "stdout",
     "output_type": "stream",
     "text": [
      "Evaluating...\n"
     ]
    },
    {
     "name": "stderr",
     "output_type": "stream",
     "text": [
      "Iteration: 100%|██████████| 267/267 [00:02<00:00, 112.24it/s]\n",
      "Iteration:  59%|█████▉    | 157/267 [00:04<00:02, 38.52it/s]]"
     ]
    },
    {
     "name": "stdout",
     "output_type": "stream",
     "text": [
      "{'Train':  best_epoch_indx:96\n",
      " auc:0.9141405216052577 \n",
      " apur:0.8778131420569099 \n",
      " f1:0.7939675802591774 \n",
      " precision:0.7511319948739855 \n",
      " recall:0.8419842941965141 \n",
      ", 'Validation':  best_epoch_indx:96\n",
      " auc:0.9141405216052577 \n",
      " apur:0.8778131420569099 \n",
      " f1:0.7939675802591774 \n",
      " precision:0.7511319948739855 \n",
      " recall:0.8419842941965141 \n",
      ", 'Test':  best_epoch_indx:96\n",
      " auc:0.9141405216052577 \n",
      " apur:0.8778131420569099 \n",
      " f1:0.7939675802591774 \n",
      " precision:0.7511319948739855 \n",
      " recall:0.8419842941965141 \n",
      "}\n",
      "=====Epoch 97\n",
      "Training...\n"
     ]
    },
    {
     "name": "stderr",
     "output_type": "stream",
     "text": [
      "Iteration: 100%|██████████| 267/267 [00:02<00:00, 97.88it/s] \n",
      "Iteration: 100%|██████████| 267/267 [00:02<00:00, 120.41it/s]\n",
      "Iteration:  79%|███████▊  | 210/267 [00:05<00:01, 35.13it/s]]"
     ]
    },
    {
     "name": "stdout",
     "output_type": "stream",
     "text": [
      "{'Train':  best_epoch_indx:97\n",
      " auc:0.9250790270046751 \n",
      " apur:0.8929642291717623 \n",
      " f1:0.8068385411921897 \n",
      " precision:0.7693644129144346 \n",
      " recall:0.8481501580106617 \n",
      ", 'Validation':  best_epoch_indx:97\n",
      " auc:0.9250790270046751 \n",
      " apur:0.8929642291717623 \n",
      " f1:0.8068385411921897 \n",
      " precision:0.7693644129144346 \n",
      " recall:0.8481501580106617 \n",
      ", 'Test':  best_epoch_indx:97\n",
      " auc:0.9250790270046751 \n",
      " apur:0.8929642291717623 \n",
      " f1:0.8068385411921897 \n",
      " precision:0.7693644129144346 \n",
      " recall:0.8481501580106617 \n",
      "}\n",
      "=====Epoch 98\n",
      "Training...\n"
     ]
    },
    {
     "name": "stderr",
     "output_type": "stream",
     "text": [
      "Iteration:   8%|▊         | 21/267 [00:00<00:05, 41.24it/s]s]\n",
      "Iteration:  98%|█████████▊| 261/267 [00:07<00:00, 40.79it/s]"
     ]
    },
    {
     "name": "stdout",
     "output_type": "stream",
     "text": [
      "{'Train':  best_epoch_indx:96\n",
      " auc:0.9161529293870845 \n",
      " apur:0.8795367841088821 \n",
      " f1:0.7950793335067399 \n",
      " precision:0.763480356145867 \n",
      " recall:0.8294068824618528 \n",
      ", 'Validation':  best_epoch_indx:96\n",
      " auc:0.9161529293870845 \n",
      " apur:0.879536784108882 \n",
      " f1:0.7950793335067399 \n",
      " precision:0.763480356145867 \n",
      " recall:0.8294068824618528 \n",
      ", 'Test':  best_epoch_indx:96\n",
      " auc:0.9161529290581913 \n",
      " apur:0.8795367838486542 \n",
      " f1:0.7950793335067399 \n",
      " precision:0.763480356145867 \n",
      " recall:0.8294068824618528 \n",
      "}\n",
      "=====Epoch 97\n",
      "Training...\n",
      "Evaluating...\n"
     ]
    },
    {
     "name": "stderr",
     "output_type": "stream",
     "text": [
      "Iteration: 100%|██████████| 267/267 [00:07<00:00, 37.17it/s]\n",
      "Iteration: 100%|██████████| 267/267 [00:02<00:00, 106.90it/s]\n",
      "Iteration: 100%|██████████| 267/267 [00:03<00:00, 67.81it/s]\n",
      "Iteration: 100%|██████████| 267/267 [00:06<00:00, 38.79it/s]\n",
      "Iteration:   0%|          | 0/267 [00:00<?, ?it/s]"
     ]
    },
    {
     "name": "stdout",
     "output_type": "stream",
     "text": [
      "Evaluating...\n"
     ]
    },
    {
     "name": "stderr",
     "output_type": "stream",
     "text": [
      "Iteration: 100%|██████████| 267/267 [00:05<00:00, 45.11it/s]\n",
      "Iteration:  77%|███████▋  | 205/267 [00:04<00:01, 43.95it/s]"
     ]
    },
    {
     "name": "stdout",
     "output_type": "stream",
     "text": [
      "Evaluating...\n"
     ]
    },
    {
     "name": "stderr",
     "output_type": "stream",
     "text": [
      "Iteration: 100%|██████████| 267/267 [00:05<00:00, 44.82it/s]]\n",
      "Iteration:   4%|▍         | 12/267 [00:00<00:02, 116.26it/s]]"
     ]
    },
    {
     "name": "stdout",
     "output_type": "stream",
     "text": [
      "Evaluating...\n"
     ]
    },
    {
     "name": "stderr",
     "output_type": "stream",
     "text": [
      "Iteration: 100%|██████████| 267/267 [00:02<00:00, 119.89it/s]\n",
      "Iteration: 100%|██████████| 267/267 [00:02<00:00, 117.79it/s]\n",
      "Iteration: 100%|██████████| 267/267 [00:03<00:00, 69.65it/s]\n",
      "Iteration: 100%|██████████| 267/267 [00:02<00:00, 119.88it/s]\n",
      "Iteration: 100%|██████████| 267/267 [00:02<00:00, 95.77it/s] \n",
      "Iteration:  26%|██▌       | 70/267 [00:01<00:02, 67.61it/s]"
     ]
    },
    {
     "name": "stdout",
     "output_type": "stream",
     "text": [
      "{'Train':  best_epoch_indx:95\n",
      " auc:0.9077195734114342 \n",
      " apur:0.8681195337603588 \n",
      " f1:0.7843884152608984 \n",
      " precision:0.7449325294286535 \n",
      " recall:0.8282576773287366 \n",
      ", 'Validation':  best_epoch_indx:95\n",
      " auc:0.9077195734114342 \n",
      " apur:0.8681195337603588 \n",
      " f1:0.7843884152608984 \n",
      " precision:0.7449325294286535 \n",
      " recall:0.8282576773287366 \n",
      ", 'Test':  best_epoch_indx:95\n",
      " auc:0.9077195734114342 \n",
      " apur:0.8681195337603588 \n",
      " f1:0.7843884152608984 \n",
      " precision:0.7449325294286535 \n",
      " recall:0.8282576773287366 \n",
      "}\n",
      "=====Epoch 96\n",
      "Training...\n"
     ]
    },
    {
     "name": "stderr",
     "output_type": "stream",
     "text": [
      "Iteration: 100%|██████████| 267/267 [00:02<00:00, 113.54it/s]\n",
      "Iteration: 100%|██████████| 267/267 [00:03<00:00, 88.35it/s] \n",
      "Iteration: 100%|██████████| 267/267 [00:02<00:00, 103.07it/s]\n",
      "Iteration: 100%|██████████| 267/267 [00:02<00:00, 117.44it/s]\n",
      "Iteration:   0%|          | 0/267 [00:00<?, ?it/s]121.92it/s]"
     ]
    },
    {
     "name": "stdout",
     "output_type": "stream",
     "text": [
      "{'Train':  best_epoch_indx:98\n",
      " auc:0.9299415655287357 \n",
      " apur:0.8992345203152348 \n",
      " f1:0.8114463637037587 \n",
      " precision:0.7576067997452864 \n",
      " recall:0.8735235906275937 \n",
      ", 'Validation':  best_epoch_indx:98\n",
      " auc:0.9299415655287357 \n",
      " apur:0.8992345203152348 \n",
      " f1:0.8114463637037587 \n",
      " precision:0.7576067997452864 \n",
      " recall:0.8735235906275937 \n",
      ", 'Test':  best_epoch_indx:98\n",
      " auc:0.9299415655287357 \n",
      " apur:0.8992345203152348 \n",
      " f1:0.8114463637037587 \n",
      " precision:0.7576067997452864 \n",
      " recall:0.8735235906275937 \n",
      "}\n",
      "=====Epoch 99\n",
      "Training...\n"
     ]
    },
    {
     "name": "stderr",
     "output_type": "stream",
     "text": [
      "Iteration: 100%|██████████| 267/267 [00:02<00:00, 102.60it/s]\n",
      "Iteration:  81%|████████  | 215/267 [00:05<00:01, 36.59it/s]]"
     ]
    },
    {
     "name": "stdout",
     "output_type": "stream",
     "text": [
      "{'Train':  best_epoch_indx:97\n",
      " auc:0.9230452011345128 \n",
      " apur:0.8896553561796517 \n",
      " f1:0.8054045610746643 \n",
      " precision:0.7885544748271854 \n",
      " recall:0.822990487135287 \n",
      ", 'Validation':  best_epoch_indx:97\n",
      " auc:0.9230452011345128 \n",
      " apur:0.8896553561796517 \n",
      " f1:0.8054045610746643 \n",
      " precision:0.7885544748271854 \n",
      " recall:0.822990487135287 \n",
      ", 'Test':  best_epoch_indx:97\n",
      " auc:0.9230452011345128 \n",
      " apur:0.8896553561796517 \n",
      " f1:0.8054045610746643 \n",
      " precision:0.7885544748271854 \n",
      " recall:0.822990487135287 \n",
      "}\n",
      "=====Epoch 98\n",
      "Training...\n"
     ]
    },
    {
     "name": "stderr",
     "output_type": "stream",
     "text": [
      "Iteration: 100%|██████████| 267/267 [00:02<00:00, 112.83it/s]\n",
      "Iteration: 100%|██████████| 267/267 [00:02<00:00, 111.13it/s]\n",
      "Iteration:  21%|██        | 56/267 [00:01<00:05, 42.17it/s]]"
     ]
    },
    {
     "name": "stdout",
     "output_type": "stream",
     "text": [
      "{'Train':  best_epoch_indx:98\n",
      " auc:0.9295344286678963 \n",
      " apur:0.898822298692263 \n",
      " f1:0.8127263710004659 \n",
      " precision:0.7678916278541407 \n",
      " recall:0.8631212691927092 \n",
      ", 'Validation':  best_epoch_indx:98\n",
      " auc:0.9295344286678963 \n",
      " apur:0.898822298692263 \n",
      " f1:0.8127263710004659 \n",
      " precision:0.7678916278541407 \n",
      " recall:0.8631212691927092 \n",
      ", 'Test':  best_epoch_indx:98\n",
      " auc:0.9295344286678963 \n",
      " apur:0.8988222986922694 \n",
      " f1:0.8127263710004659 \n",
      " precision:0.7678916278541407 \n",
      " recall:0.8631212691927092 \n",
      "}\n",
      "=====Epoch 99\n",
      "Training...\n"
     ]
    },
    {
     "name": "stderr",
     "output_type": "stream",
     "text": [
      "\r",
      "Iteration: 100%|██████████| 267/267 [00:07<00:00, 37.26it/s]\n",
      "\r",
      "Iteration:   0%|          | 0/267 [00:00<?, ?it/s]\r",
      "Iteration:  38%|███▊      | 101/267 [00:02<00:03, 42.89it/s]\r",
      "Iteration:  23%|██▎       | 61/267 [00:01<00:04, 43.13it/s]\r",
      "Iteration:   4%|▎         | 10/267 [00:00<00:06, 37.61it/s]\r",
      "Iteration:   4%|▎         | 10/267 [00:00<00:02, 99.50it/s]\r",
      "Iteration:  25%|██▍       | 66/267 [00:01<00:04, 43.84it/s]\r",
      "Iteration:   6%|▌         | 15/267 [00:00<00:06, 39.23it/s]"
     ]
    },
    {
     "name": "stdout",
     "output_type": "stream",
     "text": [
      "Evaluating...\n"
     ]
    },
    {
     "name": "stderr",
     "output_type": "stream",
     "text": [
      "\r",
      "Iteration:   9%|▊         | 23/267 [00:00<00:02, 115.55it/s]\r",
      "Iteration:  27%|██▋       | 71/267 [00:01<00:04, 44.36it/s]\r",
      "Iteration:   7%|▋         | 19/267 [00:00<00:06, 39.48it/s]\r",
      "Iteration:  40%|███▉      | 106/267 [00:02<00:05, 29.95it/s]\r",
      "Iteration:  13%|█▎        | 36/267 [00:00<00:01, 120.77it/s]\r",
      "Iteration:   0%|          | 0/267 [00:00<?, ?it/s]\r",
      "Iteration:  28%|██▊       | 76/267 [00:01<00:04, 44.73it/s]\r",
      "Iteration:   9%|▉         | 24/267 [00:00<00:05, 41.21it/s]"
     ]
    },
    {
     "name": "stdout",
     "output_type": "stream",
     "text": [
      "{'Train':  best_epoch_indx:97\n",
      " auc:0.9224867116989737 \n",
      " apur:0.8889267482242129 \n",
      " f1:0.8036136164395775 \n",
      " precision:0.7516886726893676 \n",
      " recall:0.8632445891591649 \n",
      ", 'Validation':  best_epoch_indx:97\n",
      " auc:0.9224867116989737 \n",
      " apur:0.8889267482242129 \n",
      " f1:0.8036136164395775 \n",
      " precision:0.7516886726893676 \n",
      " recall:0.8632445891591649 \n",
      ", 'Test':  best_epoch_indx:97\n",
      " auc:0.9224867113700805 \n",
      " apur:0.8889267471322516 \n",
      " f1:0.8036136164395775 \n",
      " precision:0.7516886726893676 \n",
      " recall:0.8632445891591649 \n",
      "}\n",
      "=====Epoch 98\n",
      "Training...\n"
     ]
    },
    {
     "name": "stderr",
     "output_type": "stream",
     "text": [
      "Iteration: 100%|██████████| 267/267 [00:02<00:00, 111.69it/s]\n",
      "Iteration: 100%|██████████| 267/267 [00:07<00:00, 37.12it/s]]\n",
      "Iteration:  80%|████████  | 214/267 [00:04<00:01, 45.58it/s]"
     ]
    },
    {
     "name": "stdout",
     "output_type": "stream",
     "text": [
      "Evaluating...\n"
     ]
    },
    {
     "name": "stderr",
     "output_type": "stream",
     "text": [
      "Iteration: 100%|██████████| 267/267 [00:06<00:00, 39.41it/s]]\n",
      "Iteration:  91%|█████████▏| 244/267 [00:02<00:00, 113.37it/s]"
     ]
    },
    {
     "name": "stdout",
     "output_type": "stream",
     "text": [
      "Evaluating...\n"
     ]
    },
    {
     "name": "stderr",
     "output_type": "stream",
     "text": [
      "Iteration: 100%|██████████| 267/267 [00:02<00:00, 110.00it/s]\n",
      "Iteration: 100%|██████████| 267/267 [00:06<00:00, 44.43it/s]\n",
      "Iteration:  28%|██▊       | 76/267 [00:01<00:03, 48.46it/s]]"
     ]
    },
    {
     "name": "stdout",
     "output_type": "stream",
     "text": [
      "Evaluating...\n"
     ]
    },
    {
     "name": "stderr",
     "output_type": "stream",
     "text": [
      "Iteration: 100%|██████████| 267/267 [00:05<00:00, 44.64it/s]\n"
     ]
    },
    {
     "name": "stdout",
     "output_type": "stream",
     "text": [
      "Evaluating...\n"
     ]
    },
    {
     "name": "stderr",
     "output_type": "stream",
     "text": [
      "Iteration: 100%|██████████| 267/267 [00:03<00:00, 86.94it/s] \n",
      "Iteration: 100%|██████████| 267/267 [00:02<00:00, 120.09it/s]\n",
      "Iteration: 100%|██████████| 267/267 [00:02<00:00, 98.67it/s] \n",
      "Iteration:  39%|███▉      | 104/267 [00:01<00:02, 72.87it/s]]\n",
      "Iteration: 100%|██████████| 267/267 [00:02<00:00, 98.42it/s] \n",
      "Iteration:   0%|          | 0/267 [00:00<?, ?it/s]126.72it/s]"
     ]
    },
    {
     "name": "stdout",
     "output_type": "stream",
     "text": [
      "{'Train':  best_epoch_indx:96\n",
      " auc:0.9172300207601274 \n",
      " apur:0.8815353230765253 \n",
      " f1:0.7946719693535887 \n",
      " precision:0.7331318962958966 \n",
      " recall:0.8674902636787333 \n",
      ", 'Validation':  best_epoch_indx:96\n",
      " auc:0.9172300207601274 \n",
      " apur:0.8815353230765253 \n",
      " f1:0.7946719693535887 \n",
      " precision:0.7331318962958966 \n",
      " recall:0.8674902636787333 \n",
      ", 'Test':  best_epoch_indx:96\n",
      " auc:0.9172300207601274 \n",
      " apur:0.8815353240078994 \n",
      " f1:0.7946719693535887 \n",
      " precision:0.7331318962958966 \n",
      " recall:0.8674902636787333 \n",
      "}\n",
      "=====Epoch 97\n",
      "Training...\n"
     ]
    },
    {
     "name": "stderr",
     "output_type": "stream",
     "text": [
      "Iteration: 100%|██████████| 267/267 [00:02<00:00, 124.53it/s]\n",
      "Iteration: 100%|██████████| 267/267 [00:02<00:00, 108.22it/s]\n",
      "Iteration: 100%|██████████| 267/267 [00:02<00:00, 96.19it/s] \n",
      "Iteration: 100%|██████████| 267/267 [00:03<00:00, 73.36it/s] \n",
      "Iteration: 100%|██████████| 267/267 [00:03<00:00, 83.42it/s]]\n",
      "Iteration: 100%|██████████| 267/267 [00:03<00:00, 86.62it/s] \n",
      "Iteration: 100%|██████████| 267/267 [00:02<00:00, 120.01it/s]\n",
      "Iteration:   1%|▏         | 4/267 [00:00<00:07, 37.32it/s]s]"
     ]
    },
    {
     "name": "stdout",
     "output_type": "stream",
     "text": [
      "{'Train':  best_epoch_indx:98\n",
      " auc:0.9314654457865168 \n",
      " apur:0.9014314989859724 \n",
      " f1:0.8138225990881955 \n",
      " precision:0.7608641323966345 \n",
      " recall:0.8747047181255188 \n",
      ", 'Validation':  best_epoch_indx:98\n",
      " auc:0.9314654457865168 \n",
      " apur:0.9014314989859724 \n",
      " f1:0.8138225990881955 \n",
      " precision:0.7608641323966345 \n",
      " recall:0.8747047181255188 \n",
      ", 'Test':  best_epoch_indx:98\n",
      " auc:0.9314654457865168 \n",
      " apur:0.9014314989859724 \n",
      " f1:0.8138225990881955 \n",
      " precision:0.7608641323966345 \n",
      " recall:0.8747047181255188 \n",
      "}\n",
      "=====Epoch 99\n",
      "Training...\n"
     ]
    },
    {
     "name": "stderr",
     "output_type": "stream",
     "text": [
      "\r",
      "Iteration:  83%|████████▎ | 222/267 [00:02<00:00, 90.94it/s]\r",
      "Iteration:  98%|█████████▊| 261/267 [00:06<00:00, 45.04it/s]\r",
      "Iteration:   3%|▎         | 9/267 [00:00<00:06, 42.37it/s]\r",
      "Iteration:  88%|████████▊ | 235/267 [00:03<00:00, 101.14it/s]\r",
      "Iteration: 100%|█████████▉| 266/267 [00:06<00:00, 45.00it/s]\r",
      "Iteration: 100%|██████████| 267/267 [00:06<00:00, 42.92it/s]\n",
      "\r",
      "Iteration:   0%|          | 0/267 [00:00<?, ?it/s]"
     ]
    },
    {
     "name": "stdout",
     "output_type": "stream",
     "text": [
      "{'Train':  best_epoch_indx:99\n",
      " auc:0.9377605665198041 \n",
      " apur:0.9103144769392446 \n",
      " f1:0.8243190719646006 \n",
      " precision:0.7751848623724239 \n",
      " recall:0.8801034251604047 \n",
      ", 'Validation':  best_epoch_indx:99\n",
      " auc:0.9377605665198041 \n",
      " apur:0.9103144769392446 \n",
      " f1:0.8243190719646006 \n",
      " precision:0.7751848623724239 \n",
      " recall:0.8801034251604047 \n",
      ", 'Test':  best_epoch_indx:99\n",
      " auc:0.9377605665198041 \n",
      " apur:0.9103144769392446 \n",
      " f1:0.8243190719646006 \n",
      " precision:0.7751848623724239 \n",
      " recall:0.8801034251604047 \n",
      "}\n",
      "Finished training!\n",
      "Evaluating...\n"
     ]
    },
    {
     "name": "stderr",
     "output_type": "stream",
     "text": [
      "\r",
      "Iteration:   5%|▌         | 14/267 [00:00<00:05, 43.84it/s]\r",
      "Iteration:  93%|█████████▎| 248/267 [00:03<00:00, 107.53it/s]\r",
      "Iteration:   4%|▍         | 12/267 [00:00<00:02, 115.50it/s]\r",
      "Iteration:  98%|█████████▊| 261/267 [00:03<00:00, 112.63it/s]\r",
      "Iteration:   7%|▋         | 19/267 [00:00<00:05, 44.55it/s]\r",
      "Iteration:   9%|▉         | 25/267 [00:00<00:01, 121.17it/s]\r",
      "Iteration: 100%|██████████| 267/267 [00:03<00:00, 81.41it/s] \n"
     ]
    },
    {
     "name": "stdout",
     "output_type": "stream",
     "text": [
      "{'Train':  best_epoch_indx:99\n",
      " auc:0.9356346557449067 \n",
      " apur:0.9074076808420236 \n",
      " f1:0.8228746939954689 \n",
      " precision:0.7856624372114631 \n",
      " recall:0.8637872693609142 \n",
      ", 'Validation':  best_epoch_indx:99\n",
      " auc:0.9356346557449067 \n",
      " apur:0.9074076808420236 \n",
      " f1:0.8228746939954689 \n",
      " precision:0.7856624372114631 \n",
      " recall:0.8637872693609142 \n",
      ", 'Test':  best_epoch_indx:99\n",
      " auc:0.9356346557449067 \n",
      " apur:0.9074076808420236 \n",
      " f1:0.8228746939954689 \n",
      " precision:0.7856624372114631 \n",
      " recall:0.8637872693609142 \n",
      "}\n",
      "Finished training!\n"
     ]
    },
    {
     "name": "stderr",
     "output_type": "stream",
     "text": [
      "Iteration:   0%|          | 0/267 [00:00<?, ?it/s]5.50it/s]] "
     ]
    },
    {
     "name": "stdout",
     "output_type": "stream",
     "text": [
      "{'Train':  best_epoch_indx:98\n",
      " auc:0.9319502256726353 \n",
      " apur:0.901316087158148 \n",
      " f1:0.8186775629243692 \n",
      " precision:0.7809429970730576 \n",
      " recall:0.8602438868671392 \n",
      ", 'Validation':  best_epoch_indx:98\n",
      " auc:0.9319502256726353 \n",
      " apur:0.901316087158148 \n",
      " f1:0.8186775629243692 \n",
      " precision:0.7809429970730576 \n",
      " recall:0.8602438868671392 \n",
      ", 'Test':  best_epoch_indx:98\n",
      " auc:0.9319502256726353 \n",
      " apur:0.901316087158148 \n",
      " f1:0.8186775629243692 \n",
      " precision:0.7809429970730576 \n",
      " recall:0.8602438868671392 \n",
      "}\n",
      "=====Epoch 99\n",
      "Training...\n"
     ]
    },
    {
     "name": "stderr",
     "output_type": "stream",
     "text": [
      "Iteration:  41%|████      | 109/267 [00:02<00:03, 45.57it/s]]"
     ]
    },
    {
     "name": "stdout",
     "output_type": "stream",
     "text": [
      "<<< joined hyperparam search process\n",
      "released_gpu_num: 1\n",
      "<<< joined hyperparam search process\n",
      "released_gpu_num: 0\n"
     ]
    },
    {
     "name": "stderr",
     "output_type": "stream",
     "text": [
      "Iteration: 100%|██████████| 267/267 [00:02<00:00, 120.43it/s]\n",
      "Iteration: 100%|██████████| 267/267 [00:02<00:00, 132.79it/s]\n",
      "Iteration: 100%|██████████| 267/267 [00:05<00:00, 44.76it/s]\n",
      "Iteration:   5%|▍         | 13/267 [00:00<00:02, 123.29it/s]"
     ]
    },
    {
     "name": "stdout",
     "output_type": "stream",
     "text": [
      "Evaluating...\n"
     ]
    },
    {
     "name": "stderr",
     "output_type": "stream",
     "text": [
      "Iteration: 100%|██████████| 267/267 [00:05<00:00, 45.02it/s]]\n",
      "Iteration:  44%|████▍     | 117/267 [00:01<00:01, 124.40it/s]"
     ]
    },
    {
     "name": "stdout",
     "output_type": "stream",
     "text": [
      "Evaluating...\n"
     ]
    },
    {
     "name": "stderr",
     "output_type": "stream",
     "text": [
      "Iteration: 100%|██████████| 267/267 [00:02<00:00, 124.30it/s]\n",
      "Iteration: 100%|██████████| 267/267 [00:02<00:00, 122.15it/s]\n",
      "Iteration:  97%|█████████▋| 259/267 [00:02<00:00, 128.25it/s]"
     ]
    },
    {
     "name": "stdout",
     "output_type": "stream",
     "text": [
      "{'Train':  best_epoch_indx:97\n",
      " auc:0.923969372013741 \n",
      " apur:0.890227203221249 \n",
      " f1:0.8036404804963756 \n",
      " precision:0.7449232698230981 \n",
      " recall:0.8724063078592862 \n",
      ", 'Validation':  best_epoch_indx:97\n",
      " auc:0.923969372013741 \n",
      " apur:0.890227203221249 \n",
      " f1:0.8036404804963756 \n",
      " precision:0.7449232698230981 \n",
      " recall:0.8724063078592862 \n",
      ", 'Test':  best_epoch_indx:97\n",
      " auc:0.923969372013741 \n",
      " apur:0.890227203221249 \n",
      " f1:0.8036404804963756 \n",
      " precision:0.7449232698230981 \n",
      " recall:0.8724063078592862 \n",
      "}\n",
      "=====Epoch 98\n",
      "Training...\n"
     ]
    },
    {
     "name": "stderr",
     "output_type": "stream",
     "text": [
      "Iteration: 100%|██████████| 267/267 [00:02<00:00, 122.40it/s]\n",
      "Iteration: 100%|██████████| 267/267 [00:02<00:00, 131.50it/s]\n",
      "Iteration: 100%|██████████| 267/267 [00:02<00:00, 129.16it/s]\n",
      "Iteration: 100%|██████████| 267/267 [00:02<00:00, 121.81it/s]\n",
      "Iteration:  98%|█████████▊| 261/267 [00:05<00:00, 44.86it/s]]"
     ]
    },
    {
     "name": "stdout",
     "output_type": "stream",
     "text": [
      "{'Train':  best_epoch_indx:99\n",
      " auc:0.9369968808698786 \n",
      " apur:0.9088265309026538 \n",
      " f1:0.8234010967370557 \n",
      " precision:0.7834986162361623 \n",
      " recall:0.8675860307731597 \n",
      ", 'Validation':  best_epoch_indx:99\n",
      " auc:0.9369968808698786 \n",
      " apur:0.9088265309026538 \n",
      " f1:0.8234010967370557 \n",
      " precision:0.7834986162361623 \n",
      " recall:0.8675860307731597 \n",
      ", 'Test':  best_epoch_indx:99\n",
      " auc:0.9369968808698786 \n",
      " apur:0.9088265309026538 \n",
      " f1:0.8234010967370557 \n",
      " precision:0.7834986162361623 \n",
      " recall:0.8675860307731597 \n",
      "}\n",
      "Finished training!\n",
      "Evaluating...\n"
     ]
    },
    {
     "name": "stderr",
     "output_type": "stream",
     "text": [
      "Iteration: 100%|██████████| 267/267 [00:05<00:00, 44.63it/s]]\n",
      "Iteration: 100%|██████████| 267/267 [00:02<00:00, 119.08it/s]\n",
      "Iteration:  64%|██████▍   | 171/267 [00:01<00:00, 131.29it/s]"
     ]
    },
    {
     "name": "stdout",
     "output_type": "stream",
     "text": [
      "{'Train':  best_epoch_indx:99\n",
      " auc:0.9372504146980276 \n",
      " apur:0.9093981707103419 \n",
      " f1:0.8242699720398917 \n",
      " precision:0.7752496132752075 \n",
      " recall:0.8799080635893507 \n",
      ", 'Validation':  best_epoch_indx:99\n",
      " auc:0.9372504146980276 \n",
      " apur:0.9093981707103419 \n",
      " f1:0.8242699720398917 \n",
      " precision:0.7752496132752075 \n",
      " recall:0.8799080635893507 \n",
      ", 'Test':  best_epoch_indx:99\n",
      " auc:0.9372504146980276 \n",
      " apur:0.9093981707103419 \n",
      " f1:0.8242699720398917 \n",
      " precision:0.7752496132752075 \n",
      " recall:0.8799080635893507 \n",
      "}\n",
      "Finished training!\n"
     ]
    },
    {
     "name": "stderr",
     "output_type": "stream",
     "text": [
      "Iteration: 100%|██████████| 267/267 [00:02<00:00, 123.21it/s]\n"
     ]
    },
    {
     "name": "stdout",
     "output_type": "stream",
     "text": [
      "<<< joined hyperparam search process\n",
      "released_gpu_num: 3\n",
      "<<< joined hyperparam search process\n",
      "released_gpu_num: 2\n"
     ]
    },
    {
     "name": "stderr",
     "output_type": "stream",
     "text": [
      "Iteration: 100%|██████████| 267/267 [00:01<00:00, 134.39it/s]\n",
      "Iteration: 100%|██████████| 267/267 [00:01<00:00, 139.18it/s]\n"
     ]
    },
    {
     "name": "stdout",
     "output_type": "stream",
     "text": [
      "{'Train':  best_epoch_indx:98\n",
      " auc:0.9294358319618818 \n",
      " apur:0.898579704592978 \n",
      " f1:0.8112344294232244 \n",
      " precision:0.7544057095800165 \n",
      " recall:0.8773223520398391 \n",
      ", 'Validation':  best_epoch_indx:98\n",
      " auc:0.9294358319618818 \n",
      " apur:0.898579704592978 \n",
      " f1:0.8112344294232244 \n",
      " precision:0.7544057095800165 \n",
      " recall:0.8773223520398391 \n",
      ", 'Test':  best_epoch_indx:98\n",
      " auc:0.9294358319618818 \n",
      " apur:0.898579704592978 \n",
      " f1:0.8112344294232244 \n",
      " precision:0.7544057095800165 \n",
      " recall:0.8773223520398391 \n",
      "}\n",
      "=====Epoch 99\n",
      "Training...\n"
     ]
    },
    {
     "name": "stderr",
     "output_type": "stream",
     "text": [
      "Iteration: 100%|██████████| 267/267 [00:05<00:00, 44.51it/s]\n",
      "Iteration:   0%|          | 0/267 [00:00<?, ?it/s]"
     ]
    },
    {
     "name": "stdout",
     "output_type": "stream",
     "text": [
      "Evaluating...\n"
     ]
    },
    {
     "name": "stderr",
     "output_type": "stream",
     "text": [
      "Iteration: 100%|██████████| 267/267 [00:02<00:00, 132.33it/s]\n",
      "Iteration: 100%|██████████| 267/267 [00:01<00:00, 140.19it/s]\n",
      "Iteration: 100%|██████████| 267/267 [00:02<00:00, 128.26it/s]\n"
     ]
    },
    {
     "name": "stdout",
     "output_type": "stream",
     "text": [
      "{'Train':  best_epoch_indx:99\n",
      " auc:0.9365824150407605 \n",
      " apur:0.9077676391318827 \n",
      " f1:0.8230673522313331 \n",
      " precision:0.7758810728315858 \n",
      " recall:0.8763646810955755 \n",
      ", 'Validation':  best_epoch_indx:99\n",
      " auc:0.9365824156985467 \n",
      " apur:0.9077676397914438 \n",
      " f1:0.8230673522313331 \n",
      " precision:0.7758810728315858 \n",
      " recall:0.8763646810955755 \n",
      ", 'Test':  best_epoch_indx:99\n",
      " auc:0.9365824156985467 \n",
      " apur:0.9077676397914438 \n",
      " f1:0.8230673522313331 \n",
      " precision:0.7758810728315858 \n",
      " recall:0.8763646810955755 \n",
      "}\n",
      "Finished training!\n",
      "<<< joined hyperparam search process\n",
      "released_gpu_num: 4\n"
     ]
    }
   ],
   "source": [
    "import torch.multiprocessing as mp\n",
    "mp.set_start_method(\"spawn\", force=True)\n",
    "\n",
    "queue = mp.Queue()\n",
    "q_processes = []\n",
    "\n",
    "# partition = fold_partitions[0]\n",
    "time_stamp = datetime.datetime.now().strftime('%Y-%m-%d_%H-%M-%S')\n",
    "\n",
    "print(\"Start: \" + time_stamp)\n",
    "\n",
    "for q_i in range(min(n_gpu, len(fold_partitions))):\n",
    "#     device_gpu = get_device(True, index=q_i)\n",
    "    partition = fold_partitions[q_i]\n",
    "    exp_dir = create_directory(os.path.join(targetdata_dir_exp, \"fold_\"+str(q_i)+\"_\"+time_stamp))\n",
    "    create_directory(os.path.join(exp_dir, \"predictions\"))\n",
    "\n",
    "#     tphp = generate_tp_hp(tp, hyperparam_space[q_i], hp_names)\n",
    "    \n",
    "    q_process = create_q_process(queue, dataset, q_i, tp, exp_dir, partition)\n",
    "    q_processes.append(q_process)\n",
    "    spawn_q_process(q_process)\n",
    "\n",
    "spawned_processes = n_gpu\n",
    "    \n",
    "# for q_i in range(len(hyperparam_space)):\n",
    "for q_i in range(min(n_gpu, len(fold_partitions))):\n",
    "    join_q_process(q_processes[q_i])\n",
    "    released_gpu_num = queue.get()\n",
    "    print(\"released_gpu_num:\", released_gpu_num)\n",
    "#     if(spawned_processes < len(hyperparam_space)):\n",
    "# #         device_gpu = get_device(True, index=q_i)\n",
    "#         time_stamp = datetime.datetime.now().strftime('%Y-%m-%d_%H-%M-%S')\n",
    "#         exp_dir = create_directory(os.path.join(targetdata_dir_exp, \"exp_\"+str(q_i)+\"_\"+time_stamp))\n",
    "#         tphp = generate_tp_hp(tp, hyperparam_space[q_i], hp_names)\n",
    "\n",
    "#         q_process = create_q_process(queue, used_dataset, released_gpu_num, tphp, exp_dir, partition)\n",
    "#         q_processes.append(q_process)\n",
    "#         spawn_q_process(q_process)\n",
    "#         spawned_processes = spawned_processes + 1"
   ]
  },
  {
   "cell_type": "code",
   "execution_count": 57,
   "metadata": {},
   "outputs": [
    {
     "name": "stdout",
     "output_type": "stream",
     "text": [
      "End: 2022-03-29_20-07-46\n"
     ]
    }
   ],
   "source": [
    "print(\"End: \" + datetime.datetime.now().strftime('%Y-%m-%d_%H-%M-%S'))\n"
   ]
  },
  {
   "cell_type": "code",
   "execution_count": null,
   "metadata": {},
   "outputs": [],
   "source": []
  }
 ],
 "metadata": {
  "kernelspec": {
   "display_name": "Python 3 (ipykernel)",
   "language": "python",
   "name": "python3"
  },
  "language_info": {
   "codemirror_mode": {
    "name": "ipython",
    "version": 3
   },
   "file_extension": ".py",
   "mimetype": "text/x-python",
   "name": "python",
   "nbconvert_exporter": "python",
   "pygments_lexer": "ipython3",
   "version": "3.9.9"
  }
 },
 "nbformat": 4,
 "nbformat_minor": 4
}
