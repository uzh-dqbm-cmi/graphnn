{
 "cells": [
  {
   "cell_type": "code",
   "execution_count": 1,
   "metadata": {
    "scrolled": false
   },
   "outputs": [],
   "source": [
    "%load_ext autoreload\n",
    "%autoreload 2"
   ]
  },
  {
   "cell_type": "code",
   "execution_count": 2,
   "metadata": {},
   "outputs": [],
   "source": [
    "import os\n",
    "import sys\n",
    "import numpy as np\n",
    "import pandas as pd\n",
    "import datetime\n",
    "import seaborn as sns\n",
    "import ogb\n",
    "from tqdm import tqdm\n",
    "import hiplot as hip\n",
    "from copy import deepcopy\n",
    "import datetime"
   ]
  },
  {
   "cell_type": "code",
   "execution_count": 3,
   "metadata": {},
   "outputs": [],
   "source": [
    "import torch\n",
    "from torch_geometric.data import Data\n",
    "from torch_geometric.loader import DataLoader\n",
    "from torch.utils.data import Subset, TensorDataset"
   ]
  },
  {
   "cell_type": "code",
   "execution_count": 4,
   "metadata": {},
   "outputs": [
    {
     "name": "stdout",
     "output_type": "stream",
     "text": [
      "/cluster/home/skyriakos/chemprop_run/git/notebooks\n"
     ]
    }
   ],
   "source": [
    "cwd = os.getcwd()\n",
    "print(cwd)"
   ]
  },
  {
   "cell_type": "code",
   "execution_count": 5,
   "metadata": {},
   "outputs": [],
   "source": [
    "os.chdir('..')\n",
    "import deepadr\n",
    "from deepadr.dataset import *\n",
    "from deepadr.utilities import *\n",
    "from deepadr.run_workflow import *\n",
    "from deepadr.chemfeatures import *\n",
    "from deepadr.hyphelperv2 import *\n",
    "# from deepadr.model_gnn import GCN as testGCN\n",
    "from deepadr.model_gnn_ogb import GNN, DeepAdr_SiameseTrf, ExpressionNN\n",
    "# from deepadr.model_attn_siamese import *\n",
    "from ogb.graphproppred import Evaluator\n",
    "os.chdir(cwd)"
   ]
  },
  {
   "cell_type": "code",
   "execution_count": 6,
   "metadata": {},
   "outputs": [],
   "source": [
    "from rdkit.Chem.Draw import IPythonConsole\n",
    "from rdkit.Chem import Draw"
   ]
  },
  {
   "cell_type": "code",
   "execution_count": 7,
   "metadata": {},
   "outputs": [],
   "source": [
    "# from tdc.single_pred import Tox\n",
    "# from tdc.multi_pred import DDI"
   ]
  },
  {
   "cell_type": "code",
   "execution_count": 8,
   "metadata": {},
   "outputs": [],
   "source": [
    "rawdata_dir = '../data/raw/'\n",
    "processed_dir = '../data/processed/'\n",
    "up_dir = '..'"
   ]
  },
  {
   "cell_type": "code",
   "execution_count": 9,
   "metadata": {
    "scrolled": true
   },
   "outputs": [
    {
     "name": "stdout",
     "output_type": "stream",
     "text": [
      "number of GPUs available: 1\n",
      "cuda:0, name:GeForce GTX 1080 Ti\n",
      "total memory available: 10.91650390625 GB\n",
      "total memory allocated on device: 0.0 GB\n",
      "max memory allocated on device: 0.0 GB\n",
      "total memory cached on device: 0.0 GB\n",
      "max memory cached  on device: 0.0 GB\n",
      "\n"
     ]
    }
   ],
   "source": [
    "report_available_cuda_devices()"
   ]
  },
  {
   "cell_type": "code",
   "execution_count": 10,
   "metadata": {},
   "outputs": [
    {
     "data": {
      "text/plain": [
       "1"
      ]
     },
     "execution_count": 10,
     "metadata": {},
     "output_type": "execute_result"
    }
   ],
   "source": [
    "n_gpu = torch.cuda.device_count()\n",
    "n_gpu"
   ]
  },
  {
   "cell_type": "code",
   "execution_count": 11,
   "metadata": {},
   "outputs": [],
   "source": [
    "device_cpu = get_device(to_gpu=False)\n",
    "# device_gpu = get_device(True, index=0)\n",
    "\n",
    "# fdtype = torch.float32"
   ]
  },
  {
   "cell_type": "code",
   "execution_count": 12,
   "metadata": {},
   "outputs": [
    {
     "name": "stdout",
     "output_type": "stream",
     "text": [
      "torch: 1.9.1\n",
      "CUDA: 11.1\n",
      "3.9.9 | packaged by conda-forge | (main, Dec 20 2021, 02:41:03) \n",
      "[GCC 9.4.0]\n"
     ]
    }
   ],
   "source": [
    "print(\"torch:\", torch.__version__)\n",
    "print(\"CUDA:\", torch.version.cuda)\n",
    "print(sys.version)"
   ]
  },
  {
   "cell_type": "code",
   "execution_count": 13,
   "metadata": {},
   "outputs": [],
   "source": [
    "# print(torch.cuda.memory_summary(device=device_gpu))"
   ]
  },
  {
   "cell_type": "markdown",
   "metadata": {},
   "source": [
    "### Preparing dataset "
   ]
  },
  {
   "cell_type": "code",
   "execution_count": 14,
   "metadata": {},
   "outputs": [],
   "source": [
    "score = 'total_thresh'\n",
    "score_val = 4"
   ]
  },
  {
   "cell_type": "code",
   "execution_count": 15,
   "metadata": {},
   "outputs": [],
   "source": [
    "# TDC Tox\n",
    "# DSdataset_name = 'SynergxZloewe' #'OncoPolyPharmacology' #'DrugComb'\n",
    "DSdataset_name = f'DrugComb_{score}_{score_val}' #'DrugComb'\n",
    "\n",
    "\n",
    "#fname_suffix = ds_config[\"fname_suffix\"]\n",
    "# similarity_types = ['chem']\n",
    "# kernel_option = 'sqeuclidean'\n",
    "data_fname = 'data_v1'\n",
    "# interact_matfname = ds_config[\"interact_matfname\"]\n",
    "# exp_iden = 'simtypeall'\n",
    "# ddi_interaction_labels_pth = ds_config[\"ddi_interaction_labels_pth\"]\n",
    "\n",
    "# up_dir, processed_dir, DSdataset_name, data_fname"
   ]
  },
  {
   "cell_type": "code",
   "execution_count": 16,
   "metadata": {
    "scrolled": true
   },
   "outputs": [
    {
     "name": "stdout",
     "output_type": "stream",
     "text": [
      "path_current_dir /cluster/home/skyriakos/chemprop_run/git/deepadr\n",
      "path_current_dir /cluster/home/skyriakos/chemprop_run/git/deepadr\n",
      "path_current_dir /cluster/home/skyriakos/chemprop_run/git/deepadr\n",
      "path_current_dir /cluster/home/skyriakos/chemprop_run/git/deepadr\n",
      "/cluster/home/skyriakos/chemprop_run/git/data/processed/DrugComb_total_thresh_4/data_v1\n"
     ]
    }
   ],
   "source": [
    "targetdata_dir = create_directory(os.path.join(processed_dir, DSdataset_name, data_fname))\n",
    "targetdata_dir_raw = create_directory(os.path.join(targetdata_dir, \"raw\"))\n",
    "targetdata_dir_processed = create_directory(os.path.join(targetdata_dir, \"processed\"))\n",
    "targetdata_dir_exp = create_directory(os.path.join(targetdata_dir, \"experiments\"))\n",
    "# # ReaderWriter.dump_data(dpartitions, os.path.join(targetdata_dir, 'data_partitions.pkl'))\n",
    "print(targetdata_dir)"
   ]
  },
  {
   "cell_type": "code",
   "execution_count": 17,
   "metadata": {},
   "outputs": [
    {
     "name": "stdout",
     "output_type": "stream",
     "text": [
      "CPU times: user 12.2 ms, sys: 125 ms, total: 137 ms\n",
      "Wall time: 134 ms\n"
     ]
    }
   ],
   "source": [
    "%%time\n",
    "\n",
    "# Make sure to first run the \"data_generation\" notebook first\n",
    "\n",
    "dataset = MoleculeDataset(root=targetdata_dir)"
   ]
  },
  {
   "cell_type": "code",
   "execution_count": 18,
   "metadata": {},
   "outputs": [],
   "source": [
    "# print()\n",
    "# print(f'Dataset: {dataset}:')\n",
    "# print('====================')\n",
    "# print(f'Number of graphs: {len(dataset)}')\n",
    "# print(f'Number of features: {dataset.num_features}')\n",
    "# print(f'Number of classes: {dataset.num_classes}')\n",
    "\n",
    "# # data0 = dataset[0]  # Get the first graph object.\n",
    "\n",
    "# # print()\n",
    "# # print(data)\n",
    "# # print('=============================================================')\n",
    "\n",
    "# # # Gather some statistics about the first graph.\n",
    "# # print(f'Number of nodes: {data.num_nodes}')\n",
    "# # print(f'Number of edges: {data.num_edges}')\n",
    "# # print(f'Average node degree: {data.num_edges / data.num_nodes:.2f}')\n",
    "# # print(f'Contains isolated nodes: {data.contains_isolated_nodes()}')\n",
    "# # print(f'Contains self-loops: {data.contains_self_loops()}')\n",
    "# # print(f'Is undirected: {data.is_undirected()}')"
   ]
  },
  {
   "cell_type": "code",
   "execution_count": 19,
   "metadata": {
    "scrolled": true
   },
   "outputs": [],
   "source": [
    "# data0"
   ]
  },
  {
   "cell_type": "code",
   "execution_count": 20,
   "metadata": {},
   "outputs": [],
   "source": [
    "# data0.expression.shape"
   ]
  },
  {
   "cell_type": "code",
   "execution_count": 21,
   "metadata": {},
   "outputs": [],
   "source": [
    "# data0.y"
   ]
  },
  {
   "cell_type": "code",
   "execution_count": 22,
   "metadata": {},
   "outputs": [],
   "source": [
    "# dataset.tensors[1]"
   ]
  },
  {
   "cell_type": "code",
   "execution_count": 23,
   "metadata": {},
   "outputs": [],
   "source": [
    "# used_dataset = dataset\n",
    "\n",
    "# If you want to use a smaller subset of the dataset for testing\n",
    "# smaller_dataset_len = int(len(dataset)/1)\n",
    "# used_dataset = dataset[:smaller_dataset_len]"
   ]
  },
  {
   "cell_type": "code",
   "execution_count": 24,
   "metadata": {},
   "outputs": [],
   "source": [
    "# type(used_dataset)"
   ]
  },
  {
   "cell_type": "code",
   "execution_count": 25,
   "metadata": {},
   "outputs": [
    {
     "data": {
      "text/plain": [
       "tensor([0, 0, 0,  ..., 0, 1, 1], dtype=torch.int32)"
      ]
     },
     "execution_count": 25,
     "metadata": {},
     "output_type": "execute_result"
    }
   ],
   "source": [
    "dataset.data.y"
   ]
  },
  {
   "cell_type": "code",
   "execution_count": 26,
   "metadata": {
    "scrolled": true
   },
   "outputs": [
    {
     "name": "stdout",
     "output_type": "stream",
     "text": [
      "fold_num: 0\n",
      "train data\n",
      "class: 0 norm count: 0.5764128559102675\n",
      "class: 1 norm count: 0.4235871440897325\n",
      "validation data\n",
      "class: 0 norm count: 0.5764192139737991\n",
      "class: 1 norm count: 0.42358078602620086\n",
      "test data\n",
      "class: 0 norm count: 0.5764751552795031\n",
      "class: 1 norm count: 0.4235248447204969\n",
      "\n",
      "-------------------------\n",
      "fold_num: 1\n",
      "train data\n",
      "class: 0 norm count: 0.5764128559102675\n",
      "class: 1 norm count: 0.4235871440897325\n",
      "validation data\n",
      "class: 0 norm count: 0.5764192139737991\n",
      "class: 1 norm count: 0.42358078602620086\n",
      "test data\n",
      "class: 0 norm count: 0.5764751552795031\n",
      "class: 1 norm count: 0.4235248447204969\n",
      "\n",
      "-------------------------\n",
      "fold_num: 2\n",
      "train data\n",
      "class: 0 norm count: 0.5764356969533567\n",
      "class: 1 norm count: 0.4235643030466433\n",
      "validation data\n",
      "class: 0 norm count: 0.5764192139737991\n",
      "class: 1 norm count: 0.42358078602620086\n",
      "test data\n",
      "class: 0 norm count: 0.5763929334109882\n",
      "class: 1 norm count: 0.4236070665890118\n",
      "\n",
      "-------------------------\n",
      "fold_num: 3\n",
      "train data\n",
      "class: 0 norm count: 0.5764356969533567\n",
      "class: 1 norm count: 0.4235643030466433\n",
      "validation data\n",
      "class: 0 norm count: 0.5764192139737991\n",
      "class: 1 norm count: 0.42358078602620086\n",
      "test data\n",
      "class: 0 norm count: 0.5763929334109882\n",
      "class: 1 norm count: 0.4236070665890118\n",
      "\n",
      "-------------------------\n",
      "fold_num: 4\n",
      "train data\n",
      "class: 0 norm count: 0.5764356969533567\n",
      "class: 1 norm count: 0.4235643030466433\n",
      "validation data\n",
      "class: 0 norm count: 0.5764192139737991\n",
      "class: 1 norm count: 0.42358078602620086\n",
      "test data\n",
      "class: 0 norm count: 0.5763929334109882\n",
      "class: 1 norm count: 0.4236070665890118\n",
      "\n",
      "-------------------------\n"
     ]
    }
   ],
   "source": [
    "fold_partitions = get_stratified_partitions(dataset.data.y,\n",
    "                                            num_folds=5,\n",
    "                                            valid_set_portion=0.1,\n",
    "                                            random_state=42)"
   ]
  },
  {
   "cell_type": "code",
   "execution_count": 27,
   "metadata": {},
   "outputs": [],
   "source": [
    "# train_val_test_frac = [0.7, 0.1, 0.2]\n",
    "# assert sum(train_val_test_frac) == 1\n",
    "\n",
    "# torch.manual_seed(42)\n",
    "# used_dataset = used_dataset.shuffle()\n",
    "\n",
    "# num_train = round(train_val_test_frac[0] * len(used_dataset)) \n",
    "# num_trainval = round((train_val_test_frac[0]+train_val_test_frac[1]) * len(used_dataset))\n",
    "\n",
    "# train_dataset = used_dataset[:num_train]\n",
    "# val_dataset = used_dataset[num_train:num_trainval]\n",
    "# test_dataset = used_dataset[num_trainval:]"
   ]
  },
  {
   "cell_type": "code",
   "execution_count": 28,
   "metadata": {},
   "outputs": [],
   "source": [
    "# train_dataset = Subset(used_dataset, fold_partitions[0]['train'])\n",
    "# val_dataset = Subset(used_dataset, fold_partitions[0]['validation'])\n",
    "# test_dataset = Subset(used_dataset, fold_partitions[0]['test'])"
   ]
  },
  {
   "cell_type": "code",
   "execution_count": 29,
   "metadata": {},
   "outputs": [],
   "source": [
    "# print(f'Number of training graphs: {len(train_dataset)}')\n",
    "# print(f'Number of val graphs: {len(val_dataset)}')\n",
    "# print(f'Number of test graphs: {len(test_dataset)}')"
   ]
  },
  {
   "cell_type": "code",
   "execution_count": 30,
   "metadata": {},
   "outputs": [
    {
     "name": "stdout",
     "output_type": "stream",
     "text": [
      "Number of training graphs: 18544\n",
      "Number of validation graphs: 2061\n",
      "Number of testing graphs: 5152\n"
     ]
    }
   ],
   "source": [
    "print(\"Number of training graphs: \"+ str(len(fold_partitions[0]['train'])))\n",
    "print(\"Number of validation graphs: \"+ str(len(fold_partitions[0]['validation'])))\n",
    "print(\"Number of testing graphs: \"+ str(len(fold_partitions[0]['test'])))\n"
   ]
  },
  {
   "cell_type": "code",
   "execution_count": 31,
   "metadata": {},
   "outputs": [],
   "source": [
    "# print(dataset.num_classes)"
   ]
  },
  {
   "cell_type": "code",
   "execution_count": 32,
   "metadata": {},
   "outputs": [],
   "source": [
    "# # training params total_thresh 4\n",
    "# tp = {\n",
    "#     \"batch_size\" : 300,\n",
    "#     \"num_epochs\" : 30,\n",
    "    \n",
    "#     \"emb_dim\" : 300,\n",
    "#     \"gnn_type\" : \"gatv2\",\n",
    "#     \"num_layer\" : 5,\n",
    "#     \"graph_pooling\" : \"mean\", #attention\n",
    "    \n",
    "#     \"input_embed_dim\" : None,\n",
    "#     \"gene_embed_dim\": 1,\n",
    "#     \"num_attn_heads\" : 2,\n",
    "#     \"num_transformer_units\" : 1,\n",
    "#     \"p_dropout\" : 0.3,\n",
    "# #     \"nonlin_func\" : nn.ReLU(),\n",
    "#     \"mlp_embed_factor\" : 2,\n",
    "#     \"pooling_mode\" : 'attn',\n",
    "#     \"dist_opt\" : 'cosine',\n",
    "\n",
    "#     \"base_lr\" : 3e-5, #3e-4\n",
    "#     \"max_lr_mul\": 15,\n",
    "#     \"l2_reg\" : 1e-7,\n",
    "#     \"loss_w\" : 0.95,\n",
    "#     \"margin_v\" : 1.,\n",
    "\n",
    "#     \"expression_dim\" : 64,\n",
    "#     \"expression_input_size\" : 908,\n",
    "#     \"exp_H1\" : 500,\n",
    "#     \"exp_H2\" : 400\n",
    "# }"
   ]
  },
  {
   "cell_type": "code",
   "execution_count": 33,
   "metadata": {},
   "outputs": [],
   "source": [
    "tp = {\n",
    "    \"batch_size\" : 300,\n",
    "    \"num_epochs\" : 30,\n",
    "    \n",
    "    \"emb_dim\" : 300,\n",
    "    \"gnn_type\" : \"gatv2\",\n",
    "    \"num_layer\" : 5,\n",
    "    \"graph_pooling\" : \"mean\", #attention\n",
    "    \n",
    "    \"input_embed_dim\" : None,\n",
    "    \"gene_embed_dim\": 1,\n",
    "    \"num_attn_heads\" : 2,\n",
    "    \"num_transformer_units\" : 1,\n",
    "    \"p_dropout\" : 0.3,\n",
    "#     \"nonlin_func\" : nn.ReLU(),\n",
    "    \"mlp_embed_factor\" : 2,\n",
    "    \"pooling_mode\" : 'attn',\n",
    "    \"dist_opt\" : 'cosine',\n",
    "\n",
    "    \"base_lr\" : 3e-5, #3e-4\n",
    "    \"max_lr_mul\": 5,\n",
    "    \"l2_reg\" : 1e-5,\n",
    "    \"loss_w\" : 1.,\n",
    "    \"margin_v\" : 1.,\n",
    "\n",
    "    \"expression_dim\" : 64,\n",
    "    \"expression_input_size\" : 908,\n",
    "    \"exp_H1\" : 500,\n",
    "    \"exp_H2\" : 400\n",
    "}"
   ]
  },
  {
   "cell_type": "code",
   "execution_count": 34,
   "metadata": {},
   "outputs": [],
   "source": [
    "# # training params total_thresh 3\n",
    "# tp = {\n",
    "#     \"batch_size\" : 300,\n",
    "#     \"num_epochs\" : 200,\n",
    "    \n",
    "#     \"emb_dim\" : 300,\n",
    "#     \"gnn_type\" : \"gatv2\",\n",
    "#     \"num_layer\" : 5,\n",
    "#     \"graph_pooling\" : \"mean\", #attention\n",
    "    \n",
    "#     \"input_embed_dim\" : None,\n",
    "#     \"gene_embed_dim\": 1,\n",
    "#     \"num_attn_heads\" : 2,\n",
    "#     \"num_transformer_units\" : 1,\n",
    "#     \"p_dropout\" : 0.3,\n",
    "# #     \"nonlin_func\" : nn.ReLU(),\n",
    "#     \"mlp_embed_factor\" : 2,\n",
    "#     \"pooling_mode\" : 'attn',\n",
    "#     \"dist_opt\" : 'cosine',\n",
    "\n",
    "#     \"base_lr\" : 3e-5, #3e-4\n",
    "#     \"max_lr_mul\": 10,\n",
    "#     \"l2_reg\" : 1e-8,\n",
    "#     \"loss_w\" : 0.3,\n",
    "#     \"margin_v\" : 1.,\n",
    "\n",
    "#     \"expression_dim\" : 64,\n",
    "#     \"expression_input_size\" : 908,\n",
    "#     \"exp_H1\" : 500,\n",
    "#     \"exp_H2\" : 400\n",
    "# }"
   ]
  },
  {
   "cell_type": "code",
   "execution_count": 35,
   "metadata": {},
   "outputs": [],
   "source": [
    "# targetdata_dir_exp = create_directory(os.path.join(targetdata_dir, \"experiments\"))\n",
    "# targetdata_dir_exp"
   ]
  },
  {
   "cell_type": "code",
   "execution_count": 36,
   "metadata": {},
   "outputs": [],
   "source": [
    "# device_gpu = get_device(True, index=0)\n",
    "# exp_dir = create_directory(os.path.join(targetdata_dir_exp, \"exp0\"))\n",
    "# tphp = generate_tp_hp(tp, hyperparam_space[0], hp_names)\n",
    "# partition = fold_partitions[0]"
   ]
  },
  {
   "cell_type": "code",
   "execution_count": 37,
   "metadata": {},
   "outputs": [],
   "source": [
    "# run_exp(tphp, device_gpu, exp_dir,partition=fold_partitions[0], used_dataset=used_dataset)"
   ]
  },
  {
   "cell_type": "code",
   "execution_count": 38,
   "metadata": {},
   "outputs": [],
   "source": [
    "def spawn_q_process(q_process):\n",
    "    print(\">>> spawning hyperparam search process\")\n",
    "    q_process.start()\n",
    "    \n",
    "def join_q_process(q_process):\n",
    "    q_process.join()\n",
    "    print(\"<<< joined hyperparam search process\")\n",
    "    \n",
    "def create_q_process(queue, used_dataset, gpu_num, tphp, exp_dir, partition): #\n",
    "#     fold_gpu_map = {0:gpu_num}\n",
    "    return mp.Process(target=deepadr.hyphelperv2.run_exp, args=(queue, used_dataset, gpu_num, tphp, exp_dir, partition)) #"
   ]
  },
  {
   "cell_type": "code",
   "execution_count": 39,
   "metadata": {
    "scrolled": true
   },
   "outputs": [
    {
     "name": "stdout",
     "output_type": "stream",
     "text": [
      "Start: 2022-03-24_12-43-52\n",
      "path_current_dir /cluster/home/skyriakos/chemprop_run/git/deepadr\n",
      "path_current_dir /cluster/home/skyriakos/chemprop_run/git/deepadr\n",
      ">>> spawning hyperparam search process\n",
      "gpu: cuda:0\n",
      "=====Epoch 0\n",
      "Training...\n"
     ]
    },
    {
     "name": "stderr",
     "output_type": "stream",
     "text": [
      "Iteration: 100%|██████████| 62/62 [00:29<00:00,  2.10it/s]\n",
      "Iteration:   0%|          | 0/62 [00:00<?, ?it/s]"
     ]
    },
    {
     "name": "stdout",
     "output_type": "stream",
     "text": [
      "Evaluating...\n"
     ]
    },
    {
     "name": "stderr",
     "output_type": "stream",
     "text": [
      "Iteration: 100%|██████████| 62/62 [00:04<00:00, 15.15it/s]\n",
      "/opt/conda/envs/graphnn/lib/python3.9/site-packages/sklearn/metrics/_classification.py:1318: UndefinedMetricWarning: Precision and F-score are ill-defined and being set to 0.0 in labels with no predicted samples. Use `zero_division` parameter to control this behavior.\n",
      "  _warn_prf(average, modifier, msg_start, len(result))\n",
      "/opt/conda/envs/graphnn/lib/python3.9/site-packages/sklearn/metrics/_classification.py:1318: UndefinedMetricWarning: Precision and F-score are ill-defined and being set to 0.0 in labels with no predicted samples. Use `zero_division` parameter to control this behavior.\n",
      "  _warn_prf(average, modifier, msg_start, len(result))\n",
      "/opt/conda/envs/graphnn/lib/python3.9/site-packages/sklearn/metrics/_classification.py:1318: UndefinedMetricWarning: Precision and F-score are ill-defined and being set to 0.0 in labels with no predicted samples. Use `zero_division` parameter to control this behavior.\n",
      "  _warn_prf(average, modifier, msg_start, len(result))\n",
      "/opt/conda/envs/graphnn/lib/python3.9/site-packages/sklearn/metrics/_classification.py:1318: UndefinedMetricWarning: Precision is ill-defined and being set to 0.0 due to no predicted samples. Use `zero_division` parameter to control this behavior.\n",
      "  _warn_prf(average, modifier, msg_start, len(result))\n",
      "Iteration: 100%|██████████| 18/18 [00:01<00:00, 11.45it/s]\n",
      "/opt/conda/envs/graphnn/lib/python3.9/site-packages/sklearn/metrics/_classification.py:1318: UndefinedMetricWarning: Precision and F-score are ill-defined and being set to 0.0 in labels with no predicted samples. Use `zero_division` parameter to control this behavior.\n",
      "  _warn_prf(average, modifier, msg_start, len(result))\n",
      "/opt/conda/envs/graphnn/lib/python3.9/site-packages/sklearn/metrics/_classification.py:1318: UndefinedMetricWarning: Precision and F-score are ill-defined and being set to 0.0 in labels with no predicted samples. Use `zero_division` parameter to control this behavior.\n",
      "  _warn_prf(average, modifier, msg_start, len(result))\n",
      "/opt/conda/envs/graphnn/lib/python3.9/site-packages/sklearn/metrics/_classification.py:1318: UndefinedMetricWarning: Precision and F-score are ill-defined and being set to 0.0 in labels with no predicted samples. Use `zero_division` parameter to control this behavior.\n",
      "  _warn_prf(average, modifier, msg_start, len(result))\n",
      "/opt/conda/envs/graphnn/lib/python3.9/site-packages/sklearn/metrics/_classification.py:1318: UndefinedMetricWarning: Precision is ill-defined and being set to 0.0 due to no predicted samples. Use `zero_division` parameter to control this behavior.\n",
      "  _warn_prf(average, modifier, msg_start, len(result))\n",
      "Iteration: 100%|██████████| 7/7 [00:00<00:00,  8.87it/s]\n",
      "/opt/conda/envs/graphnn/lib/python3.9/site-packages/sklearn/metrics/_classification.py:1318: UndefinedMetricWarning: Precision and F-score are ill-defined and being set to 0.0 in labels with no predicted samples. Use `zero_division` parameter to control this behavior.\n",
      "  _warn_prf(average, modifier, msg_start, len(result))\n",
      "/opt/conda/envs/graphnn/lib/python3.9/site-packages/sklearn/metrics/_classification.py:1318: UndefinedMetricWarning: Precision and F-score are ill-defined and being set to 0.0 in labels with no predicted samples. Use `zero_division` parameter to control this behavior.\n",
      "  _warn_prf(average, modifier, msg_start, len(result))\n",
      "/opt/conda/envs/graphnn/lib/python3.9/site-packages/sklearn/metrics/_classification.py:1318: UndefinedMetricWarning: Precision and F-score are ill-defined and being set to 0.0 in labels with no predicted samples. Use `zero_division` parameter to control this behavior.\n",
      "  _warn_prf(average, modifier, msg_start, len(result))\n",
      "/opt/conda/envs/graphnn/lib/python3.9/site-packages/sklearn/metrics/_classification.py:1318: UndefinedMetricWarning: Precision is ill-defined and being set to 0.0 due to no predicted samples. Use `zero_division` parameter to control this behavior.\n",
      "  _warn_prf(average, modifier, msg_start, len(result))\n",
      "Iteration:   0%|          | 0/62 [00:00<?, ?it/s]"
     ]
    },
    {
     "name": "stdout",
     "output_type": "stream",
     "text": [
      "{'Train':  best_epoch_indx:0\n",
      " auc:0.6524802590978704 \n",
      " apur:0.5711178684951095 \n",
      " f1:0.0 \n",
      " precision:0.0 \n",
      " recall:0.0 \n",
      ", 'Validation':  best_epoch_indx:0\n",
      " auc:0.6498866095086026 \n",
      " apur:0.5613938901407765 \n",
      " f1:0.0 \n",
      " precision:0.0 \n",
      " recall:0.0 \n",
      ", 'Test':  best_epoch_indx:0\n",
      " auc:0.6520861687451971 \n",
      " apur:0.5635944170836358 \n",
      " f1:0.0 \n",
      " precision:0.0 \n",
      " recall:0.0 \n",
      "}\n",
      "=====Epoch 1\n",
      "Training...\n"
     ]
    },
    {
     "name": "stderr",
     "output_type": "stream",
     "text": [
      "Iteration: 100%|██████████| 62/62 [00:09<00:00,  6.23it/s]\n",
      "Iteration:   0%|          | 0/62 [00:00<?, ?it/s]"
     ]
    },
    {
     "name": "stdout",
     "output_type": "stream",
     "text": [
      "Evaluating...\n"
     ]
    },
    {
     "name": "stderr",
     "output_type": "stream",
     "text": [
      "Iteration: 100%|██████████| 62/62 [00:03<00:00, 15.60it/s]\n",
      "Iteration: 100%|██████████| 18/18 [00:01<00:00, 16.59it/s]\n",
      "Iteration: 100%|██████████| 7/7 [00:00<00:00, 16.24it/s]\n"
     ]
    },
    {
     "name": "stdout",
     "output_type": "stream",
     "text": [
      "{'Train':  best_epoch_indx:1\n",
      " auc:0.6717054344582516 \n",
      " apur:0.5997014744936282 \n",
      " f1:0.3122639634267541 \n",
      " precision:0.7118260081558677 \n",
      " recall:0.2 \n",
      ", 'Validation':  best_epoch_indx:1\n",
      " auc:0.6624931059352595 \n",
      " apur:0.5893131342358254 \n",
      " f1:0.3083778966131907 \n",
      " precision:0.6947791164658634 \n",
      " recall:0.1981672394043528 \n",
      ", 'Test':  best_epoch_indx:1\n",
      " auc:0.6709872942686875 \n",
      " apur:0.5948081007481576 \n",
      " f1:0.2986036519871106 \n",
      " precision:0.6824877250409165 \n",
      " recall:0.19110907424381302 \n",
      "}\n",
      "=====Epoch 2\n",
      "Training...\n"
     ]
    },
    {
     "name": "stderr",
     "output_type": "stream",
     "text": [
      "Iteration: 100%|██████████| 62/62 [00:09<00:00,  6.28it/s]\n",
      "Iteration:   3%|▎         | 2/62 [00:00<00:04, 13.08it/s]"
     ]
    },
    {
     "name": "stdout",
     "output_type": "stream",
     "text": [
      "Evaluating...\n"
     ]
    },
    {
     "name": "stderr",
     "output_type": "stream",
     "text": [
      "Iteration: 100%|██████████| 62/62 [00:04<00:00, 15.04it/s]\n",
      "Iteration: 100%|██████████| 18/18 [00:01<00:00, 16.58it/s]\n",
      "Iteration: 100%|██████████| 7/7 [00:00<00:00, 16.24it/s]\n",
      "Iteration:   2%|▏         | 1/62 [00:00<00:08,  7.21it/s]"
     ]
    },
    {
     "name": "stdout",
     "output_type": "stream",
     "text": [
      "{'Train':  best_epoch_indx:2\n",
      " auc:0.7546570747192527 \n",
      " apur:0.7018467741902175 \n",
      " f1:0.6429404184819292 \n",
      " precision:0.6205875384979863 \n",
      " recall:0.6669637173774666 \n",
      ", 'Validation':  best_epoch_indx:2\n",
      " auc:0.7350133638793431 \n",
      " apur:0.6842561891584753 \n",
      " f1:0.6159052453468697 \n",
      " precision:0.6066666666666667 \n",
      " recall:0.6254295532646048 \n",
      ", 'Test':  best_epoch_indx:2\n",
      " auc:0.7488426890351731 \n",
      " apur:0.685236984349295 \n",
      " f1:0.6321864594894562 \n",
      " precision:0.6130004304778304 \n",
      " recall:0.6526122823098075 \n",
      "}\n",
      "=====Epoch 3\n",
      "Training...\n"
     ]
    },
    {
     "name": "stderr",
     "output_type": "stream",
     "text": [
      "Iteration: 100%|██████████| 62/62 [00:09<00:00,  6.24it/s]\n",
      "Iteration:   3%|▎         | 2/62 [00:00<00:04, 13.07it/s]"
     ]
    },
    {
     "name": "stdout",
     "output_type": "stream",
     "text": [
      "Evaluating...\n"
     ]
    },
    {
     "name": "stderr",
     "output_type": "stream",
     "text": [
      "Iteration: 100%|██████████| 62/62 [00:03<00:00, 15.71it/s]\n",
      "Iteration: 100%|██████████| 18/18 [00:01<00:00, 16.63it/s]\n",
      "Iteration: 100%|██████████| 7/7 [00:00<00:00, 15.73it/s]\n",
      "Iteration:   2%|▏         | 1/62 [00:00<00:08,  7.10it/s]"
     ]
    },
    {
     "name": "stdout",
     "output_type": "stream",
     "text": [
      "{'Train':  best_epoch_indx:3\n",
      " auc:0.8000970676112833 \n",
      " apur:0.751565875462925 \n",
      " f1:0.6791313287072731 \n",
      " precision:0.6855623297444545 \n",
      " recall:0.6728198599618078 \n",
      ", 'Validation':  best_epoch_indx:3\n",
      " auc:0.7855675888321937 \n",
      " apur:0.7308842645263984 \n",
      " f1:0.6619301361752516 \n",
      " precision:0.6850490196078431 \n",
      " recall:0.6403207331042382 \n",
      ", 'Test':  best_epoch_indx:3\n",
      " auc:0.7901424109719252 \n",
      " apur:0.7330778353131971 \n",
      " f1:0.6713156671315668 \n",
      " precision:0.6811320754716981 \n",
      " recall:0.6617781851512374 \n",
      "}\n",
      "=====Epoch 4\n",
      "Training...\n"
     ]
    },
    {
     "name": "stderr",
     "output_type": "stream",
     "text": [
      "Iteration: 100%|██████████| 62/62 [00:09<00:00,  6.27it/s]\n",
      "Iteration:   3%|▎         | 2/62 [00:00<00:04, 13.01it/s]"
     ]
    },
    {
     "name": "stdout",
     "output_type": "stream",
     "text": [
      "Evaluating...\n"
     ]
    },
    {
     "name": "stderr",
     "output_type": "stream",
     "text": [
      "Iteration: 100%|██████████| 62/62 [00:03<00:00, 15.69it/s]\n",
      "Iteration: 100%|██████████| 18/18 [00:01<00:00, 16.74it/s]\n",
      "Iteration: 100%|██████████| 7/7 [00:00<00:00, 15.83it/s]\n"
     ]
    },
    {
     "name": "stdout",
     "output_type": "stream",
     "text": [
      "{'Train':  best_epoch_indx:4\n",
      " auc:0.8288764292982447 \n",
      " apur:0.7844739188556682 \n",
      " f1:0.7176662833625856 \n",
      " precision:0.684010152284264 \n",
      " recall:0.7548058561425843 \n",
      ", 'Validation':  best_epoch_indx:4\n",
      " auc:0.8109830647058597 \n",
      " apur:0.7639225428266196 \n",
      " f1:0.7110371602884081 \n",
      " precision:0.689247311827957 \n",
      " recall:0.7342497136311569 \n",
      ", 'Test':  best_epoch_indx:4\n",
      " auc:0.8153596768170553 \n",
      " apur:0.7673874531071078 \n",
      " f1:0.7063903281519862 \n",
      " precision:0.6677551020408163 \n",
      " recall:0.7497708524289642 \n",
      "}\n",
      "=====Epoch 5\n",
      "Training...\n"
     ]
    },
    {
     "name": "stderr",
     "output_type": "stream",
     "text": [
      "Iteration: 100%|██████████| 62/62 [00:10<00:00,  6.11it/s]\n",
      "Iteration:   3%|▎         | 2/62 [00:00<00:04, 12.67it/s]"
     ]
    },
    {
     "name": "stdout",
     "output_type": "stream",
     "text": [
      "Evaluating...\n"
     ]
    },
    {
     "name": "stderr",
     "output_type": "stream",
     "text": [
      "Iteration: 100%|██████████| 62/62 [00:04<00:00, 15.48it/s]\n",
      "Iteration: 100%|██████████| 18/18 [00:01<00:00, 16.53it/s]\n",
      "Iteration: 100%|██████████| 7/7 [00:00<00:00, 16.09it/s]\n"
     ]
    },
    {
     "name": "stdout",
     "output_type": "stream",
     "text": [
      "{'Train':  best_epoch_indx:5\n",
      " auc:0.8422311103599786 \n",
      " apur:0.8026935306429892 \n",
      " f1:0.7281045751633988 \n",
      " precision:0.6826740947075209 \n",
      " recall:0.7800127307447485 \n",
      ", 'Validation':  best_epoch_indx:5\n",
      " auc:0.8204804825652479 \n",
      " apur:0.7752946899600542 \n",
      " f1:0.7127312295973885 \n",
      " precision:0.6787564766839378 \n",
      " recall:0.7502863688430699 \n",
      ", 'Test':  best_epoch_indx:5\n",
      " auc:0.8284698497347442 \n",
      " apur:0.7842763505834502 \n",
      " f1:0.7215752699555366 \n",
      " precision:0.6706021251475797 \n",
      " recall:0.7809349220898258 \n",
      "}\n",
      "=====Epoch 6\n",
      "Training...\n"
     ]
    },
    {
     "name": "stderr",
     "output_type": "stream",
     "text": [
      "Iteration: 100%|██████████| 62/62 [00:09<00:00,  6.26it/s]\n",
      "Iteration:   3%|▎         | 2/62 [00:00<00:04, 13.10it/s]"
     ]
    },
    {
     "name": "stdout",
     "output_type": "stream",
     "text": [
      "Evaluating...\n"
     ]
    },
    {
     "name": "stderr",
     "output_type": "stream",
     "text": [
      "Iteration: 100%|██████████| 62/62 [00:03<00:00, 15.54it/s]\n",
      "Iteration: 100%|██████████| 18/18 [00:01<00:00, 16.56it/s]\n",
      "Iteration: 100%|██████████| 7/7 [00:00<00:00, 14.55it/s]\n"
     ]
    },
    {
     "name": "stdout",
     "output_type": "stream",
     "text": [
      "{'Train':  best_epoch_indx:6\n",
      " auc:0.8513135421406528 \n",
      " apur:0.8158176600507145 \n",
      " f1:0.725531633866068 \n",
      " precision:0.753808151502676 \n",
      " recall:0.6992998090388288 \n",
      ", 'Validation':  best_epoch_indx:6\n",
      " auc:0.8264055214227036 \n",
      " apur:0.7848911565346073 \n",
      " f1:0.708208508088676 \n",
      " precision:0.742462311557789 \n",
      " recall:0.6769759450171822 \n",
      ", 'Test':  best_epoch_indx:6\n",
      " auc:0.8342331040314541 \n",
      " apur:0.7993701054300922 \n",
      " f1:0.7024970273483947 \n",
      " precision:0.7301038062283737 \n",
      " recall:0.6769019248395967 \n",
      "}\n",
      "=====Epoch 7\n",
      "Training...\n"
     ]
    },
    {
     "name": "stderr",
     "output_type": "stream",
     "text": [
      "Iteration: 100%|██████████| 62/62 [00:09<00:00,  6.24it/s]\n",
      "Iteration:   3%|▎         | 2/62 [00:00<00:04, 13.14it/s]"
     ]
    },
    {
     "name": "stdout",
     "output_type": "stream",
     "text": [
      "Evaluating...\n"
     ]
    },
    {
     "name": "stderr",
     "output_type": "stream",
     "text": [
      "Iteration: 100%|██████████| 62/62 [00:03<00:00, 15.50it/s]\n",
      "Iteration: 100%|██████████| 18/18 [00:01<00:00, 16.51it/s]\n",
      "Iteration: 100%|██████████| 7/7 [00:00<00:00, 16.10it/s]\n"
     ]
    },
    {
     "name": "stdout",
     "output_type": "stream",
     "text": [
      "{'Train':  best_epoch_indx:7\n",
      " auc:0.8560885718728195 \n",
      " apur:0.8199648334277002 \n",
      " f1:0.7407453493436198 \n",
      " precision:0.7243854952543198 \n",
      " recall:0.7578612348822407 \n",
      ", 'Validation':  best_epoch_indx:7\n",
      " auc:0.8324144461028768 \n",
      " apur:0.7900391770797994 \n",
      " f1:0.7328072153325818 \n",
      " precision:0.7214206437291898 \n",
      " recall:0.7445589919816724 \n",
      ", 'Test':  best_epoch_indx:7\n",
      " auc:0.840161313717684 \n",
      " apur:0.8025328776312167 \n",
      " f1:0.7286195286195286 \n",
      " precision:0.7140343158820941 \n",
      " recall:0.7438130155820348 \n",
      "}\n",
      "=====Epoch 8\n",
      "Training...\n"
     ]
    },
    {
     "name": "stderr",
     "output_type": "stream",
     "text": [
      "Iteration: 100%|██████████| 62/62 [00:09<00:00,  6.25it/s]\n",
      "Iteration:   3%|▎         | 2/62 [00:00<00:04, 13.07it/s]"
     ]
    },
    {
     "name": "stdout",
     "output_type": "stream",
     "text": [
      "Evaluating...\n"
     ]
    },
    {
     "name": "stderr",
     "output_type": "stream",
     "text": [
      "Iteration: 100%|██████████| 62/62 [00:04<00:00, 14.75it/s]\n",
      "Iteration: 100%|██████████| 18/18 [00:01<00:00, 16.50it/s]\n",
      "Iteration: 100%|██████████| 7/7 [00:00<00:00, 16.16it/s]\n"
     ]
    },
    {
     "name": "stdout",
     "output_type": "stream",
     "text": [
      "{'Train':  best_epoch_indx:8\n",
      " auc:0.8615200645005345 \n",
      " apur:0.8292246968805987 \n",
      " f1:0.7384250098931538 \n",
      " precision:0.7661146845490625 \n",
      " recall:0.712667091024825 \n",
      ", 'Validation':  best_epoch_indx:8\n",
      " auc:0.8330296088028049 \n",
      " apur:0.7942096466136267 \n",
      " f1:0.7255483106105514 \n",
      " precision:0.7518427518427518 \n",
      " recall:0.7010309278350515 \n",
      ", 'Test':  best_epoch_indx:8\n",
      " auc:0.8453476099213955 \n",
      " apur:0.8119286683186957 \n",
      " f1:0.7225255162591977 \n",
      " precision:0.7493845396356474 \n",
      " recall:0.6975252062328139 \n",
      "}\n",
      "=====Epoch 9\n",
      "Training...\n"
     ]
    },
    {
     "name": "stderr",
     "output_type": "stream",
     "text": [
      "Iteration: 100%|██████████| 62/62 [00:09<00:00,  6.26it/s]\n",
      "Iteration:   3%|▎         | 2/62 [00:00<00:04, 13.21it/s]"
     ]
    },
    {
     "name": "stdout",
     "output_type": "stream",
     "text": [
      "Evaluating...\n"
     ]
    },
    {
     "name": "stderr",
     "output_type": "stream",
     "text": [
      "Iteration: 100%|██████████| 62/62 [00:03<00:00, 15.52it/s]\n",
      "Iteration: 100%|██████████| 18/18 [00:01<00:00, 16.59it/s]\n",
      "Iteration: 100%|██████████| 7/7 [00:00<00:00, 16.27it/s]\n",
      "Iteration:   0%|          | 0/62 [00:00<?, ?it/s]"
     ]
    },
    {
     "name": "stdout",
     "output_type": "stream",
     "text": [
      "{'Train':  best_epoch_indx:9\n",
      " auc:0.8634420925299683 \n",
      " apur:0.829994355498618 \n",
      " f1:0.7509797822706065 \n",
      " precision:0.7343065693430657 \n",
      " recall:0.7684277530235519 \n",
      ", 'Validation':  best_epoch_indx:9\n",
      " auc:0.8358344807371154 \n",
      " apur:0.7963308858700484 \n",
      " f1:0.732394366197183 \n",
      " precision:0.720620842572062 \n",
      " recall:0.7445589919816724 \n",
      ", 'Test':  best_epoch_indx:9\n",
      " auc:0.8459500288556201 \n",
      " apur:0.8107188063924746 \n",
      " f1:0.7373579861884607 \n",
      " precision:0.717381881231036 \n",
      " recall:0.7584784601283227 \n",
      "}\n",
      "=====Epoch 10\n",
      "Training...\n"
     ]
    },
    {
     "name": "stderr",
     "output_type": "stream",
     "text": [
      "Iteration: 100%|██████████| 62/62 [00:09<00:00,  6.22it/s]\n",
      "Iteration:   0%|          | 0/62 [00:00<?, ?it/s]"
     ]
    },
    {
     "name": "stdout",
     "output_type": "stream",
     "text": [
      "Evaluating...\n"
     ]
    },
    {
     "name": "stderr",
     "output_type": "stream",
     "text": [
      "Iteration: 100%|██████████| 62/62 [00:04<00:00, 14.87it/s]\n",
      "Iteration: 100%|██████████| 18/18 [00:01<00:00, 16.56it/s]\n",
      "Iteration: 100%|██████████| 7/7 [00:00<00:00, 15.21it/s]\n"
     ]
    },
    {
     "name": "stdout",
     "output_type": "stream",
     "text": [
      "{'Train':  best_epoch_indx:10\n",
      " auc:0.8678138569553321 \n",
      " apur:0.8356525811634306 \n",
      " f1:0.7509103686194339 \n",
      " precision:0.7536547832777635 \n",
      " recall:0.748185868873329 \n",
      ", 'Validation':  best_epoch_indx:10\n",
      " auc:0.8393605779058243 \n",
      " apur:0.8002781503341395 \n",
      " f1:0.7322970639032815 \n",
      " precision:0.7361111111111112 \n",
      " recall:0.7285223367697594 \n",
      ", 'Test':  best_epoch_indx:10\n",
      " auc:0.8521155644437037 \n",
      " apur:0.8179451257173102 \n",
      " f1:0.7368662537279191 \n",
      " precision:0.7377124483233808 \n",
      " recall:0.7360219981668195 \n",
      "}\n",
      "=====Epoch 11\n",
      "Training...\n"
     ]
    },
    {
     "name": "stderr",
     "output_type": "stream",
     "text": [
      "Iteration: 100%|██████████| 62/62 [00:09<00:00,  6.24it/s]\n",
      "Iteration:   3%|▎         | 2/62 [00:00<00:04, 13.03it/s]"
     ]
    },
    {
     "name": "stdout",
     "output_type": "stream",
     "text": [
      "Evaluating...\n"
     ]
    },
    {
     "name": "stderr",
     "output_type": "stream",
     "text": [
      "Iteration: 100%|██████████| 62/62 [00:03<00:00, 15.52it/s]\n",
      "Iteration: 100%|██████████| 18/18 [00:01<00:00, 16.44it/s]\n",
      "Iteration: 100%|██████████| 7/7 [00:00<00:00, 14.54it/s]\n"
     ]
    },
    {
     "name": "stdout",
     "output_type": "stream",
     "text": [
      "{'Train':  best_epoch_indx:11\n",
      " auc:0.8691519845949532 \n",
      " apur:0.8384624641364118 \n",
      " f1:0.7544529262086515 \n",
      " precision:0.7539732994278449 \n",
      " recall:0.75493316359007 \n",
      ", 'Validation':  best_epoch_indx:11\n",
      " auc:0.8386596009734613 \n",
      " apur:0.8018096533907904 \n",
      " f1:0.7291428571428571 \n",
      " precision:0.7274800456100342 \n",
      " recall:0.7308132875143184 \n",
      ", 'Test':  best_epoch_indx:11\n",
      " auc:0.8519558555305575 \n",
      " apur:0.8198470601331098 \n",
      " f1:0.7382580939352484 \n",
      " precision:0.734573502722323 \n",
      " recall:0.7419798350137489 \n",
      "}\n",
      "=====Epoch 12\n",
      "Training...\n"
     ]
    },
    {
     "name": "stderr",
     "output_type": "stream",
     "text": [
      "Iteration: 100%|██████████| 62/62 [00:09<00:00,  6.25it/s]\n",
      "Iteration:   3%|▎         | 2/62 [00:00<00:04, 12.97it/s]"
     ]
    },
    {
     "name": "stdout",
     "output_type": "stream",
     "text": [
      "Evaluating...\n"
     ]
    },
    {
     "name": "stderr",
     "output_type": "stream",
     "text": [
      "Iteration: 100%|██████████| 62/62 [00:04<00:00, 15.44it/s]\n",
      "Iteration: 100%|██████████| 18/18 [00:01<00:00, 16.35it/s]\n",
      "Iteration: 100%|██████████| 7/7 [00:00<00:00, 16.00it/s]\n"
     ]
    },
    {
     "name": "stdout",
     "output_type": "stream",
     "text": [
      "{'Train':  best_epoch_indx:12\n",
      " auc:0.8709302870539379 \n",
      " apur:0.8413474052961385 \n",
      " f1:0.7528937443100534 \n",
      " precision:0.7695068456732687 \n",
      " recall:0.7369828134945894 \n",
      ", 'Validation':  best_epoch_indx:12\n",
      " auc:0.8361247063996207 \n",
      " apur:0.8009029724933725 \n",
      " f1:0.7280187573270808 \n",
      " precision:0.7454981992797118 \n",
      " recall:0.711340206185567 \n",
      ", 'Test':  best_epoch_indx:12\n",
      " auc:0.8535398284710842 \n",
      " apur:0.8221708775962908 \n",
      " f1:0.7358093903293624 \n",
      " precision:0.7503573130061935 \n",
      " recall:0.7218148487626032 \n",
      "}\n",
      "=====Epoch 13\n",
      "Training...\n"
     ]
    },
    {
     "name": "stderr",
     "output_type": "stream",
     "text": [
      "Iteration: 100%|██████████| 62/62 [00:10<00:00,  6.10it/s]\n",
      "Iteration:   0%|          | 0/62 [00:00<?, ?it/s]"
     ]
    },
    {
     "name": "stdout",
     "output_type": "stream",
     "text": [
      "Evaluating...\n"
     ]
    },
    {
     "name": "stderr",
     "output_type": "stream",
     "text": [
      "Iteration: 100%|██████████| 62/62 [00:04<00:00, 15.47it/s]\n",
      "Iteration: 100%|██████████| 18/18 [00:01<00:00, 16.53it/s]\n",
      "Iteration: 100%|██████████| 7/7 [00:00<00:00, 14.92it/s]\n"
     ]
    },
    {
     "name": "stdout",
     "output_type": "stream",
     "text": [
      "{'Train':  best_epoch_indx:13\n",
      " auc:0.8730626242711071 \n",
      " apur:0.8433470610105388 \n",
      " f1:0.7444769220311332 \n",
      " precision:0.7987164527421237 \n",
      " recall:0.6971355824315723 \n",
      ", 'Validation':  best_epoch_indx:13\n",
      " auc:0.836919211203289 \n",
      " apur:0.8004513893584362 \n",
      " f1:0.7217496962332929 \n",
      " precision:0.7684346701164295 \n",
      " recall:0.6804123711340206 \n",
      ", 'Test':  best_epoch_indx:13\n",
      " auc:0.8567958842935928 \n",
      " apur:0.8266037677252263 \n",
      " f1:0.7253503811163019 \n",
      " precision:0.7824933687002652 \n",
      " recall:0.6759853345554537 \n",
      "}\n",
      "=====Epoch 14\n",
      "Training...\n"
     ]
    },
    {
     "name": "stderr",
     "output_type": "stream",
     "text": [
      "Iteration: 100%|██████████| 62/62 [00:09<00:00,  6.24it/s]\n",
      "Iteration:   3%|▎         | 2/62 [00:00<00:04, 13.13it/s]"
     ]
    },
    {
     "name": "stdout",
     "output_type": "stream",
     "text": [
      "Evaluating...\n"
     ]
    },
    {
     "name": "stderr",
     "output_type": "stream",
     "text": [
      "Iteration: 100%|██████████| 62/62 [00:04<00:00, 15.46it/s]\n",
      "Iteration: 100%|██████████| 18/18 [00:01<00:00, 16.46it/s]\n",
      "Iteration: 100%|██████████| 7/7 [00:00<00:00, 16.24it/s]\n",
      "Iteration:   0%|          | 0/62 [00:00<?, ?it/s]"
     ]
    },
    {
     "name": "stdout",
     "output_type": "stream",
     "text": [
      "{'Train':  best_epoch_indx:14\n",
      " auc:0.8741772403368447 \n",
      " apur:0.8448975697604942 \n",
      " f1:0.7421521590130226 \n",
      " precision:0.8038604305864885 \n",
      " recall:0.6892425206874602 \n",
      ", 'Validation':  best_epoch_indx:14\n",
      " auc:0.8339137846583438 \n",
      " apur:0.8001581698249476 \n",
      " f1:0.7098765432098765 \n",
      " precision:0.7697456492637216 \n",
      " recall:0.6586483390607102 \n",
      ", 'Test':  best_epoch_indx:14\n",
      " auc:0.8546042459424679 \n",
      " apur:0.8239436452033193 \n",
      " f1:0.7236255572065379 \n",
      " precision:0.787176724137931 \n",
      " recall:0.6695692025664528 \n",
      "}\n",
      "=====Epoch 15\n",
      "Training...\n"
     ]
    },
    {
     "name": "stderr",
     "output_type": "stream",
     "text": [
      "Iteration: 100%|██████████| 62/62 [00:09<00:00,  6.23it/s]\n",
      "Iteration:   0%|          | 0/62 [00:00<?, ?it/s]"
     ]
    },
    {
     "name": "stdout",
     "output_type": "stream",
     "text": [
      "Evaluating...\n"
     ]
    },
    {
     "name": "stderr",
     "output_type": "stream",
     "text": [
      "Iteration: 100%|██████████| 62/62 [00:04<00:00, 15.46it/s]\n",
      "Iteration: 100%|██████████| 18/18 [00:01<00:00, 16.43it/s]\n",
      "Iteration: 100%|██████████| 7/7 [00:00<00:00, 16.08it/s]\n"
     ]
    },
    {
     "name": "stdout",
     "output_type": "stream",
     "text": [
      "{'Train':  best_epoch_indx:15\n",
      " auc:0.882044081915774 \n",
      " apur:0.8548755186415998 \n",
      " f1:0.7632301058408468 \n",
      " precision:0.7839216212588914 \n",
      " recall:0.7436028007638447 \n",
      ", 'Validation':  best_epoch_indx:15\n",
      " auc:0.843539441763955 \n",
      " apur:0.8113985525318278 \n",
      " f1:0.7310182460270747 \n",
      " precision:0.7518159806295399 \n",
      " recall:0.711340206185567 \n",
      ", 'Test':  best_epoch_indx:15\n",
      " auc:0.8628426026226209 \n",
      " apur:0.8332474338709572 \n",
      " f1:0.7471128918218242 \n",
      " precision:0.7690441533236293 \n",
      " recall:0.726397800183318 \n",
      "}\n",
      "=====Epoch 16\n",
      "Training...\n"
     ]
    },
    {
     "name": "stderr",
     "output_type": "stream",
     "text": [
      "Iteration: 100%|██████████| 62/62 [00:09<00:00,  6.22it/s]\n",
      "Iteration:   3%|▎         | 2/62 [00:00<00:04, 13.37it/s]"
     ]
    },
    {
     "name": "stdout",
     "output_type": "stream",
     "text": [
      "Evaluating...\n"
     ]
    },
    {
     "name": "stderr",
     "output_type": "stream",
     "text": [
      "Iteration: 100%|██████████| 62/62 [00:04<00:00, 14.85it/s]\n",
      "Iteration: 100%|██████████| 18/18 [00:01<00:00, 16.45it/s]\n",
      "Iteration: 100%|██████████| 7/7 [00:00<00:00, 15.27it/s]\n"
     ]
    },
    {
     "name": "stdout",
     "output_type": "stream",
     "text": [
      "{'Train':  best_epoch_indx:16\n",
      " auc:0.8837829022727459 \n",
      " apur:0.8568636745497965 \n",
      " f1:0.7693681055920424 \n",
      " precision:0.7706949412365867 \n",
      " recall:0.7680458306810949 \n",
      ", 'Validation':  best_epoch_indx:16\n",
      " auc:0.8451814826385273 \n",
      " apur:0.811546432569553 \n",
      " f1:0.7404449515116943 \n",
      " precision:0.7375 \n",
      " recall:0.7434135166093929 \n",
      ", 'Test':  best_epoch_indx:16\n",
      " auc:0.8642657093390366 \n",
      " apur:0.8322995386809301 \n",
      " f1:0.7509191176470588 \n",
      " precision:0.7529953917050691 \n",
      " recall:0.7488542621448213 \n",
      "}\n",
      "=====Epoch 17\n",
      "Training...\n"
     ]
    },
    {
     "name": "stderr",
     "output_type": "stream",
     "text": [
      "Iteration: 100%|██████████| 62/62 [00:09<00:00,  6.24it/s]\n",
      "Iteration:   3%|▎         | 2/62 [00:00<00:04, 13.04it/s]"
     ]
    },
    {
     "name": "stdout",
     "output_type": "stream",
     "text": [
      "Evaluating...\n"
     ]
    },
    {
     "name": "stderr",
     "output_type": "stream",
     "text": [
      "Iteration: 100%|██████████| 62/62 [00:04<00:00, 15.46it/s]\n",
      "Iteration: 100%|██████████| 18/18 [00:01<00:00, 16.49it/s]\n",
      "Iteration: 100%|██████████| 7/7 [00:00<00:00, 15.67it/s]\n"
     ]
    },
    {
     "name": "stdout",
     "output_type": "stream",
     "text": [
      "{'Train':  best_epoch_indx:17\n",
      " auc:0.888598075119493 \n",
      " apur:0.8624019756157164 \n",
      " f1:0.7709908606746007 \n",
      " precision:0.7972531955398423 \n",
      " recall:0.7464035646085296 \n",
      ", 'Validation':  best_epoch_indx:17\n",
      " auc:0.8494384470902226 \n",
      " apur:0.8164027931168251 \n",
      " f1:0.7349612864800477 \n",
      " precision:0.7655086848635235 \n",
      " recall:0.7067583046964491 \n",
      ", 'Test':  best_epoch_indx:17\n",
      " auc:0.8674340409904112 \n",
      " apur:0.8367585638750841 \n",
      " f1:0.7579147821947155 \n",
      " precision:0.7885091629519564 \n",
      " recall:0.7296058661778185 \n",
      "}\n",
      "=====Epoch 18\n",
      "Training...\n"
     ]
    },
    {
     "name": "stderr",
     "output_type": "stream",
     "text": [
      "Iteration: 100%|██████████| 62/62 [00:09<00:00,  6.21it/s]\n",
      "Iteration:   3%|▎         | 2/62 [00:00<00:04, 13.01it/s]"
     ]
    },
    {
     "name": "stdout",
     "output_type": "stream",
     "text": [
      "Evaluating...\n"
     ]
    },
    {
     "name": "stderr",
     "output_type": "stream",
     "text": [
      "Iteration: 100%|██████████| 62/62 [00:04<00:00, 14.88it/s]\n",
      "Iteration: 100%|██████████| 18/18 [00:01<00:00, 16.54it/s]\n",
      "Iteration: 100%|██████████| 7/7 [00:00<00:00, 16.21it/s]\n",
      "Iteration:   0%|          | 0/62 [00:00<?, ?it/s]"
     ]
    },
    {
     "name": "stdout",
     "output_type": "stream",
     "text": [
      "{'Train':  best_epoch_indx:18\n",
      " auc:0.8899433607510627 \n",
      " apur:0.8634477704827286 \n",
      " f1:0.7747794165002897 \n",
      " precision:0.7840198123044838 \n",
      " recall:0.7657542966263526 \n",
      ", 'Validation':  best_epoch_indx:18\n",
      " auc:0.8494615880068344 \n",
      " apur:0.8169449090988032 \n",
      " f1:0.7382472431804993 \n",
      " precision:0.7482352941176471 \n",
      " recall:0.7285223367697594 \n",
      ", 'Test':  best_epoch_indx:18\n",
      " auc:0.8675565616445544 \n",
      " apur:0.8362476214656335 \n",
      " f1:0.7568445475638051 \n",
      " precision:0.7664473684210527 \n",
      " recall:0.7474793767186068 \n",
      "}\n",
      "=====Epoch 19\n",
      "Training...\n"
     ]
    },
    {
     "name": "stderr",
     "output_type": "stream",
     "text": [
      "Iteration: 100%|██████████| 62/62 [00:09<00:00,  6.24it/s]\n",
      "Iteration:   0%|          | 0/62 [00:00<?, ?it/s]"
     ]
    },
    {
     "name": "stdout",
     "output_type": "stream",
     "text": [
      "Evaluating...\n"
     ]
    },
    {
     "name": "stderr",
     "output_type": "stream",
     "text": [
      "Iteration: 100%|██████████| 62/62 [00:04<00:00, 15.43it/s]\n",
      "Iteration: 100%|██████████| 18/18 [00:01<00:00, 16.56it/s]\n",
      "Iteration: 100%|██████████| 7/7 [00:00<00:00, 15.54it/s]\n"
     ]
    },
    {
     "name": "stdout",
     "output_type": "stream",
     "text": [
      "{'Train':  best_epoch_indx:19\n",
      " auc:0.8926533991320728 \n",
      " apur:0.8665709454197755 \n",
      " f1:0.7746828821760167 \n",
      " precision:0.7963435945691625 \n",
      " recall:0.7541693189051559 \n",
      ", 'Validation':  best_epoch_indx:19\n",
      " auc:0.8516705813383936 \n",
      " apur:0.819741747225429 \n",
      " f1:0.7410029498525074 \n",
      " precision:0.7639902676399026 \n",
      " recall:0.7193585337915235 \n",
      ", 'Test':  best_epoch_indx:19\n",
      " auc:0.8702611202152907 \n",
      " apur:0.8406844222442595 \n",
      " f1:0.7596131163010144 \n",
      " precision:0.7826932425862907 \n",
      " recall:0.7378551787351054 \n",
      "}\n",
      "=====Epoch 20\n",
      "Training...\n"
     ]
    },
    {
     "name": "stderr",
     "output_type": "stream",
     "text": [
      "Iteration: 100%|██████████| 62/62 [00:09<00:00,  6.23it/s]\n",
      "Iteration:   3%|▎         | 2/62 [00:00<00:04, 12.92it/s]"
     ]
    },
    {
     "name": "stdout",
     "output_type": "stream",
     "text": [
      "Evaluating...\n"
     ]
    },
    {
     "name": "stderr",
     "output_type": "stream",
     "text": [
      "Iteration: 100%|██████████| 62/62 [00:04<00:00, 15.45it/s]\n",
      "Iteration: 100%|██████████| 18/18 [00:01<00:00, 16.47it/s]\n",
      "Iteration: 100%|██████████| 7/7 [00:00<00:00, 16.12it/s]\n",
      "Iteration:   0%|          | 0/62 [00:00<?, ?it/s]"
     ]
    },
    {
     "name": "stdout",
     "output_type": "stream",
     "text": [
      "{'Train':  best_epoch_indx:20\n",
      " auc:0.8936748957967283 \n",
      " apur:0.8687277322481401 \n",
      " f1:0.7790377346402716 \n",
      " precision:0.7841114263605881 \n",
      " recall:0.7740292807129217 \n",
      ", 'Validation':  best_epoch_indx:20\n",
      " auc:0.8521064019345806 \n",
      " apur:0.8213627234312431 \n",
      " f1:0.7384259259259259 \n",
      " precision:0.7461988304093568 \n",
      " recall:0.7308132875143184 \n",
      ", 'Test':  best_epoch_indx:20\n",
      " auc:0.8694125798158795 \n",
      " apur:0.8398890266483294 \n",
      " f1:0.7567067530064755 \n",
      " precision:0.7637721755368814 \n",
      " recall:0.7497708524289642 \n",
      "}\n",
      "=====Epoch 21\n",
      "Training...\n"
     ]
    },
    {
     "name": "stderr",
     "output_type": "stream",
     "text": [
      "Iteration: 100%|██████████| 62/62 [00:10<00:00,  6.12it/s]\n",
      "Iteration:   3%|▎         | 2/62 [00:00<00:04, 13.16it/s]"
     ]
    },
    {
     "name": "stdout",
     "output_type": "stream",
     "text": [
      "Evaluating...\n"
     ]
    },
    {
     "name": "stderr",
     "output_type": "stream",
     "text": [
      "Iteration: 100%|██████████| 62/62 [00:04<00:00, 15.44it/s]\n",
      "Iteration: 100%|██████████| 18/18 [00:01<00:00, 16.37it/s]\n",
      "Iteration: 100%|██████████| 7/7 [00:00<00:00, 16.08it/s]\n",
      "Iteration:   0%|          | 0/62 [00:00<?, ?it/s]"
     ]
    },
    {
     "name": "stdout",
     "output_type": "stream",
     "text": [
      "{'Train':  best_epoch_indx:21\n",
      " auc:0.8945451396847589 \n",
      " apur:0.8694092745902987 \n",
      " f1:0.7822364217252397 \n",
      " precision:0.7852469531751123 \n",
      " recall:0.7792488860598346 \n",
      ", 'Validation':  best_epoch_indx:21\n",
      " auc:0.8548659562405265 \n",
      " apur:0.8227215413464732 \n",
      " f1:0.7436781609195402 \n",
      " precision:0.7462514417531718 \n",
      " recall:0.7411225658648339 \n",
      ", 'Test':  best_epoch_indx:21\n",
      " auc:0.8691152280519834 \n",
      " apur:0.8385646973523091 \n",
      " f1:0.7581127733026468 \n",
      " precision:0.7614424410540915 \n",
      " recall:0.7548120989917507 \n",
      "}\n",
      "=====Epoch 22\n",
      "Training...\n"
     ]
    },
    {
     "name": "stderr",
     "output_type": "stream",
     "text": [
      "Iteration: 100%|██████████| 62/62 [00:09<00:00,  6.24it/s]\n",
      "Iteration:   0%|          | 0/62 [00:00<?, ?it/s]"
     ]
    },
    {
     "name": "stdout",
     "output_type": "stream",
     "text": [
      "Evaluating...\n"
     ]
    },
    {
     "name": "stderr",
     "output_type": "stream",
     "text": [
      "Iteration: 100%|██████████| 62/62 [00:04<00:00, 15.44it/s]\n",
      "Iteration: 100%|██████████| 18/18 [00:01<00:00, 16.38it/s]\n",
      "Iteration: 100%|██████████| 7/7 [00:00<00:00, 15.21it/s]\n",
      "Iteration:   2%|▏         | 1/62 [00:00<00:08,  7.06it/s]"
     ]
    },
    {
     "name": "stdout",
     "output_type": "stream",
     "text": [
      "{'Train':  best_epoch_indx:22\n",
      " auc:0.8958267537273814 \n",
      " apur:0.8717533205734926 \n",
      " f1:0.7809833930315858 \n",
      " precision:0.7994666666666667 \n",
      " recall:0.7633354551241247 \n",
      ", 'Validation':  best_epoch_indx:22\n",
      " auc:0.8550848307434791 \n",
      " apur:0.8242681488716038 \n",
      " f1:0.7449822904368358 \n",
      " precision:0.7685749086479903 \n",
      " recall:0.722794959908362 \n",
      ", 'Test':  best_epoch_indx:22\n",
      " auc:0.8714016115940956 \n",
      " apur:0.8420614391154589 \n",
      " f1:0.7609825224374114 \n",
      " precision:0.7850877192982456 \n",
      " recall:0.7383134738771769 \n",
      "}\n",
      "=====Epoch 23\n",
      "Training...\n"
     ]
    },
    {
     "name": "stderr",
     "output_type": "stream",
     "text": [
      "Iteration: 100%|██████████| 62/62 [00:09<00:00,  6.21it/s]\n",
      "Iteration:   3%|▎         | 2/62 [00:00<00:04, 13.05it/s]"
     ]
    },
    {
     "name": "stdout",
     "output_type": "stream",
     "text": [
      "Evaluating...\n"
     ]
    },
    {
     "name": "stderr",
     "output_type": "stream",
     "text": [
      "Iteration: 100%|██████████| 62/62 [00:04<00:00, 15.44it/s]\n",
      "Iteration: 100%|██████████| 18/18 [00:01<00:00, 16.42it/s]\n",
      "Iteration: 100%|██████████| 7/7 [00:00<00:00, 15.98it/s]\n",
      "Iteration:   0%|          | 0/62 [00:00<?, ?it/s]"
     ]
    },
    {
     "name": "stdout",
     "output_type": "stream",
     "text": [
      "{'Train':  best_epoch_indx:23\n",
      " auc:0.8952219212729267 \n",
      " apur:0.8707000651707969 \n",
      " f1:0.7848605577689243 \n",
      " precision:0.7923965226417542 \n",
      " recall:0.777466581795035 \n",
      ", 'Validation':  best_epoch_indx:23\n",
      " auc:0.8504392917336789 \n",
      " apur:0.820294617271938 \n",
      " f1:0.7407840842598011 \n",
      " precision:0.757177033492823 \n",
      " recall:0.7250859106529209 \n",
      ", 'Test':  best_epoch_indx:23\n",
      " auc:0.8695681224095522 \n",
      " apur:0.8391776211457334 \n",
      " f1:0.7634682080924855 \n",
      " precision:0.7704153056462902 \n",
      " recall:0.7566452795600367 \n",
      "}\n",
      "=====Epoch 24\n",
      "Training...\n"
     ]
    },
    {
     "name": "stderr",
     "output_type": "stream",
     "text": [
      "Iteration: 100%|██████████| 62/62 [00:09<00:00,  6.23it/s]\n",
      "Iteration:   0%|          | 0/62 [00:00<?, ?it/s]"
     ]
    },
    {
     "name": "stdout",
     "output_type": "stream",
     "text": [
      "Evaluating...\n"
     ]
    },
    {
     "name": "stderr",
     "output_type": "stream",
     "text": [
      "Iteration: 100%|██████████| 62/62 [00:04<00:00, 14.79it/s]\n",
      "Iteration: 100%|██████████| 18/18 [00:01<00:00, 16.59it/s]\n",
      "Iteration: 100%|██████████| 7/7 [00:00<00:00, 16.15it/s]\n"
     ]
    },
    {
     "name": "stdout",
     "output_type": "stream",
     "text": [
      "{'Train':  best_epoch_indx:24\n",
      " auc:0.8961858741137891 \n",
      " apur:0.8711967942654162 \n",
      " f1:0.7837564734116459 \n",
      " precision:0.77766637423236 \n",
      " recall:0.7899427116486314 \n",
      ", 'Validation':  best_epoch_indx:24\n",
      " auc:0.8529442959568964 \n",
      " apur:0.8215776171533727 \n",
      " f1:0.7403569372481291 \n",
      " precision:0.7442129629629629 \n",
      " recall:0.736540664375716 \n",
      ", 'Test':  best_epoch_indx:24\n",
      " auc:0.8710109034123699 \n",
      " apur:0.8422342444700013 \n",
      " f1:0.7568062228323038 \n",
      " precision:0.7555961626313386 \n",
      " recall:0.7580201649862511 \n",
      "}\n",
      "=====Epoch 25\n",
      "Training...\n"
     ]
    },
    {
     "name": "stderr",
     "output_type": "stream",
     "text": [
      "Iteration: 100%|██████████| 62/62 [00:09<00:00,  6.22it/s]\n",
      "Iteration:   3%|▎         | 2/62 [00:00<00:04, 13.04it/s]"
     ]
    },
    {
     "name": "stdout",
     "output_type": "stream",
     "text": [
      "Evaluating...\n"
     ]
    },
    {
     "name": "stderr",
     "output_type": "stream",
     "text": [
      "Iteration: 100%|██████████| 62/62 [00:04<00:00, 15.48it/s]\n",
      "Iteration: 100%|██████████| 18/18 [00:01<00:00, 16.56it/s]\n",
      "Iteration: 100%|██████████| 7/7 [00:00<00:00, 15.04it/s]\n"
     ]
    },
    {
     "name": "stdout",
     "output_type": "stream",
     "text": [
      "{'Train':  best_epoch_indx:25\n",
      " auc:0.900386698307135 \n",
      " apur:0.8760608712225149 \n",
      " f1:0.7901652139976584 \n",
      " precision:0.8078201888549009 \n",
      " recall:0.7732654360280077 \n",
      ", 'Validation':  best_epoch_indx:25\n",
      " auc:0.859408325330433 \n",
      " apur:0.8268108873086766 \n",
      " f1:0.7454438565549677 \n",
      " precision:0.7657004830917874 \n",
      " recall:0.7262313860252004 \n",
      ", 'Test':  best_epoch_indx:25\n",
      " auc:0.8739938338471794 \n",
      " apur:0.843879550955914 \n",
      " f1:0.7612994350282486 \n",
      " precision:0.7826718296224588 \n",
      " recall:0.7410632447296058 \n",
      "}\n",
      "=====Epoch 26\n",
      "Training...\n"
     ]
    },
    {
     "name": "stderr",
     "output_type": "stream",
     "text": [
      "Iteration: 100%|██████████| 62/62 [00:09<00:00,  6.21it/s]\n",
      "Iteration:   3%|▎         | 2/62 [00:00<00:04, 12.78it/s]"
     ]
    },
    {
     "name": "stdout",
     "output_type": "stream",
     "text": [
      "Evaluating...\n"
     ]
    },
    {
     "name": "stderr",
     "output_type": "stream",
     "text": [
      "Iteration: 100%|██████████| 62/62 [00:04<00:00, 14.83it/s]\n",
      "Iteration: 100%|██████████| 18/18 [00:01<00:00, 16.56it/s]\n",
      "Iteration: 100%|██████████| 7/7 [00:00<00:00, 16.27it/s]\n",
      "Iteration:   0%|          | 0/62 [00:00<?, ?it/s]"
     ]
    },
    {
     "name": "stdout",
     "output_type": "stream",
     "text": [
      "{'Train':  best_epoch_indx:26\n",
      " auc:0.9014530545003672 \n",
      " apur:0.8774049514198772 \n",
      " f1:0.7812458493823881 \n",
      " precision:0.8166041926974872 \n",
      " recall:0.7488224061107575 \n",
      ", 'Validation':  best_epoch_indx:26\n",
      " auc:0.8578627049417428 \n",
      " apur:0.8240914434427312 \n",
      " f1:0.7418967587034815 \n",
      " precision:0.7793190416141236 \n",
      " recall:0.7079037800687286 \n",
      ", 'Test':  best_epoch_indx:26\n",
      " auc:0.8714376425421337 \n",
      " apur:0.8398742297532509 \n",
      " f1:0.7524609843937575 \n",
      " precision:0.7902168431669188 \n",
      " recall:0.7181484876260311 \n",
      "}\n",
      "=====Epoch 27\n",
      "Training...\n"
     ]
    },
    {
     "name": "stderr",
     "output_type": "stream",
     "text": [
      "Iteration: 100%|██████████| 62/62 [00:09<00:00,  6.24it/s]\n",
      "Iteration:   0%|          | 0/62 [00:00<?, ?it/s]"
     ]
    },
    {
     "name": "stdout",
     "output_type": "stream",
     "text": [
      "Evaluating...\n"
     ]
    },
    {
     "name": "stderr",
     "output_type": "stream",
     "text": [
      "Iteration: 100%|██████████| 62/62 [00:04<00:00, 15.48it/s]\n",
      "Iteration: 100%|██████████| 18/18 [00:01<00:00, 16.49it/s]\n",
      "Iteration: 100%|██████████| 7/7 [00:00<00:00, 16.00it/s]\n"
     ]
    },
    {
     "name": "stdout",
     "output_type": "stream",
     "text": [
      "{'Train':  best_epoch_indx:27\n",
      " auc:0.9046042860173986 \n",
      " apur:0.8818368512554198 \n",
      " f1:0.7958867620640525 \n",
      " precision:0.775096525096525 \n",
      " recall:0.8178230426479949 \n",
      ", 'Validation':  best_epoch_indx:27\n",
      " auc:0.8622401950007907 \n",
      " apur:0.8324340352737007 \n",
      " f1:0.7478849407783418 \n",
      " precision:0.7366666666666667 \n",
      " recall:0.7594501718213058 \n",
      ", 'Test':  best_epoch_indx:27\n",
      " auc:0.8744491971348066 \n",
      " apur:0.8465950640999476 \n",
      " f1:0.7666144551353771 \n",
      " precision:0.7490161783996502 \n",
      " recall:0.7850595783684693 \n",
      "}\n",
      "=====Epoch 28\n",
      "Training...\n"
     ]
    },
    {
     "name": "stderr",
     "output_type": "stream",
     "text": [
      "Iteration: 100%|██████████| 62/62 [00:09<00:00,  6.23it/s]\n",
      "Iteration:   3%|▎         | 2/62 [00:00<00:04, 13.08it/s]"
     ]
    },
    {
     "name": "stdout",
     "output_type": "stream",
     "text": [
      "Evaluating...\n"
     ]
    },
    {
     "name": "stderr",
     "output_type": "stream",
     "text": [
      "Iteration: 100%|██████████| 62/62 [00:04<00:00, 15.39it/s]\n",
      "Iteration: 100%|██████████| 18/18 [00:01<00:00, 16.40it/s]\n",
      "Iteration: 100%|██████████| 7/7 [00:00<00:00, 15.16it/s]\n"
     ]
    },
    {
     "name": "stdout",
     "output_type": "stream",
     "text": [
      "{'Train':  best_epoch_indx:28\n",
      " auc:0.9075506750992814 \n",
      " apur:0.8844405337136625 \n",
      " f1:0.7964217252396165 \n",
      " precision:0.7994868505452213 \n",
      " recall:0.7933800127307448 \n",
      ", 'Validation':  best_epoch_indx:28\n",
      " auc:0.8633837419633525 \n",
      " apur:0.8326099157187824 \n",
      " f1:0.7478260869565218 \n",
      " precision:0.7570422535211268 \n",
      " recall:0.738831615120275 \n",
      ", 'Test':  best_epoch_indx:28\n",
      " auc:0.8771432627527954 \n",
      " apur:0.848201749162091 \n",
      " f1:0.7644197359277276 \n",
      " precision:0.7728337236533958 \n",
      " recall:0.7561869844179652 \n",
      "}\n",
      "=====Epoch 29\n",
      "Training...\n"
     ]
    },
    {
     "name": "stderr",
     "output_type": "stream",
     "text": [
      "Iteration: 100%|██████████| 62/62 [00:10<00:00,  6.09it/s]\n",
      "Iteration:   0%|          | 0/62 [00:00<?, ?it/s]"
     ]
    },
    {
     "name": "stdout",
     "output_type": "stream",
     "text": [
      "Evaluating...\n"
     ]
    },
    {
     "name": "stderr",
     "output_type": "stream",
     "text": [
      "Iteration: 100%|██████████| 62/62 [00:04<00:00, 15.48it/s]\n",
      "Iteration: 100%|██████████| 18/18 [00:01<00:00, 16.45it/s]\n",
      "Iteration: 100%|██████████| 7/7 [00:00<00:00, 15.84it/s]\n"
     ]
    },
    {
     "name": "stdout",
     "output_type": "stream",
     "text": [
      "{'Train':  best_epoch_indx:29\n",
      " auc:0.9108413862231524 \n",
      " apur:0.8887167135323067 \n",
      " f1:0.8016523830075836 \n",
      " precision:0.7772596843615495 \n",
      " recall:0.8276257161043921 \n",
      ", 'Validation':  best_epoch_indx:29\n",
      " auc:0.8635418715601992 \n",
      " apur:0.8332910570816917 \n",
      " f1:0.7536557930258718 \n",
      " precision:0.7403314917127072 \n",
      " recall:0.7674684994272624 \n",
      ", 'Test':  best_epoch_indx:29\n",
      " auc:0.8776158313967664 \n",
      " apur:0.8493170054888168 \n",
      " f1:0.7653606411398041 \n",
      " precision:0.7441558441558441 \n",
      " recall:0.7878093492208983 \n",
      "}\n",
      "Finished training!\n",
      "<<< joined hyperparam search process\n",
      "released_gpu_num: 0\n"
     ]
    }
   ],
   "source": [
    "import torch.multiprocessing as mp\n",
    "mp.set_start_method(\"spawn\", force=True)\n",
    "\n",
    "queue = mp.Queue()\n",
    "q_processes = []\n",
    "\n",
    "# partition = fold_partitions[0]\n",
    "time_stamp = datetime.datetime.now().strftime('%Y-%m-%d_%H-%M-%S')\n",
    "\n",
    "print(\"Start: \" + time_stamp)\n",
    "\n",
    "for q_i in range(min(n_gpu, len(fold_partitions))):\n",
    "#     device_gpu = get_device(True, index=q_i)\n",
    "    partition = fold_partitions[q_i]\n",
    "    exp_dir = create_directory(os.path.join(targetdata_dir_exp, \"fold_\"+str(q_i)+\"_\"+time_stamp))\n",
    "    create_directory(os.path.join(exp_dir, \"predictions\"))\n",
    "\n",
    "#     tphp = generate_tp_hp(tp, hyperparam_space[q_i], hp_names)\n",
    "    \n",
    "    q_process = create_q_process(queue, dataset, q_i, tp, exp_dir, partition)\n",
    "    q_processes.append(q_process)\n",
    "    spawn_q_process(q_process)\n",
    "\n",
    "spawned_processes = n_gpu\n",
    "    \n",
    "# for q_i in range(len(hyperparam_space)):\n",
    "for q_i in range(min(n_gpu, len(fold_partitions))):\n",
    "    join_q_process(q_processes[q_i])\n",
    "    released_gpu_num = queue.get()\n",
    "    print(\"released_gpu_num:\", released_gpu_num)\n",
    "#     if(spawned_processes < len(hyperparam_space)):\n",
    "# #         device_gpu = get_device(True, index=q_i)\n",
    "#         time_stamp = datetime.datetime.now().strftime('%Y-%m-%d_%H-%M-%S')\n",
    "#         exp_dir = create_directory(os.path.join(targetdata_dir_exp, \"exp_\"+str(q_i)+\"_\"+time_stamp))\n",
    "#         tphp = generate_tp_hp(tp, hyperparam_space[q_i], hp_names)\n",
    "\n",
    "#         q_process = create_q_process(queue, used_dataset, released_gpu_num, tphp, exp_dir, partition)\n",
    "#         q_processes.append(q_process)\n",
    "#         spawn_q_process(q_process)\n",
    "#         spawned_processes = spawned_processes + 1"
   ]
  },
  {
   "cell_type": "code",
   "execution_count": 40,
   "metadata": {},
   "outputs": [
    {
     "name": "stdout",
     "output_type": "stream",
     "text": [
      "End: 2022-03-24_12-53-52\n"
     ]
    }
   ],
   "source": [
    "print(\"End: \" + datetime.datetime.now().strftime('%Y-%m-%d_%H-%M-%S'))\n"
   ]
  },
  {
   "cell_type": "code",
   "execution_count": null,
   "metadata": {},
   "outputs": [],
   "source": []
  }
 ],
 "metadata": {
  "kernelspec": {
   "display_name": "Python 3 (ipykernel)",
   "language": "python",
   "name": "python3"
  },
  "language_info": {
   "codemirror_mode": {
    "name": "ipython",
    "version": 3
   },
   "file_extension": ".py",
   "mimetype": "text/x-python",
   "name": "python",
   "nbconvert_exporter": "python",
   "pygments_lexer": "ipython3",
   "version": "3.9.9"
  }
 },
 "nbformat": 4,
 "nbformat_minor": 4
}
