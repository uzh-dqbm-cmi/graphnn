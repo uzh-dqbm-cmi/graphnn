{
 "cells": [
  {
   "cell_type": "code",
   "execution_count": 1,
   "metadata": {
    "scrolled": false
   },
   "outputs": [],
   "source": [
    "%load_ext autoreload\n",
    "%autoreload 2"
   ]
  },
  {
   "cell_type": "code",
   "execution_count": 2,
   "metadata": {},
   "outputs": [],
   "source": [
    "import os\n",
    "import sys\n",
    "import numpy as np\n",
    "import pandas as pd\n",
    "import datetime\n",
    "import seaborn as sns\n",
    "import ogb\n",
    "from tqdm import tqdm\n",
    "import hiplot as hip\n",
    "from copy import deepcopy\n",
    "import datetime"
   ]
  },
  {
   "cell_type": "code",
   "execution_count": 3,
   "metadata": {},
   "outputs": [],
   "source": [
    "import torch\n",
    "from torch_geometric.data import Data\n",
    "from torch_geometric.loader import DataLoader\n",
    "from torch.utils.data import Subset, TensorDataset"
   ]
  },
  {
   "cell_type": "code",
   "execution_count": 4,
   "metadata": {},
   "outputs": [
    {
     "name": "stdout",
     "output_type": "stream",
     "text": [
      "/cluster/home/skyriakos/chemprop_run/git/notebooks\n"
     ]
    }
   ],
   "source": [
    "cwd = os.getcwd()\n",
    "print(cwd)"
   ]
  },
  {
   "cell_type": "code",
   "execution_count": 5,
   "metadata": {},
   "outputs": [],
   "source": [
    "os.chdir('..')\n",
    "import deepadr\n",
    "from deepadr.dataset import *\n",
    "from deepadr.utilities import *\n",
    "from deepadr.run_workflow import *\n",
    "from deepadr.chemfeatures import *\n",
    "from deepadr.hyphelperv2 import *\n",
    "# from deepadr.model_gnn import GCN as testGCN\n",
    "from deepadr.model_gnn_ogb import GNN, DeepAdr_SiameseTrf, ExpressionNN\n",
    "# from deepadr.model_attn_siamese import *\n",
    "from ogb.graphproppred import Evaluator\n",
    "os.chdir(cwd)"
   ]
  },
  {
   "cell_type": "code",
   "execution_count": 6,
   "metadata": {},
   "outputs": [],
   "source": [
    "from rdkit.Chem.Draw import IPythonConsole\n",
    "from rdkit.Chem import Draw"
   ]
  },
  {
   "cell_type": "code",
   "execution_count": 7,
   "metadata": {},
   "outputs": [],
   "source": [
    "# from tdc.single_pred import Tox\n",
    "# from tdc.multi_pred import DDI"
   ]
  },
  {
   "cell_type": "code",
   "execution_count": 8,
   "metadata": {},
   "outputs": [],
   "source": [
    "rawdata_dir = '../data/raw/'\n",
    "processed_dir = '../data/processed/'\n",
    "up_dir = '..'"
   ]
  },
  {
   "cell_type": "code",
   "execution_count": 9,
   "metadata": {
    "scrolled": true
   },
   "outputs": [
    {
     "name": "stdout",
     "output_type": "stream",
     "text": [
      "number of GPUs available: 5\n",
      "cuda:0, name:GeForce GTX 1080 Ti\n",
      "total memory available: 10.91650390625 GB\n",
      "total memory allocated on device: 0.0 GB\n",
      "max memory allocated on device: 0.0 GB\n",
      "total memory cached on device: 0.0 GB\n",
      "max memory cached  on device: 0.0 GB\n",
      "\n",
      "cuda:1, name:GeForce GTX 1080 Ti\n",
      "total memory available: 10.91650390625 GB\n",
      "total memory allocated on device: 0.0 GB\n",
      "max memory allocated on device: 0.0 GB\n",
      "total memory cached on device: 0.0 GB\n",
      "max memory cached  on device: 0.0 GB\n",
      "\n",
      "cuda:2, name:GeForce GTX 1080 Ti\n",
      "total memory available: 10.91650390625 GB\n",
      "total memory allocated on device: 0.0 GB\n",
      "max memory allocated on device: 0.0 GB\n",
      "total memory cached on device: 0.0 GB\n",
      "max memory cached  on device: 0.0 GB\n",
      "\n",
      "cuda:3, name:GeForce GTX 1080 Ti\n",
      "total memory available: 10.91650390625 GB\n",
      "total memory allocated on device: 0.0 GB\n",
      "max memory allocated on device: 0.0 GB\n",
      "total memory cached on device: 0.0 GB\n",
      "max memory cached  on device: 0.0 GB\n",
      "\n",
      "cuda:4, name:GeForce GTX 1080 Ti\n",
      "total memory available: 10.91650390625 GB\n",
      "total memory allocated on device: 0.0 GB\n",
      "max memory allocated on device: 0.0 GB\n",
      "total memory cached on device: 0.0 GB\n",
      "max memory cached  on device: 0.0 GB\n",
      "\n"
     ]
    }
   ],
   "source": [
    "report_available_cuda_devices()"
   ]
  },
  {
   "cell_type": "code",
   "execution_count": 10,
   "metadata": {},
   "outputs": [
    {
     "data": {
      "text/plain": [
       "5"
      ]
     },
     "execution_count": 10,
     "metadata": {},
     "output_type": "execute_result"
    }
   ],
   "source": [
    "n_gpu = torch.cuda.device_count()\n",
    "n_gpu"
   ]
  },
  {
   "cell_type": "code",
   "execution_count": 11,
   "metadata": {},
   "outputs": [],
   "source": [
    "device_cpu = get_device(to_gpu=False)\n",
    "# device_gpu = get_device(True, index=0)\n",
    "\n",
    "# fdtype = torch.float32"
   ]
  },
  {
   "cell_type": "code",
   "execution_count": 12,
   "metadata": {},
   "outputs": [
    {
     "name": "stdout",
     "output_type": "stream",
     "text": [
      "torch: 1.9.1\n",
      "CUDA: 11.1\n",
      "3.9.9 | packaged by conda-forge | (main, Dec 20 2021, 02:41:03) \n",
      "[GCC 9.4.0]\n"
     ]
    }
   ],
   "source": [
    "print(\"torch:\", torch.__version__)\n",
    "print(\"CUDA:\", torch.version.cuda)\n",
    "print(sys.version)"
   ]
  },
  {
   "cell_type": "code",
   "execution_count": 13,
   "metadata": {},
   "outputs": [],
   "source": [
    "# print(torch.cuda.memory_summary(device=device_gpu))"
   ]
  },
  {
   "cell_type": "markdown",
   "metadata": {},
   "source": [
    "### Preparing dataset "
   ]
  },
  {
   "cell_type": "code",
   "execution_count": 14,
   "metadata": {},
   "outputs": [],
   "source": [
    "score = 'total_thresh'\n",
    "score_val = 4"
   ]
  },
  {
   "cell_type": "code",
   "execution_count": 15,
   "metadata": {},
   "outputs": [],
   "source": [
    "# TDC Tox\n",
    "# DSdataset_name = 'SynergxZloewe' #'OncoPolyPharmacology' #'DrugComb'\n",
    "DSdataset_name = f'DrugComb_{score}_{score_val}' #'DrugComb'\n",
    "\n",
    "\n",
    "#fname_suffix = ds_config[\"fname_suffix\"]\n",
    "# similarity_types = ['chem']\n",
    "# kernel_option = 'sqeuclidean'\n",
    "data_fname = 'data_v1'\n",
    "# interact_matfname = ds_config[\"interact_matfname\"]\n",
    "# exp_iden = 'simtypeall'\n",
    "# ddi_interaction_labels_pth = ds_config[\"ddi_interaction_labels_pth\"]\n",
    "\n",
    "# up_dir, processed_dir, DSdataset_name, data_fname"
   ]
  },
  {
   "cell_type": "code",
   "execution_count": 16,
   "metadata": {
    "scrolled": true
   },
   "outputs": [
    {
     "name": "stdout",
     "output_type": "stream",
     "text": [
      "path_current_dir /cluster/home/skyriakos/chemprop_run/git/deepadr\n",
      "path_current_dir /cluster/home/skyriakos/chemprop_run/git/deepadr\n",
      "path_current_dir /cluster/home/skyriakos/chemprop_run/git/deepadr\n",
      "path_current_dir /cluster/home/skyriakos/chemprop_run/git/deepadr\n",
      "/cluster/home/skyriakos/chemprop_run/git/data/processed/DrugComb_total_thresh_4/data_v1\n"
     ]
    }
   ],
   "source": [
    "targetdata_dir = create_directory(os.path.join(processed_dir, DSdataset_name, data_fname))\n",
    "targetdata_dir_raw = create_directory(os.path.join(targetdata_dir, \"raw\"))\n",
    "targetdata_dir_processed = create_directory(os.path.join(targetdata_dir, \"processed\"))\n",
    "targetdata_dir_exp = create_directory(os.path.join(targetdata_dir, \"experiments\"))\n",
    "# # ReaderWriter.dump_data(dpartitions, os.path.join(targetdata_dir, 'data_partitions.pkl'))\n",
    "print(targetdata_dir)"
   ]
  },
  {
   "cell_type": "code",
   "execution_count": 17,
   "metadata": {},
   "outputs": [
    {
     "name": "stdout",
     "output_type": "stream",
     "text": [
      "CPU times: user 147 µs, sys: 221 ms, total: 221 ms\n",
      "Wall time: 496 ms\n"
     ]
    }
   ],
   "source": [
    "%%time\n",
    "\n",
    "# Make sure to first run the \"data_generation\" notebook first\n",
    "\n",
    "dataset = MoleculeDataset(root=targetdata_dir)"
   ]
  },
  {
   "cell_type": "code",
   "execution_count": 18,
   "metadata": {},
   "outputs": [],
   "source": [
    "# print()\n",
    "# print(f'Dataset: {dataset}:')\n",
    "# print('====================')\n",
    "# print(f'Number of graphs: {len(dataset)}')\n",
    "# print(f'Number of features: {dataset.num_features}')\n",
    "# print(f'Number of classes: {dataset.num_classes}')\n",
    "\n",
    "# # data0 = dataset[0]  # Get the first graph object.\n",
    "\n",
    "# # print()\n",
    "# # print(data)\n",
    "# # print('=============================================================')\n",
    "\n",
    "# # # Gather some statistics about the first graph.\n",
    "# # print(f'Number of nodes: {data.num_nodes}')\n",
    "# # print(f'Number of edges: {data.num_edges}')\n",
    "# # print(f'Average node degree: {data.num_edges / data.num_nodes:.2f}')\n",
    "# # print(f'Contains isolated nodes: {data.contains_isolated_nodes()}')\n",
    "# # print(f'Contains self-loops: {data.contains_self_loops()}')\n",
    "# # print(f'Is undirected: {data.is_undirected()}')"
   ]
  },
  {
   "cell_type": "code",
   "execution_count": 19,
   "metadata": {
    "scrolled": true
   },
   "outputs": [],
   "source": [
    "# data0"
   ]
  },
  {
   "cell_type": "code",
   "execution_count": 20,
   "metadata": {},
   "outputs": [],
   "source": [
    "# data0.expression.shape"
   ]
  },
  {
   "cell_type": "code",
   "execution_count": 21,
   "metadata": {},
   "outputs": [],
   "source": [
    "# data0.y"
   ]
  },
  {
   "cell_type": "code",
   "execution_count": 22,
   "metadata": {},
   "outputs": [],
   "source": [
    "# dataset.tensors[1]"
   ]
  },
  {
   "cell_type": "code",
   "execution_count": 23,
   "metadata": {},
   "outputs": [],
   "source": [
    "# used_dataset = dataset\n",
    "\n",
    "# If you want to use a smaller subset of the dataset for testing\n",
    "# smaller_dataset_len = int(len(dataset)/1)\n",
    "# used_dataset = dataset[:smaller_dataset_len]"
   ]
  },
  {
   "cell_type": "code",
   "execution_count": 24,
   "metadata": {},
   "outputs": [],
   "source": [
    "# type(used_dataset)"
   ]
  },
  {
   "cell_type": "code",
   "execution_count": 25,
   "metadata": {},
   "outputs": [
    {
     "data": {
      "text/plain": [
       "tensor([0, 0, 0,  ..., 0, 1, 1], dtype=torch.int32)"
      ]
     },
     "execution_count": 25,
     "metadata": {},
     "output_type": "execute_result"
    }
   ],
   "source": [
    "dataset.data.y"
   ]
  },
  {
   "cell_type": "code",
   "execution_count": 26,
   "metadata": {
    "scrolled": true
   },
   "outputs": [
    {
     "name": "stdout",
     "output_type": "stream",
     "text": [
      "fold_num: 0\n",
      "train data\n",
      "class: 0 norm count: 0.5764128559102675\n",
      "class: 1 norm count: 0.4235871440897325\n",
      "validation data\n",
      "class: 0 norm count: 0.5764192139737991\n",
      "class: 1 norm count: 0.42358078602620086\n",
      "test data\n",
      "class: 0 norm count: 0.5764751552795031\n",
      "class: 1 norm count: 0.4235248447204969\n",
      "\n",
      "-------------------------\n",
      "fold_num: 1\n",
      "train data\n",
      "class: 0 norm count: 0.5764128559102675\n",
      "class: 1 norm count: 0.4235871440897325\n",
      "validation data\n",
      "class: 0 norm count: 0.5764192139737991\n",
      "class: 1 norm count: 0.42358078602620086\n",
      "test data\n",
      "class: 0 norm count: 0.5764751552795031\n",
      "class: 1 norm count: 0.4235248447204969\n",
      "\n",
      "-------------------------\n",
      "fold_num: 2\n",
      "train data\n",
      "class: 0 norm count: 0.5764356969533567\n",
      "class: 1 norm count: 0.4235643030466433\n",
      "validation data\n",
      "class: 0 norm count: 0.5764192139737991\n",
      "class: 1 norm count: 0.42358078602620086\n",
      "test data\n",
      "class: 0 norm count: 0.5763929334109882\n",
      "class: 1 norm count: 0.4236070665890118\n",
      "\n",
      "-------------------------\n",
      "fold_num: 3\n",
      "train data\n",
      "class: 0 norm count: 0.5764356969533567\n",
      "class: 1 norm count: 0.4235643030466433\n",
      "validation data\n",
      "class: 0 norm count: 0.5764192139737991\n",
      "class: 1 norm count: 0.42358078602620086\n",
      "test data\n",
      "class: 0 norm count: 0.5763929334109882\n",
      "class: 1 norm count: 0.4236070665890118\n",
      "\n",
      "-------------------------\n",
      "fold_num: 4\n",
      "train data\n",
      "class: 0 norm count: 0.5764356969533567\n",
      "class: 1 norm count: 0.4235643030466433\n",
      "validation data\n",
      "class: 0 norm count: 0.5764192139737991\n",
      "class: 1 norm count: 0.42358078602620086\n",
      "test data\n",
      "class: 0 norm count: 0.5763929334109882\n",
      "class: 1 norm count: 0.4236070665890118\n",
      "\n",
      "-------------------------\n"
     ]
    }
   ],
   "source": [
    "fold_partitions = get_stratified_partitions(dataset.data.y,\n",
    "                                            num_folds=5,\n",
    "                                            valid_set_portion=0.1,\n",
    "                                            random_state=42)"
   ]
  },
  {
   "cell_type": "code",
   "execution_count": 27,
   "metadata": {},
   "outputs": [],
   "source": [
    "# train_val_test_frac = [0.7, 0.1, 0.2]\n",
    "# assert sum(train_val_test_frac) == 1\n",
    "\n",
    "# torch.manual_seed(42)\n",
    "# used_dataset = used_dataset.shuffle()\n",
    "\n",
    "# num_train = round(train_val_test_frac[0] * len(used_dataset)) \n",
    "# num_trainval = round((train_val_test_frac[0]+train_val_test_frac[1]) * len(used_dataset))\n",
    "\n",
    "# train_dataset = used_dataset[:num_train]\n",
    "# val_dataset = used_dataset[num_train:num_trainval]\n",
    "# test_dataset = used_dataset[num_trainval:]"
   ]
  },
  {
   "cell_type": "code",
   "execution_count": 28,
   "metadata": {},
   "outputs": [],
   "source": [
    "# train_dataset = Subset(used_dataset, fold_partitions[0]['train'])\n",
    "# val_dataset = Subset(used_dataset, fold_partitions[0]['validation'])\n",
    "# test_dataset = Subset(used_dataset, fold_partitions[0]['test'])"
   ]
  },
  {
   "cell_type": "code",
   "execution_count": 29,
   "metadata": {},
   "outputs": [],
   "source": [
    "# print(f'Number of training graphs: {len(train_dataset)}')\n",
    "# print(f'Number of val graphs: {len(val_dataset)}')\n",
    "# print(f'Number of test graphs: {len(test_dataset)}')"
   ]
  },
  {
   "cell_type": "code",
   "execution_count": 30,
   "metadata": {},
   "outputs": [
    {
     "name": "stdout",
     "output_type": "stream",
     "text": [
      "Number of training graphs: 18544\n",
      "Number of validation graphs: 2061\n",
      "Number of testing graphs: 5152\n"
     ]
    }
   ],
   "source": [
    "print(\"Number of training graphs: \"+ str(len(fold_partitions[0]['train'])))\n",
    "print(\"Number of validation graphs: \"+ str(len(fold_partitions[0]['validation'])))\n",
    "print(\"Number of testing graphs: \"+ str(len(fold_partitions[0]['test'])))\n"
   ]
  },
  {
   "cell_type": "code",
   "execution_count": 31,
   "metadata": {},
   "outputs": [],
   "source": [
    "# print(dataset.num_classes)"
   ]
  },
  {
   "cell_type": "code",
   "execution_count": 32,
   "metadata": {},
   "outputs": [],
   "source": [
    "# # training params total_thresh 4\n",
    "# tp = {\n",
    "#     \"batch_size\" : 300,\n",
    "#     \"num_epochs\" : 30,\n",
    "    \n",
    "#     \"emb_dim\" : 300,\n",
    "#     \"gnn_type\" : \"gatv2\",\n",
    "#     \"num_layer\" : 5,\n",
    "#     \"graph_pooling\" : \"mean\", #attention\n",
    "    \n",
    "#     \"input_embed_dim\" : None,\n",
    "#     \"gene_embed_dim\": 1,\n",
    "#     \"num_attn_heads\" : 2,\n",
    "#     \"num_transformer_units\" : 1,\n",
    "#     \"p_dropout\" : 0.3,\n",
    "# #     \"nonlin_func\" : nn.ReLU(),\n",
    "#     \"mlp_embed_factor\" : 2,\n",
    "#     \"pooling_mode\" : 'attn',\n",
    "#     \"dist_opt\" : 'cosine',\n",
    "\n",
    "#     \"base_lr\" : 3e-5, #3e-4\n",
    "#     \"max_lr_mul\": 15,\n",
    "#     \"l2_reg\" : 1e-7,\n",
    "#     \"loss_w\" : 0.95,\n",
    "#     \"margin_v\" : 1.,\n",
    "\n",
    "#     \"expression_dim\" : 64,\n",
    "#     \"expression_input_size\" : 908,\n",
    "#     \"exp_H1\" : 500,\n",
    "#     \"exp_H2\" : 400\n",
    "# }"
   ]
  },
  {
   "cell_type": "code",
   "execution_count": 33,
   "metadata": {},
   "outputs": [],
   "source": [
    "tp = {\n",
    "    \"batch_size\" : 300,\n",
    "    \"num_epochs\" : 100,\n",
    "    \n",
    "    \"emb_dim\" : 300,\n",
    "    \"gnn_type\" : \"gatv2\",\n",
    "    \"num_layer\" : 5,\n",
    "    \"graph_pooling\" : \"mean\", #attention\n",
    "    \n",
    "    \"input_embed_dim\" : None,\n",
    "    \"gene_embed_dim\": 1,\n",
    "    \"num_attn_heads\" : 2,\n",
    "    \"num_transformer_units\" : 1,\n",
    "    \"p_dropout\" : 0.3,\n",
    "#     \"nonlin_func\" : nn.ReLU(),\n",
    "    \"mlp_embed_factor\" : 2,\n",
    "    \"pooling_mode\" : 'attn',\n",
    "    \"dist_opt\" : 'cosine',\n",
    "\n",
    "    \"base_lr\" : 3e-5, #3e-4\n",
    "    \"max_lr_mul\": 5,\n",
    "    \"l2_reg\" : 1e-5,\n",
    "    \"loss_w\" : 1.,\n",
    "    \"margin_v\" : 1.,\n",
    "\n",
    "    \"expression_dim\" : 64,\n",
    "    \"expression_input_size\" : 908,\n",
    "    \"exp_H1\" : 4096,\n",
    "    \"exp_H2\" : 2048\n",
    "}"
   ]
  },
  {
   "cell_type": "code",
   "execution_count": 34,
   "metadata": {},
   "outputs": [],
   "source": [
    "# # training params total_thresh 3\n",
    "# tp = {\n",
    "#     \"batch_size\" : 300,\n",
    "#     \"num_epochs\" : 200,\n",
    "    \n",
    "#     \"emb_dim\" : 300,\n",
    "#     \"gnn_type\" : \"gatv2\",\n",
    "#     \"num_layer\" : 5,\n",
    "#     \"graph_pooling\" : \"mean\", #attention\n",
    "    \n",
    "#     \"input_embed_dim\" : None,\n",
    "#     \"gene_embed_dim\": 1,\n",
    "#     \"num_attn_heads\" : 2,\n",
    "#     \"num_transformer_units\" : 1,\n",
    "#     \"p_dropout\" : 0.3,\n",
    "# #     \"nonlin_func\" : nn.ReLU(),\n",
    "#     \"mlp_embed_factor\" : 2,\n",
    "#     \"pooling_mode\" : 'attn',\n",
    "#     \"dist_opt\" : 'cosine',\n",
    "\n",
    "#     \"base_lr\" : 3e-5, #3e-4\n",
    "#     \"max_lr_mul\": 10,\n",
    "#     \"l2_reg\" : 1e-8,\n",
    "#     \"loss_w\" : 0.3,\n",
    "#     \"margin_v\" : 1.,\n",
    "\n",
    "#     \"expression_dim\" : 64,\n",
    "#     \"expression_input_size\" : 908,\n",
    "#     \"exp_H1\" : 500,\n",
    "#     \"exp_H2\" : 400\n",
    "# }"
   ]
  },
  {
   "cell_type": "code",
   "execution_count": 35,
   "metadata": {},
   "outputs": [],
   "source": [
    "# targetdata_dir_exp = create_directory(os.path.join(targetdata_dir, \"experiments\"))\n",
    "# targetdata_dir_exp"
   ]
  },
  {
   "cell_type": "code",
   "execution_count": 36,
   "metadata": {},
   "outputs": [],
   "source": [
    "# device_gpu = get_device(True, index=0)\n",
    "# exp_dir = create_directory(os.path.join(targetdata_dir_exp, \"exp0\"))\n",
    "# tphp = generate_tp_hp(tp, hyperparam_space[0], hp_names)\n",
    "# partition = fold_partitions[0]"
   ]
  },
  {
   "cell_type": "code",
   "execution_count": 37,
   "metadata": {},
   "outputs": [],
   "source": [
    "# run_exp(tphp, device_gpu, exp_dir,partition=fold_partitions[0], used_dataset=used_dataset)"
   ]
  },
  {
   "cell_type": "code",
   "execution_count": 38,
   "metadata": {},
   "outputs": [],
   "source": [
    "def spawn_q_process(q_process):\n",
    "    print(\">>> spawning hyperparam search process\")\n",
    "    q_process.start()\n",
    "    \n",
    "def join_q_process(q_process):\n",
    "    q_process.join()\n",
    "    print(\"<<< joined hyperparam search process\")\n",
    "    \n",
    "def create_q_process(queue, used_dataset, gpu_num, tphp, exp_dir, partition): #\n",
    "#     fold_gpu_map = {0:gpu_num}\n",
    "    return mp.Process(target=deepadr.hyphelperv2.run_exp, args=(queue, used_dataset, gpu_num, tphp, exp_dir, partition)) #"
   ]
  },
  {
   "cell_type": "code",
   "execution_count": 39,
   "metadata": {
    "scrolled": true
   },
   "outputs": [
    {
     "name": "stdout",
     "output_type": "stream",
     "text": [
      "Start: 2022-03-24_15-07-42\n",
      "path_current_dir /cluster/home/skyriakos/chemprop_run/git/deepadr\n",
      "path_current_dir /cluster/home/skyriakos/chemprop_run/git/deepadr\n",
      ">>> spawning hyperparam search process\n",
      "path_current_dir /cluster/home/skyriakos/chemprop_run/git/deepadr\n",
      "path_current_dir /cluster/home/skyriakos/chemprop_run/git/deepadr\n",
      ">>> spawning hyperparam search process\n",
      "path_current_dir /cluster/home/skyriakos/chemprop_run/git/deepadr\n",
      "path_current_dir /cluster/home/skyriakos/chemprop_run/git/deepadr\n",
      ">>> spawning hyperparam search process\n",
      "path_current_dir /cluster/home/skyriakos/chemprop_run/git/deepadr\n",
      "path_current_dir /cluster/home/skyriakos/chemprop_run/git/deepadr\n",
      ">>> spawning hyperparam search process\n",
      "gpu: cuda:0\n",
      "=====Epoch 0\n",
      "Training...\n"
     ]
    },
    {
     "name": "stderr",
     "output_type": "stream",
     "text": [
      "\r",
      "Iteration:   0%|          | 0/62 [00:00<?, ?it/s]"
     ]
    },
    {
     "name": "stdout",
     "output_type": "stream",
     "text": [
      "gpu: cuda:1\n",
      "=====Epoch 0\n",
      "Training...\n"
     ]
    },
    {
     "name": "stderr",
     "output_type": "stream",
     "text": [
      "\r",
      "Iteration:   0%|          | 0/62 [00:00<?, ?it/s]"
     ]
    },
    {
     "name": "stdout",
     "output_type": "stream",
     "text": [
      "path_current_dir /cluster/home/skyriakos/chemprop_run/git/deepadr\n",
      "path_current_dir /cluster/home/skyriakos/chemprop_run/git/deepadr\n",
      ">>> spawning hyperparam search process\n",
      "gpu: cuda:2\n",
      "=====Epoch 0\n",
      "Training...\n"
     ]
    },
    {
     "name": "stderr",
     "output_type": "stream",
     "text": [
      "Iteration:   2%|▏         | 1/62 [00:03<03:51,  3.80s/it]"
     ]
    },
    {
     "name": "stdout",
     "output_type": "stream",
     "text": [
      "gpu: cuda:3\n",
      "=====Epoch 0\n",
      "Training...\n"
     ]
    },
    {
     "name": "stderr",
     "output_type": "stream",
     "text": [
      "Iteration:   5%|▍         | 3/62 [00:07<02:07,  2.17s/it]"
     ]
    },
    {
     "name": "stdout",
     "output_type": "stream",
     "text": [
      "gpu: cuda:4\n",
      "=====Epoch 0\n",
      "Training...\n"
     ]
    },
    {
     "name": "stderr",
     "output_type": "stream",
     "text": [
      "Iteration: 100%|██████████| 62/62 [00:28<00:00,  2.20it/s]\n",
      "Iteration:  94%|█████████▎| 58/62 [00:26<00:00,  5.66it/s]"
     ]
    },
    {
     "name": "stdout",
     "output_type": "stream",
     "text": [
      "Evaluating...\n"
     ]
    },
    {
     "name": "stderr",
     "output_type": "stream",
     "text": [
      "Iteration: 100%|██████████| 62/62 [00:28<00:00,  2.18it/s]\n",
      "Iteration: 100%|██████████| 62/62 [00:27<00:00,  2.25it/s]\n",
      "Iteration:  19%|█▉        | 12/62 [00:00<00:03, 15.18it/s]"
     ]
    },
    {
     "name": "stdout",
     "output_type": "stream",
     "text": [
      "Evaluating...\n",
      "Evaluating...\n"
     ]
    },
    {
     "name": "stderr",
     "output_type": "stream",
     "text": [
      "Iteration: 100%|██████████| 62/62 [00:26<00:00,  2.31it/s]\n",
      "Iteration:   3%|▎         | 2/62 [00:00<00:04, 14.56it/s]]"
     ]
    },
    {
     "name": "stdout",
     "output_type": "stream",
     "text": [
      "Evaluating...\n"
     ]
    },
    {
     "name": "stderr",
     "output_type": "stream",
     "text": [
      "Iteration: 100%|██████████| 62/62 [00:04<00:00, 14.80it/s]\n",
      "Iteration: 100%|██████████| 62/62 [00:04<00:00, 14.79it/s]\n",
      "Iteration:  33%|███▎      | 6/18 [00:00<00:01, 10.18it/s]/opt/conda/envs/graphnn/lib/python3.9/site-packages/sklearn/metrics/_classification.py:1318: UndefinedMetricWarning: Precision and F-score are ill-defined and being set to 0.0 in labels with no predicted samples. Use `zero_division` parameter to control this behavior.\n",
      "  _warn_prf(average, modifier, msg_start, len(result))\n",
      "Iteration: 100%|██████████| 62/62 [00:04<00:00, 14.76it/s]\n",
      "/opt/conda/envs/graphnn/lib/python3.9/site-packages/sklearn/metrics/_classification.py:1318: UndefinedMetricWarning: Precision and F-score are ill-defined and being set to 0.0 in labels with no predicted samples. Use `zero_division` parameter to control this behavior.\n",
      "  _warn_prf(average, modifier, msg_start, len(result))\n",
      "/opt/conda/envs/graphnn/lib/python3.9/site-packages/sklearn/metrics/_classification.py:1318: UndefinedMetricWarning: Precision and F-score are ill-defined and being set to 0.0 in labels with no predicted samples. Use `zero_division` parameter to control this behavior.\n",
      "  _warn_prf(average, modifier, msg_start, len(result))\n",
      "/opt/conda/envs/graphnn/lib/python3.9/site-packages/sklearn/metrics/_classification.py:1318: UndefinedMetricWarning: Precision and F-score are ill-defined and being set to 0.0 in labels with no predicted samples. Use `zero_division` parameter to control this behavior.\n",
      "  _warn_prf(average, modifier, msg_start, len(result))\n",
      "/opt/conda/envs/graphnn/lib/python3.9/site-packages/sklearn/metrics/_classification.py:1318: UndefinedMetricWarning: Precision and F-score are ill-defined and being set to 0.0 in labels with no predicted samples. Use `zero_division` parameter to control this behavior.\n",
      "  _warn_prf(average, modifier, msg_start, len(result))\n",
      "/opt/conda/envs/graphnn/lib/python3.9/site-packages/sklearn/metrics/_classification.py:1318: UndefinedMetricWarning: Precision and F-score are ill-defined and being set to 0.0 in labels with no predicted samples. Use `zero_division` parameter to control this behavior.\n",
      "  _warn_prf(average, modifier, msg_start, len(result))\n",
      "Iteration:  85%|████████▌ | 53/62 [00:25<00:01,  5.87it/s]/opt/conda/envs/graphnn/lib/python3.9/site-packages/sklearn/metrics/_classification.py:1318: UndefinedMetricWarning: Precision is ill-defined and being set to 0.0 due to no predicted samples. Use `zero_division` parameter to control this behavior.\n",
      "  _warn_prf(average, modifier, msg_start, len(result))\n",
      "Iteration:   0%|          | 0/18 [00:00<?, ?it/s]/opt/conda/envs/graphnn/lib/python3.9/site-packages/sklearn/metrics/_classification.py:1318: UndefinedMetricWarning: Precision is ill-defined and being set to 0.0 due to no predicted samples. Use `zero_division` parameter to control this behavior.\n",
      "  _warn_prf(average, modifier, msg_start, len(result))\n",
      "Iteration: 100%|██████████| 18/18 [00:01<00:00, 10.76it/s]\n",
      "Iteration: 100%|██████████| 62/62 [00:26<00:00,  2.33it/s]\n",
      "Iteration:  84%|████████▍ | 52/62 [00:03<00:00, 15.21it/s]"
     ]
    },
    {
     "name": "stdout",
     "output_type": "stream",
     "text": [
      "Evaluating...\n"
     ]
    },
    {
     "name": "stderr",
     "output_type": "stream",
     "text": [
      "Iteration: 100%|██████████| 18/18 [00:01<00:00, 10.63it/s]\n",
      "/opt/conda/envs/graphnn/lib/python3.9/site-packages/sklearn/metrics/_classification.py:1318: UndefinedMetricWarning: Precision and F-score are ill-defined and being set to 0.0 in labels with no predicted samples. Use `zero_division` parameter to control this behavior.\n",
      "  _warn_prf(average, modifier, msg_start, len(result))\n",
      "/opt/conda/envs/graphnn/lib/python3.9/site-packages/sklearn/metrics/_classification.py:1318: UndefinedMetricWarning: Precision and F-score are ill-defined and being set to 0.0 in labels with no predicted samples. Use `zero_division` parameter to control this behavior.\n",
      "  _warn_prf(average, modifier, msg_start, len(result))\n",
      "/opt/conda/envs/graphnn/lib/python3.9/site-packages/sklearn/metrics/_classification.py:1318: UndefinedMetricWarning: Precision and F-score are ill-defined and being set to 0.0 in labels with no predicted samples. Use `zero_division` parameter to control this behavior.\n",
      "  _warn_prf(average, modifier, msg_start, len(result))\n",
      "Iteration: 100%|██████████| 18/18 [00:01<00:00, 10.60it/s]\n",
      "/opt/conda/envs/graphnn/lib/python3.9/site-packages/sklearn/metrics/_classification.py:1318: UndefinedMetricWarning: Precision and F-score are ill-defined and being set to 0.0 in labels with no predicted samples. Use `zero_division` parameter to control this behavior.\n",
      "  _warn_prf(average, modifier, msg_start, len(result))\n",
      "/opt/conda/envs/graphnn/lib/python3.9/site-packages/sklearn/metrics/_classification.py:1318: UndefinedMetricWarning: Precision and F-score are ill-defined and being set to 0.0 in labels with no predicted samples. Use `zero_division` parameter to control this behavior.\n",
      "  _warn_prf(average, modifier, msg_start, len(result))\n",
      "/opt/conda/envs/graphnn/lib/python3.9/site-packages/sklearn/metrics/_classification.py:1318: UndefinedMetricWarning: Precision and F-score are ill-defined and being set to 0.0 in labels with no predicted samples. Use `zero_division` parameter to control this behavior.\n",
      "  _warn_prf(average, modifier, msg_start, len(result))\n",
      "Iteration:  87%|████████▋ | 54/62 [00:03<00:00, 15.17it/s]/opt/conda/envs/graphnn/lib/python3.9/site-packages/sklearn/metrics/_classification.py:1318: UndefinedMetricWarning: Precision is ill-defined and being set to 0.0 due to no predicted samples. Use `zero_division` parameter to control this behavior.\n",
      "  _warn_prf(average, modifier, msg_start, len(result))\n",
      "/opt/conda/envs/graphnn/lib/python3.9/site-packages/sklearn/metrics/_classification.py:1318: UndefinedMetricWarning: Precision is ill-defined and being set to 0.0 due to no predicted samples. Use `zero_division` parameter to control this behavior.\n",
      "  _warn_prf(average, modifier, msg_start, len(result))\n",
      "Iteration: 100%|██████████| 62/62 [00:04<00:00, 14.76it/s]\n",
      "Iteration: 100%|██████████| 18/18 [00:01<00:00, 10.35it/s]\n",
      "Iteration: 100%|██████████| 62/62 [00:04<00:00, 14.61it/s]\n",
      "/opt/conda/envs/graphnn/lib/python3.9/site-packages/sklearn/metrics/_classification.py:1318: UndefinedMetricWarning: Precision and F-score are ill-defined and being set to 0.0 in labels with no predicted samples. Use `zero_division` parameter to control this behavior.\n",
      "  _warn_prf(average, modifier, msg_start, len(result))\n",
      "/opt/conda/envs/graphnn/lib/python3.9/site-packages/sklearn/metrics/_classification.py:1318: UndefinedMetricWarning: Precision and F-score are ill-defined and being set to 0.0 in labels with no predicted samples. Use `zero_division` parameter to control this behavior.\n",
      "  _warn_prf(average, modifier, msg_start, len(result))\n",
      "/opt/conda/envs/graphnn/lib/python3.9/site-packages/sklearn/metrics/_classification.py:1318: UndefinedMetricWarning: Precision and F-score are ill-defined and being set to 0.0 in labels with no predicted samples. Use `zero_division` parameter to control this behavior.\n",
      "  _warn_prf(average, modifier, msg_start, len(result))\n",
      "/opt/conda/envs/graphnn/lib/python3.9/site-packages/sklearn/metrics/_classification.py:1318: UndefinedMetricWarning: Precision is ill-defined and being set to 0.0 due to no predicted samples. Use `zero_division` parameter to control this behavior.\n",
      "  _warn_prf(average, modifier, msg_start, len(result))\n",
      "Iteration: 100%|██████████| 7/7 [00:00<00:00,  8.44it/s]]\n",
      "Iteration:   0%|          | 0/7 [00:00<?, ?it/s]"
     ]
    },
    {
     "name": "stdout",
     "output_type": "stream",
     "text": [
      "{'Train':  best_epoch_indx:0\n",
      " auc:0.6296689238161576 \n",
      " apur:0.5614224476375522 \n",
      " f1:0.6008590394377197 \n",
      " precision:0.43334272036046184 \n",
      " recall:0.9795035009548059 \n",
      ", 'Validation':  best_epoch_indx:0\n",
      " auc:0.6122170540841789 \n",
      " apur:0.5500547368544908 \n",
      " f1:0.5950297514875743 \n",
      " precision:0.4284274193548387 \n",
      " recall:0.9736540664375716 \n",
      ", 'Test':  best_epoch_indx:0\n",
      " auc:0.633830051199437 \n",
      " apur:0.5712852693038766 \n",
      " f1:0.5986832889760471 \n",
      " precision:0.4311075247125277 \n",
      " recall:0.9793767186067828 \n",
      "}\n",
      "=====Epoch 1\n",
      "Training...\n"
     ]
    },
    {
     "name": "stderr",
     "output_type": "stream",
     "text": [
      "Iteration: 100%|██████████| 7/7 [00:00<00:00,  8.08it/s]s]\n",
      "/opt/conda/envs/graphnn/lib/python3.9/site-packages/sklearn/metrics/_classification.py:1318: UndefinedMetricWarning: Precision and F-score are ill-defined and being set to 0.0 in labels with no predicted samples. Use `zero_division` parameter to control this behavior.\n",
      "  _warn_prf(average, modifier, msg_start, len(result))\n",
      "/opt/conda/envs/graphnn/lib/python3.9/site-packages/sklearn/metrics/_classification.py:1318: UndefinedMetricWarning: Precision and F-score are ill-defined and being set to 0.0 in labels with no predicted samples. Use `zero_division` parameter to control this behavior.\n",
      "  _warn_prf(average, modifier, msg_start, len(result))\n",
      "/opt/conda/envs/graphnn/lib/python3.9/site-packages/sklearn/metrics/_classification.py:1318: UndefinedMetricWarning: Precision and F-score are ill-defined and being set to 0.0 in labels with no predicted samples. Use `zero_division` parameter to control this behavior.\n",
      "  _warn_prf(average, modifier, msg_start, len(result))\n",
      "Iteration: 100%|██████████| 7/7 [00:00<00:00,  8.28it/s]\n",
      "/opt/conda/envs/graphnn/lib/python3.9/site-packages/sklearn/metrics/_classification.py:1318: UndefinedMetricWarning: Precision and F-score are ill-defined and being set to 0.0 in labels with no predicted samples. Use `zero_division` parameter to control this behavior.\n",
      "  _warn_prf(average, modifier, msg_start, len(result))\n",
      "/opt/conda/envs/graphnn/lib/python3.9/site-packages/sklearn/metrics/_classification.py:1318: UndefinedMetricWarning: Precision and F-score are ill-defined and being set to 0.0 in labels with no predicted samples. Use `zero_division` parameter to control this behavior.\n",
      "  _warn_prf(average, modifier, msg_start, len(result))\n",
      "/opt/conda/envs/graphnn/lib/python3.9/site-packages/sklearn/metrics/_classification.py:1318: UndefinedMetricWarning: Precision and F-score are ill-defined and being set to 0.0 in labels with no predicted samples. Use `zero_division` parameter to control this behavior.\n",
      "  _warn_prf(average, modifier, msg_start, len(result))\n",
      "/opt/conda/envs/graphnn/lib/python3.9/site-packages/sklearn/metrics/_classification.py:1318: UndefinedMetricWarning: Precision is ill-defined and being set to 0.0 due to no predicted samples. Use `zero_division` parameter to control this behavior.\n",
      "  _warn_prf(average, modifier, msg_start, len(result))\n",
      "Iteration:  10%|▉         | 6/62 [00:00<00:07,  7.24it/s]/opt/conda/envs/graphnn/lib/python3.9/site-packages/sklearn/metrics/_classification.py:1318: UndefinedMetricWarning: Precision is ill-defined and being set to 0.0 due to no predicted samples. Use `zero_division` parameter to control this behavior.\n",
      "  _warn_prf(average, modifier, msg_start, len(result))\n",
      "Iteration:   0%|          | 0/62 [00:00<?, ?it/s]"
     ]
    },
    {
     "name": "stdout",
     "output_type": "stream",
     "text": [
      "{'Train':  best_epoch_indx:0\n",
      " auc:0.6111449339133331 \n",
      " apur:0.5299646394497528 \n",
      " f1:0.0 \n",
      " precision:0.0 \n",
      " recall:0.0 \n",
      ", 'Validation':  best_epoch_indx:0\n",
      " auc:0.6279461279461279 \n",
      " apur:0.5300039427335896 \n",
      " f1:0.0 \n",
      " precision:0.0 \n",
      " recall:0.0 \n",
      ", 'Test':  best_epoch_indx:0\n",
      " auc:0.6192577316087856 \n",
      " apur:0.5344968505119385 \n",
      " f1:0.0 \n",
      " precision:0.0 \n",
      " recall:0.0 \n",
      "}\n",
      "=====Epoch 1\n",
      "Training...\n",
      "{'Train':  best_epoch_indx:0\n",
      " auc:0.6743041171276153 \n",
      " apur:0.6128868937305245 \n",
      " f1:0.0 \n",
      " precision:0.0 \n",
      " recall:0.0 \n",
      ", 'Validation':  best_epoch_indx:0\n",
      " auc:0.6590041306536152 \n",
      " apur:0.5764409515101825 \n",
      " f1:0.0 \n",
      " precision:0.0 \n",
      " recall:0.0 \n",
      ", 'Test':  best_epoch_indx:0\n",
      " auc:0.6739502509740893 \n",
      " apur:0.6051709471388547 \n",
      " f1:0.0 \n",
      " precision:0.0 \n",
      " recall:0.0 \n",
      "}\n",
      "=====Epoch 1\n",
      "Training...\n"
     ]
    },
    {
     "name": "stderr",
     "output_type": "stream",
     "text": [
      "Iteration: 100%|██████████| 18/18 [00:01<00:00, 10.56it/s]\n",
      "/opt/conda/envs/graphnn/lib/python3.9/site-packages/sklearn/metrics/_classification.py:1318: UndefinedMetricWarning: Precision and F-score are ill-defined and being set to 0.0 in labels with no predicted samples. Use `zero_division` parameter to control this behavior.\n",
      "  _warn_prf(average, modifier, msg_start, len(result))\n",
      "/opt/conda/envs/graphnn/lib/python3.9/site-packages/sklearn/metrics/_classification.py:1318: UndefinedMetricWarning: Precision and F-score are ill-defined and being set to 0.0 in labels with no predicted samples. Use `zero_division` parameter to control this behavior.\n",
      "  _warn_prf(average, modifier, msg_start, len(result))\n",
      "/opt/conda/envs/graphnn/lib/python3.9/site-packages/sklearn/metrics/_classification.py:1318: UndefinedMetricWarning: Precision and F-score are ill-defined and being set to 0.0 in labels with no predicted samples. Use `zero_division` parameter to control this behavior.\n",
      "  _warn_prf(average, modifier, msg_start, len(result))\n",
      "/opt/conda/envs/graphnn/lib/python3.9/site-packages/sklearn/metrics/_classification.py:1318: UndefinedMetricWarning: Precision is ill-defined and being set to 0.0 due to no predicted samples. Use `zero_division` parameter to control this behavior.\n",
      "  _warn_prf(average, modifier, msg_start, len(result))\n",
      "Iteration: 100%|██████████| 7/7 [00:00<00:00,  7.93it/s]s]\n",
      "Iteration:  31%|███       | 19/62 [00:02<00:06,  6.99it/s]"
     ]
    },
    {
     "name": "stdout",
     "output_type": "stream",
     "text": [
      "{'Train':  best_epoch_indx:0\n",
      " auc:0.634214049192598 \n",
      " apur:0.5531308932077768 \n",
      " f1:0.6142237785559447 \n",
      " precision:0.4566416661501271 \n",
      " recall:0.9378739656269892 \n",
      ", 'Validation':  best_epoch_indx:0\n",
      " auc:0.6179135763900941 \n",
      " apur:0.5368291200003186 \n",
      " f1:0.6146230007616147 \n",
      " precision:0.46035367940673133 \n",
      " recall:0.9243986254295533 \n",
      ", 'Test':  best_epoch_indx:0\n",
      " auc:0.6202642706685861 \n",
      " apur:0.5309001548836717 \n",
      " f1:0.6113958396141091 \n",
      " precision:0.4555256064690027 \n",
      " recall:0.9294225481209899 \n",
      "}\n",
      "=====Epoch 1\n",
      "Training...\n"
     ]
    },
    {
     "name": "stderr",
     "output_type": "stream",
     "text": [
      "Iteration: 100%|██████████| 7/7 [00:00<00:00,  8.07it/s]s]\n",
      "/opt/conda/envs/graphnn/lib/python3.9/site-packages/sklearn/metrics/_classification.py:1318: UndefinedMetricWarning: Precision and F-score are ill-defined and being set to 0.0 in labels with no predicted samples. Use `zero_division` parameter to control this behavior.\n",
      "  _warn_prf(average, modifier, msg_start, len(result))\n",
      "/opt/conda/envs/graphnn/lib/python3.9/site-packages/sklearn/metrics/_classification.py:1318: UndefinedMetricWarning: Precision and F-score are ill-defined and being set to 0.0 in labels with no predicted samples. Use `zero_division` parameter to control this behavior.\n",
      "  _warn_prf(average, modifier, msg_start, len(result))\n",
      "/opt/conda/envs/graphnn/lib/python3.9/site-packages/sklearn/metrics/_classification.py:1318: UndefinedMetricWarning: Precision and F-score are ill-defined and being set to 0.0 in labels with no predicted samples. Use `zero_division` parameter to control this behavior.\n",
      "  _warn_prf(average, modifier, msg_start, len(result))\n",
      "Iteration:  66%|██████▌   | 41/62 [00:05<00:02,  7.35it/s]/opt/conda/envs/graphnn/lib/python3.9/site-packages/sklearn/metrics/_classification.py:1318: UndefinedMetricWarning: Precision is ill-defined and being set to 0.0 due to no predicted samples. Use `zero_division` parameter to control this behavior.\n",
      "  _warn_prf(average, modifier, msg_start, len(result))\n",
      "Iteration:  39%|███▊      | 24/62 [00:03<00:05,  7.28it/s]"
     ]
    },
    {
     "name": "stdout",
     "output_type": "stream",
     "text": [
      "{'Train':  best_epoch_indx:0\n",
      " auc:0.4913580691664101 \n",
      " apur:0.42142254874385504 \n",
      " f1:0.0 \n",
      " precision:0.0 \n",
      " recall:0.0 \n",
      ", 'Validation':  best_epoch_indx:0\n",
      " auc:0.4987016981575974 \n",
      " apur:0.42824271860703217 \n",
      " f1:0.0 \n",
      " precision:0.0 \n",
      " recall:0.0 \n",
      ", 'Test':  best_epoch_indx:0\n",
      " auc:0.48861702301725224 \n",
      " apur:0.4158959683036006 \n",
      " f1:0.0 \n",
      " precision:0.0 \n",
      " recall:0.0 \n",
      "}\n",
      "=====Epoch 1\n",
      "Training...\n"
     ]
    },
    {
     "name": "stderr",
     "output_type": "stream",
     "text": [
      "Iteration: 100%|██████████| 62/62 [00:08<00:00,  7.31it/s]\n",
      "Iteration:  89%|████████▊ | 55/62 [00:07<00:00,  7.30it/s]"
     ]
    },
    {
     "name": "stdout",
     "output_type": "stream",
     "text": [
      "Evaluating...\n"
     ]
    },
    {
     "name": "stderr",
     "output_type": "stream",
     "text": [
      "Iteration: 100%|██████████| 62/62 [00:08<00:00,  7.18it/s]\n",
      "Iteration: 100%|██████████| 62/62 [00:08<00:00,  7.13it/s]\n",
      "Iteration:   0%|          | 0/62 [00:00<?, ?it/s]7.35it/s]"
     ]
    },
    {
     "name": "stdout",
     "output_type": "stream",
     "text": [
      "Evaluating...\n",
      "Evaluating...\n"
     ]
    },
    {
     "name": "stderr",
     "output_type": "stream",
     "text": [
      "Iteration: 100%|██████████| 62/62 [00:08<00:00,  7.23it/s]\n",
      "Iteration:  61%|██████▏   | 38/62 [00:02<00:01, 15.20it/s]"
     ]
    },
    {
     "name": "stdout",
     "output_type": "stream",
     "text": [
      "Evaluating...\n"
     ]
    },
    {
     "name": "stderr",
     "output_type": "stream",
     "text": [
      "Iteration: 100%|██████████| 62/62 [00:04<00:00, 15.36it/s]\n",
      "Iteration: 100%|██████████| 62/62 [00:04<00:00, 15.19it/s]\n",
      "Iteration: 100%|██████████| 62/62 [00:04<00:00, 15.28it/s]\n",
      "Iteration: 100%|██████████| 18/18 [00:01<00:00, 15.93it/s]\n",
      "Iteration: 100%|██████████| 18/18 [00:01<00:00, 15.79it/s]\n",
      "Iteration: 100%|██████████| 18/18 [00:01<00:00, 15.78it/s]\n",
      "Iteration: 100%|██████████| 62/62 [00:08<00:00,  7.29it/s]\n",
      "Iteration:  81%|████████  | 50/62 [00:03<00:00, 15.10it/s]"
     ]
    },
    {
     "name": "stdout",
     "output_type": "stream",
     "text": [
      "Evaluating...\n"
     ]
    },
    {
     "name": "stderr",
     "output_type": "stream",
     "text": [
      "Iteration: 100%|██████████| 62/62 [00:04<00:00, 15.17it/s]\n",
      "Iteration: 100%|██████████| 18/18 [00:01<00:00, 15.81it/s]\n",
      "Iteration: 100%|██████████| 7/7 [00:00<00:00, 15.25it/s]s]\n"
     ]
    },
    {
     "name": "stdout",
     "output_type": "stream",
     "text": [
      "{'Train':  best_epoch_indx:1\n",
      " auc:0.706871648450411 \n",
      " apur:0.6339969977406679 \n",
      " f1:0.6362712490761271 \n",
      " precision:0.49931124483433625 \n",
      " recall:0.8767663908338638 \n",
      ", 'Validation':  best_epoch_indx:1\n",
      " auc:0.6900780427412729 \n",
      " apur:0.6161358691366323 \n",
      " f1:0.6292134831460674 \n",
      " precision:0.49411764705882355 \n",
      " recall:0.865979381443299 \n",
      ", 'Test':  best_epoch_indx:1\n",
      " auc:0.7102554725377824 \n",
      " apur:0.6400607854558683 \n",
      " f1:0.6343407505812022 \n",
      " precision:0.4973958333333333 \n",
      " recall:0.8753437213565536 \n",
      "}\n",
      "=====Epoch 2\n",
      "Training...\n"
     ]
    },
    {
     "name": "stderr",
     "output_type": "stream",
     "text": [
      "Iteration: 100%|██████████| 62/62 [00:04<00:00, 15.16it/s]\n",
      "Iteration: 100%|██████████| 7/7 [00:00<00:00, 15.14it/s]]\n",
      "Iteration: 100%|██████████| 7/7 [00:00<00:00, 14.49it/s]]\n",
      "Iteration:   0%|          | 0/62 [00:00<?, ?it/s].21it/s]"
     ]
    },
    {
     "name": "stdout",
     "output_type": "stream",
     "text": [
      "{'Train':  best_epoch_indx:1\n",
      " auc:0.7277330621633489 \n",
      " apur:0.6745971143340876 \n",
      " f1:0.5335883337317715 \n",
      " precision:0.7132509586706434 \n",
      " recall:0.42622533418204966 \n",
      ", 'Validation':  best_epoch_indx:1\n",
      " auc:0.7289215175813114 \n",
      " apur:0.6664904824956008 \n",
      " f1:0.5263157894736842 \n",
      " precision:0.6941838649155723 \n",
      " recall:0.4238258877434135 \n",
      ", 'Test':  best_epoch_indx:1\n",
      " auc:0.7273042061309706 \n",
      " apur:0.6806896765218353 \n",
      " f1:0.5514357401728464 \n",
      " precision:0.703914590747331 \n",
      " recall:0.4532538955087076 \n",
      "}\n",
      "=====Epoch 2\n",
      "Training...\n",
      "{'Train':  best_epoch_indx:1\n",
      " auc:0.7198689412105165 \n",
      " apur:0.6396600725707023 \n",
      " f1:0.6229332059929565 \n",
      " precision:0.5864239154866262 \n",
      " recall:0.6642902609802673 \n",
      ", 'Validation':  best_epoch_indx:1\n",
      " auc:0.7044095016603608 \n",
      " apur:0.6332273247753082 \n",
      " f1:0.604133545310016 \n",
      " precision:0.5621301775147929 \n",
      " recall:0.6529209621993127 \n",
      ", 'Test':  best_epoch_indx:1\n",
      " auc:0.71599138238424 \n",
      " apur:0.6490140646797107 \n",
      " f1:0.6152201795639163 \n",
      " precision:0.5765224358974359 \n",
      " recall:0.65948670944088 \n",
      "}\n",
      "=====Epoch 2\n",
      "Training...\n"
     ]
    },
    {
     "name": "stderr",
     "output_type": "stream",
     "text": [
      "Iteration: 100%|██████████| 18/18 [00:01<00:00, 15.00it/s]\n",
      "Iteration: 100%|██████████| 7/7 [00:00<00:00, 15.30it/s]s]\n",
      "Iteration:  44%|████▎     | 27/62 [00:03<00:04,  7.30it/s]"
     ]
    },
    {
     "name": "stdout",
     "output_type": "stream",
     "text": [
      "{'Train':  best_epoch_indx:1\n",
      " auc:0.7228565576137653 \n",
      " apur:0.6465158309116414 \n",
      " f1:0.6392949269131556 \n",
      " precision:0.5531479587091974 \n",
      " recall:0.7572246976448123 \n",
      ", 'Validation':  best_epoch_indx:1\n",
      " auc:0.7123222488342762 \n",
      " apur:0.6471334503502796 \n",
      " f1:0.6333333333333333 \n",
      " precision:0.5535561268209083 \n",
      " recall:0.7399770904925544 \n",
      ", 'Test':  best_epoch_indx:1\n",
      " auc:0.7148689529044242 \n",
      " apur:0.6423837365324996 \n",
      " f1:0.634193299961494 \n",
      " precision:0.546812749003984 \n",
      " recall:0.7548120989917507 \n",
      "}\n",
      "=====Epoch 2\n",
      "Training...\n"
     ]
    },
    {
     "name": "stderr",
     "output_type": "stream",
     "text": [
      "Iteration: 100%|██████████| 7/7 [00:00<00:00, 15.40it/s]s]\n",
      "Iteration:  37%|███▋      | 23/62 [00:03<00:05,  7.27it/s]"
     ]
    },
    {
     "name": "stdout",
     "output_type": "stream",
     "text": [
      "{'Train':  best_epoch_indx:1\n",
      " auc:0.6684916568367612 \n",
      " apur:0.6042970420785301 \n",
      " f1:0.5022525795669234 \n",
      " precision:0.585068562722194 \n",
      " recall:0.4399745385105029 \n",
      ", 'Validation':  best_epoch_indx:1\n",
      " auc:0.6655814540980636 \n",
      " apur:0.6033243687448273 \n",
      " f1:0.4872824631860777 \n",
      " precision:0.5861513687600645 \n",
      " recall:0.41695303550973656 \n",
      ", 'Test':  best_epoch_indx:1\n",
      " auc:0.6767905540261899 \n",
      " apur:0.6127239622434841 \n",
      " f1:0.5005319148936171 \n",
      " precision:0.5963244613434727 \n",
      " recall:0.4312557286892759 \n",
      "}\n",
      "=====Epoch 2\n",
      "Training...\n"
     ]
    },
    {
     "name": "stderr",
     "output_type": "stream",
     "text": [
      "Iteration: 100%|██████████| 62/62 [00:08<00:00,  7.33it/s]\n",
      "Iteration:  21%|██        | 13/62 [00:01<00:06,  7.20it/s]"
     ]
    },
    {
     "name": "stdout",
     "output_type": "stream",
     "text": [
      "Evaluating...\n"
     ]
    },
    {
     "name": "stderr",
     "output_type": "stream",
     "text": [
      "Iteration: 100%|██████████| 62/62 [00:08<00:00,  7.30it/s]\n",
      "Iteration: 100%|██████████| 62/62 [00:08<00:00,  7.21it/s]\n",
      "Iteration:  35%|███▌      | 22/62 [00:03<00:05,  7.28it/s]"
     ]
    },
    {
     "name": "stdout",
     "output_type": "stream",
     "text": [
      "Evaluating...\n",
      "Evaluating...\n"
     ]
    },
    {
     "name": "stderr",
     "output_type": "stream",
     "text": [
      "Iteration: 100%|██████████| 62/62 [00:08<00:00,  7.26it/s]\n",
      "Iteration:  65%|██████▍   | 40/62 [00:05<00:03,  7.22it/s]"
     ]
    },
    {
     "name": "stdout",
     "output_type": "stream",
     "text": [
      "Evaluating...\n"
     ]
    },
    {
     "name": "stderr",
     "output_type": "stream",
     "text": [
      "Iteration: 100%|██████████| 62/62 [00:04<00:00, 14.78it/s]\n",
      "Iteration: 100%|██████████| 62/62 [00:04<00:00, 14.71it/s]\n",
      "Iteration: 100%|██████████| 18/18 [00:01<00:00, 15.86it/s]\n",
      "Iteration: 100%|██████████| 62/62 [00:04<00:00, 14.52it/s]\n",
      "Iteration: 100%|██████████| 18/18 [00:01<00:00, 15.83it/s]\n",
      "Iteration: 100%|██████████| 62/62 [00:08<00:00,  7.26it/s]\n",
      "Iteration: 100%|██████████| 18/18 [00:01<00:00, 15.73it/s]\n",
      "Iteration:  77%|███████▋  | 48/62 [00:03<00:00, 15.15it/s]"
     ]
    },
    {
     "name": "stdout",
     "output_type": "stream",
     "text": [
      "Evaluating...\n"
     ]
    },
    {
     "name": "stderr",
     "output_type": "stream",
     "text": [
      "Iteration: 100%|██████████| 62/62 [00:04<00:00, 14.52it/s]\n",
      "Iteration: 100%|██████████| 18/18 [00:01<00:00, 15.84it/s]\n",
      "Iteration: 100%|██████████| 7/7 [00:00<00:00, 15.21it/s]s]\n",
      "Iteration:  97%|█████████▋| 60/62 [00:03<00:00, 15.09it/s]"
     ]
    },
    {
     "name": "stdout",
     "output_type": "stream",
     "text": [
      "{'Train':  best_epoch_indx:2\n",
      " auc:0.7619185597977278 \n",
      " apur:0.6811313024189241 \n",
      " f1:0.6655800859386576 \n",
      " precision:0.5437378954163977 \n",
      " recall:0.8577975811584978 \n",
      ", 'Validation':  best_epoch_indx:2\n",
      " auc:0.7474303940512417 \n",
      " apur:0.6697547445797687 \n",
      " f1:0.6580357142857143 \n",
      " precision:0.5391367959034382 \n",
      " recall:0.8442153493699885 \n",
      ", 'Test':  best_epoch_indx:2\n",
      " auc:0.7649492943489277 \n",
      " apur:0.6803653610311307 \n",
      " f1:0.6693892045454546 \n",
      " precision:0.5463768115942029 \n",
      " recall:0.8638863428047663 \n",
      "}\n",
      "=====Epoch 3\n",
      "Training...\n"
     ]
    },
    {
     "name": "stderr",
     "output_type": "stream",
     "text": [
      "Iteration: 100%|██████████| 62/62 [00:04<00:00, 14.55it/s]\n",
      "Iteration: 100%|██████████| 7/7 [00:00<00:00, 15.30it/s]]\n",
      "Iteration:   0%|          | 0/62 [00:00<?, ?it/s]15it/s]]"
     ]
    },
    {
     "name": "stdout",
     "output_type": "stream",
     "text": [
      "{'Train':  best_epoch_indx:2\n",
      " auc:0.782774661589852 \n",
      " apur:0.7363363213547275 \n",
      " f1:0.6297939324556382 \n",
      " precision:0.719000163371998 \n",
      " recall:0.5602800763844685 \n",
      ", 'Validation':  best_epoch_indx:2\n",
      " auc:0.7790698122885981 \n",
      " apur:0.7261825675094227 \n",
      " f1:0.6196078431372549 \n",
      " precision:0.7214611872146118 \n",
      " recall:0.5429553264604811 \n",
      ", 'Test':  best_epoch_indx:2\n",
      " auc:0.7745502689590682 \n",
      " apur:0.7241428067194143 \n",
      " f1:0.6301510110058869 \n",
      " precision:0.7136231884057971 \n",
      " recall:0.5641613198900092 \n",
      "}\n",
      "=====Epoch 3\n",
      "Training...\n"
     ]
    },
    {
     "name": "stderr",
     "output_type": "stream",
     "text": [
      "\r",
      "Iteration:  44%|████▍     | 8/18 [00:00<00:00, 15.00it/s]\r",
      "Iteration:  15%|█▍        | 9/62 [00:01<00:07,  7.24it/s]\r",
      "Iteration:  86%|████████▌ | 6/7 [00:00<00:00, 15.07it/s]\r",
      "Iteration:   2%|▏         | 1/62 [00:00<00:08,  7.32it/s]\r",
      "Iteration: 100%|██████████| 7/7 [00:00<00:00, 15.38it/s]\n",
      "\r",
      "Iteration:  56%|█████▌    | 10/18 [00:00<00:00, 15.23it/s]\r",
      "Iteration:   0%|          | 0/62 [00:00<?, ?it/s]\r",
      "Iteration:  16%|█▌        | 10/62 [00:01<00:07,  7.26it/s]"
     ]
    },
    {
     "name": "stdout",
     "output_type": "stream",
     "text": [
      "{'Train':  best_epoch_indx:2\n",
      " auc:0.7669688144389749 \n",
      " apur:0.6853225186154266 \n",
      " f1:0.6745458524841323 \n",
      " precision:0.591497936858267 \n",
      " recall:0.7847231063017186 \n",
      ", 'Validation':  best_epoch_indx:2\n",
      " auc:0.7441250997952029 \n",
      " apur:0.6644524661547276 \n",
      " f1:0.6551554020720277 \n",
      " precision:0.5753899480069324 \n",
      " recall:0.7605956471935853 \n",
      ", 'Test':  best_epoch_indx:2\n",
      " auc:0.7633952924491052 \n",
      " apur:0.6826751365346058 \n",
      " f1:0.6751968503937008 \n",
      " precision:0.5917874396135265 \n",
      " recall:0.7859761686526123 \n",
      "}\n",
      "=====Epoch 3\n",
      "Training...\n"
     ]
    },
    {
     "name": "stderr",
     "output_type": "stream",
     "text": [
      "Iteration: 100%|██████████| 18/18 [00:01<00:00, 15.83it/s]\n",
      "Iteration: 100%|██████████| 7/7 [00:00<00:00, 14.93it/s]s]\n",
      "Iteration:  47%|████▋     | 29/62 [00:04<00:04,  7.20it/s]"
     ]
    },
    {
     "name": "stdout",
     "output_type": "stream",
     "text": [
      "{'Train':  best_epoch_indx:2\n",
      " auc:0.7659835929400934 \n",
      " apur:0.6694661298377684 \n",
      " f1:0.6748887762572506 \n",
      " precision:0.6051302767117754 \n",
      " recall:0.7628262253341821 \n",
      ", 'Validation':  best_epoch_indx:2\n",
      " auc:0.7455526050886876 \n",
      " apur:0.644427684364397 \n",
      " f1:0.6598360655737705 \n",
      " precision:0.5968489341983317 \n",
      " recall:0.7376861397479955 \n",
      ", 'Test':  best_epoch_indx:2\n",
      " auc:0.7630069224331227 \n",
      " apur:0.6855926170159854 \n",
      " f1:0.6697599354448255 \n",
      " precision:0.5981981981981982 \n",
      " recall:0.7607699358386801 \n",
      "}\n",
      "=====Epoch 3\n",
      "Training...\n"
     ]
    },
    {
     "name": "stderr",
     "output_type": "stream",
     "text": [
      "Iteration: 100%|██████████| 7/7 [00:00<00:00, 14.97it/s]s]\n",
      "Iteration:  68%|██████▊   | 42/62 [00:05<00:02,  7.25it/s]"
     ]
    },
    {
     "name": "stdout",
     "output_type": "stream",
     "text": [
      "{'Train':  best_epoch_indx:2\n",
      " auc:0.7681345171695351 \n",
      " apur:0.7185550107708298 \n",
      " f1:0.6175115207373271 \n",
      " precision:0.7107575004143876 \n",
      " recall:0.5458943348185868 \n",
      ", 'Validation':  best_epoch_indx:2\n",
      " auc:0.7728516551540606 \n",
      " apur:0.7185818617923226 \n",
      " f1:0.615486432825943 \n",
      " precision:0.7288401253918495 \n",
      " recall:0.5326460481099656 \n",
      ", 'Test':  best_epoch_indx:2\n",
      " auc:0.771895748891926 \n",
      " apur:0.7267559617532686 \n",
      " f1:0.6098136971923379 \n",
      " precision:0.7133210558624923 \n",
      " recall:0.532538955087076 \n",
      "}\n",
      "=====Epoch 3\n",
      "Training...\n"
     ]
    },
    {
     "name": "stderr",
     "output_type": "stream",
     "text": [
      "Iteration: 100%|██████████| 62/62 [00:08<00:00,  7.29it/s]\n",
      "Iteration:  87%|████████▋ | 54/62 [00:07<00:01,  7.35it/s]"
     ]
    },
    {
     "name": "stdout",
     "output_type": "stream",
     "text": [
      "Evaluating...\n"
     ]
    },
    {
     "name": "stderr",
     "output_type": "stream",
     "text": [
      "Iteration: 100%|██████████| 62/62 [00:08<00:00,  7.30it/s]\n",
      "Iteration:  29%|██▉       | 18/62 [00:01<00:02, 15.44it/s]"
     ]
    },
    {
     "name": "stdout",
     "output_type": "stream",
     "text": [
      "Evaluating...\n"
     ]
    },
    {
     "name": "stderr",
     "output_type": "stream",
     "text": [
      "Iteration: 100%|██████████| 62/62 [00:08<00:00,  7.23it/s]\n",
      "Iteration:  39%|███▊      | 24/62 [00:01<00:02, 15.36it/s]"
     ]
    },
    {
     "name": "stdout",
     "output_type": "stream",
     "text": [
      "Evaluating...\n"
     ]
    },
    {
     "name": "stderr",
     "output_type": "stream",
     "text": [
      "Iteration: 100%|██████████| 62/62 [00:08<00:00,  7.22it/s]\n",
      "Iteration: 100%|██████████| 62/62 [00:04<00:00, 15.40it/s]\n",
      "Iteration:  68%|██████▊   | 42/62 [00:05<00:02,  7.26it/s]"
     ]
    },
    {
     "name": "stdout",
     "output_type": "stream",
     "text": [
      "Evaluating...\n"
     ]
    },
    {
     "name": "stderr",
     "output_type": "stream",
     "text": [
      "Iteration: 100%|██████████| 62/62 [00:04<00:00, 15.31it/s]\n",
      "Iteration: 100%|██████████| 18/18 [00:01<00:00, 15.84it/s]\n",
      "Iteration: 100%|██████████| 62/62 [00:04<00:00, 15.09it/s]\n",
      "Iteration: 100%|██████████| 7/7 [00:00<00:00, 15.62it/s]]]\n",
      "Iteration:   2%|▏         | 1/62 [00:00<00:08,  7.17it/s]]"
     ]
    },
    {
     "name": "stdout",
     "output_type": "stream",
     "text": [
      "{'Train':  best_epoch_indx:3\n",
      " auc:0.7645627470348375 \n",
      " apur:0.6545017853627519 \n",
      " f1:0.6784515109618804 \n",
      " precision:0.5541663305638461 \n",
      " recall:0.8746021642266073 \n",
      ", 'Validation':  best_epoch_indx:3\n",
      " auc:0.7540163953394194 \n",
      " apur:0.648540837183585 \n",
      " f1:0.6645990252547629 \n",
      " precision:0.541907514450867 \n",
      " recall:0.8591065292096219 \n",
      ", 'Test':  best_epoch_indx:3\n",
      " auc:0.7690566681171631 \n",
      " apur:0.6663739561041806 \n",
      " f1:0.6763404707131482 \n",
      " precision:0.5508792159123667 \n",
      " recall:0.8758020164986251 \n",
      "}\n",
      "=====Epoch 4\n",
      "Training...\n"
     ]
    },
    {
     "name": "stderr",
     "output_type": "stream",
     "text": [
      "Iteration: 100%|██████████| 18/18 [00:01<00:00, 15.83it/s]\n",
      "Iteration: 100%|██████████| 18/18 [00:01<00:00, 15.76it/s]\n",
      "Iteration: 100%|██████████| 62/62 [00:08<00:00,  7.27it/s]\n",
      "Iteration:   3%|▎         | 2/62 [00:00<00:03, 15.06it/s]]"
     ]
    },
    {
     "name": "stdout",
     "output_type": "stream",
     "text": [
      "Evaluating...\n"
     ]
    },
    {
     "name": "stderr",
     "output_type": "stream",
     "text": [
      "Iteration: 100%|██████████| 62/62 [00:04<00:00, 15.09it/s]\n",
      "Iteration: 100%|██████████| 18/18 [00:01<00:00, 15.79it/s]\n",
      "Iteration: 100%|██████████| 62/62 [00:04<00:00, 15.18it/s]\n",
      "Iteration: 100%|██████████| 7/7 [00:00<00:00, 14.40it/s]]]\n",
      "Iteration:  29%|██▊       | 2/7 [00:00<00:00, 13.55it/s]]]"
     ]
    },
    {
     "name": "stdout",
     "output_type": "stream",
     "text": [
      "{'Train':  best_epoch_indx:3\n",
      " auc:0.8185619832377932 \n",
      " apur:0.7733142437681257 \n",
      " f1:0.6616172545625045 \n",
      " precision:0.7633155792276964 \n",
      " recall:0.5838319541693189 \n",
      ", 'Validation':  best_epoch_indx:3\n",
      " auc:0.8119482337695396 \n",
      " apur:0.7595486805993243 \n",
      " f1:0.6461143224149004 \n",
      " precision:0.7353801169590644 \n",
      " recall:0.5761741122565864 \n",
      ", 'Test':  best_epoch_indx:3\n",
      " auc:0.8098577433362035 \n",
      " apur:0.7579202369751746 \n",
      " f1:0.6649431230610134 \n",
      " precision:0.7627520759193357 \n",
      " recall:0.5893675527039414 \n",
      "}\n",
      "=====Epoch 4\n",
      "Training...\n"
     ]
    },
    {
     "name": "stderr",
     "output_type": "stream",
     "text": [
      "Iteration: 100%|██████████| 7/7 [00:00<00:00, 14.48it/s]]]\n",
      "Iteration:   6%|▋         | 4/62 [00:00<00:07,  7.31it/s]]"
     ]
    },
    {
     "name": "stdout",
     "output_type": "stream",
     "text": [
      "{'Train':  best_epoch_indx:3\n",
      " auc:0.799895480466524 \n",
      " apur:0.7462135493102846 \n",
      " f1:0.6838386995936231 \n",
      " precision:0.6718673218673219 \n",
      " recall:0.6962444302991725 \n",
      ", 'Validation':  best_epoch_indx:3\n",
      " auc:0.7824358514507428 \n",
      " apur:0.7266162334355474 \n",
      " f1:0.6741826381059753 \n",
      " precision:0.6637069922308546 \n",
      " recall:0.6849942726231386 \n",
      ", 'Test':  best_epoch_indx:3\n",
      " auc:0.7995062946505889 \n",
      " apur:0.7452960424132798 \n",
      " f1:0.6841747792619425 \n",
      " precision:0.6760626398210291 \n",
      " recall:0.6924839596700275 \n",
      "}\n",
      "=====Epoch 4\n",
      "Training...\n"
     ]
    },
    {
     "name": "stderr",
     "output_type": "stream",
     "text": [
      "Iteration: 100%|██████████| 18/18 [00:01<00:00, 15.84it/s]\n",
      "Iteration: 100%|██████████| 62/62 [00:08<00:00,  7.30it/s]\n",
      "Iteration:  29%|██▉       | 18/62 [00:02<00:06,  7.19it/s]"
     ]
    },
    {
     "name": "stdout",
     "output_type": "stream",
     "text": [
      "Evaluating...\n",
      "{'Train':  best_epoch_indx:3\n",
      " auc:0.7981375063341112 \n",
      " apur:0.7413203838747581 \n",
      " f1:0.6854396450797954 \n",
      " precision:0.6641987102937664 \n",
      " recall:0.7080840229153406 \n",
      ", 'Validation':  best_epoch_indx:3\n",
      " auc:0.7809557969924522 \n",
      " apur:0.7293635284285916 \n",
      " f1:0.6561974200785193 \n",
      " precision:0.6428571428571429 \n",
      " recall:0.6701030927835051 \n",
      ", 'Test':  best_epoch_indx:3\n",
      " auc:0.7938090176553997 \n",
      " apur:0.7478807201913277 \n",
      " f1:0.6802120141342757 \n",
      " precision:0.6564364876385337 \n",
      " recall:0.7057745187901008 \n",
      "}\n",
      "=====Epoch 4\n",
      "Training...\n"
     ]
    },
    {
     "name": "stderr",
     "output_type": "stream",
     "text": [
      "Iteration: 100%|██████████| 7/7 [00:00<00:00, 14.45it/s]]\n",
      "Iteration: 100%|██████████| 7/7 [00:00<00:00, 14.50it/s]s]\n",
      "Iteration:   2%|▏         | 1/62 [00:00<00:08,  7.23it/s]]"
     ]
    },
    {
     "name": "stdout",
     "output_type": "stream",
     "text": [
      "{'Train':  best_epoch_indx:3\n",
      " auc:0.8133583621283567 \n",
      " apur:0.7638746639721907 \n",
      " f1:0.6751618680258988 \n",
      " precision:0.7355545550052529 \n",
      " recall:0.6239338001273075 \n",
      ", 'Validation':  best_epoch_indx:3\n",
      " auc:0.8094249096540047 \n",
      " apur:0.7547743441327285 \n",
      " f1:0.678727386150967 \n",
      " precision:0.7452054794520548 \n",
      " recall:0.6231386025200458 \n",
      ", 'Test':  best_epoch_indx:3\n",
      " auc:0.8120704351318652 \n",
      " apur:0.7696360593610668 \n",
      " f1:0.6641490433031219 \n",
      " precision:0.7368715083798882 \n",
      " recall:0.6044912923923006 \n",
      "}\n",
      "=====Epoch 4\n",
      "Training...\n"
     ]
    },
    {
     "name": "stderr",
     "output_type": "stream",
     "text": [
      "Iteration: 100%|██████████| 62/62 [00:04<00:00, 15.41it/s]\n",
      "Iteration: 100%|██████████| 18/18 [00:01<00:00, 16.10it/s]\n",
      "Iteration: 100%|██████████| 62/62 [00:08<00:00,  7.31it/s]\n",
      "Iteration:   3%|▎         | 2/62 [00:00<00:03, 15.10it/s]]"
     ]
    },
    {
     "name": "stdout",
     "output_type": "stream",
     "text": [
      "Evaluating...\n"
     ]
    },
    {
     "name": "stderr",
     "output_type": "stream",
     "text": [
      "Iteration: 100%|██████████| 62/62 [00:08<00:00,  7.23it/s]\n",
      "Iteration:  16%|█▌        | 10/62 [00:00<00:03, 15.33it/s]"
     ]
    },
    {
     "name": "stdout",
     "output_type": "stream",
     "text": [
      "Evaluating...\n"
     ]
    },
    {
     "name": "stderr",
     "output_type": "stream",
     "text": [
      "Iteration: 100%|██████████| 62/62 [00:08<00:00,  7.25it/s]\n",
      "Iteration:  77%|███████▋  | 48/62 [00:03<00:00, 15.25it/s]"
     ]
    },
    {
     "name": "stdout",
     "output_type": "stream",
     "text": [
      "Evaluating...\n"
     ]
    },
    {
     "name": "stderr",
     "output_type": "stream",
     "text": [
      "Iteration: 100%|██████████| 62/62 [00:04<00:00, 15.36it/s]\n",
      "Iteration: 100%|██████████| 62/62 [00:04<00:00, 15.20it/s]\n",
      "Iteration: 100%|██████████| 7/7 [00:00<00:00, 14.77it/s]s]\n",
      "Iteration:  42%|████▏     | 26/62 [00:01<00:02, 15.12it/s]"
     ]
    },
    {
     "name": "stdout",
     "output_type": "stream",
     "text": [
      "{'Train':  best_epoch_indx:4\n",
      " auc:0.8057469385441133 \n",
      " apur:0.7430091463106673 \n",
      " f1:0.6959971150378651 \n",
      " precision:0.5845448251990308 \n",
      " recall:0.8599618077657543 \n",
      ", 'Validation':  best_epoch_indx:4\n",
      " auc:0.7969047095622124 \n",
      " apur:0.7345508015785923 \n",
      " f1:0.6888888888888888 \n",
      " precision:0.578088578088578 \n",
      " recall:0.852233676975945 \n",
      ", 'Test':  best_epoch_indx:4\n",
      " auc:0.7982043163069744 \n",
      " apur:0.7321896623788233 \n",
      " f1:0.6925207756232687 \n",
      " precision:0.5799566965666564 \n",
      " recall:0.8593033913840513 \n",
      "}\n",
      "=====Epoch 5\n",
      "Training...\n"
     ]
    },
    {
     "name": "stderr",
     "output_type": "stream",
     "text": [
      "Iteration: 100%|██████████| 18/18 [00:01<00:00, 15.79it/s]\n",
      "Iteration: 100%|██████████| 18/18 [00:01<00:00, 15.79it/s]\n",
      "Iteration: 100%|██████████| 62/62 [00:08<00:00,  7.26it/s]\n",
      "Iteration:   0%|          | 0/62 [00:00<?, ?it/s]"
     ]
    },
    {
     "name": "stdout",
     "output_type": "stream",
     "text": [
      "Evaluating...\n"
     ]
    },
    {
     "name": "stderr",
     "output_type": "stream",
     "text": [
      "Iteration: 100%|██████████| 62/62 [00:04<00:00, 15.11it/s]\n",
      "Iteration: 100%|██████████| 18/18 [00:01<00:00, 15.93it/s]\n",
      "Iteration: 100%|██████████| 62/62 [00:04<00:00, 15.21it/s]\n",
      "Iteration: 100%|██████████| 7/7 [00:00<00:00, 14.95it/s]s]\n",
      "Iteration:  33%|███▎      | 6/18 [00:00<00:00, 14.79it/s]]"
     ]
    },
    {
     "name": "stdout",
     "output_type": "stream",
     "text": [
      "{'Train':  best_epoch_indx:4\n",
      " auc:0.8300306108369497 \n",
      " apur:0.7861867355896667 \n",
      " f1:0.668418747262374 \n",
      " precision:0.7835016258771179 \n",
      " recall:0.5828134945894334 \n",
      ", 'Validation':  best_epoch_indx:4\n",
      " auc:0.8215758192848684 \n",
      " apur:0.770725045702488 \n",
      " f1:0.6550836550836552 \n",
      " precision:0.7474302496328928 \n",
      " recall:0.5830469644902635 \n",
      ", 'Test':  best_epoch_indx:4\n",
      " auc:0.823880803142948 \n",
      " apur:0.7756635696878026 \n",
      " f1:0.6684100418410042 \n",
      " precision:0.7783191230207065 \n",
      " recall:0.5857011915673694 \n",
      "}\n",
      "=====Epoch 5\n",
      "Training...\n"
     ]
    },
    {
     "name": "stderr",
     "output_type": "stream",
     "text": [
      "Iteration: 100%|██████████| 7/7 [00:00<00:00, 14.84it/s]s]\n",
      "Iteration:   6%|▋         | 4/62 [00:00<00:08,  7.03it/s]]"
     ]
    },
    {
     "name": "stdout",
     "output_type": "stream",
     "text": [
      "{'Train':  best_epoch_indx:4\n",
      " auc:0.8236857292400436 \n",
      " apur:0.7758361701777294 \n",
      " f1:0.6909213634829565 \n",
      " precision:0.7353448275862069 \n",
      " recall:0.6515595162316996 \n",
      ", 'Validation':  best_epoch_indx:4\n",
      " auc:0.8101808462633204 \n",
      " apur:0.7600511589302427 \n",
      " f1:0.6763990267639902 \n",
      " precision:0.7211413748378729 \n",
      " recall:0.6368843069873997 \n",
      ", 'Test':  best_epoch_indx:4\n",
      " auc:0.8189979621379369 \n",
      " apur:0.7723997642195883 \n",
      " f1:0.6780571149621675 \n",
      " precision:0.7253263707571802 \n",
      " recall:0.6365719523373052 \n",
      "}\n",
      "=====Epoch 5\n",
      "Training...\n"
     ]
    },
    {
     "name": "stderr",
     "output_type": "stream",
     "text": [
      "Iteration: 100%|██████████| 18/18 [00:01<00:00, 15.80it/s]\n",
      "Iteration: 100%|██████████| 62/62 [00:08<00:00,  7.12it/s]\n",
      "Iteration:  32%|███▏      | 20/62 [00:02<00:06,  6.45it/s]"
     ]
    },
    {
     "name": "stdout",
     "output_type": "stream",
     "text": [
      "Evaluating...\n"
     ]
    },
    {
     "name": "stderr",
     "output_type": "stream",
     "text": [
      "Iteration: 100%|██████████| 7/7 [00:00<00:00, 15.40it/s]s]\n",
      "Iteration:  37%|███▋      | 23/62 [00:03<00:05,  6.74it/s]"
     ]
    },
    {
     "name": "stdout",
     "output_type": "stream",
     "text": [
      "{'Train':  best_epoch_indx:4\n",
      " auc:0.8100123437015266 \n",
      " apur:0.758239091708468 \n",
      " f1:0.7093968827648521 \n",
      " precision:0.637470821069725 \n",
      " recall:0.799618077657543 \n",
      ", 'Validation':  best_epoch_indx:4\n",
      " auc:0.7930102861374339 \n",
      " apur:0.7466654152743808 \n",
      " f1:0.6912442396313364 \n",
      " precision:0.625 \n",
      " recall:0.7731958762886598 \n",
      ", 'Test':  best_epoch_indx:4\n",
      " auc:0.802294887068606 \n",
      " apur:0.7551937805638909 \n",
      " f1:0.7042652112391349 \n",
      " precision:0.6300180831826402 \n",
      " recall:0.7983501374885427 \n",
      "}\n",
      "=====Epoch 5\n",
      "Training...\n"
     ]
    },
    {
     "name": "stderr",
     "output_type": "stream",
     "text": [
      "Iteration: 100%|██████████| 7/7 [00:00<00:00, 15.27it/s]s]\n",
      "Iteration:   0%|          | 0/62 [00:00<?, ?it/s]7.32it/s]"
     ]
    },
    {
     "name": "stdout",
     "output_type": "stream",
     "text": [
      "{'Train':  best_epoch_indx:4\n",
      " auc:0.8298448373495518 \n",
      " apur:0.7888254132204104 \n",
      " f1:0.6796269727403156 \n",
      " precision:0.7784716516023007 \n",
      " recall:0.6030553787396563 \n",
      ", 'Validation':  best_epoch_indx:4\n",
      " auc:0.8263997361935504 \n",
      " apur:0.7895260354145848 \n",
      " f1:0.6921581335061568 \n",
      " precision:0.7970149253731343 \n",
      " recall:0.6116838487972509 \n",
      ", 'Test':  best_epoch_indx:4\n",
      " auc:0.8268300393402155 \n",
      " apur:0.7939092558063436 \n",
      " f1:0.66243721913825 \n",
      " precision:0.7826358525921299 \n",
      " recall:0.574243813015582 \n",
      "}\n",
      "=====Epoch 5\n",
      "Training...\n"
     ]
    },
    {
     "name": "stderr",
     "output_type": "stream",
     "text": [
      "Iteration: 100%|██████████| 62/62 [00:04<00:00, 15.42it/s]\n",
      "Iteration: 100%|██████████| 18/18 [00:01<00:00, 16.02it/s]\n",
      "Iteration: 100%|██████████| 62/62 [00:09<00:00,  6.59it/s]\n",
      "Iteration:  73%|███████▎  | 45/62 [00:06<00:02,  7.23it/s]"
     ]
    },
    {
     "name": "stdout",
     "output_type": "stream",
     "text": [
      "Evaluating...\n"
     ]
    },
    {
     "name": "stderr",
     "output_type": "stream",
     "text": [
      "Iteration: 100%|██████████| 62/62 [00:09<00:00,  6.53it/s]\n",
      "Iteration:  81%|████████  | 50/62 [00:06<00:01,  7.28it/s]"
     ]
    },
    {
     "name": "stdout",
     "output_type": "stream",
     "text": [
      "Evaluating...\n"
     ]
    },
    {
     "name": "stderr",
     "output_type": "stream",
     "text": [
      "Iteration: 100%|██████████| 62/62 [00:08<00:00,  7.11it/s]\n",
      "Iteration:  52%|█████▏    | 32/62 [00:02<00:01, 15.01it/s]"
     ]
    },
    {
     "name": "stdout",
     "output_type": "stream",
     "text": [
      "Evaluating...\n"
     ]
    },
    {
     "name": "stderr",
     "output_type": "stream",
     "text": [
      "Iteration: 100%|██████████| 7/7 [00:00<00:00, 15.17it/s]s]\n",
      "Iteration:  84%|████████▍ | 52/62 [00:03<00:00, 15.08it/s]"
     ]
    },
    {
     "name": "stdout",
     "output_type": "stream",
     "text": [
      "{'Train':  best_epoch_indx:5\n",
      " auc:0.8281085887625839 \n",
      " apur:0.7806473998497436 \n",
      " f1:0.7202967286878268 \n",
      " precision:0.6894424397625422 \n",
      " recall:0.7540420114576702 \n",
      ", 'Validation':  best_epoch_indx:5\n",
      " auc:0.8087205580046359 \n",
      " apur:0.7538749884812076 \n",
      " f1:0.6912751677852349 \n",
      " precision:0.6754098360655738 \n",
      " recall:0.7079037800687286 \n",
      ", 'Test':  best_epoch_indx:5\n",
      " auc:0.8192581173791073 \n",
      " apur:0.7677564486228141 \n",
      " f1:0.7155209684392564 \n",
      " precision:0.6771685761047463 \n",
      " recall:0.7584784601283227 \n",
      "}\n",
      "=====Epoch 6\n",
      "Training...\n"
     ]
    },
    {
     "name": "stderr",
     "output_type": "stream",
     "text": [
      "Iteration: 100%|██████████| 62/62 [00:04<00:00, 15.02it/s]\n",
      "Iteration: 100%|██████████| 62/62 [00:04<00:00, 15.03it/s]\n",
      "Iteration: 100%|██████████| 18/18 [00:01<00:00, 15.92it/s]\n",
      "Iteration: 100%|██████████| 62/62 [00:09<00:00,  6.89it/s]\n",
      "Iteration:  71%|███████   | 44/62 [00:02<00:01, 15.09it/s]"
     ]
    },
    {
     "name": "stdout",
     "output_type": "stream",
     "text": [
      "Evaluating...\n"
     ]
    },
    {
     "name": "stderr",
     "output_type": "stream",
     "text": [
      "Iteration: 100%|██████████| 18/18 [00:01<00:00, 15.91it/s]\n",
      "Iteration: 100%|██████████| 62/62 [00:04<00:00, 15.12it/s]\n",
      "Iteration: 100%|██████████| 18/18 [00:01<00:00, 15.81it/s]\n",
      "Iteration: 100%|██████████| 62/62 [00:04<00:00, 15.19it/s]\n",
      "Iteration: 100%|██████████| 7/7 [00:00<00:00, 14.67it/s]s]\n",
      "Iteration:  77%|███████▋  | 48/62 [00:06<00:01,  7.13it/s]"
     ]
    },
    {
     "name": "stdout",
     "output_type": "stream",
     "text": [
      "{'Train':  best_epoch_indx:5\n",
      " auc:0.8396606349567624 \n",
      " apur:0.7987176745013974 \n",
      " f1:0.6983046136742634 \n",
      " precision:0.7687012391005048 \n",
      " recall:0.6397199236155315 \n",
      ", 'Validation':  best_epoch_indx:5\n",
      " auc:0.8322543880963126 \n",
      " apur:0.7836476876618579 \n",
      " f1:0.6861042183622829 \n",
      " precision:0.7483085250338295 \n",
      " recall:0.6334478808705613 \n",
      ", 'Test':  best_epoch_indx:5\n",
      " auc:0.8320153876065883 \n",
      " apur:0.7860478242642768 \n",
      " f1:0.6955655206776282 \n",
      " precision:0.7620087336244541 \n",
      " recall:0.6397800183318056 \n",
      "}\n",
      "=====Epoch 6\n",
      "Training...\n"
     ]
    },
    {
     "name": "stderr",
     "output_type": "stream",
     "text": [
      "Iteration: 100%|██████████| 18/18 [00:01<00:00, 15.58it/s]\n",
      "Iteration: 100%|██████████| 7/7 [00:00<00:00, 14.94it/s]s]\n",
      "Iteration:  85%|████████▌ | 53/62 [00:07<00:01,  7.26it/s]"
     ]
    },
    {
     "name": "stdout",
     "output_type": "stream",
     "text": [
      "{'Train':  best_epoch_indx:5\n",
      " auc:0.8379644086962061 \n",
      " apur:0.7919093309190715 \n",
      " f1:0.7089673913043478 \n",
      " precision:0.7600873998543336 \n",
      " recall:0.6642902609802673 \n",
      ", 'Validation':  best_epoch_indx:5\n",
      " auc:0.8225834133623366 \n",
      " apur:0.7676883704587372 \n",
      " f1:0.687078995713411 \n",
      " precision:0.7381578947368421 \n",
      " recall:0.6426116838487973 \n",
      ", 'Test':  best_epoch_indx:5\n",
      " auc:0.8308704150033079 \n",
      " apur:0.7864021733227311 \n",
      " f1:0.7053352912383749 \n",
      " precision:0.756827731092437 \n",
      " recall:0.6604032997250229 \n",
      "}\n",
      "=====Epoch 6\n",
      "Training...\n"
     ]
    },
    {
     "name": "stderr",
     "output_type": "stream",
     "text": [
      "Iteration: 100%|██████████| 62/62 [00:08<00:00,  7.30it/s]\n",
      "Iteration:  15%|█▍        | 9/62 [00:01<00:08,  6.25it/s]]"
     ]
    },
    {
     "name": "stdout",
     "output_type": "stream",
     "text": [
      "Evaluating...\n"
     ]
    },
    {
     "name": "stderr",
     "output_type": "stream",
     "text": [
      "Iteration: 100%|██████████| 7/7 [00:00<00:00, 15.60it/s]s]\n",
      "Iteration:   2%|▏         | 1/62 [00:00<00:08,  7.31it/s]]"
     ]
    },
    {
     "name": "stdout",
     "output_type": "stream",
     "text": [
      "{'Train':  best_epoch_indx:5\n",
      " auc:0.8301488389596516 \n",
      " apur:0.782873602326333 \n",
      " f1:0.7161177674754652 \n",
      " precision:0.6793465844185516 \n",
      " recall:0.7570973901973266 \n",
      ", 'Validation':  best_epoch_indx:5\n",
      " auc:0.8110303107439418 \n",
      " apur:0.7708799703824365 \n",
      " f1:0.6894308943089431 \n",
      " precision:0.654320987654321 \n",
      " recall:0.7285223367697594 \n",
      ", 'Test':  best_epoch_indx:5\n",
      " auc:0.8194591901219413 \n",
      " apur:0.7738326980457518 \n",
      " f1:0.714008202028923 \n",
      " precision:0.6748266013871889 \n",
      " recall:0.7580201649862511 \n",
      "}\n",
      "=====Epoch 6\n",
      "Training...\n"
     ]
    },
    {
     "name": "stderr",
     "output_type": "stream",
     "text": [
      "Iteration: 100%|██████████| 7/7 [00:00<00:00, 15.26it/s]s]\n",
      "Iteration:  56%|█████▋    | 35/62 [00:05<00:03,  7.21it/s]"
     ]
    },
    {
     "name": "stdout",
     "output_type": "stream",
     "text": [
      "{'Train':  best_epoch_indx:5\n",
      " auc:0.839813754801569 \n",
      " apur:0.801819645539541 \n",
      " f1:0.727399077642302 \n",
      " precision:0.7219714070729872 \n",
      " recall:0.7329089751750477 \n",
      ", 'Validation':  best_epoch_indx:5\n",
      " auc:0.8327967533293994 \n",
      " apur:0.8009883999737584 \n",
      " f1:0.7173043974871501 \n",
      " precision:0.715261958997722 \n",
      " recall:0.7193585337915235 \n",
      ", 'Test':  best_epoch_indx:5\n",
      " auc:0.8337541704240488 \n",
      " apur:0.8045998416466428 \n",
      " f1:0.7123414071510956 \n",
      " precision:0.7171388759869949 \n",
      " recall:0.7076076993583869 \n",
      "}\n",
      "=====Epoch 6\n",
      "Training...\n"
     ]
    },
    {
     "name": "stderr",
     "output_type": "stream",
     "text": [
      "Iteration: 100%|██████████| 62/62 [00:04<00:00, 15.37it/s]\n",
      "Iteration: 100%|██████████| 18/18 [00:01<00:00, 16.00it/s]\n",
      "Iteration: 100%|██████████| 62/62 [00:08<00:00,  7.29it/s]\n",
      "Iteration:  90%|█████████ | 56/62 [00:08<00:00,  7.23it/s]"
     ]
    },
    {
     "name": "stdout",
     "output_type": "stream",
     "text": [
      "Evaluating...\n"
     ]
    },
    {
     "name": "stderr",
     "output_type": "stream",
     "text": [
      "Iteration: 100%|██████████| 62/62 [00:08<00:00,  7.04it/s]\n",
      "Iteration:  45%|████▌     | 28/62 [00:03<00:04,  7.27it/s]"
     ]
    },
    {
     "name": "stdout",
     "output_type": "stream",
     "text": [
      "Evaluating...\n"
     ]
    },
    {
     "name": "stderr",
     "output_type": "stream",
     "text": [
      "Iteration: 100%|██████████| 62/62 [00:08<00:00,  7.27it/s]\n",
      "Iteration:   3%|▎         | 2/62 [00:00<00:03, 15.18it/s]]"
     ]
    },
    {
     "name": "stdout",
     "output_type": "stream",
     "text": [
      "Evaluating...\n"
     ]
    },
    {
     "name": "stderr",
     "output_type": "stream",
     "text": [
      "Iteration: 100%|██████████| 7/7 [00:00<00:00, 15.39it/s]s]\n",
      "Iteration:  97%|█████████▋| 60/62 [00:03<00:00, 15.13it/s]"
     ]
    },
    {
     "name": "stdout",
     "output_type": "stream",
     "text": [
      "{'Train':  best_epoch_indx:6\n",
      " auc:0.8391886958037433 \n",
      " apur:0.7966136131340344 \n",
      " f1:0.7245228664025927 \n",
      " precision:0.6853639150675599 \n",
      " recall:0.7684277530235519 \n",
      ", 'Validation':  best_epoch_indx:6\n",
      " auc:0.8162929408633877 \n",
      " apur:0.7672866029312065 \n",
      " f1:0.7035830618892508 \n",
      " precision:0.6687306501547987 \n",
      " recall:0.7422680412371134 \n",
      ", 'Test':  best_epoch_indx:6\n",
      " auc:0.8262149450508753 \n",
      " apur:0.782179900548561 \n",
      " f1:0.7173122191311792 \n",
      " precision:0.6728221597751907 \n",
      " recall:0.768102658111824 \n",
      "}\n",
      "=====Epoch 7\n",
      "Training...\n"
     ]
    },
    {
     "name": "stderr",
     "output_type": "stream",
     "text": [
      "Iteration: 100%|██████████| 62/62 [00:04<00:00, 15.23it/s]\n",
      "Iteration: 100%|██████████| 62/62 [00:04<00:00, 15.13it/s]\n",
      "Iteration: 100%|██████████| 18/18 [00:01<00:00, 15.89it/s]\n",
      "Iteration: 100%|██████████| 62/62 [00:08<00:00,  7.27it/s]\n",
      "Iteration:  77%|███████▋  | 48/62 [00:03<00:00, 15.24it/s]"
     ]
    },
    {
     "name": "stdout",
     "output_type": "stream",
     "text": [
      "Evaluating...\n"
     ]
    },
    {
     "name": "stderr",
     "output_type": "stream",
     "text": [
      "Iteration: 100%|██████████| 18/18 [00:01<00:00, 15.82it/s]\n",
      "Iteration: 100%|██████████| 62/62 [00:04<00:00, 15.26it/s]\n",
      "Iteration: 100%|██████████| 18/18 [00:01<00:00, 15.99it/s]\n",
      "Iteration: 100%|██████████| 62/62 [00:04<00:00, 15.24it/s]\n",
      "Iteration: 100%|██████████| 7/7 [00:00<00:00, 14.83it/s]]]\n",
      "Iteration:   0%|          | 0/62 [00:00<?, ?it/s].94it/s]]"
     ]
    },
    {
     "name": "stdout",
     "output_type": "stream",
     "text": [
      "{'Train':  best_epoch_indx:6\n",
      " auc:0.8462438437249571 \n",
      " apur:0.8064043733741916 \n",
      " f1:0.7015115129255544 \n",
      " precision:0.7878787878787878 \n",
      " recall:0.6322087842138765 \n",
      ", 'Validation':  best_epoch_indx:6\n",
      " auc:0.8342830751192722 \n",
      " apur:0.7857223105547311 \n",
      " f1:0.6834170854271356 \n",
      " precision:0.7566063977746871 \n",
      " recall:0.6231386025200458 \n",
      ", 'Test':  best_epoch_indx:6\n",
      " auc:0.8357508787847927 \n",
      " apur:0.7914453847173122 \n",
      " f1:0.6992936427850657 \n",
      " precision:0.7777777777777778 \n",
      " recall:0.6351970669110908 \n",
      "}\n",
      "=====Epoch 7\n",
      "Training...\n"
     ]
    },
    {
     "name": "stderr",
     "output_type": "stream",
     "text": [
      "Iteration: 100%|██████████| 18/18 [00:01<00:00, 15.84it/s]\n",
      "Iteration: 100%|██████████| 7/7 [00:00<00:00, 14.46it/s]]]\n"
     ]
    },
    {
     "name": "stdout",
     "output_type": "stream",
     "text": [
      "{'Train':  best_epoch_indx:6\n",
      " auc:0.8435818766118117 \n",
      " apur:0.8037699051354358 \n",
      " f1:0.7064270905321356 \n",
      " precision:0.7726379440665155 \n",
      " recall:0.6506683640992998 \n",
      ", 'Validation':  best_epoch_indx:6\n",
      " auc:0.827836401433194 \n",
      " apur:0.7741838661331346 \n",
      " f1:0.682896379525593 \n",
      " precision:0.7503429355281207 \n",
      " recall:0.6265750286368843 \n",
      ", 'Test':  best_epoch_indx:6\n",
      " auc:0.8339760630703028 \n",
      " apur:0.7937712906852388 \n",
      " f1:0.7004008016032065 \n",
      " precision:0.7723756906077348 \n",
      " recall:0.6406966086159487 \n",
      "}\n",
      "=====Epoch 7\n",
      "Training...\n"
     ]
    },
    {
     "name": "stderr",
     "output_type": "stream",
     "text": [
      "Iteration: 100%|██████████| 62/62 [00:08<00:00,  7.28it/s]\n",
      "Iteration:  24%|██▍       | 15/62 [00:02<00:06,  7.25it/s]"
     ]
    },
    {
     "name": "stdout",
     "output_type": "stream",
     "text": [
      "Evaluating...\n"
     ]
    },
    {
     "name": "stderr",
     "output_type": "stream",
     "text": [
      "Iteration: 100%|██████████| 7/7 [00:00<00:00, 14.42it/s]s]\n",
      "Iteration:  32%|███▏      | 20/62 [00:02<00:05,  7.23it/s]"
     ]
    },
    {
     "name": "stdout",
     "output_type": "stream",
     "text": [
      "{'Train':  best_epoch_indx:6\n",
      " auc:0.8359222614756825 \n",
      " apur:0.7972941284916727 \n",
      " f1:0.7208386353996242 \n",
      " precision:0.6877890841813136 \n",
      " recall:0.7572246976448123 \n",
      ", 'Validation':  best_epoch_indx:6\n",
      " auc:0.8149768012310967 \n",
      " apur:0.7788421818739655 \n",
      " f1:0.6901408450704225 \n",
      " precision:0.6546762589928058 \n",
      " recall:0.7296678121420389 \n",
      ", 'Test':  best_epoch_indx:6\n",
      " auc:0.8283812040026193 \n",
      " apur:0.7900888710147133 \n",
      " f1:0.7207750269106568 \n",
      " precision:0.679658952496955 \n",
      " recall:0.7671860678276811 \n",
      "}\n",
      "=====Epoch 7\n",
      "Training...\n"
     ]
    },
    {
     "name": "stderr",
     "output_type": "stream",
     "text": [
      "Iteration: 100%|██████████| 7/7 [00:00<00:00, 14.28it/s]s]\n",
      "Iteration: 100%|██████████| 62/62 [00:04<00:00, 15.26it/s]\n"
     ]
    },
    {
     "name": "stdout",
     "output_type": "stream",
     "text": [
      "{'Train':  best_epoch_indx:6\n",
      " auc:0.8421186269611927 \n",
      " apur:0.80472980106732 \n",
      " f1:0.7311760655942918 \n",
      " precision:0.7191578428958385 \n",
      " recall:0.7436028007638447 \n",
      ", 'Validation':  best_epoch_indx:6\n",
      " auc:0.8373164636051235 \n",
      " apur:0.8023323913441084 \n",
      " f1:0.7265491756679933 \n",
      " precision:0.7212189616252822 \n",
      " recall:0.7319587628865979 \n",
      ", 'Test':  best_epoch_indx:6\n",
      " auc:0.8371871390867873 \n",
      " apur:0.8073016861455917 \n",
      " f1:0.7159479808350445 \n",
      " precision:0.7128577919127669 \n",
      " recall:0.7190650779101742 \n",
      "}\n",
      "=====Epoch 7\n",
      "Training...\n"
     ]
    },
    {
     "name": "stderr",
     "output_type": "stream",
     "text": [
      "Iteration: 100%|██████████| 18/18 [00:01<00:00, 15.94it/s]\n",
      "Iteration: 100%|██████████| 62/62 [00:08<00:00,  7.27it/s]\n",
      "Iteration:  87%|████████▋ | 54/62 [00:07<00:01,  7.21it/s]"
     ]
    },
    {
     "name": "stdout",
     "output_type": "stream",
     "text": [
      "Evaluating...\n"
     ]
    },
    {
     "name": "stderr",
     "output_type": "stream",
     "text": [
      "Iteration: 100%|██████████| 62/62 [00:08<00:00,  7.23it/s]\n",
      "Iteration:   0%|          | 0/62 [00:00<?, ?it/s]"
     ]
    },
    {
     "name": "stdout",
     "output_type": "stream",
     "text": [
      "Evaluating...\n"
     ]
    },
    {
     "name": "stderr",
     "output_type": "stream",
     "text": [
      "Iteration: 100%|██████████| 62/62 [00:08<00:00,  7.25it/s]\n",
      "Iteration:  66%|██████▌   | 41/62 [00:05<00:02,  7.23it/s]"
     ]
    },
    {
     "name": "stdout",
     "output_type": "stream",
     "text": [
      "Evaluating...\n"
     ]
    },
    {
     "name": "stderr",
     "output_type": "stream",
     "text": [
      "Iteration: 100%|██████████| 7/7 [00:00<00:00, 14.43it/s]s]\n",
      "Iteration:  97%|█████████▋| 60/62 [00:03<00:00, 15.28it/s]"
     ]
    },
    {
     "name": "stdout",
     "output_type": "stream",
     "text": [
      "{'Train':  best_epoch_indx:7\n",
      " auc:0.8510300570751599 \n",
      " apur:0.8102487482027159 \n",
      " f1:0.7384388626174538 \n",
      " precision:0.7133364973896535 \n",
      " recall:0.7653723742838956 \n",
      ", 'Validation':  best_epoch_indx:7\n",
      " auc:0.8239872956367802 \n",
      " apur:0.77686502981091 \n",
      " f1:0.7158012283640425 \n",
      " precision:0.6982570806100218 \n",
      " recall:0.7342497136311569 \n",
      ", 'Test':  best_epoch_indx:7\n",
      " auc:0.8387480055674373 \n",
      " apur:0.7970319240826466 \n",
      " f1:0.7297655904467051 \n",
      " precision:0.7051282051282052 \n",
      " recall:0.7561869844179652 \n",
      "}\n",
      "=====Epoch 8\n",
      "Training...\n"
     ]
    },
    {
     "name": "stderr",
     "output_type": "stream",
     "text": [
      "Iteration: 100%|██████████| 62/62 [00:04<00:00, 15.29it/s]\n",
      "Iteration: 100%|██████████| 62/62 [00:04<00:00, 15.14it/s]\n",
      "Iteration: 100%|██████████| 18/18 [00:01<00:00, 15.86it/s]\n",
      "Iteration: 100%|██████████| 62/62 [00:08<00:00,  7.25it/s]\n",
      "Iteration:  44%|████▍     | 8/18 [00:00<00:00, 15.10it/s]]"
     ]
    },
    {
     "name": "stdout",
     "output_type": "stream",
     "text": [
      "Evaluating...\n"
     ]
    },
    {
     "name": "stderr",
     "output_type": "stream",
     "text": [
      "Iteration: 100%|██████████| 18/18 [00:01<00:00, 15.88it/s]\n",
      "Iteration: 100%|██████████| 62/62 [00:04<00:00, 15.13it/s]\n",
      "Iteration: 100%|██████████| 18/18 [00:01<00:00, 15.80it/s]\n",
      "Iteration: 100%|██████████| 62/62 [00:04<00:00, 15.12it/s]\n",
      "Iteration: 100%|██████████| 7/7 [00:00<00:00, 15.27it/s]]]\n",
      "Iteration:  22%|██▏       | 4/18 [00:00<00:00, 14.81it/s]]"
     ]
    },
    {
     "name": "stdout",
     "output_type": "stream",
     "text": [
      "{'Train':  best_epoch_indx:7\n",
      " auc:0.8483272660121213 \n",
      " apur:0.8116484370366904 \n",
      " f1:0.6955327454098598 \n",
      " precision:0.8046496069576853 \n",
      " recall:0.6124761298535965 \n",
      ", 'Validation':  best_epoch_indx:7\n",
      " auc:0.8353552709222811 \n",
      " apur:0.7912391501838985 \n",
      " f1:0.6888178913738019 \n",
      " precision:0.7789017341040463 \n",
      " recall:0.6174112256586484 \n",
      ", 'Test':  best_epoch_indx:7\n",
      " auc:0.8365648541633877 \n",
      " apur:0.7940773283722213 \n",
      " f1:0.6927461139896373 \n",
      " precision:0.7967818831942789 \n",
      " recall:0.6127406049495875 \n",
      "}\n",
      "=====Epoch 8\n",
      "Training...\n"
     ]
    },
    {
     "name": "stderr",
     "output_type": "stream",
     "text": [
      "Iteration: 100%|██████████| 18/18 [00:01<00:00, 15.83it/s]\n",
      "Iteration: 100%|██████████| 7/7 [00:00<00:00, 14.91it/s]]]\n",
      "Iteration:  15%|█▍        | 9/62 [00:01<00:07,  7.14it/s]]"
     ]
    },
    {
     "name": "stdout",
     "output_type": "stream",
     "text": [
      "{'Train':  best_epoch_indx:7\n",
      " auc:0.8468940257794604 \n",
      " apur:0.8090373301652845 \n",
      " f1:0.7134037590890383 \n",
      " precision:0.7734642272794883 \n",
      " recall:0.6619987269255252 \n",
      ", 'Validation':  best_epoch_indx:7\n",
      " auc:0.827923179870488 \n",
      " apur:0.7802649860315493 \n",
      " f1:0.6797787338660111 \n",
      " precision:0.73342175066313 \n",
      " recall:0.6334478808705613 \n",
      ", 'Test':  best_epoch_indx:7\n",
      " auc:0.8371240058051748 \n",
      " apur:0.8008420871211284 \n",
      " f1:0.7000000000000001 \n",
      " precision:0.76550598476605 \n",
      " recall:0.6448212648945921 \n",
      "}\n",
      "=====Epoch 8\n",
      "Training...\n"
     ]
    },
    {
     "name": "stderr",
     "output_type": "stream",
     "text": [
      "Iteration: 100%|██████████| 62/62 [00:08<00:00,  7.31it/s]\n",
      "Iteration:   0%|          | 0/62 [00:00<?, ?it/s]"
     ]
    },
    {
     "name": "stdout",
     "output_type": "stream",
     "text": [
      "Evaluating...\n"
     ]
    },
    {
     "name": "stderr",
     "output_type": "stream",
     "text": [
      "Iteration: 100%|██████████| 7/7 [00:00<00:00, 14.91it/s]s]\n",
      "Iteration:  35%|███▌      | 22/62 [00:03<00:05,  7.21it/s]"
     ]
    },
    {
     "name": "stdout",
     "output_type": "stream",
     "text": [
      "{'Train':  best_epoch_indx:7\n",
      " auc:0.846677168439424 \n",
      " apur:0.8106220438830113 \n",
      " f1:0.7326538130909983 \n",
      " precision:0.7076266160597794 \n",
      " recall:0.7595162316995544 \n",
      ", 'Validation':  best_epoch_indx:7\n",
      " auc:0.8233981664680404 \n",
      " apur:0.788337238313301 \n",
      " f1:0.7045951859956235 \n",
      " precision:0.6743455497382199 \n",
      " recall:0.7376861397479955 \n",
      ", 'Test':  best_epoch_indx:7\n",
      " auc:0.8370352487466732 \n",
      " apur:0.7992046792321631 \n",
      " f1:0.7301726021411405 \n",
      " precision:0.6977035490605428 \n",
      " recall:0.7658111824014665 \n",
      "}\n",
      "=====Epoch 8\n",
      "Training...\n"
     ]
    },
    {
     "name": "stderr",
     "output_type": "stream",
     "text": [
      "Iteration: 100%|██████████| 7/7 [00:00<00:00, 15.11it/s]s]\n",
      "Iteration:  97%|█████████▋| 60/62 [00:04<00:00, 15.23it/s]"
     ]
    },
    {
     "name": "stdout",
     "output_type": "stream",
     "text": [
      "{'Train':  best_epoch_indx:7\n",
      " auc:0.8491544772862196 \n",
      " apur:0.8143405446141714 \n",
      " f1:0.7329296573048182 \n",
      " precision:0.7418177076541922 \n",
      " recall:0.7242520687460217 \n",
      ", 'Validation':  best_epoch_indx:7\n",
      " auc:0.8404462725768569 \n",
      " apur:0.8082322825559535 \n",
      " f1:0.7269565217391304 \n",
      " precision:0.7359154929577465 \n",
      " recall:0.718213058419244 \n",
      ", 'Test':  best_epoch_indx:7\n",
      " auc:0.8410151152498828 \n",
      " apur:0.8138468402260766 \n",
      " f1:0.7129695251594613 \n",
      " precision:0.7357386640663092 \n",
      " recall:0.6915673693858845 \n",
      "}\n",
      "=====Epoch 8\n",
      "Training...\n"
     ]
    },
    {
     "name": "stderr",
     "output_type": "stream",
     "text": [
      "Iteration: 100%|██████████| 62/62 [00:04<00:00, 14.64it/s]\n",
      "Iteration: 100%|██████████| 18/18 [00:01<00:00, 15.99it/s]\n",
      "Iteration: 100%|██████████| 62/62 [00:08<00:00,  7.25it/s]\n",
      "Iteration:  32%|███▏      | 20/62 [00:02<00:05,  7.26it/s]"
     ]
    },
    {
     "name": "stdout",
     "output_type": "stream",
     "text": [
      "Evaluating...\n"
     ]
    },
    {
     "name": "stderr",
     "output_type": "stream",
     "text": [
      "Iteration: 100%|██████████| 62/62 [00:08<00:00,  7.23it/s]\n",
      "Iteration:   3%|▎         | 2/62 [00:00<00:03, 15.22it/s]]"
     ]
    },
    {
     "name": "stdout",
     "output_type": "stream",
     "text": [
      "Evaluating...\n"
     ]
    },
    {
     "name": "stderr",
     "output_type": "stream",
     "text": [
      "Iteration: 100%|██████████| 62/62 [00:08<00:00,  7.24it/s]\n",
      "Iteration:  66%|██████▌   | 41/62 [00:05<00:02,  7.27it/s]"
     ]
    },
    {
     "name": "stdout",
     "output_type": "stream",
     "text": [
      "Evaluating...\n"
     ]
    },
    {
     "name": "stderr",
     "output_type": "stream",
     "text": [
      "Iteration: 100%|██████████| 7/7 [00:00<00:00, 15.32it/s]s]\n",
      "Iteration:  65%|██████▍   | 40/62 [00:02<00:01, 15.18it/s]"
     ]
    },
    {
     "name": "stdout",
     "output_type": "stream",
     "text": [
      "{'Train':  best_epoch_indx:8\n",
      " auc:0.8540289817684994 \n",
      " apur:0.8147583505228921 \n",
      " f1:0.741819489392305 \n",
      " precision:0.7008266334503453 \n",
      " recall:0.7879057924888606 \n",
      ", 'Validation':  best_epoch_indx:8\n",
      " auc:0.827178813719478 \n",
      " apur:0.7789299927447142 \n",
      " f1:0.7181425485961123 \n",
      " precision:0.6792645556690501 \n",
      " recall:0.7617411225658648 \n",
      ", 'Test':  best_epoch_indx:8\n",
      " auc:0.8393947109345825 \n",
      " apur:0.797742204636689 \n",
      " f1:0.7322310500322096 \n",
      " precision:0.6888888888888889 \n",
      " recall:0.7813932172318974 \n",
      "}\n",
      "=====Epoch 9\n",
      "Training...\n"
     ]
    },
    {
     "name": "stderr",
     "output_type": "stream",
     "text": [
      "Iteration: 100%|██████████| 62/62 [00:04<00:00, 14.61it/s]\n",
      "Iteration: 100%|██████████| 62/62 [00:04<00:00, 14.61it/s]\n",
      "Iteration: 100%|██████████| 18/18 [00:01<00:00, 15.99it/s]\n",
      "Iteration: 100%|██████████| 62/62 [00:08<00:00,  7.25it/s]\n",
      "Iteration:  26%|██▌       | 16/62 [00:02<00:06,  7.19it/s]"
     ]
    },
    {
     "name": "stdout",
     "output_type": "stream",
     "text": [
      "Evaluating...\n"
     ]
    },
    {
     "name": "stderr",
     "output_type": "stream",
     "text": [
      "Iteration: 100%|██████████| 18/18 [00:01<00:00, 15.72it/s]\n",
      "Iteration: 100%|██████████| 62/62 [00:04<00:00, 14.46it/s]\n",
      "Iteration: 100%|██████████| 18/18 [00:01<00:00, 15.87it/s]\n",
      "Iteration: 100%|██████████| 62/62 [00:04<00:00, 14.52it/s]\n",
      "Iteration: 100%|██████████| 7/7 [00:00<00:00, 15.34it/s]]]\n",
      "Iteration:  22%|██▏       | 4/18 [00:00<00:00, 14.80it/s]]"
     ]
    },
    {
     "name": "stdout",
     "output_type": "stream",
     "text": [
      "{'Train':  best_epoch_indx:8\n",
      " auc:0.8546064864150902 \n",
      " apur:0.8189863005359924 \n",
      " f1:0.7181087077093732 \n",
      " precision:0.7884000608920688 \n",
      " recall:0.6593252705283259 \n",
      ", 'Validation':  best_epoch_indx:8\n",
      " auc:0.8415821059005482 \n",
      " apur:0.7985685373804481 \n",
      " f1:0.6993788819875777 \n",
      " precision:0.7639077340569878 \n",
      " recall:0.6449026345933563 \n",
      ", 'Test':  best_epoch_indx:8\n",
      " auc:0.8423082027115024 \n",
      " apur:0.7990713562069137 \n",
      " f1:0.7173267326732673 \n",
      " precision:0.7798708288482239 \n",
      " recall:0.6640696608615949 \n",
      "}\n",
      "=====Epoch 9\n",
      "Training...\n"
     ]
    },
    {
     "name": "stderr",
     "output_type": "stream",
     "text": [
      "Iteration: 100%|██████████| 18/18 [00:01<00:00, 15.98it/s]\n",
      "Iteration: 100%|██████████| 7/7 [00:00<00:00, 15.20it/s]]]\n",
      "Iteration:   2%|▏         | 1/62 [00:00<00:08,  7.33it/s]]"
     ]
    },
    {
     "name": "stdout",
     "output_type": "stream",
     "text": [
      "{'Train':  best_epoch_indx:8\n",
      " auc:0.8563697846670149 \n",
      " apur:0.8195643141468246 \n",
      " f1:0.7271742808798647 \n",
      " precision:0.7763005780346821 \n",
      " recall:0.6838956078930617 \n",
      ", 'Validation':  best_epoch_indx:8\n",
      " auc:0.8341191602932726 \n",
      " apur:0.7870759345429208 \n",
      " f1:0.7009803921568627 \n",
      " precision:0.7536231884057971 \n",
      " recall:0.6552119129438717 \n",
      ", 'Test':  best_epoch_indx:8\n",
      " auc:0.8475261787014549 \n",
      " apur:0.8107321523503985 \n",
      " f1:0.7198044009779951 \n",
      " precision:0.7714884696016772 \n",
      " recall:0.6746104491292392 \n",
      "}\n",
      "=====Epoch 9\n",
      "Training...\n"
     ]
    },
    {
     "name": "stderr",
     "output_type": "stream",
     "text": [
      "Iteration: 100%|██████████| 62/62 [00:08<00:00,  7.31it/s]\n",
      "Iteration:   8%|▊         | 5/62 [00:00<00:07,  7.27it/s]]"
     ]
    },
    {
     "name": "stdout",
     "output_type": "stream",
     "text": [
      "Evaluating...\n"
     ]
    },
    {
     "name": "stderr",
     "output_type": "stream",
     "text": [
      "Iteration: 100%|██████████| 7/7 [00:00<00:00, 14.96it/s]s]\n",
      "Iteration:  37%|███▋      | 23/62 [00:03<00:05,  7.23it/s]"
     ]
    },
    {
     "name": "stdout",
     "output_type": "stream",
     "text": [
      "{'Train':  best_epoch_indx:8\n",
      " auc:0.8501112302674945 \n",
      " apur:0.8146137553796324 \n",
      " f1:0.7362526064938933 \n",
      " precision:0.6919372900335946 \n",
      " recall:0.7866327180140038 \n",
      ", 'Validation':  best_epoch_indx:8\n",
      " auc:0.8258385689657166 \n",
      " apur:0.7908513449753468 \n",
      " f1:0.7114875595553203 \n",
      " precision:0.6614173228346457 \n",
      " recall:0.7697594501718213 \n",
      ", 'Test':  best_epoch_indx:8\n",
      " auc:0.8380280929210766 \n",
      " apur:0.8004989416180226 \n",
      " f1:0.7313846810326436 \n",
      " precision:0.6842315369261477 \n",
      " recall:0.7855178735105408 \n",
      "}\n",
      "=====Epoch 9\n",
      "Training...\n"
     ]
    },
    {
     "name": "stderr",
     "output_type": "stream",
     "text": [
      "Iteration: 100%|██████████| 62/62 [00:04<00:00, 15.26it/s]\n",
      "Iteration: 100%|██████████| 7/7 [00:00<00:00, 15.02it/s]s]\n",
      "Iteration:  71%|███████   | 44/62 [00:06<00:02,  7.23it/s]"
     ]
    },
    {
     "name": "stdout",
     "output_type": "stream",
     "text": [
      "{'Train':  best_epoch_indx:8\n",
      " auc:0.8543970491824754 \n",
      " apur:0.8202286492681722 \n",
      " f1:0.734825543120474 \n",
      " precision:0.7608725289706885 \n",
      " recall:0.7105028644175684 \n",
      ", 'Validation':  best_epoch_indx:8\n",
      " auc:0.8481001307461788 \n",
      " apur:0.8190187356023382 \n",
      " f1:0.728023598820059 \n",
      " precision:0.7506082725060828 \n",
      " recall:0.7067583046964491 \n",
      ", 'Test':  best_epoch_indx:8\n",
      " auc:0.8441662223668405 \n",
      " apur:0.8155515344789293 \n",
      " f1:0.7171717171717171 \n",
      " precision:0.7545546558704453 \n",
      " recall:0.6833180568285976 \n",
      "}\n",
      "=====Epoch 9\n",
      "Training...\n"
     ]
    },
    {
     "name": "stderr",
     "output_type": "stream",
     "text": [
      "Iteration: 100%|██████████| 18/18 [00:01<00:00, 16.11it/s]\n",
      "Iteration: 100%|██████████| 62/62 [00:08<00:00,  7.25it/s]\n",
      "Iteration:   0%|          | 0/62 [00:00<?, ?it/s]"
     ]
    },
    {
     "name": "stdout",
     "output_type": "stream",
     "text": [
      "Evaluating...\n"
     ]
    },
    {
     "name": "stderr",
     "output_type": "stream",
     "text": [
      "Iteration: 100%|██████████| 62/62 [00:08<00:00,  7.24it/s]\n",
      "Iteration:  79%|███████▉  | 49/62 [00:06<00:01,  7.24it/s]"
     ]
    },
    {
     "name": "stdout",
     "output_type": "stream",
     "text": [
      "Evaluating...\n"
     ]
    },
    {
     "name": "stderr",
     "output_type": "stream",
     "text": [
      "Iteration: 100%|██████████| 62/62 [00:08<00:00,  7.23it/s]\n",
      "Iteration:   0%|          | 0/7 [00:00<?, ?it/s]15.14it/s]"
     ]
    },
    {
     "name": "stdout",
     "output_type": "stream",
     "text": [
      "Evaluating...\n"
     ]
    },
    {
     "name": "stderr",
     "output_type": "stream",
     "text": [
      "Iteration: 100%|██████████| 7/7 [00:00<00:00, 15.23it/s]s]\n",
      "Iteration:  61%|██████▏   | 38/62 [00:02<00:01, 15.12it/s]"
     ]
    },
    {
     "name": "stdout",
     "output_type": "stream",
     "text": [
      "{'Train':  best_epoch_indx:9\n",
      " auc:0.8578247064940434 \n",
      " apur:0.821267570956548 \n",
      " f1:0.744061396028749 \n",
      " precision:0.7133014130561719 \n",
      " recall:0.7775938892425207 \n",
      ", 'Validation':  best_epoch_indx:9\n",
      " auc:0.8285383425704159 \n",
      " apur:0.7829050914157218 \n",
      " f1:0.7147577092511014 \n",
      " precision:0.6882290562036055 \n",
      " recall:0.7434135166093929 \n",
      ", 'Test':  best_epoch_indx:9\n",
      " auc:0.8426475262863897 \n",
      " apur:0.8055781660456333 \n",
      " f1:0.7350054525627046 \n",
      " precision:0.7012068248023304 \n",
      " recall:0.7722273143904674 \n",
      "}\n",
      "=====Epoch 10\n",
      "Training...\n"
     ]
    },
    {
     "name": "stderr",
     "output_type": "stream",
     "text": [
      "Iteration: 100%|██████████| 62/62 [00:04<00:00, 15.32it/s]\n",
      "Iteration: 100%|██████████| 62/62 [00:04<00:00, 15.21it/s]\n",
      "Iteration: 100%|██████████| 18/18 [00:01<00:00, 16.03it/s]\n",
      "Iteration: 100%|██████████| 62/62 [00:08<00:00,  7.25it/s]\n",
      "Iteration:  74%|███████▍  | 46/62 [00:03<00:01, 15.05it/s]"
     ]
    },
    {
     "name": "stdout",
     "output_type": "stream",
     "text": [
      "Evaluating...\n"
     ]
    },
    {
     "name": "stderr",
     "output_type": "stream",
     "text": [
      "Iteration: 100%|██████████| 18/18 [00:01<00:00, 14.96it/s]\n",
      "Iteration: 100%|██████████| 62/62 [00:04<00:00, 15.22it/s]\n",
      "Iteration: 100%|██████████| 18/18 [00:01<00:00, 15.86it/s]\n",
      "Iteration: 100%|██████████| 62/62 [00:04<00:00, 15.15it/s]\n",
      "Iteration: 100%|██████████| 7/7 [00:00<00:00, 14.31it/s]s]\n",
      "Iteration:   0%|          | 0/62 [00:00<?, ?it/s].29it/s]]"
     ]
    },
    {
     "name": "stdout",
     "output_type": "stream",
     "text": [
      "{'Train':  best_epoch_indx:9\n",
      " auc:0.8618432996461082 \n",
      " apur:0.8290878991531435 \n",
      " f1:0.7293924015910026 \n",
      " precision:0.7905455626579456 \n",
      " recall:0.6770210057288352 \n",
      ", 'Validation':  best_epoch_indx:9\n",
      " auc:0.8460685511086428 \n",
      " apur:0.8070798553602839 \n",
      " f1:0.7066090179122915 \n",
      " precision:0.7667560321715817 \n",
      " recall:0.6552119129438717 \n",
      ", 'Test':  best_epoch_indx:9\n",
      " auc:0.8468729457730374 \n",
      " apur:0.8086762810656676 \n",
      " f1:0.7212313706327876 \n",
      " precision:0.7723704866562009 \n",
      " recall:0.6764436296975253 \n",
      "}\n",
      "=====Epoch 10\n",
      "Training...\n"
     ]
    },
    {
     "name": "stderr",
     "output_type": "stream",
     "text": [
      "Iteration: 100%|██████████| 18/18 [00:01<00:00, 15.84it/s]\n",
      "Iteration: 100%|██████████| 7/7 [00:00<00:00, 14.30it/s]]]\n",
      "Iteration:   2%|▏         | 1/62 [00:00<00:08,  6.87it/s]]"
     ]
    },
    {
     "name": "stdout",
     "output_type": "stream",
     "text": [
      "{'Train':  best_epoch_indx:9\n",
      " auc:0.8616594567461335 \n",
      " apur:0.8262908478061346 \n",
      " f1:0.7366376423308775 \n",
      " precision:0.777243816254417 \n",
      " recall:0.7000636537237428 \n",
      ", 'Validation':  best_epoch_indx:9\n",
      " auc:0.8384706168211322 \n",
      " apur:0.7926139072439873 \n",
      " f1:0.7036813518406759 \n",
      " precision:0.7436224489795918 \n",
      " recall:0.6678121420389461 \n",
      ", 'Test':  best_epoch_indx:9\n",
      " auc:0.8542849901163228 \n",
      " apur:0.8175896291714059 \n",
      " f1:0.7345857418111753 \n",
      " precision:0.7741116751269036 \n",
      " recall:0.6989000916590284 \n",
      "}\n",
      "=====Epoch 10\n",
      "Training...\n"
     ]
    },
    {
     "name": "stderr",
     "output_type": "stream",
     "text": [
      "\r",
      "Iteration:  98%|█████████▊| 61/62 [00:08<00:00,  7.29it/s]\r",
      "Iteration:  19%|█▉        | 12/62 [00:01<00:06,  7.24it/s]\r",
      "Iteration:   3%|▎         | 2/62 [00:00<00:08,  6.95it/s]\r",
      "Iteration: 100%|██████████| 62/62 [00:08<00:00,  7.59it/s]\r",
      "Iteration: 100%|██████████| 62/62 [00:08<00:00,  7.29it/s]\n",
      "\r",
      "Iteration:   0%|          | 0/62 [00:00<?, ?it/s]\r",
      "Iteration:  21%|██        | 13/62 [00:01<00:06,  7.31it/s]\r",
      "Iteration:   5%|▍         | 3/62 [00:00<00:08,  7.11it/s]"
     ]
    },
    {
     "name": "stdout",
     "output_type": "stream",
     "text": [
      "Evaluating...\n"
     ]
    },
    {
     "name": "stderr",
     "output_type": "stream",
     "text": [
      "Iteration: 100%|██████████| 7/7 [00:00<00:00, 14.76it/s]s]\n",
      "Iteration:  23%|██▎       | 14/62 [00:01<00:06,  7.17it/s]"
     ]
    },
    {
     "name": "stdout",
     "output_type": "stream",
     "text": [
      "{'Train':  best_epoch_indx:9\n",
      " auc:0.854575374881133 \n",
      " apur:0.8217958670485115 \n",
      " f1:0.7402222631546632 \n",
      " precision:0.7148956356736242 \n",
      " recall:0.7674092934436665 \n",
      ", 'Validation':  best_epoch_indx:9\n",
      " auc:0.8291380779926025 \n",
      " apur:0.7950846983324692 \n",
      " f1:0.7062053816584294 \n",
      " precision:0.6782700421940928 \n",
      " recall:0.736540664375716 \n",
      ", 'Test':  best_epoch_indx:9\n",
      " auc:0.8419897449322807 \n",
      " apur:0.8072421362027634 \n",
      " f1:0.7301448003510311 \n",
      " precision:0.7003367003367004 \n",
      " recall:0.7626031164069661 \n",
      "}\n",
      "=====Epoch 10\n",
      "Training...\n"
     ]
    },
    {
     "name": "stderr",
     "output_type": "stream",
     "text": [
      "Iteration: 100%|██████████| 62/62 [00:04<00:00, 14.66it/s]\n",
      "Iteration: 100%|██████████| 7/7 [00:00<00:00, 14.32it/s]s]\n",
      "Iteration:  56%|█████▋    | 35/62 [00:04<00:03,  7.22it/s]"
     ]
    },
    {
     "name": "stdout",
     "output_type": "stream",
     "text": [
      "{'Train':  best_epoch_indx:9\n",
      " auc:0.8576461341229809 \n",
      " apur:0.823133105126405 \n",
      " f1:0.7396526961744353 \n",
      " precision:0.7590781187190138 \n",
      " recall:0.7211966900063653 \n",
      ", 'Validation':  best_epoch_indx:9\n",
      " auc:0.8496110397599516 \n",
      " apur:0.8181856538811029 \n",
      " f1:0.7260997067448679 \n",
      " precision:0.7439903846153846 \n",
      " recall:0.709049255441008 \n",
      ", 'Test':  best_epoch_indx:9\n",
      " auc:0.8491833115737044 \n",
      " apur:0.8205604519195719 \n",
      " f1:0.7205531711969481 \n",
      " precision:0.7509940357852882 \n",
      " recall:0.6924839596700275 \n",
      "}\n",
      "=====Epoch 10\n",
      "Training...\n"
     ]
    },
    {
     "name": "stderr",
     "output_type": "stream",
     "text": [
      "Iteration: 100%|██████████| 18/18 [00:01<00:00, 16.03it/s]\n",
      "Iteration: 100%|██████████| 62/62 [00:08<00:00,  7.29it/s]\n",
      "Iteration:  61%|██████▏   | 38/62 [00:05<00:03,  7.26it/s]"
     ]
    },
    {
     "name": "stdout",
     "output_type": "stream",
     "text": [
      "Evaluating...\n"
     ]
    },
    {
     "name": "stderr",
     "output_type": "stream",
     "text": [
      "Iteration: 100%|██████████| 62/62 [00:08<00:00,  7.21it/s]\n",
      "Iteration:  45%|████▌     | 28/62 [00:03<00:04,  7.12it/s]"
     ]
    },
    {
     "name": "stdout",
     "output_type": "stream",
     "text": [
      "Evaluating...\n"
     ]
    },
    {
     "name": "stderr",
     "output_type": "stream",
     "text": [
      "Iteration: 100%|██████████| 62/62 [00:08<00:00,  7.24it/s]\n",
      "Iteration:   0%|          | 0/7 [00:00<?, ?it/s]]"
     ]
    },
    {
     "name": "stdout",
     "output_type": "stream",
     "text": [
      "Evaluating...\n"
     ]
    },
    {
     "name": "stderr",
     "output_type": "stream",
     "text": [
      "Iteration: 100%|██████████| 7/7 [00:00<00:00, 14.39it/s]s]\n",
      "Iteration:   2%|▏         | 1/62 [00:00<00:08,  7.20it/s]]"
     ]
    },
    {
     "name": "stdout",
     "output_type": "stream",
     "text": [
      "{'Train':  best_epoch_indx:10\n",
      " auc:0.8626035832002525 \n",
      " apur:0.8262741435834107 \n",
      " f1:0.7510465402610195 \n",
      " precision:0.7271426868518298 \n",
      " recall:0.7765754296626353 \n",
      ", 'Validation':  best_epoch_indx:10\n",
      " auc:0.832774094515217 \n",
      " apur:0.7868768721270993 \n",
      " f1:0.728690807799443 \n",
      " precision:0.7093275488069414 \n",
      " recall:0.7491408934707904 \n",
      ", 'Test':  best_epoch_indx:10\n",
      " auc:0.8465362454363372 \n",
      " apur:0.8080310882277218 \n",
      " f1:0.7374696400971515 \n",
      " precision:0.7115466553046442 \n",
      " recall:0.7653528872593951 \n",
      "}\n",
      "=====Epoch 11\n",
      "Training...\n"
     ]
    },
    {
     "name": "stderr",
     "output_type": "stream",
     "text": [
      "Iteration: 100%|██████████| 62/62 [00:04<00:00, 14.66it/s]\n",
      "Iteration: 100%|██████████| 18/18 [00:01<00:00, 15.94it/s]\n",
      "Iteration: 100%|██████████| 62/62 [00:04<00:00, 14.51it/s]\n",
      "Iteration: 100%|██████████| 62/62 [00:08<00:00,  7.24it/s]\n",
      "Iteration:  29%|██▉       | 18/62 [00:02<00:06,  7.29it/s]"
     ]
    },
    {
     "name": "stdout",
     "output_type": "stream",
     "text": [
      "Evaluating...\n"
     ]
    },
    {
     "name": "stderr",
     "output_type": "stream",
     "text": [
      "Iteration: 100%|██████████| 18/18 [00:01<00:00, 15.80it/s]\n",
      "Iteration: 100%|██████████| 62/62 [00:04<00:00, 14.61it/s]\n",
      "Iteration: 100%|██████████| 18/18 [00:01<00:00, 15.87it/s]\n",
      "Iteration: 100%|██████████| 62/62 [00:04<00:00, 14.50it/s]\n",
      "Iteration: 100%|██████████| 7/7 [00:00<00:00, 14.87it/s]s]\n",
      "Iteration:   0%|          | 0/18 [00:00<?, ?it/s]7.15it/s]"
     ]
    },
    {
     "name": "stdout",
     "output_type": "stream",
     "text": [
      "{'Train':  best_epoch_indx:10\n",
      " auc:0.8625712412249837 \n",
      " apur:0.8302621915092655 \n",
      " f1:0.7240331491712707 \n",
      " precision:0.7912452830188679 \n",
      " recall:0.6673456397199237 \n",
      ", 'Validation':  best_epoch_indx:10\n",
      " auc:0.845846783991114 \n",
      " apur:0.807430368360801 \n",
      " f1:0.698136645962733 \n",
      " precision:0.762550881953867 \n",
      " recall:0.6437571592210768 \n",
      ", 'Test':  best_epoch_indx:10\n",
      " auc:0.8476349193122795 \n",
      " apur:0.8096795319875847 \n",
      " f1:0.7201982651796779 \n",
      " precision:0.784133837021047 \n",
      " recall:0.6659028414298809 \n",
      "}\n",
      "=====Epoch 11\n",
      "Training...\n"
     ]
    },
    {
     "name": "stderr",
     "output_type": "stream",
     "text": [
      "Iteration: 100%|██████████| 18/18 [00:01<00:00, 15.77it/s]\n",
      "Iteration: 100%|██████████| 7/7 [00:00<00:00, 14.96it/s]s]\n",
      "Iteration: 100%|██████████| 7/7 [00:00<00:00, 15.41it/s]s]\n",
      "Iteration: 100%|██████████| 62/62 [00:08<00:00,  7.28it/s]\n",
      "Iteration:   0%|          | 0/62 [00:00<?, ?it/s]"
     ]
    },
    {
     "name": "stdout",
     "output_type": "stream",
     "text": [
      "{'Train':  best_epoch_indx:10\n",
      " auc:0.8634354611381808 \n",
      " apur:0.8286096676275391 \n",
      " f1:0.7347935173255576 \n",
      " precision:0.7861288450377248 \n",
      " recall:0.6897517504774029 \n",
      ", 'Validation':  best_epoch_indx:10\n",
      " auc:0.8394242154265065 \n",
      " apur:0.7951540560293344 \n",
      " f1:0.6974169741697417 \n",
      " precision:0.7529880478087649 \n",
      " recall:0.6494845360824743 \n",
      ", 'Test':  best_epoch_indx:10\n",
      " auc:0.8546143945734397 \n",
      " apur:0.8200042784404973 \n",
      " f1:0.7339359882726607 \n",
      " precision:0.7859759288330717 \n",
      " recall:0.6883593033913841 \n",
      "}\n",
      "=====Epoch 11\n",
      "Training...\n",
      "{'Train':  best_epoch_indx:10\n",
      " auc:0.858452660743516 \n",
      " apur:0.8237410523004407 \n",
      " f1:0.7420252345519249 \n",
      " precision:0.7544736842105263 \n",
      " recall:0.7299809038828772 \n",
      ", 'Validation':  best_epoch_indx:10\n",
      " auc:0.8520186592924278 \n",
      " apur:0.8213732077883658 \n",
      " f1:0.7331786542923434 \n",
      " precision:0.7426556991774383 \n",
      " recall:0.7239404352806414 \n",
      ", 'Test':  best_epoch_indx:10\n",
      " auc:0.8493070311952504 \n",
      " apur:0.8196440646378121 \n",
      " f1:0.72226148409894 \n",
      " precision:0.7430925836160931 \n",
      " recall:0.7025664527956004 \n",
      "}\n",
      "=====Epoch 11\n",
      "Training...\n",
      "Evaluating...\n"
     ]
    },
    {
     "name": "stderr",
     "output_type": "stream",
     "text": [
      "Iteration: 100%|██████████| 7/7 [00:00<00:00, 15.28it/s]s]\n",
      "Iteration:   2%|▏         | 1/62 [00:00<00:08,  7.31it/s]]"
     ]
    },
    {
     "name": "stdout",
     "output_type": "stream",
     "text": [
      "{'Train':  best_epoch_indx:10\n",
      " auc:0.8573462530345677 \n",
      " apur:0.8250801399701566 \n",
      " f1:0.7442506186998249 \n",
      " precision:0.7076446280991735 \n",
      " recall:0.7848504137492043 \n",
      ", 'Validation':  best_epoch_indx:10\n",
      " auc:0.8300381632283121 \n",
      " apur:0.7968523459940122 \n",
      " f1:0.7203023758099352 \n",
      " precision:0.6813074565883555 \n",
      " recall:0.7640320733104238 \n",
      ", 'Test':  best_epoch_indx:10\n",
      " auc:0.843110630811079 \n",
      " apur:0.8080839654989592 \n",
      " f1:0.7342099590428972 \n",
      " precision:0.6931216931216931 \n",
      " recall:0.7804766269477543 \n",
      "}\n",
      "=====Epoch 11\n",
      "Training...\n"
     ]
    },
    {
     "name": "stderr",
     "output_type": "stream",
     "text": [
      "Iteration: 100%|██████████| 62/62 [00:04<00:00, 15.38it/s]\n",
      "Iteration: 100%|██████████| 18/18 [00:01<00:00, 16.00it/s]\n",
      "Iteration: 100%|██████████| 62/62 [00:08<00:00,  7.28it/s]\n",
      "Iteration:   3%|▎         | 2/62 [00:00<00:03, 15.09it/s]]"
     ]
    },
    {
     "name": "stdout",
     "output_type": "stream",
     "text": [
      "Evaluating...\n"
     ]
    },
    {
     "name": "stderr",
     "output_type": "stream",
     "text": [
      "Iteration: 100%|██████████| 62/62 [00:08<00:00,  7.24it/s]\n",
      "Iteration: 100%|██████████| 62/62 [00:08<00:00,  7.26it/s]\n",
      "Iteration:  81%|████████  | 50/62 [00:06<00:01,  7.22it/s]"
     ]
    },
    {
     "name": "stdout",
     "output_type": "stream",
     "text": [
      "Evaluating...\n",
      "Evaluating...\n"
     ]
    },
    {
     "name": "stderr",
     "output_type": "stream",
     "text": [
      "Iteration: 100%|██████████| 62/62 [00:08<00:00,  7.25it/s]\n",
      "Iteration:  45%|████▌     | 28/62 [00:01<00:02, 15.24it/s]"
     ]
    },
    {
     "name": "stdout",
     "output_type": "stream",
     "text": [
      "Evaluating...\n",
      "{'Train':  best_epoch_indx:11\n",
      " auc:0.8638023384242614 \n",
      " apur:0.8296592973124282 \n",
      " f1:0.7470153496304718 \n",
      " precision:0.7413490471414242 \n",
      " recall:0.7527689369828134 \n",
      ", 'Validation':  best_epoch_indx:11\n",
      " auc:0.8333564742499451 \n",
      " apur:0.7884706913768752 \n",
      " f1:0.7217787913340936 \n",
      " precision:0.7185017026106697 \n",
      " recall:0.7250859106529209 \n",
      ", 'Test':  best_epoch_indx:11\n",
      " auc:0.8480321084354082 \n",
      " apur:0.8118796533734078 \n",
      " f1:0.7357418768461712 \n",
      " precision:0.7296079315006759 \n",
      " recall:0.7419798350137489 \n",
      "}\n",
      "=====Epoch 12\n",
      "Training...\n"
     ]
    },
    {
     "name": "stderr",
     "output_type": "stream",
     "text": [
      "Iteration: 100%|██████████| 7/7 [00:00<00:00, 15.39it/s]\n",
      "Iteration: 100%|██████████| 62/62 [00:04<00:00, 15.29it/s]\n",
      "Iteration: 100%|██████████| 18/18 [00:01<00:00, 15.88it/s]\n",
      "Iteration: 100%|██████████| 62/62 [00:04<00:00, 15.20it/s]\n",
      "Iteration: 100%|██████████| 62/62 [00:04<00:00, 15.27it/s]\n",
      "Iteration: 100%|██████████| 18/18 [00:01<00:00, 15.84it/s]\n",
      "Iteration: 100%|██████████| 18/18 [00:01<00:00, 16.02it/s]\n",
      "Iteration: 100%|██████████| 62/62 [00:04<00:00, 15.19it/s]\n",
      "Iteration: 100%|██████████| 7/7 [00:00<00:00, 15.39it/s]\n",
      "Iteration:   0%|          | 0/62 [00:00<?, ?it/s]7.30it/s]"
     ]
    },
    {
     "name": "stdout",
     "output_type": "stream",
     "text": [
      "{'Train':  best_epoch_indx:11\n",
      " auc:0.8638618636786136 \n",
      " apur:0.8280577517930452 \n",
      " f1:0.7445444537978372 \n",
      " precision:0.7576436478650501 \n",
      " recall:0.7318905155951623 \n",
      ", 'Validation':  best_epoch_indx:11\n",
      " auc:0.837486163660276 \n",
      " apur:0.7884004169618208 \n",
      " f1:0.7177089421391 \n",
      " precision:0.7326968973747017 \n",
      " recall:0.7033218785796106 \n",
      ", 'Test':  best_epoch_indx:11\n",
      " auc:0.8529199837366196 \n",
      " apur:0.8140807538287969 \n",
      " f1:0.7386337141524831 \n",
      " precision:0.751779781680114 \n",
      " recall:0.7259395050412466 \n",
      "}\n",
      "=====Epoch 12\n",
      "Training...\n"
     ]
    },
    {
     "name": "stderr",
     "output_type": "stream",
     "text": [
      "Iteration: 100%|██████████| 18/18 [00:01<00:00, 15.35it/s]\n",
      "Iteration: 100%|██████████| 7/7 [00:00<00:00, 15.17it/s]s]\n"
     ]
    },
    {
     "name": "stdout",
     "output_type": "stream",
     "text": [
      "{'Train':  best_epoch_indx:11\n",
      " auc:0.8634207138352135 \n",
      " apur:0.8310572249359174 \n",
      " f1:0.7338216517707142 \n",
      " precision:0.7771135781383433 \n",
      " recall:0.6950986632718014 \n",
      ", 'Validation':  best_epoch_indx:11\n",
      " auc:0.8454630304573031 \n",
      " apur:0.8083248748762251 \n",
      " f1:0.7171171171171172 \n",
      " precision:0.7537878787878788 \n",
      " recall:0.6838487972508591 \n",
      ", 'Test':  best_epoch_indx:11\n",
      " auc:0.8492369463038574 \n",
      " apur:0.8094935081449441 \n",
      " f1:0.7337164750957854 \n",
      " precision:0.7683049147442327 \n",
      " recall:0.7021081576535289 \n",
      "}\n",
      "=====Epoch 12\n",
      "Training...\n"
     ]
    },
    {
     "name": "stderr",
     "output_type": "stream",
     "text": [
      "Iteration: 100%|██████████| 7/7 [00:00<00:00, 13.98it/s]s]\n",
      "Iteration: 100%|██████████| 62/62 [00:08<00:00,  7.22it/s]\n",
      "Iteration:  23%|██▎       | 14/62 [00:01<00:06,  7.14it/s]"
     ]
    },
    {
     "name": "stdout",
     "output_type": "stream",
     "text": [
      "Evaluating...\n",
      "{'Train':  best_epoch_indx:11\n",
      " auc:0.8601305943376172 \n",
      " apur:0.8261146947129724 \n",
      " f1:0.7447868852459015 \n",
      " precision:0.7679513184584178 \n",
      " recall:0.7229789942711649 \n",
      ", 'Validation':  best_epoch_indx:11\n",
      " auc:0.8493912010521403 \n",
      " apur:0.8185444823323459 \n",
      " f1:0.7356593731519812 \n",
      " precision:0.7603911980440098 \n",
      " recall:0.7124856815578465 \n",
      ", 'Test':  best_epoch_indx:11\n",
      " auc:0.8503909478296816 \n",
      " apur:0.821743114929854 \n",
      " f1:0.7217286914765907 \n",
      " precision:0.7579425113464447 \n",
      " recall:0.6888175985334556 \n",
      "}\n",
      "=====Epoch 12\n",
      "Training...\n"
     ]
    },
    {
     "name": "stderr",
     "output_type": "stream",
     "text": [
      "Iteration: 100%|██████████| 7/7 [00:00<00:00, 14.62it/s]s]\n",
      "Iteration:  45%|████▌     | 28/62 [00:02<00:02, 14.27it/s]"
     ]
    },
    {
     "name": "stdout",
     "output_type": "stream",
     "text": [
      "{'Train':  best_epoch_indx:11\n",
      " auc:0.8609239138525151 \n",
      " apur:0.8292020019060122 \n",
      " f1:0.7468699640510723 \n",
      " precision:0.7277448967266578 \n",
      " recall:0.7670273711012094 \n",
      ", 'Validation':  best_epoch_indx:11\n",
      " auc:0.8318609925139133 \n",
      " apur:0.7957998035328285 \n",
      " f1:0.711731843575419 \n",
      " precision:0.6946564885496184 \n",
      " recall:0.7296678121420389 \n",
      ", 'Test':  best_epoch_indx:11\n",
      " auc:0.8468193637955791 \n",
      " apur:0.8130211592684033 \n",
      " f1:0.7342163355408389 \n",
      " precision:0.7082623509369677 \n",
      " recall:0.7621448212648946 \n",
      "}\n",
      "=====Epoch 12\n",
      "Training...\n"
     ]
    },
    {
     "name": "stderr",
     "output_type": "stream",
     "text": [
      "Iteration: 100%|██████████| 62/62 [00:08<00:00,  7.22it/s]\n",
      "Iteration:  68%|██████▊   | 42/62 [00:05<00:02,  7.32it/s]"
     ]
    },
    {
     "name": "stdout",
     "output_type": "stream",
     "text": [
      "Evaluating...\n"
     ]
    },
    {
     "name": "stderr",
     "output_type": "stream",
     "text": [
      "Iteration: 100%|██████████| 62/62 [00:04<00:00, 14.71it/s]\n",
      "Iteration: 100%|██████████| 18/18 [00:01<00:00, 15.93it/s]\n",
      "Iteration: 100%|██████████| 62/62 [00:08<00:00,  7.30it/s]\n",
      "Iteration:  55%|█████▍    | 34/62 [00:04<00:03,  7.22it/s]"
     ]
    },
    {
     "name": "stdout",
     "output_type": "stream",
     "text": [
      "Evaluating...\n"
     ]
    },
    {
     "name": "stderr",
     "output_type": "stream",
     "text": [
      "Iteration: 100%|██████████| 62/62 [00:04<00:00, 15.28it/s]\n",
      "Iteration: 100%|██████████| 62/62 [00:08<00:00,  7.07it/s]\n",
      "Iteration:  79%|███████▉  | 49/62 [00:06<00:01,  7.17it/s]"
     ]
    },
    {
     "name": "stdout",
     "output_type": "stream",
     "text": [
      "Evaluating...\n"
     ]
    },
    {
     "name": "stderr",
     "output_type": "stream",
     "text": [
      "Iteration: 100%|██████████| 18/18 [00:01<00:00, 15.85it/s]\n",
      "Iteration: 100%|██████████| 7/7 [00:00<00:00, 15.34it/s]s]\n"
     ]
    },
    {
     "name": "stdout",
     "output_type": "stream",
     "text": [
      "{'Train':  best_epoch_indx:12\n",
      " auc:0.8652308950999733 \n",
      " apur:0.8293251441560717 \n",
      " f1:0.7357230475671256 \n",
      " precision:0.7916116732658748 \n",
      " recall:0.6872056015276894 \n",
      ", 'Validation':  best_epoch_indx:12\n",
      " auc:0.8369780276996771 \n",
      " apur:0.7878465883680955 \n",
      " f1:0.6975308641975309 \n",
      " precision:0.7563587684069611 \n",
      " recall:0.6471935853379153 \n",
      ", 'Test':  best_epoch_indx:12\n",
      " auc:0.8537334614727992 \n",
      " apur:0.8169593365231032 \n",
      " f1:0.7241887905604719 \n",
      " precision:0.78101802757158 \n",
      " recall:0.6750687442713107 \n",
      "}\n",
      "=====Epoch 13\n",
      "Training...\n"
     ]
    },
    {
     "name": "stderr",
     "output_type": "stream",
     "text": [
      "Iteration: 100%|██████████| 7/7 [00:00<00:00, 15.43it/s]s]\n",
      "Iteration: 100%|██████████| 62/62 [00:08<00:00,  7.15it/s]\n",
      "Iteration:  97%|█████████▋| 60/62 [00:03<00:00, 15.26it/s]"
     ]
    },
    {
     "name": "stdout",
     "output_type": "stream",
     "text": [
      "{'Train':  best_epoch_indx:12\n",
      " auc:0.8657637651847538 \n",
      " apur:0.8319176873455756 \n",
      " f1:0.7535275792560014 \n",
      " precision:0.7242837012682011 \n",
      " recall:0.7852323360916613 \n",
      ", 'Validation':  best_epoch_indx:12\n",
      " auc:0.836267408718726 \n",
      " apur:0.7940817087427396 \n",
      " f1:0.7212389380530974 \n",
      " precision:0.6973262032085561 \n",
      " recall:0.7468499427262314 \n",
      ", 'Test':  best_epoch_indx:12\n",
      " auc:0.8523936276915194 \n",
      " apur:0.8192567228284617 \n",
      " f1:0.7442882249560632 \n",
      " precision:0.7147679324894515 \n",
      " recall:0.7763519706691109 \n",
      "}\n",
      "=====Epoch 13\n",
      "Training...\n",
      "Evaluating...\n"
     ]
    },
    {
     "name": "stderr",
     "output_type": "stream",
     "text": [
      "Iteration: 100%|██████████| 62/62 [00:04<00:00, 15.31it/s]\n",
      "Iteration: 100%|██████████| 18/18 [00:01<00:00, 15.90it/s]\n",
      "Iteration: 100%|██████████| 62/62 [00:04<00:00, 15.11it/s]\n",
      "Iteration: 100%|██████████| 18/18 [00:01<00:00, 15.81it/s]\n",
      "Iteration: 100%|██████████| 62/62 [00:04<00:00, 15.14it/s]\n",
      "Iteration: 100%|██████████| 7/7 [00:00<00:00, 15.49it/s]\n",
      "Iteration:  50%|█████     | 31/62 [00:04<00:04,  7.31it/s]"
     ]
    },
    {
     "name": "stdout",
     "output_type": "stream",
     "text": [
      "{'Train':  best_epoch_indx:12\n",
      " auc:0.8589119500487972 \n",
      " apur:0.823452874288352 \n",
      " f1:0.74453125 \n",
      " precision:0.761892071952032 \n",
      " recall:0.7279439847231063 \n",
      ", 'Validation':  best_epoch_indx:12\n",
      " auc:0.8512781499608533 \n",
      " apur:0.8211912739614163 \n",
      " f1:0.734861845972957 \n",
      " precision:0.7548309178743962 \n",
      " recall:0.715922107674685 \n",
      ", 'Test':  best_epoch_indx:12\n",
      " auc:0.8491214131729059 \n",
      " apur:0.8177630329700831 \n",
      " f1:0.7212958551691281 \n",
      " precision:0.7509920634920635 \n",
      " recall:0.693858845096242 \n",
      "}\n",
      "=====Epoch 13\n",
      "Training...\n"
     ]
    },
    {
     "name": "stderr",
     "output_type": "stream",
     "text": [
      "Iteration: 100%|██████████| 18/18 [00:01<00:00, 15.75it/s]\n",
      "Iteration: 100%|██████████| 7/7 [00:00<00:00, 15.42it/s]s]\n",
      "Iteration:   0%|          | 0/62 [00:00<?, ?it/s]7.25it/s]"
     ]
    },
    {
     "name": "stdout",
     "output_type": "stream",
     "text": [
      "{'Train':  best_epoch_indx:12\n",
      " auc:0.857472655396365 \n",
      " apur:0.8230741420579011 \n",
      " f1:0.7437996184380576 \n",
      " precision:0.7199189897545866 \n",
      " recall:0.7693189051559516 \n",
      ", 'Validation':  best_epoch_indx:12\n",
      " auc:0.8321676096590186 \n",
      " apur:0.7975239565293489 \n",
      " f1:0.7151515151515152 \n",
      " precision:0.6889596602972399 \n",
      " recall:0.7434135166093929 \n",
      ", 'Test':  best_epoch_indx:12\n",
      " auc:0.8433860092325863 \n",
      " apur:0.8053874803678875 \n",
      " f1:0.7307946290997137 \n",
      " precision:0.7030919102075391 \n",
      " recall:0.7607699358386801 \n",
      "}\n",
      "=====Epoch 13\n",
      "Training...\n"
     ]
    },
    {
     "name": "stderr",
     "output_type": "stream",
     "text": [
      "Iteration: 100%|██████████| 7/7 [00:00<00:00, 14.30it/s]s]\n",
      "Iteration:  79%|███████▉  | 49/62 [00:06<00:01,  7.30it/s]"
     ]
    },
    {
     "name": "stdout",
     "output_type": "stream",
     "text": [
      "{'Train':  best_epoch_indx:12\n",
      " auc:0.8661620699197655 \n",
      " apur:0.8336409050885217 \n",
      " f1:0.7441033074186323 \n",
      " precision:0.7711320497064045 \n",
      " recall:0.7189051559516232 \n",
      ", 'Validation':  best_epoch_indx:12\n",
      " auc:0.8461871483062777 \n",
      " apur:0.8101280759854168 \n",
      " f1:0.7204747774480712 \n",
      " precision:0.7475369458128078 \n",
      " recall:0.695303550973654 \n",
      ", 'Test':  best_epoch_indx:12\n",
      " auc:0.8515666904301185 \n",
      " apur:0.8148802968901868 \n",
      " f1:0.7362482369534555 \n",
      " precision:0.7557915057915058 \n",
      " recall:0.7176901924839597 \n",
      "}\n",
      "=====Epoch 13\n",
      "Training...\n"
     ]
    },
    {
     "name": "stderr",
     "output_type": "stream",
     "text": [
      "Iteration: 100%|██████████| 62/62 [00:08<00:00,  7.06it/s]\n",
      "Iteration:  18%|█▊        | 11/62 [00:01<00:06,  7.29it/s]"
     ]
    },
    {
     "name": "stdout",
     "output_type": "stream",
     "text": [
      "Evaluating...\n"
     ]
    },
    {
     "name": "stderr",
     "output_type": "stream",
     "text": [
      "Iteration: 100%|██████████| 62/62 [00:08<00:00,  7.15it/s]\n",
      "Iteration:  26%|██▌       | 16/62 [00:02<00:06,  7.28it/s]"
     ]
    },
    {
     "name": "stdout",
     "output_type": "stream",
     "text": [
      "Evaluating...\n"
     ]
    },
    {
     "name": "stderr",
     "output_type": "stream",
     "text": [
      "Iteration: 100%|██████████| 62/62 [00:04<00:00, 15.12it/s]\n",
      "Iteration: 100%|██████████| 62/62 [00:04<00:00, 15.31it/s]\n",
      "Iteration: 100%|██████████| 62/62 [00:08<00:00,  7.10it/s]\n",
      "Iteration:  56%|█████▌    | 10/18 [00:00<00:00, 15.24it/s]"
     ]
    },
    {
     "name": "stdout",
     "output_type": "stream",
     "text": [
      "Evaluating...\n"
     ]
    },
    {
     "name": "stderr",
     "output_type": "stream",
     "text": [
      "Iteration: 100%|██████████| 18/18 [00:01<00:00, 15.82it/s]\n",
      "Iteration: 100%|██████████| 18/18 [00:01<00:00, 15.93it/s]\n",
      "Iteration: 100%|██████████| 7/7 [00:00<00:00, 15.42it/s]\n",
      "Iteration:   0%|          | 0/62 [00:00<?, ?it/s]5.16it/s]"
     ]
    },
    {
     "name": "stdout",
     "output_type": "stream",
     "text": [
      "{'Train':  best_epoch_indx:13\n",
      " auc:0.8666550414761472 \n",
      " apur:0.8303909025283178 \n",
      " f1:0.7510466988727859 \n",
      " precision:0.7601043024771839 \n",
      " recall:0.7422024188415022 \n",
      ", 'Validation':  best_epoch_indx:13\n",
      " auc:0.8371930453831943 \n",
      " apur:0.786238661284743 \n",
      " f1:0.7123608670181604 \n",
      " precision:0.7290167865707434 \n",
      " recall:0.6964490263459335 \n",
      ", 'Test':  best_epoch_indx:13\n",
      " auc:0.8555184816893416 \n",
      " apur:0.8179010703155037 \n",
      " f1:0.7377279102384292 \n",
      " precision:0.7528625954198473 \n",
      " recall:0.7231897341888176 \n",
      "}\n",
      "=====Epoch 14\n",
      "Training...\n"
     ]
    },
    {
     "name": "stderr",
     "output_type": "stream",
     "text": [
      "Iteration: 100%|██████████| 7/7 [00:00<00:00, 15.59it/s]s]\n",
      "Iteration:   6%|▋         | 4/62 [00:00<00:08,  7.22it/s]]"
     ]
    },
    {
     "name": "stdout",
     "output_type": "stream",
     "text": [
      "{'Train':  best_epoch_indx:13\n",
      " auc:0.8705498951640024 \n",
      " apur:0.8377702530621708 \n",
      " f1:0.7605750950570342 \n",
      " precision:0.7130444469199064 \n",
      " recall:0.8148949713558243 \n",
      ", 'Validation':  best_epoch_indx:13\n",
      " auc:0.834369853556566 \n",
      " apur:0.7926827243278713 \n",
      " f1:0.7263948497854077 \n",
      " precision:0.6831483350151363 \n",
      " recall:0.7754868270332188 \n",
      ", 'Test':  best_epoch_indx:13\n",
      " auc:0.8508306406564885 \n",
      " apur:0.8171194598844036 \n",
      " f1:0.7374706760503306 \n",
      " precision:0.6896689270043878 \n",
      " recall:0.7923923006416131 \n",
      "}\n",
      "=====Epoch 14\n",
      "Training...\n"
     ]
    },
    {
     "name": "stderr",
     "output_type": "stream",
     "text": [
      "\r",
      "Iteration:   2%|▏         | 1/62 [00:00<00:08,  7.34it/s]\r",
      "Iteration:  45%|████▌     | 28/62 [00:01<00:02, 15.14it/s]\r",
      "Iteration: 100%|██████████| 62/62 [00:08<00:00,  7.46it/s]\r",
      "Iteration: 100%|██████████| 62/62 [00:08<00:00,  7.10it/s]\n",
      "\r",
      "Iteration:   0%|          | 0/62 [00:00<?, ?it/s]\r",
      "Iteration:  94%|█████████▎| 58/62 [00:08<00:00,  7.08it/s]\r",
      "Iteration:   8%|▊         | 5/62 [00:00<00:07,  7.26it/s]\r",
      "Iteration:   3%|▎         | 2/62 [00:00<00:08,  7.30it/s]\r",
      "Iteration:  48%|████▊     | 30/62 [00:01<00:02, 15.18it/s]\r",
      "Iteration:   3%|▎         | 2/62 [00:00<00:03, 15.09it/s]"
     ]
    },
    {
     "name": "stdout",
     "output_type": "stream",
     "text": [
      "Evaluating...\n"
     ]
    },
    {
     "name": "stderr",
     "output_type": "stream",
     "text": [
      "Iteration: 100%|██████████| 62/62 [00:08<00:00,  7.13it/s]\n",
      "Iteration:   0%|          | 0/62 [00:00<?, ?it/s]"
     ]
    },
    {
     "name": "stdout",
     "output_type": "stream",
     "text": [
      "Evaluating...\n"
     ]
    },
    {
     "name": "stderr",
     "output_type": "stream",
     "text": [
      "Iteration: 100%|██████████| 62/62 [00:04<00:00, 15.18it/s]\n",
      "Iteration: 100%|██████████| 18/18 [00:01<00:00, 16.01it/s]\n",
      "Iteration: 100%|██████████| 62/62 [00:04<00:00, 15.24it/s]\n",
      "Iteration: 100%|██████████| 62/62 [00:04<00:00, 15.28it/s]\n",
      "Iteration: 100%|██████████| 18/18 [00:01<00:00, 15.89it/s]\n",
      "Iteration: 100%|██████████| 7/7 [00:00<00:00, 15.51it/s]s]\n",
      "Iteration: 100%|██████████| 18/18 [00:01<00:00, 15.83it/s]\n",
      "Iteration:  74%|███████▍  | 46/62 [00:06<00:02,  7.25it/s]"
     ]
    },
    {
     "name": "stdout",
     "output_type": "stream",
     "text": [
      "{'Train':  best_epoch_indx:13\n",
      " auc:0.864641624771719 \n",
      " apur:0.8342432671164942 \n",
      " f1:0.7527720993619527 \n",
      " precision:0.7331081081081081 \n",
      " recall:0.773520050922979 \n",
      ", 'Validation':  best_epoch_indx:13\n",
      " auc:0.8341181960884136 \n",
      " apur:0.8026043352886941 \n",
      " f1:0.71875 \n",
      " precision:0.7007616974972797 \n",
      " recall:0.7376861397479955 \n",
      ", 'Test':  best_epoch_indx:13\n",
      " auc:0.8475772718951313 \n",
      " apur:0.8117676731563976 \n",
      " f1:0.7435669920141968 \n",
      " precision:0.7205503009458297 \n",
      " recall:0.768102658111824 \n",
      "}\n",
      "=====Epoch 14\n",
      "Training...\n"
     ]
    },
    {
     "name": "stderr",
     "output_type": "stream",
     "text": [
      "Iteration: 100%|██████████| 7/7 [00:00<00:00, 15.50it/s]s]\n",
      "Iteration:  84%|████████▍ | 52/62 [00:07<00:01,  7.16it/s]"
     ]
    },
    {
     "name": "stdout",
     "output_type": "stream",
     "text": [
      "{'Train':  best_epoch_indx:13\n",
      " auc:0.8677425866993909 \n",
      " apur:0.8356904256687895 \n",
      " f1:0.7400738998992274 \n",
      " precision:0.7834992887624467 \n",
      " recall:0.7012094207511139 \n",
      ", 'Validation':  best_epoch_indx:13\n",
      " auc:0.8496361090862808 \n",
      " apur:0.8114745716381134 \n",
      " f1:0.722255548890222 \n",
      " precision:0.7581863979848866 \n",
      " recall:0.6895761741122566 \n",
      ", 'Test':  best_epoch_indx:13\n",
      " auc:0.852744061451669 \n",
      " apur:0.8132151671169362 \n",
      " f1:0.7309913378248315 \n",
      " precision:0.7695035460992907 \n",
      " recall:0.6961503208065994 \n",
      "}\n",
      "=====Epoch 14\n",
      "Training...\n"
     ]
    },
    {
     "name": "stderr",
     "output_type": "stream",
     "text": [
      "Iteration: 100%|██████████| 62/62 [00:08<00:00,  7.25it/s]\n",
      "Iteration:  23%|██▎       | 14/62 [00:01<00:06,  7.22it/s]"
     ]
    },
    {
     "name": "stdout",
     "output_type": "stream",
     "text": [
      "Evaluating...\n"
     ]
    },
    {
     "name": "stderr",
     "output_type": "stream",
     "text": [
      "Iteration: 100%|██████████| 62/62 [00:08<00:00,  7.31it/s]\n",
      "Iteration:  29%|██▉       | 18/62 [00:02<00:06,  7.18it/s]"
     ]
    },
    {
     "name": "stdout",
     "output_type": "stream",
     "text": [
      "Evaluating...\n"
     ]
    },
    {
     "name": "stderr",
     "output_type": "stream",
     "text": [
      "\r",
      "Iteration:  86%|████████▌ | 6/7 [00:00<00:00, 14.25it/s]\r",
      "Iteration:   6%|▋         | 4/62 [00:00<00:03, 15.12it/s]\r",
      "Iteration:  16%|█▌        | 10/62 [00:00<00:03, 15.00it/s]\r",
      "Iteration:  24%|██▍       | 15/62 [00:02<00:06,  7.21it/s]\r",
      "Iteration:  31%|███       | 19/62 [00:02<00:05,  7.17it/s]\r",
      "Iteration: 100%|██████████| 7/7 [00:00<00:00, 14.49it/s]\n",
      "\r",
      "Iteration:   0%|          | 0/62 [00:00<?, ?it/s]\r",
      "Iteration:  10%|▉         | 6/62 [00:00<00:03, 15.23it/s]\r",
      "Iteration:  19%|█▉        | 12/62 [00:00<00:03, 15.12it/s]\r",
      "Iteration:  26%|██▌       | 16/62 [00:02<00:06,  7.22it/s]\r",
      "Iteration:  32%|███▏      | 20/62 [00:02<00:05,  7.22it/s]"
     ]
    },
    {
     "name": "stdout",
     "output_type": "stream",
     "text": [
      "{'Train':  best_epoch_indx:13\n",
      " auc:0.8655116681622413 \n",
      " apur:0.8339454809279363 \n",
      " f1:0.7529080915249904 \n",
      " precision:0.7560005134129123 \n",
      " recall:0.7498408656906429 \n",
      ", 'Validation':  best_epoch_indx:13\n",
      " auc:0.8522172854933452 \n",
      " apur:0.8246764831924771 \n",
      " f1:0.7383015597920278 \n",
      " precision:0.7447552447552448 \n",
      " recall:0.7319587628865979 \n",
      ", 'Test':  best_epoch_indx:13\n",
      " auc:0.8529219132378915 \n",
      " apur:0.8250215531948756 \n",
      " f1:0.7305277842362241 \n",
      " precision:0.7413874469089193 \n",
      " recall:0.7199816681943172 \n",
      "}\n",
      "=====Epoch 14\n",
      "Training...\n"
     ]
    },
    {
     "name": "stderr",
     "output_type": "stream",
     "text": [
      "Iteration: 100%|██████████| 62/62 [00:04<00:00, 15.14it/s]\n",
      "Iteration: 100%|██████████| 62/62 [00:04<00:00, 15.34it/s]\n",
      "Iteration: 100%|██████████| 18/18 [00:01<00:00, 15.82it/s]\n",
      "Iteration: 100%|██████████| 18/18 [00:01<00:00, 15.85it/s]\n",
      "Iteration: 100%|██████████| 7/7 [00:00<00:00, 15.57it/s]s]\n",
      "Iteration:  66%|██████▌   | 41/62 [00:05<00:02,  7.18it/s]"
     ]
    },
    {
     "name": "stdout",
     "output_type": "stream",
     "text": [
      "{'Train':  best_epoch_indx:14\n",
      " auc:0.8741557723160671 \n",
      " apur:0.8423797090509058 \n",
      " f1:0.7662593144560357 \n",
      " precision:0.7205156950672645 \n",
      " recall:0.8182049649904519 \n",
      ", 'Validation':  best_epoch_indx:14\n",
      " auc:0.8384320486267794 \n",
      " apur:0.7939868262418419 \n",
      " f1:0.7342318059299191 \n",
      " precision:0.6934826883910387 \n",
      " recall:0.7800687285223368 \n",
      ", 'Test':  best_epoch_indx:14\n",
      " auc:0.8524410002870131 \n",
      " apur:0.8174267722835326 \n",
      " f1:0.7440463419866981 \n",
      " precision:0.6994755949979831 \n",
      " recall:0.7946837763519706 \n",
      "}\n",
      "=====Epoch 15\n",
      "Training...\n"
     ]
    },
    {
     "name": "stderr",
     "output_type": "stream",
     "text": [
      "\r",
      "Iteration:  92%|█████████▏| 57/62 [00:07<00:00,  7.24it/s]\r",
      "Iteration:   2%|▏         | 1/62 [00:00<00:08,  7.30it/s]\r",
      "Iteration:  98%|█████████▊| 61/62 [00:08<00:00,  7.22it/s]\r",
      "Iteration:  68%|██████▊   | 42/62 [00:05<00:02,  7.14it/s]\r",
      "Iteration:  94%|█████████▎| 58/62 [00:07<00:00,  7.22it/s]\r",
      "Iteration:   3%|▎         | 2/62 [00:00<00:08,  7.26it/s]\r",
      "Iteration: 100%|██████████| 62/62 [00:08<00:00,  7.46it/s]\r",
      "Iteration: 100%|██████████| 62/62 [00:08<00:00,  7.24it/s]\n",
      "\r",
      "Iteration:   0%|          | 0/62 [00:00<?, ?it/s]"
     ]
    },
    {
     "name": "stdout",
     "output_type": "stream",
     "text": [
      "Evaluating...\n"
     ]
    },
    {
     "name": "stderr",
     "output_type": "stream",
     "text": [
      "Iteration: 100%|██████████| 62/62 [00:08<00:00,  7.29it/s]\n",
      "Iteration:  16%|█▌        | 10/62 [00:00<00:03, 15.01it/s]"
     ]
    },
    {
     "name": "stdout",
     "output_type": "stream",
     "text": [
      "Evaluating...\n"
     ]
    },
    {
     "name": "stderr",
     "output_type": "stream",
     "text": [
      "Iteration: 100%|██████████| 62/62 [00:08<00:00,  7.24it/s]\n",
      "Iteration:  58%|█████▊    | 36/62 [00:02<00:01, 15.26it/s]"
     ]
    },
    {
     "name": "stdout",
     "output_type": "stream",
     "text": [
      "Evaluating...\n"
     ]
    },
    {
     "name": "stderr",
     "output_type": "stream",
     "text": [
      "Iteration: 100%|██████████| 7/7 [00:00<00:00, 14.59it/s]s]\n",
      "Iteration:  84%|████████▍ | 52/62 [00:03<00:00, 15.15it/s]"
     ]
    },
    {
     "name": "stdout",
     "output_type": "stream",
     "text": [
      "{'Train':  best_epoch_indx:14\n",
      " auc:0.8723128214319527 \n",
      " apur:0.8397646040220581 \n",
      " f1:0.7562677694494702 \n",
      " precision:0.7678782312032542 \n",
      " recall:0.7450031826861871 \n",
      ", 'Validation':  best_epoch_indx:14\n",
      " auc:0.8436599673713076 \n",
      " apur:0.8026223612141992 \n",
      " f1:0.7257876312718786 \n",
      " precision:0.7395957193816884 \n",
      " recall:0.7124856815578465 \n",
      ", 'Test':  best_epoch_indx:14\n",
      " auc:0.8582744269458402 \n",
      " apur:0.8249824992107664 \n",
      " f1:0.7446957332711588 \n",
      " precision:0.7579496915045087 \n",
      " recall:0.731897341888176 \n",
      "}\n",
      "=====Epoch 15\n",
      "Training...\n"
     ]
    },
    {
     "name": "stderr",
     "output_type": "stream",
     "text": [
      "Iteration: 100%|██████████| 62/62 [00:04<00:00, 15.09it/s]\n",
      "Iteration: 100%|██████████| 62/62 [00:04<00:00, 15.23it/s]\n",
      "Iteration: 100%|██████████| 18/18 [00:01<00:00, 15.95it/s]\n",
      "Iteration: 100%|██████████| 18/18 [00:01<00:00, 15.89it/s]\n",
      "Iteration: 100%|██████████| 62/62 [00:04<00:00, 15.12it/s]\n",
      "Iteration: 100%|██████████| 18/18 [00:01<00:00, 15.88it/s]\n",
      "Iteration: 100%|██████████| 62/62 [00:08<00:00,  7.31it/s]\n",
      "Iteration:  50%|█████     | 31/62 [00:04<00:04,  7.14it/s]"
     ]
    },
    {
     "name": "stdout",
     "output_type": "stream",
     "text": [
      "Evaluating...\n"
     ]
    },
    {
     "name": "stderr",
     "output_type": "stream",
     "text": [
      "Iteration: 100%|██████████| 7/7 [00:00<00:00, 14.33it/s]s]\n",
      "Iteration:  29%|██▊       | 2/7 [00:00<00:00, 14.36it/s]s]"
     ]
    },
    {
     "name": "stdout",
     "output_type": "stream",
     "text": [
      "{'Train':  best_epoch_indx:14\n",
      " auc:0.8667413104330776 \n",
      " apur:0.83799659698564 \n",
      " f1:0.7554265522463403 \n",
      " precision:0.7489052921306143 \n",
      " recall:0.762062380649268 \n",
      ", 'Validation':  best_epoch_indx:14\n",
      " auc:0.8351286827804583 \n",
      " apur:0.8039170051697422 \n",
      " f1:0.7044025157232704 \n",
      " precision:0.7031963470319634 \n",
      " recall:0.7056128293241696 \n",
      ", 'Test':  best_epoch_indx:14\n",
      " auc:0.8483060059354547 \n",
      " apur:0.8147966002463278 \n",
      " f1:0.739404869251578 \n",
      " precision:0.7275953859804791 \n",
      " recall:0.7516040329972502 \n",
      "}\n",
      "=====Epoch 15\n",
      "Training...\n"
     ]
    },
    {
     "name": "stderr",
     "output_type": "stream",
     "text": [
      "Iteration: 100%|██████████| 7/7 [00:00<00:00, 15.10it/s]s]\n",
      "Iteration:   2%|▏         | 1/62 [00:00<00:08,  7.16it/s]]"
     ]
    },
    {
     "name": "stdout",
     "output_type": "stream",
     "text": [
      "{'Train':  best_epoch_indx:14\n",
      " auc:0.8735443714214135 \n",
      " apur:0.842771400938928 \n",
      " f1:0.734733756717147 \n",
      " precision:0.8130985480383071 \n",
      " recall:0.6701464035646085 \n",
      ", 'Validation':  best_epoch_indx:14\n",
      " auc:0.8514391721722765 \n",
      " apur:0.8150034271752149 \n",
      " f1:0.7105263157894737 \n",
      " precision:0.7842323651452282 \n",
      " recall:0.6494845360824743 \n",
      ", 'Test':  best_epoch_indx:14\n",
      " auc:0.8551302823530137 \n",
      " apur:0.818622671770188 \n",
      " f1:0.7265 \n",
      " precision:0.7992299229922992 \n",
      " recall:0.6659028414298809 \n",
      "}\n",
      "=====Epoch 15\n",
      "Training...\n"
     ]
    },
    {
     "name": "stderr",
     "output_type": "stream",
     "text": [
      "Iteration: 100%|██████████| 62/62 [00:04<00:00, 15.15it/s]\n",
      "Iteration: 100%|██████████| 62/62 [00:08<00:00,  7.12it/s]\n",
      "Iteration:  24%|██▍       | 15/62 [00:02<00:06,  7.15it/s]"
     ]
    },
    {
     "name": "stdout",
     "output_type": "stream",
     "text": [
      "Evaluating...\n"
     ]
    },
    {
     "name": "stderr",
     "output_type": "stream",
     "text": [
      "Iteration: 100%|██████████| 7/7 [00:00<00:00, 15.31it/s]s]\n",
      "Iteration:  26%|██▌       | 16/62 [00:02<00:06,  6.95it/s]"
     ]
    },
    {
     "name": "stdout",
     "output_type": "stream",
     "text": [
      "{'Train':  best_epoch_indx:14\n",
      " auc:0.8672900364951985 \n",
      " apur:0.8342839346222601 \n",
      " f1:0.7409675443968158 \n",
      " precision:0.7958199356913184 \n",
      " recall:0.6931890515595163 \n",
      ", 'Validation':  best_epoch_indx:14\n",
      " auc:0.852465086142062 \n",
      " apur:0.8192132647967917 \n",
      " f1:0.7233782129742963 \n",
      " precision:0.7766097240473062 \n",
      " recall:0.6769759450171822 \n",
      ", 'Test':  best_epoch_indx:14\n",
      " auc:0.8530732633176493 \n",
      " apur:0.8253311729714753 \n",
      " f1:0.7181023720349563 \n",
      " precision:0.7888096544157981 \n",
      " recall:0.6590284142988084 \n",
      "}\n",
      "=====Epoch 15\n",
      "Training...\n"
     ]
    },
    {
     "name": "stderr",
     "output_type": "stream",
     "text": [
      "Iteration: 100%|██████████| 18/18 [00:01<00:00, 15.78it/s]\n",
      "Iteration: 100%|██████████| 62/62 [00:04<00:00, 15.09it/s]\n",
      "Iteration: 100%|██████████| 18/18 [00:01<00:00, 15.69it/s]\n",
      "Iteration: 100%|██████████| 7/7 [00:00<00:00, 14.92it/s]s]\n"
     ]
    },
    {
     "name": "stdout",
     "output_type": "stream",
     "text": [
      "{'Train':  best_epoch_indx:15\n",
      " auc:0.8761376309154745 \n",
      " apur:0.8448786123670744 \n",
      " f1:0.7670230072042761 \n",
      " precision:0.7054611520786577 \n",
      " recall:0.8403564608529599 \n",
      ", 'Validation':  best_epoch_indx:15\n",
      " auc:0.8395273853464003 \n",
      " apur:0.7958529131445065 \n",
      " f1:0.7333333333333334 \n",
      " precision:0.6814159292035398 \n",
      " recall:0.7938144329896907 \n",
      ", 'Test':  best_epoch_indx:15\n",
      " auc:0.8549454212148988 \n",
      " apur:0.8199603621571926 \n",
      " f1:0.7427377220480669 \n",
      " precision:0.68267383787937 \n",
      " recall:0.8143904674610449 \n",
      "}\n",
      "=====Epoch 16\n",
      "Training...\n"
     ]
    },
    {
     "name": "stderr",
     "output_type": "stream",
     "text": [
      "Iteration: 100%|██████████| 62/62 [00:08<00:00,  7.23it/s]\n",
      "Iteration:  65%|██████▍   | 40/62 [00:05<00:03,  6.18it/s]"
     ]
    },
    {
     "name": "stdout",
     "output_type": "stream",
     "text": [
      "Evaluating...\n"
     ]
    },
    {
     "name": "stderr",
     "output_type": "stream",
     "text": [
      "Iteration: 100%|██████████| 62/62 [00:09<00:00,  6.76it/s]\n",
      "Iteration:   0%|          | 0/62 [00:00<?, ?it/s]"
     ]
    },
    {
     "name": "stdout",
     "output_type": "stream",
     "text": [
      "Evaluating...\n"
     ]
    },
    {
     "name": "stderr",
     "output_type": "stream",
     "text": [
      "Iteration: 100%|██████████| 62/62 [00:09<00:00,  6.79it/s]\n",
      "Iteration:  58%|█████▊    | 36/62 [00:02<00:01, 15.23it/s]"
     ]
    },
    {
     "name": "stdout",
     "output_type": "stream",
     "text": [
      "Evaluating...\n"
     ]
    },
    {
     "name": "stderr",
     "output_type": "stream",
     "text": [
      "Iteration: 100%|██████████| 62/62 [00:04<00:00, 15.13it/s]\n",
      "Iteration: 100%|██████████| 7/7 [00:00<00:00, 14.11it/s]s]\n",
      "Iteration:  56%|█████▋    | 35/62 [00:04<00:03,  7.25it/s]"
     ]
    },
    {
     "name": "stdout",
     "output_type": "stream",
     "text": [
      "{'Train':  best_epoch_indx:15\n",
      " auc:0.8772191301769263 \n",
      " apur:0.8472933168579321 \n",
      " f1:0.7498639085465433 \n",
      " precision:0.8054378014910101 \n",
      " recall:0.7014640356460853 \n",
      ", 'Validation':  best_epoch_indx:15\n",
      " auc:0.8464195216772537 \n",
      " apur:0.8081911825851354 \n",
      " f1:0.7082048118445403 \n",
      " precision:0.767379679144385 \n",
      " recall:0.6575028636884307 \n",
      ", 'Test':  best_epoch_indx:15\n",
      " auc:0.863985133269881 \n",
      " apur:0.8337812658723947 \n",
      " f1:0.7382418123614873 \n",
      " precision:0.7977647684938797 \n",
      " recall:0.6869844179651695 \n",
      "}\n",
      "=====Epoch 16\n",
      "Training...\n"
     ]
    },
    {
     "name": "stderr",
     "output_type": "stream",
     "text": [
      "Iteration: 100%|██████████| 62/62 [00:04<00:00, 15.10it/s]\n",
      "Iteration: 100%|██████████| 18/18 [00:01<00:00, 15.84it/s]\n",
      "Iteration: 100%|██████████| 18/18 [00:01<00:00, 15.77it/s]\n",
      "Iteration: 100%|██████████| 62/62 [00:04<00:00, 14.74it/s]\n",
      "Iteration: 100%|██████████| 62/62 [00:08<00:00,  7.28it/s]\n",
      "Iteration:   0%|          | 0/62 [00:00<?, ?it/s]"
     ]
    },
    {
     "name": "stdout",
     "output_type": "stream",
     "text": [
      "Evaluating...\n"
     ]
    },
    {
     "name": "stderr",
     "output_type": "stream",
     "text": [
      "Iteration: 100%|██████████| 18/18 [00:01<00:00, 15.78it/s]\n",
      "Iteration: 100%|██████████| 7/7 [00:00<00:00, 15.12it/s]s]\n"
     ]
    },
    {
     "name": "stdout",
     "output_type": "stream",
     "text": [
      "{'Train':  best_epoch_indx:15\n",
      " auc:0.871903526201933 \n",
      " apur:0.8447800126021836 \n",
      " f1:0.7577169119930439 \n",
      " precision:0.7397526073247636 \n",
      " recall:0.7765754296626353 \n",
      ", 'Validation':  best_epoch_indx:15\n",
      " auc:0.8397472240542114 \n",
      " apur:0.8083570424050016 \n",
      " f1:0.7154835103409726 \n",
      " precision:0.6986899563318777 \n",
      " recall:0.7331042382588774 \n",
      ", 'Test':  best_epoch_indx:15\n",
      " auc:0.8510712127980576 \n",
      " apur:0.8178178863961549 \n",
      " f1:0.740608228980322 \n",
      " precision:0.7231441048034934 \n",
      " recall:0.7589367552703942 \n",
      "}\n",
      "=====Epoch 16\n",
      "Training...\n"
     ]
    },
    {
     "name": "stderr",
     "output_type": "stream",
     "text": [
      "Iteration: 100%|██████████| 7/7 [00:00<00:00, 14.43it/s]s]\n",
      "Iteration:  87%|████████▋ | 54/62 [00:03<00:00, 14.22it/s]"
     ]
    },
    {
     "name": "stdout",
     "output_type": "stream",
     "text": [
      "{'Train':  best_epoch_indx:15\n",
      " auc:0.8783225513846455 \n",
      " apur:0.8485294469037734 \n",
      " f1:0.7446546052631579 \n",
      " precision:0.8064420365147692 \n",
      " recall:0.6916613621896881 \n",
      ", 'Validation':  best_epoch_indx:15\n",
      " auc:0.855785807675842 \n",
      " apur:0.8248280433112336 \n",
      " f1:0.7288449660284125 \n",
      " precision:0.7908847184986595 \n",
      " recall:0.6758304696449027 \n",
      ", 'Test':  best_epoch_indx:15\n",
      " auc:0.8574384233412649 \n",
      " apur:0.8247265891931356 \n",
      " f1:0.7402661409561361 \n",
      " precision:0.8006396588486141 \n",
      " recall:0.6883593033913841 \n",
      "}\n",
      "=====Epoch 16\n",
      "Training...\n"
     ]
    },
    {
     "name": "stderr",
     "output_type": "stream",
     "text": [
      "Iteration: 100%|██████████| 62/62 [00:04<00:00, 14.21it/s]\n",
      "Iteration: 100%|██████████| 62/62 [00:09<00:00,  6.87it/s]\n",
      "Iteration:  44%|████▍     | 8/18 [00:00<00:00, 13.11it/s]]"
     ]
    },
    {
     "name": "stdout",
     "output_type": "stream",
     "text": [
      "Evaluating...\n"
     ]
    },
    {
     "name": "stderr",
     "output_type": "stream",
     "text": [
      "Iteration: 100%|██████████| 18/18 [00:01<00:00, 14.21it/s]\n",
      "Iteration: 100%|██████████| 7/7 [00:00<00:00, 11.84it/s]s]\n",
      "Iteration:  13%|█▎        | 8/62 [00:00<00:06,  8.83it/s]"
     ]
    },
    {
     "name": "stdout",
     "output_type": "stream",
     "text": [
      "{'Train':  best_epoch_indx:15\n",
      " auc:0.8688316891935747 \n",
      " apur:0.8387669531377122 \n",
      " f1:0.7383816293056316 \n",
      " precision:0.7971078648369485 \n",
      " recall:0.6877148313176321 \n",
      ", 'Validation':  best_epoch_indx:15\n",
      " auc:0.8551793228196436 \n",
      " apur:0.8269664843621443 \n",
      " f1:0.7222222222222223 \n",
      " precision:0.7831325301204819 \n",
      " recall:0.6701030927835051 \n",
      ", 'Test':  best_epoch_indx:15\n",
      " auc:0.8568873470715883 \n",
      " apur:0.8312651041054111 \n",
      " f1:0.7237103174603176 \n",
      " precision:0.7886486486486487 \n",
      " recall:0.6686526122823098 \n",
      "}\n",
      "=====Epoch 16\n",
      "Training...\n"
     ]
    },
    {
     "name": "stderr",
     "output_type": "stream",
     "text": [
      "Iteration: 100%|██████████| 62/62 [00:05<00:00, 12.31it/s]\n",
      "Iteration: 100%|██████████| 7/7 [00:00<00:00, 13.58it/s]s]\n",
      "Iteration:  95%|█████████▌| 59/62 [00:08<00:00,  6.16it/s]"
     ]
    },
    {
     "name": "stdout",
     "output_type": "stream",
     "text": [
      "{'Train':  best_epoch_indx:16\n",
      " auc:0.8793069360644229 \n",
      " apur:0.850063819289622 \n",
      " f1:0.7697704474121484 \n",
      " precision:0.7450559923755063 \n",
      " recall:0.7961807765754296 \n",
      ", 'Validation':  best_epoch_indx:16\n",
      " auc:0.8480432426595084 \n",
      " apur:0.8094961841786406 \n",
      " f1:0.7356064840693124 \n",
      " precision:0.7183406113537117 \n",
      " recall:0.7537227949599083 \n",
      ", 'Test':  best_epoch_indx:16\n",
      " auc:0.8622522197224305 \n",
      " apur:0.8292428295564407 \n",
      " f1:0.7541565063178897 \n",
      " precision:0.7303563761270931 \n",
      " recall:0.7795600366636114 \n",
      "}\n",
      "=====Epoch 17\n",
      "Training...\n"
     ]
    },
    {
     "name": "stderr",
     "output_type": "stream",
     "text": [
      "Iteration: 100%|██████████| 18/18 [00:01<00:00, 15.58it/s]\n",
      "Iteration: 100%|██████████| 62/62 [00:09<00:00,  6.81it/s]\n",
      "Iteration:  60%|█████▉    | 37/62 [00:05<00:03,  7.14it/s]"
     ]
    },
    {
     "name": "stdout",
     "output_type": "stream",
     "text": [
      "Evaluating...\n"
     ]
    },
    {
     "name": "stderr",
     "output_type": "stream",
     "text": [
      "Iteration: 100%|██████████| 7/7 [00:00<00:00, 14.90it/s]s]\n",
      "Iteration:   2%|▏         | 1/62 [00:00<00:09,  6.64it/s]]"
     ]
    },
    {
     "name": "stdout",
     "output_type": "stream",
     "text": [
      "{'Train':  best_epoch_indx:16\n",
      " auc:0.8800114981609493 \n",
      " apur:0.8508514857696761 \n",
      " f1:0.7658317276814386 \n",
      " precision:0.7727802981205444 \n",
      " recall:0.7590070019096117 \n",
      ", 'Validation':  best_epoch_indx:16\n",
      " auc:0.8478600437363324 \n",
      " apur:0.8077622576264772 \n",
      " f1:0.7339130434782609 \n",
      " precision:0.7429577464788732 \n",
      " recall:0.7250859106529209 \n",
      ", 'Test':  best_epoch_indx:16\n",
      " auc:0.8640582999581066 \n",
      " apur:0.83199024274449 \n",
      " f1:0.7532887145165013 \n",
      " precision:0.7587168758716876 \n",
      " recall:0.7479376718606783 \n",
      "}\n",
      "=====Epoch 17\n",
      "Training...\n"
     ]
    },
    {
     "name": "stderr",
     "output_type": "stream",
     "text": [
      "Iteration: 100%|██████████| 62/62 [00:09<00:00,  6.89it/s]\n",
      "Iteration:  19%|█▉        | 12/62 [00:01<00:04, 12.38it/s]"
     ]
    },
    {
     "name": "stdout",
     "output_type": "stream",
     "text": [
      "Evaluating...\n"
     ]
    },
    {
     "name": "stderr",
     "output_type": "stream",
     "text": [
      "Iteration: 100%|██████████| 62/62 [00:09<00:00,  6.60it/s]\n",
      "Iteration:   3%|▎         | 2/62 [00:00<00:04, 12.85it/s]]"
     ]
    },
    {
     "name": "stdout",
     "output_type": "stream",
     "text": [
      "Evaluating...\n"
     ]
    },
    {
     "name": "stderr",
     "output_type": "stream",
     "text": [
      "Iteration: 100%|██████████| 62/62 [00:04<00:00, 13.65it/s]\n",
      "Iteration: 100%|██████████| 18/18 [00:01<00:00, 15.31it/s]\n",
      "Iteration: 100%|██████████| 62/62 [00:04<00:00, 12.66it/s]\n",
      "Iteration: 100%|██████████| 18/18 [00:01<00:00, 14.03it/s]\n",
      "Iteration: 100%|██████████| 62/62 [00:04<00:00, 12.69it/s]\n",
      "Iteration: 100%|██████████| 62/62 [00:09<00:00,  6.55it/s]\n",
      "Iteration:  94%|█████████▎| 58/62 [00:08<00:00,  6.75it/s]"
     ]
    },
    {
     "name": "stdout",
     "output_type": "stream",
     "text": [
      "Evaluating...\n"
     ]
    },
    {
     "name": "stderr",
     "output_type": "stream",
     "text": [
      "Iteration: 100%|██████████| 62/62 [00:09<00:00,  6.72it/s]\n",
      "Iteration:   3%|▎         | 2/62 [00:00<00:05, 11.01it/s]]"
     ]
    },
    {
     "name": "stdout",
     "output_type": "stream",
     "text": [
      "Evaluating...\n"
     ]
    },
    {
     "name": "stderr",
     "output_type": "stream",
     "text": [
      "Iteration: 100%|██████████| 18/18 [00:01<00:00, 14.34it/s]\n",
      "Iteration: 100%|██████████| 7/7 [00:00<00:00, 11.17it/s]s]\n",
      "Iteration:  35%|███▌      | 22/62 [00:01<00:02, 14.05it/s]"
     ]
    },
    {
     "name": "stdout",
     "output_type": "stream",
     "text": [
      "{'Train':  best_epoch_indx:16\n",
      " auc:0.8758003904968383 \n",
      " apur:0.8469980020318478 \n",
      " f1:0.7620245582509733 \n",
      " precision:0.7195701357466063 \n",
      " recall:0.8098026734563972 \n",
      ", 'Validation':  best_epoch_indx:16\n",
      " auc:0.8438904123325659 \n",
      " apur:0.8120073470718582 \n",
      " f1:0.7300053676865272 \n",
      " precision:0.6868686868686869 \n",
      " recall:0.7789232531500573 \n",
      ", 'Test':  best_epoch_indx:16\n",
      " auc:0.85357493364831 \n",
      " apur:0.8190179576325776 \n",
      " f1:0.7454858125537404 \n",
      " precision:0.7020242914979757 \n",
      " recall:0.7946837763519706 \n",
      "}\n",
      "=====Epoch 17\n",
      "Training...\n"
     ]
    },
    {
     "name": "stderr",
     "output_type": "stream",
     "text": [
      "Iteration: 100%|██████████| 7/7 [00:00<00:00, 13.28it/s]s]\n"
     ]
    },
    {
     "name": "stdout",
     "output_type": "stream",
     "text": [
      "{'Train':  best_epoch_indx:16\n",
      " auc:0.881107879692616 \n",
      " apur:0.8526808099417562 \n",
      " f1:0.7531482735274205 \n",
      " precision:0.8043383947939262 \n",
      " recall:0.7080840229153406 \n",
      ", 'Validation':  best_epoch_indx:16\n",
      " auc:0.8565668136114873 \n",
      " apur:0.827004634900228 \n",
      " f1:0.7274954072259646 \n",
      " precision:0.781578947368421 \n",
      " recall:0.6804123711340206 \n",
      ", 'Test':  best_epoch_indx:16\n",
      " auc:0.8591372015295021 \n",
      " apur:0.8275222708120149 \n",
      " f1:0.7365342432366561 \n",
      " precision:0.786569495054659 \n",
      " recall:0.6924839596700275 \n",
      "}\n",
      "=====Epoch 17\n",
      "Training...\n"
     ]
    },
    {
     "name": "stderr",
     "output_type": "stream",
     "text": [
      "Iteration: 100%|██████████| 62/62 [00:05<00:00, 12.12it/s]\n",
      "Iteration: 100%|██████████| 62/62 [00:04<00:00, 13.75it/s]\n",
      "Iteration: 100%|██████████| 7/7 [00:00<00:00, 12.10it/s]s]\n",
      "Iteration: 100%|██████████| 18/18 [00:01<00:00, 14.23it/s]\n",
      "Iteration: 100%|██████████| 18/18 [00:01<00:00, 15.13it/s]\n",
      "Iteration:   2%|▏         | 1/62 [00:00<00:09,  6.56it/s]]"
     ]
    },
    {
     "name": "stdout",
     "output_type": "stream",
     "text": [
      "{'Train':  best_epoch_indx:16\n",
      " auc:0.8759076967415129 \n",
      " apur:0.8450401401105756 \n",
      " f1:0.7520193861066236 \n",
      " precision:0.7978860162833881 \n",
      " recall:0.7111394016549968 \n",
      ", 'Validation':  best_epoch_indx:16\n",
      " auc:0.8622508012542376 \n",
      " apur:0.8323487579762672 \n",
      " f1:0.7399267399267399 \n",
      " precision:0.792156862745098 \n",
      " recall:0.6941580756013745 \n",
      ", 'Test':  best_epoch_indx:16\n",
      " auc:0.8581486234629208 \n",
      " apur:0.8308933364163914 \n",
      " f1:0.7324981577008105 \n",
      " precision:0.7893065113816834 \n",
      " recall:0.6833180568285976 \n",
      "}\n",
      "=====Epoch 17\n",
      "Training...\n"
     ]
    },
    {
     "name": "stderr",
     "output_type": "stream",
     "text": [
      "Iteration: 100%|██████████| 7/7 [00:00<00:00, 13.10it/s]s]\n",
      "Iteration:  98%|█████████▊| 61/62 [00:09<00:00,  6.70it/s]"
     ]
    },
    {
     "name": "stdout",
     "output_type": "stream",
     "text": [
      "{'Train':  best_epoch_indx:17\n",
      " auc:0.8849463796728749 \n",
      " apur:0.8566336100016241 \n",
      " f1:0.776733615871261 \n",
      " precision:0.7504153809636839 \n",
      " recall:0.8049649904519415 \n",
      ", 'Validation':  best_epoch_indx:17\n",
      " auc:0.846778205884735 \n",
      " apur:0.8073128843976781 \n",
      " f1:0.7359017308766053 \n",
      " precision:0.7178649237472767 \n",
      " recall:0.7548682703321878 \n",
      ", 'Test':  best_epoch_indx:17\n",
      " auc:0.8630058606227258 \n",
      " apur:0.8325780397653417 \n",
      " f1:0.752707182320442 \n",
      " precision:0.7268459240290226 \n",
      " recall:0.7804766269477543 \n",
      "}\n",
      "=====Epoch 18\n",
      "Training...\n",
      "Evaluating...\n"
     ]
    },
    {
     "name": "stderr",
     "output_type": "stream",
     "text": [
      "Iteration: 100%|██████████| 62/62 [00:09<00:00,  6.40it/s]\n",
      "Iteration: 100%|██████████| 7/7 [00:00<00:00, 13.31it/s]s]\n",
      "Iteration:  69%|██████▉   | 43/62 [00:06<00:02,  6.62it/s]"
     ]
    },
    {
     "name": "stdout",
     "output_type": "stream",
     "text": [
      "{'Train':  best_epoch_indx:17\n",
      " auc:0.8847869267517726 \n",
      " apur:0.8582460415579471 \n",
      " f1:0.7737623762376238 \n",
      " precision:0.7527995183624323 \n",
      " recall:0.7959261616804583 \n",
      ", 'Validation':  best_epoch_indx:17\n",
      " auc:0.8508413651598074 \n",
      " apur:0.8138993346536141 \n",
      " f1:0.7412823397075365 \n",
      " precision:0.7281767955801105 \n",
      " recall:0.7548682703321878 \n",
      ", 'Test':  best_epoch_indx:17\n",
      " auc:0.8681388864277029 \n",
      " apur:0.8367634152313141 \n",
      " f1:0.7610105074893807 \n",
      " precision:0.7429070274989088 \n",
      " recall:0.7800183318056828 \n",
      "}\n",
      "=====Epoch 18\n",
      "Training...\n"
     ]
    },
    {
     "name": "stderr",
     "output_type": "stream",
     "text": [
      "Iteration: 100%|██████████| 62/62 [00:09<00:00,  6.71it/s]\n",
      "Iteration:   0%|          | 0/62 [00:00<?, ?it/s]"
     ]
    },
    {
     "name": "stdout",
     "output_type": "stream",
     "text": [
      "Evaluating...\n"
     ]
    },
    {
     "name": "stderr",
     "output_type": "stream",
     "text": [
      "Iteration: 100%|██████████| 62/62 [00:09<00:00,  6.80it/s]\n",
      "Iteration:   0%|          | 0/62 [00:00<?, ?it/s]"
     ]
    },
    {
     "name": "stdout",
     "output_type": "stream",
     "text": [
      "Evaluating...\n"
     ]
    },
    {
     "name": "stderr",
     "output_type": "stream",
     "text": [
      "Iteration: 100%|██████████| 62/62 [00:04<00:00, 13.42it/s]\n",
      "Iteration: 100%|██████████| 62/62 [00:04<00:00, 14.65it/s]\n",
      "Iteration: 100%|██████████| 18/18 [00:01<00:00, 13.90it/s]\n",
      "Iteration: 100%|██████████| 18/18 [00:01<00:00, 15.23it/s]\n",
      "Iteration: 100%|██████████| 62/62 [00:04<00:00, 14.63it/s]\n",
      "Iteration: 100%|██████████| 18/18 [00:01<00:00, 15.24it/s]\n",
      "Iteration: 100%|██████████| 62/62 [00:10<00:00,  6.20it/s]\n",
      "Iteration:   3%|▎         | 2/62 [00:00<00:04, 12.15it/s]]"
     ]
    },
    {
     "name": "stdout",
     "output_type": "stream",
     "text": [
      "Evaluating...\n"
     ]
    },
    {
     "name": "stderr",
     "output_type": "stream",
     "text": [
      "Iteration: 100%|██████████| 62/62 [00:10<00:00,  5.96it/s]\n",
      "Iteration:   0%|          | 0/62 [00:00<?, ?it/s]"
     ]
    },
    {
     "name": "stdout",
     "output_type": "stream",
     "text": [
      "Evaluating...\n"
     ]
    },
    {
     "name": "stderr",
     "output_type": "stream",
     "text": [
      "Iteration: 100%|██████████| 7/7 [00:00<00:00, 14.13it/s]s]\n",
      "Iteration:  86%|████████▌ | 6/7 [00:00<00:00, 10.55it/s]"
     ]
    },
    {
     "name": "stdout",
     "output_type": "stream",
     "text": [
      "{'Train':  best_epoch_indx:17\n",
      " auc:0.8842511373733587 \n",
      " apur:0.8557781634957476 \n",
      " f1:0.7595855606150597 \n",
      " precision:0.7885722115648123 \n",
      " recall:0.7326543602800764 \n",
      ", 'Validation':  best_epoch_indx:17\n",
      " auc:0.858853907536611 \n",
      " apur:0.8290695345027889 \n",
      " f1:0.729093050647821 \n",
      " precision:0.7503030303030302 \n",
      " recall:0.709049255441008 \n",
      ", 'Test':  best_epoch_indx:17\n",
      " auc:0.8622648729889795 \n",
      " apur:0.8293002571299624 \n",
      " f1:0.7444391859914813 \n",
      " precision:0.7695694716242661 \n",
      " recall:0.7208982584784601 \n",
      "}\n",
      "=====Epoch 18\n",
      "Training...\n",
      "{'Train':  best_epoch_indx:17\n",
      " auc:0.8795001723830966 \n",
      " apur:0.8538875431853294 \n",
      " f1:0.7690388573567019 \n",
      " precision:0.7538517975055026 \n",
      " recall:0.7848504137492043 \n",
      ", 'Validation':  best_epoch_indx:17\n",
      " auc:0.8482635634697491 \n",
      " apur:0.8192188101227866 \n",
      " f1:0.7311586051743533 \n",
      " precision:0.7182320441988951 \n",
      " recall:0.7445589919816724 \n",
      ", 'Test':  best_epoch_indx:17\n",
      " auc:0.8578744799222271 \n",
      " apur:0.8252952797866673 \n",
      " f1:0.7488809310653537 \n",
      " precision:0.7318460192475941 \n",
      " recall:0.7667277726856095 \n",
      "}\n",
      "=====Epoch 18\n",
      "Training...\n"
     ]
    },
    {
     "name": "stderr",
     "output_type": "stream",
     "text": [
      "Iteration: 100%|██████████| 7/7 [00:00<00:00, 10.74it/s]s]\n",
      "Iteration: 100%|██████████| 62/62 [00:04<00:00, 12.96it/s]\n",
      "Iteration: 100%|██████████| 7/7 [00:00<00:00, 13.50it/s]s]\n",
      "Iteration:   2%|▏         | 1/62 [00:00<00:09,  6.70it/s]]"
     ]
    },
    {
     "name": "stdout",
     "output_type": "stream",
     "text": [
      "{'Train':  best_epoch_indx:17\n",
      " auc:0.8780033511988514 \n",
      " apur:0.8472570421126916 \n",
      " f1:0.7623544631306597 \n",
      " precision:0.7748849441157133 \n",
      " recall:0.7502227880330999 \n",
      ", 'Validation':  best_epoch_indx:17\n",
      " auc:0.8663158889390276 \n",
      " apur:0.8369048095914884 \n",
      " f1:0.7485448195576252 \n",
      " precision:0.7609467455621302 \n",
      " recall:0.736540664375716 \n",
      ", 'Test':  best_epoch_indx:17\n",
      " auc:0.8597880821035206 \n",
      " apur:0.8330233962963243 \n",
      " f1:0.7339622641509433 \n",
      " precision:0.7560738581146744 \n",
      " recall:0.7131072410632447 \n",
      "}\n",
      "=====Epoch 18\n",
      "Training...\n"
     ]
    },
    {
     "name": "stderr",
     "output_type": "stream",
     "text": [
      "Iteration: 100%|██████████| 18/18 [00:01<00:00, 15.31it/s]\n",
      "Iteration: 100%|██████████| 7/7 [00:00<00:00, 15.07it/s]s]\n",
      "Iteration:  39%|███▊      | 24/62 [00:04<00:06,  5.85it/s]"
     ]
    },
    {
     "name": "stdout",
     "output_type": "stream",
     "text": [
      "{'Train':  best_epoch_indx:18\n",
      " auc:0.8878812695181082 \n",
      " apur:0.8594265574476143 \n",
      " f1:0.776338774772604 \n",
      " precision:0.7367939629544935 \n",
      " recall:0.8203691915977085 \n",
      ", 'Validation':  best_epoch_indx:18\n",
      " auc:0.8506861281775371 \n",
      " apur:0.8118867801141064 \n",
      " f1:0.7340946166394781 \n",
      " precision:0.6987577639751553 \n",
      " recall:0.7731958762886598 \n",
      ", 'Test':  best_epoch_indx:18\n",
      " auc:0.8631110987664609 \n",
      " apur:0.8308878139162332 \n",
      " f1:0.752501087429317 \n",
      " precision:0.7160596026490066 \n",
      " recall:0.7928505957836847 \n",
      "}\n",
      "=====Epoch 19\n",
      "Training...\n"
     ]
    },
    {
     "name": "stderr",
     "output_type": "stream",
     "text": [
      "Iteration: 100%|██████████| 62/62 [00:05<00:00, 11.61it/s]\n",
      "Iteration: 100%|██████████| 18/18 [00:01<00:00, 12.99it/s]\n",
      "Iteration: 100%|██████████| 62/62 [00:08<00:00,  7.07it/s]\n",
      "Iteration:  66%|██████▌   | 41/62 [00:06<00:03,  6.47it/s]"
     ]
    },
    {
     "name": "stdout",
     "output_type": "stream",
     "text": [
      "Evaluating...\n"
     ]
    },
    {
     "name": "stderr",
     "output_type": "stream",
     "text": [
      "Iteration: 100%|██████████| 62/62 [00:10<00:00,  5.94it/s]\n",
      "Iteration:   3%|▎         | 2/62 [00:00<00:05, 11.32it/s]]"
     ]
    },
    {
     "name": "stdout",
     "output_type": "stream",
     "text": [
      "Evaluating...\n"
     ]
    },
    {
     "name": "stderr",
     "output_type": "stream",
     "text": [
      "Iteration: 100%|██████████| 62/62 [00:09<00:00,  6.59it/s]\n",
      "Iteration:  77%|███████▋  | 48/62 [00:03<00:00, 14.44it/s]"
     ]
    },
    {
     "name": "stdout",
     "output_type": "stream",
     "text": [
      "Evaluating...\n"
     ]
    },
    {
     "name": "stderr",
     "output_type": "stream",
     "text": [
      "Iteration: 100%|██████████| 62/62 [00:08<00:00,  7.13it/s]\n",
      "Iteration:  45%|████▌     | 28/62 [00:02<00:03, 11.11it/s]"
     ]
    },
    {
     "name": "stdout",
     "output_type": "stream",
     "text": [
      "Evaluating...\n"
     ]
    },
    {
     "name": "stderr",
     "output_type": "stream",
     "text": [
      "\r",
      "Iteration:  26%|██▌       | 16/62 [00:01<00:03, 14.31it/s]\r",
      "Iteration: 100%|██████████| 7/7 [00:00<00:00, 11.14it/s]\n",
      "\r",
      "Iteration: 100%|██████████| 62/62 [00:04<00:00, 13.70it/s]\r",
      "Iteration: 100%|██████████| 62/62 [00:04<00:00, 13.87it/s]\n",
      "\r",
      "Iteration:   0%|          | 0/62 [00:00<?, ?it/s]\r",
      "Iteration:   6%|▋         | 4/62 [00:00<00:03, 14.69it/s]\r",
      "Iteration:  29%|██▉       | 18/62 [00:01<00:03, 14.36it/s]\r",
      "Iteration:  48%|████▊     | 30/62 [00:02<00:02, 11.05it/s]"
     ]
    },
    {
     "name": "stdout",
     "output_type": "stream",
     "text": [
      "{'Train':  best_epoch_indx:18\n",
      " auc:0.8857652291087468 \n",
      " apur:0.8590475373566693 \n",
      " f1:0.7688157894736841 \n",
      " precision:0.7955071477195371 \n",
      " recall:0.743857415658816 \n",
      ", 'Validation':  best_epoch_indx:18\n",
      " auc:0.8540955565583287 \n",
      " apur:0.81707085059349 \n",
      " f1:0.7312986235786954 \n",
      " precision:0.7656641604010025 \n",
      " recall:0.699885452462772 \n",
      ", 'Test':  best_epoch_indx:18\n",
      " auc:0.8675400464129954 \n",
      " apur:0.8391478190929423 \n",
      " f1:0.7551552500592558 \n",
      " precision:0.7820324005891016 \n",
      " recall:0.73006416131989 \n",
      "}\n",
      "=====Epoch 19\n",
      "Training...\n"
     ]
    },
    {
     "name": "stderr",
     "output_type": "stream",
     "text": [
      "Iteration: 100%|██████████| 18/18 [00:01<00:00, 15.20it/s]\n",
      "Iteration: 100%|██████████| 62/62 [00:05<00:00, 10.70it/s]\n",
      "Iteration: 100%|██████████| 62/62 [00:04<00:00, 13.84it/s]\n",
      "Iteration: 100%|██████████| 62/62 [00:04<00:00, 14.56it/s]\n",
      "Iteration: 100%|██████████| 18/18 [00:01<00:00, 15.21it/s]\n",
      "Iteration: 100%|██████████| 18/18 [00:01<00:00, 12.83it/s]\n",
      "Iteration: 100%|██████████| 18/18 [00:01<00:00, 15.06it/s]\n",
      "Iteration: 100%|██████████| 7/7 [00:00<00:00, 12.21it/s]s]\n",
      "Iteration:   0%|          | 0/62 [00:00<?, ?it/s]5.85it/s]"
     ]
    },
    {
     "name": "stdout",
     "output_type": "stream",
     "text": [
      "{'Train':  best_epoch_indx:18\n",
      " auc:0.8892404006831893 \n",
      " apur:0.8644464317576643 \n",
      " f1:0.7622096587425924 \n",
      " precision:0.8196601230588925 \n",
      " recall:0.7122851686823679 \n",
      ", 'Validation':  best_epoch_indx:18\n",
      " auc:0.8614736521380278 \n",
      " apur:0.8337928033914764 \n",
      " f1:0.7274939172749392 \n",
      " precision:0.7756160830090791 \n",
      " recall:0.6849942726231386 \n",
      ", 'Test':  best_epoch_indx:18\n",
      " auc:0.8650856255805843 \n",
      " apur:0.8349998875499307 \n",
      " f1:0.7370488583353793 \n",
      " precision:0.7937599153886833 \n",
      " recall:0.6879010082493126 \n",
      "}\n",
      "=====Epoch 19\n",
      "Training...\n"
     ]
    },
    {
     "name": "stderr",
     "output_type": "stream",
     "text": [
      "Iteration: 100%|██████████| 7/7 [00:00<00:00, 12.60it/s]s]\n",
      "Iteration:  34%|███▍      | 21/62 [00:03<00:05,  6.84it/s]"
     ]
    },
    {
     "name": "stdout",
     "output_type": "stream",
     "text": [
      "{'Train':  best_epoch_indx:18\n",
      " auc:0.8826146436909871 \n",
      " apur:0.8537861767852355 \n",
      " f1:0.7637181012825599 \n",
      " precision:0.7943886673084858 \n",
      " recall:0.7353278166772756 \n",
      ", 'Validation':  best_epoch_indx:18\n",
      " auc:0.8668433089968028 \n",
      " apur:0.8388964648941717 \n",
      " f1:0.7434052757793765 \n",
      " precision:0.779874213836478 \n",
      " recall:0.7101947308132875 \n",
      ", 'Test':  best_epoch_indx:18\n",
      " auc:0.863887114605275 \n",
      " apur:0.8382026347713075 \n",
      " f1:0.7370450711014703 \n",
      " precision:0.7773258769700051 \n",
      " recall:0.7007332722273144 \n",
      "}\n",
      "=====Epoch 19\n",
      "Training...\n"
     ]
    },
    {
     "name": "stderr",
     "output_type": "stream",
     "text": [
      "Iteration: 100%|██████████| 7/7 [00:00<00:00, 12.91it/s]s]\n"
     ]
    },
    {
     "name": "stdout",
     "output_type": "stream",
     "text": [
      "{'Train':  best_epoch_indx:18\n",
      " auc:0.8822764036420173 \n",
      " apur:0.8566739678862277 \n",
      " f1:0.7695719937657356 \n",
      " precision:0.7272006344171292 \n",
      " recall:0.8171865054105665 \n",
      ", 'Validation':  best_epoch_indx:18\n",
      " auc:0.8482727234159079 \n",
      " apur:0.8186365476430164 \n",
      " f1:0.7367292225201072 \n",
      " precision:0.6925403225806451 \n",
      " recall:0.7869415807560137 \n",
      ", 'Test':  best_epoch_indx:18\n",
      " auc:0.8589346251009902 \n",
      " apur:0.8254684756545156 \n",
      " f1:0.7523645743766123 \n",
      " precision:0.708502024291498 \n",
      " recall:0.8020164986251146 \n",
      "}\n",
      "=====Epoch 19\n",
      "Training...\n",
      "Evaluating...\n",
      "{'Train':  best_epoch_indx:19\n",
      " auc:0.8894687299072278 \n",
      " apur:0.8613718259509991 \n",
      " f1:0.7780825115247709 \n",
      " precision:0.7182719241542771 \n",
      " recall:0.8487587523870146 \n",
      ", 'Validation':  best_epoch_indx:19\n",
      " auc:0.8503611911401143 \n",
      " apur:0.811219094316548 \n",
      " f1:0.7454931071049842 \n",
      " precision:0.6939782823297137 \n",
      " recall:0.8052691867124857 \n",
      ", 'Test':  best_epoch_indx:19\n",
      " auc:0.8639548556138841 \n",
      " apur:0.8325245302045048 \n",
      " f1:0.751258389261745 \n",
      " precision:0.6925754060324826 \n",
      " recall:0.8208065994500459 \n",
      "}\n",
      "=====Epoch 20\n",
      "Training...\n"
     ]
    },
    {
     "name": "stderr",
     "output_type": "stream",
     "text": [
      "Iteration: 100%|██████████| 62/62 [00:10<00:00,  5.84it/s]\n",
      "Iteration: 100%|██████████| 7/7 [00:00<00:00, 14.34it/s]\n",
      "Iteration: 100%|██████████| 62/62 [00:04<00:00, 14.30it/s]\n",
      "Iteration: 100%|██████████| 62/62 [00:09<00:00,  6.51it/s]\n",
      "Iteration:  61%|██████▏   | 38/62 [00:05<00:03,  7.26it/s]"
     ]
    },
    {
     "name": "stdout",
     "output_type": "stream",
     "text": [
      "Evaluating...\n"
     ]
    },
    {
     "name": "stderr",
     "output_type": "stream",
     "text": [
      "Iteration: 100%|██████████| 18/18 [00:01<00:00, 15.44it/s]\n",
      "Iteration: 100%|██████████| 62/62 [00:09<00:00,  6.62it/s]\n",
      "Iteration:  97%|█████████▋| 60/62 [00:08<00:00,  7.35it/s]"
     ]
    },
    {
     "name": "stdout",
     "output_type": "stream",
     "text": [
      "Evaluating...\n"
     ]
    },
    {
     "name": "stderr",
     "output_type": "stream",
     "text": [
      "Iteration: 100%|██████████| 62/62 [00:09<00:00,  6.82it/s]\n",
      "Iteration:  87%|████████▋ | 54/62 [00:03<00:00, 15.33it/s]"
     ]
    },
    {
     "name": "stdout",
     "output_type": "stream",
     "text": [
      "Evaluating...\n"
     ]
    },
    {
     "name": "stderr",
     "output_type": "stream",
     "text": [
      "\r",
      "Iteration:  13%|█▎        | 8/62 [00:00<00:03, 14.78it/s]\r",
      "Iteration: 100%|██████████| 62/62 [00:09<00:00,  7.28it/s]\r",
      "Iteration: 100%|██████████| 62/62 [00:09<00:00,  6.74it/s]\n",
      "\r",
      "Iteration:   0%|          | 0/62 [00:00<?, ?it/s]\r",
      "Iteration:   6%|▋         | 4/62 [00:00<00:03, 15.29it/s]\r",
      "Iteration:  90%|█████████ | 56/62 [00:03<00:00, 15.27it/s]\r",
      "Iteration:  16%|█▌        | 10/62 [00:00<00:03, 15.09it/s]\r",
      "Iteration:   3%|▎         | 2/62 [00:00<00:03, 15.24it/s]\r",
      "Iteration:  10%|▉         | 6/62 [00:00<00:03, 15.22it/s]\r",
      "Iteration:  94%|█████████▎| 58/62 [00:03<00:00, 15.22it/s]"
     ]
    },
    {
     "name": "stdout",
     "output_type": "stream",
     "text": [
      "Evaluating...\n"
     ]
    },
    {
     "name": "stderr",
     "output_type": "stream",
     "text": [
      "Iteration: 100%|██████████| 62/62 [00:04<00:00, 15.20it/s]\n",
      "Iteration: 100%|██████████| 7/7 [00:00<00:00, 14.59it/s]s]\n",
      "Iteration:  89%|████████▉ | 16/18 [00:01<00:00, 14.82it/s]"
     ]
    },
    {
     "name": "stdout",
     "output_type": "stream",
     "text": [
      "{'Train':  best_epoch_indx:19\n",
      " auc:0.8886441756842776 \n",
      " apur:0.86160852832151 \n",
      " f1:0.7744215938303342 \n",
      " precision:0.7819597663854639 \n",
      " recall:0.7670273711012094 \n",
      ", 'Validation':  best_epoch_indx:19\n",
      " auc:0.8546692584493272 \n",
      " apur:0.8163554273216432 \n",
      " f1:0.7356051703877791 \n",
      " precision:0.7551266586248492 \n",
      " recall:0.7170675830469645 \n",
      ", 'Test':  best_epoch_indx:19\n",
      " auc:0.8694510244725592 \n",
      " apur:0.838660206380916 \n",
      " f1:0.7591003941571993 \n",
      " precision:0.7681839511966213 \n",
      " recall:0.7502291475710358 \n",
      "}\n",
      "=====Epoch 20\n",
      "Training...\n"
     ]
    },
    {
     "name": "stderr",
     "output_type": "stream",
     "text": [
      "Iteration: 100%|██████████| 18/18 [00:01<00:00, 15.62it/s]\n",
      "Iteration: 100%|██████████| 62/62 [00:04<00:00, 15.16it/s]\n",
      "Iteration: 100%|██████████| 62/62 [00:04<00:00, 15.22it/s]\n",
      "Iteration: 100%|██████████| 62/62 [00:04<00:00, 15.23it/s]\n",
      "Iteration: 100%|██████████| 18/18 [00:01<00:00, 15.99it/s]\n",
      "Iteration: 100%|██████████| 18/18 [00:01<00:00, 15.94it/s]\n",
      "Iteration: 100%|██████████| 7/7 [00:00<00:00, 15.42it/s]s]\n",
      "Iteration: 100%|██████████| 18/18 [00:01<00:00, 15.79it/s]\n",
      "Iteration:   2%|▏         | 1/62 [00:00<00:08,  6.80it/s]]"
     ]
    },
    {
     "name": "stdout",
     "output_type": "stream",
     "text": [
      "{'Train':  best_epoch_indx:19\n",
      " auc:0.8841139776789197 \n",
      " apur:0.8541632606662034 \n",
      " f1:0.7646008333884516 \n",
      " precision:0.795704845814978 \n",
      " recall:0.7358370464672184 \n",
      ", 'Validation':  best_epoch_indx:19\n",
      " auc:0.8648271566370077 \n",
      " apur:0.8358429085379679 \n",
      " f1:0.7437425506555424 \n",
      " precision:0.7751552795031056 \n",
      " recall:0.7147766323024055 \n",
      ", 'Test':  best_epoch_indx:19\n",
      " auc:0.864135788729181 \n",
      " apur:0.8371086357453515 \n",
      " f1:0.7383132530120483 \n",
      " precision:0.7784552845528455 \n",
      " recall:0.7021081576535289 \n",
      "}\n",
      "=====Epoch 20\n",
      "Training...\n"
     ]
    },
    {
     "name": "stderr",
     "output_type": "stream",
     "text": [
      "Iteration: 100%|██████████| 7/7 [00:00<00:00, 14.92it/s]s]\n",
      "Iteration:  18%|█▊        | 11/62 [00:01<00:07,  7.19it/s]"
     ]
    },
    {
     "name": "stdout",
     "output_type": "stream",
     "text": [
      "{'Train':  best_epoch_indx:19\n",
      " auc:0.8909555317789534 \n",
      " apur:0.8657889594994641 \n",
      " f1:0.7700086487924954 \n",
      " precision:0.806438127090301 \n",
      " recall:0.736728198599618 \n",
      ", 'Validation':  best_epoch_indx:19\n",
      " auc:0.8612403145621932 \n",
      " apur:0.8339064704825248 \n",
      " f1:0.7332144979203802 \n",
      " precision:0.7617283950617284 \n",
      " recall:0.7067583046964491 \n",
      ", 'Test':  best_epoch_indx:19\n",
      " auc:0.8666427489067269 \n",
      " apur:0.8375687169267483 \n",
      " f1:0.7439198855507868 \n",
      " precision:0.7753479125248509 \n",
      " recall:0.7149404216315307 \n",
      "}\n",
      "=====Epoch 20\n",
      "Training...\n"
     ]
    },
    {
     "name": "stderr",
     "output_type": "stream",
     "text": [
      "Iteration: 100%|██████████| 62/62 [00:08<00:00,  7.21it/s]\n",
      "Iteration: 100%|██████████| 7/7 [00:00<00:00, 14.65it/s]]]\n"
     ]
    },
    {
     "name": "stdout",
     "output_type": "stream",
     "text": [
      "Evaluating...\n",
      "{'Train':  best_epoch_indx:19\n",
      " auc:0.8839561712255397 \n",
      " apur:0.8587085880467693 \n",
      " f1:0.7722089963663701 \n",
      " precision:0.7602072283212039 \n",
      " recall:0.7845957988542329 \n",
      ", 'Validation':  best_epoch_indx:19\n",
      " auc:0.8517882143311697 \n",
      " apur:0.8225960962164263 \n",
      " f1:0.7303561334087056 \n",
      " precision:0.7209821428571429 \n",
      " recall:0.7399770904925544 \n",
      ", 'Test':  best_epoch_indx:19\n",
      " auc:0.8605399701591052 \n",
      " apur:0.8268974026891749 \n",
      " f1:0.7540983606557377 \n",
      " precision:0.7393218846323205 \n",
      " recall:0.7694775435380385 \n",
      "}\n",
      "=====Epoch 20\n",
      "Training...\n"
     ]
    },
    {
     "name": "stderr",
     "output_type": "stream",
     "text": [
      "Iteration: 100%|██████████| 7/7 [00:00<00:00, 15.45it/s]]]\n",
      "Iteration:  13%|█▎        | 8/62 [00:00<00:03, 15.15it/s]]"
     ]
    },
    {
     "name": "stdout",
     "output_type": "stream",
     "text": [
      "{'Train':  best_epoch_indx:20\n",
      " auc:0.8917021782269725 \n",
      " apur:0.8639126409586544 \n",
      " f1:0.7789229878401853 \n",
      " precision:0.7143919277748274 \n",
      " recall:0.8562698917886696 \n",
      ", 'Validation':  best_epoch_indx:20\n",
      " auc:0.8521006167054277 \n",
      " apur:0.812513582256946 \n",
      " f1:0.7414428646656135 \n",
      " precision:0.6861598440545809 \n",
      " recall:0.8064146620847652 \n",
      ", 'Test':  best_epoch_indx:20\n",
      " auc:0.8660151777475333 \n",
      " apur:0.8356067608579897 \n",
      " f1:0.7544885177453028 \n",
      " precision:0.6928680981595092 \n",
      " recall:0.8281393217231897 \n",
      "}\n",
      "=====Epoch 21\n",
      "Training...\n"
     ]
    },
    {
     "name": "stderr",
     "output_type": "stream",
     "text": [
      "Iteration: 100%|██████████| 62/62 [00:08<00:00,  7.21it/s]\n",
      "Iteration:  84%|████████▍ | 52/62 [00:07<00:01,  7.31it/s]"
     ]
    },
    {
     "name": "stdout",
     "output_type": "stream",
     "text": [
      "Evaluating...\n"
     ]
    },
    {
     "name": "stderr",
     "output_type": "stream",
     "text": [
      "Iteration: 100%|██████████| 62/62 [00:04<00:00, 15.30it/s]\n",
      "Iteration: 100%|██████████| 62/62 [00:08<00:00,  7.25it/s]\n",
      "Iteration:  35%|███▌      | 22/62 [00:01<00:02, 15.28it/s]"
     ]
    },
    {
     "name": "stdout",
     "output_type": "stream",
     "text": [
      "Evaluating...\n"
     ]
    },
    {
     "name": "stderr",
     "output_type": "stream",
     "text": [
      "Iteration: 100%|██████████| 18/18 [00:01<00:00, 15.89it/s]\n",
      "Iteration: 100%|██████████| 62/62 [00:04<00:00, 15.19it/s]\n",
      "Iteration: 100%|██████████| 62/62 [00:08<00:00,  7.25it/s]\n",
      "Iteration:   3%|▎         | 2/62 [00:00<00:03, 15.05it/s]]"
     ]
    },
    {
     "name": "stdout",
     "output_type": "stream",
     "text": [
      "Evaluating...\n"
     ]
    },
    {
     "name": "stderr",
     "output_type": "stream",
     "text": [
      "\r",
      "Iteration:  67%|██████▋   | 12/18 [00:00<00:00, 15.48it/s]\r",
      "Iteration:  90%|█████████ | 56/62 [00:03<00:00, 15.37it/s]\r",
      "Iteration:  98%|█████████▊| 61/62 [00:08<00:00,  7.20it/s]\r",
      "Iteration:   6%|▋         | 4/62 [00:00<00:03, 14.97it/s]\r",
      "Iteration:  78%|███████▊  | 14/18 [00:00<00:00, 15.52it/s]\r",
      "Iteration:  94%|█████████▎| 58/62 [00:03<00:00, 15.39it/s]\r",
      "Iteration: 100%|██████████| 62/62 [00:08<00:00,  7.53it/s]\r",
      "Iteration: 100%|██████████| 62/62 [00:08<00:00,  7.17it/s]\n",
      "\r",
      "Iteration:   0%|          | 0/62 [00:00<?, ?it/s]\r",
      "Iteration:  10%|▉         | 6/62 [00:00<00:03, 15.13it/s]"
     ]
    },
    {
     "name": "stdout",
     "output_type": "stream",
     "text": [
      "Evaluating...\n"
     ]
    },
    {
     "name": "stderr",
     "output_type": "stream",
     "text": [
      "Iteration: 100%|██████████| 18/18 [00:01<00:00, 15.96it/s]\n",
      "Iteration: 100%|██████████| 62/62 [00:04<00:00, 15.31it/s]\n",
      "Iteration: 100%|██████████| 7/7 [00:00<00:00, 15.42it/s]s]\n",
      "Iteration:  22%|██▏       | 4/18 [00:00<00:00, 14.88it/s]"
     ]
    },
    {
     "name": "stdout",
     "output_type": "stream",
     "text": [
      "{'Train':  best_epoch_indx:20\n",
      " auc:0.8841825796013931 \n",
      " apur:0.8544240679176534 \n",
      " f1:0.7646048109965637 \n",
      " precision:0.7949704548577711 \n",
      " recall:0.7364735837046468 \n",
      ", 'Validation':  best_epoch_indx:20\n",
      " auc:0.8666523964347561 \n",
      " apur:0.8380588468216207 \n",
      " f1:0.746268656716418 \n",
      " precision:0.7793017456359103 \n",
      " recall:0.715922107674685 \n",
      ", 'Test':  best_epoch_indx:20\n",
      " auc:0.8635680522749747 \n",
      " apur:0.8364282258678138 \n",
      " f1:0.7335589941972921 \n",
      " precision:0.7763561924257932 \n",
      " recall:0.6952337305224565 \n",
      "}\n",
      "=====Epoch 21\n",
      "Training...\n"
     ]
    },
    {
     "name": "stderr",
     "output_type": "stream",
     "text": [
      "Iteration: 100%|██████████| 7/7 [00:00<00:00, 13.36it/s]s]\n",
      "Iteration:   0%|          | 0/62 [00:00<?, ?it/s]5.43it/s]"
     ]
    },
    {
     "name": "stdout",
     "output_type": "stream",
     "text": [
      "{'Train':  best_epoch_indx:20\n",
      " auc:0.8901652793648205 \n",
      " apur:0.8637150500709525 \n",
      " f1:0.7775220560030687 \n",
      " precision:0.7809169128033903 \n",
      " recall:0.7741565881604073 \n",
      ", 'Validation':  best_epoch_indx:20\n",
      " auc:0.8542218673948343 \n",
      " apur:0.8177550523439352 \n",
      " f1:0.7440233236151602 \n",
      " precision:0.7577197149643705 \n",
      " recall:0.7308132875143184 \n",
      ", 'Test':  best_epoch_indx:20\n",
      " auc:0.8701467254511096 \n",
      " apur:0.8402349464910018 \n",
      " f1:0.7577497129735936 \n",
      " precision:0.7593189139438564 \n",
      " recall:0.7561869844179652 \n",
      "}\n",
      "=====Epoch 21\n",
      "Training...\n"
     ]
    },
    {
     "name": "stderr",
     "output_type": "stream",
     "text": [
      "Iteration: 100%|██████████| 18/18 [00:01<00:00, 15.84it/s]\n",
      "Iteration: 100%|██████████| 7/7 [00:00<00:00, 15.51it/s]s]\n",
      "Iteration:   2%|▏         | 1/62 [00:00<00:08,  7.11it/s]]"
     ]
    },
    {
     "name": "stdout",
     "output_type": "stream",
     "text": [
      "{'Train':  best_epoch_indx:20\n",
      " auc:0.8910212995518988 \n",
      " apur:0.8661049806703994 \n",
      " f1:0.7732107682206172 \n",
      " precision:0.7983728813559322 \n",
      " recall:0.7495862507956715 \n",
      ", 'Validation':  best_epoch_indx:20\n",
      " auc:0.8630356640093181 \n",
      " apur:0.8371726123707077 \n",
      " f1:0.7399049881235155 \n",
      " precision:0.7681874229346486 \n",
      " recall:0.713631156930126 \n",
      ", 'Test':  best_epoch_indx:20\n",
      " auc:0.8658605610026324 \n",
      " apur:0.8352305475043506 \n",
      " f1:0.7472162994551054 \n",
      " precision:0.773418342324669 \n",
      " recall:0.7227314390467461 \n",
      "}\n",
      "=====Epoch 21\n",
      "Training...\n"
     ]
    },
    {
     "name": "stderr",
     "output_type": "stream",
     "text": [
      "Iteration: 100%|██████████| 62/62 [00:04<00:00, 15.34it/s]\n",
      "Iteration: 100%|██████████| 62/62 [00:04<00:00, 15.41it/s]\n",
      "Iteration: 100%|██████████| 18/18 [00:01<00:00, 15.92it/s]\n",
      "Iteration: 100%|██████████| 18/18 [00:01<00:00, 15.98it/s]\n",
      "Iteration: 100%|██████████| 7/7 [00:00<00:00, 15.56it/s]s]\n",
      "Iteration:  40%|████      | 25/62 [00:03<00:05,  7.32it/s]"
     ]
    },
    {
     "name": "stdout",
     "output_type": "stream",
     "text": [
      "{'Train':  best_epoch_indx:20\n",
      " auc:0.8851661278826533 \n",
      " apur:0.8592416963158919 \n",
      " f1:0.774721189591078 \n",
      " precision:0.7546167773083886 \n",
      " recall:0.7959261616804583 \n",
      ", 'Validation':  best_epoch_indx:20\n",
      " auc:0.8507054122747135 \n",
      " apur:0.8219597339312632 \n",
      " f1:0.7318156579677957 \n",
      " precision:0.7101293103448276 \n",
      " recall:0.7548682703321878 \n",
      ", 'Test':  best_epoch_indx:20\n",
      " auc:0.8594511140014183 \n",
      " apur:0.8255120663401125 \n",
      " f1:0.7507760532150776 \n",
      " precision:0.727233676975945 \n",
      " recall:0.7758936755270394 \n",
      "}\n",
      "=====Epoch 21\n",
      "Training...\n"
     ]
    },
    {
     "name": "stderr",
     "output_type": "stream",
     "text": [
      "Iteration: 100%|██████████| 62/62 [00:09<00:00,  6.85it/s]\n",
      "Iteration:  97%|█████████▋| 60/62 [00:08<00:00,  7.05it/s]"
     ]
    },
    {
     "name": "stdout",
     "output_type": "stream",
     "text": [
      "Evaluating...\n"
     ]
    },
    {
     "name": "stderr",
     "output_type": "stream",
     "text": [
      "Iteration: 100%|██████████| 62/62 [00:08<00:00,  6.97it/s]\n",
      "Iteration: 100%|██████████| 7/7 [00:00<00:00, 15.42it/s]]]\n",
      "Iteration:   3%|▎         | 2/62 [00:00<00:03, 15.02it/s]]"
     ]
    },
    {
     "name": "stdout",
     "output_type": "stream",
     "text": [
      "Evaluating...\n",
      "{'Train':  best_epoch_indx:21\n",
      " auc:0.8920881261955171 \n",
      " apur:0.8638099319428583 \n",
      " f1:0.782089184528209 \n",
      " precision:0.7575468321202721 \n",
      " recall:0.8082749840865691 \n",
      ", 'Validation':  best_epoch_indx:21\n",
      " auc:0.855095436996926 \n",
      " apur:0.814751010487053 \n",
      " f1:0.7447045707915273 \n",
      " precision:0.7252985884907709 \n",
      " recall:0.7651775486827033 \n",
      ", 'Test':  best_epoch_indx:21\n",
      " auc:0.8678165708413187 \n",
      " apur:0.8350554459843507 \n",
      " f1:0.7599201950786966 \n",
      " precision:0.7359381708887934 \n",
      " recall:0.7855178735105408 \n",
      "}\n",
      "=====Epoch 22\n",
      "Training...\n"
     ]
    },
    {
     "name": "stderr",
     "output_type": "stream",
     "text": [
      "Iteration: 100%|██████████| 62/62 [00:08<00:00,  7.13it/s]\n",
      "Iteration:   0%|          | 0/62 [00:00<?, ?it/s]"
     ]
    },
    {
     "name": "stdout",
     "output_type": "stream",
     "text": [
      "Evaluating...\n"
     ]
    },
    {
     "name": "stderr",
     "output_type": "stream",
     "text": [
      "Iteration: 100%|██████████| 62/62 [00:04<00:00, 15.20it/s]\n",
      "Iteration: 100%|██████████| 62/62 [00:08<00:00,  7.10it/s]\n",
      "Iteration: 100%|██████████| 62/62 [00:04<00:00, 15.20it/s]\n",
      "Iteration:   3%|▎         | 2/62 [00:00<00:03, 15.20it/s]]"
     ]
    },
    {
     "name": "stdout",
     "output_type": "stream",
     "text": [
      "Evaluating...\n"
     ]
    },
    {
     "name": "stderr",
     "output_type": "stream",
     "text": [
      "Iteration: 100%|██████████| 62/62 [00:04<00:00, 15.22it/s]\n",
      "Iteration: 100%|██████████| 18/18 [00:01<00:00, 16.08it/s]\n",
      "Iteration: 100%|██████████| 18/18 [00:01<00:00, 15.81it/s]\n",
      "Iteration: 100%|██████████| 18/18 [00:01<00:00, 15.84it/s]\n",
      "Iteration: 100%|██████████| 7/7 [00:00<00:00, 15.40it/s]s]\n",
      "Iteration:  76%|███████▌  | 47/62 [00:06<00:02,  7.27it/s]"
     ]
    },
    {
     "name": "stdout",
     "output_type": "stream",
     "text": [
      "{'Train':  best_epoch_indx:21\n",
      " auc:0.8940851642637072 \n",
      " apur:0.8691438972124954 \n",
      " f1:0.767498976668031 \n",
      " precision:0.8268410995149199 \n",
      " recall:0.7161043921069382 \n",
      ", 'Validation':  best_epoch_indx:21\n",
      " auc:0.8609462320802528 \n",
      " apur:0.8328466856066292 \n",
      " f1:0.7354205033763045 \n",
      " precision:0.7923280423280423 \n",
      " recall:0.6861397479954181 \n",
      ", 'Test':  best_epoch_indx:21\n",
      " auc:0.8658528455962002 \n",
      " apur:0.8354805815941612 \n",
      " f1:0.7404861281610606 \n",
      " precision:0.7974616604970914 \n",
      " recall:0.6911090742438131 \n",
      "}\n",
      "=====Epoch 22\n",
      "Training...\n"
     ]
    },
    {
     "name": "stderr",
     "output_type": "stream",
     "text": [
      "Iteration: 100%|██████████| 62/62 [00:04<00:00, 15.20it/s]\n",
      "Iteration: 100%|██████████| 62/62 [00:08<00:00,  7.30it/s]\n",
      "Iteration:  33%|███▎      | 6/18 [00:00<00:00, 15.03it/s]"
     ]
    },
    {
     "name": "stdout",
     "output_type": "stream",
     "text": [
      "Evaluating...\n"
     ]
    },
    {
     "name": "stderr",
     "output_type": "stream",
     "text": [
      "Iteration: 100%|██████████| 18/18 [00:01<00:00, 15.90it/s]\n",
      "Iteration: 100%|██████████| 7/7 [00:00<00:00, 14.23it/s]s]\n",
      "Iteration:  39%|███▊      | 24/62 [00:01<00:02, 15.12it/s]"
     ]
    },
    {
     "name": "stdout",
     "output_type": "stream",
     "text": [
      "{'Train':  best_epoch_indx:21\n",
      " auc:0.8875551730112975 \n",
      " apur:0.8587014420572788 \n",
      " f1:0.76624675064987 \n",
      " precision:0.8041410184667039 \n",
      " recall:0.7317632081476766 \n",
      ", 'Validation':  best_epoch_indx:21\n",
      " auc:0.8681594486290936 \n",
      " apur:0.8414112066647979 \n",
      " f1:0.7468277945619336 \n",
      " precision:0.7902813299232737 \n",
      " recall:0.7079037800687286 \n",
      ", 'Test':  best_epoch_indx:21\n",
      " auc:0.8671697365289167 \n",
      " apur:0.8417108276622172 \n",
      " f1:0.7406866325785245 \n",
      " precision:0.7901298701298701 \n",
      " recall:0.6970669110907425 \n",
      "}\n",
      "=====Epoch 22\n",
      "Training...\n"
     ]
    },
    {
     "name": "stderr",
     "output_type": "stream",
     "text": [
      "Iteration: 100%|██████████| 7/7 [00:00<00:00, 15.35it/s]s]\n",
      "Iteration:   2%|▏         | 1/62 [00:00<00:08,  7.26it/s]]"
     ]
    },
    {
     "name": "stdout",
     "output_type": "stream",
     "text": [
      "{'Train':  best_epoch_indx:21\n",
      " auc:0.8909546629478761 \n",
      " apur:0.8652254479510789 \n",
      " f1:0.7779002658712145 \n",
      " precision:0.7927570711075865 \n",
      " recall:0.7635900700190961 \n",
      ", 'Validation':  best_epoch_indx:21\n",
      " auc:0.8535372819450711 \n",
      " apur:0.8146647426123155 \n",
      " f1:0.7427898763978812 \n",
      " precision:0.7639225181598063 \n",
      " recall:0.722794959908362 \n",
      ", 'Test':  best_epoch_indx:21\n",
      " auc:0.8714348605001452 \n",
      " apur:0.8409329624282905 \n",
      " f1:0.7619270346117867 \n",
      " precision:0.7779369627507163 \n",
      " recall:0.7465627864344638 \n",
      "}\n",
      "=====Epoch 22\n",
      "Training...\n"
     ]
    },
    {
     "name": "stderr",
     "output_type": "stream",
     "text": [
      "Iteration: 100%|██████████| 62/62 [00:04<00:00, 15.28it/s]\n",
      "Iteration: 100%|██████████| 18/18 [00:01<00:00, 15.97it/s]\n",
      "Iteration: 100%|██████████| 7/7 [00:00<00:00, 15.63it/s]s]\n",
      "Iteration: 100%|██████████| 7/7 [00:00<00:00, 14.54it/s]s]\n"
     ]
    },
    {
     "name": "stdout",
     "output_type": "stream",
     "text": [
      "{'Train':  best_epoch_indx:22\n",
      " auc:0.8923530254932299 \n",
      " apur:0.8657022184869183 \n",
      " f1:0.7777486224088167 \n",
      " precision:0.8022736500203005 \n",
      " recall:0.7546785486950986 \n",
      ", 'Validation':  best_epoch_indx:22\n",
      " auc:0.8521276144414747 \n",
      " apur:0.8171496985190445 \n",
      " f1:0.7386634844868735 \n",
      " precision:0.7708592777085927 \n",
      " recall:0.709049255441008 \n",
      ", 'Test':  best_epoch_indx:22\n",
      " auc:0.8661100772466491 \n",
      " apur:0.8366128104918278 \n",
      " f1:0.7494056110318592 \n",
      " precision:0.7786561264822134 \n",
      " recall:0.7222731439046746 \n",
      "}\n",
      "=====Epoch 23\n",
      "Training...\n",
      "{'Train':  best_epoch_indx:21\n",
      " auc:0.884374773356421 \n",
      " apur:0.8592328400765153 \n",
      " f1:0.7723933576146675 \n",
      " precision:0.7497603068072867 \n",
      " recall:0.796435391470401 \n",
      ", 'Validation':  best_epoch_indx:21\n",
      " auc:0.8527948442037788 \n",
      " apur:0.8261855109994048 \n",
      " f1:0.734065934065934 \n",
      " precision:0.7053854276663146 \n",
      " recall:0.7651775486827033 \n",
      ", 'Test':  best_epoch_indx:21\n",
      " auc:0.8604705081133213 \n",
      " apur:0.8281141082476116 \n",
      " f1:0.751049259995582 \n",
      " precision:0.7249466950959488 \n",
      " recall:0.7791017415215399 \n",
      "}\n",
      "=====Epoch 22\n",
      "Training...\n"
     ]
    },
    {
     "name": "stderr",
     "output_type": "stream",
     "text": [
      "Iteration: 100%|██████████| 62/62 [00:08<00:00,  7.28it/s]\n",
      "Iteration:   5%|▍         | 3/62 [00:00<00:08,  7.31it/s]]"
     ]
    },
    {
     "name": "stdout",
     "output_type": "stream",
     "text": [
      "Evaluating...\n"
     ]
    },
    {
     "name": "stderr",
     "output_type": "stream",
     "text": [
      "Iteration: 100%|██████████| 62/62 [00:08<00:00,  7.26it/s]\n",
      "Iteration:  48%|████▊     | 30/62 [00:04<00:04,  7.26it/s]"
     ]
    },
    {
     "name": "stdout",
     "output_type": "stream",
     "text": [
      "Evaluating...\n"
     ]
    },
    {
     "name": "stderr",
     "output_type": "stream",
     "text": [
      "Iteration: 100%|██████████| 62/62 [00:08<00:00,  7.25it/s]\n",
      "Iteration: 100%|██████████| 62/62 [00:04<00:00, 15.35it/s]\n",
      "Iteration:   3%|▎         | 2/62 [00:00<00:03, 15.18it/s]]"
     ]
    },
    {
     "name": "stdout",
     "output_type": "stream",
     "text": [
      "Evaluating...\n"
     ]
    },
    {
     "name": "stderr",
     "output_type": "stream",
     "text": [
      "Iteration: 100%|██████████| 18/18 [00:01<00:00, 15.92it/s]\n",
      "Iteration: 100%|██████████| 62/62 [00:04<00:00, 15.22it/s]\n",
      "Iteration: 100%|██████████| 62/62 [00:04<00:00, 15.17it/s]\n",
      "Iteration: 100%|██████████| 62/62 [00:08<00:00,  7.29it/s]\n",
      "Iteration:   3%|▎         | 2/62 [00:00<00:03, 15.25it/s]]"
     ]
    },
    {
     "name": "stdout",
     "output_type": "stream",
     "text": [
      "Evaluating...\n"
     ]
    },
    {
     "name": "stderr",
     "output_type": "stream",
     "text": [
      "\r",
      "Iteration:   0%|          | 0/18 [00:00<?, ?it/s]\r",
      "Iteration: 100%|██████████| 62/62 [00:08<00:00,  7.45it/s]\r",
      "Iteration: 100%|██████████| 62/62 [00:08<00:00,  7.17it/s]\n",
      "\r",
      "Iteration:   0%|          | 0/62 [00:00<?, ?it/s]\r",
      "Iteration:  44%|████▍     | 8/18 [00:00<00:00, 15.15it/s]\r",
      "Iteration:   6%|▋         | 4/62 [00:00<00:03, 15.25it/s]\r",
      "Iteration:  11%|█         | 2/18 [00:00<00:01, 15.09it/s]\r",
      "Iteration:   3%|▎         | 2/62 [00:00<00:04, 14.58it/s]\r",
      "Iteration:  56%|█████▌    | 10/18 [00:00<00:00, 15.25it/s]"
     ]
    },
    {
     "name": "stdout",
     "output_type": "stream",
     "text": [
      "Evaluating...\n"
     ]
    },
    {
     "name": "stderr",
     "output_type": "stream",
     "text": [
      "Iteration: 100%|██████████| 18/18 [00:01<00:00, 15.80it/s]\n",
      "Iteration: 100%|██████████| 18/18 [00:01<00:00, 15.55it/s]\n",
      "Iteration: 100%|██████████| 7/7 [00:00<00:00, 15.27it/s]\n",
      "Iteration:  35%|███▌      | 22/62 [00:01<00:02, 14.91it/s]"
     ]
    },
    {
     "name": "stdout",
     "output_type": "stream",
     "text": [
      "{'Train':  best_epoch_indx:22\n",
      " auc:0.8874128959228866 \n",
      " apur:0.859512741103086 \n",
      " f1:0.7736641467984752 \n",
      " precision:0.7854893728680137 \n",
      " recall:0.7621896880967537 \n",
      ", 'Validation':  best_epoch_indx:22\n",
      " auc:0.866005414974487 \n",
      " apur:0.8393025652242976 \n",
      " f1:0.7468060394889663 \n",
      " precision:0.7573616018845701 \n",
      " recall:0.736540664375716 \n",
      ", 'Test':  best_epoch_indx:22\n",
      " auc:0.8629100151612492 \n",
      " apur:0.8381272566058326 \n",
      " f1:0.740198393953708 \n",
      " precision:0.76364522417154 \n",
      " recall:0.7181484876260311 \n",
      "}\n",
      "=====Epoch 23\n",
      "Training...\n"
     ]
    },
    {
     "name": "stderr",
     "output_type": "stream",
     "text": [
      "Iteration: 100%|██████████| 7/7 [00:00<00:00, 15.28it/s]]]\n",
      "Iteration:   6%|▋         | 4/62 [00:00<00:08,  7.12it/s]]"
     ]
    },
    {
     "name": "stdout",
     "output_type": "stream",
     "text": [
      "{'Train':  best_epoch_indx:22\n",
      " auc:0.8910827682998502 \n",
      " apur:0.8633233048220432 \n",
      " f1:0.7781456953642385 \n",
      " precision:0.7784431137724551 \n",
      " recall:0.7778485041374921 \n",
      ", 'Validation':  best_epoch_indx:22\n",
      " auc:0.8539547826489408 \n",
      " apur:0.8134200420530261 \n",
      " f1:0.7444574095682613 \n",
      " precision:0.7586206896551724 \n",
      " recall:0.7308132875143184 \n",
      ", 'Test':  best_epoch_indx:22\n",
      " auc:0.8718232305161276 \n",
      " apur:0.8385317343525518 \n",
      " f1:0.7626923960487021 \n",
      " precision:0.7646245969599264 \n",
      " recall:0.7607699358386801 \n",
      "}\n",
      "=====Epoch 23\n",
      "Training...\n"
     ]
    },
    {
     "name": "stderr",
     "output_type": "stream",
     "text": [
      "Iteration: 100%|██████████| 7/7 [00:00<00:00, 14.51it/s]s]\n",
      "Iteration:  11%|█▏        | 7/62 [00:00<00:07,  7.25it/s]]"
     ]
    },
    {
     "name": "stdout",
     "output_type": "stream",
     "text": [
      "{'Train':  best_epoch_indx:22\n",
      " auc:0.8935391440625677 \n",
      " apur:0.8682530086655011 \n",
      " f1:0.775203010497128 \n",
      " precision:0.8051289083927592 \n",
      " recall:0.747422024188415 \n",
      ", 'Validation':  best_epoch_indx:22\n",
      " auc:0.8635756187302579 \n",
      " apur:0.8366644140658331 \n",
      " f1:0.7415329768270945 \n",
      " precision:0.7703703703703704 \n",
      " recall:0.7147766323024055 \n",
      ", 'Test':  best_epoch_indx:22\n",
      " auc:0.8681065158150401 \n",
      " apur:0.8362700628281355 \n",
      " f1:0.7570648302066016 \n",
      " precision:0.7856086742237556 \n",
      " recall:0.7305224564619615 \n",
      "}\n",
      "=====Epoch 23\n",
      "Training...\n"
     ]
    },
    {
     "name": "stderr",
     "output_type": "stream",
     "text": [
      "Iteration: 100%|██████████| 62/62 [00:04<00:00, 15.18it/s]\n",
      "Iteration: 100%|██████████| 62/62 [00:04<00:00, 15.11it/s]\n",
      "Iteration: 100%|██████████| 18/18 [00:01<00:00, 15.87it/s]\n",
      "Iteration: 100%|██████████| 18/18 [00:01<00:00, 15.45it/s]\n",
      "Iteration: 100%|██████████| 62/62 [00:08<00:00,  7.23it/s]\n",
      "Iteration:   0%|          | 0/62 [00:00<?, ?it/s]"
     ]
    },
    {
     "name": "stdout",
     "output_type": "stream",
     "text": [
      "Evaluating...\n"
     ]
    },
    {
     "name": "stderr",
     "output_type": "stream",
     "text": [
      "Iteration: 100%|██████████| 62/62 [00:08<00:00,  7.21it/s]\n",
      "Iteration:  13%|█▎        | 8/62 [00:00<00:03, 14.99it/s]]"
     ]
    },
    {
     "name": "stdout",
     "output_type": "stream",
     "text": [
      "Evaluating...\n"
     ]
    },
    {
     "name": "stderr",
     "output_type": "stream",
     "text": [
      "Iteration: 100%|██████████| 62/62 [00:08<00:00,  7.26it/s]\n",
      "Iteration:  26%|██▌       | 16/62 [00:01<00:03, 14.98it/s]"
     ]
    },
    {
     "name": "stdout",
     "output_type": "stream",
     "text": [
      "Evaluating...\n"
     ]
    },
    {
     "name": "stderr",
     "output_type": "stream",
     "text": [
      "\r",
      "Iteration: 100%|██████████| 7/7 [00:00<00:00, 11.75it/s]\n",
      "\r",
      "Iteration:  86%|████████▌ | 6/7 [00:00<00:00, 14.93it/s]\r",
      "Iteration:   0%|          | 0/62 [00:00<?, ?it/s]\r",
      "Iteration:  16%|█▌        | 10/62 [00:00<00:03, 15.00it/s]\r",
      "Iteration:   6%|▋         | 4/62 [00:00<00:03, 15.10it/s]\r",
      "Iteration:  29%|██▉       | 18/62 [00:01<00:02, 15.09it/s]\r",
      "Iteration: 100%|██████████| 7/7 [00:00<00:00, 15.17it/s]\n",
      "\r",
      "Iteration:   0%|          | 0/62 [00:00<?, ?it/s]\r",
      "Iteration:  19%|█▉        | 12/62 [00:00<00:03, 15.04it/s]"
     ]
    },
    {
     "name": "stdout",
     "output_type": "stream",
     "text": [
      "{'Train':  best_epoch_indx:23\n",
      " auc:0.8952270843170361 \n",
      " apur:0.8679808005072105 \n",
      " f1:0.7858724932654894 \n",
      " precision:0.7416949152542373 \n",
      " recall:0.8356460852959898 \n",
      ", 'Validation':  best_epoch_indx:23\n",
      " auc:0.854028062218211 \n",
      " apur:0.8170367103552945 \n",
      " f1:0.7429193899782135 \n",
      " precision:0.7082035306334372 \n",
      " recall:0.7812142038946163 \n",
      ", 'Test':  best_epoch_indx:23\n",
      " auc:0.869900116348329 \n",
      " apur:0.8412564468386291 \n",
      " f1:0.7599047412859927 \n",
      " precision:0.7201477226097661 \n",
      " recall:0.8043079743354721 \n",
      "}\n",
      "=====Epoch 24\n",
      "Training...\n",
      "{'Train':  best_epoch_indx:22\n",
      " auc:0.8872261326819891 \n",
      " apur:0.8631625596553972 \n",
      " f1:0.7756528369019633 \n",
      " precision:0.7742262810755961 \n",
      " recall:0.777084659452578 \n",
      ", 'Validation':  best_epoch_indx:22\n",
      " auc:0.854185227610199 \n",
      " apur:0.8255584425196805 \n",
      " f1:0.7222541690626797 \n",
      " precision:0.7251732101616628 \n",
      " recall:0.7193585337915235 \n",
      ", 'Test':  best_epoch_indx:22\n",
      " auc:0.8621888447659114 \n",
      " apur:0.8308934781065225 \n",
      " f1:0.7514739229024943 \n",
      " precision:0.7437163375224417 \n",
      " recall:0.7593950504124656 \n",
      "}\n",
      "=====Epoch 23\n",
      "Training...\n"
     ]
    },
    {
     "name": "stderr",
     "output_type": "stream",
     "text": [
      "Iteration: 100%|██████████| 62/62 [00:04<00:00, 15.06it/s]\n",
      "Iteration: 100%|██████████| 62/62 [00:04<00:00, 13.78it/s]\n",
      "Iteration: 100%|██████████| 62/62 [00:04<00:00, 15.07it/s]\n",
      "Iteration: 100%|██████████| 18/18 [00:01<00:00, 15.86it/s]\n",
      "Iteration: 100%|██████████| 7/7 [00:00<00:00, 15.24it/s]s]\n",
      "Iteration:  67%|██████▋   | 12/18 [00:00<00:00, 15.05it/s]"
     ]
    },
    {
     "name": "stdout",
     "output_type": "stream",
     "text": [
      "{'Train':  best_epoch_indx:23\n",
      " auc:0.8880204108731755 \n",
      " apur:0.8594566239799659 \n",
      " f1:0.7618336162988115 \n",
      " precision:0.8164483260553129 \n",
      " recall:0.7140674729471674 \n",
      ", 'Validation':  best_epoch_indx:23\n",
      " auc:0.8695681519278312 \n",
      " apur:0.8414298722696208 \n",
      " f1:0.7419753086419754 \n",
      " precision:0.8045515394912985 \n",
      " recall:0.6884306987399771 \n",
      ", 'Test':  best_epoch_indx:23\n",
      " auc:0.8653469752674984 \n",
      " apur:0.8400165739711712 \n",
      " f1:0.735330527358257 \n",
      " precision:0.7996768982229402 \n",
      " recall:0.6805682859761687 \n",
      "}\n",
      "=====Epoch 24\n",
      "Training...\n"
     ]
    },
    {
     "name": "stderr",
     "output_type": "stream",
     "text": [
      "Iteration: 100%|██████████| 18/18 [00:01<00:00, 14.76it/s]\n",
      "Iteration: 100%|██████████| 18/18 [00:01<00:00, 13.42it/s]\n",
      "Iteration: 100%|██████████| 62/62 [00:09<00:00,  6.80it/s]\n",
      "Iteration:  50%|█████     | 31/62 [00:04<00:04,  7.20it/s]"
     ]
    },
    {
     "name": "stdout",
     "output_type": "stream",
     "text": [
      "Evaluating...\n"
     ]
    },
    {
     "name": "stderr",
     "output_type": "stream",
     "text": [
      "Iteration: 100%|██████████| 62/62 [00:09<00:00,  6.30it/s]\n",
      "Iteration:   3%|▎         | 2/62 [00:00<00:05, 11.74it/s]]"
     ]
    },
    {
     "name": "stdout",
     "output_type": "stream",
     "text": [
      "Evaluating...\n"
     ]
    },
    {
     "name": "stderr",
     "output_type": "stream",
     "text": [
      "Iteration: 100%|██████████| 7/7 [00:00<00:00, 14.62it/s]s]\n",
      "Iteration:  29%|██▉       | 18/62 [00:01<00:03, 11.89it/s]"
     ]
    },
    {
     "name": "stdout",
     "output_type": "stream",
     "text": [
      "{'Train':  best_epoch_indx:23\n",
      " auc:0.8953788051558921 \n",
      " apur:0.8714135045270159 \n",
      " f1:0.7795726941115164 \n",
      " precision:0.7981859410430839 \n",
      " recall:0.7618077657542967 \n",
      ", 'Validation':  best_epoch_indx:23\n",
      " auc:0.8594594281879505 \n",
      " apur:0.8249969943748421 \n",
      " f1:0.7453786523553966 \n",
      " precision:0.777363184079602 \n",
      " recall:0.715922107674685 \n",
      ", 'Test':  best_epoch_indx:23\n",
      " auc:0.8741728999848417 \n",
      " apur:0.8460140622330667 \n",
      " f1:0.7630522088353414 \n",
      " precision:0.787420770355924 \n",
      " recall:0.7401466544454629 \n",
      "}\n",
      "=====Epoch 24\n",
      "Training...\n"
     ]
    },
    {
     "name": "stderr",
     "output_type": "stream",
     "text": [
      "Iteration: 100%|██████████| 7/7 [00:00<00:00, 11.80it/s]s]\n",
      "Iteration:  61%|██████▏   | 38/62 [00:02<00:01, 15.14it/s]"
     ]
    },
    {
     "name": "stdout",
     "output_type": "stream",
     "text": [
      "{'Train':  best_epoch_indx:23\n",
      " auc:0.8959586584874998 \n",
      " apur:0.8705306619922788 \n",
      " f1:0.754708904109589 \n",
      " precision:0.858464534978088 \n",
      " recall:0.6733290897517504 \n",
      ", 'Validation':  best_epoch_indx:23\n",
      " auc:0.863057840721071 \n",
      " apur:0.835156207239428 \n",
      " f1:0.7246006389776358 \n",
      " precision:0.819364161849711 \n",
      " recall:0.6494845360824743 \n",
      ", 'Test':  best_epoch_indx:23\n",
      " auc:0.8668857842093405 \n",
      " apur:0.8385285107983174 \n",
      " f1:0.7281628446276734 \n",
      " precision:0.8316656856974691 \n",
      " recall:0.6475710357470211 \n",
      "}\n",
      "=====Epoch 24\n",
      "Training...\n"
     ]
    },
    {
     "name": "stderr",
     "output_type": "stream",
     "text": [
      "Iteration: 100%|██████████| 62/62 [00:04<00:00, 14.46it/s]\n",
      "Iteration: 100%|██████████| 62/62 [00:08<00:00,  7.18it/s]\n",
      "Iteration:  26%|██▌       | 16/62 [00:02<00:06,  7.21it/s]"
     ]
    },
    {
     "name": "stdout",
     "output_type": "stream",
     "text": [
      "Evaluating...\n"
     ]
    },
    {
     "name": "stderr",
     "output_type": "stream",
     "text": [
      "Iteration: 100%|██████████| 18/18 [00:01<00:00, 15.84it/s]\n",
      "Iteration: 100%|██████████| 62/62 [00:04<00:00, 12.82it/s]\n",
      "Iteration: 100%|██████████| 7/7 [00:00<00:00, 15.49it/s]s]\n",
      "Iteration:  33%|███▎      | 6/18 [00:00<00:00, 13.60it/s]]"
     ]
    },
    {
     "name": "stdout",
     "output_type": "stream",
     "text": [
      "{'Train':  best_epoch_indx:24\n",
      " auc:0.8927775503934244 \n",
      " apur:0.8661724014851606 \n",
      " f1:0.7835701123461926 \n",
      " precision:0.7349464763603925 \n",
      " recall:0.8390833863781031 \n",
      ", 'Validation':  best_epoch_indx:24\n",
      " auc:0.8514960602589469 \n",
      " apur:0.8118561629655534 \n",
      " f1:0.7398153177620858 \n",
      " precision:0.7035123966942148 \n",
      " recall:0.7800687285223368 \n",
      ", 'Test':  best_epoch_indx:24\n",
      " auc:0.8667816262225061 \n",
      " apur:0.8363227560875447 \n",
      " f1:0.7576923076923078 \n",
      " precision:0.7097678142514011 \n",
      " recall:0.812557286892759 \n",
      "}\n",
      "=====Epoch 25\n",
      "Training...\n"
     ]
    },
    {
     "name": "stderr",
     "output_type": "stream",
     "text": [
      "Iteration: 100%|██████████| 18/18 [00:01<00:00, 14.47it/s]\n",
      "Iteration: 100%|██████████| 7/7 [00:00<00:00, 14.16it/s]s]\n",
      "Iteration:  65%|██████▍   | 40/62 [00:05<00:03,  7.19it/s]"
     ]
    },
    {
     "name": "stdout",
     "output_type": "stream",
     "text": [
      "{'Train':  best_epoch_indx:23\n",
      " auc:0.8871701483685532 \n",
      " apur:0.8621246962865342 \n",
      " f1:0.7795672485861813 \n",
      " precision:0.7537144894805657 \n",
      " recall:0.8072565245066836 \n",
      ", 'Validation':  best_epoch_indx:23\n",
      " auc:0.853457252941789 \n",
      " apur:0.8228747301280768 \n",
      " f1:0.7375964718853363 \n",
      " precision:0.7109458023379384 \n",
      " recall:0.7663230240549829 \n",
      ", 'Test':  best_epoch_indx:23\n",
      " auc:0.8610421035700713 \n",
      " apur:0.8279374617588036 \n",
      " f1:0.7536740513270455 \n",
      " precision:0.7227597812368531 \n",
      " recall:0.7873510540788268 \n",
      "}\n",
      "=====Epoch 24\n",
      "Training...\n"
     ]
    },
    {
     "name": "stderr",
     "output_type": "stream",
     "text": [
      "Iteration: 100%|██████████| 62/62 [00:04<00:00, 14.53it/s]\n",
      "Iteration: 100%|██████████| 18/18 [00:01<00:00, 15.60it/s]\n",
      "Iteration: 100%|██████████| 62/62 [00:08<00:00,  7.19it/s]\n",
      "Iteration:  55%|█████▍    | 34/62 [00:04<00:04,  6.90it/s]"
     ]
    },
    {
     "name": "stdout",
     "output_type": "stream",
     "text": [
      "Evaluating...\n"
     ]
    },
    {
     "name": "stderr",
     "output_type": "stream",
     "text": [
      "Iteration: 100%|██████████| 62/62 [00:10<00:00,  6.13it/s]\n",
      "Iteration:   3%|▎         | 2/62 [00:00<00:04, 12.19it/s]]"
     ]
    },
    {
     "name": "stdout",
     "output_type": "stream",
     "text": [
      "Evaluating...\n"
     ]
    },
    {
     "name": "stderr",
     "output_type": "stream",
     "text": [
      "Iteration: 100%|██████████| 62/62 [00:04<00:00, 14.51it/s]\n",
      "Iteration: 100%|██████████| 62/62 [00:09<00:00,  6.78it/s]\n",
      "Iteration:   0%|          | 0/18 [00:00<?, ?it/s]6.25it/s]"
     ]
    },
    {
     "name": "stdout",
     "output_type": "stream",
     "text": [
      "Evaluating...\n"
     ]
    },
    {
     "name": "stderr",
     "output_type": "stream",
     "text": [
      "Iteration: 100%|██████████| 18/18 [00:01<00:00, 15.65it/s]\n",
      "Iteration: 100%|██████████| 7/7 [00:00<00:00, 12.31it/s]\n",
      "Iteration:  32%|███▏      | 20/62 [00:01<00:02, 14.04it/s]"
     ]
    },
    {
     "name": "stdout",
     "output_type": "stream",
     "text": [
      "{'Train':  best_epoch_indx:24\n",
      " auc:0.8898743955426912 \n",
      " apur:0.8625030846728664 \n",
      " f1:0.767945461836653 \n",
      " precision:0.8083579569438581 \n",
      " recall:0.7313812858052197 \n",
      ", 'Validation':  best_epoch_indx:24\n",
      " auc:0.8635071601852816 \n",
      " apur:0.8378545472083813 \n",
      " f1:0.7413688673531194 \n",
      " precision:0.7866323907455013 \n",
      " recall:0.7010309278350515 \n",
      ", 'Test':  best_epoch_indx:24\n",
      " auc:0.8689044353522914 \n",
      " apur:0.8441343079407084 \n",
      " f1:0.7417542145125825 \n",
      " precision:0.7943485086342229 \n",
      " recall:0.6956920256645279 \n",
      "}\n",
      "=====Epoch 25\n",
      "Training...\n"
     ]
    },
    {
     "name": "stderr",
     "output_type": "stream",
     "text": [
      "Iteration: 100%|██████████| 62/62 [00:04<00:00, 14.19it/s]\n",
      "Iteration: 100%|██████████| 7/7 [00:00<00:00, 15.40it/s]]\n",
      "Iteration:  97%|█████████▋| 60/62 [00:09<00:00,  6.08it/s]"
     ]
    },
    {
     "name": "stdout",
     "output_type": "stream",
     "text": [
      "{'Train':  best_epoch_indx:24\n",
      " auc:0.8977140036405882 \n",
      " apur:0.8723227867266755 \n",
      " f1:0.7815340351794939 \n",
      " precision:0.8034417854261898 \n",
      " recall:0.7607893061744112 \n",
      ", 'Validation':  best_epoch_indx:24\n",
      " auc:0.8613675896035575 \n",
      " apur:0.8214365532094022 \n",
      " f1:0.7393648891551827 \n",
      " precision:0.7751256281407035 \n",
      " recall:0.7067583046964491 \n",
      ", 'Test':  best_epoch_indx:24\n",
      " auc:0.874746810843118 \n",
      " apur:0.8444542281064339 \n",
      " f1:0.7585227272727273 \n",
      " precision:0.7845249755142018 \n",
      " recall:0.7341888175985335 \n",
      "}\n",
      "=====Epoch 25\n",
      "Training...\n"
     ]
    },
    {
     "name": "stderr",
     "output_type": "stream",
     "text": [
      "Iteration: 100%|██████████| 62/62 [00:09<00:00,  6.39it/s]\n",
      "Iteration:   6%|▋         | 4/62 [00:00<00:07,  7.28it/s]]"
     ]
    },
    {
     "name": "stdout",
     "output_type": "stream",
     "text": [
      "Evaluating...\n"
     ]
    },
    {
     "name": "stderr",
     "output_type": "stream",
     "text": [
      "Iteration: 100%|██████████| 18/18 [00:01<00:00, 15.68it/s]\n",
      "Iteration: 100%|██████████| 62/62 [00:04<00:00, 13.83it/s]\n",
      "Iteration: 100%|██████████| 18/18 [00:01<00:00, 13.59it/s]\n",
      "Iteration: 100%|██████████| 7/7 [00:00<00:00, 13.05it/s]s]\n",
      "Iteration:  55%|█████▍    | 34/62 [00:05<00:04,  6.04it/s]"
     ]
    },
    {
     "name": "stdout",
     "output_type": "stream",
     "text": [
      "{'Train':  best_epoch_indx:25\n",
      " auc:0.8953782299024339 \n",
      " apur:0.8686085101302264 \n",
      " f1:0.7854327234217803 \n",
      " precision:0.7301465762415227 \n",
      " recall:0.8497772119669 \n",
      ", 'Validation':  best_epoch_indx:25\n",
      " auc:0.8547550726817622 \n",
      " apur:0.8179500724922131 \n",
      " f1:0.747181964573269 \n",
      " precision:0.703030303030303 \n",
      " recall:0.7972508591065293 \n",
      ", 'Test':  best_epoch_indx:25\n",
      " auc:0.8673344350933719 \n",
      " apur:0.8372371546975012 \n",
      " f1:0.7572402044293016 \n",
      " precision:0.7072394590294352 \n",
      " recall:0.8148487626031164 \n",
      "}\n",
      "=====Epoch 26\n",
      "Training...\n"
     ]
    },
    {
     "name": "stderr",
     "output_type": "stream",
     "text": [
      "Iteration: 100%|██████████| 62/62 [00:04<00:00, 12.67it/s]\n",
      "Iteration: 100%|██████████| 7/7 [00:00<00:00, 15.16it/s]s]\n",
      "Iteration:  16%|█▌        | 10/62 [00:01<00:07,  7.02it/s]"
     ]
    },
    {
     "name": "stdout",
     "output_type": "stream",
     "text": [
      "{'Train':  best_epoch_indx:24\n",
      " auc:0.8995863788296372 \n",
      " apur:0.8739873656548314 \n",
      " f1:0.7782643312101911 \n",
      " precision:0.8126645420534848 \n",
      " recall:0.746658179503501 \n",
      ", 'Validation':  best_epoch_indx:24\n",
      " auc:0.8644356894643263 \n",
      " apur:0.834877813574102 \n",
      " f1:0.740072202166065 \n",
      " precision:0.779467680608365 \n",
      " recall:0.7044673539518901 \n",
      ", 'Test':  best_epoch_indx:24\n",
      " auc:0.8686796162048225 \n",
      " apur:0.8381917346972891 \n",
      " f1:0.7516075256013337 \n",
      " precision:0.782350024789291 \n",
      " recall:0.7231897341888176 \n",
      "}\n",
      "=====Epoch 25\n",
      "Training...\n"
     ]
    },
    {
     "name": "stderr",
     "output_type": "stream",
     "text": [
      "Iteration: 100%|██████████| 18/18 [00:01<00:00, 14.25it/s]\n",
      "Iteration: 100%|██████████| 62/62 [00:08<00:00,  7.20it/s]\n",
      "Iteration:  24%|██▍       | 15/62 [00:02<00:07,  6.65it/s]"
     ]
    },
    {
     "name": "stdout",
     "output_type": "stream",
     "text": [
      "Evaluating...\n"
     ]
    },
    {
     "name": "stderr",
     "output_type": "stream",
     "text": [
      "Iteration: 100%|██████████| 62/62 [00:09<00:00,  6.28it/s]\n",
      "Iteration:   0%|          | 0/62 [00:00<?, ?it/s]"
     ]
    },
    {
     "name": "stdout",
     "output_type": "stream",
     "text": [
      "Evaluating...\n"
     ]
    },
    {
     "name": "stderr",
     "output_type": "stream",
     "text": [
      "Iteration: 100%|██████████| 7/7 [00:00<00:00, 11.43it/s]s]\n",
      "Iteration: 100%|██████████| 62/62 [00:04<00:00, 15.07it/s]\n",
      "Iteration:  82%|████████▏ | 51/62 [00:07<00:01,  7.04it/s]"
     ]
    },
    {
     "name": "stdout",
     "output_type": "stream",
     "text": [
      "{'Train':  best_epoch_indx:24\n",
      " auc:0.8910986370719526 \n",
      " apur:0.8674428505894273 \n",
      " f1:0.777028778843661 \n",
      " precision:0.7914961045820679 \n",
      " recall:0.7630808402291535 \n",
      ", 'Validation':  best_epoch_indx:24\n",
      " auc:0.8537725479306235 \n",
      " apur:0.826117704283959 \n",
      " f1:0.7275943396226415 \n",
      " precision:0.7496962332928311 \n",
      " recall:0.7067583046964491 \n",
      ", 'Test':  best_epoch_indx:24\n",
      " auc:0.8651854374210256 \n",
      " apur:0.8318777470849167 \n",
      " f1:0.7488986784140969 \n",
      " precision:0.7578601595495073 \n",
      " recall:0.7401466544454629 \n",
      "}\n",
      "=====Epoch 25\n",
      "Training...\n"
     ]
    },
    {
     "name": "stderr",
     "output_type": "stream",
     "text": [
      "Iteration: 100%|██████████| 18/18 [00:01<00:00, 15.72it/s]\n",
      "Iteration: 100%|██████████| 62/62 [00:04<00:00, 13.20it/s]\n",
      "Iteration: 100%|██████████| 62/62 [00:09<00:00,  6.65it/s]\n",
      "Iteration:  11%|█         | 2/18 [00:00<00:01, 13.63it/s]]"
     ]
    },
    {
     "name": "stdout",
     "output_type": "stream",
     "text": [
      "Evaluating...\n"
     ]
    },
    {
     "name": "stderr",
     "output_type": "stream",
     "text": [
      "Iteration: 100%|██████████| 18/18 [00:01<00:00, 14.34it/s]\n",
      "Iteration: 100%|██████████| 62/62 [00:09<00:00,  6.64it/s]\n",
      "Iteration:  29%|██▊       | 2/7 [00:00<00:00, 13.58it/s]s]"
     ]
    },
    {
     "name": "stdout",
     "output_type": "stream",
     "text": [
      "Evaluating...\n"
     ]
    },
    {
     "name": "stderr",
     "output_type": "stream",
     "text": [
      "Iteration: 100%|██████████| 7/7 [00:00<00:00, 14.02it/s]s]\n",
      "Iteration:  48%|████▊     | 30/62 [00:01<00:02, 15.10it/s]"
     ]
    },
    {
     "name": "stdout",
     "output_type": "stream",
     "text": [
      "{'Train':  best_epoch_indx:25\n",
      " auc:0.8919172870771033 \n",
      " apur:0.8641004302774028 \n",
      " f1:0.7808538815665006 \n",
      " precision:0.7736815796050988 \n",
      " recall:0.788160407383832 \n",
      ", 'Validation':  best_epoch_indx:25\n",
      " auc:0.8660208422522284 \n",
      " apur:0.8417401086753176 \n",
      " f1:0.7546742209631727 \n",
      " precision:0.7466367713004485 \n",
      " recall:0.7628865979381443 \n",
      ", 'Test':  best_epoch_indx:25\n",
      " auc:0.8658135286750129 \n",
      " apur:0.8414837344788465 \n",
      " f1:0.7446224256292906 \n",
      " precision:0.743601462522852 \n",
      " recall:0.7456461961503208 \n",
      "}\n",
      "=====Epoch 26\n",
      "Training...\n"
     ]
    },
    {
     "name": "stderr",
     "output_type": "stream",
     "text": [
      "Iteration: 100%|██████████| 62/62 [00:04<00:00, 13.72it/s]\n",
      "Iteration: 100%|██████████| 7/7 [00:00<00:00, 14.79it/s]s]\n",
      "Iteration:  31%|███       | 19/62 [00:03<00:07,  5.88it/s]"
     ]
    },
    {
     "name": "stdout",
     "output_type": "stream",
     "text": [
      "{'Train':  best_epoch_indx:25\n",
      " auc:0.9001850483416984 \n",
      " apur:0.8771500741448979 \n",
      " f1:0.7877638730881052 \n",
      " precision:0.7822266850759383 \n",
      " recall:0.7933800127307448 \n",
      ", 'Validation':  best_epoch_indx:25\n",
      " auc:0.8630221651412946 \n",
      " apur:0.826384072796084 \n",
      " f1:0.744212962962963 \n",
      " precision:0.752046783625731 \n",
      " recall:0.736540664375716 \n",
      ", 'Test':  best_epoch_indx:25\n",
      " auc:0.8743266426461767 \n",
      " apur:0.8468371554032263 \n",
      " f1:0.7686006825938565 \n",
      " precision:0.763217352010845 \n",
      " recall:0.7740604949587534 \n",
      "}\n",
      "=====Epoch 26\n",
      "Training...\n"
     ]
    },
    {
     "name": "stderr",
     "output_type": "stream",
     "text": [
      "Iteration: 100%|██████████| 18/18 [00:01<00:00, 14.44it/s]\n",
      "Iteration: 100%|██████████| 62/62 [00:04<00:00, 13.09it/s]\n",
      "Iteration: 100%|██████████| 18/18 [00:01<00:00, 13.53it/s]\n",
      "Iteration: 100%|██████████| 62/62 [00:10<00:00,  6.03it/s]\n",
      "Iteration:   0%|          | 0/62 [00:00<?, ?it/s]"
     ]
    },
    {
     "name": "stdout",
     "output_type": "stream",
     "text": [
      "Evaluating...\n"
     ]
    },
    {
     "name": "stderr",
     "output_type": "stream",
     "text": [
      "Iteration: 100%|██████████| 62/62 [00:09<00:00,  6.21it/s]\n",
      "Iteration:  65%|██████▍   | 40/62 [00:03<00:01, 13.22it/s]"
     ]
    },
    {
     "name": "stdout",
     "output_type": "stream",
     "text": [
      "Evaluating...\n",
      "{'Train':  best_epoch_indx:26\n",
      " auc:0.9031208070737158 \n",
      " apur:0.8777626899752333 \n",
      " f1:0.7916422115271745 \n",
      " precision:0.7344005227049983 \n",
      " recall:0.8585614258434119 \n",
      ", 'Validation':  best_epoch_indx:26\n",
      " auc:0.8553143114998785 \n",
      " apur:0.8190150226530248 \n",
      " f1:0.7463806970509383 \n",
      " precision:0.7016129032258065 \n",
      " recall:0.7972508591065293 \n",
      ", 'Test':  best_epoch_indx:26\n",
      " auc:0.8723793078971813 \n",
      " apur:0.8440393614692704 \n",
      " f1:0.7605157471993237 \n",
      " precision:0.7057669674382111 \n",
      " recall:0.8244729605866178 \n",
      "}\n",
      "=====Epoch 27\n",
      "Training...\n"
     ]
    },
    {
     "name": "stderr",
     "output_type": "stream",
     "text": [
      "Iteration: 100%|██████████| 7/7 [00:00<00:00, 14.48it/s]s]\n",
      "Iteration: 100%|██████████| 62/62 [00:08<00:00,  7.18it/s]\n",
      "Iteration: 100%|██████████| 62/62 [00:04<00:00, 12.89it/s]\n",
      "Iteration:  15%|█▍        | 9/62 [00:01<00:08,  6.07it/s]"
     ]
    },
    {
     "name": "stdout",
     "output_type": "stream",
     "text": [
      "Evaluating...\n"
     ]
    },
    {
     "name": "stderr",
     "output_type": "stream",
     "text": [
      "Iteration: 100%|██████████| 7/7 [00:00<00:00, 14.26it/s]s]\n",
      "Iteration:   2%|▏         | 1/62 [00:00<00:08,  7.24it/s]]"
     ]
    },
    {
     "name": "stdout",
     "output_type": "stream",
     "text": [
      "{'Train':  best_epoch_indx:25\n",
      " auc:0.8991994899603207 \n",
      " apur:0.8739679452925555 \n",
      " f1:0.7857323551732861 \n",
      " precision:0.7806962423023752 \n",
      " recall:0.7908338637810312 \n",
      ", 'Validation':  best_epoch_indx:25\n",
      " auc:0.8617542357519448 \n",
      " apur:0.8340514040380884 \n",
      " f1:0.739943342776204 \n",
      " precision:0.7320627802690582 \n",
      " recall:0.7479954180985109 \n",
      ", 'Test':  best_epoch_indx:25\n",
      " auc:0.8698849169976577 \n",
      " apur:0.8398073667708794 \n",
      " f1:0.761515770365328 \n",
      " precision:0.7541573033707866 \n",
      " recall:0.769019248395967 \n",
      "}\n",
      "=====Epoch 26\n",
      "Training...\n"
     ]
    },
    {
     "name": "stderr",
     "output_type": "stream",
     "text": [
      "Iteration: 100%|██████████| 18/18 [00:01<00:00, 14.33it/s]\n",
      "Iteration: 100%|██████████| 62/62 [00:04<00:00, 12.56it/s]\n",
      "Iteration: 100%|██████████| 62/62 [00:04<00:00, 14.45it/s]\n",
      "Iteration: 100%|██████████| 18/18 [00:01<00:00, 15.77it/s]\n",
      "Iteration: 100%|██████████| 18/18 [00:01<00:00, 15.72it/s]\n",
      "Iteration: 100%|██████████| 7/7 [00:00<00:00, 13.71it/s]s]\n",
      "Iteration:   0%|          | 0/62 [00:00<?, ?it/s]"
     ]
    },
    {
     "name": "stdout",
     "output_type": "stream",
     "text": [
      "{'Train':  best_epoch_indx:25\n",
      " auc:0.8924811495064604 \n",
      " apur:0.8679144748617864 \n",
      " f1:0.78355898245401 \n",
      " precision:0.7489554317548747 \n",
      " recall:0.8215149586250796 \n",
      ", 'Validation':  best_epoch_indx:25\n",
      " auc:0.8565340306462873 \n",
      " apur:0.829237451687643 \n",
      " f1:0.7372421281216068 \n",
      " precision:0.7007223942208463 \n",
      " recall:0.7777777777777778 \n",
      ", 'Test':  best_epoch_indx:25\n",
      " auc:0.8676053407360321 \n",
      " apur:0.8360116457924658 \n",
      " f1:0.7574578469520103 \n",
      " precision:0.7168576104746317 \n",
      " recall:0.8029330889092575 \n",
      "}\n",
      "=====Epoch 26\n",
      "Training...\n"
     ]
    },
    {
     "name": "stderr",
     "output_type": "stream",
     "text": [
      "Iteration: 100%|██████████| 62/62 [00:10<00:00,  6.17it/s]\n",
      "Iteration:   0%|          | 0/62 [00:00<?, ?it/s]"
     ]
    },
    {
     "name": "stdout",
     "output_type": "stream",
     "text": [
      "Evaluating...\n"
     ]
    },
    {
     "name": "stderr",
     "output_type": "stream",
     "text": [
      "Iteration: 100%|██████████| 7/7 [00:00<00:00, 15.11it/s]s]\n",
      "Iteration:  32%|███▏      | 20/62 [00:01<00:02, 14.65it/s]"
     ]
    },
    {
     "name": "stdout",
     "output_type": "stream",
     "text": [
      "{'Train':  best_epoch_indx:26\n",
      " auc:0.8968085606815295 \n",
      " apur:0.8712919482930503 \n",
      " f1:0.7841614906832298 \n",
      " precision:0.7972635179581634 \n",
      " recall:0.7714831317632082 \n",
      ", 'Validation':  best_epoch_indx:26\n",
      " auc:0.8682346566080816 \n",
      " apur:0.8467987569455294 \n",
      " f1:0.7543655413271245 \n",
      " precision:0.7668639053254438 \n",
      " recall:0.7422680412371134 \n",
      ", 'Test':  best_epoch_indx:26\n",
      " auc:0.8702131002948587 \n",
      " apur:0.8452697954540962 \n",
      " f1:0.7396547647197919 \n",
      " precision:0.7640449438202247 \n",
      " recall:0.7167736021998167 \n",
      "}\n",
      "=====Epoch 27\n",
      "Training...\n",
      "Evaluating...\n"
     ]
    },
    {
     "name": "stderr",
     "output_type": "stream",
     "text": [
      "Iteration: 100%|██████████| 62/62 [00:09<00:00,  6.62it/s]\n",
      "Iteration: 100%|██████████| 7/7 [00:00<00:00, 14.55it/s]s]\n",
      "Iteration:  11%|█▏        | 7/62 [00:01<00:08,  6.62it/s]]"
     ]
    },
    {
     "name": "stdout",
     "output_type": "stream",
     "text": [
      "{'Train':  best_epoch_indx:26\n",
      " auc:0.9038897010180427 \n",
      " apur:0.8804918784685272 \n",
      " f1:0.7892679695263333 \n",
      " precision:0.8227900552486188 \n",
      " recall:0.7583704646721833 \n",
      ", 'Validation':  best_epoch_indx:26\n",
      " auc:0.8638793432607865 \n",
      " apur:0.8271346539835649 \n",
      " f1:0.7427536231884058 \n",
      " precision:0.7854406130268199 \n",
      " recall:0.7044673539518901 \n",
      ", 'Test':  best_epoch_indx:26\n",
      " auc:0.8777597656690167 \n",
      " apur:0.8488012009225335 \n",
      " f1:0.7592681752527684 \n",
      " precision:0.7996957403651116 \n",
      " recall:0.7227314390467461 \n",
      "}\n",
      "=====Epoch 27\n",
      "Training...\n"
     ]
    },
    {
     "name": "stderr",
     "output_type": "stream",
     "text": [
      "Iteration: 100%|██████████| 62/62 [00:04<00:00, 15.19it/s]\n",
      "Iteration: 100%|██████████| 18/18 [00:01<00:00, 15.88it/s]\n",
      "Iteration: 100%|██████████| 62/62 [00:04<00:00, 14.62it/s]\n",
      "Iteration: 100%|██████████| 18/18 [00:01<00:00, 15.89it/s]\n",
      "Iteration: 100%|██████████| 62/62 [00:09<00:00,  6.83it/s]\n",
      "Iteration:  69%|██████▉   | 43/62 [00:05<00:02,  7.21it/s]"
     ]
    },
    {
     "name": "stdout",
     "output_type": "stream",
     "text": [
      "Evaluating...\n"
     ]
    },
    {
     "name": "stderr",
     "output_type": "stream",
     "text": [
      "Iteration: 100%|██████████| 62/62 [00:09<00:00,  6.89it/s]\n",
      "Iteration:  86%|████████▌ | 6/7 [00:00<00:00, 14.83it/s]]]"
     ]
    },
    {
     "name": "stdout",
     "output_type": "stream",
     "text": [
      "Evaluating...\n"
     ]
    },
    {
     "name": "stderr",
     "output_type": "stream",
     "text": [
      "\r",
      "Iteration:  52%|█████▏    | 32/62 [00:02<00:02, 14.18it/s]\r",
      "Iteration:  95%|█████████▌| 59/62 [00:08<00:00,  6.87it/s]\r",
      "Iteration: 100%|██████████| 7/7 [00:00<00:00, 14.95it/s]\n",
      "\r",
      "Iteration:   0%|          | 0/62 [00:00<?, ?it/s]\r",
      "Iteration:   6%|▋         | 4/62 [00:00<00:03, 14.57it/s]\r",
      "Iteration:  55%|█████▍    | 34/62 [00:02<00:01, 14.38it/s]\r",
      "Iteration:  97%|█████████▋| 60/62 [00:08<00:00,  6.93it/s]\r",
      "Iteration:  10%|▉         | 6/62 [00:00<00:03, 14.83it/s]\r",
      "Iteration:   2%|▏         | 1/62 [00:00<00:08,  7.19it/s]"
     ]
    },
    {
     "name": "stdout",
     "output_type": "stream",
     "text": [
      "{'Train':  best_epoch_indx:27\n",
      " auc:0.905778774338587 \n",
      " apur:0.8812635876133839 \n",
      " f1:0.799662487945998 \n",
      " precision:0.7592995307313724 \n",
      " recall:0.8445576066199872 \n",
      ", 'Validation':  best_epoch_indx:27\n",
      " auc:0.8594507503442211 \n",
      " apur:0.8225251063174921 \n",
      " f1:0.7565502183406113 \n",
      " precision:0.7226277372262774 \n",
      " recall:0.7938144329896907 \n",
      ", 'Test':  best_epoch_indx:27\n",
      " auc:0.8744343835544569 \n",
      " apur:0.8469754236204912 \n",
      " f1:0.7654482158398607 \n",
      " precision:0.7286661143330572 \n",
      " recall:0.806141154903758 \n",
      "}\n",
      "=====Epoch 28\n",
      "Training...\n"
     ]
    },
    {
     "name": "stderr",
     "output_type": "stream",
     "text": [
      "\r",
      "Iteration:  58%|█████▊    | 36/62 [00:02<00:01, 14.24it/s]\r",
      "Iteration:  98%|█████████▊| 61/62 [00:08<00:00,  7.01it/s]\r",
      "Iteration:  13%|█▎        | 8/62 [00:00<00:03, 14.88it/s]\r",
      "Iteration:   3%|▎         | 2/62 [00:00<00:08,  7.20it/s]\r",
      "Iteration: 100%|██████████| 62/62 [00:08<00:00,  7.36it/s]\r",
      "Iteration: 100%|██████████| 62/62 [00:08<00:00,  7.17it/s]\n",
      "\r",
      "Iteration:   0%|          | 0/62 [00:00<?, ?it/s]\r",
      "Iteration:  61%|██████▏   | 38/62 [00:02<00:01, 14.50it/s]\r",
      "Iteration:  16%|█▌        | 10/62 [00:00<00:03, 14.99it/s]\r",
      "Iteration:   5%|▍         | 3/62 [00:00<00:08,  7.21it/s]"
     ]
    },
    {
     "name": "stdout",
     "output_type": "stream",
     "text": [
      "Evaluating...\n"
     ]
    },
    {
     "name": "stderr",
     "output_type": "stream",
     "text": [
      "Iteration: 100%|██████████| 7/7 [00:00<00:00, 15.38it/s]s]\n",
      "Iteration:   0%|          | 0/62 [00:00<?, ?it/s]5.10it/s]"
     ]
    },
    {
     "name": "stdout",
     "output_type": "stream",
     "text": [
      "{'Train':  best_epoch_indx:26\n",
      " auc:0.9042293191945723 \n",
      " apur:0.8809470671799837 \n",
      " f1:0.7913945447560506 \n",
      " precision:0.7960839881489115 \n",
      " recall:0.7867600254614895 \n",
      ", 'Validation':  best_epoch_indx:26\n",
      " auc:0.8662069337899807 \n",
      " apur:0.8430583791966855 \n",
      " f1:0.7459396751740139 \n",
      " precision:0.7555816686251469 \n",
      " recall:0.736540664375716 \n",
      ", 'Test':  best_epoch_indx:26\n",
      " auc:0.8703189857635321 \n",
      " apur:0.8443977177241905 \n",
      " f1:0.7606994937873907 \n",
      " precision:0.7638632162661737 \n",
      " recall:0.7575618698441796 \n",
      "}\n",
      "=====Epoch 27\n",
      "Training...\n"
     ]
    },
    {
     "name": "stderr",
     "output_type": "stream",
     "text": [
      "Iteration: 100%|██████████| 62/62 [00:04<00:00, 13.89it/s]\n",
      "Iteration: 100%|██████████| 18/18 [00:01<00:00, 16.00it/s]\n",
      "Iteration: 100%|██████████| 62/62 [00:04<00:00, 15.19it/s]\n",
      "Iteration: 100%|██████████| 7/7 [00:00<00:00, 15.64it/s]s]\n",
      "Iteration:   2%|▏         | 1/62 [00:00<00:08,  6.78it/s]]"
     ]
    },
    {
     "name": "stdout",
     "output_type": "stream",
     "text": [
      "{'Train':  best_epoch_indx:26\n",
      " auc:0.8954621266298242 \n",
      " apur:0.8716344180940598 \n",
      " f1:0.7859718940430295 \n",
      " precision:0.7682022608484259 \n",
      " recall:0.8045830681094844 \n",
      ", 'Validation':  best_epoch_indx:26\n",
      " auc:0.856599596576687 \n",
      " apur:0.8278654504998277 \n",
      " f1:0.7359550561797752 \n",
      " precision:0.7221609702315325 \n",
      " recall:0.7502863688430699 \n",
      ", 'Test':  best_epoch_indx:26\n",
      " auc:0.8666300936132273 \n",
      " apur:0.8348009918584695 \n",
      " f1:0.7579462102689487 \n",
      " precision:0.7358653431160984 \n",
      " recall:0.7813932172318974 \n",
      "}\n",
      "=====Epoch 27\n",
      "Training...\n"
     ]
    },
    {
     "name": "stderr",
     "output_type": "stream",
     "text": [
      "Iteration: 100%|██████████| 62/62 [00:04<00:00, 15.14it/s]\n",
      "Iteration: 100%|██████████| 18/18 [00:01<00:00, 15.98it/s]\n",
      "Iteration: 100%|██████████| 7/7 [00:00<00:00, 15.61it/s]s]\n",
      "Iteration:   0%|          | 0/62 [00:00<?, ?it/s]7.15it/s]"
     ]
    },
    {
     "name": "stdout",
     "output_type": "stream",
     "text": [
      "{'Train':  best_epoch_indx:27\n",
      " auc:0.897848563682603 \n",
      " apur:0.8711467756792185 \n",
      " f1:0.7839293827481014 \n",
      " precision:0.799655720338983 \n",
      " recall:0.7688096753660089 \n",
      ", 'Validation':  best_epoch_indx:27\n",
      " auc:0.869505478612008 \n",
      " apur:0.8451757949999796 \n",
      " f1:0.7539450613676213 \n",
      " precision:0.7696897374701671 \n",
      " recall:0.738831615120275 \n",
      ", 'Test':  best_epoch_indx:27\n",
      " auc:0.8699150309383952 \n",
      " apur:0.8447232612396798 \n",
      " f1:0.7465850211964201 \n",
      " precision:0.7679263565891473 \n",
      " recall:0.726397800183318 \n",
      "}\n",
      "=====Epoch 28\n",
      "Training...\n"
     ]
    },
    {
     "name": "stderr",
     "output_type": "stream",
     "text": [
      "Iteration: 100%|██████████| 18/18 [00:01<00:00, 15.82it/s]\n",
      "Iteration: 100%|██████████| 7/7 [00:00<00:00, 15.52it/s]s]\n",
      "Iteration:  56%|█████▋    | 35/62 [00:04<00:03,  7.31it/s]"
     ]
    },
    {
     "name": "stdout",
     "output_type": "stream",
     "text": [
      "{'Train':  best_epoch_indx:27\n",
      " auc:0.9055255302641004 \n",
      " apur:0.8838075230336078 \n",
      " f1:0.7964308476736774 \n",
      " precision:0.7974473516273133 \n",
      " recall:0.7954169318905155 \n",
      ", 'Validation':  best_epoch_indx:27\n",
      " auc:0.8619374346751209 \n",
      " apur:0.8282129652049243 \n",
      " f1:0.7497103128621088 \n",
      " precision:0.7584994138335287 \n",
      " recall:0.7411225658648339 \n",
      ", 'Test':  best_epoch_indx:27\n",
      " auc:0.8752169917130237 \n",
      " apur:0.8479340414566677 \n",
      " f1:0.7631760644418872 \n",
      " precision:0.7665279704114656 \n",
      " recall:0.7598533455545371 \n",
      "}\n",
      "=====Epoch 28\n",
      "Training...\n"
     ]
    },
    {
     "name": "stderr",
     "output_type": "stream",
     "text": [
      "Iteration: 100%|██████████| 62/62 [00:08<00:00,  7.31it/s]\n",
      "Iteration:   0%|          | 0/62 [00:00<?, ?it/s]"
     ]
    },
    {
     "name": "stdout",
     "output_type": "stream",
     "text": [
      "Evaluating...\n"
     ]
    },
    {
     "name": "stderr",
     "output_type": "stream",
     "text": [
      "Iteration: 100%|██████████| 62/62 [00:08<00:00,  7.30it/s]\n",
      "Iteration:  52%|█████▏    | 32/62 [00:04<00:04,  7.21it/s]"
     ]
    },
    {
     "name": "stdout",
     "output_type": "stream",
     "text": [
      "Evaluating...\n"
     ]
    },
    {
     "name": "stderr",
     "output_type": "stream",
     "text": [
      "Iteration: 100%|██████████| 62/62 [00:04<00:00, 15.34it/s]\n",
      "Iteration: 100%|██████████| 62/62 [00:08<00:00,  7.24it/s]\n",
      "Iteration:  73%|███████▎  | 45/62 [00:06<00:02,  7.18it/s]"
     ]
    },
    {
     "name": "stdout",
     "output_type": "stream",
     "text": [
      "Evaluating...\n"
     ]
    },
    {
     "name": "stderr",
     "output_type": "stream",
     "text": [
      "Iteration: 100%|██████████| 18/18 [00:01<00:00, 15.95it/s]\n",
      "Iteration: 100%|██████████| 62/62 [00:04<00:00, 15.32it/s]\n",
      "Iteration: 100%|██████████| 62/62 [00:08<00:00,  7.25it/s]\n",
      "Iteration:  86%|████████▌ | 6/7 [00:00<00:00, 15.38it/s]s]"
     ]
    },
    {
     "name": "stdout",
     "output_type": "stream",
     "text": [
      "Evaluating...\n",
      "{'Train':  best_epoch_indx:28\n",
      " auc:0.9081581873344156 \n",
      " apur:0.8834432614533265 \n",
      " f1:0.80065103381759 \n",
      " precision:0.760361804442409 \n",
      " recall:0.845448758752387 \n",
      ", 'Validation':  best_epoch_indx:28\n",
      " auc:0.8605730847998889 \n",
      " apur:0.8244699099498312 \n",
      " f1:0.7486338797814208 \n",
      " precision:0.7157784743991641 \n",
      " recall:0.7846506300114547 \n",
      ", 'Test':  best_epoch_indx:28\n",
      " auc:0.8751124134717168 \n",
      " apur:0.8455702967111568 \n",
      " f1:0.7636205773822444 \n",
      " precision:0.725360824742268 \n",
      " recall:0.806141154903758 \n",
      "}\n",
      "=====Epoch 29\n",
      "Training...\n"
     ]
    },
    {
     "name": "stderr",
     "output_type": "stream",
     "text": [
      "Iteration: 100%|██████████| 7/7 [00:00<00:00, 15.57it/s]]]\n",
      "Iteration: 100%|██████████| 62/62 [00:08<00:00,  7.26it/s]\n",
      "Iteration:  67%|██████▋   | 12/18 [00:00<00:00, 15.34it/s]"
     ]
    },
    {
     "name": "stdout",
     "output_type": "stream",
     "text": [
      "Evaluating...\n"
     ]
    },
    {
     "name": "stderr",
     "output_type": "stream",
     "text": [
      "Iteration: 100%|██████████| 18/18 [00:01<00:00, 15.88it/s]\n",
      "Iteration: 100%|██████████| 62/62 [00:04<00:00, 15.23it/s]\n",
      "Iteration: 100%|██████████| 18/18 [00:01<00:00, 15.86it/s]\n",
      "Iteration: 100%|██████████| 62/62 [00:04<00:00, 15.25it/s]\n",
      "Iteration: 100%|██████████| 62/62 [00:04<00:00, 15.22it/s]\n",
      "Iteration: 100%|██████████| 18/18 [00:01<00:00, 15.98it/s]\n",
      "Iteration: 100%|██████████| 18/18 [00:01<00:00, 15.78it/s]\n",
      "Iteration: 100%|██████████| 7/7 [00:00<00:00, 15.21it/s]s]\n",
      "Iteration:   2%|▏         | 1/62 [00:00<00:08,  7.24it/s]]"
     ]
    },
    {
     "name": "stdout",
     "output_type": "stream",
     "text": [
      "{'Train':  best_epoch_indx:27\n",
      " auc:0.9096400524546225 \n",
      " apur:0.886751663700873 \n",
      " f1:0.7898395721925134 \n",
      " precision:0.8315270935960591 \n",
      " recall:0.7521323997453851 \n",
      ", 'Validation':  best_epoch_indx:27\n",
      " auc:0.8689954142416914 \n",
      " apur:0.845139284913788 \n",
      " f1:0.7454764776839568 \n",
      " precision:0.7872611464968153 \n",
      " recall:0.7079037800687286 \n",
      ", 'Test':  best_epoch_indx:27\n",
      " auc:0.8740550170201865 \n",
      " apur:0.847850696323944 \n",
      " f1:0.7608957380207079 \n",
      " precision:0.8016235413495687 \n",
      " recall:0.7241063244729606 \n",
      "}\n",
      "=====Epoch 28\n",
      "Training...\n"
     ]
    },
    {
     "name": "stderr",
     "output_type": "stream",
     "text": [
      "Iteration: 100%|██████████| 7/7 [00:00<00:00, 14.33it/s]s]\n",
      "Iteration: 100%|██████████| 62/62 [00:08<00:00,  7.13it/s]\n",
      "Iteration:  31%|███       | 19/62 [00:02<00:05,  7.19it/s]"
     ]
    },
    {
     "name": "stdout",
     "output_type": "stream",
     "text": [
      "{'Train':  best_epoch_indx:27\n",
      " auc:0.899274532139176 \n",
      " apur:0.8767317025299364 \n",
      " f1:0.7906919477961093 \n",
      " precision:0.7655262844200739 \n",
      " recall:0.8175684277530235 \n",
      ", 'Validation':  best_epoch_indx:27\n",
      " auc:0.8594816048997035 \n",
      " apur:0.8335369669925186 \n",
      " f1:0.7479131886477463 \n",
      " precision:0.7272727272727273 \n",
      " recall:0.7697594501718213 \n",
      ", 'Test':  best_epoch_indx:27\n",
      " auc:0.8684913677200302 \n",
      " apur:0.839214810284952 \n",
      " f1:0.7548500881834215 \n",
      " precision:0.7272727272727273 \n",
      " recall:0.7846012832263978 \n",
      "}\n",
      "=====Epoch 28\n",
      "Training...\n",
      "Evaluating...\n"
     ]
    },
    {
     "name": "stderr",
     "output_type": "stream",
     "text": [
      "Iteration: 100%|██████████| 7/7 [00:00<00:00, 14.11it/s]s]\n",
      "Iteration:   0%|          | 0/7 [00:00<?, ?it/s] 7.19it/s]"
     ]
    },
    {
     "name": "stdout",
     "output_type": "stream",
     "text": [
      "{'Train':  best_epoch_indx:28\n",
      " auc:0.9036107381271514 \n",
      " apur:0.8793225151412559 \n",
      " f1:0.7834735015351756 \n",
      " precision:0.8234881436789673 \n",
      " recall:0.7471674092934437 \n",
      ", 'Validation':  best_epoch_indx:28\n",
      " auc:0.8740931653302787 \n",
      " apur:0.8520538997720523 \n",
      " f1:0.7545126353790613 \n",
      " precision:0.7946768060836502 \n",
      " recall:0.718213058419244 \n",
      ", 'Test':  best_epoch_indx:28\n",
      " auc:0.8744214197486461 \n",
      " apur:0.8510436708526122 \n",
      " f1:0.7464138098711403 \n",
      " precision:0.7949249093733817 \n",
      " recall:0.7034830430797434 \n",
      "}\n",
      "=====Epoch 29\n",
      "Training...\n"
     ]
    },
    {
     "name": "stderr",
     "output_type": "stream",
     "text": [
      "Iteration: 100%|██████████| 7/7 [00:00<00:00, 15.24it/s]s]\n"
     ]
    },
    {
     "name": "stdout",
     "output_type": "stream",
     "text": [
      "{'Train':  best_epoch_indx:28\n",
      " auc:0.907532843594643 \n",
      " apur:0.885117547506233 \n",
      " f1:0.7943846995943075 \n",
      " precision:0.8037529319781079 \n",
      " recall:0.7852323360916613 \n",
      ", 'Validation':  best_epoch_indx:28\n",
      " auc:0.866884769805732 \n",
      " apur:0.8304374077249485 \n",
      " f1:0.7519151443724219 \n",
      " precision:0.7742718446601942 \n",
      " recall:0.7308132875143184 \n",
      ", 'Test':  best_epoch_indx:28\n",
      " auc:0.8773145139555424 \n",
      " apur:0.8494097275275783 \n",
      " f1:0.763011152416357 \n",
      " precision:0.7737983034872762 \n",
      " recall:0.7525206232813932 \n",
      "}\n",
      "=====Epoch 29\n",
      "Training...\n"
     ]
    },
    {
     "name": "stderr",
     "output_type": "stream",
     "text": [
      "Iteration: 100%|██████████| 62/62 [00:04<00:00, 15.11it/s]\n",
      "Iteration: 100%|██████████| 18/18 [00:01<00:00, 15.97it/s]\n",
      "Iteration: 100%|██████████| 62/62 [00:08<00:00,  7.26it/s]\n",
      "Iteration:  71%|███████   | 44/62 [00:06<00:02,  7.21it/s]"
     ]
    },
    {
     "name": "stdout",
     "output_type": "stream",
     "text": [
      "Evaluating...\n"
     ]
    },
    {
     "name": "stderr",
     "output_type": "stream",
     "text": [
      "Iteration: 100%|██████████| 62/62 [00:08<00:00,  7.21it/s]\n",
      "Iteration:  81%|████████  | 50/62 [00:06<00:01,  7.26it/s]"
     ]
    },
    {
     "name": "stdout",
     "output_type": "stream",
     "text": [
      "Evaluating...\n"
     ]
    },
    {
     "name": "stderr",
     "output_type": "stream",
     "text": [
      "Iteration: 100%|██████████| 62/62 [00:04<00:00, 15.24it/s]\n",
      "Iteration: 100%|██████████| 62/62 [00:08<00:00,  7.05it/s]\n",
      "Iteration: 100%|██████████| 7/7 [00:00<00:00, 14.66it/s]\n"
     ]
    },
    {
     "name": "stdout",
     "output_type": "stream",
     "text": [
      "Evaluating...\n",
      "{'Train':  best_epoch_indx:29\n",
      " auc:0.9100801022175543 \n",
      " apur:0.8869904683363643 \n",
      " f1:0.8021280454627895 \n",
      " precision:0.7637577711259498 \n",
      " recall:0.8445576066199872 \n",
      ", 'Validation':  best_epoch_indx:29\n",
      " auc:0.8601980091098075 \n",
      " apur:0.8248956151239688 \n",
      " f1:0.7458926615553122 \n",
      " precision:0.7145855194123819 \n",
      " recall:0.7800687285223368 \n",
      ", 'Test':  best_epoch_indx:29\n",
      " auc:0.8764948599962349 \n",
      " apur:0.8483951662967137 \n",
      " f1:0.763897972531066 \n",
      " precision:0.7284823284823285 \n",
      " recall:0.8029330889092575 \n",
      "}\n",
      "=====Epoch 30\n",
      "Training...\n"
     ]
    },
    {
     "name": "stderr",
     "output_type": "stream",
     "text": [
      "Iteration: 100%|██████████| 62/62 [00:08<00:00,  7.08it/s]\n",
      "Iteration:   6%|▋         | 4/62 [00:00<00:09,  6.23it/s]]"
     ]
    },
    {
     "name": "stdout",
     "output_type": "stream",
     "text": [
      "Evaluating...\n"
     ]
    },
    {
     "name": "stderr",
     "output_type": "stream",
     "text": [
      "Iteration: 100%|██████████| 18/18 [00:01<00:00, 15.92it/s]\n",
      "Iteration: 100%|██████████| 7/7 [00:00<00:00, 15.54it/s]s]\n",
      "Iteration:  35%|███▌      | 22/62 [00:01<00:02, 15.15it/s]"
     ]
    },
    {
     "name": "stdout",
     "output_type": "stream",
     "text": [
      "{'Train':  best_epoch_indx:28\n",
      " auc:0.9106397357045464 \n",
      " apur:0.8891814135736487 \n",
      " f1:0.7946889920858132 \n",
      " precision:0.8171912832929782 \n",
      " recall:0.7733927434754934 \n",
      ", 'Validation':  best_epoch_indx:28\n",
      " auc:0.8699827600171244 \n",
      " apur:0.844693983528968 \n",
      " f1:0.7532777115613825 \n",
      " precision:0.7850931677018633 \n",
      " recall:0.7239404352806414 \n",
      ", 'Test':  best_epoch_indx:28\n",
      " auc:0.8733963527730714 \n",
      " apur:0.8455307827306037 \n",
      " f1:0.7561090225563911 \n",
      " precision:0.7757955641272902 \n",
      " recall:0.7373968835930339 \n",
      "}\n",
      "=====Epoch 29\n",
      "Training...\n"
     ]
    },
    {
     "name": "stderr",
     "output_type": "stream",
     "text": [
      "Iteration: 100%|██████████| 62/62 [00:04<00:00, 15.22it/s]\n",
      "Iteration: 100%|██████████| 18/18 [00:01<00:00, 15.95it/s]\n",
      "Iteration: 100%|██████████| 62/62 [00:04<00:00, 15.25it/s]\n",
      "Iteration: 100%|██████████| 62/62 [00:04<00:00, 15.26it/s]\n",
      "Iteration: 100%|██████████| 18/18 [00:01<00:00, 15.97it/s]\n",
      "Iteration: 100%|██████████| 7/7 [00:00<00:00, 15.49it/s]s]\n",
      "Iteration: 100%|██████████| 18/18 [00:01<00:00, 15.85it/s]\n",
      "Iteration:   2%|▏         | 1/62 [00:00<00:08,  7.25it/s]]"
     ]
    },
    {
     "name": "stdout",
     "output_type": "stream",
     "text": [
      "{'Train':  best_epoch_indx:29\n",
      " auc:0.9046995204832204 \n",
      " apur:0.879433856934069 \n",
      " f1:0.7977677722113006 \n",
      " precision:0.794794035885772 \n",
      " recall:0.800763844684914 \n",
      ", 'Validation':  best_epoch_indx:29\n",
      " auc:0.8771381242744358 \n",
      " apur:0.8524088032420274 \n",
      " f1:0.7651083238312428 \n",
      " precision:0.7616345062429057 \n",
      " recall:0.7686139747995419 \n",
      ", 'Test':  best_epoch_indx:29\n",
      " auc:0.8747295225117229 \n",
      " apur:0.8500974767520759 \n",
      " f1:0.7550034506556246 \n",
      " precision:0.7579676674364896 \n",
      " recall:0.7520623281393217 \n",
      "}\n",
      "=====Epoch 30\n",
      "Training...\n"
     ]
    },
    {
     "name": "stderr",
     "output_type": "stream",
     "text": [
      "Iteration: 100%|██████████| 7/7 [00:00<00:00, 15.18it/s]s]\n",
      "Iteration: 100%|██████████| 62/62 [00:08<00:00,  7.22it/s]\n",
      "Iteration:  85%|████████▌ | 53/62 [00:07<00:01,  7.24it/s]"
     ]
    },
    {
     "name": "stdout",
     "output_type": "stream",
     "text": [
      "{'Train':  best_epoch_indx:28\n",
      " auc:0.9011509950881238 \n",
      " apur:0.8790564665844474 \n",
      " f1:0.7923435335600051 \n",
      " precision:0.7838544910925626 \n",
      " recall:0.8010184595798854 \n",
      ", 'Validation':  best_epoch_indx:28\n",
      " auc:0.8623819331150373 \n",
      " apur:0.8370263919711465 \n",
      " f1:0.750709823963657 \n",
      " precision:0.7443693693693694 \n",
      " recall:0.7571592210767468 \n",
      ", 'Test':  best_epoch_indx:28\n",
      " auc:0.8714177265288519 \n",
      " apur:0.8411097871092357 \n",
      " f1:0.7609624465932089 \n",
      " precision:0.7470198675496689 \n",
      " recall:0.775435380384968 \n",
      "}\n",
      "=====Epoch 29\n",
      "Training...\n",
      "Evaluating...\n"
     ]
    },
    {
     "name": "stderr",
     "output_type": "stream",
     "text": [
      "Iteration: 100%|██████████| 62/62 [00:08<00:00,  7.16it/s]\n",
      "Iteration:  19%|█▉        | 12/62 [00:01<00:06,  7.22it/s]"
     ]
    },
    {
     "name": "stdout",
     "output_type": "stream",
     "text": [
      "Evaluating...\n"
     ]
    },
    {
     "name": "stderr",
     "output_type": "stream",
     "text": [
      "Iteration: 100%|██████████| 7/7 [00:00<00:00, 14.43it/s]s]\n",
      "Iteration:  61%|██████▏   | 38/62 [00:02<00:01, 15.10it/s]"
     ]
    },
    {
     "name": "stdout",
     "output_type": "stream",
     "text": [
      "{'Train':  best_epoch_indx:29\n",
      " auc:0.911748262324796 \n",
      " apur:0.890043221405816 \n",
      " f1:0.8006184371577658 \n",
      " precision:0.8103808033385498 \n",
      " recall:0.7910884786760025 \n",
      ", 'Validation':  best_epoch_indx:29\n",
      " auc:0.868275153212152 \n",
      " apur:0.8339269382075238 \n",
      " f1:0.7570754716981133 \n",
      " precision:0.7800729040097205 \n",
      " recall:0.7353951890034365 \n",
      ", 'Test':  best_epoch_indx:29\n",
      " auc:0.8797976277322124 \n",
      " apur:0.8525703236012919 \n",
      " f1:0.7643638055361713 \n",
      " precision:0.7760982522437412 \n",
      " recall:0.7529789184234648 \n",
      "}\n",
      "=====Epoch 30\n",
      "Training...\n"
     ]
    },
    {
     "name": "stderr",
     "output_type": "stream",
     "text": [
      "Iteration: 100%|██████████| 62/62 [00:04<00:00, 15.29it/s]\n",
      "Iteration: 100%|██████████| 18/18 [00:01<00:00, 16.00it/s]\n",
      "Iteration: 100%|██████████| 62/62 [00:04<00:00, 15.30it/s]\n",
      "Iteration: 100%|██████████| 7/7 [00:00<00:00, 15.68it/s]]]\n",
      "Iteration: 100%|██████████| 62/62 [00:08<00:00,  7.21it/s]\n",
      "Iteration:   0%|          | 0/62 [00:00<?, ?it/s]"
     ]
    },
    {
     "name": "stdout",
     "output_type": "stream",
     "text": [
      "Evaluating...\n",
      "{'Train':  best_epoch_indx:30\n",
      " auc:0.9107308006071073 \n",
      " apur:0.887650220752375 \n",
      " f1:0.8041915438040697 \n",
      " precision:0.77111812127585 \n",
      " recall:0.8402291534054742 \n",
      ", 'Validation':  best_epoch_indx:30\n",
      " auc:0.8601449778425723 \n",
      " apur:0.8267006241135406 \n",
      " f1:0.7455555555555555 \n",
      " precision:0.7238403451995685 \n",
      " recall:0.7686139747995419 \n",
      ", 'Test':  best_epoch_indx:30\n",
      " auc:0.875105006681542 \n",
      " apur:0.8482317871258094 \n",
      " f1:0.7658547289883695 \n",
      " precision:0.7347368421052631 \n",
      " recall:0.7997250229147571 \n",
      "}\n",
      "=====Epoch 31\n",
      "Training...\n"
     ]
    },
    {
     "name": "stderr",
     "output_type": "stream",
     "text": [
      "Iteration: 100%|██████████| 18/18 [00:01<00:00, 15.98it/s]\n",
      "Iteration: 100%|██████████| 62/62 [00:08<00:00,  7.11it/s]\n",
      "Iteration:  73%|███████▎  | 45/62 [00:06<00:02,  7.27it/s]"
     ]
    },
    {
     "name": "stdout",
     "output_type": "stream",
     "text": [
      "Evaluating...\n"
     ]
    },
    {
     "name": "stderr",
     "output_type": "stream",
     "text": [
      "Iteration: 100%|██████████| 62/62 [00:04<00:00, 15.21it/s]\n",
      "Iteration: 100%|██████████| 62/62 [00:08<00:00,  7.23it/s]\n",
      "Iteration:  78%|███████▊  | 14/18 [00:00<00:00, 15.45it/s]"
     ]
    },
    {
     "name": "stdout",
     "output_type": "stream",
     "text": [
      "Evaluating...\n"
     ]
    },
    {
     "name": "stderr",
     "output_type": "stream",
     "text": [
      "Iteration: 100%|██████████| 18/18 [00:01<00:00, 15.88it/s]\n",
      "Iteration: 100%|██████████| 7/7 [00:00<00:00, 14.64it/s]s]\n",
      "Iteration:  23%|██▎       | 14/62 [00:00<00:03, 14.98it/s]"
     ]
    },
    {
     "name": "stdout",
     "output_type": "stream",
     "text": [
      "{'Train':  best_epoch_indx:29\n",
      " auc:0.913033059739636 \n",
      " apur:0.8912172805935614 \n",
      " f1:0.8027356004517505 \n",
      " precision:0.79141407893109 \n",
      " recall:0.8143857415658816 \n",
      ", 'Validation':  best_epoch_indx:29\n",
      " auc:0.8707589449284753 \n",
      " apur:0.8458668946290593 \n",
      " f1:0.7564469914040114 \n",
      " precision:0.7568807339449541 \n",
      " recall:0.7560137457044673 \n",
      ", 'Test':  best_epoch_indx:29\n",
      " auc:0.8753511281467287 \n",
      " apur:0.8473590624577506 \n",
      " f1:0.7658998646820028 \n",
      " precision:0.7539964476021315 \n",
      " recall:0.7781851512373968 \n",
      "}\n",
      "=====Epoch 30\n",
      "Training...\n"
     ]
    },
    {
     "name": "stderr",
     "output_type": "stream",
     "text": [
      "Iteration: 100%|██████████| 62/62 [00:04<00:00, 15.16it/s]\n",
      "Iteration: 100%|██████████| 18/18 [00:01<00:00, 15.95it/s]\n",
      "Iteration: 100%|██████████| 62/62 [00:08<00:00,  7.27it/s]\n",
      "Iteration: 100%|██████████| 7/7 [00:00<00:00, 15.50it/s]s]\n"
     ]
    },
    {
     "name": "stdout",
     "output_type": "stream",
     "text": [
      "Evaluating...\n",
      "{'Train':  best_epoch_indx:29\n",
      " auc:0.9038894568830873 \n",
      " apur:0.8813593118872017 \n",
      " f1:0.7967538759689922 \n",
      " precision:0.7598475222363406 \n",
      " recall:0.8374283895607894 \n",
      ", 'Validation':  best_epoch_indx:29\n",
      " auc:0.8631021941445767 \n",
      " apur:0.8367345821384743 \n",
      " f1:0.7518959913326111 \n",
      " precision:0.7132579650565262 \n",
      " recall:0.7949599083619702 \n",
      ", 'Test':  best_epoch_indx:29\n",
      " auc:0.8711858776560356 \n",
      " apur:0.8407267659066866 \n",
      " f1:0.7625243981782693 \n",
      " precision:0.7237546315356114 \n",
      " recall:0.8056828597616865 \n",
      "}\n",
      "=====Epoch 30\n",
      "Training...\n"
     ]
    },
    {
     "name": "stderr",
     "output_type": "stream",
     "text": [
      "Iteration: 100%|██████████| 62/62 [00:04<00:00, 15.16it/s]\n",
      "Iteration: 100%|██████████| 7/7 [00:00<00:00, 15.43it/s]s]\n",
      "Iteration: 100%|██████████| 18/18 [00:01<00:00, 15.79it/s]\n",
      "Iteration:  23%|██▎       | 14/62 [00:01<00:06,  7.22it/s]"
     ]
    },
    {
     "name": "stdout",
     "output_type": "stream",
     "text": [
      "{'Train':  best_epoch_indx:30\n",
      " auc:0.9061519091055789 \n",
      " apur:0.881792652405001 \n",
      " f1:0.7971366483446249 \n",
      " precision:0.8004107303298678 \n",
      " recall:0.7938892425206875 \n",
      ", 'Validation':  best_epoch_indx:30\n",
      " auc:0.8747738939606065 \n",
      " apur:0.852117556097829 \n",
      " f1:0.7624565469293163 \n",
      " precision:0.7713950762016413 \n",
      " recall:0.7537227949599083 \n",
      ", 'Test':  best_epoch_indx:30\n",
      " auc:0.8752137501508871 \n",
      " apur:0.8505520037185583 \n",
      " f1:0.7548656163113995 \n",
      " precision:0.7633552014995314 \n",
      " recall:0.7465627864344638 \n",
      "}\n",
      "=====Epoch 31\n",
      "Training...\n"
     ]
    },
    {
     "name": "stderr",
     "output_type": "stream",
     "text": [
      "Iteration: 100%|██████████| 7/7 [00:00<00:00, 15.49it/s]s]\n",
      "Iteration:   0%|          | 0/62 [00:00<?, ?it/s]7.23it/s]"
     ]
    },
    {
     "name": "stdout",
     "output_type": "stream",
     "text": [
      "{'Train':  best_epoch_indx:30\n",
      " auc:0.9113337568975569 \n",
      " apur:0.890107996869216 \n",
      " f1:0.8009329299041856 \n",
      " precision:0.7932326133100263 \n",
      " recall:0.8087842138765118 \n",
      ", 'Validation':  best_epoch_indx:30\n",
      " auc:0.8654090542693063 \n",
      " apur:0.8316261016636965 \n",
      " f1:0.7550200803212851 \n",
      " precision:0.7563218390804598 \n",
      " recall:0.7537227949599083 \n",
      ", 'Test':  best_epoch_indx:30\n",
      " auc:0.8774709579186577 \n",
      " apur:0.8518565633279852 \n",
      " f1:0.7616226071103008 \n",
      " precision:0.757479601087942 \n",
      " recall:0.7658111824014665 \n",
      "}\n",
      "=====Epoch 31\n",
      "Training...\n"
     ]
    },
    {
     "name": "stderr",
     "output_type": "stream",
     "text": [
      "Iteration: 100%|██████████| 62/62 [00:04<00:00, 15.32it/s]\n",
      "Iteration: 100%|██████████| 18/18 [00:01<00:00, 15.97it/s]\n",
      "Iteration: 100%|██████████| 62/62 [00:08<00:00,  7.30it/s]\n",
      "Iteration:  47%|████▋     | 29/62 [00:04<00:04,  7.21it/s]"
     ]
    },
    {
     "name": "stdout",
     "output_type": "stream",
     "text": [
      "Evaluating...\n"
     ]
    },
    {
     "name": "stderr",
     "output_type": "stream",
     "text": [
      "Iteration: 100%|██████████| 62/62 [00:08<00:00,  7.24it/s]\n",
      "Iteration:   3%|▎         | 2/62 [00:00<00:03, 15.03it/s]]"
     ]
    },
    {
     "name": "stdout",
     "output_type": "stream",
     "text": [
      "Evaluating...\n"
     ]
    },
    {
     "name": "stderr",
     "output_type": "stream",
     "text": [
      "Iteration: 100%|██████████| 62/62 [00:04<00:00, 15.15it/s]\n",
      "Iteration: 100%|██████████| 7/7 [00:00<00:00, 15.13it/s]s]\n",
      "Iteration: 100%|██████████| 62/62 [00:08<00:00,  7.24it/s]\n",
      "Iteration:  33%|███▎      | 6/18 [00:00<00:00, 14.95it/s]"
     ]
    },
    {
     "name": "stdout",
     "output_type": "stream",
     "text": [
      "{'Train':  best_epoch_indx:31\n",
      " auc:0.9129238080588629 \n",
      " apur:0.8896249850862468 \n",
      " f1:0.8051831419590737 \n",
      " precision:0.8114817688130334 \n",
      " recall:0.7989815404201146 \n",
      ", 'Validation':  best_epoch_indx:31\n",
      " auc:0.8611082184965346 \n",
      " apur:0.8252837383300434 \n",
      " f1:0.7482435597189695 \n",
      " precision:0.7652694610778443 \n",
      " recall:0.7319587628865979 \n",
      ", 'Test':  best_epoch_indx:31\n",
      " auc:0.8783491807781451 \n",
      " apur:0.8503692733191189 \n",
      " f1:0.7679889298892989 \n",
      " precision:0.7729805013927576 \n",
      " recall:0.7630614115490376 \n",
      "}\n",
      "=====Epoch 32\n",
      "Training...\n",
      "Evaluating...\n"
     ]
    },
    {
     "name": "stderr",
     "output_type": "stream",
     "text": [
      "Iteration: 100%|██████████| 62/62 [00:08<00:00,  7.23it/s]\n",
      "Iteration:  89%|████████▉ | 16/18 [00:01<00:00, 15.46it/s]"
     ]
    },
    {
     "name": "stdout",
     "output_type": "stream",
     "text": [
      "Evaluating...\n"
     ]
    },
    {
     "name": "stderr",
     "output_type": "stream",
     "text": [
      "Iteration: 100%|██████████| 18/18 [00:01<00:00, 15.92it/s]\n",
      "Iteration: 100%|██████████| 62/62 [00:04<00:00, 15.17it/s]\n",
      "Iteration: 100%|██████████| 18/18 [00:01<00:00, 15.97it/s]\n",
      "Iteration: 100%|██████████| 62/62 [00:04<00:00, 15.13it/s]\n",
      "Iteration: 100%|██████████| 62/62 [00:04<00:00, 15.22it/s]\n",
      "Iteration: 100%|██████████| 18/18 [00:01<00:00, 15.74it/s]\n",
      "Iteration: 100%|██████████| 7/7 [00:00<00:00, 13.96it/s]s]\n",
      "Iteration: 100%|██████████| 7/7 [00:00<00:00, 15.38it/s]s]\n"
     ]
    },
    {
     "name": "stdout",
     "output_type": "stream",
     "text": [
      "{'Train':  best_epoch_indx:30\n",
      " auc:0.9148856576291956 \n",
      " apur:0.8939854548655165 \n",
      " f1:0.8001311905542801 \n",
      " precision:0.8253044654939107 \n",
      " recall:0.7764481222151496 \n",
      ", 'Validation':  best_epoch_indx:30\n",
      " auc:0.870921895549616 \n",
      " apur:0.8477752999829885 \n",
      " f1:0.749700598802395 \n",
      " precision:0.7854454203262233 \n",
      " recall:0.7170675830469645 \n",
      ", 'Test':  best_epoch_indx:30\n",
      " auc:0.8767033302780325 \n",
      " apur:0.8505856280438808 \n",
      " f1:0.7618598064668397 \n",
      " precision:0.7854014598540145 \n",
      " recall:0.7396883593033914 \n",
      "}\n",
      "=====Epoch 31\n",
      "Training...\n",
      "{'Train':  best_epoch_indx:31\n",
      " auc:0.9073469258943229 \n",
      " apur:0.8829092604759683 \n",
      " f1:0.7991385317033002 \n",
      " precision:0.7952597075138679 \n",
      " recall:0.8030553787396563 \n",
      ", 'Validation':  best_epoch_indx:31\n",
      " auc:0.8743631426907487 \n",
      " apur:0.8528929610619945 \n",
      " f1:0.7649082568807339 \n",
      " precision:0.7657864523536165 \n",
      " recall:0.7640320733104238 \n",
      ", 'Test':  best_epoch_indx:31\n",
      " auc:0.874770736658888 \n",
      " apur:0.8508320743474299 \n",
      " f1:0.7554837220041561 \n",
      " precision:0.7612843182875756 \n",
      " recall:0.7497708524289642 \n",
      "}\n",
      "=====Epoch 32\n",
      "Training...\n"
     ]
    },
    {
     "name": "stderr",
     "output_type": "stream",
     "text": [
      "Iteration: 100%|██████████| 18/18 [00:01<00:00, 15.74it/s]\n",
      "Iteration: 100%|██████████| 7/7 [00:00<00:00, 15.49it/s]]]\n",
      "Iteration:  76%|███████▌  | 47/62 [00:06<00:02,  6.58it/s]"
     ]
    },
    {
     "name": "stdout",
     "output_type": "stream",
     "text": [
      "{'Train':  best_epoch_indx:31\n",
      " auc:0.9132491742581721 \n",
      " apur:0.8919282950710032 \n",
      " f1:0.8028268551236749 \n",
      " precision:0.8103761348897536 \n",
      " recall:0.7954169318905155 \n",
      ", 'Validation':  best_epoch_indx:31\n",
      " auc:0.868410141892387 \n",
      " apur:0.8339697354900203 \n",
      " f1:0.7574867880211392 \n",
      " precision:0.7771084337349398 \n",
      " recall:0.738831615120275 \n",
      ", 'Test':  best_epoch_indx:31\n",
      " auc:0.8771907943339965 \n",
      " apur:0.8514385285661156 \n",
      " f1:0.7603804221758294 \n",
      " precision:0.7698449976514796 \n",
      " recall:0.7511457378551787 \n",
      "}\n",
      "=====Epoch 32\n",
      "Training...\n"
     ]
    },
    {
     "name": "stderr",
     "output_type": "stream",
     "text": [
      "Iteration: 100%|██████████| 7/7 [00:00<00:00, 14.44it/s]s]\n",
      "Iteration: 100%|██████████| 62/62 [00:08<00:00,  7.01it/s]\n",
      "Iteration:   0%|          | 0/62 [00:00<?, ?it/s]"
     ]
    },
    {
     "name": "stdout",
     "output_type": "stream",
     "text": [
      "{'Train':  best_epoch_indx:30\n",
      " auc:0.9051308652678727 \n",
      " apur:0.8826699209136053 \n",
      " f1:0.7982269718865749 \n",
      " precision:0.7630601346644996 \n",
      " recall:0.836791852323361 \n",
      ", 'Validation':  best_epoch_indx:30\n",
      " auc:0.8631610106409648 \n",
      " apur:0.8366931870554473 \n",
      " f1:0.7510917030567686 \n",
      " precision:0.7174139728884255 \n",
      " recall:0.7880870561282932 \n",
      ", 'Test':  best_epoch_indx:30\n",
      " auc:0.8728154572501241 \n",
      " apur:0.8416229844718089 \n",
      " f1:0.7632324112393815 \n",
      " precision:0.7272727272727273 \n",
      " recall:0.8029330889092575 \n",
      "}\n",
      "=====Epoch 31\n",
      "Training...\n",
      "Evaluating...\n"
     ]
    },
    {
     "name": "stderr",
     "output_type": "stream",
     "text": [
      "Iteration: 100%|██████████| 62/62 [00:04<00:00, 14.73it/s]\n",
      "Iteration: 100%|██████████| 18/18 [00:01<00:00, 16.04it/s]\n",
      "Iteration: 100%|██████████| 62/62 [00:08<00:00,  7.24it/s]\n",
      "Iteration: 100%|██████████| 62/62 [00:08<00:00,  7.04it/s]\n",
      "Iteration:  95%|█████████▌| 59/62 [00:08<00:00,  7.17it/s]"
     ]
    },
    {
     "name": "stdout",
     "output_type": "stream",
     "text": [
      "Evaluating...\n",
      "Evaluating...\n"
     ]
    },
    {
     "name": "stderr",
     "output_type": "stream",
     "text": [
      "\r",
      "Iteration:  86%|████████▌ | 6/7 [00:00<00:00, 15.25it/s]\r",
      "Iteration:   3%|▎         | 2/62 [00:00<00:04, 14.83it/s]\r",
      "Iteration:  71%|███████   | 44/62 [00:06<00:02,  7.23it/s]\r",
      "Iteration:  97%|█████████▋| 60/62 [00:08<00:00,  7.14it/s]\r",
      "Iteration:   3%|▎         | 2/62 [00:00<00:09,  6.37it/s]\r",
      "Iteration: 100%|██████████| 7/7 [00:00<00:00, 15.54it/s]\n",
      "\r",
      "Iteration:   0%|          | 0/62 [00:00<?, ?it/s]\r",
      "Iteration:   6%|▋         | 4/62 [00:00<00:03, 15.05it/s]\r",
      "Iteration:  73%|███████▎  | 45/62 [00:06<00:02,  7.27it/s]\r",
      "Iteration:   6%|▋         | 4/62 [00:00<00:05,  9.71it/s]\r",
      "Iteration:  98%|█████████▊| 61/62 [00:08<00:00,  7.20it/s]"
     ]
    },
    {
     "name": "stdout",
     "output_type": "stream",
     "text": [
      "{'Train':  best_epoch_indx:32\n",
      " auc:0.9135495130272773 \n",
      " apur:0.8902953179230177 \n",
      " f1:0.8060544176827438 \n",
      " precision:0.7630202410734592 \n",
      " recall:0.8542329726288987 \n",
      ", 'Validation':  best_epoch_indx:32\n",
      " auc:0.8624291791531196 \n",
      " apur:0.8280471207718054 \n",
      " f1:0.7502738225629791 \n",
      " precision:0.7187827911857293 \n",
      " recall:0.7846506300114547 \n",
      ", 'Test':  best_epoch_indx:32\n",
      " auc:0.877542149265339 \n",
      " apur:0.8494046915765465 \n",
      " f1:0.7678648765699437 \n",
      " precision:0.7278325123152709 \n",
      " recall:0.812557286892759 \n",
      "}\n",
      "=====Epoch 33\n",
      "Training...\n"
     ]
    },
    {
     "name": "stderr",
     "output_type": "stream",
     "text": [
      "\r",
      "Iteration:   2%|▏         | 1/62 [00:00<00:08,  6.84it/s]\r",
      "Iteration: 100%|██████████| 62/62 [00:08<00:00,  7.52it/s]\r",
      "Iteration: 100%|██████████| 62/62 [00:08<00:00,  7.26it/s]\n",
      "\r",
      "Iteration:   0%|          | 0/62 [00:00<?, ?it/s]\r",
      "Iteration:  74%|███████▍  | 46/62 [00:06<00:02,  7.29it/s]\r",
      "Iteration:  10%|▉         | 6/62 [00:00<00:04, 11.66it/s]\r",
      "Iteration:  10%|▉         | 6/62 [00:00<00:04, 13.49it/s]\r",
      "Iteration:   3%|▎         | 2/62 [00:00<00:09,  6.40it/s]"
     ]
    },
    {
     "name": "stdout",
     "output_type": "stream",
     "text": [
      "Evaluating...\n"
     ]
    },
    {
     "name": "stderr",
     "output_type": "stream",
     "text": [
      "Iteration: 100%|██████████| 62/62 [00:08<00:00,  7.26it/s]\n",
      "Iteration:  68%|██████▊   | 42/62 [00:02<00:01, 15.20it/s]"
     ]
    },
    {
     "name": "stdout",
     "output_type": "stream",
     "text": [
      "Evaluating...\n"
     ]
    },
    {
     "name": "stderr",
     "output_type": "stream",
     "text": [
      "Iteration: 100%|██████████| 62/62 [00:04<00:00, 14.63it/s]\n",
      "Iteration: 100%|██████████| 62/62 [00:04<00:00, 15.16it/s]\n",
      "Iteration: 100%|██████████| 62/62 [00:04<00:00, 14.46it/s]\n",
      "Iteration: 100%|██████████| 18/18 [00:01<00:00, 16.06it/s]\n",
      "Iteration: 100%|██████████| 18/18 [00:01<00:00, 15.95it/s]\n",
      "Iteration: 100%|██████████| 7/7 [00:00<00:00, 15.51it/s]s]\n",
      "Iteration:  68%|██████▊   | 42/62 [00:05<00:02,  7.34it/s]"
     ]
    },
    {
     "name": "stdout",
     "output_type": "stream",
     "text": [
      "{'Train':  best_epoch_indx:31\n",
      " auc:0.9140399664872583 \n",
      " apur:0.8934446446282702 \n",
      " f1:0.7993449066491976 \n",
      " precision:0.8233468286099865 \n",
      " recall:0.7767027371101209 \n",
      ", 'Validation':  best_epoch_indx:31\n",
      " auc:0.8687437567735392 \n",
      " apur:0.8451146831375951 \n",
      " f1:0.7519242155121374 \n",
      " precision:0.7781862745098039 \n",
      " recall:0.7273768613974799 \n",
      ", 'Test':  best_epoch_indx:31\n",
      " auc:0.8753315310143908 \n",
      " apur:0.8496076924965159 \n",
      " f1:0.7588802634674194 \n",
      " precision:0.7796036732721121 \n",
      " recall:0.7392300641613199 \n",
      "}\n",
      "=====Epoch 32\n",
      "Training...\n"
     ]
    },
    {
     "name": "stderr",
     "output_type": "stream",
     "text": [
      "Iteration: 100%|██████████| 18/18 [00:01<00:00, 15.80it/s]\n",
      "Iteration: 100%|██████████| 7/7 [00:00<00:00, 15.41it/s]s]\n",
      "Iteration: 100%|██████████| 62/62 [00:04<00:00, 15.25it/s]\n",
      "Iteration:  76%|███████▌  | 47/62 [00:06<00:02,  7.15it/s]"
     ]
    },
    {
     "name": "stdout",
     "output_type": "stream",
     "text": [
      "{'Train':  best_epoch_indx:32\n",
      " auc:0.9131840140431189 \n",
      " apur:0.892167682583721 \n",
      " f1:0.8083215013272425 \n",
      " precision:0.7846356663470757 \n",
      " recall:0.8334818586887333 \n",
      ", 'Validation':  best_epoch_indx:32\n",
      " auc:0.865930206995499 \n",
      " apur:0.8294053070589168 \n",
      " f1:0.7635550586920067 \n",
      " precision:0.7456331877729258 \n",
      " recall:0.7823596792668958 \n",
      ", 'Test':  best_epoch_indx:32\n",
      " auc:0.8792339046406512 \n",
      " apur:0.8515596088013431 \n",
      " f1:0.7668903803131992 \n",
      " precision:0.7491258741258742 \n",
      " recall:0.7855178735105408 \n",
      "}\n",
      "=====Epoch 33\n",
      "Training...\n"
     ]
    },
    {
     "name": "stderr",
     "output_type": "stream",
     "text": [
      "Iteration: 100%|██████████| 18/18 [00:01<00:00, 15.85it/s]\n",
      "Iteration: 100%|██████████| 7/7 [00:00<00:00, 15.54it/s]s]\n",
      "Iteration:  24%|██▍       | 15/62 [00:02<00:06,  7.19it/s]"
     ]
    },
    {
     "name": "stdout",
     "output_type": "stream",
     "text": [
      "{'Train':  best_epoch_indx:31\n",
      " auc:0.9040013302377815 \n",
      " apur:0.8816951271971805 \n",
      " f1:0.7947808309782937 \n",
      " precision:0.7530765724703737 \n",
      " recall:0.8413749204328453 \n",
      ", 'Validation':  best_epoch_indx:31\n",
      " auc:0.8630424134433299 \n",
      " apur:0.8385562151098744 \n",
      " f1:0.76 \n",
      " precision:0.7195496417604913 \n",
      " recall:0.8052691867124857 \n",
      ", 'Test':  best_epoch_indx:31\n",
      " auc:0.8722494187570369 \n",
      " apur:0.8418851955177006 \n",
      " f1:0.7582488678024585 \n",
      " precision:0.7160896130346233 \n",
      " recall:0.8056828597616865 \n",
      "}\n",
      "=====Epoch 32\n",
      "Training...\n"
     ]
    },
    {
     "name": "stderr",
     "output_type": "stream",
     "text": [
      "\r",
      "Iteration:  98%|█████████▊| 61/62 [00:08<00:00,  6.96it/s]\r",
      "Iteration:  31%|███       | 19/62 [00:02<00:06,  7.09it/s]\r",
      "Iteration:   2%|▏         | 1/62 [00:00<00:08,  7.21it/s]\r",
      "Iteration: 100%|██████████| 62/62 [00:08<00:00,  7.25it/s]\r",
      "Iteration: 100%|██████████| 62/62 [00:08<00:00,  7.21it/s]\n",
      "\r",
      "Iteration:   0%|          | 0/62 [00:00<?, ?it/s]\r",
      "Iteration:  26%|██▌       | 16/62 [00:02<00:06,  7.18it/s]\r",
      "Iteration:  32%|███▏      | 20/62 [00:02<00:05,  7.07it/s]\r",
      "Iteration:   3%|▎         | 2/62 [00:00<00:08,  7.15it/s]"
     ]
    },
    {
     "name": "stdout",
     "output_type": "stream",
     "text": [
      "Evaluating...\n"
     ]
    },
    {
     "name": "stderr",
     "output_type": "stream",
     "text": [
      "Iteration: 100%|██████████| 7/7 [00:00<00:00, 14.49it/s]s]\n",
      "Iteration:  53%|█████▎    | 33/62 [00:04<00:03,  7.25it/s]"
     ]
    },
    {
     "name": "stdout",
     "output_type": "stream",
     "text": [
      "{'Train':  best_epoch_indx:32\n",
      " auc:0.90658518315183 \n",
      " apur:0.882458629943702 \n",
      " f1:0.7946237257320954 \n",
      " precision:0.8108931884442089 \n",
      " recall:0.7789942711648632 \n",
      ", 'Validation':  best_epoch_indx:32\n",
      " auc:0.8716517986277436 \n",
      " apur:0.8516351233813889 \n",
      " f1:0.7587412587412589 \n",
      " precision:0.7722419928825622 \n",
      " recall:0.7457044673539519 \n",
      ", 'Test':  best_epoch_indx:32\n",
      " auc:0.8755814359132361 \n",
      " apur:0.8513878500560718 \n",
      " f1:0.7539118065433854 \n",
      " precision:0.7809430255402751 \n",
      " recall:0.7286892758936755 \n",
      "}\n",
      "=====Epoch 33\n",
      "Training...\n"
     ]
    },
    {
     "name": "stderr",
     "output_type": "stream",
     "text": [
      "Iteration: 100%|██████████| 62/62 [00:04<00:00, 15.21it/s]\n",
      "Iteration: 100%|██████████| 18/18 [00:01<00:00, 16.00it/s]\n",
      "Iteration: 100%|██████████| 62/62 [00:08<00:00,  7.19it/s]\n",
      "Iteration:  94%|█████████▎| 58/62 [00:08<00:00,  7.16it/s]"
     ]
    },
    {
     "name": "stdout",
     "output_type": "stream",
     "text": [
      "Evaluating...\n"
     ]
    },
    {
     "name": "stderr",
     "output_type": "stream",
     "text": [
      "Iteration: 100%|██████████| 62/62 [00:08<00:00,  7.21it/s]\n",
      "Iteration:  77%|███████▋  | 48/62 [00:06<00:01,  7.18it/s]"
     ]
    },
    {
     "name": "stdout",
     "output_type": "stream",
     "text": [
      "Evaluating...\n"
     ]
    },
    {
     "name": "stderr",
     "output_type": "stream",
     "text": [
      "Iteration: 100%|██████████| 62/62 [00:08<00:00,  7.24it/s]\n",
      "Iteration:  48%|████▊     | 30/62 [00:01<00:02, 15.17it/s]"
     ]
    },
    {
     "name": "stdout",
     "output_type": "stream",
     "text": [
      "Evaluating...\n"
     ]
    },
    {
     "name": "stderr",
     "output_type": "stream",
     "text": [
      "Iteration: 100%|██████████| 62/62 [00:04<00:00, 14.63it/s]\n",
      "Iteration: 100%|██████████| 62/62 [00:08<00:00,  7.21it/s]\n",
      "Iteration:  45%|████▌     | 28/62 [00:02<00:02, 15.12it/s]"
     ]
    },
    {
     "name": "stdout",
     "output_type": "stream",
     "text": [
      "Evaluating...\n"
     ]
    },
    {
     "name": "stderr",
     "output_type": "stream",
     "text": [
      "\r",
      "Iteration:  11%|█         | 2/18 [00:00<00:01, 15.58it/s]\r",
      "Iteration:  97%|█████████▋| 60/62 [00:03<00:00, 15.04it/s]\r",
      "Iteration:   3%|▎         | 2/62 [00:00<00:04, 14.90it/s]\r",
      "Iteration:  86%|████████▌ | 6/7 [00:00<00:00, 14.16it/s]\r",
      "Iteration:  48%|████▊     | 30/62 [00:02<00:02, 15.09it/s]\r",
      "Iteration: 100%|██████████| 7/7 [00:00<00:00, 14.31it/s]\n",
      "\r",
      "Iteration: 100%|██████████| 62/62 [00:04<00:00, 15.36it/s]\r",
      "Iteration: 100%|██████████| 62/62 [00:04<00:00, 15.15it/s]\n",
      "\r",
      "Iteration:  22%|██▏       | 4/18 [00:00<00:00, 15.03it/s]\r",
      "Iteration:   0%|          | 0/62 [00:00<?, ?it/s]\r",
      "Iteration:   6%|▋         | 4/62 [00:00<00:03, 15.04it/s]"
     ]
    },
    {
     "name": "stdout",
     "output_type": "stream",
     "text": [
      "{'Train':  best_epoch_indx:33\n",
      " auc:0.9133628514152725 \n",
      " apur:0.8910099651413281 \n",
      " f1:0.8025070955534531 \n",
      " precision:0.7492547201059954 \n",
      " recall:0.8639083386378104 \n",
      ", 'Validation':  best_epoch_indx:33\n",
      " auc:0.8596445555208443 \n",
      " apur:0.8234418572722946 \n",
      " f1:0.7466379774072082 \n",
      " precision:0.7038539553752535 \n",
      " recall:0.7949599083619702 \n",
      ", 'Test':  best_epoch_indx:33\n",
      " auc:0.8788087103852458 \n",
      " apur:0.8511334812161186 \n",
      " f1:0.7683159906561903 \n",
      " precision:0.7158686189157103 \n",
      " recall:0.8290559120073328 \n",
      "}\n",
      "=====Epoch 34\n",
      "Training...\n"
     ]
    },
    {
     "name": "stderr",
     "output_type": "stream",
     "text": [
      "Iteration: 100%|██████████| 18/18 [00:01<00:00, 15.87it/s]\n",
      "Iteration: 100%|██████████| 18/18 [00:01<00:00, 15.83it/s]\n",
      "Iteration: 100%|██████████| 7/7 [00:00<00:00, 15.55it/s]s]\n",
      "Iteration:   2%|▏         | 1/62 [00:00<00:08,  7.32it/s]]"
     ]
    },
    {
     "name": "stdout",
     "output_type": "stream",
     "text": [
      "{'Train':  best_epoch_indx:32\n",
      " auc:0.9139431132584291 \n",
      " apur:0.8923625775088814 \n",
      " f1:0.8041250486444417 \n",
      " precision:0.8196482877165147 \n",
      " recall:0.7891788669637174 \n",
      ", 'Validation':  best_epoch_indx:32\n",
      " auc:0.8709305733933455 \n",
      " apur:0.8468806617007999 \n",
      " f1:0.7535046728971962 \n",
      " precision:0.768772348033373 \n",
      " recall:0.738831615120275 \n",
      ", 'Test':  best_epoch_indx:32\n",
      " auc:0.8748914442314993 \n",
      " apur:0.84857220910652 \n",
      " f1:0.7674690348212199 \n",
      " precision:0.7830233667143538 \n",
      " recall:0.7525206232813932 \n",
      "}\n",
      "=====Epoch 33\n",
      "Training...\n"
     ]
    },
    {
     "name": "stderr",
     "output_type": "stream",
     "text": [
      "Iteration: 100%|██████████| 7/7 [00:00<00:00, 15.51it/s]]]\n",
      "Iteration:   2%|▏         | 1/62 [00:00<00:08,  7.04it/s]]"
     ]
    },
    {
     "name": "stdout",
     "output_type": "stream",
     "text": [
      "{'Train':  best_epoch_indx:33\n",
      " auc:0.9122464762691891 \n",
      " apur:0.8921168701676221 \n",
      " f1:0.7990365210598267 \n",
      " precision:0.8176125766053823 \n",
      " recall:0.7812858052196053 \n",
      ", 'Validation':  best_epoch_indx:33\n",
      " auc:0.8635572988379402 \n",
      " apur:0.8299447203180066 \n",
      " f1:0.744958481613286 \n",
      " precision:0.7724477244772447 \n",
      " recall:0.7193585337915235 \n",
      ", 'Test':  best_epoch_indx:33\n",
      " auc:0.8740088923767413 \n",
      " apur:0.8456884217755752 \n",
      " f1:0.7555346208195949 \n",
      " precision:0.7771317829457365 \n",
      " recall:0.7351054078826764 \n",
      "}\n",
      "=====Epoch 34\n",
      "Training...\n"
     ]
    },
    {
     "name": "stderr",
     "output_type": "stream",
     "text": [
      "Iteration: 100%|██████████| 62/62 [00:04<00:00, 14.60it/s]\n",
      "Iteration: 100%|██████████| 18/18 [00:01<00:00, 15.97it/s]\n",
      "Iteration: 100%|██████████| 62/62 [00:04<00:00, 15.22it/s]\n",
      "Iteration: 100%|██████████| 7/7 [00:00<00:00, 15.49it/s]s]\n",
      "Iteration:  26%|██▌       | 16/62 [00:02<00:06,  7.26it/s]"
     ]
    },
    {
     "name": "stdout",
     "output_type": "stream",
     "text": [
      "{'Train':  best_epoch_indx:32\n",
      " auc:0.9046395883289201 \n",
      " apur:0.8832942063516938 \n",
      " f1:0.7947773253183377 \n",
      " precision:0.8072478991596639 \n",
      " recall:0.7826861871419478 \n",
      ", 'Validation':  best_epoch_indx:32\n",
      " auc:0.8631137646028826 \n",
      " apur:0.8383201629750201 \n",
      " f1:0.7456242707117853 \n",
      " precision:0.7598097502972652 \n",
      " recall:0.7319587628865979 \n",
      ", 'Test':  best_epoch_indx:32\n",
      " auc:0.8704637811000875 \n",
      " apur:0.8407403800617406 \n",
      " f1:0.7568945538818076 \n",
      " precision:0.7655883731833099 \n",
      " recall:0.7483959670027498 \n",
      "}\n",
      "=====Epoch 33\n",
      "Training...\n"
     ]
    },
    {
     "name": "stderr",
     "output_type": "stream",
     "text": [
      "Iteration: 100%|██████████| 18/18 [00:01<00:00, 16.05it/s]\n",
      "Iteration: 100%|██████████| 7/7 [00:00<00:00, 15.61it/s]s]\n",
      "Iteration:  21%|██        | 13/62 [00:01<00:06,  7.27it/s]"
     ]
    },
    {
     "name": "stdout",
     "output_type": "stream",
     "text": [
      "{'Train':  best_epoch_indx:33\n",
      " auc:0.9064274302890498 \n",
      " apur:0.8801314642257826 \n",
      " f1:0.782708855613524 \n",
      " precision:0.8366164542294322 \n",
      " recall:0.7353278166772756 \n",
      ", 'Validation':  best_epoch_indx:33\n",
      " auc:0.8702556299921705 \n",
      " apur:0.8473323333132639 \n",
      " f1:0.7449293177627535 \n",
      " precision:0.8037135278514589 \n",
      " recall:0.6941580756013745 \n",
      ", 'Test':  best_epoch_indx:33\n",
      " auc:0.8744624023556586 \n",
      " apur:0.8488570482390053 \n",
      " f1:0.7426306663363883 \n",
      " precision:0.8080862533692722 \n",
      " recall:0.6869844179651695 \n",
      "}\n",
      "=====Epoch 34\n",
      "Training...\n"
     ]
    },
    {
     "name": "stderr",
     "output_type": "stream",
     "text": [
      "Iteration: 100%|██████████| 62/62 [00:08<00:00,  7.27it/s]\n",
      "Iteration:   0%|          | 0/62 [00:00<?, ?it/s]"
     ]
    },
    {
     "name": "stdout",
     "output_type": "stream",
     "text": [
      "Evaluating...\n"
     ]
    },
    {
     "name": "stderr",
     "output_type": "stream",
     "text": [
      "Iteration: 100%|██████████| 62/62 [00:08<00:00,  7.30it/s]\n",
      "Iteration:  35%|███▌      | 22/62 [00:01<00:02, 15.34it/s]"
     ]
    },
    {
     "name": "stdout",
     "output_type": "stream",
     "text": [
      "Evaluating...\n"
     ]
    },
    {
     "name": "stderr",
     "output_type": "stream",
     "text": [
      "Iteration: 100%|██████████| 62/62 [00:08<00:00,  7.25it/s]\n",
      "Iteration:   0%|          | 0/62 [00:00<?, ?it/s]"
     ]
    },
    {
     "name": "stdout",
     "output_type": "stream",
     "text": [
      "Evaluating...\n"
     ]
    },
    {
     "name": "stderr",
     "output_type": "stream",
     "text": [
      "Iteration: 100%|██████████| 62/62 [00:08<00:00,  7.27it/s]\n",
      "Iteration:  97%|█████████▋| 60/62 [00:04<00:00, 13.52it/s]"
     ]
    },
    {
     "name": "stdout",
     "output_type": "stream",
     "text": [
      "Evaluating...\n"
     ]
    },
    {
     "name": "stderr",
     "output_type": "stream",
     "text": [
      "Iteration: 100%|██████████| 62/62 [00:04<00:00, 14.68it/s]\n",
      "Iteration: 100%|██████████| 62/62 [00:04<00:00, 15.25it/s]\n",
      "Iteration: 100%|██████████| 18/18 [00:01<00:00, 15.89it/s]\n",
      "Iteration: 100%|██████████| 62/62 [00:08<00:00,  7.25it/s]\n",
      "Iteration:   0%|          | 0/62 [00:00<?, ?it/s]"
     ]
    },
    {
     "name": "stdout",
     "output_type": "stream",
     "text": [
      "Evaluating...\n"
     ]
    },
    {
     "name": "stderr",
     "output_type": "stream",
     "text": [
      "Iteration: 100%|██████████| 7/7 [00:00<00:00, 15.60it/s]s]\n",
      "Iteration: 100%|██████████| 62/62 [00:04<00:00, 14.56it/s]\n",
      "Iteration:  55%|█████▍    | 34/62 [00:02<00:01, 15.19it/s]"
     ]
    },
    {
     "name": "stdout",
     "output_type": "stream",
     "text": [
      "{'Train':  best_epoch_indx:34\n",
      " auc:0.9137188037054101 \n",
      " apur:0.8913173618438996 \n",
      " f1:0.8042708895687121 \n",
      " precision:0.7604355716878403 \n",
      " recall:0.8534691279439848 \n",
      ", 'Validation':  best_epoch_indx:34\n",
      " auc:0.8600427721275372 \n",
      " apur:0.8259369082049974 \n",
      " f1:0.7506819421713039 \n",
      " precision:0.7166666666666667 \n",
      " recall:0.7880870561282932 \n",
      ", 'Test':  best_epoch_indx:34\n",
      " auc:0.8770438111638844 \n",
      " apur:0.8490944707171957 \n",
      " f1:0.7681630882671873 \n",
      " precision:0.729106628242075 \n",
      " recall:0.8116406966086159 \n",
      "}\n",
      "=====Epoch 35\n",
      "Training...\n"
     ]
    },
    {
     "name": "stderr",
     "output_type": "stream",
     "text": [
      "Iteration: 100%|██████████| 18/18 [00:01<00:00, 15.93it/s]\n",
      "Iteration: 100%|██████████| 7/7 [00:00<00:00, 15.48it/s]s]\n",
      "Iteration: 100%|██████████| 18/18 [00:01<00:00, 15.86it/s]\n",
      "Iteration:  87%|████████▋ | 54/62 [00:03<00:00, 15.28it/s]"
     ]
    },
    {
     "name": "stdout",
     "output_type": "stream",
     "text": [
      "{'Train':  best_epoch_indx:33\n",
      " auc:0.9151713222496414 \n",
      " apur:0.8941015477284744 \n",
      " f1:0.8027649769585253 \n",
      " precision:0.8312201772324471 \n",
      " recall:0.7761935073201782 \n",
      ", 'Validation':  best_epoch_indx:33\n",
      " auc:0.8702604510164648 \n",
      " apur:0.8446717021036844 \n",
      " f1:0.7458033573141488 \n",
      " precision:0.7823899371069183 \n",
      " recall:0.7124856815578465 \n",
      ", 'Test':  best_epoch_indx:33\n",
      " auc:0.8736514241097193 \n",
      " apur:0.8469604872176032 \n",
      " f1:0.7585227272727273 \n",
      " precision:0.7845249755142018 \n",
      " recall:0.7341888175985335 \n",
      "}\n",
      "=====Epoch 34\n",
      "Training...\n"
     ]
    },
    {
     "name": "stderr",
     "output_type": "stream",
     "text": [
      "Iteration: 100%|██████████| 7/7 [00:00<00:00, 15.52it/s]s]\n",
      "Iteration: 100%|██████████| 62/62 [00:04<00:00, 15.23it/s]\n",
      "Iteration:  24%|██▍       | 15/62 [00:02<00:06,  7.27it/s]"
     ]
    },
    {
     "name": "stdout",
     "output_type": "stream",
     "text": [
      "{'Train':  best_epoch_indx:34\n",
      " auc:0.9128155488957657 \n",
      " apur:0.8908157636274345 \n",
      " f1:0.801977177030573 \n",
      " precision:0.7701593999062354 \n",
      " recall:0.8365372374283896 \n",
      ", 'Validation':  best_epoch_indx:34\n",
      " auc:0.8675886393526715 \n",
      " apur:0.8301343580193228 \n",
      " f1:0.760155815247635 \n",
      " precision:0.7391774891774892 \n",
      " recall:0.7823596792668958 \n",
      ", 'Test':  best_epoch_indx:34\n",
      " auc:0.8776572705614601 \n",
      " apur:0.8498011865672749 \n",
      " f1:0.7682819383259912 \n",
      " precision:0.73960983884648 \n",
      " recall:0.7992667277726856 \n",
      "}\n",
      "=====Epoch 35\n",
      "Training...\n"
     ]
    },
    {
     "name": "stderr",
     "output_type": "stream",
     "text": [
      "Iteration: 100%|██████████| 18/18 [00:01<00:00, 15.94it/s]\n",
      "Iteration: 100%|██████████| 62/62 [00:04<00:00, 14.62it/s]\n",
      "Iteration: 100%|██████████| 18/18 [00:01<00:00, 15.95it/s]\n",
      "Iteration: 100%|██████████| 7/7 [00:00<00:00, 14.18it/s]s]\n",
      "Iteration:  98%|█████████▊| 61/62 [00:08<00:00,  7.28it/s]"
     ]
    },
    {
     "name": "stdout",
     "output_type": "stream",
     "text": [
      "{'Train':  best_epoch_indx:33\n",
      " auc:0.9075737987220429 \n",
      " apur:0.8848529037640034 \n",
      " f1:0.7993662864385298 \n",
      " precision:0.7958359621451104 \n",
      " recall:0.8029280712921706 \n",
      ", 'Validation':  best_epoch_indx:33\n",
      " auc:0.863623828973199 \n",
      " apur:0.8343924012731011 \n",
      " f1:0.7535898908673176 \n",
      " precision:0.7557603686635944 \n",
      " recall:0.7514318442153494 \n",
      ", 'Test':  best_epoch_indx:33\n",
      " auc:0.8723630277919188 \n",
      " apur:0.8421515852711603 \n",
      " f1:0.7611464968152866 \n",
      " precision:0.7556458897922312 \n",
      " recall:0.7667277726856095 \n",
      "}\n",
      "=====Epoch 34\n",
      "Training...\n",
      "Evaluating...\n"
     ]
    },
    {
     "name": "stderr",
     "output_type": "stream",
     "text": [
      "Iteration: 100%|██████████| 62/62 [00:08<00:00,  7.30it/s]\n",
      "Iteration: 100%|██████████| 62/62 [00:08<00:00,  7.22it/s]\n",
      "Iteration:  92%|█████████▏| 57/62 [00:07<00:00,  7.05it/s]"
     ]
    },
    {
     "name": "stdout",
     "output_type": "stream",
     "text": [
      "Evaluating...\n"
     ]
    },
    {
     "name": "stderr",
     "output_type": "stream",
     "text": [
      "Iteration: 100%|██████████| 7/7 [00:00<00:00, 15.17it/s]s]\n",
      "Iteration:   0%|          | 0/62 [00:00<?, ?it/s].97it/s]]"
     ]
    },
    {
     "name": "stdout",
     "output_type": "stream",
     "text": [
      "{'Train':  best_epoch_indx:34\n",
      " auc:0.9082562214220682 \n",
      " apur:0.8870323667428399 \n",
      " f1:0.8007686585668237 \n",
      " precision:0.7803552011598405 \n",
      " recall:0.8222788033099936 \n",
      ", 'Validation':  best_epoch_indx:34\n",
      " auc:0.8735397117413154 \n",
      " apur:0.8526399095728777 \n",
      " f1:0.7697516930022572 \n",
      " precision:0.7586206896551724 \n",
      " recall:0.7812142038946163 \n",
      ", 'Test':  best_epoch_indx:34\n",
      " auc:0.8745117204081652 \n",
      " apur:0.8526914450846704 \n",
      " f1:0.7633484162895928 \n",
      " precision:0.7537980339588919 \n",
      " recall:0.7731439046746105 \n",
      "}\n",
      "=====Epoch 35\n",
      "Training...\n"
     ]
    },
    {
     "name": "stderr",
     "output_type": "stream",
     "text": [
      "Iteration: 100%|██████████| 62/62 [00:08<00:00,  7.15it/s]\n",
      "Iteration:  55%|█████▍    | 34/62 [00:02<00:01, 15.24it/s]"
     ]
    },
    {
     "name": "stdout",
     "output_type": "stream",
     "text": [
      "Evaluating...\n"
     ]
    },
    {
     "name": "stderr",
     "output_type": "stream",
     "text": [
      "Iteration: 100%|██████████| 62/62 [00:04<00:00, 15.09it/s]\n",
      "Iteration: 100%|██████████| 18/18 [00:01<00:00, 15.93it/s]\n",
      "Iteration: 100%|██████████| 62/62 [00:04<00:00, 14.59it/s]\n",
      "Iteration: 100%|██████████| 62/62 [00:04<00:00, 15.13it/s]\n",
      "Iteration: 100%|██████████| 18/18 [00:01<00:00, 15.86it/s]\n",
      "Iteration: 100%|██████████| 18/18 [00:01<00:00, 15.77it/s]\n",
      "Iteration: 100%|██████████| 7/7 [00:00<00:00, 15.38it/s]s]\n",
      "Iteration:  97%|█████████▋| 60/62 [00:08<00:00,  7.24it/s]"
     ]
    },
    {
     "name": "stdout",
     "output_type": "stream",
     "text": [
      "{'Train':  best_epoch_indx:35\n",
      " auc:0.9184985462061132 \n",
      " apur:0.8975382141159962 \n",
      " f1:0.8105153246115104 \n",
      " precision:0.7830524566816995 \n",
      " recall:0.8399745385105029 \n",
      ", 'Validation':  best_epoch_indx:35\n",
      " auc:0.8716787963637906 \n",
      " apur:0.8343927983728088 \n",
      " f1:0.7694877505567929 \n",
      " precision:0.7486457204767064 \n",
      " recall:0.7915234822451317 \n",
      ", 'Test':  best_epoch_indx:35\n",
      " auc:0.8796310731824329 \n",
      " apur:0.8510872996248089 \n",
      " f1:0.7759418374091209 \n",
      " precision:0.7471361900721256 \n",
      " recall:0.807057745187901 \n",
      "}\n",
      "=====Epoch 36\n",
      "Training...\n"
     ]
    },
    {
     "name": "stderr",
     "output_type": "stream",
     "text": [
      "Iteration: 100%|██████████| 62/62 [00:08<00:00,  7.23it/s]\n",
      "Iteration:   6%|▋         | 4/62 [00:00<00:07,  7.25it/s]]"
     ]
    },
    {
     "name": "stdout",
     "output_type": "stream",
     "text": [
      "Evaluating...\n"
     ]
    },
    {
     "name": "stderr",
     "output_type": "stream",
     "text": [
      "Iteration: 100%|██████████| 62/62 [00:08<00:00,  7.23it/s]\n",
      "Iteration: 100%|██████████| 7/7 [00:00<00:00, 15.48it/s]s]\n"
     ]
    },
    {
     "name": "stdout",
     "output_type": "stream",
     "text": [
      "Evaluating...\n",
      "{'Train':  best_epoch_indx:35\n",
      " auc:0.9153137317500237 \n",
      " apur:0.892601126648555 \n",
      " f1:0.8084654763391185 \n",
      " precision:0.7932132794315815 \n",
      " recall:0.8243157224697645 \n",
      ", 'Validation':  best_epoch_indx:35\n",
      " auc:0.864664206015867 \n",
      " apur:0.8316692223755172 \n",
      " f1:0.7524079320113315 \n",
      " precision:0.7443946188340808 \n",
      " recall:0.7605956471935853 \n",
      ", 'Test':  best_epoch_indx:35\n",
      " auc:0.8800971832594198 \n",
      " apur:0.8526535813134163 \n",
      " f1:0.7685372999774622 \n",
      " precision:0.7560975609756098 \n",
      " recall:0.7813932172318974 \n",
      "}\n",
      "=====Epoch 36\n",
      "Training...\n"
     ]
    },
    {
     "name": "stderr",
     "output_type": "stream",
     "text": [
      "Iteration: 100%|██████████| 7/7 [00:00<00:00, 14.27it/s]s]\n"
     ]
    },
    {
     "name": "stdout",
     "output_type": "stream",
     "text": [
      "{'Train':  best_epoch_indx:34\n",
      " auc:0.919071052240895 \n",
      " apur:0.8996633233077442 \n",
      " f1:0.799626342830453 \n",
      " precision:0.8401570386988222 \n",
      " recall:0.7628262253341821 \n",
      ", 'Validation':  best_epoch_indx:34\n",
      " auc:0.8742455096979724 \n",
      " apur:0.8500642911926188 \n",
      " f1:0.748036253776435 \n",
      " precision:0.7915601023017903 \n",
      " recall:0.709049255441008 \n",
      ", 'Test':  best_epoch_indx:34\n",
      " auc:0.8764643069867635 \n",
      " apur:0.8510244116719932 \n",
      " f1:0.7582391147462112 \n",
      " precision:0.7979746835443038 \n",
      " recall:0.7222731439046746 \n",
      "}\n",
      "=====Epoch 35\n",
      "Training...\n"
     ]
    },
    {
     "name": "stderr",
     "output_type": "stream",
     "text": [
      "Iteration: 100%|██████████| 62/62 [00:04<00:00, 14.39it/s]\n",
      "Iteration: 100%|██████████| 18/18 [00:01<00:00, 15.77it/s]\n",
      "Iteration: 100%|██████████| 62/62 [00:04<00:00, 15.09it/s]\n",
      "Iteration: 100%|██████████| 7/7 [00:00<00:00, 15.46it/s]s]\n",
      "Iteration:   0%|          | 0/18 [00:00<?, ?it/s]7.24it/s]"
     ]
    },
    {
     "name": "stdout",
     "output_type": "stream",
     "text": [
      "{'Train':  best_epoch_indx:34\n",
      " auc:0.9028277020529369 \n",
      " apur:0.8816263274598809 \n",
      " f1:0.7935988361520276 \n",
      " precision:0.7574635501041426 \n",
      " recall:0.8333545512412476 \n",
      ", 'Validation':  best_epoch_indx:34\n",
      " auc:0.8603783154184069 \n",
      " apur:0.8329417092983764 \n",
      " f1:0.7483660130718954 \n",
      " precision:0.7133956386292835 \n",
      " recall:0.7869415807560137 \n",
      ", 'Test':  best_epoch_indx:34\n",
      " auc:0.8675811062000587 \n",
      " apur:0.8362097951642361 \n",
      " f1:0.7572266898500326 \n",
      " precision:0.7201322860686235 \n",
      " recall:0.7983501374885427 \n",
      "}\n",
      "=====Epoch 35\n",
      "Training...\n"
     ]
    },
    {
     "name": "stderr",
     "output_type": "stream",
     "text": [
      "Iteration: 100%|██████████| 18/18 [00:01<00:00, 16.01it/s]\n",
      "Iteration: 100%|██████████| 62/62 [00:08<00:00,  7.17it/s]\n",
      "Iteration:  56%|█████▋    | 35/62 [00:04<00:03,  7.31it/s]"
     ]
    },
    {
     "name": "stdout",
     "output_type": "stream",
     "text": [
      "Evaluating...\n"
     ]
    },
    {
     "name": "stderr",
     "output_type": "stream",
     "text": [
      "Iteration: 100%|██████████| 62/62 [00:08<00:00,  7.26it/s]\n",
      "Iteration:  52%|█████▏    | 32/62 [00:04<00:04,  7.27it/s]"
     ]
    },
    {
     "name": "stdout",
     "output_type": "stream",
     "text": [
      "Evaluating...\n"
     ]
    },
    {
     "name": "stderr",
     "output_type": "stream",
     "text": [
      "Iteration: 100%|██████████| 62/62 [00:08<00:00,  7.28it/s]\n",
      "Iteration:  71%|███████   | 44/62 [00:06<00:02,  7.19it/s]"
     ]
    },
    {
     "name": "stdout",
     "output_type": "stream",
     "text": [
      "Evaluating...\n"
     ]
    },
    {
     "name": "stderr",
     "output_type": "stream",
     "text": [
      "\r",
      "Iteration:  86%|████████▌ | 6/7 [00:00<00:00, 14.30it/s]\r",
      "Iteration: 100%|██████████| 62/62 [00:04<00:00, 15.28it/s]\r",
      "Iteration: 100%|██████████| 62/62 [00:04<00:00, 15.15it/s]\n",
      "\r",
      "Iteration:  45%|████▌     | 28/62 [00:01<00:02, 15.09it/s]\r",
      "Iteration:   6%|▋         | 4/62 [00:00<00:03, 15.35it/s]\r",
      "Iteration: 100%|██████████| 7/7 [00:00<00:00, 14.50it/s]\n",
      "\r",
      "Iteration:  73%|███████▎  | 45/62 [00:06<00:02,  7.19it/s]\r",
      "Iteration:   0%|          | 0/62 [00:00<?, ?it/s]\r",
      "Iteration:  48%|████▊     | 30/62 [00:01<00:02, 15.20it/s]\r",
      "Iteration:  10%|▉         | 6/62 [00:00<00:03, 15.35it/s]\r",
      "Iteration:   0%|          | 0/18 [00:00<?, ?it/s]"
     ]
    },
    {
     "name": "stdout",
     "output_type": "stream",
     "text": [
      "{'Train':  best_epoch_indx:35\n",
      " auc:0.9113330840378016 \n",
      " apur:0.8876619122118041 \n",
      " f1:0.7975355574490398 \n",
      " precision:0.8219400162118347 \n",
      " recall:0.7745385105028644 \n",
      ", 'Validation':  best_epoch_indx:35\n",
      " auc:0.8738376510426912 \n",
      " apur:0.8538839547089275 \n",
      " f1:0.7492625368731564 \n",
      " precision:0.7725060827250608 \n",
      " recall:0.7273768613974799 \n",
      ", 'Test':  best_epoch_indx:35\n",
      " auc:0.8784827883855755 \n",
      " apur:0.8545859754935815 \n",
      " f1:0.7504187604690117 \n",
      " precision:0.785177766649975 \n",
      " recall:0.7186067827681026 \n",
      "}\n",
      "=====Epoch 36\n",
      "Training...\n"
     ]
    },
    {
     "name": "stderr",
     "output_type": "stream",
     "text": [
      "Iteration: 100%|██████████| 18/18 [00:01<00:00, 15.80it/s]\n",
      "Iteration: 100%|██████████| 7/7 [00:00<00:00, 15.38it/s]s]\n",
      "Iteration:  23%|██▎       | 14/62 [00:01<00:06,  7.29it/s]"
     ]
    },
    {
     "name": "stdout",
     "output_type": "stream",
     "text": [
      "{'Train':  best_epoch_indx:36\n",
      " auc:0.9192614858053387 \n",
      " apur:0.9005148227532778 \n",
      " f1:0.8096210284547658 \n",
      " precision:0.811484844609285 \n",
      " recall:0.8077657542966263 \n",
      ", 'Validation':  best_epoch_indx:36\n",
      " auc:0.8707184483244048 \n",
      " apur:0.835938917407742 \n",
      " f1:0.7642651296829971 \n",
      " precision:0.7691415313225058 \n",
      " recall:0.7594501718213058 \n",
      ", 'Test':  best_epoch_indx:36\n",
      " auc:0.8769993878078365 \n",
      " apur:0.8516069439447752 \n",
      " f1:0.762987012987013 \n",
      " precision:0.7723004694835681 \n",
      " recall:0.7538955087076077 \n",
      "}\n",
      "=====Epoch 37\n",
      "Training...\n"
     ]
    },
    {
     "name": "stderr",
     "output_type": "stream",
     "text": [
      "Iteration: 100%|██████████| 62/62 [00:04<00:00, 15.33it/s]\n",
      "Iteration: 100%|██████████| 62/62 [00:08<00:00,  7.26it/s]\n",
      "Iteration:   0%|          | 0/18 [00:00<?, ?it/s]7.22it/s]"
     ]
    },
    {
     "name": "stdout",
     "output_type": "stream",
     "text": [
      "Evaluating...\n"
     ]
    },
    {
     "name": "stderr",
     "output_type": "stream",
     "text": [
      "Iteration: 100%|██████████| 18/18 [00:01<00:00, 15.83it/s]\n",
      "Iteration: 100%|██████████| 62/62 [00:04<00:00, 15.32it/s]\n",
      "Iteration: 100%|██████████| 18/18 [00:01<00:00, 15.84it/s]\n",
      "Iteration: 100%|██████████| 7/7 [00:00<00:00, 15.43it/s]s]\n",
      "Iteration:  45%|████▌     | 28/62 [00:03<00:04,  7.21it/s]"
     ]
    },
    {
     "name": "stdout",
     "output_type": "stream",
     "text": [
      "{'Train':  best_epoch_indx:35\n",
      " auc:0.9189977334415013 \n",
      " apur:0.8993060483561042 \n",
      " f1:0.8071032479535252 \n",
      " precision:0.8382010146716029 \n",
      " recall:0.7782304264799491 \n",
      ", 'Validation':  best_epoch_indx:35\n",
      " auc:0.8731492087734929 \n",
      " apur:0.8521431661424304 \n",
      " f1:0.7483483483483484 \n",
      " precision:0.7866161616161617 \n",
      " recall:0.713631156930126 \n",
      ", 'Test':  best_epoch_indx:35\n",
      " auc:0.8736673178469696 \n",
      " apur:0.8468619605982097 \n",
      " f1:0.7573879885605338 \n",
      " precision:0.7889771598808342 \n",
      " recall:0.7282309807516041 \n",
      "}\n",
      "=====Epoch 36\n",
      "Training...\n"
     ]
    },
    {
     "name": "stderr",
     "output_type": "stream",
     "text": [
      "Iteration: 100%|██████████| 62/62 [00:04<00:00, 15.20it/s]\n",
      "Iteration: 100%|██████████| 18/18 [00:01<00:00, 15.93it/s]\n",
      "Iteration: 100%|██████████| 62/62 [00:08<00:00,  7.24it/s]\n",
      "Iteration: 100%|██████████| 7/7 [00:00<00:00, 14.42it/s]\n",
      "Iteration:  79%|███████▉  | 49/62 [00:06<00:01,  7.18it/s]"
     ]
    },
    {
     "name": "stdout",
     "output_type": "stream",
     "text": [
      "Evaluating...\n",
      "{'Train':  best_epoch_indx:36\n",
      " auc:0.9207465702231465 \n",
      " apur:0.9001478043959442 \n",
      " f1:0.8131089459698849 \n",
      " precision:0.808200226386618 \n",
      " recall:0.8180776575429662 \n",
      ", 'Validation':  best_epoch_indx:36\n",
      " auc:0.8655310261839473 \n",
      " apur:0.8322027517343459 \n",
      " f1:0.7478361223312175 \n",
      " precision:0.7534883720930232 \n",
      " recall:0.7422680412371134 \n",
      ", 'Test':  best_epoch_indx:36\n",
      " auc:0.8794992392609258 \n",
      " apur:0.8535825855896665 \n",
      " f1:0.769616788321168 \n",
      " precision:0.7661217075386013 \n",
      " recall:0.7731439046746105 \n",
      "}\n",
      "=====Epoch 37\n",
      "Training...\n"
     ]
    },
    {
     "name": "stderr",
     "output_type": "stream",
     "text": [
      "Iteration: 100%|██████████| 62/62 [00:08<00:00,  7.08it/s]\n",
      "Iteration:  52%|█████▏    | 32/62 [00:02<00:01, 15.12it/s]"
     ]
    },
    {
     "name": "stdout",
     "output_type": "stream",
     "text": [
      "Evaluating...\n"
     ]
    },
    {
     "name": "stderr",
     "output_type": "stream",
     "text": [
      "Iteration: 100%|██████████| 62/62 [00:04<00:00, 14.95it/s]\n",
      "Iteration: 100%|██████████| 7/7 [00:00<00:00, 15.30it/s]s]\n",
      "Iteration:  55%|█████▍    | 34/62 [00:02<00:01, 15.14it/s]"
     ]
    },
    {
     "name": "stdout",
     "output_type": "stream",
     "text": [
      "{'Train':  best_epoch_indx:35\n",
      " auc:0.9105404850187477 \n",
      " apur:0.890393647879855 \n",
      " f1:0.8030850807423476 \n",
      " precision:0.7623841665713305 \n",
      " recall:0.8483768300445577 \n",
      ", 'Validation':  best_epoch_indx:35\n",
      " auc:0.8694794450808196 \n",
      " apur:0.8428201316955329 \n",
      " f1:0.7587719298245613 \n",
      " precision:0.7276550998948476 \n",
      " recall:0.7926689576174112 \n",
      ", 'Test':  best_epoch_indx:35\n",
      " auc:0.8735622514223511 \n",
      " apur:0.8444635818388443 \n",
      " f1:0.7650485436893204 \n",
      " precision:0.7227884223399919 \n",
      " recall:0.812557286892759 \n",
      "}\n",
      "=====Epoch 36\n",
      "Training...\n"
     ]
    },
    {
     "name": "stderr",
     "output_type": "stream",
     "text": [
      "Iteration: 100%|██████████| 18/18 [00:01<00:00, 16.11it/s]\n",
      "Iteration: 100%|██████████| 62/62 [00:08<00:00,  7.15it/s]\n",
      "Iteration:   0%|          | 0/62 [00:00<?, ?it/s]"
     ]
    },
    {
     "name": "stdout",
     "output_type": "stream",
     "text": [
      "Evaluating...\n"
     ]
    },
    {
     "name": "stderr",
     "output_type": "stream",
     "text": [
      "Iteration: 100%|██████████| 7/7 [00:00<00:00, 15.67it/s]s]\n",
      "Iteration: 100%|██████████| 62/62 [00:04<00:00, 15.20it/s]\n",
      "Iteration:   2%|▏         | 1/62 [00:00<00:08,  7.32it/s]]"
     ]
    },
    {
     "name": "stdout",
     "output_type": "stream",
     "text": [
      "{'Train':  best_epoch_indx:36\n",
      " auc:0.9129678295628376 \n",
      " apur:0.8892915407533523 \n",
      " f1:0.8060291574005436 \n",
      " precision:0.7829113164526581 \n",
      " recall:0.8305537873965627 \n",
      ", 'Validation':  best_epoch_indx:36\n",
      " auc:0.8773984595863176 \n",
      " apur:0.8526744461234887 \n",
      " f1:0.7631284916201116 \n",
      " precision:0.7448200654307524 \n",
      " recall:0.7823596792668958 \n",
      ", 'Test':  best_epoch_indx:36\n",
      " auc:0.8774388510174954 \n",
      " apur:0.8524997163796519 \n",
      " f1:0.7654926437806508 \n",
      " precision:0.7452256944444444 \n",
      " recall:0.7868927589367553 \n",
      "}\n",
      "=====Epoch 37\n",
      "Training...\n"
     ]
    },
    {
     "name": "stderr",
     "output_type": "stream",
     "text": [
      "Iteration: 100%|██████████| 18/18 [00:01<00:00, 15.87it/s]\n",
      "Iteration: 100%|██████████| 62/62 [00:08<00:00,  7.13it/s]\n",
      "Iteration:  55%|█████▍    | 34/62 [00:04<00:03,  7.23it/s]"
     ]
    },
    {
     "name": "stdout",
     "output_type": "stream",
     "text": [
      "Evaluating...\n"
     ]
    },
    {
     "name": "stderr",
     "output_type": "stream",
     "text": [
      "Iteration: 100%|██████████| 62/62 [00:04<00:00, 15.23it/s]\n",
      "Iteration: 100%|██████████| 18/18 [00:01<00:00, 15.82it/s]\n",
      "Iteration: 100%|██████████| 7/7 [00:00<00:00, 14.42it/s]s]\n",
      "Iteration:  94%|█████████▎| 58/62 [00:03<00:00, 15.21it/s]"
     ]
    },
    {
     "name": "stdout",
     "output_type": "stream",
     "text": [
      "{'Train':  best_epoch_indx:37\n",
      " auc:0.923865751974367 \n",
      " apur:0.9038845881859605 \n",
      " f1:0.8170128585558852 \n",
      " precision:0.7941353202740056 \n",
      " recall:0.8412476129853597 \n",
      ", 'Validation':  best_epoch_indx:37\n",
      " auc:0.8734317207971274 \n",
      " apur:0.8367965297693558 \n",
      " f1:0.7707042253521127 \n",
      " precision:0.7583148558758315 \n",
      " recall:0.7835051546391752 \n",
      ", 'Test':  best_epoch_indx:37\n",
      " auc:0.8818293153913385 \n",
      " apur:0.8558328710750917 \n",
      " f1:0.7712564159785761 \n",
      " precision:0.7516311439756416 \n",
      " recall:0.7919340054995417 \n",
      "}\n",
      "=====Epoch 38\n",
      "Training...\n"
     ]
    },
    {
     "name": "stderr",
     "output_type": "stream",
     "text": [
      "\r",
      "Iteration:  98%|█████████▊| 61/62 [00:08<00:00,  7.32it/s]\r",
      "Iteration:  77%|███████▋  | 48/62 [00:06<00:01,  7.23it/s]\r",
      "Iteration:   2%|▏         | 1/62 [00:00<00:08,  6.93it/s]\r",
      "Iteration:  97%|█████████▋| 60/62 [00:03<00:00, 15.22it/s]\r",
      "Iteration: 100%|██████████| 62/62 [00:08<00:00,  7.60it/s]\r",
      "Iteration: 100%|██████████| 62/62 [00:08<00:00,  7.27it/s]\n",
      "\r",
      "Iteration:   0%|          | 0/62 [00:00<?, ?it/s]\r",
      "Iteration:  79%|███████▉  | 49/62 [00:06<00:01,  7.24it/s]\r",
      "Iteration:   3%|▎         | 2/62 [00:00<00:08,  7.13it/s]\r",
      "Iteration: 100%|██████████| 62/62 [00:04<00:00, 15.47it/s]\r",
      "Iteration: 100%|██████████| 62/62 [00:04<00:00, 15.32it/s]\n"
     ]
    },
    {
     "name": "stdout",
     "output_type": "stream",
     "text": [
      "Evaluating...\n"
     ]
    },
    {
     "name": "stderr",
     "output_type": "stream",
     "text": [
      "Iteration: 100%|██████████| 18/18 [00:01<00:00, 15.91it/s]\n",
      "Iteration: 100%|██████████| 7/7 [00:00<00:00, 15.48it/s]s]\n",
      "Iteration: 100%|██████████| 62/62 [00:08<00:00,  7.08it/s]\n",
      "Iteration:   0%|          | 0/62 [00:00<?, ?it/s]"
     ]
    },
    {
     "name": "stdout",
     "output_type": "stream",
     "text": [
      "{'Train':  best_epoch_indx:37\n",
      " auc:0.9233122756167531 \n",
      " apur:0.9029418068524931 \n",
      " f1:0.8179251516789812 \n",
      " precision:0.7743403093721565 \n",
      " recall:0.8667091024824952 \n",
      ", 'Validation':  best_epoch_indx:37\n",
      " auc:0.8642322422391151 \n",
      " apur:0.8286202797327189 \n",
      " f1:0.7506819421713039 \n",
      " precision:0.7166666666666667 \n",
      " recall:0.7880870561282932 \n",
      ", 'Test':  best_epoch_indx:37\n",
      " auc:0.8796272378536357 \n",
      " apur:0.8518676290938767 \n",
      " f1:0.7691974908068354 \n",
      " precision:0.7283900040966816 \n",
      " recall:0.8148487626031164 \n",
      "}\n",
      "=====Epoch 38\n",
      "Training...\n",
      "Evaluating...\n"
     ]
    },
    {
     "name": "stderr",
     "output_type": "stream",
     "text": [
      "Iteration: 100%|██████████| 7/7 [00:00<00:00, 15.03it/s]s]\n",
      "Iteration:  44%|████▎     | 27/62 [00:03<00:04,  7.13it/s]"
     ]
    },
    {
     "name": "stdout",
     "output_type": "stream",
     "text": [
      "{'Train':  best_epoch_indx:36\n",
      " auc:0.923454065790045 \n",
      " apur:0.9039181268082042 \n",
      " f1:0.8116668866305926 \n",
      " precision:0.8425811755034937 \n",
      " recall:0.7829408020369192 \n",
      ", 'Validation':  best_epoch_indx:36\n",
      " auc:0.875676389708463 \n",
      " apur:0.8533553769428079 \n",
      " f1:0.7570149253731343 \n",
      " precision:0.7905236907730673 \n",
      " recall:0.7262313860252004 \n",
      ", 'Test':  best_epoch_indx:36\n",
      " auc:0.8781701833489184 \n",
      " apur:0.852382178768122 \n",
      " f1:0.7643554920181082 \n",
      " precision:0.796029776674938 \n",
      " recall:0.7351054078826764 \n",
      "}\n",
      "=====Epoch 37\n",
      "Training...\n"
     ]
    },
    {
     "name": "stderr",
     "output_type": "stream",
     "text": [
      "Iteration: 100%|██████████| 62/62 [00:04<00:00, 15.17it/s]\n",
      "Iteration: 100%|██████████| 18/18 [00:01<00:00, 16.07it/s]\n",
      "Iteration: 100%|██████████| 62/62 [00:04<00:00, 15.14it/s]\n",
      "Iteration: 100%|██████████| 18/18 [00:01<00:00, 15.97it/s]\n",
      "Iteration: 100%|██████████| 62/62 [00:08<00:00,  7.22it/s]\n",
      "Iteration:  76%|███████▌  | 47/62 [00:06<00:02,  7.27it/s]"
     ]
    },
    {
     "name": "stdout",
     "output_type": "stream",
     "text": [
      "Evaluating...\n"
     ]
    },
    {
     "name": "stderr",
     "output_type": "stream",
     "text": [
      "Iteration: 100%|██████████| 62/62 [00:08<00:00,  7.29it/s]\n",
      "Iteration: 100%|██████████| 7/7 [00:00<00:00, 14.22it/s]s]\n",
      "Iteration:   3%|▎         | 2/62 [00:00<00:03, 15.03it/s]]"
     ]
    },
    {
     "name": "stdout",
     "output_type": "stream",
     "text": [
      "Evaluating...\n",
      "{'Train':  best_epoch_indx:36\n",
      " auc:0.9132278154268282 \n",
      " apur:0.8933287830518781 \n",
      " f1:0.8079437824625725 \n",
      " precision:0.7768507638072856 \n",
      " recall:0.8416295353278167 \n",
      ", 'Validation':  best_epoch_indx:36\n",
      " auc:0.8662744281300983 \n",
      " apur:0.8419923875361847 \n",
      " f1:0.76353591160221 \n",
      " precision:0.7374599786552828 \n",
      " recall:0.7915234822451317 \n",
      ", 'Test':  best_epoch_indx:36\n",
      " auc:0.875681306899063 \n",
      " apur:0.8474157727227281 \n",
      " f1:0.7660690861390469 \n",
      " precision:0.7324414715719063 \n",
      " recall:0.8029330889092575 \n",
      "}\n",
      "=====Epoch 37\n",
      "Training...\n"
     ]
    },
    {
     "name": "stderr",
     "output_type": "stream",
     "text": [
      "Iteration: 100%|██████████| 62/62 [00:08<00:00,  7.12it/s]\n",
      "Iteration:  45%|████▌     | 28/62 [00:01<00:02, 15.32it/s]"
     ]
    },
    {
     "name": "stdout",
     "output_type": "stream",
     "text": [
      "Evaluating...\n"
     ]
    },
    {
     "name": "stderr",
     "output_type": "stream",
     "text": [
      "Iteration: 100%|██████████| 62/62 [00:04<00:00, 15.18it/s]\n",
      "Iteration: 100%|██████████| 7/7 [00:00<00:00, 15.31it/s]s]\n",
      "Iteration:  13%|█▎        | 8/62 [00:00<00:03, 15.30it/s]]"
     ]
    },
    {
     "name": "stdout",
     "output_type": "stream",
     "text": [
      "{'Train':  best_epoch_indx:37\n",
      " auc:0.9163103943732253 \n",
      " apur:0.8942217606921605 \n",
      " f1:0.8057332992065522 \n",
      " precision:0.8099832754406278 \n",
      " recall:0.8015276893698281 \n",
      ", 'Validation':  best_epoch_indx:37\n",
      " auc:0.8751682537478642 \n",
      " apur:0.8553920206527512 \n",
      " f1:0.7565066512434933 \n",
      " precision:0.764018691588785 \n",
      " recall:0.7491408934707904 \n",
      ", 'Test':  best_epoch_indx:37\n",
      " auc:0.8798629220552492 \n",
      " apur:0.8567336833401544 \n",
      " f1:0.7599164926931106 \n",
      " precision:0.769375293565054 \n",
      " recall:0.7506874427131073 \n",
      "}\n",
      "=====Epoch 38\n",
      "Training...\n"
     ]
    },
    {
     "name": "stderr",
     "output_type": "stream",
     "text": [
      "Iteration: 100%|██████████| 18/18 [00:01<00:00, 15.93it/s]\n",
      "Iteration: 100%|██████████| 62/62 [00:04<00:00, 15.34it/s]\n",
      "Iteration: 100%|██████████| 18/18 [00:01<00:00, 15.95it/s]\n",
      "Iteration: 100%|██████████| 62/62 [00:04<00:00, 15.30it/s]\n",
      "Iteration: 100%|██████████| 18/18 [00:01<00:00, 15.83it/s]\n",
      "Iteration: 100%|██████████| 7/7 [00:00<00:00, 14.84it/s]s]\n"
     ]
    },
    {
     "name": "stdout",
     "output_type": "stream",
     "text": [
      "{'Train':  best_epoch_indx:38\n",
      " auc:0.9272041962630679 \n",
      " apur:0.9092889807602023 \n",
      " f1:0.8218347232752085 \n",
      " precision:0.8157531669384172 \n",
      " recall:0.8280076384468491 \n",
      ", 'Validation':  best_epoch_indx:38\n",
      " auc:0.8761440290649913 \n",
      " apur:0.8433224289468059 \n",
      " f1:0.7710843373493975 \n",
      " precision:0.7724137931034483 \n",
      " recall:0.7697594501718213 \n",
      ", 'Test':  best_epoch_indx:38\n",
      " auc:0.8817857858426471 \n",
      " apur:0.856655060871462 \n",
      " f1:0.7647058823529411 \n",
      " precision:0.7668202764976959 \n",
      " recall:0.7626031164069661 \n",
      "}\n",
      "=====Epoch 39\n",
      "Training...\n"
     ]
    },
    {
     "name": "stderr",
     "output_type": "stream",
     "text": [
      "Iteration: 100%|██████████| 62/62 [00:08<00:00,  7.07it/s]\n",
      "Iteration:   3%|▎         | 2/62 [00:00<00:04, 14.89it/s]]"
     ]
    },
    {
     "name": "stdout",
     "output_type": "stream",
     "text": [
      "Evaluating...\n"
     ]
    },
    {
     "name": "stderr",
     "output_type": "stream",
     "text": [
      "Iteration: 100%|██████████| 7/7 [00:00<00:00, 14.91it/s]s]\n",
      "Iteration:   0%|          | 0/62 [00:00<?, ?it/s]7.17it/s]"
     ]
    },
    {
     "name": "stdout",
     "output_type": "stream",
     "text": [
      "{'Train':  best_epoch_indx:38\n",
      " auc:0.9258071931149406 \n",
      " apur:0.906317577974304 \n",
      " f1:0.822365165759525 \n",
      " precision:0.7997112955611693 \n",
      " recall:0.8463399108847868 \n",
      ", 'Validation':  best_epoch_indx:38\n",
      " auc:0.8686068396835865 \n",
      " apur:0.835705173303035 \n",
      " f1:0.7555053642010164 \n",
      " precision:0.744988864142539 \n",
      " recall:0.7663230240549829 \n",
      ", 'Test':  best_epoch_indx:38\n",
      " auc:0.8838335231323315 \n",
      " apur:0.8573491519931649 \n",
      " f1:0.7770360480640854 \n",
      " precision:0.7551903114186851 \n",
      " recall:0.8001833180568286 \n",
      "}\n",
      "=====Epoch 39\n",
      "Training...\n",
      "Evaluating...\n"
     ]
    },
    {
     "name": "stderr",
     "output_type": "stream",
     "text": [
      "Iteration: 100%|██████████| 62/62 [00:08<00:00,  7.21it/s]\n",
      "Iteration: 100%|██████████| 7/7 [00:00<00:00, 14.45it/s]s]\n",
      "Iteration:  84%|████████▍ | 52/62 [00:03<00:00, 15.22it/s]"
     ]
    },
    {
     "name": "stdout",
     "output_type": "stream",
     "text": [
      "{'Train':  best_epoch_indx:37\n",
      " auc:0.9245393293247388 \n",
      " apur:0.9059609724934052 \n",
      " f1:0.8140743176586648 \n",
      " precision:0.8420408163265306 \n",
      " recall:0.7879057924888606 \n",
      ", 'Validation':  best_epoch_indx:37\n",
      " auc:0.8743621784858898 \n",
      " apur:0.8538492261991044 \n",
      " f1:0.7541766109785202 \n",
      " precision:0.7870485678704857 \n",
      " recall:0.7239404352806414 \n",
      ", 'Test':  best_epoch_indx:37\n",
      " auc:0.879085230551775 \n",
      " apur:0.8542451886220778 \n",
      " f1:0.7704761904761904 \n",
      " precision:0.8017839444995044 \n",
      " recall:0.7415215398716773 \n",
      "}\n",
      "=====Epoch 38\n",
      "Training...\n"
     ]
    },
    {
     "name": "stderr",
     "output_type": "stream",
     "text": [
      "Iteration: 100%|██████████| 62/62 [00:04<00:00, 15.05it/s]\n",
      "Iteration: 100%|██████████| 18/18 [00:01<00:00, 15.86it/s]\n",
      "Iteration: 100%|██████████| 62/62 [00:04<00:00, 15.16it/s]\n",
      "Iteration: 100%|██████████| 18/18 [00:01<00:00, 15.93it/s]\n",
      "Iteration: 100%|██████████| 7/7 [00:00<00:00, 15.54it/s]s]\n",
      "Iteration:   2%|▏         | 1/62 [00:00<00:08,  7.13it/s]]"
     ]
    },
    {
     "name": "stdout",
     "output_type": "stream",
     "text": [
      "{'Train':  best_epoch_indx:38\n",
      " auc:0.9204610220680136 \n",
      " apur:0.8994224517677292 \n",
      " f1:0.8152607896571392 \n",
      " precision:0.8117112569409389 \n",
      " recall:0.8188415022278803 \n",
      ", 'Validation':  best_epoch_indx:38\n",
      " auc:0.878479333233056 \n",
      " apur:0.8567781871920754 \n",
      " f1:0.7643020594965676 \n",
      " precision:0.7634285714285715 \n",
      " recall:0.7651775486827033 \n",
      ", 'Test':  best_epoch_indx:38\n",
      " auc:0.8811035141929483 \n",
      " apur:0.8549593278613785 \n",
      " f1:0.7678571428571429 \n",
      " precision:0.7671546203110704 \n",
      " recall:0.7685609532538955 \n",
      "}\n",
      "=====Epoch 39\n",
      "Training...\n"
     ]
    },
    {
     "name": "stderr",
     "output_type": "stream",
     "text": [
      "\r",
      "Iteration:  74%|███████▍  | 46/62 [00:06<00:02,  7.30it/s]\r",
      "Iteration:  53%|█████▎    | 33/62 [00:04<00:03,  7.28it/s]\r",
      "Iteration:  98%|█████████▊| 61/62 [00:08<00:00,  7.28it/s]\r",
      "Iteration:   3%|▎         | 2/62 [00:00<00:08,  7.17it/s]\r",
      "Iteration:  76%|███████▌  | 47/62 [00:06<00:02,  7.27it/s]\r",
      "Iteration:  55%|█████▍    | 34/62 [00:04<00:03,  7.24it/s]\r",
      "Iteration: 100%|██████████| 62/62 [00:08<00:00,  7.58it/s]\r",
      "Iteration: 100%|██████████| 62/62 [00:08<00:00,  7.21it/s]\n",
      "\r",
      "Iteration:   0%|          | 0/62 [00:00<?, ?it/s]"
     ]
    },
    {
     "name": "stdout",
     "output_type": "stream",
     "text": [
      "Evaluating...\n"
     ]
    },
    {
     "name": "stderr",
     "output_type": "stream",
     "text": [
      "Iteration: 100%|██████████| 62/62 [00:08<00:00,  7.28it/s]\n",
      "Iteration:  52%|█████▏    | 32/62 [00:02<00:02, 14.96it/s]"
     ]
    },
    {
     "name": "stdout",
     "output_type": "stream",
     "text": [
      "Evaluating...\n"
     ]
    },
    {
     "name": "stderr",
     "output_type": "stream",
     "text": [
      "Iteration: 100%|██████████| 7/7 [00:00<00:00, 15.13it/s]s]\n",
      "Iteration:  34%|███▍      | 21/62 [00:02<00:05,  7.23it/s]"
     ]
    },
    {
     "name": "stdout",
     "output_type": "stream",
     "text": [
      "{'Train':  best_epoch_indx:37\n",
      " auc:0.9166880294676846 \n",
      " apur:0.897452052634012 \n",
      " f1:0.8112746633260257 \n",
      " precision:0.7985203452527744 \n",
      " recall:0.8244430299172502 \n",
      ", 'Validation':  best_epoch_indx:37\n",
      " auc:0.8710983450387804 \n",
      " apur:0.8469634063272753 \n",
      " f1:0.7613122171945702 \n",
      " precision:0.7519553072625699 \n",
      " recall:0.7709049255441008 \n",
      ", 'Test':  best_epoch_indx:37\n",
      " auc:0.8777150784195625 \n",
      " apur:0.8490076088721856 \n",
      " f1:0.7645603777827749 \n",
      " precision:0.7505518763796909 \n",
      " recall:0.7791017415215399 \n",
      "}\n",
      "=====Epoch 38\n",
      "Training...\n"
     ]
    },
    {
     "name": "stderr",
     "output_type": "stream",
     "text": [
      "Iteration: 100%|██████████| 62/62 [00:08<00:00,  7.28it/s]\n",
      "Iteration:  48%|████▊     | 30/62 [00:01<00:02, 15.15it/s]"
     ]
    },
    {
     "name": "stdout",
     "output_type": "stream",
     "text": [
      "Evaluating...\n"
     ]
    },
    {
     "name": "stderr",
     "output_type": "stream",
     "text": [
      "Iteration: 100%|██████████| 62/62 [00:04<00:00, 15.13it/s]\n",
      "Iteration: 100%|██████████| 18/18 [00:01<00:00, 15.81it/s]\n",
      "Iteration: 100%|██████████| 62/62 [00:04<00:00, 15.27it/s]\n",
      "Iteration: 100%|██████████| 18/18 [00:01<00:00, 15.86it/s]\n",
      "Iteration: 100%|██████████| 62/62 [00:04<00:00, 15.29it/s]\n",
      "Iteration: 100%|██████████| 7/7 [00:00<00:00, 15.39it/s]\n",
      "Iteration:   2%|▏         | 1/62 [00:00<00:08,  7.20it/s]]"
     ]
    },
    {
     "name": "stdout",
     "output_type": "stream",
     "text": [
      "{'Train':  best_epoch_indx:39\n",
      " auc:0.9259737682819849 \n",
      " apur:0.9067444394689993 \n",
      " f1:0.8233973559491145 \n",
      " precision:0.8069918102921403 \n",
      " recall:0.8404837683004456 \n",
      ", 'Validation':  best_epoch_indx:39\n",
      " auc:0.8679723928864822 \n",
      " apur:0.8351307315117028 \n",
      " f1:0.7499999999999999 \n",
      " precision:0.7440811724915445 \n",
      " recall:0.7560137457044673 \n",
      ", 'Test':  best_epoch_indx:39\n",
      " auc:0.8830554243936461 \n",
      " apur:0.8564267153639525 \n",
      " f1:0.7727375310313699 \n",
      " precision:0.7612272120942641 \n",
      " recall:0.7846012832263978 \n",
      "}\n",
      "=====Epoch 40\n",
      "Training...\n"
     ]
    },
    {
     "name": "stderr",
     "output_type": "stream",
     "text": [
      "\r",
      "Iteration:  11%|█         | 2/18 [00:00<00:01, 15.53it/s]\r",
      "Iteration:  68%|██████▊   | 42/62 [00:05<00:02,  7.27it/s]\r",
      "Iteration: 100%|██████████| 62/62 [00:08<00:00,  7.55it/s]\r",
      "Iteration: 100%|██████████| 62/62 [00:08<00:00,  7.23it/s]\n",
      "\r",
      "Iteration:   0%|          | 0/62 [00:00<?, ?it/s]\r",
      "Iteration:   3%|▎         | 2/62 [00:00<00:08,  7.27it/s]\r",
      "Iteration:  22%|██▏       | 4/18 [00:00<00:00, 15.01it/s]\r",
      "Iteration:  69%|██████▉   | 43/62 [00:05<00:02,  7.29it/s]\r",
      "Iteration:   3%|▎         | 2/62 [00:00<00:04, 14.97it/s]\r",
      "Iteration:   5%|▍         | 3/62 [00:00<00:08,  7.35it/s]"
     ]
    },
    {
     "name": "stdout",
     "output_type": "stream",
     "text": [
      "Evaluating...\n"
     ]
    },
    {
     "name": "stderr",
     "output_type": "stream",
     "text": [
      "Iteration: 100%|██████████| 18/18 [00:01<00:00, 15.87it/s]\n",
      "Iteration: 100%|██████████| 7/7 [00:00<00:00, 15.27it/s]s]\n",
      "Iteration:  39%|███▊      | 24/62 [00:01<00:02, 15.23it/s]"
     ]
    },
    {
     "name": "stdout",
     "output_type": "stream",
     "text": [
      "{'Train':  best_epoch_indx:38\n",
      " auc:0.9284888377308832 \n",
      " apur:0.9102130791871114 \n",
      " f1:0.8215995404353098 \n",
      " precision:0.8238607270865336 \n",
      " recall:0.819350732017823 \n",
      ", 'Validation':  best_epoch_indx:38\n",
      " auc:0.8767784758620956 \n",
      " apur:0.8540749680828952 \n",
      " f1:0.7641618497109828 \n",
      " precision:0.7712952158693116 \n",
      " recall:0.7571592210767468 \n",
      ", 'Test':  best_epoch_indx:38\n",
      " auc:0.8789798380999114 \n",
      " apur:0.8538161742880119 \n",
      " f1:0.7716462710690372 \n",
      " precision:0.7775709632387157 \n",
      " recall:0.7658111824014665 \n",
      "}\n",
      "=====Epoch 39\n",
      "Training...\n"
     ]
    },
    {
     "name": "stderr",
     "output_type": "stream",
     "text": [
      "Iteration: 100%|██████████| 7/7 [00:00<00:00, 14.98it/s]s]\n",
      "Iteration:   0%|          | 0/62 [00:00<?, ?it/s]5.07it/s]"
     ]
    },
    {
     "name": "stdout",
     "output_type": "stream",
     "text": [
      "{'Train':  best_epoch_indx:39\n",
      " auc:0.9295231865685284 \n",
      " apur:0.9113935515061871 \n",
      " f1:0.8207390359289094 \n",
      " precision:0.8243225889302684 \n",
      " recall:0.8171865054105665 \n",
      ", 'Validation':  best_epoch_indx:39\n",
      " auc:0.8768710395285424 \n",
      " apur:0.8438581875372175 \n",
      " f1:0.7625145518044237 \n",
      " precision:0.7751479289940828 \n",
      " recall:0.7502863688430699 \n",
      ", 'Test':  best_epoch_indx:39\n",
      " auc:0.8829922643978612 \n",
      " apur:0.8561160638575838 \n",
      " f1:0.7684113015284855 \n",
      " precision:0.776685393258427 \n",
      " recall:0.7603116406966086 \n",
      "}\n",
      "=====Epoch 40\n",
      "Training...\n"
     ]
    },
    {
     "name": "stderr",
     "output_type": "stream",
     "text": [
      "Iteration: 100%|██████████| 62/62 [00:08<00:00,  7.26it/s]\n",
      "Iteration:   6%|▋         | 4/62 [00:00<00:08,  7.16it/s]]"
     ]
    },
    {
     "name": "stdout",
     "output_type": "stream",
     "text": [
      "Evaluating...\n"
     ]
    },
    {
     "name": "stderr",
     "output_type": "stream",
     "text": [
      "Iteration: 100%|██████████| 62/62 [00:04<00:00, 15.25it/s]\n",
      "Iteration: 100%|██████████| 18/18 [00:01<00:00, 16.06it/s]\n",
      "Iteration: 100%|██████████| 62/62 [00:04<00:00, 15.27it/s]\n",
      "Iteration: 100%|██████████| 18/18 [00:01<00:00, 15.92it/s]\n",
      "Iteration: 100%|██████████| 62/62 [00:08<00:00,  7.30it/s]\n",
      "Iteration:  79%|███████▉  | 49/62 [00:06<00:01,  7.23it/s]"
     ]
    },
    {
     "name": "stdout",
     "output_type": "stream",
     "text": [
      "Evaluating...\n"
     ]
    },
    {
     "name": "stderr",
     "output_type": "stream",
     "text": [
      "Iteration: 100%|██████████| 7/7 [00:00<00:00, 15.49it/s]s]\n",
      "Iteration:  76%|███████▌  | 47/62 [00:06<00:02,  7.19it/s]"
     ]
    },
    {
     "name": "stdout",
     "output_type": "stream",
     "text": [
      "{'Train':  best_epoch_indx:38\n",
      " auc:0.91789885548342 \n",
      " apur:0.8982636631421916 \n",
      " f1:0.8112645868063825 \n",
      " precision:0.7619953025388659 \n",
      " recall:0.8673456397199236 \n",
      ", 'Validation':  best_epoch_indx:38\n",
      " auc:0.871277687142521 \n",
      " apur:0.8454585735502386 \n",
      " f1:0.7612903225806452 \n",
      " precision:0.7173252279635258 \n",
      " recall:0.8109965635738832 \n",
      ", 'Test':  best_epoch_indx:38\n",
      " auc:0.8767979478750633 \n",
      " apur:0.8463838693991433 \n",
      " f1:0.7674319727891158 \n",
      " precision:0.7157018239492466 \n",
      " recall:0.8272227314390468 \n",
      "}\n",
      "=====Epoch 39\n",
      "Training...\n"
     ]
    },
    {
     "name": "stderr",
     "output_type": "stream",
     "text": [
      "Iteration: 100%|██████████| 62/62 [00:08<00:00,  7.26it/s]\n",
      "Iteration:  92%|█████████▏| 57/62 [00:07<00:00,  7.15it/s]"
     ]
    },
    {
     "name": "stdout",
     "output_type": "stream",
     "text": [
      "Evaluating...\n"
     ]
    },
    {
     "name": "stderr",
     "output_type": "stream",
     "text": [
      "Iteration: 100%|██████████| 7/7 [00:00<00:00, 14.33it/s]s]\n",
      "Iteration:   2%|▏         | 1/62 [00:00<00:08,  6.88it/s]]"
     ]
    },
    {
     "name": "stdout",
     "output_type": "stream",
     "text": [
      "{'Train':  best_epoch_indx:39\n",
      " auc:0.9226030681213935 \n",
      " apur:0.902650215721122 \n",
      " f1:0.8168370262205574 \n",
      " precision:0.8147163120567376 \n",
      " recall:0.818968809675366 \n",
      ", 'Validation':  best_epoch_indx:39\n",
      " auc:0.8791253504884661 \n",
      " apur:0.8593177496719658 \n",
      " f1:0.7680826636050516 \n",
      " precision:0.7698504027617952 \n",
      " recall:0.7663230240549829 \n",
      ", 'Test':  best_epoch_indx:39\n",
      " auc:0.8824157294178556 \n",
      " apur:0.8578534031159977 \n",
      " f1:0.7673883003224321 \n",
      " precision:0.7712962962962963 \n",
      " recall:0.763519706691109 \n",
      "}\n",
      "=====Epoch 40\n",
      "Training...\n"
     ]
    },
    {
     "name": "stderr",
     "output_type": "stream",
     "text": [
      "\r",
      "Iteration:  55%|█████▍    | 34/62 [00:02<00:01, 15.07it/s]\r",
      "Iteration:  98%|█████████▊| 61/62 [00:08<00:00,  7.20it/s]\r",
      "Iteration:  16%|█▌        | 10/62 [00:00<00:03, 15.21it/s]\r",
      "Iteration:  24%|██▍       | 15/62 [00:02<00:06,  7.21it/s]\r",
      "Iteration:   3%|▎         | 2/62 [00:00<00:08,  6.91it/s]\r",
      "Iteration:  58%|█████▊    | 36/62 [00:02<00:01, 15.01it/s]\r",
      "Iteration: 100%|██████████| 62/62 [00:08<00:00,  7.53it/s]\r",
      "Iteration: 100%|██████████| 62/62 [00:08<00:00,  7.23it/s]\n",
      "\r",
      "Iteration:   0%|          | 0/62 [00:00<?, ?it/s]"
     ]
    },
    {
     "name": "stdout",
     "output_type": "stream",
     "text": [
      "Evaluating...\n"
     ]
    },
    {
     "name": "stderr",
     "output_type": "stream",
     "text": [
      "Iteration: 100%|██████████| 62/62 [00:04<00:00, 14.57it/s]\n",
      "Iteration: 100%|██████████| 18/18 [00:01<00:00, 15.90it/s]\n",
      "Iteration: 100%|██████████| 62/62 [00:04<00:00, 15.31it/s]\n",
      "Iteration: 100%|██████████| 7/7 [00:00<00:00, 15.59it/s]s]\n",
      "Iteration:   2%|▏         | 1/62 [00:00<00:08,  7.14it/s]]"
     ]
    },
    {
     "name": "stdout",
     "output_type": "stream",
     "text": [
      "{'Train':  best_epoch_indx:40\n",
      " auc:0.9286317415019242 \n",
      " apur:0.9091891012777039 \n",
      " f1:0.8247994692720584 \n",
      " precision:0.7836351134540454 \n",
      " recall:0.8705283259070655 \n",
      ", 'Validation':  best_epoch_indx:40\n",
      " auc:0.8659282785857815 \n",
      " apur:0.8325473186474841 \n",
      " f1:0.749047359825803 \n",
      " precision:0.7136929460580913 \n",
      " recall:0.7880870561282932 \n",
      ", 'Test':  best_epoch_indx:40\n",
      " auc:0.8823229237069752 \n",
      " apur:0.8550100757858496 \n",
      " f1:0.7707380796864793 \n",
      " precision:0.7341352136043136 \n",
      " recall:0.8111824014665444 \n",
      "}\n",
      "=====Epoch 41\n",
      "Training...\n"
     ]
    },
    {
     "name": "stderr",
     "output_type": "stream",
     "text": [
      "Iteration: 100%|██████████| 62/62 [00:04<00:00, 14.60it/s]\n",
      "Iteration: 100%|██████████| 18/18 [00:01<00:00, 15.87it/s]\n",
      "Iteration: 100%|██████████| 7/7 [00:00<00:00, 15.49it/s]s]\n",
      "Iteration:  67%|██████▋   | 12/18 [00:00<00:00, 15.40it/s]"
     ]
    },
    {
     "name": "stdout",
     "output_type": "stream",
     "text": [
      "{'Train':  best_epoch_indx:39\n",
      " auc:0.9301722521335372 \n",
      " apur:0.9128731425323681 \n",
      " f1:0.8220554649265904 \n",
      " precision:0.843239625167336 \n",
      " recall:0.8019096117122851 \n",
      ", 'Validation':  best_epoch_indx:39\n",
      " auc:0.8767591917649191 \n",
      " apur:0.8546910362910928 \n",
      " f1:0.7492555092316855 \n",
      " precision:0.7803970223325062 \n",
      " recall:0.720504009163803 \n",
      ", 'Test':  best_epoch_indx:39\n",
      " auc:0.8794111293194704 \n",
      " apur:0.8538978114561946 \n",
      " f1:0.763003059543422 \n",
      " precision:0.7842283502660861 \n",
      " recall:0.7428964252978918 \n",
      "}\n",
      "=====Epoch 40\n",
      "Training...\n"
     ]
    },
    {
     "name": "stderr",
     "output_type": "stream",
     "text": [
      "Iteration: 100%|██████████| 18/18 [00:01<00:00, 15.93it/s]\n",
      "Iteration: 100%|██████████| 62/62 [00:08<00:00,  7.27it/s]\n",
      "Iteration:  35%|███▌      | 22/62 [00:03<00:05,  7.35it/s]"
     ]
    },
    {
     "name": "stdout",
     "output_type": "stream",
     "text": [
      "Evaluating...\n"
     ]
    },
    {
     "name": "stderr",
     "output_type": "stream",
     "text": [
      "Iteration: 100%|██████████| 62/62 [00:08<00:00,  7.24it/s]\n",
      "Iteration:  45%|████▌     | 28/62 [00:01<00:02, 15.17it/s]"
     ]
    },
    {
     "name": "stdout",
     "output_type": "stream",
     "text": [
      "Evaluating...\n"
     ]
    },
    {
     "name": "stderr",
     "output_type": "stream",
     "text": [
      "Iteration: 100%|██████████| 62/62 [00:04<00:00, 15.20it/s]\n",
      "Iteration: 100%|██████████| 7/7 [00:00<00:00, 14.59it/s]s]\n",
      "Iteration:  58%|█████▊    | 36/62 [00:02<00:01, 15.15it/s]"
     ]
    },
    {
     "name": "stdout",
     "output_type": "stream",
     "text": [
      "{'Train':  best_epoch_indx:40\n",
      " auc:0.9311936055696114 \n",
      " apur:0.913707757358026 \n",
      " f1:0.824198748340603 \n",
      " precision:0.8185585133098945 \n",
      " recall:0.8299172501591343 \n",
      ", 'Validation':  best_epoch_indx:40\n",
      " auc:0.8760408591450973 \n",
      " apur:0.8443282040009785 \n",
      " f1:0.7666666666666666 \n",
      " precision:0.7693194925028836 \n",
      " recall:0.7640320733104238 \n",
      ", 'Test':  best_epoch_indx:40\n",
      " auc:0.8826154713895096 \n",
      " apur:0.8568263384580992 \n",
      " f1:0.7680992875201103 \n",
      " precision:0.7704011065006916 \n",
      " recall:0.7658111824014665 \n",
      "}\n",
      "=====Epoch 41\n",
      "Training...\n"
     ]
    },
    {
     "name": "stderr",
     "output_type": "stream",
     "text": [
      "Iteration: 100%|██████████| 18/18 [00:01<00:00, 16.01it/s]\n",
      "Iteration: 100%|██████████| 62/62 [00:08<00:00,  7.28it/s]\n",
      "Iteration:  94%|█████████▎| 58/62 [00:03<00:00, 15.04it/s]"
     ]
    },
    {
     "name": "stdout",
     "output_type": "stream",
     "text": [
      "Evaluating...\n"
     ]
    },
    {
     "name": "stderr",
     "output_type": "stream",
     "text": [
      "Iteration: 100%|██████████| 62/62 [00:04<00:00, 14.57it/s]\n",
      "Iteration: 100%|██████████| 62/62 [00:08<00:00,  7.29it/s]\n",
      "Iteration:  89%|████████▉ | 16/18 [00:01<00:00, 15.53it/s]"
     ]
    },
    {
     "name": "stdout",
     "output_type": "stream",
     "text": [
      "Evaluating...\n"
     ]
    },
    {
     "name": "stderr",
     "output_type": "stream",
     "text": [
      "Iteration: 100%|██████████| 18/18 [00:01<00:00, 15.96it/s]\n",
      "Iteration: 100%|██████████| 7/7 [00:00<00:00, 15.43it/s]s]\n",
      "Iteration:  58%|█████▊    | 36/62 [00:02<00:01, 15.28it/s]"
     ]
    },
    {
     "name": "stdout",
     "output_type": "stream",
     "text": [
      "{'Train':  best_epoch_indx:40\n",
      " auc:0.9221942075706846 \n",
      " apur:0.9027533441947904 \n",
      " f1:0.8161542338709676 \n",
      " precision:0.8079081950854434 \n",
      " recall:0.8245703373647358 \n",
      ", 'Validation':  best_epoch_indx:40\n",
      " auc:0.8771226969966948 \n",
      " apur:0.857198225253222 \n",
      " f1:0.7594070695553022 \n",
      " precision:0.7559591373439274 \n",
      " recall:0.7628865979381443 \n",
      ", 'Test':  best_epoch_indx:40\n",
      " auc:0.8807728748550172 \n",
      " apur:0.8569975792698267 \n",
      " f1:0.7623626373626373 \n",
      " precision:0.7616651418115279 \n",
      " recall:0.7630614115490376 \n",
      "}\n",
      "=====Epoch 41\n",
      "Training...\n"
     ]
    },
    {
     "name": "stderr",
     "output_type": "stream",
     "text": [
      "Iteration: 100%|██████████| 62/62 [00:04<00:00, 15.25it/s]\n",
      "Iteration: 100%|██████████| 7/7 [00:00<00:00, 14.66it/s]s]\n",
      "Iteration:  56%|█████▌    | 10/18 [00:00<00:00, 15.30it/s]"
     ]
    },
    {
     "name": "stdout",
     "output_type": "stream",
     "text": [
      "{'Train':  best_epoch_indx:39\n",
      " auc:0.9216235689076866 \n",
      " apur:0.9023976172310989 \n",
      " f1:0.8170582476749877 \n",
      " precision:0.7865472965013547 \n",
      " recall:0.8500318268618714 \n",
      ", 'Validation':  best_epoch_indx:39\n",
      " auc:0.8731954906067163 \n",
      " apur:0.8481771777912948 \n",
      " f1:0.7613259668508288 \n",
      " precision:0.7353255069370331 \n",
      " recall:0.7892325315005727 \n",
      ", 'Test':  best_epoch_indx:39\n",
      " auc:0.8789208623543188 \n",
      " apur:0.8496823184503874 \n",
      " f1:0.7689602110353924 \n",
      " precision:0.7389100126742713 \n",
      " recall:0.8015582034830431 \n",
      "}\n",
      "=====Epoch 40\n",
      "Training...\n"
     ]
    },
    {
     "name": "stderr",
     "output_type": "stream",
     "text": [
      "Iteration: 100%|██████████| 18/18 [00:01<00:00, 15.90it/s]\n",
      "Iteration: 100%|██████████| 62/62 [00:04<00:00, 14.61it/s]\n",
      "Iteration: 100%|██████████| 62/62 [00:08<00:00,  7.23it/s]\n",
      "Iteration: 100%|██████████| 18/18 [00:01<00:00, 15.93it/s]\n",
      "Iteration:  29%|██▉       | 18/62 [00:02<00:06,  7.23it/s]"
     ]
    },
    {
     "name": "stdout",
     "output_type": "stream",
     "text": [
      "Evaluating...\n"
     ]
    },
    {
     "name": "stderr",
     "output_type": "stream",
     "text": [
      "Iteration: 100%|██████████| 7/7 [00:00<00:00, 15.45it/s]]]\n",
      "Iteration:   0%|          | 0/62 [00:00<?, ?it/s]7.26it/s]"
     ]
    },
    {
     "name": "stdout",
     "output_type": "stream",
     "text": [
      "{'Train':  best_epoch_indx:40\n",
      " auc:0.9308508261972261 \n",
      " apur:0.9130715777625583 \n",
      " f1:0.8227126858340429 \n",
      " precision:0.8471810089020771 \n",
      " recall:0.799618077657543 \n",
      ", 'Validation':  best_epoch_indx:40\n",
      " auc:0.8769125003374718 \n",
      " apur:0.8534423764755469 \n",
      " f1:0.7516457211250748 \n",
      " precision:0.7869674185463659 \n",
      " recall:0.7193585337915235 \n",
      ", 'Test':  best_epoch_indx:40\n",
      " auc:0.8791491141170334 \n",
      " apur:0.8524056004772909 \n",
      " f1:0.7651515151515152 \n",
      " precision:0.791380999020568 \n",
      " recall:0.7406049495875344 \n",
      "}\n",
      "=====Epoch 41\n",
      "Training...\n"
     ]
    },
    {
     "name": "stderr",
     "output_type": "stream",
     "text": [
      "Iteration: 100%|██████████| 7/7 [00:00<00:00, 14.79it/s]s]\n",
      "Iteration:  84%|████████▍ | 52/62 [00:03<00:00, 15.20it/s]"
     ]
    },
    {
     "name": "stdout",
     "output_type": "stream",
     "text": [
      "{'Train':  best_epoch_indx:41\n",
      " auc:0.9290650203523388 \n",
      " apur:0.9102319715585471 \n",
      " f1:0.824154768527103 \n",
      " precision:0.8009370494954349 \n",
      " recall:0.8487587523870146 \n",
      ", 'Validation':  best_epoch_indx:41\n",
      " auc:0.868118952025023 \n",
      " apur:0.8351352086986665 \n",
      " f1:0.7536557930258718 \n",
      " precision:0.7403314917127072 \n",
      " recall:0.7674684994272624 \n",
      ", 'Test':  best_epoch_indx:41\n",
      " auc:0.8842206050730341 \n",
      " apur:0.857384395510548 \n",
      " f1:0.7780249110320285 \n",
      " precision:0.7558340535868626 \n",
      " recall:0.8015582034830431 \n",
      "}\n",
      "=====Epoch 42\n",
      "Training...\n"
     ]
    },
    {
     "name": "stderr",
     "output_type": "stream",
     "text": [
      "Iteration: 100%|██████████| 62/62 [00:08<00:00,  7.24it/s]\n",
      "Iteration:  39%|███▊      | 24/62 [00:03<00:05,  7.30it/s]"
     ]
    },
    {
     "name": "stdout",
     "output_type": "stream",
     "text": [
      "Evaluating...\n"
     ]
    },
    {
     "name": "stderr",
     "output_type": "stream",
     "text": [
      "Iteration: 100%|██████████| 62/62 [00:04<00:00, 15.14it/s]\n",
      "Iteration: 100%|██████████| 18/18 [00:01<00:00, 15.90it/s]\n",
      "Iteration: 100%|██████████| 7/7 [00:00<00:00, 15.51it/s]s]\n",
      "Iteration:   2%|▏         | 1/62 [00:00<00:08,  7.14it/s]]"
     ]
    },
    {
     "name": "stdout",
     "output_type": "stream",
     "text": [
      "{'Train':  best_epoch_indx:41\n",
      " auc:0.9310826849366947 \n",
      " apur:0.9126344017512771 \n",
      " f1:0.826650441131731 \n",
      " precision:0.7917249417249417 \n",
      " recall:0.86479949077021 \n",
      ", 'Validation':  best_epoch_indx:41\n",
      " auc:0.8758017363401097 \n",
      " apur:0.8415614910419165 \n",
      " f1:0.7746556473829201 \n",
      " precision:0.7462845010615711 \n",
      " recall:0.8052691867124857 \n",
      ", 'Test':  best_epoch_indx:41\n",
      " auc:0.8826940406812961 \n",
      " apur:0.8551220372431075 \n",
      " f1:0.7688564476885644 \n",
      " precision:0.7430525865754596 \n",
      " recall:0.7965169569202566 \n",
      "}\n",
      "=====Epoch 42\n",
      "Training...\n"
     ]
    },
    {
     "name": "stderr",
     "output_type": "stream",
     "text": [
      "\r",
      "Iteration:  61%|██████▏   | 38/62 [00:02<00:01, 15.28it/s]\r",
      "Iteration:  66%|██████▌   | 41/62 [00:05<00:02,  7.29it/s]\r",
      "Iteration: 100%|██████████| 62/62 [00:08<00:00,  7.48it/s]\r",
      "Iteration: 100%|██████████| 62/62 [00:08<00:00,  7.24it/s]\n",
      "\r",
      "Iteration:   0%|          | 0/62 [00:00<?, ?it/s]\r",
      "Iteration:  34%|███▍      | 21/62 [00:02<00:05,  7.35it/s]\r",
      "Iteration:   3%|▎         | 2/62 [00:00<00:08,  7.14it/s]\r",
      "Iteration:  65%|██████▍   | 40/62 [00:02<00:01, 15.15it/s]\r",
      "Iteration:  68%|██████▊   | 42/62 [00:05<00:02,  7.30it/s]\r",
      "Iteration:   3%|▎         | 2/62 [00:00<00:03, 15.37it/s]\r",
      "Iteration:  35%|███▌      | 22/62 [00:03<00:05,  7.37it/s]"
     ]
    },
    {
     "name": "stdout",
     "output_type": "stream",
     "text": [
      "Evaluating...\n"
     ]
    },
    {
     "name": "stderr",
     "output_type": "stream",
     "text": [
      "Iteration: 100%|██████████| 62/62 [00:04<00:00, 15.28it/s]\n",
      "Iteration: 100%|██████████| 62/62 [00:08<00:00,  7.31it/s]\n",
      "Iteration: 100%|██████████| 18/18 [00:01<00:00, 15.98it/s]\n",
      "Iteration:  37%|███▋      | 23/62 [00:03<00:05,  7.22it/s]"
     ]
    },
    {
     "name": "stdout",
     "output_type": "stream",
     "text": [
      "Evaluating...\n"
     ]
    },
    {
     "name": "stderr",
     "output_type": "stream",
     "text": [
      "Iteration: 100%|██████████| 7/7 [00:00<00:00, 15.50it/s]]]\n"
     ]
    },
    {
     "name": "stdout",
     "output_type": "stream",
     "text": [
      "{'Train':  best_epoch_indx:41\n",
      " auc:0.9237979539108931 \n",
      " apur:0.9047337597727223 \n",
      " f1:0.8170569198553207 \n",
      " precision:0.8145242914979757 \n",
      " recall:0.8196053469127944 \n",
      ", 'Validation':  best_epoch_indx:41\n",
      " auc:0.879153312429372 \n",
      " apur:0.8595044782470876 \n",
      " f1:0.7682648401826484 \n",
      " precision:0.7656427758816837 \n",
      " recall:0.7709049255441008 \n",
      ", 'Test':  best_epoch_indx:41\n",
      " auc:0.8818263825494054 \n",
      " apur:0.8577774664840484 \n",
      " f1:0.7657906869525127 \n",
      " precision:0.7704081632653061 \n",
      " recall:0.7612282309807517 \n",
      "}\n",
      "=====Epoch 42\n",
      "Training...\n"
     ]
    },
    {
     "name": "stderr",
     "output_type": "stream",
     "text": [
      "Iteration: 100%|██████████| 62/62 [00:04<00:00, 14.68it/s]\n",
      "Iteration: 100%|██████████| 18/18 [00:01<00:00, 16.00it/s]\n",
      "Iteration: 100%|██████████| 62/62 [00:08<00:00,  7.29it/s]\n",
      "Iteration:   0%|          | 0/62 [00:00<?, ?it/s]"
     ]
    },
    {
     "name": "stdout",
     "output_type": "stream",
     "text": [
      "Evaluating...\n"
     ]
    },
    {
     "name": "stderr",
     "output_type": "stream",
     "text": [
      "Iteration: 100%|██████████| 62/62 [00:04<00:00, 15.33it/s]\n",
      "Iteration: 100%|██████████| 18/18 [00:01<00:00, 15.92it/s]\n",
      "Iteration: 100%|██████████| 62/62 [00:08<00:00,  7.25it/s]\n",
      "Iteration:   0%|          | 0/62 [00:00<?, ?it/s]"
     ]
    },
    {
     "name": "stdout",
     "output_type": "stream",
     "text": [
      "Evaluating...\n"
     ]
    },
    {
     "name": "stderr",
     "output_type": "stream",
     "text": [
      "Iteration: 100%|██████████| 7/7 [00:00<00:00, 15.47it/s]]]\n",
      "Iteration:  13%|█▎        | 8/62 [00:00<00:03, 15.15it/s]]"
     ]
    },
    {
     "name": "stdout",
     "output_type": "stream",
     "text": [
      "{'Train':  best_epoch_indx:41\n",
      " auc:0.9305942639949611 \n",
      " apur:0.9127716135625122 \n",
      " f1:0.8236358934574607 \n",
      " precision:0.8367266517798503 \n",
      " recall:0.8109484404837684 \n",
      ", 'Validation':  best_epoch_indx:41\n",
      " auc:0.8785516485974676 \n",
      " apur:0.8574431170094478 \n",
      " f1:0.7605633802816901 \n",
      " precision:0.779783393501805 \n",
      " recall:0.7422680412371134 \n",
      ", 'Test':  best_epoch_indx:41\n",
      " auc:0.8796661235020538 \n",
      " apur:0.8534364637382319 \n",
      " f1:0.7692307692307693 \n",
      " precision:0.7827324478178368 \n",
      " recall:0.7561869844179652 \n",
      "}\n",
      "=====Epoch 42\n",
      "Training...\n"
     ]
    },
    {
     "name": "stderr",
     "output_type": "stream",
     "text": [
      "Iteration: 100%|██████████| 62/62 [00:04<00:00, 14.68it/s]\n",
      "Iteration: 100%|██████████| 7/7 [00:00<00:00, 15.29it/s]s]\n",
      "Iteration:  85%|████████▌ | 53/62 [00:07<00:01,  7.23it/s]"
     ]
    },
    {
     "name": "stdout",
     "output_type": "stream",
     "text": [
      "{'Train':  best_epoch_indx:40\n",
      " auc:0.9215163936622567 \n",
      " apur:0.9028109371589553 \n",
      " f1:0.8161660831644248 \n",
      " precision:0.7885117493472585 \n",
      " recall:0.845830681094844 \n",
      ", 'Validation':  best_epoch_indx:40\n",
      " auc:0.8721772902758013 \n",
      " apur:0.8477636034286575 \n",
      " f1:0.7598447032723239 \n",
      " precision:0.7365591397849462 \n",
      " recall:0.7846506300114547 \n",
      ", 'Test':  best_epoch_indx:40\n",
      " auc:0.879473780238758 \n",
      " apur:0.8515674578191146 \n",
      " f1:0.7715355805243447 \n",
      " precision:0.7428935086974968 \n",
      " recall:0.8024747937671861 \n",
      "}\n",
      "=====Epoch 41\n",
      "Training...\n"
     ]
    },
    {
     "name": "stderr",
     "output_type": "stream",
     "text": [
      "Iteration: 100%|██████████| 18/18 [00:01<00:00, 15.82it/s]\n",
      "Iteration: 100%|██████████| 7/7 [00:00<00:00, 15.68it/s]s]\n",
      "Iteration:  15%|█▍        | 9/62 [00:01<00:07,  7.26it/s]]"
     ]
    },
    {
     "name": "stdout",
     "output_type": "stream",
     "text": [
      "{'Train':  best_epoch_indx:42\n",
      " auc:0.9279263755865071 \n",
      " apur:0.9064582508850392 \n",
      " f1:0.8232259687971817 \n",
      " precision:0.8137047630891681 \n",
      " recall:0.8329726288987905 \n",
      ", 'Validation':  best_epoch_indx:42\n",
      " auc:0.8674526864675778 \n",
      " apur:0.8325203472166176 \n",
      " f1:0.752577319587629 \n",
      " precision:0.7525773195876289 \n",
      " recall:0.7525773195876289 \n",
      ", 'Test':  best_epoch_indx:42\n",
      " auc:0.8816600159863223 \n",
      " apur:0.8507829085612422 \n",
      " f1:0.7683231223054231 \n",
      " precision:0.7608988764044944 \n",
      " recall:0.7758936755270394 \n",
      "}\n",
      "=====Epoch 43\n",
      "Training...\n"
     ]
    },
    {
     "name": "stderr",
     "output_type": "stream",
     "text": [
      "\r",
      "Iteration:  37%|███▋      | 23/62 [00:03<00:05,  7.29it/s]\r",
      "Iteration: 100%|██████████| 62/62 [00:08<00:00,  7.51it/s]\r",
      "Iteration: 100%|██████████| 62/62 [00:08<00:00,  7.23it/s]\n",
      "\r",
      "Iteration:   0%|          | 0/62 [00:00<?, ?it/s]\r",
      "Iteration:   3%|▎         | 2/62 [00:00<00:08,  7.11it/s]\r",
      "Iteration:  87%|████████▋ | 54/62 [00:03<00:00, 10.91it/s]\r",
      "Iteration:  16%|█▌        | 10/62 [00:01<00:07,  7.18it/s]\r",
      "Iteration:  39%|███▊      | 24/62 [00:03<00:05,  7.26it/s]\r",
      "Iteration:   3%|▎         | 2/62 [00:00<00:03, 15.32it/s]"
     ]
    },
    {
     "name": "stdout",
     "output_type": "stream",
     "text": [
      "Evaluating...\n"
     ]
    },
    {
     "name": "stderr",
     "output_type": "stream",
     "text": [
      "Iteration: 100%|██████████| 62/62 [00:04<00:00, 14.58it/s]\n",
      "Iteration: 100%|██████████| 18/18 [00:01<00:00, 15.94it/s]\n",
      "Iteration: 100%|██████████| 7/7 [00:00<00:00, 15.56it/s]s]\n",
      "Iteration:  68%|██████▊   | 42/62 [00:05<00:02,  7.26it/s]"
     ]
    },
    {
     "name": "stdout",
     "output_type": "stream",
     "text": [
      "{'Train':  best_epoch_indx:42\n",
      " auc:0.930258074465925 \n",
      " apur:0.911084079092329 \n",
      " f1:0.8255564412287694 \n",
      " precision:0.7963094393186657 \n",
      " recall:0.8570337364735837 \n",
      ", 'Validation':  best_epoch_indx:42\n",
      " auc:0.8746234780026303 \n",
      " apur:0.8400835782083693 \n",
      " f1:0.7687150837988826 \n",
      " precision:0.7502726281352236 \n",
      " recall:0.7880870561282932 \n",
      ", 'Test':  best_epoch_indx:42\n",
      " auc:0.8802215005715955 \n",
      " apur:0.8520928478393205 \n",
      " f1:0.7704590818363275 \n",
      " precision:0.74645466265578 \n",
      " recall:0.7960586617781852 \n",
      "}\n",
      "=====Epoch 43\n",
      "Training...\n"
     ]
    },
    {
     "name": "stderr",
     "output_type": "stream",
     "text": [
      "Iteration: 100%|██████████| 62/62 [00:04<00:00, 14.75it/s]\n",
      "Iteration: 100%|██████████| 62/62 [00:08<00:00,  7.30it/s]\n",
      "Iteration:   3%|▎         | 2/62 [00:00<00:03, 15.10it/s]]"
     ]
    },
    {
     "name": "stdout",
     "output_type": "stream",
     "text": [
      "Evaluating...\n"
     ]
    },
    {
     "name": "stderr",
     "output_type": "stream",
     "text": [
      "Iteration: 100%|██████████| 18/18 [00:01<00:00, 15.79it/s]\n",
      "Iteration: 100%|██████████| 7/7 [00:00<00:00, 15.58it/s]s]\n",
      "Iteration:   2%|▏         | 1/62 [00:00<00:08,  7.34it/s]]"
     ]
    },
    {
     "name": "stdout",
     "output_type": "stream",
     "text": [
      "{'Train':  best_epoch_indx:42\n",
      " auc:0.9231488109734495 \n",
      " apur:0.9034463664904149 \n",
      " f1:0.8167972981584147 \n",
      " precision:0.8176830824189845 \n",
      " recall:0.8159134309357098 \n",
      ", 'Validation':  best_epoch_indx:42\n",
      " auc:0.8760389307353796 \n",
      " apur:0.8560417961411889 \n",
      " f1:0.7572254335260116 \n",
      " precision:0.764294049008168 \n",
      " recall:0.7502863688430699 \n",
      ", 'Test':  best_epoch_indx:42\n",
      " auc:0.8824586415261397 \n",
      " apur:0.8577590263848405 \n",
      " f1:0.7637121036797039 \n",
      " precision:0.7713884992987378 \n",
      " recall:0.7561869844179652 \n",
      "}\n",
      "=====Epoch 43\n",
      "Training...\n"
     ]
    },
    {
     "name": "stderr",
     "output_type": "stream",
     "text": [
      "Iteration: 100%|██████████| 62/62 [00:08<00:00,  7.26it/s]\n",
      "Iteration:   3%|▎         | 2/62 [00:00<00:03, 15.09it/s]]"
     ]
    },
    {
     "name": "stdout",
     "output_type": "stream",
     "text": [
      "Evaluating...\n"
     ]
    },
    {
     "name": "stderr",
     "output_type": "stream",
     "text": [
      "Iteration: 100%|██████████| 62/62 [00:08<00:00,  7.30it/s]\n",
      "Iteration:  74%|███████▍  | 46/62 [00:03<00:01, 15.20it/s]"
     ]
    },
    {
     "name": "stdout",
     "output_type": "stream",
     "text": [
      "Evaluating...\n"
     ]
    },
    {
     "name": "stderr",
     "output_type": "stream",
     "text": [
      "Iteration: 100%|██████████| 62/62 [00:04<00:00, 14.65it/s]\n",
      "Iteration: 100%|██████████| 18/18 [00:01<00:00, 15.92it/s]\n",
      "Iteration: 100%|██████████| 62/62 [00:08<00:00,  7.24it/s]\n",
      "Iteration:   0%|          | 0/62 [00:00<?, ?it/s]"
     ]
    },
    {
     "name": "stdout",
     "output_type": "stream",
     "text": [
      "Evaluating...\n"
     ]
    },
    {
     "name": "stderr",
     "output_type": "stream",
     "text": [
      "Iteration: 100%|██████████| 62/62 [00:04<00:00, 15.26it/s]\n",
      "Iteration: 100%|██████████| 7/7 [00:00<00:00, 15.49it/s]s]\n",
      "Iteration:   0%|          | 0/18 [00:00<?, ?it/s]7.25it/s]"
     ]
    },
    {
     "name": "stdout",
     "output_type": "stream",
     "text": [
      "{'Train':  best_epoch_indx:42\n",
      " auc:0.9291174547276363 \n",
      " apur:0.910201978542911 \n",
      " f1:0.822952301039179 \n",
      " precision:0.8346425765907306 \n",
      " recall:0.8115849777211966 \n",
      ", 'Validation':  best_epoch_indx:42\n",
      " auc:0.878543934958597 \n",
      " apur:0.8550750784303179 \n",
      " f1:0.7693208430913347 \n",
      " precision:0.7868263473053893 \n",
      " recall:0.7525773195876289 \n",
      ", 'Test':  best_epoch_indx:42\n",
      " auc:0.8781991932771034 \n",
      " apur:0.8496373848201899 \n",
      " f1:0.7699814126394052 \n",
      " precision:0.7808671065032988 \n",
      " recall:0.7593950504124656 \n",
      "}\n",
      "=====Epoch 43\n",
      "Training...\n"
     ]
    },
    {
     "name": "stderr",
     "output_type": "stream",
     "text": [
      "Iteration: 100%|██████████| 62/62 [00:04<00:00, 15.29it/s]\n",
      "Iteration: 100%|██████████| 18/18 [00:01<00:00, 15.98it/s]\n",
      "Iteration: 100%|██████████| 18/18 [00:01<00:00, 15.86it/s]\n",
      "Iteration: 100%|██████████| 7/7 [00:00<00:00, 15.15it/s]s]\n",
      "Iteration:  95%|█████████▌| 59/62 [00:08<00:00,  7.05it/s]"
     ]
    },
    {
     "name": "stdout",
     "output_type": "stream",
     "text": [
      "{'Train':  best_epoch_indx:43\n",
      " auc:0.9265318177208417 \n",
      " apur:0.9070719933264381 \n",
      " f1:0.8226677425361555 \n",
      " precision:0.8026889534883721 \n",
      " recall:0.8436664544875875 \n",
      ", 'Validation':  best_epoch_indx:43\n",
      " auc:0.8629561171084654 \n",
      " apur:0.8302847132054411 \n",
      " f1:0.7588932806324111 \n",
      " precision:0.7483296213808464 \n",
      " recall:0.7697594501718213 \n",
      ", 'Test':  best_epoch_indx:43\n",
      " auc:0.8809297527675164 \n",
      " apur:0.8528310219182735 \n",
      " f1:0.773071778867588 \n",
      " precision:0.7526041666666666 \n",
      " recall:0.7946837763519706 \n",
      "}\n",
      "=====Epoch 44\n",
      "Training...\n"
     ]
    },
    {
     "name": "stderr",
     "output_type": "stream",
     "text": [
      "Iteration: 100%|██████████| 62/62 [00:08<00:00,  7.25it/s]\n",
      "Iteration:   0%|          | 0/62 [00:00<?, ?it/s]"
     ]
    },
    {
     "name": "stdout",
     "output_type": "stream",
     "text": [
      "Evaluating...\n"
     ]
    },
    {
     "name": "stderr",
     "output_type": "stream",
     "text": [
      "Iteration: 100%|██████████| 62/62 [00:04<00:00, 15.13it/s]\n",
      "Iteration: 100%|██████████| 18/18 [00:01<00:00, 15.84it/s]\n",
      "Iteration: 100%|██████████| 7/7 [00:00<00:00, 15.47it/s]s]\n"
     ]
    },
    {
     "name": "stdout",
     "output_type": "stream",
     "text": [
      "{'Train':  best_epoch_indx:43\n",
      " auc:0.9295440690389836 \n",
      " apur:0.9115152177500095 \n",
      " f1:0.8232664894902151 \n",
      " precision:0.7832433053671992 \n",
      " recall:0.867600254614895 \n",
      ", 'Validation':  best_epoch_indx:43\n",
      " auc:0.8747661803217359 \n",
      " apur:0.8410704429879826 \n",
      " f1:0.7698237885462555 \n",
      " precision:0.7412513255567338 \n",
      " recall:0.8006872852233677 \n",
      ", 'Test':  best_epoch_indx:43\n",
      " auc:0.88119937181613 \n",
      " apur:0.854283027871164 \n",
      " f1:0.772876892692561 \n",
      " precision:0.7414736842105263 \n",
      " recall:0.807057745187901 \n",
      "}\n",
      "=====Epoch 44\n",
      "Training...\n"
     ]
    },
    {
     "name": "stderr",
     "output_type": "stream",
     "text": [
      "Iteration: 100%|██████████| 7/7 [00:00<00:00, 15.41it/s]s]\n",
      "Iteration:  77%|███████▋  | 48/62 [00:03<00:00, 15.18it/s]"
     ]
    },
    {
     "name": "stdout",
     "output_type": "stream",
     "text": [
      "{'Train':  best_epoch_indx:41\n",
      " auc:0.9220249505924439 \n",
      " apur:0.9035051805988575 \n",
      " f1:0.8172522773749769 \n",
      " precision:0.7961844964984304 \n",
      " recall:0.8394653087205601 \n",
      ", 'Validation':  best_epoch_indx:41\n",
      " auc:0.8715177741523675 \n",
      " apur:0.8458261163492123 \n",
      " f1:0.7605159842961302 \n",
      " precision:0.7450549450549451 \n",
      " recall:0.7766323024054983 \n",
      ", 'Test':  best_epoch_indx:41\n",
      " auc:0.8801213208655649 \n",
      " apur:0.8515148072627899 \n",
      " f1:0.7722728282603866 \n",
      " precision:0.7494609745579991 \n",
      " recall:0.7965169569202566 \n",
      "}\n",
      "=====Epoch 42\n",
      "Training...\n"
     ]
    },
    {
     "name": "stderr",
     "output_type": "stream",
     "text": [
      "Iteration: 100%|██████████| 62/62 [00:04<00:00, 15.19it/s]\n",
      "Iteration: 100%|██████████| 62/62 [00:08<00:00,  7.25it/s]\n",
      "Iteration: 100%|██████████| 18/18 [00:01<00:00, 15.98it/s]\n",
      "Iteration:   3%|▎         | 2/62 [00:00<00:03, 15.19it/s]]"
     ]
    },
    {
     "name": "stdout",
     "output_type": "stream",
     "text": [
      "Evaluating...\n"
     ]
    },
    {
     "name": "stderr",
     "output_type": "stream",
     "text": [
      "Iteration: 100%|██████████| 62/62 [00:08<00:00,  7.31it/s]\n",
      "Iteration:  68%|██████▊   | 42/62 [00:02<00:01, 15.21it/s]"
     ]
    },
    {
     "name": "stdout",
     "output_type": "stream",
     "text": [
      "Evaluating...\n"
     ]
    },
    {
     "name": "stderr",
     "output_type": "stream",
     "text": [
      "Iteration: 100%|██████████| 62/62 [00:04<00:00, 15.23it/s]\n",
      "Iteration: 100%|██████████| 18/18 [00:01<00:00, 15.64it/s]\n",
      "Iteration: 100%|██████████| 7/7 [00:00<00:00, 14.27it/s]s]\n",
      "Iteration: 100%|██████████| 62/62 [00:08<00:00,  7.24it/s]\n",
      "Iteration:  71%|███████   | 44/62 [00:02<00:01, 15.12it/s]"
     ]
    },
    {
     "name": "stdout",
     "output_type": "stream",
     "text": [
      "{'Train':  best_epoch_indx:43\n",
      " auc:0.9229398731331864 \n",
      " apur:0.9037500462048321 \n",
      " f1:0.8150325961907197 \n",
      " precision:0.8183801822615839 \n",
      " recall:0.8117122851686823 \n",
      ", 'Validation':  best_epoch_indx:43\n",
      " auc:0.8790366436414547 \n",
      " apur:0.8577301047179673 \n",
      " f1:0.765661252900232 \n",
      " precision:0.7755581668625147 \n",
      " recall:0.7560137457044673 \n",
      ", 'Test':  best_epoch_indx:43\n",
      " auc:0.8832715018219123 \n",
      " apur:0.8572697023696818 \n",
      " f1:0.7679442508710801 \n",
      " precision:0.7786151672162035 \n",
      " recall:0.7575618698441796 \n",
      "}\n",
      "=====Epoch 44\n",
      "Training...\n",
      "Evaluating...\n"
     ]
    },
    {
     "name": "stderr",
     "output_type": "stream",
     "text": [
      "Iteration: 100%|██████████| 62/62 [00:08<00:00,  7.24it/s]\n",
      "Iteration:   3%|▎         | 2/62 [00:00<00:04, 14.98it/s]]"
     ]
    },
    {
     "name": "stdout",
     "output_type": "stream",
     "text": [
      "Evaluating...\n"
     ]
    },
    {
     "name": "stderr",
     "output_type": "stream",
     "text": [
      "Iteration: 100%|██████████| 62/62 [00:04<00:00, 15.23it/s]\n",
      "Iteration: 100%|██████████| 18/18 [00:01<00:00, 15.91it/s]\n",
      "Iteration: 100%|██████████| 7/7 [00:00<00:00, 15.60it/s]s]\n",
      "Iteration:  58%|█████▊    | 36/62 [00:02<00:01, 15.11it/s]"
     ]
    },
    {
     "name": "stdout",
     "output_type": "stream",
     "text": [
      "{'Train':  best_epoch_indx:44\n",
      " auc:0.9284726518555786 \n",
      " apur:0.9100717916721183 \n",
      " f1:0.8239926176561058 \n",
      " precision:0.7972619047619047 \n",
      " recall:0.852577975811585 \n",
      ", 'Validation':  best_epoch_indx:44\n",
      " auc:0.8672550244715194 \n",
      " apur:0.8343164831887276 \n",
      " f1:0.7504187604690117 \n",
      " precision:0.7320261437908496 \n",
      " recall:0.7697594501718213 \n",
      ", 'Test':  best_epoch_indx:44\n",
      " auc:0.8781033679292157 \n",
      " apur:0.8495024306023018 \n",
      " f1:0.7649544140538137 \n",
      " precision:0.7429805615550756 \n",
      " recall:0.7882676443629697 \n",
      "}\n",
      "=====Epoch 45\n",
      "Training...\n"
     ]
    },
    {
     "name": "stderr",
     "output_type": "stream",
     "text": [
      "Iteration: 100%|██████████| 62/62 [00:04<00:00, 15.19it/s]\n",
      "Iteration: 100%|██████████| 7/7 [00:00<00:00, 14.23it/s]s]\n",
      "Iteration:  56%|█████▌    | 10/18 [00:00<00:00, 15.16it/s]"
     ]
    },
    {
     "name": "stdout",
     "output_type": "stream",
     "text": [
      "{'Train':  best_epoch_indx:43\n",
      " auc:0.9304412961587013 \n",
      " apur:0.9135406816794582 \n",
      " f1:0.8188894654903994 \n",
      " precision:0.8348102102896442 \n",
      " recall:0.803564608529599 \n",
      ", 'Validation':  best_epoch_indx:43\n",
      " auc:0.8795486364214886 \n",
      " apur:0.8568423446103128 \n",
      " f1:0.7657075748678802 \n",
      " precision:0.7855421686746988 \n",
      " recall:0.7468499427262314 \n",
      ", 'Test':  best_epoch_indx:43\n",
      " auc:0.8789855475006711 \n",
      " apur:0.8559044921332818 \n",
      " f1:0.771797884841363 \n",
      " precision:0.7920887602508442 \n",
      " recall:0.7525206232813932 \n",
      "}\n",
      "=====Epoch 44\n",
      "Training...\n"
     ]
    },
    {
     "name": "stderr",
     "output_type": "stream",
     "text": [
      "Iteration: 100%|██████████| 62/62 [00:04<00:00, 14.59it/s]\n",
      "Iteration: 100%|██████████| 18/18 [00:01<00:00, 15.71it/s]\n",
      "Iteration: 100%|██████████| 7/7 [00:00<00:00, 15.50it/s]s]\n",
      "Iteration:  13%|█▎        | 8/62 [00:01<00:07,  7.40it/s]]"
     ]
    },
    {
     "name": "stdout",
     "output_type": "stream",
     "text": [
      "{'Train':  best_epoch_indx:44\n",
      " auc:0.9320399261878802 \n",
      " apur:0.913613970983454 \n",
      " f1:0.8258793969849247 \n",
      " precision:0.8151270923744576 \n",
      " recall:0.8369191597708466 \n",
      ", 'Validation':  best_epoch_indx:44\n",
      " auc:0.8791349925370544 \n",
      " apur:0.8474648141749602 \n",
      " f1:0.7675613934894346 \n",
      " precision:0.765375854214123 \n",
      " recall:0.7697594501718213 \n",
      ", 'Test':  best_epoch_indx:44\n",
      " auc:0.8823015801226175 \n",
      " apur:0.8555981870615739 \n",
      " f1:0.7718181818181817 \n",
      " precision:0.7655545536519387 \n",
      " recall:0.7781851512373968 \n",
      "}\n",
      "=====Epoch 45\n",
      "Training...\n"
     ]
    },
    {
     "name": "stderr",
     "output_type": "stream",
     "text": [
      "Iteration: 100%|██████████| 18/18 [00:01<00:00, 15.91it/s]\n",
      "Iteration: 100%|██████████| 7/7 [00:00<00:00, 15.58it/s]s]\n",
      "Iteration:   0%|          | 0/62 [00:00<?, ?it/s]7.32it/s]"
     ]
    },
    {
     "name": "stdout",
     "output_type": "stream",
     "text": [
      "{'Train':  best_epoch_indx:42\n",
      " auc:0.9219803453497353 \n",
      " apur:0.9037560711972386 \n",
      " f1:0.8148282535074988 \n",
      " precision:0.7760626655915217 \n",
      " recall:0.8576702737110121 \n",
      ", 'Validation':  best_epoch_indx:42\n",
      " auc:0.8712073001878271 \n",
      " apur:0.8464568511849839 \n",
      " f1:0.7590687601515972 \n",
      " precision:0.7197125256673511 \n",
      " recall:0.8029782359679267 \n",
      ", 'Test':  best_epoch_indx:42\n",
      " auc:0.8791024670140181 \n",
      " apur:0.8519619379109153 \n",
      " f1:0.7693970175059434 \n",
      " precision:0.7280163599182005 \n",
      " recall:0.8157653528872594 \n",
      "}\n",
      "=====Epoch 43\n",
      "Training...\n"
     ]
    },
    {
     "name": "stderr",
     "output_type": "stream",
     "text": [
      "Iteration: 100%|██████████| 62/62 [00:08<00:00,  7.23it/s]\n",
      "Iteration:  23%|██▎       | 14/62 [00:01<00:06,  7.24it/s]"
     ]
    },
    {
     "name": "stdout",
     "output_type": "stream",
     "text": [
      "Evaluating...\n"
     ]
    },
    {
     "name": "stderr",
     "output_type": "stream",
     "text": [
      "Iteration: 100%|██████████| 62/62 [00:08<00:00,  7.16it/s]\n",
      "Iteration:  58%|█████▊    | 36/62 [00:04<00:03,  7.30it/s]"
     ]
    },
    {
     "name": "stdout",
     "output_type": "stream",
     "text": [
      "Evaluating...\n"
     ]
    },
    {
     "name": "stderr",
     "output_type": "stream",
     "text": [
      "Iteration: 100%|██████████| 62/62 [00:04<00:00, 15.22it/s]\n",
      "Iteration: 100%|██████████| 62/62 [00:08<00:00,  7.31it/s]\n",
      "Iteration:   3%|▎         | 2/62 [00:00<00:03, 15.35it/s]]"
     ]
    },
    {
     "name": "stdout",
     "output_type": "stream",
     "text": [
      "Evaluating...\n"
     ]
    },
    {
     "name": "stderr",
     "output_type": "stream",
     "text": [
      "Iteration: 100%|██████████| 18/18 [00:01<00:00, 15.97it/s]\n",
      "Iteration: 100%|██████████| 7/7 [00:00<00:00, 15.53it/s]s]\n",
      "Iteration:  71%|███████   | 44/62 [00:02<00:01, 15.29it/s]"
     ]
    },
    {
     "name": "stdout",
     "output_type": "stream",
     "text": [
      "{'Train':  best_epoch_indx:44\n",
      " auc:0.9201474098769857 \n",
      " apur:0.8987362152629755 \n",
      " f1:0.8126103404791929 \n",
      " precision:0.804996876951905 \n",
      " recall:0.8203691915977085 \n",
      ", 'Validation':  best_epoch_indx:44\n",
      " auc:0.8723614534038361 \n",
      " apur:0.8499360456497755 \n",
      " f1:0.7547386559448593 \n",
      " precision:0.7569124423963134 \n",
      " recall:0.7525773195876289 \n",
      ", 'Test':  best_epoch_indx:44\n",
      " auc:0.88038496791934 \n",
      " apur:0.8549503107113894 \n",
      " f1:0.7643810400368154 \n",
      " precision:0.7675600739371534 \n",
      " recall:0.7612282309807517 \n",
      "}\n",
      "=====Epoch 45\n",
      "Training...\n"
     ]
    },
    {
     "name": "stderr",
     "output_type": "stream",
     "text": [
      "\r",
      "Iteration:   2%|▏         | 1/62 [00:00<00:08,  7.15it/s]\r",
      "Iteration:  92%|█████████▏| 57/62 [00:07<00:00,  7.29it/s]\r",
      "Iteration:  32%|███▏      | 20/62 [00:01<00:02, 15.32it/s]\r",
      "Iteration: 100%|██████████| 62/62 [00:08<00:00,  7.47it/s]\r",
      "Iteration: 100%|██████████| 62/62 [00:08<00:00,  7.09it/s]\n",
      "\r",
      "Iteration:   0%|          | 0/62 [00:00<?, ?it/s]\r",
      "Iteration:  74%|███████▍  | 46/62 [00:03<00:01, 15.27it/s]\r",
      "Iteration:   3%|▎         | 2/62 [00:00<00:08,  7.28it/s]\r",
      "Iteration:  35%|███▌      | 22/62 [00:01<00:02, 15.37it/s]\r",
      "Iteration:  94%|█████████▎| 58/62 [00:07<00:00,  7.28it/s]\r",
      "Iteration:   3%|▎         | 2/62 [00:00<00:04, 14.88it/s]"
     ]
    },
    {
     "name": "stdout",
     "output_type": "stream",
     "text": [
      "Evaluating...\n"
     ]
    },
    {
     "name": "stderr",
     "output_type": "stream",
     "text": [
      "Iteration: 100%|██████████| 62/62 [00:08<00:00,  7.26it/s]\n",
      "Iteration:  94%|█████████▎| 58/62 [00:03<00:00, 15.24it/s]"
     ]
    },
    {
     "name": "stdout",
     "output_type": "stream",
     "text": [
      "Evaluating...\n"
     ]
    },
    {
     "name": "stderr",
     "output_type": "stream",
     "text": [
      "Iteration: 100%|██████████| 62/62 [00:04<00:00, 15.27it/s]\n",
      "Iteration: 100%|██████████| 18/18 [00:01<00:00, 15.85it/s]\n",
      "Iteration: 100%|██████████| 62/62 [00:04<00:00, 15.37it/s]\n",
      "Iteration: 100%|██████████| 7/7 [00:00<00:00, 15.42it/s]s]\n",
      "Iteration:  58%|█████▊    | 36/62 [00:02<00:01, 15.04it/s]"
     ]
    },
    {
     "name": "stdout",
     "output_type": "stream",
     "text": [
      "{'Train':  best_epoch_indx:45\n",
      " auc:0.9325443642157809 \n",
      " apur:0.9151034652467563 \n",
      " f1:0.8288987666687536 \n",
      " precision:0.8154717910815472 \n",
      " recall:0.8427753023551878 \n",
      ", 'Validation':  best_epoch_indx:45\n",
      " auc:0.8682115156914698 \n",
      " apur:0.8367692405290332 \n",
      " f1:0.7540983606557377 \n",
      " precision:0.7444196428571429 \n",
      " recall:0.7640320733104238 \n",
      ", 'Test':  best_epoch_indx:45\n",
      " auc:0.8814348804266312 \n",
      " apur:0.8544638283373189 \n",
      " f1:0.7714221116888988 \n",
      " precision:0.7612672913877733 \n",
      " recall:0.7818515123739689 \n",
      "}\n",
      "=====Epoch 46\n",
      "Training...\n"
     ]
    },
    {
     "name": "stderr",
     "output_type": "stream",
     "text": [
      "Iteration: 100%|██████████| 18/18 [00:01<00:00, 15.95it/s]\n",
      "Iteration: 100%|██████████| 62/62 [00:04<00:00, 15.14it/s]\n",
      "Iteration: 100%|██████████| 62/62 [00:04<00:00, 15.28it/s]\n",
      "Iteration: 100%|██████████| 18/18 [00:01<00:00, 15.77it/s]\n",
      "Iteration: 100%|██████████| 7/7 [00:00<00:00, 15.43it/s]s]\n",
      "Iteration: 100%|██████████| 18/18 [00:01<00:00, 15.88it/s]\n"
     ]
    },
    {
     "name": "stdout",
     "output_type": "stream",
     "text": [
      "{'Train':  best_epoch_indx:45\n",
      " auc:0.9316807322143219 \n",
      " apur:0.9141551935182877 \n",
      " f1:0.823445871796527 \n",
      " precision:0.8352540597171294 \n",
      " recall:0.8119669000636537 \n",
      ", 'Validation':  best_epoch_indx:45\n",
      " auc:0.8778632063282694 \n",
      " apur:0.8458079398020443 \n",
      " f1:0.7642563198118755 \n",
      " precision:0.785024154589372 \n",
      " recall:0.7445589919816724 \n",
      ", 'Test':  best_epoch_indx:45\n",
      " auc:0.8816425396682308 \n",
      " apur:0.8551049424042092 \n",
      " f1:0.7685142058686538 \n",
      " precision:0.78125 \n",
      " recall:0.7561869844179652 \n",
      "}\n",
      "=====Epoch 46\n",
      "Training...\n"
     ]
    },
    {
     "name": "stderr",
     "output_type": "stream",
     "text": [
      "Iteration: 100%|██████████| 7/7 [00:00<00:00, 15.45it/s]s]\n",
      "Iteration:  79%|███████▉  | 49/62 [00:06<00:01,  7.18it/s]"
     ]
    },
    {
     "name": "stdout",
     "output_type": "stream",
     "text": [
      "{'Train':  best_epoch_indx:43\n",
      " auc:0.9206901159283769 \n",
      " apur:0.9016472452868393 \n",
      " f1:0.8144010685447151 \n",
      " precision:0.778435468895079 \n",
      " recall:0.8538510502864417 \n",
      ", 'Validation':  best_epoch_indx:43\n",
      " auc:0.8710144592160629 \n",
      " apur:0.8476611248283445 \n",
      " f1:0.7619047619047619 \n",
      " precision:0.7295597484276729 \n",
      " recall:0.7972508591065293 \n",
      ", 'Test':  best_epoch_indx:43\n",
      " auc:0.8735898047005121 \n",
      " apur:0.841458681151351 \n",
      " f1:0.7650510758530754 \n",
      " precision:0.7275733774286895 \n",
      " recall:0.8065994500458296 \n",
      "}\n",
      "=====Epoch 44\n",
      "Training...\n"
     ]
    },
    {
     "name": "stderr",
     "output_type": "stream",
     "text": [
      "Iteration: 100%|██████████| 62/62 [00:08<00:00,  7.10it/s]\n",
      "Iteration:  24%|██▍       | 15/62 [00:02<00:06,  7.20it/s]"
     ]
    },
    {
     "name": "stdout",
     "output_type": "stream",
     "text": [
      "Evaluating...\n"
     ]
    },
    {
     "name": "stderr",
     "output_type": "stream",
     "text": [
      "Iteration: 100%|██████████| 7/7 [00:00<00:00, 14.95it/s]s]\n",
      "Iteration:   0%|          | 0/62 [00:00<?, ?it/s]7.16it/s]"
     ]
    },
    {
     "name": "stdout",
     "output_type": "stream",
     "text": [
      "{'Train':  best_epoch_indx:44\n",
      " auc:0.9322792684008182 \n",
      " apur:0.9152479691225606 \n",
      " f1:0.824732109865747 \n",
      " precision:0.7987593940116903 \n",
      " recall:0.8524506683640993 \n",
      ", 'Validation':  best_epoch_indx:44\n",
      " auc:0.8750091599461589 \n",
      " apur:0.8504098131449158 \n",
      " f1:0.7608328643781656 \n",
      " precision:0.7477876106194691 \n",
      " recall:0.7743413516609393 \n",
      ", 'Test':  best_epoch_indx:44\n",
      " auc:0.8808449604508267 \n",
      " apur:0.856463142786972 \n",
      " f1:0.7744092732946947 \n",
      " precision:0.75390625 \n",
      " recall:0.7960586617781852 \n",
      "}\n",
      "=====Epoch 45\n",
      "Training...\n"
     ]
    },
    {
     "name": "stderr",
     "output_type": "stream",
     "text": [
      "Iteration: 100%|██████████| 62/62 [00:08<00:00,  7.26it/s]\n",
      "Iteration:  29%|██▉       | 18/62 [00:02<00:06,  7.25it/s]"
     ]
    },
    {
     "name": "stdout",
     "output_type": "stream",
     "text": [
      "Evaluating...\n"
     ]
    },
    {
     "name": "stderr",
     "output_type": "stream",
     "text": [
      "Iteration: 100%|██████████| 62/62 [00:04<00:00, 15.22it/s]\n",
      "Iteration: 100%|██████████| 18/18 [00:01<00:00, 16.03it/s]\n",
      "Iteration: 100%|██████████| 7/7 [00:00<00:00, 15.54it/s]s]\n",
      "Iteration: 100%|██████████| 62/62 [00:08<00:00,  7.24it/s]\n",
      "Iteration:  77%|███████▋  | 48/62 [00:03<00:00, 15.24it/s]"
     ]
    },
    {
     "name": "stdout",
     "output_type": "stream",
     "text": [
      "{'Train':  best_epoch_indx:45\n",
      " auc:0.9229794765865644 \n",
      " apur:0.9044146838045697 \n",
      " f1:0.8174569359060199 \n",
      " precision:0.7831817121530208 \n",
      " recall:0.8548695098663271 \n",
      ", 'Validation':  best_epoch_indx:45\n",
      " auc:0.8758075215692626 \n",
      " apur:0.8562113721807628 \n",
      " f1:0.7667031763417307 \n",
      " precision:0.7345225603357818 \n",
      " recall:0.8018327605956472 \n",
      ", 'Test':  best_epoch_indx:45\n",
      " auc:0.879423536025641 \n",
      " apur:0.856803441381514 \n",
      " f1:0.7659951295107372 \n",
      " precision:0.7408993576017131 \n",
      " recall:0.7928505957836847 \n",
      "}\n",
      "=====Epoch 46\n",
      "Training...\n",
      "Evaluating...\n"
     ]
    },
    {
     "name": "stderr",
     "output_type": "stream",
     "text": [
      "Iteration: 100%|██████████| 62/62 [00:08<00:00,  7.26it/s]\n",
      "Iteration:  10%|▉         | 6/62 [00:00<00:07,  7.26it/s]]"
     ]
    },
    {
     "name": "stdout",
     "output_type": "stream",
     "text": [
      "Evaluating...\n"
     ]
    },
    {
     "name": "stderr",
     "output_type": "stream",
     "text": [
      "Iteration: 100%|██████████| 62/62 [00:04<00:00, 15.32it/s]\n",
      "Iteration: 100%|██████████| 18/18 [00:01<00:00, 15.79it/s]\n",
      "Iteration: 100%|██████████| 7/7 [00:00<00:00, 15.51it/s]s]\n",
      "Iteration:  35%|███▌      | 22/62 [00:03<00:05,  7.23it/s]"
     ]
    },
    {
     "name": "stdout",
     "output_type": "stream",
     "text": [
      "{'Train':  best_epoch_indx:46\n",
      " auc:0.9339924521892885 \n",
      " apur:0.9162252119875157 \n",
      " f1:0.8282330307220586 \n",
      " precision:0.784688995215311 \n",
      " recall:0.8768936982813494 \n",
      ", 'Validation':  best_epoch_indx:46\n",
      " auc:0.8667989555732969 \n",
      " apur:0.834752001801224 \n",
      " f1:0.7506849315068493 \n",
      " precision:0.7195378151260504 \n",
      " recall:0.7846506300114547 \n",
      ", 'Test':  best_epoch_indx:46\n",
      " auc:0.8809643949423968 \n",
      " apur:0.8529862161196133 \n",
      " f1:0.7722772277227723 \n",
      " precision:0.7280844155844156 \n",
      " recall:0.8221814848762603 \n",
      "}\n",
      "=====Epoch 47\n",
      "Training...\n"
     ]
    },
    {
     "name": "stderr",
     "output_type": "stream",
     "text": [
      "Iteration: 100%|██████████| 62/62 [00:08<00:00,  7.13it/s]\n",
      "Iteration:  40%|████      | 25/62 [00:03<00:05,  7.20it/s]"
     ]
    },
    {
     "name": "stdout",
     "output_type": "stream",
     "text": [
      "Evaluating...\n"
     ]
    },
    {
     "name": "stderr",
     "output_type": "stream",
     "text": [
      "Iteration: 100%|██████████| 62/62 [00:04<00:00, 15.21it/s]\n",
      "Iteration: 100%|██████████| 62/62 [00:04<00:00, 15.31it/s]\n",
      "Iteration: 100%|██████████| 18/18 [00:01<00:00, 15.88it/s]\n",
      "Iteration: 100%|██████████| 18/18 [00:01<00:00, 15.97it/s]\n",
      "Iteration: 100%|██████████| 7/7 [00:00<00:00, 15.57it/s]s]\n",
      "Iteration:  84%|████████▍ | 52/62 [00:03<00:00, 15.17it/s]"
     ]
    },
    {
     "name": "stdout",
     "output_type": "stream",
     "text": [
      "{'Train':  best_epoch_indx:44\n",
      " auc:0.9210283083412578 \n",
      " apur:0.9033019615085518 \n",
      " f1:0.8146853146853147 \n",
      " precision:0.7737318218252605 \n",
      " recall:0.8602164226607256 \n",
      ", 'Validation':  best_epoch_indx:44\n",
      " auc:0.8702402027144294 \n",
      " apur:0.8442940282520418 \n",
      " f1:0.7583603020496225 \n",
      " precision:0.7166156982670744 \n",
      " recall:0.8052691867124857 \n",
      ", 'Test':  best_epoch_indx:44\n",
      " auc:0.8780116813550594 \n",
      " apur:0.8501540080184284 \n",
      " f1:0.7696278769627878 \n",
      " precision:0.7251722740170248 \n",
      " recall:0.8198900091659028 \n",
      "}\n",
      "=====Epoch 45\n",
      "Training...\n"
     ]
    },
    {
     "name": "stderr",
     "output_type": "stream",
     "text": [
      "Iteration: 100%|██████████| 62/62 [00:04<00:00, 15.26it/s]\n",
      "Iteration: 100%|██████████| 62/62 [00:08<00:00,  7.23it/s]\n",
      "Iteration: 100%|██████████| 18/18 [00:01<00:00, 15.75it/s]\n",
      "Iteration:  68%|██████▊   | 42/62 [00:05<00:02,  7.20it/s]"
     ]
    },
    {
     "name": "stdout",
     "output_type": "stream",
     "text": [
      "Evaluating...\n"
     ]
    },
    {
     "name": "stderr",
     "output_type": "stream",
     "text": [
      "Iteration: 100%|██████████| 7/7 [00:00<00:00, 15.44it/s]s]\n",
      "Iteration:   2%|▏         | 1/62 [00:00<00:08,  7.29it/s]]"
     ]
    },
    {
     "name": "stdout",
     "output_type": "stream",
     "text": [
      "{'Train':  best_epoch_indx:45\n",
      " auc:0.9317180568207594 \n",
      " apur:0.914380655054966 \n",
      " f1:0.8217454641769302 \n",
      " precision:0.8562163653925763 \n",
      " recall:0.7899427116486314 \n",
      ", 'Validation':  best_epoch_indx:45\n",
      " auc:0.8771988691805417 \n",
      " apur:0.8572340541460968 \n",
      " f1:0.7520958083832335 \n",
      " precision:0.7879548306148055 \n",
      " recall:0.7193585337915235 \n",
      ", 'Test':  best_epoch_indx:45\n",
      " auc:0.8797036975313787 \n",
      " apur:0.8521951606480216 \n",
      " f1:0.7632019115890084 \n",
      " precision:0.7973040439340988 \n",
      " recall:0.731897341888176 \n",
      "}\n",
      "=====Epoch 46\n",
      "Training...\n"
     ]
    },
    {
     "name": "stderr",
     "output_type": "stream",
     "text": [
      "Iteration: 100%|██████████| 7/7 [00:00<00:00, 14.57it/s]s]\n",
      "Iteration:  52%|█████▏    | 32/62 [00:02<00:02, 14.97it/s]"
     ]
    },
    {
     "name": "stdout",
     "output_type": "stream",
     "text": [
      "{'Train':  best_epoch_indx:46\n",
      " auc:0.9372067626573555 \n",
      " apur:0.9197509180598662 \n",
      " f1:0.8351986225556511 \n",
      " precision:0.8077792315927204 \n",
      " recall:0.8645448758752386 \n",
      ", 'Validation':  best_epoch_indx:46\n",
      " auc:0.8758788727288155 \n",
      " apur:0.8403548002207735 \n",
      " f1:0.7722439843312815 \n",
      " precision:0.7549234135667396 \n",
      " recall:0.7903780068728522 \n",
      ", 'Test':  best_epoch_indx:46\n",
      " auc:0.8850194756140367 \n",
      " apur:0.85811665956675 \n",
      " f1:0.7753185781354796 \n",
      " precision:0.7568747271933653 \n",
      " recall:0.7946837763519706 \n",
      "}\n",
      "=====Epoch 47\n",
      "Training...\n"
     ]
    },
    {
     "name": "stderr",
     "output_type": "stream",
     "text": [
      "Iteration: 100%|██████████| 62/62 [00:08<00:00,  7.27it/s]\n",
      "Iteration:  27%|██▋       | 17/62 [00:02<00:06,  7.25it/s]"
     ]
    },
    {
     "name": "stdout",
     "output_type": "stream",
     "text": [
      "Evaluating...\n"
     ]
    },
    {
     "name": "stderr",
     "output_type": "stream",
     "text": [
      "Iteration: 100%|██████████| 62/62 [00:04<00:00, 15.12it/s]\n",
      "Iteration: 100%|██████████| 18/18 [00:01<00:00, 15.92it/s]\n",
      "Iteration: 100%|██████████| 7/7 [00:00<00:00, 15.50it/s]s]\n",
      "Iteration:  94%|█████████▎| 58/62 [00:08<00:00,  7.00it/s]"
     ]
    },
    {
     "name": "stdout",
     "output_type": "stream",
     "text": [
      "{'Train':  best_epoch_indx:46\n",
      " auc:0.9287199587471471 \n",
      " apur:0.9104904655600267 \n",
      " f1:0.8221925982352567 \n",
      " precision:0.8199544188402127 \n",
      " recall:0.8244430299172502 \n",
      ", 'Validation':  best_epoch_indx:46\n",
      " auc:0.8772142964582827 \n",
      " apur:0.8562800593503902 \n",
      " f1:0.7642651296829971 \n",
      " precision:0.7691415313225058 \n",
      " recall:0.7594501718213058 \n",
      ", 'Test':  best_epoch_indx:46\n",
      " auc:0.8819159114084156 \n",
      " apur:0.8575441969586353 \n",
      " f1:0.7620147874306838 \n",
      " precision:0.7684063373718546 \n",
      " recall:0.7557286892758937 \n",
      "}\n",
      "=====Epoch 47\n",
      "Training...\n"
     ]
    },
    {
     "name": "stderr",
     "output_type": "stream",
     "text": [
      "Iteration: 100%|██████████| 62/62 [00:08<00:00,  7.12it/s]\n",
      "Iteration:  56%|█████▋    | 35/62 [00:04<00:03,  7.30it/s]"
     ]
    },
    {
     "name": "stdout",
     "output_type": "stream",
     "text": [
      "Evaluating...\n"
     ]
    },
    {
     "name": "stderr",
     "output_type": "stream",
     "text": [
      "Iteration: 100%|██████████| 62/62 [00:04<00:00, 15.29it/s]\n",
      "Iteration: 100%|██████████| 18/18 [00:01<00:00, 15.85it/s]\n",
      "Iteration: 100%|██████████| 62/62 [00:08<00:00,  7.29it/s]\n",
      "Iteration:  61%|██████▏   | 38/62 [00:02<00:01, 15.21it/s]"
     ]
    },
    {
     "name": "stdout",
     "output_type": "stream",
     "text": [
      "Evaluating...\n"
     ]
    },
    {
     "name": "stderr",
     "output_type": "stream",
     "text": [
      "Iteration: 100%|██████████| 62/62 [00:08<00:00,  7.22it/s]\n",
      "Iteration:  53%|█████▎    | 33/62 [00:04<00:03,  7.27it/s]"
     ]
    },
    {
     "name": "stdout",
     "output_type": "stream",
     "text": [
      "Evaluating...\n"
     ]
    },
    {
     "name": "stderr",
     "output_type": "stream",
     "text": [
      "Iteration: 100%|██████████| 62/62 [00:04<00:00, 15.18it/s]\n",
      "Iteration: 100%|██████████| 18/18 [00:01<00:00, 15.90it/s]\n",
      "Iteration: 100%|██████████| 7/7 [00:00<00:00, 15.45it/s]s]\n",
      "Iteration:   2%|▏         | 1/62 [00:00<00:08,  7.14it/s]]"
     ]
    },
    {
     "name": "stdout",
     "output_type": "stream",
     "text": [
      "{'Train':  best_epoch_indx:45\n",
      " auc:0.9233229506507983 \n",
      " apur:0.905241307033585 \n",
      " f1:0.8115168050153828 \n",
      " precision:0.7458386683738797 \n",
      " recall:0.8898790579248886 \n",
      ", 'Validation':  best_epoch_indx:45\n",
      " auc:0.8703453010440411 \n",
      " apur:0.8435254773046655 \n",
      " f1:0.7581903276131046 \n",
      " precision:0.6942857142857143 \n",
      " recall:0.8350515463917526 \n",
      ", 'Test':  best_epoch_indx:45\n",
      " auc:0.8790880343445051 \n",
      " apur:0.849653178399648 \n",
      " f1:0.7661256762380358 \n",
      " precision:0.7016006097560976 \n",
      " recall:0.8437213565536206 \n",
      "}\n",
      "=====Epoch 46\n",
      "Training...\n"
     ]
    },
    {
     "name": "stderr",
     "output_type": "stream",
     "text": [
      "Iteration: 100%|██████████| 62/62 [00:04<00:00, 15.28it/s]\n",
      "Iteration: 100%|██████████| 7/7 [00:00<00:00, 14.91it/s]]]\n",
      "Iteration:  10%|▉         | 6/62 [00:00<00:07,  7.22it/s]]"
     ]
    },
    {
     "name": "stdout",
     "output_type": "stream",
     "text": [
      "{'Train':  best_epoch_indx:47\n",
      " auc:0.937144314943547 \n",
      " apur:0.9196169506214172 \n",
      " f1:0.8376777974482632 \n",
      " precision:0.8047149894440535 \n",
      " recall:0.8734563971992362 \n",
      ", 'Validation':  best_epoch_indx:47\n",
      " auc:0.8723498829455301 \n",
      " apur:0.8393387985974976 \n",
      " f1:0.7556786703601107 \n",
      " precision:0.7317596566523605 \n",
      " recall:0.7812142038946163 \n",
      ", 'Test':  best_epoch_indx:47\n",
      " auc:0.884805124264336 \n",
      " apur:0.8583845013155236 \n",
      " f1:0.7795344751866491 \n",
      " precision:0.7483136593591906 \n",
      " recall:0.8134738771769019 \n",
      "}\n",
      "=====Epoch 48\n",
      "Training...\n"
     ]
    },
    {
     "name": "stderr",
     "output_type": "stream",
     "text": [
      "Iteration: 100%|██████████| 62/62 [00:08<00:00,  7.23it/s]\n",
      "Iteration: 100%|██████████| 18/18 [00:01<00:00, 15.95it/s]\n",
      "Iteration: 100%|██████████| 62/62 [00:04<00:00, 15.15it/s]\n",
      "Iteration:  15%|█▍        | 9/62 [00:01<00:07,  7.33it/s]"
     ]
    },
    {
     "name": "stdout",
     "output_type": "stream",
     "text": [
      "Evaluating...\n"
     ]
    },
    {
     "name": "stderr",
     "output_type": "stream",
     "text": [
      "Iteration: 100%|██████████| 7/7 [00:00<00:00, 15.52it/s]]]\n"
     ]
    },
    {
     "name": "stdout",
     "output_type": "stream",
     "text": [
      "{'Train':  best_epoch_indx:46\n",
      " auc:0.9353453960385338 \n",
      " apur:0.9189426327872626 \n",
      " f1:0.8295019157088124 \n",
      " precision:0.8321588725176169 \n",
      " recall:0.8268618714194781 \n",
      ", 'Validation':  best_epoch_indx:46\n",
      " auc:0.881918651964471 \n",
      " apur:0.8611037139773319 \n",
      " f1:0.7669172932330827 \n",
      " precision:0.7745327102803738 \n",
      " recall:0.7594501718213058 \n",
      ", 'Test':  best_epoch_indx:46\n",
      " auc:0.8802664592765418 \n",
      " apur:0.855660162750345 \n",
      " f1:0.7772140221402214 \n",
      " precision:0.7822655524605385 \n",
      " recall:0.7722273143904674 \n",
      "}\n",
      "=====Epoch 47\n",
      "Training...\n"
     ]
    },
    {
     "name": "stderr",
     "output_type": "stream",
     "text": [
      "Iteration: 100%|██████████| 18/18 [00:01<00:00, 15.90it/s]\n",
      "Iteration: 100%|██████████| 7/7 [00:00<00:00, 15.55it/s]s]\n",
      "Iteration:  45%|████▌     | 28/62 [00:03<00:04,  7.17it/s]"
     ]
    },
    {
     "name": "stdout",
     "output_type": "stream",
     "text": [
      "{'Train':  best_epoch_indx:47\n",
      " auc:0.9388591335352707 \n",
      " apur:0.9234884640666439 \n",
      " f1:0.8316909221431834 \n",
      " precision:0.8532404927691484 \n",
      " recall:0.8112030553787396 \n",
      ", 'Validation':  best_epoch_indx:47\n",
      " auc:0.8765702076125901 \n",
      " apur:0.8455670284811557 \n",
      " f1:0.7571428571428571 \n",
      " precision:0.7881040892193308 \n",
      " recall:0.7285223367697594 \n",
      ", 'Test':  best_epoch_indx:47\n",
      " auc:0.8837619038651461 \n",
      " apur:0.8580993129126481 \n",
      " f1:0.7680265654648957 \n",
      " precision:0.795968534906588 \n",
      " recall:0.7419798350137489 \n",
      "}\n",
      "=====Epoch 48\n",
      "Training...\n"
     ]
    },
    {
     "name": "stderr",
     "output_type": "stream",
     "text": [
      "Iteration: 100%|██████████| 62/62 [00:04<00:00, 15.26it/s]\n",
      "Iteration: 100%|██████████| 18/18 [00:01<00:00, 16.02it/s]\n",
      "Iteration: 100%|██████████| 7/7 [00:00<00:00, 15.53it/s]s]\n",
      "Iteration:  92%|█████████▏| 57/62 [00:07<00:00,  7.23it/s]"
     ]
    },
    {
     "name": "stdout",
     "output_type": "stream",
     "text": [
      "{'Train':  best_epoch_indx:47\n",
      " auc:0.9292015655600605 \n",
      " apur:0.9102677667083511 \n",
      " f1:0.8267480916030534 \n",
      " precision:0.7944835680751173 \n",
      " recall:0.8617441120305538 \n",
      ", 'Validation':  best_epoch_indx:47\n",
      " auc:0.8797530478515588 \n",
      " apur:0.8578521147725854 \n",
      " f1:0.7649006622516556 \n",
      " precision:0.7380191693290735 \n",
      " recall:0.7938144329896907 \n",
      ", 'Test':  best_epoch_indx:47\n",
      " auc:0.8828312668117445 \n",
      " apur:0.8573146613742906 \n",
      " f1:0.7707964601769912 \n",
      " precision:0.7450812660393499 \n",
      " recall:0.7983501374885427 \n",
      "}\n",
      "=====Epoch 48\n",
      "Training...\n"
     ]
    },
    {
     "name": "stderr",
     "output_type": "stream",
     "text": [
      "Iteration: 100%|██████████| 62/62 [00:08<00:00,  7.23it/s]\n",
      "Iteration:  74%|███████▍  | 46/62 [00:06<00:02,  7.29it/s]"
     ]
    },
    {
     "name": "stdout",
     "output_type": "stream",
     "text": [
      "Evaluating...\n"
     ]
    },
    {
     "name": "stderr",
     "output_type": "stream",
     "text": [
      "Iteration: 100%|██████████| 62/62 [00:08<00:00,  7.31it/s]\n",
      "Iteration:   0%|          | 0/62 [00:00<?, ?it/s]"
     ]
    },
    {
     "name": "stdout",
     "output_type": "stream",
     "text": [
      "Evaluating...\n"
     ]
    },
    {
     "name": "stderr",
     "output_type": "stream",
     "text": [
      "Iteration: 100%|██████████| 62/62 [00:08<00:00,  7.30it/s]\n",
      "Iteration:  39%|███▊      | 24/62 [00:03<00:05,  7.23it/s]"
     ]
    },
    {
     "name": "stdout",
     "output_type": "stream",
     "text": [
      "Evaluating...\n"
     ]
    },
    {
     "name": "stderr",
     "output_type": "stream",
     "text": [
      "Iteration: 100%|██████████| 62/62 [00:08<00:00,  7.14it/s]\n",
      "Iteration:  97%|█████████▋| 60/62 [00:03<00:00, 15.11it/s]"
     ]
    },
    {
     "name": "stdout",
     "output_type": "stream",
     "text": [
      "Evaluating...\n"
     ]
    },
    {
     "name": "stderr",
     "output_type": "stream",
     "text": [
      "Iteration: 100%|██████████| 62/62 [00:04<00:00, 15.13it/s]\n",
      "Iteration: 100%|██████████| 62/62 [00:04<00:00, 14.65it/s]\n",
      "Iteration: 100%|██████████| 18/18 [00:01<00:00, 15.88it/s]\n",
      "Iteration: 100%|██████████| 18/18 [00:01<00:00, 15.90it/s]\n",
      "Iteration: 100%|██████████| 62/62 [00:04<00:00, 15.25it/s]\n",
      "Iteration: 100%|██████████| 7/7 [00:00<00:00, 15.61it/s]s]\n",
      "Iteration:   2%|▏         | 1/62 [00:00<00:08,  6.93it/s]]"
     ]
    },
    {
     "name": "stdout",
     "output_type": "stream",
     "text": [
      "{'Train':  best_epoch_indx:48\n",
      " auc:0.9402289687983608 \n",
      " apur:0.9235333739268063 \n",
      " f1:0.8389286595902247 \n",
      " precision:0.8141094741885255 \n",
      " recall:0.8653087205601527 \n",
      ", 'Validation':  best_epoch_indx:48\n",
      " auc:0.8706663812620286 \n",
      " apur:0.8410049714123138 \n",
      " f1:0.7581989994441357 \n",
      " precision:0.7365010799136069 \n",
      " recall:0.7812142038946163 \n",
      ", 'Test':  best_epoch_indx:48\n",
      " auc:0.8832319528928145 \n",
      " apur:0.8574939423157686 \n",
      " f1:0.7773351040283311 \n",
      " precision:0.7517123287671232 \n",
      " recall:0.8047662694775435 \n",
      "}\n",
      "=====Epoch 49\n",
      "Training...\n"
     ]
    },
    {
     "name": "stderr",
     "output_type": "stream",
     "text": [
      "Iteration: 100%|██████████| 18/18 [00:01<00:00, 15.90it/s]\n",
      "Iteration: 100%|██████████| 62/62 [00:08<00:00,  7.25it/s]\n",
      "Iteration:   0%|          | 0/62 [00:00<?, ?it/s]"
     ]
    },
    {
     "name": "stdout",
     "output_type": "stream",
     "text": [
      "Evaluating...\n"
     ]
    },
    {
     "name": "stderr",
     "output_type": "stream",
     "text": [
      "Iteration: 100%|██████████| 62/62 [00:04<00:00, 14.34it/s]\n",
      "Iteration: 100%|██████████| 18/18 [00:01<00:00, 15.68it/s]\n",
      "Iteration: 100%|██████████| 7/7 [00:00<00:00, 15.08it/s]s]\n",
      "Iteration:  55%|█████▍    | 34/62 [00:02<00:01, 14.87it/s]"
     ]
    },
    {
     "name": "stdout",
     "output_type": "stream",
     "text": [
      "{'Train':  best_epoch_indx:48\n",
      " auc:0.9397578836238438 \n",
      " apur:0.9232806701187256 \n",
      " f1:0.8351053547264644 \n",
      " precision:0.8455114822546973 \n",
      " recall:0.8249522597071929 \n",
      ", 'Validation':  best_epoch_indx:48\n",
      " auc:0.8777012199119874 \n",
      " apur:0.84819421769806 \n",
      " f1:0.7639132981839485 \n",
      " precision:0.7817745803357314 \n",
      " recall:0.7468499427262314 \n",
      ", 'Test':  best_epoch_indx:48\n",
      " auc:0.8836118658462531 \n",
      " apur:0.85745955980602 \n",
      " f1:0.767785865226579 \n",
      " precision:0.7871930669234473 \n",
      " recall:0.7493125572868927 \n",
      "}\n",
      "=====Epoch 49\n",
      "Training...\n"
     ]
    },
    {
     "name": "stderr",
     "output_type": "stream",
     "text": [
      "Iteration: 100%|██████████| 7/7 [00:00<00:00, 14.22it/s]s]\n",
      "Iteration:   2%|▏         | 1/62 [00:00<00:08,  7.11it/s]]"
     ]
    },
    {
     "name": "stdout",
     "output_type": "stream",
     "text": [
      "{'Train':  best_epoch_indx:46\n",
      " auc:0.9289858812587122 \n",
      " apur:0.9128643187503838 \n",
      " f1:0.8229193341869397 \n",
      " precision:0.8276883451384417 \n",
      " recall:0.8182049649904519 \n",
      ", 'Validation':  best_epoch_indx:46\n",
      " auc:0.8750284440433354 \n",
      " apur:0.8512304503250457 \n",
      " f1:0.7655889145496536 \n",
      " precision:0.7718277066356228 \n",
      " recall:0.7594501718213058 \n",
      ", 'Test':  best_epoch_indx:46\n",
      " auc:0.8832385459401905 \n",
      " apur:0.8566426114852759 \n",
      " f1:0.773290500229463 \n",
      " precision:0.7743566176470589 \n",
      " recall:0.7722273143904674 \n",
      "}\n",
      "=====Epoch 47\n",
      "Training...\n"
     ]
    },
    {
     "name": "stderr",
     "output_type": "stream",
     "text": [
      "Iteration: 100%|██████████| 62/62 [00:04<00:00, 14.48it/s]\n",
      "Iteration: 100%|██████████| 7/7 [00:00<00:00, 14.24it/s]s]\n",
      "Iteration:  73%|███████▎  | 45/62 [00:06<00:02,  7.14it/s]"
     ]
    },
    {
     "name": "stdout",
     "output_type": "stream",
     "text": [
      "{'Train':  best_epoch_indx:47\n",
      " auc:0.937115706796025 \n",
      " apur:0.9221944938494455 \n",
      " f1:0.8275450689289502 \n",
      " precision:0.8631273330568229 \n",
      " recall:0.7947803946530873 \n",
      ", 'Validation':  best_epoch_indx:47\n",
      " auc:0.8804260628430158 \n",
      " apur:0.8583731420652807 \n",
      " f1:0.7563025210084033 \n",
      " precision:0.7944514501891551 \n",
      " recall:0.7216494845360825 \n",
      ", 'Test':  best_epoch_indx:47\n",
      " auc:0.8817240538597092 \n",
      " apur:0.8570909998326889 \n",
      " f1:0.7707434052757794 \n",
      " precision:0.8083501006036218 \n",
      " recall:0.736480293308891 \n",
      "}\n",
      "=====Epoch 48\n",
      "Training...\n"
     ]
    },
    {
     "name": "stderr",
     "output_type": "stream",
     "text": [
      "Iteration: 100%|██████████| 18/18 [00:01<00:00, 15.78it/s]\n",
      "Iteration: 100%|██████████| 62/62 [00:08<00:00,  7.24it/s]\n",
      "Iteration:  60%|█████▉    | 37/62 [00:05<00:03,  7.25it/s]"
     ]
    },
    {
     "name": "stdout",
     "output_type": "stream",
     "text": [
      "Evaluating...\n"
     ]
    },
    {
     "name": "stderr",
     "output_type": "stream",
     "text": [
      "Iteration: 100%|██████████| 7/7 [00:00<00:00, 14.93it/s]s]\n",
      "Iteration:  94%|█████████▎| 58/62 [00:08<00:00,  7.21it/s]"
     ]
    },
    {
     "name": "stdout",
     "output_type": "stream",
     "text": [
      "{'Train':  best_epoch_indx:48\n",
      " auc:0.9353605605338576 \n",
      " apur:0.9180609098785953 \n",
      " f1:0.8286708779167203 \n",
      " precision:0.839274056665361 \n",
      " recall:0.8183322724379376 \n",
      ", 'Validation':  best_epoch_indx:48\n",
      " auc:0.8804916287734157 \n",
      " apur:0.8601751951204322 \n",
      " f1:0.7628016480282519 \n",
      " precision:0.784503631961259 \n",
      " recall:0.7422680412371134 \n",
      ", 'Test':  best_epoch_indx:48\n",
      " auc:0.8869832448283963 \n",
      " apur:0.8641187991890337 \n",
      " f1:0.7727058823529412 \n",
      " precision:0.7940038684719536 \n",
      " recall:0.7525206232813932 \n",
      "}\n",
      "=====Epoch 49\n",
      "Training...\n"
     ]
    },
    {
     "name": "stderr",
     "output_type": "stream",
     "text": [
      "\r",
      "Iteration:   2%|▏         | 1/62 [00:00<00:08,  7.29it/s]\r",
      "Iteration:  98%|█████████▊| 61/62 [00:08<00:00,  7.16it/s]\r",
      "Iteration:  84%|████████▍ | 52/62 [00:03<00:00, 15.32it/s]\r",
      "Iteration:  68%|██████▊   | 42/62 [00:05<00:02,  7.19it/s]\r",
      "Iteration:  95%|█████████▌| 59/62 [00:08<00:00,  7.16it/s]\r",
      "Iteration:   3%|▎         | 2/62 [00:00<00:08,  7.31it/s]\r",
      "Iteration: 100%|██████████| 62/62 [00:08<00:00,  7.45it/s]\r",
      "Iteration: 100%|██████████| 62/62 [00:08<00:00,  7.20it/s]\n",
      "\r",
      "Iteration:   0%|          | 0/62 [00:00<?, ?it/s]"
     ]
    },
    {
     "name": "stdout",
     "output_type": "stream",
     "text": [
      "Evaluating...\n"
     ]
    },
    {
     "name": "stderr",
     "output_type": "stream",
     "text": [
      "Iteration: 100%|██████████| 62/62 [00:08<00:00,  7.25it/s]\n",
      "Iteration:  97%|█████████▋| 60/62 [00:03<00:00, 15.34it/s]"
     ]
    },
    {
     "name": "stdout",
     "output_type": "stream",
     "text": [
      "Evaluating...\n"
     ]
    },
    {
     "name": "stderr",
     "output_type": "stream",
     "text": [
      "Iteration: 100%|██████████| 62/62 [00:04<00:00, 15.32it/s]\n",
      "Iteration: 100%|██████████| 18/18 [00:01<00:00, 15.94it/s]\n",
      "Iteration: 100%|██████████| 7/7 [00:00<00:00, 15.47it/s]s]\n",
      "Iteration:  55%|█████▍    | 34/62 [00:02<00:01, 15.21it/s]"
     ]
    },
    {
     "name": "stdout",
     "output_type": "stream",
     "text": [
      "{'Train':  best_epoch_indx:49\n",
      " auc:0.9423651113040951 \n",
      " apur:0.9260655046801981 \n",
      " f1:0.843673067454456 \n",
      " precision:0.8166329083760276 \n",
      " recall:0.8725652450668364 \n",
      ", 'Validation':  best_epoch_indx:49\n",
      " auc:0.8728782672081641 \n",
      " apur:0.8400134457223314 \n",
      " f1:0.7597765363128491 \n",
      " precision:0.7415485278080698 \n",
      " recall:0.7789232531500573 \n",
      ", 'Test':  best_epoch_indx:49\n",
      " auc:0.8847833668181972 \n",
      " apur:0.8575536238035252 \n",
      " f1:0.776066871975363 \n",
      " precision:0.7461928934010152 \n",
      " recall:0.8084326306141155 \n",
      "}\n",
      "=====Epoch 50\n",
      "Training...\n"
     ]
    },
    {
     "name": "stderr",
     "output_type": "stream",
     "text": [
      "\r",
      "Iteration:   2%|▏         | 1/62 [00:00<00:08,  7.18it/s]\r",
      "Iteration:  34%|███▍      | 21/62 [00:02<00:05,  7.22it/s]\r",
      "Iteration:  65%|██████▍   | 40/62 [00:02<00:01, 15.13it/s]\r",
      "Iteration: 100%|██████████| 62/62 [00:08<00:00,  7.68it/s]\r",
      "Iteration: 100%|██████████| 62/62 [00:08<00:00,  7.27it/s]\n",
      "\r",
      "Iteration:   0%|          | 0/62 [00:00<?, ?it/s]\r",
      "Iteration:  58%|█████▊    | 36/62 [00:02<00:01, 15.23it/s]\r",
      "Iteration:   3%|▎         | 2/62 [00:00<00:08,  7.37it/s]\r",
      "Iteration:  35%|███▌      | 22/62 [00:03<00:05,  7.21it/s]\r",
      "Iteration:  68%|██████▊   | 42/62 [00:02<00:01, 15.14it/s]\r",
      "Iteration:   3%|▎         | 2/62 [00:00<00:03, 15.11it/s]"
     ]
    },
    {
     "name": "stdout",
     "output_type": "stream",
     "text": [
      "Evaluating...\n"
     ]
    },
    {
     "name": "stderr",
     "output_type": "stream",
     "text": [
      "Iteration: 100%|██████████| 62/62 [00:04<00:00, 15.19it/s]\n",
      "Iteration: 100%|██████████| 62/62 [00:04<00:00, 15.23it/s]\n",
      "Iteration: 100%|██████████| 18/18 [00:01<00:00, 15.79it/s]\n",
      "Iteration: 100%|██████████| 18/18 [00:01<00:00, 15.94it/s]\n",
      "Iteration: 100%|██████████| 7/7 [00:00<00:00, 15.59it/s]s]\n",
      "Iteration:  87%|████████▋ | 54/62 [00:03<00:00, 15.33it/s]"
     ]
    },
    {
     "name": "stdout",
     "output_type": "stream",
     "text": [
      "{'Train':  best_epoch_indx:47\n",
      " auc:0.9313997269261205 \n",
      " apur:0.9147411135792074 \n",
      " f1:0.8279354758034263 \n",
      " precision:0.8134906008109104 \n",
      " recall:0.8429026098026735 \n",
      ", 'Validation':  best_epoch_indx:47\n",
      " auc:0.8758345193053096 \n",
      " apur:0.8519393493278641 \n",
      " f1:0.766798418972332 \n",
      " precision:0.7561247216035635 \n",
      " recall:0.7777777777777778 \n",
      ", 'Test':  best_epoch_indx:47\n",
      " auc:0.8819977222623387 \n",
      " apur:0.8557885321260013 \n",
      " f1:0.7731543624161074 \n",
      " precision:0.7552447552447552 \n",
      " recall:0.7919340054995417 \n",
      "}\n",
      "=====Epoch 48\n",
      "Training...\n"
     ]
    },
    {
     "name": "stderr",
     "output_type": "stream",
     "text": [
      "Iteration: 100%|██████████| 62/62 [00:04<00:00, 14.68it/s]\n",
      "Iteration: 100%|██████████| 18/18 [00:01<00:00, 15.86it/s]\n",
      "Iteration: 100%|██████████| 62/62 [00:08<00:00,  7.23it/s]\n",
      "Iteration:   3%|▎         | 2/62 [00:00<00:04, 14.92it/s]]"
     ]
    },
    {
     "name": "stdout",
     "output_type": "stream",
     "text": [
      "Evaluating...\n"
     ]
    },
    {
     "name": "stderr",
     "output_type": "stream",
     "text": [
      "Iteration: 100%|██████████| 7/7 [00:00<00:00, 14.08it/s]s]\n",
      "Iteration:  50%|█████     | 31/62 [00:04<00:04,  7.12it/s]"
     ]
    },
    {
     "name": "stdout",
     "output_type": "stream",
     "text": [
      "{'Train':  best_epoch_indx:49\n",
      " auc:0.9435767676412812 \n",
      " apur:0.9281598611852001 \n",
      " f1:0.8439894485617385 \n",
      " precision:0.832899466964175 \n",
      " recall:0.8553787396562699 \n",
      ", 'Validation':  best_epoch_indx:49\n",
      " auc:0.8796749472579941 \n",
      " apur:0.8476919151196959 \n",
      " f1:0.7740466704610132 \n",
      " precision:0.7692307692307693 \n",
      " recall:0.7789232531500573 \n",
      ", 'Test':  best_epoch_indx:49\n",
      " auc:0.8859218647688194 \n",
      " apur:0.8598578927320728 \n",
      " f1:0.7733272644515249 \n",
      " precision:0.7680831826401446 \n",
      " recall:0.7786434463794684 \n",
      "}\n",
      "=====Epoch 50\n",
      "Training...\n"
     ]
    },
    {
     "name": "stderr",
     "output_type": "stream",
     "text": [
      "Iteration: 100%|██████████| 62/62 [00:08<00:00,  7.29it/s]\n",
      "Iteration:  56%|█████▋    | 35/62 [00:04<00:03,  7.17it/s]"
     ]
    },
    {
     "name": "stdout",
     "output_type": "stream",
     "text": [
      "Evaluating...\n"
     ]
    },
    {
     "name": "stderr",
     "output_type": "stream",
     "text": [
      "Iteration: 100%|██████████| 62/62 [00:04<00:00, 15.05it/s]\n",
      "Iteration: 100%|██████████| 7/7 [00:00<00:00, 15.41it/s]s]\n",
      "Iteration:  67%|██████▋   | 12/18 [00:00<00:00, 15.38it/s]"
     ]
    },
    {
     "name": "stdout",
     "output_type": "stream",
     "text": [
      "{'Train':  best_epoch_indx:48\n",
      " auc:0.9387100452888888 \n",
      " apur:0.9235124414433984 \n",
      " f1:0.834696374525082 \n",
      " precision:0.8445400052124056 \n",
      " recall:0.8250795671546786 \n",
      ", 'Validation':  best_epoch_indx:48\n",
      " auc:0.8801734411700047 \n",
      " apur:0.8574740434783752 \n",
      " f1:0.7610099823840281 \n",
      " precision:0.7807228915662651 \n",
      " recall:0.7422680412371134 \n",
      ", 'Test':  best_epoch_indx:48\n",
      " auc:0.8827281368527933 \n",
      " apur:0.8594575013240809 \n",
      " f1:0.7743745616086042 \n",
      " precision:0.790453460620525 \n",
      " recall:0.7589367552703942 \n",
      "}\n",
      "=====Epoch 49\n",
      "Training...\n"
     ]
    },
    {
     "name": "stderr",
     "output_type": "stream",
     "text": [
      "Iteration: 100%|██████████| 18/18 [00:01<00:00, 15.87it/s]\n",
      "Iteration: 100%|██████████| 7/7 [00:00<00:00, 15.42it/s]]]\n",
      "Iteration:  94%|█████████▎| 58/62 [00:08<00:00,  7.20it/s]"
     ]
    },
    {
     "name": "stdout",
     "output_type": "stream",
     "text": [
      "{'Train':  best_epoch_indx:49\n",
      " auc:0.936391101816781 \n",
      " apur:0.919932163372288 \n",
      " f1:0.8308912918292918 \n",
      " precision:0.8352199639825058 \n",
      " recall:0.8266072565245067 \n",
      ", 'Validation':  best_epoch_indx:49\n",
      " auc:0.8789932544228076 \n",
      " apur:0.8600468661923379 \n",
      " f1:0.7581395348837209 \n",
      " precision:0.7697756788665879 \n",
      " recall:0.7468499427262314 \n",
      ", 'Test':  best_epoch_indx:49\n",
      " auc:0.8862600677517358 \n",
      " apur:0.8636004645897242 \n",
      " f1:0.7710280373831776 \n",
      " precision:0.786463298379409 \n",
      " recall:0.7561869844179652 \n",
      "}\n",
      "=====Epoch 50\n",
      "Training...\n"
     ]
    },
    {
     "name": "stderr",
     "output_type": "stream",
     "text": [
      "Iteration: 100%|██████████| 62/62 [00:08<00:00,  7.24it/s]\n",
      "Iteration:   0%|          | 0/62 [00:00<?, ?it/s]"
     ]
    },
    {
     "name": "stdout",
     "output_type": "stream",
     "text": [
      "Evaluating...\n"
     ]
    },
    {
     "name": "stderr",
     "output_type": "stream",
     "text": [
      "Iteration: 100%|██████████| 62/62 [00:04<00:00, 14.70it/s]\n",
      "Iteration: 100%|██████████| 18/18 [00:01<00:00, 15.92it/s]\n",
      "Iteration: 100%|██████████| 62/62 [00:04<00:00, 14.57it/s]\n",
      "Iteration: 100%|██████████| 62/62 [00:08<00:00,  7.22it/s]\n",
      "Iteration:   0%|          | 0/62 [00:00<?, ?it/s]"
     ]
    },
    {
     "name": "stdout",
     "output_type": "stream",
     "text": [
      "Evaluating...\n"
     ]
    },
    {
     "name": "stderr",
     "output_type": "stream",
     "text": [
      "Iteration: 100%|██████████| 18/18 [00:01<00:00, 15.91it/s]\n",
      "Iteration: 100%|██████████| 7/7 [00:00<00:00, 15.57it/s]s]\n",
      "Iteration:  90%|█████████ | 56/62 [00:07<00:00,  7.24it/s]"
     ]
    },
    {
     "name": "stdout",
     "output_type": "stream",
     "text": [
      "{'Train':  best_epoch_indx:48\n",
      " auc:0.9344987879592641 \n",
      " apur:0.9185731421735647 \n",
      " f1:0.8313817330210772 \n",
      " precision:0.8057579739577111 \n",
      " recall:0.8586887332908976 \n",
      ", 'Validation':  best_epoch_indx:48\n",
      " auc:0.8786702457951026 \n",
      " apur:0.8558440539975485 \n",
      " f1:0.7737632017787659 \n",
      " precision:0.7516198704103672 \n",
      " recall:0.7972508591065293 \n",
      ", 'Test':  best_epoch_indx:48\n",
      " auc:0.8825078823985953 \n",
      " apur:0.8562446839877895 \n",
      " f1:0.7742078440062042 \n",
      " precision:0.7494637494637495 \n",
      " recall:0.8006416131989 \n",
      "}\n",
      "=====Epoch 49\n",
      "Training...\n"
     ]
    },
    {
     "name": "stderr",
     "output_type": "stream",
     "text": [
      "Iteration: 100%|██████████| 7/7 [00:00<00:00, 14.58it/s]]]\n",
      "Iteration:   2%|▏         | 1/62 [00:00<00:08,  7.25it/s]]"
     ]
    },
    {
     "name": "stdout",
     "output_type": "stream",
     "text": [
      "{'Train':  best_epoch_indx:50\n",
      " auc:0.9416686839460116 \n",
      " apur:0.9254996145505295 \n",
      " f1:0.841546718711881 \n",
      " precision:0.8077508488467393 \n",
      " recall:0.8782940802036919 \n",
      ", 'Validation':  best_epoch_indx:50\n",
      " auc:0.8722148942652953 \n",
      " apur:0.8424496807602486 \n",
      " f1:0.7573244886677722 \n",
      " precision:0.7318376068376068 \n",
      " recall:0.7846506300114547 \n",
      ", 'Test':  best_epoch_indx:50\n",
      " auc:0.8852873371663473 \n",
      " apur:0.8583429548084792 \n",
      " f1:0.7780219780219779 \n",
      " precision:0.7474662162162162 \n",
      " recall:0.8111824014665444 \n",
      "}\n",
      "=====Epoch 51\n",
      "Training...\n"
     ]
    },
    {
     "name": "stderr",
     "output_type": "stream",
     "text": [
      "\r",
      "Iteration:  65%|██████▍   | 40/62 [00:02<00:01, 14.62it/s]\r",
      "Iteration:  87%|████████▋ | 54/62 [00:07<00:01,  7.09it/s]\r",
      "Iteration:  10%|▉         | 6/62 [00:00<00:07,  7.17it/s]\r",
      "Iteration: 100%|██████████| 62/62 [00:08<00:00,  7.54it/s]\r",
      "Iteration: 100%|██████████| 62/62 [00:08<00:00,  7.26it/s]\n",
      "\r",
      "Iteration:   0%|          | 0/62 [00:00<?, ?it/s]\r",
      "Iteration:   3%|▎         | 2/62 [00:00<00:08,  7.26it/s]\r",
      "Iteration:  68%|██████▊   | 42/62 [00:02<00:01, 14.77it/s]\r",
      "Iteration:  89%|████████▊ | 55/62 [00:07<00:00,  7.13it/s]\r",
      "Iteration:  11%|█▏        | 7/62 [00:00<00:07,  7.16it/s]\r",
      "Iteration:   3%|▎         | 2/62 [00:00<00:04, 14.99it/s]\r",
      "Iteration:   5%|▍         | 3/62 [00:00<00:08,  7.15it/s]"
     ]
    },
    {
     "name": "stdout",
     "output_type": "stream",
     "text": [
      "Evaluating...\n"
     ]
    },
    {
     "name": "stderr",
     "output_type": "stream",
     "text": [
      "Iteration: 100%|██████████| 62/62 [00:08<00:00,  7.20it/s]\n",
      "Iteration:  23%|██▎       | 14/62 [00:01<00:06,  7.21it/s]"
     ]
    },
    {
     "name": "stdout",
     "output_type": "stream",
     "text": [
      "Evaluating...\n"
     ]
    },
    {
     "name": "stderr",
     "output_type": "stream",
     "text": [
      "Iteration: 100%|██████████| 62/62 [00:04<00:00, 14.49it/s]\n",
      "Iteration: 100%|██████████| 18/18 [00:01<00:00, 15.86it/s]\n",
      "Iteration: 100%|██████████| 7/7 [00:00<00:00, 15.50it/s]s]\n",
      "Iteration:   0%|          | 0/62 [00:00<?, ?it/s]7.36it/s]"
     ]
    },
    {
     "name": "stdout",
     "output_type": "stream",
     "text": [
      "{'Train':  best_epoch_indx:50\n",
      " auc:0.944710363647948 \n",
      " apur:0.9296433856078989 \n",
      " f1:0.845899181710288 \n",
      " precision:0.8303899926416483 \n",
      " recall:0.8619987269255251 \n",
      ", 'Validation':  best_epoch_indx:50\n",
      " auc:0.877934557487822 \n",
      " apur:0.8458974042183508 \n",
      " f1:0.7698458023986294 \n",
      " precision:0.7676537585421412 \n",
      " recall:0.7720504009163803 \n",
      ", 'Test':  best_epoch_indx:50\n",
      " auc:0.8835991311378593 \n",
      " apur:0.8574197873981744 \n",
      " f1:0.7692307692307693 \n",
      " precision:0.7596067917783735 \n",
      " recall:0.7791017415215399 \n",
      "}\n",
      "=====Epoch 51\n",
      "Training...\n"
     ]
    },
    {
     "name": "stderr",
     "output_type": "stream",
     "text": [
      "Iteration: 100%|██████████| 62/62 [00:04<00:00, 15.26it/s]\n",
      "Iteration: 100%|██████████| 62/62 [00:04<00:00, 14.64it/s]\n",
      "Iteration: 100%|██████████| 18/18 [00:01<00:00, 15.87it/s]\n",
      "Iteration: 100%|██████████| 18/18 [00:01<00:00, 15.87it/s]\n",
      "Iteration: 100%|██████████| 7/7 [00:00<00:00, 15.47it/s]s]\n",
      "Iteration:  45%|████▌     | 28/62 [00:03<00:04,  7.19it/s]"
     ]
    },
    {
     "name": "stdout",
     "output_type": "stream",
     "text": [
      "{'Train':  best_epoch_indx:50\n",
      " auc:0.9378108656727793 \n",
      " apur:0.9217287601181751 \n",
      " f1:0.8374785319000063 \n",
      " precision:0.8368929570302568 \n",
      " recall:0.8380649267982176 \n",
      ", 'Validation':  best_epoch_indx:50\n",
      " auc:0.8803036088259456 \n",
      " apur:0.8609818404000181 \n",
      " f1:0.7688734030197445 \n",
      " precision:0.7797408716136631 \n",
      " recall:0.7583046964490263 \n",
      ", 'Test':  best_epoch_indx:50\n",
      " auc:0.8859056569581366 \n",
      " apur:0.8621283839810264 \n",
      " f1:0.7721254355400697 \n",
      " precision:0.7828544512482336 \n",
      " recall:0.7616865261228231 \n",
      "}\n",
      "=====Epoch 51\n",
      "Training...\n"
     ]
    },
    {
     "name": "stderr",
     "output_type": "stream",
     "text": [
      "Iteration: 100%|██████████| 62/62 [00:08<00:00,  7.23it/s]\n",
      "Iteration:  52%|█████▏    | 32/62 [00:04<00:04,  7.16it/s]"
     ]
    },
    {
     "name": "stdout",
     "output_type": "stream",
     "text": [
      "Evaluating...\n"
     ]
    },
    {
     "name": "stderr",
     "output_type": "stream",
     "text": [
      "Iteration: 100%|██████████| 62/62 [00:08<00:00,  7.30it/s]\n",
      "Iteration:   3%|▎         | 2/62 [00:00<00:03, 15.12it/s]]"
     ]
    },
    {
     "name": "stdout",
     "output_type": "stream",
     "text": [
      "Evaluating...\n"
     ]
    },
    {
     "name": "stderr",
     "output_type": "stream",
     "text": [
      "Iteration: 100%|██████████| 7/7 [00:00<00:00, 15.44it/s]s]\n",
      "Iteration:  55%|█████▍    | 34/62 [00:02<00:01, 15.25it/s]"
     ]
    },
    {
     "name": "stdout",
     "output_type": "stream",
     "text": [
      "{'Train':  best_epoch_indx:49\n",
      " auc:0.9422302647402974 \n",
      " apur:0.9272760349552789 \n",
      " f1:0.8409920684879769 \n",
      " precision:0.8317768646494833 \n",
      " recall:0.8504137492043284 \n",
      ", 'Validation':  best_epoch_indx:49\n",
      " auc:0.8829686710557272 \n",
      " apur:0.8615810873265889 \n",
      " f1:0.7681660899653979 \n",
      " precision:0.7735191637630662 \n",
      " recall:0.7628865979381443 \n",
      ", 'Test':  best_epoch_indx:49\n",
      " auc:0.8838013498875092 \n",
      " apur:0.8587620734271157 \n",
      " f1:0.7797619047619048 \n",
      " precision:0.7790484903934126 \n",
      " recall:0.7804766269477543 \n",
      "}\n",
      "=====Epoch 50\n",
      "Training...\n"
     ]
    },
    {
     "name": "stderr",
     "output_type": "stream",
     "text": [
      "Iteration: 100%|██████████| 62/62 [00:04<00:00, 15.14it/s]\n",
      "Iteration: 100%|██████████| 62/62 [00:08<00:00,  7.19it/s]\n",
      "Iteration:  19%|█▉        | 12/62 [00:01<00:06,  7.24it/s]"
     ]
    },
    {
     "name": "stdout",
     "output_type": "stream",
     "text": [
      "Evaluating...\n"
     ]
    },
    {
     "name": "stderr",
     "output_type": "stream",
     "text": [
      "Iteration: 100%|██████████| 62/62 [00:04<00:00, 15.30it/s]\n",
      "Iteration: 100%|██████████| 18/18 [00:01<00:00, 15.96it/s]\n",
      "Iteration: 100%|██████████| 18/18 [00:01<00:00, 15.99it/s]\n",
      "Iteration: 100%|██████████| 7/7 [00:00<00:00, 15.49it/s]\n",
      "Iteration:  76%|███████▌  | 47/62 [00:06<00:02,  7.26it/s]"
     ]
    },
    {
     "name": "stdout",
     "output_type": "stream",
     "text": [
      "{'Train':  best_epoch_indx:49\n",
      " auc:0.9357067498551563 \n",
      " apur:0.9199934976520312 \n",
      " f1:0.83444701180291 \n",
      " precision:0.8189507232164747 \n",
      " recall:0.8505410566518141 \n",
      ", 'Validation':  best_epoch_indx:49\n",
      " auc:0.8784841542573502 \n",
      " apur:0.8546035785738243 \n",
      " f1:0.7682789651293589 \n",
      " precision:0.7546961325966851 \n",
      " recall:0.7823596792668958 \n",
      ", 'Test':  best_epoch_indx:49\n",
      " auc:0.8836939854203797 \n",
      " apur:0.856184890740716 \n",
      " f1:0.7727069351230426 \n",
      " precision:0.7548076923076923 \n",
      " recall:0.7914757103574702 \n",
      "}\n",
      "=====Epoch 50\n",
      "Training...\n"
     ]
    },
    {
     "name": "stderr",
     "output_type": "stream",
     "text": [
      "Iteration: 100%|██████████| 7/7 [00:00<00:00, 15.65it/s]s]\n",
      "Iteration:  44%|████▎     | 27/62 [00:03<00:04,  7.29it/s]"
     ]
    },
    {
     "name": "stdout",
     "output_type": "stream",
     "text": [
      "{'Train':  best_epoch_indx:51\n",
      " auc:0.9417809369811461 \n",
      " apur:0.9262957776547016 \n",
      " f1:0.8447640117994101 \n",
      " precision:0.8165617203279079 \n",
      " recall:0.8749840865690643 \n",
      ", 'Validation':  best_epoch_indx:51\n",
      " auc:0.8700107219580301 \n",
      " apur:0.8381294445064741 \n",
      " f1:0.7555803571428571 \n",
      " precision:0.7366702937976061 \n",
      " recall:0.7754868270332188 \n",
      ", 'Test':  best_epoch_indx:51\n",
      " auc:0.8835825409610928 \n",
      " apur:0.8571075899990543 \n",
      " f1:0.7717439293598234 \n",
      " precision:0.7444633730834753 \n",
      " recall:0.8010999083409716 \n",
      "}\n",
      "=====Epoch 52\n",
      "Training...\n"
     ]
    },
    {
     "name": "stderr",
     "output_type": "stream",
     "text": [
      "Iteration: 100%|██████████| 62/62 [00:08<00:00,  7.24it/s]\n",
      "Iteration:  63%|██████▎   | 39/62 [00:05<00:03,  7.33it/s]"
     ]
    },
    {
     "name": "stdout",
     "output_type": "stream",
     "text": [
      "Evaluating...\n"
     ]
    },
    {
     "name": "stderr",
     "output_type": "stream",
     "text": [
      "Iteration: 100%|██████████| 62/62 [00:04<00:00, 15.16it/s]\n",
      "Iteration: 100%|██████████| 18/18 [00:01<00:00, 15.77it/s]\n",
      "Iteration: 100%|██████████| 7/7 [00:00<00:00, 15.31it/s]s]\n",
      "Iteration:  53%|█████▎    | 33/62 [00:04<00:04,  7.23it/s]"
     ]
    },
    {
     "name": "stdout",
     "output_type": "stream",
     "text": [
      "{'Train':  best_epoch_indx:51\n",
      " auc:0.9444341696047216 \n",
      " apur:0.9291118969724881 \n",
      " f1:0.8443315338202604 \n",
      " precision:0.8424588086185044 \n",
      " recall:0.8462126034373011 \n",
      ", 'Validation':  best_epoch_indx:51\n",
      " auc:0.8788968339369256 \n",
      " apur:0.8483938694878175 \n",
      " f1:0.7637203928365106 \n",
      " precision:0.7703962703962703 \n",
      " recall:0.7571592210767468 \n",
      ", 'Test':  best_epoch_indx:51\n",
      " auc:0.8843427609280005 \n",
      " apur:0.8579411178778825 \n",
      " f1:0.772496538994001 \n",
      " precision:0.7778810408921933 \n",
      " recall:0.7671860678276811 \n",
      "}\n",
      "=====Epoch 52\n",
      "Training...\n"
     ]
    },
    {
     "name": "stderr",
     "output_type": "stream",
     "text": [
      "Iteration: 100%|██████████| 62/62 [00:08<00:00,  7.29it/s]\n",
      "Iteration:  58%|█████▊    | 36/62 [00:04<00:03,  7.03it/s]"
     ]
    },
    {
     "name": "stdout",
     "output_type": "stream",
     "text": [
      "Evaluating...\n"
     ]
    },
    {
     "name": "stderr",
     "output_type": "stream",
     "text": [
      "Iteration: 100%|██████████| 62/62 [00:04<00:00, 15.03it/s]\n",
      "Iteration: 100%|██████████| 18/18 [00:01<00:00, 16.03it/s]\n",
      "Iteration: 100%|██████████| 7/7 [00:00<00:00, 15.59it/s]s]\n",
      "Iteration:  92%|█████████▏| 57/62 [00:08<00:00,  6.47it/s]"
     ]
    },
    {
     "name": "stdout",
     "output_type": "stream",
     "text": [
      "{'Train':  best_epoch_indx:51\n",
      " auc:0.9361687544175029 \n",
      " apur:0.9200719779885405 \n",
      " f1:0.832994923857868 \n",
      " precision:0.8303605313092979 \n",
      " recall:0.8356460852959898 \n",
      ", 'Validation':  best_epoch_indx:51\n",
      " auc:0.8756146805974985 \n",
      " apur:0.8561589006859625 \n",
      " f1:0.7603211009174312 \n",
      " precision:0.7611940298507462 \n",
      " recall:0.7594501718213058 \n",
      ", 'Test':  best_epoch_indx:51\n",
      " auc:0.8836845694541733 \n",
      " apur:0.8597600698593066 \n",
      " f1:0.7691595276684418 \n",
      " precision:0.7772578380907814 \n",
      " recall:0.7612282309807517 \n",
      "}\n",
      "=====Epoch 52\n",
      "Training...\n"
     ]
    },
    {
     "name": "stderr",
     "output_type": "stream",
     "text": [
      "Iteration: 100%|██████████| 62/62 [00:08<00:00,  6.92it/s]\n",
      "Iteration:  55%|█████▍    | 34/62 [00:04<00:03,  7.25it/s]"
     ]
    },
    {
     "name": "stdout",
     "output_type": "stream",
     "text": [
      "Evaluating...\n"
     ]
    },
    {
     "name": "stderr",
     "output_type": "stream",
     "text": [
      "Iteration: 100%|██████████| 62/62 [00:08<00:00,  7.01it/s]\n",
      "Iteration: 100%|██████████| 62/62 [00:04<00:00, 14.64it/s]\n",
      "Iteration:  13%|█▎        | 8/62 [00:00<00:03, 14.97it/s]]"
     ]
    },
    {
     "name": "stdout",
     "output_type": "stream",
     "text": [
      "Evaluating...\n"
     ]
    },
    {
     "name": "stderr",
     "output_type": "stream",
     "text": [
      "Iteration: 100%|██████████| 18/18 [00:01<00:00, 15.93it/s]\n",
      "Iteration: 100%|██████████| 7/7 [00:00<00:00, 15.41it/s]s]\n",
      "Iteration:  52%|█████▏    | 32/62 [00:02<00:01, 15.20it/s]"
     ]
    },
    {
     "name": "stdout",
     "output_type": "stream",
     "text": [
      "{'Train':  best_epoch_indx:50\n",
      " auc:0.9423323643841902 \n",
      " apur:0.9276787336841331 \n",
      " f1:0.8402108240133693 \n",
      " precision:0.8485005841879787 \n",
      " recall:0.8320814767663909 \n",
      ", 'Validation':  best_epoch_indx:50\n",
      " auc:0.8819331150373533 \n",
      " apur:0.8592264324554357 \n",
      " f1:0.7657342657342657 \n",
      " precision:0.7793594306049823 \n",
      " recall:0.7525773195876289 \n",
      ", 'Test':  best_epoch_indx:50\n",
      " auc:0.8824827869282498 \n",
      " apur:0.8573047564849702 \n",
      " f1:0.7781665500349896 \n",
      " precision:0.7923990498812351 \n",
      " recall:0.7644362969752521 \n",
      "}\n",
      "=====Epoch 51\n",
      "Training...\n"
     ]
    },
    {
     "name": "stderr",
     "output_type": "stream",
     "text": [
      "Iteration: 100%|██████████| 62/62 [00:08<00:00,  7.23it/s]\n",
      "Iteration:   3%|▎         | 2/62 [00:00<00:03, 15.09it/s]]"
     ]
    },
    {
     "name": "stdout",
     "output_type": "stream",
     "text": [
      "Evaluating...\n"
     ]
    },
    {
     "name": "stderr",
     "output_type": "stream",
     "text": [
      "Iteration: 100%|██████████| 62/62 [00:04<00:00, 14.49it/s]\n",
      "Iteration: 100%|██████████| 62/62 [00:04<00:00, 15.30it/s]\n",
      "Iteration: 100%|██████████| 18/18 [00:01<00:00, 15.90it/s]\n",
      "Iteration: 100%|██████████| 18/18 [00:01<00:00, 15.85it/s]\n",
      "Iteration: 100%|██████████| 7/7 [00:00<00:00, 15.46it/s]s]\n",
      "Iteration:   2%|▏         | 1/62 [00:00<00:08,  6.89it/s]]"
     ]
    },
    {
     "name": "stdout",
     "output_type": "stream",
     "text": [
      "{'Train':  best_epoch_indx:52\n",
      " auc:0.9402532357011816 \n",
      " apur:0.9247119167582682 \n",
      " f1:0.8307334109429569 \n",
      " precision:0.7652546916890081 \n",
      " recall:0.9084659452577976 \n",
      ", 'Validation':  best_epoch_indx:52\n",
      " auc:0.870328909561441 \n",
      " apur:0.8355903892212545 \n",
      " f1:0.756161510225485 \n",
      " precision:0.6972920696324951 \n",
      " recall:0.8258877434135166 \n",
      ", 'Test':  best_epoch_indx:52\n",
      " auc:0.8830210136809586 \n",
      " apur:0.8559101410756509 \n",
      " f1:0.7678122380553227 \n",
      " precision:0.7073359073359073 \n",
      " recall:0.8395967002749771 \n",
      "}\n",
      "=====Epoch 53\n",
      "Training...\n"
     ]
    },
    {
     "name": "stderr",
     "output_type": "stream",
     "text": [
      "Iteration: 100%|██████████| 62/62 [00:08<00:00,  7.24it/s]\n",
      "Iteration:  63%|██████▎   | 39/62 [00:05<00:03,  7.29it/s]"
     ]
    },
    {
     "name": "stdout",
     "output_type": "stream",
     "text": [
      "Evaluating...\n"
     ]
    },
    {
     "name": "stderr",
     "output_type": "stream",
     "text": [
      "Iteration: 100%|██████████| 62/62 [00:04<00:00, 15.08it/s]\n",
      "Iteration: 100%|██████████| 18/18 [00:01<00:00, 15.80it/s]\n",
      "Iteration: 100%|██████████| 7/7 [00:00<00:00, 15.37it/s]s]\n",
      "Iteration:  58%|█████▊    | 36/62 [00:02<00:01, 15.26it/s]"
     ]
    },
    {
     "name": "stdout",
     "output_type": "stream",
     "text": [
      "{'Train':  best_epoch_indx:52\n",
      " auc:0.9451129183713936 \n",
      " apur:0.9297616698271147 \n",
      " f1:0.8464596273291924 \n",
      " precision:0.8264402668283808 \n",
      " recall:0.8674729471674093 \n",
      ", 'Validation':  best_epoch_indx:52\n",
      " auc:0.878452335497009 \n",
      " apur:0.8456964551556836 \n",
      " f1:0.7725467952353943 \n",
      " precision:0.7651685393258427 \n",
      " recall:0.7800687285223368 \n",
      ", 'Test':  best_epoch_indx:52\n",
      " auc:0.8817235787216453 \n",
      " apur:0.8547853918289079 \n",
      " f1:0.7654488046910238 \n",
      " precision:0.7535523978685613 \n",
      " recall:0.7777268560953254 \n",
      "}\n",
      "=====Epoch 53\n",
      "Training...\n"
     ]
    },
    {
     "name": "stderr",
     "output_type": "stream",
     "text": [
      "Iteration: 100%|██████████| 7/7 [00:00<00:00, 14.34it/s]s]\n",
      "Iteration:   0%|          | 0/62 [00:00<?, ?it/s]7.22it/s]"
     ]
    },
    {
     "name": "stdout",
     "output_type": "stream",
     "text": [
      "{'Train':  best_epoch_indx:50\n",
      " auc:0.9367366956869689 \n",
      " apur:0.9209978165129405 \n",
      " f1:0.8364132456901897 \n",
      " precision:0.8153790351831701 \n",
      " recall:0.8585614258434119 \n",
      ", 'Validation':  best_epoch_indx:50\n",
      " auc:0.87758455112407 \n",
      " apur:0.8522279758637243 \n",
      " f1:0.7743016759776536 \n",
      " precision:0.7557251908396947 \n",
      " recall:0.7938144329896907 \n",
      ", 'Test':  best_epoch_indx:50\n",
      " auc:0.8843030903818528 \n",
      " apur:0.8575875942150347 \n",
      " f1:0.7747667703243003 \n",
      " precision:0.7517241379310344 \n",
      " recall:0.7992667277726856 \n",
      "}\n",
      "=====Epoch 51\n",
      "Training...\n",
      "Evaluating...\n"
     ]
    },
    {
     "name": "stderr",
     "output_type": "stream",
     "text": [
      "Iteration: 100%|██████████| 62/62 [00:08<00:00,  7.26it/s]\n",
      "Iteration: 100%|██████████| 62/62 [00:04<00:00, 15.21it/s]\n",
      "Iteration: 100%|██████████| 18/18 [00:01<00:00, 15.96it/s]\n",
      "Iteration: 100%|██████████| 7/7 [00:00<00:00, 15.46it/s]s]\n",
      "Iteration:  68%|██████▊   | 42/62 [00:02<00:01, 15.16it/s]"
     ]
    },
    {
     "name": "stdout",
     "output_type": "stream",
     "text": [
      "{'Train':  best_epoch_indx:52\n",
      " auc:0.9385892215012632 \n",
      " apur:0.9229245845225921 \n",
      " f1:0.8398545272134437 \n",
      " precision:0.827505251451872 \n",
      " recall:0.852577975811585 \n",
      ", 'Validation':  best_epoch_indx:52\n",
      " auc:0.8779152733906456 \n",
      " apur:0.858358903568046 \n",
      " f1:0.7665347654041831 \n",
      " precision:0.7566964285714286 \n",
      " recall:0.7766323024054983 \n",
      ", 'Test':  best_epoch_indx:52\n",
      " auc:0.8870926861405314 \n",
      " apur:0.8634494321328081 \n",
      " f1:0.7779549077658847 \n",
      " precision:0.7732005432322318 \n",
      " recall:0.7827681026581118 \n",
      "}\n",
      "=====Epoch 53\n",
      "Training...\n"
     ]
    },
    {
     "name": "stderr",
     "output_type": "stream",
     "text": [
      "Iteration: 100%|██████████| 62/62 [00:04<00:00, 15.28it/s]\n",
      "Iteration: 100%|██████████| 62/62 [00:08<00:00,  7.00it/s]\n",
      "Iteration:  11%|█         | 2/18 [00:00<00:01, 15.51it/s]]"
     ]
    },
    {
     "name": "stdout",
     "output_type": "stream",
     "text": [
      "Evaluating...\n"
     ]
    },
    {
     "name": "stderr",
     "output_type": "stream",
     "text": [
      "Iteration: 100%|██████████| 18/18 [00:01<00:00, 15.85it/s]\n",
      "Iteration: 100%|██████████| 7/7 [00:00<00:00, 15.41it/s]s]\n",
      "Iteration:   0%|          | 0/62 [00:00<?, ?it/s]5.24it/s]"
     ]
    },
    {
     "name": "stdout",
     "output_type": "stream",
     "text": [
      "{'Train':  best_epoch_indx:51\n",
      " auc:0.9439823470340991 \n",
      " apur:0.9291368005221207 \n",
      " f1:0.8398744113029827 \n",
      " precision:0.863715861697834 \n",
      " recall:0.8173138128580522 \n",
      ", 'Validation':  best_epoch_indx:51\n",
      " auc:0.8809197357307322 \n",
      " apur:0.8590833414525352 \n",
      " f1:0.7528156490812092 \n",
      " precision:0.7800982800982801 \n",
      " recall:0.7273768613974799 \n",
      ", 'Test':  best_epoch_indx:51\n",
      " auc:0.8826694226098442 \n",
      " apur:0.858434847011983 \n",
      " f1:0.7700331910858228 \n",
      " precision:0.7976424361493124 \n",
      " recall:0.7442713107241063 \n",
      "}\n",
      "=====Epoch 52\n",
      "Training...\n"
     ]
    },
    {
     "name": "stderr",
     "output_type": "stream",
     "text": [
      "Iteration: 100%|██████████| 62/62 [00:08<00:00,  7.09it/s]\n",
      "Iteration:  23%|██▎       | 14/62 [00:01<00:06,  7.22it/s]"
     ]
    },
    {
     "name": "stdout",
     "output_type": "stream",
     "text": [
      "Evaluating...\n"
     ]
    },
    {
     "name": "stderr",
     "output_type": "stream",
     "text": [
      "Iteration: 100%|██████████| 62/62 [00:04<00:00, 15.29it/s]\n",
      "Iteration: 100%|██████████| 62/62 [00:08<00:00,  7.12it/s]\n",
      "Iteration:   0%|          | 0/62 [00:00<?, ?it/s]"
     ]
    },
    {
     "name": "stdout",
     "output_type": "stream",
     "text": [
      "Evaluating...\n"
     ]
    },
    {
     "name": "stderr",
     "output_type": "stream",
     "text": [
      "Iteration: 100%|██████████| 18/18 [00:01<00:00, 15.86it/s]\n",
      "Iteration: 100%|██████████| 62/62 [00:08<00:00,  7.10it/s]\n",
      "Iteration:  66%|██████▌   | 41/62 [00:05<00:02,  7.27it/s]"
     ]
    },
    {
     "name": "stdout",
     "output_type": "stream",
     "text": [
      "Evaluating...\n"
     ]
    },
    {
     "name": "stderr",
     "output_type": "stream",
     "text": [
      "Iteration: 100%|██████████| 62/62 [00:04<00:00, 15.07it/s]\n",
      "Iteration: 100%|██████████| 62/62 [00:04<00:00, 15.18it/s]\n",
      "Iteration: 100%|██████████| 18/18 [00:01<00:00, 15.82it/s]\n",
      "Iteration: 100%|██████████| 7/7 [00:00<00:00, 15.46it/s]s]\n",
      "Iteration:  89%|████████▉ | 16/18 [00:01<00:00, 15.44it/s]"
     ]
    },
    {
     "name": "stdout",
     "output_type": "stream",
     "text": [
      "{'Train':  best_epoch_indx:53\n",
      " auc:0.9458412443975494 \n",
      " apur:0.9303902865109626 \n",
      " f1:0.8483472117083016 \n",
      " precision:0.8408153057396524 \n",
      " recall:0.8560152768936983 \n",
      ", 'Validation':  best_epoch_indx:53\n",
      " auc:0.879315298845654 \n",
      " apur:0.8468651982065039 \n",
      " f1:0.7680826636050516 \n",
      " precision:0.7698504027617952 \n",
      " recall:0.7663230240549829 \n",
      ", 'Test':  best_epoch_indx:53\n",
      " auc:0.88532371937457 \n",
      " apur:0.8591756615878374 \n",
      " f1:0.7702609097206189 \n",
      " precision:0.7761749651000466 \n",
      " recall:0.7644362969752521 \n",
      "}\n",
      "=====Epoch 54\n",
      "Training...\n"
     ]
    },
    {
     "name": "stderr",
     "output_type": "stream",
     "text": [
      "Iteration: 100%|██████████| 18/18 [00:01<00:00, 15.94it/s]\n",
      "Iteration: 100%|██████████| 7/7 [00:00<00:00, 15.31it/s]]]\n",
      "Iteration: 100%|██████████| 62/62 [00:08<00:00,  7.28it/s]\n",
      "Iteration:  57%|█████▋    | 4/7 [00:00<00:00, 13.89it/s]]"
     ]
    },
    {
     "name": "stdout",
     "output_type": "stream",
     "text": [
      "Evaluating...\n",
      "{'Train':  best_epoch_indx:51\n",
      " auc:0.9357474548930897 \n",
      " apur:0.9201636653656741 \n",
      " f1:0.8330115228900654 \n",
      " precision:0.8154878048780487 \n",
      " recall:0.8513049013367282 \n",
      ", 'Validation':  best_epoch_indx:51\n",
      " auc:0.874997589487853 \n",
      " apur:0.8513588090761484 \n",
      " f1:0.7652661064425771 \n",
      " precision:0.7489035087719298 \n",
      " recall:0.7823596792668958 \n",
      ", 'Test':  best_epoch_indx:51\n",
      " auc:0.8823811527550655 \n",
      " apur:0.85446876851284 \n",
      " f1:0.7767120231987509 \n",
      " precision:0.7566275532377227 \n",
      " recall:0.7978918423464711 \n",
      "}\n",
      "=====Epoch 52\n",
      "Training...\n"
     ]
    },
    {
     "name": "stderr",
     "output_type": "stream",
     "text": [
      "\r",
      "Iteration:  77%|███████▋  | 48/62 [00:03<00:00, 15.04it/s]\r",
      "Iteration:   3%|▎         | 2/62 [00:00<00:03, 15.12it/s]\r",
      "Iteration:   2%|▏         | 1/62 [00:00<00:08,  7.22it/s]\r",
      "Iteration:  86%|████████▌ | 6/7 [00:00<00:00, 14.38it/s]\r",
      "Iteration:  10%|▉         | 6/62 [00:00<00:07,  7.24it/s]\r",
      "Iteration: 100%|██████████| 7/7 [00:00<00:00, 14.50it/s]\n",
      "\r",
      "Iteration:   0%|          | 0/62 [00:00<?, ?it/s]\r",
      "Iteration:  81%|████████  | 50/62 [00:03<00:00, 15.12it/s]\r",
      "Iteration:   6%|▋         | 4/62 [00:00<00:03, 15.32it/s]\r",
      "Iteration:   3%|▎         | 2/62 [00:00<00:08,  7.23it/s]\r",
      "Iteration:  11%|█▏        | 7/62 [00:00<00:07,  7.19it/s]"
     ]
    },
    {
     "name": "stdout",
     "output_type": "stream",
     "text": [
      "{'Train':  best_epoch_indx:53\n",
      " auc:0.9429528824882228 \n",
      " apur:0.9273256067276971 \n",
      " f1:0.8422267829656235 \n",
      " precision:0.8486493472922322 \n",
      " recall:0.8359007001909612 \n",
      ", 'Validation':  best_epoch_indx:53\n",
      " auc:0.8731501729783517 \n",
      " apur:0.8442439802352684 \n",
      " f1:0.7527761542957334 \n",
      " precision:0.7684964200477327 \n",
      " recall:0.7376861397479955 \n",
      ", 'Test':  best_epoch_indx:53\n",
      " auc:0.8859002490533195 \n",
      " apur:0.8620579188635085 \n",
      " f1:0.7783683845620523 \n",
      " precision:0.7850815850815851 \n",
      " recall:0.7717690192483959 \n",
      "}\n",
      "=====Epoch 54\n",
      "Training...\n"
     ]
    },
    {
     "name": "stderr",
     "output_type": "stream",
     "text": [
      "Iteration: 100%|██████████| 62/62 [00:04<00:00, 15.13it/s]\n",
      "Iteration: 100%|██████████| 18/18 [00:01<00:00, 15.92it/s]\n",
      "Iteration: 100%|██████████| 7/7 [00:00<00:00, 15.46it/s]s]\n",
      "Iteration:  74%|███████▍  | 46/62 [00:03<00:01, 15.25it/s]"
     ]
    },
    {
     "name": "stdout",
     "output_type": "stream",
     "text": [
      "{'Train':  best_epoch_indx:53\n",
      " auc:0.9380902751520038 \n",
      " apur:0.9215478779431032 \n",
      " f1:0.8364942347678155 \n",
      " precision:0.8280938123752495 \n",
      " recall:0.84506683640993 \n",
      ", 'Validation':  best_epoch_indx:53\n",
      " auc:0.8784648701601737 \n",
      " apur:0.8573217491474932 \n",
      " f1:0.7672168468981219 \n",
      " precision:0.7624434389140271 \n",
      " recall:0.7720504009163803 \n",
      ", 'Test':  best_epoch_indx:53\n",
      " auc:0.8835788327844802 \n",
      " apur:0.8593328683391528 \n",
      " f1:0.7705369435520881 \n",
      " precision:0.7715992647058824 \n",
      " recall:0.7694775435380385 \n",
      "}\n",
      "=====Epoch 54\n",
      "Training...\n"
     ]
    },
    {
     "name": "stderr",
     "output_type": "stream",
     "text": [
      "Iteration: 100%|██████████| 62/62 [00:04<00:00, 15.36it/s]\n",
      "Iteration: 100%|██████████| 18/18 [00:01<00:00, 16.00it/s]\n",
      "Iteration: 100%|██████████| 7/7 [00:00<00:00, 15.52it/s]s]\n",
      "Iteration:  68%|██████▊   | 42/62 [00:05<00:02,  7.40it/s]"
     ]
    },
    {
     "name": "stdout",
     "output_type": "stream",
     "text": [
      "{'Train':  best_epoch_indx:52\n",
      " auc:0.9427083733439477 \n",
      " apur:0.9278372274533173 \n",
      " f1:0.8430272859033335 \n",
      " precision:0.8346643374095333 \n",
      " recall:0.8515595162316996 \n",
      ", 'Validation':  best_epoch_indx:52\n",
      " auc:0.8805321253774862 \n",
      " apur:0.8583662296436241 \n",
      " f1:0.7616875712656785 \n",
      " precision:0.7582292849035187 \n",
      " recall:0.7651775486827033 \n",
      ", 'Test':  best_epoch_indx:52\n",
      " auc:0.8815560123076163 \n",
      " apur:0.8554024344687957 \n",
      " f1:0.7794918330308531 \n",
      " precision:0.7717879604672058 \n",
      " recall:0.7873510540788268 \n",
      "}\n",
      "=====Epoch 53\n",
      "Training...\n"
     ]
    },
    {
     "name": "stderr",
     "output_type": "stream",
     "text": [
      "Iteration: 100%|██████████| 62/62 [00:08<00:00,  7.24it/s]\n",
      "Iteration:  24%|██▍       | 15/62 [00:02<00:06,  7.24it/s]"
     ]
    },
    {
     "name": "stdout",
     "output_type": "stream",
     "text": [
      "Evaluating...\n"
     ]
    },
    {
     "name": "stderr",
     "output_type": "stream",
     "text": [
      "Iteration: 100%|██████████| 62/62 [00:08<00:00,  7.23it/s]\n",
      "Iteration:  32%|███▏      | 20/62 [00:02<00:05,  7.29it/s]"
     ]
    },
    {
     "name": "stdout",
     "output_type": "stream",
     "text": [
      "Evaluating...\n",
      "Evaluating...\n"
     ]
    },
    {
     "name": "stderr",
     "output_type": "stream",
     "text": [
      "Iteration: 100%|██████████| 62/62 [00:08<00:00,  7.30it/s]\n",
      "Iteration: 100%|██████████| 62/62 [00:08<00:00,  7.23it/s]\n",
      "Iteration:  68%|██████▊   | 42/62 [00:05<00:02,  7.30it/s]"
     ]
    },
    {
     "name": "stdout",
     "output_type": "stream",
     "text": [
      "Evaluating...\n"
     ]
    },
    {
     "name": "stderr",
     "output_type": "stream",
     "text": [
      "Iteration: 100%|██████████| 62/62 [00:04<00:00, 15.13it/s]\n",
      "Iteration: 100%|██████████| 62/62 [00:04<00:00, 15.15it/s]\n",
      "Iteration: 100%|██████████| 62/62 [00:04<00:00, 15.35it/s]\n",
      "Iteration: 100%|██████████| 18/18 [00:01<00:00, 15.69it/s]\n",
      "Iteration: 100%|██████████| 7/7 [00:00<00:00, 15.46it/s]s]\n",
      "Iteration:  89%|████████▉ | 16/18 [00:01<00:00, 15.43it/s]"
     ]
    },
    {
     "name": "stdout",
     "output_type": "stream",
     "text": [
      "{'Train':  best_epoch_indx:54\n",
      " auc:0.9437516278144741 \n",
      " apur:0.9277797151016977 \n",
      " f1:0.8430679954585594 \n",
      " precision:0.8354794349293662 \n",
      " recall:0.8507956715467855 \n",
      ", 'Validation':  best_epoch_indx:54\n",
      " auc:0.8749194888942885 \n",
      " apur:0.8431758020714621 \n",
      " f1:0.75882012724118 \n",
      " precision:0.7663551401869159 \n",
      " recall:0.7514318442153494 \n",
      ", 'Test':  best_epoch_indx:54\n",
      " auc:0.8817683431511503 \n",
      " apur:0.8552923919374099 \n",
      " f1:0.7636031092821216 \n",
      " precision:0.7618613138686131 \n",
      " recall:0.7653528872593951 \n",
      "}\n",
      "=====Epoch 55\n",
      "Training...\n"
     ]
    },
    {
     "name": "stderr",
     "output_type": "stream",
     "text": [
      "Iteration: 100%|██████████| 18/18 [00:01<00:00, 15.87it/s]\n",
      "Iteration: 100%|██████████| 18/18 [00:01<00:00, 15.96it/s]\n",
      "Iteration: 100%|██████████| 62/62 [00:08<00:00,  7.16it/s]\n",
      "Iteration: 100%|██████████| 7/7 [00:00<00:00, 15.52it/s]]\n",
      "Iteration:  10%|▉         | 6/62 [00:00<00:07,  7.12it/s]]"
     ]
    },
    {
     "name": "stdout",
     "output_type": "stream",
     "text": [
      "Evaluating...\n",
      "{'Train':  best_epoch_indx:54\n",
      " auc:0.9351377487662736 \n",
      " apur:0.9190949354728031 \n",
      " f1:0.833029139656366 \n",
      " precision:0.8237490664675131 \n",
      " recall:0.8425206874602165 \n",
      ", 'Validation':  best_epoch_indx:54\n",
      " auc:0.8644723292489616 \n",
      " apur:0.8330797821458705 \n",
      " f1:0.7450312322544009 \n",
      " precision:0.7387387387387387 \n",
      " recall:0.7514318442153494 \n",
      ", 'Test':  best_epoch_indx:54\n",
      " auc:0.8777327198042139 \n",
      " apur:0.8508271603461037 \n",
      " f1:0.7661984594472133 \n",
      " precision:0.7576164874551972 \n",
      " recall:0.7749770852428964 \n",
      "}\n",
      "=====Epoch 55\n",
      "Training...\n"
     ]
    },
    {
     "name": "stderr",
     "output_type": "stream",
     "text": [
      "Iteration: 100%|██████████| 62/62 [00:04<00:00, 15.19it/s]\n",
      "Iteration: 100%|██████████| 18/18 [00:01<00:00, 15.71it/s]\n",
      "Iteration: 100%|██████████| 7/7 [00:00<00:00, 15.49it/s]s]\n",
      "Iteration:  44%|████▎     | 27/62 [00:03<00:04,  7.29it/s]"
     ]
    },
    {
     "name": "stdout",
     "output_type": "stream",
     "text": [
      "{'Train':  best_epoch_indx:54\n",
      " auc:0.9346931134292684 \n",
      " apur:0.9169121234368082 \n",
      " f1:0.831728045325779 \n",
      " precision:0.8226650062266501 \n",
      " recall:0.8409929980903883 \n",
      ", 'Validation':  best_epoch_indx:54\n",
      " auc:0.8742291182153725 \n",
      " apur:0.8546378756385058 \n",
      " f1:0.7604824813325675 \n",
      " precision:0.7626728110599078 \n",
      " recall:0.7583046964490263 \n",
      ", 'Test':  best_epoch_indx:54\n",
      " auc:0.8834497877394242 \n",
      " apur:0.8610124034828881 \n",
      " f1:0.7710064635272392 \n",
      " precision:0.7767441860465116 \n",
      " recall:0.7653528872593951 \n",
      "}\n",
      "=====Epoch 55\n",
      "Training...\n"
     ]
    },
    {
     "name": "stderr",
     "output_type": "stream",
     "text": [
      "Iteration: 100%|██████████| 62/62 [00:04<00:00, 15.15it/s]\n",
      "Iteration: 100%|██████████| 7/7 [00:00<00:00, 15.25it/s]s]\n",
      "Iteration:  21%|██        | 13/62 [00:01<00:06,  7.24it/s]"
     ]
    },
    {
     "name": "stdout",
     "output_type": "stream",
     "text": [
      "{'Train':  best_epoch_indx:52\n",
      " auc:0.9363664739588389 \n",
      " apur:0.9212443090492679 \n",
      " f1:0.8349490274563763 \n",
      " precision:0.8206294566019179 \n",
      " recall:0.8497772119669 \n",
      ", 'Validation':  best_epoch_indx:52\n",
      " auc:0.8784937963059384 \n",
      " apur:0.8544323314878456 \n",
      " f1:0.7688838782412627 \n",
      " precision:0.7569367369589345 \n",
      " recall:0.7812142038946163 \n",
      ", 'Test':  best_epoch_indx:52\n",
      " auc:0.8846246224737812 \n",
      " apur:0.8577368858439283 \n",
      " f1:0.7702279839070183 \n",
      " precision:0.7517452006980803 \n",
      " recall:0.7896425297891843 \n",
      "}\n",
      "=====Epoch 53\n",
      "Training...\n"
     ]
    },
    {
     "name": "stderr",
     "output_type": "stream",
     "text": [
      "Iteration: 100%|██████████| 18/18 [00:01<00:00, 15.92it/s]\n",
      "Iteration: 100%|██████████| 7/7 [00:00<00:00, 15.51it/s]s]\n",
      "Iteration:  69%|██████▉   | 43/62 [00:05<00:02,  7.30it/s]"
     ]
    },
    {
     "name": "stdout",
     "output_type": "stream",
     "text": [
      "{'Train':  best_epoch_indx:53\n",
      " auc:0.9409530157626484 \n",
      " apur:0.9258178678858687 \n",
      " f1:0.8368766660165139 \n",
      " precision:0.8551687483390912 \n",
      " recall:0.819350732017823 \n",
      ", 'Validation':  best_epoch_indx:53\n",
      " auc:0.8808850243558148 \n",
      " apur:0.8582371748237072 \n",
      " f1:0.7588652482269505 \n",
      " precision:0.7838827838827839 \n",
      " recall:0.7353951890034365 \n",
      ", 'Test':  best_epoch_indx:53\n",
      " auc:0.8777358059667868 \n",
      " apur:0.8508343726681967 \n",
      " f1:0.7687219466099693 \n",
      " precision:0.7932715748415408 \n",
      " recall:0.7456461961503208 \n",
      "}\n",
      "=====Epoch 54\n",
      "Training...\n"
     ]
    },
    {
     "name": "stderr",
     "output_type": "stream",
     "text": [
      "Iteration: 100%|██████████| 62/62 [00:08<00:00,  7.20it/s]\n",
      "Iteration:  92%|█████████▏| 57/62 [00:07<00:00,  7.27it/s]"
     ]
    },
    {
     "name": "stdout",
     "output_type": "stream",
     "text": [
      "Evaluating...\n"
     ]
    },
    {
     "name": "stderr",
     "output_type": "stream",
     "text": [
      "Iteration: 100%|██████████| 62/62 [00:08<00:00,  7.26it/s]\n",
      "Iteration:   0%|          | 0/62 [00:00<?, ?it/s]"
     ]
    },
    {
     "name": "stdout",
     "output_type": "stream",
     "text": [
      "Evaluating...\n"
     ]
    },
    {
     "name": "stderr",
     "output_type": "stream",
     "text": [
      "Iteration: 100%|██████████| 62/62 [00:08<00:00,  7.25it/s]\n",
      "Iteration:  66%|██████▌   | 41/62 [00:05<00:02,  7.27it/s]"
     ]
    },
    {
     "name": "stdout",
     "output_type": "stream",
     "text": [
      "Evaluating...\n"
     ]
    },
    {
     "name": "stderr",
     "output_type": "stream",
     "text": [
      "Iteration: 100%|██████████| 62/62 [00:04<00:00, 15.17it/s]\n",
      "Iteration: 100%|██████████| 62/62 [00:04<00:00, 15.36it/s]\n",
      "Iteration: 100%|██████████| 62/62 [00:08<00:00,  7.10it/s]\n",
      "Iteration: 100%|██████████| 18/18 [00:01<00:00, 15.79it/s]\n",
      "Iteration:  44%|████▍     | 8/18 [00:00<00:00, 15.31it/s]]"
     ]
    },
    {
     "name": "stdout",
     "output_type": "stream",
     "text": [
      "Evaluating...\n"
     ]
    },
    {
     "name": "stderr",
     "output_type": "stream",
     "text": [
      "Iteration: 100%|██████████| 7/7 [00:00<00:00, 15.41it/s]]]\n",
      "Iteration: 100%|██████████| 18/18 [00:01<00:00, 15.94it/s]\n",
      "Iteration:   0%|          | 0/7 [00:00<?, ?it/s] 7.22it/s]"
     ]
    },
    {
     "name": "stdout",
     "output_type": "stream",
     "text": [
      "{'Train':  best_epoch_indx:55\n",
      " auc:0.9440668298599678 \n",
      " apur:0.9281293875900252 \n",
      " f1:0.8450286983891871 \n",
      " precision:0.8200766650694777 \n",
      " recall:0.871546785486951 \n",
      ", 'Validation':  best_epoch_indx:55\n",
      " auc:0.8742011562744667 \n",
      " apur:0.8433526924378576 \n",
      " f1:0.7603583426651735 \n",
      " precision:0.7437020810514786 \n",
      " recall:0.7777777777777778 \n",
      ", 'Test':  best_epoch_indx:55\n",
      " auc:0.8821631962914059 \n",
      " apur:0.8564748351547802 \n",
      " f1:0.7707207207207206 \n",
      " precision:0.7577502214348981 \n",
      " recall:0.7841429880843263 \n",
      "}\n",
      "=====Epoch 56\n",
      "Training...\n"
     ]
    },
    {
     "name": "stderr",
     "output_type": "stream",
     "text": [
      "Iteration: 100%|██████████| 62/62 [00:08<00:00,  7.30it/s]\n",
      "Iteration: 100%|██████████| 7/7 [00:00<00:00, 15.53it/s]s]\n",
      "Iteration:  29%|██▉       | 18/62 [00:01<00:02, 15.24it/s]"
     ]
    },
    {
     "name": "stdout",
     "output_type": "stream",
     "text": [
      "Evaluating...\n",
      "{'Train':  best_epoch_indx:55\n",
      " auc:0.9436897268940228 \n",
      " apur:0.92797070406596 \n",
      " f1:0.8460253634395298 \n",
      " precision:0.822864019253911 \n",
      " recall:0.8705283259070655 \n",
      ", 'Validation':  best_epoch_indx:55\n",
      " auc:0.8724299119488124 \n",
      " apur:0.8394415058039479 \n",
      " f1:0.7577639751552796 \n",
      " precision:0.7472160356347439 \n",
      " recall:0.7686139747995419 \n",
      ", 'Test':  best_epoch_indx:55\n",
      " auc:0.8842199878405195 \n",
      " apur:0.8576296325669299 \n",
      " f1:0.7739786856127885 \n",
      " precision:0.7506459948320413 \n",
      " recall:0.7988084326306141 \n",
      "}\n",
      "=====Epoch 56\n",
      "Training...\n"
     ]
    },
    {
     "name": "stderr",
     "output_type": "stream",
     "text": [
      "Iteration: 100%|██████████| 62/62 [00:04<00:00, 15.24it/s]\n",
      "Iteration: 100%|██████████| 18/18 [00:01<00:00, 15.99it/s]\n",
      "Iteration: 100%|██████████| 7/7 [00:00<00:00, 15.60it/s]s]\n",
      "Iteration: 100%|██████████| 62/62 [00:04<00:00, 15.28it/s]\n",
      "Iteration:  74%|███████▍  | 46/62 [00:03<00:01, 15.35it/s]"
     ]
    },
    {
     "name": "stdout",
     "output_type": "stream",
     "text": [
      "{'Train':  best_epoch_indx:55\n",
      " auc:0.9378386077400308 \n",
      " apur:0.9213243129416667 \n",
      " f1:0.8370963826171401 \n",
      " precision:0.7999072033406798 \n",
      " recall:0.8779121578612349 \n",
      ", 'Validation':  best_epoch_indx:55\n",
      " auc:0.8777262892383167 \n",
      " apur:0.8606684183781256 \n",
      " f1:0.7638965327462851 \n",
      " precision:0.7351694915254238 \n",
      " recall:0.7949599083619702 \n",
      ", 'Test':  best_epoch_indx:55\n",
      " auc:0.8864845073396685 \n",
      " apur:0.8638027679673002 \n",
      " f1:0.7731277533039648 \n",
      " precision:0.7442748091603053 \n",
      " recall:0.8043079743354721 \n",
      "}\n",
      "=====Epoch 56\n",
      "Training...\n"
     ]
    },
    {
     "name": "stderr",
     "output_type": "stream",
     "text": [
      "Iteration: 100%|██████████| 62/62 [00:04<00:00, 15.29it/s]\n",
      "Iteration: 100%|██████████| 18/18 [00:01<00:00, 16.01it/s]\n",
      "Iteration: 100%|██████████| 7/7 [00:00<00:00, 15.59it/s]]]\n",
      "Iteration:  56%|█████▌    | 10/18 [00:00<00:00, 15.31it/s]"
     ]
    },
    {
     "name": "stdout",
     "output_type": "stream",
     "text": [
      "{'Train':  best_epoch_indx:53\n",
      " auc:0.935882407932838 \n",
      " apur:0.9197454217922233 \n",
      " f1:0.8343225154691248 \n",
      " precision:0.8276337216585243 \n",
      " recall:0.841120305537874 \n",
      ", 'Validation':  best_epoch_indx:53\n",
      " auc:0.8760071119750387 \n",
      " apur:0.8538413179602832 \n",
      " f1:0.7659817351598174 \n",
      " precision:0.7633674630261661 \n",
      " recall:0.7686139747995419 \n",
      ", 'Test':  best_epoch_indx:53\n",
      " auc:0.883853439405479 \n",
      " apur:0.8562706181917915 \n",
      " f1:0.773435735260899 \n",
      " precision:0.7625835189309577 \n",
      " recall:0.7846012832263978 \n",
      "}\n",
      "=====Epoch 54\n",
      "Training...\n"
     ]
    },
    {
     "name": "stderr",
     "output_type": "stream",
     "text": [
      "Iteration: 100%|██████████| 18/18 [00:01<00:00, 15.85it/s]\n",
      "Iteration: 100%|██████████| 62/62 [00:08<00:00,  7.22it/s]\n",
      "Iteration:   3%|▎         | 2/62 [00:00<00:03, 15.15it/s]]"
     ]
    },
    {
     "name": "stdout",
     "output_type": "stream",
     "text": [
      "Evaluating...\n"
     ]
    },
    {
     "name": "stderr",
     "output_type": "stream",
     "text": [
      "Iteration: 100%|██████████| 62/62 [00:08<00:00,  7.08it/s]\n",
      "Iteration:  16%|█▌        | 10/62 [00:00<00:04, 12.19it/s]"
     ]
    },
    {
     "name": "stdout",
     "output_type": "stream",
     "text": [
      "Evaluating...\n"
     ]
    },
    {
     "name": "stderr",
     "output_type": "stream",
     "text": [
      "Iteration: 100%|██████████| 7/7 [00:00<00:00, 14.35it/s]s]\n",
      "Iteration:   0%|          | 0/62 [00:00<?, ?it/s]7.23it/s]"
     ]
    },
    {
     "name": "stdout",
     "output_type": "stream",
     "text": [
      "{'Train':  best_epoch_indx:54\n",
      " auc:0.944821892545678 \n",
      " apur:0.9301120393596862 \n",
      " f1:0.8433672477480396 \n",
      " precision:0.85889651531151 \n",
      " recall:0.8283895607893061 \n",
      ", 'Validation':  best_epoch_indx:54\n",
      " auc:0.8793683301128892 \n",
      " apur:0.8581629394626065 \n",
      " f1:0.7617938264414676 \n",
      " precision:0.7748815165876777 \n",
      " recall:0.7491408934707904 \n",
      ", 'Test':  best_epoch_indx:54\n",
      " auc:0.8832506241763804 \n",
      " apur:0.8600272149773053 \n",
      " f1:0.7760707635009311 \n",
      " precision:0.7885525070955535 \n",
      " recall:0.7639780018331805 \n",
      "}\n",
      "=====Epoch 55\n",
      "Training...\n"
     ]
    },
    {
     "name": "stderr",
     "output_type": "stream",
     "text": [
      "Iteration: 100%|██████████| 62/62 [00:08<00:00,  7.22it/s]\n",
      "Iteration:  77%|███████▋  | 48/62 [00:06<00:01,  7.32it/s]"
     ]
    },
    {
     "name": "stdout",
     "output_type": "stream",
     "text": [
      "Evaluating...\n"
     ]
    },
    {
     "name": "stderr",
     "output_type": "stream",
     "text": [
      "Iteration: 100%|██████████| 62/62 [00:04<00:00, 14.53it/s]\n",
      "Iteration: 100%|██████████| 62/62 [00:04<00:00, 14.52it/s]\n",
      "Iteration: 100%|██████████| 62/62 [00:08<00:00,  7.03it/s]\n"
     ]
    },
    {
     "name": "stdout",
     "output_type": "stream",
     "text": [
      "Evaluating...\n"
     ]
    },
    {
     "name": "stderr",
     "output_type": "stream",
     "text": [
      "Iteration: 100%|██████████| 18/18 [00:01<00:00, 15.86it/s]\n",
      "Iteration: 100%|██████████| 7/7 [00:00<00:00, 15.51it/s]]]\n",
      "Iteration:  78%|███████▊  | 14/18 [00:00<00:00, 15.59it/s]"
     ]
    },
    {
     "name": "stdout",
     "output_type": "stream",
     "text": [
      "{'Train':  best_epoch_indx:56\n",
      " auc:0.9467484737099402 \n",
      " apur:0.9316936579780386 \n",
      " f1:0.8500306560392398 \n",
      " precision:0.8198698994677706 \n",
      " recall:0.8824952259707193 \n",
      ", 'Validation':  best_epoch_indx:56\n",
      " auc:0.8772412941943296 \n",
      " apur:0.8486974730614095 \n",
      " f1:0.7650334075723831 \n",
      " precision:0.7443120260021668 \n",
      " recall:0.7869415807560137 \n",
      ", 'Test':  best_epoch_indx:56\n",
      " auc:0.8816599823597275 \n",
      " apur:0.8562771511751248 \n",
      " f1:0.769471100200848 \n",
      " precision:0.7498912570682905 \n",
      " recall:0.7901008249312558 \n",
      "}\n",
      "=====Epoch 57\n",
      "Training...\n"
     ]
    },
    {
     "name": "stderr",
     "output_type": "stream",
     "text": [
      "Iteration: 100%|██████████| 18/18 [00:01<00:00, 16.01it/s]\n",
      "Iteration: 100%|██████████| 7/7 [00:00<00:00, 15.70it/s]s]\n",
      "Iteration:  55%|█████▍    | 34/62 [00:04<00:03,  7.32it/s]"
     ]
    },
    {
     "name": "stdout",
     "output_type": "stream",
     "text": [
      "{'Train':  best_epoch_indx:56\n",
      " auc:0.9472106549985444 \n",
      " apur:0.9320058680896668 \n",
      " f1:0.8527931398744796 \n",
      " precision:0.8329691672736101 \n",
      " recall:0.8735837046467219 \n",
      ", 'Validation':  best_epoch_indx:56\n",
      " auc:0.8743641068956074 \n",
      " apur:0.8438547818322015 \n",
      " f1:0.767836919592299 \n",
      " precision:0.7592385218365062 \n",
      " recall:0.7766323024054983 \n",
      ", 'Test':  best_epoch_indx:56\n",
      " auc:0.8860176775392176 \n",
      " apur:0.8594150007607516 \n",
      " f1:0.779736665922785 \n",
      " precision:0.7598956067855589 \n",
      " recall:0.8006416131989 \n",
      "}\n",
      "=====Epoch 57\n",
      "Training...\n"
     ]
    },
    {
     "name": "stderr",
     "output_type": "stream",
     "text": [
      "Iteration: 100%|██████████| 62/62 [00:04<00:00, 14.69it/s]\n",
      "Iteration: 100%|██████████| 18/18 [00:01<00:00, 16.05it/s]\n",
      "Iteration: 100%|██████████| 7/7 [00:00<00:00, 15.55it/s]s]\n",
      "Iteration: 100%|██████████| 62/62 [00:04<00:00, 15.16it/s]\n",
      "Iteration:  85%|████████▌ | 53/62 [00:07<00:01,  7.33it/s]"
     ]
    },
    {
     "name": "stdout",
     "output_type": "stream",
     "text": [
      "{'Train':  best_epoch_indx:56\n",
      " auc:0.9435183241147578 \n",
      " apur:0.9285121559029094 \n",
      " f1:0.8419501569607278 \n",
      " precision:0.8474335826670105 \n",
      " recall:0.8365372374283896 \n",
      ", 'Validation':  best_epoch_indx:56\n",
      " auc:0.8812263528758374 \n",
      " apur:0.8598069789885326 \n",
      " f1:0.7658079625292741 \n",
      " precision:0.7832335329341318 \n",
      " recall:0.7491408934707904 \n",
      ", 'Test':  best_epoch_indx:56\n",
      " auc:0.8875688098743539 \n",
      " apur:0.8630295791478627 \n",
      " f1:0.7714619883040935 \n",
      " precision:0.78786430960344 \n",
      " recall:0.7557286892758937 \n",
      "}\n",
      "=====Epoch 57\n",
      "Training...\n"
     ]
    },
    {
     "name": "stderr",
     "output_type": "stream",
     "text": [
      "Iteration: 100%|██████████| 62/62 [00:08<00:00,  7.30it/s]\n",
      "Iteration: 100%|██████████| 18/18 [00:01<00:00, 15.88it/s]\n",
      "Iteration:   3%|▎         | 2/62 [00:00<00:03, 15.01it/s]]"
     ]
    },
    {
     "name": "stdout",
     "output_type": "stream",
     "text": [
      "Evaluating...\n"
     ]
    },
    {
     "name": "stderr",
     "output_type": "stream",
     "text": [
      "Iteration: 100%|██████████| 7/7 [00:00<00:00, 15.55it/s]s]\n",
      "Iteration:  55%|█████▍    | 34/62 [00:04<00:03,  7.08it/s]"
     ]
    },
    {
     "name": "stdout",
     "output_type": "stream",
     "text": [
      "{'Train':  best_epoch_indx:54\n",
      " auc:0.9342550638651089 \n",
      " apur:0.9188591915666142 \n",
      " f1:0.8339797322657324 \n",
      " precision:0.81982535973435 \n",
      " recall:0.8486314449395289 \n",
      ", 'Validation':  best_epoch_indx:54\n",
      " auc:0.8771786208785063 \n",
      " apur:0.8551799460689754 \n",
      " f1:0.7724449463579898 \n",
      " precision:0.7616926503340757 \n",
      " recall:0.7835051546391752 \n",
      ", 'Test':  best_epoch_indx:54\n",
      " auc:0.8814913439485745 \n",
      " apur:0.8518058488051966 \n",
      " f1:0.7740923352756611 \n",
      " precision:0.7574561403508772 \n",
      " recall:0.7914757103574702 \n",
      "}\n",
      "=====Epoch 55\n",
      "Training...\n"
     ]
    },
    {
     "name": "stderr",
     "output_type": "stream",
     "text": [
      "Iteration: 100%|██████████| 62/62 [00:08<00:00,  7.23it/s]\n",
      "Iteration:  92%|█████████▏| 57/62 [00:07<00:00,  7.31it/s]"
     ]
    },
    {
     "name": "stdout",
     "output_type": "stream",
     "text": [
      "Evaluating...\n"
     ]
    },
    {
     "name": "stderr",
     "output_type": "stream",
     "text": [
      "Iteration: 100%|██████████| 62/62 [00:04<00:00, 15.35it/s]\n",
      "Iteration: 100%|██████████| 62/62 [00:08<00:00,  7.29it/s]\n",
      "Iteration:   0%|          | 0/62 [00:00<?, ?it/s]"
     ]
    },
    {
     "name": "stdout",
     "output_type": "stream",
     "text": [
      "Evaluating...\n"
     ]
    },
    {
     "name": "stderr",
     "output_type": "stream",
     "text": [
      "Iteration: 100%|██████████| 18/18 [00:01<00:00, 15.86it/s]\n",
      "Iteration: 100%|██████████| 7/7 [00:00<00:00, 15.51it/s]s]\n",
      "Iteration:  52%|█████▏    | 32/62 [00:02<00:01, 15.17it/s]"
     ]
    },
    {
     "name": "stdout",
     "output_type": "stream",
     "text": [
      "{'Train':  best_epoch_indx:55\n",
      " auc:0.942681212277993 \n",
      " apur:0.9277943743029186 \n",
      " f1:0.8384902204487473 \n",
      " precision:0.8623519913885899 \n",
      " recall:0.8159134309357098 \n",
      ", 'Validation':  best_epoch_indx:55\n",
      " auc:0.8799102132435466 \n",
      " apur:0.8574986949792682 \n",
      " f1:0.7630473905218956 \n",
      " precision:0.801007556675063 \n",
      " recall:0.7285223367697594 \n",
      ", 'Test':  best_epoch_indx:55\n",
      " auc:0.8807358646038754 \n",
      " apur:0.8561289067007282 \n",
      " f1:0.7729400749063672 \n",
      " precision:0.7899521531100478 \n",
      " recall:0.7566452795600367 \n",
      "}\n",
      "=====Epoch 56\n",
      "Training...\n"
     ]
    },
    {
     "name": "stderr",
     "output_type": "stream",
     "text": [
      "Iteration: 100%|██████████| 62/62 [00:08<00:00,  7.19it/s]\n",
      "Iteration:   3%|▎         | 2/62 [00:00<00:03, 15.16it/s]]"
     ]
    },
    {
     "name": "stdout",
     "output_type": "stream",
     "text": [
      "Evaluating...\n"
     ]
    },
    {
     "name": "stderr",
     "output_type": "stream",
     "text": [
      "Iteration: 100%|██████████| 62/62 [00:04<00:00, 15.16it/s]\n",
      "Iteration: 100%|██████████| 62/62 [00:04<00:00, 15.40it/s]\n",
      "Iteration: 100%|██████████| 62/62 [00:08<00:00,  7.26it/s]\n",
      "Iteration:  39%|███▊      | 24/62 [00:03<00:05,  7.30it/s]"
     ]
    },
    {
     "name": "stdout",
     "output_type": "stream",
     "text": [
      "Evaluating...\n"
     ]
    },
    {
     "name": "stderr",
     "output_type": "stream",
     "text": [
      "Iteration: 100%|██████████| 18/18 [00:01<00:00, 15.80it/s]\n",
      "Iteration: 100%|██████████| 7/7 [00:00<00:00, 15.44it/s]s]\n",
      "Iteration:  16%|█▌        | 10/62 [00:00<00:03, 15.24it/s]"
     ]
    },
    {
     "name": "stdout",
     "output_type": "stream",
     "text": [
      "{'Train':  best_epoch_indx:57\n",
      " auc:0.9504948556001284 \n",
      " apur:0.9358923103449813 \n",
      " f1:0.8554020100502513 \n",
      " precision:0.8442653440793553 \n",
      " recall:0.8668364099299809 \n",
      ", 'Validation':  best_epoch_indx:57\n",
      " auc:0.8792805874707363 \n",
      " apur:0.8460493374460629 \n",
      " f1:0.7611428571428571 \n",
      " precision:0.7594070695553021 \n",
      " recall:0.7628865979381443 \n",
      ", 'Test':  best_epoch_indx:57\n",
      " auc:0.8828247836874714 \n",
      " apur:0.8555615391598987 \n",
      " f1:0.7678244972577697 \n",
      " precision:0.7657247037374658 \n",
      " recall:0.76993583868011 \n",
      "}\n",
      "=====Epoch 58\n",
      "Training...\n"
     ]
    },
    {
     "name": "stderr",
     "output_type": "stream",
     "text": [
      "Iteration: 100%|██████████| 18/18 [00:01<00:00, 16.01it/s]\n",
      "Iteration: 100%|██████████| 7/7 [00:00<00:00, 15.47it/s]s]\n",
      "Iteration:  77%|███████▋  | 48/62 [00:03<00:00, 15.17it/s]"
     ]
    },
    {
     "name": "stdout",
     "output_type": "stream",
     "text": [
      "{'Train':  best_epoch_indx:57\n",
      " auc:0.9486917042744111 \n",
      " apur:0.9339444266791834 \n",
      " f1:0.8525433066046398 \n",
      " precision:0.821032775288847 \n",
      " recall:0.8865690642902609 \n",
      ", 'Validation':  best_epoch_indx:57\n",
      " auc:0.8743245744963958 \n",
      " apur:0.8414808567224396 \n",
      " f1:0.7646408839779005 \n",
      " precision:0.7385272145144077 \n",
      " recall:0.7926689576174112 \n",
      ", 'Test':  best_epoch_indx:57\n",
      " auc:0.8833856437889436 \n",
      " apur:0.8541081256816592 \n",
      " f1:0.7775103915992124 \n",
      " precision:0.7438258685642528 \n",
      " recall:0.8143904674610449 \n",
      "}\n",
      "=====Epoch 58\n",
      "Training...\n"
     ]
    },
    {
     "name": "stderr",
     "output_type": "stream",
     "text": [
      "Iteration: 100%|██████████| 62/62 [00:04<00:00, 15.23it/s]\n",
      "Iteration: 100%|██████████| 18/18 [00:01<00:00, 15.98it/s]\n",
      "Iteration: 100%|██████████| 62/62 [00:04<00:00, 15.23it/s]\n",
      "Iteration: 100%|██████████| 62/62 [00:08<00:00,  7.29it/s]\n",
      "Iteration:  47%|████▋     | 29/62 [00:03<00:04,  7.34it/s]"
     ]
    },
    {
     "name": "stdout",
     "output_type": "stream",
     "text": [
      "Evaluating...\n"
     ]
    },
    {
     "name": "stderr",
     "output_type": "stream",
     "text": [
      "Iteration: 100%|██████████| 18/18 [00:01<00:00, 15.78it/s]\n",
      "Iteration: 100%|██████████| 7/7 [00:00<00:00, 14.22it/s]s]\n",
      "Iteration:  94%|█████████▎| 58/62 [00:08<00:00,  7.19it/s]"
     ]
    },
    {
     "name": "stdout",
     "output_type": "stream",
     "text": [
      "{'Train':  best_epoch_indx:57\n",
      " auc:0.9452074760077861 \n",
      " apur:0.9302714216180192 \n",
      " f1:0.8460210930009587 \n",
      " precision:0.8495507060333761 \n",
      " recall:0.8425206874602165 \n",
      ", 'Validation':  best_epoch_indx:57\n",
      " auc:0.8791484914050779 \n",
      " apur:0.8592863021835643 \n",
      " f1:0.762405137186223 \n",
      " precision:0.7773809523809524 \n",
      " recall:0.7479954180985109 \n",
      ", 'Test':  best_epoch_indx:57\n",
      " auc:0.8899108385180319 \n",
      " apur:0.866314116459348 \n",
      " f1:0.7749128919860627 \n",
      " precision:0.7856806406029204 \n",
      " recall:0.7644362969752521 \n",
      "}\n",
      "=====Epoch 58\n",
      "Training...\n"
     ]
    },
    {
     "name": "stderr",
     "output_type": "stream",
     "text": [
      "Iteration: 100%|██████████| 62/62 [00:08<00:00,  7.19it/s]\n",
      "Iteration:   0%|          | 0/62 [00:00<?, ?it/s]"
     ]
    },
    {
     "name": "stdout",
     "output_type": "stream",
     "text": [
      "Evaluating...\n"
     ]
    },
    {
     "name": "stderr",
     "output_type": "stream",
     "text": [
      "Iteration: 100%|██████████| 62/62 [00:04<00:00, 14.56it/s]\n",
      "Iteration: 100%|██████████| 62/62 [00:08<00:00,  7.29it/s]\n",
      "Iteration:  11%|█         | 2/18 [00:00<00:01, 15.56it/s]"
     ]
    },
    {
     "name": "stdout",
     "output_type": "stream",
     "text": [
      "Evaluating...\n"
     ]
    },
    {
     "name": "stderr",
     "output_type": "stream",
     "text": [
      "Iteration: 100%|██████████| 7/7 [00:00<00:00, 14.44it/s]s]\n",
      "Iteration:  78%|███████▊  | 14/18 [00:00<00:00, 15.38it/s]"
     ]
    },
    {
     "name": "stdout",
     "output_type": "stream",
     "text": [
      "{'Train':  best_epoch_indx:55\n",
      " auc:0.9405849592622122 \n",
      " apur:0.9258786689474116 \n",
      " f1:0.837272113436867 \n",
      " precision:0.8084400189663348 \n",
      " recall:0.8682367918523234 \n",
      ", 'Validation':  best_epoch_indx:55\n",
      " auc:0.8784532997018677 \n",
      " apur:0.8595286403523694 \n",
      " f1:0.7740144364242088 \n",
      " precision:0.7510775862068966 \n",
      " recall:0.7983963344788088 \n",
      ", 'Test':  best_epoch_indx:55\n",
      " auc:0.885273552341504 \n",
      " apur:0.8584847034136236 \n",
      " f1:0.7739092111062141 \n",
      " precision:0.7453310696095077 \n",
      " recall:0.8047662694775435 \n",
      "}\n",
      "=====Epoch 56\n",
      "Training...\n"
     ]
    },
    {
     "name": "stderr",
     "output_type": "stream",
     "text": [
      "Iteration: 100%|██████████| 18/18 [00:01<00:00, 15.77it/s]\n",
      "Iteration: 100%|██████████| 62/62 [00:04<00:00, 14.41it/s]\n",
      "Iteration: 100%|██████████| 62/62 [00:04<00:00, 14.69it/s]\n",
      "Iteration: 100%|██████████| 18/18 [00:01<00:00, 15.77it/s]\n",
      "Iteration: 100%|██████████| 18/18 [00:01<00:00, 15.97it/s]\n",
      "Iteration: 100%|██████████| 7/7 [00:00<00:00, 15.20it/s]s]\n",
      "Iteration:  29%|██▊       | 2/7 [00:00<00:00, 14.51it/s]s]"
     ]
    },
    {
     "name": "stdout",
     "output_type": "stream",
     "text": [
      "{'Train':  best_epoch_indx:58\n",
      " auc:0.9534164960203024 \n",
      " apur:0.9396222684590866 \n",
      " f1:0.8596393381669455 \n",
      " precision:0.8374788698382033 \n",
      " recall:0.883004455760662 \n",
      ", 'Validation':  best_epoch_indx:58\n",
      " auc:0.8825174231817989 \n",
      " apur:0.8504066302310139 \n",
      " f1:0.7635746606334842 \n",
      " precision:0.7541899441340782 \n",
      " recall:0.7731958762886598 \n",
      ", 'Test':  best_epoch_indx:58\n",
      " auc:0.8853521216332905 \n",
      " apur:0.8593002691964643 \n",
      " f1:0.7730337078651685 \n",
      " precision:0.7583774250440917 \n",
      " recall:0.7882676443629697 \n",
      "}\n",
      "=====Epoch 59\n",
      "Training...\n"
     ]
    },
    {
     "name": "stderr",
     "output_type": "stream",
     "text": [
      "Iteration: 100%|██████████| 7/7 [00:00<00:00, 15.58it/s]s]\n",
      "Iteration: 100%|██████████| 7/7 [00:00<00:00, 15.24it/s]]]\n",
      "Iteration:  85%|████████▌ | 53/62 [00:07<00:01,  7.27it/s]"
     ]
    },
    {
     "name": "stdout",
     "output_type": "stream",
     "text": [
      "{'Train':  best_epoch_indx:58\n",
      " auc:0.9513683942736303 \n",
      " apur:0.9379930383837167 \n",
      " f1:0.8541641263260578 \n",
      " precision:0.8195858195858196 \n",
      " recall:0.8917886696371737 \n",
      ", 'Validation':  best_epoch_indx:58\n",
      " auc:0.877282755003259 \n",
      " apur:0.8449209737038351 \n",
      " f1:0.7665198237885463 \n",
      " precision:0.7380699893955461 \n",
      " recall:0.7972508591065293 \n",
      ", 'Test':  best_epoch_indx:58\n",
      " auc:0.8872212037885733 \n",
      " apur:0.8606616050036123 \n",
      " f1:0.7809440939743312 \n",
      " precision:0.7432712215320911 \n",
      " recall:0.8226397800183318 \n",
      "}\n",
      "=====Epoch 59\n",
      "Training...\n",
      "{'Train':  best_epoch_indx:56\n",
      " auc:0.9484565445871735 \n",
      " apur:0.9349729629898794 \n",
      " f1:0.850063694267516 \n",
      " precision:0.8506054811982154 \n",
      " recall:0.8495225970719287 \n",
      ", 'Validation':  best_epoch_indx:56\n",
      " auc:0.8821095645265176 \n",
      " apur:0.8609286026941947 \n",
      " f1:0.7581849511774842 \n",
      " precision:0.7603686635944701 \n",
      " recall:0.7560137457044673 \n",
      ", 'Test':  best_epoch_indx:56\n",
      " auc:0.8839326661049851 \n",
      " apur:0.85958853891922 \n",
      " f1:0.7797468354430379 \n",
      " precision:0.7831715210355987 \n",
      " recall:0.7763519706691109 \n",
      "}\n",
      "=====Epoch 57\n",
      "Training...\n"
     ]
    },
    {
     "name": "stderr",
     "output_type": "stream",
     "text": [
      "Iteration: 100%|██████████| 62/62 [00:08<00:00,  7.25it/s]\n",
      "Iteration:  21%|██        | 13/62 [00:01<00:06,  7.18it/s]"
     ]
    },
    {
     "name": "stdout",
     "output_type": "stream",
     "text": [
      "Evaluating...\n"
     ]
    },
    {
     "name": "stderr",
     "output_type": "stream",
     "text": [
      "Iteration: 100%|██████████| 62/62 [00:08<00:00,  7.24it/s]\n",
      "Iteration:   3%|▎         | 2/62 [00:00<00:03, 15.18it/s]]"
     ]
    },
    {
     "name": "stdout",
     "output_type": "stream",
     "text": [
      "Evaluating...\n"
     ]
    },
    {
     "name": "stderr",
     "output_type": "stream",
     "text": [
      "Iteration: 100%|██████████| 62/62 [00:04<00:00, 14.65it/s]\n",
      "Iteration: 100%|██████████| 18/18 [00:01<00:00, 15.98it/s]\n",
      "Iteration: 100%|██████████| 7/7 [00:00<00:00, 15.57it/s]s]\n",
      "Iteration: 100%|██████████| 62/62 [00:04<00:00, 14.63it/s]\n"
     ]
    },
    {
     "name": "stdout",
     "output_type": "stream",
     "text": [
      "{'Train':  best_epoch_indx:58\n",
      " auc:0.9464559047611676 \n",
      " apur:0.932040328009785 \n",
      " f1:0.8499448326590658 \n",
      " precision:0.8196004255822201 \n",
      " recall:0.882622533418205 \n",
      ", 'Validation':  best_epoch_indx:58\n",
      " auc:0.8814095517990134 \n",
      " apur:0.8614194973102771 \n",
      " f1:0.7748749305169539 \n",
      " precision:0.7526997840172787 \n",
      " recall:0.7983963344788088 \n",
      ", 'Test':  best_epoch_indx:58\n",
      " auc:0.8891703731099763 \n",
      " apur:0.8650803081253567 \n",
      " f1:0.7797062750333779 \n",
      " precision:0.7577854671280276 \n",
      " recall:0.8029330889092575 \n",
      "}\n",
      "=====Epoch 59\n",
      "Training...\n"
     ]
    },
    {
     "name": "stderr",
     "output_type": "stream",
     "text": [
      "Iteration: 100%|██████████| 62/62 [00:08<00:00,  7.24it/s]\n",
      "Iteration:  44%|████▍     | 8/18 [00:00<00:00, 15.27it/s]]"
     ]
    },
    {
     "name": "stdout",
     "output_type": "stream",
     "text": [
      "Evaluating...\n"
     ]
    },
    {
     "name": "stderr",
     "output_type": "stream",
     "text": [
      "Iteration: 100%|██████████| 62/62 [00:08<00:00,  7.31it/s]\n",
      "Iteration: 100%|██████████| 62/62 [00:08<00:00,  7.28it/s]\n",
      "Iteration:   3%|▎         | 2/62 [00:00<00:03, 15.38it/s]]"
     ]
    },
    {
     "name": "stdout",
     "output_type": "stream",
     "text": [
      "Evaluating...\n",
      "Evaluating...\n"
     ]
    },
    {
     "name": "stderr",
     "output_type": "stream",
     "text": [
      "Iteration: 100%|██████████| 18/18 [00:01<00:00, 15.97it/s]\n",
      "Iteration: 100%|██████████| 7/7 [00:00<00:00, 15.39it/s]s]\n",
      "Iteration:  24%|██▍       | 15/62 [00:02<00:06,  7.31it/s]"
     ]
    },
    {
     "name": "stdout",
     "output_type": "stream",
     "text": [
      "{'Train':  best_epoch_indx:56\n",
      " auc:0.9414574023207112 \n",
      " apur:0.9267752823901949 \n",
      " f1:0.838359543632439 \n",
      " precision:0.8130382775119617 \n",
      " recall:0.8653087205601527 \n",
      ", 'Validation':  best_epoch_indx:56\n",
      " auc:0.8769573358634069 \n",
      " apur:0.8529247706462539 \n",
      " f1:0.7741215839375347 \n",
      " precision:0.7543478260869565 \n",
      " recall:0.7949599083619702 \n",
      ", 'Test':  best_epoch_indx:56\n",
      " auc:0.8839956050591832 \n",
      " apur:0.857617720785756 \n",
      " f1:0.7730870712401055 \n",
      " precision:0.7430262045646661 \n",
      " recall:0.8056828597616865 \n",
      "}\n",
      "=====Epoch 57\n",
      "Training...\n"
     ]
    },
    {
     "name": "stderr",
     "output_type": "stream",
     "text": [
      "Iteration: 100%|██████████| 62/62 [00:04<00:00, 15.16it/s]\n",
      "Iteration: 100%|██████████| 62/62 [00:04<00:00, 15.37it/s]\n",
      "Iteration: 100%|██████████| 62/62 [00:04<00:00, 15.26it/s]\n",
      "Iteration: 100%|██████████| 18/18 [00:01<00:00, 15.74it/s]\n",
      "Iteration: 100%|██████████| 18/18 [00:01<00:00, 15.97it/s]\n",
      "Iteration: 100%|██████████| 18/18 [00:01<00:00, 15.89it/s]\n",
      "Iteration: 100%|██████████| 7/7 [00:00<00:00, 15.34it/s]s]\n",
      "Iteration:  79%|███████▉  | 49/62 [00:06<00:01,  7.20it/s]"
     ]
    },
    {
     "name": "stdout",
     "output_type": "stream",
     "text": [
      "{'Train':  best_epoch_indx:59\n",
      " auc:0.9550616262127106 \n",
      " apur:0.9417037173262806 \n",
      " f1:0.8619452313503304 \n",
      " precision:0.8525529265255293 \n",
      " recall:0.871546785486951 \n",
      ", 'Validation':  best_epoch_indx:59\n",
      " auc:0.8836252945645843 \n",
      " apur:0.8516413557517555 \n",
      " f1:0.7693194925028835 \n",
      " precision:0.7746806039488966 \n",
      " recall:0.7640320733104238 \n",
      ", 'Test':  best_epoch_indx:59\n",
      " auc:0.8846321861187666 \n",
      " apur:0.8585825620701899 \n",
      " f1:0.76993583868011 \n",
      " precision:0.76993583868011 \n",
      " recall:0.76993583868011 \n",
      "}\n",
      "=====Epoch 60\n",
      "Training...\n"
     ]
    },
    {
     "name": "stderr",
     "output_type": "stream",
     "text": [
      "Iteration: 100%|██████████| 62/62 [00:08<00:00,  7.24it/s]\n",
      "Iteration:   0%|          | 0/62 [00:00<?, ?it/s]"
     ]
    },
    {
     "name": "stdout",
     "output_type": "stream",
     "text": [
      "Evaluating...\n"
     ]
    },
    {
     "name": "stderr",
     "output_type": "stream",
     "text": [
      "Iteration: 100%|██████████| 62/62 [00:08<00:00,  7.10it/s]\n",
      "Iteration:  55%|█████▍    | 34/62 [00:02<00:01, 15.04it/s]"
     ]
    },
    {
     "name": "stdout",
     "output_type": "stream",
     "text": [
      "Evaluating...\n"
     ]
    },
    {
     "name": "stderr",
     "output_type": "stream",
     "text": [
      "Iteration: 100%|██████████| 7/7 [00:00<00:00, 14.72it/s]s]\n",
      "Iteration: 100%|██████████| 7/7 [00:00<00:00, 14.64it/s]\n"
     ]
    },
    {
     "name": "stdout",
     "output_type": "stream",
     "text": [
      "{'Train':  best_epoch_indx:59\n",
      " auc:0.9527541803238712 \n",
      " apur:0.9388542405606126 \n",
      " f1:0.8588056680161943 \n",
      " precision:0.8535143970828618 \n",
      " recall:0.8641629535327817 \n",
      ", 'Validation':  best_epoch_indx:59\n",
      " auc:0.8781206490255745 \n",
      " apur:0.8472244808156004 \n",
      " f1:0.7611428571428571 \n",
      " precision:0.7594070695553021 \n",
      " recall:0.7628865979381443 \n",
      ", 'Test':  best_epoch_indx:59\n",
      " auc:0.8885072848867532 \n",
      " apur:0.8629862570952427 \n",
      " f1:0.780741410488246 \n",
      " precision:0.7702943800178412 \n",
      " recall:0.7914757103574702 \n",
      "}\n",
      "=====Epoch 60\n",
      "Training...\n",
      "{'Train':  best_epoch_indx:57\n",
      " auc:0.9508500234540361 \n",
      " apur:0.9375531997583638 \n",
      " f1:0.852605074569049 \n",
      " precision:0.8649462929001834 \n",
      " recall:0.8406110757479313 \n",
      ", 'Validation':  best_epoch_indx:57\n",
      " auc:0.8820652111030118 \n",
      " apur:0.8595822380894649 \n",
      " f1:0.7576112412177987 \n",
      " precision:0.7748502994011977 \n",
      " recall:0.7411225658648339 \n",
      ", 'Test':  best_epoch_indx:57\n",
      " auc:0.8866373789838501 \n",
      " apur:0.8608239839088292 \n",
      " f1:0.7801683816651076 \n",
      " precision:0.7965616045845272 \n",
      " recall:0.7644362969752521 \n",
      "}\n",
      "=====Epoch 58\n",
      "Training...\n"
     ]
    },
    {
     "name": "stderr",
     "output_type": "stream",
     "text": [
      "Iteration: 100%|██████████| 62/62 [00:04<00:00, 15.10it/s]\n",
      "Iteration: 100%|██████████| 18/18 [00:01<00:00, 15.99it/s]\n",
      "Iteration: 100%|██████████| 7/7 [00:00<00:00, 15.50it/s]s]\n",
      "Iteration:  92%|█████████▏| 57/62 [00:07<00:00,  7.28it/s]"
     ]
    },
    {
     "name": "stdout",
     "output_type": "stream",
     "text": [
      "{'Train':  best_epoch_indx:59\n",
      " auc:0.949302202752294 \n",
      " apur:0.9351781293454986 \n",
      " f1:0.8552989560265739 \n",
      " precision:0.8501886792452831 \n",
      " recall:0.860471037555697 \n",
      ", 'Validation':  best_epoch_indx:59\n",
      " auc:0.8832068296558561 \n",
      " apur:0.8625653253619809 \n",
      " f1:0.7652474108170311 \n",
      " precision:0.7687861271676301 \n",
      " recall:0.7617411225658648 \n",
      ", 'Test':  best_epoch_indx:59\n",
      " auc:0.8889507186851977 \n",
      " apur:0.8663322881700983 \n",
      " f1:0.7778290993071593 \n",
      " precision:0.7839851024208566 \n",
      " recall:0.7717690192483959 \n",
      "}\n",
      "=====Epoch 60\n",
      "Training...\n"
     ]
    },
    {
     "name": "stderr",
     "output_type": "stream",
     "text": [
      "Iteration: 100%|██████████| 62/62 [00:04<00:00, 15.15it/s]\n",
      "Iteration: 100%|██████████| 62/62 [00:08<00:00,  7.21it/s]\n",
      "Iteration:  33%|███▎      | 6/18 [00:00<00:00, 15.04it/s]"
     ]
    },
    {
     "name": "stdout",
     "output_type": "stream",
     "text": [
      "Evaluating...\n"
     ]
    },
    {
     "name": "stderr",
     "output_type": "stream",
     "text": [
      "Iteration: 100%|██████████| 18/18 [00:01<00:00, 15.95it/s]\n",
      "Iteration: 100%|██████████| 62/62 [00:04<00:00, 15.12it/s]\n",
      "Iteration: 100%|██████████| 62/62 [00:08<00:00,  7.30it/s]\n",
      "Iteration: 100%|██████████| 62/62 [00:08<00:00,  7.30it/s]\n",
      "Iteration:  56%|█████▌    | 10/18 [00:00<00:00, 15.18it/s]"
     ]
    },
    {
     "name": "stdout",
     "output_type": "stream",
     "text": [
      "Evaluating...\n",
      "Evaluating...\n"
     ]
    },
    {
     "name": "stderr",
     "output_type": "stream",
     "text": [
      "Iteration: 100%|██████████| 18/18 [00:01<00:00, 15.77it/s]\n",
      "Iteration: 100%|██████████| 7/7 [00:00<00:00, 15.44it/s]s]\n",
      "Iteration:   0%|          | 0/62 [00:00<?, ?it/s]"
     ]
    },
    {
     "name": "stdout",
     "output_type": "stream",
     "text": [
      "{'Train':  best_epoch_indx:57\n",
      " auc:0.9447535636260352 \n",
      " apur:0.9303196870657022 \n",
      " f1:0.8411395461129889 \n",
      " precision:0.7997245495237002 \n",
      " recall:0.8870782940802037 \n",
      ", 'Validation':  best_epoch_indx:57\n",
      " auc:0.8807712481824739 \n",
      " apur:0.8579481490066194 \n",
      " f1:0.7720628045479156 \n",
      " precision:0.7320328542094456 \n",
      " recall:0.8167239404352806 \n",
      ", 'Test':  best_epoch_indx:57\n",
      " auc:0.887547276640161 \n",
      " apur:0.8618992615088115 \n",
      " f1:0.7743334055928895 \n",
      " precision:0.7346770876182641 \n",
      " recall:0.8185151237396884 \n",
      "}\n",
      "=====Epoch 58\n",
      "Training...\n",
      "{'Train':  best_epoch_indx:60\n",
      " auc:0.9562134192053229 \n",
      " apur:0.9432526635785078 \n",
      " f1:0.8642825828270808 \n",
      " precision:0.8505917159763313 \n",
      " recall:0.8784213876511776 \n",
      ", 'Validation':  best_epoch_indx:60\n",
      " auc:0.8823361526683404 \n",
      " apur:0.8528162784203297 \n",
      " f1:0.7628865979381443 \n",
      " precision:0.7628865979381443 \n",
      " recall:0.7628865979381443 \n",
      ", 'Test':  best_epoch_indx:60\n",
      " auc:0.8845406505784335 \n",
      " apur:0.8597979975534205 \n",
      " f1:0.7683177356767861 \n",
      " precision:0.7653478854024557 \n",
      " recall:0.7713107241063245 \n",
      "}\n",
      "=====Epoch 61\n",
      "Training...\n"
     ]
    },
    {
     "name": "stderr",
     "output_type": "stream",
     "text": [
      "Iteration: 100%|██████████| 7/7 [00:00<00:00, 15.43it/s]s]\n",
      "Iteration: 100%|██████████| 62/62 [00:08<00:00,  7.24it/s]\n",
      "Iteration:   0%|          | 0/62 [00:00<?, ?it/s]"
     ]
    },
    {
     "name": "stdout",
     "output_type": "stream",
     "text": [
      "Evaluating...\n"
     ]
    },
    {
     "name": "stderr",
     "output_type": "stream",
     "text": [
      "Iteration: 100%|██████████| 62/62 [00:04<00:00, 15.36it/s]\n",
      "Iteration: 100%|██████████| 62/62 [00:04<00:00, 14.74it/s]\n",
      "Iteration: 100%|██████████| 18/18 [00:01<00:00, 15.97it/s]\n",
      "Iteration: 100%|██████████| 18/18 [00:01<00:00, 16.00it/s]\n",
      "Iteration: 100%|██████████| 7/7 [00:00<00:00, 15.46it/s]s]\n",
      "Iteration:  77%|███████▋  | 48/62 [00:03<00:00, 15.19it/s]"
     ]
    },
    {
     "name": "stdout",
     "output_type": "stream",
     "text": [
      "{'Train':  best_epoch_indx:60\n",
      " auc:0.9541442778434721 \n",
      " apur:0.9404613206225948 \n",
      " f1:0.8615100154083205 \n",
      " precision:0.8350059737156511 \n",
      " recall:0.889751750477403 \n",
      ", 'Validation':  best_epoch_indx:60\n",
      " auc:0.8773396430899296 \n",
      " apur:0.8452446645565646 \n",
      " f1:0.769656699889258 \n",
      " precision:0.744908896034298 \n",
      " recall:0.7961053837342497 \n",
      ", 'Test':  best_epoch_indx:60\n",
      " auc:0.8861517713030087 \n",
      " apur:0.8592995234193179 \n",
      " f1:0.779518870006621 \n",
      " precision:0.7518092805449127 \n",
      " recall:0.8093492208982584 \n",
      "}\n",
      "=====Epoch 61\n",
      "Training...\n"
     ]
    },
    {
     "name": "stderr",
     "output_type": "stream",
     "text": [
      "Iteration: 100%|██████████| 62/62 [00:04<00:00, 15.27it/s]\n",
      "Iteration: 100%|██████████| 18/18 [00:01<00:00, 15.95it/s]\n",
      "Iteration: 100%|██████████| 7/7 [00:00<00:00, 15.38it/s]s]\n",
      "Iteration:  94%|█████████▎| 58/62 [00:08<00:00,  7.16it/s]"
     ]
    },
    {
     "name": "stdout",
     "output_type": "stream",
     "text": [
      "{'Train':  best_epoch_indx:60\n",
      " auc:0.9496784087640875 \n",
      " apur:0.9361465424519045 \n",
      " f1:0.8543713624131674 \n",
      " precision:0.8402264894140817 \n",
      " recall:0.8690006365372375 \n",
      ", 'Validation':  best_epoch_indx:60\n",
      " auc:0.8843079516046297 \n",
      " apur:0.8623217505662139 \n",
      " f1:0.775255391600454 \n",
      " precision:0.7682789651293588 \n",
      " recall:0.7823596792668958 \n",
      ", 'Test':  best_epoch_indx:60\n",
      " auc:0.8891838024388278 \n",
      " apur:0.8661859420330731 \n",
      " f1:0.7773964767787691 \n",
      " precision:0.7761534947464596 \n",
      " recall:0.7786434463794684 \n",
      "}\n",
      "=====Epoch 61\n",
      "Training...\n"
     ]
    },
    {
     "name": "stderr",
     "output_type": "stream",
     "text": [
      "Iteration: 100%|██████████| 62/62 [00:08<00:00,  7.22it/s]\n",
      "Iteration:   3%|▎         | 2/62 [00:00<00:03, 15.07it/s]]"
     ]
    },
    {
     "name": "stdout",
     "output_type": "stream",
     "text": [
      "Evaluating...\n"
     ]
    },
    {
     "name": "stderr",
     "output_type": "stream",
     "text": [
      "\r",
      "Iteration:  10%|▉         | 6/62 [00:00<00:07,  7.24it/s]\r",
      "Iteration:  98%|█████████▊| 61/62 [00:08<00:00,  6.62it/s]\r",
      "Iteration:  45%|████▌     | 28/62 [00:03<00:04,  7.33it/s]\r",
      "Iteration:   6%|▋         | 4/62 [00:00<00:03, 14.96it/s]\r",
      "Iteration: 100%|██████████| 62/62 [00:08<00:00,  7.03it/s]\r",
      "Iteration: 100%|██████████| 62/62 [00:08<00:00,  7.09it/s]\n",
      "\r",
      "Iteration:   0%|          | 0/62 [00:00<?, ?it/s]\r",
      "Iteration:  11%|█▏        | 7/62 [00:00<00:07,  7.20it/s]"
     ]
    },
    {
     "name": "stdout",
     "output_type": "stream",
     "text": [
      "Evaluating...\n"
     ]
    },
    {
     "name": "stderr",
     "output_type": "stream",
     "text": [
      "Iteration: 100%|██████████| 7/7 [00:00<00:00, 15.23it/s]s]\n",
      "Iteration:   2%|▏         | 1/62 [00:00<00:08,  7.30it/s]]"
     ]
    },
    {
     "name": "stdout",
     "output_type": "stream",
     "text": [
      "{'Train':  best_epoch_indx:58\n",
      " auc:0.9528058167200332 \n",
      " apur:0.9398543171016164 \n",
      " f1:0.8546238496685759 \n",
      " precision:0.8641332639250391 \n",
      " recall:0.8453214513049013 \n",
      ", 'Validation':  best_epoch_indx:58\n",
      " auc:0.884107396993995 \n",
      " apur:0.8622787527196866 \n",
      " f1:0.7665505226480835 \n",
      " precision:0.7773851590106007 \n",
      " recall:0.7560137457044673 \n",
      ", 'Test':  best_epoch_indx:58\n",
      " auc:0.8859019464427347 \n",
      " apur:0.8617558182558117 \n",
      " f1:0.7781649245063879 \n",
      " precision:0.7889778615167217 \n",
      " recall:0.7676443629697525 \n",
      "}\n",
      "=====Epoch 59\n",
      "Training...\n"
     ]
    },
    {
     "name": "stderr",
     "output_type": "stream",
     "text": [
      "Iteration: 100%|██████████| 62/62 [00:04<00:00, 14.61it/s]\n",
      "Iteration: 100%|██████████| 62/62 [00:04<00:00, 15.14it/s]\n",
      "Iteration: 100%|██████████| 62/62 [00:08<00:00,  7.16it/s]\n",
      "Iteration:  56%|█████▌    | 10/18 [00:00<00:00, 15.44it/s]"
     ]
    },
    {
     "name": "stdout",
     "output_type": "stream",
     "text": [
      "Evaluating...\n"
     ]
    },
    {
     "name": "stderr",
     "output_type": "stream",
     "text": [
      "Iteration: 100%|██████████| 18/18 [00:01<00:00, 15.92it/s]\n",
      "Iteration: 100%|██████████| 18/18 [00:01<00:00, 15.77it/s]\n",
      "Iteration: 100%|██████████| 7/7 [00:00<00:00, 15.52it/s]s]\n",
      "Iteration:   0%|          | 0/62 [00:00<?, ?it/s]7.26it/s]"
     ]
    },
    {
     "name": "stdout",
     "output_type": "stream",
     "text": [
      "{'Train':  best_epoch_indx:58\n",
      " auc:0.9463456986695836 \n",
      " apur:0.93308299032265 \n",
      " f1:0.8465828991725406 \n",
      " precision:0.8163120567375887 \n",
      " recall:0.8791852323360917 \n",
      ", 'Validation':  best_epoch_indx:58\n",
      " auc:0.8808570624149089 \n",
      " apur:0.8573035340102868 \n",
      " f1:0.7699115044247787 \n",
      " precision:0.7443850267379679 \n",
      " recall:0.7972508591065293 \n",
      ", 'Test':  best_epoch_indx:58\n",
      " auc:0.8872678848560084 \n",
      " apur:0.8608492709618953 \n",
      " f1:0.7755819060166887 \n",
      " precision:0.7445193929173693 \n",
      " recall:0.8093492208982584 \n",
      "}\n",
      "=====Epoch 59\n",
      "Training...\n",
      "{'Train':  best_epoch_indx:61\n",
      " auc:0.9554632460779124 \n",
      " apur:0.9431110445784766 \n",
      " f1:0.8626012145748988 \n",
      " precision:0.8572865585313718 \n",
      " recall:0.867982176957352 \n",
      ", 'Validation':  best_epoch_indx:61\n",
      " auc:0.8844718664306292 \n",
      " apur:0.8554608638383483 \n",
      " f1:0.7623474723997675 \n",
      " precision:0.7735849056603774 \n",
      " recall:0.7514318442153494 \n",
      ", 'Test':  best_epoch_indx:61\n",
      " auc:0.8847934924250869 \n",
      " apur:0.8594685048850469 \n",
      " f1:0.7681326272162099 \n",
      " precision:0.7718648773715873 \n",
      " recall:0.7644362969752521 \n",
      "}\n",
      "=====Epoch 62\n",
      "Training...\n"
     ]
    },
    {
     "name": "stderr",
     "output_type": "stream",
     "text": [
      "Iteration: 100%|██████████| 7/7 [00:00<00:00, 15.39it/s]s]\n",
      "Iteration: 100%|██████████| 62/62 [00:08<00:00,  7.10it/s]\n",
      "Iteration:   3%|▎         | 2/62 [00:00<00:03, 15.15it/s]]"
     ]
    },
    {
     "name": "stdout",
     "output_type": "stream",
     "text": [
      "Evaluating...\n"
     ]
    },
    {
     "name": "stderr",
     "output_type": "stream",
     "text": [
      "Iteration: 100%|██████████| 62/62 [00:04<00:00, 15.35it/s]\n",
      "Iteration: 100%|██████████| 62/62 [00:08<00:00,  7.31it/s]\n",
      "Iteration:   0%|          | 0/62 [00:00<?, ?it/s]"
     ]
    },
    {
     "name": "stdout",
     "output_type": "stream",
     "text": [
      "Evaluating...\n"
     ]
    },
    {
     "name": "stderr",
     "output_type": "stream",
     "text": [
      "Iteration: 100%|██████████| 18/18 [00:01<00:00, 15.93it/s]\n",
      "Iteration: 100%|██████████| 7/7 [00:00<00:00, 15.59it/s]s]\n",
      "Iteration:  55%|█████▍    | 34/62 [00:04<00:03,  7.22it/s]"
     ]
    },
    {
     "name": "stdout",
     "output_type": "stream",
     "text": [
      "{'Train':  best_epoch_indx:61\n",
      " auc:0.9540940647086046 \n",
      " apur:0.9402986355115438 \n",
      " f1:0.8608529755677273 \n",
      " precision:0.8332142006194901 \n",
      " recall:0.8903882877148314 \n",
      ", 'Validation':  best_epoch_indx:61\n",
      " auc:0.8778313875679282 \n",
      " apur:0.8481965036752541 \n",
      " f1:0.7684563758389262 \n",
      " precision:0.7508196721311475 \n",
      " recall:0.7869415807560137 \n",
      ", 'Test':  best_epoch_indx:61\n",
      " auc:0.886980714570082 \n",
      " apur:0.8612736217339698 \n",
      " f1:0.7825512227362855 \n",
      " precision:0.7535002121340687 \n",
      " recall:0.8139321723189734 \n",
      "}\n",
      "=====Epoch 62\n",
      "Training...\n"
     ]
    },
    {
     "name": "stderr",
     "output_type": "stream",
     "text": [
      "Iteration: 100%|██████████| 62/62 [00:04<00:00, 15.27it/s]\n",
      "Iteration: 100%|██████████| 18/18 [00:01<00:00, 16.03it/s]\n",
      "Iteration: 100%|██████████| 62/62 [00:04<00:00, 15.27it/s]\n",
      "Iteration: 100%|██████████| 7/7 [00:00<00:00, 15.54it/s]s]\n",
      "Iteration:  94%|█████████▎| 58/62 [00:08<00:00,  7.21it/s]"
     ]
    },
    {
     "name": "stdout",
     "output_type": "stream",
     "text": [
      "{'Train':  best_epoch_indx:61\n",
      " auc:0.9479339156448229 \n",
      " apur:0.9343682001945125 \n",
      " f1:0.8511365794972455 \n",
      " precision:0.846686822877299 \n",
      " recall:0.8556333545512412 \n",
      ", 'Validation':  best_epoch_indx:61\n",
      " auc:0.8808001743282384 \n",
      " apur:0.8583122997931865 \n",
      " f1:0.773933102652826 \n",
      " precision:0.7793263646922184 \n",
      " recall:0.7686139747995419 \n",
      ", 'Test':  best_epoch_indx:61\n",
      " auc:0.8865180034817465 \n",
      " apur:0.8611112981759145 \n",
      " f1:0.7711177968062948 \n",
      " precision:0.7788686302010285 \n",
      " recall:0.763519706691109 \n",
      "}\n",
      "=====Epoch 62\n",
      "Training...\n"
     ]
    },
    {
     "name": "stderr",
     "output_type": "stream",
     "text": [
      "Iteration: 100%|██████████| 62/62 [00:08<00:00,  7.26it/s]\n",
      "Iteration:   3%|▎         | 2/62 [00:00<00:03, 15.12it/s]]"
     ]
    },
    {
     "name": "stdout",
     "output_type": "stream",
     "text": [
      "Evaluating...\n",
      "Evaluating...\n"
     ]
    },
    {
     "name": "stderr",
     "output_type": "stream",
     "text": [
      "Iteration: 100%|██████████| 62/62 [00:08<00:00,  7.22it/s]\n",
      "Iteration: 100%|██████████| 18/18 [00:01<00:00, 15.86it/s]\n",
      "Iteration: 100%|██████████| 7/7 [00:00<00:00, 15.47it/s]]]\n",
      "Iteration:   0%|          | 0/62 [00:00<?, ?it/s]5.29it/s]"
     ]
    },
    {
     "name": "stdout",
     "output_type": "stream",
     "text": [
      "{'Train':  best_epoch_indx:59\n",
      " auc:0.9553534187063817 \n",
      " apur:0.9433672549878129 \n",
      " f1:0.8610306161018018 \n",
      " precision:0.8522259633370745 \n",
      " recall:0.8700190961171228 \n",
      ", 'Validation':  best_epoch_indx:59\n",
      " auc:0.8846965261627346 \n",
      " apur:0.8620196333149103 \n",
      " f1:0.7659817351598174 \n",
      " precision:0.7633674630261661 \n",
      " recall:0.7686139747995419 \n",
      ", 'Test':  best_epoch_indx:59\n",
      " auc:0.8856004283593651 \n",
      " apur:0.8611297166704774 \n",
      " f1:0.7805763557975947 \n",
      " precision:0.7730337078651686 \n",
      " recall:0.7882676443629697 \n",
      "}\n",
      "=====Epoch 60\n",
      "Training...\n"
     ]
    },
    {
     "name": "stderr",
     "output_type": "stream",
     "text": [
      "Iteration: 100%|██████████| 62/62 [00:04<00:00, 15.18it/s]\n",
      "Iteration: 100%|██████████| 62/62 [00:04<00:00, 15.16it/s]\n",
      "Iteration: 100%|██████████| 62/62 [00:08<00:00,  7.31it/s]\n",
      "Iteration:  47%|████▋     | 29/62 [00:03<00:04,  7.32it/s]"
     ]
    },
    {
     "name": "stdout",
     "output_type": "stream",
     "text": [
      "Evaluating...\n"
     ]
    },
    {
     "name": "stderr",
     "output_type": "stream",
     "text": [
      "Iteration: 100%|██████████| 18/18 [00:01<00:00, 15.84it/s]\n",
      "Iteration: 100%|██████████| 18/18 [00:01<00:00, 15.73it/s]\n",
      "Iteration: 100%|██████████| 7/7 [00:00<00:00, 15.40it/s]s]\n",
      "Iteration:   2%|▏         | 1/62 [00:00<00:08,  7.14it/s]]"
     ]
    },
    {
     "name": "stdout",
     "output_type": "stream",
     "text": [
      "{'Train':  best_epoch_indx:59\n",
      " auc:0.948075924780234 \n",
      " apur:0.9346905410498394 \n",
      " f1:0.8511717059296358 \n",
      " precision:0.827482567924982 \n",
      " recall:0.876257161043921 \n",
      ", 'Validation':  best_epoch_indx:59\n",
      " auc:0.8840047091765306 \n",
      " apur:0.8608710254765656 \n",
      " f1:0.7795669072737369 \n",
      " precision:0.7564655172413793 \n",
      " recall:0.8041237113402062 \n",
      ", 'Test':  best_epoch_indx:59\n",
      " auc:0.8869996841792319 \n",
      " apur:0.8597899285864923 \n",
      " f1:0.7770419426048566 \n",
      " precision:0.7495741056218058 \n",
      " recall:0.8065994500458296 \n",
      "}\n",
      "=====Epoch 60\n",
      "Training...\n"
     ]
    },
    {
     "name": "stderr",
     "output_type": "stream",
     "text": [
      "\r",
      "Iteration: 100%|██████████| 7/7 [00:00<00:00, 15.44it/s]\n",
      "\r",
      "Iteration:  63%|██████▎   | 39/62 [00:05<00:03,  7.20it/s]\r",
      "Iteration:   0%|          | 0/62 [00:00<?, ?it/s]\r",
      "Iteration:  35%|███▌      | 22/62 [00:01<00:02, 15.30it/s]\r",
      "Iteration:  81%|████████  | 50/62 [00:06<00:01,  7.12it/s]\r",
      "Iteration:   3%|▎         | 2/62 [00:00<00:08,  7.09it/s]\r",
      "Iteration:  65%|██████▍   | 40/62 [00:05<00:03,  7.20it/s]\r",
      "Iteration:  39%|███▊      | 24/62 [00:01<00:02, 15.14it/s]\r",
      "Iteration:   2%|▏         | 1/62 [00:00<00:08,  7.16it/s]"
     ]
    },
    {
     "name": "stdout",
     "output_type": "stream",
     "text": [
      "{'Train':  best_epoch_indx:62\n",
      " auc:0.9557720351149429 \n",
      " apur:0.9431451252469369 \n",
      " f1:0.8610489684315188 \n",
      " precision:0.8410829185383027 \n",
      " recall:0.8819859961807766 \n",
      ", 'Validation':  best_epoch_indx:62\n",
      " auc:0.8824046112133168 \n",
      " apur:0.8513546417964986 \n",
      " f1:0.7700170357751277 \n",
      " precision:0.7635135135135135 \n",
      " recall:0.7766323024054983 \n",
      ", 'Test':  best_epoch_indx:62\n",
      " auc:0.8839715248833115 \n",
      " apur:0.8581275235420249 \n",
      " f1:0.771763644564727 \n",
      " precision:0.7597690941385435 \n",
      " recall:0.7841429880843263 \n",
      "}\n",
      "=====Epoch 63\n",
      "Training...\n"
     ]
    },
    {
     "name": "stderr",
     "output_type": "stream",
     "text": [
      "Iteration: 100%|██████████| 62/62 [00:08<00:00,  7.24it/s]\n",
      "Iteration:   0%|          | 0/62 [00:00<?, ?it/s]"
     ]
    },
    {
     "name": "stdout",
     "output_type": "stream",
     "text": [
      "Evaluating...\n"
     ]
    },
    {
     "name": "stderr",
     "output_type": "stream",
     "text": [
      "Iteration: 100%|██████████| 62/62 [00:04<00:00, 15.20it/s]\n",
      "Iteration: 100%|██████████| 62/62 [00:08<00:00,  7.29it/s]\n",
      "Iteration:  33%|███▎      | 6/18 [00:00<00:00, 15.08it/s]]"
     ]
    },
    {
     "name": "stdout",
     "output_type": "stream",
     "text": [
      "Evaluating...\n"
     ]
    },
    {
     "name": "stderr",
     "output_type": "stream",
     "text": [
      "Iteration: 100%|██████████| 18/18 [00:01<00:00, 15.90it/s]\n",
      "Iteration: 100%|██████████| 7/7 [00:00<00:00, 15.50it/s]s]\n",
      "Iteration:  53%|█████▎    | 33/62 [00:04<00:04,  7.18it/s]"
     ]
    },
    {
     "name": "stdout",
     "output_type": "stream",
     "text": [
      "{'Train':  best_epoch_indx:62\n",
      " auc:0.9523615567239001 \n",
      " apur:0.9386648699463798 \n",
      " f1:0.85886773855726 \n",
      " precision:0.8320601575555026 \n",
      " recall:0.8874602164226607 \n",
      ", 'Validation':  best_epoch_indx:62\n",
      " auc:0.876943354892954 \n",
      " apur:0.8461911741611573 \n",
      " f1:0.7593523171412618 \n",
      " precision:0.7407407407407407 \n",
      " recall:0.7789232531500573 \n",
      ", 'Test':  best_epoch_indx:62\n",
      " auc:0.8860116595222004 \n",
      " apur:0.8604149551541429 \n",
      " f1:0.7813398187043997 \n",
      " precision:0.754805638615976 \n",
      " recall:0.80980751604033 \n",
      "}\n",
      "=====Epoch 63\n",
      "Training...\n"
     ]
    },
    {
     "name": "stderr",
     "output_type": "stream",
     "text": [
      "Iteration: 100%|██████████| 62/62 [00:04<00:00, 15.20it/s]\n",
      "Iteration: 100%|██████████| 18/18 [00:01<00:00, 16.00it/s]\n",
      "Iteration: 100%|██████████| 62/62 [00:04<00:00, 15.32it/s]\n",
      "Iteration: 100%|██████████| 7/7 [00:00<00:00, 15.43it/s]]]\n",
      "Iteration:   0%|          | 0/62 [00:00<?, ?it/s]"
     ]
    },
    {
     "name": "stdout",
     "output_type": "stream",
     "text": [
      "{'Train':  best_epoch_indx:62\n",
      " auc:0.9484394953194564 \n",
      " apur:0.9340062933054971 \n",
      " f1:0.8510769230769231 \n",
      " precision:0.8237045860631328 \n",
      " recall:0.8803309993634627 \n",
      ", 'Validation':  best_epoch_indx:62\n",
      " auc:0.8809689101785321 \n",
      " apur:0.8615525427423565 \n",
      " f1:0.7755555555555557 \n",
      " precision:0.7529665587918015 \n",
      " recall:0.7995418098510882 \n",
      ", 'Test':  best_epoch_indx:62\n",
      " auc:0.8878079908520029 \n",
      " apur:0.865214978094519 \n",
      " f1:0.7799193186911699 \n",
      " precision:0.7631578947368421 \n",
      " recall:0.7974335472043996 \n",
      "}\n",
      "=====Epoch 63\n",
      "Training...\n"
     ]
    },
    {
     "name": "stderr",
     "output_type": "stream",
     "text": [
      "Iteration: 100%|██████████| 62/62 [00:08<00:00,  7.23it/s]\n",
      "Iteration: 100%|██████████| 18/18 [00:01<00:00, 15.88it/s]\n",
      "Iteration:   3%|▎         | 2/62 [00:00<00:04, 14.98it/s]"
     ]
    },
    {
     "name": "stdout",
     "output_type": "stream",
     "text": [
      "Evaluating...\n"
     ]
    },
    {
     "name": "stderr",
     "output_type": "stream",
     "text": [
      "\r",
      "Iteration:  47%|████▋     | 29/62 [00:03<00:04,  7.26it/s]\r",
      "Iteration: 100%|██████████| 62/62 [00:08<00:00,  7.55it/s]\r",
      "Iteration: 100%|██████████| 62/62 [00:08<00:00,  7.24it/s]\n",
      "\r",
      "Iteration:   0%|          | 0/62 [00:00<?, ?it/s]\r",
      "Iteration:  11%|█▏        | 7/62 [00:00<00:07,  7.23it/s]\r",
      "Iteration:   6%|▋         | 4/62 [00:00<00:03, 14.85it/s]\r",
      "Iteration:  48%|████▊     | 30/62 [00:04<00:04,  7.28it/s]\r",
      "Iteration:   3%|▎         | 2/62 [00:00<00:04, 14.83it/s]"
     ]
    },
    {
     "name": "stdout",
     "output_type": "stream",
     "text": [
      "Evaluating...\n"
     ]
    },
    {
     "name": "stderr",
     "output_type": "stream",
     "text": [
      "Iteration: 100%|██████████| 62/62 [00:04<00:00, 15.12it/s]\n",
      "Iteration: 100%|██████████| 62/62 [00:04<00:00, 15.18it/s]\n",
      "Iteration: 100%|██████████| 62/62 [00:08<00:00,  7.30it/s]\n",
      "Iteration:   0%|          | 0/7 [00:00<?, ?it/s] 7.22it/s]"
     ]
    },
    {
     "name": "stdout",
     "output_type": "stream",
     "text": [
      "Evaluating...\n"
     ]
    },
    {
     "name": "stderr",
     "output_type": "stream",
     "text": [
      "Iteration: 100%|██████████| 7/7 [00:00<00:00, 14.34it/s]]]\n",
      "Iteration:  89%|████████▉ | 16/18 [00:01<00:00, 15.21it/s]"
     ]
    },
    {
     "name": "stdout",
     "output_type": "stream",
     "text": [
      "{'Train':  best_epoch_indx:60\n",
      " auc:0.954765718983072 \n",
      " apur:0.9427285469759763 \n",
      " f1:0.858371854134566 \n",
      " precision:0.8658204895738894 \n",
      " recall:0.8510502864417568 \n",
      ", 'Validation':  best_epoch_indx:60\n",
      " auc:0.885977954420108 \n",
      " apur:0.8630796912905794 \n",
      " f1:0.7673469387755102 \n",
      " precision:0.7814726840855107 \n",
      " recall:0.7537227949599083 \n",
      ", 'Test':  best_epoch_indx:60\n",
      " auc:0.8865500405830378 \n",
      " apur:0.8632541721200679 \n",
      " f1:0.7775458130364186 \n",
      " precision:0.787224048849225 \n",
      " recall:0.768102658111824 \n",
      "}\n",
      "=====Epoch 61\n",
      "Training...\n"
     ]
    },
    {
     "name": "stderr",
     "output_type": "stream",
     "text": [
      "Iteration: 100%|██████████| 18/18 [00:01<00:00, 15.71it/s]\n",
      "Iteration: 100%|██████████| 18/18 [00:01<00:00, 15.66it/s]\n",
      "Iteration: 100%|██████████| 7/7 [00:00<00:00, 15.49it/s]]]\n",
      "Iteration:   0%|          | 0/62 [00:00<?, ?it/s]22it/s]s]"
     ]
    },
    {
     "name": "stdout",
     "output_type": "stream",
     "text": [
      "{'Train':  best_epoch_indx:60\n",
      " auc:0.9483567812056576 \n",
      " apur:0.9346851200322024 \n",
      " f1:0.8495488905145087 \n",
      " precision:0.8150660896011229 \n",
      " recall:0.8870782940802037 \n",
      ", 'Validation':  best_epoch_indx:60\n",
      " auc:0.8826692854470632 \n",
      " apur:0.859933864465208 \n",
      " f1:0.7768595041322314 \n",
      " precision:0.7484076433121019 \n",
      " recall:0.8075601374570447 \n",
      ", 'Test':  best_epoch_indx:60\n",
      " auc:0.8873148103269379 \n",
      " apur:0.8599715559182672 \n",
      " f1:0.7755191256830601 \n",
      " precision:0.7413288758880067 \n",
      " recall:0.8130155820348305 \n",
      "}\n",
      "=====Epoch 61\n",
      "Training...\n",
      "{'Train':  best_epoch_indx:63\n",
      " auc:0.9543825916295057 \n",
      " apur:0.941419538105534 \n",
      " f1:0.8604464230507637 \n",
      " precision:0.8364991584515509 \n",
      " recall:0.8858052196053469 \n",
      ", 'Validation':  best_epoch_indx:63\n",
      " auc:0.8782720291884095 \n",
      " apur:0.8466782191017588 \n",
      " f1:0.7591652566271856 \n",
      " precision:0.7477777777777778 \n",
      " recall:0.7709049255441008 \n",
      ", 'Test':  best_epoch_indx:63\n",
      " auc:0.8829380068220991 \n",
      " apur:0.8568714202785878 \n",
      " f1:0.772103487064117 \n",
      " precision:0.758285461776403 \n",
      " recall:0.7864344637946837 \n",
      "}\n",
      "=====Epoch 64\n",
      "Training...\n"
     ]
    },
    {
     "name": "stderr",
     "output_type": "stream",
     "text": [
      "Iteration: 100%|██████████| 7/7 [00:00<00:00, 15.39it/s]]]\n",
      "Iteration: 100%|██████████| 62/62 [00:08<00:00,  7.22it/s]\n",
      "Iteration:   0%|          | 0/62 [00:00<?, ?it/s]"
     ]
    },
    {
     "name": "stdout",
     "output_type": "stream",
     "text": [
      "Evaluating...\n"
     ]
    },
    {
     "name": "stderr",
     "output_type": "stream",
     "text": [
      "Iteration: 100%|██████████| 62/62 [00:04<00:00, 15.29it/s]\n",
      "Iteration: 100%|██████████| 18/18 [00:01<00:00, 15.92it/s]\n",
      "Iteration: 100%|██████████| 7/7 [00:00<00:00, 15.62it/s]s]\n",
      "Iteration:  68%|██████▊   | 42/62 [00:02<00:01, 15.24it/s]"
     ]
    },
    {
     "name": "stdout",
     "output_type": "stream",
     "text": [
      "{'Train':  best_epoch_indx:63\n",
      " auc:0.9506311806536034 \n",
      " apur:0.9362431244871338 \n",
      " f1:0.8552146472536399 \n",
      " precision:0.8398379970544919 \n",
      " recall:0.8711648631444939 \n",
      ", 'Validation':  best_epoch_indx:63\n",
      " auc:0.8760514653985445 \n",
      " apur:0.8459636036191308 \n",
      " f1:0.7613122171945702 \n",
      " precision:0.7519553072625699 \n",
      " recall:0.7709049255441008 \n",
      ", 'Test':  best_epoch_indx:63\n",
      " auc:0.8863133319136985 \n",
      " apur:0.8621185392871971 \n",
      " f1:0.7809052015311867 \n",
      " precision:0.7675962815405046 \n",
      " recall:0.7946837763519706 \n",
      "}\n",
      "=====Epoch 64\n",
      "Training...\n"
     ]
    },
    {
     "name": "stderr",
     "output_type": "stream",
     "text": [
      "Iteration: 100%|██████████| 62/62 [00:04<00:00, 15.25it/s]\n",
      "Iteration: 100%|██████████| 18/18 [00:01<00:00, 15.96it/s]\n",
      "Iteration: 100%|██████████| 7/7 [00:00<00:00, 15.52it/s]s]\n",
      "Iteration:  39%|███▊      | 24/62 [00:03<00:05,  7.30it/s]"
     ]
    },
    {
     "name": "stdout",
     "output_type": "stream",
     "text": [
      "{'Train':  best_epoch_indx:63\n",
      " auc:0.9498475585611281 \n",
      " apur:0.9355460640563251 \n",
      " f1:0.8509957098034194 \n",
      " precision:0.8560937902602422 \n",
      " recall:0.8459579885423297 \n",
      ", 'Validation':  best_epoch_indx:63\n",
      " auc:0.8836566312224959 \n",
      " apur:0.8652526758048539 \n",
      " f1:0.7757716948165405 \n",
      " precision:0.7890995260663507 \n",
      " recall:0.7628865979381443 \n",
      ", 'Test':  best_epoch_indx:63\n",
      " auc:0.8883280300347712 \n",
      " apur:0.8666137481121092 \n",
      " f1:0.7715022263885635 \n",
      " precision:0.7894484412470024 \n",
      " recall:0.7543538038496792 \n",
      "}\n",
      "=====Epoch 64\n",
      "Training...\n",
      "Evaluating...\n"
     ]
    },
    {
     "name": "stderr",
     "output_type": "stream",
     "text": [
      "Iteration: 100%|██████████| 62/62 [00:08<00:00,  7.15it/s]\n",
      "Iteration: 100%|██████████| 62/62 [00:08<00:00,  7.09it/s]\n",
      "Iteration:   0%|          | 0/62 [00:00<?, ?it/s]"
     ]
    },
    {
     "name": "stdout",
     "output_type": "stream",
     "text": [
      "Evaluating...\n",
      "Evaluating...\n"
     ]
    },
    {
     "name": "stderr",
     "output_type": "stream",
     "text": [
      "Iteration: 100%|██████████| 62/62 [00:08<00:00,  7.22it/s]\n",
      "Iteration: 100%|██████████| 62/62 [00:04<00:00, 15.28it/s]\n",
      "Iteration: 100%|██████████| 62/62 [00:04<00:00, 15.20it/s]\n",
      "Iteration: 100%|██████████| 62/62 [00:08<00:00,  7.32it/s]\n",
      "Iteration: 100%|██████████| 62/62 [00:04<00:00, 14.52it/s]\n",
      "Iteration:  89%|████████▉ | 16/18 [00:01<00:00, 15.48it/s]"
     ]
    },
    {
     "name": "stdout",
     "output_type": "stream",
     "text": [
      "Evaluating...\n"
     ]
    },
    {
     "name": "stderr",
     "output_type": "stream",
     "text": [
      "Iteration: 100%|██████████| 18/18 [00:01<00:00, 15.94it/s]\n",
      "Iteration: 100%|██████████| 7/7 [00:00<00:00, 15.53it/s]s]\n",
      "Iteration:  71%|███████   | 44/62 [00:06<00:02,  7.23it/s]"
     ]
    },
    {
     "name": "stdout",
     "output_type": "stream",
     "text": [
      "{'Train':  best_epoch_indx:61\n",
      " auc:0.9545463164062306 \n",
      " apur:0.9419116995648587 \n",
      " f1:0.8634171109418635 \n",
      " precision:0.8609036830780914 \n",
      " recall:0.8659452577975811 \n",
      ", 'Validation':  best_epoch_indx:61\n",
      " auc:0.8856954423964734 \n",
      " apur:0.8631607892172768 \n",
      " f1:0.7671865973425765 \n",
      " precision:0.7738927738927739 \n",
      " recall:0.7605956471935853 \n",
      ", 'Test':  best_epoch_indx:61\n",
      " auc:0.883375459452453 \n",
      " apur:0.858766334417153 \n",
      " f1:0.7758023551142923 \n",
      " precision:0.7817589576547231 \n",
      " recall:0.76993583868011 \n",
      "}\n",
      "=====Epoch 62\n",
      "Training...\n"
     ]
    },
    {
     "name": "stderr",
     "output_type": "stream",
     "text": [
      "Iteration: 100%|██████████| 18/18 [00:01<00:00, 15.90it/s]\n",
      "Iteration: 100%|██████████| 18/18 [00:01<00:00, 15.70it/s]\n",
      "Iteration: 100%|██████████| 7/7 [00:00<00:00, 15.54it/s]s]\n",
      "Iteration:  10%|▉         | 6/62 [00:00<00:07,  7.24it/s]"
     ]
    },
    {
     "name": "stdout",
     "output_type": "stream",
     "text": [
      "{'Train':  best_epoch_indx:61\n",
      " auc:0.9489719893842976 \n",
      " apur:0.9356848932069793 \n",
      " f1:0.8519622454048684 \n",
      " precision:0.8316159534489029 \n",
      " recall:0.8733290897517505 \n",
      ", 'Validation':  best_epoch_indx:61\n",
      " auc:0.8831624762323502 \n",
      " apur:0.8609892999127021 \n",
      " f1:0.7761027359017308 \n",
      " precision:0.7570806100217865 \n",
      " recall:0.7961053837342497 \n",
      ", 'Test':  best_epoch_indx:61\n",
      " auc:0.8874495666957585 \n",
      " apur:0.8598050306516027 \n",
      " f1:0.7755193209738664 \n",
      " precision:0.7564270152505447 \n",
      " recall:0.7956003666361137 \n",
      "}\n",
      "=====Epoch 62\n",
      "Training...\n"
     ]
    },
    {
     "name": "stderr",
     "output_type": "stream",
     "text": [
      "Iteration: 100%|██████████| 7/7 [00:00<00:00, 15.35it/s]s]\n",
      "Iteration:   5%|▍         | 3/62 [00:00<00:08,  7.14it/s]]"
     ]
    },
    {
     "name": "stdout",
     "output_type": "stream",
     "text": [
      "{'Train':  best_epoch_indx:64\n",
      " auc:0.9530314296959804 \n",
      " apur:0.9396949074184671 \n",
      " f1:0.8577327327327327 \n",
      " precision:0.8432771558617296 \n",
      " recall:0.8726925525143221 \n",
      ", 'Validation':  best_epoch_indx:64\n",
      " auc:0.876339762651332 \n",
      " apur:0.8470615775982301 \n",
      " f1:0.7610921501706485 \n",
      " precision:0.7559322033898305 \n",
      " recall:0.7663230240549829 \n",
      ", 'Test':  best_epoch_indx:64\n",
      " auc:0.8864258505010065 \n",
      " apur:0.8592907619427744 \n",
      " f1:0.7752885268160218 \n",
      " precision:0.7657577112203845 \n",
      " recall:0.7850595783684693 \n",
      "}\n",
      "=====Epoch 65\n",
      "Training...\n"
     ]
    },
    {
     "name": "stderr",
     "output_type": "stream",
     "text": [
      "Iteration: 100%|██████████| 62/62 [00:08<00:00,  7.24it/s]\n",
      "Iteration:  31%|███       | 19/62 [00:02<00:05,  7.23it/s]"
     ]
    },
    {
     "name": "stdout",
     "output_type": "stream",
     "text": [
      "Evaluating...\n"
     ]
    },
    {
     "name": "stderr",
     "output_type": "stream",
     "text": [
      "Iteration: 100%|██████████| 62/62 [00:04<00:00, 14.70it/s]\n",
      "Iteration: 100%|██████████| 18/18 [00:01<00:00, 16.00it/s]\n",
      "Iteration: 100%|██████████| 7/7 [00:00<00:00, 15.56it/s]s]\n",
      "Iteration:  52%|█████▏    | 32/62 [00:04<00:04,  7.26it/s]"
     ]
    },
    {
     "name": "stdout",
     "output_type": "stream",
     "text": [
      "{'Train':  best_epoch_indx:64\n",
      " auc:0.9510606125299755 \n",
      " apur:0.9369131218615493 \n",
      " f1:0.8574749204795694 \n",
      " precision:0.8252678676557165 \n",
      " recall:0.8922978994271165 \n",
      ", 'Validation':  best_epoch_indx:64\n",
      " auc:0.8705468198595347 \n",
      " apur:0.8366178204398117 \n",
      " f1:0.759228650137741 \n",
      " precision:0.7314225053078556 \n",
      " recall:0.7892325315005727 \n",
      ", 'Test':  best_epoch_indx:64\n",
      " auc:0.8815174352754555 \n",
      " apur:0.8547794349244116 \n",
      " f1:0.7720378105078038 \n",
      " precision:0.7418673426277989 \n",
      " recall:0.8047662694775435 \n",
      "}\n",
      "=====Epoch 65\n",
      "Training...\n"
     ]
    },
    {
     "name": "stderr",
     "output_type": "stream",
     "text": [
      "Iteration: 100%|██████████| 62/62 [00:04<00:00, 14.64it/s]\n",
      "Iteration: 100%|██████████| 18/18 [00:01<00:00, 16.02it/s]\n",
      "Iteration: 100%|██████████| 62/62 [00:08<00:00,  7.30it/s]\n",
      "Iteration: 100%|██████████| 7/7 [00:00<00:00, 15.49it/s]s]\n",
      "Iteration:  87%|████████▋ | 54/62 [00:07<00:01,  7.19it/s]"
     ]
    },
    {
     "name": "stdout",
     "output_type": "stream",
     "text": [
      "Evaluating...\n",
      "{'Train':  best_epoch_indx:64\n",
      " auc:0.9459262212255695 \n",
      " apur:0.9314671991821706 \n",
      " f1:0.8467845247245709 \n",
      " precision:0.8521335567874179 \n",
      " recall:0.841502227880331 \n",
      ", 'Validation':  best_epoch_indx:64\n",
      " auc:0.8788601941522904 \n",
      " apur:0.85856726498413 \n",
      " f1:0.7644652250146114 \n",
      " precision:0.7804295942720764 \n",
      " recall:0.7491408934707904 \n",
      ", 'Test':  best_epoch_indx:64\n",
      " auc:0.8857570081801592 \n",
      " apur:0.8637041376163527 \n",
      " f1:0.7703427372347866 \n",
      " precision:0.7840531561461794 \n",
      " recall:0.7571035747021082 \n",
      "}\n",
      "=====Epoch 65\n",
      "Training...\n"
     ]
    },
    {
     "name": "stderr",
     "output_type": "stream",
     "text": [
      "Iteration: 100%|██████████| 62/62 [00:08<00:00,  7.24it/s]\n",
      "Iteration:   0%|          | 0/62 [00:00<?, ?it/s]5.30it/s]"
     ]
    },
    {
     "name": "stdout",
     "output_type": "stream",
     "text": [
      "Evaluating...\n"
     ]
    },
    {
     "name": "stderr",
     "output_type": "stream",
     "text": [
      "Iteration: 100%|██████████| 62/62 [00:08<00:00,  7.19it/s]\n",
      "Iteration:   3%|▎         | 2/62 [00:00<00:03, 15.10it/s]]"
     ]
    },
    {
     "name": "stdout",
     "output_type": "stream",
     "text": [
      "Evaluating...\n"
     ]
    },
    {
     "name": "stderr",
     "output_type": "stream",
     "text": [
      "Iteration: 100%|██████████| 62/62 [00:04<00:00, 15.25it/s]\n",
      "Iteration: 100%|██████████| 62/62 [00:04<00:00, 15.12it/s]\n",
      "Iteration: 100%|██████████| 62/62 [00:08<00:00,  7.30it/s]\n",
      "Iteration:  89%|████████▉ | 16/18 [00:01<00:00, 15.41it/s]"
     ]
    },
    {
     "name": "stdout",
     "output_type": "stream",
     "text": [
      "Evaluating...\n"
     ]
    },
    {
     "name": "stderr",
     "output_type": "stream",
     "text": [
      "Iteration: 100%|██████████| 62/62 [00:04<00:00, 15.08it/s]\n",
      "Iteration: 100%|██████████| 18/18 [00:01<00:00, 15.87it/s]\n",
      "Iteration: 100%|██████████| 7/7 [00:00<00:00, 15.44it/s]s]\n",
      "Iteration:  67%|██████▋   | 12/18 [00:00<00:00, 15.44it/s]"
     ]
    },
    {
     "name": "stdout",
     "output_type": "stream",
     "text": [
      "{'Train':  best_epoch_indx:62\n",
      " auc:0.9547143088795009 \n",
      " apur:0.9426686853463708 \n",
      " f1:0.8591894439208293 \n",
      " precision:0.8482630272952854 \n",
      " recall:0.8704010184595798 \n",
      ", 'Validation':  best_epoch_indx:62\n",
      " auc:0.8856453037438147 \n",
      " apur:0.8632282944043209 \n",
      " f1:0.7697594501718213 \n",
      " precision:0.7697594501718213 \n",
      " recall:0.7697594501718213 \n",
      ", 'Test':  best_epoch_indx:62\n",
      " auc:0.8821110586463474 \n",
      " apur:0.8588066030790769 \n",
      " f1:0.7749377968785343 \n",
      " precision:0.7650736936132202 \n",
      " recall:0.7850595783684693 \n",
      "}\n",
      "=====Epoch 63\n",
      "Training...\n"
     ]
    },
    {
     "name": "stderr",
     "output_type": "stream",
     "text": [
      "Iteration: 100%|██████████| 18/18 [00:01<00:00, 15.89it/s]\n",
      "Iteration: 100%|██████████| 18/18 [00:01<00:00, 15.72it/s]\n",
      "Iteration: 100%|██████████| 7/7 [00:00<00:00, 15.37it/s]s]\n",
      "Iteration:  79%|███████▉  | 49/62 [00:06<00:01,  7.29it/s]"
     ]
    },
    {
     "name": "stdout",
     "output_type": "stream",
     "text": [
      "{'Train':  best_epoch_indx:62\n",
      " auc:0.9504661131750107 \n",
      " apur:0.9373082914806048 \n",
      " f1:0.8523534770725782 \n",
      " precision:0.8149825783972126 \n",
      " recall:0.8933163590070019 \n",
      ", 'Validation':  best_epoch_indx:62\n",
      " auc:0.8814008739552841 \n",
      " apur:0.8575125026465127 \n",
      " f1:0.7702407002188184 \n",
      " precision:0.7371727748691099 \n",
      " recall:0.8064146620847652 \n",
      ", 'Test':  best_epoch_indx:62\n",
      " auc:0.8875841687044772 \n",
      " apur:0.859922864627078 \n",
      " f1:0.773072747014115 \n",
      " precision:0.7346264960792406 \n",
      " recall:0.8157653528872594 \n",
      "}\n",
      "=====Epoch 63\n",
      "Training...\n"
     ]
    },
    {
     "name": "stderr",
     "output_type": "stream",
     "text": [
      "Iteration: 100%|██████████| 62/62 [00:08<00:00,  7.26it/s]\n",
      "Iteration:  84%|████████▍ | 52/62 [00:03<00:00, 15.21it/s]"
     ]
    },
    {
     "name": "stdout",
     "output_type": "stream",
     "text": [
      "Evaluating...\n"
     ]
    },
    {
     "name": "stderr",
     "output_type": "stream",
     "text": [
      "Iteration: 100%|██████████| 62/62 [00:04<00:00, 15.25it/s]\n",
      "Iteration: 100%|██████████| 18/18 [00:01<00:00, 15.89it/s]\n",
      "Iteration: 100%|██████████| 7/7 [00:00<00:00, 15.50it/s]s]\n",
      "Iteration:  65%|██████▍   | 40/62 [00:02<00:01, 14.98it/s]"
     ]
    },
    {
     "name": "stdout",
     "output_type": "stream",
     "text": [
      "{'Train':  best_epoch_indx:65\n",
      " auc:0.9543618045738378 \n",
      " apur:0.9405365052883666 \n",
      " f1:0.8606853582554518 \n",
      " precision:0.8428309945088469 \n",
      " recall:0.8793125397835774 \n",
      ", 'Validation':  best_epoch_indx:65\n",
      " auc:0.8738627203690205 \n",
      " apur:0.8428059539834767 \n",
      " f1:0.7633069082672707 \n",
      " precision:0.7547592385218365 \n",
      " recall:0.7720504009163803 \n",
      ", 'Test':  best_epoch_indx:65\n",
      " auc:0.8869361966749684 \n",
      " apur:0.8635772478128978 \n",
      " f1:0.7789473684210526 \n",
      " precision:0.7617170389837933 \n",
      " recall:0.7969752520623281 \n",
      "}\n",
      "=====Epoch 66\n",
      "Training...\n"
     ]
    },
    {
     "name": "stderr",
     "output_type": "stream",
     "text": [
      "Iteration: 100%|██████████| 7/7 [00:00<00:00, 14.47it/s]s]\n",
      "Iteration:   0%|          | 0/62 [00:00<?, ?it/s]5.11it/s]"
     ]
    },
    {
     "name": "stdout",
     "output_type": "stream",
     "text": [
      "{'Train':  best_epoch_indx:65\n",
      " auc:0.9537908323156081 \n",
      " apur:0.9403241001009432 \n",
      " f1:0.8610871440897325 \n",
      " precision:0.8345478437462669 \n",
      " recall:0.8893698281349459 \n",
      ", 'Validation':  best_epoch_indx:65\n",
      " auc:0.8814307643059075 \n",
      " apur:0.8526094202020793 \n",
      " f1:0.7741573033707864 \n",
      " precision:0.7596471885336273 \n",
      " recall:0.7892325315005727 \n",
      ", 'Test':  best_epoch_indx:65\n",
      " auc:0.8875001196290788 \n",
      " apur:0.8621005577270474 \n",
      " f1:0.7807486631016043 \n",
      " precision:0.7597571552471812 \n",
      " recall:0.8029330889092575 \n",
      "}\n",
      "=====Epoch 66\n",
      "Training...\n"
     ]
    },
    {
     "name": "stderr",
     "output_type": "stream",
     "text": [
      "Iteration: 100%|██████████| 62/62 [00:04<00:00, 15.16it/s]\n",
      "Iteration: 100%|██████████| 18/18 [00:01<00:00, 16.07it/s]\n",
      "Iteration: 100%|██████████| 62/62 [00:08<00:00,  7.28it/s]\n",
      "Iteration:   3%|▎         | 2/62 [00:00<00:03, 15.14it/s]]"
     ]
    },
    {
     "name": "stdout",
     "output_type": "stream",
     "text": [
      "Evaluating...\n"
     ]
    },
    {
     "name": "stderr",
     "output_type": "stream",
     "text": [
      "Iteration: 100%|██████████| 62/62 [00:08<00:00,  7.24it/s]\n",
      "Iteration:  26%|██▌       | 16/62 [00:01<00:03, 15.25it/s]"
     ]
    },
    {
     "name": "stdout",
     "output_type": "stream",
     "text": [
      "Evaluating...\n"
     ]
    },
    {
     "name": "stderr",
     "output_type": "stream",
     "text": [
      "Iteration: 100%|██████████| 62/62 [00:04<00:00, 15.23it/s]\n",
      "Iteration: 100%|██████████| 7/7 [00:00<00:00, 14.55it/s]s]\n",
      "Iteration:  95%|█████████▌| 59/62 [00:08<00:00,  7.28it/s]"
     ]
    },
    {
     "name": "stdout",
     "output_type": "stream",
     "text": [
      "{'Train':  best_epoch_indx:65\n",
      " auc:0.949976307000302 \n",
      " apur:0.9345512004679256 \n",
      " f1:0.8528428093645485 \n",
      " precision:0.8618224359807617 \n",
      " recall:0.8440483768300445 \n",
      ", 'Validation':  best_epoch_indx:65\n",
      " auc:0.8811723574037436 \n",
      " apur:0.8604408416038747 \n",
      " f1:0.765533411488863 \n",
      " precision:0.7839135654261705 \n",
      " recall:0.7479954180985109 \n",
      ", 'Test':  best_epoch_indx:65\n",
      " auc:0.8902793732609404 \n",
      " apur:0.867769585748306 \n",
      " f1:0.7823846334036075 \n",
      " precision:0.8001916626736943 \n",
      " recall:0.7653528872593951 \n",
      "}\n",
      "=====Epoch 66\n",
      "Training...\n"
     ]
    },
    {
     "name": "stderr",
     "output_type": "stream",
     "text": [
      "Iteration: 100%|██████████| 62/62 [00:04<00:00, 15.16it/s]\n",
      "Iteration: 100%|██████████| 62/62 [00:08<00:00,  7.29it/s]\n",
      "Iteration:  94%|█████████▎| 58/62 [00:08<00:00,  7.20it/s]"
     ]
    },
    {
     "name": "stdout",
     "output_type": "stream",
     "text": [
      "Evaluating...\n"
     ]
    },
    {
     "name": "stderr",
     "output_type": "stream",
     "text": [
      "Iteration: 100%|██████████| 18/18 [00:01<00:00, 15.86it/s]\n",
      "Iteration: 100%|██████████| 62/62 [00:08<00:00,  7.22it/s]\n",
      "Iteration: 100%|██████████| 7/7 [00:00<00:00, 15.46it/s]s]\n",
      "Iteration:   3%|▎         | 2/62 [00:00<00:03, 15.08it/s]]"
     ]
    },
    {
     "name": "stdout",
     "output_type": "stream",
     "text": [
      "Evaluating...\n",
      "{'Train':  best_epoch_indx:63\n",
      " auc:0.953579921987416 \n",
      " apur:0.9405820731348081 \n",
      " f1:0.860235472844664 \n",
      " precision:0.8554702253556591 \n",
      " recall:0.8650541056651814 \n",
      ", 'Validation':  best_epoch_indx:63\n",
      " auc:0.8795042829979829 \n",
      " apur:0.8585639948988226 \n",
      " f1:0.7571921749136938 \n",
      " precision:0.7606936416184971 \n",
      " recall:0.7537227949599083 \n",
      ", 'Test':  best_epoch_indx:63\n",
      " auc:0.8784523357621433 \n",
      " apur:0.8545244278240467 \n",
      " f1:0.7659574468085107 \n",
      " precision:0.7647327546825035 \n",
      " recall:0.7671860678276811 \n",
      "}\n",
      "=====Epoch 64\n",
      "Training...\n"
     ]
    },
    {
     "name": "stderr",
     "output_type": "stream",
     "text": [
      "Iteration: 100%|██████████| 18/18 [00:01<00:00, 15.92it/s]\n",
      "Iteration: 100%|██████████| 7/7 [00:00<00:00, 15.56it/s]s]\n",
      "Iteration:  27%|██▋       | 17/62 [00:02<00:06,  7.29it/s]"
     ]
    },
    {
     "name": "stdout",
     "output_type": "stream",
     "text": [
      "{'Train':  best_epoch_indx:63\n",
      " auc:0.9494140284708994 \n",
      " apur:0.9361929244795276 \n",
      " f1:0.8469175435467571 \n",
      " precision:0.794445683693955 \n",
      " recall:0.9068109484404838 \n",
      ", 'Validation':  best_epoch_indx:63\n",
      " auc:0.8804771657005335 \n",
      " apur:0.8594426277587317 \n",
      " f1:0.7706226716338479 \n",
      " precision:0.7196819085487077 \n",
      " recall:0.8293241695303551 \n",
      ", 'Test':  best_epoch_indx:63\n",
      " auc:0.8856855394530526 \n",
      " apur:0.857442322821939 \n",
      " f1:0.7727659574468085 \n",
      " precision:0.7212073073868149 \n",
      " recall:0.8322639780018332 \n",
      "}\n",
      "=====Epoch 64\n",
      "Training...\n"
     ]
    },
    {
     "name": "stderr",
     "output_type": "stream",
     "text": [
      "Iteration: 100%|██████████| 62/62 [00:04<00:00, 14.69it/s]\n",
      "Iteration: 100%|██████████| 62/62 [00:04<00:00, 14.57it/s]\n",
      "Iteration: 100%|██████████| 18/18 [00:01<00:00, 15.98it/s]\n",
      "Iteration: 100%|██████████| 7/7 [00:00<00:00, 15.54it/s]s]\n",
      "Iteration: 100%|██████████| 18/18 [00:01<00:00, 15.85it/s]\n",
      "Iteration:  53%|█████▎    | 33/62 [00:04<00:04,  7.22it/s]"
     ]
    },
    {
     "name": "stdout",
     "output_type": "stream",
     "text": [
      "{'Train':  best_epoch_indx:66\n",
      " auc:0.9563161209829268 \n",
      " apur:0.9431557506663634 \n",
      " f1:0.8621654501216545 \n",
      " precision:0.8255096097845078 \n",
      " recall:0.9022278803309993 \n",
      ", 'Validation':  best_epoch_indx:66\n",
      " auc:0.8753533810807579 \n",
      " apur:0.8461316062066221 \n",
      " f1:0.7637362637362637 \n",
      " precision:0.73389651531151 \n",
      " recall:0.7961053837342497 \n",
      ", 'Test':  best_epoch_indx:66\n",
      " auc:0.8841860400522179 \n",
      " apur:0.8603168408464978 \n",
      " f1:0.7801047120418847 \n",
      " precision:0.7443796835970025 \n",
      " recall:0.8194317140238313 \n",
      "}\n",
      "=====Epoch 67\n",
      "Training...\n"
     ]
    },
    {
     "name": "stderr",
     "output_type": "stream",
     "text": [
      "Iteration: 100%|██████████| 7/7 [00:00<00:00, 15.46it/s]s]\n",
      "Iteration:  85%|████████▌ | 53/62 [00:07<00:01,  7.27it/s]"
     ]
    },
    {
     "name": "stdout",
     "output_type": "stream",
     "text": [
      "{'Train':  best_epoch_indx:66\n",
      " auc:0.9591533161565537 \n",
      " apur:0.9473321114248482 \n",
      " f1:0.8675657199676837 \n",
      " precision:0.8474987858183585 \n",
      " recall:0.8886059834500318 \n",
      ", 'Validation':  best_epoch_indx:66\n",
      " auc:0.8827912573617042 \n",
      " apur:0.8529523906924648 \n",
      " f1:0.766934557979334 \n",
      " precision:0.7686996547756041 \n",
      " recall:0.7651775486827033 \n",
      ", 'Test':  best_epoch_indx:66\n",
      " auc:0.8843287141587421 \n",
      " apur:0.8582585463787411 \n",
      " f1:0.7729227982793752 \n",
      " precision:0.763758389261745 \n",
      " recall:0.7823098075160403 \n",
      "}\n",
      "=====Epoch 67\n",
      "Training...\n"
     ]
    },
    {
     "name": "stderr",
     "output_type": "stream",
     "text": [
      "Iteration: 100%|██████████| 62/62 [00:08<00:00,  7.23it/s]\n",
      "Iteration:   3%|▎         | 2/62 [00:00<00:04, 14.92it/s]]"
     ]
    },
    {
     "name": "stdout",
     "output_type": "stream",
     "text": [
      "Evaluating...\n"
     ]
    },
    {
     "name": "stderr",
     "output_type": "stream",
     "text": [
      "Iteration: 100%|██████████| 62/62 [00:08<00:00,  7.28it/s]\n",
      "Iteration:  89%|████████▊ | 55/62 [00:07<00:00,  7.26it/s]"
     ]
    },
    {
     "name": "stdout",
     "output_type": "stream",
     "text": [
      "Evaluating...\n"
     ]
    },
    {
     "name": "stderr",
     "output_type": "stream",
     "text": [
      "Iteration: 100%|██████████| 62/62 [00:08<00:00,  7.25it/s]\n",
      "Iteration:  55%|█████▍    | 34/62 [00:02<00:01, 15.19it/s]"
     ]
    },
    {
     "name": "stdout",
     "output_type": "stream",
     "text": [
      "Evaluating...\n"
     ]
    },
    {
     "name": "stderr",
     "output_type": "stream",
     "text": [
      "Iteration: 100%|██████████| 62/62 [00:04<00:00, 14.57it/s]\n",
      "Iteration: 100%|██████████| 62/62 [00:04<00:00, 14.66it/s]\n",
      "Iteration: 100%|██████████| 18/18 [00:01<00:00, 16.06it/s]\n",
      "Iteration: 100%|██████████| 62/62 [00:04<00:00, 14.60it/s]\n",
      "Iteration: 100%|██████████| 62/62 [00:08<00:00,  7.31it/s]\n",
      "Iteration:  92%|█████████▏| 57/62 [00:07<00:00,  7.19it/s]"
     ]
    },
    {
     "name": "stdout",
     "output_type": "stream",
     "text": [
      "Evaluating...\n"
     ]
    },
    {
     "name": "stderr",
     "output_type": "stream",
     "text": [
      "Iteration: 100%|██████████| 18/18 [00:01<00:00, 15.86it/s]\n",
      "Iteration: 100%|██████████| 7/7 [00:00<00:00, 15.46it/s]s]\n",
      "Iteration: 100%|██████████| 62/62 [00:08<00:00,  7.21it/s]\n",
      "Iteration:   0%|          | 0/62 [00:00<?, ?it/s]"
     ]
    },
    {
     "name": "stdout",
     "output_type": "stream",
     "text": [
      "{'Train':  best_epoch_indx:64\n",
      " auc:0.9535498786684634 \n",
      " apur:0.9399127219928017 \n",
      " f1:0.8566040189893998 \n",
      " precision:0.8755650093060356 \n",
      " recall:0.8384468491406747 \n",
      ", 'Validation':  best_epoch_indx:64\n",
      " auc:0.882398825984164 \n",
      " apur:0.8593361715447867 \n",
      " f1:0.7545615067686875 \n",
      " precision:0.7760290556900726 \n",
      " recall:0.7342497136311569 \n",
      ", 'Test':  best_epoch_indx:64\n",
      " auc:0.8823327994272082 \n",
      " apur:0.8559921839777769 \n",
      " f1:0.769049858889934 \n",
      " precision:0.7898550724637681 \n",
      " recall:0.7493125572868927 \n",
      "}\n",
      "=====Epoch 65\n",
      "Training...\n",
      "Evaluating...\n"
     ]
    },
    {
     "name": "stderr",
     "output_type": "stream",
     "text": [
      "Iteration: 100%|██████████| 18/18 [00:01<00:00, 15.86it/s]\n",
      "Iteration: 100%|██████████| 7/7 [00:00<00:00, 15.55it/s]s]\n"
     ]
    },
    {
     "name": "stdout",
     "output_type": "stream",
     "text": [
      "{'Train':  best_epoch_indx:64\n",
      " auc:0.9475750253513309 \n",
      " apur:0.9355033360806361 \n",
      " f1:0.8495435179549604 \n",
      " precision:0.8138775510204082 \n",
      " recall:0.8884786760025462 \n",
      ", 'Validation':  best_epoch_indx:64\n",
      " auc:0.8806111901759095 \n",
      " apur:0.8613926289404229 \n",
      " f1:0.7727771679473107 \n",
      " precision:0.7418335089567967 \n",
      " recall:0.8064146620847652 \n",
      ", 'Test':  best_epoch_indx:64\n",
      " auc:0.8856951097793607 \n",
      " apur:0.8617675984352792 \n",
      " f1:0.7727272727272728 \n",
      " precision:0.7385129490392648 \n",
      " recall:0.8102658111824015 \n",
      "}\n",
      "=====Epoch 65\n",
      "Training...\n"
     ]
    },
    {
     "name": "stderr",
     "output_type": "stream",
     "text": [
      "Iteration: 100%|██████████| 62/62 [00:04<00:00, 15.30it/s]\n",
      "Iteration: 100%|██████████| 7/7 [00:00<00:00, 15.23it/s]\n",
      "Iteration:   0%|          | 0/62 [00:00<?, ?it/s]7.25it/s]"
     ]
    },
    {
     "name": "stdout",
     "output_type": "stream",
     "text": [
      "{'Train':  best_epoch_indx:66\n",
      " auc:0.9530387358811099 \n",
      " apur:0.9409071593533854 \n",
      " f1:0.8561465795980473 \n",
      " precision:0.8527405910583481 \n",
      " recall:0.8595798854232972 \n",
      ", 'Validation':  best_epoch_indx:66\n",
      " auc:0.8804858435442628 \n",
      " apur:0.8598368094082488 \n",
      " f1:0.7709049255441007 \n",
      " precision:0.7709049255441008 \n",
      " recall:0.7709049255441008 \n",
      ", 'Test':  best_epoch_indx:66\n",
      " auc:0.8907416045856065 \n",
      " apur:0.8676999925954515 \n",
      " f1:0.7776236708275542 \n",
      " precision:0.7845149253731343 \n",
      " recall:0.770852428964253 \n",
      "}\n",
      "=====Epoch 67\n",
      "Training...\n"
     ]
    },
    {
     "name": "stderr",
     "output_type": "stream",
     "text": [
      "Iteration: 100%|██████████| 62/62 [00:04<00:00, 15.12it/s]\n",
      "Iteration: 100%|██████████| 18/18 [00:01<00:00, 16.02it/s]\n",
      "Iteration: 100%|██████████| 7/7 [00:00<00:00, 15.64it/s]s]\n",
      "Iteration:  89%|████████▉ | 16/18 [00:01<00:00, 15.31it/s]"
     ]
    },
    {
     "name": "stdout",
     "output_type": "stream",
     "text": [
      "{'Train':  best_epoch_indx:67\n",
      " auc:0.9590092112399053 \n",
      " apur:0.9470872873965845 \n",
      " f1:0.8669866925928176 \n",
      " precision:0.829342013485236 \n",
      " recall:0.9082113303628262 \n",
      ", 'Validation':  best_epoch_indx:67\n",
      " auc:0.877565749129323 \n",
      " apur:0.8478651007711859 \n",
      " f1:0.7672131147540984 \n",
      " precision:0.7335423197492164 \n",
      " recall:0.8041237113402062 \n",
      ", 'Test':  best_epoch_indx:67\n",
      " auc:0.8878190706330029 \n",
      " apur:0.8634892826699343 \n",
      " f1:0.7814195789016715 \n",
      " precision:0.7422680412371134 \n",
      " recall:0.8249312557286893 \n",
      "}\n",
      "=====Epoch 68\n",
      "Training...\n"
     ]
    },
    {
     "name": "stderr",
     "output_type": "stream",
     "text": [
      "Iteration: 100%|██████████| 18/18 [00:01<00:00, 15.72it/s]\n",
      "Iteration: 100%|██████████| 7/7 [00:00<00:00, 15.35it/s]s]\n",
      "Iteration:  71%|███████   | 44/62 [00:06<00:02,  7.25it/s]"
     ]
    },
    {
     "name": "stdout",
     "output_type": "stream",
     "text": [
      "{'Train':  best_epoch_indx:67\n",
      " auc:0.9617566939125246 \n",
      " apur:0.9499344790805315 \n",
      " f1:0.8731961928154743 \n",
      " precision:0.8434163701067615 \n",
      " recall:0.90515595162317 \n",
      ", 'Validation':  best_epoch_indx:67\n",
      " auc:0.8843860521981943 \n",
      " apur:0.8533671616842543 \n",
      " f1:0.7712197863968522 \n",
      " precision:0.7571743929359823 \n",
      " recall:0.7857961053837342 \n",
      ", 'Test':  best_epoch_indx:67\n",
      " auc:0.8873551754935433 \n",
      " apur:0.8617617064393812 \n",
      " f1:0.7796234772978959 \n",
      " precision:0.7543934847835405 \n",
      " recall:0.8065994500458296 \n",
      "}\n",
      "=====Epoch 68\n",
      "Training...\n"
     ]
    },
    {
     "name": "stderr",
     "output_type": "stream",
     "text": [
      "Iteration: 100%|██████████| 62/62 [00:08<00:00,  7.30it/s]\n",
      "Iteration:   3%|▎         | 2/62 [00:00<00:03, 15.31it/s]]"
     ]
    },
    {
     "name": "stdout",
     "output_type": "stream",
     "text": [
      "Evaluating...\n"
     ]
    },
    {
     "name": "stderr",
     "output_type": "stream",
     "text": [
      "Iteration: 100%|██████████| 62/62 [00:08<00:00,  7.26it/s]\n",
      "Iteration:  71%|███████   | 44/62 [00:06<00:02,  7.13it/s]"
     ]
    },
    {
     "name": "stdout",
     "output_type": "stream",
     "text": [
      "Evaluating...\n"
     ]
    },
    {
     "name": "stderr",
     "output_type": "stream",
     "text": [
      "Iteration: 100%|██████████| 62/62 [00:08<00:00,  7.03it/s]\n",
      "Iteration:   3%|▎         | 2/62 [00:00<00:03, 15.13it/s]]"
     ]
    },
    {
     "name": "stdout",
     "output_type": "stream",
     "text": [
      "Evaluating...\n"
     ]
    },
    {
     "name": "stderr",
     "output_type": "stream",
     "text": [
      "Iteration: 100%|██████████| 62/62 [00:04<00:00, 15.22it/s]\n",
      "Iteration: 100%|██████████| 62/62 [00:04<00:00, 15.26it/s]\n",
      "Iteration: 100%|██████████| 62/62 [00:08<00:00,  7.22it/s]\n",
      "Iteration: 100%|██████████| 18/18 [00:01<00:00, 15.94it/s]\n",
      "Iteration:  92%|█████████▏| 57/62 [00:07<00:00,  7.16it/s]"
     ]
    },
    {
     "name": "stdout",
     "output_type": "stream",
     "text": [
      "Evaluating...\n"
     ]
    },
    {
     "name": "stderr",
     "output_type": "stream",
     "text": [
      "Iteration: 100%|██████████| 7/7 [00:00<00:00, 15.53it/s]s]\n",
      "Iteration:  56%|█████▌    | 10/18 [00:00<00:00, 15.48it/s]"
     ]
    },
    {
     "name": "stdout",
     "output_type": "stream",
     "text": [
      "{'Train':  best_epoch_indx:65\n",
      " auc:0.9551733612649852 \n",
      " apur:0.9426541334532502 \n",
      " f1:0.8619121849831125 \n",
      " precision:0.8798567829200371 \n",
      " recall:0.8446849140674729 \n",
      ", 'Validation':  best_epoch_indx:65\n",
      " auc:0.8827488323479158 \n",
      " apur:0.8580923412512766 \n",
      " f1:0.7660332541567697 \n",
      " precision:0.7953144266337855 \n",
      " recall:0.738831615120275 \n",
      ", 'Test':  best_epoch_indx:65\n",
      " auc:0.8843414283377619 \n",
      " apur:0.8623142008637632 \n",
      " f1:0.7742695570216777 \n",
      " precision:0.7967992240543162 \n",
      " recall:0.7529789184234648 \n",
      "}\n",
      "=====Epoch 66\n",
      "Training...\n"
     ]
    },
    {
     "name": "stderr",
     "output_type": "stream",
     "text": [
      "\r",
      "Iteration:  98%|█████████▊| 61/62 [00:08<00:00,  7.16it/s]\r",
      "Iteration:  19%|█▉        | 12/62 [00:00<00:03, 15.35it/s]\r",
      "Iteration:  58%|█████▊    | 36/62 [00:02<00:01, 15.17it/s]\r",
      "Iteration:   2%|▏         | 1/62 [00:00<00:08,  7.21it/s]\r",
      "Iteration:  67%|██████▋   | 12/18 [00:00<00:00, 15.56it/s]\r",
      "Iteration: 100%|██████████| 62/62 [00:08<00:00,  7.45it/s]\r",
      "Iteration: 100%|██████████| 62/62 [00:08<00:00,  7.21it/s]\n",
      "\r",
      "Iteration:   0%|          | 0/62 [00:00<?, ?it/s]\r",
      "Iteration:  23%|██▎       | 14/62 [00:00<00:03, 15.27it/s]\r",
      "Iteration:  61%|██████▏   | 38/62 [00:02<00:01, 15.17it/s]\r",
      "Iteration:   3%|▎         | 2/62 [00:00<00:08,  7.24it/s]"
     ]
    },
    {
     "name": "stdout",
     "output_type": "stream",
     "text": [
      "Evaluating...\n"
     ]
    },
    {
     "name": "stderr",
     "output_type": "stream",
     "text": [
      "Iteration: 100%|██████████| 18/18 [00:01<00:00, 15.99it/s]\n",
      "Iteration: 100%|██████████| 62/62 [00:04<00:00, 15.21it/s]\n",
      "Iteration: 100%|██████████| 18/18 [00:01<00:00, 15.93it/s]\n",
      "Iteration: 100%|██████████| 62/62 [00:04<00:00, 15.34it/s]\n",
      "Iteration: 100%|██████████| 7/7 [00:00<00:00, 15.43it/s]s]\n",
      "Iteration:  87%|████████▋ | 54/62 [00:03<00:00, 15.17it/s]"
     ]
    },
    {
     "name": "stdout",
     "output_type": "stream",
     "text": [
      "{'Train':  best_epoch_indx:67\n",
      " auc:0.9564538385458132 \n",
      " apur:0.9439793667301696 \n",
      " f1:0.8574786185284325 \n",
      " precision:0.8800589654248191 \n",
      " recall:0.8360280076384469 \n",
      ", 'Validation':  best_epoch_indx:67\n",
      " auc:0.882403647008458 \n",
      " apur:0.8605958334881854 \n",
      " f1:0.7702303603071472 \n",
      " precision:0.7951219512195122 \n",
      " recall:0.7468499427262314 \n",
      ", 'Test':  best_epoch_indx:67\n",
      " auc:0.8880441618076679 \n",
      " apur:0.8665534850962486 \n",
      " f1:0.7711703139866793 \n",
      " precision:0.8016815034619189 \n",
      " recall:0.7428964252978918 \n",
      "}\n",
      "=====Epoch 68\n",
      "Training...\n"
     ]
    },
    {
     "name": "stderr",
     "output_type": "stream",
     "text": [
      "Iteration: 100%|██████████| 62/62 [00:04<00:00, 15.15it/s]\n",
      "Iteration: 100%|██████████| 18/18 [00:01<00:00, 15.89it/s]\n",
      "Iteration: 100%|██████████| 7/7 [00:00<00:00, 15.42it/s]s]\n",
      "Iteration:   2%|▏         | 1/62 [00:00<00:08,  7.20it/s]]"
     ]
    },
    {
     "name": "stdout",
     "output_type": "stream",
     "text": [
      "{'Train':  best_epoch_indx:68\n",
      " auc:0.9607546000370765 \n",
      " apur:0.9489330245229612 \n",
      " f1:0.8723663378394836 \n",
      " precision:0.8361153262518968 \n",
      " recall:0.9119032463399109 \n",
      ", 'Validation':  best_epoch_indx:68\n",
      " auc:0.875633964694675 \n",
      " apur:0.8446937329970082 \n",
      " f1:0.7683863885839736 \n",
      " precision:0.7376185458377239 \n",
      " recall:0.8018327605956472 \n",
      ", 'Test':  best_epoch_indx:68\n",
      " auc:0.8868404484811452 \n",
      " apur:0.863576726985108 \n",
      " f1:0.7801696020874103 \n",
      " precision:0.7422424493173355 \n",
      " recall:0.8221814848762603 \n",
      "}\n",
      "=====Epoch 69\n",
      "Training...\n"
     ]
    },
    {
     "name": "stderr",
     "output_type": "stream",
     "text": [
      "\r",
      "Iteration:  86%|████████▌ | 6/7 [00:00<00:00, 14.54it/s]\r",
      "Iteration:  65%|██████▍   | 40/62 [00:05<00:03,  7.19it/s]\r",
      "Iteration:  21%|██        | 13/62 [00:01<00:06,  7.21it/s]\r",
      "Iteration:  89%|████████▉ | 16/18 [00:01<00:00, 15.25it/s]\r",
      "Iteration:   3%|▎         | 2/62 [00:00<00:08,  7.25it/s]\r",
      "Iteration: 100%|██████████| 7/7 [00:00<00:00, 14.75it/s]\n",
      "\r",
      "Iteration:   0%|          | 0/62 [00:00<?, ?it/s]\r",
      "Iteration: 100%|██████████| 18/18 [00:01<00:00, 15.69it/s]\n",
      "\r",
      "Iteration:  66%|██████▌   | 41/62 [00:05<00:02,  7.26it/s]\r",
      "Iteration:  23%|██▎       | 14/62 [00:01<00:06,  7.21it/s]\r",
      "Iteration:   5%|▍         | 3/62 [00:00<00:08,  7.28it/s]"
     ]
    },
    {
     "name": "stdout",
     "output_type": "stream",
     "text": [
      "{'Train':  best_epoch_indx:65\n",
      " auc:0.9507661967168017 \n",
      " apur:0.9369066296170246 \n",
      " f1:0.8417086883440562 \n",
      " precision:0.7726111938710364 \n",
      " recall:0.9243793761935073 \n",
      ", 'Validation':  best_epoch_indx:65\n",
      " auc:0.881169464789167 \n",
      " apur:0.8599819052332315 \n",
      " f1:0.7678664580073031 \n",
      " precision:0.7049808429118773 \n",
      " recall:0.843069873997709 \n",
      ", 'Test':  best_epoch_indx:65\n",
      " auc:0.8885788652001015 \n",
      " apur:0.8618612747435006 \n",
      " f1:0.7714285714285715 \n",
      " precision:0.7035498489425982 \n",
      " recall:0.8538038496791934 \n",
      "}\n",
      "=====Epoch 66\n",
      "Training...\n"
     ]
    },
    {
     "name": "stderr",
     "output_type": "stream",
     "text": [
      "Iteration: 100%|██████████| 7/7 [00:00<00:00, 15.45it/s]]]\n",
      "Iteration:   2%|▏         | 1/62 [00:00<00:08,  7.22it/s]]"
     ]
    },
    {
     "name": "stdout",
     "output_type": "stream",
     "text": [
      "{'Train':  best_epoch_indx:68\n",
      " auc:0.9627302386151236 \n",
      " apur:0.9516638414117621 \n",
      " f1:0.8759251197213758 \n",
      " precision:0.8562743190661478 \n",
      " recall:0.8964990451941438 \n",
      ", 'Validation':  best_epoch_indx:68\n",
      " auc:0.8849761455717927 \n",
      " apur:0.8543644618328656 \n",
      " f1:0.7729852440408627 \n",
      " precision:0.766029246344207 \n",
      " recall:0.7800687285223368 \n",
      ", 'Test':  best_epoch_indx:68\n",
      " auc:0.8868625352288343 \n",
      " apur:0.8610500264327102 \n",
      " f1:0.7741935483870968 \n",
      " precision:0.7623278542869836 \n",
      " recall:0.7864344637946837 \n",
      "}\n",
      "=====Epoch 69\n",
      "Training...\n"
     ]
    },
    {
     "name": "stderr",
     "output_type": "stream",
     "text": [
      "Iteration: 100%|██████████| 62/62 [00:08<00:00,  7.28it/s]\n",
      "Iteration:  56%|█████▋    | 35/62 [00:04<00:03,  7.19it/s]"
     ]
    },
    {
     "name": "stdout",
     "output_type": "stream",
     "text": [
      "Evaluating...\n"
     ]
    },
    {
     "name": "stderr",
     "output_type": "stream",
     "text": [
      "Iteration: 100%|██████████| 62/62 [00:08<00:00,  7.24it/s]\n",
      "Iteration:  90%|█████████ | 56/62 [00:03<00:00, 12.05it/s]"
     ]
    },
    {
     "name": "stdout",
     "output_type": "stream",
     "text": [
      "Evaluating...\n"
     ]
    },
    {
     "name": "stderr",
     "output_type": "stream",
     "text": [
      "Iteration: 100%|██████████| 62/62 [00:04<00:00, 14.67it/s]\n",
      "Iteration: 100%|██████████| 62/62 [00:08<00:00,  7.14it/s]\n",
      "Iteration:  89%|████████▊ | 55/62 [00:07<00:01,  5.74it/s]"
     ]
    },
    {
     "name": "stdout",
     "output_type": "stream",
     "text": [
      "Evaluating...\n"
     ]
    },
    {
     "name": "stderr",
     "output_type": "stream",
     "text": [
      "\r",
      "Iteration:  98%|█████████▊| 61/62 [00:08<00:00,  7.30it/s]\r",
      "Iteration: 100%|██████████| 18/18 [00:01<00:00, 15.89it/s]\n",
      "\r",
      "Iteration:   3%|▎         | 2/62 [00:00<00:03, 15.12it/s]\r",
      "Iteration:  45%|████▌     | 28/62 [00:01<00:02, 15.34it/s]\r",
      "Iteration:   0%|          | 0/7 [00:00<?, ?it/s]\r",
      "Iteration:  90%|█████████ | 56/62 [00:07<00:00,  6.08it/s]\r",
      "Iteration: 100%|██████████| 62/62 [00:08<00:00,  7.59it/s]\r",
      "Iteration: 100%|██████████| 62/62 [00:08<00:00,  7.23it/s]\n",
      "\r",
      "Iteration:   0%|          | 0/62 [00:00<?, ?it/s]\r",
      "Iteration:   6%|▋         | 4/62 [00:00<00:03, 15.08it/s]"
     ]
    },
    {
     "name": "stdout",
     "output_type": "stream",
     "text": [
      "Evaluating...\n"
     ]
    },
    {
     "name": "stderr",
     "output_type": "stream",
     "text": [
      "Iteration: 100%|██████████| 7/7 [00:00<00:00, 15.48it/s]s]\n",
      "Iteration:  58%|█████▊    | 36/62 [00:02<00:01, 15.39it/s]"
     ]
    },
    {
     "name": "stdout",
     "output_type": "stream",
     "text": [
      "{'Train':  best_epoch_indx:66\n",
      " auc:0.958620780007931 \n",
      " apur:0.9472599248934074 \n",
      " f1:0.8680856407358574 \n",
      " precision:0.8564172447968286 \n",
      " recall:0.8800763844684915 \n",
      ", 'Validation':  best_epoch_indx:66\n",
      " auc:0.8860030237464374 \n",
      " apur:0.861228559397626 \n",
      " f1:0.7761877504293074 \n",
      " precision:0.7757437070938215 \n",
      " recall:0.7766323024054983 \n",
      ", 'Test':  best_epoch_indx:66\n",
      " auc:0.8840613590842737 \n",
      " apur:0.8598320398655638 \n",
      " f1:0.7770208900999092 \n",
      " precision:0.77002700270027 \n",
      " recall:0.7841429880843263 \n",
      "}\n",
      "=====Epoch 67\n",
      "Training...\n"
     ]
    },
    {
     "name": "stderr",
     "output_type": "stream",
     "text": [
      "Iteration: 100%|██████████| 62/62 [00:08<00:00,  7.07it/s]\n",
      "Iteration:   3%|▎         | 2/62 [00:00<00:03, 15.06it/s]]"
     ]
    },
    {
     "name": "stdout",
     "output_type": "stream",
     "text": [
      "Evaluating...\n"
     ]
    },
    {
     "name": "stderr",
     "output_type": "stream",
     "text": [
      "Iteration: 100%|██████████| 62/62 [00:04<00:00, 15.26it/s]\n",
      "Iteration: 100%|██████████| 18/18 [00:01<00:00, 15.98it/s]\n",
      "Iteration: 100%|██████████| 62/62 [00:04<00:00, 15.33it/s]\n",
      "Iteration: 100%|██████████| 62/62 [00:04<00:00, 14.52it/s]\n",
      "Iteration: 100%|██████████| 62/62 [00:04<00:00, 15.18it/s]\n",
      "Iteration: 100%|██████████| 18/18 [00:01<00:00, 15.84it/s]\n",
      "Iteration: 100%|██████████| 18/18 [00:01<00:00, 15.88it/s]\n",
      "Iteration: 100%|██████████| 18/18 [00:01<00:00, 15.76it/s]\n",
      "Iteration: 100%|██████████| 7/7 [00:00<00:00, 15.36it/s]s]\n",
      "Iteration:  74%|███████▍  | 46/62 [00:06<00:02,  7.25it/s]"
     ]
    },
    {
     "name": "stdout",
     "output_type": "stream",
     "text": [
      "{'Train':  best_epoch_indx:69\n",
      " auc:0.9650481273360291 \n",
      " apur:0.9544593427758422 \n",
      " f1:0.8792457542457541 \n",
      " precision:0.8627619164318098 \n",
      " recall:0.8963717377466581 \n",
      ", 'Validation':  best_epoch_indx:69\n",
      " auc:0.8840466520878892 \n",
      " apur:0.8545930356220244 \n",
      " f1:0.768 \n",
      " precision:0.766248574686431 \n",
      " recall:0.7697594501718213 \n",
      ", 'Test':  best_epoch_indx:69\n",
      " auc:0.8868592164866468 \n",
      " apur:0.8618729312932117 \n",
      " f1:0.7743985474353156 \n",
      " precision:0.7670863309352518 \n",
      " recall:0.7818515123739689 \n",
      "}\n",
      "=====Epoch 70\n",
      "Training...\n"
     ]
    },
    {
     "name": "stderr",
     "output_type": "stream",
     "text": [
      "Iteration: 100%|██████████| 7/7 [00:00<00:00, 14.51it/s]s]\n",
      "Iteration:  23%|██▎       | 14/62 [00:01<00:06,  7.25it/s]"
     ]
    },
    {
     "name": "stdout",
     "output_type": "stream",
     "text": [
      "{'Train':  best_epoch_indx:68\n",
      " auc:0.9579402988807307 \n",
      " apur:0.9457488038424783 \n",
      " f1:0.8662291771832408 \n",
      " precision:0.8587514074815463 \n",
      " recall:0.8738383195416932 \n",
      ", 'Validation':  best_epoch_indx:68\n",
      " auc:0.8855440622336384 \n",
      " apur:0.8657393807447384 \n",
      " f1:0.7770114942528735 \n",
      " precision:0.7797001153402537 \n",
      " recall:0.7743413516609393 \n",
      ", 'Test':  best_epoch_indx:68\n",
      " auc:0.8916796509238913 \n",
      " apur:0.8695763529161193 \n",
      " f1:0.7802400738688827 \n",
      " precision:0.786046511627907 \n",
      " recall:0.7745187901008249 \n",
      "}\n",
      "=====Epoch 69\n",
      "Training...\n"
     ]
    },
    {
     "name": "stderr",
     "output_type": "stream",
     "text": [
      "Iteration: 100%|██████████| 62/62 [00:08<00:00,  7.28it/s]\n",
      "Iteration:  27%|██▋       | 17/62 [00:02<00:06,  7.24it/s]"
     ]
    },
    {
     "name": "stdout",
     "output_type": "stream",
     "text": [
      "Evaluating...\n"
     ]
    },
    {
     "name": "stderr",
     "output_type": "stream",
     "text": [
      "Iteration: 100%|██████████| 7/7 [00:00<00:00, 14.38it/s]s]\n",
      "Iteration:  19%|█▉        | 12/62 [00:01<00:07,  7.11it/s]"
     ]
    },
    {
     "name": "stdout",
     "output_type": "stream",
     "text": [
      "{'Train':  best_epoch_indx:69\n",
      " auc:0.962649449135351 \n",
      " apur:0.9511765012120933 \n",
      " f1:0.8723220881556267 \n",
      " precision:0.8445583502205268 \n",
      " recall:0.901973265436028 \n",
      ", 'Validation':  best_epoch_indx:69\n",
      " auc:0.8800191683925934 \n",
      " apur:0.8494621827304035 \n",
      " f1:0.7690595436839176 \n",
      " precision:0.7478354978354979 \n",
      " recall:0.7915234822451317 \n",
      ", 'Test':  best_epoch_indx:69\n",
      " auc:0.8893505788097906 \n",
      " apur:0.8655755382443295 \n",
      " f1:0.7836051123843103 \n",
      " precision:0.7546689303904923 \n",
      " recall:0.8148487626031164 \n",
      "}\n",
      "=====Epoch 70\n",
      "Training...\n"
     ]
    },
    {
     "name": "stderr",
     "output_type": "stream",
     "text": [
      "Iteration: 100%|██████████| 7/7 [00:00<00:00, 15.41it/s]s]\n",
      "Iteration:  24%|██▍       | 15/62 [00:02<00:06,  7.17it/s]"
     ]
    },
    {
     "name": "stdout",
     "output_type": "stream",
     "text": [
      "{'Train':  best_epoch_indx:66\n",
      " auc:0.9535010977141228 \n",
      " apur:0.9404469944865727 \n",
      " f1:0.8588002962231547 \n",
      " precision:0.8333932207449994 \n",
      " recall:0.8858052196053469 \n",
      ", 'Validation':  best_epoch_indx:66\n",
      " auc:0.884198996455583 \n",
      " apur:0.8623557083600298 \n",
      " f1:0.773511407902059 \n",
      " precision:0.7521645021645021 \n",
      " recall:0.7961053837342497 \n",
      ", 'Test':  best_epoch_indx:66\n",
      " auc:0.8894631942229806 \n",
      " apur:0.8635912811422828 \n",
      " f1:0.7778024417314096 \n",
      " precision:0.7541971588463194 \n",
      " recall:0.8029330889092575 \n",
      "}\n",
      "=====Epoch 67\n",
      "Training...\n"
     ]
    },
    {
     "name": "stderr",
     "output_type": "stream",
     "text": [
      "Iteration: 100%|██████████| 62/62 [00:04<00:00, 15.26it/s]\n",
      "Iteration: 100%|██████████| 18/18 [00:01<00:00, 15.93it/s]\n",
      "Iteration: 100%|██████████| 7/7 [00:00<00:00, 15.48it/s]s]\n",
      "Iteration:  56%|█████▋    | 35/62 [00:04<00:03,  7.31it/s]"
     ]
    },
    {
     "name": "stdout",
     "output_type": "stream",
     "text": [
      "{'Train':  best_epoch_indx:67\n",
      " auc:0.9597490689102031 \n",
      " apur:0.9484461460466318 \n",
      " f1:0.865771812080537 \n",
      " precision:0.8778955634079308 \n",
      " recall:0.8539783577339274 \n",
      ", 'Validation':  best_epoch_indx:67\n",
      " auc:0.8846810988849936 \n",
      " apur:0.8608152047624752 \n",
      " f1:0.7685076380728555 \n",
      " precision:0.7889022919179735 \n",
      " recall:0.7491408934707904 \n",
      ", 'Test':  best_epoch_indx:67\n",
      " auc:0.8848835127936869 \n",
      " apur:0.8636349901411834 \n",
      " f1:0.7753860552175947 \n",
      " precision:0.7920650095602294 \n",
      " recall:0.7593950504124656 \n",
      "}\n",
      "=====Epoch 68\n",
      "Training...\n"
     ]
    },
    {
     "name": "stderr",
     "output_type": "stream",
     "text": [
      "Iteration: 100%|██████████| 62/62 [00:08<00:00,  7.23it/s]\n",
      "Iteration:   3%|▎         | 2/62 [00:00<00:03, 15.18it/s]]"
     ]
    },
    {
     "name": "stdout",
     "output_type": "stream",
     "text": [
      "Evaluating...\n"
     ]
    },
    {
     "name": "stderr",
     "output_type": "stream",
     "text": [
      "Iteration: 100%|██████████| 62/62 [00:08<00:00,  7.08it/s]\n",
      "Iteration:   3%|▎         | 2/62 [00:00<00:03, 15.38it/s]]"
     ]
    },
    {
     "name": "stdout",
     "output_type": "stream",
     "text": [
      "Evaluating...\n"
     ]
    },
    {
     "name": "stderr",
     "output_type": "stream",
     "text": [
      "Iteration: 100%|██████████| 62/62 [00:08<00:00,  7.32it/s]\n",
      "Iteration:  45%|████▌     | 28/62 [00:03<00:04,  7.31it/s]"
     ]
    },
    {
     "name": "stdout",
     "output_type": "stream",
     "text": [
      "Evaluating...\n"
     ]
    },
    {
     "name": "stderr",
     "output_type": "stream",
     "text": [
      "Iteration: 100%|██████████| 62/62 [00:08<00:00,  7.26it/s]\n",
      "Iteration:  16%|█▌        | 10/62 [00:00<00:03, 15.39it/s]"
     ]
    },
    {
     "name": "stdout",
     "output_type": "stream",
     "text": [
      "Evaluating...\n"
     ]
    },
    {
     "name": "stderr",
     "output_type": "stream",
     "text": [
      "Iteration: 100%|██████████| 62/62 [00:04<00:00, 15.21it/s]\n",
      "Iteration: 100%|██████████| 18/18 [00:01<00:00, 15.83it/s]\n",
      "Iteration: 100%|██████████| 62/62 [00:04<00:00, 15.20it/s]\n",
      "Iteration: 100%|██████████| 18/18 [00:01<00:00, 15.99it/s]\n",
      "Iteration: 100%|██████████| 62/62 [00:04<00:00, 15.36it/s]\n",
      "Iteration: 100%|██████████| 7/7 [00:00<00:00, 15.48it/s]s]\n",
      "Iteration: 100%|██████████| 62/62 [00:04<00:00, 15.16it/s]\n",
      "Iteration: 100%|██████████| 62/62 [00:08<00:00,  7.31it/s]\n",
      "Iteration:   0%|          | 0/62 [00:00<?, ?it/s]"
     ]
    },
    {
     "name": "stdout",
     "output_type": "stream",
     "text": [
      "{'Train':  best_epoch_indx:69\n",
      " auc:0.9594255385408709 \n",
      " apur:0.9478872476666467 \n",
      " f1:0.8691571002727214 \n",
      " precision:0.8660262891809909 \n",
      " recall:0.872310630171865 \n",
      ", 'Validation':  best_epoch_indx:69\n",
      " auc:0.882640841403728 \n",
      " apur:0.8621412388117546 \n",
      " f1:0.7683486238532111 \n",
      " precision:0.7692307692307693 \n",
      " recall:0.7674684994272624 \n",
      ", 'Test':  best_epoch_indx:69\n",
      " auc:0.8913892223924642 \n",
      " apur:0.869044108387026 \n",
      " f1:0.7838214783821478 \n",
      " precision:0.7952830188679245 \n",
      " recall:0.772685609532539 \n",
      "}\n",
      "=====Epoch 70\n",
      "Training...\n",
      "Evaluating...\n"
     ]
    },
    {
     "name": "stderr",
     "output_type": "stream",
     "text": [
      "Iteration: 100%|██████████| 18/18 [00:01<00:00, 15.94it/s]\n",
      "Iteration: 100%|██████████| 7/7 [00:00<00:00, 15.58it/s]]]\n",
      "Iteration: 100%|██████████| 18/18 [00:01<00:00, 15.93it/s]\n",
      "Iteration:  16%|█▌        | 10/62 [00:01<00:07,  7.22it/s]"
     ]
    },
    {
     "name": "stdout",
     "output_type": "stream",
     "text": [
      "{'Train':  best_epoch_indx:70\n",
      " auc:0.963313510697893 \n",
      " apur:0.9522470486545517 \n",
      " f1:0.8740758994578609 \n",
      " precision:0.8468425450638654 \n",
      " recall:0.9031190324633991 \n",
      ", 'Validation':  best_epoch_indx:70\n",
      " auc:0.8784571565213032 \n",
      " apur:0.847975011076028 \n",
      " f1:0.7732590529247911 \n",
      " precision:0.7527114967462039 \n",
      " recall:0.7949599083619702 \n",
      ", 'Test':  best_epoch_indx:70\n",
      " auc:0.8880446691170798 \n",
      " apur:0.8647477201297524 \n",
      " f1:0.7829542945462574 \n",
      " precision:0.7554324669791223 \n",
      " recall:0.812557286892759 \n",
      "}\n",
      "=====Epoch 71\n",
      "Training...\n"
     ]
    },
    {
     "name": "stderr",
     "output_type": "stream",
     "text": [
      "Iteration: 100%|██████████| 7/7 [00:00<00:00, 15.45it/s]s]\n",
      "Iteration:   6%|▋         | 4/62 [00:00<00:07,  7.33it/s]"
     ]
    },
    {
     "name": "stdout",
     "output_type": "stream",
     "text": [
      "{'Train':  best_epoch_indx:67\n",
      " auc:0.9552333543130607 \n",
      " apur:0.9428855851144876 \n",
      " f1:0.861168513995867 \n",
      " precision:0.8474242050776436 \n",
      " recall:0.8753660089115213 \n",
      ", 'Validation':  best_epoch_indx:67\n",
      " auc:0.8869354098449173 \n",
      " apur:0.8641916071964658 \n",
      " f1:0.777027027027027 \n",
      " precision:0.7641196013289037 \n",
      " recall:0.7903780068728522 \n",
      ", 'Test':  best_epoch_indx:67\n",
      " auc:0.8884894907011931 \n",
      " apur:0.8611132469685504 \n",
      " f1:0.7783008294104461 \n",
      " precision:0.7617376042123738 \n",
      " recall:0.7956003666361137 \n",
      "}\n",
      "=====Epoch 68\n",
      "Training...\n"
     ]
    },
    {
     "name": "stderr",
     "output_type": "stream",
     "text": [
      "Iteration: 100%|██████████| 7/7 [00:00<00:00, 14.17it/s]s]\n",
      "Iteration:  16%|█▌        | 10/62 [00:01<00:07,  7.20it/s]"
     ]
    },
    {
     "name": "stdout",
     "output_type": "stream",
     "text": [
      "{'Train':  best_epoch_indx:70\n",
      " auc:0.9643915710322561 \n",
      " apur:0.9533877700565012 \n",
      " f1:0.8742028985507247 \n",
      " precision:0.8847457627118644 \n",
      " recall:0.8639083386378104 \n",
      ", 'Validation':  best_epoch_indx:70\n",
      " auc:0.8860319498922019 \n",
      " apur:0.8558430655746607 \n",
      " f1:0.7676767676767676 \n",
      " precision:0.7975308641975308 \n",
      " recall:0.7399770904925544 \n",
      ", 'Test':  best_epoch_indx:70\n",
      " auc:0.8885061615921812 \n",
      " apur:0.8637994974324396 \n",
      " f1:0.7700282752120642 \n",
      " precision:0.7924345295829291 \n",
      " recall:0.7488542621448213 \n",
      "}\n",
      "=====Epoch 71\n",
      "Training...\n"
     ]
    },
    {
     "name": "stderr",
     "output_type": "stream",
     "text": [
      "Iteration: 100%|██████████| 62/62 [00:04<00:00, 15.25it/s]\n",
      "Iteration: 100%|██████████| 18/18 [00:01<00:00, 15.94it/s]\n",
      "Iteration: 100%|██████████| 7/7 [00:00<00:00, 15.52it/s]s]\n",
      "Iteration:  48%|████▊     | 30/62 [00:04<00:04,  7.18it/s]"
     ]
    },
    {
     "name": "stdout",
     "output_type": "stream",
     "text": [
      "{'Train':  best_epoch_indx:68\n",
      " auc:0.9632862364856426 \n",
      " apur:0.9531162769304538 \n",
      " f1:0.8773644788625111 \n",
      " precision:0.8749208760602608 \n",
      " recall:0.8798217695735201 \n",
      ", 'Validation':  best_epoch_indx:68\n",
      " auc:0.883511036288814 \n",
      " apur:0.8592667787910664 \n",
      " f1:0.7701215981470758 \n",
      " precision:0.7786885245901639 \n",
      " recall:0.7617411225658648 \n",
      ", 'Test':  best_epoch_indx:68\n",
      " auc:0.8860895851271653 \n",
      " apur:0.8634832483420467 \n",
      " f1:0.7759963353183693 \n",
      " precision:0.7756410256410257 \n",
      " recall:0.7763519706691109 \n",
      "}\n",
      "=====Epoch 69\n",
      "Training...\n"
     ]
    },
    {
     "name": "stderr",
     "output_type": "stream",
     "text": [
      "Iteration: 100%|██████████| 62/62 [00:08<00:00,  7.23it/s]\n",
      "Iteration:  71%|███████   | 44/62 [00:06<00:02,  7.22it/s]"
     ]
    },
    {
     "name": "stdout",
     "output_type": "stream",
     "text": [
      "Evaluating...\n"
     ]
    },
    {
     "name": "stderr",
     "output_type": "stream",
     "text": [
      "Iteration: 100%|██████████| 62/62 [00:08<00:00,  7.32it/s]\n",
      "Iteration:  47%|████▋     | 29/62 [00:03<00:04,  7.31it/s]"
     ]
    },
    {
     "name": "stdout",
     "output_type": "stream",
     "text": [
      "Evaluating...\n"
     ]
    },
    {
     "name": "stderr",
     "output_type": "stream",
     "text": [
      "Iteration: 100%|██████████| 62/62 [00:08<00:00,  7.25it/s]\n",
      "Iteration:  92%|█████████▏| 57/62 [00:07<00:00,  7.25it/s]"
     ]
    },
    {
     "name": "stdout",
     "output_type": "stream",
     "text": [
      "Evaluating...\n"
     ]
    },
    {
     "name": "stderr",
     "output_type": "stream",
     "text": [
      "Iteration: 100%|██████████| 62/62 [00:08<00:00,  7.23it/s]\n",
      "Iteration:   0%|          | 0/62 [00:00<?, ?it/s]"
     ]
    },
    {
     "name": "stdout",
     "output_type": "stream",
     "text": [
      "Evaluating...\n"
     ]
    },
    {
     "name": "stderr",
     "output_type": "stream",
     "text": [
      "Iteration: 100%|██████████| 62/62 [00:04<00:00, 15.20it/s]\n",
      "Iteration: 100%|██████████| 62/62 [00:04<00:00, 15.39it/s]\n",
      "Iteration: 100%|██████████| 18/18 [00:01<00:00, 15.94it/s]\n",
      "Iteration: 100%|██████████| 62/62 [00:04<00:00, 15.24it/s]\n",
      "Iteration: 100%|██████████| 62/62 [00:08<00:00,  7.16it/s]\n",
      "Iteration:  87%|████████▋ | 54/62 [00:03<00:00, 15.14it/s]"
     ]
    },
    {
     "name": "stdout",
     "output_type": "stream",
     "text": [
      "Evaluating...\n"
     ]
    },
    {
     "name": "stderr",
     "output_type": "stream",
     "text": [
      "Iteration: 100%|██████████| 18/18 [00:01<00:00, 15.90it/s]\n",
      "Iteration: 100%|██████████| 62/62 [00:04<00:00, 15.17it/s]\n",
      "Iteration: 100%|██████████| 7/7 [00:00<00:00, 15.58it/s]]]\n",
      "Iteration:  89%|████████▉ | 16/18 [00:01<00:00, 15.37it/s]"
     ]
    },
    {
     "name": "stdout",
     "output_type": "stream",
     "text": [
      "{'Train':  best_epoch_indx:71\n",
      " auc:0.9624733994548373 \n",
      " apur:0.9511050424653166 \n",
      " f1:0.8751650839569838 \n",
      " precision:0.8647775292070594 \n",
      " recall:0.8858052196053469 \n",
      ", 'Validation':  best_epoch_indx:71\n",
      " auc:0.8794126835363949 \n",
      " apur:0.8465436342957773 \n",
      " f1:0.7680911680911681 \n",
      " precision:0.764172335600907 \n",
      " recall:0.7720504009163803 \n",
      ", 'Test':  best_epoch_indx:71\n",
      " auc:0.8890294635940833 \n",
      " apur:0.864569311288878 \n",
      " f1:0.7780797101449276 \n",
      " precision:0.7690241718889884 \n",
      " recall:0.7873510540788268 \n",
      "}\n",
      "=====Epoch 72\n",
      "Training...\n"
     ]
    },
    {
     "name": "stderr",
     "output_type": "stream",
     "text": [
      "Iteration: 100%|██████████| 18/18 [00:01<00:00, 15.89it/s]\n",
      "Iteration: 100%|██████████| 18/18 [00:01<00:00, 15.67it/s]\n",
      "Iteration: 100%|██████████| 7/7 [00:00<00:00, 15.39it/s]s]\n",
      "Iteration:  61%|██████▏   | 38/62 [00:02<00:01, 15.28it/s]"
     ]
    },
    {
     "name": "stdout",
     "output_type": "stream",
     "text": [
      "{'Train':  best_epoch_indx:71\n",
      " auc:0.9645594287003864 \n",
      " apur:0.95415913016733 \n",
      " f1:0.8775061278360882 \n",
      " precision:0.8665590863952334 \n",
      " recall:0.8887332908975175 \n",
      ", 'Validation':  best_epoch_indx:71\n",
      " auc:0.88626239485346 \n",
      " apur:0.855788954602662 \n",
      " f1:0.7771428571428572 \n",
      " precision:0.7753705815279361 \n",
      " recall:0.7789232531500573 \n",
      ", 'Test':  best_epoch_indx:71\n",
      " auc:0.8881006576049054 \n",
      " apur:0.8637203404716248 \n",
      " f1:0.7741935483870969 \n",
      " precision:0.7729556875285518 \n",
      " recall:0.775435380384968 \n",
      "}\n",
      "=====Epoch 72\n",
      "Training...\n"
     ]
    },
    {
     "name": "stderr",
     "output_type": "stream",
     "text": [
      "Iteration: 100%|██████████| 62/62 [00:04<00:00, 15.16it/s]\n",
      "Iteration: 100%|██████████| 7/7 [00:00<00:00, 15.31it/s]s]\n"
     ]
    },
    {
     "name": "stdout",
     "output_type": "stream",
     "text": [
      "{'Train':  best_epoch_indx:70\n",
      " auc:0.9596508274686362 \n",
      " apur:0.9482572079625999 \n",
      " f1:0.8662256759360348 \n",
      " precision:0.8740279937791602 \n",
      " recall:0.8585614258434119 \n",
      ", 'Validation':  best_epoch_indx:70\n",
      " auc:0.883439203026832 \n",
      " apur:0.8631827400394532 \n",
      " f1:0.7732558139534883 \n",
      " precision:0.7851239669421488 \n",
      " recall:0.7617411225658648 \n",
      ", 'Test':  best_epoch_indx:70\n",
      " auc:0.89249745074292 \n",
      " apur:0.8710542893188151 \n",
      " f1:0.776266416510319 \n",
      " precision:0.7949087415946205 \n",
      " recall:0.7584784601283227 \n",
      "}\n",
      "=====Epoch 71\n",
      "Training...\n"
     ]
    },
    {
     "name": "stderr",
     "output_type": "stream",
     "text": [
      "Iteration: 100%|██████████| 18/18 [00:01<00:00, 15.79it/s]\n",
      "Iteration: 100%|██████████| 7/7 [00:00<00:00, 14.23it/s]s]\n",
      "Iteration:  63%|██████▎   | 39/62 [00:05<00:03,  7.16it/s]"
     ]
    },
    {
     "name": "stdout",
     "output_type": "stream",
     "text": [
      "{'Train':  best_epoch_indx:68\n",
      " auc:0.9569481165583639 \n",
      " apur:0.9448311894804386 \n",
      " f1:0.8641715206345272 \n",
      " precision:0.8418447422431486 \n",
      " recall:0.8877148313176321 \n",
      ", 'Validation':  best_epoch_indx:68\n",
      " auc:0.8864041329677068 \n",
      " apur:0.8640082506643789 \n",
      " f1:0.7796420581655481 \n",
      " precision:0.7617486338797814 \n",
      " recall:0.7983963344788088 \n",
      ", 'Test':  best_epoch_indx:68\n",
      " auc:0.8899435628596012 \n",
      " apur:0.8635842091454381 \n",
      " f1:0.7767679006872091 \n",
      " precision:0.7522541863460713 \n",
      " recall:0.8029330889092575 \n",
      "}\n",
      "=====Epoch 69\n",
      "Training...\n"
     ]
    },
    {
     "name": "stderr",
     "output_type": "stream",
     "text": [
      "Iteration: 100%|██████████| 62/62 [00:08<00:00,  7.25it/s]\n",
      "Iteration:  37%|███▋      | 23/62 [00:03<00:05,  7.22it/s]"
     ]
    },
    {
     "name": "stdout",
     "output_type": "stream",
     "text": [
      "Evaluating...\n"
     ]
    },
    {
     "name": "stderr",
     "output_type": "stream",
     "text": [
      "Iteration: 100%|██████████| 7/7 [00:00<00:00, 14.78it/s]s]\n",
      "Iteration:  23%|██▎       | 14/62 [00:01<00:03, 14.26it/s]"
     ]
    },
    {
     "name": "stdout",
     "output_type": "stream",
     "text": [
      "{'Train':  best_epoch_indx:69\n",
      " auc:0.9648822423975961 \n",
      " apur:0.9547838118401771 \n",
      " f1:0.8784951052530552 \n",
      " precision:0.8830717777206072 \n",
      " recall:0.8739656269891789 \n",
      ", 'Validation':  best_epoch_indx:69\n",
      " auc:0.8869460160983643 \n",
      " apur:0.8648580072996617 \n",
      " f1:0.7661807580174927 \n",
      " precision:0.7802850356294537 \n",
      " recall:0.7525773195876289 \n",
      ", 'Test':  best_epoch_indx:69\n",
      " auc:0.8868427631030747 \n",
      " apur:0.8639312445716131 \n",
      " f1:0.7788886305510347 \n",
      " precision:0.7904672015101463 \n",
      " recall:0.7676443629697525 \n",
      "}\n",
      "=====Epoch 70\n",
      "Training...\n"
     ]
    },
    {
     "name": "stderr",
     "output_type": "stream",
     "text": [
      "Iteration: 100%|██████████| 62/62 [00:08<00:00,  7.20it/s]\n",
      "Iteration:  55%|█████▍    | 34/62 [00:04<00:03,  7.15it/s]"
     ]
    },
    {
     "name": "stdout",
     "output_type": "stream",
     "text": [
      "Evaluating...\n"
     ]
    },
    {
     "name": "stderr",
     "output_type": "stream",
     "text": [
      "Iteration: 100%|██████████| 62/62 [00:08<00:00,  7.22it/s]\n",
      "Iteration:   0%|          | 0/62 [00:00<?, ?it/s]"
     ]
    },
    {
     "name": "stdout",
     "output_type": "stream",
     "text": [
      "Evaluating...\n"
     ]
    },
    {
     "name": "stderr",
     "output_type": "stream",
     "text": [
      "Iteration: 100%|██████████| 62/62 [00:04<00:00, 14.66it/s]\n",
      "Iteration: 100%|██████████| 18/18 [00:01<00:00, 15.97it/s]\n",
      "Iteration: 100%|██████████| 62/62 [00:08<00:00,  7.08it/s]\n",
      "Iteration:  55%|█████▍    | 34/62 [00:04<00:03,  7.33it/s]"
     ]
    },
    {
     "name": "stdout",
     "output_type": "stream",
     "text": [
      "Evaluating...\n"
     ]
    },
    {
     "name": "stderr",
     "output_type": "stream",
     "text": [
      "Iteration: 100%|██████████| 62/62 [00:04<00:00, 14.58it/s]\n",
      "Iteration: 100%|██████████| 18/18 [00:01<00:00, 15.78it/s]\n",
      "Iteration: 100%|██████████| 62/62 [00:04<00:00, 15.20it/s]\n",
      "Iteration: 100%|██████████| 7/7 [00:00<00:00, 15.44it/s]s]\n",
      "Iteration:   0%|          | 0/18 [00:00<?, ?it/s]5.19it/s]"
     ]
    },
    {
     "name": "stdout",
     "output_type": "stream",
     "text": [
      "{'Train':  best_epoch_indx:72\n",
      " auc:0.9639357055708618 \n",
      " apur:0.95298509431907 \n",
      " f1:0.876875 \n",
      " precision:0.8612645794966237 \n",
      " recall:0.8930617441120305 \n",
      ", 'Validation':  best_epoch_indx:72\n",
      " auc:0.8877906595546916 \n",
      " apur:0.8573956192963396 \n",
      " f1:0.7711670480549199 \n",
      " precision:0.7702857142857142 \n",
      " recall:0.7720504009163803 \n",
      ", 'Test':  best_epoch_indx:72\n",
      " auc:0.8880398397248191 \n",
      " apur:0.8627253139933351 \n",
      " f1:0.7723224480474994 \n",
      " precision:0.7696859353664087 \n",
      " recall:0.7749770852428964 \n",
      "}\n",
      "=====Epoch 73\n",
      "Training...\n"
     ]
    },
    {
     "name": "stderr",
     "output_type": "stream",
     "text": [
      "Iteration: 100%|██████████| 18/18 [00:01<00:00, 15.93it/s]\n",
      "Iteration: 100%|██████████| 7/7 [00:00<00:00, 15.45it/s]s]\n",
      "Iteration: 100%|██████████| 62/62 [00:08<00:00,  7.30it/s]\n",
      "Iteration:   2%|▏         | 1/62 [00:00<00:08,  6.98it/s]]"
     ]
    },
    {
     "name": "stdout",
     "output_type": "stream",
     "text": [
      "{'Train':  best_epoch_indx:71\n",
      " auc:0.9600902882519281 \n",
      " apur:0.9488967497880199 \n",
      " f1:0.8703621768535491 \n",
      " precision:0.8642982676374592 \n",
      " recall:0.8765117759388924 \n",
      ", 'Validation':  best_epoch_indx:71\n",
      " auc:0.8851111342520277 \n",
      " apur:0.8643044093182835 \n",
      " f1:0.7738577212261423 \n",
      " precision:0.7815420560747663 \n",
      " recall:0.7663230240549829 \n",
      ", 'Test':  best_epoch_indx:71\n",
      " auc:0.8916989459366093 \n",
      " apur:0.8712361917036949 \n",
      " f1:0.780431786862655 \n",
      " precision:0.7822283609576427 \n",
      " recall:0.7786434463794684 \n",
      "}\n",
      "=====Epoch 72\n",
      "Training...\n",
      "Evaluating...\n"
     ]
    },
    {
     "name": "stderr",
     "output_type": "stream",
     "text": [
      "Iteration: 100%|██████████| 62/62 [00:04<00:00, 15.19it/s]\n",
      "Iteration: 100%|██████████| 7/7 [00:00<00:00, 14.60it/s]]]\n",
      "Iteration:  15%|█▍        | 9/62 [00:01<00:07,  7.17it/s]]"
     ]
    },
    {
     "name": "stdout",
     "output_type": "stream",
     "text": [
      "{'Train':  best_epoch_indx:72\n",
      " auc:0.9624632460635958 \n",
      " apur:0.9514680110003134 \n",
      " f1:0.8727182416490749 \n",
      " precision:0.851775542358502 \n",
      " recall:0.8947167409293444 \n",
      ", 'Validation':  best_epoch_indx:72\n",
      " auc:0.8817624507773419 \n",
      " apur:0.8493150271305336 \n",
      " f1:0.7697441601779755 \n",
      " precision:0.7481081081081081 \n",
      " recall:0.7926689576174112 \n",
      ", 'Test':  best_epoch_indx:72\n",
      " auc:0.891183142145562 \n",
      " apur:0.866674483805121 \n",
      " f1:0.7837297177150478 \n",
      " precision:0.760897712559344 \n",
      " recall:0.807974335472044 \n",
      "}\n",
      "=====Epoch 73\n",
      "Training...\n"
     ]
    },
    {
     "name": "stderr",
     "output_type": "stream",
     "text": [
      "Iteration: 100%|██████████| 18/18 [00:01<00:00, 15.81it/s]\n",
      "Iteration: 100%|██████████| 62/62 [00:04<00:00, 15.22it/s]\n",
      "Iteration: 100%|██████████| 18/18 [00:01<00:00, 15.86it/s]\n",
      "Iteration: 100%|██████████| 7/7 [00:00<00:00, 15.24it/s]s]\n",
      "Iteration: 100%|██████████| 62/62 [00:08<00:00,  7.49it/s]"
     ]
    },
    {
     "name": "stdout",
     "output_type": "stream",
     "text": [
      "{'Train':  best_epoch_indx:69\n",
      " auc:0.9584024046697658 \n",
      " apur:0.9469052454812339 \n",
      " f1:0.8658088235294117 \n",
      " precision:0.8346131128174837 \n",
      " recall:0.8994271164863145 \n",
      ", 'Validation':  best_epoch_indx:69\n",
      " auc:0.8855093508587208 \n",
      " apur:0.8622936990371977 \n",
      " f1:0.7705914870093975 \n",
      " precision:0.7446581196581197 \n",
      " recall:0.7983963344788088 \n",
      ", 'Test':  best_epoch_indx:69\n",
      " auc:0.8901246272589444 \n",
      " apur:0.8643396828618409 \n",
      " f1:0.7764602547211242 \n",
      " precision:0.7453625632377741 \n",
      " recall:0.8102658111824015 \n",
      "}\n",
      "=====Epoch 70\n",
      "Training...\n",
      "Evaluating...\n"
     ]
    },
    {
     "name": "stderr",
     "output_type": "stream",
     "text": [
      "Iteration: 100%|██████████| 62/62 [00:08<00:00,  7.22it/s]\n",
      "Iteration: 100%|██████████| 62/62 [00:08<00:00,  7.23it/s]\n",
      "Iteration:  87%|████████▋ | 54/62 [00:07<00:01,  7.26it/s]"
     ]
    },
    {
     "name": "stdout",
     "output_type": "stream",
     "text": [
      "Evaluating...\n"
     ]
    },
    {
     "name": "stderr",
     "output_type": "stream",
     "text": [
      "Iteration: 100%|██████████| 62/62 [00:08<00:00,  7.28it/s]\n",
      "Iteration:  74%|███████▍  | 46/62 [00:03<00:01, 15.25it/s]"
     ]
    },
    {
     "name": "stdout",
     "output_type": "stream",
     "text": [
      "Evaluating...\n"
     ]
    },
    {
     "name": "stderr",
     "output_type": "stream",
     "text": [
      "Iteration: 100%|██████████| 7/7 [00:00<00:00, 14.96it/s]s]\n",
      "Iteration:  47%|████▋     | 29/62 [00:04<00:04,  7.15it/s]"
     ]
    },
    {
     "name": "stdout",
     "output_type": "stream",
     "text": [
      "{'Train':  best_epoch_indx:70\n",
      " auc:0.964566534458198 \n",
      " apur:0.954633169675126 \n",
      " f1:0.8774907285184486 \n",
      " precision:0.8666501117457164 \n",
      " recall:0.8886059834500318 \n",
      ", 'Validation':  best_epoch_indx:70\n",
      " auc:0.8876296373432686 \n",
      " apur:0.8640435677377973 \n",
      " f1:0.7694954128440368 \n",
      " precision:0.7703788748564868 \n",
      " recall:0.7686139747995419 \n",
      ", 'Test':  best_epoch_indx:70\n",
      " auc:0.8871996778046274 \n",
      " apur:0.8647596494741656 \n",
      " f1:0.783321941216678 \n",
      " precision:0.7788853647485274 \n",
      " recall:0.7878093492208983 \n",
      "}\n",
      "=====Epoch 71\n",
      "Training...\n"
     ]
    },
    {
     "name": "stderr",
     "output_type": "stream",
     "text": [
      "Iteration: 100%|██████████| 62/62 [00:04<00:00, 15.14it/s]\n",
      "Iteration: 100%|██████████| 18/18 [00:01<00:00, 15.82it/s]\n",
      "Iteration: 100%|██████████| 7/7 [00:00<00:00, 15.52it/s]s]\n",
      "Iteration: 100%|██████████| 62/62 [00:04<00:00, 14.59it/s]\n",
      "Iteration:  77%|███████▋  | 48/62 [00:03<00:00, 15.29it/s]"
     ]
    },
    {
     "name": "stdout",
     "output_type": "stream",
     "text": [
      "{'Train':  best_epoch_indx:73\n",
      " auc:0.9617348825383366 \n",
      " apur:0.9490865463100789 \n",
      " f1:0.8709539774459008 \n",
      " precision:0.8355555555555556 \n",
      " recall:0.909484404837683 \n",
      ", 'Validation':  best_epoch_indx:73\n",
      " auc:0.8801464434339578 \n",
      " apur:0.8474736606206553 \n",
      " f1:0.7724986025712689 \n",
      " precision:0.7543668122270742 \n",
      " recall:0.7915234822451317 \n",
      ", 'Test':  best_epoch_indx:73\n",
      " auc:0.8805229658502973 \n",
      " apur:0.8531428728316304 \n",
      " f1:0.7645502645502645 \n",
      " precision:0.7366185216652507 \n",
      " recall:0.7946837763519706 \n",
      "}\n",
      "=====Epoch 74\n",
      "Training...\n"
     ]
    },
    {
     "name": "stderr",
     "output_type": "stream",
     "text": [
      "Iteration: 100%|██████████| 62/62 [00:04<00:00, 15.29it/s]\n",
      "Iteration: 100%|██████████| 18/18 [00:01<00:00, 16.08it/s]\n",
      "Iteration: 100%|██████████| 7/7 [00:00<00:00, 15.59it/s]s]\n"
     ]
    },
    {
     "name": "stdout",
     "output_type": "stream",
     "text": [
      "{'Train':  best_epoch_indx:72\n",
      " auc:0.9586036552361886 \n",
      " apur:0.9470308434079786 \n",
      " f1:0.8670416773203784 \n",
      " precision:0.8707151110540506 \n",
      " recall:0.8633991088478676 \n",
      ", 'Validation':  best_epoch_indx:72\n",
      " auc:0.8806806129257446 \n",
      " apur:0.8605686650239971 \n",
      " f1:0.7724377533294731 \n",
      " precision:0.7810304449648712 \n",
      " recall:0.7640320733104238 \n",
      ", 'Test':  best_epoch_indx:72\n",
      " auc:0.8910490899082761 \n",
      " apur:0.8666291239323778 \n",
      " f1:0.7765858208955224 \n",
      " precision:0.7905982905982906 \n",
      " recall:0.7630614115490376 \n",
      "}\n",
      "=====Epoch 73\n",
      "Training...\n"
     ]
    },
    {
     "name": "stderr",
     "output_type": "stream",
     "text": [
      "Iteration: 100%|██████████| 18/18 [00:01<00:00, 15.95it/s]\n",
      "Iteration: 100%|██████████| 62/62 [00:08<00:00,  7.26it/s]\n",
      "Iteration:  29%|██▉       | 18/62 [00:02<00:06,  7.21it/s]"
     ]
    },
    {
     "name": "stdout",
     "output_type": "stream",
     "text": [
      "Evaluating...\n"
     ]
    },
    {
     "name": "stderr",
     "output_type": "stream",
     "text": [
      "Iteration: 100%|██████████| 7/7 [00:00<00:00, 15.57it/s]s]\n",
      "Iteration:  13%|█▎        | 8/62 [00:00<00:03, 15.21it/s]]"
     ]
    },
    {
     "name": "stdout",
     "output_type": "stream",
     "text": [
      "{'Train':  best_epoch_indx:73\n",
      " auc:0.9617359595422197 \n",
      " apur:0.9496409839628821 \n",
      " f1:0.8703781386708216 \n",
      " precision:0.8222373188405797 \n",
      " recall:0.924506683640993 \n",
      ", 'Validation':  best_epoch_indx:73\n",
      " auc:0.8790009680616783 \n",
      " apur:0.8500111878664574 \n",
      " f1:0.769811320754717 \n",
      " precision:0.7270875763747454 \n",
      " recall:0.8178694158075601 \n",
      ", 'Test':  best_epoch_indx:73\n",
      " auc:0.887284933045703 \n",
      " apur:0.8625734721496215 \n",
      " f1:0.780151024811219 \n",
      " precision:0.7370566653077864 \n",
      " recall:0.8285976168652612 \n",
      "}\n",
      "=====Epoch 74\n",
      "Training...\n"
     ]
    },
    {
     "name": "stderr",
     "output_type": "stream",
     "text": [
      "Iteration: 100%|██████████| 62/62 [00:08<00:00,  7.27it/s]\n",
      "Iteration:   0%|          | 0/62 [00:00<?, ?it/s]"
     ]
    },
    {
     "name": "stdout",
     "output_type": "stream",
     "text": [
      "Evaluating...\n"
     ]
    },
    {
     "name": "stderr",
     "output_type": "stream",
     "text": [
      "Iteration: 100%|██████████| 62/62 [00:04<00:00, 15.26it/s]\n",
      "Iteration: 100%|██████████| 18/18 [00:01<00:00, 16.01it/s]\n",
      "Iteration: 100%|██████████| 7/7 [00:00<00:00, 15.60it/s]s]\n",
      "Iteration:  52%|█████▏    | 32/62 [00:02<00:01, 15.25it/s]"
     ]
    },
    {
     "name": "stdout",
     "output_type": "stream",
     "text": [
      "{'Train':  best_epoch_indx:70\n",
      " auc:0.9595826483164512 \n",
      " apur:0.9482094663192066 \n",
      " f1:0.8676407654215321 \n",
      " precision:0.834627146553752 \n",
      " recall:0.9033736473583704 \n",
      ", 'Validation':  best_epoch_indx:70\n",
      " auc:0.8845162198541352 \n",
      " apur:0.8621486578788558 \n",
      " f1:0.7716015410016511 \n",
      " precision:0.7425847457627118 \n",
      " recall:0.8029782359679267 \n",
      ", 'Test':  best_epoch_indx:70\n",
      " auc:0.8900818695107618 \n",
      " apur:0.8637081499913111 \n",
      " f1:0.7747470303563572 \n",
      " precision:0.7449238578680203 \n",
      " recall:0.807057745187901 \n",
      "}\n",
      "=====Epoch 71\n",
      "Training...\n"
     ]
    },
    {
     "name": "stderr",
     "output_type": "stream",
     "text": [
      "Iteration: 100%|██████████| 62/62 [00:08<00:00,  7.24it/s]\n",
      "Iteration:  61%|██████▏   | 38/62 [00:02<00:01, 15.15it/s]"
     ]
    },
    {
     "name": "stdout",
     "output_type": "stream",
     "text": [
      "Evaluating...\n"
     ]
    },
    {
     "name": "stderr",
     "output_type": "stream",
     "text": [
      "Iteration: 100%|██████████| 62/62 [00:04<00:00, 15.26it/s]\n",
      "Iteration: 100%|██████████| 62/62 [00:08<00:00,  7.26it/s]\n",
      "Iteration:   0%|          | 0/62 [00:00<?, ?it/s]"
     ]
    },
    {
     "name": "stdout",
     "output_type": "stream",
     "text": [
      "Evaluating...\n"
     ]
    },
    {
     "name": "stderr",
     "output_type": "stream",
     "text": [
      "Iteration: 100%|██████████| 62/62 [00:08<00:00,  7.30it/s]\n",
      "Iteration:  89%|████████▉ | 16/18 [00:01<00:00, 15.41it/s]"
     ]
    },
    {
     "name": "stdout",
     "output_type": "stream",
     "text": [
      "Evaluating...\n"
     ]
    },
    {
     "name": "stderr",
     "output_type": "stream",
     "text": [
      "Iteration: 100%|██████████| 18/18 [00:01<00:00, 15.88it/s]\n",
      "Iteration: 100%|██████████| 7/7 [00:00<00:00, 15.52it/s]s]\n",
      "Iteration:  45%|████▌     | 28/62 [00:03<00:04,  7.21it/s]"
     ]
    },
    {
     "name": "stdout",
     "output_type": "stream",
     "text": [
      "{'Train':  best_epoch_indx:71\n",
      " auc:0.963924453052297 \n",
      " apur:0.954129601650672 \n",
      " f1:0.8772796352583587 \n",
      " precision:0.8727478896308429 \n",
      " recall:0.8818586887332909 \n",
      ", 'Validation':  best_epoch_indx:71\n",
      " auc:0.8863212113498484 \n",
      " apur:0.8650622976994826 \n",
      " f1:0.768523836875359 \n",
      " precision:0.7707373271889401 \n",
      " recall:0.7663230240549829 \n",
      ", 'Test':  best_epoch_indx:71\n",
      " auc:0.8863639449798937 \n",
      " apur:0.8636641153648914 \n",
      " f1:0.7809349220898258 \n",
      " precision:0.7809349220898258 \n",
      " recall:0.7809349220898258 \n",
      "}\n",
      "=====Epoch 72\n",
      "Training...\n"
     ]
    },
    {
     "name": "stderr",
     "output_type": "stream",
     "text": [
      "Iteration: 100%|██████████| 62/62 [00:04<00:00, 14.57it/s]\n",
      "Iteration: 100%|██████████| 18/18 [00:01<00:00, 15.76it/s]\n",
      "Iteration: 100%|██████████| 62/62 [00:04<00:00, 15.26it/s]\n",
      "Iteration: 100%|██████████| 7/7 [00:00<00:00, 15.45it/s]s]\n",
      "Iteration:   2%|▏         | 1/62 [00:00<00:08,  7.19it/s]]"
     ]
    },
    {
     "name": "stdout",
     "output_type": "stream",
     "text": [
      "{'Train':  best_epoch_indx:74\n",
      " auc:0.9614727054142583 \n",
      " apur:0.9495484050507021 \n",
      " f1:0.8685914034179182 \n",
      " precision:0.8835769787962597 \n",
      " recall:0.8541056651814131 \n",
      ", 'Validation':  best_epoch_indx:74\n",
      " auc:0.8814635472711074 \n",
      " apur:0.8500192534640537 \n",
      " f1:0.7610619469026548 \n",
      " precision:0.7846715328467153 \n",
      " recall:0.738831615120275 \n",
      ", 'Test':  best_epoch_indx:74\n",
      " auc:0.8862458666223756 \n",
      " apur:0.8595450364730244 \n",
      " f1:0.7703114024818543 \n",
      " precision:0.7874581139301101 \n",
      " recall:0.7538955087076077 \n",
      "}\n",
      "=====Epoch 75\n",
      "Training...\n"
     ]
    },
    {
     "name": "stderr",
     "output_type": "stream",
     "text": [
      "Iteration: 100%|██████████| 62/62 [00:04<00:00, 14.72it/s]\n",
      "Iteration: 100%|██████████| 18/18 [00:01<00:00, 16.02it/s]\n",
      "Iteration: 100%|██████████| 7/7 [00:00<00:00, 15.61it/s]s]\n",
      "Iteration:  19%|█▉        | 12/62 [00:01<00:06,  7.21it/s]"
     ]
    },
    {
     "name": "stdout",
     "output_type": "stream",
     "text": [
      "{'Train':  best_epoch_indx:73\n",
      " auc:0.9587503922534193 \n",
      " apur:0.9472917790965393 \n",
      " f1:0.8678780412688636 \n",
      " precision:0.8406921241050119 \n",
      " recall:0.8968809675366008 \n",
      ", 'Validation':  best_epoch_indx:73\n",
      " auc:0.8813063818791196 \n",
      " apur:0.8603810455855546 \n",
      " f1:0.7679465776293823 \n",
      " precision:0.7467532467532467 \n",
      " recall:0.7903780068728522 \n",
      ", 'Test':  best_epoch_indx:73\n",
      " auc:0.8923685600579654 \n",
      " apur:0.8704910927896454 \n",
      " f1:0.7867319679430097 \n",
      " precision:0.7649350649350649 \n",
      " recall:0.80980751604033 \n",
      "}\n",
      "=====Epoch 74\n",
      "Training...\n"
     ]
    },
    {
     "name": "stderr",
     "output_type": "stream",
     "text": [
      "Iteration: 100%|██████████| 62/62 [00:08<00:00,  7.27it/s]\n",
      "Iteration: 100%|██████████| 18/18 [00:01<00:00, 15.85it/s]\n",
      "Iteration:   3%|▎         | 2/62 [00:00<00:04, 14.87it/s]]"
     ]
    },
    {
     "name": "stdout",
     "output_type": "stream",
     "text": [
      "Evaluating...\n"
     ]
    },
    {
     "name": "stderr",
     "output_type": "stream",
     "text": [
      "Iteration: 100%|██████████| 7/7 [00:00<00:00, 15.48it/s]s]\n",
      "Iteration:  65%|██████▍   | 40/62 [00:05<00:03,  7.24it/s]"
     ]
    },
    {
     "name": "stdout",
     "output_type": "stream",
     "text": [
      "{'Train':  best_epoch_indx:74\n",
      " auc:0.9620409066734221 \n",
      " apur:0.9497966002665541 \n",
      " f1:0.8734057925488472 \n",
      " precision:0.8621930042173158 \n",
      " recall:0.8849140674729472 \n",
      ", 'Validation':  best_epoch_indx:74\n",
      " auc:0.8785690042849263 \n",
      " apur:0.844643915643841 \n",
      " f1:0.7515777395295468 \n",
      " precision:0.7528735632183908 \n",
      " recall:0.7502863688430699 \n",
      ", 'Test':  best_epoch_indx:74\n",
      " auc:0.8850808728902221 \n",
      " apur:0.8573952767267673 \n",
      " f1:0.7717465364524188 \n",
      " precision:0.764970733903647 \n",
      " recall:0.7786434463794684 \n",
      "}\n",
      "=====Epoch 75\n",
      "Training...\n"
     ]
    },
    {
     "name": "stderr",
     "output_type": "stream",
     "text": [
      "Iteration: 100%|██████████| 62/62 [00:08<00:00,  7.28it/s]\n",
      "Iteration:   0%|          | 0/62 [00:00<?, ?it/s]"
     ]
    },
    {
     "name": "stdout",
     "output_type": "stream",
     "text": [
      "Evaluating...\n"
     ]
    },
    {
     "name": "stderr",
     "output_type": "stream",
     "text": [
      "Iteration: 100%|██████████| 62/62 [00:04<00:00, 15.28it/s]\n",
      "Iteration: 100%|██████████| 18/18 [00:01<00:00, 15.92it/s]\n",
      "Iteration: 100%|██████████| 7/7 [00:00<00:00, 15.48it/s]s]\n",
      "Iteration:  95%|█████████▌| 59/62 [00:08<00:00,  7.18it/s]"
     ]
    },
    {
     "name": "stdout",
     "output_type": "stream",
     "text": [
      "{'Train':  best_epoch_indx:71\n",
      " auc:0.9596044001455282 \n",
      " apur:0.9485543623165427 \n",
      " f1:0.8675082730726804 \n",
      " precision:0.836346449249675 \n",
      " recall:0.9010821133036283 \n",
      ", 'Validation':  best_epoch_indx:71\n",
      " auc:0.8872449196045988 \n",
      " apur:0.8666879760775599 \n",
      " f1:0.7791920309905922 \n",
      " precision:0.7537473233404711 \n",
      " recall:0.8064146620847652 \n",
      ", 'Test':  best_epoch_indx:71\n",
      " auc:0.8894898985205819 \n",
      " apur:0.86219309171816 \n",
      " f1:0.7792891619131197 \n",
      " precision:0.7474747474747475 \n",
      " recall:0.8139321723189734 \n",
      "}\n",
      "=====Epoch 72\n",
      "Training...\n"
     ]
    },
    {
     "name": "stderr",
     "output_type": "stream",
     "text": [
      "Iteration: 100%|██████████| 62/62 [00:08<00:00,  7.22it/s]\n",
      "Iteration:  81%|████████  | 50/62 [00:06<00:01,  7.25it/s]"
     ]
    },
    {
     "name": "stdout",
     "output_type": "stream",
     "text": [
      "Evaluating...\n"
     ]
    },
    {
     "name": "stderr",
     "output_type": "stream",
     "text": [
      "Iteration: 100%|██████████| 62/62 [00:04<00:00, 14.65it/s]\n",
      "Iteration: 100%|██████████| 62/62 [00:08<00:00,  7.24it/s]\n",
      "Iteration:  42%|████▏     | 26/62 [00:01<00:02, 15.19it/s]"
     ]
    },
    {
     "name": "stdout",
     "output_type": "stream",
     "text": [
      "Evaluating...\n"
     ]
    },
    {
     "name": "stderr",
     "output_type": "stream",
     "text": [
      "Iteration: 100%|██████████| 62/62 [00:08<00:00,  7.25it/s]\n",
      "Iteration:   0%|          | 0/62 [00:00<?, ?it/s]"
     ]
    },
    {
     "name": "stdout",
     "output_type": "stream",
     "text": [
      "Evaluating...\n"
     ]
    },
    {
     "name": "stderr",
     "output_type": "stream",
     "text": [
      "Iteration: 100%|██████████| 18/18 [00:01<00:00, 15.90it/s]\n",
      "Iteration: 100%|██████████| 7/7 [00:00<00:00, 15.48it/s]s]\n",
      "Iteration:  87%|████████▋ | 54/62 [00:03<00:00, 15.29it/s]"
     ]
    },
    {
     "name": "stdout",
     "output_type": "stream",
     "text": [
      "{'Train':  best_epoch_indx:72\n",
      " auc:0.9645411956431055 \n",
      " apur:0.9547978399461698 \n",
      " f1:0.8792601038895225 \n",
      " precision:0.8750472828142731 \n",
      " recall:0.8835136855506047 \n",
      ", 'Validation':  best_epoch_indx:72\n",
      " auc:0.8819687906171297 \n",
      " apur:0.8572001685656554 \n",
      " f1:0.7642651296829971 \n",
      " precision:0.7691415313225058 \n",
      " recall:0.7594501718213058 \n",
      ", 'Test':  best_epoch_indx:72\n",
      " auc:0.8838589068194934 \n",
      " apur:0.860245821094417 \n",
      " f1:0.7754072034870384 \n",
      " precision:0.7762976573265963 \n",
      " recall:0.7745187901008249 \n",
      "}\n",
      "=====Epoch 73\n",
      "Training...\n"
     ]
    },
    {
     "name": "stderr",
     "output_type": "stream",
     "text": [
      "Iteration: 100%|██████████| 62/62 [00:04<00:00, 15.25it/s]\n",
      "Iteration: 100%|██████████| 18/18 [00:01<00:00, 15.85it/s]\n",
      "Iteration: 100%|██████████| 62/62 [00:04<00:00, 14.75it/s]\n",
      "Iteration: 100%|██████████| 7/7 [00:00<00:00, 15.41it/s]s]\n",
      "Iteration:  77%|███████▋  | 48/62 [00:03<00:01, 12.94it/s]"
     ]
    },
    {
     "name": "stdout",
     "output_type": "stream",
     "text": [
      "{'Train':  best_epoch_indx:75\n",
      " auc:0.9632777201844231 \n",
      " apur:0.9524720573861717 \n",
      " f1:0.8745965040501856 \n",
      " precision:0.8383932741709481 \n",
      " recall:0.9140674729471674 \n",
      ", 'Validation':  best_epoch_indx:75\n",
      " auc:0.8840080838935364 \n",
      " apur:0.8540194522667737 \n",
      " f1:0.7719688542825361 \n",
      " precision:0.7502702702702703 \n",
      " recall:0.7949599083619702 \n",
      ", 'Test':  best_epoch_indx:75\n",
      " auc:0.8875688870544048 \n",
      " apur:0.8638034286637462 \n",
      " f1:0.7754650132860939 \n",
      " precision:0.7502142245072836 \n",
      " recall:0.8024747937671861 \n",
      "}\n",
      "=====Epoch 76\n",
      "Training...\n"
     ]
    },
    {
     "name": "stderr",
     "output_type": "stream",
     "text": [
      "Iteration: 100%|██████████| 62/62 [00:04<00:00, 14.28it/s]\n",
      "Iteration: 100%|██████████| 18/18 [00:01<00:00, 15.87it/s]\n",
      "Iteration: 100%|██████████| 7/7 [00:00<00:00, 15.52it/s]]]\n",
      "Iteration:  44%|████▍     | 8/18 [00:00<00:00, 15.26it/s]]"
     ]
    },
    {
     "name": "stdout",
     "output_type": "stream",
     "text": [
      "{'Train':  best_epoch_indx:74\n",
      " auc:0.9569129670792944 \n",
      " apur:0.9449896301666126 \n",
      " f1:0.8661616161616161 \n",
      " precision:0.8591108328115216 \n",
      " recall:0.8733290897517505 \n",
      ", 'Validation':  best_epoch_indx:74\n",
      " auc:0.884145000983489 \n",
      " apur:0.8637152519272427 \n",
      " f1:0.7731958762886598 \n",
      " precision:0.7731958762886598 \n",
      " recall:0.7731958762886598 \n",
      ", 'Test':  best_epoch_indx:74\n",
      " auc:0.8905168562774703 \n",
      " apur:0.8709958302637342 \n",
      " f1:0.7794422678036415 \n",
      " precision:0.7839592025961984 \n",
      " recall:0.7749770852428964 \n",
      "}\n",
      "=====Epoch 75\n",
      "Training...\n"
     ]
    },
    {
     "name": "stderr",
     "output_type": "stream",
     "text": [
      "\r",
      "Iteration:   2%|▏         | 1/62 [00:00<00:08,  7.22it/s]\r",
      "Iteration:  23%|██▎       | 14/62 [00:01<00:06,  7.22it/s]\r",
      "Iteration:  50%|█████     | 31/62 [00:04<00:04,  7.10it/s]\r",
      "Iteration:  56%|█████▌    | 10/18 [00:00<00:00, 15.30it/s]\r",
      "Iteration:  98%|█████████▊| 61/62 [00:08<00:00,  7.23it/s]\r",
      "Iteration:   3%|▎         | 2/62 [00:00<00:08,  7.27it/s]\r",
      "Iteration:  52%|█████▏    | 32/62 [00:04<00:04,  7.21it/s]\r",
      "Iteration:  24%|██▍       | 15/62 [00:02<00:06,  7.22it/s]\r",
      "Iteration: 100%|██████████| 62/62 [00:08<00:00,  7.53it/s]\r",
      "Iteration: 100%|██████████| 62/62 [00:08<00:00,  7.25it/s]\n",
      "\r",
      "Iteration:   0%|          | 0/62 [00:00<?, ?it/s]\r",
      "Iteration:  67%|██████▋   | 12/18 [00:00<00:00, 15.38it/s]"
     ]
    },
    {
     "name": "stdout",
     "output_type": "stream",
     "text": [
      "Evaluating...\n"
     ]
    },
    {
     "name": "stderr",
     "output_type": "stream",
     "text": [
      "Iteration: 100%|██████████| 18/18 [00:01<00:00, 15.91it/s]\n",
      "Iteration: 100%|██████████| 7/7 [00:00<00:00, 15.62it/s]s]\n",
      "Iteration:  19%|█▉        | 12/62 [00:00<00:03, 13.93it/s]"
     ]
    },
    {
     "name": "stdout",
     "output_type": "stream",
     "text": [
      "{'Train':  best_epoch_indx:75\n",
      " auc:0.9625235649491595 \n",
      " apur:0.951566643370366 \n",
      " f1:0.8738784279034499 \n",
      " precision:0.8675197591268348 \n",
      " recall:0.8803309993634627 \n",
      ", 'Validation':  best_epoch_indx:75\n",
      " auc:0.878690494097138 \n",
      " apur:0.8485003579315241 \n",
      " f1:0.7623931623931623 \n",
      " precision:0.7585034013605442 \n",
      " recall:0.7663230240549829 \n",
      ", 'Test':  best_epoch_indx:75\n",
      " auc:0.8881326247504067 \n",
      " apur:0.8637805125846888 \n",
      " f1:0.7820337437300502 \n",
      " precision:0.7781306715063521 \n",
      " recall:0.7859761686526123 \n",
      "}\n",
      "=====Epoch 76\n",
      "Training...\n"
     ]
    },
    {
     "name": "stderr",
     "output_type": "stream",
     "text": [
      "Iteration: 100%|██████████| 62/62 [00:04<00:00, 14.61it/s]\n",
      "Iteration: 100%|██████████| 62/62 [00:08<00:00,  7.01it/s]\n",
      "Iteration:  37%|███▋      | 23/62 [00:03<00:05,  6.84it/s]"
     ]
    },
    {
     "name": "stdout",
     "output_type": "stream",
     "text": [
      "Evaluating...\n"
     ]
    },
    {
     "name": "stderr",
     "output_type": "stream",
     "text": [
      "Iteration: 100%|██████████| 18/18 [00:01<00:00, 15.91it/s]\n",
      "Iteration: 100%|██████████| 7/7 [00:00<00:00, 15.44it/s]s]\n",
      "Iteration:  97%|█████████▋| 60/62 [00:08<00:00,  7.29it/s]"
     ]
    },
    {
     "name": "stdout",
     "output_type": "stream",
     "text": [
      "{'Train':  best_epoch_indx:72\n",
      " auc:0.9592340890997314 \n",
      " apur:0.9478723687050798 \n",
      " f1:0.869412355600201 \n",
      " precision:0.8576737272389446 \n",
      " recall:0.8814767663908338 \n",
      ", 'Validation':  best_epoch_indx:72\n",
      " auc:0.8861785090307428 \n",
      " apur:0.8637587506955606 \n",
      " f1:0.7773371104815864 \n",
      " precision:0.7690582959641256 \n",
      " recall:0.7857961053837342 \n",
      ", 'Test':  best_epoch_indx:72\n",
      " auc:0.8881117715322309 \n",
      " apur:0.8607080525512464 \n",
      " f1:0.782608695652174 \n",
      " precision:0.7657894736842106 \n",
      " recall:0.8001833180568286 \n",
      "}\n",
      "=====Epoch 73\n",
      "Training...\n"
     ]
    },
    {
     "name": "stderr",
     "output_type": "stream",
     "text": [
      "Iteration: 100%|██████████| 62/62 [00:08<00:00,  7.23it/s]\n",
      "Iteration:  81%|████████  | 50/62 [00:06<00:01,  7.24it/s]"
     ]
    },
    {
     "name": "stdout",
     "output_type": "stream",
     "text": [
      "Evaluating...\n"
     ]
    },
    {
     "name": "stderr",
     "output_type": "stream",
     "text": [
      "Iteration: 100%|██████████| 62/62 [00:08<00:00,  7.23it/s]\n",
      "Iteration:  45%|████▌     | 28/62 [00:01<00:02, 15.32it/s]"
     ]
    },
    {
     "name": "stdout",
     "output_type": "stream",
     "text": [
      "Evaluating...\n"
     ]
    },
    {
     "name": "stderr",
     "output_type": "stream",
     "text": [
      "Iteration: 100%|██████████| 62/62 [00:04<00:00, 15.18it/s]\n",
      "Iteration: 100%|██████████| 18/18 [00:01<00:00, 16.00it/s]\n",
      "Iteration: 100%|██████████| 62/62 [00:08<00:00,  7.06it/s]\n",
      "Iteration:  84%|████████▍ | 52/62 [00:03<00:00, 15.28it/s]"
     ]
    },
    {
     "name": "stdout",
     "output_type": "stream",
     "text": [
      "Evaluating...\n"
     ]
    },
    {
     "name": "stderr",
     "output_type": "stream",
     "text": [
      "Iteration: 100%|██████████| 7/7 [00:00<00:00, 15.56it/s]s]\n",
      "Iteration:  48%|████▊     | 30/62 [00:04<00:04,  7.20it/s]"
     ]
    },
    {
     "name": "stdout",
     "output_type": "stream",
     "text": [
      "{'Train':  best_epoch_indx:73\n",
      " auc:0.9636200597424349 \n",
      " apur:0.9531419794346755 \n",
      " f1:0.8731921487603306 \n",
      " precision:0.885890213546443 \n",
      " recall:0.860852959898154 \n",
      ", 'Validation':  best_epoch_indx:73\n",
      " auc:0.8867714950189178 \n",
      " apur:0.8658090672206941 \n",
      " f1:0.762862211709048 \n",
      " precision:0.7885085574572127 \n",
      " recall:0.738831615120275 \n",
      ", 'Test':  best_epoch_indx:73\n",
      " auc:0.8854552244103114 \n",
      " apur:0.8641128251564093 \n",
      " f1:0.7754624209786934 \n",
      " precision:0.7927237912876974 \n",
      " recall:0.7589367552703942 \n",
      "}\n",
      "=====Epoch 74\n",
      "Training...\n"
     ]
    },
    {
     "name": "stderr",
     "output_type": "stream",
     "text": [
      "Iteration: 100%|██████████| 62/62 [00:04<00:00, 15.29it/s]\n",
      "Iteration: 100%|██████████| 18/18 [00:01<00:00, 15.89it/s]\n",
      "Iteration: 100%|██████████| 62/62 [00:04<00:00, 15.23it/s]\n",
      "Iteration: 100%|██████████| 18/18 [00:01<00:00, 15.93it/s]\n",
      "Iteration: 100%|██████████| 62/62 [00:04<00:00, 15.29it/s]\n",
      "Iteration: 100%|██████████| 7/7 [00:00<00:00, 15.48it/s]s]\n",
      "Iteration:  47%|████▋     | 29/62 [00:04<00:04,  7.24it/s]"
     ]
    },
    {
     "name": "stdout",
     "output_type": "stream",
     "text": [
      "{'Train':  best_epoch_indx:75\n",
      " auc:0.956007083486414 \n",
      " apur:0.9448326309079214 \n",
      " f1:0.8633838856643575 \n",
      " precision:0.8468413320274241 \n",
      " recall:0.8805856142584341 \n",
      ", 'Validation':  best_epoch_indx:75\n",
      " auc:0.8802168303886517 \n",
      " apur:0.858274018211358 \n",
      " f1:0.7744488411531939 \n",
      " precision:0.7645089285714286 \n",
      " recall:0.7846506300114547 \n",
      ", 'Test':  best_epoch_indx:75\n",
      " auc:0.890453722995858 \n",
      " apur:0.8682983081561488 \n",
      " f1:0.779828905898244 \n",
      " precision:0.7663716814159292 \n",
      " recall:0.7937671860678277 \n",
      "}\n",
      "=====Epoch 76\n",
      "Training...\n"
     ]
    },
    {
     "name": "stderr",
     "output_type": "stream",
     "text": [
      "Iteration: 100%|██████████| 62/62 [00:08<00:00,  7.24it/s]\n",
      "Iteration:  67%|██████▋   | 12/18 [00:00<00:00, 15.31it/s]"
     ]
    },
    {
     "name": "stdout",
     "output_type": "stream",
     "text": [
      "Evaluating...\n"
     ]
    },
    {
     "name": "stderr",
     "output_type": "stream",
     "text": [
      "Iteration: 100%|██████████| 18/18 [00:01<00:00, 15.74it/s]\n",
      "Iteration: 100%|██████████| 7/7 [00:00<00:00, 15.50it/s]s]\n",
      "Iteration:   2%|▏         | 1/62 [00:00<00:08,  7.34it/s]]"
     ]
    },
    {
     "name": "stdout",
     "output_type": "stream",
     "text": [
      "{'Train':  best_epoch_indx:76\n",
      " auc:0.9666001009145854 \n",
      " apur:0.9566087781129814 \n",
      " f1:0.8787878787878789 \n",
      " precision:0.841706492598205 \n",
      " recall:0.9192870782940802 \n",
      ", 'Validation':  best_epoch_indx:76\n",
      " auc:0.8785641832606323 \n",
      " apur:0.8470795477078651 \n",
      " f1:0.763215859030837 \n",
      " precision:0.7348886532343585 \n",
      " recall:0.7938144329896907 \n",
      ", 'Test':  best_epoch_indx:76\n",
      " auc:0.8879144330565046 \n",
      " apur:0.8642995194544836 \n",
      " f1:0.7804347826086957 \n",
      " precision:0.7423490488006617 \n",
      " recall:0.8226397800183318 \n",
      "}\n",
      "=====Epoch 77\n",
      "Training...\n"
     ]
    },
    {
     "name": "stderr",
     "output_type": "stream",
     "text": [
      "Iteration: 100%|██████████| 7/7 [00:00<00:00, 14.74it/s]s]\n",
      "Iteration:  32%|███▏      | 20/62 [00:02<00:05,  7.21it/s]"
     ]
    },
    {
     "name": "stdout",
     "output_type": "stream",
     "text": [
      "{'Train':  best_epoch_indx:76\n",
      " auc:0.9677896676132354 \n",
      " apur:0.9578352083345477 \n",
      " f1:0.8828874626675987 \n",
      " precision:0.881375285460543 \n",
      " recall:0.8844048376830045 \n",
      ", 'Validation':  best_epoch_indx:76\n",
      " auc:0.8862334687076956 \n",
      " apur:0.8583448928754039 \n",
      " f1:0.768421052631579 \n",
      " precision:0.7849462365591398 \n",
      " recall:0.7525773195876289 \n",
      ", 'Test':  best_epoch_indx:76\n",
      " auc:0.8884126965505765 \n",
      " apur:0.864893605066757 \n",
      " f1:0.774475927205713 \n",
      " precision:0.778601204261232 \n",
      " recall:0.7703941338221815 \n",
      "}\n",
      "=====Epoch 77\n",
      "Training...\n"
     ]
    },
    {
     "name": "stderr",
     "output_type": "stream",
     "text": [
      "Iteration: 100%|██████████| 62/62 [00:04<00:00, 15.14it/s]\n",
      "Iteration: 100%|██████████| 62/62 [00:08<00:00,  7.26it/s]\n",
      "Iteration:   0%|          | 0/18 [00:00<?, ?it/s].06it/s]]"
     ]
    },
    {
     "name": "stdout",
     "output_type": "stream",
     "text": [
      "Evaluating...\n"
     ]
    },
    {
     "name": "stderr",
     "output_type": "stream",
     "text": [
      "Iteration:  32%|███▏      | 20/62 [00:01<00:02, 15.26it/s]\n",
      "Iteration: 100%|██████████| 7/7 [00:00<00:00, 15.51it/s]s]\n",
      "Iteration:   2%|▏         | 1/62 [00:00<00:08,  7.29it/s]]"
     ]
    },
    {
     "name": "stdout",
     "output_type": "stream",
     "text": [
      "{'Train':  best_epoch_indx:73\n",
      " auc:0.9573819741467036 \n",
      " apur:0.9461782711955079 \n",
      " f1:0.8618516723218614 \n",
      " precision:0.8222915944039774 \n",
      " recall:0.9054105665181413 \n",
      ", 'Validation':  best_epoch_indx:73\n",
      " auc:0.8856414469243794 \n",
      " apur:0.8642348689672397 \n",
      " f1:0.7762656505171476 \n",
      " precision:0.7396265560165975 \n",
      " recall:0.8167239404352806 \n",
      ", 'Test':  best_epoch_indx:73\n",
      " auc:0.8880611414188596 \n",
      " apur:0.8608472221012797 \n",
      " f1:0.779079861111111 \n",
      " precision:0.7399010717230008 \n",
      " recall:0.8226397800183318 \n",
      "}\n",
      "=====Epoch 74\n",
      "Training...\n"
     ]
    },
    {
     "name": "stderr",
     "output_type": "stream",
     "text": [
      "Iteration: 100%|██████████| 62/62 [00:08<00:00,  7.24it/s]\n",
      "Iteration:   3%|▎         | 2/62 [00:00<00:03, 15.16it/s]]"
     ]
    },
    {
     "name": "stdout",
     "output_type": "stream",
     "text": [
      "Evaluating...\n"
     ]
    },
    {
     "name": "stderr",
     "output_type": "stream",
     "text": [
      "Iteration: 100%|██████████| 62/62 [00:04<00:00, 14.69it/s]\n",
      "Iteration: 100%|██████████| 62/62 [00:08<00:00,  7.16it/s]\n",
      "Iteration: 100%|██████████| 18/18 [00:01<00:00, 15.95it/s]\n",
      "Iteration:   3%|▎         | 2/62 [00:00<00:03, 15.19it/s]]"
     ]
    },
    {
     "name": "stdout",
     "output_type": "stream",
     "text": [
      "Evaluating...\n"
     ]
    },
    {
     "name": "stderr",
     "output_type": "stream",
     "text": [
      "Iteration: 100%|██████████| 7/7 [00:00<00:00, 15.51it/s]s]\n",
      "Iteration:   0%|          | 0/62 [00:00<?, ?it/s]5.21it/s]"
     ]
    },
    {
     "name": "stdout",
     "output_type": "stream",
     "text": [
      "{'Train':  best_epoch_indx:74\n",
      " auc:0.9577442594780418 \n",
      " apur:0.9456584823606348 \n",
      " f1:0.8682634730538922 \n",
      " precision:0.8511679099914394 \n",
      " recall:0.8860598345003182 \n",
      ", 'Validation':  best_epoch_indx:74\n",
      " auc:0.8834758428114671 \n",
      " apur:0.8592967952749687 \n",
      " f1:0.7632468996617812 \n",
      " precision:0.7513873473917869 \n",
      " recall:0.7754868270332188 \n",
      ", 'Test':  best_epoch_indx:74\n",
      " auc:0.8867808855434888 \n",
      " apur:0.8627231394979322 \n",
      " f1:0.7781292363307728 \n",
      " precision:0.767379679144385 \n",
      " recall:0.7891842346471127 \n",
      "}\n",
      "=====Epoch 75\n",
      "Training...\n"
     ]
    },
    {
     "name": "stderr",
     "output_type": "stream",
     "text": [
      "Iteration: 100%|██████████| 62/62 [00:08<00:00,  7.09it/s]\n",
      "Iteration:  74%|███████▍  | 46/62 [00:03<00:01, 15.25it/s]"
     ]
    },
    {
     "name": "stdout",
     "output_type": "stream",
     "text": [
      "Evaluating...\n"
     ]
    },
    {
     "name": "stderr",
     "output_type": "stream",
     "text": [
      "Iteration: 100%|██████████| 62/62 [00:04<00:00, 15.29it/s]\n",
      "Iteration: 100%|██████████| 18/18 [00:01<00:00, 16.07it/s]\n",
      "Iteration: 100%|██████████| 62/62 [00:04<00:00, 15.33it/s]\n",
      "Iteration: 100%|██████████| 7/7 [00:00<00:00, 15.53it/s]]]\n",
      "Iteration:   2%|▏         | 1/62 [00:00<00:08,  7.02it/s]]"
     ]
    },
    {
     "name": "stdout",
     "output_type": "stream",
     "text": [
      "{'Train':  best_epoch_indx:76\n",
      " auc:0.9590426217950587 \n",
      " apur:0.9475332651086231 \n",
      " f1:0.866115903292431 \n",
      " precision:0.8282793075403742 \n",
      " recall:0.9075747931253978 \n",
      ", 'Validation':  best_epoch_indx:76\n",
      " auc:0.8838248849703605 \n",
      " apur:0.8635825396397883 \n",
      " f1:0.7860310421286032 \n",
      " precision:0.761546723952739 \n",
      " recall:0.8121420389461627 \n",
      ", 'Test':  best_epoch_indx:76\n",
      " auc:0.8913757158835618 \n",
      " apur:0.8702883145547573 \n",
      " f1:0.7792494481236203 \n",
      " precision:0.7517035775127768 \n",
      " recall:0.8088909257561869 \n",
      "}\n",
      "=====Epoch 77\n",
      "Training...\n"
     ]
    },
    {
     "name": "stderr",
     "output_type": "stream",
     "text": [
      "Iteration: 100%|██████████| 62/62 [00:08<00:00,  7.25it/s]\n",
      "Iteration:  52%|█████▏    | 32/62 [00:04<00:04,  7.36it/s]"
     ]
    },
    {
     "name": "stdout",
     "output_type": "stream",
     "text": [
      "Evaluating...\n"
     ]
    },
    {
     "name": "stderr",
     "output_type": "stream",
     "text": [
      "Iteration: 100%|██████████| 18/18 [00:01<00:00, 15.92it/s]\n",
      "Iteration: 100%|██████████| 62/62 [00:04<00:00, 15.15it/s]\n",
      "Iteration: 100%|██████████| 7/7 [00:00<00:00, 15.53it/s]]]\n",
      "Iteration:  65%|██████▍   | 40/62 [00:05<00:03,  7.25it/s]"
     ]
    },
    {
     "name": "stdout",
     "output_type": "stream",
     "text": [
      "{'Train':  best_epoch_indx:77\n",
      " auc:0.9688301905758783 \n",
      " apur:0.9589574233519483 \n",
      " f1:0.8847592762956148 \n",
      " precision:0.8536094674556213 \n",
      " recall:0.9182686187141947 \n",
      ", 'Validation':  best_epoch_indx:77\n",
      " auc:0.8809226283453088 \n",
      " apur:0.8499742439867234 \n",
      " f1:0.7746947835738069 \n",
      " precision:0.751345532831001 \n",
      " recall:0.7995418098510882 \n",
      ", 'Test':  best_epoch_indx:77\n",
      " auc:0.8897687538384147 \n",
      " apur:0.8663453764570266 \n",
      " f1:0.7811744007037607 \n",
      " precision:0.7509513742071882 \n",
      " recall:0.8139321723189734 \n",
      "}\n",
      "=====Epoch 78\n",
      "Training...\n"
     ]
    },
    {
     "name": "stderr",
     "output_type": "stream",
     "text": [
      "Iteration: 100%|██████████| 18/18 [00:01<00:00, 15.71it/s]\n",
      "Iteration: 100%|██████████| 62/62 [00:08<00:00,  7.29it/s]\n",
      "Iteration: 100%|██████████| 62/62 [00:04<00:00, 14.57it/s]\n"
     ]
    },
    {
     "name": "stdout",
     "output_type": "stream",
     "text": [
      "Evaluating...\n"
     ]
    },
    {
     "name": "stderr",
     "output_type": "stream",
     "text": [
      "Iteration: 100%|██████████| 18/18 [00:01<00:00, 15.76it/s]\n",
      "Iteration: 100%|██████████| 7/7 [00:00<00:00, 15.06it/s]s]\n",
      "Iteration:  48%|████▊     | 30/62 [00:02<00:02, 14.69it/s]"
     ]
    },
    {
     "name": "stdout",
     "output_type": "stream",
     "text": [
      "{'Train':  best_epoch_indx:74\n",
      " auc:0.9547509376866368 \n",
      " apur:0.943339936066769 \n",
      " f1:0.850883310088331 \n",
      " precision:0.7827435047578317 \n",
      " recall:0.932017823042648 \n",
      ", 'Validation':  best_epoch_indx:74\n",
      " auc:0.8808368141128738 \n",
      " apur:0.8560115345059882 \n",
      " f1:0.7625523012552301 \n",
      " precision:0.7016361886429259 \n",
      " recall:0.8350515463917526 \n",
      ", 'Test':  best_epoch_indx:74\n",
      " auc:0.8852625927742801 \n",
      " apur:0.8586497173584642 \n",
      " f1:0.7728884254431699 \n",
      " precision:0.7091465748182166 \n",
      " recall:0.8492208982584785 \n",
      "}\n",
      "=====Epoch 75\n",
      "Training...\n"
     ]
    },
    {
     "name": "stderr",
     "output_type": "stream",
     "text": [
      "Iteration: 100%|██████████| 7/7 [00:00<00:00, 15.35it/s]]]\n",
      "Iteration:  85%|████████▌ | 53/62 [00:07<00:01,  6.09it/s]"
     ]
    },
    {
     "name": "stdout",
     "output_type": "stream",
     "text": [
      "{'Train':  best_epoch_indx:77\n",
      " auc:0.9684964859452697 \n",
      " apur:0.9590431729459677 \n",
      " f1:0.8852233676975945 \n",
      " precision:0.8692024539877301 \n",
      " recall:0.9018459579885423 \n",
      ", 'Validation':  best_epoch_indx:77\n",
      " auc:0.8878427266170679 \n",
      " apur:0.8567276669952606 \n",
      " f1:0.7742676622630672 \n",
      " precision:0.7764976958525346 \n",
      " recall:0.7720504009163803 \n",
      ", 'Test':  best_epoch_indx:77\n",
      " auc:0.890909239656098 \n",
      " apur:0.8671600951000278 \n",
      " f1:0.7790963030579643 \n",
      " precision:0.7759090909090909 \n",
      " recall:0.7823098075160403 \n",
      "}\n",
      "=====Epoch 78\n",
      "Training...\n"
     ]
    },
    {
     "name": "stderr",
     "output_type": "stream",
     "text": [
      "Iteration: 100%|██████████| 62/62 [00:08<00:00,  7.10it/s]\n",
      "Iteration: 100%|██████████| 62/62 [00:04<00:00, 15.09it/s]\n",
      "Iteration:  85%|████████▌ | 53/62 [00:07<00:01,  7.28it/s]"
     ]
    },
    {
     "name": "stdout",
     "output_type": "stream",
     "text": [
      "Evaluating...\n"
     ]
    },
    {
     "name": "stderr",
     "output_type": "stream",
     "text": [
      "Iteration: 100%|██████████| 62/62 [00:08<00:00,  7.25it/s]\n",
      "Iteration: 100%|██████████| 18/18 [00:01<00:00, 15.78it/s]\n",
      "Iteration:  35%|███▌      | 22/62 [00:01<00:02, 15.22it/s]"
     ]
    },
    {
     "name": "stdout",
     "output_type": "stream",
     "text": [
      "Evaluating...\n"
     ]
    },
    {
     "name": "stderr",
     "output_type": "stream",
     "text": [
      "Iteration: 100%|██████████| 7/7 [00:00<00:00, 15.46it/s]]]\n",
      "Iteration:  52%|█████▏    | 32/62 [00:02<00:01, 15.33it/s]"
     ]
    },
    {
     "name": "stdout",
     "output_type": "stream",
     "text": [
      "{'Train':  best_epoch_indx:75\n",
      " auc:0.9635347414806645 \n",
      " apur:0.9533180604204172 \n",
      " f1:0.8754525246109877 \n",
      " precision:0.873510773130545 \n",
      " recall:0.8774029280712922 \n",
      ", 'Validation':  best_epoch_indx:75\n",
      " auc:0.887454152058963 \n",
      " apur:0.8665762697566666 \n",
      " f1:0.7658592848904268 \n",
      " precision:0.7711962833914053 \n",
      " recall:0.7605956471935853 \n",
      ", 'Test':  best_epoch_indx:75\n",
      " auc:0.8848480990781631 \n",
      " apur:0.8617439588892114 \n",
      " f1:0.7801385681293302 \n",
      " precision:0.7863128491620112 \n",
      " recall:0.7740604949587534 \n",
      "}\n",
      "=====Epoch 76\n",
      "Training...\n"
     ]
    },
    {
     "name": "stderr",
     "output_type": "stream",
     "text": [
      "Iteration: 100%|██████████| 62/62 [00:04<00:00, 15.26it/s]\n",
      "Iteration: 100%|██████████| 18/18 [00:01<00:00, 16.06it/s]\n",
      "Iteration: 100%|██████████| 62/62 [00:04<00:00, 15.26it/s]\n",
      "Iteration: 100%|██████████| 7/7 [00:00<00:00, 15.59it/s]]]\n",
      "Iteration:  33%|███▎      | 6/18 [00:00<00:00, 15.06it/s]]"
     ]
    },
    {
     "name": "stdout",
     "output_type": "stream",
     "text": [
      "{'Train':  best_epoch_indx:77\n",
      " auc:0.9632491147130611 \n",
      " apur:0.9524750212286885 \n",
      " f1:0.8757830791621843 \n",
      " precision:0.8706592853548062 \n",
      " recall:0.8809675366008911 \n",
      ", 'Validation':  best_epoch_indx:77\n",
      " auc:0.8839762651331953 \n",
      " apur:0.8641815044358929 \n",
      " f1:0.7782234957020058 \n",
      " precision:0.7786697247706422 \n",
      " recall:0.7777777777777778 \n",
      ", 'Test':  best_epoch_indx:77\n",
      " auc:0.8924320792398321 \n",
      " apur:0.8709545870037959 \n",
      " f1:0.776084949215143 \n",
      " precision:0.781860465116279 \n",
      " recall:0.7703941338221815 \n",
      "}\n",
      "=====Epoch 78\n",
      "Training...\n"
     ]
    },
    {
     "name": "stderr",
     "output_type": "stream",
     "text": [
      "Iteration: 100%|██████████| 62/62 [00:08<00:00,  7.23it/s]\n",
      "Iteration:  90%|█████████ | 56/62 [00:07<00:00,  7.30it/s]"
     ]
    },
    {
     "name": "stdout",
     "output_type": "stream",
     "text": [
      "Evaluating...\n"
     ]
    },
    {
     "name": "stderr",
     "output_type": "stream",
     "text": [
      "Iteration: 100%|██████████| 18/18 [00:01<00:00, 15.81it/s]\n",
      "Iteration: 100%|██████████| 7/7 [00:00<00:00, 15.46it/s]s]\n",
      "Iteration: 100%|██████████| 62/62 [00:08<00:00,  7.24it/s]\n",
      "Iteration:  23%|██▎       | 14/62 [00:00<00:03, 15.14it/s]"
     ]
    },
    {
     "name": "stdout",
     "output_type": "stream",
     "text": [
      "{'Train':  best_epoch_indx:78\n",
      " auc:0.9689298605519551 \n",
      " apur:0.9591626471021366 \n",
      " f1:0.885419198055893 \n",
      " precision:0.8468332364904125 \n",
      " recall:0.927689369828135 \n",
      ", 'Validation':  best_epoch_indx:78\n",
      " auc:0.8796614483899707 \n",
      " apur:0.848538300656069 \n",
      " f1:0.7685541506322155 \n",
      " precision:0.7389006342494715 \n",
      " recall:0.8006872852233677 \n",
      ", 'Test':  best_epoch_indx:78\n",
      " auc:0.8908691251037723 \n",
      " apur:0.8665895102884524 \n",
      " f1:0.7812431842966194 \n",
      " precision:0.7453183520599251 \n",
      " recall:0.8208065994500459 \n",
      "}\n",
      "=====Epoch 79\n",
      "Training...\n",
      "Evaluating...\n"
     ]
    },
    {
     "name": "stderr",
     "output_type": "stream",
     "text": [
      "Iteration: 100%|██████████| 62/62 [00:08<00:00,  7.29it/s]\n",
      "Iteration:  77%|███████▋  | 48/62 [00:03<00:00, 15.08it/s]"
     ]
    },
    {
     "name": "stdout",
     "output_type": "stream",
     "text": [
      "Evaluating...\n"
     ]
    },
    {
     "name": "stderr",
     "output_type": "stream",
     "text": [
      "Iteration: 100%|██████████| 62/62 [00:04<00:00, 15.10it/s]\n",
      "Iteration: 100%|██████████| 62/62 [00:04<00:00, 15.18it/s]\n",
      "Iteration: 100%|██████████| 18/18 [00:01<00:00, 15.86it/s]\n",
      "Iteration: 100%|██████████| 7/7 [00:00<00:00, 15.49it/s]s]\n",
      "Iteration:  77%|███████▋  | 48/62 [00:06<00:01,  7.21it/s]"
     ]
    },
    {
     "name": "stdout",
     "output_type": "stream",
     "text": [
      "{'Train':  best_epoch_indx:75\n",
      " auc:0.9588616344299359 \n",
      " apur:0.9477136839838695 \n",
      " f1:0.8659470315049579 \n",
      " precision:0.8539423195940091 \n",
      " recall:0.8782940802036919 \n",
      ", 'Validation':  best_epoch_indx:75\n",
      " auc:0.8840254395809951 \n",
      " apur:0.8634893189411841 \n",
      " f1:0.7717078780908567 \n",
      " precision:0.7748267898383372 \n",
      " recall:0.7686139747995419 \n",
      ", 'Test':  best_epoch_indx:75\n",
      " auc:0.8858561073654774 \n",
      " apur:0.8581199881106911 \n",
      " f1:0.7767033955475602 \n",
      " precision:0.7624724061810154 \n",
      " recall:0.7914757103574702 \n",
      "}\n",
      "=====Epoch 76\n",
      "Training...\n"
     ]
    },
    {
     "name": "stderr",
     "output_type": "stream",
     "text": [
      "Iteration: 100%|██████████| 18/18 [00:01<00:00, 15.84it/s]\n",
      "Iteration: 100%|██████████| 7/7 [00:00<00:00, 15.50it/s]s]\n",
      "Iteration:   2%|▏         | 1/62 [00:00<00:08,  7.23it/s]]"
     ]
    },
    {
     "name": "stdout",
     "output_type": "stream",
     "text": [
      "{'Train':  best_epoch_indx:78\n",
      " auc:0.9710350190752763 \n",
      " apur:0.9619470080246125 \n",
      " f1:0.8901901523737564 \n",
      " precision:0.8806527968107637 \n",
      " recall:0.8999363462762572 \n",
      ", 'Validation':  best_epoch_indx:78\n",
      " auc:0.8888667121771359 \n",
      " apur:0.8595093541816107 \n",
      " f1:0.774526678141136 \n",
      " precision:0.7758620689655172 \n",
      " recall:0.7731958762886598 \n",
      ", 'Test':  best_epoch_indx:78\n",
      " auc:0.8889641480140492 \n",
      " apur:0.8654603892726571 \n",
      " f1:0.7752398355413431 \n",
      " precision:0.7727686703096539 \n",
      " recall:0.7777268560953254 \n",
      "}\n",
      "=====Epoch 79\n",
      "Training...\n"
     ]
    },
    {
     "name": "stderr",
     "output_type": "stream",
     "text": [
      "Iteration: 100%|██████████| 62/62 [00:08<00:00,  7.25it/s]\n",
      "Iteration: 100%|██████████| 62/62 [00:04<00:00, 15.30it/s]\n",
      "Iteration:  15%|█▍        | 9/62 [00:01<00:07,  7.24it/s]"
     ]
    },
    {
     "name": "stdout",
     "output_type": "stream",
     "text": [
      "Evaluating...\n"
     ]
    },
    {
     "name": "stderr",
     "output_type": "stream",
     "text": [
      "Iteration: 100%|██████████| 18/18 [00:01<00:00, 15.90it/s]\n",
      "Iteration: 100%|██████████| 62/62 [00:08<00:00,  7.26it/s]\n",
      "Iteration:   0%|          | 0/7 [00:00<?, ?it/s]]"
     ]
    },
    {
     "name": "stdout",
     "output_type": "stream",
     "text": [
      "Evaluating...\n"
     ]
    },
    {
     "name": "stderr",
     "output_type": "stream",
     "text": [
      "Iteration: 100%|██████████| 7/7 [00:00<00:00, 15.47it/s]s]\n",
      "Iteration:  35%|███▌      | 22/62 [00:03<00:05,  7.22it/s]"
     ]
    },
    {
     "name": "stdout",
     "output_type": "stream",
     "text": [
      "{'Train':  best_epoch_indx:76\n",
      " auc:0.9644239701260432 \n",
      " apur:0.9546661226694241 \n",
      " f1:0.8758380608561114 \n",
      " precision:0.8871620739192896 \n",
      " recall:0.86479949077021 \n",
      ", 'Validation':  best_epoch_indx:76\n",
      " auc:0.8866856807864826 \n",
      " apur:0.8628792053484631 \n",
      " f1:0.7730496453900709 \n",
      " precision:0.7985347985347986 \n",
      " recall:0.7491408934707904 \n",
      ", 'Test':  best_epoch_indx:76\n",
      " auc:0.8863539921055961 \n",
      " apur:0.8628541682314489 \n",
      " f1:0.7756440281030446 \n",
      " precision:0.7931034482758621 \n",
      " recall:0.7589367552703942 \n",
      "}\n",
      "=====Epoch 77\n",
      "Training...\n"
     ]
    },
    {
     "name": "stderr",
     "output_type": "stream",
     "text": [
      "Iteration: 100%|██████████| 62/62 [00:04<00:00, 15.27it/s]\n",
      "Iteration: 100%|██████████| 18/18 [00:01<00:00, 15.95it/s]\n",
      "Iteration: 100%|██████████| 62/62 [00:04<00:00, 15.27it/s]\n",
      "Iteration: 100%|██████████| 62/62 [00:08<00:00,  7.24it/s]\n",
      "Iteration:  90%|█████████ | 56/62 [00:07<00:00,  7.34it/s]"
     ]
    },
    {
     "name": "stdout",
     "output_type": "stream",
     "text": [
      "Evaluating...\n"
     ]
    },
    {
     "name": "stderr",
     "output_type": "stream",
     "text": [
      "Iteration: 100%|██████████| 18/18 [00:01<00:00, 15.74it/s]\n",
      "Iteration: 100%|██████████| 62/62 [00:08<00:00,  7.25it/s]\n",
      "Iteration:  65%|██████▍   | 40/62 [00:05<00:03,  7.20it/s]"
     ]
    },
    {
     "name": "stdout",
     "output_type": "stream",
     "text": [
      "Evaluating...\n"
     ]
    },
    {
     "name": "stderr",
     "output_type": "stream",
     "text": [
      "Iteration: 100%|██████████| 7/7 [00:00<00:00, 14.78it/s]s]\n",
      "Iteration:  77%|███████▋  | 48/62 [00:03<00:00, 15.05it/s]"
     ]
    },
    {
     "name": "stdout",
     "output_type": "stream",
     "text": [
      "{'Train':  best_epoch_indx:78\n",
      " auc:0.9662103764501467 \n",
      " apur:0.9564325376615939 \n",
      " f1:0.8804045512010114 \n",
      " precision:0.8743251726302573 \n",
      " recall:0.8865690642902609 \n",
      ", 'Validation':  best_epoch_indx:78\n",
      " auc:0.883217435909303 \n",
      " apur:0.8642887863344161 \n",
      " f1:0.774971297359357 \n",
      " precision:0.7767548906789413 \n",
      " recall:0.7731958762886598 \n",
      ", 'Test':  best_epoch_indx:78\n",
      " auc:0.8928835053573762 \n",
      " apur:0.8724162683993858 \n",
      " f1:0.7890841813135985 \n",
      " precision:0.7964519140989729 \n",
      " recall:0.7818515123739689 \n",
      "}\n",
      "=====Epoch 79\n",
      "Training...\n",
      "Evaluating...\n"
     ]
    },
    {
     "name": "stderr",
     "output_type": "stream",
     "text": [
      "Iteration: 100%|██████████| 62/62 [00:08<00:00,  7.13it/s]\n",
      "Iteration: 100%|██████████| 62/62 [00:04<00:00, 15.07it/s]\n",
      "Iteration: 100%|██████████| 62/62 [00:04<00:00, 15.11it/s]\n",
      "Iteration: 100%|██████████| 7/7 [00:00<00:00, 14.65it/s]]]\n",
      "Iteration: 100%|██████████| 18/18 [00:01<00:00, 15.77it/s]\n",
      "Iteration:  19%|█▉        | 12/62 [00:01<00:06,  7.24it/s]"
     ]
    },
    {
     "name": "stdout",
     "output_type": "stream",
     "text": [
      "{'Train':  best_epoch_indx:79\n",
      " auc:0.9710329107438304 \n",
      " apur:0.9614507709965362 \n",
      " f1:0.8905163853028798 \n",
      " precision:0.8688385612207824 \n",
      " recall:0.9133036282622533 \n",
      ", 'Validation':  best_epoch_indx:79\n",
      " auc:0.8825714186538929 \n",
      " apur:0.8504739917084769 \n",
      " f1:0.7735742518351214 \n",
      " precision:0.7628062360801782 \n",
      " recall:0.7846506300114547 \n",
      ", 'Test':  best_epoch_indx:79\n",
      " auc:0.8922046619571826 \n",
      " apur:0.8688240359251922 \n",
      " f1:0.7867319679430097 \n",
      " precision:0.7649350649350649 \n",
      " recall:0.80980751604033 \n",
      "}\n",
      "=====Epoch 80\n",
      "Training...\n"
     ]
    },
    {
     "name": "stderr",
     "output_type": "stream",
     "text": [
      "Iteration: 100%|██████████| 7/7 [00:00<00:00, 15.53it/s]]]\n",
      "Iteration:  48%|████▊     | 30/62 [00:01<00:02, 15.35it/s]"
     ]
    },
    {
     "name": "stdout",
     "output_type": "stream",
     "text": [
      "{'Train':  best_epoch_indx:76\n",
      " auc:0.9611459932987931 \n",
      " apur:0.9508317337242622 \n",
      " f1:0.8691054934370442 \n",
      " precision:0.8314149517497965 \n",
      " recall:0.9103755569700828 \n",
      ", 'Validation':  best_epoch_indx:76\n",
      " auc:0.8843310925212413 \n",
      " apur:0.860622687087272 \n",
      " f1:0.7761852260198457 \n",
      " precision:0.7481402763018066 \n",
      " recall:0.8064146620847652 \n",
      ", 'Test':  best_epoch_indx:76\n",
      " auc:0.8893832356902783 \n",
      " apur:0.8622105426781912 \n",
      " f1:0.7811477198341698 \n",
      " precision:0.7455226988754685 \n",
      " recall:0.8203483043079743 \n",
      "}\n",
      "=====Epoch 77\n",
      "Training...\n"
     ]
    },
    {
     "name": "stderr",
     "output_type": "stream",
     "text": [
      "Iteration: 100%|██████████| 18/18 [00:01<00:00, 15.86it/s]\n",
      "Iteration: 100%|██████████| 7/7 [00:00<00:00, 15.46it/s]]]\n",
      "Iteration:  10%|▉         | 6/62 [00:00<00:07,  7.24it/s]]"
     ]
    },
    {
     "name": "stdout",
     "output_type": "stream",
     "text": [
      "{'Train':  best_epoch_indx:79\n",
      " auc:0.9717279217148516 \n",
      " apur:0.9628579970181941 \n",
      " f1:0.8909618829925249 \n",
      " precision:0.8654584733557369 \n",
      " recall:0.9180140038192234 \n",
      ", 'Validation':  best_epoch_indx:79\n",
      " auc:0.8903862990346381 \n",
      " apur:0.862346428803353 \n",
      " f1:0.7768969422423555 \n",
      " precision:0.7681970884658454 \n",
      " recall:0.7857961053837342 \n",
      ", 'Test':  best_epoch_indx:79\n",
      " auc:0.8906757700022135 \n",
      " apur:0.8670389237831544 \n",
      " f1:0.7801704800358906 \n",
      " precision:0.7640597539543058 \n",
      " recall:0.7969752520623281 \n",
      "}\n",
      "=====Epoch 80\n",
      "Training...\n"
     ]
    },
    {
     "name": "stderr",
     "output_type": "stream",
     "text": [
      "Iteration: 100%|██████████| 62/62 [00:04<00:00, 15.26it/s]\n",
      "Iteration: 100%|██████████| 18/18 [00:01<00:00, 15.92it/s]\n",
      "Iteration: 100%|██████████| 62/62 [00:08<00:00,  7.24it/s]\n",
      "Iteration:   0%|          | 0/62 [00:00<?, ?it/s]"
     ]
    },
    {
     "name": "stdout",
     "output_type": "stream",
     "text": [
      "Evaluating...\n"
     ]
    },
    {
     "name": "stderr",
     "output_type": "stream",
     "text": [
      "Iteration: 100%|██████████| 62/62 [00:08<00:00,  7.29it/s]\n",
      "Iteration:   0%|          | 0/62 [00:00<?, ?it/s]"
     ]
    },
    {
     "name": "stdout",
     "output_type": "stream",
     "text": [
      "Evaluating...\n"
     ]
    },
    {
     "name": "stderr",
     "output_type": "stream",
     "text": [
      "Iteration: 100%|██████████| 7/7 [00:00<00:00, 14.68it/s]s]\n",
      "Iteration:  90%|█████████ | 56/62 [00:07<00:00,  7.20it/s]"
     ]
    },
    {
     "name": "stdout",
     "output_type": "stream",
     "text": [
      "{'Train':  best_epoch_indx:77\n",
      " auc:0.9690098788030479 \n",
      " apur:0.9599822530139619 \n",
      " f1:0.8882106066386876 \n",
      " precision:0.8873078389022996 \n",
      " recall:0.8891152132399746 \n",
      ", 'Validation':  best_epoch_indx:77\n",
      " auc:0.8865458710819535 \n",
      " apur:0.8606848520043561 \n",
      " f1:0.7786790266512167 \n",
      " precision:0.7878077373974208 \n",
      " recall:0.7697594501718213 \n",
      ", 'Test':  best_epoch_indx:77\n",
      " auc:0.8874806729068874 \n",
      " apur:0.8658093324618292 \n",
      " f1:0.7824878387769284 \n",
      " precision:0.7911007025761124 \n",
      " recall:0.7740604949587534 \n",
      "}\n",
      "=====Epoch 78\n",
      "Training...\n"
     ]
    },
    {
     "name": "stderr",
     "output_type": "stream",
     "text": [
      "\r",
      "Iteration:  98%|█████████▊| 61/62 [00:08<00:00,  7.12it/s]\r",
      "Iteration:  13%|█▎        | 8/62 [00:00<00:04, 12.12it/s]\r",
      "Iteration:   2%|▏         | 1/62 [00:00<00:08,  7.24it/s]\r",
      "Iteration:  55%|█████▍    | 34/62 [00:02<00:01, 15.25it/s]\r",
      "Iteration:  92%|█████████▏| 57/62 [00:07<00:00,  7.25it/s]\r",
      "Iteration: 100%|██████████| 62/62 [00:08<00:00,  7.47it/s]\r",
      "Iteration: 100%|██████████| 62/62 [00:08<00:00,  7.09it/s]\n",
      "\r",
      "Iteration:   0%|          | 0/62 [00:00<?, ?it/s]\r",
      "Iteration:  16%|█▌        | 10/62 [00:00<00:03, 13.09it/s]\r",
      "Iteration:   3%|▎         | 2/62 [00:00<00:08,  7.23it/s]"
     ]
    },
    {
     "name": "stdout",
     "output_type": "stream",
     "text": [
      "Evaluating...\n"
     ]
    },
    {
     "name": "stderr",
     "output_type": "stream",
     "text": [
      "Iteration: 100%|██████████| 62/62 [00:08<00:00,  7.22it/s]\n",
      "Iteration:  11%|█▏        | 7/62 [00:00<00:07,  7.36it/s]]"
     ]
    },
    {
     "name": "stdout",
     "output_type": "stream",
     "text": [
      "Evaluating...\n"
     ]
    },
    {
     "name": "stderr",
     "output_type": "stream",
     "text": [
      "Iteration: 100%|██████████| 62/62 [00:04<00:00, 15.24it/s]\n",
      "Iteration: 100%|██████████| 18/18 [00:01<00:00, 16.05it/s]\n",
      "Iteration: 100%|██████████| 62/62 [00:04<00:00, 14.64it/s]\n",
      "Iteration: 100%|██████████| 62/62 [00:04<00:00, 15.19it/s]\n",
      "Iteration: 100%|██████████| 18/18 [00:01<00:00, 15.85it/s]\n",
      "Iteration: 100%|██████████| 62/62 [00:04<00:00, 14.53it/s]\n",
      "Iteration: 100%|██████████| 7/7 [00:00<00:00, 15.56it/s]s]\n",
      "Iteration:  89%|████████▉ | 16/18 [00:01<00:00, 15.41it/s]"
     ]
    },
    {
     "name": "stdout",
     "output_type": "stream",
     "text": [
      "{'Train':  best_epoch_indx:80\n",
      " auc:0.9706979738892889 \n",
      " apur:0.9614191204729023 \n",
      " f1:0.8880766322157801 \n",
      " precision:0.8793211032072882 \n",
      " recall:0.8970082749840865 \n",
      ", 'Validation':  best_epoch_indx:80\n",
      " auc:0.8813150597228491 \n",
      " apur:0.8488123500569708 \n",
      " f1:0.7645714285714288 \n",
      " precision:0.7628278221208666 \n",
      " recall:0.7663230240549829 \n",
      ", 'Test':  best_epoch_indx:80\n",
      " auc:0.8923844309270522 \n",
      " apur:0.8678618798287829 \n",
      " f1:0.7823329558323895 \n",
      " precision:0.7733990147783252 \n",
      " recall:0.7914757103574702 \n",
      "}\n",
      "=====Epoch 81\n",
      "Training...\n"
     ]
    },
    {
     "name": "stderr",
     "output_type": "stream",
     "text": [
      "Iteration: 100%|██████████| 18/18 [00:01<00:00, 15.88it/s]\n",
      "Iteration: 100%|██████████| 7/7 [00:00<00:00, 15.51it/s]s]\n",
      "Iteration:  78%|███████▊  | 14/18 [00:00<00:00, 15.47it/s]"
     ]
    },
    {
     "name": "stdout",
     "output_type": "stream",
     "text": [
      "{'Train':  best_epoch_indx:77\n",
      " auc:0.9649564100014351 \n",
      " apur:0.95550896110817 \n",
      " f1:0.8757345739471107 \n",
      " precision:0.8434146916637189 \n",
      " recall:0.9106301718650541 \n",
      ", 'Validation':  best_epoch_indx:77\n",
      " auc:0.887815728881021 \n",
      " apur:0.8646539345909818 \n",
      " f1:0.7815587266739847 \n",
      " precision:0.7502634351949421 \n",
      " recall:0.8155784650630011 \n",
      ", 'Test':  best_epoch_indx:77\n",
      " auc:0.8901053322462265 \n",
      " apur:0.8643029506045445 \n",
      " f1:0.7792094343743176 \n",
      " precision:0.7442636629119733 \n",
      " recall:0.8175985334555453 \n",
      "}\n",
      "=====Epoch 78\n",
      "Training...\n"
     ]
    },
    {
     "name": "stderr",
     "output_type": "stream",
     "text": [
      "Iteration: 100%|██████████| 18/18 [00:01<00:00, 15.86it/s]\n",
      "Iteration: 100%|██████████| 7/7 [00:00<00:00, 15.50it/s]s]\n",
      "Iteration:  19%|█▉        | 12/62 [00:01<00:06,  7.26it/s]"
     ]
    },
    {
     "name": "stdout",
     "output_type": "stream",
     "text": [
      "{'Train':  best_epoch_indx:80\n",
      " auc:0.9715940047600361 \n",
      " apur:0.9625887317498084 \n",
      " f1:0.8919636087945413 \n",
      " precision:0.8853631004640662 \n",
      " recall:0.8986632718014004 \n",
      ", 'Validation':  best_epoch_indx:80\n",
      " auc:0.8896766442585458 \n",
      " apur:0.8608085513333295 \n",
      " f1:0.7786790266512167 \n",
      " precision:0.7878077373974208 \n",
      " recall:0.7697594501718213 \n",
      ", 'Test':  best_epoch_indx:80\n",
      " auc:0.8892072651742927 \n",
      " apur:0.8650214356347593 \n",
      " f1:0.7701834862385322 \n",
      " precision:0.77089072543618 \n",
      " recall:0.7694775435380385 \n",
      "}\n",
      "=====Epoch 81\n",
      "Training...\n"
     ]
    },
    {
     "name": "stderr",
     "output_type": "stream",
     "text": [
      "Iteration: 100%|██████████| 7/7 [00:00<00:00, 15.16it/s]]]\n",
      "Iteration: 100%|██████████| 62/62 [00:08<00:00,  7.28it/s]\n",
      "Iteration:   0%|          | 0/62 [00:00<?, ?it/s]"
     ]
    },
    {
     "name": "stdout",
     "output_type": "stream",
     "text": [
      "{'Train':  best_epoch_indx:79\n",
      " auc:0.9676030532351158 \n",
      " apur:0.9579769376023953 \n",
      " f1:0.8844265390910235 \n",
      " precision:0.8747354003237455 \n",
      " recall:0.8943348185868873 \n",
      ", 'Validation':  best_epoch_indx:79\n",
      " auc:0.8847640205028522 \n",
      " apur:0.8635477362245464 \n",
      " f1:0.7725714285714286 \n",
      " precision:0.7708095781071835 \n",
      " recall:0.7743413516609393 \n",
      ", 'Test':  best_epoch_indx:79\n",
      " auc:0.8939771466782169 \n",
      " apur:0.8727304254897966 \n",
      " f1:0.7867950481430537 \n",
      " precision:0.7871559633027523 \n",
      " recall:0.7864344637946837 \n",
      "}\n",
      "=====Epoch 80\n",
      "Training...\n",
      "Evaluating...\n"
     ]
    },
    {
     "name": "stderr",
     "output_type": "stream",
     "text": [
      "Iteration: 100%|██████████| 62/62 [00:04<00:00, 15.19it/s]\n",
      "Iteration: 100%|██████████| 18/18 [00:01<00:00, 15.83it/s]\n",
      "Iteration: 100%|██████████| 62/62 [00:08<00:00,  7.28it/s]\n",
      "Iteration:   0%|          | 0/62 [00:00<?, ?it/s]"
     ]
    },
    {
     "name": "stdout",
     "output_type": "stream",
     "text": [
      "Evaluating...\n"
     ]
    },
    {
     "name": "stderr",
     "output_type": "stream",
     "text": [
      "Iteration: 100%|██████████| 62/62 [00:08<00:00,  7.25it/s]\n",
      "Iteration:   3%|▎         | 2/62 [00:00<00:03, 15.07it/s]]"
     ]
    },
    {
     "name": "stdout",
     "output_type": "stream",
     "text": [
      "Evaluating...\n"
     ]
    },
    {
     "name": "stderr",
     "output_type": "stream",
     "text": [
      "Iteration: 100%|██████████| 62/62 [00:08<00:00,  7.20it/s]\n",
      "Iteration:  85%|████████▌ | 53/62 [00:07<00:01,  7.23it/s]"
     ]
    },
    {
     "name": "stdout",
     "output_type": "stream",
     "text": [
      "Evaluating...\n"
     ]
    },
    {
     "name": "stderr",
     "output_type": "stream",
     "text": [
      "Iteration: 100%|██████████| 62/62 [00:08<00:00,  7.25it/s]\n",
      "Iteration:  35%|███▌      | 22/62 [00:01<00:02, 15.06it/s]"
     ]
    },
    {
     "name": "stdout",
     "output_type": "stream",
     "text": [
      "Evaluating...\n"
     ]
    },
    {
     "name": "stderr",
     "output_type": "stream",
     "text": [
      "Iteration: 100%|██████████| 62/62 [00:04<00:00, 15.23it/s]\n",
      "Iteration: 100%|██████████| 62/62 [00:04<00:00, 15.16it/s]\n",
      "Iteration: 100%|██████████| 7/7 [00:00<00:00, 15.28it/s]s]\n",
      "Iteration:  11%|█         | 2/18 [00:00<00:01, 15.60it/s]]"
     ]
    },
    {
     "name": "stdout",
     "output_type": "stream",
     "text": [
      "{'Train':  best_epoch_indx:78\n",
      " auc:0.9711797567700045 \n",
      " apur:0.9626109356221662 \n",
      " f1:0.892278360343184 \n",
      " precision:0.8908629441624365 \n",
      " recall:0.893698281349459 \n",
      ", 'Validation':  best_epoch_indx:78\n",
      " auc:0.8858092185698142 \n",
      " apur:0.8616770085659353 \n",
      " f1:0.7671711292200233 \n",
      " precision:0.7798816568047338 \n",
      " recall:0.7548682703321878 \n",
      ", 'Test':  best_epoch_indx:78\n",
      " auc:0.8886028016183837 \n",
      " apur:0.8675609174930435 \n",
      " f1:0.7810623556581987 \n",
      " precision:0.787243947858473 \n",
      " recall:0.7749770852428964 \n",
      "}\n",
      "=====Epoch 79\n",
      "Training...\n"
     ]
    },
    {
     "name": "stderr",
     "output_type": "stream",
     "text": [
      "Iteration: 100%|██████████| 18/18 [00:01<00:00, 15.87it/s]\n",
      "Iteration: 100%|██████████| 62/62 [00:04<00:00, 15.11it/s]\n",
      "Iteration: 100%|██████████| 7/7 [00:00<00:00, 15.60it/s]]]\n",
      "Iteration:  89%|████████▉ | 16/18 [00:01<00:00, 15.47it/s]"
     ]
    },
    {
     "name": "stdout",
     "output_type": "stream",
     "text": [
      "{'Train':  best_epoch_indx:81\n",
      " auc:0.9714656357729046 \n",
      " apur:0.9624778269542198 \n",
      " f1:0.8909851939776349 \n",
      " precision:0.8747546614327772 \n",
      " recall:0.9078294080203692 \n",
      ", 'Validation':  best_epoch_indx:81\n",
      " auc:0.8821163139605293 \n",
      " apur:0.8497775528196185 \n",
      " f1:0.7688813174332767 \n",
      " precision:0.7623873873873874 \n",
      " recall:0.7754868270332188 \n",
      ", 'Test':  best_epoch_indx:81\n",
      " auc:0.890945816243708 \n",
      " apur:0.8671250203472378 \n",
      " f1:0.7867085765603952 \n",
      " precision:0.7711267605633803 \n",
      " recall:0.8029330889092575 \n",
      "}\n",
      "=====Epoch 82\n",
      "Training...\n"
     ]
    },
    {
     "name": "stderr",
     "output_type": "stream",
     "text": [
      "Iteration: 100%|██████████| 18/18 [00:01<00:00, 15.98it/s]\n",
      "Iteration: 100%|██████████| 7/7 [00:00<00:00, 15.58it/s]s]\n",
      "Iteration:   0%|          | 0/62 [00:00<?, ?it/s].22it/s]"
     ]
    },
    {
     "name": "stdout",
     "output_type": "stream",
     "text": [
      "{'Train':  best_epoch_indx:78\n",
      " auc:0.9652313238247732 \n",
      " apur:0.9558430737564461 \n",
      " f1:0.877617841477729 \n",
      " precision:0.8524963994239079 \n",
      " recall:0.9042647994907702 \n",
      ", 'Validation':  best_epoch_indx:78\n",
      " auc:0.887459937288116 \n",
      " apur:0.8648728974073625 \n",
      " f1:0.7713004484304933 \n",
      " precision:0.7552140504939627 \n",
      " recall:0.7880870561282932 \n",
      ", 'Test':  best_epoch_indx:78\n",
      " auc:0.8899819213448841 \n",
      " apur:0.8644719001042487 \n",
      " f1:0.7767719143298741 \n",
      " precision:0.7494674051981253 \n",
      " recall:0.806141154903758 \n",
      "}\n",
      "=====Epoch 79\n",
      "Training...\n"
     ]
    },
    {
     "name": "stderr",
     "output_type": "stream",
     "text": [
      "Iteration: 100%|██████████| 18/18 [00:01<00:00, 15.81it/s]\n",
      "Iteration: 100%|██████████| 62/62 [00:04<00:00, 14.62it/s]\n",
      "Iteration: 100%|██████████| 7/7 [00:00<00:00, 15.47it/s]s]\n",
      "Iteration:  22%|██▏       | 4/18 [00:00<00:00, 14.90it/s]"
     ]
    },
    {
     "name": "stdout",
     "output_type": "stream",
     "text": [
      "{'Train':  best_epoch_indx:81\n",
      " auc:0.9714505248603816 \n",
      " apur:0.962835062543735 \n",
      " f1:0.8913423153692615 \n",
      " precision:0.8737923443805796 \n",
      " recall:0.9096117122851687 \n",
      ", 'Validation':  best_epoch_indx:81\n",
      " auc:0.8910197816268836 \n",
      " apur:0.8616005136835371 \n",
      " f1:0.7769537934968626 \n",
      " precision:0.7738636363636363 \n",
      " recall:0.7800687285223368 \n",
      ", 'Test':  best_epoch_indx:81\n",
      " auc:0.8909493732825509 \n",
      " apur:0.866278087470115 \n",
      " f1:0.7749546279491834 \n",
      " precision:0.7672955974842768 \n",
      " recall:0.7827681026581118 \n",
      "}\n",
      "=====Epoch 82\n",
      "Training...\n"
     ]
    },
    {
     "name": "stderr",
     "output_type": "stream",
     "text": [
      "Iteration: 100%|██████████| 18/18 [00:01<00:00, 15.94it/s]\n",
      "Iteration: 100%|██████████| 7/7 [00:00<00:00, 15.47it/s]s]\n",
      "Iteration:  18%|█▊        | 11/62 [00:01<00:07,  7.23it/s]"
     ]
    },
    {
     "name": "stdout",
     "output_type": "stream",
     "text": [
      "{'Train':  best_epoch_indx:80\n",
      " auc:0.9674112465233099 \n",
      " apur:0.9580257546704162 \n",
      " f1:0.8806037541121075 \n",
      " precision:0.8925209205020921 \n",
      " recall:0.8690006365372375 \n",
      ", 'Validation':  best_epoch_indx:80\n",
      " auc:0.881999645172612 \n",
      " apur:0.8616524391140885 \n",
      " f1:0.7719298245614036 \n",
      " precision:0.7885304659498208 \n",
      " recall:0.7560137457044673 \n",
      ", 'Test':  best_epoch_indx:80\n",
      " auc:0.890338261639755 \n",
      " apur:0.869208670093487 \n",
      " f1:0.7784854918612881 \n",
      " precision:0.8021390374331551 \n",
      " recall:0.7561869844179652 \n",
      "}\n",
      "=====Epoch 81\n",
      "Training...\n"
     ]
    },
    {
     "name": "stderr",
     "output_type": "stream",
     "text": [
      "Iteration: 100%|██████████| 62/62 [00:08<00:00,  7.29it/s]\n",
      "Iteration:  53%|█████▎    | 33/62 [00:04<00:04,  7.16it/s]"
     ]
    },
    {
     "name": "stdout",
     "output_type": "stream",
     "text": [
      "Evaluating...\n"
     ]
    },
    {
     "name": "stderr",
     "output_type": "stream",
     "text": [
      "Iteration: 100%|██████████| 62/62 [00:08<00:00,  7.29it/s]\n",
      "Iteration:  81%|████████  | 50/62 [00:06<00:01,  7.16it/s]"
     ]
    },
    {
     "name": "stdout",
     "output_type": "stream",
     "text": [
      "Evaluating...\n"
     ]
    },
    {
     "name": "stderr",
     "output_type": "stream",
     "text": [
      "Iteration: 100%|██████████| 62/62 [00:08<00:00,  7.23it/s]\n",
      "Iteration:  48%|████▊     | 30/62 [00:01<00:02, 15.22it/s]"
     ]
    },
    {
     "name": "stdout",
     "output_type": "stream",
     "text": [
      "Evaluating...\n"
     ]
    },
    {
     "name": "stderr",
     "output_type": "stream",
     "text": [
      "Iteration: 100%|██████████| 62/62 [00:08<00:00,  7.23it/s]\n",
      "Iteration:  84%|████████▍ | 52/62 [00:07<00:01,  7.25it/s]"
     ]
    },
    {
     "name": "stdout",
     "output_type": "stream",
     "text": [
      "Evaluating...\n"
     ]
    },
    {
     "name": "stderr",
     "output_type": "stream",
     "text": [
      "Iteration: 100%|██████████| 62/62 [00:04<00:00, 15.26it/s]\n",
      "Iteration: 100%|██████████| 62/62 [00:08<00:00,  7.23it/s]\n",
      "Iteration:   0%|          | 0/62 [00:00<?, ?it/s]"
     ]
    },
    {
     "name": "stdout",
     "output_type": "stream",
     "text": [
      "Evaluating...\n"
     ]
    },
    {
     "name": "stderr",
     "output_type": "stream",
     "text": [
      "Iteration: 100%|██████████| 62/62 [00:04<00:00, 14.69it/s]\n",
      "Iteration: 100%|██████████| 18/18 [00:01<00:00, 15.88it/s]\n",
      "Iteration: 100%|██████████| 62/62 [00:04<00:00, 15.20it/s]\n",
      "Iteration: 100%|██████████| 7/7 [00:00<00:00, 15.56it/s]s]\n",
      "Iteration:   2%|▏         | 1/62 [00:00<00:08,  7.36it/s]]"
     ]
    },
    {
     "name": "stdout",
     "output_type": "stream",
     "text": [
      "{'Train':  best_epoch_indx:79\n",
      " auc:0.972066394960726 \n",
      " apur:0.9640061323229082 \n",
      " f1:0.8924946748527753 \n",
      " precision:0.8786234118662883 \n",
      " recall:0.9068109484404838 \n",
      ", 'Validation':  best_epoch_indx:79\n",
      " auc:0.8879478249466796 \n",
      " apur:0.8616251318513518 \n",
      " f1:0.7717700626067161 \n",
      " precision:0.7669683257918553 \n",
      " recall:0.7766323024054983 \n",
      ", 'Test':  best_epoch_indx:79\n",
      " auc:0.8884941686958185 \n",
      " apur:0.8670824604674798 \n",
      " f1:0.7797456857402361 \n",
      " precision:0.7727272727272727 \n",
      " recall:0.7868927589367553 \n",
      "}\n",
      "=====Epoch 80\n",
      "Training...\n"
     ]
    },
    {
     "name": "stderr",
     "output_type": "stream",
     "text": [
      "Iteration: 100%|██████████| 18/18 [00:01<00:00, 15.96it/s]\n",
      "Iteration: 100%|██████████| 62/62 [00:04<00:00, 14.57it/s]\n",
      "Iteration: 100%|██████████| 7/7 [00:00<00:00, 15.62it/s]]]\n",
      "Iteration: 100%|██████████| 18/18 [00:01<00:00, 15.89it/s]\n",
      "Iteration:   0%|          | 0/18 [00:00<?, ?it/s].34it/s]"
     ]
    },
    {
     "name": "stdout",
     "output_type": "stream",
     "text": [
      "{'Train':  best_epoch_indx:82\n",
      " auc:0.9705284926489748 \n",
      " apur:0.9612596023395374 \n",
      " f1:0.8859665144596652 \n",
      " precision:0.8490081680280047 \n",
      " recall:0.9262889879057925 \n",
      ", 'Validation':  best_epoch_indx:82\n",
      " auc:0.8818685133118123 \n",
      " apur:0.8477437497833367 \n",
      " f1:0.7698280643372157 \n",
      " precision:0.7462365591397849 \n",
      " recall:0.7949599083619702 \n",
      ", 'Test':  best_epoch_indx:82\n",
      " auc:0.8913578189471864 \n",
      " apur:0.8673941179091904 \n",
      " f1:0.7833114897335081 \n",
      " precision:0.748330550918197 \n",
      " recall:0.8217231897341888 \n",
      "}\n",
      "=====Epoch 83\n",
      "Training...\n"
     ]
    },
    {
     "name": "stderr",
     "output_type": "stream",
     "text": [
      "Iteration: 100%|██████████| 62/62 [00:04<00:00, 15.18it/s]\n",
      "Iteration: 100%|██████████| 18/18 [00:01<00:00, 15.76it/s]\n",
      "Iteration: 100%|██████████| 7/7 [00:00<00:00, 15.39it/s]s]\n",
      "Iteration:  21%|██        | 13/62 [00:01<00:06,  7.35it/s]"
     ]
    },
    {
     "name": "stdout",
     "output_type": "stream",
     "text": [
      "{'Train':  best_epoch_indx:82\n",
      " auc:0.9710166970445977 \n",
      " apur:0.9620831753871287 \n",
      " f1:0.8914587392370058 \n",
      " precision:0.8803376365441906 \n",
      " recall:0.9028644175684277 \n",
      ", 'Validation':  best_epoch_indx:82\n",
      " auc:0.887926130337356 \n",
      " apur:0.8593114940038866 \n",
      " f1:0.7722543352601157 \n",
      " precision:0.779463243873979 \n",
      " recall:0.7651775486827033 \n",
      ", 'Test':  best_epoch_indx:82\n",
      " auc:0.8877815952746051 \n",
      " apur:0.8641691523098552 \n",
      " f1:0.7766323024054984 \n",
      " precision:0.7764544205222171 \n",
      " recall:0.7768102658111824 \n",
      "}\n",
      "=====Epoch 83\n",
      "Training...\n"
     ]
    },
    {
     "name": "stderr",
     "output_type": "stream",
     "text": [
      "Iteration: 100%|██████████| 18/18 [00:01<00:00, 15.89it/s]\n",
      "Iteration: 100%|██████████| 7/7 [00:00<00:00, 15.46it/s]s]\n",
      "Iteration:  35%|███▌      | 22/62 [00:03<00:05,  7.27it/s]"
     ]
    },
    {
     "name": "stdout",
     "output_type": "stream",
     "text": [
      "{'Train':  best_epoch_indx:81\n",
      " auc:0.9676677847253691 \n",
      " apur:0.958031108138603 \n",
      " f1:0.8839568801521877 \n",
      " precision:0.8806064434617814 \n",
      " recall:0.887332908975175 \n",
      ", 'Validation':  best_epoch_indx:81\n",
      " auc:0.8855768451988384 \n",
      " apur:0.8653255942905911 \n",
      " f1:0.7687894434882386 \n",
      " precision:0.7701149425287356 \n",
      " recall:0.7674684994272624 \n",
      ", 'Test':  best_epoch_indx:81\n",
      " auc:0.8922185220390723 \n",
      " apur:0.8717416851431301 \n",
      " f1:0.782608695652174 \n",
      " precision:0.7899159663865546 \n",
      " recall:0.775435380384968 \n",
      "}\n",
      "=====Epoch 82\n",
      "Training...\n"
     ]
    },
    {
     "name": "stderr",
     "output_type": "stream",
     "text": [
      "Iteration: 100%|██████████| 7/7 [00:00<00:00, 14.75it/s]s]\n",
      "Iteration:  40%|████      | 25/62 [00:03<00:05,  7.12it/s]"
     ]
    },
    {
     "name": "stdout",
     "output_type": "stream",
     "text": [
      "{'Train':  best_epoch_indx:79\n",
      " auc:0.9664981817900332 \n",
      " apur:0.9572615606491497 \n",
      " f1:0.880172679617638 \n",
      " precision:0.8535885167464115 \n",
      " recall:0.9084659452577976 \n",
      ", 'Validation':  best_epoch_indx:79\n",
      " auc:0.8879767510924441 \n",
      " apur:0.8677185497099507 \n",
      " f1:0.7804878048780487 \n",
      " precision:0.7561761546723953 \n",
      " recall:0.8064146620847652 \n",
      ", 'Test':  best_epoch_indx:79\n",
      " auc:0.8905323694676953 \n",
      " apur:0.8648911183222525 \n",
      " f1:0.7806065972990923 \n",
      " precision:0.7550321199143469 \n",
      " recall:0.807974335472044 \n",
      "}\n",
      "=====Epoch 80\n",
      "Training...\n"
     ]
    },
    {
     "name": "stderr",
     "output_type": "stream",
     "text": [
      "Iteration: 100%|██████████| 62/62 [00:08<00:00,  7.27it/s]\n",
      "Iteration:  26%|██▌       | 16/62 [00:02<00:06,  7.23it/s]"
     ]
    },
    {
     "name": "stdout",
     "output_type": "stream",
     "text": [
      "Evaluating...\n"
     ]
    },
    {
     "name": "stderr",
     "output_type": "stream",
     "text": [
      "Iteration: 100%|██████████| 62/62 [00:08<00:00,  7.29it/s]\n",
      "Iteration:   0%|          | 0/62 [00:00<?, ?it/s]"
     ]
    },
    {
     "name": "stdout",
     "output_type": "stream",
     "text": [
      "Evaluating...\n"
     ]
    },
    {
     "name": "stderr",
     "output_type": "stream",
     "text": [
      "Iteration: 100%|██████████| 62/62 [00:08<00:00,  7.20it/s]\n",
      "Iteration:   0%|          | 0/62 [00:00<?, ?it/s]"
     ]
    },
    {
     "name": "stdout",
     "output_type": "stream",
     "text": [
      "Evaluating...\n"
     ]
    },
    {
     "name": "stderr",
     "output_type": "stream",
     "text": [
      "Iteration: 100%|██████████| 62/62 [00:08<00:00,  7.23it/s]\n",
      "Iteration: 100%|██████████| 62/62 [00:04<00:00, 14.66it/s]\n",
      "Iteration:  32%|███▏      | 20/62 [00:01<00:02, 15.10it/s]"
     ]
    },
    {
     "name": "stdout",
     "output_type": "stream",
     "text": [
      "Evaluating...\n"
     ]
    },
    {
     "name": "stderr",
     "output_type": "stream",
     "text": [
      "Iteration: 100%|██████████| 18/18 [00:01<00:00, 15.91it/s]\n",
      "Iteration: 100%|██████████| 62/62 [00:04<00:00, 13.86it/s]\n",
      "Iteration: 100%|██████████| 7/7 [00:00<00:00, 15.50it/s]s]\n",
      "Iteration:  77%|███████▋  | 48/62 [00:03<00:00, 15.17it/s]"
     ]
    },
    {
     "name": "stdout",
     "output_type": "stream",
     "text": [
      "{'Train':  best_epoch_indx:80\n",
      " auc:0.9713693840059614 \n",
      " apur:0.963163922616613 \n",
      " f1:0.8908860759493672 \n",
      " precision:0.885840151038389 \n",
      " recall:0.8959898154042012 \n",
      ", 'Validation':  best_epoch_indx:80\n",
      " auc:0.8857783640143321 \n",
      " apur:0.8612900842553166 \n",
      " f1:0.7668213457076566 \n",
      " precision:0.7767332549941246 \n",
      " recall:0.7571592210767468 \n",
      ", 'Test':  best_epoch_indx:80\n",
      " auc:0.8863711974619398 \n",
      " apur:0.8653160171599423 \n",
      " f1:0.7813290411588871 \n",
      " precision:0.7840332256575911 \n",
      " recall:0.7786434463794684 \n",
      "}\n",
      "=====Epoch 81\n",
      "Training...\n"
     ]
    },
    {
     "name": "stderr",
     "output_type": "stream",
     "text": [
      "\r",
      "Iteration:  98%|█████████▊| 61/62 [00:08<00:00,  7.25it/s]\r",
      "Iteration:   2%|▏         | 1/62 [00:00<00:08,  7.09it/s]\r",
      "Iteration:  52%|█████▏    | 32/62 [00:02<00:01, 15.25it/s]\r",
      "Iteration:  44%|████▍     | 8/18 [00:00<00:00, 15.34it/s]\r",
      "Iteration:  81%|████████  | 50/62 [00:03<00:00, 15.26it/s]\r",
      "Iteration: 100%|██████████| 62/62 [00:08<00:00,  7.53it/s]\r",
      "Iteration: 100%|██████████| 62/62 [00:08<00:00,  7.25it/s]\n",
      "\r",
      "Iteration:   0%|          | 0/62 [00:00<?, ?it/s]\r",
      "Iteration:   3%|▎         | 2/62 [00:00<00:08,  7.29it/s]"
     ]
    },
    {
     "name": "stdout",
     "output_type": "stream",
     "text": [
      "Evaluating...\n"
     ]
    },
    {
     "name": "stderr",
     "output_type": "stream",
     "text": [
      "Iteration: 100%|██████████| 18/18 [00:01<00:00, 15.96it/s]\n",
      "Iteration: 100%|██████████| 62/62 [00:04<00:00, 15.17it/s]\n",
      "Iteration: 100%|██████████| 7/7 [00:00<00:00, 15.61it/s]s]\n",
      "Iteration:  16%|█▌        | 10/62 [00:01<00:07,  7.21it/s]"
     ]
    },
    {
     "name": "stdout",
     "output_type": "stream",
     "text": [
      "{'Train':  best_epoch_indx:83\n",
      " auc:0.9686627161935395 \n",
      " apur:0.9590356802398973 \n",
      " f1:0.881898321458761 \n",
      " precision:0.8387504306879522 \n",
      " recall:0.9297262889879058 \n",
      ", 'Validation':  best_epoch_indx:83\n",
      " auc:0.87990732062897 \n",
      " apur:0.8466598719051831 \n",
      " f1:0.768976897689769 \n",
      " precision:0.7396825396825397 \n",
      " recall:0.8006872852233677 \n",
      ", 'Test':  best_epoch_indx:83\n",
      " auc:0.8893380026973061 \n",
      " apur:0.8622462562285634 \n",
      " f1:0.783678756476684 \n",
      " precision:0.7408163265306122 \n",
      " recall:0.8318056828597616 \n",
      "}\n",
      "=====Epoch 84\n",
      "Training...\n"
     ]
    },
    {
     "name": "stderr",
     "output_type": "stream",
     "text": [
      "Iteration: 100%|██████████| 62/62 [00:04<00:00, 14.66it/s]\n",
      "Iteration: 100%|██████████| 18/18 [00:01<00:00, 15.71it/s]\n",
      "Iteration: 100%|██████████| 7/7 [00:00<00:00, 15.47it/s]s]\n",
      "Iteration:  65%|██████▍   | 40/62 [00:02<00:01, 15.17it/s]"
     ]
    },
    {
     "name": "stdout",
     "output_type": "stream",
     "text": [
      "{'Train':  best_epoch_indx:83\n",
      " auc:0.9710106889428896 \n",
      " apur:0.9614365609156915 \n",
      " f1:0.8880817532627432 \n",
      " precision:0.8598164262724997 \n",
      " recall:0.9182686187141947 \n",
      ", 'Validation':  best_epoch_indx:83\n",
      " auc:0.8861572965238487 \n",
      " apur:0.8616041343029265 \n",
      " f1:0.772957746478873 \n",
      " precision:0.7605321507760532 \n",
      " recall:0.7857961053837342 \n",
      ", 'Test':  best_epoch_indx:83\n",
      " auc:0.8885166580790997 \n",
      " apur:0.8670176717020656 \n",
      " f1:0.7775039211292853 \n",
      " precision:0.7606313020604998 \n",
      " recall:0.7951420714940421 \n",
      "}\n",
      "=====Epoch 84\n",
      "Training...\n"
     ]
    },
    {
     "name": "stderr",
     "output_type": "stream",
     "text": [
      "Iteration: 100%|██████████| 18/18 [00:01<00:00, 16.05it/s]\n",
      "Iteration: 100%|██████████| 7/7 [00:00<00:00, 15.62it/s]]]\n",
      "Iteration:  16%|█▌        | 10/62 [00:01<00:07,  7.20it/s]"
     ]
    },
    {
     "name": "stdout",
     "output_type": "stream",
     "text": [
      "{'Train':  best_epoch_indx:82\n",
      " auc:0.9661858915004714 \n",
      " apur:0.9563873567052217 \n",
      " f1:0.8796545465924026 \n",
      " precision:0.8650910881339242 \n",
      " recall:0.8947167409293444 \n",
      ", 'Validation':  best_epoch_indx:82\n",
      " auc:0.8791398135613484 \n",
      " apur:0.8592054849375592 \n",
      " f1:0.7750281214848143 \n",
      " precision:0.7613259668508288 \n",
      " recall:0.7892325315005727 \n",
      ", 'Test':  best_epoch_indx:82\n",
      " auc:0.8916059439753098 \n",
      " apur:0.8719696864178854 \n",
      " f1:0.7860380779691748 \n",
      " precision:0.7775784753363228 \n",
      " recall:0.7946837763519706 \n",
      "}\n",
      "=====Epoch 83\n",
      "Training...\n"
     ]
    },
    {
     "name": "stderr",
     "output_type": "stream",
     "text": [
      "Iteration: 100%|██████████| 62/62 [00:04<00:00, 14.59it/s]\n",
      "Iteration: 100%|██████████| 18/18 [00:01<00:00, 15.88it/s]\n",
      "Iteration: 100%|██████████| 62/62 [00:08<00:00,  7.27it/s]\n",
      "Iteration:  66%|██████▌   | 41/62 [00:05<00:02,  7.18it/s]"
     ]
    },
    {
     "name": "stdout",
     "output_type": "stream",
     "text": [
      "Evaluating...\n"
     ]
    },
    {
     "name": "stderr",
     "output_type": "stream",
     "text": [
      "Iteration: 100%|██████████| 62/62 [00:08<00:00,  7.30it/s]\n",
      "Iteration:   0%|          | 0/62 [00:00<?, ?it/s]"
     ]
    },
    {
     "name": "stdout",
     "output_type": "stream",
     "text": [
      "Evaluating...\n"
     ]
    },
    {
     "name": "stderr",
     "output_type": "stream",
     "text": [
      "Iteration: 100%|██████████| 7/7 [00:00<00:00, 15.12it/s]s]\n",
      "Iteration:   0%|          | 0/62 [00:00<?, ?it/s]"
     ]
    },
    {
     "name": "stdout",
     "output_type": "stream",
     "text": [
      "{'Train':  best_epoch_indx:80\n",
      " auc:0.9682886377805393 \n",
      " apur:0.9591162497787332 \n",
      " f1:0.8843386828998341 \n",
      " precision:0.8552568981921979 \n",
      " recall:0.9154678548695099 \n",
      ", 'Validation':  best_epoch_indx:80\n",
      " auc:0.8880230329256675 \n",
      " apur:0.8657678018956803 \n",
      " f1:0.7779632721202003 \n",
      " precision:0.7564935064935064 \n",
      " recall:0.8006872852233677 \n",
      ", 'Test':  best_epoch_indx:80\n",
      " auc:0.8912356340912312 \n",
      " apur:0.8662297905943123 \n",
      " f1:0.7822634017207148 \n",
      " precision:0.7541471714164185 \n",
      " recall:0.812557286892759 \n",
      "}\n",
      "=====Epoch 81\n",
      "Training...\n"
     ]
    },
    {
     "name": "stderr",
     "output_type": "stream",
     "text": [
      "Iteration: 100%|██████████| 62/62 [00:08<00:00,  7.19it/s]\n",
      "Iteration:   8%|▊         | 5/62 [00:00<00:07,  7.25it/s]]"
     ]
    },
    {
     "name": "stdout",
     "output_type": "stream",
     "text": [
      "Evaluating...\n"
     ]
    },
    {
     "name": "stderr",
     "output_type": "stream",
     "text": [
      "Iteration: 100%|██████████| 62/62 [00:04<00:00, 15.12it/s]\n",
      "Iteration: 100%|██████████| 62/62 [00:08<00:00,  7.24it/s]\n",
      "Iteration:   0%|          | 0/62 [00:00<?, ?it/s]"
     ]
    },
    {
     "name": "stdout",
     "output_type": "stream",
     "text": [
      "Evaluating...\n"
     ]
    },
    {
     "name": "stderr",
     "output_type": "stream",
     "text": [
      "Iteration: 100%|██████████| 62/62 [00:04<00:00, 15.30it/s]\n",
      "Iteration: 100%|██████████| 18/18 [00:01<00:00, 15.81it/s]\n",
      "Iteration: 100%|██████████| 7/7 [00:00<00:00, 15.48it/s]s]\n",
      "Iteration:  74%|███████▍  | 46/62 [00:03<00:01, 15.09it/s]"
     ]
    },
    {
     "name": "stdout",
     "output_type": "stream",
     "text": [
      "{'Train':  best_epoch_indx:81\n",
      " auc:0.970614215855381 \n",
      " apur:0.9620491771712313 \n",
      " f1:0.8885989437713575 \n",
      " precision:0.8678398058252427 \n",
      " recall:0.9103755569700828 \n",
      ", 'Validation':  best_epoch_indx:81\n",
      " auc:0.8871234297923873 \n",
      " apur:0.86178303229414 \n",
      " f1:0.7791027825099376 \n",
      " precision:0.7725225225225225 \n",
      " recall:0.7857961053837342 \n",
      ", 'Test':  best_epoch_indx:81\n",
      " auc:0.8871913451656805 \n",
      " apur:0.8650018315894712 \n",
      " f1:0.7795080117354999 \n",
      " precision:0.7678968430413518 \n",
      " recall:0.7914757103574702 \n",
      "}\n",
      "=====Epoch 82\n",
      "Training...\n"
     ]
    },
    {
     "name": "stderr",
     "output_type": "stream",
     "text": [
      "Iteration: 100%|██████████| 18/18 [00:01<00:00, 15.90it/s]\n",
      "Iteration: 100%|██████████| 62/62 [00:04<00:00, 15.16it/s]\n",
      "Iteration: 100%|██████████| 7/7 [00:00<00:00, 15.62it/s]s]\n"
     ]
    },
    {
     "name": "stdout",
     "output_type": "stream",
     "text": [
      "{'Train':  best_epoch_indx:84\n",
      " auc:0.9684613098327286 \n",
      " apur:0.9585786935115758 \n",
      " f1:0.8837209302325582 \n",
      " precision:0.8637413394919169 \n",
      " recall:0.9046467218332273 \n",
      ", 'Validation':  best_epoch_indx:84\n",
      " auc:0.8780464052514453 \n",
      " apur:0.8464595959493992 \n",
      " f1:0.7692307692307693 \n",
      " precision:0.7597765363128491 \n",
      " recall:0.7789232531500573 \n",
      ", 'Test':  best_epoch_indx:84\n",
      " auc:0.8901690291241162 \n",
      " apur:0.8651181228854542 \n",
      " f1:0.7831758884390463 \n",
      " precision:0.7689929328621908 \n",
      " recall:0.7978918423464711 \n",
      "}\n",
      "=====Epoch 85\n",
      "Training...\n"
     ]
    },
    {
     "name": "stderr",
     "output_type": "stream",
     "text": [
      "Iteration: 100%|██████████| 62/62 [00:04<00:00, 15.28it/s]\n",
      "Iteration: 100%|██████████| 18/18 [00:01<00:00, 15.81it/s]\n",
      "Iteration: 100%|██████████| 7/7 [00:00<00:00, 15.41it/s]s]\n",
      "Iteration:  35%|███▌      | 22/62 [00:03<00:05,  7.28it/s]"
     ]
    },
    {
     "name": "stdout",
     "output_type": "stream",
     "text": [
      "{'Train':  best_epoch_indx:84\n",
      " auc:0.9689075794376439 \n",
      " apur:0.9585770473068576 \n",
      " f1:0.886326194398682 \n",
      " precision:0.8823009965939195 \n",
      " recall:0.8903882877148314 \n",
      ", 'Validation':  best_epoch_indx:84\n",
      " auc:0.8866268642900945 \n",
      " apur:0.8556829138044181 \n",
      " f1:0.7734870317002882 \n",
      " precision:0.7784222737819025 \n",
      " recall:0.7686139747995419 \n",
      ", 'Test':  best_epoch_indx:84\n",
      " auc:0.8854577039428819 \n",
      " apur:0.8611294820242732 \n",
      " f1:0.7662517289073305 \n",
      " precision:0.7708719851576994 \n",
      " recall:0.7616865261228231 \n",
      "}\n",
      "=====Epoch 85\n",
      "Training...\n"
     ]
    },
    {
     "name": "stderr",
     "output_type": "stream",
     "text": [
      "Iteration: 100%|██████████| 18/18 [00:01<00:00, 16.07it/s]\n",
      "Iteration: 100%|██████████| 7/7 [00:00<00:00, 15.60it/s]s]\n",
      "Iteration:  50%|█████     | 31/62 [00:04<00:04,  7.36it/s]"
     ]
    },
    {
     "name": "stdout",
     "output_type": "stream",
     "text": [
      "{'Train':  best_epoch_indx:83\n",
      " auc:0.9669897385910079 \n",
      " apur:0.9568756819526968 \n",
      " f1:0.8790954644738532 \n",
      " precision:0.8873038516405135 \n",
      " recall:0.8710375556970082 \n",
      ", 'Validation':  best_epoch_indx:83\n",
      " auc:0.8846222823886053 \n",
      " apur:0.8661709430660547 \n",
      " f1:0.7729918509895227 \n",
      " precision:0.7857988165680473 \n",
      " recall:0.7605956471935853 \n",
      ", 'Test':  best_epoch_indx:83\n",
      " auc:0.8922223038615648 \n",
      " apur:0.8700108377583594 \n",
      " f1:0.7806361085126287 \n",
      " precision:0.7970391595033429 \n",
      " recall:0.7648945921173236 \n",
      "}\n",
      "=====Epoch 84\n",
      "Training...\n"
     ]
    },
    {
     "name": "stderr",
     "output_type": "stream",
     "text": [
      "Iteration: 100%|██████████| 62/62 [00:08<00:00,  7.26it/s]\n",
      "Iteration:  10%|▉         | 6/62 [00:00<00:07,  7.20it/s]]"
     ]
    },
    {
     "name": "stdout",
     "output_type": "stream",
     "text": [
      "Evaluating...\n"
     ]
    },
    {
     "name": "stderr",
     "output_type": "stream",
     "text": [
      "Iteration: 100%|██████████| 62/62 [00:08<00:00,  7.29it/s]\n",
      "Iteration:  66%|██████▌   | 41/62 [00:05<00:02,  7.14it/s]"
     ]
    },
    {
     "name": "stdout",
     "output_type": "stream",
     "text": [
      "Evaluating...\n"
     ]
    },
    {
     "name": "stderr",
     "output_type": "stream",
     "text": [
      "Iteration: 100%|██████████| 62/62 [00:04<00:00, 15.22it/s]\n",
      "Iteration: 100%|██████████| 62/62 [00:08<00:00,  7.17it/s]\n",
      "Iteration:  69%|██████▉   | 43/62 [00:05<00:02,  7.26it/s]"
     ]
    },
    {
     "name": "stdout",
     "output_type": "stream",
     "text": [
      "Evaluating...\n"
     ]
    },
    {
     "name": "stderr",
     "output_type": "stream",
     "text": [
      "Iteration: 100%|██████████| 18/18 [00:01<00:00, 15.94it/s]\n",
      "Iteration: 100%|██████████| 7/7 [00:00<00:00, 15.49it/s]s]\n",
      "Iteration:  58%|█████▊    | 36/62 [00:02<00:01, 15.14it/s]"
     ]
    },
    {
     "name": "stdout",
     "output_type": "stream",
     "text": [
      "{'Train':  best_epoch_indx:81\n",
      " auc:0.9663271920490604 \n",
      " apur:0.9568531041834721 \n",
      " f1:0.8787176986835689 \n",
      " precision:0.8428621536303051 \n",
      " recall:0.917759388924252 \n",
      ", 'Validation':  best_epoch_indx:81\n",
      " auc:0.8859634913472256 \n",
      " apur:0.8626139300618232 \n",
      " f1:0.7741579237990062 \n",
      " precision:0.7473347547974414 \n",
      " recall:0.8029782359679267 \n",
      ", 'Test':  best_epoch_indx:81\n",
      " auc:0.8909681280349125 \n",
      " apur:0.8662884901986967 \n",
      " f1:0.7835951134380454 \n",
      " precision:0.7477102414654455 \n",
      " recall:0.8230980751604033 \n",
      "}\n",
      "=====Epoch 82\n",
      "Training...\n"
     ]
    },
    {
     "name": "stderr",
     "output_type": "stream",
     "text": [
      "Iteration: 100%|██████████| 62/62 [00:08<00:00,  7.07it/s]\n",
      "Iteration:   0%|          | 0/62 [00:00<?, ?it/s]7.19it/s]"
     ]
    },
    {
     "name": "stdout",
     "output_type": "stream",
     "text": [
      "Evaluating...\n"
     ]
    },
    {
     "name": "stderr",
     "output_type": "stream",
     "text": [
      "Iteration: 100%|██████████| 62/62 [00:08<00:00,  7.25it/s]\n",
      "Iteration: 100%|██████████| 62/62 [00:04<00:00, 14.65it/s]\n",
      "Iteration:   3%|▎         | 2/62 [00:00<00:03, 15.16it/s]]"
     ]
    },
    {
     "name": "stdout",
     "output_type": "stream",
     "text": [
      "Evaluating...\n"
     ]
    },
    {
     "name": "stderr",
     "output_type": "stream",
     "text": [
      "Iteration: 100%|██████████| 62/62 [00:04<00:00, 15.28it/s]\n",
      "Iteration: 100%|██████████| 18/18 [00:01<00:00, 15.96it/s]\n",
      "Iteration: 100%|██████████| 7/7 [00:00<00:00, 15.47it/s]]]\n",
      "Iteration:  45%|████▌     | 28/62 [00:03<00:04,  7.22it/s]"
     ]
    },
    {
     "name": "stdout",
     "output_type": "stream",
     "text": [
      "{'Train':  best_epoch_indx:82\n",
      " auc:0.9710168499249573 \n",
      " apur:0.9628521354444084 \n",
      " f1:0.8919038303779896 \n",
      " precision:0.8842592592592593 \n",
      " recall:0.8996817313812858 \n",
      ", 'Validation':  best_epoch_indx:82\n",
      " auc:0.887572749256598 \n",
      " apur:0.8654001166517965 \n",
      " f1:0.7684331797235024 \n",
      " precision:0.7728852838933952 \n",
      " recall:0.7640320733104238 \n",
      ", 'Test':  best_epoch_indx:82\n",
      " auc:0.8854043027278591 \n",
      " apur:0.862691620601023 \n",
      " f1:0.7799954117916954 \n",
      " precision:0.7808911345888838 \n",
      " recall:0.7791017415215399 \n",
      "}\n",
      "=====Epoch 83\n",
      "Training...\n"
     ]
    },
    {
     "name": "stderr",
     "output_type": "stream",
     "text": [
      "Iteration: 100%|██████████| 18/18 [00:01<00:00, 15.95it/s]\n",
      "Iteration: 100%|██████████| 7/7 [00:00<00:00, 15.63it/s]s]\n",
      "Iteration: 100%|██████████| 62/62 [00:04<00:00, 15.19it/s]\n",
      "Iteration:  77%|███████▋  | 48/62 [00:03<00:00, 15.28it/s]"
     ]
    },
    {
     "name": "stdout",
     "output_type": "stream",
     "text": [
      "{'Train':  best_epoch_indx:85\n",
      " auc:0.9696421819870027 \n",
      " apur:0.9604328744210237 \n",
      " f1:0.8846459824980111 \n",
      " precision:0.8517558331369314 \n",
      " recall:0.92017823042648 \n",
      ", 'Validation':  best_epoch_indx:85\n",
      " auc:0.8832801092251263 \n",
      " apur:0.8511889559122758 \n",
      " f1:0.7747252747252747 \n",
      " precision:0.7444561774023232 \n",
      " recall:0.8075601374570447 \n",
      ", 'Test':  best_epoch_indx:85\n",
      " auc:0.8907191376027306 \n",
      " apur:0.8659734566788961 \n",
      " f1:0.7761128250330542 \n",
      " precision:0.7474533106960951 \n",
      " recall:0.807057745187901 \n",
      "}\n",
      "=====Epoch 86\n",
      "Training...\n"
     ]
    },
    {
     "name": "stderr",
     "output_type": "stream",
     "text": [
      "Iteration: 100%|██████████| 62/62 [00:04<00:00, 15.24it/s]\n",
      "Iteration: 100%|██████████| 18/18 [00:01<00:00, 15.91it/s]\n",
      "Iteration: 100%|██████████| 7/7 [00:00<00:00, 15.46it/s]s]\n",
      "Iteration:  23%|██▎       | 14/62 [00:01<00:06,  7.28it/s]"
     ]
    },
    {
     "name": "stdout",
     "output_type": "stream",
     "text": [
      "{'Train':  best_epoch_indx:85\n",
      " auc:0.9710641306800826 \n",
      " apur:0.9621209258360268 \n",
      " f1:0.887051282051282 \n",
      " precision:0.8933505487411233 \n",
      " recall:0.8808402291534054 \n",
      ", 'Validation':  best_epoch_indx:85\n",
      " auc:0.8838152429217723 \n",
      " apur:0.8534786964278696 \n",
      " f1:0.7513227513227513 \n",
      " precision:0.7717391304347826 \n",
      " recall:0.7319587628865979 \n",
      ", 'Test':  best_epoch_indx:85\n",
      " auc:0.8882682926753972 \n",
      " apur:0.8656584390007855 \n",
      " f1:0.7729513970415589 \n",
      " precision:0.7924891670678864 \n",
      " recall:0.7543538038496792 \n",
      "}\n",
      "=====Epoch 86\n",
      "Training...\n"
     ]
    },
    {
     "name": "stderr",
     "output_type": "stream",
     "text": [
      "Iteration: 100%|██████████| 18/18 [00:01<00:00, 16.00it/s]\n",
      "Iteration: 100%|██████████| 7/7 [00:00<00:00, 15.55it/s]s]\n",
      "Iteration:   0%|          | 0/62 [00:00<?, ?it/s]"
     ]
    },
    {
     "name": "stdout",
     "output_type": "stream",
     "text": [
      "{'Train':  best_epoch_indx:84\n",
      " auc:0.9637885457833426 \n",
      " apur:0.953150712199413 \n",
      " f1:0.8754721813176259 \n",
      " precision:0.8806027820710973 \n",
      " recall:0.8704010184595798 \n",
      ", 'Validation':  best_epoch_indx:84\n",
      " auc:0.8830834114339268 \n",
      " apur:0.864014213646084 \n",
      " f1:0.7798594847775175 \n",
      " precision:0.7976047904191617 \n",
      " recall:0.7628865979381443 \n",
      ", 'Test':  best_epoch_indx:84\n",
      " auc:0.8919471569802102 \n",
      " apur:0.8712032380550715 \n",
      " f1:0.7795183539864392 \n",
      " precision:0.7957040572792363 \n",
      " recall:0.7639780018331805 \n",
      "}\n",
      "=====Epoch 85\n",
      "Training...\n"
     ]
    },
    {
     "name": "stderr",
     "output_type": "stream",
     "text": [
      "Iteration: 100%|██████████| 62/62 [00:08<00:00,  7.25it/s]\n",
      "Iteration:  44%|████▎     | 27/62 [00:03<00:04,  7.29it/s]"
     ]
    },
    {
     "name": "stdout",
     "output_type": "stream",
     "text": [
      "Evaluating...\n"
     ]
    },
    {
     "name": "stderr",
     "output_type": "stream",
     "text": [
      "Iteration: 100%|██████████| 62/62 [00:08<00:00,  7.28it/s]\n",
      "Iteration:  65%|██████▍   | 40/62 [00:05<00:03,  7.16it/s]"
     ]
    },
    {
     "name": "stdout",
     "output_type": "stream",
     "text": [
      "Evaluating...\n"
     ]
    },
    {
     "name": "stderr",
     "output_type": "stream",
     "text": [
      "Iteration: 100%|██████████| 62/62 [00:04<00:00, 14.66it/s]\n",
      "Iteration: 100%|██████████| 62/62 [00:08<00:00,  7.31it/s]\n",
      "Iteration:  77%|███████▋  | 48/62 [00:06<00:01,  7.19it/s]"
     ]
    },
    {
     "name": "stdout",
     "output_type": "stream",
     "text": [
      "Evaluating...\n"
     ]
    },
    {
     "name": "stderr",
     "output_type": "stream",
     "text": [
      "Iteration: 100%|██████████| 18/18 [00:01<00:00, 15.79it/s]\n",
      "Iteration: 100%|██████████| 7/7 [00:00<00:00, 15.50it/s]s]\n",
      "Iteration:   2%|▏         | 1/62 [00:00<00:08,  7.18it/s]]"
     ]
    },
    {
     "name": "stdout",
     "output_type": "stream",
     "text": [
      "{'Train':  best_epoch_indx:82\n",
      " auc:0.9647078389352381 \n",
      " apur:0.9546633254138233 \n",
      " f1:0.8767106398717791 \n",
      " precision:0.8498864587068244 \n",
      " recall:0.9052832590706557 \n",
      ", 'Validation':  best_epoch_indx:82\n",
      " auc:0.8861249956610783 \n",
      " apur:0.863064591712369 \n",
      " f1:0.771380659586361 \n",
      " precision:0.7532751091703057 \n",
      " recall:0.7903780068728522 \n",
      ", 'Test':  best_epoch_indx:82\n",
      " auc:0.8892563516866464 \n",
      " apur:0.8643726320170787 \n",
      " f1:0.781057268722467 \n",
      " precision:0.7519083969465649 \n",
      " recall:0.812557286892759 \n",
      "}\n",
      "=====Epoch 83\n",
      "Training...\n"
     ]
    },
    {
     "name": "stderr",
     "output_type": "stream",
     "text": [
      "Iteration: 100%|██████████| 62/62 [00:08<00:00,  7.22it/s]\n",
      "Iteration:  48%|████▊     | 30/62 [00:01<00:02, 15.31it/s]"
     ]
    },
    {
     "name": "stdout",
     "output_type": "stream",
     "text": [
      "Evaluating...\n"
     ]
    },
    {
     "name": "stderr",
     "output_type": "stream",
     "text": [
      "Iteration: 100%|██████████| 62/62 [00:04<00:00, 15.19it/s]\n",
      "Iteration: 100%|██████████| 62/62 [00:08<00:00,  7.10it/s]\n",
      "Iteration:   3%|▎         | 2/62 [00:00<00:03, 15.19it/s]]"
     ]
    },
    {
     "name": "stdout",
     "output_type": "stream",
     "text": [
      "Evaluating...\n"
     ]
    },
    {
     "name": "stderr",
     "output_type": "stream",
     "text": [
      "Iteration: 100%|██████████| 62/62 [00:04<00:00, 15.33it/s]\n",
      "Iteration: 100%|██████████| 18/18 [00:01<00:00, 15.91it/s]\n",
      "Iteration: 100%|██████████| 7/7 [00:00<00:00, 15.54it/s]s]\n",
      "Iteration:  56%|█████▌    | 10/18 [00:00<00:00, 15.37it/s]"
     ]
    },
    {
     "name": "stdout",
     "output_type": "stream",
     "text": [
      "{'Train':  best_epoch_indx:83\n",
      " auc:0.9693288679850117 \n",
      " apur:0.9607383641563826 \n",
      " f1:0.8860520689221482 \n",
      " precision:0.8754815459177333 \n",
      " recall:0.8968809675366008 \n",
      ", 'Validation':  best_epoch_indx:83\n",
      " auc:0.8864282380891775 \n",
      " apur:0.8572835372487693 \n",
      " f1:0.7692307692307693 \n",
      " precision:0.7710011507479861 \n",
      " recall:0.7674684994272624 \n",
      ", 'Test':  best_epoch_indx:83\n",
      " auc:0.8826776780947267 \n",
      " apur:0.8611201563327969 \n",
      " f1:0.7766636280765724 \n",
      " precision:0.772438803263826 \n",
      " recall:0.7809349220898258 \n",
      "}\n",
      "=====Epoch 84\n",
      "Training...\n"
     ]
    },
    {
     "name": "stderr",
     "output_type": "stream",
     "text": [
      "Iteration: 100%|██████████| 18/18 [00:01<00:00, 15.93it/s]\n",
      "Iteration: 100%|██████████| 7/7 [00:00<00:00, 15.67it/s]]]\n",
      "Iteration:  15%|█▍        | 9/62 [00:01<00:07,  7.21it/s]]"
     ]
    },
    {
     "name": "stdout",
     "output_type": "stream",
     "text": [
      "{'Train':  best_epoch_indx:86\n",
      " auc:0.9716041268384262 \n",
      " apur:0.9626275553194479 \n",
      " f1:0.8915542228885558 \n",
      " precision:0.8752606402551208 \n",
      " recall:0.9084659452577976 \n",
      ", 'Validation':  best_epoch_indx:86\n",
      " auc:0.8845056136006881 \n",
      " apur:0.8543454028088476 \n",
      " f1:0.7725467952353943 \n",
      " precision:0.7651685393258427 \n",
      " recall:0.7800687285223368 \n",
      ", 'Test':  best_epoch_indx:86\n",
      " auc:0.8917759939758105 \n",
      " apur:0.8679258142884649 \n",
      " f1:0.7824521934758156 \n",
      " precision:0.7684489615554574 \n",
      " recall:0.7969752520623281 \n",
      "}\n",
      "=====Epoch 87\n",
      "Training...\n"
     ]
    },
    {
     "name": "stderr",
     "output_type": "stream",
     "text": [
      "Iteration: 100%|██████████| 62/62 [00:04<00:00, 15.19it/s]\n",
      "Iteration: 100%|██████████| 62/62 [00:04<00:00, 15.29it/s]\n",
      "Iteration: 100%|██████████| 18/18 [00:01<00:00, 15.87it/s]\n",
      "Iteration: 100%|██████████| 7/7 [00:00<00:00, 15.50it/s]s]\n",
      "Iteration:  24%|██▍       | 15/62 [00:02<00:06,  7.31it/s]"
     ]
    },
    {
     "name": "stdout",
     "output_type": "stream",
     "text": [
      "{'Train':  best_epoch_indx:86\n",
      " auc:0.9741148708555859 \n",
      " apur:0.9657675548803829 \n",
      " f1:0.8959939815685537 \n",
      " precision:0.8826581027667985 \n",
      " recall:0.9097390197326544 \n",
      ", 'Validation':  best_epoch_indx:86\n",
      " auc:0.8914662084765178 \n",
      " apur:0.8628796746231504 \n",
      " f1:0.7780346820809247 \n",
      " precision:0.7852975495915986 \n",
      " recall:0.7709049255441008 \n",
      ", 'Test':  best_epoch_indx:86\n",
      " auc:0.8892622173705127 \n",
      " apur:0.8652075422541398 \n",
      " f1:0.7725714285714286 \n",
      " precision:0.7706338349293206 \n",
      " recall:0.7745187901008249 \n",
      "}\n",
      "=====Epoch 87\n",
      "Training...\n"
     ]
    },
    {
     "name": "stderr",
     "output_type": "stream",
     "text": [
      "Iteration: 100%|██████████| 18/18 [00:01<00:00, 16.02it/s]\n",
      "Iteration: 100%|██████████| 7/7 [00:00<00:00, 15.55it/s]s]\n",
      "Iteration:  50%|█████     | 31/62 [00:04<00:04,  7.30it/s]"
     ]
    },
    {
     "name": "stdout",
     "output_type": "stream",
     "text": [
      "{'Train':  best_epoch_indx:85\n",
      " auc:0.9655028257132462 \n",
      " apur:0.9553587650261758 \n",
      " f1:0.8787953591705752 \n",
      " precision:0.8527967421248054 \n",
      " recall:0.9064290260980268 \n",
      ", 'Validation':  best_epoch_indx:85\n",
      " auc:0.8862209340445307 \n",
      " apur:0.8669287311808156 \n",
      " f1:0.7795669072737369 \n",
      " precision:0.7564655172413793 \n",
      " recall:0.8041237113402062 \n",
      ", 'Test':  best_epoch_indx:85\n",
      " auc:0.8909674334144548 \n",
      " apur:0.8710128137795905 \n",
      " f1:0.7790697674418604 \n",
      " precision:0.7606986899563318 \n",
      " recall:0.7983501374885427 \n",
      "}\n",
      "=====Epoch 86\n",
      "Training...\n"
     ]
    },
    {
     "name": "stderr",
     "output_type": "stream",
     "text": [
      "Iteration: 100%|██████████| 62/62 [00:08<00:00,  7.25it/s]\n",
      "Iteration:  60%|█████▉    | 37/62 [00:05<00:03,  7.23it/s]"
     ]
    },
    {
     "name": "stdout",
     "output_type": "stream",
     "text": [
      "Evaluating...\n"
     ]
    },
    {
     "name": "stderr",
     "output_type": "stream",
     "text": [
      "Iteration: 100%|██████████| 62/62 [00:08<00:00,  7.26it/s]\n",
      "Iteration:  89%|████████▊ | 55/62 [00:07<00:00,  7.23it/s]"
     ]
    },
    {
     "name": "stdout",
     "output_type": "stream",
     "text": [
      "Evaluating...\n"
     ]
    },
    {
     "name": "stderr",
     "output_type": "stream",
     "text": [
      "Iteration: 100%|██████████| 62/62 [00:04<00:00, 15.16it/s]\n",
      "Iteration: 100%|██████████| 62/62 [00:08<00:00,  7.30it/s]\n",
      "Iteration:  65%|██████▍   | 40/62 [00:05<00:03,  7.17it/s]"
     ]
    },
    {
     "name": "stdout",
     "output_type": "stream",
     "text": [
      "Evaluating...\n"
     ]
    },
    {
     "name": "stderr",
     "output_type": "stream",
     "text": [
      "Iteration: 100%|██████████| 18/18 [00:01<00:00, 15.87it/s]\n",
      "Iteration: 100%|██████████| 7/7 [00:00<00:00, 15.52it/s]s]\n",
      "Iteration:   2%|▏         | 1/62 [00:00<00:08,  7.19it/s]]"
     ]
    },
    {
     "name": "stdout",
     "output_type": "stream",
     "text": [
      "{'Train':  best_epoch_indx:83\n",
      " auc:0.966194150407378 \n",
      " apur:0.9571300993903079 \n",
      " f1:0.877737113082315 \n",
      " precision:0.855915799661263 \n",
      " recall:0.9007001909611713 \n",
      ", 'Validation':  best_epoch_indx:83\n",
      " auc:0.8864388443426243 \n",
      " apur:0.8673750891952099 \n",
      " f1:0.769317540891145 \n",
      " precision:0.7577777777777778 \n",
      " recall:0.7812142038946163 \n",
      ", 'Test':  best_epoch_indx:83\n",
      " auc:0.8902106058356145 \n",
      " apur:0.8632481086424335 \n",
      " f1:0.7824537964818525 \n",
      " precision:0.7609354699003897 \n",
      " recall:0.805224564619615 \n",
      "}\n",
      "=====Epoch 84\n",
      "Training...\n"
     ]
    },
    {
     "name": "stderr",
     "output_type": "stream",
     "text": [
      "Iteration: 100%|██████████| 62/62 [00:08<00:00,  7.21it/s]\n",
      "Iteration:   0%|          | 0/62 [00:00<?, ?it/s]"
     ]
    },
    {
     "name": "stdout",
     "output_type": "stream",
     "text": [
      "Evaluating...\n"
     ]
    },
    {
     "name": "stderr",
     "output_type": "stream",
     "text": [
      "Iteration: 100%|██████████| 62/62 [00:04<00:00, 15.21it/s]\n",
      "Iteration: 100%|██████████| 62/62 [00:08<00:00,  7.22it/s]\n",
      "Iteration:  26%|██▌       | 16/62 [00:01<00:03, 15.08it/s]"
     ]
    },
    {
     "name": "stdout",
     "output_type": "stream",
     "text": [
      "Evaluating...\n"
     ]
    },
    {
     "name": "stderr",
     "output_type": "stream",
     "text": [
      "Iteration: 100%|██████████| 62/62 [00:04<00:00, 15.30it/s]\n",
      "Iteration: 100%|██████████| 18/18 [00:01<00:00, 15.95it/s]\n",
      "Iteration: 100%|██████████| 7/7 [00:00<00:00, 15.55it/s]s]\n",
      "Iteration:  42%|████▏     | 26/62 [00:03<00:04,  7.28it/s]"
     ]
    },
    {
     "name": "stdout",
     "output_type": "stream",
     "text": [
      "{'Train':  best_epoch_indx:84\n",
      " auc:0.9676768546568542 \n",
      " apur:0.9581919290505532 \n",
      " f1:0.883851965680625 \n",
      " precision:0.8890892696122633 \n",
      " recall:0.878676002546149 \n",
      ", 'Validation':  best_epoch_indx:84\n",
      " auc:0.8866982154496472 \n",
      " apur:0.8592784642331005 \n",
      " f1:0.7710417892878163 \n",
      " precision:0.7929782082324455 \n",
      " recall:0.7502863688430699 \n",
      ", 'Test':  best_epoch_indx:84\n",
      " auc:0.8858352853311607 \n",
      " apur:0.8625972169968583 \n",
      " f1:0.7730858468677494 \n",
      " precision:0.7828947368421053 \n",
      " recall:0.763519706691109 \n",
      "}\n",
      "=====Epoch 85\n",
      "Training...\n"
     ]
    },
    {
     "name": "stderr",
     "output_type": "stream",
     "text": [
      "Iteration: 100%|██████████| 18/18 [00:01<00:00, 15.98it/s]\n",
      "Iteration: 100%|██████████| 62/62 [00:04<00:00, 15.12it/s]\n",
      "Iteration: 100%|██████████| 62/62 [00:04<00:00, 15.24it/s]\n",
      "Iteration: 100%|██████████| 18/18 [00:01<00:00, 15.71it/s]\n",
      "Iteration: 100%|██████████| 18/18 [00:01<00:00, 15.90it/s]\n",
      "Iteration: 100%|██████████| 62/62 [00:08<00:00,  7.23it/s]\n",
      "Iteration:   0%|          | 0/7 [00:00<?, ?it/s] 7.27it/s]"
     ]
    },
    {
     "name": "stdout",
     "output_type": "stream",
     "text": [
      "Evaluating...\n"
     ]
    },
    {
     "name": "stderr",
     "output_type": "stream",
     "text": [
      "Iteration: 100%|██████████| 7/7 [00:00<00:00, 13.85it/s]s]\n"
     ]
    },
    {
     "name": "stdout",
     "output_type": "stream",
     "text": [
      "{'Train':  best_epoch_indx:87\n",
      " auc:0.9735463901895254 \n",
      " apur:0.9654302508667558 \n",
      " f1:0.8949022992048326 \n",
      " precision:0.8674713193116634 \n",
      " recall:0.9241247612985359 \n",
      ", 'Validation':  best_epoch_indx:87\n",
      " auc:0.8853189203991038 \n",
      " apur:0.8548385383642494 \n",
      " f1:0.7734375 \n",
      " precision:0.7540805223068553 \n",
      " recall:0.7938144329896907 \n",
      ", 'Test':  best_epoch_indx:87\n",
      " auc:0.8940445549290645 \n",
      " apur:0.8700710972330803 \n",
      " f1:0.7878787878787878 \n",
      " precision:0.7614365113296281 \n",
      " recall:0.8162236480293309 \n",
      "}\n",
      "=====Epoch 88\n",
      "Training...\n"
     ]
    },
    {
     "name": "stderr",
     "output_type": "stream",
     "text": [
      "Iteration: 100%|██████████| 7/7 [00:00<00:00, 14.20it/s]s]\n",
      "Iteration:  26%|██▌       | 16/62 [00:02<00:06,  7.27it/s]"
     ]
    },
    {
     "name": "stdout",
     "output_type": "stream",
     "text": [
      "{'Train':  best_epoch_indx:87\n",
      " auc:0.9748754584229237 \n",
      " apur:0.9668982954085179 \n",
      " f1:0.8975956148000499 \n",
      " precision:0.8787657031345286 \n",
      " recall:0.9172501591343094 \n",
      ", 'Validation':  best_epoch_indx:87\n",
      " auc:0.8917901813090816 \n",
      " apur:0.8636552523181492 \n",
      " f1:0.7782857142857144 \n",
      " precision:0.7765108323831242 \n",
      " recall:0.7800687285223368 \n",
      ", 'Test':  best_epoch_indx:87\n",
      " auc:0.8926241803864499 \n",
      " apur:0.8668149819631219 \n",
      " f1:0.7835939270337637 \n",
      " precision:0.7749887942626624 \n",
      " recall:0.7923923006416131 \n",
      "}\n",
      "=====Epoch 88\n",
      "Training...\n"
     ]
    },
    {
     "name": "stderr",
     "output_type": "stream",
     "text": [
      "Iteration: 100%|██████████| 62/62 [00:08<00:00,  7.14it/s]\n",
      "Iteration:   0%|          | 0/62 [00:00<?, ?it/s]"
     ]
    },
    {
     "name": "stdout",
     "output_type": "stream",
     "text": [
      "Evaluating...\n",
      "{'Train':  best_epoch_indx:86\n",
      " auc:0.9683381971764901 \n",
      " apur:0.9586382896958957 \n",
      " f1:0.8850480799446923 \n",
      " precision:0.8740069513406157 \n",
      " recall:0.8963717377466581 \n",
      ", 'Validation':  best_epoch_indx:86\n",
      " auc:0.8876701339473391 \n",
      " apur:0.868210818966084 \n",
      " f1:0.7738981110475102 \n",
      " precision:0.7734553775743707 \n",
      " recall:0.7743413516609393 \n",
      ", 'Test':  best_epoch_indx:86\n",
      " auc:0.8951062136424075 \n",
      " apur:0.8744215539098051 \n",
      " f1:0.7842153284671534 \n",
      " precision:0.7806539509536785 \n",
      " recall:0.7878093492208983 \n",
      "}\n",
      "=====Epoch 87\n",
      "Training...\n"
     ]
    },
    {
     "name": "stderr",
     "output_type": "stream",
     "text": [
      "Iteration: 100%|██████████| 7/7 [00:00<00:00, 14.32it/s]]]\n",
      "Iteration: 100%|██████████| 62/62 [00:04<00:00, 15.11it/s]\n",
      "Iteration: 100%|██████████| 18/18 [00:01<00:00, 15.88it/s]\n",
      "Iteration: 100%|██████████| 7/7 [00:00<00:00, 15.52it/s]s]\n",
      "Iteration:  26%|██▌       | 16/62 [00:02<00:06,  7.21it/s]"
     ]
    },
    {
     "name": "stdout",
     "output_type": "stream",
     "text": [
      "{'Train':  best_epoch_indx:84\n",
      " auc:0.9653206236278573 \n",
      " apur:0.9558505326998759 \n",
      " f1:0.877922077922078 \n",
      " precision:0.8536380036079375 \n",
      " recall:0.9036282622533418 \n",
      ", 'Validation':  best_epoch_indx:84\n",
      " auc:0.8864089539920009 \n",
      " apur:0.8633921955951047 \n",
      " f1:0.7769058295964125 \n",
      " precision:0.7607025246981339 \n",
      " recall:0.7938144329896907 \n",
      ", 'Test':  best_epoch_indx:84\n",
      " auc:0.8907541077538474 \n",
      " apur:0.8636920808564967 \n",
      " f1:0.7823399558498897 \n",
      " precision:0.7546848381601363 \n",
      " recall:0.8120989917506874 \n",
      "}\n",
      "=====Epoch 85\n",
      "Training...\n"
     ]
    },
    {
     "name": "stderr",
     "output_type": "stream",
     "text": [
      "Iteration: 100%|██████████| 62/62 [00:04<00:00, 15.28it/s]\n",
      "Iteration: 100%|██████████| 18/18 [00:01<00:00, 15.87it/s]\n",
      "Iteration: 100%|██████████| 62/62 [00:08<00:00,  7.27it/s]\n",
      "Iteration:  76%|███████▌  | 47/62 [00:06<00:02,  7.22it/s]"
     ]
    },
    {
     "name": "stdout",
     "output_type": "stream",
     "text": [
      "Evaluating...\n"
     ]
    },
    {
     "name": "stderr",
     "output_type": "stream",
     "text": [
      "\r",
      "Iteration:  57%|█████▋    | 4/7 [00:00<00:00, 15.25it/s]\r",
      "Iteration:  65%|██████▍   | 40/62 [00:05<00:03,  7.23it/s]\r",
      "Iteration:   6%|▋         | 4/62 [00:00<00:03, 15.28it/s]\r",
      "Iteration:  40%|████      | 25/62 [00:03<00:05,  7.20it/s]\r",
      "Iteration:  77%|███████▋  | 48/62 [00:06<00:01,  7.20it/s]\r",
      "Iteration:  86%|████████▌ | 6/7 [00:00<00:00, 15.16it/s]\r",
      "Iteration:  66%|██████▌   | 41/62 [00:05<00:02,  7.22it/s]\r",
      "Iteration: 100%|██████████| 7/7 [00:00<00:00, 15.42it/s]\n"
     ]
    },
    {
     "name": "stdout",
     "output_type": "stream",
     "text": [
      "{'Train':  best_epoch_indx:85\n",
      " auc:0.9711827343040929 \n",
      " apur:0.9624357468638034 \n",
      " f1:0.8892014577073077 \n",
      " precision:0.8931415360904187 \n",
      " recall:0.8852959898154042 \n",
      ", 'Validation':  best_epoch_indx:85\n",
      " auc:0.8877009885028212 \n",
      " apur:0.8630961770439486 \n",
      " f1:0.778296382730455 \n",
      " precision:0.7931034482758621 \n",
      " recall:0.7640320733104238 \n",
      ", 'Test':  best_epoch_indx:85\n",
      " auc:0.8882810691701618 \n",
      " apur:0.8660740848387252 \n",
      " f1:0.7764265668849392 \n",
      " precision:0.792741165234002 \n",
      " recall:0.7607699358386801 \n",
      "}\n",
      "=====Epoch 86\n",
      "Training...\n"
     ]
    },
    {
     "name": "stderr",
     "output_type": "stream",
     "text": [
      "Iteration: 100%|██████████| 62/62 [00:08<00:00,  7.22it/s]\n",
      "Iteration:  90%|█████████ | 56/62 [00:07<00:00,  7.30it/s]"
     ]
    },
    {
     "name": "stdout",
     "output_type": "stream",
     "text": [
      "Evaluating...\n"
     ]
    },
    {
     "name": "stderr",
     "output_type": "stream",
     "text": [
      "Iteration: 100%|██████████| 62/62 [00:08<00:00,  7.25it/s]\n",
      "Iteration:   0%|          | 0/62 [00:00<?, ?it/s]"
     ]
    },
    {
     "name": "stdout",
     "output_type": "stream",
     "text": [
      "Evaluating...\n"
     ]
    },
    {
     "name": "stderr",
     "output_type": "stream",
     "text": [
      "Iteration: 100%|██████████| 62/62 [00:04<00:00, 14.65it/s]\n",
      "Iteration: 100%|██████████| 18/18 [00:01<00:00, 15.89it/s]\n",
      "Iteration: 100%|██████████| 62/62 [00:08<00:00,  7.10it/s]\n",
      "Iteration:   0%|          | 0/62 [00:00<?, ?it/s]"
     ]
    },
    {
     "name": "stdout",
     "output_type": "stream",
     "text": [
      "Evaluating...\n"
     ]
    },
    {
     "name": "stderr",
     "output_type": "stream",
     "text": [
      "Iteration: 100%|██████████| 62/62 [00:04<00:00, 14.58it/s]\n",
      "Iteration: 100%|██████████| 62/62 [00:04<00:00, 15.16it/s]\n",
      "Iteration: 100%|██████████| 18/18 [00:01<00:00, 15.84it/s]\n",
      "Iteration: 100%|██████████| 7/7 [00:00<00:00, 15.46it/s]s]\n",
      "Iteration:  71%|███████   | 44/62 [00:02<00:01, 15.11it/s]"
     ]
    },
    {
     "name": "stdout",
     "output_type": "stream",
     "text": [
      "{'Train':  best_epoch_indx:88\n",
      " auc:0.9760590901864298 \n",
      " apur:0.9681936577556511 \n",
      " f1:0.8990136811963092 \n",
      " precision:0.8987277353689568 \n",
      " recall:0.8992998090388288 \n",
      ", 'Validation':  best_epoch_indx:88\n",
      " auc:0.8894664475993228 \n",
      " apur:0.8594401310363636 \n",
      " f1:0.7673325499412457 \n",
      " precision:0.7876960193003619 \n",
      " recall:0.7479954180985109 \n",
      ", 'Test':  best_epoch_indx:88\n",
      " auc:0.8911363033657602 \n",
      " apur:0.8655621846586437 \n",
      " f1:0.7741635687732341 \n",
      " precision:0.7851083883129123 \n",
      " recall:0.763519706691109 \n",
      "}\n",
      "=====Epoch 89\n",
      "Training...\n"
     ]
    },
    {
     "name": "stderr",
     "output_type": "stream",
     "text": [
      "Iteration: 100%|██████████| 18/18 [00:01<00:00, 15.93it/s]\n",
      "Iteration: 100%|██████████| 62/62 [00:08<00:00,  7.29it/s]\n",
      "Iteration:   0%|          | 0/62 [00:00<?, ?it/s]"
     ]
    },
    {
     "name": "stdout",
     "output_type": "stream",
     "text": [
      "Evaluating...\n"
     ]
    },
    {
     "name": "stderr",
     "output_type": "stream",
     "text": [
      "Iteration: 100%|██████████| 7/7 [00:00<00:00, 15.44it/s]s]\n",
      "Iteration:  11%|█▏        | 7/62 [00:00<00:07,  7.17it/s]]"
     ]
    },
    {
     "name": "stdout",
     "output_type": "stream",
     "text": [
      "{'Train':  best_epoch_indx:87\n",
      " auc:0.9704762834799829 \n",
      " apur:0.9614259747319821 \n",
      " f1:0.8884331944889459 \n",
      " precision:0.8944516129032258 \n",
      " recall:0.8824952259707193 \n",
      ", 'Validation':  best_epoch_indx:87\n",
      " auc:0.887330733837034 \n",
      " apur:0.8653518008987802 \n",
      " f1:0.7694103911266784 \n",
      " precision:0.7845238095238095 \n",
      " recall:0.7548682703321878 \n",
      ", 'Test':  best_epoch_indx:87\n",
      " auc:0.8940907557130988 \n",
      " apur:0.8743668874948155 \n",
      " f1:0.7772823280919972 \n",
      " precision:0.7965367965367965 \n",
      " recall:0.7589367552703942 \n",
      "}\n",
      "=====Epoch 88\n",
      "Training...\n"
     ]
    },
    {
     "name": "stderr",
     "output_type": "stream",
     "text": [
      "Iteration: 100%|██████████| 62/62 [00:04<00:00, 15.11it/s]\n",
      "Iteration: 100%|██████████| 7/7 [00:00<00:00, 15.28it/s]s]\n",
      "Iteration:  67%|██████▋   | 12/18 [00:00<00:00, 15.38it/s]"
     ]
    },
    {
     "name": "stdout",
     "output_type": "stream",
     "text": [
      "{'Train':  best_epoch_indx:88\n",
      " auc:0.9766485638549157 \n",
      " apur:0.9690327334802505 \n",
      " f1:0.899593946105574 \n",
      " precision:0.8704607691391832 \n",
      " recall:0.9307447485677912 \n",
      ", 'Validation':  best_epoch_indx:88\n",
      " auc:0.8846338528469112 \n",
      " apur:0.8532596123990491 \n",
      " f1:0.7754874651810585 \n",
      " precision:0.754880694143167 \n",
      " recall:0.7972508591065293 \n",
      ", 'Test':  best_epoch_indx:88\n",
      " auc:0.8946146463103383 \n",
      " apur:0.8706591809410599 \n",
      " f1:0.7906049191225348 \n",
      " precision:0.7653367653367653 \n",
      " recall:0.8175985334555453 \n",
      "}\n",
      "=====Epoch 89\n",
      "Training...\n"
     ]
    },
    {
     "name": "stderr",
     "output_type": "stream",
     "text": [
      "Iteration: 100%|██████████| 18/18 [00:01<00:00, 15.78it/s]\n",
      "Iteration: 100%|██████████| 62/62 [00:04<00:00, 15.18it/s]\n",
      "Iteration: 100%|██████████| 18/18 [00:01<00:00, 15.77it/s]\n",
      "Iteration: 100%|██████████| 7/7 [00:00<00:00, 14.55it/s]s]\n",
      "Iteration:  90%|█████████ | 56/62 [00:07<00:00,  7.24it/s]"
     ]
    },
    {
     "name": "stdout",
     "output_type": "stream",
     "text": [
      "{'Train':  best_epoch_indx:85\n",
      " auc:0.9654930067244293 \n",
      " apur:0.9561333118087875 \n",
      " f1:0.8734777131201632 \n",
      " precision:0.8259587020648967 \n",
      " recall:0.9267982176957352 \n",
      ", 'Validation':  best_epoch_indx:85\n",
      " auc:0.8883190438173255 \n",
      " apur:0.8661158943143741 \n",
      " f1:0.7713199348180337 \n",
      " precision:0.7334710743801653 \n",
      " recall:0.8132875143184422 \n",
      ", 'Test':  best_epoch_indx:85\n",
      " auc:0.8920011830158198 \n",
      " apur:0.8667811707746346 \n",
      " f1:0.7793326157158236 \n",
      " precision:0.7348761672756801 \n",
      " recall:0.8295142071494043 \n",
      "}\n",
      "=====Epoch 86\n",
      "Training...\n"
     ]
    },
    {
     "name": "stderr",
     "output_type": "stream",
     "text": [
      "Iteration: 100%|██████████| 62/62 [00:08<00:00,  7.21it/s]\n",
      "Iteration:   3%|▎         | 2/62 [00:00<00:04, 14.92it/s]]"
     ]
    },
    {
     "name": "stdout",
     "output_type": "stream",
     "text": [
      "Evaluating...\n"
     ]
    },
    {
     "name": "stderr",
     "output_type": "stream",
     "text": [
      "Iteration: 100%|██████████| 62/62 [00:08<00:00,  7.22it/s]\n",
      "Iteration:  21%|██        | 13/62 [00:01<00:06,  7.18it/s]"
     ]
    },
    {
     "name": "stdout",
     "output_type": "stream",
     "text": [
      "Evaluating...\n"
     ]
    },
    {
     "name": "stderr",
     "output_type": "stream",
     "text": [
      "Iteration: 100%|██████████| 62/62 [00:08<00:00,  7.30it/s]\n",
      "Iteration:  32%|███▏      | 20/62 [00:01<00:02, 14.49it/s]"
     ]
    },
    {
     "name": "stdout",
     "output_type": "stream",
     "text": [
      "Evaluating...\n"
     ]
    },
    {
     "name": "stderr",
     "output_type": "stream",
     "text": [
      "\r",
      "Iteration:  37%|███▋      | 23/62 [00:03<00:05,  7.10it/s]\r",
      "Iteration:   6%|▋         | 4/62 [00:00<00:03, 15.03it/s]\r",
      "Iteration:  86%|████████▌ | 6/7 [00:00<00:00, 13.93it/s]\r",
      "Iteration:  58%|█████▊    | 36/62 [00:02<00:01, 14.85it/s]\r",
      "Iteration:  35%|███▌      | 22/62 [00:01<00:02, 14.69it/s]\r",
      "Iteration: 100%|██████████| 7/7 [00:00<00:00, 14.14it/s]\n",
      "\r",
      "Iteration:  39%|███▊      | 24/62 [00:03<00:05,  7.13it/s]\r",
      "Iteration:   0%|          | 0/62 [00:00<?, ?it/s]\r",
      "Iteration:  10%|▉         | 6/62 [00:00<00:03, 15.22it/s]\r",
      "Iteration:  61%|██████▏   | 38/62 [00:02<00:01, 14.95it/s]"
     ]
    },
    {
     "name": "stdout",
     "output_type": "stream",
     "text": [
      "{'Train':  best_epoch_indx:86\n",
      " auc:0.9719442922428272 \n",
      " apur:0.9634948320559481 \n",
      " f1:0.89112828438949 \n",
      " precision:0.8662259615384615 \n",
      " recall:0.9175047740292808 \n",
      ", 'Validation':  best_epoch_indx:86\n",
      " auc:0.8910785981232717 \n",
      " apur:0.8657560251192269 \n",
      " f1:0.7757847533632287 \n",
      " precision:0.7596048298572997 \n",
      " recall:0.7926689576174112 \n",
      ", 'Test':  best_epoch_indx:86\n",
      " auc:0.8927195881824663 \n",
      " apur:0.8712189341247598 \n",
      " f1:0.784164616416909 \n",
      " precision:0.7658366098733072 \n",
      " recall:0.803391384051329 \n",
      "}\n",
      "=====Epoch 87\n",
      "Training...\n"
     ]
    },
    {
     "name": "stderr",
     "output_type": "stream",
     "text": [
      "Iteration: 100%|██████████| 62/62 [00:04<00:00, 15.09it/s]\n",
      "Iteration: 100%|██████████| 62/62 [00:04<00:00, 14.61it/s]\n",
      "Iteration: 100%|██████████| 18/18 [00:01<00:00, 15.84it/s]\n",
      "Iteration: 100%|██████████| 62/62 [00:04<00:00, 15.37it/s]\n",
      "Iteration: 100%|██████████| 18/18 [00:01<00:00, 16.04it/s]\n",
      "Iteration: 100%|██████████| 7/7 [00:00<00:00, 15.52it/s]s]\n",
      "Iteration:  90%|█████████ | 56/62 [00:07<00:00,  7.22it/s]"
     ]
    },
    {
     "name": "stdout",
     "output_type": "stream",
     "text": [
      "{'Train':  best_epoch_indx:88\n",
      " auc:0.9726751236603094 \n",
      " apur:0.9646589742944922 \n",
      " f1:0.891304347826087 \n",
      " precision:0.8900596673860607 \n",
      " recall:0.8925525143220878 \n",
      ", 'Validation':  best_epoch_indx:88\n",
      " auc:0.8859803649322551 \n",
      " apur:0.8658164441922329 \n",
      " f1:0.7861671469740634 \n",
      " precision:0.7911832946635731 \n",
      " recall:0.7812142038946163 \n",
      ", 'Test':  best_epoch_indx:88\n",
      " auc:0.8927782317679881 \n",
      " apur:0.8726699288127511 \n",
      " f1:0.7823665893271463 \n",
      " precision:0.7922932330827067 \n",
      " recall:0.772685609532539 \n",
      "}\n",
      "=====Epoch 89\n",
      "Training...\n"
     ]
    },
    {
     "name": "stderr",
     "output_type": "stream",
     "text": [
      "Iteration: 100%|██████████| 18/18 [00:01<00:00, 15.94it/s]\n",
      "Iteration: 100%|██████████| 62/62 [00:08<00:00,  7.23it/s]\n",
      "Iteration:  11%|█▏        | 7/62 [00:00<00:07,  7.27it/s]]"
     ]
    },
    {
     "name": "stdout",
     "output_type": "stream",
     "text": [
      "Evaluating...\n"
     ]
    },
    {
     "name": "stderr",
     "output_type": "stream",
     "text": [
      "\r",
      "Iteration:  86%|████████▌ | 6/7 [00:00<00:00, 15.39it/s]\r",
      "Iteration:  65%|██████▍   | 40/62 [00:05<00:03,  7.26it/s]\r",
      "Iteration:   6%|▋         | 4/62 [00:00<00:03, 15.02it/s]\r",
      "Iteration:  13%|█▎        | 8/62 [00:01<00:07,  7.23it/s]\r",
      "Iteration: 100%|██████████| 7/7 [00:00<00:00, 15.61it/s]\n",
      "\r",
      "Iteration:   0%|          | 0/62 [00:00<?, ?it/s]\r",
      "Iteration:  66%|██████▌   | 41/62 [00:05<00:02,  7.30it/s]\r",
      "Iteration:  10%|▉         | 6/62 [00:00<00:03, 15.13it/s]\r",
      "Iteration:  15%|█▍        | 9/62 [00:01<00:07,  7.21it/s]"
     ]
    },
    {
     "name": "stdout",
     "output_type": "stream",
     "text": [
      "{'Train':  best_epoch_indx:89\n",
      " auc:0.9777213277015063 \n",
      " apur:0.9702645629474593 \n",
      " f1:0.9010209696154553 \n",
      " precision:0.8667372382968713 \n",
      " recall:0.9381285805219606 \n",
      ", 'Validation':  best_epoch_indx:89\n",
      " auc:0.8837323213039137 \n",
      " apur:0.8531868096111606 \n",
      " f1:0.778270509977827 \n",
      " precision:0.7540279269602578 \n",
      " recall:0.8041237113402062 \n",
      ", 'Test':  best_epoch_indx:89\n",
      " auc:0.8933723115666288 \n",
      " apur:0.8689643269938979 \n",
      " f1:0.7834101382488479 \n",
      " precision:0.751578947368421 \n",
      " recall:0.8180568285976169 \n",
      "}\n",
      "=====Epoch 90\n",
      "Training...\n"
     ]
    },
    {
     "name": "stderr",
     "output_type": "stream",
     "text": [
      "Iteration: 100%|██████████| 7/7 [00:00<00:00, 15.01it/s]s]\n",
      "Iteration:   0%|          | 0/62 [00:00<?, ?it/s]7.26it/s]"
     ]
    },
    {
     "name": "stdout",
     "output_type": "stream",
     "text": [
      "{'Train':  best_epoch_indx:89\n",
      " auc:0.9782103061869156 \n",
      " apur:0.9710896358855613 \n",
      " f1:0.9032662528995048 \n",
      " precision:0.8898221343873518 \n",
      " recall:0.9171228516868237 \n",
      ", 'Validation':  best_epoch_indx:89\n",
      " auc:0.8915356312263529 \n",
      " apur:0.8629491474971549 \n",
      " f1:0.7744927536231883 \n",
      " precision:0.784037558685446 \n",
      " recall:0.7651775486827033 \n",
      ", 'Test':  best_epoch_indx:89\n",
      " auc:0.8930198053272141 \n",
      " apur:0.8682308991152701 \n",
      " f1:0.7765350376626342 \n",
      " precision:0.7735334242837654 \n",
      " recall:0.7795600366636114 \n",
      "}\n",
      "=====Epoch 90\n",
      "Training...\n"
     ]
    },
    {
     "name": "stderr",
     "output_type": "stream",
     "text": [
      "Iteration: 100%|██████████| 62/62 [00:08<00:00,  7.30it/s]\n",
      "Iteration:   0%|          | 0/62 [00:00<?, ?it/s]"
     ]
    },
    {
     "name": "stdout",
     "output_type": "stream",
     "text": [
      "Evaluating...\n"
     ]
    },
    {
     "name": "stderr",
     "output_type": "stream",
     "text": [
      "Iteration: 100%|██████████| 62/62 [00:04<00:00, 15.17it/s]\n",
      "Iteration: 100%|██████████| 18/18 [00:01<00:00, 15.92it/s]\n",
      "Iteration: 100%|██████████| 7/7 [00:00<00:00, 15.50it/s]s]\n",
      "Iteration:   2%|▏         | 1/62 [00:00<00:08,  7.13it/s]]"
     ]
    },
    {
     "name": "stdout",
     "output_type": "stream",
     "text": [
      "{'Train':  best_epoch_indx:86\n",
      " auc:0.9678922697941347 \n",
      " apur:0.9589134277645354 \n",
      " f1:0.879054624382009 \n",
      " precision:0.8349559042492269 \n",
      " recall:0.928071292170592 \n",
      ", 'Validation':  best_epoch_indx:86\n",
      " auc:0.8849202216899811 \n",
      " apur:0.8605440324688117 \n",
      " f1:0.7760869565217391 \n",
      " precision:0.7383660806618407 \n",
      " recall:0.8178694158075601 \n",
      ", 'Test':  best_epoch_indx:86\n",
      " auc:0.888949252264231 \n",
      " apur:0.8616164204661025 \n",
      " f1:0.7805615550755939 \n",
      " precision:0.7381535947712419 \n",
      " recall:0.8281393217231897 \n",
      "}\n",
      "=====Epoch 87\n",
      "Training...\n"
     ]
    },
    {
     "name": "stderr",
     "output_type": "stream",
     "text": [
      "Iteration: 100%|██████████| 62/62 [00:04<00:00, 15.32it/s]\n",
      "Iteration: 100%|██████████| 62/62 [00:08<00:00,  7.24it/s]\n",
      "Iteration:  33%|███▎      | 6/18 [00:00<00:00, 15.08it/s]]"
     ]
    },
    {
     "name": "stdout",
     "output_type": "stream",
     "text": [
      "Evaluating...\n"
     ]
    },
    {
     "name": "stderr",
     "output_type": "stream",
     "text": [
      "Iteration: 100%|██████████| 18/18 [00:01<00:00, 16.01it/s]\n",
      "Iteration: 100%|██████████| 62/62 [00:08<00:00,  7.23it/s]\n",
      "Iteration:  71%|███████   | 44/62 [00:06<00:02,  7.19it/s]"
     ]
    },
    {
     "name": "stdout",
     "output_type": "stream",
     "text": [
      "Evaluating...\n"
     ]
    },
    {
     "name": "stderr",
     "output_type": "stream",
     "text": [
      "\r",
      "Iteration:  35%|███▌      | 22/62 [00:03<00:05,  7.30it/s]\r",
      "Iteration:   3%|▎         | 2/62 [00:00<00:03, 15.65it/s]\r",
      "Iteration:  32%|███▏      | 20/62 [00:01<00:02, 15.31it/s]\r",
      "Iteration:  86%|████████▌ | 6/7 [00:00<00:00, 15.28it/s]\r",
      "Iteration:  73%|███████▎  | 45/62 [00:06<00:02,  7.23it/s]\r",
      "Iteration:  37%|███▋      | 23/62 [00:03<00:05,  7.30it/s]\r",
      "Iteration: 100%|██████████| 7/7 [00:00<00:00, 15.56it/s]\n",
      "\r",
      "Iteration:   6%|▋         | 4/62 [00:00<00:03, 15.46it/s]\r",
      "Iteration:   0%|          | 0/62 [00:00<?, ?it/s]\r",
      "Iteration:  35%|███▌      | 22/62 [00:01<00:02, 15.33it/s]"
     ]
    },
    {
     "name": "stdout",
     "output_type": "stream",
     "text": [
      "{'Train':  best_epoch_indx:87\n",
      " auc:0.9752584842005193 \n",
      " apur:0.9673853750216126 \n",
      " f1:0.8998664886515355 \n",
      " precision:0.8987807975615951 \n",
      " recall:0.9009548058561426 \n",
      ", 'Validation':  best_epoch_indx:87\n",
      " auc:0.8915226144607589 \n",
      " apur:0.8695837834534862 \n",
      " f1:0.7718277066356228 \n",
      " precision:0.7846153846153846 \n",
      " recall:0.7594501718213058 \n",
      ", 'Test':  best_epoch_indx:87\n",
      " auc:0.8888427507584244 \n",
      " apur:0.8674034802404278 \n",
      " f1:0.7804878048780487 \n",
      " precision:0.7837338262476895 \n",
      " recall:0.7772685609532539 \n",
      "}\n",
      "=====Epoch 88\n",
      "Training...\n"
     ]
    },
    {
     "name": "stderr",
     "output_type": "stream",
     "text": [
      "Iteration: 100%|██████████| 62/62 [00:08<00:00,  7.14it/s]\n",
      "Iteration:  29%|██▉       | 18/62 [00:02<00:06,  7.23it/s]"
     ]
    },
    {
     "name": "stdout",
     "output_type": "stream",
     "text": [
      "Evaluating...\n"
     ]
    },
    {
     "name": "stderr",
     "output_type": "stream",
     "text": [
      "Iteration: 100%|██████████| 62/62 [00:04<00:00, 15.25it/s]\n",
      "Iteration: 100%|██████████| 62/62 [00:04<00:00, 14.82it/s]\n",
      "Iteration: 100%|██████████| 18/18 [00:01<00:00, 16.01it/s]\n",
      "Iteration: 100%|██████████| 18/18 [00:01<00:00, 15.95it/s]\n",
      "Iteration: 100%|██████████| 62/62 [00:08<00:00,  7.24it/s]\n",
      "Iteration:  74%|███████▍  | 46/62 [00:03<00:01, 15.08it/s]"
     ]
    },
    {
     "name": "stdout",
     "output_type": "stream",
     "text": [
      "Evaluating...\n"
     ]
    },
    {
     "name": "stderr",
     "output_type": "stream",
     "text": [
      "Iteration: 100%|██████████| 7/7 [00:00<00:00, 15.32it/s]s]\n",
      "Iteration:  87%|████████▋ | 54/62 [00:03<00:00, 15.14it/s]"
     ]
    },
    {
     "name": "stdout",
     "output_type": "stream",
     "text": [
      "{'Train':  best_epoch_indx:90\n",
      " auc:0.9777874587336106 \n",
      " apur:0.9703425950209819 \n",
      " f1:0.8986393334532158 \n",
      " precision:0.8491164476665156 \n",
      " recall:0.9542966263526417 \n",
      ", 'Validation':  best_epoch_indx:90\n",
      " auc:0.8843523050281356 \n",
      " apur:0.8538549699903799 \n",
      " f1:0.7776572668112799 \n",
      " precision:0.7384140061791967 \n",
      " recall:0.8213058419243986 \n",
      ", 'Test':  best_epoch_indx:90\n",
      " auc:0.8936321664552646 \n",
      " apur:0.8698783025031973 \n",
      " f1:0.7858216970998925 \n",
      " precision:0.7395875454913061 \n",
      " recall:0.8382218148487626 \n",
      "}\n",
      "=====Epoch 91\n",
      "Training...\n"
     ]
    },
    {
     "name": "stderr",
     "output_type": "stream",
     "text": [
      "Iteration: 100%|██████████| 62/62 [00:04<00:00, 14.47it/s]\n",
      "Iteration: 100%|██████████| 18/18 [00:01<00:00, 15.84it/s]\n",
      "Iteration: 100%|██████████| 7/7 [00:00<00:00, 15.44it/s]s]\n",
      "Iteration: 100%|██████████| 62/62 [00:08<00:00,  7.30it/s]\n",
      "Iteration:  32%|███▏      | 20/62 [00:02<00:05,  7.19it/s]"
     ]
    },
    {
     "name": "stdout",
     "output_type": "stream",
     "text": [
      "{'Train':  best_epoch_indx:90\n",
      " auc:0.9778654268580604 \n",
      " apur:0.9705796945199183 \n",
      " f1:0.9028484231943033 \n",
      " precision:0.9018163343071256 \n",
      " recall:0.9038828771483132 \n",
      ", 'Validation':  best_epoch_indx:90\n",
      " auc:0.8911692333800008 \n",
      " apur:0.8631774845248408 \n",
      " f1:0.7786885245901639 \n",
      " precision:0.7964071856287425 \n",
      " recall:0.7617411225658648 \n",
      ", 'Test':  best_epoch_indx:90\n",
      " auc:0.8923730365009158 \n",
      " apur:0.8672057778061142 \n",
      " f1:0.7754247149173843 \n",
      " precision:0.7877068557919622 \n",
      " recall:0.763519706691109 \n",
      "}\n",
      "=====Epoch 91\n",
      "Training...\n",
      "Evaluating...\n"
     ]
    },
    {
     "name": "stderr",
     "output_type": "stream",
     "text": [
      "Iteration: 100%|██████████| 7/7 [00:00<00:00, 14.76it/s]s]\n",
      "Iteration:   0%|          | 0/62 [00:00<?, ?it/s]"
     ]
    },
    {
     "name": "stdout",
     "output_type": "stream",
     "text": [
      "{'Train':  best_epoch_indx:89\n",
      " auc:0.9743606016199843 \n",
      " apur:0.9668129872525248 \n",
      " f1:0.8961810824481539 \n",
      " precision:0.8902147971360382 \n",
      " recall:0.9022278803309993 \n",
      ", 'Validation':  best_epoch_indx:89\n",
      " auc:0.888392323386596 \n",
      " apur:0.8676121208406136 \n",
      " f1:0.7850144092219021 \n",
      " precision:0.7900232018561485 \n",
      " recall:0.7800687285223368 \n",
      ", 'Test':  best_epoch_indx:89\n",
      " auc:0.89686198261967 \n",
      " apur:0.877193055847603 \n",
      " f1:0.7849561605906785 \n",
      " precision:0.7904275092936803 \n",
      " recall:0.7795600366636114 \n",
      "}\n",
      "=====Epoch 90\n",
      "Training...\n"
     ]
    },
    {
     "name": "stderr",
     "output_type": "stream",
     "text": [
      "Iteration: 100%|██████████| 62/62 [00:04<00:00, 14.92it/s]\n",
      "Iteration: 100%|██████████| 18/18 [00:01<00:00, 14.41it/s]\n",
      "Iteration: 100%|██████████| 7/7 [00:00<00:00, 14.60it/s]s]\n",
      "Iteration:  31%|███       | 19/62 [00:02<00:05,  7.28it/s]"
     ]
    },
    {
     "name": "stdout",
     "output_type": "stream",
     "text": [
      "{'Train':  best_epoch_indx:87\n",
      " auc:0.9710881511778917 \n",
      " apur:0.9625271307064757 \n",
      " f1:0.8923365655301846 \n",
      " precision:0.8772447724477245 \n",
      " recall:0.9079567154678548 \n",
      ", 'Validation':  best_epoch_indx:87\n",
      " auc:0.8887413655454892 \n",
      " apur:0.8666601320555832 \n",
      " f1:0.7765776009096077 \n",
      " precision:0.7708803611738149 \n",
      " recall:0.7823596792668958 \n",
      ", 'Test':  best_epoch_indx:87\n",
      " auc:0.8914424766275653 \n",
      " apur:0.865199583225717 \n",
      " f1:0.7784753363228699 \n",
      " precision:0.762071992976295 \n",
      " recall:0.7956003666361137 \n",
      "}\n",
      "=====Epoch 88\n",
      "Training...\n"
     ]
    },
    {
     "name": "stderr",
     "output_type": "stream",
     "text": [
      "Iteration: 100%|██████████| 62/62 [00:04<00:00, 14.52it/s]\n",
      "Iteration: 100%|██████████| 18/18 [00:01<00:00, 15.91it/s]\n",
      "Iteration: 100%|██████████| 62/62 [00:08<00:00,  7.03it/s]\n",
      "Iteration: 100%|██████████| 7/7 [00:00<00:00, 15.52it/s]\n",
      "Iteration:  71%|███████   | 44/62 [00:06<00:02,  7.16it/s]"
     ]
    },
    {
     "name": "stdout",
     "output_type": "stream",
     "text": [
      "Evaluating...\n",
      "{'Train':  best_epoch_indx:88\n",
      " auc:0.9761506367843729 \n",
      " apur:0.9690843717510645 \n",
      " f1:0.900465693883887 \n",
      " precision:0.8789090909090909 \n",
      " recall:0.9231063017186505 \n",
      ", 'Validation':  best_epoch_indx:88\n",
      " auc:0.8917169017398113 \n",
      " apur:0.8708988130505702 \n",
      " f1:0.777027027027027 \n",
      " precision:0.7641196013289037 \n",
      " recall:0.7903780068728522 \n",
      ", 'Test':  best_epoch_indx:88\n",
      " auc:0.8889009249229232 \n",
      " apur:0.867576678759275 \n",
      " f1:0.7850719424460431 \n",
      " precision:0.7705207413945278 \n",
      " recall:0.8001833180568286 \n",
      "}\n",
      "=====Epoch 89\n",
      "Training...\n"
     ]
    },
    {
     "name": "stderr",
     "output_type": "stream",
     "text": [
      "Iteration: 100%|██████████| 62/62 [00:08<00:00,  7.06it/s]\n",
      "Iteration:  66%|██████▌   | 41/62 [00:05<00:02,  7.23it/s]"
     ]
    },
    {
     "name": "stdout",
     "output_type": "stream",
     "text": [
      "Evaluating...\n"
     ]
    },
    {
     "name": "stderr",
     "output_type": "stream",
     "text": [
      "Iteration: 100%|██████████| 62/62 [00:08<00:00,  7.26it/s]\n",
      "Iteration:   3%|▎         | 2/62 [00:00<00:04, 14.61it/s]]"
     ]
    },
    {
     "name": "stdout",
     "output_type": "stream",
     "text": [
      "Evaluating...\n"
     ]
    },
    {
     "name": "stderr",
     "output_type": "stream",
     "text": [
      "Iteration: 100%|██████████| 62/62 [00:04<00:00, 15.30it/s]\n",
      "Iteration: 100%|██████████| 18/18 [00:01<00:00, 15.83it/s]\n",
      "Iteration: 100%|██████████| 62/62 [00:08<00:00,  7.27it/s]\n",
      "Iteration:  68%|██████▊   | 42/62 [00:02<00:01, 15.13it/s]"
     ]
    },
    {
     "name": "stdout",
     "output_type": "stream",
     "text": [
      "Evaluating...\n"
     ]
    },
    {
     "name": "stderr",
     "output_type": "stream",
     "text": [
      "\r",
      "Iteration:   6%|▋         | 4/62 [00:00<00:03, 15.10it/s]\r",
      "Iteration:  68%|██████▊   | 42/62 [00:05<00:02,  7.36it/s]\r",
      "Iteration:  77%|███████▋  | 48/62 [00:03<00:00, 15.18it/s]\r",
      "Iteration:  86%|████████▌ | 6/7 [00:00<00:00, 15.21it/s]\r",
      "Iteration:  71%|███████   | 44/62 [00:02<00:01, 15.06it/s]\r",
      "Iteration: 100%|██████████| 7/7 [00:00<00:00, 15.43it/s]\n",
      "\r",
      "Iteration:  69%|██████▉   | 43/62 [00:05<00:02,  7.35it/s]\r",
      "Iteration:  81%|████████  | 50/62 [00:03<00:00, 15.14it/s]\r",
      "Iteration:   0%|          | 0/62 [00:00<?, ?it/s]\r",
      "Iteration:  74%|███████▍  | 46/62 [00:03<00:01, 15.01it/s]"
     ]
    },
    {
     "name": "stdout",
     "output_type": "stream",
     "text": [
      "{'Train':  best_epoch_indx:91\n",
      " auc:0.977653690037153 \n",
      " apur:0.9701772997139624 \n",
      " f1:0.9013496932515338 \n",
      " precision:0.8698638247483719 \n",
      " recall:0.9352005092297899 \n",
      ", 'Validation':  best_epoch_indx:91\n",
      " auc:0.8852364808836746 \n",
      " apur:0.8534595425829025 \n",
      " f1:0.7748455923638407 \n",
      " precision:0.7599118942731278 \n",
      " recall:0.7903780068728522 \n",
      ", 'Test':  best_epoch_indx:91\n",
      " auc:0.8938893981057134 \n",
      " apur:0.8694676102343256 \n",
      " f1:0.7888446215139443 \n",
      " precision:0.7628424657534246 \n",
      " recall:0.8166819431714024 \n",
      "}\n",
      "=====Epoch 92\n",
      "Training...\n"
     ]
    },
    {
     "name": "stderr",
     "output_type": "stream",
     "text": [
      "Iteration: 100%|██████████| 62/62 [00:04<00:00, 15.21it/s]\n",
      "Iteration: 100%|██████████| 62/62 [00:04<00:00, 14.62it/s]\n",
      "Iteration: 100%|██████████| 18/18 [00:01<00:00, 15.86it/s]\n",
      "Iteration: 100%|██████████| 18/18 [00:01<00:00, 16.05it/s]\n",
      "Iteration: 100%|██████████| 62/62 [00:08<00:00,  7.29it/s]\n",
      "Iteration: 100%|██████████| 7/7 [00:00<00:00, 15.50it/s]s]\n",
      "Iteration:   0%|          | 0/7 [00:00<?, ?it/s]"
     ]
    },
    {
     "name": "stdout",
     "output_type": "stream",
     "text": [
      "Evaluating...\n",
      "{'Train':  best_epoch_indx:91\n",
      " auc:0.9763999859473538 \n",
      " apur:0.9692936604112639 \n",
      " f1:0.9005084426589667 \n",
      " precision:0.888187221396731 \n",
      " recall:0.9131763208147676 \n",
      ", 'Validation':  best_epoch_indx:91\n",
      " auc:0.8894413782729934 \n",
      " apur:0.8604873705333482 \n",
      " f1:0.7683352735739232 \n",
      " precision:0.7810650887573964 \n",
      " recall:0.7560137457044673 \n",
      ", 'Test':  best_epoch_indx:91\n",
      " auc:0.8905304399664236 \n",
      " apur:0.8664425686600963 \n",
      " f1:0.7744429286039108 \n",
      " precision:0.7685018050541517 \n",
      " recall:0.7804766269477543 \n",
      "}\n",
      "=====Epoch 92\n",
      "Training...\n"
     ]
    },
    {
     "name": "stderr",
     "output_type": "stream",
     "text": [
      "Iteration: 100%|██████████| 7/7 [00:00<00:00, 15.57it/s]]]\n",
      "Iteration:  16%|█▌        | 10/62 [00:00<00:03, 15.24it/s]"
     ]
    },
    {
     "name": "stdout",
     "output_type": "stream",
     "text": [
      "{'Train':  best_epoch_indx:90\n",
      " auc:0.9739259223091119 \n",
      " apur:0.9661975898364442 \n",
      " f1:0.8985126859142608 \n",
      " precision:0.8824107033263778 \n",
      " recall:0.9152132399745385 \n",
      ", 'Validation':  best_epoch_indx:90\n",
      " auc:0.8854023241193918 \n",
      " apur:0.8638126661018226 \n",
      " f1:0.7866817155756208 \n",
      " precision:0.7753058954393771 \n",
      " recall:0.7983963344788088 \n",
      ", 'Test':  best_epoch_indx:90\n",
      " auc:0.8937578781536927 \n",
      " apur:0.8716488145990156 \n",
      " f1:0.7895216400911163 \n",
      " precision:0.7848731884057971 \n",
      " recall:0.7942254812098992 \n",
      "}\n",
      "=====Epoch 91\n",
      "Training...\n"
     ]
    },
    {
     "name": "stderr",
     "output_type": "stream",
     "text": [
      "Iteration: 100%|██████████| 62/62 [00:04<00:00, 14.63it/s]\n",
      "Iteration: 100%|██████████| 18/18 [00:01<00:00, 15.93it/s]\n",
      "Iteration: 100%|██████████| 7/7 [00:00<00:00, 15.50it/s]s]\n",
      "Iteration:  81%|████████  | 50/62 [00:03<00:00, 15.26it/s]"
     ]
    },
    {
     "name": "stdout",
     "output_type": "stream",
     "text": [
      "{'Train':  best_epoch_indx:88\n",
      " auc:0.973639039918447 \n",
      " apur:0.9656379794781258 \n",
      " f1:0.8900694234832479 \n",
      " precision:0.8463834672789897 \n",
      " recall:0.9385105028644176 \n",
      ", 'Validation':  best_epoch_indx:88\n",
      " auc:0.8892302174089115 \n",
      " apur:0.8672508358173735 \n",
      " f1:0.775377969762419 \n",
      " precision:0.7334014300306435 \n",
      " recall:0.8224513172966781 \n",
      ", 'Test':  best_epoch_indx:88\n",
      " auc:0.8925358864082535 \n",
      " apur:0.8650348235669966 \n",
      " f1:0.7804455980964742 \n",
      " precision:0.7390413764850471 \n",
      " recall:0.8267644362969753 \n",
      "}\n",
      "=====Epoch 89\n",
      "Training...\n"
     ]
    },
    {
     "name": "stderr",
     "output_type": "stream",
     "text": [
      "Iteration: 100%|██████████| 62/62 [00:04<00:00, 15.27it/s]\n",
      "Iteration: 100%|██████████| 18/18 [00:01<00:00, 15.90it/s]\n",
      "Iteration: 100%|██████████| 62/62 [00:08<00:00,  7.31it/s]\n",
      "Iteration: 100%|██████████| 7/7 [00:00<00:00, 15.55it/s]s]\n"
     ]
    },
    {
     "name": "stdout",
     "output_type": "stream",
     "text": [
      "Evaluating...\n",
      "{'Train':  best_epoch_indx:89\n",
      " auc:0.9774284098080211 \n",
      " apur:0.9705331762886499 \n",
      " f1:0.9035757078892603 \n",
      " precision:0.8952761809547614 \n",
      " recall:0.9120305537873966 \n",
      ", 'Validation':  best_epoch_indx:89\n",
      " auc:0.8918326063228699 \n",
      " apur:0.8693918604304418 \n",
      " f1:0.7776497695852534 \n",
      " precision:0.7821552723059096 \n",
      " recall:0.7731958762886598 \n",
      ", 'Test':  best_epoch_indx:89\n",
      " auc:0.8909945776123593 \n",
      " apur:0.8690783189128918 \n",
      " f1:0.7861404313905461 \n",
      " precision:0.7872242647058824 \n",
      " recall:0.7850595783684693 \n",
      "}\n",
      "=====Epoch 90\n",
      "Training...\n"
     ]
    },
    {
     "name": "stderr",
     "output_type": "stream",
     "text": [
      "Iteration: 100%|██████████| 62/62 [00:08<00:00,  7.19it/s]\n",
      "Iteration:  71%|███████   | 44/62 [00:02<00:01, 15.29it/s]"
     ]
    },
    {
     "name": "stdout",
     "output_type": "stream",
     "text": [
      "Evaluating...\n"
     ]
    },
    {
     "name": "stderr",
     "output_type": "stream",
     "text": [
      "Iteration: 100%|██████████| 62/62 [00:08<00:00,  7.24it/s]\n",
      "Iteration:   3%|▎         | 2/62 [00:00<00:03, 15.14it/s]]"
     ]
    },
    {
     "name": "stdout",
     "output_type": "stream",
     "text": [
      "Evaluating...\n"
     ]
    },
    {
     "name": "stderr",
     "output_type": "stream",
     "text": [
      "Iteration: 100%|██████████| 62/62 [00:04<00:00, 15.35it/s]\n",
      "Iteration: 100%|██████████| 18/18 [00:01<00:00, 15.98it/s]\n",
      "Iteration: 100%|██████████| 62/62 [00:08<00:00,  7.22it/s]\n",
      "Iteration: 100%|██████████| 7/7 [00:00<00:00, 15.61it/s]s]\n",
      "Iteration:  69%|██████▉   | 43/62 [00:05<00:02,  7.23it/s]"
     ]
    },
    {
     "name": "stdout",
     "output_type": "stream",
     "text": [
      "Evaluating...\n",
      "{'Train':  best_epoch_indx:92\n",
      " auc:0.9777764239922789 \n",
      " apur:0.9704617338701658 \n",
      " f1:0.9026775889473041 \n",
      " precision:0.8682817829001529 \n",
      " recall:0.93991088478676 \n",
      ", 'Validation':  best_epoch_indx:92\n",
      " auc:0.8836850752658313 \n",
      " apur:0.8507349399527239 \n",
      " f1:0.7807066741447 \n",
      " precision:0.7648351648351648 \n",
      " recall:0.7972508591065293 \n",
      ", 'Test':  best_epoch_indx:92\n",
      " auc:0.8931008835683447 \n",
      " apur:0.8691048669562069 \n",
      " f1:0.7881599293130108 \n",
      " precision:0.7607675906183369 \n",
      " recall:0.8175985334555453 \n",
      "}\n",
      "=====Epoch 93\n",
      "Training...\n"
     ]
    },
    {
     "name": "stderr",
     "output_type": "stream",
     "text": [
      "Iteration: 100%|██████████| 62/62 [00:04<00:00, 15.17it/s]\n",
      "Iteration: 100%|██████████| 62/62 [00:04<00:00, 15.26it/s]\n",
      "Iteration: 100%|██████████| 18/18 [00:01<00:00, 15.83it/s]\n",
      "Iteration: 100%|██████████| 62/62 [00:08<00:00,  7.28it/s]\n",
      "Iteration: 100%|██████████| 18/18 [00:01<00:00, 15.99it/s]\n",
      "Iteration:  71%|███████   | 44/62 [00:02<00:01, 15.24it/s]"
     ]
    },
    {
     "name": "stdout",
     "output_type": "stream",
     "text": [
      "Evaluating...\n"
     ]
    },
    {
     "name": "stderr",
     "output_type": "stream",
     "text": [
      "\r",
      "Iteration:   3%|▎         | 2/62 [00:00<00:03, 15.10it/s]\r",
      "Iteration: 100%|██████████| 7/7 [00:00<00:00, 15.31it/s]\n",
      "\r",
      "Iteration:  34%|███▍      | 21/62 [00:02<00:05,  7.29it/s]\r",
      "Iteration:   0%|          | 0/62 [00:00<?, ?it/s]\r",
      "Iteration:  29%|██▊       | 2/7 [00:00<00:00, 15.16it/s]\r",
      "Iteration:  74%|███████▍  | 46/62 [00:03<00:01, 15.30it/s]\r",
      "Iteration:   6%|▋         | 4/62 [00:00<00:03, 15.03it/s]"
     ]
    },
    {
     "name": "stdout",
     "output_type": "stream",
     "text": [
      "{'Train':  best_epoch_indx:92\n",
      " auc:0.9766146877543693 \n",
      " apur:0.9693967312378298 \n",
      " f1:0.9000947867298579 \n",
      " precision:0.8936010037641154 \n",
      " recall:0.9066836409929981 \n",
      ", 'Validation':  best_epoch_indx:92\n",
      " auc:0.8872863804135283 \n",
      " apur:0.8591630686587473 \n",
      " f1:0.7634660421545667 \n",
      " precision:0.7808383233532934 \n",
      " recall:0.7468499427262314 \n",
      ", 'Test':  best_epoch_indx:92\n",
      " auc:0.8896366949773384 \n",
      " apur:0.865824922039204 \n",
      " f1:0.7788262370540852 \n",
      " precision:0.782246879334258 \n",
      " recall:0.775435380384968 \n",
      "}\n",
      "=====Epoch 93\n",
      "Training...\n"
     ]
    },
    {
     "name": "stderr",
     "output_type": "stream",
     "text": [
      "\r",
      "Iteration:  35%|███▌      | 22/62 [00:03<00:05,  7.29it/s]\r",
      "Iteration:  57%|█████▋    | 4/7 [00:00<00:00, 15.39it/s]\r",
      "Iteration:   2%|▏         | 1/62 [00:00<00:08,  7.27it/s]\r",
      "Iteration:  77%|███████▋  | 48/62 [00:03<00:00, 15.28it/s]\r",
      "Iteration:  10%|▉         | 6/62 [00:00<00:03, 15.14it/s]\r",
      "Iteration:  86%|████████▌ | 6/7 [00:00<00:00, 15.33it/s]\r",
      "Iteration:  37%|███▋      | 23/62 [00:03<00:05,  7.29it/s]\r",
      "Iteration:   3%|▎         | 2/62 [00:00<00:08,  7.13it/s]\r",
      "Iteration:  81%|████████  | 50/62 [00:03<00:00, 15.26it/s]\r",
      "Iteration:  13%|█▎        | 8/62 [00:00<00:03, 15.25it/s]\r",
      "Iteration: 100%|██████████| 7/7 [00:00<00:00, 15.51it/s]\n"
     ]
    },
    {
     "name": "stdout",
     "output_type": "stream",
     "text": [
      "{'Train':  best_epoch_indx:91\n",
      " auc:0.973461637169011 \n",
      " apur:0.9654228735889412 \n",
      " f1:0.8929632673705507 \n",
      " precision:0.8869630746043707 \n",
      " recall:0.8990451941438574 \n",
      ", 'Validation':  best_epoch_indx:91\n",
      " auc:0.8841006475599833 \n",
      " apur:0.8633977780561548 \n",
      " f1:0.7766323024054983 \n",
      " precision:0.7766323024054983 \n",
      " recall:0.7766323024054983 \n",
      ", 'Test':  best_epoch_indx:91\n",
      " auc:0.8939929685886454 \n",
      " apur:0.8743579639105524 \n",
      " f1:0.7840147840147841 \n",
      " precision:0.7904052165812762 \n",
      " recall:0.7777268560953254 \n",
      "}\n",
      "=====Epoch 92\n",
      "Training...\n"
     ]
    },
    {
     "name": "stderr",
     "output_type": "stream",
     "text": [
      "Iteration: 100%|██████████| 62/62 [00:04<00:00, 15.27it/s]\n",
      "Iteration: 100%|██████████| 18/18 [00:01<00:00, 15.89it/s]\n",
      "Iteration: 100%|██████████| 62/62 [00:04<00:00, 14.65it/s]\n",
      "Iteration: 100%|██████████| 18/18 [00:01<00:00, 15.86it/s]\n",
      "Iteration: 100%|██████████| 7/7 [00:00<00:00, 15.50it/s]s]\n",
      "Iteration: 100%|██████████| 62/62 [00:08<00:00,  7.06it/s]\n",
      "Iteration:  69%|██████▉   | 43/62 [00:06<00:02,  6.81it/s]"
     ]
    },
    {
     "name": "stdout",
     "output_type": "stream",
     "text": [
      "Evaluating...\n",
      "{'Train':  best_epoch_indx:90\n",
      " auc:0.9786250748031002 \n",
      " apur:0.9720534911599202 \n",
      " f1:0.9061326658322904 \n",
      " precision:0.8910769230769231 \n",
      " recall:0.9217059197963081 \n",
      ", 'Validation':  best_epoch_indx:90\n",
      " auc:0.8926762855743383 \n",
      " apur:0.8697016577669511 \n",
      " f1:0.7817142857142856 \n",
      " precision:0.7799315849486887 \n",
      " recall:0.7835051546391752 \n",
      ", 'Test':  best_epoch_indx:90\n",
      " auc:0.8900912578272797 \n",
      " apur:0.8695934312919705 \n",
      " f1:0.7820949784139968 \n",
      " precision:0.775574583145561 \n",
      " recall:0.7887259395050412 \n",
      "}\n",
      "=====Epoch 91\n",
      "Training...\n"
     ]
    },
    {
     "name": "stderr",
     "output_type": "stream",
     "text": [
      "Iteration: 100%|██████████| 7/7 [00:00<00:00, 14.40it/s]s]\n",
      "Iteration:  85%|████████▌ | 53/62 [00:07<00:01,  6.79it/s]"
     ]
    },
    {
     "name": "stdout",
     "output_type": "stream",
     "text": [
      "{'Train':  best_epoch_indx:89\n",
      " auc:0.9747474364341053 \n",
      " apur:0.9669490758673578 \n",
      " f1:0.8974152358519804 \n",
      " precision:0.8744865909640009 \n",
      " recall:0.9215786123488224 \n",
      ", 'Validation':  best_epoch_indx:89\n",
      " auc:0.8897624584909809 \n",
      " apur:0.8670953177291376 \n",
      " f1:0.7804604154969117 \n",
      " precision:0.7654185022026432 \n",
      " recall:0.7961053837342497 \n",
      ", 'Test':  best_epoch_indx:89\n",
      " auc:0.8927930503377552 \n",
      " apur:0.866098517938448 \n",
      " f1:0.7842175657601427 \n",
      " precision:0.7634548611111112 \n",
      " recall:0.806141154903758 \n",
      "}\n",
      "=====Epoch 90\n",
      "Training...\n"
     ]
    },
    {
     "name": "stderr",
     "output_type": "stream",
     "text": [
      "Iteration: 100%|██████████| 62/62 [00:08<00:00,  7.24it/s]\n",
      "Iteration:  74%|███████▍  | 46/62 [00:03<00:01, 15.37it/s]"
     ]
    },
    {
     "name": "stdout",
     "output_type": "stream",
     "text": [
      "Evaluating...\n",
      "Evaluating...\n"
     ]
    },
    {
     "name": "stderr",
     "output_type": "stream",
     "text": [
      "Iteration: 100%|██████████| 62/62 [00:09<00:00,  6.83it/s]\n",
      "Iteration: 100%|██████████| 62/62 [00:04<00:00, 15.03it/s]\n",
      "Iteration: 100%|██████████| 18/18 [00:01<00:00, 15.94it/s]\n",
      "Iteration: 100%|██████████| 7/7 [00:00<00:00, 15.64it/s]s]\n",
      "Iteration:  77%|███████▋  | 48/62 [00:03<00:00, 15.31it/s]"
     ]
    },
    {
     "name": "stdout",
     "output_type": "stream",
     "text": [
      "{'Train':  best_epoch_indx:93\n",
      " auc:0.9760557665932467 \n",
      " apur:0.9680406553869219 \n",
      " f1:0.8996264009962639 \n",
      " precision:0.8804387568555758 \n",
      " recall:0.9196690006365372 \n",
      ", 'Validation':  best_epoch_indx:93\n",
      " auc:0.8845875710136879 \n",
      " apur:0.8528496507263581 \n",
      " f1:0.7762039660056658 \n",
      " precision:0.7679372197309418 \n",
      " recall:0.7846506300114547 \n",
      ", 'Test':  best_epoch_indx:93\n",
      " auc:0.8929576856249635 \n",
      " apur:0.8682634268717901 \n",
      " f1:0.783978397839784 \n",
      " precision:0.7701149425287356 \n",
      " recall:0.7983501374885427 \n",
      "}\n",
      "=====Epoch 94\n",
      "Training...\n"
     ]
    },
    {
     "name": "stderr",
     "output_type": "stream",
     "text": [
      "Iteration: 100%|██████████| 62/62 [00:04<00:00, 15.28it/s]\n",
      "Iteration: 100%|██████████| 62/62 [00:04<00:00, 15.18it/s]\n",
      "Iteration: 100%|██████████| 18/18 [00:01<00:00, 15.99it/s]\n",
      "Iteration: 100%|██████████| 62/62 [00:08<00:00,  7.30it/s]\n",
      "Iteration:   0%|          | 0/62 [00:00<?, ?it/s]7.12it/s]"
     ]
    },
    {
     "name": "stdout",
     "output_type": "stream",
     "text": [
      "Evaluating...\n"
     ]
    },
    {
     "name": "stderr",
     "output_type": "stream",
     "text": [
      "Iteration: 100%|██████████| 18/18 [00:01<00:00, 15.84it/s]\n",
      "Iteration: 100%|██████████| 7/7 [00:00<00:00, 15.58it/s]s]\n",
      "Iteration:   0%|          | 0/62 [00:00<?, ?it/s]7.09it/s]"
     ]
    },
    {
     "name": "stdout",
     "output_type": "stream",
     "text": [
      "{'Train':  best_epoch_indx:92\n",
      " auc:0.9731933209439806 \n",
      " apur:0.9647217100311792 \n",
      " f1:0.8924765490396274 \n",
      " precision:0.8947031729785057 \n",
      " recall:0.8902609802673457 \n",
      ", 'Validation':  best_epoch_indx:92\n",
      " auc:0.8878919010648678 \n",
      " apur:0.8655632724817525 \n",
      " f1:0.781702374059062 \n",
      " precision:0.7903981264637002 \n",
      " recall:0.7731958762886598 \n",
      ", 'Test':  best_epoch_indx:92\n",
      " auc:0.8947384507000078 \n",
      " apur:0.8737278420274774 \n",
      " f1:0.7870456663560111 \n",
      " precision:0.8004739336492891 \n",
      " recall:0.7740604949587534 \n",
      "}\n",
      "=====Epoch 93\n",
      "Training...\n",
      "{'Train':  best_epoch_indx:93\n",
      " auc:0.9766561251971687 \n",
      " apur:0.9694012981400346 \n",
      " f1:0.900997506234414 \n",
      " precision:0.8828344532681734 \n",
      " recall:0.9199236155315086 \n",
      ", 'Validation':  best_epoch_indx:93\n",
      " auc:0.8899572278724628 \n",
      " apur:0.8603011063508359 \n",
      " f1:0.7811602527283171 \n",
      " precision:0.783410138248848 \n",
      " recall:0.7789232531500573 \n",
      ", 'Test':  best_epoch_indx:93\n",
      " auc:0.8904198409535256 \n",
      " apur:0.8646929342510196 \n",
      " f1:0.7800546448087431 \n",
      " precision:0.7751131221719457 \n",
      " recall:0.7850595783684693 \n",
      "}\n",
      "=====Epoch 94\n",
      "Training...\n"
     ]
    },
    {
     "name": "stderr",
     "output_type": "stream",
     "text": [
      "Iteration: 100%|██████████| 7/7 [00:00<00:00, 15.49it/s]]]\n",
      "Iteration: 100%|██████████| 62/62 [00:08<00:00,  7.03it/s]\n",
      "Iteration:  18%|█▊        | 11/62 [00:01<00:07,  7.25it/s]"
     ]
    },
    {
     "name": "stdout",
     "output_type": "stream",
     "text": [
      "Evaluating...\n"
     ]
    },
    {
     "name": "stderr",
     "output_type": "stream",
     "text": [
      "Iteration: 100%|██████████| 62/62 [00:04<00:00, 15.25it/s]\n",
      "Iteration: 100%|██████████| 18/18 [00:01<00:00, 15.82it/s]\n",
      "Iteration: 100%|██████████| 7/7 [00:00<00:00, 15.35it/s]s]\n",
      "Iteration:  97%|█████████▋| 60/62 [00:04<00:00, 12.81it/s]"
     ]
    },
    {
     "name": "stdout",
     "output_type": "stream",
     "text": [
      "{'Train':  best_epoch_indx:91\n",
      " auc:0.9774325783557448 \n",
      " apur:0.9708476664076062 \n",
      " f1:0.9032706149766384 \n",
      " precision:0.896029061756232 \n",
      " recall:0.9106301718650541 \n",
      ", 'Validation':  best_epoch_indx:91\n",
      " auc:0.88966507380024 \n",
      " apur:0.8652362259116992 \n",
      " f1:0.7820586543990801 \n",
      " precision:0.7852193995381063 \n",
      " recall:0.7789232531500573 \n",
      ", 'Test':  best_epoch_indx:91\n",
      " auc:0.8904721674428365 \n",
      " apur:0.8673397871395513 \n",
      " f1:0.7815880322209436 \n",
      " precision:0.7850208044382802 \n",
      " recall:0.7781851512373968 \n",
      "}\n",
      "=====Epoch 92\n",
      "Training...\n"
     ]
    },
    {
     "name": "stderr",
     "output_type": "stream",
     "text": [
      "Iteration: 100%|██████████| 62/62 [00:04<00:00, 14.65it/s]\n",
      "Iteration: 100%|██████████| 62/62 [00:08<00:00,  6.98it/s]\n",
      "Iteration:  11%|█         | 2/18 [00:00<00:01, 15.50it/s]]"
     ]
    },
    {
     "name": "stdout",
     "output_type": "stream",
     "text": [
      "Evaluating...\n"
     ]
    },
    {
     "name": "stderr",
     "output_type": "stream",
     "text": [
      "Iteration: 100%|██████████| 18/18 [00:01<00:00, 15.94it/s]\n",
      "Iteration: 100%|██████████| 7/7 [00:00<00:00, 15.55it/s]s]\n",
      "Iteration:  89%|████████▊ | 55/62 [00:07<00:00,  7.23it/s]"
     ]
    },
    {
     "name": "stdout",
     "output_type": "stream",
     "text": [
      "{'Train':  best_epoch_indx:90\n",
      " auc:0.9740143587080855 \n",
      " apur:0.96607338723924 \n",
      " f1:0.8960586845704339 \n",
      " precision:0.8755922731138379 \n",
      " recall:0.9175047740292808 \n",
      ", 'Validation':  best_epoch_indx:90\n",
      " auc:0.8898771988691805 \n",
      " apur:0.8678204418542277 \n",
      " f1:0.7779030439684329 \n",
      " precision:0.7658157602663707 \n",
      " recall:0.7903780068728522 \n",
      ", 'Test':  best_epoch_indx:90\n",
      " auc:0.8922037034693051 \n",
      " apur:0.8651380127985518 \n",
      " f1:0.7823949955317248 \n",
      " precision:0.7632955536181343 \n",
      " recall:0.8024747937671861 \n",
      "}\n",
      "=====Epoch 91\n",
      "Training...\n"
     ]
    },
    {
     "name": "stderr",
     "output_type": "stream",
     "text": [
      "Iteration: 100%|██████████| 62/62 [00:08<00:00,  7.10it/s]\n",
      "Iteration:  97%|█████████▋| 60/62 [00:08<00:00,  7.13it/s]"
     ]
    },
    {
     "name": "stdout",
     "output_type": "stream",
     "text": [
      "Evaluating...\n"
     ]
    },
    {
     "name": "stderr",
     "output_type": "stream",
     "text": [
      "\r",
      "Iteration:  15%|█▍        | 9/62 [00:01<00:07,  7.17it/s]\r",
      "Iteration:  71%|███████   | 44/62 [00:02<00:01, 15.18it/s]\r",
      "Iteration:  39%|███▊      | 24/62 [00:03<00:05,  7.23it/s]\r",
      "Iteration:   3%|▎         | 2/62 [00:00<00:04, 14.98it/s]\r",
      "Iteration:  98%|█████████▊| 61/62 [00:08<00:00,  7.16it/s]\r",
      "Iteration:  16%|█▌        | 10/62 [00:01<00:07,  7.22it/s]\r",
      "Iteration:  74%|███████▍  | 46/62 [00:03<00:01, 15.21it/s]\r",
      "Iteration:   6%|▋         | 4/62 [00:00<00:03, 15.04it/s]\r",
      "Iteration: 100%|██████████| 62/62 [00:08<00:00,  7.41it/s]\r",
      "Iteration: 100%|██████████| 62/62 [00:08<00:00,  7.04it/s]\n",
      "\r",
      "Iteration:   0%|          | 0/62 [00:00<?, ?it/s]\r",
      "Iteration:  40%|████      | 25/62 [00:03<00:05,  7.25it/s]"
     ]
    },
    {
     "name": "stdout",
     "output_type": "stream",
     "text": [
      "Evaluating...\n"
     ]
    },
    {
     "name": "stderr",
     "output_type": "stream",
     "text": [
      "Iteration: 100%|██████████| 62/62 [00:04<00:00, 15.20it/s]\n",
      "Iteration: 100%|██████████| 18/18 [00:01<00:00, 15.92it/s]\n",
      "Iteration: 100%|██████████| 7/7 [00:00<00:00, 15.54it/s]s]\n",
      "Iteration:   2%|▏         | 1/62 [00:00<00:08,  6.88it/s]]"
     ]
    },
    {
     "name": "stdout",
     "output_type": "stream",
     "text": [
      "{'Train':  best_epoch_indx:94\n",
      " auc:0.9749086179900586 \n",
      " apur:0.9668124955428886 \n",
      " f1:0.8963422043990764 \n",
      " precision:0.8573753341857492 \n",
      " recall:0.9390197326543602 \n",
      ", 'Validation':  best_epoch_indx:94\n",
      " auc:0.8857002634207674 \n",
      " apur:0.8529930132266736 \n",
      " f1:0.7860310421286032 \n",
      " precision:0.761546723952739 \n",
      " recall:0.8121420389461627 \n",
      ", 'Test':  best_epoch_indx:94\n",
      " auc:0.892524388399732 \n",
      " apur:0.8666312904859075 \n",
      " f1:0.7847935328818003 \n",
      " precision:0.7498956158663883 \n",
      " recall:0.8230980751604033 \n",
      "}\n",
      "=====Epoch 95\n",
      "Training...\n"
     ]
    },
    {
     "name": "stderr",
     "output_type": "stream",
     "text": [
      "Iteration: 100%|██████████| 62/62 [00:04<00:00, 15.24it/s]\n",
      "Iteration: 100%|██████████| 62/62 [00:04<00:00, 15.20it/s]\n",
      "Iteration: 100%|██████████| 18/18 [00:01<00:00, 16.00it/s]\n",
      "Iteration: 100%|██████████| 62/62 [00:08<00:00,  7.05it/s]\n",
      "Iteration:  79%|███████▉  | 49/62 [00:06<00:01,  7.21it/s]"
     ]
    },
    {
     "name": "stdout",
     "output_type": "stream",
     "text": [
      "Evaluating...\n"
     ]
    },
    {
     "name": "stderr",
     "output_type": "stream",
     "text": [
      "Iteration: 100%|██████████| 18/18 [00:01<00:00, 15.82it/s]\n",
      "Iteration: 100%|██████████| 7/7 [00:00<00:00, 15.45it/s]s]\n",
      "Iteration:  84%|████████▍ | 52/62 [00:07<00:01,  7.16it/s]"
     ]
    },
    {
     "name": "stdout",
     "output_type": "stream",
     "text": [
      "{'Train':  best_epoch_indx:93\n",
      " auc:0.9715877048872841 \n",
      " apur:0.9623161882088888 \n",
      " f1:0.8934707903780068 \n",
      " precision:0.8773006134969326 \n",
      " recall:0.9102482495225971 \n",
      ", 'Validation':  best_epoch_indx:93\n",
      " auc:0.8899311943412744 \n",
      " apur:0.8676548128756727 \n",
      " f1:0.7843803056027164 \n",
      " precision:0.7751677852348994 \n",
      " recall:0.7938144329896907 \n",
      ", 'Test':  best_epoch_indx:93\n",
      " auc:0.8944714849040452 \n",
      " apur:0.874297759978446 \n",
      " f1:0.7850509626274065 \n",
      " precision:0.7760859829825347 \n",
      " recall:0.7942254812098992 \n",
      "}\n",
      "=====Epoch 94\n",
      "Training...\n"
     ]
    },
    {
     "name": "stderr",
     "output_type": "stream",
     "text": [
      "\r",
      "Iteration:   2%|▏         | 1/62 [00:00<00:08,  7.03it/s]\r",
      "Iteration:  13%|█▎        | 8/62 [00:00<00:03, 15.15it/s]\r",
      "Iteration:  31%|███       | 19/62 [00:02<00:06,  6.81it/s]\r",
      "Iteration:  86%|████████▌ | 6/7 [00:00<00:00, 15.13it/s]\r",
      "Iteration:  85%|████████▌ | 53/62 [00:07<00:01,  7.19it/s]\r",
      "Iteration: 100%|██████████| 7/7 [00:00<00:00, 15.45it/s]\n",
      "\r",
      "Iteration:   3%|▎         | 2/62 [00:00<00:08,  7.13it/s]\r",
      "Iteration:   0%|          | 0/62 [00:00<?, ?it/s]\r",
      "Iteration:  16%|█▌        | 10/62 [00:00<00:03, 15.10it/s]\r",
      "Iteration:  32%|███▏      | 20/62 [00:03<00:06,  6.96it/s]"
     ]
    },
    {
     "name": "stdout",
     "output_type": "stream",
     "text": [
      "{'Train':  best_epoch_indx:94\n",
      " auc:0.9758181528034734 \n",
      " apur:0.968380083528785 \n",
      " f1:0.901591263650546 \n",
      " precision:0.8842105263157894 \n",
      " recall:0.9196690006365372 \n",
      ", 'Validation':  best_epoch_indx:94\n",
      " auc:0.8927939185671144 \n",
      " apur:0.8643928374043635 \n",
      " f1:0.7789834380354084 \n",
      " precision:0.7767653758542141 \n",
      " recall:0.7812142038946163 \n",
      ", 'Test':  best_epoch_indx:94\n",
      " auc:0.8908896359231769 \n",
      " apur:0.8682766831319926 \n",
      " f1:0.7848332571950664 \n",
      " precision:0.7823315118397086 \n",
      " recall:0.7873510540788268 \n",
      "}\n",
      "=====Epoch 95\n",
      "Training...\n"
     ]
    },
    {
     "name": "stderr",
     "output_type": "stream",
     "text": [
      "Iteration: 100%|██████████| 62/62 [00:08<00:00,  7.25it/s]\n",
      "Iteration:   3%|▎         | 2/62 [00:00<00:03, 15.06it/s]]"
     ]
    },
    {
     "name": "stdout",
     "output_type": "stream",
     "text": [
      "Evaluating...\n"
     ]
    },
    {
     "name": "stderr",
     "output_type": "stream",
     "text": [
      "Iteration: 100%|██████████| 62/62 [00:04<00:00, 15.25it/s]\n",
      "Iteration: 100%|██████████| 18/18 [00:01<00:00, 15.80it/s]\n",
      "Iteration: 100%|██████████| 62/62 [00:04<00:00, 15.24it/s]\n",
      "Iteration: 100%|██████████| 7/7 [00:00<00:00, 15.38it/s]s]\n",
      "Iteration:   0%|          | 0/18 [00:00<?, ?it/s]7.23it/s]"
     ]
    },
    {
     "name": "stdout",
     "output_type": "stream",
     "text": [
      "{'Train':  best_epoch_indx:92\n",
      " auc:0.9764290064463017 \n",
      " apur:0.9694944918142882 \n",
      " f1:0.9007526470213036 \n",
      " precision:0.9025949124376837 \n",
      " recall:0.8989178866963717 \n",
      ", 'Validation':  best_epoch_indx:92\n",
      " auc:0.8951976812801554 \n",
      " apur:0.8730547213297075 \n",
      " f1:0.7764842840512223 \n",
      " precision:0.7893491124260354 \n",
      " recall:0.7640320733104238 \n",
      ", 'Test':  best_epoch_indx:92\n",
      " auc:0.8893223404222489 \n",
      " apur:0.8671219076096826 \n",
      " f1:0.7779842080817464 \n",
      " precision:0.7886064030131826 \n",
      " recall:0.7676443629697525 \n",
      "}\n",
      "=====Epoch 93\n",
      "Training...\n"
     ]
    },
    {
     "name": "stderr",
     "output_type": "stream",
     "text": [
      "Iteration: 100%|██████████| 62/62 [00:08<00:00,  7.03it/s]\n",
      "Iteration:  71%|███████   | 44/62 [00:06<00:02,  7.22it/s]"
     ]
    },
    {
     "name": "stdout",
     "output_type": "stream",
     "text": [
      "Evaluating...\n"
     ]
    },
    {
     "name": "stderr",
     "output_type": "stream",
     "text": [
      "Iteration: 100%|██████████| 18/18 [00:01<00:00, 15.93it/s]\n",
      "Iteration: 100%|██████████| 7/7 [00:00<00:00, 15.52it/s]s]\n",
      "Iteration:   0%|          | 0/62 [00:00<?, ?it/s]7.27it/s]"
     ]
    },
    {
     "name": "stdout",
     "output_type": "stream",
     "text": [
      "{'Train':  best_epoch_indx:91\n",
      " auc:0.9731737722840135 \n",
      " apur:0.9654207777803591 \n",
      " f1:0.8909555069292487 \n",
      " precision:0.8525066883796674 \n",
      " recall:0.9330362826225335 \n",
      ", 'Validation':  best_epoch_indx:91\n",
      " auc:0.8884212495323607 \n",
      " apur:0.866981440251026 \n",
      " f1:0.7746863066012003 \n",
      " precision:0.7395833333333334 \n",
      " recall:0.8132875143184422 \n",
      ", 'Test':  best_epoch_indx:91\n",
      " auc:0.8913837426088524 \n",
      " apur:0.864898652048154 \n",
      " f1:0.781399391568883 \n",
      " precision:0.7429752066115702 \n",
      " recall:0.8240146654445463 \n",
      "}\n",
      "=====Epoch 92\n",
      "Training...\n"
     ]
    },
    {
     "name": "stderr",
     "output_type": "stream",
     "text": [
      "Iteration: 100%|██████████| 62/62 [00:08<00:00,  7.21it/s]\n",
      "Iteration:  65%|██████▍   | 40/62 [00:02<00:01, 15.15it/s]"
     ]
    },
    {
     "name": "stdout",
     "output_type": "stream",
     "text": [
      "Evaluating...\n"
     ]
    },
    {
     "name": "stderr",
     "output_type": "stream",
     "text": [
      "\r",
      "Iteration:   3%|▎         | 2/62 [00:00<00:04, 14.97it/s]\r",
      "Iteration:  37%|███▋      | 23/62 [00:03<00:05,  7.22it/s]\r",
      "Iteration:  98%|█████████▊| 61/62 [00:08<00:00,  7.15it/s]\r",
      "Iteration:  16%|█▌        | 10/62 [00:01<00:07,  7.15it/s]\r",
      "Iteration:  68%|██████▊   | 42/62 [00:02<00:01, 15.21it/s]\r",
      "Iteration:   6%|▋         | 4/62 [00:00<00:03, 14.97it/s]\r",
      "Iteration: 100%|██████████| 62/62 [00:08<00:00,  7.48it/s]\r",
      "Iteration: 100%|██████████| 62/62 [00:08<00:00,  7.21it/s]\n",
      "\r",
      "Iteration:   0%|          | 0/62 [00:00<?, ?it/s]\r",
      "Iteration:  39%|███▊      | 24/62 [00:03<00:05,  7.26it/s]\r",
      "Iteration:  18%|█▊        | 11/62 [00:01<00:07,  7.17it/s]\r",
      "Iteration:  71%|███████   | 44/62 [00:02<00:01, 15.26it/s]"
     ]
    },
    {
     "name": "stdout",
     "output_type": "stream",
     "text": [
      "Evaluating...\n"
     ]
    },
    {
     "name": "stderr",
     "output_type": "stream",
     "text": [
      "Iteration: 100%|██████████| 62/62 [00:04<00:00, 15.32it/s]\n",
      "Iteration: 100%|██████████| 18/18 [00:01<00:00, 15.91it/s]\n",
      "Iteration: 100%|██████████| 7/7 [00:00<00:00, 15.63it/s]s]\n",
      "Iteration:  55%|█████▍    | 34/62 [00:04<00:03,  7.16it/s]"
     ]
    },
    {
     "name": "stdout",
     "output_type": "stream",
     "text": [
      "{'Train':  best_epoch_indx:95\n",
      " auc:0.977824802966148 \n",
      " apur:0.9705167595250268 \n",
      " f1:0.904853884977257 \n",
      " precision:0.8861361972174762 \n",
      " recall:0.9243793761935073 \n",
      ", 'Validation':  best_epoch_indx:95\n",
      " auc:0.8861679027772956 \n",
      " apur:0.855316673617728 \n",
      " f1:0.7811256395679363 \n",
      " precision:0.7753950338600452 \n",
      " recall:0.7869415807560137 \n",
      ", 'Test':  best_epoch_indx:95\n",
      " auc:0.8939465692673758 \n",
      " apur:0.8700355272030856 \n",
      " f1:0.7871431782423016 \n",
      " precision:0.7723864137626819 \n",
      " recall:0.8024747937671861 \n",
      "}\n",
      "=====Epoch 96\n",
      "Training...\n"
     ]
    },
    {
     "name": "stderr",
     "output_type": "stream",
     "text": [
      "Iteration: 100%|██████████| 62/62 [00:04<00:00, 15.25it/s]\n",
      "Iteration: 100%|██████████| 62/62 [00:04<00:00, 15.22it/s]\n",
      "Iteration: 100%|██████████| 18/18 [00:01<00:00, 15.98it/s]\n",
      "Iteration: 100%|██████████| 62/62 [00:08<00:00,  7.15it/s]\n",
      "Iteration: 100%|██████████| 18/18 [00:01<00:00, 15.83it/s]\n",
      "Iteration:   0%|          | 0/7 [00:00<?, ?it/s] 7.22it/s]"
     ]
    },
    {
     "name": "stdout",
     "output_type": "stream",
     "text": [
      "Evaluating...\n"
     ]
    },
    {
     "name": "stderr",
     "output_type": "stream",
     "text": [
      "\r",
      "Iteration:   3%|▎         | 2/62 [00:00<00:03, 15.14it/s]\r",
      "Iteration:  29%|██▉       | 18/62 [00:02<00:06,  7.29it/s]\r",
      "Iteration:  86%|████████▌ | 6/7 [00:00<00:00, 15.32it/s]\r",
      "Iteration:  82%|████████▏ | 51/62 [00:07<00:01,  7.18it/s]\r",
      "Iteration:  29%|██▊       | 2/7 [00:00<00:00, 15.33it/s]\r",
      "Iteration: 100%|██████████| 7/7 [00:00<00:00, 15.51it/s]\n",
      "\r",
      "Iteration:   6%|▋         | 4/62 [00:00<00:03, 15.29it/s]\r",
      "Iteration:   0%|          | 0/62 [00:00<?, ?it/s]\r",
      "Iteration:  31%|███       | 19/62 [00:02<00:05,  7.26it/s]"
     ]
    },
    {
     "name": "stdout",
     "output_type": "stream",
     "text": [
      "{'Train':  best_epoch_indx:94\n",
      " auc:0.9728303220378243 \n",
      " apur:0.9646612726252299 \n",
      " f1:0.8947401734286979 \n",
      " precision:0.8897280966767371 \n",
      " recall:0.8998090388287715 \n",
      ", 'Validation':  best_epoch_indx:94\n",
      " auc:0.8863077124818247 \n",
      " apur:0.8685617313823025 \n",
      " f1:0.7873925501432665 \n",
      " precision:0.7878440366972477 \n",
      " recall:0.7869415807560137 \n",
      ", 'Test':  best_epoch_indx:94\n",
      " auc:0.8947548128707923 \n",
      " apur:0.8751877690016459 \n",
      " f1:0.7838402600417924 \n",
      " precision:0.7943529411764706 \n",
      " recall:0.773602199816682 \n",
      "}\n",
      "=====Epoch 95\n",
      "Training...\n"
     ]
    },
    {
     "name": "stderr",
     "output_type": "stream",
     "text": [
      "Iteration: 100%|██████████| 7/7 [00:00<00:00, 15.52it/s]]]\n",
      "Iteration:   2%|▏         | 1/62 [00:00<00:08,  7.08it/s]]"
     ]
    },
    {
     "name": "stdout",
     "output_type": "stream",
     "text": [
      "{'Train':  best_epoch_indx:95\n",
      " auc:0.9764664621093616 \n",
      " apur:0.9690651456961629 \n",
      " f1:0.9005434095791734 \n",
      " precision:0.893990716346757 \n",
      " recall:0.9071928707829408 \n",
      ", 'Validation':  best_epoch_indx:95\n",
      " auc:0.8920418387772341 \n",
      " apur:0.8626712120142175 \n",
      " f1:0.7753201396973224 \n",
      " precision:0.7881656804733728 \n",
      " recall:0.7628865979381443 \n",
      ", 'Test':  best_epoch_indx:95\n",
      " auc:0.8902481925203886 \n",
      " apur:0.8695228150306005 \n",
      " f1:0.7811851510260547 \n",
      " precision:0.7860788863109048 \n",
      " recall:0.7763519706691109 \n",
      "}\n",
      "=====Epoch 96\n",
      "Training...\n"
     ]
    },
    {
     "name": "stderr",
     "output_type": "stream",
     "text": [
      "Iteration: 100%|██████████| 62/62 [00:08<00:00,  7.22it/s]\n",
      "Iteration:  45%|████▌     | 28/62 [00:01<00:02, 15.18it/s]"
     ]
    },
    {
     "name": "stdout",
     "output_type": "stream",
     "text": [
      "Evaluating...\n"
     ]
    },
    {
     "name": "stderr",
     "output_type": "stream",
     "text": [
      "Iteration: 100%|██████████| 62/62 [00:04<00:00, 15.20it/s]\n",
      "Iteration: 100%|██████████| 18/18 [00:01<00:00, 15.89it/s]\n",
      "Iteration: 100%|██████████| 62/62 [00:04<00:00, 15.15it/s]\n",
      "Iteration: 100%|██████████| 7/7 [00:00<00:00, 15.52it/s]s]\n",
      "Iteration:  65%|██████▍   | 40/62 [00:05<00:03,  7.20it/s]"
     ]
    },
    {
     "name": "stdout",
     "output_type": "stream",
     "text": [
      "{'Train':  best_epoch_indx:93\n",
      " auc:0.9749733317159368 \n",
      " apur:0.9674047830142087 \n",
      " f1:0.8968351324828264 \n",
      " precision:0.8653095040833235 \n",
      " recall:0.9307447485677912 \n",
      ", 'Validation':  best_epoch_indx:93\n",
      " auc:0.8884414978343959 \n",
      " apur:0.8648539733631332 \n",
      " f1:0.779379157427938 \n",
      " precision:0.7551020408163265 \n",
      " recall:0.8052691867124857 \n",
      ", 'Test':  best_epoch_indx:93\n",
      " auc:0.8886830418452782 \n",
      " apur:0.8663602988183071 \n",
      " f1:0.7842790903069111 \n",
      " precision:0.7567106945036216 \n",
      " recall:0.8139321723189734 \n",
      "}\n",
      "=====Epoch 94\n",
      "Training...\n",
      "Evaluating...\n"
     ]
    },
    {
     "name": "stderr",
     "output_type": "stream",
     "text": [
      "Iteration: 100%|██████████| 62/62 [00:08<00:00,  7.33it/s]\n",
      "Iteration: 100%|██████████| 18/18 [00:01<00:00, 15.81it/s]\n",
      "Iteration: 100%|██████████| 7/7 [00:00<00:00, 15.48it/s]s]\n"
     ]
    },
    {
     "name": "stdout",
     "output_type": "stream",
     "text": [
      "{'Train':  best_epoch_indx:92\n",
      " auc:0.9729263087568827 \n",
      " apur:0.9650230437623579 \n",
      " f1:0.8921297150944557 \n",
      " precision:0.8633873272987137 \n",
      " recall:0.9228516868236792 \n",
      ", 'Validation':  best_epoch_indx:92\n",
      " auc:0.8920775143570104 \n",
      " apur:0.8707919202524839 \n",
      " f1:0.7839195979899498 \n",
      " precision:0.7647058823529411 \n",
      " recall:0.8041237113402062 \n",
      ", 'Test':  best_epoch_indx:92\n",
      " auc:0.8926860016071975 \n",
      " apur:0.8657511377246465 \n",
      " f1:0.7847314691522415 \n",
      " precision:0.7607573149741824 \n",
      " recall:0.8102658111824015 \n",
      "}\n",
      "=====Epoch 93\n",
      "Training...\n"
     ]
    },
    {
     "name": "stderr",
     "output_type": "stream",
     "text": [
      "Iteration: 100%|██████████| 62/62 [00:08<00:00,  7.21it/s]\n",
      "Iteration:  35%|███▌      | 22/62 [00:03<00:05,  7.34it/s]"
     ]
    },
    {
     "name": "stdout",
     "output_type": "stream",
     "text": [
      "Evaluating...\n"
     ]
    },
    {
     "name": "stderr",
     "output_type": "stream",
     "text": [
      "\r",
      "Iteration:   3%|▎         | 2/62 [00:00<00:03, 15.12it/s]\r",
      "Iteration:  98%|█████████▊| 61/62 [00:08<00:00,  7.20it/s]\r",
      "Iteration:  16%|█▌        | 10/62 [00:01<00:07,  7.20it/s]\r",
      "Iteration:  68%|██████▊   | 42/62 [00:02<00:01, 15.27it/s]\r",
      "Iteration:  37%|███▋      | 23/62 [00:03<00:05,  7.28it/s]\r",
      "Iteration:   6%|▋         | 4/62 [00:00<00:03, 15.17it/s]\r",
      "Iteration: 100%|██████████| 62/62 [00:08<00:00,  7.51it/s]\r",
      "Iteration: 100%|██████████| 62/62 [00:08<00:00,  7.24it/s]\n",
      "\r",
      "Iteration:   0%|          | 0/62 [00:00<?, ?it/s]"
     ]
    },
    {
     "name": "stdout",
     "output_type": "stream",
     "text": [
      "Evaluating...\n"
     ]
    },
    {
     "name": "stderr",
     "output_type": "stream",
     "text": [
      "Iteration: 100%|██████████| 62/62 [00:04<00:00, 14.70it/s]\n",
      "Iteration: 100%|██████████| 18/18 [00:01<00:00, 15.95it/s]\n",
      "Iteration: 100%|██████████| 62/62 [00:04<00:00, 15.23it/s]\n",
      "Iteration: 100%|██████████| 62/62 [00:04<00:00, 14.55it/s]\n",
      "Iteration: 100%|██████████| 18/18 [00:01<00:00, 15.96it/s]\n",
      "Iteration: 100%|██████████| 62/62 [00:08<00:00,  7.28it/s]\n",
      "Iteration:  78%|███████▊  | 14/18 [00:00<00:00, 15.36it/s]"
     ]
    },
    {
     "name": "stdout",
     "output_type": "stream",
     "text": [
      "Evaluating...\n"
     ]
    },
    {
     "name": "stderr",
     "output_type": "stream",
     "text": [
      "\r",
      "Iteration:  57%|█████▋    | 4/7 [00:00<00:00, 15.38it/s]\r",
      "Iteration:   3%|▎         | 2/62 [00:00<00:03, 15.15it/s]\r",
      "Iteration:  81%|████████  | 50/62 [00:06<00:01,  7.22it/s]\r",
      "Iteration:  89%|████████▉ | 16/18 [00:01<00:00, 15.31it/s]\r",
      "Iteration: 100%|██████████| 18/18 [00:01<00:00, 15.77it/s]\n",
      "\r",
      "Iteration:  86%|████████▌ | 6/7 [00:00<00:00, 15.30it/s]\r",
      "Iteration:   6%|▋         | 4/62 [00:00<00:03, 15.13it/s]\r",
      "Iteration:  82%|████████▏ | 51/62 [00:07<00:01,  7.26it/s]\r",
      "Iteration: 100%|██████████| 7/7 [00:00<00:00, 15.48it/s]\n"
     ]
    },
    {
     "name": "stdout",
     "output_type": "stream",
     "text": [
      "{'Train':  best_epoch_indx:95\n",
      " auc:0.9722755938285065 \n",
      " apur:0.9641325405886125 \n",
      " f1:0.8934870676223122 \n",
      " precision:0.8752136752136752 \n",
      " recall:0.9125397835773392 \n",
      ", 'Validation':  best_epoch_indx:95\n",
      " auc:0.8851294541443454 \n",
      " apur:0.8627258096307129 \n",
      " f1:0.782902137232846 \n",
      " precision:0.7690607734806629 \n",
      " recall:0.7972508591065293 \n",
      ", 'Test':  best_epoch_indx:95\n",
      " auc:0.8914325204010028 \n",
      " apur:0.8694433367357863 \n",
      " f1:0.7817351598173515 \n",
      " precision:0.7788898999090081 \n",
      " recall:0.7846012832263978 \n",
      "}\n",
      "=====Epoch 96\n",
      "Training...\n"
     ]
    },
    {
     "name": "stderr",
     "output_type": "stream",
     "text": [
      "Iteration: 100%|██████████| 62/62 [00:08<00:00,  7.08it/s]\n",
      "Iteration:   3%|▎         | 2/62 [00:00<00:03, 15.07it/s]]"
     ]
    },
    {
     "name": "stdout",
     "output_type": "stream",
     "text": [
      "Evaluating...\n"
     ]
    },
    {
     "name": "stderr",
     "output_type": "stream",
     "text": [
      "\r",
      "Iteration:  52%|█████▏    | 32/62 [00:02<00:01, 15.01it/s]\r",
      "Iteration:  21%|██        | 13/62 [00:01<00:06,  7.12it/s]\r",
      "Iteration:  86%|████████▌ | 6/7 [00:00<00:00, 14.31it/s]\r",
      "Iteration:   6%|▋         | 4/62 [00:00<00:03, 14.98it/s]\r",
      "Iteration: 100%|██████████| 7/7 [00:00<00:00, 14.55it/s]\n",
      "\r",
      "Iteration:  55%|█████▍    | 34/62 [00:02<00:01, 15.07it/s]\r",
      "Iteration:   0%|          | 0/62 [00:00<?, ?it/s]\r",
      "Iteration:  23%|██▎       | 14/62 [00:01<00:06,  7.13it/s]"
     ]
    },
    {
     "name": "stdout",
     "output_type": "stream",
     "text": [
      "{'Train':  best_epoch_indx:96\n",
      " auc:0.9764394039953387 \n",
      " apur:0.969197069891619 \n",
      " f1:0.8979742173112341 \n",
      " precision:0.8671013633669236 \n",
      " recall:0.9311266709102483 \n",
      ", 'Validation':  best_epoch_indx:96\n",
      " auc:0.889363277679429 \n",
      " apur:0.858904820056332 \n",
      " f1:0.7824639289678136 \n",
      " precision:0.7588805166846071 \n",
      " recall:0.8075601374570447 \n",
      ", 'Test':  best_epoch_indx:96\n",
      " auc:0.8946976640835486 \n",
      " apur:0.8715969023764044 \n",
      " f1:0.7904509283819628 \n",
      " precision:0.7634500426985482 \n",
      " recall:0.8194317140238313 \n",
      "}\n",
      "=====Epoch 97\n",
      "Training...\n"
     ]
    },
    {
     "name": "stderr",
     "output_type": "stream",
     "text": [
      "Iteration: 100%|██████████| 62/62 [00:04<00:00, 15.14it/s]\n",
      "Iteration: 100%|██████████| 7/7 [00:00<00:00, 14.51it/s]s]\n",
      "Iteration: 100%|██████████| 18/18 [00:01<00:00, 15.67it/s]\n",
      "Iteration:  87%|████████▋ | 54/62 [00:03<00:00, 15.01it/s]"
     ]
    },
    {
     "name": "stdout",
     "output_type": "stream",
     "text": [
      "{'Train':  best_epoch_indx:96\n",
      " auc:0.9766639970608534 \n",
      " apur:0.9695235516552055 \n",
      " f1:0.8977125593439792 \n",
      " precision:0.8703969392635102 \n",
      " recall:0.9267982176957352 \n",
      ", 'Validation':  best_epoch_indx:96\n",
      " auc:0.894074382619629 \n",
      " apur:0.8679182730038154 \n",
      " f1:0.7909604519774012 \n",
      " precision:0.7803790412486065 \n",
      " recall:0.8018327605956472 \n",
      ", 'Test':  best_epoch_indx:96\n",
      " auc:0.8941668552432576 \n",
      " apur:0.8694869274154607 \n",
      " f1:0.7854741089441829 \n",
      " precision:0.7687582272926722 \n",
      " recall:0.8029330889092575 \n",
      "}\n",
      "=====Epoch 97\n",
      "Training...\n"
     ]
    },
    {
     "name": "stderr",
     "output_type": "stream",
     "text": [
      "Iteration: 100%|██████████| 7/7 [00:00<00:00, 15.35it/s]s]\n",
      "Iteration:  44%|████▎     | 27/62 [00:03<00:04,  7.19it/s]"
     ]
    },
    {
     "name": "stdout",
     "output_type": "stream",
     "text": [
      "{'Train':  best_epoch_indx:94\n",
      " auc:0.9745786000218312 \n",
      " apur:0.9671629856116088 \n",
      " f1:0.8958930276981852 \n",
      " precision:0.8961783439490446 \n",
      " recall:0.8956078930617442 \n",
      ", 'Validation':  best_epoch_indx:94\n",
      " auc:0.893534427898689 \n",
      " apur:0.8685966902209729 \n",
      " f1:0.7832655432887856 \n",
      " precision:0.7948113207547169 \n",
      " recall:0.7720504009163803 \n",
      ", 'Test':  best_epoch_indx:94\n",
      " auc:0.8904879840260227 \n",
      " apur:0.8675769059107591 \n",
      " f1:0.7862577818768735 \n",
      " precision:0.7911832946635731 \n",
      " recall:0.7813932172318974 \n",
      "}\n",
      "=====Epoch 95\n",
      "Training...\n"
     ]
    },
    {
     "name": "stderr",
     "output_type": "stream",
     "text": [
      "Iteration: 100%|██████████| 62/62 [00:04<00:00, 15.10it/s]\n",
      "Iteration: 100%|██████████| 18/18 [00:01<00:00, 15.81it/s]\n",
      "Iteration: 100%|██████████| 7/7 [00:00<00:00, 15.52it/s]s]\n",
      "Iteration:  90%|█████████ | 56/62 [00:07<00:00,  7.29it/s]"
     ]
    },
    {
     "name": "stdout",
     "output_type": "stream",
     "text": [
      "{'Train':  best_epoch_indx:93\n",
      " auc:0.9719384910911582 \n",
      " apur:0.9640208365679016 \n",
      " f1:0.8916905444126075 \n",
      " precision:0.8919745222929937 \n",
      " recall:0.8914067472947167 \n",
      ", 'Validation':  best_epoch_indx:93\n",
      " auc:0.8908973276098132 \n",
      " apur:0.8705277225709359 \n",
      " f1:0.7754164273406089 \n",
      " precision:0.7776497695852534 \n",
      " recall:0.7731958762886598 \n",
      ", 'Test':  best_epoch_indx:93\n",
      " auc:0.8898956340480102 \n",
      " apur:0.8643126735773199 \n",
      " f1:0.7835288704853922 \n",
      " precision:0.7866050808314088 \n",
      " recall:0.7804766269477543 \n",
      "}\n",
      "=====Epoch 94\n",
      "Training...\n"
     ]
    },
    {
     "name": "stderr",
     "output_type": "stream",
     "text": [
      "Iteration: 100%|██████████| 62/62 [00:08<00:00,  7.22it/s]\n",
      "Iteration:  11%|█▏        | 7/62 [00:00<00:07,  7.22it/s]"
     ]
    },
    {
     "name": "stdout",
     "output_type": "stream",
     "text": [
      "Evaluating...\n"
     ]
    },
    {
     "name": "stderr",
     "output_type": "stream",
     "text": [
      "Iteration: 100%|██████████| 62/62 [00:08<00:00,  7.28it/s]\n",
      "Iteration:  56%|█████▋    | 35/62 [00:04<00:03,  7.28it/s]"
     ]
    },
    {
     "name": "stdout",
     "output_type": "stream",
     "text": [
      "Evaluating...\n"
     ]
    },
    {
     "name": "stderr",
     "output_type": "stream",
     "text": [
      "Iteration: 100%|██████████| 62/62 [00:04<00:00, 14.61it/s]\n",
      "Iteration: 100%|██████████| 62/62 [00:08<00:00,  7.21it/s]\n",
      "Iteration:  56%|█████▌    | 10/18 [00:00<00:00, 15.42it/s]"
     ]
    },
    {
     "name": "stdout",
     "output_type": "stream",
     "text": [
      "Evaluating...\n"
     ]
    },
    {
     "name": "stderr",
     "output_type": "stream",
     "text": [
      "Iteration: 100%|██████████| 18/18 [00:01<00:00, 16.02it/s]\n",
      "Iteration: 100%|██████████| 62/62 [00:08<00:00,  7.27it/s]\n",
      "Iteration:   3%|▎         | 2/62 [00:00<00:03, 15.16it/s]]"
     ]
    },
    {
     "name": "stdout",
     "output_type": "stream",
     "text": [
      "Evaluating...\n"
     ]
    },
    {
     "name": "stderr",
     "output_type": "stream",
     "text": [
      "Iteration: 100%|██████████| 62/62 [00:04<00:00, 15.24it/s]\n",
      "Iteration: 100%|██████████| 7/7 [00:00<00:00, 15.54it/s]s]\n",
      "Iteration:   0%|          | 0/18 [00:00<?, ?it/s].25it/s]]"
     ]
    },
    {
     "name": "stdout",
     "output_type": "stream",
     "text": [
      "{'Train':  best_epoch_indx:96\n",
      " auc:0.9744554212548655 \n",
      " apur:0.9666543289191799 \n",
      " f1:0.8959989981842089 \n",
      " precision:0.8815919172005914 \n",
      " recall:0.9108847867600255 \n",
      ", 'Validation':  best_epoch_indx:96\n",
      " auc:0.8901124648547328 \n",
      " apur:0.8708644016958469 \n",
      " f1:0.7919010123734533 \n",
      " precision:0.7779005524861878 \n",
      " recall:0.8064146620847652 \n",
      ", 'Test':  best_epoch_indx:96\n",
      " auc:0.8964800957279607 \n",
      " apur:0.875353351556597 \n",
      " f1:0.7912786736316147 \n",
      " precision:0.7843313822602431 \n",
      " recall:0.7983501374885427 \n",
      "}\n",
      "=====Epoch 97\n",
      "Training...\n"
     ]
    },
    {
     "name": "stderr",
     "output_type": "stream",
     "text": [
      "Iteration: 100%|██████████| 18/18 [00:01<00:00, 15.95it/s]\n",
      "Iteration: 100%|██████████| 62/62 [00:08<00:00,  7.25it/s]\n",
      "Iteration:  57%|█████▋    | 4/7 [00:00<00:00, 15.29it/s]"
     ]
    },
    {
     "name": "stdout",
     "output_type": "stream",
     "text": [
      "Evaluating...\n"
     ]
    },
    {
     "name": "stderr",
     "output_type": "stream",
     "text": [
      "\r",
      "Iteration:  18%|█▊        | 11/62 [00:01<00:07,  7.22it/s]\r",
      "Iteration:  65%|██████▍   | 40/62 [00:02<00:01, 15.09it/s]\r",
      "Iteration:  52%|█████▏    | 32/62 [00:02<00:01, 15.15it/s]\r",
      "Iteration:   3%|▎         | 2/62 [00:00<00:03, 15.14it/s]\r",
      "Iteration:  86%|████████▌ | 6/7 [00:00<00:00, 15.35it/s]\r",
      "Iteration:  19%|█▉        | 12/62 [00:01<00:06,  7.18it/s]\r",
      "Iteration: 100%|██████████| 7/7 [00:00<00:00, 15.57it/s]\n",
      "\r",
      "Iteration:  68%|██████▊   | 42/62 [00:02<00:01, 15.10it/s]\r",
      "Iteration:   0%|          | 0/62 [00:00<?, ?it/s]\r",
      "Iteration:  55%|█████▍    | 34/62 [00:02<00:01, 15.20it/s]"
     ]
    },
    {
     "name": "stdout",
     "output_type": "stream",
     "text": [
      "{'Train':  best_epoch_indx:97\n",
      " auc:0.9807613840507434 \n",
      " apur:0.9741362399467642 \n",
      " f1:0.9105952086935045 \n",
      " precision:0.8840666586740199 \n",
      " recall:0.938765117759389 \n",
      ", 'Validation':  best_epoch_indx:97\n",
      " auc:0.8898960008639275 \n",
      " apur:0.8581703772128264 \n",
      " f1:0.7804604154969117 \n",
      " precision:0.7654185022026432 \n",
      " recall:0.7961053837342497 \n",
      ", 'Test':  best_epoch_indx:97\n",
      " auc:0.8934861909655678 \n",
      " apur:0.86808998719896 \n",
      " f1:0.7895791583166334 \n",
      " precision:0.7678648765699437 \n",
      " recall:0.812557286892759 \n",
      "}\n",
      "=====Epoch 98\n",
      "Training...\n"
     ]
    },
    {
     "name": "stderr",
     "output_type": "stream",
     "text": [
      "Iteration: 100%|██████████| 62/62 [00:04<00:00, 15.19it/s]\n",
      "Iteration: 100%|██████████| 62/62 [00:04<00:00, 15.23it/s]\n",
      "Iteration: 100%|██████████| 18/18 [00:01<00:00, 15.85it/s]\n",
      "Iteration: 100%|██████████| 7/7 [00:00<00:00, 15.52it/s]s]\n",
      "Iteration: 100%|██████████| 18/18 [00:01<00:00, 15.79it/s]\n",
      "Iteration:   0%|          | 0/7 [00:00<?, ?it/s]15.20it/s]"
     ]
    },
    {
     "name": "stdout",
     "output_type": "stream",
     "text": [
      "{'Train':  best_epoch_indx:97\n",
      " auc:0.9805956118825842 \n",
      " apur:0.9743647147246628 \n",
      " f1:0.9090344998758998 \n",
      " precision:0.8866965258443288 \n",
      " recall:0.9325270528325907 \n",
      ", 'Validation':  best_epoch_indx:97\n",
      " auc:0.8946230151842981 \n",
      " apur:0.8652968380906312 \n",
      " f1:0.7799315849486886 \n",
      " precision:0.7763904653802497 \n",
      " recall:0.7835051546391752 \n",
      ", 'Test':  best_epoch_indx:97\n",
      " auc:0.8922310252073132 \n",
      " apur:0.869523803602274 \n",
      " f1:0.7810731265564863 \n",
      " precision:0.7718120805369127 \n",
      " recall:0.7905591200733272 \n",
      "}\n",
      "=====Epoch 98\n",
      "Training...\n"
     ]
    },
    {
     "name": "stderr",
     "output_type": "stream",
     "text": [
      "Iteration: 100%|██████████| 7/7 [00:00<00:00, 15.38it/s]s]\n",
      "Iteration:  97%|█████████▋| 60/62 [00:03<00:00, 15.18it/s]"
     ]
    },
    {
     "name": "stdout",
     "output_type": "stream",
     "text": [
      "{'Train':  best_epoch_indx:95\n",
      " auc:0.9752763851354591 \n",
      " apur:0.9681771534767901 \n",
      " f1:0.896306295250951 \n",
      " precision:0.8650953452564254 \n",
      " recall:0.9298535964353914 \n",
      ", 'Validation':  best_epoch_indx:95\n",
      " auc:0.8924034155992917 \n",
      " apur:0.8667596926062004 \n",
      " f1:0.7824639289678136 \n",
      " precision:0.7588805166846071 \n",
      " recall:0.8075601374570447 \n",
      ", 'Test':  best_epoch_indx:95\n",
      " auc:0.8915664435371127 \n",
      " apur:0.8635020840751149 \n",
      " f1:0.7897299690128375 \n",
      " precision:0.7636986301369864 \n",
      " recall:0.8175985334555453 \n",
      "}\n",
      "=====Epoch 96\n",
      "Training...\n"
     ]
    },
    {
     "name": "stderr",
     "output_type": "stream",
     "text": [
      "Iteration: 100%|██████████| 62/62 [00:04<00:00, 15.23it/s]\n",
      "Iteration: 100%|██████████| 18/18 [00:01<00:00, 15.92it/s]\n",
      "Iteration: 100%|██████████| 7/7 [00:00<00:00, 15.52it/s]s]\n",
      "Iteration:  31%|███       | 19/62 [00:02<00:05,  7.22it/s]"
     ]
    },
    {
     "name": "stdout",
     "output_type": "stream",
     "text": [
      "{'Train':  best_epoch_indx:94\n",
      " auc:0.9732787384058227 \n",
      " apur:0.9654587889912526 \n",
      " f1:0.8952095808383232 \n",
      " precision:0.8775834658187599 \n",
      " recall:0.9135582431572247 \n",
      ", 'Validation':  best_epoch_indx:94\n",
      " auc:0.8892630003741114 \n",
      " apur:0.8683734945444305 \n",
      " f1:0.7770193401592718 \n",
      " precision:0.7717514124293785 \n",
      " recall:0.7823596792668958 \n",
      ", 'Test':  best_epoch_indx:94\n",
      " auc:0.8915924374664075 \n",
      " apur:0.866066329287735 \n",
      " f1:0.7808157776781713 \n",
      " precision:0.7640350877192983 \n",
      " recall:0.7983501374885427 \n",
      "}\n",
      "=====Epoch 95\n",
      "Training...\n"
     ]
    },
    {
     "name": "stderr",
     "output_type": "stream",
     "text": [
      "Iteration: 100%|██████████| 62/62 [00:08<00:00,  7.22it/s]\n",
      "Iteration:  15%|█▍        | 9/62 [00:01<00:07,  7.24it/s]]"
     ]
    },
    {
     "name": "stdout",
     "output_type": "stream",
     "text": [
      "Evaluating...\n"
     ]
    },
    {
     "name": "stderr",
     "output_type": "stream",
     "text": [
      "Iteration: 100%|██████████| 62/62 [00:08<00:00,  7.30it/s]\n",
      "Iteration:   0%|          | 0/62 [00:00<?, ?it/s]"
     ]
    },
    {
     "name": "stdout",
     "output_type": "stream",
     "text": [
      "Evaluating...\n"
     ]
    },
    {
     "name": "stderr",
     "output_type": "stream",
     "text": [
      "Iteration: 100%|██████████| 62/62 [00:04<00:00, 15.11it/s]\n",
      "Iteration: 100%|██████████| 62/62 [00:08<00:00,  7.25it/s]\n",
      "Iteration:  81%|████████  | 50/62 [00:03<00:00, 15.29it/s]"
     ]
    },
    {
     "name": "stdout",
     "output_type": "stream",
     "text": [
      "Evaluating...\n"
     ]
    },
    {
     "name": "stderr",
     "output_type": "stream",
     "text": [
      "Iteration: 100%|██████████| 62/62 [00:08<00:00,  7.29it/s]\n",
      "Iteration:  13%|█▎        | 8/62 [00:00<00:03, 15.25it/s]"
     ]
    },
    {
     "name": "stdout",
     "output_type": "stream",
     "text": [
      "Evaluating...\n"
     ]
    },
    {
     "name": "stderr",
     "output_type": "stream",
     "text": [
      "Iteration: 100%|██████████| 18/18 [00:01<00:00, 15.88it/s]\n",
      "Iteration: 100%|██████████| 62/62 [00:04<00:00, 14.65it/s]\n",
      "Iteration: 100%|██████████| 7/7 [00:00<00:00, 15.42it/s]]]\n",
      "Iteration:  13%|█▎        | 8/62 [00:00<00:04, 12.89it/s]]"
     ]
    },
    {
     "name": "stdout",
     "output_type": "stream",
     "text": [
      "{'Train':  best_epoch_indx:97\n",
      " auc:0.9769135863484496 \n",
      " apur:0.9695985117687431 \n",
      " f1:0.902289787421939 \n",
      " precision:0.8942235558889723 \n",
      " recall:0.9105028644175684 \n",
      ", 'Validation':  best_epoch_indx:97\n",
      " auc:0.8888821394548772 \n",
      " apur:0.8691286718861361 \n",
      " f1:0.7874643874643875 \n",
      " precision:0.7834467120181405 \n",
      " recall:0.7915234822451317 \n",
      ", 'Test':  best_epoch_indx:97\n",
      " auc:0.8964297743347929 \n",
      " apur:0.8765462136858019 \n",
      " f1:0.7876126646637392 \n",
      " precision:0.7944055944055944 \n",
      " recall:0.7809349220898258 \n",
      "}\n",
      "=====Epoch 98\n",
      "Training...\n"
     ]
    },
    {
     "name": "stderr",
     "output_type": "stream",
     "text": [
      "Iteration: 100%|██████████| 18/18 [00:01<00:00, 15.93it/s]\n",
      "Iteration: 100%|██████████| 62/62 [00:08<00:00,  7.23it/s]\n",
      "Iteration:   3%|▎         | 2/62 [00:00<00:03, 15.17it/s]]"
     ]
    },
    {
     "name": "stdout",
     "output_type": "stream",
     "text": [
      "Evaluating...\n"
     ]
    },
    {
     "name": "stderr",
     "output_type": "stream",
     "text": [
      "Iteration: 100%|██████████| 62/62 [00:04<00:00, 14.58it/s]\n",
      "Iteration: 100%|██████████| 62/62 [00:04<00:00, 14.60it/s]\n",
      "Iteration: 100%|██████████| 18/18 [00:01<00:00, 15.42it/s]\n",
      "Iteration: 100%|██████████| 18/18 [00:01<00:00, 14.83it/s]\n",
      "Iteration: 100%|██████████| 62/62 [00:04<00:00, 15.09it/s]\n",
      "Iteration: 100%|██████████| 7/7 [00:00<00:00, 13.68it/s]\n",
      "Iteration:   0%|          | 0/62 [00:00<?, ?it/s]6.19it/s]"
     ]
    },
    {
     "name": "stdout",
     "output_type": "stream",
     "text": [
      "{'Train':  best_epoch_indx:96\n",
      " auc:0.9779352635257612 \n",
      " apur:0.971298631357399 \n",
      " f1:0.9038905888965215 \n",
      " precision:0.8871046825202256 \n",
      " recall:0.9213239974538511 \n",
      ", 'Validation':  best_epoch_indx:96\n",
      " auc:0.8929472271396671 \n",
      " apur:0.8684599429242595 \n",
      " f1:0.7871853546910754 \n",
      " precision:0.7862857142857143 \n",
      " recall:0.7880870561282932 \n",
      ", 'Test':  best_epoch_indx:96\n",
      " auc:0.8926143500387312 \n",
      " apur:0.8702718991882811 \n",
      " f1:0.7870036101083031 \n",
      " precision:0.7751111111111111 \n",
      " recall:0.7992667277726856 \n",
      "}\n",
      "=====Epoch 97\n",
      "Training...\n"
     ]
    },
    {
     "name": "stderr",
     "output_type": "stream",
     "text": [
      "Iteration: 100%|██████████| 7/7 [00:00<00:00, 15.61it/s]]]\n",
      "Iteration:  71%|███████   | 44/62 [00:06<00:02,  7.00it/s]"
     ]
    },
    {
     "name": "stdout",
     "output_type": "stream",
     "text": [
      "{'Train':  best_epoch_indx:98\n",
      " auc:0.9821864616408155 \n",
      " apur:0.9760190738408535 \n",
      " f1:0.9138492361632857 \n",
      " precision:0.8991006529505975 \n",
      " recall:0.9290897517504774 \n",
      ", 'Validation':  best_epoch_indx:98\n",
      " auc:0.8904634354233437 \n",
      " apur:0.8598853053119029 \n",
      " f1:0.7784156142365098 \n",
      " precision:0.7802071346375143 \n",
      " recall:0.7766323024054983 \n",
      ", 'Test':  best_epoch_indx:98\n",
      " auc:0.8960654513358456 \n",
      " apur:0.8723245895897651 \n",
      " f1:0.7892112420670897 \n",
      " precision:0.7807174887892376 \n",
      " recall:0.7978918423464711 \n",
      "}\n",
      "=====Epoch 99\n",
      "Training...\n"
     ]
    },
    {
     "name": "stderr",
     "output_type": "stream",
     "text": [
      "Iteration: 100%|██████████| 18/18 [00:01<00:00, 15.62it/s]\n",
      "Iteration: 100%|██████████| 62/62 [00:08<00:00,  7.02it/s]\n",
      "Iteration:  39%|███▊      | 24/62 [00:03<00:05,  7.23it/s]"
     ]
    },
    {
     "name": "stdout",
     "output_type": "stream",
     "text": [
      "Evaluating...\n"
     ]
    },
    {
     "name": "stderr",
     "output_type": "stream",
     "text": [
      "Iteration: 100%|██████████| 7/7 [00:00<00:00, 14.99it/s]s]\n",
      "Iteration:  48%|████▊     | 30/62 [00:04<00:04,  7.24it/s]"
     ]
    },
    {
     "name": "stdout",
     "output_type": "stream",
     "text": [
      "{'Train':  best_epoch_indx:98\n",
      " auc:0.9813625052771855 \n",
      " apur:0.9754109028983404 \n",
      " f1:0.9134519038076152 \n",
      " precision:0.8989276469863182 \n",
      " recall:0.928453214513049 \n",
      ", 'Validation':  best_epoch_indx:98\n",
      " auc:0.8946914737292744 \n",
      " apur:0.8668489588152516 \n",
      " f1:0.7804034582132565 \n",
      " precision:0.7853828306264501 \n",
      " recall:0.7754868270332188 \n",
      ", 'Test':  best_epoch_indx:98\n",
      " auc:0.8937063990597616 \n",
      " apur:0.8724506160516161 \n",
      " f1:0.7830059387848333 \n",
      " precision:0.7805100182149363 \n",
      " recall:0.7855178735105408 \n",
      "}\n",
      "=====Epoch 99\n",
      "Training...\n"
     ]
    },
    {
     "name": "stderr",
     "output_type": "stream",
     "text": [
      "Iteration: 100%|██████████| 7/7 [00:00<00:00, 14.50it/s]s]\n",
      "Iteration:   2%|▏         | 1/62 [00:00<00:08,  7.03it/s]]"
     ]
    },
    {
     "name": "stdout",
     "output_type": "stream",
     "text": [
      "{'Train':  best_epoch_indx:95\n",
      " auc:0.9718917124518951 \n",
      " apur:0.9637872140287697 \n",
      " f1:0.8919764676430091 \n",
      " precision:0.8772620952849932 \n",
      " recall:0.9071928707829408 \n",
      ", 'Validation':  best_epoch_indx:95\n",
      " auc:0.8921006552736219 \n",
      " apur:0.8714754113639933 \n",
      " f1:0.7775280898876404 \n",
      " precision:0.762954796030871 \n",
      " recall:0.7926689576174112 \n",
      ", 'Test':  best_epoch_indx:95\n",
      " auc:0.8930386372596266 \n",
      " apur:0.8676636238620908 \n",
      " f1:0.7855863921217547 \n",
      " precision:0.7677165354330708 \n",
      " recall:0.8043079743354721 \n",
      "}\n",
      "=====Epoch 96\n",
      "Training...\n"
     ]
    },
    {
     "name": "stderr",
     "output_type": "stream",
     "text": [
      "Iteration: 100%|██████████| 62/62 [00:04<00:00, 14.52it/s]\n",
      "Iteration: 100%|██████████| 62/62 [00:08<00:00,  7.27it/s]\n",
      "Iteration:  94%|█████████▎| 58/62 [00:07<00:00,  7.27it/s]"
     ]
    },
    {
     "name": "stdout",
     "output_type": "stream",
     "text": [
      "Evaluating...\n"
     ]
    },
    {
     "name": "stderr",
     "output_type": "stream",
     "text": [
      "Iteration: 100%|██████████| 18/18 [00:01<00:00, 16.04it/s]\n",
      "Iteration: 100%|██████████| 62/62 [00:08<00:00,  7.29it/s]\n",
      "Iteration:  32%|███▏      | 20/62 [00:02<00:05,  7.18it/s]"
     ]
    },
    {
     "name": "stdout",
     "output_type": "stream",
     "text": [
      "Evaluating...\n"
     ]
    },
    {
     "name": "stderr",
     "output_type": "stream",
     "text": [
      "Iteration: 100%|██████████| 62/62 [00:04<00:00, 15.25it/s]\n",
      "Iteration: 100%|██████████| 62/62 [00:08<00:00,  7.23it/s]\n",
      "Iteration:   0%|          | 0/62 [00:00<?, ?it/s]"
     ]
    },
    {
     "name": "stdout",
     "output_type": "stream",
     "text": [
      "Evaluating...\n"
     ]
    },
    {
     "name": "stderr",
     "output_type": "stream",
     "text": [
      "Iteration: 100%|██████████| 62/62 [00:04<00:00, 15.32it/s]\n",
      "Iteration: 100%|██████████| 7/7 [00:00<00:00, 14.28it/s]]]\n",
      "Iteration: 100%|██████████| 18/18 [00:01<00:00, 15.76it/s]\n",
      "Iteration:   0%|          | 0/7 [00:00<?, ?it/s] 7.19it/s]"
     ]
    },
    {
     "name": "stdout",
     "output_type": "stream",
     "text": [
      "{'Train':  best_epoch_indx:98\n",
      " auc:0.9784468967767637 \n",
      " apur:0.9717235841467884 \n",
      " f1:0.9055113173239702 \n",
      " precision:0.8921423276501111 \n",
      " recall:0.9192870782940802 \n",
      ", 'Validation':  best_epoch_indx:98\n",
      " auc:0.8879825363215971 \n",
      " apur:0.8700404831374533 \n",
      " f1:0.7898016997167139 \n",
      " precision:0.781390134529148 \n",
      " recall:0.7983963344788088 \n",
      ", 'Test':  best_epoch_indx:98\n",
      " auc:0.8978874739555919 \n",
      " apur:0.8785680224616903 \n",
      " f1:0.7872827081427264 \n",
      " precision:0.7858447488584475 \n",
      " recall:0.7887259395050412 \n",
      "}\n",
      "=====Epoch 99\n",
      "Training...\n"
     ]
    },
    {
     "name": "stderr",
     "output_type": "stream",
     "text": [
      "Iteration: 100%|██████████| 7/7 [00:00<00:00, 15.47it/s]s]\n",
      "Iteration: 100%|██████████| 18/18 [00:01<00:00, 15.84it/s]\n",
      "Iteration:  95%|█████████▌| 59/62 [00:08<00:00,  7.23it/s]"
     ]
    },
    {
     "name": "stdout",
     "output_type": "stream",
     "text": [
      "{'Train':  best_epoch_indx:97\n",
      " auc:0.9801318082880137 \n",
      " apur:0.9738456066644023 \n",
      " f1:0.9084925958739399 \n",
      " precision:0.9032339247514786 \n",
      " recall:0.913812858052196 \n",
      ", 'Validation':  best_epoch_indx:97\n",
      " auc:0.8938882910818764 \n",
      " apur:0.869512919403647 \n",
      " f1:0.7848101265822784 \n",
      " precision:0.7884393063583816 \n",
      " recall:0.7812142038946163 \n",
      ", 'Test':  best_epoch_indx:97\n",
      " auc:0.8906198403219484 \n",
      " apur:0.8664992042470137 \n",
      " f1:0.7832071576049552 \n",
      " precision:0.7841065686724851 \n",
      " recall:0.7823098075160403 \n",
      "}\n",
      "=====Epoch 98\n",
      "Training...\n"
     ]
    },
    {
     "name": "stderr",
     "output_type": "stream",
     "text": [
      "Iteration: 100%|██████████| 62/62 [00:08<00:00,  7.21it/s]\n",
      "Iteration: 100%|██████████| 7/7 [00:00<00:00, 15.67it/s]]\n",
      "Iteration:  58%|█████▊    | 36/62 [00:02<00:01, 15.24it/s]"
     ]
    },
    {
     "name": "stdout",
     "output_type": "stream",
     "text": [
      "Evaluating...\n"
     ]
    },
    {
     "name": "stderr",
     "output_type": "stream",
     "text": [
      "\r",
      "Iteration:   6%|▋         | 4/62 [00:00<00:08,  7.21it/s]\r",
      "Iteration:  15%|█▍        | 9/62 [00:01<00:07,  7.21it/s]\r",
      "Iteration:  61%|██████▏   | 38/62 [00:02<00:01, 15.12it/s]\r",
      "Iteration:   8%|▊         | 5/62 [00:00<00:07,  7.25it/s]\r",
      "Iteration:  16%|█▌        | 10/62 [00:01<00:07,  7.20it/s]"
     ]
    },
    {
     "name": "stdout",
     "output_type": "stream",
     "text": [
      "{'Train':  best_epoch_indx:99\n",
      " auc:0.9825492443941519 \n",
      " apur:0.9766465146676955 \n",
      " f1:0.9138079429484814 \n",
      " precision:0.8836048032338604 \n",
      " recall:0.9461489497135582 \n",
      ", 'Validation':  best_epoch_indx:99\n",
      " auc:0.8879111851620443 \n",
      " apur:0.8566484482275871 \n",
      " f1:0.7774049217002237 \n",
      " precision:0.7595628415300546 \n",
      " recall:0.7961053837342497 \n",
      ", 'Test':  best_epoch_indx:99\n",
      " auc:0.8953567141009855 \n",
      " apur:0.8708549819197193 \n",
      " f1:0.7896728243935011 \n",
      " precision:0.7676330592816962 \n",
      " recall:0.8130155820348305 \n",
      "}\n",
      "Finished training!\n"
     ]
    },
    {
     "name": "stderr",
     "output_type": "stream",
     "text": [
      "Iteration: 100%|██████████| 62/62 [00:04<00:00, 15.13it/s]\n",
      "Iteration:  31%|███       | 19/62 [00:02<00:05,  7.24it/s]"
     ]
    },
    {
     "name": "stdout",
     "output_type": "stream",
     "text": [
      "<<< joined hyperparam search process\n",
      "released_gpu_num: 0\n"
     ]
    },
    {
     "name": "stderr",
     "output_type": "stream",
     "text": [
      "Iteration: 100%|██████████| 18/18 [00:01<00:00, 16.02it/s]\n",
      "Iteration: 100%|██████████| 62/62 [00:04<00:00, 14.61it/s]\n",
      "Iteration: 100%|██████████| 18/18 [00:01<00:00, 16.10it/s]\n",
      "Iteration: 100%|██████████| 7/7 [00:00<00:00, 15.71it/s]s]\n",
      "Iteration:  84%|████████▍ | 52/62 [00:07<00:01,  7.29it/s]"
     ]
    },
    {
     "name": "stdout",
     "output_type": "stream",
     "text": [
      "{'Train':  best_epoch_indx:96\n",
      " auc:0.9765464907386511 \n",
      " apur:0.9694936582748099 \n",
      " f1:0.8970570277201123 \n",
      " precision:0.8619030857679221 \n",
      " recall:0.9352005092297899 \n",
      ", 'Validation':  best_epoch_indx:96\n",
      " auc:0.8926034881074973 \n",
      " apur:0.8697292808647377 \n",
      " f1:0.7839029768467476 \n",
      " precision:0.7555791710945803 \n",
      " recall:0.8144329896907216 \n",
      ", 'Test':  best_epoch_indx:96\n",
      " auc:0.8940744707223652 \n",
      " apur:0.8663935920932319 \n",
      " f1:0.7888428851601655 \n",
      " precision:0.751973410884919 \n",
      " recall:0.8295142071494043 \n",
      "}\n",
      "=====Epoch 97\n",
      "Training...\n"
     ]
    },
    {
     "name": "stderr",
     "output_type": "stream",
     "text": [
      "Iteration: 100%|██████████| 62/62 [00:08<00:00,  7.28it/s]\n",
      "Iteration:  18%|█▊        | 11/62 [00:01<00:06,  7.29it/s]"
     ]
    },
    {
     "name": "stdout",
     "output_type": "stream",
     "text": [
      "Evaluating...\n"
     ]
    },
    {
     "name": "stderr",
     "output_type": "stream",
     "text": [
      "Iteration: 100%|██████████| 7/7 [00:00<00:00, 14.88it/s]s]\n",
      "Iteration: 100%|██████████| 62/62 [00:08<00:00,  7.30it/s]\n",
      "Iteration:   0%|          | 0/62 [00:00<?, ?it/s]"
     ]
    },
    {
     "name": "stdout",
     "output_type": "stream",
     "text": [
      "Evaluating...\n",
      "{'Train':  best_epoch_indx:99\n",
      " auc:0.9823557713205735 \n",
      " apur:0.9765679703039181 \n",
      " f1:0.9142929165616335 \n",
      " precision:0.9052789217521527 \n",
      " recall:0.9234882240611075 \n",
      ", 'Validation':  best_epoch_indx:99\n",
      " auc:0.8963412282427173 \n",
      " apur:0.8681772297299621 \n",
      " f1:0.7807424593967518 \n",
      " precision:0.790834312573443 \n",
      " recall:0.7709049255441008 \n",
      ", 'Test':  best_epoch_indx:99\n",
      " auc:0.8949485347984782 \n",
      " apur:0.8716088430039033 \n",
      " f1:0.7819271553711388 \n",
      " precision:0.7866419294990723 \n",
      " recall:0.7772685609532539 \n",
      "}\n",
      "Finished training!\n"
     ]
    },
    {
     "name": "stderr",
     "output_type": "stream",
     "text": [
      "Iteration: 100%|██████████| 62/62 [00:04<00:00, 15.44it/s]\n",
      "Iteration: 100%|██████████| 62/62 [00:04<00:00, 14.90it/s]\n",
      "Iteration: 100%|██████████| 18/18 [00:01<00:00, 16.50it/s]\n",
      "Iteration: 100%|██████████| 7/7 [00:00<00:00, 16.01it/s]s]\n",
      "Iteration: 100%|██████████| 18/18 [00:01<00:00, 16.32it/s]\n",
      "Iteration:  87%|████████▋ | 54/62 [00:07<00:01,  7.40it/s]"
     ]
    },
    {
     "name": "stdout",
     "output_type": "stream",
     "text": [
      "{'Train':  best_epoch_indx:99\n",
      " auc:0.9800601465167003 \n",
      " apur:0.973806634032577 \n",
      " f1:0.9098014497321146 \n",
      " precision:0.9009987515605493 \n",
      " recall:0.9187778485041375 \n",
      ", 'Validation':  best_epoch_indx:99\n",
      " auc:0.8907112360720608 \n",
      " apur:0.8715490588246826 \n",
      " f1:0.7885714285714286 \n",
      " precision:0.7867730900798175 \n",
      " recall:0.7903780068728522 \n",
      ", 'Test':  best_epoch_indx:99\n",
      " auc:0.8976155686363736 \n",
      " apur:0.877450612688184 \n",
      " f1:0.7878369039391845 \n",
      " precision:0.7920333487725799 \n",
      " recall:0.7836846929422548 \n",
      "}\n",
      "Finished training!\n"
     ]
    },
    {
     "name": "stderr",
     "output_type": "stream",
     "text": [
      "Iteration: 100%|██████████| 7/7 [00:00<00:00, 15.72it/s]s]\n",
      "Iteration:  95%|█████████▌| 59/62 [00:08<00:00,  7.28it/s]"
     ]
    },
    {
     "name": "stdout",
     "output_type": "stream",
     "text": [
      "{'Train':  best_epoch_indx:98\n",
      " auc:0.9802728183473745 \n",
      " apur:0.9742845679315033 \n",
      " f1:0.9098846273776114 \n",
      " precision:0.8918092909535452 \n",
      " recall:0.9287078294080203 \n",
      ", 'Validation':  best_epoch_indx:98\n",
      " auc:0.894720399875039 \n",
      " apur:0.8688825367133867 \n",
      " f1:0.7864022662889518 \n",
      " precision:0.7780269058295964 \n",
      " recall:0.7949599083619702 \n",
      ", 'Test':  best_epoch_indx:98\n",
      " auc:0.8928036861125771 \n",
      " apur:0.8704031973007006 \n",
      " f1:0.7858590407565864 \n",
      " precision:0.7724656927844179 \n",
      " recall:0.7997250229147571 \n",
      "}\n",
      "=====Epoch 99\n",
      "Training...\n"
     ]
    },
    {
     "name": "stderr",
     "output_type": "stream",
     "text": [
      "Iteration: 100%|██████████| 62/62 [00:08<00:00,  7.32it/s]\n",
      "Iteration:   8%|▊         | 5/62 [00:00<00:07,  7.33it/s]"
     ]
    },
    {
     "name": "stdout",
     "output_type": "stream",
     "text": [
      "Evaluating...\n"
     ]
    },
    {
     "name": "stderr",
     "output_type": "stream",
     "text": [
      "Iteration: 100%|██████████| 62/62 [00:03<00:00, 15.84it/s]\n",
      "Iteration: 100%|██████████| 18/18 [00:01<00:00, 16.75it/s]\n",
      "Iteration: 100%|██████████| 62/62 [00:08<00:00,  7.49it/s]\n",
      "Iteration:   3%|▎         | 2/62 [00:00<00:03, 15.65it/s]"
     ]
    },
    {
     "name": "stdout",
     "output_type": "stream",
     "text": [
      "Evaluating...\n"
     ]
    },
    {
     "name": "stderr",
     "output_type": "stream",
     "text": [
      "Iteration: 100%|██████████| 7/7 [00:00<00:00, 15.64it/s]s]\n",
      "Iteration:   0%|          | 0/62 [00:00<?, ?it/s]5.67it/s]"
     ]
    },
    {
     "name": "stdout",
     "output_type": "stream",
     "text": [
      "{'Train':  best_epoch_indx:97\n",
      " auc:0.9766914473570606 \n",
      " apur:0.9692588367665533 \n",
      " f1:0.8992888834862943 \n",
      " precision:0.8604326587578507 \n",
      " recall:0.9418204964990452 \n",
      ", 'Validation':  best_epoch_indx:97\n",
      " auc:0.8909590367207778 \n",
      " apur:0.8663945753598232 \n",
      " f1:0.7819383259911895 \n",
      " precision:0.7529162248144221 \n",
      " recall:0.8132875143184422 \n",
      ", 'Test':  best_epoch_indx:97\n",
      " auc:0.8962390624290908 \n",
      " apur:0.870173154854651 \n",
      " f1:0.7886530965786055 \n",
      " precision:0.7475369458128078 \n",
      " recall:0.8345554537121906 \n",
      "}\n",
      "=====Epoch 98\n",
      "Training...\n"
     ]
    },
    {
     "name": "stderr",
     "output_type": "stream",
     "text": [
      "Iteration: 100%|██████████| 62/62 [00:03<00:00, 16.00it/s]\n",
      "Iteration: 100%|██████████| 18/18 [00:01<00:00, 16.56it/s]\n",
      "Iteration: 100%|██████████| 7/7 [00:00<00:00, 15.15it/s]s]\n",
      "Iteration:  94%|█████████▎| 58/62 [00:07<00:00,  7.48it/s]"
     ]
    },
    {
     "name": "stdout",
     "output_type": "stream",
     "text": [
      "{'Train':  best_epoch_indx:99\n",
      " auc:0.9825500781036967 \n",
      " apur:0.9770210329806758 \n",
      " f1:0.9149990590301736 \n",
      " precision:0.9019292604501608 \n",
      " recall:0.928453214513049 \n",
      ", 'Validation':  best_epoch_indx:99\n",
      " auc:0.89552936775159 \n",
      " apur:0.8726023988524374 \n",
      " f1:0.7864911276473955 \n",
      " precision:0.7860411899313501 \n",
      " recall:0.7869415807560137 \n",
      ", 'Test':  best_epoch_indx:99\n",
      " auc:0.8928509043999421 \n",
      " apur:0.87115407405575 \n",
      " f1:0.7890074948898478 \n",
      " precision:0.7820801440792435 \n",
      " recall:0.7960586617781852 \n",
      "}\n",
      "Finished training!\n"
     ]
    },
    {
     "name": "stderr",
     "output_type": "stream",
     "text": [
      "Iteration: 100%|██████████| 62/62 [00:08<00:00,  7.47it/s]\n",
      "Iteration:   0%|          | 0/62 [00:00<?, ?it/s]"
     ]
    },
    {
     "name": "stdout",
     "output_type": "stream",
     "text": [
      "Evaluating...\n"
     ]
    },
    {
     "name": "stderr",
     "output_type": "stream",
     "text": [
      "Iteration:  32%|███▏      | 20/62 [00:01<00:02, 15.74it/s]"
     ]
    },
    {
     "name": "stdout",
     "output_type": "stream",
     "text": [
      "<<< joined hyperparam search process\n",
      "released_gpu_num: 2\n",
      "<<< joined hyperparam search process\n",
      "released_gpu_num: 4\n"
     ]
    },
    {
     "name": "stderr",
     "output_type": "stream",
     "text": [
      "Iteration: 100%|██████████| 62/62 [00:03<00:00, 15.54it/s]\n",
      "Iteration: 100%|██████████| 18/18 [00:01<00:00, 16.96it/s]\n",
      "Iteration: 100%|██████████| 7/7 [00:00<00:00, 16.51it/s]\n"
     ]
    },
    {
     "name": "stdout",
     "output_type": "stream",
     "text": [
      "{'Train':  best_epoch_indx:98\n",
      " auc:0.9780443063262513 \n",
      " apur:0.9712956506761469 \n",
      " f1:0.9035905081376568 \n",
      " precision:0.8823243964576004 \n",
      " recall:0.9259070655633355 \n",
      ", 'Validation':  best_epoch_indx:98\n",
      " auc:0.8905193593051555 \n",
      " apur:0.8688807519774324 \n",
      " f1:0.7782144862436833 \n",
      " precision:0.763215859030837 \n",
      " recall:0.7938144329896907 \n",
      ", 'Test':  best_epoch_indx:98\n",
      " auc:0.8939223488420986 \n",
      " apur:0.8655818441312911 \n",
      " f1:0.7904698285459808 \n",
      " precision:0.7687310524036379 \n",
      " recall:0.8134738771769019 \n",
      "}\n",
      "=====Epoch 99\n",
      "Training...\n"
     ]
    },
    {
     "name": "stderr",
     "output_type": "stream",
     "text": [
      "Iteration: 100%|██████████| 62/62 [00:08<00:00,  7.54it/s]\n",
      "Iteration:   3%|▎         | 2/62 [00:00<00:03, 16.21it/s]"
     ]
    },
    {
     "name": "stdout",
     "output_type": "stream",
     "text": [
      "Evaluating...\n"
     ]
    },
    {
     "name": "stderr",
     "output_type": "stream",
     "text": [
      "Iteration: 100%|██████████| 62/62 [00:03<00:00, 16.22it/s]\n",
      "Iteration: 100%|██████████| 18/18 [00:01<00:00, 16.85it/s]\n",
      "Iteration: 100%|██████████| 7/7 [00:00<00:00, 16.43it/s]\n"
     ]
    },
    {
     "name": "stdout",
     "output_type": "stream",
     "text": [
      "{'Train':  best_epoch_indx:99\n",
      " auc:0.9801372157539692 \n",
      " apur:0.9739531638636004 \n",
      " f1:0.9082834762227842 \n",
      " precision:0.8809523809523809 \n",
      " recall:0.9373647358370465 \n",
      ", 'Validation':  best_epoch_indx:99\n",
      " auc:0.8927698134456438 \n",
      " apur:0.8709097763615496 \n",
      " f1:0.7819297267150028 \n",
      " precision:0.7619565217391304 \n",
      " recall:0.8029782359679267 \n",
      ", 'Test':  best_epoch_indx:99\n",
      " auc:0.8948126979089455 \n",
      " apur:0.8685344627415532 \n",
      " f1:0.7855560478511299 \n",
      " precision:0.7602915951972555 \n",
      " recall:0.812557286892759 \n",
      "}\n",
      "Finished training!\n",
      "<<< joined hyperparam search process\n",
      "released_gpu_num: 1\n",
      "<<< joined hyperparam search process\n",
      "released_gpu_num: 3\n"
     ]
    }
   ],
   "source": [
    "import torch.multiprocessing as mp\n",
    "mp.set_start_method(\"spawn\", force=True)\n",
    "\n",
    "queue = mp.Queue()\n",
    "q_processes = []\n",
    "\n",
    "# partition = fold_partitions[0]\n",
    "time_stamp = datetime.datetime.now().strftime('%Y-%m-%d_%H-%M-%S')\n",
    "\n",
    "print(\"Start: \" + time_stamp)\n",
    "\n",
    "for q_i in range(min(n_gpu, len(fold_partitions))):\n",
    "#     device_gpu = get_device(True, index=q_i)\n",
    "    partition = fold_partitions[q_i]\n",
    "    exp_dir = create_directory(os.path.join(targetdata_dir_exp, \"fold_\"+str(q_i)+\"_\"+time_stamp))\n",
    "    create_directory(os.path.join(exp_dir, \"predictions\"))\n",
    "\n",
    "#     tphp = generate_tp_hp(tp, hyperparam_space[q_i], hp_names)\n",
    "    \n",
    "    q_process = create_q_process(queue, dataset, q_i, tp, exp_dir, partition)\n",
    "    q_processes.append(q_process)\n",
    "    spawn_q_process(q_process)\n",
    "\n",
    "spawned_processes = n_gpu\n",
    "    \n",
    "# for q_i in range(len(hyperparam_space)):\n",
    "for q_i in range(min(n_gpu, len(fold_partitions))):\n",
    "    join_q_process(q_processes[q_i])\n",
    "    released_gpu_num = queue.get()\n",
    "    print(\"released_gpu_num:\", released_gpu_num)\n",
    "#     if(spawned_processes < len(hyperparam_space)):\n",
    "# #         device_gpu = get_device(True, index=q_i)\n",
    "#         time_stamp = datetime.datetime.now().strftime('%Y-%m-%d_%H-%M-%S')\n",
    "#         exp_dir = create_directory(os.path.join(targetdata_dir_exp, \"exp_\"+str(q_i)+\"_\"+time_stamp))\n",
    "#         tphp = generate_tp_hp(tp, hyperparam_space[q_i], hp_names)\n",
    "\n",
    "#         q_process = create_q_process(queue, used_dataset, released_gpu_num, tphp, exp_dir, partition)\n",
    "#         q_processes.append(q_process)\n",
    "#         spawn_q_process(q_process)\n",
    "#         spawned_processes = spawned_processes + 1"
   ]
  },
  {
   "cell_type": "code",
   "execution_count": 40,
   "metadata": {},
   "outputs": [
    {
     "name": "stdout",
     "output_type": "stream",
     "text": [
      "End: 2022-03-24_15-36-34\n"
     ]
    }
   ],
   "source": [
    "print(\"End: \" + datetime.datetime.now().strftime('%Y-%m-%d_%H-%M-%S'))\n"
   ]
  },
  {
   "cell_type": "code",
   "execution_count": null,
   "metadata": {},
   "outputs": [],
   "source": []
  }
 ],
 "metadata": {
  "kernelspec": {
   "display_name": "Python 3 (ipykernel)",
   "language": "python",
   "name": "python3"
  },
  "language_info": {
   "codemirror_mode": {
    "name": "ipython",
    "version": 3
   },
   "file_extension": ".py",
   "mimetype": "text/x-python",
   "name": "python",
   "nbconvert_exporter": "python",
   "pygments_lexer": "ipython3",
   "version": "3.9.9"
  }
 },
 "nbformat": 4,
 "nbformat_minor": 4
}
