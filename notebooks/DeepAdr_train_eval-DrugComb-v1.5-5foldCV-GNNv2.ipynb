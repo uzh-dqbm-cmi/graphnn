{
 "cells": [
  {
   "cell_type": "code",
   "execution_count": 1,
   "metadata": {
    "scrolled": false
   },
   "outputs": [],
   "source": [
    "%load_ext autoreload\n",
    "%autoreload 2"
   ]
  },
  {
   "cell_type": "code",
   "execution_count": 2,
   "metadata": {},
   "outputs": [],
   "source": [
    "import os\n",
    "import sys\n",
    "import numpy as np\n",
    "import pandas as pd\n",
    "import datetime\n",
    "import seaborn as sns\n",
    "import ogb\n",
    "from tqdm import tqdm\n",
    "import hiplot as hip\n",
    "from copy import deepcopy\n",
    "import datetime"
   ]
  },
  {
   "cell_type": "code",
   "execution_count": 3,
   "metadata": {},
   "outputs": [],
   "source": [
    "import torch\n",
    "from torch_geometric.data import Data\n",
    "from torch_geometric.loader import DataLoader\n",
    "from torch.utils.data import Subset, TensorDataset"
   ]
  },
  {
   "cell_type": "code",
   "execution_count": 4,
   "metadata": {},
   "outputs": [
    {
     "name": "stdout",
     "output_type": "stream",
     "text": [
      "/cluster/home/skyriakos/chemprop_run/git/notebooks\n"
     ]
    }
   ],
   "source": [
    "cwd = os.getcwd()\n",
    "print(cwd)"
   ]
  },
  {
   "cell_type": "code",
   "execution_count": 5,
   "metadata": {},
   "outputs": [],
   "source": [
    "os.chdir('..')\n",
    "import deepadr\n",
    "from deepadr.dataset import *\n",
    "from deepadr.utilities import *\n",
    "from deepadr.run_workflow import *\n",
    "from deepadr.chemfeatures import *\n",
    "from deepadr.hyphelperv2 import *\n",
    "# from deepadr.model_gnn import GCN as testGCN\n",
    "from deepadr.model_gnn_ogb import GNN, DeepAdr_SiameseTrf, ExpressionNN\n",
    "# from deepadr.model_attn_siamese import *\n",
    "from ogb.graphproppred import Evaluator\n",
    "os.chdir(cwd)"
   ]
  },
  {
   "cell_type": "code",
   "execution_count": 6,
   "metadata": {},
   "outputs": [],
   "source": [
    "from rdkit.Chem.Draw import IPythonConsole\n",
    "from rdkit.Chem import Draw"
   ]
  },
  {
   "cell_type": "code",
   "execution_count": 7,
   "metadata": {},
   "outputs": [],
   "source": [
    "# from tdc.single_pred import Tox\n",
    "# from tdc.multi_pred import DDI"
   ]
  },
  {
   "cell_type": "code",
   "execution_count": 8,
   "metadata": {},
   "outputs": [],
   "source": [
    "rawdata_dir = '../data/raw/'\n",
    "processed_dir = '../data/processed/'\n",
    "up_dir = '..'"
   ]
  },
  {
   "cell_type": "code",
   "execution_count": 9,
   "metadata": {
    "scrolled": true
   },
   "outputs": [
    {
     "name": "stdout",
     "output_type": "stream",
     "text": [
      "number of GPUs available: 5\n",
      "cuda:0, name:GeForce GTX 1080 Ti\n",
      "total memory available: 10.91650390625 GB\n",
      "total memory allocated on device: 0.0 GB\n",
      "max memory allocated on device: 0.0 GB\n",
      "total memory cached on device: 0.0 GB\n",
      "max memory cached  on device: 0.0 GB\n",
      "\n",
      "cuda:1, name:GeForce GTX 1080 Ti\n",
      "total memory available: 10.91650390625 GB\n",
      "total memory allocated on device: 0.0 GB\n",
      "max memory allocated on device: 0.0 GB\n",
      "total memory cached on device: 0.0 GB\n",
      "max memory cached  on device: 0.0 GB\n",
      "\n",
      "cuda:2, name:GeForce GTX 1080 Ti\n",
      "total memory available: 10.91650390625 GB\n",
      "total memory allocated on device: 0.0 GB\n",
      "max memory allocated on device: 0.0 GB\n",
      "total memory cached on device: 0.0 GB\n",
      "max memory cached  on device: 0.0 GB\n",
      "\n",
      "cuda:3, name:GeForce GTX 1080 Ti\n",
      "total memory available: 10.91650390625 GB\n",
      "total memory allocated on device: 0.0 GB\n",
      "max memory allocated on device: 0.0 GB\n",
      "total memory cached on device: 0.0 GB\n",
      "max memory cached  on device: 0.0 GB\n",
      "\n",
      "cuda:4, name:GeForce GTX 1080 Ti\n",
      "total memory available: 10.91650390625 GB\n",
      "total memory allocated on device: 0.0 GB\n",
      "max memory allocated on device: 0.0 GB\n",
      "total memory cached on device: 0.0 GB\n",
      "max memory cached  on device: 0.0 GB\n",
      "\n"
     ]
    }
   ],
   "source": [
    "report_available_cuda_devices()"
   ]
  },
  {
   "cell_type": "code",
   "execution_count": 10,
   "metadata": {},
   "outputs": [
    {
     "data": {
      "text/plain": [
       "5"
      ]
     },
     "execution_count": 10,
     "metadata": {},
     "output_type": "execute_result"
    }
   ],
   "source": [
    "n_gpu = torch.cuda.device_count()\n",
    "n_gpu"
   ]
  },
  {
   "cell_type": "code",
   "execution_count": 11,
   "metadata": {},
   "outputs": [],
   "source": [
    "device_cpu = get_device(to_gpu=False)\n",
    "# device_gpu = get_device(True, index=0)\n",
    "\n",
    "# fdtype = torch.float32"
   ]
  },
  {
   "cell_type": "code",
   "execution_count": 12,
   "metadata": {},
   "outputs": [
    {
     "name": "stdout",
     "output_type": "stream",
     "text": [
      "torch: 1.9.1\n",
      "CUDA: 11.1\n",
      "3.9.9 | packaged by conda-forge | (main, Dec 20 2021, 02:41:03) \n",
      "[GCC 9.4.0]\n"
     ]
    }
   ],
   "source": [
    "print(\"torch:\", torch.__version__)\n",
    "print(\"CUDA:\", torch.version.cuda)\n",
    "print(sys.version)"
   ]
  },
  {
   "cell_type": "code",
   "execution_count": 13,
   "metadata": {},
   "outputs": [],
   "source": [
    "# print(torch.cuda.memory_summary(device=device_gpu))"
   ]
  },
  {
   "cell_type": "markdown",
   "metadata": {},
   "source": [
    "### Preparing dataset "
   ]
  },
  {
   "cell_type": "code",
   "execution_count": 14,
   "metadata": {},
   "outputs": [],
   "source": [
    "score = 'zip_thresh'\n",
    "score_val = 1"
   ]
  },
  {
   "cell_type": "code",
   "execution_count": 15,
   "metadata": {},
   "outputs": [],
   "source": [
    "# TDC Tox\n",
    "# DSdataset_name = 'SynergxZloewe' #'OncoPolyPharmacology' #'DrugComb'\n",
    "DSdataset_name = f'DrugComb_{score}_{score_val}' #'DrugComb'\n",
    "\n",
    "\n",
    "#fname_suffix = ds_config[\"fname_suffix\"]\n",
    "# similarity_types = ['chem']\n",
    "# kernel_option = 'sqeuclidean'\n",
    "data_fname = 'data_v1'\n",
    "# interact_matfname = ds_config[\"interact_matfname\"]\n",
    "# exp_iden = 'simtypeall'\n",
    "# ddi_interaction_labels_pth = ds_config[\"ddi_interaction_labels_pth\"]\n",
    "\n",
    "# up_dir, processed_dir, DSdataset_name, data_fname"
   ]
  },
  {
   "cell_type": "code",
   "execution_count": 16,
   "metadata": {
    "scrolled": true
   },
   "outputs": [
    {
     "name": "stdout",
     "output_type": "stream",
     "text": [
      "path_current_dir /cluster/home/skyriakos/chemprop_run/git/deepadr\n",
      "path_current_dir /cluster/home/skyriakos/chemprop_run/git/deepadr\n",
      "path_current_dir /cluster/home/skyriakos/chemprop_run/git/deepadr\n",
      "path_current_dir /cluster/home/skyriakos/chemprop_run/git/deepadr\n",
      "/cluster/home/skyriakos/chemprop_run/git/data/processed/DrugComb_zip_thresh_1/data_v1\n"
     ]
    }
   ],
   "source": [
    "targetdata_dir = create_directory(os.path.join(processed_dir, DSdataset_name, data_fname))\n",
    "targetdata_dir_raw = create_directory(os.path.join(targetdata_dir, \"raw\"))\n",
    "targetdata_dir_processed = create_directory(os.path.join(targetdata_dir, \"processed\"))\n",
    "targetdata_dir_exp = create_directory(os.path.join(targetdata_dir, \"experiments\"))\n",
    "# # ReaderWriter.dump_data(dpartitions, os.path.join(targetdata_dir, 'data_partitions.pkl'))\n",
    "print(targetdata_dir)"
   ]
  },
  {
   "cell_type": "code",
   "execution_count": 17,
   "metadata": {},
   "outputs": [
    {
     "name": "stdout",
     "output_type": "stream",
     "text": [
      "CPU times: user 1.78 ms, sys: 766 ms, total: 767 ms\n",
      "Wall time: 1.45 s\n"
     ]
    }
   ],
   "source": [
    "%%time\n",
    "\n",
    "# Make sure to first run the \"data_generation\" notebook first\n",
    "\n",
    "dataset = MoleculeDataset(root=targetdata_dir)"
   ]
  },
  {
   "cell_type": "code",
   "execution_count": 18,
   "metadata": {},
   "outputs": [],
   "source": [
    "# print()\n",
    "# print(f'Dataset: {dataset}:')\n",
    "# print('====================')\n",
    "# print(f'Number of graphs: {len(dataset)}')\n",
    "# print(f'Number of features: {dataset.num_features}')\n",
    "# print(f'Number of classes: {dataset.num_classes}')\n",
    "\n",
    "# # data0 = dataset[0]  # Get the first graph object.\n",
    "\n",
    "# # print()\n",
    "# # print(data)\n",
    "# # print('=============================================================')\n",
    "\n",
    "# # # Gather some statistics about the first graph.\n",
    "# # print(f'Number of nodes: {data.num_nodes}')\n",
    "# # print(f'Number of edges: {data.num_edges}')\n",
    "# # print(f'Average node degree: {data.num_edges / data.num_nodes:.2f}')\n",
    "# # print(f'Contains isolated nodes: {data.contains_isolated_nodes()}')\n",
    "# # print(f'Contains self-loops: {data.contains_self_loops()}')\n",
    "# # print(f'Is undirected: {data.is_undirected()}')"
   ]
  },
  {
   "cell_type": "code",
   "execution_count": 19,
   "metadata": {
    "scrolled": true
   },
   "outputs": [],
   "source": [
    "# data0"
   ]
  },
  {
   "cell_type": "code",
   "execution_count": 20,
   "metadata": {},
   "outputs": [],
   "source": [
    "# data0.expression.shape"
   ]
  },
  {
   "cell_type": "code",
   "execution_count": 21,
   "metadata": {},
   "outputs": [],
   "source": [
    "# data0.y"
   ]
  },
  {
   "cell_type": "code",
   "execution_count": 22,
   "metadata": {},
   "outputs": [],
   "source": [
    "# dataset.tensors[1]"
   ]
  },
  {
   "cell_type": "code",
   "execution_count": 23,
   "metadata": {},
   "outputs": [],
   "source": [
    "# used_dataset = dataset\n",
    "\n",
    "# If you want to use a smaller subset of the dataset for testing\n",
    "# smaller_dataset_len = int(len(dataset)/1)\n",
    "# used_dataset = dataset[:smaller_dataset_len]"
   ]
  },
  {
   "cell_type": "code",
   "execution_count": 24,
   "metadata": {},
   "outputs": [],
   "source": [
    "# type(used_dataset)"
   ]
  },
  {
   "cell_type": "code",
   "execution_count": 25,
   "metadata": {},
   "outputs": [
    {
     "data": {
      "text/plain": [
       "tensor([0, 1, 0,  ..., 1, 1, 0], dtype=torch.int32)"
      ]
     },
     "execution_count": 25,
     "metadata": {},
     "output_type": "execute_result"
    }
   ],
   "source": [
    "dataset.data.y"
   ]
  },
  {
   "cell_type": "code",
   "execution_count": 26,
   "metadata": {
    "scrolled": true
   },
   "outputs": [
    {
     "name": "stdout",
     "output_type": "stream",
     "text": [
      "fold_num: 0\n",
      "train data\n",
      "class: 0 norm count: 0.46993238495291934\n",
      "class: 1 norm count: 0.5300676150470807\n",
      "validation data\n",
      "class: 0 norm count: 0.46992692523889823\n",
      "class: 1 norm count: 0.5300730747611018\n",
      "test data\n",
      "class: 0 norm count: 0.46995334195289223\n",
      "class: 1 norm count: 0.5300466580471077\n",
      "\n",
      "-------------------------\n",
      "fold_num: 1\n",
      "train data\n",
      "class: 0 norm count: 0.46993238495291934\n",
      "class: 1 norm count: 0.5300676150470807\n",
      "validation data\n",
      "class: 0 norm count: 0.46992692523889823\n",
      "class: 1 norm count: 0.5300730747611018\n",
      "test data\n",
      "class: 0 norm count: 0.46995334195289223\n",
      "class: 1 norm count: 0.5300466580471077\n",
      "\n",
      "-------------------------\n",
      "fold_num: 2\n",
      "train data\n",
      "class: 0 norm count: 0.46993238495291934\n",
      "class: 1 norm count: 0.5300676150470807\n",
      "validation data\n",
      "class: 0 norm count: 0.46992692523889823\n",
      "class: 1 norm count: 0.5300730747611018\n",
      "test data\n",
      "class: 0 norm count: 0.46995334195289223\n",
      "class: 1 norm count: 0.5300466580471077\n",
      "\n",
      "-------------------------\n",
      "fold_num: 3\n",
      "train data\n",
      "class: 0 norm count: 0.46994800043723356\n",
      "class: 1 norm count: 0.5300519995627664\n",
      "validation data\n",
      "class: 0 norm count: 0.46992692523889823\n",
      "class: 1 norm count: 0.5300730747611018\n",
      "test data\n",
      "class: 0 norm count: 0.4698971274383046\n",
      "class: 1 norm count: 0.5301028725616954\n",
      "\n",
      "-------------------------\n",
      "fold_num: 4\n",
      "train data\n",
      "class: 0 norm count: 0.4699406620861961\n",
      "class: 1 norm count: 0.5300593379138039\n",
      "validation data\n",
      "class: 0 norm count: 0.46992692523889823\n",
      "class: 1 norm count: 0.5300730747611018\n",
      "test data\n",
      "class: 0 norm count: 0.46992354396222175\n",
      "class: 1 norm count: 0.5300764560377783\n",
      "\n",
      "-------------------------\n"
     ]
    }
   ],
   "source": [
    "fold_partitions = get_stratified_partitions(dataset.data.y,\n",
    "                                            num_folds=5,\n",
    "                                            valid_set_portion=0.1,\n",
    "                                            random_state=42)"
   ]
  },
  {
   "cell_type": "code",
   "execution_count": 27,
   "metadata": {},
   "outputs": [],
   "source": [
    "# train_val_test_frac = [0.7, 0.1, 0.2]\n",
    "# assert sum(train_val_test_frac) == 1\n",
    "\n",
    "# torch.manual_seed(42)\n",
    "# used_dataset = used_dataset.shuffle()\n",
    "\n",
    "# num_train = round(train_val_test_frac[0] * len(used_dataset)) \n",
    "# num_trainval = round((train_val_test_frac[0]+train_val_test_frac[1]) * len(used_dataset))\n",
    "\n",
    "# train_dataset = used_dataset[:num_train]\n",
    "# val_dataset = used_dataset[num_train:num_trainval]\n",
    "# test_dataset = used_dataset[num_trainval:]"
   ]
  },
  {
   "cell_type": "code",
   "execution_count": 28,
   "metadata": {},
   "outputs": [],
   "source": [
    "# train_dataset = Subset(used_dataset, fold_partitions[0]['train'])\n",
    "# val_dataset = Subset(used_dataset, fold_partitions[0]['validation'])\n",
    "# test_dataset = Subset(used_dataset, fold_partitions[0]['test'])"
   ]
  },
  {
   "cell_type": "code",
   "execution_count": 29,
   "metadata": {},
   "outputs": [],
   "source": [
    "# print(f'Number of training graphs: {len(train_dataset)}')\n",
    "# print(f'Number of val graphs: {len(val_dataset)}')\n",
    "# print(f'Number of test graphs: {len(test_dataset)}')"
   ]
  },
  {
   "cell_type": "code",
   "execution_count": 30,
   "metadata": {},
   "outputs": [
    {
     "name": "stdout",
     "output_type": "stream",
     "text": [
      "Number of training graphs: 64039\n",
      "Number of validation graphs: 7116\n",
      "Number of testing graphs: 17789\n"
     ]
    }
   ],
   "source": [
    "print(\"Number of training graphs: \"+ str(len(fold_partitions[0]['train'])))\n",
    "print(\"Number of validation graphs: \"+ str(len(fold_partitions[0]['validation'])))\n",
    "print(\"Number of testing graphs: \"+ str(len(fold_partitions[0]['test'])))\n"
   ]
  },
  {
   "cell_type": "code",
   "execution_count": 31,
   "metadata": {},
   "outputs": [],
   "source": [
    "# print(dataset.num_classes)"
   ]
  },
  {
   "cell_type": "code",
   "execution_count": 32,
   "metadata": {},
   "outputs": [],
   "source": [
    "# # training params total_thresh 4\n",
    "# tp = {\n",
    "#     \"batch_size\" : 300,\n",
    "#     \"num_epochs\" : 30,\n",
    "    \n",
    "#     \"emb_dim\" : 300,\n",
    "#     \"gnn_type\" : \"gatv2\",\n",
    "#     \"num_layer\" : 5,\n",
    "#     \"graph_pooling\" : \"mean\", #attention\n",
    "    \n",
    "#     \"input_embed_dim\" : None,\n",
    "#     \"gene_embed_dim\": 1,\n",
    "#     \"num_attn_heads\" : 2,\n",
    "#     \"num_transformer_units\" : 1,\n",
    "#     \"p_dropout\" : 0.3,\n",
    "# #     \"nonlin_func\" : nn.ReLU(),\n",
    "#     \"mlp_embed_factor\" : 2,\n",
    "#     \"pooling_mode\" : 'attn',\n",
    "#     \"dist_opt\" : 'cosine',\n",
    "\n",
    "#     \"base_lr\" : 3e-5, #3e-4\n",
    "#     \"max_lr_mul\": 15,\n",
    "#     \"l2_reg\" : 1e-7,\n",
    "#     \"loss_w\" : 0.95,\n",
    "#     \"margin_v\" : 1.,\n",
    "\n",
    "#     \"expression_dim\" : 64,\n",
    "#     \"expression_input_size\" : 908,\n",
    "#     \"exp_H1\" : 500,\n",
    "#     \"exp_H2\" : 400\n",
    "# }"
   ]
  },
  {
   "cell_type": "code",
   "execution_count": 33,
   "metadata": {},
   "outputs": [],
   "source": [
    "tp = {\n",
    "    \"batch_size\" : 300,\n",
    "    \"num_epochs\" : 100,\n",
    "    \n",
    "    \"emb_dim\" : 100,\n",
    "    \"gnn_type\" : \"gatv2\",\n",
    "    \"num_layer\" : 5,\n",
    "    \"graph_pooling\" : \"mean\", #attention\n",
    "    \n",
    "    \"input_embed_dim\" : None,\n",
    "    \"gene_embed_dim\": 1,\n",
    "    \"num_attn_heads\" : 2,\n",
    "    \"num_transformer_units\" : 1,\n",
    "    \"p_dropout\" : 0.3,\n",
    "#     \"nonlin_func\" : nn.ReLU(),\n",
    "    \"mlp_embed_factor\" : 2,\n",
    "    \"pooling_mode\" : 'attn',\n",
    "    \"dist_opt\" : 'cosine',\n",
    "\n",
    "    \"base_lr\" : 3e-4, #3e-4\n",
    "    \"max_lr_mul\": 10,\n",
    "    \"l2_reg\" : 1e-7,\n",
    "    \"loss_w\" : 1.,\n",
    "    \"margin_v\" : 1.,\n",
    "\n",
    "    \"expression_dim\" : 64,\n",
    "    \"expression_input_size\" : 908,\n",
    "    \"exp_H1\" : 4096,\n",
    "    \"exp_H2\" : 1024\n",
    "}"
   ]
  },
  {
   "cell_type": "code",
   "execution_count": 34,
   "metadata": {},
   "outputs": [],
   "source": [
    "# # training params total_thresh 3\n",
    "# tp = {\n",
    "#     \"batch_size\" : 300,\n",
    "#     \"num_epochs\" : 200,\n",
    "    \n",
    "#     \"emb_dim\" : 300,\n",
    "#     \"gnn_type\" : \"gatv2\",\n",
    "#     \"num_layer\" : 5,\n",
    "#     \"graph_pooling\" : \"mean\", #attention\n",
    "    \n",
    "#     \"input_embed_dim\" : None,\n",
    "#     \"gene_embed_dim\": 1,\n",
    "#     \"num_attn_heads\" : 2,\n",
    "#     \"num_transformer_units\" : 1,\n",
    "#     \"p_dropout\" : 0.3,\n",
    "# #     \"nonlin_func\" : nn.ReLU(),\n",
    "#     \"mlp_embed_factor\" : 2,\n",
    "#     \"pooling_mode\" : 'attn',\n",
    "#     \"dist_opt\" : 'cosine',\n",
    "\n",
    "#     \"base_lr\" : 3e-5, #3e-4\n",
    "#     \"max_lr_mul\": 10,\n",
    "#     \"l2_reg\" : 1e-8,\n",
    "#     \"loss_w\" : 0.3,\n",
    "#     \"margin_v\" : 1.,\n",
    "\n",
    "#     \"expression_dim\" : 64,\n",
    "#     \"expression_input_size\" : 908,\n",
    "#     \"exp_H1\" : 500,\n",
    "#     \"exp_H2\" : 400\n",
    "# }"
   ]
  },
  {
   "cell_type": "code",
   "execution_count": 35,
   "metadata": {},
   "outputs": [],
   "source": [
    "# targetdata_dir_exp = create_directory(os.path.join(targetdata_dir, \"experiments\"))\n",
    "# targetdata_dir_exp"
   ]
  },
  {
   "cell_type": "code",
   "execution_count": 36,
   "metadata": {},
   "outputs": [],
   "source": [
    "# device_gpu = get_device(True, index=0)\n",
    "# exp_dir = create_directory(os.path.join(targetdata_dir_exp, \"exp0\"))\n",
    "# tphp = generate_tp_hp(tp, hyperparam_space[0], hp_names)\n",
    "# partition = fold_partitions[0]"
   ]
  },
  {
   "cell_type": "code",
   "execution_count": 37,
   "metadata": {},
   "outputs": [],
   "source": [
    "# run_exp(tphp, device_gpu, exp_dir,partition=fold_partitions[0], used_dataset=used_dataset)"
   ]
  },
  {
   "cell_type": "code",
   "execution_count": 38,
   "metadata": {},
   "outputs": [],
   "source": [
    "def spawn_q_process(q_process):\n",
    "    print(\">>> spawning hyperparam search process\")\n",
    "    q_process.start()\n",
    "    \n",
    "def join_q_process(q_process):\n",
    "    q_process.join()\n",
    "    print(\"<<< joined hyperparam search process\")\n",
    "    \n",
    "def create_q_process(queue, used_dataset, gpu_num, tphp, exp_dir, partition): #\n",
    "#     fold_gpu_map = {0:gpu_num}\n",
    "    return mp.Process(target=deepadr.hyphelperv2.run_exp, args=(queue, used_dataset, gpu_num, tphp, exp_dir, partition)) #"
   ]
  },
  {
   "cell_type": "code",
   "execution_count": 39,
   "metadata": {
    "scrolled": true
   },
   "outputs": [
    {
     "name": "stdout",
     "output_type": "stream",
     "text": [
      "Start: 2022-03-31_15-28-25\n",
      "path_current_dir /cluster/home/skyriakos/chemprop_run/git/deepadr\n",
      "path_current_dir /cluster/home/skyriakos/chemprop_run/git/deepadr\n",
      ">>> spawning hyperparam search process\n",
      "path_current_dir /cluster/home/skyriakos/chemprop_run/git/deepadr\n",
      "path_current_dir /cluster/home/skyriakos/chemprop_run/git/deepadr\n",
      ">>> spawning hyperparam search process\n",
      "gpu: cuda:0\n",
      "Dropout(p=0.3, inplace=False) Dropout(p=0.3, inplace=False)\n",
      "=====Epoch 0\n",
      "Training...\n"
     ]
    },
    {
     "name": "stderr",
     "output_type": "stream",
     "text": [
      "\r",
      "Iteration:   0%|          | 0/214 [00:00<?, ?it/s]"
     ]
    },
    {
     "name": "stdout",
     "output_type": "stream",
     "text": [
      "path_current_dir /cluster/home/skyriakos/chemprop_run/git/deepadr\n",
      "path_current_dir /cluster/home/skyriakos/chemprop_run/git/deepadr\n",
      ">>> spawning hyperparam search process\n"
     ]
    },
    {
     "name": "stderr",
     "output_type": "stream",
     "text": [
      "\r",
      "Iteration:   0%|          | 1/214 [00:02<07:59,  2.25s/it]"
     ]
    },
    {
     "name": "stdout",
     "output_type": "stream",
     "text": [
      "gpu: cuda:1\n",
      "Dropout(p=0.3, inplace=False) Dropout(p=0.3, inplace=False)\n",
      "=====Epoch 0\n",
      "Training...\n"
     ]
    },
    {
     "name": "stderr",
     "output_type": "stream",
     "text": [
      "Iteration:   1%|          | 2/214 [00:04<07:12,  2.04s/it]"
     ]
    },
    {
     "name": "stdout",
     "output_type": "stream",
     "text": [
      "path_current_dir /cluster/home/skyriakos/chemprop_run/git/deepadr\n",
      "path_current_dir /cluster/home/skyriakos/chemprop_run/git/deepadr\n",
      ">>> spawning hyperparam search process\n"
     ]
    },
    {
     "name": "stderr",
     "output_type": "stream",
     "text": [
      "\r",
      "Iteration:   0%|          | 1/214 [00:02<07:40,  2.16s/it]\r",
      "Iteration:   1%|▏         | 3/214 [00:05<06:46,  1.93s/it]"
     ]
    },
    {
     "name": "stdout",
     "output_type": "stream",
     "text": [
      "gpu: cuda:2\n",
      "Dropout(p=0.3, inplace=False) Dropout(p=0.3, inplace=False)\n",
      "=====Epoch 0\n",
      "Training...\n"
     ]
    },
    {
     "name": "stderr",
     "output_type": "stream",
     "text": [
      "Iteration:   1%|          | 2/214 [00:04<07:11,  2.04s/it]"
     ]
    },
    {
     "name": "stdout",
     "output_type": "stream",
     "text": [
      "path_current_dir /cluster/home/skyriakos/chemprop_run/git/deepadr\n",
      "path_current_dir /cluster/home/skyriakos/chemprop_run/git/deepadr\n",
      ">>> spawning hyperparam search process\n"
     ]
    },
    {
     "name": "stderr",
     "output_type": "stream",
     "text": [
      "\r",
      "Iteration:   2%|▏         | 5/214 [00:09<06:17,  1.80s/it]\r",
      "Iteration:   1%|▏         | 3/214 [00:05<06:40,  1.90s/it]\r",
      "Iteration:   0%|          | 1/214 [00:02<08:22,  2.36s/it]"
     ]
    },
    {
     "name": "stdout",
     "output_type": "stream",
     "text": [
      "gpu: cuda:3\n",
      "Dropout(p=0.3, inplace=False) Dropout(p=0.3, inplace=False)\n",
      "=====Epoch 0\n",
      "Training...\n"
     ]
    },
    {
     "name": "stderr",
     "output_type": "stream",
     "text": [
      "Iteration:   1%|▏         | 3/214 [00:05<06:37,  1.88s/it]"
     ]
    },
    {
     "name": "stdout",
     "output_type": "stream",
     "text": [
      "gpu: cuda:4\n",
      "Dropout(p=0.3, inplace=False) Dropout(p=0.3, inplace=False)\n",
      "=====Epoch 0\n",
      "Training...\n"
     ]
    },
    {
     "name": "stderr",
     "output_type": "stream",
     "text": [
      "Iteration: 100%|██████████| 214/214 [00:43<00:00,  4.95it/s]\n",
      "Iteration:  59%|█████▉    | 127/214 [00:32<00:10,  8.49it/s]"
     ]
    },
    {
     "name": "stdout",
     "output_type": "stream",
     "text": [
      "Evaluating...\n"
     ]
    },
    {
     "name": "stderr",
     "output_type": "stream",
     "text": [
      "Iteration: 100%|██████████| 214/214 [00:43<00:00,  4.96it/s]\n",
      "Iteration:   1%|          | 2/214 [00:00<00:11, 18.80it/s]s]"
     ]
    },
    {
     "name": "stdout",
     "output_type": "stream",
     "text": [
      "Evaluating...\n"
     ]
    },
    {
     "name": "stderr",
     "output_type": "stream",
     "text": [
      "Iteration: 100%|██████████| 214/214 [00:43<00:00,  4.90it/s]\n",
      "Iteration:  40%|████      | 86/214 [00:04<00:06, 21.22it/s]]"
     ]
    },
    {
     "name": "stdout",
     "output_type": "stream",
     "text": [
      "Evaluating...\n"
     ]
    },
    {
     "name": "stderr",
     "output_type": "stream",
     "text": [
      "Iteration: 100%|██████████| 214/214 [00:09<00:00, 22.25it/s]\n",
      "Iteration: 100%|██████████| 214/214 [00:43<00:00,  4.94it/s]\n",
      "Iteration:  13%|█▎        | 8/60 [00:00<00:04, 12.12it/s]/s]"
     ]
    },
    {
     "name": "stdout",
     "output_type": "stream",
     "text": [
      "Evaluating...\n"
     ]
    },
    {
     "name": "stderr",
     "output_type": "stream",
     "text": [
      "Iteration: 100%|██████████| 214/214 [00:09<00:00, 21.45it/s]\n",
      "Iteration: 100%|██████████| 214/214 [00:43<00:00,  4.89it/s]\n",
      "Iteration:  40%|████      | 86/214 [00:04<00:05, 21.51it/s]]"
     ]
    },
    {
     "name": "stdout",
     "output_type": "stream",
     "text": [
      "Evaluating...\n"
     ]
    },
    {
     "name": "stderr",
     "output_type": "stream",
     "text": [
      "Iteration: 100%|██████████| 60/60 [00:05<00:00, 11.67it/s]]]\n",
      "Iteration: 100%|██████████| 214/214 [00:09<00:00, 22.04it/s]\n",
      "Iteration: 100%|██████████| 60/60 [00:05<00:00, 11.85it/s]]]\n",
      "Iteration: 100%|██████████| 214/214 [00:09<00:00, 21.41it/s]\n",
      "Iteration: 100%|██████████| 60/60 [00:05<00:00, 11.61it/s]s]\n",
      "Iteration: 100%|██████████| 214/214 [00:09<00:00, 21.63it/s]\n",
      "Iteration: 100%|██████████| 60/60 [00:05<00:00, 11.58it/s]\n",
      "Iteration: 100%|██████████| 60/60 [00:05<00:00, 11.50it/s]\n",
      "Iteration: 100%|██████████| 24/24 [00:02<00:00, 10.26it/s]\n",
      "Iteration:   0%|          | 0/214 [00:00<?, ?it/s]"
     ]
    },
    {
     "name": "stdout",
     "output_type": "stream",
     "text": [
      "{'Train':  best_epoch_indx:0\n",
      " auc:0.702999077873373 \n",
      " apur:0.7083568007906911 \n",
      " f1:0.717856404393252 \n",
      " precision:0.6113274776267815 \n",
      " recall:0.8693474738547651 \n",
      ", 'Validation':  best_epoch_indx:0\n",
      " auc:0.6999816388194047 \n",
      " apur:0.7057000740002322 \n",
      " f1:0.7161515019590771 \n",
      " precision:0.6074593796159528 \n",
      " recall:0.8722163308589608 \n",
      ", 'Test':  best_epoch_indx:0\n",
      " auc:0.6979602339012139 \n",
      " apur:0.7033373406968687 \n",
      " f1:0.7154108689944868 \n",
      " precision:0.6089385474860335 \n",
      " recall:0.8670060451797645 \n",
      "}\n",
      "=====Epoch 1\n",
      "Training...\n"
     ]
    },
    {
     "name": "stderr",
     "output_type": "stream",
     "text": [
      "Iteration: 100%|██████████| 24/24 [00:02<00:00,  9.40it/s]]\n",
      "Iteration:  22%|██▏       | 48/214 [00:03<00:13, 12.46it/s]"
     ]
    },
    {
     "name": "stdout",
     "output_type": "stream",
     "text": [
      "{'Train':  best_epoch_indx:0\n",
      " auc:0.6977124463052544 \n",
      " apur:0.6984265482614699 \n",
      " f1:0.7179402697041726 \n",
      " precision:0.597723220408723 \n",
      " recall:0.8986890558256002 \n",
      ", 'Validation':  best_epoch_indx:0\n",
      " auc:0.7006379558900383 \n",
      " apur:0.7014517435540459 \n",
      " f1:0.7195845697329376 \n",
      " precision:0.5993997175141242 \n",
      " recall:0.9000530222693531 \n",
      ", 'Test':  best_epoch_indx:0\n",
      " auc:0.7068408772488013 \n",
      " apur:0.7137884867064876 \n",
      " f1:0.715354380626347 \n",
      " precision:0.59464586846543 \n",
      " recall:0.8975501113585747 \n",
      "}\n",
      "=====Epoch 1\n",
      "Training...\n"
     ]
    },
    {
     "name": "stderr",
     "output_type": "stream",
     "text": [
      "Iteration: 100%|██████████| 24/24 [00:02<00:00,  9.43it/s]]\n",
      "Iteration:   0%|          | 0/214 [00:00<?, ?it/s]2.17it/s]"
     ]
    },
    {
     "name": "stdout",
     "output_type": "stream",
     "text": [
      "{'Train':  best_epoch_indx:0\n",
      " auc:0.7000972374251551 \n",
      " apur:0.7145193337660967 \n",
      " f1:0.5896397941680961 \n",
      " precision:0.7057277766372408 \n",
      " recall:0.5063485049344528 \n",
      ", 'Validation':  best_epoch_indx:0\n",
      " auc:0.7036242639671819 \n",
      " apur:0.7210709428290636 \n",
      " f1:0.5992014742014742 \n",
      " precision:0.712043795620438 \n",
      " recall:0.5172322375397667 \n",
      ", 'Test':  best_epoch_indx:0\n",
      " auc:0.6934320705083218 \n",
      " apur:0.7067150824849308 \n",
      " f1:0.5831328274415448 \n",
      " precision:0.6970501474926254 \n",
      " recall:0.5012196415314455 \n",
      "}\n",
      "=====Epoch 1\n",
      "Training...\n"
     ]
    },
    {
     "name": "stderr",
     "output_type": "stream",
     "text": [
      "Iteration: 100%|██████████| 24/24 [00:02<00:00, 10.23it/s]]]\n",
      "Iteration:  65%|██████▌   | 140/214 [00:11<00:05, 12.51it/s]"
     ]
    },
    {
     "name": "stdout",
     "output_type": "stream",
     "text": [
      "{'Train':  best_epoch_indx:0\n",
      " auc:0.7087794025808054 \n",
      " apur:0.7221618118413149 \n",
      " f1:0.5818782278747847 \n",
      " precision:0.7206509442172134 \n",
      " recall:0.48792128211171343 \n",
      ", 'Validation':  best_epoch_indx:0\n",
      " auc:0.7031147332776896 \n",
      " apur:0.720641208919864 \n",
      " f1:0.5709728867623604 \n",
      " precision:0.7165732586068855 \n",
      " recall:0.4745493107104984 \n",
      ", 'Test':  best_epoch_indx:0\n",
      " auc:0.6960976650030314 \n",
      " apur:0.7101689411702932 \n",
      " f1:0.5654330408241129 \n",
      " precision:0.7061626429479034 \n",
      " recall:0.47147401908801695 \n",
      "}\n",
      "=====Epoch 1\n",
      "Training...\n"
     ]
    },
    {
     "name": "stderr",
     "output_type": "stream",
     "text": [
      "Iteration: 100%|██████████| 24/24 [00:02<00:00,  9.97it/s]]]\n",
      "Iteration:  88%|████████▊ | 188/214 [00:15<00:02, 12.44it/s]"
     ]
    },
    {
     "name": "stdout",
     "output_type": "stream",
     "text": [
      "{'Train':  best_epoch_indx:0\n",
      " auc:0.7093676358639532 \n",
      " apur:0.719499529130686 \n",
      " f1:0.582651735879524 \n",
      " precision:0.7207434104824352 \n",
      " recall:0.4889674473412874 \n",
      ", 'Validation':  best_epoch_indx:0\n",
      " auc:0.7021152539868181 \n",
      " apur:0.7113283349071791 \n",
      " f1:0.5719253872905469 \n",
      " precision:0.7083007047768207 \n",
      " recall:0.4795864262990456 \n",
      ", 'Test':  best_epoch_indx:0\n",
      " auc:0.7056268855463195 \n",
      " apur:0.7182012044949116 \n",
      " f1:0.5792509030990557 \n",
      " precision:0.7196850393700788 \n",
      " recall:0.4846749390179234 \n",
      "}\n",
      "=====Epoch 1\n",
      "Training...\n"
     ]
    },
    {
     "name": "stderr",
     "output_type": "stream",
     "text": [
      "Iteration: 100%|██████████| 214/214 [00:17<00:00, 12.29it/s]\n",
      "Iteration:  35%|███▍      | 74/214 [00:06<00:12, 11.48it/s]]"
     ]
    },
    {
     "name": "stdout",
     "output_type": "stream",
     "text": [
      "Evaluating...\n"
     ]
    },
    {
     "name": "stderr",
     "output_type": "stream",
     "text": [
      "Iteration: 100%|██████████| 214/214 [00:17<00:00, 12.26it/s]\n",
      "Iteration:  36%|███▌      | 76/214 [00:06<00:11, 12.54it/s]]"
     ]
    },
    {
     "name": "stdout",
     "output_type": "stream",
     "text": [
      "Evaluating...\n"
     ]
    },
    {
     "name": "stderr",
     "output_type": "stream",
     "text": [
      "Iteration: 100%|██████████| 214/214 [00:17<00:00, 12.20it/s]\n",
      "Iteration:  81%|████████▏ | 174/214 [00:08<00:01, 21.93it/s]"
     ]
    },
    {
     "name": "stdout",
     "output_type": "stream",
     "text": [
      "Evaluating...\n"
     ]
    },
    {
     "name": "stderr",
     "output_type": "stream",
     "text": [
      "Iteration: 100%|██████████| 214/214 [00:09<00:00, 21.44it/s]\n",
      "Iteration: 100%|██████████| 214/214 [00:17<00:00, 12.24it/s]\n",
      "Iteration:   1%|▏         | 3/214 [00:00<00:10, 20.97it/s]s]"
     ]
    },
    {
     "name": "stdout",
     "output_type": "stream",
     "text": [
      "Evaluating...\n"
     ]
    },
    {
     "name": "stderr",
     "output_type": "stream",
     "text": [
      "Iteration: 100%|██████████| 60/60 [00:02<00:00, 22.52it/s]s]\n",
      "Iteration: 100%|██████████| 214/214 [00:09<00:00, 22.04it/s]\n",
      "Iteration: 100%|██████████| 214/214 [00:17<00:00, 12.42it/s]\n",
      "Iteration:   1%|▏         | 3/214 [00:00<00:10, 20.73it/s]]]"
     ]
    },
    {
     "name": "stdout",
     "output_type": "stream",
     "text": [
      "Evaluating...\n"
     ]
    },
    {
     "name": "stderr",
     "output_type": "stream",
     "text": [
      "Iteration: 100%|██████████| 60/60 [00:02<00:00, 22.03it/s]]]\n",
      "Iteration: 100%|██████████| 214/214 [00:09<00:00, 22.05it/s]\n",
      "Iteration: 100%|██████████| 60/60 [00:02<00:00, 22.30it/s]s]\n",
      "Iteration: 100%|██████████| 214/214 [00:09<00:00, 21.78it/s]\n",
      "Iteration: 100%|██████████| 60/60 [00:02<00:00, 21.94it/s]s]\n",
      "Iteration: 100%|██████████| 214/214 [00:09<00:00, 21.74it/s]\n",
      "Iteration: 100%|██████████| 60/60 [00:02<00:00, 21.82it/s]\n",
      "Iteration: 100%|██████████| 24/24 [00:01<00:00, 21.39it/s]\n",
      "Iteration:   0%|          | 0/214 [00:00<?, ?it/s]"
     ]
    },
    {
     "name": "stdout",
     "output_type": "stream",
     "text": [
      "{'Train':  best_epoch_indx:1\n",
      " auc:0.7330027337233305 \n",
      " apur:0.7336824802293146 \n",
      " f1:0.7310094445008631 \n",
      " precision:0.6422564743146484 \n",
      " recall:0.8482250699661217 \n",
      ", 'Validation':  best_epoch_indx:1\n",
      " auc:0.731079144299218 \n",
      " apur:0.7303079712211049 \n",
      " f1:0.7282460136674258 \n",
      " precision:0.6383785942492013 \n",
      " recall:0.8475609756097561 \n",
      ", 'Test':  best_epoch_indx:1\n",
      " auc:0.7276122389898618 \n",
      " apur:0.7288417926303912 \n",
      " f1:0.7251456622470982 \n",
      " precision:0.6389877102199224 \n",
      " recall:0.838158871566444 \n",
      "}\n",
      "=====Epoch 2\n",
      "Training...\n"
     ]
    },
    {
     "name": "stderr",
     "output_type": "stream",
     "text": [
      "Iteration: 100%|██████████| 24/24 [00:01<00:00, 19.56it/s]]\n",
      "Iteration:   1%|          | 2/214 [00:00<00:18, 11.36it/s]]"
     ]
    },
    {
     "name": "stdout",
     "output_type": "stream",
     "text": [
      "{'Train':  best_epoch_indx:1\n",
      " auc:0.7250001842804462 \n",
      " apur:0.7317344618141965 \n",
      " f1:0.6158295639891711 \n",
      " precision:0.7173861944683851 \n",
      " recall:0.5394608926204154 \n",
      ", 'Validation':  best_epoch_indx:1\n",
      " auc:0.7279215920507187 \n",
      " apur:0.7356505351725409 \n",
      " f1:0.6118073380643212 \n",
      " precision:0.710627849877236 \n",
      " recall:0.5371155885471898 \n",
      ", 'Test':  best_epoch_indx:1\n",
      " auc:0.7336849285595035 \n",
      " apur:0.7427538153913646 \n",
      " f1:0.6260246523771935 \n",
      " precision:0.7322443181818182 \n",
      " recall:0.5467175734436314 \n",
      "}\n",
      "=====Epoch 2\n",
      "Training...\n"
     ]
    },
    {
     "name": "stderr",
     "output_type": "stream",
     "text": [
      "Iteration: 100%|██████████| 24/24 [00:01<00:00, 19.34it/s]]\n",
      "Iteration:   1%|          | 2/214 [00:00<00:19, 10.94it/s]]"
     ]
    },
    {
     "name": "stdout",
     "output_type": "stream",
     "text": [
      "{'Train':  best_epoch_indx:1\n",
      " auc:0.7266122368305142 \n",
      " apur:0.7363234824145025 \n",
      " f1:0.6612271540469974 \n",
      " precision:0.6997927563406691 \n",
      " recall:0.6266902342023862 \n",
      ", 'Validation':  best_epoch_indx:1\n",
      " auc:0.7225819450927762 \n",
      " apur:0.7306888785931075 \n",
      " f1:0.6522708275285596 \n",
      " precision:0.6873165002935995 \n",
      " recall:0.620625662778367 \n",
      ", 'Test':  best_epoch_indx:1\n",
      " auc:0.7233867659125541 \n",
      " apur:0.7324830619973407 \n",
      " f1:0.6563148158529066 \n",
      " precision:0.696076099881094 \n",
      " recall:0.6208505673984516 \n",
      "}\n",
      "=====Epoch 2\n",
      "Training...\n"
     ]
    },
    {
     "name": "stderr",
     "output_type": "stream",
     "text": [
      "Iteration: 100%|██████████| 24/24 [00:01<00:00, 21.26it/s]]]\n",
      "Iteration:  45%|████▍     | 96/214 [00:07<00:09, 12.07it/s]]"
     ]
    },
    {
     "name": "stdout",
     "output_type": "stream",
     "text": [
      "{'Train':  best_epoch_indx:1\n",
      " auc:0.7415008998921124 \n",
      " apur:0.7492815268614494 \n",
      " f1:0.6714558940150207 \n",
      " precision:0.7110020746204762 \n",
      " recall:0.6360770681121848 \n",
      ", 'Validation':  best_epoch_indx:1\n",
      " auc:0.7309358065854166 \n",
      " apur:0.7462848826239206 \n",
      " f1:0.6527481891776735 \n",
      " precision:0.7029672682777608 \n",
      " recall:0.6092258748674443 \n",
      ", 'Test':  best_epoch_indx:1\n",
      " auc:0.7294184727581996 \n",
      " apur:0.7371627842624623 \n",
      " f1:0.6622620380739082 \n",
      " precision:0.7015421115065243 \n",
      " recall:0.6271474019088017 \n",
      "}\n",
      "=====Epoch 2\n",
      "Training...\n"
     ]
    },
    {
     "name": "stderr",
     "output_type": "stream",
     "text": [
      "Iteration: 100%|██████████| 24/24 [00:01<00:00, 19.61it/s]s]\n",
      "Iteration:  21%|██▏       | 46/214 [00:03<00:13, 12.16it/s]]"
     ]
    },
    {
     "name": "stdout",
     "output_type": "stream",
     "text": [
      "{'Train':  best_epoch_indx:1\n",
      " auc:0.7388856973294 \n",
      " apur:0.7449655457513521 \n",
      " f1:0.6516886505290621 \n",
      " precision:0.7188232786186314 \n",
      " recall:0.5960229783473265 \n",
      ", 'Validation':  best_epoch_indx:1\n",
      " auc:0.7300681694505473 \n",
      " apur:0.7393535597206526 \n",
      " f1:0.645655631053925 \n",
      " precision:0.7100158982511924 \n",
      " recall:0.5919936373276776 \n",
      ", 'Test':  best_epoch_indx:1\n",
      " auc:0.733027740673901 \n",
      " apur:0.739660100880472 \n",
      " f1:0.6543116928244628 \n",
      " precision:0.720719571319214 \n",
      " recall:0.5991091314031181 \n",
      "}\n",
      "=====Epoch 2\n",
      "Training...\n"
     ]
    },
    {
     "name": "stderr",
     "output_type": "stream",
     "text": [
      "Iteration: 100%|██████████| 214/214 [00:17<00:00, 12.31it/s]\n",
      "Iteration:  35%|███▍      | 74/214 [00:06<00:11, 11.88it/s]]"
     ]
    },
    {
     "name": "stdout",
     "output_type": "stream",
     "text": [
      "Evaluating...\n"
     ]
    },
    {
     "name": "stderr",
     "output_type": "stream",
     "text": [
      "Iteration: 100%|██████████| 214/214 [00:17<00:00, 12.22it/s]\n",
      "Iteration:  38%|███▊      | 81/214 [00:03<00:06, 21.80it/s]]"
     ]
    },
    {
     "name": "stdout",
     "output_type": "stream",
     "text": [
      "Evaluating...\n"
     ]
    },
    {
     "name": "stderr",
     "output_type": "stream",
     "text": [
      "Iteration: 100%|██████████| 214/214 [00:17<00:00, 12.15it/s]\n",
      "Iteration:   0%|          | 0/214 [00:00<?, ?it/s]"
     ]
    },
    {
     "name": "stdout",
     "output_type": "stream",
     "text": [
      "Evaluating...\n"
     ]
    },
    {
     "name": "stderr",
     "output_type": "stream",
     "text": [
      "Iteration: 100%|██████████| 214/214 [00:10<00:00, 21.01it/s]\n",
      "Iteration: 100%|██████████| 214/214 [00:17<00:00, 12.20it/s]\n",
      "Iteration:  78%|███████▊  | 166/214 [00:13<00:04, 11.96it/s]"
     ]
    },
    {
     "name": "stdout",
     "output_type": "stream",
     "text": [
      "Evaluating...\n"
     ]
    },
    {
     "name": "stderr",
     "output_type": "stream",
     "text": [
      "Iteration: 100%|██████████| 60/60 [00:02<00:00, 20.83it/s]s]\n",
      "Iteration: 100%|██████████| 214/214 [00:10<00:00, 20.65it/s]\n",
      "Iteration: 100%|██████████| 214/214 [00:17<00:00, 12.16it/s]\n",
      "Iteration:   1%|▏         | 3/214 [00:00<00:09, 21.35it/s]]]"
     ]
    },
    {
     "name": "stdout",
     "output_type": "stream",
     "text": [
      "Evaluating...\n"
     ]
    },
    {
     "name": "stderr",
     "output_type": "stream",
     "text": [
      "Iteration: 100%|██████████| 60/60 [00:02<00:00, 22.45it/s]s]\n",
      "Iteration: 100%|██████████| 214/214 [00:10<00:00, 21.34it/s]\n",
      "Iteration: 100%|██████████| 60/60 [00:02<00:00, 22.50it/s]s]\n",
      "Iteration: 100%|██████████| 214/214 [00:10<00:00, 21.04it/s]\n",
      "Iteration: 100%|██████████| 60/60 [00:02<00:00, 22.29it/s]s]\n",
      "Iteration: 100%|██████████| 214/214 [00:10<00:00, 20.95it/s]\n",
      "Iteration: 100%|██████████| 60/60 [00:02<00:00, 22.07it/s]\n",
      "Iteration: 100%|██████████| 24/24 [00:01<00:00, 21.30it/s]\n",
      "Iteration:   0%|          | 0/214 [00:00<?, ?it/s]"
     ]
    },
    {
     "name": "stdout",
     "output_type": "stream",
     "text": [
      "{'Train':  best_epoch_indx:2\n",
      " auc:0.7516496653393677 \n",
      " apur:0.7583216599750933 \n",
      " f1:0.6791933012428609 \n",
      " precision:0.7155296112705453 \n",
      " recall:0.6463691265282074 \n",
      ", 'Validation':  best_epoch_indx:2\n",
      " auc:0.7498791777235434 \n",
      " apur:0.7567158617647323 \n",
      " f1:0.6824117810502917 \n",
      " precision:0.7168709865732633 \n",
      " recall:0.6511134676564156 \n",
      ", 'Test':  best_epoch_indx:2\n",
      " auc:0.7446672905690019 \n",
      " apur:0.7511524965339442 \n",
      " f1:0.6768326494399468 \n",
      " precision:0.7092388146426496 \n",
      " recall:0.6472584579488811 \n",
      "}\n",
      "=====Epoch 3\n",
      "Training...\n"
     ]
    },
    {
     "name": "stderr",
     "output_type": "stream",
     "text": [
      "Iteration: 100%|██████████| 24/24 [00:01<00:00, 19.01it/s]]\n",
      "Iteration:  19%|█▊        | 40/214 [00:03<00:13, 12.44it/s]"
     ]
    },
    {
     "name": "stdout",
     "output_type": "stream",
     "text": [
      "{'Train':  best_epoch_indx:2\n",
      " auc:0.753029966506576 \n",
      " apur:0.7591801042591969 \n",
      " f1:0.7139416265230943 \n",
      " precision:0.6877303125426505 \n",
      " recall:0.7422300780674621 \n",
      ", 'Validation':  best_epoch_indx:2\n",
      " auc:0.7507830060455534 \n",
      " apur:0.7596480246703708 \n",
      " f1:0.7177215189873418 \n",
      " precision:0.6867732558139535 \n",
      " recall:0.7515906680805938 \n",
      ", 'Test':  best_epoch_indx:2\n",
      " auc:0.7534982234387345 \n",
      " apur:0.7601184499774627 \n",
      " f1:0.7164739298032056 \n",
      " precision:0.6865947312141538 \n",
      " recall:0.749072011878248 \n",
      "}\n",
      "=====Epoch 3\n",
      "Training...\n"
     ]
    },
    {
     "name": "stderr",
     "output_type": "stream",
     "text": [
      "Iteration: 100%|██████████| 24/24 [00:01<00:00, 21.19it/s]]\n",
      "Iteration:  21%|██▏       | 46/214 [00:03<00:13, 12.19it/s]"
     ]
    },
    {
     "name": "stdout",
     "output_type": "stream",
     "text": [
      "{'Train':  best_epoch_indx:2\n",
      " auc:0.7554999671427719 \n",
      " apur:0.7622478073526975 \n",
      " f1:0.6765313036763895 \n",
      " precision:0.7273158501050349 \n",
      " recall:0.6323759021947267 \n",
      ", 'Validation':  best_epoch_indx:2\n",
      " auc:0.7515557850086511 \n",
      " apur:0.758154988559426 \n",
      " f1:0.6714934696195344 \n",
      " precision:0.722799511002445 \n",
      " recall:0.6269883351007424 \n",
      ", 'Test':  best_epoch_indx:2\n",
      " auc:0.7495375853584152 \n",
      " apur:0.7534839040499166 \n",
      " f1:0.6728094968908989 \n",
      " precision:0.7203728362183754 \n",
      " recall:0.6311379785767314 \n",
      "}\n",
      "=====Epoch 3\n",
      "Training...\n"
     ]
    },
    {
     "name": "stderr",
     "output_type": "stream",
     "text": [
      "Iteration: 100%|██████████| 24/24 [00:01<00:00, 20.95it/s]]]\n",
      "Iteration:   0%|          | 0/214 [00:00<?, ?it/s]2.46it/s]"
     ]
    },
    {
     "name": "stdout",
     "output_type": "stream",
     "text": [
      "{'Train':  best_epoch_indx:2\n",
      " auc:0.7635418834543781 \n",
      " apur:0.7698288316328398 \n",
      " f1:0.7133582587021419 \n",
      " precision:0.7019850550453482 \n",
      " recall:0.7251060570351167 \n",
      ", 'Validation':  best_epoch_indx:2\n",
      " auc:0.7465820139075636 \n",
      " apur:0.760669722191337 \n",
      " f1:0.6984043944546168 \n",
      " precision:0.6892101187403201 \n",
      " recall:0.707847295864263 \n",
      ", 'Test':  best_epoch_indx:2\n",
      " auc:0.7509636745124063 \n",
      " apur:0.7568317760298542 \n",
      " f1:0.7029201274617354 \n",
      " precision:0.6926799135179657 \n",
      " recall:0.7134676564156945 \n",
      "}\n",
      "=====Epoch 3\n",
      "Training...\n"
     ]
    },
    {
     "name": "stderr",
     "output_type": "stream",
     "text": [
      "Iteration: 100%|██████████| 24/24 [00:01<00:00, 21.61it/s]s]\n",
      "Iteration:  21%|██▏       | 46/214 [00:03<00:13, 12.25it/s]]"
     ]
    },
    {
     "name": "stdout",
     "output_type": "stream",
     "text": [
      "{'Train':  best_epoch_indx:2\n",
      " auc:0.7613294738997447 \n",
      " apur:0.7659653099954313 \n",
      " f1:0.6929796380436611 \n",
      " precision:0.7208007128763287 \n",
      " recall:0.6672263956400059 \n",
      ", 'Validation':  best_epoch_indx:2\n",
      " auc:0.7531681360896457 \n",
      " apur:0.7601342316238004 \n",
      " f1:0.6853204686423157 \n",
      " precision:0.7137525122021247 \n",
      " recall:0.6590668080593849 \n",
      ", 'Test':  best_epoch_indx:2\n",
      " auc:0.7559357078385021 \n",
      " apur:0.7610546558297515 \n",
      " f1:0.6902917422119664 \n",
      " precision:0.7161422708618331 \n",
      " recall:0.6662424435252943 \n",
      "}\n",
      "=====Epoch 3\n",
      "Training...\n"
     ]
    },
    {
     "name": "stderr",
     "output_type": "stream",
     "text": [
      "Iteration: 100%|██████████| 214/214 [00:17<00:00, 12.23it/s]\n",
      "Iteration:  80%|████████  | 172/214 [00:14<00:03, 12.51it/s]"
     ]
    },
    {
     "name": "stdout",
     "output_type": "stream",
     "text": [
      "Evaluating...\n"
     ]
    },
    {
     "name": "stderr",
     "output_type": "stream",
     "text": [
      "Iteration: 100%|██████████| 214/214 [00:17<00:00, 12.19it/s]\n",
      "Iteration:  79%|███████▉  | 170/214 [00:13<00:03, 12.38it/s]"
     ]
    },
    {
     "name": "stdout",
     "output_type": "stream",
     "text": [
      "Evaluating...\n"
     ]
    },
    {
     "name": "stderr",
     "output_type": "stream",
     "text": [
      "Iteration: 100%|██████████| 214/214 [00:17<00:00, 12.23it/s]\n",
      "Iteration:   0%|          | 0/214 [00:00<?, ?it/s]"
     ]
    },
    {
     "name": "stdout",
     "output_type": "stream",
     "text": [
      "Evaluating...\n"
     ]
    },
    {
     "name": "stderr",
     "output_type": "stream",
     "text": [
      "Iteration: 100%|██████████| 214/214 [00:09<00:00, 21.64it/s]\n",
      "Iteration: 100%|██████████| 214/214 [00:17<00:00, 12.27it/s]\n",
      "Iteration:  79%|███████▉  | 170/214 [00:13<00:03, 12.27it/s]"
     ]
    },
    {
     "name": "stdout",
     "output_type": "stream",
     "text": [
      "Evaluating...\n"
     ]
    },
    {
     "name": "stderr",
     "output_type": "stream",
     "text": [
      "Iteration: 100%|██████████| 214/214 [00:09<00:00, 22.01it/s]\n",
      "Iteration: 100%|██████████| 60/60 [00:02<00:00, 20.86it/s]]]\n",
      "Iteration: 100%|██████████| 214/214 [00:17<00:00, 12.37it/s]\n",
      "Iteration:   1%|▏         | 3/214 [00:00<00:09, 21.40it/s]]]"
     ]
    },
    {
     "name": "stdout",
     "output_type": "stream",
     "text": [
      "Evaluating...\n"
     ]
    },
    {
     "name": "stderr",
     "output_type": "stream",
     "text": [
      "Iteration: 100%|██████████| 60/60 [00:02<00:00, 21.58it/s]s]\n",
      "Iteration: 100%|██████████| 214/214 [00:09<00:00, 21.96it/s]\n",
      "Iteration: 100%|██████████| 60/60 [00:02<00:00, 21.80it/s]s]\n",
      "Iteration: 100%|██████████| 214/214 [00:09<00:00, 21.77it/s]\n",
      "Iteration: 100%|██████████| 60/60 [00:02<00:00, 21.93it/s]s]\n",
      "Iteration: 100%|██████████| 214/214 [00:09<00:00, 21.48it/s]\n",
      "Iteration: 100%|██████████| 60/60 [00:02<00:00, 21.85it/s]\n",
      "Iteration: 100%|██████████| 24/24 [00:01<00:00, 21.04it/s]\n",
      "Iteration:   0%|          | 0/214 [00:00<?, ?it/s]"
     ]
    },
    {
     "name": "stdout",
     "output_type": "stream",
     "text": [
      "{'Train':  best_epoch_indx:3\n",
      " auc:0.7658226999110743 \n",
      " apur:0.7761560536252561 \n",
      " f1:0.7286908841672378 \n",
      " precision:0.6814254582745802 \n",
      " recall:0.7830019148622772 \n",
      ", 'Validation':  best_epoch_indx:3\n",
      " auc:0.7612714340621147 \n",
      " apur:0.7685350935439825 \n",
      " f1:0.7285257199113955 \n",
      " precision:0.6798346348185577 \n",
      " recall:0.7847295864262991 \n",
      ", 'Test':  best_epoch_indx:3\n",
      " auc:0.7549479844580067 \n",
      " apur:0.7623342549521952 \n",
      " f1:0.7233392469938892 \n",
      " precision:0.6755960600202522 \n",
      " recall:0.7783434086329409 \n",
      "}\n",
      "=====Epoch 4\n",
      "Training...\n"
     ]
    },
    {
     "name": "stderr",
     "output_type": "stream",
     "text": [
      "Iteration: 100%|██████████| 24/24 [00:01<00:00, 19.64it/s]]\n",
      "Iteration:  17%|█▋        | 36/214 [00:02<00:14, 12.38it/s]"
     ]
    },
    {
     "name": "stdout",
     "output_type": "stream",
     "text": [
      "{'Train':  best_epoch_indx:3\n",
      " auc:0.7721851357620233 \n",
      " apur:0.7810516274108703 \n",
      " f1:0.7084388628291397 \n",
      " precision:0.7210054298090416 \n",
      " recall:0.6963028428339961 \n",
      ", 'Validation':  best_epoch_indx:3\n",
      " auc:0.7683587229243938 \n",
      " apur:0.7795773760285022 \n",
      " f1:0.7074738815965712 \n",
      " precision:0.7149431510557661 \n",
      " recall:0.7001590668080594 \n",
      ", 'Test':  best_epoch_indx:3\n",
      " auc:0.7686368304847967 \n",
      " apur:0.7786715373954453 \n",
      " f1:0.7063581944669147 \n",
      " precision:0.718564845292956 \n",
      " recall:0.6945593382118994 \n",
      "}\n",
      "=====Epoch 4\n",
      "Training...\n"
     ]
    },
    {
     "name": "stderr",
     "output_type": "stream",
     "text": [
      "Iteration: 100%|██████████| 24/24 [00:01<00:00, 21.35it/s]]\n"
     ]
    },
    {
     "name": "stdout",
     "output_type": "stream",
     "text": [
      "{'Train':  best_epoch_indx:3\n",
      " auc:0.7748767315546261 \n",
      " apur:0.7826006943756523 \n",
      " f1:0.7234441209535615 \n",
      " precision:0.7082145779834637 \n",
      " recall:0.7393430549418176 \n",
      ", 'Validation':  best_epoch_indx:3\n",
      " auc:0.7634956262970161 \n",
      " apur:0.7720055668077275 \n",
      " f1:0.7163678576035083 \n",
      " precision:0.6975634262748053 \n",
      " recall:0.7362142099681867 \n",
      ", 'Test':  best_epoch_indx:3\n",
      " auc:0.7656389784950329 \n",
      " apur:0.7661374519424952 \n",
      " f1:0.7209362272516369 \n",
      " precision:0.7014446227929374 \n",
      " recall:0.7415420511188885 \n",
      "}\n",
      "=====Epoch 4\n",
      "Training...\n"
     ]
    },
    {
     "name": "stderr",
     "output_type": "stream",
     "text": [
      "Iteration: 100%|██████████| 24/24 [00:01<00:00, 19.88it/s]]]\n",
      "Iteration:  63%|██████▎   | 134/214 [00:10<00:06, 12.10it/s]"
     ]
    },
    {
     "name": "stdout",
     "output_type": "stream",
     "text": [
      "{'Train':  best_epoch_indx:3\n",
      " auc:0.7822748648644522 \n",
      " apur:0.7870465340791073 \n",
      " f1:0.7228865918574989 \n",
      " precision:0.7236442003955953 \n",
      " recall:0.7221305679943436 \n",
      ", 'Validation':  best_epoch_indx:3\n",
      " auc:0.7735258968754916 \n",
      " apur:0.7840787042719819 \n",
      " f1:0.713091922005571 \n",
      " precision:0.7135651712237855 \n",
      " recall:0.7126193001060446 \n",
      ", 'Test':  best_epoch_indx:3\n",
      " auc:0.7695858389247014 \n",
      " apur:0.7745299166486831 \n",
      " f1:0.7155826917971861 \n",
      " precision:0.7165337586390218 \n",
      " recall:0.7146341463414634 \n",
      "}\n",
      "=====Epoch 4\n",
      "Training...\n"
     ]
    },
    {
     "name": "stderr",
     "output_type": "stream",
     "text": [
      "Iteration: 100%|██████████| 24/24 [00:01<00:00, 20.92it/s]s]\n",
      "Iteration:  86%|████████▌ | 184/214 [00:15<00:02, 12.25it/s]"
     ]
    },
    {
     "name": "stdout",
     "output_type": "stream",
     "text": [
      "{'Train':  best_epoch_indx:3\n",
      " auc:0.7772433324814623 \n",
      " apur:0.783452076044965 \n",
      " f1:0.7396943029180176 \n",
      " precision:0.6879957426319657 \n",
      " recall:0.7997937840624539 \n",
      ", 'Validation':  best_epoch_indx:3\n",
      " auc:0.7674011429597082 \n",
      " apur:0.7747771039701653 \n",
      " f1:0.7350928641251222 \n",
      " precision:0.6817769718948323 \n",
      " recall:0.7974549310710498 \n",
      ", 'Test':  best_epoch_indx:3\n",
      " auc:0.7695828949920469 \n",
      " apur:0.7790915871896505 \n",
      " f1:0.7344444987536048 \n",
      " precision:0.6811423390752493 \n",
      " recall:0.7967971152826386 \n",
      "}\n",
      "=====Epoch 4\n",
      "Training...\n"
     ]
    },
    {
     "name": "stderr",
     "output_type": "stream",
     "text": [
      "Iteration: 100%|██████████| 214/214 [00:17<00:00, 11.97it/s]\n",
      "Iteration:  85%|████████▌ | 182/214 [00:15<00:02, 12.35it/s]"
     ]
    },
    {
     "name": "stdout",
     "output_type": "stream",
     "text": [
      "Evaluating...\n"
     ]
    },
    {
     "name": "stderr",
     "output_type": "stream",
     "text": [
      "Iteration: 100%|██████████| 214/214 [00:18<00:00, 11.86it/s]\n",
      "Iteration:   0%|          | 0/214 [00:00<?, ?it/s]"
     ]
    },
    {
     "name": "stdout",
     "output_type": "stream",
     "text": [
      "Evaluating...\n"
     ]
    },
    {
     "name": "stderr",
     "output_type": "stream",
     "text": [
      "Iteration: 100%|██████████| 214/214 [00:18<00:00, 11.81it/s]\n",
      "Iteration:  70%|██████▉   | 149/214 [00:06<00:02, 22.21it/s]"
     ]
    },
    {
     "name": "stdout",
     "output_type": "stream",
     "text": [
      "Evaluating...\n"
     ]
    },
    {
     "name": "stderr",
     "output_type": "stream",
     "text": [
      "Iteration: 100%|██████████| 214/214 [00:09<00:00, 21.76it/s]\n",
      "Iteration: 100%|██████████| 214/214 [00:18<00:00, 11.89it/s]\n",
      "Iteration:  82%|████████▏ | 175/214 [00:08<00:01, 21.74it/s]"
     ]
    },
    {
     "name": "stdout",
     "output_type": "stream",
     "text": [
      "Evaluating...\n"
     ]
    },
    {
     "name": "stderr",
     "output_type": "stream",
     "text": [
      "Iteration: 100%|██████████| 214/214 [00:09<00:00, 21.79it/s]\n",
      "Iteration: 100%|██████████| 60/60 [00:02<00:00, 22.66it/s]s]\n",
      "Iteration: 100%|██████████| 214/214 [00:17<00:00, 11.92it/s]\n",
      "Iteration:  82%|████████▏ | 176/214 [00:08<00:01, 21.83it/s]"
     ]
    },
    {
     "name": "stdout",
     "output_type": "stream",
     "text": [
      "Evaluating...\n"
     ]
    },
    {
     "name": "stderr",
     "output_type": "stream",
     "text": [
      "Iteration: 100%|██████████| 60/60 [00:02<00:00, 22.48it/s]s]\n",
      "Iteration: 100%|██████████| 214/214 [00:10<00:00, 21.35it/s]\n",
      "Iteration: 100%|██████████| 60/60 [00:02<00:00, 22.39it/s]s]\n",
      "Iteration: 100%|██████████| 214/214 [00:09<00:00, 21.93it/s]\n",
      "Iteration: 100%|██████████| 60/60 [00:02<00:00, 22.21it/s]s]\n",
      "Iteration: 100%|██████████| 214/214 [00:09<00:00, 21.90it/s]\n",
      "Iteration: 100%|██████████| 60/60 [00:02<00:00, 22.18it/s]\n",
      "Iteration: 100%|██████████| 24/24 [00:01<00:00, 21.38it/s]\n",
      "Iteration:   0%|          | 0/214 [00:00<?, ?it/s]"
     ]
    },
    {
     "name": "stdout",
     "output_type": "stream",
     "text": [
      "{'Train':  best_epoch_indx:4\n",
      " auc:0.7805474789490304 \n",
      " apur:0.7885618481693076 \n",
      " f1:0.7166337345069157 \n",
      " precision:0.7284762165616726 \n",
      " recall:0.7051701281484755 \n",
      ", 'Validation':  best_epoch_indx:4\n",
      " auc:0.7753836979354296 \n",
      " apur:0.7813379157895823 \n",
      " f1:0.7148776901483759 \n",
      " precision:0.7209490428686978 \n",
      " recall:0.7089077412513256 \n",
      ", 'Test':  best_epoch_indx:4\n",
      " auc:0.769623999257102 \n",
      " apur:0.7737316762068672 \n",
      " f1:0.7095457961988618 \n",
      " precision:0.7184951614656954 \n",
      " recall:0.7008166295471417 \n",
      "}\n",
      "=====Epoch 5\n",
      "Training...\n"
     ]
    },
    {
     "name": "stderr",
     "output_type": "stream",
     "text": [
      "Iteration: 100%|██████████| 24/24 [00:01<00:00, 18.69it/s]]\n",
      "Iteration:   0%|          | 0/214 [00:00<?, ?it/s]2.46it/s]"
     ]
    },
    {
     "name": "stdout",
     "output_type": "stream",
     "text": [
      "{'Train':  best_epoch_indx:4\n",
      " auc:0.781160637504817 \n",
      " apur:0.785348392318393 \n",
      " f1:0.7330707987329852 \n",
      " precision:0.7107993691375446 \n",
      " recall:0.7567830313742819 \n",
      ", 'Validation':  best_epoch_indx:4\n",
      " auc:0.7778372860082094 \n",
      " apur:0.7826306846737423 \n",
      " f1:0.7337579617834394 \n",
      " precision:0.7062285434036293 \n",
      " recall:0.7635206786850477 \n",
      ", 'Test':  best_epoch_indx:4\n",
      " auc:0.7797540837820407 \n",
      " apur:0.783968999023018 \n",
      " f1:0.7336662929364998 \n",
      " precision:0.7061709015991366 \n",
      " recall:0.7633895428995652 \n",
      "}\n",
      "=====Epoch 5\n",
      "Training...\n"
     ]
    },
    {
     "name": "stderr",
     "output_type": "stream",
     "text": [
      "Iteration: 100%|██████████| 24/24 [00:01<00:00, 19.74it/s]]\n",
      "Iteration:  42%|████▏     | 90/214 [00:07<00:10, 12.22it/s]"
     ]
    },
    {
     "name": "stdout",
     "output_type": "stream",
     "text": [
      "{'Train':  best_epoch_indx:4\n",
      " auc:0.7891471249367488 \n",
      " apur:0.7947752897522041 \n",
      " f1:0.7430639998881854 \n",
      " precision:0.7069304824211479 \n",
      " recall:0.7830902931212255 \n",
      ", 'Validation':  best_epoch_indx:4\n",
      " auc:0.7869512020706592 \n",
      " apur:0.7901118389671982 \n",
      " f1:0.7471293060409386 \n",
      " precision:0.7058962264150943 \n",
      " recall:0.7934782608695652 \n",
      ", 'Test':  best_epoch_indx:4\n",
      " auc:0.7799203477919338 \n",
      " apur:0.7816535547310589 \n",
      " f1:0.7424668541582964 \n",
      " precision:0.7051416579223505 \n",
      " recall:0.7839643652561247 \n",
      "}\n",
      "=====Epoch 5\n",
      "Training...\n"
     ]
    },
    {
     "name": "stderr",
     "output_type": "stream",
     "text": [
      "Iteration: 100%|██████████| 24/24 [00:01<00:00, 19.24it/s]]]\n",
      "Iteration:  23%|██▎       | 50/214 [00:04<00:13, 11.97it/s]]"
     ]
    },
    {
     "name": "stdout",
     "output_type": "stream",
     "text": [
      "{'Train':  best_epoch_indx:4\n",
      " auc:0.7941431568122893 \n",
      " apur:0.7981378082582904 \n",
      " f1:0.7501669077556469 \n",
      " precision:0.7105554384485666 \n",
      " recall:0.7944555738864011 \n",
      ", 'Validation':  best_epoch_indx:4\n",
      " auc:0.7844943238899572 \n",
      " apur:0.794754529213041 \n",
      " f1:0.7399221398970237 \n",
      " precision:0.7029348604151754 \n",
      " recall:0.78101802757158 \n",
      ", 'Test':  best_epoch_indx:4\n",
      " auc:0.7805117248418878 \n",
      " apur:0.7850358560740724 \n",
      " f1:0.7379234315494086 \n",
      " precision:0.6995059851795554 \n",
      " recall:0.7808059384941676 \n",
      "}\n",
      "=====Epoch 5\n",
      "Training...\n"
     ]
    },
    {
     "name": "stderr",
     "output_type": "stream",
     "text": [
      "Iteration: 100%|██████████| 24/24 [00:01<00:00, 21.62it/s]]]\n",
      "Iteration:   0%|          | 0/214 [00:00<?, ?it/s]2.22it/s]]"
     ]
    },
    {
     "name": "stdout",
     "output_type": "stream",
     "text": [
      "{'Train':  best_epoch_indx:4\n",
      " auc:0.7975603499019441 \n",
      " apur:0.8027030036017955 \n",
      " f1:0.7197938741595645 \n",
      " precision:0.745939455223409 \n",
      " recall:0.6954190602445132 \n",
      ", 'Validation':  best_epoch_indx:4\n",
      " auc:0.7911906845073495 \n",
      " apur:0.7931625523868049 \n",
      " f1:0.7170069891736329 \n",
      " precision:0.7421276595744681 \n",
      " recall:0.6935312831389183 \n",
      ", 'Test':  best_epoch_indx:4\n",
      " auc:0.7905453049976736 \n",
      " apur:0.7958812428233659 \n",
      " f1:0.7185635298625938 \n",
      " precision:0.7425888210002263 \n",
      " recall:0.6960441192067027 \n",
      "}\n",
      "=====Epoch 5\n",
      "Training...\n"
     ]
    },
    {
     "name": "stderr",
     "output_type": "stream",
     "text": [
      "Iteration: 100%|██████████| 214/214 [00:17<00:00, 12.21it/s]\n",
      "Iteration:  35%|███▍      | 74/214 [00:06<00:11, 11.94it/s]]"
     ]
    },
    {
     "name": "stdout",
     "output_type": "stream",
     "text": [
      "Evaluating...\n"
     ]
    },
    {
     "name": "stderr",
     "output_type": "stream",
     "text": [
      "Iteration: 100%|██████████| 214/214 [00:17<00:00, 12.20it/s]\n",
      "Iteration:  34%|███▎      | 72/214 [00:03<00:06, 21.11it/s]]"
     ]
    },
    {
     "name": "stdout",
     "output_type": "stream",
     "text": [
      "Evaluating...\n"
     ]
    },
    {
     "name": "stderr",
     "output_type": "stream",
     "text": [
      "Iteration: 100%|██████████| 214/214 [00:17<00:00, 12.20it/s]\n",
      "Iteration:  43%|████▎     | 93/214 [00:04<00:05, 22.39it/s]]"
     ]
    },
    {
     "name": "stdout",
     "output_type": "stream",
     "text": [
      "Evaluating...\n"
     ]
    },
    {
     "name": "stderr",
     "output_type": "stream",
     "text": [
      "Iteration: 100%|██████████| 214/214 [00:09<00:00, 21.59it/s]\n",
      "Iteration: 100%|██████████| 214/214 [00:17<00:00, 12.14it/s]\n",
      "Iteration:  35%|███▌      | 21/60 [00:01<00:01, 20.64it/s]s]"
     ]
    },
    {
     "name": "stdout",
     "output_type": "stream",
     "text": [
      "Evaluating...\n"
     ]
    },
    {
     "name": "stderr",
     "output_type": "stream",
     "text": [
      "Iteration: 100%|██████████| 214/214 [00:09<00:00, 22.31it/s]\n",
      "Iteration: 100%|██████████| 60/60 [00:02<00:00, 20.60it/s]]]\n",
      "Iteration: 100%|██████████| 214/214 [00:17<00:00, 12.19it/s]\n",
      "Iteration:   0%|          | 0/214 [00:00<?, ?it/s]"
     ]
    },
    {
     "name": "stdout",
     "output_type": "stream",
     "text": [
      "Evaluating...\n"
     ]
    },
    {
     "name": "stderr",
     "output_type": "stream",
     "text": [
      "Iteration: 100%|██████████| 60/60 [00:02<00:00, 22.39it/s]]]\n",
      "Iteration: 100%|██████████| 214/214 [00:09<00:00, 21.83it/s]\n",
      "Iteration: 100%|██████████| 60/60 [00:02<00:00, 22.20it/s]s]\n",
      "Iteration: 100%|██████████| 214/214 [00:09<00:00, 21.99it/s]\n",
      "Iteration: 100%|██████████| 60/60 [00:02<00:00, 22.19it/s]s]\n",
      "Iteration: 100%|██████████| 214/214 [00:09<00:00, 21.91it/s]\n",
      "Iteration: 100%|██████████| 60/60 [00:02<00:00, 21.96it/s]\n",
      "Iteration: 100%|██████████| 24/24 [00:01<00:00, 21.08it/s]\n",
      "Iteration:   0%|          | 0/214 [00:00<?, ?it/s]"
     ]
    },
    {
     "name": "stdout",
     "output_type": "stream",
     "text": [
      "{'Train':  best_epoch_indx:5\n",
      " auc:0.8112215837716443 \n",
      " apur:0.8174979098077328 \n",
      " f1:0.7360964811846423 \n",
      " precision:0.7639100126742713 \n",
      " recall:0.710237148328178 \n",
      ", 'Validation':  best_epoch_indx:5\n",
      " auc:0.8056495196283874 \n",
      " apur:0.8093290797173787 \n",
      " f1:0.7352901023890785 \n",
      " precision:0.7579510273008725 \n",
      " recall:0.7139448568398727 \n",
      ", 'Test':  best_epoch_indx:5\n",
      " auc:0.7991517693809336 \n",
      " apur:0.8024611913409823 \n",
      " f1:0.7271329746348963 \n",
      " precision:0.7537848605577689 \n",
      " recall:0.7023014105419451 \n",
      "}\n",
      "=====Epoch 6\n",
      "Training...\n"
     ]
    },
    {
     "name": "stderr",
     "output_type": "stream",
     "text": [
      "Iteration: 100%|██████████| 24/24 [00:01<00:00, 21.16it/s]]\n",
      "Iteration:  12%|█▏        | 26/214 [00:02<00:15, 12.25it/s]"
     ]
    },
    {
     "name": "stdout",
     "output_type": "stream",
     "text": [
      "{'Train':  best_epoch_indx:5\n",
      " auc:0.8110794181374033 \n",
      " apur:0.8174713642825364 \n",
      " f1:0.7695940804492142 \n",
      " precision:0.6937578352295575 \n",
      " recall:0.8640447783178672 \n",
      ", 'Validation':  best_epoch_indx:5\n",
      " auc:0.8020632227138269 \n",
      " apur:0.8098234113344452 \n",
      " f1:0.7688483844241921 \n",
      " precision:0.6944622621338464 \n",
      " recall:0.8610816542948038 \n",
      ", 'Test':  best_epoch_indx:5\n",
      " auc:0.8035659291476313 \n",
      " apur:0.8082311835745253 \n",
      " f1:0.7674517392740833 \n",
      " precision:0.6914441231501957 \n",
      " recall:0.8622335348393255 \n",
      "}\n",
      "=====Epoch 6\n",
      "Training...\n"
     ]
    },
    {
     "name": "stderr",
     "output_type": "stream",
     "text": [
      "Iteration: 100%|██████████| 24/24 [00:01<00:00, 19.08it/s]]\n",
      "Iteration:  37%|███▋      | 80/214 [00:06<00:11, 11.99it/s]"
     ]
    },
    {
     "name": "stdout",
     "output_type": "stream",
     "text": [
      "{'Train':  best_epoch_indx:5\n",
      " auc:0.8187781153103787 \n",
      " apur:0.8250653764455189 \n",
      " f1:0.7356806347632037 \n",
      " precision:0.7761174508713992 \n",
      " recall:0.6992487847989395 \n",
      ", 'Validation':  best_epoch_indx:5\n",
      " auc:0.8056064707464217 \n",
      " apur:0.8095989998963276 \n",
      " f1:0.7296507583136217 \n",
      " precision:0.7677891654465593 \n",
      " recall:0.6951219512195121 \n",
      ", 'Test':  best_epoch_indx:5\n",
      " auc:0.807118683781736 \n",
      " apur:0.8101768939237108 \n",
      " f1:0.7276273264237156 \n",
      " precision:0.7665844781026183 \n",
      " recall:0.6924382225050376 \n",
      "}\n",
      "=====Epoch 6\n",
      "Training...\n"
     ]
    },
    {
     "name": "stderr",
     "output_type": "stream",
     "text": [
      "Iteration: 100%|██████████| 24/24 [00:01<00:00, 21.56it/s]]]\n",
      "Iteration:  23%|██▎       | 50/214 [00:04<00:13, 12.45it/s]]"
     ]
    },
    {
     "name": "stdout",
     "output_type": "stream",
     "text": [
      "{'Train':  best_epoch_indx:5\n",
      " auc:0.8239368697999583 \n",
      " apur:0.8301676025997147 \n",
      " f1:0.7555463465893114 \n",
      " precision:0.7591529607709009 \n",
      " recall:0.7519738392646712 \n",
      ", 'Validation':  best_epoch_indx:5\n",
      " auc:0.8127529022715856 \n",
      " apur:0.8237971796711686 \n",
      " f1:0.742414115759925 \n",
      " precision:0.7487193313561606 \n",
      " recall:0.7362142099681867 \n",
      ", 'Test':  best_epoch_indx:5\n",
      " auc:0.8052473905292167 \n",
      " apur:0.8114097863572012 \n",
      " f1:0.7427447645370469 \n",
      " precision:0.7445652173913043 \n",
      " recall:0.740933191940615 \n",
      "}\n",
      "=====Epoch 6\n",
      "Training...\n"
     ]
    },
    {
     "name": "stderr",
     "output_type": "stream",
     "text": [
      "Iteration: 100%|██████████| 24/24 [00:01<00:00, 20.61it/s]s]\n",
      "Iteration:  17%|█▋        | 37/214 [00:03<00:15, 11.74it/s]]"
     ]
    },
    {
     "name": "stdout",
     "output_type": "stream",
     "text": [
      "{'Train':  best_epoch_indx:5\n",
      " auc:0.8241379452620098 \n",
      " apur:0.8292307259812806 \n",
      " f1:0.7368732943469786 \n",
      " precision:0.7828363154406892 \n",
      " recall:0.6960082486375019 \n",
      ", 'Validation':  best_epoch_indx:5\n",
      " auc:0.8107896988385841 \n",
      " apur:0.8129667161072083 \n",
      " f1:0.7294381392742049 \n",
      " precision:0.7735512630014859 \n",
      " recall:0.690084835630965 \n",
      ", 'Test':  best_epoch_indx:5\n",
      " auc:0.8143422934422113 \n",
      " apur:0.8201270171362287 \n",
      " f1:0.731854164343851 \n",
      " precision:0.7714184980608767 \n",
      " recall:0.6961501749920458 \n",
      "}\n",
      "=====Epoch 6\n",
      "Training...\n"
     ]
    },
    {
     "name": "stderr",
     "output_type": "stream",
     "text": [
      "Iteration: 100%|██████████| 214/214 [00:17<00:00, 12.25it/s]\n",
      "Iteration:  21%|██▏       | 46/214 [00:03<00:13, 12.43it/s]"
     ]
    },
    {
     "name": "stdout",
     "output_type": "stream",
     "text": [
      "Evaluating...\n"
     ]
    },
    {
     "name": "stderr",
     "output_type": "stream",
     "text": [
      "Iteration: 100%|██████████| 214/214 [00:17<00:00, 12.31it/s]\n",
      "Iteration:  75%|███████▍  | 160/214 [00:13<00:04, 12.43it/s]"
     ]
    },
    {
     "name": "stdout",
     "output_type": "stream",
     "text": [
      "Evaluating...\n"
     ]
    },
    {
     "name": "stderr",
     "output_type": "stream",
     "text": [
      "Iteration: 100%|██████████| 214/214 [00:17<00:00, 12.34it/s]\n",
      "Iteration:  77%|███████▋  | 165/214 [00:13<00:03, 12.42it/s]"
     ]
    },
    {
     "name": "stdout",
     "output_type": "stream",
     "text": [
      "Evaluating...\n"
     ]
    },
    {
     "name": "stderr",
     "output_type": "stream",
     "text": [
      "Iteration: 100%|██████████| 214/214 [00:10<00:00, 20.81it/s]\n",
      "Iteration: 100%|██████████| 214/214 [00:17<00:00, 12.33it/s]\n",
      "Iteration:   0%|          | 0/214 [00:00<?, ?it/s]"
     ]
    },
    {
     "name": "stdout",
     "output_type": "stream",
     "text": [
      "Evaluating...\n"
     ]
    },
    {
     "name": "stderr",
     "output_type": "stream",
     "text": [
      "Iteration: 100%|██████████| 214/214 [00:10<00:00, 21.25it/s]\n",
      "Iteration: 100%|██████████| 214/214 [00:17<00:00, 12.39it/s]\n",
      "Iteration: 100%|██████████| 60/60 [00:02<00:00, 22.71it/s]\n",
      "Iteration:   1%|▏         | 3/214 [00:00<00:09, 21.44it/s]]]"
     ]
    },
    {
     "name": "stdout",
     "output_type": "stream",
     "text": [
      "Evaluating...\n"
     ]
    },
    {
     "name": "stderr",
     "output_type": "stream",
     "text": [
      "Iteration: 100%|██████████| 60/60 [00:02<00:00, 22.35it/s]s]\n",
      "Iteration: 100%|██████████| 214/214 [00:10<00:00, 21.19it/s]\n",
      "Iteration: 100%|██████████| 60/60 [00:02<00:00, 22.40it/s]s]\n",
      "Iteration: 100%|██████████| 214/214 [00:10<00:00, 20.38it/s]\n",
      "Iteration: 100%|██████████| 214/214 [00:10<00:00, 20.72it/s]\n",
      "Iteration: 100%|██████████| 60/60 [00:02<00:00, 21.99it/s]\n",
      "Iteration: 100%|██████████| 60/60 [00:02<00:00, 22.12it/s]\n",
      "Iteration: 100%|██████████| 24/24 [00:01<00:00, 21.06it/s]\n",
      "Iteration:   0%|          | 0/214 [00:00<?, ?it/s]"
     ]
    },
    {
     "name": "stdout",
     "output_type": "stream",
     "text": [
      "{'Train':  best_epoch_indx:6\n",
      " auc:0.8395774200234365 \n",
      " apur:0.8491459656018958 \n",
      " f1:0.7716697247706423 \n",
      " precision:0.7690169689877121 \n",
      " recall:0.774340845485344 \n",
      ", 'Validation':  best_epoch_indx:6\n",
      " auc:0.8290826592443945 \n",
      " apur:0.8355439651813683 \n",
      " f1:0.7642810242941562 \n",
      " precision:0.7572209211553473 \n",
      " recall:0.7714740190880169 \n",
      ", 'Test':  best_epoch_indx:6\n",
      " auc:0.8214121239015741 \n",
      " apur:0.828046133139368 \n",
      " f1:0.7556680375408625 \n",
      " precision:0.7513893257837895 \n",
      " recall:0.7599957577685863 \n",
      "}\n",
      "=====Epoch 7\n",
      "Training...\n"
     ]
    },
    {
     "name": "stderr",
     "output_type": "stream",
     "text": [
      "Iteration: 100%|██████████| 24/24 [00:01<00:00, 21.29it/s]]\n",
      "Iteration:  11%|█         | 24/214 [00:01<00:15, 12.36it/s]"
     ]
    },
    {
     "name": "stdout",
     "output_type": "stream",
     "text": [
      "{'Train':  best_epoch_indx:6\n",
      " auc:0.8344880468458612 \n",
      " apur:0.8388323237538383 \n",
      " f1:0.7823771685318467 \n",
      " precision:0.7391133469580254 \n",
      " recall:0.8310207688908529 \n",
      ", 'Validation':  best_epoch_indx:6\n",
      " auc:0.822845605620868 \n",
      " apur:0.8254467759585253 \n",
      " f1:0.7700309597523219 \n",
      " precision:0.72251917267023 \n",
      " recall:0.8242311770943797 \n",
      ", 'Test':  best_epoch_indx:6\n",
      " auc:0.8251796922453938 \n",
      " apur:0.8278557677290871 \n",
      " f1:0.7760151651202235 \n",
      " precision:0.7325986625223698 \n",
      " recall:0.8249018983985577 \n",
      "}\n",
      "=====Epoch 7\n",
      "Training...\n"
     ]
    },
    {
     "name": "stderr",
     "output_type": "stream",
     "text": [
      "Iteration: 100%|██████████| 24/24 [00:01<00:00, 18.79it/s]]\n"
     ]
    },
    {
     "name": "stdout",
     "output_type": "stream",
     "text": [
      "{'Train':  best_epoch_indx:6\n",
      " auc:0.8391427506622521 \n",
      " apur:0.845712306187557 \n",
      " f1:0.7563944909001475 \n",
      " precision:0.79084568159172 \n",
      " recall:0.7248195610546472 \n",
      ", 'Validation':  best_epoch_indx:6\n",
      " auc:0.8237160175455509 \n",
      " apur:0.8230974165561794 \n",
      " f1:0.7464943634863899 \n",
      " precision:0.7752712735579669 \n",
      " recall:0.7197773064687168 \n",
      ", 'Test':  best_epoch_indx:6\n",
      " auc:0.8234037843139942 \n",
      " apur:0.8235651184157075 \n",
      " f1:0.7469186978389432 \n",
      " precision:0.7798938134810711 \n",
      " recall:0.7166189415632622 \n",
      "}\n",
      "=====Epoch 7\n",
      "Training...\n"
     ]
    },
    {
     "name": "stderr",
     "output_type": "stream",
     "text": [
      "Iteration: 100%|██████████| 24/24 [00:01<00:00, 21.26it/s]s]\n",
      "Iteration:  24%|██▍       | 52/214 [00:04<00:13, 12.30it/s]]"
     ]
    },
    {
     "name": "stdout",
     "output_type": "stream",
     "text": [
      "{'Train':  best_epoch_indx:6\n",
      " auc:0.8538437971210423 \n",
      " apur:0.8589172904555158 \n",
      " f1:0.78917288914417 \n",
      " precision:0.769806140744061 \n",
      " recall:0.8095392411029931 \n",
      ", 'Validation':  best_epoch_indx:6\n",
      " auc:0.8427222971327384 \n",
      " apur:0.8496577972347341 \n",
      " f1:0.7789990947885684 \n",
      " precision:0.7604140368593789 \n",
      " recall:0.7985153764581124 \n",
      ", 'Test':  best_epoch_indx:6\n",
      " auc:0.833188445547417 \n",
      " apur:0.8376132924403845 \n",
      " f1:0.7733402221648153 \n",
      " precision:0.7540554156171284 \n",
      " recall:0.7936373276776246 \n",
      "}\n",
      "=====Epoch 7\n",
      "Training...\n"
     ]
    },
    {
     "name": "stderr",
     "output_type": "stream",
     "text": [
      "Iteration: 100%|██████████| 24/24 [00:01<00:00, 20.14it/s]]]\n",
      "Iteration:   0%|          | 0/214 [00:00<?, ?it/s]12.36it/s]"
     ]
    },
    {
     "name": "stdout",
     "output_type": "stream",
     "text": [
      "{'Train':  best_epoch_indx:6\n",
      " auc:0.854737181132923 \n",
      " apur:0.8590513473658161 \n",
      " f1:0.7845944003637271 \n",
      " precision:0.7812372218003388 \n",
      " recall:0.7879805567830314 \n",
      ", 'Validation':  best_epoch_indx:6\n",
      " auc:0.8359318711406638 \n",
      " apur:0.8393793031728574 \n",
      " f1:0.7687029951180895 \n",
      " precision:0.7651694247438928 \n",
      " recall:0.7722693531283139 \n",
      ", 'Test':  best_epoch_indx:6\n",
      " auc:0.8399716655075894 \n",
      " apur:0.8469585585685233 \n",
      " f1:0.771663504111322 \n",
      " precision:0.767054385413392 \n",
      " recall:0.7763283487114222 \n",
      "}\n",
      "=====Epoch 7\n",
      "Training...\n"
     ]
    },
    {
     "name": "stderr",
     "output_type": "stream",
     "text": [
      "Iteration: 100%|██████████| 214/214 [00:17<00:00, 12.13it/s]\n",
      "Iteration:   1%|▏         | 3/214 [00:00<00:09, 21.82it/s]]]"
     ]
    },
    {
     "name": "stdout",
     "output_type": "stream",
     "text": [
      "Evaluating...\n"
     ]
    },
    {
     "name": "stderr",
     "output_type": "stream",
     "text": [
      "Iteration: 100%|██████████| 214/214 [00:17<00:00, 12.24it/s]\n",
      "Iteration:  32%|███▏      | 68/214 [00:05<00:12, 11.83it/s]]"
     ]
    },
    {
     "name": "stdout",
     "output_type": "stream",
     "text": [
      "Evaluating...\n"
     ]
    },
    {
     "name": "stderr",
     "output_type": "stream",
     "text": [
      "Iteration: 100%|██████████| 214/214 [00:17<00:00, 12.12it/s]\n",
      "Iteration:  59%|█████▉    | 126/214 [00:10<00:07, 12.17it/s]"
     ]
    },
    {
     "name": "stdout",
     "output_type": "stream",
     "text": [
      "Evaluating...\n"
     ]
    },
    {
     "name": "stderr",
     "output_type": "stream",
     "text": [
      "Iteration: 100%|██████████| 214/214 [00:09<00:00, 22.26it/s]\n",
      "Iteration: 100%|██████████| 214/214 [00:17<00:00, 12.01it/s]\n",
      "Iteration:  84%|████████▍ | 180/214 [00:09<00:01, 17.40it/s]"
     ]
    },
    {
     "name": "stdout",
     "output_type": "stream",
     "text": [
      "Evaluating...\n"
     ]
    },
    {
     "name": "stderr",
     "output_type": "stream",
     "text": [
      "Iteration: 100%|██████████| 214/214 [00:10<00:00, 20.08it/s]\n",
      "Iteration: 100%|██████████| 60/60 [00:02<00:00, 22.58it/s]]]\n",
      "Iteration: 100%|██████████| 214/214 [00:17<00:00, 12.16it/s]\n",
      "Iteration:  77%|███████▋  | 165/214 [00:07<00:02, 22.28it/s]"
     ]
    },
    {
     "name": "stdout",
     "output_type": "stream",
     "text": [
      "Evaluating...\n"
     ]
    },
    {
     "name": "stderr",
     "output_type": "stream",
     "text": [
      "Iteration: 100%|██████████| 60/60 [00:02<00:00, 21.93it/s]s]\n",
      "Iteration: 100%|██████████| 214/214 [00:09<00:00, 22.07it/s]\n",
      "Iteration: 100%|██████████| 60/60 [00:02<00:00, 22.32it/s]s]\n",
      "Iteration: 100%|██████████| 214/214 [00:09<00:00, 21.54it/s]\n",
      "Iteration: 100%|██████████| 214/214 [00:09<00:00, 21.64it/s]\n",
      "Iteration: 100%|██████████| 60/60 [00:02<00:00, 21.94it/s]\n",
      "Iteration: 100%|██████████| 60/60 [00:02<00:00, 22.02it/s]\n",
      "Iteration: 100%|██████████| 24/24 [00:01<00:00, 21.27it/s]\n",
      "Iteration:   0%|          | 0/214 [00:00<?, ?it/s]"
     ]
    },
    {
     "name": "stdout",
     "output_type": "stream",
     "text": [
      "{'Train':  best_epoch_indx:7\n",
      " auc:0.8655690849870387 \n",
      " apur:0.8729153324841261 \n",
      " f1:0.8018512752285787 \n",
      " precision:0.771663624724182 \n",
      " recall:0.8344969804094859 \n",
      ", 'Validation':  best_epoch_indx:7\n",
      " auc:0.8479539651270758 \n",
      " apur:0.8523383655125482 \n",
      " f1:0.7898137590269859 \n",
      " precision:0.7563698131521476 \n",
      " recall:0.8263520678685048 \n",
      ", 'Test':  best_epoch_indx:7\n",
      " auc:0.8424733439693586 \n",
      " apur:0.8464556697659057 \n",
      " f1:0.7854923335540727 \n",
      " precision:0.7557341697706332 \n",
      " recall:0.8176901049952275 \n",
      "}\n",
      "=====Epoch 8\n",
      "Training...\n"
     ]
    },
    {
     "name": "stderr",
     "output_type": "stream",
     "text": [
      "Iteration: 100%|██████████| 24/24 [00:01<00:00, 19.65it/s]]\n"
     ]
    },
    {
     "name": "stdout",
     "output_type": "stream",
     "text": [
      "{'Train':  best_epoch_indx:7\n",
      " auc:0.8553787066934955 \n",
      " apur:0.8605750450856618 \n",
      " f1:0.7915399184985366 \n",
      " precision:0.7715892242705682 \n",
      " recall:0.8125497127706585 \n",
      ", 'Validation':  best_epoch_indx:7\n",
      " auc:0.841114346075591 \n",
      " apur:0.8468922088955252 \n",
      " f1:0.7786970010341262 \n",
      " precision:0.7598385469223007 \n",
      " recall:0.7985153764581124 \n",
      ", 'Test':  best_epoch_indx:7\n",
      " auc:0.8396159461216314 \n",
      " apur:0.8433051489454515 \n",
      " f1:0.7784146656338754 \n",
      " precision:0.7585547504025765 \n",
      " recall:0.7993424541308728 \n",
      "}\n",
      "=====Epoch 8\n",
      "Training...\n"
     ]
    },
    {
     "name": "stderr",
     "output_type": "stream",
     "text": [
      "Iteration: 100%|██████████| 24/24 [00:01<00:00, 21.10it/s]]\n",
      "Iteration:   1%|          | 2/214 [00:00<00:17, 11.83it/s]]"
     ]
    },
    {
     "name": "stdout",
     "output_type": "stream",
     "text": [
      "{'Train':  best_epoch_indx:7\n",
      " auc:0.8723369696343904 \n",
      " apur:0.876843498190283 \n",
      " f1:0.799368880500177 \n",
      " precision:0.8002420950075285 \n",
      " recall:0.7984975695978789 \n",
      ", 'Validation':  best_epoch_indx:7\n",
      " auc:0.8555784532972748 \n",
      " apur:0.8567786270285123 \n",
      " f1:0.7890923461994467 \n",
      " precision:0.7842367111809374 \n",
      " recall:0.7940084835630965 \n",
      ", 'Test':  best_epoch_indx:7\n",
      " auc:0.851145345394261 \n",
      " apur:0.8535546184814053 \n",
      " f1:0.7853214890016921 \n",
      " precision:0.7830855214594538 \n",
      " recall:0.7875702619577898 \n",
      "}\n",
      "=====Epoch 8\n",
      "Training...\n"
     ]
    },
    {
     "name": "stderr",
     "output_type": "stream",
     "text": [
      "Iteration: 100%|██████████| 24/24 [00:01<00:00, 21.46it/s]]]\n",
      "Iteration:  64%|██████▍   | 137/214 [00:11<00:06, 11.65it/s]"
     ]
    },
    {
     "name": "stdout",
     "output_type": "stream",
     "text": [
      "{'Train':  best_epoch_indx:7\n",
      " auc:0.8740871441863904 \n",
      " apur:0.8772382740002982 \n",
      " f1:0.8000296735905045 \n",
      " precision:0.8058644189383071 \n",
      " recall:0.7942788121612067 \n",
      ", 'Validation':  best_epoch_indx:7\n",
      " auc:0.8575098655669833 \n",
      " apur:0.861557582393794 \n",
      " f1:0.7812080536912752 \n",
      " precision:0.7911908646003263 \n",
      " recall:0.7714740190880169 \n",
      ", 'Test':  best_epoch_indx:7\n",
      " auc:0.8533795083993898 \n",
      " apur:0.8556461721145784 \n",
      " f1:0.7794354405924655 \n",
      " precision:0.7890047805302043 \n",
      " recall:0.7700954400848357 \n",
      "}\n",
      "=====Epoch 8\n",
      "Training...\n"
     ]
    },
    {
     "name": "stderr",
     "output_type": "stream",
     "text": [
      "Iteration: 100%|██████████| 24/24 [00:01<00:00, 21.51it/s]]]\n",
      "Iteration:  65%|██████▌   | 140/214 [00:11<00:05, 12.44it/s]"
     ]
    },
    {
     "name": "stdout",
     "output_type": "stream",
     "text": [
      "{'Train':  best_epoch_indx:7\n",
      " auc:0.871582999394244 \n",
      " apur:0.8747287722474869 \n",
      " f1:0.8096582886190342 \n",
      " precision:0.7774915254237288 \n",
      " recall:0.8446015613492415 \n",
      ", 'Validation':  best_epoch_indx:7\n",
      " auc:0.8503510664072211 \n",
      " apur:0.8516513321356626 \n",
      " f1:0.7914601601219977 \n",
      " precision:0.760068342689773 \n",
      " recall:0.8255567338282078 \n",
      ", 'Test':  best_epoch_indx:7\n",
      " auc:0.8552670247797142 \n",
      " apur:0.8592015830645764 \n",
      " f1:0.7971036508177629 \n",
      " precision:0.7626937984496124 \n",
      " recall:0.8347650864354651 \n",
      "}\n",
      "=====Epoch 8\n",
      "Training...\n"
     ]
    },
    {
     "name": "stderr",
     "output_type": "stream",
     "text": [
      "Iteration: 100%|██████████| 214/214 [00:17<00:00, 12.14it/s]\n",
      "Iteration:  19%|█▊        | 40/214 [00:03<00:14, 12.19it/s]]"
     ]
    },
    {
     "name": "stdout",
     "output_type": "stream",
     "text": [
      "Evaluating...\n"
     ]
    },
    {
     "name": "stderr",
     "output_type": "stream",
     "text": [
      "Iteration: 100%|██████████| 214/214 [00:17<00:00, 12.20it/s]\n",
      "Iteration:   1%|▏         | 3/214 [00:00<00:09, 21.38it/s]]]"
     ]
    },
    {
     "name": "stdout",
     "output_type": "stream",
     "text": [
      "Evaluating...\n"
     ]
    },
    {
     "name": "stderr",
     "output_type": "stream",
     "text": [
      "Iteration: 100%|██████████| 214/214 [00:17<00:00, 12.13it/s]\n",
      "Iteration:  73%|███████▎  | 156/214 [00:12<00:04, 12.40it/s]"
     ]
    },
    {
     "name": "stdout",
     "output_type": "stream",
     "text": [
      "Evaluating...\n"
     ]
    },
    {
     "name": "stderr",
     "output_type": "stream",
     "text": [
      "Iteration: 100%|██████████| 214/214 [00:10<00:00, 20.61it/s]\n",
      "Iteration: 100%|██████████| 214/214 [00:17<00:00, 12.15it/s]\n",
      "Iteration:  10%|█         | 6/60 [00:00<00:02, 21.90it/s]/s]"
     ]
    },
    {
     "name": "stdout",
     "output_type": "stream",
     "text": [
      "Evaluating...\n"
     ]
    },
    {
     "name": "stderr",
     "output_type": "stream",
     "text": [
      "Iteration: 100%|██████████| 214/214 [00:10<00:00, 21.06it/s]\n",
      "Iteration: 100%|██████████| 60/60 [00:02<00:00, 22.22it/s]]]\n",
      "Iteration: 100%|██████████| 214/214 [00:17<00:00, 12.27it/s]\n",
      "Iteration:  20%|██        | 12/60 [00:00<00:02, 22.28it/s]"
     ]
    },
    {
     "name": "stdout",
     "output_type": "stream",
     "text": [
      "Evaluating...\n"
     ]
    },
    {
     "name": "stderr",
     "output_type": "stream",
     "text": [
      "Iteration: 100%|██████████| 60/60 [00:02<00:00, 22.45it/s]s]\n",
      "Iteration: 100%|██████████| 214/214 [00:10<00:00, 20.87it/s]\n",
      "Iteration: 100%|██████████| 60/60 [00:02<00:00, 22.25it/s]s]\n",
      "Iteration: 100%|██████████| 214/214 [00:10<00:00, 20.98it/s]\n",
      "Iteration: 100%|██████████| 214/214 [00:10<00:00, 20.79it/s]\n",
      "Iteration: 100%|██████████| 60/60 [00:02<00:00, 22.18it/s]\n",
      "Iteration: 100%|██████████| 60/60 [00:02<00:00, 22.17it/s]\n",
      "Iteration: 100%|██████████| 24/24 [00:01<00:00, 21.20it/s]\n",
      "Iteration:   0%|          | 0/214 [00:00<?, ?it/s]"
     ]
    },
    {
     "name": "stdout",
     "output_type": "stream",
     "text": [
      "{'Train':  best_epoch_indx:8\n",
      " auc:0.8852100385454 \n",
      " apur:0.8907079659551322 \n",
      " f1:0.8186401613367907 \n",
      " precision:0.8009866102889359 \n",
      " recall:0.8370894093386361 \n",
      ", 'Validation':  best_epoch_indx:8\n",
      " auc:0.8659334535636545 \n",
      " apur:0.8675014003548477 \n",
      " f1:0.8036105738233397 \n",
      " precision:0.7823248807431584 \n",
      " recall:0.8260869565217391 \n",
      ", 'Test':  best_epoch_indx:8\n",
      " auc:0.8591589446383725 \n",
      " apur:0.8619950966140785 \n",
      " f1:0.7983791365785237 \n",
      " precision:0.7824847250509165 \n",
      " recall:0.8149326545763071 \n",
      "}\n",
      "=====Epoch 9\n",
      "Training...\n"
     ]
    },
    {
     "name": "stderr",
     "output_type": "stream",
     "text": [
      "Iteration: 100%|██████████| 24/24 [00:01<00:00, 20.31it/s]]\n",
      "Iteration:   0%|          | 0/214 [00:00<?, ?it/s]2.44it/s]"
     ]
    },
    {
     "name": "stdout",
     "output_type": "stream",
     "text": [
      "{'Train':  best_epoch_indx:8\n",
      " auc:0.8745577971660712 \n",
      " apur:0.8788989440319561 \n",
      " f1:0.8061756546745872 \n",
      " precision:0.7950782100498481 \n",
      " recall:0.8175872735307115 \n",
      ", 'Validation':  best_epoch_indx:8\n",
      " auc:0.856462659891317 \n",
      " apur:0.8613300067986173 \n",
      " f1:0.7903941529626729 \n",
      " precision:0.7784061696658098 \n",
      " recall:0.8027571580063627 \n",
      ", 'Test':  best_epoch_indx:8\n",
      " auc:0.8560113522823053 \n",
      " apur:0.8581264597625406 \n",
      " f1:0.7922579298831386 \n",
      " precision:0.779648834582606 \n",
      " recall:0.8052815781100859 \n",
      "}\n",
      "=====Epoch 9\n",
      "Training...\n"
     ]
    },
    {
     "name": "stderr",
     "output_type": "stream",
     "text": [
      "Iteration: 100%|██████████| 24/24 [00:01<00:00, 19.26it/s]]\n",
      "Iteration:   1%|          | 2/214 [00:00<00:18, 11.22it/s]]"
     ]
    },
    {
     "name": "stdout",
     "output_type": "stream",
     "text": [
      "{'Train':  best_epoch_indx:8\n",
      " auc:0.8906057876316114 \n",
      " apur:0.8941395165673287 \n",
      " f1:0.8249673258936906 \n",
      " precision:0.8048876184070399 \n",
      " recall:0.846074532331713 \n",
      ", 'Validation':  best_epoch_indx:8\n",
      " auc:0.8709951062221253 \n",
      " apur:0.8710615904132079 \n",
      " f1:0.8127572016460906 \n",
      " precision:0.7892107892107892 \n",
      " recall:0.8377518557794273 \n",
      ", 'Test':  best_epoch_indx:8\n",
      " auc:0.8647332671626423 \n",
      " apur:0.8680473352417968 \n",
      " f1:0.8019468751618081 \n",
      " precision:0.7834884662080129 \n",
      " recall:0.8212960016968925 \n",
      "}\n",
      "=====Epoch 9\n",
      "Training...\n"
     ]
    },
    {
     "name": "stderr",
     "output_type": "stream",
     "text": [
      "Iteration: 100%|██████████| 24/24 [00:01<00:00, 19.48it/s]]]\n",
      "Iteration:  46%|████▌     | 98/214 [00:08<00:09, 11.99it/s]"
     ]
    },
    {
     "name": "stdout",
     "output_type": "stream",
     "text": [
      "{'Train':  best_epoch_indx:8\n",
      " auc:0.8953315287198207 \n",
      " apur:0.8977675132798553 \n",
      " f1:0.8285068862493623 \n",
      " precision:0.8198205993481584 \n",
      " recall:0.8373792128211172 \n",
      ", 'Validation':  best_epoch_indx:8\n",
      " auc:0.875841791949748 \n",
      " apur:0.88040054142833 \n",
      " f1:0.8076319916361735 \n",
      " precision:0.7963917525773195 \n",
      " recall:0.8191940615058324 \n",
      ", 'Test':  best_epoch_indx:8\n",
      " auc:0.8700608002220604 \n",
      " apur:0.8717934152877843 \n",
      " f1:0.8026419248309483 \n",
      " precision:0.7936145952109465 \n",
      " recall:0.8118769883351007 \n",
      "}\n",
      "=====Epoch 9\n",
      "Training...\n"
     ]
    },
    {
     "name": "stderr",
     "output_type": "stream",
     "text": [
      "Iteration: 100%|██████████| 24/24 [00:01<00:00, 20.25it/s]s]\n",
      "Iteration:  41%|████      | 88/214 [00:07<00:10, 12.27it/s]"
     ]
    },
    {
     "name": "stdout",
     "output_type": "stream",
     "text": [
      "{'Train':  best_epoch_indx:8\n",
      " auc:0.8938180384299328 \n",
      " apur:0.8965894749759542 \n",
      " f1:0.8167567648963243 \n",
      " precision:0.8353868900936422 \n",
      " recall:0.7989394608926205 \n",
      ", 'Validation':  best_epoch_indx:8\n",
      " auc:0.8707009785018799 \n",
      " apur:0.8688755276609268 \n",
      " f1:0.7967479674796748 \n",
      " precision:0.8148558758314856 \n",
      " recall:0.7794273594909862 \n",
      ", 'Test':  best_epoch_indx:8\n",
      " auc:0.8736003513251727 \n",
      " apur:0.8762819166969527 \n",
      " f1:0.7970103986135183 \n",
      " precision:0.814388489208633 \n",
      " recall:0.7803584685544597 \n",
      "}\n",
      "=====Epoch 9\n",
      "Training...\n"
     ]
    },
    {
     "name": "stderr",
     "output_type": "stream",
     "text": [
      "Iteration: 100%|██████████| 214/214 [00:17<00:00, 12.16it/s]\n",
      "Iteration:  63%|██████▎   | 134/214 [00:11<00:06, 12.37it/s]"
     ]
    },
    {
     "name": "stdout",
     "output_type": "stream",
     "text": [
      "Evaluating...\n"
     ]
    },
    {
     "name": "stderr",
     "output_type": "stream",
     "text": [
      "Iteration: 100%|██████████| 214/214 [00:17<00:00, 12.14it/s]\n",
      "Iteration:  28%|██▊       | 60/214 [00:02<00:06, 22.16it/s]]"
     ]
    },
    {
     "name": "stdout",
     "output_type": "stream",
     "text": [
      "Evaluating...\n"
     ]
    },
    {
     "name": "stderr",
     "output_type": "stream",
     "text": [
      "Iteration: 100%|██████████| 214/214 [00:17<00:00, 12.11it/s]\n",
      "Iteration:  41%|████      | 87/214 [00:03<00:05, 22.30it/s]"
     ]
    },
    {
     "name": "stdout",
     "output_type": "stream",
     "text": [
      "Evaluating...\n"
     ]
    },
    {
     "name": "stderr",
     "output_type": "stream",
     "text": [
      "Iteration: 100%|██████████| 214/214 [00:09<00:00, 22.13it/s]\n",
      "Iteration: 100%|██████████| 214/214 [00:17<00:00, 12.20it/s]\n",
      "Iteration:  45%|████▍     | 96/214 [00:04<00:05, 22.06it/s]]"
     ]
    },
    {
     "name": "stdout",
     "output_type": "stream",
     "text": [
      "Evaluating...\n"
     ]
    },
    {
     "name": "stderr",
     "output_type": "stream",
     "text": [
      "Iteration: 100%|██████████| 214/214 [00:09<00:00, 22.05it/s]\n",
      "Iteration: 100%|██████████| 60/60 [00:02<00:00, 20.40it/s]]]\n",
      "Iteration: 100%|██████████| 214/214 [00:17<00:00, 12.23it/s]\n",
      "Iteration:  32%|███▏      | 69/214 [00:03<00:06, 22.14it/s]]"
     ]
    },
    {
     "name": "stdout",
     "output_type": "stream",
     "text": [
      "Evaluating...\n"
     ]
    },
    {
     "name": "stderr",
     "output_type": "stream",
     "text": [
      "Iteration: 100%|██████████| 60/60 [00:02<00:00, 22.48it/s]s]\n",
      "Iteration: 100%|██████████| 214/214 [00:09<00:00, 22.27it/s]\n",
      "Iteration: 100%|██████████| 60/60 [00:02<00:00, 22.31it/s]s]\n",
      "Iteration: 100%|██████████| 214/214 [00:09<00:00, 22.05it/s]\n",
      "Iteration: 100%|██████████| 214/214 [00:09<00:00, 21.80it/s]\n",
      "Iteration: 100%|██████████| 60/60 [00:02<00:00, 22.24it/s]\n",
      "Iteration: 100%|██████████| 60/60 [00:02<00:00, 22.04it/s]\n",
      "Iteration: 100%|██████████| 24/24 [00:01<00:00, 20.79it/s]\n",
      "Iteration:   0%|          | 0/214 [00:00<?, ?it/s]"
     ]
    },
    {
     "name": "stdout",
     "output_type": "stream",
     "text": [
      "{'Train':  best_epoch_indx:9\n",
      " auc:0.9004433302974293 \n",
      " apur:0.9056299206118767 \n",
      " f1:0.8306582926261921 \n",
      " precision:0.8200005740692902 \n",
      " recall:0.8415967005449992 \n",
      ", 'Validation':  best_epoch_indx:9\n",
      " auc:0.8753657569372915 \n",
      " apur:0.8782903792899486 \n",
      " f1:0.8082014015053204 \n",
      " precision:0.7915607524148449 \n",
      " recall:0.8255567338282078 \n",
      ", 'Test':  best_epoch_indx:9\n",
      " auc:0.8716368391113439 \n",
      " apur:0.8739159072929914 \n",
      " f1:0.8042144991350842 \n",
      " precision:0.7950870646766169 \n",
      " recall:0.813553929366847 \n",
      "}\n",
      "=====Epoch 10\n",
      "Training...\n"
     ]
    },
    {
     "name": "stderr",
     "output_type": "stream",
     "text": [
      "Iteration: 100%|██████████| 24/24 [00:01<00:00, 20.05it/s]]\n",
      "Iteration:   0%|          | 0/214 [00:00<?, ?it/s]2.52it/s]"
     ]
    },
    {
     "name": "stdout",
     "output_type": "stream",
     "text": [
      "{'Train':  best_epoch_indx:9\n",
      " auc:0.8897696923186125 \n",
      " apur:0.8934923312026588 \n",
      " f1:0.8231305168886537 \n",
      " precision:0.8001335039216777 \n",
      " recall:0.8474885844748858 \n",
      ", 'Validation':  best_epoch_indx:9\n",
      " auc:0.8686507259484391 \n",
      " apur:0.8725907278632344 \n",
      " f1:0.8073111082507402 \n",
      " precision:0.7845884413309983 \n",
      " recall:0.8313891834570519 \n",
      ", 'Test':  best_epoch_indx:9\n",
      " auc:0.8687703580169294 \n",
      " apur:0.870482445942441 \n",
      " f1:0.8068158489016629 \n",
      " precision:0.781700646444555 \n",
      " recall:0.8335984727966911 \n",
      "}\n",
      "=====Epoch 10\n",
      "Training...\n"
     ]
    },
    {
     "name": "stderr",
     "output_type": "stream",
     "text": [
      "Iteration: 100%|██████████| 24/24 [00:01<00:00, 21.58it/s]]\n",
      "Iteration:   0%|          | 0/214 [00:00<?, ?it/s]2.05it/s]"
     ]
    },
    {
     "name": "stdout",
     "output_type": "stream",
     "text": [
      "{'Train':  best_epoch_indx:9\n",
      " auc:0.9047465126773249 \n",
      " apur:0.90765855421473 \n",
      " f1:0.8337828079638063 \n",
      " precision:0.8341884878509083 \n",
      " recall:0.8333775224628075 \n",
      ", 'Validation':  best_epoch_indx:9\n",
      " auc:0.8837046742047927 \n",
      " apur:0.8844930567529663 \n",
      " f1:0.8202898550724639 \n",
      " precision:0.8153483499214248 \n",
      " recall:0.8252916224814422 \n",
      ", 'Test':  best_epoch_indx:9\n",
      " auc:0.8773692938562239 \n",
      " apur:0.8794676036916547 \n",
      " f1:0.8086642599277979 \n",
      " precision:0.8096098649941533 \n",
      " recall:0.807720861172977 \n",
      "}\n",
      "=====Epoch 10\n",
      "Training...\n"
     ]
    },
    {
     "name": "stderr",
     "output_type": "stream",
     "text": [
      "Iteration: 100%|██████████| 24/24 [00:01<00:00, 20.40it/s]s]\n",
      "Iteration:  59%|█████▉    | 126/214 [00:10<00:07, 11.32it/s]"
     ]
    },
    {
     "name": "stdout",
     "output_type": "stream",
     "text": [
      "{'Train':  best_epoch_indx:9\n",
      " auc:0.9075359023944015 \n",
      " apur:0.9089041204673423 \n",
      " f1:0.837147102526003 \n",
      " precision:0.8445257225086941 \n",
      " recall:0.8298962997878859 \n",
      ", 'Validation':  best_epoch_indx:9\n",
      " auc:0.8851992156382715 \n",
      " apur:0.887466203885293 \n",
      " f1:0.8129170002668801 \n",
      " precision:0.8183772165502418 \n",
      " recall:0.8075291622481442 \n",
      ", 'Test':  best_epoch_indx:9\n",
      " auc:0.8815412411004223 \n",
      " apur:0.88230679591354 \n",
      " f1:0.8118325501922256 \n",
      " precision:0.8175951817595182 \n",
      " recall:0.8061505832449629 \n",
      "}\n",
      "=====Epoch 10\n",
      "Training...\n"
     ]
    },
    {
     "name": "stderr",
     "output_type": "stream",
     "text": [
      "Iteration: 100%|██████████| 24/24 [00:01<00:00, 19.24it/s]]]\n",
      "Iteration:  17%|█▋        | 36/214 [00:02<00:14, 12.37it/s]]"
     ]
    },
    {
     "name": "stdout",
     "output_type": "stream",
     "text": [
      "{'Train':  best_epoch_indx:9\n",
      " auc:0.9085858834954104 \n",
      " apur:0.9105248183026879 \n",
      " f1:0.8367114282753209 \n",
      " precision:0.8410322042978748 \n",
      " recall:0.8324348210340257 \n",
      ", 'Validation':  best_epoch_indx:9\n",
      " auc:0.8821304170239539 \n",
      " apur:0.8793643309248863 \n",
      " f1:0.8124833288877034 \n",
      " precision:0.8174986580783682 \n",
      " recall:0.8075291622481442 \n",
      ", 'Test':  best_epoch_indx:9\n",
      " auc:0.8860462432405614 \n",
      " apur:0.888324155465745 \n",
      " f1:0.8153198742875406 \n",
      " precision:0.8190282534246576 \n",
      " recall:0.8116449252306713 \n",
      "}\n",
      "=====Epoch 10\n",
      "Training...\n"
     ]
    },
    {
     "name": "stderr",
     "output_type": "stream",
     "text": [
      "Iteration: 100%|██████████| 214/214 [00:17<00:00, 12.05it/s]\n",
      "Iteration:   0%|          | 0/214 [00:00<?, ?it/s]"
     ]
    },
    {
     "name": "stdout",
     "output_type": "stream",
     "text": [
      "Evaluating...\n"
     ]
    },
    {
     "name": "stderr",
     "output_type": "stream",
     "text": [
      "Iteration: 100%|██████████| 214/214 [00:17<00:00, 11.94it/s]\n",
      "Iteration:  27%|██▋       | 57/214 [00:02<00:07, 21.91it/s]]"
     ]
    },
    {
     "name": "stdout",
     "output_type": "stream",
     "text": [
      "Evaluating...\n"
     ]
    },
    {
     "name": "stderr",
     "output_type": "stream",
     "text": [
      "Iteration: 100%|██████████| 214/214 [00:17<00:00, 11.97it/s]\n",
      "Iteration:  35%|███▌      | 75/214 [00:03<00:06, 21.86it/s]]"
     ]
    },
    {
     "name": "stdout",
     "output_type": "stream",
     "text": [
      "Evaluating...\n"
     ]
    },
    {
     "name": "stderr",
     "output_type": "stream",
     "text": [
      "Iteration: 100%|██████████| 214/214 [00:09<00:00, 22.07it/s]\n",
      "Iteration: 100%|██████████| 214/214 [00:17<00:00, 11.95it/s]\n",
      "Iteration:   1%|          | 2/214 [00:00<00:10, 19.52it/s]s]"
     ]
    },
    {
     "name": "stdout",
     "output_type": "stream",
     "text": [
      "Evaluating...\n"
     ]
    },
    {
     "name": "stderr",
     "output_type": "stream",
     "text": [
      "Iteration: 100%|██████████| 214/214 [00:09<00:00, 21.88it/s]\n",
      "Iteration: 100%|██████████| 60/60 [00:02<00:00, 22.24it/s]]]\n",
      "Iteration: 100%|██████████| 214/214 [00:17<00:00, 11.94it/s]\n",
      "Iteration:  29%|██▉       | 63/214 [00:03<00:07, 21.31it/s]]"
     ]
    },
    {
     "name": "stdout",
     "output_type": "stream",
     "text": [
      "Evaluating...\n"
     ]
    },
    {
     "name": "stderr",
     "output_type": "stream",
     "text": [
      "Iteration: 100%|██████████| 60/60 [00:02<00:00, 22.71it/s]]]\n",
      "Iteration: 100%|██████████| 214/214 [00:09<00:00, 22.10it/s]\n",
      "Iteration: 100%|██████████| 60/60 [00:02<00:00, 22.36it/s]s]\n",
      "Iteration: 100%|██████████| 214/214 [00:10<00:00, 21.24it/s]\n",
      "Iteration: 100%|██████████| 214/214 [00:09<00:00, 21.85it/s]\n",
      "Iteration: 100%|██████████| 60/60 [00:02<00:00, 22.04it/s]\n",
      "Iteration: 100%|██████████| 60/60 [00:02<00:00, 22.17it/s]\n",
      "Iteration: 100%|██████████| 24/24 [00:01<00:00, 21.23it/s]\n",
      "Iteration:   0%|          | 0/214 [00:00<?, ?it/s]"
     ]
    },
    {
     "name": "stdout",
     "output_type": "stream",
     "text": [
      "{'Train':  best_epoch_indx:10\n",
      " auc:0.9023336443634857 \n",
      " apur:0.9081030077598555 \n",
      " f1:0.8327326319475858 \n",
      " precision:0.8250159023882496 \n",
      " recall:0.8405950802769185 \n",
      ", 'Validation':  best_epoch_indx:10\n",
      " auc:0.8770221082567597 \n",
      " apur:0.8806845934041612 \n",
      " f1:0.8108886271430441 \n",
      " precision:0.8007237012147842 \n",
      " recall:0.8213149522799575 \n",
      ", 'Test':  best_epoch_indx:10\n",
      " auc:0.8719830871469014 \n",
      " apur:0.8750673013922298 \n",
      " f1:0.8029389998942805 \n",
      " precision:0.8004004636948046 \n",
      " recall:0.8054936896807721 \n",
      "}\n",
      "=====Epoch 11\n",
      "Training...\n"
     ]
    },
    {
     "name": "stderr",
     "output_type": "stream",
     "text": [
      "Iteration: 100%|██████████| 24/24 [00:01<00:00, 19.24it/s]]\n"
     ]
    },
    {
     "name": "stdout",
     "output_type": "stream",
     "text": [
      "{'Train':  best_epoch_indx:10\n",
      " auc:0.896277353397612 \n",
      " apur:0.8995056145420849 \n",
      " f1:0.8287128997898494 \n",
      " precision:0.8102395226434743 \n",
      " recall:0.8480483134482251 \n",
      ", 'Validation':  best_epoch_indx:10\n",
      " auc:0.8721482295889632 \n",
      " apur:0.8743674258863775 \n",
      " f1:0.8088349263756136 \n",
      " precision:0.7886649874055416 \n",
      " recall:0.8300636267232238 \n",
      ", 'Test':  best_epoch_indx:10\n",
      " auc:0.8729403928428077 \n",
      " apur:0.8743055077006472 \n",
      " f1:0.8083126550868486 \n",
      " precision:0.7885022692889562 \n",
      " recall:0.8291441298122812 \n",
      "}\n",
      "=====Epoch 11\n",
      "Training...\n"
     ]
    },
    {
     "name": "stderr",
     "output_type": "stream",
     "text": [
      "Iteration: 100%|██████████| 24/24 [00:01<00:00, 17.80it/s]]\n",
      "Iteration:  19%|█▊        | 40/214 [00:03<00:14, 12.09it/s]"
     ]
    },
    {
     "name": "stdout",
     "output_type": "stream",
     "text": [
      "{'Train':  best_epoch_indx:10\n",
      " auc:0.90988754751976 \n",
      " apur:0.9124712483594228 \n",
      " f1:0.8413022550249423 \n",
      " precision:0.8331840637910611 \n",
      " recall:0.8495802032699956 \n",
      ", 'Validation':  best_epoch_indx:10\n",
      " auc:0.8868904103898277 \n",
      " apur:0.8871077174465353 \n",
      " f1:0.8215778474399165 \n",
      " precision:0.8097322348094748 \n",
      " recall:0.8337751855779427 \n",
      ", 'Test':  best_epoch_indx:10\n",
      " auc:0.8813943265736724 \n",
      " apur:0.8831441154919121 \n",
      " f1:0.8147253439764731 \n",
      " precision:0.806928118173307 \n",
      " recall:0.8226747269063528 \n",
      "}\n",
      "=====Epoch 11\n",
      "Training...\n"
     ]
    },
    {
     "name": "stderr",
     "output_type": "stream",
     "text": [
      "Iteration: 100%|██████████| 24/24 [00:01<00:00, 19.67it/s]s]\n",
      "Iteration:  65%|██████▌   | 140/214 [00:11<00:06, 11.98it/s]"
     ]
    },
    {
     "name": "stdout",
     "output_type": "stream",
     "text": [
      "{'Train':  best_epoch_indx:10\n",
      " auc:0.9119960979092957 \n",
      " apur:0.9144874454798237 \n",
      " f1:0.8461025982678214 \n",
      " precision:0.8321463164492052 \n",
      " recall:0.8605349988215885 \n",
      ", 'Validation':  best_epoch_indx:10\n",
      " auc:0.8887341789412796 \n",
      " apur:0.8898744962853857 \n",
      " f1:0.8239885521009497 \n",
      " precision:0.8089399744572159 \n",
      " recall:0.8396076352067868 \n",
      ", 'Test':  best_epoch_indx:10\n",
      " auc:0.8850977927537796 \n",
      " apur:0.886337691016858 \n",
      " f1:0.8229660090573109 \n",
      " precision:0.8081995705960535 \n",
      " recall:0.8382820784729587 \n",
      "}\n",
      "=====Epoch 11\n",
      "Training...\n"
     ]
    },
    {
     "name": "stderr",
     "output_type": "stream",
     "text": [
      "Iteration: 100%|██████████| 24/24 [00:01<00:00, 21.55it/s]s]\n",
      "Iteration:  77%|███████▋  | 164/214 [00:13<00:04, 12.27it/s]"
     ]
    },
    {
     "name": "stdout",
     "output_type": "stream",
     "text": [
      "{'Train':  best_epoch_indx:10\n",
      " auc:0.9134174074531158 \n",
      " apur:0.915479036128098 \n",
      " f1:0.8470782178647348 \n",
      " precision:0.8318847989093388 \n",
      " recall:0.8628369421122404 \n",
      ", 'Validation':  best_epoch_indx:10\n",
      " auc:0.8856350558382846 \n",
      " apur:0.8818878043830338 \n",
      " f1:0.8199973893747554 \n",
      " precision:0.8076626382103369 \n",
      " recall:0.8327147401908802 \n",
      ", 'Test':  best_epoch_indx:10\n",
      " auc:0.887892024984302 \n",
      " apur:0.8894681623457803 \n",
      " f1:0.8254479356011425 \n",
      " precision:0.8087726440056991 \n",
      " recall:0.8428253261215399 \n",
      "}\n",
      "=====Epoch 11\n",
      "Training...\n"
     ]
    },
    {
     "name": "stderr",
     "output_type": "stream",
     "text": [
      "Iteration: 100%|██████████| 214/214 [00:17<00:00, 12.28it/s]\n",
      "Iteration:  23%|██▎       | 50/214 [00:04<00:14, 11.45it/s]]"
     ]
    },
    {
     "name": "stdout",
     "output_type": "stream",
     "text": [
      "Evaluating...\n"
     ]
    },
    {
     "name": "stderr",
     "output_type": "stream",
     "text": [
      "Iteration: 100%|██████████| 214/214 [00:17<00:00, 12.14it/s]\n",
      "Iteration:   1%|          | 2/214 [00:00<00:10, 19.84it/s]]]"
     ]
    },
    {
     "name": "stdout",
     "output_type": "stream",
     "text": [
      "Evaluating...\n"
     ]
    },
    {
     "name": "stderr",
     "output_type": "stream",
     "text": [
      "Iteration: 100%|██████████| 214/214 [00:17<00:00, 12.17it/s]\n",
      "Iteration:  35%|███▍      | 74/214 [00:03<00:06, 21.77it/s]"
     ]
    },
    {
     "name": "stdout",
     "output_type": "stream",
     "text": [
      "Evaluating...\n"
     ]
    },
    {
     "name": "stderr",
     "output_type": "stream",
     "text": [
      "Iteration: 100%|██████████| 214/214 [00:09<00:00, 21.60it/s]\n",
      "Iteration: 100%|██████████| 214/214 [00:17<00:00, 11.99it/s]\n",
      "Iteration:   1%|▏         | 3/214 [00:00<00:09, 21.69it/s]s]"
     ]
    },
    {
     "name": "stdout",
     "output_type": "stream",
     "text": [
      "Evaluating...\n"
     ]
    },
    {
     "name": "stderr",
     "output_type": "stream",
     "text": [
      "Iteration: 100%|██████████| 214/214 [00:09<00:00, 22.21it/s]\n",
      "Iteration: 100%|██████████| 60/60 [00:02<00:00, 20.38it/s]s]\n",
      "Iteration: 100%|██████████| 214/214 [00:17<00:00, 12.10it/s]\n",
      "Iteration:   0%|          | 0/214 [00:00<?, ?it/s]"
     ]
    },
    {
     "name": "stdout",
     "output_type": "stream",
     "text": [
      "Evaluating...\n"
     ]
    },
    {
     "name": "stderr",
     "output_type": "stream",
     "text": [
      "Iteration: 100%|██████████| 60/60 [00:02<00:00, 22.57it/s]]]\n",
      "Iteration: 100%|██████████| 214/214 [00:09<00:00, 22.18it/s]\n",
      "Iteration: 100%|██████████| 60/60 [00:02<00:00, 22.33it/s]s]\n",
      "Iteration: 100%|██████████| 214/214 [00:09<00:00, 22.07it/s]\n",
      "Iteration: 100%|██████████| 214/214 [00:09<00:00, 21.75it/s]\n",
      "Iteration: 100%|██████████| 60/60 [00:02<00:00, 22.00it/s]\n",
      "Iteration: 100%|██████████| 24/24 [00:01<00:00, 21.96it/s]\n",
      "Iteration:  75%|███████▌  | 45/60 [00:02<00:00, 21.66it/s]"
     ]
    },
    {
     "name": "stdout",
     "output_type": "stream",
     "text": [
      "{'Train':  best_epoch_indx:11\n",
      " auc:0.9112495578754325 \n",
      " apur:0.9144243085801829 \n",
      " f1:0.8430419764650782 \n",
      " precision:0.837696335078534 \n",
      " recall:0.8484562809333019 \n",
      ", 'Validation':  best_epoch_indx:11\n",
      " auc:0.8890038488713108 \n",
      " apur:0.8902156239958945 \n",
      " f1:0.8206478799051884 \n",
      " precision:0.815279958137101 \n",
      " recall:0.8260869565217391 \n",
      ", 'Test':  best_epoch_indx:11\n",
      " auc:0.8843176632091927 \n",
      " apur:0.885907605169876 \n",
      " f1:0.8173711149807399 \n",
      " precision:0.8134649721667893 \n",
      " recall:0.8213149522799575 \n",
      "}\n",
      "=====Epoch 12\n",
      "Training...\n"
     ]
    },
    {
     "name": "stderr",
     "output_type": "stream",
     "text": [
      "Iteration: 100%|██████████| 60/60 [00:02<00:00, 21.78it/s]\n",
      "Iteration: 100%|██████████| 24/24 [00:01<00:00, 21.64it/s]]\n",
      "Iteration:   1%|          | 2/214 [00:00<00:17, 12.24it/s]]"
     ]
    },
    {
     "name": "stdout",
     "output_type": "stream",
     "text": [
      "{'Train':  best_epoch_indx:11\n",
      " auc:0.9112962240086635 \n",
      " apur:0.914905202878315 \n",
      " f1:0.8438840808915052 \n",
      " precision:0.8389820638248311 \n",
      " recall:0.8488437177787598 \n",
      ", 'Validation':  best_epoch_indx:11\n",
      " auc:0.8827029750820703 \n",
      " apur:0.8823361672541581 \n",
      " f1:0.8147271531886917 \n",
      " precision:0.8082441951474041 \n",
      " recall:0.8213149522799575 \n",
      ", 'Test':  best_epoch_indx:11\n",
      " auc:0.8839268467057195 \n",
      " apur:0.8874136619672293 \n",
      " f1:0.8176778242677826 \n",
      " precision:0.8066247033329894 \n",
      " recall:0.8290380740269382 \n",
      "}\n",
      "=====Epoch 12\n",
      "Training...\n"
     ]
    },
    {
     "name": "stderr",
     "output_type": "stream",
     "text": [
      "Iteration: 100%|██████████| 24/24 [00:01<00:00, 19.38it/s]]\n",
      "Iteration:   0%|          | 0/214 [00:00<?, ?it/s]1.93it/s]"
     ]
    },
    {
     "name": "stdout",
     "output_type": "stream",
     "text": [
      "{'Train':  best_epoch_indx:11\n",
      " auc:0.9072946227709763 \n",
      " apur:0.9113564934972421 \n",
      " f1:0.8399947923447467 \n",
      " precision:0.8252046384720327 \n",
      " recall:0.855324790101635 \n",
      ", 'Validation':  best_epoch_indx:11\n",
      " auc:0.8807897971454232 \n",
      " apur:0.8836332290916107 \n",
      " f1:0.8141109086175474 \n",
      " precision:0.7997442455242967 \n",
      " recall:0.8290031813361611 \n",
      ", 'Test':  best_epoch_indx:11\n",
      " auc:0.8768147717948443 \n",
      " apur:0.8787682203576992 \n",
      " f1:0.8143281714375099 \n",
      " precision:0.800923076923077 \n",
      " recall:0.8281896277441935 \n",
      "}\n",
      "=====Epoch 12\n",
      "Training...\n"
     ]
    },
    {
     "name": "stderr",
     "output_type": "stream",
     "text": [
      "Iteration: 100%|██████████| 24/24 [00:01<00:00, 19.38it/s]]\n",
      "Iteration:  32%|███▏      | 68/214 [00:05<00:12, 11.42it/s]"
     ]
    },
    {
     "name": "stdout",
     "output_type": "stream",
     "text": [
      "{'Train':  best_epoch_indx:11\n",
      " auc:0.8947943049912161 \n",
      " apur:0.8976758188838461 \n",
      " f1:0.8106683016554262 \n",
      " precision:0.8449912126537785 \n",
      " recall:0.7790248932096038 \n",
      ", 'Validation':  best_epoch_indx:11\n",
      " auc:0.8769192824742373 \n",
      " apur:0.8839783362369247 \n",
      " f1:0.7841776544066622 \n",
      " precision:0.8228954267404602 \n",
      " recall:0.7489395546129375 \n",
      ", 'Test':  best_epoch_indx:11\n",
      " auc:0.874754270267692 \n",
      " apur:0.874855626867465 \n",
      " f1:0.7919885235047451 \n",
      " precision:0.8254169062679702 \n",
      " recall:0.7611623714073603 \n",
      "}\n",
      "=====Epoch 12\n",
      "Training...\n"
     ]
    },
    {
     "name": "stderr",
     "output_type": "stream",
     "text": [
      "Iteration: 100%|██████████| 24/24 [00:01<00:00, 21.62it/s]]]\n",
      "Iteration:  19%|█▊        | 40/214 [00:03<00:14, 12.22it/s]]"
     ]
    },
    {
     "name": "stdout",
     "output_type": "stream",
     "text": [
      "{'Train':  best_epoch_indx:11\n",
      " auc:0.9121390429396737 \n",
      " apur:0.9140619875392348 \n",
      " f1:0.844617205652409 \n",
      " precision:0.8379922287304993 \n",
      " recall:0.8513477684489615 \n",
      ", 'Validation':  best_epoch_indx:11\n",
      " auc:0.8884716838249098 \n",
      " apur:0.8864617467387097 \n",
      " f1:0.8221842554869234 \n",
      " precision:0.8152202241334375 \n",
      " recall:0.8292682926829268 \n",
      ", 'Test':  best_epoch_indx:11\n",
      " auc:0.8827744726261898 \n",
      " apur:0.8848789893063677 \n",
      " f1:0.8142955036634864 \n",
      " precision:0.8094739048417523 \n",
      " recall:0.8191748859900307 \n",
      "}\n",
      "=====Epoch 12\n",
      "Training...\n"
     ]
    },
    {
     "name": "stderr",
     "output_type": "stream",
     "text": [
      "Iteration: 100%|██████████| 214/214 [00:17<00:00, 12.03it/s]\n",
      "Iteration:   1%|▏         | 3/214 [00:00<00:09, 21.60it/s]]]"
     ]
    },
    {
     "name": "stdout",
     "output_type": "stream",
     "text": [
      "Evaluating...\n"
     ]
    },
    {
     "name": "stderr",
     "output_type": "stream",
     "text": [
      "Iteration: 100%|██████████| 214/214 [00:17<00:00, 11.99it/s]\n",
      "Iteration:  79%|███████▊  | 168/214 [00:13<00:03, 12.37it/s]"
     ]
    },
    {
     "name": "stdout",
     "output_type": "stream",
     "text": [
      "Evaluating...\n"
     ]
    },
    {
     "name": "stderr",
     "output_type": "stream",
     "text": [
      "Iteration: 100%|██████████| 214/214 [00:17<00:00, 12.15it/s]\n",
      "Iteration:  59%|█████▉    | 126/214 [00:06<00:03, 22.28it/s]"
     ]
    },
    {
     "name": "stdout",
     "output_type": "stream",
     "text": [
      "Evaluating...\n"
     ]
    },
    {
     "name": "stderr",
     "output_type": "stream",
     "text": [
      "Iteration: 100%|██████████| 214/214 [00:17<00:00, 12.17it/s]\n",
      "Iteration:  82%|████████▏ | 176/214 [00:14<00:03, 12.19it/s]"
     ]
    },
    {
     "name": "stdout",
     "output_type": "stream",
     "text": [
      "Evaluating...\n"
     ]
    },
    {
     "name": "stderr",
     "output_type": "stream",
     "text": [
      "Iteration: 100%|██████████| 214/214 [00:10<00:00, 21.32it/s]\n",
      "Iteration: 100%|██████████| 214/214 [00:17<00:00, 12.16it/s]\n",
      "Iteration:   0%|          | 0/214 [00:00<?, ?it/s]"
     ]
    },
    {
     "name": "stdout",
     "output_type": "stream",
     "text": [
      "Evaluating...\n"
     ]
    },
    {
     "name": "stderr",
     "output_type": "stream",
     "text": [
      "Iteration: 100%|██████████| 214/214 [00:10<00:00, 20.89it/s]\n",
      "Iteration: 100%|██████████| 60/60 [00:02<00:00, 22.58it/s]]]\n",
      "Iteration: 100%|██████████| 60/60 [00:02<00:00, 22.42it/s]s]\n",
      "Iteration: 100%|██████████| 214/214 [00:10<00:00, 20.32it/s]\n",
      "Iteration: 100%|██████████| 24/24 [00:01<00:00, 22.28it/s]s]\n",
      "Iteration:   1%|          | 2/214 [00:00<00:17, 12.34it/s]s]"
     ]
    },
    {
     "name": "stdout",
     "output_type": "stream",
     "text": [
      "{'Train':  best_epoch_indx:12\n",
      " auc:0.9156018623306356 \n",
      " apur:0.917530044745918 \n",
      " f1:0.8479972013293685 \n",
      " precision:0.8392625292131913 \n",
      " recall:0.8569155987627044 \n",
      ", 'Validation':  best_epoch_indx:12\n",
      " auc:0.8854051446822977 \n",
      " apur:0.8825470743501391 \n",
      " f1:0.821372446306967 \n",
      " precision:0.8115942028985508 \n",
      " recall:0.8313891834570519 \n",
      ", 'Test':  best_epoch_indx:12\n",
      " auc:0.8859295488888813 \n",
      " apur:0.8864122373554401 \n",
      " f1:0.8195280205117472 \n",
      " precision:0.80882049163396 \n",
      " recall:0.8305228550217414 \n",
      "}\n",
      "=====Epoch 13\n",
      "Training...\n"
     ]
    },
    {
     "name": "stderr",
     "output_type": "stream",
     "text": [
      "Iteration: 100%|██████████| 214/214 [00:10<00:00, 21.21it/s]\n",
      "Iteration: 100%|██████████| 60/60 [00:02<00:00, 22.19it/s]s]\n",
      "Iteration: 100%|██████████| 214/214 [00:10<00:00, 21.23it/s]\n",
      "Iteration: 100%|██████████| 60/60 [00:02<00:00, 22.53it/s]]\n",
      "Iteration: 100%|██████████| 24/24 [00:01<00:00, 21.00it/s]]\n",
      "Iteration:   0%|          | 0/214 [00:00<?, ?it/s]2.42it/s]"
     ]
    },
    {
     "name": "stdout",
     "output_type": "stream",
     "text": [
      "{'Train':  best_epoch_indx:12\n",
      " auc:0.9015519546095871 \n",
      " apur:0.9062212454801142 \n",
      " f1:0.835225458029674 \n",
      " precision:0.8233677762830237 \n",
      " recall:0.847429665635587 \n",
      ", 'Validation':  best_epoch_indx:12\n",
      " auc:0.8766972200094374 \n",
      " apur:0.8797155201046606 \n",
      " f1:0.8135152696556205 \n",
      " precision:0.7978587815447362 \n",
      " recall:0.8297985153764581 \n",
      ", 'Test':  best_epoch_indx:12\n",
      " auc:0.8716631120218039 \n",
      " apur:0.873734085240253 \n",
      " f1:0.8104023347925787 \n",
      " precision:0.796700481606722 \n",
      " recall:0.8245837310425284 \n",
      "}\n",
      "=====Epoch 13\n",
      "Training...\n"
     ]
    },
    {
     "name": "stderr",
     "output_type": "stream",
     "text": [
      "Iteration: 100%|██████████| 60/60 [00:02<00:00, 20.45it/s]]\n",
      "Iteration: 100%|██████████| 24/24 [00:01<00:00, 18.27it/s]]]\n",
      "Iteration:  52%|█████▏    | 112/214 [00:09<00:08, 12.31it/s]"
     ]
    },
    {
     "name": "stdout",
     "output_type": "stream",
     "text": [
      "{'Train':  best_epoch_indx:12\n",
      " auc:0.9098013214019062 \n",
      " apur:0.9114455979229796 \n",
      " f1:0.8452452971509232 \n",
      " precision:0.826949635015924 \n",
      " recall:0.8643688319340109 \n",
      ", 'Validation':  best_epoch_indx:12\n",
      " auc:0.8849599494766269 \n",
      " apur:0.8812512647398982 \n",
      " f1:0.8227225672877847 \n",
      " precision:0.8035894843276037 \n",
      " recall:0.8427889713679746 \n",
      ", 'Test':  best_epoch_indx:12\n",
      " auc:0.8809142719118104 \n",
      " apur:0.8807819558216934 \n",
      " f1:0.8217754921822243 \n",
      " precision:0.8053349623294644 \n",
      " recall:0.8389012620638456 \n",
      "}\n",
      "=====Epoch 13\n",
      "Training...\n"
     ]
    },
    {
     "name": "stderr",
     "output_type": "stream",
     "text": [
      "Iteration: 100%|██████████| 24/24 [00:01<00:00, 19.85it/s]s]\n",
      "Iteration:   1%|          | 2/214 [00:00<00:19, 11.01it/s]]]"
     ]
    },
    {
     "name": "stdout",
     "output_type": "stream",
     "text": [
      "{'Train':  best_epoch_indx:12\n",
      " auc:0.9136472689574381 \n",
      " apur:0.9153249027081989 \n",
      " f1:0.8493521841267095 \n",
      " precision:0.8313912479191942 \n",
      " recall:0.8681062927174169 \n",
      ", 'Validation':  best_epoch_indx:12\n",
      " auc:0.8897596619766905 \n",
      " apur:0.889370392881606 \n",
      " f1:0.8273809523809523 \n",
      " precision:0.8081395348837209 \n",
      " recall:0.8475609756097561 \n",
      ", 'Test':  best_epoch_indx:12\n",
      " auc:0.8866111570424599 \n",
      " apur:0.8863508265273166 \n",
      " f1:0.8245003893070335 \n",
      " precision:0.8075241484494153 \n",
      " recall:0.8422057264050902 \n",
      "}\n",
      "=====Epoch 13\n",
      "Training...\n"
     ]
    },
    {
     "name": "stderr",
     "output_type": "stream",
     "text": [
      "Iteration: 100%|██████████| 214/214 [00:17<00:00, 12.25it/s]\n",
      "Iteration:  49%|████▊     | 104/214 [00:08<00:09, 12.10it/s]"
     ]
    },
    {
     "name": "stdout",
     "output_type": "stream",
     "text": [
      "Evaluating...\n"
     ]
    },
    {
     "name": "stderr",
     "output_type": "stream",
     "text": [
      "Iteration: 100%|██████████| 214/214 [00:17<00:00, 12.16it/s]\n",
      "Iteration:   0%|          | 0/214 [00:00<?, ?it/s]"
     ]
    },
    {
     "name": "stdout",
     "output_type": "stream",
     "text": [
      "Evaluating...\n"
     ]
    },
    {
     "name": "stderr",
     "output_type": "stream",
     "text": [
      "\r",
      "Iteration:  92%|█████████▏| 22/24 [00:01<00:00, 18.49it/s]\r",
      "Iteration:  45%|████▍     | 96/214 [00:04<00:05, 22.16it/s]\r",
      "Iteration:  41%|████      | 88/214 [00:07<00:10, 12.47it/s]\r",
      "Iteration: 100%|██████████| 24/24 [00:01<00:00, 18.97it/s]\n",
      "\r",
      "Iteration:  74%|███████▍  | 158/214 [00:12<00:04, 12.33it/s]\r",
      "Iteration:   1%|▏         | 3/214 [00:00<00:09, 21.51it/s]\r",
      "Iteration:  46%|████▋     | 99/214 [00:04<00:05, 22.16it/s]\r",
      "Iteration:   0%|          | 0/214 [00:00<?, ?it/s]"
     ]
    },
    {
     "name": "stdout",
     "output_type": "stream",
     "text": [
      "{'Train':  best_epoch_indx:12\n",
      " auc:0.8958510253574494 \n",
      " apur:0.8992638952638141 \n",
      " f1:0.8247325731750323 \n",
      " precision:0.8227258069244525 \n",
      " recall:0.8267491530416851 \n",
      ", 'Validation':  best_epoch_indx:12\n",
      " auc:0.8714963125421766 \n",
      " apur:0.8747895813853173 \n",
      " f1:0.8023301999205613 \n",
      " precision:0.8013752975403332 \n",
      " recall:0.8032873806998939 \n",
      ", 'Test':  best_epoch_indx:12\n",
      " auc:0.8739887593553636 \n",
      " apur:0.8757324469430119 \n",
      " f1:0.8034865293185419 \n",
      " precision:0.8004420587306599 \n",
      " recall:0.806554247534203 \n",
      "}\n",
      "=====Epoch 13\n",
      "Training...\n"
     ]
    },
    {
     "name": "stderr",
     "output_type": "stream",
     "text": [
      "Iteration: 100%|██████████| 214/214 [00:17<00:00, 12.25it/s]\n",
      "Iteration:  48%|████▊     | 102/214 [00:04<00:04, 22.53it/s]"
     ]
    },
    {
     "name": "stdout",
     "output_type": "stream",
     "text": [
      "Evaluating...\n"
     ]
    },
    {
     "name": "stderr",
     "output_type": "stream",
     "text": [
      "Iteration: 100%|██████████| 214/214 [00:09<00:00, 21.91it/s]\n",
      "Iteration: 100%|██████████| 60/60 [00:02<00:00, 22.31it/s]s]\n",
      "Iteration: 100%|██████████| 214/214 [00:09<00:00, 22.15it/s]\n",
      "Iteration: 100%|██████████| 24/24 [00:01<00:00, 22.22it/s]s]\n",
      "Iteration:  99%|█████████▉| 212/214 [00:17<00:00, 12.34it/s]"
     ]
    },
    {
     "name": "stdout",
     "output_type": "stream",
     "text": [
      "{'Train':  best_epoch_indx:13\n",
      " auc:0.9152768729043843 \n",
      " apur:0.9170754395982778 \n",
      " f1:0.8522180119091712 \n",
      " precision:0.8250903373513916 \n",
      " recall:0.8811901605538371 \n",
      ", 'Validation':  best_epoch_indx:13\n",
      " auc:0.8857152472638987 \n",
      " apur:0.8823087611350786 \n",
      " f1:0.8294871794871794 \n",
      " precision:0.8031281032770605 \n",
      " recall:0.8576352067868505 \n",
      ", 'Test':  best_epoch_indx:13\n",
      " auc:0.8877819218493328 \n",
      " apur:0.8878771753793838 \n",
      " f1:0.8272085167366159 \n",
      " precision:0.7993866851320606 \n",
      " recall:0.857036801357514 \n",
      "}\n",
      "=====Epoch 14\n",
      "Training...\n",
      "Evaluating...\n"
     ]
    },
    {
     "name": "stderr",
     "output_type": "stream",
     "text": [
      "Iteration: 100%|██████████| 214/214 [00:17<00:00, 12.16it/s]\n",
      "Iteration: 100%|██████████| 60/60 [00:02<00:00, 22.59it/s]s]\n",
      "Iteration: 100%|██████████| 24/24 [00:01<00:00, 22.54it/s]s]\n",
      "Iteration:  82%|████████▏ | 176/214 [00:14<00:03, 12.29it/s]"
     ]
    },
    {
     "name": "stdout",
     "output_type": "stream",
     "text": [
      "{'Train':  best_epoch_indx:13\n",
      " auc:0.8977501099980507 \n",
      " apur:0.9017997937336394 \n",
      " f1:0.830199679347034 \n",
      " precision:0.8215779604788692 \n",
      " recall:0.8390042716158491 \n",
      ", 'Validation':  best_epoch_indx:13\n",
      " auc:0.8757193047994034 \n",
      " apur:0.8757116201726032 \n",
      " f1:0.8136516999740462 \n",
      " precision:0.7968988307066599 \n",
      " recall:0.8311240721102863 \n",
      ", 'Test':  best_epoch_indx:13\n",
      " auc:0.8711659501558107 \n",
      " apur:0.8722065439104514 \n",
      " f1:0.8057523749540755 \n",
      " precision:0.7975893599334996 \n",
      " recall:0.8140842082935624 \n",
      "}\n",
      "=====Epoch 14\n",
      "Training...\n"
     ]
    },
    {
     "name": "stderr",
     "output_type": "stream",
     "text": [
      "Iteration: 100%|██████████| 214/214 [00:10<00:00, 19.56it/s]\n",
      "Iteration: 100%|██████████| 214/214 [00:17<00:00, 12.30it/s]\n",
      "Iteration:  19%|█▊        | 40/214 [00:03<00:14, 12.16it/s]"
     ]
    },
    {
     "name": "stdout",
     "output_type": "stream",
     "text": [
      "Evaluating...\n"
     ]
    },
    {
     "name": "stderr",
     "output_type": "stream",
     "text": [
      "Iteration: 100%|██████████| 60/60 [00:02<00:00, 20.94it/s]s]\n",
      "Iteration: 100%|██████████| 214/214 [00:09<00:00, 22.20it/s]\n",
      "Iteration: 100%|██████████| 60/60 [00:02<00:00, 22.44it/s]s]\n",
      "Iteration: 100%|██████████| 24/24 [00:01<00:00, 20.07it/s]s]\n",
      "Iteration:   0%|          | 0/214 [00:00<?, ?it/s]22.00it/s]"
     ]
    },
    {
     "name": "stdout",
     "output_type": "stream",
     "text": [
      "{'Train':  best_epoch_indx:13\n",
      " auc:0.9144030440254458 \n",
      " apur:0.9155548071804631 \n",
      " f1:0.8300437754396743 \n",
      " precision:0.8671095279355605 \n",
      " recall:0.7960169691256187 \n",
      ", 'Validation':  best_epoch_indx:13\n",
      " auc:0.8918914140709433 \n",
      " apur:0.8910292458147872 \n",
      " f1:0.8067273228563552 \n",
      " precision:0.8403216542217117 \n",
      " recall:0.7757158006362672 \n",
      ", 'Test':  best_epoch_indx:13\n",
      " auc:0.8847233194084595 \n",
      " apur:0.8843475785342483 \n",
      " f1:0.8010651281482303 \n",
      " precision:0.8399255467659377 \n",
      " recall:0.7656415694591728 \n",
      "}\n",
      "=====Epoch 14\n",
      "Training...\n"
     ]
    },
    {
     "name": "stderr",
     "output_type": "stream",
     "text": [
      "Iteration: 100%|██████████| 214/214 [00:09<00:00, 22.09it/s]\n",
      "Iteration: 100%|██████████| 214/214 [00:17<00:00, 12.06it/s]\n",
      "Iteration:   5%|▌         | 3/60 [00:00<00:02, 20.96it/s]]]"
     ]
    },
    {
     "name": "stdout",
     "output_type": "stream",
     "text": [
      "Evaluating...\n"
     ]
    },
    {
     "name": "stderr",
     "output_type": "stream",
     "text": [
      "Iteration: 100%|██████████| 60/60 [00:02<00:00, 20.99it/s]]]\n",
      "Iteration: 100%|██████████| 214/214 [00:17<00:00, 12.10it/s]\n",
      "Iteration:   0%|          | 0/214 [00:00<?, ?it/s]"
     ]
    },
    {
     "name": "stdout",
     "output_type": "stream",
     "text": [
      "Evaluating...\n"
     ]
    },
    {
     "name": "stderr",
     "output_type": "stream",
     "text": [
      "Iteration: 100%|██████████| 214/214 [00:09<00:00, 21.73it/s]\n",
      "Iteration: 100%|██████████| 24/24 [00:01<00:00, 21.39it/s]s]\n",
      "Iteration:  57%|█████▋    | 121/214 [00:06<00:04, 21.64it/s]"
     ]
    },
    {
     "name": "stdout",
     "output_type": "stream",
     "text": [
      "{'Train':  best_epoch_indx:13\n",
      " auc:0.9102671353821462 \n",
      " apur:0.9125733991259983 \n",
      " f1:0.8322855588466421 \n",
      " precision:0.8544698544698545 \n",
      " recall:0.8112240388864339 \n",
      ", 'Validation':  best_epoch_indx:13\n",
      " auc:0.8844247718012859 \n",
      " apur:0.8831227489137772 \n",
      " f1:0.8121113814544471 \n",
      " precision:0.8284611141753999 \n",
      " recall:0.7963944856839873 \n",
      ", 'Test':  best_epoch_indx:13\n",
      " auc:0.8824966090058107 \n",
      " apur:0.885380615573565 \n",
      " f1:0.8040250203970628 \n",
      " precision:0.8252568110763734 \n",
      " recall:0.7838583094707816 \n",
      "}\n",
      "=====Epoch 14\n",
      "Training...\n"
     ]
    },
    {
     "name": "stderr",
     "output_type": "stream",
     "text": [
      "Iteration: 100%|██████████| 60/60 [00:02<00:00, 22.43it/s]s]\n",
      "Iteration: 100%|██████████| 214/214 [00:10<00:00, 20.60it/s]\n",
      "Iteration: 100%|██████████| 24/24 [00:01<00:00, 17.67it/s]s]\n",
      "Iteration: 100%|██████████| 214/214 [00:17<00:00, 12.00it/s]\n",
      "Iteration:   0%|          | 0/214 [00:00<?, ?it/s]"
     ]
    },
    {
     "name": "stdout",
     "output_type": "stream",
     "text": [
      "Evaluating...\n",
      "{'Train':  best_epoch_indx:14\n",
      " auc:0.908049021179091 \n",
      " apur:0.9089818311609166 \n",
      " f1:0.843910362374046 \n",
      " precision:0.8240231304738379 \n",
      " recall:0.8647812638091029 \n",
      ", 'Validation':  best_epoch_indx:14\n",
      " auc:0.8774174761653483 \n",
      " apur:0.8753200938127275 \n",
      " f1:0.8190279214064116 \n",
      " precision:0.7991927346115035 \n",
      " recall:0.8398727465535525 \n",
      ", 'Test':  best_epoch_indx:14\n",
      " auc:0.881324610241817 \n",
      " apur:0.8816146840400115 \n",
      " f1:0.8196535368117138 \n",
      " precision:0.7975318551219023 \n",
      " recall:0.8430374376922262 \n",
      "}\n",
      "=====Epoch 15\n",
      "Training...\n"
     ]
    },
    {
     "name": "stderr",
     "output_type": "stream",
     "text": [
      "Iteration: 100%|██████████| 60/60 [00:02<00:00, 22.33it/s]]\n",
      "Iteration: 100%|██████████| 24/24 [00:01<00:00, 19.77it/s]s]\n",
      "Iteration:  63%|██████▎   | 134/214 [00:06<00:03, 21.92it/s]"
     ]
    },
    {
     "name": "stdout",
     "output_type": "stream",
     "text": [
      "{'Train':  best_epoch_indx:13\n",
      " auc:0.9025683246552171 \n",
      " apur:0.9065278087162822 \n",
      " f1:0.8345836240986276 \n",
      " precision:0.8238755417778926 \n",
      " recall:0.8455737221976727 \n",
      ", 'Validation':  best_epoch_indx:13\n",
      " auc:0.8784324149994673 \n",
      " apur:0.8828632684009937 \n",
      " f1:0.809076682316119 \n",
      " precision:0.7962012320328542 \n",
      " recall:0.8223753976670202 \n",
      ", 'Test':  best_epoch_indx:13\n",
      " auc:0.8755646582542609 \n",
      " apur:0.8788969967338895 \n",
      " f1:0.8104050461345984 \n",
      " precision:0.7969038343243797 \n",
      " recall:0.8243716194718422 \n",
      "}\n",
      "=====Epoch 14\n",
      "Training...\n"
     ]
    },
    {
     "name": "stderr",
     "output_type": "stream",
     "text": [
      "Iteration: 100%|██████████| 214/214 [00:10<00:00, 20.82it/s]\n",
      "Iteration: 100%|██████████| 214/214 [00:17<00:00, 11.92it/s]\n",
      "Iteration:  77%|███████▋  | 46/60 [00:02<00:00, 21.11it/s]s]"
     ]
    },
    {
     "name": "stdout",
     "output_type": "stream",
     "text": [
      "Evaluating...\n"
     ]
    },
    {
     "name": "stderr",
     "output_type": "stream",
     "text": [
      "Iteration: 100%|██████████| 60/60 [00:02<00:00, 20.87it/s]]]\n",
      "Iteration: 100%|██████████| 24/24 [00:01<00:00, 20.28it/s]s]\n",
      "Iteration:  22%|██▏       | 48/214 [00:02<00:07, 22.23it/s]"
     ]
    },
    {
     "name": "stdout",
     "output_type": "stream",
     "text": [
      "{'Train':  best_epoch_indx:14\n",
      " auc:0.9117391424328108 \n",
      " apur:0.913013047630314 \n",
      " f1:0.8273140470487071 \n",
      " precision:0.8639833226427197 \n",
      " recall:0.7936306858354938 \n",
      ", 'Validation':  best_epoch_indx:14\n",
      " auc:0.8861122800463755 \n",
      " apur:0.8836445675146738 \n",
      " f1:0.8016551724137931 \n",
      " precision:0.8355376653248994 \n",
      " recall:0.7704135737009544 \n",
      ", 'Test':  best_epoch_indx:14\n",
      " auc:0.884908570679719 \n",
      " apur:0.8861731379206236 \n",
      " f1:0.7996662030598054 \n",
      " precision:0.8410766530134581 \n",
      " recall:0.7621420996818664 \n",
      "}\n",
      "=====Epoch 15\n",
      "Training...\n"
     ]
    },
    {
     "name": "stderr",
     "output_type": "stream",
     "text": [
      "Iteration: 100%|██████████| 214/214 [00:17<00:00, 12.20it/s]\n"
     ]
    },
    {
     "name": "stdout",
     "output_type": "stream",
     "text": [
      "Evaluating...\n"
     ]
    },
    {
     "name": "stderr",
     "output_type": "stream",
     "text": [
      "Iteration: 100%|██████████| 24/24 [00:01<00:00, 20.38it/s]s]\n",
      "Iteration:  36%|███▌      | 76/214 [00:06<00:11, 12.28it/s]]"
     ]
    },
    {
     "name": "stdout",
     "output_type": "stream",
     "text": [
      "{'Train':  best_epoch_indx:14\n",
      " auc:0.9082438016696797 \n",
      " apur:0.9120903224510668 \n",
      " f1:0.8317526269834101 \n",
      " precision:0.8504972137557342 \n",
      " recall:0.813816467815584 \n",
      ", 'Validation':  best_epoch_indx:14\n",
      " auc:0.881034295767859 \n",
      " apur:0.8813444364493561 \n",
      " f1:0.8068807955919903 \n",
      " precision:0.8182065958026711 \n",
      " recall:0.795864262990456 \n",
      ", 'Test':  best_epoch_indx:14\n",
      " auc:0.8782719161235749 \n",
      " apur:0.8799606509154714 \n",
      " f1:0.8019376258640396 \n",
      " precision:0.823680679785331 \n",
      " recall:0.7813129706225475 \n",
      "}\n",
      "=====Epoch 15\n",
      "Training...\n"
     ]
    },
    {
     "name": "stderr",
     "output_type": "stream",
     "text": [
      "Iteration: 100%|██████████| 214/214 [00:09<00:00, 22.04it/s]\n",
      "Iteration: 100%|██████████| 214/214 [00:17<00:00, 12.05it/s]\n",
      "Iteration:  51%|█████▏    | 110/214 [00:09<00:08, 12.39it/s]"
     ]
    },
    {
     "name": "stdout",
     "output_type": "stream",
     "text": [
      "Evaluating...\n"
     ]
    },
    {
     "name": "stderr",
     "output_type": "stream",
     "text": [
      "Iteration: 100%|██████████| 60/60 [00:02<00:00, 22.49it/s]s]\n",
      "Iteration: 100%|██████████| 24/24 [00:01<00:00, 21.49it/s]]]\n",
      "Iteration: 100%|██████████| 214/214 [00:10<00:00, 21.18it/s]\n",
      "Iteration:  35%|███▍      | 74/214 [00:06<00:11, 12.12it/s]]"
     ]
    },
    {
     "name": "stdout",
     "output_type": "stream",
     "text": [
      "{'Train':  best_epoch_indx:14\n",
      " auc:0.9032663305293436 \n",
      " apur:0.9074255455627662 \n",
      " f1:0.8281603936334588 \n",
      " precision:0.8437156131556425 \n",
      " recall:0.8131683605832966 \n",
      ", 'Validation':  best_epoch_indx:14\n",
      " auc:0.8797741051540691 \n",
      " apur:0.8808011146948731 \n",
      " f1:0.8065512149281783 \n",
      " precision:0.8169703562686973 \n",
      " recall:0.7963944856839873 \n",
      ", 'Test':  best_epoch_indx:14\n",
      " auc:0.87530691478646 \n",
      " apur:0.8787094045822512 \n",
      " f1:0.8037161067300422 \n",
      " precision:0.8189323059988993 \n",
      " recall:0.7890550429525931 \n",
      "}\n",
      "=====Epoch 15\n",
      "Training...\n"
     ]
    },
    {
     "name": "stderr",
     "output_type": "stream",
     "text": [
      "Iteration: 100%|██████████| 60/60 [00:02<00:00, 22.66it/s]s]\n",
      "Iteration: 100%|██████████| 214/214 [00:17<00:00, 12.12it/s]\n",
      "Iteration:  85%|████████▌ | 182/214 [00:08<00:01, 21.55it/s]"
     ]
    },
    {
     "name": "stdout",
     "output_type": "stream",
     "text": [
      "Evaluating...\n"
     ]
    },
    {
     "name": "stderr",
     "output_type": "stream",
     "text": [
      "Iteration: 100%|██████████| 214/214 [00:10<00:00, 20.94it/s]\n",
      "Iteration: 100%|██████████| 60/60 [00:02<00:00, 20.47it/s]s]\n",
      "Iteration: 100%|██████████| 214/214 [00:17<00:00, 12.26it/s]\n",
      "Iteration:  61%|██████    | 131/214 [00:06<00:03, 21.76it/s]"
     ]
    },
    {
     "name": "stdout",
     "output_type": "stream",
     "text": [
      "Evaluating...\n"
     ]
    },
    {
     "name": "stderr",
     "output_type": "stream",
     "text": [
      "Iteration: 100%|██████████| 214/214 [00:09<00:00, 21.60it/s]\n",
      "Iteration: 100%|██████████| 214/214 [00:17<00:00, 12.33it/s]\n",
      "Iteration:   0%|          | 0/214 [00:00<?, ?it/s]"
     ]
    },
    {
     "name": "stdout",
     "output_type": "stream",
     "text": [
      "Evaluating...\n"
     ]
    },
    {
     "name": "stderr",
     "output_type": "stream",
     "text": [
      "Iteration: 100%|██████████| 60/60 [00:02<00:00, 22.10it/s]]]\n",
      "Iteration: 100%|██████████| 24/24 [00:01<00:00, 21.05it/s]]]\n",
      "Iteration: 100%|██████████| 214/214 [00:09<00:00, 21.93it/s]\n",
      "Iteration:  41%|████      | 87/214 [00:04<00:05, 21.94it/s]"
     ]
    },
    {
     "name": "stdout",
     "output_type": "stream",
     "text": [
      "{'Train':  best_epoch_indx:15\n",
      " auc:0.9275909945016018 \n",
      " apur:0.9291736271361006 \n",
      " f1:0.8560761564777629 \n",
      " precision:0.8645636172450053 \n",
      " recall:0.8477537192517307 \n",
      ", 'Validation':  best_epoch_indx:15\n",
      " auc:0.8966020954578434 \n",
      " apur:0.8919927543847431 \n",
      " f1:0.8256856187290971 \n",
      " precision:0.8333783418849582 \n",
      " recall:0.8181336161187699 \n",
      ", 'Test':  best_epoch_indx:15\n",
      " auc:0.8992621529380251 \n",
      " apur:0.9005218472251295 \n",
      " f1:0.8276341841922191 \n",
      " precision:0.8352775977532945 \n",
      " recall:0.8201293880581185 \n",
      "}\n",
      "=====Epoch 16\n",
      "Training...\n"
     ]
    },
    {
     "name": "stderr",
     "output_type": "stream",
     "text": [
      "Iteration: 100%|██████████| 60/60 [00:02<00:00, 22.28it/s]s]\n",
      "Iteration: 100%|██████████| 214/214 [00:09<00:00, 21.86it/s]\n",
      "Iteration: 100%|██████████| 24/24 [00:01<00:00, 19.56it/s]]\n",
      "Iteration:  60%|██████    | 36/60 [00:01<00:01, 22.36it/s]]"
     ]
    },
    {
     "name": "stdout",
     "output_type": "stream",
     "text": [
      "{'Train':  best_epoch_indx:14\n",
      " auc:0.9094980452225293 \n",
      " apur:0.9118101083904038 \n",
      " f1:0.8412777712472082 \n",
      " precision:0.8392307466799566 \n",
      " recall:0.8433348063043158 \n",
      ", 'Validation':  best_epoch_indx:14\n",
      " auc:0.8859344160193213 \n",
      " apur:0.8901347460689761 \n",
      " f1:0.8153439153439153 \n",
      " precision:0.8136219640971489 \n",
      " recall:0.8170731707317073 \n",
      ", 'Test':  best_epoch_indx:14\n",
      " auc:0.88564607256144 \n",
      " apur:0.8868353292095561 \n",
      " f1:0.8177975058127247 \n",
      " precision:0.8149552395997893 \n",
      " recall:0.8206596669848341 \n",
      "}\n",
      "=====Epoch 15\n",
      "Training...\n"
     ]
    },
    {
     "name": "stderr",
     "output_type": "stream",
     "text": [
      "Iteration: 100%|██████████| 60/60 [00:02<00:00, 22.36it/s]s]\n",
      "Iteration: 100%|██████████| 24/24 [00:01<00:00, 20.48it/s]s]\n",
      "Iteration:  90%|████████▉ | 192/214 [00:16<00:01, 12.37it/s]"
     ]
    },
    {
     "name": "stdout",
     "output_type": "stream",
     "text": [
      "{'Train':  best_epoch_indx:15\n",
      " auc:0.9272591082359707 \n",
      " apur:0.9298342939226458 \n",
      " f1:0.8555731390522827 \n",
      " precision:0.8673043162419033 \n",
      " recall:0.8441550789535706 \n",
      ", 'Validation':  best_epoch_indx:15\n",
      " auc:0.9007023230857438 \n",
      " apur:0.9028389122084367 \n",
      " f1:0.8231485228652368 \n",
      " precision:0.8379566053282065 \n",
      " recall:0.8088547189819725 \n",
      ", 'Test':  best_epoch_indx:15\n",
      " auc:0.8994240115840878 \n",
      " apur:0.899937831939855 \n",
      " f1:0.8259840825984082 \n",
      " precision:0.8378791184813441 \n",
      " recall:0.8144220572640509 \n",
      "}\n",
      "=====Epoch 16\n",
      "Training...\n"
     ]
    },
    {
     "name": "stderr",
     "output_type": "stream",
     "text": [
      "Iteration: 100%|██████████| 214/214 [00:17<00:00, 12.05it/s]\n",
      "Iteration:   1%|▏         | 3/214 [00:00<00:09, 21.54it/s]]"
     ]
    },
    {
     "name": "stdout",
     "output_type": "stream",
     "text": [
      "Evaluating...\n"
     ]
    },
    {
     "name": "stderr",
     "output_type": "stream",
     "text": [
      "Iteration: 100%|██████████| 24/24 [00:01<00:00, 19.37it/s]]]\n",
      "Iteration:  36%|███▋      | 78/214 [00:06<00:11, 12.28it/s]]"
     ]
    },
    {
     "name": "stdout",
     "output_type": "stream",
     "text": [
      "{'Train':  best_epoch_indx:15\n",
      " auc:0.9240202606488084 \n",
      " apur:0.926907059530269 \n",
      " f1:0.8588910689630114 \n",
      " precision:0.8476190476190476 \n",
      " recall:0.8704669318014435 \n",
      ", 'Validation':  best_epoch_indx:15\n",
      " auc:0.8954250692587538 \n",
      " apur:0.8972210988116762 \n",
      " f1:0.8264096887615574 \n",
      " precision:0.8121320706424366 \n",
      " recall:0.8411983032873807 \n",
      ", 'Test':  best_epoch_indx:15\n",
      " auc:0.8926468327124756 \n",
      " apur:0.8935092879730774 \n",
      " f1:0.8269361679845001 \n",
      " precision:0.8167149358709144 \n",
      " recall:0.8374164810690423 \n",
      "}\n",
      "=====Epoch 16\n",
      "Training...\n"
     ]
    },
    {
     "name": "stderr",
     "output_type": "stream",
     "text": [
      "Iteration: 100%|██████████| 214/214 [00:17<00:00, 12.17it/s]\n",
      "Iteration:  84%|████████▍ | 180/214 [00:08<00:01, 21.93it/s]"
     ]
    },
    {
     "name": "stdout",
     "output_type": "stream",
     "text": [
      "Evaluating...\n"
     ]
    },
    {
     "name": "stderr",
     "output_type": "stream",
     "text": [
      "Iteration: 100%|██████████| 214/214 [00:09<00:00, 21.83it/s]\n",
      "Iteration: 100%|██████████| 24/24 [00:01<00:00, 19.12it/s]s]\n",
      "Iteration:  22%|██▏       | 48/214 [00:02<00:07, 21.89it/s]]"
     ]
    },
    {
     "name": "stdout",
     "output_type": "stream",
     "text": [
      "{'Train':  best_epoch_indx:15\n",
      " auc:0.9260970880625496 \n",
      " apur:0.9279892735260435 \n",
      " f1:0.8538698126383668 \n",
      " precision:0.8613825768930992 \n",
      " recall:0.8464869642068051 \n",
      ", 'Validation':  best_epoch_indx:15\n",
      " auc:0.8942954126857683 \n",
      " apur:0.893591288920789 \n",
      " f1:0.8258133618958361 \n",
      " precision:0.834189883689478 \n",
      " recall:0.8176033934252386 \n",
      ", 'Test':  best_epoch_indx:15\n",
      " auc:0.8946146369162428 \n",
      " apur:0.8954219009277486 \n",
      " f1:0.8246157130657559 \n",
      " precision:0.8300204147415924 \n",
      " recall:0.8192809417753738 \n",
      "}\n",
      "=====Epoch 16\n",
      "Training...\n"
     ]
    },
    {
     "name": "stderr",
     "output_type": "stream",
     "text": [
      "Iteration: 100%|██████████| 60/60 [00:02<00:00, 22.30it/s]]]\n",
      "Iteration: 100%|██████████| 214/214 [00:18<00:00, 11.83it/s]\n",
      "Iteration:  64%|██████▎   | 136/214 [00:11<00:06, 12.53it/s]"
     ]
    },
    {
     "name": "stdout",
     "output_type": "stream",
     "text": [
      "Evaluating...\n"
     ]
    },
    {
     "name": "stderr",
     "output_type": "stream",
     "text": [
      "Iteration: 100%|██████████| 214/214 [00:09<00:00, 22.08it/s]\n",
      "Iteration: 100%|██████████| 60/60 [00:02<00:00, 22.55it/s]s]\n",
      "Iteration: 100%|██████████| 214/214 [00:17<00:00, 12.00it/s]\n",
      "Iteration:   0%|          | 0/214 [00:00<?, ?it/s]"
     ]
    },
    {
     "name": "stdout",
     "output_type": "stream",
     "text": [
      "Evaluating...\n"
     ]
    },
    {
     "name": "stderr",
     "output_type": "stream",
     "text": [
      "Iteration: 100%|██████████| 214/214 [00:09<00:00, 21.94it/s]\n",
      "Iteration: 100%|██████████| 214/214 [00:17<00:00, 11.98it/s]\n",
      "Iteration:  56%|█████▌    | 120/214 [00:05<00:04, 22.30it/s]"
     ]
    },
    {
     "name": "stdout",
     "output_type": "stream",
     "text": [
      "Evaluating...\n"
     ]
    },
    {
     "name": "stderr",
     "output_type": "stream",
     "text": [
      "Iteration: 100%|██████████| 60/60 [00:02<00:00, 22.29it/s]]]\n",
      "Iteration: 100%|██████████| 24/24 [00:01<00:00, 21.27it/s]s]\n",
      "Iteration:  42%|████▏     | 90/214 [00:04<00:05, 22.07it/s]]"
     ]
    },
    {
     "name": "stdout",
     "output_type": "stream",
     "text": [
      "{'Train':  best_epoch_indx:16\n",
      " auc:0.9367797697432378 \n",
      " apur:0.9379191286951507 \n",
      " f1:0.8747620421113355 \n",
      " precision:0.8568441870320667 \n",
      " recall:0.8934452791280012 \n",
      ", 'Validation':  best_epoch_indx:16\n",
      " auc:0.9037735000913301 \n",
      " apur:0.900852195579885 \n",
      " f1:0.8413793103448276 \n",
      " precision:0.8262202913365704 \n",
      " recall:0.8571049840933191 \n",
      ", 'Test':  best_epoch_indx:16\n",
      " auc:0.9058016802997008 \n",
      " apur:0.905636244490393 \n",
      " f1:0.8445367246301583 \n",
      " precision:0.827063847092314 \n",
      " recall:0.8627638137660409 \n",
      "}\n",
      "=====Epoch 17\n",
      "Training...\n"
     ]
    },
    {
     "name": "stderr",
     "output_type": "stream",
     "text": [
      "Iteration: 100%|██████████| 214/214 [00:09<00:00, 21.96it/s]\n",
      "Iteration: 100%|██████████| 60/60 [00:02<00:00, 22.31it/s]s]\n",
      "Iteration: 100%|██████████| 214/214 [00:09<00:00, 21.89it/s]\n",
      "Iteration: 100%|██████████| 24/24 [00:01<00:00, 21.55it/s]]\n",
      "Iteration:  32%|███▏      | 19/60 [00:00<00:02, 19.56it/s]"
     ]
    },
    {
     "name": "stdout",
     "output_type": "stream",
     "text": [
      "{'Train':  best_epoch_indx:15\n",
      " auc:0.9173347618420695 \n",
      " apur:0.9201663314026514 \n",
      " f1:0.8386510867590966 \n",
      " precision:0.8624350154095196 \n",
      " recall:0.8161437619678892 \n",
      ", 'Validation':  best_epoch_indx:15\n",
      " auc:0.895013449009828 \n",
      " apur:0.8997122954821497 \n",
      " f1:0.8198234894772573 \n",
      " precision:0.8402449206790983 \n",
      " recall:0.8003711558854719 \n",
      ", 'Test':  best_epoch_indx:15\n",
      " auc:0.8935136104078784 \n",
      " apur:0.8933217609003586 \n",
      " f1:0.8143254899819838 \n",
      " precision:0.8391089108910891 \n",
      " recall:0.7909640470887687 \n",
      "}\n",
      "=====Epoch 16\n",
      "Training...\n"
     ]
    },
    {
     "name": "stderr",
     "output_type": "stream",
     "text": [
      "Iteration: 100%|██████████| 60/60 [00:02<00:00, 21.26it/s]s]\n",
      "Iteration: 100%|██████████| 24/24 [00:01<00:00, 19.11it/s]s]\n",
      "Iteration:  94%|█████████▍| 202/214 [00:16<00:00, 12.07it/s]"
     ]
    },
    {
     "name": "stdout",
     "output_type": "stream",
     "text": [
      "{'Train':  best_epoch_indx:16\n",
      " auc:0.9416239463945915 \n",
      " apur:0.9429246112893315 \n",
      " f1:0.8788632430152566 \n",
      " precision:0.8678941774624422 \n",
      " recall:0.8901131275041244 \n",
      ", 'Validation':  best_epoch_indx:16\n",
      " auc:0.9104331542034736 \n",
      " apur:0.9077838940289853 \n",
      " f1:0.8480880041906758 \n",
      " precision:0.837991718426501 \n",
      " recall:0.8584305408271474 \n",
      ", 'Test':  best_epoch_indx:16\n",
      " auc:0.9101652868866965 \n",
      " apur:0.909152834591985 \n",
      " f1:0.8465968586387436 \n",
      " precision:0.8360910031023785 \n",
      " recall:0.8573700954400848 \n",
      "}\n",
      "=====Epoch 17\n",
      "Training...\n"
     ]
    },
    {
     "name": "stderr",
     "output_type": "stream",
     "text": [
      "Iteration: 100%|██████████| 214/214 [00:17<00:00, 12.18it/s]\n",
      "Iteration:  55%|█████▌    | 118/214 [00:10<00:07, 12.07it/s]"
     ]
    },
    {
     "name": "stdout",
     "output_type": "stream",
     "text": [
      "Evaluating...\n"
     ]
    },
    {
     "name": "stderr",
     "output_type": "stream",
     "text": [
      "Iteration: 100%|██████████| 24/24 [00:01<00:00, 19.01it/s]s]\n",
      "Iteration:   0%|          | 0/214 [00:00<?, ?it/s]2.07it/s]]"
     ]
    },
    {
     "name": "stdout",
     "output_type": "stream",
     "text": [
      "{'Train':  best_epoch_indx:16\n",
      " auc:0.9386449394293912 \n",
      " apur:0.941147280830905 \n",
      " f1:0.8667561089588013 \n",
      " precision:0.8875339590022228 \n",
      " recall:0.8469288555015466 \n",
      ", 'Validation':  best_epoch_indx:16\n",
      " auc:0.9100602224525209 \n",
      " apur:0.9117317724780395 \n",
      " f1:0.8323385784047749 \n",
      " precision:0.8522222222222222 \n",
      " recall:0.8133616118769883 \n",
      ", 'Test':  best_epoch_indx:16\n",
      " auc:0.9066363836803994 \n",
      " apur:0.9069687385112053 \n",
      " f1:0.8312977099236639 \n",
      " precision:0.8554595443833464 \n",
      " recall:0.8084632516703786 \n",
      "}\n",
      "=====Epoch 17\n",
      "Training...\n"
     ]
    },
    {
     "name": "stderr",
     "output_type": "stream",
     "text": [
      "Iteration: 100%|██████████| 214/214 [00:17<00:00, 11.91it/s]\n",
      "Iteration:   0%|          | 0/214 [00:00<?, ?it/s]"
     ]
    },
    {
     "name": "stdout",
     "output_type": "stream",
     "text": [
      "Evaluating...\n"
     ]
    },
    {
     "name": "stderr",
     "output_type": "stream",
     "text": [
      "Iteration: 100%|██████████| 214/214 [00:09<00:00, 21.66it/s]\n",
      "Iteration: 100%|██████████| 24/24 [00:01<00:00, 19.71it/s]s]\n",
      "Iteration:  24%|██▍       | 51/214 [00:02<00:07, 22.60it/s]]"
     ]
    },
    {
     "name": "stdout",
     "output_type": "stream",
     "text": [
      "{'Train':  best_epoch_indx:16\n",
      " auc:0.9385919846199393 \n",
      " apur:0.9400770578223275 \n",
      " f1:0.8723530107654086 \n",
      " precision:0.8757979749992577 \n",
      " recall:0.868935041979673 \n",
      ", 'Validation':  best_epoch_indx:16\n",
      " auc:0.9091288444316471 \n",
      " apur:0.9089697255397473 \n",
      " f1:0.8418259023354565 \n",
      " precision:0.842720510095643 \n",
      " recall:0.8409331919406151 \n",
      ", 'Test':  best_epoch_indx:16\n",
      " auc:0.906013902188149 \n",
      " apur:0.9061629300984226 \n",
      " f1:0.838905451448041 \n",
      " precision:0.8422234099412079 \n",
      " recall:0.8356135327182098 \n",
      "}\n",
      "=====Epoch 17\n",
      "Training...\n"
     ]
    },
    {
     "name": "stderr",
     "output_type": "stream",
     "text": [
      "Iteration: 100%|██████████| 60/60 [00:02<00:00, 22.70it/s]s]\n",
      "Iteration: 100%|██████████| 214/214 [00:17<00:00, 12.08it/s]\n",
      "Iteration:  67%|██████▋   | 143/214 [00:11<00:05, 12.19it/s]"
     ]
    },
    {
     "name": "stdout",
     "output_type": "stream",
     "text": [
      "Evaluating...\n"
     ]
    },
    {
     "name": "stderr",
     "output_type": "stream",
     "text": [
      "Iteration: 100%|██████████| 214/214 [00:09<00:00, 21.81it/s]\n",
      "Iteration: 100%|██████████| 60/60 [00:02<00:00, 22.60it/s]s]\n",
      "Iteration: 100%|██████████| 214/214 [00:17<00:00, 12.31it/s]\n",
      "Iteration:   0%|          | 0/214 [00:00<?, ?it/s]"
     ]
    },
    {
     "name": "stdout",
     "output_type": "stream",
     "text": [
      "Evaluating...\n"
     ]
    },
    {
     "name": "stderr",
     "output_type": "stream",
     "text": [
      "Iteration: 100%|██████████| 214/214 [00:17<00:00, 12.30it/s]\n",
      "Iteration: 100%|█████████▉| 213/214 [00:10<00:00, 19.44it/s]"
     ]
    },
    {
     "name": "stdout",
     "output_type": "stream",
     "text": [
      "Evaluating...\n"
     ]
    },
    {
     "name": "stderr",
     "output_type": "stream",
     "text": [
      "Iteration: 100%|██████████| 214/214 [00:10<00:00, 19.96it/s]\n",
      "Iteration: 100%|██████████| 60/60 [00:02<00:00, 21.86it/s]]]\n",
      "Iteration: 100%|██████████| 24/24 [00:01<00:00, 21.25it/s]]]\n",
      "Iteration:  41%|████      | 87/214 [00:04<00:05, 21.76it/s]]"
     ]
    },
    {
     "name": "stdout",
     "output_type": "stream",
     "text": [
      "{'Train':  best_epoch_indx:17\n",
      " auc:0.9450124691068258 \n",
      " apur:0.9464779973547552 \n",
      " f1:0.8808037797480168 \n",
      " precision:0.8720799283878606 \n",
      " recall:0.8897039328325232 \n",
      ", 'Validation':  best_epoch_indx:17\n",
      " auc:0.910531262843313 \n",
      " apur:0.9079354760609155 \n",
      " f1:0.8446665789819808 \n",
      " precision:0.838162359697207 \n",
      " recall:0.851272534464475 \n",
      ", 'Test':  best_epoch_indx:17\n",
      " auc:0.9110625496823268 \n",
      " apur:0.910011925339468 \n",
      " f1:0.8465297115536173 \n",
      " precision:0.838817159516868 \n",
      " recall:0.8543854067239368 \n",
      "}\n",
      "=====Epoch 18\n",
      "Training...\n"
     ]
    },
    {
     "name": "stderr",
     "output_type": "stream",
     "text": [
      "Iteration: 100%|██████████| 214/214 [00:09<00:00, 21.97it/s]\n",
      "Iteration: 100%|██████████| 60/60 [00:02<00:00, 22.43it/s]]]\n",
      "Iteration: 100%|██████████| 214/214 [00:09<00:00, 21.67it/s]\n",
      "Iteration: 100%|██████████| 24/24 [00:01<00:00, 19.14it/s]]\n",
      "Iteration:   0%|          | 0/214 [00:00<?, ?it/s].96it/s]"
     ]
    },
    {
     "name": "stdout",
     "output_type": "stream",
     "text": [
      "{'Train':  best_epoch_indx:16\n",
      " auc:0.926481895980604 \n",
      " apur:0.9283006142389606 \n",
      " f1:0.8601404741000878 \n",
      " precision:0.8545137374618403 \n",
      " recall:0.8658418029164825 \n",
      ", 'Validation':  best_epoch_indx:16\n",
      " auc:0.9038009705104851 \n",
      " apur:0.9068326736419182 \n",
      " f1:0.8339483394833948 \n",
      " precision:0.8291404612159329 \n",
      " recall:0.83881230116649 \n",
      ", 'Test':  best_epoch_indx:16\n",
      " auc:0.8989737390144726 \n",
      " apur:0.8978600763750072 \n",
      " f1:0.8323839662447257 \n",
      " precision:0.8279299129157486 \n",
      " recall:0.8368862021423269 \n",
      "}\n",
      "=====Epoch 17\n",
      "Training...\n"
     ]
    },
    {
     "name": "stderr",
     "output_type": "stream",
     "text": [
      "Iteration: 100%|██████████| 60/60 [00:02<00:00, 22.04it/s]s]\n",
      "Iteration: 100%|██████████| 214/214 [00:18<00:00, 11.86it/s]\n",
      "Iteration:  79%|███████▉  | 19/24 [00:01<00:00, 18.96it/s]s]"
     ]
    },
    {
     "name": "stdout",
     "output_type": "stream",
     "text": [
      "Evaluating...\n"
     ]
    },
    {
     "name": "stderr",
     "output_type": "stream",
     "text": [
      "Iteration: 100%|██████████| 24/24 [00:01<00:00, 19.21it/s]s]\n",
      "Iteration:  59%|█████▉    | 126/214 [00:10<00:07, 12.40it/s]"
     ]
    },
    {
     "name": "stdout",
     "output_type": "stream",
     "text": [
      "{'Train':  best_epoch_indx:17\n",
      " auc:0.9455486866223023 \n",
      " apur:0.9471421567881387 \n",
      " f1:0.882986151518678 \n",
      " precision:0.8721264367816092 \n",
      " recall:0.8941197266085317 \n",
      ", 'Validation':  best_epoch_indx:17\n",
      " auc:0.9160167051860345 \n",
      " apur:0.9151122779146772 \n",
      " f1:0.8545312091930007 \n",
      " precision:0.8419969119917653 \n",
      " recall:0.8674443266171792 \n",
      ", 'Test':  best_epoch_indx:17\n",
      " auc:0.9133541586928169 \n",
      " apur:0.9121299230165731 \n",
      " f1:0.8500785751702461 \n",
      " precision:0.8399585921325051 \n",
      " recall:0.8604453870625662 \n",
      "}\n",
      "=====Epoch 18\n",
      "Training...\n"
     ]
    },
    {
     "name": "stderr",
     "output_type": "stream",
     "text": [
      "Iteration: 100%|██████████| 24/24 [00:01<00:00, 21.23it/s]s]\n"
     ]
    },
    {
     "name": "stdout",
     "output_type": "stream",
     "text": [
      "{'Train':  best_epoch_indx:17\n",
      " auc:0.9480223223187272 \n",
      " apur:0.9498602811148998 \n",
      " f1:0.8872993669151897 \n",
      " precision:0.869088649076219 \n",
      " recall:0.906289586095154 \n",
      ", 'Validation':  best_epoch_indx:17\n",
      " auc:0.9185962290764992 \n",
      " apur:0.9194551185681478 \n",
      " f1:0.8522142121524202 \n",
      " precision:0.8283283283283284 \n",
      " recall:0.8775185577942736 \n",
      ", 'Test':  best_epoch_indx:17\n",
      " auc:0.9140438030691225 \n",
      " apur:0.913572451652428 \n",
      " f1:0.8502280265339968 \n",
      " precision:0.8313570487483531 \n",
      " recall:0.8699756071693711 \n",
      "}\n",
      "=====Epoch 18\n",
      "Training...\n"
     ]
    },
    {
     "name": "stderr",
     "output_type": "stream",
     "text": [
      "Iteration: 100%|██████████| 214/214 [00:17<00:00, 12.15it/s]\n",
      "Iteration:   0%|          | 0/214 [00:00<?, ?it/s]"
     ]
    },
    {
     "name": "stdout",
     "output_type": "stream",
     "text": [
      "Evaluating...\n"
     ]
    },
    {
     "name": "stderr",
     "output_type": "stream",
     "text": [
      "Iteration: 100%|██████████| 214/214 [00:09<00:00, 21.47it/s]\n",
      "Iteration: 100%|██████████| 24/24 [00:01<00:00, 21.22it/s]s]\n",
      "Iteration:  55%|█████▌    | 118/214 [00:09<00:07, 12.21it/s]"
     ]
    },
    {
     "name": "stdout",
     "output_type": "stream",
     "text": [
      "{'Train':  best_epoch_indx:17\n",
      " auc:0.9490965794289397 \n",
      " apur:0.9498958628208264 \n",
      " f1:0.8838509316770187 \n",
      " precision:0.8873942093541203 \n",
      " recall:0.8803358373840036 \n",
      ", 'Validation':  best_epoch_indx:17\n",
      " auc:0.9173549863131509 \n",
      " apur:0.9165841182664219 \n",
      " f1:0.8512 \n",
      " precision:0.8562231759656652 \n",
      " recall:0.8462354188759279 \n",
      ", 'Test':  best_epoch_indx:17\n",
      " auc:0.9163654923398799 \n",
      " apur:0.9171820361610296 \n",
      " f1:0.8486428951569985 \n",
      " precision:0.8517252430295909 \n",
      " recall:0.8455827765404603 \n",
      "}\n",
      "=====Epoch 18\n",
      "Training...\n"
     ]
    },
    {
     "name": "stderr",
     "output_type": "stream",
     "text": [
      "Iteration: 100%|██████████| 60/60 [00:02<00:00, 22.46it/s]]]\n",
      "Iteration: 100%|██████████| 214/214 [00:10<00:00, 21.25it/s]\n",
      "Iteration: 100%|██████████| 214/214 [00:17<00:00, 11.91it/s]\n",
      "Iteration:   5%|▌         | 3/60 [00:00<00:02, 21.02it/s]]s]"
     ]
    },
    {
     "name": "stdout",
     "output_type": "stream",
     "text": [
      "Evaluating...\n"
     ]
    },
    {
     "name": "stderr",
     "output_type": "stream",
     "text": [
      "Iteration: 100%|██████████| 60/60 [00:02<00:00, 20.88it/s]s]\n",
      "Iteration: 100%|██████████| 214/214 [00:17<00:00, 12.06it/s]\n",
      "Iteration:  70%|███████   | 150/214 [00:12<00:05, 12.16it/s]"
     ]
    },
    {
     "name": "stdout",
     "output_type": "stream",
     "text": [
      "Evaluating...\n"
     ]
    },
    {
     "name": "stderr",
     "output_type": "stream",
     "text": [
      "Iteration: 100%|██████████| 214/214 [00:17<00:00, 12.07it/s]\n",
      "Iteration:  55%|█████▍    | 117/214 [00:05<00:04, 22.00it/s]"
     ]
    },
    {
     "name": "stdout",
     "output_type": "stream",
     "text": [
      "Evaluating...\n"
     ]
    },
    {
     "name": "stderr",
     "output_type": "stream",
     "text": [
      "Iteration: 100%|██████████| 214/214 [00:09<00:00, 22.01it/s]\n",
      "Iteration: 100%|██████████| 24/24 [00:01<00:00, 20.80it/s]]]\n",
      "Iteration:   0%|          | 0/214 [00:00<?, ?it/s]1.77it/s]]"
     ]
    },
    {
     "name": "stdout",
     "output_type": "stream",
     "text": [
      "{'Train':  best_epoch_indx:18\n",
      " auc:0.9548083477296119 \n",
      " apur:0.9559854611724858 \n",
      " f1:0.8935739733458443 \n",
      " precision:0.8894401961356605 \n",
      " recall:0.8977463543968184 \n",
      ", 'Validation':  best_epoch_indx:18\n",
      " auc:0.920067264076271 \n",
      " apur:0.9162218467974758 \n",
      " f1:0.8575201373299881 \n",
      " precision:0.8542488818731913 \n",
      " recall:0.8608165429480382 \n",
      ", 'Test':  best_epoch_indx:18\n",
      " auc:0.9205342549719375 \n",
      " apur:0.9201399956606029 \n",
      " f1:0.8562807686199777 \n",
      " precision:0.8547875713379836 \n",
      " recall:0.8577791918549157 \n",
      "}\n",
      "=====Epoch 19\n",
      "Training...\n"
     ]
    },
    {
     "name": "stderr",
     "output_type": "stream",
     "text": [
      "Iteration: 100%|██████████| 60/60 [00:02<00:00, 22.11it/s]\n",
      "Iteration: 100%|██████████| 214/214 [00:09<00:00, 21.79it/s]\n",
      "Iteration: 100%|██████████| 60/60 [00:02<00:00, 22.51it/s]s]\n",
      "Iteration: 100%|██████████| 214/214 [00:09<00:00, 21.89it/s]\n",
      "Iteration: 100%|██████████| 24/24 [00:01<00:00, 19.33it/s]s]\n"
     ]
    },
    {
     "name": "stdout",
     "output_type": "stream",
     "text": [
      "{'Train':  best_epoch_indx:17\n",
      " auc:0.9432066910140048 \n",
      " apur:0.9444300632988119 \n",
      " f1:0.8822674627724624 \n",
      " precision:0.8622328458942632 \n",
      " recall:0.9032552658712624 \n",
      ", 'Validation':  best_epoch_indx:17\n",
      " auc:0.9140183015622543 \n",
      " apur:0.9167165571359912 \n",
      " f1:0.8492937670079046 \n",
      " precision:0.8306717363751585 \n",
      " recall:0.8687698833510075 \n",
      ", 'Test':  best_epoch_indx:17\n",
      " auc:0.9157107754707685 \n",
      " apur:0.9150593568464422 \n",
      " f1:0.8533154722036168 \n",
      " precision:0.8297595190380761 \n",
      " recall:0.8782479584261321 \n",
      "}\n",
      "=====Epoch 18\n",
      "Training...\n"
     ]
    },
    {
     "name": "stderr",
     "output_type": "stream",
     "text": [
      "Iteration: 100%|██████████| 60/60 [00:02<00:00, 22.38it/s]s]\n",
      "Iteration: 100%|██████████| 214/214 [00:17<00:00, 12.26it/s]\n",
      "Iteration:   1%|▏         | 3/214 [00:00<00:09, 21.43it/s]s]"
     ]
    },
    {
     "name": "stdout",
     "output_type": "stream",
     "text": [
      "Evaluating...\n"
     ]
    },
    {
     "name": "stderr",
     "output_type": "stream",
     "text": [
      "Iteration: 100%|██████████| 24/24 [00:01<00:00, 19.45it/s]]]\n",
      "Iteration:  54%|█████▍    | 116/214 [00:09<00:07, 12.39it/s]"
     ]
    },
    {
     "name": "stdout",
     "output_type": "stream",
     "text": [
      "{'Train':  best_epoch_indx:18\n",
      " auc:0.957692246999906 \n",
      " apur:0.9591777979930235 \n",
      " f1:0.8984372726479062 \n",
      " precision:0.8876142832499568 \n",
      " recall:0.9095274569879802 \n",
      ", 'Validation':  best_epoch_indx:18\n",
      " auc:0.9250863435310294 \n",
      " apur:0.9244663625410964 \n",
      " f1:0.8649425287356322 \n",
      " precision:0.8524716786817713 \n",
      " recall:0.8777836691410392 \n",
      ", 'Test':  best_epoch_indx:18\n",
      " auc:0.9232317653567627 \n",
      " apur:0.9217679594891571 \n",
      " f1:0.8628355704697988 \n",
      " precision:0.8533499274009542 \n",
      " recall:0.8725344644750795 \n",
      "}\n",
      "=====Epoch 19\n",
      "Training...\n"
     ]
    },
    {
     "name": "stderr",
     "output_type": "stream",
     "text": [
      "Iteration: 100%|██████████| 24/24 [00:01<00:00, 20.87it/s]s]\n",
      "Iteration:  25%|██▌       | 54/214 [00:04<00:13, 12.19it/s]]"
     ]
    },
    {
     "name": "stdout",
     "output_type": "stream",
     "text": [
      "{'Train':  best_epoch_indx:18\n",
      " auc:0.9575945040787063 \n",
      " apur:0.95897801040503 \n",
      " f1:0.9000799588782912 \n",
      " precision:0.8733202183369815 \n",
      " recall:0.9285314479304758 \n",
      ", 'Validation':  best_epoch_indx:18\n",
      " auc:0.9258752162750461 \n",
      " apur:0.9258199971908433 \n",
      " f1:0.8643011573190894 \n",
      " precision:0.830603764360792 \n",
      " recall:0.9008483563096501 \n",
      ", 'Test':  best_epoch_indx:18\n",
      " auc:0.9215922538173739 \n",
      " apur:0.9206930680809084 \n",
      " f1:0.8613460454149366 \n",
      " precision:0.8335317460317461 \n",
      " recall:0.8910807084526461 \n",
      "}\n",
      "=====Epoch 19\n",
      "Training...\n"
     ]
    },
    {
     "name": "stderr",
     "output_type": "stream",
     "text": [
      "Iteration: 100%|██████████| 214/214 [00:17<00:00, 12.01it/s]\n",
      "Iteration:  94%|█████████▍| 201/214 [00:09<00:00, 21.76it/s]"
     ]
    },
    {
     "name": "stdout",
     "output_type": "stream",
     "text": [
      "Evaluating...\n"
     ]
    },
    {
     "name": "stderr",
     "output_type": "stream",
     "text": [
      "Iteration: 100%|██████████| 214/214 [00:09<00:00, 21.58it/s]\n",
      "Iteration: 100%|██████████| 24/24 [00:01<00:00, 19.32it/s]]]\n",
      "Iteration:  31%|███       | 66/214 [00:05<00:12, 12.24it/s]]"
     ]
    },
    {
     "name": "stdout",
     "output_type": "stream",
     "text": [
      "{'Train':  best_epoch_indx:18\n",
      " auc:0.9560587960052462 \n",
      " apur:0.9568789089581479 \n",
      " f1:0.8941037561803556 \n",
      " precision:0.8958887902987281 \n",
      " recall:0.8923258211813228 \n",
      ", 'Validation':  best_epoch_indx:18\n",
      " auc:0.9228560071186837 \n",
      " apur:0.9205122066133956 \n",
      " f1:0.85687608376684 \n",
      " precision:0.8622818791946308 \n",
      " recall:0.8515376458112407 \n",
      ", 'Test':  best_epoch_indx:18\n",
      " auc:0.9202941551083623 \n",
      " apur:0.9189784993253679 \n",
      " f1:0.8554575406525667 \n",
      " precision:0.8572797955053786 \n",
      " recall:0.8536430162265352 \n",
      "}\n",
      "=====Epoch 19\n",
      "Training...\n"
     ]
    },
    {
     "name": "stderr",
     "output_type": "stream",
     "text": [
      "Iteration: 100%|██████████| 60/60 [00:02<00:00, 21.60it/s]s]\n",
      "Iteration: 100%|██████████| 214/214 [00:17<00:00, 12.17it/s]\n",
      "Iteration:  46%|████▌     | 98/214 [00:07<00:09, 12.19it/s]]"
     ]
    },
    {
     "name": "stdout",
     "output_type": "stream",
     "text": [
      "Evaluating...\n"
     ]
    },
    {
     "name": "stderr",
     "output_type": "stream",
     "text": [
      "Iteration: 100%|██████████| 214/214 [00:09<00:00, 22.26it/s]\n",
      "Iteration: 100%|██████████| 60/60 [00:02<00:00, 22.58it/s]]]\n",
      "Iteration: 100%|██████████| 214/214 [00:17<00:00, 12.36it/s]\n",
      "Iteration:  40%|███▉      | 85/214 [00:04<00:06, 21.47it/s]"
     ]
    },
    {
     "name": "stdout",
     "output_type": "stream",
     "text": [
      "Evaluating...\n"
     ]
    },
    {
     "name": "stderr",
     "output_type": "stream",
     "text": [
      "Iteration: 100%|██████████| 214/214 [00:17<00:00, 12.28it/s]\n",
      "Iteration:   1%|▏         | 3/214 [00:00<00:09, 21.24it/s]s]"
     ]
    },
    {
     "name": "stdout",
     "output_type": "stream",
     "text": [
      "Evaluating...\n"
     ]
    },
    {
     "name": "stderr",
     "output_type": "stream",
     "text": [
      "Iteration: 100%|██████████| 214/214 [00:10<00:00, 21.09it/s]\n",
      "Iteration: 100%|██████████| 24/24 [00:01<00:00, 21.13it/s]s]\n",
      "Iteration:  34%|███▎      | 72/214 [00:03<00:06, 22.02it/s]]"
     ]
    },
    {
     "name": "stdout",
     "output_type": "stream",
     "text": [
      "{'Train':  best_epoch_indx:19\n",
      " auc:0.9639110969630197 \n",
      " apur:0.9646357183502943 \n",
      " f1:0.9086576878931846 \n",
      " precision:0.8964281619080381 \n",
      " recall:0.9212255118574164 \n",
      ", 'Validation':  best_epoch_indx:19\n",
      " auc:0.9277292515488085 \n",
      " apur:0.9226618969083356 \n",
      " f1:0.8654878847413229 \n",
      " precision:0.8552938130986281 \n",
      " recall:0.8759278897136797 \n",
      ", 'Test':  best_epoch_indx:19\n",
      " auc:0.9286361227273641 \n",
      " apur:0.926969566371888 \n",
      " f1:0.8680926916221035 \n",
      " precision:0.858372213582167 \n",
      " recall:0.878035846855446 \n",
      "}\n",
      "=====Epoch 20\n",
      "Training...\n"
     ]
    },
    {
     "name": "stderr",
     "output_type": "stream",
     "text": [
      "Iteration: 100%|██████████| 60/60 [00:02<00:00, 22.27it/s]s]\n",
      "Iteration: 100%|██████████| 214/214 [00:09<00:00, 21.84it/s]\n",
      "Iteration: 100%|██████████| 60/60 [00:02<00:00, 22.31it/s]s]\n",
      "Iteration: 100%|██████████| 214/214 [00:09<00:00, 21.96it/s]\n",
      "Iteration: 100%|██████████| 24/24 [00:01<00:00, 18.78it/s]s]\n",
      "Iteration:  56%|█████▌    | 120/214 [00:09<00:07, 12.13it/s]"
     ]
    },
    {
     "name": "stdout",
     "output_type": "stream",
     "text": [
      "{'Train':  best_epoch_indx:18\n",
      " auc:0.9510934863954484 \n",
      " apur:0.9518440600149563 \n",
      " f1:0.8926356979470876 \n",
      " precision:0.8722937637069111 \n",
      " recall:0.9139490352040065 \n",
      ", 'Validation':  best_epoch_indx:18\n",
      " auc:0.9226256202844428 \n",
      " apur:0.9243189569988335 \n",
      " f1:0.8576918150377866 \n",
      " precision:0.8297397769516729 \n",
      " recall:0.887592788971368 \n",
      ", 'Test':  best_epoch_indx:18\n",
      " auc:0.9214481016775591 \n",
      " apur:0.9198661238478728 \n",
      " f1:0.8599587203302373 \n",
      " precision:0.8374032760526581 \n",
      " recall:0.8837628592639728 \n",
      "}\n",
      "=====Epoch 19\n",
      "Training...\n"
     ]
    },
    {
     "name": "stderr",
     "output_type": "stream",
     "text": [
      "Iteration: 100%|██████████| 60/60 [00:02<00:00, 22.07it/s]\n",
      "Iteration: 100%|██████████| 214/214 [00:17<00:00, 11.92it/s]\n",
      "Iteration:   8%|▊         | 2/24 [00:00<00:01, 19.02it/s]/s]"
     ]
    },
    {
     "name": "stdout",
     "output_type": "stream",
     "text": [
      "Evaluating...\n"
     ]
    },
    {
     "name": "stderr",
     "output_type": "stream",
     "text": [
      "Iteration: 100%|██████████| 24/24 [00:01<00:00, 19.32it/s]s]\n",
      "Iteration:  54%|█████▍    | 116/214 [00:09<00:07, 12.46it/s]"
     ]
    },
    {
     "name": "stdout",
     "output_type": "stream",
     "text": [
      "{'Train':  best_epoch_indx:19\n",
      " auc:0.9648257201045772 \n",
      " apur:0.9657857186962525 \n",
      " f1:0.9080002323960028 \n",
      " precision:0.8955134082053633 \n",
      " recall:0.9208402074004243 \n",
      ", 'Validation':  best_epoch_indx:19\n",
      " auc:0.9313651775611785 \n",
      " apur:0.9301894625864718 \n",
      " f1:0.8685103052439344 \n",
      " precision:0.8549049820236261 \n",
      " recall:0.8825556733828208 \n",
      ", 'Test':  best_epoch_indx:19\n",
      " auc:0.9292871000795809 \n",
      " apur:0.9281727069466725 \n",
      " f1:0.8706374085684431 \n",
      " precision:0.8580844490216272 \n",
      " recall:0.8835630965005302 \n",
      "}\n",
      "=====Epoch 20\n",
      "Training...\n"
     ]
    },
    {
     "name": "stderr",
     "output_type": "stream",
     "text": [
      "Iteration:  62%|██████▏   | 132/214 [00:06<00:03, 22.25it/s]\n",
      "Iteration:  83%|████████▎ | 178/214 [00:14<00:02, 12.54it/s]"
     ]
    },
    {
     "name": "stdout",
     "output_type": "stream",
     "text": [
      "{'Train':  best_epoch_indx:19\n",
      " auc:0.9628623385518522 \n",
      " apur:0.9640735380382992 \n",
      " f1:0.9072020951549542 \n",
      " precision:0.896248382923674 \n",
      " recall:0.9184268669907203 \n",
      ", 'Validation':  best_epoch_indx:19\n",
      " auc:0.930251931887948 \n",
      " apur:0.9299538087363279 \n",
      " f1:0.8651817116060961 \n",
      " precision:0.8504481434058899 \n",
      " recall:0.8804347826086957 \n",
      ", 'Test':  best_epoch_indx:19\n",
      " auc:0.9267533583909155 \n",
      " apur:0.9257473648589325 \n",
      " f1:0.8626793757201215 \n",
      " precision:0.8521469218830833 \n",
      " recall:0.8734754480856931 \n",
      "}\n",
      "=====Epoch 20\n",
      "Training...\n"
     ]
    },
    {
     "name": "stderr",
     "output_type": "stream",
     "text": [
      "Iteration: 100%|██████████| 214/214 [00:17<00:00, 12.21it/s]\n",
      "Iteration:  46%|████▌     | 11/24 [00:00<00:00, 21.17it/s]]]"
     ]
    },
    {
     "name": "stdout",
     "output_type": "stream",
     "text": [
      "Evaluating...\n"
     ]
    },
    {
     "name": "stderr",
     "output_type": "stream",
     "text": [
      "Iteration: 100%|██████████| 214/214 [00:10<00:00, 21.15it/s]\n",
      "Iteration: 100%|██████████| 24/24 [00:01<00:00, 21.29it/s]\n",
      "Iteration:   0%|          | 0/214 [00:00<?, ?it/s]1.81it/s]]"
     ]
    },
    {
     "name": "stdout",
     "output_type": "stream",
     "text": [
      "{'Train':  best_epoch_indx:19\n",
      " auc:0.9610615289846026 \n",
      " apur:0.9618915753651378 \n",
      " f1:0.9026437202489931 \n",
      " precision:0.897582289542674 \n",
      " recall:0.9077625570776255 \n",
      ", 'Validation':  best_epoch_indx:19\n",
      " auc:0.9264738573574107 \n",
      " apur:0.9242113764309329 \n",
      " f1:0.8658568787958806 \n",
      " precision:0.8624408206207259 \n",
      " recall:0.8693001060445387 \n",
      ", 'Test':  best_epoch_indx:19\n",
      " auc:0.92449962220798 \n",
      " apur:0.9241370305909925 \n",
      " f1:0.8636172006745362 \n",
      " precision:0.8582800879857547 \n",
      " recall:0.8690211051012833 \n",
      "}\n",
      "=====Epoch 20\n",
      "Training...\n"
     ]
    },
    {
     "name": "stderr",
     "output_type": "stream",
     "text": [
      "Iteration: 100%|██████████| 60/60 [00:02<00:00, 21.82it/s]]]\n",
      "Iteration: 100%|██████████| 24/24 [00:01<00:00, 19.78it/s]s]\n",
      "Iteration:  60%|██████    | 129/214 [00:05<00:03, 22.45it/s]"
     ]
    },
    {
     "name": "stdout",
     "output_type": "stream",
     "text": [
      "{'Train':  best_epoch_indx:20\n",
      " auc:0.9634193400086646 \n",
      " apur:0.9640841291618529 \n",
      " f1:0.9076690064952087 \n",
      " precision:0.8975259929149506 \n",
      " recall:0.9180438945352777 \n",
      ", 'Validation':  best_epoch_indx:20\n",
      " auc:0.9252190974036847 \n",
      " apur:0.9201513191707901 \n",
      " f1:0.8619918431785291 \n",
      " precision:0.8555758683729433 \n",
      " recall:0.8685047720042418 \n",
      ", 'Test':  best_epoch_indx:20\n",
      " auc:0.9269667749770414 \n",
      " apur:0.9250017246978175 \n",
      " f1:0.8661797929911206 \n",
      " precision:0.8582882132444815 \n",
      " recall:0.8742178385830947 \n",
      "}\n",
      "=====Epoch 21\n",
      "Training...\n"
     ]
    },
    {
     "name": "stderr",
     "output_type": "stream",
     "text": [
      "Iteration: 100%|██████████| 214/214 [00:09<00:00, 22.27it/s]\n",
      "Iteration: 100%|██████████| 214/214 [00:18<00:00, 11.87it/s]\n",
      "Iteration:  25%|██▌       | 54/214 [00:04<00:13, 12.09it/s]]"
     ]
    },
    {
     "name": "stdout",
     "output_type": "stream",
     "text": [
      "Evaluating...\n"
     ]
    },
    {
     "name": "stderr",
     "output_type": "stream",
     "text": [
      "Iteration: 100%|██████████| 60/60 [00:02<00:00, 22.60it/s]]]\n",
      "Iteration: 100%|██████████| 214/214 [00:17<00:00, 11.99it/s]\n",
      "Iteration:  53%|█████▎    | 114/214 [00:09<00:08, 11.77it/s]"
     ]
    },
    {
     "name": "stdout",
     "output_type": "stream",
     "text": [
      "Evaluating...\n"
     ]
    },
    {
     "name": "stderr",
     "output_type": "stream",
     "text": [
      "Iteration: 100%|██████████| 214/214 [00:17<00:00, 12.04it/s]\n",
      "Iteration:  39%|███▉      | 84/214 [00:03<00:05, 22.16it/s]]"
     ]
    },
    {
     "name": "stdout",
     "output_type": "stream",
     "text": [
      "Evaluating...\n"
     ]
    },
    {
     "name": "stderr",
     "output_type": "stream",
     "text": [
      "Iteration: 100%|██████████| 214/214 [00:09<00:00, 22.00it/s]\n",
      "Iteration: 100%|██████████| 60/60 [00:02<00:00, 22.32it/s]]]\n",
      "Iteration: 100%|██████████| 214/214 [00:17<00:00, 12.25it/s]\n",
      "Iteration:  48%|████▊     | 102/214 [00:04<00:05, 22.13it/s]"
     ]
    },
    {
     "name": "stdout",
     "output_type": "stream",
     "text": [
      "Evaluating...\n"
     ]
    },
    {
     "name": "stderr",
     "output_type": "stream",
     "text": [
      "Iteration: 100%|██████████| 24/24 [00:01<00:00, 22.05it/s]]]\n",
      "Iteration: 100%|██████████| 214/214 [00:09<00:00, 21.97it/s]\n"
     ]
    },
    {
     "name": "stdout",
     "output_type": "stream",
     "text": [
      "{'Train':  best_epoch_indx:20\n",
      " auc:0.9641465339528762 \n",
      " apur:0.9654279007494084 \n",
      " f1:0.9076718455399815 \n",
      " precision:0.9006816533720087 \n",
      " recall:0.9147713881687485 \n",
      ", 'Validation':  best_epoch_indx:20\n",
      " auc:0.9306596674311344 \n",
      " apur:0.9301198596839519 \n",
      " f1:0.8669550399790275 \n",
      " precision:0.8574021260046668 \n",
      " recall:0.8767232237539767 \n",
      ", 'Test':  best_epoch_indx:20\n",
      " auc:0.9280389803435112 \n",
      " apur:0.926932387852475 \n",
      " f1:0.8677198525539758 \n",
      " precision:0.8618200836820084 \n",
      " recall:0.8737009544008484 \n",
      "}\n",
      "=====Epoch 21\n",
      "Training...\n"
     ]
    },
    {
     "name": "stderr",
     "output_type": "stream",
     "text": [
      "Iteration: 100%|██████████| 60/60 [00:02<00:00, 22.44it/s]]]\n",
      "Iteration: 100%|██████████| 214/214 [00:09<00:00, 22.11it/s]\n",
      "Iteration: 100%|██████████| 24/24 [00:01<00:00, 22.51it/s]]]\n"
     ]
    },
    {
     "name": "stdout",
     "output_type": "stream",
     "text": [
      "{'Train':  best_epoch_indx:20\n",
      " auc:0.960399116890903 \n",
      " apur:0.9619164600193619 \n",
      " f1:0.9003895054016317 \n",
      " precision:0.8984746259900264 \n",
      " recall:0.9023125644424805 \n",
      ", 'Validation':  best_epoch_indx:20\n",
      " auc:0.928000388153455 \n",
      " apur:0.9276819050582763 \n",
      " f1:0.8614173228346457 \n",
      " precision:0.8529106029106029 \n",
      " recall:0.8700954400848356 \n",
      ", 'Test':  best_epoch_indx:20\n",
      " auc:0.9229561362913256 \n",
      " apur:0.9226170991989509 \n",
      " f1:0.8558090185676392 \n",
      " precision:0.8561723808512897 \n",
      " recall:0.8554459645773677 \n",
      "}\n",
      "=====Epoch 21\n",
      "Training...\n"
     ]
    },
    {
     "name": "stderr",
     "output_type": "stream",
     "text": [
      "Iteration: 100%|██████████| 60/60 [00:02<00:00, 22.67it/s]]]\n",
      "Iteration: 100%|██████████| 24/24 [00:01<00:00, 18.54it/s]]]\n",
      "Iteration:  95%|█████████▌| 204/214 [00:09<00:00, 21.93it/s]"
     ]
    },
    {
     "name": "stdout",
     "output_type": "stream",
     "text": [
      "{'Train':  best_epoch_indx:19\n",
      " auc:0.9580881475877965 \n",
      " apur:0.958608030716354 \n",
      " f1:0.8998291796241952 \n",
      " precision:0.8919763806877388 \n",
      " recall:0.9078214759169244 \n",
      ", 'Validation':  best_epoch_indx:19\n",
      " auc:0.9292760779503468 \n",
      " apur:0.930737179928481 \n",
      " f1:0.8623178894868094 \n",
      " precision:0.8539121393293475 \n",
      " recall:0.8708907741251326 \n",
      ", 'Test':  best_epoch_indx:19\n",
      " auc:0.9264479342210559 \n",
      " apur:0.9244966141940354 \n",
      " f1:0.8639798488664987 \n",
      " precision:0.855095045185416 \n",
      " recall:0.8730512249443207 \n",
      "}\n",
      "=====Epoch 20\n",
      "Training...\n"
     ]
    },
    {
     "name": "stderr",
     "output_type": "stream",
     "text": [
      "Iteration: 100%|██████████| 214/214 [00:09<00:00, 21.77it/s]\n",
      "Iteration: 100%|██████████| 60/60 [00:02<00:00, 21.78it/s]s]\n",
      "Iteration: 100%|██████████| 24/24 [00:01<00:00, 22.11it/s]s]\n",
      "Iteration:  49%|████▊     | 104/214 [00:08<00:08, 12.44it/s]"
     ]
    },
    {
     "name": "stdout",
     "output_type": "stream",
     "text": [
      "{'Train':  best_epoch_indx:21\n",
      " auc:0.9612432883339354 \n",
      " apur:0.961845397294557 \n",
      " f1:0.9023638232271326 \n",
      " precision:0.8994585101712279 \n",
      " recall:0.9052879658270732 \n",
      ", 'Validation':  best_epoch_indx:21\n",
      " auc:0.9229666815923933 \n",
      " apur:0.918827170173827 \n",
      " f1:0.8579394583112055 \n",
      " precision:0.8593085106382978 \n",
      " recall:0.8565747613997879 \n",
      ", 'Test':  best_epoch_indx:21\n",
      " auc:0.9245361512123317 \n",
      " apur:0.9235518235860642 \n",
      " f1:0.8586216002112489 \n",
      " precision:0.8551441195034715 \n",
      " recall:0.8621274790539823 \n",
      "}\n",
      "=====Epoch 22\n",
      "Training...\n"
     ]
    },
    {
     "name": "stderr",
     "output_type": "stream",
     "text": [
      "Iteration: 100%|██████████| 214/214 [00:17<00:00, 12.25it/s]\n",
      "Iteration:  73%|███████▎  | 156/214 [00:12<00:04, 12.49it/s]"
     ]
    },
    {
     "name": "stdout",
     "output_type": "stream",
     "text": [
      "Evaluating...\n"
     ]
    },
    {
     "name": "stderr",
     "output_type": "stream",
     "text": [
      "Iteration: 100%|██████████| 214/214 [00:17<00:00, 12.32it/s]\n",
      "Iteration:   0%|          | 0/214 [00:00<?, ?it/s]"
     ]
    },
    {
     "name": "stdout",
     "output_type": "stream",
     "text": [
      "Evaluating...\n"
     ]
    },
    {
     "name": "stderr",
     "output_type": "stream",
     "text": [
      "Iteration: 100%|██████████| 24/24 [00:01<00:00, 21.37it/s]s]\n",
      "Iteration:   0%|          | 0/214 [00:00<?, ?it/s]2.28it/s]]"
     ]
    },
    {
     "name": "stdout",
     "output_type": "stream",
     "text": [
      "{'Train':  best_epoch_indx:20\n",
      " auc:0.9633717905333261 \n",
      " apur:0.9642227444273385 \n",
      " f1:0.9066690010358764 \n",
      " precision:0.8981385131229044 \n",
      " recall:0.9153630873471793 \n",
      ", 'Validation':  best_epoch_indx:20\n",
      " auc:0.9269971827162624 \n",
      " apur:0.9243633077535667 \n",
      " f1:0.8661768564681185 \n",
      " precision:0.8574025974025974 \n",
      " recall:0.8751325556733828 \n",
      ", 'Test':  best_epoch_indx:20\n",
      " auc:0.9261906284236608 \n",
      " apur:0.9257382196297292 \n",
      " f1:0.8635910355324621 \n",
      " precision:0.8548420615128844 \n",
      " recall:0.8725209460176052 \n",
      "}\n",
      "=====Epoch 21\n",
      "Training...\n",
      "Evaluating...\n"
     ]
    },
    {
     "name": "stderr",
     "output_type": "stream",
     "text": [
      "Iteration: 100%|██████████| 214/214 [00:17<00:00, 12.05it/s]\n",
      "Iteration: 100%|██████████| 214/214 [00:09<00:00, 21.42it/s]\n",
      "Iteration: 100%|██████████| 60/60 [00:02<00:00, 22.57it/s]s]\n",
      "Iteration: 100%|██████████| 214/214 [00:17<00:00, 12.15it/s]\n",
      "Iteration:   0%|          | 0/214 [00:00<?, ?it/s]"
     ]
    },
    {
     "name": "stdout",
     "output_type": "stream",
     "text": [
      "Evaluating...\n"
     ]
    },
    {
     "name": "stderr",
     "output_type": "stream",
     "text": [
      "Iteration: 100%|██████████| 24/24 [00:01<00:00, 20.30it/s]]]\n",
      "Iteration: 100%|██████████| 214/214 [00:10<00:00, 21.12it/s]\n",
      "Iteration:  15%|█▌        | 33/214 [00:01<00:08, 21.86it/s]]"
     ]
    },
    {
     "name": "stdout",
     "output_type": "stream",
     "text": [
      "{'Train':  best_epoch_indx:21\n",
      " auc:0.9637079691903443 \n",
      " apur:0.9653737382198783 \n",
      " f1:0.903032087135708 \n",
      " precision:0.9023414519355218 \n",
      " recall:0.9037237803440962 \n",
      ", 'Validation':  best_epoch_indx:21\n",
      " auc:0.9265171440785035 \n",
      " apur:0.9247550335169803 \n",
      " f1:0.8639021796916534 \n",
      " precision:0.8662046908315565 \n",
      " recall:0.8616118769883351 \n",
      ", 'Test':  best_epoch_indx:21\n",
      " auc:0.9261203848456403 \n",
      " apur:0.9243980003869658 \n",
      " f1:0.860240195557445 \n",
      " precision:0.8621644652748189 \n",
      " recall:0.8583244962884411 \n",
      "}\n",
      "=====Epoch 22\n",
      "Training...\n"
     ]
    },
    {
     "name": "stderr",
     "output_type": "stream",
     "text": [
      "Iteration: 100%|██████████| 214/214 [00:09<00:00, 22.00it/s]\n",
      "Iteration: 100%|██████████| 60/60 [00:02<00:00, 22.61it/s]]]\n",
      "Iteration: 100%|██████████| 24/24 [00:01<00:00, 22.48it/s]s]\n",
      "Iteration:   1%|          | 2/214 [00:00<00:17, 12.21it/s]s]"
     ]
    },
    {
     "name": "stdout",
     "output_type": "stream",
     "text": [
      "{'Train':  best_epoch_indx:21\n",
      " auc:0.9583987621914241 \n",
      " apur:0.9601236693962482 \n",
      " f1:0.8963342413833946 \n",
      " precision:0.9009494330188399 \n",
      " recall:0.8917660922079835 \n",
      ", 'Validation':  best_epoch_indx:21\n",
      " auc:0.9258182934440121 \n",
      " apur:0.9268466484509625 \n",
      " f1:0.8551358515573227 \n",
      " precision:0.8550225284919163 \n",
      " recall:0.8552492046659597 \n",
      ", 'Test':  best_epoch_indx:21\n",
      " auc:0.9204529470061061 \n",
      " apur:0.9205832792876387 \n",
      " f1:0.8536468073737642 \n",
      " precision:0.860219685548137 \n",
      " recall:0.8471736133206066 \n",
      "}\n",
      "=====Epoch 22\n",
      "Training...\n"
     ]
    },
    {
     "name": "stderr",
     "output_type": "stream",
     "text": [
      "Iteration: 100%|██████████| 60/60 [00:02<00:00, 22.50it/s]s]\n",
      "Iteration: 100%|██████████| 214/214 [00:10<00:00, 20.42it/s]\n",
      "Iteration: 100%|██████████| 214/214 [00:17<00:00, 12.23it/s]\n",
      "Iteration:   0%|          | 0/214 [00:00<?, ?it/s]"
     ]
    },
    {
     "name": "stdout",
     "output_type": "stream",
     "text": [
      "Evaluating...\n"
     ]
    },
    {
     "name": "stderr",
     "output_type": "stream",
     "text": [
      "Iteration: 100%|██████████| 60/60 [00:02<00:00, 21.88it/s]]]\n",
      "Iteration: 100%|██████████| 24/24 [00:01<00:00, 22.12it/s]s]\n"
     ]
    },
    {
     "name": "stdout",
     "output_type": "stream",
     "text": [
      "{'Train':  best_epoch_indx:22\n",
      " auc:0.9606876574453397 \n",
      " apur:0.9613017796325379 \n",
      " f1:0.9006123410268488 \n",
      " precision:0.9000029419552235 \n",
      " recall:0.9012225659154515 \n",
      ", 'Validation':  best_epoch_indx:22\n",
      " auc:0.9200072493365873 \n",
      " apur:0.9148220416075354 \n",
      " f1:0.8546804561124369 \n",
      " precision:0.8549071618037135 \n",
      " recall:0.8544538706256628 \n",
      ", 'Test':  best_epoch_indx:22\n",
      " auc:0.9227574171773654 \n",
      " apur:0.9213393863045308 \n",
      " f1:0.8584945779289817 \n",
      " precision:0.8605989555579239 \n",
      " recall:0.8564004666454555 \n",
      "}\n",
      "=====Epoch 23\n",
      "Training...\n"
     ]
    },
    {
     "name": "stderr",
     "output_type": "stream",
     "text": [
      "Iteration: 100%|██████████| 214/214 [00:17<00:00, 11.91it/s]\n",
      "Iteration:   0%|          | 0/214 [00:00<?, ?it/s]"
     ]
    },
    {
     "name": "stdout",
     "output_type": "stream",
     "text": [
      "Evaluating...\n"
     ]
    },
    {
     "name": "stderr",
     "output_type": "stream",
     "text": [
      "Iteration: 100%|██████████| 214/214 [00:10<00:00, 21.33it/s]\n",
      "Iteration: 100%|██████████| 214/214 [00:17<00:00, 12.13it/s]\n",
      "Iteration:  46%|████▋     | 99/214 [00:04<00:05, 22.08it/s]]"
     ]
    },
    {
     "name": "stdout",
     "output_type": "stream",
     "text": [
      "Evaluating...\n"
     ]
    },
    {
     "name": "stderr",
     "output_type": "stream",
     "text": [
      "Iteration: 100%|██████████| 60/60 [00:02<00:00, 22.39it/s]]]\n",
      "Iteration: 100%|██████████| 24/24 [00:01<00:00, 19.17it/s]s]\n",
      "Iteration:  76%|███████▌  | 162/214 [00:07<00:02, 22.27it/s]"
     ]
    },
    {
     "name": "stdout",
     "output_type": "stream",
     "text": [
      "{'Train':  best_epoch_indx:20\n",
      " auc:0.9576592381530165 \n",
      " apur:0.9585494836943206 \n",
      " f1:0.8990926907164114 \n",
      " precision:0.8862907842014882 \n",
      " recall:0.9122698482839888 \n",
      ", 'Validation':  best_epoch_indx:20\n",
      " auc:0.9284162102269556 \n",
      " apur:0.9293317737367867 \n",
      " f1:0.8628990057561486 \n",
      " precision:0.8517561983471075 \n",
      " recall:0.8743372216330859 \n",
      ", 'Test':  best_epoch_indx:20\n",
      " auc:0.926294990614824 \n",
      " apur:0.9249926043979031 \n",
      " f1:0.8634352059145103 \n",
      " precision:0.848026181223154 \n",
      " recall:0.8794145720649061 \n",
      "}\n",
      "=====Epoch 21\n",
      "Training...\n"
     ]
    },
    {
     "name": "stderr",
     "output_type": "stream",
     "text": [
      "\r",
      "Iteration:  65%|██████▌   | 140/214 [00:11<00:05, 12.48it/s]\r",
      "Iteration:  31%|███       | 66/214 [00:03<00:06, 21.55it/s]\r",
      "Iteration:  88%|████████▊ | 21/24 [00:00<00:00, 22.21it/s]\r",
      "Iteration:   1%|          | 2/214 [00:00<00:18, 11.33it/s]\r",
      "Iteration:  77%|███████▋  | 165/214 [00:07<00:02, 22.23it/s]\r",
      "Iteration:  66%|██████▋   | 142/214 [00:11<00:05, 12.43it/s]\r",
      "Iteration:  32%|███▏      | 69/214 [00:03<00:06, 21.07it/s]\r",
      "Iteration: 100%|██████████| 24/24 [00:01<00:00, 22.53it/s]\r",
      "Iteration: 100%|██████████| 24/24 [00:01<00:00, 22.21it/s]\n"
     ]
    },
    {
     "name": "stdout",
     "output_type": "stream",
     "text": [
      "{'Train':  best_epoch_indx:21\n",
      " auc:0.9562767094683822 \n",
      " apur:0.9573915441294731 \n",
      " f1:0.8956099564369215 \n",
      " precision:0.8918555737321804 \n",
      " recall:0.8993960818971867 \n",
      ", 'Validation':  best_epoch_indx:21\n",
      " auc:0.9183603719423402 \n",
      " apur:0.9186765667514896 \n",
      " f1:0.8558274138384636 \n",
      " precision:0.8493472584856396 \n",
      " recall:0.862407211028632 \n",
      ", 'Test':  best_epoch_indx:21\n",
      " auc:0.9190393540542996 \n",
      " apur:0.9191186076027149 \n",
      " f1:0.8557418538437204 \n",
      " precision:0.8508965083359546 \n",
      " recall:0.8606426980591791 \n",
      "}\n",
      "=====Epoch 22\n",
      "Training...\n"
     ]
    },
    {
     "name": "stderr",
     "output_type": "stream",
     "text": [
      "Iteration: 100%|██████████| 214/214 [00:09<00:00, 22.16it/s]\n",
      "Iteration: 100%|██████████| 60/60 [00:02<00:00, 22.53it/s]s]\n",
      "Iteration: 100%|██████████| 214/214 [00:17<00:00, 12.23it/s]\n",
      "Iteration:  93%|█████████▎| 198/214 [00:09<00:00, 22.35it/s]"
     ]
    },
    {
     "name": "stdout",
     "output_type": "stream",
     "text": [
      "Evaluating...\n"
     ]
    },
    {
     "name": "stderr",
     "output_type": "stream",
     "text": [
      "Iteration: 100%|██████████| 214/214 [00:09<00:00, 21.81it/s]\n",
      "Iteration: 100%|██████████| 24/24 [00:01<00:00, 21.71it/s]]\n",
      "Iteration:   0%|          | 0/214 [00:00<?, ?it/s]1.94it/s]"
     ]
    },
    {
     "name": "stdout",
     "output_type": "stream",
     "text": [
      "{'Train':  best_epoch_indx:22\n",
      " auc:0.9585637154901535 \n",
      " apur:0.9607579436219948 \n",
      " f1:0.8998053917921127 \n",
      " precision:0.8748191430161381 \n",
      " recall:0.926260900306387 \n",
      ", 'Validation':  best_epoch_indx:22\n",
      " auc:0.9228440358826305 \n",
      " apur:0.9215918957941082 \n",
      " f1:0.8657786885245902 \n",
      " precision:0.8374628344895937 \n",
      " recall:0.8960763520678685 \n",
      ", 'Test':  best_epoch_indx:22\n",
      " auc:0.9219123360917938 \n",
      " apur:0.9223075397177694 \n",
      " f1:0.8619642949014766 \n",
      " precision:0.8371140201858699 \n",
      " recall:0.8883351007423118 \n",
      "}\n",
      "=====Epoch 23\n",
      "Training...\n"
     ]
    },
    {
     "name": "stderr",
     "output_type": "stream",
     "text": [
      "Iteration: 100%|██████████| 60/60 [00:02<00:00, 22.97it/s]]]\n",
      "Iteration: 100%|██████████| 24/24 [00:01<00:00, 22.47it/s]s]\n",
      "Iteration:  62%|██████▏   | 132/214 [00:11<00:07, 11.30it/s]"
     ]
    },
    {
     "name": "stdout",
     "output_type": "stream",
     "text": [
      "{'Train':  best_epoch_indx:22\n",
      " auc:0.9610616513487766 \n",
      " apur:0.9630280375967424 \n",
      " f1:0.9040452649692302 \n",
      " precision:0.8951168096104422 \n",
      " recall:0.9131536308734718 \n",
      ", 'Validation':  best_epoch_indx:22\n",
      " auc:0.9274000029174934 \n",
      " apur:0.9283557146954667 \n",
      " f1:0.861933455593398 \n",
      " precision:0.8518902123252201 \n",
      " recall:0.8722163308589608 \n",
      ", 'Test':  best_epoch_indx:22\n",
      " auc:0.9232577546315678 \n",
      " apur:0.9232327884877197 \n",
      " f1:0.8603422112919261 \n",
      " precision:0.849101425325346 \n",
      " recall:0.8718846113055467 \n",
      "}\n",
      "=====Epoch 23\n",
      "Training...\n"
     ]
    },
    {
     "name": "stderr",
     "output_type": "stream",
     "text": [
      "Iteration: 100%|██████████| 214/214 [00:10<00:00, 20.90it/s]\n",
      "Iteration: 100%|██████████| 214/214 [00:17<00:00, 12.28it/s]\n",
      "Iteration:   0%|          | 0/214 [00:00<?, ?it/s]"
     ]
    },
    {
     "name": "stdout",
     "output_type": "stream",
     "text": [
      "Evaluating...\n"
     ]
    },
    {
     "name": "stderr",
     "output_type": "stream",
     "text": [
      "Iteration: 100%|██████████| 214/214 [00:17<00:00, 11.90it/s]\n",
      "Iteration:   0%|          | 0/214 [00:00<?, ?it/s]"
     ]
    },
    {
     "name": "stdout",
     "output_type": "stream",
     "text": [
      "Evaluating...\n"
     ]
    },
    {
     "name": "stderr",
     "output_type": "stream",
     "text": [
      "Iteration: 100%|██████████| 60/60 [00:02<00:00, 22.34it/s]s]\n",
      "Iteration: 100%|██████████| 24/24 [00:01<00:00, 22.10it/s]]]\n",
      "Iteration:  79%|███████▉  | 169/214 [00:13<00:03, 12.32it/s]"
     ]
    },
    {
     "name": "stdout",
     "output_type": "stream",
     "text": [
      "{'Train':  best_epoch_indx:23\n",
      " auc:0.9581103561410862 \n",
      " apur:0.9592870360665418 \n",
      " f1:0.8969762863271723 \n",
      " precision:0.8947152445994665 \n",
      " recall:0.8992487847989394 \n",
      ", 'Validation':  best_epoch_indx:23\n",
      " auc:0.9223212654817416 \n",
      " apur:0.918166136799579 \n",
      " f1:0.8614775725593667 \n",
      " precision:0.8574054621848739 \n",
      " recall:0.8655885471898197 \n",
      ", 'Test':  best_epoch_indx:23\n",
      " auc:0.9217058992506072 \n",
      " apur:0.9207327653161543 \n",
      " f1:0.857824427480916 \n",
      " precision:0.8575516693163752 \n",
      " recall:0.858097359210945 \n",
      "}\n",
      "=====Epoch 24\n",
      "Training...\n"
     ]
    },
    {
     "name": "stderr",
     "output_type": "stream",
     "text": [
      "Iteration: 100%|██████████| 214/214 [00:17<00:00, 12.21it/s]\n",
      "Iteration:  72%|███████▏  | 154/214 [00:07<00:02, 22.21it/s]"
     ]
    },
    {
     "name": "stdout",
     "output_type": "stream",
     "text": [
      "Evaluating...\n"
     ]
    },
    {
     "name": "stderr",
     "output_type": "stream",
     "text": [
      "Iteration: 100%|██████████| 214/214 [00:10<00:00, 21.07it/s]\n",
      "Iteration: 100%|██████████| 214/214 [00:09<00:00, 22.15it/s]\n",
      "Iteration: 100%|██████████| 214/214 [00:17<00:00, 12.32it/s]\n",
      "Iteration:  42%|████▏     | 90/214 [00:04<00:05, 21.02it/s]"
     ]
    },
    {
     "name": "stdout",
     "output_type": "stream",
     "text": [
      "Evaluating...\n"
     ]
    },
    {
     "name": "stderr",
     "output_type": "stream",
     "text": [
      "Iteration: 100%|██████████| 60/60 [00:02<00:00, 22.71it/s]]]\n",
      "Iteration: 100%|██████████| 60/60 [00:02<00:00, 22.62it/s]]]\n",
      "Iteration: 100%|██████████| 24/24 [00:01<00:00, 21.80it/s]]]\n",
      "Iteration:  77%|███████▋  | 164/214 [00:07<00:02, 22.16it/s]"
     ]
    },
    {
     "name": "stdout",
     "output_type": "stream",
     "text": [
      "{'Train':  best_epoch_indx:21\n",
      " auc:0.9566110695741844 \n",
      " apur:0.957786522576864 \n",
      " f1:0.897142607352577 \n",
      " precision:0.8875850536270327 \n",
      " recall:0.9069082339077921 \n",
      ", 'Validation':  best_epoch_indx:21\n",
      " auc:0.9267399993403929 \n",
      " apur:0.9272447767935058 \n",
      " f1:0.8636660143509458 \n",
      " precision:0.8502440277421012 \n",
      " recall:0.8775185577942736 \n",
      ", 'Test':  best_epoch_indx:21\n",
      " auc:0.9240571120552952 \n",
      " apur:0.9215837908235889 \n",
      " f1:0.8607900819499894 \n",
      " precision:0.8528156552513793 \n",
      " recall:0.8689150493159402 \n",
      "}\n",
      "=====Epoch 22\n",
      "Training...\n"
     ]
    },
    {
     "name": "stderr",
     "output_type": "stream",
     "text": [
      "Iteration: 100%|██████████| 24/24 [00:01<00:00, 21.77it/s]]]\n",
      "Iteration:   3%|▎         | 6/214 [00:00<00:17, 12.22it/s]s]"
     ]
    },
    {
     "name": "stdout",
     "output_type": "stream",
     "text": [
      "{'Train':  best_epoch_indx:22\n",
      " auc:0.9579617385435295 \n",
      " apur:0.9587318877457366 \n",
      " f1:0.8999306879223704 \n",
      " precision:0.8825728609057694 \n",
      " recall:0.9179849756959788 \n",
      ", 'Validation':  best_epoch_indx:22\n",
      " auc:0.9201462663062504 \n",
      " apur:0.918815212776932 \n",
      " f1:0.8636777128005199 \n",
      " precision:0.8470558246240122 \n",
      " recall:0.880965005302227 \n",
      ", 'Test':  best_epoch_indx:22\n",
      " auc:0.9211458490323805 \n",
      " apur:0.9203911556444694 \n",
      " f1:0.8612851447211722 \n",
      " precision:0.8414609469850263 \n",
      " recall:0.8820659666984834 \n",
      "}\n",
      "=====Epoch 23\n",
      "Training...\n"
     ]
    },
    {
     "name": "stderr",
     "output_type": "stream",
     "text": [
      "Iteration: 100%|██████████| 214/214 [00:09<00:00, 21.66it/s]\n",
      "Iteration: 100%|██████████| 60/60 [00:02<00:00, 21.17it/s]]]\n",
      "Iteration: 100%|██████████| 214/214 [00:09<00:00, 21.91it/s]\n",
      "Iteration: 100%|██████████| 214/214 [00:17<00:00, 11.99it/s]\n",
      "Iteration:   1%|▏         | 3/214 [00:00<00:09, 21.35it/s]]"
     ]
    },
    {
     "name": "stdout",
     "output_type": "stream",
     "text": [
      "Evaluating...\n"
     ]
    },
    {
     "name": "stderr",
     "output_type": "stream",
     "text": [
      "Iteration: 100%|██████████| 24/24 [00:01<00:00, 20.04it/s]]\n",
      "Iteration:   0%|          | 0/214 [00:00<?, ?it/s]2.19it/s]"
     ]
    },
    {
     "name": "stdout",
     "output_type": "stream",
     "text": [
      "{'Train':  best_epoch_indx:23\n",
      " auc:0.9572599036979959 \n",
      " apur:0.9594154787262741 \n",
      " f1:0.8948655977363829 \n",
      " precision:0.8952878037272942 \n",
      " recall:0.8944437897713882 \n",
      ", 'Validation':  best_epoch_indx:23\n",
      " auc:0.9221311130997986 \n",
      " apur:0.9215762470735115 \n",
      " f1:0.8579387186629526 \n",
      " precision:0.8585080966286169 \n",
      " recall:0.8573700954400848 \n",
      ", 'Test':  best_epoch_indx:23\n",
      " auc:0.9209059088463523 \n",
      " apur:0.9207140586306343 \n",
      " f1:0.8573098793644046 \n",
      " precision:0.859273463300309 \n",
      " recall:0.855355249204666 \n",
      "}\n",
      "=====Epoch 24\n",
      "Training...\n"
     ]
    },
    {
     "name": "stderr",
     "output_type": "stream",
     "text": [
      "Iteration: 100%|██████████| 60/60 [00:02<00:00, 21.25it/s]]]\n",
      "Iteration: 100%|██████████| 24/24 [00:01<00:00, 20.34it/s]s]\n",
      "Iteration:  21%|██        | 44/214 [00:03<00:17,  9.94it/s]]"
     ]
    },
    {
     "name": "stdout",
     "output_type": "stream",
     "text": [
      "{'Train':  best_epoch_indx:23\n",
      " auc:0.9539475984528196 \n",
      " apur:0.9560689545089354 \n",
      " f1:0.8918170843025823 \n",
      " precision:0.8913971215822468 \n",
      " recall:0.8922374429223744 \n",
      ", 'Validation':  best_epoch_indx:23\n",
      " auc:0.9178098140034604 \n",
      " apur:0.917538414794044 \n",
      " f1:0.8468492422228131 \n",
      " precision:0.8493333333333334 \n",
      " recall:0.8443796394485684 \n",
      ", 'Test':  best_epoch_indx:23\n",
      " auc:0.9177364282847227 \n",
      " apur:0.9172116902663179 \n",
      " f1:0.8544934294192454 \n",
      " precision:0.853860002117971 \n",
      " recall:0.8551277972213385 \n",
      "}\n",
      "=====Epoch 24\n",
      "Training...\n"
     ]
    },
    {
     "name": "stderr",
     "output_type": "stream",
     "text": [
      "Iteration: 100%|██████████| 214/214 [00:09<00:00, 21.47it/s]\n",
      "Iteration: 100%|██████████| 214/214 [00:17<00:00, 12.10it/s]\n",
      "Iteration:   1%|▏         | 3/214 [00:00<00:09, 21.90it/s]s]"
     ]
    },
    {
     "name": "stdout",
     "output_type": "stream",
     "text": [
      "Evaluating...\n"
     ]
    },
    {
     "name": "stderr",
     "output_type": "stream",
     "text": [
      "\r",
      "Iteration:  36%|███▌      | 76/214 [00:06<00:11, 12.43it/s]\r",
      "Iteration: 100%|██████████| 214/214 [00:17<00:00, 12.80it/s]\r",
      "Iteration: 100%|██████████| 214/214 [00:17<00:00, 12.23it/s]\n",
      "\r",
      "Iteration:   0%|          | 0/214 [00:00<?, ?it/s]\r",
      "Iteration:  58%|█████▊    | 124/214 [00:10<00:07, 11.80it/s]\r",
      "Iteration:  23%|██▎       | 14/60 [00:00<00:02, 20.20it/s]\r",
      "Iteration:   3%|▎         | 6/214 [00:00<00:09, 22.19it/s]\r",
      "Iteration:  36%|███▋      | 78/214 [00:06<00:10, 12.51it/s]\r",
      "Iteration:   1%|▏         | 3/214 [00:00<00:09, 21.75it/s]"
     ]
    },
    {
     "name": "stdout",
     "output_type": "stream",
     "text": [
      "Evaluating...\n"
     ]
    },
    {
     "name": "stderr",
     "output_type": "stream",
     "text": [
      "Iteration: 100%|██████████| 60/60 [00:02<00:00, 20.89it/s]s]\n",
      "Iteration: 100%|██████████| 24/24 [00:01<00:00, 20.28it/s]]]\n",
      "Iteration:  43%|████▎     | 93/214 [00:04<00:05, 22.54it/s]]"
     ]
    },
    {
     "name": "stdout",
     "output_type": "stream",
     "text": [
      "{'Train':  best_epoch_indx:24\n",
      " auc:0.9547823951506633 \n",
      " apur:0.9555561548877001 \n",
      " f1:0.8951706862402423 \n",
      " precision:0.8851925458682566 \n",
      " recall:0.9053763440860215 \n",
      ", 'Validation':  best_epoch_indx:24\n",
      " auc:0.9151929097302207 \n",
      " apur:0.9099117831894535 \n",
      " f1:0.8538622129436325 \n",
      " precision:0.8406988694758479 \n",
      " recall:0.8674443266171792 \n",
      ", 'Test':  best_epoch_indx:24\n",
      " auc:0.9193240213080397 \n",
      " apur:0.9181681435517788 \n",
      " f1:0.8577568134171909 \n",
      " precision:0.8478914102165579 \n",
      " recall:0.8678544914625093 \n",
      "}\n",
      "=====Epoch 25\n",
      "Training...\n"
     ]
    },
    {
     "name": "stderr",
     "output_type": "stream",
     "text": [
      "Iteration: 100%|██████████| 214/214 [00:17<00:00, 12.06it/s]\n",
      "Iteration:  79%|███████▊  | 168/214 [00:07<00:02, 21.92it/s]"
     ]
    },
    {
     "name": "stdout",
     "output_type": "stream",
     "text": [
      "Evaluating...\n"
     ]
    },
    {
     "name": "stderr",
     "output_type": "stream",
     "text": [
      "Iteration: 100%|██████████| 214/214 [00:09<00:00, 22.16it/s]\n",
      "Iteration: 100%|██████████| 214/214 [00:09<00:00, 21.65it/s]\n",
      "Iteration: 100%|██████████| 214/214 [00:17<00:00, 12.19it/s]\n",
      "Iteration:  18%|█▊        | 11/60 [00:00<00:02, 20.59it/s]]"
     ]
    },
    {
     "name": "stdout",
     "output_type": "stream",
     "text": [
      "Evaluating...\n"
     ]
    },
    {
     "name": "stderr",
     "output_type": "stream",
     "text": [
      "Iteration: 100%|██████████| 60/60 [00:02<00:00, 22.53it/s]]]\n",
      "Iteration: 100%|██████████| 60/60 [00:02<00:00, 21.94it/s]s]\n",
      "Iteration: 100%|██████████| 24/24 [00:01<00:00, 22.39it/s]]]\n",
      "Iteration:   1%|          | 2/214 [00:00<00:17, 12.34it/s]s]"
     ]
    },
    {
     "name": "stdout",
     "output_type": "stream",
     "text": [
      "{'Train':  best_epoch_indx:22\n",
      " auc:0.9531440226427367 \n",
      " apur:0.9543377518347327 \n",
      " f1:0.8879771303304549 \n",
      " precision:0.8929635367016205 \n",
      " recall:0.8830461039917513 \n",
      ", 'Validation':  best_epoch_indx:22\n",
      " auc:0.9204615220689341 \n",
      " apur:0.9217738401863481 \n",
      " f1:0.8484606157536985 \n",
      " precision:0.8531224872688288 \n",
      " recall:0.8438494167550371 \n",
      ", 'Test':  best_epoch_indx:22\n",
      " auc:0.9203830973465248 \n",
      " apur:0.9192549598096247 \n",
      " f1:0.8491936345188509 \n",
      " precision:0.8552221146606432 \n",
      " recall:0.8432495492629123 \n",
      "}\n",
      "=====Epoch 23\n",
      "Training...\n"
     ]
    },
    {
     "name": "stderr",
     "output_type": "stream",
     "text": [
      "Iteration: 100%|██████████| 24/24 [00:01<00:00, 20.46it/s]]]\n",
      "Iteration:   5%|▍         | 10/214 [00:00<00:16, 12.03it/s]]"
     ]
    },
    {
     "name": "stdout",
     "output_type": "stream",
     "text": [
      "{'Train':  best_epoch_indx:23\n",
      " auc:0.9563766193271003 \n",
      " apur:0.957223529329548 \n",
      " f1:0.8961692663369525 \n",
      " precision:0.8902811291682414 \n",
      " recall:0.9021358079245839 \n",
      ", 'Validation':  best_epoch_indx:23\n",
      " auc:0.9191109129470741 \n",
      " apur:0.9153416115467595 \n",
      " f1:0.8558653340347185 \n",
      " precision:0.8491649269311065 \n",
      " recall:0.8626723223753977 \n",
      ", 'Test':  best_epoch_indx:23\n",
      " auc:0.9190576030073156 \n",
      " apur:0.9173481096906584 \n",
      " f1:0.8551288795370857 \n",
      " precision:0.8483456841665797 \n",
      " recall:0.8620214232686393 \n",
      "}\n",
      "=====Epoch 24\n",
      "Training...\n"
     ]
    },
    {
     "name": "stderr",
     "output_type": "stream",
     "text": [
      "Iteration: 100%|██████████| 214/214 [00:09<00:00, 21.82it/s]\n",
      "Iteration: 100%|██████████| 60/60 [00:02<00:00, 21.51it/s]]]\n",
      "Iteration: 100%|██████████| 214/214 [00:09<00:00, 21.43it/s]\n",
      "Iteration: 100%|██████████| 214/214 [00:17<00:00, 12.34it/s]\n",
      "Iteration:  25%|██▌       | 6/24 [00:00<00:00, 22.51it/s]"
     ]
    },
    {
     "name": "stdout",
     "output_type": "stream",
     "text": [
      "Evaluating...\n"
     ]
    },
    {
     "name": "stderr",
     "output_type": "stream",
     "text": [
      "Iteration: 100%|██████████| 24/24 [00:01<00:00, 22.53it/s]]\n",
      "Iteration:  46%|████▌     | 98/214 [00:07<00:10, 11.35it/s]"
     ]
    },
    {
     "name": "stdout",
     "output_type": "stream",
     "text": [
      "{'Train':  best_epoch_indx:24\n",
      " auc:0.951548199046957 \n",
      " apur:0.9532564885374931 \n",
      " f1:0.8870841976725368 \n",
      " precision:0.8860022922972933 \n",
      " recall:0.8881687485269856 \n",
      ", 'Validation':  best_epoch_indx:24\n",
      " auc:0.916401172134641 \n",
      " apur:0.9151719630707974 \n",
      " f1:0.8501456182155149 \n",
      " precision:0.8490216816499206 \n",
      " recall:0.851272534464475 \n",
      ", 'Test':  best_epoch_indx:24\n",
      " auc:0.9167197185373186 \n",
      " apur:0.9166454354324203 \n",
      " f1:0.85182639953481 \n",
      " precision:0.8492674185727838 \n",
      " recall:0.8544008483563097 \n",
      "}\n",
      "=====Epoch 25\n",
      "Training...\n"
     ]
    },
    {
     "name": "stderr",
     "output_type": "stream",
     "text": [
      "Iteration: 100%|██████████| 60/60 [00:02<00:00, 21.90it/s]s]\n",
      "Iteration: 100%|██████████| 24/24 [00:01<00:00, 20.17it/s]]]\n",
      "Iteration:  68%|██████▊   | 146/214 [00:11<00:05, 12.43it/s]"
     ]
    },
    {
     "name": "stdout",
     "output_type": "stream",
     "text": [
      "{'Train':  best_epoch_indx:24\n",
      " auc:0.9470601498131015 \n",
      " apur:0.9489019663742649 \n",
      " f1:0.8879129710956114 \n",
      " precision:0.8656983740519968 \n",
      " recall:0.9112976874355575 \n",
      ", 'Validation':  best_epoch_indx:24\n",
      " auc:0.9126446220450867 \n",
      " apur:0.9123489369366365 \n",
      " f1:0.8531289910600255 \n",
      " precision:0.823065549531789 \n",
      " recall:0.8854718981972428 \n",
      ", 'Test':  best_epoch_indx:24\n",
      " auc:0.9096093201722671 \n",
      " apur:0.9074261267132377 \n",
      " f1:0.8514076895362602 \n",
      " precision:0.8271 \n",
      " recall:0.8771874005727013 \n",
      "}\n",
      "=====Epoch 25\n",
      "Training...\n"
     ]
    },
    {
     "name": "stderr",
     "output_type": "stream",
     "text": [
      "Iteration: 100%|██████████| 214/214 [00:10<00:00, 21.27it/s]\n",
      "Iteration: 100%|██████████| 214/214 [00:17<00:00, 12.37it/s]\n",
      "Iteration:   0%|          | 0/214 [00:00<?, ?it/s]"
     ]
    },
    {
     "name": "stdout",
     "output_type": "stream",
     "text": [
      "Evaluating...\n"
     ]
    },
    {
     "name": "stderr",
     "output_type": "stream",
     "text": [
      "Iteration: 100%|██████████| 214/214 [00:17<00:00, 12.06it/s]\n",
      "Iteration:  40%|████      | 86/214 [00:06<00:10, 12.53it/s]]"
     ]
    },
    {
     "name": "stdout",
     "output_type": "stream",
     "text": [
      "Evaluating...\n"
     ]
    },
    {
     "name": "stderr",
     "output_type": "stream",
     "text": [
      "Iteration: 100%|██████████| 60/60 [00:02<00:00, 22.32it/s]]]\n",
      "Iteration: 100%|██████████| 24/24 [00:01<00:00, 19.73it/s]]]\n",
      "Iteration:  38%|███▊      | 81/214 [00:03<00:05, 22.53it/s]]"
     ]
    },
    {
     "name": "stdout",
     "output_type": "stream",
     "text": [
      "{'Train':  best_epoch_indx:25\n",
      " auc:0.9545550769888578 \n",
      " apur:0.9559292599417883 \n",
      " f1:0.8959831708218439 \n",
      " precision:0.8656650828091955 \n",
      " recall:0.9285019885108263 \n",
      ", 'Validation':  best_epoch_indx:25\n",
      " auc:0.9168202843160634 \n",
      " apur:0.9148901411015704 \n",
      " f1:0.8583460949464012 \n",
      " precision:0.8275098425196851 \n",
      " recall:0.8915694591728526 \n",
      ", 'Test':  best_epoch_indx:25\n",
      " auc:0.9196878006449648 \n",
      " apur:0.919842352617462 \n",
      " f1:0.8591212260068225 \n",
      " precision:0.8261848805327067 \n",
      " recall:0.8947926609396543 \n",
      "}\n",
      "=====Epoch 26\n",
      "Training...\n"
     ]
    },
    {
     "name": "stderr",
     "output_type": "stream",
     "text": [
      "Iteration: 100%|██████████| 214/214 [00:17<00:00, 12.39it/s]\n",
      "Iteration:   0%|          | 0/214 [00:00<?, ?it/s]"
     ]
    },
    {
     "name": "stdout",
     "output_type": "stream",
     "text": [
      "Evaluating...\n"
     ]
    },
    {
     "name": "stderr",
     "output_type": "stream",
     "text": [
      "Iteration: 100%|██████████| 214/214 [00:09<00:00, 22.06it/s]\n",
      "Iteration: 100%|██████████| 214/214 [00:09<00:00, 21.49it/s]\n",
      "Iteration: 100%|██████████| 214/214 [00:17<00:00, 12.47it/s]\n",
      "Iteration:  50%|█████     | 30/60 [00:01<00:01, 22.50it/s]]"
     ]
    },
    {
     "name": "stdout",
     "output_type": "stream",
     "text": [
      "Evaluating...\n"
     ]
    },
    {
     "name": "stderr",
     "output_type": "stream",
     "text": [
      "Iteration: 100%|██████████| 60/60 [00:02<00:00, 22.42it/s]s]\n",
      "Iteration: 100%|██████████| 60/60 [00:02<00:00, 22.55it/s]s]\n",
      "Iteration: 100%|██████████| 24/24 [00:01<00:00, 19.92it/s]]\n",
      "Iteration:  68%|██████▊   | 145/214 [00:06<00:03, 21.93it/s]"
     ]
    },
    {
     "name": "stdout",
     "output_type": "stream",
     "text": [
      "{'Train':  best_epoch_indx:23\n",
      " auc:0.9509779682521354 \n",
      " apur:0.9525354631421544 \n",
      " f1:0.8918204304438062 \n",
      " precision:0.8617345677316557 \n",
      " recall:0.9240830755634114 \n",
      ", 'Validation':  best_epoch_indx:23\n",
      " auc:0.916947528248946 \n",
      " apur:0.9171334777371628 \n",
      " f1:0.8563768671007277 \n",
      " precision:0.8259049495198227 \n",
      " recall:0.8891834570519618 \n",
      ", 'Test':  best_epoch_indx:23\n",
      " auc:0.917425530063263 \n",
      " apur:0.9171479067445855 \n",
      " f1:0.8594517184942716 \n",
      " precision:0.8299911093549343 \n",
      " recall:0.8910807084526461 \n",
      "}\n",
      "=====Epoch 24\n",
      "Training...\n"
     ]
    },
    {
     "name": "stderr",
     "output_type": "stream",
     "text": [
      "Iteration: 100%|██████████| 24/24 [00:01<00:00, 21.96it/s]s]\n",
      "Iteration:  82%|████████▏ | 175/214 [00:08<00:01, 21.89it/s]"
     ]
    },
    {
     "name": "stdout",
     "output_type": "stream",
     "text": [
      "{'Train':  best_epoch_indx:24\n",
      " auc:0.9549821258735199 \n",
      " apur:0.9560109954687662 \n",
      " f1:0.8830403136349133 \n",
      " precision:0.9118754707506904 \n",
      " recall:0.8559728973339226 \n",
      ", 'Validation':  best_epoch_indx:24\n",
      " auc:0.9167285576927955 \n",
      " apur:0.9159935719135031 \n",
      " f1:0.8374587458745875 \n",
      " precision:0.87 \n",
      " recall:0.8072640509013785 \n",
      ", 'Test':  best_epoch_indx:24\n",
      " auc:0.9185399213766345 \n",
      " apur:0.9184486744610723 \n",
      " f1:0.8393971180919781 \n",
      " precision:0.8754030400736987 \n",
      " recall:0.8062360801781737 \n",
      "}\n",
      "=====Epoch 25\n",
      "Training...\n"
     ]
    },
    {
     "name": "stderr",
     "output_type": "stream",
     "text": [
      "Iteration: 100%|██████████| 214/214 [00:10<00:00, 21.20it/s]\n",
      "Iteration: 100%|██████████| 214/214 [00:09<00:00, 22.38it/s]\n",
      "Iteration: 100%|██████████| 60/60 [00:02<00:00, 21.82it/s]]]\n",
      "Iteration: 100%|██████████| 214/214 [00:17<00:00, 12.13it/s]\n",
      "Iteration:  42%|████▏     | 90/214 [00:07<00:10, 12.17it/s]"
     ]
    },
    {
     "name": "stdout",
     "output_type": "stream",
     "text": [
      "Evaluating...\n"
     ]
    },
    {
     "name": "stderr",
     "output_type": "stream",
     "text": [
      "Iteration: 100%|██████████| 24/24 [00:01<00:00, 20.15it/s]]\n",
      "Iteration:  41%|████      | 88/214 [00:07<00:10, 12.32it/s]"
     ]
    },
    {
     "name": "stdout",
     "output_type": "stream",
     "text": [
      "{'Train':  best_epoch_indx:25\n",
      " auc:0.9581323207517464 \n",
      " apur:0.9599541593018462 \n",
      " f1:0.898112765552481 \n",
      " precision:0.8927147306225806 \n",
      " recall:0.9035764789064341 \n",
      ", 'Validation':  best_epoch_indx:25\n",
      " auc:0.9246669935104801 \n",
      " apur:0.9228497203594591 \n",
      " f1:0.8599921270174518 \n",
      " precision:0.8513899714211484 \n",
      " recall:0.8687698833510075 \n",
      ", 'Test':  best_epoch_indx:25\n",
      " auc:0.9206196431428104 \n",
      " apur:0.9195793457226484 \n",
      " f1:0.8558449104643178 \n",
      " precision:0.8526470897800231 \n",
      " recall:0.859066808059385 \n",
      "}\n",
      "=====Epoch 26\n",
      "Training...\n"
     ]
    },
    {
     "name": "stderr",
     "output_type": "stream",
     "text": [
      "Iteration: 100%|██████████| 60/60 [00:02<00:00, 22.78it/s]]]\n",
      "Iteration: 100%|██████████| 24/24 [00:01<00:00, 22.66it/s]]]\n",
      "Iteration:  17%|█▋        | 36/214 [00:03<00:14, 11.92it/s]]"
     ]
    },
    {
     "name": "stdout",
     "output_type": "stream",
     "text": [
      "{'Train':  best_epoch_indx:25\n",
      " auc:0.958280825153117 \n",
      " apur:0.9600209826240811 \n",
      " f1:0.9028049763852091 \n",
      " precision:0.882995803171563 \n",
      " recall:0.9235233465900722 \n",
      ", 'Validation':  best_epoch_indx:25\n",
      " auc:0.9246453501499338 \n",
      " apur:0.9244173935970117 \n",
      " f1:0.8673430075767304 \n",
      " precision:0.8410958904109589 \n",
      " recall:0.8952810180275715 \n",
      ", 'Test':  best_epoch_indx:25\n",
      " auc:0.9192506473716178 \n",
      " apur:0.9173536463476926 \n",
      " f1:0.8598169502042505 \n",
      " precision:0.8389505549949546 \n",
      " recall:0.8817477993424542 \n",
      "}\n",
      "=====Epoch 26\n",
      "Training...\n"
     ]
    },
    {
     "name": "stderr",
     "output_type": "stream",
     "text": [
      "Iteration: 100%|██████████| 214/214 [00:17<00:00, 12.03it/s]\n",
      "Iteration: 100%|██████████| 214/214 [00:10<00:00, 21.12it/s]\n",
      "Iteration:  36%|███▌      | 76/214 [00:06<00:12, 10.74it/s]"
     ]
    },
    {
     "name": "stdout",
     "output_type": "stream",
     "text": [
      "Evaluating...\n"
     ]
    },
    {
     "name": "stderr",
     "output_type": "stream",
     "text": [
      "Iteration: 100%|██████████| 214/214 [00:17<00:00, 12.27it/s]\n",
      "Iteration:  41%|████      | 88/214 [00:07<00:10, 12.47it/s]"
     ]
    },
    {
     "name": "stdout",
     "output_type": "stream",
     "text": [
      "Evaluating...\n"
     ]
    },
    {
     "name": "stderr",
     "output_type": "stream",
     "text": [
      "Iteration: 100%|██████████| 60/60 [00:02<00:00, 21.91it/s]s]\n",
      "Iteration: 100%|██████████| 214/214 [00:17<00:00, 11.94it/s]\n",
      "Iteration:  76%|███████▌  | 163/214 [00:07<00:02, 22.06it/s]"
     ]
    },
    {
     "name": "stdout",
     "output_type": "stream",
     "text": [
      "Evaluating...\n"
     ]
    },
    {
     "name": "stderr",
     "output_type": "stream",
     "text": [
      "Iteration: 100%|██████████| 214/214 [00:09<00:00, 22.12it/s]\n",
      "Iteration: 100%|██████████| 214/214 [00:09<00:00, 21.47it/s]\n",
      "Iteration: 100%|██████████| 214/214 [00:17<00:00, 12.12it/s]\n",
      "Iteration:   1%|▏         | 3/214 [00:00<00:09, 21.47it/s]]"
     ]
    },
    {
     "name": "stdout",
     "output_type": "stream",
     "text": [
      "Evaluating...\n"
     ]
    },
    {
     "name": "stderr",
     "output_type": "stream",
     "text": [
      "Iteration: 100%|██████████| 60/60 [00:02<00:00, 21.77it/s]]\n",
      "Iteration: 100%|██████████| 60/60 [00:02<00:00, 22.35it/s]s]\n",
      "Iteration: 100%|██████████| 24/24 [00:01<00:00, 22.17it/s]]]\n",
      "Iteration:   0%|          | 0/214 [00:00<?, ?it/s]1.94it/s]]"
     ]
    },
    {
     "name": "stdout",
     "output_type": "stream",
     "text": [
      "{'Train':  best_epoch_indx:24\n",
      " auc:0.9488987723574398 \n",
      " apur:0.9505745729823132 \n",
      " f1:0.8897746522983188 \n",
      " precision:0.8608892072062145 \n",
      " recall:0.9206657828840772 \n",
      ", 'Validation':  best_epoch_indx:24\n",
      " auc:0.919819039307514 \n",
      " apur:0.9219223273231456 \n",
      " f1:0.8607433808553971 \n",
      " precision:0.8278648383937316 \n",
      " recall:0.8963414634146342 \n",
      ", 'Test':  best_epoch_indx:24\n",
      " auc:0.9174239252717743 \n",
      " apur:0.9161372572778732 \n",
      " f1:0.8588806542294914 \n",
      " precision:0.8289265982636148 \n",
      " recall:0.8910807084526461 \n",
      "}\n",
      "=====Epoch 25\n",
      "Training...\n"
     ]
    },
    {
     "name": "stderr",
     "output_type": "stream",
     "text": [
      "Iteration: 100%|██████████| 24/24 [00:01<00:00, 22.12it/s]]]\n",
      "Iteration:  48%|████▊     | 102/214 [00:04<00:05, 21.90it/s]"
     ]
    },
    {
     "name": "stdout",
     "output_type": "stream",
     "text": [
      "{'Train':  best_epoch_indx:25\n",
      " auc:0.9594030749607922 \n",
      " apur:0.9602098171667265 \n",
      " f1:0.9016716111364673 \n",
      " precision:0.8739735117648685 \n",
      " recall:0.9311827956989247 \n",
      ", 'Validation':  best_epoch_indx:25\n",
      " auc:0.9217947689345314 \n",
      " apur:0.9188549994249277 \n",
      " f1:0.8651989185013519 \n",
      " precision:0.8410513141426783 \n",
      " recall:0.8907741251325557 \n",
      ", 'Test':  best_epoch_indx:25\n",
      " auc:0.9225838754103319 \n",
      " apur:0.9207955184730849 \n",
      " f1:0.8636456838220218 \n",
      " precision:0.8357972021033833 \n",
      " recall:0.8934139357301941 \n",
      "}\n",
      "=====Epoch 26\n",
      "Training...\n"
     ]
    },
    {
     "name": "stderr",
     "output_type": "stream",
     "text": [
      "Iteration: 100%|██████████| 214/214 [00:09<00:00, 21.88it/s]\n",
      "Iteration: 100%|██████████| 214/214 [00:09<00:00, 21.92it/s]\n",
      "Iteration: 100%|██████████| 60/60 [00:02<00:00, 21.54it/s]]\n",
      "Iteration: 100%|██████████| 24/24 [00:01<00:00, 21.29it/s]]\n",
      "Iteration:  20%|██        | 12/60 [00:00<00:02, 22.27it/s]]"
     ]
    },
    {
     "name": "stdout",
     "output_type": "stream",
     "text": [
      "{'Train':  best_epoch_indx:26\n",
      " auc:0.9669454416589328 \n",
      " apur:0.9676949416324186 \n",
      " f1:0.9106230547888895 \n",
      " precision:0.9076117175382634 \n",
      " recall:0.9136544410075121 \n",
      ", 'Validation':  best_epoch_indx:26\n",
      " auc:0.9289589194746483 \n",
      " apur:0.9250943290505059 \n",
      " f1:0.8633705475810738 \n",
      " precision:0.8656716417910447 \n",
      " recall:0.8610816542948038 \n",
      ", 'Test':  best_epoch_indx:26\n",
      " auc:0.9306511382422253 \n",
      " apur:0.9293207659292303 \n",
      " f1:0.8668645325418698 \n",
      " precision:0.866405339548681 \n",
      " recall:0.8673242125357938 \n",
      "}\n",
      "=====Epoch 27\n",
      "Training...\n"
     ]
    },
    {
     "name": "stderr",
     "output_type": "stream",
     "text": [
      "Iteration: 100%|██████████| 24/24 [00:01<00:00, 20.28it/s]]]\n",
      "Iteration:  51%|█████▏    | 110/214 [00:08<00:08, 12.34it/s]"
     ]
    },
    {
     "name": "stdout",
     "output_type": "stream",
     "text": [
      "{'Train':  best_epoch_indx:26\n",
      " auc:0.9643868244705653 \n",
      " apur:0.9664775106390986 \n",
      " f1:0.9057884114773758 \n",
      " precision:0.8993436719521404 \n",
      " recall:0.9123261843035588 \n",
      ", 'Validation':  best_epoch_indx:26\n",
      " auc:0.9277870068167865 \n",
      " apur:0.9273218976262296 \n",
      " f1:0.8638867033831629 \n",
      " precision:0.8546964193046186 \n",
      " recall:0.8732767762460233 \n",
      ", 'Test':  best_epoch_indx:26\n",
      " auc:0.9257843001561553 \n",
      " apur:0.9252716847459646 \n",
      " f1:0.8640311628151813 \n",
      " precision:0.8578446744015888 \n",
      " recall:0.8703075291622482 \n",
      "}\n",
      "=====Epoch 27\n",
      "Training...\n"
     ]
    },
    {
     "name": "stderr",
     "output_type": "stream",
     "text": [
      "Iteration: 100%|██████████| 60/60 [00:02<00:00, 22.69it/s]s]\n",
      "Iteration: 100%|██████████| 24/24 [00:01<00:00, 22.00it/s]s]\n",
      "Iteration:  13%|█▎        | 28/214 [00:02<00:15, 11.99it/s]]"
     ]
    },
    {
     "name": "stdout",
     "output_type": "stream",
     "text": [
      "{'Train':  best_epoch_indx:26\n",
      " auc:0.9645335688638113 \n",
      " apur:0.965964987667032 \n",
      " f1:0.9081559818788328 \n",
      " precision:0.8982249884739512 \n",
      " recall:0.9183090293121225 \n",
      ", 'Validation':  best_epoch_indx:26\n",
      " auc:0.9308495819739506 \n",
      " apur:0.9285955426229716 \n",
      " f1:0.8662737393582187 \n",
      " precision:0.8560704115972042 \n",
      " recall:0.8767232237539767 \n",
      ", 'Test':  best_epoch_indx:26\n",
      " auc:0.9232054181312769 \n",
      " apur:0.9219051113413278 \n",
      " f1:0.8603722006098202 \n",
      " precision:0.8530178254977587 \n",
      " recall:0.8678544914625093 \n",
      "}\n",
      "=====Epoch 27\n",
      "Training...\n"
     ]
    },
    {
     "name": "stderr",
     "output_type": "stream",
     "text": [
      "Iteration: 100%|██████████| 214/214 [00:17<00:00, 12.21it/s]\n",
      "Iteration:  92%|█████████▏| 196/214 [00:16<00:01, 11.93it/s]"
     ]
    },
    {
     "name": "stdout",
     "output_type": "stream",
     "text": [
      "Evaluating...\n"
     ]
    },
    {
     "name": "stderr",
     "output_type": "stream",
     "text": [
      "Iteration: 100%|██████████| 214/214 [00:17<00:00, 11.98it/s]\n",
      "Iteration:  57%|█████▋    | 122/214 [00:10<00:07, 11.90it/s]"
     ]
    },
    {
     "name": "stdout",
     "output_type": "stream",
     "text": [
      "Evaluating...\n"
     ]
    },
    {
     "name": "stderr",
     "output_type": "stream",
     "text": [
      "Iteration: 100%|██████████| 214/214 [00:17<00:00, 12.13it/s]\n",
      "Iteration:  64%|██████▍   | 137/214 [00:06<00:03, 22.03it/s]"
     ]
    },
    {
     "name": "stdout",
     "output_type": "stream",
     "text": [
      "Evaluating...\n"
     ]
    },
    {
     "name": "stderr",
     "output_type": "stream",
     "text": [
      "Iteration: 100%|██████████| 214/214 [00:17<00:00, 12.07it/s]\n",
      "Iteration:  90%|████████▉ | 192/214 [00:15<00:01, 12.53it/s]"
     ]
    },
    {
     "name": "stdout",
     "output_type": "stream",
     "text": [
      "Evaluating...\n"
     ]
    },
    {
     "name": "stderr",
     "output_type": "stream",
     "text": [
      "Iteration: 100%|██████████| 214/214 [00:09<00:00, 21.76it/s]\n",
      "Iteration: 100%|██████████| 214/214 [00:17<00:00, 12.34it/s]\n",
      "Iteration:  20%|██        | 12/60 [00:00<00:02, 21.87it/s]]]"
     ]
    },
    {
     "name": "stdout",
     "output_type": "stream",
     "text": [
      "Evaluating...\n"
     ]
    },
    {
     "name": "stderr",
     "output_type": "stream",
     "text": [
      "Iteration: 100%|██████████| 214/214 [00:09<00:00, 21.85it/s]\n",
      "Iteration: 100%|██████████| 60/60 [00:02<00:00, 22.23it/s]]]\n",
      "Iteration: 100%|██████████| 24/24 [00:01<00:00, 22.09it/s]]]\n",
      "Iteration: 100%|██████████| 60/60 [00:02<00:00, 22.23it/s]s]\n",
      "Iteration:  39%|███▉      | 84/214 [00:03<00:05, 22.02it/s]"
     ]
    },
    {
     "name": "stdout",
     "output_type": "stream",
     "text": [
      "{'Train':  best_epoch_indx:25\n",
      " auc:0.9555867512412597 \n",
      " apur:0.957743943087091 \n",
      " f1:0.8954891028890015 \n",
      " precision:0.8806322984904585 \n",
      " recall:0.910855796140816 \n",
      ", 'Validation':  best_epoch_indx:25\n",
      " auc:0.9253888352605701 \n",
      " apur:0.927089097695927 \n",
      " f1:0.8620824125828676 \n",
      " precision:0.8457026268808977 \n",
      " recall:0.8791092258748674 \n",
      ", 'Test':  best_epoch_indx:25\n",
      " auc:0.9246787245497831 \n",
      " apur:0.9230460567461611 \n",
      " f1:0.8622760745808743 \n",
      " precision:0.8494546202922412 \n",
      " recall:0.8754905080072118 \n",
      "}\n",
      "=====Epoch 26\n",
      "Training...\n"
     ]
    },
    {
     "name": "stderr",
     "output_type": "stream",
     "text": [
      "Iteration: 100%|██████████| 214/214 [00:09<00:00, 21.93it/s]\n",
      "Iteration: 100%|██████████| 214/214 [00:10<00:00, 20.98it/s]\n",
      "Iteration: 100%|██████████| 214/214 [00:09<00:00, 22.03it/s]\n",
      "Iteration: 100%|██████████| 60/60 [00:03<00:00, 19.66it/s]]\n",
      "Iteration: 100%|██████████| 60/60 [00:03<00:00, 19.47it/s]]\n",
      "Iteration: 100%|██████████| 60/60 [00:03<00:00, 19.57it/s]s]\n",
      "Iteration: 100%|██████████| 214/214 [00:17<00:00, 12.19it/s]\n",
      "Iteration:   0%|          | 0/214 [00:00<?, ?it/s]"
     ]
    },
    {
     "name": "stdout",
     "output_type": "stream",
     "text": [
      "Evaluating...\n"
     ]
    },
    {
     "name": "stderr",
     "output_type": "stream",
     "text": [
      "Iteration: 100%|██████████| 24/24 [00:01<00:00, 21.20it/s]]\n",
      "Iteration:   8%|▊         | 18/214 [00:00<00:08, 21.83it/s]"
     ]
    },
    {
     "name": "stdout",
     "output_type": "stream",
     "text": [
      "{'Train':  best_epoch_indx:26\n",
      " auc:0.9651796003102491 \n",
      " apur:0.9663419037807313 \n",
      " f1:0.9068399153222862 \n",
      " precision:0.8989001447178003 \n",
      " recall:0.9149211960524377 \n",
      ", 'Validation':  best_epoch_indx:26\n",
      " auc:0.9264131291003465 \n",
      " apur:0.9247666924188382 \n",
      " f1:0.8637795275590552 \n",
      " precision:0.8552494802494802 \n",
      " recall:0.8724814422057264 \n",
      ", 'Test':  best_epoch_indx:26\n",
      " auc:0.9279060744085361 \n",
      " apur:0.9270667758943222 \n",
      " f1:0.8663517060367454 \n",
      " precision:0.8577070990541523 \n",
      " recall:0.8751723406511825 \n",
      "}\n",
      "=====Epoch 27\n",
      "Training...\n"
     ]
    },
    {
     "name": "stderr",
     "output_type": "stream",
     "text": [
      "Iteration: 100%|██████████| 24/24 [00:01<00:00, 19.38it/s]]]\n",
      "Iteration:  37%|███▋      | 80/214 [00:06<00:10, 12.30it/s]]"
     ]
    },
    {
     "name": "stdout",
     "output_type": "stream",
     "text": [
      "{'Train':  best_epoch_indx:27\n",
      " auc:0.9712424663187282 \n",
      " apur:0.9726016953635429 \n",
      " f1:0.9176398637038763 \n",
      " precision:0.9072820985343661 \n",
      " recall:0.9282368537339815 \n",
      ", 'Validation':  best_epoch_indx:27\n",
      " auc:0.9297802968993389 \n",
      " apur:0.9249381285835949 \n",
      " f1:0.8718149745197962 \n",
      " precision:0.8595722751868076 \n",
      " recall:0.8844114528101803 \n",
      ", 'Test':  best_epoch_indx:27\n",
      " auc:0.9332360561097653 \n",
      " apur:0.932901608265598 \n",
      " f1:0.8707290190521177 \n",
      " precision:0.8619077306733167 \n",
      " recall:0.8797327394209354 \n",
      "}\n",
      "=====Epoch 28\n",
      "Training...\n"
     ]
    },
    {
     "name": "stderr",
     "output_type": "stream",
     "text": [
      "Iteration: 100%|██████████| 24/24 [00:01<00:00, 21.41it/s]s]\n",
      "Iteration:   0%|          | 0/214 [00:00<?, ?it/s]22.13it/s]"
     ]
    },
    {
     "name": "stdout",
     "output_type": "stream",
     "text": [
      "{'Train':  best_epoch_indx:27\n",
      " auc:0.9742747771932991 \n",
      " apur:0.9752123068340262 \n",
      " f1:0.9220945827745058 \n",
      " precision:0.9126745930970795 \n",
      " recall:0.9317110534998821 \n",
      ", 'Validation':  best_epoch_indx:27\n",
      " auc:0.9355055603616677 \n",
      " apur:0.9333695166182654 \n",
      " f1:0.8772893772893774 \n",
      " precision:0.8659607438016529 \n",
      " recall:0.8889183457051962 \n",
      ", 'Test':  best_epoch_indx:27\n",
      " auc:0.9354484539685636 \n",
      " apur:0.9341899919853532 \n",
      " f1:0.8762054507337526 \n",
      " precision:0.8662176165803109 \n",
      " recall:0.8864262990455991 \n",
      "}\n",
      "=====Epoch 28\n",
      "Training...\n"
     ]
    },
    {
     "name": "stderr",
     "output_type": "stream",
     "text": [
      "Iteration: 100%|██████████| 214/214 [00:09<00:00, 21.71it/s]\n",
      "Iteration: 100%|██████████| 24/24 [00:01<00:00, 21.36it/s]]]\n",
      "Iteration:  61%|██████    | 130/214 [00:10<00:06, 12.13it/s]"
     ]
    },
    {
     "name": "stdout",
     "output_type": "stream",
     "text": [
      "{'Train':  best_epoch_indx:27\n",
      " auc:0.969140174260093 \n",
      " apur:0.970864117586159 \n",
      " f1:0.9153288451579493 \n",
      " precision:0.8944083663658599 \n",
      " recall:0.9372514361467079 \n",
      ", 'Validation':  best_epoch_indx:27\n",
      " auc:0.9304835079178231 \n",
      " apur:0.9305317481543226 \n",
      " f1:0.868427802000513 \n",
      " precision:0.8410332836562344 \n",
      " recall:0.8976670201484623 \n",
      ", 'Test':  best_epoch_indx:27\n",
      " auc:0.9274322232489504 \n",
      " apur:0.9264325112886924 \n",
      " f1:0.8688043646096042 \n",
      " precision:0.844 \n",
      " recall:0.8951108282956836 \n",
      "}\n",
      "=====Epoch 28\n",
      "Training...\n"
     ]
    },
    {
     "name": "stderr",
     "output_type": "stream",
     "text": [
      "Iteration: 100%|██████████| 60/60 [00:02<00:00, 21.96it/s]]]\n",
      "Iteration: 100%|██████████| 24/24 [00:01<00:00, 21.14it/s]]]\n",
      "Iteration:  80%|████████  | 172/214 [00:14<00:03, 12.47it/s]"
     ]
    },
    {
     "name": "stdout",
     "output_type": "stream",
     "text": [
      "{'Train':  best_epoch_indx:26\n",
      " auc:0.9611864867897644 \n",
      " apur:0.9623724081105784 \n",
      " f1:0.9035001826817683 \n",
      " precision:0.8964907192575406 \n",
      " recall:0.9106201207836205 \n",
      ", 'Validation':  best_epoch_indx:26\n",
      " auc:0.9274851493249174 \n",
      " apur:0.9279694392281119 \n",
      " f1:0.8618551260060693 \n",
      " precision:0.8578933543472551 \n",
      " recall:0.8658536585365854 \n",
      ", 'Test':  best_epoch_indx:26\n",
      " auc:0.9263200266306584 \n",
      " apur:0.9241960077969671 \n",
      " f1:0.8637607917456307 \n",
      " precision:0.8575310964774746 \n",
      " recall:0.8700816629547142 \n",
      "}\n",
      "=====Epoch 27\n",
      "Training...\n"
     ]
    },
    {
     "name": "stderr",
     "output_type": "stream",
     "text": [
      "Iteration: 100%|██████████| 214/214 [00:17<00:00, 12.21it/s]\n",
      "Iteration:  21%|██▏       | 46/214 [00:03<00:13, 12.50it/s]]"
     ]
    },
    {
     "name": "stdout",
     "output_type": "stream",
     "text": [
      "Evaluating...\n"
     ]
    },
    {
     "name": "stderr",
     "output_type": "stream",
     "text": [
      "Iteration: 100%|██████████| 214/214 [00:17<00:00, 12.10it/s]\n",
      "Iteration:  79%|███████▊  | 168/214 [00:13<00:03, 12.63it/s]"
     ]
    },
    {
     "name": "stdout",
     "output_type": "stream",
     "text": [
      "Evaluating...\n"
     ]
    },
    {
     "name": "stderr",
     "output_type": "stream",
     "text": [
      "Iteration: 100%|██████████| 214/214 [00:17<00:00, 12.19it/s]\n",
      "Iteration:  89%|████████▉ | 190/214 [00:15<00:01, 12.46it/s]"
     ]
    },
    {
     "name": "stdout",
     "output_type": "stream",
     "text": [
      "Evaluating...\n"
     ]
    },
    {
     "name": "stderr",
     "output_type": "stream",
     "text": [
      "Iteration: 100%|██████████| 214/214 [00:09<00:00, 22.03it/s]\n",
      "Iteration: 100%|██████████| 214/214 [00:17<00:00, 12.32it/s]\n",
      "Iteration:   1%|▏         | 3/214 [00:00<00:09, 21.65it/s]s]"
     ]
    },
    {
     "name": "stdout",
     "output_type": "stream",
     "text": [
      "Evaluating...\n"
     ]
    },
    {
     "name": "stderr",
     "output_type": "stream",
     "text": [
      "Iteration: 100%|██████████| 214/214 [00:17<00:00, 12.36it/s]\n",
      "Iteration: 100%|██████████| 60/60 [00:03<00:00, 17.86it/s]]]\n",
      "Iteration:  56%|█████▌    | 120/214 [00:05<00:04, 22.15it/s]"
     ]
    },
    {
     "name": "stdout",
     "output_type": "stream",
     "text": [
      "Evaluating...\n"
     ]
    },
    {
     "name": "stderr",
     "output_type": "stream",
     "text": [
      "Iteration: 100%|██████████| 214/214 [00:10<00:00, 21.12it/s]\n",
      "Iteration: 100%|██████████| 214/214 [00:09<00:00, 22.20it/s]\n",
      "Iteration: 100%|██████████| 60/60 [00:02<00:00, 22.37it/s]s]\n",
      "Iteration: 100%|██████████| 214/214 [00:09<00:00, 21.73it/s]\n",
      "Iteration: 100%|██████████| 60/60 [00:02<00:00, 22.24it/s]s]\n",
      "Iteration: 100%|██████████| 214/214 [00:09<00:00, 22.11it/s]\n",
      "Iteration: 100%|██████████| 60/60 [00:02<00:00, 22.04it/s]\n",
      "Iteration: 100%|██████████| 60/60 [00:03<00:00, 19.60it/s]\n",
      "Iteration: 100%|██████████| 24/24 [00:01<00:00, 21.27it/s]\n",
      "Iteration:   0%|          | 0/214 [00:00<?, ?it/s]"
     ]
    },
    {
     "name": "stdout",
     "output_type": "stream",
     "text": [
      "{'Train':  best_epoch_indx:27\n",
      " auc:0.9720916784109355 \n",
      " apur:0.9730050932597878 \n",
      " f1:0.9187225976356191 \n",
      " precision:0.902798316460016 \n",
      " recall:0.935218736190897 \n",
      ", 'Validation':  best_epoch_indx:27\n",
      " auc:0.932193967638657 \n",
      " apur:0.9299434015188672 \n",
      " f1:0.8777128005198181 \n",
      " precision:0.8608208004078511 \n",
      " recall:0.8952810180275715 \n",
      ", 'Test':  best_epoch_indx:27\n",
      " auc:0.9337200880821207 \n",
      " apur:0.9321133768551534 \n",
      " f1:0.8771856786011657 \n",
      " precision:0.8611423316644529 \n",
      " recall:0.8938381588715665 \n",
      "}\n",
      "=====Epoch 28\n",
      "Training...\n"
     ]
    },
    {
     "name": "stderr",
     "output_type": "stream",
     "text": [
      "Iteration: 100%|██████████| 24/24 [00:01<00:00, 18.92it/s]]\n",
      "Iteration:  17%|█▋        | 4/24 [00:00<00:01, 17.01it/s]s]"
     ]
    },
    {
     "name": "stdout",
     "output_type": "stream",
     "text": [
      "{'Train':  best_epoch_indx:28\n",
      " auc:0.9772820496668978 \n",
      " apur:0.9783031051833347 \n",
      " f1:0.928911994485294 \n",
      " precision:0.9062403676408777 \n",
      " recall:0.9527470908823096 \n",
      ", 'Validation':  best_epoch_indx:28\n",
      " auc:0.9363713740632309 \n",
      " apur:0.9321003372595268 \n",
      " f1:0.8785456420835482 \n",
      " precision:0.8551706827309237 \n",
      " recall:0.9032343584305408 \n",
      ", 'Test':  best_epoch_indx:28\n",
      " auc:0.9367647930723991 \n",
      " apur:0.935483221512599 \n",
      " f1:0.8775878981878258 \n",
      " precision:0.8550301810865191 \n",
      " recall:0.9013681196309259 \n",
      "}\n",
      "=====Epoch 29\n",
      "Training...\n"
     ]
    },
    {
     "name": "stderr",
     "output_type": "stream",
     "text": [
      "Iteration: 100%|██████████| 24/24 [00:01<00:00, 18.83it/s]]\n",
      "Iteration:   0%|          | 0/214 [00:00<?, ?it/s]2.21it/s]"
     ]
    },
    {
     "name": "stdout",
     "output_type": "stream",
     "text": [
      "{'Train':  best_epoch_indx:28\n",
      " auc:0.9779255098269416 \n",
      " apur:0.9790369253346384 \n",
      " f1:0.9280933284724754 \n",
      " precision:0.9188877017700904 \n",
      " recall:0.9374852698562338 \n",
      ", 'Validation':  best_epoch_indx:28\n",
      " auc:0.9386889577952884 \n",
      " apur:0.9370079294923288 \n",
      " f1:0.8786172580856356 \n",
      " precision:0.8680465717981889 \n",
      " recall:0.8894485683987274 \n",
      ", 'Test':  best_epoch_indx:28\n",
      " auc:0.9386635292672905 \n",
      " apur:0.9371552566643484 \n",
      " f1:0.8795376937220909 \n",
      " precision:0.8715252472670484 \n",
      " recall:0.8876988335100743 \n",
      "}\n",
      "=====Epoch 29\n",
      "Training...\n"
     ]
    },
    {
     "name": "stderr",
     "output_type": "stream",
     "text": [
      "Iteration: 100%|██████████| 24/24 [00:01<00:00, 20.40it/s]s]\n",
      "Iteration:   0%|          | 0/214 [00:00<?, ?it/s]2.21it/s]"
     ]
    },
    {
     "name": "stdout",
     "output_type": "stream",
     "text": [
      "{'Train':  best_epoch_indx:28\n",
      " auc:0.9763008611217233 \n",
      " apur:0.9773744015711431 \n",
      " f1:0.9269689737470167 \n",
      " precision:0.9105711849957374 \n",
      " recall:0.9439681838267786 \n",
      ", 'Validation':  best_epoch_indx:28\n",
      " auc:0.9397086137720905 \n",
      " apur:0.9391848871029976 \n",
      " f1:0.8786664943791187 \n",
      " precision:0.8570708343836653 \n",
      " recall:0.9013785790031813 \n",
      ", 'Test':  best_epoch_indx:28\n",
      " auc:0.935685659532512 \n",
      " apur:0.934708793808906 \n",
      " f1:0.8752664690895856 \n",
      " precision:0.8585271317829457 \n",
      " recall:0.8926715452327925 \n",
      "}\n",
      "=====Epoch 29\n",
      "Training...\n"
     ]
    },
    {
     "name": "stderr",
     "output_type": "stream",
     "text": [
      "Iteration: 100%|██████████| 24/24 [00:01<00:00, 21.41it/s]s]\n",
      "Iteration:  37%|███▋      | 80/214 [00:06<00:11, 12.14it/s]]"
     ]
    },
    {
     "name": "stdout",
     "output_type": "stream",
     "text": [
      "{'Train':  best_epoch_indx:27\n",
      " auc:0.9678252850647194 \n",
      " apur:0.9689309384662916 \n",
      " f1:0.9140815615196933 \n",
      " precision:0.9014350777691845 \n",
      " recall:0.9270879363676535 \n",
      ", 'Validation':  best_epoch_indx:27\n",
      " auc:0.9359024345847264 \n",
      " apur:0.9368682378919888 \n",
      " f1:0.8737813596776289 \n",
      " precision:0.8571792909971946 \n",
      " recall:0.8910392364793213 \n",
      ", 'Test':  best_epoch_indx:27\n",
      " auc:0.9333571261114926 \n",
      " apur:0.9304896109128261 \n",
      " f1:0.8737165789336531 \n",
      " precision:0.8589874974379996 \n",
      " recall:0.8889595927457843 \n",
      "}\n",
      "=====Epoch 28\n",
      "Training...\n"
     ]
    },
    {
     "name": "stderr",
     "output_type": "stream",
     "text": [
      "Iteration: 100%|██████████| 214/214 [00:17<00:00, 12.14it/s]\n",
      "Iteration:  62%|██████▏   | 132/214 [00:10<00:06, 12.14it/s]"
     ]
    },
    {
     "name": "stdout",
     "output_type": "stream",
     "text": [
      "Evaluating...\n"
     ]
    },
    {
     "name": "stderr",
     "output_type": "stream",
     "text": [
      "Iteration: 100%|██████████| 214/214 [00:17<00:00, 12.19it/s]\n",
      "Iteration:  71%|███████▏  | 153/214 [00:06<00:02, 22.15it/s]"
     ]
    },
    {
     "name": "stdout",
     "output_type": "stream",
     "text": [
      "Evaluating...\n"
     ]
    },
    {
     "name": "stderr",
     "output_type": "stream",
     "text": [
      "Iteration: 100%|██████████| 214/214 [00:17<00:00, 12.21it/s]\n",
      "Iteration:  89%|████████▉ | 190/214 [00:15<00:01, 12.57it/s]"
     ]
    },
    {
     "name": "stdout",
     "output_type": "stream",
     "text": [
      "Evaluating...\n"
     ]
    },
    {
     "name": "stderr",
     "output_type": "stream",
     "text": [
      "Iteration: 100%|██████████| 214/214 [00:09<00:00, 21.98it/s]\n",
      "Iteration: 100%|██████████| 214/214 [00:17<00:00, 12.27it/s]\n"
     ]
    },
    {
     "name": "stdout",
     "output_type": "stream",
     "text": [
      "Evaluating...\n"
     ]
    },
    {
     "name": "stderr",
     "output_type": "stream",
     "text": [
      "Iteration: 100%|██████████| 60/60 [00:02<00:00, 22.40it/s]s]\n",
      "Iteration: 100%|██████████| 214/214 [00:17<00:00, 12.30it/s]\n",
      "Iteration:  55%|█████▍    | 117/214 [00:05<00:04, 21.86it/s]"
     ]
    },
    {
     "name": "stdout",
     "output_type": "stream",
     "text": [
      "Evaluating...\n"
     ]
    },
    {
     "name": "stderr",
     "output_type": "stream",
     "text": [
      "Iteration: 100%|██████████| 214/214 [00:09<00:00, 21.51it/s]\n",
      "Iteration: 100%|██████████| 214/214 [00:09<00:00, 21.97it/s]\n",
      "Iteration: 100%|██████████| 214/214 [00:10<00:00, 21.33it/s]\n",
      "Iteration: 100%|██████████| 60/60 [00:03<00:00, 19.63it/s]s]\n",
      "Iteration: 100%|██████████| 60/60 [00:03<00:00, 19.23it/s]s]\n",
      "Iteration: 100%|██████████| 214/214 [00:09<00:00, 22.15it/s]\n",
      "Iteration: 100%|██████████| 60/60 [00:03<00:00, 19.57it/s]\n",
      "Iteration: 100%|██████████| 60/60 [00:02<00:00, 22.10it/s]\n",
      "Iteration: 100%|██████████| 24/24 [00:01<00:00, 21.19it/s]\n",
      "Iteration:   0%|          | 0/214 [00:00<?, ?it/s]"
     ]
    },
    {
     "name": "stdout",
     "output_type": "stream",
     "text": [
      "{'Train':  best_epoch_indx:28\n",
      " auc:0.9761492675725943 \n",
      " apur:0.9772133629665772 \n",
      " f1:0.9256195952894823 \n",
      " precision:0.9104924199247691 \n",
      " recall:0.9412579172190307 \n",
      ", 'Validation':  best_epoch_indx:28\n",
      " auc:0.9340409866581763 \n",
      " apur:0.9321956050435367 \n",
      " f1:0.8746583365872705 \n",
      " precision:0.8591153157760164 \n",
      " recall:0.8907741251325557 \n",
      ", 'Test':  best_epoch_indx:28\n",
      " auc:0.9362568257554192 \n",
      " apur:0.9352188031910749 \n",
      " f1:0.876379920849823 \n",
      " precision:0.8608695652173913 \n",
      " recall:0.8924594336621062 \n",
      "}\n",
      "=====Epoch 29\n",
      "Training...\n"
     ]
    },
    {
     "name": "stderr",
     "output_type": "stream",
     "text": [
      "Iteration: 100%|██████████| 24/24 [00:01<00:00, 20.99it/s]]\n",
      "Iteration:  42%|████▏     | 10/24 [00:00<00:00, 20.12it/s]]"
     ]
    },
    {
     "name": "stdout",
     "output_type": "stream",
     "text": [
      "{'Train':  best_epoch_indx:29\n",
      " auc:0.9808312362646189 \n",
      " apur:0.9816661105064338 \n",
      " f1:0.9352233776796608 \n",
      " precision:0.9223364941129286 \n",
      " recall:0.9484754750331419 \n",
      ", 'Validation':  best_epoch_indx:29\n",
      " auc:0.939456385378031 \n",
      " apur:0.9347048270628686 \n",
      " f1:0.8812540822991509 \n",
      " precision:0.8686582539273757 \n",
      " recall:0.894220572640509 \n",
      ", 'Test':  best_epoch_indx:29\n",
      " auc:0.9401338373514315 \n",
      " apur:0.9385729032165364 \n",
      " f1:0.8828141333890864 \n",
      " precision:0.8703493764815006 \n",
      " recall:0.895641107222399 \n",
      "}\n",
      "=====Epoch 30\n",
      "Training...\n"
     ]
    },
    {
     "name": "stderr",
     "output_type": "stream",
     "text": [
      "Iteration: 100%|██████████| 24/24 [00:01<00:00, 20.73it/s]s]\n",
      "Iteration:   5%|▍         | 10/214 [00:00<00:16, 12.16it/s]]"
     ]
    },
    {
     "name": "stdout",
     "output_type": "stream",
     "text": [
      "{'Train':  best_epoch_indx:29\n",
      " auc:0.981536788483887 \n",
      " apur:0.9825021496010145 \n",
      " f1:0.9360425314980702 \n",
      " precision:0.925700786494195 \n",
      " recall:0.9466179589912798 \n",
      ", 'Validation':  best_epoch_indx:29\n",
      " auc:0.9427298445610314 \n",
      " apur:0.9408800112809677 \n",
      " f1:0.8839402672255697 \n",
      " precision:0.8736406007250129 \n",
      " recall:0.8944856839872747 \n",
      ", 'Test':  best_epoch_indx:29\n",
      " auc:0.9427557777400856 \n",
      " apur:0.9415519852585004 \n",
      " f1:0.8851652091951616 \n",
      " precision:0.8743146788041791 \n",
      " recall:0.8962884411452811 \n",
      "}\n",
      "=====Epoch 30\n",
      "Training...\n"
     ]
    },
    {
     "name": "stderr",
     "output_type": "stream",
     "text": [
      "Iteration: 100%|██████████| 24/24 [00:01<00:00, 20.91it/s]]]\n",
      "Iteration:  13%|█▎        | 28/214 [00:02<00:15, 11.77it/s]]"
     ]
    },
    {
     "name": "stdout",
     "output_type": "stream",
     "text": [
      "{'Train':  best_epoch_indx:29\n",
      " auc:0.9797193882108461 \n",
      " apur:0.9808423866611986 \n",
      " f1:0.9326017216101266 \n",
      " precision:0.9192708333333334 \n",
      " recall:0.9463249373987332 \n",
      ", 'Validation':  best_epoch_indx:29\n",
      " auc:0.9425914221891855 \n",
      " apur:0.9417683649342024 \n",
      " f1:0.8836907082521117 \n",
      " precision:0.8666836604639306 \n",
      " recall:0.9013785790031813 \n",
      ", 'Test':  best_epoch_indx:29\n",
      " auc:0.938993331425344 \n",
      " apur:0.9374258013112918 \n",
      " f1:0.8772149913752548 \n",
      " precision:0.8648732220160792 \n",
      " recall:0.8899140948138721 \n",
      "}\n",
      "=====Epoch 30\n",
      "Training...\n"
     ]
    },
    {
     "name": "stderr",
     "output_type": "stream",
     "text": [
      "Iteration: 100%|██████████| 24/24 [00:01<00:00, 21.81it/s]]]\n",
      "Iteration:  30%|██▉       | 64/214 [00:05<00:12, 11.90it/s]]"
     ]
    },
    {
     "name": "stdout",
     "output_type": "stream",
     "text": [
      "{'Train':  best_epoch_indx:28\n",
      " auc:0.973207857487204 \n",
      " apur:0.9741331957581205 \n",
      " f1:0.9205611599658834 \n",
      " precision:0.9190474792260035 \n",
      " recall:0.92207983502725 \n",
      ", 'Validation':  best_epoch_indx:28\n",
      " auc:0.9383663686595259 \n",
      " apur:0.9389282018278966 \n",
      " f1:0.8741054863503843 \n",
      " precision:0.8738738738738738 \n",
      " recall:0.8743372216330859 \n",
      ", 'Test':  best_epoch_indx:28\n",
      " auc:0.9363362978208833 \n",
      " apur:0.9328973189027359 \n",
      " f1:0.8727523471065612 \n",
      " precision:0.8729838709677419 \n",
      " recall:0.8725209460176052 \n",
      "}\n",
      "=====Epoch 29\n",
      "Training...\n"
     ]
    },
    {
     "name": "stderr",
     "output_type": "stream",
     "text": [
      "Iteration: 100%|██████████| 214/214 [00:17<00:00, 12.17it/s]\n",
      "Iteration:  39%|███▉      | 84/214 [00:06<00:10, 12.67it/s]]"
     ]
    },
    {
     "name": "stdout",
     "output_type": "stream",
     "text": [
      "Evaluating...\n"
     ]
    },
    {
     "name": "stderr",
     "output_type": "stream",
     "text": [
      "Iteration: 100%|██████████| 214/214 [00:17<00:00, 12.21it/s]\n",
      "Iteration:  70%|███████   | 150/214 [00:12<00:05, 12.07it/s]"
     ]
    },
    {
     "name": "stdout",
     "output_type": "stream",
     "text": [
      "Evaluating...\n"
     ]
    },
    {
     "name": "stderr",
     "output_type": "stream",
     "text": [
      "Iteration: 100%|██████████| 214/214 [00:17<00:00, 12.27it/s]\n",
      "Iteration:   1%|▏         | 3/214 [00:00<00:09, 21.56it/s]s]"
     ]
    },
    {
     "name": "stdout",
     "output_type": "stream",
     "text": [
      "Evaluating...\n"
     ]
    },
    {
     "name": "stderr",
     "output_type": "stream",
     "text": [
      "Iteration: 100%|██████████| 214/214 [00:09<00:00, 21.50it/s]\n",
      "Iteration: 100%|██████████| 214/214 [00:17<00:00, 12.39it/s]\n",
      "Iteration:  30%|██▉       | 64/214 [00:03<00:07, 19.76it/s]]"
     ]
    },
    {
     "name": "stdout",
     "output_type": "stream",
     "text": [
      "Evaluating...\n"
     ]
    },
    {
     "name": "stderr",
     "output_type": "stream",
     "text": [
      "Iteration: 100%|██████████| 214/214 [00:17<00:00, 12.42it/s]\n",
      "Iteration:  45%|████▍     | 96/214 [00:04<00:05, 21.87it/s]"
     ]
    },
    {
     "name": "stdout",
     "output_type": "stream",
     "text": [
      "Evaluating...\n"
     ]
    },
    {
     "name": "stderr",
     "output_type": "stream",
     "text": [
      "Iteration: 100%|██████████| 60/60 [00:03<00:00, 19.82it/s]s]\n",
      "Iteration: 100%|██████████| 214/214 [00:10<00:00, 21.35it/s]\n",
      "Iteration: 100%|██████████| 214/214 [00:09<00:00, 21.42it/s]\n",
      "Iteration: 100%|██████████| 214/214 [00:09<00:00, 21.87it/s]\n",
      "Iteration: 100%|██████████| 60/60 [00:02<00:00, 22.26it/s]s]\n",
      "Iteration: 100%|██████████| 60/60 [00:02<00:00, 22.28it/s]s]\n",
      "Iteration: 100%|██████████| 214/214 [00:09<00:00, 22.18it/s]\n",
      "Iteration: 100%|██████████| 24/24 [00:01<00:00, 22.20it/s]\n",
      "Iteration:  55%|█████▌    | 33/60 [00:01<00:01, 22.60it/s]"
     ]
    },
    {
     "name": "stdout",
     "output_type": "stream",
     "text": [
      "{'Train':  best_epoch_indx:30\n",
      " auc:0.9804749250978715 \n",
      " apur:0.9813970437266448 \n",
      " f1:0.934102404312981 \n",
      " precision:0.9193005476951164 \n",
      " recall:0.9493887170422742 \n",
      ", 'Validation':  best_epoch_indx:30\n",
      " auc:0.9380502408200441 \n",
      " apur:0.934894385758702 \n",
      " f1:0.8794381584081155 \n",
      " precision:0.863160582078121 \n",
      " recall:0.8963414634146342 \n",
      ", 'Test':  best_epoch_indx:30\n",
      " auc:0.9388147566265866 \n",
      " apur:0.9373164576424908 \n",
      " f1:0.8801419920651492 \n",
      " precision:0.8666598128919503 \n",
      " recall:0.8940502704422526 \n",
      "}\n",
      "=====Epoch 31\n",
      "Training...\n"
     ]
    },
    {
     "name": "stderr",
     "output_type": "stream",
     "text": [
      "Iteration: 100%|██████████| 24/24 [00:01<00:00, 22.21it/s]\n",
      "Iteration:   5%|▌         | 3/60 [00:00<00:02, 21.77it/s]]"
     ]
    },
    {
     "name": "stdout",
     "output_type": "stream",
     "text": [
      "{'Train':  best_epoch_indx:30\n",
      " auc:0.981267381765426 \n",
      " apur:0.9822526714378581 \n",
      " f1:0.9353133215843759 \n",
      " precision:0.9175783685732102 \n",
      " recall:0.9537473485741221 \n",
      ", 'Validation':  best_epoch_indx:30\n",
      " auc:0.9424607295889633 \n",
      " apur:0.9407587471815473 \n",
      " f1:0.8883708883708884 \n",
      " precision:0.8683544303797468 \n",
      " recall:0.9093319194061505 \n",
      ", 'Test':  best_epoch_indx:30\n",
      " auc:0.9404493692830113 \n",
      " apur:0.9391201271034642 \n",
      " f1:0.8849043892833082 \n",
      " precision:0.8653086044390392 \n",
      " recall:0.905408271474019 \n",
      "}\n",
      "=====Epoch 31\n",
      "Training...\n"
     ]
    },
    {
     "name": "stderr",
     "output_type": "stream",
     "text": [
      "Iteration: 100%|██████████| 60/60 [00:02<00:00, 22.64it/s]]\n",
      "Iteration: 100%|██████████| 24/24 [00:01<00:00, 22.53it/s]]\n",
      "Iteration:  11%|█         | 24/214 [00:01<00:15, 12.34it/s]"
     ]
    },
    {
     "name": "stdout",
     "output_type": "stream",
     "text": [
      "{'Train':  best_epoch_indx:30\n",
      " auc:0.9788363393169511 \n",
      " apur:0.9798962605182657 \n",
      " f1:0.9317693228873595 \n",
      " precision:0.9130754439543038 \n",
      " recall:0.9512446604801885 \n",
      ", 'Validation':  best_epoch_indx:30\n",
      " auc:0.9393067845672215 \n",
      " apur:0.9382414094249463 \n",
      " f1:0.8814519243145835 \n",
      " precision:0.856642481861396 \n",
      " recall:0.9077412513255567 \n",
      ", 'Test':  best_epoch_indx:30\n",
      " auc:0.9358941492220123 \n",
      " apur:0.9335647304700802 \n",
      " f1:0.8761766082479588 \n",
      " precision:0.8595918367346939 \n",
      " recall:0.8934139357301941 \n",
      "}\n",
      "=====Epoch 31\n",
      "Training...\n"
     ]
    },
    {
     "name": "stderr",
     "output_type": "stream",
     "text": [
      "Iteration: 100%|██████████| 60/60 [00:03<00:00, 17.94it/s]]\n",
      "Iteration: 100%|██████████| 24/24 [00:01<00:00, 19.96it/s]s]\n",
      "Iteration:  50%|█████     | 108/214 [00:08<00:08, 11.85it/s]"
     ]
    },
    {
     "name": "stdout",
     "output_type": "stream",
     "text": [
      "{'Train':  best_epoch_indx:29\n",
      " auc:0.9799984612460375 \n",
      " apur:0.9808869465833321 \n",
      " f1:0.9317570109686568 \n",
      " precision:0.9156451750519041 \n",
      " recall:0.9484460156134924 \n",
      ", 'Validation':  best_epoch_indx:29\n",
      " auc:0.9381409764469498 \n",
      " apur:0.9365652340049653 \n",
      " f1:0.8787799791449425 \n",
      " precision:0.8643589743589744 \n",
      " recall:0.8936903499469777 \n",
      ", 'Test':  best_epoch_indx:29\n",
      " auc:0.9397008097790537 \n",
      " apur:0.9383922620363916 \n",
      " f1:0.8825826607654257 \n",
      " precision:0.8669189852700491 \n",
      " recall:0.8988227807826917 \n",
      "}\n",
      "=====Epoch 30\n",
      "Training...\n"
     ]
    },
    {
     "name": "stderr",
     "output_type": "stream",
     "text": [
      "Iteration: 100%|██████████| 214/214 [00:17<00:00, 12.29it/s]\n",
      "Iteration:  43%|████▎     | 93/214 [00:07<00:10, 11.93it/s]]"
     ]
    },
    {
     "name": "stdout",
     "output_type": "stream",
     "text": [
      "Evaluating...\n"
     ]
    },
    {
     "name": "stderr",
     "output_type": "stream",
     "text": [
      "Iteration: 100%|██████████| 214/214 [00:17<00:00, 12.15it/s]\n",
      "Iteration:  49%|████▉     | 105/214 [00:08<00:08, 12.43it/s]"
     ]
    },
    {
     "name": "stdout",
     "output_type": "stream",
     "text": [
      "Evaluating...\n"
     ]
    },
    {
     "name": "stderr",
     "output_type": "stream",
     "text": [
      "Iteration: 100%|██████████| 214/214 [00:17<00:00, 12.31it/s]\n",
      "Iteration:  26%|██▌       | 55/214 [00:02<00:08, 17.98it/s]]"
     ]
    },
    {
     "name": "stdout",
     "output_type": "stream",
     "text": [
      "Evaluating...\n"
     ]
    },
    {
     "name": "stderr",
     "output_type": "stream",
     "text": [
      "Iteration: 100%|██████████| 24/24 [00:01<00:00, 19.53it/s]]]\n",
      "Iteration:  46%|████▋     | 99/214 [00:04<00:05, 21.36it/s]]"
     ]
    },
    {
     "name": "stdout",
     "output_type": "stream",
     "text": [
      "{'Train':  best_epoch_indx:29\n",
      " auc:0.9763103179145567 \n",
      " apur:0.9770195919162574 \n",
      " f1:0.9277482655519754 \n",
      " precision:0.9143707264040283 \n",
      " recall:0.9415230519958757 \n",
      ", 'Validation':  best_epoch_indx:29\n",
      " auc:0.9403691326672992 \n",
      " apur:0.94056506096286 \n",
      " f1:0.8789377766206716 \n",
      " precision:0.8634271099744245 \n",
      " recall:0.8950159066808059 \n",
      ", 'Test':  best_epoch_indx:29\n",
      " auc:0.939740117655954 \n",
      " apur:0.9363774920832852 \n",
      " f1:0.8807253400031265 \n",
      " precision:0.8657037492317148 \n",
      " recall:0.8962774419344576 \n",
      "}\n",
      "=====Epoch 30\n",
      "Training...\n"
     ]
    },
    {
     "name": "stderr",
     "output_type": "stream",
     "text": [
      "Iteration: 100%|██████████| 214/214 [00:17<00:00, 12.18it/s]\n",
      "Iteration:  91%|█████████ | 195/214 [00:08<00:00, 22.01it/s]"
     ]
    },
    {
     "name": "stdout",
     "output_type": "stream",
     "text": [
      "Evaluating...\n"
     ]
    },
    {
     "name": "stderr",
     "output_type": "stream",
     "text": [
      "Iteration: 100%|██████████| 214/214 [00:10<00:00, 21.18it/s]\n",
      "Iteration: 100%|██████████| 214/214 [00:09<00:00, 21.87it/s]\n",
      "Iteration: 100%|██████████| 214/214 [00:09<00:00, 22.14it/s]\n",
      "Iteration: 100%|██████████| 60/60 [00:02<00:00, 22.42it/s]s]\n",
      "Iteration: 100%|██████████| 60/60 [00:02<00:00, 22.47it/s]s]\n",
      "Iteration: 100%|██████████| 24/24 [00:01<00:00, 22.19it/s]s]\n",
      "Iteration:  55%|█████▌    | 118/214 [00:09<00:07, 12.38it/s]"
     ]
    },
    {
     "name": "stdout",
     "output_type": "stream",
     "text": [
      "{'Train':  best_epoch_indx:31\n",
      " auc:0.9783422358877254 \n",
      " apur:0.9792469132393786 \n",
      " f1:0.9300344521812446 \n",
      " precision:0.9180106755438214 \n",
      " recall:0.9423773751657092 \n",
      ", 'Validation':  best_epoch_indx:31\n",
      " auc:0.9342751789184471 \n",
      " apur:0.9306102925255209 \n",
      " f1:0.8733863606728387 \n",
      " precision:0.859379009494483 \n",
      " recall:0.8878579003181336 \n",
      ", 'Test':  best_epoch_indx:31\n",
      " auc:0.9357947613618588 \n",
      " apur:0.9354888744636494 \n",
      " f1:0.8750653423941452 \n",
      " precision:0.8627976497268323 \n",
      " recall:0.8876869233216672 \n",
      "}\n",
      "=====Epoch 32\n",
      "Training...\n"
     ]
    },
    {
     "name": "stderr",
     "output_type": "stream",
     "text": [
      "Iteration: 100%|██████████| 24/24 [00:01<00:00, 22.20it/s]s]\n",
      "Iteration:  57%|█████▋    | 123/214 [00:05<00:04, 22.42it/s]"
     ]
    },
    {
     "name": "stdout",
     "output_type": "stream",
     "text": [
      "{'Train':  best_epoch_indx:31\n",
      " auc:0.9809932606178322 \n",
      " apur:0.9819635188386387 \n",
      " f1:0.9344845099035043 \n",
      " precision:0.9207629178462154 \n",
      " recall:0.9486212585434833 \n",
      ", 'Validation':  best_epoch_indx:31\n",
      " auc:0.9400918122453535 \n",
      " apur:0.9381984616179857 \n",
      " f1:0.882161033537779 \n",
      " precision:0.8686712927268054 \n",
      " recall:0.8960763520678685 \n",
      ", 'Test':  best_epoch_indx:31\n",
      " auc:0.9401197609348361 \n",
      " apur:0.9390894922424597 \n",
      " f1:0.8829637359770416 \n",
      " precision:0.8691319979455573 \n",
      " recall:0.8972428419936374 \n",
      "}\n",
      "=====Epoch 32\n",
      "Training...\n"
     ]
    },
    {
     "name": "stderr",
     "output_type": "stream",
     "text": [
      "Iteration: 100%|██████████| 60/60 [00:02<00:00, 20.47it/s]s]\n",
      "Iteration: 100%|██████████| 24/24 [00:01<00:00, 20.98it/s]]]\n",
      "Iteration:   0%|          | 0/214 [00:00<?, ?it/s]22.24it/s]"
     ]
    },
    {
     "name": "stdout",
     "output_type": "stream",
     "text": [
      "{'Train':  best_epoch_indx:31\n",
      " auc:0.9758473559984872 \n",
      " apur:0.9770216508268479 \n",
      " f1:0.9251563504588228 \n",
      " precision:0.9178336377605752 \n",
      " recall:0.9325968478420975 \n",
      ", 'Validation':  best_epoch_indx:31\n",
      " auc:0.9369810350251412 \n",
      " apur:0.9355596778735779 \n",
      " f1:0.8757380921138959 \n",
      " precision:0.8669784359573915 \n",
      " recall:0.884676564156946 \n",
      ", 'Test':  best_epoch_indx:31\n",
      " auc:0.9344102181958237 \n",
      " apur:0.9323024983291843 \n",
      " f1:0.8724314616237917 \n",
      " precision:0.8690801936434435 \n",
      " recall:0.875808675363241 \n",
      "}\n",
      "=====Epoch 32\n",
      "Training...\n"
     ]
    },
    {
     "name": "stderr",
     "output_type": "stream",
     "text": [
      "Iteration: 100%|██████████| 214/214 [00:09<00:00, 21.68it/s]\n",
      "Iteration: 100%|██████████| 214/214 [00:17<00:00, 12.35it/s]\n",
      "Iteration:  29%|██▉       | 62/214 [00:05<00:12, 12.54it/s]"
     ]
    },
    {
     "name": "stdout",
     "output_type": "stream",
     "text": [
      "Evaluating...\n"
     ]
    },
    {
     "name": "stderr",
     "output_type": "stream",
     "text": [
      "Iteration: 100%|██████████| 60/60 [00:02<00:00, 22.17it/s]]\n",
      "Iteration: 100%|██████████| 24/24 [00:01<00:00, 19.97it/s]]]\n",
      "Iteration:  21%|██        | 45/214 [00:02<00:07, 22.39it/s]]"
     ]
    },
    {
     "name": "stdout",
     "output_type": "stream",
     "text": [
      "{'Train':  best_epoch_indx:30\n",
      " auc:0.9790219021397314 \n",
      " apur:0.9799924342178243 \n",
      " f1:0.9296800713878202 \n",
      " precision:0.9233451502295578 \n",
      " recall:0.93610251878038 \n",
      ", 'Validation':  best_epoch_indx:30\n",
      " auc:0.9361370232435422 \n",
      " apur:0.9339309967527445 \n",
      " f1:0.8768459915611814 \n",
      " precision:0.8722455403987408 \n",
      " recall:0.8814952279957582 \n",
      ", 'Test':  best_epoch_indx:30\n",
      " auc:0.9375143416346089 \n",
      " apur:0.9363284475113578 \n",
      " f1:0.8778505067567567 \n",
      " precision:0.8738833420914346 \n",
      " recall:0.8818538551277972 \n",
      "}\n",
      "=====Epoch 31\n",
      "Training...\n"
     ]
    },
    {
     "name": "stderr",
     "output_type": "stream",
     "text": [
      "Iteration: 100%|██████████| 214/214 [00:09<00:00, 22.18it/s]\n",
      "Iteration: 100%|██████████| 214/214 [00:17<00:00, 11.93it/s]\n",
      "Iteration:  87%|████████▋ | 186/214 [00:15<00:02, 12.19it/s]"
     ]
    },
    {
     "name": "stdout",
     "output_type": "stream",
     "text": [
      "Evaluating...\n"
     ]
    },
    {
     "name": "stderr",
     "output_type": "stream",
     "text": [
      "Iteration: 100%|██████████| 214/214 [00:18<00:00, 11.87it/s]\n",
      "Iteration:   1%|▏         | 3/214 [00:00<00:09, 21.47it/s]s]"
     ]
    },
    {
     "name": "stdout",
     "output_type": "stream",
     "text": [
      "Evaluating...\n"
     ]
    },
    {
     "name": "stderr",
     "output_type": "stream",
     "text": [
      "Iteration: 100%|██████████| 214/214 [00:17<00:00, 12.05it/s]\n",
      "Iteration:  80%|████████  | 48/60 [00:02<00:00, 22.45it/s]]"
     ]
    },
    {
     "name": "stdout",
     "output_type": "stream",
     "text": [
      "Evaluating...\n"
     ]
    },
    {
     "name": "stderr",
     "output_type": "stream",
     "text": [
      "Iteration: 100%|██████████| 60/60 [00:02<00:00, 22.64it/s]]]\n",
      "Iteration: 100%|██████████| 24/24 [00:01<00:00, 22.29it/s]s]\n",
      "Iteration:  71%|███████   | 152/214 [00:12<00:05, 12.38it/s]"
     ]
    },
    {
     "name": "stdout",
     "output_type": "stream",
     "text": [
      "{'Train':  best_epoch_indx:30\n",
      " auc:0.9770648849150748 \n",
      " apur:0.9777850715277681 \n",
      " f1:0.9281172884308319 \n",
      " precision:0.914837601945915 \n",
      " recall:0.9417881867727206 \n",
      ", 'Validation':  best_epoch_indx:30\n",
      " auc:0.9391182574193122 \n",
      " apur:0.9390084130421603 \n",
      " f1:0.8808965337503257 \n",
      " precision:0.8662224500256279 \n",
      " recall:0.8960763520678685 \n",
      ", 'Test':  best_epoch_indx:30\n",
      " auc:0.9389623710014051 \n",
      " apur:0.9360953435231317 \n",
      " f1:0.879766313702989 \n",
      " precision:0.8656333401765551 \n",
      " recall:0.8943684377982819 \n",
      "}\n",
      "=====Epoch 31\n",
      "Training...\n"
     ]
    },
    {
     "name": "stderr",
     "output_type": "stream",
     "text": [
      "Iteration: 100%|██████████| 214/214 [00:17<00:00, 12.27it/s]\n",
      "Iteration:  84%|████████▍ | 180/214 [00:08<00:01, 20.05it/s]"
     ]
    },
    {
     "name": "stdout",
     "output_type": "stream",
     "text": [
      "Evaluating...\n"
     ]
    },
    {
     "name": "stderr",
     "output_type": "stream",
     "text": [
      "Iteration: 100%|██████████| 214/214 [00:09<00:00, 21.81it/s]\n",
      "Iteration: 100%|██████████| 214/214 [00:10<00:00, 21.12it/s]\n",
      "Iteration: 100%|██████████| 214/214 [00:09<00:00, 22.15it/s]\n",
      "Iteration: 100%|██████████| 60/60 [00:02<00:00, 22.15it/s]]]\n",
      "Iteration: 100%|██████████| 60/60 [00:02<00:00, 20.63it/s]s]\n",
      "Iteration: 100%|██████████| 24/24 [00:01<00:00, 22.17it/s]s]\n",
      "Iteration:  61%|██████    | 130/214 [00:10<00:06, 12.51it/s]"
     ]
    },
    {
     "name": "stdout",
     "output_type": "stream",
     "text": [
      "{'Train':  best_epoch_indx:32\n",
      " auc:0.9737333691505842 \n",
      " apur:0.9750964496818986 \n",
      " f1:0.9210261424750512 \n",
      " precision:0.8996544652639268 \n",
      " recall:0.9434379142730889 \n",
      ", 'Validation':  best_epoch_indx:32\n",
      " auc:0.9316767468173954 \n",
      " apur:0.9277881757216804 \n",
      " f1:0.8695989650711513 \n",
      " precision:0.849166245578575 \n",
      " recall:0.8910392364793213 \n",
      ", 'Test':  best_epoch_indx:32\n",
      " auc:0.9316862066743435 \n",
      " apur:0.9296294505738636 \n",
      " f1:0.8748058403230817 \n",
      " precision:0.854628224582701 \n",
      " recall:0.8959592745784283 \n",
      "}\n",
      "=====Epoch 33\n",
      "Training...\n"
     ]
    },
    {
     "name": "stderr",
     "output_type": "stream",
     "text": [
      "Iteration: 100%|██████████| 60/60 [00:02<00:00, 22.66it/s]s]\n",
      "Iteration: 100%|██████████| 24/24 [00:01<00:00, 20.15it/s]s]\n",
      "Iteration:  70%|███████   | 150/214 [00:06<00:02, 22.34it/s]"
     ]
    },
    {
     "name": "stdout",
     "output_type": "stream",
     "text": [
      "{'Train':  best_epoch_indx:32\n",
      " auc:0.9746062467869734 \n",
      " apur:0.975773896401515 \n",
      " f1:0.9197262719428742 \n",
      " precision:0.9289578074287775 \n",
      " recall:0.910676408201744 \n",
      ", 'Validation':  best_epoch_indx:32\n",
      " auc:0.9337039289755285 \n",
      " apur:0.9324237766910595 \n",
      " f1:0.8684351554126474 \n",
      " precision:0.8778439869989165 \n",
      " recall:0.8592258748674443 \n",
      ", 'Test':  best_epoch_indx:32\n",
      " auc:0.9337004570990279 \n",
      " apur:0.9324116729329561 \n",
      " f1:0.8670750053728776 \n",
      " precision:0.8787845785231976 \n",
      " recall:0.8556733828207848 \n",
      "}\n",
      "=====Epoch 33\n",
      "Training...\n"
     ]
    },
    {
     "name": "stderr",
     "output_type": "stream",
     "text": [
      "Iteration: 100%|██████████| 24/24 [00:01<00:00, 22.16it/s]s]\n",
      "Iteration:  12%|█▏        | 26/214 [00:02<00:15, 12.30it/s]]"
     ]
    },
    {
     "name": "stdout",
     "output_type": "stream",
     "text": [
      "{'Train':  best_epoch_indx:32\n",
      " auc:0.9765881663290932 \n",
      " apur:0.9777804798662576 \n",
      " f1:0.9276083859734953 \n",
      " precision:0.9066437893789379 \n",
      " recall:0.9495654735601708 \n",
      ", 'Validation':  best_epoch_indx:32\n",
      " auc:0.9366132960951256 \n",
      " apur:0.9371103822515416 \n",
      " f1:0.8786082474226804 \n",
      " precision:0.85481444332999 \n",
      " recall:0.9037645811240721 \n",
      ", 'Test':  best_epoch_indx:32\n",
      " auc:0.9345535393961721 \n",
      " apur:0.9322835164183656 \n",
      " f1:0.8769350245922859 \n",
      " precision:0.856665992312361 \n",
      " recall:0.8981864460706331 \n",
      "}\n",
      "=====Epoch 33\n",
      "Training...\n"
     ]
    },
    {
     "name": "stderr",
     "output_type": "stream",
     "text": [
      "Iteration: 100%|██████████| 214/214 [00:09<00:00, 22.06it/s]\n",
      "Iteration: 100%|██████████| 214/214 [00:17<00:00, 12.35it/s]\n",
      "Iteration:  29%|██▉       | 62/214 [00:05<00:12, 11.96it/s]"
     ]
    },
    {
     "name": "stdout",
     "output_type": "stream",
     "text": [
      "Evaluating...\n"
     ]
    },
    {
     "name": "stderr",
     "output_type": "stream",
     "text": [
      "Iteration: 100%|██████████| 60/60 [00:02<00:00, 21.65it/s]]\n",
      "Iteration: 100%|██████████| 24/24 [00:01<00:00, 21.33it/s]]]\n",
      "Iteration:  44%|████▍     | 94/214 [00:07<00:10, 11.57it/s]]"
     ]
    },
    {
     "name": "stdout",
     "output_type": "stream",
     "text": [
      "{'Train':  best_epoch_indx:31\n",
      " auc:0.9784234801461632 \n",
      " apur:0.9795487834598566 \n",
      " f1:0.9299602394372353 \n",
      " precision:0.9196335983408227 \n",
      " recall:0.940521431727795 \n",
      ", 'Validation':  best_epoch_indx:31\n",
      " auc:0.9333359125665315 \n",
      " apur:0.932373230111386 \n",
      " f1:0.875343361674297 \n",
      " precision:0.8639297702039762 \n",
      " recall:0.8870625662778366 \n",
      ", 'Test':  best_epoch_indx:31\n",
      " auc:0.9367503149958313 \n",
      " apur:0.9355582745472738 \n",
      " f1:0.8774389287022022 \n",
      " precision:0.865710156895128 \n",
      " recall:0.8894898716724997 \n",
      "}\n",
      "=====Epoch 32\n",
      "Training...\n"
     ]
    },
    {
     "name": "stderr",
     "output_type": "stream",
     "text": [
      "Iteration: 100%|██████████| 214/214 [00:09<00:00, 22.34it/s]\n",
      "Iteration: 100%|██████████| 214/214 [00:17<00:00, 12.24it/s]\n",
      "Iteration:  12%|█▏        | 7/60 [00:00<00:02, 18.97it/s]/s]"
     ]
    },
    {
     "name": "stdout",
     "output_type": "stream",
     "text": [
      "Evaluating...\n"
     ]
    },
    {
     "name": "stderr",
     "output_type": "stream",
     "text": [
      "Iteration: 100%|██████████| 214/214 [00:17<00:00, 12.12it/s]\n",
      "Iteration:  54%|█████▍    | 116/214 [00:09<00:07, 12.37it/s]"
     ]
    },
    {
     "name": "stdout",
     "output_type": "stream",
     "text": [
      "Evaluating...\n"
     ]
    },
    {
     "name": "stderr",
     "output_type": "stream",
     "text": [
      "Iteration: 100%|██████████| 214/214 [00:17<00:00, 12.20it/s]\n",
      "Iteration:   1%|▏         | 3/214 [00:00<00:09, 21.81it/s]]]"
     ]
    },
    {
     "name": "stdout",
     "output_type": "stream",
     "text": [
      "Evaluating...\n"
     ]
    },
    {
     "name": "stderr",
     "output_type": "stream",
     "text": [
      "Iteration: 100%|██████████| 60/60 [00:02<00:00, 22.35it/s]]]\n",
      "Iteration: 100%|██████████| 24/24 [00:01<00:00, 20.57it/s]s]\n",
      "Iteration:  20%|█▉        | 42/214 [00:01<00:07, 22.31it/s]]"
     ]
    },
    {
     "name": "stdout",
     "output_type": "stream",
     "text": [
      "{'Train':  best_epoch_indx:31\n",
      " auc:0.9753476030909113 \n",
      " apur:0.9762086149856795 \n",
      " f1:0.9258217052014737 \n",
      " precision:0.9119067348629882 \n",
      " recall:0.9401679186920018 \n",
      ", 'Validation':  best_epoch_indx:31\n",
      " auc:0.9380467525128497 \n",
      " apur:0.9379152490574058 \n",
      " f1:0.8752279239385257 \n",
      " precision:0.8602150537634409 \n",
      " recall:0.8907741251325557 \n",
      ", 'Test':  best_epoch_indx:31\n",
      " auc:0.9374887220582332 \n",
      " apur:0.9341668243093137 \n",
      " f1:0.8814231310970839 \n",
      " precision:0.8673511293634497 \n",
      " recall:0.8959592745784283 \n",
      "}\n",
      "=====Epoch 32\n",
      "Training...\n"
     ]
    },
    {
     "name": "stderr",
     "output_type": "stream",
     "text": [
      "Iteration: 100%|██████████| 214/214 [00:17<00:00, 12.01it/s]\n",
      "Iteration:  81%|████████▏ | 174/214 [00:07<00:01, 21.92it/s]"
     ]
    },
    {
     "name": "stdout",
     "output_type": "stream",
     "text": [
      "Evaluating...\n"
     ]
    },
    {
     "name": "stderr",
     "output_type": "stream",
     "text": [
      "Iteration: 100%|██████████| 214/214 [00:10<00:00, 20.61it/s]\n",
      "Iteration: 100%|██████████| 214/214 [00:09<00:00, 21.98it/s]\n",
      "Iteration: 100%|██████████| 214/214 [00:09<00:00, 22.14it/s]\n",
      "Iteration: 100%|██████████| 60/60 [00:03<00:00, 19.19it/s]]]\n",
      "Iteration: 100%|██████████| 60/60 [00:03<00:00, 19.46it/s]s]\n",
      "Iteration: 100%|██████████| 24/24 [00:01<00:00, 22.52it/s]s]\n",
      "Iteration: 100%|██████████| 60/60 [00:03<00:00, 18.73it/s]s]\n",
      "Iteration:  63%|██████▎   | 135/214 [00:06<00:03, 21.64it/s]"
     ]
    },
    {
     "name": "stdout",
     "output_type": "stream",
     "text": [
      "{'Train':  best_epoch_indx:33\n",
      " auc:0.973150968806958 \n",
      " apur:0.9745907042285024 \n",
      " f1:0.9198531126136628 \n",
      " precision:0.9101185155281294 \n",
      " recall:0.9297982029754014 \n",
      ", 'Validation':  best_epoch_indx:33\n",
      " auc:0.9295162954684988 \n",
      " apur:0.9262982954694863 \n",
      " f1:0.8679984332158246 \n",
      " precision:0.8551582197067147 \n",
      " recall:0.8812301166489925 \n",
      ", 'Test':  best_epoch_indx:33\n",
      " auc:0.9319608681937964 \n",
      " apur:0.9313210611987124 \n",
      " f1:0.8696610347360688 \n",
      " precision:0.8606293488420397 \n",
      " recall:0.8788842931381907 \n",
      "}\n",
      "=====Epoch 34\n",
      "Training...\n"
     ]
    },
    {
     "name": "stderr",
     "output_type": "stream",
     "text": [
      "Iteration: 100%|██████████| 24/24 [00:01<00:00, 22.55it/s]s]\n",
      "Iteration:  73%|███████▎  | 156/214 [00:07<00:02, 21.58it/s]"
     ]
    },
    {
     "name": "stdout",
     "output_type": "stream",
     "text": [
      "{'Train':  best_epoch_indx:33\n",
      " auc:0.9738395837957866 \n",
      " apur:0.9752119028211287 \n",
      " f1:0.9208974564302667 \n",
      " precision:0.9103601139929186 \n",
      " recall:0.9316815932123498 \n",
      ", 'Validation':  best_epoch_indx:33\n",
      " auc:0.9341741765692309 \n",
      " apur:0.9320559632261208 \n",
      " f1:0.8753600418957843 \n",
      " precision:0.8647180548370409 \n",
      " recall:0.8862672322375398 \n",
      ", 'Test':  best_epoch_indx:33\n",
      " auc:0.9334147178757295 \n",
      " apur:0.9313303272479414 \n",
      " f1:0.872373784885544 \n",
      " precision:0.8600577081615829 \n",
      " recall:0.8850477200424178 \n",
      "}\n",
      "=====Epoch 34\n",
      "Training...\n"
     ]
    },
    {
     "name": "stderr",
     "output_type": "stream",
     "text": [
      "Iteration: 100%|██████████| 24/24 [00:01<00:00, 19.79it/s]s]\n",
      "Iteration:   0%|          | 0/214 [00:00<?, ?it/s]12.38it/s]"
     ]
    },
    {
     "name": "stdout",
     "output_type": "stream",
     "text": [
      "{'Train':  best_epoch_indx:33\n",
      " auc:0.9695872444961402 \n",
      " apur:0.9709927022187446 \n",
      " f1:0.9171065155317123 \n",
      " precision:0.8982964658021866 \n",
      " recall:0.9367211665930181 \n",
      ", 'Validation':  best_epoch_indx:33\n",
      " auc:0.9304342752185583 \n",
      " apur:0.9305953294982999 \n",
      " f1:0.8712208928341696 \n",
      " precision:0.8462884278930267 \n",
      " recall:0.8976670201484623 \n",
      ", 'Test':  best_epoch_indx:33\n",
      " auc:0.9263958260705418 \n",
      " apur:0.924926994273338 \n",
      " f1:0.8675273500285167 \n",
      " precision:0.848650841955772 \n",
      " recall:0.8872627001802948 \n",
      "}\n",
      "=====Epoch 34\n",
      "Training...\n"
     ]
    },
    {
     "name": "stderr",
     "output_type": "stream",
     "text": [
      "Iteration: 100%|██████████| 214/214 [00:09<00:00, 22.06it/s]\n",
      "Iteration: 100%|██████████| 214/214 [00:17<00:00, 12.08it/s]\n",
      "Iteration:  28%|██▊       | 60/214 [00:04<00:12, 12.46it/s]"
     ]
    },
    {
     "name": "stdout",
     "output_type": "stream",
     "text": [
      "Evaluating...\n"
     ]
    },
    {
     "name": "stderr",
     "output_type": "stream",
     "text": [
      "Iteration: 100%|██████████| 60/60 [00:02<00:00, 21.50it/s]]\n",
      "Iteration: 100%|██████████| 24/24 [00:01<00:00, 20.32it/s]]]\n",
      "Iteration:  28%|██▊       | 60/214 [00:02<00:06, 22.04it/s]]"
     ]
    },
    {
     "name": "stdout",
     "output_type": "stream",
     "text": [
      "{'Train':  best_epoch_indx:32\n",
      " auc:0.9738418595564116 \n",
      " apur:0.9749475072951241 \n",
      " f1:0.920905943789239 \n",
      " precision:0.9171122213457212 \n",
      " recall:0.9247311827956989 \n",
      ", 'Validation':  best_epoch_indx:32\n",
      " auc:0.9328581334004777 \n",
      " apur:0.9313824728286979 \n",
      " f1:0.8730054068310694 \n",
      " precision:0.8685384413539753 \n",
      " recall:0.8775185577942736 \n",
      ", 'Test':  best_epoch_indx:32\n",
      " auc:0.9323545691014334 \n",
      " apur:0.9328011669514282 \n",
      " f1:0.8695010022154236 \n",
      " precision:0.8649386084583902 \n",
      " recall:0.8741117827977516 \n",
      "}\n",
      "=====Epoch 33\n",
      "Training...\n"
     ]
    },
    {
     "name": "stderr",
     "output_type": "stream",
     "text": [
      "Iteration: 100%|██████████| 214/214 [00:09<00:00, 22.22it/s]\n",
      "Iteration: 100%|██████████| 214/214 [00:17<00:00, 12.20it/s]\n",
      "Iteration:  40%|████      | 24/60 [00:01<00:01, 21.17it/s]s]"
     ]
    },
    {
     "name": "stdout",
     "output_type": "stream",
     "text": [
      "Evaluating...\n"
     ]
    },
    {
     "name": "stderr",
     "output_type": "stream",
     "text": [
      "Iteration: 100%|██████████| 214/214 [00:17<00:00, 12.19it/s]\n",
      "Iteration:  56%|█████▌    | 120/214 [00:09<00:07, 12.30it/s]"
     ]
    },
    {
     "name": "stdout",
     "output_type": "stream",
     "text": [
      "Evaluating...\n"
     ]
    },
    {
     "name": "stderr",
     "output_type": "stream",
     "text": [
      "Iteration: 100%|██████████| 214/214 [00:17<00:00, 12.27it/s]\n",
      "Iteration:  15%|█▌        | 33/214 [00:01<00:08, 22.17it/s]"
     ]
    },
    {
     "name": "stdout",
     "output_type": "stream",
     "text": [
      "Evaluating...\n"
     ]
    },
    {
     "name": "stderr",
     "output_type": "stream",
     "text": [
      "Iteration: 100%|██████████| 60/60 [00:03<00:00, 19.86it/s]]]\n",
      "Iteration: 100%|██████████| 24/24 [00:01<00:00, 21.43it/s]s]\n",
      "Iteration:  70%|███████   | 150/214 [00:12<00:05, 12.46it/s]"
     ]
    },
    {
     "name": "stdout",
     "output_type": "stream",
     "text": [
      "{'Train':  best_epoch_indx:32\n",
      " auc:0.9732929186981198 \n",
      " apur:0.9745987225278926 \n",
      " f1:0.9213130476481102 \n",
      " precision:0.9090674466620785 \n",
      " recall:0.9338930623066726 \n",
      ", 'Validation':  best_epoch_indx:32\n",
      " auc:0.9360627381562457 \n",
      " apur:0.9377342524476635 \n",
      " f1:0.8769411457653661 \n",
      " precision:0.8635312259059368 \n",
      " recall:0.8907741251325557 \n",
      ", 'Test':  best_epoch_indx:32\n",
      " auc:0.9360195766801088 \n",
      " apur:0.9324593524264099 \n",
      " f1:0.8796494339819501 \n",
      " precision:0.865605749486653 \n",
      " recall:0.8941563262275957 \n",
      "}\n",
      "=====Epoch 33\n",
      "Training...\n"
     ]
    },
    {
     "name": "stderr",
     "output_type": "stream",
     "text": [
      "Iteration: 100%|██████████| 214/214 [00:17<00:00, 12.29it/s]\n",
      "Iteration:   0%|          | 0/214 [00:00<?, ?it/s]"
     ]
    },
    {
     "name": "stdout",
     "output_type": "stream",
     "text": [
      "Evaluating...\n"
     ]
    },
    {
     "name": "stderr",
     "output_type": "stream",
     "text": [
      "Iteration: 100%|██████████| 214/214 [00:09<00:00, 21.94it/s]\n",
      "Iteration: 100%|██████████| 214/214 [00:09<00:00, 21.95it/s]\n",
      "Iteration: 100%|██████████| 214/214 [00:09<00:00, 21.82it/s]\n",
      "Iteration: 100%|██████████| 60/60 [00:02<00:00, 20.26it/s]s]\n",
      "Iteration: 100%|██████████| 60/60 [00:02<00:00, 22.56it/s]s]\n",
      "Iteration: 100%|██████████| 60/60 [00:02<00:00, 22.54it/s]s]\n",
      "Iteration: 100%|██████████| 24/24 [00:01<00:00, 20.89it/s]s]\n",
      "Iteration:  67%|██████▋   | 144/214 [00:06<00:03, 22.20it/s]"
     ]
    },
    {
     "name": "stdout",
     "output_type": "stream",
     "text": [
      "{'Train':  best_epoch_indx:34\n",
      " auc:0.971042166737134 \n",
      " apur:0.972354482850442 \n",
      " f1:0.9176697853446164 \n",
      " precision:0.8985376319801254 \n",
      " recall:0.9376344086021505 \n",
      ", 'Validation':  best_epoch_indx:34\n",
      " auc:0.9270864516685526 \n",
      " apur:0.9245015404490609 \n",
      " f1:0.8673298023511173 \n",
      " precision:0.8458049886621315 \n",
      " recall:0.8899787910922587 \n",
      ", 'Test':  best_epoch_indx:34\n",
      " auc:0.9295229617372829 \n",
      " apur:0.9292840560732415 \n",
      " f1:0.8711161660549037 \n",
      " precision:0.849808351825701 \n",
      " recall:0.8935199915155372 \n",
      "}\n",
      "=====Epoch 35\n",
      "Training...\n"
     ]
    },
    {
     "name": "stderr",
     "output_type": "stream",
     "text": [
      "Iteration: 100%|██████████| 24/24 [00:01<00:00, 20.68it/s]s]\n",
      "Iteration:   5%|▍         | 10/214 [00:00<00:16, 12.23it/s]]"
     ]
    },
    {
     "name": "stdout",
     "output_type": "stream",
     "text": [
      "{'Train':  best_epoch_indx:34\n",
      " auc:0.9711176896344856 \n",
      " apur:0.9729154081716035 \n",
      " f1:0.9178777293831845 \n",
      " precision:0.8962468068382786 \n",
      " recall:0.9405786000471364 \n",
      ", 'Validation':  best_epoch_indx:34\n",
      " auc:0.9313098403243237 \n",
      " apur:0.9295164293517544 \n",
      " f1:0.8773426392658653 \n",
      " precision:0.8559899117276166 \n",
      " recall:0.8997879109225875 \n",
      ", 'Test':  best_epoch_indx:34\n",
      " auc:0.9316522840298751 \n",
      " apur:0.9313233729695729 \n",
      " f1:0.8717524921233407 \n",
      " precision:0.849763367233914 \n",
      " recall:0.8949098621420997 \n",
      "}\n",
      "=====Epoch 35\n",
      "Training...\n"
     ]
    },
    {
     "name": "stderr",
     "output_type": "stream",
     "text": [
      "\r",
      "Iteration:  73%|███████▎  | 156/214 [00:12<00:04, 12.59it/s]\r",
      "Iteration:  88%|████████▊ | 21/24 [00:00<00:00, 22.32it/s]\r",
      "Iteration:  76%|███████▌  | 162/214 [00:07<00:02, 22.37it/s]\r",
      "Iteration:   1%|          | 2/214 [00:00<00:18, 11.65it/s]\r",
      "Iteration:   6%|▌         | 12/214 [00:00<00:16, 12.36it/s]\r",
      "Iteration: 100%|██████████| 24/24 [00:01<00:00, 22.71it/s]\r",
      "Iteration: 100%|██████████| 24/24 [00:01<00:00, 22.34it/s]\n",
      "\r",
      "Iteration:  74%|███████▍  | 158/214 [00:12<00:04, 12.19it/s]\r",
      "Iteration:  77%|███████▋  | 165/214 [00:07<00:02, 22.43it/s]"
     ]
    },
    {
     "name": "stdout",
     "output_type": "stream",
     "text": [
      "{'Train':  best_epoch_indx:34\n",
      " auc:0.9667889960893682 \n",
      " apur:0.9690057808654531 \n",
      " f1:0.9075136794341385 \n",
      " precision:0.9136510211393766 \n",
      " recall:0.901458241272647 \n",
      ", 'Validation':  best_epoch_indx:34\n",
      " auc:0.926816742098667 \n",
      " apur:0.9277065354119092 \n",
      " f1:0.8599626567084556 \n",
      " precision:0.8652710681696189 \n",
      " recall:0.8547189819724285 \n",
      ", 'Test':  best_epoch_indx:34\n",
      " auc:0.9248675190710123 \n",
      " apur:0.9242295185045833 \n",
      " f1:0.8547228476466172 \n",
      " precision:0.8641734417344173 \n",
      " recall:0.8454767207551172 \n",
      "}\n",
      "=====Epoch 35\n",
      "Training...\n"
     ]
    },
    {
     "name": "stderr",
     "output_type": "stream",
     "text": [
      "Iteration: 100%|██████████| 214/214 [00:09<00:00, 22.24it/s]\n",
      "Iteration: 100%|██████████| 214/214 [00:17<00:00, 12.39it/s]\n",
      "Iteration:  26%|██▌       | 56/214 [00:04<00:12, 12.49it/s]"
     ]
    },
    {
     "name": "stdout",
     "output_type": "stream",
     "text": [
      "Evaluating...\n"
     ]
    },
    {
     "name": "stderr",
     "output_type": "stream",
     "text": [
      "Iteration: 100%|██████████| 60/60 [00:03<00:00, 19.86it/s]]\n",
      "Iteration: 100%|██████████| 24/24 [00:01<00:00, 22.44it/s]]\n",
      "Iteration:  27%|██▋       | 57/214 [00:02<00:07, 20.62it/s]]"
     ]
    },
    {
     "name": "stdout",
     "output_type": "stream",
     "text": [
      "{'Train':  best_epoch_indx:33\n",
      " auc:0.9688072536464353 \n",
      " apur:0.9704272685587552 \n",
      " f1:0.9143711358160865 \n",
      " precision:0.901135680979489 \n",
      " recall:0.928001178376786 \n",
      ", 'Validation':  best_epoch_indx:33\n",
      " auc:0.9269133840638906 \n",
      " apur:0.9239581485860023 \n",
      " f1:0.8690677415160577 \n",
      " precision:0.852768563409033 \n",
      " recall:0.8860021208907741 \n",
      ", 'Test':  best_epoch_indx:33\n",
      " auc:0.9281323182932021 \n",
      " apur:0.9284226452956333 \n",
      " f1:0.8666354215487162 \n",
      " precision:0.8513402905668099 \n",
      " recall:0.8824901898398557 \n",
      "}\n",
      "=====Epoch 34\n",
      "Training...\n"
     ]
    },
    {
     "name": "stderr",
     "output_type": "stream",
     "text": [
      "Iteration: 100%|██████████| 214/214 [00:10<00:00, 20.88it/s]\n",
      "Iteration: 100%|██████████| 214/214 [00:17<00:00, 12.09it/s]\n",
      "Iteration:  96%|█████████▋| 206/214 [00:16<00:00, 11.81it/s]"
     ]
    },
    {
     "name": "stdout",
     "output_type": "stream",
     "text": [
      "Evaluating...\n"
     ]
    },
    {
     "name": "stderr",
     "output_type": "stream",
     "text": [
      "Iteration: 100%|██████████| 214/214 [00:17<00:00, 12.16it/s]\n",
      "Iteration: 100%|██████████| 214/214 [00:17<00:00, 12.31it/s]\n",
      "Iteration:   1%|▏         | 3/214 [00:00<00:10, 19.87it/s]]"
     ]
    },
    {
     "name": "stdout",
     "output_type": "stream",
     "text": [
      "Evaluating...\n",
      "Evaluating...\n"
     ]
    },
    {
     "name": "stderr",
     "output_type": "stream",
     "text": [
      "Iteration: 100%|██████████| 60/60 [00:03<00:00, 19.71it/s]]]\n",
      "Iteration: 100%|██████████| 24/24 [00:01<00:00, 22.50it/s]]]\n",
      "Iteration:  28%|██▊       | 60/214 [00:02<00:06, 22.19it/s]]"
     ]
    },
    {
     "name": "stdout",
     "output_type": "stream",
     "text": [
      "{'Train':  best_epoch_indx:33\n",
      " auc:0.9713826372461294 \n",
      " apur:0.9723643604213598 \n",
      " f1:0.9194862786880525 \n",
      " precision:0.8992368132022868 \n",
      " recall:0.9406687288260421 \n",
      ", 'Validation':  best_epoch_indx:33\n",
      " auc:0.9307819167423523 \n",
      " apur:0.9287795601591968 \n",
      " f1:0.8765001935733643 \n",
      " precision:0.853909982398793 \n",
      " recall:0.9003181336161188 \n",
      ", 'Test':  best_epoch_indx:33\n",
      " auc:0.9312612684271927 \n",
      " apur:0.9275855288914502 \n",
      " f1:0.8721470618609936 \n",
      " precision:0.8498540807084634 \n",
      " recall:0.895641107222399 \n",
      "}\n",
      "=====Epoch 34\n",
      "Training...\n"
     ]
    },
    {
     "name": "stderr",
     "output_type": "stream",
     "text": [
      "Iteration: 100%|██████████| 214/214 [00:17<00:00, 12.37it/s]\n",
      "Iteration:  73%|███████▎  | 157/214 [00:07<00:02, 20.41it/s]"
     ]
    },
    {
     "name": "stdout",
     "output_type": "stream",
     "text": [
      "Evaluating...\n"
     ]
    },
    {
     "name": "stderr",
     "output_type": "stream",
     "text": [
      "Iteration: 100%|██████████| 214/214 [00:09<00:00, 22.03it/s]\n",
      "Iteration: 100%|██████████| 214/214 [00:09<00:00, 21.69it/s]\n",
      "Iteration: 100%|██████████| 214/214 [00:10<00:00, 21.13it/s]\n",
      "Iteration: 100%|██████████| 60/60 [00:03<00:00, 19.67it/s]s]\n",
      "Iteration: 100%|██████████| 60/60 [00:03<00:00, 19.46it/s]s]\n",
      "Iteration: 100%|██████████| 60/60 [00:03<00:00, 19.38it/s]s]\n",
      "Iteration: 100%|██████████| 24/24 [00:01<00:00, 21.54it/s]s]\n",
      "Iteration:  38%|███▊      | 9/24 [00:00<00:00, 21.43it/s]]s]"
     ]
    },
    {
     "name": "stdout",
     "output_type": "stream",
     "text": [
      "{'Train':  best_epoch_indx:35\n",
      " auc:0.974563464040114 \n",
      " apur:0.9759176262710646 \n",
      " f1:0.9242397864438254 \n",
      " precision:0.9105279707286397 \n",
      " recall:0.9383708940933864 \n",
      ", 'Validation':  best_epoch_indx:35\n",
      " auc:0.9354286194041211 \n",
      " apur:0.9319008832790108 \n",
      " f1:0.8765013054830288 \n",
      " precision:0.8634259259259259 \n",
      " recall:0.8899787910922587 \n",
      ", 'Test':  best_epoch_indx:35\n",
      " auc:0.9342317675558643 \n",
      " apur:0.9322453716403265 \n",
      " f1:0.8756198131426483 \n",
      " precision:0.8620760534429599 \n",
      " recall:0.8895959274578428 \n",
      "}\n",
      "=====Epoch 36\n",
      "Training...\n"
     ]
    },
    {
     "name": "stderr",
     "output_type": "stream",
     "text": [
      "Iteration: 100%|██████████| 24/24 [00:01<00:00, 22.02it/s]]]\n",
      "Iteration:  74%|███████▍  | 158/214 [00:12<00:04, 12.49it/s]"
     ]
    },
    {
     "name": "stdout",
     "output_type": "stream",
     "text": [
      "{'Train':  best_epoch_indx:35\n",
      " auc:0.9745506104733963 \n",
      " apur:0.9759223238483874 \n",
      " f1:0.9232490746851061 \n",
      " precision:0.8998070523754929 \n",
      " recall:0.947945205479452 \n",
      ", 'Validation':  best_epoch_indx:35\n",
      " auc:0.935581986001106 \n",
      " apur:0.9335275598676225 \n",
      " f1:0.8753854059609455 \n",
      " precision:0.8492023928215354 \n",
      " recall:0.9032343584305408 \n",
      ", 'Test':  best_epoch_indx:35\n",
      " auc:0.9323207162469851 \n",
      " apur:0.931021622661825 \n",
      " f1:0.8730599239387399 \n",
      " precision:0.8469438627978861 \n",
      " recall:0.9008378407042105 \n",
      "}\n",
      "=====Epoch 36\n",
      "Training...\n"
     ]
    },
    {
     "name": "stderr",
     "output_type": "stream",
     "text": [
      "\r",
      "Iteration: 100%|██████████| 24/24 [00:01<00:00, 22.60it/s]\r",
      "Iteration: 100%|██████████| 24/24 [00:01<00:00, 22.30it/s]\n",
      "\r",
      "Iteration:   1%|          | 2/214 [00:00<00:17, 12.25it/s]\r",
      "Iteration:  83%|████████▎ | 177/214 [00:08<00:01, 21.88it/s]\r",
      "Iteration:   7%|▋         | 14/214 [00:01<00:16, 12.39it/s]\r",
      "Iteration:   0%|          | 0/214 [00:00<?, ?it/s]\r",
      "Iteration:  75%|███████▍  | 160/214 [00:12<00:04, 12.44it/s]\r",
      "Iteration:   2%|▏         | 4/214 [00:00<00:17, 11.89it/s]\r",
      "Iteration:  84%|████████▍ | 180/214 [00:08<00:01, 21.38it/s]"
     ]
    },
    {
     "name": "stdout",
     "output_type": "stream",
     "text": [
      "{'Train':  best_epoch_indx:35\n",
      " auc:0.9734736174241542 \n",
      " apur:0.9747956574392583 \n",
      " f1:0.9187634583050647 \n",
      " precision:0.9199302971232796 \n",
      " recall:0.9175995757718596 \n",
      ", 'Validation':  best_epoch_indx:35\n",
      " auc:0.9341046879043264 \n",
      " apur:0.9323602996172498 \n",
      " f1:0.8723404255319149 \n",
      " precision:0.8751334044823906 \n",
      " recall:0.8695652173913043 \n",
      ", 'Test':  best_epoch_indx:35\n",
      " auc:0.9337868696334695 \n",
      " apur:0.9329988143321122 \n",
      " f1:0.8688201798733436 \n",
      " precision:0.8720222198483069 \n",
      " recall:0.8656415694591728 \n",
      "}\n",
      "=====Epoch 36\n",
      "Training...\n"
     ]
    },
    {
     "name": "stderr",
     "output_type": "stream",
     "text": [
      "Iteration: 100%|██████████| 214/214 [00:09<00:00, 22.06it/s]\n",
      "Iteration: 100%|██████████| 214/214 [00:17<00:00, 12.49it/s]\n",
      "Iteration:  27%|██▋       | 58/214 [00:04<00:12, 12.45it/s]"
     ]
    },
    {
     "name": "stdout",
     "output_type": "stream",
     "text": [
      "Evaluating...\n"
     ]
    },
    {
     "name": "stderr",
     "output_type": "stream",
     "text": [
      "Iteration: 100%|██████████| 60/60 [00:02<00:00, 22.83it/s]]\n",
      "Iteration: 100%|██████████| 24/24 [00:01<00:00, 22.57it/s]]\n",
      "Iteration:  38%|███▊      | 82/214 [00:06<00:10, 12.13it/s]"
     ]
    },
    {
     "name": "stdout",
     "output_type": "stream",
     "text": [
      "{'Train':  best_epoch_indx:34\n",
      " auc:0.970556443642101 \n",
      " apur:0.9717123491996134 \n",
      " f1:0.9140266129271256 \n",
      " precision:0.9195313198771653 \n",
      " recall:0.9085874208278097 \n",
      ", 'Validation':  best_epoch_indx:34\n",
      " auc:0.9273471233516164 \n",
      " apur:0.9264053351151587 \n",
      " f1:0.8618606524365687 \n",
      " precision:0.8729942888224096 \n",
      " recall:0.8510074231177094 \n",
      ", 'Test':  best_epoch_indx:34\n",
      " auc:0.929023218605331 \n",
      " apur:0.9279839804212265 \n",
      " f1:0.862281218219772 \n",
      " precision:0.8704344067430301 \n",
      " recall:0.8542793509385938 \n",
      "}\n",
      "=====Epoch 35\n",
      "Training...\n"
     ]
    },
    {
     "name": "stderr",
     "output_type": "stream",
     "text": [
      "Iteration: 100%|██████████| 214/214 [00:09<00:00, 21.70it/s]\n",
      "Iteration: 100%|██████████| 214/214 [00:17<00:00, 12.27it/s]\n",
      "Iteration:  93%|█████████▎| 200/214 [00:16<00:01, 11.79it/s]"
     ]
    },
    {
     "name": "stdout",
     "output_type": "stream",
     "text": [
      "Evaluating...\n"
     ]
    },
    {
     "name": "stderr",
     "output_type": "stream",
     "text": [
      "Iteration: 100%|██████████| 214/214 [00:17<00:00, 12.32it/s]\n",
      "Iteration:  62%|██████▏   | 132/214 [00:10<00:06, 12.32it/s]"
     ]
    },
    {
     "name": "stdout",
     "output_type": "stream",
     "text": [
      "Evaluating...\n"
     ]
    },
    {
     "name": "stderr",
     "output_type": "stream",
     "text": [
      "Iteration: 100%|██████████| 214/214 [00:17<00:00, 12.25it/s]\n",
      "Iteration:   1%|▏         | 3/214 [00:00<00:09, 21.57it/s]s]"
     ]
    },
    {
     "name": "stdout",
     "output_type": "stream",
     "text": [
      "Evaluating...\n"
     ]
    },
    {
     "name": "stderr",
     "output_type": "stream",
     "text": [
      "Iteration: 100%|██████████| 60/60 [00:02<00:00, 21.87it/s]s]\n",
      "Iteration: 100%|██████████| 24/24 [00:01<00:00, 21.01it/s]]]\n",
      "Iteration:  74%|███████▍  | 158/214 [00:12<00:04, 12.31it/s]"
     ]
    },
    {
     "name": "stdout",
     "output_type": "stream",
     "text": [
      "{'Train':  best_epoch_indx:34\n",
      " auc:0.9636406451810645 \n",
      " apur:0.9652773285780113 \n",
      " f1:0.9074533017999518 \n",
      " precision:0.8737591360314171 \n",
      " recall:0.9438503461481809 \n",
      ", 'Validation':  best_epoch_indx:34\n",
      " auc:0.9284105813676193 \n",
      " apur:0.930078116121177 \n",
      " f1:0.8646939807789582 \n",
      " precision:0.8266441005802708 \n",
      " recall:0.9064156945917285 \n",
      ", 'Test':  best_epoch_indx:34\n",
      " auc:0.925767077645521 \n",
      " apur:0.9224093693912409 \n",
      " f1:0.8663655280921687 \n",
      " precision:0.8307377846992408 \n",
      " recall:0.9051861279032771 \n",
      "}\n",
      "=====Epoch 35\n",
      "Training...\n"
     ]
    },
    {
     "name": "stderr",
     "output_type": "stream",
     "text": [
      "Iteration: 100%|██████████| 214/214 [00:17<00:00, 12.21it/s]\n",
      "Iteration:  61%|██████    | 130/214 [00:06<00:04, 17.59it/s]"
     ]
    },
    {
     "name": "stdout",
     "output_type": "stream",
     "text": [
      "Evaluating...\n"
     ]
    },
    {
     "name": "stderr",
     "output_type": "stream",
     "text": [
      "Iteration: 100%|██████████| 214/214 [00:09<00:00, 22.26it/s]\n",
      "Iteration: 100%|██████████| 214/214 [00:09<00:00, 22.36it/s]\n",
      "Iteration: 100%|██████████| 214/214 [00:10<00:00, 20.19it/s]\n",
      "Iteration: 100%|██████████| 60/60 [00:02<00:00, 22.46it/s]s]\n",
      "Iteration: 100%|██████████| 60/60 [00:02<00:00, 22.75it/s]s]\n",
      "Iteration: 100%|██████████| 24/24 [00:01<00:00, 22.12it/s]s]\n",
      "Iteration:  67%|██████▋   | 144/214 [00:11<00:05, 12.32it/s]"
     ]
    },
    {
     "name": "stdout",
     "output_type": "stream",
     "text": [
      "{'Train':  best_epoch_indx:36\n",
      " auc:0.9766003017253437 \n",
      " apur:0.9777300200685309 \n",
      " f1:0.926575848533826 \n",
      " precision:0.9081496987355379 \n",
      " recall:0.945765208425394 \n",
      ", 'Validation':  best_epoch_indx:36\n",
      " auc:0.9346795054341483 \n",
      " apur:0.9308695631158258 \n",
      " f1:0.8787564766839377 \n",
      " precision:0.8591691995947315 \n",
      " recall:0.8992576882290562 \n",
      ", 'Test':  best_epoch_indx:36\n",
      " auc:0.9350545721658996 \n",
      " apur:0.9331348745441201 \n",
      " f1:0.8759677838399585 \n",
      " precision:0.8587000814995925 \n",
      " recall:0.8939442146569095 \n",
      "}\n",
      "=====Epoch 37\n",
      "Training...\n"
     ]
    },
    {
     "name": "stderr",
     "output_type": "stream",
     "text": [
      "Iteration: 100%|██████████| 24/24 [00:01<00:00, 22.60it/s]s]\n",
      "Iteration:  71%|███████   | 152/214 [00:12<00:05, 12.01it/s]"
     ]
    },
    {
     "name": "stdout",
     "output_type": "stream",
     "text": [
      "{'Train':  best_epoch_indx:36\n",
      " auc:0.9777454367634038 \n",
      " apur:0.9788761617214576 \n",
      " f1:0.9285683294042781 \n",
      " precision:0.9120404568441389 \n",
      " recall:0.9457062895860952 \n",
      ", 'Validation':  best_epoch_indx:36\n",
      " auc:0.9372424202255858 \n",
      " apur:0.9367631411316801 \n",
      " f1:0.877580163572634 \n",
      " precision:0.8598321037903841 \n",
      " recall:0.8960763520678685 \n",
      ", 'Test':  best_epoch_indx:36\n",
      " auc:0.9360260021891132 \n",
      " apur:0.9343899825700523 \n",
      " f1:0.8759952125722018 \n",
      " precision:0.859930527176134 \n",
      " recall:0.8926715452327925 \n",
      "}\n",
      "=====Epoch 37\n",
      "Training...\n"
     ]
    },
    {
     "name": "stderr",
     "output_type": "stream",
     "text": [
      "Iteration: 100%|██████████| 60/60 [00:03<00:00, 19.95it/s]]]\n",
      "Iteration: 100%|██████████| 24/24 [00:01<00:00, 18.92it/s]]]\n",
      "Iteration: 100%|██████████| 214/214 [00:09<00:00, 22.24it/s]\n",
      "Iteration:  17%|█▋        | 36/214 [00:02<00:14, 12.39it/s]]"
     ]
    },
    {
     "name": "stdout",
     "output_type": "stream",
     "text": [
      "{'Train':  best_epoch_indx:36\n",
      " auc:0.9789523332449835 \n",
      " apur:0.980114728083283 \n",
      " f1:0.9304513742225848 \n",
      " precision:0.9201451905626135 \n",
      " recall:0.9409910440725902 \n",
      ", 'Validation':  best_epoch_indx:36\n",
      " auc:0.9369626421326622 \n",
      " apur:0.9351354015815136 \n",
      " f1:0.879801411026914 \n",
      " precision:0.8673364245234415 \n",
      " recall:0.8926299045599152 \n",
      ", 'Test':  best_epoch_indx:36\n",
      " auc:0.9374639662332064 \n",
      " apur:0.9367431714084121 \n",
      " f1:0.8772298006295908 \n",
      " precision:0.8681204569055037 \n",
      " recall:0.8865323435843054 \n",
      "}\n",
      "=====Epoch 37\n",
      "Training...\n"
     ]
    },
    {
     "name": "stderr",
     "output_type": "stream",
     "text": [
      "Iteration: 100%|██████████| 214/214 [00:17<00:00, 12.30it/s]\n",
      "Iteration:  17%|█▋        | 37/214 [00:03<00:14, 11.95it/s]"
     ]
    },
    {
     "name": "stdout",
     "output_type": "stream",
     "text": [
      "Evaluating...\n"
     ]
    },
    {
     "name": "stderr",
     "output_type": "stream",
     "text": [
      "Iteration: 100%|██████████| 60/60 [00:03<00:00, 19.10it/s]]\n",
      "Iteration: 100%|██████████| 24/24 [00:01<00:00, 20.20it/s]]\n",
      "Iteration:  42%|████▏     | 90/214 [00:07<00:10, 12.07it/s]"
     ]
    },
    {
     "name": "stdout",
     "output_type": "stream",
     "text": [
      "{'Train':  best_epoch_indx:35\n",
      " auc:0.9730337337568777 \n",
      " apur:0.973997098545972 \n",
      " f1:0.9205326460481099 \n",
      " precision:0.8955286251567071 \n",
      " recall:0.9469730446310207 \n",
      ", 'Validation':  best_epoch_indx:35\n",
      " auc:0.9318755803274696 \n",
      " apur:0.9311344283301131 \n",
      " f1:0.8748393729118479 \n",
      " precision:0.8488778054862843 \n",
      " recall:0.9024390243902439 \n",
      ", 'Test':  best_epoch_indx:35\n",
      " auc:0.9318785613050646 \n",
      " apur:0.9305261705360486 \n",
      " f1:0.8747115236678805 \n",
      " precision:0.8468718967229394 \n",
      " recall:0.9044437374058755 \n",
      "}\n",
      "=====Epoch 36\n",
      "Training...\n"
     ]
    },
    {
     "name": "stderr",
     "output_type": "stream",
     "text": [
      "Iteration: 100%|██████████| 214/214 [00:09<00:00, 22.30it/s]\n",
      "Iteration: 100%|██████████| 214/214 [00:17<00:00, 12.16it/s]\n",
      "Iteration:   0%|          | 0/214 [00:00<?, ?it/s]"
     ]
    },
    {
     "name": "stdout",
     "output_type": "stream",
     "text": [
      "Evaluating...\n"
     ]
    },
    {
     "name": "stderr",
     "output_type": "stream",
     "text": [
      "Iteration: 100%|██████████| 214/214 [00:17<00:00, 12.19it/s]\n",
      "Iteration:   7%|▋         | 15/214 [00:00<00:09, 21.50it/s]"
     ]
    },
    {
     "name": "stdout",
     "output_type": "stream",
     "text": [
      "Evaluating...\n"
     ]
    },
    {
     "name": "stderr",
     "output_type": "stream",
     "text": [
      "Iteration: 100%|██████████| 60/60 [00:03<00:00, 19.44it/s]s]\n",
      "Iteration: 100%|██████████| 214/214 [00:17<00:00, 12.19it/s]\n",
      "Iteration:   1%|▏         | 3/214 [00:00<00:09, 21.23it/s]]]"
     ]
    },
    {
     "name": "stdout",
     "output_type": "stream",
     "text": [
      "Evaluating...\n"
     ]
    },
    {
     "name": "stderr",
     "output_type": "stream",
     "text": [
      "\r",
      "Iteration:  24%|██▍       | 51/214 [00:02<00:07, 22.10it/s]\r",
      "Iteration:  28%|██▊       | 60/214 [00:03<00:08, 18.82it/s]\r",
      "Iteration: 100%|██████████| 24/24 [00:01<00:00, 22.56it/s]\r",
      "Iteration: 100%|██████████| 24/24 [00:01<00:00, 22.37it/s]\n",
      "\r",
      "Iteration:  72%|███████▏  | 154/214 [00:12<00:04, 12.40it/s]\r",
      "Iteration:   0%|          | 0/214 [00:00<?, ?it/s]\r",
      "Iteration:   3%|▎         | 6/214 [00:00<00:09, 21.42it/s]\r",
      "Iteration:  25%|██▌       | 54/214 [00:02<00:07, 22.07it/s]\r",
      "Iteration:  29%|██▉       | 63/214 [00:03<00:07, 19.18it/s]"
     ]
    },
    {
     "name": "stdout",
     "output_type": "stream",
     "text": [
      "{'Train':  best_epoch_indx:35\n",
      " auc:0.9682219246194986 \n",
      " apur:0.9695359164537786 \n",
      " f1:0.9124886586472327 \n",
      " precision:0.9065980400709529 \n",
      " recall:0.9184563264103697 \n",
      ", 'Validation':  best_epoch_indx:35\n",
      " auc:0.9331241564638966 \n",
      " apur:0.9346407467600454 \n",
      " f1:0.8711882229232387 \n",
      " precision:0.8639207507820647 \n",
      " recall:0.8785790031813362 \n",
      ", 'Test':  best_epoch_indx:35\n",
      " auc:0.9314316934774676 \n",
      " apur:0.9287275832401349 \n",
      " f1:0.86738993048241 \n",
      " precision:0.8614917878439168 \n",
      " recall:0.8733693923003499 \n",
      "}\n",
      "=====Epoch 36\n",
      "Training...\n"
     ]
    },
    {
     "name": "stderr",
     "output_type": "stream",
     "text": [
      "Iteration: 100%|██████████| 214/214 [00:17<00:00, 12.37it/s]\n",
      "Iteration:  28%|██▊       | 60/214 [00:04<00:12, 12.53it/s]]"
     ]
    },
    {
     "name": "stdout",
     "output_type": "stream",
     "text": [
      "Evaluating...\n"
     ]
    },
    {
     "name": "stderr",
     "output_type": "stream",
     "text": [
      "Iteration: 100%|██████████| 214/214 [00:10<00:00, 20.94it/s]\n",
      "Iteration: 100%|██████████| 214/214 [00:09<00:00, 22.16it/s]\n",
      "Iteration: 100%|██████████| 214/214 [00:09<00:00, 22.01it/s]\n",
      "Iteration: 100%|██████████| 60/60 [00:02<00:00, 22.06it/s]s]\n",
      "Iteration: 100%|██████████| 60/60 [00:02<00:00, 22.66it/s]s]\n",
      "Iteration: 100%|██████████| 24/24 [00:01<00:00, 22.05it/s]s]\n",
      "Iteration: 100%|██████████| 24/24 [00:01<00:00, 20.80it/s]s]\n",
      "Iteration:  70%|███████   | 150/214 [00:12<00:05, 12.54it/s]"
     ]
    },
    {
     "name": "stdout",
     "output_type": "stream",
     "text": [
      "{'Train':  best_epoch_indx:37\n",
      " auc:0.982722834459181 \n",
      " apur:0.9836588196854061 \n",
      " f1:0.9374405780566648 \n",
      " precision:0.9309453256638196 \n",
      " recall:0.9440271026660775 \n",
      ", 'Validation':  best_epoch_indx:37\n",
      " auc:0.93803870562239 \n",
      " apur:0.9336453852183646 \n",
      " f1:0.8749670271696122 \n",
      " precision:0.8706036745406824 \n",
      " recall:0.879374337221633 \n",
      ", 'Test':  best_epoch_indx:37\n",
      " auc:0.9400999994785391 \n",
      " apur:0.9385032376092364 \n",
      " f1:0.8792137799852056 \n",
      " precision:0.8760661261450985 \n",
      " recall:0.8823841340545127 \n",
      "}\n",
      "=====Epoch 38\n",
      "Training...\n",
      "{'Train':  best_epoch_indx:37\n",
      " auc:0.9813873690197972 \n",
      " apur:0.9826986488944656 \n",
      " f1:0.9351776044584249 \n",
      " precision:0.9124901894831259 \n",
      " recall:0.9590219472676388 \n",
      ", 'Validation':  best_epoch_indx:37\n",
      " auc:0.9407792466017546 \n",
      " apur:0.9402842742257356 \n",
      " f1:0.8838883888388839 \n",
      " precision:0.8581772784019975 \n",
      " recall:0.91118769883351 \n",
      ", 'Test':  best_epoch_indx:37\n",
      " auc:0.9379399285315942 \n",
      " apur:0.9364598047389605 \n",
      " f1:0.8795547080348399 \n",
      " precision:0.8555243633446962 \n",
      " recall:0.9049740163325909 \n",
      "}\n",
      "=====Epoch 38\n",
      "Training...\n"
     ]
    },
    {
     "name": "stderr",
     "output_type": "stream",
     "text": [
      "Iteration: 100%|██████████| 60/60 [00:02<00:00, 22.31it/s]]]\n",
      "Iteration: 100%|██████████| 24/24 [00:01<00:00, 21.91it/s]s]\n",
      "Iteration:  11%|█         | 24/214 [00:02<00:22,  8.32it/s]"
     ]
    },
    {
     "name": "stdout",
     "output_type": "stream",
     "text": [
      "{'Train':  best_epoch_indx:37\n",
      " auc:0.9825187861582325 \n",
      " apur:0.9836010271723674 \n",
      " f1:0.9356870424222941 \n",
      " precision:0.9283208165395657 \n",
      " recall:0.9431711053499883 \n",
      ", 'Validation':  best_epoch_indx:37\n",
      " auc:0.9376944334862268 \n",
      " apur:0.9341688687674494 \n",
      " f1:0.8810803723613478 \n",
      " precision:0.8715953307392996 \n",
      " recall:0.8907741251325557 \n",
      ", 'Test':  best_epoch_indx:37\n",
      " auc:0.9393944424238033 \n",
      " apur:0.9387781337200323 \n",
      " f1:0.8781335580366547 \n",
      " precision:0.8722536095417451 \n",
      " recall:0.8840933191940615 \n",
      "}\n",
      "=====Epoch 38\n",
      "Training...\n"
     ]
    },
    {
     "name": "stderr",
     "output_type": "stream",
     "text": [
      "Iteration: 100%|██████████| 214/214 [00:09<00:00, 21.72it/s]\n",
      "Iteration: 100%|██████████| 214/214 [00:17<00:00, 12.38it/s]\n",
      "Iteration:  28%|██▊       | 60/214 [00:05<00:12, 12.62it/s]"
     ]
    },
    {
     "name": "stdout",
     "output_type": "stream",
     "text": [
      "Evaluating...\n"
     ]
    },
    {
     "name": "stderr",
     "output_type": "stream",
     "text": [
      "Iteration: 100%|██████████| 60/60 [00:02<00:00, 21.12it/s]]\n",
      "Iteration: 100%|██████████| 24/24 [00:01<00:00, 19.00it/s]]\n",
      "Iteration:  44%|████▍     | 94/214 [00:07<00:09, 12.49it/s]"
     ]
    },
    {
     "name": "stdout",
     "output_type": "stream",
     "text": [
      "{'Train':  best_epoch_indx:36\n",
      " auc:0.9786051767504976 \n",
      " apur:0.9796964723168502 \n",
      " f1:0.9304173797024103 \n",
      " precision:0.9162786711988345 \n",
      " recall:0.9449992635145088 \n",
      ", 'Validation':  best_epoch_indx:36\n",
      " auc:0.9356681630447468 \n",
      " apur:0.9333711083590639 \n",
      " f1:0.8748363445928254 \n",
      " precision:0.8642007242628039 \n",
      " recall:0.8857370095440085 \n",
      ", 'Test':  best_epoch_indx:36\n",
      " auc:0.9367649484107109 \n",
      " apur:0.9364026226641786 \n",
      " f1:0.8768066788416384 \n",
      " precision:0.8629827444535744 \n",
      " recall:0.8910807084526461 \n",
      "}\n",
      "=====Epoch 37\n",
      "Training...\n"
     ]
    },
    {
     "name": "stderr",
     "output_type": "stream",
     "text": [
      "Iteration: 100%|██████████| 214/214 [00:09<00:00, 21.90it/s]\n",
      "Iteration: 100%|██████████| 214/214 [00:17<00:00, 11.93it/s]\n",
      "Iteration:  77%|███████▋  | 46/60 [00:02<00:00, 21.49it/s]s]"
     ]
    },
    {
     "name": "stdout",
     "output_type": "stream",
     "text": [
      "Evaluating...\n"
     ]
    },
    {
     "name": "stderr",
     "output_type": "stream",
     "text": [
      "\r",
      "Iteration:   1%|▏         | 3/214 [00:00<00:09, 21.24it/s]\r",
      "Iteration:  58%|█████▊    | 124/214 [00:10<00:07, 12.40it/s]\r",
      "Iteration:  87%|████████▋ | 186/214 [00:15<00:02, 11.91it/s]\r",
      "Iteration: 100%|██████████| 214/214 [00:18<00:00, 12.69it/s]\r",
      "Iteration: 100%|██████████| 214/214 [00:18<00:00, 11.85it/s]\n",
      "\r",
      "Iteration:   0%|          | 0/214 [00:00<?, ?it/s]\r",
      "Iteration:  82%|████████▏ | 49/60 [00:02<00:00, 21.84it/s]\r",
      "Iteration:   3%|▎         | 6/214 [00:00<00:09, 21.69it/s]\r",
      "Iteration:  59%|█████▉    | 126/214 [00:10<00:07, 12.40it/s]"
     ]
    },
    {
     "name": "stdout",
     "output_type": "stream",
     "text": [
      "Evaluating...\n"
     ]
    },
    {
     "name": "stderr",
     "output_type": "stream",
     "text": [
      "Iteration: 100%|██████████| 60/60 [00:02<00:00, 20.91it/s]]]\n",
      "Iteration: 100%|██████████| 24/24 [00:01<00:00, 20.40it/s]s]\n",
      "Iteration:  24%|██▍       | 51/214 [00:02<00:07, 22.08it/s]]"
     ]
    },
    {
     "name": "stdout",
     "output_type": "stream",
     "text": [
      "{'Train':  best_epoch_indx:36\n",
      " auc:0.9738653495621903 \n",
      " apur:0.974450390128423 \n",
      " f1:0.9232132738605489 \n",
      " precision:0.9108136001376068 \n",
      " recall:0.9359552216821329 \n",
      ", 'Validation':  best_epoch_indx:36\n",
      " auc:0.937981862071065 \n",
      " apur:0.9364759171583475 \n",
      " f1:0.8777110007839038 \n",
      " precision:0.8652756311179804 \n",
      " recall:0.8905090137857901 \n",
      ", 'Test':  best_epoch_indx:36\n",
      " auc:0.9377626085866618 \n",
      " apur:0.9339672485934863 \n",
      " f1:0.8779928016274583 \n",
      " precision:0.8638883186204065 \n",
      " recall:0.8925654894474494 \n",
      "}\n",
      "=====Epoch 37\n",
      "Training...\n",
      "Evaluating...\n"
     ]
    },
    {
     "name": "stderr",
     "output_type": "stream",
     "text": [
      "Iteration: 100%|██████████| 214/214 [00:17<00:00, 11.92it/s]\n",
      "Iteration: 100%|██████████| 214/214 [00:17<00:00, 12.14it/s]\n",
      "Iteration:  75%|███████▍  | 160/214 [00:07<00:02, 21.90it/s]"
     ]
    },
    {
     "name": "stdout",
     "output_type": "stream",
     "text": [
      "Evaluating...\n"
     ]
    },
    {
     "name": "stderr",
     "output_type": "stream",
     "text": [
      "Iteration: 100%|██████████| 214/214 [00:09<00:00, 21.92it/s]\n",
      "Iteration: 100%|██████████| 214/214 [00:10<00:00, 20.79it/s]\n",
      "Iteration: 100%|██████████| 214/214 [00:09<00:00, 21.87it/s]\n",
      "Iteration: 100%|██████████| 60/60 [00:02<00:00, 20.65it/s]s]\n",
      "Iteration: 100%|██████████| 60/60 [00:02<00:00, 22.35it/s]s]\n",
      "Iteration: 100%|██████████| 60/60 [00:02<00:00, 22.29it/s]s]\n",
      "Iteration: 100%|██████████| 214/214 [00:09<00:00, 22.21it/s]\n",
      "Iteration: 100%|██████████| 214/214 [00:17<00:00, 12.40it/s]\n",
      "Iteration:  65%|██████▌   | 39/60 [00:01<00:00, 22.32it/s]"
     ]
    },
    {
     "name": "stdout",
     "output_type": "stream",
     "text": [
      "Evaluating...\n"
     ]
    },
    {
     "name": "stderr",
     "output_type": "stream",
     "text": [
      "Iteration: 100%|██████████| 60/60 [00:02<00:00, 22.44it/s]]\n",
      "Iteration: 100%|██████████| 214/214 [00:09<00:00, 21.68it/s]\n",
      "Iteration: 100%|██████████| 24/24 [00:01<00:00, 21.15it/s]\n",
      "Iteration:  75%|███████▌  | 45/60 [00:02<00:00, 22.27it/s]"
     ]
    },
    {
     "name": "stdout",
     "output_type": "stream",
     "text": [
      "{'Train':  best_epoch_indx:38\n",
      " auc:0.9868173130057953 \n",
      " apur:0.9875032233655168 \n",
      " f1:0.9455760382169339 \n",
      " precision:0.9407236784558416 \n",
      " recall:0.9504787155693033 \n",
      ", 'Validation':  best_epoch_indx:38\n",
      " auc:0.942330631586558 \n",
      " apur:0.9388343712031387 \n",
      " f1:0.8803272199498614 \n",
      " precision:0.876280535855004 \n",
      " recall:0.8844114528101803 \n",
      ", 'Test':  best_epoch_indx:38\n",
      " auc:0.9430853829257748 \n",
      " apur:0.9417189213329448 \n",
      " f1:0.8823187179351564 \n",
      " precision:0.8800379826967715 \n",
      " recall:0.8846113055467175 \n",
      "}\n",
      "=====Epoch 39\n",
      "Training...\n"
     ]
    },
    {
     "name": "stderr",
     "output_type": "stream",
     "text": [
      "\r",
      "Iteration:  96%|█████████▌| 23/24 [00:01<00:00, 21.25it/s]\r",
      "Iteration:   1%|          | 2/214 [00:00<00:18, 11.69it/s]\r",
      "Iteration:  80%|████████  | 48/60 [00:02<00:00, 22.28it/s]\r",
      "Iteration: 100%|██████████| 24/24 [00:01<00:00, 21.10it/s]\n",
      "\r",
      "Iteration:   0%|          | 0/214 [00:00<?, ?it/s]\r",
      "Iteration:  85%|████████▌ | 51/60 [00:02<00:00, 22.26it/s]\r",
      "Iteration:   2%|▏         | 4/214 [00:00<00:17, 11.90it/s]"
     ]
    },
    {
     "name": "stdout",
     "output_type": "stream",
     "text": [
      "{'Train':  best_epoch_indx:38\n",
      " auc:0.9851411313632956 \n",
      " apur:0.986150191258415 \n",
      " f1:0.9417244681777287 \n",
      " precision:0.9279361720380909 \n",
      " recall:0.9559287082044484 \n",
      ", 'Validation':  best_epoch_indx:38\n",
      " auc:0.9431582324684022 \n",
      " apur:0.9421504261378719 \n",
      " f1:0.8853868194842406 \n",
      " precision:0.8701996927803379 \n",
      " recall:0.9011134676564156 \n",
      ", 'Test':  best_epoch_indx:38\n",
      " auc:0.9416378882517085 \n",
      " apur:0.9398724836635624 \n",
      " f1:0.883601756954612 \n",
      " precision:0.8714801444043321 \n",
      " recall:0.8960653303637713 \n",
      "}\n",
      "=====Epoch 39\n",
      "Training...\n"
     ]
    },
    {
     "name": "stderr",
     "output_type": "stream",
     "text": [
      "Iteration: 100%|██████████| 60/60 [00:02<00:00, 22.24it/s]\n",
      "Iteration: 100%|██████████| 24/24 [00:01<00:00, 22.06it/s]]\n",
      "Iteration:  83%|████████▎ | 20/24 [00:00<00:00, 21.55it/s]]"
     ]
    },
    {
     "name": "stdout",
     "output_type": "stream",
     "text": [
      "{'Train':  best_epoch_indx:37\n",
      " auc:0.9790560701328012 \n",
      " apur:0.9802355800993738 \n",
      " f1:0.9305876706949958 \n",
      " precision:0.918921247630536 \n",
      " recall:0.9425541316836058 \n",
      ", 'Validation':  best_epoch_indx:37\n",
      " auc:0.9409091067650326 \n",
      " apur:0.9406623731478243 \n",
      " f1:0.8771929824561403 \n",
      " precision:0.8665287118468702 \n",
      " recall:0.8881230116648993 \n",
      ", 'Test':  best_epoch_indx:37\n",
      " auc:0.9400703748640685 \n",
      " apur:0.936026549366942 \n",
      " f1:0.8814640522875817 \n",
      " precision:0.8693275577557755 \n",
      " recall:0.8939442146569095 \n",
      "}\n",
      "=====Epoch 38\n",
      "Training...\n"
     ]
    },
    {
     "name": "stderr",
     "output_type": "stream",
     "text": [
      "\r",
      "Iteration:  11%|█         | 24/214 [00:01<00:15, 12.18it/s]\r",
      "Iteration:   1%|          | 2/214 [00:00<00:17, 12.19it/s]\r",
      "Iteration:  96%|█████████▌| 23/24 [00:01<00:00, 21.68it/s]\r",
      "Iteration:  13%|█▎        | 28/214 [00:02<00:15, 12.13it/s]\r",
      "Iteration: 100%|██████████| 24/24 [00:01<00:00, 21.47it/s]\n",
      "\r",
      "Iteration:  12%|█▏        | 26/214 [00:02<00:15, 12.30it/s]\r",
      "Iteration:   0%|          | 0/214 [00:00<?, ?it/s]\r",
      "Iteration:   2%|▏         | 4/214 [00:00<00:17, 12.30it/s]"
     ]
    },
    {
     "name": "stdout",
     "output_type": "stream",
     "text": [
      "{'Train':  best_epoch_indx:38\n",
      " auc:0.9861767690865954 \n",
      " apur:0.9870366492857701 \n",
      " f1:0.9444985111482315 \n",
      " precision:0.9315492392768115 \n",
      " recall:0.9578128682535941 \n",
      ", 'Validation':  best_epoch_indx:38\n",
      " auc:0.9438604524905244 \n",
      " apur:0.9418088449322054 \n",
      " f1:0.8850619699934769 \n",
      " precision:0.8713074749550476 \n",
      " recall:0.8992576882290562 \n",
      ", 'Test':  best_epoch_indx:38\n",
      " auc:0.9449003664683086 \n",
      " apur:0.9439270457614678 \n",
      " f1:0.8865677877585126 \n",
      " precision:0.8734307470672978 \n",
      " recall:0.9001060445387062 \n",
      "}\n",
      "=====Epoch 39\n",
      "Training...\n"
     ]
    },
    {
     "name": "stderr",
     "output_type": "stream",
     "text": [
      "Iteration: 100%|██████████| 24/24 [00:01<00:00, 19.21it/s]]\n",
      "Iteration:  42%|████▏     | 90/214 [00:07<00:10, 11.83it/s]"
     ]
    },
    {
     "name": "stdout",
     "output_type": "stream",
     "text": [
      "{'Train':  best_epoch_indx:37\n",
      " auc:0.9817726986986904 \n",
      " apur:0.982723410440312 \n",
      " f1:0.9354843406473407 \n",
      " precision:0.9248330262551819 \n",
      " recall:0.9463838562380321 \n",
      ", 'Validation':  best_epoch_indx:37\n",
      " auc:0.9368693695550695 \n",
      " apur:0.935609489087653 \n",
      " f1:0.8777355523522473 \n",
      " precision:0.8678414096916299 \n",
      " recall:0.8878579003181336 \n",
      ", 'Test':  best_epoch_indx:37\n",
      " auc:0.9401760817816965 \n",
      " apur:0.9397980838832634 \n",
      " f1:0.8804615788093365 \n",
      " precision:0.8710045662100456 \n",
      " recall:0.8901262063845583 \n",
      "}\n",
      "=====Epoch 38\n",
      "Training...\n"
     ]
    },
    {
     "name": "stderr",
     "output_type": "stream",
     "text": [
      "Iteration: 100%|██████████| 214/214 [00:17<00:00, 12.26it/s]\n",
      "Iteration: 100%|██████████| 214/214 [00:17<00:00, 12.36it/s]\n",
      "Iteration:  87%|████████▋ | 186/214 [00:15<00:02, 12.43it/s]"
     ]
    },
    {
     "name": "stdout",
     "output_type": "stream",
     "text": [
      "Evaluating...\n",
      "Evaluating...\n"
     ]
    },
    {
     "name": "stderr",
     "output_type": "stream",
     "text": [
      "Iteration: 100%|██████████| 214/214 [00:17<00:00, 12.20it/s]\n",
      "Iteration:   1%|▏         | 3/214 [00:00<00:09, 21.32it/s]]]"
     ]
    },
    {
     "name": "stdout",
     "output_type": "stream",
     "text": [
      "Evaluating...\n"
     ]
    },
    {
     "name": "stderr",
     "output_type": "stream",
     "text": [
      "\r",
      "Iteration:  70%|███████   | 150/214 [00:12<00:05, 12.50it/s]\r",
      "Iteration: 100%|██████████| 214/214 [00:17<00:00, 12.56it/s]\r",
      "Iteration: 100%|██████████| 214/214 [00:17<00:00, 12.26it/s]\n",
      "\r",
      "Iteration:   0%|          | 0/214 [00:00<?, ?it/s]\r",
      "Iteration:  24%|██▍       | 51/214 [00:02<00:07, 21.74it/s]\r",
      "Iteration:  25%|██▌       | 54/214 [00:02<00:07, 21.71it/s]\r",
      "Iteration:   3%|▎         | 6/214 [00:00<00:09, 21.75it/s]\r",
      "Iteration:  71%|███████   | 152/214 [00:12<00:04, 12.49it/s]\r",
      "Iteration:   1%|▏         | 3/214 [00:00<00:10, 20.99it/s]\r",
      "Iteration:  25%|██▌       | 54/214 [00:02<00:07, 21.80it/s]\r",
      "Iteration:  27%|██▋       | 57/214 [00:02<00:07, 21.71it/s]"
     ]
    },
    {
     "name": "stdout",
     "output_type": "stream",
     "text": [
      "Evaluating...\n"
     ]
    },
    {
     "name": "stderr",
     "output_type": "stream",
     "text": [
      "Iteration: 100%|██████████| 214/214 [00:17<00:00, 12.22it/s]\n",
      "Iteration:  52%|█████▏    | 111/214 [00:05<00:04, 22.09it/s]"
     ]
    },
    {
     "name": "stdout",
     "output_type": "stream",
     "text": [
      "Evaluating...\n"
     ]
    },
    {
     "name": "stderr",
     "output_type": "stream",
     "text": [
      "Iteration: 100%|██████████| 214/214 [00:10<00:00, 20.94it/s]\n",
      "Iteration: 100%|██████████| 214/214 [00:10<00:00, 21.04it/s]\n",
      "Iteration: 100%|██████████| 214/214 [00:09<00:00, 22.15it/s]\n",
      "Iteration: 100%|██████████| 214/214 [00:10<00:00, 21.04it/s]\n",
      "Iteration: 100%|██████████| 60/60 [00:02<00:00, 22.34it/s]s]\n",
      "Iteration: 100%|██████████| 60/60 [00:02<00:00, 22.53it/s]\n",
      "Iteration: 100%|██████████| 60/60 [00:02<00:00, 22.69it/s]s]\n",
      "Iteration: 100%|██████████| 60/60 [00:02<00:00, 22.33it/s]s]\n",
      "Iteration: 100%|██████████| 214/214 [00:09<00:00, 21.98it/s]\n",
      "Iteration: 100%|██████████| 60/60 [00:02<00:00, 22.26it/s]\n",
      "Iteration: 100%|██████████| 24/24 [00:01<00:00, 21.23it/s]\n",
      "Iteration:  83%|████████▎ | 20/24 [00:00<00:00, 21.31it/s]"
     ]
    },
    {
     "name": "stdout",
     "output_type": "stream",
     "text": [
      "{'Train':  best_epoch_indx:39\n",
      " auc:0.9895888712600601 \n",
      " apur:0.9901791366708593 \n",
      " f1:0.9529767793749636 \n",
      " precision:0.9414436427401041 \n",
      " recall:0.9647959935189276 \n",
      ", 'Validation':  best_epoch_indx:39\n",
      " auc:0.9445095947474971 \n",
      " apur:0.9415697600381566 \n",
      " f1:0.8872651356993737 \n",
      " precision:0.8735868448098664 \n",
      " recall:0.9013785790031813 \n",
      ", 'Test':  best_epoch_indx:39\n",
      " auc:0.945934628249224 \n",
      " apur:0.9446460662779892 \n",
      " f1:0.8875131164742917 \n",
      " precision:0.8782057937908836 \n",
      " recall:0.8970198324318591 \n",
      "}\n",
      "=====Epoch 40\n",
      "Training...\n"
     ]
    },
    {
     "name": "stderr",
     "output_type": "stream",
     "text": [
      "\r",
      "Iteration:   1%|          | 2/214 [00:00<00:18, 11.67it/s]\r",
      "Iteration:  96%|█████████▌| 23/24 [00:01<00:00, 21.44it/s]\r",
      "Iteration: 100%|██████████| 24/24 [00:01<00:00, 21.34it/s]\n",
      "\r",
      "Iteration:   0%|          | 0/214 [00:00<?, ?it/s]\r",
      "Iteration:   2%|▏         | 4/214 [00:00<00:17, 11.88it/s]\r",
      "Iteration:   0%|          | 0/24 [00:00<?, ?it/s]"
     ]
    },
    {
     "name": "stdout",
     "output_type": "stream",
     "text": [
      "{'Train':  best_epoch_indx:39\n",
      " auc:0.9875445977034517 \n",
      " apur:0.9884471329648077 \n",
      " f1:0.9467337555304937 \n",
      " precision:0.9296362552176506 \n",
      " recall:0.9644719399027839 \n",
      ", 'Validation':  best_epoch_indx:39\n",
      " auc:0.9451041925647048 \n",
      " apur:0.9436390466317177 \n",
      " f1:0.8870217166494312 \n",
      " precision:0.865539858728557 \n",
      " recall:0.9095970307529162 \n",
      ", 'Test':  best_epoch_indx:39\n",
      " auc:0.9437324519539383 \n",
      " apur:0.9415929852005284 \n",
      " f1:0.8865657668903105 \n",
      " precision:0.8698714023270055 \n",
      " recall:0.90391345847916 \n",
      "}\n",
      "=====Epoch 40\n",
      "Training...\n"
     ]
    },
    {
     "name": "stderr",
     "output_type": "stream",
     "text": [
      "Iteration: 100%|██████████| 24/24 [00:01<00:00, 19.89it/s]]\n",
      "Iteration:  10%|█         | 22/214 [00:01<00:15, 12.27it/s]"
     ]
    },
    {
     "name": "stdout",
     "output_type": "stream",
     "text": [
      "{'Train':  best_epoch_indx:38\n",
      " auc:0.9830209968210473 \n",
      " apur:0.9838919286459011 \n",
      " f1:0.9380097642951308 \n",
      " precision:0.9228094179351234 \n",
      " recall:0.9537192517307409 \n",
      ", 'Validation':  best_epoch_indx:38\n",
      " auc:0.9438064630087221 \n",
      " apur:0.9440984388322723 \n",
      " f1:0.8873038516405135 \n",
      " precision:0.8684945417618685 \n",
      " recall:0.9069459172852599 \n",
      ", 'Test':  best_epoch_indx:38\n",
      " auc:0.942494149171268 \n",
      " apur:0.938521709429117 \n",
      " f1:0.8840692775784053 \n",
      " precision:0.8674219228413962 \n",
      " recall:0.9013681196309259 \n",
      "}\n",
      "=====Epoch 39\n",
      "Training...\n"
     ]
    },
    {
     "name": "stderr",
     "output_type": "stream",
     "text": [
      "Iteration: 100%|██████████| 24/24 [00:01<00:00, 21.14it/s]]\n",
      "Iteration:   0%|          | 0/214 [00:00<?, ?it/s]2.33it/s]"
     ]
    },
    {
     "name": "stdout",
     "output_type": "stream",
     "text": [
      "{'Train':  best_epoch_indx:39\n",
      " auc:0.9885604049154267 \n",
      " apur:0.9892899141867286 \n",
      " f1:0.9499744693267197 \n",
      " precision:0.9409554637149216 \n",
      " recall:0.9591680414800848 \n",
      ", 'Validation':  best_epoch_indx:39\n",
      " auc:0.9461754992718951 \n",
      " apur:0.9435154830300517 \n",
      " f1:0.8895005898545026 \n",
      " precision:0.8796992481203008 \n",
      " recall:0.8995227995758218 \n",
      ", 'Test':  best_epoch_indx:39\n",
      " auc:0.9469462369792874 \n",
      " apur:0.9456813799259141 \n",
      " f1:0.8881067451145199 \n",
      " precision:0.8799708515511139 \n",
      " recall:0.8963944856839873 \n",
      "}\n",
      "=====Epoch 40\n",
      "Training...\n"
     ]
    },
    {
     "name": "stderr",
     "output_type": "stream",
     "text": [
      "Iteration: 100%|██████████| 24/24 [00:01<00:00, 21.28it/s]]\n",
      "Iteration:  39%|███▉      | 84/214 [00:06<00:10, 12.62it/s]"
     ]
    },
    {
     "name": "stdout",
     "output_type": "stream",
     "text": [
      "{'Train':  best_epoch_indx:38\n",
      " auc:0.9848700575188953 \n",
      " apur:0.9856496791655107 \n",
      " f1:0.9415891948780916 \n",
      " precision:0.9344590477848377 \n",
      " recall:0.948828988068935 \n",
      ", 'Validation':  best_epoch_indx:38\n",
      " auc:0.9398522686047279 \n",
      " apur:0.9390608063493683 \n",
      " f1:0.8812978106040623 \n",
      " precision:0.8769028871391076 \n",
      " recall:0.8857370095440085 \n",
      ", 'Test':  best_epoch_indx:38\n",
      " auc:0.9420230572381552 \n",
      " apur:0.9415644591037962 \n",
      " f1:0.882387113810404 \n",
      " precision:0.878813381022512 \n",
      " recall:0.8859900307561778 \n",
      "}\n",
      "=====Epoch 39\n",
      "Training...\n"
     ]
    },
    {
     "name": "stderr",
     "output_type": "stream",
     "text": [
      "Iteration: 100%|██████████| 214/214 [00:17<00:00, 12.09it/s]\n",
      "Iteration: 100%|██████████| 214/214 [00:17<00:00, 12.24it/s]\n",
      "Iteration:   1%|          | 2/214 [00:00<00:11, 18.61it/s]s]"
     ]
    },
    {
     "name": "stdout",
     "output_type": "stream",
     "text": [
      "Evaluating...\n",
      "Evaluating...\n"
     ]
    },
    {
     "name": "stderr",
     "output_type": "stream",
     "text": [
      "Iteration: 100%|██████████| 214/214 [00:17<00:00, 12.18it/s]\n",
      "Iteration:   0%|          | 0/214 [00:00<?, ?it/s]12.50it/s]"
     ]
    },
    {
     "name": "stdout",
     "output_type": "stream",
     "text": [
      "Evaluating...\n"
     ]
    },
    {
     "name": "stderr",
     "output_type": "stream",
     "text": [
      "Iteration: 100%|██████████| 214/214 [00:17<00:00, 12.10it/s]\n",
      "Iteration:  27%|██▋       | 57/214 [00:02<00:07, 22.03it/s]"
     ]
    },
    {
     "name": "stdout",
     "output_type": "stream",
     "text": [
      "Evaluating...\n"
     ]
    },
    {
     "name": "stderr",
     "output_type": "stream",
     "text": [
      "Iteration: 100%|██████████| 214/214 [00:17<00:00, 12.14it/s]\n",
      "Iteration:  71%|███████▏  | 153/214 [00:07<00:02, 21.83it/s]"
     ]
    },
    {
     "name": "stdout",
     "output_type": "stream",
     "text": [
      "Evaluating...\n"
     ]
    },
    {
     "name": "stderr",
     "output_type": "stream",
     "text": [
      "Iteration: 100%|██████████| 214/214 [00:09<00:00, 22.23it/s]\n",
      "Iteration: 100%|██████████| 214/214 [00:09<00:00, 21.77it/s]\n",
      "Iteration: 100%|██████████| 214/214 [00:10<00:00, 20.65it/s]\n",
      "Iteration: 100%|██████████| 214/214 [00:09<00:00, 22.00it/s]\n",
      "Iteration: 100%|██████████| 60/60 [00:02<00:00, 22.16it/s]s]\n",
      "Iteration: 100%|██████████| 60/60 [00:02<00:00, 22.24it/s]s]\n",
      "Iteration: 100%|██████████| 24/24 [00:01<00:00, 22.11it/s]s]\n",
      "Iteration:  55%|█████▌    | 33/60 [00:01<00:01, 22.16it/s]s]"
     ]
    },
    {
     "name": "stdout",
     "output_type": "stream",
     "text": [
      "{'Train':  best_epoch_indx:40\n",
      " auc:0.9871181644300993 \n",
      " apur:0.9880303314610722 \n",
      " f1:0.9458361839328083 \n",
      " precision:0.93482764573862 \n",
      " recall:0.9571070849904257 \n",
      ", 'Validation':  best_epoch_indx:40\n",
      " auc:0.9437746322055742 \n",
      " apur:0.9431572039083533 \n",
      " f1:0.8816699282452707 \n",
      " precision:0.8679681479578731 \n",
      " recall:0.8958112407211029 \n",
      ", 'Test':  best_epoch_indx:40\n",
      " auc:0.9431909521729004 \n",
      " apur:0.9414621104355381 \n",
      " f1:0.8844136773652191 \n",
      " precision:0.8747795414462081 \n",
      " recall:0.8942623820129388 \n",
      "}\n",
      "=====Epoch 41\n",
      "Training...\n"
     ]
    },
    {
     "name": "stderr",
     "output_type": "stream",
     "text": [
      "\r",
      "Iteration:  79%|███████▊  | 168/214 [00:07<00:02, 21.99it/s]\r",
      "Iteration:  80%|████████  | 48/60 [00:02<00:00, 22.62it/s]\r",
      "Iteration:  88%|████████▊ | 21/24 [00:00<00:00, 20.89it/s]\r",
      "Iteration:   1%|          | 2/214 [00:00<00:17, 12.39it/s]\r",
      "Iteration:  60%|██████    | 36/60 [00:01<00:01, 22.21it/s]\r",
      "Iteration:  85%|████████▌ | 51/60 [00:02<00:00, 22.66it/s]\r",
      "Iteration:  80%|███████▉  | 171/214 [00:07<00:01, 22.01it/s]\r",
      "Iteration: 100%|██████████| 24/24 [00:01<00:00, 21.30it/s]\r",
      "Iteration: 100%|██████████| 24/24 [00:01<00:00, 21.59it/s]\n",
      "\r",
      "Iteration:  65%|██████▌   | 39/60 [00:01<00:00, 22.28it/s]\r",
      "Iteration:   2%|▏         | 4/214 [00:00<00:16, 12.37it/s]"
     ]
    },
    {
     "name": "stdout",
     "output_type": "stream",
     "text": [
      "{'Train':  best_epoch_indx:40\n",
      " auc:0.9889807899769256 \n",
      " apur:0.9896091779878498 \n",
      " f1:0.9509214918008997 \n",
      " precision:0.937051337051337 \n",
      " recall:0.9652084253940197 \n",
      ", 'Validation':  best_epoch_indx:40\n",
      " auc:0.9430281344659973 \n",
      " apur:0.9385576501608538 \n",
      " f1:0.8861056751467711 \n",
      " precision:0.8723349601849474 \n",
      " recall:0.9003181336161188 \n",
      ", 'Test':  best_epoch_indx:40\n",
      " auc:0.9446192079017054 \n",
      " apur:0.9425087976404248 \n",
      " f1:0.8886917497260345 \n",
      " precision:0.8747688514485309 \n",
      " recall:0.9030650121964153 \n",
      "}\n",
      "=====Epoch 41\n",
      "Training...\n"
     ]
    },
    {
     "name": "stderr",
     "output_type": "stream",
     "text": [
      "Iteration: 100%|██████████| 60/60 [00:02<00:00, 22.63it/s]s]\n",
      "Iteration: 100%|██████████| 60/60 [00:02<00:00, 22.37it/s]s]\n",
      "Iteration: 100%|██████████| 24/24 [00:01<00:00, 22.30it/s]s]\n",
      "Iteration: 100%|██████████| 214/214 [00:10<00:00, 21.20it/s]\n",
      "Iteration:  13%|█▎        | 28/214 [00:02<00:15, 12.06it/s]"
     ]
    },
    {
     "name": "stdout",
     "output_type": "stream",
     "text": [
      "{'Train':  best_epoch_indx:40\n",
      " auc:0.9884192461361553 \n",
      " apur:0.9892442269277216 \n",
      " f1:0.9488998262883613 \n",
      " precision:0.9328039617486339 \n",
      " recall:0.965560923874617 \n",
      ", 'Validation':  best_epoch_indx:40\n",
      " auc:0.9436505198211957 \n",
      " apur:0.9405671537827671 \n",
      " f1:0.8892621785760435 \n",
      " precision:0.8674061003277036 \n",
      " recall:0.9122481442205727 \n",
      ", 'Test':  best_epoch_indx:40\n",
      " auc:0.9446935231639254 \n",
      " apur:0.9433111545160886 \n",
      " f1:0.8878863306367973 \n",
      " precision:0.8687842500507408 \n",
      " recall:0.9078472958642629 \n",
      "}\n",
      "=====Epoch 41\n",
      "Training...\n"
     ]
    },
    {
     "name": "stderr",
     "output_type": "stream",
     "text": [
      "Iteration: 100%|██████████| 60/60 [00:02<00:00, 22.77it/s]]\n",
      "Iteration: 100%|██████████| 214/214 [00:17<00:00, 12.35it/s]\n",
      "Iteration:  83%|████████▎ | 178/214 [00:14<00:02, 12.32it/s]"
     ]
    },
    {
     "name": "stdout",
     "output_type": "stream",
     "text": [
      "Evaluating...\n"
     ]
    },
    {
     "name": "stderr",
     "output_type": "stream",
     "text": [
      "Iteration: 100%|██████████| 214/214 [00:17<00:00, 12.19it/s]\n",
      "Iteration:   1%|▏         | 3/214 [00:00<00:09, 21.26it/s]]]"
     ]
    },
    {
     "name": "stdout",
     "output_type": "stream",
     "text": [
      "Evaluating...\n"
     ]
    },
    {
     "name": "stderr",
     "output_type": "stream",
     "text": [
      "Iteration: 100%|██████████| 24/24 [00:01<00:00, 19.59it/s]]]\n",
      "Iteration:   1%|          | 2/214 [00:00<00:18, 11.22it/s]]]"
     ]
    },
    {
     "name": "stdout",
     "output_type": "stream",
     "text": [
      "{'Train':  best_epoch_indx:39\n",
      " auc:0.9857888866762183 \n",
      " apur:0.9865636371096498 \n",
      " f1:0.943618627337127 \n",
      " precision:0.9301433763557794 \n",
      " recall:0.9574900574458683 \n",
      ", 'Validation':  best_epoch_indx:39\n",
      " auc:0.9458206829344402 \n",
      " apur:0.9453983668895272 \n",
      " f1:0.8863606643128024 \n",
      " precision:0.8745806451612903 \n",
      " recall:0.8984623541887593 \n",
      ", 'Test':  best_epoch_indx:39\n",
      " auc:0.9452468676753637 \n",
      " apur:0.9417229297503934 \n",
      " f1:0.8879373368146215 \n",
      " precision:0.8746013784590063 \n",
      " recall:0.9016862869869552 \n",
      "}\n",
      "=====Epoch 40\n",
      "Training...\n"
     ]
    },
    {
     "name": "stderr",
     "output_type": "stream",
     "text": [
      "\r",
      "Iteration:  28%|██▊       | 60/214 [00:02<00:06, 22.25it/s]\r",
      "Iteration:  99%|█████████▉| 212/214 [00:17<00:00, 12.40it/s]\r",
      "Iteration:  22%|██▏       | 48/214 [00:02<00:07, 21.81it/s]\r",
      "Iteration:  29%|██▉       | 63/214 [00:02<00:06, 22.26it/s]\r",
      "Iteration:   2%|▏         | 4/214 [00:00<00:18, 11.63it/s]\r",
      "Iteration: 100%|██████████| 214/214 [00:17<00:00, 12.94it/s]\r",
      "Iteration: 100%|██████████| 214/214 [00:17<00:00, 12.15it/s]\n",
      "\r",
      "Iteration:   0%|          | 0/214 [00:00<?, ?it/s]\r",
      "Iteration:  24%|██▍       | 51/214 [00:02<00:07, 21.89it/s]"
     ]
    },
    {
     "name": "stdout",
     "output_type": "stream",
     "text": [
      "Evaluating...\n"
     ]
    },
    {
     "name": "stderr",
     "output_type": "stream",
     "text": [
      "Iteration: 100%|██████████| 24/24 [00:01<00:00, 19.64it/s]s]\n",
      "Iteration:  27%|██▋       | 58/214 [00:04<00:12, 12.53it/s]]"
     ]
    },
    {
     "name": "stdout",
     "output_type": "stream",
     "text": [
      "{'Train':  best_epoch_indx:39\n",
      " auc:0.9883896407743192 \n",
      " apur:0.9889751413583645 \n",
      " f1:0.9501034050857825 \n",
      " precision:0.9395397067718985 \n",
      " recall:0.9609073501252026 \n",
      ", 'Validation':  best_epoch_indx:39\n",
      " auc:0.9434987784582443 \n",
      " apur:0.9414688126374269 \n",
      " f1:0.8862827777045724 \n",
      " precision:0.8810584228451663 \n",
      " recall:0.8915694591728526 \n",
      ", 'Test':  best_epoch_indx:39\n",
      " auc:0.9454745894905314 \n",
      " apur:0.9446115968903515 \n",
      " f1:0.887624466571835 \n",
      " precision:0.8819095477386935 \n",
      " recall:0.8934139357301941 \n",
      "}\n",
      "=====Epoch 40\n",
      "Training...\n"
     ]
    },
    {
     "name": "stderr",
     "output_type": "stream",
     "text": [
      "Iteration: 100%|██████████| 214/214 [00:09<00:00, 22.14it/s]\n",
      "Iteration: 100%|██████████| 214/214 [00:09<00:00, 21.55it/s]\n",
      "Iteration: 100%|██████████| 214/214 [00:09<00:00, 22.11it/s]\n",
      "Iteration: 100%|██████████| 60/60 [00:03<00:00, 19.49it/s]s]\n",
      "Iteration: 100%|██████████| 60/60 [00:03<00:00, 19.20it/s]]]\n",
      "Iteration: 100%|██████████| 24/24 [00:01<00:00, 20.53it/s]s]\n",
      "Iteration:  50%|█████     | 30/60 [00:01<00:01, 15.84it/s]]]"
     ]
    },
    {
     "name": "stdout",
     "output_type": "stream",
     "text": [
      "{'Train':  best_epoch_indx:41\n",
      " auc:0.9851668067932244 \n",
      " apur:0.9862906001932459 \n",
      " f1:0.942275067063003 \n",
      " precision:0.927812678469446 \n",
      " recall:0.957195463249374 \n",
      ", 'Validation':  best_epoch_indx:41\n",
      " auc:0.9414734990131263 \n",
      " apur:0.9415438749159523 \n",
      " f1:0.8801449650530675 \n",
      " precision:0.8598887202832575 \n",
      " recall:0.9013785790031813 \n",
      ", 'Test':  best_epoch_indx:41\n",
      " auc:0.9405161516871751 \n",
      " apur:0.9397061496056269 \n",
      " f1:0.8810007818608288 \n",
      " precision:0.8662361623616236 \n",
      " recall:0.8962774419344576 \n",
      "}\n",
      "=====Epoch 42\n",
      "Training...\n"
     ]
    },
    {
     "name": "stderr",
     "output_type": "stream",
     "text": [
      "Iteration: 100%|██████████| 24/24 [00:01<00:00, 22.24it/s]s]\n",
      "Iteration:  85%|████████▌ | 51/60 [00:02<00:00, 21.95it/s]]]"
     ]
    },
    {
     "name": "stdout",
     "output_type": "stream",
     "text": [
      "{'Train':  best_epoch_indx:41\n",
      " auc:0.9874379029180707 \n",
      " apur:0.9881631850199301 \n",
      " f1:0.9469946226428769 \n",
      " precision:0.9320931294225063 \n",
      " recall:0.9623803211076741 \n",
      ", 'Validation':  best_epoch_indx:41\n",
      " auc:0.9414007202403 \n",
      " apur:0.9380397262664312 \n",
      " f1:0.8830629461388708 \n",
      " precision:0.8649885583524027 \n",
      " recall:0.9019088016967126 \n",
      ", 'Test':  best_epoch_indx:41\n",
      " auc:0.9428558576016032 \n",
      " apur:0.9413730183893054 \n",
      " f1:0.8864640166276955 \n",
      " precision:0.8689894050529747 \n",
      " recall:0.9046558489765617 \n",
      "}\n",
      "=====Epoch 42\n",
      "Training...\n"
     ]
    },
    {
     "name": "stderr",
     "output_type": "stream",
     "text": [
      "Iteration: 100%|██████████| 60/60 [00:03<00:00, 19.88it/s]s]\n",
      "Iteration: 100%|██████████| 24/24 [00:01<00:00, 22.43it/s]s]\n",
      "Iteration:  17%|█▋        | 36/214 [00:02<00:14, 12.47it/s]]"
     ]
    },
    {
     "name": "stdout",
     "output_type": "stream",
     "text": [
      "{'Train':  best_epoch_indx:41\n",
      " auc:0.9867644957046813 \n",
      " apur:0.9877005693128716 \n",
      " f1:0.9451338803398838 \n",
      " precision:0.9368451519536903 \n",
      " recall:0.9535705868489276 \n",
      ", 'Validation':  best_epoch_indx:41\n",
      " auc:0.9412578582047522 \n",
      " apur:0.9386953126049142 \n",
      " f1:0.8800839674626082 \n",
      " precision:0.8711688311688311 \n",
      " recall:0.8891834570519618 \n",
      ", 'Test':  best_epoch_indx:41\n",
      " auc:0.941698034528731 \n",
      " apur:0.9399566897695089 \n",
      " f1:0.8839360807401176 \n",
      " precision:0.8763810715030227 \n",
      " recall:0.8916224814422057 \n",
      "}\n",
      "=====Epoch 42\n",
      "Training...\n"
     ]
    },
    {
     "name": "stderr",
     "output_type": "stream",
     "text": [
      "Iteration: 100%|██████████| 214/214 [00:17<00:00, 12.49it/s]\n",
      "Iteration:   1%|▏         | 3/214 [00:00<00:10, 20.74it/s]s]"
     ]
    },
    {
     "name": "stdout",
     "output_type": "stream",
     "text": [
      "Evaluating...\n"
     ]
    },
    {
     "name": "stderr",
     "output_type": "stream",
     "text": [
      "Iteration: 100%|██████████| 214/214 [00:17<00:00, 12.29it/s]\n",
      "Iteration:  51%|█████▏    | 110/214 [00:09<00:08, 12.46it/s]"
     ]
    },
    {
     "name": "stdout",
     "output_type": "stream",
     "text": [
      "Evaluating...\n"
     ]
    },
    {
     "name": "stderr",
     "output_type": "stream",
     "text": [
      "Iteration: 100%|██████████| 214/214 [00:09<00:00, 21.59it/s]\n",
      "Iteration: 100%|██████████| 214/214 [00:17<00:00, 12.50it/s]\n",
      "Iteration:  79%|███████▊  | 168/214 [00:07<00:02, 22.19it/s]"
     ]
    },
    {
     "name": "stdout",
     "output_type": "stream",
     "text": [
      "Evaluating...\n"
     ]
    },
    {
     "name": "stderr",
     "output_type": "stream",
     "text": [
      "Iteration: 100%|██████████| 60/60 [00:02<00:00, 22.07it/s]s]\n",
      "Iteration: 100%|██████████| 214/214 [00:17<00:00, 12.28it/s]\n",
      "Iteration:   0%|          | 0/24 [00:00<?, ?it/s]]"
     ]
    },
    {
     "name": "stdout",
     "output_type": "stream",
     "text": [
      "Evaluating...\n"
     ]
    },
    {
     "name": "stderr",
     "output_type": "stream",
     "text": [
      "Iteration: 100%|██████████| 214/214 [00:09<00:00, 22.10it/s]\n",
      "Iteration: 100%|██████████| 24/24 [00:01<00:00, 20.47it/s]\n",
      "Iteration:  97%|█████████▋| 208/214 [00:16<00:00, 12.45it/s]"
     ]
    },
    {
     "name": "stdout",
     "output_type": "stream",
     "text": [
      "{'Train':  best_epoch_indx:40\n",
      " auc:0.9858065080962058 \n",
      " apur:0.9866980469442204 \n",
      " f1:0.9431533889603911 \n",
      " precision:0.9262625688803044 \n",
      " recall:0.9606716747680071 \n",
      ", 'Validation':  best_epoch_indx:40\n",
      " auc:0.9451557243755295 \n",
      " apur:0.9451153097657485 \n",
      " f1:0.8841859257335757 \n",
      " precision:0.8664122137404581 \n",
      " recall:0.9027041357370096 \n",
      ", 'Test':  best_epoch_indx:40\n",
      " auc:0.9442159508916044 \n",
      " apur:0.9401894464855933 \n",
      " f1:0.8899854560565136 \n",
      " precision:0.8721368217448845 \n",
      " recall:0.908579913034256 \n",
      "}\n",
      "=====Epoch 41\n",
      "Training...\n"
     ]
    },
    {
     "name": "stderr",
     "output_type": "stream",
     "text": [
      "Iteration: 100%|██████████| 214/214 [00:17<00:00, 12.36it/s]\n",
      "Iteration:  34%|███▎      | 72/214 [00:03<00:06, 22.49it/s]"
     ]
    },
    {
     "name": "stdout",
     "output_type": "stream",
     "text": [
      "Evaluating...\n"
     ]
    },
    {
     "name": "stderr",
     "output_type": "stream",
     "text": [
      "Iteration: 100%|██████████| 60/60 [00:02<00:00, 22.53it/s]]]\n",
      "Iteration: 100%|██████████| 24/24 [00:01<00:00, 22.54it/s]s]\n",
      "Iteration:  56%|█████▌    | 120/214 [00:05<00:04, 19.60it/s]"
     ]
    },
    {
     "name": "stdout",
     "output_type": "stream",
     "text": [
      "{'Train':  best_epoch_indx:40\n",
      " auc:0.9879662666053203 \n",
      " apur:0.9886418325552464 \n",
      " f1:0.9482393800983554 \n",
      " precision:0.9395061014400555 \n",
      " recall:0.9571365444100751 \n",
      ", 'Validation':  best_epoch_indx:40\n",
      " auc:0.9424662395287362 \n",
      " apur:0.9414323316248809 \n",
      " f1:0.8854881266490765 \n",
      " precision:0.8813025210084033 \n",
      " recall:0.8897136797454931 \n",
      ", 'Test':  best_epoch_indx:40\n",
      " auc:0.9445264177857076 \n",
      " apur:0.9437673045777549 \n",
      " f1:0.8854067742956633 \n",
      " precision:0.8809448818897638 \n",
      " recall:0.8899140948138721 \n",
      "}\n",
      "=====Epoch 41\n",
      "Training...\n"
     ]
    },
    {
     "name": "stderr",
     "output_type": "stream",
     "text": [
      "Iteration: 100%|██████████| 214/214 [00:09<00:00, 22.48it/s]\n",
      "Iteration: 100%|██████████| 214/214 [00:10<00:00, 21.16it/s]\n",
      "Iteration: 100%|██████████| 60/60 [00:02<00:00, 22.93it/s]s]\n",
      "Iteration: 100%|██████████| 214/214 [00:10<00:00, 20.65it/s]\n",
      "Iteration: 100%|██████████| 24/24 [00:01<00:00, 20.26it/s]s]\n"
     ]
    },
    {
     "name": "stdout",
     "output_type": "stream",
     "text": [
      "{'Train':  best_epoch_indx:42\n",
      " auc:0.9833551905115727 \n",
      " apur:0.9844380363323412 \n",
      " f1:0.9387450056052201 \n",
      " precision:0.9165099767069851 \n",
      " recall:0.9620857269111799 \n",
      ", 'Validation':  best_epoch_indx:42\n",
      " auc:0.9395188577886924 \n",
      " apur:0.9386142268505813 \n",
      " f1:0.8836550836550836 \n",
      " precision:0.8586793396698349 \n",
      " recall:0.9101272534464475 \n",
      ", 'Test':  best_epoch_indx:42\n",
      " auc:0.938804923830126 \n",
      " apur:0.936460624747563 \n",
      " f1:0.8816837315130829 \n",
      " precision:0.8603289938439802 \n",
      " recall:0.9041255700498462 \n",
      "}\n",
      "=====Epoch 43\n",
      "Training...\n"
     ]
    },
    {
     "name": "stderr",
     "output_type": "stream",
     "text": [
      "Iteration: 100%|██████████| 60/60 [00:02<00:00, 22.61it/s]s]\n",
      "Iteration: 100%|██████████| 24/24 [00:01<00:00, 21.21it/s]s]\n",
      "Iteration:  52%|█████▏    | 112/214 [00:09<00:08, 12.46it/s]"
     ]
    },
    {
     "name": "stdout",
     "output_type": "stream",
     "text": [
      "{'Train':  best_epoch_indx:42\n",
      " auc:0.9841000175439922 \n",
      " apur:0.9850124853094524 \n",
      " f1:0.9400189214758751 \n",
      " precision:0.9289988492520138 \n",
      " recall:0.9513035793194874 \n",
      ", 'Validation':  best_epoch_indx:42\n",
      " auc:0.9374305509749502 \n",
      " apur:0.9321396520867231 \n",
      " f1:0.8784899724734565 \n",
      " precision:0.8688099559242934 \n",
      " recall:0.8883881230116649 \n",
      ", 'Test':  best_epoch_indx:42\n",
      " auc:0.9381497542453112 \n",
      " apur:0.9361501269468651 \n",
      " f1:0.8789795598306237 \n",
      " precision:0.866701030927835 \n",
      " recall:0.8916109873793615 \n",
      "}\n",
      "=====Epoch 43\n",
      "Training...\n"
     ]
    },
    {
     "name": "stderr",
     "output_type": "stream",
     "text": [
      "Iteration: 100%|██████████| 60/60 [00:02<00:00, 22.61it/s]s]\n",
      "Iteration: 100%|██████████| 24/24 [00:01<00:00, 20.59it/s]s]\n",
      "Iteration:  64%|██████▍   | 138/214 [00:11<00:06, 12.35it/s]"
     ]
    },
    {
     "name": "stdout",
     "output_type": "stream",
     "text": [
      "{'Train':  best_epoch_indx:42\n",
      " auc:0.986307752099497 \n",
      " apur:0.9872261252912862 \n",
      " f1:0.9446504046276127 \n",
      " precision:0.9254925238135617 \n",
      " recall:0.96461819467358 \n",
      ", 'Validation':  best_epoch_indx:42\n",
      " auc:0.9392287336937496 \n",
      " apur:0.9352715949227505 \n",
      " f1:0.8858282919294632 \n",
      " precision:0.8608956717538153 \n",
      " recall:0.9122481442205727 \n",
      ", 'Test':  best_epoch_indx:42\n",
      " auc:0.9406507701771651 \n",
      " apur:0.9397140505811961 \n",
      " f1:0.8845598845598845 \n",
      " precision:0.8604371365550431 \n",
      " recall:0.9100742311770944 \n",
      "}\n",
      "=====Epoch 43\n",
      "Training...\n"
     ]
    },
    {
     "name": "stderr",
     "output_type": "stream",
     "text": [
      "Iteration: 100%|██████████| 214/214 [00:17<00:00, 12.40it/s]\n",
      "Iteration:  21%|██        | 44/214 [00:03<00:14, 11.99it/s]"
     ]
    },
    {
     "name": "stdout",
     "output_type": "stream",
     "text": [
      "Evaluating...\n"
     ]
    },
    {
     "name": "stderr",
     "output_type": "stream",
     "text": [
      "Iteration: 100%|██████████| 214/214 [00:17<00:00, 12.26it/s]\n",
      "Iteration:  50%|█████     | 108/214 [00:04<00:04, 22.32it/s]"
     ]
    },
    {
     "name": "stdout",
     "output_type": "stream",
     "text": [
      "Evaluating...\n"
     ]
    },
    {
     "name": "stderr",
     "output_type": "stream",
     "text": [
      "Iteration: 100%|██████████| 214/214 [00:09<00:00, 21.82it/s]\n",
      "Iteration: 100%|██████████| 214/214 [00:17<00:00, 12.16it/s]\n",
      "Iteration:   1%|▏         | 3/214 [00:00<00:09, 21.63it/s]s]"
     ]
    },
    {
     "name": "stdout",
     "output_type": "stream",
     "text": [
      "Evaluating...\n"
     ]
    },
    {
     "name": "stderr",
     "output_type": "stream",
     "text": [
      "Iteration: 100%|██████████| 60/60 [00:03<00:00, 19.54it/s]s]\n",
      "Iteration: 100%|██████████| 214/214 [00:17<00:00, 12.14it/s]\n",
      "Iteration:  88%|████████▊ | 188/214 [00:15<00:02, 12.60it/s]"
     ]
    },
    {
     "name": "stdout",
     "output_type": "stream",
     "text": [
      "Evaluating...\n"
     ]
    },
    {
     "name": "stderr",
     "output_type": "stream",
     "text": [
      "Iteration: 100%|██████████| 214/214 [00:09<00:00, 21.84it/s]\n",
      "Iteration: 100%|██████████| 24/24 [00:01<00:00, 21.05it/s]]]\n",
      "Iteration:  31%|███       | 66/214 [00:02<00:06, 22.51it/s]]"
     ]
    },
    {
     "name": "stdout",
     "output_type": "stream",
     "text": [
      "{'Train':  best_epoch_indx:41\n",
      " auc:0.9844578302367023 \n",
      " apur:0.9852520231834702 \n",
      " f1:0.9420563986311852 \n",
      " precision:0.9238219302220209 \n",
      " recall:0.9610251878038003 \n",
      ", 'Validation':  best_epoch_indx:41\n",
      " auc:0.9422957881544698 \n",
      " apur:0.9417976756906018 \n",
      " f1:0.8813297255508311 \n",
      " precision:0.8573577337678616 \n",
      " recall:0.9066808059384942 \n",
      ", 'Test':  best_epoch_indx:41\n",
      " auc:0.9414252628940238 \n",
      " apur:0.9371846768303218 \n",
      " f1:0.8851865266207896 \n",
      " precision:0.8642149929278642 \n",
      " recall:0.9072011878247959 \n",
      "}\n",
      "=====Epoch 42\n",
      "Training...\n"
     ]
    },
    {
     "name": "stderr",
     "output_type": "stream",
     "text": [
      "Iteration: 100%|██████████| 214/214 [00:17<00:00, 12.22it/s]\n",
      "Iteration:  28%|██▊       | 17/60 [00:00<00:02, 19.76it/s]]"
     ]
    },
    {
     "name": "stdout",
     "output_type": "stream",
     "text": [
      "Evaluating...\n"
     ]
    },
    {
     "name": "stderr",
     "output_type": "stream",
     "text": [
      "Iteration: 100%|██████████| 60/60 [00:03<00:00, 17.50it/s]]]\n",
      "Iteration: 100%|██████████| 24/24 [00:01<00:00, 19.96it/s]]]\n",
      "Iteration:  31%|███       | 66/214 [00:05<00:11, 12.42it/s]]"
     ]
    },
    {
     "name": "stdout",
     "output_type": "stream",
     "text": [
      "{'Train':  best_epoch_indx:41\n",
      " auc:0.9868082957584768 \n",
      " apur:0.9875920228034354 \n",
      " f1:0.9451959764134582 \n",
      " precision:0.9277385309388033 \n",
      " recall:0.9633230225364561 \n",
      ", 'Validation':  best_epoch_indx:41\n",
      " auc:0.9412058507156738 \n",
      " apur:0.9403069795521299 \n",
      " f1:0.8870380010411244 \n",
      " precision:0.8711656441717791 \n",
      " recall:0.9034994697773064 \n",
      ", 'Test':  best_epoch_indx:41\n",
      " auc:0.9427061846253617 \n",
      " apur:0.9414799665893031 \n",
      " f1:0.8855866154006028 \n",
      " precision:0.8680859733116023 \n",
      " recall:0.903807402693817 \n",
      "}\n",
      "=====Epoch 42\n",
      "Training...\n"
     ]
    },
    {
     "name": "stderr",
     "output_type": "stream",
     "text": [
      "Iteration: 100%|██████████| 214/214 [00:09<00:00, 21.87it/s]\n",
      "Iteration: 100%|██████████| 214/214 [00:09<00:00, 22.19it/s]\n",
      "Iteration: 100%|██████████| 60/60 [00:02<00:00, 20.20it/s]s]\n",
      "Iteration: 100%|██████████| 214/214 [00:09<00:00, 22.14it/s]\n",
      "Iteration: 100%|██████████| 60/60 [00:02<00:00, 22.67it/s]s]\n",
      "Iteration: 100%|██████████| 24/24 [00:01<00:00, 21.10it/s]]]\n",
      "Iteration:  70%|███████   | 150/214 [00:12<00:05, 12.47it/s]"
     ]
    },
    {
     "name": "stdout",
     "output_type": "stream",
     "text": [
      "{'Train':  best_epoch_indx:43\n",
      " auc:0.9831817221637631 \n",
      " apur:0.9843394869504666 \n",
      " f1:0.938303044333835 \n",
      " precision:0.922000739329485 \n",
      " recall:0.9551922227132126 \n",
      ", 'Validation':  best_epoch_indx:43\n",
      " auc:0.939473470155312 \n",
      " apur:0.9391523460394411 \n",
      " f1:0.8779348813075626 \n",
      " precision:0.8595377190754382 \n",
      " recall:0.897136797454931 \n",
      ", 'Test':  best_epoch_indx:43\n",
      " auc:0.9373858758558676 \n",
      " apur:0.936429095433143 \n",
      " f1:0.8788067768423241 \n",
      " precision:0.8616121471517375 \n",
      " recall:0.8967016650758299 \n",
      "}\n",
      "=====Epoch 44\n",
      "Training...\n"
     ]
    },
    {
     "name": "stderr",
     "output_type": "stream",
     "text": [
      "Iteration: 100%|██████████| 24/24 [00:01<00:00, 19.82it/s]s]\n",
      "Iteration:   0%|          | 0/214 [00:00<?, ?it/s]12.00it/s]"
     ]
    },
    {
     "name": "stdout",
     "output_type": "stream",
     "text": [
      "{'Train':  best_epoch_indx:43\n",
      " auc:0.9813945709456265 \n",
      " apur:0.9823116073226035 \n",
      " f1:0.9354750097589892 \n",
      " precision:0.9185168360683663 \n",
      " recall:0.9530711444984534 \n",
      ", 'Validation':  best_epoch_indx:43\n",
      " auc:0.932577483230756 \n",
      " apur:0.9287987231404593 \n",
      " f1:0.8734144447320735 \n",
      " precision:0.8533131006575619 \n",
      " recall:0.8944856839872747 \n",
      ", 'Test':  best_epoch_indx:43\n",
      " auc:0.9369557353551505 \n",
      " apur:0.9356844554949821 \n",
      " f1:0.8801165028345556 \n",
      " precision:0.8635435803225148 \n",
      " recall:0.8973379997878884 \n",
      "}\n",
      "=====Epoch 44\n",
      "Training...\n"
     ]
    },
    {
     "name": "stderr",
     "output_type": "stream",
     "text": [
      "Iteration: 100%|██████████| 60/60 [00:02<00:00, 21.50it/s]s]\n",
      "Iteration: 100%|██████████| 24/24 [00:01<00:00, 22.18it/s]s]\n",
      "Iteration:  19%|█▊        | 40/214 [00:03<00:14, 11.98it/s]]"
     ]
    },
    {
     "name": "stdout",
     "output_type": "stream",
     "text": [
      "{'Train':  best_epoch_indx:43\n",
      " auc:0.9823356213846661 \n",
      " apur:0.9833913313669289 \n",
      " f1:0.9367387376886764 \n",
      " precision:0.9266401475844576 \n",
      " recall:0.9470598633042658 \n",
      ", 'Validation':  best_epoch_indx:43\n",
      " auc:0.9363927003049415 \n",
      " apur:0.9309478299638794 \n",
      " f1:0.8797699947726084 \n",
      " precision:0.8675257731958763 \n",
      " recall:0.8923647932131495 \n",
      ", 'Test':  best_epoch_indx:43\n",
      " auc:0.9366525650307764 \n",
      " apur:0.9342980948891177 \n",
      " f1:0.8793130530394262 \n",
      " precision:0.868445547626435 \n",
      " recall:0.890455991516437 \n",
      "}\n",
      "=====Epoch 44\n",
      "Training...\n"
     ]
    },
    {
     "name": "stderr",
     "output_type": "stream",
     "text": [
      "Iteration: 100%|██████████| 214/214 [00:17<00:00, 12.35it/s]\n",
      "Iteration:  69%|██████▉   | 148/214 [00:12<00:05, 11.64it/s]"
     ]
    },
    {
     "name": "stdout",
     "output_type": "stream",
     "text": [
      "Evaluating...\n"
     ]
    },
    {
     "name": "stderr",
     "output_type": "stream",
     "text": [
      "Iteration: 100%|██████████| 214/214 [00:17<00:00, 12.30it/s]\n",
      "Iteration:  60%|█████▉    | 128/214 [00:10<00:06, 12.58it/s]"
     ]
    },
    {
     "name": "stdout",
     "output_type": "stream",
     "text": [
      "Evaluating...\n"
     ]
    },
    {
     "name": "stderr",
     "output_type": "stream",
     "text": [
      "Iteration: 100%|██████████| 214/214 [00:09<00:00, 22.04it/s]\n",
      "Iteration: 100%|██████████| 214/214 [00:17<00:00, 12.13it/s]\n",
      "Iteration:   1%|▏         | 3/214 [00:00<00:09, 21.85it/s]s]"
     ]
    },
    {
     "name": "stdout",
     "output_type": "stream",
     "text": [
      "Evaluating...\n"
     ]
    },
    {
     "name": "stderr",
     "output_type": "stream",
     "text": [
      "Iteration: 100%|██████████| 60/60 [00:03<00:00, 19.88it/s]s]\n",
      "Iteration: 100%|██████████| 214/214 [00:17<00:00, 11.95it/s]\n",
      "Iteration:  18%|█▊        | 39/214 [00:01<00:07, 21.98it/s]]"
     ]
    },
    {
     "name": "stdout",
     "output_type": "stream",
     "text": [
      "Evaluating...\n"
     ]
    },
    {
     "name": "stderr",
     "output_type": "stream",
     "text": [
      "Iteration: 100%|██████████| 24/24 [00:01<00:00, 21.95it/s]]]\n",
      "Iteration:  93%|█████████▎| 200/214 [00:16<00:01, 12.53it/s]"
     ]
    },
    {
     "name": "stdout",
     "output_type": "stream",
     "text": [
      "{'Train':  best_epoch_indx:42\n",
      " auc:0.9816267622900594 \n",
      " apur:0.9828361540380748 \n",
      " f1:0.9343704565280605 \n",
      " precision:0.9224343332854887 \n",
      " recall:0.9466195315952276 \n",
      ", 'Validation':  best_epoch_indx:42\n",
      " auc:0.9392899772689218 \n",
      " apur:0.9397577971613899 \n",
      " f1:0.8806670140698281 \n",
      " precision:0.8657786885245902 \n",
      " recall:0.8960763520678685 \n",
      ", 'Test':  best_epoch_indx:42\n",
      " auc:0.9388657156152174 \n",
      " apur:0.9339932670820352 \n",
      " f1:0.8805189370161121 \n",
      " precision:0.8687932280375761 \n",
      " recall:0.8925654894474494 \n",
      "}\n",
      "=====Epoch 43\n",
      "Training...\n"
     ]
    },
    {
     "name": "stderr",
     "output_type": "stream",
     "text": [
      "Iteration: 100%|██████████| 214/214 [00:09<00:00, 21.65it/s]\n",
      "Iteration: 100%|██████████| 214/214 [00:17<00:00, 11.95it/s]\n",
      "Iteration:  15%|█▌        | 9/60 [00:00<00:02, 21.93it/s]s]"
     ]
    },
    {
     "name": "stdout",
     "output_type": "stream",
     "text": [
      "Evaluating...\n"
     ]
    },
    {
     "name": "stderr",
     "output_type": "stream",
     "text": [
      "Iteration: 100%|██████████| 60/60 [00:02<00:00, 22.52it/s]]]\n",
      "Iteration: 100%|██████████| 24/24 [00:01<00:00, 20.50it/s]]]\n",
      "Iteration:   0%|          | 0/214 [00:00<?, ?it/s]2.10it/s]]"
     ]
    },
    {
     "name": "stdout",
     "output_type": "stream",
     "text": [
      "{'Train':  best_epoch_indx:42\n",
      " auc:0.9853393926506099 \n",
      " apur:0.9859699726514588 \n",
      " f1:0.9435986409311068 \n",
      " precision:0.926519023282226 \n",
      " recall:0.9613197820002946 \n",
      ", 'Validation':  best_epoch_indx:42\n",
      " auc:0.9362628401416634 \n",
      " apur:0.9326274427234853 \n",
      " f1:0.8797197353055664 \n",
      " precision:0.8614993646759848 \n",
      " recall:0.898727465535525 \n",
      ", 'Test':  best_epoch_indx:42\n",
      " auc:0.9392472436913302 \n",
      " apur:0.9371082078974322 \n",
      " f1:0.8817851582771147 \n",
      " precision:0.8633268976730007 \n",
      " recall:0.9010499522748966 \n",
      "}\n",
      "=====Epoch 43\n",
      "Training...\n"
     ]
    },
    {
     "name": "stderr",
     "output_type": "stream",
     "text": [
      "Iteration: 100%|██████████| 214/214 [00:10<00:00, 21.28it/s]\n",
      "Iteration: 100%|██████████| 214/214 [00:09<00:00, 21.73it/s]\n",
      "Iteration: 100%|██████████| 60/60 [00:02<00:00, 22.39it/s]s]\n",
      "Iteration: 100%|██████████| 214/214 [00:09<00:00, 22.12it/s]\n",
      "Iteration: 100%|██████████| 24/24 [00:01<00:00, 19.86it/s]]]\n",
      "Iteration: 100%|██████████| 60/60 [00:02<00:00, 21.18it/s]\n",
      "Iteration:  35%|███▌      | 21/60 [00:00<00:01, 22.49it/s]]]"
     ]
    },
    {
     "name": "stdout",
     "output_type": "stream",
     "text": [
      "{'Train':  best_epoch_indx:44\n",
      " auc:0.9779012048886973 \n",
      " apur:0.9794748696466122 \n",
      " f1:0.9275219377764884 \n",
      " precision:0.9135428571428571 \n",
      " recall:0.9419354838709677 \n",
      ", 'Validation':  best_epoch_indx:44\n",
      " auc:0.9335902418728783 \n",
      " apur:0.9325269513117571 \n",
      " f1:0.8726378462334972 \n",
      " precision:0.8525543753161355 \n",
      " recall:0.8936903499469777 \n",
      ", 'Test':  best_epoch_indx:44\n",
      " auc:0.9328681911805227 \n",
      " apur:0.9304450105653989 \n",
      " f1:0.8718349484213815 \n",
      " precision:0.8568356374807987 \n",
      " recall:0.8873687559656379 \n",
      "}\n",
      "=====Epoch 45\n",
      "Training...\n"
     ]
    },
    {
     "name": "stderr",
     "output_type": "stream",
     "text": [
      "Iteration: 100%|██████████| 24/24 [00:01<00:00, 21.35it/s]]]\n",
      "Iteration:  51%|█████▏    | 110/214 [00:08<00:08, 12.36it/s]"
     ]
    },
    {
     "name": "stdout",
     "output_type": "stream",
     "text": [
      "{'Train':  best_epoch_indx:44\n",
      " auc:0.9787167234038251 \n",
      " apur:0.9800776004568406 \n",
      " f1:0.9305069550883485 \n",
      " precision:0.9137534433305882 \n",
      " recall:0.9478862866401532 \n",
      ", 'Validation':  best_epoch_indx:44\n",
      " auc:0.9308914020204276 \n",
      " apur:0.9307209970641037 \n",
      " f1:0.8693734595926839 \n",
      " precision:0.8511557023114046 \n",
      " recall:0.8883881230116649 \n",
      ", 'Test':  best_epoch_indx:44\n",
      " auc:0.933982690614847 \n",
      " apur:0.933690991635643 \n",
      " f1:0.8760184752711608 \n",
      " precision:0.8577235772357723 \n",
      " recall:0.8951108282956836 \n",
      "}\n",
      "=====Epoch 45\n",
      "Training...\n"
     ]
    },
    {
     "name": "stderr",
     "output_type": "stream",
     "text": [
      "Iteration: 100%|██████████| 60/60 [00:02<00:00, 22.32it/s]s]\n",
      "Iteration: 100%|██████████| 24/24 [00:01<00:00, 22.50it/s]s]\n",
      "Iteration:  91%|█████████ | 194/214 [00:15<00:01, 12.16it/s]"
     ]
    },
    {
     "name": "stdout",
     "output_type": "stream",
     "text": [
      "{'Train':  best_epoch_indx:44\n",
      " auc:0.9799052548538553 \n",
      " apur:0.980545021835453 \n",
      " f1:0.9349038698367165 \n",
      " precision:0.9198050004276307 \n",
      " recall:0.9505067169455574 \n",
      ", 'Validation':  best_epoch_indx:44\n",
      " auc:0.9363415252528071 \n",
      " apur:0.934260951907891 \n",
      " f1:0.8787839417955048 \n",
      " precision:0.861656050955414 \n",
      " recall:0.8966065747613998 \n",
      ", 'Test':  best_epoch_indx:44\n",
      " auc:0.9383837081893812 \n",
      " apur:0.9376366245456578 \n",
      " f1:0.8812942155638784 \n",
      " precision:0.8649172963038595 \n",
      " recall:0.8983032873806999 \n",
      "}\n",
      "=====Epoch 45\n",
      "Training...\n"
     ]
    },
    {
     "name": "stderr",
     "output_type": "stream",
     "text": [
      "Iteration: 100%|██████████| 214/214 [00:17<00:00, 12.40it/s]\n",
      "Iteration:  70%|███████   | 150/214 [00:12<00:05, 11.93it/s]"
     ]
    },
    {
     "name": "stdout",
     "output_type": "stream",
     "text": [
      "Evaluating...\n"
     ]
    },
    {
     "name": "stderr",
     "output_type": "stream",
     "text": [
      "Iteration: 100%|██████████| 214/214 [00:17<00:00, 12.25it/s]\n",
      "Iteration:  55%|█████▍    | 117/214 [00:05<00:04, 22.26it/s]"
     ]
    },
    {
     "name": "stdout",
     "output_type": "stream",
     "text": [
      "Evaluating...\n"
     ]
    },
    {
     "name": "stderr",
     "output_type": "stream",
     "text": [
      "Iteration: 100%|██████████| 214/214 [00:09<00:00, 22.02it/s]\n",
      "Iteration: 100%|██████████| 214/214 [00:17<00:00, 12.28it/s]\n",
      "Iteration:  80%|████████  | 172/214 [00:14<00:03, 12.23it/s]"
     ]
    },
    {
     "name": "stdout",
     "output_type": "stream",
     "text": [
      "Evaluating...\n"
     ]
    },
    {
     "name": "stderr",
     "output_type": "stream",
     "text": [
      "Iteration: 100%|██████████| 60/60 [00:02<00:00, 22.56it/s]s]\n",
      "Iteration: 100%|██████████| 214/214 [00:17<00:00, 12.22it/s]\n",
      "Iteration:  90%|████████▉ | 192/214 [00:15<00:01, 12.39it/s]"
     ]
    },
    {
     "name": "stdout",
     "output_type": "stream",
     "text": [
      "Evaluating...\n"
     ]
    },
    {
     "name": "stderr",
     "output_type": "stream",
     "text": [
      "Iteration: 100%|██████████| 24/24 [00:01<00:00, 20.87it/s]]]\n",
      "Iteration:  98%|█████████▊| 210/214 [00:09<00:00, 22.23it/s]"
     ]
    },
    {
     "name": "stdout",
     "output_type": "stream",
     "text": [
      "{'Train':  best_epoch_indx:43\n",
      " auc:0.9779348271375506 \n",
      " apur:0.9790868087017905 \n",
      " f1:0.9286803467956258 \n",
      " precision:0.9157930915964942 \n",
      " recall:0.9419354838709677 \n",
      ", 'Validation':  best_epoch_indx:43\n",
      " auc:0.936227917429866 \n",
      " apur:0.9364943723494595 \n",
      " f1:0.8790721918165233 \n",
      " precision:0.8644284982060482 \n",
      " recall:0.894220572640509 \n",
      ", 'Test':  best_epoch_indx:43\n",
      " auc:0.9342827102175361 \n",
      " apur:0.9292959135921675 \n",
      " f1:0.8767438215162757 \n",
      " precision:0.8640576725025747 \n",
      " recall:0.889808039028529 \n",
      "}\n",
      "=====Epoch 44\n",
      "Training...\n"
     ]
    },
    {
     "name": "stderr",
     "output_type": "stream",
     "text": [
      "Iteration: 100%|██████████| 214/214 [00:09<00:00, 22.18it/s]\n",
      "Iteration: 100%|██████████| 214/214 [00:17<00:00, 12.18it/s]\n",
      "Iteration:   0%|          | 0/214 [00:00<?, ?it/s]"
     ]
    },
    {
     "name": "stdout",
     "output_type": "stream",
     "text": [
      "Evaluating...\n"
     ]
    },
    {
     "name": "stderr",
     "output_type": "stream",
     "text": [
      "Iteration: 100%|██████████| 60/60 [00:02<00:00, 21.08it/s]s]\n",
      "Iteration: 100%|██████████| 24/24 [00:01<00:00, 20.33it/s]s]\n",
      "Iteration:   0%|          | 0/214 [00:00<?, ?it/s]21.87it/s]"
     ]
    },
    {
     "name": "stdout",
     "output_type": "stream",
     "text": [
      "{'Train':  best_epoch_indx:43\n",
      " auc:0.9819523606315373 \n",
      " apur:0.9828598527222104 \n",
      " f1:0.9361586057395523 \n",
      " precision:0.9129984318996416 \n",
      " recall:0.96052437766976 \n",
      ", 'Validation':  best_epoch_indx:43\n",
      " auc:0.93733517748507 \n",
      " apur:0.9342227107135761 \n",
      " f1:0.8835227272727273 \n",
      " precision:0.8612789526686808 \n",
      " recall:0.9069459172852599 \n",
      ", 'Test':  best_epoch_indx:43\n",
      " auc:0.936682177959578 \n",
      " apur:0.9350970710716957 \n",
      " f1:0.8817746667352927 \n",
      " precision:0.8566 \n",
      " recall:0.9084738572489129 \n",
      "}\n",
      "=====Epoch 44\n",
      "Training...\n"
     ]
    },
    {
     "name": "stderr",
     "output_type": "stream",
     "text": [
      "Iteration: 100%|██████████| 214/214 [00:10<00:00, 21.40it/s]\n",
      "Iteration: 100%|██████████| 214/214 [00:10<00:00, 19.65it/s]\n",
      "Iteration: 100%|██████████| 60/60 [00:02<00:00, 22.58it/s]]]\n",
      "Iteration: 100%|██████████| 214/214 [00:10<00:00, 20.92it/s]\n",
      "Iteration: 100%|██████████| 24/24 [00:01<00:00, 21.10it/s]]]\n",
      "Iteration:  20%|██        | 12/60 [00:00<00:02, 22.43it/s]]]"
     ]
    },
    {
     "name": "stdout",
     "output_type": "stream",
     "text": [
      "{'Train':  best_epoch_indx:45\n",
      " auc:0.9798748514046178 \n",
      " apur:0.9813720307882543 \n",
      " f1:0.9314339926402944 \n",
      " precision:0.9094966734974596 \n",
      " recall:0.9544557372219767 \n",
      ", 'Validation':  best_epoch_indx:45\n",
      " auc:0.9362415931796617 \n",
      " apur:0.936383271288496 \n",
      " f1:0.8781426372498717 \n",
      " precision:0.8506461232604374 \n",
      " recall:0.9074761399787911 \n",
      ", 'Test':  best_epoch_indx:45\n",
      " auc:0.9351214770069534 \n",
      " apur:0.9333907373804173 \n",
      " f1:0.8781995158881393 \n",
      " precision:0.8536243492190628 \n",
      " recall:0.9042316258351893 \n",
      "}\n",
      "=====Epoch 46\n",
      "Training...\n"
     ]
    },
    {
     "name": "stderr",
     "output_type": "stream",
     "text": [
      "Iteration: 100%|██████████| 60/60 [00:03<00:00, 19.94it/s]s]\n",
      "Iteration: 100%|██████████| 60/60 [00:02<00:00, 22.58it/s]s]\n",
      "Iteration: 100%|██████████| 24/24 [00:01<00:00, 19.91it/s]s]\n",
      "Iteration:  50%|█████     | 12/24 [00:00<00:00, 21.88it/s]s]"
     ]
    },
    {
     "name": "stdout",
     "output_type": "stream",
     "text": [
      "{'Train':  best_epoch_indx:45\n",
      " auc:0.9808586698903172 \n",
      " apur:0.9819014921761822 \n",
      " f1:0.9326951399116347 \n",
      " precision:0.9325577970843764 \n",
      " recall:0.932832523199293 \n",
      ", 'Validation':  best_epoch_indx:45\n",
      " auc:0.9323442026871384 \n",
      " apur:0.9291435636535779 \n",
      " f1:0.8714457348818582 \n",
      " precision:0.8776552836784082 \n",
      " recall:0.865323435843054 \n",
      ", 'Test':  best_epoch_indx:45\n",
      " auc:0.935516027117547 \n",
      " apur:0.9340493063822892 \n",
      " f1:0.8740023411727147 \n",
      " precision:0.8769887880405766 \n",
      " recall:0.871036165022802 \n",
      "}\n",
      "=====Epoch 46\n",
      "Training...\n"
     ]
    },
    {
     "name": "stderr",
     "output_type": "stream",
     "text": [
      "Iteration: 100%|██████████| 24/24 [00:01<00:00, 22.04it/s]]]\n",
      "Iteration:  93%|█████████▎| 200/214 [00:16<00:01, 12.45it/s]"
     ]
    },
    {
     "name": "stdout",
     "output_type": "stream",
     "text": [
      "{'Train':  best_epoch_indx:45\n",
      " auc:0.9820908063463264 \n",
      " apur:0.9831536537554258 \n",
      " f1:0.935497088003746 \n",
      " precision:0.9293772169564459 \n",
      " recall:0.9416980909733679 \n",
      ", 'Validation':  best_epoch_indx:45\n",
      " auc:0.9377376012877563 \n",
      " apur:0.936973942683341 \n",
      " f1:0.8783054861202473 \n",
      " precision:0.8717680856620528 \n",
      " recall:0.8849416755037116 \n",
      ", 'Test':  best_epoch_indx:45\n",
      " auc:0.9383743710939764 \n",
      " apur:0.9375288317084184 \n",
      " f1:0.878810174479714 \n",
      " precision:0.8711189831214836 \n",
      " recall:0.8866383881230117 \n",
      "}\n",
      "=====Epoch 46\n",
      "Training...\n"
     ]
    },
    {
     "name": "stderr",
     "output_type": "stream",
     "text": [
      "Iteration: 100%|██████████| 214/214 [00:17<00:00, 12.13it/s]\n",
      "Iteration:   1%|▏         | 3/214 [00:00<00:10, 20.69it/s]]]"
     ]
    },
    {
     "name": "stdout",
     "output_type": "stream",
     "text": [
      "Evaluating...\n"
     ]
    },
    {
     "name": "stderr",
     "output_type": "stream",
     "text": [
      "Iteration: 100%|██████████| 214/214 [00:17<00:00, 12.07it/s]\n",
      "Iteration:  57%|█████▋    | 123/214 [00:05<00:04, 22.13it/s]"
     ]
    },
    {
     "name": "stdout",
     "output_type": "stream",
     "text": [
      "Evaluating...\n"
     ]
    },
    {
     "name": "stderr",
     "output_type": "stream",
     "text": [
      "Iteration: 100%|██████████| 214/214 [00:09<00:00, 21.97it/s]\n",
      "Iteration: 100%|██████████| 214/214 [00:17<00:00, 12.32it/s]\n",
      "Iteration:  79%|███████▉  | 170/214 [00:13<00:03, 12.35it/s]"
     ]
    },
    {
     "name": "stdout",
     "output_type": "stream",
     "text": [
      "Evaluating...\n"
     ]
    },
    {
     "name": "stderr",
     "output_type": "stream",
     "text": [
      "Iteration: 100%|██████████| 60/60 [00:02<00:00, 22.65it/s]s]\n",
      "Iteration: 100%|██████████| 24/24 [00:01<00:00, 22.81it/s]s]\n",
      "Iteration:  94%|█████████▍| 202/214 [00:16<00:01, 11.89it/s]"
     ]
    },
    {
     "name": "stdout",
     "output_type": "stream",
     "text": [
      "{'Train':  best_epoch_indx:44\n",
      " auc:0.9749965706216559 \n",
      " apur:0.9765332014161839 \n",
      " f1:0.9234943185962047 \n",
      " precision:0.9145960938402866 \n",
      " recall:0.9325673884224481 \n",
      ", 'Validation':  best_epoch_indx:44\n",
      " auc:0.9346175483415953 \n",
      " apur:0.9355953576061531 \n",
      " f1:0.8703533429659792 \n",
      " precision:0.8625357979692788 \n",
      " recall:0.8783138918345705 \n",
      ", 'Test':  best_epoch_indx:44\n",
      " auc:0.9327655289265887 \n",
      " apur:0.9288116043162986 \n",
      " f1:0.8722143568769336 \n",
      " precision:0.8625803775150384 \n",
      " recall:0.8820659666984834 \n",
      "}\n",
      "=====Epoch 45\n",
      "Training...\n"
     ]
    },
    {
     "name": "stderr",
     "output_type": "stream",
     "text": [
      "Iteration: 100%|██████████| 214/214 [00:17<00:00, 12.28it/s]\n",
      "Iteration: 100%|██████████| 214/214 [00:10<00:00, 21.10it/s]\n",
      "Iteration:  31%|███▏      | 67/214 [00:03<00:06, 22.34it/s]"
     ]
    },
    {
     "name": "stdout",
     "output_type": "stream",
     "text": [
      "Evaluating...\n"
     ]
    },
    {
     "name": "stderr",
     "output_type": "stream",
     "text": [
      "Iteration: 100%|██████████| 214/214 [00:17<00:00, 12.30it/s]\n",
      "Iteration:  38%|███▊      | 82/214 [00:03<00:05, 22.11it/s]"
     ]
    },
    {
     "name": "stdout",
     "output_type": "stream",
     "text": [
      "Evaluating...\n"
     ]
    },
    {
     "name": "stderr",
     "output_type": "stream",
     "text": [
      "Iteration: 100%|██████████| 60/60 [00:02<00:00, 22.28it/s]]]\n",
      "Iteration: 100%|██████████| 24/24 [00:01<00:00, 22.26it/s]s]\n",
      "Iteration:  50%|█████     | 108/214 [00:04<00:04, 22.06it/s]"
     ]
    },
    {
     "name": "stdout",
     "output_type": "stream",
     "text": [
      "{'Train':  best_epoch_indx:44\n",
      " auc:0.9783972296046158 \n",
      " apur:0.979393653816409 \n",
      " f1:0.9286763315932587 \n",
      " precision:0.9169298799747315 \n",
      " recall:0.940727647665341 \n",
      ", 'Validation':  best_epoch_indx:44\n",
      " auc:0.9331276447710911 \n",
      " apur:0.9301038946604946 \n",
      " f1:0.8773584905660377 \n",
      " precision:0.8673575129533678 \n",
      " recall:0.887592788971368 \n",
      ", 'Test':  best_epoch_indx:44\n",
      " auc:0.9301344827953667 \n",
      " apur:0.9284870858561681 \n",
      " f1:0.8715798301708775 \n",
      " precision:0.8616436936470101 \n",
      " recall:0.8817477993424542 \n",
      "}\n",
      "=====Epoch 45\n",
      "Training...\n"
     ]
    },
    {
     "name": "stderr",
     "output_type": "stream",
     "text": [
      "Iteration: 100%|██████████| 214/214 [00:09<00:00, 21.85it/s]\n",
      "Iteration: 100%|██████████| 214/214 [00:09<00:00, 21.87it/s]\n",
      "Iteration: 100%|██████████| 60/60 [00:03<00:00, 19.30it/s]s]\n",
      "Iteration: 100%|██████████| 214/214 [00:10<00:00, 20.56it/s]\n",
      "Iteration: 100%|██████████| 24/24 [00:01<00:00, 19.90it/s]s]\n",
      "Iteration:  77%|███████▋  | 164/214 [00:13<00:03, 12.58it/s]"
     ]
    },
    {
     "name": "stdout",
     "output_type": "stream",
     "text": [
      "{'Train':  best_epoch_indx:46\n",
      " auc:0.9857311214863532 \n",
      " apur:0.9868369438329935 \n",
      " f1:0.9420675184317557 \n",
      " precision:0.9197160175103828 \n",
      " recall:0.9655324790101635 \n",
      ", 'Validation':  best_epoch_indx:46\n",
      " auc:0.941991393711914 \n",
      " apur:0.9416024717804249 \n",
      " f1:0.8854766474728086 \n",
      " precision:0.85580014840465 \n",
      " recall:0.9172852598091198 \n",
      ", 'Test':  best_epoch_indx:46\n",
      " auc:0.9405804067772183 \n",
      " apur:0.9383790132157228 \n",
      " f1:0.8855276019961928 \n",
      " precision:0.859912070343725 \n",
      " recall:0.9127160886626365 \n",
      "}\n",
      "=====Epoch 47\n",
      "Training...\n"
     ]
    },
    {
     "name": "stderr",
     "output_type": "stream",
     "text": [
      "Iteration: 100%|██████████| 60/60 [00:02<00:00, 22.54it/s]]]\n",
      "Iteration: 100%|██████████| 60/60 [00:02<00:00, 22.08it/s]]]\n",
      "Iteration: 100%|██████████| 24/24 [00:01<00:00, 19.73it/s]\n",
      "Iteration:  57%|█████▋    | 122/214 [00:09<00:07, 12.25it/s]"
     ]
    },
    {
     "name": "stdout",
     "output_type": "stream",
     "text": [
      "{'Train':  best_epoch_indx:46\n",
      " auc:0.9842809842284918 \n",
      " apur:0.9853268130465539 \n",
      " f1:0.9402434259085055 \n",
      " precision:0.9241010468821119 \n",
      " recall:0.9569597878921785 \n",
      ", 'Validation':  best_epoch_indx:46\n",
      " auc:0.9362183642249362 \n",
      " apur:0.9315850848649478 \n",
      " f1:0.8795838751625487 \n",
      " precision:0.8631955079122001 \n",
      " recall:0.8966065747613998 \n",
      ", 'Test':  best_epoch_indx:46\n",
      " auc:0.9397768458892712 \n",
      " apur:0.9379256822577727 \n",
      " f1:0.8834502468173552 \n",
      " precision:0.8660350448247759 \n",
      " recall:0.901580231201612 \n",
      "}\n",
      "=====Epoch 47\n",
      "Training...\n"
     ]
    },
    {
     "name": "stderr",
     "output_type": "stream",
     "text": [
      "Iteration: 100%|██████████| 24/24 [00:01<00:00, 21.61it/s]s]\n",
      "Iteration: 100%|██████████| 214/214 [00:17<00:00, 12.43it/s]\n",
      "Iteration:   1%|          | 2/214 [00:00<00:17, 12.09it/s]]"
     ]
    },
    {
     "name": "stdout",
     "output_type": "stream",
     "text": [
      "{'Train':  best_epoch_indx:46\n",
      " auc:0.9836264670283438 \n",
      " apur:0.9848730431551199 \n",
      " f1:0.938022819200603 \n",
      " precision:0.9234436103102789 \n",
      " recall:0.9530697619608768 \n",
      ", 'Validation':  best_epoch_indx:46\n",
      " auc:0.9380888896781624 \n",
      " apur:0.9342584732668529 \n",
      " f1:0.8793349785686452 \n",
      " precision:0.8619811560988031 \n",
      " recall:0.8974019088016967 \n",
      ", 'Test':  best_epoch_indx:46\n",
      " auc:0.9382506545798642 \n",
      " apur:0.9366260837759184 \n",
      " f1:0.8814545454545455 \n",
      " precision:0.8639511201629327 \n",
      " recall:0.8996818663838813 \n",
      "}\n",
      "=====Epoch 47\n",
      "Training...\n",
      "Evaluating...\n"
     ]
    },
    {
     "name": "stderr",
     "output_type": "stream",
     "text": [
      "Iteration: 100%|██████████| 214/214 [00:17<00:00, 12.27it/s]\n",
      "Iteration:  36%|███▋      | 78/214 [00:06<00:10, 12.42it/s]]"
     ]
    },
    {
     "name": "stdout",
     "output_type": "stream",
     "text": [
      "Evaluating...\n"
     ]
    },
    {
     "name": "stderr",
     "output_type": "stream",
     "text": [
      "Iteration: 100%|██████████| 214/214 [00:09<00:00, 21.55it/s]\n",
      "Iteration: 100%|██████████| 60/60 [00:02<00:00, 22.54it/s]s]\n",
      "Iteration: 100%|██████████| 214/214 [00:17<00:00, 12.27it/s]\n",
      "Iteration:   1%|▏         | 3/214 [00:00<00:09, 21.50it/s]s]"
     ]
    },
    {
     "name": "stdout",
     "output_type": "stream",
     "text": [
      "Evaluating...\n"
     ]
    },
    {
     "name": "stderr",
     "output_type": "stream",
     "text": [
      "Iteration: 100%|██████████| 24/24 [00:01<00:00, 22.40it/s]s]\n",
      "Iteration:  14%|█▍        | 30/214 [00:01<00:08, 22.16it/s]]"
     ]
    },
    {
     "name": "stdout",
     "output_type": "stream",
     "text": [
      "{'Train':  best_epoch_indx:45\n",
      " auc:0.9789719080538367 \n",
      " apur:0.9801350647811652 \n",
      " f1:0.9312569457473986 \n",
      " precision:0.9128515647105427 \n",
      " recall:0.9504197967300044 \n",
      ", 'Validation':  best_epoch_indx:45\n",
      " auc:0.9406535486231968 \n",
      " apur:0.9400759304224573 \n",
      " f1:0.8824518298202508 \n",
      " precision:0.8613986367079021 \n",
      " recall:0.9045599151643691 \n",
      ", 'Test':  best_epoch_indx:45\n",
      " auc:0.9367840727045391 \n",
      " apur:0.9337837018665305 \n",
      " f1:0.8795898285773472 \n",
      " precision:0.8595141700404858 \n",
      " recall:0.9006257291335242 \n",
      "}\n",
      "=====Epoch 46\n",
      "Training...\n"
     ]
    },
    {
     "name": "stderr",
     "output_type": "stream",
     "text": [
      "Iteration: 100%|██████████| 214/214 [00:17<00:00, 12.17it/s]\n",
      "Iteration:  29%|██▉       | 63/214 [00:02<00:06, 21.98it/s]]"
     ]
    },
    {
     "name": "stdout",
     "output_type": "stream",
     "text": [
      "Evaluating...\n"
     ]
    },
    {
     "name": "stderr",
     "output_type": "stream",
     "text": [
      "Iteration: 100%|██████████| 214/214 [00:10<00:00, 20.95it/s]\n",
      "Iteration: 100%|██████████| 214/214 [00:17<00:00, 12.24it/s]\n",
      "Iteration:   0%|          | 0/214 [00:00<?, ?it/s]"
     ]
    },
    {
     "name": "stdout",
     "output_type": "stream",
     "text": [
      "Evaluating...\n"
     ]
    },
    {
     "name": "stderr",
     "output_type": "stream",
     "text": [
      "Iteration: 100%|██████████| 60/60 [00:02<00:00, 22.74it/s]]]\n",
      "Iteration: 100%|██████████| 24/24 [00:01<00:00, 22.54it/s]]]\n",
      "Iteration:  41%|████      | 87/214 [00:03<00:05, 21.77it/s]]"
     ]
    },
    {
     "name": "stdout",
     "output_type": "stream",
     "text": [
      "{'Train':  best_epoch_indx:45\n",
      " auc:0.9807270596320659 \n",
      " apur:0.9817065083546581 \n",
      " f1:0.9318923984829183 \n",
      " precision:0.926479152108083 \n",
      " recall:0.9373692738253057 \n",
      ", 'Validation':  best_epoch_indx:45\n",
      " auc:0.9335196829319032 \n",
      " apur:0.9310640776077183 \n",
      " f1:0.8721863893642228 \n",
      " precision:0.8661437908496732 \n",
      " recall:0.8783138918345705 \n",
      ", 'Test':  best_epoch_indx:45\n",
      " auc:0.9363122322916017 \n",
      " apur:0.9327641820300736 \n",
      " f1:0.8742002009412511 \n",
      " precision:0.8717570132883358 \n",
      " recall:0.8766571216459857 \n",
      "}\n",
      "=====Epoch 46\n",
      "Training...\n"
     ]
    },
    {
     "name": "stderr",
     "output_type": "stream",
     "text": [
      "Iteration: 100%|██████████| 214/214 [00:09<00:00, 22.12it/s]\n",
      "Iteration: 100%|██████████| 214/214 [00:10<00:00, 21.11it/s]\n",
      "Iteration: 100%|██████████| 60/60 [00:02<00:00, 20.03it/s]s]\n",
      "Iteration: 100%|██████████| 214/214 [00:10<00:00, 20.39it/s]\n",
      "Iteration: 100%|██████████| 60/60 [00:03<00:00, 19.69it/s]s]\n",
      "Iteration: 100%|██████████| 24/24 [00:01<00:00, 22.59it/s]s]\n",
      "Iteration:  58%|█████▊    | 124/214 [00:10<00:07, 12.35it/s]"
     ]
    },
    {
     "name": "stdout",
     "output_type": "stream",
     "text": [
      "{'Train':  best_epoch_indx:47\n",
      " auc:0.9896709709771369 \n",
      " apur:0.9903690025695941 \n",
      " f1:0.9526780015087333 \n",
      " precision:0.9384914396775945 \n",
      " recall:0.9673000441891295 \n",
      ", 'Validation':  best_epoch_indx:47\n",
      " auc:0.9428432145448455 \n",
      " apur:0.9389618065689722 \n",
      " f1:0.8889755590223609 \n",
      " precision:0.8721938775510204 \n",
      " recall:0.9064156945917285 \n",
      ", 'Test':  best_epoch_indx:47\n",
      " auc:0.9428309137477949 \n",
      " apur:0.9400226236297934 \n",
      " f1:0.8897223524509038 \n",
      " precision:0.8742833742833743 \n",
      " recall:0.9057164068299925 \n",
      "}\n",
      "=====Epoch 48\n",
      "Training...\n"
     ]
    },
    {
     "name": "stderr",
     "output_type": "stream",
     "text": [
      "Iteration: 100%|██████████| 214/214 [00:17<00:00, 12.25it/s]\n",
      "Iteration: 100%|██████████| 60/60 [00:03<00:00, 17.23it/s]s]\n",
      "Iteration:  64%|██████▎   | 136/214 [00:11<00:06, 12.14it/s]"
     ]
    },
    {
     "name": "stdout",
     "output_type": "stream",
     "text": [
      "Evaluating...\n"
     ]
    },
    {
     "name": "stderr",
     "output_type": "stream",
     "text": [
      "Iteration: 100%|██████████| 24/24 [00:01<00:00, 19.78it/s]s]\n",
      "Iteration:  13%|█▎        | 28/214 [00:02<00:15, 12.17it/s]"
     ]
    },
    {
     "name": "stdout",
     "output_type": "stream",
     "text": [
      "{'Train':  best_epoch_indx:47\n",
      " auc:0.9879480078149887 \n",
      " apur:0.9888184496442677 \n",
      " f1:0.9475809966584339 \n",
      " precision:0.9347875938772 \n",
      " recall:0.9607294367193023 \n",
      ", 'Validation':  best_epoch_indx:47\n",
      " auc:0.9425895987558793 \n",
      " apur:0.9397802459986455 \n",
      " f1:0.885438413361169 \n",
      " precision:0.8717882836587872 \n",
      " recall:0.8995227995758218 \n",
      ", 'Test':  best_epoch_indx:47\n",
      " auc:0.9435345308242765 \n",
      " apur:0.9420806469564789 \n",
      " f1:0.8880083420229405 \n",
      " precision:0.8734358974358974 \n",
      " recall:0.9030752916224815 \n",
      "}\n",
      "=====Epoch 48\n",
      "Training...\n"
     ]
    },
    {
     "name": "stderr",
     "output_type": "stream",
     "text": [
      "Iteration: 100%|██████████| 214/214 [00:17<00:00, 12.05it/s]\n",
      "Iteration:  42%|████▏     | 90/214 [00:07<00:10, 11.37it/s]"
     ]
    },
    {
     "name": "stdout",
     "output_type": "stream",
     "text": [
      "Evaluating...\n"
     ]
    },
    {
     "name": "stderr",
     "output_type": "stream",
     "text": [
      "Iteration: 100%|██████████| 214/214 [00:09<00:00, 22.17it/s]\n",
      "Iteration: 100%|██████████| 60/60 [00:02<00:00, 22.57it/s]s]\n",
      "Iteration: 100%|██████████| 24/24 [00:01<00:00, 20.10it/s]s]\n",
      "Iteration:   0%|          | 0/24 [00:00<?, ?it/s] 21.89it/s]"
     ]
    },
    {
     "name": "stdout",
     "output_type": "stream",
     "text": [
      "{'Train':  best_epoch_indx:47\n",
      " auc:0.9877947183961311 \n",
      " apur:0.9886609782556314 \n",
      " f1:0.9479439238674405 \n",
      " precision:0.9408333816957809 \n",
      " recall:0.9551627632935631 \n",
      ", 'Validation':  best_epoch_indx:47\n",
      " auc:0.9435717950701975 \n",
      " apur:0.9422333121349402 \n",
      " f1:0.8808588635768526 \n",
      " precision:0.8701500258665287 \n",
      " recall:0.8918345705196182 \n",
      ", 'Test':  best_epoch_indx:47\n",
      " auc:0.9437681886940472 \n",
      " apur:0.9415661563539683 \n",
      " f1:0.8840029526521143 \n",
      " precision:0.8789975883401488 \n",
      " recall:0.8890656485311274 \n",
      "}\n",
      "=====Epoch 48\n",
      "Training...\n"
     ]
    },
    {
     "name": "stderr",
     "output_type": "stream",
     "text": [
      "Iteration: 100%|██████████| 24/24 [00:01<00:00, 19.87it/s]s]\n",
      "Iteration:  74%|███████▍  | 159/214 [00:07<00:02, 22.10it/s]"
     ]
    },
    {
     "name": "stdout",
     "output_type": "stream",
     "text": [
      "{'Train':  best_epoch_indx:46\n",
      " auc:0.9804141700337127 \n",
      " apur:0.9816874386313966 \n",
      " f1:0.93178919592465 \n",
      " precision:0.9273708783192296 \n",
      " recall:0.9362498158786272 \n",
      ", 'Validation':  best_epoch_indx:46\n",
      " auc:0.9382150236951193 \n",
      " apur:0.9384304805051923 \n",
      " f1:0.8737092930897538 \n",
      " precision:0.8725542041248017 \n",
      " recall:0.8748674443266172 \n",
      ", 'Test':  best_epoch_indx:46\n",
      " auc:0.9371807416394803 \n",
      " apur:0.9324969010303648 \n",
      " f1:0.8762318533432234 \n",
      " precision:0.875489677077819 \n",
      " recall:0.876975289002015 \n",
      "}\n",
      "=====Epoch 47\n",
      "Training...\n"
     ]
    },
    {
     "name": "stderr",
     "output_type": "stream",
     "text": [
      "Iteration: 100%|██████████| 214/214 [00:17<00:00, 12.15it/s]\n",
      "Iteration: 100%|█████████▉| 213/214 [00:10<00:00, 21.09it/s]"
     ]
    },
    {
     "name": "stdout",
     "output_type": "stream",
     "text": [
      "Evaluating...\n"
     ]
    },
    {
     "name": "stderr",
     "output_type": "stream",
     "text": [
      "Iteration: 100%|██████████| 214/214 [00:10<00:00, 20.71it/s]\n",
      "Iteration: 100%|██████████| 214/214 [00:17<00:00, 12.21it/s]\n",
      "Iteration:  24%|██▍       | 51/214 [00:02<00:07, 22.01it/s]"
     ]
    },
    {
     "name": "stdout",
     "output_type": "stream",
     "text": [
      "Evaluating...\n"
     ]
    },
    {
     "name": "stderr",
     "output_type": "stream",
     "text": [
      "Iteration: 100%|██████████| 60/60 [00:02<00:00, 20.15it/s]]\n",
      "Iteration: 100%|██████████| 24/24 [00:01<00:00, 20.18it/s]]]\n",
      "Iteration:  34%|███▎      | 72/214 [00:03<00:06, 22.35it/s]]"
     ]
    },
    {
     "name": "stdout",
     "output_type": "stream",
     "text": [
      "{'Train':  best_epoch_indx:46\n",
      " auc:0.9830872359746992 \n",
      " apur:0.9839951098620177 \n",
      " f1:0.9389690363988551 \n",
      " precision:0.9218062611756024 \n",
      " recall:0.9567830313742819 \n",
      ", 'Validation':  best_epoch_indx:46\n",
      " auc:0.9352594761450528 \n",
      " apur:0.9331264048665731 \n",
      " f1:0.8799480856586632 \n",
      " precision:0.8619374523264683 \n",
      " recall:0.898727465535525 \n",
      ", 'Test':  best_epoch_indx:46\n",
      " auc:0.9389590599296379 \n",
      " apur:0.938036740786838 \n",
      " f1:0.8804861580013505 \n",
      " precision:0.862785016286645 \n",
      " recall:0.8989288365680348 \n",
      "}\n",
      "=====Epoch 47\n",
      "Training...\n"
     ]
    },
    {
     "name": "stderr",
     "output_type": "stream",
     "text": [
      "Iteration: 100%|██████████| 214/214 [00:09<00:00, 22.14it/s]\n",
      "Iteration: 100%|██████████| 214/214 [00:09<00:00, 21.95it/s]\n",
      "Iteration: 100%|██████████| 60/60 [00:02<00:00, 21.00it/s]]]\n",
      "Iteration: 100%|██████████| 214/214 [00:17<00:00, 12.25it/s]\n",
      "Iteration:  33%|███▎      | 8/24 [00:00<00:00, 19.95it/s]]s]"
     ]
    },
    {
     "name": "stdout",
     "output_type": "stream",
     "text": [
      "Evaluating...\n"
     ]
    },
    {
     "name": "stderr",
     "output_type": "stream",
     "text": [
      "Iteration: 100%|██████████| 24/24 [00:01<00:00, 19.84it/s]s]\n",
      "Iteration:   0%|          | 0/214 [00:00<?, ?it/s].31it/s]]"
     ]
    },
    {
     "name": "stdout",
     "output_type": "stream",
     "text": [
      "{'Train':  best_epoch_indx:48\n",
      " auc:0.9913738169582347 \n",
      " apur:0.9919678012173561 \n",
      " f1:0.9568850072780205 \n",
      " precision:0.9457344267011941 \n",
      " recall:0.9683016644572102 \n",
      ", 'Validation':  best_epoch_indx:48\n",
      " auc:0.9442719538198866 \n",
      " apur:0.9398423146793329 \n",
      " f1:0.8852287581699347 \n",
      " precision:0.8731304796286746 \n",
      " recall:0.8976670201484623 \n",
      ", 'Test':  best_epoch_indx:48\n",
      " auc:0.9439116131922334 \n",
      " apur:0.9417761455413142 \n",
      " f1:0.8894577369135932 \n",
      " precision:0.8764542365901369 \n",
      " recall:0.9028529006257291 \n",
      "}\n",
      "=====Epoch 49\n",
      "Training...\n"
     ]
    },
    {
     "name": "stderr",
     "output_type": "stream",
     "text": [
      "Iteration: 100%|██████████| 214/214 [00:17<00:00, 12.29it/s]\n",
      "Iteration:  87%|████████▋ | 52/60 [00:02<00:00, 22.07it/s]]]"
     ]
    },
    {
     "name": "stdout",
     "output_type": "stream",
     "text": [
      "Evaluating...\n"
     ]
    },
    {
     "name": "stderr",
     "output_type": "stream",
     "text": [
      "Iteration: 100%|██████████| 60/60 [00:02<00:00, 21.70it/s]s]\n",
      "Iteration: 100%|██████████| 214/214 [00:17<00:00, 12.33it/s]\n",
      "Iteration:  81%|████████▏ | 174/214 [00:07<00:01, 21.98it/s]"
     ]
    },
    {
     "name": "stdout",
     "output_type": "stream",
     "text": [
      "Evaluating...\n"
     ]
    },
    {
     "name": "stderr",
     "output_type": "stream",
     "text": [
      "Iteration: 100%|██████████| 214/214 [00:10<00:00, 20.82it/s]\n",
      "Iteration: 100%|██████████| 214/214 [00:09<00:00, 21.79it/s]\n",
      "Iteration: 100%|██████████| 60/60 [00:02<00:00, 22.36it/s]]]\n",
      "Iteration: 100%|██████████| 60/60 [00:03<00:00, 17.51it/s]s]\n",
      "Iteration: 100%|██████████| 24/24 [00:01<00:00, 21.08it/s]s]\n",
      "Iteration:  92%|█████████▏| 196/214 [00:15<00:01, 12.38it/s]"
     ]
    },
    {
     "name": "stdout",
     "output_type": "stream",
     "text": [
      "{'Train':  best_epoch_indx:47\n",
      " auc:0.9861249319814267 \n",
      " apur:0.9869356945734453 \n",
      " f1:0.9436490138577425 \n",
      " precision:0.9214744939498583 \n",
      " recall:0.9669170717336868 \n",
      ", 'Validation':  best_epoch_indx:47\n",
      " auc:0.944465356669897 \n",
      " apur:0.9442350943430742 \n",
      " f1:0.888035828534869 \n",
      " precision:0.8582735592381895 \n",
      " recall:0.9199363732767762 \n",
      ", 'Test':  best_epoch_indx:47\n",
      " auc:0.9440261161102798 \n",
      " apur:0.9391159473874662 \n",
      " f1:0.88767687162336 \n",
      " precision:0.8620827503497901 \n",
      " recall:0.9148372043694983 \n",
      "}\n",
      "=====Epoch 48\n",
      "Training...\n"
     ]
    },
    {
     "name": "stderr",
     "output_type": "stream",
     "text": [
      "Iteration: 100%|██████████| 214/214 [00:17<00:00, 12.38it/s]\n",
      "Iteration:   1%|▏         | 3/214 [00:00<00:09, 21.37it/s]s]"
     ]
    },
    {
     "name": "stdout",
     "output_type": "stream",
     "text": [
      "Evaluating...\n"
     ]
    },
    {
     "name": "stderr",
     "output_type": "stream",
     "text": [
      "Iteration: 100%|██████████| 214/214 [00:09<00:00, 21.99it/s]\n",
      "Iteration: 100%|██████████| 24/24 [00:01<00:00, 19.22it/s]]\n",
      "Iteration:  20%|█▉        | 42/214 [00:03<00:13, 12.40it/s]"
     ]
    },
    {
     "name": "stdout",
     "output_type": "stream",
     "text": [
      "{'Train':  best_epoch_indx:48\n",
      " auc:0.9914478464123566 \n",
      " apur:0.992046103231571 \n",
      " f1:0.9561607390840388 \n",
      " precision:0.9489337008559409 \n",
      " recall:0.9634987037473486 \n",
      ", 'Validation':  best_epoch_indx:48\n",
      " auc:0.9453335884025837 \n",
      " apur:0.9428334002405077 \n",
      " f1:0.88748519542045 \n",
      " precision:0.8811079174287954 \n",
      " recall:0.8939554612937434 \n",
      ", 'Test':  best_epoch_indx:48\n",
      " auc:0.9472164418638315 \n",
      " apur:0.9456701311725642 \n",
      " f1:0.8892048446550816 \n",
      " precision:0.8831589958158996 \n",
      " recall:0.8953340402969248 \n",
      "}\n",
      "=====Epoch 49\n",
      "Training...\n"
     ]
    },
    {
     "name": "stderr",
     "output_type": "stream",
     "text": [
      "Iteration: 100%|██████████| 60/60 [00:03<00:00, 19.73it/s]]\n",
      "Iteration: 100%|██████████| 24/24 [00:01<00:00, 22.61it/s]]]\n",
      "Iteration:  59%|█████▉    | 126/214 [00:05<00:03, 22.17it/s]"
     ]
    },
    {
     "name": "stdout",
     "output_type": "stream",
     "text": [
      "{'Train':  best_epoch_indx:47\n",
      " auc:0.9885296572042059 \n",
      " apur:0.9892690703916733 \n",
      " f1:0.9490639084710506 \n",
      " precision:0.9311204966127158 \n",
      " recall:0.9677124760642215 \n",
      ", 'Validation':  best_epoch_indx:47\n",
      " auc:0.9396075717830198 \n",
      " apur:0.9380219775677434 \n",
      " f1:0.8865899392215182 \n",
      " precision:0.865438020701843 \n",
      " recall:0.9088016967126193 \n",
      ", 'Test':  best_epoch_indx:47\n",
      " auc:0.9436266752627671 \n",
      " apur:0.9417869108522383 \n",
      " f1:0.8880593145642143 \n",
      " precision:0.8687360519375127 \n",
      " recall:0.9082617456782267 \n",
      "}\n",
      "=====Epoch 48\n",
      "Training...\n"
     ]
    },
    {
     "name": "stderr",
     "output_type": "stream",
     "text": [
      "Iteration: 100%|██████████| 214/214 [00:09<00:00, 21.95it/s]\n",
      "Iteration: 100%|██████████| 60/60 [00:02<00:00, 22.30it/s]]]\n",
      "Iteration: 100%|██████████| 24/24 [00:01<00:00, 21.50it/s]s]\n",
      "Iteration:   0%|          | 0/214 [00:00<?, ?it/s]12.50it/s]"
     ]
    },
    {
     "name": "stdout",
     "output_type": "stream",
     "text": [
      "{'Train':  best_epoch_indx:48\n",
      " auc:0.9903830143529359 \n",
      " apur:0.9911439559176191 \n",
      " f1:0.9535300024741308 \n",
      " precision:0.9422711844905942 \n",
      " recall:0.9650611282957726 \n",
      ", 'Validation':  best_epoch_indx:48\n",
      " auc:0.9447376824701781 \n",
      " apur:0.9432470233305971 \n",
      " f1:0.8879052206743915 \n",
      " precision:0.87234586850857 \n",
      " recall:0.9040296924708378 \n",
      ", 'Test':  best_epoch_indx:48\n",
      " auc:0.9447426333093312 \n",
      " apur:0.9421066355786378 \n",
      " f1:0.8866562009419152 \n",
      " precision:0.8751162070034088 \n",
      " recall:0.8985046134266624 \n",
      "}\n",
      "=====Epoch 49\n",
      "Training...\n"
     ]
    },
    {
     "name": "stderr",
     "output_type": "stream",
     "text": [
      "Iteration: 100%|██████████| 214/214 [00:17<00:00, 12.37it/s]\n",
      "Iteration:  79%|███████▉  | 170/214 [00:13<00:03, 11.81it/s]"
     ]
    },
    {
     "name": "stdout",
     "output_type": "stream",
     "text": [
      "Evaluating...\n"
     ]
    },
    {
     "name": "stderr",
     "output_type": "stream",
     "text": [
      "Iteration: 100%|██████████| 214/214 [00:17<00:00, 12.20it/s]\n",
      "Iteration:   1%|▏         | 3/214 [00:00<00:09, 21.36it/s]]]"
     ]
    },
    {
     "name": "stdout",
     "output_type": "stream",
     "text": [
      "Evaluating...\n"
     ]
    },
    {
     "name": "stderr",
     "output_type": "stream",
     "text": [
      "Iteration: 100%|██████████| 214/214 [00:17<00:00, 12.38it/s]\n",
      "Iteration:  73%|███████▎  | 156/214 [00:07<00:02, 22.18it/s]"
     ]
    },
    {
     "name": "stdout",
     "output_type": "stream",
     "text": [
      "Evaluating...\n"
     ]
    },
    {
     "name": "stderr",
     "output_type": "stream",
     "text": [
      "Iteration: 100%|██████████| 214/214 [00:09<00:00, 21.62it/s]\n",
      "Iteration: 100%|██████████| 214/214 [00:09<00:00, 21.92it/s]\n",
      "Iteration: 100%|██████████| 60/60 [00:02<00:00, 20.31it/s]s]\n",
      "Iteration: 100%|██████████| 24/24 [00:01<00:00, 21.21it/s]s]\n",
      "Iteration:  35%|███▌      | 21/60 [00:00<00:01, 22.13it/s]s]"
     ]
    },
    {
     "name": "stdout",
     "output_type": "stream",
     "text": [
      "{'Train':  best_epoch_indx:48\n",
      " auc:0.9880573843533988 \n",
      " apur:0.9888478911687438 \n",
      " f1:0.9484527070342095 \n",
      " precision:0.9382548787870053 \n",
      " recall:0.9588746501693917 \n",
      ", 'Validation':  best_epoch_indx:48\n",
      " auc:0.9463269235160108 \n",
      " apur:0.9462335195723156 \n",
      " f1:0.8867627785058978 \n",
      " precision:0.876879212026957 \n",
      " recall:0.8968716861081655 \n",
      ", 'Test':  best_epoch_indx:48\n",
      " auc:0.9447496233497289 \n",
      " apur:0.9408171570846469 \n",
      " f1:0.8878636959370905 \n",
      " precision:0.8778768401409911 \n",
      " recall:0.8980803902852901 \n",
      "}\n",
      "=====Epoch 49\n",
      "Training...\n"
     ]
    },
    {
     "name": "stderr",
     "output_type": "stream",
     "text": [
      "Iteration: 100%|██████████| 24/24 [00:01<00:00, 20.09it/s]s]\n",
      "Iteration: 100%|██████████| 214/214 [00:17<00:00, 12.36it/s]\n",
      "Iteration:   0%|          | 0/214 [00:00<?, ?it/s]"
     ]
    },
    {
     "name": "stdout",
     "output_type": "stream",
     "text": [
      "Evaluating...\n",
      "{'Train':  best_epoch_indx:49\n",
      " auc:0.9932893713042198 \n",
      " apur:0.993769455730797 \n",
      " f1:0.9623240770418718 \n",
      " precision:0.951949961087251 \n",
      " recall:0.9729267933421711 \n",
      ", 'Validation':  best_epoch_indx:49\n",
      " auc:0.9460521004048974 \n",
      " apur:0.94196605292149 \n",
      " f1:0.8900537282138645 \n",
      " precision:0.880020730759264 \n",
      " recall:0.9003181336161188 \n",
      ", 'Test':  best_epoch_indx:49\n",
      " auc:0.9473151551002104 \n",
      " apur:0.9453942554769762 \n",
      " f1:0.8922673656618612 \n",
      " precision:0.8822309765705992 \n",
      " recall:0.9025347332696999 \n",
      "}\n",
      "=====Epoch 50\n",
      "Training...\n"
     ]
    },
    {
     "name": "stderr",
     "output_type": "stream",
     "text": [
      "Iteration: 100%|██████████| 60/60 [00:02<00:00, 22.49it/s]]]\n",
      "Iteration: 100%|██████████| 214/214 [00:09<00:00, 22.01it/s]\n",
      "Iteration: 100%|██████████| 60/60 [00:02<00:00, 22.03it/s]]\n",
      "Iteration: 100%|██████████| 214/214 [00:10<00:00, 21.21it/s]\n",
      "Iteration: 100%|██████████| 60/60 [00:02<00:00, 22.56it/s]s]\n",
      "Iteration: 100%|██████████| 214/214 [00:17<00:00, 12.26it/s]\n",
      "Iteration:  93%|█████████▎| 198/214 [00:16<00:01, 12.25it/s]"
     ]
    },
    {
     "name": "stdout",
     "output_type": "stream",
     "text": [
      "Evaluating...\n"
     ]
    },
    {
     "name": "stderr",
     "output_type": "stream",
     "text": [
      "Iteration: 100%|██████████| 214/214 [00:17<00:00, 11.96it/s]\n",
      "Iteration:   0%|          | 0/214 [00:00<?, ?it/s]"
     ]
    },
    {
     "name": "stdout",
     "output_type": "stream",
     "text": [
      "Evaluating...\n"
     ]
    },
    {
     "name": "stderr",
     "output_type": "stream",
     "text": [
      "Iteration: 100%|██████████| 24/24 [00:01<00:00, 21.11it/s]]\n",
      "Iteration:  32%|███▏      | 69/214 [00:03<00:06, 22.01it/s]"
     ]
    },
    {
     "name": "stdout",
     "output_type": "stream",
     "text": [
      "{'Train':  best_epoch_indx:49\n",
      " auc:0.9929501605353178 \n",
      " apur:0.9934700655789844 \n",
      " f1:0.9608855442772138 \n",
      " precision:0.9514498613678374 \n",
      " recall:0.9705102521800613 \n",
      ", 'Validation':  best_epoch_indx:49\n",
      " auc:0.9482583357857188 \n",
      " apur:0.945874764929876 \n",
      " f1:0.8923843229781099 \n",
      " precision:0.8825512056002074 \n",
      " recall:0.9024390243902439 \n",
      ", 'Test':  best_epoch_indx:49\n",
      " auc:0.9484756747732361 \n",
      " apur:0.9470863735340922 \n",
      " f1:0.8919513728778034 \n",
      " precision:0.8816034804226227 \n",
      " recall:0.9025450689289501 \n",
      "}\n",
      "=====Epoch 50\n",
      "Training...\n"
     ]
    },
    {
     "name": "stderr",
     "output_type": "stream",
     "text": [
      "Iteration: 100%|██████████| 24/24 [00:01<00:00, 20.13it/s]s]\n",
      "Iteration:  49%|████▉     | 105/214 [00:04<00:04, 22.11it/s]"
     ]
    },
    {
     "name": "stdout",
     "output_type": "stream",
     "text": [
      "{'Train':  best_epoch_indx:48\n",
      " auc:0.9909400253732393 \n",
      " apur:0.9915800139922899 \n",
      " f1:0.9554106910039113 \n",
      " precision:0.9398888413852073 \n",
      " recall:0.9714538223596995 \n",
      ", 'Validation':  best_epoch_indx:48\n",
      " auc:0.9439320024278618 \n",
      " apur:0.9411298726207497 \n",
      " f1:0.8918425853531405 \n",
      " precision:0.8769861609431061 \n",
      " recall:0.9072110286320254 \n",
      ", 'Test':  best_epoch_indx:48\n",
      " auc:0.9460939882607917 \n",
      " apur:0.9441149740638874 \n",
      " f1:0.8902788636955954 \n",
      " precision:0.8753587535875359 \n",
      " recall:0.9057164068299925 \n",
      "}\n",
      "=====Epoch 49\n",
      "Training...\n"
     ]
    },
    {
     "name": "stderr",
     "output_type": "stream",
     "text": [
      "Iteration: 100%|██████████| 214/214 [00:10<00:00, 21.24it/s]\n",
      "Iteration: 100%|██████████| 214/214 [00:09<00:00, 21.80it/s]\n",
      "Iteration: 100%|██████████| 60/60 [00:03<00:00, 19.88it/s]s]\n",
      "Iteration: 100%|██████████| 60/60 [00:02<00:00, 22.38it/s]s]\n",
      "Iteration: 100%|██████████| 24/24 [00:01<00:00, 21.67it/s]s]\n",
      "Iteration: 100%|██████████| 24/24 [00:01<00:00, 20.16it/s]s]\n",
      "Iteration:  56%|█████▌    | 120/214 [00:09<00:07, 12.43it/s]"
     ]
    },
    {
     "name": "stdout",
     "output_type": "stream",
     "text": [
      "{'Train':  best_epoch_indx:49\n",
      " auc:0.99229242555092 \n",
      " apur:0.992928039743302 \n",
      " f1:0.9581466823236058 \n",
      " precision:0.9432551235942227 \n",
      " recall:0.9735159817351599 \n",
      ", 'Validation':  best_epoch_indx:49\n",
      " auc:0.9463342965289441 \n",
      " apur:0.944729732077375 \n",
      " f1:0.889406286379511 \n",
      " precision:0.8684011113917656 \n",
      " recall:0.9114528101802757 \n",
      ", 'Test':  best_epoch_indx:49\n",
      " auc:0.9464468838120812 \n",
      " apur:0.9438370490343198 \n",
      " f1:0.8891891891891891 \n",
      " precision:0.871878503720314 \n",
      " recall:0.9072011878247959 \n",
      "}\n",
      "=====Epoch 50\n",
      "Training...\n",
      "{'Train':  best_epoch_indx:50\n",
      " auc:0.9925536933896981 \n",
      " apur:0.9931439482292714 \n",
      " f1:0.9585268168098445 \n",
      " precision:0.944519118025567 \n",
      " recall:0.9729562527618206 \n",
      ", 'Validation':  best_epoch_indx:50\n",
      " auc:0.9447140571169078 \n",
      " apur:0.9404066305672949 \n",
      " f1:0.8890329271454497 \n",
      " precision:0.8698630136986302 \n",
      " recall:0.9090668080593849 \n",
      ", 'Test':  best_epoch_indx:50\n",
      " auc:0.9439909107946253 \n",
      " apur:0.9411949329027787 \n",
      " f1:0.8884372883122297 \n",
      " precision:0.8732841630813358 \n",
      " recall:0.9041255700498462 \n",
      "}\n",
      "=====Epoch 51\n",
      "Training...\n"
     ]
    },
    {
     "name": "stderr",
     "output_type": "stream",
     "text": [
      "Iteration: 100%|██████████| 214/214 [00:17<00:00, 11.94it/s]\n",
      "Iteration:   0%|          | 0/214 [00:00<?, ?it/s]"
     ]
    },
    {
     "name": "stdout",
     "output_type": "stream",
     "text": [
      "Evaluating...\n"
     ]
    },
    {
     "name": "stderr",
     "output_type": "stream",
     "text": [
      "Iteration: 100%|██████████| 214/214 [00:17<00:00, 12.17it/s]\n",
      "Iteration:  27%|██▋       | 57/214 [00:02<00:07, 19.78it/s]"
     ]
    },
    {
     "name": "stdout",
     "output_type": "stream",
     "text": [
      "Evaluating...\n"
     ]
    },
    {
     "name": "stderr",
     "output_type": "stream",
     "text": [
      "Iteration: 100%|██████████| 214/214 [00:10<00:00, 20.98it/s]\n",
      "Iteration: 100%|██████████| 24/24 [00:01<00:00, 19.48it/s]s]\n",
      "Iteration:  96%|█████████▋| 206/214 [00:17<00:00, 11.98it/s]"
     ]
    },
    {
     "name": "stdout",
     "output_type": "stream",
     "text": [
      "{'Train':  best_epoch_indx:49\n",
      " auc:0.9912875543114611 \n",
      " apur:0.9919031790266872 \n",
      " f1:0.9560269311518136 \n",
      " precision:0.9400341685649203 \n",
      " recall:0.972573280306378 \n",
      ", 'Validation':  best_epoch_indx:49\n",
      " auc:0.9489163573700954 \n",
      " apur:0.9484424115138862 \n",
      " f1:0.8928941908713693 \n",
      " precision:0.8738578680203045 \n",
      " recall:0.912778366914104 \n",
      ", 'Test':  best_epoch_indx:49\n",
      " auc:0.9480433849353086 \n",
      " apur:0.9436559762926556 \n",
      " f1:0.8943080994136876 \n",
      " precision:0.8754571312474604 \n",
      " recall:0.9139887580867536 \n",
      "}\n",
      "=====Epoch 50\n",
      "Training...\n"
     ]
    },
    {
     "name": "stderr",
     "output_type": "stream",
     "text": [
      "Iteration: 100%|██████████| 214/214 [00:17<00:00, 12.26it/s]\n",
      "Iteration: 100%|██████████| 214/214 [00:17<00:00, 12.10it/s]\n",
      "Iteration:  99%|█████████▊| 211/214 [00:09<00:00, 21.91it/s]"
     ]
    },
    {
     "name": "stdout",
     "output_type": "stream",
     "text": [
      "Evaluating...\n",
      "Evaluating...\n"
     ]
    },
    {
     "name": "stderr",
     "output_type": "stream",
     "text": [
      "Iteration: 100%|██████████| 214/214 [00:10<00:00, 21.33it/s]\n",
      "Iteration: 100%|██████████| 60/60 [00:02<00:00, 22.21it/s]]\n",
      "Iteration: 100%|██████████| 24/24 [00:01<00:00, 22.15it/s]]\n",
      "Iteration:  17%|█▋        | 36/214 [00:03<00:14, 12.28it/s]"
     ]
    },
    {
     "name": "stdout",
     "output_type": "stream",
     "text": [
      "{'Train':  best_epoch_indx:50\n",
      " auc:0.9925920318042282 \n",
      " apur:0.9931604810202166 \n",
      " f1:0.9600279993583479 \n",
      " precision:0.9505327904357619 \n",
      " recall:0.9697148244166863 \n",
      ", 'Validation':  best_epoch_indx:50\n",
      " auc:0.9467865872685666 \n",
      " apur:0.9448531316787268 \n",
      " f1:0.889903469866945 \n",
      " precision:0.8759630200308166 \n",
      " recall:0.9042948038176034 \n",
      ", 'Test':  best_epoch_indx:50\n",
      " auc:0.9474045412029148 \n",
      " apur:0.946183198345874 \n",
      " f1:0.8893536916962977 \n",
      " precision:0.8772436558696101 \n",
      " recall:0.9018027571580064 \n",
      "}\n",
      "=====Epoch 51\n",
      "Training...\n"
     ]
    },
    {
     "name": "stderr",
     "output_type": "stream",
     "text": [
      "Iteration: 100%|██████████| 60/60 [00:02<00:00, 22.47it/s]]\n",
      "Iteration: 100%|██████████| 214/214 [00:09<00:00, 22.02it/s]\n",
      "Iteration: 100%|██████████| 214/214 [00:10<00:00, 21.10it/s]\n",
      "Iteration: 100%|██████████| 60/60 [00:02<00:00, 22.62it/s]s]\n",
      "Iteration: 100%|██████████| 60/60 [00:02<00:00, 22.55it/s]s]\n",
      "Iteration: 100%|██████████| 24/24 [00:01<00:00, 22.36it/s]s]\n",
      "Iteration:  75%|███████▌  | 18/24 [00:00<00:00, 22.35it/s]s]"
     ]
    },
    {
     "name": "stdout",
     "output_type": "stream",
     "text": [
      "{'Train':  best_epoch_indx:50\n",
      " auc:0.9920596693134623 \n",
      " apur:0.9927048734787951 \n",
      " f1:0.9568587306229892 \n",
      " precision:0.9500508203862349 \n",
      " recall:0.9637649138311976 \n",
      ", 'Validation':  best_epoch_indx:50\n",
      " auc:0.9448196180493893 \n",
      " apur:0.9428477617673945 \n",
      " f1:0.8870776915998422 \n",
      " precision:0.8797913950456323 \n",
      " recall:0.8944856839872747 \n",
      ", 'Test':  best_epoch_indx:50\n",
      " auc:0.9456522392740305 \n",
      " apur:0.9431830177984868 \n",
      " f1:0.8857188143921382 \n",
      " precision:0.8825015792798484 \n",
      " recall:0.8889595927457843 \n",
      "}\n",
      "=====Epoch 51\n",
      "Training...\n"
     ]
    },
    {
     "name": "stderr",
     "output_type": "stream",
     "text": [
      "Iteration: 100%|██████████| 24/24 [00:01<00:00, 22.43it/s]s]\n",
      "Iteration:  88%|████████▊ | 188/214 [00:15<00:02, 12.16it/s]"
     ]
    },
    {
     "name": "stdout",
     "output_type": "stream",
     "text": [
      "{'Train':  best_epoch_indx:51\n",
      " auc:0.9917446385654931 \n",
      " apur:0.9923704014160093 \n",
      " f1:0.9569391954006216 \n",
      " precision:0.9480714740068236 \n",
      " recall:0.965974370304905 \n",
      ", 'Validation':  best_epoch_indx:51\n",
      " auc:0.943061194104634 \n",
      " apur:0.9394623595184833 \n",
      " f1:0.8860361540476814 \n",
      " precision:0.875712066286898 \n",
      " recall:0.8966065747613998 \n",
      ", 'Test':  best_epoch_indx:51\n",
      " auc:0.9438280208316959 \n",
      " apur:0.9413146408649268 \n",
      " f1:0.8867358222315833 \n",
      " precision:0.8805689186362685 \n",
      " recall:0.8929897125888218 \n",
      "}\n",
      "=====Epoch 52\n",
      "Training...\n"
     ]
    },
    {
     "name": "stderr",
     "output_type": "stream",
     "text": [
      "Iteration: 100%|██████████| 214/214 [00:17<00:00, 12.14it/s]\n",
      "Iteration:  15%|█▍        | 32/214 [00:02<00:14, 12.15it/s]]"
     ]
    },
    {
     "name": "stdout",
     "output_type": "stream",
     "text": [
      "Evaluating...\n"
     ]
    },
    {
     "name": "stderr",
     "output_type": "stream",
     "text": [
      "Iteration: 100%|██████████| 214/214 [00:17<00:00, 12.25it/s]\n",
      "Iteration:  31%|███       | 66/214 [00:05<00:12, 12.24it/s]"
     ]
    },
    {
     "name": "stdout",
     "output_type": "stream",
     "text": [
      "Evaluating...\n"
     ]
    },
    {
     "name": "stderr",
     "output_type": "stream",
     "text": [
      "Iteration: 100%|██████████| 24/24 [00:01<00:00, 21.77it/s]s]\n",
      "Iteration:  48%|████▊     | 102/214 [00:08<00:09, 12.36it/s]"
     ]
    },
    {
     "name": "stdout",
     "output_type": "stream",
     "text": [
      "{'Train':  best_epoch_indx:49\n",
      " auc:0.9930350233773817 \n",
      " apur:0.9935279921708284 \n",
      " f1:0.9606700655498907 \n",
      " precision:0.950151275032416 \n",
      " recall:0.9714243629400501 \n",
      ", 'Validation':  best_epoch_indx:49\n",
      " auc:0.9443944013303769 \n",
      " apur:0.942122375625194 \n",
      " f1:0.8890346274921301 \n",
      " precision:0.8798026998961579 \n",
      " recall:0.8984623541887593 \n",
      ", 'Test':  best_epoch_indx:49\n",
      " auc:0.9488227871257411 \n",
      " apur:0.947245544917376 \n",
      " f1:0.8924453803632535 \n",
      " precision:0.8860547773363997 \n",
      " recall:0.8989288365680348 \n",
      "}\n",
      "=====Epoch 50\n",
      "Training...\n"
     ]
    },
    {
     "name": "stderr",
     "output_type": "stream",
     "text": [
      "Iteration: 100%|██████████| 214/214 [00:09<00:00, 22.26it/s]\n",
      "Iteration: 100%|██████████| 60/60 [00:02<00:00, 22.27it/s]]]\n",
      "Iteration: 100%|██████████| 214/214 [00:10<00:00, 20.21it/s]\n",
      "Iteration: 100%|██████████| 24/24 [00:01<00:00, 20.27it/s]s]\n",
      "Iteration:  95%|█████████▌| 204/214 [00:16<00:00, 12.40it/s]"
     ]
    },
    {
     "name": "stdout",
     "output_type": "stream",
     "text": [
      "{'Train':  best_epoch_indx:50\n",
      " auc:0.9904890742350455 \n",
      " apur:0.9912257604001489 \n",
      " f1:0.9532769893158987 \n",
      " precision:0.938434752825665 \n",
      " recall:0.9685962586537045 \n",
      ", 'Validation':  best_epoch_indx:50\n",
      " auc:0.9470308876917302 \n",
      " apur:0.9471702897265729 \n",
      " f1:0.8887733887733887 \n",
      " precision:0.8715596330275229 \n",
      " recall:0.9066808059384942 \n",
      ", 'Test':  best_epoch_indx:50\n",
      " auc:0.9463285034818266 \n",
      " apur:0.9418871037264174 \n",
      " f1:0.8909109816971714 \n",
      " precision:0.8739161481179231 \n",
      " recall:0.908579913034256 \n",
      "}\n",
      "=====Epoch 51\n",
      "Training...\n"
     ]
    },
    {
     "name": "stderr",
     "output_type": "stream",
     "text": [
      "Iteration: 100%|██████████| 214/214 [00:17<00:00, 12.32it/s]\n",
      "Iteration:   0%|          | 0/214 [00:00<?, ?it/s]"
     ]
    },
    {
     "name": "stdout",
     "output_type": "stream",
     "text": [
      "Evaluating...\n"
     ]
    },
    {
     "name": "stderr",
     "output_type": "stream",
     "text": [
      "Iteration: 100%|██████████| 214/214 [00:17<00:00, 12.24it/s]\n",
      "Iteration:   5%|▍         | 10/214 [00:00<00:16, 12.09it/s]"
     ]
    },
    {
     "name": "stdout",
     "output_type": "stream",
     "text": [
      "Evaluating...\n"
     ]
    },
    {
     "name": "stderr",
     "output_type": "stream",
     "text": [
      "Iteration: 100%|██████████| 60/60 [00:02<00:00, 22.70it/s]]]\n",
      "Iteration: 100%|██████████| 24/24 [00:01<00:00, 22.60it/s]s]\n",
      "Iteration:  21%|██▏       | 46/214 [00:03<00:14, 11.96it/s]"
     ]
    },
    {
     "name": "stdout",
     "output_type": "stream",
     "text": [
      "{'Train':  best_epoch_indx:51\n",
      " auc:0.9915734674473563 \n",
      " apur:0.9922175084739989 \n",
      " f1:0.9562180726716499 \n",
      " precision:0.9371499688861232 \n",
      " recall:0.976078246523686 \n",
      ", 'Validation':  best_epoch_indx:51\n",
      " auc:0.9452552600501303 \n",
      " apur:0.9435170531248686 \n",
      " f1:0.8899780730039984 \n",
      " precision:0.8666164280331575 \n",
      " recall:0.9146341463414634 \n",
      ", 'Test':  best_epoch_indx:51\n",
      " auc:0.9454825394412989 \n",
      " apur:0.9441994252008035 \n",
      " f1:0.8890492885130956 \n",
      " precision:0.8651414810355208 \n",
      " recall:0.9143160127253447 \n",
      "}\n",
      "=====Epoch 52\n",
      "Training...\n"
     ]
    },
    {
     "name": "stderr",
     "output_type": "stream",
     "text": [
      "Iteration: 100%|██████████| 214/214 [00:17<00:00, 12.01it/s]\n",
      "Iteration:  87%|████████▋ | 186/214 [00:08<00:01, 21.98it/s]"
     ]
    },
    {
     "name": "stdout",
     "output_type": "stream",
     "text": [
      "Evaluating...\n"
     ]
    },
    {
     "name": "stderr",
     "output_type": "stream",
     "text": [
      "Iteration: 100%|██████████| 214/214 [00:09<00:00, 22.07it/s]\n",
      "Iteration: 100%|██████████| 214/214 [00:10<00:00, 20.34it/s]\n",
      "Iteration: 100%|██████████| 60/60 [00:02<00:00, 22.45it/s]s]\n",
      "Iteration: 100%|██████████| 60/60 [00:02<00:00, 20.25it/s]s]\n",
      "Iteration: 100%|██████████| 24/24 [00:01<00:00, 22.39it/s]s]\n",
      "Iteration:  65%|██████▌   | 140/214 [00:11<00:06, 12.17it/s]"
     ]
    },
    {
     "name": "stdout",
     "output_type": "stream",
     "text": [
      "{'Train':  best_epoch_indx:52\n",
      " auc:0.9909194973025839 \n",
      " apur:0.9915668740465938 \n",
      " f1:0.9550064110036135 \n",
      " precision:0.9447919970017585 \n",
      " recall:0.9654441007512152 \n",
      ", 'Validation':  best_epoch_indx:52\n",
      " auc:0.9422312544713756 \n",
      " apur:0.9391754705684823 \n",
      " f1:0.8841415465268676 \n",
      " precision:0.8742871954380508 \n",
      " recall:0.894220572640509 \n",
      ", 'Test':  best_epoch_indx:52\n",
      " auc:0.9426502167152723 \n",
      " apur:0.9391283852888136 \n",
      " f1:0.8844273926525463 \n",
      " precision:0.8766409668680976 \n",
      " recall:0.8923533778767632 \n",
      "}\n",
      "=====Epoch 53\n",
      "Training...\n"
     ]
    },
    {
     "name": "stderr",
     "output_type": "stream",
     "text": [
      "Iteration: 100%|██████████| 24/24 [00:01<00:00, 21.69it/s]s]\n",
      "Iteration:   5%|▍         | 10/214 [00:00<00:16, 12.11it/s]]"
     ]
    },
    {
     "name": "stdout",
     "output_type": "stream",
     "text": [
      "{'Train':  best_epoch_indx:51\n",
      " auc:0.9911321635572805 \n",
      " apur:0.991841527126527 \n",
      " f1:0.9551310915825405 \n",
      " precision:0.9420630372492836 \n",
      " recall:0.9685667992340551 \n",
      ", 'Validation':  best_epoch_indx:51\n",
      " auc:0.9435234344477312 \n",
      " apur:0.9427237134179152 \n",
      " f1:0.8850589607360373 \n",
      " precision:0.8656527249683144 \n",
      " recall:0.9053552492046659 \n",
      ", 'Test':  best_epoch_indx:51\n",
      " auc:0.9425905762076783 \n",
      " apur:0.9399780139078506 \n",
      " f1:0.8841259908218606 \n",
      " precision:0.8697034985123627 \n",
      " recall:0.8990348923533779 \n",
      "}\n",
      "=====Epoch 52\n",
      "Training...\n"
     ]
    },
    {
     "name": "stderr",
     "output_type": "stream",
     "text": [
      "Iteration: 100%|██████████| 214/214 [00:17<00:00, 12.25it/s]\n",
      "Iteration:  14%|█▍        | 30/214 [00:02<00:14, 12.50it/s]]"
     ]
    },
    {
     "name": "stdout",
     "output_type": "stream",
     "text": [
      "Evaluating...\n"
     ]
    },
    {
     "name": "stderr",
     "output_type": "stream",
     "text": [
      "Iteration: 100%|██████████| 214/214 [00:09<00:00, 22.13it/s]\n",
      "Iteration: 100%|██████████| 214/214 [00:17<00:00, 12.17it/s]\n",
      "Iteration:  70%|███████   | 42/60 [00:02<00:00, 19.93it/s]]"
     ]
    },
    {
     "name": "stdout",
     "output_type": "stream",
     "text": [
      "Evaluating...\n"
     ]
    },
    {
     "name": "stderr",
     "output_type": "stream",
     "text": [
      "Iteration: 100%|██████████| 60/60 [00:02<00:00, 20.77it/s]]]\n",
      "Iteration: 100%|██████████| 24/24 [00:01<00:00, 20.39it/s]]]\n",
      "Iteration:  69%|██████▊   | 147/214 [00:06<00:02, 22.40it/s]"
     ]
    },
    {
     "name": "stdout",
     "output_type": "stream",
     "text": [
      "{'Train':  best_epoch_indx:50\n",
      " auc:0.9930367144502683 \n",
      " apur:0.9935726971344856 \n",
      " f1:0.9611030478955007 \n",
      " precision:0.9472178515233872 \n",
      " recall:0.9754013845927235 \n",
      ", 'Validation':  best_epoch_indx:50\n",
      " auc:0.9445720671581587 \n",
      " apur:0.9422894800189386 \n",
      " f1:0.8907125179106422 \n",
      " precision:0.8755441741357234 \n",
      " recall:0.9064156945917285 \n",
      ", 'Test':  best_epoch_indx:50\n",
      " auc:0.9473529884135322 \n",
      " apur:0.9456181210748308 \n",
      " f1:0.8928011702016507 \n",
      " precision:0.8797487902810666 \n",
      " recall:0.9062466857567081 \n",
      "}\n",
      "=====Epoch 51\n",
      "Training...\n"
     ]
    },
    {
     "name": "stderr",
     "output_type": "stream",
     "text": [
      "Iteration: 100%|██████████| 214/214 [00:09<00:00, 21.56it/s]\n",
      "Iteration: 100%|██████████| 60/60 [00:02<00:00, 22.59it/s]]]\n",
      "Iteration: 100%|██████████| 214/214 [00:09<00:00, 21.89it/s]\n",
      "Iteration: 100%|██████████| 24/24 [00:01<00:00, 20.27it/s]s]\n",
      "Iteration:  15%|█▌        | 9/60 [00:00<00:02, 22.39it/s]/s]"
     ]
    },
    {
     "name": "stdout",
     "output_type": "stream",
     "text": [
      "{'Train':  best_epoch_indx:51\n",
      " auc:0.9897990690200802 \n",
      " apur:0.9905454669911218 \n",
      " f1:0.9522164484570499 \n",
      " precision:0.9385390139918166 \n",
      " recall:0.9662984239210488 \n",
      ", 'Validation':  best_epoch_indx:51\n",
      " auc:0.9472998044645258 \n",
      " apur:0.947360771589455 \n",
      " f1:0.8873001429871312 \n",
      " precision:0.8704412139760265 \n",
      " recall:0.9048250265111347 \n",
      ", 'Test':  best_epoch_indx:51\n",
      " auc:0.9453039995209729 \n",
      " apur:0.9405990856376983 \n",
      " f1:0.8894671107410491 \n",
      " precision:0.8731991417186064 \n",
      " recall:0.9063527415420511 \n",
      "}\n",
      "=====Epoch 52\n",
      "Training...\n"
     ]
    },
    {
     "name": "stderr",
     "output_type": "stream",
     "text": [
      "Iteration: 100%|██████████| 214/214 [00:17<00:00, 12.23it/s]\n",
      "Iteration:  51%|█████▏    | 110/214 [00:08<00:08, 12.04it/s]"
     ]
    },
    {
     "name": "stdout",
     "output_type": "stream",
     "text": [
      "Evaluating...\n"
     ]
    },
    {
     "name": "stderr",
     "output_type": "stream",
     "text": [
      "Iteration: 100%|██████████| 214/214 [00:17<00:00, 12.36it/s]\n",
      "Iteration:  55%|█████▌    | 118/214 [00:09<00:07, 12.37it/s]"
     ]
    },
    {
     "name": "stdout",
     "output_type": "stream",
     "text": [
      "Evaluating...\n"
     ]
    },
    {
     "name": "stderr",
     "output_type": "stream",
     "text": [
      "Iteration: 100%|██████████| 60/60 [00:02<00:00, 22.42it/s]s]\n",
      "Iteration: 100%|██████████| 24/24 [00:01<00:00, 22.24it/s]]]\n",
      "Iteration:  22%|██▏       | 48/214 [00:03<00:13, 12.68it/s]]"
     ]
    },
    {
     "name": "stdout",
     "output_type": "stream",
     "text": [
      "{'Train':  best_epoch_indx:52\n",
      " auc:0.9902965507098522 \n",
      " apur:0.9910267323599307 \n",
      " f1:0.9534160588184011 \n",
      " precision:0.9406502666437295 \n",
      " recall:0.9665331133631865 \n",
      ", 'Validation':  best_epoch_indx:52\n",
      " auc:0.9429396186709422 \n",
      " apur:0.9422192858987599 \n",
      " f1:0.8883103358500392 \n",
      " precision:0.8726342710997442 \n",
      " recall:0.9045599151643691 \n",
      ", 'Test':  best_epoch_indx:52\n",
      " auc:0.9444890521922067 \n",
      " apur:0.9436497029843601 \n",
      " f1:0.8894333524474796 \n",
      " precision:0.8747052189070029 \n",
      " recall:0.9046659597030753 \n",
      "}\n",
      "=====Epoch 53\n",
      "Training...\n"
     ]
    },
    {
     "name": "stderr",
     "output_type": "stream",
     "text": [
      "Iteration: 100%|██████████| 214/214 [00:17<00:00, 12.36it/s]\n",
      "Iteration:  30%|██▉       | 64/214 [00:05<00:12, 12.23it/s]]"
     ]
    },
    {
     "name": "stdout",
     "output_type": "stream",
     "text": [
      "Evaluating...\n"
     ]
    },
    {
     "name": "stderr",
     "output_type": "stream",
     "text": [
      "Iteration: 100%|██████████| 214/214 [00:09<00:00, 21.91it/s]\n",
      "Iteration: 100%|██████████| 214/214 [00:09<00:00, 22.16it/s]\n",
      "Iteration: 100%|██████████| 60/60 [00:03<00:00, 19.12it/s]s]\n",
      "Iteration: 100%|██████████| 60/60 [00:02<00:00, 22.51it/s]\n",
      "Iteration: 100%|██████████| 24/24 [00:01<00:00, 22.10it/s]s]\n",
      "Iteration: 100%|██████████| 24/24 [00:01<00:00, 20.51it/s]s]\n",
      "Iteration:   1%|          | 2/214 [00:00<00:17, 12.22it/s]s]"
     ]
    },
    {
     "name": "stdout",
     "output_type": "stream",
     "text": [
      "{'Train':  best_epoch_indx:53\n",
      " auc:0.9871945619448171 \n",
      " apur:0.9881563558359697 \n",
      " f1:0.9465162420889514 \n",
      " precision:0.9308910665451231 \n",
      " recall:0.9626749153041685 \n",
      ", 'Validation':  best_epoch_indx:53\n",
      " auc:0.9366615774378828 \n",
      " apur:0.9336553042963268 \n",
      " f1:0.881290322580645 \n",
      " precision:0.8584715937657114 \n",
      " recall:0.9053552492046659 \n",
      ", 'Test':  best_epoch_indx:53\n",
      " auc:0.938223672298357 \n",
      " apur:0.9356243404305546 \n",
      " f1:0.8813173156586579 \n",
      " precision:0.8610745724982293 \n",
      " recall:0.9025347332696999 \n",
      "}\n",
      "=====Epoch 54\n",
      "Training...\n",
      "{'Train':  best_epoch_indx:52\n",
      " auc:0.9892093201991737 \n",
      " apur:0.9900342118842249 \n",
      " f1:0.9506702959200012 \n",
      " precision:0.9395787777649902 \n",
      " recall:0.962026808071881 \n",
      ", 'Validation':  best_epoch_indx:52\n",
      " auc:0.9411649423858499 \n",
      " apur:0.9404240644062338 \n",
      " f1:0.8853744608547902 \n",
      " precision:0.8731631863882444 \n",
      " recall:0.897932131495228 \n",
      ", 'Test':  best_epoch_indx:52\n",
      " auc:0.9407775297222605 \n",
      " apur:0.9379752770187313 \n",
      " f1:0.8838837792642141 \n",
      " precision:0.8712269496239827 \n",
      " recall:0.8969137766465161 \n",
      "}\n",
      "=====Epoch 53\n",
      "Training...\n"
     ]
    },
    {
     "name": "stderr",
     "output_type": "stream",
     "text": [
      "Iteration: 100%|██████████| 214/214 [00:17<00:00, 12.42it/s]\n",
      "Iteration:   9%|▉         | 20/214 [00:01<00:16, 12.00it/s]"
     ]
    },
    {
     "name": "stdout",
     "output_type": "stream",
     "text": [
      "Evaluating...\n"
     ]
    },
    {
     "name": "stderr",
     "output_type": "stream",
     "text": [
      "Iteration: 100%|██████████| 214/214 [00:10<00:00, 20.69it/s]\n",
      "Iteration: 100%|██████████| 214/214 [00:17<00:00, 12.17it/s]\n",
      "Iteration:  43%|████▎     | 93/214 [00:04<00:05, 21.90it/s]"
     ]
    },
    {
     "name": "stdout",
     "output_type": "stream",
     "text": [
      "Evaluating...\n"
     ]
    },
    {
     "name": "stderr",
     "output_type": "stream",
     "text": [
      "Iteration: 100%|██████████| 60/60 [00:02<00:00, 22.67it/s]]]\n",
      "Iteration: 100%|██████████| 24/24 [00:01<00:00, 21.94it/s]s]\n",
      "Iteration:  27%|██▋       | 57/214 [00:02<00:07, 21.80it/s]]"
     ]
    },
    {
     "name": "stdout",
     "output_type": "stream",
     "text": [
      "{'Train':  best_epoch_indx:51\n",
      " auc:0.991420632203218 \n",
      " apur:0.9921032478809473 \n",
      " f1:0.9555469098978371 \n",
      " precision:0.9352118237716478 \n",
      " recall:0.9767859773162468 \n",
      ", 'Validation':  best_epoch_indx:51\n",
      " auc:0.9403507397748201 \n",
      " apur:0.9389680030677204 \n",
      " f1:0.8881172839506172 \n",
      " precision:0.8623876123876124 \n",
      " recall:0.9154294803817603 \n",
      ", 'Test':  best_epoch_indx:51\n",
      " auc:0.9435562293565458 \n",
      " apur:0.9427313890236246 \n",
      " f1:0.8868041237113402 \n",
      " precision:0.862701835322435 \n",
      " recall:0.9122918655212642 \n",
      "}\n",
      "=====Epoch 52\n",
      "Training...\n"
     ]
    },
    {
     "name": "stderr",
     "output_type": "stream",
     "text": [
      "Iteration: 100%|██████████| 214/214 [00:09<00:00, 21.62it/s]\n",
      "Iteration: 100%|██████████| 60/60 [00:02<00:00, 22.73it/s]s]\n",
      "Iteration: 100%|██████████| 214/214 [00:09<00:00, 21.96it/s]\n",
      "Iteration: 100%|██████████| 24/24 [00:01<00:00, 19.98it/s]s]\n",
      "Iteration:  45%|████▍     | 96/214 [00:07<00:09, 11.90it/s]]"
     ]
    },
    {
     "name": "stdout",
     "output_type": "stream",
     "text": [
      "{'Train':  best_epoch_indx:52\n",
      " auc:0.9865587501774158 \n",
      " apur:0.9875061812849413 \n",
      " f1:0.9451263958946846 \n",
      " precision:0.9355248347715662 \n",
      " recall:0.9549270879363676 \n",
      ", 'Validation':  best_epoch_indx:52\n",
      " auc:0.9446205863400428 \n",
      " apur:0.9435431347126016 \n",
      " f1:0.8866465731883109 \n",
      " precision:0.8766519823788547 \n",
      " recall:0.8968716861081655 \n",
      ", 'Test':  best_epoch_indx:52\n",
      " auc:0.940954659375712 \n",
      " apur:0.936441010594476 \n",
      " f1:0.8798567968832263 \n",
      " precision:0.8736016727652901 \n",
      " recall:0.8862021423268639 \n",
      "}\n",
      "=====Epoch 53\n",
      "Training...\n"
     ]
    },
    {
     "name": "stderr",
     "output_type": "stream",
     "text": [
      "Iteration: 100%|██████████| 214/214 [00:17<00:00, 12.27it/s]\n",
      "Iteration: 100%|██████████| 214/214 [00:17<00:00, 12.32it/s]\n",
      "Iteration:   1%|▏         | 3/214 [00:00<00:09, 21.70it/s]]]"
     ]
    },
    {
     "name": "stdout",
     "output_type": "stream",
     "text": [
      "Evaluating...\n",
      "Evaluating...\n"
     ]
    },
    {
     "name": "stderr",
     "output_type": "stream",
     "text": [
      "Iteration: 100%|██████████| 60/60 [00:03<00:00, 19.33it/s]]]\n",
      "Iteration: 100%|██████████| 24/24 [00:01<00:00, 19.70it/s]]]\n",
      "Iteration:  38%|███▊      | 81/214 [00:03<00:05, 22.38it/s]]"
     ]
    },
    {
     "name": "stdout",
     "output_type": "stream",
     "text": [
      "{'Train':  best_epoch_indx:53\n",
      " auc:0.9877597996986288 \n",
      " apur:0.988597591072175 \n",
      " f1:0.9466059662851074 \n",
      " precision:0.9348444367835904 \n",
      " recall:0.9586672165920339 \n",
      ", 'Validation':  best_epoch_indx:53\n",
      " auc:0.9402639284935079 \n",
      " apur:0.9368045185082509 \n",
      " f1:0.8822376159979088 \n",
      " precision:0.8700696055684455 \n",
      " recall:0.8947507953340403 \n",
      ", 'Test':  best_epoch_indx:53\n",
      " auc:0.9419808178509026 \n",
      " apur:0.9413465740645065 \n",
      " f1:0.8847959929041009 \n",
      " precision:0.8708915365653246 \n",
      " recall:0.8991516436903499 \n",
      "}\n",
      "=====Epoch 54\n",
      "Training...\n"
     ]
    },
    {
     "name": "stderr",
     "output_type": "stream",
     "text": [
      "Iteration: 100%|██████████| 214/214 [00:17<00:00, 12.18it/s]\n",
      "Iteration:   1%|▏         | 3/214 [00:00<00:09, 21.75it/s]s]"
     ]
    },
    {
     "name": "stdout",
     "output_type": "stream",
     "text": [
      "Evaluating...\n"
     ]
    },
    {
     "name": "stderr",
     "output_type": "stream",
     "text": [
      "Iteration: 100%|██████████| 214/214 [00:09<00:00, 22.14it/s]\n",
      "Iteration: 100%|██████████| 214/214 [00:10<00:00, 21.16it/s]\n",
      "Iteration: 100%|██████████| 60/60 [00:02<00:00, 22.00it/s]s]\n",
      "Iteration: 100%|██████████| 60/60 [00:03<00:00, 18.13it/s]s]\n",
      "Iteration: 100%|██████████| 24/24 [00:01<00:00, 22.11it/s]s]\n",
      "Iteration:  66%|██████▌   | 141/214 [00:06<00:03, 22.31it/s]"
     ]
    },
    {
     "name": "stdout",
     "output_type": "stream",
     "text": [
      "{'Train':  best_epoch_indx:54\n",
      " auc:0.9855308609200926 \n",
      " apur:0.9867869875018155 \n",
      " f1:0.9415507307991146 \n",
      " precision:0.9371133418933115 \n",
      " recall:0.9460303432022389 \n",
      ", 'Validation':  best_epoch_indx:54\n",
      " auc:0.9351236700036025 \n",
      " apur:0.931928690245606 \n",
      " f1:0.8719576719576719 \n",
      " precision:0.870116156282999 \n",
      " recall:0.8738069989395546 \n",
      ", 'Test':  best_epoch_indx:54\n",
      " auc:0.936542569471456 \n",
      " apur:0.9346817613188363 \n",
      " f1:0.876979293544458 \n",
      " precision:0.8758197588322403 \n",
      " recall:0.8781419026407891 \n",
      "}\n",
      "=====Epoch 55\n",
      "Training...\n"
     ]
    },
    {
     "name": "stderr",
     "output_type": "stream",
     "text": [
      "\r",
      "Iteration:   1%|          | 2/214 [00:00<00:17, 11.82it/s]\r",
      "Iteration:  93%|█████████▎| 198/214 [00:16<00:01, 12.49it/s]\r",
      "Iteration:  65%|██████▌   | 140/214 [00:11<00:06, 12.30it/s]\r",
      "Iteration:  67%|██████▋   | 144/214 [00:06<00:03, 22.37it/s]\r",
      "Iteration:  96%|█████████▌| 23/24 [00:01<00:00, 19.89it/s]\r",
      "Iteration: 100%|██████████| 24/24 [00:01<00:00, 20.17it/s]\n",
      "\r",
      "Iteration:  93%|█████████▎| 200/214 [00:16<00:01, 12.51it/s]\r",
      "Iteration:   2%|▏         | 4/214 [00:00<00:17, 11.68it/s]\r",
      "Iteration:  69%|██████▊   | 147/214 [00:06<00:02, 22.39it/s]\r",
      "Iteration:  66%|██████▋   | 142/214 [00:11<00:05, 12.30it/s]\r",
      "Iteration:   0%|          | 0/214 [00:00<?, ?it/s]"
     ]
    },
    {
     "name": "stdout",
     "output_type": "stream",
     "text": [
      "{'Train':  best_epoch_indx:53\n",
      " auc:0.985926335416275 \n",
      " apur:0.9870946007436071 \n",
      " f1:0.942780568532974 \n",
      " precision:0.9374126281453867 \n",
      " recall:0.9482103402562969 \n",
      ", 'Validation':  best_epoch_indx:53\n",
      " auc:0.9385751914129294 \n",
      " apur:0.9381796135037309 \n",
      " f1:0.8769392584801473 \n",
      " precision:0.8698487219613981 \n",
      " recall:0.8841463414634146 \n",
      ", 'Test':  best_epoch_indx:53\n",
      " auc:0.9366907347331683 \n",
      " apur:0.9341573511355491 \n",
      " f1:0.8756213643574828 \n",
      " precision:0.8732201244594452 \n",
      " recall:0.878035846855446 \n",
      "}\n",
      "=====Epoch 54\n",
      "Training...\n"
     ]
    },
    {
     "name": "stderr",
     "output_type": "stream",
     "text": [
      "Iteration: 100%|██████████| 214/214 [00:17<00:00, 12.35it/s]\n",
      "Iteration:  73%|███████▎  | 156/214 [00:12<00:04, 12.36it/s]"
     ]
    },
    {
     "name": "stdout",
     "output_type": "stream",
     "text": [
      "Evaluating...\n"
     ]
    },
    {
     "name": "stderr",
     "output_type": "stream",
     "text": [
      "Iteration: 100%|██████████| 214/214 [00:09<00:00, 22.21it/s]\n",
      "Iteration: 100%|██████████| 214/214 [00:17<00:00, 11.98it/s]\n",
      "Iteration: 100%|██████████| 60/60 [00:02<00:00, 22.13it/s]s]\n"
     ]
    },
    {
     "name": "stdout",
     "output_type": "stream",
     "text": [
      "Evaluating...\n"
     ]
    },
    {
     "name": "stderr",
     "output_type": "stream",
     "text": [
      "Iteration: 100%|██████████| 24/24 [00:01<00:00, 20.36it/s]s]\n",
      "Iteration:  48%|████▊     | 102/214 [00:08<00:09, 12.32it/s]"
     ]
    },
    {
     "name": "stdout",
     "output_type": "stream",
     "text": [
      "{'Train':  best_epoch_indx:52\n",
      " auc:0.9896535775275864 \n",
      " apur:0.9902800529274914 \n",
      " f1:0.9516884180956282 \n",
      " precision:0.9453536028834695 \n",
      " recall:0.9581087052585064 \n",
      ", 'Validation':  best_epoch_indx:52\n",
      " auc:0.9378398721123161 \n",
      " apur:0.9347490642088903 \n",
      " f1:0.8777206173328056 \n",
      " precision:0.8734576004200577 \n",
      " recall:0.8820254506892895 \n",
      ", 'Test':  best_epoch_indx:52\n",
      " auc:0.9411919972537133 \n",
      " apur:0.9394765354643965 \n",
      " f1:0.8807223190242357 \n",
      " precision:0.8769716088328076 \n",
      " recall:0.8845052497613745 \n",
      "}\n",
      "=====Epoch 53\n",
      "Training...\n"
     ]
    },
    {
     "name": "stderr",
     "output_type": "stream",
     "text": [
      "Iteration: 100%|██████████| 214/214 [00:09<00:00, 22.14it/s]\n",
      "Iteration: 100%|██████████| 60/60 [00:03<00:00, 19.34it/s]s]\n",
      "Iteration: 100%|██████████| 24/24 [00:01<00:00, 22.70it/s]s]\n",
      "Iteration: 100%|██████████| 214/214 [00:09<00:00, 21.81it/s]\n"
     ]
    },
    {
     "name": "stdout",
     "output_type": "stream",
     "text": [
      "{'Train':  best_epoch_indx:53\n",
      " auc:0.9846977516307399 \n",
      " apur:0.9858513033514751 \n",
      " f1:0.9366529294302588 \n",
      " precision:0.901898216331206 \n",
      " recall:0.9741935483870968 \n",
      ", 'Validation':  best_epoch_indx:53\n",
      " auc:0.940735404922699 \n",
      " apur:0.9410166571802243 \n",
      " f1:0.8834340382678751 \n",
      " precision:0.8410834132310643 \n",
      " recall:0.9302757158006363 \n",
      ", 'Test':  best_epoch_indx:53\n",
      " auc:0.9385948103199891 \n",
      " apur:0.9360099320837408 \n",
      " f1:0.883240506329114 \n",
      " precision:0.8450731518263734 \n",
      " recall:0.9250185597624351 \n",
      "}\n",
      "=====Epoch 54\n",
      "Training...\n"
     ]
    },
    {
     "name": "stderr",
     "output_type": "stream",
     "text": [
      "Iteration: 100%|██████████| 214/214 [00:17<00:00, 12.33it/s]\n",
      "Iteration:  15%|█▌        | 9/60 [00:00<00:02, 21.76it/s]s]]"
     ]
    },
    {
     "name": "stdout",
     "output_type": "stream",
     "text": [
      "Evaluating...\n"
     ]
    },
    {
     "name": "stderr",
     "output_type": "stream",
     "text": [
      "\r",
      "Iteration:  53%|█████▎    | 114/214 [00:09<00:08, 12.21it/s]\r",
      "Iteration:  99%|█████████▉| 212/214 [00:17<00:00, 12.24it/s]\r",
      "Iteration:   3%|▎         | 6/214 [00:00<00:10, 20.28it/s]\r",
      "Iteration:  20%|██        | 12/60 [00:00<00:02, 22.02it/s]\r",
      "Iteration:   7%|▋         | 16/214 [00:01<00:16, 11.98it/s]\r",
      "Iteration: 100%|██████████| 214/214 [00:17<00:00, 12.86it/s]\r",
      "Iteration: 100%|██████████| 214/214 [00:17<00:00, 12.31it/s]\n",
      "\r",
      "Iteration:   0%|          | 0/214 [00:00<?, ?it/s]\r",
      "Iteration:  54%|█████▍    | 116/214 [00:09<00:07, 12.29it/s]\r",
      "Iteration:  25%|██▌       | 15/60 [00:00<00:02, 22.15it/s]"
     ]
    },
    {
     "name": "stdout",
     "output_type": "stream",
     "text": [
      "Evaluating...\n"
     ]
    },
    {
     "name": "stderr",
     "output_type": "stream",
     "text": [
      "Iteration: 100%|██████████| 60/60 [00:02<00:00, 22.43it/s]s]\n",
      "Iteration: 100%|██████████| 24/24 [00:01<00:00, 22.31it/s]s]\n",
      "Iteration:  36%|███▌      | 76/214 [00:03<00:06, 20.21it/s]"
     ]
    },
    {
     "name": "stdout",
     "output_type": "stream",
     "text": [
      "{'Train':  best_epoch_indx:54\n",
      " auc:0.9848384017818976 \n",
      " apur:0.9860548973584768 \n",
      " f1:0.9399650000723139 \n",
      " precision:0.923208045683116 \n",
      " recall:0.9573415036530757 \n",
      ", 'Validation':  best_epoch_indx:54\n",
      " auc:0.9367209579398946 \n",
      " apur:0.9348045295293624 \n",
      " f1:0.8825733109417386 \n",
      " precision:0.8606701940035273 \n",
      " recall:0.9056203605514316 \n",
      ", 'Test':  best_epoch_indx:54\n",
      " auc:0.938534395715491 \n",
      " apur:0.9380505930198153 \n",
      " f1:0.8802992518703242 \n",
      " precision:0.862904868608678 \n",
      " recall:0.8984093319194062 \n",
      "}\n",
      "=====Epoch 55\n",
      "Training...\n"
     ]
    },
    {
     "name": "stderr",
     "output_type": "stream",
     "text": [
      "Iteration: 100%|██████████| 214/214 [00:17<00:00, 12.21it/s]\n",
      "Iteration:  81%|████████▏ | 174/214 [00:08<00:01, 22.24it/s]"
     ]
    },
    {
     "name": "stdout",
     "output_type": "stream",
     "text": [
      "Evaluating...\n"
     ]
    },
    {
     "name": "stderr",
     "output_type": "stream",
     "text": [
      "Iteration: 100%|██████████| 214/214 [00:09<00:00, 22.30it/s]\n",
      "Iteration: 100%|██████████| 214/214 [00:10<00:00, 20.76it/s]\n",
      "Iteration: 100%|██████████| 60/60 [00:02<00:00, 20.08it/s]s]\n",
      "Iteration: 100%|██████████| 60/60 [00:02<00:00, 22.51it/s]\n",
      "Iteration: 100%|██████████| 24/24 [00:01<00:00, 22.42it/s]s]\n",
      "Iteration: 100%|██████████| 24/24 [00:01<00:00, 20.03it/s]s]\n",
      "Iteration:  64%|██████▍   | 138/214 [00:11<00:06, 12.28it/s]"
     ]
    },
    {
     "name": "stdout",
     "output_type": "stream",
     "text": [
      "{'Train':  best_epoch_indx:55\n",
      " auc:0.9883033168081115 \n",
      " apur:0.98911052470594 \n",
      " f1:0.9482028232117984 \n",
      " precision:0.9249971982517091 \n",
      " recall:0.9726027397260274 \n",
      ", 'Validation':  best_epoch_indx:55\n",
      " auc:0.9405282470431839 \n",
      " apur:0.9376373993655776 \n",
      " f1:0.8857874519846352 \n",
      " precision:0.8566121842496285 \n",
      " recall:0.9170201484623541 \n",
      ", 'Test':  best_epoch_indx:55\n",
      " auc:0.9389543901886865 \n",
      " apur:0.9360778604917261 \n",
      " f1:0.8846134060394053 \n",
      " precision:0.858941058941059 \n",
      " recall:0.9118676423798918 \n",
      "}\n",
      "=====Epoch 56\n",
      "Training...\n",
      "{'Train':  best_epoch_indx:54\n",
      " auc:0.9844069551287539 \n",
      " apur:0.9856680104964126 \n",
      " f1:0.9397071865776886 \n",
      " precision:0.9276897462395224 \n",
      " recall:0.9520400648107232 \n",
      ", 'Validation':  best_epoch_indx:54\n",
      " auc:0.9393342153465221 \n",
      " apur:0.9389361591386475 \n",
      " f1:0.8797814207650273 \n",
      " precision:0.8638221768012264 \n",
      " recall:0.8963414634146342 \n",
      ", 'Test':  best_epoch_indx:54\n",
      " auc:0.9361564089409593 \n",
      " apur:0.933732478465179 \n",
      " f1:0.8765483938694101 \n",
      " precision:0.8677127714849839 \n",
      " recall:0.8855658076148054 \n",
      "}\n",
      "=====Epoch 55\n",
      "Training...\n"
     ]
    },
    {
     "name": "stderr",
     "output_type": "stream",
     "text": [
      "Iteration: 100%|██████████| 214/214 [00:17<00:00, 12.28it/s]\n",
      "Iteration:   8%|▊         | 18/214 [00:01<00:15, 12.33it/s]]"
     ]
    },
    {
     "name": "stdout",
     "output_type": "stream",
     "text": [
      "Evaluating...\n"
     ]
    },
    {
     "name": "stderr",
     "output_type": "stream",
     "text": [
      "Iteration: 100%|██████████| 214/214 [00:09<00:00, 22.09it/s]\n",
      "Iteration: 100%|██████████| 214/214 [00:17<00:00, 12.26it/s]\n",
      "Iteration:  53%|█████▎    | 114/214 [00:05<00:04, 22.40it/s]"
     ]
    },
    {
     "name": "stdout",
     "output_type": "stream",
     "text": [
      "Evaluating...\n"
     ]
    },
    {
     "name": "stderr",
     "output_type": "stream",
     "text": [
      "Iteration: 100%|██████████| 60/60 [00:03<00:00, 17.68it/s]s]\n",
      "Iteration: 100%|██████████| 24/24 [00:01<00:00, 20.05it/s]s]\n",
      "Iteration:  48%|████▊     | 102/214 [00:08<00:09, 12.02it/s]"
     ]
    },
    {
     "name": "stdout",
     "output_type": "stream",
     "text": [
      "{'Train':  best_epoch_indx:53\n",
      " auc:0.9877036535093756 \n",
      " apur:0.9884824678794912 \n",
      " f1:0.9471588121554934 \n",
      " precision:0.9282461747320191 \n",
      " recall:0.966858152894388 \n",
      ", 'Validation':  best_epoch_indx:53\n",
      " auc:0.9370068802102626 \n",
      " apur:0.9344555734037332 \n",
      " f1:0.8843729903536978 \n",
      " precision:0.8588558581064202 \n",
      " recall:0.9114528101802757 \n",
      ", 'Test':  best_epoch_indx:53\n",
      " auc:0.9388433690523128 \n",
      " apur:0.935650814659236 \n",
      " f1:0.8850913986846876 \n",
      " precision:0.8648046954057883 \n",
      " recall:0.9063527415420511 \n",
      "}\n",
      "=====Epoch 54\n",
      "Training...\n"
     ]
    },
    {
     "name": "stderr",
     "output_type": "stream",
     "text": [
      "Iteration: 100%|██████████| 214/214 [00:09<00:00, 22.32it/s]\n",
      "Iteration: 100%|██████████| 60/60 [00:02<00:00, 21.87it/s]s]\n",
      "Iteration: 100%|██████████| 24/24 [00:01<00:00, 21.18it/s]s]\n",
      "Iteration:  89%|████████▉ | 190/214 [00:15<00:01, 12.14it/s]"
     ]
    },
    {
     "name": "stdout",
     "output_type": "stream",
     "text": [
      "{'Train':  best_epoch_indx:54\n",
      " auc:0.9816474853971329 \n",
      " apur:0.9829584772799506 \n",
      " f1:0.9317284980835325 \n",
      " precision:0.8960770444529083 \n",
      " recall:0.970334364413021 \n",
      ", 'Validation':  best_epoch_indx:54\n",
      " auc:0.9383467469315582 \n",
      " apur:0.9383188012347283 \n",
      " f1:0.8795574553683682 \n",
      " precision:0.836441893830703 \n",
      " recall:0.9273594909862142 \n",
      ", 'Test':  best_epoch_indx:54\n",
      " auc:0.9346402235087617 \n",
      " apur:0.9308453353268725 \n",
      " f1:0.8788735237710711 \n",
      " precision:0.8384207992296582 \n",
      " recall:0.9234277229822887 \n",
      "}\n",
      "=====Epoch 55\n",
      "Training...\n"
     ]
    },
    {
     "name": "stderr",
     "output_type": "stream",
     "text": [
      "Iteration: 100%|██████████| 214/214 [00:09<00:00, 21.63it/s]\n",
      "Iteration: 100%|██████████| 214/214 [00:17<00:00, 12.35it/s]\n",
      "Iteration:  10%|█         | 22/214 [00:01<00:15, 12.28it/s]]"
     ]
    },
    {
     "name": "stdout",
     "output_type": "stream",
     "text": [
      "Evaluating...\n"
     ]
    },
    {
     "name": "stderr",
     "output_type": "stream",
     "text": [
      "Iteration: 100%|██████████| 214/214 [00:17<00:00, 11.98it/s]\n",
      "Iteration:  40%|████      | 24/60 [00:01<00:01, 21.13it/s]s]"
     ]
    },
    {
     "name": "stdout",
     "output_type": "stream",
     "text": [
      "Evaluating...\n"
     ]
    },
    {
     "name": "stderr",
     "output_type": "stream",
     "text": [
      "Iteration: 100%|██████████| 60/60 [00:02<00:00, 21.62it/s]s]\n",
      "Iteration: 100%|██████████| 24/24 [00:01<00:00, 22.17it/s]]]\n",
      "Iteration:  38%|███▊      | 81/214 [00:03<00:06, 22.12it/s]]"
     ]
    },
    {
     "name": "stdout",
     "output_type": "stream",
     "text": [
      "{'Train':  best_epoch_indx:55\n",
      " auc:0.9852860317377407 \n",
      " apur:0.9863357357726471 \n",
      " f1:0.9423572097378277 \n",
      " precision:0.9360032550569635 \n",
      " recall:0.9487980202686779 \n",
      ", 'Validation':  best_epoch_indx:55\n",
      " auc:0.9394083418744008 \n",
      " apur:0.9346749577229607 \n",
      " f1:0.8804733727810651 \n",
      " precision:0.8734672580224367 \n",
      " recall:0.887592788971368 \n",
      ", 'Test':  best_epoch_indx:55\n",
      " auc:0.9388794051965755 \n",
      " apur:0.9377831058438295 \n",
      " f1:0.8782462411944065 \n",
      " precision:0.8708298582151793 \n",
      " recall:0.8857900318133616 \n",
      "}\n",
      "=====Epoch 56\n",
      "Training...\n"
     ]
    },
    {
     "name": "stderr",
     "output_type": "stream",
     "text": [
      "Iteration: 100%|██████████| 214/214 [00:17<00:00, 12.29it/s]\n",
      "Iteration:  75%|███████▍  | 160/214 [00:08<00:02, 19.97it/s]"
     ]
    },
    {
     "name": "stdout",
     "output_type": "stream",
     "text": [
      "Evaluating...\n"
     ]
    },
    {
     "name": "stderr",
     "output_type": "stream",
     "text": [
      "Iteration: 100%|██████████| 214/214 [00:09<00:00, 22.17it/s]\n",
      "Iteration: 100%|██████████| 214/214 [00:10<00:00, 19.68it/s]\n",
      "Iteration: 100%|██████████| 60/60 [00:02<00:00, 22.74it/s]s]\n",
      "Iteration: 100%|██████████| 24/24 [00:01<00:00, 19.51it/s]s]\n",
      "Iteration:   0%|          | 0/214 [00:00<?, ?it/s].44it/s]s]"
     ]
    },
    {
     "name": "stdout",
     "output_type": "stream",
     "text": [
      "{'Train':  best_epoch_indx:55\n",
      " auc:0.987260359431742 \n",
      " apur:0.9880831744686669 \n",
      " f1:0.9461864040770493 \n",
      " precision:0.9252470647858771 \n",
      " recall:0.9680954485196641 \n",
      ", 'Validation':  best_epoch_indx:55\n",
      " auc:0.9390202676990365 \n",
      " apur:0.9375570556353385 \n",
      " f1:0.8821635544108177 \n",
      " precision:0.8577510643626346 \n",
      " recall:0.9080063626723224 \n",
      ", 'Test':  best_epoch_indx:55\n",
      " auc:0.9390882107577103 \n",
      " apur:0.9356534778601684 \n",
      " f1:0.8837713636598337 \n",
      " precision:0.8611390621855504 \n",
      " recall:0.9076254109661682 \n",
      "}\n",
      "=====Epoch 56\n",
      "Training...\n"
     ]
    },
    {
     "name": "stderr",
     "output_type": "stream",
     "text": [
      "Iteration: 100%|██████████| 60/60 [00:02<00:00, 22.46it/s]\n",
      "Iteration: 100%|██████████| 214/214 [00:17<00:00, 12.28it/s]\n",
      "Iteration:   1%|▏         | 3/214 [00:00<00:09, 21.82it/s]s]"
     ]
    },
    {
     "name": "stdout",
     "output_type": "stream",
     "text": [
      "Evaluating...\n"
     ]
    },
    {
     "name": "stderr",
     "output_type": "stream",
     "text": [
      "\r",
      "Iteration: 100%|██████████| 24/24 [00:01<00:00, 22.70it/s]\r",
      "Iteration: 100%|██████████| 24/24 [00:01<00:00, 22.42it/s]\n",
      "\r",
      "Iteration:  68%|██████▊   | 146/214 [00:12<00:05, 12.42it/s]\r",
      "Iteration:  71%|███████▏  | 153/214 [00:07<00:02, 21.93it/s]\r",
      "Iteration:   8%|▊         | 18/214 [00:01<00:15, 12.62it/s]\r",
      "Iteration:   0%|          | 0/214 [00:00<?, ?it/s]\r",
      "Iteration:   3%|▎         | 6/214 [00:00<00:09, 22.19it/s]\r",
      "Iteration:  69%|██████▉   | 148/214 [00:12<00:05, 12.44it/s]\r",
      "Iteration:  73%|███████▎  | 156/214 [00:07<00:02, 21.78it/s]"
     ]
    },
    {
     "name": "stdout",
     "output_type": "stream",
     "text": [
      "{'Train':  best_epoch_indx:56\n",
      " auc:0.9903921183840897 \n",
      " apur:0.9911319914796424 \n",
      " f1:0.9527498955918144 \n",
      " precision:0.931960331323604 \n",
      " recall:0.9744881425835911 \n",
      ", 'Validation':  best_epoch_indx:56\n",
      " auc:0.942361550673053 \n",
      " apur:0.9379075031781978 \n",
      " f1:0.8864102564102565 \n",
      " precision:0.8582423038728898 \n",
      " recall:0.9164899257688229 \n",
      ", 'Test':  best_epoch_indx:56\n",
      " auc:0.9423792409483784 \n",
      " apur:0.940210462468338 \n",
      " f1:0.8898274530002576 \n",
      " precision:0.8650110154215902 \n",
      " recall:0.9161098737936154 \n",
      "}\n",
      "=====Epoch 57\n",
      "Training...\n"
     ]
    },
    {
     "name": "stderr",
     "output_type": "stream",
     "text": [
      "Iteration: 100%|██████████| 214/214 [00:10<00:00, 21.19it/s]\n",
      "Iteration: 100%|██████████| 214/214 [00:17<00:00, 12.03it/s]\n",
      "Iteration:  39%|███▉      | 84/214 [00:07<00:10, 12.31it/s]]"
     ]
    },
    {
     "name": "stdout",
     "output_type": "stream",
     "text": [
      "Evaluating...\n"
     ]
    },
    {
     "name": "stderr",
     "output_type": "stream",
     "text": [
      "Iteration: 100%|██████████| 60/60 [00:02<00:00, 21.17it/s]s]\n",
      "Iteration: 100%|██████████| 24/24 [00:01<00:00, 19.84it/s]s]\n",
      "Iteration:  84%|████████▍ | 180/214 [00:08<00:01, 22.21it/s]"
     ]
    },
    {
     "name": "stdout",
     "output_type": "stream",
     "text": [
      "{'Train':  best_epoch_indx:54\n",
      " auc:0.9809405709216732 \n",
      " apur:0.982228440828278 \n",
      " f1:0.9341405405405405 \n",
      " precision:0.9145639288738358 \n",
      " recall:0.9545735749005745 \n",
      ", 'Validation':  best_epoch_indx:54\n",
      " auc:0.9295294162603318 \n",
      " apur:0.9271935350613887 \n",
      " f1:0.8750971754340502 \n",
      " precision:0.8558033451596554 \n",
      " recall:0.8952810180275715 \n",
      ", 'Test':  best_epoch_indx:54\n",
      " auc:0.9338279516365321 \n",
      " apur:0.9324985767348848 \n",
      " f1:0.8768523777559767 \n",
      " precision:0.8543972630307909 \n",
      " recall:0.9005196733481812 \n",
      "}\n",
      "=====Epoch 55\n",
      "Training...\n"
     ]
    },
    {
     "name": "stderr",
     "output_type": "stream",
     "text": [
      "Iteration: 100%|██████████| 214/214 [00:09<00:00, 22.15it/s]\n",
      "Iteration: 100%|██████████| 60/60 [00:02<00:00, 20.18it/s]s]\n",
      "Iteration: 100%|██████████| 24/24 [00:01<00:00, 19.84it/s]s]\n",
      "Iteration:  39%|███▉      | 84/214 [00:06<00:10, 12.13it/s]]"
     ]
    },
    {
     "name": "stdout",
     "output_type": "stream",
     "text": [
      "{'Train':  best_epoch_indx:55\n",
      " auc:0.9848115253503869 \n",
      " apur:0.9859260970317784 \n",
      " f1:0.9411919253842448 \n",
      " precision:0.9327373719840305 \n",
      " recall:0.9498011489173663 \n",
      ", 'Validation':  best_epoch_indx:55\n",
      " auc:0.9418077026262515 \n",
      " apur:0.941160852565712 \n",
      " f1:0.8832873834843116 \n",
      " precision:0.8749024707412224 \n",
      " recall:0.8918345705196182 \n",
      ", 'Test':  best_epoch_indx:55\n",
      " auc:0.9390841638922167 \n",
      " apur:0.9337820661372787 \n",
      " f1:0.8822265317888779 \n",
      " precision:0.8721243523316062 \n",
      " recall:0.8925654894474494 \n",
      "}\n",
      "=====Epoch 56\n",
      "Training...\n"
     ]
    },
    {
     "name": "stderr",
     "output_type": "stream",
     "text": [
      "Iteration: 100%|██████████| 214/214 [00:09<00:00, 22.23it/s]\n",
      "Iteration: 100%|██████████| 214/214 [00:17<00:00, 12.15it/s]\n",
      "Iteration:  47%|████▋     | 100/214 [00:08<00:09, 12.06it/s]"
     ]
    },
    {
     "name": "stdout",
     "output_type": "stream",
     "text": [
      "Evaluating...\n"
     ]
    },
    {
     "name": "stderr",
     "output_type": "stream",
     "text": [
      "Iteration: 100%|██████████| 214/214 [00:17<00:00, 12.17it/s]\n",
      "Iteration:  15%|█▍        | 32/214 [00:02<00:15, 11.63it/s]]"
     ]
    },
    {
     "name": "stdout",
     "output_type": "stream",
     "text": [
      "Evaluating...\n"
     ]
    },
    {
     "name": "stderr",
     "output_type": "stream",
     "text": [
      "Iteration: 100%|██████████| 60/60 [00:02<00:00, 22.43it/s]s]\n",
      "Iteration: 100%|██████████| 24/24 [00:01<00:00, 22.37it/s]]]\n",
      "Iteration:  39%|███▉      | 84/214 [00:03<00:05, 22.26it/s]]"
     ]
    },
    {
     "name": "stdout",
     "output_type": "stream",
     "text": [
      "{'Train':  best_epoch_indx:56\n",
      " auc:0.9904479361587981 \n",
      " apur:0.9912693604955869 \n",
      " f1:0.9533654548109212 \n",
      " precision:0.94505876223007 \n",
      " recall:0.9618194673580014 \n",
      ", 'Validation':  best_epoch_indx:56\n",
      " auc:0.9441184286634836 \n",
      " apur:0.9411833099743614 \n",
      " f1:0.8865898376113148 \n",
      " precision:0.8760351966873706 \n",
      " recall:0.8974019088016967 \n",
      ", 'Test':  best_epoch_indx:56\n",
      " auc:0.9446272691139922 \n",
      " apur:0.943808072903946 \n",
      " f1:0.8862369887498686 \n",
      " precision:0.8787531276063386 \n",
      " recall:0.8938494167550372 \n",
      "}\n",
      "=====Epoch 57\n",
      "Training...\n"
     ]
    },
    {
     "name": "stderr",
     "output_type": "stream",
     "text": [
      "Iteration: 100%|██████████| 214/214 [00:17<00:00, 12.23it/s]\n",
      "Iteration:   1%|▏         | 3/214 [00:00<00:09, 21.81it/s]s]"
     ]
    },
    {
     "name": "stdout",
     "output_type": "stream",
     "text": [
      "Evaluating...\n"
     ]
    },
    {
     "name": "stderr",
     "output_type": "stream",
     "text": [
      "Iteration: 100%|██████████| 214/214 [00:09<00:00, 21.69it/s]\n",
      "Iteration: 100%|██████████| 214/214 [00:10<00:00, 21.03it/s]\n",
      "Iteration: 100%|██████████| 60/60 [00:03<00:00, 19.88it/s]s]\n",
      "Iteration: 100%|██████████| 60/60 [00:02<00:00, 22.67it/s]s]\n",
      "Iteration: 100%|██████████| 24/24 [00:01<00:00, 20.76it/s]s]\n",
      "Iteration:  62%|██████▏   | 132/214 [00:05<00:03, 22.40it/s]"
     ]
    },
    {
     "name": "stdout",
     "output_type": "stream",
     "text": [
      "{'Train':  best_epoch_indx:56\n",
      " auc:0.989491028958676 \n",
      " apur:0.9903288043414676 \n",
      " f1:0.9509108648483349 \n",
      " precision:0.9402177043137706 \n",
      " recall:0.9618500515539844 \n",
      ", 'Validation':  best_epoch_indx:56\n",
      " auc:0.940250569862548 \n",
      " apur:0.938633132816522 \n",
      " f1:0.8825214899713466 \n",
      " precision:0.8673835125448028 \n",
      " recall:0.8981972428419936 \n",
      ", 'Test':  best_epoch_indx:56\n",
      " auc:0.9421639553936471 \n",
      " apur:0.9397004479690559 \n",
      " f1:0.8853991596638656 \n",
      " precision:0.8770159192591822 \n",
      " recall:0.8939442146569095 \n",
      "}\n",
      "=====Epoch 57\n",
      "Training...\n"
     ]
    },
    {
     "name": "stderr",
     "output_type": "stream",
     "text": [
      "Iteration: 100%|██████████| 214/214 [00:17<00:00, 12.15it/s]\n",
      "Iteration: 100%|██████████| 24/24 [00:01<00:00, 21.35it/s]]]\n"
     ]
    },
    {
     "name": "stdout",
     "output_type": "stream",
     "text": [
      "Evaluating...\n"
     ]
    },
    {
     "name": "stderr",
     "output_type": "stream",
     "text": [
      "\r",
      "Iteration:  74%|███████▍  | 159/214 [00:07<00:02, 22.17it/s]\r",
      "Iteration:   0%|          | 0/214 [00:00<?, ?it/s]\r",
      "Iteration:   3%|▎         | 6/214 [00:00<00:09, 21.74it/s]\r",
      "Iteration:  73%|███████▎  | 156/214 [00:12<00:04, 12.17it/s]\r",
      "Iteration:   7%|▋         | 16/214 [00:01<00:15, 12.41it/s]\r",
      "Iteration:  76%|███████▌  | 162/214 [00:07<00:02, 22.17it/s]"
     ]
    },
    {
     "name": "stdout",
     "output_type": "stream",
     "text": [
      "{'Train':  best_epoch_indx:57\n",
      " auc:0.9928842183872444 \n",
      " apur:0.9934750249207489 \n",
      " f1:0.9591245947197775 \n",
      " precision:0.9427766553794497 \n",
      " recall:0.976049491825011 \n",
      ", 'Validation':  best_epoch_indx:57\n",
      " auc:0.9422831430408906 \n",
      " apur:0.9370255295171456 \n",
      " f1:0.8904216553878188 \n",
      " precision:0.8744887525562373 \n",
      " recall:0.9069459172852599 \n",
      ", 'Test':  best_epoch_indx:57\n",
      " auc:0.9444496125335179 \n",
      " apur:0.9427403104989902 \n",
      " f1:0.8901932266777478 \n",
      " precision:0.8723404255319149 \n",
      " recall:0.9087920246049422 \n",
      "}\n",
      "=====Epoch 58\n",
      "Training...\n"
     ]
    },
    {
     "name": "stderr",
     "output_type": "stream",
     "text": [
      "Iteration: 100%|██████████| 214/214 [00:09<00:00, 22.33it/s]\n",
      "Iteration: 100%|██████████| 214/214 [00:17<00:00, 12.23it/s]\n",
      "Iteration:  53%|█████▎    | 114/214 [00:05<00:04, 22.44it/s]"
     ]
    },
    {
     "name": "stdout",
     "output_type": "stream",
     "text": [
      "Evaluating...\n"
     ]
    },
    {
     "name": "stderr",
     "output_type": "stream",
     "text": [
      "Iteration: 100%|██████████| 60/60 [00:02<00:00, 20.71it/s]s]\n",
      "Iteration: 100%|██████████| 24/24 [00:01<00:00, 19.77it/s]]]\n",
      "Iteration:  44%|████▍     | 94/214 [00:07<00:09, 12.53it/s]]"
     ]
    },
    {
     "name": "stdout",
     "output_type": "stream",
     "text": [
      "{'Train':  best_epoch_indx:55\n",
      " auc:0.9878617597693086 \n",
      " apur:0.9886256334056166 \n",
      " f1:0.9484271969024295 \n",
      " precision:0.9373885020429303 \n",
      " recall:0.9597289733392252 \n",
      ", 'Validation':  best_epoch_indx:55\n",
      " auc:0.9394105617062516 \n",
      " apur:0.9365423728655402 \n",
      " f1:0.8810238996996212 \n",
      " precision:0.8682110682110682 \n",
      " recall:0.894220572640509 \n",
      ", 'Test':  best_epoch_indx:55\n",
      " auc:0.9408954723821095 \n",
      " apur:0.9398929360838076 \n",
      " f1:0.8840959061878338 \n",
      " precision:0.8729453116923395 \n",
      " recall:0.8955350514370559 \n",
      "}\n",
      "=====Epoch 56\n",
      "Training...\n"
     ]
    },
    {
     "name": "stderr",
     "output_type": "stream",
     "text": [
      "Iteration: 100%|██████████| 214/214 [00:09<00:00, 22.21it/s]\n",
      "Iteration: 100%|██████████| 60/60 [00:02<00:00, 22.57it/s]s]\n",
      "Iteration: 100%|██████████| 24/24 [00:01<00:00, 20.39it/s]s]\n",
      "Iteration:  97%|█████████▋| 208/214 [00:09<00:00, 22.36it/s]"
     ]
    },
    {
     "name": "stdout",
     "output_type": "stream",
     "text": [
      "{'Train':  best_epoch_indx:56\n",
      " auc:0.9883796509631437 \n",
      " apur:0.9892176973434794 \n",
      " f1:0.948431915138937 \n",
      " precision:0.9284404187477073 \n",
      " recall:0.9693032847252909 \n",
      ", 'Validation':  best_epoch_indx:56\n",
      " auc:0.9432796889825307 \n",
      " apur:0.9414792987572451 \n",
      " f1:0.888888888888889 \n",
      " precision:0.8650275965880582 \n",
      " recall:0.9141039236479321 \n",
      ", 'Test':  best_epoch_indx:56\n",
      " auc:0.9426550025600547 \n",
      " apur:0.9367471432162533 \n",
      " f1:0.8894513896063644 \n",
      " precision:0.8670560982979152 \n",
      " recall:0.9130342560186658 \n",
      "}\n",
      "=====Epoch 57\n",
      "Training...\n"
     ]
    },
    {
     "name": "stderr",
     "output_type": "stream",
     "text": [
      "Iteration: 100%|██████████| 214/214 [00:10<00:00, 21.09it/s]\n",
      "Iteration: 100%|██████████| 214/214 [00:17<00:00, 12.37it/s]\n",
      "Iteration:  93%|█████████▎| 200/214 [00:16<00:01, 12.24it/s]"
     ]
    },
    {
     "name": "stdout",
     "output_type": "stream",
     "text": [
      "Evaluating...\n"
     ]
    },
    {
     "name": "stderr",
     "output_type": "stream",
     "text": [
      "Iteration: 100%|██████████| 214/214 [00:17<00:00, 12.31it/s]\n",
      "Iteration:  14%|█▍        | 30/214 [00:01<00:08, 22.46it/s]"
     ]
    },
    {
     "name": "stdout",
     "output_type": "stream",
     "text": [
      "Evaluating...\n"
     ]
    },
    {
     "name": "stderr",
     "output_type": "stream",
     "text": [
      "Iteration: 100%|██████████| 60/60 [00:02<00:00, 20.33it/s]]]\n",
      "Iteration: 100%|██████████| 24/24 [00:01<00:00, 19.67it/s]]]\n",
      "Iteration:   0%|          | 0/214 [00:00<?, ?it/s]12.29it/s]"
     ]
    },
    {
     "name": "stdout",
     "output_type": "stream",
     "text": [
      "{'Train':  best_epoch_indx:57\n",
      " auc:0.9932348441186147 \n",
      " apur:0.9937773151004876 \n",
      " f1:0.9602280125580521 \n",
      " precision:0.9434257285003553 \n",
      " recall:0.9776396417629036 \n",
      ", 'Validation':  best_epoch_indx:57\n",
      " auc:0.9469663143687813 \n",
      " apur:0.9438773790604728 \n",
      " f1:0.8940175348117587 \n",
      " precision:0.8702309236947792 \n",
      " recall:0.9191410392364793 \n",
      ", 'Test':  best_epoch_indx:57\n",
      " auc:0.9466339453909319 \n",
      " apur:0.945398476013923 \n",
      " f1:0.8935290469299153 \n",
      " precision:0.8715466827989514 \n",
      " recall:0.9166489925768823 \n",
      "}\n",
      "=====Epoch 58\n",
      "Training...\n"
     ]
    },
    {
     "name": "stderr",
     "output_type": "stream",
     "text": [
      "Iteration: 100%|██████████| 214/214 [00:17<00:00, 12.01it/s]\n",
      "Iteration:  30%|██▉       | 64/214 [00:05<00:12, 12.34it/s]]"
     ]
    },
    {
     "name": "stdout",
     "output_type": "stream",
     "text": [
      "Evaluating...\n"
     ]
    },
    {
     "name": "stderr",
     "output_type": "stream",
     "text": [
      "Iteration: 100%|██████████| 214/214 [00:10<00:00, 20.42it/s]\n",
      "Iteration: 100%|██████████| 214/214 [00:09<00:00, 21.57it/s]\n",
      "Iteration: 100%|██████████| 60/60 [00:02<00:00, 21.60it/s]]]\n",
      "Iteration: 100%|██████████| 60/60 [00:02<00:00, 20.46it/s]s]\n",
      "Iteration: 100%|██████████| 24/24 [00:01<00:00, 20.38it/s]s]\n",
      "Iteration:   0%|          | 0/214 [00:00<?, ?it/s]12.42it/s]"
     ]
    },
    {
     "name": "stdout",
     "output_type": "stream",
     "text": [
      "{'Train':  best_epoch_indx:57\n",
      " auc:0.9914845958726879 \n",
      " apur:0.9922190270146872 \n",
      " f1:0.9559594902866774 \n",
      " precision:0.9431733470955903 \n",
      " recall:0.9690970687877449 \n",
      ", 'Validation':  best_epoch_indx:57\n",
      " auc:0.9447942485425218 \n",
      " apur:0.9441083666474362 \n",
      " f1:0.8818016141629784 \n",
      " precision:0.8662404092071612 \n",
      " recall:0.897932131495228 \n",
      ", 'Test':  best_epoch_indx:57\n",
      " auc:0.9440347680296105 \n",
      " apur:0.9416753422172839 \n",
      " f1:0.8871229152506928 \n",
      " precision:0.8748195504227676 \n",
      " recall:0.8997772828507795 \n",
      "}\n",
      "=====Epoch 58\n",
      "Training...\n"
     ]
    },
    {
     "name": "stderr",
     "output_type": "stream",
     "text": [
      "\r",
      "Iteration:  25%|██▌       | 6/24 [00:00<00:00, 19.14it/s]\r",
      "Iteration:  63%|██████▎   | 135/214 [00:06<00:03, 22.22it/s]\r",
      "Iteration:  99%|█████████▉| 212/214 [00:17<00:00, 12.45it/s]\r",
      "Iteration:  65%|██████▌   | 140/214 [00:11<00:05, 12.40it/s]\r",
      "Iteration:  33%|███▎      | 8/24 [00:00<00:00, 18.99it/s]\r",
      "Iteration:   1%|          | 2/214 [00:00<00:18, 11.75it/s]\r",
      "Iteration:  64%|██████▍   | 138/214 [00:06<00:03, 22.16it/s]\r",
      "Iteration: 100%|██████████| 214/214 [00:17<00:00, 12.87it/s]\r",
      "Iteration: 100%|██████████| 214/214 [00:17<00:00, 12.28it/s]\n",
      "\r",
      "Iteration:   0%|          | 0/214 [00:00<?, ?it/s]"
     ]
    },
    {
     "name": "stdout",
     "output_type": "stream",
     "text": [
      "Evaluating...\n"
     ]
    },
    {
     "name": "stderr",
     "output_type": "stream",
     "text": [
      "Iteration: 100%|██████████| 24/24 [00:01<00:00, 20.93it/s]s]\n",
      "Iteration:   6%|▌         | 12/214 [00:00<00:16, 12.37it/s]]"
     ]
    },
    {
     "name": "stdout",
     "output_type": "stream",
     "text": [
      "{'Train':  best_epoch_indx:58\n",
      " auc:0.9945317101237154 \n",
      " apur:0.9949322972855832 \n",
      " f1:0.9657169465382265 \n",
      " precision:0.9541651091238462 \n",
      " recall:0.9775519222271322 \n",
      ", 'Validation':  best_epoch_indx:58\n",
      " auc:0.9449725882478295 \n",
      " apur:0.941006983934322 \n",
      " f1:0.8889759665621734 \n",
      " precision:0.8761585993820803 \n",
      " recall:0.9021739130434783 \n",
      ", 'Test':  best_epoch_indx:58\n",
      " auc:0.9474552771355412 \n",
      " apur:0.945055503875896 \n",
      " f1:0.8922754647813564 \n",
      " precision:0.8813366439064763 \n",
      " recall:0.9034892353377877 \n",
      "}\n",
      "=====Epoch 59\n",
      "Training...\n"
     ]
    },
    {
     "name": "stderr",
     "output_type": "stream",
     "text": [
      "Iteration: 100%|██████████| 214/214 [00:09<00:00, 22.20it/s]\n",
      "Iteration: 100%|██████████| 214/214 [00:17<00:00, 12.35it/s]\n",
      "Iteration:  60%|█████▉    | 128/214 [00:05<00:03, 22.27it/s]"
     ]
    },
    {
     "name": "stdout",
     "output_type": "stream",
     "text": [
      "Evaluating...\n"
     ]
    },
    {
     "name": "stderr",
     "output_type": "stream",
     "text": [
      "Iteration: 100%|██████████| 60/60 [00:02<00:00, 21.72it/s]]]\n",
      "Iteration: 100%|██████████| 24/24 [00:01<00:00, 22.45it/s]s]\n",
      "Iteration:  84%|████████▎ | 179/214 [00:08<00:01, 22.15it/s]"
     ]
    },
    {
     "name": "stdout",
     "output_type": "stream",
     "text": [
      "{'Train':  best_epoch_indx:56\n",
      " auc:0.9900399350655421 \n",
      " apur:0.9907049787284157 \n",
      " f1:0.9531500072748436 \n",
      " precision:0.94164151214604 \n",
      " recall:0.9649432906171749 \n",
      ", 'Validation':  best_epoch_indx:56\n",
      " auc:0.9420994915950824 \n",
      " apur:0.9392676424470676 \n",
      " f1:0.8836297071129706 \n",
      " precision:0.8717750257997936 \n",
      " recall:0.8958112407211029 \n",
      ", 'Test':  best_epoch_indx:56\n",
      " auc:0.9427137899415476 \n",
      " apur:0.940396005208431 \n",
      " f1:0.8850943098828351 \n",
      " precision:0.877030403998334 \n",
      " recall:0.893307879944851 \n",
      "}\n",
      "=====Epoch 57\n",
      "Training...\n"
     ]
    },
    {
     "name": "stderr",
     "output_type": "stream",
     "text": [
      "Iteration: 100%|██████████| 214/214 [00:10<00:00, 21.10it/s]\n",
      "Iteration: 100%|██████████| 60/60 [00:02<00:00, 22.62it/s]s]\n",
      "Iteration: 100%|██████████| 24/24 [00:01<00:00, 20.21it/s]]]\n",
      "Iteration:  89%|████████▉ | 191/214 [00:09<00:01, 21.66it/s]"
     ]
    },
    {
     "name": "stdout",
     "output_type": "stream",
     "text": [
      "{'Train':  best_epoch_indx:57\n",
      " auc:0.990035277395618 \n",
      " apur:0.9908541574583746 \n",
      " f1:0.9522414468245566 \n",
      " precision:0.9378106610295378 \n",
      " recall:0.9671232876712329 \n",
      ", 'Validation':  best_epoch_indx:57\n",
      " auc:0.9461794632573433 \n",
      " apur:0.9461152319361952 \n",
      " f1:0.8882833787465939 \n",
      " precision:0.8698856416772554 \n",
      " recall:0.9074761399787911 \n",
      ", 'Test':  best_epoch_indx:57\n",
      " auc:0.9450383589567155 \n",
      " apur:0.9393676836719412 \n",
      " f1:0.8899765686019265 \n",
      " precision:0.8741816693944353 \n",
      " recall:0.9063527415420511 \n",
      "}\n",
      "=====Epoch 58\n",
      "Training...\n"
     ]
    },
    {
     "name": "stderr",
     "output_type": "stream",
     "text": [
      "Iteration: 100%|██████████| 214/214 [00:10<00:00, 20.89it/s]\n",
      "Iteration: 100%|██████████| 214/214 [00:17<00:00, 12.35it/s]\n",
      "Iteration:  13%|█▎        | 28/214 [00:02<00:15, 12.35it/s]]"
     ]
    },
    {
     "name": "stdout",
     "output_type": "stream",
     "text": [
      "Evaluating...\n"
     ]
    },
    {
     "name": "stderr",
     "output_type": "stream",
     "text": [
      "Iteration: 100%|██████████| 214/214 [00:17<00:00, 12.22it/s]\n",
      "Iteration:  14%|█▍        | 30/214 [00:01<00:08, 22.31it/s]]"
     ]
    },
    {
     "name": "stdout",
     "output_type": "stream",
     "text": [
      "Evaluating...\n"
     ]
    },
    {
     "name": "stderr",
     "output_type": "stream",
     "text": [
      "Iteration: 100%|██████████| 60/60 [00:02<00:00, 21.45it/s]]]\n",
      "Iteration: 100%|██████████| 24/24 [00:01<00:00, 19.37it/s]]]\n",
      "Iteration:  32%|███▏      | 69/214 [00:03<00:07, 20.33it/s]]"
     ]
    },
    {
     "name": "stdout",
     "output_type": "stream",
     "text": [
      "{'Train':  best_epoch_indx:58\n",
      " auc:0.9948014456890911 \n",
      " apur:0.9952402460592 \n",
      " f1:0.9663441925520135 \n",
      " precision:0.955926438371959 \n",
      " recall:0.9769915154371906 \n",
      ", 'Validation':  best_epoch_indx:58\n",
      " auc:0.9472427627139284 \n",
      " apur:0.9443247872327383 \n",
      " f1:0.891156462585034 \n",
      " precision:0.8796487603305785 \n",
      " recall:0.9029692470837752 \n",
      ", 'Test':  best_epoch_indx:58\n",
      " auc:0.9479665937502101 \n",
      " apur:0.9466431209775295 \n",
      " f1:0.8936081180039753 \n",
      " precision:0.8817093311312965 \n",
      " recall:0.9058324496288441 \n",
      "}\n",
      "=====Epoch 59\n",
      "Training...\n"
     ]
    },
    {
     "name": "stderr",
     "output_type": "stream",
     "text": [
      "Iteration: 100%|██████████| 214/214 [00:17<00:00, 12.30it/s]\n",
      "Iteration:  90%|████████▉ | 192/214 [00:08<00:00, 22.18it/s]"
     ]
    },
    {
     "name": "stdout",
     "output_type": "stream",
     "text": [
      "Evaluating...\n"
     ]
    },
    {
     "name": "stderr",
     "output_type": "stream",
     "text": [
      "Iteration: 100%|██████████| 214/214 [00:09<00:00, 22.22it/s]\n",
      "Iteration: 100%|██████████| 214/214 [00:09<00:00, 21.74it/s]\n",
      "Iteration: 100%|██████████| 60/60 [00:02<00:00, 22.69it/s]s]\n",
      "Iteration: 100%|██████████| 60/60 [00:03<00:00, 19.34it/s]s]\n",
      "Iteration: 100%|██████████| 214/214 [00:17<00:00, 12.36it/s]\n",
      "Iteration:  63%|██████▎   | 134/214 [00:11<00:06, 12.37it/s]"
     ]
    },
    {
     "name": "stdout",
     "output_type": "stream",
     "text": [
      "Evaluating...\n"
     ]
    },
    {
     "name": "stderr",
     "output_type": "stream",
     "text": [
      "Iteration: 100%|██████████| 214/214 [00:10<00:00, 19.91it/s]\n",
      "Iteration: 100%|██████████| 214/214 [00:17<00:00, 12.25it/s]\n",
      "Iteration:  65%|██████▌   | 39/60 [00:01<00:01, 20.91it/s]s]"
     ]
    },
    {
     "name": "stdout",
     "output_type": "stream",
     "text": [
      "Evaluating...\n"
     ]
    },
    {
     "name": "stderr",
     "output_type": "stream",
     "text": [
      "Iteration: 100%|██████████| 60/60 [00:02<00:00, 20.97it/s]]]\n",
      "Iteration: 100%|██████████| 24/24 [00:01<00:00, 22.06it/s]s]\n",
      "Iteration:  94%|█████████▍| 201/214 [00:09<00:00, 22.07it/s]"
     ]
    },
    {
     "name": "stdout",
     "output_type": "stream",
     "text": [
      "{'Train':  best_epoch_indx:57\n",
      " auc:0.9928133043884304 \n",
      " apur:0.9933981068133791 \n",
      " f1:0.9591041446348636 \n",
      " precision:0.9435355147645651 \n",
      " recall:0.9751951686551775 \n",
      ", 'Validation':  best_epoch_indx:57\n",
      " auc:0.9444600449293967 \n",
      " apur:0.9421846439097925 \n",
      " f1:0.8918918918918918 \n",
      " precision:0.8746177370030581 \n",
      " recall:0.9098621420996819 \n",
      ", 'Test':  best_epoch_indx:57\n",
      " auc:0.9454602922572681 \n",
      " apur:0.9436675349704171 \n",
      " f1:0.8914048299143079 \n",
      " precision:0.8733971097089355 \n",
      " recall:0.9101707498144024 \n",
      "}\n",
      "=====Epoch 58\n",
      "Training...\n"
     ]
    },
    {
     "name": "stderr",
     "output_type": "stream",
     "text": [
      "Iteration: 100%|██████████| 214/214 [00:09<00:00, 22.05it/s]\n",
      "Iteration: 100%|██████████| 60/60 [00:02<00:00, 22.41it/s]s]\n",
      "Iteration: 100%|██████████| 24/24 [00:01<00:00, 22.27it/s]]]\n",
      "Iteration:  81%|████████▏ | 174/214 [00:08<00:01, 21.55it/s]"
     ]
    },
    {
     "name": "stdout",
     "output_type": "stream",
     "text": [
      "{'Train':  best_epoch_indx:58\n",
      " auc:0.9924293427410043 \n",
      " apur:0.9930051478028363 \n",
      " f1:0.958705065240766 \n",
      " precision:0.9458955758809531 \n",
      " recall:0.9718662542347916 \n",
      ", 'Validation':  best_epoch_indx:58\n",
      " auc:0.9478609066046974 \n",
      " apur:0.9477052347795595 \n",
      " f1:0.8913525498891351 \n",
      " precision:0.8772785622593068 \n",
      " recall:0.9058854718981972 \n",
      ", 'Test':  best_epoch_indx:58\n",
      " auc:0.9471928327601753 \n",
      " apur:0.942659122285178 \n",
      " f1:0.8912339358478738 \n",
      " precision:0.8782044682384433 \n",
      " recall:0.9046558489765617 \n",
      "}\n",
      "=====Epoch 59\n",
      "Training...\n"
     ]
    },
    {
     "name": "stderr",
     "output_type": "stream",
     "text": [
      "Iteration: 100%|██████████| 24/24 [00:01<00:00, 21.59it/s]]]\n",
      "Iteration: 100%|██████████| 214/214 [00:09<00:00, 21.72it/s]\n"
     ]
    },
    {
     "name": "stdout",
     "output_type": "stream",
     "text": [
      "{'Train':  best_epoch_indx:58\n",
      " auc:0.9940485442955813 \n",
      " apur:0.9945704724359656 \n",
      " f1:0.9629230343380778 \n",
      " precision:0.9525017293059719 \n",
      " recall:0.9735749005744587 \n",
      ", 'Validation':  best_epoch_indx:58\n",
      " auc:0.9468012540147245 \n",
      " apur:0.9446713497550845 \n",
      " f1:0.8890049621311047 \n",
      " precision:0.8759650025733402 \n",
      " recall:0.9024390243902439 \n",
      ", 'Test':  best_epoch_indx:58\n",
      " auc:0.9466454846876251 \n",
      " apur:0.9439071969937504 \n",
      " f1:0.8894943673041656 \n",
      " precision:0.8790389395194698 \n",
      " recall:0.9002015059921519 \n",
      "}\n",
      "=====Epoch 59\n",
      "Training...\n"
     ]
    },
    {
     "name": "stderr",
     "output_type": "stream",
     "text": [
      "Iteration: 100%|██████████| 24/24 [00:01<00:00, 19.97it/s]s]\n",
      "Iteration:  55%|█████▌    | 118/214 [00:09<00:07, 12.08it/s]"
     ]
    },
    {
     "name": "stdout",
     "output_type": "stream",
     "text": [
      "{'Train':  best_epoch_indx:59\n",
      " auc:0.996131551407972 \n",
      " apur:0.9964596633138616 \n",
      " f1:0.9708021748954097 \n",
      " precision:0.9608437211449676 \n",
      " recall:0.9809692149064664 \n",
      ", 'Validation':  best_epoch_indx:59\n",
      " auc:0.9474587206411381 \n",
      " apur:0.9433265765580079 \n",
      " f1:0.8921107628004179 \n",
      " precision:0.8792481977342945 \n",
      " recall:0.9053552492046659 \n",
      ", 'Test':  best_epoch_indx:59\n",
      " auc:0.9487837403527013 \n",
      " apur:0.9462500040838193 \n",
      " f1:0.894681632224903 \n",
      " precision:0.8850264605167584 \n",
      " recall:0.9045497931912185 \n",
      "}\n",
      "=====Epoch 60\n",
      "Training...\n"
     ]
    },
    {
     "name": "stderr",
     "output_type": "stream",
     "text": [
      "Iteration: 100%|██████████| 60/60 [00:03<00:00, 19.66it/s]]]\n",
      "Iteration: 100%|██████████| 214/214 [00:17<00:00, 12.23it/s]\n",
      "Iteration:  69%|██████▉   | 148/214 [00:12<00:05, 12.57it/s]"
     ]
    },
    {
     "name": "stdout",
     "output_type": "stream",
     "text": [
      "Evaluating...\n"
     ]
    },
    {
     "name": "stderr",
     "output_type": "stream",
     "text": [
      "Iteration: 100%|██████████| 214/214 [00:17<00:00, 12.23it/s]\n",
      "Iteration:   0%|          | 0/214 [00:00<?, ?it/s]"
     ]
    },
    {
     "name": "stdout",
     "output_type": "stream",
     "text": [
      "Evaluating...\n"
     ]
    },
    {
     "name": "stderr",
     "output_type": "stream",
     "text": [
      "Iteration: 100%|██████████| 214/214 [00:17<00:00, 12.33it/s]\n",
      "Iteration:  74%|███████▍  | 159/214 [00:07<00:02, 22.20it/s]"
     ]
    },
    {
     "name": "stdout",
     "output_type": "stream",
     "text": [
      "Evaluating...\n"
     ]
    },
    {
     "name": "stderr",
     "output_type": "stream",
     "text": [
      "Iteration: 100%|██████████| 214/214 [00:17<00:00, 12.28it/s]\n",
      "Iteration:  41%|████      | 87/214 [00:03<00:05, 21.94it/s]"
     ]
    },
    {
     "name": "stdout",
     "output_type": "stream",
     "text": [
      "Evaluating...\n"
     ]
    },
    {
     "name": "stderr",
     "output_type": "stream",
     "text": [
      "Iteration: 100%|██████████| 214/214 [00:09<00:00, 22.03it/s]\n",
      "Iteration: 100%|██████████| 24/24 [00:01<00:00, 21.71it/s]s]\n",
      "Iteration:  29%|██▉       | 63/214 [00:02<00:06, 21.59it/s]]"
     ]
    },
    {
     "name": "stdout",
     "output_type": "stream",
     "text": [
      "{'Train':  best_epoch_indx:59\n",
      " auc:0.9957214969784777 \n",
      " apur:0.99609796356153 \n",
      " f1:0.9693667972789909 \n",
      " precision:0.9587114991212148 \n",
      " recall:0.9802616073532878 \n",
      ", 'Validation':  best_epoch_indx:59\n",
      " auc:0.949415660977132 \n",
      " apur:0.9460790349341978 \n",
      " f1:0.8934169278996866 \n",
      " precision:0.8805355303810505 \n",
      " recall:0.9066808059384942 \n",
      ", 'Test':  best_epoch_indx:59\n",
      " auc:0.9500831521628126 \n",
      " apur:0.9491696893788145 \n",
      " f1:0.8945690240970152 \n",
      " precision:0.8820740129883518 \n",
      " recall:0.907423117709438 \n",
      "}\n",
      "=====Epoch 60\n",
      "Training...\n"
     ]
    },
    {
     "name": "stderr",
     "output_type": "stream",
     "text": [
      "Iteration: 100%|██████████| 60/60 [00:02<00:00, 22.37it/s]s]\n",
      "Iteration: 100%|██████████| 24/24 [00:01<00:00, 22.04it/s]s]\n",
      "Iteration:  49%|████▊     | 104/214 [00:04<00:05, 19.79it/s]"
     ]
    },
    {
     "name": "stdout",
     "output_type": "stream",
     "text": [
      "{'Train':  best_epoch_indx:58\n",
      " auc:0.994318683767148 \n",
      " apur:0.9947683802135329 \n",
      " f1:0.9651042802121939 \n",
      " precision:0.9524383247274814 \n",
      " recall:0.9781116512004714 \n",
      ", 'Validation':  best_epoch_indx:58\n",
      " auc:0.9459580350302151 \n",
      " apur:0.944039418123953 \n",
      " f1:0.8894105372978612 \n",
      " precision:0.8752566735112937 \n",
      " recall:0.9040296924708378 \n",
      ", 'Test':  best_epoch_indx:58\n",
      " auc:0.9469215468819852 \n",
      " apur:0.9447041854495001 \n",
      " f1:0.8915473827186291 \n",
      " precision:0.878513332646968 \n",
      " recall:0.9049740163325909 \n",
      "}\n",
      "=====Epoch 59\n",
      "Training...\n"
     ]
    },
    {
     "name": "stderr",
     "output_type": "stream",
     "text": [
      "Iteration: 100%|██████████| 214/214 [00:09<00:00, 21.94it/s]\n",
      "Iteration: 100%|██████████| 214/214 [00:09<00:00, 22.20it/s]\n",
      "Iteration: 100%|██████████| 60/60 [00:03<00:00, 19.63it/s]]]\n",
      "Iteration: 100%|██████████| 214/214 [00:10<00:00, 20.41it/s]\n",
      "Iteration: 100%|██████████| 60/60 [00:03<00:00, 19.92it/s]]\n",
      "Iteration: 100%|██████████| 60/60 [00:03<00:00, 19.51it/s]s]\n",
      "Iteration: 100%|██████████| 24/24 [00:01<00:00, 18.84it/s]s]\n",
      "Iteration:   0%|          | 0/214 [00:00<?, ?it/s]12.46it/s]"
     ]
    },
    {
     "name": "stdout",
     "output_type": "stream",
     "text": [
      "{'Train':  best_epoch_indx:60\n",
      " auc:0.9960911324381517 \n",
      " apur:0.9964385358707214 \n",
      " f1:0.9704185124737702 \n",
      " precision:0.9601487932177976 \n",
      " recall:0.9809102960671675 \n",
      ", 'Validation':  best_epoch_indx:60\n",
      " auc:0.9458123982048536 \n",
      " apur:0.9413405125814208 \n",
      " f1:0.8901386345801727 \n",
      " precision:0.8784202374806401 \n",
      " recall:0.9021739130434783 \n",
      ", 'Test':  best_epoch_indx:60\n",
      " auc:0.9473299044542554 \n",
      " apur:0.9445898450782106 \n",
      " f1:0.8932069344786048 \n",
      " precision:0.8823468543046358 \n",
      " recall:0.9043376816205324 \n",
      "}\n",
      "=====Epoch 61\n",
      "Training...\n"
     ]
    },
    {
     "name": "stderr",
     "output_type": "stream",
     "text": [
      "Iteration: 100%|██████████| 214/214 [00:17<00:00, 12.21it/s]\n",
      "Iteration:  88%|████████▊ | 188/214 [00:15<00:02, 12.35it/s]"
     ]
    },
    {
     "name": "stdout",
     "output_type": "stream",
     "text": [
      "Evaluating...\n"
     ]
    },
    {
     "name": "stderr",
     "output_type": "stream",
     "text": [
      "Iteration: 100%|██████████| 214/214 [00:17<00:00, 12.29it/s]\n",
      "Iteration:   1%|▏         | 3/214 [00:00<00:09, 21.20it/s]]"
     ]
    },
    {
     "name": "stdout",
     "output_type": "stream",
     "text": [
      "Evaluating...\n"
     ]
    },
    {
     "name": "stderr",
     "output_type": "stream",
     "text": [
      "Iteration: 100%|██████████| 24/24 [00:01<00:00, 21.55it/s]s]\n",
      "Iteration:  71%|███████   | 152/214 [00:12<00:05, 12.23it/s]"
     ]
    },
    {
     "name": "stdout",
     "output_type": "stream",
     "text": [
      "{'Train':  best_epoch_indx:59\n",
      " auc:0.9944177277769699 \n",
      " apur:0.994870544117407 \n",
      " f1:0.9648527892186113 \n",
      " precision:0.9534602772824023 \n",
      " recall:0.976520842539402 \n",
      ", 'Validation':  best_epoch_indx:59\n",
      " auc:0.9499523449669436 \n",
      " apur:0.9496118523976771 \n",
      " f1:0.8911511354737665 \n",
      " precision:0.8776349614395886 \n",
      " recall:0.9050901378579003 \n",
      ", 'Test':  best_epoch_indx:59\n",
      " auc:0.9487091704255578 \n",
      " apur:0.9436681124877451 \n",
      " f1:0.8958954248366013 \n",
      " precision:0.8835602310231023 \n",
      " recall:0.908579913034256 \n",
      "}\n",
      "=====Epoch 60\n",
      "Training...\n"
     ]
    },
    {
     "name": "stderr",
     "output_type": "stream",
     "text": [
      "Iteration: 100%|██████████| 24/24 [00:01<00:00, 18.18it/s]]]\n",
      "Iteration: 100%|██████████| 214/214 [00:09<00:00, 21.86it/s]\n",
      "Iteration:  81%|████████▏ | 174/214 [00:14<00:03, 11.89it/s]"
     ]
    },
    {
     "name": "stdout",
     "output_type": "stream",
     "text": [
      "{'Train':  best_epoch_indx:59\n",
      " auc:0.9954318791153948 \n",
      " apur:0.9958417760974341 \n",
      " f1:0.9675007273785278 \n",
      " precision:0.955683287828711 \n",
      " recall:0.9796140816025924 \n",
      ", 'Validation':  best_epoch_indx:59\n",
      " auc:0.9481030268358643 \n",
      " apur:0.9454152539061663 \n",
      " f1:0.8925834523964151 \n",
      " precision:0.8749681690858161 \n",
      " recall:0.9109225874867445 \n",
      ", 'Test':  best_epoch_indx:59\n",
      " auc:0.9484333746392709 \n",
      " apur:0.9452919878862047 \n",
      " f1:0.8939923795605199 \n",
      " precision:0.8801644398766701 \n",
      " recall:0.9082617456782267 \n",
      "}\n",
      "=====Epoch 60\n",
      "Training...\n"
     ]
    },
    {
     "name": "stderr",
     "output_type": "stream",
     "text": [
      "Iteration: 100%|██████████| 214/214 [00:09<00:00, 22.12it/s]\n",
      "Iteration: 100%|██████████| 214/214 [00:17<00:00, 12.25it/s]\n",
      "Iteration:  20%|██        | 12/60 [00:00<00:02, 19.62it/s]"
     ]
    },
    {
     "name": "stdout",
     "output_type": "stream",
     "text": [
      "Evaluating...\n"
     ]
    },
    {
     "name": "stderr",
     "output_type": "stream",
     "text": [
      "Iteration: 100%|██████████| 60/60 [00:02<00:00, 20.58it/s]]\n",
      "Iteration: 100%|██████████| 24/24 [00:01<00:00, 22.30it/s]]\n",
      "Iteration:  18%|█▊        | 39/214 [00:01<00:08, 20.00it/s]"
     ]
    },
    {
     "name": "stdout",
     "output_type": "stream",
     "text": [
      "{'Train':  best_epoch_indx:60\n",
      " auc:0.9954199174136955 \n",
      " apur:0.9957901355231922 \n",
      " f1:0.9683464613042078 \n",
      " precision:0.9625123697537691 \n",
      " recall:0.9742517086966769 \n",
      ", 'Validation':  best_epoch_indx:60\n",
      " auc:0.9478115153460147 \n",
      " apur:0.9449926044503503 \n",
      " f1:0.8889181017483896 \n",
      " precision:0.8816166883963494 \n",
      " recall:0.8963414634146342 \n",
      ", 'Test':  best_epoch_indx:60\n",
      " auc:0.9487176463618249 \n",
      " apur:0.9478248886827398 \n",
      " f1:0.8906784567608822 \n",
      " precision:0.8842094262723378 \n",
      " recall:0.8972428419936374 \n",
      "}\n",
      "=====Epoch 61\n",
      "Training...\n"
     ]
    },
    {
     "name": "stderr",
     "output_type": "stream",
     "text": [
      "Iteration: 100%|██████████| 60/60 [00:03<00:00, 19.48it/s]]\n",
      "Iteration: 100%|██████████| 214/214 [00:10<00:00, 21.05it/s]\n",
      "Iteration: 100%|██████████| 214/214 [00:17<00:00, 12.17it/s]\n",
      "Iteration:  58%|█████▊    | 35/60 [00:01<00:01, 21.94it/s]"
     ]
    },
    {
     "name": "stdout",
     "output_type": "stream",
     "text": [
      "Evaluating...\n"
     ]
    },
    {
     "name": "stderr",
     "output_type": "stream",
     "text": [
      "Iteration: 100%|██████████| 60/60 [00:02<00:00, 21.72it/s]s]\n",
      "Iteration: 100%|██████████| 214/214 [00:17<00:00, 12.08it/s]\n",
      "Iteration:  50%|█████     | 12/24 [00:00<00:00, 21.90it/s]]]"
     ]
    },
    {
     "name": "stdout",
     "output_type": "stream",
     "text": [
      "Evaluating...\n"
     ]
    },
    {
     "name": "stderr",
     "output_type": "stream",
     "text": [
      "Iteration: 100%|██████████| 24/24 [00:01<00:00, 22.04it/s]]]\n",
      "Iteration:  25%|██▌       | 54/214 [00:02<00:07, 21.93it/s]]"
     ]
    },
    {
     "name": "stdout",
     "output_type": "stream",
     "text": [
      "{'Train':  best_epoch_indx:61\n",
      " auc:0.9952995589578844 \n",
      " apur:0.9957290828198574 \n",
      " f1:0.9670946447006821 \n",
      " precision:0.9548351900769496 \n",
      " recall:0.9796730004418913 \n",
      ", 'Validation':  best_epoch_indx:61\n",
      " auc:0.9444058176084672 \n",
      " apur:0.9389186372651358 \n",
      " f1:0.8907409818986848 \n",
      " precision:0.8753519324289737 \n",
      " recall:0.9066808059384942 \n",
      ", 'Test':  best_epoch_indx:61\n",
      " auc:0.9456194805458937 \n",
      " apur:0.942490727617994 \n",
      " f1:0.8893997178830781 \n",
      " precision:0.8764415156507414 \n",
      " recall:0.902746844840386 \n",
      "}\n",
      "=====Epoch 62\n",
      "Training...\n"
     ]
    },
    {
     "name": "stderr",
     "output_type": "stream",
     "text": [
      "Iteration: 100%|██████████| 214/214 [00:17<00:00, 12.31it/s]\n",
      "Iteration:  22%|██▏       | 48/214 [00:04<00:13, 11.98it/s]]"
     ]
    },
    {
     "name": "stdout",
     "output_type": "stream",
     "text": [
      "Evaluating...\n"
     ]
    },
    {
     "name": "stderr",
     "output_type": "stream",
     "text": [
      "Iteration: 100%|██████████| 24/24 [00:01<00:00, 19.69it/s]]]\n",
      "Iteration:  91%|█████████ | 195/214 [00:08<00:00, 22.28it/s]"
     ]
    },
    {
     "name": "stdout",
     "output_type": "stream",
     "text": [
      "{'Train':  best_epoch_indx:59\n",
      " auc:0.9958861561118414 \n",
      " apur:0.9962275480214806 \n",
      " f1:0.970298472659438 \n",
      " precision:0.9601395979348736 \n",
      " recall:0.980674620709972 \n",
      ", 'Validation':  best_epoch_indx:59\n",
      " auc:0.9476163683424071 \n",
      " apur:0.9453839817788039 \n",
      " f1:0.892400104465918 \n",
      " precision:0.8793103448275862 \n",
      " recall:0.9058854718981972 \n",
      ", 'Test':  best_epoch_indx:59\n",
      " auc:0.9490997563761601 \n",
      " apur:0.9471815332690616 \n",
      " f1:0.8948693736229147 \n",
      " precision:0.8853939582684522 \n",
      " recall:0.9045497931912185 \n",
      "}\n",
      "=====Epoch 60\n",
      "Training...\n"
     ]
    },
    {
     "name": "stderr",
     "output_type": "stream",
     "text": [
      "Iteration: 100%|██████████| 214/214 [00:09<00:00, 21.99it/s]\n",
      "Iteration: 100%|██████████| 214/214 [00:10<00:00, 21.28it/s]\n",
      "Iteration: 100%|██████████| 60/60 [00:02<00:00, 22.74it/s]s]\n",
      "Iteration: 100%|██████████| 24/24 [00:01<00:00, 20.83it/s]s]\n",
      "Iteration:  83%|████████▎ | 177/214 [00:07<00:01, 22.34it/s]"
     ]
    },
    {
     "name": "stdout",
     "output_type": "stream",
     "text": [
      "{'Train':  best_epoch_indx:60\n",
      " auc:0.9942038812095254 \n",
      " apur:0.994649017709579 \n",
      " f1:0.9638718473074301 \n",
      " precision:0.9492915095417667 \n",
      " recall:0.978907055531006 \n",
      ", 'Validation':  best_epoch_indx:60\n",
      " auc:0.9491957787043286 \n",
      " apur:0.9490900915805192 \n",
      " f1:0.8923435678196656 \n",
      " precision:0.8725614390676463 \n",
      " recall:0.9130434782608695 \n",
      ", 'Test':  best_epoch_indx:60\n",
      " auc:0.947715278020928 \n",
      " apur:0.9424589436275639 \n",
      " f1:0.8950270495214315 \n",
      " precision:0.878305257784584 \n",
      " recall:0.9123979213066072 \n",
      "}\n",
      "=====Epoch 61\n",
      "Training...\n"
     ]
    },
    {
     "name": "stderr",
     "output_type": "stream",
     "text": [
      "Iteration: 100%|██████████| 60/60 [00:02<00:00, 21.63it/s]]]\n",
      "Iteration: 100%|██████████| 214/214 [00:09<00:00, 22.15it/s]\n",
      "Iteration: 100%|██████████| 24/24 [00:01<00:00, 22.66it/s]]]\n",
      "Iteration:  79%|███████▉  | 170/214 [00:14<00:03, 12.21it/s]"
     ]
    },
    {
     "name": "stdout",
     "output_type": "stream",
     "text": [
      "{'Train':  best_epoch_indx:60\n",
      " auc:0.9953333172204188 \n",
      " apur:0.9957616463783212 \n",
      " f1:0.9673310943429145 \n",
      " precision:0.9549603858077851 \n",
      " recall:0.9800265134776844 \n",
      ", 'Validation':  best_epoch_indx:60\n",
      " auc:0.9479296421123666 \n",
      " apur:0.9461439619126855 \n",
      " f1:0.8900142838592391 \n",
      " precision:0.8722321201323492 \n",
      " recall:0.9085365853658537 \n",
      ", 'Test':  best_epoch_indx:60\n",
      " auc:0.9469374742789347 \n",
      " apur:0.9435472091036436 \n",
      " f1:0.8930004690675979 \n",
      " precision:0.8779463004714081 \n",
      " recall:0.908579913034256 \n",
      "}\n",
      "=====Epoch 61\n",
      "Training...\n"
     ]
    },
    {
     "name": "stderr",
     "output_type": "stream",
     "text": [
      "Iteration: 100%|██████████| 60/60 [00:02<00:00, 22.82it/s]s]\n",
      "Iteration: 100%|██████████| 214/214 [00:17<00:00, 11.89it/s]\n",
      "Iteration:  66%|██████▋   | 142/214 [00:11<00:05, 12.21it/s]"
     ]
    },
    {
     "name": "stdout",
     "output_type": "stream",
     "text": [
      "Evaluating...\n"
     ]
    },
    {
     "name": "stderr",
     "output_type": "stream",
     "text": [
      "Iteration: 100%|██████████| 24/24 [00:01<00:00, 20.01it/s]s]\n",
      "Iteration:  70%|███████   | 150/214 [00:12<00:05, 12.28it/s]"
     ]
    },
    {
     "name": "stdout",
     "output_type": "stream",
     "text": [
      "{'Train':  best_epoch_indx:61\n",
      " auc:0.9945622804281061 \n",
      " apur:0.9950433273313324 \n",
      " f1:0.9640691701034658 \n",
      " precision:0.9473848866642018 \n",
      " recall:0.9813516379919868 \n",
      ", 'Validation':  best_epoch_indx:61\n",
      " auc:0.9435512616255766 \n",
      " apur:0.940703826617586 \n",
      " f1:0.8893474335826671 \n",
      " precision:0.8658965344048217 \n",
      " recall:0.9141039236479321 \n",
      ", 'Test':  best_epoch_indx:61\n",
      " auc:0.9450389386056798 \n",
      " apur:0.9437608663820207 \n",
      " f1:0.8889233954451344 \n",
      " precision:0.8682507583417594 \n",
      " recall:0.9106044538706256 \n",
      "}\n",
      "=====Epoch 62\n",
      "Training...\n"
     ]
    },
    {
     "name": "stderr",
     "output_type": "stream",
     "text": [
      "Iteration: 100%|██████████| 214/214 [00:17<00:00, 12.10it/s]\n",
      "Iteration:  68%|██████▊   | 146/214 [00:11<00:05, 12.34it/s]"
     ]
    },
    {
     "name": "stdout",
     "output_type": "stream",
     "text": [
      "Evaluating...\n"
     ]
    },
    {
     "name": "stderr",
     "output_type": "stream",
     "text": [
      "Iteration: 100%|██████████| 214/214 [00:10<00:00, 21.27it/s]\n",
      "Iteration: 100%|██████████| 214/214 [00:17<00:00, 12.31it/s]\n",
      "Iteration:  60%|█████▉    | 128/214 [00:10<00:06, 12.55it/s]"
     ]
    },
    {
     "name": "stdout",
     "output_type": "stream",
     "text": [
      "Evaluating...\n"
     ]
    },
    {
     "name": "stderr",
     "output_type": "stream",
     "text": [
      "Iteration: 100%|██████████| 214/214 [00:17<00:00, 12.37it/s]\n",
      "Iteration:  93%|█████████▎| 56/60 [00:02<00:00, 21.51it/s]"
     ]
    },
    {
     "name": "stdout",
     "output_type": "stream",
     "text": [
      "Evaluating...\n"
     ]
    },
    {
     "name": "stderr",
     "output_type": "stream",
     "text": [
      "Iteration: 100%|██████████| 60/60 [00:02<00:00, 20.67it/s]]]\n",
      "Iteration: 100%|██████████| 24/24 [00:01<00:00, 20.46it/s]]]\n",
      "Iteration:  18%|█▊        | 39/214 [00:01<00:07, 22.02it/s]]"
     ]
    },
    {
     "name": "stdout",
     "output_type": "stream",
     "text": [
      "{'Train':  best_epoch_indx:62\n",
      " auc:0.9939717300674342 \n",
      " apur:0.9944554848161126 \n",
      " f1:0.9637058261700095 \n",
      " precision:0.947094461984811 \n",
      " recall:0.9809102960671675 \n",
      ", 'Validation':  best_epoch_indx:62\n",
      " auc:0.9434394772359416 \n",
      " apur:0.9382456687336539 \n",
      " f1:0.8882558591221027 \n",
      " precision:0.868134649455834 \n",
      " recall:0.9093319194061505 \n",
      ", 'Test':  best_epoch_indx:62\n",
      " auc:0.9429965632672875 \n",
      " apur:0.939055879209983 \n",
      " f1:0.8882444329363024 \n",
      " precision:0.8679283473332658 \n",
      " recall:0.9095344151023438 \n",
      "}\n",
      "=====Epoch 63\n",
      "Training...\n"
     ]
    },
    {
     "name": "stderr",
     "output_type": "stream",
     "text": [
      "Iteration: 100%|██████████| 214/214 [00:09<00:00, 22.29it/s]\n",
      "Iteration: 100%|██████████| 214/214 [00:17<00:00, 12.07it/s]\n",
      "Iteration:  53%|█████▎    | 114/214 [00:05<00:04, 22.24it/s]"
     ]
    },
    {
     "name": "stdout",
     "output_type": "stream",
     "text": [
      "Evaluating...\n"
     ]
    },
    {
     "name": "stderr",
     "output_type": "stream",
     "text": [
      "Iteration: 100%|██████████| 60/60 [00:02<00:00, 20.97it/s]s]\n",
      "Iteration: 100%|██████████| 24/24 [00:01<00:00, 20.89it/s]s]\n",
      "Iteration:  95%|█████████▌| 204/214 [00:09<00:00, 22.24it/s]"
     ]
    },
    {
     "name": "stdout",
     "output_type": "stream",
     "text": [
      "{'Train':  best_epoch_indx:60\n",
      " auc:0.995678442436804 \n",
      " apur:0.9960577072772866 \n",
      " f1:0.9692682428786045 \n",
      " precision:0.9598740466836145 \n",
      " recall:0.9788481366917072 \n",
      ", 'Validation':  best_epoch_indx:60\n",
      " auc:0.9457163111975928 \n",
      " apur:0.9429038063274291 \n",
      " f1:0.8914330833004342 \n",
      " precision:0.8850274366344395 \n",
      " recall:0.897932131495228 \n",
      ", 'Test':  best_epoch_indx:60\n",
      " auc:0.9471766706703995 \n",
      " apur:0.9449464491165238 \n",
      " f1:0.8922347986312188 \n",
      " precision:0.8858457035333472 \n",
      " recall:0.8987167249973486 \n",
      "}\n",
      "=====Epoch 61\n",
      "Training...\n"
     ]
    },
    {
     "name": "stderr",
     "output_type": "stream",
     "text": [
      "Iteration: 100%|██████████| 214/214 [00:09<00:00, 21.97it/s]\n",
      "Iteration: 100%|██████████| 214/214 [00:09<00:00, 22.10it/s]\n",
      "Iteration: 100%|██████████| 60/60 [00:02<00:00, 21.15it/s]]]\n",
      "Iteration: 100%|██████████| 24/24 [00:01<00:00, 22.28it/s]s]\n",
      "Iteration:  32%|███▏      | 68/214 [00:05<00:11, 12.39it/s]]"
     ]
    },
    {
     "name": "stdout",
     "output_type": "stream",
     "text": [
      "{'Train':  best_epoch_indx:61\n",
      " auc:0.9935662277933619 \n",
      " apur:0.9940811873388686 \n",
      " f1:0.9631456803818252 \n",
      " precision:0.9544665586669753 \n",
      " recall:0.9719840919133893 \n",
      ", 'Validation':  best_epoch_indx:61\n",
      " auc:0.9505059551746183 \n",
      " apur:0.9498361099216159 \n",
      " f1:0.8924083769633508 \n",
      " precision:0.8813340227507755 \n",
      " recall:0.9037645811240721 \n",
      ", 'Test':  best_epoch_indx:61\n",
      " auc:0.9469425550614743 \n",
      " apur:0.9422795627798891 \n",
      " f1:0.8911389748701537 \n",
      " precision:0.8817483388704319 \n",
      " recall:0.9007317849188673 \n",
      "}\n",
      "=====Epoch 62\n",
      "Training...\n"
     ]
    },
    {
     "name": "stderr",
     "output_type": "stream",
     "text": [
      "Iteration: 100%|██████████| 60/60 [00:02<00:00, 20.32it/s]s]\n",
      "Iteration: 100%|██████████| 214/214 [00:09<00:00, 22.33it/s]\n",
      "Iteration: 100%|██████████| 24/24 [00:01<00:00, 20.76it/s]]]\n",
      "Iteration:  44%|████▍     | 94/214 [00:07<00:09, 12.16it/s]]"
     ]
    },
    {
     "name": "stdout",
     "output_type": "stream",
     "text": [
      "{'Train':  best_epoch_indx:61\n",
      " auc:0.9947775763402428 \n",
      " apur:0.9953033408504812 \n",
      " f1:0.9653657614150436 \n",
      " precision:0.9534796850755703 \n",
      " recall:0.9775519222271322 \n",
      ", 'Validation':  best_epoch_indx:61\n",
      " auc:0.9454293582910085 \n",
      " apur:0.9427520169887597 \n",
      " f1:0.8879086663207058 \n",
      " precision:0.869410569105691 \n",
      " recall:0.9072110286320254 \n",
      ", 'Test':  best_epoch_indx:61\n",
      " auc:0.9452064561078745 \n",
      " apur:0.942297453112905 \n",
      " f1:0.887810477979545 \n",
      " precision:0.8738572162300976 \n",
      " recall:0.9022165659136706 \n",
      "}\n",
      "=====Epoch 62\n",
      "Training...\n"
     ]
    },
    {
     "name": "stderr",
     "output_type": "stream",
     "text": [
      "Iteration: 100%|██████████| 60/60 [00:02<00:00, 22.66it/s]s]\n",
      "Iteration: 100%|██████████| 214/214 [00:17<00:00, 12.33it/s]\n",
      "Iteration:  36%|███▌      | 76/214 [00:06<00:11, 12.11it/s]]"
     ]
    },
    {
     "name": "stdout",
     "output_type": "stream",
     "text": [
      "Evaluating...\n"
     ]
    },
    {
     "name": "stderr",
     "output_type": "stream",
     "text": [
      "\r",
      "Iteration:  23%|██▎       | 50/214 [00:04<00:13, 11.95it/s]\r",
      "Iteration:  69%|██████▉   | 148/214 [00:12<00:05, 12.14it/s]\r",
      "Iteration:   2%|▏         | 5/214 [00:00<00:10, 19.93it/s]\r",
      "Iteration: 100%|██████████| 24/24 [00:01<00:00, 22.55it/s]\r",
      "Iteration: 100%|██████████| 24/24 [00:01<00:00, 21.98it/s]\n",
      "\r",
      "Iteration:   0%|          | 0/214 [00:00<?, ?it/s]\r",
      "Iteration:  36%|███▋      | 78/214 [00:06<00:11, 12.25it/s]\r",
      "Iteration:  24%|██▍       | 52/214 [00:04<00:13, 12.05it/s]\r",
      "Iteration:   4%|▎         | 8/214 [00:00<00:10, 19.81it/s]\r",
      "Iteration:  70%|███████   | 150/214 [00:12<00:05, 12.11it/s]"
     ]
    },
    {
     "name": "stdout",
     "output_type": "stream",
     "text": [
      "{'Train':  best_epoch_indx:62\n",
      " auc:0.9930481772955834 \n",
      " apur:0.9936507884471493 \n",
      " f1:0.9599507807693435 \n",
      " precision:0.954664646582367 \n",
      " recall:0.9652957812868254 \n",
      ", 'Validation':  best_epoch_indx:62\n",
      " auc:0.9432423878794645 \n",
      " apur:0.9405295481028539 \n",
      " f1:0.8884524744697565 \n",
      " precision:0.8776513191929644 \n",
      " recall:0.8995227995758218 \n",
      ", 'Test':  best_epoch_indx:62\n",
      " auc:0.943928046262263 \n",
      " apur:0.9430760666265006 \n",
      " f1:0.8847571895080586 \n",
      " precision:0.8789242360820427 \n",
      " recall:0.8906680805938494 \n",
      "}\n",
      "=====Epoch 63\n",
      "Training...\n"
     ]
    },
    {
     "name": "stderr",
     "output_type": "stream",
     "text": [
      "Iteration: 100%|██████████| 214/214 [00:17<00:00, 12.20it/s]\n",
      "Iteration:  55%|█████▌    | 118/214 [00:09<00:07, 12.38it/s]"
     ]
    },
    {
     "name": "stdout",
     "output_type": "stream",
     "text": [
      "Evaluating...\n"
     ]
    },
    {
     "name": "stderr",
     "output_type": "stream",
     "text": [
      "Iteration: 100%|██████████| 214/214 [00:10<00:00, 20.37it/s]\n",
      "Iteration: 100%|██████████| 214/214 [00:17<00:00, 12.00it/s]\n",
      "Iteration:  63%|██████▎   | 134/214 [00:11<00:06, 12.13it/s]"
     ]
    },
    {
     "name": "stdout",
     "output_type": "stream",
     "text": [
      "Evaluating...\n"
     ]
    },
    {
     "name": "stderr",
     "output_type": "stream",
     "text": [
      "Iteration: 100%|██████████| 214/214 [00:17<00:00, 12.14it/s]\n",
      "Iteration:  74%|███████▍  | 158/214 [00:13<00:04, 12.39it/s]"
     ]
    },
    {
     "name": "stdout",
     "output_type": "stream",
     "text": [
      "Evaluating...\n"
     ]
    },
    {
     "name": "stderr",
     "output_type": "stream",
     "text": [
      "Iteration: 100%|██████████| 60/60 [00:02<00:00, 22.53it/s]s]\n",
      "Iteration: 100%|██████████| 24/24 [00:01<00:00, 22.26it/s]s]\n",
      "Iteration: 100%|██████████| 214/214 [00:09<00:00, 22.08it/s]\n",
      "Iteration:  85%|████████▌ | 182/214 [00:14<00:02, 12.40it/s]"
     ]
    },
    {
     "name": "stdout",
     "output_type": "stream",
     "text": [
      "{'Train':  best_epoch_indx:63\n",
      " auc:0.9911051489109056 \n",
      " apur:0.9917124278647934 \n",
      " f1:0.9557352813288111 \n",
      " precision:0.9406830437387658 \n",
      " recall:0.971277065841803 \n",
      ", 'Validation':  best_epoch_indx:63\n",
      " auc:0.9397109525235049 \n",
      " apur:0.9371324118429492 \n",
      " f1:0.884375 \n",
      " precision:0.8689866939611054 \n",
      " recall:0.9003181336161188 \n",
      ", 'Test':  best_epoch_indx:63\n",
      " auc:0.9397863298825173 \n",
      " apur:0.9367880856214186 \n",
      " f1:0.8843594009983361 \n",
      " precision:0.8674895440171376 \n",
      " recall:0.9018983985576413 \n",
      "}\n",
      "=====Epoch 64\n",
      "Training...\n"
     ]
    },
    {
     "name": "stderr",
     "output_type": "stream",
     "text": [
      "Iteration: 100%|██████████| 214/214 [00:17<00:00, 12.20it/s]\n",
      "Iteration:  70%|███████   | 42/60 [00:01<00:00, 22.37it/s]"
     ]
    },
    {
     "name": "stdout",
     "output_type": "stream",
     "text": [
      "Evaluating...\n"
     ]
    },
    {
     "name": "stderr",
     "output_type": "stream",
     "text": [
      "Iteration: 100%|██████████| 60/60 [00:02<00:00, 22.46it/s]]]\n",
      "Iteration: 100%|██████████| 24/24 [00:01<00:00, 22.25it/s]s]\n",
      "Iteration:  29%|██▉       | 62/214 [00:04<00:12, 12.43it/s]]"
     ]
    },
    {
     "name": "stdout",
     "output_type": "stream",
     "text": [
      "{'Train':  best_epoch_indx:61\n",
      " auc:0.9953712256415634 \n",
      " apur:0.995790216460416 \n",
      " f1:0.9675467306713216 \n",
      " precision:0.9556609195402299 \n",
      " recall:0.9797319192811902 \n",
      ", 'Validation':  best_epoch_indx:61\n",
      " auc:0.9440557976934043 \n",
      " apur:0.9422737590390972 \n",
      " f1:0.8881922675026123 \n",
      " precision:0.8753861997940268 \n",
      " recall:0.9013785790031813 \n",
      ", 'Test':  best_epoch_indx:61\n",
      " auc:0.9463653375694753 \n",
      " apur:0.9445417478919533 \n",
      " f1:0.890146750524109 \n",
      " precision:0.8799088177390944 \n",
      " recall:0.9006257291335242 \n",
      "}\n",
      "=====Epoch 62\n",
      "Training...\n"
     ]
    },
    {
     "name": "stderr",
     "output_type": "stream",
     "text": [
      "Iteration: 100%|██████████| 214/214 [00:09<00:00, 22.02it/s]\n",
      "Iteration: 100%|██████████| 214/214 [00:10<00:00, 20.75it/s]\n",
      "Iteration: 100%|██████████| 60/60 [00:02<00:00, 22.61it/s]s]\n",
      "Iteration: 100%|██████████| 24/24 [00:01<00:00, 22.51it/s]]]\n",
      "Iteration:  48%|████▊     | 29/60 [00:01<00:01, 20.87it/s]s]"
     ]
    },
    {
     "name": "stdout",
     "output_type": "stream",
     "text": [
      "{'Train':  best_epoch_indx:62\n",
      " auc:0.9919114872775079 \n",
      " apur:0.9926224406301709 \n",
      " f1:0.9575951205344178 \n",
      " precision:0.9442932836889589 \n",
      " recall:0.971277065841803 \n",
      ", 'Validation':  best_epoch_indx:62\n",
      " auc:0.9447345905615289 \n",
      " apur:0.9443475921705258 \n",
      " f1:0.8848846253564947 \n",
      " precision:0.8658041603247083 \n",
      " recall:0.9048250265111347 \n",
      ", 'Test':  best_epoch_indx:62\n",
      " auc:0.9429819106381058 \n",
      " apur:0.9366589900126211 \n",
      " f1:0.886554841406699 \n",
      " precision:0.8738154099711578 \n",
      " recall:0.8996712270654365 \n",
      "}\n",
      "=====Epoch 63\n",
      "Training...\n"
     ]
    },
    {
     "name": "stderr",
     "output_type": "stream",
     "text": [
      "Iteration: 100%|██████████| 60/60 [00:02<00:00, 20.97it/s]s]\n",
      "Iteration: 100%|██████████| 214/214 [00:10<00:00, 21.33it/s]\n",
      "Iteration: 100%|██████████| 24/24 [00:01<00:00, 22.57it/s]]]\n",
      "Iteration:  49%|████▊     | 104/214 [00:08<00:08, 12.43it/s]"
     ]
    },
    {
     "name": "stdout",
     "output_type": "stream",
     "text": [
      "{'Train':  best_epoch_indx:62\n",
      " auc:0.9926575103219318 \n",
      " apur:0.9932973029987615 \n",
      " f1:0.9593871736728878 \n",
      " precision:0.9469168746951308 \n",
      " recall:0.9721903078509353 \n",
      ", 'Validation':  best_epoch_indx:62\n",
      " auc:0.9423818066386926 \n",
      " apur:0.9393007272914685 \n",
      " f1:0.8873862158647594 \n",
      " precision:0.8708524757529351 \n",
      " recall:0.9045599151643691 \n",
      ", 'Test':  best_epoch_indx:62\n",
      " auc:0.9420708013707075 \n",
      " apur:0.93913482737838 \n",
      " f1:0.8854524627720505 \n",
      " precision:0.869694180218881 \n",
      " recall:0.9017923427722982 \n",
      "}\n",
      "=====Epoch 63\n",
      "Training...\n"
     ]
    },
    {
     "name": "stderr",
     "output_type": "stream",
     "text": [
      "Iteration: 100%|██████████| 60/60 [00:02<00:00, 20.17it/s]]]\n",
      "Iteration: 100%|██████████| 214/214 [00:17<00:00, 12.40it/s]\n",
      "Iteration:  67%|██████▋   | 16/24 [00:00<00:00, 21.83it/s]]]"
     ]
    },
    {
     "name": "stdout",
     "output_type": "stream",
     "text": [
      "Evaluating...\n"
     ]
    },
    {
     "name": "stderr",
     "output_type": "stream",
     "text": [
      "Iteration: 100%|██████████| 24/24 [00:01<00:00, 21.66it/s]s]\n",
      "Iteration:   0%|          | 0/214 [00:00<?, ?it/s]11.88it/s]"
     ]
    },
    {
     "name": "stdout",
     "output_type": "stream",
     "text": [
      "{'Train':  best_epoch_indx:63\n",
      " auc:0.9913899532030258 \n",
      " apur:0.9921368442342435 \n",
      " f1:0.9558744420697576 \n",
      " precision:0.9436231592846686 \n",
      " recall:0.9684480320527928 \n",
      ", 'Validation':  best_epoch_indx:63\n",
      " auc:0.9416556441444641 \n",
      " apur:0.938346198265632 \n",
      " f1:0.8872727272727273 \n",
      " precision:0.869653767820774 \n",
      " recall:0.9056203605514316 \n",
      ", 'Test':  best_epoch_indx:63\n",
      " auc:0.9430704860630529 \n",
      " apur:0.9419630099066046 \n",
      " f1:0.8867560377653747 \n",
      " precision:0.8726003490401396 \n",
      " recall:0.9013785790031813 \n",
      "}\n",
      "=====Epoch 64\n",
      "Training...\n"
     ]
    },
    {
     "name": "stderr",
     "output_type": "stream",
     "text": [
      "Iteration: 100%|██████████| 214/214 [00:17<00:00, 12.04it/s]\n",
      "Iteration:  56%|█████▌    | 120/214 [00:05<00:04, 21.17it/s]"
     ]
    },
    {
     "name": "stdout",
     "output_type": "stream",
     "text": [
      "Evaluating...\n"
     ]
    },
    {
     "name": "stderr",
     "output_type": "stream",
     "text": [
      "Iteration: 100%|██████████| 214/214 [00:09<00:00, 21.47it/s]\n",
      "Iteration: 100%|██████████| 214/214 [00:17<00:00, 12.26it/s]\n",
      "Iteration:  55%|█████▌    | 118/214 [00:05<00:04, 20.59it/s]"
     ]
    },
    {
     "name": "stdout",
     "output_type": "stream",
     "text": [
      "Evaluating...\n"
     ]
    },
    {
     "name": "stderr",
     "output_type": "stream",
     "text": [
      "Iteration: 100%|██████████| 60/60 [00:02<00:00, 22.53it/s]s]\n",
      "Iteration: 100%|██████████| 214/214 [00:17<00:00, 12.35it/s]\n",
      "Iteration:  75%|███████▍  | 160/214 [00:12<00:04, 12.45it/s]"
     ]
    },
    {
     "name": "stdout",
     "output_type": "stream",
     "text": [
      "Evaluating...\n"
     ]
    },
    {
     "name": "stderr",
     "output_type": "stream",
     "text": [
      "Iteration: 100%|██████████| 24/24 [00:01<00:00, 22.30it/s]]]\n",
      "Iteration:  13%|█▎        | 27/214 [00:01<00:08, 22.12it/s]]"
     ]
    },
    {
     "name": "stdout",
     "output_type": "stream",
     "text": [
      "{'Train':  best_epoch_indx:64\n",
      " auc:0.9853324354059154 \n",
      " apur:0.9863257847596015 \n",
      " f1:0.9421303656597774 \n",
      " precision:0.9247552844375089 \n",
      " recall:0.9601708646339667 \n",
      ", 'Validation':  best_epoch_indx:64\n",
      " auc:0.9307229722787398 \n",
      " apur:0.926373566416319 \n",
      " f1:0.8737889161607028 \n",
      " precision:0.8521038044847569 \n",
      " recall:0.8966065747613998 \n",
      ", 'Test':  best_epoch_indx:64\n",
      " auc:0.9347226514337115 \n",
      " apur:0.9317637143857616 \n",
      " f1:0.8771059431524547 \n",
      " precision:0.8553573228505191 \n",
      " recall:0.8999893944214656 \n",
      "}\n",
      "=====Epoch 65\n",
      "Training...\n"
     ]
    },
    {
     "name": "stderr",
     "output_type": "stream",
     "text": [
      "Iteration: 100%|██████████| 214/214 [00:10<00:00, 21.08it/s]\n",
      "Iteration: 100%|██████████| 214/214 [00:17<00:00, 12.27it/s]\n",
      "Iteration:  67%|██████▋   | 40/60 [00:02<00:01, 19.71it/s]]]"
     ]
    },
    {
     "name": "stdout",
     "output_type": "stream",
     "text": [
      "Evaluating...\n"
     ]
    },
    {
     "name": "stderr",
     "output_type": "stream",
     "text": [
      "Iteration: 100%|██████████| 60/60 [00:03<00:00, 19.77it/s]s]\n",
      "Iteration: 100%|██████████| 214/214 [00:09<00:00, 21.50it/s]\n",
      "Iteration: 100%|██████████| 24/24 [00:01<00:00, 19.54it/s]\n",
      "Iteration:   0%|          | 0/214 [00:00<?, ?it/s]22.06it/s]"
     ]
    },
    {
     "name": "stdout",
     "output_type": "stream",
     "text": [
      "{'Train':  best_epoch_indx:62\n",
      " auc:0.9938741268912374 \n",
      " apur:0.9943757973019115 \n",
      " f1:0.9631689893430144 \n",
      " precision:0.9572555067361131 \n",
      " recall:0.9691559876270438 \n",
      ", 'Validation':  best_epoch_indx:62\n",
      " auc:0.9406233430540827 \n",
      " apur:0.9375058701042438 \n",
      " f1:0.8808358682713926 \n",
      " precision:0.8788598574821853 \n",
      " recall:0.8828207847295865 \n",
      ", 'Test':  best_epoch_indx:62\n",
      " auc:0.9447747545113038 \n",
      " apur:0.9422601512056495 \n",
      " f1:0.8853721580418842 \n",
      " precision:0.8807724601175483 \n",
      " recall:0.8900201505992151 \n",
      "}\n",
      "=====Epoch 63\n",
      "Training...\n"
     ]
    },
    {
     "name": "stderr",
     "output_type": "stream",
     "text": [
      "Iteration: 100%|██████████| 214/214 [00:10<00:00, 20.88it/s]\n",
      "Iteration: 100%|██████████| 60/60 [00:02<00:00, 22.75it/s]s]\n",
      "Iteration: 100%|██████████| 24/24 [00:01<00:00, 19.42it/s]s]\n",
      "Iteration:   0%|          | 0/214 [00:00<?, ?it/s]12.39it/s]"
     ]
    },
    {
     "name": "stdout",
     "output_type": "stream",
     "text": [
      "{'Train':  best_epoch_indx:63\n",
      " auc:0.9892776556958572 \n",
      " apur:0.9901656444162965 \n",
      " f1:0.9507243836896834 \n",
      " precision:0.9427115011440322 \n",
      " recall:0.9588746501693917 \n",
      ", 'Validation':  best_epoch_indx:63\n",
      " auc:0.9431677856733321 \n",
      " apur:0.9438952010953348 \n",
      " f1:0.8819207557071636 \n",
      " precision:0.872987012987013 \n",
      " recall:0.8910392364793213 \n",
      ", 'Test':  best_epoch_indx:63\n",
      " auc:0.9405568804071324 \n",
      " apur:0.9361024694133442 \n",
      " f1:0.883075953356445 \n",
      " precision:0.8748048704339682 \n",
      " recall:0.8915049315940184 \n",
      "}\n",
      "=====Epoch 64\n",
      "Training...\n"
     ]
    },
    {
     "name": "stderr",
     "output_type": "stream",
     "text": [
      "Iteration: 100%|██████████| 60/60 [00:02<00:00, 22.99it/s]s]\n",
      "Iteration: 100%|██████████| 214/214 [00:09<00:00, 21.98it/s]\n",
      "Iteration: 100%|██████████| 24/24 [00:01<00:00, 22.89it/s]]]\n",
      "Iteration:  16%|█▌        | 34/214 [00:02<00:14, 12.58it/s]]"
     ]
    },
    {
     "name": "stdout",
     "output_type": "stream",
     "text": [
      "{'Train':  best_epoch_indx:63\n",
      " auc:0.9907509599983388 \n",
      " apur:0.991507282488113 \n",
      " f1:0.9533048915902052 \n",
      " precision:0.9456505985680744 \n",
      " recall:0.9610841066430992 \n",
      ", 'Validation':  best_epoch_indx:63\n",
      " auc:0.9412892133296462 \n",
      " apur:0.9410747860273024 \n",
      " f1:0.8823606214910563 \n",
      " precision:0.869307949575508 \n",
      " recall:0.8958112407211029 \n",
      ", 'Test':  best_epoch_indx:63\n",
      " auc:0.939373590891584 \n",
      " apur:0.9358314978248042 \n",
      " f1:0.8785341968093509 \n",
      " precision:0.8723337515683814 \n",
      " recall:0.8848234171174038 \n",
      "}\n",
      "=====Epoch 64\n",
      "Training...\n"
     ]
    },
    {
     "name": "stderr",
     "output_type": "stream",
     "text": [
      "Iteration: 100%|██████████| 60/60 [00:02<00:00, 22.39it/s]]]\n",
      "Iteration: 100%|██████████| 214/214 [00:17<00:00, 12.30it/s]\n",
      "Iteration:   0%|          | 0/214 [00:00<?, ?it/s]"
     ]
    },
    {
     "name": "stdout",
     "output_type": "stream",
     "text": [
      "Evaluating...\n"
     ]
    },
    {
     "name": "stderr",
     "output_type": "stream",
     "text": [
      "Iteration: 100%|██████████| 24/24 [00:01<00:00, 22.25it/s]]]\n",
      "Iteration:  67%|██████▋   | 144/214 [00:11<00:05, 12.47it/s]"
     ]
    },
    {
     "name": "stdout",
     "output_type": "stream",
     "text": [
      "{'Train':  best_epoch_indx:64\n",
      " auc:0.988444892591482 \n",
      " apur:0.9893736519680754 \n",
      " f1:0.9484178586909405 \n",
      " precision:0.9306414109907559 \n",
      " recall:0.9668866368135753 \n",
      ", 'Validation':  best_epoch_indx:64\n",
      " auc:0.9383161053240447 \n",
      " apur:0.9347412011462078 \n",
      " f1:0.8824822236586943 \n",
      " precision:0.8612162503154176 \n",
      " recall:0.9048250265111347 \n",
      ", 'Test':  best_epoch_indx:64\n",
      " auc:0.9377189539357697 \n",
      " apur:0.9368654524363049 \n",
      " f1:0.8796277145811789 \n",
      " precision:0.8583249243188699 \n",
      " recall:0.9020148462354188 \n",
      "}\n",
      "=====Epoch 65\n",
      "Training...\n"
     ]
    },
    {
     "name": "stderr",
     "output_type": "stream",
     "text": [
      "Iteration: 100%|██████████| 214/214 [00:17<00:00, 12.29it/s]\n",
      "Iteration:   0%|          | 0/214 [00:00<?, ?it/s]"
     ]
    },
    {
     "name": "stdout",
     "output_type": "stream",
     "text": [
      "Evaluating...\n"
     ]
    },
    {
     "name": "stderr",
     "output_type": "stream",
     "text": [
      "Iteration: 100%|██████████| 214/214 [00:10<00:00, 21.21it/s]\n",
      "Iteration: 100%|██████████| 214/214 [00:17<00:00, 12.15it/s]\n",
      "Iteration:  20%|██        | 12/60 [00:00<00:02, 22.27it/s]s]"
     ]
    },
    {
     "name": "stdout",
     "output_type": "stream",
     "text": [
      "Evaluating...\n"
     ]
    },
    {
     "name": "stderr",
     "output_type": "stream",
     "text": [
      "Iteration: 100%|██████████| 60/60 [00:03<00:00, 19.74it/s]s]\n",
      "Iteration: 100%|██████████| 214/214 [00:17<00:00, 12.24it/s]\n",
      "Iteration:   1%|▏         | 3/214 [00:00<00:09, 21.68it/s]s]"
     ]
    },
    {
     "name": "stdout",
     "output_type": "stream",
     "text": [
      "Evaluating...\n"
     ]
    },
    {
     "name": "stderr",
     "output_type": "stream",
     "text": [
      "Iteration: 100%|██████████| 24/24 [00:01<00:00, 22.08it/s]s]\n",
      "Iteration:  93%|█████████▎| 198/214 [00:09<00:00, 20.10it/s]"
     ]
    },
    {
     "name": "stdout",
     "output_type": "stream",
     "text": [
      "{'Train':  best_epoch_indx:65\n",
      " auc:0.9913852791637304 \n",
      " apur:0.9920684852782624 \n",
      " f1:0.9564585935457635 \n",
      " precision:0.9432524563866052 \n",
      " recall:0.9700397702165268 \n",
      ", 'Validation':  best_epoch_indx:65\n",
      " auc:0.9424355186415136 \n",
      " apur:0.9374343667306115 \n",
      " f1:0.8872357086922474 \n",
      " precision:0.8737789203084833 \n",
      " recall:0.9011134676564156 \n",
      ", 'Test':  best_epoch_indx:65\n",
      " auc:0.94129847172205 \n",
      " apur:0.938764996452094 \n",
      " f1:0.8844583987441131 \n",
      " precision:0.8729470096064457 \n",
      " recall:0.8962774419344576 \n",
      "}\n",
      "=====Epoch 66\n",
      "Training...\n"
     ]
    },
    {
     "name": "stderr",
     "output_type": "stream",
     "text": [
      "Iteration: 100%|██████████| 214/214 [00:10<00:00, 20.76it/s]\n",
      "Iteration: 100%|██████████| 214/214 [00:17<00:00, 12.18it/s]\n",
      "Iteration:   1%|▏         | 3/214 [00:00<00:09, 21.77it/s]]]"
     ]
    },
    {
     "name": "stdout",
     "output_type": "stream",
     "text": [
      "Evaluating...\n"
     ]
    },
    {
     "name": "stderr",
     "output_type": "stream",
     "text": [
      "Iteration: 100%|██████████| 60/60 [00:02<00:00, 20.46it/s]s]\n",
      "Iteration: 100%|██████████| 214/214 [00:09<00:00, 22.11it/s]\n",
      "Iteration: 100%|██████████| 24/24 [00:01<00:00, 21.20it/s]s]\n",
      "Iteration:  83%|████████▎ | 177/214 [00:08<00:01, 22.22it/s]"
     ]
    },
    {
     "name": "stdout",
     "output_type": "stream",
     "text": [
      "{'Train':  best_epoch_indx:63\n",
      " auc:0.9903431960717615 \n",
      " apur:0.991063038030508 \n",
      " f1:0.9539383711118223 \n",
      " precision:0.9423668400931329 \n",
      " recall:0.9657976137870083 \n",
      ", 'Validation':  best_epoch_indx:63\n",
      " auc:0.9378018178520148 \n",
      " apur:0.9344327773347556 \n",
      " f1:0.8822454308093995 \n",
      " precision:0.8690843621399177 \n",
      " recall:0.8958112407211029 \n",
      ", 'Test':  best_epoch_indx:63\n",
      " auc:0.9408067331215262 \n",
      " apur:0.9400439133751994 \n",
      " f1:0.8848427771673729 \n",
      " precision:0.8731928954977282 \n",
      " recall:0.896807720861173 \n",
      "}\n",
      "=====Epoch 64\n",
      "Training...\n"
     ]
    },
    {
     "name": "stderr",
     "output_type": "stream",
     "text": [
      "Iteration: 100%|██████████| 214/214 [00:09<00:00, 22.13it/s]\n",
      "Iteration: 100%|██████████| 60/60 [00:02<00:00, 22.52it/s]s]\n",
      "Iteration: 100%|██████████| 24/24 [00:01<00:00, 20.28it/s]]]\n",
      "Iteration:  61%|██████    | 130/214 [00:10<00:06, 12.25it/s]"
     ]
    },
    {
     "name": "stdout",
     "output_type": "stream",
     "text": [
      "{'Train':  best_epoch_indx:64\n",
      " auc:0.987310890451633 \n",
      " apur:0.9882520678120503 \n",
      " f1:0.9409402615765288 \n",
      " precision:0.9046764545948885 \n",
      " recall:0.9802327294152305 \n",
      ", 'Validation':  best_epoch_indx:64\n",
      " auc:0.9404387402517671 \n",
      " apur:0.9393880316310432 \n",
      " f1:0.8840125391849529 \n",
      " precision:0.8386866523911491 \n",
      " recall:0.9345174973488866 \n",
      ", 'Test':  best_epoch_indx:64\n",
      " auc:0.9379028724372178 \n",
      " apur:0.93312981236469 \n",
      " f1:0.8823794954105433 \n",
      " precision:0.8370765131328511 \n",
      " recall:0.9328666878778238 \n",
      "}\n",
      "=====Epoch 65\n",
      "Training...\n"
     ]
    },
    {
     "name": "stderr",
     "output_type": "stream",
     "text": [
      "Iteration: 100%|██████████| 60/60 [00:02<00:00, 21.47it/s]]]\n",
      "Iteration: 100%|██████████| 214/214 [00:09<00:00, 21.90it/s]\n",
      "Iteration: 100%|██████████| 24/24 [00:01<00:00, 20.10it/s]]]\n",
      "Iteration:   1%|          | 2/214 [00:00<00:18, 11.62it/s]]]"
     ]
    },
    {
     "name": "stdout",
     "output_type": "stream",
     "text": [
      "{'Train':  best_epoch_indx:64\n",
      " auc:0.9897875501461845 \n",
      " apur:0.9907436628033923 \n",
      " f1:0.9516950641138241 \n",
      " precision:0.9457973291437549 \n",
      " recall:0.957666813963765 \n",
      ", 'Validation':  best_epoch_indx:64\n",
      " auc:0.9394406087159478 \n",
      " apur:0.9386395888999122 \n",
      " f1:0.87918142463597 \n",
      " precision:0.8701635938717216 \n",
      " recall:0.8883881230116649 \n",
      ", 'Test':  best_epoch_indx:64\n",
      " auc:0.9399125597959261 \n",
      " apur:0.9375131140935211 \n",
      " f1:0.8799241626290288 \n",
      " precision:0.8739407887854378 \n",
      " recall:0.8859900307561778 \n",
      "}\n",
      "=====Epoch 65\n",
      "Training...\n"
     ]
    },
    {
     "name": "stderr",
     "output_type": "stream",
     "text": [
      "Iteration: 100%|██████████| 60/60 [00:03<00:00, 19.71it/s]s]\n",
      "Iteration: 100%|██████████| 214/214 [00:17<00:00, 12.26it/s]\n",
      "Iteration:  71%|███████   | 17/24 [00:00<00:00, 20.73it/s]"
     ]
    },
    {
     "name": "stdout",
     "output_type": "stream",
     "text": [
      "Evaluating...\n"
     ]
    },
    {
     "name": "stderr",
     "output_type": "stream",
     "text": [
      "Iteration: 100%|██████████| 24/24 [00:01<00:00, 20.33it/s]]]\n",
      "Iteration:   6%|▌         | 12/214 [00:00<00:09, 22.14it/s]]"
     ]
    },
    {
     "name": "stdout",
     "output_type": "stream",
     "text": [
      "{'Train':  best_epoch_indx:65\n",
      " auc:0.9905980333625741 \n",
      " apur:0.9914244970701275 \n",
      " f1:0.9533016882230835 \n",
      " precision:0.9396480183144942 \n",
      " recall:0.9673580014140938 \n",
      ", 'Validation':  best_epoch_indx:65\n",
      " auc:0.9385093099747827 \n",
      " apur:0.9359422422409749 \n",
      " f1:0.8824296141814391 \n",
      " precision:0.867948717948718 \n",
      " recall:0.8974019088016967 \n",
      ", 'Test':  best_epoch_indx:65\n",
      " auc:0.9419337390994803 \n",
      " apur:0.9416756317693861 \n",
      " f1:0.8851400603977924 \n",
      " precision:0.8694762684124386 \n",
      " recall:0.9013785790031813 \n",
      "}\n",
      "=====Epoch 66\n",
      "Training...\n"
     ]
    },
    {
     "name": "stderr",
     "output_type": "stream",
     "text": [
      "Iteration: 100%|██████████| 214/214 [00:17<00:00, 12.19it/s]\n",
      "Iteration:  67%|██████▋   | 144/214 [00:06<00:03, 22.07it/s]"
     ]
    },
    {
     "name": "stdout",
     "output_type": "stream",
     "text": [
      "Evaluating...\n"
     ]
    },
    {
     "name": "stderr",
     "output_type": "stream",
     "text": [
      "Iteration: 100%|██████████| 214/214 [00:09<00:00, 22.02it/s]\n",
      "Iteration: 100%|██████████| 214/214 [00:17<00:00, 12.44it/s]\n",
      "Iteration:  85%|████████▌ | 182/214 [00:14<00:02, 12.74it/s]"
     ]
    },
    {
     "name": "stdout",
     "output_type": "stream",
     "text": [
      "Evaluating...\n"
     ]
    },
    {
     "name": "stderr",
     "output_type": "stream",
     "text": [
      "Iteration: 100%|██████████| 214/214 [00:17<00:00, 12.45it/s]\n",
      "Iteration: 100%|██████████| 60/60 [00:02<00:00, 22.47it/s]]\n",
      "Iteration:  67%|██████▋   | 144/214 [00:06<00:03, 22.21it/s]"
     ]
    },
    {
     "name": "stdout",
     "output_type": "stream",
     "text": [
      "Evaluating...\n"
     ]
    },
    {
     "name": "stderr",
     "output_type": "stream",
     "text": [
      "Iteration: 100%|██████████| 24/24 [00:01<00:00, 22.14it/s]]]\n",
      "Iteration:  81%|████████▏ | 174/214 [00:07<00:01, 22.10it/s]"
     ]
    },
    {
     "name": "stdout",
     "output_type": "stream",
     "text": [
      "{'Train':  best_epoch_indx:66\n",
      " auc:0.9932626596031603 \n",
      " apur:0.9938671235260654 \n",
      " f1:0.9618285048769835 \n",
      " precision:0.9507555043891207 \n",
      " recall:0.9731624686993666 \n",
      ", 'Validation':  best_epoch_indx:66\n",
      " auc:0.9434347204534038 \n",
      " apur:0.9401677503131047 \n",
      " f1:0.8875523012552301 \n",
      " precision:0.8756449948400413 \n",
      " recall:0.8997879109225875 \n",
      ", 'Test':  best_epoch_indx:66\n",
      " auc:0.943147419026078 \n",
      " apur:0.9406843984492419 \n",
      " f1:0.8871069182389937 \n",
      " precision:0.8769039477774324 \n",
      " recall:0.8975501113585747 \n",
      "}\n",
      "=====Epoch 67\n",
      "Training...\n"
     ]
    },
    {
     "name": "stderr",
     "output_type": "stream",
     "text": [
      "Iteration: 100%|██████████| 214/214 [00:09<00:00, 22.03it/s]\n",
      "Iteration: 100%|██████████| 214/214 [00:17<00:00, 12.38it/s]\n",
      "Iteration:   0%|          | 0/214 [00:00<?, ?it/s]"
     ]
    },
    {
     "name": "stdout",
     "output_type": "stream",
     "text": [
      "Evaluating...\n"
     ]
    },
    {
     "name": "stderr",
     "output_type": "stream",
     "text": [
      "Iteration: 100%|██████████| 60/60 [00:02<00:00, 22.59it/s]s]\n",
      "Iteration: 100%|██████████| 214/214 [00:10<00:00, 21.18it/s]\n",
      "Iteration: 100%|██████████| 24/24 [00:01<00:00, 20.14it/s]]]\n",
      "Iteration:  38%|███▊      | 82/214 [00:06<00:10, 12.51it/s]"
     ]
    },
    {
     "name": "stdout",
     "output_type": "stream",
     "text": [
      "{'Train':  best_epoch_indx:64\n",
      " auc:0.9874486641909359 \n",
      " apur:0.9885582942112399 \n",
      " f1:0.9476098433488157 \n",
      " precision:0.9283796387891806 \n",
      " recall:0.9676535572249226 \n",
      ", 'Validation':  best_epoch_indx:64\n",
      " auc:0.9342812438161826 \n",
      " apur:0.9310353821444489 \n",
      " f1:0.8806840264282939 \n",
      " precision:0.8611603749683304 \n",
      " recall:0.9011134676564156 \n",
      ", 'Test':  best_epoch_indx:64\n",
      " auc:0.9369933108738642 \n",
      " apur:0.9345970310484466 \n",
      " f1:0.8799668874172186 \n",
      " precision:0.8590766744115568 \n",
      " recall:0.9018983985576413 \n",
      "}\n",
      "=====Epoch 65\n",
      "Training...\n"
     ]
    },
    {
     "name": "stderr",
     "output_type": "stream",
     "text": [
      "Iteration: 100%|██████████| 214/214 [00:09<00:00, 21.90it/s]\n",
      "Iteration: 100%|██████████| 60/60 [00:03<00:00, 18.42it/s]]]\n",
      "Iteration: 100%|██████████| 24/24 [00:01<00:00, 22.47it/s]s]\n",
      "Iteration:   1%|          | 2/214 [00:00<00:17, 12.01it/s]s]"
     ]
    },
    {
     "name": "stdout",
     "output_type": "stream",
     "text": [
      "{'Train':  best_epoch_indx:65\n",
      " auc:0.9888943107638684 \n",
      " apur:0.9898998858655702 \n",
      " f1:0.949613129115456 \n",
      " precision:0.9293530373963562 \n",
      " recall:0.9707762557077626 \n",
      ", 'Validation':  best_epoch_indx:65\n",
      " auc:0.9408247135148435 \n",
      " apur:0.9408649120474863 \n",
      " f1:0.8839665164198325 \n",
      " precision:0.859504132231405 \n",
      " recall:0.9098621420996819 \n",
      ", 'Test':  best_epoch_indx:65\n",
      " auc:0.9414471464143248 \n",
      " apur:0.9372672128572698 \n",
      " f1:0.8875568416701116 \n",
      " precision:0.8654640733649098 \n",
      " recall:0.9108070845264609 \n",
      "}\n",
      "=====Epoch 66\n",
      "Training...\n"
     ]
    },
    {
     "name": "stderr",
     "output_type": "stream",
     "text": [
      "Iteration: 100%|██████████| 60/60 [00:03<00:00, 17.58it/s]]]\n",
      "Iteration: 100%|██████████| 214/214 [00:09<00:00, 22.07it/s]\n",
      "Iteration: 100%|██████████| 24/24 [00:01<00:00, 20.87it/s]s]\n",
      "Iteration:   1%|          | 2/214 [00:00<00:17, 12.14it/s]s]"
     ]
    },
    {
     "name": "stdout",
     "output_type": "stream",
     "text": [
      "{'Train':  best_epoch_indx:65\n",
      " auc:0.9881053227211682 \n",
      " apur:0.9891352219656926 \n",
      " f1:0.9478584184793746 \n",
      " precision:0.9420116965870406 \n",
      " recall:0.9537781705700398 \n",
      ", 'Validation':  best_epoch_indx:65\n",
      " auc:0.9397852376108015 \n",
      " apur:0.9391580995239519 \n",
      " f1:0.8788236838650388 \n",
      " precision:0.870481144343303 \n",
      " recall:0.8873276776246023 \n",
      ", 'Test':  best_epoch_indx:65\n",
      " auc:0.9384183847450169 \n",
      " apur:0.9369729754208576 \n",
      " f1:0.8782388877185592 \n",
      " precision:0.8722669735327964 \n",
      " recall:0.8842931381906883 \n",
      "}\n",
      "=====Epoch 66\n",
      "Training...\n"
     ]
    },
    {
     "name": "stderr",
     "output_type": "stream",
     "text": [
      "Iteration: 100%|██████████| 60/60 [00:02<00:00, 21.12it/s]]]\n",
      "Iteration: 100%|██████████| 214/214 [00:17<00:00, 12.40it/s]\n",
      "Iteration:   1%|          | 2/214 [00:00<00:11, 19.25it/s]s]"
     ]
    },
    {
     "name": "stdout",
     "output_type": "stream",
     "text": [
      "Evaluating...\n"
     ]
    },
    {
     "name": "stderr",
     "output_type": "stream",
     "text": [
      "Iteration: 100%|██████████| 24/24 [00:01<00:00, 20.48it/s]]]\n",
      "Iteration:   7%|▋         | 16/214 [00:00<00:09, 19.97it/s]]"
     ]
    },
    {
     "name": "stdout",
     "output_type": "stream",
     "text": [
      "{'Train':  best_epoch_indx:66\n",
      " auc:0.9934669901075693 \n",
      " apur:0.994037801476452 \n",
      " f1:0.9615637271360378 \n",
      " precision:0.95300789953413 \n",
      " recall:0.970274569879802 \n",
      ", 'Validation':  best_epoch_indx:66\n",
      " auc:0.9440010154145121 \n",
      " apur:0.9400257373932928 \n",
      " f1:0.8899070558973688 \n",
      " precision:0.8789759503491078 \n",
      " recall:0.9011134676564156 \n",
      ", 'Test':  best_epoch_indx:66\n",
      " auc:0.9460314426687754 \n",
      " apur:0.9452597395517663 \n",
      " f1:0.8892268960453164 \n",
      " precision:0.8797218762972188 \n",
      " recall:0.8989395546129374 \n",
      "}\n",
      "=====Epoch 67\n",
      "Training...\n"
     ]
    },
    {
     "name": "stderr",
     "output_type": "stream",
     "text": [
      "Iteration: 100%|██████████| 214/214 [00:17<00:00, 12.25it/s]\n",
      "Iteration:   0%|          | 0/214 [00:00<?, ?it/s]"
     ]
    },
    {
     "name": "stdout",
     "output_type": "stream",
     "text": [
      "Evaluating...\n"
     ]
    },
    {
     "name": "stderr",
     "output_type": "stream",
     "text": [
      "Iteration: 100%|██████████| 214/214 [00:10<00:00, 20.75it/s]\n",
      "Iteration: 100%|██████████| 214/214 [00:17<00:00, 12.31it/s]\n",
      "Iteration:  15%|█▌        | 9/60 [00:00<00:02, 20.12it/s]]s]"
     ]
    },
    {
     "name": "stdout",
     "output_type": "stream",
     "text": [
      "Evaluating...\n"
     ]
    },
    {
     "name": "stderr",
     "output_type": "stream",
     "text": [
      "Iteration: 100%|██████████| 60/60 [00:02<00:00, 21.86it/s]s]\n",
      "Iteration: 100%|██████████| 214/214 [00:17<00:00, 12.41it/s]\n",
      "Iteration:   1%|▏         | 3/214 [00:00<00:09, 21.32it/s]]]"
     ]
    },
    {
     "name": "stdout",
     "output_type": "stream",
     "text": [
      "Evaluating...\n"
     ]
    },
    {
     "name": "stderr",
     "output_type": "stream",
     "text": [
      "Iteration: 100%|██████████| 24/24 [00:01<00:00, 20.50it/s]]]\n",
      "Iteration:  14%|█▍        | 30/214 [00:01<00:08, 22.15it/s]"
     ]
    },
    {
     "name": "stdout",
     "output_type": "stream",
     "text": [
      "{'Train':  best_epoch_indx:67\n",
      " auc:0.9951320606952144 \n",
      " apur:0.9955451773738908 \n",
      " f1:0.9669165271814278 \n",
      " precision:0.9555811277330265 \n",
      " recall:0.9785240830755634 \n",
      ", 'Validation':  best_epoch_indx:67\n",
      " auc:0.9442606168215053 \n",
      " apur:0.9386037503295718 \n",
      " f1:0.8888888888888891 \n",
      " precision:0.8757396449704142 \n",
      " recall:0.9024390243902439 \n",
      ", 'Test':  best_epoch_indx:67\n",
      " auc:0.9450563787555963 \n",
      " apur:0.9424174826544881 \n",
      " f1:0.8895269917510703 \n",
      " precision:0.8759897172236504 \n",
      " recall:0.9034892353377877 \n",
      "}\n",
      "=====Epoch 68\n",
      "Training...\n"
     ]
    },
    {
     "name": "stderr",
     "output_type": "stream",
     "text": [
      "Iteration: 100%|██████████| 214/214 [00:09<00:00, 21.76it/s]\n",
      "Iteration: 100%|██████████| 214/214 [00:17<00:00, 12.22it/s]\n",
      "Iteration:  15%|█▍        | 32/214 [00:03<00:15, 11.99it/s]]"
     ]
    },
    {
     "name": "stdout",
     "output_type": "stream",
     "text": [
      "Evaluating...\n"
     ]
    },
    {
     "name": "stderr",
     "output_type": "stream",
     "text": [
      "Iteration: 100%|██████████| 60/60 [00:03<00:00, 19.22it/s]]]\n",
      "Iteration: 100%|██████████| 214/214 [00:09<00:00, 22.25it/s]\n",
      "Iteration: 100%|██████████| 24/24 [00:01<00:00, 19.86it/s]]]\n",
      "Iteration:   1%|          | 2/214 [00:00<00:17, 12.08it/s]]]"
     ]
    },
    {
     "name": "stdout",
     "output_type": "stream",
     "text": [
      "{'Train':  best_epoch_indx:65\n",
      " auc:0.9890625414355686 \n",
      " apur:0.9899043423818856 \n",
      " f1:0.9506042098849606 \n",
      " precision:0.9364353492626043 \n",
      " recall:0.9652084253940197 \n",
      ", 'Validation':  best_epoch_indx:65\n",
      " auc:0.937784693434879 \n",
      " apur:0.9344369308929616 \n",
      " f1:0.8845355474831343 \n",
      " precision:0.8661077235772358 \n",
      " recall:0.9037645811240721 \n",
      ", 'Test':  best_epoch_indx:65\n",
      " auc:0.9399537579015366 \n",
      " apur:0.9387226122429286 \n",
      " f1:0.8846353895766149 \n",
      " precision:0.8680208227008268 \n",
      " recall:0.9018983985576413 \n",
      "}\n",
      "=====Epoch 66\n",
      "Training...\n"
     ]
    },
    {
     "name": "stderr",
     "output_type": "stream",
     "text": [
      "Iteration: 100%|██████████| 214/214 [00:09<00:00, 22.32it/s]\n",
      "Iteration: 100%|██████████| 60/60 [00:02<00:00, 20.89it/s]s]\n",
      "Iteration: 100%|██████████| 24/24 [00:01<00:00, 20.20it/s]s]\n",
      "Iteration:  60%|█████▉    | 128/214 [00:10<00:07, 12.17it/s]"
     ]
    },
    {
     "name": "stdout",
     "output_type": "stream",
     "text": [
      "{'Train':  best_epoch_indx:66\n",
      " auc:0.991513875172273 \n",
      " apur:0.99218508748662 \n",
      " f1:0.9561771561771562 \n",
      " precision:0.9458423403948696 \n",
      " recall:0.9667403152157903 \n",
      ", 'Validation':  best_epoch_indx:66\n",
      " auc:0.9441929515899069 \n",
      " apur:0.9439726913448249 \n",
      " f1:0.8844339622641509 \n",
      " precision:0.8743523316062176 \n",
      " recall:0.8947507953340403 \n",
      ", 'Test':  best_epoch_indx:66\n",
      " auc:0.9431111883271653 \n",
      " apur:0.9387833549106336 \n",
      " f1:0.887061288632792 \n",
      " precision:0.876410309491771 \n",
      " recall:0.897974334499947 \n",
      "}\n",
      "=====Epoch 67\n",
      "Training...\n"
     ]
    },
    {
     "name": "stderr",
     "output_type": "stream",
     "text": [
      "Iteration: 100%|██████████| 60/60 [00:02<00:00, 22.80it/s]]]\n",
      "Iteration: 100%|██████████| 24/24 [00:01<00:00, 22.94it/s]]]\n",
      "Iteration:  99%|█████████▊| 211/214 [00:09<00:00, 18.68it/s]"
     ]
    },
    {
     "name": "stdout",
     "output_type": "stream",
     "text": [
      "{'Train':  best_epoch_indx:66\n",
      " auc:0.99227722547321 \n",
      " apur:0.993034330475591 \n",
      " f1:0.9573866122210878 \n",
      " precision:0.947985559566787 \n",
      " recall:0.9669759905729857 \n",
      ", 'Validation':  best_epoch_indx:66\n",
      " auc:0.9444699548930168 \n",
      " apur:0.9434613352392439 \n",
      " f1:0.8870292887029289 \n",
      " precision:0.8751289989680082 \n",
      " recall:0.8992576882290562 \n",
      ", 'Test':  best_epoch_indx:66\n",
      " auc:0.9441272496893175 \n",
      " apur:0.9413112750063212 \n",
      " f1:0.8886091881686595 \n",
      " precision:0.8789293495175848 \n",
      " recall:0.8985046134266624 \n",
      "}\n",
      "=====Epoch 67\n",
      "Training...\n"
     ]
    },
    {
     "name": "stderr",
     "output_type": "stream",
     "text": [
      "Iteration: 100%|██████████| 214/214 [00:09<00:00, 21.45it/s]\n",
      "Iteration: 100%|██████████| 60/60 [00:02<00:00, 21.99it/s]s]\n",
      "Iteration: 100%|██████████| 214/214 [00:17<00:00, 12.04it/s]\n",
      "Iteration: 100%|██████████| 24/24 [00:01<00:00, 22.14it/s]]\n",
      "Iteration:  64%|██████▎   | 136/214 [00:11<00:06, 12.53it/s]"
     ]
    },
    {
     "name": "stdout",
     "output_type": "stream",
     "text": [
      "Evaluating...\n",
      "{'Train':  best_epoch_indx:67\n",
      " auc:0.9949091815543496 \n",
      " apur:0.995343963455007 \n",
      " f1:0.9668966721984452 \n",
      " precision:0.9556834532374101 \n",
      " recall:0.9783761489512137 \n",
      ", 'Validation':  best_epoch_indx:67\n",
      " auc:0.9451602433189404 \n",
      " apur:0.9410553228025229 \n",
      " f1:0.892391870766024 \n",
      " precision:0.8773053278688525 \n",
      " recall:0.9080063626723224 \n",
      ", 'Test':  best_epoch_indx:67\n",
      " auc:0.9481190890699276 \n",
      " apur:0.9471918088500711 \n",
      " f1:0.8932150313152402 \n",
      " precision:0.8794450154162384 \n",
      " recall:0.907423117709438 \n",
      "}\n",
      "=====Epoch 68\n",
      "Training...\n"
     ]
    },
    {
     "name": "stderr",
     "output_type": "stream",
     "text": [
      "Iteration: 100%|██████████| 214/214 [00:17<00:00, 12.24it/s]\n",
      "Iteration:   1%|▏         | 3/214 [00:00<00:09, 21.33it/s]s]"
     ]
    },
    {
     "name": "stdout",
     "output_type": "stream",
     "text": [
      "Evaluating...\n"
     ]
    },
    {
     "name": "stderr",
     "output_type": "stream",
     "text": [
      "Iteration: 100%|██████████| 214/214 [00:09<00:00, 22.00it/s]\n",
      "Iteration: 100%|██████████| 214/214 [00:17<00:00, 12.24it/s]\n",
      "Iteration:  42%|████▏     | 90/214 [00:04<00:05, 22.21it/s]]"
     ]
    },
    {
     "name": "stdout",
     "output_type": "stream",
     "text": [
      "Evaluating...\n"
     ]
    },
    {
     "name": "stderr",
     "output_type": "stream",
     "text": [
      "Iteration: 100%|██████████| 214/214 [00:17<00:00, 12.27it/s]\n",
      "Iteration:  63%|██████▎   | 135/214 [00:06<00:03, 22.20it/s]"
     ]
    },
    {
     "name": "stdout",
     "output_type": "stream",
     "text": [
      "Evaluating...\n"
     ]
    },
    {
     "name": "stderr",
     "output_type": "stream",
     "text": [
      "Iteration: 100%|██████████| 60/60 [00:02<00:00, 21.04it/s]s]\n",
      "Iteration: 100%|██████████| 24/24 [00:01<00:00, 20.58it/s]s]\n",
      "Iteration:  88%|████████▊ | 189/214 [00:08<00:01, 22.05it/s]"
     ]
    },
    {
     "name": "stdout",
     "output_type": "stream",
     "text": [
      "{'Train':  best_epoch_indx:68\n",
      " auc:0.9969831151126456 \n",
      " apur:0.9972598749333881 \n",
      " f1:0.9737290232436288 \n",
      " precision:0.9622864046947817 \n",
      " recall:0.9854470466931802 \n",
      ", 'Validation':  best_epoch_indx:68\n",
      " auc:0.9473910157696853 \n",
      " apur:0.9427563417712249 \n",
      " f1:0.8965337503257754 \n",
      " precision:0.8815991799077396 \n",
      " recall:0.911983032873807 \n",
      ", 'Test':  best_epoch_indx:68\n",
      " auc:0.9470568796373158 \n",
      " apur:0.944733665553363 \n",
      " f1:0.8913111505163243 \n",
      " precision:0.8768599281682914 \n",
      " recall:0.9062466857567081 \n",
      "}\n",
      "=====Epoch 69\n",
      "Training...\n"
     ]
    },
    {
     "name": "stderr",
     "output_type": "stream",
     "text": [
      "Iteration: 100%|██████████| 214/214 [00:09<00:00, 22.22it/s]\n",
      "Iteration: 100%|██████████| 214/214 [00:17<00:00, 11.96it/s]\n",
      "Iteration:  55%|█████▌    | 33/60 [00:01<00:01, 22.55it/s]s]"
     ]
    },
    {
     "name": "stdout",
     "output_type": "stream",
     "text": [
      "Evaluating...\n"
     ]
    },
    {
     "name": "stderr",
     "output_type": "stream",
     "text": [
      "Iteration: 100%|██████████| 60/60 [00:02<00:00, 22.76it/s]s]\n",
      "Iteration: 100%|██████████| 214/214 [00:09<00:00, 22.29it/s]\n",
      "Iteration: 100%|██████████| 24/24 [00:01<00:00, 20.18it/s]s]\n",
      "Iteration:  36%|███▌      | 76/214 [00:06<00:11, 12.34it/s]]"
     ]
    },
    {
     "name": "stdout",
     "output_type": "stream",
     "text": [
      "{'Train':  best_epoch_indx:66\n",
      " auc:0.993239385742418 \n",
      " apur:0.9937932192288521 \n",
      " f1:0.9619887309140805 \n",
      " precision:0.9534156997772055 \n",
      " recall:0.9707173368684637 \n",
      ", 'Validation':  best_epoch_indx:66\n",
      " auc:0.9433937328438711 \n",
      " apur:0.9407846574081512 \n",
      " f1:0.8879570174289084 \n",
      " precision:0.8779476548328583 \n",
      " recall:0.8981972428419936 \n",
      ", 'Test':  best_epoch_indx:66\n",
      " auc:0.9452806761284664 \n",
      " apur:0.9439193201021264 \n",
      " f1:0.8880092885792695 \n",
      " precision:0.883811324718983 \n",
      " recall:0.8922473220914201 \n",
      "}\n",
      "=====Epoch 67\n",
      "Training...\n"
     ]
    },
    {
     "name": "stderr",
     "output_type": "stream",
     "text": [
      "Iteration: 100%|██████████| 214/214 [00:10<00:00, 21.17it/s]\n",
      "Iteration: 100%|██████████| 60/60 [00:02<00:00, 22.67it/s]s]\n",
      "Iteration: 100%|██████████| 24/24 [00:01<00:00, 22.64it/s]s]\n",
      "Iteration:  54%|█████▍    | 116/214 [00:09<00:08, 10.97it/s]"
     ]
    },
    {
     "name": "stdout",
     "output_type": "stream",
     "text": [
      "{'Train':  best_epoch_indx:67\n",
      " auc:0.9931636056093812 \n",
      " apur:0.9937314913458419 \n",
      " f1:0.9605049332559489 \n",
      " precision:0.9463616869192281 \n",
      " recall:0.9750773309765798 \n",
      ", 'Validation':  best_epoch_indx:67\n",
      " auc:0.9445158578445053 \n",
      " apur:0.9438915787814207 \n",
      " f1:0.8881922675026123 \n",
      " precision:0.8753861997940268 \n",
      " recall:0.9013785790031813 \n",
      ", 'Test':  best_epoch_indx:67\n",
      " auc:0.9445938634295801 \n",
      " apur:0.9390653553699987 \n",
      " f1:0.889848138131891 \n",
      " precision:0.8730482702316563 \n",
      " recall:0.9073072436101389 \n",
      "}\n",
      "=====Epoch 68\n",
      "Training...\n"
     ]
    },
    {
     "name": "stderr",
     "output_type": "stream",
     "text": [
      "Iteration: 100%|██████████| 60/60 [00:02<00:00, 21.39it/s]]]\n",
      "Iteration: 100%|██████████| 24/24 [00:01<00:00, 22.66it/s]]]\n",
      "Iteration:  70%|███████   | 150/214 [00:12<00:05, 12.27it/s]"
     ]
    },
    {
     "name": "stdout",
     "output_type": "stream",
     "text": [
      "{'Train':  best_epoch_indx:67\n",
      " auc:0.9949836048158741 \n",
      " apur:0.9954663431084556 \n",
      " f1:0.9664030757132248 \n",
      " precision:0.955590115776741 \n",
      " recall:0.9774635439681838 \n",
      ", 'Validation':  best_epoch_indx:67\n",
      " auc:0.9466860605976041 \n",
      " apur:0.9444263958049769 \n",
      " f1:0.889874739039666 \n",
      " precision:0.8761562178828366 \n",
      " recall:0.9040296924708378 \n",
      ", 'Test':  best_epoch_indx:67\n",
      " auc:0.9465540052297172 \n",
      " apur:0.9432612647967163 \n",
      " f1:0.8897839619187111 \n",
      " precision:0.8778901734104047 \n",
      " recall:0.9020044543429844 \n",
      "}\n",
      "=====Epoch 68\n",
      "Training...\n"
     ]
    },
    {
     "name": "stderr",
     "output_type": "stream",
     "text": [
      "Iteration: 100%|██████████| 214/214 [00:10<00:00, 20.50it/s]\n",
      "Iteration: 100%|██████████| 60/60 [00:02<00:00, 20.77it/s]]]\n",
      "Iteration: 100%|██████████| 214/214 [00:17<00:00, 11.93it/s]\n",
      "Iteration:  46%|████▌     | 11/24 [00:00<00:00, 20.31it/s]]]"
     ]
    },
    {
     "name": "stdout",
     "output_type": "stream",
     "text": [
      "Evaluating...\n"
     ]
    },
    {
     "name": "stderr",
     "output_type": "stream",
     "text": [
      "Iteration: 100%|██████████| 24/24 [00:01<00:00, 19.40it/s]s]\n",
      "Iteration:  74%|███████▍  | 158/214 [00:12<00:04, 12.42it/s]"
     ]
    },
    {
     "name": "stdout",
     "output_type": "stream",
     "text": [
      "{'Train':  best_epoch_indx:68\n",
      " auc:0.9966321938067358 \n",
      " apur:0.9969301380034912 \n",
      " f1:0.973162125360547 \n",
      " precision:0.9673409983990685 \n",
      " recall:0.9790537355644591 \n",
      ", 'Validation':  best_epoch_indx:68\n",
      " auc:0.9481335495238143 \n",
      " apur:0.944377547410852 \n",
      " f1:0.8903803131991052 \n",
      " precision:0.8839822315129344 \n",
      " recall:0.8968716861081655 \n",
      ", 'Test':  best_epoch_indx:68\n",
      " auc:0.949833847909626 \n",
      " apur:0.9488073689184429 \n",
      " f1:0.8929943681246381 \n",
      " precision:0.8865085170864249 \n",
      " recall:0.8995758218451749 \n",
      "}\n",
      "=====Epoch 69\n",
      "Training...\n"
     ]
    },
    {
     "name": "stderr",
     "output_type": "stream",
     "text": [
      "Iteration: 100%|██████████| 214/214 [00:17<00:00, 12.27it/s]\n",
      "Iteration:  27%|██▋       | 58/214 [00:04<00:13, 11.94it/s]]"
     ]
    },
    {
     "name": "stdout",
     "output_type": "stream",
     "text": [
      "Evaluating...\n"
     ]
    },
    {
     "name": "stderr",
     "output_type": "stream",
     "text": [
      "Iteration: 100%|██████████| 214/214 [00:17<00:00, 11.90it/s]\n",
      "Iteration:  45%|████▍     | 96/214 [00:04<00:05, 22.31it/s]"
     ]
    },
    {
     "name": "stdout",
     "output_type": "stream",
     "text": [
      "Evaluating...\n"
     ]
    },
    {
     "name": "stderr",
     "output_type": "stream",
     "text": [
      "Iteration: 100%|██████████| 214/214 [00:10<00:00, 21.26it/s]\n",
      "Iteration: 100%|██████████| 214/214 [00:17<00:00, 11.90it/s]\n",
      "Iteration:   0%|          | 0/214 [00:00<?, ?it/s]"
     ]
    },
    {
     "name": "stdout",
     "output_type": "stream",
     "text": [
      "Evaluating...\n"
     ]
    },
    {
     "name": "stderr",
     "output_type": "stream",
     "text": [
      "Iteration: 100%|██████████| 60/60 [00:02<00:00, 22.37it/s]s]\n",
      "Iteration: 100%|██████████| 24/24 [00:01<00:00, 20.26it/s]s]\n",
      "Iteration:  98%|█████████▊| 210/214 [00:09<00:00, 22.34it/s]"
     ]
    },
    {
     "name": "stdout",
     "output_type": "stream",
     "text": [
      "{'Train':  best_epoch_indx:69\n",
      " auc:0.9976952215759243 \n",
      " apur:0.9979060986430818 \n",
      " f1:0.9773254203181733 \n",
      " precision:0.9676040884679794 \n",
      " recall:0.9872440712917956 \n",
      ", 'Validation':  best_epoch_indx:69\n",
      " auc:0.9488088937245986 \n",
      " apur:0.9437737492986177 \n",
      " f1:0.8946612713744942 \n",
      " precision:0.8812033941887375 \n",
      " recall:0.9085365853658537 \n",
      ", 'Test':  best_epoch_indx:69\n",
      " auc:0.947887043064853 \n",
      " apur:0.94515796703785 \n",
      " f1:0.8932719472637858 \n",
      " precision:0.8814661848218895 \n",
      " recall:0.9053982394739633 \n",
      "}\n",
      "=====Epoch 70\n",
      "Training...\n"
     ]
    },
    {
     "name": "stderr",
     "output_type": "stream",
     "text": [
      "Iteration: 100%|██████████| 214/214 [00:09<00:00, 22.27it/s]\n",
      "Iteration: 100%|██████████| 214/214 [00:17<00:00, 12.23it/s]\n",
      "Iteration:   1%|▏         | 3/214 [00:00<00:09, 21.54it/s]s]"
     ]
    },
    {
     "name": "stdout",
     "output_type": "stream",
     "text": [
      "Evaluating...\n"
     ]
    },
    {
     "name": "stderr",
     "output_type": "stream",
     "text": [
      "Iteration: 100%|██████████| 60/60 [00:03<00:00, 19.88it/s]]]\n",
      "Iteration: 100%|██████████| 214/214 [00:10<00:00, 21.36it/s]\n",
      "Iteration: 100%|██████████| 24/24 [00:01<00:00, 20.55it/s]]]\n",
      "Iteration:  81%|████████▏ | 174/214 [00:07<00:01, 22.22it/s]"
     ]
    },
    {
     "name": "stdout",
     "output_type": "stream",
     "text": [
      "{'Train':  best_epoch_indx:67\n",
      " auc:0.9953389112210032 \n",
      " apur:0.9957295319599511 \n",
      " f1:0.9689247437092264 \n",
      " precision:0.9580153770841132 \n",
      " recall:0.9800854323169833 \n",
      ", 'Validation':  best_epoch_indx:67\n",
      " auc:0.9464284015434807 \n",
      " apur:0.9446956353988656 \n",
      " f1:0.8910968754085501 \n",
      " precision:0.8790301779726593 \n",
      " recall:0.9034994697773064 \n",
      ", 'Test':  best_epoch_indx:67\n",
      " auc:0.9465853018352725 \n",
      " apur:0.9446086125953397 \n",
      " f1:0.8902413431269676 \n",
      " precision:0.8809054096147856 \n",
      " recall:0.8997772828507795 \n",
      "}\n",
      "=====Epoch 68\n",
      "Training...\n"
     ]
    },
    {
     "name": "stderr",
     "output_type": "stream",
     "text": [
      "Iteration: 100%|██████████| 214/214 [00:09<00:00, 22.05it/s]\n",
      "Iteration: 100%|██████████| 60/60 [00:03<00:00, 19.22it/s]]]\n",
      "Iteration: 100%|██████████| 24/24 [00:01<00:00, 19.87it/s]s]\n",
      "Iteration:  95%|█████████▌| 57/60 [00:02<00:00, 22.76it/s]s]"
     ]
    },
    {
     "name": "stdout",
     "output_type": "stream",
     "text": [
      "{'Train':  best_epoch_indx:68\n",
      " auc:0.9955257936190373 \n",
      " apur:0.9958978005010272 \n",
      " f1:0.9683983126304573 \n",
      " precision:0.9597268834625622 \n",
      " recall:0.9772278686109883 \n",
      ", 'Validation':  best_epoch_indx:68\n",
      " auc:0.9488170198947674 \n",
      " apur:0.9492703839582934 \n",
      " f1:0.8885387948011028 \n",
      " precision:0.8801040312093628 \n",
      " recall:0.897136797454931 \n",
      ", 'Test':  best_epoch_indx:68\n",
      " auc:0.9480948016934421 \n",
      " apur:0.9430283200868933 \n",
      " f1:0.8951511335012594 \n",
      " precision:0.8859457775007791 \n",
      " recall:0.9045497931912185 \n",
      "}\n",
      "=====Epoch 69\n",
      "Training...\n"
     ]
    },
    {
     "name": "stderr",
     "output_type": "stream",
     "text": [
      "Iteration: 100%|██████████| 60/60 [00:02<00:00, 22.71it/s]]]\n",
      "Iteration: 100%|██████████| 24/24 [00:01<00:00, 21.72it/s]]]\n",
      "Iteration:   0%|          | 0/214 [00:00<?, ?it/s]11.51it/s]"
     ]
    },
    {
     "name": "stdout",
     "output_type": "stream",
     "text": [
      "{'Train':  best_epoch_indx:68\n",
      " auc:0.9962908854069004 \n",
      " apur:0.9966519235573068 \n",
      " f1:0.9711050313821304 \n",
      " precision:0.9645991978143347 \n",
      " recall:0.9776992193253793 \n",
      ", 'Validation':  best_epoch_indx:68\n",
      " auc:0.9464616990212443 \n",
      " apur:0.9445024903015019 \n",
      " f1:0.8901703800786369 \n",
      " precision:0.880248833592535 \n",
      " recall:0.9003181336161188 \n",
      ", 'Test':  best_epoch_indx:68\n",
      " auc:0.9478797976922464 \n",
      " apur:0.9451663676568756 \n",
      " f1:0.8916561580496007 \n",
      " precision:0.8835780485265021 \n",
      " recall:0.8998833386361226 \n",
      "}\n",
      "=====Epoch 69\n",
      "Training...\n"
     ]
    },
    {
     "name": "stderr",
     "output_type": "stream",
     "text": [
      "Iteration: 100%|██████████| 214/214 [00:10<00:00, 21.17it/s]\n",
      "Iteration: 100%|██████████| 60/60 [00:02<00:00, 22.74it/s]]]\n",
      "Iteration: 100%|██████████| 214/214 [00:17<00:00, 12.23it/s]\n",
      "Iteration:  67%|██████▋   | 144/214 [00:12<00:05, 12.30it/s]"
     ]
    },
    {
     "name": "stdout",
     "output_type": "stream",
     "text": [
      "Evaluating...\n"
     ]
    },
    {
     "name": "stderr",
     "output_type": "stream",
     "text": [
      "Iteration: 100%|██████████| 214/214 [00:17<00:00, 11.99it/s]\n",
      "Iteration:  60%|█████▉    | 128/214 [00:05<00:03, 22.22it/s]"
     ]
    },
    {
     "name": "stdout",
     "output_type": "stream",
     "text": [
      "Evaluating...\n"
     ]
    },
    {
     "name": "stderr",
     "output_type": "stream",
     "text": [
      "Iteration: 100%|██████████| 214/214 [00:09<00:00, 21.97it/s]\n",
      "Iteration: 100%|██████████| 214/214 [00:17<00:00, 12.30it/s]\n",
      "Iteration:   0%|          | 0/60 [00:00<?, ?it/s]7.46it/s]]"
     ]
    },
    {
     "name": "stdout",
     "output_type": "stream",
     "text": [
      "Evaluating...\n"
     ]
    },
    {
     "name": "stderr",
     "output_type": "stream",
     "text": [
      "Iteration: 100%|██████████| 214/214 [00:17<00:00, 12.41it/s]\n",
      "Iteration:  55%|█████▌    | 33/60 [00:01<00:01, 22.32it/s]s]"
     ]
    },
    {
     "name": "stdout",
     "output_type": "stream",
     "text": [
      "Evaluating...\n"
     ]
    },
    {
     "name": "stderr",
     "output_type": "stream",
     "text": [
      "Iteration: 100%|██████████| 60/60 [00:02<00:00, 22.26it/s]]]\n",
      "Iteration: 100%|██████████| 24/24 [00:01<00:00, 22.26it/s]s]\n",
      "Iteration:  28%|██▊       | 60/214 [00:02<00:06, 22.22it/s]]"
     ]
    },
    {
     "name": "stdout",
     "output_type": "stream",
     "text": [
      "{'Train':  best_epoch_indx:70\n",
      " auc:0.9976089709145375 \n",
      " apur:0.9978357996632956 \n",
      " f1:0.9770920991117346 \n",
      " precision:0.9691910848332029 \n",
      " recall:0.9851229930770364 \n",
      ", 'Validation':  best_epoch_indx:70\n",
      " auc:0.9468540543008925 \n",
      " apur:0.9416604762231292 \n",
      " f1:0.890407358738502 \n",
      " precision:0.8827514330380406 \n",
      " recall:0.8981972428419936 \n",
      ", 'Test':  best_epoch_indx:70\n",
      " auc:0.9470303561752678 \n",
      " apur:0.9438538800739367 \n",
      " f1:0.8918392076286813 \n",
      " precision:0.8860971524288107 \n",
      " recall:0.8976561671439177 \n",
      "}\n",
      "=====Epoch 71\n",
      "Training...\n"
     ]
    },
    {
     "name": "stderr",
     "output_type": "stream",
     "text": [
      "Iteration: 100%|██████████| 214/214 [00:09<00:00, 21.72it/s]\n",
      "Iteration: 100%|██████████| 24/24 [00:01<00:00, 19.94it/s]s]\n",
      "Iteration:  87%|████████▋ | 187/214 [00:08<00:01, 22.17it/s]"
     ]
    },
    {
     "name": "stdout",
     "output_type": "stream",
     "text": [
      "{'Train':  best_epoch_indx:69\n",
      " auc:0.9971703792730827 \n",
      " apur:0.9974196639755075 \n",
      " f1:0.9755576371406826 \n",
      " precision:0.9693717277486911 \n",
      " recall:0.9818230025925053 \n",
      ", 'Validation':  best_epoch_indx:69\n",
      " auc:0.9486139052804092 \n",
      " apur:0.9442014536645676 \n",
      " f1:0.8915917503966155 \n",
      " precision:0.8892405063291139 \n",
      " recall:0.8939554612937434 \n",
      ", 'Test':  best_epoch_indx:69\n",
      " auc:0.9512142410495504 \n",
      " apur:0.9501330013071125 \n",
      " f1:0.8936349733691926 \n",
      " precision:0.8888073009545788 \n",
      " recall:0.8985153764581124 \n",
      "}\n",
      "=====Epoch 70\n",
      "Training...\n"
     ]
    },
    {
     "name": "stderr",
     "output_type": "stream",
     "text": [
      "Iteration: 100%|██████████| 60/60 [00:02<00:00, 22.16it/s]s]\n",
      "Iteration: 100%|██████████| 24/24 [00:01<00:00, 21.55it/s]]]\n",
      "Iteration: 100%|██████████| 214/214 [00:10<00:00, 20.76it/s]\n",
      "Iteration:  10%|█         | 22/214 [00:01<00:15, 12.24it/s]]"
     ]
    },
    {
     "name": "stdout",
     "output_type": "stream",
     "text": [
      "{'Train':  best_epoch_indx:68\n",
      " auc:0.9965131002154853 \n",
      " apur:0.9968223697073404 \n",
      " f1:0.972712399205329 \n",
      " precision:0.9647358813132045 \n",
      " recall:0.9808219178082191 \n",
      ", 'Validation':  best_epoch_indx:68\n",
      " auc:0.948124115238448 \n",
      " apur:0.9462038597902167 \n",
      " f1:0.8920484465508163 \n",
      " precision:0.8859832635983264 \n",
      " recall:0.8981972428419936 \n",
      ", 'Test':  best_epoch_indx:68\n",
      " auc:0.9484227436885391 \n",
      " apur:0.9464075096564762 \n",
      " f1:0.8936863115873517 \n",
      " precision:0.8853158497242168 \n",
      " recall:0.9022165659136706 \n",
      "}\n",
      "=====Epoch 69\n",
      "Training...\n"
     ]
    },
    {
     "name": "stderr",
     "output_type": "stream",
     "text": [
      "Iteration: 100%|██████████| 214/214 [00:10<00:00, 20.77it/s]\n",
      "Iteration: 100%|██████████| 60/60 [00:02<00:00, 22.91it/s]]]\n",
      "Iteration: 100%|██████████| 60/60 [00:02<00:00, 21.10it/s]]]\n",
      "Iteration: 100%|██████████| 214/214 [00:17<00:00, 12.26it/s]\n",
      "Iteration:   1%|▏         | 3/214 [00:00<00:10, 21.04it/s]s]"
     ]
    },
    {
     "name": "stdout",
     "output_type": "stream",
     "text": [
      "Evaluating...\n"
     ]
    },
    {
     "name": "stderr",
     "output_type": "stream",
     "text": [
      "Iteration: 100%|██████████| 214/214 [00:17<00:00, 12.05it/s]\n",
      "Iteration:   0%|          | 0/214 [00:00<?, ?it/s]"
     ]
    },
    {
     "name": "stdout",
     "output_type": "stream",
     "text": [
      "Evaluating...\n"
     ]
    },
    {
     "name": "stderr",
     "output_type": "stream",
     "text": [
      "Iteration: 100%|██████████| 214/214 [00:17<00:00, 12.28it/s]\n",
      "Iteration:  15%|█▌        | 33/214 [00:01<00:08, 21.81it/s]]"
     ]
    },
    {
     "name": "stdout",
     "output_type": "stream",
     "text": [
      "Evaluating...\n"
     ]
    },
    {
     "name": "stderr",
     "output_type": "stream",
     "text": [
      "Iteration: 100%|██████████| 214/214 [00:09<00:00, 21.72it/s]\n",
      "Iteration: 100%|██████████| 24/24 [00:01<00:00, 21.54it/s]]]\n",
      "Iteration:  62%|██████▏   | 132/214 [00:06<00:03, 22.01it/s]"
     ]
    },
    {
     "name": "stdout",
     "output_type": "stream",
     "text": [
      "{'Train':  best_epoch_indx:69\n",
      " auc:0.9962763343487699 \n",
      " apur:0.9965925382744218 \n",
      " f1:0.9715186179526089 \n",
      " precision:0.9624468792460467 \n",
      " recall:0.9807629989689203 \n",
      ", 'Validation':  best_epoch_indx:69\n",
      " auc:0.950349179550148 \n",
      " apur:0.9502729012302613 \n",
      " f1:0.8939512961508248 \n",
      " precision:0.8830832902224521 \n",
      " recall:0.9050901378579003 \n",
      ", 'Test':  best_epoch_indx:69\n",
      " auc:0.9494392554071959 \n",
      " apur:0.9441801016142237 \n",
      " f1:0.8958792072978924 \n",
      " precision:0.8858475894245723 \n",
      " recall:0.9061406299713649 \n",
      "}\n",
      "=====Epoch 70\n",
      "Training...\n"
     ]
    },
    {
     "name": "stderr",
     "output_type": "stream",
     "text": [
      "Iteration: 100%|██████████| 24/24 [00:01<00:00, 21.60it/s]]]\n",
      "Iteration:  84%|████████▍ | 180/214 [00:08<00:01, 21.16it/s]"
     ]
    },
    {
     "name": "stdout",
     "output_type": "stream",
     "text": [
      "{'Train':  best_epoch_indx:69\n",
      " auc:0.9972918527397481 \n",
      " apur:0.9975611722144364 \n",
      " f1:0.974717872452104 \n",
      " precision:0.9649259547934529 \n",
      " recall:0.9847105612019443 \n",
      ", 'Validation':  best_epoch_indx:69\n",
      " auc:0.9492497285462764 \n",
      " apur:0.9476404083605429 \n",
      " f1:0.8916481505685532 \n",
      " precision:0.8793503480278422 \n",
      " recall:0.9042948038176034 \n",
      ", 'Test':  best_epoch_indx:69\n",
      " auc:0.9493529455345187 \n",
      " apur:0.9460828929354583 \n",
      " f1:0.8936816206878502 \n",
      " precision:0.8823651023361587 \n",
      " recall:0.9052921836886202 \n",
      "}\n",
      "=====Epoch 70\n",
      "Training...\n"
     ]
    },
    {
     "name": "stderr",
     "output_type": "stream",
     "text": [
      "Iteration: 100%|██████████| 60/60 [00:03<00:00, 19.23it/s]s]\n",
      "Iteration: 100%|██████████| 214/214 [00:09<00:00, 21.71it/s]\n",
      "Iteration: 100%|██████████| 24/24 [00:01<00:00, 20.79it/s]s]\n",
      "Iteration:  93%|█████████▎| 198/214 [00:09<00:00, 22.20it/s]"
     ]
    },
    {
     "name": "stdout",
     "output_type": "stream",
     "text": [
      "{'Train':  best_epoch_indx:71\n",
      " auc:0.9966803746695879 \n",
      " apur:0.9969793330469426 \n",
      " f1:0.9731723967638387 \n",
      " precision:0.9598303822130537 \n",
      " recall:0.9868905582560024 \n",
      ", 'Validation':  best_epoch_indx:71\n",
      " auc:0.9444408988796827 \n",
      " apur:0.9394547436954643 \n",
      " f1:0.8888888888888888 \n",
      " precision:0.8708036622583927 \n",
      " recall:0.9077412513255567 \n",
      ", 'Test':  best_epoch_indx:71\n",
      " auc:0.9447988899249175 \n",
      " apur:0.9419690894552765 \n",
      " f1:0.8925508135364142 \n",
      " precision:0.8753058727569332 \n",
      " recall:0.9104889171704317 \n",
      "}\n",
      "=====Epoch 72\n",
      "Training...\n"
     ]
    },
    {
     "name": "stderr",
     "output_type": "stream",
     "text": [
      "Iteration: 100%|██████████| 214/214 [00:10<00:00, 20.84it/s]\n",
      "Iteration: 100%|██████████| 60/60 [00:02<00:00, 22.45it/s]]\n",
      "Iteration: 100%|██████████| 24/24 [00:01<00:00, 22.56it/s]]]\n",
      "Iteration:  24%|██▍       | 52/214 [00:04<00:13, 12.21it/s]]"
     ]
    },
    {
     "name": "stdout",
     "output_type": "stream",
     "text": [
      "{'Train':  best_epoch_indx:70\n",
      " auc:0.9970016078983447 \n",
      " apur:0.9972490741426168 \n",
      " f1:0.975105435801312 \n",
      " precision:0.9694269741439553 \n",
      " recall:0.9808508131039358 \n",
      ", 'Validation':  best_epoch_indx:70\n",
      " auc:0.947539387745006 \n",
      " apur:0.9437306262450939 \n",
      " f1:0.8910551969437492 \n",
      " precision:0.8855721393034826 \n",
      " recall:0.8966065747613998 \n",
      ", 'Test':  best_epoch_indx:70\n",
      " auc:0.9497254120088493 \n",
      " apur:0.9487641415713067 \n",
      " f1:0.8926333526407246 \n",
      " precision:0.886518146637381 \n",
      " recall:0.8988335100742312 \n",
      "}\n",
      "=====Epoch 71\n",
      "Training...\n"
     ]
    },
    {
     "name": "stderr",
     "output_type": "stream",
     "text": [
      "Iteration: 100%|██████████| 60/60 [00:03<00:00, 19.97it/s]]]\n",
      "Iteration: 100%|██████████| 214/214 [00:17<00:00, 12.36it/s]\n",
      "Iteration:  74%|███████▍  | 158/214 [00:12<00:04, 11.97it/s]"
     ]
    },
    {
     "name": "stdout",
     "output_type": "stream",
     "text": [
      "Evaluating...\n"
     ]
    },
    {
     "name": "stderr",
     "output_type": "stream",
     "text": [
      "Iteration: 100%|██████████| 214/214 [00:17<00:00, 12.24it/s]\n",
      "Iteration:   1%|▏         | 3/214 [00:00<00:09, 21.59it/s]s]"
     ]
    },
    {
     "name": "stdout",
     "output_type": "stream",
     "text": [
      "Evaluating...\n"
     ]
    },
    {
     "name": "stderr",
     "output_type": "stream",
     "text": [
      "Iteration: 100%|██████████| 214/214 [00:17<00:00, 12.25it/s]\n",
      "Iteration:  50%|█████     | 108/214 [00:04<00:04, 22.00it/s]"
     ]
    },
    {
     "name": "stdout",
     "output_type": "stream",
     "text": [
      "Evaluating...\n"
     ]
    },
    {
     "name": "stderr",
     "output_type": "stream",
     "text": [
      "Iteration: 100%|██████████| 214/214 [00:17<00:00, 12.29it/s]\n",
      "Iteration:   0%|          | 0/214 [00:00<?, ?it/s]"
     ]
    },
    {
     "name": "stdout",
     "output_type": "stream",
     "text": [
      "Evaluating...\n"
     ]
    },
    {
     "name": "stderr",
     "output_type": "stream",
     "text": [
      "Iteration: 100%|██████████| 214/214 [00:09<00:00, 22.07it/s]\n",
      "Iteration: 100%|██████████| 24/24 [00:01<00:00, 21.46it/s]]]\n",
      "Iteration:   0%|          | 0/214 [00:00<?, ?it/s]22.14it/s]"
     ]
    },
    {
     "name": "stdout",
     "output_type": "stream",
     "text": [
      "{'Train':  best_epoch_indx:69\n",
      " auc:0.997695738700919 \n",
      " apur:0.9979061580679395 \n",
      " f1:0.97777388614042 \n",
      " precision:0.9688241078142171 \n",
      " recall:0.9868905582560024 \n",
      ", 'Validation':  best_epoch_indx:69\n",
      " auc:0.9492645142119979 \n",
      " apur:0.947972719697767 \n",
      " f1:0.8958799526128736 \n",
      " precision:0.8896732026143791 \n",
      " recall:0.9021739130434783 \n",
      ", 'Test':  best_epoch_indx:69\n",
      " auc:0.9500946446395397 \n",
      " apur:0.9484024456930085 \n",
      " f1:0.8952920799874036 \n",
      " precision:0.8862219451371571 \n",
      " recall:0.9045497931912185 \n",
      "}\n",
      "=====Epoch 70\n",
      "Training...\n"
     ]
    },
    {
     "name": "stderr",
     "output_type": "stream",
     "text": [
      "Iteration: 100%|██████████| 214/214 [00:09<00:00, 22.17it/s]\n",
      "Iteration: 100%|██████████| 60/60 [00:02<00:00, 22.63it/s]]]\n",
      "Iteration: 100%|██████████| 24/24 [00:01<00:00, 20.51it/s]]]\n",
      "Iteration:  57%|█████▋    | 122/214 [00:05<00:04, 21.95it/s]"
     ]
    },
    {
     "name": "stdout",
     "output_type": "stream",
     "text": [
      "{'Train':  best_epoch_indx:70\n",
      " auc:0.9957303356146812 \n",
      " apur:0.9960813091414235 \n",
      " f1:0.9694509345794392 \n",
      " precision:0.9611698277110178 \n",
      " recall:0.9778759758432759 \n",
      ", 'Validation':  best_epoch_indx:70\n",
      " auc:0.9483529957582185 \n",
      " apur:0.9482311842445755 \n",
      " f1:0.8912418300653594 \n",
      " precision:0.8790613718411552 \n",
      " recall:0.9037645811240721 \n",
      ", 'Test':  best_epoch_indx:70\n",
      " auc:0.9472602340027027 \n",
      " apur:0.9415519050509963 \n",
      " f1:0.893331234587334 \n",
      " precision:0.8840083073727933 \n",
      " recall:0.9028529006257291 \n",
      "}\n",
      "=====Epoch 71\n",
      "Training...\n"
     ]
    },
    {
     "name": "stderr",
     "output_type": "stream",
     "text": [
      "Iteration: 100%|██████████| 214/214 [00:09<00:00, 21.61it/s]\n",
      "Iteration: 100%|██████████| 60/60 [00:02<00:00, 22.06it/s]s]\n",
      "Iteration: 100%|██████████| 24/24 [00:01<00:00, 20.64it/s]]]\n",
      "Iteration:   1%|          | 2/214 [00:00<00:18, 11.60it/s]s]"
     ]
    },
    {
     "name": "stdout",
     "output_type": "stream",
     "text": [
      "{'Train':  best_epoch_indx:70\n",
      " auc:0.9972833273830083 \n",
      " apur:0.9975621346947855 \n",
      " f1:0.9743089336168478 \n",
      " precision:0.9634761068064637 \n",
      " recall:0.9853881278538813 \n",
      ", 'Validation':  best_epoch_indx:70\n",
      " auc:0.948609267417435 \n",
      " apur:0.9462154877608973 \n",
      " f1:0.8945595854922279 \n",
      " precision:0.8746200607902735 \n",
      " recall:0.9154294803817603 \n",
      ", 'Test':  best_epoch_indx:70\n",
      " auc:0.9482448211539174 \n",
      " apur:0.9443757137416142 \n",
      " f1:0.8934041888090029 \n",
      " precision:0.8780337941628265 \n",
      " recall:0.9093223035316577 \n",
      "}\n",
      "=====Epoch 71\n",
      "Training...\n"
     ]
    },
    {
     "name": "stderr",
     "output_type": "stream",
     "text": [
      "Iteration: 100%|██████████| 60/60 [00:02<00:00, 22.38it/s]]]\n",
      "Iteration: 100%|██████████| 214/214 [00:10<00:00, 21.09it/s]\n",
      "Iteration: 100%|██████████| 24/24 [00:01<00:00, 16.99it/s]]]\n",
      "Iteration:  31%|███       | 66/214 [00:05<00:11, 12.67it/s]]"
     ]
    },
    {
     "name": "stdout",
     "output_type": "stream",
     "text": [
      "{'Train':  best_epoch_indx:72\n",
      " auc:0.9947210839265289 \n",
      " apur:0.9952021808508001 \n",
      " f1:0.9659183912077635 \n",
      " precision:0.9584384697932075 \n",
      " recall:0.9735159817351599 \n",
      ", 'Validation':  best_epoch_indx:72\n",
      " auc:0.9390246280830293 \n",
      " apur:0.9342464362990894 \n",
      " f1:0.8809336480461578 \n",
      " precision:0.8715620134924753 \n",
      " recall:0.8905090137857901 \n",
      ", 'Test':  best_epoch_indx:72\n",
      " auc:0.9394251705383755 \n",
      " apur:0.9356456347557649 \n",
      " f1:0.8833918557727582 \n",
      " precision:0.8731869042685454 \n",
      " recall:0.8938381588715665 \n",
      "}\n",
      "=====Epoch 73\n",
      "Training...\n"
     ]
    },
    {
     "name": "stderr",
     "output_type": "stream",
     "text": [
      "Iteration: 100%|██████████| 60/60 [00:03<00:00, 18.92it/s]]]\n",
      "Iteration: 100%|██████████| 24/24 [00:01<00:00, 21.00it/s]]]\n",
      "Iteration:  57%|█████▋    | 122/214 [00:09<00:07, 12.24it/s]"
     ]
    },
    {
     "name": "stdout",
     "output_type": "stream",
     "text": [
      "{'Train':  best_epoch_indx:71\n",
      " auc:0.9963409006251199 \n",
      " apur:0.9966558135745476 \n",
      " f1:0.9720255164745127 \n",
      " precision:0.9655272642715963 \n",
      " recall:0.978611831251473 \n",
      ", 'Validation':  best_epoch_indx:71\n",
      " auc:0.945664422628078 \n",
      " apur:0.9421668790429472 \n",
      " f1:0.8899736147757257 \n",
      " precision:0.885766806722689 \n",
      " recall:0.894220572640509 \n",
      ", 'Test':  best_epoch_indx:71\n",
      " auc:0.9459899775922395 \n",
      " apur:0.9450752868245329 \n",
      " f1:0.8880569470076456 \n",
      " precision:0.8831672784478238 \n",
      " recall:0.8930010604453871 \n",
      "}\n",
      "=====Epoch 72\n",
      "Training...\n"
     ]
    },
    {
     "name": "stderr",
     "output_type": "stream",
     "text": [
      "Iteration: 100%|██████████| 214/214 [00:17<00:00, 12.41it/s]\n",
      "Iteration:  21%|██        | 44/214 [00:03<00:13, 12.48it/s]]"
     ]
    },
    {
     "name": "stdout",
     "output_type": "stream",
     "text": [
      "Evaluating...\n"
     ]
    },
    {
     "name": "stderr",
     "output_type": "stream",
     "text": [
      "Iteration: 100%|██████████| 214/214 [00:17<00:00, 12.35it/s]\n",
      "Iteration:  43%|████▎     | 92/214 [00:07<00:09, 12.24it/s]]"
     ]
    },
    {
     "name": "stdout",
     "output_type": "stream",
     "text": [
      "Evaluating...\n"
     ]
    },
    {
     "name": "stderr",
     "output_type": "stream",
     "text": [
      "Iteration: 100%|██████████| 214/214 [00:17<00:00, 12.28it/s]\n",
      "Iteration:  27%|██▋       | 57/214 [00:02<00:07, 22.28it/s]]"
     ]
    },
    {
     "name": "stdout",
     "output_type": "stream",
     "text": [
      "Evaluating...\n"
     ]
    },
    {
     "name": "stderr",
     "output_type": "stream",
     "text": [
      "Iteration: 100%|██████████| 214/214 [00:17<00:00, 12.22it/s]\n",
      "Iteration:  75%|███████▍  | 160/214 [00:13<00:04, 12.33it/s]"
     ]
    },
    {
     "name": "stdout",
     "output_type": "stream",
     "text": [
      "Evaluating...\n"
     ]
    },
    {
     "name": "stderr",
     "output_type": "stream",
     "text": [
      "Iteration: 100%|██████████| 214/214 [00:09<00:00, 22.11it/s]\n",
      "Iteration: 100%|██████████| 60/60 [00:02<00:00, 22.67it/s]s]\n",
      "Iteration: 100%|██████████| 214/214 [00:17<00:00, 12.30it/s]\n",
      "Iteration: 100%|██████████| 214/214 [00:10<00:00, 21.23it/s]\n",
      "Iteration:   1%|▏         | 3/214 [00:00<00:09, 21.23it/s]"
     ]
    },
    {
     "name": "stdout",
     "output_type": "stream",
     "text": [
      "Evaluating...\n"
     ]
    },
    {
     "name": "stderr",
     "output_type": "stream",
     "text": [
      "Iteration: 100%|██████████| 24/24 [00:01<00:00, 20.83it/s]s]\n",
      "Iteration:   0%|          | 0/214 [00:00<?, ?it/s]22.24it/s]"
     ]
    },
    {
     "name": "stdout",
     "output_type": "stream",
     "text": [
      "{'Train':  best_epoch_indx:70\n",
      " auc:0.997328317263638 \n",
      " apur:0.997591434660497 \n",
      " f1:0.9743239908849441 \n",
      " precision:0.9602883955138476 \n",
      " recall:0.988775961113566 \n",
      ", 'Validation':  best_epoch_indx:70\n",
      " auc:0.9471135367883219 \n",
      " apur:0.9449074210060602 \n",
      " f1:0.8961224225132928 \n",
      " precision:0.8771261741558771 \n",
      " recall:0.9159597030752916 \n",
      ", 'Test':  best_epoch_indx:70\n",
      " auc:0.9481781683912149 \n",
      " apur:0.9463857496808167 \n",
      " f1:0.8955100351748396 \n",
      " precision:0.8740785620519035 \n",
      " recall:0.9180188779297911 \n",
      "}\n",
      "=====Epoch 71\n",
      "Training...\n"
     ]
    },
    {
     "name": "stderr",
     "output_type": "stream",
     "text": [
      "Iteration: 100%|██████████| 214/214 [00:09<00:00, 22.09it/s]\n",
      "Iteration: 100%|██████████| 60/60 [00:03<00:00, 19.64it/s]s]\n",
      "Iteration: 100%|██████████| 24/24 [00:01<00:00, 22.39it/s]s]\n",
      "Iteration: 100%|█████████▉| 213/214 [00:09<00:00, 22.14it/s]"
     ]
    },
    {
     "name": "stdout",
     "output_type": "stream",
     "text": [
      "{'Train':  best_epoch_indx:71\n",
      " auc:0.9955248626724005 \n",
      " apur:0.9959082555766848 \n",
      " f1:0.9687823513115494 \n",
      " precision:0.9590911715457012 \n",
      " recall:0.9786713801738106 \n",
      ", 'Validation':  best_epoch_indx:71\n",
      " auc:0.9466489973336648 \n",
      " apur:0.9450979653700301 \n",
      " f1:0.8878406708595388 \n",
      " precision:0.877720207253886 \n",
      " recall:0.8981972428419936 \n",
      ", 'Test':  best_epoch_indx:71\n",
      " auc:0.9469716760010981 \n",
      " apur:0.9408810040022878 \n",
      " f1:0.891218872870249 \n",
      " precision:0.8811942774206926 \n",
      " recall:0.901474175416269 \n",
      "}\n",
      "=====Epoch 72\n",
      "Training...\n"
     ]
    },
    {
     "name": "stderr",
     "output_type": "stream",
     "text": [
      "Iteration: 100%|██████████| 214/214 [00:09<00:00, 21.90it/s]\n",
      "Iteration: 100%|██████████| 60/60 [00:03<00:00, 17.96it/s]]]\n",
      "Iteration: 100%|██████████| 24/24 [00:01<00:00, 19.90it/s]s]\n",
      "Iteration:   0%|          | 0/214 [00:00<?, ?it/s]2.23it/s]]"
     ]
    },
    {
     "name": "stdout",
     "output_type": "stream",
     "text": [
      "{'Train':  best_epoch_indx:71\n",
      " auc:0.9966426031155309 \n",
      " apur:0.9969745170955556 \n",
      " f1:0.9716501583059808 \n",
      " precision:0.9582342662350684 \n",
      " recall:0.9854470466931802 \n",
      ", 'Validation':  best_epoch_indx:71\n",
      " auc:0.9477377852166811 \n",
      " apur:0.9463124860925554 \n",
      " f1:0.8910305833975842 \n",
      " precision:0.8645885286783043 \n",
      " recall:0.9191410392364793 \n",
      ", 'Test':  best_epoch_indx:71\n",
      " auc:0.9453391527005406 \n",
      " apur:0.9424237935518591 \n",
      " f1:0.8887274990921825 \n",
      " precision:0.869821283509342 \n",
      " recall:0.9084738572489129 \n",
      "}\n",
      "=====Epoch 72\n",
      "Training...\n"
     ]
    },
    {
     "name": "stderr",
     "output_type": "stream",
     "text": [
      "Iteration: 100%|██████████| 60/60 [00:02<00:00, 22.44it/s]s]\n",
      "Iteration: 100%|██████████| 214/214 [00:09<00:00, 22.15it/s]\n",
      "Iteration: 100%|██████████| 24/24 [00:01<00:00, 20.16it/s]s]\n",
      "Iteration:  13%|█▎        | 28/214 [00:02<00:15, 11.81it/s]"
     ]
    },
    {
     "name": "stdout",
     "output_type": "stream",
     "text": [
      "{'Train':  best_epoch_indx:73\n",
      " auc:0.9925277794765439 \n",
      " apur:0.9932242515452976 \n",
      " f1:0.9587533310161048 \n",
      " precision:0.9429393499131128 \n",
      " recall:0.9751067903962292 \n",
      ", 'Validation':  best_epoch_indx:73\n",
      " auc:0.9396118132474491 \n",
      " apur:0.93578130349366 \n",
      " f1:0.8819859630881206 \n",
      " precision:0.86511983681795 \n",
      " recall:0.8995227995758218 \n",
      ", 'Test':  best_epoch_indx:73\n",
      " auc:0.9384130857233345 \n",
      " apur:0.9357866820866431 \n",
      " f1:0.8838101160862355 \n",
      " precision:0.8641937772372555 \n",
      " recall:0.9043376816205324 \n",
      "}\n",
      "=====Epoch 74\n",
      "Training...\n"
     ]
    },
    {
     "name": "stderr",
     "output_type": "stream",
     "text": [
      "Iteration: 100%|██████████| 60/60 [00:02<00:00, 21.99it/s]]]\n",
      "Iteration: 100%|██████████| 24/24 [00:01<00:00, 22.19it/s]s]\n",
      "Iteration:  53%|█████▎    | 114/214 [00:09<00:08, 12.21it/s]"
     ]
    },
    {
     "name": "stdout",
     "output_type": "stream",
     "text": [
      "{'Train':  best_epoch_indx:72\n",
      " auc:0.9954372328579894 \n",
      " apur:0.9958442233158793 \n",
      " f1:0.9681255112773167 \n",
      " precision:0.9601587853500232 \n",
      " recall:0.9762255479613481 \n",
      ", 'Validation':  best_epoch_indx:72\n",
      " auc:0.9436873056061534 \n",
      " apur:0.9385908112740954 \n",
      " f1:0.8891509433962264 \n",
      " precision:0.8790155440414508 \n",
      " recall:0.8995227995758218 \n",
      ", 'Test':  best_epoch_indx:72\n",
      " auc:0.9439227751166915 \n",
      " apur:0.9422959386902019 \n",
      " f1:0.8872841444270015 \n",
      " precision:0.8758264462809917 \n",
      " recall:0.8990455991516437 \n",
      "}\n",
      "=====Epoch 73\n",
      "Training...\n"
     ]
    },
    {
     "name": "stderr",
     "output_type": "stream",
     "text": [
      "Iteration: 100%|██████████| 214/214 [00:17<00:00, 12.23it/s]\n",
      "Iteration:  59%|█████▉    | 126/214 [00:10<00:07, 12.37it/s]"
     ]
    },
    {
     "name": "stdout",
     "output_type": "stream",
     "text": [
      "Evaluating...\n"
     ]
    },
    {
     "name": "stderr",
     "output_type": "stream",
     "text": [
      "Iteration: 100%|██████████| 214/214 [00:17<00:00, 12.28it/s]\n",
      "Iteration:   1%|▏         | 3/214 [00:00<00:09, 21.97it/s]s]"
     ]
    },
    {
     "name": "stdout",
     "output_type": "stream",
     "text": [
      "Evaluating...\n"
     ]
    },
    {
     "name": "stderr",
     "output_type": "stream",
     "text": [
      "Iteration: 100%|██████████| 214/214 [00:17<00:00, 12.24it/s]\n",
      "Iteration:  29%|██▉       | 63/214 [00:02<00:06, 22.48it/s]]"
     ]
    },
    {
     "name": "stdout",
     "output_type": "stream",
     "text": [
      "Evaluating...\n"
     ]
    },
    {
     "name": "stderr",
     "output_type": "stream",
     "text": [
      "Iteration: 100%|██████████| 214/214 [00:09<00:00, 22.43it/s]\n",
      "Iteration: 100%|██████████| 214/214 [00:17<00:00, 12.06it/s]\n",
      "Iteration:  56%|█████▌    | 119/214 [00:05<00:04, 21.94it/s]"
     ]
    },
    {
     "name": "stdout",
     "output_type": "stream",
     "text": [
      "Evaluating...\n"
     ]
    },
    {
     "name": "stderr",
     "output_type": "stream",
     "text": [
      "Iteration: 100%|██████████| 60/60 [00:03<00:00, 19.79it/s]]]\n",
      "Iteration: 100%|██████████| 214/214 [00:17<00:00, 12.11it/s]\n",
      "Iteration:  75%|███████▌  | 18/24 [00:00<00:00, 22.30it/s]]]"
     ]
    },
    {
     "name": "stdout",
     "output_type": "stream",
     "text": [
      "Evaluating...\n"
     ]
    },
    {
     "name": "stderr",
     "output_type": "stream",
     "text": [
      "Iteration: 100%|██████████| 214/214 [00:09<00:00, 21.98it/s]\n",
      "Iteration: 100%|██████████| 24/24 [00:01<00:00, 22.43it/s]s]\n",
      "Iteration:  76%|███████▌  | 162/214 [00:07<00:02, 21.73it/s]"
     ]
    },
    {
     "name": "stdout",
     "output_type": "stream",
     "text": [
      "{'Train':  best_epoch_indx:71\n",
      " auc:0.9969891174100207 \n",
      " apur:0.9972786694539323 \n",
      " f1:0.974436134159168 \n",
      " precision:0.9664454811509374 \n",
      " recall:0.9825600235675357 \n",
      ", 'Validation':  best_epoch_indx:71\n",
      " auc:0.9455440363900207 \n",
      " apur:0.9443606679887271 \n",
      " f1:0.8853838065194533 \n",
      " precision:0.8779979144942649 \n",
      " recall:0.8928950159066809 \n",
      ", 'Test':  best_epoch_indx:71\n",
      " auc:0.9473189198954056 \n",
      " apur:0.9452306024234232 \n",
      " f1:0.8923867988876646 \n",
      " precision:0.883073727933541 \n",
      " recall:0.9018983985576413 \n",
      "}\n",
      "=====Epoch 72\n",
      "Training...\n"
     ]
    },
    {
     "name": "stderr",
     "output_type": "stream",
     "text": [
      "Iteration: 100%|██████████| 214/214 [00:09<00:00, 21.78it/s]\n",
      "Iteration: 100%|██████████| 60/60 [00:02<00:00, 22.55it/s]s]\n",
      "Iteration: 100%|██████████| 24/24 [00:01<00:00, 22.50it/s]]]\n",
      "Iteration:  95%|█████████▌| 204/214 [00:09<00:00, 21.52it/s]"
     ]
    },
    {
     "name": "stdout",
     "output_type": "stream",
     "text": [
      "{'Train':  best_epoch_indx:72\n",
      " auc:0.9946876425879131 \n",
      " apur:0.9951930687847705 \n",
      " f1:0.9643752263672583 \n",
      " precision:0.9487742303306728 \n",
      " recall:0.9804978641920754 \n",
      ", 'Validation':  best_epoch_indx:72\n",
      " auc:0.9441403891428658 \n",
      " apur:0.9437151035266929 \n",
      " f1:0.8892621785760435 \n",
      " precision:0.8674061003277036 \n",
      " recall:0.9122481442205727 \n",
      ", 'Test':  best_epoch_indx:72\n",
      " auc:0.9436120608770358 \n",
      " apur:0.9385495928664906 \n",
      " f1:0.8916274012323305 \n",
      " precision:0.8711048158640227 \n",
      " recall:0.9131403118040089 \n",
      "}\n",
      "=====Epoch 73\n",
      "Training...\n"
     ]
    },
    {
     "name": "stderr",
     "output_type": "stream",
     "text": [
      "Iteration: 100%|██████████| 214/214 [00:09<00:00, 21.85it/s]\n",
      "Iteration: 100%|██████████| 60/60 [00:02<00:00, 22.44it/s]s]\n",
      "Iteration: 100%|██████████| 24/24 [00:01<00:00, 20.34it/s]s]\n",
      "Iteration:   0%|          | 0/214 [00:00<?, ?it/s]2.50it/s]"
     ]
    },
    {
     "name": "stdout",
     "output_type": "stream",
     "text": [
      "{'Train':  best_epoch_indx:72\n",
      " auc:0.9952855119848709 \n",
      " apur:0.9957814476873007 \n",
      " f1:0.9659343695023189 \n",
      " precision:0.9536085433771603 \n",
      " recall:0.9785830019148622 \n",
      ", 'Validation':  best_epoch_indx:72\n",
      " auc:0.9430177488241234 \n",
      " apur:0.9410619953458599 \n",
      " f1:0.8883714913982669 \n",
      " precision:0.8673907552412226 \n",
      " recall:0.9103923647932132 \n",
      ", 'Test':  best_epoch_indx:72\n",
      " auc:0.9431963374218092 \n",
      " apur:0.9394614177832425 \n",
      " f1:0.8873202885763222 \n",
      " precision:0.8688757877617402 \n",
      " recall:0.9065648531127373 \n",
      "}\n",
      "=====Epoch 73\n",
      "Training...\n"
     ]
    },
    {
     "name": "stderr",
     "output_type": "stream",
     "text": [
      "Iteration: 100%|██████████| 60/60 [00:02<00:00, 22.48it/s]s]\n",
      "Iteration: 100%|██████████| 214/214 [00:10<00:00, 21.29it/s]\n",
      "Iteration: 100%|██████████| 24/24 [00:01<00:00, 20.18it/s]]]\n",
      "Iteration:  33%|███▎      | 70/214 [00:05<00:11, 12.55it/s]]"
     ]
    },
    {
     "name": "stdout",
     "output_type": "stream",
     "text": [
      "{'Train':  best_epoch_indx:74\n",
      " auc:0.9915628755614094 \n",
      " apur:0.9922945228418544 \n",
      " f1:0.9561149733005168 \n",
      " precision:0.9347630305077114 \n",
      " recall:0.9784651642362645 \n",
      ", 'Validation':  best_epoch_indx:74\n",
      " auc:0.9385627048587679 \n",
      " apur:0.9374387250699846 \n",
      " f1:0.8812122768717092 \n",
      " precision:0.8545454545454545 \n",
      " recall:0.9095970307529162 \n",
      ", 'Test':  best_epoch_indx:74\n",
      " auc:0.9378415276367178 \n",
      " apur:0.937217911433437 \n",
      " f1:0.8826522744795684 \n",
      " precision:0.8563734290843806 \n",
      " recall:0.9105949729557747 \n",
      "}\n",
      "=====Epoch 75\n",
      "Training...\n"
     ]
    },
    {
     "name": "stderr",
     "output_type": "stream",
     "text": [
      "Iteration: 100%|██████████| 60/60 [00:02<00:00, 22.10it/s]]]\n",
      "Iteration: 100%|██████████| 24/24 [00:01<00:00, 19.96it/s]]]\n",
      "Iteration:  41%|████      | 88/214 [00:07<00:10, 11.91it/s]]"
     ]
    },
    {
     "name": "stdout",
     "output_type": "stream",
     "text": [
      "{'Train':  best_epoch_indx:73\n",
      " auc:0.9951828431038375 \n",
      " apur:0.9956406473195398 \n",
      " f1:0.9656022506453203 \n",
      " precision:0.9508482321357171 \n",
      " recall:0.9808213528164035 \n",
      ", 'Validation':  best_epoch_indx:73\n",
      " auc:0.9418441712923733 \n",
      " apur:0.9395731088919448 \n",
      " f1:0.8863900736719659 \n",
      " precision:0.8648171500630517 \n",
      " recall:0.9090668080593849 \n",
      ", 'Test':  best_epoch_indx:73\n",
      " auc:0.9450986782554905 \n",
      " apur:0.9445212125707222 \n",
      " f1:0.890531321066777 \n",
      " precision:0.8686227061907643 \n",
      " recall:0.9135737009544008 \n",
      "}\n",
      "=====Epoch 74\n",
      "Training...\n"
     ]
    },
    {
     "name": "stderr",
     "output_type": "stream",
     "text": [
      "Iteration: 100%|██████████| 214/214 [00:17<00:00, 12.27it/s]\n",
      "Iteration:  76%|███████▌  | 162/214 [00:13<00:04, 12.55it/s]"
     ]
    },
    {
     "name": "stdout",
     "output_type": "stream",
     "text": [
      "Evaluating...\n"
     ]
    },
    {
     "name": "stderr",
     "output_type": "stream",
     "text": [
      "Iteration: 100%|██████████| 214/214 [00:17<00:00, 12.34it/s]\n",
      "Iteration:  39%|███▉      | 84/214 [00:07<00:11, 11.50it/s]]"
     ]
    },
    {
     "name": "stdout",
     "output_type": "stream",
     "text": [
      "Evaluating...\n"
     ]
    },
    {
     "name": "stderr",
     "output_type": "stream",
     "text": [
      "Iteration: 100%|██████████| 214/214 [00:17<00:00, 12.32it/s]\n",
      "Iteration:  29%|██▉       | 62/214 [00:03<00:07, 19.72it/s]]"
     ]
    },
    {
     "name": "stdout",
     "output_type": "stream",
     "text": [
      "Evaluating...\n"
     ]
    },
    {
     "name": "stderr",
     "output_type": "stream",
     "text": [
      "Iteration: 100%|██████████| 214/214 [00:09<00:00, 22.18it/s]\n",
      "Iteration: 100%|██████████| 214/214 [00:17<00:00, 12.12it/s]\n",
      "Iteration:  29%|██▉       | 63/214 [00:03<00:06, 21.69it/s]]"
     ]
    },
    {
     "name": "stdout",
     "output_type": "stream",
     "text": [
      "Evaluating...\n"
     ]
    },
    {
     "name": "stderr",
     "output_type": "stream",
     "text": [
      "Iteration: 100%|██████████| 60/60 [00:02<00:00, 21.98it/s]s]\n",
      "Iteration: 100%|██████████| 214/214 [00:10<00:00, 21.34it/s]\n",
      "Iteration: 100%|██████████| 24/24 [00:01<00:00, 19.22it/s]s]\n",
      "Iteration:  74%|███████▍  | 159/214 [00:07<00:02, 22.35it/s]"
     ]
    },
    {
     "name": "stdout",
     "output_type": "stream",
     "text": [
      "{'Train':  best_epoch_indx:72\n",
      " auc:0.9954402498038184 \n",
      " apur:0.9958522885197962 \n",
      " f1:0.9686207806680547 \n",
      " precision:0.9642659037164628 \n",
      " recall:0.9730151716011195 \n",
      ", 'Validation':  best_epoch_indx:72\n",
      " auc:0.9427267130125274 \n",
      " apur:0.9407393537206501 \n",
      " f1:0.8830961564037771 \n",
      " precision:0.8860421670669869 \n",
      " recall:0.88016967126193 \n",
      ", 'Test':  best_epoch_indx:72\n",
      " auc:0.9440357512022615 \n",
      " apur:0.9419779871244849 \n",
      " f1:0.8849838564547716 \n",
      " precision:0.8833474218089603 \n",
      " recall:0.8866263654682363 \n",
      "}\n",
      "=====Epoch 73\n",
      "Training...\n"
     ]
    },
    {
     "name": "stderr",
     "output_type": "stream",
     "text": [
      "Iteration: 100%|██████████| 214/214 [00:17<00:00, 11.95it/s]\n",
      "Iteration:  52%|█████▏    | 111/214 [00:05<00:04, 22.29it/s]"
     ]
    },
    {
     "name": "stdout",
     "output_type": "stream",
     "text": [
      "Evaluating...\n"
     ]
    },
    {
     "name": "stderr",
     "output_type": "stream",
     "text": [
      "Iteration: 100%|██████████| 214/214 [00:10<00:00, 21.21it/s]\n",
      "Iteration: 100%|██████████| 60/60 [00:02<00:00, 22.72it/s]]]\n",
      "Iteration: 100%|██████████| 24/24 [00:01<00:00, 22.56it/s]s]\n",
      "Iteration:  35%|███▌      | 21/60 [00:01<00:01, 20.78it/s]]]"
     ]
    },
    {
     "name": "stdout",
     "output_type": "stream",
     "text": [
      "{'Train':  best_epoch_indx:73\n",
      " auc:0.9923105330014074 \n",
      " apur:0.992947297096465 \n",
      " f1:0.9590996990272911 \n",
      " precision:0.9468879191548002 \n",
      " recall:0.9716305788775961 \n",
      ", 'Validation':  best_epoch_indx:73\n",
      " auc:0.9412368490818777 \n",
      " apur:0.9408965334783905 \n",
      " f1:0.8851008458035133 \n",
      " precision:0.8691541017122413 \n",
      " recall:0.901643690349947 \n",
      ", 'Test':  best_epoch_indx:73\n",
      " auc:0.9427466152219992 \n",
      " apur:0.9382220229246779 \n",
      " f1:0.8868150774203638 \n",
      " precision:0.8721287940935193 \n",
      " recall:0.9020044543429844 \n",
      "}\n",
      "=====Epoch 74\n",
      "Training...\n"
     ]
    },
    {
     "name": "stderr",
     "output_type": "stream",
     "text": [
      "Iteration: 100%|██████████| 214/214 [00:10<00:00, 21.39it/s]\n",
      "Iteration: 100%|██████████| 60/60 [00:02<00:00, 21.74it/s]]]\n",
      "Iteration: 100%|██████████| 24/24 [00:01<00:00, 19.58it/s]]]\n",
      "Iteration:  18%|█▊        | 38/214 [00:03<00:14, 12.35it/s]]"
     ]
    },
    {
     "name": "stdout",
     "output_type": "stream",
     "text": [
      "{'Train':  best_epoch_indx:73\n",
      " auc:0.992633578826213 \n",
      " apur:0.9932618512567417 \n",
      " f1:0.9596295971723191 \n",
      " precision:0.9516236493728455 \n",
      " recall:0.9677713949035204 \n",
      ", 'Validation':  best_epoch_indx:73\n",
      " auc:0.9400445218989584 \n",
      " apur:0.9359855194527823 \n",
      " f1:0.881585811163276 \n",
      " precision:0.8675564681724846 \n",
      " recall:0.8960763520678685 \n",
      ", 'Test':  best_epoch_indx:73\n",
      " auc:0.9400655668326516 \n",
      " apur:0.9362804458308702 \n",
      " f1:0.8818162751677853 \n",
      " precision:0.8720315254588821 \n",
      " recall:0.8918230989500477 \n",
      "}\n",
      "=====Epoch 74\n",
      "Training...\n"
     ]
    },
    {
     "name": "stderr",
     "output_type": "stream",
     "text": [
      "Iteration: 100%|██████████| 60/60 [00:02<00:00, 21.94it/s]]]\n",
      "Iteration: 100%|██████████| 214/214 [00:09<00:00, 22.03it/s]\n",
      "Iteration: 100%|██████████| 24/24 [00:01<00:00, 21.74it/s]]]\n",
      "Iteration:   0%|          | 0/214 [00:00<?, ?it/s]2.04it/s]"
     ]
    },
    {
     "name": "stdout",
     "output_type": "stream",
     "text": [
      "{'Train':  best_epoch_indx:75\n",
      " auc:0.9932223184543687 \n",
      " apur:0.9937946358442665 \n",
      " f1:0.9608615402502654 \n",
      " precision:0.9482244277436751 \n",
      " recall:0.9738400353513036 \n",
      ", 'Validation':  best_epoch_indx:75\n",
      " auc:0.9417770213788835 \n",
      " apur:0.9381336682390521 \n",
      " f1:0.8858972683309372 \n",
      " precision:0.8736787831915442 \n",
      " recall:0.8984623541887593 \n",
      ", 'Test':  best_epoch_indx:75\n",
      " auc:0.940537373334292 \n",
      " apur:0.9379521641403595 \n",
      " f1:0.8851894374282433 \n",
      " precision:0.8713654577211548 \n",
      " recall:0.8994591154947502 \n",
      "}\n",
      "=====Epoch 76\n",
      "Training...\n"
     ]
    },
    {
     "name": "stderr",
     "output_type": "stream",
     "text": [
      "Iteration: 100%|██████████| 60/60 [00:02<00:00, 22.55it/s]]]\n",
      "Iteration: 100%|██████████| 24/24 [00:01<00:00, 22.56it/s]s]\n"
     ]
    },
    {
     "name": "stdout",
     "output_type": "stream",
     "text": [
      "{'Train':  best_epoch_indx:74\n",
      " auc:0.9912505026211874 \n",
      " apur:0.9920823943064636 \n",
      " f1:0.9555652048053265 \n",
      " precision:0.939224947362431 \n",
      " recall:0.9724840914447325 \n",
      ", 'Validation':  best_epoch_indx:74\n",
      " auc:0.9397614140582584 \n",
      " apur:0.9363452412225793 \n",
      " f1:0.8828408501814412 \n",
      " precision:0.8635902636916836 \n",
      " recall:0.9029692470837752 \n",
      ", 'Test':  best_epoch_indx:74\n",
      " auc:0.940015600307363 \n",
      " apur:0.9393674039147859 \n",
      " f1:0.8853951179147702 \n",
      " precision:0.8641227538865334 \n",
      " recall:0.9077412513255567 \n",
      "}\n",
      "=====Epoch 75\n",
      "Training...\n"
     ]
    },
    {
     "name": "stderr",
     "output_type": "stream",
     "text": [
      "Iteration: 100%|██████████| 214/214 [00:17<00:00, 12.31it/s]\n",
      "Iteration:  53%|█████▎    | 114/214 [00:09<00:08, 11.96it/s]"
     ]
    },
    {
     "name": "stdout",
     "output_type": "stream",
     "text": [
      "Evaluating...\n"
     ]
    },
    {
     "name": "stderr",
     "output_type": "stream",
     "text": [
      "Iteration: 100%|██████████| 214/214 [00:17<00:00, 12.12it/s]\n",
      "Iteration:  80%|████████  | 172/214 [00:14<00:03, 12.34it/s]"
     ]
    },
    {
     "name": "stdout",
     "output_type": "stream",
     "text": [
      "Evaluating...\n"
     ]
    },
    {
     "name": "stderr",
     "output_type": "stream",
     "text": [
      "Iteration: 100%|██████████| 214/214 [00:17<00:00, 12.00it/s]\n",
      "Iteration:  37%|███▋      | 80/214 [00:03<00:06, 22.23it/s]]"
     ]
    },
    {
     "name": "stdout",
     "output_type": "stream",
     "text": [
      "Evaluating...\n"
     ]
    },
    {
     "name": "stderr",
     "output_type": "stream",
     "text": [
      "Iteration: 100%|██████████| 214/214 [00:09<00:00, 22.01it/s]\n",
      "Iteration: 100%|██████████| 214/214 [00:17<00:00, 12.17it/s]\n",
      "Iteration:   1%|▏         | 3/214 [00:00<00:10, 20.72it/s]]]"
     ]
    },
    {
     "name": "stdout",
     "output_type": "stream",
     "text": [
      "Evaluating...\n"
     ]
    },
    {
     "name": "stderr",
     "output_type": "stream",
     "text": [
      "Iteration: 100%|██████████| 60/60 [00:02<00:00, 22.31it/s]s]\n",
      "Iteration: 100%|██████████| 214/214 [00:09<00:00, 22.06it/s]\n",
      "Iteration: 100%|██████████| 24/24 [00:01<00:00, 18.35it/s]s]\n",
      "Iteration:   0%|          | 1/214 [00:00<00:28,  7.36it/s]]]"
     ]
    },
    {
     "name": "stdout",
     "output_type": "stream",
     "text": [
      "{'Train':  best_epoch_indx:73\n",
      " auc:0.9943973629521984 \n",
      " apur:0.9949073182892023 \n",
      " f1:0.9640713276836158 \n",
      " precision:0.9629662287276254 \n",
      " recall:0.9651789659743703 \n",
      ", 'Validation':  best_epoch_indx:73\n",
      " auc:0.9426984101564283 \n",
      " apur:0.9409837113089767 \n",
      " f1:0.882899628252788 \n",
      " precision:0.8843085106382979 \n",
      " recall:0.8814952279957582 \n",
      ", 'Test':  best_epoch_indx:73\n",
      " auc:0.9427127813966989 \n",
      " apur:0.9412398286473647 \n",
      " f1:0.8812350279478308 \n",
      " precision:0.8846729371526293 \n",
      " recall:0.8778237352847598 \n",
      "}\n",
      "=====Epoch 74\n",
      "Training...\n"
     ]
    },
    {
     "name": "stderr",
     "output_type": "stream",
     "text": [
      "Iteration: 100%|██████████| 214/214 [00:17<00:00, 12.03it/s]\n",
      "Iteration:  43%|████▎     | 93/214 [00:04<00:06, 18.22it/s]]"
     ]
    },
    {
     "name": "stdout",
     "output_type": "stream",
     "text": [
      "Evaluating...\n"
     ]
    },
    {
     "name": "stderr",
     "output_type": "stream",
     "text": [
      "Iteration: 100%|██████████| 60/60 [00:02<00:00, 22.15it/s]s]\n",
      "Iteration: 100%|██████████| 214/214 [00:09<00:00, 22.12it/s]\n",
      "Iteration: 100%|██████████| 24/24 [00:01<00:00, 20.46it/s]s]\n",
      "Iteration:  23%|██▎       | 50/214 [00:04<00:13, 12.45it/s]]"
     ]
    },
    {
     "name": "stdout",
     "output_type": "stream",
     "text": [
      "{'Train':  best_epoch_indx:74\n",
      " auc:0.9898388682124434 \n",
      " apur:0.9906504903656587 \n",
      " f1:0.9524559561311399 \n",
      " precision:0.9431302891141726 \n",
      " recall:0.9619678892325821 \n",
      ", 'Validation':  best_epoch_indx:74\n",
      " auc:0.9401776721701584 \n",
      " apur:0.938290632305211 \n",
      " f1:0.8787364573815429 \n",
      " precision:0.8655181280534842 \n",
      " recall:0.8923647932131495 \n",
      ", 'Test':  best_epoch_indx:74\n",
      " auc:0.9407438861884414 \n",
      " apur:0.9352898968749381 \n",
      " f1:0.8821065856978326 \n",
      " precision:0.8709810813604879 \n",
      " recall:0.8935199915155372 \n",
      "}\n",
      "=====Epoch 75\n",
      "Training...\n"
     ]
    },
    {
     "name": "stderr",
     "output_type": "stream",
     "text": [
      "Iteration: 100%|██████████| 214/214 [00:10<00:00, 20.66it/s]\n",
      "Iteration: 100%|██████████| 60/60 [00:02<00:00, 22.61it/s]]]\n",
      "Iteration: 100%|██████████| 24/24 [00:01<00:00, 20.28it/s]s]\n",
      "Iteration:  45%|████▌     | 27/60 [00:01<00:01, 22.12it/s]]]"
     ]
    },
    {
     "name": "stdout",
     "output_type": "stream",
     "text": [
      "{'Train':  best_epoch_indx:74\n",
      " auc:0.9917489715021967 \n",
      " apur:0.992407289369432 \n",
      " f1:0.9565481002425223 \n",
      " precision:0.937837914343137 \n",
      " recall:0.9760200324053616 \n",
      ", 'Validation':  best_epoch_indx:74\n",
      " auc:0.9392970331630194 \n",
      " apur:0.9385621543841387 \n",
      " f1:0.8815958815958815 \n",
      " precision:0.8566783391695848 \n",
      " recall:0.9080063626723224 \n",
      ", 'Test':  best_epoch_indx:74\n",
      " auc:0.9401232758957526 \n",
      " apur:0.937851678828841 \n",
      " f1:0.8826028390840328 \n",
      " precision:0.8627570140788008 \n",
      " recall:0.9033831795524446 \n",
      "}\n",
      "=====Epoch 75\n",
      "Training...\n"
     ]
    },
    {
     "name": "stderr",
     "output_type": "stream",
     "text": [
      "Iteration: 100%|██████████| 60/60 [00:02<00:00, 22.33it/s]s]\n",
      "Iteration: 100%|██████████| 214/214 [00:10<00:00, 20.80it/s]\n",
      "Iteration: 100%|██████████| 24/24 [00:01<00:00, 21.86it/s]s]\n",
      "Iteration:  37%|███▋      | 80/214 [00:06<00:10, 12.51it/s]]"
     ]
    },
    {
     "name": "stdout",
     "output_type": "stream",
     "text": [
      "{'Train':  best_epoch_indx:76\n",
      " auc:0.9940640262970473 \n",
      " apur:0.9945549165824545 \n",
      " f1:0.964546220685246 \n",
      " precision:0.9516586862402157 \n",
      " recall:0.9777875975843275 \n",
      ", 'Validation':  best_epoch_indx:76\n",
      " auc:0.9425775086002628 \n",
      " apur:0.9377483438861778 \n",
      " f1:0.8886856545597074 \n",
      " precision:0.8760947964966512 \n",
      " recall:0.901643690349947 \n",
      ", 'Test':  best_epoch_indx:76\n",
      " auc:0.9415494454617164 \n",
      " apur:0.9389288679905109 \n",
      " f1:0.8860336362686723 \n",
      " precision:0.872903159411341 \n",
      " recall:0.8995651712800933 \n",
      "}\n",
      "=====Epoch 77\n",
      "Training...\n"
     ]
    },
    {
     "name": "stderr",
     "output_type": "stream",
     "text": [
      "Iteration: 100%|██████████| 60/60 [00:02<00:00, 22.60it/s]s]\n",
      "Iteration: 100%|██████████| 24/24 [00:01<00:00, 21.32it/s]s]\n",
      "Iteration:  44%|████▍     | 94/214 [00:07<00:10, 11.83it/s]]"
     ]
    },
    {
     "name": "stdout",
     "output_type": "stream",
     "text": [
      "{'Train':  best_epoch_indx:75\n",
      " auc:0.9933758937494541 \n",
      " apur:0.9939552652284434 \n",
      " f1:0.9612396346156639 \n",
      " precision:0.9478734068451955 \n",
      " recall:0.9749882158849871 \n",
      ", 'Validation':  best_epoch_indx:75\n",
      " auc:0.943092707788946 \n",
      " apur:0.9398605021523535 \n",
      " f1:0.8896416938110748 \n",
      " precision:0.8747117601844735 \n",
      " recall:0.9050901378579003 \n",
      ", 'Test':  best_epoch_indx:75\n",
      " auc:0.94386302278061 \n",
      " apur:0.9425482678443905 \n",
      " f1:0.8884835852006253 \n",
      " precision:0.8734631147540983 \n",
      " recall:0.9040296924708378 \n",
      "}\n",
      "=====Epoch 76\n",
      "Training...\n"
     ]
    },
    {
     "name": "stderr",
     "output_type": "stream",
     "text": [
      "Iteration: 100%|██████████| 214/214 [00:17<00:00, 12.03it/s]\n",
      "Iteration:  56%|█████▌    | 120/214 [00:09<00:07, 12.34it/s]"
     ]
    },
    {
     "name": "stdout",
     "output_type": "stream",
     "text": [
      "Evaluating...\n"
     ]
    },
    {
     "name": "stderr",
     "output_type": "stream",
     "text": [
      "Iteration: 100%|██████████| 214/214 [00:17<00:00, 12.21it/s]\n",
      "Iteration:  81%|████████▏ | 174/214 [00:14<00:03, 12.43it/s]"
     ]
    },
    {
     "name": "stdout",
     "output_type": "stream",
     "text": [
      "Evaluating...\n"
     ]
    },
    {
     "name": "stderr",
     "output_type": "stream",
     "text": [
      "Iteration: 100%|██████████| 214/214 [00:17<00:00, 12.24it/s]\n",
      "Iteration:  36%|███▋      | 78/214 [00:03<00:06, 22.45it/s]]"
     ]
    },
    {
     "name": "stdout",
     "output_type": "stream",
     "text": [
      "Evaluating...\n"
     ]
    },
    {
     "name": "stderr",
     "output_type": "stream",
     "text": [
      "Iteration: 100%|██████████| 214/214 [00:09<00:00, 21.81it/s]\n",
      "Iteration: 100%|██████████| 214/214 [00:17<00:00, 12.34it/s]\n",
      "Iteration:  66%|██████▌   | 141/214 [00:06<00:03, 22.43it/s]"
     ]
    },
    {
     "name": "stdout",
     "output_type": "stream",
     "text": [
      "Evaluating...\n"
     ]
    },
    {
     "name": "stderr",
     "output_type": "stream",
     "text": [
      "Iteration: 100%|██████████| 60/60 [00:02<00:00, 22.81it/s]]]\n",
      "Iteration: 100%|██████████| 214/214 [00:09<00:00, 21.62it/s]\n",
      "Iteration: 100%|██████████| 24/24 [00:01<00:00, 22.58it/s]s]\n",
      "Iteration:  42%|████▏     | 90/214 [00:04<00:05, 22.19it/s]]"
     ]
    },
    {
     "name": "stdout",
     "output_type": "stream",
     "text": [
      "{'Train':  best_epoch_indx:74\n",
      " auc:0.9927984151157226 \n",
      " apur:0.993408305753297 \n",
      " f1:0.956464455519276 \n",
      " precision:0.9306356770615611 \n",
      " recall:0.9837678597731625 \n",
      ", 'Validation':  best_epoch_indx:74\n",
      " auc:0.9403264801838781 \n",
      " apur:0.9380390019658018 \n",
      " f1:0.8891719745222931 \n",
      " precision:0.8558116723884257 \n",
      " recall:0.925238600212089 \n",
      ", 'Test':  best_epoch_indx:74\n",
      " auc:0.9409602222300032 \n",
      " apur:0.9382881828650006 \n",
      " f1:0.8861921272690191 \n",
      " precision:0.8533830894628303 \n",
      " recall:0.9216247746314562 \n",
      "}\n",
      "=====Epoch 75\n",
      "Training...\n"
     ]
    },
    {
     "name": "stderr",
     "output_type": "stream",
     "text": [
      "Iteration: 100%|██████████| 214/214 [00:17<00:00, 12.29it/s]\n",
      "Iteration:  49%|████▉     | 105/214 [00:04<00:04, 22.10it/s]"
     ]
    },
    {
     "name": "stdout",
     "output_type": "stream",
     "text": [
      "Evaluating...\n"
     ]
    },
    {
     "name": "stderr",
     "output_type": "stream",
     "text": [
      "Iteration: 100%|██████████| 60/60 [00:02<00:00, 22.81it/s]]]\n",
      "Iteration: 100%|██████████| 214/214 [00:10<00:00, 20.09it/s]\n",
      "Iteration: 100%|██████████| 24/24 [00:01<00:00, 22.60it/s]]]\n",
      "Iteration:  38%|███▊      | 81/214 [00:03<00:06, 21.96it/s]]"
     ]
    },
    {
     "name": "stdout",
     "output_type": "stream",
     "text": [
      "{'Train':  best_epoch_indx:75\n",
      " auc:0.9916250312775066 \n",
      " apur:0.9922280464570286 \n",
      " f1:0.9563781238681636 \n",
      " precision:0.9409064994298746 \n",
      " recall:0.9723670643688319 \n",
      ", 'Validation':  best_epoch_indx:75\n",
      " auc:0.9417293346339434 \n",
      " apur:0.9418973553342043 \n",
      " f1:0.8868366285119668 \n",
      " precision:0.8705311542390194 \n",
      " recall:0.9037645811240721 \n",
      ", 'Test':  best_epoch_indx:75\n",
      " auc:0.9414284597909026 \n",
      " apur:0.9364848112861508 \n",
      " f1:0.888312765736804 \n",
      " precision:0.8690270873490921 \n",
      " recall:0.9084738572489129 \n",
      "}\n",
      "=====Epoch 76\n",
      "Training...\n"
     ]
    },
    {
     "name": "stderr",
     "output_type": "stream",
     "text": [
      "Iteration: 100%|██████████| 214/214 [00:09<00:00, 21.98it/s]\n",
      "Iteration: 100%|██████████| 60/60 [00:02<00:00, 21.22it/s]s]\n",
      "Iteration: 100%|██████████| 24/24 [00:01<00:00, 21.95it/s]s]\n",
      "Iteration:  83%|████████▎ | 177/214 [00:08<00:01, 22.07it/s]"
     ]
    },
    {
     "name": "stdout",
     "output_type": "stream",
     "text": [
      "{'Train':  best_epoch_indx:75\n",
      " auc:0.9916281647792775 \n",
      " apur:0.9924686971969814 \n",
      " f1:0.9558297203712864 \n",
      " precision:0.9442352467734054 \n",
      " recall:0.9677124760642215 \n",
      ", 'Validation':  best_epoch_indx:75\n",
      " auc:0.9426360566653306 \n",
      " apur:0.9421183267973887 \n",
      " f1:0.8818099076843062 \n",
      " precision:0.8652717529982138 \n",
      " recall:0.8989925768822906 \n",
      ", 'Test':  best_epoch_indx:75\n",
      " auc:0.9409586364676623 \n",
      " apur:0.9391258110508105 \n",
      " f1:0.8844671319929159 \n",
      " precision:0.8690756474562391 \n",
      " recall:0.900413617562838 \n",
      "}\n",
      "=====Epoch 76\n",
      "Training...\n"
     ]
    },
    {
     "name": "stderr",
     "output_type": "stream",
     "text": [
      "Iteration: 100%|██████████| 60/60 [00:03<00:00, 19.77it/s]s]\n",
      "Iteration: 100%|██████████| 214/214 [00:09<00:00, 22.02it/s]\n",
      "Iteration: 100%|██████████| 24/24 [00:01<00:00, 19.93it/s]]]\n",
      "Iteration:  63%|██████▎   | 134/214 [00:10<00:06, 11.64it/s]"
     ]
    },
    {
     "name": "stdout",
     "output_type": "stream",
     "text": [
      "{'Train':  best_epoch_indx:77\n",
      " auc:0.9971838282714057 \n",
      " apur:0.9974586645832398 \n",
      " f1:0.9751731175741672 \n",
      " precision:0.9652525252525253 \n",
      " recall:0.9852997495949329 \n",
      ", 'Validation':  best_epoch_indx:77\n",
      " auc:0.9460243921466154 \n",
      " apur:0.9418615568234254 \n",
      " f1:0.886940591468202 \n",
      " precision:0.8757105943152454 \n",
      " recall:0.8984623541887593 \n",
      ", 'Test':  best_epoch_indx:77\n",
      " auc:0.9457649313801052 \n",
      " apur:0.9431804984077636 \n",
      " f1:0.8901934063630169 \n",
      " precision:0.88 \n",
      " recall:0.9006257291335242 \n",
      "}\n",
      "=====Epoch 78\n",
      "Training...\n"
     ]
    },
    {
     "name": "stderr",
     "output_type": "stream",
     "text": [
      "Iteration: 100%|██████████| 60/60 [00:02<00:00, 22.76it/s]s]\n",
      "Iteration: 100%|██████████| 24/24 [00:01<00:00, 22.24it/s]]]\n",
      "Iteration:  24%|██▍       | 52/214 [00:04<00:12, 12.51it/s]]"
     ]
    },
    {
     "name": "stdout",
     "output_type": "stream",
     "text": [
      "{'Train':  best_epoch_indx:76\n",
      " auc:0.9939040698640809 \n",
      " apur:0.9944606802680471 \n",
      " f1:0.9629498993283658 \n",
      " precision:0.9607613126484648 \n",
      " recall:0.9651484798491633 \n",
      ", 'Validation':  best_epoch_indx:76\n",
      " auc:0.9470244660353042 \n",
      " apur:0.9451876279230089 \n",
      " f1:0.8867999470409109 \n",
      " precision:0.8857445120338535 \n",
      " recall:0.8878579003181336 \n",
      ", 'Test':  best_epoch_indx:76\n",
      " auc:0.9455816953348903 \n",
      " apur:0.9452900387378828 \n",
      " f1:0.8861470027536539 \n",
      " precision:0.8850222128199704 \n",
      " recall:0.8872746553552492 \n",
      "}\n",
      "=====Epoch 77\n",
      "Training...\n"
     ]
    },
    {
     "name": "stderr",
     "output_type": "stream",
     "text": [
      "Iteration: 100%|██████████| 214/214 [00:17<00:00, 12.19it/s]\n",
      "Iteration:  51%|█████▏    | 110/214 [00:08<00:08, 12.38it/s]"
     ]
    },
    {
     "name": "stdout",
     "output_type": "stream",
     "text": [
      "Evaluating...\n"
     ]
    },
    {
     "name": "stderr",
     "output_type": "stream",
     "text": [
      "Iteration: 100%|██████████| 214/214 [00:17<00:00, 12.22it/s]\n",
      "Iteration:  37%|███▋      | 80/214 [00:06<00:10, 12.34it/s]"
     ]
    },
    {
     "name": "stdout",
     "output_type": "stream",
     "text": [
      "Evaluating...\n"
     ]
    },
    {
     "name": "stderr",
     "output_type": "stream",
     "text": [
      "Iteration: 100%|██████████| 214/214 [00:17<00:00, 12.32it/s]\n",
      "Iteration:  62%|██████▏   | 132/214 [00:10<00:06, 12.16it/s]"
     ]
    },
    {
     "name": "stdout",
     "output_type": "stream",
     "text": [
      "Evaluating...\n"
     ]
    },
    {
     "name": "stderr",
     "output_type": "stream",
     "text": [
      "Iteration: 100%|██████████| 214/214 [00:10<00:00, 20.58it/s]\n",
      "Iteration: 100%|██████████| 214/214 [00:17<00:00, 12.24it/s]\n",
      "Iteration:  25%|██▍       | 53/214 [00:02<00:08, 19.99it/s]]"
     ]
    },
    {
     "name": "stdout",
     "output_type": "stream",
     "text": [
      "Evaluating...\n"
     ]
    },
    {
     "name": "stderr",
     "output_type": "stream",
     "text": [
      "Iteration: 100%|██████████| 60/60 [00:02<00:00, 22.84it/s]s]\n",
      "Iteration: 100%|██████████| 214/214 [00:09<00:00, 22.31it/s]\n",
      "Iteration: 100%|██████████| 24/24 [00:01<00:00, 22.62it/s]s]\n",
      "Iteration:  20%|██        | 12/60 [00:00<00:02, 22.25it/s]s]"
     ]
    },
    {
     "name": "stdout",
     "output_type": "stream",
     "text": [
      "{'Train':  best_epoch_indx:75\n",
      " auc:0.9944247343495807 \n",
      " apur:0.9949573290700753 \n",
      " f1:0.9640277355568102 \n",
      " precision:0.9476889799635702 \n",
      " recall:0.9809397554868169 \n",
      ", 'Validation':  best_epoch_indx:75\n",
      " auc:0.9435492796328524 \n",
      " apur:0.9413555277100275 \n",
      " f1:0.8870401663850255 \n",
      " precision:0.8701861769956644 \n",
      " recall:0.9045599151643691 \n",
      ", 'Test':  best_epoch_indx:75\n",
      " auc:0.9446722888918998 \n",
      " apur:0.9431035003165074 \n",
      " f1:0.8897870355976993 \n",
      " precision:0.8699088145896656 \n",
      " recall:0.9105949729557747 \n",
      "}\n",
      "=====Epoch 76\n",
      "Training...\n",
      "Evaluating...\n"
     ]
    },
    {
     "name": "stderr",
     "output_type": "stream",
     "text": [
      "Iteration: 100%|██████████| 214/214 [00:17<00:00, 12.19it/s]\n",
      "Iteration: 100%|██████████| 60/60 [00:02<00:00, 22.64it/s]s]\n",
      "Iteration: 100%|██████████| 24/24 [00:01<00:00, 20.78it/s]]]\n",
      "Iteration:  81%|████████▏ | 174/214 [00:07<00:01, 22.06it/s]"
     ]
    },
    {
     "name": "stdout",
     "output_type": "stream",
     "text": [
      "{'Train':  best_epoch_indx:76\n",
      " auc:0.9927229594924758 \n",
      " apur:0.9934048309337025 \n",
      " f1:0.9590255998833054 \n",
      " precision:0.9498121930078012 \n",
      " recall:0.968419502135808 \n",
      ", 'Validation':  best_epoch_indx:76\n",
      " auc:0.9445574004120009 \n",
      " apur:0.9428798286297746 \n",
      " f1:0.886940591468202 \n",
      " precision:0.8757105943152454 \n",
      " recall:0.8984623541887593 \n",
      ", 'Test':  best_epoch_indx:76\n",
      " auc:0.9433985221202428 \n",
      " apur:0.9373626565446693 \n",
      " f1:0.8879585535611492 \n",
      " precision:0.8764462809917355 \n",
      " recall:0.8997772828507795 \n",
      "}\n",
      "=====Epoch 77\n",
      "Training...\n"
     ]
    },
    {
     "name": "stderr",
     "output_type": "stream",
     "text": [
      "Iteration: 100%|██████████| 214/214 [00:10<00:00, 20.61it/s]\n",
      "Iteration: 100%|██████████| 214/214 [00:09<00:00, 21.59it/s]\n",
      "Iteration: 100%|██████████| 60/60 [00:02<00:00, 22.76it/s]s]\n",
      "Iteration: 100%|██████████| 24/24 [00:01<00:00, 22.66it/s]]]\n",
      "Iteration:   1%|          | 2/214 [00:00<00:17, 12.45it/s]s]"
     ]
    },
    {
     "name": "stdout",
     "output_type": "stream",
     "text": [
      "{'Train':  best_epoch_indx:76\n",
      " auc:0.9946066502305151 \n",
      " apur:0.9951423237895798 \n",
      " f1:0.9645177701867867 \n",
      " precision:0.9519942611190818 \n",
      " recall:0.9773751657092355 \n",
      ", 'Validation':  best_epoch_indx:76\n",
      " auc:0.9433268604093624 \n",
      " apur:0.9418573213590861 \n",
      " f1:0.88715953307393 \n",
      " precision:0.8684611477907568 \n",
      " recall:0.9066808059384942 \n",
      ", 'Test':  best_epoch_indx:76\n",
      " auc:0.9447291289572382 \n",
      " apur:0.9421093271662674 \n",
      " f1:0.8872681808710148 \n",
      " precision:0.8719156342786936 \n",
      " recall:0.9031710679817584 \n",
      "}\n",
      "=====Epoch 77\n",
      "Training...\n"
     ]
    },
    {
     "name": "stderr",
     "output_type": "stream",
     "text": [
      "Iteration: 100%|██████████| 60/60 [00:03<00:00, 19.06it/s]s]\n",
      "Iteration: 100%|██████████| 214/214 [00:09<00:00, 22.04it/s]\n",
      "Iteration: 100%|██████████| 24/24 [00:01<00:00, 22.16it/s]]]\n",
      "Iteration:  43%|████▎     | 92/214 [00:07<00:09, 12.27it/s]]"
     ]
    },
    {
     "name": "stdout",
     "output_type": "stream",
     "text": [
      "{'Train':  best_epoch_indx:78\n",
      " auc:0.998325682522848 \n",
      " apur:0.9984910068679362 \n",
      " f1:0.9800971086129217 \n",
      " precision:0.9702927420751776 \n",
      " recall:0.9901016349977906 \n",
      ", 'Validation':  best_epoch_indx:78\n",
      " auc:0.9477244265857212 \n",
      " apur:0.9427319937437001 \n",
      " f1:0.8949973944762897 \n",
      " precision:0.8798668032786885 \n",
      " recall:0.9106574761399788 \n",
      ", 'Test':  best_epoch_indx:78\n",
      " auc:0.9477732224582838 \n",
      " apur:0.9449750291145917 \n",
      " f1:0.8943581186776515 \n",
      " precision:0.8796799671761206 \n",
      " recall:0.9095344151023438 \n",
      "}\n",
      "=====Epoch 79\n",
      "Training...\n"
     ]
    },
    {
     "name": "stderr",
     "output_type": "stream",
     "text": [
      "Iteration: 100%|██████████| 60/60 [00:03<00:00, 19.61it/s]s]\n",
      "Iteration: 100%|██████████| 24/24 [00:01<00:00, 22.12it/s]]]\n",
      "Iteration:   0%|          | 0/214 [00:00<?, ?it/s]12.37it/s]"
     ]
    },
    {
     "name": "stdout",
     "output_type": "stream",
     "text": [
      "{'Train':  best_epoch_indx:77\n",
      " auc:0.9965347957174033 \n",
      " apur:0.9968552239856842 \n",
      " f1:0.9721628654078177 \n",
      " precision:0.9595397285431433 \n",
      " recall:0.9851225547961349 \n",
      ", 'Validation':  best_epoch_indx:77\n",
      " auc:0.94734487497907 \n",
      " apur:0.9448607575980363 \n",
      " f1:0.8908830797242815 \n",
      " precision:0.8743936686239469 \n",
      " recall:0.9080063626723224 \n",
      ", 'Test':  best_epoch_indx:77\n",
      " auc:0.9482894530022505 \n",
      " apur:0.9476961583176255 \n",
      " f1:0.892048993149263 \n",
      " precision:0.87355153486481 \n",
      " recall:0.9113467656415695 \n",
      "}\n",
      "=====Epoch 78\n",
      "Training...\n"
     ]
    },
    {
     "name": "stderr",
     "output_type": "stream",
     "text": [
      "Iteration: 100%|██████████| 214/214 [00:17<00:00, 12.36it/s]\n",
      "Iteration:   1%|          | 2/214 [00:00<00:11, 18.55it/s]s]"
     ]
    },
    {
     "name": "stdout",
     "output_type": "stream",
     "text": [
      "Evaluating...\n"
     ]
    },
    {
     "name": "stderr",
     "output_type": "stream",
     "text": [
      "Iteration: 100%|██████████| 214/214 [00:17<00:00, 12.42it/s]\n",
      "Iteration:  71%|███████   | 152/214 [00:12<00:05, 12.27it/s]"
     ]
    },
    {
     "name": "stdout",
     "output_type": "stream",
     "text": [
      "Evaluating...\n"
     ]
    },
    {
     "name": "stderr",
     "output_type": "stream",
     "text": [
      "Iteration: 100%|██████████| 214/214 [00:17<00:00, 12.36it/s]\n",
      "Iteration:  49%|████▉     | 105/214 [00:05<00:04, 21.96it/s]"
     ]
    },
    {
     "name": "stdout",
     "output_type": "stream",
     "text": [
      "Evaluating...\n"
     ]
    },
    {
     "name": "stderr",
     "output_type": "stream",
     "text": [
      "Iteration: 100%|██████████| 214/214 [00:09<00:00, 22.05it/s]\n",
      "Iteration: 100%|██████████| 214/214 [00:17<00:00, 12.27it/s]\n",
      "Iteration:  30%|███       | 18/60 [00:00<00:02, 19.89it/s]]]"
     ]
    },
    {
     "name": "stdout",
     "output_type": "stream",
     "text": [
      "Evaluating...\n"
     ]
    },
    {
     "name": "stderr",
     "output_type": "stream",
     "text": [
      "Iteration: 100%|██████████| 60/60 [00:02<00:00, 21.48it/s]s]\n",
      "Iteration: 100%|██████████| 214/214 [00:10<00:00, 21.29it/s]\n",
      "Iteration: 100%|██████████| 24/24 [00:01<00:00, 22.32it/s]s]\n",
      "Iteration:  97%|█████████▋| 208/214 [00:16<00:00, 12.34it/s]"
     ]
    },
    {
     "name": "stdout",
     "output_type": "stream",
     "text": [
      "{'Train':  best_epoch_indx:76\n",
      " auc:0.9945160669691488 \n",
      " apur:0.9949875380650792 \n",
      " f1:0.9655262889378017 \n",
      " precision:0.9555946678977437 \n",
      " recall:0.9756665193695684 \n",
      ", 'Validation':  best_epoch_indx:76\n",
      " auc:0.942041221008996 \n",
      " apur:0.939000259346728 \n",
      " f1:0.8856880974204531 \n",
      " precision:0.8750323415265201 \n",
      " recall:0.8966065747613998 \n",
      ", 'Test':  best_epoch_indx:76\n",
      " auc:0.9440426524399681 \n",
      " apur:0.9416751131487616 \n",
      " f1:0.8871668673752553 \n",
      " precision:0.8761116856256463 \n",
      " recall:0.8985046134266624 \n",
      "}\n",
      "=====Epoch 77\n",
      "Training...\n"
     ]
    },
    {
     "name": "stderr",
     "output_type": "stream",
     "text": [
      "Iteration: 100%|██████████| 214/214 [00:17<00:00, 12.28it/s]\n",
      "Iteration:   0%|          | 0/214 [00:00<?, ?it/s]"
     ]
    },
    {
     "name": "stdout",
     "output_type": "stream",
     "text": [
      "Evaluating...\n"
     ]
    },
    {
     "name": "stderr",
     "output_type": "stream",
     "text": [
      "Iteration: 100%|██████████| 60/60 [00:03<00:00, 19.75it/s]]]\n",
      "Iteration: 100%|██████████| 214/214 [00:09<00:00, 22.17it/s]\n",
      "Iteration: 100%|██████████| 24/24 [00:01<00:00, 22.78it/s]]]\n",
      "Iteration:  74%|███████▍  | 159/214 [00:07<00:02, 20.80it/s]"
     ]
    },
    {
     "name": "stdout",
     "output_type": "stream",
     "text": [
      "{'Train':  best_epoch_indx:77\n",
      " auc:0.9955547528139428 \n",
      " apur:0.995962535136861 \n",
      " f1:0.9667943621250452 \n",
      " precision:0.9491626454726085 \n",
      " recall:0.9850935336573869 \n",
      ", 'Validation':  best_epoch_indx:77\n",
      " auc:0.9459461034340165 \n",
      " apur:0.9436275744822008 \n",
      " f1:0.893288763178195 \n",
      " precision:0.8671992011982027 \n",
      " recall:0.9209968186638389 \n",
      ", 'Test':  best_epoch_indx:77\n",
      " auc:0.9455864237938438 \n",
      " apur:0.9405960109575543 \n",
      " f1:0.8928645081460096 \n",
      " precision:0.8687669308718772 \n",
      " recall:0.9183370452858204 \n",
      "}\n",
      "=====Epoch 78\n",
      "Training...\n"
     ]
    },
    {
     "name": "stderr",
     "output_type": "stream",
     "text": [
      "Iteration: 100%|██████████| 214/214 [00:10<00:00, 21.05it/s]\n",
      "Iteration: 100%|██████████| 60/60 [00:03<00:00, 19.51it/s]s]\n",
      "Iteration: 100%|██████████| 24/24 [00:01<00:00, 22.75it/s]s]\n",
      "Iteration:  51%|█████▏    | 110/214 [00:08<00:08, 12.25it/s]"
     ]
    },
    {
     "name": "stdout",
     "output_type": "stream",
     "text": [
      "{'Train':  best_epoch_indx:77\n",
      " auc:0.9966291890653064 \n",
      " apur:0.9969738856606737 \n",
      " f1:0.9720861542060858 \n",
      " precision:0.9650447102543258 \n",
      " recall:0.9792311091471498 \n",
      ", 'Validation':  best_epoch_indx:77\n",
      " auc:0.9463250208029956 \n",
      " apur:0.9458302897258442 \n",
      " f1:0.8847515405795201 \n",
      " precision:0.8752269779507134 \n",
      " recall:0.8944856839872747 \n",
      ", 'Test':  best_epoch_indx:77\n",
      " auc:0.9465148876442979 \n",
      " apur:0.9438544714042015 \n",
      " f1:0.8902887139107611 \n",
      " precision:0.8814052593285521 \n",
      " recall:0.8993530597094072 \n",
      "}\n",
      "=====Epoch 78\n",
      "Training...\n"
     ]
    },
    {
     "name": "stderr",
     "output_type": "stream",
     "text": [
      "Iteration: 100%|██████████| 60/60 [00:02<00:00, 20.23it/s]]]\n",
      "Iteration: 100%|██████████| 214/214 [00:10<00:00, 21.26it/s]\n",
      "Iteration: 100%|██████████| 24/24 [00:01<00:00, 22.28it/s]]]\n",
      "Iteration:  68%|██████▊   | 146/214 [00:11<00:05, 12.25it/s]"
     ]
    },
    {
     "name": "stdout",
     "output_type": "stream",
     "text": [
      "{'Train':  best_epoch_indx:79\n",
      " auc:0.9987320340794437 \n",
      " apur:0.9988622220405887 \n",
      " f1:0.9829230881601052 \n",
      " precision:0.9748768472906404 \n",
      " recall:0.9911032552658713 \n",
      ", 'Validation':  best_epoch_indx:79\n",
      " auc:0.9492366870341524 \n",
      " apur:0.9443374498482169 \n",
      " f1:0.893020819693597 \n",
      " precision:0.8822768434670116 \n",
      " recall:0.9040296924708378 \n",
      ", 'Test':  best_epoch_indx:79\n",
      " auc:0.9484715171449473 \n",
      " apur:0.9455779109295254 \n",
      " f1:0.8936816206878502 \n",
      " precision:0.8823651023361587 \n",
      " recall:0.9052921836886202 \n",
      "}\n",
      "=====Epoch 80\n",
      "Training...\n"
     ]
    },
    {
     "name": "stderr",
     "output_type": "stream",
     "text": [
      "Iteration: 100%|██████████| 60/60 [00:02<00:00, 21.68it/s]s]\n",
      "Iteration: 100%|██████████| 24/24 [00:01<00:00, 20.00it/s]s]\n",
      "Iteration:  20%|█▉        | 42/214 [00:03<00:14, 11.93it/s]"
     ]
    },
    {
     "name": "stdout",
     "output_type": "stream",
     "text": [
      "{'Train':  best_epoch_indx:78\n",
      " auc:0.99765722582002 \n",
      " apur:0.997865704200384 \n",
      " f1:0.9772104680305415 \n",
      " precision:0.9667858378503056 \n",
      " recall:0.9878623615366486 \n",
      ", 'Validation':  best_epoch_indx:78\n",
      " auc:0.9485557139740317 \n",
      " apur:0.9460203977042836 \n",
      " f1:0.8935837245696401 \n",
      " precision:0.8793634496919918 \n",
      " recall:0.908271474019088 \n",
      ", 'Test':  best_epoch_indx:78\n",
      " auc:0.9495691742392075 \n",
      " apur:0.9482854456225949 \n",
      " f1:0.8930077575883792 \n",
      " precision:0.8771606832361665 \n",
      " recall:0.9094379639448569 \n",
      "}\n",
      "=====Epoch 79\n",
      "Training...\n"
     ]
    },
    {
     "name": "stderr",
     "output_type": "stream",
     "text": [
      "Iteration: 100%|██████████| 214/214 [00:17<00:00, 12.14it/s]\n",
      "Iteration:  77%|███████▋  | 164/214 [00:13<00:04, 12.23it/s]"
     ]
    },
    {
     "name": "stdout",
     "output_type": "stream",
     "text": [
      "Evaluating...\n"
     ]
    },
    {
     "name": "stderr",
     "output_type": "stream",
     "text": [
      "Iteration: 100%|██████████| 214/214 [00:17<00:00, 12.15it/s]\n",
      "Iteration:  42%|████▏     | 89/214 [00:04<00:06, 20.80it/s]"
     ]
    },
    {
     "name": "stdout",
     "output_type": "stream",
     "text": [
      "Evaluating...\n"
     ]
    },
    {
     "name": "stderr",
     "output_type": "stream",
     "text": [
      "Iteration: 100%|██████████| 214/214 [00:17<00:00, 12.25it/s]\n",
      "Iteration:  84%|████████▍ | 180/214 [00:08<00:01, 21.90it/s]"
     ]
    },
    {
     "name": "stdout",
     "output_type": "stream",
     "text": [
      "Evaluating...\n"
     ]
    },
    {
     "name": "stderr",
     "output_type": "stream",
     "text": [
      "Iteration: 100%|██████████| 214/214 [00:10<00:00, 21.06it/s]\n",
      "Iteration: 100%|██████████| 214/214 [00:17<00:00, 11.90it/s]\n",
      "Iteration:   0%|          | 0/214 [00:00<?, ?it/s]"
     ]
    },
    {
     "name": "stdout",
     "output_type": "stream",
     "text": [
      "Evaluating...\n"
     ]
    },
    {
     "name": "stderr",
     "output_type": "stream",
     "text": [
      "Iteration: 100%|██████████| 60/60 [00:03<00:00, 18.85it/s]s]\n",
      "Iteration: 100%|██████████| 214/214 [00:10<00:00, 20.69it/s]\n",
      "Iteration: 100%|██████████| 24/24 [00:01<00:00, 20.17it/s]]]\n",
      "Iteration: 100%|██████████| 214/214 [00:17<00:00, 12.28it/s]\n",
      "Iteration:  36%|███▋      | 78/214 [00:03<00:06, 22.07it/s]]"
     ]
    },
    {
     "name": "stdout",
     "output_type": "stream",
     "text": [
      "Evaluating...\n",
      "{'Train':  best_epoch_indx:77\n",
      " auc:0.9967184003795523 \n",
      " apur:0.9970301225868166 \n",
      " f1:0.9721427014459056 \n",
      " precision:0.9592486377975337 \n",
      " recall:0.9853881278538813 \n",
      ", 'Validation':  best_epoch_indx:77\n",
      " auc:0.9462608042387372 \n",
      " apur:0.9446289700021602 \n",
      " f1:0.8929592101844634 \n",
      " precision:0.8754457463066735 \n",
      " recall:0.91118769883351 \n",
      ", 'Test':  best_epoch_indx:77\n",
      " auc:0.9465917019720796 \n",
      " apur:0.944954937226202 \n",
      " f1:0.8932563822596579 \n",
      " precision:0.8761729906160751 \n",
      " recall:0.9110191960971471 \n",
      "}\n",
      "=====Epoch 78\n",
      "Training...\n"
     ]
    },
    {
     "name": "stderr",
     "output_type": "stream",
     "text": [
      "Iteration: 100%|██████████| 60/60 [00:02<00:00, 22.67it/s]s]\n",
      "Iteration: 100%|██████████| 214/214 [00:09<00:00, 22.28it/s]\n",
      "Iteration: 100%|██████████| 24/24 [00:01<00:00, 20.75it/s]]]\n",
      "Iteration:  74%|███████▍  | 159/214 [00:07<00:02, 22.02it/s]"
     ]
    },
    {
     "name": "stdout",
     "output_type": "stream",
     "text": [
      "{'Train':  best_epoch_indx:78\n",
      " auc:0.9970005662916088 \n",
      " apur:0.9972875892213746 \n",
      " f1:0.9733558276855057 \n",
      " precision:0.9612213828167638 \n",
      " recall:0.9858005597289733 \n",
      ", 'Validation':  best_epoch_indx:78\n",
      " auc:0.9475998781629433 \n",
      " apur:0.9468802469136186 \n",
      " f1:0.8912253374870197 \n",
      " precision:0.8730925737538149 \n",
      " recall:0.9101272534464475 \n",
      ", 'Test':  best_epoch_indx:78\n",
      " auc:0.9481668016467572 \n",
      " apur:0.942910883861296 \n",
      " f1:0.8960308365454734 \n",
      " precision:0.8804381205855256 \n",
      " recall:0.9121858097359211 \n",
      "}\n",
      "=====Epoch 79\n",
      "Training...\n"
     ]
    },
    {
     "name": "stderr",
     "output_type": "stream",
     "text": [
      "Iteration: 100%|██████████| 60/60 [00:02<00:00, 22.76it/s]]]\n",
      "Iteration: 100%|██████████| 214/214 [00:09<00:00, 21.94it/s]\n",
      "Iteration: 100%|██████████| 24/24 [00:01<00:00, 21.33it/s]s]\n",
      "Iteration:  13%|█▎        | 8/60 [00:00<00:02, 19.85it/s]/s]"
     ]
    },
    {
     "name": "stdout",
     "output_type": "stream",
     "text": [
      "{'Train':  best_epoch_indx:78\n",
      " auc:0.9976696795369404 \n",
      " apur:0.9979057055356537 \n",
      " f1:0.976577995566445 \n",
      " precision:0.9670161453369148 \n",
      " recall:0.9863308292826631 \n",
      ", 'Validation':  best_epoch_indx:78\n",
      " auc:0.947611254801179 \n",
      " apur:0.9463215511644416 \n",
      " f1:0.8887153455681374 \n",
      " precision:0.8729225262081309 \n",
      " recall:0.9050901378579003 \n",
      ", 'Test':  best_epoch_indx:78\n",
      " auc:0.9474184930843 \n",
      " apur:0.9441790302188319 \n",
      " f1:0.8919200333194502 \n",
      " precision:0.875958686982309 \n",
      " recall:0.9084738572489129 \n",
      "}\n",
      "=====Epoch 79\n",
      "Training...\n"
     ]
    },
    {
     "name": "stderr",
     "output_type": "stream",
     "text": [
      "Iteration: 100%|██████████| 60/60 [00:02<00:00, 21.56it/s]]]\n",
      "Iteration: 100%|██████████| 214/214 [00:10<00:00, 21.14it/s]\n",
      "Iteration: 100%|██████████| 24/24 [00:01<00:00, 22.11it/s]s]\n",
      "Iteration:  64%|██████▍   | 138/214 [00:11<00:06, 11.73it/s]"
     ]
    },
    {
     "name": "stdout",
     "output_type": "stream",
     "text": [
      "{'Train':  best_epoch_indx:80\n",
      " auc:0.9985797667136017 \n",
      " apur:0.9987279898008844 \n",
      " f1:0.9818187128524907 \n",
      " precision:0.9734738793003591 \n",
      " recall:0.9903078509353366 \n",
      ", 'Validation':  best_epoch_indx:80\n",
      " auc:0.9473620390360603 \n",
      " apur:0.9428144838195933 \n",
      " f1:0.894240837696335 \n",
      " precision:0.8831437435367114 \n",
      " recall:0.9056203605514316 \n",
      ", 'Test':  best_epoch_indx:80\n",
      " auc:0.9472997333024974 \n",
      " apur:0.9454366891601438 \n",
      " f1:0.8930344359094947 \n",
      " precision:0.8802018953440461 \n",
      " recall:0.9062466857567081 \n",
      "}\n",
      "=====Epoch 81\n",
      "Training...\n"
     ]
    },
    {
     "name": "stderr",
     "output_type": "stream",
     "text": [
      "Iteration: 100%|██████████| 60/60 [00:02<00:00, 22.47it/s]s]\n",
      "Iteration: 100%|██████████| 24/24 [00:01<00:00, 22.08it/s]]]\n",
      "Iteration:  85%|████████▌ | 182/214 [00:14<00:02, 12.27it/s]"
     ]
    },
    {
     "name": "stdout",
     "output_type": "stream",
     "text": [
      "{'Train':  best_epoch_indx:79\n",
      " auc:0.9984279184930023 \n",
      " apur:0.9985768614608036 \n",
      " f1:0.981119401895361 \n",
      " precision:0.9726685775500159 \n",
      " recall:0.9897183596511901 \n",
      ", 'Validation':  best_epoch_indx:79\n",
      " auc:0.9499029933481152 \n",
      " apur:0.9465407762571433 \n",
      " f1:0.8965427266797129 \n",
      " precision:0.8826098124839455 \n",
      " recall:0.9109225874867445 \n",
      ", 'Test':  best_epoch_indx:79\n",
      " auc:0.9509508677219022 \n",
      " apur:0.949573007416722 \n",
      " f1:0.8955052664511419 \n",
      " precision:0.8808986458760771 \n",
      " recall:0.9106044538706256 \n",
      "}\n",
      "=====Epoch 80\n",
      "Training...\n"
     ]
    },
    {
     "name": "stderr",
     "output_type": "stream",
     "text": [
      "Iteration: 100%|██████████| 214/214 [00:17<00:00, 12.26it/s]\n",
      "Iteration:  36%|███▌      | 76/214 [00:06<00:11, 11.95it/s]"
     ]
    },
    {
     "name": "stdout",
     "output_type": "stream",
     "text": [
      "Evaluating...\n"
     ]
    },
    {
     "name": "stderr",
     "output_type": "stream",
     "text": [
      "Iteration: 100%|██████████| 214/214 [00:17<00:00, 12.31it/s]\n",
      "Iteration:  38%|███▊      | 81/214 [00:03<00:05, 22.31it/s]]"
     ]
    },
    {
     "name": "stdout",
     "output_type": "stream",
     "text": [
      "Evaluating...\n"
     ]
    },
    {
     "name": "stderr",
     "output_type": "stream",
     "text": [
      "Iteration: 100%|██████████| 214/214 [00:17<00:00, 12.29it/s]\n",
      "Iteration:   1%|▏         | 3/214 [00:00<00:09, 21.65it/s]s]"
     ]
    },
    {
     "name": "stdout",
     "output_type": "stream",
     "text": [
      "Evaluating...\n"
     ]
    },
    {
     "name": "stderr",
     "output_type": "stream",
     "text": [
      "Iteration: 100%|██████████| 214/214 [00:09<00:00, 22.33it/s]\n",
      "Iteration: 100%|██████████| 214/214 [00:17<00:00, 12.27it/s]\n",
      "Iteration:  77%|███████▋  | 164/214 [00:07<00:02, 22.20it/s]"
     ]
    },
    {
     "name": "stdout",
     "output_type": "stream",
     "text": [
      "Evaluating...\n"
     ]
    },
    {
     "name": "stderr",
     "output_type": "stream",
     "text": [
      "Iteration: 100%|██████████| 60/60 [00:02<00:00, 20.25it/s]s]\n",
      "Iteration: 100%|██████████| 214/214 [00:09<00:00, 21.76it/s]\n",
      "Iteration: 100%|██████████| 24/24 [00:01<00:00, 20.63it/s]s]\n",
      "Iteration:   0%|          | 0/214 [00:00<?, ?it/s]22.06it/s]"
     ]
    },
    {
     "name": "stdout",
     "output_type": "stream",
     "text": [
      "{'Train':  best_epoch_indx:78\n",
      " auc:0.9978511930844702 \n",
      " apur:0.9980729348171784 \n",
      " f1:0.9764613459803893 \n",
      " precision:0.9645618371511511 \n",
      " recall:0.9886581234349683 \n",
      ", 'Validation':  best_epoch_indx:78\n",
      " auc:0.9468445803756715 \n",
      " apur:0.9445016821955589 \n",
      " f1:0.8962558502340093 \n",
      " precision:0.8793367346938775 \n",
      " recall:0.9138388123011665 \n",
      ", 'Test':  best_epoch_indx:78\n",
      " auc:0.9483718724326506 \n",
      " apur:0.9464324088809317 \n",
      " f1:0.8924983080847518 \n",
      " precision:0.876482617586912 \n",
      " recall:0.9091101919609714 \n",
      "}\n",
      "=====Epoch 79\n",
      "Training...\n"
     ]
    },
    {
     "name": "stderr",
     "output_type": "stream",
     "text": [
      "Iteration: 100%|██████████| 214/214 [00:17<00:00, 12.08it/s]\n",
      "Iteration:   0%|          | 0/214 [00:00<?, ?it/s]"
     ]
    },
    {
     "name": "stdout",
     "output_type": "stream",
     "text": [
      "Evaluating...\n"
     ]
    },
    {
     "name": "stderr",
     "output_type": "stream",
     "text": [
      "Iteration: 100%|██████████| 214/214 [00:09<00:00, 22.24it/s]\n",
      "Iteration: 100%|██████████| 60/60 [00:02<00:00, 20.79it/s]]\n",
      "Iteration: 100%|██████████| 60/60 [00:02<00:00, 22.67it/s]s]\n",
      "Iteration: 100%|██████████| 214/214 [00:10<00:00, 21.25it/s]\n",
      "Iteration: 100%|██████████| 24/24 [00:01<00:00, 22.19it/s]s]\n",
      "Iteration:   0%|          | 0/214 [00:00<?, ?it/s]21.40it/s]"
     ]
    },
    {
     "name": "stdout",
     "output_type": "stream",
     "text": [
      "{'Train':  best_epoch_indx:79\n",
      " auc:0.998475039416682 \n",
      " apur:0.9986339295571574 \n",
      " f1:0.9801042850068455 \n",
      " precision:0.9692622360498948 \n",
      " recall:0.9911916335248195 \n",
      ", 'Validation':  best_epoch_indx:79\n",
      " auc:0.9489443431073586 \n",
      " apur:0.947172251826113 \n",
      " f1:0.8948251387275777 \n",
      " precision:0.8717626351521247 \n",
      " recall:0.9191410392364793 \n",
      ", 'Test':  best_epoch_indx:79\n",
      " auc:0.9492004015403969 \n",
      " apur:0.9460981030090284 \n",
      " f1:0.8957588938946714 \n",
      " precision:0.8752276867030966 \n",
      " recall:0.9172764874323894 \n",
      "}\n",
      "=====Epoch 80\n",
      "Training...\n"
     ]
    },
    {
     "name": "stderr",
     "output_type": "stream",
     "text": [
      "Iteration: 100%|██████████| 60/60 [00:02<00:00, 22.57it/s]]]\n",
      "Iteration: 100%|██████████| 214/214 [00:10<00:00, 21.35it/s]\n",
      "Iteration: 100%|██████████| 24/24 [00:01<00:00, 22.44it/s]]]\n",
      "Iteration:  23%|██▎       | 50/214 [00:04<00:13, 12.20it/s]]"
     ]
    },
    {
     "name": "stdout",
     "output_type": "stream",
     "text": [
      "{'Train':  best_epoch_indx:81\n",
      " auc:0.9981163434659005 \n",
      " apur:0.9983077056324674 \n",
      " f1:0.9790252660156764 \n",
      " precision:0.9702308626974484 \n",
      " recall:0.9879805567830314 \n",
      ", 'Validation':  best_epoch_indx:81\n",
      " auc:0.9460211020386936 \n",
      " apur:0.9397425590526925 \n",
      " f1:0.8913554452859753 \n",
      " precision:0.8782810087493567 \n",
      " recall:0.9048250265111347 \n",
      ", 'Test':  best_epoch_indx:81\n",
      " auc:0.9453048720662599 \n",
      " apur:0.9423113054605082 \n",
      " f1:0.8898996235884566 \n",
      " precision:0.8775131456851222 \n",
      " recall:0.902640789055043 \n",
      "}\n",
      "=====Epoch 82\n",
      "Training...\n"
     ]
    },
    {
     "name": "stderr",
     "output_type": "stream",
     "text": [
      "Iteration: 100%|██████████| 60/60 [00:02<00:00, 22.30it/s]s]\n",
      "Iteration: 100%|██████████| 24/24 [00:01<00:00, 22.11it/s]]]\n",
      "Iteration:  47%|████▋     | 100/214 [00:08<00:09, 12.43it/s]"
     ]
    },
    {
     "name": "stdout",
     "output_type": "stream",
     "text": [
      "{'Train':  best_epoch_indx:80\n",
      " auc:0.9984974812849107 \n",
      " apur:0.9986476484685948 \n",
      " f1:0.9818612333192044 \n",
      " precision:0.974327734748934 \n",
      " recall:0.9895121376384634 \n",
      ", 'Validation':  best_epoch_indx:80\n",
      " auc:0.9492166689076398 \n",
      " apur:0.9462635393959137 \n",
      " f1:0.8941238057845832 \n",
      " precision:0.882915482036702 \n",
      " recall:0.9056203605514316 \n",
      ", 'Test':  best_epoch_indx:80\n",
      " auc:0.9504643048297777 \n",
      " apur:0.9489757492039192 \n",
      " f1:0.8952630201517926 \n",
      " precision:0.8839276485788113 \n",
      " recall:0.9068928950159066 \n",
      "}\n",
      "=====Epoch 81\n",
      "Training...\n"
     ]
    },
    {
     "name": "stderr",
     "output_type": "stream",
     "text": [
      "Iteration: 100%|██████████| 214/214 [00:17<00:00, 12.22it/s]\n",
      "Iteration:  12%|█▏        | 26/214 [00:02<00:15, 12.30it/s]]"
     ]
    },
    {
     "name": "stdout",
     "output_type": "stream",
     "text": [
      "Evaluating...\n"
     ]
    },
    {
     "name": "stderr",
     "output_type": "stream",
     "text": [
      "Iteration: 100%|██████████| 24/24 [00:01<00:00, 20.93it/s]]]\n",
      "Iteration:  82%|████████▏ | 176/214 [00:14<00:03, 12.55it/s]"
     ]
    },
    {
     "name": "stdout",
     "output_type": "stream",
     "text": [
      "{'Train':  best_epoch_indx:79\n",
      " auc:0.9979019781323865 \n",
      " apur:0.9980977807949544 \n",
      " f1:0.9774379142087248 \n",
      " precision:0.9666666666666667 \n",
      " recall:0.9884519074974223 \n",
      ", 'Validation':  best_epoch_indx:79\n",
      " auc:0.9494517332447092 \n",
      " apur:0.9481594631323149 \n",
      " f1:0.893970893970894 \n",
      " precision:0.8766564729867482 \n",
      " recall:0.911983032873807 \n",
      ", 'Test':  best_epoch_indx:79\n",
      " auc:0.9500151281727298 \n",
      " apur:0.9449535932312835 \n",
      " f1:0.898464431212786 \n",
      " precision:0.885149737573325 \n",
      " recall:0.9121858097359211 \n",
      "}\n",
      "=====Epoch 80\n",
      "Training...\n"
     ]
    },
    {
     "name": "stderr",
     "output_type": "stream",
     "text": [
      "Iteration: 100%|██████████| 214/214 [00:17<00:00, 12.05it/s]\n",
      "Iteration:  77%|███████▋  | 164/214 [00:13<00:04, 12.02it/s]"
     ]
    },
    {
     "name": "stdout",
     "output_type": "stream",
     "text": [
      "Evaluating...\n"
     ]
    },
    {
     "name": "stderr",
     "output_type": "stream",
     "text": [
      "Iteration: 100%|██████████| 214/214 [00:09<00:00, 21.51it/s]\n",
      "Iteration: 100%|██████████| 214/214 [00:17<00:00, 12.15it/s]\n",
      "Iteration:   0%|          | 0/214 [00:00<?, ?it/s]"
     ]
    },
    {
     "name": "stdout",
     "output_type": "stream",
     "text": [
      "Evaluating...\n"
     ]
    },
    {
     "name": "stderr",
     "output_type": "stream",
     "text": [
      "Iteration: 100%|██████████| 60/60 [00:02<00:00, 22.62it/s]s]\n",
      "Iteration: 100%|██████████| 214/214 [00:17<00:00, 12.28it/s]\n",
      "Iteration:  37%|███▋      | 80/214 [00:04<00:07, 17.54it/s]]"
     ]
    },
    {
     "name": "stdout",
     "output_type": "stream",
     "text": [
      "Evaluating...\n"
     ]
    },
    {
     "name": "stderr",
     "output_type": "stream",
     "text": [
      "Iteration: 100%|██████████| 214/214 [00:09<00:00, 22.11it/s]\n",
      "Iteration: 100%|██████████| 60/60 [00:02<00:00, 22.50it/s]s]\n",
      "Iteration: 100%|██████████| 24/24 [00:01<00:00, 20.60it/s]s]\n"
     ]
    },
    {
     "name": "stdout",
     "output_type": "stream",
     "text": [
      "{'Train':  best_epoch_indx:80\n",
      " auc:0.9983059541535898 \n",
      " apur:0.9984702077049852 \n",
      " f1:0.979639460941602 \n",
      " precision:0.9701031225627545 \n",
      " recall:0.9893651495065547 \n",
      ", 'Validation':  best_epoch_indx:80\n",
      " auc:0.9472094255963104 \n",
      " apur:0.945235778979824 \n",
      " f1:0.8911044930726402 \n",
      " precision:0.8709187547456341 \n",
      " recall:0.9122481442205727 \n",
      ", 'Test':  best_epoch_indx:80\n",
      " auc:0.9483286889525899 \n",
      " apur:0.9460437934557977 \n",
      " f1:0.8935485545232781 \n",
      " precision:0.8749745883309615 \n",
      " recall:0.9129282002333228 \n",
      "}\n",
      "=====Epoch 81\n",
      "Training...\n",
      "Evaluating...\n"
     ]
    },
    {
     "name": "stderr",
     "output_type": "stream",
     "text": [
      "Iteration: 100%|██████████| 214/214 [00:17<00:00, 12.09it/s]\n",
      "Iteration: 100%|██████████| 214/214 [00:10<00:00, 20.37it/s]\n",
      "Iteration: 100%|██████████| 214/214 [00:10<00:00, 21.32it/s]\n",
      "Iteration: 100%|██████████| 60/60 [00:02<00:00, 21.43it/s]]\n",
      "Iteration: 100%|██████████| 24/24 [00:01<00:00, 22.21it/s]s]\n",
      "Iteration:  35%|███▌      | 21/60 [00:00<00:01, 22.53it/s]s]"
     ]
    },
    {
     "name": "stdout",
     "output_type": "stream",
     "text": [
      "{'Train':  best_epoch_indx:82\n",
      " auc:0.9973376794664883 \n",
      " apur:0.9975951735720723 \n",
      " f1:0.9754703222983812 \n",
      " precision:0.9658916967509025 \n",
      " recall:0.9852408307556341 \n",
      ", 'Validation':  best_epoch_indx:82\n",
      " auc:0.9443469127847092 \n",
      " apur:0.940954521899682 \n",
      " f1:0.8884831094300247 \n",
      " precision:0.8744544287548138 \n",
      " recall:0.9029692470837752 \n",
      ", 'Test':  best_epoch_indx:82\n",
      " auc:0.944497197438761 \n",
      " apur:0.9419231194769929 \n",
      " f1:0.8906975530860334 \n",
      " precision:0.8765660299856234 \n",
      " recall:0.9052921836886202 \n",
      "}\n",
      "=====Epoch 83\n",
      "Training...\n"
     ]
    },
    {
     "name": "stderr",
     "output_type": "stream",
     "text": [
      "Iteration: 100%|██████████| 60/60 [00:02<00:00, 22.65it/s]]]\n",
      "Iteration: 100%|██████████| 24/24 [00:01<00:00, 21.26it/s]]]\n",
      "Iteration:  88%|████████▊ | 189/214 [00:08<00:01, 22.42it/s]"
     ]
    },
    {
     "name": "stdout",
     "output_type": "stream",
     "text": [
      "{'Train':  best_epoch_indx:81\n",
      " auc:0.9980321687936351 \n",
      " apur:0.9982317564389704 \n",
      " f1:0.9789144693401418 \n",
      " precision:0.9751512848247434 \n",
      " recall:0.9827068112184775 \n",
      ", 'Validation':  best_epoch_indx:81\n",
      " auc:0.9473379776443903 \n",
      " apur:0.9437790453580728 \n",
      " f1:0.890153520381154 \n",
      " precision:0.8887420718816068 \n",
      " recall:0.8915694591728526 \n",
      ", 'Test':  best_epoch_indx:81\n",
      " auc:0.948808524463634 \n",
      " apur:0.9474416185091536 \n",
      " f1:0.8917963597995252 \n",
      " precision:0.8873490813648294 \n",
      " recall:0.8962884411452811 \n",
      "}\n",
      "=====Epoch 82\n",
      "Training...\n"
     ]
    },
    {
     "name": "stderr",
     "output_type": "stream",
     "text": [
      "Iteration: 100%|██████████| 214/214 [00:09<00:00, 22.22it/s]\n",
      "Iteration: 100%|██████████| 24/24 [00:01<00:00, 17.80it/s]]]\n",
      "Iteration:  13%|█▎        | 28/214 [00:02<00:14, 12.44it/s]]"
     ]
    },
    {
     "name": "stdout",
     "output_type": "stream",
     "text": [
      "{'Train':  best_epoch_indx:79\n",
      " auc:0.9986259584944833 \n",
      " apur:0.9987671148053534 \n",
      " f1:0.9814601414922326 \n",
      " precision:0.9720312048540884 \n",
      " recall:0.9910737958462218 \n",
      ", 'Validation':  best_epoch_indx:79\n",
      " auc:0.9485686762064467 \n",
      " apur:0.9458493023840149 \n",
      " f1:0.8926332288401254 \n",
      " precision:0.879763130792997 \n",
      " recall:0.9058854718981972 \n",
      ", 'Test':  best_epoch_indx:79\n",
      " auc:0.9502392598219582 \n",
      " apur:0.9484822411698903 \n",
      " f1:0.8964941569282137 \n",
      " precision:0.8822261012424274 \n",
      " recall:0.9112313076678333 \n",
      "}\n",
      "=====Epoch 80\n",
      "Training...\n"
     ]
    },
    {
     "name": "stderr",
     "output_type": "stream",
     "text": [
      "Iteration: 100%|██████████| 60/60 [00:02<00:00, 22.41it/s]s]\n",
      "Iteration: 100%|██████████| 24/24 [00:01<00:00, 19.36it/s]]]\n",
      "Iteration:  35%|███▍      | 74/214 [00:06<00:11, 12.30it/s]]"
     ]
    },
    {
     "name": "stdout",
     "output_type": "stream",
     "text": [
      "{'Train':  best_epoch_indx:80\n",
      " auc:0.9977065273054234 \n",
      " apur:0.9979351292438821 \n",
      " f1:0.9770952248872278 \n",
      " precision:0.9684569973376548 \n",
      " recall:0.9858889379879217 \n",
      ", 'Validation':  best_epoch_indx:80\n",
      " auc:0.9489545305499603 \n",
      " apur:0.9478139533036641 \n",
      " f1:0.8945511564092513 \n",
      " precision:0.8819891780468951 \n",
      " recall:0.9074761399787911 \n",
      ", 'Test':  best_epoch_indx:80\n",
      " auc:0.949637742107851 \n",
      " apur:0.9441006282884316 \n",
      " f1:0.8939855148525244 \n",
      " precision:0.8848831168831169 \n",
      " recall:0.9032771237671015 \n",
      "}\n",
      "=====Epoch 81\n",
      "Training...\n"
     ]
    },
    {
     "name": "stderr",
     "output_type": "stream",
     "text": [
      "Iteration: 100%|██████████| 214/214 [00:17<00:00, 12.35it/s]\n",
      "Iteration:  70%|███████   | 150/214 [00:12<00:05, 12.21it/s]"
     ]
    },
    {
     "name": "stdout",
     "output_type": "stream",
     "text": [
      "Evaluating...\n"
     ]
    },
    {
     "name": "stderr",
     "output_type": "stream",
     "text": [
      "Iteration: 100%|██████████| 214/214 [00:17<00:00, 12.17it/s]\n",
      "Iteration:  57%|█████▋    | 121/214 [00:05<00:04, 22.26it/s]"
     ]
    },
    {
     "name": "stdout",
     "output_type": "stream",
     "text": [
      "Evaluating...\n"
     ]
    },
    {
     "name": "stderr",
     "output_type": "stream",
     "text": [
      "Iteration: 100%|██████████| 214/214 [00:17<00:00, 12.25it/s]\n",
      "Iteration:  85%|████████▌ | 182/214 [00:15<00:02, 12.54it/s]"
     ]
    },
    {
     "name": "stdout",
     "output_type": "stream",
     "text": [
      "Evaluating...\n"
     ]
    },
    {
     "name": "stderr",
     "output_type": "stream",
     "text": [
      "Iteration: 100%|██████████| 214/214 [00:10<00:00, 21.24it/s]\n",
      "Iteration: 100%|██████████| 214/214 [00:17<00:00, 12.03it/s]\n",
      "Iteration:  29%|██▉       | 63/214 [00:02<00:06, 22.30it/s]]"
     ]
    },
    {
     "name": "stdout",
     "output_type": "stream",
     "text": [
      "Evaluating...\n"
     ]
    },
    {
     "name": "stderr",
     "output_type": "stream",
     "text": [
      "Iteration: 100%|██████████| 60/60 [00:02<00:00, 22.98it/s]s]\n",
      "Iteration: 100%|██████████| 214/214 [00:17<00:00, 12.38it/s]\n",
      "Iteration:  87%|████████▋ | 187/214 [00:09<00:01, 21.90it/s]"
     ]
    },
    {
     "name": "stdout",
     "output_type": "stream",
     "text": [
      "Evaluating...\n"
     ]
    },
    {
     "name": "stderr",
     "output_type": "stream",
     "text": [
      "Iteration: 100%|██████████| 24/24 [00:01<00:00, 20.99it/s]s]\n",
      "Iteration:  38%|███▊      | 81/214 [00:03<00:05, 22.26it/s]]"
     ]
    },
    {
     "name": "stdout",
     "output_type": "stream",
     "text": [
      "{'Train':  best_epoch_indx:81\n",
      " auc:0.9979004965469662 \n",
      " apur:0.9981205555490119 \n",
      " f1:0.9778279614042291 \n",
      " precision:0.9734882770299863 \n",
      " recall:0.9822065105317426 \n",
      ", 'Validation':  best_epoch_indx:81\n",
      " auc:0.9464990794040194 \n",
      " apur:0.9454385776358472 \n",
      " f1:0.8883934426229508 \n",
      " precision:0.8790552815987542 \n",
      " recall:0.897932131495228 \n",
      ", 'Test':  best_epoch_indx:81\n",
      " auc:0.9467683558968285 \n",
      " apur:0.9436942388717428 \n",
      " f1:0.8889473684210526 \n",
      " precision:0.8823529411764706 \n",
      " recall:0.895641107222399 \n",
      "}\n",
      "=====Epoch 82\n",
      "Training...\n"
     ]
    },
    {
     "name": "stderr",
     "output_type": "stream",
     "text": [
      "Iteration: 100%|██████████| 214/214 [00:10<00:00, 20.60it/s]\n",
      "Iteration: 100%|██████████| 214/214 [00:09<00:00, 22.01it/s]\n",
      "Iteration: 100%|██████████| 60/60 [00:03<00:00, 17.89it/s]s]\n",
      "Iteration: 100%|██████████| 214/214 [00:09<00:00, 22.23it/s]\n",
      "Iteration: 100%|██████████| 24/24 [00:01<00:00, 18.93it/s]s]\n",
      "Iteration:  77%|███████▋  | 46/60 [00:02<00:00, 19.09it/s]s]"
     ]
    },
    {
     "name": "stdout",
     "output_type": "stream",
     "text": [
      "{'Train':  best_epoch_indx:83\n",
      " auc:0.9953428827566734 \n",
      " apur:0.9957038577238025 \n",
      " f1:0.9684688619093371 \n",
      " precision:0.9572649572649573 \n",
      " recall:0.9799381352187362 \n",
      ", 'Validation':  best_epoch_indx:83\n",
      " auc:0.9404094860391604 \n",
      " apur:0.936389357567087 \n",
      " f1:0.8860759493670887 \n",
      " precision:0.872526342842457 \n",
      " recall:0.9000530222693531 \n",
      ", 'Test':  best_epoch_indx:83\n",
      " auc:0.9399824740879859 \n",
      " apur:0.9383712961797968 \n",
      " f1:0.8816676244710308 \n",
      " precision:0.8688220757825371 \n",
      " recall:0.8948987167249973 \n",
      "}\n",
      "=====Epoch 84\n",
      "Training...\n"
     ]
    },
    {
     "name": "stderr",
     "output_type": "stream",
     "text": [
      "Iteration: 100%|██████████| 60/60 [00:03<00:00, 19.95it/s]s]\n",
      "Iteration: 100%|██████████| 24/24 [00:01<00:00, 19.59it/s]s]\n",
      "Iteration:   0%|          | 0/214 [00:00<?, ?it/s]12.26it/s]"
     ]
    },
    {
     "name": "stdout",
     "output_type": "stream",
     "text": [
      "{'Train':  best_epoch_indx:82\n",
      " auc:0.9969668884184292 \n",
      " apur:0.9972620198732849 \n",
      " f1:0.97413034551534 \n",
      " precision:0.969863333722696 \n",
      " recall:0.9784350695262786 \n",
      ", 'Validation':  best_epoch_indx:82\n",
      " auc:0.9454547674377306 \n",
      " apur:0.9427030134459284 \n",
      " f1:0.8882754994742377 \n",
      " precision:0.8808654848800834 \n",
      " recall:0.8958112407211029 \n",
      ", 'Test':  best_epoch_indx:82\n",
      " auc:0.946682153220467 \n",
      " apur:0.9459829629185706 \n",
      " f1:0.8883855675533316 \n",
      " precision:0.8825745682888541 \n",
      " recall:0.8942735949098621 \n",
      "}\n",
      "=====Epoch 83\n",
      "Training...\n"
     ]
    },
    {
     "name": "stderr",
     "output_type": "stream",
     "text": [
      "Iteration: 100%|██████████| 60/60 [00:02<00:00, 22.08it/s]]]\n",
      "Iteration: 100%|██████████| 214/214 [00:10<00:00, 21.08it/s]\n",
      "Iteration: 100%|██████████| 24/24 [00:01<00:00, 20.54it/s]]]\n",
      "Iteration:  14%|█▍        | 30/214 [00:02<00:15, 11.89it/s]]"
     ]
    },
    {
     "name": "stdout",
     "output_type": "stream",
     "text": [
      "{'Train':  best_epoch_indx:80\n",
      " auc:0.9984622225036272 \n",
      " apur:0.998622710764654 \n",
      " f1:0.9801594821930989 \n",
      " precision:0.9701604524991343 \n",
      " recall:0.9903667697746354 \n",
      ", 'Validation':  best_epoch_indx:80\n",
      " auc:0.9480681437639218 \n",
      " apur:0.9457937172156705 \n",
      " f1:0.8936170212765957 \n",
      " precision:0.8801748521470815 \n",
      " recall:0.9074761399787911 \n",
      ", 'Test':  best_epoch_indx:80\n",
      " auc:0.9491731264281374 \n",
      " apur:0.9477561805576412 \n",
      " f1:0.8950062682824906 \n",
      " precision:0.8818322182192486 \n",
      " recall:0.908579913034256 \n",
      "}\n",
      "=====Epoch 81\n",
      "Training...\n"
     ]
    },
    {
     "name": "stderr",
     "output_type": "stream",
     "text": [
      "Iteration: 100%|██████████| 60/60 [00:02<00:00, 22.11it/s]]]\n",
      "Iteration: 100%|██████████| 24/24 [00:01<00:00, 21.37it/s]]]\n",
      "Iteration:   0%|          | 0/214 [00:00<?, ?it/s]2.16it/s]"
     ]
    },
    {
     "name": "stdout",
     "output_type": "stream",
     "text": [
      "{'Train':  best_epoch_indx:81\n",
      " auc:0.9968774968103821 \n",
      " apur:0.9971864548164642 \n",
      " f1:0.9724447805034098 \n",
      " precision:0.9601447194624706 \n",
      " recall:0.9850640742377376 \n",
      ", 'Validation':  best_epoch_indx:81\n",
      " auc:0.9448817733412148 \n",
      " apur:0.9439292502280578 \n",
      " f1:0.8886587260486795 \n",
      " precision:0.868421052631579 \n",
      " recall:0.9098621420996819 \n",
      ", 'Test':  best_epoch_indx:81\n",
      " auc:0.946227230355703 \n",
      " apur:0.9405844899848073 \n",
      " f1:0.893428526760123 \n",
      " precision:0.8782786885245901 \n",
      " recall:0.9091101919609714 \n",
      "}\n",
      "=====Epoch 82\n",
      "Training...\n"
     ]
    },
    {
     "name": "stderr",
     "output_type": "stream",
     "text": [
      "Iteration: 100%|██████████| 214/214 [00:17<00:00, 12.31it/s]\n",
      "Iteration:   0%|          | 0/214 [00:00<?, ?it/s]"
     ]
    },
    {
     "name": "stdout",
     "output_type": "stream",
     "text": [
      "Evaluating...\n"
     ]
    },
    {
     "name": "stderr",
     "output_type": "stream",
     "text": [
      "Iteration: 100%|██████████| 214/214 [00:17<00:00, 12.10it/s]\n",
      "Iteration:  56%|█████▌    | 120/214 [00:09<00:07, 12.32it/s]"
     ]
    },
    {
     "name": "stdout",
     "output_type": "stream",
     "text": [
      "Evaluating...\n"
     ]
    },
    {
     "name": "stderr",
     "output_type": "stream",
     "text": [
      "Iteration: 100%|██████████| 214/214 [00:17<00:00, 12.07it/s]\n",
      "Iteration:  24%|██▍       | 51/214 [00:02<00:07, 21.99it/s]"
     ]
    },
    {
     "name": "stdout",
     "output_type": "stream",
     "text": [
      "Evaluating...\n"
     ]
    },
    {
     "name": "stderr",
     "output_type": "stream",
     "text": [
      "Iteration: 100%|██████████| 214/214 [00:09<00:00, 21.43it/s]\n",
      "Iteration: 100%|██████████| 214/214 [00:17<00:00, 12.24it/s]\n",
      "Iteration:  81%|████████▏ | 174/214 [00:14<00:03, 12.28it/s]"
     ]
    },
    {
     "name": "stdout",
     "output_type": "stream",
     "text": [
      "Evaluating...\n"
     ]
    },
    {
     "name": "stderr",
     "output_type": "stream",
     "text": [
      "Iteration: 100%|██████████| 60/60 [00:02<00:00, 20.75it/s]]]\n",
      "Iteration: 100%|██████████| 214/214 [00:17<00:00, 12.33it/s]\n",
      "Iteration:  36%|███▋      | 78/214 [00:03<00:06, 22.04it/s]]"
     ]
    },
    {
     "name": "stdout",
     "output_type": "stream",
     "text": [
      "Evaluating...\n"
     ]
    },
    {
     "name": "stderr",
     "output_type": "stream",
     "text": [
      "\r",
      "Iteration:  81%|████████▏ | 174/214 [00:07<00:01, 21.94it/s]\r",
      "Iteration:  59%|█████▉    | 126/214 [00:05<00:03, 22.05it/s]\r",
      "Iteration:   3%|▎         | 6/214 [00:00<00:09, 21.52it/s]\r",
      "Iteration:  92%|█████████▏| 22/24 [00:01<00:00, 21.22it/s]\r",
      "Iteration:  38%|███▊      | 81/214 [00:03<00:06, 21.96it/s]\r",
      "Iteration:  83%|████████▎ | 177/214 [00:08<00:01, 21.99it/s]\r",
      "Iteration: 100%|██████████| 24/24 [00:01<00:00, 20.74it/s]\n",
      "\r",
      "Iteration:  60%|██████    | 129/214 [00:05<00:03, 22.09it/s]\r",
      "Iteration:   4%|▍         | 9/214 [00:00<00:09, 21.82it/s]"
     ]
    },
    {
     "name": "stdout",
     "output_type": "stream",
     "text": [
      "{'Train':  best_epoch_indx:82\n",
      " auc:0.9970845492294224 \n",
      " apur:0.9973815694468546 \n",
      " f1:0.9737026035296172 \n",
      " precision:0.9626846333246956 \n",
      " recall:0.9849756959787892 \n",
      ", 'Validation':  best_epoch_indx:82\n",
      " auc:0.9422241589374236 \n",
      " apur:0.9409516716161569 \n",
      " f1:0.8867046042421107 \n",
      " precision:0.8656565656565657 \n",
      " recall:0.9088016967126193 \n",
      ", 'Test':  best_epoch_indx:82\n",
      " auc:0.9431388947667814 \n",
      " apur:0.9404730083908632 \n",
      " f1:0.8892341152710891 \n",
      " precision:0.8688524590163934 \n",
      " recall:0.9105949729557747 \n",
      "}\n",
      "=====Epoch 83\n",
      "Training...\n"
     ]
    },
    {
     "name": "stderr",
     "output_type": "stream",
     "text": [
      "Iteration: 100%|██████████| 214/214 [00:09<00:00, 21.99it/s]\n",
      "Iteration: 100%|██████████| 214/214 [00:09<00:00, 22.14it/s]\n",
      "Iteration: 100%|██████████| 60/60 [00:02<00:00, 22.63it/s]s]\n",
      "Iteration: 100%|██████████| 24/24 [00:01<00:00, 21.66it/s]]]\n",
      "Iteration: 100%|██████████| 214/214 [00:10<00:00, 21.14it/s]\n",
      "Iteration:  60%|██████    | 36/60 [00:01<00:01, 18.49it/s]s]"
     ]
    },
    {
     "name": "stdout",
     "output_type": "stream",
     "text": [
      "{'Train':  best_epoch_indx:84\n",
      " auc:0.9937690062873763 \n",
      " apur:0.9943519268910458 \n",
      " f1:0.9637486886583518 \n",
      " precision:0.95344077031741 \n",
      " recall:0.9742819266460451 \n",
      ", 'Validation':  best_epoch_indx:84\n",
      " auc:0.9391003798449415 \n",
      " apur:0.9359551458742239 \n",
      " f1:0.8829745596868885 \n",
      " precision:0.8692525044952479 \n",
      " recall:0.897136797454931 \n",
      ", 'Test':  best_epoch_indx:84\n",
      " auc:0.9391478890261392 \n",
      " apur:0.9380188409634442 \n",
      " f1:0.8821070234113711 \n",
      " precision:0.8694756361388689 \n",
      " recall:0.8951108282956836 \n",
      "}\n",
      "=====Epoch 85\n",
      "Training...\n"
     ]
    },
    {
     "name": "stderr",
     "output_type": "stream",
     "text": [
      "Iteration: 100%|██████████| 60/60 [00:03<00:00, 19.57it/s]s]\n",
      "Iteration: 100%|██████████| 24/24 [00:01<00:00, 22.19it/s]s]\n",
      "Iteration:  16%|█▌        | 34/214 [00:02<00:14, 12.15it/s]]"
     ]
    },
    {
     "name": "stdout",
     "output_type": "stream",
     "text": [
      "{'Train':  best_epoch_indx:83\n",
      " auc:0.9954822098432348 \n",
      " apur:0.9959145830614964 \n",
      " f1:0.9686264786102886 \n",
      " precision:0.9592107923852442 \n",
      " recall:0.9782288475135518 \n",
      ", 'Validation':  best_epoch_indx:83\n",
      " auc:0.9410333777088291 \n",
      " apur:0.9381510118271188 \n",
      " f1:0.8825222396650967 \n",
      " precision:0.8711260330578512 \n",
      " recall:0.894220572640509 \n",
      ", 'Test':  best_epoch_indx:83\n",
      " auc:0.9447012173872448 \n",
      " apur:0.9431362024272858 \n",
      " f1:0.8879616106822449 \n",
      " precision:0.8737425579963046 \n",
      " recall:0.9026511134676564 \n",
      "}\n",
      "=====Epoch 84\n",
      "Training...\n"
     ]
    },
    {
     "name": "stderr",
     "output_type": "stream",
     "text": [
      "Iteration: 100%|██████████| 60/60 [00:02<00:00, 22.72it/s]s]\n",
      "Iteration: 100%|██████████| 214/214 [00:10<00:00, 20.77it/s]\n",
      "Iteration: 100%|██████████| 24/24 [00:01<00:00, 20.23it/s]s]\n",
      "Iteration:  65%|██████▌   | 140/214 [00:11<00:06, 11.83it/s]"
     ]
    },
    {
     "name": "stdout",
     "output_type": "stream",
     "text": [
      "{'Train':  best_epoch_indx:81\n",
      " auc:0.997844313281144 \n",
      " apur:0.9980598226556618 \n",
      " f1:0.9778517027050687 \n",
      " precision:0.968693088197034 \n",
      " recall:0.9871851524524967 \n",
      ", 'Validation':  best_epoch_indx:81\n",
      " auc:0.9460811564182315 \n",
      " apur:0.943854006374515 \n",
      " f1:0.8927027381108346 \n",
      " precision:0.8824138824138824 \n",
      " recall:0.9032343584305408 \n",
      ", 'Test':  best_epoch_indx:81\n",
      " auc:0.9474599131966381 \n",
      " apur:0.9453721518927848 \n",
      " f1:0.8913681122983449 \n",
      " precision:0.8805753906654248 \n",
      " recall:0.9024286774843567 \n",
      "}\n",
      "=====Epoch 82\n",
      "Training...\n"
     ]
    },
    {
     "name": "stderr",
     "output_type": "stream",
     "text": [
      "Iteration: 100%|██████████| 60/60 [00:02<00:00, 20.28it/s]]]\n",
      "Iteration: 100%|██████████| 24/24 [00:01<00:00, 22.23it/s]s]\n",
      "Iteration:   1%|          | 2/214 [00:00<00:18, 11.70it/s]]]"
     ]
    },
    {
     "name": "stdout",
     "output_type": "stream",
     "text": [
      "{'Train':  best_epoch_indx:82\n",
      " auc:0.9965426971724662 \n",
      " apur:0.996858916604948 \n",
      " f1:0.9715464276895815 \n",
      " precision:0.9581996332798534 \n",
      " recall:0.9852702901752836 \n",
      ", 'Validation':  best_epoch_indx:82\n",
      " auc:0.9453463524357264 \n",
      " apur:0.9447929100642749 \n",
      " f1:0.8868414222683622 \n",
      " precision:0.8685815963396034 \n",
      " recall:0.9058854718981972 \n",
      ", 'Test':  best_epoch_indx:82\n",
      " auc:0.9446162417077316 \n",
      " apur:0.9405184024685941 \n",
      " f1:0.8915050305984856 \n",
      " precision:0.8723231503095504 \n",
      " recall:0.9115494750238625 \n",
      "}\n",
      "=====Epoch 83\n",
      "Training...\n"
     ]
    },
    {
     "name": "stderr",
     "output_type": "stream",
     "text": [
      "Iteration: 100%|██████████| 214/214 [00:17<00:00, 12.40it/s]\n",
      "Iteration:   1%|▏         | 3/214 [00:00<00:10, 21.00it/s]]]"
     ]
    },
    {
     "name": "stdout",
     "output_type": "stream",
     "text": [
      "Evaluating...\n"
     ]
    },
    {
     "name": "stderr",
     "output_type": "stream",
     "text": [
      "Iteration: 100%|██████████| 214/214 [00:17<00:00, 12.33it/s]\n",
      "Iteration:   1%|▏         | 3/214 [00:00<00:09, 21.63it/s]s]"
     ]
    },
    {
     "name": "stdout",
     "output_type": "stream",
     "text": [
      "Evaluating...\n"
     ]
    },
    {
     "name": "stderr",
     "output_type": "stream",
     "text": [
      "Iteration: 100%|██████████| 214/214 [00:17<00:00, 12.32it/s]\n",
      "Iteration:  29%|██▉       | 63/214 [00:02<00:06, 22.03it/s]]"
     ]
    },
    {
     "name": "stdout",
     "output_type": "stream",
     "text": [
      "Evaluating...\n"
     ]
    },
    {
     "name": "stderr",
     "output_type": "stream",
     "text": [
      "Iteration: 100%|██████████| 214/214 [00:09<00:00, 21.93it/s]\n",
      "Iteration: 100%|██████████| 214/214 [00:17<00:00, 12.40it/s]\n",
      "Iteration:  79%|███████▉  | 170/214 [00:13<00:03, 12.23it/s]"
     ]
    },
    {
     "name": "stdout",
     "output_type": "stream",
     "text": [
      "Evaluating...\n"
     ]
    },
    {
     "name": "stderr",
     "output_type": "stream",
     "text": [
      "Iteration: 100%|██████████| 60/60 [00:03<00:00, 18.12it/s]]]\n",
      "Iteration: 100%|██████████| 214/214 [00:17<00:00, 12.49it/s]\n",
      "Iteration:  59%|█████▉    | 126/214 [00:05<00:04, 21.88it/s]"
     ]
    },
    {
     "name": "stdout",
     "output_type": "stream",
     "text": [
      "Evaluating...\n"
     ]
    },
    {
     "name": "stderr",
     "output_type": "stream",
     "text": [
      "\r",
      "Iteration:  88%|████████▊ | 189/214 [00:08<00:01, 21.88it/s]\r",
      "Iteration:  83%|████████▎ | 20/24 [00:00<00:00, 20.93it/s]\r",
      "Iteration:  41%|████      | 87/214 [00:03<00:05, 22.10it/s]\r",
      "Iteration:   3%|▎         | 6/214 [00:00<00:09, 21.79it/s]\r",
      "Iteration:  60%|██████    | 129/214 [00:05<00:03, 21.73it/s]\r",
      "Iteration:  90%|████████▉ | 192/214 [00:08<00:01, 21.91it/s]\r",
      "Iteration:  96%|█████████▌| 23/24 [00:01<00:00, 21.45it/s]\r",
      "Iteration:  42%|████▏     | 90/214 [00:04<00:05, 22.12it/s]\r",
      "Iteration:   4%|▍         | 9/214 [00:00<00:09, 21.93it/s]\r",
      "Iteration:  62%|██████▏   | 132/214 [00:06<00:03, 21.82it/s]\r",
      "Iteration: 100%|██████████| 24/24 [00:01<00:00, 20.71it/s]\n"
     ]
    },
    {
     "name": "stdout",
     "output_type": "stream",
     "text": [
      "{'Train':  best_epoch_indx:83\n",
      " auc:0.9954869483777757 \n",
      " apur:0.9959133065911248 \n",
      " f1:0.9677344340445322 \n",
      " precision:0.9550474769786855 \n",
      " recall:0.9807629989689203 \n",
      ", 'Validation':  best_epoch_indx:83\n",
      " auc:0.9404869423148153 \n",
      " apur:0.9395040582035664 \n",
      " f1:0.8856661918943416 \n",
      " precision:0.8656036446469249 \n",
      " recall:0.9066808059384942 \n",
      ", 'Test':  best_epoch_indx:83\n",
      " auc:0.9406038062863171 \n",
      " apur:0.9381497989017946 \n",
      " f1:0.8853972204936735 \n",
      " precision:0.8662607813292745 \n",
      " recall:0.9053982394739633 \n",
      "}\n",
      "=====Epoch 84\n",
      "Training...\n"
     ]
    },
    {
     "name": "stderr",
     "output_type": "stream",
     "text": [
      "Iteration: 100%|██████████| 214/214 [00:09<00:00, 21.97it/s]\n",
      "Iteration: 100%|██████████| 214/214 [00:10<00:00, 21.11it/s]\n",
      "Iteration: 100%|██████████| 60/60 [00:02<00:00, 22.35it/s]s]\n",
      "Iteration: 100%|██████████| 214/214 [00:09<00:00, 22.12it/s]\n",
      "Iteration: 100%|██████████| 24/24 [00:01<00:00, 22.29it/s]s]\n",
      "Iteration:  35%|███▌      | 21/60 [00:01<00:01, 20.65it/s]s]"
     ]
    },
    {
     "name": "stdout",
     "output_type": "stream",
     "text": [
      "{'Train':  best_epoch_indx:85\n",
      " auc:0.9949605157390461 \n",
      " apur:0.9954760767938527 \n",
      " f1:0.9670611847348071 \n",
      " precision:0.9688913859892954 \n",
      " recall:0.9652378848136691 \n",
      ", 'Validation':  best_epoch_indx:85\n",
      " auc:0.9391178213809129 \n",
      " apur:0.9332598682855726 \n",
      " f1:0.8764918868177551 \n",
      " precision:0.8868385345997286 \n",
      " recall:0.8663838812301167 \n",
      ", 'Test':  best_epoch_indx:85\n",
      " auc:0.9400018417343939 \n",
      " apur:0.9365444928860984 \n",
      " f1:0.8779679144385026 \n",
      " precision:0.8854492503505556 \n",
      " recall:0.8706119418814297 \n",
      "}\n",
      "=====Epoch 86\n",
      "Training...\n"
     ]
    },
    {
     "name": "stderr",
     "output_type": "stream",
     "text": [
      "Iteration: 100%|██████████| 60/60 [00:02<00:00, 20.03it/s]s]\n",
      "Iteration: 100%|██████████| 60/60 [00:02<00:00, 22.56it/s]s]\n",
      "Iteration: 100%|██████████| 214/214 [00:09<00:00, 22.37it/s]\n",
      "Iteration: 100%|██████████| 24/24 [00:01<00:00, 20.05it/s]s]\n",
      "Iteration:   0%|          | 0/214 [00:00<?, ?it/s]1.77it/s]"
     ]
    },
    {
     "name": "stdout",
     "output_type": "stream",
     "text": [
      "{'Train':  best_epoch_indx:84\n",
      " auc:0.9944765387060703 \n",
      " apur:0.9951368161407972 \n",
      " f1:0.9652991302819994 \n",
      " precision:0.9595389183210107 \n",
      " recall:0.9711289182182418 \n",
      ", 'Validation':  best_epoch_indx:84\n",
      " auc:0.9420680175506249 \n",
      " apur:0.9381492998743394 \n",
      " f1:0.879968308464281 \n",
      " precision:0.8766114180478821 \n",
      " recall:0.8833510074231177 \n",
      ", 'Test':  best_epoch_indx:84\n",
      " auc:0.9430612504578159 \n",
      " apur:0.9426750821036163 \n",
      " f1:0.8859856235899051 \n",
      " precision:0.8768304081420708 \n",
      " recall:0.8953340402969248 \n",
      "}\n",
      "=====Epoch 85\n",
      "Training...\n"
     ]
    },
    {
     "name": "stderr",
     "output_type": "stream",
     "text": [
      "Iteration: 100%|██████████| 24/24 [00:01<00:00, 20.46it/s]]]\n",
      "Iteration:   7%|▋         | 14/214 [00:01<00:16, 11.95it/s]]"
     ]
    },
    {
     "name": "stdout",
     "output_type": "stream",
     "text": [
      "{'Train':  best_epoch_indx:82\n",
      " auc:0.9975379540140358 \n",
      " apur:0.9977683650773848 \n",
      " f1:0.9769378603459321 \n",
      " precision:0.9657733383229223 \n",
      " recall:0.988363529238474 \n",
      ", 'Validation':  best_epoch_indx:82\n",
      " auc:0.9451627009899181 \n",
      " apur:0.9425402066463711 \n",
      " f1:0.8897566054926461 \n",
      " precision:0.8739452825364357 \n",
      " recall:0.9061505832449629 \n",
      ", 'Test':  best_epoch_indx:82\n",
      " auc:0.9454542283020774 \n",
      " apur:0.9429703866864634 \n",
      " f1:0.8894676528805083 \n",
      " precision:0.8739891493499846 \n",
      " recall:0.9055042952593064 \n",
      "}\n",
      "=====Epoch 83\n",
      "Training...\n"
     ]
    },
    {
     "name": "stderr",
     "output_type": "stream",
     "text": [
      "Iteration: 100%|██████████| 60/60 [00:03<00:00, 19.92it/s]]]\n",
      "Iteration: 100%|██████████| 24/24 [00:01<00:00, 19.72it/s]]]\n",
      "Iteration:  30%|██▉       | 64/214 [00:05<00:12, 12.33it/s]]"
     ]
    },
    {
     "name": "stdout",
     "output_type": "stream",
     "text": [
      "{'Train':  best_epoch_indx:83\n",
      " auc:0.9943325686747146 \n",
      " apur:0.9948171743089742 \n",
      " f1:0.9628367647483469 \n",
      " precision:0.9441345527649574 \n",
      " recall:0.9822948887906908 \n",
      ", 'Validation':  best_epoch_indx:83\n",
      " auc:0.9407486446340957 \n",
      " apur:0.939470627764249 \n",
      " f1:0.8856297439855912 \n",
      " precision:0.860284928767808 \n",
      " recall:0.9125132555673383 \n",
      ", 'Test':  best_epoch_indx:83\n",
      " auc:0.941953575475437 \n",
      " apur:0.9384317304114134 \n",
      " f1:0.8883642149566289 \n",
      " precision:0.8607519395265566 \n",
      " recall:0.9178067663591049 \n",
      "}\n",
      "=====Epoch 84\n",
      "Training...\n"
     ]
    },
    {
     "name": "stderr",
     "output_type": "stream",
     "text": [
      "Iteration: 100%|██████████| 214/214 [00:17<00:00, 12.49it/s]\n",
      "Iteration:   0%|          | 0/214 [00:00<?, ?it/s]"
     ]
    },
    {
     "name": "stdout",
     "output_type": "stream",
     "text": [
      "Evaluating...\n"
     ]
    },
    {
     "name": "stderr",
     "output_type": "stream",
     "text": [
      "Iteration: 100%|██████████| 214/214 [00:17<00:00, 11.95it/s]\n",
      "Iteration:  53%|█████▎    | 114/214 [00:09<00:08, 11.92it/s]"
     ]
    },
    {
     "name": "stdout",
     "output_type": "stream",
     "text": [
      "Evaluating...\n"
     ]
    },
    {
     "name": "stderr",
     "output_type": "stream",
     "text": [
      "Iteration: 100%|██████████| 214/214 [00:17<00:00, 12.28it/s]\n",
      "Iteration: 100%|██████████| 214/214 [00:09<00:00, 22.01it/s]\n"
     ]
    },
    {
     "name": "stdout",
     "output_type": "stream",
     "text": [
      "Evaluating...\n"
     ]
    },
    {
     "name": "stderr",
     "output_type": "stream",
     "text": [
      "Iteration: 100%|██████████| 214/214 [00:17<00:00, 12.27it/s]\n",
      "Iteration:  10%|█         | 6/60 [00:00<00:02, 20.95it/s]"
     ]
    },
    {
     "name": "stdout",
     "output_type": "stream",
     "text": [
      "Evaluating...\n"
     ]
    },
    {
     "name": "stderr",
     "output_type": "stream",
     "text": [
      "Iteration: 100%|██████████| 60/60 [00:02<00:00, 21.31it/s]s]\n",
      "Iteration: 100%|██████████| 214/214 [00:17<00:00, 12.29it/s]\n",
      "Iteration: 100%|██████████| 24/24 [00:01<00:00, 20.87it/s]s]\n",
      "Iteration:  86%|████████▌ | 183/214 [00:08<00:01, 21.77it/s]"
     ]
    },
    {
     "name": "stdout",
     "output_type": "stream",
     "text": [
      "Evaluating...\n",
      "{'Train':  best_epoch_indx:84\n",
      " auc:0.9916428719740944 \n",
      " apur:0.9925239960362575 \n",
      " f1:0.9555002723271458 \n",
      " precision:0.9548958455925621 \n",
      " recall:0.9561054647223449 \n",
      ", 'Validation':  best_epoch_indx:84\n",
      " auc:0.9349807683282002 \n",
      " apur:0.9335491436296401 \n",
      " f1:0.8691141260973663 \n",
      " precision:0.8721302722904432 \n",
      " recall:0.866118769883351 \n",
      ", 'Test':  best_epoch_indx:84\n",
      " auc:0.9351574928412345 \n",
      " apur:0.9323572950805449 \n",
      " f1:0.8723833811497185 \n",
      " precision:0.8740551474502289 \n",
      " recall:0.8707179976667727 \n",
      "}\n",
      "=====Epoch 85\n",
      "Training...\n"
     ]
    },
    {
     "name": "stderr",
     "output_type": "stream",
     "text": [
      "Iteration: 100%|██████████| 214/214 [00:09<00:00, 22.03it/s]\n",
      "Iteration: 100%|██████████| 214/214 [00:09<00:00, 22.02it/s]\n",
      "Iteration: 100%|██████████| 60/60 [00:02<00:00, 22.53it/s]s]\n",
      "Iteration: 100%|██████████| 24/24 [00:01<00:00, 22.40it/s]s]\n",
      "Iteration: 100%|██████████| 214/214 [00:10<00:00, 21.01it/s]\n",
      "Iteration:  36%|███▋      | 78/214 [00:06<00:10, 12.38it/s]]"
     ]
    },
    {
     "name": "stdout",
     "output_type": "stream",
     "text": [
      "{'Train':  best_epoch_indx:86\n",
      " auc:0.9969581135164579 \n",
      " apur:0.9972466704861361 \n",
      " f1:0.9743716762584688 \n",
      " precision:0.9639089074661286 \n",
      " recall:0.9850640742377376 \n",
      ", 'Validation':  best_epoch_indx:86\n",
      " auc:0.943828819886649 \n",
      " apur:0.938667331257772 \n",
      " f1:0.8851298190401258 \n",
      " precision:0.8757135443694862 \n",
      " recall:0.8947507953340403 \n",
      ", 'Test':  best_epoch_indx:86\n",
      " auc:0.9442392137910433 \n",
      " apur:0.9423917288652018 \n",
      " f1:0.8886689241990101 \n",
      " precision:0.8733360638951464 \n",
      " recall:0.9045497931912185 \n",
      "}\n",
      "=====Epoch 87\n",
      "Training...\n"
     ]
    },
    {
     "name": "stderr",
     "output_type": "stream",
     "text": [
      "Iteration: 100%|██████████| 60/60 [00:02<00:00, 22.58it/s]]]\n",
      "Iteration: 100%|██████████| 24/24 [00:01<00:00, 19.85it/s]s]\n",
      "Iteration: 100%|██████████| 214/214 [00:09<00:00, 22.27it/s]\n",
      "Iteration:  90%|█████████ | 54/60 [00:02<00:00, 22.13it/s]s]"
     ]
    },
    {
     "name": "stdout",
     "output_type": "stream",
     "text": [
      "{'Train':  best_epoch_indx:85\n",
      " auc:0.9941045172884656 \n",
      " apur:0.994672845765382 \n",
      " f1:0.9639075120868207 \n",
      " precision:0.9558793707813088 \n",
      " recall:0.9720716474192788 \n",
      ", 'Validation':  best_epoch_indx:85\n",
      " auc:0.9446022727272726 \n",
      " apur:0.9417784544537398 \n",
      " f1:0.8861059847086739 \n",
      " precision:0.8812270582066072 \n",
      " recall:0.8910392364793213 \n",
      ", 'Test':  best_epoch_indx:85\n",
      " auc:0.9437408730209574 \n",
      " apur:0.9430599968266369 \n",
      " f1:0.8845206269329559 \n",
      " precision:0.8745724059293044 \n",
      " recall:0.8946977730646871 \n",
      "}\n",
      "=====Epoch 86\n",
      "Training...\n"
     ]
    },
    {
     "name": "stderr",
     "output_type": "stream",
     "text": [
      "Iteration: 100%|██████████| 60/60 [00:03<00:00, 19.20it/s]s]\n",
      "Iteration: 100%|██████████| 24/24 [00:01<00:00, 22.34it/s]]]\n",
      "Iteration:  45%|████▌     | 27/60 [00:01<00:01, 21.59it/s]]]"
     ]
    },
    {
     "name": "stdout",
     "output_type": "stream",
     "text": [
      "{'Train':  best_epoch_indx:83\n",
      " auc:0.996172879355199 \n",
      " apur:0.9964656488462449 \n",
      " f1:0.9716623951537744 \n",
      " precision:0.9607222046246436 \n",
      " recall:0.98285461776403 \n",
      ", 'Validation':  best_epoch_indx:83\n",
      " auc:0.9426543306382461 \n",
      " apur:0.9388290514555174 \n",
      " f1:0.8893511897022494 \n",
      " precision:0.8726715998979332 \n",
      " recall:0.9066808059384942 \n",
      ", 'Test':  best_epoch_indx:83\n",
      " auc:0.9450653740039509 \n",
      " apur:0.9432840545795422 \n",
      " f1:0.8874655001822632 \n",
      " precision:0.8718027419684878 \n",
      " recall:0.9037013469084738 \n",
      "}\n",
      "=====Epoch 84\n",
      "Training...\n"
     ]
    },
    {
     "name": "stderr",
     "output_type": "stream",
     "text": [
      "Iteration: 100%|██████████| 60/60 [00:02<00:00, 21.51it/s]]]\n",
      "Iteration: 100%|██████████| 24/24 [00:01<00:00, 21.83it/s]]]\n",
      "Iteration:  47%|████▋     | 100/214 [00:08<00:09, 11.85it/s]"
     ]
    },
    {
     "name": "stdout",
     "output_type": "stream",
     "text": [
      "{'Train':  best_epoch_indx:84\n",
      " auc:0.9925548634213672 \n",
      " apur:0.9932048281537851 \n",
      " f1:0.9588123445955828 \n",
      " precision:0.9521278140885984 \n",
      " recall:0.9655913978494624 \n",
      ", 'Validation':  best_epoch_indx:84\n",
      " auc:0.9419285645425624 \n",
      " apur:0.9397504229475521 \n",
      " f1:0.8868813825608799 \n",
      " precision:0.8760993274702535 \n",
      " recall:0.897932131495228 \n",
      ", 'Test':  best_epoch_indx:84\n",
      " auc:0.9425361909024433 \n",
      " apur:0.9387342152208654 \n",
      " f1:0.8866207186825905 \n",
      " precision:0.8797243683441219 \n",
      " recall:0.8936260473008802 \n",
      "}\n",
      "=====Epoch 85\n",
      "Training...\n"
     ]
    },
    {
     "name": "stderr",
     "output_type": "stream",
     "text": [
      "Iteration: 100%|██████████| 214/214 [00:17<00:00, 12.26it/s]\n",
      "Iteration:  36%|███▌      | 76/214 [00:06<00:11, 12.23it/s]]"
     ]
    },
    {
     "name": "stdout",
     "output_type": "stream",
     "text": [
      "Evaluating...\n"
     ]
    },
    {
     "name": "stderr",
     "output_type": "stream",
     "text": [
      "Iteration: 100%|██████████| 214/214 [00:17<00:00, 12.13it/s]\n",
      "Iteration:  72%|███████▏  | 154/214 [00:12<00:04, 12.44it/s]"
     ]
    },
    {
     "name": "stdout",
     "output_type": "stream",
     "text": [
      "Evaluating...\n"
     ]
    },
    {
     "name": "stderr",
     "output_type": "stream",
     "text": [
      "Iteration: 100%|██████████| 214/214 [00:09<00:00, 21.68it/s]\n",
      "Iteration: 100%|██████████| 214/214 [00:18<00:00, 11.88it/s]\n",
      "Iteration:  77%|███████▋  | 164/214 [00:13<00:03, 12.56it/s]"
     ]
    },
    {
     "name": "stdout",
     "output_type": "stream",
     "text": [
      "Evaluating...\n"
     ]
    },
    {
     "name": "stderr",
     "output_type": "stream",
     "text": [
      "Iteration: 100%|██████████| 214/214 [00:17<00:00, 12.29it/s]\n",
      "Iteration:  52%|█████▏    | 111/214 [00:05<00:04, 22.09it/s]"
     ]
    },
    {
     "name": "stdout",
     "output_type": "stream",
     "text": [
      "Evaluating...\n"
     ]
    },
    {
     "name": "stderr",
     "output_type": "stream",
     "text": [
      "Iteration: 100%|██████████| 60/60 [00:02<00:00, 20.28it/s]]]\n",
      "Iteration: 100%|██████████| 24/24 [00:01<00:00, 22.25it/s]]]\n",
      "Iteration: 100%|██████████| 214/214 [00:17<00:00, 11.94it/s]\n",
      "Iteration:  36%|███▌      | 77/214 [00:03<00:06, 22.08it/s]]"
     ]
    },
    {
     "name": "stdout",
     "output_type": "stream",
     "text": [
      "Evaluating...\n",
      "{'Train':  best_epoch_indx:85\n",
      " auc:0.9957472013135296 \n",
      " apur:0.9961730562748313 \n",
      " f1:0.9687002497553566 \n",
      " precision:0.9606048317015237 \n",
      " recall:0.9769332744144941 \n",
      ", 'Validation':  best_epoch_indx:85\n",
      " auc:0.9418414361424143 \n",
      " apur:0.9392314894527881 \n",
      " f1:0.8843892880470281 \n",
      " precision:0.871748647952614 \n",
      " recall:0.8974019088016967 \n",
      ", 'Test':  best_epoch_indx:85\n",
      " auc:0.9432251665811624 \n",
      " apur:0.9403109583887928 \n",
      " f1:0.8860706424903049 \n",
      " precision:0.8757899098725784 \n",
      " recall:0.8965956092904868 \n",
      "}\n",
      "=====Epoch 86\n",
      "Training...\n"
     ]
    },
    {
     "name": "stderr",
     "output_type": "stream",
     "text": [
      "Iteration: 100%|██████████| 214/214 [00:10<00:00, 20.67it/s]\n",
      "Iteration: 100%|██████████| 214/214 [00:09<00:00, 21.79it/s]\n",
      "Iteration: 100%|██████████| 60/60 [00:02<00:00, 22.30it/s]s]\n",
      "Iteration: 100%|██████████| 214/214 [00:09<00:00, 21.86it/s]\n",
      "Iteration: 100%|██████████| 24/24 [00:01<00:00, 22.16it/s]s]\n",
      "Iteration:  66%|██████▌   | 141/214 [00:06<00:03, 20.67it/s]"
     ]
    },
    {
     "name": "stdout",
     "output_type": "stream",
     "text": [
      "{'Train':  best_epoch_indx:87\n",
      " auc:0.9977724910053696 \n",
      " apur:0.997996075108718 \n",
      " f1:0.9776898850069581 \n",
      " precision:0.9723484848484848 \n",
      " recall:0.9830902931212255 \n",
      ", 'Validation':  best_epoch_indx:87\n",
      " auc:0.945814974795395 \n",
      " apur:0.9423564841992814 \n",
      " f1:0.88801261829653 \n",
      " precision:0.8806047966631908 \n",
      " recall:0.8955461293743372 \n",
      ", 'Test':  best_epoch_indx:87\n",
      " auc:0.9457869951449946 \n",
      " apur:0.9434398454579852 \n",
      " f1:0.8881509593084546 \n",
      " precision:0.882846065178665 \n",
      " recall:0.8935199915155372 \n",
      "}\n",
      "=====Epoch 88\n",
      "Training...\n"
     ]
    },
    {
     "name": "stderr",
     "output_type": "stream",
     "text": [
      "Iteration: 100%|██████████| 60/60 [00:02<00:00, 22.72it/s]]]\n",
      "Iteration: 100%|██████████| 24/24 [00:01<00:00, 22.31it/s]s]\n",
      "Iteration: 100%|██████████| 60/60 [00:02<00:00, 20.26it/s]s]\n",
      "Iteration: 100%|██████████| 214/214 [00:09<00:00, 21.63it/s]\n"
     ]
    },
    {
     "name": "stdout",
     "output_type": "stream",
     "text": [
      "{'Train':  best_epoch_indx:86\n",
      " auc:0.9955926391785428 \n",
      " apur:0.9960123004830672 \n",
      " f1:0.9682535046728972 \n",
      " precision:0.959954829742877 \n",
      " recall:0.9766969125618666 \n",
      ", 'Validation':  best_epoch_indx:86\n",
      " auc:0.944845661433783 \n",
      " apur:0.9423088658670824 \n",
      " f1:0.8859060402684564 \n",
      " precision:0.8795401097465377 \n",
      " recall:0.8923647932131495 \n",
      ", 'Test':  best_epoch_indx:86\n",
      " auc:0.9437379424923726 \n",
      " apur:0.9432393873958055 \n",
      " f1:0.8844057849507441 \n",
      " precision:0.8741454319453077 \n",
      " recall:0.8949098621420997 \n",
      "}\n",
      "=====Epoch 87\n",
      "Training...\n"
     ]
    },
    {
     "name": "stderr",
     "output_type": "stream",
     "text": [
      "Iteration: 100%|██████████| 24/24 [00:01<00:00, 19.45it/s]]]\n",
      "Iteration:   9%|▉         | 20/214 [00:01<00:16, 11.55it/s]]"
     ]
    },
    {
     "name": "stdout",
     "output_type": "stream",
     "text": [
      "{'Train':  best_epoch_indx:84\n",
      " auc:0.9932387616851303 \n",
      " apur:0.9938711462041406 \n",
      " f1:0.9614640154847791 \n",
      " precision:0.9571691337479198 \n",
      " recall:0.9657976137870083 \n",
      ", 'Validation':  best_epoch_indx:84\n",
      " auc:0.9363071574989725 \n",
      " apur:0.9329704164922114 \n",
      " f1:0.8776237623762376 \n",
      " precision:0.8740468051538259 \n",
      " recall:0.8812301166489925 \n",
      ", 'Test':  best_epoch_indx:84\n",
      " auc:0.9367558334487769 \n",
      " apur:0.9350122457677542 \n",
      " f1:0.8749602964531499 \n",
      " precision:0.873480604587253 \n",
      " recall:0.8764450100752996 \n",
      "}\n",
      "=====Epoch 85\n",
      "Training...\n"
     ]
    },
    {
     "name": "stderr",
     "output_type": "stream",
     "text": [
      "Iteration: 100%|██████████| 60/60 [00:02<00:00, 22.68it/s]]]\n",
      "Iteration: 100%|██████████| 24/24 [00:01<00:00, 22.13it/s]s]\n",
      "Iteration:  83%|████████▎ | 178/214 [00:14<00:02, 12.61it/s]"
     ]
    },
    {
     "name": "stdout",
     "output_type": "stream",
     "text": [
      "{'Train':  best_epoch_indx:85\n",
      " auc:0.9931786994749882 \n",
      " apur:0.9937594184662824 \n",
      " f1:0.9606285336662017 \n",
      " precision:0.9577452415812592 \n",
      " recall:0.9635292384740021 \n",
      ", 'Validation':  best_epoch_indx:85\n",
      " auc:0.9428910994890581 \n",
      " apur:0.9421871990879187 \n",
      " f1:0.8809303554909476 \n",
      " precision:0.8782608695652174 \n",
      " recall:0.8836161187698833 \n",
      ", 'Test':  best_epoch_indx:85\n",
      " auc:0.9434488225016885 \n",
      " apur:0.9391594785482371 \n",
      " f1:0.8850982677332204 \n",
      " precision:0.8842082980524979 \n",
      " recall:0.8859900307561778 \n",
      "}\n",
      "=====Epoch 86\n",
      "Training...\n"
     ]
    },
    {
     "name": "stderr",
     "output_type": "stream",
     "text": [
      "Iteration: 100%|██████████| 214/214 [00:17<00:00, 12.22it/s]\n",
      "Iteration:  15%|█▍        | 32/214 [00:02<00:16, 11.35it/s]"
     ]
    },
    {
     "name": "stdout",
     "output_type": "stream",
     "text": [
      "Evaluating...\n"
     ]
    },
    {
     "name": "stderr",
     "output_type": "stream",
     "text": [
      "Iteration: 100%|██████████| 214/214 [00:17<00:00, 12.34it/s]\n",
      "Iteration:  67%|██████▋   | 144/214 [00:06<00:03, 22.17it/s]"
     ]
    },
    {
     "name": "stdout",
     "output_type": "stream",
     "text": [
      "Evaluating...\n"
     ]
    },
    {
     "name": "stderr",
     "output_type": "stream",
     "text": [
      "Iteration: 100%|██████████| 214/214 [00:17<00:00, 12.26it/s]\n",
      "Iteration: 100%|██████████| 214/214 [00:09<00:00, 22.04it/s]\n",
      "Iteration:  35%|███▌      | 75/214 [00:03<00:06, 21.74it/s]]"
     ]
    },
    {
     "name": "stdout",
     "output_type": "stream",
     "text": [
      "Evaluating...\n"
     ]
    },
    {
     "name": "stderr",
     "output_type": "stream",
     "text": [
      "Iteration: 100%|██████████| 214/214 [00:17<00:00, 12.31it/s]\n",
      "Iteration:  18%|█▊        | 38/214 [00:01<00:08, 21.83it/s]]"
     ]
    },
    {
     "name": "stdout",
     "output_type": "stream",
     "text": [
      "Evaluating...\n"
     ]
    },
    {
     "name": "stderr",
     "output_type": "stream",
     "text": [
      "Iteration: 100%|██████████| 60/60 [00:02<00:00, 20.62it/s]]]\n",
      "Iteration: 100%|██████████| 214/214 [00:17<00:00, 12.20it/s]\n",
      "Iteration:   0%|          | 0/214 [00:00<?, ?it/s]"
     ]
    },
    {
     "name": "stdout",
     "output_type": "stream",
     "text": [
      "Evaluating...\n"
     ]
    },
    {
     "name": "stderr",
     "output_type": "stream",
     "text": [
      "\r",
      "Iteration:  88%|████████▊ | 21/24 [00:01<00:00, 19.51it/s]\r",
      "Iteration:  35%|███▌      | 75/214 [00:03<00:06, 22.04it/s]\r",
      "Iteration:  86%|████████▌ | 183/214 [00:08<00:01, 22.02it/s]\r",
      "Iteration:  51%|█████▏    | 110/214 [00:05<00:04, 22.01it/s]\r",
      "Iteration:   1%|▏         | 3/214 [00:00<00:09, 21.52it/s]\r",
      "Iteration: 100%|██████████| 24/24 [00:01<00:00, 20.66it/s]\r",
      "Iteration: 100%|██████████| 24/24 [00:01<00:00, 20.19it/s]\n",
      "\r",
      "Iteration:  36%|███▋      | 78/214 [00:03<00:06, 22.04it/s]\r",
      "Iteration:  87%|████████▋ | 186/214 [00:08<00:01, 22.02it/s]"
     ]
    },
    {
     "name": "stdout",
     "output_type": "stream",
     "text": [
      "{'Train':  best_epoch_indx:86\n",
      " auc:0.9968530327857772 \n",
      " apur:0.9971381054391761 \n",
      " f1:0.973580171269348 \n",
      " precision:0.9643373215421074 \n",
      " recall:0.9830019148622772 \n",
      ", 'Validation':  best_epoch_indx:86\n",
      " auc:0.9463425416186759 \n",
      " apur:0.9453377848080007 \n",
      " f1:0.888975762314308 \n",
      " precision:0.8741670937980522 \n",
      " recall:0.9042948038176034 \n",
      ", 'Test':  best_epoch_indx:86\n",
      " auc:0.9461321543888066 \n",
      " apur:0.9439780980371872 \n",
      " f1:0.8888308431720824 \n",
      " precision:0.8758365077730876 \n",
      " recall:0.9022165659136706 \n",
      "}\n",
      "=====Epoch 87\n",
      "Training...\n"
     ]
    },
    {
     "name": "stderr",
     "output_type": "stream",
     "text": [
      "Iteration: 100%|██████████| 214/214 [00:09<00:00, 22.04it/s]\n",
      "Iteration: 100%|██████████| 60/60 [00:02<00:00, 22.33it/s]]]\n",
      "Iteration: 100%|██████████| 214/214 [00:10<00:00, 21.04it/s]\n",
      "Iteration: 100%|██████████| 24/24 [00:01<00:00, 22.49it/s]s]\n",
      "Iteration:  36%|███▌      | 76/214 [00:06<00:11, 12.48it/s]]"
     ]
    },
    {
     "name": "stdout",
     "output_type": "stream",
     "text": [
      "{'Train':  best_epoch_indx:88\n",
      " auc:0.9989131847935457 \n",
      " apur:0.999025032946104 \n",
      " f1:0.9839054224095045 \n",
      " precision:0.9773843783610942 \n",
      " recall:0.9905140668728826 \n",
      ", 'Validation':  best_epoch_indx:88\n",
      " auc:0.9476899795521774 \n",
      " apur:0.9439861337197369 \n",
      " f1:0.891743119266055 \n",
      " precision:0.8818040435458787 \n",
      " recall:0.9019088016967126 \n",
      ", 'Test':  best_epoch_indx:88\n",
      " auc:0.9474918809088054 \n",
      " apur:0.9448076819259547 \n",
      " f1:0.8931081506346377 \n",
      " precision:0.8834699595309744 \n",
      " recall:0.9029589564110723 \n",
      "}\n",
      "=====Epoch 89\n",
      "Training...\n"
     ]
    },
    {
     "name": "stderr",
     "output_type": "stream",
     "text": [
      "Iteration: 100%|██████████| 214/214 [00:09<00:00, 22.12it/s]\n",
      "Iteration: 100%|██████████| 60/60 [00:02<00:00, 22.64it/s]s]\n",
      "Iteration: 100%|██████████| 214/214 [00:09<00:00, 21.91it/s]\n",
      "Iteration: 100%|██████████| 60/60 [00:02<00:00, 21.11it/s]]\n",
      "Iteration: 100%|██████████| 24/24 [00:01<00:00, 20.44it/s]s]\n",
      "Iteration:  58%|█████▊    | 124/214 [00:09<00:07, 12.46it/s]"
     ]
    },
    {
     "name": "stdout",
     "output_type": "stream",
     "text": [
      "{'Train':  best_epoch_indx:87\n",
      " auc:0.9979020775674734 \n",
      " apur:0.9981243014702932 \n",
      " f1:0.9785380022591575 \n",
      " precision:0.9745492797241622 \n",
      " recall:0.9825595097808154 \n",
      ", 'Validation':  best_epoch_indx:87\n",
      " auc:0.9467638339920948 \n",
      " apur:0.943701185678915 \n",
      " f1:0.8913215510419413 \n",
      " precision:0.8868766404199475 \n",
      " recall:0.8958112407211029 \n",
      ", 'Test':  best_epoch_indx:87\n",
      " auc:0.9488558759698813 \n",
      " apur:0.9477578369739944 \n",
      " f1:0.8919831223628693 \n",
      " precision:0.8873032528856244 \n",
      " recall:0.896712619300106 \n",
      "}\n",
      "=====Epoch 88\n",
      "Training...\n"
     ]
    },
    {
     "name": "stderr",
     "output_type": "stream",
     "text": [
      "Iteration: 100%|██████████| 24/24 [00:01<00:00, 20.09it/s]]]\n",
      "Iteration:  33%|███▎      | 20/60 [00:00<00:01, 22.08it/s]s]"
     ]
    },
    {
     "name": "stdout",
     "output_type": "stream",
     "text": [
      "{'Train':  best_epoch_indx:85\n",
      " auc:0.9956488073022006 \n",
      " apur:0.9960697039968818 \n",
      " f1:0.9683680595972529 \n",
      " precision:0.9567029870913952 \n",
      " recall:0.9803211076741788 \n",
      ", 'Validation':  best_epoch_indx:85\n",
      " auc:0.942154154954411 \n",
      " apur:0.9390056273077207 \n",
      " f1:0.8850183342063908 \n",
      " precision:0.8744824016563147 \n",
      " recall:0.8958112407211029 \n",
      ", 'Test':  best_epoch_indx:85\n",
      " auc:0.9438669880309195 \n",
      " apur:0.9412665029094647 \n",
      " f1:0.8868259100865755 \n",
      " precision:0.8724474089276552 \n",
      " recall:0.9016862869869552 \n",
      "}\n",
      "=====Epoch 86\n",
      "Training...\n"
     ]
    },
    {
     "name": "stderr",
     "output_type": "stream",
     "text": [
      "Iteration: 100%|██████████| 60/60 [00:02<00:00, 22.29it/s]s]\n",
      "Iteration: 100%|██████████| 24/24 [00:01<00:00, 21.41it/s]]]\n",
      "Iteration:  26%|██▌       | 56/214 [00:04<00:12, 12.28it/s]]"
     ]
    },
    {
     "name": "stdout",
     "output_type": "stream",
     "text": [
      "{'Train':  best_epoch_indx:86\n",
      " auc:0.9961540563190215 \n",
      " apur:0.9964884799021815 \n",
      " f1:0.9703122730573711 \n",
      " precision:0.9569689156281335 \n",
      " recall:0.9840329945500074 \n",
      ", 'Validation':  best_epoch_indx:86\n",
      " auc:0.9458897355609452 \n",
      " apur:0.9441760520285523 \n",
      " f1:0.8898096594587596 \n",
      " precision:0.8696532523411794 \n",
      " recall:0.9109225874867445 \n",
      ", 'Test':  best_epoch_indx:86\n",
      " auc:0.9464907333123251 \n",
      " apur:0.9417308353876859 \n",
      " f1:0.8919773894103615 \n",
      " precision:0.8727420336919017 \n",
      " recall:0.912079753950578 \n",
      "}\n",
      "=====Epoch 87\n",
      "Training...\n"
     ]
    },
    {
     "name": "stderr",
     "output_type": "stream",
     "text": [
      "Iteration: 100%|██████████| 214/214 [00:17<00:00, 12.43it/s]\n",
      "Iteration:   0%|          | 0/214 [00:00<?, ?it/s]1.83it/s]"
     ]
    },
    {
     "name": "stdout",
     "output_type": "stream",
     "text": [
      "Evaluating...\n"
     ]
    },
    {
     "name": "stderr",
     "output_type": "stream",
     "text": [
      "Iteration: 100%|██████████| 214/214 [00:17<00:00, 12.13it/s]\n",
      "Iteration:  69%|██████▊   | 147/214 [00:06<00:03, 22.30it/s]"
     ]
    },
    {
     "name": "stdout",
     "output_type": "stream",
     "text": [
      "Evaluating...\n"
     ]
    },
    {
     "name": "stderr",
     "output_type": "stream",
     "text": [
      "Iteration: 100%|██████████| 214/214 [00:09<00:00, 21.49it/s]\n",
      "Iteration: 100%|██████████| 214/214 [00:17<00:00, 12.14it/s]\n",
      "Iteration:  40%|████      | 86/214 [00:04<00:06, 19.44it/s]]"
     ]
    },
    {
     "name": "stdout",
     "output_type": "stream",
     "text": [
      "Evaluating...\n"
     ]
    },
    {
     "name": "stderr",
     "output_type": "stream",
     "text": [
      "Iteration: 100%|██████████| 214/214 [00:17<00:00, 12.12it/s]\n",
      "Iteration:   1%|▏         | 3/214 [00:00<00:09, 21.77it/s]]]"
     ]
    },
    {
     "name": "stdout",
     "output_type": "stream",
     "text": [
      "Evaluating...\n"
     ]
    },
    {
     "name": "stderr",
     "output_type": "stream",
     "text": [
      "Iteration: 100%|██████████| 60/60 [00:03<00:00, 19.71it/s]]]\n",
      "Iteration: 100%|██████████| 214/214 [00:17<00:00, 12.33it/s]\n",
      "Iteration:  32%|███▏      | 69/214 [00:03<00:06, 22.20it/s]]"
     ]
    },
    {
     "name": "stdout",
     "output_type": "stream",
     "text": [
      "Evaluating...\n"
     ]
    },
    {
     "name": "stderr",
     "output_type": "stream",
     "text": [
      "Iteration: 100%|██████████| 24/24 [00:01<00:00, 20.99it/s]s]\n",
      "Iteration:  38%|███▊      | 81/214 [00:03<00:06, 22.06it/s]]"
     ]
    },
    {
     "name": "stdout",
     "output_type": "stream",
     "text": [
      "{'Train':  best_epoch_indx:87\n",
      " auc:0.9979531185258644 \n",
      " apur:0.9981523311863212 \n",
      " f1:0.9778257571336874 \n",
      " precision:0.9685287402826345 \n",
      " recall:0.9873029901310945 \n",
      ", 'Validation':  best_epoch_indx:87\n",
      " auc:0.9468516362697691 \n",
      " apur:0.9461822830483098 \n",
      " f1:0.8930752241132909 \n",
      " precision:0.8756687898089172 \n",
      " recall:0.91118769883351 \n",
      ", 'Test':  best_epoch_indx:87\n",
      " auc:0.9481713622992488 \n",
      " apur:0.9451901042681089 \n",
      " f1:0.891905950894715 \n",
      " precision:0.87524247064829 \n",
      " recall:0.9092162477463146 \n",
      "}\n",
      "=====Epoch 88\n",
      "Training...\n"
     ]
    },
    {
     "name": "stderr",
     "output_type": "stream",
     "text": [
      "Iteration: 100%|██████████| 214/214 [00:09<00:00, 21.69it/s]\n",
      "Iteration: 100%|██████████| 60/60 [00:03<00:00, 19.61it/s]s]\n",
      "Iteration: 100%|██████████| 214/214 [00:09<00:00, 22.04it/s]\n",
      "Iteration: 100%|██████████| 214/214 [00:10<00:00, 20.85it/s]\n",
      "Iteration: 100%|██████████| 60/60 [00:02<00:00, 22.38it/s]s]\n",
      "Iteration: 100%|██████████| 214/214 [00:09<00:00, 21.45it/s]\n",
      "Iteration: 100%|██████████| 24/24 [00:01<00:00, 22.17it/s]s]\n",
      "Iteration:  75%|███████▌  | 45/60 [00:02<00:00, 20.60it/s]s]"
     ]
    },
    {
     "name": "stdout",
     "output_type": "stream",
     "text": [
      "{'Train':  best_epoch_indx:88\n",
      " auc:0.9985182694113781 \n",
      " apur:0.9986677945373522 \n",
      " f1:0.9822914381808877 \n",
      " precision:0.9752039720101042 \n",
      " recall:0.989482677350931 \n",
      ", 'Validation':  best_epoch_indx:88\n",
      " auc:0.9488302199663093 \n",
      " apur:0.9457142734158555 \n",
      " f1:0.8931860036832413 \n",
      " precision:0.8864229765013055 \n",
      " recall:0.9000530222693531 \n",
      ", 'Test':  best_epoch_indx:88\n",
      " auc:0.9506571234616469 \n",
      " apur:0.9497758743616201 \n",
      " f1:0.8947230519310381 \n",
      " precision:0.8843882730757278 \n",
      " recall:0.9053022269353128 \n",
      "}\n",
      "=====Epoch 89\n",
      "Training...\n"
     ]
    },
    {
     "name": "stderr",
     "output_type": "stream",
     "text": [
      "Iteration: 100%|██████████| 60/60 [00:02<00:00, 20.61it/s]s]\n",
      "Iteration: 100%|██████████| 24/24 [00:01<00:00, 19.80it/s]s]\n",
      "Iteration:  13%|█▎        | 28/214 [00:02<00:15, 12.28it/s]"
     ]
    },
    {
     "name": "stdout",
     "output_type": "stream",
     "text": [
      "{'Train':  best_epoch_indx:86\n",
      " auc:0.9971981256980202 \n",
      " apur:0.9974604633078933 \n",
      " f1:0.9733223202770654 \n",
      " precision:0.9577914670317135 \n",
      " recall:0.9893651495065547 \n",
      ", 'Validation':  best_epoch_indx:86\n",
      " auc:0.9460817906559033 \n",
      " apur:0.9438027493021198 \n",
      " f1:0.8938749194068343 \n",
      " precision:0.8701983429575697 \n",
      " recall:0.9188759278897137 \n",
      ", 'Test':  best_epoch_indx:86\n",
      " auc:0.9463695556973017 \n",
      " apur:0.9446487951721353 \n",
      " f1:0.8931246448680201 \n",
      " precision:0.8705941591137966 \n",
      " recall:0.9168522642910171 \n",
      "}\n",
      "=====Epoch 87\n",
      "Training...\n"
     ]
    },
    {
     "name": "stderr",
     "output_type": "stream",
     "text": [
      "Iteration: 100%|██████████| 60/60 [00:02<00:00, 22.32it/s]]]\n",
      "Iteration: 100%|██████████| 24/24 [00:01<00:00, 19.15it/s]s]\n",
      "Iteration:  83%|████████▎ | 178/214 [00:14<00:02, 12.31it/s]"
     ]
    },
    {
     "name": "stdout",
     "output_type": "stream",
     "text": [
      "{'Train':  best_epoch_indx:87\n",
      " auc:0.9967860173538048 \n",
      " apur:0.9971028313015088 \n",
      " f1:0.9736876669147585 \n",
      " precision:0.9647752906472323 \n",
      " recall:0.9827662395050818 \n",
      ", 'Validation':  best_epoch_indx:87\n",
      " auc:0.9464031509561766 \n",
      " apur:0.9457929055422251 \n",
      " f1:0.8884831094300247 \n",
      " precision:0.8744544287548138 \n",
      " recall:0.9029692470837752 \n",
      ", 'Test':  best_epoch_indx:87\n",
      " auc:0.946414343968851 \n",
      " apur:0.9418503178186209 \n",
      " f1:0.8910621829402228 \n",
      " precision:0.8789723483285183 \n",
      " recall:0.9034892353377877 \n",
      "}\n",
      "=====Epoch 88\n",
      "Training...\n"
     ]
    },
    {
     "name": "stderr",
     "output_type": "stream",
     "text": [
      "Iteration: 100%|██████████| 214/214 [00:17<00:00, 12.35it/s]\n",
      "Iteration:  17%|█▋        | 36/214 [00:03<00:15, 11.57it/s]"
     ]
    },
    {
     "name": "stdout",
     "output_type": "stream",
     "text": [
      "Evaluating...\n"
     ]
    },
    {
     "name": "stderr",
     "output_type": "stream",
     "text": [
      "Iteration: 100%|██████████| 24/24 [00:01<00:00, 18.22it/s]s]\n",
      "Iteration:   0%|          | 0/214 [00:00<?, ?it/s]22.63it/s]"
     ]
    },
    {
     "name": "stdout",
     "output_type": "stream",
     "text": [
      "{'Train':  best_epoch_indx:89\n",
      " auc:0.99926369070732 \n",
      " apur:0.999341719996083 \n",
      " f1:0.986720427751238 \n",
      " precision:0.978699356633629 \n",
      " recall:0.9948740609809986 \n",
      ", 'Validation':  best_epoch_indx:89\n",
      " auc:0.9496835867535657 \n",
      " apur:0.9465252379914667 \n",
      " f1:0.8964620187304889 \n",
      " precision:0.8799795709908069 \n",
      " recall:0.9135737009544008 \n",
      ", 'Test':  best_epoch_indx:89\n",
      " auc:0.948746571980508 \n",
      " apur:0.9466983897201724 \n",
      " f1:0.8941851368970014 \n",
      " precision:0.8796429304329981 \n",
      " recall:0.9092162477463146 \n",
      "}\n",
      "=====Epoch 90\n",
      "Training...\n"
     ]
    },
    {
     "name": "stderr",
     "output_type": "stream",
     "text": [
      "Iteration: 100%|██████████| 214/214 [00:09<00:00, 22.20it/s]\n",
      "Iteration: 100%|██████████| 214/214 [00:17<00:00, 12.29it/s]\n",
      "Iteration:  74%|███████▍  | 158/214 [00:12<00:04, 12.54it/s]"
     ]
    },
    {
     "name": "stdout",
     "output_type": "stream",
     "text": [
      "Evaluating...\n"
     ]
    },
    {
     "name": "stderr",
     "output_type": "stream",
     "text": [
      "Iteration: 100%|██████████| 214/214 [00:17<00:00, 12.17it/s]\n",
      "Iteration:  27%|██▋       | 57/214 [00:02<00:07, 22.30it/s]]"
     ]
    },
    {
     "name": "stdout",
     "output_type": "stream",
     "text": [
      "Evaluating...\n"
     ]
    },
    {
     "name": "stderr",
     "output_type": "stream",
     "text": [
      "Iteration: 100%|██████████| 60/60 [00:02<00:00, 21.15it/s]]]\n",
      "Iteration: 100%|██████████| 214/214 [00:17<00:00, 12.26it/s]\n",
      "Iteration:   0%|          | 0/214 [00:00<?, ?it/s]"
     ]
    },
    {
     "name": "stdout",
     "output_type": "stream",
     "text": [
      "Evaluating...\n"
     ]
    },
    {
     "name": "stderr",
     "output_type": "stream",
     "text": [
      "Iteration: 100%|██████████| 214/214 [00:09<00:00, 22.04it/s]\n",
      "Iteration: 100%|██████████| 214/214 [00:10<00:00, 21.14it/s]\n",
      "Iteration: 100%|██████████| 60/60 [00:03<00:00, 18.21it/s]s]\n",
      "Iteration: 100%|██████████| 214/214 [00:17<00:00, 12.31it/s]\n",
      "Iteration:  95%|█████████▌| 204/214 [00:09<00:00, 22.25it/s]"
     ]
    },
    {
     "name": "stdout",
     "output_type": "stream",
     "text": [
      "Evaluating...\n"
     ]
    },
    {
     "name": "stderr",
     "output_type": "stream",
     "text": [
      "Iteration: 100%|██████████| 214/214 [00:09<00:00, 22.18it/s]\n",
      "Iteration: 100%|██████████| 24/24 [00:01<00:00, 21.86it/s]]\n",
      "Iteration:  10%|█         | 6/60 [00:00<00:02, 22.21it/s]s]"
     ]
    },
    {
     "name": "stdout",
     "output_type": "stream",
     "text": [
      "{'Train':  best_epoch_indx:89\n",
      " auc:0.9989938237454283 \n",
      " apur:0.9990960653760147 \n",
      " f1:0.9851074111496728 \n",
      " precision:0.9793565293346921 \n",
      " recall:0.9909262314400189 \n",
      ", 'Validation':  best_epoch_indx:89\n",
      " auc:0.9499967416039617 \n",
      " apur:0.9470042075941322 \n",
      " f1:0.8984559015964407 \n",
      " precision:0.8870801033591731 \n",
      " recall:0.9101272534464475 \n",
      ", 'Test':  best_epoch_indx:89\n",
      " auc:0.9510054377163089 \n",
      " apur:0.9500375973466744 \n",
      " f1:0.8972577696526507 \n",
      " precision:0.8840967575913535 \n",
      " recall:0.9108165429480382 \n",
      "}\n",
      "=====Epoch 90\n",
      "Training...\n"
     ]
    },
    {
     "name": "stderr",
     "output_type": "stream",
     "text": [
      "Iteration: 100%|██████████| 60/60 [00:02<00:00, 22.09it/s]]\n",
      "Iteration: 100%|██████████| 24/24 [00:01<00:00, 22.33it/s]]\n",
      "Iteration:  90%|█████████ | 54/60 [00:02<00:00, 22.51it/s]]"
     ]
    },
    {
     "name": "stdout",
     "output_type": "stream",
     "text": [
      "{'Train':  best_epoch_indx:87\n",
      " auc:0.9980529975488106 \n",
      " apur:0.9982658942590397 \n",
      " f1:0.9788552306635687 \n",
      " precision:0.9711493852934354 \n",
      " recall:0.9866843423184564 \n",
      ", 'Validation':  best_epoch_indx:87\n",
      " auc:0.9477235545089224 \n",
      " apur:0.9450881656913275 \n",
      " f1:0.8927778503330286 \n",
      " precision:0.8797940797940798 \n",
      " recall:0.9061505832449629 \n",
      ", 'Test':  best_epoch_indx:87\n",
      " auc:0.9477621658418165 \n",
      " apur:0.9464315157289462 \n",
      " f1:0.8926589171641008 \n",
      " precision:0.8815803082014686 \n",
      " recall:0.9040195142645031 \n",
      "}\n",
      "=====Epoch 88\n",
      "Training...\n"
     ]
    },
    {
     "name": "stderr",
     "output_type": "stream",
     "text": [
      "Iteration: 100%|██████████| 60/60 [00:02<00:00, 22.53it/s]]\n",
      "Iteration: 100%|██████████| 24/24 [00:01<00:00, 22.39it/s]]]\n",
      "Iteration:  10%|█         | 22/214 [00:01<00:15, 12.44it/s]]"
     ]
    },
    {
     "name": "stdout",
     "output_type": "stream",
     "text": [
      "{'Train':  best_epoch_indx:88\n",
      " auc:0.9981260861594734 \n",
      " apur:0.9983100366267805 \n",
      " f1:0.9798814494700265 \n",
      " precision:0.9713161017685027 \n",
      " recall:0.9885992045956694 \n",
      ", 'Validation':  best_epoch_indx:88\n",
      " auc:0.9488207856809429 \n",
      " apur:0.9473274246953951 \n",
      " f1:0.8914405010438413 \n",
      " precision:0.8776978417266187 \n",
      " recall:0.9056203605514316 \n",
      ", 'Test':  best_epoch_indx:88\n",
      " auc:0.9497120636172329 \n",
      " apur:0.9448536628144131 \n",
      " f1:0.894701051420202 \n",
      " precision:0.8827415359207267 \n",
      " recall:0.9069890762541096 \n",
      "}\n",
      "=====Epoch 89\n",
      "Training...\n"
     ]
    },
    {
     "name": "stderr",
     "output_type": "stream",
     "text": [
      "Iteration: 100%|██████████| 24/24 [00:01<00:00, 21.72it/s]]]\n",
      "Iteration:  90%|████████▉ | 192/214 [00:08<00:00, 22.37it/s]"
     ]
    },
    {
     "name": "stdout",
     "output_type": "stream",
     "text": [
      "{'Train':  best_epoch_indx:88\n",
      " auc:0.9985813915044394 \n",
      " apur:0.9987170352687792 \n",
      " f1:0.9819818503309904 \n",
      " precision:0.9742794177347329 \n",
      " recall:0.9898070408012962 \n",
      ", 'Validation':  best_epoch_indx:88\n",
      " auc:0.947766563751034 \n",
      " apur:0.9462799143845084 \n",
      " f1:0.8919342208300705 \n",
      " precision:0.8784061696658098 \n",
      " recall:0.9058854718981972 \n",
      ", 'Test':  best_epoch_indx:88\n",
      " auc:0.9496060205179886 \n",
      " apur:0.9463518277528408 \n",
      " f1:0.8933012854007732 \n",
      " precision:0.8804202286538263 \n",
      " recall:0.9065648531127373 \n",
      "}\n",
      "=====Epoch 89\n",
      "Training...\n"
     ]
    },
    {
     "name": "stderr",
     "output_type": "stream",
     "text": [
      "Iteration: 100%|██████████| 214/214 [00:09<00:00, 21.92it/s]\n",
      "Iteration: 100%|██████████| 60/60 [00:02<00:00, 20.26it/s]s]\n",
      "Iteration: 100%|██████████| 24/24 [00:01<00:00, 22.40it/s]]]\n",
      "Iteration:  33%|███▎      | 71/214 [00:06<00:11, 11.94it/s]]"
     ]
    },
    {
     "name": "stdout",
     "output_type": "stream",
     "text": [
      "{'Train':  best_epoch_indx:90\n",
      " auc:0.9992753971435914 \n",
      " apur:0.9993491762850828 \n",
      " f1:0.9876264477349362 \n",
      " precision:0.9830147380709179 \n",
      " recall:0.9922816320518486 \n",
      ", 'Validation':  best_epoch_indx:90\n",
      " auc:0.9482531033249276 \n",
      " apur:0.9443513282156817 \n",
      " f1:0.8919522121570173 \n",
      " precision:0.8834850455136541 \n",
      " recall:0.9005832449628844 \n",
      ", 'Test':  best_epoch_indx:90\n",
      " auc:0.9482062127425767 \n",
      " apur:0.9464006429802814 \n",
      " f1:0.8932365625328705 \n",
      " precision:0.8859676577986437 \n",
      " recall:0.9006257291335242 \n",
      "}\n",
      "=====Epoch 91\n",
      "Training...\n"
     ]
    },
    {
     "name": "stderr",
     "output_type": "stream",
     "text": [
      "Iteration: 100%|██████████| 214/214 [00:17<00:00, 12.26it/s]\n",
      "Iteration:  84%|████████▍ | 180/214 [00:15<00:02, 12.29it/s]"
     ]
    },
    {
     "name": "stdout",
     "output_type": "stream",
     "text": [
      "Evaluating...\n"
     ]
    },
    {
     "name": "stderr",
     "output_type": "stream",
     "text": [
      "Iteration: 100%|██████████| 214/214 [00:18<00:00, 11.87it/s]\n",
      "Iteration:   1%|▏         | 3/214 [00:00<00:09, 21.64it/s]]]"
     ]
    },
    {
     "name": "stdout",
     "output_type": "stream",
     "text": [
      "Evaluating...\n"
     ]
    },
    {
     "name": "stderr",
     "output_type": "stream",
     "text": [
      "Iteration: 100%|██████████| 214/214 [00:17<00:00, 12.32it/s]\n",
      "Iteration:  39%|███▉      | 84/214 [00:03<00:05, 22.28it/s]"
     ]
    },
    {
     "name": "stdout",
     "output_type": "stream",
     "text": [
      "Evaluating...\n"
     ]
    },
    {
     "name": "stderr",
     "output_type": "stream",
     "text": [
      "Iteration: 100%|██████████| 214/214 [00:17<00:00, 12.15it/s]\n",
      "Iteration:  67%|██████▋   | 144/214 [00:11<00:05, 12.44it/s]"
     ]
    },
    {
     "name": "stdout",
     "output_type": "stream",
     "text": [
      "Evaluating...\n"
     ]
    },
    {
     "name": "stderr",
     "output_type": "stream",
     "text": [
      "Iteration: 100%|██████████| 214/214 [00:09<00:00, 22.15it/s]\n",
      "Iteration: 100%|██████████| 214/214 [00:09<00:00, 21.88it/s]\n",
      "Iteration: 100%|██████████| 60/60 [00:02<00:00, 22.56it/s]s]\n",
      "Iteration: 100%|██████████| 214/214 [00:17<00:00, 12.37it/s]\n",
      "Iteration:  62%|██████▏   | 132/214 [00:05<00:03, 22.33it/s]"
     ]
    },
    {
     "name": "stdout",
     "output_type": "stream",
     "text": [
      "Evaluating...\n"
     ]
    },
    {
     "name": "stderr",
     "output_type": "stream",
     "text": [
      "Iteration: 100%|██████████| 214/214 [00:09<00:00, 21.65it/s]\n",
      "Iteration: 100%|██████████| 24/24 [00:01<00:00, 22.24it/s]]]\n",
      "Iteration:  50%|█████     | 30/60 [00:01<00:01, 22.38it/s]s]"
     ]
    },
    {
     "name": "stdout",
     "output_type": "stream",
     "text": [
      "{'Train':  best_epoch_indx:90\n",
      " auc:0.9990424187809386 \n",
      " apur:0.9991403601828551 \n",
      " f1:0.9858189276296513 \n",
      " precision:0.9804755799044178 \n",
      " recall:0.9912208343153429 \n",
      ", 'Validation':  best_epoch_indx:90\n",
      " auc:0.9491374684783876 \n",
      " apur:0.9462385513287673 \n",
      " f1:0.8960987784053593 \n",
      " precision:0.8880499869825567 \n",
      " recall:0.9042948038176034 \n",
      ", 'Test':  best_epoch_indx:90\n",
      " auc:0.9506983538421704 \n",
      " apur:0.9496805055411587 \n",
      " f1:0.8939004562857291 \n",
      " precision:0.8843000933900591 \n",
      " recall:0.903711558854719 \n",
      "}\n",
      "=====Epoch 91\n",
      "Training...\n"
     ]
    },
    {
     "name": "stderr",
     "output_type": "stream",
     "text": [
      "Iteration: 100%|██████████| 60/60 [00:02<00:00, 22.48it/s]s]\n",
      "Iteration: 100%|██████████| 24/24 [00:01<00:00, 22.49it/s]s]\n",
      "Iteration:   0%|          | 0/214 [00:00<?, ?it/s]1.78it/s]"
     ]
    },
    {
     "name": "stdout",
     "output_type": "stream",
     "text": [
      "{'Train':  best_epoch_indx:88\n",
      " auc:0.998755701717767 \n",
      " apur:0.998893030321005 \n",
      " f1:0.9824463964688172 \n",
      " precision:0.9749086267912049 \n",
      " recall:0.9901016349977906 \n",
      ", 'Validation':  best_epoch_indx:88\n",
      " auc:0.9473761904641098 \n",
      " apur:0.9446954887938791 \n",
      " f1:0.8911849332984567 \n",
      " precision:0.8794527620030975 \n",
      " recall:0.9032343584305408 \n",
      ", 'Test':  best_epoch_indx:88\n",
      " auc:0.9487177081699999 \n",
      " apur:0.9470837678074131 \n",
      " f1:0.8947175540547615 \n",
      " precision:0.8834780810587263 \n",
      " recall:0.9062466857567081 \n",
      "}\n",
      "=====Epoch 89\n",
      "Training...\n"
     ]
    },
    {
     "name": "stderr",
     "output_type": "stream",
     "text": [
      "Iteration: 100%|██████████| 60/60 [00:03<00:00, 19.79it/s]s]\n",
      "Iteration: 100%|██████████| 214/214 [00:09<00:00, 21.64it/s]\n",
      "Iteration: 100%|██████████| 24/24 [00:01<00:00, 18.35it/s]s]\n",
      "Iteration:   0%|          | 0/214 [00:00<?, ?it/s]2.39it/s]"
     ]
    },
    {
     "name": "stdout",
     "output_type": "stream",
     "text": [
      "{'Train':  best_epoch_indx:89\n",
      " auc:0.9987249467062417 \n",
      " apur:0.9988495821943129 \n",
      " f1:0.9826908750967704 \n",
      " precision:0.9745625217290532 \n",
      " recall:0.990955958167624 \n",
      ", 'Validation':  best_epoch_indx:89\n",
      " auc:0.9506509181224536 \n",
      " apur:0.9489503451802707 \n",
      " f1:0.8933890776064802 \n",
      " precision:0.8807315816589387 \n",
      " recall:0.9064156945917285 \n",
      ", 'Test':  best_epoch_indx:89\n",
      " auc:0.9499786873541417 \n",
      " apur:0.9446189851659251 \n",
      " f1:0.8968403431680266 \n",
      " precision:0.8848972850211624 \n",
      " recall:0.9091101919609714 \n",
      "}\n",
      "=====Epoch 90\n",
      "Training...\n"
     ]
    },
    {
     "name": "stderr",
     "output_type": "stream",
     "text": [
      "Iteration: 100%|██████████| 60/60 [00:02<00:00, 20.03it/s]]]\n",
      "Iteration: 100%|██████████| 214/214 [00:09<00:00, 21.87it/s]\n",
      "Iteration: 100%|██████████| 60/60 [00:02<00:00, 20.83it/s]s]\n",
      "Iteration: 100%|██████████| 24/24 [00:01<00:00, 21.40it/s]s]\n",
      "Iteration:   1%|          | 2/214 [00:00<00:17, 12.15it/s]s]"
     ]
    },
    {
     "name": "stdout",
     "output_type": "stream",
     "text": [
      "{'Train':  best_epoch_indx:91\n",
      " auc:0.9989367998049872 \n",
      " apur:0.9990467458141093 \n",
      " f1:0.9846207875444474 \n",
      " precision:0.9781938710240158 \n",
      " recall:0.9911327146855207 \n",
      ", 'Validation':  best_epoch_indx:91\n",
      " auc:0.9469030095211758 \n",
      " apur:0.9426640745834161 \n",
      " f1:0.891563113145847 \n",
      " precision:0.8799380325329202 \n",
      " recall:0.9034994697773064 \n",
      ", 'Test':  best_epoch_indx:91\n",
      " auc:0.9464066710167429 \n",
      " apur:0.9436991528701236 \n",
      " f1:0.8903678859658317 \n",
      " precision:0.8800372941054594 \n",
      " recall:0.9009438964895535 \n",
      "}\n",
      "=====Epoch 92\n",
      "Training...\n"
     ]
    },
    {
     "name": "stderr",
     "output_type": "stream",
     "text": [
      "Iteration: 100%|██████████| 214/214 [00:17<00:00, 12.07it/s]\n",
      "Iteration:   1%|▏         | 3/214 [00:00<00:10, 20.88it/s]s]"
     ]
    },
    {
     "name": "stdout",
     "output_type": "stream",
     "text": [
      "Evaluating...\n"
     ]
    },
    {
     "name": "stderr",
     "output_type": "stream",
     "text": [
      "Iteration: 100%|██████████| 214/214 [00:17<00:00, 12.17it/s]\n",
      "Iteration:   0%|          | 0/214 [00:00<?, ?it/s]"
     ]
    },
    {
     "name": "stdout",
     "output_type": "stream",
     "text": [
      "Evaluating...\n"
     ]
    },
    {
     "name": "stderr",
     "output_type": "stream",
     "text": [
      "Iteration: 100%|██████████| 214/214 [00:17<00:00, 12.20it/s]\n",
      "Iteration:  48%|████▊     | 102/214 [00:08<00:09, 12.44it/s]"
     ]
    },
    {
     "name": "stdout",
     "output_type": "stream",
     "text": [
      "Evaluating...\n"
     ]
    },
    {
     "name": "stderr",
     "output_type": "stream",
     "text": [
      "Iteration: 100%|██████████| 24/24 [00:01<00:00, 21.65it/s]s]\n",
      "Iteration:  50%|█████     | 108/214 [00:04<00:04, 22.36it/s]"
     ]
    },
    {
     "name": "stdout",
     "output_type": "stream",
     "text": [
      "{'Train':  best_epoch_indx:89\n",
      " auc:0.9991110516845421 \n",
      " apur:0.9992036591205925 \n",
      " f1:0.9857230625201135 \n",
      " precision:0.9789638841270303 \n",
      " recall:0.9925762262483429 \n",
      ", 'Validation':  best_epoch_indx:89\n",
      " auc:0.9485016848523747 \n",
      " apur:0.9466335320474533 \n",
      " f1:0.8930148013502986 \n",
      " precision:0.8750636132315521 \n",
      " recall:0.9117179215270413 \n",
      ", 'Test':  best_epoch_indx:89\n",
      " auc:0.9505799830615209 \n",
      " apur:0.9467957713063245 \n",
      " f1:0.8962096689986425 \n",
      " precision:0.8825706940874036 \n",
      " recall:0.9102768055997454 \n",
      "}\n",
      "=====Epoch 90\n",
      "Training...\n"
     ]
    },
    {
     "name": "stderr",
     "output_type": "stream",
     "text": [
      "Iteration: 100%|██████████| 214/214 [00:09<00:00, 21.86it/s]\n",
      "Iteration: 100%|██████████| 214/214 [00:09<00:00, 21.61it/s]\n",
      "Iteration: 100%|██████████| 60/60 [00:02<00:00, 22.31it/s]s]\n",
      "Iteration: 100%|██████████| 214/214 [00:17<00:00, 12.00it/s]\n",
      "Iteration:  20%|██        | 12/60 [00:00<00:02, 20.15it/s]]]"
     ]
    },
    {
     "name": "stdout",
     "output_type": "stream",
     "text": [
      "Evaluating...\n"
     ]
    },
    {
     "name": "stderr",
     "output_type": "stream",
     "text": [
      "Iteration: 100%|██████████| 214/214 [00:09<00:00, 22.19it/s]\n",
      "Iteration: 100%|██████████| 24/24 [00:01<00:00, 22.28it/s]]\n",
      "Iteration:   8%|▊         | 18/214 [00:00<00:09, 21.47it/s]"
     ]
    },
    {
     "name": "stdout",
     "output_type": "stream",
     "text": [
      "{'Train':  best_epoch_indx:91\n",
      " auc:0.9987185748938556 \n",
      " apur:0.9988506428978605 \n",
      " f1:0.9833501735272152 \n",
      " precision:0.9776095501528607 \n",
      " recall:0.9891586141880745 \n",
      ", 'Validation':  best_epoch_indx:91\n",
      " auc:0.9464138537168866 \n",
      " apur:0.9431470574398932 \n",
      " f1:0.8871391076115486 \n",
      " precision:0.8783783783783784 \n",
      " recall:0.8960763520678685 \n",
      ", 'Test':  best_epoch_indx:91\n",
      " auc:0.9483236995906267 \n",
      " apur:0.9476056067221201 \n",
      " f1:0.8929151175577316 \n",
      " precision:0.8819695872556119 \n",
      " recall:0.904135737009544 \n",
      "}\n",
      "=====Epoch 92\n",
      "Training...\n"
     ]
    },
    {
     "name": "stderr",
     "output_type": "stream",
     "text": [
      "Iteration: 100%|██████████| 60/60 [00:03<00:00, 17.64it/s]]]\n",
      "Iteration: 100%|██████████| 60/60 [00:02<00:00, 22.51it/s]]]\n",
      "Iteration: 100%|██████████| 24/24 [00:01<00:00, 22.34it/s]s]\n",
      "Iteration:   1%|          | 2/214 [00:00<00:17, 12.34it/s]]]"
     ]
    },
    {
     "name": "stdout",
     "output_type": "stream",
     "text": [
      "{'Train':  best_epoch_indx:90\n",
      " auc:0.9986118621416238 \n",
      " apur:0.9987545782011611 \n",
      " f1:0.9820547985176972 \n",
      " precision:0.9728011099228256 \n",
      " recall:0.9914862277213139 \n",
      ", 'Validation':  best_epoch_indx:90\n",
      " auc:0.948401871698793 \n",
      " apur:0.947431581790226 \n",
      " f1:0.8910223144784639 \n",
      " precision:0.8724593495934959 \n",
      " recall:0.9103923647932132 \n",
      ", 'Test':  best_epoch_indx:90\n",
      " auc:0.9486339672323144 \n",
      " apur:0.9443948421399216 \n",
      " f1:0.8954353822932389 \n",
      " precision:0.8791905151267375 \n",
      " recall:0.9122918655212642 \n",
      "}\n",
      "=====Epoch 91\n",
      "Training...\n"
     ]
    },
    {
     "name": "stderr",
     "output_type": "stream",
     "text": [
      "Iteration: 100%|██████████| 214/214 [00:09<00:00, 21.57it/s]\n",
      "Iteration: 100%|██████████| 214/214 [00:17<00:00, 12.28it/s]\n",
      "Iteration:   0%|          | 0/214 [00:00<?, ?it/s]"
     ]
    },
    {
     "name": "stdout",
     "output_type": "stream",
     "text": [
      "Evaluating...\n"
     ]
    },
    {
     "name": "stderr",
     "output_type": "stream",
     "text": [
      "Iteration: 100%|██████████| 60/60 [00:02<00:00, 20.12it/s]]]\n",
      "Iteration: 100%|██████████| 24/24 [00:01<00:00, 20.15it/s]s]\n"
     ]
    },
    {
     "name": "stdout",
     "output_type": "stream",
     "text": [
      "{'Train':  best_epoch_indx:92\n",
      " auc:0.9977058879512761 \n",
      " apur:0.9979522337983189 \n",
      " f1:0.9775902979172159 \n",
      " precision:0.9721226950974395 \n",
      " recall:0.9831197525408749 \n",
      ", 'Validation':  best_epoch_indx:92\n",
      " auc:0.9429894856078789 \n",
      " apur:0.9386975941935917 \n",
      " f1:0.8854399579113509 \n",
      " precision:0.8786217697729053 \n",
      " recall:0.8923647932131495 \n",
      ", 'Test':  best_epoch_indx:92\n",
      " auc:0.9437757034455418 \n",
      " apur:0.9421202226477661 \n",
      " f1:0.8875683634833823 \n",
      " precision:0.880254511317409 \n",
      " recall:0.8950047725103404 \n",
      "}\n",
      "=====Epoch 93\n",
      "Training...\n"
     ]
    },
    {
     "name": "stderr",
     "output_type": "stream",
     "text": [
      "Iteration: 100%|██████████| 214/214 [00:17<00:00, 11.94it/s]\n",
      "Iteration:  79%|███████▉  | 170/214 [00:13<00:03, 12.50it/s]"
     ]
    },
    {
     "name": "stdout",
     "output_type": "stream",
     "text": [
      "Evaluating...\n"
     ]
    },
    {
     "name": "stderr",
     "output_type": "stream",
     "text": [
      "Iteration: 100%|██████████| 214/214 [00:09<00:00, 22.28it/s]\n",
      "Iteration: 100%|██████████| 24/24 [00:01<00:00, 19.58it/s]s]\n",
      "Iteration:  32%|███▏      | 69/214 [00:03<00:06, 22.00it/s]]"
     ]
    },
    {
     "name": "stdout",
     "output_type": "stream",
     "text": [
      "{'Train':  best_epoch_indx:89\n",
      " auc:0.9992610544994076 \n",
      " apur:0.9993416695452324 \n",
      " f1:0.986199233940528 \n",
      " precision:0.9788722175465072 \n",
      " recall:0.9936367653557225 \n",
      ", 'Validation':  best_epoch_indx:89\n",
      " auc:0.949886146409961 \n",
      " apur:0.9477538772949985 \n",
      " f1:0.8964616790703748 \n",
      " precision:0.8832004116285053 \n",
      " recall:0.9101272534464475 \n",
      ", 'Test':  best_epoch_indx:89\n",
      " auc:0.9508180694193472 \n",
      " apur:0.9494625088551164 \n",
      " f1:0.8967354400626795 \n",
      " precision:0.8834911486208317 \n",
      " recall:0.9103828613850885 \n",
      "}\n",
      "=====Epoch 90\n",
      "Training...\n"
     ]
    },
    {
     "name": "stderr",
     "output_type": "stream",
     "text": [
      "Iteration: 100%|██████████| 214/214 [00:17<00:00, 12.22it/s]\n",
      "Iteration:   4%|▎         | 8/214 [00:00<00:17, 11.99it/s]]"
     ]
    },
    {
     "name": "stdout",
     "output_type": "stream",
     "text": [
      "Evaluating...\n"
     ]
    },
    {
     "name": "stderr",
     "output_type": "stream",
     "text": [
      "Iteration: 100%|██████████| 60/60 [00:02<00:00, 22.44it/s]]]\n",
      "Iteration: 100%|██████████| 24/24 [00:01<00:00, 22.27it/s]]]\n",
      "Iteration:  32%|███▏      | 69/214 [00:03<00:06, 22.27it/s]]"
     ]
    },
    {
     "name": "stdout",
     "output_type": "stream",
     "text": [
      "{'Train':  best_epoch_indx:90\n",
      " auc:0.9990477619969432 \n",
      " apur:0.9991458594273713 \n",
      " f1:0.9853994288643186 \n",
      " precision:0.9797320908561444 \n",
      " recall:0.9911327146855207 \n",
      ", 'Validation':  best_epoch_indx:90\n",
      " auc:0.9484603404841516 \n",
      " apur:0.9464717738673459 \n",
      " f1:0.8928292046936115 \n",
      " precision:0.8783991790661878 \n",
      " recall:0.9077412513255567 \n",
      ", 'Test':  best_epoch_indx:90\n",
      " auc:0.9501636062722102 \n",
      " apur:0.9468422316939605 \n",
      " f1:0.894996328542956 \n",
      " precision:0.8853377607139151 \n",
      " recall:0.9048679605472478 \n",
      "}\n",
      "=====Epoch 91\n",
      "Training...\n"
     ]
    },
    {
     "name": "stderr",
     "output_type": "stream",
     "text": [
      "Iteration: 100%|██████████| 214/214 [00:09<00:00, 21.95it/s]\n",
      "Iteration: 100%|██████████| 60/60 [00:02<00:00, 22.63it/s]s]\n",
      "Iteration: 100%|██████████| 214/214 [00:09<00:00, 21.54it/s]\n",
      "Iteration: 100%|██████████| 214/214 [00:17<00:00, 12.30it/s]\n",
      "Iteration:  38%|███▊      | 9/24 [00:00<00:00, 20.21it/s]"
     ]
    },
    {
     "name": "stdout",
     "output_type": "stream",
     "text": [
      "Evaluating...\n"
     ]
    },
    {
     "name": "stderr",
     "output_type": "stream",
     "text": [
      "Iteration: 100%|██████████| 24/24 [00:01<00:00, 21.68it/s]]]\n",
      "Iteration:   7%|▋         | 16/214 [00:00<00:10, 19.67it/s]]"
     ]
    },
    {
     "name": "stdout",
     "output_type": "stream",
     "text": [
      "{'Train':  best_epoch_indx:92\n",
      " auc:0.9972287487219842 \n",
      " apur:0.9975157750312833 \n",
      " f1:0.975243108868904 \n",
      " precision:0.9682064980691617 \n",
      " recall:0.982382748055621 \n",
      ", 'Validation':  best_epoch_indx:92\n",
      " auc:0.9429547214554994 \n",
      " apur:0.9399943691584973 \n",
      " f1:0.8886849350989904 \n",
      " precision:0.8791180285343709 \n",
      " recall:0.8984623541887593 \n",
      ", 'Test':  best_epoch_indx:92\n",
      " auc:0.9452727782946024 \n",
      " apur:0.943843835641567 \n",
      " f1:0.8883867577509196 \n",
      " precision:0.8805208333333333 \n",
      " recall:0.8963944856839873 \n",
      "}\n",
      "=====Epoch 93\n",
      "Training...\n"
     ]
    },
    {
     "name": "stderr",
     "output_type": "stream",
     "text": [
      "Iteration: 100%|██████████| 60/60 [00:02<00:00, 22.36it/s]s]\n",
      "Iteration: 100%|██████████| 24/24 [00:01<00:00, 22.46it/s]s]\n",
      "Iteration:  68%|██████▊   | 146/214 [00:11<00:05, 12.24it/s]"
     ]
    },
    {
     "name": "stdout",
     "output_type": "stream",
     "text": [
      "{'Train':  best_epoch_indx:91\n",
      " auc:0.9977175087558662 \n",
      " apur:0.9979552579354244 \n",
      " f1:0.97732277493401 \n",
      " precision:0.9677121238375787 \n",
      " recall:0.9871262336131978 \n",
      ", 'Validation':  best_epoch_indx:91\n",
      " auc:0.9468637264253856 \n",
      " apur:0.9454450603541844 \n",
      " f1:0.8899621459339513 \n",
      " precision:0.8765749550012857 \n",
      " recall:0.9037645811240721 \n",
      ", 'Test':  best_epoch_indx:91\n",
      " auc:0.9463876968184787 \n",
      " apur:0.941876615179158 \n",
      " f1:0.8919511431255872 \n",
      " precision:0.8781991982732038 \n",
      " recall:0.9061406299713649 \n",
      "}\n",
      "=====Epoch 92\n",
      "Training...\n"
     ]
    },
    {
     "name": "stderr",
     "output_type": "stream",
     "text": [
      "Iteration: 100%|██████████| 214/214 [00:17<00:00, 12.38it/s]\n",
      "Iteration:   1%|▏         | 3/214 [00:00<00:09, 21.96it/s]s]"
     ]
    },
    {
     "name": "stdout",
     "output_type": "stream",
     "text": [
      "Evaluating...\n"
     ]
    },
    {
     "name": "stderr",
     "output_type": "stream",
     "text": [
      "Iteration: 100%|██████████| 214/214 [00:17<00:00, 12.37it/s]\n",
      "Iteration:  55%|█████▌    | 118/214 [00:09<00:08, 11.81it/s]"
     ]
    },
    {
     "name": "stdout",
     "output_type": "stream",
     "text": [
      "Evaluating...\n"
     ]
    },
    {
     "name": "stderr",
     "output_type": "stream",
     "text": [
      "Iteration: 100%|██████████| 214/214 [00:10<00:00, 19.53it/s]\n",
      "Iteration: 100%|██████████| 60/60 [00:02<00:00, 22.59it/s]]]\n",
      "Iteration: 100%|██████████| 24/24 [00:01<00:00, 20.37it/s]s]\n",
      "Iteration:  53%|█████▎    | 113/214 [00:05<00:04, 22.34it/s]"
     ]
    },
    {
     "name": "stdout",
     "output_type": "stream",
     "text": [
      "{'Train':  best_epoch_indx:93\n",
      " auc:0.9962147039114194 \n",
      " apur:0.9965853659796902 \n",
      " f1:0.9714402523069735 \n",
      " precision:0.9630315838230611 \n",
      " recall:0.979997054058035 \n",
      ", 'Validation':  best_epoch_indx:93\n",
      " auc:0.9399360276172453 \n",
      " apur:0.9360421878615015 \n",
      " f1:0.881714808521762 \n",
      " precision:0.8695540087651457 \n",
      " recall:0.894220572640509 \n",
      ", 'Test':  best_epoch_indx:93\n",
      " auc:0.9396358357207939 \n",
      " apur:0.9378017604580936 \n",
      " f1:0.8818633865480241 \n",
      " precision:0.8706076891277388 \n",
      " recall:0.8934139357301941 \n",
      "}\n",
      "=====Epoch 94\n",
      "Training...\n"
     ]
    },
    {
     "name": "stderr",
     "output_type": "stream",
     "text": [
      "Iteration: 100%|██████████| 214/214 [00:09<00:00, 22.13it/s]\n",
      "Iteration: 100%|██████████| 214/214 [00:17<00:00, 12.26it/s]\n",
      "Iteration:  48%|████▊     | 29/60 [00:01<00:01, 20.37it/s]s]"
     ]
    },
    {
     "name": "stdout",
     "output_type": "stream",
     "text": [
      "Evaluating...\n"
     ]
    },
    {
     "name": "stderr",
     "output_type": "stream",
     "text": [
      "Iteration: 100%|██████████| 60/60 [00:02<00:00, 20.48it/s]]]\n",
      "Iteration: 100%|██████████| 214/214 [00:10<00:00, 21.09it/s]\n",
      "Iteration: 100%|██████████| 24/24 [00:01<00:00, 21.63it/s]]]\n",
      "Iteration:  32%|███▏      | 68/214 [00:05<00:11, 12.35it/s]]"
     ]
    },
    {
     "name": "stdout",
     "output_type": "stream",
     "text": [
      "{'Train':  best_epoch_indx:90\n",
      " auc:0.9991776892559449 \n",
      " apur:0.9992659673031195 \n",
      " f1:0.9863410777811936 \n",
      " precision:0.9803562074384494 \n",
      " recall:0.9923994697304463 \n",
      ", 'Validation':  best_epoch_indx:90\n",
      " auc:0.9490112155418673 \n",
      " apur:0.946788926920565 \n",
      " f1:0.8940188877229799 \n",
      " precision:0.8847352024922118 \n",
      " recall:0.9034994697773064 \n",
      ", 'Test':  best_epoch_indx:90\n",
      " auc:0.9498435233152736 \n",
      " apur:0.9483645683371542 \n",
      " f1:0.8953488372093023 \n",
      " precision:0.884507916796026 \n",
      " recall:0.9064587973273942 \n",
      "}\n",
      "=====Epoch 91\n",
      "Training...\n"
     ]
    },
    {
     "name": "stderr",
     "output_type": "stream",
     "text": [
      "Iteration: 100%|██████████| 214/214 [00:17<00:00, 12.09it/s]\n",
      "Iteration:  55%|█████▌    | 33/60 [00:01<00:01, 22.72it/s]]"
     ]
    },
    {
     "name": "stdout",
     "output_type": "stream",
     "text": [
      "Evaluating...\n"
     ]
    },
    {
     "name": "stderr",
     "output_type": "stream",
     "text": [
      "Iteration: 100%|██████████| 60/60 [00:02<00:00, 22.78it/s]]]\n",
      "Iteration: 100%|██████████| 24/24 [00:01<00:00, 22.50it/s]]]\n",
      "Iteration:  53%|█████▎    | 114/214 [00:09<00:08, 12.35it/s]"
     ]
    },
    {
     "name": "stdout",
     "output_type": "stream",
     "text": [
      "{'Train':  best_epoch_indx:91\n",
      " auc:0.9988976319233368 \n",
      " apur:0.9990092235764102 \n",
      " f1:0.9832557188946147 \n",
      " precision:0.9745630281282556 \n",
      " recall:0.992104875533952 \n",
      ", 'Validation':  best_epoch_indx:91\n",
      " auc:0.9447519528177911 \n",
      " apur:0.9417012649234193 \n",
      " f1:0.8891481913652274 \n",
      " precision:0.870083735092616 \n",
      " recall:0.9090668080593849 \n",
      ", 'Test':  best_epoch_indx:91\n",
      " auc:0.9474517370060097 \n",
      " apur:0.9445297709495439 \n",
      " f1:0.8911518678235569 \n",
      " precision:0.8734976573640253 \n",
      " recall:0.9095344151023438 \n",
      "}\n",
      "=====Epoch 92\n",
      "Training...\n"
     ]
    },
    {
     "name": "stderr",
     "output_type": "stream",
     "text": [
      "Iteration: 100%|██████████| 214/214 [00:10<00:00, 19.59it/s]\n",
      "Iteration: 100%|██████████| 214/214 [00:09<00:00, 22.13it/s]\n",
      "Iteration: 100%|██████████| 60/60 [00:03<00:00, 19.16it/s]s]\n",
      "Iteration: 100%|██████████| 214/214 [00:17<00:00, 12.21it/s]\n",
      "Iteration:  12%|█▎        | 3/24 [00:00<00:00, 22.05it/s]]s]"
     ]
    },
    {
     "name": "stdout",
     "output_type": "stream",
     "text": [
      "Evaluating...\n"
     ]
    },
    {
     "name": "stderr",
     "output_type": "stream",
     "text": [
      "Iteration: 100%|██████████| 24/24 [00:01<00:00, 22.25it/s]]]\n",
      "Iteration:  12%|█▏        | 25/214 [00:01<00:08, 21.86it/s]]"
     ]
    },
    {
     "name": "stdout",
     "output_type": "stream",
     "text": [
      "{'Train':  best_epoch_indx:93\n",
      " auc:0.9972369568798499 \n",
      " apur:0.9975014604985084 \n",
      " f1:0.9759847708302826 \n",
      " precision:0.9702731031270017 \n",
      " recall:0.9817640820174405 \n",
      ", 'Validation':  best_epoch_indx:93\n",
      " auc:0.9437473599856916 \n",
      " apur:0.9411147466478091 \n",
      " f1:0.8881311475409837 \n",
      " precision:0.878795743576434 \n",
      " recall:0.8976670201484623 \n",
      ", 'Test':  best_epoch_indx:93\n",
      " auc:0.9455240108609704 \n",
      " apur:0.945105317410622 \n",
      " f1:0.88570232363408 \n",
      " precision:0.8743542054143418 \n",
      " recall:0.8973488865323436 \n",
      "}\n",
      "=====Epoch 94\n",
      "Training...\n"
     ]
    },
    {
     "name": "stderr",
     "output_type": "stream",
     "text": [
      "Iteration: 100%|██████████| 60/60 [00:02<00:00, 22.26it/s]]]\n",
      "Iteration: 100%|██████████| 24/24 [00:01<00:00, 20.94it/s]]]\n",
      "Iteration:  65%|██████▌   | 140/214 [00:11<00:06, 11.84it/s]"
     ]
    },
    {
     "name": "stdout",
     "output_type": "stream",
     "text": [
      "{'Train':  best_epoch_indx:92\n",
      " auc:0.9976291236445243 \n",
      " apur:0.9978763913231417 \n",
      " f1:0.9772455089820359 \n",
      " precision:0.9690369297610427 \n",
      " recall:0.9855943437914273 \n",
      ", 'Validation':  best_epoch_indx:92\n",
      " auc:0.9462199751886222 \n",
      " apur:0.9431261753782402 \n",
      " f1:0.8885983263598326 \n",
      " precision:0.8766769865841073 \n",
      " recall:0.9008483563096501 \n",
      ", 'Test':  best_epoch_indx:92\n",
      " auc:0.9447822456526007 \n",
      " apur:0.9398803899466608 \n",
      " f1:0.8904789262025383 \n",
      " precision:0.8772381148384442 \n",
      " recall:0.9041255700498462 \n",
      "}\n",
      "=====Epoch 93\n",
      "Training...\n"
     ]
    },
    {
     "name": "stderr",
     "output_type": "stream",
     "text": [
      "Iteration: 100%|██████████| 214/214 [00:18<00:00, 11.84it/s]\n",
      "Iteration:  64%|██████▎   | 136/214 [00:06<00:03, 22.13it/s]"
     ]
    },
    {
     "name": "stdout",
     "output_type": "stream",
     "text": [
      "Evaluating...\n"
     ]
    },
    {
     "name": "stderr",
     "output_type": "stream",
     "text": [
      "Iteration: 100%|██████████| 214/214 [00:17<00:00, 11.95it/s]\n",
      "Iteration: 100%|██████████| 214/214 [00:09<00:00, 21.80it/s]\n"
     ]
    },
    {
     "name": "stdout",
     "output_type": "stream",
     "text": [
      "Evaluating...\n"
     ]
    },
    {
     "name": "stderr",
     "output_type": "stream",
     "text": [
      "Iteration: 100%|██████████| 60/60 [00:02<00:00, 22.05it/s]s]\n",
      "Iteration: 100%|██████████| 24/24 [00:01<00:00, 20.03it/s]s]\n",
      "Iteration:   0%|          | 0/214 [00:00<?, ?it/s]22.52it/s]"
     ]
    },
    {
     "name": "stdout",
     "output_type": "stream",
     "text": [
      "{'Train':  best_epoch_indx:94\n",
      " auc:0.9961526409067806 \n",
      " apur:0.9965255714021559 \n",
      " f1:0.9717731287227487 \n",
      " precision:0.9679106876698716 \n",
      " recall:0.9756665193695684 \n",
      ", 'Validation':  best_epoch_indx:94\n",
      " auc:0.9402123174029742 \n",
      " apur:0.9372855590507253 \n",
      " f1:0.8815266366286774 \n",
      " precision:0.881293057763646 \n",
      " recall:0.8817603393425238 \n",
      ", 'Test':  best_epoch_indx:94\n",
      " auc:0.9419799045665408 \n",
      " apur:0.9404207700863026 \n",
      " f1:0.8811321751069335 \n",
      " precision:0.8774716028607489 \n",
      " recall:0.8848234171174038 \n",
      "}\n",
      "=====Epoch 95\n",
      "Training...\n"
     ]
    },
    {
     "name": "stderr",
     "output_type": "stream",
     "text": [
      "Iteration: 100%|██████████| 214/214 [00:09<00:00, 22.38it/s]\n",
      "Iteration: 100%|██████████| 214/214 [00:17<00:00, 12.02it/s]\n",
      "Iteration:  24%|██▍       | 51/214 [00:04<00:13, 12.40it/s]]"
     ]
    },
    {
     "name": "stdout",
     "output_type": "stream",
     "text": [
      "Evaluating...\n"
     ]
    },
    {
     "name": "stderr",
     "output_type": "stream",
     "text": [
      "Iteration: 100%|██████████| 60/60 [00:02<00:00, 20.84it/s]s]\n",
      "Iteration: 100%|██████████| 214/214 [00:09<00:00, 21.94it/s]\n",
      "Iteration: 100%|██████████| 24/24 [00:01<00:00, 22.51it/s]]]\n",
      "Iteration:  20%|██        | 12/60 [00:00<00:02, 19.70it/s]]]"
     ]
    },
    {
     "name": "stdout",
     "output_type": "stream",
     "text": [
      "{'Train':  best_epoch_indx:91\n",
      " auc:0.9985577551511083 \n",
      " apur:0.9987046054230444 \n",
      " f1:0.9818139392436814 \n",
      " precision:0.9721869223659889 \n",
      " recall:0.991633524819561 \n",
      ", 'Validation':  best_epoch_indx:91\n",
      " auc:0.9478866328702553 \n",
      " apur:0.9471448468796074 \n",
      " f1:0.8908593036901813 \n",
      " precision:0.8765717218373108 \n",
      " recall:0.9056203605514316 \n",
      ", 'Test':  best_epoch_indx:91\n",
      " auc:0.9469388126623502 \n",
      " apur:0.9449456835108542 \n",
      " f1:0.8930673472576697 \n",
      " precision:0.877482088024565 \n",
      " recall:0.9092162477463146 \n",
      "}\n",
      "=====Epoch 92\n",
      "Training...\n"
     ]
    },
    {
     "name": "stderr",
     "output_type": "stream",
     "text": [
      "Iteration: 100%|██████████| 214/214 [00:17<00:00, 12.24it/s]\n",
      "Iteration:  35%|███▌      | 21/60 [00:01<00:01, 21.90it/s]"
     ]
    },
    {
     "name": "stdout",
     "output_type": "stream",
     "text": [
      "Evaluating...\n"
     ]
    },
    {
     "name": "stderr",
     "output_type": "stream",
     "text": [
      "Iteration: 100%|██████████| 60/60 [00:02<00:00, 22.03it/s]]\n",
      "Iteration: 100%|██████████| 24/24 [00:01<00:00, 20.91it/s]s]\n",
      "Iteration:  56%|█████▌    | 120/214 [00:05<00:04, 22.14it/s]"
     ]
    },
    {
     "name": "stdout",
     "output_type": "stream",
     "text": [
      "{'Train':  best_epoch_indx:92\n",
      " auc:0.9983307250675435 \n",
      " apur:0.9984962282853955 \n",
      " f1:0.979841350702278 \n",
      " precision:0.9683544303797469 \n",
      " recall:0.9916040653999116 \n",
      ", 'Validation':  best_epoch_indx:92\n",
      " auc:0.9453566587978913 \n",
      " apur:0.9430800113126121 \n",
      " f1:0.8919653253978522 \n",
      " precision:0.8711144806671721 \n",
      " recall:0.9138388123011665 \n",
      ", 'Test':  best_epoch_indx:92\n",
      " auc:0.9450197294207374 \n",
      " apur:0.9420938881581706 \n",
      " f1:0.8904564315352697 \n",
      " precision:0.8713836158765608 \n",
      " recall:0.9103828613850885 \n",
      "}\n",
      "=====Epoch 93\n",
      "Training...\n"
     ]
    },
    {
     "name": "stderr",
     "output_type": "stream",
     "text": [
      "Iteration: 100%|██████████| 214/214 [00:09<00:00, 22.09it/s]\n",
      "Iteration: 100%|██████████| 214/214 [00:10<00:00, 20.82it/s]\n",
      "Iteration: 100%|██████████| 60/60 [00:02<00:00, 21.28it/s]s]\n",
      "Iteration: 100%|██████████| 214/214 [00:17<00:00, 12.29it/s]\n",
      "Iteration:   1%|          | 2/214 [00:00<00:10, 19.40it/s]s]"
     ]
    },
    {
     "name": "stdout",
     "output_type": "stream",
     "text": [
      "Evaluating...\n"
     ]
    },
    {
     "name": "stderr",
     "output_type": "stream",
     "text": [
      "Iteration: 100%|██████████| 24/24 [00:01<00:00, 22.49it/s]]]\n",
      "Iteration:   1%|          | 2/214 [00:00<00:17, 12.24it/s]s]"
     ]
    },
    {
     "name": "stdout",
     "output_type": "stream",
     "text": [
      "{'Train':  best_epoch_indx:94\n",
      " auc:0.995623973588703 \n",
      " apur:0.9959738721687075 \n",
      " f1:0.96999883490621 \n",
      " precision:0.9591589861751152 \n",
      " recall:0.9810864954041951 \n",
      ", 'Validation':  best_epoch_indx:94\n",
      " auc:0.9428384974021624 \n",
      " apur:0.9387757337525772 \n",
      " f1:0.8855061150143116 \n",
      " precision:0.8694430250383239 \n",
      " recall:0.9021739130434783 \n",
      ", 'Test':  best_epoch_indx:94\n",
      " auc:0.9429893129585057 \n",
      " apur:0.9407865882604303 \n",
      " f1:0.8872556684910086 \n",
      " precision:0.87247565351102 \n",
      " recall:0.9025450689289501 \n",
      "}\n",
      "=====Epoch 95\n",
      "Training...\n"
     ]
    },
    {
     "name": "stderr",
     "output_type": "stream",
     "text": [
      "Iteration: 100%|██████████| 60/60 [00:02<00:00, 21.99it/s]]]\n",
      "Iteration: 100%|██████████| 24/24 [00:01<00:00, 20.72it/s]]]\n",
      "Iteration:  39%|███▉      | 84/214 [00:04<00:05, 22.27it/s]]"
     ]
    },
    {
     "name": "stdout",
     "output_type": "stream",
     "text": [
      "{'Train':  best_epoch_indx:93\n",
      " auc:0.9961384402031194 \n",
      " apur:0.9965275429211875 \n",
      " f1:0.9700278032519616 \n",
      " precision:0.9587649631675875 \n",
      " recall:0.981558403299455 \n",
      ", 'Validation':  best_epoch_indx:93\n",
      " auc:0.943675294730246 \n",
      " apur:0.9428270661169766 \n",
      " f1:0.8897001303780964 \n",
      " precision:0.8753206772703951 \n",
      " recall:0.9045599151643691 \n",
      ", 'Test':  best_epoch_indx:93\n",
      " auc:0.9429960366090362 \n",
      " apur:0.9381150065411735 \n",
      " f1:0.8869574268762361 \n",
      " precision:0.8708226877874298 \n",
      " recall:0.9037013469084738 \n",
      "}\n",
      "=====Epoch 94\n",
      "Training...\n"
     ]
    },
    {
     "name": "stderr",
     "output_type": "stream",
     "text": [
      "Iteration: 100%|██████████| 214/214 [00:17<00:00, 12.01it/s]\n",
      "Iteration:  62%|██████▏   | 132/214 [00:06<00:03, 22.18it/s]"
     ]
    },
    {
     "name": "stdout",
     "output_type": "stream",
     "text": [
      "Evaluating...\n"
     ]
    },
    {
     "name": "stderr",
     "output_type": "stream",
     "text": [
      "Iteration: 100%|██████████| 214/214 [00:17<00:00, 12.36it/s]\n",
      "Iteration:  46%|████▌     | 98/214 [00:08<00:09, 12.41it/s]]"
     ]
    },
    {
     "name": "stdout",
     "output_type": "stream",
     "text": [
      "Evaluating...\n"
     ]
    },
    {
     "name": "stderr",
     "output_type": "stream",
     "text": [
      "Iteration: 100%|██████████| 214/214 [00:09<00:00, 21.63it/s]\n",
      "Iteration: 100%|██████████| 60/60 [00:03<00:00, 17.06it/s]s]\n",
      "Iteration: 100%|██████████| 24/24 [00:01<00:00, 22.15it/s]s]\n",
      "Iteration:  92%|█████████▏| 197/214 [00:09<00:00, 19.19it/s]"
     ]
    },
    {
     "name": "stdout",
     "output_type": "stream",
     "text": [
      "{'Train':  best_epoch_indx:95\n",
      " auc:0.996631136472609 \n",
      " apur:0.9969914024724552 \n",
      " f1:0.972437729685586 \n",
      " precision:0.9628613509688971 \n",
      " recall:0.9822065105317426 \n",
      ", 'Validation':  best_epoch_indx:95\n",
      " auc:0.9444742756371552 \n",
      " apur:0.9398527382237023 \n",
      " f1:0.8903158170619841 \n",
      " precision:0.8802798652500647 \n",
      " recall:0.9005832449628844 \n",
      ", 'Test':  best_epoch_indx:95\n",
      " auc:0.9421883621037087 \n",
      " apur:0.9386527918326824 \n",
      " f1:0.8877033317642136 \n",
      " precision:0.8757481940144479 \n",
      " recall:0.8999893944214656 \n",
      "}\n",
      "=====Epoch 96\n",
      "Training...\n"
     ]
    },
    {
     "name": "stderr",
     "output_type": "stream",
     "text": [
      "Iteration: 100%|██████████| 214/214 [00:10<00:00, 21.20it/s]\n",
      "Iteration: 100%|██████████| 214/214 [00:17<00:00, 12.20it/s]\n",
      "Iteration:   1%|▏         | 3/214 [00:00<00:10, 20.87it/s]]]"
     ]
    },
    {
     "name": "stdout",
     "output_type": "stream",
     "text": [
      "Evaluating...\n"
     ]
    },
    {
     "name": "stderr",
     "output_type": "stream",
     "text": [
      "Iteration: 100%|██████████| 214/214 [00:10<00:00, 21.06it/s]\n",
      "Iteration: 100%|██████████| 60/60 [00:02<00:00, 22.30it/s]s]\n",
      "Iteration: 100%|██████████| 24/24 [00:01<00:00, 20.36it/s]]]\n",
      "Iteration:  33%|███▎      | 70/214 [00:05<00:11, 12.24it/s]]"
     ]
    },
    {
     "name": "stdout",
     "output_type": "stream",
     "text": [
      "{'Train':  best_epoch_indx:92\n",
      " auc:0.9974187884394204 \n",
      " apur:0.9976870580547892 \n",
      " f1:0.9763655231886812 \n",
      " precision:0.9689022975168252 \n",
      " recall:0.9839446162910591 \n",
      ", 'Validation':  best_epoch_indx:92\n",
      " auc:0.9436093340123906 \n",
      " apur:0.9420543854744303 \n",
      " f1:0.887399816055709 \n",
      " precision:0.8796561604584527 \n",
      " recall:0.8952810180275715 \n",
      ", 'Test':  best_epoch_indx:92\n",
      " auc:0.944627583079992 \n",
      " apur:0.9433148737861813 \n",
      " f1:0.8854303591145697 \n",
      " precision:0.8779979144942649 \n",
      " recall:0.8929897125888218 \n",
      "}\n",
      "=====Epoch 93\n",
      "Training...\n",
      "Evaluating...\n"
     ]
    },
    {
     "name": "stderr",
     "output_type": "stream",
     "text": [
      "Iteration: 100%|██████████| 214/214 [00:17<00:00, 12.28it/s]\n",
      "Iteration: 100%|██████████| 60/60 [00:02<00:00, 21.41it/s]]\n",
      "Iteration: 100%|██████████| 24/24 [00:01<00:00, 20.04it/s]s]\n",
      "Iteration:   0%|          | 0/214 [00:00<?, ?it/s]2.52it/s]]"
     ]
    },
    {
     "name": "stdout",
     "output_type": "stream",
     "text": [
      "{'Train':  best_epoch_indx:93\n",
      " auc:0.9969493436694058 \n",
      " apur:0.9972482522801689 \n",
      " f1:0.9743664989068712 \n",
      " precision:0.9706209073900842 \n",
      " recall:0.9781411106201208 \n",
      ", 'Validation':  best_epoch_indx:93\n",
      " auc:0.9436628874557937 \n",
      " apur:0.9415468652254355 \n",
      " f1:0.8835616438356164 \n",
      " precision:0.8780104712041885 \n",
      " recall:0.8891834570519618 \n",
      ", 'Test':  best_epoch_indx:93\n",
      " auc:0.9441069138730609 \n",
      " apur:0.9408902715824047 \n",
      " f1:0.8855316676350958 \n",
      " precision:0.8821300778783414 \n",
      " recall:0.8889595927457843 \n",
      "}\n",
      "=====Epoch 94\n",
      "Training...\n"
     ]
    },
    {
     "name": "stderr",
     "output_type": "stream",
     "text": [
      "Iteration: 100%|██████████| 214/214 [00:09<00:00, 22.29it/s]\n",
      "Iteration: 100%|██████████| 214/214 [00:10<00:00, 21.00it/s]\n",
      "Iteration: 100%|██████████| 60/60 [00:03<00:00, 19.97it/s]]]\n",
      "Iteration: 100%|██████████| 214/214 [00:17<00:00, 12.15it/s]\n",
      "Iteration:  69%|██████▉   | 148/214 [00:12<00:05, 12.23it/s]"
     ]
    },
    {
     "name": "stdout",
     "output_type": "stream",
     "text": [
      "Evaluating...\n"
     ]
    },
    {
     "name": "stderr",
     "output_type": "stream",
     "text": [
      "Iteration: 100%|██████████| 24/24 [00:01<00:00, 21.25it/s]s]\n",
      "Iteration:   0%|          | 0/214 [00:00<?, ?it/s]1.83it/s]]"
     ]
    },
    {
     "name": "stdout",
     "output_type": "stream",
     "text": [
      "{'Train':  best_epoch_indx:95\n",
      " auc:0.995213928870933 \n",
      " apur:0.9957148022862936 \n",
      " f1:0.9679427874943095 \n",
      " precision:0.9649811143969783 \n",
      " recall:0.970922696205515 \n",
      ", 'Validation':  best_epoch_indx:95\n",
      " auc:0.944124295361947 \n",
      " apur:0.9427100139790476 \n",
      " f1:0.8861294583883752 \n",
      " precision:0.8830963665086888 \n",
      " recall:0.8891834570519618 \n",
      ", 'Test':  best_epoch_indx:95\n",
      " auc:0.9441383973205582 \n",
      " apur:0.9439209982084704 \n",
      " f1:0.8859180977542933 \n",
      " precision:0.882885729331227 \n",
      " recall:0.8889713679745493 \n",
      "}\n",
      "=====Epoch 96\n",
      "Training...\n"
     ]
    },
    {
     "name": "stderr",
     "output_type": "stream",
     "text": [
      "Iteration: 100%|██████████| 60/60 [00:02<00:00, 20.64it/s]s]\n",
      "Iteration: 100%|██████████| 24/24 [00:01<00:00, 19.50it/s]s]\n",
      "Iteration:  90%|████████▉ | 192/214 [00:15<00:01, 11.85it/s]"
     ]
    },
    {
     "name": "stdout",
     "output_type": "stream",
     "text": [
      "{'Train':  best_epoch_indx:94\n",
      " auc:0.9932501841360565 \n",
      " apur:0.9939158702162876 \n",
      " f1:0.9605992857350252 \n",
      " precision:0.9469616738701091 \n",
      " recall:0.9746354396818383 \n",
      ", 'Validation':  best_epoch_indx:94\n",
      " auc:0.940816745904093 \n",
      " apur:0.9398440752240165 \n",
      " f1:0.8838844051028378 \n",
      " precision:0.8682864450127877 \n",
      " recall:0.9000530222693531 \n",
      ", 'Test':  best_epoch_indx:94\n",
      " auc:0.9397218560168389 \n",
      " apur:0.9350698869979137 \n",
      " f1:0.8829820371716333 \n",
      " precision:0.8648428760296959 \n",
      " recall:0.9018983985576413 \n",
      "}\n",
      "=====Epoch 95\n",
      "Training...\n"
     ]
    },
    {
     "name": "stderr",
     "output_type": "stream",
     "text": [
      "Iteration: 100%|██████████| 214/214 [00:17<00:00, 12.28it/s]\n",
      "Iteration:  57%|█████▋    | 123/214 [00:05<00:04, 22.06it/s]"
     ]
    },
    {
     "name": "stdout",
     "output_type": "stream",
     "text": [
      "Evaluating...\n"
     ]
    },
    {
     "name": "stderr",
     "output_type": "stream",
     "text": [
      "Iteration: 100%|██████████| 214/214 [00:17<00:00, 12.37it/s]\n",
      "Iteration:   1%|▏         | 3/214 [00:00<00:09, 21.75it/s]]]"
     ]
    },
    {
     "name": "stdout",
     "output_type": "stream",
     "text": [
      "Evaluating...\n"
     ]
    },
    {
     "name": "stderr",
     "output_type": "stream",
     "text": [
      "Iteration: 100%|██████████| 214/214 [00:09<00:00, 21.90it/s]\n",
      "Iteration: 100%|██████████| 60/60 [00:02<00:00, 22.27it/s]s]\n",
      "Iteration: 100%|██████████| 24/24 [00:01<00:00, 21.95it/s]s]\n",
      "Iteration:   0%|          | 0/214 [00:00<?, ?it/s]21.82it/s]"
     ]
    },
    {
     "name": "stdout",
     "output_type": "stream",
     "text": [
      "{'Train':  best_epoch_indx:96\n",
      " auc:0.9982309390910715 \n",
      " apur:0.998401497976058 \n",
      " f1:0.9799276461664139 \n",
      " precision:0.9705550900106915 \n",
      " recall:0.9894829871851525 \n",
      ", 'Validation':  best_epoch_indx:96\n",
      " auc:0.9463488047156838 \n",
      " apur:0.9432202294523807 \n",
      " f1:0.8879927149733318 \n",
      " precision:0.8717752234993614 \n",
      " recall:0.9048250265111347 \n",
      ", 'Test':  best_epoch_indx:96\n",
      " auc:0.9458887371407678 \n",
      " apur:0.9440664300839104 \n",
      " f1:0.8892232657085041 \n",
      " precision:0.8704794798862251 \n",
      " recall:0.9087920246049422 \n",
      "}\n",
      "=====Epoch 97\n",
      "Training...\n"
     ]
    },
    {
     "name": "stderr",
     "output_type": "stream",
     "text": [
      "Iteration: 100%|██████████| 214/214 [00:10<00:00, 20.47it/s]\n",
      "Iteration: 100%|██████████| 214/214 [00:17<00:00, 12.22it/s]\n",
      "Iteration:  95%|█████████▍| 203/214 [00:09<00:00, 22.15it/s]"
     ]
    },
    {
     "name": "stdout",
     "output_type": "stream",
     "text": [
      "Evaluating...\n"
     ]
    },
    {
     "name": "stderr",
     "output_type": "stream",
     "text": [
      "Iteration: 100%|██████████| 214/214 [00:10<00:00, 21.31it/s]\n",
      "Iteration: 100%|██████████| 60/60 [00:02<00:00, 22.67it/s]]]\n",
      "Iteration: 100%|██████████| 24/24 [00:01<00:00, 22.64it/s]]]\n",
      "Iteration:  50%|█████     | 30/60 [00:01<00:01, 22.85it/s]]]"
     ]
    },
    {
     "name": "stdout",
     "output_type": "stream",
     "text": [
      "{'Train':  best_epoch_indx:93\n",
      " auc:0.9971696726013389 \n",
      " apur:0.9974751287305614 \n",
      " f1:0.9749808902216733 \n",
      " precision:0.9730070709737992 \n",
      " recall:0.9769627338341434 \n",
      ", 'Validation':  best_epoch_indx:93\n",
      " auc:0.9419161969079645 \n",
      " apur:0.9403297796328397 \n",
      " f1:0.8824075301604137 \n",
      " precision:0.8825245293025723 \n",
      " recall:0.8822905620360552 \n",
      ", 'Test':  best_epoch_indx:93\n",
      " auc:0.9448452638480186 \n",
      " apur:0.9429185501635363 \n",
      " f1:0.8853540458583817 \n",
      " precision:0.8882365499573015 \n",
      " recall:0.8824901898398557 \n",
      "}\n",
      "=====Epoch 94\n",
      "Training...\n"
     ]
    },
    {
     "name": "stderr",
     "output_type": "stream",
     "text": [
      "\r",
      "Iteration:  99%|█████████▉| 212/214 [00:17<00:00, 12.37it/s]\r",
      "Iteration:   1%|          | 2/214 [00:00<00:17, 12.21it/s]\r",
      "Iteration:  36%|███▌      | 76/214 [00:06<00:11, 12.42it/s]\r",
      "Iteration:  25%|██▌       | 54/214 [00:02<00:08, 19.45it/s]\r",
      "Iteration:  55%|█████▌    | 33/60 [00:01<00:01, 21.82it/s]\r",
      "Iteration: 100%|██████████| 214/214 [00:17<00:00, 12.92it/s]\r",
      "Iteration: 100%|██████████| 214/214 [00:17<00:00, 12.39it/s]\n",
      "\r",
      "Iteration:   0%|          | 0/214 [00:00<?, ?it/s]"
     ]
    },
    {
     "name": "stdout",
     "output_type": "stream",
     "text": [
      "Evaluating...\n"
     ]
    },
    {
     "name": "stderr",
     "output_type": "stream",
     "text": [
      "Iteration: 100%|██████████| 60/60 [00:02<00:00, 21.43it/s]]\n",
      "Iteration: 100%|██████████| 24/24 [00:01<00:00, 20.26it/s]s]\n",
      "Iteration:  31%|███       | 66/214 [00:02<00:06, 21.96it/s]]"
     ]
    },
    {
     "name": "stdout",
     "output_type": "stream",
     "text": [
      "{'Train':  best_epoch_indx:94\n",
      " auc:0.9958784094807056 \n",
      " apur:0.9963201955348234 \n",
      " f1:0.967743801891978 \n",
      " precision:0.9506379834607406 \n",
      " recall:0.9854765061128296 \n",
      ", 'Validation':  best_epoch_indx:94\n",
      " auc:0.9415434237164297 \n",
      " apur:0.9398881037192586 \n",
      " f1:0.8872296601441813 \n",
      " precision:0.8623623623623624 \n",
      " recall:0.9135737009544008 \n",
      ", 'Test':  best_epoch_indx:94\n",
      " auc:0.9424322410094887 \n",
      " apur:0.9405047693209003 \n",
      " f1:0.8859143327841845 \n",
      " precision:0.8608304152076038 \n",
      " recall:0.9125039770919504 \n",
      "}\n",
      "=====Epoch 95\n",
      "Training...\n"
     ]
    },
    {
     "name": "stderr",
     "output_type": "stream",
     "text": [
      "Iteration: 100%|██████████| 214/214 [00:09<00:00, 21.56it/s]\n",
      "Iteration: 100%|██████████| 214/214 [00:09<00:00, 21.47it/s]\n",
      "Iteration: 100%|██████████| 60/60 [00:02<00:00, 22.61it/s]]]\n",
      "Iteration: 100%|██████████| 214/214 [00:17<00:00, 12.23it/s]\n",
      "Iteration:   1%|▏         | 3/214 [00:00<00:09, 21.26it/s]s]"
     ]
    },
    {
     "name": "stdout",
     "output_type": "stream",
     "text": [
      "Evaluating...\n"
     ]
    },
    {
     "name": "stderr",
     "output_type": "stream",
     "text": [
      "Iteration: 100%|██████████| 24/24 [00:01<00:00, 22.37it/s]s]\n",
      "Iteration:  53%|█████▎    | 114/214 [00:09<00:08, 12.43it/s]"
     ]
    },
    {
     "name": "stdout",
     "output_type": "stream",
     "text": [
      "{'Train':  best_epoch_indx:96\n",
      " auc:0.9976671216182145 \n",
      " apur:0.9979074083732455 \n",
      " f1:0.9761433725125103 \n",
      " precision:0.9641379310344828 \n",
      " recall:0.9884515672872968 \n",
      ", 'Validation':  best_epoch_indx:96\n",
      " auc:0.9464910325135599 \n",
      " apur:0.9431261693254264 \n",
      " f1:0.8938981733385153 \n",
      " precision:0.8740815809475551 \n",
      " recall:0.9146341463414634 \n",
      ", 'Test':  best_epoch_indx:96\n",
      " auc:0.9466520106407365 \n",
      " apur:0.9449149248379762 \n",
      " f1:0.8934299017071908 \n",
      " precision:0.8722222222222222 \n",
      " recall:0.915694591728526 \n",
      "}\n",
      "=====Epoch 97\n",
      "Training...\n"
     ]
    },
    {
     "name": "stderr",
     "output_type": "stream",
     "text": [
      "Iteration: 100%|██████████| 60/60 [00:03<00:00, 18.59it/s]]]\n",
      "Iteration: 100%|██████████| 24/24 [00:01<00:00, 22.60it/s]s]\n",
      "Iteration:  20%|█▉        | 42/214 [00:03<00:13, 12.39it/s]]"
     ]
    },
    {
     "name": "stdout",
     "output_type": "stream",
     "text": [
      "{'Train':  best_epoch_indx:95\n",
      " auc:0.9944545275786971 \n",
      " apur:0.9949693459615913 \n",
      " f1:0.9652437602052717 \n",
      " precision:0.9554651196351777 \n",
      " recall:0.9752246280748269 \n",
      ", 'Validation':  best_epoch_indx:95\n",
      " auc:0.943052195857667 \n",
      " apur:0.9425154201694814 \n",
      " f1:0.885396201702685 \n",
      " precision:0.874967641729226 \n",
      " recall:0.8960763520678685 \n",
      ", 'Test':  best_epoch_indx:95\n",
      " auc:0.9427106437890637 \n",
      " apur:0.938715753314662 \n",
      " f1:0.8869237611846581 \n",
      " precision:0.8753356744474282 \n",
      " recall:0.8988227807826917 \n",
      "}\n",
      "=====Epoch 96\n",
      "Training...\n"
     ]
    },
    {
     "name": "stderr",
     "output_type": "stream",
     "text": [
      "Iteration: 100%|██████████| 214/214 [00:17<00:00, 12.30it/s]\n",
      "Iteration:  82%|████████▏ | 176/214 [00:14<00:03, 12.11it/s]"
     ]
    },
    {
     "name": "stdout",
     "output_type": "stream",
     "text": [
      "Evaluating...\n"
     ]
    },
    {
     "name": "stderr",
     "output_type": "stream",
     "text": [
      "Iteration: 100%|██████████| 214/214 [00:17<00:00, 12.34it/s]\n",
      "Iteration:   1%|▏         | 3/214 [00:00<00:09, 21.87it/s]]]"
     ]
    },
    {
     "name": "stdout",
     "output_type": "stream",
     "text": [
      "Evaluating...\n"
     ]
    },
    {
     "name": "stderr",
     "output_type": "stream",
     "text": [
      "Iteration: 100%|██████████| 214/214 [00:10<00:00, 21.05it/s]\n",
      "Iteration: 100%|██████████| 60/60 [00:02<00:00, 20.20it/s]s]\n",
      "Iteration: 100%|██████████| 24/24 [00:01<00:00, 19.32it/s]s]\n",
      "Iteration:  69%|██████▊   | 147/214 [00:06<00:02, 22.35it/s]"
     ]
    },
    {
     "name": "stdout",
     "output_type": "stream",
     "text": [
      "{'Train':  best_epoch_indx:97\n",
      " auc:0.9988727198163249 \n",
      " apur:0.9989958325790899 \n",
      " f1:0.9837451901271415 \n",
      " precision:0.9771828857109638 \n",
      " recall:0.9903962291942848 \n",
      ", 'Validation':  best_epoch_indx:97\n",
      " auc:0.947063550931822 \n",
      " apur:0.9431406746484204 \n",
      " f1:0.8902920284135754 \n",
      " precision:0.8835509138381201 \n",
      " recall:0.897136797454931 \n",
      ", 'Test':  best_epoch_indx:97\n",
      " auc:0.9470247038421694 \n",
      " apur:0.9441956854752596 \n",
      " f1:0.8911917098445596 \n",
      " precision:0.879727216367018 \n",
      " recall:0.9029589564110723 \n",
      "}\n",
      "=====Epoch 98\n",
      "Training...\n"
     ]
    },
    {
     "name": "stderr",
     "output_type": "stream",
     "text": [
      "Iteration: 100%|██████████| 214/214 [00:09<00:00, 22.22it/s]\n",
      "Iteration: 100%|██████████| 214/214 [00:17<00:00, 12.34it/s]\n",
      "Iteration:  95%|█████████▌| 204/214 [00:09<00:00, 21.25it/s]"
     ]
    },
    {
     "name": "stdout",
     "output_type": "stream",
     "text": [
      "Evaluating...\n"
     ]
    },
    {
     "name": "stderr",
     "output_type": "stream",
     "text": [
      "Iteration: 100%|██████████| 214/214 [00:09<00:00, 22.12it/s]\n",
      "Iteration: 100%|██████████| 60/60 [00:02<00:00, 22.16it/s]]]\n",
      "Iteration: 100%|██████████| 24/24 [00:01<00:00, 19.46it/s]s]\n",
      "Iteration:   1%|          | 2/214 [00:00<00:19, 10.92it/s]]]"
     ]
    },
    {
     "name": "stdout",
     "output_type": "stream",
     "text": [
      "{'Train':  best_epoch_indx:94\n",
      " auc:0.9950296739485195 \n",
      " apur:0.9955639413359186 \n",
      " f1:0.9655322356215214 \n",
      " precision:0.9503523839415642 \n",
      " recall:0.9812048902636618 \n",
      ", 'Validation':  best_epoch_indx:94\n",
      " auc:0.9388691605737567 \n",
      " apur:0.936654472379655 \n",
      " f1:0.8837991718426501 \n",
      " precision:0.8632457027300303 \n",
      " recall:0.9053552492046659 \n",
      ", 'Test':  best_epoch_indx:94\n",
      " auc:0.941244187863869 \n",
      " apur:0.9386051672297643 \n",
      " f1:0.8828363222905575 \n",
      " precision:0.8609879032258064 \n",
      " recall:0.9058224626153357 \n",
      "}\n",
      "=====Epoch 95\n",
      "Training...\n"
     ]
    },
    {
     "name": "stderr",
     "output_type": "stream",
     "text": [
      "Iteration: 100%|██████████| 214/214 [00:17<00:00, 12.38it/s]\n",
      "Iteration:  63%|██████▎   | 38/60 [00:02<00:01, 19.47it/s]]"
     ]
    },
    {
     "name": "stdout",
     "output_type": "stream",
     "text": [
      "Evaluating...\n"
     ]
    },
    {
     "name": "stderr",
     "output_type": "stream",
     "text": [
      "Iteration: 100%|██████████| 60/60 [00:03<00:00, 19.42it/s]]\n",
      "Iteration: 100%|██████████| 24/24 [00:01<00:00, 18.40it/s]]]\n",
      "Iteration:  17%|█▋        | 36/214 [00:03<00:19,  9.27it/s]]"
     ]
    },
    {
     "name": "stdout",
     "output_type": "stream",
     "text": [
      "{'Train':  best_epoch_indx:95\n",
      " auc:0.9969969198392198 \n",
      " apur:0.9973110183145731 \n",
      " f1:0.9745474781793685 \n",
      " precision:0.9689565799819447 \n",
      " recall:0.980203269995581 \n",
      ", 'Validation':  best_epoch_indx:95\n",
      " auc:0.9459676675148538 \n",
      " apur:0.9451625734363348 \n",
      " f1:0.887229862475442 \n",
      " precision:0.8767797048925705 \n",
      " recall:0.897932131495228 \n",
      ", 'Test':  best_epoch_indx:95\n",
      " auc:0.9446256674790845 \n",
      " apur:0.9419218724181956 \n",
      " f1:0.8876156433978133 \n",
      " precision:0.8799374674309536 \n",
      " recall:0.8954289956517129 \n",
      "}\n",
      "=====Epoch 96\n",
      "Training...\n"
     ]
    },
    {
     "name": "stderr",
     "output_type": "stream",
     "text": [
      "Iteration: 100%|██████████| 214/214 [00:10<00:00, 21.39it/s]\n",
      "Iteration: 100%|██████████| 214/214 [00:09<00:00, 21.91it/s]\n",
      "Iteration: 100%|██████████| 60/60 [00:02<00:00, 20.76it/s]s]\n",
      "Iteration: 100%|██████████| 24/24 [00:01<00:00, 22.53it/s]s]\n",
      "Iteration:  47%|████▋     | 28/60 [00:01<00:01, 20.96it/s]s]"
     ]
    },
    {
     "name": "stdout",
     "output_type": "stream",
     "text": [
      "{'Train':  best_epoch_indx:97\n",
      " auc:0.9984035627301197 \n",
      " apur:0.9985614506685501 \n",
      " f1:0.9808870732419025 \n",
      " precision:0.9716441207075962 \n",
      " recall:0.9903075654018383 \n",
      ", 'Validation':  best_epoch_indx:97\n",
      " auc:0.9470006821226159 \n",
      " apur:0.9438422047056226 \n",
      " f1:0.892391870766024 \n",
      " precision:0.8773053278688525 \n",
      " recall:0.9080063626723224 \n",
      ", 'Test':  best_epoch_indx:97\n",
      " auc:0.9481850449924941 \n",
      " apur:0.9473783339356603 \n",
      " f1:0.8928199791883454 \n",
      " precision:0.8764044943820225 \n",
      " recall:0.9098621420996819 \n",
      "}\n",
      "=====Epoch 98\n",
      "Training...\n",
      "Evaluating...\n"
     ]
    },
    {
     "name": "stderr",
     "output_type": "stream",
     "text": [
      "Iteration: 100%|██████████| 214/214 [00:17<00:00, 12.01it/s]\n",
      "Iteration: 100%|██████████| 60/60 [00:02<00:00, 21.37it/s]s]\n",
      "Iteration: 100%|██████████| 24/24 [00:01<00:00, 21.51it/s]s]\n",
      "Iteration:  15%|█▍        | 32/214 [00:03<00:15, 11.61it/s]]"
     ]
    },
    {
     "name": "stdout",
     "output_type": "stream",
     "text": [
      "{'Train':  best_epoch_indx:96\n",
      " auc:0.9970216765589291 \n",
      " apur:0.9973027999916658 \n",
      " f1:0.972618599670034 \n",
      " precision:0.9559070349614542 \n",
      " recall:0.989924878479894 \n",
      ", 'Validation':  best_epoch_indx:96\n",
      " auc:0.944693206553451 \n",
      " apur:0.944142669863839 \n",
      " f1:0.890909090909091 \n",
      " precision:0.8615651312530956 \n",
      " recall:0.922322375397667 \n",
      ", 'Test':  best_epoch_indx:96\n",
      " auc:0.9466085047098409 \n",
      " apur:0.9422108281540038 \n",
      " f1:0.8940475579066303 \n",
      " precision:0.866759609639514 \n",
      " recall:0.9231095556262594 \n",
      "}\n",
      "=====Epoch 97\n",
      "Training...\n"
     ]
    },
    {
     "name": "stderr",
     "output_type": "stream",
     "text": [
      "Iteration: 100%|██████████| 214/214 [00:18<00:00, 11.77it/s]\n",
      "Iteration:  85%|████████▌ | 182/214 [00:14<00:02, 12.56it/s]"
     ]
    },
    {
     "name": "stdout",
     "output_type": "stream",
     "text": [
      "Evaluating...\n"
     ]
    },
    {
     "name": "stderr",
     "output_type": "stream",
     "text": [
      "Iteration: 100%|██████████| 214/214 [00:17<00:00, 12.37it/s]\n",
      "Iteration:  27%|██▋       | 57/214 [00:02<00:07, 20.92it/s]]"
     ]
    },
    {
     "name": "stdout",
     "output_type": "stream",
     "text": [
      "Evaluating...\n"
     ]
    },
    {
     "name": "stderr",
     "output_type": "stream",
     "text": [
      "Iteration: 100%|██████████| 214/214 [00:09<00:00, 21.65it/s]\n",
      "Iteration: 100%|██████████| 60/60 [00:02<00:00, 22.27it/s]s]\n",
      "Iteration: 100%|██████████| 24/24 [00:01<00:00, 18.82it/s]s]\n",
      "Iteration:  69%|██████▉   | 148/214 [00:12<00:05, 12.57it/s]"
     ]
    },
    {
     "name": "stdout",
     "output_type": "stream",
     "text": [
      "{'Train':  best_epoch_indx:98\n",
      " auc:0.9993435761958784 \n",
      " apur:0.9994150250206806 \n",
      " f1:0.9868698093344251 \n",
      " precision:0.979678927047348 \n",
      " recall:0.9941670349094123 \n",
      ", 'Validation':  best_epoch_indx:98\n",
      " auc:0.9495659753053219 \n",
      " apur:0.9446537741004816 \n",
      " f1:0.8943238294533089 \n",
      " precision:0.8825503355704698 \n",
      " recall:0.9064156945917285 \n",
      ", 'Test':  best_epoch_indx:98\n",
      " auc:0.9482865253542792 \n",
      " apur:0.9457440384411994 \n",
      " f1:0.8932484608160283 \n",
      " precision:0.8791208791208791 \n",
      " recall:0.9078375225368543 \n",
      "}\n",
      "=====Epoch 99\n",
      "Training...\n"
     ]
    },
    {
     "name": "stderr",
     "output_type": "stream",
     "text": [
      "Iteration: 100%|██████████| 214/214 [00:09<00:00, 21.69it/s]\n",
      "Iteration: 100%|██████████| 214/214 [00:17<00:00, 11.93it/s]\n",
      "Iteration:  86%|████████▌ | 184/214 [00:15<00:02, 12.29it/s]"
     ]
    },
    {
     "name": "stdout",
     "output_type": "stream",
     "text": [
      "Evaluating...\n"
     ]
    },
    {
     "name": "stderr",
     "output_type": "stream",
     "text": [
      "Iteration: 100%|██████████| 214/214 [00:10<00:00, 21.08it/s]\n",
      "Iteration: 100%|██████████| 60/60 [00:03<00:00, 18.99it/s]]]\n",
      "Iteration: 100%|██████████| 214/214 [00:17<00:00, 12.27it/s]\n",
      "Iteration:  27%|██▋       | 57/214 [00:02<00:07, 22.25it/s]"
     ]
    },
    {
     "name": "stdout",
     "output_type": "stream",
     "text": [
      "Evaluating...\n"
     ]
    },
    {
     "name": "stderr",
     "output_type": "stream",
     "text": [
      "Iteration: 100%|██████████| 24/24 [00:01<00:00, 19.66it/s]]\n",
      "Iteration:  34%|███▎      | 72/214 [00:03<00:06, 20.65it/s]"
     ]
    },
    {
     "name": "stdout",
     "output_type": "stream",
     "text": [
      "{'Train':  best_epoch_indx:95\n",
      " auc:0.9961094702401664 \n",
      " apur:0.9965339823230681 \n",
      " f1:0.971436954448764 \n",
      " precision:0.9675336060783167 \n",
      " recall:0.9753719251730741 \n",
      ", 'Validation':  best_epoch_indx:95\n",
      " auc:0.9419984496060114 \n",
      " apur:0.9409940746938774 \n",
      " f1:0.8811854988092088 \n",
      " precision:0.8795562599049128 \n",
      " recall:0.8828207847295865 \n",
      ", 'Test':  best_epoch_indx:95\n",
      " auc:0.9435682748072856 \n",
      " apur:0.940898495314107 \n",
      " f1:0.8859379959792615 \n",
      " precision:0.8838805024807347 \n",
      " recall:0.8880050906776965 \n",
      "}\n",
      "=====Epoch 96\n",
      "Training...\n"
     ]
    },
    {
     "name": "stderr",
     "output_type": "stream",
     "text": [
      "Iteration: 100%|██████████| 60/60 [00:02<00:00, 22.73it/s]]\n",
      "Iteration: 100%|██████████| 24/24 [00:01<00:00, 22.41it/s]]]\n",
      "Iteration:  29%|██▉       | 63/214 [00:02<00:06, 22.37it/s]]"
     ]
    },
    {
     "name": "stdout",
     "output_type": "stream",
     "text": [
      "{'Train':  best_epoch_indx:96\n",
      " auc:0.9976962996182932 \n",
      " apur:0.9979221799282219 \n",
      " f1:0.9774945928567254 \n",
      " precision:0.9698692109155236 \n",
      " recall:0.9852408307556341 \n",
      ", 'Validation':  best_epoch_indx:96\n",
      " auc:0.9454056932978837 \n",
      " apur:0.9442096311969637 \n",
      " f1:0.8865898376113148 \n",
      " precision:0.8760351966873706 \n",
      " recall:0.8974019088016967 \n",
      ", 'Test':  best_epoch_indx:96\n",
      " auc:0.9452997433348507 \n",
      " apur:0.9427847910004459 \n",
      " f1:0.8877465379773395 \n",
      " precision:0.8782563570316554 \n",
      " recall:0.8974440555732315 \n",
      "}\n",
      "=====Epoch 97\n",
      "Training...\n"
     ]
    },
    {
     "name": "stderr",
     "output_type": "stream",
     "text": [
      "Iteration: 100%|██████████| 214/214 [00:10<00:00, 20.72it/s]\n",
      "Iteration: 100%|██████████| 214/214 [00:09<00:00, 22.31it/s]\n",
      "Iteration: 100%|██████████| 60/60 [00:02<00:00, 21.72it/s]s]\n",
      "Iteration: 100%|██████████| 214/214 [00:17<00:00, 12.22it/s]\n",
      "Iteration:   0%|          | 0/214 [00:00<?, ?it/s]"
     ]
    },
    {
     "name": "stdout",
     "output_type": "stream",
     "text": [
      "Evaluating...\n"
     ]
    },
    {
     "name": "stderr",
     "output_type": "stream",
     "text": [
      "Iteration: 100%|██████████| 24/24 [00:01<00:00, 21.45it/s]]]\n",
      "Iteration: 100%|██████████| 60/60 [00:02<00:00, 22.49it/s]s]\n",
      "Iteration:   7%|▋         | 15/214 [00:00<00:09, 21.81it/s]"
     ]
    },
    {
     "name": "stdout",
     "output_type": "stream",
     "text": [
      "{'Train':  best_epoch_indx:98\n",
      " auc:0.999124911501668 \n",
      " apur:0.9992126763229691 \n",
      " f1:0.9859855466807105 \n",
      " precision:0.979252629743709 \n",
      " recall:0.9928116898420929 \n",
      ", 'Validation':  best_epoch_indx:98\n",
      " auc:0.9480963673403117 \n",
      " apur:0.9452018660256215 \n",
      " f1:0.894240837696335 \n",
      " precision:0.8831437435367114 \n",
      " recall:0.9056203605514316 \n",
      ", 'Test':  best_epoch_indx:98\n",
      " auc:0.9495113121574946 \n",
      " apur:0.948021407084632 \n",
      " f1:0.8961228968544258 \n",
      " precision:0.8832921302018953 \n",
      " recall:0.9093319194061505 \n",
      "}\n",
      "=====Epoch 99\n",
      "Training...\n"
     ]
    },
    {
     "name": "stderr",
     "output_type": "stream",
     "text": [
      "Iteration: 100%|██████████| 24/24 [00:01<00:00, 19.31it/s]]]\n",
      "Iteration:  68%|██████▊   | 146/214 [00:11<00:05, 12.43it/s]"
     ]
    },
    {
     "name": "stdout",
     "output_type": "stream",
     "text": [
      "{'Train':  best_epoch_indx:97\n",
      " auc:0.9983008711457966 \n",
      " apur:0.998480684162947 \n",
      " f1:0.9805249788314987 \n",
      " precision:0.9718982432784418 \n",
      " recall:0.9893062306672559 \n",
      ", 'Validation':  best_epoch_indx:97\n",
      " auc:0.947454082778164 \n",
      " apur:0.9461099526820035 \n",
      " f1:0.8942771476991266 \n",
      " precision:0.8797127468581688 \n",
      " recall:0.9093319194061505 \n",
      ", 'Test':  best_epoch_indx:97\n",
      " auc:0.9491427939660856 \n",
      " apur:0.9455982983122448 \n",
      " f1:0.8962858780017711 \n",
      " precision:0.8807330057330057 \n",
      " recall:0.9123979213066072 \n",
      "}\n",
      "=====Epoch 98\n",
      "Training...\n"
     ]
    },
    {
     "name": "stderr",
     "output_type": "stream",
     "text": [
      "Iteration: 100%|██████████| 214/214 [00:17<00:00, 12.25it/s]\n",
      "Iteration:  89%|████████▉ | 190/214 [00:15<00:01, 12.30it/s]"
     ]
    },
    {
     "name": "stdout",
     "output_type": "stream",
     "text": [
      "Evaluating...\n"
     ]
    },
    {
     "name": "stderr",
     "output_type": "stream",
     "text": [
      "Iteration: 100%|██████████| 214/214 [00:17<00:00, 12.41it/s]\n",
      "Iteration:  79%|███████▊  | 168/214 [00:07<00:02, 20.08it/s]"
     ]
    },
    {
     "name": "stdout",
     "output_type": "stream",
     "text": [
      "Evaluating...\n"
     ]
    },
    {
     "name": "stderr",
     "output_type": "stream",
     "text": [
      "Iteration: 100%|██████████| 214/214 [00:10<00:00, 20.59it/s]\n",
      "Iteration: 100%|██████████| 60/60 [00:02<00:00, 21.25it/s]s]\n",
      "Iteration: 100%|██████████| 214/214 [00:09<00:00, 21.95it/s]\n",
      "Iteration: 100%|██████████| 214/214 [00:10<00:00, 21.20it/s]\n",
      "Iteration: 100%|██████████| 214/214 [00:17<00:00, 12.23it/s]\n",
      "Iteration:  70%|███████   | 42/60 [00:01<00:00, 22.59it/s]s]"
     ]
    },
    {
     "name": "stdout",
     "output_type": "stream",
     "text": [
      "Evaluating...\n"
     ]
    },
    {
     "name": "stderr",
     "output_type": "stream",
     "text": [
      "Iteration: 100%|██████████| 60/60 [00:02<00:00, 22.59it/s]s]\n",
      "Iteration: 100%|██████████| 214/214 [00:17<00:00, 12.15it/s]\n",
      "Iteration:  75%|███████▌  | 18/24 [00:00<00:00, 22.13it/s]]"
     ]
    },
    {
     "name": "stdout",
     "output_type": "stream",
     "text": [
      "Evaluating...\n"
     ]
    },
    {
     "name": "stderr",
     "output_type": "stream",
     "text": [
      "\r",
      "Iteration:   3%|▎         | 6/214 [00:00<00:09, 21.74it/s]\r",
      "Iteration:  60%|██████    | 36/60 [00:01<00:01, 22.17it/s]\r",
      "Iteration:  20%|█▉        | 42/214 [00:02<00:08, 20.67it/s]\r",
      "Iteration:  88%|████████▊ | 21/24 [00:00<00:00, 22.13it/s]\r",
      "Iteration:   4%|▍         | 9/214 [00:00<00:09, 21.92it/s]\r",
      "Iteration: 100%|██████████| 24/24 [00:01<00:00, 22.53it/s]\r",
      "Iteration: 100%|██████████| 24/24 [00:01<00:00, 22.29it/s]\n",
      "\r",
      "Iteration:  21%|██        | 45/214 [00:02<00:08, 21.10it/s]\r",
      "Iteration:  65%|██████▌   | 39/60 [00:01<00:00, 21.99it/s]"
     ]
    },
    {
     "name": "stdout",
     "output_type": "stream",
     "text": [
      "{'Train':  best_epoch_indx:96\n",
      " auc:0.9980465783242359 \n",
      " apur:0.9982348681763686 \n",
      " f1:0.9792379448489633 \n",
      " precision:0.9720746610932103 \n",
      " recall:0.9865075858005597 \n",
      ", 'Validation':  best_epoch_indx:96\n",
      " auc:0.944320988319879 \n",
      " apur:0.9432621517727596 \n",
      " f1:0.8849071409887521 \n",
      " precision:0.8732576148683531 \n",
      " recall:0.8968716861081655 \n",
      ", 'Test':  best_epoch_indx:96\n",
      " auc:0.9462132249027103 \n",
      " apur:0.9435420116557024 \n",
      " f1:0.8911233307148468 \n",
      " precision:0.8801986343885785 \n",
      " recall:0.9023226216990137 \n",
      "}\n",
      "=====Epoch 97\n",
      "Training...\n"
     ]
    },
    {
     "name": "stderr",
     "output_type": "stream",
     "text": [
      "Iteration: 100%|██████████| 60/60 [00:02<00:00, 22.32it/s]]\n",
      "Iteration: 100%|██████████| 24/24 [00:01<00:00, 22.11it/s]]\n",
      "Iteration:  46%|████▋     | 99/214 [00:04<00:05, 22.04it/s]"
     ]
    },
    {
     "name": "stdout",
     "output_type": "stream",
     "text": [
      "{'Train':  best_epoch_indx:97\n",
      " auc:0.9983365833747437 \n",
      " apur:0.9984924859393831 \n",
      " f1:0.9812095095711312 \n",
      " precision:0.9764009217934133 \n",
      " recall:0.9860656945058183 \n",
      ", 'Validation':  best_epoch_indx:97\n",
      " auc:0.9462402311542618 \n",
      " apur:0.944972645444945 \n",
      " f1:0.8826948480845442 \n",
      " precision:0.8796735123749342 \n",
      " recall:0.8857370095440085 \n",
      ", 'Test':  best_epoch_indx:97\n",
      " auc:0.9474556126091701 \n",
      " apur:0.9444518600315779 \n",
      " f1:0.8899415758724143 \n",
      " precision:0.883385579937304 \n",
      " recall:0.8965956092904868 \n",
      "}\n",
      "=====Epoch 98\n",
      "Training...\n"
     ]
    },
    {
     "name": "stderr",
     "output_type": "stream",
     "text": [
      "Iteration: 100%|██████████| 214/214 [00:10<00:00, 20.93it/s]\n",
      "Iteration: 100%|██████████| 214/214 [00:10<00:00, 20.20it/s]\n",
      "Iteration: 100%|██████████| 60/60 [00:02<00:00, 22.68it/s]s]\n",
      "Iteration: 100%|██████████| 24/24 [00:01<00:00, 21.17it/s]s]\n",
      "Iteration:  45%|████▌     | 27/60 [00:01<00:01, 20.06it/s]s]"
     ]
    },
    {
     "name": "stdout",
     "output_type": "stream",
     "text": [
      "{'Train':  best_epoch_indx:99\n",
      " auc:0.9996431259767549 \n",
      " apur:0.9996822353718526 \n",
      " f1:0.9898165218154684 \n",
      " precision:0.9832563006889334 \n",
      " recall:0.996464869642068 \n",
      ", 'Validation':  best_epoch_indx:99\n",
      " auc:0.9510123939554613 \n",
      " apur:0.9462003066901558 \n",
      " f1:0.8934275988478659 \n",
      " precision:0.8825659596482152 \n",
      " recall:0.9045599151643691 \n",
      ", 'Test':  best_epoch_indx:99\n",
      " auc:0.9494295590580057 \n",
      " apur:0.9468539911108715 \n",
      " f1:0.8960517394252334 \n",
      " precision:0.881568144499179 \n",
      " recall:0.9110191960971471 \n",
      "}\n",
      "Finished training!\n"
     ]
    },
    {
     "name": "stderr",
     "output_type": "stream",
     "text": [
      "Iteration: 100%|██████████| 24/24 [00:01<00:00, 22.02it/s]s]\n",
      "Iteration:  58%|█████▊    | 124/214 [00:10<00:07, 12.10it/s]"
     ]
    },
    {
     "name": "stdout",
     "output_type": "stream",
     "text": [
      "{'Train':  best_epoch_indx:99\n",
      " auc:0.9994604151822317 \n",
      " apur:0.9995161294692201 \n",
      " f1:0.9886154116304252 \n",
      " precision:0.9821480490783276 \n",
      " recall:0.9951685128446853 \n",
      ", 'Validation':  best_epoch_indx:99\n",
      " auc:0.9497569601242093 \n",
      " apur:0.9470214677012969 \n",
      " f1:0.8980601484181747 \n",
      " precision:0.882322844717319 \n",
      " recall:0.9143690349946978 \n",
      ", 'Test':  best_epoch_indx:99\n",
      " auc:0.9510910446725463 \n",
      " apur:0.9500680170326612 \n",
      " f1:0.8962633916906193 \n",
      " precision:0.8835651725914477 \n",
      " recall:0.9093319194061505 \n",
      "}\n",
      "Finished training!\n"
     ]
    },
    {
     "name": "stderr",
     "output_type": "stream",
     "text": [
      "Iteration: 100%|██████████| 60/60 [00:02<00:00, 20.95it/s]s]\n",
      "Iteration: 100%|██████████| 214/214 [00:17<00:00, 12.27it/s]\n",
      "Iteration:  84%|████████▍ | 180/214 [00:15<00:02, 11.77it/s]"
     ]
    },
    {
     "name": "stdout",
     "output_type": "stream",
     "text": [
      "Evaluating...\n"
     ]
    },
    {
     "name": "stderr",
     "output_type": "stream",
     "text": [
      "Iteration: 100%|██████████| 214/214 [00:18<00:00, 11.49it/s]\n",
      "Iteration:  38%|███▊      | 81/214 [00:03<00:05, 23.22it/s]"
     ]
    },
    {
     "name": "stdout",
     "output_type": "stream",
     "text": [
      "Evaluating...\n"
     ]
    },
    {
     "name": "stderr",
     "output_type": "stream",
     "text": [
      "Iteration: 100%|██████████| 214/214 [00:09<00:00, 23.30it/s]\n",
      "Iteration: 100%|██████████| 60/60 [00:02<00:00, 23.66it/s]s]\n",
      "Iteration: 100%|██████████| 214/214 [00:09<00:00, 23.26it/s]\n",
      "Iteration: 100%|██████████| 24/24 [00:01<00:00, 23.70it/s]\n",
      "Iteration: 100%|██████████| 24/24 [00:01<00:00, 22.87it/s]\n",
      "Iteration:  20%|██        | 12/60 [00:00<00:02, 23.45it/s]"
     ]
    },
    {
     "name": "stdout",
     "output_type": "stream",
     "text": [
      "{'Train':  best_epoch_indx:97\n",
      " auc:0.9985861974797423 \n",
      " apur:0.9987342478301151 \n",
      " f1:0.9821598442828082 \n",
      " precision:0.9758899488134016 \n",
      " recall:0.9885108263367212 \n",
      ", 'Validation':  best_epoch_indx:97\n",
      " auc:0.9483912482177922 \n",
      " apur:0.9469456896455981 \n",
      " f1:0.8912161277654144 \n",
      " precision:0.8802689423325576 \n",
      " recall:0.9024390243902439 \n",
      ", 'Test':  best_epoch_indx:97\n",
      " auc:0.9471654942174225 \n",
      " apur:0.9442704301368121 \n",
      " f1:0.8936861409483888 \n",
      " precision:0.8831814415907208 \n",
      " recall:0.9044437374058755 \n",
      "}\n",
      "=====Epoch 98\n",
      "Training...\n",
      "{'Train':  best_epoch_indx:98\n",
      " auc:0.9988596319737899 \n",
      " apur:0.9989738473656766 \n",
      " f1:0.9836209161776298 \n",
      " precision:0.9749110165813004 \n",
      " recall:0.9924878479893946 \n",
      ", 'Validation':  best_epoch_indx:98\n",
      " auc:0.9491990688122502 \n",
      " apur:0.9476159565689579 \n",
      " f1:0.8932796048355647 \n",
      " precision:0.876307064524356 \n",
      " recall:0.9109225874867445 \n",
      ", 'Test':  best_epoch_indx:98\n",
      " auc:0.9500391556437153 \n",
      " apur:0.9457631172487858 \n",
      " f1:0.8981206726013848 \n",
      " precision:0.8820040899795502 \n",
      " recall:0.9148372043694983 \n",
      "}\n",
      "=====Epoch 99\n",
      "Training...\n"
     ]
    },
    {
     "name": "stderr",
     "output_type": "stream",
     "text": [
      "Iteration: 100%|██████████| 60/60 [00:02<00:00, 23.92it/s]]\n",
      "Iteration: 100%|██████████| 24/24 [00:00<00:00, 24.12it/s]]\n",
      "Iteration:  15%|█▍        | 32/214 [00:03<00:18,  9.87it/s]"
     ]
    },
    {
     "name": "stdout",
     "output_type": "stream",
     "text": [
      "{'Train':  best_epoch_indx:98\n",
      " auc:0.9991584506710318 \n",
      " apur:0.9992429227986549 \n",
      " f1:0.9863017708180886 \n",
      " precision:0.9799912752653773 \n",
      " recall:0.9926940639269406 \n",
      ", 'Validation':  best_epoch_indx:98\n",
      " auc:0.9486573505609198 \n",
      " apur:0.9468285859215584 \n",
      " f1:0.8920825712045989 \n",
      " precision:0.8794435857805255 \n",
      " recall:0.9050901378579003 \n",
      ", 'Test':  best_epoch_indx:98\n",
      " auc:0.9495786883182852 \n",
      " apur:0.9471850651447186 \n",
      " f1:0.8930310487460076 \n",
      " precision:0.8819027921406412 \n",
      " recall:0.9044437374058755 \n",
      "}\n",
      "=====Epoch 99\n",
      "Training...\n"
     ]
    },
    {
     "name": "stderr",
     "output_type": "stream",
     "text": [
      "Iteration: 100%|██████████| 214/214 [00:20<00:00, 10.46it/s]\n",
      "Iteration:   1%|          | 2/214 [00:00<00:12, 16.51it/s]s]"
     ]
    },
    {
     "name": "stdout",
     "output_type": "stream",
     "text": [
      "Evaluating...\n"
     ]
    },
    {
     "name": "stderr",
     "output_type": "stream",
     "text": [
      "\r",
      "Iteration:  83%|████████▎ | 177/214 [00:17<00:03, 10.09it/s]\r",
      "Iteration:   2%|▏         | 5/214 [00:00<00:11, 18.89it/s]\r",
      "Iteration: 100%|█████████▉| 213/214 [00:20<00:00, 10.36it/s]\r",
      "Iteration: 100%|██████████| 214/214 [00:20<00:00, 10.24it/s]\n",
      "\r",
      "Iteration:   0%|          | 0/214 [00:00<?, ?it/s]\r",
      "Iteration:   4%|▎         | 8/214 [00:00<00:10, 19.62it/s]\r",
      "Iteration:  84%|████████▎ | 179/214 [00:17<00:03, 10.09it/s]"
     ]
    },
    {
     "name": "stdout",
     "output_type": "stream",
     "text": [
      "Evaluating...\n"
     ]
    },
    {
     "name": "stderr",
     "output_type": "stream",
     "text": [
      "Iteration: 100%|██████████| 214/214 [00:21<00:00, 10.15it/s]\n",
      "Iteration:  43%|████▎     | 92/214 [00:04<00:05, 23.73it/s]"
     ]
    },
    {
     "name": "stdout",
     "output_type": "stream",
     "text": [
      "Evaluating...\n"
     ]
    },
    {
     "name": "stderr",
     "output_type": "stream",
     "text": [
      "Iteration: 100%|██████████| 214/214 [00:09<00:00, 22.35it/s]\n",
      "Iteration: 100%|██████████| 214/214 [00:09<00:00, 23.09it/s]\n",
      "Iteration: 100%|██████████| 60/60 [00:02<00:00, 24.02it/s]s]\n",
      "Iteration: 100%|██████████| 60/60 [00:02<00:00, 23.93it/s]\n",
      "Iteration: 100%|██████████| 214/214 [00:09<00:00, 22.10it/s]\n",
      "Iteration: 100%|██████████| 24/24 [00:01<00:00, 23.62it/s]\n",
      "Iteration:   0%|          | 0/214 [00:00<?, ?it/s]"
     ]
    },
    {
     "name": "stdout",
     "output_type": "stream",
     "text": [
      "{'Train':  best_epoch_indx:98\n",
      " auc:0.9992688598653467 \n",
      " apur:0.9993473355404316 \n",
      " f1:0.9862673484295106 \n",
      " precision:0.9782640197072888 \n",
      " recall:0.9944027102666078 \n",
      ", 'Validation':  best_epoch_indx:98\n",
      " auc:0.9489125519440653 \n",
      " apur:0.9488107040914519 \n",
      " f1:0.8919516317774021 \n",
      " precision:0.875223271242664 \n",
      " recall:0.9093319194061505 \n",
      ", 'Test':  best_epoch_indx:98\n",
      " auc:0.9492762517246753 \n",
      " apur:0.946765170688264 \n",
      " f1:0.8966127269889173 \n",
      " precision:0.8800817160367722 \n",
      " recall:0.9137766465160675 \n",
      "}\n",
      "=====Epoch 99\n",
      "Training...\n"
     ]
    },
    {
     "name": "stderr",
     "output_type": "stream",
     "text": [
      "Iteration: 100%|██████████| 60/60 [00:02<00:00, 24.01it/s]]\n",
      "Iteration: 100%|██████████| 24/24 [00:01<00:00, 22.83it/s]s]\n",
      "Iteration:  71%|███████▏  | 153/214 [00:16<00:06,  9.35it/s]"
     ]
    },
    {
     "name": "stdout",
     "output_type": "stream",
     "text": [
      "{'Train':  best_epoch_indx:99\n",
      " auc:0.9992456743016334 \n",
      " apur:0.9993225779312194 \n",
      " f1:0.9868492268983777 \n",
      " precision:0.9800964667596467 \n",
      " recall:0.9936956841950214 \n",
      ", 'Validation':  best_epoch_indx:99\n",
      " auc:0.9509008870448076 \n",
      " apur:0.9497945608682228 \n",
      " f1:0.8947849954254347 \n",
      " precision:0.8824439288476411 \n",
      " recall:0.9074761399787911 \n",
      ", 'Test':  best_epoch_indx:99\n",
      " auc:0.9510862472033494 \n",
      " apur:0.9472171329020479 \n",
      " f1:0.8973459666021043 \n",
      " precision:0.8859830473433946 \n",
      " recall:0.9090041361756284 \n",
      "}\n",
      "Finished training!\n"
     ]
    },
    {
     "name": "stderr",
     "output_type": "stream",
     "text": [
      "Iteration: 100%|██████████| 24/24 [00:01<00:00, 22.85it/s]s]\n",
      "Iteration:  89%|████████▉ | 191/214 [00:19<00:02, 10.06it/s]"
     ]
    },
    {
     "name": "stdout",
     "output_type": "stream",
     "text": [
      "{'Train':  best_epoch_indx:99\n",
      " auc:0.9994568831869404 \n",
      " apur:0.9995107915290751 \n",
      " f1:0.9892214867318845 \n",
      " precision:0.9835464049622877 \n",
      " recall:0.994962439239947 \n",
      ", 'Validation':  best_epoch_indx:99\n",
      " auc:0.9493140640300982 \n",
      " apur:0.9478740860347428 \n",
      " f1:0.8936170212765957 \n",
      " precision:0.8801748521470815 \n",
      " recall:0.9074761399787911 \n",
      ", 'Test':  best_epoch_indx:99\n",
      " auc:0.9501014443884563 \n",
      " apur:0.9473543484431725 \n",
      " f1:0.895634879095572 \n",
      " precision:0.8841583135269195 \n",
      " recall:0.907413299395482 \n",
      "}\n",
      "Finished training!\n"
     ]
    },
    {
     "name": "stderr",
     "output_type": "stream",
     "text": [
      "Iteration: 100%|██████████| 214/214 [00:22<00:00,  9.60it/s]\n",
      "Iteration:   1%|          | 2/214 [00:00<00:11, 18.85it/s]"
     ]
    },
    {
     "name": "stdout",
     "output_type": "stream",
     "text": [
      "Evaluating...\n"
     ]
    },
    {
     "name": "stderr",
     "output_type": "stream",
     "text": [
      "Iteration:  20%|█▉        | 42/214 [00:01<00:07, 23.03it/s]"
     ]
    },
    {
     "name": "stdout",
     "output_type": "stream",
     "text": [
      "<<< joined hyperparam search process\n",
      "released_gpu_num: 4\n",
      "<<< joined hyperparam search process\n",
      "released_gpu_num: 3\n"
     ]
    },
    {
     "name": "stderr",
     "output_type": "stream",
     "text": [
      "Iteration: 100%|██████████| 214/214 [00:09<00:00, 23.74it/s]\n",
      "Iteration: 100%|██████████| 60/60 [00:02<00:00, 26.23it/s]\n",
      "Iteration: 100%|██████████| 24/24 [00:00<00:00, 24.78it/s]\n"
     ]
    },
    {
     "name": "stdout",
     "output_type": "stream",
     "text": [
      "{'Train':  best_epoch_indx:99\n",
      " auc:0.9996038577332246 \n",
      " apur:0.9996465636151508 \n",
      " f1:0.9899604858773599 \n",
      " precision:0.9836265813581504 \n",
      " recall:0.9963764913831198 \n",
      ", 'Validation':  best_epoch_indx:99\n",
      " auc:0.9503669778448096 \n",
      " apur:0.9493841521653845 \n",
      " f1:0.8941943900848011 \n",
      " precision:0.8802979707166709 \n",
      " recall:0.9085365853658537 \n",
      ", 'Test':  best_epoch_indx:99\n",
      " auc:0.9512601672738232 \n",
      " apur:0.9493322405244476 \n",
      " f1:0.8991381561765475 \n",
      " precision:0.8858583779333059 \n",
      " recall:0.9128221444479796 \n",
      "}\n",
      "Finished training!\n",
      "<<< joined hyperparam search process\n",
      "released_gpu_num: 1\n",
      "<<< joined hyperparam search process\n",
      "released_gpu_num: 0\n",
      "<<< joined hyperparam search process\n",
      "released_gpu_num: 2\n"
     ]
    }
   ],
   "source": [
    "import torch.multiprocessing as mp\n",
    "mp.set_start_method(\"spawn\", force=True)\n",
    "\n",
    "queue = mp.Queue()\n",
    "q_processes = []\n",
    "\n",
    "# partition = fold_partitions[0]\n",
    "time_stamp = datetime.datetime.now().strftime('%Y-%m-%d_%H-%M-%S')\n",
    "\n",
    "print(\"Start: \" + time_stamp)\n",
    "\n",
    "for q_i in range(min(n_gpu, len(fold_partitions))):\n",
    "#     device_gpu = get_device(True, index=q_i)\n",
    "    partition = fold_partitions[q_i]\n",
    "    exp_dir = create_directory(os.path.join(targetdata_dir_exp, \"fold_\"+str(q_i)+\"_\"+time_stamp))\n",
    "    create_directory(os.path.join(exp_dir, \"predictions\"))\n",
    "\n",
    "#     tphp = generate_tp_hp(tp, hyperparam_space[q_i], hp_names)\n",
    "    \n",
    "    q_process = create_q_process(queue, dataset, q_i, tp, exp_dir, partition)\n",
    "    q_processes.append(q_process)\n",
    "    spawn_q_process(q_process)\n",
    "\n",
    "spawned_processes = n_gpu\n",
    "    \n",
    "# for q_i in range(len(hyperparam_space)):\n",
    "for q_i in range(min(n_gpu, len(fold_partitions))):\n",
    "    join_q_process(q_processes[q_i])\n",
    "    released_gpu_num = queue.get()\n",
    "    print(\"released_gpu_num:\", released_gpu_num)\n",
    "#     if(spawned_processes < len(hyperparam_space)):\n",
    "# #         device_gpu = get_device(True, index=q_i)\n",
    "#         time_stamp = datetime.datetime.now().strftime('%Y-%m-%d_%H-%M-%S')\n",
    "#         exp_dir = create_directory(os.path.join(targetdata_dir_exp, \"exp_\"+str(q_i)+\"_\"+time_stamp))\n",
    "#         tphp = generate_tp_hp(tp, hyperparam_space[q_i], hp_names)\n",
    "\n",
    "#         q_process = create_q_process(queue, used_dataset, released_gpu_num, tphp, exp_dir, partition)\n",
    "#         q_processes.append(q_process)\n",
    "#         spawn_q_process(q_process)\n",
    "#         spawned_processes = spawned_processes + 1"
   ]
  },
  {
   "cell_type": "code",
   "execution_count": 40,
   "metadata": {},
   "outputs": [
    {
     "name": "stdout",
     "output_type": "stream",
     "text": [
      "End: 2022-03-31_16-32-38\n"
     ]
    }
   ],
   "source": [
    "print(\"End: \" + datetime.datetime.now().strftime('%Y-%m-%d_%H-%M-%S'))\n"
   ]
  },
  {
   "cell_type": "code",
   "execution_count": null,
   "metadata": {},
   "outputs": [],
   "source": []
  }
 ],
 "metadata": {
  "kernelspec": {
   "display_name": "Python 3 (ipykernel)",
   "language": "python",
   "name": "python3"
  },
  "language_info": {
   "codemirror_mode": {
    "name": "ipython",
    "version": 3
   },
   "file_extension": ".py",
   "mimetype": "text/x-python",
   "name": "python",
   "nbconvert_exporter": "python",
   "pygments_lexer": "ipython3",
   "version": "3.9.9"
  }
 },
 "nbformat": 4,
 "nbformat_minor": 4
}
